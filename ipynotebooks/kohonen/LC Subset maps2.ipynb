{
 "metadata": {
  "name": "LC Subset maps2"
 },
 "nbformat": 3,
 "nbformat_minor": 0,
 "worksheets": [
  {
   "cells": [
    {
     "cell_type": "code",
     "collapsed": false,
     "input": [
      "import os\n",
      "import pandas as pd\n",
      "from pandas import HDFStore\n",
      "import gdal\n",
      "import osr\n",
      "import matplotlib.pyplot as plt\n",
      "from mpl_toolkits.basemap import Basemap\n",
      "import numpy as np\n",
      "import numpy.ma as ma\n",
      "import decimal\n",
      "import subprocess as sp\n",
      "import numexpr\n",
      "import bottleneck\n",
      "import time"
     ],
     "language": "python",
     "metadata": {},
     "outputs": [],
     "prompt_number": 1
    },
    {
     "cell_type": "code",
     "collapsed": false,
     "input": [
      "NR_Files = r'I:/Data/3Params/AIRTEMP'\n",
      "ET_Files = r'I:/Data/3Params/MODIS16'\n",
      "P_Files = r'I:/Data/3Params/TRMM3B43'\n",
      "maskRastr = r'I:\\Data\\3Params\\LC\\ProjectArea.tif'\n",
      "somSource = r'C:/Program Files/SOMToolbox/somtoolbox.bat'\n",
      "fromMask = int(0)\n",
      "toMask = int(17)"
     ],
     "language": "python",
     "metadata": {},
     "outputs": [],
     "prompt_number": 2
    },
    {
     "cell_type": "code",
     "collapsed": false,
     "input": [
      "def SubsetImg(nameras):\n",
      "    # Open landcover image\n",
      "    a = gdal.Open(nameras, gdal.GA_ReadOnly)\n",
      "    b = a.GetRasterBand(1)\n",
      "    InRas = b.ReadAsArray()\n",
      "    return InRas"
     ],
     "language": "python",
     "metadata": {},
     "outputs": [],
     "prompt_number": 3
    },
    {
     "cell_type": "code",
     "collapsed": false,
     "input": [
      "def plot_gdal_file ( input_dataset, x, vmin=0, vmax=100 ):\n",
      "    # Need to get the geotransform (ie, corners)\n",
      "    geo = input_dataset.GetGeoTransform()\n",
      "    data = x\n",
      "\n",
      "    # We need to flip the raster upside down\n",
      "    data = np.flipud( data )\n",
      "\n",
      "    # Define a cylindrical projection\n",
      "    projection_opts={'projection':'cyl','resolution':'h'}\n",
      "\n",
      "    # These are the extents in the native raster coordinates\n",
      "    extent = [ geo[0],  geo[0] + input_dataset.RasterXSize*geo[1], \\\n",
      "        geo[3], geo[3] + input_dataset.RasterYSize*geo[5]]\n",
      "    map = Basemap( llcrnrlon=extent[0], llcrnrlat=extent[3], \\\n",
      "                 urcrnrlon=extent[1],urcrnrlat=extent[2],  ** projection_opts)\n",
      "\n",
      "    # Set up some variables of the map presentation\n",
      "    cmap = plt.cm.gist_rainbow\n",
      "    cmap.set_under ('0.8' )\n",
      "    cmap.set_bad('0.8' )\n",
      "    cmap.set_over ('0.8')\n",
      "\n",
      "    # Set range colourbar, draw country borders\n",
      "    map.imshow( data, vmin=vmin, vmax=vmax, cmap=cmap, interpolation='nearest')\n",
      "    map.drawcoastlines (linewidth=0.5, color='k')\n",
      "    map.drawcountries(linewidth=0.5, color='k')\n",
      "    map.drawmeridians( np.arange(0,360,5), color='k')\n",
      "    map.drawparallels( np.arange(-90,90,5), color='k')\n",
      "    map.drawmapboundary()\n",
      "\n",
      "    cb = plt.colorbar( orientation='horizontal', fraction=0.10, shrink=0.8)\n",
      "\n",
      "    # Add custom title to map\n",
      "    plt.title('Landcovertype '+str(i)+' (subset contains: '+str(z)+' values)')\n",
      "    plt.show()"
     ],
     "language": "python",
     "metadata": {},
     "outputs": [],
     "prompt_number": 4
    },
    {
     "cell_type": "code",
     "collapsed": false,
     "input": [
      "nameras = maskRastr\n",
      "InRas = SubsetImg(nameras)\n",
      "a = gdal.Open(nameras, gdal.GA_ReadOnly)\n",
      "x = np.empty(InRas.shape); x[:] = 127\n",
      "i = '0 - 16'\n",
      "z = InRas.shape[0]*InRas.shape[1]\n",
      "plot_gdal_file(a,InRas,vmin=0,vmax=17) # Return landcover dataset"
     ],
     "language": "python",
     "metadata": {},
     "outputs": [
      {
       "ename": "ValueError",
       "evalue": "llcrnrlon must be between -360.000000 and 720.000000 degrees",
       "output_type": "pyerr",
       "traceback": [
        "\u001b[1;31m---------------------------------------------------------------------------\u001b[0m\n\u001b[1;31mValueError\u001b[0m                                Traceback (most recent call last)",
        "\u001b[1;32m<ipython-input-5-f120af95a6fc>\u001b[0m in \u001b[0;36m<module>\u001b[1;34m()\u001b[0m\n\u001b[0;32m      5\u001b[0m \u001b[0mi\u001b[0m \u001b[1;33m=\u001b[0m \u001b[1;34m'0 - 16'\u001b[0m\u001b[1;33m\u001b[0m\u001b[0m\n\u001b[0;32m      6\u001b[0m \u001b[0mz\u001b[0m \u001b[1;33m=\u001b[0m \u001b[0mInRas\u001b[0m\u001b[1;33m.\u001b[0m\u001b[0mshape\u001b[0m\u001b[1;33m[\u001b[0m\u001b[1;36m0\u001b[0m\u001b[1;33m]\u001b[0m\u001b[1;33m*\u001b[0m\u001b[0mInRas\u001b[0m\u001b[1;33m.\u001b[0m\u001b[0mshape\u001b[0m\u001b[1;33m[\u001b[0m\u001b[1;36m1\u001b[0m\u001b[1;33m]\u001b[0m\u001b[1;33m\u001b[0m\u001b[0m\n\u001b[1;32m----> 7\u001b[1;33m \u001b[0mplot_gdal_file\u001b[0m\u001b[1;33m(\u001b[0m\u001b[0ma\u001b[0m\u001b[1;33m,\u001b[0m\u001b[0mInRas\u001b[0m\u001b[1;33m,\u001b[0m\u001b[0mvmin\u001b[0m\u001b[1;33m=\u001b[0m\u001b[1;36m0\u001b[0m\u001b[1;33m,\u001b[0m\u001b[0mvmax\u001b[0m\u001b[1;33m=\u001b[0m\u001b[1;36m17\u001b[0m\u001b[1;33m)\u001b[0m \u001b[1;31m# Return landcover dataset\u001b[0m\u001b[1;33m\u001b[0m\u001b[0m\n\u001b[0m",
        "\u001b[1;32m<ipython-input-4-be2bdc1b031a>\u001b[0m in \u001b[0;36mplot_gdal_file\u001b[1;34m(input_dataset, x, vmin, vmax)\u001b[0m\n\u001b[0;32m     14\u001b[0m         geo[3], geo[3] + input_dataset.RasterYSize*geo[5]]\n\u001b[0;32m     15\u001b[0m     map = Basemap( llcrnrlon=extent[0], llcrnrlat=extent[3], \\\n\u001b[1;32m---> 16\u001b[1;33m                  urcrnrlon=extent[1],urcrnrlat=extent[2],  ** projection_opts)\n\u001b[0m\u001b[0;32m     17\u001b[0m \u001b[1;33m\u001b[0m\u001b[0m\n\u001b[0;32m     18\u001b[0m     \u001b[1;31m# Set up some variables of the map presentation\u001b[0m\u001b[1;33m\u001b[0m\u001b[1;33m\u001b[0m\u001b[0m\n",
        "\u001b[1;32mD:\\Python27\\lib\\site-packages\\mpl_toolkits\\basemap\\__init__.pyc\u001b[0m in \u001b[0;36m__init__\u001b[1;34m(self, llcrnrlon, llcrnrlat, urcrnrlon, urcrnrlat, llcrnrx, llcrnry, urcrnrx, urcrnry, width, height, projection, resolution, area_thresh, rsphere, ellps, lat_ts, lat_1, lat_2, lat_0, lon_0, lon_1, lon_2, k_0, no_rot, suppress_ticks, satellite_height, boundinglat, fix_aspect, anchor, celestial, round, epsg, ax)\u001b[0m\n\u001b[0;32m    672\u001b[0m         \u001b[0musing_corners\u001b[0m \u001b[1;33m=\u001b[0m \u001b[1;33m(\u001b[0m\u001b[0mNone\u001b[0m \u001b[1;32mnot\u001b[0m \u001b[1;32min\u001b[0m \u001b[1;33m[\u001b[0m\u001b[0mllcrnrlon\u001b[0m\u001b[1;33m,\u001b[0m\u001b[0mllcrnrlat\u001b[0m\u001b[1;33m,\u001b[0m\u001b[0murcrnrlon\u001b[0m\u001b[1;33m,\u001b[0m\u001b[0murcrnrlat\u001b[0m\u001b[1;33m]\u001b[0m\u001b[1;33m)\u001b[0m\u001b[1;33m\u001b[0m\u001b[0m\n\u001b[0;32m    673\u001b[0m         \u001b[1;32mif\u001b[0m \u001b[0musing_corners\u001b[0m\u001b[1;33m:\u001b[0m\u001b[1;33m\u001b[0m\u001b[0m\n\u001b[1;32m--> 674\u001b[1;33m             \u001b[0mself\u001b[0m\u001b[1;33m.\u001b[0m\u001b[0mllcrnrlon\u001b[0m \u001b[1;33m=\u001b[0m \u001b[0m_validated_ll\u001b[0m\u001b[1;33m(\u001b[0m\u001b[0mllcrnrlon\u001b[0m\u001b[1;33m,\u001b[0m \u001b[1;34m'llcrnrlon'\u001b[0m\u001b[1;33m,\u001b[0m \u001b[1;33m-\u001b[0m\u001b[1;36m360\u001b[0m\u001b[1;33m,\u001b[0m \u001b[1;36m720\u001b[0m\u001b[1;33m)\u001b[0m\u001b[1;33m\u001b[0m\u001b[0m\n\u001b[0m\u001b[0;32m    675\u001b[0m             \u001b[0mself\u001b[0m\u001b[1;33m.\u001b[0m\u001b[0murcrnrlon\u001b[0m \u001b[1;33m=\u001b[0m \u001b[0m_validated_ll\u001b[0m\u001b[1;33m(\u001b[0m\u001b[0murcrnrlon\u001b[0m\u001b[1;33m,\u001b[0m \u001b[1;34m'urcrnrlon'\u001b[0m\u001b[1;33m,\u001b[0m \u001b[1;33m-\u001b[0m\u001b[1;36m360\u001b[0m\u001b[1;33m,\u001b[0m \u001b[1;36m720\u001b[0m\u001b[1;33m)\u001b[0m\u001b[1;33m\u001b[0m\u001b[0m\n\u001b[0;32m    676\u001b[0m             \u001b[0mself\u001b[0m\u001b[1;33m.\u001b[0m\u001b[0mllcrnrlat\u001b[0m \u001b[1;33m=\u001b[0m \u001b[0m_validated_ll\u001b[0m\u001b[1;33m(\u001b[0m\u001b[0mllcrnrlat\u001b[0m\u001b[1;33m,\u001b[0m \u001b[1;34m'llcrnrlat'\u001b[0m\u001b[1;33m,\u001b[0m \u001b[1;33m-\u001b[0m\u001b[1;36m90\u001b[0m\u001b[1;33m,\u001b[0m \u001b[1;36m90\u001b[0m\u001b[1;33m)\u001b[0m\u001b[1;33m\u001b[0m\u001b[0m\n",
        "\u001b[1;32mD:\\Python27\\lib\\site-packages\\mpl_toolkits\\basemap\\__init__.pyc\u001b[0m in \u001b[0;36m_validated_ll\u001b[1;34m(param, name, minval, maxval)\u001b[0m\n\u001b[0;32m    490\u001b[0m     \u001b[1;32mif\u001b[0m \u001b[0mparam\u001b[0m \u001b[1;33m>\u001b[0m \u001b[0mmaxval\u001b[0m \u001b[1;32mor\u001b[0m \u001b[0mparam\u001b[0m \u001b[1;33m<\u001b[0m \u001b[0mminval\u001b[0m\u001b[1;33m:\u001b[0m\u001b[1;33m\u001b[0m\u001b[0m\n\u001b[0;32m    491\u001b[0m         raise ValueError('%s must be between %f and %f degrees' %\n\u001b[1;32m--> 492\u001b[1;33m                                            (name, minval, maxval))\n\u001b[0m\u001b[0;32m    493\u001b[0m     \u001b[1;32mreturn\u001b[0m \u001b[0mparam\u001b[0m\u001b[1;33m\u001b[0m\u001b[0m\n\u001b[0;32m    494\u001b[0m \u001b[1;33m\u001b[0m\u001b[0m\n",
        "\u001b[1;31mValueError\u001b[0m: llcrnrlon must be between -360.000000 and 720.000000 degrees"
       ]
      }
     ],
     "prompt_number": 5
    },
    {
     "cell_type": "code",
     "collapsed": false,
     "input": [
      "for i in range(fromMask,toMask):\n",
      "    # Mask everything what is not equal to the current landcover type\n",
      "    # Return number of elements of unmasked items for dimensions numpy array\n",
      "    indices = np.where(InRas==i)\n",
      "\n",
      "    x[indices] = i\n",
      "    z = np.sum(x==i)\n",
      "    plot_gdal_file(a,x,vmin=0,vmax=17) # Return plot to visualise mask\n",
      "    x[:] = 127"
     ],
     "language": "python",
     "metadata": {},
     "outputs": []
    },
    {
     "cell_type": "code",
     "collapsed": false,
     "input": [],
     "language": "python",
     "metadata": {},
     "outputs": []
    }
   ],
   "metadata": {}
  }
 ]
}