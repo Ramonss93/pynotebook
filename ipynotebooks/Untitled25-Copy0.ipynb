{
 "metadata": {
  "name": ""
 },
 "nbformat": 3,
 "nbformat_minor": 0,
 "worksheets": [
  {
   "cells": [
    {
     "cell_type": "code",
     "collapsed": false,
     "input": [
      "def saveRaster(path, array, dsSource, datatype=3, formatraster=\"GTiff\"): \n",
      "    \"\"\"\n",
      "    Datatypes:\n",
      "    unknown = 0\n",
      "    byte = 1\n",
      "    unsigned int16 = 2\n",
      "    signed int16 = 3\n",
      "    unsigned int32 = 4\n",
      "    signed int32 = 5\n",
      "    float32 = 6\n",
      "    float64 = 7\n",
      "    complex int16 = 8\n",
      "    complex int32 = 9\n",
      "    complex float32 = 10\n",
      "    complex float64 = 11\n",
      "    float32 = 6, \n",
      "    signed int = 3\n",
      "    \n",
      "    Formatraster:\n",
      "    GeoTIFF = GTiff\n",
      "    Erdas = HFA (output = .img)\n",
      "    OGC web map service = WMS\n",
      "    png = PNG\n",
      "    \"\"\"\n",
      "    # Set Driver\n",
      "    format_ = formatraster #save as format\n",
      "    driver = gdal.GetDriverByName( format_ )\n",
      "    driver.Register()\n",
      "    \n",
      "    # Set Metadata for Raster output\n",
      "    cols = dsSource.RasterXSize*100\n",
      "    rows = dsSource.RasterYSize*100\n",
      "    bands = dsSource.RasterCount\n",
      "    datatype = datatype#band.DataType\n",
      "    \n",
      "    # Set Projection for Raster\n",
      "    outDataset = driver.Create(path, cols, rows, bands, datatype)\n",
      "    #geoTransform = dsSource.GetGeoTransform()\n",
      "    outDataset.SetGeoTransform(extent_new)\n",
      "    proj = dsSource.GetProjection()\n",
      "    outDataset.SetProjection(proj)\n",
      "    \n",
      "    # Write output to band 1 of new Raster\n",
      "    outBand = outDataset.GetRasterBand(1)\n",
      "    outBand.WriteArray(array) #save input array\n",
      "    #outBand.WriteArray(dem)\n",
      "    \n",
      "    # Close and finalise newly created Raster\n",
      "    #F_M01 = None\n",
      "    outBand = None\n",
      "    proj = None\n",
      "    #geoTransform = None\n",
      "    outDataset = None\n",
      "    driver = None\n",
      "    datatype = None\n",
      "    bands = None\n",
      "    rows = None\n",
      "    cols = None\n",
      "    driver = None\n",
      "    array = None"
     ],
     "language": "python",
     "metadata": {},
     "outputs": [],
     "prompt_number": 1
    },
    {
     "cell_type": "code",
     "collapsed": false,
     "input": [
      "import os\n",
      "from mattijn import dikkelul\n",
      "import numpy as np\n",
      "import sys\n",
      "import subprocess as sp\n",
      "from osgeo import gdal, osr\n",
      "import scipy.ndimage"
     ],
     "language": "python",
     "metadata": {},
     "outputs": [],
     "prompt_number": 17
    },
    {
     "cell_type": "code",
     "collapsed": false,
     "input": [
      "foldertif = r'D:\\Data\\GPCP_tif_clip_clip'\n",
      "outfolderresample = r'D:\\Data\\GPCP_resample//'\n",
      "tiffiles = dikkelul.FilesFolder(foldertif, '.tif')"
     ],
     "language": "python",
     "metadata": {},
     "outputs": [],
     "prompt_number": 4
    },
    {
     "cell_type": "code",
     "collapsed": false,
     "input": [
      "import sys\n",
      "import subprocess as sp\n",
      "foldertif2 = r'D:\\Data\\GPCP_tif2'\n",
      "files = dikkelul.FilesFolder(foldertif2)\n",
      "outfolderresample = r'D:\\Data\\GPCP_tif_clip_clip//'\n",
      "for j in files:\n",
      "    out = j[-30::]\n",
      "    path = outfolderresample+out\n",
      "    paramsnorm = [\"gdal_translate\", \"-projwin\", \"73.116933\", \"54.873241\", \"136.116933\", \"17.873241\", \"-outsize\", \"6300\", \"3700\", j, path]\n",
      "    print (path)\n",
      "    #print (sp.list2cmdline(paramsnorm))\n",
      "    norm = sp.Popen(sp.list2cmdline(paramsnorm), shell=True)     \n",
      "    norm.communicate()"
     ],
     "language": "python",
     "metadata": {},
     "outputs": [
      {
       "output_type": "stream",
       "stream": "stdout",
       "text": [
        "D:\\Data\\GPCP_tif_clip_clip//gpcp_1dd_v1.2_p1d.20030100.tif\n",
        "D:\\Data\\GPCP_tif_clip_clip//gpcp_1dd_v1.2_p1d.20030101.tif"
       ]
      },
      {
       "output_type": "stream",
       "stream": "stdout",
       "text": [
        "\n",
        "D:\\Data\\GPCP_tif_clip_clip//gpcp_1dd_v1.2_p1d.20030102.tif"
       ]
      },
      {
       "output_type": "stream",
       "stream": "stdout",
       "text": [
        "\n",
        "D:\\Data\\GPCP_tif_clip_clip//gpcp_1dd_v1.2_p1d.20030103.tif"
       ]
      },
      {
       "output_type": "stream",
       "stream": "stdout",
       "text": [
        "\n",
        "D:\\Data\\GPCP_tif_clip_clip//gpcp_1dd_v1.2_p1d.20030104.tif"
       ]
      },
      {
       "output_type": "stream",
       "stream": "stdout",
       "text": [
        "\n",
        "D:\\Data\\GPCP_tif_clip_clip//gpcp_1dd_v1.2_p1d.20030105.tif"
       ]
      },
      {
       "output_type": "stream",
       "stream": "stdout",
       "text": [
        "\n",
        "D:\\Data\\GPCP_tif_clip_clip//gpcp_1dd_v1.2_p1d.20030106.tif"
       ]
      },
      {
       "output_type": "stream",
       "stream": "stdout",
       "text": [
        "\n",
        "D:\\Data\\GPCP_tif_clip_clip//gpcp_1dd_v1.2_p1d.20030107.tif"
       ]
      },
      {
       "output_type": "stream",
       "stream": "stdout",
       "text": [
        "\n",
        "D:\\Data\\GPCP_tif_clip_clip//gpcp_1dd_v1.2_p1d.20030108.tif"
       ]
      },
      {
       "output_type": "stream",
       "stream": "stdout",
       "text": [
        "\n",
        "D:\\Data\\GPCP_tif_clip_clip//gpcp_1dd_v1.2_p1d.20030109.tif"
       ]
      },
      {
       "output_type": "stream",
       "stream": "stdout",
       "text": [
        "\n",
        "D:\\Data\\GPCP_tif_clip_clip//gpcp_1dd_v1.2_p1d.20030110.tif"
       ]
      },
      {
       "output_type": "stream",
       "stream": "stdout",
       "text": [
        "\n",
        "D:\\Data\\GPCP_tif_clip_clip//gpcp_1dd_v1.2_p1d.20030111.tif"
       ]
      },
      {
       "output_type": "stream",
       "stream": "stdout",
       "text": [
        "\n",
        "D:\\Data\\GPCP_tif_clip_clip//gpcp_1dd_v1.2_p1d.20030112.tif"
       ]
      },
      {
       "output_type": "stream",
       "stream": "stdout",
       "text": [
        "\n",
        "D:\\Data\\GPCP_tif_clip_clip//gpcp_1dd_v1.2_p1d.20030113.tif"
       ]
      },
      {
       "output_type": "stream",
       "stream": "stdout",
       "text": [
        "\n",
        "D:\\Data\\GPCP_tif_clip_clip//gpcp_1dd_v1.2_p1d.20030114.tif"
       ]
      },
      {
       "output_type": "stream",
       "stream": "stdout",
       "text": [
        "\n",
        "D:\\Data\\GPCP_tif_clip_clip//gpcp_1dd_v1.2_p1d.20030115.tif"
       ]
      },
      {
       "output_type": "stream",
       "stream": "stdout",
       "text": [
        "\n",
        "D:\\Data\\GPCP_tif_clip_clip//gpcp_1dd_v1.2_p1d.20030116.tif"
       ]
      },
      {
       "output_type": "stream",
       "stream": "stdout",
       "text": [
        "\n",
        "D:\\Data\\GPCP_tif_clip_clip//gpcp_1dd_v1.2_p1d.20030117.tif"
       ]
      },
      {
       "output_type": "stream",
       "stream": "stdout",
       "text": [
        "\n",
        "D:\\Data\\GPCP_tif_clip_clip//gpcp_1dd_v1.2_p1d.20030118.tif"
       ]
      },
      {
       "output_type": "stream",
       "stream": "stdout",
       "text": [
        "\n",
        "D:\\Data\\GPCP_tif_clip_clip//gpcp_1dd_v1.2_p1d.20030119.tif"
       ]
      },
      {
       "output_type": "stream",
       "stream": "stdout",
       "text": [
        "\n",
        "D:\\Data\\GPCP_tif_clip_clip//gpcp_1dd_v1.2_p1d.20030120.tif"
       ]
      },
      {
       "output_type": "stream",
       "stream": "stdout",
       "text": [
        "\n",
        "D:\\Data\\GPCP_tif_clip_clip//gpcp_1dd_v1.2_p1d.20030121.tif"
       ]
      },
      {
       "output_type": "stream",
       "stream": "stdout",
       "text": [
        "\n",
        "D:\\Data\\GPCP_tif_clip_clip//gpcp_1dd_v1.2_p1d.20030122.tif"
       ]
      },
      {
       "output_type": "stream",
       "stream": "stdout",
       "text": [
        "\n",
        "D:\\Data\\GPCP_tif_clip_clip//gpcp_1dd_v1.2_p1d.20030123.tif"
       ]
      },
      {
       "output_type": "stream",
       "stream": "stdout",
       "text": [
        "\n",
        "D:\\Data\\GPCP_tif_clip_clip//gpcp_1dd_v1.2_p1d.20030124.tif"
       ]
      },
      {
       "output_type": "stream",
       "stream": "stdout",
       "text": [
        "\n",
        "D:\\Data\\GPCP_tif_clip_clip//gpcp_1dd_v1.2_p1d.20030125.tif"
       ]
      },
      {
       "output_type": "stream",
       "stream": "stdout",
       "text": [
        "\n",
        "D:\\Data\\GPCP_tif_clip_clip//gpcp_1dd_v1.2_p1d.20030126.tif"
       ]
      },
      {
       "output_type": "stream",
       "stream": "stdout",
       "text": [
        "\n",
        "D:\\Data\\GPCP_tif_clip_clip//gpcp_1dd_v1.2_p1d.20030127.tif"
       ]
      },
      {
       "output_type": "stream",
       "stream": "stdout",
       "text": [
        "\n",
        "D:\\Data\\GPCP_tif_clip_clip//gpcp_1dd_v1.2_p1d.20030128.tif"
       ]
      },
      {
       "output_type": "stream",
       "stream": "stdout",
       "text": [
        "\n",
        "D:\\Data\\GPCP_tif_clip_clip//gpcp_1dd_v1.2_p1d.20030129.tif"
       ]
      },
      {
       "output_type": "stream",
       "stream": "stdout",
       "text": [
        "\n",
        "D:\\Data\\GPCP_tif_clip_clip//gpcp_1dd_v1.2_p1d.20030130.tif"
       ]
      },
      {
       "output_type": "stream",
       "stream": "stdout",
       "text": [
        "\n",
        "D:\\Data\\GPCP_tif_clip_clip//gpcp_1dd_v1.2_p1d.20030200.tif"
       ]
      },
      {
       "output_type": "stream",
       "stream": "stdout",
       "text": [
        "\n",
        "D:\\Data\\GPCP_tif_clip_clip//gpcp_1dd_v1.2_p1d.20030201.tif"
       ]
      },
      {
       "output_type": "stream",
       "stream": "stdout",
       "text": [
        "\n",
        "D:\\Data\\GPCP_tif_clip_clip//gpcp_1dd_v1.2_p1d.20030202.tif"
       ]
      },
      {
       "output_type": "stream",
       "stream": "stdout",
       "text": [
        "\n",
        "D:\\Data\\GPCP_tif_clip_clip//gpcp_1dd_v1.2_p1d.20030203.tif"
       ]
      },
      {
       "output_type": "stream",
       "stream": "stdout",
       "text": [
        "\n",
        "D:\\Data\\GPCP_tif_clip_clip//gpcp_1dd_v1.2_p1d.20030204.tif"
       ]
      },
      {
       "output_type": "stream",
       "stream": "stdout",
       "text": [
        "\n",
        "D:\\Data\\GPCP_tif_clip_clip//gpcp_1dd_v1.2_p1d.20030205.tif"
       ]
      },
      {
       "output_type": "stream",
       "stream": "stdout",
       "text": [
        "\n",
        "D:\\Data\\GPCP_tif_clip_clip//gpcp_1dd_v1.2_p1d.20030206.tif"
       ]
      },
      {
       "output_type": "stream",
       "stream": "stdout",
       "text": [
        "\n",
        "D:\\Data\\GPCP_tif_clip_clip//gpcp_1dd_v1.2_p1d.20030207.tif"
       ]
      },
      {
       "output_type": "stream",
       "stream": "stdout",
       "text": [
        "\n",
        "D:\\Data\\GPCP_tif_clip_clip//gpcp_1dd_v1.2_p1d.20030208.tif"
       ]
      },
      {
       "output_type": "stream",
       "stream": "stdout",
       "text": [
        "\n",
        "D:\\Data\\GPCP_tif_clip_clip//gpcp_1dd_v1.2_p1d.20030209.tif"
       ]
      },
      {
       "output_type": "stream",
       "stream": "stdout",
       "text": [
        "\n",
        "D:\\Data\\GPCP_tif_clip_clip//gpcp_1dd_v1.2_p1d.20030210.tif"
       ]
      },
      {
       "output_type": "stream",
       "stream": "stdout",
       "text": [
        "\n",
        "D:\\Data\\GPCP_tif_clip_clip//gpcp_1dd_v1.2_p1d.20030211.tif"
       ]
      },
      {
       "output_type": "stream",
       "stream": "stdout",
       "text": [
        "\n",
        "D:\\Data\\GPCP_tif_clip_clip//gpcp_1dd_v1.2_p1d.20030212.tif"
       ]
      },
      {
       "output_type": "stream",
       "stream": "stdout",
       "text": [
        "\n",
        "D:\\Data\\GPCP_tif_clip_clip//gpcp_1dd_v1.2_p1d.20030213.tif"
       ]
      },
      {
       "output_type": "stream",
       "stream": "stdout",
       "text": [
        "\n",
        "D:\\Data\\GPCP_tif_clip_clip//gpcp_1dd_v1.2_p1d.20030214.tif"
       ]
      },
      {
       "output_type": "stream",
       "stream": "stdout",
       "text": [
        "\n",
        "D:\\Data\\GPCP_tif_clip_clip//gpcp_1dd_v1.2_p1d.20030215.tif"
       ]
      },
      {
       "output_type": "stream",
       "stream": "stdout",
       "text": [
        "\n",
        "D:\\Data\\GPCP_tif_clip_clip//gpcp_1dd_v1.2_p1d.20030216.tif"
       ]
      },
      {
       "output_type": "stream",
       "stream": "stdout",
       "text": [
        "\n",
        "D:\\Data\\GPCP_tif_clip_clip//gpcp_1dd_v1.2_p1d.20030217.tif"
       ]
      },
      {
       "output_type": "stream",
       "stream": "stdout",
       "text": [
        "\n",
        "D:\\Data\\GPCP_tif_clip_clip//gpcp_1dd_v1.2_p1d.20030218.tif"
       ]
      },
      {
       "output_type": "stream",
       "stream": "stdout",
       "text": [
        "\n",
        "D:\\Data\\GPCP_tif_clip_clip//gpcp_1dd_v1.2_p1d.20030219.tif"
       ]
      },
      {
       "output_type": "stream",
       "stream": "stdout",
       "text": [
        "\n",
        "D:\\Data\\GPCP_tif_clip_clip//gpcp_1dd_v1.2_p1d.20030220.tif"
       ]
      },
      {
       "output_type": "stream",
       "stream": "stdout",
       "text": [
        "\n",
        "D:\\Data\\GPCP_tif_clip_clip//gpcp_1dd_v1.2_p1d.20030221.tif"
       ]
      },
      {
       "output_type": "stream",
       "stream": "stdout",
       "text": [
        "\n",
        "D:\\Data\\GPCP_tif_clip_clip//gpcp_1dd_v1.2_p1d.20030222.tif"
       ]
      },
      {
       "output_type": "stream",
       "stream": "stdout",
       "text": [
        "\n",
        "D:\\Data\\GPCP_tif_clip_clip//gpcp_1dd_v1.2_p1d.20030223.tif"
       ]
      },
      {
       "output_type": "stream",
       "stream": "stdout",
       "text": [
        "\n",
        "D:\\Data\\GPCP_tif_clip_clip//gpcp_1dd_v1.2_p1d.20030224.tif"
       ]
      },
      {
       "output_type": "stream",
       "stream": "stdout",
       "text": [
        "\n",
        "D:\\Data\\GPCP_tif_clip_clip//gpcp_1dd_v1.2_p1d.20030225.tif"
       ]
      },
      {
       "output_type": "stream",
       "stream": "stdout",
       "text": [
        "\n",
        "D:\\Data\\GPCP_tif_clip_clip//gpcp_1dd_v1.2_p1d.20030226.tif"
       ]
      },
      {
       "output_type": "stream",
       "stream": "stdout",
       "text": [
        "\n",
        "D:\\Data\\GPCP_tif_clip_clip//gpcp_1dd_v1.2_p1d.20030227.tif"
       ]
      },
      {
       "output_type": "stream",
       "stream": "stdout",
       "text": [
        "\n",
        "D:\\Data\\GPCP_tif_clip_clip//gpcp_1dd_v1.2_p1d.20030300.tif"
       ]
      },
      {
       "output_type": "stream",
       "stream": "stdout",
       "text": [
        "\n",
        "D:\\Data\\GPCP_tif_clip_clip//gpcp_1dd_v1.2_p1d.20030301.tif"
       ]
      },
      {
       "output_type": "stream",
       "stream": "stdout",
       "text": [
        "\n",
        "D:\\Data\\GPCP_tif_clip_clip//gpcp_1dd_v1.2_p1d.20030302.tif"
       ]
      },
      {
       "output_type": "stream",
       "stream": "stdout",
       "text": [
        "\n",
        "D:\\Data\\GPCP_tif_clip_clip//gpcp_1dd_v1.2_p1d.20030303.tif"
       ]
      },
      {
       "output_type": "stream",
       "stream": "stdout",
       "text": [
        "\n",
        "D:\\Data\\GPCP_tif_clip_clip//gpcp_1dd_v1.2_p1d.20030304.tif"
       ]
      },
      {
       "output_type": "stream",
       "stream": "stdout",
       "text": [
        "\n",
        "D:\\Data\\GPCP_tif_clip_clip//gpcp_1dd_v1.2_p1d.20030305.tif"
       ]
      },
      {
       "output_type": "stream",
       "stream": "stdout",
       "text": [
        "\n",
        "D:\\Data\\GPCP_tif_clip_clip//gpcp_1dd_v1.2_p1d.20030306.tif"
       ]
      },
      {
       "output_type": "stream",
       "stream": "stdout",
       "text": [
        "\n",
        "D:\\Data\\GPCP_tif_clip_clip//gpcp_1dd_v1.2_p1d.20030307.tif"
       ]
      },
      {
       "output_type": "stream",
       "stream": "stdout",
       "text": [
        "\n",
        "D:\\Data\\GPCP_tif_clip_clip//gpcp_1dd_v1.2_p1d.20030308.tif"
       ]
      },
      {
       "output_type": "stream",
       "stream": "stdout",
       "text": [
        "\n",
        "D:\\Data\\GPCP_tif_clip_clip//gpcp_1dd_v1.2_p1d.20030309.tif"
       ]
      },
      {
       "output_type": "stream",
       "stream": "stdout",
       "text": [
        "\n",
        "D:\\Data\\GPCP_tif_clip_clip//gpcp_1dd_v1.2_p1d.20030310.tif"
       ]
      },
      {
       "output_type": "stream",
       "stream": "stdout",
       "text": [
        "\n",
        "D:\\Data\\GPCP_tif_clip_clip//gpcp_1dd_v1.2_p1d.20030311.tif"
       ]
      },
      {
       "output_type": "stream",
       "stream": "stdout",
       "text": [
        "\n",
        "D:\\Data\\GPCP_tif_clip_clip//gpcp_1dd_v1.2_p1d.20030312.tif"
       ]
      },
      {
       "output_type": "stream",
       "stream": "stdout",
       "text": [
        "\n",
        "D:\\Data\\GPCP_tif_clip_clip//gpcp_1dd_v1.2_p1d.20030313.tif"
       ]
      },
      {
       "output_type": "stream",
       "stream": "stdout",
       "text": [
        "\n",
        "D:\\Data\\GPCP_tif_clip_clip//gpcp_1dd_v1.2_p1d.20030314.tif"
       ]
      },
      {
       "output_type": "stream",
       "stream": "stdout",
       "text": [
        "\n",
        "D:\\Data\\GPCP_tif_clip_clip//gpcp_1dd_v1.2_p1d.20030315.tif"
       ]
      },
      {
       "output_type": "stream",
       "stream": "stdout",
       "text": [
        "\n",
        "D:\\Data\\GPCP_tif_clip_clip//gpcp_1dd_v1.2_p1d.20030316.tif"
       ]
      },
      {
       "output_type": "stream",
       "stream": "stdout",
       "text": [
        "\n",
        "D:\\Data\\GPCP_tif_clip_clip//gpcp_1dd_v1.2_p1d.20030317.tif"
       ]
      },
      {
       "output_type": "stream",
       "stream": "stdout",
       "text": [
        "\n",
        "D:\\Data\\GPCP_tif_clip_clip//gpcp_1dd_v1.2_p1d.20030318.tif"
       ]
      },
      {
       "output_type": "stream",
       "stream": "stdout",
       "text": [
        "\n",
        "D:\\Data\\GPCP_tif_clip_clip//gpcp_1dd_v1.2_p1d.20030319.tif"
       ]
      },
      {
       "output_type": "stream",
       "stream": "stdout",
       "text": [
        "\n",
        "D:\\Data\\GPCP_tif_clip_clip//gpcp_1dd_v1.2_p1d.20030320.tif"
       ]
      },
      {
       "output_type": "stream",
       "stream": "stdout",
       "text": [
        "\n",
        "D:\\Data\\GPCP_tif_clip_clip//gpcp_1dd_v1.2_p1d.20030321.tif"
       ]
      },
      {
       "output_type": "stream",
       "stream": "stdout",
       "text": [
        "\n",
        "D:\\Data\\GPCP_tif_clip_clip//gpcp_1dd_v1.2_p1d.20030322.tif"
       ]
      },
      {
       "output_type": "stream",
       "stream": "stdout",
       "text": [
        "\n",
        "D:\\Data\\GPCP_tif_clip_clip//gpcp_1dd_v1.2_p1d.20030323.tif"
       ]
      },
      {
       "output_type": "stream",
       "stream": "stdout",
       "text": [
        "\n",
        "D:\\Data\\GPCP_tif_clip_clip//gpcp_1dd_v1.2_p1d.20030324.tif"
       ]
      },
      {
       "output_type": "stream",
       "stream": "stdout",
       "text": [
        "\n",
        "D:\\Data\\GPCP_tif_clip_clip//gpcp_1dd_v1.2_p1d.20030325.tif"
       ]
      },
      {
       "output_type": "stream",
       "stream": "stdout",
       "text": [
        "\n",
        "D:\\Data\\GPCP_tif_clip_clip//gpcp_1dd_v1.2_p1d.20030326.tif"
       ]
      },
      {
       "output_type": "stream",
       "stream": "stdout",
       "text": [
        "\n",
        "D:\\Data\\GPCP_tif_clip_clip//gpcp_1dd_v1.2_p1d.20030327.tif"
       ]
      },
      {
       "output_type": "stream",
       "stream": "stdout",
       "text": [
        "\n",
        "D:\\Data\\GPCP_tif_clip_clip//gpcp_1dd_v1.2_p1d.20030328.tif"
       ]
      },
      {
       "output_type": "stream",
       "stream": "stdout",
       "text": [
        "\n",
        "D:\\Data\\GPCP_tif_clip_clip//gpcp_1dd_v1.2_p1d.20030329.tif"
       ]
      },
      {
       "output_type": "stream",
       "stream": "stdout",
       "text": [
        "\n",
        "D:\\Data\\GPCP_tif_clip_clip//gpcp_1dd_v1.2_p1d.20030330.tif"
       ]
      },
      {
       "output_type": "stream",
       "stream": "stdout",
       "text": [
        "\n",
        "D:\\Data\\GPCP_tif_clip_clip//gpcp_1dd_v1.2_p1d.20030400.tif"
       ]
      },
      {
       "output_type": "stream",
       "stream": "stdout",
       "text": [
        "\n",
        "D:\\Data\\GPCP_tif_clip_clip//gpcp_1dd_v1.2_p1d.20030401.tif"
       ]
      },
      {
       "output_type": "stream",
       "stream": "stdout",
       "text": [
        "\n",
        "D:\\Data\\GPCP_tif_clip_clip//gpcp_1dd_v1.2_p1d.20030402.tif"
       ]
      },
      {
       "output_type": "stream",
       "stream": "stdout",
       "text": [
        "\n",
        "D:\\Data\\GPCP_tif_clip_clip//gpcp_1dd_v1.2_p1d.20030403.tif"
       ]
      },
      {
       "output_type": "stream",
       "stream": "stdout",
       "text": [
        "\n",
        "D:\\Data\\GPCP_tif_clip_clip//gpcp_1dd_v1.2_p1d.20030404.tif"
       ]
      },
      {
       "output_type": "stream",
       "stream": "stdout",
       "text": [
        "\n",
        "D:\\Data\\GPCP_tif_clip_clip//gpcp_1dd_v1.2_p1d.20030405.tif"
       ]
      },
      {
       "output_type": "stream",
       "stream": "stdout",
       "text": [
        "\n",
        "D:\\Data\\GPCP_tif_clip_clip//gpcp_1dd_v1.2_p1d.20030406.tif"
       ]
      },
      {
       "output_type": "stream",
       "stream": "stdout",
       "text": [
        "\n",
        "D:\\Data\\GPCP_tif_clip_clip//gpcp_1dd_v1.2_p1d.20030407.tif"
       ]
      },
      {
       "output_type": "stream",
       "stream": "stdout",
       "text": [
        "\n",
        "D:\\Data\\GPCP_tif_clip_clip//gpcp_1dd_v1.2_p1d.20030408.tif"
       ]
      },
      {
       "output_type": "stream",
       "stream": "stdout",
       "text": [
        "\n",
        "D:\\Data\\GPCP_tif_clip_clip//gpcp_1dd_v1.2_p1d.20030409.tif"
       ]
      },
      {
       "output_type": "stream",
       "stream": "stdout",
       "text": [
        "\n",
        "D:\\Data\\GPCP_tif_clip_clip//gpcp_1dd_v1.2_p1d.20030410.tif"
       ]
      },
      {
       "output_type": "stream",
       "stream": "stdout",
       "text": [
        "\n",
        "D:\\Data\\GPCP_tif_clip_clip//gpcp_1dd_v1.2_p1d.20030411.tif"
       ]
      },
      {
       "output_type": "stream",
       "stream": "stdout",
       "text": [
        "\n",
        "D:\\Data\\GPCP_tif_clip_clip//gpcp_1dd_v1.2_p1d.20030412.tif"
       ]
      },
      {
       "output_type": "stream",
       "stream": "stdout",
       "text": [
        "\n",
        "D:\\Data\\GPCP_tif_clip_clip//gpcp_1dd_v1.2_p1d.20030413.tif"
       ]
      },
      {
       "output_type": "stream",
       "stream": "stdout",
       "text": [
        "\n",
        "D:\\Data\\GPCP_tif_clip_clip//gpcp_1dd_v1.2_p1d.20030414.tif"
       ]
      },
      {
       "output_type": "stream",
       "stream": "stdout",
       "text": [
        "\n",
        "D:\\Data\\GPCP_tif_clip_clip//gpcp_1dd_v1.2_p1d.20030415.tif"
       ]
      },
      {
       "output_type": "stream",
       "stream": "stdout",
       "text": [
        "\n",
        "D:\\Data\\GPCP_tif_clip_clip//gpcp_1dd_v1.2_p1d.20030416.tif"
       ]
      },
      {
       "output_type": "stream",
       "stream": "stdout",
       "text": [
        "\n",
        "D:\\Data\\GPCP_tif_clip_clip//gpcp_1dd_v1.2_p1d.20030417.tif"
       ]
      },
      {
       "output_type": "stream",
       "stream": "stdout",
       "text": [
        "\n",
        "D:\\Data\\GPCP_tif_clip_clip//gpcp_1dd_v1.2_p1d.20030418.tif"
       ]
      },
      {
       "output_type": "stream",
       "stream": "stdout",
       "text": [
        "\n",
        "D:\\Data\\GPCP_tif_clip_clip//gpcp_1dd_v1.2_p1d.20030419.tif"
       ]
      },
      {
       "output_type": "stream",
       "stream": "stdout",
       "text": [
        "\n",
        "D:\\Data\\GPCP_tif_clip_clip//gpcp_1dd_v1.2_p1d.20030420.tif"
       ]
      },
      {
       "output_type": "stream",
       "stream": "stdout",
       "text": [
        "\n",
        "D:\\Data\\GPCP_tif_clip_clip//gpcp_1dd_v1.2_p1d.20030421.tif"
       ]
      },
      {
       "output_type": "stream",
       "stream": "stdout",
       "text": [
        "\n",
        "D:\\Data\\GPCP_tif_clip_clip//gpcp_1dd_v1.2_p1d.20030422.tif"
       ]
      },
      {
       "output_type": "stream",
       "stream": "stdout",
       "text": [
        "\n",
        "D:\\Data\\GPCP_tif_clip_clip//gpcp_1dd_v1.2_p1d.20030423.tif"
       ]
      },
      {
       "output_type": "stream",
       "stream": "stdout",
       "text": [
        "\n",
        "D:\\Data\\GPCP_tif_clip_clip//gpcp_1dd_v1.2_p1d.20030424.tif"
       ]
      },
      {
       "output_type": "stream",
       "stream": "stdout",
       "text": [
        "\n",
        "D:\\Data\\GPCP_tif_clip_clip//gpcp_1dd_v1.2_p1d.20030425.tif"
       ]
      },
      {
       "output_type": "stream",
       "stream": "stdout",
       "text": [
        "\n",
        "D:\\Data\\GPCP_tif_clip_clip//gpcp_1dd_v1.2_p1d.20030426.tif"
       ]
      },
      {
       "output_type": "stream",
       "stream": "stdout",
       "text": [
        "\n",
        "D:\\Data\\GPCP_tif_clip_clip//gpcp_1dd_v1.2_p1d.20030427.tif"
       ]
      },
      {
       "output_type": "stream",
       "stream": "stdout",
       "text": [
        "\n",
        "D:\\Data\\GPCP_tif_clip_clip//gpcp_1dd_v1.2_p1d.20030428.tif"
       ]
      },
      {
       "output_type": "stream",
       "stream": "stdout",
       "text": [
        "\n",
        "D:\\Data\\GPCP_tif_clip_clip//gpcp_1dd_v1.2_p1d.20030429.tif"
       ]
      },
      {
       "output_type": "stream",
       "stream": "stdout",
       "text": [
        "\n",
        "D:\\Data\\GPCP_tif_clip_clip//gpcp_1dd_v1.2_p1d.20030500.tif"
       ]
      },
      {
       "output_type": "stream",
       "stream": "stdout",
       "text": [
        "\n",
        "D:\\Data\\GPCP_tif_clip_clip//gpcp_1dd_v1.2_p1d.20030501.tif"
       ]
      },
      {
       "output_type": "stream",
       "stream": "stdout",
       "text": [
        "\n",
        "D:\\Data\\GPCP_tif_clip_clip//gpcp_1dd_v1.2_p1d.20030502.tif"
       ]
      },
      {
       "output_type": "stream",
       "stream": "stdout",
       "text": [
        "\n",
        "D:\\Data\\GPCP_tif_clip_clip//gpcp_1dd_v1.2_p1d.20030503.tif"
       ]
      },
      {
       "output_type": "stream",
       "stream": "stdout",
       "text": [
        "\n",
        "D:\\Data\\GPCP_tif_clip_clip//gpcp_1dd_v1.2_p1d.20030504.tif"
       ]
      },
      {
       "output_type": "stream",
       "stream": "stdout",
       "text": [
        "\n",
        "D:\\Data\\GPCP_tif_clip_clip//gpcp_1dd_v1.2_p1d.20030505.tif"
       ]
      },
      {
       "output_type": "stream",
       "stream": "stdout",
       "text": [
        "\n",
        "D:\\Data\\GPCP_tif_clip_clip//gpcp_1dd_v1.2_p1d.20030506.tif"
       ]
      },
      {
       "output_type": "stream",
       "stream": "stdout",
       "text": [
        "\n",
        "D:\\Data\\GPCP_tif_clip_clip//gpcp_1dd_v1.2_p1d.20030507.tif"
       ]
      },
      {
       "output_type": "stream",
       "stream": "stdout",
       "text": [
        "\n",
        "D:\\Data\\GPCP_tif_clip_clip//gpcp_1dd_v1.2_p1d.20030508.tif"
       ]
      },
      {
       "output_type": "stream",
       "stream": "stdout",
       "text": [
        "\n",
        "D:\\Data\\GPCP_tif_clip_clip//gpcp_1dd_v1.2_p1d.20030509.tif"
       ]
      },
      {
       "output_type": "stream",
       "stream": "stdout",
       "text": [
        "\n",
        "D:\\Data\\GPCP_tif_clip_clip//gpcp_1dd_v1.2_p1d.20030510.tif"
       ]
      },
      {
       "output_type": "stream",
       "stream": "stdout",
       "text": [
        "\n",
        "D:\\Data\\GPCP_tif_clip_clip//gpcp_1dd_v1.2_p1d.20030511.tif"
       ]
      },
      {
       "output_type": "stream",
       "stream": "stdout",
       "text": [
        "\n",
        "D:\\Data\\GPCP_tif_clip_clip//gpcp_1dd_v1.2_p1d.20030512.tif"
       ]
      },
      {
       "output_type": "stream",
       "stream": "stdout",
       "text": [
        "\n",
        "D:\\Data\\GPCP_tif_clip_clip//gpcp_1dd_v1.2_p1d.20030513.tif"
       ]
      },
      {
       "output_type": "stream",
       "stream": "stdout",
       "text": [
        "\n",
        "D:\\Data\\GPCP_tif_clip_clip//gpcp_1dd_v1.2_p1d.20030514.tif"
       ]
      },
      {
       "output_type": "stream",
       "stream": "stdout",
       "text": [
        "\n",
        "D:\\Data\\GPCP_tif_clip_clip//gpcp_1dd_v1.2_p1d.20030515.tif"
       ]
      },
      {
       "output_type": "stream",
       "stream": "stdout",
       "text": [
        "\n",
        "D:\\Data\\GPCP_tif_clip_clip//gpcp_1dd_v1.2_p1d.20030516.tif"
       ]
      },
      {
       "output_type": "stream",
       "stream": "stdout",
       "text": [
        "\n",
        "D:\\Data\\GPCP_tif_clip_clip//gpcp_1dd_v1.2_p1d.20030517.tif"
       ]
      },
      {
       "output_type": "stream",
       "stream": "stdout",
       "text": [
        "\n",
        "D:\\Data\\GPCP_tif_clip_clip//gpcp_1dd_v1.2_p1d.20030518.tif"
       ]
      },
      {
       "output_type": "stream",
       "stream": "stdout",
       "text": [
        "\n",
        "D:\\Data\\GPCP_tif_clip_clip//gpcp_1dd_v1.2_p1d.20030519.tif"
       ]
      },
      {
       "output_type": "stream",
       "stream": "stdout",
       "text": [
        "\n",
        "D:\\Data\\GPCP_tif_clip_clip//gpcp_1dd_v1.2_p1d.20030520.tif"
       ]
      },
      {
       "output_type": "stream",
       "stream": "stdout",
       "text": [
        "\n",
        "D:\\Data\\GPCP_tif_clip_clip//gpcp_1dd_v1.2_p1d.20030521.tif"
       ]
      },
      {
       "output_type": "stream",
       "stream": "stdout",
       "text": [
        "\n",
        "D:\\Data\\GPCP_tif_clip_clip//gpcp_1dd_v1.2_p1d.20030522.tif"
       ]
      },
      {
       "output_type": "stream",
       "stream": "stdout",
       "text": [
        "\n",
        "D:\\Data\\GPCP_tif_clip_clip//gpcp_1dd_v1.2_p1d.20030523.tif"
       ]
      },
      {
       "output_type": "stream",
       "stream": "stdout",
       "text": [
        "\n",
        "D:\\Data\\GPCP_tif_clip_clip//gpcp_1dd_v1.2_p1d.20030524.tif"
       ]
      },
      {
       "output_type": "stream",
       "stream": "stdout",
       "text": [
        "\n",
        "D:\\Data\\GPCP_tif_clip_clip//gpcp_1dd_v1.2_p1d.20030525.tif"
       ]
      },
      {
       "output_type": "stream",
       "stream": "stdout",
       "text": [
        "\n",
        "D:\\Data\\GPCP_tif_clip_clip//gpcp_1dd_v1.2_p1d.20030526.tif"
       ]
      },
      {
       "output_type": "stream",
       "stream": "stdout",
       "text": [
        "\n",
        "D:\\Data\\GPCP_tif_clip_clip//gpcp_1dd_v1.2_p1d.20030527.tif"
       ]
      },
      {
       "output_type": "stream",
       "stream": "stdout",
       "text": [
        "\n",
        "D:\\Data\\GPCP_tif_clip_clip//gpcp_1dd_v1.2_p1d.20030528.tif"
       ]
      },
      {
       "output_type": "stream",
       "stream": "stdout",
       "text": [
        "\n",
        "D:\\Data\\GPCP_tif_clip_clip//gpcp_1dd_v1.2_p1d.20030529.tif"
       ]
      },
      {
       "output_type": "stream",
       "stream": "stdout",
       "text": [
        "\n",
        "D:\\Data\\GPCP_tif_clip_clip//gpcp_1dd_v1.2_p1d.20030530.tif"
       ]
      },
      {
       "output_type": "stream",
       "stream": "stdout",
       "text": [
        "\n",
        "D:\\Data\\GPCP_tif_clip_clip//gpcp_1dd_v1.2_p1d.20030600.tif"
       ]
      },
      {
       "output_type": "stream",
       "stream": "stdout",
       "text": [
        "\n",
        "D:\\Data\\GPCP_tif_clip_clip//gpcp_1dd_v1.2_p1d.20030601.tif"
       ]
      },
      {
       "output_type": "stream",
       "stream": "stdout",
       "text": [
        "\n",
        "D:\\Data\\GPCP_tif_clip_clip//gpcp_1dd_v1.2_p1d.20030602.tif"
       ]
      },
      {
       "output_type": "stream",
       "stream": "stdout",
       "text": [
        "\n",
        "D:\\Data\\GPCP_tif_clip_clip//gpcp_1dd_v1.2_p1d.20030603.tif"
       ]
      },
      {
       "output_type": "stream",
       "stream": "stdout",
       "text": [
        "\n",
        "D:\\Data\\GPCP_tif_clip_clip//gpcp_1dd_v1.2_p1d.20030604.tif"
       ]
      },
      {
       "output_type": "stream",
       "stream": "stdout",
       "text": [
        "\n",
        "D:\\Data\\GPCP_tif_clip_clip//gpcp_1dd_v1.2_p1d.20030605.tif"
       ]
      },
      {
       "output_type": "stream",
       "stream": "stdout",
       "text": [
        "\n",
        "D:\\Data\\GPCP_tif_clip_clip//gpcp_1dd_v1.2_p1d.20030606.tif"
       ]
      },
      {
       "output_type": "stream",
       "stream": "stdout",
       "text": [
        "\n",
        "D:\\Data\\GPCP_tif_clip_clip//gpcp_1dd_v1.2_p1d.20030607.tif"
       ]
      },
      {
       "output_type": "stream",
       "stream": "stdout",
       "text": [
        "\n",
        "D:\\Data\\GPCP_tif_clip_clip//gpcp_1dd_v1.2_p1d.20030608.tif"
       ]
      },
      {
       "output_type": "stream",
       "stream": "stdout",
       "text": [
        "\n",
        "D:\\Data\\GPCP_tif_clip_clip//gpcp_1dd_v1.2_p1d.20030609.tif"
       ]
      },
      {
       "output_type": "stream",
       "stream": "stdout",
       "text": [
        "\n",
        "D:\\Data\\GPCP_tif_clip_clip//gpcp_1dd_v1.2_p1d.20030610.tif"
       ]
      },
      {
       "output_type": "stream",
       "stream": "stdout",
       "text": [
        "\n",
        "D:\\Data\\GPCP_tif_clip_clip//gpcp_1dd_v1.2_p1d.20030611.tif"
       ]
      },
      {
       "output_type": "stream",
       "stream": "stdout",
       "text": [
        "\n",
        "D:\\Data\\GPCP_tif_clip_clip//gpcp_1dd_v1.2_p1d.20030612.tif"
       ]
      },
      {
       "output_type": "stream",
       "stream": "stdout",
       "text": [
        "\n",
        "D:\\Data\\GPCP_tif_clip_clip//gpcp_1dd_v1.2_p1d.20030613.tif"
       ]
      },
      {
       "output_type": "stream",
       "stream": "stdout",
       "text": [
        "\n",
        "D:\\Data\\GPCP_tif_clip_clip//gpcp_1dd_v1.2_p1d.20030614.tif"
       ]
      },
      {
       "output_type": "stream",
       "stream": "stdout",
       "text": [
        "\n",
        "D:\\Data\\GPCP_tif_clip_clip//gpcp_1dd_v1.2_p1d.20030615.tif"
       ]
      },
      {
       "output_type": "stream",
       "stream": "stdout",
       "text": [
        "\n",
        "D:\\Data\\GPCP_tif_clip_clip//gpcp_1dd_v1.2_p1d.20030616.tif"
       ]
      },
      {
       "output_type": "stream",
       "stream": "stdout",
       "text": [
        "\n",
        "D:\\Data\\GPCP_tif_clip_clip//gpcp_1dd_v1.2_p1d.20030617.tif"
       ]
      },
      {
       "output_type": "stream",
       "stream": "stdout",
       "text": [
        "\n",
        "D:\\Data\\GPCP_tif_clip_clip//gpcp_1dd_v1.2_p1d.20030618.tif"
       ]
      },
      {
       "output_type": "stream",
       "stream": "stdout",
       "text": [
        "\n",
        "D:\\Data\\GPCP_tif_clip_clip//gpcp_1dd_v1.2_p1d.20030619.tif"
       ]
      },
      {
       "output_type": "stream",
       "stream": "stdout",
       "text": [
        "\n",
        "D:\\Data\\GPCP_tif_clip_clip//gpcp_1dd_v1.2_p1d.20030620.tif"
       ]
      },
      {
       "output_type": "stream",
       "stream": "stdout",
       "text": [
        "\n",
        "D:\\Data\\GPCP_tif_clip_clip//gpcp_1dd_v1.2_p1d.20030621.tif"
       ]
      },
      {
       "output_type": "stream",
       "stream": "stdout",
       "text": [
        "\n",
        "D:\\Data\\GPCP_tif_clip_clip//gpcp_1dd_v1.2_p1d.20030622.tif"
       ]
      },
      {
       "output_type": "stream",
       "stream": "stdout",
       "text": [
        "\n",
        "D:\\Data\\GPCP_tif_clip_clip//gpcp_1dd_v1.2_p1d.20030623.tif"
       ]
      },
      {
       "output_type": "stream",
       "stream": "stdout",
       "text": [
        "\n",
        "D:\\Data\\GPCP_tif_clip_clip//gpcp_1dd_v1.2_p1d.20030624.tif"
       ]
      },
      {
       "output_type": "stream",
       "stream": "stdout",
       "text": [
        "\n",
        "D:\\Data\\GPCP_tif_clip_clip//gpcp_1dd_v1.2_p1d.20030625.tif"
       ]
      },
      {
       "output_type": "stream",
       "stream": "stdout",
       "text": [
        "\n",
        "D:\\Data\\GPCP_tif_clip_clip//gpcp_1dd_v1.2_p1d.20030626.tif"
       ]
      },
      {
       "output_type": "stream",
       "stream": "stdout",
       "text": [
        "\n",
        "D:\\Data\\GPCP_tif_clip_clip//gpcp_1dd_v1.2_p1d.20030627.tif"
       ]
      },
      {
       "output_type": "stream",
       "stream": "stdout",
       "text": [
        "\n",
        "D:\\Data\\GPCP_tif_clip_clip//gpcp_1dd_v1.2_p1d.20030628.tif"
       ]
      },
      {
       "output_type": "stream",
       "stream": "stdout",
       "text": [
        "\n",
        "D:\\Data\\GPCP_tif_clip_clip//gpcp_1dd_v1.2_p1d.20030629.tif"
       ]
      },
      {
       "output_type": "stream",
       "stream": "stdout",
       "text": [
        "\n",
        "D:\\Data\\GPCP_tif_clip_clip//gpcp_1dd_v1.2_p1d.20030700.tif"
       ]
      },
      {
       "output_type": "stream",
       "stream": "stdout",
       "text": [
        "\n",
        "D:\\Data\\GPCP_tif_clip_clip//gpcp_1dd_v1.2_p1d.20030701.tif"
       ]
      },
      {
       "output_type": "stream",
       "stream": "stdout",
       "text": [
        "\n",
        "D:\\Data\\GPCP_tif_clip_clip//gpcp_1dd_v1.2_p1d.20030702.tif"
       ]
      },
      {
       "output_type": "stream",
       "stream": "stdout",
       "text": [
        "\n",
        "D:\\Data\\GPCP_tif_clip_clip//gpcp_1dd_v1.2_p1d.20030703.tif"
       ]
      },
      {
       "output_type": "stream",
       "stream": "stdout",
       "text": [
        "\n",
        "D:\\Data\\GPCP_tif_clip_clip//gpcp_1dd_v1.2_p1d.20030704.tif"
       ]
      },
      {
       "output_type": "stream",
       "stream": "stdout",
       "text": [
        "\n",
        "D:\\Data\\GPCP_tif_clip_clip//gpcp_1dd_v1.2_p1d.20030705.tif"
       ]
      },
      {
       "output_type": "stream",
       "stream": "stdout",
       "text": [
        "\n",
        "D:\\Data\\GPCP_tif_clip_clip//gpcp_1dd_v1.2_p1d.20030706.tif"
       ]
      },
      {
       "output_type": "stream",
       "stream": "stdout",
       "text": [
        "\n",
        "D:\\Data\\GPCP_tif_clip_clip//gpcp_1dd_v1.2_p1d.20030707.tif"
       ]
      },
      {
       "output_type": "stream",
       "stream": "stdout",
       "text": [
        "\n",
        "D:\\Data\\GPCP_tif_clip_clip//gpcp_1dd_v1.2_p1d.20030708.tif"
       ]
      },
      {
       "output_type": "stream",
       "stream": "stdout",
       "text": [
        "\n",
        "D:\\Data\\GPCP_tif_clip_clip//gpcp_1dd_v1.2_p1d.20030709.tif"
       ]
      },
      {
       "output_type": "stream",
       "stream": "stdout",
       "text": [
        "\n",
        "D:\\Data\\GPCP_tif_clip_clip//gpcp_1dd_v1.2_p1d.20030710.tif"
       ]
      },
      {
       "output_type": "stream",
       "stream": "stdout",
       "text": [
        "\n",
        "D:\\Data\\GPCP_tif_clip_clip//gpcp_1dd_v1.2_p1d.20030711.tif"
       ]
      },
      {
       "output_type": "stream",
       "stream": "stdout",
       "text": [
        "\n",
        "D:\\Data\\GPCP_tif_clip_clip//gpcp_1dd_v1.2_p1d.20030712.tif"
       ]
      },
      {
       "output_type": "stream",
       "stream": "stdout",
       "text": [
        "\n",
        "D:\\Data\\GPCP_tif_clip_clip//gpcp_1dd_v1.2_p1d.20030713.tif"
       ]
      },
      {
       "output_type": "stream",
       "stream": "stdout",
       "text": [
        "\n",
        "D:\\Data\\GPCP_tif_clip_clip//gpcp_1dd_v1.2_p1d.20030714.tif"
       ]
      },
      {
       "output_type": "stream",
       "stream": "stdout",
       "text": [
        "\n",
        "D:\\Data\\GPCP_tif_clip_clip//gpcp_1dd_v1.2_p1d.20030715.tif"
       ]
      },
      {
       "output_type": "stream",
       "stream": "stdout",
       "text": [
        "\n",
        "D:\\Data\\GPCP_tif_clip_clip//gpcp_1dd_v1.2_p1d.20030716.tif"
       ]
      },
      {
       "output_type": "stream",
       "stream": "stdout",
       "text": [
        "\n",
        "D:\\Data\\GPCP_tif_clip_clip//gpcp_1dd_v1.2_p1d.20030717.tif"
       ]
      },
      {
       "output_type": "stream",
       "stream": "stdout",
       "text": [
        "\n",
        "D:\\Data\\GPCP_tif_clip_clip//gpcp_1dd_v1.2_p1d.20030718.tif"
       ]
      },
      {
       "output_type": "stream",
       "stream": "stdout",
       "text": [
        "\n",
        "D:\\Data\\GPCP_tif_clip_clip//gpcp_1dd_v1.2_p1d.20030719.tif"
       ]
      },
      {
       "output_type": "stream",
       "stream": "stdout",
       "text": [
        "\n",
        "D:\\Data\\GPCP_tif_clip_clip//gpcp_1dd_v1.2_p1d.20030720.tif"
       ]
      },
      {
       "output_type": "stream",
       "stream": "stdout",
       "text": [
        "\n",
        "D:\\Data\\GPCP_tif_clip_clip//gpcp_1dd_v1.2_p1d.20030721.tif"
       ]
      },
      {
       "output_type": "stream",
       "stream": "stdout",
       "text": [
        "\n",
        "D:\\Data\\GPCP_tif_clip_clip//gpcp_1dd_v1.2_p1d.20030722.tif"
       ]
      },
      {
       "output_type": "stream",
       "stream": "stdout",
       "text": [
        "\n",
        "D:\\Data\\GPCP_tif_clip_clip//gpcp_1dd_v1.2_p1d.20030723.tif"
       ]
      },
      {
       "output_type": "stream",
       "stream": "stdout",
       "text": [
        "\n",
        "D:\\Data\\GPCP_tif_clip_clip//gpcp_1dd_v1.2_p1d.20030724.tif"
       ]
      },
      {
       "output_type": "stream",
       "stream": "stdout",
       "text": [
        "\n",
        "D:\\Data\\GPCP_tif_clip_clip//gpcp_1dd_v1.2_p1d.20030725.tif"
       ]
      },
      {
       "output_type": "stream",
       "stream": "stdout",
       "text": [
        "\n",
        "D:\\Data\\GPCP_tif_clip_clip//gpcp_1dd_v1.2_p1d.20030726.tif"
       ]
      },
      {
       "output_type": "stream",
       "stream": "stdout",
       "text": [
        "\n",
        "D:\\Data\\GPCP_tif_clip_clip//gpcp_1dd_v1.2_p1d.20030727.tif"
       ]
      },
      {
       "output_type": "stream",
       "stream": "stdout",
       "text": [
        "\n",
        "D:\\Data\\GPCP_tif_clip_clip//gpcp_1dd_v1.2_p1d.20030728.tif"
       ]
      },
      {
       "output_type": "stream",
       "stream": "stdout",
       "text": [
        "\n",
        "D:\\Data\\GPCP_tif_clip_clip//gpcp_1dd_v1.2_p1d.20030729.tif"
       ]
      },
      {
       "output_type": "stream",
       "stream": "stdout",
       "text": [
        "\n",
        "D:\\Data\\GPCP_tif_clip_clip//gpcp_1dd_v1.2_p1d.20030730.tif"
       ]
      },
      {
       "output_type": "stream",
       "stream": "stdout",
       "text": [
        "\n",
        "D:\\Data\\GPCP_tif_clip_clip//gpcp_1dd_v1.2_p1d.20030800.tif"
       ]
      },
      {
       "output_type": "stream",
       "stream": "stdout",
       "text": [
        "\n",
        "D:\\Data\\GPCP_tif_clip_clip//gpcp_1dd_v1.2_p1d.20030801.tif"
       ]
      },
      {
       "output_type": "stream",
       "stream": "stdout",
       "text": [
        "\n",
        "D:\\Data\\GPCP_tif_clip_clip//gpcp_1dd_v1.2_p1d.20030802.tif"
       ]
      },
      {
       "output_type": "stream",
       "stream": "stdout",
       "text": [
        "\n",
        "D:\\Data\\GPCP_tif_clip_clip//gpcp_1dd_v1.2_p1d.20030803.tif"
       ]
      },
      {
       "output_type": "stream",
       "stream": "stdout",
       "text": [
        "\n",
        "D:\\Data\\GPCP_tif_clip_clip//gpcp_1dd_v1.2_p1d.20030804.tif"
       ]
      },
      {
       "output_type": "stream",
       "stream": "stdout",
       "text": [
        "\n",
        "D:\\Data\\GPCP_tif_clip_clip//gpcp_1dd_v1.2_p1d.20030805.tif"
       ]
      },
      {
       "output_type": "stream",
       "stream": "stdout",
       "text": [
        "\n",
        "D:\\Data\\GPCP_tif_clip_clip//gpcp_1dd_v1.2_p1d.20030806.tif"
       ]
      },
      {
       "output_type": "stream",
       "stream": "stdout",
       "text": [
        "\n",
        "D:\\Data\\GPCP_tif_clip_clip//gpcp_1dd_v1.2_p1d.20030807.tif"
       ]
      },
      {
       "output_type": "stream",
       "stream": "stdout",
       "text": [
        "\n",
        "D:\\Data\\GPCP_tif_clip_clip//gpcp_1dd_v1.2_p1d.20030808.tif"
       ]
      },
      {
       "output_type": "stream",
       "stream": "stdout",
       "text": [
        "\n",
        "D:\\Data\\GPCP_tif_clip_clip//gpcp_1dd_v1.2_p1d.20030809.tif"
       ]
      },
      {
       "output_type": "stream",
       "stream": "stdout",
       "text": [
        "\n",
        "D:\\Data\\GPCP_tif_clip_clip//gpcp_1dd_v1.2_p1d.20030810.tif"
       ]
      },
      {
       "output_type": "stream",
       "stream": "stdout",
       "text": [
        "\n",
        "D:\\Data\\GPCP_tif_clip_clip//gpcp_1dd_v1.2_p1d.20030811.tif"
       ]
      },
      {
       "output_type": "stream",
       "stream": "stdout",
       "text": [
        "\n",
        "D:\\Data\\GPCP_tif_clip_clip//gpcp_1dd_v1.2_p1d.20030812.tif"
       ]
      },
      {
       "output_type": "stream",
       "stream": "stdout",
       "text": [
        "\n",
        "D:\\Data\\GPCP_tif_clip_clip//gpcp_1dd_v1.2_p1d.20030813.tif"
       ]
      },
      {
       "output_type": "stream",
       "stream": "stdout",
       "text": [
        "\n",
        "D:\\Data\\GPCP_tif_clip_clip//gpcp_1dd_v1.2_p1d.20030814.tif"
       ]
      },
      {
       "output_type": "stream",
       "stream": "stdout",
       "text": [
        "\n",
        "D:\\Data\\GPCP_tif_clip_clip//gpcp_1dd_v1.2_p1d.20030815.tif"
       ]
      },
      {
       "output_type": "stream",
       "stream": "stdout",
       "text": [
        "\n",
        "D:\\Data\\GPCP_tif_clip_clip//gpcp_1dd_v1.2_p1d.20030816.tif"
       ]
      },
      {
       "output_type": "stream",
       "stream": "stdout",
       "text": [
        "\n",
        "D:\\Data\\GPCP_tif_clip_clip//gpcp_1dd_v1.2_p1d.20030817.tif"
       ]
      },
      {
       "output_type": "stream",
       "stream": "stdout",
       "text": [
        "\n",
        "D:\\Data\\GPCP_tif_clip_clip//gpcp_1dd_v1.2_p1d.20030818.tif"
       ]
      },
      {
       "output_type": "stream",
       "stream": "stdout",
       "text": [
        "\n",
        "D:\\Data\\GPCP_tif_clip_clip//gpcp_1dd_v1.2_p1d.20030819.tif"
       ]
      },
      {
       "output_type": "stream",
       "stream": "stdout",
       "text": [
        "\n",
        "D:\\Data\\GPCP_tif_clip_clip//gpcp_1dd_v1.2_p1d.20030820.tif"
       ]
      },
      {
       "output_type": "stream",
       "stream": "stdout",
       "text": [
        "\n",
        "D:\\Data\\GPCP_tif_clip_clip//gpcp_1dd_v1.2_p1d.20030821.tif"
       ]
      },
      {
       "output_type": "stream",
       "stream": "stdout",
       "text": [
        "\n",
        "D:\\Data\\GPCP_tif_clip_clip//gpcp_1dd_v1.2_p1d.20030822.tif"
       ]
      },
      {
       "output_type": "stream",
       "stream": "stdout",
       "text": [
        "\n",
        "D:\\Data\\GPCP_tif_clip_clip//gpcp_1dd_v1.2_p1d.20030823.tif"
       ]
      },
      {
       "output_type": "stream",
       "stream": "stdout",
       "text": [
        "\n",
        "D:\\Data\\GPCP_tif_clip_clip//gpcp_1dd_v1.2_p1d.20030824.tif"
       ]
      },
      {
       "output_type": "stream",
       "stream": "stdout",
       "text": [
        "\n",
        "D:\\Data\\GPCP_tif_clip_clip//gpcp_1dd_v1.2_p1d.20030825.tif"
       ]
      },
      {
       "output_type": "stream",
       "stream": "stdout",
       "text": [
        "\n",
        "D:\\Data\\GPCP_tif_clip_clip//gpcp_1dd_v1.2_p1d.20030826.tif"
       ]
      },
      {
       "output_type": "stream",
       "stream": "stdout",
       "text": [
        "\n",
        "D:\\Data\\GPCP_tif_clip_clip//gpcp_1dd_v1.2_p1d.20030827.tif"
       ]
      },
      {
       "output_type": "stream",
       "stream": "stdout",
       "text": [
        "\n",
        "D:\\Data\\GPCP_tif_clip_clip//gpcp_1dd_v1.2_p1d.20030828.tif"
       ]
      },
      {
       "output_type": "stream",
       "stream": "stdout",
       "text": [
        "\n",
        "D:\\Data\\GPCP_tif_clip_clip//gpcp_1dd_v1.2_p1d.20030829.tif"
       ]
      },
      {
       "output_type": "stream",
       "stream": "stdout",
       "text": [
        "\n",
        "D:\\Data\\GPCP_tif_clip_clip//gpcp_1dd_v1.2_p1d.20030830.tif"
       ]
      },
      {
       "output_type": "stream",
       "stream": "stdout",
       "text": [
        "\n",
        "D:\\Data\\GPCP_tif_clip_clip//gpcp_1dd_v1.2_p1d.20030900.tif"
       ]
      },
      {
       "output_type": "stream",
       "stream": "stdout",
       "text": [
        "\n",
        "D:\\Data\\GPCP_tif_clip_clip//gpcp_1dd_v1.2_p1d.20030901.tif"
       ]
      },
      {
       "output_type": "stream",
       "stream": "stdout",
       "text": [
        "\n",
        "D:\\Data\\GPCP_tif_clip_clip//gpcp_1dd_v1.2_p1d.20030902.tif"
       ]
      },
      {
       "output_type": "stream",
       "stream": "stdout",
       "text": [
        "\n",
        "D:\\Data\\GPCP_tif_clip_clip//gpcp_1dd_v1.2_p1d.20030903.tif"
       ]
      },
      {
       "output_type": "stream",
       "stream": "stdout",
       "text": [
        "\n",
        "D:\\Data\\GPCP_tif_clip_clip//gpcp_1dd_v1.2_p1d.20030904.tif"
       ]
      },
      {
       "output_type": "stream",
       "stream": "stdout",
       "text": [
        "\n",
        "D:\\Data\\GPCP_tif_clip_clip//gpcp_1dd_v1.2_p1d.20030905.tif"
       ]
      },
      {
       "output_type": "stream",
       "stream": "stdout",
       "text": [
        "\n",
        "D:\\Data\\GPCP_tif_clip_clip//gpcp_1dd_v1.2_p1d.20030906.tif"
       ]
      },
      {
       "output_type": "stream",
       "stream": "stdout",
       "text": [
        "\n",
        "D:\\Data\\GPCP_tif_clip_clip//gpcp_1dd_v1.2_p1d.20030907.tif"
       ]
      },
      {
       "output_type": "stream",
       "stream": "stdout",
       "text": [
        "\n",
        "D:\\Data\\GPCP_tif_clip_clip//gpcp_1dd_v1.2_p1d.20030908.tif"
       ]
      },
      {
       "output_type": "stream",
       "stream": "stdout",
       "text": [
        "\n",
        "D:\\Data\\GPCP_tif_clip_clip//gpcp_1dd_v1.2_p1d.20030909.tif"
       ]
      },
      {
       "output_type": "stream",
       "stream": "stdout",
       "text": [
        "\n",
        "D:\\Data\\GPCP_tif_clip_clip//gpcp_1dd_v1.2_p1d.20030910.tif"
       ]
      },
      {
       "output_type": "stream",
       "stream": "stdout",
       "text": [
        "\n",
        "D:\\Data\\GPCP_tif_clip_clip//gpcp_1dd_v1.2_p1d.20030911.tif"
       ]
      },
      {
       "output_type": "stream",
       "stream": "stdout",
       "text": [
        "\n",
        "D:\\Data\\GPCP_tif_clip_clip//gpcp_1dd_v1.2_p1d.20030912.tif"
       ]
      },
      {
       "output_type": "stream",
       "stream": "stdout",
       "text": [
        "\n",
        "D:\\Data\\GPCP_tif_clip_clip//gpcp_1dd_v1.2_p1d.20030913.tif"
       ]
      },
      {
       "output_type": "stream",
       "stream": "stdout",
       "text": [
        "\n",
        "D:\\Data\\GPCP_tif_clip_clip//gpcp_1dd_v1.2_p1d.20030914.tif"
       ]
      },
      {
       "output_type": "stream",
       "stream": "stdout",
       "text": [
        "\n",
        "D:\\Data\\GPCP_tif_clip_clip//gpcp_1dd_v1.2_p1d.20030915.tif"
       ]
      },
      {
       "output_type": "stream",
       "stream": "stdout",
       "text": [
        "\n",
        "D:\\Data\\GPCP_tif_clip_clip//gpcp_1dd_v1.2_p1d.20030916.tif"
       ]
      },
      {
       "output_type": "stream",
       "stream": "stdout",
       "text": [
        "\n",
        "D:\\Data\\GPCP_tif_clip_clip//gpcp_1dd_v1.2_p1d.20030917.tif"
       ]
      },
      {
       "output_type": "stream",
       "stream": "stdout",
       "text": [
        "\n",
        "D:\\Data\\GPCP_tif_clip_clip//gpcp_1dd_v1.2_p1d.20030918.tif"
       ]
      },
      {
       "output_type": "stream",
       "stream": "stdout",
       "text": [
        "\n",
        "D:\\Data\\GPCP_tif_clip_clip//gpcp_1dd_v1.2_p1d.20030919.tif"
       ]
      },
      {
       "output_type": "stream",
       "stream": "stdout",
       "text": [
        "\n",
        "D:\\Data\\GPCP_tif_clip_clip//gpcp_1dd_v1.2_p1d.20030920.tif"
       ]
      },
      {
       "output_type": "stream",
       "stream": "stdout",
       "text": [
        "\n",
        "D:\\Data\\GPCP_tif_clip_clip//gpcp_1dd_v1.2_p1d.20030921.tif"
       ]
      },
      {
       "output_type": "stream",
       "stream": "stdout",
       "text": [
        "\n",
        "D:\\Data\\GPCP_tif_clip_clip//gpcp_1dd_v1.2_p1d.20030922.tif"
       ]
      },
      {
       "output_type": "stream",
       "stream": "stdout",
       "text": [
        "\n",
        "D:\\Data\\GPCP_tif_clip_clip//gpcp_1dd_v1.2_p1d.20030923.tif"
       ]
      },
      {
       "output_type": "stream",
       "stream": "stdout",
       "text": [
        "\n",
        "D:\\Data\\GPCP_tif_clip_clip//gpcp_1dd_v1.2_p1d.20030924.tif"
       ]
      },
      {
       "output_type": "stream",
       "stream": "stdout",
       "text": [
        "\n",
        "D:\\Data\\GPCP_tif_clip_clip//gpcp_1dd_v1.2_p1d.20030925.tif"
       ]
      },
      {
       "output_type": "stream",
       "stream": "stdout",
       "text": [
        "\n",
        "D:\\Data\\GPCP_tif_clip_clip//gpcp_1dd_v1.2_p1d.20030926.tif"
       ]
      },
      {
       "output_type": "stream",
       "stream": "stdout",
       "text": [
        "\n",
        "D:\\Data\\GPCP_tif_clip_clip//gpcp_1dd_v1.2_p1d.20030927.tif"
       ]
      },
      {
       "output_type": "stream",
       "stream": "stdout",
       "text": [
        "\n",
        "D:\\Data\\GPCP_tif_clip_clip//gpcp_1dd_v1.2_p1d.20030928.tif"
       ]
      },
      {
       "output_type": "stream",
       "stream": "stdout",
       "text": [
        "\n",
        "D:\\Data\\GPCP_tif_clip_clip//gpcp_1dd_v1.2_p1d.20030929.tif"
       ]
      },
      {
       "output_type": "stream",
       "stream": "stdout",
       "text": [
        "\n",
        "D:\\Data\\GPCP_tif_clip_clip//gpcp_1dd_v1.2_p1d.20031000.tif"
       ]
      },
      {
       "output_type": "stream",
       "stream": "stdout",
       "text": [
        "\n",
        "D:\\Data\\GPCP_tif_clip_clip//gpcp_1dd_v1.2_p1d.20031001.tif"
       ]
      },
      {
       "output_type": "stream",
       "stream": "stdout",
       "text": [
        "\n",
        "D:\\Data\\GPCP_tif_clip_clip//gpcp_1dd_v1.2_p1d.20031002.tif"
       ]
      },
      {
       "output_type": "stream",
       "stream": "stdout",
       "text": [
        "\n",
        "D:\\Data\\GPCP_tif_clip_clip//gpcp_1dd_v1.2_p1d.20031003.tif"
       ]
      },
      {
       "output_type": "stream",
       "stream": "stdout",
       "text": [
        "\n",
        "D:\\Data\\GPCP_tif_clip_clip//gpcp_1dd_v1.2_p1d.20031004.tif"
       ]
      },
      {
       "output_type": "stream",
       "stream": "stdout",
       "text": [
        "\n",
        "D:\\Data\\GPCP_tif_clip_clip//gpcp_1dd_v1.2_p1d.20031005.tif"
       ]
      },
      {
       "output_type": "stream",
       "stream": "stdout",
       "text": [
        "\n",
        "D:\\Data\\GPCP_tif_clip_clip//gpcp_1dd_v1.2_p1d.20031006.tif"
       ]
      },
      {
       "output_type": "stream",
       "stream": "stdout",
       "text": [
        "\n",
        "D:\\Data\\GPCP_tif_clip_clip//gpcp_1dd_v1.2_p1d.20031007.tif"
       ]
      },
      {
       "output_type": "stream",
       "stream": "stdout",
       "text": [
        "\n",
        "D:\\Data\\GPCP_tif_clip_clip//gpcp_1dd_v1.2_p1d.20031008.tif"
       ]
      },
      {
       "output_type": "stream",
       "stream": "stdout",
       "text": [
        "\n",
        "D:\\Data\\GPCP_tif_clip_clip//gpcp_1dd_v1.2_p1d.20031009.tif"
       ]
      },
      {
       "output_type": "stream",
       "stream": "stdout",
       "text": [
        "\n",
        "D:\\Data\\GPCP_tif_clip_clip//gpcp_1dd_v1.2_p1d.20031010.tif"
       ]
      },
      {
       "output_type": "stream",
       "stream": "stdout",
       "text": [
        "\n",
        "D:\\Data\\GPCP_tif_clip_clip//gpcp_1dd_v1.2_p1d.20031011.tif"
       ]
      },
      {
       "output_type": "stream",
       "stream": "stdout",
       "text": [
        "\n",
        "D:\\Data\\GPCP_tif_clip_clip//gpcp_1dd_v1.2_p1d.20031012.tif"
       ]
      },
      {
       "output_type": "stream",
       "stream": "stdout",
       "text": [
        "\n",
        "D:\\Data\\GPCP_tif_clip_clip//gpcp_1dd_v1.2_p1d.20031013.tif"
       ]
      },
      {
       "output_type": "stream",
       "stream": "stdout",
       "text": [
        "\n",
        "D:\\Data\\GPCP_tif_clip_clip//gpcp_1dd_v1.2_p1d.20031014.tif"
       ]
      },
      {
       "output_type": "stream",
       "stream": "stdout",
       "text": [
        "\n",
        "D:\\Data\\GPCP_tif_clip_clip//gpcp_1dd_v1.2_p1d.20031015.tif"
       ]
      },
      {
       "output_type": "stream",
       "stream": "stdout",
       "text": [
        "\n",
        "D:\\Data\\GPCP_tif_clip_clip//gpcp_1dd_v1.2_p1d.20031016.tif"
       ]
      },
      {
       "output_type": "stream",
       "stream": "stdout",
       "text": [
        "\n",
        "D:\\Data\\GPCP_tif_clip_clip//gpcp_1dd_v1.2_p1d.20031017.tif"
       ]
      },
      {
       "output_type": "stream",
       "stream": "stdout",
       "text": [
        "\n",
        "D:\\Data\\GPCP_tif_clip_clip//gpcp_1dd_v1.2_p1d.20031018.tif"
       ]
      },
      {
       "output_type": "stream",
       "stream": "stdout",
       "text": [
        "\n",
        "D:\\Data\\GPCP_tif_clip_clip//gpcp_1dd_v1.2_p1d.20031019.tif"
       ]
      },
      {
       "output_type": "stream",
       "stream": "stdout",
       "text": [
        "\n",
        "D:\\Data\\GPCP_tif_clip_clip//gpcp_1dd_v1.2_p1d.20031020.tif"
       ]
      },
      {
       "output_type": "stream",
       "stream": "stdout",
       "text": [
        "\n",
        "D:\\Data\\GPCP_tif_clip_clip//gpcp_1dd_v1.2_p1d.20031021.tif"
       ]
      },
      {
       "output_type": "stream",
       "stream": "stdout",
       "text": [
        "\n",
        "D:\\Data\\GPCP_tif_clip_clip//gpcp_1dd_v1.2_p1d.20031022.tif"
       ]
      },
      {
       "output_type": "stream",
       "stream": "stdout",
       "text": [
        "\n",
        "D:\\Data\\GPCP_tif_clip_clip//gpcp_1dd_v1.2_p1d.20031023.tif"
       ]
      },
      {
       "output_type": "stream",
       "stream": "stdout",
       "text": [
        "\n",
        "D:\\Data\\GPCP_tif_clip_clip//gpcp_1dd_v1.2_p1d.20031024.tif"
       ]
      },
      {
       "output_type": "stream",
       "stream": "stdout",
       "text": [
        "\n",
        "D:\\Data\\GPCP_tif_clip_clip//gpcp_1dd_v1.2_p1d.20031025.tif"
       ]
      },
      {
       "output_type": "stream",
       "stream": "stdout",
       "text": [
        "\n",
        "D:\\Data\\GPCP_tif_clip_clip//gpcp_1dd_v1.2_p1d.20031026.tif"
       ]
      },
      {
       "output_type": "stream",
       "stream": "stdout",
       "text": [
        "\n",
        "D:\\Data\\GPCP_tif_clip_clip//gpcp_1dd_v1.2_p1d.20031027.tif"
       ]
      },
      {
       "output_type": "stream",
       "stream": "stdout",
       "text": [
        "\n",
        "D:\\Data\\GPCP_tif_clip_clip//gpcp_1dd_v1.2_p1d.20031028.tif"
       ]
      },
      {
       "output_type": "stream",
       "stream": "stdout",
       "text": [
        "\n",
        "D:\\Data\\GPCP_tif_clip_clip//gpcp_1dd_v1.2_p1d.20031029.tif"
       ]
      },
      {
       "output_type": "stream",
       "stream": "stdout",
       "text": [
        "\n",
        "D:\\Data\\GPCP_tif_clip_clip//gpcp_1dd_v1.2_p1d.20031030.tif"
       ]
      },
      {
       "output_type": "stream",
       "stream": "stdout",
       "text": [
        "\n",
        "D:\\Data\\GPCP_tif_clip_clip//gpcp_1dd_v1.2_p1d.20031100.tif"
       ]
      },
      {
       "output_type": "stream",
       "stream": "stdout",
       "text": [
        "\n",
        "D:\\Data\\GPCP_tif_clip_clip//gpcp_1dd_v1.2_p1d.20031101.tif"
       ]
      },
      {
       "output_type": "stream",
       "stream": "stdout",
       "text": [
        "\n",
        "D:\\Data\\GPCP_tif_clip_clip//gpcp_1dd_v1.2_p1d.20031102.tif"
       ]
      },
      {
       "output_type": "stream",
       "stream": "stdout",
       "text": [
        "\n",
        "D:\\Data\\GPCP_tif_clip_clip//gpcp_1dd_v1.2_p1d.20031103.tif"
       ]
      },
      {
       "output_type": "stream",
       "stream": "stdout",
       "text": [
        "\n",
        "D:\\Data\\GPCP_tif_clip_clip//gpcp_1dd_v1.2_p1d.20031104.tif"
       ]
      },
      {
       "output_type": "stream",
       "stream": "stdout",
       "text": [
        "\n",
        "D:\\Data\\GPCP_tif_clip_clip//gpcp_1dd_v1.2_p1d.20031105.tif"
       ]
      },
      {
       "output_type": "stream",
       "stream": "stdout",
       "text": [
        "\n",
        "D:\\Data\\GPCP_tif_clip_clip//gpcp_1dd_v1.2_p1d.20031106.tif"
       ]
      },
      {
       "output_type": "stream",
       "stream": "stdout",
       "text": [
        "\n",
        "D:\\Data\\GPCP_tif_clip_clip//gpcp_1dd_v1.2_p1d.20031107.tif"
       ]
      },
      {
       "output_type": "stream",
       "stream": "stdout",
       "text": [
        "\n",
        "D:\\Data\\GPCP_tif_clip_clip//gpcp_1dd_v1.2_p1d.20031108.tif"
       ]
      },
      {
       "output_type": "stream",
       "stream": "stdout",
       "text": [
        "\n",
        "D:\\Data\\GPCP_tif_clip_clip//gpcp_1dd_v1.2_p1d.20031109.tif"
       ]
      },
      {
       "output_type": "stream",
       "stream": "stdout",
       "text": [
        "\n",
        "D:\\Data\\GPCP_tif_clip_clip//gpcp_1dd_v1.2_p1d.20031110.tif"
       ]
      },
      {
       "output_type": "stream",
       "stream": "stdout",
       "text": [
        "\n",
        "D:\\Data\\GPCP_tif_clip_clip//gpcp_1dd_v1.2_p1d.20031111.tif"
       ]
      },
      {
       "output_type": "stream",
       "stream": "stdout",
       "text": [
        "\n",
        "D:\\Data\\GPCP_tif_clip_clip//gpcp_1dd_v1.2_p1d.20031112.tif"
       ]
      },
      {
       "output_type": "stream",
       "stream": "stdout",
       "text": [
        "\n",
        "D:\\Data\\GPCP_tif_clip_clip//gpcp_1dd_v1.2_p1d.20031113.tif"
       ]
      },
      {
       "output_type": "stream",
       "stream": "stdout",
       "text": [
        "\n",
        "D:\\Data\\GPCP_tif_clip_clip//gpcp_1dd_v1.2_p1d.20031114.tif"
       ]
      },
      {
       "output_type": "stream",
       "stream": "stdout",
       "text": [
        "\n",
        "D:\\Data\\GPCP_tif_clip_clip//gpcp_1dd_v1.2_p1d.20031115.tif"
       ]
      },
      {
       "output_type": "stream",
       "stream": "stdout",
       "text": [
        "\n",
        "D:\\Data\\GPCP_tif_clip_clip//gpcp_1dd_v1.2_p1d.20031116.tif"
       ]
      },
      {
       "output_type": "stream",
       "stream": "stdout",
       "text": [
        "\n",
        "D:\\Data\\GPCP_tif_clip_clip//gpcp_1dd_v1.2_p1d.20031117.tif"
       ]
      },
      {
       "output_type": "stream",
       "stream": "stdout",
       "text": [
        "\n",
        "D:\\Data\\GPCP_tif_clip_clip//gpcp_1dd_v1.2_p1d.20031118.tif"
       ]
      },
      {
       "output_type": "stream",
       "stream": "stdout",
       "text": [
        "\n",
        "D:\\Data\\GPCP_tif_clip_clip//gpcp_1dd_v1.2_p1d.20031119.tif"
       ]
      },
      {
       "output_type": "stream",
       "stream": "stdout",
       "text": [
        "\n",
        "D:\\Data\\GPCP_tif_clip_clip//gpcp_1dd_v1.2_p1d.20031120.tif"
       ]
      },
      {
       "output_type": "stream",
       "stream": "stdout",
       "text": [
        "\n",
        "D:\\Data\\GPCP_tif_clip_clip//gpcp_1dd_v1.2_p1d.20031121.tif"
       ]
      },
      {
       "output_type": "stream",
       "stream": "stdout",
       "text": [
        "\n",
        "D:\\Data\\GPCP_tif_clip_clip//gpcp_1dd_v1.2_p1d.20031122.tif"
       ]
      },
      {
       "output_type": "stream",
       "stream": "stdout",
       "text": [
        "\n",
        "D:\\Data\\GPCP_tif_clip_clip//gpcp_1dd_v1.2_p1d.20031123.tif"
       ]
      },
      {
       "output_type": "stream",
       "stream": "stdout",
       "text": [
        "\n",
        "D:\\Data\\GPCP_tif_clip_clip//gpcp_1dd_v1.2_p1d.20031124.tif"
       ]
      },
      {
       "output_type": "stream",
       "stream": "stdout",
       "text": [
        "\n",
        "D:\\Data\\GPCP_tif_clip_clip//gpcp_1dd_v1.2_p1d.20031125.tif"
       ]
      },
      {
       "output_type": "stream",
       "stream": "stdout",
       "text": [
        "\n",
        "D:\\Data\\GPCP_tif_clip_clip//gpcp_1dd_v1.2_p1d.20031126.tif"
       ]
      },
      {
       "output_type": "stream",
       "stream": "stdout",
       "text": [
        "\n",
        "D:\\Data\\GPCP_tif_clip_clip//gpcp_1dd_v1.2_p1d.20031127.tif"
       ]
      },
      {
       "output_type": "stream",
       "stream": "stdout",
       "text": [
        "\n",
        "D:\\Data\\GPCP_tif_clip_clip//gpcp_1dd_v1.2_p1d.20031128.tif"
       ]
      },
      {
       "output_type": "stream",
       "stream": "stdout",
       "text": [
        "\n",
        "D:\\Data\\GPCP_tif_clip_clip//gpcp_1dd_v1.2_p1d.20031129.tif"
       ]
      },
      {
       "output_type": "stream",
       "stream": "stdout",
       "text": [
        "\n",
        "D:\\Data\\GPCP_tif_clip_clip//gpcp_1dd_v1.2_p1d.20031200.tif"
       ]
      },
      {
       "output_type": "stream",
       "stream": "stdout",
       "text": [
        "\n",
        "D:\\Data\\GPCP_tif_clip_clip//gpcp_1dd_v1.2_p1d.20031201.tif"
       ]
      },
      {
       "output_type": "stream",
       "stream": "stdout",
       "text": [
        "\n",
        "D:\\Data\\GPCP_tif_clip_clip//gpcp_1dd_v1.2_p1d.20031202.tif"
       ]
      },
      {
       "output_type": "stream",
       "stream": "stdout",
       "text": [
        "\n",
        "D:\\Data\\GPCP_tif_clip_clip//gpcp_1dd_v1.2_p1d.20031203.tif"
       ]
      },
      {
       "output_type": "stream",
       "stream": "stdout",
       "text": [
        "\n",
        "D:\\Data\\GPCP_tif_clip_clip//gpcp_1dd_v1.2_p1d.20031204.tif"
       ]
      },
      {
       "output_type": "stream",
       "stream": "stdout",
       "text": [
        "\n",
        "D:\\Data\\GPCP_tif_clip_clip//gpcp_1dd_v1.2_p1d.20031205.tif"
       ]
      },
      {
       "output_type": "stream",
       "stream": "stdout",
       "text": [
        "\n",
        "D:\\Data\\GPCP_tif_clip_clip//gpcp_1dd_v1.2_p1d.20031206.tif"
       ]
      },
      {
       "output_type": "stream",
       "stream": "stdout",
       "text": [
        "\n",
        "D:\\Data\\GPCP_tif_clip_clip//gpcp_1dd_v1.2_p1d.20031207.tif"
       ]
      },
      {
       "output_type": "stream",
       "stream": "stdout",
       "text": [
        "\n",
        "D:\\Data\\GPCP_tif_clip_clip//gpcp_1dd_v1.2_p1d.20031208.tif"
       ]
      },
      {
       "output_type": "stream",
       "stream": "stdout",
       "text": [
        "\n",
        "D:\\Data\\GPCP_tif_clip_clip//gpcp_1dd_v1.2_p1d.20031209.tif"
       ]
      },
      {
       "output_type": "stream",
       "stream": "stdout",
       "text": [
        "\n",
        "D:\\Data\\GPCP_tif_clip_clip//gpcp_1dd_v1.2_p1d.20031210.tif"
       ]
      },
      {
       "output_type": "stream",
       "stream": "stdout",
       "text": [
        "\n",
        "D:\\Data\\GPCP_tif_clip_clip//gpcp_1dd_v1.2_p1d.20031211.tif"
       ]
      },
      {
       "output_type": "stream",
       "stream": "stdout",
       "text": [
        "\n",
        "D:\\Data\\GPCP_tif_clip_clip//gpcp_1dd_v1.2_p1d.20031212.tif"
       ]
      },
      {
       "output_type": "stream",
       "stream": "stdout",
       "text": [
        "\n",
        "D:\\Data\\GPCP_tif_clip_clip//gpcp_1dd_v1.2_p1d.20031213.tif"
       ]
      },
      {
       "output_type": "stream",
       "stream": "stdout",
       "text": [
        "\n",
        "D:\\Data\\GPCP_tif_clip_clip//gpcp_1dd_v1.2_p1d.20031214.tif"
       ]
      },
      {
       "output_type": "stream",
       "stream": "stdout",
       "text": [
        "\n",
        "D:\\Data\\GPCP_tif_clip_clip//gpcp_1dd_v1.2_p1d.20031215.tif"
       ]
      },
      {
       "output_type": "stream",
       "stream": "stdout",
       "text": [
        "\n",
        "D:\\Data\\GPCP_tif_clip_clip//gpcp_1dd_v1.2_p1d.20031216.tif"
       ]
      },
      {
       "output_type": "stream",
       "stream": "stdout",
       "text": [
        "\n",
        "D:\\Data\\GPCP_tif_clip_clip//gpcp_1dd_v1.2_p1d.20031217.tif"
       ]
      },
      {
       "output_type": "stream",
       "stream": "stdout",
       "text": [
        "\n",
        "D:\\Data\\GPCP_tif_clip_clip//gpcp_1dd_v1.2_p1d.20031218.tif"
       ]
      },
      {
       "output_type": "stream",
       "stream": "stdout",
       "text": [
        "\n",
        "D:\\Data\\GPCP_tif_clip_clip//gpcp_1dd_v1.2_p1d.20031219.tif"
       ]
      },
      {
       "output_type": "stream",
       "stream": "stdout",
       "text": [
        "\n",
        "D:\\Data\\GPCP_tif_clip_clip//gpcp_1dd_v1.2_p1d.20031220.tif"
       ]
      },
      {
       "output_type": "stream",
       "stream": "stdout",
       "text": [
        "\n",
        "D:\\Data\\GPCP_tif_clip_clip//gpcp_1dd_v1.2_p1d.20031221.tif"
       ]
      },
      {
       "output_type": "stream",
       "stream": "stdout",
       "text": [
        "\n",
        "D:\\Data\\GPCP_tif_clip_clip//gpcp_1dd_v1.2_p1d.20031222.tif"
       ]
      },
      {
       "output_type": "stream",
       "stream": "stdout",
       "text": [
        "\n",
        "D:\\Data\\GPCP_tif_clip_clip//gpcp_1dd_v1.2_p1d.20031223.tif"
       ]
      },
      {
       "output_type": "stream",
       "stream": "stdout",
       "text": [
        "\n",
        "D:\\Data\\GPCP_tif_clip_clip//gpcp_1dd_v1.2_p1d.20031224.tif"
       ]
      },
      {
       "output_type": "stream",
       "stream": "stdout",
       "text": [
        "\n",
        "D:\\Data\\GPCP_tif_clip_clip//gpcp_1dd_v1.2_p1d.20031225.tif"
       ]
      },
      {
       "output_type": "stream",
       "stream": "stdout",
       "text": [
        "\n",
        "D:\\Data\\GPCP_tif_clip_clip//gpcp_1dd_v1.2_p1d.20031226.tif"
       ]
      },
      {
       "output_type": "stream",
       "stream": "stdout",
       "text": [
        "\n",
        "D:\\Data\\GPCP_tif_clip_clip//gpcp_1dd_v1.2_p1d.20031227.tif"
       ]
      },
      {
       "output_type": "stream",
       "stream": "stdout",
       "text": [
        "\n",
        "D:\\Data\\GPCP_tif_clip_clip//gpcp_1dd_v1.2_p1d.20031228.tif"
       ]
      },
      {
       "output_type": "stream",
       "stream": "stdout",
       "text": [
        "\n",
        "D:\\Data\\GPCP_tif_clip_clip//gpcp_1dd_v1.2_p1d.20031229.tif"
       ]
      },
      {
       "output_type": "stream",
       "stream": "stdout",
       "text": [
        "\n",
        "D:\\Data\\GPCP_tif_clip_clip//gpcp_1dd_v1.2_p1d.20031230.tif"
       ]
      },
      {
       "output_type": "stream",
       "stream": "stdout",
       "text": [
        "\n",
        "D:\\Data\\GPCP_tif_clip_clip//gpcp_1dd_v1.2_p1d.20040100.tif"
       ]
      },
      {
       "output_type": "stream",
       "stream": "stdout",
       "text": [
        "\n",
        "D:\\Data\\GPCP_tif_clip_clip//gpcp_1dd_v1.2_p1d.20040101.tif"
       ]
      },
      {
       "output_type": "stream",
       "stream": "stdout",
       "text": [
        "\n",
        "D:\\Data\\GPCP_tif_clip_clip//gpcp_1dd_v1.2_p1d.20040102.tif"
       ]
      },
      {
       "output_type": "stream",
       "stream": "stdout",
       "text": [
        "\n",
        "D:\\Data\\GPCP_tif_clip_clip//gpcp_1dd_v1.2_p1d.20040103.tif"
       ]
      },
      {
       "output_type": "stream",
       "stream": "stdout",
       "text": [
        "\n",
        "D:\\Data\\GPCP_tif_clip_clip//gpcp_1dd_v1.2_p1d.20040104.tif"
       ]
      },
      {
       "output_type": "stream",
       "stream": "stdout",
       "text": [
        "\n",
        "D:\\Data\\GPCP_tif_clip_clip//gpcp_1dd_v1.2_p1d.20040105.tif"
       ]
      },
      {
       "output_type": "stream",
       "stream": "stdout",
       "text": [
        "\n",
        "D:\\Data\\GPCP_tif_clip_clip//gpcp_1dd_v1.2_p1d.20040106.tif"
       ]
      },
      {
       "output_type": "stream",
       "stream": "stdout",
       "text": [
        "\n",
        "D:\\Data\\GPCP_tif_clip_clip//gpcp_1dd_v1.2_p1d.20040107.tif"
       ]
      },
      {
       "output_type": "stream",
       "stream": "stdout",
       "text": [
        "\n",
        "D:\\Data\\GPCP_tif_clip_clip//gpcp_1dd_v1.2_p1d.20040108.tif"
       ]
      },
      {
       "output_type": "stream",
       "stream": "stdout",
       "text": [
        "\n",
        "D:\\Data\\GPCP_tif_clip_clip//gpcp_1dd_v1.2_p1d.20040109.tif"
       ]
      },
      {
       "output_type": "stream",
       "stream": "stdout",
       "text": [
        "\n",
        "D:\\Data\\GPCP_tif_clip_clip//gpcp_1dd_v1.2_p1d.20040110.tif"
       ]
      },
      {
       "output_type": "stream",
       "stream": "stdout",
       "text": [
        "\n",
        "D:\\Data\\GPCP_tif_clip_clip//gpcp_1dd_v1.2_p1d.20040111.tif"
       ]
      },
      {
       "output_type": "stream",
       "stream": "stdout",
       "text": [
        "\n",
        "D:\\Data\\GPCP_tif_clip_clip//gpcp_1dd_v1.2_p1d.20040112.tif"
       ]
      },
      {
       "output_type": "stream",
       "stream": "stdout",
       "text": [
        "\n",
        "D:\\Data\\GPCP_tif_clip_clip//gpcp_1dd_v1.2_p1d.20040113.tif"
       ]
      },
      {
       "output_type": "stream",
       "stream": "stdout",
       "text": [
        "\n",
        "D:\\Data\\GPCP_tif_clip_clip//gpcp_1dd_v1.2_p1d.20040114.tif"
       ]
      },
      {
       "output_type": "stream",
       "stream": "stdout",
       "text": [
        "\n",
        "D:\\Data\\GPCP_tif_clip_clip//gpcp_1dd_v1.2_p1d.20040115.tif"
       ]
      },
      {
       "output_type": "stream",
       "stream": "stdout",
       "text": [
        "\n",
        "D:\\Data\\GPCP_tif_clip_clip//gpcp_1dd_v1.2_p1d.20040116.tif"
       ]
      },
      {
       "output_type": "stream",
       "stream": "stdout",
       "text": [
        "\n",
        "D:\\Data\\GPCP_tif_clip_clip//gpcp_1dd_v1.2_p1d.20040117.tif"
       ]
      },
      {
       "output_type": "stream",
       "stream": "stdout",
       "text": [
        "\n",
        "D:\\Data\\GPCP_tif_clip_clip//gpcp_1dd_v1.2_p1d.20040118.tif"
       ]
      },
      {
       "output_type": "stream",
       "stream": "stdout",
       "text": [
        "\n",
        "D:\\Data\\GPCP_tif_clip_clip//gpcp_1dd_v1.2_p1d.20040119.tif"
       ]
      },
      {
       "output_type": "stream",
       "stream": "stdout",
       "text": [
        "\n",
        "D:\\Data\\GPCP_tif_clip_clip//gpcp_1dd_v1.2_p1d.20040120.tif"
       ]
      },
      {
       "output_type": "stream",
       "stream": "stdout",
       "text": [
        "\n",
        "D:\\Data\\GPCP_tif_clip_clip//gpcp_1dd_v1.2_p1d.20040121.tif"
       ]
      },
      {
       "output_type": "stream",
       "stream": "stdout",
       "text": [
        "\n",
        "D:\\Data\\GPCP_tif_clip_clip//gpcp_1dd_v1.2_p1d.20040122.tif"
       ]
      },
      {
       "output_type": "stream",
       "stream": "stdout",
       "text": [
        "\n",
        "D:\\Data\\GPCP_tif_clip_clip//gpcp_1dd_v1.2_p1d.20040123.tif"
       ]
      },
      {
       "output_type": "stream",
       "stream": "stdout",
       "text": [
        "\n",
        "D:\\Data\\GPCP_tif_clip_clip//gpcp_1dd_v1.2_p1d.20040124.tif"
       ]
      },
      {
       "output_type": "stream",
       "stream": "stdout",
       "text": [
        "\n",
        "D:\\Data\\GPCP_tif_clip_clip//gpcp_1dd_v1.2_p1d.20040125.tif"
       ]
      },
      {
       "output_type": "stream",
       "stream": "stdout",
       "text": [
        "\n",
        "D:\\Data\\GPCP_tif_clip_clip//gpcp_1dd_v1.2_p1d.20040126.tif"
       ]
      },
      {
       "output_type": "stream",
       "stream": "stdout",
       "text": [
        "\n",
        "D:\\Data\\GPCP_tif_clip_clip//gpcp_1dd_v1.2_p1d.20040127.tif"
       ]
      },
      {
       "output_type": "stream",
       "stream": "stdout",
       "text": [
        "\n",
        "D:\\Data\\GPCP_tif_clip_clip//gpcp_1dd_v1.2_p1d.20040128.tif"
       ]
      },
      {
       "output_type": "stream",
       "stream": "stdout",
       "text": [
        "\n",
        "D:\\Data\\GPCP_tif_clip_clip//gpcp_1dd_v1.2_p1d.20040129.tif"
       ]
      },
      {
       "output_type": "stream",
       "stream": "stdout",
       "text": [
        "\n",
        "D:\\Data\\GPCP_tif_clip_clip//gpcp_1dd_v1.2_p1d.20040130.tif"
       ]
      },
      {
       "output_type": "stream",
       "stream": "stdout",
       "text": [
        "\n",
        "D:\\Data\\GPCP_tif_clip_clip//gpcp_1dd_v1.2_p1d.20040200.tif"
       ]
      },
      {
       "output_type": "stream",
       "stream": "stdout",
       "text": [
        "\n",
        "D:\\Data\\GPCP_tif_clip_clip//gpcp_1dd_v1.2_p1d.20040201.tif"
       ]
      },
      {
       "output_type": "stream",
       "stream": "stdout",
       "text": [
        "\n",
        "D:\\Data\\GPCP_tif_clip_clip//gpcp_1dd_v1.2_p1d.20040202.tif"
       ]
      },
      {
       "output_type": "stream",
       "stream": "stdout",
       "text": [
        "\n",
        "D:\\Data\\GPCP_tif_clip_clip//gpcp_1dd_v1.2_p1d.20040203.tif"
       ]
      },
      {
       "output_type": "stream",
       "stream": "stdout",
       "text": [
        "\n",
        "D:\\Data\\GPCP_tif_clip_clip//gpcp_1dd_v1.2_p1d.20040204.tif"
       ]
      },
      {
       "output_type": "stream",
       "stream": "stdout",
       "text": [
        "\n",
        "D:\\Data\\GPCP_tif_clip_clip//gpcp_1dd_v1.2_p1d.20040205.tif"
       ]
      },
      {
       "output_type": "stream",
       "stream": "stdout",
       "text": [
        "\n",
        "D:\\Data\\GPCP_tif_clip_clip//gpcp_1dd_v1.2_p1d.20040206.tif"
       ]
      },
      {
       "output_type": "stream",
       "stream": "stdout",
       "text": [
        "\n",
        "D:\\Data\\GPCP_tif_clip_clip//gpcp_1dd_v1.2_p1d.20040207.tif"
       ]
      },
      {
       "output_type": "stream",
       "stream": "stdout",
       "text": [
        "\n",
        "D:\\Data\\GPCP_tif_clip_clip//gpcp_1dd_v1.2_p1d.20040208.tif"
       ]
      },
      {
       "output_type": "stream",
       "stream": "stdout",
       "text": [
        "\n",
        "D:\\Data\\GPCP_tif_clip_clip//gpcp_1dd_v1.2_p1d.20040209.tif"
       ]
      },
      {
       "output_type": "stream",
       "stream": "stdout",
       "text": [
        "\n",
        "D:\\Data\\GPCP_tif_clip_clip//gpcp_1dd_v1.2_p1d.20040210.tif"
       ]
      },
      {
       "output_type": "stream",
       "stream": "stdout",
       "text": [
        "\n",
        "D:\\Data\\GPCP_tif_clip_clip//gpcp_1dd_v1.2_p1d.20040211.tif"
       ]
      },
      {
       "output_type": "stream",
       "stream": "stdout",
       "text": [
        "\n",
        "D:\\Data\\GPCP_tif_clip_clip//gpcp_1dd_v1.2_p1d.20040212.tif"
       ]
      },
      {
       "output_type": "stream",
       "stream": "stdout",
       "text": [
        "\n",
        "D:\\Data\\GPCP_tif_clip_clip//gpcp_1dd_v1.2_p1d.20040213.tif"
       ]
      },
      {
       "output_type": "stream",
       "stream": "stdout",
       "text": [
        "\n",
        "D:\\Data\\GPCP_tif_clip_clip//gpcp_1dd_v1.2_p1d.20040214.tif"
       ]
      },
      {
       "output_type": "stream",
       "stream": "stdout",
       "text": [
        "\n",
        "D:\\Data\\GPCP_tif_clip_clip//gpcp_1dd_v1.2_p1d.20040215.tif"
       ]
      },
      {
       "output_type": "stream",
       "stream": "stdout",
       "text": [
        "\n",
        "D:\\Data\\GPCP_tif_clip_clip//gpcp_1dd_v1.2_p1d.20040216.tif"
       ]
      },
      {
       "output_type": "stream",
       "stream": "stdout",
       "text": [
        "\n",
        "D:\\Data\\GPCP_tif_clip_clip//gpcp_1dd_v1.2_p1d.20040217.tif"
       ]
      },
      {
       "output_type": "stream",
       "stream": "stdout",
       "text": [
        "\n",
        "D:\\Data\\GPCP_tif_clip_clip//gpcp_1dd_v1.2_p1d.20040218.tif"
       ]
      },
      {
       "output_type": "stream",
       "stream": "stdout",
       "text": [
        "\n",
        "D:\\Data\\GPCP_tif_clip_clip//gpcp_1dd_v1.2_p1d.20040219.tif"
       ]
      },
      {
       "output_type": "stream",
       "stream": "stdout",
       "text": [
        "\n",
        "D:\\Data\\GPCP_tif_clip_clip//gpcp_1dd_v1.2_p1d.20040220.tif"
       ]
      },
      {
       "output_type": "stream",
       "stream": "stdout",
       "text": [
        "\n",
        "D:\\Data\\GPCP_tif_clip_clip//gpcp_1dd_v1.2_p1d.20040221.tif"
       ]
      },
      {
       "output_type": "stream",
       "stream": "stdout",
       "text": [
        "\n",
        "D:\\Data\\GPCP_tif_clip_clip//gpcp_1dd_v1.2_p1d.20040222.tif"
       ]
      },
      {
       "output_type": "stream",
       "stream": "stdout",
       "text": [
        "\n",
        "D:\\Data\\GPCP_tif_clip_clip//gpcp_1dd_v1.2_p1d.20040223.tif"
       ]
      },
      {
       "output_type": "stream",
       "stream": "stdout",
       "text": [
        "\n",
        "D:\\Data\\GPCP_tif_clip_clip//gpcp_1dd_v1.2_p1d.20040224.tif"
       ]
      },
      {
       "output_type": "stream",
       "stream": "stdout",
       "text": [
        "\n",
        "D:\\Data\\GPCP_tif_clip_clip//gpcp_1dd_v1.2_p1d.20040225.tif"
       ]
      },
      {
       "output_type": "stream",
       "stream": "stdout",
       "text": [
        "\n",
        "D:\\Data\\GPCP_tif_clip_clip//gpcp_1dd_v1.2_p1d.20040226.tif"
       ]
      },
      {
       "output_type": "stream",
       "stream": "stdout",
       "text": [
        "\n",
        "D:\\Data\\GPCP_tif_clip_clip//gpcp_1dd_v1.2_p1d.20040227.tif"
       ]
      },
      {
       "output_type": "stream",
       "stream": "stdout",
       "text": [
        "\n",
        "D:\\Data\\GPCP_tif_clip_clip//gpcp_1dd_v1.2_p1d.20040228.tif"
       ]
      },
      {
       "output_type": "stream",
       "stream": "stdout",
       "text": [
        "\n",
        "D:\\Data\\GPCP_tif_clip_clip//gpcp_1dd_v1.2_p1d.20040300.tif"
       ]
      },
      {
       "output_type": "stream",
       "stream": "stdout",
       "text": [
        "\n",
        "D:\\Data\\GPCP_tif_clip_clip//gpcp_1dd_v1.2_p1d.20040301.tif"
       ]
      },
      {
       "output_type": "stream",
       "stream": "stdout",
       "text": [
        "\n",
        "D:\\Data\\GPCP_tif_clip_clip//gpcp_1dd_v1.2_p1d.20040302.tif"
       ]
      },
      {
       "output_type": "stream",
       "stream": "stdout",
       "text": [
        "\n",
        "D:\\Data\\GPCP_tif_clip_clip//gpcp_1dd_v1.2_p1d.20040303.tif"
       ]
      },
      {
       "output_type": "stream",
       "stream": "stdout",
       "text": [
        "\n",
        "D:\\Data\\GPCP_tif_clip_clip//gpcp_1dd_v1.2_p1d.20040304.tif"
       ]
      },
      {
       "output_type": "stream",
       "stream": "stdout",
       "text": [
        "\n",
        "D:\\Data\\GPCP_tif_clip_clip//gpcp_1dd_v1.2_p1d.20040305.tif"
       ]
      },
      {
       "output_type": "stream",
       "stream": "stdout",
       "text": [
        "\n",
        "D:\\Data\\GPCP_tif_clip_clip//gpcp_1dd_v1.2_p1d.20040306.tif"
       ]
      },
      {
       "output_type": "stream",
       "stream": "stdout",
       "text": [
        "\n",
        "D:\\Data\\GPCP_tif_clip_clip//gpcp_1dd_v1.2_p1d.20040307.tif"
       ]
      },
      {
       "output_type": "stream",
       "stream": "stdout",
       "text": [
        "\n",
        "D:\\Data\\GPCP_tif_clip_clip//gpcp_1dd_v1.2_p1d.20040308.tif"
       ]
      },
      {
       "output_type": "stream",
       "stream": "stdout",
       "text": [
        "\n",
        "D:\\Data\\GPCP_tif_clip_clip//gpcp_1dd_v1.2_p1d.20040309.tif"
       ]
      },
      {
       "output_type": "stream",
       "stream": "stdout",
       "text": [
        "\n",
        "D:\\Data\\GPCP_tif_clip_clip//gpcp_1dd_v1.2_p1d.20040310.tif"
       ]
      },
      {
       "output_type": "stream",
       "stream": "stdout",
       "text": [
        "\n",
        "D:\\Data\\GPCP_tif_clip_clip//gpcp_1dd_v1.2_p1d.20040311.tif"
       ]
      },
      {
       "output_type": "stream",
       "stream": "stdout",
       "text": [
        "\n",
        "D:\\Data\\GPCP_tif_clip_clip//gpcp_1dd_v1.2_p1d.20040312.tif"
       ]
      },
      {
       "output_type": "stream",
       "stream": "stdout",
       "text": [
        "\n",
        "D:\\Data\\GPCP_tif_clip_clip//gpcp_1dd_v1.2_p1d.20040313.tif"
       ]
      },
      {
       "output_type": "stream",
       "stream": "stdout",
       "text": [
        "\n",
        "D:\\Data\\GPCP_tif_clip_clip//gpcp_1dd_v1.2_p1d.20040314.tif"
       ]
      },
      {
       "output_type": "stream",
       "stream": "stdout",
       "text": [
        "\n",
        "D:\\Data\\GPCP_tif_clip_clip//gpcp_1dd_v1.2_p1d.20040315.tif"
       ]
      },
      {
       "output_type": "stream",
       "stream": "stdout",
       "text": [
        "\n",
        "D:\\Data\\GPCP_tif_clip_clip//gpcp_1dd_v1.2_p1d.20040316.tif"
       ]
      },
      {
       "output_type": "stream",
       "stream": "stdout",
       "text": [
        "\n",
        "D:\\Data\\GPCP_tif_clip_clip//gpcp_1dd_v1.2_p1d.20040317.tif"
       ]
      },
      {
       "output_type": "stream",
       "stream": "stdout",
       "text": [
        "\n",
        "D:\\Data\\GPCP_tif_clip_clip//gpcp_1dd_v1.2_p1d.20040318.tif"
       ]
      },
      {
       "output_type": "stream",
       "stream": "stdout",
       "text": [
        "\n",
        "D:\\Data\\GPCP_tif_clip_clip//gpcp_1dd_v1.2_p1d.20040319.tif"
       ]
      },
      {
       "output_type": "stream",
       "stream": "stdout",
       "text": [
        "\n",
        "D:\\Data\\GPCP_tif_clip_clip//gpcp_1dd_v1.2_p1d.20040320.tif"
       ]
      },
      {
       "output_type": "stream",
       "stream": "stdout",
       "text": [
        "\n",
        "D:\\Data\\GPCP_tif_clip_clip//gpcp_1dd_v1.2_p1d.20040321.tif"
       ]
      },
      {
       "output_type": "stream",
       "stream": "stdout",
       "text": [
        "\n",
        "D:\\Data\\GPCP_tif_clip_clip//gpcp_1dd_v1.2_p1d.20040322.tif"
       ]
      },
      {
       "output_type": "stream",
       "stream": "stdout",
       "text": [
        "\n",
        "D:\\Data\\GPCP_tif_clip_clip//gpcp_1dd_v1.2_p1d.20040323.tif"
       ]
      },
      {
       "output_type": "stream",
       "stream": "stdout",
       "text": [
        "\n",
        "D:\\Data\\GPCP_tif_clip_clip//gpcp_1dd_v1.2_p1d.20040324.tif"
       ]
      },
      {
       "output_type": "stream",
       "stream": "stdout",
       "text": [
        "\n",
        "D:\\Data\\GPCP_tif_clip_clip//gpcp_1dd_v1.2_p1d.20040325.tif"
       ]
      },
      {
       "output_type": "stream",
       "stream": "stdout",
       "text": [
        "\n",
        "D:\\Data\\GPCP_tif_clip_clip//gpcp_1dd_v1.2_p1d.20040326.tif"
       ]
      },
      {
       "output_type": "stream",
       "stream": "stdout",
       "text": [
        "\n",
        "D:\\Data\\GPCP_tif_clip_clip//gpcp_1dd_v1.2_p1d.20040327.tif"
       ]
      },
      {
       "output_type": "stream",
       "stream": "stdout",
       "text": [
        "\n",
        "D:\\Data\\GPCP_tif_clip_clip//gpcp_1dd_v1.2_p1d.20040328.tif"
       ]
      },
      {
       "output_type": "stream",
       "stream": "stdout",
       "text": [
        "\n",
        "D:\\Data\\GPCP_tif_clip_clip//gpcp_1dd_v1.2_p1d.20040329.tif"
       ]
      },
      {
       "output_type": "stream",
       "stream": "stdout",
       "text": [
        "\n",
        "D:\\Data\\GPCP_tif_clip_clip//gpcp_1dd_v1.2_p1d.20040330.tif"
       ]
      },
      {
       "output_type": "stream",
       "stream": "stdout",
       "text": [
        "\n",
        "D:\\Data\\GPCP_tif_clip_clip//gpcp_1dd_v1.2_p1d.20040400.tif"
       ]
      },
      {
       "output_type": "stream",
       "stream": "stdout",
       "text": [
        "\n",
        "D:\\Data\\GPCP_tif_clip_clip//gpcp_1dd_v1.2_p1d.20040401.tif"
       ]
      },
      {
       "output_type": "stream",
       "stream": "stdout",
       "text": [
        "\n",
        "D:\\Data\\GPCP_tif_clip_clip//gpcp_1dd_v1.2_p1d.20040402.tif"
       ]
      },
      {
       "output_type": "stream",
       "stream": "stdout",
       "text": [
        "\n",
        "D:\\Data\\GPCP_tif_clip_clip//gpcp_1dd_v1.2_p1d.20040403.tif"
       ]
      },
      {
       "output_type": "stream",
       "stream": "stdout",
       "text": [
        "\n",
        "D:\\Data\\GPCP_tif_clip_clip//gpcp_1dd_v1.2_p1d.20040404.tif"
       ]
      },
      {
       "output_type": "stream",
       "stream": "stdout",
       "text": [
        "\n",
        "D:\\Data\\GPCP_tif_clip_clip//gpcp_1dd_v1.2_p1d.20040405.tif"
       ]
      },
      {
       "output_type": "stream",
       "stream": "stdout",
       "text": [
        "\n",
        "D:\\Data\\GPCP_tif_clip_clip//gpcp_1dd_v1.2_p1d.20040406.tif"
       ]
      },
      {
       "output_type": "stream",
       "stream": "stdout",
       "text": [
        "\n",
        "D:\\Data\\GPCP_tif_clip_clip//gpcp_1dd_v1.2_p1d.20040407.tif"
       ]
      },
      {
       "output_type": "stream",
       "stream": "stdout",
       "text": [
        "\n",
        "D:\\Data\\GPCP_tif_clip_clip//gpcp_1dd_v1.2_p1d.20040408.tif"
       ]
      },
      {
       "output_type": "stream",
       "stream": "stdout",
       "text": [
        "\n",
        "D:\\Data\\GPCP_tif_clip_clip//gpcp_1dd_v1.2_p1d.20040409.tif"
       ]
      },
      {
       "output_type": "stream",
       "stream": "stdout",
       "text": [
        "\n",
        "D:\\Data\\GPCP_tif_clip_clip//gpcp_1dd_v1.2_p1d.20040410.tif"
       ]
      },
      {
       "output_type": "stream",
       "stream": "stdout",
       "text": [
        "\n",
        "D:\\Data\\GPCP_tif_clip_clip//gpcp_1dd_v1.2_p1d.20040411.tif"
       ]
      },
      {
       "output_type": "stream",
       "stream": "stdout",
       "text": [
        "\n",
        "D:\\Data\\GPCP_tif_clip_clip//gpcp_1dd_v1.2_p1d.20040412.tif"
       ]
      },
      {
       "output_type": "stream",
       "stream": "stdout",
       "text": [
        "\n",
        "D:\\Data\\GPCP_tif_clip_clip//gpcp_1dd_v1.2_p1d.20040413.tif"
       ]
      },
      {
       "output_type": "stream",
       "stream": "stdout",
       "text": [
        "\n",
        "D:\\Data\\GPCP_tif_clip_clip//gpcp_1dd_v1.2_p1d.20040414.tif"
       ]
      },
      {
       "output_type": "stream",
       "stream": "stdout",
       "text": [
        "\n",
        "D:\\Data\\GPCP_tif_clip_clip//gpcp_1dd_v1.2_p1d.20040415.tif"
       ]
      },
      {
       "output_type": "stream",
       "stream": "stdout",
       "text": [
        "\n",
        "D:\\Data\\GPCP_tif_clip_clip//gpcp_1dd_v1.2_p1d.20040416.tif"
       ]
      },
      {
       "output_type": "stream",
       "stream": "stdout",
       "text": [
        "\n",
        "D:\\Data\\GPCP_tif_clip_clip//gpcp_1dd_v1.2_p1d.20040417.tif"
       ]
      },
      {
       "output_type": "stream",
       "stream": "stdout",
       "text": [
        "\n",
        "D:\\Data\\GPCP_tif_clip_clip//gpcp_1dd_v1.2_p1d.20040418.tif"
       ]
      },
      {
       "output_type": "stream",
       "stream": "stdout",
       "text": [
        "\n",
        "D:\\Data\\GPCP_tif_clip_clip//gpcp_1dd_v1.2_p1d.20040419.tif"
       ]
      },
      {
       "output_type": "stream",
       "stream": "stdout",
       "text": [
        "\n",
        "D:\\Data\\GPCP_tif_clip_clip//gpcp_1dd_v1.2_p1d.20040420.tif"
       ]
      },
      {
       "output_type": "stream",
       "stream": "stdout",
       "text": [
        "\n",
        "D:\\Data\\GPCP_tif_clip_clip//gpcp_1dd_v1.2_p1d.20040421.tif"
       ]
      },
      {
       "output_type": "stream",
       "stream": "stdout",
       "text": [
        "\n",
        "D:\\Data\\GPCP_tif_clip_clip//gpcp_1dd_v1.2_p1d.20040422.tif"
       ]
      },
      {
       "output_type": "stream",
       "stream": "stdout",
       "text": [
        "\n",
        "D:\\Data\\GPCP_tif_clip_clip//gpcp_1dd_v1.2_p1d.20040423.tif"
       ]
      },
      {
       "output_type": "stream",
       "stream": "stdout",
       "text": [
        "\n",
        "D:\\Data\\GPCP_tif_clip_clip//gpcp_1dd_v1.2_p1d.20040424.tif"
       ]
      },
      {
       "output_type": "stream",
       "stream": "stdout",
       "text": [
        "\n",
        "D:\\Data\\GPCP_tif_clip_clip//gpcp_1dd_v1.2_p1d.20040425.tif"
       ]
      },
      {
       "output_type": "stream",
       "stream": "stdout",
       "text": [
        "\n",
        "D:\\Data\\GPCP_tif_clip_clip//gpcp_1dd_v1.2_p1d.20040426.tif"
       ]
      },
      {
       "output_type": "stream",
       "stream": "stdout",
       "text": [
        "\n",
        "D:\\Data\\GPCP_tif_clip_clip//gpcp_1dd_v1.2_p1d.20040427.tif"
       ]
      },
      {
       "output_type": "stream",
       "stream": "stdout",
       "text": [
        "\n",
        "D:\\Data\\GPCP_tif_clip_clip//gpcp_1dd_v1.2_p1d.20040428.tif"
       ]
      },
      {
       "output_type": "stream",
       "stream": "stdout",
       "text": [
        "\n",
        "D:\\Data\\GPCP_tif_clip_clip//gpcp_1dd_v1.2_p1d.20040429.tif"
       ]
      },
      {
       "output_type": "stream",
       "stream": "stdout",
       "text": [
        "\n",
        "D:\\Data\\GPCP_tif_clip_clip//gpcp_1dd_v1.2_p1d.20040500.tif"
       ]
      },
      {
       "output_type": "stream",
       "stream": "stdout",
       "text": [
        "\n",
        "D:\\Data\\GPCP_tif_clip_clip//gpcp_1dd_v1.2_p1d.20040501.tif"
       ]
      },
      {
       "output_type": "stream",
       "stream": "stdout",
       "text": [
        "\n",
        "D:\\Data\\GPCP_tif_clip_clip//gpcp_1dd_v1.2_p1d.20040502.tif"
       ]
      },
      {
       "output_type": "stream",
       "stream": "stdout",
       "text": [
        "\n",
        "D:\\Data\\GPCP_tif_clip_clip//gpcp_1dd_v1.2_p1d.20040503.tif"
       ]
      },
      {
       "output_type": "stream",
       "stream": "stdout",
       "text": [
        "\n",
        "D:\\Data\\GPCP_tif_clip_clip//gpcp_1dd_v1.2_p1d.20040504.tif"
       ]
      },
      {
       "output_type": "stream",
       "stream": "stdout",
       "text": [
        "\n",
        "D:\\Data\\GPCP_tif_clip_clip//gpcp_1dd_v1.2_p1d.20040505.tif"
       ]
      },
      {
       "output_type": "stream",
       "stream": "stdout",
       "text": [
        "\n",
        "D:\\Data\\GPCP_tif_clip_clip//gpcp_1dd_v1.2_p1d.20040506.tif"
       ]
      },
      {
       "output_type": "stream",
       "stream": "stdout",
       "text": [
        "\n",
        "D:\\Data\\GPCP_tif_clip_clip//gpcp_1dd_v1.2_p1d.20040507.tif"
       ]
      },
      {
       "output_type": "stream",
       "stream": "stdout",
       "text": [
        "\n",
        "D:\\Data\\GPCP_tif_clip_clip//gpcp_1dd_v1.2_p1d.20040508.tif"
       ]
      },
      {
       "output_type": "stream",
       "stream": "stdout",
       "text": [
        "\n",
        "D:\\Data\\GPCP_tif_clip_clip//gpcp_1dd_v1.2_p1d.20040509.tif"
       ]
      },
      {
       "output_type": "stream",
       "stream": "stdout",
       "text": [
        "\n",
        "D:\\Data\\GPCP_tif_clip_clip//gpcp_1dd_v1.2_p1d.20040510.tif"
       ]
      },
      {
       "output_type": "stream",
       "stream": "stdout",
       "text": [
        "\n",
        "D:\\Data\\GPCP_tif_clip_clip//gpcp_1dd_v1.2_p1d.20040511.tif"
       ]
      },
      {
       "output_type": "stream",
       "stream": "stdout",
       "text": [
        "\n",
        "D:\\Data\\GPCP_tif_clip_clip//gpcp_1dd_v1.2_p1d.20040512.tif"
       ]
      },
      {
       "output_type": "stream",
       "stream": "stdout",
       "text": [
        "\n",
        "D:\\Data\\GPCP_tif_clip_clip//gpcp_1dd_v1.2_p1d.20040513.tif"
       ]
      },
      {
       "output_type": "stream",
       "stream": "stdout",
       "text": [
        "\n",
        "D:\\Data\\GPCP_tif_clip_clip//gpcp_1dd_v1.2_p1d.20040514.tif"
       ]
      },
      {
       "output_type": "stream",
       "stream": "stdout",
       "text": [
        "\n",
        "D:\\Data\\GPCP_tif_clip_clip//gpcp_1dd_v1.2_p1d.20040515.tif"
       ]
      },
      {
       "output_type": "stream",
       "stream": "stdout",
       "text": [
        "\n",
        "D:\\Data\\GPCP_tif_clip_clip//gpcp_1dd_v1.2_p1d.20040516.tif"
       ]
      },
      {
       "output_type": "stream",
       "stream": "stdout",
       "text": [
        "\n",
        "D:\\Data\\GPCP_tif_clip_clip//gpcp_1dd_v1.2_p1d.20040517.tif"
       ]
      },
      {
       "output_type": "stream",
       "stream": "stdout",
       "text": [
        "\n",
        "D:\\Data\\GPCP_tif_clip_clip//gpcp_1dd_v1.2_p1d.20040518.tif"
       ]
      },
      {
       "output_type": "stream",
       "stream": "stdout",
       "text": [
        "\n",
        "D:\\Data\\GPCP_tif_clip_clip//gpcp_1dd_v1.2_p1d.20040519.tif"
       ]
      },
      {
       "output_type": "stream",
       "stream": "stdout",
       "text": [
        "\n",
        "D:\\Data\\GPCP_tif_clip_clip//gpcp_1dd_v1.2_p1d.20040520.tif"
       ]
      },
      {
       "output_type": "stream",
       "stream": "stdout",
       "text": [
        "\n",
        "D:\\Data\\GPCP_tif_clip_clip//gpcp_1dd_v1.2_p1d.20040521.tif"
       ]
      },
      {
       "output_type": "stream",
       "stream": "stdout",
       "text": [
        "\n",
        "D:\\Data\\GPCP_tif_clip_clip//gpcp_1dd_v1.2_p1d.20040522.tif"
       ]
      },
      {
       "output_type": "stream",
       "stream": "stdout",
       "text": [
        "\n",
        "D:\\Data\\GPCP_tif_clip_clip//gpcp_1dd_v1.2_p1d.20040523.tif"
       ]
      },
      {
       "output_type": "stream",
       "stream": "stdout",
       "text": [
        "\n",
        "D:\\Data\\GPCP_tif_clip_clip//gpcp_1dd_v1.2_p1d.20040524.tif"
       ]
      },
      {
       "output_type": "stream",
       "stream": "stdout",
       "text": [
        "\n",
        "D:\\Data\\GPCP_tif_clip_clip//gpcp_1dd_v1.2_p1d.20040525.tif"
       ]
      },
      {
       "output_type": "stream",
       "stream": "stdout",
       "text": [
        "\n",
        "D:\\Data\\GPCP_tif_clip_clip//gpcp_1dd_v1.2_p1d.20040526.tif"
       ]
      },
      {
       "output_type": "stream",
       "stream": "stdout",
       "text": [
        "\n",
        "D:\\Data\\GPCP_tif_clip_clip//gpcp_1dd_v1.2_p1d.20040527.tif"
       ]
      },
      {
       "output_type": "stream",
       "stream": "stdout",
       "text": [
        "\n",
        "D:\\Data\\GPCP_tif_clip_clip//gpcp_1dd_v1.2_p1d.20040528.tif"
       ]
      },
      {
       "output_type": "stream",
       "stream": "stdout",
       "text": [
        "\n",
        "D:\\Data\\GPCP_tif_clip_clip//gpcp_1dd_v1.2_p1d.20040529.tif"
       ]
      },
      {
       "output_type": "stream",
       "stream": "stdout",
       "text": [
        "\n",
        "D:\\Data\\GPCP_tif_clip_clip//gpcp_1dd_v1.2_p1d.20040530.tif"
       ]
      },
      {
       "output_type": "stream",
       "stream": "stdout",
       "text": [
        "\n",
        "D:\\Data\\GPCP_tif_clip_clip//gpcp_1dd_v1.2_p1d.20040600.tif"
       ]
      },
      {
       "output_type": "stream",
       "stream": "stdout",
       "text": [
        "\n",
        "D:\\Data\\GPCP_tif_clip_clip//gpcp_1dd_v1.2_p1d.20040601.tif"
       ]
      },
      {
       "output_type": "stream",
       "stream": "stdout",
       "text": [
        "\n",
        "D:\\Data\\GPCP_tif_clip_clip//gpcp_1dd_v1.2_p1d.20040602.tif"
       ]
      },
      {
       "output_type": "stream",
       "stream": "stdout",
       "text": [
        "\n",
        "D:\\Data\\GPCP_tif_clip_clip//gpcp_1dd_v1.2_p1d.20040603.tif"
       ]
      },
      {
       "output_type": "stream",
       "stream": "stdout",
       "text": [
        "\n",
        "D:\\Data\\GPCP_tif_clip_clip//gpcp_1dd_v1.2_p1d.20040604.tif"
       ]
      },
      {
       "output_type": "stream",
       "stream": "stdout",
       "text": [
        "\n",
        "D:\\Data\\GPCP_tif_clip_clip//gpcp_1dd_v1.2_p1d.20040605.tif"
       ]
      },
      {
       "output_type": "stream",
       "stream": "stdout",
       "text": [
        "\n",
        "D:\\Data\\GPCP_tif_clip_clip//gpcp_1dd_v1.2_p1d.20040606.tif"
       ]
      },
      {
       "output_type": "stream",
       "stream": "stdout",
       "text": [
        "\n",
        "D:\\Data\\GPCP_tif_clip_clip//gpcp_1dd_v1.2_p1d.20040607.tif"
       ]
      },
      {
       "output_type": "stream",
       "stream": "stdout",
       "text": [
        "\n",
        "D:\\Data\\GPCP_tif_clip_clip//gpcp_1dd_v1.2_p1d.20040608.tif"
       ]
      },
      {
       "output_type": "stream",
       "stream": "stdout",
       "text": [
        "\n",
        "D:\\Data\\GPCP_tif_clip_clip//gpcp_1dd_v1.2_p1d.20040609.tif"
       ]
      },
      {
       "output_type": "stream",
       "stream": "stdout",
       "text": [
        "\n",
        "D:\\Data\\GPCP_tif_clip_clip//gpcp_1dd_v1.2_p1d.20040610.tif"
       ]
      },
      {
       "output_type": "stream",
       "stream": "stdout",
       "text": [
        "\n",
        "D:\\Data\\GPCP_tif_clip_clip//gpcp_1dd_v1.2_p1d.20040611.tif"
       ]
      },
      {
       "output_type": "stream",
       "stream": "stdout",
       "text": [
        "\n",
        "D:\\Data\\GPCP_tif_clip_clip//gpcp_1dd_v1.2_p1d.20040612.tif"
       ]
      },
      {
       "output_type": "stream",
       "stream": "stdout",
       "text": [
        "\n",
        "D:\\Data\\GPCP_tif_clip_clip//gpcp_1dd_v1.2_p1d.20040613.tif"
       ]
      },
      {
       "output_type": "stream",
       "stream": "stdout",
       "text": [
        "\n",
        "D:\\Data\\GPCP_tif_clip_clip//gpcp_1dd_v1.2_p1d.20040614.tif"
       ]
      },
      {
       "output_type": "stream",
       "stream": "stdout",
       "text": [
        "\n",
        "D:\\Data\\GPCP_tif_clip_clip//gpcp_1dd_v1.2_p1d.20040615.tif"
       ]
      },
      {
       "output_type": "stream",
       "stream": "stdout",
       "text": [
        "\n",
        "D:\\Data\\GPCP_tif_clip_clip//gpcp_1dd_v1.2_p1d.20040616.tif"
       ]
      },
      {
       "output_type": "stream",
       "stream": "stdout",
       "text": [
        "\n",
        "D:\\Data\\GPCP_tif_clip_clip//gpcp_1dd_v1.2_p1d.20040617.tif"
       ]
      },
      {
       "output_type": "stream",
       "stream": "stdout",
       "text": [
        "\n",
        "D:\\Data\\GPCP_tif_clip_clip//gpcp_1dd_v1.2_p1d.20040618.tif"
       ]
      },
      {
       "output_type": "stream",
       "stream": "stdout",
       "text": [
        "\n",
        "D:\\Data\\GPCP_tif_clip_clip//gpcp_1dd_v1.2_p1d.20040619.tif"
       ]
      },
      {
       "output_type": "stream",
       "stream": "stdout",
       "text": [
        "\n",
        "D:\\Data\\GPCP_tif_clip_clip//gpcp_1dd_v1.2_p1d.20040620.tif"
       ]
      },
      {
       "output_type": "stream",
       "stream": "stdout",
       "text": [
        "\n",
        "D:\\Data\\GPCP_tif_clip_clip//gpcp_1dd_v1.2_p1d.20040621.tif"
       ]
      },
      {
       "output_type": "stream",
       "stream": "stdout",
       "text": [
        "\n",
        "D:\\Data\\GPCP_tif_clip_clip//gpcp_1dd_v1.2_p1d.20040622.tif"
       ]
      },
      {
       "output_type": "stream",
       "stream": "stdout",
       "text": [
        "\n",
        "D:\\Data\\GPCP_tif_clip_clip//gpcp_1dd_v1.2_p1d.20040623.tif"
       ]
      },
      {
       "output_type": "stream",
       "stream": "stdout",
       "text": [
        "\n",
        "D:\\Data\\GPCP_tif_clip_clip//gpcp_1dd_v1.2_p1d.20040624.tif"
       ]
      },
      {
       "output_type": "stream",
       "stream": "stdout",
       "text": [
        "\n",
        "D:\\Data\\GPCP_tif_clip_clip//gpcp_1dd_v1.2_p1d.20040625.tif"
       ]
      },
      {
       "output_type": "stream",
       "stream": "stdout",
       "text": [
        "\n",
        "D:\\Data\\GPCP_tif_clip_clip//gpcp_1dd_v1.2_p1d.20040626.tif"
       ]
      },
      {
       "output_type": "stream",
       "stream": "stdout",
       "text": [
        "\n",
        "D:\\Data\\GPCP_tif_clip_clip//gpcp_1dd_v1.2_p1d.20040627.tif"
       ]
      },
      {
       "output_type": "stream",
       "stream": "stdout",
       "text": [
        "\n",
        "D:\\Data\\GPCP_tif_clip_clip//gpcp_1dd_v1.2_p1d.20040628.tif"
       ]
      },
      {
       "output_type": "stream",
       "stream": "stdout",
       "text": [
        "\n",
        "D:\\Data\\GPCP_tif_clip_clip//gpcp_1dd_v1.2_p1d.20040629.tif"
       ]
      },
      {
       "output_type": "stream",
       "stream": "stdout",
       "text": [
        "\n",
        "D:\\Data\\GPCP_tif_clip_clip//gpcp_1dd_v1.2_p1d.20040700.tif"
       ]
      },
      {
       "output_type": "stream",
       "stream": "stdout",
       "text": [
        "\n",
        "D:\\Data\\GPCP_tif_clip_clip//gpcp_1dd_v1.2_p1d.20040701.tif"
       ]
      },
      {
       "output_type": "stream",
       "stream": "stdout",
       "text": [
        "\n",
        "D:\\Data\\GPCP_tif_clip_clip//gpcp_1dd_v1.2_p1d.20040702.tif"
       ]
      },
      {
       "output_type": "stream",
       "stream": "stdout",
       "text": [
        "\n",
        "D:\\Data\\GPCP_tif_clip_clip//gpcp_1dd_v1.2_p1d.20040703.tif"
       ]
      },
      {
       "output_type": "stream",
       "stream": "stdout",
       "text": [
        "\n",
        "D:\\Data\\GPCP_tif_clip_clip//gpcp_1dd_v1.2_p1d.20040704.tif"
       ]
      },
      {
       "output_type": "stream",
       "stream": "stdout",
       "text": [
        "\n",
        "D:\\Data\\GPCP_tif_clip_clip//gpcp_1dd_v1.2_p1d.20040705.tif"
       ]
      },
      {
       "output_type": "stream",
       "stream": "stdout",
       "text": [
        "\n",
        "D:\\Data\\GPCP_tif_clip_clip//gpcp_1dd_v1.2_p1d.20040706.tif"
       ]
      },
      {
       "output_type": "stream",
       "stream": "stdout",
       "text": [
        "\n",
        "D:\\Data\\GPCP_tif_clip_clip//gpcp_1dd_v1.2_p1d.20040707.tif"
       ]
      },
      {
       "output_type": "stream",
       "stream": "stdout",
       "text": [
        "\n",
        "D:\\Data\\GPCP_tif_clip_clip//gpcp_1dd_v1.2_p1d.20040708.tif"
       ]
      },
      {
       "output_type": "stream",
       "stream": "stdout",
       "text": [
        "\n",
        "D:\\Data\\GPCP_tif_clip_clip//gpcp_1dd_v1.2_p1d.20040709.tif"
       ]
      },
      {
       "output_type": "stream",
       "stream": "stdout",
       "text": [
        "\n",
        "D:\\Data\\GPCP_tif_clip_clip//gpcp_1dd_v1.2_p1d.20040710.tif"
       ]
      },
      {
       "output_type": "stream",
       "stream": "stdout",
       "text": [
        "\n",
        "D:\\Data\\GPCP_tif_clip_clip//gpcp_1dd_v1.2_p1d.20040711.tif"
       ]
      },
      {
       "output_type": "stream",
       "stream": "stdout",
       "text": [
        "\n",
        "D:\\Data\\GPCP_tif_clip_clip//gpcp_1dd_v1.2_p1d.20040712.tif"
       ]
      },
      {
       "output_type": "stream",
       "stream": "stdout",
       "text": [
        "\n",
        "D:\\Data\\GPCP_tif_clip_clip//gpcp_1dd_v1.2_p1d.20040713.tif"
       ]
      },
      {
       "output_type": "stream",
       "stream": "stdout",
       "text": [
        "\n",
        "D:\\Data\\GPCP_tif_clip_clip//gpcp_1dd_v1.2_p1d.20040714.tif"
       ]
      },
      {
       "output_type": "stream",
       "stream": "stdout",
       "text": [
        "\n",
        "D:\\Data\\GPCP_tif_clip_clip//gpcp_1dd_v1.2_p1d.20040715.tif"
       ]
      },
      {
       "output_type": "stream",
       "stream": "stdout",
       "text": [
        "\n",
        "D:\\Data\\GPCP_tif_clip_clip//gpcp_1dd_v1.2_p1d.20040716.tif"
       ]
      },
      {
       "output_type": "stream",
       "stream": "stdout",
       "text": [
        "\n",
        "D:\\Data\\GPCP_tif_clip_clip//gpcp_1dd_v1.2_p1d.20040717.tif"
       ]
      },
      {
       "output_type": "stream",
       "stream": "stdout",
       "text": [
        "\n",
        "D:\\Data\\GPCP_tif_clip_clip//gpcp_1dd_v1.2_p1d.20040718.tif"
       ]
      },
      {
       "output_type": "stream",
       "stream": "stdout",
       "text": [
        "\n",
        "D:\\Data\\GPCP_tif_clip_clip//gpcp_1dd_v1.2_p1d.20040719.tif"
       ]
      },
      {
       "output_type": "stream",
       "stream": "stdout",
       "text": [
        "\n",
        "D:\\Data\\GPCP_tif_clip_clip//gpcp_1dd_v1.2_p1d.20040720.tif"
       ]
      },
      {
       "output_type": "stream",
       "stream": "stdout",
       "text": [
        "\n",
        "D:\\Data\\GPCP_tif_clip_clip//gpcp_1dd_v1.2_p1d.20040721.tif"
       ]
      },
      {
       "output_type": "stream",
       "stream": "stdout",
       "text": [
        "\n",
        "D:\\Data\\GPCP_tif_clip_clip//gpcp_1dd_v1.2_p1d.20040722.tif"
       ]
      },
      {
       "output_type": "stream",
       "stream": "stdout",
       "text": [
        "\n",
        "D:\\Data\\GPCP_tif_clip_clip//gpcp_1dd_v1.2_p1d.20040723.tif"
       ]
      },
      {
       "output_type": "stream",
       "stream": "stdout",
       "text": [
        "\n",
        "D:\\Data\\GPCP_tif_clip_clip//gpcp_1dd_v1.2_p1d.20040724.tif"
       ]
      },
      {
       "output_type": "stream",
       "stream": "stdout",
       "text": [
        "\n",
        "D:\\Data\\GPCP_tif_clip_clip//gpcp_1dd_v1.2_p1d.20040725.tif"
       ]
      },
      {
       "output_type": "stream",
       "stream": "stdout",
       "text": [
        "\n",
        "D:\\Data\\GPCP_tif_clip_clip//gpcp_1dd_v1.2_p1d.20040726.tif"
       ]
      },
      {
       "output_type": "stream",
       "stream": "stdout",
       "text": [
        "\n",
        "D:\\Data\\GPCP_tif_clip_clip//gpcp_1dd_v1.2_p1d.20040727.tif"
       ]
      },
      {
       "output_type": "stream",
       "stream": "stdout",
       "text": [
        "\n",
        "D:\\Data\\GPCP_tif_clip_clip//gpcp_1dd_v1.2_p1d.20040728.tif"
       ]
      },
      {
       "output_type": "stream",
       "stream": "stdout",
       "text": [
        "\n",
        "D:\\Data\\GPCP_tif_clip_clip//gpcp_1dd_v1.2_p1d.20040729.tif"
       ]
      },
      {
       "output_type": "stream",
       "stream": "stdout",
       "text": [
        "\n",
        "D:\\Data\\GPCP_tif_clip_clip//gpcp_1dd_v1.2_p1d.20040730.tif"
       ]
      },
      {
       "output_type": "stream",
       "stream": "stdout",
       "text": [
        "\n",
        "D:\\Data\\GPCP_tif_clip_clip//gpcp_1dd_v1.2_p1d.20040800.tif"
       ]
      },
      {
       "output_type": "stream",
       "stream": "stdout",
       "text": [
        "\n",
        "D:\\Data\\GPCP_tif_clip_clip//gpcp_1dd_v1.2_p1d.20040801.tif"
       ]
      },
      {
       "output_type": "stream",
       "stream": "stdout",
       "text": [
        "\n",
        "D:\\Data\\GPCP_tif_clip_clip//gpcp_1dd_v1.2_p1d.20040802.tif"
       ]
      },
      {
       "output_type": "stream",
       "stream": "stdout",
       "text": [
        "\n",
        "D:\\Data\\GPCP_tif_clip_clip//gpcp_1dd_v1.2_p1d.20040803.tif"
       ]
      },
      {
       "output_type": "stream",
       "stream": "stdout",
       "text": [
        "\n",
        "D:\\Data\\GPCP_tif_clip_clip//gpcp_1dd_v1.2_p1d.20040804.tif"
       ]
      },
      {
       "output_type": "stream",
       "stream": "stdout",
       "text": [
        "\n",
        "D:\\Data\\GPCP_tif_clip_clip//gpcp_1dd_v1.2_p1d.20040805.tif"
       ]
      },
      {
       "output_type": "stream",
       "stream": "stdout",
       "text": [
        "\n",
        "D:\\Data\\GPCP_tif_clip_clip//gpcp_1dd_v1.2_p1d.20040806.tif"
       ]
      },
      {
       "output_type": "stream",
       "stream": "stdout",
       "text": [
        "\n",
        "D:\\Data\\GPCP_tif_clip_clip//gpcp_1dd_v1.2_p1d.20040807.tif"
       ]
      },
      {
       "output_type": "stream",
       "stream": "stdout",
       "text": [
        "\n",
        "D:\\Data\\GPCP_tif_clip_clip//gpcp_1dd_v1.2_p1d.20040808.tif"
       ]
      },
      {
       "output_type": "stream",
       "stream": "stdout",
       "text": [
        "\n",
        "D:\\Data\\GPCP_tif_clip_clip//gpcp_1dd_v1.2_p1d.20040809.tif"
       ]
      },
      {
       "output_type": "stream",
       "stream": "stdout",
       "text": [
        "\n",
        "D:\\Data\\GPCP_tif_clip_clip//gpcp_1dd_v1.2_p1d.20040810.tif"
       ]
      },
      {
       "output_type": "stream",
       "stream": "stdout",
       "text": [
        "\n",
        "D:\\Data\\GPCP_tif_clip_clip//gpcp_1dd_v1.2_p1d.20040811.tif"
       ]
      },
      {
       "output_type": "stream",
       "stream": "stdout",
       "text": [
        "\n",
        "D:\\Data\\GPCP_tif_clip_clip//gpcp_1dd_v1.2_p1d.20040812.tif"
       ]
      },
      {
       "output_type": "stream",
       "stream": "stdout",
       "text": [
        "\n",
        "D:\\Data\\GPCP_tif_clip_clip//gpcp_1dd_v1.2_p1d.20040813.tif"
       ]
      },
      {
       "output_type": "stream",
       "stream": "stdout",
       "text": [
        "\n",
        "D:\\Data\\GPCP_tif_clip_clip//gpcp_1dd_v1.2_p1d.20040814.tif"
       ]
      },
      {
       "output_type": "stream",
       "stream": "stdout",
       "text": [
        "\n",
        "D:\\Data\\GPCP_tif_clip_clip//gpcp_1dd_v1.2_p1d.20040815.tif"
       ]
      },
      {
       "output_type": "stream",
       "stream": "stdout",
       "text": [
        "\n",
        "D:\\Data\\GPCP_tif_clip_clip//gpcp_1dd_v1.2_p1d.20040816.tif"
       ]
      },
      {
       "output_type": "stream",
       "stream": "stdout",
       "text": [
        "\n",
        "D:\\Data\\GPCP_tif_clip_clip//gpcp_1dd_v1.2_p1d.20040817.tif"
       ]
      },
      {
       "output_type": "stream",
       "stream": "stdout",
       "text": [
        "\n",
        "D:\\Data\\GPCP_tif_clip_clip//gpcp_1dd_v1.2_p1d.20040818.tif"
       ]
      },
      {
       "output_type": "stream",
       "stream": "stdout",
       "text": [
        "\n",
        "D:\\Data\\GPCP_tif_clip_clip//gpcp_1dd_v1.2_p1d.20040819.tif"
       ]
      },
      {
       "output_type": "stream",
       "stream": "stdout",
       "text": [
        "\n",
        "D:\\Data\\GPCP_tif_clip_clip//gpcp_1dd_v1.2_p1d.20040820.tif"
       ]
      },
      {
       "output_type": "stream",
       "stream": "stdout",
       "text": [
        "\n",
        "D:\\Data\\GPCP_tif_clip_clip//gpcp_1dd_v1.2_p1d.20040821.tif"
       ]
      },
      {
       "output_type": "stream",
       "stream": "stdout",
       "text": [
        "\n",
        "D:\\Data\\GPCP_tif_clip_clip//gpcp_1dd_v1.2_p1d.20040822.tif"
       ]
      },
      {
       "output_type": "stream",
       "stream": "stdout",
       "text": [
        "\n",
        "D:\\Data\\GPCP_tif_clip_clip//gpcp_1dd_v1.2_p1d.20040823.tif"
       ]
      },
      {
       "output_type": "stream",
       "stream": "stdout",
       "text": [
        "\n",
        "D:\\Data\\GPCP_tif_clip_clip//gpcp_1dd_v1.2_p1d.20040824.tif"
       ]
      },
      {
       "output_type": "stream",
       "stream": "stdout",
       "text": [
        "\n",
        "D:\\Data\\GPCP_tif_clip_clip//gpcp_1dd_v1.2_p1d.20040825.tif"
       ]
      },
      {
       "output_type": "stream",
       "stream": "stdout",
       "text": [
        "\n",
        "D:\\Data\\GPCP_tif_clip_clip//gpcp_1dd_v1.2_p1d.20040826.tif"
       ]
      },
      {
       "output_type": "stream",
       "stream": "stdout",
       "text": [
        "\n",
        "D:\\Data\\GPCP_tif_clip_clip//gpcp_1dd_v1.2_p1d.20040827.tif"
       ]
      },
      {
       "output_type": "stream",
       "stream": "stdout",
       "text": [
        "\n",
        "D:\\Data\\GPCP_tif_clip_clip//gpcp_1dd_v1.2_p1d.20040828.tif"
       ]
      },
      {
       "output_type": "stream",
       "stream": "stdout",
       "text": [
        "\n",
        "D:\\Data\\GPCP_tif_clip_clip//gpcp_1dd_v1.2_p1d.20040829.tif"
       ]
      },
      {
       "output_type": "stream",
       "stream": "stdout",
       "text": [
        "\n",
        "D:\\Data\\GPCP_tif_clip_clip//gpcp_1dd_v1.2_p1d.20040830.tif"
       ]
      },
      {
       "output_type": "stream",
       "stream": "stdout",
       "text": [
        "\n",
        "D:\\Data\\GPCP_tif_clip_clip//gpcp_1dd_v1.2_p1d.20040900.tif"
       ]
      },
      {
       "output_type": "stream",
       "stream": "stdout",
       "text": [
        "\n",
        "D:\\Data\\GPCP_tif_clip_clip//gpcp_1dd_v1.2_p1d.20040901.tif"
       ]
      },
      {
       "output_type": "stream",
       "stream": "stdout",
       "text": [
        "\n",
        "D:\\Data\\GPCP_tif_clip_clip//gpcp_1dd_v1.2_p1d.20040902.tif"
       ]
      },
      {
       "output_type": "stream",
       "stream": "stdout",
       "text": [
        "\n",
        "D:\\Data\\GPCP_tif_clip_clip//gpcp_1dd_v1.2_p1d.20040903.tif"
       ]
      },
      {
       "output_type": "stream",
       "stream": "stdout",
       "text": [
        "\n",
        "D:\\Data\\GPCP_tif_clip_clip//gpcp_1dd_v1.2_p1d.20040904.tif"
       ]
      },
      {
       "output_type": "stream",
       "stream": "stdout",
       "text": [
        "\n",
        "D:\\Data\\GPCP_tif_clip_clip//gpcp_1dd_v1.2_p1d.20040905.tif"
       ]
      },
      {
       "output_type": "stream",
       "stream": "stdout",
       "text": [
        "\n",
        "D:\\Data\\GPCP_tif_clip_clip//gpcp_1dd_v1.2_p1d.20040906.tif"
       ]
      },
      {
       "output_type": "stream",
       "stream": "stdout",
       "text": [
        "\n",
        "D:\\Data\\GPCP_tif_clip_clip//gpcp_1dd_v1.2_p1d.20040907.tif"
       ]
      },
      {
       "output_type": "stream",
       "stream": "stdout",
       "text": [
        "\n",
        "D:\\Data\\GPCP_tif_clip_clip//gpcp_1dd_v1.2_p1d.20040908.tif"
       ]
      },
      {
       "output_type": "stream",
       "stream": "stdout",
       "text": [
        "\n",
        "D:\\Data\\GPCP_tif_clip_clip//gpcp_1dd_v1.2_p1d.20040909.tif"
       ]
      },
      {
       "output_type": "stream",
       "stream": "stdout",
       "text": [
        "\n",
        "D:\\Data\\GPCP_tif_clip_clip//gpcp_1dd_v1.2_p1d.20040910.tif"
       ]
      },
      {
       "output_type": "stream",
       "stream": "stdout",
       "text": [
        "\n",
        "D:\\Data\\GPCP_tif_clip_clip//gpcp_1dd_v1.2_p1d.20040911.tif"
       ]
      },
      {
       "output_type": "stream",
       "stream": "stdout",
       "text": [
        "\n",
        "D:\\Data\\GPCP_tif_clip_clip//gpcp_1dd_v1.2_p1d.20040912.tif"
       ]
      },
      {
       "output_type": "stream",
       "stream": "stdout",
       "text": [
        "\n",
        "D:\\Data\\GPCP_tif_clip_clip//gpcp_1dd_v1.2_p1d.20040913.tif"
       ]
      },
      {
       "output_type": "stream",
       "stream": "stdout",
       "text": [
        "\n",
        "D:\\Data\\GPCP_tif_clip_clip//gpcp_1dd_v1.2_p1d.20040914.tif"
       ]
      },
      {
       "output_type": "stream",
       "stream": "stdout",
       "text": [
        "\n",
        "D:\\Data\\GPCP_tif_clip_clip//gpcp_1dd_v1.2_p1d.20040915.tif"
       ]
      },
      {
       "output_type": "stream",
       "stream": "stdout",
       "text": [
        "\n",
        "D:\\Data\\GPCP_tif_clip_clip//gpcp_1dd_v1.2_p1d.20040916.tif"
       ]
      },
      {
       "output_type": "stream",
       "stream": "stdout",
       "text": [
        "\n",
        "D:\\Data\\GPCP_tif_clip_clip//gpcp_1dd_v1.2_p1d.20040917.tif"
       ]
      },
      {
       "output_type": "stream",
       "stream": "stdout",
       "text": [
        "\n",
        "D:\\Data\\GPCP_tif_clip_clip//gpcp_1dd_v1.2_p1d.20040918.tif"
       ]
      },
      {
       "output_type": "stream",
       "stream": "stdout",
       "text": [
        "\n",
        "D:\\Data\\GPCP_tif_clip_clip//gpcp_1dd_v1.2_p1d.20040919.tif"
       ]
      },
      {
       "output_type": "stream",
       "stream": "stdout",
       "text": [
        "\n",
        "D:\\Data\\GPCP_tif_clip_clip//gpcp_1dd_v1.2_p1d.20040920.tif"
       ]
      },
      {
       "output_type": "stream",
       "stream": "stdout",
       "text": [
        "\n",
        "D:\\Data\\GPCP_tif_clip_clip//gpcp_1dd_v1.2_p1d.20040921.tif"
       ]
      },
      {
       "output_type": "stream",
       "stream": "stdout",
       "text": [
        "\n",
        "D:\\Data\\GPCP_tif_clip_clip//gpcp_1dd_v1.2_p1d.20040922.tif"
       ]
      },
      {
       "output_type": "stream",
       "stream": "stdout",
       "text": [
        "\n",
        "D:\\Data\\GPCP_tif_clip_clip//gpcp_1dd_v1.2_p1d.20040923.tif"
       ]
      },
      {
       "output_type": "stream",
       "stream": "stdout",
       "text": [
        "\n",
        "D:\\Data\\GPCP_tif_clip_clip//gpcp_1dd_v1.2_p1d.20040924.tif"
       ]
      },
      {
       "output_type": "stream",
       "stream": "stdout",
       "text": [
        "\n",
        "D:\\Data\\GPCP_tif_clip_clip//gpcp_1dd_v1.2_p1d.20040925.tif"
       ]
      },
      {
       "output_type": "stream",
       "stream": "stdout",
       "text": [
        "\n",
        "D:\\Data\\GPCP_tif_clip_clip//gpcp_1dd_v1.2_p1d.20040926.tif"
       ]
      },
      {
       "output_type": "stream",
       "stream": "stdout",
       "text": [
        "\n",
        "D:\\Data\\GPCP_tif_clip_clip//gpcp_1dd_v1.2_p1d.20040927.tif"
       ]
      },
      {
       "output_type": "stream",
       "stream": "stdout",
       "text": [
        "\n",
        "D:\\Data\\GPCP_tif_clip_clip//gpcp_1dd_v1.2_p1d.20040928.tif"
       ]
      },
      {
       "output_type": "stream",
       "stream": "stdout",
       "text": [
        "\n",
        "D:\\Data\\GPCP_tif_clip_clip//gpcp_1dd_v1.2_p1d.20040929.tif"
       ]
      },
      {
       "output_type": "stream",
       "stream": "stdout",
       "text": [
        "\n",
        "D:\\Data\\GPCP_tif_clip_clip//gpcp_1dd_v1.2_p1d.20041000.tif"
       ]
      },
      {
       "output_type": "stream",
       "stream": "stdout",
       "text": [
        "\n",
        "D:\\Data\\GPCP_tif_clip_clip//gpcp_1dd_v1.2_p1d.20041001.tif"
       ]
      },
      {
       "output_type": "stream",
       "stream": "stdout",
       "text": [
        "\n",
        "D:\\Data\\GPCP_tif_clip_clip//gpcp_1dd_v1.2_p1d.20041002.tif"
       ]
      },
      {
       "output_type": "stream",
       "stream": "stdout",
       "text": [
        "\n",
        "D:\\Data\\GPCP_tif_clip_clip//gpcp_1dd_v1.2_p1d.20041003.tif"
       ]
      },
      {
       "output_type": "stream",
       "stream": "stdout",
       "text": [
        "\n",
        "D:\\Data\\GPCP_tif_clip_clip//gpcp_1dd_v1.2_p1d.20041004.tif"
       ]
      },
      {
       "output_type": "stream",
       "stream": "stdout",
       "text": [
        "\n",
        "D:\\Data\\GPCP_tif_clip_clip//gpcp_1dd_v1.2_p1d.20041005.tif"
       ]
      },
      {
       "output_type": "stream",
       "stream": "stdout",
       "text": [
        "\n",
        "D:\\Data\\GPCP_tif_clip_clip//gpcp_1dd_v1.2_p1d.20041006.tif"
       ]
      },
      {
       "output_type": "stream",
       "stream": "stdout",
       "text": [
        "\n",
        "D:\\Data\\GPCP_tif_clip_clip//gpcp_1dd_v1.2_p1d.20041007.tif"
       ]
      },
      {
       "output_type": "stream",
       "stream": "stdout",
       "text": [
        "\n",
        "D:\\Data\\GPCP_tif_clip_clip//gpcp_1dd_v1.2_p1d.20041008.tif"
       ]
      },
      {
       "output_type": "stream",
       "stream": "stdout",
       "text": [
        "\n",
        "D:\\Data\\GPCP_tif_clip_clip//gpcp_1dd_v1.2_p1d.20041009.tif"
       ]
      },
      {
       "output_type": "stream",
       "stream": "stdout",
       "text": [
        "\n",
        "D:\\Data\\GPCP_tif_clip_clip//gpcp_1dd_v1.2_p1d.20041010.tif"
       ]
      },
      {
       "output_type": "stream",
       "stream": "stdout",
       "text": [
        "\n",
        "D:\\Data\\GPCP_tif_clip_clip//gpcp_1dd_v1.2_p1d.20041011.tif"
       ]
      },
      {
       "output_type": "stream",
       "stream": "stdout",
       "text": [
        "\n",
        "D:\\Data\\GPCP_tif_clip_clip//gpcp_1dd_v1.2_p1d.20041012.tif"
       ]
      },
      {
       "output_type": "stream",
       "stream": "stdout",
       "text": [
        "\n",
        "D:\\Data\\GPCP_tif_clip_clip//gpcp_1dd_v1.2_p1d.20041013.tif"
       ]
      },
      {
       "output_type": "stream",
       "stream": "stdout",
       "text": [
        "\n",
        "D:\\Data\\GPCP_tif_clip_clip//gpcp_1dd_v1.2_p1d.20041014.tif"
       ]
      },
      {
       "output_type": "stream",
       "stream": "stdout",
       "text": [
        "\n",
        "D:\\Data\\GPCP_tif_clip_clip//gpcp_1dd_v1.2_p1d.20041015.tif"
       ]
      },
      {
       "output_type": "stream",
       "stream": "stdout",
       "text": [
        "\n",
        "D:\\Data\\GPCP_tif_clip_clip//gpcp_1dd_v1.2_p1d.20041016.tif"
       ]
      },
      {
       "output_type": "stream",
       "stream": "stdout",
       "text": [
        "\n",
        "D:\\Data\\GPCP_tif_clip_clip//gpcp_1dd_v1.2_p1d.20041017.tif"
       ]
      },
      {
       "output_type": "stream",
       "stream": "stdout",
       "text": [
        "\n",
        "D:\\Data\\GPCP_tif_clip_clip//gpcp_1dd_v1.2_p1d.20041018.tif"
       ]
      },
      {
       "output_type": "stream",
       "stream": "stdout",
       "text": [
        "\n",
        "D:\\Data\\GPCP_tif_clip_clip//gpcp_1dd_v1.2_p1d.20041019.tif"
       ]
      },
      {
       "output_type": "stream",
       "stream": "stdout",
       "text": [
        "\n",
        "D:\\Data\\GPCP_tif_clip_clip//gpcp_1dd_v1.2_p1d.20041020.tif"
       ]
      },
      {
       "output_type": "stream",
       "stream": "stdout",
       "text": [
        "\n",
        "D:\\Data\\GPCP_tif_clip_clip//gpcp_1dd_v1.2_p1d.20041021.tif"
       ]
      },
      {
       "output_type": "stream",
       "stream": "stdout",
       "text": [
        "\n",
        "D:\\Data\\GPCP_tif_clip_clip//gpcp_1dd_v1.2_p1d.20041022.tif"
       ]
      },
      {
       "output_type": "stream",
       "stream": "stdout",
       "text": [
        "\n",
        "D:\\Data\\GPCP_tif_clip_clip//gpcp_1dd_v1.2_p1d.20041023.tif"
       ]
      },
      {
       "output_type": "stream",
       "stream": "stdout",
       "text": [
        "\n",
        "D:\\Data\\GPCP_tif_clip_clip//gpcp_1dd_v1.2_p1d.20041024.tif"
       ]
      },
      {
       "output_type": "stream",
       "stream": "stdout",
       "text": [
        "\n",
        "D:\\Data\\GPCP_tif_clip_clip//gpcp_1dd_v1.2_p1d.20041025.tif"
       ]
      },
      {
       "output_type": "stream",
       "stream": "stdout",
       "text": [
        "\n",
        "D:\\Data\\GPCP_tif_clip_clip//gpcp_1dd_v1.2_p1d.20041026.tif"
       ]
      },
      {
       "output_type": "stream",
       "stream": "stdout",
       "text": [
        "\n",
        "D:\\Data\\GPCP_tif_clip_clip//gpcp_1dd_v1.2_p1d.20041027.tif"
       ]
      },
      {
       "output_type": "stream",
       "stream": "stdout",
       "text": [
        "\n",
        "D:\\Data\\GPCP_tif_clip_clip//gpcp_1dd_v1.2_p1d.20041028.tif"
       ]
      },
      {
       "output_type": "stream",
       "stream": "stdout",
       "text": [
        "\n",
        "D:\\Data\\GPCP_tif_clip_clip//gpcp_1dd_v1.2_p1d.20041029.tif"
       ]
      },
      {
       "output_type": "stream",
       "stream": "stdout",
       "text": [
        "\n",
        "D:\\Data\\GPCP_tif_clip_clip//gpcp_1dd_v1.2_p1d.20041030.tif"
       ]
      },
      {
       "output_type": "stream",
       "stream": "stdout",
       "text": [
        "\n",
        "D:\\Data\\GPCP_tif_clip_clip//gpcp_1dd_v1.2_p1d.20041100.tif"
       ]
      },
      {
       "output_type": "stream",
       "stream": "stdout",
       "text": [
        "\n",
        "D:\\Data\\GPCP_tif_clip_clip//gpcp_1dd_v1.2_p1d.20041101.tif"
       ]
      },
      {
       "output_type": "stream",
       "stream": "stdout",
       "text": [
        "\n",
        "D:\\Data\\GPCP_tif_clip_clip//gpcp_1dd_v1.2_p1d.20041102.tif"
       ]
      },
      {
       "output_type": "stream",
       "stream": "stdout",
       "text": [
        "\n",
        "D:\\Data\\GPCP_tif_clip_clip//gpcp_1dd_v1.2_p1d.20041103.tif"
       ]
      },
      {
       "output_type": "stream",
       "stream": "stdout",
       "text": [
        "\n",
        "D:\\Data\\GPCP_tif_clip_clip//gpcp_1dd_v1.2_p1d.20041104.tif"
       ]
      },
      {
       "output_type": "stream",
       "stream": "stdout",
       "text": [
        "\n",
        "D:\\Data\\GPCP_tif_clip_clip//gpcp_1dd_v1.2_p1d.20041105.tif"
       ]
      },
      {
       "output_type": "stream",
       "stream": "stdout",
       "text": [
        "\n",
        "D:\\Data\\GPCP_tif_clip_clip//gpcp_1dd_v1.2_p1d.20041106.tif"
       ]
      },
      {
       "output_type": "stream",
       "stream": "stdout",
       "text": [
        "\n",
        "D:\\Data\\GPCP_tif_clip_clip//gpcp_1dd_v1.2_p1d.20041107.tif"
       ]
      },
      {
       "output_type": "stream",
       "stream": "stdout",
       "text": [
        "\n",
        "D:\\Data\\GPCP_tif_clip_clip//gpcp_1dd_v1.2_p1d.20041108.tif"
       ]
      },
      {
       "output_type": "stream",
       "stream": "stdout",
       "text": [
        "\n",
        "D:\\Data\\GPCP_tif_clip_clip//gpcp_1dd_v1.2_p1d.20041109.tif"
       ]
      },
      {
       "output_type": "stream",
       "stream": "stdout",
       "text": [
        "\n",
        "D:\\Data\\GPCP_tif_clip_clip//gpcp_1dd_v1.2_p1d.20041110.tif"
       ]
      },
      {
       "output_type": "stream",
       "stream": "stdout",
       "text": [
        "\n",
        "D:\\Data\\GPCP_tif_clip_clip//gpcp_1dd_v1.2_p1d.20041111.tif"
       ]
      },
      {
       "output_type": "stream",
       "stream": "stdout",
       "text": [
        "\n",
        "D:\\Data\\GPCP_tif_clip_clip//gpcp_1dd_v1.2_p1d.20041112.tif"
       ]
      },
      {
       "output_type": "stream",
       "stream": "stdout",
       "text": [
        "\n",
        "D:\\Data\\GPCP_tif_clip_clip//gpcp_1dd_v1.2_p1d.20041113.tif"
       ]
      },
      {
       "output_type": "stream",
       "stream": "stdout",
       "text": [
        "\n",
        "D:\\Data\\GPCP_tif_clip_clip//gpcp_1dd_v1.2_p1d.20041114.tif"
       ]
      },
      {
       "output_type": "stream",
       "stream": "stdout",
       "text": [
        "\n",
        "D:\\Data\\GPCP_tif_clip_clip//gpcp_1dd_v1.2_p1d.20041115.tif"
       ]
      },
      {
       "output_type": "stream",
       "stream": "stdout",
       "text": [
        "\n",
        "D:\\Data\\GPCP_tif_clip_clip//gpcp_1dd_v1.2_p1d.20041116.tif"
       ]
      },
      {
       "output_type": "stream",
       "stream": "stdout",
       "text": [
        "\n",
        "D:\\Data\\GPCP_tif_clip_clip//gpcp_1dd_v1.2_p1d.20041117.tif"
       ]
      },
      {
       "output_type": "stream",
       "stream": "stdout",
       "text": [
        "\n",
        "D:\\Data\\GPCP_tif_clip_clip//gpcp_1dd_v1.2_p1d.20041118.tif"
       ]
      },
      {
       "output_type": "stream",
       "stream": "stdout",
       "text": [
        "\n",
        "D:\\Data\\GPCP_tif_clip_clip//gpcp_1dd_v1.2_p1d.20041119.tif"
       ]
      },
      {
       "output_type": "stream",
       "stream": "stdout",
       "text": [
        "\n",
        "D:\\Data\\GPCP_tif_clip_clip//gpcp_1dd_v1.2_p1d.20041120.tif"
       ]
      },
      {
       "output_type": "stream",
       "stream": "stdout",
       "text": [
        "\n",
        "D:\\Data\\GPCP_tif_clip_clip//gpcp_1dd_v1.2_p1d.20041121.tif"
       ]
      },
      {
       "output_type": "stream",
       "stream": "stdout",
       "text": [
        "\n",
        "D:\\Data\\GPCP_tif_clip_clip//gpcp_1dd_v1.2_p1d.20041122.tif"
       ]
      },
      {
       "output_type": "stream",
       "stream": "stdout",
       "text": [
        "\n",
        "D:\\Data\\GPCP_tif_clip_clip//gpcp_1dd_v1.2_p1d.20041123.tif"
       ]
      },
      {
       "output_type": "stream",
       "stream": "stdout",
       "text": [
        "\n",
        "D:\\Data\\GPCP_tif_clip_clip//gpcp_1dd_v1.2_p1d.20041124.tif"
       ]
      },
      {
       "output_type": "stream",
       "stream": "stdout",
       "text": [
        "\n",
        "D:\\Data\\GPCP_tif_clip_clip//gpcp_1dd_v1.2_p1d.20041125.tif"
       ]
      },
      {
       "output_type": "stream",
       "stream": "stdout",
       "text": [
        "\n",
        "D:\\Data\\GPCP_tif_clip_clip//gpcp_1dd_v1.2_p1d.20041126.tif"
       ]
      },
      {
       "output_type": "stream",
       "stream": "stdout",
       "text": [
        "\n",
        "D:\\Data\\GPCP_tif_clip_clip//gpcp_1dd_v1.2_p1d.20041127.tif"
       ]
      },
      {
       "output_type": "stream",
       "stream": "stdout",
       "text": [
        "\n",
        "D:\\Data\\GPCP_tif_clip_clip//gpcp_1dd_v1.2_p1d.20041128.tif"
       ]
      },
      {
       "output_type": "stream",
       "stream": "stdout",
       "text": [
        "\n",
        "D:\\Data\\GPCP_tif_clip_clip//gpcp_1dd_v1.2_p1d.20041129.tif"
       ]
      },
      {
       "output_type": "stream",
       "stream": "stdout",
       "text": [
        "\n",
        "D:\\Data\\GPCP_tif_clip_clip//gpcp_1dd_v1.2_p1d.20041200.tif"
       ]
      },
      {
       "output_type": "stream",
       "stream": "stdout",
       "text": [
        "\n",
        "D:\\Data\\GPCP_tif_clip_clip//gpcp_1dd_v1.2_p1d.20041201.tif"
       ]
      },
      {
       "output_type": "stream",
       "stream": "stdout",
       "text": [
        "\n",
        "D:\\Data\\GPCP_tif_clip_clip//gpcp_1dd_v1.2_p1d.20041202.tif"
       ]
      },
      {
       "output_type": "stream",
       "stream": "stdout",
       "text": [
        "\n",
        "D:\\Data\\GPCP_tif_clip_clip//gpcp_1dd_v1.2_p1d.20041203.tif"
       ]
      },
      {
       "output_type": "stream",
       "stream": "stdout",
       "text": [
        "\n",
        "D:\\Data\\GPCP_tif_clip_clip//gpcp_1dd_v1.2_p1d.20041204.tif"
       ]
      },
      {
       "output_type": "stream",
       "stream": "stdout",
       "text": [
        "\n",
        "D:\\Data\\GPCP_tif_clip_clip//gpcp_1dd_v1.2_p1d.20041205.tif"
       ]
      },
      {
       "output_type": "stream",
       "stream": "stdout",
       "text": [
        "\n",
        "D:\\Data\\GPCP_tif_clip_clip//gpcp_1dd_v1.2_p1d.20041206.tif"
       ]
      },
      {
       "output_type": "stream",
       "stream": "stdout",
       "text": [
        "\n",
        "D:\\Data\\GPCP_tif_clip_clip//gpcp_1dd_v1.2_p1d.20041207.tif"
       ]
      },
      {
       "output_type": "stream",
       "stream": "stdout",
       "text": [
        "\n",
        "D:\\Data\\GPCP_tif_clip_clip//gpcp_1dd_v1.2_p1d.20041208.tif"
       ]
      },
      {
       "output_type": "stream",
       "stream": "stdout",
       "text": [
        "\n",
        "D:\\Data\\GPCP_tif_clip_clip//gpcp_1dd_v1.2_p1d.20041209.tif"
       ]
      },
      {
       "output_type": "stream",
       "stream": "stdout",
       "text": [
        "\n",
        "D:\\Data\\GPCP_tif_clip_clip//gpcp_1dd_v1.2_p1d.20041210.tif"
       ]
      },
      {
       "output_type": "stream",
       "stream": "stdout",
       "text": [
        "\n",
        "D:\\Data\\GPCP_tif_clip_clip//gpcp_1dd_v1.2_p1d.20041211.tif"
       ]
      },
      {
       "output_type": "stream",
       "stream": "stdout",
       "text": [
        "\n",
        "D:\\Data\\GPCP_tif_clip_clip//gpcp_1dd_v1.2_p1d.20041212.tif"
       ]
      },
      {
       "output_type": "stream",
       "stream": "stdout",
       "text": [
        "\n",
        "D:\\Data\\GPCP_tif_clip_clip//gpcp_1dd_v1.2_p1d.20041213.tif"
       ]
      },
      {
       "output_type": "stream",
       "stream": "stdout",
       "text": [
        "\n",
        "D:\\Data\\GPCP_tif_clip_clip//gpcp_1dd_v1.2_p1d.20041214.tif"
       ]
      },
      {
       "output_type": "stream",
       "stream": "stdout",
       "text": [
        "\n",
        "D:\\Data\\GPCP_tif_clip_clip//gpcp_1dd_v1.2_p1d.20041215.tif"
       ]
      },
      {
       "output_type": "stream",
       "stream": "stdout",
       "text": [
        "\n",
        "D:\\Data\\GPCP_tif_clip_clip//gpcp_1dd_v1.2_p1d.20041216.tif"
       ]
      },
      {
       "output_type": "stream",
       "stream": "stdout",
       "text": [
        "\n",
        "D:\\Data\\GPCP_tif_clip_clip//gpcp_1dd_v1.2_p1d.20041217.tif"
       ]
      },
      {
       "output_type": "stream",
       "stream": "stdout",
       "text": [
        "\n",
        "D:\\Data\\GPCP_tif_clip_clip//gpcp_1dd_v1.2_p1d.20041218.tif"
       ]
      },
      {
       "output_type": "stream",
       "stream": "stdout",
       "text": [
        "\n",
        "D:\\Data\\GPCP_tif_clip_clip//gpcp_1dd_v1.2_p1d.20041219.tif"
       ]
      },
      {
       "output_type": "stream",
       "stream": "stdout",
       "text": [
        "\n",
        "D:\\Data\\GPCP_tif_clip_clip//gpcp_1dd_v1.2_p1d.20041220.tif"
       ]
      },
      {
       "output_type": "stream",
       "stream": "stdout",
       "text": [
        "\n",
        "D:\\Data\\GPCP_tif_clip_clip//gpcp_1dd_v1.2_p1d.20041221.tif"
       ]
      },
      {
       "output_type": "stream",
       "stream": "stdout",
       "text": [
        "\n",
        "D:\\Data\\GPCP_tif_clip_clip//gpcp_1dd_v1.2_p1d.20041222.tif"
       ]
      },
      {
       "output_type": "stream",
       "stream": "stdout",
       "text": [
        "\n",
        "D:\\Data\\GPCP_tif_clip_clip//gpcp_1dd_v1.2_p1d.20041223.tif"
       ]
      },
      {
       "output_type": "stream",
       "stream": "stdout",
       "text": [
        "\n",
        "D:\\Data\\GPCP_tif_clip_clip//gpcp_1dd_v1.2_p1d.20041224.tif"
       ]
      },
      {
       "output_type": "stream",
       "stream": "stdout",
       "text": [
        "\n",
        "D:\\Data\\GPCP_tif_clip_clip//gpcp_1dd_v1.2_p1d.20041225.tif"
       ]
      },
      {
       "output_type": "stream",
       "stream": "stdout",
       "text": [
        "\n",
        "D:\\Data\\GPCP_tif_clip_clip//gpcp_1dd_v1.2_p1d.20041226.tif"
       ]
      },
      {
       "output_type": "stream",
       "stream": "stdout",
       "text": [
        "\n",
        "D:\\Data\\GPCP_tif_clip_clip//gpcp_1dd_v1.2_p1d.20041227.tif"
       ]
      },
      {
       "output_type": "stream",
       "stream": "stdout",
       "text": [
        "\n",
        "D:\\Data\\GPCP_tif_clip_clip//gpcp_1dd_v1.2_p1d.20041228.tif"
       ]
      },
      {
       "output_type": "stream",
       "stream": "stdout",
       "text": [
        "\n",
        "D:\\Data\\GPCP_tif_clip_clip//gpcp_1dd_v1.2_p1d.20041229.tif"
       ]
      },
      {
       "output_type": "stream",
       "stream": "stdout",
       "text": [
        "\n",
        "D:\\Data\\GPCP_tif_clip_clip//gpcp_1dd_v1.2_p1d.20041230.tif"
       ]
      },
      {
       "output_type": "stream",
       "stream": "stdout",
       "text": [
        "\n",
        "D:\\Data\\GPCP_tif_clip_clip//gpcp_1dd_v1.2_p1d.20050100.tif"
       ]
      },
      {
       "output_type": "stream",
       "stream": "stdout",
       "text": [
        "\n",
        "D:\\Data\\GPCP_tif_clip_clip//gpcp_1dd_v1.2_p1d.20050101.tif"
       ]
      },
      {
       "output_type": "stream",
       "stream": "stdout",
       "text": [
        "\n",
        "D:\\Data\\GPCP_tif_clip_clip//gpcp_1dd_v1.2_p1d.20050102.tif"
       ]
      },
      {
       "output_type": "stream",
       "stream": "stdout",
       "text": [
        "\n",
        "D:\\Data\\GPCP_tif_clip_clip//gpcp_1dd_v1.2_p1d.20050103.tif"
       ]
      },
      {
       "output_type": "stream",
       "stream": "stdout",
       "text": [
        "\n",
        "D:\\Data\\GPCP_tif_clip_clip//gpcp_1dd_v1.2_p1d.20050104.tif"
       ]
      },
      {
       "output_type": "stream",
       "stream": "stdout",
       "text": [
        "\n",
        "D:\\Data\\GPCP_tif_clip_clip//gpcp_1dd_v1.2_p1d.20050105.tif"
       ]
      },
      {
       "output_type": "stream",
       "stream": "stdout",
       "text": [
        "\n",
        "D:\\Data\\GPCP_tif_clip_clip//gpcp_1dd_v1.2_p1d.20050106.tif"
       ]
      },
      {
       "output_type": "stream",
       "stream": "stdout",
       "text": [
        "\n",
        "D:\\Data\\GPCP_tif_clip_clip//gpcp_1dd_v1.2_p1d.20050107.tif"
       ]
      },
      {
       "output_type": "stream",
       "stream": "stdout",
       "text": [
        "\n",
        "D:\\Data\\GPCP_tif_clip_clip//gpcp_1dd_v1.2_p1d.20050108.tif"
       ]
      },
      {
       "output_type": "stream",
       "stream": "stdout",
       "text": [
        "\n",
        "D:\\Data\\GPCP_tif_clip_clip//gpcp_1dd_v1.2_p1d.20050109.tif"
       ]
      },
      {
       "output_type": "stream",
       "stream": "stdout",
       "text": [
        "\n",
        "D:\\Data\\GPCP_tif_clip_clip//gpcp_1dd_v1.2_p1d.20050110.tif"
       ]
      },
      {
       "output_type": "stream",
       "stream": "stdout",
       "text": [
        "\n",
        "D:\\Data\\GPCP_tif_clip_clip//gpcp_1dd_v1.2_p1d.20050111.tif"
       ]
      },
      {
       "output_type": "stream",
       "stream": "stdout",
       "text": [
        "\n",
        "D:\\Data\\GPCP_tif_clip_clip//gpcp_1dd_v1.2_p1d.20050112.tif"
       ]
      },
      {
       "output_type": "stream",
       "stream": "stdout",
       "text": [
        "\n",
        "D:\\Data\\GPCP_tif_clip_clip//gpcp_1dd_v1.2_p1d.20050113.tif"
       ]
      },
      {
       "output_type": "stream",
       "stream": "stdout",
       "text": [
        "\n",
        "D:\\Data\\GPCP_tif_clip_clip//gpcp_1dd_v1.2_p1d.20050114.tif"
       ]
      },
      {
       "output_type": "stream",
       "stream": "stdout",
       "text": [
        "\n",
        "D:\\Data\\GPCP_tif_clip_clip//gpcp_1dd_v1.2_p1d.20050115.tif"
       ]
      },
      {
       "output_type": "stream",
       "stream": "stdout",
       "text": [
        "\n",
        "D:\\Data\\GPCP_tif_clip_clip//gpcp_1dd_v1.2_p1d.20050116.tif"
       ]
      },
      {
       "output_type": "stream",
       "stream": "stdout",
       "text": [
        "\n",
        "D:\\Data\\GPCP_tif_clip_clip//gpcp_1dd_v1.2_p1d.20050117.tif"
       ]
      },
      {
       "output_type": "stream",
       "stream": "stdout",
       "text": [
        "\n",
        "D:\\Data\\GPCP_tif_clip_clip//gpcp_1dd_v1.2_p1d.20050118.tif"
       ]
      },
      {
       "output_type": "stream",
       "stream": "stdout",
       "text": [
        "\n",
        "D:\\Data\\GPCP_tif_clip_clip//gpcp_1dd_v1.2_p1d.20050119.tif"
       ]
      },
      {
       "output_type": "stream",
       "stream": "stdout",
       "text": [
        "\n",
        "D:\\Data\\GPCP_tif_clip_clip//gpcp_1dd_v1.2_p1d.20050120.tif"
       ]
      },
      {
       "output_type": "stream",
       "stream": "stdout",
       "text": [
        "\n",
        "D:\\Data\\GPCP_tif_clip_clip//gpcp_1dd_v1.2_p1d.20050121.tif"
       ]
      },
      {
       "output_type": "stream",
       "stream": "stdout",
       "text": [
        "\n",
        "D:\\Data\\GPCP_tif_clip_clip//gpcp_1dd_v1.2_p1d.20050122.tif"
       ]
      },
      {
       "output_type": "stream",
       "stream": "stdout",
       "text": [
        "\n",
        "D:\\Data\\GPCP_tif_clip_clip//gpcp_1dd_v1.2_p1d.20050123.tif"
       ]
      },
      {
       "output_type": "stream",
       "stream": "stdout",
       "text": [
        "\n",
        "D:\\Data\\GPCP_tif_clip_clip//gpcp_1dd_v1.2_p1d.20050124.tif"
       ]
      },
      {
       "output_type": "stream",
       "stream": "stdout",
       "text": [
        "\n",
        "D:\\Data\\GPCP_tif_clip_clip//gpcp_1dd_v1.2_p1d.20050125.tif"
       ]
      },
      {
       "output_type": "stream",
       "stream": "stdout",
       "text": [
        "\n",
        "D:\\Data\\GPCP_tif_clip_clip//gpcp_1dd_v1.2_p1d.20050126.tif"
       ]
      },
      {
       "output_type": "stream",
       "stream": "stdout",
       "text": [
        "\n",
        "D:\\Data\\GPCP_tif_clip_clip//gpcp_1dd_v1.2_p1d.20050127.tif"
       ]
      },
      {
       "output_type": "stream",
       "stream": "stdout",
       "text": [
        "\n",
        "D:\\Data\\GPCP_tif_clip_clip//gpcp_1dd_v1.2_p1d.20050128.tif"
       ]
      },
      {
       "output_type": "stream",
       "stream": "stdout",
       "text": [
        "\n",
        "D:\\Data\\GPCP_tif_clip_clip//gpcp_1dd_v1.2_p1d.20050129.tif"
       ]
      },
      {
       "output_type": "stream",
       "stream": "stdout",
       "text": [
        "\n",
        "D:\\Data\\GPCP_tif_clip_clip//gpcp_1dd_v1.2_p1d.20050130.tif"
       ]
      },
      {
       "output_type": "stream",
       "stream": "stdout",
       "text": [
        "\n",
        "D:\\Data\\GPCP_tif_clip_clip//gpcp_1dd_v1.2_p1d.20050200.tif"
       ]
      },
      {
       "output_type": "stream",
       "stream": "stdout",
       "text": [
        "\n",
        "D:\\Data\\GPCP_tif_clip_clip//gpcp_1dd_v1.2_p1d.20050201.tif"
       ]
      },
      {
       "output_type": "stream",
       "stream": "stdout",
       "text": [
        "\n",
        "D:\\Data\\GPCP_tif_clip_clip//gpcp_1dd_v1.2_p1d.20050202.tif"
       ]
      },
      {
       "output_type": "stream",
       "stream": "stdout",
       "text": [
        "\n",
        "D:\\Data\\GPCP_tif_clip_clip//gpcp_1dd_v1.2_p1d.20050203.tif"
       ]
      },
      {
       "output_type": "stream",
       "stream": "stdout",
       "text": [
        "\n",
        "D:\\Data\\GPCP_tif_clip_clip//gpcp_1dd_v1.2_p1d.20050204.tif"
       ]
      },
      {
       "output_type": "stream",
       "stream": "stdout",
       "text": [
        "\n",
        "D:\\Data\\GPCP_tif_clip_clip//gpcp_1dd_v1.2_p1d.20050205.tif"
       ]
      },
      {
       "output_type": "stream",
       "stream": "stdout",
       "text": [
        "\n",
        "D:\\Data\\GPCP_tif_clip_clip//gpcp_1dd_v1.2_p1d.20050206.tif"
       ]
      },
      {
       "output_type": "stream",
       "stream": "stdout",
       "text": [
        "\n",
        "D:\\Data\\GPCP_tif_clip_clip//gpcp_1dd_v1.2_p1d.20050207.tif"
       ]
      },
      {
       "output_type": "stream",
       "stream": "stdout",
       "text": [
        "\n",
        "D:\\Data\\GPCP_tif_clip_clip//gpcp_1dd_v1.2_p1d.20050208.tif"
       ]
      },
      {
       "output_type": "stream",
       "stream": "stdout",
       "text": [
        "\n",
        "D:\\Data\\GPCP_tif_clip_clip//gpcp_1dd_v1.2_p1d.20050209.tif"
       ]
      },
      {
       "output_type": "stream",
       "stream": "stdout",
       "text": [
        "\n",
        "D:\\Data\\GPCP_tif_clip_clip//gpcp_1dd_v1.2_p1d.20050210.tif"
       ]
      },
      {
       "output_type": "stream",
       "stream": "stdout",
       "text": [
        "\n",
        "D:\\Data\\GPCP_tif_clip_clip//gpcp_1dd_v1.2_p1d.20050211.tif"
       ]
      },
      {
       "output_type": "stream",
       "stream": "stdout",
       "text": [
        "\n",
        "D:\\Data\\GPCP_tif_clip_clip//gpcp_1dd_v1.2_p1d.20050212.tif"
       ]
      },
      {
       "output_type": "stream",
       "stream": "stdout",
       "text": [
        "\n",
        "D:\\Data\\GPCP_tif_clip_clip//gpcp_1dd_v1.2_p1d.20050213.tif"
       ]
      },
      {
       "output_type": "stream",
       "stream": "stdout",
       "text": [
        "\n",
        "D:\\Data\\GPCP_tif_clip_clip//gpcp_1dd_v1.2_p1d.20050214.tif"
       ]
      },
      {
       "output_type": "stream",
       "stream": "stdout",
       "text": [
        "\n",
        "D:\\Data\\GPCP_tif_clip_clip//gpcp_1dd_v1.2_p1d.20050215.tif"
       ]
      },
      {
       "output_type": "stream",
       "stream": "stdout",
       "text": [
        "\n",
        "D:\\Data\\GPCP_tif_clip_clip//gpcp_1dd_v1.2_p1d.20050216.tif"
       ]
      },
      {
       "output_type": "stream",
       "stream": "stdout",
       "text": [
        "\n",
        "D:\\Data\\GPCP_tif_clip_clip//gpcp_1dd_v1.2_p1d.20050217.tif"
       ]
      },
      {
       "output_type": "stream",
       "stream": "stdout",
       "text": [
        "\n",
        "D:\\Data\\GPCP_tif_clip_clip//gpcp_1dd_v1.2_p1d.20050218.tif"
       ]
      },
      {
       "output_type": "stream",
       "stream": "stdout",
       "text": [
        "\n",
        "D:\\Data\\GPCP_tif_clip_clip//gpcp_1dd_v1.2_p1d.20050219.tif"
       ]
      },
      {
       "output_type": "stream",
       "stream": "stdout",
       "text": [
        "\n",
        "D:\\Data\\GPCP_tif_clip_clip//gpcp_1dd_v1.2_p1d.20050220.tif"
       ]
      },
      {
       "output_type": "stream",
       "stream": "stdout",
       "text": [
        "\n",
        "D:\\Data\\GPCP_tif_clip_clip//gpcp_1dd_v1.2_p1d.20050221.tif"
       ]
      },
      {
       "output_type": "stream",
       "stream": "stdout",
       "text": [
        "\n",
        "D:\\Data\\GPCP_tif_clip_clip//gpcp_1dd_v1.2_p1d.20050222.tif"
       ]
      },
      {
       "output_type": "stream",
       "stream": "stdout",
       "text": [
        "\n",
        "D:\\Data\\GPCP_tif_clip_clip//gpcp_1dd_v1.2_p1d.20050223.tif"
       ]
      },
      {
       "output_type": "stream",
       "stream": "stdout",
       "text": [
        "\n",
        "D:\\Data\\GPCP_tif_clip_clip//gpcp_1dd_v1.2_p1d.20050224.tif"
       ]
      },
      {
       "output_type": "stream",
       "stream": "stdout",
       "text": [
        "\n",
        "D:\\Data\\GPCP_tif_clip_clip//gpcp_1dd_v1.2_p1d.20050225.tif"
       ]
      },
      {
       "output_type": "stream",
       "stream": "stdout",
       "text": [
        "\n",
        "D:\\Data\\GPCP_tif_clip_clip//gpcp_1dd_v1.2_p1d.20050226.tif"
       ]
      },
      {
       "output_type": "stream",
       "stream": "stdout",
       "text": [
        "\n",
        "D:\\Data\\GPCP_tif_clip_clip//gpcp_1dd_v1.2_p1d.20050227.tif"
       ]
      },
      {
       "output_type": "stream",
       "stream": "stdout",
       "text": [
        "\n",
        "D:\\Data\\GPCP_tif_clip_clip//gpcp_1dd_v1.2_p1d.20050300.tif"
       ]
      },
      {
       "output_type": "stream",
       "stream": "stdout",
       "text": [
        "\n",
        "D:\\Data\\GPCP_tif_clip_clip//gpcp_1dd_v1.2_p1d.20050301.tif"
       ]
      },
      {
       "output_type": "stream",
       "stream": "stdout",
       "text": [
        "\n",
        "D:\\Data\\GPCP_tif_clip_clip//gpcp_1dd_v1.2_p1d.20050302.tif"
       ]
      },
      {
       "output_type": "stream",
       "stream": "stdout",
       "text": [
        "\n",
        "D:\\Data\\GPCP_tif_clip_clip//gpcp_1dd_v1.2_p1d.20050303.tif"
       ]
      },
      {
       "output_type": "stream",
       "stream": "stdout",
       "text": [
        "\n",
        "D:\\Data\\GPCP_tif_clip_clip//gpcp_1dd_v1.2_p1d.20050304.tif"
       ]
      },
      {
       "output_type": "stream",
       "stream": "stdout",
       "text": [
        "\n",
        "D:\\Data\\GPCP_tif_clip_clip//gpcp_1dd_v1.2_p1d.20050305.tif"
       ]
      },
      {
       "output_type": "stream",
       "stream": "stdout",
       "text": [
        "\n",
        "D:\\Data\\GPCP_tif_clip_clip//gpcp_1dd_v1.2_p1d.20050306.tif"
       ]
      },
      {
       "output_type": "stream",
       "stream": "stdout",
       "text": [
        "\n",
        "D:\\Data\\GPCP_tif_clip_clip//gpcp_1dd_v1.2_p1d.20050307.tif"
       ]
      },
      {
       "output_type": "stream",
       "stream": "stdout",
       "text": [
        "\n",
        "D:\\Data\\GPCP_tif_clip_clip//gpcp_1dd_v1.2_p1d.20050308.tif"
       ]
      },
      {
       "output_type": "stream",
       "stream": "stdout",
       "text": [
        "\n",
        "D:\\Data\\GPCP_tif_clip_clip//gpcp_1dd_v1.2_p1d.20050309.tif"
       ]
      },
      {
       "output_type": "stream",
       "stream": "stdout",
       "text": [
        "\n",
        "D:\\Data\\GPCP_tif_clip_clip//gpcp_1dd_v1.2_p1d.20050310.tif"
       ]
      },
      {
       "output_type": "stream",
       "stream": "stdout",
       "text": [
        "\n",
        "D:\\Data\\GPCP_tif_clip_clip//gpcp_1dd_v1.2_p1d.20050311.tif"
       ]
      },
      {
       "output_type": "stream",
       "stream": "stdout",
       "text": [
        "\n",
        "D:\\Data\\GPCP_tif_clip_clip//gpcp_1dd_v1.2_p1d.20050312.tif"
       ]
      },
      {
       "output_type": "stream",
       "stream": "stdout",
       "text": [
        "\n",
        "D:\\Data\\GPCP_tif_clip_clip//gpcp_1dd_v1.2_p1d.20050313.tif"
       ]
      },
      {
       "output_type": "stream",
       "stream": "stdout",
       "text": [
        "\n",
        "D:\\Data\\GPCP_tif_clip_clip//gpcp_1dd_v1.2_p1d.20050314.tif"
       ]
      },
      {
       "output_type": "stream",
       "stream": "stdout",
       "text": [
        "\n",
        "D:\\Data\\GPCP_tif_clip_clip//gpcp_1dd_v1.2_p1d.20050315.tif"
       ]
      },
      {
       "output_type": "stream",
       "stream": "stdout",
       "text": [
        "\n",
        "D:\\Data\\GPCP_tif_clip_clip//gpcp_1dd_v1.2_p1d.20050316.tif"
       ]
      },
      {
       "output_type": "stream",
       "stream": "stdout",
       "text": [
        "\n",
        "D:\\Data\\GPCP_tif_clip_clip//gpcp_1dd_v1.2_p1d.20050317.tif"
       ]
      },
      {
       "output_type": "stream",
       "stream": "stdout",
       "text": [
        "\n",
        "D:\\Data\\GPCP_tif_clip_clip//gpcp_1dd_v1.2_p1d.20050318.tif"
       ]
      },
      {
       "output_type": "stream",
       "stream": "stdout",
       "text": [
        "\n",
        "D:\\Data\\GPCP_tif_clip_clip//gpcp_1dd_v1.2_p1d.20050319.tif"
       ]
      },
      {
       "output_type": "stream",
       "stream": "stdout",
       "text": [
        "\n",
        "D:\\Data\\GPCP_tif_clip_clip//gpcp_1dd_v1.2_p1d.20050320.tif"
       ]
      },
      {
       "output_type": "stream",
       "stream": "stdout",
       "text": [
        "\n",
        "D:\\Data\\GPCP_tif_clip_clip//gpcp_1dd_v1.2_p1d.20050321.tif"
       ]
      },
      {
       "output_type": "stream",
       "stream": "stdout",
       "text": [
        "\n",
        "D:\\Data\\GPCP_tif_clip_clip//gpcp_1dd_v1.2_p1d.20050322.tif"
       ]
      },
      {
       "output_type": "stream",
       "stream": "stdout",
       "text": [
        "\n",
        "D:\\Data\\GPCP_tif_clip_clip//gpcp_1dd_v1.2_p1d.20050323.tif"
       ]
      },
      {
       "output_type": "stream",
       "stream": "stdout",
       "text": [
        "\n",
        "D:\\Data\\GPCP_tif_clip_clip//gpcp_1dd_v1.2_p1d.20050324.tif"
       ]
      },
      {
       "output_type": "stream",
       "stream": "stdout",
       "text": [
        "\n",
        "D:\\Data\\GPCP_tif_clip_clip//gpcp_1dd_v1.2_p1d.20050325.tif"
       ]
      },
      {
       "output_type": "stream",
       "stream": "stdout",
       "text": [
        "\n",
        "D:\\Data\\GPCP_tif_clip_clip//gpcp_1dd_v1.2_p1d.20050326.tif"
       ]
      },
      {
       "output_type": "stream",
       "stream": "stdout",
       "text": [
        "\n",
        "D:\\Data\\GPCP_tif_clip_clip//gpcp_1dd_v1.2_p1d.20050327.tif"
       ]
      },
      {
       "output_type": "stream",
       "stream": "stdout",
       "text": [
        "\n",
        "D:\\Data\\GPCP_tif_clip_clip//gpcp_1dd_v1.2_p1d.20050328.tif"
       ]
      },
      {
       "output_type": "stream",
       "stream": "stdout",
       "text": [
        "\n",
        "D:\\Data\\GPCP_tif_clip_clip//gpcp_1dd_v1.2_p1d.20050329.tif"
       ]
      },
      {
       "output_type": "stream",
       "stream": "stdout",
       "text": [
        "\n",
        "D:\\Data\\GPCP_tif_clip_clip//gpcp_1dd_v1.2_p1d.20050330.tif"
       ]
      },
      {
       "output_type": "stream",
       "stream": "stdout",
       "text": [
        "\n",
        "D:\\Data\\GPCP_tif_clip_clip//gpcp_1dd_v1.2_p1d.20050400.tif"
       ]
      },
      {
       "output_type": "stream",
       "stream": "stdout",
       "text": [
        "\n",
        "D:\\Data\\GPCP_tif_clip_clip//gpcp_1dd_v1.2_p1d.20050401.tif"
       ]
      },
      {
       "output_type": "stream",
       "stream": "stdout",
       "text": [
        "\n",
        "D:\\Data\\GPCP_tif_clip_clip//gpcp_1dd_v1.2_p1d.20050402.tif"
       ]
      },
      {
       "output_type": "stream",
       "stream": "stdout",
       "text": [
        "\n",
        "D:\\Data\\GPCP_tif_clip_clip//gpcp_1dd_v1.2_p1d.20050403.tif"
       ]
      },
      {
       "output_type": "stream",
       "stream": "stdout",
       "text": [
        "\n",
        "D:\\Data\\GPCP_tif_clip_clip//gpcp_1dd_v1.2_p1d.20050404.tif"
       ]
      },
      {
       "output_type": "stream",
       "stream": "stdout",
       "text": [
        "\n",
        "D:\\Data\\GPCP_tif_clip_clip//gpcp_1dd_v1.2_p1d.20050405.tif"
       ]
      },
      {
       "output_type": "stream",
       "stream": "stdout",
       "text": [
        "\n",
        "D:\\Data\\GPCP_tif_clip_clip//gpcp_1dd_v1.2_p1d.20050406.tif"
       ]
      },
      {
       "output_type": "stream",
       "stream": "stdout",
       "text": [
        "\n",
        "D:\\Data\\GPCP_tif_clip_clip//gpcp_1dd_v1.2_p1d.20050407.tif"
       ]
      },
      {
       "output_type": "stream",
       "stream": "stdout",
       "text": [
        "\n",
        "D:\\Data\\GPCP_tif_clip_clip//gpcp_1dd_v1.2_p1d.20050408.tif"
       ]
      },
      {
       "output_type": "stream",
       "stream": "stdout",
       "text": [
        "\n",
        "D:\\Data\\GPCP_tif_clip_clip//gpcp_1dd_v1.2_p1d.20050409.tif"
       ]
      },
      {
       "output_type": "stream",
       "stream": "stdout",
       "text": [
        "\n",
        "D:\\Data\\GPCP_tif_clip_clip//gpcp_1dd_v1.2_p1d.20050410.tif"
       ]
      },
      {
       "output_type": "stream",
       "stream": "stdout",
       "text": [
        "\n",
        "D:\\Data\\GPCP_tif_clip_clip//gpcp_1dd_v1.2_p1d.20050411.tif"
       ]
      },
      {
       "output_type": "stream",
       "stream": "stdout",
       "text": [
        "\n",
        "D:\\Data\\GPCP_tif_clip_clip//gpcp_1dd_v1.2_p1d.20050412.tif"
       ]
      },
      {
       "output_type": "stream",
       "stream": "stdout",
       "text": [
        "\n",
        "D:\\Data\\GPCP_tif_clip_clip//gpcp_1dd_v1.2_p1d.20050413.tif"
       ]
      },
      {
       "output_type": "stream",
       "stream": "stdout",
       "text": [
        "\n",
        "D:\\Data\\GPCP_tif_clip_clip//gpcp_1dd_v1.2_p1d.20050414.tif"
       ]
      },
      {
       "output_type": "stream",
       "stream": "stdout",
       "text": [
        "\n",
        "D:\\Data\\GPCP_tif_clip_clip//gpcp_1dd_v1.2_p1d.20050415.tif"
       ]
      },
      {
       "output_type": "stream",
       "stream": "stdout",
       "text": [
        "\n",
        "D:\\Data\\GPCP_tif_clip_clip//gpcp_1dd_v1.2_p1d.20050416.tif"
       ]
      },
      {
       "output_type": "stream",
       "stream": "stdout",
       "text": [
        "\n",
        "D:\\Data\\GPCP_tif_clip_clip//gpcp_1dd_v1.2_p1d.20050417.tif"
       ]
      },
      {
       "output_type": "stream",
       "stream": "stdout",
       "text": [
        "\n",
        "D:\\Data\\GPCP_tif_clip_clip//gpcp_1dd_v1.2_p1d.20050418.tif"
       ]
      },
      {
       "output_type": "stream",
       "stream": "stdout",
       "text": [
        "\n",
        "D:\\Data\\GPCP_tif_clip_clip//gpcp_1dd_v1.2_p1d.20050419.tif"
       ]
      },
      {
       "output_type": "stream",
       "stream": "stdout",
       "text": [
        "\n",
        "D:\\Data\\GPCP_tif_clip_clip//gpcp_1dd_v1.2_p1d.20050420.tif"
       ]
      },
      {
       "output_type": "stream",
       "stream": "stdout",
       "text": [
        "\n",
        "D:\\Data\\GPCP_tif_clip_clip//gpcp_1dd_v1.2_p1d.20050421.tif"
       ]
      },
      {
       "output_type": "stream",
       "stream": "stdout",
       "text": [
        "\n",
        "D:\\Data\\GPCP_tif_clip_clip//gpcp_1dd_v1.2_p1d.20050422.tif"
       ]
      },
      {
       "output_type": "stream",
       "stream": "stdout",
       "text": [
        "\n",
        "D:\\Data\\GPCP_tif_clip_clip//gpcp_1dd_v1.2_p1d.20050423.tif"
       ]
      },
      {
       "output_type": "stream",
       "stream": "stdout",
       "text": [
        "\n",
        "D:\\Data\\GPCP_tif_clip_clip//gpcp_1dd_v1.2_p1d.20050424.tif"
       ]
      },
      {
       "output_type": "stream",
       "stream": "stdout",
       "text": [
        "\n",
        "D:\\Data\\GPCP_tif_clip_clip//gpcp_1dd_v1.2_p1d.20050425.tif"
       ]
      },
      {
       "output_type": "stream",
       "stream": "stdout",
       "text": [
        "\n",
        "D:\\Data\\GPCP_tif_clip_clip//gpcp_1dd_v1.2_p1d.20050426.tif"
       ]
      },
      {
       "output_type": "stream",
       "stream": "stdout",
       "text": [
        "\n",
        "D:\\Data\\GPCP_tif_clip_clip//gpcp_1dd_v1.2_p1d.20050427.tif"
       ]
      },
      {
       "output_type": "stream",
       "stream": "stdout",
       "text": [
        "\n",
        "D:\\Data\\GPCP_tif_clip_clip//gpcp_1dd_v1.2_p1d.20050428.tif"
       ]
      },
      {
       "output_type": "stream",
       "stream": "stdout",
       "text": [
        "\n",
        "D:\\Data\\GPCP_tif_clip_clip//gpcp_1dd_v1.2_p1d.20050429.tif"
       ]
      },
      {
       "output_type": "stream",
       "stream": "stdout",
       "text": [
        "\n",
        "D:\\Data\\GPCP_tif_clip_clip//gpcp_1dd_v1.2_p1d.20050500.tif"
       ]
      },
      {
       "output_type": "stream",
       "stream": "stdout",
       "text": [
        "\n",
        "D:\\Data\\GPCP_tif_clip_clip//gpcp_1dd_v1.2_p1d.20050501.tif"
       ]
      },
      {
       "output_type": "stream",
       "stream": "stdout",
       "text": [
        "\n",
        "D:\\Data\\GPCP_tif_clip_clip//gpcp_1dd_v1.2_p1d.20050502.tif"
       ]
      },
      {
       "output_type": "stream",
       "stream": "stdout",
       "text": [
        "\n",
        "D:\\Data\\GPCP_tif_clip_clip//gpcp_1dd_v1.2_p1d.20050503.tif"
       ]
      },
      {
       "output_type": "stream",
       "stream": "stdout",
       "text": [
        "\n",
        "D:\\Data\\GPCP_tif_clip_clip//gpcp_1dd_v1.2_p1d.20050504.tif"
       ]
      },
      {
       "output_type": "stream",
       "stream": "stdout",
       "text": [
        "\n",
        "D:\\Data\\GPCP_tif_clip_clip//gpcp_1dd_v1.2_p1d.20050505.tif"
       ]
      },
      {
       "output_type": "stream",
       "stream": "stdout",
       "text": [
        "\n",
        "D:\\Data\\GPCP_tif_clip_clip//gpcp_1dd_v1.2_p1d.20050506.tif"
       ]
      },
      {
       "output_type": "stream",
       "stream": "stdout",
       "text": [
        "\n",
        "D:\\Data\\GPCP_tif_clip_clip//gpcp_1dd_v1.2_p1d.20050507.tif"
       ]
      },
      {
       "output_type": "stream",
       "stream": "stdout",
       "text": [
        "\n",
        "D:\\Data\\GPCP_tif_clip_clip//gpcp_1dd_v1.2_p1d.20050508.tif"
       ]
      },
      {
       "output_type": "stream",
       "stream": "stdout",
       "text": [
        "\n",
        "D:\\Data\\GPCP_tif_clip_clip//gpcp_1dd_v1.2_p1d.20050509.tif"
       ]
      },
      {
       "output_type": "stream",
       "stream": "stdout",
       "text": [
        "\n",
        "D:\\Data\\GPCP_tif_clip_clip//gpcp_1dd_v1.2_p1d.20050510.tif"
       ]
      },
      {
       "output_type": "stream",
       "stream": "stdout",
       "text": [
        "\n",
        "D:\\Data\\GPCP_tif_clip_clip//gpcp_1dd_v1.2_p1d.20050511.tif"
       ]
      },
      {
       "output_type": "stream",
       "stream": "stdout",
       "text": [
        "\n",
        "D:\\Data\\GPCP_tif_clip_clip//gpcp_1dd_v1.2_p1d.20050512.tif"
       ]
      },
      {
       "output_type": "stream",
       "stream": "stdout",
       "text": [
        "\n",
        "D:\\Data\\GPCP_tif_clip_clip//gpcp_1dd_v1.2_p1d.20050513.tif"
       ]
      },
      {
       "output_type": "stream",
       "stream": "stdout",
       "text": [
        "\n",
        "D:\\Data\\GPCP_tif_clip_clip//gpcp_1dd_v1.2_p1d.20050514.tif"
       ]
      },
      {
       "output_type": "stream",
       "stream": "stdout",
       "text": [
        "\n",
        "D:\\Data\\GPCP_tif_clip_clip//gpcp_1dd_v1.2_p1d.20050515.tif"
       ]
      },
      {
       "output_type": "stream",
       "stream": "stdout",
       "text": [
        "\n",
        "D:\\Data\\GPCP_tif_clip_clip//gpcp_1dd_v1.2_p1d.20050516.tif"
       ]
      },
      {
       "output_type": "stream",
       "stream": "stdout",
       "text": [
        "\n",
        "D:\\Data\\GPCP_tif_clip_clip//gpcp_1dd_v1.2_p1d.20050517.tif"
       ]
      },
      {
       "output_type": "stream",
       "stream": "stdout",
       "text": [
        "\n",
        "D:\\Data\\GPCP_tif_clip_clip//gpcp_1dd_v1.2_p1d.20050518.tif"
       ]
      },
      {
       "output_type": "stream",
       "stream": "stdout",
       "text": [
        "\n",
        "D:\\Data\\GPCP_tif_clip_clip//gpcp_1dd_v1.2_p1d.20050519.tif"
       ]
      },
      {
       "output_type": "stream",
       "stream": "stdout",
       "text": [
        "\n",
        "D:\\Data\\GPCP_tif_clip_clip//gpcp_1dd_v1.2_p1d.20050520.tif"
       ]
      },
      {
       "output_type": "stream",
       "stream": "stdout",
       "text": [
        "\n",
        "D:\\Data\\GPCP_tif_clip_clip//gpcp_1dd_v1.2_p1d.20050521.tif"
       ]
      },
      {
       "output_type": "stream",
       "stream": "stdout",
       "text": [
        "\n",
        "D:\\Data\\GPCP_tif_clip_clip//gpcp_1dd_v1.2_p1d.20050522.tif"
       ]
      },
      {
       "output_type": "stream",
       "stream": "stdout",
       "text": [
        "\n",
        "D:\\Data\\GPCP_tif_clip_clip//gpcp_1dd_v1.2_p1d.20050523.tif"
       ]
      },
      {
       "output_type": "stream",
       "stream": "stdout",
       "text": [
        "\n",
        "D:\\Data\\GPCP_tif_clip_clip//gpcp_1dd_v1.2_p1d.20050524.tif"
       ]
      },
      {
       "output_type": "stream",
       "stream": "stdout",
       "text": [
        "\n",
        "D:\\Data\\GPCP_tif_clip_clip//gpcp_1dd_v1.2_p1d.20050525.tif"
       ]
      },
      {
       "output_type": "stream",
       "stream": "stdout",
       "text": [
        "\n",
        "D:\\Data\\GPCP_tif_clip_clip//gpcp_1dd_v1.2_p1d.20050526.tif"
       ]
      },
      {
       "output_type": "stream",
       "stream": "stdout",
       "text": [
        "\n",
        "D:\\Data\\GPCP_tif_clip_clip//gpcp_1dd_v1.2_p1d.20050527.tif"
       ]
      },
      {
       "output_type": "stream",
       "stream": "stdout",
       "text": [
        "\n",
        "D:\\Data\\GPCP_tif_clip_clip//gpcp_1dd_v1.2_p1d.20050528.tif"
       ]
      },
      {
       "output_type": "stream",
       "stream": "stdout",
       "text": [
        "\n",
        "D:\\Data\\GPCP_tif_clip_clip//gpcp_1dd_v1.2_p1d.20050529.tif"
       ]
      },
      {
       "output_type": "stream",
       "stream": "stdout",
       "text": [
        "\n",
        "D:\\Data\\GPCP_tif_clip_clip//gpcp_1dd_v1.2_p1d.20050530.tif"
       ]
      },
      {
       "output_type": "stream",
       "stream": "stdout",
       "text": [
        "\n",
        "D:\\Data\\GPCP_tif_clip_clip//gpcp_1dd_v1.2_p1d.20050600.tif"
       ]
      },
      {
       "output_type": "stream",
       "stream": "stdout",
       "text": [
        "\n",
        "D:\\Data\\GPCP_tif_clip_clip//gpcp_1dd_v1.2_p1d.20050601.tif"
       ]
      },
      {
       "output_type": "stream",
       "stream": "stdout",
       "text": [
        "\n",
        "D:\\Data\\GPCP_tif_clip_clip//gpcp_1dd_v1.2_p1d.20050602.tif"
       ]
      },
      {
       "output_type": "stream",
       "stream": "stdout",
       "text": [
        "\n",
        "D:\\Data\\GPCP_tif_clip_clip//gpcp_1dd_v1.2_p1d.20050603.tif"
       ]
      },
      {
       "output_type": "stream",
       "stream": "stdout",
       "text": [
        "\n",
        "D:\\Data\\GPCP_tif_clip_clip//gpcp_1dd_v1.2_p1d.20050604.tif"
       ]
      },
      {
       "output_type": "stream",
       "stream": "stdout",
       "text": [
        "\n",
        "D:\\Data\\GPCP_tif_clip_clip//gpcp_1dd_v1.2_p1d.20050605.tif"
       ]
      },
      {
       "output_type": "stream",
       "stream": "stdout",
       "text": [
        "\n",
        "D:\\Data\\GPCP_tif_clip_clip//gpcp_1dd_v1.2_p1d.20050606.tif"
       ]
      },
      {
       "output_type": "stream",
       "stream": "stdout",
       "text": [
        "\n",
        "D:\\Data\\GPCP_tif_clip_clip//gpcp_1dd_v1.2_p1d.20050607.tif"
       ]
      },
      {
       "output_type": "stream",
       "stream": "stdout",
       "text": [
        "\n",
        "D:\\Data\\GPCP_tif_clip_clip//gpcp_1dd_v1.2_p1d.20050608.tif"
       ]
      },
      {
       "output_type": "stream",
       "stream": "stdout",
       "text": [
        "\n",
        "D:\\Data\\GPCP_tif_clip_clip//gpcp_1dd_v1.2_p1d.20050609.tif"
       ]
      },
      {
       "output_type": "stream",
       "stream": "stdout",
       "text": [
        "\n",
        "D:\\Data\\GPCP_tif_clip_clip//gpcp_1dd_v1.2_p1d.20050610.tif"
       ]
      },
      {
       "output_type": "stream",
       "stream": "stdout",
       "text": [
        "\n",
        "D:\\Data\\GPCP_tif_clip_clip//gpcp_1dd_v1.2_p1d.20050611.tif"
       ]
      },
      {
       "output_type": "stream",
       "stream": "stdout",
       "text": [
        "\n",
        "D:\\Data\\GPCP_tif_clip_clip//gpcp_1dd_v1.2_p1d.20050612.tif"
       ]
      },
      {
       "output_type": "stream",
       "stream": "stdout",
       "text": [
        "\n",
        "D:\\Data\\GPCP_tif_clip_clip//gpcp_1dd_v1.2_p1d.20050613.tif"
       ]
      },
      {
       "output_type": "stream",
       "stream": "stdout",
       "text": [
        "\n",
        "D:\\Data\\GPCP_tif_clip_clip//gpcp_1dd_v1.2_p1d.20050614.tif"
       ]
      },
      {
       "output_type": "stream",
       "stream": "stdout",
       "text": [
        "\n",
        "D:\\Data\\GPCP_tif_clip_clip//gpcp_1dd_v1.2_p1d.20050615.tif"
       ]
      },
      {
       "output_type": "stream",
       "stream": "stdout",
       "text": [
        "\n",
        "D:\\Data\\GPCP_tif_clip_clip//gpcp_1dd_v1.2_p1d.20050616.tif"
       ]
      },
      {
       "output_type": "stream",
       "stream": "stdout",
       "text": [
        "\n",
        "D:\\Data\\GPCP_tif_clip_clip//gpcp_1dd_v1.2_p1d.20050617.tif"
       ]
      },
      {
       "output_type": "stream",
       "stream": "stdout",
       "text": [
        "\n",
        "D:\\Data\\GPCP_tif_clip_clip//gpcp_1dd_v1.2_p1d.20050618.tif"
       ]
      },
      {
       "output_type": "stream",
       "stream": "stdout",
       "text": [
        "\n",
        "D:\\Data\\GPCP_tif_clip_clip//gpcp_1dd_v1.2_p1d.20050619.tif"
       ]
      },
      {
       "output_type": "stream",
       "stream": "stdout",
       "text": [
        "\n",
        "D:\\Data\\GPCP_tif_clip_clip//gpcp_1dd_v1.2_p1d.20050620.tif"
       ]
      },
      {
       "output_type": "stream",
       "stream": "stdout",
       "text": [
        "\n",
        "D:\\Data\\GPCP_tif_clip_clip//gpcp_1dd_v1.2_p1d.20050621.tif"
       ]
      },
      {
       "output_type": "stream",
       "stream": "stdout",
       "text": [
        "\n",
        "D:\\Data\\GPCP_tif_clip_clip//gpcp_1dd_v1.2_p1d.20050622.tif"
       ]
      },
      {
       "output_type": "stream",
       "stream": "stdout",
       "text": [
        "\n",
        "D:\\Data\\GPCP_tif_clip_clip//gpcp_1dd_v1.2_p1d.20050623.tif"
       ]
      },
      {
       "output_type": "stream",
       "stream": "stdout",
       "text": [
        "\n",
        "D:\\Data\\GPCP_tif_clip_clip//gpcp_1dd_v1.2_p1d.20050624.tif"
       ]
      },
      {
       "output_type": "stream",
       "stream": "stdout",
       "text": [
        "\n",
        "D:\\Data\\GPCP_tif_clip_clip//gpcp_1dd_v1.2_p1d.20050625.tif"
       ]
      },
      {
       "output_type": "stream",
       "stream": "stdout",
       "text": [
        "\n",
        "D:\\Data\\GPCP_tif_clip_clip//gpcp_1dd_v1.2_p1d.20050626.tif"
       ]
      },
      {
       "output_type": "stream",
       "stream": "stdout",
       "text": [
        "\n",
        "D:\\Data\\GPCP_tif_clip_clip//gpcp_1dd_v1.2_p1d.20050627.tif"
       ]
      },
      {
       "output_type": "stream",
       "stream": "stdout",
       "text": [
        "\n",
        "D:\\Data\\GPCP_tif_clip_clip//gpcp_1dd_v1.2_p1d.20050628.tif"
       ]
      },
      {
       "output_type": "stream",
       "stream": "stdout",
       "text": [
        "\n",
        "D:\\Data\\GPCP_tif_clip_clip//gpcp_1dd_v1.2_p1d.20050629.tif"
       ]
      },
      {
       "output_type": "stream",
       "stream": "stdout",
       "text": [
        "\n",
        "D:\\Data\\GPCP_tif_clip_clip//gpcp_1dd_v1.2_p1d.20050700.tif"
       ]
      },
      {
       "output_type": "stream",
       "stream": "stdout",
       "text": [
        "\n",
        "D:\\Data\\GPCP_tif_clip_clip//gpcp_1dd_v1.2_p1d.20050701.tif"
       ]
      },
      {
       "output_type": "stream",
       "stream": "stdout",
       "text": [
        "\n",
        "D:\\Data\\GPCP_tif_clip_clip//gpcp_1dd_v1.2_p1d.20050702.tif"
       ]
      },
      {
       "output_type": "stream",
       "stream": "stdout",
       "text": [
        "\n",
        "D:\\Data\\GPCP_tif_clip_clip//gpcp_1dd_v1.2_p1d.20050703.tif"
       ]
      },
      {
       "output_type": "stream",
       "stream": "stdout",
       "text": [
        "\n",
        "D:\\Data\\GPCP_tif_clip_clip//gpcp_1dd_v1.2_p1d.20050704.tif"
       ]
      },
      {
       "output_type": "stream",
       "stream": "stdout",
       "text": [
        "\n",
        "D:\\Data\\GPCP_tif_clip_clip//gpcp_1dd_v1.2_p1d.20050705.tif"
       ]
      },
      {
       "output_type": "stream",
       "stream": "stdout",
       "text": [
        "\n",
        "D:\\Data\\GPCP_tif_clip_clip//gpcp_1dd_v1.2_p1d.20050706.tif"
       ]
      },
      {
       "output_type": "stream",
       "stream": "stdout",
       "text": [
        "\n",
        "D:\\Data\\GPCP_tif_clip_clip//gpcp_1dd_v1.2_p1d.20050707.tif"
       ]
      },
      {
       "output_type": "stream",
       "stream": "stdout",
       "text": [
        "\n",
        "D:\\Data\\GPCP_tif_clip_clip//gpcp_1dd_v1.2_p1d.20050708.tif"
       ]
      },
      {
       "output_type": "stream",
       "stream": "stdout",
       "text": [
        "\n",
        "D:\\Data\\GPCP_tif_clip_clip//gpcp_1dd_v1.2_p1d.20050709.tif"
       ]
      },
      {
       "output_type": "stream",
       "stream": "stdout",
       "text": [
        "\n",
        "D:\\Data\\GPCP_tif_clip_clip//gpcp_1dd_v1.2_p1d.20050710.tif"
       ]
      },
      {
       "output_type": "stream",
       "stream": "stdout",
       "text": [
        "\n",
        "D:\\Data\\GPCP_tif_clip_clip//gpcp_1dd_v1.2_p1d.20050711.tif"
       ]
      },
      {
       "output_type": "stream",
       "stream": "stdout",
       "text": [
        "\n",
        "D:\\Data\\GPCP_tif_clip_clip//gpcp_1dd_v1.2_p1d.20050712.tif"
       ]
      },
      {
       "output_type": "stream",
       "stream": "stdout",
       "text": [
        "\n",
        "D:\\Data\\GPCP_tif_clip_clip//gpcp_1dd_v1.2_p1d.20050713.tif"
       ]
      },
      {
       "output_type": "stream",
       "stream": "stdout",
       "text": [
        "\n",
        "D:\\Data\\GPCP_tif_clip_clip//gpcp_1dd_v1.2_p1d.20050714.tif"
       ]
      },
      {
       "output_type": "stream",
       "stream": "stdout",
       "text": [
        "\n",
        "D:\\Data\\GPCP_tif_clip_clip//gpcp_1dd_v1.2_p1d.20050715.tif"
       ]
      },
      {
       "output_type": "stream",
       "stream": "stdout",
       "text": [
        "\n",
        "D:\\Data\\GPCP_tif_clip_clip//gpcp_1dd_v1.2_p1d.20050716.tif"
       ]
      },
      {
       "output_type": "stream",
       "stream": "stdout",
       "text": [
        "\n",
        "D:\\Data\\GPCP_tif_clip_clip//gpcp_1dd_v1.2_p1d.20050717.tif"
       ]
      },
      {
       "output_type": "stream",
       "stream": "stdout",
       "text": [
        "\n",
        "D:\\Data\\GPCP_tif_clip_clip//gpcp_1dd_v1.2_p1d.20050718.tif"
       ]
      },
      {
       "output_type": "stream",
       "stream": "stdout",
       "text": [
        "\n",
        "D:\\Data\\GPCP_tif_clip_clip//gpcp_1dd_v1.2_p1d.20050719.tif"
       ]
      },
      {
       "output_type": "stream",
       "stream": "stdout",
       "text": [
        "\n",
        "D:\\Data\\GPCP_tif_clip_clip//gpcp_1dd_v1.2_p1d.20050720.tif"
       ]
      },
      {
       "output_type": "stream",
       "stream": "stdout",
       "text": [
        "\n",
        "D:\\Data\\GPCP_tif_clip_clip//gpcp_1dd_v1.2_p1d.20050721.tif"
       ]
      },
      {
       "output_type": "stream",
       "stream": "stdout",
       "text": [
        "\n",
        "D:\\Data\\GPCP_tif_clip_clip//gpcp_1dd_v1.2_p1d.20050722.tif"
       ]
      },
      {
       "output_type": "stream",
       "stream": "stdout",
       "text": [
        "\n",
        "D:\\Data\\GPCP_tif_clip_clip//gpcp_1dd_v1.2_p1d.20050723.tif"
       ]
      },
      {
       "output_type": "stream",
       "stream": "stdout",
       "text": [
        "\n",
        "D:\\Data\\GPCP_tif_clip_clip//gpcp_1dd_v1.2_p1d.20050724.tif"
       ]
      },
      {
       "output_type": "stream",
       "stream": "stdout",
       "text": [
        "\n",
        "D:\\Data\\GPCP_tif_clip_clip//gpcp_1dd_v1.2_p1d.20050725.tif"
       ]
      },
      {
       "output_type": "stream",
       "stream": "stdout",
       "text": [
        "\n",
        "D:\\Data\\GPCP_tif_clip_clip//gpcp_1dd_v1.2_p1d.20050726.tif"
       ]
      },
      {
       "output_type": "stream",
       "stream": "stdout",
       "text": [
        "\n",
        "D:\\Data\\GPCP_tif_clip_clip//gpcp_1dd_v1.2_p1d.20050727.tif"
       ]
      },
      {
       "output_type": "stream",
       "stream": "stdout",
       "text": [
        "\n",
        "D:\\Data\\GPCP_tif_clip_clip//gpcp_1dd_v1.2_p1d.20050728.tif"
       ]
      },
      {
       "output_type": "stream",
       "stream": "stdout",
       "text": [
        "\n",
        "D:\\Data\\GPCP_tif_clip_clip//gpcp_1dd_v1.2_p1d.20050729.tif"
       ]
      },
      {
       "output_type": "stream",
       "stream": "stdout",
       "text": [
        "\n",
        "D:\\Data\\GPCP_tif_clip_clip//gpcp_1dd_v1.2_p1d.20050730.tif"
       ]
      },
      {
       "output_type": "stream",
       "stream": "stdout",
       "text": [
        "\n",
        "D:\\Data\\GPCP_tif_clip_clip//gpcp_1dd_v1.2_p1d.20050800.tif"
       ]
      },
      {
       "output_type": "stream",
       "stream": "stdout",
       "text": [
        "\n",
        "D:\\Data\\GPCP_tif_clip_clip//gpcp_1dd_v1.2_p1d.20050801.tif"
       ]
      },
      {
       "output_type": "stream",
       "stream": "stdout",
       "text": [
        "\n",
        "D:\\Data\\GPCP_tif_clip_clip//gpcp_1dd_v1.2_p1d.20050802.tif"
       ]
      },
      {
       "output_type": "stream",
       "stream": "stdout",
       "text": [
        "\n",
        "D:\\Data\\GPCP_tif_clip_clip//gpcp_1dd_v1.2_p1d.20050803.tif"
       ]
      },
      {
       "output_type": "stream",
       "stream": "stdout",
       "text": [
        "\n",
        "D:\\Data\\GPCP_tif_clip_clip//gpcp_1dd_v1.2_p1d.20050804.tif"
       ]
      },
      {
       "output_type": "stream",
       "stream": "stdout",
       "text": [
        "\n",
        "D:\\Data\\GPCP_tif_clip_clip//gpcp_1dd_v1.2_p1d.20050805.tif"
       ]
      },
      {
       "output_type": "stream",
       "stream": "stdout",
       "text": [
        "\n",
        "D:\\Data\\GPCP_tif_clip_clip//gpcp_1dd_v1.2_p1d.20050806.tif"
       ]
      },
      {
       "output_type": "stream",
       "stream": "stdout",
       "text": [
        "\n",
        "D:\\Data\\GPCP_tif_clip_clip//gpcp_1dd_v1.2_p1d.20050807.tif"
       ]
      },
      {
       "output_type": "stream",
       "stream": "stdout",
       "text": [
        "\n",
        "D:\\Data\\GPCP_tif_clip_clip//gpcp_1dd_v1.2_p1d.20050808.tif"
       ]
      },
      {
       "output_type": "stream",
       "stream": "stdout",
       "text": [
        "\n",
        "D:\\Data\\GPCP_tif_clip_clip//gpcp_1dd_v1.2_p1d.20050809.tif"
       ]
      },
      {
       "output_type": "stream",
       "stream": "stdout",
       "text": [
        "\n",
        "D:\\Data\\GPCP_tif_clip_clip//gpcp_1dd_v1.2_p1d.20050810.tif"
       ]
      },
      {
       "output_type": "stream",
       "stream": "stdout",
       "text": [
        "\n",
        "D:\\Data\\GPCP_tif_clip_clip//gpcp_1dd_v1.2_p1d.20050811.tif"
       ]
      },
      {
       "output_type": "stream",
       "stream": "stdout",
       "text": [
        "\n",
        "D:\\Data\\GPCP_tif_clip_clip//gpcp_1dd_v1.2_p1d.20050812.tif"
       ]
      },
      {
       "output_type": "stream",
       "stream": "stdout",
       "text": [
        "\n",
        "D:\\Data\\GPCP_tif_clip_clip//gpcp_1dd_v1.2_p1d.20050813.tif"
       ]
      },
      {
       "output_type": "stream",
       "stream": "stdout",
       "text": [
        "\n",
        "D:\\Data\\GPCP_tif_clip_clip//gpcp_1dd_v1.2_p1d.20050814.tif"
       ]
      },
      {
       "output_type": "stream",
       "stream": "stdout",
       "text": [
        "\n",
        "D:\\Data\\GPCP_tif_clip_clip//gpcp_1dd_v1.2_p1d.20050815.tif"
       ]
      },
      {
       "output_type": "stream",
       "stream": "stdout",
       "text": [
        "\n",
        "D:\\Data\\GPCP_tif_clip_clip//gpcp_1dd_v1.2_p1d.20050816.tif"
       ]
      },
      {
       "output_type": "stream",
       "stream": "stdout",
       "text": [
        "\n",
        "D:\\Data\\GPCP_tif_clip_clip//gpcp_1dd_v1.2_p1d.20050817.tif"
       ]
      },
      {
       "output_type": "stream",
       "stream": "stdout",
       "text": [
        "\n",
        "D:\\Data\\GPCP_tif_clip_clip//gpcp_1dd_v1.2_p1d.20050818.tif"
       ]
      },
      {
       "output_type": "stream",
       "stream": "stdout",
       "text": [
        "\n",
        "D:\\Data\\GPCP_tif_clip_clip//gpcp_1dd_v1.2_p1d.20050819.tif"
       ]
      },
      {
       "output_type": "stream",
       "stream": "stdout",
       "text": [
        "\n",
        "D:\\Data\\GPCP_tif_clip_clip//gpcp_1dd_v1.2_p1d.20050820.tif"
       ]
      },
      {
       "output_type": "stream",
       "stream": "stdout",
       "text": [
        "\n",
        "D:\\Data\\GPCP_tif_clip_clip//gpcp_1dd_v1.2_p1d.20050821.tif"
       ]
      },
      {
       "output_type": "stream",
       "stream": "stdout",
       "text": [
        "\n",
        "D:\\Data\\GPCP_tif_clip_clip//gpcp_1dd_v1.2_p1d.20050822.tif"
       ]
      },
      {
       "output_type": "stream",
       "stream": "stdout",
       "text": [
        "\n",
        "D:\\Data\\GPCP_tif_clip_clip//gpcp_1dd_v1.2_p1d.20050823.tif"
       ]
      },
      {
       "output_type": "stream",
       "stream": "stdout",
       "text": [
        "\n",
        "D:\\Data\\GPCP_tif_clip_clip//gpcp_1dd_v1.2_p1d.20050824.tif"
       ]
      },
      {
       "output_type": "stream",
       "stream": "stdout",
       "text": [
        "\n",
        "D:\\Data\\GPCP_tif_clip_clip//gpcp_1dd_v1.2_p1d.20050825.tif"
       ]
      },
      {
       "output_type": "stream",
       "stream": "stdout",
       "text": [
        "\n",
        "D:\\Data\\GPCP_tif_clip_clip//gpcp_1dd_v1.2_p1d.20050826.tif"
       ]
      },
      {
       "output_type": "stream",
       "stream": "stdout",
       "text": [
        "\n",
        "D:\\Data\\GPCP_tif_clip_clip//gpcp_1dd_v1.2_p1d.20050827.tif"
       ]
      },
      {
       "output_type": "stream",
       "stream": "stdout",
       "text": [
        "\n",
        "D:\\Data\\GPCP_tif_clip_clip//gpcp_1dd_v1.2_p1d.20050828.tif"
       ]
      },
      {
       "output_type": "stream",
       "stream": "stdout",
       "text": [
        "\n",
        "D:\\Data\\GPCP_tif_clip_clip//gpcp_1dd_v1.2_p1d.20050829.tif"
       ]
      },
      {
       "output_type": "stream",
       "stream": "stdout",
       "text": [
        "\n",
        "D:\\Data\\GPCP_tif_clip_clip//gpcp_1dd_v1.2_p1d.20050830.tif"
       ]
      },
      {
       "output_type": "stream",
       "stream": "stdout",
       "text": [
        "\n",
        "D:\\Data\\GPCP_tif_clip_clip//gpcp_1dd_v1.2_p1d.20050900.tif"
       ]
      },
      {
       "output_type": "stream",
       "stream": "stdout",
       "text": [
        "\n",
        "D:\\Data\\GPCP_tif_clip_clip//gpcp_1dd_v1.2_p1d.20050901.tif"
       ]
      },
      {
       "output_type": "stream",
       "stream": "stdout",
       "text": [
        "\n",
        "D:\\Data\\GPCP_tif_clip_clip//gpcp_1dd_v1.2_p1d.20050902.tif"
       ]
      },
      {
       "output_type": "stream",
       "stream": "stdout",
       "text": [
        "\n",
        "D:\\Data\\GPCP_tif_clip_clip//gpcp_1dd_v1.2_p1d.20050903.tif"
       ]
      },
      {
       "output_type": "stream",
       "stream": "stdout",
       "text": [
        "\n",
        "D:\\Data\\GPCP_tif_clip_clip//gpcp_1dd_v1.2_p1d.20050904.tif"
       ]
      },
      {
       "output_type": "stream",
       "stream": "stdout",
       "text": [
        "\n",
        "D:\\Data\\GPCP_tif_clip_clip//gpcp_1dd_v1.2_p1d.20050905.tif"
       ]
      },
      {
       "output_type": "stream",
       "stream": "stdout",
       "text": [
        "\n",
        "D:\\Data\\GPCP_tif_clip_clip//gpcp_1dd_v1.2_p1d.20050906.tif"
       ]
      },
      {
       "output_type": "stream",
       "stream": "stdout",
       "text": [
        "\n",
        "D:\\Data\\GPCP_tif_clip_clip//gpcp_1dd_v1.2_p1d.20050907.tif"
       ]
      },
      {
       "output_type": "stream",
       "stream": "stdout",
       "text": [
        "\n",
        "D:\\Data\\GPCP_tif_clip_clip//gpcp_1dd_v1.2_p1d.20050908.tif"
       ]
      },
      {
       "output_type": "stream",
       "stream": "stdout",
       "text": [
        "\n",
        "D:\\Data\\GPCP_tif_clip_clip//gpcp_1dd_v1.2_p1d.20050909.tif"
       ]
      },
      {
       "output_type": "stream",
       "stream": "stdout",
       "text": [
        "\n",
        "D:\\Data\\GPCP_tif_clip_clip//gpcp_1dd_v1.2_p1d.20050910.tif"
       ]
      },
      {
       "output_type": "stream",
       "stream": "stdout",
       "text": [
        "\n",
        "D:\\Data\\GPCP_tif_clip_clip//gpcp_1dd_v1.2_p1d.20050911.tif"
       ]
      },
      {
       "output_type": "stream",
       "stream": "stdout",
       "text": [
        "\n",
        "D:\\Data\\GPCP_tif_clip_clip//gpcp_1dd_v1.2_p1d.20050912.tif"
       ]
      },
      {
       "output_type": "stream",
       "stream": "stdout",
       "text": [
        "\n",
        "D:\\Data\\GPCP_tif_clip_clip//gpcp_1dd_v1.2_p1d.20050913.tif"
       ]
      },
      {
       "output_type": "stream",
       "stream": "stdout",
       "text": [
        "\n",
        "D:\\Data\\GPCP_tif_clip_clip//gpcp_1dd_v1.2_p1d.20050914.tif"
       ]
      },
      {
       "output_type": "stream",
       "stream": "stdout",
       "text": [
        "\n",
        "D:\\Data\\GPCP_tif_clip_clip//gpcp_1dd_v1.2_p1d.20050915.tif"
       ]
      },
      {
       "output_type": "stream",
       "stream": "stdout",
       "text": [
        "\n",
        "D:\\Data\\GPCP_tif_clip_clip//gpcp_1dd_v1.2_p1d.20050916.tif"
       ]
      },
      {
       "output_type": "stream",
       "stream": "stdout",
       "text": [
        "\n",
        "D:\\Data\\GPCP_tif_clip_clip//gpcp_1dd_v1.2_p1d.20050917.tif"
       ]
      },
      {
       "output_type": "stream",
       "stream": "stdout",
       "text": [
        "\n",
        "D:\\Data\\GPCP_tif_clip_clip//gpcp_1dd_v1.2_p1d.20050918.tif"
       ]
      },
      {
       "output_type": "stream",
       "stream": "stdout",
       "text": [
        "\n",
        "D:\\Data\\GPCP_tif_clip_clip//gpcp_1dd_v1.2_p1d.20050919.tif"
       ]
      },
      {
       "output_type": "stream",
       "stream": "stdout",
       "text": [
        "\n",
        "D:\\Data\\GPCP_tif_clip_clip//gpcp_1dd_v1.2_p1d.20050920.tif"
       ]
      },
      {
       "output_type": "stream",
       "stream": "stdout",
       "text": [
        "\n",
        "D:\\Data\\GPCP_tif_clip_clip//gpcp_1dd_v1.2_p1d.20050921.tif"
       ]
      },
      {
       "output_type": "stream",
       "stream": "stdout",
       "text": [
        "\n",
        "D:\\Data\\GPCP_tif_clip_clip//gpcp_1dd_v1.2_p1d.20050922.tif"
       ]
      },
      {
       "output_type": "stream",
       "stream": "stdout",
       "text": [
        "\n",
        "D:\\Data\\GPCP_tif_clip_clip//gpcp_1dd_v1.2_p1d.20050923.tif"
       ]
      },
      {
       "output_type": "stream",
       "stream": "stdout",
       "text": [
        "\n",
        "D:\\Data\\GPCP_tif_clip_clip//gpcp_1dd_v1.2_p1d.20050924.tif"
       ]
      },
      {
       "output_type": "stream",
       "stream": "stdout",
       "text": [
        "\n",
        "D:\\Data\\GPCP_tif_clip_clip//gpcp_1dd_v1.2_p1d.20050925.tif"
       ]
      },
      {
       "output_type": "stream",
       "stream": "stdout",
       "text": [
        "\n",
        "D:\\Data\\GPCP_tif_clip_clip//gpcp_1dd_v1.2_p1d.20050926.tif"
       ]
      },
      {
       "output_type": "stream",
       "stream": "stdout",
       "text": [
        "\n",
        "D:\\Data\\GPCP_tif_clip_clip//gpcp_1dd_v1.2_p1d.20050927.tif"
       ]
      },
      {
       "output_type": "stream",
       "stream": "stdout",
       "text": [
        "\n",
        "D:\\Data\\GPCP_tif_clip_clip//gpcp_1dd_v1.2_p1d.20050928.tif"
       ]
      },
      {
       "output_type": "stream",
       "stream": "stdout",
       "text": [
        "\n",
        "D:\\Data\\GPCP_tif_clip_clip//gpcp_1dd_v1.2_p1d.20050929.tif"
       ]
      },
      {
       "output_type": "stream",
       "stream": "stdout",
       "text": [
        "\n",
        "D:\\Data\\GPCP_tif_clip_clip//gpcp_1dd_v1.2_p1d.20051000.tif"
       ]
      },
      {
       "output_type": "stream",
       "stream": "stdout",
       "text": [
        "\n",
        "D:\\Data\\GPCP_tif_clip_clip//gpcp_1dd_v1.2_p1d.20051001.tif"
       ]
      },
      {
       "output_type": "stream",
       "stream": "stdout",
       "text": [
        "\n",
        "D:\\Data\\GPCP_tif_clip_clip//gpcp_1dd_v1.2_p1d.20051002.tif"
       ]
      },
      {
       "output_type": "stream",
       "stream": "stdout",
       "text": [
        "\n",
        "D:\\Data\\GPCP_tif_clip_clip//gpcp_1dd_v1.2_p1d.20051003.tif"
       ]
      },
      {
       "output_type": "stream",
       "stream": "stdout",
       "text": [
        "\n",
        "D:\\Data\\GPCP_tif_clip_clip//gpcp_1dd_v1.2_p1d.20051004.tif"
       ]
      },
      {
       "output_type": "stream",
       "stream": "stdout",
       "text": [
        "\n",
        "D:\\Data\\GPCP_tif_clip_clip//gpcp_1dd_v1.2_p1d.20051005.tif"
       ]
      },
      {
       "output_type": "stream",
       "stream": "stdout",
       "text": [
        "\n",
        "D:\\Data\\GPCP_tif_clip_clip//gpcp_1dd_v1.2_p1d.20051006.tif"
       ]
      },
      {
       "output_type": "stream",
       "stream": "stdout",
       "text": [
        "\n",
        "D:\\Data\\GPCP_tif_clip_clip//gpcp_1dd_v1.2_p1d.20051007.tif"
       ]
      },
      {
       "output_type": "stream",
       "stream": "stdout",
       "text": [
        "\n",
        "D:\\Data\\GPCP_tif_clip_clip//gpcp_1dd_v1.2_p1d.20051008.tif"
       ]
      },
      {
       "output_type": "stream",
       "stream": "stdout",
       "text": [
        "\n",
        "D:\\Data\\GPCP_tif_clip_clip//gpcp_1dd_v1.2_p1d.20051009.tif"
       ]
      },
      {
       "output_type": "stream",
       "stream": "stdout",
       "text": [
        "\n",
        "D:\\Data\\GPCP_tif_clip_clip//gpcp_1dd_v1.2_p1d.20051010.tif"
       ]
      },
      {
       "output_type": "stream",
       "stream": "stdout",
       "text": [
        "\n",
        "D:\\Data\\GPCP_tif_clip_clip//gpcp_1dd_v1.2_p1d.20051011.tif"
       ]
      },
      {
       "output_type": "stream",
       "stream": "stdout",
       "text": [
        "\n",
        "D:\\Data\\GPCP_tif_clip_clip//gpcp_1dd_v1.2_p1d.20051012.tif"
       ]
      },
      {
       "output_type": "stream",
       "stream": "stdout",
       "text": [
        "\n",
        "D:\\Data\\GPCP_tif_clip_clip//gpcp_1dd_v1.2_p1d.20051013.tif"
       ]
      },
      {
       "output_type": "stream",
       "stream": "stdout",
       "text": [
        "\n",
        "D:\\Data\\GPCP_tif_clip_clip//gpcp_1dd_v1.2_p1d.20051014.tif"
       ]
      },
      {
       "output_type": "stream",
       "stream": "stdout",
       "text": [
        "\n",
        "D:\\Data\\GPCP_tif_clip_clip//gpcp_1dd_v1.2_p1d.20051015.tif"
       ]
      },
      {
       "output_type": "stream",
       "stream": "stdout",
       "text": [
        "\n",
        "D:\\Data\\GPCP_tif_clip_clip//gpcp_1dd_v1.2_p1d.20051016.tif"
       ]
      },
      {
       "output_type": "stream",
       "stream": "stdout",
       "text": [
        "\n",
        "D:\\Data\\GPCP_tif_clip_clip//gpcp_1dd_v1.2_p1d.20051017.tif"
       ]
      },
      {
       "output_type": "stream",
       "stream": "stdout",
       "text": [
        "\n",
        "D:\\Data\\GPCP_tif_clip_clip//gpcp_1dd_v1.2_p1d.20051018.tif"
       ]
      },
      {
       "output_type": "stream",
       "stream": "stdout",
       "text": [
        "\n",
        "D:\\Data\\GPCP_tif_clip_clip//gpcp_1dd_v1.2_p1d.20051019.tif"
       ]
      },
      {
       "output_type": "stream",
       "stream": "stdout",
       "text": [
        "\n",
        "D:\\Data\\GPCP_tif_clip_clip//gpcp_1dd_v1.2_p1d.20051020.tif"
       ]
      },
      {
       "output_type": "stream",
       "stream": "stdout",
       "text": [
        "\n",
        "D:\\Data\\GPCP_tif_clip_clip//gpcp_1dd_v1.2_p1d.20051021.tif"
       ]
      },
      {
       "output_type": "stream",
       "stream": "stdout",
       "text": [
        "\n",
        "D:\\Data\\GPCP_tif_clip_clip//gpcp_1dd_v1.2_p1d.20051022.tif"
       ]
      },
      {
       "output_type": "stream",
       "stream": "stdout",
       "text": [
        "\n",
        "D:\\Data\\GPCP_tif_clip_clip//gpcp_1dd_v1.2_p1d.20051023.tif"
       ]
      },
      {
       "output_type": "stream",
       "stream": "stdout",
       "text": [
        "\n",
        "D:\\Data\\GPCP_tif_clip_clip//gpcp_1dd_v1.2_p1d.20051024.tif"
       ]
      },
      {
       "output_type": "stream",
       "stream": "stdout",
       "text": [
        "\n",
        "D:\\Data\\GPCP_tif_clip_clip//gpcp_1dd_v1.2_p1d.20051025.tif"
       ]
      },
      {
       "output_type": "stream",
       "stream": "stdout",
       "text": [
        "\n",
        "D:\\Data\\GPCP_tif_clip_clip//gpcp_1dd_v1.2_p1d.20051026.tif"
       ]
      },
      {
       "output_type": "stream",
       "stream": "stdout",
       "text": [
        "\n",
        "D:\\Data\\GPCP_tif_clip_clip//gpcp_1dd_v1.2_p1d.20051027.tif"
       ]
      },
      {
       "output_type": "stream",
       "stream": "stdout",
       "text": [
        "\n",
        "D:\\Data\\GPCP_tif_clip_clip//gpcp_1dd_v1.2_p1d.20051028.tif"
       ]
      },
      {
       "output_type": "stream",
       "stream": "stdout",
       "text": [
        "\n",
        "D:\\Data\\GPCP_tif_clip_clip//gpcp_1dd_v1.2_p1d.20051029.tif"
       ]
      },
      {
       "output_type": "stream",
       "stream": "stdout",
       "text": [
        "\n",
        "D:\\Data\\GPCP_tif_clip_clip//gpcp_1dd_v1.2_p1d.20051030.tif"
       ]
      },
      {
       "output_type": "stream",
       "stream": "stdout",
       "text": [
        "\n",
        "D:\\Data\\GPCP_tif_clip_clip//gpcp_1dd_v1.2_p1d.20051100.tif"
       ]
      },
      {
       "output_type": "stream",
       "stream": "stdout",
       "text": [
        "\n",
        "D:\\Data\\GPCP_tif_clip_clip//gpcp_1dd_v1.2_p1d.20051101.tif"
       ]
      },
      {
       "output_type": "stream",
       "stream": "stdout",
       "text": [
        "\n",
        "D:\\Data\\GPCP_tif_clip_clip//gpcp_1dd_v1.2_p1d.20051102.tif"
       ]
      },
      {
       "output_type": "stream",
       "stream": "stdout",
       "text": [
        "\n",
        "D:\\Data\\GPCP_tif_clip_clip//gpcp_1dd_v1.2_p1d.20051103.tif"
       ]
      },
      {
       "output_type": "stream",
       "stream": "stdout",
       "text": [
        "\n",
        "D:\\Data\\GPCP_tif_clip_clip//gpcp_1dd_v1.2_p1d.20051104.tif"
       ]
      },
      {
       "output_type": "stream",
       "stream": "stdout",
       "text": [
        "\n",
        "D:\\Data\\GPCP_tif_clip_clip//gpcp_1dd_v1.2_p1d.20051105.tif"
       ]
      },
      {
       "output_type": "stream",
       "stream": "stdout",
       "text": [
        "\n",
        "D:\\Data\\GPCP_tif_clip_clip//gpcp_1dd_v1.2_p1d.20051106.tif"
       ]
      },
      {
       "output_type": "stream",
       "stream": "stdout",
       "text": [
        "\n",
        "D:\\Data\\GPCP_tif_clip_clip//gpcp_1dd_v1.2_p1d.20051107.tif"
       ]
      },
      {
       "output_type": "stream",
       "stream": "stdout",
       "text": [
        "\n",
        "D:\\Data\\GPCP_tif_clip_clip//gpcp_1dd_v1.2_p1d.20051108.tif"
       ]
      },
      {
       "output_type": "stream",
       "stream": "stdout",
       "text": [
        "\n",
        "D:\\Data\\GPCP_tif_clip_clip//gpcp_1dd_v1.2_p1d.20051109.tif"
       ]
      },
      {
       "output_type": "stream",
       "stream": "stdout",
       "text": [
        "\n",
        "D:\\Data\\GPCP_tif_clip_clip//gpcp_1dd_v1.2_p1d.20051110.tif"
       ]
      },
      {
       "output_type": "stream",
       "stream": "stdout",
       "text": [
        "\n",
        "D:\\Data\\GPCP_tif_clip_clip//gpcp_1dd_v1.2_p1d.20051111.tif"
       ]
      },
      {
       "output_type": "stream",
       "stream": "stdout",
       "text": [
        "\n",
        "D:\\Data\\GPCP_tif_clip_clip//gpcp_1dd_v1.2_p1d.20051112.tif"
       ]
      },
      {
       "output_type": "stream",
       "stream": "stdout",
       "text": [
        "\n",
        "D:\\Data\\GPCP_tif_clip_clip//gpcp_1dd_v1.2_p1d.20051113.tif"
       ]
      },
      {
       "output_type": "stream",
       "stream": "stdout",
       "text": [
        "\n",
        "D:\\Data\\GPCP_tif_clip_clip//gpcp_1dd_v1.2_p1d.20051114.tif"
       ]
      },
      {
       "output_type": "stream",
       "stream": "stdout",
       "text": [
        "\n",
        "D:\\Data\\GPCP_tif_clip_clip//gpcp_1dd_v1.2_p1d.20051115.tif"
       ]
      },
      {
       "output_type": "stream",
       "stream": "stdout",
       "text": [
        "\n",
        "D:\\Data\\GPCP_tif_clip_clip//gpcp_1dd_v1.2_p1d.20051116.tif"
       ]
      },
      {
       "output_type": "stream",
       "stream": "stdout",
       "text": [
        "\n",
        "D:\\Data\\GPCP_tif_clip_clip//gpcp_1dd_v1.2_p1d.20051117.tif"
       ]
      },
      {
       "output_type": "stream",
       "stream": "stdout",
       "text": [
        "\n",
        "D:\\Data\\GPCP_tif_clip_clip//gpcp_1dd_v1.2_p1d.20051118.tif"
       ]
      },
      {
       "output_type": "stream",
       "stream": "stdout",
       "text": [
        "\n",
        "D:\\Data\\GPCP_tif_clip_clip//gpcp_1dd_v1.2_p1d.20051119.tif"
       ]
      },
      {
       "output_type": "stream",
       "stream": "stdout",
       "text": [
        "\n",
        "D:\\Data\\GPCP_tif_clip_clip//gpcp_1dd_v1.2_p1d.20051120.tif"
       ]
      },
      {
       "output_type": "stream",
       "stream": "stdout",
       "text": [
        "\n",
        "D:\\Data\\GPCP_tif_clip_clip//gpcp_1dd_v1.2_p1d.20051121.tif"
       ]
      },
      {
       "output_type": "stream",
       "stream": "stdout",
       "text": [
        "\n",
        "D:\\Data\\GPCP_tif_clip_clip//gpcp_1dd_v1.2_p1d.20051122.tif"
       ]
      },
      {
       "output_type": "stream",
       "stream": "stdout",
       "text": [
        "\n",
        "D:\\Data\\GPCP_tif_clip_clip//gpcp_1dd_v1.2_p1d.20051123.tif"
       ]
      },
      {
       "output_type": "stream",
       "stream": "stdout",
       "text": [
        "\n",
        "D:\\Data\\GPCP_tif_clip_clip//gpcp_1dd_v1.2_p1d.20051124.tif"
       ]
      },
      {
       "output_type": "stream",
       "stream": "stdout",
       "text": [
        "\n",
        "D:\\Data\\GPCP_tif_clip_clip//gpcp_1dd_v1.2_p1d.20051125.tif"
       ]
      },
      {
       "output_type": "stream",
       "stream": "stdout",
       "text": [
        "\n",
        "D:\\Data\\GPCP_tif_clip_clip//gpcp_1dd_v1.2_p1d.20051126.tif"
       ]
      },
      {
       "output_type": "stream",
       "stream": "stdout",
       "text": [
        "\n",
        "D:\\Data\\GPCP_tif_clip_clip//gpcp_1dd_v1.2_p1d.20051127.tif"
       ]
      },
      {
       "output_type": "stream",
       "stream": "stdout",
       "text": [
        "\n",
        "D:\\Data\\GPCP_tif_clip_clip//gpcp_1dd_v1.2_p1d.20051128.tif"
       ]
      },
      {
       "output_type": "stream",
       "stream": "stdout",
       "text": [
        "\n",
        "D:\\Data\\GPCP_tif_clip_clip//gpcp_1dd_v1.2_p1d.20051129.tif"
       ]
      },
      {
       "output_type": "stream",
       "stream": "stdout",
       "text": [
        "\n",
        "D:\\Data\\GPCP_tif_clip_clip//gpcp_1dd_v1.2_p1d.20051200.tif"
       ]
      },
      {
       "output_type": "stream",
       "stream": "stdout",
       "text": [
        "\n",
        "D:\\Data\\GPCP_tif_clip_clip//gpcp_1dd_v1.2_p1d.20051201.tif"
       ]
      },
      {
       "output_type": "stream",
       "stream": "stdout",
       "text": [
        "\n",
        "D:\\Data\\GPCP_tif_clip_clip//gpcp_1dd_v1.2_p1d.20051202.tif"
       ]
      },
      {
       "output_type": "stream",
       "stream": "stdout",
       "text": [
        "\n",
        "D:\\Data\\GPCP_tif_clip_clip//gpcp_1dd_v1.2_p1d.20051203.tif"
       ]
      },
      {
       "output_type": "stream",
       "stream": "stdout",
       "text": [
        "\n",
        "D:\\Data\\GPCP_tif_clip_clip//gpcp_1dd_v1.2_p1d.20051204.tif"
       ]
      },
      {
       "output_type": "stream",
       "stream": "stdout",
       "text": [
        "\n",
        "D:\\Data\\GPCP_tif_clip_clip//gpcp_1dd_v1.2_p1d.20051205.tif"
       ]
      },
      {
       "output_type": "stream",
       "stream": "stdout",
       "text": [
        "\n",
        "D:\\Data\\GPCP_tif_clip_clip//gpcp_1dd_v1.2_p1d.20051206.tif"
       ]
      },
      {
       "output_type": "stream",
       "stream": "stdout",
       "text": [
        "\n",
        "D:\\Data\\GPCP_tif_clip_clip//gpcp_1dd_v1.2_p1d.20051207.tif"
       ]
      },
      {
       "output_type": "stream",
       "stream": "stdout",
       "text": [
        "\n",
        "D:\\Data\\GPCP_tif_clip_clip//gpcp_1dd_v1.2_p1d.20051208.tif"
       ]
      },
      {
       "output_type": "stream",
       "stream": "stdout",
       "text": [
        "\n",
        "D:\\Data\\GPCP_tif_clip_clip//gpcp_1dd_v1.2_p1d.20051209.tif"
       ]
      },
      {
       "output_type": "stream",
       "stream": "stdout",
       "text": [
        "\n",
        "D:\\Data\\GPCP_tif_clip_clip//gpcp_1dd_v1.2_p1d.20051210.tif"
       ]
      },
      {
       "output_type": "stream",
       "stream": "stdout",
       "text": [
        "\n",
        "D:\\Data\\GPCP_tif_clip_clip//gpcp_1dd_v1.2_p1d.20051211.tif"
       ]
      },
      {
       "output_type": "stream",
       "stream": "stdout",
       "text": [
        "\n",
        "D:\\Data\\GPCP_tif_clip_clip//gpcp_1dd_v1.2_p1d.20051212.tif"
       ]
      },
      {
       "output_type": "stream",
       "stream": "stdout",
       "text": [
        "\n",
        "D:\\Data\\GPCP_tif_clip_clip//gpcp_1dd_v1.2_p1d.20051213.tif"
       ]
      },
      {
       "output_type": "stream",
       "stream": "stdout",
       "text": [
        "\n",
        "D:\\Data\\GPCP_tif_clip_clip//gpcp_1dd_v1.2_p1d.20051214.tif"
       ]
      },
      {
       "output_type": "stream",
       "stream": "stdout",
       "text": [
        "\n",
        "D:\\Data\\GPCP_tif_clip_clip//gpcp_1dd_v1.2_p1d.20051215.tif"
       ]
      },
      {
       "output_type": "stream",
       "stream": "stdout",
       "text": [
        "\n",
        "D:\\Data\\GPCP_tif_clip_clip//gpcp_1dd_v1.2_p1d.20051216.tif"
       ]
      },
      {
       "output_type": "stream",
       "stream": "stdout",
       "text": [
        "\n",
        "D:\\Data\\GPCP_tif_clip_clip//gpcp_1dd_v1.2_p1d.20051217.tif"
       ]
      },
      {
       "output_type": "stream",
       "stream": "stdout",
       "text": [
        "\n",
        "D:\\Data\\GPCP_tif_clip_clip//gpcp_1dd_v1.2_p1d.20051218.tif"
       ]
      },
      {
       "output_type": "stream",
       "stream": "stdout",
       "text": [
        "\n",
        "D:\\Data\\GPCP_tif_clip_clip//gpcp_1dd_v1.2_p1d.20051219.tif"
       ]
      },
      {
       "output_type": "stream",
       "stream": "stdout",
       "text": [
        "\n",
        "D:\\Data\\GPCP_tif_clip_clip//gpcp_1dd_v1.2_p1d.20051220.tif"
       ]
      },
      {
       "output_type": "stream",
       "stream": "stdout",
       "text": [
        "\n",
        "D:\\Data\\GPCP_tif_clip_clip//gpcp_1dd_v1.2_p1d.20051221.tif"
       ]
      },
      {
       "output_type": "stream",
       "stream": "stdout",
       "text": [
        "\n",
        "D:\\Data\\GPCP_tif_clip_clip//gpcp_1dd_v1.2_p1d.20051222.tif"
       ]
      },
      {
       "output_type": "stream",
       "stream": "stdout",
       "text": [
        "\n",
        "D:\\Data\\GPCP_tif_clip_clip//gpcp_1dd_v1.2_p1d.20051223.tif"
       ]
      },
      {
       "output_type": "stream",
       "stream": "stdout",
       "text": [
        "\n",
        "D:\\Data\\GPCP_tif_clip_clip//gpcp_1dd_v1.2_p1d.20051224.tif"
       ]
      },
      {
       "output_type": "stream",
       "stream": "stdout",
       "text": [
        "\n",
        "D:\\Data\\GPCP_tif_clip_clip//gpcp_1dd_v1.2_p1d.20051225.tif"
       ]
      },
      {
       "output_type": "stream",
       "stream": "stdout",
       "text": [
        "\n",
        "D:\\Data\\GPCP_tif_clip_clip//gpcp_1dd_v1.2_p1d.20051226.tif"
       ]
      },
      {
       "output_type": "stream",
       "stream": "stdout",
       "text": [
        "\n",
        "D:\\Data\\GPCP_tif_clip_clip//gpcp_1dd_v1.2_p1d.20051227.tif"
       ]
      },
      {
       "output_type": "stream",
       "stream": "stdout",
       "text": [
        "\n",
        "D:\\Data\\GPCP_tif_clip_clip//gpcp_1dd_v1.2_p1d.20051228.tif"
       ]
      },
      {
       "output_type": "stream",
       "stream": "stdout",
       "text": [
        "\n",
        "D:\\Data\\GPCP_tif_clip_clip//gpcp_1dd_v1.2_p1d.20051229.tif"
       ]
      },
      {
       "output_type": "stream",
       "stream": "stdout",
       "text": [
        "\n",
        "D:\\Data\\GPCP_tif_clip_clip//gpcp_1dd_v1.2_p1d.20051230.tif"
       ]
      },
      {
       "output_type": "stream",
       "stream": "stdout",
       "text": [
        "\n",
        "D:\\Data\\GPCP_tif_clip_clip//gpcp_1dd_v1.2_p1d.20060100.tif"
       ]
      },
      {
       "output_type": "stream",
       "stream": "stdout",
       "text": [
        "\n",
        "D:\\Data\\GPCP_tif_clip_clip//gpcp_1dd_v1.2_p1d.20060101.tif"
       ]
      },
      {
       "output_type": "stream",
       "stream": "stdout",
       "text": [
        "\n",
        "D:\\Data\\GPCP_tif_clip_clip//gpcp_1dd_v1.2_p1d.20060102.tif"
       ]
      },
      {
       "output_type": "stream",
       "stream": "stdout",
       "text": [
        "\n",
        "D:\\Data\\GPCP_tif_clip_clip//gpcp_1dd_v1.2_p1d.20060103.tif"
       ]
      },
      {
       "output_type": "stream",
       "stream": "stdout",
       "text": [
        "\n",
        "D:\\Data\\GPCP_tif_clip_clip//gpcp_1dd_v1.2_p1d.20060104.tif"
       ]
      },
      {
       "output_type": "stream",
       "stream": "stdout",
       "text": [
        "\n",
        "D:\\Data\\GPCP_tif_clip_clip//gpcp_1dd_v1.2_p1d.20060105.tif"
       ]
      },
      {
       "output_type": "stream",
       "stream": "stdout",
       "text": [
        "\n",
        "D:\\Data\\GPCP_tif_clip_clip//gpcp_1dd_v1.2_p1d.20060106.tif"
       ]
      },
      {
       "output_type": "stream",
       "stream": "stdout",
       "text": [
        "\n",
        "D:\\Data\\GPCP_tif_clip_clip//gpcp_1dd_v1.2_p1d.20060107.tif"
       ]
      },
      {
       "output_type": "stream",
       "stream": "stdout",
       "text": [
        "\n",
        "D:\\Data\\GPCP_tif_clip_clip//gpcp_1dd_v1.2_p1d.20060108.tif"
       ]
      },
      {
       "output_type": "stream",
       "stream": "stdout",
       "text": [
        "\n",
        "D:\\Data\\GPCP_tif_clip_clip//gpcp_1dd_v1.2_p1d.20060109.tif"
       ]
      },
      {
       "output_type": "stream",
       "stream": "stdout",
       "text": [
        "\n",
        "D:\\Data\\GPCP_tif_clip_clip//gpcp_1dd_v1.2_p1d.20060110.tif"
       ]
      },
      {
       "output_type": "stream",
       "stream": "stdout",
       "text": [
        "\n",
        "D:\\Data\\GPCP_tif_clip_clip//gpcp_1dd_v1.2_p1d.20060111.tif"
       ]
      },
      {
       "output_type": "stream",
       "stream": "stdout",
       "text": [
        "\n",
        "D:\\Data\\GPCP_tif_clip_clip//gpcp_1dd_v1.2_p1d.20060112.tif"
       ]
      },
      {
       "output_type": "stream",
       "stream": "stdout",
       "text": [
        "\n",
        "D:\\Data\\GPCP_tif_clip_clip//gpcp_1dd_v1.2_p1d.20060113.tif"
       ]
      },
      {
       "output_type": "stream",
       "stream": "stdout",
       "text": [
        "\n",
        "D:\\Data\\GPCP_tif_clip_clip//gpcp_1dd_v1.2_p1d.20060114.tif"
       ]
      },
      {
       "output_type": "stream",
       "stream": "stdout",
       "text": [
        "\n",
        "D:\\Data\\GPCP_tif_clip_clip//gpcp_1dd_v1.2_p1d.20060115.tif"
       ]
      },
      {
       "output_type": "stream",
       "stream": "stdout",
       "text": [
        "\n",
        "D:\\Data\\GPCP_tif_clip_clip//gpcp_1dd_v1.2_p1d.20060116.tif"
       ]
      },
      {
       "output_type": "stream",
       "stream": "stdout",
       "text": [
        "\n",
        "D:\\Data\\GPCP_tif_clip_clip//gpcp_1dd_v1.2_p1d.20060117.tif"
       ]
      },
      {
       "output_type": "stream",
       "stream": "stdout",
       "text": [
        "\n",
        "D:\\Data\\GPCP_tif_clip_clip//gpcp_1dd_v1.2_p1d.20060118.tif"
       ]
      },
      {
       "output_type": "stream",
       "stream": "stdout",
       "text": [
        "\n",
        "D:\\Data\\GPCP_tif_clip_clip//gpcp_1dd_v1.2_p1d.20060119.tif"
       ]
      },
      {
       "output_type": "stream",
       "stream": "stdout",
       "text": [
        "\n",
        "D:\\Data\\GPCP_tif_clip_clip//gpcp_1dd_v1.2_p1d.20060120.tif"
       ]
      },
      {
       "output_type": "stream",
       "stream": "stdout",
       "text": [
        "\n",
        "D:\\Data\\GPCP_tif_clip_clip//gpcp_1dd_v1.2_p1d.20060121.tif"
       ]
      },
      {
       "output_type": "stream",
       "stream": "stdout",
       "text": [
        "\n",
        "D:\\Data\\GPCP_tif_clip_clip//gpcp_1dd_v1.2_p1d.20060122.tif"
       ]
      },
      {
       "output_type": "stream",
       "stream": "stdout",
       "text": [
        "\n",
        "D:\\Data\\GPCP_tif_clip_clip//gpcp_1dd_v1.2_p1d.20060123.tif"
       ]
      },
      {
       "output_type": "stream",
       "stream": "stdout",
       "text": [
        "\n",
        "D:\\Data\\GPCP_tif_clip_clip//gpcp_1dd_v1.2_p1d.20060124.tif"
       ]
      },
      {
       "output_type": "stream",
       "stream": "stdout",
       "text": [
        "\n",
        "D:\\Data\\GPCP_tif_clip_clip//gpcp_1dd_v1.2_p1d.20060125.tif"
       ]
      },
      {
       "output_type": "stream",
       "stream": "stdout",
       "text": [
        "\n",
        "D:\\Data\\GPCP_tif_clip_clip//gpcp_1dd_v1.2_p1d.20060126.tif"
       ]
      },
      {
       "output_type": "stream",
       "stream": "stdout",
       "text": [
        "\n",
        "D:\\Data\\GPCP_tif_clip_clip//gpcp_1dd_v1.2_p1d.20060127.tif"
       ]
      },
      {
       "output_type": "stream",
       "stream": "stdout",
       "text": [
        "\n",
        "D:\\Data\\GPCP_tif_clip_clip//gpcp_1dd_v1.2_p1d.20060128.tif"
       ]
      },
      {
       "output_type": "stream",
       "stream": "stdout",
       "text": [
        "\n",
        "D:\\Data\\GPCP_tif_clip_clip//gpcp_1dd_v1.2_p1d.20060129.tif"
       ]
      },
      {
       "output_type": "stream",
       "stream": "stdout",
       "text": [
        "\n",
        "D:\\Data\\GPCP_tif_clip_clip//gpcp_1dd_v1.2_p1d.20060130.tif"
       ]
      },
      {
       "output_type": "stream",
       "stream": "stdout",
       "text": [
        "\n",
        "D:\\Data\\GPCP_tif_clip_clip//gpcp_1dd_v1.2_p1d.20060200.tif"
       ]
      },
      {
       "output_type": "stream",
       "stream": "stdout",
       "text": [
        "\n",
        "D:\\Data\\GPCP_tif_clip_clip//gpcp_1dd_v1.2_p1d.20060201.tif"
       ]
      },
      {
       "output_type": "stream",
       "stream": "stdout",
       "text": [
        "\n",
        "D:\\Data\\GPCP_tif_clip_clip//gpcp_1dd_v1.2_p1d.20060202.tif"
       ]
      },
      {
       "output_type": "stream",
       "stream": "stdout",
       "text": [
        "\n",
        "D:\\Data\\GPCP_tif_clip_clip//gpcp_1dd_v1.2_p1d.20060203.tif"
       ]
      },
      {
       "output_type": "stream",
       "stream": "stdout",
       "text": [
        "\n",
        "D:\\Data\\GPCP_tif_clip_clip//gpcp_1dd_v1.2_p1d.20060204.tif"
       ]
      },
      {
       "output_type": "stream",
       "stream": "stdout",
       "text": [
        "\n",
        "D:\\Data\\GPCP_tif_clip_clip//gpcp_1dd_v1.2_p1d.20060205.tif"
       ]
      },
      {
       "output_type": "stream",
       "stream": "stdout",
       "text": [
        "\n",
        "D:\\Data\\GPCP_tif_clip_clip//gpcp_1dd_v1.2_p1d.20060206.tif"
       ]
      },
      {
       "output_type": "stream",
       "stream": "stdout",
       "text": [
        "\n",
        "D:\\Data\\GPCP_tif_clip_clip//gpcp_1dd_v1.2_p1d.20060207.tif"
       ]
      },
      {
       "output_type": "stream",
       "stream": "stdout",
       "text": [
        "\n",
        "D:\\Data\\GPCP_tif_clip_clip//gpcp_1dd_v1.2_p1d.20060208.tif"
       ]
      },
      {
       "output_type": "stream",
       "stream": "stdout",
       "text": [
        "\n",
        "D:\\Data\\GPCP_tif_clip_clip//gpcp_1dd_v1.2_p1d.20060209.tif"
       ]
      },
      {
       "output_type": "stream",
       "stream": "stdout",
       "text": [
        "\n",
        "D:\\Data\\GPCP_tif_clip_clip//gpcp_1dd_v1.2_p1d.20060210.tif"
       ]
      },
      {
       "output_type": "stream",
       "stream": "stdout",
       "text": [
        "\n",
        "D:\\Data\\GPCP_tif_clip_clip//gpcp_1dd_v1.2_p1d.20060211.tif"
       ]
      },
      {
       "output_type": "stream",
       "stream": "stdout",
       "text": [
        "\n",
        "D:\\Data\\GPCP_tif_clip_clip//gpcp_1dd_v1.2_p1d.20060212.tif"
       ]
      },
      {
       "output_type": "stream",
       "stream": "stdout",
       "text": [
        "\n",
        "D:\\Data\\GPCP_tif_clip_clip//gpcp_1dd_v1.2_p1d.20060213.tif"
       ]
      },
      {
       "output_type": "stream",
       "stream": "stdout",
       "text": [
        "\n",
        "D:\\Data\\GPCP_tif_clip_clip//gpcp_1dd_v1.2_p1d.20060214.tif"
       ]
      },
      {
       "output_type": "stream",
       "stream": "stdout",
       "text": [
        "\n",
        "D:\\Data\\GPCP_tif_clip_clip//gpcp_1dd_v1.2_p1d.20060215.tif"
       ]
      },
      {
       "output_type": "stream",
       "stream": "stdout",
       "text": [
        "\n",
        "D:\\Data\\GPCP_tif_clip_clip//gpcp_1dd_v1.2_p1d.20060216.tif"
       ]
      },
      {
       "output_type": "stream",
       "stream": "stdout",
       "text": [
        "\n",
        "D:\\Data\\GPCP_tif_clip_clip//gpcp_1dd_v1.2_p1d.20060217.tif"
       ]
      },
      {
       "output_type": "stream",
       "stream": "stdout",
       "text": [
        "\n",
        "D:\\Data\\GPCP_tif_clip_clip//gpcp_1dd_v1.2_p1d.20060218.tif"
       ]
      },
      {
       "output_type": "stream",
       "stream": "stdout",
       "text": [
        "\n",
        "D:\\Data\\GPCP_tif_clip_clip//gpcp_1dd_v1.2_p1d.20060219.tif"
       ]
      },
      {
       "output_type": "stream",
       "stream": "stdout",
       "text": [
        "\n",
        "D:\\Data\\GPCP_tif_clip_clip//gpcp_1dd_v1.2_p1d.20060220.tif"
       ]
      },
      {
       "output_type": "stream",
       "stream": "stdout",
       "text": [
        "\n",
        "D:\\Data\\GPCP_tif_clip_clip//gpcp_1dd_v1.2_p1d.20060221.tif"
       ]
      },
      {
       "output_type": "stream",
       "stream": "stdout",
       "text": [
        "\n",
        "D:\\Data\\GPCP_tif_clip_clip//gpcp_1dd_v1.2_p1d.20060222.tif"
       ]
      },
      {
       "output_type": "stream",
       "stream": "stdout",
       "text": [
        "\n",
        "D:\\Data\\GPCP_tif_clip_clip//gpcp_1dd_v1.2_p1d.20060223.tif"
       ]
      },
      {
       "output_type": "stream",
       "stream": "stdout",
       "text": [
        "\n",
        "D:\\Data\\GPCP_tif_clip_clip//gpcp_1dd_v1.2_p1d.20060224.tif"
       ]
      },
      {
       "output_type": "stream",
       "stream": "stdout",
       "text": [
        "\n",
        "D:\\Data\\GPCP_tif_clip_clip//gpcp_1dd_v1.2_p1d.20060225.tif"
       ]
      },
      {
       "output_type": "stream",
       "stream": "stdout",
       "text": [
        "\n",
        "D:\\Data\\GPCP_tif_clip_clip//gpcp_1dd_v1.2_p1d.20060226.tif"
       ]
      },
      {
       "output_type": "stream",
       "stream": "stdout",
       "text": [
        "\n",
        "D:\\Data\\GPCP_tif_clip_clip//gpcp_1dd_v1.2_p1d.20060227.tif"
       ]
      },
      {
       "output_type": "stream",
       "stream": "stdout",
       "text": [
        "\n",
        "D:\\Data\\GPCP_tif_clip_clip//gpcp_1dd_v1.2_p1d.20060300.tif"
       ]
      },
      {
       "output_type": "stream",
       "stream": "stdout",
       "text": [
        "\n",
        "D:\\Data\\GPCP_tif_clip_clip//gpcp_1dd_v1.2_p1d.20060301.tif"
       ]
      },
      {
       "output_type": "stream",
       "stream": "stdout",
       "text": [
        "\n",
        "D:\\Data\\GPCP_tif_clip_clip//gpcp_1dd_v1.2_p1d.20060302.tif"
       ]
      },
      {
       "output_type": "stream",
       "stream": "stdout",
       "text": [
        "\n",
        "D:\\Data\\GPCP_tif_clip_clip//gpcp_1dd_v1.2_p1d.20060303.tif"
       ]
      },
      {
       "output_type": "stream",
       "stream": "stdout",
       "text": [
        "\n",
        "D:\\Data\\GPCP_tif_clip_clip//gpcp_1dd_v1.2_p1d.20060304.tif"
       ]
      },
      {
       "output_type": "stream",
       "stream": "stdout",
       "text": [
        "\n",
        "D:\\Data\\GPCP_tif_clip_clip//gpcp_1dd_v1.2_p1d.20060305.tif"
       ]
      },
      {
       "output_type": "stream",
       "stream": "stdout",
       "text": [
        "\n",
        "D:\\Data\\GPCP_tif_clip_clip//gpcp_1dd_v1.2_p1d.20060306.tif"
       ]
      },
      {
       "output_type": "stream",
       "stream": "stdout",
       "text": [
        "\n",
        "D:\\Data\\GPCP_tif_clip_clip//gpcp_1dd_v1.2_p1d.20060307.tif"
       ]
      },
      {
       "output_type": "stream",
       "stream": "stdout",
       "text": [
        "\n",
        "D:\\Data\\GPCP_tif_clip_clip//gpcp_1dd_v1.2_p1d.20060308.tif"
       ]
      },
      {
       "output_type": "stream",
       "stream": "stdout",
       "text": [
        "\n",
        "D:\\Data\\GPCP_tif_clip_clip//gpcp_1dd_v1.2_p1d.20060309.tif"
       ]
      },
      {
       "output_type": "stream",
       "stream": "stdout",
       "text": [
        "\n",
        "D:\\Data\\GPCP_tif_clip_clip//gpcp_1dd_v1.2_p1d.20060310.tif"
       ]
      },
      {
       "output_type": "stream",
       "stream": "stdout",
       "text": [
        "\n",
        "D:\\Data\\GPCP_tif_clip_clip//gpcp_1dd_v1.2_p1d.20060311.tif"
       ]
      },
      {
       "output_type": "stream",
       "stream": "stdout",
       "text": [
        "\n",
        "D:\\Data\\GPCP_tif_clip_clip//gpcp_1dd_v1.2_p1d.20060312.tif"
       ]
      },
      {
       "output_type": "stream",
       "stream": "stdout",
       "text": [
        "\n",
        "D:\\Data\\GPCP_tif_clip_clip//gpcp_1dd_v1.2_p1d.20060313.tif"
       ]
      },
      {
       "output_type": "stream",
       "stream": "stdout",
       "text": [
        "\n",
        "D:\\Data\\GPCP_tif_clip_clip//gpcp_1dd_v1.2_p1d.20060314.tif"
       ]
      },
      {
       "output_type": "stream",
       "stream": "stdout",
       "text": [
        "\n",
        "D:\\Data\\GPCP_tif_clip_clip//gpcp_1dd_v1.2_p1d.20060315.tif"
       ]
      },
      {
       "output_type": "stream",
       "stream": "stdout",
       "text": [
        "\n",
        "D:\\Data\\GPCP_tif_clip_clip//gpcp_1dd_v1.2_p1d.20060316.tif"
       ]
      },
      {
       "output_type": "stream",
       "stream": "stdout",
       "text": [
        "\n",
        "D:\\Data\\GPCP_tif_clip_clip//gpcp_1dd_v1.2_p1d.20060317.tif"
       ]
      },
      {
       "output_type": "stream",
       "stream": "stdout",
       "text": [
        "\n",
        "D:\\Data\\GPCP_tif_clip_clip//gpcp_1dd_v1.2_p1d.20060318.tif"
       ]
      },
      {
       "output_type": "stream",
       "stream": "stdout",
       "text": [
        "\n",
        "D:\\Data\\GPCP_tif_clip_clip//gpcp_1dd_v1.2_p1d.20060319.tif"
       ]
      },
      {
       "output_type": "stream",
       "stream": "stdout",
       "text": [
        "\n",
        "D:\\Data\\GPCP_tif_clip_clip//gpcp_1dd_v1.2_p1d.20060320.tif"
       ]
      },
      {
       "output_type": "stream",
       "stream": "stdout",
       "text": [
        "\n",
        "D:\\Data\\GPCP_tif_clip_clip//gpcp_1dd_v1.2_p1d.20060321.tif"
       ]
      },
      {
       "output_type": "stream",
       "stream": "stdout",
       "text": [
        "\n",
        "D:\\Data\\GPCP_tif_clip_clip//gpcp_1dd_v1.2_p1d.20060322.tif"
       ]
      },
      {
       "output_type": "stream",
       "stream": "stdout",
       "text": [
        "\n",
        "D:\\Data\\GPCP_tif_clip_clip//gpcp_1dd_v1.2_p1d.20060323.tif"
       ]
      },
      {
       "output_type": "stream",
       "stream": "stdout",
       "text": [
        "\n",
        "D:\\Data\\GPCP_tif_clip_clip//gpcp_1dd_v1.2_p1d.20060324.tif"
       ]
      },
      {
       "output_type": "stream",
       "stream": "stdout",
       "text": [
        "\n",
        "D:\\Data\\GPCP_tif_clip_clip//gpcp_1dd_v1.2_p1d.20060325.tif"
       ]
      },
      {
       "output_type": "stream",
       "stream": "stdout",
       "text": [
        "\n",
        "D:\\Data\\GPCP_tif_clip_clip//gpcp_1dd_v1.2_p1d.20060326.tif"
       ]
      },
      {
       "output_type": "stream",
       "stream": "stdout",
       "text": [
        "\n",
        "D:\\Data\\GPCP_tif_clip_clip//gpcp_1dd_v1.2_p1d.20060327.tif"
       ]
      },
      {
       "output_type": "stream",
       "stream": "stdout",
       "text": [
        "\n",
        "D:\\Data\\GPCP_tif_clip_clip//gpcp_1dd_v1.2_p1d.20060328.tif"
       ]
      },
      {
       "output_type": "stream",
       "stream": "stdout",
       "text": [
        "\n",
        "D:\\Data\\GPCP_tif_clip_clip//gpcp_1dd_v1.2_p1d.20060329.tif"
       ]
      },
      {
       "output_type": "stream",
       "stream": "stdout",
       "text": [
        "\n",
        "D:\\Data\\GPCP_tif_clip_clip//gpcp_1dd_v1.2_p1d.20060330.tif"
       ]
      },
      {
       "output_type": "stream",
       "stream": "stdout",
       "text": [
        "\n",
        "D:\\Data\\GPCP_tif_clip_clip//gpcp_1dd_v1.2_p1d.20060400.tif"
       ]
      },
      {
       "output_type": "stream",
       "stream": "stdout",
       "text": [
        "\n",
        "D:\\Data\\GPCP_tif_clip_clip//gpcp_1dd_v1.2_p1d.20060401.tif"
       ]
      },
      {
       "output_type": "stream",
       "stream": "stdout",
       "text": [
        "\n",
        "D:\\Data\\GPCP_tif_clip_clip//gpcp_1dd_v1.2_p1d.20060402.tif"
       ]
      },
      {
       "output_type": "stream",
       "stream": "stdout",
       "text": [
        "\n",
        "D:\\Data\\GPCP_tif_clip_clip//gpcp_1dd_v1.2_p1d.20060403.tif"
       ]
      },
      {
       "output_type": "stream",
       "stream": "stdout",
       "text": [
        "\n",
        "D:\\Data\\GPCP_tif_clip_clip//gpcp_1dd_v1.2_p1d.20060404.tif"
       ]
      },
      {
       "output_type": "stream",
       "stream": "stdout",
       "text": [
        "\n",
        "D:\\Data\\GPCP_tif_clip_clip//gpcp_1dd_v1.2_p1d.20060405.tif"
       ]
      },
      {
       "output_type": "stream",
       "stream": "stdout",
       "text": [
        "\n",
        "D:\\Data\\GPCP_tif_clip_clip//gpcp_1dd_v1.2_p1d.20060406.tif"
       ]
      },
      {
       "output_type": "stream",
       "stream": "stdout",
       "text": [
        "\n",
        "D:\\Data\\GPCP_tif_clip_clip//gpcp_1dd_v1.2_p1d.20060407.tif"
       ]
      },
      {
       "output_type": "stream",
       "stream": "stdout",
       "text": [
        "\n",
        "D:\\Data\\GPCP_tif_clip_clip//gpcp_1dd_v1.2_p1d.20060408.tif"
       ]
      },
      {
       "output_type": "stream",
       "stream": "stdout",
       "text": [
        "\n",
        "D:\\Data\\GPCP_tif_clip_clip//gpcp_1dd_v1.2_p1d.20060409.tif"
       ]
      },
      {
       "output_type": "stream",
       "stream": "stdout",
       "text": [
        "\n",
        "D:\\Data\\GPCP_tif_clip_clip//gpcp_1dd_v1.2_p1d.20060410.tif"
       ]
      },
      {
       "output_type": "stream",
       "stream": "stdout",
       "text": [
        "\n",
        "D:\\Data\\GPCP_tif_clip_clip//gpcp_1dd_v1.2_p1d.20060411.tif"
       ]
      },
      {
       "output_type": "stream",
       "stream": "stdout",
       "text": [
        "\n",
        "D:\\Data\\GPCP_tif_clip_clip//gpcp_1dd_v1.2_p1d.20060412.tif"
       ]
      },
      {
       "output_type": "stream",
       "stream": "stdout",
       "text": [
        "\n",
        "D:\\Data\\GPCP_tif_clip_clip//gpcp_1dd_v1.2_p1d.20060413.tif"
       ]
      },
      {
       "output_type": "stream",
       "stream": "stdout",
       "text": [
        "\n",
        "D:\\Data\\GPCP_tif_clip_clip//gpcp_1dd_v1.2_p1d.20060414.tif"
       ]
      },
      {
       "output_type": "stream",
       "stream": "stdout",
       "text": [
        "\n",
        "D:\\Data\\GPCP_tif_clip_clip//gpcp_1dd_v1.2_p1d.20060415.tif"
       ]
      },
      {
       "output_type": "stream",
       "stream": "stdout",
       "text": [
        "\n",
        "D:\\Data\\GPCP_tif_clip_clip//gpcp_1dd_v1.2_p1d.20060416.tif"
       ]
      },
      {
       "output_type": "stream",
       "stream": "stdout",
       "text": [
        "\n",
        "D:\\Data\\GPCP_tif_clip_clip//gpcp_1dd_v1.2_p1d.20060417.tif"
       ]
      },
      {
       "output_type": "stream",
       "stream": "stdout",
       "text": [
        "\n",
        "D:\\Data\\GPCP_tif_clip_clip//gpcp_1dd_v1.2_p1d.20060418.tif"
       ]
      },
      {
       "output_type": "stream",
       "stream": "stdout",
       "text": [
        "\n",
        "D:\\Data\\GPCP_tif_clip_clip//gpcp_1dd_v1.2_p1d.20060419.tif"
       ]
      },
      {
       "output_type": "stream",
       "stream": "stdout",
       "text": [
        "\n",
        "D:\\Data\\GPCP_tif_clip_clip//gpcp_1dd_v1.2_p1d.20060420.tif"
       ]
      },
      {
       "output_type": "stream",
       "stream": "stdout",
       "text": [
        "\n",
        "D:\\Data\\GPCP_tif_clip_clip//gpcp_1dd_v1.2_p1d.20060421.tif"
       ]
      },
      {
       "output_type": "stream",
       "stream": "stdout",
       "text": [
        "\n",
        "D:\\Data\\GPCP_tif_clip_clip//gpcp_1dd_v1.2_p1d.20060422.tif"
       ]
      },
      {
       "output_type": "stream",
       "stream": "stdout",
       "text": [
        "\n",
        "D:\\Data\\GPCP_tif_clip_clip//gpcp_1dd_v1.2_p1d.20060423.tif"
       ]
      },
      {
       "output_type": "stream",
       "stream": "stdout",
       "text": [
        "\n",
        "D:\\Data\\GPCP_tif_clip_clip//gpcp_1dd_v1.2_p1d.20060424.tif"
       ]
      },
      {
       "output_type": "stream",
       "stream": "stdout",
       "text": [
        "\n",
        "D:\\Data\\GPCP_tif_clip_clip//gpcp_1dd_v1.2_p1d.20060425.tif"
       ]
      },
      {
       "output_type": "stream",
       "stream": "stdout",
       "text": [
        "\n",
        "D:\\Data\\GPCP_tif_clip_clip//gpcp_1dd_v1.2_p1d.20060426.tif"
       ]
      },
      {
       "output_type": "stream",
       "stream": "stdout",
       "text": [
        "\n",
        "D:\\Data\\GPCP_tif_clip_clip//gpcp_1dd_v1.2_p1d.20060427.tif"
       ]
      },
      {
       "output_type": "stream",
       "stream": "stdout",
       "text": [
        "\n",
        "D:\\Data\\GPCP_tif_clip_clip//gpcp_1dd_v1.2_p1d.20060428.tif"
       ]
      },
      {
       "output_type": "stream",
       "stream": "stdout",
       "text": [
        "\n",
        "D:\\Data\\GPCP_tif_clip_clip//gpcp_1dd_v1.2_p1d.20060429.tif"
       ]
      },
      {
       "output_type": "stream",
       "stream": "stdout",
       "text": [
        "\n",
        "D:\\Data\\GPCP_tif_clip_clip//gpcp_1dd_v1.2_p1d.20060500.tif"
       ]
      },
      {
       "output_type": "stream",
       "stream": "stdout",
       "text": [
        "\n",
        "D:\\Data\\GPCP_tif_clip_clip//gpcp_1dd_v1.2_p1d.20060501.tif"
       ]
      },
      {
       "output_type": "stream",
       "stream": "stdout",
       "text": [
        "\n",
        "D:\\Data\\GPCP_tif_clip_clip//gpcp_1dd_v1.2_p1d.20060502.tif"
       ]
      },
      {
       "output_type": "stream",
       "stream": "stdout",
       "text": [
        "\n",
        "D:\\Data\\GPCP_tif_clip_clip//gpcp_1dd_v1.2_p1d.20060503.tif"
       ]
      },
      {
       "output_type": "stream",
       "stream": "stdout",
       "text": [
        "\n",
        "D:\\Data\\GPCP_tif_clip_clip//gpcp_1dd_v1.2_p1d.20060504.tif"
       ]
      },
      {
       "output_type": "stream",
       "stream": "stdout",
       "text": [
        "\n",
        "D:\\Data\\GPCP_tif_clip_clip//gpcp_1dd_v1.2_p1d.20060505.tif"
       ]
      },
      {
       "output_type": "stream",
       "stream": "stdout",
       "text": [
        "\n",
        "D:\\Data\\GPCP_tif_clip_clip//gpcp_1dd_v1.2_p1d.20060506.tif"
       ]
      },
      {
       "output_type": "stream",
       "stream": "stdout",
       "text": [
        "\n",
        "D:\\Data\\GPCP_tif_clip_clip//gpcp_1dd_v1.2_p1d.20060507.tif"
       ]
      },
      {
       "output_type": "stream",
       "stream": "stdout",
       "text": [
        "\n",
        "D:\\Data\\GPCP_tif_clip_clip//gpcp_1dd_v1.2_p1d.20060508.tif"
       ]
      },
      {
       "output_type": "stream",
       "stream": "stdout",
       "text": [
        "\n",
        "D:\\Data\\GPCP_tif_clip_clip//gpcp_1dd_v1.2_p1d.20060509.tif"
       ]
      },
      {
       "output_type": "stream",
       "stream": "stdout",
       "text": [
        "\n",
        "D:\\Data\\GPCP_tif_clip_clip//gpcp_1dd_v1.2_p1d.20060510.tif"
       ]
      },
      {
       "output_type": "stream",
       "stream": "stdout",
       "text": [
        "\n",
        "D:\\Data\\GPCP_tif_clip_clip//gpcp_1dd_v1.2_p1d.20060511.tif"
       ]
      },
      {
       "output_type": "stream",
       "stream": "stdout",
       "text": [
        "\n",
        "D:\\Data\\GPCP_tif_clip_clip//gpcp_1dd_v1.2_p1d.20060512.tif"
       ]
      },
      {
       "output_type": "stream",
       "stream": "stdout",
       "text": [
        "\n",
        "D:\\Data\\GPCP_tif_clip_clip//gpcp_1dd_v1.2_p1d.20060513.tif"
       ]
      },
      {
       "output_type": "stream",
       "stream": "stdout",
       "text": [
        "\n",
        "D:\\Data\\GPCP_tif_clip_clip//gpcp_1dd_v1.2_p1d.20060514.tif"
       ]
      },
      {
       "output_type": "stream",
       "stream": "stdout",
       "text": [
        "\n",
        "D:\\Data\\GPCP_tif_clip_clip//gpcp_1dd_v1.2_p1d.20060515.tif"
       ]
      },
      {
       "output_type": "stream",
       "stream": "stdout",
       "text": [
        "\n",
        "D:\\Data\\GPCP_tif_clip_clip//gpcp_1dd_v1.2_p1d.20060516.tif"
       ]
      },
      {
       "output_type": "stream",
       "stream": "stdout",
       "text": [
        "\n",
        "D:\\Data\\GPCP_tif_clip_clip//gpcp_1dd_v1.2_p1d.20060517.tif"
       ]
      },
      {
       "output_type": "stream",
       "stream": "stdout",
       "text": [
        "\n",
        "D:\\Data\\GPCP_tif_clip_clip//gpcp_1dd_v1.2_p1d.20060518.tif"
       ]
      },
      {
       "output_type": "stream",
       "stream": "stdout",
       "text": [
        "\n",
        "D:\\Data\\GPCP_tif_clip_clip//gpcp_1dd_v1.2_p1d.20060519.tif"
       ]
      },
      {
       "output_type": "stream",
       "stream": "stdout",
       "text": [
        "\n",
        "D:\\Data\\GPCP_tif_clip_clip//gpcp_1dd_v1.2_p1d.20060520.tif"
       ]
      },
      {
       "output_type": "stream",
       "stream": "stdout",
       "text": [
        "\n",
        "D:\\Data\\GPCP_tif_clip_clip//gpcp_1dd_v1.2_p1d.20060521.tif"
       ]
      },
      {
       "output_type": "stream",
       "stream": "stdout",
       "text": [
        "\n",
        "D:\\Data\\GPCP_tif_clip_clip//gpcp_1dd_v1.2_p1d.20060522.tif"
       ]
      },
      {
       "output_type": "stream",
       "stream": "stdout",
       "text": [
        "\n",
        "D:\\Data\\GPCP_tif_clip_clip//gpcp_1dd_v1.2_p1d.20060523.tif"
       ]
      },
      {
       "output_type": "stream",
       "stream": "stdout",
       "text": [
        "\n",
        "D:\\Data\\GPCP_tif_clip_clip//gpcp_1dd_v1.2_p1d.20060524.tif"
       ]
      },
      {
       "output_type": "stream",
       "stream": "stdout",
       "text": [
        "\n",
        "D:\\Data\\GPCP_tif_clip_clip//gpcp_1dd_v1.2_p1d.20060525.tif"
       ]
      },
      {
       "output_type": "stream",
       "stream": "stdout",
       "text": [
        "\n",
        "D:\\Data\\GPCP_tif_clip_clip//gpcp_1dd_v1.2_p1d.20060526.tif"
       ]
      },
      {
       "output_type": "stream",
       "stream": "stdout",
       "text": [
        "\n",
        "D:\\Data\\GPCP_tif_clip_clip//gpcp_1dd_v1.2_p1d.20060527.tif"
       ]
      },
      {
       "output_type": "stream",
       "stream": "stdout",
       "text": [
        "\n",
        "D:\\Data\\GPCP_tif_clip_clip//gpcp_1dd_v1.2_p1d.20060528.tif"
       ]
      },
      {
       "output_type": "stream",
       "stream": "stdout",
       "text": [
        "\n",
        "D:\\Data\\GPCP_tif_clip_clip//gpcp_1dd_v1.2_p1d.20060529.tif"
       ]
      },
      {
       "output_type": "stream",
       "stream": "stdout",
       "text": [
        "\n",
        "D:\\Data\\GPCP_tif_clip_clip//gpcp_1dd_v1.2_p1d.20060530.tif"
       ]
      },
      {
       "output_type": "stream",
       "stream": "stdout",
       "text": [
        "\n",
        "D:\\Data\\GPCP_tif_clip_clip//gpcp_1dd_v1.2_p1d.20060600.tif"
       ]
      },
      {
       "output_type": "stream",
       "stream": "stdout",
       "text": [
        "\n",
        "D:\\Data\\GPCP_tif_clip_clip//gpcp_1dd_v1.2_p1d.20060601.tif"
       ]
      },
      {
       "output_type": "stream",
       "stream": "stdout",
       "text": [
        "\n",
        "D:\\Data\\GPCP_tif_clip_clip//gpcp_1dd_v1.2_p1d.20060602.tif"
       ]
      },
      {
       "output_type": "stream",
       "stream": "stdout",
       "text": [
        "\n",
        "D:\\Data\\GPCP_tif_clip_clip//gpcp_1dd_v1.2_p1d.20060603.tif"
       ]
      },
      {
       "output_type": "stream",
       "stream": "stdout",
       "text": [
        "\n",
        "D:\\Data\\GPCP_tif_clip_clip//gpcp_1dd_v1.2_p1d.20060604.tif"
       ]
      },
      {
       "output_type": "stream",
       "stream": "stdout",
       "text": [
        "\n",
        "D:\\Data\\GPCP_tif_clip_clip//gpcp_1dd_v1.2_p1d.20060605.tif"
       ]
      },
      {
       "output_type": "stream",
       "stream": "stdout",
       "text": [
        "\n",
        "D:\\Data\\GPCP_tif_clip_clip//gpcp_1dd_v1.2_p1d.20060606.tif"
       ]
      },
      {
       "output_type": "stream",
       "stream": "stdout",
       "text": [
        "\n",
        "D:\\Data\\GPCP_tif_clip_clip//gpcp_1dd_v1.2_p1d.20060607.tif"
       ]
      },
      {
       "output_type": "stream",
       "stream": "stdout",
       "text": [
        "\n",
        "D:\\Data\\GPCP_tif_clip_clip//gpcp_1dd_v1.2_p1d.20060608.tif"
       ]
      },
      {
       "output_type": "stream",
       "stream": "stdout",
       "text": [
        "\n",
        "D:\\Data\\GPCP_tif_clip_clip//gpcp_1dd_v1.2_p1d.20060609.tif"
       ]
      },
      {
       "output_type": "stream",
       "stream": "stdout",
       "text": [
        "\n",
        "D:\\Data\\GPCP_tif_clip_clip//gpcp_1dd_v1.2_p1d.20060610.tif"
       ]
      },
      {
       "output_type": "stream",
       "stream": "stdout",
       "text": [
        "\n",
        "D:\\Data\\GPCP_tif_clip_clip//gpcp_1dd_v1.2_p1d.20060611.tif"
       ]
      },
      {
       "output_type": "stream",
       "stream": "stdout",
       "text": [
        "\n",
        "D:\\Data\\GPCP_tif_clip_clip//gpcp_1dd_v1.2_p1d.20060612.tif"
       ]
      },
      {
       "output_type": "stream",
       "stream": "stdout",
       "text": [
        "\n",
        "D:\\Data\\GPCP_tif_clip_clip//gpcp_1dd_v1.2_p1d.20060613.tif"
       ]
      },
      {
       "output_type": "stream",
       "stream": "stdout",
       "text": [
        "\n",
        "D:\\Data\\GPCP_tif_clip_clip//gpcp_1dd_v1.2_p1d.20060614.tif"
       ]
      },
      {
       "output_type": "stream",
       "stream": "stdout",
       "text": [
        "\n",
        "D:\\Data\\GPCP_tif_clip_clip//gpcp_1dd_v1.2_p1d.20060615.tif"
       ]
      },
      {
       "output_type": "stream",
       "stream": "stdout",
       "text": [
        "\n",
        "D:\\Data\\GPCP_tif_clip_clip//gpcp_1dd_v1.2_p1d.20060616.tif"
       ]
      },
      {
       "output_type": "stream",
       "stream": "stdout",
       "text": [
        "\n",
        "D:\\Data\\GPCP_tif_clip_clip//gpcp_1dd_v1.2_p1d.20060617.tif"
       ]
      },
      {
       "output_type": "stream",
       "stream": "stdout",
       "text": [
        "\n",
        "D:\\Data\\GPCP_tif_clip_clip//gpcp_1dd_v1.2_p1d.20060618.tif"
       ]
      },
      {
       "output_type": "stream",
       "stream": "stdout",
       "text": [
        "\n",
        "D:\\Data\\GPCP_tif_clip_clip//gpcp_1dd_v1.2_p1d.20060619.tif"
       ]
      },
      {
       "output_type": "stream",
       "stream": "stdout",
       "text": [
        "\n",
        "D:\\Data\\GPCP_tif_clip_clip//gpcp_1dd_v1.2_p1d.20060620.tif"
       ]
      },
      {
       "output_type": "stream",
       "stream": "stdout",
       "text": [
        "\n",
        "D:\\Data\\GPCP_tif_clip_clip//gpcp_1dd_v1.2_p1d.20060621.tif"
       ]
      },
      {
       "output_type": "stream",
       "stream": "stdout",
       "text": [
        "\n",
        "D:\\Data\\GPCP_tif_clip_clip//gpcp_1dd_v1.2_p1d.20060622.tif"
       ]
      },
      {
       "output_type": "stream",
       "stream": "stdout",
       "text": [
        "\n",
        "D:\\Data\\GPCP_tif_clip_clip//gpcp_1dd_v1.2_p1d.20060623.tif"
       ]
      },
      {
       "output_type": "stream",
       "stream": "stdout",
       "text": [
        "\n",
        "D:\\Data\\GPCP_tif_clip_clip//gpcp_1dd_v1.2_p1d.20060624.tif"
       ]
      },
      {
       "output_type": "stream",
       "stream": "stdout",
       "text": [
        "\n",
        "D:\\Data\\GPCP_tif_clip_clip//gpcp_1dd_v1.2_p1d.20060625.tif"
       ]
      },
      {
       "output_type": "stream",
       "stream": "stdout",
       "text": [
        "\n",
        "D:\\Data\\GPCP_tif_clip_clip//gpcp_1dd_v1.2_p1d.20060626.tif"
       ]
      },
      {
       "output_type": "stream",
       "stream": "stdout",
       "text": [
        "\n",
        "D:\\Data\\GPCP_tif_clip_clip//gpcp_1dd_v1.2_p1d.20060627.tif"
       ]
      },
      {
       "output_type": "stream",
       "stream": "stdout",
       "text": [
        "\n",
        "D:\\Data\\GPCP_tif_clip_clip//gpcp_1dd_v1.2_p1d.20060628.tif"
       ]
      },
      {
       "output_type": "stream",
       "stream": "stdout",
       "text": [
        "\n",
        "D:\\Data\\GPCP_tif_clip_clip//gpcp_1dd_v1.2_p1d.20060629.tif"
       ]
      },
      {
       "output_type": "stream",
       "stream": "stdout",
       "text": [
        "\n",
        "D:\\Data\\GPCP_tif_clip_clip//gpcp_1dd_v1.2_p1d.20060700.tif"
       ]
      },
      {
       "output_type": "stream",
       "stream": "stdout",
       "text": [
        "\n",
        "D:\\Data\\GPCP_tif_clip_clip//gpcp_1dd_v1.2_p1d.20060701.tif"
       ]
      },
      {
       "output_type": "stream",
       "stream": "stdout",
       "text": [
        "\n",
        "D:\\Data\\GPCP_tif_clip_clip//gpcp_1dd_v1.2_p1d.20060702.tif"
       ]
      },
      {
       "output_type": "stream",
       "stream": "stdout",
       "text": [
        "\n",
        "D:\\Data\\GPCP_tif_clip_clip//gpcp_1dd_v1.2_p1d.20060703.tif"
       ]
      },
      {
       "output_type": "stream",
       "stream": "stdout",
       "text": [
        "\n",
        "D:\\Data\\GPCP_tif_clip_clip//gpcp_1dd_v1.2_p1d.20060704.tif"
       ]
      },
      {
       "output_type": "stream",
       "stream": "stdout",
       "text": [
        "\n",
        "D:\\Data\\GPCP_tif_clip_clip//gpcp_1dd_v1.2_p1d.20060705.tif"
       ]
      },
      {
       "output_type": "stream",
       "stream": "stdout",
       "text": [
        "\n",
        "D:\\Data\\GPCP_tif_clip_clip//gpcp_1dd_v1.2_p1d.20060706.tif"
       ]
      },
      {
       "output_type": "stream",
       "stream": "stdout",
       "text": [
        "\n",
        "D:\\Data\\GPCP_tif_clip_clip//gpcp_1dd_v1.2_p1d.20060707.tif"
       ]
      },
      {
       "output_type": "stream",
       "stream": "stdout",
       "text": [
        "\n",
        "D:\\Data\\GPCP_tif_clip_clip//gpcp_1dd_v1.2_p1d.20060708.tif"
       ]
      },
      {
       "output_type": "stream",
       "stream": "stdout",
       "text": [
        "\n",
        "D:\\Data\\GPCP_tif_clip_clip//gpcp_1dd_v1.2_p1d.20060709.tif"
       ]
      },
      {
       "output_type": "stream",
       "stream": "stdout",
       "text": [
        "\n",
        "D:\\Data\\GPCP_tif_clip_clip//gpcp_1dd_v1.2_p1d.20060710.tif"
       ]
      },
      {
       "output_type": "stream",
       "stream": "stdout",
       "text": [
        "\n",
        "D:\\Data\\GPCP_tif_clip_clip//gpcp_1dd_v1.2_p1d.20060711.tif"
       ]
      },
      {
       "output_type": "stream",
       "stream": "stdout",
       "text": [
        "\n",
        "D:\\Data\\GPCP_tif_clip_clip//gpcp_1dd_v1.2_p1d.20060712.tif"
       ]
      },
      {
       "output_type": "stream",
       "stream": "stdout",
       "text": [
        "\n",
        "D:\\Data\\GPCP_tif_clip_clip//gpcp_1dd_v1.2_p1d.20060713.tif"
       ]
      },
      {
       "output_type": "stream",
       "stream": "stdout",
       "text": [
        "\n",
        "D:\\Data\\GPCP_tif_clip_clip//gpcp_1dd_v1.2_p1d.20060714.tif"
       ]
      },
      {
       "output_type": "stream",
       "stream": "stdout",
       "text": [
        "\n",
        "D:\\Data\\GPCP_tif_clip_clip//gpcp_1dd_v1.2_p1d.20060715.tif"
       ]
      },
      {
       "output_type": "stream",
       "stream": "stdout",
       "text": [
        "\n",
        "D:\\Data\\GPCP_tif_clip_clip//gpcp_1dd_v1.2_p1d.20060716.tif"
       ]
      },
      {
       "output_type": "stream",
       "stream": "stdout",
       "text": [
        "\n",
        "D:\\Data\\GPCP_tif_clip_clip//gpcp_1dd_v1.2_p1d.20060717.tif"
       ]
      },
      {
       "output_type": "stream",
       "stream": "stdout",
       "text": [
        "\n",
        "D:\\Data\\GPCP_tif_clip_clip//gpcp_1dd_v1.2_p1d.20060718.tif"
       ]
      },
      {
       "output_type": "stream",
       "stream": "stdout",
       "text": [
        "\n",
        "D:\\Data\\GPCP_tif_clip_clip//gpcp_1dd_v1.2_p1d.20060719.tif"
       ]
      },
      {
       "output_type": "stream",
       "stream": "stdout",
       "text": [
        "\n",
        "D:\\Data\\GPCP_tif_clip_clip//gpcp_1dd_v1.2_p1d.20060720.tif"
       ]
      },
      {
       "output_type": "stream",
       "stream": "stdout",
       "text": [
        "\n",
        "D:\\Data\\GPCP_tif_clip_clip//gpcp_1dd_v1.2_p1d.20060721.tif"
       ]
      },
      {
       "output_type": "stream",
       "stream": "stdout",
       "text": [
        "\n",
        "D:\\Data\\GPCP_tif_clip_clip//gpcp_1dd_v1.2_p1d.20060722.tif"
       ]
      },
      {
       "output_type": "stream",
       "stream": "stdout",
       "text": [
        "\n",
        "D:\\Data\\GPCP_tif_clip_clip//gpcp_1dd_v1.2_p1d.20060723.tif"
       ]
      },
      {
       "output_type": "stream",
       "stream": "stdout",
       "text": [
        "\n",
        "D:\\Data\\GPCP_tif_clip_clip//gpcp_1dd_v1.2_p1d.20060724.tif"
       ]
      },
      {
       "output_type": "stream",
       "stream": "stdout",
       "text": [
        "\n",
        "D:\\Data\\GPCP_tif_clip_clip//gpcp_1dd_v1.2_p1d.20060725.tif"
       ]
      },
      {
       "output_type": "stream",
       "stream": "stdout",
       "text": [
        "\n",
        "D:\\Data\\GPCP_tif_clip_clip//gpcp_1dd_v1.2_p1d.20060726.tif"
       ]
      },
      {
       "output_type": "stream",
       "stream": "stdout",
       "text": [
        "\n",
        "D:\\Data\\GPCP_tif_clip_clip//gpcp_1dd_v1.2_p1d.20060727.tif"
       ]
      },
      {
       "output_type": "stream",
       "stream": "stdout",
       "text": [
        "\n",
        "D:\\Data\\GPCP_tif_clip_clip//gpcp_1dd_v1.2_p1d.20060728.tif"
       ]
      },
      {
       "output_type": "stream",
       "stream": "stdout",
       "text": [
        "\n",
        "D:\\Data\\GPCP_tif_clip_clip//gpcp_1dd_v1.2_p1d.20060729.tif"
       ]
      },
      {
       "output_type": "stream",
       "stream": "stdout",
       "text": [
        "\n",
        "D:\\Data\\GPCP_tif_clip_clip//gpcp_1dd_v1.2_p1d.20060730.tif"
       ]
      },
      {
       "output_type": "stream",
       "stream": "stdout",
       "text": [
        "\n",
        "D:\\Data\\GPCP_tif_clip_clip//gpcp_1dd_v1.2_p1d.20060800.tif"
       ]
      },
      {
       "output_type": "stream",
       "stream": "stdout",
       "text": [
        "\n",
        "D:\\Data\\GPCP_tif_clip_clip//gpcp_1dd_v1.2_p1d.20060801.tif"
       ]
      },
      {
       "output_type": "stream",
       "stream": "stdout",
       "text": [
        "\n",
        "D:\\Data\\GPCP_tif_clip_clip//gpcp_1dd_v1.2_p1d.20060802.tif"
       ]
      },
      {
       "output_type": "stream",
       "stream": "stdout",
       "text": [
        "\n",
        "D:\\Data\\GPCP_tif_clip_clip//gpcp_1dd_v1.2_p1d.20060803.tif"
       ]
      },
      {
       "output_type": "stream",
       "stream": "stdout",
       "text": [
        "\n",
        "D:\\Data\\GPCP_tif_clip_clip//gpcp_1dd_v1.2_p1d.20060804.tif"
       ]
      },
      {
       "output_type": "stream",
       "stream": "stdout",
       "text": [
        "\n",
        "D:\\Data\\GPCP_tif_clip_clip//gpcp_1dd_v1.2_p1d.20060805.tif"
       ]
      },
      {
       "output_type": "stream",
       "stream": "stdout",
       "text": [
        "\n",
        "D:\\Data\\GPCP_tif_clip_clip//gpcp_1dd_v1.2_p1d.20060806.tif"
       ]
      },
      {
       "output_type": "stream",
       "stream": "stdout",
       "text": [
        "\n",
        "D:\\Data\\GPCP_tif_clip_clip//gpcp_1dd_v1.2_p1d.20060807.tif"
       ]
      },
      {
       "output_type": "stream",
       "stream": "stdout",
       "text": [
        "\n",
        "D:\\Data\\GPCP_tif_clip_clip//gpcp_1dd_v1.2_p1d.20060808.tif"
       ]
      },
      {
       "output_type": "stream",
       "stream": "stdout",
       "text": [
        "\n",
        "D:\\Data\\GPCP_tif_clip_clip//gpcp_1dd_v1.2_p1d.20060809.tif"
       ]
      },
      {
       "output_type": "stream",
       "stream": "stdout",
       "text": [
        "\n",
        "D:\\Data\\GPCP_tif_clip_clip//gpcp_1dd_v1.2_p1d.20060810.tif"
       ]
      },
      {
       "output_type": "stream",
       "stream": "stdout",
       "text": [
        "\n",
        "D:\\Data\\GPCP_tif_clip_clip//gpcp_1dd_v1.2_p1d.20060811.tif"
       ]
      },
      {
       "output_type": "stream",
       "stream": "stdout",
       "text": [
        "\n"
       ]
      }
     ],
     "prompt_number": 22
    }
   ],
   "metadata": {}
  }
 ]
}