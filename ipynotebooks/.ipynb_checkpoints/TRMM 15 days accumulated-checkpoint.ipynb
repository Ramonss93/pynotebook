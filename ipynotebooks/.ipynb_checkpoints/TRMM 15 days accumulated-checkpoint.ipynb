{
 "metadata": {
  "name": "",
  "signature": "sha256:cb59b548fa884d6566ebc0c2c0d8935b5e17eb6c5c945fe515ca7133fa4377d3"
 },
 "nbformat": 3,
 "nbformat_minor": 0,
 "worksheets": [
  {
   "cells": [
    {
     "cell_type": "code",
     "collapsed": false,
     "input": [
      "from mattijn import dikkelul as dl\n",
      "import numpy as np\n",
      "import os\n",
      "from osgeo import gdal"
     ],
     "language": "python",
     "metadata": {},
     "outputs": [],
     "prompt_number": 15
    },
    {
     "cell_type": "heading",
     "level": 3,
     "metadata": {},
     "source": [
      "Accumulate the Annual Mean Data"
     ]
    },
    {
     "cell_type": "code",
     "collapsed": false,
     "input": [
      "path = r'D:\\Data\\0_DAILY_INTERVAL_NDVI_TRMM\\InnerMongolia\\TRMM2\\5_Day_Period\\5_DaySums_AnnualMean'\n",
      "outfolder = r'D:\\Data\\0_DAILY_INTERVAL_NDVI_TRMM\\InnerMongolia\\TRMM2\\5_Day_Period\\5_DaySums_AnnualMean_Accumulated//'\n",
      "\n",
      "files = dl.FilesFolder(path, format_end='.tif')\n",
      "\n",
      "ds = gdal.Open(files[0])\n",
      "band = ds.GetRasterBand(1)\n",
      "barray = band.ReadAsArray()\n",
      "nan = band.GetNoDataValue()\n",
      "print (nan)\n",
      "\n",
      "base = np.full_like(barray, nan)\n",
      "for i in range(0,len(files),5):\n",
      "    print ('\\n',i)\n",
      "    \n",
      "    base = base[None] # add another dimenstion for vstack\n",
      "    array = gdal.Open(files[i]).ReadAsArray().astype(float)\n",
      "    array = array[None] # add another dimension for vstack\n",
      "    print(array.max())\n",
      "    base = np.vstack((base,array)) # vstack all rasters with same doy\n",
      "    print (base.shape)\n",
      "    # mask where value is nan\n",
      "    base = np.ma.masked_equal(base, nan)        \n",
      "    base = np.sum(base, axis=0) # calculate sum\n",
      "    print ('2nd',base.max())\n",
      "    \n",
      "    outpath = outfolder+files[i][-15::]\n",
      "    #print (outpath)\n",
      "    dl.saveRaster(outpath, base, ds, 6, nan=nan)\n",
      "    \n",
      "    # set values for new loop\n",
      "    base = base.data\n",
      "    #base = base[None]"
     ],
     "language": "python",
     "metadata": {},
     "outputs": [
      {
       "output_type": "stream",
       "stream": "stdout",
       "text": [
        "-99999.0\n",
        "\n",
        " 0\n",
        "3.64086103439\n",
        "(2, 35, 48)\n",
        "2nd 3.64086103439\n",
        "\n",
        " 5\n",
        "2.16025257111\n",
        "(2, 35, 48)\n",
        "2nd 4.7786924839\n",
        "\n",
        " 10\n",
        "1.71914243698\n",
        "(2, 35, 48)\n",
        "2nd 4.9579192847\n",
        "\n",
        " 15\n",
        "4.89214038849\n",
        "(2, 35, 48)\n",
        "2nd 8.6388001442\n",
        "\n",
        " 20\n",
        "2.74940228462\n",
        "(2, 35, 48)\n",
        "2nd 9.83188450336\n",
        "\n",
        " 25\n",
        "2.19090557098\n",
        "(2, 35, 48)\n",
        "2nd 10.3633239865\n",
        "\n",
        " 30\n",
        "3.90363574028\n",
        "(2, 35, 48)\n",
        "2nd 12.6399523467\n",
        "\n",
        " 35\n",
        "2.83148622513\n",
        "(2, 35, 48)\n",
        "2nd 13.0811102241\n",
        "\n",
        " 40\n",
        "4.84009599686\n",
        "(2, 35, 48)\n",
        "2nd 16.709618777\n",
        "\n",
        " 45\n",
        "5.32209825516\n",
        "(2, 35, 48)\n",
        "2nd 18.0266413987\n",
        "\n"
       ]
      },
      {
       "output_type": "stream",
       "stream": "stdout",
       "text": [
        " 50\n",
        "2.52209186554\n",
        "(2, 35, 48)\n",
        "2nd 18.5662288964\n",
        "\n",
        " 55\n",
        "9.48793983459\n",
        "(2, 35, 48)\n",
        "2nd 24.252273351\n",
        "\n",
        " 60\n",
        "6.06369447708\n",
        "(2, 35, 48)\n",
        "2nd 29.704433471\n",
        "\n",
        " 65\n",
        "12.492647171\n",
        "(2, 35, 48)\n",
        "2nd 38.4405012429\n",
        "\n",
        " 70\n",
        "5.28038787842\n",
        "(2, 35, 48)\n",
        "2nd 41.3599570096\n",
        "\n",
        " 75\n",
        "8.04581451416\n",
        "(2, 35, 48)\n",
        "2nd 44.8233911097\n",
        "\n",
        " 80\n",
        "10.0395011902\n",
        "(2, 35, 48)\n",
        "2nd 50.5310122073\n",
        "\n",
        " 85\n",
        "10.0762643814\n",
        "(2, 35, 48)\n",
        "2nd 50.985150069\n",
        "\n",
        " 90\n",
        "13.1077690125\n",
        "(2, 35, 48)\n",
        "2nd 58.5840065181\n",
        "\n",
        " 95\n",
        "16.750246048\n",
        "(2, 35, 48)\n",
        "2nd 75.3342525661\n",
        "\n"
       ]
      },
      {
       "output_type": "stream",
       "stream": "stdout",
       "text": [
        " 100\n",
        "17.1859798431\n",
        "(2, 35, 48)\n",
        "2nd 87.0017435253\n",
        "\n",
        " 105\n",
        "25.2793464661\n",
        "(2, 35, 48)\n",
        "2nd 100.806298465\n",
        "\n",
        " 110\n",
        "26.868478775\n",
        "(2, 35, 48)\n",
        "2nd 117.898943782\n",
        "\n",
        " 115\n",
        "25.1703643799\n",
        "(2, 35, 48)\n",
        "2nd 143.069308162\n",
        "\n",
        " 120\n",
        "24.1018257141\n",
        "(2, 35, 48)\n",
        "2nd 167.171133876\n",
        "\n",
        " 125\n",
        "42.6354675293\n",
        "(2, 35, 48)\n",
        "2nd 209.806601405\n",
        "\n",
        " 130\n",
        "40.8646774292\n",
        "(2, 35, 48)\n",
        "2nd 250.671278834\n",
        "\n",
        " 135\n",
        "47.4282684326\n",
        "(2, 35, 48)\n",
        "2nd 298.099547267\n",
        "\n",
        " 140\n",
        "49.749584198\n",
        "(2, 35, 48)\n",
        "2nd 347.849131465\n",
        "\n",
        " 145\n",
        "58.1627883911\n",
        "(2, 35, 48)\n",
        "2nd 406.011919856\n",
        "\n",
        " 150\n",
        "44.8841705322"
       ]
      },
      {
       "output_type": "stream",
       "stream": "stdout",
       "text": [
        "\n",
        "(2, 35, 48)\n",
        "2nd 450.896090388\n",
        "\n",
        " 155\n",
        "49.4933013916\n",
        "(2, 35, 48)\n",
        "2nd 500.38939178\n",
        "\n",
        " 160\n",
        "47.0611801147\n",
        "(2, 35, 48)\n",
        "2nd 547.450571895\n",
        "\n",
        " 165\n",
        "42.555305481\n",
        "(2, 35, 48)\n",
        "2nd 590.005877376\n",
        "\n",
        " 170\n",
        "37.0150985718\n",
        "(2, 35, 48)\n",
        "2nd 627.020975947\n",
        "\n",
        " 175\n",
        "43.2049751282\n",
        "(2, 35, 48)\n",
        "2nd 669.052168727\n",
        "\n",
        " 180\n",
        "44.5471992493\n",
        "(2, 35, 48)\n",
        "2nd 709.489142299\n",
        "\n",
        " 185\n",
        "41.9682693481\n",
        "(2, 35, 48)\n",
        "2nd 751.457411647\n",
        "\n",
        " 190\n",
        "43.6822929382\n",
        "(2, 35, 48)\n",
        "2nd 788.52812469\n",
        "\n",
        " 195\n",
        "49.7263412476\n",
        "(2, 35, 48)\n",
        "2nd 821.279566646\n",
        "\n",
        " 200\n",
        "50.5590744019\n",
        "(2, 35, 48)\n",
        "2nd 852.359780192\n",
        "\n"
       ]
      },
      {
       "output_type": "stream",
       "stream": "stdout",
       "text": [
        " 205\n",
        "49.3360099792\n",
        "(2, 35, 48)\n",
        "2nd 891.787960887\n",
        "\n",
        " 210\n",
        "80.8568725586\n",
        "(2, 35, 48)\n",
        "2nd 927.543412089\n",
        "\n",
        " 215\n",
        "72.8422775269\n",
        "(2, 35, 48)\n",
        "2nd 963.772896647\n",
        "\n",
        " 220\n",
        "64.4292907715\n",
        "(2, 35, 48)\n",
        "2nd 995.556980968\n",
        "\n",
        " 225\n",
        "43.0351791382\n",
        "(2, 35, 48)\n",
        "2nd 1037.38021171\n",
        "\n",
        " 230\n",
        "42.3598632813\n",
        "(2, 35, 48)\n",
        "2nd 1079.74007499\n",
        "\n",
        " 235\n",
        "46.158531189\n",
        "(2, 35, 48)\n",
        "2nd 1125.89860618\n",
        "\n",
        " 240\n",
        "52.6045074463\n",
        "(2, 35, 48)\n",
        "2nd 1168.29668128\n",
        "\n",
        " 245\n",
        "47.6354598999\n",
        "(2, 35, 48)\n",
        "2nd 1215.93214118\n",
        "\n",
        " 250\n",
        "40.3506774902\n",
        "(2, 35, 48)\n",
        "2nd 1256.28281868\n",
        "\n",
        " 255\n",
        "43.4373817444\n",
        "(2, 35, 48)\n",
        "2nd 1299.72020042\n",
        "\n",
        " 260\n",
        "37.280002594"
       ]
      },
      {
       "output_type": "stream",
       "stream": "stdout",
       "text": [
        "\n",
        "(2, 35, 48)\n",
        "2nd 1337.00020301\n",
        "\n",
        " 265\n",
        "38.577255249\n",
        "(2, 35, 48)\n",
        "2nd 1375.57745826\n",
        "\n",
        " 270\n",
        "26.1916427612\n",
        "(2, 35, 48)\n",
        "2nd 1401.76910102\n",
        "\n",
        " 275\n",
        "20.3366737366\n",
        "(2, 35, 48)\n",
        "2nd 1422.10577476\n",
        "\n",
        " 280\n",
        "25.8295612335\n",
        "(2, 35, 48)\n",
        "2nd 1446.75585067\n",
        "\n",
        " 285\n",
        "21.5144767761\n",
        "(2, 35, 48)\n",
        "2nd 1456.00685871\n",
        "\n",
        " 290\n",
        "23.5424213409\n",
        "(2, 35, 48)\n",
        "2nd 1461.60617054\n",
        "\n",
        " 295\n",
        "21.0743179321\n",
        "(2, 35, 48)\n",
        "2nd 1465.0670706\n",
        "\n",
        " 300\n",
        "17.3508491516\n",
        "(2, 35, 48)\n",
        "2nd 1465.59250712\n",
        "\n",
        " 305\n",
        "14.4276227951\n",
        "(2, 35, 48)\n",
        "2nd 1466.19426244\n",
        "\n",
        " 310\n",
        "14.0804424286\n",
        "(2, 35, 48)\n",
        "2nd 1467.33764285\n",
        "\n",
        " 315\n",
        "16.3319377899"
       ]
      },
      {
       "output_type": "stream",
       "stream": "stdout",
       "text": [
        "\n",
        "(2, 35, 48)\n",
        "2nd 1470.10002416\n",
        "\n",
        " 320\n",
        "6.26547908783\n",
        "(2, 35, 48)\n",
        "2nd 1470.20851534\n",
        "\n",
        " 325\n",
        "6.17322874069\n",
        "(2, 35, 48)\n",
        "2nd 1471.55945664\n",
        "\n",
        " 330\n",
        "6.65775585175\n",
        "(2, 35, 48)\n",
        "2nd 1473.72539907\n",
        "\n",
        " 335\n",
        "5.25671768188\n",
        "(2, 35, 48)\n",
        "2nd 1474.75172441\n",
        "\n",
        " 340\n",
        "6.27623558044\n",
        "(2, 35, 48)\n",
        "2nd 1477.748784\n",
        "\n",
        " 345\n",
        "3.19980573654\n",
        "(2, 35, 48)\n",
        "2nd 1478.62545579\n",
        "\n",
        " 350\n",
        "3.6231803894\n",
        "(2, 35, 48)\n",
        "2nd 1479.49244439\n",
        "\n",
        " 355\n",
        "4.55292224884\n",
        "(2, 35, 48)\n",
        "2nd 1480.67535018\n",
        "\n",
        " 360\n",
        "5.01443815231\n",
        "(2, 35, 48)\n",
        "2nd 1482.57089555\n",
        "\n",
        " 365\n",
        "8.68131923676\n",
        "(2, 35, 48)\n",
        "2nd 1486.24277698\n"
       ]
      }
     ],
     "prompt_number": 16
    },
    {
     "cell_type": "heading",
     "level": 3,
     "metadata": {},
     "source": [
      "Accumulate the 15_DaySums Data"
     ]
    },
    {
     "cell_type": "code",
     "collapsed": false,
     "input": [
      "path = r'D:\\Data\\0_DAILY_INTERVAL_NDVI_TRMM\\InnerMongolia\\TRMM2\\5_Day_Period\\5_DaySums'\n",
      "outfolder = r'D:\\Data\\0_DAILY_INTERVAL_NDVI_TRMM\\InnerMongolia\\TRMM2\\5_Day_Period\\5_DaySums_Accumulated//'\n",
      "files = dl.FilesFolder(path, '.tif')\n",
      "ds = gdal.Open(files[0])\n",
      "band = ds.GetRasterBand(1)\n",
      "nan = band.GetNoDataValue()\n",
      "\n",
      "ds_arr = ds.ReadAsArray()\n",
      "base = np.full_like(ds_arr, nan)\n",
      "base = base[None]\n",
      "\n",
      "for i in range(2003,2013):\n",
      "    print (i)\n",
      "    ln = []\n",
      "    for j in files:\n",
      "        #print (j[-11:-7])\n",
      "        if i == int(j[-11:-7]):\n",
      "            #print ('ok')\n",
      "            ln.append(j)\n",
      "            \n",
      "    base = np.full_like(barray, nan)\n",
      "    for g in range(0,len(ln),5): # set interval step (correspond to XX_DaySums)\n",
      "                  \n",
      "        print (g)\n",
      "        \n",
      "        base = base[None] # add another dimenstion for vstack\n",
      "        array = gdal.Open(ln[g]).ReadAsArray().astype(float)\n",
      "        array = array[None] # add another dimension for vstack\n",
      "        base = np.vstack((base,array)) # vstack all rasters with same doy\n",
      "\n",
      "        # mask where value is nan\n",
      "        base = np.ma.masked_equal(base, nan)        \n",
      "        base = np.sum(base, axis=0) # calculate sum\n",
      "        \n",
      "\n",
      "        outpath = outfolder+ln[g][-19::]\n",
      "        print (outpath)\n",
      "        dl.saveRaster(outpath, base, ds, 6, nan=nan)\n",
      "\n",
      "        # set values for new loop\n",
      "        base = base.data\n",
      "        #base = base[None]\n",
      "    base = None"
     ],
     "language": "python",
     "metadata": {},
     "outputs": [
      {
       "output_type": "stream",
       "stream": "stdout",
       "text": [
        "2003\n",
        "0\n",
        "D:\\Data\\0_DAILY_INTERVAL_NDVI_TRMM\\InnerMongolia\\TRMM2\\5_Day_Period\\5_DaySums_Accumulated//TRMM_IM_2003001.tif\n",
        "5\n",
        "D:\\Data\\0_DAILY_INTERVAL_NDVI_TRMM\\InnerMongolia\\TRMM2\\5_Day_Period\\5_DaySums_Accumulated//TRMM_IM_2003006.tif\n",
        "10\n",
        "D:\\Data\\0_DAILY_INTERVAL_NDVI_TRMM\\InnerMongolia\\TRMM2\\5_Day_Period\\5_DaySums_Accumulated//TRMM_IM_2003011.tif\n",
        "15\n",
        "D:\\Data\\0_DAILY_INTERVAL_NDVI_TRMM\\InnerMongolia\\TRMM2\\5_Day_Period\\5_DaySums_Accumulated//TRMM_IM_2003016.tif\n",
        "20"
       ]
      },
      {
       "output_type": "stream",
       "stream": "stdout",
       "text": [
        "\n",
        "D:\\Data\\0_DAILY_INTERVAL_NDVI_TRMM\\InnerMongolia\\TRMM2\\5_Day_Period\\5_DaySums_Accumulated//TRMM_IM_2003021.tif\n",
        "25\n",
        "D:\\Data\\0_DAILY_INTERVAL_NDVI_TRMM\\InnerMongolia\\TRMM2\\5_Day_Period\\5_DaySums_Accumulated//TRMM_IM_2003026.tif\n",
        "30\n",
        "D:\\Data\\0_DAILY_INTERVAL_NDVI_TRMM\\InnerMongolia\\TRMM2\\5_Day_Period\\5_DaySums_Accumulated//TRMM_IM_2003031.tif\n",
        "35\n",
        "D:\\Data\\0_DAILY_INTERVAL_NDVI_TRMM\\InnerMongolia\\TRMM2\\5_Day_Period\\5_DaySums_Accumulated//TRMM_IM_2003036.tif\n",
        "40\n",
        "D:\\Data\\0_DAILY_INTERVAL_NDVI_TRMM\\InnerMongolia\\TRMM2\\5_Day_Period\\5_DaySums_Accumulated//TRMM_IM_2003041.tif"
       ]
      },
      {
       "output_type": "stream",
       "stream": "stdout",
       "text": [
        "\n",
        "45\n",
        "D:\\Data\\0_DAILY_INTERVAL_NDVI_TRMM\\InnerMongolia\\TRMM2\\5_Day_Period\\5_DaySums_Accumulated//TRMM_IM_2003046.tif\n",
        "50\n",
        "D:\\Data\\0_DAILY_INTERVAL_NDVI_TRMM\\InnerMongolia\\TRMM2\\5_Day_Period\\5_DaySums_Accumulated//TRMM_IM_2003051.tif\n",
        "55\n",
        "D:\\Data\\0_DAILY_INTERVAL_NDVI_TRMM\\InnerMongolia\\TRMM2\\5_Day_Period\\5_DaySums_Accumulated//TRMM_IM_2003056.tif\n",
        "60\n",
        "D:\\Data\\0_DAILY_INTERVAL_NDVI_TRMM\\InnerMongolia\\TRMM2\\5_Day_Period\\5_DaySums_Accumulated//TRMM_IM_2003061.tif\n",
        "65"
       ]
      },
      {
       "output_type": "stream",
       "stream": "stdout",
       "text": [
        "\n",
        "D:\\Data\\0_DAILY_INTERVAL_NDVI_TRMM\\InnerMongolia\\TRMM2\\5_Day_Period\\5_DaySums_Accumulated//TRMM_IM_2003066.tif\n",
        "70\n",
        "D:\\Data\\0_DAILY_INTERVAL_NDVI_TRMM\\InnerMongolia\\TRMM2\\5_Day_Period\\5_DaySums_Accumulated//TRMM_IM_2003071.tif\n",
        "75\n",
        "D:\\Data\\0_DAILY_INTERVAL_NDVI_TRMM\\InnerMongolia\\TRMM2\\5_Day_Period\\5_DaySums_Accumulated//TRMM_IM_2003076.tif\n",
        "80\n",
        "D:\\Data\\0_DAILY_INTERVAL_NDVI_TRMM\\InnerMongolia\\TRMM2\\5_Day_Period\\5_DaySums_Accumulated//TRMM_IM_2003081.tif\n",
        "85\n",
        "D:\\Data\\0_DAILY_INTERVAL_NDVI_TRMM\\InnerMongolia\\TRMM2\\5_Day_Period\\5_DaySums_Accumulated//TRMM_IM_2003086.tif"
       ]
      },
      {
       "output_type": "stream",
       "stream": "stdout",
       "text": [
        "\n",
        "90\n",
        "D:\\Data\\0_DAILY_INTERVAL_NDVI_TRMM\\InnerMongolia\\TRMM2\\5_Day_Period\\5_DaySums_Accumulated//TRMM_IM_2003091.tif\n",
        "95\n",
        "D:\\Data\\0_DAILY_INTERVAL_NDVI_TRMM\\InnerMongolia\\TRMM2\\5_Day_Period\\5_DaySums_Accumulated//TRMM_IM_2003096.tif\n",
        "100\n",
        "D:\\Data\\0_DAILY_INTERVAL_NDVI_TRMM\\InnerMongolia\\TRMM2\\5_Day_Period\\5_DaySums_Accumulated//TRMM_IM_2003101.tif\n",
        "105\n",
        "D:\\Data\\0_DAILY_INTERVAL_NDVI_TRMM\\InnerMongolia\\TRMM2\\5_Day_Period\\5_DaySums_Accumulated//TRMM_IM_2003106.tif\n",
        "110"
       ]
      },
      {
       "output_type": "stream",
       "stream": "stdout",
       "text": [
        "\n",
        "D:\\Data\\0_DAILY_INTERVAL_NDVI_TRMM\\InnerMongolia\\TRMM2\\5_Day_Period\\5_DaySums_Accumulated//TRMM_IM_2003111.tif\n",
        "115\n",
        "D:\\Data\\0_DAILY_INTERVAL_NDVI_TRMM\\InnerMongolia\\TRMM2\\5_Day_Period\\5_DaySums_Accumulated//TRMM_IM_2003116.tif\n",
        "120\n",
        "D:\\Data\\0_DAILY_INTERVAL_NDVI_TRMM\\InnerMongolia\\TRMM2\\5_Day_Period\\5_DaySums_Accumulated//TRMM_IM_2003121.tif\n",
        "125\n",
        "D:\\Data\\0_DAILY_INTERVAL_NDVI_TRMM\\InnerMongolia\\TRMM2\\5_Day_Period\\5_DaySums_Accumulated//TRMM_IM_2003126.tif\n",
        "130\n",
        "D:\\Data\\0_DAILY_INTERVAL_NDVI_TRMM\\InnerMongolia\\TRMM2\\5_Day_Period\\5_DaySums_Accumulated//TRMM_IM_2003131.tif"
       ]
      },
      {
       "output_type": "stream",
       "stream": "stdout",
       "text": [
        "\n",
        "135\n",
        "D:\\Data\\0_DAILY_INTERVAL_NDVI_TRMM\\InnerMongolia\\TRMM2\\5_Day_Period\\5_DaySums_Accumulated//TRMM_IM_2003136.tif\n",
        "140\n",
        "D:\\Data\\0_DAILY_INTERVAL_NDVI_TRMM\\InnerMongolia\\TRMM2\\5_Day_Period\\5_DaySums_Accumulated//TRMM_IM_2003141.tif\n",
        "145\n",
        "D:\\Data\\0_DAILY_INTERVAL_NDVI_TRMM\\InnerMongolia\\TRMM2\\5_Day_Period\\5_DaySums_Accumulated//TRMM_IM_2003146.tif\n",
        "150\n",
        "D:\\Data\\0_DAILY_INTERVAL_NDVI_TRMM\\InnerMongolia\\TRMM2\\5_Day_Period\\5_DaySums_Accumulated//TRMM_IM_2003151.tif\n",
        "155"
       ]
      },
      {
       "output_type": "stream",
       "stream": "stdout",
       "text": [
        "\n",
        "D:\\Data\\0_DAILY_INTERVAL_NDVI_TRMM\\InnerMongolia\\TRMM2\\5_Day_Period\\5_DaySums_Accumulated//TRMM_IM_2003156.tif\n",
        "160\n",
        "D:\\Data\\0_DAILY_INTERVAL_NDVI_TRMM\\InnerMongolia\\TRMM2\\5_Day_Period\\5_DaySums_Accumulated//TRMM_IM_2003161.tif\n",
        "165\n",
        "D:\\Data\\0_DAILY_INTERVAL_NDVI_TRMM\\InnerMongolia\\TRMM2\\5_Day_Period\\5_DaySums_Accumulated//TRMM_IM_2003166.tif\n",
        "170\n",
        "D:\\Data\\0_DAILY_INTERVAL_NDVI_TRMM\\InnerMongolia\\TRMM2\\5_Day_Period\\5_DaySums_Accumulated//TRMM_IM_2003171.tif\n",
        "175\n",
        "D:\\Data\\0_DAILY_INTERVAL_NDVI_TRMM\\InnerMongolia\\TRMM2\\5_Day_Period\\5_DaySums_Accumulated//TRMM_IM_2003176.tif"
       ]
      },
      {
       "output_type": "stream",
       "stream": "stdout",
       "text": [
        "\n",
        "180\n",
        "D:\\Data\\0_DAILY_INTERVAL_NDVI_TRMM\\InnerMongolia\\TRMM2\\5_Day_Period\\5_DaySums_Accumulated//TRMM_IM_2003181.tif\n",
        "185\n",
        "D:\\Data\\0_DAILY_INTERVAL_NDVI_TRMM\\InnerMongolia\\TRMM2\\5_Day_Period\\5_DaySums_Accumulated//TRMM_IM_2003186.tif\n",
        "190\n",
        "D:\\Data\\0_DAILY_INTERVAL_NDVI_TRMM\\InnerMongolia\\TRMM2\\5_Day_Period\\5_DaySums_Accumulated//TRMM_IM_2003191.tif\n",
        "195\n",
        "D:\\Data\\0_DAILY_INTERVAL_NDVI_TRMM\\InnerMongolia\\TRMM2\\5_Day_Period\\5_DaySums_Accumulated//TRMM_IM_2003196.tif\n",
        "200"
       ]
      },
      {
       "output_type": "stream",
       "stream": "stdout",
       "text": [
        "\n",
        "D:\\Data\\0_DAILY_INTERVAL_NDVI_TRMM\\InnerMongolia\\TRMM2\\5_Day_Period\\5_DaySums_Accumulated//TRMM_IM_2003201.tif\n",
        "205\n",
        "D:\\Data\\0_DAILY_INTERVAL_NDVI_TRMM\\InnerMongolia\\TRMM2\\5_Day_Period\\5_DaySums_Accumulated//TRMM_IM_2003206.tif\n",
        "210\n",
        "D:\\Data\\0_DAILY_INTERVAL_NDVI_TRMM\\InnerMongolia\\TRMM2\\5_Day_Period\\5_DaySums_Accumulated//TRMM_IM_2003211.tif\n",
        "215\n",
        "D:\\Data\\0_DAILY_INTERVAL_NDVI_TRMM\\InnerMongolia\\TRMM2\\5_Day_Period\\5_DaySums_Accumulated//TRMM_IM_2003216.tif\n",
        "220\n",
        "D:\\Data\\0_DAILY_INTERVAL_NDVI_TRMM\\InnerMongolia\\TRMM2\\5_Day_Period\\5_DaySums_Accumulated//TRMM_IM_2003221.tif"
       ]
      },
      {
       "output_type": "stream",
       "stream": "stdout",
       "text": [
        "\n",
        "225\n",
        "D:\\Data\\0_DAILY_INTERVAL_NDVI_TRMM\\InnerMongolia\\TRMM2\\5_Day_Period\\5_DaySums_Accumulated//TRMM_IM_2003226.tif\n",
        "230\n",
        "D:\\Data\\0_DAILY_INTERVAL_NDVI_TRMM\\InnerMongolia\\TRMM2\\5_Day_Period\\5_DaySums_Accumulated//TRMM_IM_2003231.tif\n",
        "235\n",
        "D:\\Data\\0_DAILY_INTERVAL_NDVI_TRMM\\InnerMongolia\\TRMM2\\5_Day_Period\\5_DaySums_Accumulated//TRMM_IM_2003236.tif\n",
        "240\n",
        "D:\\Data\\0_DAILY_INTERVAL_NDVI_TRMM\\InnerMongolia\\TRMM2\\5_Day_Period\\5_DaySums_Accumulated//TRMM_IM_2003241.tif\n",
        "245"
       ]
      },
      {
       "output_type": "stream",
       "stream": "stdout",
       "text": [
        "\n",
        "D:\\Data\\0_DAILY_INTERVAL_NDVI_TRMM\\InnerMongolia\\TRMM2\\5_Day_Period\\5_DaySums_Accumulated//TRMM_IM_2003246.tif\n",
        "250\n",
        "D:\\Data\\0_DAILY_INTERVAL_NDVI_TRMM\\InnerMongolia\\TRMM2\\5_Day_Period\\5_DaySums_Accumulated//TRMM_IM_2003251.tif\n",
        "255\n",
        "D:\\Data\\0_DAILY_INTERVAL_NDVI_TRMM\\InnerMongolia\\TRMM2\\5_Day_Period\\5_DaySums_Accumulated//TRMM_IM_2003256.tif\n",
        "260\n",
        "D:\\Data\\0_DAILY_INTERVAL_NDVI_TRMM\\InnerMongolia\\TRMM2\\5_Day_Period\\5_DaySums_Accumulated//TRMM_IM_2003261.tif\n",
        "265"
       ]
      },
      {
       "output_type": "stream",
       "stream": "stdout",
       "text": [
        "\n",
        "D:\\Data\\0_DAILY_INTERVAL_NDVI_TRMM\\InnerMongolia\\TRMM2\\5_Day_Period\\5_DaySums_Accumulated//TRMM_IM_2003266.tif\n",
        "270\n",
        "D:\\Data\\0_DAILY_INTERVAL_NDVI_TRMM\\InnerMongolia\\TRMM2\\5_Day_Period\\5_DaySums_Accumulated//TRMM_IM_2003271.tif\n",
        "275\n",
        "D:\\Data\\0_DAILY_INTERVAL_NDVI_TRMM\\InnerMongolia\\TRMM2\\5_Day_Period\\5_DaySums_Accumulated//TRMM_IM_2003276.tif\n",
        "280\n",
        "D:\\Data\\0_DAILY_INTERVAL_NDVI_TRMM\\InnerMongolia\\TRMM2\\5_Day_Period\\5_DaySums_Accumulated//TRMM_IM_2003281.tif\n",
        "285\n",
        "D:\\Data\\0_DAILY_INTERVAL_NDVI_TRMM\\InnerMongolia\\TRMM2\\5_Day_Period\\5_DaySums_Accumulated//TRMM_IM_2003286.tif"
       ]
      },
      {
       "output_type": "stream",
       "stream": "stdout",
       "text": [
        "\n",
        "290\n",
        "D:\\Data\\0_DAILY_INTERVAL_NDVI_TRMM\\InnerMongolia\\TRMM2\\5_Day_Period\\5_DaySums_Accumulated//TRMM_IM_2003291.tif\n",
        "295\n",
        "D:\\Data\\0_DAILY_INTERVAL_NDVI_TRMM\\InnerMongolia\\TRMM2\\5_Day_Period\\5_DaySums_Accumulated//TRMM_IM_2003296.tif\n",
        "300\n",
        "D:\\Data\\0_DAILY_INTERVAL_NDVI_TRMM\\InnerMongolia\\TRMM2\\5_Day_Period\\5_DaySums_Accumulated//TRMM_IM_2003301.tif\n",
        "305\n",
        "D:\\Data\\0_DAILY_INTERVAL_NDVI_TRMM\\InnerMongolia\\TRMM2\\5_Day_Period\\5_DaySums_Accumulated//TRMM_IM_2003306.tif\n"
       ]
      },
      {
       "output_type": "stream",
       "stream": "stdout",
       "text": [
        "310\n",
        "D:\\Data\\0_DAILY_INTERVAL_NDVI_TRMM\\InnerMongolia\\TRMM2\\5_Day_Period\\5_DaySums_Accumulated//TRMM_IM_2003311.tif\n",
        "315\n",
        "D:\\Data\\0_DAILY_INTERVAL_NDVI_TRMM\\InnerMongolia\\TRMM2\\5_Day_Period\\5_DaySums_Accumulated//TRMM_IM_2003316.tif\n",
        "320\n",
        "D:\\Data\\0_DAILY_INTERVAL_NDVI_TRMM\\InnerMongolia\\TRMM2\\5_Day_Period\\5_DaySums_Accumulated//TRMM_IM_2003321.tif\n",
        "325\n",
        "D:\\Data\\0_DAILY_INTERVAL_NDVI_TRMM\\InnerMongolia\\TRMM2\\5_Day_Period\\5_DaySums_Accumulated//TRMM_IM_2003326.tif\n",
        "330\n",
        "D:\\Data\\0_DAILY_INTERVAL_NDVI_TRMM\\InnerMongolia\\TRMM2\\5_Day_Period\\5_DaySums_Accumulated//TRMM_IM_2003331.tif"
       ]
      },
      {
       "output_type": "stream",
       "stream": "stdout",
       "text": [
        "\n",
        "335\n",
        "D:\\Data\\0_DAILY_INTERVAL_NDVI_TRMM\\InnerMongolia\\TRMM2\\5_Day_Period\\5_DaySums_Accumulated//TRMM_IM_2003336.tif\n",
        "340\n",
        "D:\\Data\\0_DAILY_INTERVAL_NDVI_TRMM\\InnerMongolia\\TRMM2\\5_Day_Period\\5_DaySums_Accumulated//TRMM_IM_2003341.tif\n",
        "345\n",
        "D:\\Data\\0_DAILY_INTERVAL_NDVI_TRMM\\InnerMongolia\\TRMM2\\5_Day_Period\\5_DaySums_Accumulated//TRMM_IM_2003346.tif\n",
        "350\n",
        "D:\\Data\\0_DAILY_INTERVAL_NDVI_TRMM\\InnerMongolia\\TRMM2\\5_Day_Period\\5_DaySums_Accumulated//TRMM_IM_2003351.tif\n",
        "355"
       ]
      },
      {
       "output_type": "stream",
       "stream": "stdout",
       "text": [
        "\n",
        "D:\\Data\\0_DAILY_INTERVAL_NDVI_TRMM\\InnerMongolia\\TRMM2\\5_Day_Period\\5_DaySums_Accumulated//TRMM_IM_2003356.tif\n",
        "360\n",
        "D:\\Data\\0_DAILY_INTERVAL_NDVI_TRMM\\InnerMongolia\\TRMM2\\5_Day_Period\\5_DaySums_Accumulated//TRMM_IM_2003361.tif\n",
        "2004\n",
        "0\n",
        "D:\\Data\\0_DAILY_INTERVAL_NDVI_TRMM\\InnerMongolia\\TRMM2\\5_Day_Period\\5_DaySums_Accumulated//TRMM_IM_2004001.tif\n",
        "5\n",
        "D:\\Data\\0_DAILY_INTERVAL_NDVI_TRMM\\InnerMongolia\\TRMM2\\5_Day_Period\\5_DaySums_Accumulated//TRMM_IM_2004006.tif\n",
        "10"
       ]
      },
      {
       "output_type": "stream",
       "stream": "stdout",
       "text": [
        "\n",
        "D:\\Data\\0_DAILY_INTERVAL_NDVI_TRMM\\InnerMongolia\\TRMM2\\5_Day_Period\\5_DaySums_Accumulated//TRMM_IM_2004011.tif\n",
        "15\n",
        "D:\\Data\\0_DAILY_INTERVAL_NDVI_TRMM\\InnerMongolia\\TRMM2\\5_Day_Period\\5_DaySums_Accumulated//TRMM_IM_2004016.tif\n",
        "20\n",
        "D:\\Data\\0_DAILY_INTERVAL_NDVI_TRMM\\InnerMongolia\\TRMM2\\5_Day_Period\\5_DaySums_Accumulated//TRMM_IM_2004021.tif\n",
        "25\n",
        "D:\\Data\\0_DAILY_INTERVAL_NDVI_TRMM\\InnerMongolia\\TRMM2\\5_Day_Period\\5_DaySums_Accumulated//TRMM_IM_2004026.tif\n",
        "30"
       ]
      },
      {
       "output_type": "stream",
       "stream": "stdout",
       "text": [
        "\n",
        "D:\\Data\\0_DAILY_INTERVAL_NDVI_TRMM\\InnerMongolia\\TRMM2\\5_Day_Period\\5_DaySums_Accumulated//TRMM_IM_2004031.tif\n",
        "35\n",
        "D:\\Data\\0_DAILY_INTERVAL_NDVI_TRMM\\InnerMongolia\\TRMM2\\5_Day_Period\\5_DaySums_Accumulated//TRMM_IM_2004036.tif\n",
        "40\n",
        "D:\\Data\\0_DAILY_INTERVAL_NDVI_TRMM\\InnerMongolia\\TRMM2\\5_Day_Period\\5_DaySums_Accumulated//TRMM_IM_2004041.tif\n",
        "45\n",
        "D:\\Data\\0_DAILY_INTERVAL_NDVI_TRMM\\InnerMongolia\\TRMM2\\5_Day_Period\\5_DaySums_Accumulated//TRMM_IM_2004046.tif\n",
        "50\n",
        "D:\\Data\\0_DAILY_INTERVAL_NDVI_TRMM\\InnerMongolia\\TRMM2\\5_Day_Period\\5_DaySums_Accumulated//TRMM_IM_2004051.tif"
       ]
      },
      {
       "output_type": "stream",
       "stream": "stdout",
       "text": [
        "\n",
        "55\n",
        "D:\\Data\\0_DAILY_INTERVAL_NDVI_TRMM\\InnerMongolia\\TRMM2\\5_Day_Period\\5_DaySums_Accumulated//TRMM_IM_2004056.tif\n",
        "60\n",
        "D:\\Data\\0_DAILY_INTERVAL_NDVI_TRMM\\InnerMongolia\\TRMM2\\5_Day_Period\\5_DaySums_Accumulated//TRMM_IM_2004061.tif\n",
        "65\n",
        "D:\\Data\\0_DAILY_INTERVAL_NDVI_TRMM\\InnerMongolia\\TRMM2\\5_Day_Period\\5_DaySums_Accumulated//TRMM_IM_2004066.tif\n",
        "70\n",
        "D:\\Data\\0_DAILY_INTERVAL_NDVI_TRMM\\InnerMongolia\\TRMM2\\5_Day_Period\\5_DaySums_Accumulated//TRMM_IM_2004071.tif"
       ]
      },
      {
       "output_type": "stream",
       "stream": "stdout",
       "text": [
        "\n",
        "75\n",
        "D:\\Data\\0_DAILY_INTERVAL_NDVI_TRMM\\InnerMongolia\\TRMM2\\5_Day_Period\\5_DaySums_Accumulated//TRMM_IM_2004076.tif\n",
        "80\n",
        "D:\\Data\\0_DAILY_INTERVAL_NDVI_TRMM\\InnerMongolia\\TRMM2\\5_Day_Period\\5_DaySums_Accumulated//TRMM_IM_2004081.tif\n",
        "85\n",
        "D:\\Data\\0_DAILY_INTERVAL_NDVI_TRMM\\InnerMongolia\\TRMM2\\5_Day_Period\\5_DaySums_Accumulated//TRMM_IM_2004086.tif\n",
        "90\n",
        "D:\\Data\\0_DAILY_INTERVAL_NDVI_TRMM\\InnerMongolia\\TRMM2\\5_Day_Period\\5_DaySums_Accumulated//TRMM_IM_2004091.tif\n",
        "95"
       ]
      },
      {
       "output_type": "stream",
       "stream": "stdout",
       "text": [
        "\n",
        "D:\\Data\\0_DAILY_INTERVAL_NDVI_TRMM\\InnerMongolia\\TRMM2\\5_Day_Period\\5_DaySums_Accumulated//TRMM_IM_2004096.tif\n",
        "100\n",
        "D:\\Data\\0_DAILY_INTERVAL_NDVI_TRMM\\InnerMongolia\\TRMM2\\5_Day_Period\\5_DaySums_Accumulated//TRMM_IM_2004101.tif\n",
        "105\n",
        "D:\\Data\\0_DAILY_INTERVAL_NDVI_TRMM\\InnerMongolia\\TRMM2\\5_Day_Period\\5_DaySums_Accumulated//TRMM_IM_2004106.tif\n",
        "110\n",
        "D:\\Data\\0_DAILY_INTERVAL_NDVI_TRMM\\InnerMongolia\\TRMM2\\5_Day_Period\\5_DaySums_Accumulated//TRMM_IM_2004111.tif\n",
        "115\n",
        "D:\\Data\\0_DAILY_INTERVAL_NDVI_TRMM\\InnerMongolia\\TRMM2\\5_Day_Period\\5_DaySums_Accumulated//TRMM_IM_2004116.tif"
       ]
      },
      {
       "output_type": "stream",
       "stream": "stdout",
       "text": [
        "\n",
        "120\n",
        "D:\\Data\\0_DAILY_INTERVAL_NDVI_TRMM\\InnerMongolia\\TRMM2\\5_Day_Period\\5_DaySums_Accumulated//TRMM_IM_2004121.tif\n",
        "125\n",
        "D:\\Data\\0_DAILY_INTERVAL_NDVI_TRMM\\InnerMongolia\\TRMM2\\5_Day_Period\\5_DaySums_Accumulated//TRMM_IM_2004126.tif\n",
        "130\n",
        "D:\\Data\\0_DAILY_INTERVAL_NDVI_TRMM\\InnerMongolia\\TRMM2\\5_Day_Period\\5_DaySums_Accumulated//TRMM_IM_2004131.tif\n",
        "135\n",
        "D:\\Data\\0_DAILY_INTERVAL_NDVI_TRMM\\InnerMongolia\\TRMM2\\5_Day_Period\\5_DaySums_Accumulated//TRMM_IM_2004136.tif\n",
        "140"
       ]
      },
      {
       "output_type": "stream",
       "stream": "stdout",
       "text": [
        "\n",
        "D:\\Data\\0_DAILY_INTERVAL_NDVI_TRMM\\InnerMongolia\\TRMM2\\5_Day_Period\\5_DaySums_Accumulated//TRMM_IM_2004141.tif\n",
        "145\n",
        "D:\\Data\\0_DAILY_INTERVAL_NDVI_TRMM\\InnerMongolia\\TRMM2\\5_Day_Period\\5_DaySums_Accumulated//TRMM_IM_2004146.tif\n",
        "150\n",
        "D:\\Data\\0_DAILY_INTERVAL_NDVI_TRMM\\InnerMongolia\\TRMM2\\5_Day_Period\\5_DaySums_Accumulated//TRMM_IM_2004151.tif\n",
        "155\n",
        "D:\\Data\\0_DAILY_INTERVAL_NDVI_TRMM\\InnerMongolia\\TRMM2\\5_Day_Period\\5_DaySums_Accumulated//TRMM_IM_2004156.tif\n",
        "160\n",
        "D:\\Data\\0_DAILY_INTERVAL_NDVI_TRMM\\InnerMongolia\\TRMM2\\5_Day_Period\\5_DaySums_Accumulated//TRMM_IM_2004161.tif"
       ]
      },
      {
       "output_type": "stream",
       "stream": "stdout",
       "text": [
        "\n",
        "165\n",
        "D:\\Data\\0_DAILY_INTERVAL_NDVI_TRMM\\InnerMongolia\\TRMM2\\5_Day_Period\\5_DaySums_Accumulated//TRMM_IM_2004166.tif\n",
        "170\n",
        "D:\\Data\\0_DAILY_INTERVAL_NDVI_TRMM\\InnerMongolia\\TRMM2\\5_Day_Period\\5_DaySums_Accumulated//TRMM_IM_2004171.tif\n",
        "175\n",
        "D:\\Data\\0_DAILY_INTERVAL_NDVI_TRMM\\InnerMongolia\\TRMM2\\5_Day_Period\\5_DaySums_Accumulated//TRMM_IM_2004176.tif\n",
        "180\n",
        "D:\\Data\\0_DAILY_INTERVAL_NDVI_TRMM\\InnerMongolia\\TRMM2\\5_Day_Period\\5_DaySums_Accumulated//TRMM_IM_2004181.tif\n",
        "185"
       ]
      },
      {
       "output_type": "stream",
       "stream": "stdout",
       "text": [
        "\n",
        "D:\\Data\\0_DAILY_INTERVAL_NDVI_TRMM\\InnerMongolia\\TRMM2\\5_Day_Period\\5_DaySums_Accumulated//TRMM_IM_2004186.tif\n",
        "190\n",
        "D:\\Data\\0_DAILY_INTERVAL_NDVI_TRMM\\InnerMongolia\\TRMM2\\5_Day_Period\\5_DaySums_Accumulated//TRMM_IM_2004191.tif\n",
        "195\n",
        "D:\\Data\\0_DAILY_INTERVAL_NDVI_TRMM\\InnerMongolia\\TRMM2\\5_Day_Period\\5_DaySums_Accumulated//TRMM_IM_2004196.tif\n",
        "200\n",
        "D:\\Data\\0_DAILY_INTERVAL_NDVI_TRMM\\InnerMongolia\\TRMM2\\5_Day_Period\\5_DaySums_Accumulated//TRMM_IM_2004201.tif\n",
        "205\n",
        "D:\\Data\\0_DAILY_INTERVAL_NDVI_TRMM\\InnerMongolia\\TRMM2\\5_Day_Period\\5_DaySums_Accumulated//TRMM_IM_2004206.tif"
       ]
      },
      {
       "output_type": "stream",
       "stream": "stdout",
       "text": [
        "\n",
        "210\n",
        "D:\\Data\\0_DAILY_INTERVAL_NDVI_TRMM\\InnerMongolia\\TRMM2\\5_Day_Period\\5_DaySums_Accumulated//TRMM_IM_2004211.tif\n",
        "215\n",
        "D:\\Data\\0_DAILY_INTERVAL_NDVI_TRMM\\InnerMongolia\\TRMM2\\5_Day_Period\\5_DaySums_Accumulated//TRMM_IM_2004216.tif\n",
        "220\n",
        "D:\\Data\\0_DAILY_INTERVAL_NDVI_TRMM\\InnerMongolia\\TRMM2\\5_Day_Period\\5_DaySums_Accumulated//TRMM_IM_2004221.tif\n",
        "225\n",
        "D:\\Data\\0_DAILY_INTERVAL_NDVI_TRMM\\InnerMongolia\\TRMM2\\5_Day_Period\\5_DaySums_Accumulated//TRMM_IM_2004226.tif\n",
        "230"
       ]
      },
      {
       "output_type": "stream",
       "stream": "stdout",
       "text": [
        "\n",
        "D:\\Data\\0_DAILY_INTERVAL_NDVI_TRMM\\InnerMongolia\\TRMM2\\5_Day_Period\\5_DaySums_Accumulated//TRMM_IM_2004231.tif\n",
        "235\n",
        "D:\\Data\\0_DAILY_INTERVAL_NDVI_TRMM\\InnerMongolia\\TRMM2\\5_Day_Period\\5_DaySums_Accumulated//TRMM_IM_2004236.tif\n",
        "240\n",
        "D:\\Data\\0_DAILY_INTERVAL_NDVI_TRMM\\InnerMongolia\\TRMM2\\5_Day_Period\\5_DaySums_Accumulated//TRMM_IM_2004241.tif\n",
        "245\n",
        "D:\\Data\\0_DAILY_INTERVAL_NDVI_TRMM\\InnerMongolia\\TRMM2\\5_Day_Period\\5_DaySums_Accumulated//TRMM_IM_2004246.tif\n",
        "250\n",
        "D:\\Data\\0_DAILY_INTERVAL_NDVI_TRMM\\InnerMongolia\\TRMM2\\5_Day_Period\\5_DaySums_Accumulated//TRMM_IM_2004251.tif"
       ]
      },
      {
       "output_type": "stream",
       "stream": "stdout",
       "text": [
        "\n",
        "255\n",
        "D:\\Data\\0_DAILY_INTERVAL_NDVI_TRMM\\InnerMongolia\\TRMM2\\5_Day_Period\\5_DaySums_Accumulated//TRMM_IM_2004256.tif\n",
        "260\n",
        "D:\\Data\\0_DAILY_INTERVAL_NDVI_TRMM\\InnerMongolia\\TRMM2\\5_Day_Period\\5_DaySums_Accumulated//TRMM_IM_2004261.tif\n",
        "265\n",
        "D:\\Data\\0_DAILY_INTERVAL_NDVI_TRMM\\InnerMongolia\\TRMM2\\5_Day_Period\\5_DaySums_Accumulated//TRMM_IM_2004266.tif\n",
        "270\n",
        "D:\\Data\\0_DAILY_INTERVAL_NDVI_TRMM\\InnerMongolia\\TRMM2\\5_Day_Period\\5_DaySums_Accumulated//TRMM_IM_2004271.tif\n",
        "275"
       ]
      },
      {
       "output_type": "stream",
       "stream": "stdout",
       "text": [
        "\n",
        "D:\\Data\\0_DAILY_INTERVAL_NDVI_TRMM\\InnerMongolia\\TRMM2\\5_Day_Period\\5_DaySums_Accumulated//TRMM_IM_2004276.tif\n",
        "280\n",
        "D:\\Data\\0_DAILY_INTERVAL_NDVI_TRMM\\InnerMongolia\\TRMM2\\5_Day_Period\\5_DaySums_Accumulated//TRMM_IM_2004281.tif\n",
        "285\n",
        "D:\\Data\\0_DAILY_INTERVAL_NDVI_TRMM\\InnerMongolia\\TRMM2\\5_Day_Period\\5_DaySums_Accumulated//TRMM_IM_2004286.tif\n",
        "290\n",
        "D:\\Data\\0_DAILY_INTERVAL_NDVI_TRMM\\InnerMongolia\\TRMM2\\5_Day_Period\\5_DaySums_Accumulated//TRMM_IM_2004291.tif\n",
        "295"
       ]
      },
      {
       "output_type": "stream",
       "stream": "stdout",
       "text": [
        "\n",
        "D:\\Data\\0_DAILY_INTERVAL_NDVI_TRMM\\InnerMongolia\\TRMM2\\5_Day_Period\\5_DaySums_Accumulated//TRMM_IM_2004296.tif\n",
        "300\n",
        "D:\\Data\\0_DAILY_INTERVAL_NDVI_TRMM\\InnerMongolia\\TRMM2\\5_Day_Period\\5_DaySums_Accumulated//TRMM_IM_2004301.tif\n",
        "305\n",
        "D:\\Data\\0_DAILY_INTERVAL_NDVI_TRMM\\InnerMongolia\\TRMM2\\5_Day_Period\\5_DaySums_Accumulated//TRMM_IM_2004306.tif\n",
        "310\n",
        "D:\\Data\\0_DAILY_INTERVAL_NDVI_TRMM\\InnerMongolia\\TRMM2\\5_Day_Period\\5_DaySums_Accumulated//TRMM_IM_2004311.tif\n",
        "315\n",
        "D:\\Data\\0_DAILY_INTERVAL_NDVI_TRMM\\InnerMongolia\\TRMM2\\5_Day_Period\\5_DaySums_Accumulated//TRMM_IM_2004316.tif"
       ]
      },
      {
       "output_type": "stream",
       "stream": "stdout",
       "text": [
        "\n",
        "320\n",
        "D:\\Data\\0_DAILY_INTERVAL_NDVI_TRMM\\InnerMongolia\\TRMM2\\5_Day_Period\\5_DaySums_Accumulated//TRMM_IM_2004321.tif\n",
        "325\n",
        "D:\\Data\\0_DAILY_INTERVAL_NDVI_TRMM\\InnerMongolia\\TRMM2\\5_Day_Period\\5_DaySums_Accumulated//TRMM_IM_2004326.tif\n",
        "330\n",
        "D:\\Data\\0_DAILY_INTERVAL_NDVI_TRMM\\InnerMongolia\\TRMM2\\5_Day_Period\\5_DaySums_Accumulated//TRMM_IM_2004331.tif\n",
        "335\n",
        "D:\\Data\\0_DAILY_INTERVAL_NDVI_TRMM\\InnerMongolia\\TRMM2\\5_Day_Period\\5_DaySums_Accumulated//TRMM_IM_2004336.tif\n",
        "340"
       ]
      },
      {
       "output_type": "stream",
       "stream": "stdout",
       "text": [
        "\n",
        "D:\\Data\\0_DAILY_INTERVAL_NDVI_TRMM\\InnerMongolia\\TRMM2\\5_Day_Period\\5_DaySums_Accumulated//TRMM_IM_2004341.tif\n",
        "345\n",
        "D:\\Data\\0_DAILY_INTERVAL_NDVI_TRMM\\InnerMongolia\\TRMM2\\5_Day_Period\\5_DaySums_Accumulated//TRMM_IM_2004346.tif\n",
        "350\n",
        "D:\\Data\\0_DAILY_INTERVAL_NDVI_TRMM\\InnerMongolia\\TRMM2\\5_Day_Period\\5_DaySums_Accumulated//TRMM_IM_2004351.tif\n",
        "355\n",
        "D:\\Data\\0_DAILY_INTERVAL_NDVI_TRMM\\InnerMongolia\\TRMM2\\5_Day_Period\\5_DaySums_Accumulated//TRMM_IM_2004356.tif\n",
        "360"
       ]
      },
      {
       "output_type": "stream",
       "stream": "stdout",
       "text": [
        "\n",
        "D:\\Data\\0_DAILY_INTERVAL_NDVI_TRMM\\InnerMongolia\\TRMM2\\5_Day_Period\\5_DaySums_Accumulated//TRMM_IM_2004361.tif\n",
        "365\n",
        "D:\\Data\\0_DAILY_INTERVAL_NDVI_TRMM\\InnerMongolia\\TRMM2\\5_Day_Period\\5_DaySums_Accumulated//TRMM_IM_2004366.tif\n",
        "2005\n",
        "0\n",
        "D:\\Data\\0_DAILY_INTERVAL_NDVI_TRMM\\InnerMongolia\\TRMM2\\5_Day_Period\\5_DaySums_Accumulated//TRMM_IM_2005001.tif\n",
        "5\n",
        "D:\\Data\\0_DAILY_INTERVAL_NDVI_TRMM\\InnerMongolia\\TRMM2\\5_Day_Period\\5_DaySums_Accumulated//TRMM_IM_2005006.tif\n",
        "10"
       ]
      },
      {
       "output_type": "stream",
       "stream": "stdout",
       "text": [
        "\n",
        "D:\\Data\\0_DAILY_INTERVAL_NDVI_TRMM\\InnerMongolia\\TRMM2\\5_Day_Period\\5_DaySums_Accumulated//TRMM_IM_2005011.tif\n",
        "15\n",
        "D:\\Data\\0_DAILY_INTERVAL_NDVI_TRMM\\InnerMongolia\\TRMM2\\5_Day_Period\\5_DaySums_Accumulated//TRMM_IM_2005016.tif\n",
        "20\n",
        "D:\\Data\\0_DAILY_INTERVAL_NDVI_TRMM\\InnerMongolia\\TRMM2\\5_Day_Period\\5_DaySums_Accumulated//TRMM_IM_2005021.tif\n",
        "25\n",
        "D:\\Data\\0_DAILY_INTERVAL_NDVI_TRMM\\InnerMongolia\\TRMM2\\5_Day_Period\\5_DaySums_Accumulated//TRMM_IM_2005026.tif\n",
        "30\n",
        "D:\\Data\\0_DAILY_INTERVAL_NDVI_TRMM\\InnerMongolia\\TRMM2\\5_Day_Period\\5_DaySums_Accumulated//TRMM_IM_2005031.tif"
       ]
      },
      {
       "output_type": "stream",
       "stream": "stdout",
       "text": [
        "\n",
        "35\n",
        "D:\\Data\\0_DAILY_INTERVAL_NDVI_TRMM\\InnerMongolia\\TRMM2\\5_Day_Period\\5_DaySums_Accumulated//TRMM_IM_2005036.tif\n",
        "40\n",
        "D:\\Data\\0_DAILY_INTERVAL_NDVI_TRMM\\InnerMongolia\\TRMM2\\5_Day_Period\\5_DaySums_Accumulated//TRMM_IM_2005041.tif\n",
        "45\n",
        "D:\\Data\\0_DAILY_INTERVAL_NDVI_TRMM\\InnerMongolia\\TRMM2\\5_Day_Period\\5_DaySums_Accumulated//TRMM_IM_2005046.tif\n",
        "50\n",
        "D:\\Data\\0_DAILY_INTERVAL_NDVI_TRMM\\InnerMongolia\\TRMM2\\5_Day_Period\\5_DaySums_Accumulated//TRMM_IM_2005051.tif"
       ]
      },
      {
       "output_type": "stream",
       "stream": "stdout",
       "text": [
        "\n",
        "55\n",
        "D:\\Data\\0_DAILY_INTERVAL_NDVI_TRMM\\InnerMongolia\\TRMM2\\5_Day_Period\\5_DaySums_Accumulated//TRMM_IM_2005056.tif\n",
        "60\n",
        "D:\\Data\\0_DAILY_INTERVAL_NDVI_TRMM\\InnerMongolia\\TRMM2\\5_Day_Period\\5_DaySums_Accumulated//TRMM_IM_2005061.tif\n",
        "65\n",
        "D:\\Data\\0_DAILY_INTERVAL_NDVI_TRMM\\InnerMongolia\\TRMM2\\5_Day_Period\\5_DaySums_Accumulated//TRMM_IM_2005066.tif\n",
        "70\n",
        "D:\\Data\\0_DAILY_INTERVAL_NDVI_TRMM\\InnerMongolia\\TRMM2\\5_Day_Period\\5_DaySums_Accumulated//TRMM_IM_2005071.tif\n",
        "75"
       ]
      },
      {
       "output_type": "stream",
       "stream": "stdout",
       "text": [
        "\n",
        "D:\\Data\\0_DAILY_INTERVAL_NDVI_TRMM\\InnerMongolia\\TRMM2\\5_Day_Period\\5_DaySums_Accumulated//TRMM_IM_2005076.tif\n",
        "80\n",
        "D:\\Data\\0_DAILY_INTERVAL_NDVI_TRMM\\InnerMongolia\\TRMM2\\5_Day_Period\\5_DaySums_Accumulated//TRMM_IM_2005081.tif\n",
        "85\n",
        "D:\\Data\\0_DAILY_INTERVAL_NDVI_TRMM\\InnerMongolia\\TRMM2\\5_Day_Period\\5_DaySums_Accumulated//TRMM_IM_2005086.tif\n",
        "90\n",
        "D:\\Data\\0_DAILY_INTERVAL_NDVI_TRMM\\InnerMongolia\\TRMM2\\5_Day_Period\\5_DaySums_Accumulated//TRMM_IM_2005091.tif\n",
        "95"
       ]
      },
      {
       "output_type": "stream",
       "stream": "stdout",
       "text": [
        "\n",
        "D:\\Data\\0_DAILY_INTERVAL_NDVI_TRMM\\InnerMongolia\\TRMM2\\5_Day_Period\\5_DaySums_Accumulated//TRMM_IM_2005096.tif\n",
        "100\n",
        "D:\\Data\\0_DAILY_INTERVAL_NDVI_TRMM\\InnerMongolia\\TRMM2\\5_Day_Period\\5_DaySums_Accumulated//TRMM_IM_2005101.tif\n",
        "105\n",
        "D:\\Data\\0_DAILY_INTERVAL_NDVI_TRMM\\InnerMongolia\\TRMM2\\5_Day_Period\\5_DaySums_Accumulated//TRMM_IM_2005106.tif\n",
        "110\n",
        "D:\\Data\\0_DAILY_INTERVAL_NDVI_TRMM\\InnerMongolia\\TRMM2\\5_Day_Period\\5_DaySums_Accumulated//TRMM_IM_2005111.tif\n",
        "115\n",
        "D:\\Data\\0_DAILY_INTERVAL_NDVI_TRMM\\InnerMongolia\\TRMM2\\5_Day_Period\\5_DaySums_Accumulated//TRMM_IM_2005116.tif"
       ]
      },
      {
       "output_type": "stream",
       "stream": "stdout",
       "text": [
        "\n",
        "120\n",
        "D:\\Data\\0_DAILY_INTERVAL_NDVI_TRMM\\InnerMongolia\\TRMM2\\5_Day_Period\\5_DaySums_Accumulated//TRMM_IM_2005121.tif\n",
        "125\n",
        "D:\\Data\\0_DAILY_INTERVAL_NDVI_TRMM\\InnerMongolia\\TRMM2\\5_Day_Period\\5_DaySums_Accumulated//TRMM_IM_2005126.tif\n",
        "130\n",
        "D:\\Data\\0_DAILY_INTERVAL_NDVI_TRMM\\InnerMongolia\\TRMM2\\5_Day_Period\\5_DaySums_Accumulated//TRMM_IM_2005131.tif\n",
        "135\n",
        "D:\\Data\\0_DAILY_INTERVAL_NDVI_TRMM\\InnerMongolia\\TRMM2\\5_Day_Period\\5_DaySums_Accumulated//TRMM_IM_2005136.tif\n",
        "140"
       ]
      },
      {
       "output_type": "stream",
       "stream": "stdout",
       "text": [
        "\n",
        "D:\\Data\\0_DAILY_INTERVAL_NDVI_TRMM\\InnerMongolia\\TRMM2\\5_Day_Period\\5_DaySums_Accumulated//TRMM_IM_2005141.tif\n",
        "145\n",
        "D:\\Data\\0_DAILY_INTERVAL_NDVI_TRMM\\InnerMongolia\\TRMM2\\5_Day_Period\\5_DaySums_Accumulated//TRMM_IM_2005146.tif\n",
        "150\n",
        "D:\\Data\\0_DAILY_INTERVAL_NDVI_TRMM\\InnerMongolia\\TRMM2\\5_Day_Period\\5_DaySums_Accumulated//TRMM_IM_2005151.tif\n",
        "155\n",
        "D:\\Data\\0_DAILY_INTERVAL_NDVI_TRMM\\InnerMongolia\\TRMM2\\5_Day_Period\\5_DaySums_Accumulated//TRMM_IM_2005156.tif\n",
        "160"
       ]
      },
      {
       "output_type": "stream",
       "stream": "stdout",
       "text": [
        "\n",
        "D:\\Data\\0_DAILY_INTERVAL_NDVI_TRMM\\InnerMongolia\\TRMM2\\5_Day_Period\\5_DaySums_Accumulated//TRMM_IM_2005161.tif\n",
        "165\n",
        "D:\\Data\\0_DAILY_INTERVAL_NDVI_TRMM\\InnerMongolia\\TRMM2\\5_Day_Period\\5_DaySums_Accumulated//TRMM_IM_2005166.tif\n",
        "170\n",
        "D:\\Data\\0_DAILY_INTERVAL_NDVI_TRMM\\InnerMongolia\\TRMM2\\5_Day_Period\\5_DaySums_Accumulated//TRMM_IM_2005171.tif\n",
        "175\n",
        "D:\\Data\\0_DAILY_INTERVAL_NDVI_TRMM\\InnerMongolia\\TRMM2\\5_Day_Period\\5_DaySums_Accumulated//TRMM_IM_2005176.tif\n",
        "180"
       ]
      },
      {
       "output_type": "stream",
       "stream": "stdout",
       "text": [
        "\n",
        "D:\\Data\\0_DAILY_INTERVAL_NDVI_TRMM\\InnerMongolia\\TRMM2\\5_Day_Period\\5_DaySums_Accumulated//TRMM_IM_2005181.tif\n",
        "185\n",
        "D:\\Data\\0_DAILY_INTERVAL_NDVI_TRMM\\InnerMongolia\\TRMM2\\5_Day_Period\\5_DaySums_Accumulated//TRMM_IM_2005186.tif\n",
        "190\n",
        "D:\\Data\\0_DAILY_INTERVAL_NDVI_TRMM\\InnerMongolia\\TRMM2\\5_Day_Period\\5_DaySums_Accumulated//TRMM_IM_2005191.tif\n",
        "195\n",
        "D:\\Data\\0_DAILY_INTERVAL_NDVI_TRMM\\InnerMongolia\\TRMM2\\5_Day_Period\\5_DaySums_Accumulated//TRMM_IM_2005196.tif\n",
        "200"
       ]
      },
      {
       "output_type": "stream",
       "stream": "stdout",
       "text": [
        "\n",
        "D:\\Data\\0_DAILY_INTERVAL_NDVI_TRMM\\InnerMongolia\\TRMM2\\5_Day_Period\\5_DaySums_Accumulated//TRMM_IM_2005201.tif\n",
        "205\n",
        "D:\\Data\\0_DAILY_INTERVAL_NDVI_TRMM\\InnerMongolia\\TRMM2\\5_Day_Period\\5_DaySums_Accumulated//TRMM_IM_2005206.tif\n",
        "210\n",
        "D:\\Data\\0_DAILY_INTERVAL_NDVI_TRMM\\InnerMongolia\\TRMM2\\5_Day_Period\\5_DaySums_Accumulated//TRMM_IM_2005211.tif\n",
        "215\n",
        "D:\\Data\\0_DAILY_INTERVAL_NDVI_TRMM\\InnerMongolia\\TRMM2\\5_Day_Period\\5_DaySums_Accumulated//TRMM_IM_2005216.tif\n",
        "220"
       ]
      },
      {
       "output_type": "stream",
       "stream": "stdout",
       "text": [
        "\n",
        "D:\\Data\\0_DAILY_INTERVAL_NDVI_TRMM\\InnerMongolia\\TRMM2\\5_Day_Period\\5_DaySums_Accumulated//TRMM_IM_2005221.tif\n",
        "225\n",
        "D:\\Data\\0_DAILY_INTERVAL_NDVI_TRMM\\InnerMongolia\\TRMM2\\5_Day_Period\\5_DaySums_Accumulated//TRMM_IM_2005226.tif\n",
        "230\n",
        "D:\\Data\\0_DAILY_INTERVAL_NDVI_TRMM\\InnerMongolia\\TRMM2\\5_Day_Period\\5_DaySums_Accumulated//TRMM_IM_2005231.tif\n",
        "235\n",
        "D:\\Data\\0_DAILY_INTERVAL_NDVI_TRMM\\InnerMongolia\\TRMM2\\5_Day_Period\\5_DaySums_Accumulated//TRMM_IM_2005236.tif\n",
        "240\n",
        "D:\\Data\\0_DAILY_INTERVAL_NDVI_TRMM\\InnerMongolia\\TRMM2\\5_Day_Period\\5_DaySums_Accumulated//TRMM_IM_2005241.tif"
       ]
      },
      {
       "output_type": "stream",
       "stream": "stdout",
       "text": [
        "\n",
        "245\n",
        "D:\\Data\\0_DAILY_INTERVAL_NDVI_TRMM\\InnerMongolia\\TRMM2\\5_Day_Period\\5_DaySums_Accumulated//TRMM_IM_2005246.tif\n",
        "250\n",
        "D:\\Data\\0_DAILY_INTERVAL_NDVI_TRMM\\InnerMongolia\\TRMM2\\5_Day_Period\\5_DaySums_Accumulated//TRMM_IM_2005251.tif\n",
        "255\n",
        "D:\\Data\\0_DAILY_INTERVAL_NDVI_TRMM\\InnerMongolia\\TRMM2\\5_Day_Period\\5_DaySums_Accumulated//TRMM_IM_2005256.tif\n",
        "260\n",
        "D:\\Data\\0_DAILY_INTERVAL_NDVI_TRMM\\InnerMongolia\\TRMM2\\5_Day_Period\\5_DaySums_Accumulated//TRMM_IM_2005261.tif\n",
        "265"
       ]
      },
      {
       "output_type": "stream",
       "stream": "stdout",
       "text": [
        "\n",
        "D:\\Data\\0_DAILY_INTERVAL_NDVI_TRMM\\InnerMongolia\\TRMM2\\5_Day_Period\\5_DaySums_Accumulated//TRMM_IM_2005266.tif\n",
        "270\n",
        "D:\\Data\\0_DAILY_INTERVAL_NDVI_TRMM\\InnerMongolia\\TRMM2\\5_Day_Period\\5_DaySums_Accumulated//TRMM_IM_2005271.tif\n",
        "275\n",
        "D:\\Data\\0_DAILY_INTERVAL_NDVI_TRMM\\InnerMongolia\\TRMM2\\5_Day_Period\\5_DaySums_Accumulated//TRMM_IM_2005276.tif\n",
        "280\n",
        "D:\\Data\\0_DAILY_INTERVAL_NDVI_TRMM\\InnerMongolia\\TRMM2\\5_Day_Period\\5_DaySums_Accumulated//TRMM_IM_2005281.tif\n",
        "285\n",
        "D:\\Data\\0_DAILY_INTERVAL_NDVI_TRMM\\InnerMongolia\\TRMM2\\5_Day_Period\\5_DaySums_Accumulated//TRMM_IM_2005286.tif"
       ]
      },
      {
       "output_type": "stream",
       "stream": "stdout",
       "text": [
        "\n",
        "290\n",
        "D:\\Data\\0_DAILY_INTERVAL_NDVI_TRMM\\InnerMongolia\\TRMM2\\5_Day_Period\\5_DaySums_Accumulated//TRMM_IM_2005291.tif\n",
        "295\n",
        "D:\\Data\\0_DAILY_INTERVAL_NDVI_TRMM\\InnerMongolia\\TRMM2\\5_Day_Period\\5_DaySums_Accumulated//TRMM_IM_2005296.tif\n",
        "300\n",
        "D:\\Data\\0_DAILY_INTERVAL_NDVI_TRMM\\InnerMongolia\\TRMM2\\5_Day_Period\\5_DaySums_Accumulated//TRMM_IM_2005301.tif\n",
        "305\n",
        "D:\\Data\\0_DAILY_INTERVAL_NDVI_TRMM\\InnerMongolia\\TRMM2\\5_Day_Period\\5_DaySums_Accumulated//TRMM_IM_2005306.tif\n",
        "310"
       ]
      },
      {
       "output_type": "stream",
       "stream": "stdout",
       "text": [
        "\n",
        "D:\\Data\\0_DAILY_INTERVAL_NDVI_TRMM\\InnerMongolia\\TRMM2\\5_Day_Period\\5_DaySums_Accumulated//TRMM_IM_2005311.tif\n",
        "315\n",
        "D:\\Data\\0_DAILY_INTERVAL_NDVI_TRMM\\InnerMongolia\\TRMM2\\5_Day_Period\\5_DaySums_Accumulated//TRMM_IM_2005316.tif\n",
        "320\n",
        "D:\\Data\\0_DAILY_INTERVAL_NDVI_TRMM\\InnerMongolia\\TRMM2\\5_Day_Period\\5_DaySums_Accumulated//TRMM_IM_2005321.tif\n",
        "325\n",
        "D:\\Data\\0_DAILY_INTERVAL_NDVI_TRMM\\InnerMongolia\\TRMM2\\5_Day_Period\\5_DaySums_Accumulated//TRMM_IM_2005326.tif\n",
        "330"
       ]
      },
      {
       "output_type": "stream",
       "stream": "stdout",
       "text": [
        "\n",
        "D:\\Data\\0_DAILY_INTERVAL_NDVI_TRMM\\InnerMongolia\\TRMM2\\5_Day_Period\\5_DaySums_Accumulated//TRMM_IM_2005331.tif\n",
        "335\n",
        "D:\\Data\\0_DAILY_INTERVAL_NDVI_TRMM\\InnerMongolia\\TRMM2\\5_Day_Period\\5_DaySums_Accumulated//TRMM_IM_2005336.tif\n",
        "340\n",
        "D:\\Data\\0_DAILY_INTERVAL_NDVI_TRMM\\InnerMongolia\\TRMM2\\5_Day_Period\\5_DaySums_Accumulated//TRMM_IM_2005341.tif\n",
        "345\n",
        "D:\\Data\\0_DAILY_INTERVAL_NDVI_TRMM\\InnerMongolia\\TRMM2\\5_Day_Period\\5_DaySums_Accumulated//TRMM_IM_2005346.tif\n",
        "350"
       ]
      },
      {
       "output_type": "stream",
       "stream": "stdout",
       "text": [
        "\n",
        "D:\\Data\\0_DAILY_INTERVAL_NDVI_TRMM\\InnerMongolia\\TRMM2\\5_Day_Period\\5_DaySums_Accumulated//TRMM_IM_2005351.tif\n",
        "355\n",
        "D:\\Data\\0_DAILY_INTERVAL_NDVI_TRMM\\InnerMongolia\\TRMM2\\5_Day_Period\\5_DaySums_Accumulated//TRMM_IM_2005356.tif\n",
        "360\n",
        "D:\\Data\\0_DAILY_INTERVAL_NDVI_TRMM\\InnerMongolia\\TRMM2\\5_Day_Period\\5_DaySums_Accumulated//TRMM_IM_2005361.tif\n",
        "2006\n",
        "0\n",
        "D:\\Data\\0_DAILY_INTERVAL_NDVI_TRMM\\InnerMongolia\\TRMM2\\5_Day_Period\\5_DaySums_Accumulated//TRMM_IM_2006001.tif\n",
        "5"
       ]
      },
      {
       "output_type": "stream",
       "stream": "stdout",
       "text": [
        "\n",
        "D:\\Data\\0_DAILY_INTERVAL_NDVI_TRMM\\InnerMongolia\\TRMM2\\5_Day_Period\\5_DaySums_Accumulated//TRMM_IM_2006006.tif\n",
        "10\n",
        "D:\\Data\\0_DAILY_INTERVAL_NDVI_TRMM\\InnerMongolia\\TRMM2\\5_Day_Period\\5_DaySums_Accumulated//TRMM_IM_2006011.tif\n",
        "15\n",
        "D:\\Data\\0_DAILY_INTERVAL_NDVI_TRMM\\InnerMongolia\\TRMM2\\5_Day_Period\\5_DaySums_Accumulated//TRMM_IM_2006016.tif\n",
        "20\n",
        "D:\\Data\\0_DAILY_INTERVAL_NDVI_TRMM\\InnerMongolia\\TRMM2\\5_Day_Period\\5_DaySums_Accumulated//TRMM_IM_2006021.tif\n",
        "25\n",
        "D:\\Data\\0_DAILY_INTERVAL_NDVI_TRMM\\InnerMongolia\\TRMM2\\5_Day_Period\\5_DaySums_Accumulated//TRMM_IM_2006026.tif"
       ]
      },
      {
       "output_type": "stream",
       "stream": "stdout",
       "text": [
        "\n",
        "30\n",
        "D:\\Data\\0_DAILY_INTERVAL_NDVI_TRMM\\InnerMongolia\\TRMM2\\5_Day_Period\\5_DaySums_Accumulated//TRMM_IM_2006031.tif\n",
        "35\n",
        "D:\\Data\\0_DAILY_INTERVAL_NDVI_TRMM\\InnerMongolia\\TRMM2\\5_Day_Period\\5_DaySums_Accumulated//TRMM_IM_2006036.tif\n",
        "40\n",
        "D:\\Data\\0_DAILY_INTERVAL_NDVI_TRMM\\InnerMongolia\\TRMM2\\5_Day_Period\\5_DaySums_Accumulated//TRMM_IM_2006041.tif\n",
        "45\n",
        "D:\\Data\\0_DAILY_INTERVAL_NDVI_TRMM\\InnerMongolia\\TRMM2\\5_Day_Period\\5_DaySums_Accumulated//TRMM_IM_2006046.tif\n",
        "50"
       ]
      },
      {
       "output_type": "stream",
       "stream": "stdout",
       "text": [
        "\n",
        "D:\\Data\\0_DAILY_INTERVAL_NDVI_TRMM\\InnerMongolia\\TRMM2\\5_Day_Period\\5_DaySums_Accumulated//TRMM_IM_2006051.tif\n",
        "55\n",
        "D:\\Data\\0_DAILY_INTERVAL_NDVI_TRMM\\InnerMongolia\\TRMM2\\5_Day_Period\\5_DaySums_Accumulated//TRMM_IM_2006056.tif\n",
        "60\n",
        "D:\\Data\\0_DAILY_INTERVAL_NDVI_TRMM\\InnerMongolia\\TRMM2\\5_Day_Period\\5_DaySums_Accumulated//TRMM_IM_2006061.tif\n",
        "65\n",
        "D:\\Data\\0_DAILY_INTERVAL_NDVI_TRMM\\InnerMongolia\\TRMM2\\5_Day_Period\\5_DaySums_Accumulated//TRMM_IM_2006066.tif\n",
        "70"
       ]
      },
      {
       "output_type": "stream",
       "stream": "stdout",
       "text": [
        "\n",
        "D:\\Data\\0_DAILY_INTERVAL_NDVI_TRMM\\InnerMongolia\\TRMM2\\5_Day_Period\\5_DaySums_Accumulated//TRMM_IM_2006071.tif\n",
        "75\n",
        "D:\\Data\\0_DAILY_INTERVAL_NDVI_TRMM\\InnerMongolia\\TRMM2\\5_Day_Period\\5_DaySums_Accumulated//TRMM_IM_2006076.tif\n",
        "80\n",
        "D:\\Data\\0_DAILY_INTERVAL_NDVI_TRMM\\InnerMongolia\\TRMM2\\5_Day_Period\\5_DaySums_Accumulated//TRMM_IM_2006081.tif\n",
        "85\n",
        "D:\\Data\\0_DAILY_INTERVAL_NDVI_TRMM\\InnerMongolia\\TRMM2\\5_Day_Period\\5_DaySums_Accumulated//TRMM_IM_2006086.tif\n",
        "90"
       ]
      },
      {
       "output_type": "stream",
       "stream": "stdout",
       "text": [
        "\n",
        "D:\\Data\\0_DAILY_INTERVAL_NDVI_TRMM\\InnerMongolia\\TRMM2\\5_Day_Period\\5_DaySums_Accumulated//TRMM_IM_2006091.tif\n",
        "95\n",
        "D:\\Data\\0_DAILY_INTERVAL_NDVI_TRMM\\InnerMongolia\\TRMM2\\5_Day_Period\\5_DaySums_Accumulated//TRMM_IM_2006096.tif\n",
        "100\n",
        "D:\\Data\\0_DAILY_INTERVAL_NDVI_TRMM\\InnerMongolia\\TRMM2\\5_Day_Period\\5_DaySums_Accumulated//TRMM_IM_2006101.tif\n",
        "105\n",
        "D:\\Data\\0_DAILY_INTERVAL_NDVI_TRMM\\InnerMongolia\\TRMM2\\5_Day_Period\\5_DaySums_Accumulated//TRMM_IM_2006106.tif\n",
        "110"
       ]
      },
      {
       "output_type": "stream",
       "stream": "stdout",
       "text": [
        "\n",
        "D:\\Data\\0_DAILY_INTERVAL_NDVI_TRMM\\InnerMongolia\\TRMM2\\5_Day_Period\\5_DaySums_Accumulated//TRMM_IM_2006111.tif\n",
        "115\n",
        "D:\\Data\\0_DAILY_INTERVAL_NDVI_TRMM\\InnerMongolia\\TRMM2\\5_Day_Period\\5_DaySums_Accumulated//TRMM_IM_2006116.tif\n",
        "120\n",
        "D:\\Data\\0_DAILY_INTERVAL_NDVI_TRMM\\InnerMongolia\\TRMM2\\5_Day_Period\\5_DaySums_Accumulated//TRMM_IM_2006121.tif\n",
        "125\n",
        "D:\\Data\\0_DAILY_INTERVAL_NDVI_TRMM\\InnerMongolia\\TRMM2\\5_Day_Period\\5_DaySums_Accumulated//TRMM_IM_2006126.tif\n",
        "130"
       ]
      },
      {
       "output_type": "stream",
       "stream": "stdout",
       "text": [
        "\n",
        "D:\\Data\\0_DAILY_INTERVAL_NDVI_TRMM\\InnerMongolia\\TRMM2\\5_Day_Period\\5_DaySums_Accumulated//TRMM_IM_2006131.tif\n",
        "135\n",
        "D:\\Data\\0_DAILY_INTERVAL_NDVI_TRMM\\InnerMongolia\\TRMM2\\5_Day_Period\\5_DaySums_Accumulated//TRMM_IM_2006136.tif\n",
        "140\n",
        "D:\\Data\\0_DAILY_INTERVAL_NDVI_TRMM\\InnerMongolia\\TRMM2\\5_Day_Period\\5_DaySums_Accumulated//TRMM_IM_2006141.tif\n",
        "145\n",
        "D:\\Data\\0_DAILY_INTERVAL_NDVI_TRMM\\InnerMongolia\\TRMM2\\5_Day_Period\\5_DaySums_Accumulated//TRMM_IM_2006146.tif\n",
        "150\n",
        "D:\\Data\\0_DAILY_INTERVAL_NDVI_TRMM\\InnerMongolia\\TRMM2\\5_Day_Period\\5_DaySums_Accumulated//TRMM_IM_2006151.tif"
       ]
      },
      {
       "output_type": "stream",
       "stream": "stdout",
       "text": [
        "\n",
        "155\n",
        "D:\\Data\\0_DAILY_INTERVAL_NDVI_TRMM\\InnerMongolia\\TRMM2\\5_Day_Period\\5_DaySums_Accumulated//TRMM_IM_2006156.tif\n",
        "160\n",
        "D:\\Data\\0_DAILY_INTERVAL_NDVI_TRMM\\InnerMongolia\\TRMM2\\5_Day_Period\\5_DaySums_Accumulated//TRMM_IM_2006161.tif\n",
        "165\n",
        "D:\\Data\\0_DAILY_INTERVAL_NDVI_TRMM\\InnerMongolia\\TRMM2\\5_Day_Period\\5_DaySums_Accumulated//TRMM_IM_2006166.tif\n",
        "170\n",
        "D:\\Data\\0_DAILY_INTERVAL_NDVI_TRMM\\InnerMongolia\\TRMM2\\5_Day_Period\\5_DaySums_Accumulated//TRMM_IM_2006171.tif\n",
        "175"
       ]
      },
      {
       "output_type": "stream",
       "stream": "stdout",
       "text": [
        "\n",
        "D:\\Data\\0_DAILY_INTERVAL_NDVI_TRMM\\InnerMongolia\\TRMM2\\5_Day_Period\\5_DaySums_Accumulated//TRMM_IM_2006176.tif\n",
        "180\n",
        "D:\\Data\\0_DAILY_INTERVAL_NDVI_TRMM\\InnerMongolia\\TRMM2\\5_Day_Period\\5_DaySums_Accumulated//TRMM_IM_2006181.tif\n",
        "185\n",
        "D:\\Data\\0_DAILY_INTERVAL_NDVI_TRMM\\InnerMongolia\\TRMM2\\5_Day_Period\\5_DaySums_Accumulated//TRMM_IM_2006186.tif\n",
        "190\n",
        "D:\\Data\\0_DAILY_INTERVAL_NDVI_TRMM\\InnerMongolia\\TRMM2\\5_Day_Period\\5_DaySums_Accumulated//TRMM_IM_2006191.tif\n",
        "195\n",
        "D:\\Data\\0_DAILY_INTERVAL_NDVI_TRMM\\InnerMongolia\\TRMM2\\5_Day_Period\\5_DaySums_Accumulated//TRMM_IM_2006196.tif"
       ]
      },
      {
       "output_type": "stream",
       "stream": "stdout",
       "text": [
        "\n",
        "200\n",
        "D:\\Data\\0_DAILY_INTERVAL_NDVI_TRMM\\InnerMongolia\\TRMM2\\5_Day_Period\\5_DaySums_Accumulated//TRMM_IM_2006201.tif\n",
        "205\n",
        "D:\\Data\\0_DAILY_INTERVAL_NDVI_TRMM\\InnerMongolia\\TRMM2\\5_Day_Period\\5_DaySums_Accumulated//TRMM_IM_2006206.tif\n",
        "210\n",
        "D:\\Data\\0_DAILY_INTERVAL_NDVI_TRMM\\InnerMongolia\\TRMM2\\5_Day_Period\\5_DaySums_Accumulated//TRMM_IM_2006211.tif\n",
        "215\n",
        "D:\\Data\\0_DAILY_INTERVAL_NDVI_TRMM\\InnerMongolia\\TRMM2\\5_Day_Period\\5_DaySums_Accumulated//TRMM_IM_2006216.tif\n",
        "220"
       ]
      },
      {
       "output_type": "stream",
       "stream": "stdout",
       "text": [
        "\n",
        "D:\\Data\\0_DAILY_INTERVAL_NDVI_TRMM\\InnerMongolia\\TRMM2\\5_Day_Period\\5_DaySums_Accumulated//TRMM_IM_2006221.tif\n",
        "225\n",
        "D:\\Data\\0_DAILY_INTERVAL_NDVI_TRMM\\InnerMongolia\\TRMM2\\5_Day_Period\\5_DaySums_Accumulated//TRMM_IM_2006226.tif\n",
        "230\n",
        "D:\\Data\\0_DAILY_INTERVAL_NDVI_TRMM\\InnerMongolia\\TRMM2\\5_Day_Period\\5_DaySums_Accumulated//TRMM_IM_2006231.tif\n",
        "235\n",
        "D:\\Data\\0_DAILY_INTERVAL_NDVI_TRMM\\InnerMongolia\\TRMM2\\5_Day_Period\\5_DaySums_Accumulated//TRMM_IM_2006236.tif\n",
        "240\n",
        "D:\\Data\\0_DAILY_INTERVAL_NDVI_TRMM\\InnerMongolia\\TRMM2\\5_Day_Period\\5_DaySums_Accumulated//TRMM_IM_2006241.tif"
       ]
      },
      {
       "output_type": "stream",
       "stream": "stdout",
       "text": [
        "\n",
        "245\n",
        "D:\\Data\\0_DAILY_INTERVAL_NDVI_TRMM\\InnerMongolia\\TRMM2\\5_Day_Period\\5_DaySums_Accumulated//TRMM_IM_2006246.tif\n",
        "250\n",
        "D:\\Data\\0_DAILY_INTERVAL_NDVI_TRMM\\InnerMongolia\\TRMM2\\5_Day_Period\\5_DaySums_Accumulated//TRMM_IM_2006251.tif\n",
        "255\n",
        "D:\\Data\\0_DAILY_INTERVAL_NDVI_TRMM\\InnerMongolia\\TRMM2\\5_Day_Period\\5_DaySums_Accumulated//TRMM_IM_2006256.tif\n",
        "260\n",
        "D:\\Data\\0_DAILY_INTERVAL_NDVI_TRMM\\InnerMongolia\\TRMM2\\5_Day_Period\\5_DaySums_Accumulated//TRMM_IM_2006261.tif\n",
        "265"
       ]
      },
      {
       "output_type": "stream",
       "stream": "stdout",
       "text": [
        "\n",
        "D:\\Data\\0_DAILY_INTERVAL_NDVI_TRMM\\InnerMongolia\\TRMM2\\5_Day_Period\\5_DaySums_Accumulated//TRMM_IM_2006266.tif\n",
        "270\n",
        "D:\\Data\\0_DAILY_INTERVAL_NDVI_TRMM\\InnerMongolia\\TRMM2\\5_Day_Period\\5_DaySums_Accumulated//TRMM_IM_2006271.tif\n",
        "275\n",
        "D:\\Data\\0_DAILY_INTERVAL_NDVI_TRMM\\InnerMongolia\\TRMM2\\5_Day_Period\\5_DaySums_Accumulated//TRMM_IM_2006276.tif\n",
        "280\n",
        "D:\\Data\\0_DAILY_INTERVAL_NDVI_TRMM\\InnerMongolia\\TRMM2\\5_Day_Period\\5_DaySums_Accumulated//TRMM_IM_2006281.tif\n",
        "285\n",
        "D:\\Data\\0_DAILY_INTERVAL_NDVI_TRMM\\InnerMongolia\\TRMM2\\5_Day_Period\\5_DaySums_Accumulated//TRMM_IM_2006286.tif"
       ]
      },
      {
       "output_type": "stream",
       "stream": "stdout",
       "text": [
        "\n",
        "290\n",
        "D:\\Data\\0_DAILY_INTERVAL_NDVI_TRMM\\InnerMongolia\\TRMM2\\5_Day_Period\\5_DaySums_Accumulated//TRMM_IM_2006291.tif\n",
        "295\n",
        "D:\\Data\\0_DAILY_INTERVAL_NDVI_TRMM\\InnerMongolia\\TRMM2\\5_Day_Period\\5_DaySums_Accumulated//TRMM_IM_2006296.tif\n",
        "300\n",
        "D:\\Data\\0_DAILY_INTERVAL_NDVI_TRMM\\InnerMongolia\\TRMM2\\5_Day_Period\\5_DaySums_Accumulated//TRMM_IM_2006301.tif\n",
        "305\n",
        "D:\\Data\\0_DAILY_INTERVAL_NDVI_TRMM\\InnerMongolia\\TRMM2\\5_Day_Period\\5_DaySums_Accumulated//TRMM_IM_2006306.tif\n",
        "310"
       ]
      },
      {
       "output_type": "stream",
       "stream": "stdout",
       "text": [
        "\n",
        "D:\\Data\\0_DAILY_INTERVAL_NDVI_TRMM\\InnerMongolia\\TRMM2\\5_Day_Period\\5_DaySums_Accumulated//TRMM_IM_2006311.tif\n",
        "315\n",
        "D:\\Data\\0_DAILY_INTERVAL_NDVI_TRMM\\InnerMongolia\\TRMM2\\5_Day_Period\\5_DaySums_Accumulated//TRMM_IM_2006316.tif\n",
        "320\n",
        "D:\\Data\\0_DAILY_INTERVAL_NDVI_TRMM\\InnerMongolia\\TRMM2\\5_Day_Period\\5_DaySums_Accumulated//TRMM_IM_2006321.tif\n",
        "325\n",
        "D:\\Data\\0_DAILY_INTERVAL_NDVI_TRMM\\InnerMongolia\\TRMM2\\5_Day_Period\\5_DaySums_Accumulated//TRMM_IM_2006326.tif\n",
        "330\n",
        "D:\\Data\\0_DAILY_INTERVAL_NDVI_TRMM\\InnerMongolia\\TRMM2\\5_Day_Period\\5_DaySums_Accumulated//TRMM_IM_2006331.tif"
       ]
      },
      {
       "output_type": "stream",
       "stream": "stdout",
       "text": [
        "\n",
        "335\n",
        "D:\\Data\\0_DAILY_INTERVAL_NDVI_TRMM\\InnerMongolia\\TRMM2\\5_Day_Period\\5_DaySums_Accumulated//TRMM_IM_2006336.tif\n",
        "340\n",
        "D:\\Data\\0_DAILY_INTERVAL_NDVI_TRMM\\InnerMongolia\\TRMM2\\5_Day_Period\\5_DaySums_Accumulated//TRMM_IM_2006341.tif\n",
        "345\n",
        "D:\\Data\\0_DAILY_INTERVAL_NDVI_TRMM\\InnerMongolia\\TRMM2\\5_Day_Period\\5_DaySums_Accumulated//TRMM_IM_2006346.tif\n",
        "350\n",
        "D:\\Data\\0_DAILY_INTERVAL_NDVI_TRMM\\InnerMongolia\\TRMM2\\5_Day_Period\\5_DaySums_Accumulated//TRMM_IM_2006351.tif\n",
        "355"
       ]
      },
      {
       "output_type": "stream",
       "stream": "stdout",
       "text": [
        "\n",
        "D:\\Data\\0_DAILY_INTERVAL_NDVI_TRMM\\InnerMongolia\\TRMM2\\5_Day_Period\\5_DaySums_Accumulated//TRMM_IM_2006356.tif\n",
        "360\n",
        "D:\\Data\\0_DAILY_INTERVAL_NDVI_TRMM\\InnerMongolia\\TRMM2\\5_Day_Period\\5_DaySums_Accumulated//TRMM_IM_2006361.tif\n",
        "2007\n",
        "0\n",
        "D:\\Data\\0_DAILY_INTERVAL_NDVI_TRMM\\InnerMongolia\\TRMM2\\5_Day_Period\\5_DaySums_Accumulated//TRMM_IM_2007001.tif\n",
        "5\n",
        "D:\\Data\\0_DAILY_INTERVAL_NDVI_TRMM\\InnerMongolia\\TRMM2\\5_Day_Period\\5_DaySums_Accumulated//TRMM_IM_2007006.tif\n",
        "10"
       ]
      },
      {
       "output_type": "stream",
       "stream": "stdout",
       "text": [
        "\n",
        "D:\\Data\\0_DAILY_INTERVAL_NDVI_TRMM\\InnerMongolia\\TRMM2\\5_Day_Period\\5_DaySums_Accumulated//TRMM_IM_2007011.tif\n",
        "15\n",
        "D:\\Data\\0_DAILY_INTERVAL_NDVI_TRMM\\InnerMongolia\\TRMM2\\5_Day_Period\\5_DaySums_Accumulated//TRMM_IM_2007016.tif\n",
        "20\n",
        "D:\\Data\\0_DAILY_INTERVAL_NDVI_TRMM\\InnerMongolia\\TRMM2\\5_Day_Period\\5_DaySums_Accumulated//TRMM_IM_2007021.tif\n",
        "25\n",
        "D:\\Data\\0_DAILY_INTERVAL_NDVI_TRMM\\InnerMongolia\\TRMM2\\5_Day_Period\\5_DaySums_Accumulated//TRMM_IM_2007026.tif\n",
        "30\n",
        "D:\\Data\\0_DAILY_INTERVAL_NDVI_TRMM\\InnerMongolia\\TRMM2\\5_Day_Period\\5_DaySums_Accumulated//TRMM_IM_2007031.tif"
       ]
      },
      {
       "output_type": "stream",
       "stream": "stdout",
       "text": [
        "\n",
        "35\n",
        "D:\\Data\\0_DAILY_INTERVAL_NDVI_TRMM\\InnerMongolia\\TRMM2\\5_Day_Period\\5_DaySums_Accumulated//TRMM_IM_2007036.tif\n",
        "40\n",
        "D:\\Data\\0_DAILY_INTERVAL_NDVI_TRMM\\InnerMongolia\\TRMM2\\5_Day_Period\\5_DaySums_Accumulated//TRMM_IM_2007041.tif\n",
        "45\n",
        "D:\\Data\\0_DAILY_INTERVAL_NDVI_TRMM\\InnerMongolia\\TRMM2\\5_Day_Period\\5_DaySums_Accumulated//TRMM_IM_2007046.tif\n",
        "50\n",
        "D:\\Data\\0_DAILY_INTERVAL_NDVI_TRMM\\InnerMongolia\\TRMM2\\5_Day_Period\\5_DaySums_Accumulated//TRMM_IM_2007051.tif\n",
        "55"
       ]
      },
      {
       "output_type": "stream",
       "stream": "stdout",
       "text": [
        "\n",
        "D:\\Data\\0_DAILY_INTERVAL_NDVI_TRMM\\InnerMongolia\\TRMM2\\5_Day_Period\\5_DaySums_Accumulated//TRMM_IM_2007056.tif\n",
        "60\n",
        "D:\\Data\\0_DAILY_INTERVAL_NDVI_TRMM\\InnerMongolia\\TRMM2\\5_Day_Period\\5_DaySums_Accumulated//TRMM_IM_2007061.tif\n",
        "65\n",
        "D:\\Data\\0_DAILY_INTERVAL_NDVI_TRMM\\InnerMongolia\\TRMM2\\5_Day_Period\\5_DaySums_Accumulated//TRMM_IM_2007066.tif\n",
        "70\n",
        "D:\\Data\\0_DAILY_INTERVAL_NDVI_TRMM\\InnerMongolia\\TRMM2\\5_Day_Period\\5_DaySums_Accumulated//TRMM_IM_2007071.tif\n",
        "75"
       ]
      },
      {
       "output_type": "stream",
       "stream": "stdout",
       "text": [
        "\n",
        "D:\\Data\\0_DAILY_INTERVAL_NDVI_TRMM\\InnerMongolia\\TRMM2\\5_Day_Period\\5_DaySums_Accumulated//TRMM_IM_2007076.tif\n",
        "80\n",
        "D:\\Data\\0_DAILY_INTERVAL_NDVI_TRMM\\InnerMongolia\\TRMM2\\5_Day_Period\\5_DaySums_Accumulated//TRMM_IM_2007081.tif\n",
        "85\n",
        "D:\\Data\\0_DAILY_INTERVAL_NDVI_TRMM\\InnerMongolia\\TRMM2\\5_Day_Period\\5_DaySums_Accumulated//TRMM_IM_2007086.tif\n",
        "90\n",
        "D:\\Data\\0_DAILY_INTERVAL_NDVI_TRMM\\InnerMongolia\\TRMM2\\5_Day_Period\\5_DaySums_Accumulated//TRMM_IM_2007091.tif\n",
        "95\n",
        "D:\\Data\\0_DAILY_INTERVAL_NDVI_TRMM\\InnerMongolia\\TRMM2\\5_Day_Period\\5_DaySums_Accumulated//TRMM_IM_2007096.tif"
       ]
      },
      {
       "output_type": "stream",
       "stream": "stdout",
       "text": [
        "\n",
        "100\n",
        "D:\\Data\\0_DAILY_INTERVAL_NDVI_TRMM\\InnerMongolia\\TRMM2\\5_Day_Period\\5_DaySums_Accumulated//TRMM_IM_2007101.tif\n",
        "105\n",
        "D:\\Data\\0_DAILY_INTERVAL_NDVI_TRMM\\InnerMongolia\\TRMM2\\5_Day_Period\\5_DaySums_Accumulated//TRMM_IM_2007106.tif\n",
        "110\n",
        "D:\\Data\\0_DAILY_INTERVAL_NDVI_TRMM\\InnerMongolia\\TRMM2\\5_Day_Period\\5_DaySums_Accumulated//TRMM_IM_2007111.tif\n",
        "115\n",
        "D:\\Data\\0_DAILY_INTERVAL_NDVI_TRMM\\InnerMongolia\\TRMM2\\5_Day_Period\\5_DaySums_Accumulated//TRMM_IM_2007116.tif"
       ]
      },
      {
       "output_type": "stream",
       "stream": "stdout",
       "text": [
        "\n",
        "120\n",
        "D:\\Data\\0_DAILY_INTERVAL_NDVI_TRMM\\InnerMongolia\\TRMM2\\5_Day_Period\\5_DaySums_Accumulated//TRMM_IM_2007121.tif\n",
        "125\n",
        "D:\\Data\\0_DAILY_INTERVAL_NDVI_TRMM\\InnerMongolia\\TRMM2\\5_Day_Period\\5_DaySums_Accumulated//TRMM_IM_2007126.tif\n",
        "130\n",
        "D:\\Data\\0_DAILY_INTERVAL_NDVI_TRMM\\InnerMongolia\\TRMM2\\5_Day_Period\\5_DaySums_Accumulated//TRMM_IM_2007131.tif\n",
        "135\n",
        "D:\\Data\\0_DAILY_INTERVAL_NDVI_TRMM\\InnerMongolia\\TRMM2\\5_Day_Period\\5_DaySums_Accumulated//TRMM_IM_2007136.tif\n",
        "140"
       ]
      },
      {
       "output_type": "stream",
       "stream": "stdout",
       "text": [
        "\n",
        "D:\\Data\\0_DAILY_INTERVAL_NDVI_TRMM\\InnerMongolia\\TRMM2\\5_Day_Period\\5_DaySums_Accumulated//TRMM_IM_2007141.tif\n",
        "145\n",
        "D:\\Data\\0_DAILY_INTERVAL_NDVI_TRMM\\InnerMongolia\\TRMM2\\5_Day_Period\\5_DaySums_Accumulated//TRMM_IM_2007146.tif\n",
        "150\n",
        "D:\\Data\\0_DAILY_INTERVAL_NDVI_TRMM\\InnerMongolia\\TRMM2\\5_Day_Period\\5_DaySums_Accumulated//TRMM_IM_2007151.tif\n",
        "155\n",
        "D:\\Data\\0_DAILY_INTERVAL_NDVI_TRMM\\InnerMongolia\\TRMM2\\5_Day_Period\\5_DaySums_Accumulated//TRMM_IM_2007156.tif\n",
        "160\n",
        "D:\\Data\\0_DAILY_INTERVAL_NDVI_TRMM\\InnerMongolia\\TRMM2\\5_Day_Period\\5_DaySums_Accumulated//TRMM_IM_2007161.tif"
       ]
      },
      {
       "output_type": "stream",
       "stream": "stdout",
       "text": [
        "\n",
        "165\n",
        "D:\\Data\\0_DAILY_INTERVAL_NDVI_TRMM\\InnerMongolia\\TRMM2\\5_Day_Period\\5_DaySums_Accumulated//TRMM_IM_2007166.tif\n",
        "170\n",
        "D:\\Data\\0_DAILY_INTERVAL_NDVI_TRMM\\InnerMongolia\\TRMM2\\5_Day_Period\\5_DaySums_Accumulated//TRMM_IM_2007171.tif\n",
        "175\n",
        "D:\\Data\\0_DAILY_INTERVAL_NDVI_TRMM\\InnerMongolia\\TRMM2\\5_Day_Period\\5_DaySums_Accumulated//TRMM_IM_2007176.tif\n",
        "180\n",
        "D:\\Data\\0_DAILY_INTERVAL_NDVI_TRMM\\InnerMongolia\\TRMM2\\5_Day_Period\\5_DaySums_Accumulated//TRMM_IM_2007181.tif\n",
        "185"
       ]
      },
      {
       "output_type": "stream",
       "stream": "stdout",
       "text": [
        "\n",
        "D:\\Data\\0_DAILY_INTERVAL_NDVI_TRMM\\InnerMongolia\\TRMM2\\5_Day_Period\\5_DaySums_Accumulated//TRMM_IM_2007186.tif\n",
        "190\n",
        "D:\\Data\\0_DAILY_INTERVAL_NDVI_TRMM\\InnerMongolia\\TRMM2\\5_Day_Period\\5_DaySums_Accumulated//TRMM_IM_2007191.tif\n",
        "195\n",
        "D:\\Data\\0_DAILY_INTERVAL_NDVI_TRMM\\InnerMongolia\\TRMM2\\5_Day_Period\\5_DaySums_Accumulated//TRMM_IM_2007196.tif\n",
        "200\n",
        "D:\\Data\\0_DAILY_INTERVAL_NDVI_TRMM\\InnerMongolia\\TRMM2\\5_Day_Period\\5_DaySums_Accumulated//TRMM_IM_2007201.tif\n",
        "205\n",
        "D:\\Data\\0_DAILY_INTERVAL_NDVI_TRMM\\InnerMongolia\\TRMM2\\5_Day_Period\\5_DaySums_Accumulated//TRMM_IM_2007206.tif"
       ]
      },
      {
       "output_type": "stream",
       "stream": "stdout",
       "text": [
        "\n",
        "210\n",
        "D:\\Data\\0_DAILY_INTERVAL_NDVI_TRMM\\InnerMongolia\\TRMM2\\5_Day_Period\\5_DaySums_Accumulated//TRMM_IM_2007211.tif\n",
        "215\n",
        "D:\\Data\\0_DAILY_INTERVAL_NDVI_TRMM\\InnerMongolia\\TRMM2\\5_Day_Period\\5_DaySums_Accumulated//TRMM_IM_2007216.tif\n",
        "220\n",
        "D:\\Data\\0_DAILY_INTERVAL_NDVI_TRMM\\InnerMongolia\\TRMM2\\5_Day_Period\\5_DaySums_Accumulated//TRMM_IM_2007221.tif\n",
        "225\n",
        "D:\\Data\\0_DAILY_INTERVAL_NDVI_TRMM\\InnerMongolia\\TRMM2\\5_Day_Period\\5_DaySums_Accumulated//TRMM_IM_2007226.tif\n",
        "230"
       ]
      },
      {
       "output_type": "stream",
       "stream": "stdout",
       "text": [
        "\n",
        "D:\\Data\\0_DAILY_INTERVAL_NDVI_TRMM\\InnerMongolia\\TRMM2\\5_Day_Period\\5_DaySums_Accumulated//TRMM_IM_2007231.tif\n",
        "235\n",
        "D:\\Data\\0_DAILY_INTERVAL_NDVI_TRMM\\InnerMongolia\\TRMM2\\5_Day_Period\\5_DaySums_Accumulated//TRMM_IM_2007236.tif\n",
        "240\n",
        "D:\\Data\\0_DAILY_INTERVAL_NDVI_TRMM\\InnerMongolia\\TRMM2\\5_Day_Period\\5_DaySums_Accumulated//TRMM_IM_2007241.tif\n",
        "245\n",
        "D:\\Data\\0_DAILY_INTERVAL_NDVI_TRMM\\InnerMongolia\\TRMM2\\5_Day_Period\\5_DaySums_Accumulated//TRMM_IM_2007246.tif\n",
        "250\n",
        "D:\\Data\\0_DAILY_INTERVAL_NDVI_TRMM\\InnerMongolia\\TRMM2\\5_Day_Period\\5_DaySums_Accumulated//TRMM_IM_2007251.tif"
       ]
      },
      {
       "output_type": "stream",
       "stream": "stdout",
       "text": [
        "\n",
        "255\n",
        "D:\\Data\\0_DAILY_INTERVAL_NDVI_TRMM\\InnerMongolia\\TRMM2\\5_Day_Period\\5_DaySums_Accumulated//TRMM_IM_2007256.tif\n",
        "260\n",
        "D:\\Data\\0_DAILY_INTERVAL_NDVI_TRMM\\InnerMongolia\\TRMM2\\5_Day_Period\\5_DaySums_Accumulated//TRMM_IM_2007261.tif\n",
        "265\n",
        "D:\\Data\\0_DAILY_INTERVAL_NDVI_TRMM\\InnerMongolia\\TRMM2\\5_Day_Period\\5_DaySums_Accumulated//TRMM_IM_2007266.tif\n",
        "270\n",
        "D:\\Data\\0_DAILY_INTERVAL_NDVI_TRMM\\InnerMongolia\\TRMM2\\5_Day_Period\\5_DaySums_Accumulated//TRMM_IM_2007271.tif\n",
        "275"
       ]
      },
      {
       "output_type": "stream",
       "stream": "stdout",
       "text": [
        "\n",
        "D:\\Data\\0_DAILY_INTERVAL_NDVI_TRMM\\InnerMongolia\\TRMM2\\5_Day_Period\\5_DaySums_Accumulated//TRMM_IM_2007276.tif\n",
        "280\n",
        "D:\\Data\\0_DAILY_INTERVAL_NDVI_TRMM\\InnerMongolia\\TRMM2\\5_Day_Period\\5_DaySums_Accumulated//TRMM_IM_2007281.tif\n",
        "285\n",
        "D:\\Data\\0_DAILY_INTERVAL_NDVI_TRMM\\InnerMongolia\\TRMM2\\5_Day_Period\\5_DaySums_Accumulated//TRMM_IM_2007286.tif\n",
        "290\n",
        "D:\\Data\\0_DAILY_INTERVAL_NDVI_TRMM\\InnerMongolia\\TRMM2\\5_Day_Period\\5_DaySums_Accumulated//TRMM_IM_2007291.tif\n",
        "295\n",
        "D:\\Data\\0_DAILY_INTERVAL_NDVI_TRMM\\InnerMongolia\\TRMM2\\5_Day_Period\\5_DaySums_Accumulated//TRMM_IM_2007296.tif"
       ]
      },
      {
       "output_type": "stream",
       "stream": "stdout",
       "text": [
        "\n",
        "300\n",
        "D:\\Data\\0_DAILY_INTERVAL_NDVI_TRMM\\InnerMongolia\\TRMM2\\5_Day_Period\\5_DaySums_Accumulated//TRMM_IM_2007301.tif\n",
        "305\n",
        "D:\\Data\\0_DAILY_INTERVAL_NDVI_TRMM\\InnerMongolia\\TRMM2\\5_Day_Period\\5_DaySums_Accumulated//TRMM_IM_2007306.tif\n",
        "310\n",
        "D:\\Data\\0_DAILY_INTERVAL_NDVI_TRMM\\InnerMongolia\\TRMM2\\5_Day_Period\\5_DaySums_Accumulated//TRMM_IM_2007311.tif\n",
        "315\n",
        "D:\\Data\\0_DAILY_INTERVAL_NDVI_TRMM\\InnerMongolia\\TRMM2\\5_Day_Period\\5_DaySums_Accumulated//TRMM_IM_2007316.tif\n",
        "320"
       ]
      },
      {
       "output_type": "stream",
       "stream": "stdout",
       "text": [
        "\n",
        "D:\\Data\\0_DAILY_INTERVAL_NDVI_TRMM\\InnerMongolia\\TRMM2\\5_Day_Period\\5_DaySums_Accumulated//TRMM_IM_2007321.tif\n",
        "325\n",
        "D:\\Data\\0_DAILY_INTERVAL_NDVI_TRMM\\InnerMongolia\\TRMM2\\5_Day_Period\\5_DaySums_Accumulated//TRMM_IM_2007326.tif\n",
        "330\n",
        "D:\\Data\\0_DAILY_INTERVAL_NDVI_TRMM\\InnerMongolia\\TRMM2\\5_Day_Period\\5_DaySums_Accumulated//TRMM_IM_2007331.tif\n",
        "335\n",
        "D:\\Data\\0_DAILY_INTERVAL_NDVI_TRMM\\InnerMongolia\\TRMM2\\5_Day_Period\\5_DaySums_Accumulated//TRMM_IM_2007336.tif\n",
        "340\n",
        "D:\\Data\\0_DAILY_INTERVAL_NDVI_TRMM\\InnerMongolia\\TRMM2\\5_Day_Period\\5_DaySums_Accumulated//TRMM_IM_2007341.tif"
       ]
      },
      {
       "output_type": "stream",
       "stream": "stdout",
       "text": [
        "\n",
        "345\n",
        "D:\\Data\\0_DAILY_INTERVAL_NDVI_TRMM\\InnerMongolia\\TRMM2\\5_Day_Period\\5_DaySums_Accumulated//TRMM_IM_2007346.tif\n",
        "350\n",
        "D:\\Data\\0_DAILY_INTERVAL_NDVI_TRMM\\InnerMongolia\\TRMM2\\5_Day_Period\\5_DaySums_Accumulated//TRMM_IM_2007351.tif\n",
        "355\n",
        "D:\\Data\\0_DAILY_INTERVAL_NDVI_TRMM\\InnerMongolia\\TRMM2\\5_Day_Period\\5_DaySums_Accumulated//TRMM_IM_2007356.tif\n",
        "360\n",
        "D:\\Data\\0_DAILY_INTERVAL_NDVI_TRMM\\InnerMongolia\\TRMM2\\5_Day_Period\\5_DaySums_Accumulated//TRMM_IM_2007361.tif"
       ]
      },
      {
       "output_type": "stream",
       "stream": "stdout",
       "text": [
        "\n",
        "2008\n",
        "0\n",
        "D:\\Data\\0_DAILY_INTERVAL_NDVI_TRMM\\InnerMongolia\\TRMM2\\5_Day_Period\\5_DaySums_Accumulated//TRMM_IM_2008001.tif\n",
        "5\n",
        "D:\\Data\\0_DAILY_INTERVAL_NDVI_TRMM\\InnerMongolia\\TRMM2\\5_Day_Period\\5_DaySums_Accumulated//TRMM_IM_2008006.tif\n",
        "10\n",
        "D:\\Data\\0_DAILY_INTERVAL_NDVI_TRMM\\InnerMongolia\\TRMM2\\5_Day_Period\\5_DaySums_Accumulated//TRMM_IM_2008011.tif\n",
        "15\n",
        "D:\\Data\\0_DAILY_INTERVAL_NDVI_TRMM\\InnerMongolia\\TRMM2\\5_Day_Period\\5_DaySums_Accumulated//TRMM_IM_2008016.tif"
       ]
      },
      {
       "output_type": "stream",
       "stream": "stdout",
       "text": [
        "\n",
        "20\n",
        "D:\\Data\\0_DAILY_INTERVAL_NDVI_TRMM\\InnerMongolia\\TRMM2\\5_Day_Period\\5_DaySums_Accumulated//TRMM_IM_2008021.tif\n",
        "25\n",
        "D:\\Data\\0_DAILY_INTERVAL_NDVI_TRMM\\InnerMongolia\\TRMM2\\5_Day_Period\\5_DaySums_Accumulated//TRMM_IM_2008026.tif\n",
        "30\n",
        "D:\\Data\\0_DAILY_INTERVAL_NDVI_TRMM\\InnerMongolia\\TRMM2\\5_Day_Period\\5_DaySums_Accumulated//TRMM_IM_2008031.tif\n",
        "35\n",
        "D:\\Data\\0_DAILY_INTERVAL_NDVI_TRMM\\InnerMongolia\\TRMM2\\5_Day_Period\\5_DaySums_Accumulated//TRMM_IM_2008036.tif\n",
        "40"
       ]
      },
      {
       "output_type": "stream",
       "stream": "stdout",
       "text": [
        "\n",
        "D:\\Data\\0_DAILY_INTERVAL_NDVI_TRMM\\InnerMongolia\\TRMM2\\5_Day_Period\\5_DaySums_Accumulated//TRMM_IM_2008041.tif\n",
        "45\n",
        "D:\\Data\\0_DAILY_INTERVAL_NDVI_TRMM\\InnerMongolia\\TRMM2\\5_Day_Period\\5_DaySums_Accumulated//TRMM_IM_2008046.tif\n",
        "50\n",
        "D:\\Data\\0_DAILY_INTERVAL_NDVI_TRMM\\InnerMongolia\\TRMM2\\5_Day_Period\\5_DaySums_Accumulated//TRMM_IM_2008051.tif\n",
        "55\n",
        "D:\\Data\\0_DAILY_INTERVAL_NDVI_TRMM\\InnerMongolia\\TRMM2\\5_Day_Period\\5_DaySums_Accumulated//TRMM_IM_2008056.tif\n",
        "60"
       ]
      },
      {
       "output_type": "stream",
       "stream": "stdout",
       "text": [
        "\n",
        "D:\\Data\\0_DAILY_INTERVAL_NDVI_TRMM\\InnerMongolia\\TRMM2\\5_Day_Period\\5_DaySums_Accumulated//TRMM_IM_2008061.tif\n",
        "65\n",
        "D:\\Data\\0_DAILY_INTERVAL_NDVI_TRMM\\InnerMongolia\\TRMM2\\5_Day_Period\\5_DaySums_Accumulated//TRMM_IM_2008066.tif\n",
        "70\n",
        "D:\\Data\\0_DAILY_INTERVAL_NDVI_TRMM\\InnerMongolia\\TRMM2\\5_Day_Period\\5_DaySums_Accumulated//TRMM_IM_2008071.tif\n",
        "75\n",
        "D:\\Data\\0_DAILY_INTERVAL_NDVI_TRMM\\InnerMongolia\\TRMM2\\5_Day_Period\\5_DaySums_Accumulated//TRMM_IM_2008076.tif\n",
        "80\n",
        "D:\\Data\\0_DAILY_INTERVAL_NDVI_TRMM\\InnerMongolia\\TRMM2\\5_Day_Period\\5_DaySums_Accumulated//TRMM_IM_2008081.tif"
       ]
      },
      {
       "output_type": "stream",
       "stream": "stdout",
       "text": [
        "\n",
        "85\n",
        "D:\\Data\\0_DAILY_INTERVAL_NDVI_TRMM\\InnerMongolia\\TRMM2\\5_Day_Period\\5_DaySums_Accumulated//TRMM_IM_2008086.tif\n",
        "90\n",
        "D:\\Data\\0_DAILY_INTERVAL_NDVI_TRMM\\InnerMongolia\\TRMM2\\5_Day_Period\\5_DaySums_Accumulated//TRMM_IM_2008091.tif\n",
        "95\n",
        "D:\\Data\\0_DAILY_INTERVAL_NDVI_TRMM\\InnerMongolia\\TRMM2\\5_Day_Period\\5_DaySums_Accumulated//TRMM_IM_2008096.tif\n",
        "100\n",
        "D:\\Data\\0_DAILY_INTERVAL_NDVI_TRMM\\InnerMongolia\\TRMM2\\5_Day_Period\\5_DaySums_Accumulated//TRMM_IM_2008101.tif"
       ]
      },
      {
       "output_type": "stream",
       "stream": "stdout",
       "text": [
        "\n",
        "105\n",
        "D:\\Data\\0_DAILY_INTERVAL_NDVI_TRMM\\InnerMongolia\\TRMM2\\5_Day_Period\\5_DaySums_Accumulated//TRMM_IM_2008106.tif\n",
        "110\n",
        "D:\\Data\\0_DAILY_INTERVAL_NDVI_TRMM\\InnerMongolia\\TRMM2\\5_Day_Period\\5_DaySums_Accumulated//TRMM_IM_2008111.tif\n",
        "115\n",
        "D:\\Data\\0_DAILY_INTERVAL_NDVI_TRMM\\InnerMongolia\\TRMM2\\5_Day_Period\\5_DaySums_Accumulated//TRMM_IM_2008116.tif\n",
        "120\n",
        "D:\\Data\\0_DAILY_INTERVAL_NDVI_TRMM\\InnerMongolia\\TRMM2\\5_Day_Period\\5_DaySums_Accumulated//TRMM_IM_2008121.tif\n",
        "125"
       ]
      },
      {
       "output_type": "stream",
       "stream": "stdout",
       "text": [
        "\n",
        "D:\\Data\\0_DAILY_INTERVAL_NDVI_TRMM\\InnerMongolia\\TRMM2\\5_Day_Period\\5_DaySums_Accumulated//TRMM_IM_2008126.tif\n",
        "130\n",
        "D:\\Data\\0_DAILY_INTERVAL_NDVI_TRMM\\InnerMongolia\\TRMM2\\5_Day_Period\\5_DaySums_Accumulated//TRMM_IM_2008131.tif\n",
        "135\n",
        "D:\\Data\\0_DAILY_INTERVAL_NDVI_TRMM\\InnerMongolia\\TRMM2\\5_Day_Period\\5_DaySums_Accumulated//TRMM_IM_2008136.tif\n",
        "140\n",
        "D:\\Data\\0_DAILY_INTERVAL_NDVI_TRMM\\InnerMongolia\\TRMM2\\5_Day_Period\\5_DaySums_Accumulated//TRMM_IM_2008141.tif\n",
        "145\n",
        "D:\\Data\\0_DAILY_INTERVAL_NDVI_TRMM\\InnerMongolia\\TRMM2\\5_Day_Period\\5_DaySums_Accumulated//TRMM_IM_2008146.tif"
       ]
      },
      {
       "output_type": "stream",
       "stream": "stdout",
       "text": [
        "\n",
        "150\n",
        "D:\\Data\\0_DAILY_INTERVAL_NDVI_TRMM\\InnerMongolia\\TRMM2\\5_Day_Period\\5_DaySums_Accumulated//TRMM_IM_2008151.tif\n",
        "155\n",
        "D:\\Data\\0_DAILY_INTERVAL_NDVI_TRMM\\InnerMongolia\\TRMM2\\5_Day_Period\\5_DaySums_Accumulated//TRMM_IM_2008156.tif\n",
        "160\n",
        "D:\\Data\\0_DAILY_INTERVAL_NDVI_TRMM\\InnerMongolia\\TRMM2\\5_Day_Period\\5_DaySums_Accumulated//TRMM_IM_2008161.tif\n",
        "165\n",
        "D:\\Data\\0_DAILY_INTERVAL_NDVI_TRMM\\InnerMongolia\\TRMM2\\5_Day_Period\\5_DaySums_Accumulated//TRMM_IM_2008166.tif"
       ]
      },
      {
       "output_type": "stream",
       "stream": "stdout",
       "text": [
        "\n",
        "170\n",
        "D:\\Data\\0_DAILY_INTERVAL_NDVI_TRMM\\InnerMongolia\\TRMM2\\5_Day_Period\\5_DaySums_Accumulated//TRMM_IM_2008171.tif\n",
        "175\n",
        "D:\\Data\\0_DAILY_INTERVAL_NDVI_TRMM\\InnerMongolia\\TRMM2\\5_Day_Period\\5_DaySums_Accumulated//TRMM_IM_2008176.tif\n",
        "180\n",
        "D:\\Data\\0_DAILY_INTERVAL_NDVI_TRMM\\InnerMongolia\\TRMM2\\5_Day_Period\\5_DaySums_Accumulated//TRMM_IM_2008181.tif\n",
        "185\n",
        "D:\\Data\\0_DAILY_INTERVAL_NDVI_TRMM\\InnerMongolia\\TRMM2\\5_Day_Period\\5_DaySums_Accumulated//TRMM_IM_2008186.tif"
       ]
      },
      {
       "output_type": "stream",
       "stream": "stdout",
       "text": [
        "\n",
        "190\n",
        "D:\\Data\\0_DAILY_INTERVAL_NDVI_TRMM\\InnerMongolia\\TRMM2\\5_Day_Period\\5_DaySums_Accumulated//TRMM_IM_2008191.tif\n",
        "195\n",
        "D:\\Data\\0_DAILY_INTERVAL_NDVI_TRMM\\InnerMongolia\\TRMM2\\5_Day_Period\\5_DaySums_Accumulated//TRMM_IM_2008196.tif\n",
        "200\n",
        "D:\\Data\\0_DAILY_INTERVAL_NDVI_TRMM\\InnerMongolia\\TRMM2\\5_Day_Period\\5_DaySums_Accumulated//TRMM_IM_2008201.tif\n",
        "205"
       ]
      },
      {
       "output_type": "stream",
       "stream": "stdout",
       "text": [
        "\n",
        "D:\\Data\\0_DAILY_INTERVAL_NDVI_TRMM\\InnerMongolia\\TRMM2\\5_Day_Period\\5_DaySums_Accumulated//TRMM_IM_2008206.tif\n",
        "210\n",
        "D:\\Data\\0_DAILY_INTERVAL_NDVI_TRMM\\InnerMongolia\\TRMM2\\5_Day_Period\\5_DaySums_Accumulated//TRMM_IM_2008211.tif\n",
        "215\n",
        "D:\\Data\\0_DAILY_INTERVAL_NDVI_TRMM\\InnerMongolia\\TRMM2\\5_Day_Period\\5_DaySums_Accumulated//TRMM_IM_2008216.tif\n",
        "220\n",
        "D:\\Data\\0_DAILY_INTERVAL_NDVI_TRMM\\InnerMongolia\\TRMM2\\5_Day_Period\\5_DaySums_Accumulated//TRMM_IM_2008221.tif\n",
        "225"
       ]
      },
      {
       "output_type": "stream",
       "stream": "stdout",
       "text": [
        "\n",
        "D:\\Data\\0_DAILY_INTERVAL_NDVI_TRMM\\InnerMongolia\\TRMM2\\5_Day_Period\\5_DaySums_Accumulated//TRMM_IM_2008226.tif\n",
        "230\n",
        "D:\\Data\\0_DAILY_INTERVAL_NDVI_TRMM\\InnerMongolia\\TRMM2\\5_Day_Period\\5_DaySums_Accumulated//TRMM_IM_2008231.tif\n",
        "235\n",
        "D:\\Data\\0_DAILY_INTERVAL_NDVI_TRMM\\InnerMongolia\\TRMM2\\5_Day_Period\\5_DaySums_Accumulated//TRMM_IM_2008236.tif\n",
        "240\n",
        "D:\\Data\\0_DAILY_INTERVAL_NDVI_TRMM\\InnerMongolia\\TRMM2\\5_Day_Period\\5_DaySums_Accumulated//TRMM_IM_2008241.tif\n",
        "245"
       ]
      },
      {
       "output_type": "stream",
       "stream": "stdout",
       "text": [
        "\n",
        "D:\\Data\\0_DAILY_INTERVAL_NDVI_TRMM\\InnerMongolia\\TRMM2\\5_Day_Period\\5_DaySums_Accumulated//TRMM_IM_2008246.tif\n",
        "250\n",
        "D:\\Data\\0_DAILY_INTERVAL_NDVI_TRMM\\InnerMongolia\\TRMM2\\5_Day_Period\\5_DaySums_Accumulated//TRMM_IM_2008251.tif\n",
        "255\n",
        "D:\\Data\\0_DAILY_INTERVAL_NDVI_TRMM\\InnerMongolia\\TRMM2\\5_Day_Period\\5_DaySums_Accumulated//TRMM_IM_2008256.tif\n",
        "260\n",
        "D:\\Data\\0_DAILY_INTERVAL_NDVI_TRMM\\InnerMongolia\\TRMM2\\5_Day_Period\\5_DaySums_Accumulated//TRMM_IM_2008261.tif\n",
        "265"
       ]
      },
      {
       "output_type": "stream",
       "stream": "stdout",
       "text": [
        "\n",
        "D:\\Data\\0_DAILY_INTERVAL_NDVI_TRMM\\InnerMongolia\\TRMM2\\5_Day_Period\\5_DaySums_Accumulated//TRMM_IM_2008266.tif\n",
        "270\n",
        "D:\\Data\\0_DAILY_INTERVAL_NDVI_TRMM\\InnerMongolia\\TRMM2\\5_Day_Period\\5_DaySums_Accumulated//TRMM_IM_2008271.tif\n",
        "275\n",
        "D:\\Data\\0_DAILY_INTERVAL_NDVI_TRMM\\InnerMongolia\\TRMM2\\5_Day_Period\\5_DaySums_Accumulated//TRMM_IM_2008276.tif\n",
        "280\n",
        "D:\\Data\\0_DAILY_INTERVAL_NDVI_TRMM\\InnerMongolia\\TRMM2\\5_Day_Period\\5_DaySums_Accumulated//TRMM_IM_2008281.tif\n",
        "285"
       ]
      },
      {
       "output_type": "stream",
       "stream": "stdout",
       "text": [
        "\n",
        "D:\\Data\\0_DAILY_INTERVAL_NDVI_TRMM\\InnerMongolia\\TRMM2\\5_Day_Period\\5_DaySums_Accumulated//TRMM_IM_2008286.tif\n",
        "290\n",
        "D:\\Data\\0_DAILY_INTERVAL_NDVI_TRMM\\InnerMongolia\\TRMM2\\5_Day_Period\\5_DaySums_Accumulated//TRMM_IM_2008291.tif\n",
        "295\n",
        "D:\\Data\\0_DAILY_INTERVAL_NDVI_TRMM\\InnerMongolia\\TRMM2\\5_Day_Period\\5_DaySums_Accumulated//TRMM_IM_2008296.tif\n",
        "300\n",
        "D:\\Data\\0_DAILY_INTERVAL_NDVI_TRMM\\InnerMongolia\\TRMM2\\5_Day_Period\\5_DaySums_Accumulated//TRMM_IM_2008301.tif\n",
        "305\n",
        "D:\\Data\\0_DAILY_INTERVAL_NDVI_TRMM\\InnerMongolia\\TRMM2\\5_Day_Period\\5_DaySums_Accumulated//TRMM_IM_2008306.tif"
       ]
      },
      {
       "output_type": "stream",
       "stream": "stdout",
       "text": [
        "\n",
        "310\n",
        "D:\\Data\\0_DAILY_INTERVAL_NDVI_TRMM\\InnerMongolia\\TRMM2\\5_Day_Period\\5_DaySums_Accumulated//TRMM_IM_2008311.tif\n",
        "315\n",
        "D:\\Data\\0_DAILY_INTERVAL_NDVI_TRMM\\InnerMongolia\\TRMM2\\5_Day_Period\\5_DaySums_Accumulated//TRMM_IM_2008316.tif\n",
        "320\n",
        "D:\\Data\\0_DAILY_INTERVAL_NDVI_TRMM\\InnerMongolia\\TRMM2\\5_Day_Period\\5_DaySums_Accumulated//TRMM_IM_2008321.tif\n",
        "325\n",
        "D:\\Data\\0_DAILY_INTERVAL_NDVI_TRMM\\InnerMongolia\\TRMM2\\5_Day_Period\\5_DaySums_Accumulated//TRMM_IM_2008326.tif\n",
        "330"
       ]
      },
      {
       "output_type": "stream",
       "stream": "stdout",
       "text": [
        "\n",
        "D:\\Data\\0_DAILY_INTERVAL_NDVI_TRMM\\InnerMongolia\\TRMM2\\5_Day_Period\\5_DaySums_Accumulated//TRMM_IM_2008331.tif\n",
        "335\n",
        "D:\\Data\\0_DAILY_INTERVAL_NDVI_TRMM\\InnerMongolia\\TRMM2\\5_Day_Period\\5_DaySums_Accumulated//TRMM_IM_2008336.tif\n",
        "340\n",
        "D:\\Data\\0_DAILY_INTERVAL_NDVI_TRMM\\InnerMongolia\\TRMM2\\5_Day_Period\\5_DaySums_Accumulated//TRMM_IM_2008341.tif\n",
        "345\n",
        "D:\\Data\\0_DAILY_INTERVAL_NDVI_TRMM\\InnerMongolia\\TRMM2\\5_Day_Period\\5_DaySums_Accumulated//TRMM_IM_2008346.tif\n",
        "350\n",
        "D:\\Data\\0_DAILY_INTERVAL_NDVI_TRMM\\InnerMongolia\\TRMM2\\5_Day_Period\\5_DaySums_Accumulated//TRMM_IM_2008351.tif"
       ]
      },
      {
       "output_type": "stream",
       "stream": "stdout",
       "text": [
        "\n",
        "355\n",
        "D:\\Data\\0_DAILY_INTERVAL_NDVI_TRMM\\InnerMongolia\\TRMM2\\5_Day_Period\\5_DaySums_Accumulated//TRMM_IM_2008356.tif\n",
        "360\n",
        "D:\\Data\\0_DAILY_INTERVAL_NDVI_TRMM\\InnerMongolia\\TRMM2\\5_Day_Period\\5_DaySums_Accumulated//TRMM_IM_2008361.tif\n",
        "365\n",
        "D:\\Data\\0_DAILY_INTERVAL_NDVI_TRMM\\InnerMongolia\\TRMM2\\5_Day_Period\\5_DaySums_Accumulated//TRMM_IM_2008366.tif\n",
        "2009\n",
        "0\n",
        "D:\\Data\\0_DAILY_INTERVAL_NDVI_TRMM\\InnerMongolia\\TRMM2\\5_Day_Period\\5_DaySums_Accumulated//TRMM_IM_2009001.tif"
       ]
      },
      {
       "output_type": "stream",
       "stream": "stdout",
       "text": [
        "\n",
        "5\n",
        "D:\\Data\\0_DAILY_INTERVAL_NDVI_TRMM\\InnerMongolia\\TRMM2\\5_Day_Period\\5_DaySums_Accumulated//TRMM_IM_2009006.tif\n",
        "10\n",
        "D:\\Data\\0_DAILY_INTERVAL_NDVI_TRMM\\InnerMongolia\\TRMM2\\5_Day_Period\\5_DaySums_Accumulated//TRMM_IM_2009011.tif\n",
        "15\n",
        "D:\\Data\\0_DAILY_INTERVAL_NDVI_TRMM\\InnerMongolia\\TRMM2\\5_Day_Period\\5_DaySums_Accumulated//TRMM_IM_2009016.tif\n",
        "20\n",
        "D:\\Data\\0_DAILY_INTERVAL_NDVI_TRMM\\InnerMongolia\\TRMM2\\5_Day_Period\\5_DaySums_Accumulated//TRMM_IM_2009021.tif\n",
        "25"
       ]
      },
      {
       "output_type": "stream",
       "stream": "stdout",
       "text": [
        "\n",
        "D:\\Data\\0_DAILY_INTERVAL_NDVI_TRMM\\InnerMongolia\\TRMM2\\5_Day_Period\\5_DaySums_Accumulated//TRMM_IM_2009026.tif\n",
        "30\n",
        "D:\\Data\\0_DAILY_INTERVAL_NDVI_TRMM\\InnerMongolia\\TRMM2\\5_Day_Period\\5_DaySums_Accumulated//TRMM_IM_2009031.tif\n",
        "35\n",
        "D:\\Data\\0_DAILY_INTERVAL_NDVI_TRMM\\InnerMongolia\\TRMM2\\5_Day_Period\\5_DaySums_Accumulated//TRMM_IM_2009036.tif\n",
        "40\n",
        "D:\\Data\\0_DAILY_INTERVAL_NDVI_TRMM\\InnerMongolia\\TRMM2\\5_Day_Period\\5_DaySums_Accumulated//TRMM_IM_2009041.tif\n",
        "45\n",
        "D:\\Data\\0_DAILY_INTERVAL_NDVI_TRMM\\InnerMongolia\\TRMM2\\5_Day_Period\\5_DaySums_Accumulated//TRMM_IM_2009046.tif"
       ]
      },
      {
       "output_type": "stream",
       "stream": "stdout",
       "text": [
        "\n",
        "50\n",
        "D:\\Data\\0_DAILY_INTERVAL_NDVI_TRMM\\InnerMongolia\\TRMM2\\5_Day_Period\\5_DaySums_Accumulated//TRMM_IM_2009051.tif\n",
        "55\n",
        "D:\\Data\\0_DAILY_INTERVAL_NDVI_TRMM\\InnerMongolia\\TRMM2\\5_Day_Period\\5_DaySums_Accumulated//TRMM_IM_2009056.tif\n",
        "60\n",
        "D:\\Data\\0_DAILY_INTERVAL_NDVI_TRMM\\InnerMongolia\\TRMM2\\5_Day_Period\\5_DaySums_Accumulated//TRMM_IM_2009061.tif\n",
        "65\n",
        "D:\\Data\\0_DAILY_INTERVAL_NDVI_TRMM\\InnerMongolia\\TRMM2\\5_Day_Period\\5_DaySums_Accumulated//TRMM_IM_2009066.tif"
       ]
      },
      {
       "output_type": "stream",
       "stream": "stdout",
       "text": [
        "\n",
        "70\n",
        "D:\\Data\\0_DAILY_INTERVAL_NDVI_TRMM\\InnerMongolia\\TRMM2\\5_Day_Period\\5_DaySums_Accumulated//TRMM_IM_2009071.tif\n",
        "75\n",
        "D:\\Data\\0_DAILY_INTERVAL_NDVI_TRMM\\InnerMongolia\\TRMM2\\5_Day_Period\\5_DaySums_Accumulated//TRMM_IM_2009076.tif\n",
        "80\n",
        "D:\\Data\\0_DAILY_INTERVAL_NDVI_TRMM\\InnerMongolia\\TRMM2\\5_Day_Period\\5_DaySums_Accumulated//TRMM_IM_2009081.tif\n",
        "85\n",
        "D:\\Data\\0_DAILY_INTERVAL_NDVI_TRMM\\InnerMongolia\\TRMM2\\5_Day_Period\\5_DaySums_Accumulated//TRMM_IM_2009086.tif"
       ]
      },
      {
       "output_type": "stream",
       "stream": "stdout",
       "text": [
        "\n",
        "90\n",
        "D:\\Data\\0_DAILY_INTERVAL_NDVI_TRMM\\InnerMongolia\\TRMM2\\5_Day_Period\\5_DaySums_Accumulated//TRMM_IM_2009091.tif\n",
        "95\n",
        "D:\\Data\\0_DAILY_INTERVAL_NDVI_TRMM\\InnerMongolia\\TRMM2\\5_Day_Period\\5_DaySums_Accumulated//TRMM_IM_2009096.tif\n",
        "100\n",
        "D:\\Data\\0_DAILY_INTERVAL_NDVI_TRMM\\InnerMongolia\\TRMM2\\5_Day_Period\\5_DaySums_Accumulated//TRMM_IM_2009101.tif\n",
        "105\n",
        "D:\\Data\\0_DAILY_INTERVAL_NDVI_TRMM\\InnerMongolia\\TRMM2\\5_Day_Period\\5_DaySums_Accumulated//TRMM_IM_2009106.tif\n",
        "110"
       ]
      },
      {
       "output_type": "stream",
       "stream": "stdout",
       "text": [
        "\n",
        "D:\\Data\\0_DAILY_INTERVAL_NDVI_TRMM\\InnerMongolia\\TRMM2\\5_Day_Period\\5_DaySums_Accumulated//TRMM_IM_2009111.tif\n",
        "115\n",
        "D:\\Data\\0_DAILY_INTERVAL_NDVI_TRMM\\InnerMongolia\\TRMM2\\5_Day_Period\\5_DaySums_Accumulated//TRMM_IM_2009116.tif\n",
        "120\n",
        "D:\\Data\\0_DAILY_INTERVAL_NDVI_TRMM\\InnerMongolia\\TRMM2\\5_Day_Period\\5_DaySums_Accumulated//TRMM_IM_2009121.tif\n",
        "125\n",
        "D:\\Data\\0_DAILY_INTERVAL_NDVI_TRMM\\InnerMongolia\\TRMM2\\5_Day_Period\\5_DaySums_Accumulated//TRMM_IM_2009126.tif\n",
        "130"
       ]
      },
      {
       "output_type": "stream",
       "stream": "stdout",
       "text": [
        "\n",
        "D:\\Data\\0_DAILY_INTERVAL_NDVI_TRMM\\InnerMongolia\\TRMM2\\5_Day_Period\\5_DaySums_Accumulated//TRMM_IM_2009131.tif\n",
        "135\n",
        "D:\\Data\\0_DAILY_INTERVAL_NDVI_TRMM\\InnerMongolia\\TRMM2\\5_Day_Period\\5_DaySums_Accumulated//TRMM_IM_2009136.tif\n",
        "140\n",
        "D:\\Data\\0_DAILY_INTERVAL_NDVI_TRMM\\InnerMongolia\\TRMM2\\5_Day_Period\\5_DaySums_Accumulated//TRMM_IM_2009141.tif\n",
        "145\n",
        "D:\\Data\\0_DAILY_INTERVAL_NDVI_TRMM\\InnerMongolia\\TRMM2\\5_Day_Period\\5_DaySums_Accumulated//TRMM_IM_2009146.tif\n",
        "150\n",
        "D:\\Data\\0_DAILY_INTERVAL_NDVI_TRMM\\InnerMongolia\\TRMM2\\5_Day_Period\\5_DaySums_Accumulated//TRMM_IM_2009151.tif"
       ]
      },
      {
       "output_type": "stream",
       "stream": "stdout",
       "text": [
        "\n",
        "155\n",
        "D:\\Data\\0_DAILY_INTERVAL_NDVI_TRMM\\InnerMongolia\\TRMM2\\5_Day_Period\\5_DaySums_Accumulated//TRMM_IM_2009156.tif\n",
        "160\n",
        "D:\\Data\\0_DAILY_INTERVAL_NDVI_TRMM\\InnerMongolia\\TRMM2\\5_Day_Period\\5_DaySums_Accumulated//TRMM_IM_2009161.tif\n",
        "165\n",
        "D:\\Data\\0_DAILY_INTERVAL_NDVI_TRMM\\InnerMongolia\\TRMM2\\5_Day_Period\\5_DaySums_Accumulated//TRMM_IM_2009166.tif\n",
        "170\n",
        "D:\\Data\\0_DAILY_INTERVAL_NDVI_TRMM\\InnerMongolia\\TRMM2\\5_Day_Period\\5_DaySums_Accumulated//TRMM_IM_2009171.tif"
       ]
      },
      {
       "output_type": "stream",
       "stream": "stdout",
       "text": [
        "\n",
        "175\n",
        "D:\\Data\\0_DAILY_INTERVAL_NDVI_TRMM\\InnerMongolia\\TRMM2\\5_Day_Period\\5_DaySums_Accumulated//TRMM_IM_2009176.tif\n",
        "180\n",
        "D:\\Data\\0_DAILY_INTERVAL_NDVI_TRMM\\InnerMongolia\\TRMM2\\5_Day_Period\\5_DaySums_Accumulated//TRMM_IM_2009181.tif\n",
        "185\n",
        "D:\\Data\\0_DAILY_INTERVAL_NDVI_TRMM\\InnerMongolia\\TRMM2\\5_Day_Period\\5_DaySums_Accumulated//TRMM_IM_2009186.tif\n",
        "190\n",
        "D:\\Data\\0_DAILY_INTERVAL_NDVI_TRMM\\InnerMongolia\\TRMM2\\5_Day_Period\\5_DaySums_Accumulated//TRMM_IM_2009191.tif"
       ]
      },
      {
       "output_type": "stream",
       "stream": "stdout",
       "text": [
        "\n",
        "195\n",
        "D:\\Data\\0_DAILY_INTERVAL_NDVI_TRMM\\InnerMongolia\\TRMM2\\5_Day_Period\\5_DaySums_Accumulated//TRMM_IM_2009196.tif\n",
        "200\n",
        "D:\\Data\\0_DAILY_INTERVAL_NDVI_TRMM\\InnerMongolia\\TRMM2\\5_Day_Period\\5_DaySums_Accumulated//TRMM_IM_2009201.tif\n",
        "205\n",
        "D:\\Data\\0_DAILY_INTERVAL_NDVI_TRMM\\InnerMongolia\\TRMM2\\5_Day_Period\\5_DaySums_Accumulated//TRMM_IM_2009206.tif\n",
        "210\n",
        "D:\\Data\\0_DAILY_INTERVAL_NDVI_TRMM\\InnerMongolia\\TRMM2\\5_Day_Period\\5_DaySums_Accumulated//TRMM_IM_2009211.tif"
       ]
      },
      {
       "output_type": "stream",
       "stream": "stdout",
       "text": [
        "\n",
        "215\n",
        "D:\\Data\\0_DAILY_INTERVAL_NDVI_TRMM\\InnerMongolia\\TRMM2\\5_Day_Period\\5_DaySums_Accumulated//TRMM_IM_2009216.tif\n",
        "220\n",
        "D:\\Data\\0_DAILY_INTERVAL_NDVI_TRMM\\InnerMongolia\\TRMM2\\5_Day_Period\\5_DaySums_Accumulated//TRMM_IM_2009221.tif\n",
        "225\n",
        "D:\\Data\\0_DAILY_INTERVAL_NDVI_TRMM\\InnerMongolia\\TRMM2\\5_Day_Period\\5_DaySums_Accumulated//TRMM_IM_2009226.tif\n",
        "230\n",
        "D:\\Data\\0_DAILY_INTERVAL_NDVI_TRMM\\InnerMongolia\\TRMM2\\5_Day_Period\\5_DaySums_Accumulated//TRMM_IM_2009231.tif"
       ]
      },
      {
       "output_type": "stream",
       "stream": "stdout",
       "text": [
        "\n",
        "235\n",
        "D:\\Data\\0_DAILY_INTERVAL_NDVI_TRMM\\InnerMongolia\\TRMM2\\5_Day_Period\\5_DaySums_Accumulated//TRMM_IM_2009236.tif\n",
        "240\n",
        "D:\\Data\\0_DAILY_INTERVAL_NDVI_TRMM\\InnerMongolia\\TRMM2\\5_Day_Period\\5_DaySums_Accumulated//TRMM_IM_2009241.tif\n",
        "245\n",
        "D:\\Data\\0_DAILY_INTERVAL_NDVI_TRMM\\InnerMongolia\\TRMM2\\5_Day_Period\\5_DaySums_Accumulated//TRMM_IM_2009246.tif\n",
        "250\n",
        "D:\\Data\\0_DAILY_INTERVAL_NDVI_TRMM\\InnerMongolia\\TRMM2\\5_Day_Period\\5_DaySums_Accumulated//TRMM_IM_2009251.tif\n",
        "255"
       ]
      },
      {
       "output_type": "stream",
       "stream": "stdout",
       "text": [
        "\n",
        "D:\\Data\\0_DAILY_INTERVAL_NDVI_TRMM\\InnerMongolia\\TRMM2\\5_Day_Period\\5_DaySums_Accumulated//TRMM_IM_2009256.tif\n",
        "260\n",
        "D:\\Data\\0_DAILY_INTERVAL_NDVI_TRMM\\InnerMongolia\\TRMM2\\5_Day_Period\\5_DaySums_Accumulated//TRMM_IM_2009261.tif\n",
        "265\n",
        "D:\\Data\\0_DAILY_INTERVAL_NDVI_TRMM\\InnerMongolia\\TRMM2\\5_Day_Period\\5_DaySums_Accumulated//TRMM_IM_2009266.tif\n",
        "270\n",
        "D:\\Data\\0_DAILY_INTERVAL_NDVI_TRMM\\InnerMongolia\\TRMM2\\5_Day_Period\\5_DaySums_Accumulated//TRMM_IM_2009271.tif\n",
        "275\n",
        "D:\\Data\\0_DAILY_INTERVAL_NDVI_TRMM\\InnerMongolia\\TRMM2\\5_Day_Period\\5_DaySums_Accumulated//TRMM_IM_2009276.tif"
       ]
      },
      {
       "output_type": "stream",
       "stream": "stdout",
       "text": [
        "\n",
        "280\n",
        "D:\\Data\\0_DAILY_INTERVAL_NDVI_TRMM\\InnerMongolia\\TRMM2\\5_Day_Period\\5_DaySums_Accumulated//TRMM_IM_2009281.tif\n",
        "285\n",
        "D:\\Data\\0_DAILY_INTERVAL_NDVI_TRMM\\InnerMongolia\\TRMM2\\5_Day_Period\\5_DaySums_Accumulated//TRMM_IM_2009286.tif\n",
        "290\n",
        "D:\\Data\\0_DAILY_INTERVAL_NDVI_TRMM\\InnerMongolia\\TRMM2\\5_Day_Period\\5_DaySums_Accumulated//TRMM_IM_2009291.tif\n",
        "295\n",
        "D:\\Data\\0_DAILY_INTERVAL_NDVI_TRMM\\InnerMongolia\\TRMM2\\5_Day_Period\\5_DaySums_Accumulated//TRMM_IM_2009296.tif\n",
        "300"
       ]
      },
      {
       "output_type": "stream",
       "stream": "stdout",
       "text": [
        "\n",
        "D:\\Data\\0_DAILY_INTERVAL_NDVI_TRMM\\InnerMongolia\\TRMM2\\5_Day_Period\\5_DaySums_Accumulated//TRMM_IM_2009301.tif\n",
        "305\n",
        "D:\\Data\\0_DAILY_INTERVAL_NDVI_TRMM\\InnerMongolia\\TRMM2\\5_Day_Period\\5_DaySums_Accumulated//TRMM_IM_2009306.tif\n",
        "310\n",
        "D:\\Data\\0_DAILY_INTERVAL_NDVI_TRMM\\InnerMongolia\\TRMM2\\5_Day_Period\\5_DaySums_Accumulated//TRMM_IM_2009311.tif\n",
        "315\n",
        "D:\\Data\\0_DAILY_INTERVAL_NDVI_TRMM\\InnerMongolia\\TRMM2\\5_Day_Period\\5_DaySums_Accumulated//TRMM_IM_2009316.tif\n",
        "320"
       ]
      },
      {
       "output_type": "stream",
       "stream": "stdout",
       "text": [
        "\n",
        "D:\\Data\\0_DAILY_INTERVAL_NDVI_TRMM\\InnerMongolia\\TRMM2\\5_Day_Period\\5_DaySums_Accumulated//TRMM_IM_2009321.tif\n",
        "325\n",
        "D:\\Data\\0_DAILY_INTERVAL_NDVI_TRMM\\InnerMongolia\\TRMM2\\5_Day_Period\\5_DaySums_Accumulated//TRMM_IM_2009326.tif\n",
        "330\n",
        "D:\\Data\\0_DAILY_INTERVAL_NDVI_TRMM\\InnerMongolia\\TRMM2\\5_Day_Period\\5_DaySums_Accumulated//TRMM_IM_2009331.tif\n",
        "335\n",
        "D:\\Data\\0_DAILY_INTERVAL_NDVI_TRMM\\InnerMongolia\\TRMM2\\5_Day_Period\\5_DaySums_Accumulated//TRMM_IM_2009336.tif\n",
        "340\n",
        "D:\\Data\\0_DAILY_INTERVAL_NDVI_TRMM\\InnerMongolia\\TRMM2\\5_Day_Period\\5_DaySums_Accumulated//TRMM_IM_2009341.tif"
       ]
      },
      {
       "output_type": "stream",
       "stream": "stdout",
       "text": [
        "\n",
        "345\n",
        "D:\\Data\\0_DAILY_INTERVAL_NDVI_TRMM\\InnerMongolia\\TRMM2\\5_Day_Period\\5_DaySums_Accumulated//TRMM_IM_2009346.tif\n",
        "350\n",
        "D:\\Data\\0_DAILY_INTERVAL_NDVI_TRMM\\InnerMongolia\\TRMM2\\5_Day_Period\\5_DaySums_Accumulated//TRMM_IM_2009351.tif\n",
        "355\n",
        "D:\\Data\\0_DAILY_INTERVAL_NDVI_TRMM\\InnerMongolia\\TRMM2\\5_Day_Period\\5_DaySums_Accumulated//TRMM_IM_2009356.tif\n",
        "360\n",
        "D:\\Data\\0_DAILY_INTERVAL_NDVI_TRMM\\InnerMongolia\\TRMM2\\5_Day_Period\\5_DaySums_Accumulated//TRMM_IM_2009361.tif\n",
        "2010"
       ]
      },
      {
       "output_type": "stream",
       "stream": "stdout",
       "text": [
        "\n",
        "0\n",
        "D:\\Data\\0_DAILY_INTERVAL_NDVI_TRMM\\InnerMongolia\\TRMM2\\5_Day_Period\\5_DaySums_Accumulated//TRMM_IM_2010001.tif\n",
        "5\n",
        "D:\\Data\\0_DAILY_INTERVAL_NDVI_TRMM\\InnerMongolia\\TRMM2\\5_Day_Period\\5_DaySums_Accumulated//TRMM_IM_2010006.tif\n",
        "10\n",
        "D:\\Data\\0_DAILY_INTERVAL_NDVI_TRMM\\InnerMongolia\\TRMM2\\5_Day_Period\\5_DaySums_Accumulated//TRMM_IM_2010011.tif\n",
        "15\n",
        "D:\\Data\\0_DAILY_INTERVAL_NDVI_TRMM\\InnerMongolia\\TRMM2\\5_Day_Period\\5_DaySums_Accumulated//TRMM_IM_2010016.tif\n",
        "20"
       ]
      },
      {
       "output_type": "stream",
       "stream": "stdout",
       "text": [
        "\n",
        "D:\\Data\\0_DAILY_INTERVAL_NDVI_TRMM\\InnerMongolia\\TRMM2\\5_Day_Period\\5_DaySums_Accumulated//TRMM_IM_2010021.tif\n",
        "25\n",
        "D:\\Data\\0_DAILY_INTERVAL_NDVI_TRMM\\InnerMongolia\\TRMM2\\5_Day_Period\\5_DaySums_Accumulated//TRMM_IM_2010026.tif\n",
        "30\n",
        "D:\\Data\\0_DAILY_INTERVAL_NDVI_TRMM\\InnerMongolia\\TRMM2\\5_Day_Period\\5_DaySums_Accumulated//TRMM_IM_2010031.tif\n",
        "35\n",
        "D:\\Data\\0_DAILY_INTERVAL_NDVI_TRMM\\InnerMongolia\\TRMM2\\5_Day_Period\\5_DaySums_Accumulated//TRMM_IM_2010036.tif\n",
        "40\n",
        "D:\\Data\\0_DAILY_INTERVAL_NDVI_TRMM\\InnerMongolia\\TRMM2\\5_Day_Period\\5_DaySums_Accumulated//TRMM_IM_2010041.tif"
       ]
      },
      {
       "output_type": "stream",
       "stream": "stdout",
       "text": [
        "\n",
        "45\n",
        "D:\\Data\\0_DAILY_INTERVAL_NDVI_TRMM\\InnerMongolia\\TRMM2\\5_Day_Period\\5_DaySums_Accumulated//TRMM_IM_2010046.tif\n",
        "50\n",
        "D:\\Data\\0_DAILY_INTERVAL_NDVI_TRMM\\InnerMongolia\\TRMM2\\5_Day_Period\\5_DaySums_Accumulated//TRMM_IM_2010051.tif\n",
        "55\n",
        "D:\\Data\\0_DAILY_INTERVAL_NDVI_TRMM\\InnerMongolia\\TRMM2\\5_Day_Period\\5_DaySums_Accumulated//TRMM_IM_2010056.tif\n",
        "60\n",
        "D:\\Data\\0_DAILY_INTERVAL_NDVI_TRMM\\InnerMongolia\\TRMM2\\5_Day_Period\\5_DaySums_Accumulated//TRMM_IM_2010061.tif\n",
        "65"
       ]
      },
      {
       "output_type": "stream",
       "stream": "stdout",
       "text": [
        "\n",
        "D:\\Data\\0_DAILY_INTERVAL_NDVI_TRMM\\InnerMongolia\\TRMM2\\5_Day_Period\\5_DaySums_Accumulated//TRMM_IM_2010066.tif\n",
        "70\n",
        "D:\\Data\\0_DAILY_INTERVAL_NDVI_TRMM\\InnerMongolia\\TRMM2\\5_Day_Period\\5_DaySums_Accumulated//TRMM_IM_2010071.tif\n",
        "75\n",
        "D:\\Data\\0_DAILY_INTERVAL_NDVI_TRMM\\InnerMongolia\\TRMM2\\5_Day_Period\\5_DaySums_Accumulated//TRMM_IM_2010076.tif\n",
        "80\n",
        "D:\\Data\\0_DAILY_INTERVAL_NDVI_TRMM\\InnerMongolia\\TRMM2\\5_Day_Period\\5_DaySums_Accumulated//TRMM_IM_2010081.tif\n",
        "85\n",
        "D:\\Data\\0_DAILY_INTERVAL_NDVI_TRMM\\InnerMongolia\\TRMM2\\5_Day_Period\\5_DaySums_Accumulated//TRMM_IM_2010086.tif"
       ]
      },
      {
       "output_type": "stream",
       "stream": "stdout",
       "text": [
        "\n",
        "90\n",
        "D:\\Data\\0_DAILY_INTERVAL_NDVI_TRMM\\InnerMongolia\\TRMM2\\5_Day_Period\\5_DaySums_Accumulated//TRMM_IM_2010091.tif\n",
        "95\n",
        "D:\\Data\\0_DAILY_INTERVAL_NDVI_TRMM\\InnerMongolia\\TRMM2\\5_Day_Period\\5_DaySums_Accumulated//TRMM_IM_2010096.tif\n",
        "100\n",
        "D:\\Data\\0_DAILY_INTERVAL_NDVI_TRMM\\InnerMongolia\\TRMM2\\5_Day_Period\\5_DaySums_Accumulated//TRMM_IM_2010101.tif\n",
        "105\n",
        "D:\\Data\\0_DAILY_INTERVAL_NDVI_TRMM\\InnerMongolia\\TRMM2\\5_Day_Period\\5_DaySums_Accumulated//TRMM_IM_2010106.tif"
       ]
      },
      {
       "output_type": "stream",
       "stream": "stdout",
       "text": [
        "\n",
        "110\n",
        "D:\\Data\\0_DAILY_INTERVAL_NDVI_TRMM\\InnerMongolia\\TRMM2\\5_Day_Period\\5_DaySums_Accumulated//TRMM_IM_2010111.tif\n",
        "115\n",
        "D:\\Data\\0_DAILY_INTERVAL_NDVI_TRMM\\InnerMongolia\\TRMM2\\5_Day_Period\\5_DaySums_Accumulated//TRMM_IM_2010116.tif\n",
        "120\n",
        "D:\\Data\\0_DAILY_INTERVAL_NDVI_TRMM\\InnerMongolia\\TRMM2\\5_Day_Period\\5_DaySums_Accumulated//TRMM_IM_2010121.tif\n",
        "125\n",
        "D:\\Data\\0_DAILY_INTERVAL_NDVI_TRMM\\InnerMongolia\\TRMM2\\5_Day_Period\\5_DaySums_Accumulated//TRMM_IM_2010126.tif\n",
        "130"
       ]
      },
      {
       "output_type": "stream",
       "stream": "stdout",
       "text": [
        "\n",
        "D:\\Data\\0_DAILY_INTERVAL_NDVI_TRMM\\InnerMongolia\\TRMM2\\5_Day_Period\\5_DaySums_Accumulated//TRMM_IM_2010131.tif\n",
        "135\n",
        "D:\\Data\\0_DAILY_INTERVAL_NDVI_TRMM\\InnerMongolia\\TRMM2\\5_Day_Period\\5_DaySums_Accumulated//TRMM_IM_2010136.tif\n",
        "140\n",
        "D:\\Data\\0_DAILY_INTERVAL_NDVI_TRMM\\InnerMongolia\\TRMM2\\5_Day_Period\\5_DaySums_Accumulated//TRMM_IM_2010141.tif\n",
        "145\n",
        "D:\\Data\\0_DAILY_INTERVAL_NDVI_TRMM\\InnerMongolia\\TRMM2\\5_Day_Period\\5_DaySums_Accumulated//TRMM_IM_2010146.tif\n",
        "150\n",
        "D:\\Data\\0_DAILY_INTERVAL_NDVI_TRMM\\InnerMongolia\\TRMM2\\5_Day_Period\\5_DaySums_Accumulated//TRMM_IM_2010151.tif"
       ]
      },
      {
       "output_type": "stream",
       "stream": "stdout",
       "text": [
        "\n",
        "155\n",
        "D:\\Data\\0_DAILY_INTERVAL_NDVI_TRMM\\InnerMongolia\\TRMM2\\5_Day_Period\\5_DaySums_Accumulated//TRMM_IM_2010156.tif\n",
        "160\n",
        "D:\\Data\\0_DAILY_INTERVAL_NDVI_TRMM\\InnerMongolia\\TRMM2\\5_Day_Period\\5_DaySums_Accumulated//TRMM_IM_2010161.tif\n",
        "165\n",
        "D:\\Data\\0_DAILY_INTERVAL_NDVI_TRMM\\InnerMongolia\\TRMM2\\5_Day_Period\\5_DaySums_Accumulated//TRMM_IM_2010166.tif\n",
        "170\n",
        "D:\\Data\\0_DAILY_INTERVAL_NDVI_TRMM\\InnerMongolia\\TRMM2\\5_Day_Period\\5_DaySums_Accumulated//TRMM_IM_2010171.tif\n",
        "175"
       ]
      },
      {
       "output_type": "stream",
       "stream": "stdout",
       "text": [
        "\n",
        "D:\\Data\\0_DAILY_INTERVAL_NDVI_TRMM\\InnerMongolia\\TRMM2\\5_Day_Period\\5_DaySums_Accumulated//TRMM_IM_2010176.tif\n",
        "180\n",
        "D:\\Data\\0_DAILY_INTERVAL_NDVI_TRMM\\InnerMongolia\\TRMM2\\5_Day_Period\\5_DaySums_Accumulated//TRMM_IM_2010181.tif\n",
        "185\n",
        "D:\\Data\\0_DAILY_INTERVAL_NDVI_TRMM\\InnerMongolia\\TRMM2\\5_Day_Period\\5_DaySums_Accumulated//TRMM_IM_2010186.tif\n",
        "190\n",
        "D:\\Data\\0_DAILY_INTERVAL_NDVI_TRMM\\InnerMongolia\\TRMM2\\5_Day_Period\\5_DaySums_Accumulated//TRMM_IM_2010191.tif\n",
        "195\n"
       ]
      },
      {
       "output_type": "stream",
       "stream": "stdout",
       "text": [
        "D:\\Data\\0_DAILY_INTERVAL_NDVI_TRMM\\InnerMongolia\\TRMM2\\5_Day_Period\\5_DaySums_Accumulated//TRMM_IM_2010196.tif\n",
        "200\n",
        "D:\\Data\\0_DAILY_INTERVAL_NDVI_TRMM\\InnerMongolia\\TRMM2\\5_Day_Period\\5_DaySums_Accumulated//TRMM_IM_2010201.tif\n",
        "205\n",
        "D:\\Data\\0_DAILY_INTERVAL_NDVI_TRMM\\InnerMongolia\\TRMM2\\5_Day_Period\\5_DaySums_Accumulated//TRMM_IM_2010206.tif\n",
        "210\n",
        "D:\\Data\\0_DAILY_INTERVAL_NDVI_TRMM\\InnerMongolia\\TRMM2\\5_Day_Period\\5_DaySums_Accumulated//TRMM_IM_2010211.tif\n",
        "215\n",
        "D:\\Data\\0_DAILY_INTERVAL_NDVI_TRMM\\InnerMongolia\\TRMM2\\5_Day_Period\\5_DaySums_Accumulated//TRMM_IM_2010216.tif"
       ]
      },
      {
       "output_type": "stream",
       "stream": "stdout",
       "text": [
        "\n",
        "220\n",
        "D:\\Data\\0_DAILY_INTERVAL_NDVI_TRMM\\InnerMongolia\\TRMM2\\5_Day_Period\\5_DaySums_Accumulated//TRMM_IM_2010221.tif\n",
        "225\n",
        "D:\\Data\\0_DAILY_INTERVAL_NDVI_TRMM\\InnerMongolia\\TRMM2\\5_Day_Period\\5_DaySums_Accumulated//TRMM_IM_2010226.tif\n",
        "230\n",
        "D:\\Data\\0_DAILY_INTERVAL_NDVI_TRMM\\InnerMongolia\\TRMM2\\5_Day_Period\\5_DaySums_Accumulated//TRMM_IM_2010231.tif\n",
        "235\n",
        "D:\\Data\\0_DAILY_INTERVAL_NDVI_TRMM\\InnerMongolia\\TRMM2\\5_Day_Period\\5_DaySums_Accumulated//TRMM_IM_2010236.tif\n",
        "240"
       ]
      },
      {
       "output_type": "stream",
       "stream": "stdout",
       "text": [
        "\n",
        "D:\\Data\\0_DAILY_INTERVAL_NDVI_TRMM\\InnerMongolia\\TRMM2\\5_Day_Period\\5_DaySums_Accumulated//TRMM_IM_2010241.tif\n",
        "245\n",
        "D:\\Data\\0_DAILY_INTERVAL_NDVI_TRMM\\InnerMongolia\\TRMM2\\5_Day_Period\\5_DaySums_Accumulated//TRMM_IM_2010246.tif\n",
        "250\n",
        "D:\\Data\\0_DAILY_INTERVAL_NDVI_TRMM\\InnerMongolia\\TRMM2\\5_Day_Period\\5_DaySums_Accumulated//TRMM_IM_2010251.tif\n",
        "255\n",
        "D:\\Data\\0_DAILY_INTERVAL_NDVI_TRMM\\InnerMongolia\\TRMM2\\5_Day_Period\\5_DaySums_Accumulated//TRMM_IM_2010256.tif\n",
        "260\n",
        "D:\\Data\\0_DAILY_INTERVAL_NDVI_TRMM\\InnerMongolia\\TRMM2\\5_Day_Period\\5_DaySums_Accumulated//TRMM_IM_2010261.tif"
       ]
      },
      {
       "output_type": "stream",
       "stream": "stdout",
       "text": [
        "\n",
        "265\n",
        "D:\\Data\\0_DAILY_INTERVAL_NDVI_TRMM\\InnerMongolia\\TRMM2\\5_Day_Period\\5_DaySums_Accumulated//TRMM_IM_2010266.tif\n",
        "270\n",
        "D:\\Data\\0_DAILY_INTERVAL_NDVI_TRMM\\InnerMongolia\\TRMM2\\5_Day_Period\\5_DaySums_Accumulated//TRMM_IM_2010271.tif\n",
        "275\n",
        "D:\\Data\\0_DAILY_INTERVAL_NDVI_TRMM\\InnerMongolia\\TRMM2\\5_Day_Period\\5_DaySums_Accumulated//TRMM_IM_2010276.tif\n",
        "280\n",
        "D:\\Data\\0_DAILY_INTERVAL_NDVI_TRMM\\InnerMongolia\\TRMM2\\5_Day_Period\\5_DaySums_Accumulated//TRMM_IM_2010281.tif\n",
        "285"
       ]
      },
      {
       "output_type": "stream",
       "stream": "stdout",
       "text": [
        "\n",
        "D:\\Data\\0_DAILY_INTERVAL_NDVI_TRMM\\InnerMongolia\\TRMM2\\5_Day_Period\\5_DaySums_Accumulated//TRMM_IM_2010286.tif\n",
        "290\n",
        "D:\\Data\\0_DAILY_INTERVAL_NDVI_TRMM\\InnerMongolia\\TRMM2\\5_Day_Period\\5_DaySums_Accumulated//TRMM_IM_2010291.tif\n",
        "295\n",
        "D:\\Data\\0_DAILY_INTERVAL_NDVI_TRMM\\InnerMongolia\\TRMM2\\5_Day_Period\\5_DaySums_Accumulated//TRMM_IM_2010296.tif\n",
        "300\n",
        "D:\\Data\\0_DAILY_INTERVAL_NDVI_TRMM\\InnerMongolia\\TRMM2\\5_Day_Period\\5_DaySums_Accumulated//TRMM_IM_2010301.tif\n",
        "305\n",
        "D:\\Data\\0_DAILY_INTERVAL_NDVI_TRMM\\InnerMongolia\\TRMM2\\5_Day_Period\\5_DaySums_Accumulated//TRMM_IM_2010306.tif"
       ]
      },
      {
       "output_type": "stream",
       "stream": "stdout",
       "text": [
        "\n",
        "310\n",
        "D:\\Data\\0_DAILY_INTERVAL_NDVI_TRMM\\InnerMongolia\\TRMM2\\5_Day_Period\\5_DaySums_Accumulated//TRMM_IM_2010311.tif\n",
        "315\n",
        "D:\\Data\\0_DAILY_INTERVAL_NDVI_TRMM\\InnerMongolia\\TRMM2\\5_Day_Period\\5_DaySums_Accumulated//TRMM_IM_2010316.tif\n",
        "320\n",
        "D:\\Data\\0_DAILY_INTERVAL_NDVI_TRMM\\InnerMongolia\\TRMM2\\5_Day_Period\\5_DaySums_Accumulated//TRMM_IM_2010321.tif\n",
        "325\n",
        "D:\\Data\\0_DAILY_INTERVAL_NDVI_TRMM\\InnerMongolia\\TRMM2\\5_Day_Period\\5_DaySums_Accumulated//TRMM_IM_2010326.tif\n",
        "330"
       ]
      },
      {
       "output_type": "stream",
       "stream": "stdout",
       "text": [
        "\n",
        "D:\\Data\\0_DAILY_INTERVAL_NDVI_TRMM\\InnerMongolia\\TRMM2\\5_Day_Period\\5_DaySums_Accumulated//TRMM_IM_2010331.tif\n",
        "335\n",
        "D:\\Data\\0_DAILY_INTERVAL_NDVI_TRMM\\InnerMongolia\\TRMM2\\5_Day_Period\\5_DaySums_Accumulated//TRMM_IM_2010336.tif\n",
        "340\n",
        "D:\\Data\\0_DAILY_INTERVAL_NDVI_TRMM\\InnerMongolia\\TRMM2\\5_Day_Period\\5_DaySums_Accumulated//TRMM_IM_2010341.tif\n",
        "345\n",
        "D:\\Data\\0_DAILY_INTERVAL_NDVI_TRMM\\InnerMongolia\\TRMM2\\5_Day_Period\\5_DaySums_Accumulated//TRMM_IM_2010346.tif\n",
        "350\n",
        "D:\\Data\\0_DAILY_INTERVAL_NDVI_TRMM\\InnerMongolia\\TRMM2\\5_Day_Period\\5_DaySums_Accumulated//TRMM_IM_2010351.tif"
       ]
      },
      {
       "output_type": "stream",
       "stream": "stdout",
       "text": [
        "\n",
        "355\n",
        "D:\\Data\\0_DAILY_INTERVAL_NDVI_TRMM\\InnerMongolia\\TRMM2\\5_Day_Period\\5_DaySums_Accumulated//TRMM_IM_2010356.tif\n",
        "360\n",
        "D:\\Data\\0_DAILY_INTERVAL_NDVI_TRMM\\InnerMongolia\\TRMM2\\5_Day_Period\\5_DaySums_Accumulated//TRMM_IM_2010361.tif\n",
        "2011\n",
        "0\n",
        "D:\\Data\\0_DAILY_INTERVAL_NDVI_TRMM\\InnerMongolia\\TRMM2\\5_Day_Period\\5_DaySums_Accumulated//TRMM_IM_2011001.tif\n",
        "5\n",
        "D:\\Data\\0_DAILY_INTERVAL_NDVI_TRMM\\InnerMongolia\\TRMM2\\5_Day_Period\\5_DaySums_Accumulated//TRMM_IM_2011006.tif"
       ]
      },
      {
       "output_type": "stream",
       "stream": "stdout",
       "text": [
        "\n",
        "10\n",
        "D:\\Data\\0_DAILY_INTERVAL_NDVI_TRMM\\InnerMongolia\\TRMM2\\5_Day_Period\\5_DaySums_Accumulated//TRMM_IM_2011011.tif\n",
        "15\n",
        "D:\\Data\\0_DAILY_INTERVAL_NDVI_TRMM\\InnerMongolia\\TRMM2\\5_Day_Period\\5_DaySums_Accumulated//TRMM_IM_2011016.tif\n",
        "20\n",
        "D:\\Data\\0_DAILY_INTERVAL_NDVI_TRMM\\InnerMongolia\\TRMM2\\5_Day_Period\\5_DaySums_Accumulated//TRMM_IM_2011021.tif\n",
        "25\n",
        "D:\\Data\\0_DAILY_INTERVAL_NDVI_TRMM\\InnerMongolia\\TRMM2\\5_Day_Period\\5_DaySums_Accumulated//TRMM_IM_2011026.tif\n",
        "30"
       ]
      },
      {
       "output_type": "stream",
       "stream": "stdout",
       "text": [
        "\n",
        "D:\\Data\\0_DAILY_INTERVAL_NDVI_TRMM\\InnerMongolia\\TRMM2\\5_Day_Period\\5_DaySums_Accumulated//TRMM_IM_2011031.tif\n",
        "35\n",
        "D:\\Data\\0_DAILY_INTERVAL_NDVI_TRMM\\InnerMongolia\\TRMM2\\5_Day_Period\\5_DaySums_Accumulated//TRMM_IM_2011036.tif\n",
        "40\n",
        "D:\\Data\\0_DAILY_INTERVAL_NDVI_TRMM\\InnerMongolia\\TRMM2\\5_Day_Period\\5_DaySums_Accumulated//TRMM_IM_2011041.tif\n",
        "45\n",
        "D:\\Data\\0_DAILY_INTERVAL_NDVI_TRMM\\InnerMongolia\\TRMM2\\5_Day_Period\\5_DaySums_Accumulated//TRMM_IM_2011046.tif\n",
        "50\n",
        "D:\\Data\\0_DAILY_INTERVAL_NDVI_TRMM\\InnerMongolia\\TRMM2\\5_Day_Period\\5_DaySums_Accumulated//TRMM_IM_2011051.tif"
       ]
      },
      {
       "output_type": "stream",
       "stream": "stdout",
       "text": [
        "\n",
        "55\n",
        "D:\\Data\\0_DAILY_INTERVAL_NDVI_TRMM\\InnerMongolia\\TRMM2\\5_Day_Period\\5_DaySums_Accumulated//TRMM_IM_2011056.tif\n",
        "60\n",
        "D:\\Data\\0_DAILY_INTERVAL_NDVI_TRMM\\InnerMongolia\\TRMM2\\5_Day_Period\\5_DaySums_Accumulated//TRMM_IM_2011061.tif\n",
        "65\n",
        "D:\\Data\\0_DAILY_INTERVAL_NDVI_TRMM\\InnerMongolia\\TRMM2\\5_Day_Period\\5_DaySums_Accumulated//TRMM_IM_2011066.tif\n",
        "70\n",
        "D:\\Data\\0_DAILY_INTERVAL_NDVI_TRMM\\InnerMongolia\\TRMM2\\5_Day_Period\\5_DaySums_Accumulated//TRMM_IM_2011071.tif\n",
        "75"
       ]
      },
      {
       "output_type": "stream",
       "stream": "stdout",
       "text": [
        "\n",
        "D:\\Data\\0_DAILY_INTERVAL_NDVI_TRMM\\InnerMongolia\\TRMM2\\5_Day_Period\\5_DaySums_Accumulated//TRMM_IM_2011076.tif\n",
        "80\n",
        "D:\\Data\\0_DAILY_INTERVAL_NDVI_TRMM\\InnerMongolia\\TRMM2\\5_Day_Period\\5_DaySums_Accumulated//TRMM_IM_2011081.tif\n",
        "85\n",
        "D:\\Data\\0_DAILY_INTERVAL_NDVI_TRMM\\InnerMongolia\\TRMM2\\5_Day_Period\\5_DaySums_Accumulated//TRMM_IM_2011086.tif\n",
        "90\n",
        "D:\\Data\\0_DAILY_INTERVAL_NDVI_TRMM\\InnerMongolia\\TRMM2\\5_Day_Period\\5_DaySums_Accumulated//TRMM_IM_2011091.tif\n",
        "95\n",
        "D:\\Data\\0_DAILY_INTERVAL_NDVI_TRMM\\InnerMongolia\\TRMM2\\5_Day_Period\\5_DaySums_Accumulated//TRMM_IM_2011096.tif"
       ]
      },
      {
       "output_type": "stream",
       "stream": "stdout",
       "text": [
        "\n",
        "100\n",
        "D:\\Data\\0_DAILY_INTERVAL_NDVI_TRMM\\InnerMongolia\\TRMM2\\5_Day_Period\\5_DaySums_Accumulated//TRMM_IM_2011101.tif\n",
        "105\n",
        "D:\\Data\\0_DAILY_INTERVAL_NDVI_TRMM\\InnerMongolia\\TRMM2\\5_Day_Period\\5_DaySums_Accumulated//TRMM_IM_2011106.tif\n",
        "110\n",
        "D:\\Data\\0_DAILY_INTERVAL_NDVI_TRMM\\InnerMongolia\\TRMM2\\5_Day_Period\\5_DaySums_Accumulated//TRMM_IM_2011111.tif\n",
        "115\n",
        "D:\\Data\\0_DAILY_INTERVAL_NDVI_TRMM\\InnerMongolia\\TRMM2\\5_Day_Period\\5_DaySums_Accumulated//TRMM_IM_2011116.tif\n",
        "120"
       ]
      },
      {
       "output_type": "stream",
       "stream": "stdout",
       "text": [
        "\n",
        "D:\\Data\\0_DAILY_INTERVAL_NDVI_TRMM\\InnerMongolia\\TRMM2\\5_Day_Period\\5_DaySums_Accumulated//TRMM_IM_2011121.tif\n",
        "125\n",
        "D:\\Data\\0_DAILY_INTERVAL_NDVI_TRMM\\InnerMongolia\\TRMM2\\5_Day_Period\\5_DaySums_Accumulated//TRMM_IM_2011126.tif\n",
        "130\n",
        "D:\\Data\\0_DAILY_INTERVAL_NDVI_TRMM\\InnerMongolia\\TRMM2\\5_Day_Period\\5_DaySums_Accumulated//TRMM_IM_2011131.tif\n",
        "135\n",
        "D:\\Data\\0_DAILY_INTERVAL_NDVI_TRMM\\InnerMongolia\\TRMM2\\5_Day_Period\\5_DaySums_Accumulated//TRMM_IM_2011136.tif\n",
        "140\n",
        "D:\\Data\\0_DAILY_INTERVAL_NDVI_TRMM\\InnerMongolia\\TRMM2\\5_Day_Period\\5_DaySums_Accumulated//TRMM_IM_2011141.tif"
       ]
      },
      {
       "output_type": "stream",
       "stream": "stdout",
       "text": [
        "\n",
        "145\n",
        "D:\\Data\\0_DAILY_INTERVAL_NDVI_TRMM\\InnerMongolia\\TRMM2\\5_Day_Period\\5_DaySums_Accumulated//TRMM_IM_2011146.tif\n",
        "150\n",
        "D:\\Data\\0_DAILY_INTERVAL_NDVI_TRMM\\InnerMongolia\\TRMM2\\5_Day_Period\\5_DaySums_Accumulated//TRMM_IM_2011151.tif\n",
        "155\n",
        "D:\\Data\\0_DAILY_INTERVAL_NDVI_TRMM\\InnerMongolia\\TRMM2\\5_Day_Period\\5_DaySums_Accumulated//TRMM_IM_2011156.tif\n",
        "160\n",
        "D:\\Data\\0_DAILY_INTERVAL_NDVI_TRMM\\InnerMongolia\\TRMM2\\5_Day_Period\\5_DaySums_Accumulated//TRMM_IM_2011161.tif\n",
        "165"
       ]
      },
      {
       "output_type": "stream",
       "stream": "stdout",
       "text": [
        "\n",
        "D:\\Data\\0_DAILY_INTERVAL_NDVI_TRMM\\InnerMongolia\\TRMM2\\5_Day_Period\\5_DaySums_Accumulated//TRMM_IM_2011166.tif\n",
        "170\n",
        "D:\\Data\\0_DAILY_INTERVAL_NDVI_TRMM\\InnerMongolia\\TRMM2\\5_Day_Period\\5_DaySums_Accumulated//TRMM_IM_2011171.tif\n",
        "175\n",
        "D:\\Data\\0_DAILY_INTERVAL_NDVI_TRMM\\InnerMongolia\\TRMM2\\5_Day_Period\\5_DaySums_Accumulated//TRMM_IM_2011176.tif\n",
        "180\n",
        "D:\\Data\\0_DAILY_INTERVAL_NDVI_TRMM\\InnerMongolia\\TRMM2\\5_Day_Period\\5_DaySums_Accumulated//TRMM_IM_2011181.tif\n",
        "185\n",
        "D:\\Data\\0_DAILY_INTERVAL_NDVI_TRMM\\InnerMongolia\\TRMM2\\5_Day_Period\\5_DaySums_Accumulated//TRMM_IM_2011186.tif"
       ]
      },
      {
       "output_type": "stream",
       "stream": "stdout",
       "text": [
        "\n",
        "190\n",
        "D:\\Data\\0_DAILY_INTERVAL_NDVI_TRMM\\InnerMongolia\\TRMM2\\5_Day_Period\\5_DaySums_Accumulated//TRMM_IM_2011191.tif\n",
        "195\n",
        "D:\\Data\\0_DAILY_INTERVAL_NDVI_TRMM\\InnerMongolia\\TRMM2\\5_Day_Period\\5_DaySums_Accumulated//TRMM_IM_2011196.tif\n",
        "200\n",
        "D:\\Data\\0_DAILY_INTERVAL_NDVI_TRMM\\InnerMongolia\\TRMM2\\5_Day_Period\\5_DaySums_Accumulated//TRMM_IM_2011201.tif\n",
        "205\n",
        "D:\\Data\\0_DAILY_INTERVAL_NDVI_TRMM\\InnerMongolia\\TRMM2\\5_Day_Period\\5_DaySums_Accumulated//TRMM_IM_2011206.tif\n",
        "210"
       ]
      },
      {
       "output_type": "stream",
       "stream": "stdout",
       "text": [
        "\n",
        "D:\\Data\\0_DAILY_INTERVAL_NDVI_TRMM\\InnerMongolia\\TRMM2\\5_Day_Period\\5_DaySums_Accumulated//TRMM_IM_2011211.tif\n",
        "215\n",
        "D:\\Data\\0_DAILY_INTERVAL_NDVI_TRMM\\InnerMongolia\\TRMM2\\5_Day_Period\\5_DaySums_Accumulated//TRMM_IM_2011216.tif\n",
        "220\n",
        "D:\\Data\\0_DAILY_INTERVAL_NDVI_TRMM\\InnerMongolia\\TRMM2\\5_Day_Period\\5_DaySums_Accumulated//TRMM_IM_2011221.tif\n",
        "225\n",
        "D:\\Data\\0_DAILY_INTERVAL_NDVI_TRMM\\InnerMongolia\\TRMM2\\5_Day_Period\\5_DaySums_Accumulated//TRMM_IM_2011226.tif\n",
        "230\n",
        "D:\\Data\\0_DAILY_INTERVAL_NDVI_TRMM\\InnerMongolia\\TRMM2\\5_Day_Period\\5_DaySums_Accumulated//TRMM_IM_2011231.tif"
       ]
      },
      {
       "output_type": "stream",
       "stream": "stdout",
       "text": [
        "\n",
        "235\n",
        "D:\\Data\\0_DAILY_INTERVAL_NDVI_TRMM\\InnerMongolia\\TRMM2\\5_Day_Period\\5_DaySums_Accumulated//TRMM_IM_2011236.tif\n",
        "240\n",
        "D:\\Data\\0_DAILY_INTERVAL_NDVI_TRMM\\InnerMongolia\\TRMM2\\5_Day_Period\\5_DaySums_Accumulated//TRMM_IM_2011241.tif\n",
        "245\n",
        "D:\\Data\\0_DAILY_INTERVAL_NDVI_TRMM\\InnerMongolia\\TRMM2\\5_Day_Period\\5_DaySums_Accumulated//TRMM_IM_2011246.tif\n",
        "250\n",
        "D:\\Data\\0_DAILY_INTERVAL_NDVI_TRMM\\InnerMongolia\\TRMM2\\5_Day_Period\\5_DaySums_Accumulated//TRMM_IM_2011251.tif"
       ]
      },
      {
       "output_type": "stream",
       "stream": "stdout",
       "text": [
        "\n",
        "255\n",
        "D:\\Data\\0_DAILY_INTERVAL_NDVI_TRMM\\InnerMongolia\\TRMM2\\5_Day_Period\\5_DaySums_Accumulated//TRMM_IM_2011256.tif\n",
        "260\n",
        "D:\\Data\\0_DAILY_INTERVAL_NDVI_TRMM\\InnerMongolia\\TRMM2\\5_Day_Period\\5_DaySums_Accumulated//TRMM_IM_2011261.tif\n",
        "265\n",
        "D:\\Data\\0_DAILY_INTERVAL_NDVI_TRMM\\InnerMongolia\\TRMM2\\5_Day_Period\\5_DaySums_Accumulated//TRMM_IM_2011266.tif\n",
        "270\n",
        "D:\\Data\\0_DAILY_INTERVAL_NDVI_TRMM\\InnerMongolia\\TRMM2\\5_Day_Period\\5_DaySums_Accumulated//TRMM_IM_2011271.tif"
       ]
      },
      {
       "output_type": "stream",
       "stream": "stdout",
       "text": [
        "\n",
        "275\n",
        "D:\\Data\\0_DAILY_INTERVAL_NDVI_TRMM\\InnerMongolia\\TRMM2\\5_Day_Period\\5_DaySums_Accumulated//TRMM_IM_2011276.tif\n",
        "280\n",
        "D:\\Data\\0_DAILY_INTERVAL_NDVI_TRMM\\InnerMongolia\\TRMM2\\5_Day_Period\\5_DaySums_Accumulated//TRMM_IM_2011281.tif\n",
        "285\n",
        "D:\\Data\\0_DAILY_INTERVAL_NDVI_TRMM\\InnerMongolia\\TRMM2\\5_Day_Period\\5_DaySums_Accumulated//TRMM_IM_2011286.tif\n",
        "290\n",
        "D:\\Data\\0_DAILY_INTERVAL_NDVI_TRMM\\InnerMongolia\\TRMM2\\5_Day_Period\\5_DaySums_Accumulated//TRMM_IM_2011291.tif"
       ]
      },
      {
       "output_type": "stream",
       "stream": "stdout",
       "text": [
        "\n",
        "295\n",
        "D:\\Data\\0_DAILY_INTERVAL_NDVI_TRMM\\InnerMongolia\\TRMM2\\5_Day_Period\\5_DaySums_Accumulated//TRMM_IM_2011296.tif\n",
        "300\n",
        "D:\\Data\\0_DAILY_INTERVAL_NDVI_TRMM\\InnerMongolia\\TRMM2\\5_Day_Period\\5_DaySums_Accumulated//TRMM_IM_2011301.tif\n",
        "305\n",
        "D:\\Data\\0_DAILY_INTERVAL_NDVI_TRMM\\InnerMongolia\\TRMM2\\5_Day_Period\\5_DaySums_Accumulated//TRMM_IM_2011306.tif\n",
        "310\n",
        "D:\\Data\\0_DAILY_INTERVAL_NDVI_TRMM\\InnerMongolia\\TRMM2\\5_Day_Period\\5_DaySums_Accumulated//TRMM_IM_2011311.tif"
       ]
      },
      {
       "output_type": "stream",
       "stream": "stdout",
       "text": [
        "\n",
        "315\n",
        "D:\\Data\\0_DAILY_INTERVAL_NDVI_TRMM\\InnerMongolia\\TRMM2\\5_Day_Period\\5_DaySums_Accumulated//TRMM_IM_2011316.tif\n",
        "320\n",
        "D:\\Data\\0_DAILY_INTERVAL_NDVI_TRMM\\InnerMongolia\\TRMM2\\5_Day_Period\\5_DaySums_Accumulated//TRMM_IM_2011321.tif\n",
        "325\n",
        "D:\\Data\\0_DAILY_INTERVAL_NDVI_TRMM\\InnerMongolia\\TRMM2\\5_Day_Period\\5_DaySums_Accumulated//TRMM_IM_2011326.tif\n",
        "330\n",
        "D:\\Data\\0_DAILY_INTERVAL_NDVI_TRMM\\InnerMongolia\\TRMM2\\5_Day_Period\\5_DaySums_Accumulated//TRMM_IM_2011331.tif\n",
        "335"
       ]
      },
      {
       "output_type": "stream",
       "stream": "stdout",
       "text": [
        "\n",
        "D:\\Data\\0_DAILY_INTERVAL_NDVI_TRMM\\InnerMongolia\\TRMM2\\5_Day_Period\\5_DaySums_Accumulated//TRMM_IM_2011336.tif\n",
        "340\n",
        "D:\\Data\\0_DAILY_INTERVAL_NDVI_TRMM\\InnerMongolia\\TRMM2\\5_Day_Period\\5_DaySums_Accumulated//TRMM_IM_2011341.tif\n",
        "345\n",
        "D:\\Data\\0_DAILY_INTERVAL_NDVI_TRMM\\InnerMongolia\\TRMM2\\5_Day_Period\\5_DaySums_Accumulated//TRMM_IM_2011346.tif\n",
        "350\n",
        "D:\\Data\\0_DAILY_INTERVAL_NDVI_TRMM\\InnerMongolia\\TRMM2\\5_Day_Period\\5_DaySums_Accumulated//TRMM_IM_2011351.tif\n",
        "355\n",
        "D:\\Data\\0_DAILY_INTERVAL_NDVI_TRMM\\InnerMongolia\\TRMM2\\5_Day_Period\\5_DaySums_Accumulated//TRMM_IM_2011356.tif"
       ]
      },
      {
       "output_type": "stream",
       "stream": "stdout",
       "text": [
        "\n",
        "360\n",
        "D:\\Data\\0_DAILY_INTERVAL_NDVI_TRMM\\InnerMongolia\\TRMM2\\5_Day_Period\\5_DaySums_Accumulated//TRMM_IM_2011361.tif\n",
        "2012\n",
        "0\n",
        "D:\\Data\\0_DAILY_INTERVAL_NDVI_TRMM\\InnerMongolia\\TRMM2\\5_Day_Period\\5_DaySums_Accumulated//TRMM_IM_2012001.tif\n",
        "5\n",
        "D:\\Data\\0_DAILY_INTERVAL_NDVI_TRMM\\InnerMongolia\\TRMM2\\5_Day_Period\\5_DaySums_Accumulated//TRMM_IM_2012006.tif\n",
        "10\n",
        "D:\\Data\\0_DAILY_INTERVAL_NDVI_TRMM\\InnerMongolia\\TRMM2\\5_Day_Period\\5_DaySums_Accumulated//TRMM_IM_2012011.tif"
       ]
      },
      {
       "output_type": "stream",
       "stream": "stdout",
       "text": [
        "\n",
        "15\n",
        "D:\\Data\\0_DAILY_INTERVAL_NDVI_TRMM\\InnerMongolia\\TRMM2\\5_Day_Period\\5_DaySums_Accumulated//TRMM_IM_2012016.tif\n",
        "20\n",
        "D:\\Data\\0_DAILY_INTERVAL_NDVI_TRMM\\InnerMongolia\\TRMM2\\5_Day_Period\\5_DaySums_Accumulated//TRMM_IM_2012021.tif\n",
        "25\n",
        "D:\\Data\\0_DAILY_INTERVAL_NDVI_TRMM\\InnerMongolia\\TRMM2\\5_Day_Period\\5_DaySums_Accumulated//TRMM_IM_2012026.tif\n",
        "30\n",
        "D:\\Data\\0_DAILY_INTERVAL_NDVI_TRMM\\InnerMongolia\\TRMM2\\5_Day_Period\\5_DaySums_Accumulated//TRMM_IM_2012031.tif\n",
        "35"
       ]
      },
      {
       "output_type": "stream",
       "stream": "stdout",
       "text": [
        "\n",
        "D:\\Data\\0_DAILY_INTERVAL_NDVI_TRMM\\InnerMongolia\\TRMM2\\5_Day_Period\\5_DaySums_Accumulated//TRMM_IM_2012036.tif\n",
        "40\n",
        "D:\\Data\\0_DAILY_INTERVAL_NDVI_TRMM\\InnerMongolia\\TRMM2\\5_Day_Period\\5_DaySums_Accumulated//TRMM_IM_2012041.tif\n",
        "45\n",
        "D:\\Data\\0_DAILY_INTERVAL_NDVI_TRMM\\InnerMongolia\\TRMM2\\5_Day_Period\\5_DaySums_Accumulated//TRMM_IM_2012046.tif\n",
        "50\n",
        "D:\\Data\\0_DAILY_INTERVAL_NDVI_TRMM\\InnerMongolia\\TRMM2\\5_Day_Period\\5_DaySums_Accumulated//TRMM_IM_2012051.tif\n",
        "55\n",
        "D:\\Data\\0_DAILY_INTERVAL_NDVI_TRMM\\InnerMongolia\\TRMM2\\5_Day_Period\\5_DaySums_Accumulated//TRMM_IM_2012056.tif"
       ]
      },
      {
       "output_type": "stream",
       "stream": "stdout",
       "text": [
        "\n",
        "60\n",
        "D:\\Data\\0_DAILY_INTERVAL_NDVI_TRMM\\InnerMongolia\\TRMM2\\5_Day_Period\\5_DaySums_Accumulated//TRMM_IM_2012061.tif\n",
        "65\n",
        "D:\\Data\\0_DAILY_INTERVAL_NDVI_TRMM\\InnerMongolia\\TRMM2\\5_Day_Period\\5_DaySums_Accumulated//TRMM_IM_2012066.tif\n",
        "70\n",
        "D:\\Data\\0_DAILY_INTERVAL_NDVI_TRMM\\InnerMongolia\\TRMM2\\5_Day_Period\\5_DaySums_Accumulated//TRMM_IM_2012071.tif\n",
        "75\n",
        "D:\\Data\\0_DAILY_INTERVAL_NDVI_TRMM\\InnerMongolia\\TRMM2\\5_Day_Period\\5_DaySums_Accumulated//TRMM_IM_2012076.tif\n",
        "80"
       ]
      },
      {
       "output_type": "stream",
       "stream": "stdout",
       "text": [
        "\n",
        "D:\\Data\\0_DAILY_INTERVAL_NDVI_TRMM\\InnerMongolia\\TRMM2\\5_Day_Period\\5_DaySums_Accumulated//TRMM_IM_2012081.tif\n",
        "85\n",
        "D:\\Data\\0_DAILY_INTERVAL_NDVI_TRMM\\InnerMongolia\\TRMM2\\5_Day_Period\\5_DaySums_Accumulated//TRMM_IM_2012086.tif\n",
        "90\n",
        "D:\\Data\\0_DAILY_INTERVAL_NDVI_TRMM\\InnerMongolia\\TRMM2\\5_Day_Period\\5_DaySums_Accumulated//TRMM_IM_2012091.tif\n",
        "95\n",
        "D:\\Data\\0_DAILY_INTERVAL_NDVI_TRMM\\InnerMongolia\\TRMM2\\5_Day_Period\\5_DaySums_Accumulated//TRMM_IM_2012096.tif\n",
        "100\n",
        "D:\\Data\\0_DAILY_INTERVAL_NDVI_TRMM\\InnerMongolia\\TRMM2\\5_Day_Period\\5_DaySums_Accumulated//TRMM_IM_2012101.tif"
       ]
      },
      {
       "output_type": "stream",
       "stream": "stdout",
       "text": [
        "\n",
        "105\n",
        "D:\\Data\\0_DAILY_INTERVAL_NDVI_TRMM\\InnerMongolia\\TRMM2\\5_Day_Period\\5_DaySums_Accumulated//TRMM_IM_2012106.tif\n",
        "110\n",
        "D:\\Data\\0_DAILY_INTERVAL_NDVI_TRMM\\InnerMongolia\\TRMM2\\5_Day_Period\\5_DaySums_Accumulated//TRMM_IM_2012111.tif\n",
        "115\n",
        "D:\\Data\\0_DAILY_INTERVAL_NDVI_TRMM\\InnerMongolia\\TRMM2\\5_Day_Period\\5_DaySums_Accumulated//TRMM_IM_2012116.tif\n",
        "120\n",
        "D:\\Data\\0_DAILY_INTERVAL_NDVI_TRMM\\InnerMongolia\\TRMM2\\5_Day_Period\\5_DaySums_Accumulated//TRMM_IM_2012121.tif\n",
        "125"
       ]
      },
      {
       "output_type": "stream",
       "stream": "stdout",
       "text": [
        "\n",
        "D:\\Data\\0_DAILY_INTERVAL_NDVI_TRMM\\InnerMongolia\\TRMM2\\5_Day_Period\\5_DaySums_Accumulated//TRMM_IM_2012126.tif\n",
        "130\n",
        "D:\\Data\\0_DAILY_INTERVAL_NDVI_TRMM\\InnerMongolia\\TRMM2\\5_Day_Period\\5_DaySums_Accumulated//TRMM_IM_2012131.tif\n",
        "135\n",
        "D:\\Data\\0_DAILY_INTERVAL_NDVI_TRMM\\InnerMongolia\\TRMM2\\5_Day_Period\\5_DaySums_Accumulated//TRMM_IM_2012136.tif\n",
        "140\n",
        "D:\\Data\\0_DAILY_INTERVAL_NDVI_TRMM\\InnerMongolia\\TRMM2\\5_Day_Period\\5_DaySums_Accumulated//TRMM_IM_2012141.tif\n",
        "145\n",
        "D:\\Data\\0_DAILY_INTERVAL_NDVI_TRMM\\InnerMongolia\\TRMM2\\5_Day_Period\\5_DaySums_Accumulated//TRMM_IM_2012146.tif"
       ]
      },
      {
       "output_type": "stream",
       "stream": "stdout",
       "text": [
        "\n",
        "150\n",
        "D:\\Data\\0_DAILY_INTERVAL_NDVI_TRMM\\InnerMongolia\\TRMM2\\5_Day_Period\\5_DaySums_Accumulated//TRMM_IM_2012151.tif\n",
        "155\n",
        "D:\\Data\\0_DAILY_INTERVAL_NDVI_TRMM\\InnerMongolia\\TRMM2\\5_Day_Period\\5_DaySums_Accumulated//TRMM_IM_2012156.tif\n",
        "160\n",
        "D:\\Data\\0_DAILY_INTERVAL_NDVI_TRMM\\InnerMongolia\\TRMM2\\5_Day_Period\\5_DaySums_Accumulated//TRMM_IM_2012161.tif\n",
        "165\n",
        "D:\\Data\\0_DAILY_INTERVAL_NDVI_TRMM\\InnerMongolia\\TRMM2\\5_Day_Period\\5_DaySums_Accumulated//TRMM_IM_2012166.tif\n",
        "170"
       ]
      },
      {
       "output_type": "stream",
       "stream": "stdout",
       "text": [
        "\n",
        "D:\\Data\\0_DAILY_INTERVAL_NDVI_TRMM\\InnerMongolia\\TRMM2\\5_Day_Period\\5_DaySums_Accumulated//TRMM_IM_2012171.tif\n",
        "175\n",
        "D:\\Data\\0_DAILY_INTERVAL_NDVI_TRMM\\InnerMongolia\\TRMM2\\5_Day_Period\\5_DaySums_Accumulated//TRMM_IM_2012176.tif\n",
        "180\n",
        "D:\\Data\\0_DAILY_INTERVAL_NDVI_TRMM\\InnerMongolia\\TRMM2\\5_Day_Period\\5_DaySums_Accumulated//TRMM_IM_2012181.tif\n",
        "185\n",
        "D:\\Data\\0_DAILY_INTERVAL_NDVI_TRMM\\InnerMongolia\\TRMM2\\5_Day_Period\\5_DaySums_Accumulated//TRMM_IM_2012186.tif\n",
        "190"
       ]
      },
      {
       "output_type": "stream",
       "stream": "stdout",
       "text": [
        "\n",
        "D:\\Data\\0_DAILY_INTERVAL_NDVI_TRMM\\InnerMongolia\\TRMM2\\5_Day_Period\\5_DaySums_Accumulated//TRMM_IM_2012191.tif\n",
        "195\n",
        "D:\\Data\\0_DAILY_INTERVAL_NDVI_TRMM\\InnerMongolia\\TRMM2\\5_Day_Period\\5_DaySums_Accumulated//TRMM_IM_2012196.tif\n",
        "200\n",
        "D:\\Data\\0_DAILY_INTERVAL_NDVI_TRMM\\InnerMongolia\\TRMM2\\5_Day_Period\\5_DaySums_Accumulated//TRMM_IM_2012201.tif\n",
        "205\n",
        "D:\\Data\\0_DAILY_INTERVAL_NDVI_TRMM\\InnerMongolia\\TRMM2\\5_Day_Period\\5_DaySums_Accumulated//TRMM_IM_2012206.tif\n",
        "210"
       ]
      },
      {
       "output_type": "stream",
       "stream": "stdout",
       "text": [
        "\n",
        "D:\\Data\\0_DAILY_INTERVAL_NDVI_TRMM\\InnerMongolia\\TRMM2\\5_Day_Period\\5_DaySums_Accumulated//TRMM_IM_2012211.tif\n",
        "215\n",
        "D:\\Data\\0_DAILY_INTERVAL_NDVI_TRMM\\InnerMongolia\\TRMM2\\5_Day_Period\\5_DaySums_Accumulated//TRMM_IM_2012216.tif\n",
        "220\n",
        "D:\\Data\\0_DAILY_INTERVAL_NDVI_TRMM\\InnerMongolia\\TRMM2\\5_Day_Period\\5_DaySums_Accumulated//TRMM_IM_2012221.tif\n",
        "225\n",
        "D:\\Data\\0_DAILY_INTERVAL_NDVI_TRMM\\InnerMongolia\\TRMM2\\5_Day_Period\\5_DaySums_Accumulated//TRMM_IM_2012226.tif\n",
        "230\n",
        "D:\\Data\\0_DAILY_INTERVAL_NDVI_TRMM\\InnerMongolia\\TRMM2\\5_Day_Period\\5_DaySums_Accumulated//TRMM_IM_2012231.tif"
       ]
      },
      {
       "output_type": "stream",
       "stream": "stdout",
       "text": [
        "\n",
        "235\n",
        "D:\\Data\\0_DAILY_INTERVAL_NDVI_TRMM\\InnerMongolia\\TRMM2\\5_Day_Period\\5_DaySums_Accumulated//TRMM_IM_2012236.tif\n",
        "240\n",
        "D:\\Data\\0_DAILY_INTERVAL_NDVI_TRMM\\InnerMongolia\\TRMM2\\5_Day_Period\\5_DaySums_Accumulated//TRMM_IM_2012241.tif\n",
        "245\n",
        "D:\\Data\\0_DAILY_INTERVAL_NDVI_TRMM\\InnerMongolia\\TRMM2\\5_Day_Period\\5_DaySums_Accumulated//TRMM_IM_2012246.tif\n",
        "250\n",
        "D:\\Data\\0_DAILY_INTERVAL_NDVI_TRMM\\InnerMongolia\\TRMM2\\5_Day_Period\\5_DaySums_Accumulated//TRMM_IM_2012251.tif\n",
        "255"
       ]
      },
      {
       "output_type": "stream",
       "stream": "stdout",
       "text": [
        "\n",
        "D:\\Data\\0_DAILY_INTERVAL_NDVI_TRMM\\InnerMongolia\\TRMM2\\5_Day_Period\\5_DaySums_Accumulated//TRMM_IM_2012256.tif\n",
        "260\n",
        "D:\\Data\\0_DAILY_INTERVAL_NDVI_TRMM\\InnerMongolia\\TRMM2\\5_Day_Period\\5_DaySums_Accumulated//TRMM_IM_2012261.tif\n",
        "265\n",
        "D:\\Data\\0_DAILY_INTERVAL_NDVI_TRMM\\InnerMongolia\\TRMM2\\5_Day_Period\\5_DaySums_Accumulated//TRMM_IM_2012266.tif\n",
        "270\n",
        "D:\\Data\\0_DAILY_INTERVAL_NDVI_TRMM\\InnerMongolia\\TRMM2\\5_Day_Period\\5_DaySums_Accumulated//TRMM_IM_2012271.tif\n",
        "275\n",
        "D:\\Data\\0_DAILY_INTERVAL_NDVI_TRMM\\InnerMongolia\\TRMM2\\5_Day_Period\\5_DaySums_Accumulated//TRMM_IM_2012276.tif"
       ]
      },
      {
       "output_type": "stream",
       "stream": "stdout",
       "text": [
        "\n",
        "280\n",
        "D:\\Data\\0_DAILY_INTERVAL_NDVI_TRMM\\InnerMongolia\\TRMM2\\5_Day_Period\\5_DaySums_Accumulated//TRMM_IM_2012281.tif\n",
        "285\n",
        "D:\\Data\\0_DAILY_INTERVAL_NDVI_TRMM\\InnerMongolia\\TRMM2\\5_Day_Period\\5_DaySums_Accumulated//TRMM_IM_2012286.tif\n",
        "290\n",
        "D:\\Data\\0_DAILY_INTERVAL_NDVI_TRMM\\InnerMongolia\\TRMM2\\5_Day_Period\\5_DaySums_Accumulated//TRMM_IM_2012291.tif\n",
        "295\n",
        "D:\\Data\\0_DAILY_INTERVAL_NDVI_TRMM\\InnerMongolia\\TRMM2\\5_Day_Period\\5_DaySums_Accumulated//TRMM_IM_2012296.tif"
       ]
      },
      {
       "output_type": "stream",
       "stream": "stdout",
       "text": [
        "\n",
        "300\n",
        "D:\\Data\\0_DAILY_INTERVAL_NDVI_TRMM\\InnerMongolia\\TRMM2\\5_Day_Period\\5_DaySums_Accumulated//TRMM_IM_2012301.tif\n",
        "305\n",
        "D:\\Data\\0_DAILY_INTERVAL_NDVI_TRMM\\InnerMongolia\\TRMM2\\5_Day_Period\\5_DaySums_Accumulated//TRMM_IM_2012306.tif\n",
        "310\n",
        "D:\\Data\\0_DAILY_INTERVAL_NDVI_TRMM\\InnerMongolia\\TRMM2\\5_Day_Period\\5_DaySums_Accumulated//TRMM_IM_2012311.tif\n",
        "315\n",
        "D:\\Data\\0_DAILY_INTERVAL_NDVI_TRMM\\InnerMongolia\\TRMM2\\5_Day_Period\\5_DaySums_Accumulated//TRMM_IM_2012316.tif\n",
        "320"
       ]
      },
      {
       "output_type": "stream",
       "stream": "stdout",
       "text": [
        "\n",
        "D:\\Data\\0_DAILY_INTERVAL_NDVI_TRMM\\InnerMongolia\\TRMM2\\5_Day_Period\\5_DaySums_Accumulated//TRMM_IM_2012321.tif\n",
        "325\n",
        "D:\\Data\\0_DAILY_INTERVAL_NDVI_TRMM\\InnerMongolia\\TRMM2\\5_Day_Period\\5_DaySums_Accumulated//TRMM_IM_2012326.tif\n",
        "330\n",
        "D:\\Data\\0_DAILY_INTERVAL_NDVI_TRMM\\InnerMongolia\\TRMM2\\5_Day_Period\\5_DaySums_Accumulated//TRMM_IM_2012331.tif\n",
        "335\n",
        "D:\\Data\\0_DAILY_INTERVAL_NDVI_TRMM\\InnerMongolia\\TRMM2\\5_Day_Period\\5_DaySums_Accumulated//TRMM_IM_2012336.tif\n",
        "340\n",
        "D:\\Data\\0_DAILY_INTERVAL_NDVI_TRMM\\InnerMongolia\\TRMM2\\5_Day_Period\\5_DaySums_Accumulated//TRMM_IM_2012341.tif"
       ]
      },
      {
       "output_type": "stream",
       "stream": "stdout",
       "text": [
        "\n",
        "345\n",
        "D:\\Data\\0_DAILY_INTERVAL_NDVI_TRMM\\InnerMongolia\\TRMM2\\5_Day_Period\\5_DaySums_Accumulated//TRMM_IM_2012346.tif\n",
        "350\n",
        "D:\\Data\\0_DAILY_INTERVAL_NDVI_TRMM\\InnerMongolia\\TRMM2\\5_Day_Period\\5_DaySums_Accumulated//TRMM_IM_2012351.tif\n",
        "355\n",
        "D:\\Data\\0_DAILY_INTERVAL_NDVI_TRMM\\InnerMongolia\\TRMM2\\5_Day_Period\\5_DaySums_Accumulated//TRMM_IM_2012356.tif\n",
        "360\n",
        "D:\\Data\\0_DAILY_INTERVAL_NDVI_TRMM\\InnerMongolia\\TRMM2\\5_Day_Period\\5_DaySums_Accumulated//TRMM_IM_2012361.tif\n",
        "365"
       ]
      },
      {
       "output_type": "stream",
       "stream": "stdout",
       "text": [
        "\n",
        "D:\\Data\\0_DAILY_INTERVAL_NDVI_TRMM\\InnerMongolia\\TRMM2\\5_Day_Period\\5_DaySums_Accumulated//TRMM_IM_2012366.tif\n"
       ]
      }
     ],
     "prompt_number": 17
    },
    {
     "cell_type": "code",
     "collapsed": false,
     "input": [],
     "language": "python",
     "metadata": {},
     "outputs": []
    }
   ],
   "metadata": {}
  }
 ]
}