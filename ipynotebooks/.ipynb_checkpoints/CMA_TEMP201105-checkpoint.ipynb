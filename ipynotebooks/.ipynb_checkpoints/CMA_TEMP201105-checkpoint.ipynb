{
 "metadata": {
  "name": ""
 },
 "nbformat": 3,
 "nbformat_minor": 0,
 "worksheets": [
  {
   "cells": [
    {
     "cell_type": "code",
     "collapsed": false,
     "input": [
      "filepath = r'E:\\Data\\WangKun@Mattijn\\Atmospheric data_hourly\\2011\\201105'\n",
      "filestations = r'E:\\Data\\WangKun@Mattijn\\Radiation_hourly\\AWS_stations_Aalbers.csv'\n",
      "folderDEM = r'E:\\Data\\WangKun@Mattijn\\DEM_TILE6'\n",
      "folderMSK = r'E:\\Data\\WangKun@Mattijn\\DEM_MASK'\n",
      "prefix = 't'\n",
      "outFolder = r'E:\\Data\\WangKun@Mattijn\\outfolder\\t05//'"
     ],
     "language": "python",
     "metadata": {},
     "outputs": [],
     "prompt_number": 1
    },
    {
     "cell_type": "code",
     "collapsed": false,
     "input": [
      "from scipy import stats\n",
      "from scipy.spatial.distance import cdist\n",
      "from scipy.spatial import cKDTree as KDTree\n",
      "import statsmodels.api as sm\n",
      "import numpy as np\n",
      "import pandas as pd\n",
      "import gdal\n",
      "import os\n",
      "from __future__ import division"
     ],
     "language": "python",
     "metadata": {},
     "outputs": [],
     "prompt_number": 4
    },
    {
     "cell_type": "code",
     "collapsed": false,
     "input": [
      "def FILES(inGSODFolder):\n",
      "    st_wmo = [os.path.join(root, name)\n",
      "               for root, dirs, files in os.walk(inGSODFolder)\n",
      "                 for name in files                 \n",
      "                 if name.endswith('')]\n",
      "    return st_wmo"
     ],
     "language": "python",
     "metadata": {},
     "outputs": [],
     "prompt_number": 3
    },
    {
     "cell_type": "code",
     "collapsed": false,
     "input": [
      "def DEMfiles(inDEMFolder):\n",
      "    dem_files = [os.path.join(root, name)\n",
      "               for root, dirs, files in os.walk(inDEMFolder)\n",
      "                 for name in files\n",
      "                 if name.endswith('.TIF')]\n",
      "    return dem_files"
     ],
     "language": "python",
     "metadata": {},
     "outputs": [],
     "prompt_number": 4
    },
    {
     "cell_type": "code",
     "collapsed": false,
     "input": [
      "def inRaster(fileDEM):\n",
      "    raster = gdal.Open(fileDEM, gdal.GA_ReadOnly)\n",
      "    band = raster.GetRasterBand(1)\n",
      "    dem = band.ReadAsArray()\n",
      "    extent = raster.GetGeoTransform()\n",
      "    return raster, dem, extent"
     ],
     "language": "python",
     "metadata": {},
     "outputs": [],
     "prompt_number": 5
    },
    {
     "cell_type": "code",
     "collapsed": false,
     "input": [
      "def saveRaster(path, array, datatype=3, formatraster=\"GTiff\"): # float32 = 6, signed int = 3\n",
      "    # Set Driver\n",
      "    format_ = formatraster #save as format\n",
      "    driver = gdal.GetDriverByName( format_ )\n",
      "    driver.Register()\n",
      "    \n",
      "    # Set Metadata for Raster output\n",
      "    cols = raster.RasterXSize\n",
      "    rows = raster.RasterYSize\n",
      "    bands = raster.RasterCount\n",
      "    datatype = 6#band.DataType\n",
      "    \n",
      "    # Set Projection for Raster\n",
      "    outDataset = driver.Create(outFilename, cols, rows, bands, datatype)\n",
      "    geoTransform = raster.GetGeoTransform()\n",
      "    outDataset.SetGeoTransform(geoTransform)\n",
      "    proj = raster.GetProjection()\n",
      "    outDataset.SetProjection(proj)\n",
      "    \n",
      "    # Write output to band 1 of new Raster\n",
      "    outBand = outDataset.GetRasterBand(1)\n",
      "    outBand.WriteArray(array) #save input array\n",
      "    #outBand.WriteArray(dem)\n",
      "    \n",
      "    # Close and finalise newly created Raster\n",
      "    #F_M01 = None\n",
      "    outBand = None\n",
      "    proj = None\n",
      "    geoTransform = None\n",
      "    outDataset = None\n",
      "    driver = None\n",
      "    datatype = None\n",
      "    bands = None\n",
      "    rows = None\n",
      "    cols = None\n",
      "    driver = None\n",
      "    array = None"
     ],
     "language": "python",
     "metadata": {},
     "outputs": [],
     "prompt_number": 6
    },
    {
     "cell_type": "code",
     "collapsed": false,
     "input": [
      "def GIDS(x,y):    \n",
      "    x_y = [(x,y)] # for kd_tree that starts counting at bottom left with 0,0\n",
      "    #print x_y\n",
      "    x_ = (x*extent[1]+extent[0]+extent[1]/2) # longitude aalbers projection (meters)\n",
      "    y_ = (y*extent[5]+extent[3]+extent[5]/2) # latitude aalbers projection (meters)\n",
      "    long_lat = np.array([[x_,y_]])\n",
      "    \n",
      "    #print long_lat\n",
      "    \n",
      "    dem_1 = dem[y,x] # elevation x_y coordinate\n",
      "    dist_tree, ix_tree = tree.query(x_y, k=8, eps=0, p=1) # returns distance and index\n",
      "    df_selection = df.ix[ix_tree.ravel()]\n",
      "    \n",
      "    #print 'elevation from x_y =', dem_1\n",
      "    #print '\\n8 nearest neighbours\\n', df_selection\n",
      "    \n",
      "    Longi = df_selection.ix[:,5] # meters - Aalbers projection\n",
      "    Lati = df_selection.ix[:,6] # meters - Aalbers projection\n",
      "    hi = df_selection.ix[:,2]\n",
      "    \n",
      "    ##TEMP\n",
      "    ti = df_selection.ix[:,1]\n",
      "    #print 'ti\\n',ti    \n",
      "    \n",
      "    pr_var = zip(Longi,Lati,hi) # combines predictor variables as tuples\n",
      "    y = zip(ti) # dependent variable\n",
      "    X = sm.add_constant(pr_var, prepend=True) # multiple linear regression\n",
      "    \n",
      "    #fit the model\n",
      "    mlr = sm.OLS(y,X).fit()\n",
      "    b0,b1,b2,b3 = mlr.params\n",
      "    #print '\\nMultiLineair regression\\n', mlr.summary()\n",
      "    \n",
      "    long_lat_stations = df_selection.as_matrix(columns=['POINT_X','POINT_Y']) \n",
      "                                 \n",
      "    di = cdist(long_lat_stations, long_lat, 'euclidean') # Returns Eucleadian distance in meters between grid cell and selected weather-stations\n",
      "    #print '\\nDistances\\n',di\n",
      "    \n",
      "    # prepare datasets as flattened numpy array or as single values\n",
      "    Hi = df_selection.as_matrix(columns=['Elev']).flatten()\n",
      "    Ti = df_selection.as_matrix(columns=['TEMP']).flatten()\n",
      "    #Ti = (Ti-32)*(5/9)\n",
      "    \n",
      "    di_ = di.flatten()\n",
      "    long_lat_ = long_lat.flatten()\n",
      "    Longi_ = df_selection.as_matrix(columns=['POINT_X',]).flatten()\n",
      "    Lati_ = df_selection.as_matrix(columns=['POINT_Y',]).flatten()\n",
      "    #print '\\nhi\\n',Hi\n",
      "    #print '\\nti\\n',Ti\n",
      "    #print '\\ndi\\n',di\n",
      "    #print '\\nlong_lat\\n',long_lat\n",
      "    #print '\\nlongi\\n',Longi_\n",
      "    #print '\\nlati\\n',Lati_\n",
      "    \n",
      "    top =    sum( (1/di_)**2 )**-1\n",
      "    long_f = b1*(long_lat_[0]-Longi_)\n",
      "    lat_f =  b2*(long_lat_[1]-Lati_)\n",
      "    h_f =    b3*(dem_1-Hi)\n",
      "    middle = Ti + long_f + lat_f + h_f\n",
      "    end = (1/di_)**2 \n",
      "    comb = top * sum( middle * end )\n",
      "    #print comb\n",
      "    return comb"
     ],
     "language": "python",
     "metadata": {},
     "outputs": [],
     "prompt_number": 17
    },
    {
     "cell_type": "code",
     "collapsed": false,
     "input": [
      "# select meteorological data file\n",
      "file_ = FILES(filepath)\n",
      "f = file_[0]\n",
      "print f\n",
      "\n",
      "# create range of dates\n",
      "rng = pd.date_range('1/5/2011', '31/5/2011', freq='D')\n",
      "print rng"
     ],
     "language": "python",
     "metadata": {},
     "outputs": [
      {
       "output_type": "stream",
       "stream": "stdout",
       "text": [
        "E:\\Data\\WangKun@Mattijn\\Atmospheric data_hourly\\2011\\201101\\SURF_CLI_CHN_MUL_FTM-201101.TXT\n",
        "<class 'pandas.tseries.index.DatetimeIndex'>\n",
        "[2011-01-01 00:00:00, ..., 2011-01-30 00:00:00]\n",
        "Length: 30, Freq: D, Timezone: None\n"
       ]
      }
     ],
     "prompt_number": 8
    },
    {
     "cell_type": "code",
     "collapsed": false,
     "input": [
      "# read file and parse the dates correctly\n",
      "df = pd.read_csv(f, sep='\\t', header=None,  \n",
      "                 parse_dates={'datetime': [1,2,3,4]}, \n",
      "                 date_parser=lambda x: pd.datetime.strptime(x, '%Y %m %d %H'))\n",
      "\n",
      "# set name of columns\n",
      "columns_df = ['datetime','Station','STP','a','TEMP','b','c','d','REHU','e','f','g','PRCP','h','i','WDSP','j','k','l','m','n','o', \\\n",
      "              'p','q','r','s','t']\n",
      "df.columns = columns_df\n",
      "\n",
      "# set date-time as index and select the variables needed\n",
      "df.set_index('datetime', inplace=True)\n",
      "df_sel = df[['Station', 'TEMP']]#'STP','TEMP','REHU','PRCP','WDSP']]\n",
      "\n",
      "# replace missing, blank and values for snow as NaN\n",
      "df_sel.replace(32766, np.nan, inplace=True)\n",
      "df_sel.replace(32744, np.nan, inplace=True)\n",
      "df_sel.replace(32700, np.nan, inplace=True)\n",
      "\n",
      "# make appropriate concersions to right unit\n",
      "#df_sel.STP *= 0.1\n",
      "df_sel.TEMP *= 10\n",
      "#df_sel.PRCP *= 0.1\n",
      "#df_sel.STP *= 0.1\n",
      "\n",
      "# group by Station ID and resample to daily values\n",
      "df_selDay = df_sel.groupby('Station').resample('1D')\n",
      "df_selDay = df_selDay.drop('Station',1)\n",
      "df_selDay = df_selDay.reset_index()\n",
      "df_selDay = df_selDay.set_index('datetime')\n",
      "print df_selDay.head()"
     ],
     "language": "python",
     "metadata": {},
     "outputs": [
      {
       "output_type": "stream",
       "stream": "stdout",
       "text": [
        "            Station         TEMP\n",
        "datetime                        \n",
        "2011-01-01    50136 -3110.416667\n",
        "2011-01-02    50136 -2915.833333\n",
        "2011-01-03    50136 -2992.500000\n",
        "2011-01-04    50136 -2160.416667\n",
        "2011-01-05    50136 -1476.250000\n"
       ]
      }
     ],
     "prompt_number": 9
    },
    {
     "cell_type": "markdown",
     "metadata": {},
     "source": [
      "TEEEESSSSTTTT"
     ]
    },
    {
     "cell_type": "code",
     "collapsed": false,
     "input": [
      "masks = DEMfiles(folderMSK)\n",
      "m_raster, m_dem, m_extent = inRaster(masks[5])\n",
      "\n",
      "dem_j = m_dem.shape[1]\n",
      "dem_i = m_dem.shape[0]\n",
      "for x in range(0,dem_j):\n",
      "    for y in range(0,dem_i):\n",
      "#        print x, y, m_dem[y,x]\n",
      "        if m_dem[y,x] == 1:\n",
      "            tp[x][y] = 5\n",
      "        else:\n",
      "            tp[x][y] = 32677\n"
     ],
     "language": "python",
     "metadata": {},
     "outputs": []
    },
    {
     "cell_type": "code",
     "collapsed": false,
     "input": [
      "rsters = DEMfiles(folderDEM)\n",
      "masks = DEMfiles(folderMSK)\n",
      "#st_wmo = GSODfiles(folderGSOD)\n",
      "for rster in rsters:    \n",
      "    raster, dem, extent = inRaster(rster)    \n",
      "    for mask in masks:\n",
      "        if len(rster) == 43 and len(mask)==42:\n",
      "            if int(mask[-6:-4]) == int(rster[-6:-4]):\n",
      "                mskpth = mask                \n",
      "        elif len(rster) == 42 and len(mask)==41:\n",
      "            if int(mask[-5:-4]) == int(rster[-5:-4]):\n",
      "                mskpth = mask\n",
      "    m_raster, m_dem, m_extent = inRaster(mskpth)\n",
      "    dem_j = m_dem.shape[1]\n",
      "    dem_i = m_dem.shape[0]\n",
      "    for x in range(0,dem_j):\n",
      "        for y in range(0,dem_i):\n",
      "    #        print x, y, m_dem[y,x]\n",
      "            if m_dem[y,x] == 1:\n",
      "                tp[x][y] = GIDS(x,y)\n",
      "            else:\n",
      "                tp[x][y] = 32677"
     ],
     "language": "python",
     "metadata": {},
     "outputs": []
    },
    {
     "cell_type": "markdown",
     "metadata": {},
     "source": [
      "TEEEEESSSSTTTT"
     ]
    },
    {
     "cell_type": "code",
     "collapsed": false,
     "input": [
      "rsters = DEMfiles(folderDEM)\n",
      "masks = DEMfiles(folderMSK)\n",
      "#st_wmo = GSODfiles(folderGSOD)\n",
      "for rster in rsters:    \n",
      "    raster, dem, extent = inRaster(rster)    \n",
      "    for mask in masks:\n",
      "        if len(rster) == 43 and len(mask)==42:\n",
      "            if int(mask[-6:-4]) == int(rster[-6:-4]):\n",
      "                mskpth = mask                \n",
      "        elif len(rster) == 42 and len(mask)==41:\n",
      "            if int(mask[-5:-4]) == int(rster[-5:-4]):\n",
      "                mskpth = mask\n",
      "    m_raster, m_dem, m_extent = inRaster(mskpth)\n",
      "    #print raster.GetDescription()\n",
      "    #print m_raster.GetDescription()\n",
      "    #for date in date_all:\n",
      "    for i in rng[0:1]:\n",
      "        \n",
      "        # read station file\n",
      "        df_stations = pd.read_csv(filestations)        \n",
      "        \n",
      "        df_stations['Y_LAT'] = (df_stations.POINT_Y-extent[3])/extent[5]\n",
      "        df_stations['X_LON'] = (df_stations.POINT_X-extent[0])/extent[1]\n",
      "        \n",
      "        #print '\\ndate of range\\n', i\n",
      "        data_left = df_selDay.ix[i]    \n",
      "        sel_merge = pd.merge(data_left, df_stations, on='Station', how='inner', )\n",
      "        #print '\\nInner merge on station and data frame\\n', sel_merge.head()\n",
      "        \n",
      "        #TEMP\n",
      "        df = sel_merge[pd.notnull(sel_merge['TEMP'])]\n",
      "        df.reset_index(drop=True, inplace=True)\n",
      "        \n",
      "        #df.TEMP =df.TEMP.astype(int)\n",
      "        #print '\\nDrop not null and reset index\\n', df.head()\n",
      "\n",
      "        Longscaled = df.ix[:,8]\n",
      "        #print '\\nlongscaled\\n', Longscaled\n",
      "        Latscaled = df.ix[:,7]\n",
      "        #print '\\nlatscaled\\n', Latscaled\n",
      "        tree = KDTree(zip(Longscaled,Latscaled), leafsize=11)\n",
      "    \n",
      "        tp = np.zeros([dem.shape[1],dem.shape[0]])\n",
      "        \n",
      "        #x = 0\n",
      "        #y = 0\n",
      "        #print GIDS(x,y)\n",
      "        dem_j = m_dem.shape[1]\n",
      "        dem_i = m_dem.shape[0]\n",
      "        for x in range(0,dem_j):\n",
      "            for y in range(0,dem_i):\n",
      "        #        print x, y, m_dem[y,x]\n",
      "                if m_dem[y,x] == 1:\n",
      "                    tp[x][y] = GIDS(x,y)\n",
      "                else:\n",
      "                    tp[x][y] = 32677        \n",
      "        \n",
      "#        for x in range(0,dem.shape[1],1):\n",
      "#            for y in range(0,dem.shape[0],1):\n",
      "#                tp[x][y] = GIDS(x,y)\n",
      "        tp = tp.T\n",
      "        \n",
      "        #save output as raster\n",
      "        if len(raster.GetDescription()) == 43: # fixed code to check the length of the path\n",
      "            add = raster.GetDescription()[-6:-4]\n",
      "        else:\n",
      "            add = raster.GetDescription()[-5:-4]\n",
      "            \n",
      "        date = str(i.year)+str(i.month).zfill(2)+str(i.day).zfill(2)\n",
      "        outFilename = outFolder+prefix+str(date)+'_'+str(add.zfill(2))+'.tif'\n",
      "        print outFilename\n",
      "        \n",
      "        saveRaster(outFilename, tp)\n",
      "        outFilename = None\n",
      "        tp = None"
     ],
     "language": "python",
     "metadata": {},
     "outputs": [
      {
       "output_type": "stream",
       "stream": "stdout",
       "text": [
        "2011-01-01 00:00:00\n",
        "2011-01-01 00:00:00"
       ]
      },
      {
       "output_type": "stream",
       "stream": "stdout",
       "text": [
        "\n",
        "2011-01-01 00:00:00"
       ]
      },
      {
       "output_type": "stream",
       "stream": "stdout",
       "text": [
        "\n",
        "2011-01-01 00:00:00"
       ]
      },
      {
       "output_type": "stream",
       "stream": "stdout",
       "text": [
        "\n",
        "2011-01-01 00:00:00"
       ]
      },
      {
       "output_type": "stream",
       "stream": "stdout",
       "text": [
        "\n",
        "2011-01-01 00:00:00"
       ]
      },
      {
       "output_type": "stream",
       "stream": "stdout",
       "text": [
        "\n",
        "2011-01-01 00:00:00"
       ]
      },
      {
       "output_type": "stream",
       "stream": "stdout",
       "text": [
        "\n",
        "2011-01-01 00:00:00"
       ]
      },
      {
       "output_type": "stream",
       "stream": "stdout",
       "text": [
        "\n",
        "2011-01-01 00:00:00"
       ]
      },
      {
       "output_type": "stream",
       "stream": "stdout",
       "text": [
        "\n",
        "2011-01-01 00:00:00"
       ]
      },
      {
       "output_type": "stream",
       "stream": "stdout",
       "text": [
        "\n",
        "2011-01-01 00:00:00"
       ]
      },
      {
       "output_type": "stream",
       "stream": "stdout",
       "text": [
        "\n",
        "2011-01-01 00:00:00"
       ]
      },
      {
       "output_type": "stream",
       "stream": "stdout",
       "text": [
        "\n",
        "2011-01-01 00:00:00"
       ]
      },
      {
       "output_type": "stream",
       "stream": "stdout",
       "text": [
        "\n",
        "2011-01-01 00:00:00"
       ]
      },
      {
       "output_type": "stream",
       "stream": "stdout",
       "text": [
        "\n",
        "2011-01-01 00:00:00"
       ]
      },
      {
       "output_type": "stream",
       "stream": "stdout",
       "text": [
        "\n",
        "2011-01-01 00:00:00"
       ]
      },
      {
       "output_type": "stream",
       "stream": "stdout",
       "text": [
        "\n",
        "2011-01-01 00:00:00"
       ]
      },
      {
       "output_type": "stream",
       "stream": "stdout",
       "text": [
        "\n",
        "2011-01-01 00:00:00"
       ]
      },
      {
       "output_type": "stream",
       "stream": "stdout",
       "text": [
        "\n",
        "2011-01-01 00:00:00"
       ]
      },
      {
       "output_type": "stream",
       "stream": "stdout",
       "text": [
        "\n",
        "2011-01-01 00:00:00"
       ]
      },
      {
       "output_type": "stream",
       "stream": "stdout",
       "text": [
        "\n",
        "2011-01-01 00:00:00"
       ]
      },
      {
       "output_type": "stream",
       "stream": "stdout",
       "text": [
        "\n",
        "2011-01-01 00:00:00"
       ]
      },
      {
       "output_type": "stream",
       "stream": "stdout",
       "text": [
        "\n",
        "2011-01-01 00:00:00"
       ]
      },
      {
       "output_type": "stream",
       "stream": "stdout",
       "text": [
        "\n",
        "2011-01-01 00:00:00"
       ]
      },
      {
       "output_type": "stream",
       "stream": "stdout",
       "text": [
        "\n",
        "2011-01-01 00:00:00"
       ]
      },
      {
       "output_type": "stream",
       "stream": "stdout",
       "text": [
        "\n"
       ]
      }
     ],
     "prompt_number": 19
    },
    {
     "cell_type": "code",
     "collapsed": false,
     "input": [
      "import sys\n",
      "import subprocess as sp"
     ],
     "language": "python",
     "metadata": {},
     "outputs": [],
     "prompt_number": 2
    },
    {
     "cell_type": "code",
     "collapsed": false,
     "input": [
      "def DEMfiles(inGSODFolder):\n",
      "    st_wmo = [os.path.join(root, name)\n",
      "               for root, dirs, files in os.walk(inGSODFolder)\n",
      "                 for name in files\n",
      "                 if name.endswith('.tif')]\n",
      "    return st_wmo\n",
      "\n",
      "outFolder = r'E:\\Data\\WangKun@Mattijn\\outfolder\\t2'\n",
      "gdal_merge = r'D:\\Python27\\Scripts\\gdal_merge.py'\n",
      "mergeFolder = r'E:\\Data\\WangKun@Mattijn\\outfolder\\t_merge\\\\'\n",
      "thisfile = r\"E:/Data/WangKun@Mattijn/outfolder/t_merge/merge_t.txt\"\n",
      "files = DEMfiles(outFolder)\n",
      "newlist = []\n",
      "for file_ in files:    \n",
      "    #print file_[23:25]\n",
      "    if file_[-16:-15] == 't':\n",
      "        newlist.append(file_)\n",
      "#print newlist\n",
      "\n",
      "for x in range(1,2):\n",
      "    thefile = open(r'E:\\Data\\WangKun@Mattijn\\outfolder\\t_merge//merge_t.txt', 'w')\n",
      "    new2 = []\n",
      "    #print x\n",
      "    for new in newlist:\n",
      "        if int(new[-9:-7]) == x:\n",
      "            new2.append(new)\n",
      "            date = new[-16:-7]\n",
      "            #print date\n",
      "    for item in new2:\n",
      "        thefile.write(\"%s\\n\" % item)\n",
      "    thefile.close()\n",
      "    #print date\n",
      "    outfile = mergeFolder+date+'.tif'\n",
      "    print outfile\n",
      "    paramsnorm = [gdal_merge, \"-o\", outfile, \"-q\", \"-v\", \"--optfile\", thisfile]\n",
      "    print sp.list2cmdline(paramsnorm)\n",
      "    norm = sp.Popen(sp.list2cmdline(paramsnorm), shell=True)     \n",
      "    norm.communicate()"
     ],
     "language": "python",
     "metadata": {},
     "outputs": [
      {
       "output_type": "stream",
       "stream": "stdout",
       "text": [
        "E:\\Data\\WangKun@Mattijn\\outfolder\\t_merge\\\\t20110101.tif\n",
        "D:\\Python27\\Scripts\\gdal_merge.py -o E:\\Data\\WangKun@Mattijn\\outfolder\\t_merge\\\\t20110101.tif -q -v --optfile E:/Data/WangKun@Mattijn/outfolder/t_merge/merge_t.txt\n"
       ]
      }
     ],
     "prompt_number": 5
    },
    {
     "cell_type": "code",
     "collapsed": false,
     "input": [
      "newlist[10][-9:-7]"
     ],
     "language": "python",
     "metadata": {},
     "outputs": [
      {
       "metadata": {},
       "output_type": "pyout",
       "prompt_number": 28,
       "text": [
        "'01'"
       ]
      }
     ],
     "prompt_number": 28
    },
    {
     "cell_type": "code",
     "collapsed": false,
     "input": [
      "from osgeo import gdal \n",
      "from osgeo import ogr \n",
      "from osgeo import osr \n",
      "from osgeo import gdal_array \n",
      "from osgeo import gdalconst \n",
      "from osgeo.gdalconst import *"
     ],
     "language": "python",
     "metadata": {},
     "outputs": [],
     "prompt_number": 36
    },
    {
     "cell_type": "code",
     "collapsed": false,
     "input": [],
     "language": "python",
     "metadata": {},
     "outputs": []
    }
   ],
   "metadata": {}
  }
 ]
}