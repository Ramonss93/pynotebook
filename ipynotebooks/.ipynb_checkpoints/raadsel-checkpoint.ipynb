{
 "metadata": {
  "name": ""
 },
 "nbformat": 3,
 "nbformat_minor": 0,
 "worksheets": [
  {
   "cells": [
    {
     "cell_type": "code",
     "collapsed": false,
     "input": [
      "from collections import Counter"
     ],
     "language": "python",
     "metadata": {},
     "outputs": [],
     "prompt_number": 1
    },
    {
     "cell_type": "heading",
     "level": 4,
     "metadata": {},
     "source": [
      "Ok, eerst het verloop van 1 familie. Familie mag maximaal 100 kinderen krijgen. Elk kind kan een meisje of een jongen zijn. Wanneer het kind een jongen is, dan niets meer."
     ]
    },
    {
     "cell_type": "code",
     "collapsed": false,
     "input": [
      "maxfam = 100 # max familiy size\n",
      "def children():    \n",
      "    fam = [] # start family\n",
      "    for i in range(maxfam):\n",
      "        child = random.choice(['boy','girl'])\n",
      "        fam.append(child)\n",
      "        if child == 'boy':\n",
      "            break\n",
      "    return fam"
     ],
     "language": "python",
     "metadata": {},
     "outputs": [
      {
       "metadata": {},
       "output_type": "pyout",
       "prompt_number": 60,
       "text": [
        "['girl', 'girl', 'girl', 'girl', 'boy']"
       ]
      }
     ],
     "prompt_number": 60
    },
    {
     "cell_type": "heading",
     "level": 4,
     "metadata": {},
     "source": [
      "Vervolgens voor de populatie. Beeld je in een populatie die bestaat uit 1 miljoen ouders die een wens naar kinderen hebben. Wat gebeurd er wanneer ze zich aan onze regels moeten houden"
     ]
    },
    {
     "cell_type": "code",
     "collapsed": false,
     "input": [
      "pop = 1000000 # number of couples in need for children\n",
      "\n",
      "start = Counter(children())\n",
      "print ('The first family got:\\n',start.items() )\n",
      "\n",
      "out_table = np.empty([pop,2])\n",
      "for i in range(pop):\n",
      "    start = start + Counter(children())\n",
      "    out_table[i][0] = start.get('boy')\n",
      "    out_table[i][1] = start.get('girl')\n",
      "\n",
      "print ('\\nPopulation saturated, we got:\\n', start.items() )"
     ],
     "language": "python",
     "metadata": {},
     "outputs": [],
     "prompt_number": 2
    },
    {
     "cell_type": "heading",
     "level": 4,
     "metadata": {},
     "source": [
      "Nog even een overzicht van het verloop van de kans op een jongen of een meisje naarmate meer families kinderen krijgen en zich netjes aan onze regels houden"
     ]
    },
    {
     "cell_type": "code",
     "collapsed": false,
     "input": [
      "total = out_table[:,0] + out_table[:,1]\n",
      "plt.plot(out_table[:,0] / total * 100, color='#0000cd')\n",
      "plt.plot(out_table[:,1] / total * 100, color='#ff69b4')\n",
      "plt.xlabel(\"Number of families with children\")\n",
      "plt.ylabel(\"Probability of child (%)\")\n",
      "plt.ylim([49.5,50.5])\n",
      "plt.legend(['boys','girls'])\n",
      "plt.title('Development of child probability')\n",
      "plt.show()"
     ],
     "language": "python",
     "metadata": {},
     "outputs": []
    }
   ],
   "metadata": {}
  }
 ]
}