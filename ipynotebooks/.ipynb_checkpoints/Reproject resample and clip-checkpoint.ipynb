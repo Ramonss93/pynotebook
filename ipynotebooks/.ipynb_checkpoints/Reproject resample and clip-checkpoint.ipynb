{
 "metadata": {
  "name": ""
 },
 "nbformat": 3,
 "nbformat_minor": 0,
 "worksheets": [
  {
   "cells": [
    {
     "cell_type": "code",
     "collapsed": false,
     "input": [
      "import os\n",
      "from osgeo import gdal, gdalconst"
     ],
     "language": "python",
     "metadata": {},
     "outputs": [],
     "prompt_number": 41
    },
    {
     "cell_type": "code",
     "collapsed": false,
     "input": [
      "from mattijn import dikkelul"
     ],
     "language": "python",
     "metadata": {},
     "outputs": [],
     "prompt_number": 56
    },
    {
     "cell_type": "code",
     "collapsed": false,
     "input": [
      "dikkelul."
     ],
     "language": "python",
     "metadata": {},
     "outputs": []
    },
    {
     "cell_type": "code",
     "collapsed": false,
     "input": [
      "def reproject(baseRaster, pathIn, pathOut):\n",
      "    \"\"\"\n",
      "    baseRaster = raster from which to get projection and geotransform info\n",
      "    pathIn     = raster to reproject, resample and clip\n",
      "    pathOut    = output raster path    \n",
      "    \"\"\"\n",
      "    # step 1 Open raster that we want to project and resample\n",
      "    src_filename = pathIn\n",
      "    src = gdal.Open(src_filename, gdalconst.GA_ReadOnly)\n",
      "    src_proj = src.GetProjection()\n",
      "    src_geotrans = src.GetGeoTransform()\n",
      "    \n",
      "    # step 2 Open raster from which to get projection and geotransform, will be used for output file\n",
      "    match_filename = baseRaster\n",
      "    match_ds = gdal.Open(match_filename, gdalconst.GA_ReadOnly)\n",
      "    match_proj = match_ds.GetProjection()\n",
      "    match_geotrans = match_ds.GetGeoTransform()\n",
      "    wide = match_ds.RasterXSize\n",
      "    high = match_ds.RasterYSize\n",
      "    \n",
      "    # step 3 Output / destination save to tiff using \n",
      "    dst_filename = pathOut\n",
      "    dst = gdal.GetDriverByName('GTiff').Create(dst_filename, wide, high, 1, gdalconst.GDT_Float32)\n",
      "    dst.SetGeoTransform( match_geotrans )\n",
      "    dst.SetProjection( match_proj)\n",
      "    \n",
      "    # step 4 Do the work\n",
      "    gdal.ReprojectImage(src, dst, src_proj, match_proj, gdalconst.GRA_Bilinear)\n",
      "    \n",
      "    del dst # Flush"
     ],
     "language": "python",
     "metadata": {},
     "outputs": [],
     "prompt_number": 47
    },
    {
     "cell_type": "code",
     "collapsed": false,
     "input": [],
     "language": "python",
     "metadata": {},
     "outputs": [],
     "prompt_number": 42
    },
    {
     "cell_type": "code",
     "collapsed": false,
     "input": [
      "path = r'E:\\Data\\WangKun@Mattijn\\outfolder\\2011\\NEWsrad_merge'\n",
      "folderOut = r'E:\\Data\\WangKun@Mattijn\\outfolder\\2011_merge\\outtest//'\n",
      "baseRaster = r'H:\\Data\\mattijn@hu\\NEWsrad_2011_0.05dd//srad20110101.tif' \n",
      "files = dikkelul.FilesFolder(path, format_end='.tif')\n",
      "\n",
      "print ('baseraster\\n',baseRaster)\n",
      "for pathIn in files:    \n",
      "    \n",
      "    print ('pathin\\n',pathIn)\n",
      "    outFile = pathIn[-16::]\n",
      "    pathOut = folderOut+outFile\n",
      "    \n",
      "    dikkelul.reproject(baseRaster, pathIn, pathOut)\n",
      "    \n",
      "    print ('pathout\\n',pathOut)\n"
     ],
     "language": "python",
     "metadata": {},
     "outputs": [
      {
       "ename": "AttributeError",
       "evalue": "'module' object has no attribute 'FilesFolder'",
       "output_type": "pyerr",
       "traceback": [
        "\u001b[1;31m---------------------------------------------------------------------------\u001b[0m\n\u001b[1;31mAttributeError\u001b[0m                            Traceback (most recent call last)",
        "\u001b[1;32m<ipython-input-57-21290175a5f4>\u001b[0m in \u001b[0;36m<module>\u001b[1;34m()\u001b[0m\n\u001b[0;32m      2\u001b[0m \u001b[0mfolderOut\u001b[0m \u001b[1;33m=\u001b[0m \u001b[1;34mr'E:\\Data\\WangKun@Mattijn\\outfolder\\2011_merge\\outtest//'\u001b[0m\u001b[1;33m\u001b[0m\u001b[0m\n\u001b[0;32m      3\u001b[0m \u001b[0mbaseRaster\u001b[0m \u001b[1;33m=\u001b[0m \u001b[1;34mr'H:\\Data\\mattijn@hu\\NEWsrad_2011_0.05dd//srad20110101.tif'\u001b[0m\u001b[1;33m\u001b[0m\u001b[0m\n\u001b[1;32m----> 4\u001b[1;33m \u001b[0mfiles\u001b[0m \u001b[1;33m=\u001b[0m \u001b[0mdikkelul\u001b[0m\u001b[1;33m.\u001b[0m\u001b[0mFilesFolder\u001b[0m\u001b[1;33m(\u001b[0m\u001b[0mpath\u001b[0m\u001b[1;33m,\u001b[0m \u001b[0mformat_end\u001b[0m\u001b[1;33m=\u001b[0m\u001b[1;34m'.tif'\u001b[0m\u001b[1;33m)\u001b[0m\u001b[1;33m\u001b[0m\u001b[0m\n\u001b[0m\u001b[0;32m      5\u001b[0m \u001b[1;33m\u001b[0m\u001b[0m\n\u001b[0;32m      6\u001b[0m \u001b[0mprint\u001b[0m \u001b[1;33m(\u001b[0m\u001b[1;34m'baseraster\\n'\u001b[0m\u001b[1;33m,\u001b[0m\u001b[0mbaseRaster\u001b[0m\u001b[1;33m)\u001b[0m\u001b[1;33m\u001b[0m\u001b[0m\n",
        "\u001b[1;31mAttributeError\u001b[0m: 'module' object has no attribute 'FilesFolder'"
       ]
      }
     ],
     "prompt_number": 57
    },
    {
     "cell_type": "code",
     "collapsed": false,
     "input": [
      "src_geotrans"
     ],
     "language": "python",
     "metadata": {},
     "outputs": [
      {
       "metadata": {},
       "output_type": "pyout",
       "prompt_number": 35,
       "text": [
        "(1850000.0, 5000.0, 0.0, 3387000.0, 0.0, -5000.0)"
       ]
      }
     ],
     "prompt_number": 35
    },
    {
     "cell_type": "code",
     "collapsed": false,
     "input": [],
     "language": "python",
     "metadata": {},
     "outputs": [],
     "prompt_number": 16
    },
    {
     "cell_type": "code",
     "collapsed": false,
     "input": [
      "match_proj"
     ],
     "language": "python",
     "metadata": {},
     "outputs": [
      {
       "metadata": {},
       "output_type": "pyout",
       "prompt_number": 23,
       "text": [
        "'GEOGCS[\"GCS_WGS_1984\",DATUM[\"WGS_1984\",SPHEROID[\"WGS_84\",6378137.0,298.257223563]],PRIMEM[\"Greenwich\",0.0],UNIT[\"degree\",0.0174532925199433]]'"
       ]
      }
     ],
     "prompt_number": 23
    },
    {
     "cell_type": "code",
     "collapsed": false,
     "input": [],
     "language": "python",
     "metadata": {},
     "outputs": [
      {
       "metadata": {},
       "output_type": "pyout",
       "prompt_number": 24,
       "text": [
        "0"
       ]
      }
     ],
     "prompt_number": 24
    },
    {
     "cell_type": "code",
     "collapsed": false,
     "input": [
      "match_proj"
     ],
     "language": "python",
     "metadata": {},
     "outputs": [
      {
       "metadata": {},
       "output_type": "pyout",
       "prompt_number": 31,
       "text": [
        "'GEOGCS[\"GCS_WGS_1984\",DATUM[\"WGS_1984\",SPHEROID[\"WGS_84\",6378137.0,298.257223563]],PRIMEM[\"Greenwich\",0.0],UNIT[\"degree\",0.0174532925199433]]'"
       ]
      }
     ],
     "prompt_number": 31
    },
    {
     "cell_type": "code",
     "collapsed": false,
     "input": [
      "# Do the work\n",
      "gdal.ReprojectImage(src, dst, src_proj, match_proj, gdalconst.GRA_Bilinear)\n",
      "\n",
      "del dst # Flush"
     ],
     "language": "python",
     "metadata": {},
     "outputs": [],
     "prompt_number": 30
    },
    {
     "cell_type": "code",
     "collapsed": false,
     "input": [],
     "language": "python",
     "metadata": {},
     "outputs": []
    }
   ],
   "metadata": {}
  }
 ]
}