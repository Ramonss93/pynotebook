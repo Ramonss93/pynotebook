{
 "metadata": {
  "name": ""
 },
 "nbformat": 3,
 "nbformat_minor": 0,
 "worksheets": [
  {
   "cells": [
    {
     "cell_type": "code",
     "collapsed": false,
     "input": [
      "path = r'E:\\Data\\DataTimeSeries'\n",
      "\n",
      "namevarNDVI = 'NDVI'\n",
      "namevarSM = 'SM'"
     ],
     "language": "python",
     "metadata": {},
     "outputs": []
    },
    {
     "cell_type": "code",
     "collapsed": false,
     "input": [
      "from numpy import NaN, Inf, arange, isscalar, array\n",
      "from osgeo import gdal\n",
      "import datetime\n",
      "import numpy as np\n",
      "import os\n",
      "from matplotlib import pyplot as plt"
     ],
     "language": "python",
     "metadata": {},
     "outputs": []
    },
    {
     "cell_type": "code",
     "collapsed": false,
     "input": [
      "def peakdet(v, delta, x = None):\n",
      "    \"\"\"\n",
      "    Converted from MATLAB script at http://billauer.co.il/peakdet.html\n",
      "    \n",
      "    Returns two arrays\n",
      "    \n",
      "    function [maxtab, mintab]=peakdet(v, delta, x)\n",
      "    %PEAKDET Detect peaks in a vector\n",
      "    %        [MAXTAB, MINTAB] = PEAKDET(V, DELTA) finds the local\n",
      "    %        maxima and minima (\"peaks\") in the vector V.\n",
      "    %        MAXTAB and MINTAB consists of two columns. Column 1\n",
      "    %        contains indices in V, and column 2 the found values.\n",
      "    %      \n",
      "    %        With [MAXTAB, MINTAB] = PEAKDET(V, DELTA, X) the indices\n",
      "    %        in MAXTAB and MINTAB are replaced with the corresponding\n",
      "    %        X-values.\n",
      "    %\n",
      "    %        A point is considered a maximum peak if it has the maximal\n",
      "    %        value, and was preceded (to the left) by a value lower by\n",
      "    %        DELTA.\n",
      "    \n",
      "    % Eli Billauer, 3.4.05 (Explicitly not copyrighted).\n",
      "    % This function is released to the public domain; Any use is allowed.\n",
      "    \n",
      "    \"\"\"\n",
      "    maxtab = []\n",
      "    mintab = []\n",
      "       \n",
      "    if x is None:\n",
      "        x = arange(len(v))\n",
      "    \n",
      "    v = asarray(v)\n",
      "    \n",
      "    if len(v) != len(x):\n",
      "        sys.exit('Input vectors v and x must have same length')\n",
      "    \n",
      "    if not isscalar(delta):\n",
      "        sys.exit('Input argument delta must be a scalar')\n",
      "    \n",
      "    if delta <= 0:\n",
      "        sys.exit('Input argument delta must be positive')\n",
      "    \n",
      "    mn, mx = Inf, -Inf\n",
      "    mnpos, mxpos = NaN, NaN\n",
      "    \n",
      "    lookformax = True\n",
      "    \n",
      "    for i in arange(len(v)):\n",
      "        this = v[i]\n",
      "        if this > mx:\n",
      "            mx = this\n",
      "            mxpos = x[i]\n",
      "        if this < mn:\n",
      "            mn = this\n",
      "            mnpos = x[i]\n",
      "        \n",
      "        if lookformax:\n",
      "            if this < mx-delta:\n",
      "                maxtab.append((mxpos, mx))\n",
      "                mn = this\n",
      "                mnpos = x[i]\n",
      "                lookformax = False\n",
      "        else:\n",
      "            if this > mn+delta:\n",
      "                mintab.append((mnpos, mn))\n",
      "                mx = this\n",
      "                mxpos = x[i]\n",
      "                lookformax = True\n",
      " \n",
      "    return array(maxtab), array(mintab)"
     ],
     "language": "python",
     "metadata": {},
     "outputs": []
    },
    {
     "cell_type": "code",
     "collapsed": false,
     "input": [
      "def correlate1(a, b):\n",
      "    c = np.empty_like(a)\n",
      "    for j in range(len(a)):\n",
      "        c[j] = np.correlate(a[j], b[j], 'same')\n",
      "    return c\n",
      "\n",
      "def correlate2(a, b):\n",
      "    n = a.shape[-1]\n",
      "    a_fft = np.fft.fft(a, n=2*n)\n",
      "    b_fft = np.fft.fft(b, n=2*n)\n",
      "    cc = np.fft.ifft(a_fft * b_fft.conj()).real\n",
      "    return np.concatenate((cc[..., -n//2:], cc[..., :(n-1)//2 + 1]), axis=-1)\n",
      "\n",
      "def peak(ccf,i):\n",
      "    _max, _min = peakdet(ccf[i],.003)\n",
      "    if len(_max) != 0: # check if ccf has values \n",
      "        if len(_max) == 1:\n",
      "            x = _max[0][0]\n",
      "        elif _max[0][0] != 0: # select first peak if peak is not at index[0] \n",
      "            x = _max[0][0]\n",
      "        else:\n",
      "            x = _max[0][0]\n",
      "    else:\n",
      "        x = np.nan \n",
      "    return x"
     ],
     "language": "python",
     "metadata": {},
     "outputs": []
    },
    {
     "cell_type": "code",
     "collapsed": false,
     "input": [
      "def listall(RootFolder, varname=''):\n",
      "    lists = [os.path.join(root, name)    \n",
      "                 for root, dirs, files in os.walk(RootFolder)\n",
      "                   for name in files\n",
      "                   if varname in name\n",
      "                     if name.endswith('.tif')]\n",
      "    return lists"
     ],
     "language": "python",
     "metadata": {},
     "outputs": []
    },
    {
     "cell_type": "code",
     "collapsed": false,
     "input": [
      "_ndvi_files = listall(path, varname=namevarNDVI)\n",
      "_sm_files = listall(path, varname=namevarSM)\n",
      "\n",
      "ndvi0 = _ndvi_files[0]\n",
      "sm0 = _sm_files[0]\n",
      "print (ndvi0, sm0)"
     ],
     "language": "python",
     "metadata": {},
     "outputs": []
    },
    {
     "cell_type": "code",
     "collapsed": false,
     "input": [
      "ndvi_files = []\n",
      "sm_files = []\n",
      "for i in _ndvi_files:\n",
      "    for j in _sm_files:\n",
      "        if i[-11:-4] == j[-11:-4]:\n",
      "            ndvi_files.append(i)\n",
      "            sm_files.append(j)\n",
      "if len(ndvi_files) == len(sm_files):\n",
      "    print ('ok, next')"
     ],
     "language": "python",
     "metadata": {},
     "outputs": []
    },
    {
     "cell_type": "code",
     "collapsed": false,
     "input": [
      "outArray = np.empty([100, 6163])\n",
      "len(outArray)"
     ],
     "language": "python",
     "metadata": {},
     "outputs": []
    },
    {
     "cell_type": "code",
     "collapsed": false,
     "input": [
      "# Get info\n",
      "#rows = 2400\n",
      "raster = gdal.Open(ndvi0, gdal.GA_ReadOnly)\n",
      "XSize = raster.RasterXSize\n",
      "\n",
      "# Set arrays\n",
      "arr_NDVI = np.empty([len(ndvi_files),XSize])\n",
      "arr_SM = np.empty([len(sm_files),XSize])\n",
      "\n",
      "outArray = np.empty([3537, 6163])\n",
      "\n",
      "for row in range(len(outArray)):\n",
      "    print(row)\n",
      "    \n",
      "    for i in range(len(ndvi_files)):\n",
      "        #print (i)\n",
      "        path = ndvi_files[i]\n",
      "        #print (path)\n",
      "        raster = gdal.Open(path, gdal.GA_ReadOnly)\n",
      "        band = raster.GetRasterBand(1)\n",
      "        arr_NDVI[i] = band.ReadAsArray(0,row,XSize,1)\n",
      "        \n",
      "    for i in range(len(sm_files)):\n",
      "        #print (i)\n",
      "        path = sm_files[i]\n",
      "        #print (path)\n",
      "        raster = gdal.Open(path, gdal.GA_ReadOnly)\n",
      "        band = raster.GetRasterBand(1)\n",
      "        arr_SM[i] = band.ReadAsArray(0,row,XSize,1)\n",
      "    \n",
      "    arr_SM2 = arr_SM.T\n",
      "    meanSM = arr_SM2.mean(axis=1)\n",
      "    meanSM = meanSM[:,None]\n",
      "    stdSM = arr_SM2.std(axis=1)\n",
      "    stdSM = stdSM[:,None]\n",
      "    SMmean = arr_SM2 - meanSM\n",
      "    SMnorm = SMmean / stdSM\n",
      "    \n",
      "    arr_NDVI2 = arr_NDVI.T\n",
      "    meanNDVI = arr_NDVI2.mean(axis=1)\n",
      "    meanNDVI = meanNDVI[:,None]\n",
      "    stdNDVI = arr_NDVI2.std(axis=1)\n",
      "    stdNDVI = stdNDVI[:,None]\n",
      "    NDVImean = arr_NDVI2 - meanNDVI\n",
      "    NDVInorm = NDVImean / stdNDVI    \n",
      "    \n",
      "    xcorr = correlate1(SMnorm, NDVInorm)\n",
      "    \n",
      "    c = np.empty_like(xcorr[:,1])\n",
      "    for j in range (len(xcorr)):\n",
      "        #print (j)\n",
      "        c[j] = peak(xcorr,j)\n",
      "    \n",
      "    outArray[row] = c\n",
      "    #print (arrRow, ' finish')    "
     ],
     "language": "python",
     "metadata": {},
     "outputs": []
    },
    {
     "cell_type": "code",
     "collapsed": false,
     "input": [
      "figsize(24,10)\n",
      "plt.imshow(outArray)\n",
      "plt.colorbar()"
     ],
     "language": "python",
     "metadata": {},
     "outputs": []
    },
    {
     "cell_type": "code",
     "collapsed": false,
     "input": [
      "plt.imshow(outArray)\n",
      "plt.colorbar()"
     ],
     "language": "python",
     "metadata": {},
     "outputs": []
    },
    {
     "cell_type": "code",
     "collapsed": false,
     "input": [
      "print  (len(arr_NDVI))\n",
      "#arr_SM_2 = arr_SM[::2]\n",
      "column = 3400\n",
      "plt.plot(arr_SM[:,column])\n",
      "plt.plot(arr_NDVI[:,column])"
     ],
     "language": "python",
     "metadata": {},
     "outputs": []
    },
    {
     "cell_type": "code",
     "collapsed": false,
     "input": [
      "arr_SM2 = arr_SM.T\n",
      "meanSM = arr_SM2.mean(axis=1)\n",
      "meanSM = meanSM[:,None]\n",
      "stdSM = arr_SM2.std(axis=1)\n",
      "stdSM = stdSM[:,None]\n",
      "SMmean = arr_SM2 - meanSM\n",
      "SMnorm = SMmean / stdSM\n",
      "#SMnorm[5079]\n",
      "SMnorm.shape\n",
      "#plt.plot(SMnorm.T)"
     ],
     "language": "python",
     "metadata": {},
     "outputs": []
    },
    {
     "cell_type": "code",
     "collapsed": false,
     "input": [
      "arr_NDVI2 = arr_NDVI.T\n",
      "meanNDVI = arr_NDVI2.mean(axis=1)\n",
      "meanNDVI = meanNDVI[:,None]\n",
      "stdNDVI = arr_NDVI2.std(axis=1)\n",
      "stdNDVI = stdNDVI[:,None]\n",
      "NDVImean = arr_NDVI2 - meanNDVI\n",
      "NDVInorm = NDVImean / stdNDVI\n",
      "#NDVInorm[5079]\n",
      "NDVInorm.shape#len(NDVInorm)#plt.plot(NDVInorm.T)"
     ],
     "language": "python",
     "metadata": {},
     "outputs": []
    },
    {
     "cell_type": "code",
     "collapsed": false,
     "input": [
      "plt.plot(NDVInorm[column])\n",
      "plt.plot(SMnorm[column])         "
     ],
     "language": "python",
     "metadata": {},
     "outputs": []
    },
    {
     "cell_type": "code",
     "collapsed": false,
     "input": [
      "xcorr = np.correlate(SMnorm[column],NDVInorm[column], mode='same')\n",
      "plt.plot(xcorr)"
     ],
     "language": "python",
     "metadata": {},
     "outputs": []
    },
    {
     "cell_type": "code",
     "collapsed": false,
     "input": [
      "xcorr = correlate1(SMnorm, NDVInorm)"
     ],
     "language": "python",
     "metadata": {},
     "outputs": []
    },
    {
     "cell_type": "code",
     "collapsed": false,
     "input": [
      "c = np.empty_like(xcorr[:,1])\n",
      "for j in range (len(xcorr)):\n",
      "    #print (j)\n",
      "    c[j] = peak(xcorr,j)"
     ],
     "language": "python",
     "metadata": {},
     "outputs": []
    },
    {
     "cell_type": "code",
     "collapsed": false,
     "input": [
      "q = c[0:6150].reshape(123,50)\n",
      "\n",
      "plt.imshow(q)\n",
      "plt.colorbar()"
     ],
     "language": "python",
     "metadata": {},
     "outputs": []
    },
    {
     "cell_type": "code",
     "collapsed": false,
     "input": [
      "figsize(24,10)\n",
      "i = 3400\n",
      "v = xcorr\n",
      "\n",
      "def peak(ccf,i):\n",
      "    _max, _min = peakdet(ccf[i],0.003)\n",
      "    if len(_max) != 0: # check if ccf has values \n",
      "        if len(_max) == 1:\n",
      "            x = _max[0][0]\n",
      "        elif _max[0][0] != 0: # select first peak if peak is not at index[0] \n",
      "            x = _max[0][0]\n",
      "        else:\n",
      "            x = _max[4][0]\n",
      "    else:\n",
      "        x = np.nan \n",
      "    return x, _max\n",
      "\n",
      "x, q = peak(v,i)\n",
      "plt.plot(v[i]/40, ':')\n",
      "plt.plot(NDVInorm[i], '-')\n",
      "plt.plot(SMnorm[i], '--')\n",
      "\n",
      "# roll\n",
      "roll = NDVInorm[i]*100000\n",
      "roll = roll.astype(int)\n",
      "x = x.astype(int)\n",
      "shift = np.roll(roll, x)\n",
      "shift = shift.astype(float)\n",
      "shift /= 100000\n",
      "plt.plot(shift, 'm-')\n",
      "\n",
      "scatter(array(q)[:,0], array(q)[:,1]/40, color='red')\n",
      "plt.legend(['ccf','ndvi','sm','ndvi-shift','peaks'])\n",
      "#def jj(_max):    \n",
      "\n",
      "print (x)    "
     ],
     "language": "python",
     "metadata": {},
     "outputs": []
    },
    {
     "cell_type": "code",
     "collapsed": false,
     "input": [
      "nq = q.shape[-1]\n",
      "q_fft = np.fft.fft(q, )#n=2*nq)"
     ],
     "language": "python",
     "metadata": {},
     "outputs": []
    },
    {
     "cell_type": "code",
     "collapsed": false,
     "input": [
      "plt.plot(abs(q_fft.real)**2)"
     ],
     "language": "python",
     "metadata": {},
     "outputs": []
    },
    {
     "cell_type": "code",
     "collapsed": false,
     "input": [
      "shift"
     ],
     "language": "python",
     "metadata": {},
     "outputs": []
    },
    {
     "cell_type": "code",
     "collapsed": false,
     "input": [
      "#plt.plot(v)\n",
      "plt.plot(NDVInorm[i], '--')\n",
      "plt.plot(SMnorm[i])"
     ],
     "language": "python",
     "metadata": {},
     "outputs": []
    },
    {
     "cell_type": "code",
     "collapsed": false,
     "input": [
      "%timeit _max, _min = peakdet(v,.03)"
     ],
     "language": "python",
     "metadata": {},
     "outputs": []
    },
    {
     "cell_type": "code",
     "collapsed": false,
     "input": [
      "def jj(_max):    \n",
      "    if _max[0][0] != 0:\n",
      "        x = _max[0][0]\n",
      "    else:\n",
      "        x = _max[1][0]"
     ],
     "language": "python",
     "metadata": {},
     "outputs": []
    },
    {
     "cell_type": "code",
     "collapsed": false,
     "input": [
      "%timeit jj(_max)"
     ],
     "language": "python",
     "metadata": {},
     "outputs": []
    },
    {
     "cell_type": "code",
     "collapsed": false,
     "input": [
      "series = [0,0,0,2,0,0,0,-2,0,0,0,2,0,0,0,-2,0]\n",
      "maxtab, mintab = peakdet(series,.3)\n",
      "plot(series)\n",
      "scatter(array(maxtab)[:,0], array(maxtab)[:,1], color='blue')\n",
      "scatter(array(mintab)[:,0], array(mintab)[:,1], color='red')"
     ],
     "language": "python",
     "metadata": {},
     "outputs": []
    },
    {
     "cell_type": "code",
     "collapsed": false,
     "input": [
      "'''\n",
      "Make a colorbar as a separate figure.\n",
      "'''\n",
      "\n",
      "from matplotlib import pyplot\n",
      "import matplotlib as mpl\n",
      "\n",
      "# Make a figure and axes with dimensions as desired.\n",
      "fig = pyplot.figure(figsize=(8,3))\n",
      "#ax1 = fig.add_axes([0.05, 0.80, 0.9, 0.15])\n",
      "#ax2 = fig.add_axes([0.05, 0.475, 0.9, 0.15])\n",
      "ax3 = fig.add_axes([0.05, 0.15, 0.9, 0.15])\n",
      "\n",
      "# Set the colormap and norm to correspond to the data for which\n",
      "# the colorbar will be used.\n",
      "cmap = mpl.cm.cool\n",
      "norm = mpl.colors.Normalize(vmin=5, vmax=10)\n",
      "\n",
      "# The third example illustrates the use of custom length colorbar\n",
      "# extensions, used on a colorbar with discrete intervals.\n",
      "cmap = mpl.colors.ListedColormap([[0.77, 0, 1.], # light purple\n",
      "                                  [0., 0.66, 0.9], # dark blue\n",
      "                                  [0, 1., 0.77], # light blue\n",
      "                                  [0.64, 1, 0.45], # green\n",
      "                                  [0.82, 1, 0.75], # light green\n",
      "                                  [1, 1, 1], # null\n",
      "                                  [1, 1, 0.75], # light yellow\n",
      "                                  [0.9, 0.9, 0.], # yellow\n",
      "                                  [1, 0.67, 0], # orange\n",
      "                                  [0.9, 0., 0.], # red\n",
      "                                  [1, 0.45, 0.87]]) # pink\n",
      "\n",
      "cmap.set_over((0.6, 0, 0)) # brown\n",
      "cmap.set_under((0.45, 0, 0.66)) # dark purple\n",
      "\n",
      "bounds = [-3., -2.5, -2., -1.5, -1., -.5, .5, 1., 1.5, 2, 2.5, 3]\n",
      "norm = mpl.colors.BoundaryNorm(bounds, cmap.N)\n",
      "cb3 = mpl.colorbar.ColorbarBase(ax3, cmap=cmap,\n",
      "                                     norm=norm,\n",
      "                                     boundaries=[-10]+bounds+[10],\n",
      "                                     extend='both',\n",
      "                                     # Make the length of each extension\n",
      "                                     # the same as the length of the\n",
      "                                     # interior colors:\n",
      "                                     extendfrac='auto',\n",
      "                                     ticks=bounds,\n",
      "                                     #spacing='uniform',\n",
      "                                     orientation='horizontal')\n",
      "cb3.set_label('Custom extension lengths, some other units')\n",
      "\n",
      "pyplot.show()"
     ],
     "language": "python",
     "metadata": {},
     "outputs": [
      {
       "metadata": {},
       "output_type": "display_data",
       "png": "[encoded data removed]",
       "text": [
        "<matplotlib.figure.Figure at 0x82bb6d8>"
       ]
      }
     ],
     "prompt_number": 64
    },
    {
     "cell_type": "code",
     "collapsed": false,
     "input": [
      "[-10]+bounds+[10]"
     ],
     "language": "python",
     "metadata": {},
     "outputs": [
      {
       "metadata": {},
       "output_type": "pyout",
       "prompt_number": 63,
       "text": [
        "[-10, -3.0, -2.5, -2.0, -1.5, -1.0, -0.5, 0.5, 1.0, 1.5, 2, 2.5, 3, 10]"
       ]
      }
     ],
     "prompt_number": 63
    },
    {
     "cell_type": "code",
     "collapsed": false,
     "input": [],
     "language": "python",
     "metadata": {},
     "outputs": []
    }
   ],
   "metadata": {}
  }
 ]
}