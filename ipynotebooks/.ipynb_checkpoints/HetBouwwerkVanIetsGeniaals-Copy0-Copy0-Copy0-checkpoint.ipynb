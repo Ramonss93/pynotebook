{
 "metadata": {
  "name": ""
 },
 "nbformat": 3,
 "nbformat_minor": 0,
 "worksheets": [
  {
   "cells": [
    {
     "cell_type": "code",
     "collapsed": false,
     "input": [
      "%connect_info"
     ],
     "language": "python",
     "metadata": {},
     "outputs": []
    },
    {
     "cell_type": "code",
     "collapsed": false,
     "input": [
      "path = r'E:\\Data\\DataTimeSeries'\n",
      "\n",
      "namevarNDVI = 'NDVI'\n",
      "namevarSM = 'SM'"
     ],
     "language": "python",
     "metadata": {},
     "outputs": [],
     "prompt_number": 1
    },
    {
     "cell_type": "code",
     "collapsed": false,
     "input": [
      "from numpy import NaN, Inf, arange, isscalar, array\n",
      "from osgeo import gdal\n",
      "import datetime\n",
      "import numpy as np\n",
      "import os\n",
      "from matplotlib import pyplot as plt\n",
      "from mattijn import dikkelul"
     ],
     "language": "python",
     "metadata": {},
     "outputs": [],
     "prompt_number": 2
    },
    {
     "cell_type": "code",
     "collapsed": false,
     "input": [
      "def peakdet(v, delta, x = None):\n",
      "    \"\"\"\n",
      "    Converted from MATLAB script at http://billauer.co.il/peakdet.html\n",
      "    \n",
      "    Returns two arrays\n",
      "    \n",
      "    function [maxtab, mintab]=peakdet(v, delta, x)\n",
      "    %PEAKDET Detect peaks in a vector\n",
      "    %        [MAXTAB, MINTAB] = PEAKDET(V, DELTA) finds the local\n",
      "    %        maxima and minima (\"peaks\") in the vector V.\n",
      "    %        MAXTAB and MINTAB consists of two columns. Column 1\n",
      "    %        contains indices in V, and column 2 the found values.\n",
      "    %      \n",
      "    %        With [MAXTAB, MINTAB] = PEAKDET(V, DELTA, X) the indices\n",
      "    %        in MAXTAB and MINTAB are replaced with the corresponding\n",
      "    %        X-values.\n",
      "    %\n",
      "    %        A point is considered a maximum peak if it has the maximal\n",
      "    %        value, and was preceded (to the left) by a value lower by\n",
      "    %        DELTA.\n",
      "    \n",
      "    % Eli Billauer, 3.4.05 (Explicitly not copyrighted).\n",
      "    % This function is released to the public domain; Any use is allowed.\n",
      "    \n",
      "    \"\"\"\n",
      "    maxtab = []\n",
      "    mintab = []\n",
      "       \n",
      "    if x is None:\n",
      "        x = arange(len(v))\n",
      "    \n",
      "    v = asarray(v)\n",
      "    \n",
      "    if len(v) != len(x):\n",
      "        sys.exit('Input vectors v and x must have same length')\n",
      "    \n",
      "    if not isscalar(delta):\n",
      "        sys.exit('Input argument delta must be a scalar')\n",
      "    \n",
      "    if delta <= 0:\n",
      "        sys.exit('Input argument delta must be positive')\n",
      "    \n",
      "    mn, mx = Inf, -Inf\n",
      "    mnpos, mxpos = NaN, NaN\n",
      "    \n",
      "    lookformax = True\n",
      "    \n",
      "    for i in arange(len(v)):\n",
      "        this = v[i]\n",
      "        if this > mx:\n",
      "            mx = this\n",
      "            mxpos = x[i]\n",
      "        if this < mn:\n",
      "            mn = this\n",
      "            mnpos = x[i]\n",
      "        \n",
      "        if lookformax:\n",
      "            if this < mx-delta:\n",
      "                maxtab.append((mxpos, mx))\n",
      "                mn = this\n",
      "                mnpos = x[i]\n",
      "                lookformax = False\n",
      "        else:\n",
      "            if this > mn+delta:\n",
      "                mintab.append((mnpos, mn))\n",
      "                mx = this\n",
      "                mxpos = x[i]\n",
      "                lookformax = True\n",
      " \n",
      "    return array(maxtab), array(mintab)"
     ],
     "language": "python",
     "metadata": {},
     "outputs": [],
     "prompt_number": 3
    },
    {
     "cell_type": "code",
     "collapsed": false,
     "input": [
      "def correlate1(a, b):\n",
      "    c = np.empty_like(a)\n",
      "    for j in range(len(a)):\n",
      "        c[j] = np.correlate(a[j], b[j], 'same')\n",
      "    return c\n",
      "\n",
      "def correlate2(a, b):\n",
      "    n = a.shape[-1]\n",
      "    a_fft = np.fft.fft(a, n=2*n)\n",
      "    b_fft = np.fft.fft(b, n=2*n)\n",
      "    cc = np.fft.ifft(a_fft * b_fft.conj()).real\n",
      "    return np.concatenate((cc[..., -n//2:], cc[..., :(n-1)//2 + 1]), axis=-1)\n",
      "\n",
      "def peak(ccf,i):\n",
      "    _max, _min = peakdet(ccf[i],.003)\n",
      "    if len(_max) != 0: # check if ccf has values \n",
      "        if len(_max) == 1:\n",
      "            x = _max[0][0]\n",
      "        elif _max[0][0] != 0: # select first peak if peak is not at index[0] \n",
      "            x = _max[0][0]\n",
      "        else:\n",
      "            x = _max[0][0]\n",
      "    else:\n",
      "        x = np.nan \n",
      "    return x"
     ],
     "language": "python",
     "metadata": {},
     "outputs": [],
     "prompt_number": 4
    },
    {
     "cell_type": "code",
     "collapsed": false,
     "input": [
      "def listall(RootFolder, varname=''):\n",
      "    lists = [os.path.join(root, name)    \n",
      "                 for root, dirs, files in os.walk(RootFolder)\n",
      "                   for name in files\n",
      "                   if varname in name\n",
      "                     if name.endswith('.tif')]\n",
      "    return lists"
     ],
     "language": "python",
     "metadata": {},
     "outputs": [],
     "prompt_number": 5
    },
    {
     "cell_type": "code",
     "collapsed": false,
     "input": [
      "_ndvi_files = listall(path, varname=namevarNDVI)\n",
      "_sm_files = listall(path, varname=namevarSM)\n",
      "\n",
      "ndvi0 = _ndvi_files[0]\n",
      "sm0 = _sm_files[0]\n",
      "print (ndvi0, sm0)"
     ],
     "language": "python",
     "metadata": {},
     "outputs": [
      {
       "output_type": "stream",
       "stream": "stdout",
       "text": [
        "E:\\Data\\DataTimeSeries\\2001\\NDVI\\NDVI_2001001.tif E:\\Data\\DataTimeSeries\\2002\\SM\\SM_2002169.tif\n"
       ]
      }
     ],
     "prompt_number": 6
    },
    {
     "cell_type": "code",
     "collapsed": false,
     "input": [
      "_ndvi_files[45:46]"
     ],
     "language": "python",
     "metadata": {},
     "outputs": []
    },
    {
     "cell_type": "code",
     "collapsed": false,
     "input": [
      "check_ds = gdal.Open(_ndvi_files[0], gdal.GA_ReadOnly)\n",
      "check_array = check_ds.ReadAsArray().astype(float)"
     ],
     "language": "python",
     "metadata": {},
     "outputs": [
      {
       "metadata": {},
       "output_type": "pyout",
       "prompt_number": 62,
       "text": [
        "array([[ 0.,  0.,  0., ...,  0.,  0.,  0.],\n",
        "       [ 0.,  0.,  0., ...,  0.,  0.,  0.],\n",
        "       [ 0.,  0.,  0., ...,  0.,  0.,  0.],\n",
        "       ..., \n",
        "       [ 0.,  0.,  0., ...,  0.,  0.,  0.],\n",
        "       [ 0.,  0.,  0., ...,  0.,  0.,  0.],\n",
        "       [ 0.,  0.,  0., ...,  0.,  0.,  0.]])"
       ]
      }
     ],
     "prompt_number": 62
    },
    {
     "cell_type": "code",
     "collapsed": false,
     "input": [
      "for i in _ndvi_files[0:46]:\n",
      "    all_days =[]    \n",
      "\n",
      "    for j in _ndvi_files:        \n",
      "        if int(i[-7:-4]) == int(j[-7:-4]):\n",
      "            all_days.append(j)\n",
      "    ln = len(all_days)\n",
      "    \n",
      "    barray = np.empty_like(check_array)\n",
      "    #print (barray.max())\n",
      "    \n",
      "    for k in all_days:\n",
      "        ds = gdal.Open(k, gdal.GA_ReadOnly)\n",
      "        array = ds.ReadAsArray().astype(float)\n",
      "        array = np.clip(array, -10000.0, 10000.0)\n",
      "        barray = barray + array\n",
      "    \n",
      "    barray /= ln\n",
      "    barray /= 10000\n",
      "\n",
      "    outPath = r'D:\\Data\\NDVIanomaly//NDVI_'+str(i[-7:-4])+'.tif'\n",
      "    print (outPath)\n",
      "    dikkelul.saveRaster(outPath, barray, ds, 6)\n",
      "    ds = None\n",
      "    array = None\n",
      "    barray = None"
     ],
     "language": "python",
     "metadata": {},
     "outputs": [
      {
       "output_type": "stream",
       "stream": "stdout",
       "text": [
        "D:\\Data\\NDVIanomaly//NDVI_001.tif\n",
        "D:\\Data\\NDVIanomaly//NDVI_009.tif"
       ]
      },
      {
       "output_type": "stream",
       "stream": "stdout",
       "text": [
        "\n",
        "D:\\Data\\NDVIanomaly//NDVI_017.tif"
       ]
      },
      {
       "output_type": "stream",
       "stream": "stdout",
       "text": [
        "\n",
        "D:\\Data\\NDVIanomaly//NDVI_025.tif"
       ]
      },
      {
       "output_type": "stream",
       "stream": "stdout",
       "text": [
        "\n",
        "D:\\Data\\NDVIanomaly//NDVI_033.tif"
       ]
      },
      {
       "output_type": "stream",
       "stream": "stdout",
       "text": [
        "\n",
        "D:\\Data\\NDVIanomaly//NDVI_041.tif"
       ]
      },
      {
       "output_type": "stream",
       "stream": "stdout",
       "text": [
        "\n",
        "D:\\Data\\NDVIanomaly//NDVI_049.tif"
       ]
      },
      {
       "output_type": "stream",
       "stream": "stdout",
       "text": [
        "\n",
        "D:\\Data\\NDVIanomaly//NDVI_057.tif"
       ]
      },
      {
       "output_type": "stream",
       "stream": "stdout",
       "text": [
        "\n",
        "D:\\Data\\NDVIanomaly//NDVI_065.tif"
       ]
      },
      {
       "output_type": "stream",
       "stream": "stdout",
       "text": [
        "\n",
        "D:\\Data\\NDVIanomaly//NDVI_073.tif"
       ]
      },
      {
       "output_type": "stream",
       "stream": "stdout",
       "text": [
        "\n",
        "D:\\Data\\NDVIanomaly//NDVI_081.tif"
       ]
      },
      {
       "output_type": "stream",
       "stream": "stdout",
       "text": [
        "\n",
        "D:\\Data\\NDVIanomaly//NDVI_089.tif"
       ]
      },
      {
       "output_type": "stream",
       "stream": "stdout",
       "text": [
        "\n",
        "D:\\Data\\NDVIanomaly//NDVI_097.tif"
       ]
      },
      {
       "output_type": "stream",
       "stream": "stdout",
       "text": [
        "\n",
        "D:\\Data\\NDVIanomaly//NDVI_105.tif"
       ]
      },
      {
       "output_type": "stream",
       "stream": "stdout",
       "text": [
        "\n",
        "D:\\Data\\NDVIanomaly//NDVI_113.tif"
       ]
      },
      {
       "output_type": "stream",
       "stream": "stdout",
       "text": [
        "\n",
        "D:\\Data\\NDVIanomaly//NDVI_121.tif"
       ]
      },
      {
       "output_type": "stream",
       "stream": "stdout",
       "text": [
        "\n",
        "D:\\Data\\NDVIanomaly//NDVI_129.tif"
       ]
      },
      {
       "output_type": "stream",
       "stream": "stdout",
       "text": [
        "\n",
        "D:\\Data\\NDVIanomaly//NDVI_137.tif"
       ]
      },
      {
       "output_type": "stream",
       "stream": "stdout",
       "text": [
        "\n",
        "D:\\Data\\NDVIanomaly//NDVI_145.tif"
       ]
      },
      {
       "output_type": "stream",
       "stream": "stdout",
       "text": [
        "\n",
        "D:\\Data\\NDVIanomaly//NDVI_153.tif"
       ]
      },
      {
       "output_type": "stream",
       "stream": "stdout",
       "text": [
        "\n",
        "D:\\Data\\NDVIanomaly//NDVI_161.tif"
       ]
      },
      {
       "output_type": "stream",
       "stream": "stdout",
       "text": [
        "\n",
        "D:\\Data\\NDVIanomaly//NDVI_169.tif"
       ]
      },
      {
       "output_type": "stream",
       "stream": "stdout",
       "text": [
        "\n",
        "D:\\Data\\NDVIanomaly//NDVI_177.tif"
       ]
      },
      {
       "output_type": "stream",
       "stream": "stdout",
       "text": [
        "\n",
        "D:\\Data\\NDVIanomaly//NDVI_185.tif"
       ]
      },
      {
       "output_type": "stream",
       "stream": "stdout",
       "text": [
        "\n",
        "D:\\Data\\NDVIanomaly//NDVI_193.tif"
       ]
      },
      {
       "output_type": "stream",
       "stream": "stdout",
       "text": [
        "\n",
        "D:\\Data\\NDVIanomaly//NDVI_201.tif"
       ]
      },
      {
       "output_type": "stream",
       "stream": "stdout",
       "text": [
        "\n",
        "D:\\Data\\NDVIanomaly//NDVI_209.tif"
       ]
      },
      {
       "output_type": "stream",
       "stream": "stdout",
       "text": [
        "\n",
        "D:\\Data\\NDVIanomaly//NDVI_217.tif"
       ]
      },
      {
       "output_type": "stream",
       "stream": "stdout",
       "text": [
        "\n",
        "D:\\Data\\NDVIanomaly//NDVI_225.tif"
       ]
      },
      {
       "output_type": "stream",
       "stream": "stdout",
       "text": [
        "\n",
        "D:\\Data\\NDVIanomaly//NDVI_233.tif"
       ]
      },
      {
       "output_type": "stream",
       "stream": "stdout",
       "text": [
        "\n",
        "D:\\Data\\NDVIanomaly//NDVI_241.tif"
       ]
      },
      {
       "output_type": "stream",
       "stream": "stdout",
       "text": [
        "\n",
        "D:\\Data\\NDVIanomaly//NDVI_249.tif"
       ]
      },
      {
       "output_type": "stream",
       "stream": "stdout",
       "text": [
        "\n",
        "D:\\Data\\NDVIanomaly//NDVI_257.tif"
       ]
      },
      {
       "output_type": "stream",
       "stream": "stdout",
       "text": [
        "\n",
        "D:\\Data\\NDVIanomaly//NDVI_265.tif"
       ]
      },
      {
       "output_type": "stream",
       "stream": "stdout",
       "text": [
        "\n",
        "D:\\Data\\NDVIanomaly//NDVI_273.tif"
       ]
      },
      {
       "output_type": "stream",
       "stream": "stdout",
       "text": [
        "\n",
        "D:\\Data\\NDVIanomaly//NDVI_281.tif"
       ]
      },
      {
       "output_type": "stream",
       "stream": "stdout",
       "text": [
        "\n",
        "D:\\Data\\NDVIanomaly//NDVI_289.tif"
       ]
      },
      {
       "output_type": "stream",
       "stream": "stdout",
       "text": [
        "\n",
        "D:\\Data\\NDVIanomaly//NDVI_297.tif"
       ]
      },
      {
       "output_type": "stream",
       "stream": "stdout",
       "text": [
        "\n",
        "D:\\Data\\NDVIanomaly//NDVI_305.tif"
       ]
      },
      {
       "output_type": "stream",
       "stream": "stdout",
       "text": [
        "\n",
        "D:\\Data\\NDVIanomaly//NDVI_313.tif"
       ]
      },
      {
       "output_type": "stream",
       "stream": "stdout",
       "text": [
        "\n",
        "D:\\Data\\NDVIanomaly//NDVI_321.tif"
       ]
      },
      {
       "output_type": "stream",
       "stream": "stdout",
       "text": [
        "\n",
        "D:\\Data\\NDVIanomaly//NDVI_329.tif"
       ]
      },
      {
       "output_type": "stream",
       "stream": "stdout",
       "text": [
        "\n",
        "D:\\Data\\NDVIanomaly//NDVI_337.tif"
       ]
      },
      {
       "output_type": "stream",
       "stream": "stdout",
       "text": [
        "\n",
        "D:\\Data\\NDVIanomaly//NDVI_345.tif"
       ]
      },
      {
       "output_type": "stream",
       "stream": "stdout",
       "text": [
        "\n",
        "D:\\Data\\NDVIanomaly//NDVI_353.tif"
       ]
      },
      {
       "output_type": "stream",
       "stream": "stdout",
       "text": [
        "\n",
        "D:\\Data\\NDVIanomaly//NDVI_361.tif"
       ]
      },
      {
       "output_type": "stream",
       "stream": "stdout",
       "text": [
        "\n"
       ]
      }
     ],
     "prompt_number": 76
    },
    {
     "cell_type": "code",
     "collapsed": false,
     "input": [
      "path_ano = r'D:\\Data\\NDVIanomaly'\n",
      "ndvi_ano = listall(path_ano, varname='')\n",
      "#ndvi_ano"
     ],
     "language": "python",
     "metadata": {},
     "outputs": [],
     "prompt_number": 7
    },
    {
     "cell_type": "code",
     "collapsed": false,
     "input": [
      "for i in _ndvi_files:\n",
      "    \n",
      "    ds = gdal.Open(k, gdal.GA_ReadOnly)\n",
      "    array = ds.ReadAsArray().astype(float)\n",
      "    array = np.clip(array, -10000.0, 10000.0)\n",
      "    array /= 10000.0\n",
      "    \n",
      "    for j in ndvi_ano:        \n",
      "        \n",
      "        if int(i[-7:-4]) == int(j[-7:-4]):\n",
      "            ds_trend = gdal.Open(j, gdal.GA_ReadOnly)\n",
      "            array_trend = ds_trend.ReadAsArray().astype(float)\n",
      "            \n",
      "            out = array - array_trend # relative anomaly\n",
      "    \n",
      "            outPath = r'D:\\Data\\NDVIanomalytimeseries//abs_'+i[-16::]\n",
      "            print (outPath)\n",
      "            dikkelul.saveRaster(path=outPath, array=out, dsSource=ds_trend, datatype=6, formatraster='GTiff')\n",
      "            \n",
      "            ds_trend = None\n",
      "    ds = None"
     ],
     "language": "python",
     "metadata": {},
     "outputs": [
      {
       "output_type": "stream",
       "stream": "stdout",
       "text": [
        "D:\\Data\\NDVIanomalytimeseries//abs_NDVI_2001001.tif\n",
        "D:\\Data\\NDVIanomalytimeseries//abs_NDVI_2001009.tif"
       ]
      },
      {
       "output_type": "stream",
       "stream": "stdout",
       "text": [
        "\n",
        "D:\\Data\\NDVIanomalytimeseries//abs_NDVI_2001017.tif"
       ]
      },
      {
       "output_type": "stream",
       "stream": "stdout",
       "text": [
        "\n",
        "D:\\Data\\NDVIanomalytimeseries//abs_NDVI_2001025.tif"
       ]
      },
      {
       "output_type": "stream",
       "stream": "stdout",
       "text": [
        "\n",
        "D:\\Data\\NDVIanomalytimeseries//abs_NDVI_2001033.tif"
       ]
      },
      {
       "output_type": "stream",
       "stream": "stdout",
       "text": [
        "\n",
        "D:\\Data\\NDVIanomalytimeseries//abs_NDVI_2001041.tif"
       ]
      },
      {
       "output_type": "stream",
       "stream": "stdout",
       "text": [
        "\n",
        "D:\\Data\\NDVIanomalytimeseries//abs_NDVI_2001049.tif"
       ]
      },
      {
       "output_type": "stream",
       "stream": "stdout",
       "text": [
        "\n",
        "D:\\Data\\NDVIanomalytimeseries//abs_NDVI_2001057.tif"
       ]
      },
      {
       "output_type": "stream",
       "stream": "stdout",
       "text": [
        "\n",
        "D:\\Data\\NDVIanomalytimeseries//abs_NDVI_2001065.tif"
       ]
      },
      {
       "output_type": "stream",
       "stream": "stdout",
       "text": [
        "\n",
        "D:\\Data\\NDVIanomalytimeseries//abs_NDVI_2001073.tif"
       ]
      },
      {
       "output_type": "stream",
       "stream": "stdout",
       "text": [
        "\n",
        "D:\\Data\\NDVIanomalytimeseries//abs_NDVI_2001081.tif"
       ]
      },
      {
       "output_type": "stream",
       "stream": "stdout",
       "text": [
        "\n",
        "D:\\Data\\NDVIanomalytimeseries//abs_NDVI_2001089.tif"
       ]
      },
      {
       "output_type": "stream",
       "stream": "stdout",
       "text": [
        "\n",
        "D:\\Data\\NDVIanomalytimeseries//abs_NDVI_2001097.tif"
       ]
      },
      {
       "output_type": "stream",
       "stream": "stdout",
       "text": [
        "\n",
        "D:\\Data\\NDVIanomalytimeseries//abs_NDVI_2001105.tif"
       ]
      },
      {
       "output_type": "stream",
       "stream": "stdout",
       "text": [
        "\n",
        "D:\\Data\\NDVIanomalytimeseries//abs_NDVI_2001113.tif"
       ]
      },
      {
       "output_type": "stream",
       "stream": "stdout",
       "text": [
        "\n",
        "D:\\Data\\NDVIanomalytimeseries//abs_NDVI_2001121.tif"
       ]
      },
      {
       "output_type": "stream",
       "stream": "stdout",
       "text": [
        "\n",
        "D:\\Data\\NDVIanomalytimeseries//abs_NDVI_2001129.tif"
       ]
      },
      {
       "output_type": "stream",
       "stream": "stdout",
       "text": [
        "\n",
        "D:\\Data\\NDVIanomalytimeseries//abs_NDVI_2001137.tif"
       ]
      },
      {
       "output_type": "stream",
       "stream": "stdout",
       "text": [
        "\n",
        "D:\\Data\\NDVIanomalytimeseries//abs_NDVI_2001145.tif"
       ]
      },
      {
       "output_type": "stream",
       "stream": "stdout",
       "text": [
        "\n",
        "D:\\Data\\NDVIanomalytimeseries//abs_NDVI_2001153.tif"
       ]
      },
      {
       "output_type": "stream",
       "stream": "stdout",
       "text": [
        "\n",
        "D:\\Data\\NDVIanomalytimeseries//abs_NDVI_2001161.tif"
       ]
      },
      {
       "output_type": "stream",
       "stream": "stdout",
       "text": [
        "\n",
        "D:\\Data\\NDVIanomalytimeseries//abs_NDVI_2001169.tif"
       ]
      },
      {
       "output_type": "stream",
       "stream": "stdout",
       "text": [
        "\n",
        "D:\\Data\\NDVIanomalytimeseries//abs_NDVI_2001177.tif"
       ]
      },
      {
       "output_type": "stream",
       "stream": "stdout",
       "text": [
        "\n",
        "D:\\Data\\NDVIanomalytimeseries//abs_NDVI_2001185.tif"
       ]
      },
      {
       "output_type": "stream",
       "stream": "stdout",
       "text": [
        "\n",
        "D:\\Data\\NDVIanomalytimeseries//abs_NDVI_2001193.tif"
       ]
      },
      {
       "output_type": "stream",
       "stream": "stdout",
       "text": [
        "\n",
        "D:\\Data\\NDVIanomalytimeseries//abs_NDVI_2001201.tif"
       ]
      },
      {
       "output_type": "stream",
       "stream": "stdout",
       "text": [
        "\n",
        "D:\\Data\\NDVIanomalytimeseries//abs_NDVI_2001209.tif"
       ]
      },
      {
       "output_type": "stream",
       "stream": "stdout",
       "text": [
        "\n",
        "D:\\Data\\NDVIanomalytimeseries//abs_NDVI_2001217.tif"
       ]
      },
      {
       "output_type": "stream",
       "stream": "stdout",
       "text": [
        "\n",
        "D:\\Data\\NDVIanomalytimeseries//abs_NDVI_2001225.tif"
       ]
      },
      {
       "output_type": "stream",
       "stream": "stdout",
       "text": [
        "\n",
        "D:\\Data\\NDVIanomalytimeseries//abs_NDVI_2001233.tif"
       ]
      },
      {
       "output_type": "stream",
       "stream": "stdout",
       "text": [
        "\n",
        "D:\\Data\\NDVIanomalytimeseries//abs_NDVI_2001241.tif"
       ]
      },
      {
       "output_type": "stream",
       "stream": "stdout",
       "text": [
        "\n",
        "D:\\Data\\NDVIanomalytimeseries//abs_NDVI_2001249.tif"
       ]
      },
      {
       "output_type": "stream",
       "stream": "stdout",
       "text": [
        "\n",
        "D:\\Data\\NDVIanomalytimeseries//abs_NDVI_2001257.tif"
       ]
      },
      {
       "output_type": "stream",
       "stream": "stdout",
       "text": [
        "\n",
        "D:\\Data\\NDVIanomalytimeseries//abs_NDVI_2001265.tif"
       ]
      },
      {
       "output_type": "stream",
       "stream": "stdout",
       "text": [
        "\n",
        "D:\\Data\\NDVIanomalytimeseries//abs_NDVI_2001273.tif"
       ]
      },
      {
       "output_type": "stream",
       "stream": "stdout",
       "text": [
        "\n",
        "D:\\Data\\NDVIanomalytimeseries//abs_NDVI_2001281.tif"
       ]
      },
      {
       "output_type": "stream",
       "stream": "stdout",
       "text": [
        "\n",
        "D:\\Data\\NDVIanomalytimeseries//abs_NDVI_2001289.tif"
       ]
      },
      {
       "output_type": "stream",
       "stream": "stdout",
       "text": [
        "\n",
        "D:\\Data\\NDVIanomalytimeseries//abs_NDVI_2001297.tif"
       ]
      },
      {
       "output_type": "stream",
       "stream": "stdout",
       "text": [
        "\n",
        "D:\\Data\\NDVIanomalytimeseries//abs_NDVI_2001305.tif"
       ]
      },
      {
       "output_type": "stream",
       "stream": "stdout",
       "text": [
        "\n",
        "D:\\Data\\NDVIanomalytimeseries//abs_NDVI_2001313.tif"
       ]
      },
      {
       "output_type": "stream",
       "stream": "stdout",
       "text": [
        "\n",
        "D:\\Data\\NDVIanomalytimeseries//abs_NDVI_2001321.tif"
       ]
      },
      {
       "output_type": "stream",
       "stream": "stdout",
       "text": [
        "\n",
        "D:\\Data\\NDVIanomalytimeseries//abs_NDVI_2001329.tif"
       ]
      },
      {
       "output_type": "stream",
       "stream": "stdout",
       "text": [
        "\n",
        "D:\\Data\\NDVIanomalytimeseries//abs_NDVI_2001337.tif"
       ]
      },
      {
       "output_type": "stream",
       "stream": "stdout",
       "text": [
        "\n",
        "D:\\Data\\NDVIanomalytimeseries//abs_NDVI_2001345.tif"
       ]
      },
      {
       "output_type": "stream",
       "stream": "stdout",
       "text": [
        "\n",
        "D:\\Data\\NDVIanomalytimeseries//abs_NDVI_2001353.tif"
       ]
      },
      {
       "output_type": "stream",
       "stream": "stdout",
       "text": [
        "\n",
        "D:\\Data\\NDVIanomalytimeseries//abs_NDVI_2001361.tif"
       ]
      },
      {
       "output_type": "stream",
       "stream": "stdout",
       "text": [
        "\n",
        "D:\\Data\\NDVIanomalytimeseries//abs_NDVI_2002001.tif"
       ]
      },
      {
       "output_type": "stream",
       "stream": "stdout",
       "text": [
        "\n",
        "D:\\Data\\NDVIanomalytimeseries//abs_NDVI_2002009.tif"
       ]
      },
      {
       "output_type": "stream",
       "stream": "stdout",
       "text": [
        "\n",
        "D:\\Data\\NDVIanomalytimeseries//abs_NDVI_2002017.tif"
       ]
      },
      {
       "output_type": "stream",
       "stream": "stdout",
       "text": [
        "\n",
        "D:\\Data\\NDVIanomalytimeseries//abs_NDVI_2002025.tif"
       ]
      },
      {
       "output_type": "stream",
       "stream": "stdout",
       "text": [
        "\n",
        "D:\\Data\\NDVIanomalytimeseries//abs_NDVI_2002033.tif"
       ]
      },
      {
       "output_type": "stream",
       "stream": "stdout",
       "text": [
        "\n",
        "D:\\Data\\NDVIanomalytimeseries//abs_NDVI_2002041.tif"
       ]
      },
      {
       "output_type": "stream",
       "stream": "stdout",
       "text": [
        "\n",
        "D:\\Data\\NDVIanomalytimeseries//abs_NDVI_2002049.tif"
       ]
      },
      {
       "output_type": "stream",
       "stream": "stdout",
       "text": [
        "\n",
        "D:\\Data\\NDVIanomalytimeseries//abs_NDVI_2002057.tif"
       ]
      },
      {
       "output_type": "stream",
       "stream": "stdout",
       "text": [
        "\n",
        "D:\\Data\\NDVIanomalytimeseries//abs_NDVI_2002065.tif"
       ]
      },
      {
       "output_type": "stream",
       "stream": "stdout",
       "text": [
        "\n",
        "D:\\Data\\NDVIanomalytimeseries//abs_NDVI_2002073.tif"
       ]
      },
      {
       "output_type": "stream",
       "stream": "stdout",
       "text": [
        "\n",
        "D:\\Data\\NDVIanomalytimeseries//abs_NDVI_2002081.tif"
       ]
      },
      {
       "output_type": "stream",
       "stream": "stdout",
       "text": [
        "\n",
        "D:\\Data\\NDVIanomalytimeseries//abs_NDVI_2002089.tif"
       ]
      },
      {
       "output_type": "stream",
       "stream": "stdout",
       "text": [
        "\n",
        "D:\\Data\\NDVIanomalytimeseries//abs_NDVI_2002097.tif"
       ]
      },
      {
       "output_type": "stream",
       "stream": "stdout",
       "text": [
        "\n",
        "D:\\Data\\NDVIanomalytimeseries//abs_NDVI_2002105.tif"
       ]
      },
      {
       "output_type": "stream",
       "stream": "stdout",
       "text": [
        "\n",
        "D:\\Data\\NDVIanomalytimeseries//abs_NDVI_2002113.tif"
       ]
      },
      {
       "output_type": "stream",
       "stream": "stdout",
       "text": [
        "\n",
        "D:\\Data\\NDVIanomalytimeseries//abs_NDVI_2002121.tif"
       ]
      },
      {
       "output_type": "stream",
       "stream": "stdout",
       "text": [
        "\n",
        "D:\\Data\\NDVIanomalytimeseries//abs_NDVI_2002129.tif"
       ]
      },
      {
       "output_type": "stream",
       "stream": "stdout",
       "text": [
        "\n",
        "D:\\Data\\NDVIanomalytimeseries//abs_NDVI_2002137.tif"
       ]
      },
      {
       "output_type": "stream",
       "stream": "stdout",
       "text": [
        "\n",
        "D:\\Data\\NDVIanomalytimeseries//abs_NDVI_2002145.tif"
       ]
      },
      {
       "output_type": "stream",
       "stream": "stdout",
       "text": [
        "\n",
        "D:\\Data\\NDVIanomalytimeseries//abs_NDVI_2002153.tif"
       ]
      },
      {
       "output_type": "stream",
       "stream": "stdout",
       "text": [
        "\n",
        "D:\\Data\\NDVIanomalytimeseries//abs_NDVI_2002161.tif"
       ]
      },
      {
       "output_type": "stream",
       "stream": "stdout",
       "text": [
        "\n",
        "D:\\Data\\NDVIanomalytimeseries//abs_NDVI_2002169.tif"
       ]
      },
      {
       "output_type": "stream",
       "stream": "stdout",
       "text": [
        "\n",
        "D:\\Data\\NDVIanomalytimeseries//abs_NDVI_2002177.tif"
       ]
      },
      {
       "output_type": "stream",
       "stream": "stdout",
       "text": [
        "\n",
        "D:\\Data\\NDVIanomalytimeseries//abs_NDVI_2002185.tif"
       ]
      },
      {
       "output_type": "stream",
       "stream": "stdout",
       "text": [
        "\n",
        "D:\\Data\\NDVIanomalytimeseries//abs_NDVI_2002193.tif"
       ]
      },
      {
       "output_type": "stream",
       "stream": "stdout",
       "text": [
        "\n",
        "D:\\Data\\NDVIanomalytimeseries//abs_NDVI_2002201.tif"
       ]
      },
      {
       "output_type": "stream",
       "stream": "stdout",
       "text": [
        "\n",
        "D:\\Data\\NDVIanomalytimeseries//abs_NDVI_2002209.tif"
       ]
      },
      {
       "output_type": "stream",
       "stream": "stdout",
       "text": [
        "\n",
        "D:\\Data\\NDVIanomalytimeseries//abs_NDVI_2002217.tif"
       ]
      },
      {
       "output_type": "stream",
       "stream": "stdout",
       "text": [
        "\n",
        "D:\\Data\\NDVIanomalytimeseries//abs_NDVI_2002225.tif"
       ]
      },
      {
       "output_type": "stream",
       "stream": "stdout",
       "text": [
        "\n",
        "D:\\Data\\NDVIanomalytimeseries//abs_NDVI_2002233.tif"
       ]
      },
      {
       "output_type": "stream",
       "stream": "stdout",
       "text": [
        "\n",
        "D:\\Data\\NDVIanomalytimeseries//abs_NDVI_2002241.tif"
       ]
      },
      {
       "output_type": "stream",
       "stream": "stdout",
       "text": [
        "\n",
        "D:\\Data\\NDVIanomalytimeseries//abs_NDVI_2002249.tif"
       ]
      },
      {
       "output_type": "stream",
       "stream": "stdout",
       "text": [
        "\n",
        "D:\\Data\\NDVIanomalytimeseries//abs_NDVI_2002257.tif"
       ]
      },
      {
       "output_type": "stream",
       "stream": "stdout",
       "text": [
        "\n",
        "D:\\Data\\NDVIanomalytimeseries//abs_NDVI_2002265.tif"
       ]
      },
      {
       "output_type": "stream",
       "stream": "stdout",
       "text": [
        "\n",
        "D:\\Data\\NDVIanomalytimeseries//abs_NDVI_2002273.tif"
       ]
      },
      {
       "output_type": "stream",
       "stream": "stdout",
       "text": [
        "\n",
        "D:\\Data\\NDVIanomalytimeseries//abs_NDVI_2002281.tif"
       ]
      },
      {
       "output_type": "stream",
       "stream": "stdout",
       "text": [
        "\n",
        "D:\\Data\\NDVIanomalytimeseries//abs_NDVI_2002289.tif"
       ]
      },
      {
       "output_type": "stream",
       "stream": "stdout",
       "text": [
        "\n",
        "D:\\Data\\NDVIanomalytimeseries//abs_NDVI_2002297.tif"
       ]
      },
      {
       "output_type": "stream",
       "stream": "stdout",
       "text": [
        "\n",
        "D:\\Data\\NDVIanomalytimeseries//abs_NDVI_2002305.tif"
       ]
      },
      {
       "output_type": "stream",
       "stream": "stdout",
       "text": [
        "\n",
        "D:\\Data\\NDVIanomalytimeseries//abs_NDVI_2002313.tif"
       ]
      },
      {
       "output_type": "stream",
       "stream": "stdout",
       "text": [
        "\n",
        "D:\\Data\\NDVIanomalytimeseries//abs_NDVI_2002321.tif"
       ]
      },
      {
       "output_type": "stream",
       "stream": "stdout",
       "text": [
        "\n",
        "D:\\Data\\NDVIanomalytimeseries//abs_NDVI_2002329.tif"
       ]
      },
      {
       "output_type": "stream",
       "stream": "stdout",
       "text": [
        "\n",
        "D:\\Data\\NDVIanomalytimeseries//abs_NDVI_2002337.tif"
       ]
      },
      {
       "output_type": "stream",
       "stream": "stdout",
       "text": [
        "\n",
        "D:\\Data\\NDVIanomalytimeseries//abs_NDVI_2002345.tif"
       ]
      },
      {
       "output_type": "stream",
       "stream": "stdout",
       "text": [
        "\n",
        "D:\\Data\\NDVIanomalytimeseries//abs_NDVI_2002353.tif"
       ]
      },
      {
       "output_type": "stream",
       "stream": "stdout",
       "text": [
        "\n",
        "D:\\Data\\NDVIanomalytimeseries//abs_NDVI_2002361.tif"
       ]
      },
      {
       "output_type": "stream",
       "stream": "stdout",
       "text": [
        "\n",
        "D:\\Data\\NDVIanomalytimeseries//abs_NDVI_2003001.tif"
       ]
      },
      {
       "output_type": "stream",
       "stream": "stdout",
       "text": [
        "\n",
        "D:\\Data\\NDVIanomalytimeseries//abs_NDVI_2003009.tif"
       ]
      },
      {
       "output_type": "stream",
       "stream": "stdout",
       "text": [
        "\n",
        "D:\\Data\\NDVIanomalytimeseries//abs_NDVI_2003017.tif"
       ]
      },
      {
       "output_type": "stream",
       "stream": "stdout",
       "text": [
        "\n",
        "D:\\Data\\NDVIanomalytimeseries//abs_NDVI_2003025.tif"
       ]
      },
      {
       "output_type": "stream",
       "stream": "stdout",
       "text": [
        "\n",
        "D:\\Data\\NDVIanomalytimeseries//abs_NDVI_2003033.tif"
       ]
      },
      {
       "output_type": "stream",
       "stream": "stdout",
       "text": [
        "\n",
        "D:\\Data\\NDVIanomalytimeseries//abs_NDVI_2003041.tif"
       ]
      },
      {
       "output_type": "stream",
       "stream": "stdout",
       "text": [
        "\n",
        "D:\\Data\\NDVIanomalytimeseries//abs_NDVI_2003049.tif"
       ]
      },
      {
       "output_type": "stream",
       "stream": "stdout",
       "text": [
        "\n",
        "D:\\Data\\NDVIanomalytimeseries//abs_NDVI_2003057.tif"
       ]
      },
      {
       "output_type": "stream",
       "stream": "stdout",
       "text": [
        "\n",
        "D:\\Data\\NDVIanomalytimeseries//abs_NDVI_2003065.tif"
       ]
      },
      {
       "output_type": "stream",
       "stream": "stdout",
       "text": [
        "\n",
        "D:\\Data\\NDVIanomalytimeseries//abs_NDVI_2003073.tif"
       ]
      },
      {
       "output_type": "stream",
       "stream": "stdout",
       "text": [
        "\n",
        "D:\\Data\\NDVIanomalytimeseries//abs_NDVI_2003081.tif"
       ]
      },
      {
       "output_type": "stream",
       "stream": "stdout",
       "text": [
        "\n",
        "D:\\Data\\NDVIanomalytimeseries//abs_NDVI_2003089.tif"
       ]
      },
      {
       "output_type": "stream",
       "stream": "stdout",
       "text": [
        "\n",
        "D:\\Data\\NDVIanomalytimeseries//abs_NDVI_2003097.tif"
       ]
      },
      {
       "output_type": "stream",
       "stream": "stdout",
       "text": [
        "\n",
        "D:\\Data\\NDVIanomalytimeseries//abs_NDVI_2003105.tif"
       ]
      },
      {
       "output_type": "stream",
       "stream": "stdout",
       "text": [
        "\n",
        "D:\\Data\\NDVIanomalytimeseries//abs_NDVI_2003113.tif"
       ]
      },
      {
       "output_type": "stream",
       "stream": "stdout",
       "text": [
        "\n",
        "D:\\Data\\NDVIanomalytimeseries//abs_NDVI_2003121.tif"
       ]
      },
      {
       "output_type": "stream",
       "stream": "stdout",
       "text": [
        "\n",
        "D:\\Data\\NDVIanomalytimeseries//abs_NDVI_2003129.tif"
       ]
      },
      {
       "output_type": "stream",
       "stream": "stdout",
       "text": [
        "\n",
        "D:\\Data\\NDVIanomalytimeseries//abs_NDVI_2003137.tif"
       ]
      },
      {
       "output_type": "stream",
       "stream": "stdout",
       "text": [
        "\n",
        "D:\\Data\\NDVIanomalytimeseries//abs_NDVI_2003145.tif"
       ]
      },
      {
       "output_type": "stream",
       "stream": "stdout",
       "text": [
        "\n",
        "D:\\Data\\NDVIanomalytimeseries//abs_NDVI_2003153.tif"
       ]
      },
      {
       "output_type": "stream",
       "stream": "stdout",
       "text": [
        "\n",
        "D:\\Data\\NDVIanomalytimeseries//abs_NDVI_2003161.tif"
       ]
      },
      {
       "output_type": "stream",
       "stream": "stdout",
       "text": [
        "\n",
        "D:\\Data\\NDVIanomalytimeseries//abs_NDVI_2003169.tif"
       ]
      },
      {
       "output_type": "stream",
       "stream": "stdout",
       "text": [
        "\n",
        "D:\\Data\\NDVIanomalytimeseries//abs_NDVI_2003177.tif"
       ]
      },
      {
       "output_type": "stream",
       "stream": "stdout",
       "text": [
        "\n",
        "D:\\Data\\NDVIanomalytimeseries//abs_NDVI_2003185.tif"
       ]
      },
      {
       "output_type": "stream",
       "stream": "stdout",
       "text": [
        "\n",
        "D:\\Data\\NDVIanomalytimeseries//abs_NDVI_2003193.tif"
       ]
      },
      {
       "output_type": "stream",
       "stream": "stdout",
       "text": [
        "\n",
        "D:\\Data\\NDVIanomalytimeseries//abs_NDVI_2003201.tif"
       ]
      },
      {
       "output_type": "stream",
       "stream": "stdout",
       "text": [
        "\n",
        "D:\\Data\\NDVIanomalytimeseries//abs_NDVI_2003209.tif"
       ]
      },
      {
       "output_type": "stream",
       "stream": "stdout",
       "text": [
        "\n",
        "D:\\Data\\NDVIanomalytimeseries//abs_NDVI_2003217.tif"
       ]
      },
      {
       "output_type": "stream",
       "stream": "stdout",
       "text": [
        "\n",
        "D:\\Data\\NDVIanomalytimeseries//abs_NDVI_2003225.tif"
       ]
      },
      {
       "output_type": "stream",
       "stream": "stdout",
       "text": [
        "\n",
        "D:\\Data\\NDVIanomalytimeseries//abs_NDVI_2003233.tif"
       ]
      },
      {
       "output_type": "stream",
       "stream": "stdout",
       "text": [
        "\n",
        "D:\\Data\\NDVIanomalytimeseries//abs_NDVI_2003241.tif"
       ]
      },
      {
       "output_type": "stream",
       "stream": "stdout",
       "text": [
        "\n",
        "D:\\Data\\NDVIanomalytimeseries//abs_NDVI_2003249.tif"
       ]
      },
      {
       "output_type": "stream",
       "stream": "stdout",
       "text": [
        "\n",
        "D:\\Data\\NDVIanomalytimeseries//abs_NDVI_2003257.tif"
       ]
      },
      {
       "output_type": "stream",
       "stream": "stdout",
       "text": [
        "\n",
        "D:\\Data\\NDVIanomalytimeseries//abs_NDVI_2003265.tif"
       ]
      },
      {
       "output_type": "stream",
       "stream": "stdout",
       "text": [
        "\n",
        "D:\\Data\\NDVIanomalytimeseries//abs_NDVI_2003273.tif"
       ]
      },
      {
       "output_type": "stream",
       "stream": "stdout",
       "text": [
        "\n",
        "D:\\Data\\NDVIanomalytimeseries//abs_NDVI_2003281.tif"
       ]
      },
      {
       "output_type": "stream",
       "stream": "stdout",
       "text": [
        "\n",
        "D:\\Data\\NDVIanomalytimeseries//abs_NDVI_2003289.tif"
       ]
      },
      {
       "output_type": "stream",
       "stream": "stdout",
       "text": [
        "\n",
        "D:\\Data\\NDVIanomalytimeseries//abs_NDVI_2003297.tif"
       ]
      },
      {
       "output_type": "stream",
       "stream": "stdout",
       "text": [
        "\n",
        "D:\\Data\\NDVIanomalytimeseries//abs_NDVI_2003305.tif"
       ]
      },
      {
       "output_type": "stream",
       "stream": "stdout",
       "text": [
        "\n",
        "D:\\Data\\NDVIanomalytimeseries//abs_NDVI_2003313.tif"
       ]
      },
      {
       "output_type": "stream",
       "stream": "stdout",
       "text": [
        "\n",
        "D:\\Data\\NDVIanomalytimeseries//abs_NDVI_2003321.tif"
       ]
      },
      {
       "output_type": "stream",
       "stream": "stdout",
       "text": [
        "\n",
        "D:\\Data\\NDVIanomalytimeseries//abs_NDVI_2003329.tif"
       ]
      },
      {
       "output_type": "stream",
       "stream": "stdout",
       "text": [
        "\n",
        "D:\\Data\\NDVIanomalytimeseries//abs_NDVI_2003337.tif"
       ]
      },
      {
       "output_type": "stream",
       "stream": "stdout",
       "text": [
        "\n",
        "D:\\Data\\NDVIanomalytimeseries//abs_NDVI_2003345.tif"
       ]
      },
      {
       "output_type": "stream",
       "stream": "stdout",
       "text": [
        "\n",
        "D:\\Data\\NDVIanomalytimeseries//abs_NDVI_2003353.tif"
       ]
      },
      {
       "output_type": "stream",
       "stream": "stdout",
       "text": [
        "\n",
        "D:\\Data\\NDVIanomalytimeseries//abs_NDVI_2003361.tif"
       ]
      },
      {
       "output_type": "stream",
       "stream": "stdout",
       "text": [
        "\n",
        "D:\\Data\\NDVIanomalytimeseries//abs_NDVI_2004001.tif"
       ]
      },
      {
       "output_type": "stream",
       "stream": "stdout",
       "text": [
        "\n",
        "D:\\Data\\NDVIanomalytimeseries//abs_NDVI_2004009.tif"
       ]
      },
      {
       "output_type": "stream",
       "stream": "stdout",
       "text": [
        "\n",
        "D:\\Data\\NDVIanomalytimeseries//abs_NDVI_2004017.tif"
       ]
      },
      {
       "output_type": "stream",
       "stream": "stdout",
       "text": [
        "\n",
        "D:\\Data\\NDVIanomalytimeseries//abs_NDVI_2004025.tif"
       ]
      },
      {
       "output_type": "stream",
       "stream": "stdout",
       "text": [
        "\n",
        "D:\\Data\\NDVIanomalytimeseries//abs_NDVI_2004033.tif"
       ]
      },
      {
       "output_type": "stream",
       "stream": "stdout",
       "text": [
        "\n",
        "D:\\Data\\NDVIanomalytimeseries//abs_NDVI_2004041.tif"
       ]
      },
      {
       "output_type": "stream",
       "stream": "stdout",
       "text": [
        "\n",
        "D:\\Data\\NDVIanomalytimeseries//abs_NDVI_2004049.tif"
       ]
      },
      {
       "output_type": "stream",
       "stream": "stdout",
       "text": [
        "\n",
        "D:\\Data\\NDVIanomalytimeseries//abs_NDVI_2004057.tif"
       ]
      },
      {
       "output_type": "stream",
       "stream": "stdout",
       "text": [
        "\n",
        "D:\\Data\\NDVIanomalytimeseries//abs_NDVI_2004065.tif"
       ]
      },
      {
       "output_type": "stream",
       "stream": "stdout",
       "text": [
        "\n",
        "D:\\Data\\NDVIanomalytimeseries//abs_NDVI_2004073.tif"
       ]
      },
      {
       "output_type": "stream",
       "stream": "stdout",
       "text": [
        "\n",
        "D:\\Data\\NDVIanomalytimeseries//abs_NDVI_2004081.tif"
       ]
      },
      {
       "output_type": "stream",
       "stream": "stdout",
       "text": [
        "\n",
        "D:\\Data\\NDVIanomalytimeseries//abs_NDVI_2004089.tif"
       ]
      },
      {
       "output_type": "stream",
       "stream": "stdout",
       "text": [
        "\n",
        "D:\\Data\\NDVIanomalytimeseries//abs_NDVI_2004097.tif"
       ]
      },
      {
       "output_type": "stream",
       "stream": "stdout",
       "text": [
        "\n",
        "D:\\Data\\NDVIanomalytimeseries//abs_NDVI_2004105.tif"
       ]
      },
      {
       "output_type": "stream",
       "stream": "stdout",
       "text": [
        "\n",
        "D:\\Data\\NDVIanomalytimeseries//abs_NDVI_2004113.tif"
       ]
      },
      {
       "output_type": "stream",
       "stream": "stdout",
       "text": [
        "\n",
        "D:\\Data\\NDVIanomalytimeseries//abs_NDVI_2004121.tif"
       ]
      },
      {
       "output_type": "stream",
       "stream": "stdout",
       "text": [
        "\n",
        "D:\\Data\\NDVIanomalytimeseries//abs_NDVI_2004129.tif"
       ]
      },
      {
       "output_type": "stream",
       "stream": "stdout",
       "text": [
        "\n",
        "D:\\Data\\NDVIanomalytimeseries//abs_NDVI_2004137.tif"
       ]
      },
      {
       "output_type": "stream",
       "stream": "stdout",
       "text": [
        "\n",
        "D:\\Data\\NDVIanomalytimeseries//abs_NDVI_2004145.tif"
       ]
      },
      {
       "output_type": "stream",
       "stream": "stdout",
       "text": [
        "\n",
        "D:\\Data\\NDVIanomalytimeseries//abs_NDVI_2004153.tif"
       ]
      },
      {
       "output_type": "stream",
       "stream": "stdout",
       "text": [
        "\n",
        "D:\\Data\\NDVIanomalytimeseries//abs_NDVI_2004161.tif"
       ]
      },
      {
       "output_type": "stream",
       "stream": "stdout",
       "text": [
        "\n",
        "D:\\Data\\NDVIanomalytimeseries//abs_NDVI_2004169.tif"
       ]
      },
      {
       "output_type": "stream",
       "stream": "stdout",
       "text": [
        "\n",
        "D:\\Data\\NDVIanomalytimeseries//abs_NDVI_2004177.tif"
       ]
      },
      {
       "output_type": "stream",
       "stream": "stdout",
       "text": [
        "\n",
        "D:\\Data\\NDVIanomalytimeseries//abs_NDVI_2004185.tif"
       ]
      },
      {
       "output_type": "stream",
       "stream": "stdout",
       "text": [
        "\n",
        "D:\\Data\\NDVIanomalytimeseries//abs_NDVI_2004193.tif"
       ]
      },
      {
       "output_type": "stream",
       "stream": "stdout",
       "text": [
        "\n",
        "D:\\Data\\NDVIanomalytimeseries//abs_NDVI_2004201.tif"
       ]
      },
      {
       "output_type": "stream",
       "stream": "stdout",
       "text": [
        "\n",
        "D:\\Data\\NDVIanomalytimeseries//abs_NDVI_2004209.tif"
       ]
      },
      {
       "output_type": "stream",
       "stream": "stdout",
       "text": [
        "\n",
        "D:\\Data\\NDVIanomalytimeseries//abs_NDVI_2004217.tif"
       ]
      },
      {
       "output_type": "stream",
       "stream": "stdout",
       "text": [
        "\n",
        "D:\\Data\\NDVIanomalytimeseries//abs_NDVI_2004225.tif"
       ]
      },
      {
       "output_type": "stream",
       "stream": "stdout",
       "text": [
        "\n",
        "D:\\Data\\NDVIanomalytimeseries//abs_NDVI_2004233.tif"
       ]
      },
      {
       "output_type": "stream",
       "stream": "stdout",
       "text": [
        "\n",
        "D:\\Data\\NDVIanomalytimeseries//abs_NDVI_2004241.tif"
       ]
      },
      {
       "output_type": "stream",
       "stream": "stdout",
       "text": [
        "\n",
        "D:\\Data\\NDVIanomalytimeseries//abs_NDVI_2004249.tif"
       ]
      },
      {
       "output_type": "stream",
       "stream": "stdout",
       "text": [
        "\n",
        "D:\\Data\\NDVIanomalytimeseries//abs_NDVI_2004257.tif"
       ]
      },
      {
       "output_type": "stream",
       "stream": "stdout",
       "text": [
        "\n",
        "D:\\Data\\NDVIanomalytimeseries//abs_NDVI_2004265.tif"
       ]
      },
      {
       "output_type": "stream",
       "stream": "stdout",
       "text": [
        "\n",
        "D:\\Data\\NDVIanomalytimeseries//abs_NDVI_2004273.tif"
       ]
      },
      {
       "output_type": "stream",
       "stream": "stdout",
       "text": [
        "\n",
        "D:\\Data\\NDVIanomalytimeseries//abs_NDVI_2004281.tif"
       ]
      },
      {
       "output_type": "stream",
       "stream": "stdout",
       "text": [
        "\n",
        "D:\\Data\\NDVIanomalytimeseries//abs_NDVI_2004289.tif"
       ]
      },
      {
       "output_type": "stream",
       "stream": "stdout",
       "text": [
        "\n",
        "D:\\Data\\NDVIanomalytimeseries//abs_NDVI_2004297.tif"
       ]
      },
      {
       "output_type": "stream",
       "stream": "stdout",
       "text": [
        "\n",
        "D:\\Data\\NDVIanomalytimeseries//abs_NDVI_2004305.tif"
       ]
      },
      {
       "output_type": "stream",
       "stream": "stdout",
       "text": [
        "\n",
        "D:\\Data\\NDVIanomalytimeseries//abs_NDVI_2004313.tif"
       ]
      },
      {
       "output_type": "stream",
       "stream": "stdout",
       "text": [
        "\n",
        "D:\\Data\\NDVIanomalytimeseries//abs_NDVI_2004321.tif"
       ]
      },
      {
       "output_type": "stream",
       "stream": "stdout",
       "text": [
        "\n",
        "D:\\Data\\NDVIanomalytimeseries//abs_NDVI_2004329.tif"
       ]
      },
      {
       "output_type": "stream",
       "stream": "stdout",
       "text": [
        "\n",
        "D:\\Data\\NDVIanomalytimeseries//abs_NDVI_2004337.tif"
       ]
      },
      {
       "output_type": "stream",
       "stream": "stdout",
       "text": [
        "\n",
        "D:\\Data\\NDVIanomalytimeseries//abs_NDVI_2004345.tif"
       ]
      },
      {
       "output_type": "stream",
       "stream": "stdout",
       "text": [
        "\n",
        "D:\\Data\\NDVIanomalytimeseries//abs_NDVI_2004353.tif"
       ]
      },
      {
       "output_type": "stream",
       "stream": "stdout",
       "text": [
        "\n",
        "D:\\Data\\NDVIanomalytimeseries//abs_NDVI_2004361.tif"
       ]
      },
      {
       "output_type": "stream",
       "stream": "stdout",
       "text": [
        "\n",
        "D:\\Data\\NDVIanomalytimeseries//abs_NDVI_2005001.tif"
       ]
      },
      {
       "output_type": "stream",
       "stream": "stdout",
       "text": [
        "\n",
        "D:\\Data\\NDVIanomalytimeseries//abs_NDVI_2005009.tif"
       ]
      },
      {
       "output_type": "stream",
       "stream": "stdout",
       "text": [
        "\n",
        "D:\\Data\\NDVIanomalytimeseries//abs_NDVI_2005017.tif"
       ]
      },
      {
       "output_type": "stream",
       "stream": "stdout",
       "text": [
        "\n",
        "D:\\Data\\NDVIanomalytimeseries//abs_NDVI_2005025.tif"
       ]
      },
      {
       "output_type": "stream",
       "stream": "stdout",
       "text": [
        "\n",
        "D:\\Data\\NDVIanomalytimeseries//abs_NDVI_2005033.tif"
       ]
      },
      {
       "output_type": "stream",
       "stream": "stdout",
       "text": [
        "\n",
        "D:\\Data\\NDVIanomalytimeseries//abs_NDVI_2005041.tif"
       ]
      },
      {
       "output_type": "stream",
       "stream": "stdout",
       "text": [
        "\n",
        "D:\\Data\\NDVIanomalytimeseries//abs_NDVI_2005049.tif"
       ]
      },
      {
       "output_type": "stream",
       "stream": "stdout",
       "text": [
        "\n",
        "D:\\Data\\NDVIanomalytimeseries//abs_NDVI_2005057.tif"
       ]
      },
      {
       "output_type": "stream",
       "stream": "stdout",
       "text": [
        "\n",
        "D:\\Data\\NDVIanomalytimeseries//abs_NDVI_2005065.tif"
       ]
      },
      {
       "output_type": "stream",
       "stream": "stdout",
       "text": [
        "\n",
        "D:\\Data\\NDVIanomalytimeseries//abs_NDVI_2005073.tif"
       ]
      },
      {
       "output_type": "stream",
       "stream": "stdout",
       "text": [
        "\n",
        "D:\\Data\\NDVIanomalytimeseries//abs_NDVI_2005081.tif"
       ]
      },
      {
       "output_type": "stream",
       "stream": "stdout",
       "text": [
        "\n",
        "D:\\Data\\NDVIanomalytimeseries//abs_NDVI_2005089.tif"
       ]
      },
      {
       "output_type": "stream",
       "stream": "stdout",
       "text": [
        "\n",
        "D:\\Data\\NDVIanomalytimeseries//abs_NDVI_2005097.tif"
       ]
      },
      {
       "output_type": "stream",
       "stream": "stdout",
       "text": [
        "\n",
        "D:\\Data\\NDVIanomalytimeseries//abs_NDVI_2005105.tif"
       ]
      },
      {
       "output_type": "stream",
       "stream": "stdout",
       "text": [
        "\n",
        "D:\\Data\\NDVIanomalytimeseries//abs_NDVI_2005113.tif"
       ]
      },
      {
       "output_type": "stream",
       "stream": "stdout",
       "text": [
        "\n",
        "D:\\Data\\NDVIanomalytimeseries//abs_NDVI_2005121.tif"
       ]
      },
      {
       "output_type": "stream",
       "stream": "stdout",
       "text": [
        "\n",
        "D:\\Data\\NDVIanomalytimeseries//abs_NDVI_2005129.tif"
       ]
      },
      {
       "output_type": "stream",
       "stream": "stdout",
       "text": [
        "\n",
        "D:\\Data\\NDVIanomalytimeseries//abs_NDVI_2005137.tif"
       ]
      },
      {
       "output_type": "stream",
       "stream": "stdout",
       "text": [
        "\n",
        "D:\\Data\\NDVIanomalytimeseries//abs_NDVI_2005145.tif"
       ]
      },
      {
       "output_type": "stream",
       "stream": "stdout",
       "text": [
        "\n",
        "D:\\Data\\NDVIanomalytimeseries//abs_NDVI_2005153.tif"
       ]
      },
      {
       "output_type": "stream",
       "stream": "stdout",
       "text": [
        "\n",
        "D:\\Data\\NDVIanomalytimeseries//abs_NDVI_2005161.tif"
       ]
      },
      {
       "output_type": "stream",
       "stream": "stdout",
       "text": [
        "\n",
        "D:\\Data\\NDVIanomalytimeseries//abs_NDVI_2005169.tif"
       ]
      },
      {
       "output_type": "stream",
       "stream": "stdout",
       "text": [
        "\n",
        "D:\\Data\\NDVIanomalytimeseries//abs_NDVI_2005177.tif"
       ]
      },
      {
       "output_type": "stream",
       "stream": "stdout",
       "text": [
        "\n",
        "D:\\Data\\NDVIanomalytimeseries//abs_NDVI_2005185.tif"
       ]
      },
      {
       "output_type": "stream",
       "stream": "stdout",
       "text": [
        "\n",
        "D:\\Data\\NDVIanomalytimeseries//abs_NDVI_2005193.tif"
       ]
      },
      {
       "output_type": "stream",
       "stream": "stdout",
       "text": [
        "\n",
        "D:\\Data\\NDVIanomalytimeseries//abs_NDVI_2005201.tif"
       ]
      },
      {
       "output_type": "stream",
       "stream": "stdout",
       "text": [
        "\n",
        "D:\\Data\\NDVIanomalytimeseries//abs_NDVI_2005209.tif"
       ]
      },
      {
       "output_type": "stream",
       "stream": "stdout",
       "text": [
        "\n",
        "D:\\Data\\NDVIanomalytimeseries//abs_NDVI_2005217.tif"
       ]
      },
      {
       "output_type": "stream",
       "stream": "stdout",
       "text": [
        "\n",
        "D:\\Data\\NDVIanomalytimeseries//abs_NDVI_2005225.tif"
       ]
      },
      {
       "output_type": "stream",
       "stream": "stdout",
       "text": [
        "\n",
        "D:\\Data\\NDVIanomalytimeseries//abs_NDVI_2005233.tif"
       ]
      },
      {
       "output_type": "stream",
       "stream": "stdout",
       "text": [
        "\n",
        "D:\\Data\\NDVIanomalytimeseries//abs_NDVI_2005241.tif"
       ]
      },
      {
       "output_type": "stream",
       "stream": "stdout",
       "text": [
        "\n",
        "D:\\Data\\NDVIanomalytimeseries//abs_NDVI_2005249.tif"
       ]
      },
      {
       "output_type": "stream",
       "stream": "stdout",
       "text": [
        "\n",
        "D:\\Data\\NDVIanomalytimeseries//abs_NDVI_2005257.tif"
       ]
      },
      {
       "output_type": "stream",
       "stream": "stdout",
       "text": [
        "\n",
        "D:\\Data\\NDVIanomalytimeseries//abs_NDVI_2005265.tif"
       ]
      },
      {
       "output_type": "stream",
       "stream": "stdout",
       "text": [
        "\n",
        "D:\\Data\\NDVIanomalytimeseries//abs_NDVI_2005273.tif"
       ]
      },
      {
       "output_type": "stream",
       "stream": "stdout",
       "text": [
        "\n",
        "D:\\Data\\NDVIanomalytimeseries//abs_NDVI_2005281.tif"
       ]
      },
      {
       "output_type": "stream",
       "stream": "stdout",
       "text": [
        "\n",
        "D:\\Data\\NDVIanomalytimeseries//abs_NDVI_2005289.tif"
       ]
      },
      {
       "output_type": "stream",
       "stream": "stdout",
       "text": [
        "\n",
        "D:\\Data\\NDVIanomalytimeseries//abs_NDVI_2005297.tif"
       ]
      },
      {
       "output_type": "stream",
       "stream": "stdout",
       "text": [
        "\n",
        "D:\\Data\\NDVIanomalytimeseries//abs_NDVI_2005305.tif"
       ]
      },
      {
       "output_type": "stream",
       "stream": "stdout",
       "text": [
        "\n",
        "D:\\Data\\NDVIanomalytimeseries//abs_NDVI_2005313.tif"
       ]
      },
      {
       "output_type": "stream",
       "stream": "stdout",
       "text": [
        "\n",
        "D:\\Data\\NDVIanomalytimeseries//abs_NDVI_2005321.tif"
       ]
      },
      {
       "output_type": "stream",
       "stream": "stdout",
       "text": [
        "\n",
        "D:\\Data\\NDVIanomalytimeseries//abs_NDVI_2005329.tif"
       ]
      },
      {
       "output_type": "stream",
       "stream": "stdout",
       "text": [
        "\n",
        "D:\\Data\\NDVIanomalytimeseries//abs_NDVI_2005337.tif"
       ]
      },
      {
       "output_type": "stream",
       "stream": "stdout",
       "text": [
        "\n",
        "D:\\Data\\NDVIanomalytimeseries//abs_NDVI_2005345.tif"
       ]
      },
      {
       "output_type": "stream",
       "stream": "stdout",
       "text": [
        "\n",
        "D:\\Data\\NDVIanomalytimeseries//abs_NDVI_2005353.tif"
       ]
      },
      {
       "output_type": "stream",
       "stream": "stdout",
       "text": [
        "\n",
        "D:\\Data\\NDVIanomalytimeseries//abs_NDVI_2005361.tif"
       ]
      },
      {
       "output_type": "stream",
       "stream": "stdout",
       "text": [
        "\n",
        "D:\\Data\\NDVIanomalytimeseries//abs_NDVI_2006001.tif"
       ]
      },
      {
       "output_type": "stream",
       "stream": "stdout",
       "text": [
        "\n",
        "D:\\Data\\NDVIanomalytimeseries//abs_NDVI_2006009.tif"
       ]
      },
      {
       "output_type": "stream",
       "stream": "stdout",
       "text": [
        "\n",
        "D:\\Data\\NDVIanomalytimeseries//abs_NDVI_2006017.tif"
       ]
      },
      {
       "output_type": "stream",
       "stream": "stdout",
       "text": [
        "\n",
        "D:\\Data\\NDVIanomalytimeseries//abs_NDVI_2006025.tif"
       ]
      },
      {
       "output_type": "stream",
       "stream": "stdout",
       "text": [
        "\n",
        "D:\\Data\\NDVIanomalytimeseries//abs_NDVI_2006033.tif"
       ]
      },
      {
       "output_type": "stream",
       "stream": "stdout",
       "text": [
        "\n",
        "D:\\Data\\NDVIanomalytimeseries//abs_NDVI_2006041.tif"
       ]
      },
      {
       "output_type": "stream",
       "stream": "stdout",
       "text": [
        "\n",
        "D:\\Data\\NDVIanomalytimeseries//abs_NDVI_2006049.tif"
       ]
      },
      {
       "output_type": "stream",
       "stream": "stdout",
       "text": [
        "\n",
        "D:\\Data\\NDVIanomalytimeseries//abs_NDVI_2006057.tif"
       ]
      },
      {
       "output_type": "stream",
       "stream": "stdout",
       "text": [
        "\n",
        "D:\\Data\\NDVIanomalytimeseries//abs_NDVI_2006065.tif"
       ]
      },
      {
       "output_type": "stream",
       "stream": "stdout",
       "text": [
        "\n",
        "D:\\Data\\NDVIanomalytimeseries//abs_NDVI_2006073.tif"
       ]
      },
      {
       "output_type": "stream",
       "stream": "stdout",
       "text": [
        "\n",
        "D:\\Data\\NDVIanomalytimeseries//abs_NDVI_2006081.tif"
       ]
      },
      {
       "output_type": "stream",
       "stream": "stdout",
       "text": [
        "\n",
        "D:\\Data\\NDVIanomalytimeseries//abs_NDVI_2006089.tif"
       ]
      },
      {
       "output_type": "stream",
       "stream": "stdout",
       "text": [
        "\n",
        "D:\\Data\\NDVIanomalytimeseries//abs_NDVI_2006097.tif"
       ]
      },
      {
       "output_type": "stream",
       "stream": "stdout",
       "text": [
        "\n",
        "D:\\Data\\NDVIanomalytimeseries//abs_NDVI_2006105.tif"
       ]
      },
      {
       "output_type": "stream",
       "stream": "stdout",
       "text": [
        "\n",
        "D:\\Data\\NDVIanomalytimeseries//abs_NDVI_2006113.tif"
       ]
      },
      {
       "output_type": "stream",
       "stream": "stdout",
       "text": [
        "\n",
        "D:\\Data\\NDVIanomalytimeseries//abs_NDVI_2006121.tif"
       ]
      },
      {
       "output_type": "stream",
       "stream": "stdout",
       "text": [
        "\n",
        "D:\\Data\\NDVIanomalytimeseries//abs_NDVI_2006129.tif"
       ]
      },
      {
       "output_type": "stream",
       "stream": "stdout",
       "text": [
        "\n",
        "D:\\Data\\NDVIanomalytimeseries//abs_NDVI_2006137.tif"
       ]
      },
      {
       "output_type": "stream",
       "stream": "stdout",
       "text": [
        "\n",
        "D:\\Data\\NDVIanomalytimeseries//abs_NDVI_2006145.tif"
       ]
      },
      {
       "output_type": "stream",
       "stream": "stdout",
       "text": [
        "\n",
        "D:\\Data\\NDVIanomalytimeseries//abs_NDVI_2006153.tif"
       ]
      },
      {
       "output_type": "stream",
       "stream": "stdout",
       "text": [
        "\n",
        "D:\\Data\\NDVIanomalytimeseries//abs_NDVI_2006161.tif"
       ]
      },
      {
       "output_type": "stream",
       "stream": "stdout",
       "text": [
        "\n",
        "D:\\Data\\NDVIanomalytimeseries//abs_NDVI_2006169.tif"
       ]
      },
      {
       "output_type": "stream",
       "stream": "stdout",
       "text": [
        "\n",
        "D:\\Data\\NDVIanomalytimeseries//abs_NDVI_2006177.tif"
       ]
      },
      {
       "output_type": "stream",
       "stream": "stdout",
       "text": [
        "\n",
        "D:\\Data\\NDVIanomalytimeseries//abs_NDVI_2006185.tif"
       ]
      },
      {
       "output_type": "stream",
       "stream": "stdout",
       "text": [
        "\n",
        "D:\\Data\\NDVIanomalytimeseries//abs_NDVI_2006193.tif"
       ]
      },
      {
       "output_type": "stream",
       "stream": "stdout",
       "text": [
        "\n",
        "D:\\Data\\NDVIanomalytimeseries//abs_NDVI_2006201.tif"
       ]
      },
      {
       "output_type": "stream",
       "stream": "stdout",
       "text": [
        "\n",
        "D:\\Data\\NDVIanomalytimeseries//abs_NDVI_2006209.tif"
       ]
      },
      {
       "output_type": "stream",
       "stream": "stdout",
       "text": [
        "\n",
        "D:\\Data\\NDVIanomalytimeseries//abs_NDVI_2006217.tif"
       ]
      },
      {
       "output_type": "stream",
       "stream": "stdout",
       "text": [
        "\n",
        "D:\\Data\\NDVIanomalytimeseries//abs_NDVI_2006225.tif"
       ]
      },
      {
       "output_type": "stream",
       "stream": "stdout",
       "text": [
        "\n",
        "D:\\Data\\NDVIanomalytimeseries//abs_NDVI_2006233.tif"
       ]
      },
      {
       "output_type": "stream",
       "stream": "stdout",
       "text": [
        "\n",
        "D:\\Data\\NDVIanomalytimeseries//abs_NDVI_2006241.tif"
       ]
      },
      {
       "output_type": "stream",
       "stream": "stdout",
       "text": [
        "\n",
        "D:\\Data\\NDVIanomalytimeseries//abs_NDVI_2006249.tif"
       ]
      },
      {
       "output_type": "stream",
       "stream": "stdout",
       "text": [
        "\n",
        "D:\\Data\\NDVIanomalytimeseries//abs_NDVI_2006257.tif"
       ]
      },
      {
       "output_type": "stream",
       "stream": "stdout",
       "text": [
        "\n",
        "D:\\Data\\NDVIanomalytimeseries//abs_NDVI_2006265.tif"
       ]
      },
      {
       "output_type": "stream",
       "stream": "stdout",
       "text": [
        "\n",
        "D:\\Data\\NDVIanomalytimeseries//abs_NDVI_2006273.tif"
       ]
      },
      {
       "output_type": "stream",
       "stream": "stdout",
       "text": [
        "\n",
        "D:\\Data\\NDVIanomalytimeseries//abs_NDVI_2006281.tif"
       ]
      },
      {
       "output_type": "stream",
       "stream": "stdout",
       "text": [
        "\n",
        "D:\\Data\\NDVIanomalytimeseries//abs_NDVI_2006289.tif"
       ]
      },
      {
       "output_type": "stream",
       "stream": "stdout",
       "text": [
        "\n",
        "D:\\Data\\NDVIanomalytimeseries//abs_NDVI_2006297.tif"
       ]
      },
      {
       "output_type": "stream",
       "stream": "stdout",
       "text": [
        "\n",
        "D:\\Data\\NDVIanomalytimeseries//abs_NDVI_2006305.tif"
       ]
      },
      {
       "output_type": "stream",
       "stream": "stdout",
       "text": [
        "\n",
        "D:\\Data\\NDVIanomalytimeseries//abs_NDVI_2006313.tif"
       ]
      },
      {
       "output_type": "stream",
       "stream": "stdout",
       "text": [
        "\n",
        "D:\\Data\\NDVIanomalytimeseries//abs_NDVI_2006321.tif"
       ]
      },
      {
       "output_type": "stream",
       "stream": "stdout",
       "text": [
        "\n",
        "D:\\Data\\NDVIanomalytimeseries//abs_NDVI_2006329.tif"
       ]
      },
      {
       "output_type": "stream",
       "stream": "stdout",
       "text": [
        "\n",
        "D:\\Data\\NDVIanomalytimeseries//abs_NDVI_2006337.tif"
       ]
      },
      {
       "output_type": "stream",
       "stream": "stdout",
       "text": [
        "\n",
        "D:\\Data\\NDVIanomalytimeseries//abs_NDVI_2006345.tif"
       ]
      },
      {
       "output_type": "stream",
       "stream": "stdout",
       "text": [
        "\n",
        "D:\\Data\\NDVIanomalytimeseries//abs_NDVI_2006353.tif"
       ]
      },
      {
       "output_type": "stream",
       "stream": "stdout",
       "text": [
        "\n",
        "D:\\Data\\NDVIanomalytimeseries//abs_NDVI_2006361.tif"
       ]
      },
      {
       "output_type": "stream",
       "stream": "stdout",
       "text": [
        "\n",
        "D:\\Data\\NDVIanomalytimeseries//abs_NDVI_2007001.tif"
       ]
      },
      {
       "output_type": "stream",
       "stream": "stdout",
       "text": [
        "\n",
        "D:\\Data\\NDVIanomalytimeseries//abs_NDVI_2007009.tif"
       ]
      },
      {
       "output_type": "stream",
       "stream": "stdout",
       "text": [
        "\n",
        "D:\\Data\\NDVIanomalytimeseries//abs_NDVI_2007017.tif"
       ]
      },
      {
       "output_type": "stream",
       "stream": "stdout",
       "text": [
        "\n",
        "D:\\Data\\NDVIanomalytimeseries//abs_NDVI_2007025.tif"
       ]
      },
      {
       "output_type": "stream",
       "stream": "stdout",
       "text": [
        "\n",
        "D:\\Data\\NDVIanomalytimeseries//abs_NDVI_2007033.tif"
       ]
      },
      {
       "output_type": "stream",
       "stream": "stdout",
       "text": [
        "\n",
        "D:\\Data\\NDVIanomalytimeseries//abs_NDVI_2007041.tif"
       ]
      },
      {
       "output_type": "stream",
       "stream": "stdout",
       "text": [
        "\n",
        "D:\\Data\\NDVIanomalytimeseries//abs_NDVI_2007049.tif"
       ]
      },
      {
       "output_type": "stream",
       "stream": "stdout",
       "text": [
        "\n",
        "D:\\Data\\NDVIanomalytimeseries//abs_NDVI_2007057.tif"
       ]
      },
      {
       "output_type": "stream",
       "stream": "stdout",
       "text": [
        "\n",
        "D:\\Data\\NDVIanomalytimeseries//abs_NDVI_2007065.tif"
       ]
      },
      {
       "output_type": "stream",
       "stream": "stdout",
       "text": [
        "\n",
        "D:\\Data\\NDVIanomalytimeseries//abs_NDVI_2007073.tif"
       ]
      },
      {
       "output_type": "stream",
       "stream": "stdout",
       "text": [
        "\n",
        "D:\\Data\\NDVIanomalytimeseries//abs_NDVI_2007081.tif"
       ]
      },
      {
       "output_type": "stream",
       "stream": "stdout",
       "text": [
        "\n",
        "D:\\Data\\NDVIanomalytimeseries//abs_NDVI_2007089.tif"
       ]
      },
      {
       "output_type": "stream",
       "stream": "stdout",
       "text": [
        "\n",
        "D:\\Data\\NDVIanomalytimeseries//abs_NDVI_2007097.tif"
       ]
      },
      {
       "output_type": "stream",
       "stream": "stdout",
       "text": [
        "\n",
        "D:\\Data\\NDVIanomalytimeseries//abs_NDVI_2007105.tif"
       ]
      },
      {
       "output_type": "stream",
       "stream": "stdout",
       "text": [
        "\n",
        "D:\\Data\\NDVIanomalytimeseries//abs_NDVI_2007113.tif"
       ]
      },
      {
       "output_type": "stream",
       "stream": "stdout",
       "text": [
        "\n",
        "D:\\Data\\NDVIanomalytimeseries//abs_NDVI_2007121.tif"
       ]
      },
      {
       "output_type": "stream",
       "stream": "stdout",
       "text": [
        "\n",
        "D:\\Data\\NDVIanomalytimeseries//abs_NDVI_2007129.tif"
       ]
      },
      {
       "output_type": "stream",
       "stream": "stdout",
       "text": [
        "\n",
        "D:\\Data\\NDVIanomalytimeseries//abs_NDVI_2007137.tif"
       ]
      },
      {
       "output_type": "stream",
       "stream": "stdout",
       "text": [
        "\n",
        "D:\\Data\\NDVIanomalytimeseries//abs_NDVI_2007145.tif"
       ]
      },
      {
       "output_type": "stream",
       "stream": "stdout",
       "text": [
        "\n",
        "D:\\Data\\NDVIanomalytimeseries//abs_NDVI_2007153.tif"
       ]
      },
      {
       "output_type": "stream",
       "stream": "stdout",
       "text": [
        "\n",
        "D:\\Data\\NDVIanomalytimeseries//abs_NDVI_2007161.tif"
       ]
      },
      {
       "output_type": "stream",
       "stream": "stdout",
       "text": [
        "\n",
        "D:\\Data\\NDVIanomalytimeseries//abs_NDVI_2007169.tif"
       ]
      },
      {
       "output_type": "stream",
       "stream": "stdout",
       "text": [
        "\n",
        "D:\\Data\\NDVIanomalytimeseries//abs_NDVI_2007177.tif"
       ]
      },
      {
       "output_type": "stream",
       "stream": "stdout",
       "text": [
        "\n",
        "D:\\Data\\NDVIanomalytimeseries//abs_NDVI_2007185.tif"
       ]
      },
      {
       "output_type": "stream",
       "stream": "stdout",
       "text": [
        "\n",
        "D:\\Data\\NDVIanomalytimeseries//abs_NDVI_2007193.tif"
       ]
      },
      {
       "output_type": "stream",
       "stream": "stdout",
       "text": [
        "\n",
        "D:\\Data\\NDVIanomalytimeseries//abs_NDVI_2007201.tif"
       ]
      },
      {
       "output_type": "stream",
       "stream": "stdout",
       "text": [
        "\n",
        "D:\\Data\\NDVIanomalytimeseries//abs_NDVI_2007209.tif"
       ]
      },
      {
       "output_type": "stream",
       "stream": "stdout",
       "text": [
        "\n",
        "D:\\Data\\NDVIanomalytimeseries//abs_NDVI_2007217.tif"
       ]
      },
      {
       "output_type": "stream",
       "stream": "stdout",
       "text": [
        "\n",
        "D:\\Data\\NDVIanomalytimeseries//abs_NDVI_2007225.tif"
       ]
      },
      {
       "output_type": "stream",
       "stream": "stdout",
       "text": [
        "\n",
        "D:\\Data\\NDVIanomalytimeseries//abs_NDVI_2007233.tif"
       ]
      },
      {
       "output_type": "stream",
       "stream": "stdout",
       "text": [
        "\n",
        "D:\\Data\\NDVIanomalytimeseries//abs_NDVI_2007241.tif"
       ]
      },
      {
       "output_type": "stream",
       "stream": "stdout",
       "text": [
        "\n",
        "D:\\Data\\NDVIanomalytimeseries//abs_NDVI_2007249.tif"
       ]
      },
      {
       "output_type": "stream",
       "stream": "stdout",
       "text": [
        "\n",
        "D:\\Data\\NDVIanomalytimeseries//abs_NDVI_2007257.tif"
       ]
      },
      {
       "output_type": "stream",
       "stream": "stdout",
       "text": [
        "\n",
        "D:\\Data\\NDVIanomalytimeseries//abs_NDVI_2007265.tif"
       ]
      },
      {
       "output_type": "stream",
       "stream": "stdout",
       "text": [
        "\n",
        "D:\\Data\\NDVIanomalytimeseries//abs_NDVI_2007273.tif"
       ]
      },
      {
       "output_type": "stream",
       "stream": "stdout",
       "text": [
        "\n",
        "D:\\Data\\NDVIanomalytimeseries//abs_NDVI_2007281.tif"
       ]
      },
      {
       "output_type": "stream",
       "stream": "stdout",
       "text": [
        "\n",
        "D:\\Data\\NDVIanomalytimeseries//abs_NDVI_2007289.tif"
       ]
      },
      {
       "output_type": "stream",
       "stream": "stdout",
       "text": [
        "\n",
        "D:\\Data\\NDVIanomalytimeseries//abs_NDVI_2007297.tif"
       ]
      },
      {
       "output_type": "stream",
       "stream": "stdout",
       "text": [
        "\n",
        "D:\\Data\\NDVIanomalytimeseries//abs_NDVI_2007305.tif"
       ]
      },
      {
       "output_type": "stream",
       "stream": "stdout",
       "text": [
        "\n",
        "D:\\Data\\NDVIanomalytimeseries//abs_NDVI_2007313.tif"
       ]
      },
      {
       "output_type": "stream",
       "stream": "stdout",
       "text": [
        "\n",
        "D:\\Data\\NDVIanomalytimeseries//abs_NDVI_2007321.tif"
       ]
      },
      {
       "output_type": "stream",
       "stream": "stdout",
       "text": [
        "\n",
        "D:\\Data\\NDVIanomalytimeseries//abs_NDVI_2007329.tif"
       ]
      },
      {
       "output_type": "stream",
       "stream": "stdout",
       "text": [
        "\n",
        "D:\\Data\\NDVIanomalytimeseries//abs_NDVI_2007337.tif"
       ]
      },
      {
       "output_type": "stream",
       "stream": "stdout",
       "text": [
        "\n",
        "D:\\Data\\NDVIanomalytimeseries//abs_NDVI_2007345.tif"
       ]
      },
      {
       "output_type": "stream",
       "stream": "stdout",
       "text": [
        "\n",
        "D:\\Data\\NDVIanomalytimeseries//abs_NDVI_2007353.tif"
       ]
      },
      {
       "output_type": "stream",
       "stream": "stdout",
       "text": [
        "\n",
        "D:\\Data\\NDVIanomalytimeseries//abs_NDVI_2007361.tif"
       ]
      },
      {
       "output_type": "stream",
       "stream": "stdout",
       "text": [
        "\n",
        "D:\\Data\\NDVIanomalytimeseries//abs_NDVI_2008001.tif"
       ]
      },
      {
       "output_type": "stream",
       "stream": "stdout",
       "text": [
        "\n",
        "D:\\Data\\NDVIanomalytimeseries//abs_NDVI_2008009.tif"
       ]
      },
      {
       "output_type": "stream",
       "stream": "stdout",
       "text": [
        "\n",
        "D:\\Data\\NDVIanomalytimeseries//abs_NDVI_2008017.tif"
       ]
      },
      {
       "output_type": "stream",
       "stream": "stdout",
       "text": [
        "\n",
        "D:\\Data\\NDVIanomalytimeseries//abs_NDVI_2008025.tif"
       ]
      },
      {
       "output_type": "stream",
       "stream": "stdout",
       "text": [
        "\n",
        "D:\\Data\\NDVIanomalytimeseries//abs_NDVI_2008033.tif"
       ]
      },
      {
       "output_type": "stream",
       "stream": "stdout",
       "text": [
        "\n",
        "D:\\Data\\NDVIanomalytimeseries//abs_NDVI_2008041.tif"
       ]
      },
      {
       "output_type": "stream",
       "stream": "stdout",
       "text": [
        "\n",
        "D:\\Data\\NDVIanomalytimeseries//abs_NDVI_2008049.tif"
       ]
      },
      {
       "output_type": "stream",
       "stream": "stdout",
       "text": [
        "\n",
        "D:\\Data\\NDVIanomalytimeseries//abs_NDVI_2008057.tif"
       ]
      },
      {
       "output_type": "stream",
       "stream": "stdout",
       "text": [
        "\n",
        "D:\\Data\\NDVIanomalytimeseries//abs_NDVI_2008065.tif"
       ]
      },
      {
       "output_type": "stream",
       "stream": "stdout",
       "text": [
        "\n",
        "D:\\Data\\NDVIanomalytimeseries//abs_NDVI_2008073.tif"
       ]
      },
      {
       "output_type": "stream",
       "stream": "stdout",
       "text": [
        "\n",
        "D:\\Data\\NDVIanomalytimeseries//abs_NDVI_2008081.tif"
       ]
      },
      {
       "output_type": "stream",
       "stream": "stdout",
       "text": [
        "\n",
        "D:\\Data\\NDVIanomalytimeseries//abs_NDVI_2008089.tif"
       ]
      },
      {
       "output_type": "stream",
       "stream": "stdout",
       "text": [
        "\n",
        "D:\\Data\\NDVIanomalytimeseries//abs_NDVI_2008097.tif"
       ]
      },
      {
       "output_type": "stream",
       "stream": "stdout",
       "text": [
        "\n",
        "D:\\Data\\NDVIanomalytimeseries//abs_NDVI_2008105.tif"
       ]
      },
      {
       "output_type": "stream",
       "stream": "stdout",
       "text": [
        "\n",
        "D:\\Data\\NDVIanomalytimeseries//abs_NDVI_2008113.tif"
       ]
      },
      {
       "output_type": "stream",
       "stream": "stdout",
       "text": [
        "\n",
        "D:\\Data\\NDVIanomalytimeseries//abs_NDVI_2008121.tif"
       ]
      },
      {
       "output_type": "stream",
       "stream": "stdout",
       "text": [
        "\n",
        "D:\\Data\\NDVIanomalytimeseries//abs_NDVI_2008129.tif"
       ]
      },
      {
       "output_type": "stream",
       "stream": "stdout",
       "text": [
        "\n",
        "D:\\Data\\NDVIanomalytimeseries//abs_NDVI_2008137.tif"
       ]
      },
      {
       "output_type": "stream",
       "stream": "stdout",
       "text": [
        "\n",
        "D:\\Data\\NDVIanomalytimeseries//abs_NDVI_2008145.tif"
       ]
      },
      {
       "output_type": "stream",
       "stream": "stdout",
       "text": [
        "\n",
        "D:\\Data\\NDVIanomalytimeseries//abs_NDVI_2008153.tif"
       ]
      },
      {
       "output_type": "stream",
       "stream": "stdout",
       "text": [
        "\n",
        "D:\\Data\\NDVIanomalytimeseries//abs_NDVI_2008161.tif"
       ]
      },
      {
       "output_type": "stream",
       "stream": "stdout",
       "text": [
        "\n",
        "D:\\Data\\NDVIanomalytimeseries//abs_NDVI_2008169.tif"
       ]
      },
      {
       "output_type": "stream",
       "stream": "stdout",
       "text": [
        "\n",
        "D:\\Data\\NDVIanomalytimeseries//abs_NDVI_2008177.tif"
       ]
      },
      {
       "output_type": "stream",
       "stream": "stdout",
       "text": [
        "\n",
        "D:\\Data\\NDVIanomalytimeseries//abs_NDVI_2008185.tif"
       ]
      },
      {
       "output_type": "stream",
       "stream": "stdout",
       "text": [
        "\n",
        "D:\\Data\\NDVIanomalytimeseries//abs_NDVI_2008193.tif"
       ]
      },
      {
       "output_type": "stream",
       "stream": "stdout",
       "text": [
        "\n",
        "D:\\Data\\NDVIanomalytimeseries//abs_NDVI_2008201.tif"
       ]
      },
      {
       "output_type": "stream",
       "stream": "stdout",
       "text": [
        "\n",
        "D:\\Data\\NDVIanomalytimeseries//abs_NDVI_2008209.tif"
       ]
      },
      {
       "output_type": "stream",
       "stream": "stdout",
       "text": [
        "\n",
        "D:\\Data\\NDVIanomalytimeseries//abs_NDVI_2008217.tif"
       ]
      },
      {
       "output_type": "stream",
       "stream": "stdout",
       "text": [
        "\n",
        "D:\\Data\\NDVIanomalytimeseries//abs_NDVI_2008225.tif"
       ]
      },
      {
       "output_type": "stream",
       "stream": "stdout",
       "text": [
        "\n",
        "D:\\Data\\NDVIanomalytimeseries//abs_NDVI_2008233.tif"
       ]
      },
      {
       "output_type": "stream",
       "stream": "stdout",
       "text": [
        "\n",
        "D:\\Data\\NDVIanomalytimeseries//abs_NDVI_2008241.tif"
       ]
      },
      {
       "output_type": "stream",
       "stream": "stdout",
       "text": [
        "\n",
        "D:\\Data\\NDVIanomalytimeseries//abs_NDVI_2008249.tif"
       ]
      },
      {
       "output_type": "stream",
       "stream": "stdout",
       "text": [
        "\n",
        "D:\\Data\\NDVIanomalytimeseries//abs_NDVI_2008257.tif"
       ]
      },
      {
       "output_type": "stream",
       "stream": "stdout",
       "text": [
        "\n",
        "D:\\Data\\NDVIanomalytimeseries//abs_NDVI_2008265.tif"
       ]
      },
      {
       "output_type": "stream",
       "stream": "stdout",
       "text": [
        "\n",
        "D:\\Data\\NDVIanomalytimeseries//abs_NDVI_2008273.tif"
       ]
      },
      {
       "output_type": "stream",
       "stream": "stdout",
       "text": [
        "\n",
        "D:\\Data\\NDVIanomalytimeseries//abs_NDVI_2008281.tif"
       ]
      },
      {
       "output_type": "stream",
       "stream": "stdout",
       "text": [
        "\n",
        "D:\\Data\\NDVIanomalytimeseries//abs_NDVI_2008289.tif"
       ]
      },
      {
       "output_type": "stream",
       "stream": "stdout",
       "text": [
        "\n",
        "D:\\Data\\NDVIanomalytimeseries//abs_NDVI_2008297.tif"
       ]
      },
      {
       "output_type": "stream",
       "stream": "stdout",
       "text": [
        "\n",
        "D:\\Data\\NDVIanomalytimeseries//abs_NDVI_2008305.tif"
       ]
      },
      {
       "output_type": "stream",
       "stream": "stdout",
       "text": [
        "\n",
        "D:\\Data\\NDVIanomalytimeseries//abs_NDVI_2008313.tif"
       ]
      },
      {
       "output_type": "stream",
       "stream": "stdout",
       "text": [
        "\n",
        "D:\\Data\\NDVIanomalytimeseries//abs_NDVI_2008321.tif"
       ]
      },
      {
       "output_type": "stream",
       "stream": "stdout",
       "text": [
        "\n",
        "D:\\Data\\NDVIanomalytimeseries//abs_NDVI_2008329.tif"
       ]
      },
      {
       "output_type": "stream",
       "stream": "stdout",
       "text": [
        "\n",
        "D:\\Data\\NDVIanomalytimeseries//abs_NDVI_2008337.tif"
       ]
      },
      {
       "output_type": "stream",
       "stream": "stdout",
       "text": [
        "\n",
        "D:\\Data\\NDVIanomalytimeseries//abs_NDVI_2008345.tif"
       ]
      },
      {
       "output_type": "stream",
       "stream": "stdout",
       "text": [
        "\n",
        "D:\\Data\\NDVIanomalytimeseries//abs_NDVI_2008353.tif"
       ]
      },
      {
       "output_type": "stream",
       "stream": "stdout",
       "text": [
        "\n",
        "D:\\Data\\NDVIanomalytimeseries//abs_NDVI_2008361.tif"
       ]
      },
      {
       "output_type": "stream",
       "stream": "stdout",
       "text": [
        "\n",
        "D:\\Data\\NDVIanomalytimeseries//abs_NDVI_2009001.tif"
       ]
      },
      {
       "output_type": "stream",
       "stream": "stdout",
       "text": [
        "\n",
        "D:\\Data\\NDVIanomalytimeseries//abs_NDVI_2009009.tif"
       ]
      },
      {
       "output_type": "stream",
       "stream": "stdout",
       "text": [
        "\n",
        "D:\\Data\\NDVIanomalytimeseries//abs_NDVI_2009017.tif"
       ]
      },
      {
       "output_type": "stream",
       "stream": "stdout",
       "text": [
        "\n",
        "D:\\Data\\NDVIanomalytimeseries//abs_NDVI_2009025.tif"
       ]
      },
      {
       "output_type": "stream",
       "stream": "stdout",
       "text": [
        "\n",
        "D:\\Data\\NDVIanomalytimeseries//abs_NDVI_2009033.tif"
       ]
      },
      {
       "output_type": "stream",
       "stream": "stdout",
       "text": [
        "\n",
        "D:\\Data\\NDVIanomalytimeseries//abs_NDVI_2009041.tif"
       ]
      },
      {
       "output_type": "stream",
       "stream": "stdout",
       "text": [
        "\n",
        "D:\\Data\\NDVIanomalytimeseries//abs_NDVI_2009049.tif"
       ]
      },
      {
       "output_type": "stream",
       "stream": "stdout",
       "text": [
        "\n",
        "D:\\Data\\NDVIanomalytimeseries//abs_NDVI_2009057.tif"
       ]
      },
      {
       "output_type": "stream",
       "stream": "stdout",
       "text": [
        "\n",
        "D:\\Data\\NDVIanomalytimeseries//abs_NDVI_2009065.tif"
       ]
      },
      {
       "output_type": "stream",
       "stream": "stdout",
       "text": [
        "\n",
        "D:\\Data\\NDVIanomalytimeseries//abs_NDVI_2009073.tif"
       ]
      },
      {
       "output_type": "stream",
       "stream": "stdout",
       "text": [
        "\n",
        "D:\\Data\\NDVIanomalytimeseries//abs_NDVI_2009081.tif"
       ]
      },
      {
       "output_type": "stream",
       "stream": "stdout",
       "text": [
        "\n",
        "D:\\Data\\NDVIanomalytimeseries//abs_NDVI_2009089.tif"
       ]
      },
      {
       "output_type": "stream",
       "stream": "stdout",
       "text": [
        "\n",
        "D:\\Data\\NDVIanomalytimeseries//abs_NDVI_2009097.tif"
       ]
      },
      {
       "output_type": "stream",
       "stream": "stdout",
       "text": [
        "\n",
        "D:\\Data\\NDVIanomalytimeseries//abs_NDVI_2009105.tif"
       ]
      },
      {
       "output_type": "stream",
       "stream": "stdout",
       "text": [
        "\n",
        "D:\\Data\\NDVIanomalytimeseries//abs_NDVI_2009113.tif"
       ]
      },
      {
       "output_type": "stream",
       "stream": "stdout",
       "text": [
        "\n",
        "D:\\Data\\NDVIanomalytimeseries//abs_NDVI_2009121.tif"
       ]
      },
      {
       "output_type": "stream",
       "stream": "stdout",
       "text": [
        "\n",
        "D:\\Data\\NDVIanomalytimeseries//abs_NDVI_2009129.tif"
       ]
      },
      {
       "output_type": "stream",
       "stream": "stdout",
       "text": [
        "\n",
        "D:\\Data\\NDVIanomalytimeseries//abs_NDVI_2009137.tif"
       ]
      },
      {
       "output_type": "stream",
       "stream": "stdout",
       "text": [
        "\n",
        "D:\\Data\\NDVIanomalytimeseries//abs_NDVI_2009145.tif"
       ]
      },
      {
       "output_type": "stream",
       "stream": "stdout",
       "text": [
        "\n",
        "D:\\Data\\NDVIanomalytimeseries//abs_NDVI_2009153.tif"
       ]
      },
      {
       "output_type": "stream",
       "stream": "stdout",
       "text": [
        "\n",
        "D:\\Data\\NDVIanomalytimeseries//abs_NDVI_2009161.tif"
       ]
      },
      {
       "output_type": "stream",
       "stream": "stdout",
       "text": [
        "\n",
        "D:\\Data\\NDVIanomalytimeseries//abs_NDVI_2009169.tif"
       ]
      },
      {
       "output_type": "stream",
       "stream": "stdout",
       "text": [
        "\n",
        "D:\\Data\\NDVIanomalytimeseries//abs_NDVI_2009177.tif"
       ]
      },
      {
       "output_type": "stream",
       "stream": "stdout",
       "text": [
        "\n",
        "D:\\Data\\NDVIanomalytimeseries//abs_NDVI_2009185.tif"
       ]
      },
      {
       "output_type": "stream",
       "stream": "stdout",
       "text": [
        "\n",
        "D:\\Data\\NDVIanomalytimeseries//abs_NDVI_2009193.tif"
       ]
      },
      {
       "output_type": "stream",
       "stream": "stdout",
       "text": [
        "\n",
        "D:\\Data\\NDVIanomalytimeseries//abs_NDVI_2009201.tif"
       ]
      },
      {
       "output_type": "stream",
       "stream": "stdout",
       "text": [
        "\n",
        "D:\\Data\\NDVIanomalytimeseries//abs_NDVI_2009209.tif"
       ]
      },
      {
       "output_type": "stream",
       "stream": "stdout",
       "text": [
        "\n",
        "D:\\Data\\NDVIanomalytimeseries//abs_NDVI_2009217.tif"
       ]
      },
      {
       "output_type": "stream",
       "stream": "stdout",
       "text": [
        "\n",
        "D:\\Data\\NDVIanomalytimeseries//abs_NDVI_2009225.tif"
       ]
      },
      {
       "output_type": "stream",
       "stream": "stdout",
       "text": [
        "\n",
        "D:\\Data\\NDVIanomalytimeseries//abs_NDVI_2009233.tif"
       ]
      },
      {
       "output_type": "stream",
       "stream": "stdout",
       "text": [
        "\n",
        "D:\\Data\\NDVIanomalytimeseries//abs_NDVI_2009241.tif"
       ]
      },
      {
       "output_type": "stream",
       "stream": "stdout",
       "text": [
        "\n",
        "D:\\Data\\NDVIanomalytimeseries//abs_NDVI_2009249.tif"
       ]
      },
      {
       "output_type": "stream",
       "stream": "stdout",
       "text": [
        "\n",
        "D:\\Data\\NDVIanomalytimeseries//abs_NDVI_2009257.tif"
       ]
      },
      {
       "output_type": "stream",
       "stream": "stdout",
       "text": [
        "\n",
        "D:\\Data\\NDVIanomalytimeseries//abs_NDVI_2009265.tif"
       ]
      },
      {
       "output_type": "stream",
       "stream": "stdout",
       "text": [
        "\n",
        "D:\\Data\\NDVIanomalytimeseries//abs_NDVI_2009273.tif"
       ]
      },
      {
       "output_type": "stream",
       "stream": "stdout",
       "text": [
        "\n",
        "D:\\Data\\NDVIanomalytimeseries//abs_NDVI_2009281.tif"
       ]
      },
      {
       "output_type": "stream",
       "stream": "stdout",
       "text": [
        "\n",
        "D:\\Data\\NDVIanomalytimeseries//abs_NDVI_2009289.tif"
       ]
      },
      {
       "output_type": "stream",
       "stream": "stdout",
       "text": [
        "\n",
        "D:\\Data\\NDVIanomalytimeseries//abs_NDVI_2009297.tif"
       ]
      },
      {
       "output_type": "stream",
       "stream": "stdout",
       "text": [
        "\n",
        "D:\\Data\\NDVIanomalytimeseries//abs_NDVI_2009305.tif"
       ]
      },
      {
       "output_type": "stream",
       "stream": "stdout",
       "text": [
        "\n",
        "D:\\Data\\NDVIanomalytimeseries//abs_NDVI_2009313.tif"
       ]
      },
      {
       "output_type": "stream",
       "stream": "stdout",
       "text": [
        "\n",
        "D:\\Data\\NDVIanomalytimeseries//abs_NDVI_2009321.tif"
       ]
      },
      {
       "output_type": "stream",
       "stream": "stdout",
       "text": [
        "\n",
        "D:\\Data\\NDVIanomalytimeseries//abs_NDVI_2009329.tif"
       ]
      },
      {
       "output_type": "stream",
       "stream": "stdout",
       "text": [
        "\n",
        "D:\\Data\\NDVIanomalytimeseries//abs_NDVI_2009337.tif"
       ]
      },
      {
       "output_type": "stream",
       "stream": "stdout",
       "text": [
        "\n",
        "D:\\Data\\NDVIanomalytimeseries//abs_NDVI_2009345.tif"
       ]
      },
      {
       "output_type": "stream",
       "stream": "stdout",
       "text": [
        "\n",
        "D:\\Data\\NDVIanomalytimeseries//abs_NDVI_2009353.tif"
       ]
      },
      {
       "output_type": "stream",
       "stream": "stdout",
       "text": [
        "\n",
        "D:\\Data\\NDVIanomalytimeseries//abs_NDVI_2009361.tif"
       ]
      },
      {
       "output_type": "stream",
       "stream": "stdout",
       "text": [
        "\n",
        "D:\\Data\\NDVIanomalytimeseries//abs_NDVI_2010001.tif"
       ]
      },
      {
       "output_type": "stream",
       "stream": "stdout",
       "text": [
        "\n",
        "D:\\Data\\NDVIanomalytimeseries//abs_NDVI_2010009.tif"
       ]
      },
      {
       "output_type": "stream",
       "stream": "stdout",
       "text": [
        "\n",
        "D:\\Data\\NDVIanomalytimeseries//abs_NDVI_2010017.tif"
       ]
      },
      {
       "output_type": "stream",
       "stream": "stdout",
       "text": [
        "\n",
        "D:\\Data\\NDVIanomalytimeseries//abs_NDVI_2010025.tif"
       ]
      },
      {
       "output_type": "stream",
       "stream": "stdout",
       "text": [
        "\n",
        "D:\\Data\\NDVIanomalytimeseries//abs_NDVI_2010033.tif"
       ]
      },
      {
       "output_type": "stream",
       "stream": "stdout",
       "text": [
        "\n",
        "D:\\Data\\NDVIanomalytimeseries//abs_NDVI_2010041.tif"
       ]
      },
      {
       "output_type": "stream",
       "stream": "stdout",
       "text": [
        "\n",
        "D:\\Data\\NDVIanomalytimeseries//abs_NDVI_2010049.tif"
       ]
      },
      {
       "output_type": "stream",
       "stream": "stdout",
       "text": [
        "\n",
        "D:\\Data\\NDVIanomalytimeseries//abs_NDVI_2010057.tif"
       ]
      },
      {
       "output_type": "stream",
       "stream": "stdout",
       "text": [
        "\n",
        "D:\\Data\\NDVIanomalytimeseries//abs_NDVI_2010065.tif"
       ]
      },
      {
       "output_type": "stream",
       "stream": "stdout",
       "text": [
        "\n",
        "D:\\Data\\NDVIanomalytimeseries//abs_NDVI_2010073.tif"
       ]
      },
      {
       "output_type": "stream",
       "stream": "stdout",
       "text": [
        "\n",
        "D:\\Data\\NDVIanomalytimeseries//abs_NDVI_2010081.tif"
       ]
      },
      {
       "output_type": "stream",
       "stream": "stdout",
       "text": [
        "\n",
        "D:\\Data\\NDVIanomalytimeseries//abs_NDVI_2010089.tif"
       ]
      },
      {
       "output_type": "stream",
       "stream": "stdout",
       "text": [
        "\n",
        "D:\\Data\\NDVIanomalytimeseries//abs_NDVI_2010097.tif"
       ]
      },
      {
       "output_type": "stream",
       "stream": "stdout",
       "text": [
        "\n",
        "D:\\Data\\NDVIanomalytimeseries//abs_NDVI_2010105.tif"
       ]
      },
      {
       "output_type": "stream",
       "stream": "stdout",
       "text": [
        "\n",
        "D:\\Data\\NDVIanomalytimeseries//abs_NDVI_2010113.tif"
       ]
      },
      {
       "output_type": "stream",
       "stream": "stdout",
       "text": [
        "\n",
        "D:\\Data\\NDVIanomalytimeseries//abs_NDVI_2010121.tif"
       ]
      },
      {
       "output_type": "stream",
       "stream": "stdout",
       "text": [
        "\n",
        "D:\\Data\\NDVIanomalytimeseries//abs_NDVI_2010129.tif"
       ]
      },
      {
       "output_type": "stream",
       "stream": "stdout",
       "text": [
        "\n",
        "D:\\Data\\NDVIanomalytimeseries//abs_NDVI_2010137.tif"
       ]
      },
      {
       "output_type": "stream",
       "stream": "stdout",
       "text": [
        "\n",
        "D:\\Data\\NDVIanomalytimeseries//abs_NDVI_2010145.tif"
       ]
      },
      {
       "output_type": "stream",
       "stream": "stdout",
       "text": [
        "\n",
        "D:\\Data\\NDVIanomalytimeseries//abs_NDVI_2010153.tif"
       ]
      },
      {
       "output_type": "stream",
       "stream": "stdout",
       "text": [
        "\n",
        "D:\\Data\\NDVIanomalytimeseries//abs_NDVI_2010161.tif"
       ]
      },
      {
       "output_type": "stream",
       "stream": "stdout",
       "text": [
        "\n",
        "D:\\Data\\NDVIanomalytimeseries//abs_NDVI_2010169.tif"
       ]
      },
      {
       "output_type": "stream",
       "stream": "stdout",
       "text": [
        "\n",
        "D:\\Data\\NDVIanomalytimeseries//abs_NDVI_2010177.tif"
       ]
      },
      {
       "output_type": "stream",
       "stream": "stdout",
       "text": [
        "\n",
        "D:\\Data\\NDVIanomalytimeseries//abs_NDVI_2010185.tif"
       ]
      },
      {
       "output_type": "stream",
       "stream": "stdout",
       "text": [
        "\n",
        "D:\\Data\\NDVIanomalytimeseries//abs_NDVI_2010193.tif"
       ]
      },
      {
       "output_type": "stream",
       "stream": "stdout",
       "text": [
        "\n",
        "D:\\Data\\NDVIanomalytimeseries//abs_NDVI_2010201.tif"
       ]
      },
      {
       "output_type": "stream",
       "stream": "stdout",
       "text": [
        "\n",
        "D:\\Data\\NDVIanomalytimeseries//abs_NDVI_2010209.tif"
       ]
      },
      {
       "output_type": "stream",
       "stream": "stdout",
       "text": [
        "\n",
        "D:\\Data\\NDVIanomalytimeseries//abs_NDVI_2010217.tif"
       ]
      },
      {
       "output_type": "stream",
       "stream": "stdout",
       "text": [
        "\n",
        "D:\\Data\\NDVIanomalytimeseries//abs_NDVI_2010225.tif"
       ]
      },
      {
       "output_type": "stream",
       "stream": "stdout",
       "text": [
        "\n",
        "D:\\Data\\NDVIanomalytimeseries//abs_NDVI_2010233.tif"
       ]
      },
      {
       "output_type": "stream",
       "stream": "stdout",
       "text": [
        "\n",
        "D:\\Data\\NDVIanomalytimeseries//abs_NDVI_2010241.tif"
       ]
      },
      {
       "output_type": "stream",
       "stream": "stdout",
       "text": [
        "\n",
        "D:\\Data\\NDVIanomalytimeseries//abs_NDVI_2010249.tif"
       ]
      },
      {
       "output_type": "stream",
       "stream": "stdout",
       "text": [
        "\n",
        "D:\\Data\\NDVIanomalytimeseries//abs_NDVI_2010257.tif"
       ]
      },
      {
       "output_type": "stream",
       "stream": "stdout",
       "text": [
        "\n",
        "D:\\Data\\NDVIanomalytimeseries//abs_NDVI_2010265.tif"
       ]
      },
      {
       "output_type": "stream",
       "stream": "stdout",
       "text": [
        "\n",
        "D:\\Data\\NDVIanomalytimeseries//abs_NDVI_2010273.tif"
       ]
      },
      {
       "output_type": "stream",
       "stream": "stdout",
       "text": [
        "\n",
        "D:\\Data\\NDVIanomalytimeseries//abs_NDVI_2010281.tif"
       ]
      },
      {
       "output_type": "stream",
       "stream": "stdout",
       "text": [
        "\n",
        "D:\\Data\\NDVIanomalytimeseries//abs_NDVI_2010289.tif"
       ]
      },
      {
       "output_type": "stream",
       "stream": "stdout",
       "text": [
        "\n",
        "D:\\Data\\NDVIanomalytimeseries//abs_NDVI_2010297.tif"
       ]
      },
      {
       "output_type": "stream",
       "stream": "stdout",
       "text": [
        "\n",
        "D:\\Data\\NDVIanomalytimeseries//abs_NDVI_2010305.tif"
       ]
      },
      {
       "output_type": "stream",
       "stream": "stdout",
       "text": [
        "\n",
        "D:\\Data\\NDVIanomalytimeseries//abs_NDVI_2010313.tif"
       ]
      },
      {
       "output_type": "stream",
       "stream": "stdout",
       "text": [
        "\n",
        "D:\\Data\\NDVIanomalytimeseries//abs_NDVI_2010321.tif"
       ]
      },
      {
       "output_type": "stream",
       "stream": "stdout",
       "text": [
        "\n",
        "D:\\Data\\NDVIanomalytimeseries//abs_NDVI_2010329.tif"
       ]
      },
      {
       "output_type": "stream",
       "stream": "stdout",
       "text": [
        "\n",
        "D:\\Data\\NDVIanomalytimeseries//abs_NDVI_2010337.tif"
       ]
      },
      {
       "output_type": "stream",
       "stream": "stdout",
       "text": [
        "\n",
        "D:\\Data\\NDVIanomalytimeseries//abs_NDVI_2010345.tif"
       ]
      },
      {
       "output_type": "stream",
       "stream": "stdout",
       "text": [
        "\n",
        "D:\\Data\\NDVIanomalytimeseries//abs_NDVI_2010353.tif"
       ]
      },
      {
       "output_type": "stream",
       "stream": "stdout",
       "text": [
        "\n",
        "D:\\Data\\NDVIanomalytimeseries//abs_NDVI_2010361.tif"
       ]
      },
      {
       "output_type": "stream",
       "stream": "stdout",
       "text": [
        "\n"
       ]
      }
     ],
     "prompt_number": 84
    },
    {
     "cell_type": "code",
     "collapsed": false,
     "input": [
      "out.max()"
     ],
     "language": "python",
     "metadata": {},
     "outputs": [
      {
       "metadata": {},
       "output_type": "pyout",
       "prompt_number": 80,
       "text": [
        "0.80819999948740007"
       ]
      }
     ],
     "prompt_number": 80
    },
    {
     "cell_type": "code",
     "collapsed": false,
     "input": [
      "ndvi_files = []\n",
      "sm_files = []\n",
      "for i in _ndvi_files:\n",
      "    for j in _sm_files:\n",
      "        if i[-11:-4] == j[-11:-4]:\n",
      "            ndvi_files.append(i)\n",
      "            sm_files.append(j)\n",
      "if len(ndvi_files) == len(sm_files):\n",
      "    print ('ok, next')"
     ],
     "language": "python",
     "metadata": {},
     "outputs": []
    },
    {
     "cell_type": "code",
     "collapsed": false,
     "input": [
      "outArray = np.empty([100, 6163])\n",
      "len(outArray)"
     ],
     "language": "python",
     "metadata": {},
     "outputs": []
    },
    {
     "cell_type": "code",
     "collapsed": false,
     "input": [
      "# Get info\n",
      "#rows = 2400\n",
      "raster = gdal.Open(ndvi0, gdal.GA_ReadOnly)\n",
      "XSize = raster.RasterXSize\n",
      "\n",
      "# Set arrays\n",
      "arr_NDVI = np.empty([len(ndvi_files),XSize])\n",
      "arr_SM = np.empty([len(sm_files),XSize])\n",
      "\n",
      "outArray = np.empty([3537, 6163])\n",
      "\n",
      "for row in range(len(outArray)):\n",
      "    print(row)\n",
      "    \n",
      "    for i in range(len(ndvi_files)):\n",
      "        #print (i)\n",
      "        path = ndvi_files[i]\n",
      "        #print (path)\n",
      "        raster = gdal.Open(path, gdal.GA_ReadOnly)\n",
      "        band = raster.GetRasterBand(1)\n",
      "        arr_NDVI[i] = band.ReadAsArray(0,row,XSize,1)\n",
      "        \n",
      "    for i in range(len(sm_files)):\n",
      "        #print (i)\n",
      "        path = sm_files[i]\n",
      "        #print (path)\n",
      "        raster = gdal.Open(path, gdal.GA_ReadOnly)\n",
      "        band = raster.GetRasterBand(1)\n",
      "        arr_SM[i] = band.ReadAsArray(0,row,XSize,1)\n",
      "    \n",
      "    arr_SM2 = arr_SM.T\n",
      "    meanSM = arr_SM2.mean(axis=1)\n",
      "    meanSM = meanSM[:,None]\n",
      "    stdSM = arr_SM2.std(axis=1)\n",
      "    stdSM = stdSM[:,None]\n",
      "    SMmean = arr_SM2 - meanSM\n",
      "    SMnorm = SMmean / stdSM\n",
      "    \n",
      "    arr_NDVI2 = arr_NDVI.T\n",
      "    meanNDVI = arr_NDVI2.mean(axis=1)\n",
      "    meanNDVI = meanNDVI[:,None]\n",
      "    stdNDVI = arr_NDVI2.std(axis=1)\n",
      "    stdNDVI = stdNDVI[:,None]\n",
      "    NDVImean = arr_NDVI2 - meanNDVI\n",
      "    NDVInorm = NDVImean / stdNDVI    \n",
      "    \n",
      "    xcorr = correlate1(SMnorm, NDVInorm)\n",
      "    \n",
      "    c = np.empty_like(xcorr[:,1])\n",
      "    for j in range (len(xcorr)):\n",
      "        #print (j)\n",
      "        c[j] = peak(xcorr,j)\n",
      "    \n",
      "    outArray[row] = c\n",
      "    #print (arrRow, ' finish')    "
     ],
     "language": "python",
     "metadata": {},
     "outputs": []
    },
    {
     "cell_type": "code",
     "collapsed": false,
     "input": [
      "figsize(24,10)\n",
      "plt.imshow(outArray)\n",
      "plt.colorbar()"
     ],
     "language": "python",
     "metadata": {},
     "outputs": []
    },
    {
     "cell_type": "code",
     "collapsed": false,
     "input": [
      "plt.imshow(outArray)\n",
      "plt.colorbar()"
     ],
     "language": "python",
     "metadata": {},
     "outputs": []
    },
    {
     "cell_type": "code",
     "collapsed": false,
     "input": [
      "print  (len(arr_NDVI))\n",
      "#arr_SM_2 = arr_SM[::2]\n",
      "column = 3400\n",
      "plt.plot(arr_SM[:,column])\n",
      "plt.plot(arr_NDVI[:,column])"
     ],
     "language": "python",
     "metadata": {},
     "outputs": []
    },
    {
     "cell_type": "code",
     "collapsed": false,
     "input": [
      "arr_SM2 = arr_SM.T\n",
      "meanSM = arr_SM2.mean(axis=1)\n",
      "meanSM = meanSM[:,None]\n",
      "stdSM = arr_SM2.std(axis=1)\n",
      "stdSM = stdSM[:,None]\n",
      "SMmean = arr_SM2 - meanSM\n",
      "SMnorm = SMmean / stdSM\n",
      "#SMnorm[5079]\n",
      "SMnorm.shape\n",
      "#plt.plot(SMnorm.T)"
     ],
     "language": "python",
     "metadata": {},
     "outputs": []
    },
    {
     "cell_type": "code",
     "collapsed": false,
     "input": [
      "arr_NDVI2 = arr_NDVI.T\n",
      "meanNDVI = arr_NDVI2.mean(axis=1)\n",
      "meanNDVI = meanNDVI[:,None]\n",
      "stdNDVI = arr_NDVI2.std(axis=1)\n",
      "stdNDVI = stdNDVI[:,None]\n",
      "NDVImean = arr_NDVI2 - meanNDVI\n",
      "NDVInorm = NDVImean / stdNDVI\n",
      "#NDVInorm[5079]\n",
      "NDVInorm.shape#len(NDVInorm)#plt.plot(NDVInorm.T)"
     ],
     "language": "python",
     "metadata": {},
     "outputs": []
    },
    {
     "cell_type": "code",
     "collapsed": false,
     "input": [
      "plt.plot(NDVInorm[column])\n",
      "plt.plot(SMnorm[column])         "
     ],
     "language": "python",
     "metadata": {},
     "outputs": []
    },
    {
     "cell_type": "code",
     "collapsed": false,
     "input": [
      "xcorr = np.correlate(SMnorm[column],NDVInorm[column], mode='same')\n",
      "plt.plot(xcorr)"
     ],
     "language": "python",
     "metadata": {},
     "outputs": []
    },
    {
     "cell_type": "code",
     "collapsed": false,
     "input": [
      "xcorr = correlate1(SMnorm, NDVInorm)"
     ],
     "language": "python",
     "metadata": {},
     "outputs": []
    },
    {
     "cell_type": "code",
     "collapsed": false,
     "input": [
      "c = np.empty_like(xcorr[:,1])\n",
      "for j in range (len(xcorr)):\n",
      "    #print (j)\n",
      "    c[j] = peak(xcorr,j)"
     ],
     "language": "python",
     "metadata": {},
     "outputs": []
    },
    {
     "cell_type": "code",
     "collapsed": false,
     "input": [
      "q = c[0:6150].reshape(123,50)\n",
      "\n",
      "plt.imshow(q)\n",
      "plt.colorbar()"
     ],
     "language": "python",
     "metadata": {},
     "outputs": []
    },
    {
     "cell_type": "code",
     "collapsed": false,
     "input": [
      "figsize(24,10)\n",
      "i = 3400\n",
      "v = xcorr\n",
      "\n",
      "def peak(ccf,i):\n",
      "    _max, _min = peakdet(ccf[i],0.003)\n",
      "    if len(_max) != 0: # check if ccf has values \n",
      "        if len(_max) == 1:\n",
      "            x = _max[0][0]\n",
      "        elif _max[0][0] != 0: # select first peak if peak is not at index[0] \n",
      "            x = _max[0][0]\n",
      "        else:\n",
      "            x = _max[4][0]\n",
      "    else:\n",
      "        x = np.nan \n",
      "    return x, _max\n",
      "\n",
      "x, q = peak(v,i)\n",
      "plt.plot(v[i]/40, ':')\n",
      "plt.plot(NDVInorm[i], '-')\n",
      "plt.plot(SMnorm[i], '--')\n",
      "\n",
      "# roll\n",
      "roll = NDVInorm[i]*100000\n",
      "roll = roll.astype(int)\n",
      "x = x.astype(int)\n",
      "shift = np.roll(roll, x)\n",
      "shift = shift.astype(float)\n",
      "shift /= 100000\n",
      "plt.plot(shift, 'm-')\n",
      "\n",
      "scatter(array(q)[:,0], array(q)[:,1]/40, color='red')\n",
      "plt.legend(['ccf','ndvi','sm','ndvi-shift','peaks'])\n",
      "#def jj(_max):    \n",
      "\n",
      "print (x)    "
     ],
     "language": "python",
     "metadata": {},
     "outputs": []
    },
    {
     "cell_type": "code",
     "collapsed": false,
     "input": [
      "nq = q.shape[-1]\n",
      "q_fft = np.fft.fft(q, )#n=2*nq)"
     ],
     "language": "python",
     "metadata": {},
     "outputs": []
    },
    {
     "cell_type": "code",
     "collapsed": false,
     "input": [
      "plt.plot(abs(q_fft.real)**2)"
     ],
     "language": "python",
     "metadata": {},
     "outputs": []
    },
    {
     "cell_type": "code",
     "collapsed": false,
     "input": [
      "shift"
     ],
     "language": "python",
     "metadata": {},
     "outputs": []
    },
    {
     "cell_type": "code",
     "collapsed": false,
     "input": [
      "#plt.plot(v)\n",
      "plt.plot(NDVInorm[i], '--')\n",
      "plt.plot(SMnorm[i])"
     ],
     "language": "python",
     "metadata": {},
     "outputs": []
    },
    {
     "cell_type": "code",
     "collapsed": false,
     "input": [
      "%timeit _max, _min = peakdet(v,.03)"
     ],
     "language": "python",
     "metadata": {},
     "outputs": []
    },
    {
     "cell_type": "code",
     "collapsed": false,
     "input": [
      "def jj(_max):    \n",
      "    if _max[0][0] != 0:\n",
      "        x = _max[0][0]\n",
      "    else:\n",
      "        x = _max[1][0]"
     ],
     "language": "python",
     "metadata": {},
     "outputs": []
    },
    {
     "cell_type": "code",
     "collapsed": false,
     "input": [
      "%timeit jj(_max)"
     ],
     "language": "python",
     "metadata": {},
     "outputs": []
    },
    {
     "cell_type": "code",
     "collapsed": false,
     "input": [
      "series = [0,0,0,2,0,0,0,-2,0,0,0,2,0,0,0,-2,0]\n",
      "maxtab, mintab = peakdet(series,.3)\n",
      "plot(series)\n",
      "scatter(array(maxtab)[:,0], array(maxtab)[:,1], color='blue')\n",
      "scatter(array(mintab)[:,0], array(mintab)[:,1], color='red')"
     ],
     "language": "python",
     "metadata": {},
     "outputs": []
    },
    {
     "cell_type": "code",
     "collapsed": false,
     "input": [],
     "language": "python",
     "metadata": {},
     "outputs": []
    }
   ],
   "metadata": {}
  }
 ]
}