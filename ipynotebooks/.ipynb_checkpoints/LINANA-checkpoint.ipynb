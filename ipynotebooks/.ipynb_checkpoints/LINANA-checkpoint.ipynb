{
 "metadata": {
  "name": ""
 },
 "nbformat": 3,
 "nbformat_minor": 0,
 "worksheets": [
  {
   "cells": [
    {
     "cell_type": "code",
     "collapsed": false,
     "input": [
      "RasterPath = r'D:\\Downloads\\Linana@Mattijn\\test//G0_yingke200903UTC_albers_5km_daily_heihesub-.tif'\n",
      "#ShapefilePath = r'D:\\Downloads\\LiZhangsheng@Mattijn\\geo_boundary//heihe'\n",
      "ShapefilePath = r'D:\\Downloads\\Linana@Mattijn\\heihe_upmiddownstreamboundary//heihe_upmiddownstream'\n",
      "OutFolder = r'D:\\Downloads\\Mattijn@Linana//'\n",
      "Prefix = 'Rijst41'\n",
      "TitlePlot = 'Text Plot Title'\n",
      "LegendDescription = 'Description Legend (%)'"
     ],
     "language": "python",
     "metadata": {},
     "outputs": [],
     "prompt_number": 47
    },
    {
     "cell_type": "code",
     "collapsed": false,
     "input": [
      "from mpl_toolkits.basemap import Basemap\n",
      "from osgeo import osr, gdal\n",
      "import matplotlib.pyplot as plt\n",
      "import numpy as np\n",
      "print ('modules loaded')"
     ],
     "language": "python",
     "metadata": {},
     "outputs": [
      {
       "output_type": "stream",
       "stream": "stdout",
       "text": [
        "modules loaded\n"
       ]
      }
     ],
     "prompt_number": 31
    },
    {
     "cell_type": "code",
     "collapsed": false,
     "input": [
      "def convertXY(xy_source, inproj, outproj):\n",
      "    # function to convert coordinates\n",
      "\n",
      "    shape = xy_source[0,:,:].shape\n",
      "    size = xy_source[0,:,:].size\n",
      "\n",
      "    # the ct object takes and returns pairs of x,y, not 2d grids\n",
      "    # so the the grid needs to be reshaped (flattened) and back.\n",
      "    ct = osr.CoordinateTransformation(inproj, outproj)\n",
      "    xy_target = np.array(ct.TransformPoints(xy_source.reshape(2, size).T))\n",
      "\n",
      "    xx = xy_target[:,0].reshape(shape)\n",
      "    yy = xy_target[:,1].reshape(shape)\n",
      "\n",
      "    return xx, yy"
     ],
     "language": "python",
     "metadata": {},
     "outputs": [],
     "prompt_number": 38
    },
    {
     "cell_type": "code",
     "collapsed": false,
     "input": [
      "# Read the data and metadata\n",
      "ds = gdal.Open(RasterPath)\n",
      "#band = ds.GetRasterBand(20)\n",
      "\n",
      "data = ds.ReadAsArray()\n",
      "gt = ds.GetGeoTransform()\n",
      "proj = ds.GetProjection()\n",
      "\n",
      "xres = gt[1]\n",
      "yres = gt[5]\n",
      "\n",
      "# get the edge coordinates and add half the resolution \n",
      "# to go to center coordinates\n",
      "xmin = gt[0] + xres * 0.5\n",
      "xmax = gt[0] + (xres * ds.RasterXSize) - xres * 0.5\n",
      "ymin = gt[3] + (yres * ds.RasterYSize) + yres * 0.5\n",
      "ymax = gt[3] - yres * 0.5\n",
      "\n",
      "x = ds.RasterXSize \n",
      "y = ds.RasterYSize  \n",
      "extent = [ gt[0],gt[0]+x*gt[1], gt[3],gt[3]+y*gt[5]]\n",
      "#ds = None\n",
      "\n",
      "# create a grid of xy coordinates in the original projection\n",
      "xy_source = np.mgrid[xmin:xmax+xres:xres, ymax+yres:ymin:yres]"
     ],
     "language": "python",
     "metadata": {},
     "outputs": [],
     "prompt_number": 39
    },
    {
     "cell_type": "code",
     "collapsed": false,
     "input": [
      "print ('boundary coordinates map\\n',gt)"
     ],
     "language": "python",
     "metadata": {},
     "outputs": [
      {
       "output_type": "stream",
       "stream": "stdout",
       "text": [
        "boundary coordinates map\n",
        " (190425.8243, 5000.0, 0.0, 1500257.0112, 0.0, -5000.0)\n"
       ]
      }
     ],
     "prompt_number": 40
    },
    {
     "cell_type": "code",
     "collapsed": false,
     "input": [
      "# Create the figure and basemap object\n",
      "fig = plt.figure(figsize=(10, 10))\n",
      "#ax = plt.subplot(111)\n",
      "\n",
      "#m = Basemap(projection='robin', lon_0=0, resolution='c')\n",
      "width_x = (extent[1]-extent[0])*1.3\n",
      "height_y = (extent[2]-extent[3])*1.1\n",
      "\n",
      "m = Basemap(projection='aea', resolution='c', width = width_x , height = height_y, lat_0=40.2,lon_0=99.6,)\n",
      "\n",
      "# Create the projection objects for the conversion\n",
      "# original (Albers)\n",
      "inproj = osr.SpatialReference()\n",
      "inproj.ImportFromWkt(proj)\n",
      "\n",
      "# Get the target projection from the basemap object\n",
      "outproj = osr.SpatialReference()\n",
      "outproj.ImportFromProj4(m.proj4string)\n",
      "\n",
      "# Convert from source projection to basemap projection\n",
      "xx, yy = convertXY(xy_source, inproj, outproj)\n",
      "\n",
      "\n",
      "# plot the data (first layer)\n",
      "\n",
      "#v = np.linspace(data.min(), data.max(), 5, endpoint=True) # min max for each day\n",
      "\n",
      "for i in range(ds.RasterCount):    \n",
      "    v = np.linspace(data[i].min(), data[i].max(),  5, endpoint=True) # min max for each hour\n",
      "    \n",
      "    im1 = m.pcolormesh(xx, yy, data[i,:,:].T, cmap=plt.cm.jet) # data[0,:,:] select band here\n",
      "    m.colorbar(im1, location='bottom', ticks=v, pad='6%').set_label(LegendDescription)\n",
      "    plt.title(TitlePlot+' hour '+str(i), fontsize=29)\n",
      "\n",
      "    # annotate\n",
      "    m.readshapefile(ShapefilePath, 'shp', drawbounds=True, )\n",
      "    m.drawmeridians(np.arange(98,103,1), linewidth=.2, labels=[1,0,0,1], labelstyle='+/-', color='grey' ) \n",
      "    m.drawparallels(np.arange(37,43,1), linewidth=.2, labels=[1,0,0,1], labelstyle='+/-', color='grey')\n",
      "    m.drawmapboundary(linewidth=0.5, color='grey')\n",
      "    ToPath = OutFolder+Prefix+'_band'+str(i+1)\n",
      "    plt.savefig(ToPath, dpi=200)\n",
      "    fig.clf()\n",
      "    print (ToPath+ ' - OK')"
     ],
     "language": "python",
     "metadata": {},
     "outputs": [
      {
       "output_type": "stream",
       "stream": "stdout",
       "text": [
        "D:\\Downloads\\Mattijn@Linana//Rijst41_band1 - OK\n",
        "D:\\Downloads\\Mattijn@Linana//Rijst41_band2 - OK"
       ]
      },
      {
       "output_type": "stream",
       "stream": "stdout",
       "text": [
        "\n",
        "D:\\Downloads\\Mattijn@Linana//Rijst41_band3 - OK"
       ]
      },
      {
       "output_type": "stream",
       "stream": "stdout",
       "text": [
        "\n",
        "D:\\Downloads\\Mattijn@Linana//Rijst41_band4 - OK"
       ]
      },
      {
       "output_type": "stream",
       "stream": "stdout",
       "text": [
        "\n",
        "D:\\Downloads\\Mattijn@Linana//Rijst41_band5 - OK"
       ]
      },
      {
       "output_type": "stream",
       "stream": "stdout",
       "text": [
        "\n",
        "D:\\Downloads\\Mattijn@Linana//Rijst41_band6 - OK"
       ]
      },
      {
       "output_type": "stream",
       "stream": "stdout",
       "text": [
        "\n",
        "D:\\Downloads\\Mattijn@Linana//Rijst41_band7 - OK"
       ]
      },
      {
       "output_type": "stream",
       "stream": "stdout",
       "text": [
        "\n",
        "D:\\Downloads\\Mattijn@Linana//Rijst41_band8 - OK"
       ]
      },
      {
       "output_type": "stream",
       "stream": "stdout",
       "text": [
        "\n",
        "D:\\Downloads\\Mattijn@Linana//Rijst41_band9 - OK"
       ]
      },
      {
       "output_type": "stream",
       "stream": "stdout",
       "text": [
        "\n",
        "D:\\Downloads\\Mattijn@Linana//Rijst41_band10 - OK"
       ]
      },
      {
       "output_type": "stream",
       "stream": "stdout",
       "text": [
        "\n",
        "D:\\Downloads\\Mattijn@Linana//Rijst41_band11 - OK"
       ]
      },
      {
       "output_type": "stream",
       "stream": "stdout",
       "text": [
        "\n",
        "D:\\Downloads\\Mattijn@Linana//Rijst41_band12 - OK"
       ]
      },
      {
       "output_type": "stream",
       "stream": "stdout",
       "text": [
        "\n",
        "D:\\Downloads\\Mattijn@Linana//Rijst41_band13 - OK"
       ]
      },
      {
       "output_type": "stream",
       "stream": "stdout",
       "text": [
        "\n",
        "D:\\Downloads\\Mattijn@Linana//Rijst41_band14 - OK"
       ]
      },
      {
       "output_type": "stream",
       "stream": "stdout",
       "text": [
        "\n",
        "D:\\Downloads\\Mattijn@Linana//Rijst41_band15 - OK"
       ]
      },
      {
       "output_type": "stream",
       "stream": "stdout",
       "text": [
        "\n",
        "D:\\Downloads\\Mattijn@Linana//Rijst41_band16 - OK"
       ]
      },
      {
       "output_type": "stream",
       "stream": "stdout",
       "text": [
        "\n",
        "D:\\Downloads\\Mattijn@Linana//Rijst41_band17 - OK"
       ]
      },
      {
       "output_type": "stream",
       "stream": "stdout",
       "text": [
        "\n",
        "D:\\Downloads\\Mattijn@Linana//Rijst41_band18 - OK"
       ]
      },
      {
       "output_type": "stream",
       "stream": "stdout",
       "text": [
        "\n",
        "D:\\Downloads\\Mattijn@Linana//Rijst41_band19 - OK"
       ]
      },
      {
       "output_type": "stream",
       "stream": "stdout",
       "text": [
        "\n",
        "D:\\Downloads\\Mattijn@Linana//Rijst41_band20 - OK"
       ]
      },
      {
       "output_type": "stream",
       "stream": "stdout",
       "text": [
        "\n",
        "D:\\Downloads\\Mattijn@Linana//Rijst41_band21 - OK"
       ]
      },
      {
       "output_type": "stream",
       "stream": "stdout",
       "text": [
        "\n",
        "D:\\Downloads\\Mattijn@Linana//Rijst41_band22 - OK"
       ]
      },
      {
       "output_type": "stream",
       "stream": "stdout",
       "text": [
        "\n",
        "D:\\Downloads\\Mattijn@Linana//Rijst41_band23 - OK"
       ]
      },
      {
       "output_type": "stream",
       "stream": "stdout",
       "text": [
        "\n",
        "D:\\Downloads\\Mattijn@Linana//Rijst41_band24 - OK"
       ]
      },
      {
       "output_type": "stream",
       "stream": "stdout",
       "text": [
        "\n"
       ]
      },
      {
       "metadata": {},
       "output_type": "display_data",
       "text": [
        "<matplotlib.figure.Figure at 0x90f25c0>"
       ]
      }
     ],
     "prompt_number": 53
    },
    {
     "cell_type": "code",
     "collapsed": false,
     "input": [],
     "language": "python",
     "metadata": {},
     "outputs": []
    }
   ],
   "metadata": {}
  }
 ]
}