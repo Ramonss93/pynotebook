{
 "metadata": {
  "name": ""
 },
 "nbformat": 3,
 "nbformat_minor": 0,
 "worksheets": [
  {
   "cells": [
    {
     "cell_type": "markdown",
     "metadata": {},
     "source": [
      "Load some modules"
     ]
    },
    {
     "cell_type": "code",
     "collapsed": false,
     "input": [
      "import numpy as np\n",
      "import pandas as pd\n",
      "from scipy.spatial import cKDTree as KDTree"
     ],
     "language": "python",
     "metadata": {},
     "outputs": [],
     "prompt_number": 10
    },
    {
     "cell_type": "markdown",
     "metadata": {},
     "source": [
      "Load elevation data, load coordinates (in meters), load some information of station data nearby. Create a KDTree with the coordinates of the station and create an empty output array for the results"
     ]
    },
    {
     "cell_type": "code",
     "collapsed": false,
     "input": [
      "# Load data\n",
      "dem = np.load(r'D:\\GitHub\\pynotebook\\idata//dem.npy')\n",
      "xy = np.load(r'D:\\GitHub\\pynotebook\\idata//xy.npy')\n",
      "df = pd.read_csv(r'D:\\GitHub\\pynotebook\\idata//stationdata.csv')\n",
      "\n",
      "# Create KDTree\n",
      "tree = KDTree(df.ix[:,3:5], leafsize=11)\n",
      "outarr = np.empty(dem.shape)\n",
      "\n",
      "print (dem, xy, df)"
     ],
     "language": "python",
     "metadata": {},
     "outputs": [],
     "prompt_number": 11
    },
    {
     "cell_type": "markdown",
     "metadata": {},
     "source": [
      "Function selects 8 nearest neighbours for each coordinate. Then it fits a multiple linear regression using the x, y and z as predictior variables and the desired variable as the dependent variable. With these coefficients it adjust the desired variable at each station to the location of the prediction point. The adjusted values are then averaged using inverse-distance-squared weights to calculate the desired variable. The model can be expressed as follows:"
     ]
    },
    {
     "cell_type": "markdown",
     "metadata": {},
     "source": [
      "\\begin{equation*} DV_p =  \\sum_{i=1}^n (1/d_i)^2)^{-1} * \\sum_{i=1}^n((DV_i + b_1(Long_p - Long_i)+b_2(Lat_p-Lat_i)+b_3(h_p-h_i)) *(1/d_i)^2) \\end{equation*}"
     ]
    },
    {
     "cell_type": "code",
     "collapsed": false,
     "input": [
      "def func(xy_coord):\n",
      "    # Apply a KDTree search to select 8 nearest stations\n",
      "    dist_tree_real, ix_tree_real = tree.query(xy_coord, k=8, eps=0, p=1)\n",
      "    df_sel = df.ix[ix_tree_real]\n",
      "    \n",
      "    # Solve multi-linear regression\n",
      "    M = np.vstack((np.ones(len(df_sel['POINT_X'])),df_sel['POINT_X'], df_sel['POINT_Y'],df_sel['Elev'])).T\n",
      "    b1,b2,b3 = np.linalg.lstsq(M,df_sel['TEMP'])[0][1:4]\n",
      "    \n",
      "    # Compute formula\n",
      "    return sum( (1/dist_tree_real)**2)**-1 * sum((df_sel['TEMP'] + (b1*(xy_coord[0] - df_sel['POINT_X'])) + \n",
      "                                                  (b2*(xy_coord[1]-df_sel['POINT_Y'])) + (b3*(dem[index]-df_sel['Elev']))) * \n",
      "                                                 (1/dist_tree_real)**2)"
     ],
     "language": "python",
     "metadata": {},
     "outputs": [],
     "prompt_number": 12
    },
    {
     "cell_type": "markdown",
     "metadata": {},
     "source": [
      "By using enumeration compute the interpolated value for each of the values based on the coordinates array"
     ]
    },
    {
     "cell_type": "code",
     "collapsed": false,
     "input": [
      "for index, coord in enumerate(xy):    \n",
      "    outarr[index] = func(coord)"
     ],
     "language": "python",
     "metadata": {},
     "outputs": [],
     "prompt_number": 13
    },
    {
     "cell_type": "markdown",
     "metadata": {},
     "source": [
      "Output example"
     ]
    },
    {
     "cell_type": "code",
     "collapsed": false,
     "input": [
      "outarr"
     ],
     "language": "python",
     "metadata": {},
     "outputs": [
      {
       "metadata": {},
       "output_type": "pyout",
       "prompt_number": 14,
       "text": [
        "array([ -499.24287422,  -540.28111668,  -512.43789349,  -589.75389439,\n",
        "        -411.65598912,  -233.1779803 , -1249.63803291,  -232.4924416 ,\n",
        "        -273.3978919 ,  -289.35240473])"
       ]
      }
     ],
     "prompt_number": 14
    }
   ],
   "metadata": {}
  }
 ]
}