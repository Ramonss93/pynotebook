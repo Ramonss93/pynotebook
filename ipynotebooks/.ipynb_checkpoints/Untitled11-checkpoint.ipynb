{
 "metadata": {
  "name": ""
 },
 "nbformat": 3,
 "nbformat_minor": 0,
 "worksheets": [
  {
   "cells": [
    {
     "cell_type": "markdown",
     "metadata": {},
     "source": [
      "Downlad the toy example data <a href=\"https://github.com/mattijn/pynotebook/blob/master/idata/yeah.zip\">here</a>"
     ]
    },
    {
     "cell_type": "markdown",
     "metadata": {},
     "source": [
      "Load some modules"
     ]
    },
    {
     "cell_type": "code",
     "collapsed": false,
     "input": [
      "import numpy as np\n",
      "import pandas as pd\n",
      "from scipy.spatial import cKDTree as KDTree\n",
      "from scipy.interpolate import Rbf"
     ],
     "language": "python",
     "metadata": {},
     "outputs": [],
     "prompt_number": 1
    },
    {
     "cell_type": "markdown",
     "metadata": {},
     "source": [
      "Load elevation data, load coordinates (in meters), load some information of station data nearby. Create a KDTree with the coordinates of the station and create an empty output array for the results"
     ]
    },
    {
     "cell_type": "code",
     "collapsed": false,
     "input": [
      "# Load data\n",
      "dem = np.load(r'D:\\GitHub\\pynotebook\\idata//dem.npy')\n",
      "xy = np.load(r'D:\\GitHub\\pynotebook\\idata//xy.npy')\n",
      "df = pd.read_csv(r'D:\\GitHub\\pynotebook\\idata//stationdata.csv')\n",
      "\n",
      "# Create KDTree\n",
      "tree = KDTree(df.ix[:,3:5], leafsize=11)\n",
      "outarr = np.empty(dem.shape)\n",
      "dem *= -1\n",
      "print ('xy values\\n',xy)\n",
      "print ('z values\\n',dem)\n",
      "df"
     ],
     "language": "python",
     "metadata": {},
     "outputs": [
      {
       "output_type": "stream",
       "stream": "stdout",
       "text": [
        "xy values\n",
        " [[ 5050000.  2550000.]\n",
        " [ 5150000.  2600000.]\n",
        " [ 5250000.  2650000.]\n",
        " [ 5350000.  2700000.]\n",
        " [ 5450000.  2750000.]\n",
        " [ 5550000.  2800000.]\n",
        " [ 5650000.  2850000.]\n",
        " [ 5750000.  2900000.]\n",
        " [ 5850000.  2950000.]\n",
        " [ 5950000.  3000000.]]\n",
        "z values\n",
        " [ 455.  490.  466.  532.  436.  275.  937.  290.  396.  459.]\n"
       ]
      },
      {
       "html": [
        "<div style=\"max-height:1000px;max-width:1500px;overflow:auto;\">\n",
        "<table border=\"1\" class=\"dataframe\">\n",
        "  <thead>\n",
        "    <tr style=\"text-align: right;\">\n",
        "      <th></th>\n",
        "      <th>Station</th>\n",
        "      <th>TEMP</th>\n",
        "      <th>Elev</th>\n",
        "      <th>POINT_X</th>\n",
        "      <th>POINT_Y</th>\n",
        "    </tr>\n",
        "  </thead>\n",
        "  <tbody>\n",
        "    <tr>\n",
        "      <th>0 </th>\n",
        "      <td> 50136</td>\n",
        "      <td>-1045.000000</td>\n",
        "      <td> 433.0</td>\n",
        "      <td> 5473928.503</td>\n",
        "      <td> 3209653.795</td>\n",
        "    </tr>\n",
        "    <tr>\n",
        "      <th>1 </th>\n",
        "      <td> 50246</td>\n",
        "      <td> -940.416667</td>\n",
        "      <td> 361.9</td>\n",
        "      <td> 5621191.187</td>\n",
        "      <td> 3199563.174</td>\n",
        "    </tr>\n",
        "    <tr>\n",
        "      <th>2 </th>\n",
        "      <td> 50349</td>\n",
        "      <td>-1003.750000</td>\n",
        "      <td> 494.6</td>\n",
        "      <td> 5626513.511</td>\n",
        "      <td> 3108424.145</td>\n",
        "    </tr>\n",
        "    <tr>\n",
        "      <th>3 </th>\n",
        "      <td> 50353</td>\n",
        "      <td> -863.333333</td>\n",
        "      <td> 177.4</td>\n",
        "      <td> 5770514.642</td>\n",
        "      <td> 3144551.515</td>\n",
        "    </tr>\n",
        "    <tr>\n",
        "      <th>4 </th>\n",
        "      <td> 50425</td>\n",
        "      <td> -441.250000</td>\n",
        "      <td> 581.4</td>\n",
        "      <td> 5382630.523</td>\n",
        "      <td> 2908127.877</td>\n",
        "    </tr>\n",
        "    <tr>\n",
        "      <th>5 </th>\n",
        "      <td> 50434</td>\n",
        "      <td> -777.500000</td>\n",
        "      <td> 732.6</td>\n",
        "      <td> 5467613.916</td>\n",
        "      <td> 2941348.606</td>\n",
        "    </tr>\n",
        "    <tr>\n",
        "      <th>6 </th>\n",
        "      <td> 50442</td>\n",
        "      <td> -844.583333</td>\n",
        "      <td> 371.7</td>\n",
        "      <td> 5648287.259</td>\n",
        "      <td> 2974749.295</td>\n",
        "    </tr>\n",
        "    <tr>\n",
        "      <th>7 </th>\n",
        "      <td> 50468</td>\n",
        "      <td> -717.083333</td>\n",
        "      <td> 166.4</td>\n",
        "      <td> 5865502.005</td>\n",
        "      <td> 3017634.508</td>\n",
        "    </tr>\n",
        "    <tr>\n",
        "      <th>8 </th>\n",
        "      <td> 50514</td>\n",
        "      <td> -806.250000</td>\n",
        "      <td> 661.7</td>\n",
        "      <td> 5203646.235</td>\n",
        "      <td> 2781576.216</td>\n",
        "    </tr>\n",
        "    <tr>\n",
        "      <th>9 </th>\n",
        "      <td> 50527</td>\n",
        "      <td> -408.333333</td>\n",
        "      <td> 610.2</td>\n",
        "      <td> 5359169.346</td>\n",
        "      <td> 2784110.946</td>\n",
        "    </tr>\n",
        "    <tr>\n",
        "      <th>10</th>\n",
        "      <td> 50548</td>\n",
        "      <td> -764.166667</td>\n",
        "      <td> 286.1</td>\n",
        "      <td> 5633412.356</td>\n",
        "      <td> 2839046.236</td>\n",
        "    </tr>\n",
        "    <tr>\n",
        "      <th>11</th>\n",
        "      <td> 50557</td>\n",
        "      <td> -477.500000</td>\n",
        "      <td> 242.2</td>\n",
        "      <td> 5751009.737</td>\n",
        "      <td> 2864036.782</td>\n",
        "    </tr>\n",
        "    <tr>\n",
        "      <th>12</th>\n",
        "      <td> 50564</td>\n",
        "      <td> -634.166667</td>\n",
        "      <td> 234.5</td>\n",
        "      <td> 5887461.864</td>\n",
        "      <td> 2917406.670</td>\n",
        "    </tr>\n",
        "    <tr>\n",
        "      <th>13</th>\n",
        "      <td> 50603</td>\n",
        "      <td> -405.833333</td>\n",
        "      <td> 554.2</td>\n",
        "      <td> 5167195.972</td>\n",
        "      <td> 2665659.939</td>\n",
        "    </tr>\n",
        "    <tr>\n",
        "      <th>14</th>\n",
        "      <td> 50618</td>\n",
        "      <td> -293.333333</td>\n",
        "      <td> 642.0</td>\n",
        "      <td> 5289627.033</td>\n",
        "      <td> 2654087.139</td>\n",
        "    </tr>\n",
        "    <tr>\n",
        "      <th>15</th>\n",
        "      <td> 50632</td>\n",
        "      <td> -660.416667</td>\n",
        "      <td> 739.7</td>\n",
        "      <td> 5519613.514</td>\n",
        "      <td> 2736504.101</td>\n",
        "    </tr>\n",
        "    <tr>\n",
        "      <th>16</th>\n",
        "      <td> 50639</td>\n",
        "      <td> -546.250000</td>\n",
        "      <td> 306.5</td>\n",
        "      <td> 5592637.469</td>\n",
        "      <td> 2697348.444</td>\n",
        "    </tr>\n",
        "    <tr>\n",
        "      <th>17</th>\n",
        "      <td> 50656</td>\n",
        "      <td> -277.083333</td>\n",
        "      <td> 269.7</td>\n",
        "      <td> 5857254.291</td>\n",
        "      <td> 2779403.828</td>\n",
        "    </tr>\n",
        "    <tr>\n",
        "      <th>18</th>\n",
        "      <td> 50658</td>\n",
        "      <td> -192.083333</td>\n",
        "      <td> 234.6</td>\n",
        "      <td> 5807139.622</td>\n",
        "      <td> 2750191.686</td>\n",
        "    </tr>\n",
        "    <tr>\n",
        "      <th>19</th>\n",
        "      <td> 50727</td>\n",
        "      <td> -187.500000</td>\n",
        "      <td> 997.2</td>\n",
        "      <td> 5409877.671</td>\n",
        "      <td> 2554057.420</td>\n",
        "    </tr>\n",
        "  </tbody>\n",
        "</table>\n",
        "</div>"
       ],
       "metadata": {},
       "output_type": "pyout",
       "prompt_number": 2,
       "text": [
        "    Station         TEMP   Elev      POINT_X      POINT_Y\n",
        "0     50136 -1045.000000  433.0  5473928.503  3209653.795\n",
        "1     50246  -940.416667  361.9  5621191.187  3199563.174\n",
        "2     50349 -1003.750000  494.6  5626513.511  3108424.145\n",
        "3     50353  -863.333333  177.4  5770514.642  3144551.515\n",
        "4     50425  -441.250000  581.4  5382630.523  2908127.877\n",
        "5     50434  -777.500000  732.6  5467613.916  2941348.606\n",
        "6     50442  -844.583333  371.7  5648287.259  2974749.295\n",
        "7     50468  -717.083333  166.4  5865502.005  3017634.508\n",
        "8     50514  -806.250000  661.7  5203646.235  2781576.216\n",
        "9     50527  -408.333333  610.2  5359169.346  2784110.946\n",
        "10    50548  -764.166667  286.1  5633412.356  2839046.236\n",
        "11    50557  -477.500000  242.2  5751009.737  2864036.782\n",
        "12    50564  -634.166667  234.5  5887461.864  2917406.670\n",
        "13    50603  -405.833333  554.2  5167195.972  2665659.939\n",
        "14    50618  -293.333333  642.0  5289627.033  2654087.139\n",
        "15    50632  -660.416667  739.7  5519613.514  2736504.101\n",
        "16    50639  -546.250000  306.5  5592637.469  2697348.444\n",
        "17    50656  -277.083333  269.7  5857254.291  2779403.828\n",
        "18    50658  -192.083333  234.6  5807139.622  2750191.686\n",
        "19    50727  -187.500000  997.2  5409877.671  2554057.420"
       ]
      }
     ],
     "prompt_number": 2
    },
    {
     "cell_type": "code",
     "collapsed": false,
     "input": [
      "dist, idx = tree.query(xy, k=8, eps=0, p=1)"
     ],
     "language": "python",
     "metadata": {},
     "outputs": [],
     "prompt_number": 4
    },
    {
     "cell_type": "code",
     "collapsed": false,
     "input": [
      "columns = [\"POINT_X\", \"POINT_Y\", \"Elev\", \"TEMP\"]"
     ],
     "language": "python",
     "metadata": {},
     "outputs": [],
     "prompt_number": 7
    },
    {
     "cell_type": "code",
     "collapsed": false,
     "input": [
      "px, py, elev, tmp = df[columns].values.T[:, idx]"
     ],
     "language": "python",
     "metadata": {},
     "outputs": [],
     "prompt_number": 16
    },
    {
     "cell_type": "code",
     "collapsed": false,
     "input": [
      "tmp = np.squeeze(tmp)"
     ],
     "language": "python",
     "metadata": {},
     "outputs": [],
     "prompt_number": 24
    },
    {
     "cell_type": "code",
     "collapsed": false,
     "input": [
      "one = ones_like(px)"
     ],
     "language": "python",
     "metadata": {},
     "outputs": [],
     "prompt_number": 27
    },
    {
     "cell_type": "code",
     "collapsed": false,
     "input": [
      "m = np.concatenate((one,px,py,elev), axis =-1)"
     ],
     "language": "python",
     "metadata": {},
     "outputs": [],
     "prompt_number": 29
    },
    {
     "cell_type": "code",
     "collapsed": false,
     "input": [
      "np.linalg.s"
     ],
     "language": "python",
     "metadata": {},
     "outputs": [
      {
       "metadata": {},
       "output_type": "pyout",
       "prompt_number": 35,
       "text": [
        "array([[  1.00000000e+00,   1.00000000e+00,   1.00000000e+00,\n",
        "          1.00000000e+00,   1.00000000e+00,   1.00000000e+00,\n",
        "          1.00000000e+00,   1.00000000e+00,   5.16719597e+06,\n",
        "          5.28962703e+06,   5.40987767e+06,   5.20364624e+06,\n",
        "          5.35916935e+06,   5.51961351e+06,   5.59263747e+06,\n",
        "          5.38263052e+06,   2.66565994e+06,   2.65408714e+06,\n",
        "          2.55405742e+06,   2.78157622e+06,   2.78411095e+06,\n",
        "          2.73650410e+06,   2.69734844e+06,   2.90812788e+06,\n",
        "          5.54200000e+02,   6.42000000e+02,   9.97200000e+02,\n",
        "          6.61700000e+02,   6.10200000e+02,   7.39700000e+02,\n",
        "          3.06500000e+02,   5.81400000e+02],\n",
        "       [  1.00000000e+00,   1.00000000e+00,   1.00000000e+00,\n",
        "          1.00000000e+00,   1.00000000e+00,   1.00000000e+00,\n",
        "          1.00000000e+00,   1.00000000e+00,   5.16719597e+06,\n",
        "          5.28962703e+06,   5.20364624e+06,   5.40987767e+06,\n",
        "          5.35916935e+06,   5.51961351e+06,   5.59263747e+06,\n",
        "          5.38263052e+06,   2.66565994e+06,   2.65408714e+06,\n",
        "          2.78157622e+06,   2.55405742e+06,   2.78411095e+06,\n",
        "          2.73650410e+06,   2.69734844e+06,   2.90812788e+06,\n",
        "          5.54200000e+02,   6.42000000e+02,   6.61700000e+02,\n",
        "          9.97200000e+02,   6.10200000e+02,   7.39700000e+02,\n",
        "          3.06500000e+02,   5.81400000e+02],\n",
        "       [  1.00000000e+00,   1.00000000e+00,   1.00000000e+00,\n",
        "          1.00000000e+00,   1.00000000e+00,   1.00000000e+00,\n",
        "          1.00000000e+00,   1.00000000e+00,   5.28962703e+06,\n",
        "          5.16719597e+06,   5.20364624e+06,   5.35916935e+06,\n",
        "          5.40987767e+06,   5.51961351e+06,   5.59263747e+06,\n",
        "          5.38263052e+06,   2.65408714e+06,   2.66565994e+06,\n",
        "          2.78157622e+06,   2.78411095e+06,   2.55405742e+06,\n",
        "          2.73650410e+06,   2.69734844e+06,   2.90812788e+06,\n",
        "          6.42000000e+02,   5.54200000e+02,   6.61700000e+02,\n",
        "          6.10200000e+02,   9.97200000e+02,   7.39700000e+02,\n",
        "          3.06500000e+02,   5.81400000e+02],\n",
        "       [  1.00000000e+00,   1.00000000e+00,   1.00000000e+00,\n",
        "          1.00000000e+00,   1.00000000e+00,   1.00000000e+00,\n",
        "          1.00000000e+00,   1.00000000e+00,   5.35916935e+06,\n",
        "          5.28962703e+06,   5.40987767e+06,   5.51961351e+06,\n",
        "          5.16719597e+06,   5.20364624e+06,   5.38263052e+06,\n",
        "          5.59263747e+06,   2.78411095e+06,   2.65408714e+06,\n",
        "          2.55405742e+06,   2.73650410e+06,   2.66565994e+06,\n",
        "          2.78157622e+06,   2.90812788e+06,   2.69734844e+06,\n",
        "          6.10200000e+02,   6.42000000e+02,   9.97200000e+02,\n",
        "          7.39700000e+02,   5.54200000e+02,   6.61700000e+02,\n",
        "          5.81400000e+02,   3.06500000e+02],\n",
        "       [  1.00000000e+00,   1.00000000e+00,   1.00000000e+00,\n",
        "          1.00000000e+00,   1.00000000e+00,   1.00000000e+00,\n",
        "          1.00000000e+00,   1.00000000e+00,   5.51961351e+06,\n",
        "          5.35916935e+06,   5.59263747e+06,   5.46761392e+06,\n",
        "          5.38263052e+06,   5.40987767e+06,   5.28962703e+06,\n",
        "          5.63341236e+06,   2.73650410e+06,   2.78411095e+06,\n",
        "          2.69734844e+06,   2.94134861e+06,   2.90812788e+06,\n",
        "          2.55405742e+06,   2.65408714e+06,   2.83904624e+06,\n",
        "          7.39700000e+02,   6.10200000e+02,   3.06500000e+02,\n",
        "          7.32600000e+02,   5.81400000e+02,   9.97200000e+02,\n",
        "          6.42000000e+02,   2.86100000e+02],\n",
        "       [  1.00000000e+00,   1.00000000e+00,   1.00000000e+00,\n",
        "          1.00000000e+00,   1.00000000e+00,   1.00000000e+00,\n",
        "          1.00000000e+00,   1.00000000e+00,   5.51961351e+06,\n",
        "          5.63341236e+06,   5.59263747e+06,   5.35916935e+06,\n",
        "          5.46761392e+06,   5.75100974e+06,   5.64828726e+06,\n",
        "          5.38263052e+06,   2.73650410e+06,   2.83904624e+06,\n",
        "          2.69734844e+06,   2.78411095e+06,   2.94134861e+06,\n",
        "          2.86403678e+06,   2.97474929e+06,   2.90812788e+06,\n",
        "          7.39700000e+02,   2.86100000e+02,   3.06500000e+02,\n",
        "          6.10200000e+02,   7.32600000e+02,   2.42200000e+02,\n",
        "          3.71700000e+02,   5.81400000e+02],\n",
        "       [  1.00000000e+00,   1.00000000e+00,   1.00000000e+00,\n",
        "          1.00000000e+00,   1.00000000e+00,   1.00000000e+00,\n",
        "          1.00000000e+00,   1.00000000e+00,   5.63341236e+06,\n",
        "          5.75100974e+06,   5.64828726e+06,   5.59263747e+06,\n",
        "          5.51961351e+06,   5.80713962e+06,   5.46761392e+06,\n",
        "          5.85725429e+06,   2.83904624e+06,   2.86403678e+06,\n",
        "          2.97474929e+06,   2.69734844e+06,   2.73650410e+06,\n",
        "          2.75019169e+06,   2.94134861e+06,   2.77940383e+06,\n",
        "          2.86100000e+02,   2.42200000e+02,   3.71700000e+02,\n",
        "          3.06500000e+02,   7.39700000e+02,   2.34600000e+02,\n",
        "          7.32600000e+02,   2.69700000e+02],\n",
        "       [  1.00000000e+00,   1.00000000e+00,   1.00000000e+00,\n",
        "          1.00000000e+00,   1.00000000e+00,   1.00000000e+00,\n",
        "          1.00000000e+00,   1.00000000e+00,   5.75100974e+06,\n",
        "          5.88746186e+06,   5.64828726e+06,   5.63341236e+06,\n",
        "          5.80713962e+06,   5.85725429e+06,   5.86550200e+06,\n",
        "          5.77051464e+06,   2.86403678e+06,   2.91740667e+06,\n",
        "          2.97474929e+06,   2.83904624e+06,   2.75019169e+06,\n",
        "          2.77940383e+06,   3.01763451e+06,   3.14455152e+06,\n",
        "          2.42200000e+02,   2.34500000e+02,   3.71700000e+02,\n",
        "          2.86100000e+02,   2.34600000e+02,   2.69700000e+02,\n",
        "          1.66400000e+02,   1.77400000e+02],\n",
        "       [  1.00000000e+00,   1.00000000e+00,   1.00000000e+00,\n",
        "          1.00000000e+00,   1.00000000e+00,   1.00000000e+00,\n",
        "          1.00000000e+00,   1.00000000e+00,   5.88746186e+06,\n",
        "          5.86550200e+06,   5.85725429e+06,   5.75100974e+06,\n",
        "          5.64828726e+06,   5.80713962e+06,   5.77051464e+06,\n",
        "          5.63341236e+06,   2.91740667e+06,   3.01763451e+06,\n",
        "          2.77940383e+06,   2.86403678e+06,   2.97474929e+06,\n",
        "          2.75019169e+06,   3.14455152e+06,   2.83904624e+06,\n",
        "          2.34500000e+02,   1.66400000e+02,   2.69700000e+02,\n",
        "          2.42200000e+02,   3.71700000e+02,   2.34600000e+02,\n",
        "          1.77400000e+02,   2.86100000e+02],\n",
        "       [  1.00000000e+00,   1.00000000e+00,   1.00000000e+00,\n",
        "          1.00000000e+00,   1.00000000e+00,   1.00000000e+00,\n",
        "          1.00000000e+00,   1.00000000e+00,   5.86550200e+06,\n",
        "          5.88746186e+06,   5.85725429e+06,   5.77051464e+06,\n",
        "          5.64828726e+06,   5.75100974e+06,   5.80713962e+06,\n",
        "          5.62651351e+06,   3.01763451e+06,   2.91740667e+06,\n",
        "          2.77940383e+06,   3.14455152e+06,   2.97474929e+06,\n",
        "          2.86403678e+06,   2.75019169e+06,   3.10842415e+06,\n",
        "          1.66400000e+02,   2.34500000e+02,   2.69700000e+02,\n",
        "          1.77400000e+02,   3.71700000e+02,   2.42200000e+02,\n",
        "          2.34600000e+02,   4.94600000e+02]])"
       ]
      }
     ],
     "prompt_number": 35
    },
    {
     "cell_type": "code",
     "collapsed": false,
     "input": [
      "np.einsum(\"ijx,ijy->ixy\", m, m)"
     ],
     "language": "python",
     "metadata": {},
     "outputs": [
      {
       "ename": "ValueError",
       "evalue": "einstein sum subscripts string contains too many subscripts for operand 0",
       "output_type": "pyerr",
       "traceback": [
        "\u001b[1;31m---------------------------------------------------------------------------\u001b[0m\n\u001b[1;31mValueError\u001b[0m                                Traceback (most recent call last)",
        "\u001b[1;32m<ipython-input-30-b227ba6dc426>\u001b[0m in \u001b[0;36m<module>\u001b[1;34m()\u001b[0m\n\u001b[1;32m----> 1\u001b[1;33m \u001b[0mnp\u001b[0m\u001b[1;33m.\u001b[0m\u001b[0meinsum\u001b[0m\u001b[1;33m(\u001b[0m\u001b[1;34m\"ijx,ijy->ixy\"\u001b[0m\u001b[1;33m,\u001b[0m \u001b[0mm\u001b[0m\u001b[1;33m,\u001b[0m \u001b[0mm\u001b[0m\u001b[1;33m)\u001b[0m\u001b[1;33m\u001b[0m\u001b[0m\n\u001b[0m",
        "\u001b[1;31mValueError\u001b[0m: einstein sum subscripts string contains too many subscripts for operand 0"
       ]
      }
     ],
     "prompt_number": 30
    },
    {
     "cell_type": "code",
     "collapsed": false,
     "input": [
      "np.__version__"
     ],
     "language": "python",
     "metadata": {},
     "outputs": [
      {
       "metadata": {},
       "output_type": "pyout",
       "prompt_number": 31,
       "text": [
        "'1.7.1'"
       ]
      }
     ],
     "prompt_number": 31
    },
    {
     "cell_type": "code",
     "collapsed": false,
     "input": [
      "a = np.arange(25).reshape(5,5)\n",
      "b = np.arange(5)\n",
      "c = np.arange(6).reshape(2,3)"
     ],
     "language": "python",
     "metadata": {},
     "outputs": [],
     "prompt_number": 32
    },
    {
     "cell_type": "code",
     "collapsed": false,
     "input": [
      "a"
     ],
     "language": "python",
     "metadata": {},
     "outputs": [
      {
       "metadata": {},
       "output_type": "pyout",
       "prompt_number": 34,
       "text": [
        "array([[ 0,  1,  2,  3,  4],\n",
        "       [ 5,  6,  7,  8,  9],\n",
        "       [10, 11, 12, 13, 14],\n",
        "       [15, 16, 17, 18, 19],\n",
        "       [20, 21, 22, 23, 24]])"
       ]
      }
     ],
     "prompt_number": 34
    },
    {
     "cell_type": "code",
     "collapsed": false,
     "input": [
      "\n",
      "\n",
      ">>> np.einsum('ii', a)\n",
      "60\n",
      ">>> np.einsum(a, [0,0])\n",
      "60\n",
      ">>> np.trace(a)\n",
      "60\n",
      "\n",
      ">>> np.einsum('ii->i', a)\n",
      "array([ 0,  6, 12, 18, 24])\n",
      ">>> np.einsum(a, [0,0], [0])\n",
      "array([ 0,  6, 12, 18, 24])\n",
      ">>> np.diag(a)\n",
      "array([ 0,  6, 12, 18, 24])\n",
      "\n",
      ">>> np.einsum('ij,j', a, b)\n",
      "array([ 30,  80, 130, 180, 230])\n",
      ">>> np.einsum(a, [0,1], b, [1])\n",
      "array([ 30,  80, 130, 180, 230])\n",
      ">>> np.dot(a, b)\n",
      "array([ 30,  80, 130, 180, 230])\n",
      "\n",
      ">>> np.einsum('ji', c)\n",
      "array([[0, 3],\n",
      "       [1, 4],\n",
      "       [2, 5]])\n",
      ">>> np.einsum(c, [1,0])\n",
      "array([[0, 3],\n",
      "       [1, 4],\n",
      "       [2, 5]])\n",
      ">>> c.T\n",
      "array([[0, 3],\n",
      "       [1, 4],\n",
      "       [2, 5]])\n",
      "\n",
      ">>> np.einsum('..., ...', 3, c)\n",
      "array([[ 0,  3,  6],\n",
      "       [ 9, 12, 15]])\n",
      ">>> np.einsum(3, [Ellipsis], c, [Ellipsis])\n",
      "array([[ 0,  3,  6],\n",
      "       [ 9, 12, 15]])\n",
      ">>> np.multiply(3, c)\n",
      "array([[ 0,  3,  6],\n",
      "       [ 9, 12, 15]])\n",
      "\n",
      ">>> np.einsum('i,i', b, b)\n",
      "30\n",
      ">>> np.einsum(b, [0], b, [0])\n",
      "30\n",
      ">>> np.inner(b,b)\n",
      "30\n",
      "\n",
      ">>> np.einsum('i,j', np.arange(2)+1, b)\n",
      "array([[0, 1, 2, 3, 4],\n",
      "       [0, 2, 4, 6, 8]])\n",
      ">>> np.einsum(np.arange(2)+1, [0], b, [1])\n",
      "array([[0, 1, 2, 3, 4],\n",
      "       [0, 2, 4, 6, 8]])\n",
      ">>> np.outer(np.arange(2)+1, b)\n",
      "array([[0, 1, 2, 3, 4],\n",
      "       [0, 2, 4, 6, 8]])\n",
      "\n",
      ">>> np.einsum('i...->...', a)\n",
      "array([50, 55, 60, 65, 70])\n",
      ">>> np.einsum(a, [0,Ellipsis], [Ellipsis])\n",
      "array([50, 55, 60, 65, 70])\n",
      ">>> np.sum(a, axis=0)\n",
      "array([50, 55, 60, 65, 70])\n",
      "\n",
      ">>> a = np.arange(60.).reshape(3,4,5)\n",
      ">>> b = np.arange(24.).reshape(4,3,2)\n",
      ">>> np.einsum('ijk,jil->kl', a, b)\n",
      "array([[ 4400.,  4730.],\n",
      "       [ 4532.,  4874.],\n",
      "       [ 4664.,  5018.],\n",
      "       [ 4796.,  5162.],\n",
      "       [ 4928.,  5306.]])\n",
      ">>> np.einsum(a, [0,1,2], b, [1,0,3], [2,3])\n",
      "array([[ 4400.,  4730.],\n",
      "       [ 4532.,  4874.],\n",
      "       [ 4664.,  5018.],\n",
      "       [ 4796.,  5162.],\n",
      "       [ 4928.,  5306.]])\n",
      ">>> np.tensordot(a,b, axes=([1,0],[0,1]))\n",
      "array([[ 4400.,  4730.],\n",
      "       [ 4532.,  4874.],\n",
      "       [ 4664.,  5018.],\n",
      "       [ 4796.,  5162.],\n",
      "       [ 4928.,  5306.]])"
     ],
     "language": "python",
     "metadata": {},
     "outputs": []
    },
    {
     "cell_type": "code",
     "collapsed": false,
     "input": [],
     "language": "python",
     "metadata": {},
     "outputs": []
    },
    {
     "cell_type": "code",
     "collapsed": false,
     "input": [],
     "language": "python",
     "metadata": {},
     "outputs": []
    },
    {
     "cell_type": "code",
     "collapsed": false,
     "input": [],
     "language": "python",
     "metadata": {},
     "outputs": []
    },
    {
     "cell_type": "code",
     "collapsed": false,
     "input": [],
     "language": "python",
     "metadata": {},
     "outputs": []
    },
    {
     "cell_type": "code",
     "collapsed": false,
     "input": [
      "x = xy[:,0]\n",
      "y = xy[:,1]"
     ],
     "language": "python",
     "metadata": {},
     "outputs": [],
     "prompt_number": 27
    },
    {
     "cell_type": "code",
     "collapsed": false,
     "input": [
      "rbf = Rbf(df['POINT_X'],df['POINT_Y'],df['Elev'], df['TEMP'], )#x,y,dem)\n",
      "temp = rbf(x,y,dem)\n",
      "\n",
      "dist_tree_real, ix_tree_real = tree.query(xy, k=8, eps=0, p=1)"
     ],
     "language": "python",
     "metadata": {},
     "outputs": [],
     "prompt_number": 30
    },
    {
     "cell_type": "code",
     "collapsed": false,
     "input": [
      "temp"
     ],
     "language": "python",
     "metadata": {},
     "outputs": [
      {
       "metadata": {},
       "output_type": "pyout",
       "prompt_number": 29,
       "text": [
        "array([ 270.28141988,  -18.63907676, -279.92262809, -387.39943735,\n",
        "       -552.29579026, -793.22756774, -732.90158582, -519.30439864,\n",
        "       -598.91912018, -898.63884567])"
       ]
      }
     ],
     "prompt_number": 29
    },
    {
     "cell_type": "code",
     "collapsed": false,
     "input": [
      "[ix_tree_real]"
     ],
     "language": "python",
     "metadata": {},
     "outputs": [
      {
       "metadata": {},
       "output_type": "pyout",
       "prompt_number": 36,
       "text": [
        "[array([[13, 14, 19,  8,  9, 15, 16,  4],\n",
        "       [13, 14,  8, 19,  9, 15, 16,  4],\n",
        "       [14, 13,  8,  9, 19, 15, 16,  4],\n",
        "       [ 9, 14, 19, 15, 13,  8,  4, 16],\n",
        "       [15,  9, 16,  5,  4, 19, 14, 10],\n",
        "       [15, 10, 16,  9,  5, 11,  6,  4],\n",
        "       [10, 11,  6, 16, 15, 18,  5, 17],\n",
        "       [11, 12,  6, 10, 18, 17,  7,  3],\n",
        "       [12,  7, 17, 11,  6, 18,  3, 10],\n",
        "       [ 7, 12, 17,  3,  6, 11, 18,  2]])]"
       ]
      }
     ],
     "prompt_number": 36
    },
    {
     "cell_type": "code",
     "collapsed": false,
     "input": [],
     "language": "python",
     "metadata": {},
     "outputs": []
    },
    {
     "cell_type": "code",
     "collapsed": false,
     "input": [],
     "language": "python",
     "metadata": {},
     "outputs": []
    },
    {
     "cell_type": "code",
     "collapsed": false,
     "input": [],
     "language": "python",
     "metadata": {},
     "outputs": []
    },
    {
     "cell_type": "markdown",
     "metadata": {},
     "source": [
      "Function selects 8 nearest neighbours for each coordinate. Fits a multiple linear regression using the x, y and z as predictior variables and the desired variable as the dependent variable. Then apply a inverse-distance-squared weights to calculate the desired variable where the coefficients adjust each predictor variable. The model can be expressed as follows:"
     ]
    },
    {
     "cell_type": "markdown",
     "metadata": {},
     "source": [
      "\\begin{equation*}DV_p =  \\sum_{i=1}^n (1/d_i)^2)^{-1} * \\sum_{i=1}^n((DV_i + b_1(Long_p - Long_i)+b_2(Lat_p-Lat_i)+b_3(h_p-h_i)) *(1/d_i)^2)\\end{equation*}"
     ]
    },
    {
     "cell_type": "code",
     "collapsed": false,
     "input": [
      "def func(xy_coord):\n",
      "    # Apply a KDTree search to select 8 nearest stations\n",
      "    dist_tree_real, ix_tree_real = tree.query(xy_coord, k=8, eps=0, p=1)\n",
      "    df_sel = df.ix[ix_tree_real]\n",
      "    \n",
      "    # Solve multi-linear regression\n",
      "    M = np.vstack((np.ones(len(df_sel['POINT_X'])),df_sel['POINT_X'], df_sel['POINT_Y'],df_sel['Elev'])).T\n",
      "    b1,b2,b3 = np.linalg.lstsq(M,df_sel['TEMP'])[0][1:4]\n",
      "    \n",
      "    # Compute formula\n",
      "    return sum( (1/dist_tree_real)**2)**-1 * sum((df_sel['TEMP'] + (b1*(xy_coord[0] - df_sel['POINT_X'])) + \n",
      "                                                  (b2*(xy_coord[1]-df_sel['POINT_Y'])) + (b3*(dem[index]-df_sel['Elev']))) * \n",
      "                                                 (1/dist_tree_real)**2)"
     ],
     "language": "python",
     "metadata": {},
     "outputs": [],
     "prompt_number": 3
    },
    {
     "cell_type": "markdown",
     "metadata": {},
     "source": [
      "By using enumeration compute the interpolated value for each of the values based on the coordinates array"
     ]
    },
    {
     "cell_type": "code",
     "collapsed": false,
     "input": [
      "for index, coord in enumerate(xy):    \n",
      "    outarr[index] = func(coord)"
     ],
     "language": "python",
     "metadata": {},
     "outputs": [],
     "prompt_number": 4
    },
    {
     "cell_type": "markdown",
     "metadata": {},
     "source": [
      "Output example"
     ]
    },
    {
     "cell_type": "code",
     "collapsed": false,
     "input": [
      "outarr"
     ],
     "language": "python",
     "metadata": {},
     "outputs": [
      {
       "metadata": {},
       "output_type": "pyout",
       "prompt_number": 5,
       "text": [
        "array([ -499.24287422,  -540.28111668,  -512.43789349,  -589.75389439,\n",
        "        -411.65598912,  -233.1779803 , -1249.63803291,  -232.4924416 ,\n",
        "        -273.3978919 ,  -289.35240473])"
       ]
      }
     ],
     "prompt_number": 5
    }
   ],
   "metadata": {}
  }
 ]
}