{
 "metadata": {
  "name": ""
 },
 "nbformat": 3,
 "nbformat_minor": 0,
 "worksheets": [
  {
   "cells": [
    {
     "cell_type": "code",
     "collapsed": false,
     "input": [
      "from mattijn import dikkelul\n",
      "import os\n",
      "from osgeo import gdal, osr\n",
      "import numpy as np"
     ],
     "language": "python",
     "metadata": {},
     "outputs": [],
     "prompt_number": 7
    },
    {
     "cell_type": "code",
     "collapsed": false,
     "input": [
      "path = r'D:\\Data\\GPCP_doy8DayMean'\n",
      "files = dikkelul.FilesFolder(path, '.tif')"
     ],
     "language": "python",
     "metadata": {},
     "outputs": [],
     "prompt_number": 2
    },
    {
     "cell_type": "code",
     "collapsed": false,
     "input": [
      "files[46:-138]"
     ],
     "language": "python",
     "metadata": {},
     "outputs": [
      {
       "metadata": {},
       "output_type": "pyout",
       "prompt_number": 29,
       "text": [
        "['D:\\\\Data\\\\GPCP_doy8DayMean\\\\GPCP_2001001.tif',\n",
        " 'D:\\\\Data\\\\GPCP_doy8DayMean\\\\GPCP_2001009.tif',\n",
        " 'D:\\\\Data\\\\GPCP_doy8DayMean\\\\GPCP_2001017.tif',\n",
        " 'D:\\\\Data\\\\GPCP_doy8DayMean\\\\GPCP_2001025.tif',\n",
        " 'D:\\\\Data\\\\GPCP_doy8DayMean\\\\GPCP_2001033.tif',\n",
        " 'D:\\\\Data\\\\GPCP_doy8DayMean\\\\GPCP_2001041.tif',\n",
        " 'D:\\\\Data\\\\GPCP_doy8DayMean\\\\GPCP_2001049.tif',\n",
        " 'D:\\\\Data\\\\GPCP_doy8DayMean\\\\GPCP_2001057.tif',\n",
        " 'D:\\\\Data\\\\GPCP_doy8DayMean\\\\GPCP_2001065.tif',\n",
        " 'D:\\\\Data\\\\GPCP_doy8DayMean\\\\GPCP_2001073.tif',\n",
        " 'D:\\\\Data\\\\GPCP_doy8DayMean\\\\GPCP_2001081.tif',\n",
        " 'D:\\\\Data\\\\GPCP_doy8DayMean\\\\GPCP_2001089.tif',\n",
        " 'D:\\\\Data\\\\GPCP_doy8DayMean\\\\GPCP_2001097.tif',\n",
        " 'D:\\\\Data\\\\GPCP_doy8DayMean\\\\GPCP_2001105.tif',\n",
        " 'D:\\\\Data\\\\GPCP_doy8DayMean\\\\GPCP_2001113.tif',\n",
        " 'D:\\\\Data\\\\GPCP_doy8DayMean\\\\GPCP_2001121.tif',\n",
        " 'D:\\\\Data\\\\GPCP_doy8DayMean\\\\GPCP_2001129.tif',\n",
        " 'D:\\\\Data\\\\GPCP_doy8DayMean\\\\GPCP_2001137.tif',\n",
        " 'D:\\\\Data\\\\GPCP_doy8DayMean\\\\GPCP_2001145.tif',\n",
        " 'D:\\\\Data\\\\GPCP_doy8DayMean\\\\GPCP_2001153.tif',\n",
        " 'D:\\\\Data\\\\GPCP_doy8DayMean\\\\GPCP_2001161.tif',\n",
        " 'D:\\\\Data\\\\GPCP_doy8DayMean\\\\GPCP_2001169.tif',\n",
        " 'D:\\\\Data\\\\GPCP_doy8DayMean\\\\GPCP_2001177.tif',\n",
        " 'D:\\\\Data\\\\GPCP_doy8DayMean\\\\GPCP_2001185.tif',\n",
        " 'D:\\\\Data\\\\GPCP_doy8DayMean\\\\GPCP_2001193.tif',\n",
        " 'D:\\\\Data\\\\GPCP_doy8DayMean\\\\GPCP_2001201.tif',\n",
        " 'D:\\\\Data\\\\GPCP_doy8DayMean\\\\GPCP_2001209.tif',\n",
        " 'D:\\\\Data\\\\GPCP_doy8DayMean\\\\GPCP_2001217.tif',\n",
        " 'D:\\\\Data\\\\GPCP_doy8DayMean\\\\GPCP_2001225.tif',\n",
        " 'D:\\\\Data\\\\GPCP_doy8DayMean\\\\GPCP_2001233.tif',\n",
        " 'D:\\\\Data\\\\GPCP_doy8DayMean\\\\GPCP_2001241.tif',\n",
        " 'D:\\\\Data\\\\GPCP_doy8DayMean\\\\GPCP_2001249.tif',\n",
        " 'D:\\\\Data\\\\GPCP_doy8DayMean\\\\GPCP_2001257.tif',\n",
        " 'D:\\\\Data\\\\GPCP_doy8DayMean\\\\GPCP_2001265.tif',\n",
        " 'D:\\\\Data\\\\GPCP_doy8DayMean\\\\GPCP_2001273.tif',\n",
        " 'D:\\\\Data\\\\GPCP_doy8DayMean\\\\GPCP_2001281.tif',\n",
        " 'D:\\\\Data\\\\GPCP_doy8DayMean\\\\GPCP_2001289.tif',\n",
        " 'D:\\\\Data\\\\GPCP_doy8DayMean\\\\GPCP_2001297.tif',\n",
        " 'D:\\\\Data\\\\GPCP_doy8DayMean\\\\GPCP_2001305.tif',\n",
        " 'D:\\\\Data\\\\GPCP_doy8DayMean\\\\GPCP_2001313.tif',\n",
        " 'D:\\\\Data\\\\GPCP_doy8DayMean\\\\GPCP_2001321.tif',\n",
        " 'D:\\\\Data\\\\GPCP_doy8DayMean\\\\GPCP_2001329.tif',\n",
        " 'D:\\\\Data\\\\GPCP_doy8DayMean\\\\GPCP_2001337.tif',\n",
        " 'D:\\\\Data\\\\GPCP_doy8DayMean\\\\GPCP_2001345.tif',\n",
        " 'D:\\\\Data\\\\GPCP_doy8DayMean\\\\GPCP_2001353.tif',\n",
        " 'D:\\\\Data\\\\GPCP_doy8DayMean\\\\GPCP_2001361.tif',\n",
        " 'D:\\\\Data\\\\GPCP_doy8DayMean\\\\GPCP_2002001.tif',\n",
        " 'D:\\\\Data\\\\GPCP_doy8DayMean\\\\GPCP_2002009.tif',\n",
        " 'D:\\\\Data\\\\GPCP_doy8DayMean\\\\GPCP_2002017.tif',\n",
        " 'D:\\\\Data\\\\GPCP_doy8DayMean\\\\GPCP_2002025.tif',\n",
        " 'D:\\\\Data\\\\GPCP_doy8DayMean\\\\GPCP_2002033.tif',\n",
        " 'D:\\\\Data\\\\GPCP_doy8DayMean\\\\GPCP_2002041.tif',\n",
        " 'D:\\\\Data\\\\GPCP_doy8DayMean\\\\GPCP_2002049.tif',\n",
        " 'D:\\\\Data\\\\GPCP_doy8DayMean\\\\GPCP_2002057.tif',\n",
        " 'D:\\\\Data\\\\GPCP_doy8DayMean\\\\GPCP_2002065.tif',\n",
        " 'D:\\\\Data\\\\GPCP_doy8DayMean\\\\GPCP_2002073.tif',\n",
        " 'D:\\\\Data\\\\GPCP_doy8DayMean\\\\GPCP_2002081.tif',\n",
        " 'D:\\\\Data\\\\GPCP_doy8DayMean\\\\GPCP_2002089.tif',\n",
        " 'D:\\\\Data\\\\GPCP_doy8DayMean\\\\GPCP_2002097.tif',\n",
        " 'D:\\\\Data\\\\GPCP_doy8DayMean\\\\GPCP_2002105.tif',\n",
        " 'D:\\\\Data\\\\GPCP_doy8DayMean\\\\GPCP_2002113.tif',\n",
        " 'D:\\\\Data\\\\GPCP_doy8DayMean\\\\GPCP_2002121.tif',\n",
        " 'D:\\\\Data\\\\GPCP_doy8DayMean\\\\GPCP_2002129.tif',\n",
        " 'D:\\\\Data\\\\GPCP_doy8DayMean\\\\GPCP_2002137.tif',\n",
        " 'D:\\\\Data\\\\GPCP_doy8DayMean\\\\GPCP_2002145.tif',\n",
        " 'D:\\\\Data\\\\GPCP_doy8DayMean\\\\GPCP_2002153.tif',\n",
        " 'D:\\\\Data\\\\GPCP_doy8DayMean\\\\GPCP_2002161.tif',\n",
        " 'D:\\\\Data\\\\GPCP_doy8DayMean\\\\GPCP_2002169.tif',\n",
        " 'D:\\\\Data\\\\GPCP_doy8DayMean\\\\GPCP_2002177.tif',\n",
        " 'D:\\\\Data\\\\GPCP_doy8DayMean\\\\GPCP_2002185.tif',\n",
        " 'D:\\\\Data\\\\GPCP_doy8DayMean\\\\GPCP_2002193.tif',\n",
        " 'D:\\\\Data\\\\GPCP_doy8DayMean\\\\GPCP_2002201.tif',\n",
        " 'D:\\\\Data\\\\GPCP_doy8DayMean\\\\GPCP_2002209.tif',\n",
        " 'D:\\\\Data\\\\GPCP_doy8DayMean\\\\GPCP_2002217.tif',\n",
        " 'D:\\\\Data\\\\GPCP_doy8DayMean\\\\GPCP_2002225.tif',\n",
        " 'D:\\\\Data\\\\GPCP_doy8DayMean\\\\GPCP_2002233.tif',\n",
        " 'D:\\\\Data\\\\GPCP_doy8DayMean\\\\GPCP_2002241.tif',\n",
        " 'D:\\\\Data\\\\GPCP_doy8DayMean\\\\GPCP_2002249.tif',\n",
        " 'D:\\\\Data\\\\GPCP_doy8DayMean\\\\GPCP_2002257.tif',\n",
        " 'D:\\\\Data\\\\GPCP_doy8DayMean\\\\GPCP_2002265.tif',\n",
        " 'D:\\\\Data\\\\GPCP_doy8DayMean\\\\GPCP_2002273.tif',\n",
        " 'D:\\\\Data\\\\GPCP_doy8DayMean\\\\GPCP_2002281.tif',\n",
        " 'D:\\\\Data\\\\GPCP_doy8DayMean\\\\GPCP_2002289.tif',\n",
        " 'D:\\\\Data\\\\GPCP_doy8DayMean\\\\GPCP_2002297.tif',\n",
        " 'D:\\\\Data\\\\GPCP_doy8DayMean\\\\GPCP_2002305.tif',\n",
        " 'D:\\\\Data\\\\GPCP_doy8DayMean\\\\GPCP_2002313.tif',\n",
        " 'D:\\\\Data\\\\GPCP_doy8DayMean\\\\GPCP_2002321.tif',\n",
        " 'D:\\\\Data\\\\GPCP_doy8DayMean\\\\GPCP_2002329.tif',\n",
        " 'D:\\\\Data\\\\GPCP_doy8DayMean\\\\GPCP_2002337.tif',\n",
        " 'D:\\\\Data\\\\GPCP_doy8DayMean\\\\GPCP_2002345.tif',\n",
        " 'D:\\\\Data\\\\GPCP_doy8DayMean\\\\GPCP_2002353.tif',\n",
        " 'D:\\\\Data\\\\GPCP_doy8DayMean\\\\GPCP_2002361.tif',\n",
        " 'D:\\\\Data\\\\GPCP_doy8DayMean\\\\GPCP_2003001.tif',\n",
        " 'D:\\\\Data\\\\GPCP_doy8DayMean\\\\GPCP_2003009.tif',\n",
        " 'D:\\\\Data\\\\GPCP_doy8DayMean\\\\GPCP_2003017.tif',\n",
        " 'D:\\\\Data\\\\GPCP_doy8DayMean\\\\GPCP_2003025.tif',\n",
        " 'D:\\\\Data\\\\GPCP_doy8DayMean\\\\GPCP_2003033.tif',\n",
        " 'D:\\\\Data\\\\GPCP_doy8DayMean\\\\GPCP_2003041.tif',\n",
        " 'D:\\\\Data\\\\GPCP_doy8DayMean\\\\GPCP_2003049.tif',\n",
        " 'D:\\\\Data\\\\GPCP_doy8DayMean\\\\GPCP_2003057.tif',\n",
        " 'D:\\\\Data\\\\GPCP_doy8DayMean\\\\GPCP_2003065.tif',\n",
        " 'D:\\\\Data\\\\GPCP_doy8DayMean\\\\GPCP_2003073.tif',\n",
        " 'D:\\\\Data\\\\GPCP_doy8DayMean\\\\GPCP_2003081.tif',\n",
        " 'D:\\\\Data\\\\GPCP_doy8DayMean\\\\GPCP_2003089.tif',\n",
        " 'D:\\\\Data\\\\GPCP_doy8DayMean\\\\GPCP_2003097.tif',\n",
        " 'D:\\\\Data\\\\GPCP_doy8DayMean\\\\GPCP_2003105.tif',\n",
        " 'D:\\\\Data\\\\GPCP_doy8DayMean\\\\GPCP_2003113.tif',\n",
        " 'D:\\\\Data\\\\GPCP_doy8DayMean\\\\GPCP_2003121.tif',\n",
        " 'D:\\\\Data\\\\GPCP_doy8DayMean\\\\GPCP_2003129.tif',\n",
        " 'D:\\\\Data\\\\GPCP_doy8DayMean\\\\GPCP_2003137.tif',\n",
        " 'D:\\\\Data\\\\GPCP_doy8DayMean\\\\GPCP_2003145.tif',\n",
        " 'D:\\\\Data\\\\GPCP_doy8DayMean\\\\GPCP_2003153.tif',\n",
        " 'D:\\\\Data\\\\GPCP_doy8DayMean\\\\GPCP_2003161.tif',\n",
        " 'D:\\\\Data\\\\GPCP_doy8DayMean\\\\GPCP_2003169.tif',\n",
        " 'D:\\\\Data\\\\GPCP_doy8DayMean\\\\GPCP_2003177.tif',\n",
        " 'D:\\\\Data\\\\GPCP_doy8DayMean\\\\GPCP_2003185.tif',\n",
        " 'D:\\\\Data\\\\GPCP_doy8DayMean\\\\GPCP_2003193.tif',\n",
        " 'D:\\\\Data\\\\GPCP_doy8DayMean\\\\GPCP_2003201.tif',\n",
        " 'D:\\\\Data\\\\GPCP_doy8DayMean\\\\GPCP_2003209.tif',\n",
        " 'D:\\\\Data\\\\GPCP_doy8DayMean\\\\GPCP_2003217.tif',\n",
        " 'D:\\\\Data\\\\GPCP_doy8DayMean\\\\GPCP_2003225.tif',\n",
        " 'D:\\\\Data\\\\GPCP_doy8DayMean\\\\GPCP_2003233.tif',\n",
        " 'D:\\\\Data\\\\GPCP_doy8DayMean\\\\GPCP_2003241.tif',\n",
        " 'D:\\\\Data\\\\GPCP_doy8DayMean\\\\GPCP_2003249.tif',\n",
        " 'D:\\\\Data\\\\GPCP_doy8DayMean\\\\GPCP_2003257.tif',\n",
        " 'D:\\\\Data\\\\GPCP_doy8DayMean\\\\GPCP_2003265.tif',\n",
        " 'D:\\\\Data\\\\GPCP_doy8DayMean\\\\GPCP_2003273.tif',\n",
        " 'D:\\\\Data\\\\GPCP_doy8DayMean\\\\GPCP_2003281.tif',\n",
        " 'D:\\\\Data\\\\GPCP_doy8DayMean\\\\GPCP_2003289.tif',\n",
        " 'D:\\\\Data\\\\GPCP_doy8DayMean\\\\GPCP_2003297.tif',\n",
        " 'D:\\\\Data\\\\GPCP_doy8DayMean\\\\GPCP_2003305.tif',\n",
        " 'D:\\\\Data\\\\GPCP_doy8DayMean\\\\GPCP_2003313.tif',\n",
        " 'D:\\\\Data\\\\GPCP_doy8DayMean\\\\GPCP_2003321.tif',\n",
        " 'D:\\\\Data\\\\GPCP_doy8DayMean\\\\GPCP_2003329.tif',\n",
        " 'D:\\\\Data\\\\GPCP_doy8DayMean\\\\GPCP_2003337.tif',\n",
        " 'D:\\\\Data\\\\GPCP_doy8DayMean\\\\GPCP_2003345.tif',\n",
        " 'D:\\\\Data\\\\GPCP_doy8DayMean\\\\GPCP_2003353.tif',\n",
        " 'D:\\\\Data\\\\GPCP_doy8DayMean\\\\GPCP_2003361.tif',\n",
        " 'D:\\\\Data\\\\GPCP_doy8DayMean\\\\GPCP_2004001.tif',\n",
        " 'D:\\\\Data\\\\GPCP_doy8DayMean\\\\GPCP_2004009.tif',\n",
        " 'D:\\\\Data\\\\GPCP_doy8DayMean\\\\GPCP_2004017.tif',\n",
        " 'D:\\\\Data\\\\GPCP_doy8DayMean\\\\GPCP_2004025.tif',\n",
        " 'D:\\\\Data\\\\GPCP_doy8DayMean\\\\GPCP_2004033.tif',\n",
        " 'D:\\\\Data\\\\GPCP_doy8DayMean\\\\GPCP_2004041.tif',\n",
        " 'D:\\\\Data\\\\GPCP_doy8DayMean\\\\GPCP_2004049.tif',\n",
        " 'D:\\\\Data\\\\GPCP_doy8DayMean\\\\GPCP_2004057.tif',\n",
        " 'D:\\\\Data\\\\GPCP_doy8DayMean\\\\GPCP_2004065.tif',\n",
        " 'D:\\\\Data\\\\GPCP_doy8DayMean\\\\GPCP_2004073.tif',\n",
        " 'D:\\\\Data\\\\GPCP_doy8DayMean\\\\GPCP_2004081.tif',\n",
        " 'D:\\\\Data\\\\GPCP_doy8DayMean\\\\GPCP_2004089.tif',\n",
        " 'D:\\\\Data\\\\GPCP_doy8DayMean\\\\GPCP_2004097.tif',\n",
        " 'D:\\\\Data\\\\GPCP_doy8DayMean\\\\GPCP_2004105.tif',\n",
        " 'D:\\\\Data\\\\GPCP_doy8DayMean\\\\GPCP_2004113.tif',\n",
        " 'D:\\\\Data\\\\GPCP_doy8DayMean\\\\GPCP_2004121.tif',\n",
        " 'D:\\\\Data\\\\GPCP_doy8DayMean\\\\GPCP_2004129.tif',\n",
        " 'D:\\\\Data\\\\GPCP_doy8DayMean\\\\GPCP_2004137.tif',\n",
        " 'D:\\\\Data\\\\GPCP_doy8DayMean\\\\GPCP_2004145.tif',\n",
        " 'D:\\\\Data\\\\GPCP_doy8DayMean\\\\GPCP_2004153.tif',\n",
        " 'D:\\\\Data\\\\GPCP_doy8DayMean\\\\GPCP_2004161.tif',\n",
        " 'D:\\\\Data\\\\GPCP_doy8DayMean\\\\GPCP_2004169.tif',\n",
        " 'D:\\\\Data\\\\GPCP_doy8DayMean\\\\GPCP_2004177.tif',\n",
        " 'D:\\\\Data\\\\GPCP_doy8DayMean\\\\GPCP_2004185.tif',\n",
        " 'D:\\\\Data\\\\GPCP_doy8DayMean\\\\GPCP_2004193.tif',\n",
        " 'D:\\\\Data\\\\GPCP_doy8DayMean\\\\GPCP_2004201.tif',\n",
        " 'D:\\\\Data\\\\GPCP_doy8DayMean\\\\GPCP_2004209.tif',\n",
        " 'D:\\\\Data\\\\GPCP_doy8DayMean\\\\GPCP_2004217.tif',\n",
        " 'D:\\\\Data\\\\GPCP_doy8DayMean\\\\GPCP_2004225.tif',\n",
        " 'D:\\\\Data\\\\GPCP_doy8DayMean\\\\GPCP_2004233.tif',\n",
        " 'D:\\\\Data\\\\GPCP_doy8DayMean\\\\GPCP_2004241.tif',\n",
        " 'D:\\\\Data\\\\GPCP_doy8DayMean\\\\GPCP_2004249.tif',\n",
        " 'D:\\\\Data\\\\GPCP_doy8DayMean\\\\GPCP_2004257.tif',\n",
        " 'D:\\\\Data\\\\GPCP_doy8DayMean\\\\GPCP_2004265.tif',\n",
        " 'D:\\\\Data\\\\GPCP_doy8DayMean\\\\GPCP_2004273.tif',\n",
        " 'D:\\\\Data\\\\GPCP_doy8DayMean\\\\GPCP_2004281.tif',\n",
        " 'D:\\\\Data\\\\GPCP_doy8DayMean\\\\GPCP_2004289.tif',\n",
        " 'D:\\\\Data\\\\GPCP_doy8DayMean\\\\GPCP_2004297.tif',\n",
        " 'D:\\\\Data\\\\GPCP_doy8DayMean\\\\GPCP_2004305.tif',\n",
        " 'D:\\\\Data\\\\GPCP_doy8DayMean\\\\GPCP_2004313.tif',\n",
        " 'D:\\\\Data\\\\GPCP_doy8DayMean\\\\GPCP_2004321.tif',\n",
        " 'D:\\\\Data\\\\GPCP_doy8DayMean\\\\GPCP_2004329.tif',\n",
        " 'D:\\\\Data\\\\GPCP_doy8DayMean\\\\GPCP_2004337.tif',\n",
        " 'D:\\\\Data\\\\GPCP_doy8DayMean\\\\GPCP_2004345.tif',\n",
        " 'D:\\\\Data\\\\GPCP_doy8DayMean\\\\GPCP_2004353.tif',\n",
        " 'D:\\\\Data\\\\GPCP_doy8DayMean\\\\GPCP_2004361.tif',\n",
        " 'D:\\\\Data\\\\GPCP_doy8DayMean\\\\GPCP_2005001.tif',\n",
        " 'D:\\\\Data\\\\GPCP_doy8DayMean\\\\GPCP_2005009.tif',\n",
        " 'D:\\\\Data\\\\GPCP_doy8DayMean\\\\GPCP_2005017.tif',\n",
        " 'D:\\\\Data\\\\GPCP_doy8DayMean\\\\GPCP_2005025.tif',\n",
        " 'D:\\\\Data\\\\GPCP_doy8DayMean\\\\GPCP_2005033.tif',\n",
        " 'D:\\\\Data\\\\GPCP_doy8DayMean\\\\GPCP_2005041.tif',\n",
        " 'D:\\\\Data\\\\GPCP_doy8DayMean\\\\GPCP_2005049.tif',\n",
        " 'D:\\\\Data\\\\GPCP_doy8DayMean\\\\GPCP_2005057.tif',\n",
        " 'D:\\\\Data\\\\GPCP_doy8DayMean\\\\GPCP_2005065.tif',\n",
        " 'D:\\\\Data\\\\GPCP_doy8DayMean\\\\GPCP_2005073.tif',\n",
        " 'D:\\\\Data\\\\GPCP_doy8DayMean\\\\GPCP_2005081.tif',\n",
        " 'D:\\\\Data\\\\GPCP_doy8DayMean\\\\GPCP_2005089.tif',\n",
        " 'D:\\\\Data\\\\GPCP_doy8DayMean\\\\GPCP_2005097.tif',\n",
        " 'D:\\\\Data\\\\GPCP_doy8DayMean\\\\GPCP_2005105.tif',\n",
        " 'D:\\\\Data\\\\GPCP_doy8DayMean\\\\GPCP_2005113.tif',\n",
        " 'D:\\\\Data\\\\GPCP_doy8DayMean\\\\GPCP_2005121.tif',\n",
        " 'D:\\\\Data\\\\GPCP_doy8DayMean\\\\GPCP_2005129.tif',\n",
        " 'D:\\\\Data\\\\GPCP_doy8DayMean\\\\GPCP_2005137.tif',\n",
        " 'D:\\\\Data\\\\GPCP_doy8DayMean\\\\GPCP_2005145.tif',\n",
        " 'D:\\\\Data\\\\GPCP_doy8DayMean\\\\GPCP_2005153.tif',\n",
        " 'D:\\\\Data\\\\GPCP_doy8DayMean\\\\GPCP_2005161.tif',\n",
        " 'D:\\\\Data\\\\GPCP_doy8DayMean\\\\GPCP_2005169.tif',\n",
        " 'D:\\\\Data\\\\GPCP_doy8DayMean\\\\GPCP_2005177.tif',\n",
        " 'D:\\\\Data\\\\GPCP_doy8DayMean\\\\GPCP_2005185.tif',\n",
        " 'D:\\\\Data\\\\GPCP_doy8DayMean\\\\GPCP_2005193.tif',\n",
        " 'D:\\\\Data\\\\GPCP_doy8DayMean\\\\GPCP_2005201.tif',\n",
        " 'D:\\\\Data\\\\GPCP_doy8DayMean\\\\GPCP_2005209.tif',\n",
        " 'D:\\\\Data\\\\GPCP_doy8DayMean\\\\GPCP_2005217.tif',\n",
        " 'D:\\\\Data\\\\GPCP_doy8DayMean\\\\GPCP_2005225.tif',\n",
        " 'D:\\\\Data\\\\GPCP_doy8DayMean\\\\GPCP_2005233.tif',\n",
        " 'D:\\\\Data\\\\GPCP_doy8DayMean\\\\GPCP_2005241.tif',\n",
        " 'D:\\\\Data\\\\GPCP_doy8DayMean\\\\GPCP_2005249.tif',\n",
        " 'D:\\\\Data\\\\GPCP_doy8DayMean\\\\GPCP_2005257.tif',\n",
        " 'D:\\\\Data\\\\GPCP_doy8DayMean\\\\GPCP_2005265.tif',\n",
        " 'D:\\\\Data\\\\GPCP_doy8DayMean\\\\GPCP_2005273.tif',\n",
        " 'D:\\\\Data\\\\GPCP_doy8DayMean\\\\GPCP_2005281.tif',\n",
        " 'D:\\\\Data\\\\GPCP_doy8DayMean\\\\GPCP_2005289.tif',\n",
        " 'D:\\\\Data\\\\GPCP_doy8DayMean\\\\GPCP_2005297.tif',\n",
        " 'D:\\\\Data\\\\GPCP_doy8DayMean\\\\GPCP_2005305.tif',\n",
        " 'D:\\\\Data\\\\GPCP_doy8DayMean\\\\GPCP_2005313.tif',\n",
        " 'D:\\\\Data\\\\GPCP_doy8DayMean\\\\GPCP_2005321.tif',\n",
        " 'D:\\\\Data\\\\GPCP_doy8DayMean\\\\GPCP_2005329.tif',\n",
        " 'D:\\\\Data\\\\GPCP_doy8DayMean\\\\GPCP_2005337.tif',\n",
        " 'D:\\\\Data\\\\GPCP_doy8DayMean\\\\GPCP_2005345.tif',\n",
        " 'D:\\\\Data\\\\GPCP_doy8DayMean\\\\GPCP_2005353.tif',\n",
        " 'D:\\\\Data\\\\GPCP_doy8DayMean\\\\GPCP_2005361.tif',\n",
        " 'D:\\\\Data\\\\GPCP_doy8DayMean\\\\GPCP_2006001.tif',\n",
        " 'D:\\\\Data\\\\GPCP_doy8DayMean\\\\GPCP_2006009.tif',\n",
        " 'D:\\\\Data\\\\GPCP_doy8DayMean\\\\GPCP_2006017.tif',\n",
        " 'D:\\\\Data\\\\GPCP_doy8DayMean\\\\GPCP_2006025.tif',\n",
        " 'D:\\\\Data\\\\GPCP_doy8DayMean\\\\GPCP_2006033.tif',\n",
        " 'D:\\\\Data\\\\GPCP_doy8DayMean\\\\GPCP_2006041.tif',\n",
        " 'D:\\\\Data\\\\GPCP_doy8DayMean\\\\GPCP_2006049.tif',\n",
        " 'D:\\\\Data\\\\GPCP_doy8DayMean\\\\GPCP_2006057.tif',\n",
        " 'D:\\\\Data\\\\GPCP_doy8DayMean\\\\GPCP_2006065.tif',\n",
        " 'D:\\\\Data\\\\GPCP_doy8DayMean\\\\GPCP_2006073.tif',\n",
        " 'D:\\\\Data\\\\GPCP_doy8DayMean\\\\GPCP_2006081.tif',\n",
        " 'D:\\\\Data\\\\GPCP_doy8DayMean\\\\GPCP_2006089.tif',\n",
        " 'D:\\\\Data\\\\GPCP_doy8DayMean\\\\GPCP_2006097.tif',\n",
        " 'D:\\\\Data\\\\GPCP_doy8DayMean\\\\GPCP_2006105.tif',\n",
        " 'D:\\\\Data\\\\GPCP_doy8DayMean\\\\GPCP_2006113.tif',\n",
        " 'D:\\\\Data\\\\GPCP_doy8DayMean\\\\GPCP_2006121.tif',\n",
        " 'D:\\\\Data\\\\GPCP_doy8DayMean\\\\GPCP_2006129.tif',\n",
        " 'D:\\\\Data\\\\GPCP_doy8DayMean\\\\GPCP_2006137.tif',\n",
        " 'D:\\\\Data\\\\GPCP_doy8DayMean\\\\GPCP_2006145.tif',\n",
        " 'D:\\\\Data\\\\GPCP_doy8DayMean\\\\GPCP_2006153.tif',\n",
        " 'D:\\\\Data\\\\GPCP_doy8DayMean\\\\GPCP_2006161.tif',\n",
        " 'D:\\\\Data\\\\GPCP_doy8DayMean\\\\GPCP_2006169.tif',\n",
        " 'D:\\\\Data\\\\GPCP_doy8DayMean\\\\GPCP_2006177.tif',\n",
        " 'D:\\\\Data\\\\GPCP_doy8DayMean\\\\GPCP_2006185.tif',\n",
        " 'D:\\\\Data\\\\GPCP_doy8DayMean\\\\GPCP_2006193.tif',\n",
        " 'D:\\\\Data\\\\GPCP_doy8DayMean\\\\GPCP_2006201.tif',\n",
        " 'D:\\\\Data\\\\GPCP_doy8DayMean\\\\GPCP_2006209.tif',\n",
        " 'D:\\\\Data\\\\GPCP_doy8DayMean\\\\GPCP_2006217.tif',\n",
        " 'D:\\\\Data\\\\GPCP_doy8DayMean\\\\GPCP_2006225.tif',\n",
        " 'D:\\\\Data\\\\GPCP_doy8DayMean\\\\GPCP_2006233.tif',\n",
        " 'D:\\\\Data\\\\GPCP_doy8DayMean\\\\GPCP_2006241.tif',\n",
        " 'D:\\\\Data\\\\GPCP_doy8DayMean\\\\GPCP_2006249.tif',\n",
        " 'D:\\\\Data\\\\GPCP_doy8DayMean\\\\GPCP_2006257.tif',\n",
        " 'D:\\\\Data\\\\GPCP_doy8DayMean\\\\GPCP_2006265.tif',\n",
        " 'D:\\\\Data\\\\GPCP_doy8DayMean\\\\GPCP_2006273.tif',\n",
        " 'D:\\\\Data\\\\GPCP_doy8DayMean\\\\GPCP_2006281.tif',\n",
        " 'D:\\\\Data\\\\GPCP_doy8DayMean\\\\GPCP_2006289.tif',\n",
        " 'D:\\\\Data\\\\GPCP_doy8DayMean\\\\GPCP_2006297.tif',\n",
        " 'D:\\\\Data\\\\GPCP_doy8DayMean\\\\GPCP_2006305.tif',\n",
        " 'D:\\\\Data\\\\GPCP_doy8DayMean\\\\GPCP_2006313.tif',\n",
        " 'D:\\\\Data\\\\GPCP_doy8DayMean\\\\GPCP_2006321.tif',\n",
        " 'D:\\\\Data\\\\GPCP_doy8DayMean\\\\GPCP_2006329.tif',\n",
        " 'D:\\\\Data\\\\GPCP_doy8DayMean\\\\GPCP_2006337.tif',\n",
        " 'D:\\\\Data\\\\GPCP_doy8DayMean\\\\GPCP_2006345.tif',\n",
        " 'D:\\\\Data\\\\GPCP_doy8DayMean\\\\GPCP_2006353.tif',\n",
        " 'D:\\\\Data\\\\GPCP_doy8DayMean\\\\GPCP_2006361.tif',\n",
        " 'D:\\\\Data\\\\GPCP_doy8DayMean\\\\GPCP_2007001.tif',\n",
        " 'D:\\\\Data\\\\GPCP_doy8DayMean\\\\GPCP_2007009.tif',\n",
        " 'D:\\\\Data\\\\GPCP_doy8DayMean\\\\GPCP_2007017.tif',\n",
        " 'D:\\\\Data\\\\GPCP_doy8DayMean\\\\GPCP_2007025.tif',\n",
        " 'D:\\\\Data\\\\GPCP_doy8DayMean\\\\GPCP_2007033.tif',\n",
        " 'D:\\\\Data\\\\GPCP_doy8DayMean\\\\GPCP_2007041.tif',\n",
        " 'D:\\\\Data\\\\GPCP_doy8DayMean\\\\GPCP_2007049.tif',\n",
        " 'D:\\\\Data\\\\GPCP_doy8DayMean\\\\GPCP_2007057.tif',\n",
        " 'D:\\\\Data\\\\GPCP_doy8DayMean\\\\GPCP_2007065.tif',\n",
        " 'D:\\\\Data\\\\GPCP_doy8DayMean\\\\GPCP_2007073.tif',\n",
        " 'D:\\\\Data\\\\GPCP_doy8DayMean\\\\GPCP_2007081.tif',\n",
        " 'D:\\\\Data\\\\GPCP_doy8DayMean\\\\GPCP_2007089.tif',\n",
        " 'D:\\\\Data\\\\GPCP_doy8DayMean\\\\GPCP_2007097.tif',\n",
        " 'D:\\\\Data\\\\GPCP_doy8DayMean\\\\GPCP_2007105.tif',\n",
        " 'D:\\\\Data\\\\GPCP_doy8DayMean\\\\GPCP_2007113.tif',\n",
        " 'D:\\\\Data\\\\GPCP_doy8DayMean\\\\GPCP_2007121.tif',\n",
        " 'D:\\\\Data\\\\GPCP_doy8DayMean\\\\GPCP_2007129.tif',\n",
        " 'D:\\\\Data\\\\GPCP_doy8DayMean\\\\GPCP_2007137.tif',\n",
        " 'D:\\\\Data\\\\GPCP_doy8DayMean\\\\GPCP_2007145.tif',\n",
        " 'D:\\\\Data\\\\GPCP_doy8DayMean\\\\GPCP_2007153.tif',\n",
        " 'D:\\\\Data\\\\GPCP_doy8DayMean\\\\GPCP_2007161.tif',\n",
        " 'D:\\\\Data\\\\GPCP_doy8DayMean\\\\GPCP_2007169.tif',\n",
        " 'D:\\\\Data\\\\GPCP_doy8DayMean\\\\GPCP_2007177.tif',\n",
        " 'D:\\\\Data\\\\GPCP_doy8DayMean\\\\GPCP_2007185.tif',\n",
        " 'D:\\\\Data\\\\GPCP_doy8DayMean\\\\GPCP_2007193.tif',\n",
        " 'D:\\\\Data\\\\GPCP_doy8DayMean\\\\GPCP_2007201.tif',\n",
        " 'D:\\\\Data\\\\GPCP_doy8DayMean\\\\GPCP_2007209.tif',\n",
        " 'D:\\\\Data\\\\GPCP_doy8DayMean\\\\GPCP_2007217.tif',\n",
        " 'D:\\\\Data\\\\GPCP_doy8DayMean\\\\GPCP_2007225.tif',\n",
        " 'D:\\\\Data\\\\GPCP_doy8DayMean\\\\GPCP_2007233.tif',\n",
        " 'D:\\\\Data\\\\GPCP_doy8DayMean\\\\GPCP_2007241.tif',\n",
        " 'D:\\\\Data\\\\GPCP_doy8DayMean\\\\GPCP_2007249.tif',\n",
        " 'D:\\\\Data\\\\GPCP_doy8DayMean\\\\GPCP_2007257.tif',\n",
        " 'D:\\\\Data\\\\GPCP_doy8DayMean\\\\GPCP_2007265.tif',\n",
        " 'D:\\\\Data\\\\GPCP_doy8DayMean\\\\GPCP_2007273.tif',\n",
        " 'D:\\\\Data\\\\GPCP_doy8DayMean\\\\GPCP_2007281.tif',\n",
        " 'D:\\\\Data\\\\GPCP_doy8DayMean\\\\GPCP_2007289.tif',\n",
        " 'D:\\\\Data\\\\GPCP_doy8DayMean\\\\GPCP_2007297.tif',\n",
        " 'D:\\\\Data\\\\GPCP_doy8DayMean\\\\GPCP_2007305.tif',\n",
        " 'D:\\\\Data\\\\GPCP_doy8DayMean\\\\GPCP_2007313.tif',\n",
        " 'D:\\\\Data\\\\GPCP_doy8DayMean\\\\GPCP_2007321.tif',\n",
        " 'D:\\\\Data\\\\GPCP_doy8DayMean\\\\GPCP_2007329.tif',\n",
        " 'D:\\\\Data\\\\GPCP_doy8DayMean\\\\GPCP_2007337.tif',\n",
        " 'D:\\\\Data\\\\GPCP_doy8DayMean\\\\GPCP_2007345.tif',\n",
        " 'D:\\\\Data\\\\GPCP_doy8DayMean\\\\GPCP_2007353.tif',\n",
        " 'D:\\\\Data\\\\GPCP_doy8DayMean\\\\GPCP_2007361.tif',\n",
        " 'D:\\\\Data\\\\GPCP_doy8DayMean\\\\GPCP_2008001.tif',\n",
        " 'D:\\\\Data\\\\GPCP_doy8DayMean\\\\GPCP_2008009.tif',\n",
        " 'D:\\\\Data\\\\GPCP_doy8DayMean\\\\GPCP_2008017.tif',\n",
        " 'D:\\\\Data\\\\GPCP_doy8DayMean\\\\GPCP_2008025.tif',\n",
        " 'D:\\\\Data\\\\GPCP_doy8DayMean\\\\GPCP_2008033.tif',\n",
        " 'D:\\\\Data\\\\GPCP_doy8DayMean\\\\GPCP_2008041.tif',\n",
        " 'D:\\\\Data\\\\GPCP_doy8DayMean\\\\GPCP_2008049.tif',\n",
        " 'D:\\\\Data\\\\GPCP_doy8DayMean\\\\GPCP_2008057.tif',\n",
        " 'D:\\\\Data\\\\GPCP_doy8DayMean\\\\GPCP_2008065.tif',\n",
        " 'D:\\\\Data\\\\GPCP_doy8DayMean\\\\GPCP_2008073.tif',\n",
        " 'D:\\\\Data\\\\GPCP_doy8DayMean\\\\GPCP_2008081.tif',\n",
        " 'D:\\\\Data\\\\GPCP_doy8DayMean\\\\GPCP_2008089.tif',\n",
        " 'D:\\\\Data\\\\GPCP_doy8DayMean\\\\GPCP_2008097.tif',\n",
        " 'D:\\\\Data\\\\GPCP_doy8DayMean\\\\GPCP_2008105.tif',\n",
        " 'D:\\\\Data\\\\GPCP_doy8DayMean\\\\GPCP_2008113.tif',\n",
        " 'D:\\\\Data\\\\GPCP_doy8DayMean\\\\GPCP_2008121.tif',\n",
        " 'D:\\\\Data\\\\GPCP_doy8DayMean\\\\GPCP_2008129.tif',\n",
        " 'D:\\\\Data\\\\GPCP_doy8DayMean\\\\GPCP_2008137.tif',\n",
        " 'D:\\\\Data\\\\GPCP_doy8DayMean\\\\GPCP_2008145.tif',\n",
        " 'D:\\\\Data\\\\GPCP_doy8DayMean\\\\GPCP_2008153.tif',\n",
        " 'D:\\\\Data\\\\GPCP_doy8DayMean\\\\GPCP_2008161.tif',\n",
        " 'D:\\\\Data\\\\GPCP_doy8DayMean\\\\GPCP_2008169.tif',\n",
        " 'D:\\\\Data\\\\GPCP_doy8DayMean\\\\GPCP_2008177.tif',\n",
        " 'D:\\\\Data\\\\GPCP_doy8DayMean\\\\GPCP_2008185.tif',\n",
        " 'D:\\\\Data\\\\GPCP_doy8DayMean\\\\GPCP_2008193.tif',\n",
        " 'D:\\\\Data\\\\GPCP_doy8DayMean\\\\GPCP_2008201.tif',\n",
        " 'D:\\\\Data\\\\GPCP_doy8DayMean\\\\GPCP_2008209.tif',\n",
        " 'D:\\\\Data\\\\GPCP_doy8DayMean\\\\GPCP_2008217.tif',\n",
        " 'D:\\\\Data\\\\GPCP_doy8DayMean\\\\GPCP_2008225.tif',\n",
        " 'D:\\\\Data\\\\GPCP_doy8DayMean\\\\GPCP_2008233.tif',\n",
        " 'D:\\\\Data\\\\GPCP_doy8DayMean\\\\GPCP_2008241.tif',\n",
        " 'D:\\\\Data\\\\GPCP_doy8DayMean\\\\GPCP_2008249.tif',\n",
        " 'D:\\\\Data\\\\GPCP_doy8DayMean\\\\GPCP_2008257.tif',\n",
        " 'D:\\\\Data\\\\GPCP_doy8DayMean\\\\GPCP_2008265.tif',\n",
        " 'D:\\\\Data\\\\GPCP_doy8DayMean\\\\GPCP_2008273.tif',\n",
        " 'D:\\\\Data\\\\GPCP_doy8DayMean\\\\GPCP_2008281.tif',\n",
        " 'D:\\\\Data\\\\GPCP_doy8DayMean\\\\GPCP_2008289.tif',\n",
        " 'D:\\\\Data\\\\GPCP_doy8DayMean\\\\GPCP_2008297.tif',\n",
        " 'D:\\\\Data\\\\GPCP_doy8DayMean\\\\GPCP_2008305.tif',\n",
        " 'D:\\\\Data\\\\GPCP_doy8DayMean\\\\GPCP_2008313.tif',\n",
        " 'D:\\\\Data\\\\GPCP_doy8DayMean\\\\GPCP_2008321.tif',\n",
        " 'D:\\\\Data\\\\GPCP_doy8DayMean\\\\GPCP_2008329.tif',\n",
        " 'D:\\\\Data\\\\GPCP_doy8DayMean\\\\GPCP_2008337.tif',\n",
        " 'D:\\\\Data\\\\GPCP_doy8DayMean\\\\GPCP_2008345.tif',\n",
        " 'D:\\\\Data\\\\GPCP_doy8DayMean\\\\GPCP_2008353.tif',\n",
        " 'D:\\\\Data\\\\GPCP_doy8DayMean\\\\GPCP_2008361.tif',\n",
        " 'D:\\\\Data\\\\GPCP_doy8DayMean\\\\GPCP_2009001.tif',\n",
        " 'D:\\\\Data\\\\GPCP_doy8DayMean\\\\GPCP_2009009.tif',\n",
        " 'D:\\\\Data\\\\GPCP_doy8DayMean\\\\GPCP_2009017.tif',\n",
        " 'D:\\\\Data\\\\GPCP_doy8DayMean\\\\GPCP_2009025.tif',\n",
        " 'D:\\\\Data\\\\GPCP_doy8DayMean\\\\GPCP_2009033.tif',\n",
        " 'D:\\\\Data\\\\GPCP_doy8DayMean\\\\GPCP_2009041.tif',\n",
        " 'D:\\\\Data\\\\GPCP_doy8DayMean\\\\GPCP_2009049.tif',\n",
        " 'D:\\\\Data\\\\GPCP_doy8DayMean\\\\GPCP_2009057.tif',\n",
        " 'D:\\\\Data\\\\GPCP_doy8DayMean\\\\GPCP_2009065.tif',\n",
        " 'D:\\\\Data\\\\GPCP_doy8DayMean\\\\GPCP_2009073.tif',\n",
        " 'D:\\\\Data\\\\GPCP_doy8DayMean\\\\GPCP_2009081.tif',\n",
        " 'D:\\\\Data\\\\GPCP_doy8DayMean\\\\GPCP_2009089.tif',\n",
        " 'D:\\\\Data\\\\GPCP_doy8DayMean\\\\GPCP_2009097.tif',\n",
        " 'D:\\\\Data\\\\GPCP_doy8DayMean\\\\GPCP_2009105.tif',\n",
        " 'D:\\\\Data\\\\GPCP_doy8DayMean\\\\GPCP_2009113.tif',\n",
        " 'D:\\\\Data\\\\GPCP_doy8DayMean\\\\GPCP_2009121.tif',\n",
        " 'D:\\\\Data\\\\GPCP_doy8DayMean\\\\GPCP_2009129.tif',\n",
        " 'D:\\\\Data\\\\GPCP_doy8DayMean\\\\GPCP_2009137.tif',\n",
        " 'D:\\\\Data\\\\GPCP_doy8DayMean\\\\GPCP_2009145.tif',\n",
        " 'D:\\\\Data\\\\GPCP_doy8DayMean\\\\GPCP_2009153.tif',\n",
        " 'D:\\\\Data\\\\GPCP_doy8DayMean\\\\GPCP_2009161.tif',\n",
        " 'D:\\\\Data\\\\GPCP_doy8DayMean\\\\GPCP_2009169.tif',\n",
        " 'D:\\\\Data\\\\GPCP_doy8DayMean\\\\GPCP_2009177.tif',\n",
        " 'D:\\\\Data\\\\GPCP_doy8DayMean\\\\GPCP_2009185.tif',\n",
        " 'D:\\\\Data\\\\GPCP_doy8DayMean\\\\GPCP_2009193.tif',\n",
        " 'D:\\\\Data\\\\GPCP_doy8DayMean\\\\GPCP_2009201.tif',\n",
        " 'D:\\\\Data\\\\GPCP_doy8DayMean\\\\GPCP_2009209.tif',\n",
        " 'D:\\\\Data\\\\GPCP_doy8DayMean\\\\GPCP_2009217.tif',\n",
        " 'D:\\\\Data\\\\GPCP_doy8DayMean\\\\GPCP_2009225.tif',\n",
        " 'D:\\\\Data\\\\GPCP_doy8DayMean\\\\GPCP_2009233.tif',\n",
        " 'D:\\\\Data\\\\GPCP_doy8DayMean\\\\GPCP_2009241.tif',\n",
        " 'D:\\\\Data\\\\GPCP_doy8DayMean\\\\GPCP_2009249.tif',\n",
        " 'D:\\\\Data\\\\GPCP_doy8DayMean\\\\GPCP_2009257.tif',\n",
        " 'D:\\\\Data\\\\GPCP_doy8DayMean\\\\GPCP_2009265.tif',\n",
        " 'D:\\\\Data\\\\GPCP_doy8DayMean\\\\GPCP_2009273.tif',\n",
        " 'D:\\\\Data\\\\GPCP_doy8DayMean\\\\GPCP_2009281.tif',\n",
        " 'D:\\\\Data\\\\GPCP_doy8DayMean\\\\GPCP_2009289.tif',\n",
        " 'D:\\\\Data\\\\GPCP_doy8DayMean\\\\GPCP_2009297.tif',\n",
        " 'D:\\\\Data\\\\GPCP_doy8DayMean\\\\GPCP_2009305.tif',\n",
        " 'D:\\\\Data\\\\GPCP_doy8DayMean\\\\GPCP_2009313.tif',\n",
        " 'D:\\\\Data\\\\GPCP_doy8DayMean\\\\GPCP_2009321.tif',\n",
        " 'D:\\\\Data\\\\GPCP_doy8DayMean\\\\GPCP_2009329.tif',\n",
        " 'D:\\\\Data\\\\GPCP_doy8DayMean\\\\GPCP_2009337.tif',\n",
        " 'D:\\\\Data\\\\GPCP_doy8DayMean\\\\GPCP_2009345.tif',\n",
        " 'D:\\\\Data\\\\GPCP_doy8DayMean\\\\GPCP_2009353.tif',\n",
        " 'D:\\\\Data\\\\GPCP_doy8DayMean\\\\GPCP_2009361.tif',\n",
        " 'D:\\\\Data\\\\GPCP_doy8DayMean\\\\GPCP_2010001.tif',\n",
        " 'D:\\\\Data\\\\GPCP_doy8DayMean\\\\GPCP_2010009.tif',\n",
        " 'D:\\\\Data\\\\GPCP_doy8DayMean\\\\GPCP_2010017.tif',\n",
        " 'D:\\\\Data\\\\GPCP_doy8DayMean\\\\GPCP_2010025.tif',\n",
        " 'D:\\\\Data\\\\GPCP_doy8DayMean\\\\GPCP_2010033.tif',\n",
        " 'D:\\\\Data\\\\GPCP_doy8DayMean\\\\GPCP_2010041.tif',\n",
        " 'D:\\\\Data\\\\GPCP_doy8DayMean\\\\GPCP_2010049.tif',\n",
        " 'D:\\\\Data\\\\GPCP_doy8DayMean\\\\GPCP_2010057.tif',\n",
        " 'D:\\\\Data\\\\GPCP_doy8DayMean\\\\GPCP_2010065.tif',\n",
        " 'D:\\\\Data\\\\GPCP_doy8DayMean\\\\GPCP_2010073.tif',\n",
        " 'D:\\\\Data\\\\GPCP_doy8DayMean\\\\GPCP_2010081.tif',\n",
        " 'D:\\\\Data\\\\GPCP_doy8DayMean\\\\GPCP_2010089.tif',\n",
        " 'D:\\\\Data\\\\GPCP_doy8DayMean\\\\GPCP_2010097.tif',\n",
        " 'D:\\\\Data\\\\GPCP_doy8DayMean\\\\GPCP_2010105.tif',\n",
        " 'D:\\\\Data\\\\GPCP_doy8DayMean\\\\GPCP_2010113.tif',\n",
        " 'D:\\\\Data\\\\GPCP_doy8DayMean\\\\GPCP_2010121.tif',\n",
        " 'D:\\\\Data\\\\GPCP_doy8DayMean\\\\GPCP_2010129.tif',\n",
        " 'D:\\\\Data\\\\GPCP_doy8DayMean\\\\GPCP_2010137.tif',\n",
        " 'D:\\\\Data\\\\GPCP_doy8DayMean\\\\GPCP_2010145.tif',\n",
        " 'D:\\\\Data\\\\GPCP_doy8DayMean\\\\GPCP_2010153.tif',\n",
        " 'D:\\\\Data\\\\GPCP_doy8DayMean\\\\GPCP_2010161.tif',\n",
        " 'D:\\\\Data\\\\GPCP_doy8DayMean\\\\GPCP_2010169.tif',\n",
        " 'D:\\\\Data\\\\GPCP_doy8DayMean\\\\GPCP_2010177.tif',\n",
        " 'D:\\\\Data\\\\GPCP_doy8DayMean\\\\GPCP_2010185.tif',\n",
        " 'D:\\\\Data\\\\GPCP_doy8DayMean\\\\GPCP_2010193.tif',\n",
        " 'D:\\\\Data\\\\GPCP_doy8DayMean\\\\GPCP_2010201.tif',\n",
        " 'D:\\\\Data\\\\GPCP_doy8DayMean\\\\GPCP_2010209.tif',\n",
        " 'D:\\\\Data\\\\GPCP_doy8DayMean\\\\GPCP_2010217.tif',\n",
        " 'D:\\\\Data\\\\GPCP_doy8DayMean\\\\GPCP_2010225.tif',\n",
        " 'D:\\\\Data\\\\GPCP_doy8DayMean\\\\GPCP_2010233.tif',\n",
        " 'D:\\\\Data\\\\GPCP_doy8DayMean\\\\GPCP_2010241.tif',\n",
        " 'D:\\\\Data\\\\GPCP_doy8DayMean\\\\GPCP_2010249.tif',\n",
        " 'D:\\\\Data\\\\GPCP_doy8DayMean\\\\GPCP_2010257.tif',\n",
        " 'D:\\\\Data\\\\GPCP_doy8DayMean\\\\GPCP_2010265.tif',\n",
        " 'D:\\\\Data\\\\GPCP_doy8DayMean\\\\GPCP_2010273.tif',\n",
        " 'D:\\\\Data\\\\GPCP_doy8DayMean\\\\GPCP_2010281.tif',\n",
        " 'D:\\\\Data\\\\GPCP_doy8DayMean\\\\GPCP_2010289.tif',\n",
        " 'D:\\\\Data\\\\GPCP_doy8DayMean\\\\GPCP_2010297.tif',\n",
        " 'D:\\\\Data\\\\GPCP_doy8DayMean\\\\GPCP_2010305.tif',\n",
        " 'D:\\\\Data\\\\GPCP_doy8DayMean\\\\GPCP_2010313.tif',\n",
        " 'D:\\\\Data\\\\GPCP_doy8DayMean\\\\GPCP_2010321.tif',\n",
        " 'D:\\\\Data\\\\GPCP_doy8DayMean\\\\GPCP_2010329.tif',\n",
        " 'D:\\\\Data\\\\GPCP_doy8DayMean\\\\GPCP_2010337.tif',\n",
        " 'D:\\\\Data\\\\GPCP_doy8DayMean\\\\GPCP_2010345.tif',\n",
        " 'D:\\\\Data\\\\GPCP_doy8DayMean\\\\GPCP_2010353.tif',\n",
        " 'D:\\\\Data\\\\GPCP_doy8DayMean\\\\GPCP_2010361.tif']"
       ]
      }
     ],
     "prompt_number": 29
    },
    {
     "cell_type": "code",
     "collapsed": false,
     "input": [
      "ds = gdal.Open(files[0])\n",
      "band = ds.GetRasterBand(1)\n",
      "barray = band.ReadAsArray()\n",
      "nan = band.GetNoDataValue()"
     ],
     "language": "python",
     "metadata": {},
     "outputs": [],
     "prompt_number": 33
    },
    {
     "cell_type": "code",
     "collapsed": false,
     "input": [
      "outfolder = r'D:\\Data\\GPCP_annualMean//'"
     ],
     "language": "python",
     "metadata": {},
     "outputs": [],
     "prompt_number": 35
    },
    {
     "cell_type": "code",
     "collapsed": false,
     "input": [
      "ds = gdal.Open(files[0])\n",
      "band = ds.GetRasterBand(1)\n",
      "barray = band.ReadAsArray()\n",
      "nan = band.GetNoDataValue()\n",
      "\n",
      "outfolder = r'D:\\Data\\GPCP_annualMean//'\n",
      "\n",
      "for i in range(1,366,8):\n",
      "    #print (i)\n",
      "    base = np.full_like(barray, nan)\n",
      "    base = base[None] # add another dimenstion for vstack\n",
      "    for fil in files:    \n",
      "        \n",
      "        if int(fil[-7:-4]) == i:\n",
      "            #print (fil)\n",
      "            array = gdal.Open(fil).ReadAsArray().astype(float)\n",
      "\n",
      "            array = array[None] # add another dimension for vstack\n",
      "            base = np.vstack((base,array)) # vstack all rasters with same doy\n",
      "            \n",
      "    # mask where value is nan\n",
      "    base = np.ma.masked_equal(base, nan)\n",
      "    base = np.mean(base, axis=0)\n",
      "    \n",
      "    outpath = outfolder+'GPCP_'+str(i).zfill(3)+'.tif'\n",
      "    print (outpath)\n",
      "    dikkelul.saveRaster(outpath, base, ds, 6, nan=nan)"
     ],
     "language": "python",
     "metadata": {},
     "outputs": [
      {
       "output_type": "stream",
       "stream": "stdout",
       "text": [
        "D:\\Data\\GPCP_annualMean//GPCP_001.tif\n",
        "D:\\Data\\GPCP_annualMean//GPCP_009.tif"
       ]
      },
      {
       "output_type": "stream",
       "stream": "stdout",
       "text": [
        "\n",
        "D:\\Data\\GPCP_annualMean//GPCP_017.tif"
       ]
      },
      {
       "output_type": "stream",
       "stream": "stdout",
       "text": [
        "\n",
        "D:\\Data\\GPCP_annualMean//GPCP_025.tif"
       ]
      },
      {
       "output_type": "stream",
       "stream": "stdout",
       "text": [
        "\n",
        "D:\\Data\\GPCP_annualMean//GPCP_033.tif"
       ]
      },
      {
       "output_type": "stream",
       "stream": "stdout",
       "text": [
        "\n",
        "D:\\Data\\GPCP_annualMean//GPCP_041.tif"
       ]
      },
      {
       "output_type": "stream",
       "stream": "stdout",
       "text": [
        "\n",
        "D:\\Data\\GPCP_annualMean//GPCP_049.tif"
       ]
      },
      {
       "output_type": "stream",
       "stream": "stdout",
       "text": [
        "\n",
        "D:\\Data\\GPCP_annualMean//GPCP_057.tif"
       ]
      },
      {
       "output_type": "stream",
       "stream": "stdout",
       "text": [
        "\n",
        "D:\\Data\\GPCP_annualMean//GPCP_065.tif"
       ]
      },
      {
       "output_type": "stream",
       "stream": "stdout",
       "text": [
        "\n",
        "D:\\Data\\GPCP_annualMean//GPCP_073.tif"
       ]
      },
      {
       "output_type": "stream",
       "stream": "stdout",
       "text": [
        "\n",
        "D:\\Data\\GPCP_annualMean//GPCP_081.tif"
       ]
      },
      {
       "output_type": "stream",
       "stream": "stdout",
       "text": [
        "\n",
        "D:\\Data\\GPCP_annualMean//GPCP_089.tif"
       ]
      },
      {
       "output_type": "stream",
       "stream": "stdout",
       "text": [
        "\n",
        "D:\\Data\\GPCP_annualMean//GPCP_097.tif"
       ]
      },
      {
       "output_type": "stream",
       "stream": "stdout",
       "text": [
        "\n",
        "D:\\Data\\GPCP_annualMean//GPCP_105.tif"
       ]
      },
      {
       "output_type": "stream",
       "stream": "stdout",
       "text": [
        "\n",
        "D:\\Data\\GPCP_annualMean//GPCP_113.tif"
       ]
      },
      {
       "output_type": "stream",
       "stream": "stdout",
       "text": [
        "\n",
        "D:\\Data\\GPCP_annualMean//GPCP_121.tif"
       ]
      },
      {
       "output_type": "stream",
       "stream": "stdout",
       "text": [
        "\n",
        "D:\\Data\\GPCP_annualMean//GPCP_129.tif"
       ]
      },
      {
       "output_type": "stream",
       "stream": "stdout",
       "text": [
        "\n",
        "D:\\Data\\GPCP_annualMean//GPCP_137.tif"
       ]
      },
      {
       "output_type": "stream",
       "stream": "stdout",
       "text": [
        "\n",
        "D:\\Data\\GPCP_annualMean//GPCP_145.tif"
       ]
      },
      {
       "output_type": "stream",
       "stream": "stdout",
       "text": [
        "\n",
        "D:\\Data\\GPCP_annualMean//GPCP_153.tif"
       ]
      },
      {
       "output_type": "stream",
       "stream": "stdout",
       "text": [
        "\n",
        "D:\\Data\\GPCP_annualMean//GPCP_161.tif"
       ]
      },
      {
       "output_type": "stream",
       "stream": "stdout",
       "text": [
        "\n",
        "D:\\Data\\GPCP_annualMean//GPCP_169.tif"
       ]
      },
      {
       "output_type": "stream",
       "stream": "stdout",
       "text": [
        "\n",
        "D:\\Data\\GPCP_annualMean//GPCP_177.tif"
       ]
      },
      {
       "output_type": "stream",
       "stream": "stdout",
       "text": [
        "\n",
        "D:\\Data\\GPCP_annualMean//GPCP_185.tif"
       ]
      },
      {
       "output_type": "stream",
       "stream": "stdout",
       "text": [
        "\n",
        "D:\\Data\\GPCP_annualMean//GPCP_193.tif"
       ]
      },
      {
       "output_type": "stream",
       "stream": "stdout",
       "text": [
        "\n",
        "D:\\Data\\GPCP_annualMean//GPCP_201.tif"
       ]
      },
      {
       "output_type": "stream",
       "stream": "stdout",
       "text": [
        "\n",
        "D:\\Data\\GPCP_annualMean//GPCP_209.tif"
       ]
      },
      {
       "output_type": "stream",
       "stream": "stdout",
       "text": [
        "\n",
        "D:\\Data\\GPCP_annualMean//GPCP_217.tif"
       ]
      },
      {
       "output_type": "stream",
       "stream": "stdout",
       "text": [
        "\n",
        "D:\\Data\\GPCP_annualMean//GPCP_225.tif"
       ]
      },
      {
       "output_type": "stream",
       "stream": "stdout",
       "text": [
        "\n",
        "D:\\Data\\GPCP_annualMean//GPCP_233.tif"
       ]
      },
      {
       "output_type": "stream",
       "stream": "stdout",
       "text": [
        "\n",
        "D:\\Data\\GPCP_annualMean//GPCP_241.tif"
       ]
      },
      {
       "output_type": "stream",
       "stream": "stdout",
       "text": [
        "\n",
        "D:\\Data\\GPCP_annualMean//GPCP_249.tif"
       ]
      },
      {
       "output_type": "stream",
       "stream": "stdout",
       "text": [
        "\n",
        "D:\\Data\\GPCP_annualMean//GPCP_257.tif"
       ]
      },
      {
       "output_type": "stream",
       "stream": "stdout",
       "text": [
        "\n",
        "D:\\Data\\GPCP_annualMean//GPCP_265.tif"
       ]
      },
      {
       "output_type": "stream",
       "stream": "stdout",
       "text": [
        "\n",
        "D:\\Data\\GPCP_annualMean//GPCP_273.tif"
       ]
      },
      {
       "output_type": "stream",
       "stream": "stdout",
       "text": [
        "\n",
        "D:\\Data\\GPCP_annualMean//GPCP_281.tif"
       ]
      },
      {
       "output_type": "stream",
       "stream": "stdout",
       "text": [
        "\n",
        "D:\\Data\\GPCP_annualMean//GPCP_289.tif"
       ]
      },
      {
       "output_type": "stream",
       "stream": "stdout",
       "text": [
        "\n",
        "D:\\Data\\GPCP_annualMean//GPCP_297.tif"
       ]
      },
      {
       "output_type": "stream",
       "stream": "stdout",
       "text": [
        "\n",
        "D:\\Data\\GPCP_annualMean//GPCP_305.tif"
       ]
      },
      {
       "output_type": "stream",
       "stream": "stdout",
       "text": [
        "\n",
        "D:\\Data\\GPCP_annualMean//GPCP_313.tif"
       ]
      },
      {
       "output_type": "stream",
       "stream": "stdout",
       "text": [
        "\n",
        "D:\\Data\\GPCP_annualMean//GPCP_321.tif"
       ]
      },
      {
       "output_type": "stream",
       "stream": "stdout",
       "text": [
        "\n",
        "D:\\Data\\GPCP_annualMean//GPCP_329.tif"
       ]
      },
      {
       "output_type": "stream",
       "stream": "stdout",
       "text": [
        "\n",
        "D:\\Data\\GPCP_annualMean//GPCP_337.tif"
       ]
      },
      {
       "output_type": "stream",
       "stream": "stdout",
       "text": [
        "\n",
        "D:\\Data\\GPCP_annualMean//GPCP_345.tif"
       ]
      },
      {
       "output_type": "stream",
       "stream": "stdout",
       "text": [
        "\n",
        "D:\\Data\\GPCP_annualMean//GPCP_353.tif"
       ]
      },
      {
       "output_type": "stream",
       "stream": "stdout",
       "text": [
        "\n",
        "D:\\Data\\GPCP_annualMean//GPCP_361.tif"
       ]
      },
      {
       "output_type": "stream",
       "stream": "stdout",
       "text": [
        "\n"
       ]
      }
     ],
     "prompt_number": 53
    },
    {
     "cell_type": "code",
     "collapsed": false,
     "input": [
      "base = np.vstack((base,array))\n",
      "base"
     ],
     "language": "python",
     "metadata": {},
     "outputs": [
      {
       "metadata": {},
       "output_type": "pyout",
       "prompt_number": 50,
       "text": [
        "array([[[ -9.99990000e+04,  -9.99990000e+04,  -9.99990000e+04, ...,\n",
        "          -9.99990000e+04,  -9.99990000e+04,  -9.99990000e+04],\n",
        "        [ -9.99990000e+04,  -9.99990000e+04,  -9.99990000e+04, ...,\n",
        "          -9.99990000e+04,  -9.99990000e+04,  -9.99990000e+04],\n",
        "        [ -9.99990000e+04,  -9.99990000e+04,  -9.99990000e+04, ...,\n",
        "          -9.99990000e+04,  -9.99990000e+04,  -9.99990000e+04],\n",
        "        ..., \n",
        "        [ -9.99990000e+04,  -9.99990000e+04,  -9.99990000e+04, ...,\n",
        "          -9.99990000e+04,  -9.99990000e+04,  -9.99990000e+04],\n",
        "        [ -9.99990000e+04,  -9.99990000e+04,  -9.99990000e+04, ...,\n",
        "          -9.99990000e+04,  -9.99990000e+04,  -9.99990000e+04],\n",
        "        [ -9.99990000e+04,  -9.99990000e+04,  -9.99990000e+04, ...,\n",
        "          -9.99990000e+04,  -9.99990000e+04,  -9.99990000e+04]],\n",
        "\n",
        "       [[  1.08934772e+00,   1.08934772e+00,   1.08934772e+00, ...,\n",
        "           8.51790965e-01,   8.51790965e-01,   8.51790965e-01],\n",
        "        [  1.08934772e+00,   1.08934772e+00,   1.08934772e+00, ...,\n",
        "           8.51790965e-01,   8.51790965e-01,   8.51790965e-01],\n",
        "        [  1.08934772e+00,   1.08934772e+00,   1.08934772e+00, ...,\n",
        "           8.51790965e-01,   8.51790965e-01,   8.51790965e-01],\n",
        "        ..., \n",
        "        [  3.28673577e+00,   3.28673577e+00,   3.28673577e+00, ...,\n",
        "           5.04883051e-01,   5.04883051e-01,   5.04883051e-01],\n",
        "        [  3.28673577e+00,   3.28673577e+00,   3.28673577e+00, ...,\n",
        "           5.04883051e-01,   5.04883051e-01,   5.04883051e-01],\n",
        "        [  3.28673577e+00,   3.28673577e+00,   3.28673577e+00, ...,\n",
        "           5.04883051e-01,   5.04883051e-01,   5.04883051e-01]],\n",
        "\n",
        "       [[  1.08934772e+00,   1.08934772e+00,   1.08934772e+00, ...,\n",
        "           8.51790965e-01,   8.51790965e-01,   8.51790965e-01],\n",
        "        [  1.08934772e+00,   1.08934772e+00,   1.08934772e+00, ...,\n",
        "           8.51790965e-01,   8.51790965e-01,   8.51790965e-01],\n",
        "        [  1.08934772e+00,   1.08934772e+00,   1.08934772e+00, ...,\n",
        "           8.51790965e-01,   8.51790965e-01,   8.51790965e-01],\n",
        "        ..., \n",
        "        [  3.28673577e+00,   3.28673577e+00,   3.28673577e+00, ...,\n",
        "           5.04883051e-01,   5.04883051e-01,   5.04883051e-01],\n",
        "        [  3.28673577e+00,   3.28673577e+00,   3.28673577e+00, ...,\n",
        "           5.04883051e-01,   5.04883051e-01,   5.04883051e-01],\n",
        "        [  3.28673577e+00,   3.28673577e+00,   3.28673577e+00, ...,\n",
        "           5.04883051e-01,   5.04883051e-01,   5.04883051e-01]]])"
       ]
      }
     ],
     "prompt_number": 50
    },
    {
     "cell_type": "code",
     "collapsed": false,
     "input": [
      "for i in range(1,366,8):\n",
      "    print (i)"
     ],
     "language": "python",
     "metadata": {},
     "outputs": [
      {
       "output_type": "stream",
       "stream": "stdout",
       "text": [
        "1\n",
        "9\n",
        "17\n",
        "25\n",
        "33\n",
        "41\n",
        "49\n",
        "57\n",
        "65\n",
        "73\n",
        "81\n",
        "89\n",
        "97\n",
        "105\n",
        "113\n",
        "121\n",
        "129\n",
        "137\n",
        "145\n",
        "153\n",
        "161\n",
        "169\n",
        "177\n",
        "185\n",
        "193\n",
        "201\n",
        "209\n",
        "217\n",
        "225\n",
        "233\n",
        "241\n",
        "249\n",
        "257\n",
        "265\n",
        "273\n",
        "281\n",
        "289\n",
        "297\n",
        "305\n",
        "313\n",
        "321\n",
        "329\n",
        "337\n",
        "345\n",
        "353\n",
        "361\n"
       ]
      }
     ],
     "prompt_number": 30
    },
    {
     "cell_type": "code",
     "collapsed": false,
     "input": [],
     "language": "python",
     "metadata": {},
     "outputs": []
    }
   ],
   "metadata": {}
  }
 ]
}