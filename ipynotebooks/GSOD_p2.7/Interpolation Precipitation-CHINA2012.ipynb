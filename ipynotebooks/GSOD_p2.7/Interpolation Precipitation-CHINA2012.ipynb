{
 "metadata": {
  "name": ""
 },
 "nbformat": 3,
 "nbformat_minor": 0,
 "worksheets": [
  {
   "cells": [
    {
     "cell_type": "heading",
     "level": 4,
     "metadata": {},
     "source": [
      "Import modules"
     ]
    },
    {
     "cell_type": "code",
     "collapsed": false,
     "input": [
      "inStations = r'F:\\DATGA\\china\\gsod_files//gsod_stations_2012_china_region.csv'\n",
      "folderGSOD = r'F:\\DATGA\\china\\gsod_files\\gsod_2010'\n",
      "folderDEM = r'F:\\DATGA\\china\\DEM_TIL25'\n",
      "#RasterDEM = r'I:\\Documents\\Klusjes\\GSOD_China_2012\\DEM_TILES//5KM_AALBERS13.tif'\n",
      "outFolder = r'F:\\DATGA\\china\\outP//'\n",
      "prefix = 'P'\n",
      "date_all = [20100701, 20100702, 20100703, 20100704, 20100705, 20100706, 20100707]#, 20100801, 20100901, 20101001, 20101101, 20101201, 20100101, 20100201, 20100301, 2010401, 20100305, 20100601]#, 20120719, 20120720, 20120721, 20120722, 20120723, 20120724, 20120725, 20120726, 20120727, 20120728, 20120729, 20120730]"
     ],
     "language": "python",
     "metadata": {},
     "outputs": [],
     "prompt_number": 1
    },
    {
     "cell_type": "code",
     "collapsed": false,
     "input": [
      "filepath = r'E:\\Data\\WangKun@Mattijn\\Radiation_hourly\\2011'\n",
      "# select meteorological data file\n",
      "file_ = FILES(filepath)\n",
      "f = file_[0]\n",
      "print (f)"
     ],
     "language": "python",
     "metadata": {},
     "outputs": [
      {
       "output_type": "stream",
       "stream": "stdout",
       "text": [
        "E:\\Data\\WangKun@Mattijn\\Radiation_hourly\\2011\\RADI_MUL_CHN_FTM-201101.TXT\n"
       ]
      }
     ],
     "prompt_number": 5
    },
    {
     "cell_type": "code",
     "collapsed": false,
     "input": [
      "def FILES(inGSODFolder):\n",
      "    st_wmo = [os.path.join(root, name)\n",
      "               for root, dirs, files in os.walk(inGSODFolder)\n",
      "                 for name in files                 \n",
      "                 if name.endswith('')]\n",
      "    return st_wmo"
     ],
     "language": "python",
     "metadata": {},
     "outputs": [],
     "prompt_number": 2
    },
    {
     "cell_type": "code",
     "collapsed": false,
     "input": [
      "df = pd.read_csv(f, sep=r'\\s+', header=None,  \n",
      "                 parse_dates={'datetime': [4,5,6,7]}, \n",
      "                 date_parser=lambda x: pd.datetime.strptime(x, '%Y %m %d %H'))\n",
      "\n",
      "# set name of columns\n",
      "columns_df = ['datetime','Station','lat','long','TotalRadiation','NetRadiation','DiffuseRadiation','ReflectedRadiation','VertDirectRad']\n",
      "df.columns = columns_df\n",
      "\n",
      "#df = pd.read_csv(f, sep=r\"\\s+\", header=None)\n",
      "colspecs_data = [(0,5), (5,11), (11,17), (17,23), (23,28), (28,33), (33,38), (38,43), (43,49), (49,55)]\n",
      "df = pd.read_fwf(f, colspecs_data, skipinitialspace=True, header=None,   \n",
      "                 parse_dates={'datetime': [1,2,3,4]}, \n",
      "                 date_parser=lambda x: pd.datetime.strptime(x, '%Y %m %d %H')))\n",
      "\n",
      "# set name of columns\n",
      "\n",
      "df.columns = columns_df\n",
      "df.head()\n",
      "#def dt_parse(date_string):\n",
      "#    dt = pd.datetime.strptime(date_string, '%Y %m %d %H')\n",
      "#    return dt\n",
      "\n",
      "#for i in df.datetime:\n",
      "#    df.datetime = dt_parse(i)\n",
      "# set name of columns\n",
      "#columns_df = ['datetime','Station','lat','long','TotalRadiation','NetRadiation','DiffuseRadiation','ReflectedRadiation','VertDirectRad']\n",
      "#df.columns = columns_df\n",
      "#df.head()\n"
     ],
     "language": "python",
     "metadata": {},
     "outputs": [
      {
       "html": [
        "<div style=\"max-height:1000px;max-width:1500px;overflow:auto;\">\n",
        "<table border=\"1\" class=\"dataframe\">\n",
        "  <thead>\n",
        "    <tr style=\"text-align: right;\">\n",
        "      <th></th>\n",
        "      <th>0</th>\n",
        "      <th>1</th>\n",
        "      <th>2</th>\n",
        "      <th>3</th>\n",
        "      <th>4</th>\n",
        "      <th>5</th>\n",
        "      <th>6</th>\n",
        "      <th>7</th>\n",
        "      <th>8</th>\n",
        "      <th>9</th>\n",
        "    </tr>\n",
        "  </thead>\n",
        "  <tbody>\n",
        "    <tr>\n",
        "      <th>0</th>\n",
        "      <td> 50136</td>\n",
        "      <td> 5258</td>\n",
        "      <td> 12231</td>\n",
        "      <td> 4330</td>\n",
        "      <td> 2011</td>\n",
        "      <td> 1</td>\n",
        "      <td> 1</td>\n",
        "      <td> 1</td>\n",
        "      <td> 32744</td>\n",
        "      <td>-17</td>\n",
        "    </tr>\n",
        "    <tr>\n",
        "      <th>1</th>\n",
        "      <td> 50136</td>\n",
        "      <td> 5258</td>\n",
        "      <td> 12231</td>\n",
        "      <td> 4330</td>\n",
        "      <td> 2011</td>\n",
        "      <td> 1</td>\n",
        "      <td> 1</td>\n",
        "      <td> 2</td>\n",
        "      <td> 32744</td>\n",
        "      <td>-19</td>\n",
        "    </tr>\n",
        "    <tr>\n",
        "      <th>2</th>\n",
        "      <td> 50136</td>\n",
        "      <td> 5258</td>\n",
        "      <td> 12231</td>\n",
        "      <td> 4330</td>\n",
        "      <td> 2011</td>\n",
        "      <td> 1</td>\n",
        "      <td> 1</td>\n",
        "      <td> 3</td>\n",
        "      <td> 32744</td>\n",
        "      <td>-17</td>\n",
        "    </tr>\n",
        "    <tr>\n",
        "      <th>3</th>\n",
        "      <td> 50136</td>\n",
        "      <td> 5258</td>\n",
        "      <td> 12231</td>\n",
        "      <td> 4330</td>\n",
        "      <td> 2011</td>\n",
        "      <td> 1</td>\n",
        "      <td> 1</td>\n",
        "      <td> 4</td>\n",
        "      <td> 32744</td>\n",
        "      <td>-18</td>\n",
        "    </tr>\n",
        "    <tr>\n",
        "      <th>4</th>\n",
        "      <td> 50136</td>\n",
        "      <td> 5258</td>\n",
        "      <td> 12231</td>\n",
        "      <td> 4330</td>\n",
        "      <td> 2011</td>\n",
        "      <td> 1</td>\n",
        "      <td> 1</td>\n",
        "      <td> 5</td>\n",
        "      <td> 32744</td>\n",
        "      <td>-19</td>\n",
        "    </tr>\n",
        "  </tbody>\n",
        "</table>\n",
        "</div>"
       ],
       "metadata": {},
       "output_type": "pyout",
       "prompt_number": 15,
       "text": [
        "       0     1      2     3     4  5  6  7      8   9\n",
        "0  50136  5258  12231  4330  2011  1  1  1  32744 -17\n",
        "1  50136  5258  12231  4330  2011  1  1  2  32744 -19\n",
        "2  50136  5258  12231  4330  2011  1  1  3  32744 -17\n",
        "3  50136  5258  12231  4330  2011  1  1  4  32744 -18\n",
        "4  50136  5258  12231  4330  2011  1  1  5  32744 -19"
       ]
      }
     ],
     "prompt_number": 15
    },
    {
     "cell_type": "code",
     "collapsed": false,
     "input": [],
     "language": "python",
     "metadata": {},
     "outputs": [
      {
       "metadata": {},
       "output_type": "pyout",
       "prompt_number": 14,
       "text": [
        "0      2011 1 1 1\n",
        "1      2011 1 1 2\n",
        "2      2011 1 1 3\n",
        "3      2011 1 1 4\n",
        "4      2011 1 1 5\n",
        "5      2011 1 1 6\n",
        "6      2011 1 1 7\n",
        "7      2011 1 1 8\n",
        "8      2011 1 1 9\n",
        "9     2011 1 1 10\n",
        "10    2011 1 1 11\n",
        "11    2011 1 1 12\n",
        "12    2011 1 1 13\n",
        "13    2011 1 1 14\n",
        "14    2011 1 1 15\n",
        "...\n",
        "73641    2011 1 31 10\n",
        "73642    2011 1 31 11\n",
        "73643    2011 1 31 12\n",
        "73644    2011 1 31 13\n",
        "73645    2011 1 31 14\n",
        "73646    2011 1 31 15\n",
        "73647    2011 1 31 16\n",
        "73648    2011 1 31 17\n",
        "73649    2011 1 31 18\n",
        "73650    2011 1 31 19\n",
        "73651    2011 1 31 20\n",
        "73652    2011 1 31 21\n",
        "73653    2011 1 31 22\n",
        "73654    2011 1 31 23\n",
        "73655    2011 1 31 24\n",
        "Name: datetime, Length: 73656, dtype: object"
       ]
      }
     ],
     "prompt_number": 14
    },
    {
     "cell_type": "code",
     "collapsed": false,
     "input": [
      "from scipy import stats\n",
      "from scipy.spatial.distance import cdist\n",
      "from scipy.spatial import cKDTree as KDTree\n",
      "import statsmodels.api as sm\n",
      "import numpy as np\n",
      "import pandas as pd\n",
      "import gdal\n",
      "import os\n",
      "from __future__ import division"
     ],
     "language": "python",
     "metadata": {},
     "outputs": [],
     "prompt_number": 4
    },
    {
     "cell_type": "heading",
     "level": 4,
     "metadata": {},
     "source": [
      "Import weather-stations who have data on 20090101"
     ]
    },
    {
     "cell_type": "markdown",
     "metadata": {},
     "source": [
      "Function that collects all GSOD files ending with .op"
     ]
    },
    {
     "cell_type": "code",
     "collapsed": false,
     "input": [
      "def GSODfiles(inGSODFolder):\n",
      "    st_wmo = [os.path.join(root, name)\n",
      "               for root, dirs, files in os.walk(inGSODFolder)\n",
      "                 for name in files\n",
      "                 if name.endswith('.op')]\n",
      "    return st_wmo"
     ],
     "language": "python",
     "metadata": {},
     "outputs": []
    },
    {
     "cell_type": "code",
     "collapsed": false,
     "input": [
      "def DEMfiles(inDEMFolder):\n",
      "    dem_files = [os.path.join(root, name)\n",
      "               for root, dirs, files in os.walk(inDEMFolder)\n",
      "                 for name in files\n",
      "                 if name.endswith('.TIF')]\n",
      "    return dem_files"
     ],
     "language": "python",
     "metadata": {},
     "outputs": []
    },
    {
     "cell_type": "markdown",
     "metadata": {},
     "source": [
      "Function to open raster and returns the extent, the array and raster info"
     ]
    },
    {
     "cell_type": "code",
     "collapsed": false,
     "input": [
      "def inRaster(fileDEM):\n",
      "    raster = gdal.Open(fileDEM, gdal.GA_ReadOnly)\n",
      "    band = raster.GetRasterBand(1)\n",
      "    dem = band.ReadAsArray()\n",
      "    extent = raster.GetGeoTransform()\n",
      "    return raster, dem, extent"
     ],
     "language": "python",
     "metadata": {},
     "outputs": []
    },
    {
     "cell_type": "markdown",
     "metadata": {},
     "source": [
      "Function to save array to a new raster"
     ]
    },
    {
     "cell_type": "code",
     "collapsed": false,
     "input": [
      "def saveRaster(path, array, datatype=6, formatraster=\"GTiff\"):\n",
      "    # Set Driver\n",
      "    format_ = formatraster #save as format\n",
      "    driver = gdal.GetDriverByName( format_ )\n",
      "    driver.Register()\n",
      "    \n",
      "    # Set Metadata for Raster output\n",
      "    cols = raster.RasterXSize\n",
      "    rows = raster.RasterYSize\n",
      "    bands = raster.RasterCount\n",
      "    datatype = 6#band.DataType\n",
      "    \n",
      "    # Set Projection for Raster\n",
      "    outDataset = driver.Create(outFilename, cols, rows, bands, datatype)\n",
      "    geoTransform = raster.GetGeoTransform()\n",
      "    outDataset.SetGeoTransform(geoTransform)\n",
      "    proj = raster.GetProjection()\n",
      "    outDataset.SetProjection(proj)\n",
      "    \n",
      "    # Write output to band 1 of new Raster\n",
      "    outBand = outDataset.GetRasterBand(1)\n",
      "    outBand.WriteArray(array) #save input array\n",
      "    #outBand.WriteArray(dem)\n",
      "    \n",
      "    # Close and finalise newly created Raster\n",
      "    #F_M01 = None\n",
      "    outBand = None\n",
      "    proj = None\n",
      "    geoTransform = None\n",
      "    outDataset = None\n",
      "    driver = None\n",
      "    datatype = None\n",
      "    bands = None\n",
      "    rows = None\n",
      "    cols = None\n",
      "    driver = None\n",
      "    array = None"
     ],
     "language": "python",
     "metadata": {},
     "outputs": []
    },
    {
     "cell_type": "markdown",
     "metadata": {},
     "source": [
      "Function for calculating air temperature based on 8 nearest stations for each raster pixel"
     ]
    },
    {
     "cell_type": "code",
     "collapsed": false,
     "input": [
      "def IDWKDtree(x,y):    \n",
      "    x_y = [(x,y)] # for kd_tree that starts counting at bottom left with 0,0\n",
      "    #print x_y\n",
      "    x_ = (x*extent[1]+extent[0]+extent[1]/2) # longitude aalbers projection (meters)\n",
      "    y_ = (y*extent[5]+extent[3]+extent[5]/2) # latitude aalbers projection (meters)\n",
      "    long_lat = np.array([[x_,y_]])\n",
      "    \n",
      "    #print long_lat\n",
      "    \n",
      "    dem_1 = dem[y,x] # elevation x_y coordinate\n",
      "    dist_tree, ix_tree = tree.query(x_y, k=8, eps=0, p=1) # returns distance and index\n",
      "    dist_tree = dist_tree.flatten()\n",
      "    ix_tree  = ix_tree.flatten()\n",
      "    df_selection = df.ix[ix_tree.ravel()] # seleclt 8 neighbours\n",
      "    c = df_selection.ix[:,10]\n",
      "    \n",
      "    if dist_tree[0] < 1e-10:\n",
      "        wz = c.ix[ix_tree[0]]\n",
      "    else:\n",
      "        w = 1 / dist_tree**2\n",
      "    w /= np.sum(w)\n",
      "    wz = np.dot(w, c.ix[ix_tree])\n",
      "    \n",
      "    #df_selection = df.ix[ix_tree.ravel()]\n",
      "\n",
      "    return wz"
     ],
     "language": "python",
     "metadata": {},
     "outputs": []
    },
    {
     "cell_type": "markdown",
     "metadata": {},
     "source": [
      "The code that will run through the functions"
     ]
    },
    {
     "cell_type": "code",
     "collapsed": false,
     "input": [
      "# Select input files GSOD and load DEM\n",
      "rsters = DEMfiles(folderDEM)\n",
      "st_wmo = GSODfiles(folderGSOD)\n",
      "for rster in rsters:    \n",
      "    raster, dem, extent = inRaster(rster)\n",
      "    for date in date_all:\n",
      "        print date\n",
      "    \n",
      "        df = pd.read_csv(inStations)\n",
      "        df['Y_LAT'] = (df.POINT_Y-extent[3])/extent[5]\n",
      "        df['X_LAT'] = (df.POINT_X-extent[0])/extent[1]\n",
      "        #df_select = None\n",
      "        df_select = pd.DataFrame()\n",
      "        for st in st_wmo:\n",
      "            with open(st) as f:\n",
      "                \"\"\"\n",
      "                0,6     = STNN---  : USAF number\n",
      "                14,22   = YEARMODA : YearMonthDay\n",
      "                24,30   = TEMP     : Mean temperature in Fahreinheit\n",
      "                35,41   = DEWP     : Mean dew point in Fahreinheit\n",
      "                57,63   = STP      : Mean station pressure in millibars\n",
      "                78,83   = WDSP     : Mean wind speed in knots\n",
      "                118,123 = PRCP     : Total precipitation in inches\n",
      "    \n",
      "                \"\"\"\n",
      "                colspecs_data = [(0,6), (14,22), (24,30), (35,41), (57,63), (78,83), (118,123)]\n",
      "                df_date = pd.read_fwf(f, colspecs=colspecs_data)\n",
      "                for moda in df_date.YEARMODA:\n",
      "                    #print moda\n",
      "                    if moda == date:\n",
      "                        df_select = df_select.append(df_date[df_date.YEARMODA==date])\n",
      "                        break\n",
      "    \n",
      "        # Set Missing values\n",
      "        df_select.replace({'STP':{9999.9:np.nan}}, inplace=True)\n",
      "        df_select.replace({'TEMP':{9999.9:np.nan}}, inplace=True)\n",
      "        df_select.replace({'DEWP':{9999.9:np.nan}}, inplace=True)\n",
      "        df_select.replace({'WDSP':{999.9:np.nan}}, inplace=True)\n",
      "        df_select.replace({'PRCP':{99.99:0}}, inplace=True)\n",
      "    \n",
      "        #print df_select.head()\n",
      "        # Merge values with stations\n",
      "        df = pd.merge(df, df_select, how='inner', left_on='USAF', right_on='STN---')\n",
      "        #print df.head()\n",
      "    \n",
      "        ##STP\n",
      "        #df = df[pd.notnull(df['STP'])]\n",
      "    \n",
      "        ##TEMP\n",
      "        #df = df[pd.notnull(df['TEMP'])]\n",
      "        #print df.head()\n",
      "    \n",
      "        ##DEWP\n",
      "        #df = df[pd.notnull(df['DEWP'])]\n",
      "        #print df.head()\n",
      "    \n",
      "        ##WDSP\n",
      "        #df = df[pd.notnull(df['WDSP'])]\n",
      "    \n",
      "        ##PRCP\n",
      "        df = df[pd.notnull(df['PRCP'])]\n",
      "    \n",
      "        Longscaled = df.ix[:,8]\n",
      "        #print 'longscaled\\n', Longscaled\n",
      "        Latscaled = df.ix[:,7]\n",
      "        #print '\\nlatscaled\\n', Latscaled\n",
      "        tree = KDTree(zip(Longscaled,Latscaled), leafsize=11)\n",
      "    \n",
      "        tp = np.zeros([dem.shape[1],dem.shape[0]])\n",
      "    \n",
      "        #x = 0\n",
      "        #y = 0\n",
      "        #predict = GIDS(x,y)\n",
      "        for x in range(0,dem.shape[1],1):\n",
      "            for y in range(0,dem.shape[0],1):\n",
      "                tp[x][y] = IDWKDtree(x,y)\n",
      "        tp = tp.T\n",
      "    \n",
      "        #save output as raster\n",
      "        if len(raster.GetDescription()) == 36: # fixed code to check the length of the path\n",
      "            add = raster.GetDescription()[-6:-4]\n",
      "        else:\n",
      "            add = raster.GetDescription()[-5:-4]\n",
      "        outFilename = outFolder+prefix+str(date)+'_'+str(add.zfill(2))+'.tif'\n",
      "        print outFilename\n",
      "        \n",
      "        saveRaster(outFilename, tp)\n",
      "        outFilename = None\n",
      "        tp = None"
     ],
     "language": "python",
     "metadata": {},
     "outputs": []
    },
    {
     "cell_type": "code",
     "collapsed": false,
     "input": [
      "import sys\n",
      "import subprocess as sp"
     ],
     "language": "python",
     "metadata": {},
     "outputs": [],
     "prompt_number": 3
    },
    {
     "cell_type": "code",
     "collapsed": false,
     "input": [
      "def DEMfiles(inGSODFolder):\n",
      "    st_wmo = [os.path.join(root, name)\n",
      "               for root, dirs, files in os.walk(inGSODFolder)\n",
      "                 for name in files\n",
      "                 if name.endswith('.tif')]\n",
      "    return st_wmo\n",
      "\n",
      "outFolder = r'F:\\DATGA\\china\\outP'\n",
      "gdal_merge = r'D:\\Python27\\Scripts\\gdal_merge.py'\n",
      "mergeFolder = r'F:\\DATGA\\china\\mergeP\\\\'\n",
      "thisfile = r\"F:/DATGA/china/merge_these5.txt\"\n",
      "files = DEMfiles(outFolder)\n",
      "newlist = []\n",
      "for file_ in files:    \n",
      "    #print file_[23:25]\n",
      "    if file_[20:21] == 'P':\n",
      "        newlist.append(file_)\n",
      "#print newlist\n",
      "\n",
      "for x in range(1,8):\n",
      "    thefile = open(r'F:\\DATGA\\china//merge_these5.txt', 'w')\n",
      "    new2 = []\n",
      "    #print x\n",
      "    for new in newlist:\n",
      "        if int(new[-9:-7]) == x:\n",
      "            new2.append(new)\n",
      "            date = new[20:29]\n",
      "            #print date\n",
      "    for item in new2:\n",
      "        thefile.write(\"%s\\n\" % item)\n",
      "    thefile.close()\n",
      "    #print date\n",
      "    outfile = mergeFolder+date+'.tif'\n",
      "    print outfile\n",
      "    paramsnorm = [gdal_merge, \"-o\", outfile, \"-q\", \"-v\", \"--optfile\", thisfile]\n",
      "    print sp.list2cmdline(paramsnorm)\n",
      "    norm = sp.Popen(sp.list2cmdline(paramsnorm), shell=True)     \n",
      "    norm.communicate()"
     ],
     "language": "python",
     "metadata": {},
     "outputs": [
      {
       "output_type": "stream",
       "stream": "stdout",
       "text": [
        "F:\\DATGA\\china\\mergeP\\\\P20100701.tif\n",
        "D:\\Python27\\Scripts\\gdal_merge.py -o F:\\DATGA\\china\\mergeP\\\\P20100701.tif -q -v --optfile F:/DATGA/china/merge_these5.txt\n",
        "F:\\DATGA\\china\\mergeP\\\\P20100702.tif"
       ]
      },
      {
       "output_type": "stream",
       "stream": "stdout",
       "text": [
        "\n",
        "D:\\Python27\\Scripts\\gdal_merge.py -o F:\\DATGA\\china\\mergeP\\\\P20100702.tif -q -v --optfile F:/DATGA/china/merge_these5.txt\n",
        "F:\\DATGA\\china\\mergeP\\\\P20100703.tif"
       ]
      },
      {
       "output_type": "stream",
       "stream": "stdout",
       "text": [
        "\n",
        "D:\\Python27\\Scripts\\gdal_merge.py -o F:\\DATGA\\china\\mergeP\\\\P20100703.tif -q -v --optfile F:/DATGA/china/merge_these5.txt\n",
        "F:\\DATGA\\china\\mergeP\\\\P20100704.tif"
       ]
      },
      {
       "output_type": "stream",
       "stream": "stdout",
       "text": [
        "\n",
        "D:\\Python27\\Scripts\\gdal_merge.py -o F:\\DATGA\\china\\mergeP\\\\P20100704.tif -q -v --optfile F:/DATGA/china/merge_these5.txt\n",
        "F:\\DATGA\\china\\mergeP\\\\P20100705.tif"
       ]
      },
      {
       "output_type": "stream",
       "stream": "stdout",
       "text": [
        "\n",
        "D:\\Python27\\Scripts\\gdal_merge.py -o F:\\DATGA\\china\\mergeP\\\\P20100705.tif -q -v --optfile F:/DATGA/china/merge_these5.txt\n",
        "F:\\DATGA\\china\\mergeP\\\\P20100706.tif"
       ]
      },
      {
       "output_type": "stream",
       "stream": "stdout",
       "text": [
        "\n",
        "D:\\Python27\\Scripts\\gdal_merge.py -o F:\\DATGA\\china\\mergeP\\\\P20100706.tif -q -v --optfile F:/DATGA/china/merge_these5.txt\n",
        "F:\\DATGA\\china\\mergeP\\\\P20100707.tif"
       ]
      },
      {
       "output_type": "stream",
       "stream": "stdout",
       "text": [
        "\n",
        "D:\\Python27\\Scripts\\gdal_merge.py -o F:\\DATGA\\china\\mergeP\\\\P20100707.tif -q -v --optfile F:/DATGA/china/merge_these5.txt\n"
       ]
      }
     ],
     "prompt_number": 4
    },
    {
     "cell_type": "code",
     "collapsed": false,
     "input": [],
     "language": "python",
     "metadata": {},
     "outputs": []
    }
   ],
   "metadata": {}
  }
 ]
}