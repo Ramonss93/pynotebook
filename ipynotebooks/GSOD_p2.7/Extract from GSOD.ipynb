{
 "metadata": {
  "name": "Extract from GSOD"
 },
 "nbformat": 3,
 "nbformat_minor": 0,
 "worksheets": [
  {
   "cells": [
    {
     "cell_type": "code",
     "collapsed": false,
     "input": [
      "import os\n",
      "import pandas as pd\n",
      "import numpy as np\n",
      "import csv"
     ],
     "language": "python",
     "metadata": {},
     "outputs": [],
     "prompt_number": 22
    },
    {
     "cell_type": "code",
     "collapsed": false,
     "input": [
      "path = r'I:\\Documents\\Klusjes\\GIDS Interpolation Air Temperature\\GSOD2009\\selection_nl'"
     ],
     "language": "python",
     "metadata": {},
     "outputs": [],
     "prompt_number": 32
    },
    {
     "cell_type": "code",
     "collapsed": false,
     "input": [
      "def rasterList(varpath, endwith, namefile):\n",
      "    # 1 - Precipitation\n",
      "    input_folder = varpath\n",
      "    varList = [os.path.join(root, name)\n",
      "                 for root, dirs, files in os.walk(input_folder)\n",
      "                 for name in files\n",
      "                 if name.endswith((endwith))]\n",
      "    print namefile + \" files : \"  + str(len(varList))\n",
      "    return varList"
     ],
     "language": "python",
     "metadata": {},
     "outputs": [],
     "prompt_number": 33
    },
    {
     "cell_type": "code",
     "collapsed": false,
     "input": [
      "q = rasterList(path,'.op','stations')"
     ],
     "language": "python",
     "metadata": {},
     "outputs": [
      {
       "output_type": "stream",
       "stream": "stdout",
       "text": [
        "stations files : 113\n"
       ]
      }
     ],
     "prompt_number": 34
    },
    {
     "cell_type": "code",
     "collapsed": false,
     "input": [
      "date = 20120502"
     ],
     "language": "python",
     "metadata": {},
     "outputs": [],
     "prompt_number": 26
    },
    {
     "cell_type": "code",
     "collapsed": false,
     "input": [
      "q[0]"
     ],
     "language": "python",
     "metadata": {},
     "outputs": [
      {
       "output_type": "pyout",
       "prompt_number": 35,
       "text": [
        "'I:\\\\Documents\\\\Klusjes\\\\GIDS Interpolation Air Temperature\\\\GSOD2009\\\\selection_nl\\\\034920-99999-2012.op'"
       ]
      }
     ],
     "prompt_number": 35
    },
    {
     "cell_type": "code",
     "collapsed": false,
     "input": [
      "#series = pd.Series(str(date))\n",
      "list_ = []\n",
      "for q_ in q:    \n",
      "    with open(q_) as f:\n",
      "        reader = csv.reader((f),delimiter=' ')\n",
      "        reader.next()    \n",
      "        for row in reader:\n",
      "            if row[3] == str(date):\n",
      "                if len(row[7]):                \n",
      "                    g = [int(row[0]),float(row[7])]\n",
      " #                   series.append(g)\n",
      "                    list_.append(g)                \n",
      "                elif len(row[8]):\n",
      "                    g = [int(row[0]),float(row[8])]\n",
      "  #                  series.append(g)\n",
      "                    list_.append(g)                \n",
      "                elif len(row[6]):\n",
      "                    g = [int(row[0]),float(row[6])]\n",
      "   #                 series.append(g)\n",
      "                    list_.append(g)                   "
     ],
     "language": "python",
     "metadata": {},
     "outputs": [],
     "prompt_number": 27
    },
    {
     "cell_type": "code",
     "collapsed": false,
     "input": [
      "row"
     ],
     "language": "python",
     "metadata": {},
     "outputs": [
      {
       "output_type": "pyout",
       "prompt_number": 36,
       "text": [
        "['996480',\n",
        " '99999',\n",
        " '',\n",
        " '20121013',\n",
        " '',\n",
        " '',\n",
        " '',\n",
        " '51.8',\n",
        " '24',\n",
        " '',\n",
        " '',\n",
        " '',\n",
        " '45.0',\n",
        " '24',\n",
        " '',\n",
        " '1005.5',\n",
        " '24',\n",
        " '',\n",
        " '9999.9',\n",
        " '',\n",
        " '0',\n",
        " '',\n",
        " '',\n",
        " '10.4',\n",
        " '24',\n",
        " '',\n",
        " '',\n",
        " '18.2',\n",
        " '24',\n",
        " '',\n",
        " '',\n",
        " '28.0',\n",
        " '',\n",
        " '999.9',\n",
        " '',\n",
        " '',\n",
        " '',\n",
        " '54.1*',\n",
        " '',\n",
        " '',\n",
        " '49.3*',\n",
        " '',\n",
        " '0.00I',\n",
        " '999.9',\n",
        " '',\n",
        " '000000']"
       ]
      }
     ],
     "prompt_number": 36
    },
    {
     "cell_type": "code",
     "collapsed": false,
     "input": [
      "len(list_)"
     ],
     "language": "python",
     "metadata": {},
     "outputs": [
      {
       "output_type": "pyout",
       "prompt_number": 28,
       "text": [
        "111"
       ]
      }
     ],
     "prompt_number": 28
    },
    {
     "cell_type": "code",
     "collapsed": false,
     "input": [
      "test= pd.DataFrame.from_dict(list_)"
     ],
     "language": "python",
     "metadata": {},
     "outputs": [],
     "prompt_number": 29
    },
    {
     "cell_type": "code",
     "collapsed": false,
     "input": [
      "test.to_csv(r'I:\\Documents\\Klusjes\\GIDS Interpolation Air Temperature\\GSOD2009//20120502a.csv')"
     ],
     "language": "python",
     "metadata": {},
     "outputs": [],
     "prompt_number": 31
    },
    {
     "cell_type": "code",
     "collapsed": false,
     "input": [
      "listd_ = []\n",
      "with open(q[315]) as f:\n",
      "    reader = csv.reader((f),delimiter=' ')\n",
      "    reader.next()    \n",
      "    for row in reader:\n",
      "        if row[3] == str(date):\n",
      "            if len(row[7]):                \n",
      "                g = row[7]\n",
      "                listd_.append(g)                \n",
      "            elif len(row[8]):\n",
      "                g = row[8]\n",
      "                listd_.append(g)                \n",
      "            elif len(row[6]):\n",
      "                g = row[6]\n",
      "                listd_.append(g)                \n",
      "            elif len(row[9]):\n",
      "                g = row[9]\n",
      "                listd_.append(g)                \n",
      "        "
     ],
     "language": "python",
     "metadata": {},
     "outputs": [],
     "prompt_number": 36
    },
    {
     "cell_type": "code",
     "collapsed": false,
     "input": [
      "df = pd.DataFrame(pd.Series())\n",
      "df.append('date',g)"
     ],
     "language": "python",
     "metadata": {},
     "outputs": []
    },
    {
     "cell_type": "code",
     "collapsed": false,
     "input": [
      "[3386500:-912500:-1000,1850500:6449500:1000]"
     ],
     "language": "python",
     "metadata": {},
     "outputs": []
    },
    {
     "cell_type": "code",
     "collapsed": false,
     "input": [
      "x = np.arange(0, 4600)\n",
      "y = np.arange(0, 4300)\n",
      "xx, yy = meshgrid(x, y, sparse=True)"
     ],
     "language": "python",
     "metadata": {},
     "outputs": []
    },
    {
     "cell_type": "code",
     "collapsed": false,
     "input": [
      "from scipy import stats\n",
      "from scipy.spatial.distance import cdist\n",
      "from scipy.spatial import cKDTree as KDTree\n",
      "import numpy as np\n",
      "from numpy import multiply as m\n",
      "from numpy import subtract as s\n",
      "from numpy import power as p\n",
      "from numpy import divide as d\n",
      "import pandas as pd\n",
      "import gdal"
     ],
     "language": "python",
     "metadata": {},
     "outputs": []
    },
    {
     "cell_type": "code",
     "collapsed": false,
     "input": [
      "data = [[0.8,0.7,5,25],[2.1,0.71,6,35],[0.75,2.2,8,20],[2.2,2.1,4,18]]\n",
      "columns = ['Long', 'Lat', 'H', 'T']\n",
      "df = pd.DataFrame(data, columns=columns)\n",
      "tree = KDTree(zip(df.ix[:,0],df.ix[:,1]), leafsize=10)\n",
      "dem = np.array([[5,7,6],[7,9,7],[8,7,4]])\n",
      "print 'Ground points\\n', df\n",
      "print 'Grid to evaluate\\n', dem"
     ],
     "language": "python",
     "metadata": {},
     "outputs": []
    },
    {
     "cell_type": "code",
     "collapsed": false,
     "input": [
      "def f(x,y):\n",
      "    data = [[x+0.5,y+0.5,dem[x,y]]]\n",
      "    \n",
      "    columns = ['Longp', 'Latp', 'Hp']\n",
      "    pix = pd.DataFrame(data, columns = columns)\n",
      "    #rpix = pix.ix[:,0:2].apply(tuple, axis=1).tolist()\n",
      "    rpix = [(x,y)]\n",
      "    \n",
      "    di_, ix_ = tree.query(rpix, k=3, eps=0, p=1) # returns distance and index\n",
      "    df_ = df.ix[ix_.ravel()]\n",
      "    #print 'return selection weather-stations\\n', df_\n",
      "        \n",
      "    longp = df_.ix[:,0]\n",
      "    latp = df_.ix[:,1]\n",
      "    hp = df_.ix[:,2]\n",
      "    tp = df_.ix[:,3]\n",
      "    #print tp \n",
      "    \n",
      "    # slope coefficients from fitting multuple linear regressions using Long, Lat and H on T\n",
      "    slope, intercept, r_value,p_value,std_err =stats.linregress(longp.sort_index(),tp.sort_index())\n",
      "    b1 = slope\n",
      "    slope, intercept, r_value,p_value,std_err =stats.linregress(latp.sort_index(),tp.sort_index())\n",
      "    b2 = slope\n",
      "    slope, intercept, r_value,p_value,std_err =stats.linregress(hp.sort_index(),tp.sort_index())\n",
      "    b3 = slope\n",
      "    \n",
      "    #print '\\nslope coefficient long on ti\\n',b1\n",
      "    #print '\\nlat on ti\\n',b2\n",
      "    #print '\\nh on ti\\n',b3\n",
      "    \n",
      "    di = cdist(df_.ix[:,0:2],pix.ix[:,0:2]) # Returns Eucleadian distance, maybe Haversine distance better\n",
      "    #df_.ix[:,0:2]\n",
      "    #np.array([x,y])\n",
      "    #print '\\neucledian distance\\n', di\n",
      "    return m( sum((p((d(1,di[:,0])),2)))**-1 , \n",
      "           sum(m(tp+(m(b1,(s(pix.ix[0,0],longp))) + m(b2,(s(pix.ix[0,1],latp))) + m(b3,(s(pix.ix[0,2],hp)))), (p((d(1,di[:,0])),2)))) )"
     ],
     "language": "python",
     "metadata": {},
     "outputs": []
    },
    {
     "cell_type": "code",
     "collapsed": false,
     "input": [
      "#Double for-loop\n",
      "tp = np.zeros([dem.shape[0],dem.shape[1]])\n",
      "for x in range(dem.shape[0]):\n",
      "    for y in range(dem.shape[1]):        \n",
      "        tp[x][y] = f(x,y)\n",
      "print 'T predicted\\n', tp"
     ],
     "language": "python",
     "metadata": {},
     "outputs": []
    },
    {
     "cell_type": "code",
     "collapsed": false,
     "input": [
      "# Evaluation of vectorized function using meshgrid\n",
      "x = np.arange(0,3,1)\n",
      "y = np.arange(0,3,1)\n",
      "xx, yy = meshgrid(x,y, sparse=True)\n",
      "f_vec = np.vectorize(f) # vectorization of function f\n",
      "tp_vec = f_vec(xx,yy).T\n",
      "print 'meshgrid\\n', xx,yy\n",
      "print 'T predicted using vectorized function\\n', tp_vec\n"
     ],
     "language": "python",
     "metadata": {},
     "outputs": []
    },
    {
     "cell_type": "code",
     "collapsed": false,
     "input": [
      "f_vec(xx,yy).T\n"
     ],
     "language": "python",
     "metadata": {},
     "outputs": []
    },
    {
     "cell_type": "code",
     "collapsed": false,
     "input": [
      "dem.shape[0]"
     ],
     "language": "python",
     "metadata": {},
     "outputs": []
    },
    {
     "cell_type": "code",
     "collapsed": false,
     "input": [
      "tp = np.zeros([dem.shape[0],dem.shape[1]])\n",
      "tp"
     ],
     "language": "python",
     "metadata": {},
     "outputs": []
    },
    {
     "cell_type": "code",
     "collapsed": false,
     "input": [
      "tp[0][0] = 2\n",
      "tp\n"
     ],
     "language": "python",
     "metadata": {},
     "outputs": []
    },
    {
     "cell_type": "code",
     "collapsed": false,
     "input": [],
     "language": "python",
     "metadata": {},
     "outputs": []
    },
    {
     "cell_type": "code",
     "collapsed": false,
     "input": [
      "f_vec = np.vectorize(f)\n",
      "f_vec(dem)"
     ],
     "language": "python",
     "metadata": {},
     "outputs": []
    },
    {
     "cell_type": "code",
     "collapsed": false,
     "input": [
      "data = [[x+0.5,y+0.5,dem[x,y]]]\n",
      "    \n",
      "columns = ['Longp', 'Latp', 'Hp']\n",
      "pix = pd.DataFrame(data, columns = columns)\n",
      "rpix = pix.ix[:,0:2].apply(tuple, axis=1).tolist()"
     ],
     "language": "python",
     "metadata": {},
     "outputs": []
    },
    {
     "cell_type": "code",
     "collapsed": false,
     "input": [
      "rpix\n",
      "pix = [(x,y)]\n",
      "pix"
     ],
     "language": "python",
     "metadata": {},
     "outputs": []
    },
    {
     "cell_type": "code",
     "collapsed": false,
     "input": [
      "for x in range(3):\n",
      "    for y in range(3):        \n",
      "        "
     ],
     "language": "python",
     "metadata": {},
     "outputs": []
    },
    {
     "cell_type": "code",
     "collapsed": false,
     "input": [
      "x = 1\n",
      "y = 3\n",
      "coo = (x,y)\n",
      "coo"
     ],
     "language": "python",
     "metadata": {},
     "outputs": []
    },
    {
     "cell_type": "code",
     "collapsed": false,
     "input": [],
     "language": "python",
     "metadata": {},
     "outputs": []
    },
    {
     "cell_type": "code",
     "collapsed": false,
     "input": [],
     "language": "python",
     "metadata": {},
     "outputs": []
    }
   ],
   "metadata": {}
  }
 ]
}