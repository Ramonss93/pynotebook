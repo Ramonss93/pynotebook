{
 "metadata": {
  "name": "GIDS interpolation_"
 },
 "nbformat": 3,
 "nbformat_minor": 0,
 "worksheets": [
  {
   "cells": [
    {
     "cell_type": "code",
     "collapsed": false,
     "input": [
      "from scipy import stats\n",
      "from scipy.spatial.distance import cdist\n",
      "from scipy.spatial import cKDTree as KDTree\n",
      "import numpy as np\n",
      "from numpy import multiply as m\n",
      "from numpy import subtract as s\n",
      "from numpy import power as p\n",
      "from numpy import divide as d\n",
      "import pandas as pd\n",
      "import gdal"
     ],
     "language": "python",
     "metadata": {},
     "outputs": [],
     "prompt_number": 1
    },
    {
     "cell_type": "heading",
     "level": 4,
     "metadata": {},
     "source": [
      "Load weatherstations and create KDTree"
     ]
    },
    {
     "cell_type": "code",
     "collapsed": false,
     "input": [
      "df = pd.DataFrame.from_csv(r'I:\\Documents\\Klusjes\\GIDS Interpolation Air Temperature//weatherstationsLL.csv', header=0 )\n",
      "df = df.reset_index()\n",
      "del df['index']\n",
      "print df.head()\n",
      "tree = KDTree(zip(df.ix[:,0],df.ix[:,1]), leafsize=10)"
     ],
     "language": "python",
     "metadata": {},
     "outputs": [
      {
       "output_type": "stream",
       "stream": "stdout",
       "text": [
        "          lati        longi  hi  ti    usaf          stationname\n",
        "0 -385698.9880  5384257.038   8  26  450070  HONG KONG INTERNATI\n",
        "1 -358150.6013  5404026.078  13  23  450320          TA KWU LING\n",
        "2 -367831.0943  5388535.644  35  13  450350         LAU FAU SHAN\n",
        "3 -372566.7328  5410987.319   8  32  450390              SHA TIN\n",
        "4 -397647.8727  5395909.634  79   9  450440          CHEUNG CHAU\n"
       ]
      }
     ],
     "prompt_number": 2
    },
    {
     "cell_type": "heading",
     "level": 4,
     "metadata": {},
     "source": [
      "Single datapoint to predict"
     ]
    },
    {
     "cell_type": "code",
     "collapsed": false,
     "input": [
      "data = [[4549189.300,854796.316,550]]\n",
      "columns = ['Longp','Latp','Hp']\n",
      "pix = pd.DataFrame(data, columns=columns)\n",
      "print pix"
     ],
     "language": "python",
     "metadata": {},
     "outputs": [
      {
       "output_type": "stream",
       "stream": "stdout",
       "text": [
        "       Longp        Latp   Hp\n",
        "0  4549189.3  854796.316  550\n"
       ]
      }
     ],
     "prompt_number": 3
    },
    {
     "cell_type": "heading",
     "level": 4,
     "metadata": {},
     "source": [
      "GIDS Function that combines the multiple regression and inverse-distance-squared approaches (Nalder and Wein, 1998)"
     ]
    },
    {
     "cell_type": "code",
     "collapsed": false,
     "input": [
      "def gids(inpoint):\n",
      "    pix = inpoint\n",
      "    rpix = pix.ix[:,0:2].apply(tuple, axis=1).tolist()\n",
      "    di_, ix = tree.query(rpix, k=10, eps=0, p=1) # returns distance and index\n",
      "    df_ = df.ix[ix.ravel()]\n",
      "    print 'return selection weather-stations\\n', df_\n",
      "    \n",
      "    longp = df_.ix[:,0]\n",
      "    latp = df_.ix[:,1]\n",
      "    hp = df_.ix[:,2]\n",
      "    tp = df_.ix[:,3]\n",
      "    \n",
      "    # slope coefficients from fitting multuple linear regressions using Long, Lat and H on T\n",
      "    slope, intercept, r_value,p_value,std_err =stats.linregress(longp.sort_index(),tp.sort_index())\n",
      "    b1 = slope\n",
      "    slope, intercept, r_value,p_value,std_err =stats.linregress(latp.sort_index(),tp.sort_index())\n",
      "    b2 = slope\n",
      "    slope, intercept, r_value,p_value,std_err =stats.linregress(hp.sort_index(),tp.sort_index())\n",
      "    b3 = slope\n",
      "    print '\\nslope coefficient long on ti\\n',b1\n",
      "    print '\\nlat on ti\\n',b2\n",
      "    print '\\nh on ti\\n',b3\n",
      "        \n",
      "    di = cdist(df_.ix[:,0:2],pix.ix[:,0:2]) # Returns Eucleadian distance, maybe Haversine distance better\n",
      "    print '\\neucledian distance\\n', di\n",
      "    \n",
      "    # return the predicted air temperature for input coordinates using slope coeffiecents and inverse distance squared approach\n",
      "    return m( sum((p((d(1,di[:,0])),2)))**-1 , \n",
      "           sum(m(tp+(m(b1,(s(pix.ix[0,0],longp))) + m(b2,(s(pix.ix[0,1],latp))) + m(b3,(s(pix.ix[0,2],hp)))), (p((d(1,di[:,0])),2)))) )"
     ],
     "language": "python",
     "metadata": {},
     "outputs": [],
     "prompt_number": 4
    },
    {
     "cell_type": "code",
     "collapsed": false,
     "input": [
      "gids(pix)"
     ],
     "language": "python",
     "metadata": {},
     "outputs": [
      {
       "output_type": "stream",
       "stream": "stdout",
       "text": [
        "return selection weather-stations\n",
        "           lati        longi    hi  ti    usaf stationname\n",
        "36  2480460.610  2765616.049   535   6  511330     TACHENG\n",
        "51  1746501.010  2072380.601  1380  26  517090       KASHI\n",
        "42  2180103.855  2588892.343   664  26  514310      YINING\n",
        "52  1873453.634  2302292.087  1986  21  517110        AKQI\n",
        "33  2597264.236  3026863.955   534   0  510530     KABA HE\n",
        "40  2237415.131  2718768.887   321  34  513340      JINGHE\n",
        "37  2457188.454  2962281.658  1294  20  511560    HOBOKSAR\n",
        "58  1604527.530  2147853.158  1232   5  518110      SHACHE\n",
        "53  1740622.599  2284591.481  1117   5  517160       BACHU\n",
        "38  2329187.339  2880111.398   428   1  512430     KARAMAY\n",
        "\n",
        "slope coefficient long on ti\n",
        "-4.69676342771e-06\n",
        "\n",
        "lat on ti\n",
        "-7.22420184644e-06\n",
        "\n",
        "h on ti\n",
        "0.00401552626731\n",
        "\n",
        "eucledian distance\n",
        "[[ 2816180.11583977]\n",
        " [ 3055744.2860917 ]\n",
        " [ 2935924.87583862]\n",
        " [ 3042171.15911767]\n",
        " [ 2920255.00322531]\n",
        " [ 2969628.5211952 ]\n",
        " [ 2969505.34709227]\n",
        " [ 3216057.98087387]\n",
        " [ 3151564.86968354]\n",
        " [ 3005047.40199227]]\n"
       ]
      },
      {
       "output_type": "pyout",
       "prompt_number": 5,
       "text": [
        "14.200153611421936"
       ]
      }
     ],
     "prompt_number": 5
    },
    {
     "cell_type": "code",
     "collapsed": false,
     "input": [
      "gids_ = np.vectorize(gids)"
     ],
     "language": "python",
     "metadata": {},
     "outputs": [],
     "prompt_number": 6
    },
    {
     "cell_type": "code",
     "collapsed": false,
     "input": [
      "gids_"
     ],
     "language": "python",
     "metadata": {},
     "outputs": [
      {
       "output_type": "pyout",
       "prompt_number": 7,
       "text": [
        "<numpy.lib.function_base.vectorize at 0x75becd0>"
       ]
      }
     ],
     "prompt_number": 7
    },
    {
     "cell_type": "code",
     "collapsed": false,
     "input": [
      "raster = r'I:\\Documents\\Klusjes\\GIDS Interpolation Air Temperature//dem.tif'\n",
      "c = gdal.Open(raster, gdal.GA_ReadOnly)\n",
      "d = c.GetRasterBand(1)\n",
      "r_data = d.ReadAsArray()"
     ],
     "language": "python",
     "metadata": {},
     "outputs": [],
     "prompt_number": 8
    },
    {
     "cell_type": "code",
     "collapsed": false,
     "input": [
      "c.RasterXSize,c.RasterYSize,"
     ],
     "language": "python",
     "metadata": {},
     "outputs": [
      {
       "output_type": "pyout",
       "prompt_number": 9,
       "text": [
        "(4600, 4300)"
       ]
      }
     ],
     "prompt_number": 9
    },
    {
     "cell_type": "heading",
     "level": 4,
     "metadata": {},
     "source": [
      "Creating index coordinate array"
     ]
    },
    {
     "cell_type": "code",
     "collapsed": false,
     "input": [
      "x,y = np.broadcast_arrays(*np.ogrid[3386500:-912500:-1000,1850500:6449500:1000])\n",
      "x,y"
     ],
     "language": "python",
     "metadata": {},
     "outputs": [
      {
       "output_type": "pyout",
       "prompt_number": 10,
       "text": [
        "(array([[3386500, 3386500, 3386500, ..., 3386500, 3386500, 3386500],\n",
        "       [3385500, 3385500, 3385500, ..., 3385500, 3385500, 3385500],\n",
        "       [3384500, 3384500, 3384500, ..., 3384500, 3384500, 3384500],\n",
        "       ..., \n",
        "       [-909500, -909500, -909500, ..., -909500, -909500, -909500],\n",
        "       [-910500, -910500, -910500, ..., -910500, -910500, -910500],\n",
        "       [-911500, -911500, -911500, ..., -911500, -911500, -911500]]),\n",
        " array([[1850500, 1851500, 1852500, ..., 6446500, 6447500, 6448500],\n",
        "       [1850500, 1851500, 1852500, ..., 6446500, 6447500, 6448500],\n",
        "       [1850500, 1851500, 1852500, ..., 6446500, 6447500, 6448500],\n",
        "       ..., \n",
        "       [1850500, 1851500, 1852500, ..., 6446500, 6447500, 6448500],\n",
        "       [1850500, 1851500, 1852500, ..., 6446500, 6447500, 6448500],\n",
        "       [1850500, 1851500, 1852500, ..., 6446500, 6447500, 6448500]]))"
       ]
      }
     ],
     "prompt_number": 10
    },
    {
     "cell_type": "code",
     "collapsed": false,
     "input": [],
     "language": "python",
     "metadata": {},
     "outputs": []
    }
   ],
   "metadata": {}
  }
 ]
}