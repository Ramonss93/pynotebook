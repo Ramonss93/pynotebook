{
 "metadata": {
  "name": "Nalder Wein Real Data-Function-Copy0-Test Cython"
 },
 "nbformat": 3,
 "nbformat_minor": 0,
 "worksheets": [
  {
   "cells": [
    {
     "cell_type": "code",
     "collapsed": false,
     "input": [
      "from distutils.core import setup\n",
      "from distutils.extension import Extension\n",
      "from Cython.Distutils import build_ext"
     ],
     "language": "python",
     "metadata": {},
     "outputs": [],
     "prompt_number": 2
    },
    {
     "cell_type": "code",
     "collapsed": false,
     "input": [
      "import numpy as np"
     ],
     "language": "python",
     "metadata": {},
     "outputs": [
      {
       "ename": "SyntaxError",
       "evalue": "invalid syntax (<ipython-input-3-6ac6a0f1531b>, line 1)",
       "output_type": "pyerr",
       "traceback": [
        "\u001b[1;36m  File \u001b[1;32m\"<ipython-input-3-6ac6a0f1531b>\"\u001b[1;36m, line \u001b[1;32m1\u001b[0m\n\u001b[1;33m    cimport numpy as np\u001b[0m\n\u001b[1;37m                ^\u001b[0m\n\u001b[1;31mSyntaxError\u001b[0m\u001b[1;31m:\u001b[0m invalid syntax\n"
       ]
      }
     ],
     "prompt_number": 3
    },
    {
     "cell_type": "code",
     "collapsed": false,
     "input": [],
     "language": "python",
     "metadata": {},
     "outputs": []
    },
    {
     "cell_type": "heading",
     "level": 4,
     "metadata": {},
     "source": [
      "Import modules"
     ]
    },
    {
     "cell_type": "code",
     "collapsed": false,
     "input": [
      "from scipy import stats\n",
      "from scipy.spatial.distance import cdist\n",
      "from scipy.spatial import cKDTree as KDTree\n",
      "import statsmodels.api as sm\n",
      "import numpy as np\n",
      "import pandas as pd\n",
      "import gdal"
     ],
     "language": "python",
     "metadata": {},
     "outputs": [],
     "prompt_number": 1
    },
    {
     "cell_type": "heading",
     "level": 4,
     "metadata": {},
     "source": [
      "Import weather-stations who have data on 20090101"
     ]
    },
    {
     "cell_type": "code",
     "collapsed": false,
     "input": [
      "df = pd.DataFrame.from_csv(r'I:\\Documents\\Klusjes\\GIDS Interpolation Air Temperature//weatherstations_20090101.csv', header=0 )\n",
      "df = df.reset_index()\n",
      "del df['index']\n",
      "print 'Ground points\\n', df.head()"
     ],
     "language": "python",
     "metadata": {},
     "outputs": [
      {
       "output_type": "stream",
       "stream": "stdout",
       "text": [
        "Ground points\n",
        "          lati        longi  hi    ti    usaf          stationname  \\\n",
        "0 -385698.9880  5384257.038   8  58.4  450070  HONG KONG INTERNATI   \n",
        "1 -358150.6013  5404026.078  13  51.8  450320          TA KWU LING   \n",
        "2 -367831.0943  5388535.644  35  55.7  450350         LAU FAU SHAN   \n",
        "3 -372566.7328  5410987.319   8  58.6  450390              SHA TIN   \n",
        "4 -397647.8727  5395909.634  79  57.6  450440          CHEUNG CHAU   \n",
        "\n",
        "    scaledlat   scaledlong  \n",
        "0  527.301012  3534.257038  \n",
        "1  554.849399  3554.026078  \n",
        "2  545.168906  3538.535644  \n",
        "3  540.433267  3560.987319  \n",
        "4  515.352127  3545.909634  \n"
       ]
      }
     ],
     "prompt_number": 2
    },
    {
     "cell_type": "heading",
     "level": 4,
     "metadata": {},
     "source": [
      "Create kd-tree for quick nearest-neighbour lookup using scaledlat and scaledlong"
     ]
    },
    {
     "cell_type": "code",
     "collapsed": false,
     "input": [
      "Longscaled = df.ix[:,7]\n",
      "Latscaled = df.ix[:,6]\n",
      "tree = KDTree(zip(Longscaled,Latscaled), leafsize=11)"
     ],
     "language": "python",
     "metadata": {},
     "outputs": [],
     "prompt_number": 3
    },
    {
     "cell_type": "heading",
     "level": 4,
     "metadata": {},
     "source": [
      "DEM to open, check if there's a NoData value"
     ]
    },
    {
     "cell_type": "code",
     "collapsed": false,
     "input": [
      "file_raster = r'I:\\Documents\\Klusjes\\GIDS Interpolation Air Temperature//dem.tif'\n",
      "raster = gdal.Open(file_raster, gdal.GA_ReadOnly)\n",
      "band = raster.GetRasterBand(1)\n",
      "dem = band.ReadAsArray()\n",
      "print band.GetNoDataValue()\n",
      "print 'Grid to evaluate\\n', dem"
     ],
     "language": "python",
     "metadata": {},
     "outputs": [
      {
       "output_type": "stream",
       "stream": "stdout",
       "text": [
        "None\n",
        "Grid to evaluate\n",
        "[[ 248.  250.  233. ...,  184.  158.  158.]\n",
        " [ 255.  254.  243. ...,  151.  147.  144.]\n",
        " [ 264.  260.  255. ...,  135.  129.  128.]\n",
        " ..., \n",
        " [  76.   75.   70. ...,    0.    0.    0.]\n",
        " [  82.   77.   63. ...,    0.    0.    0.]\n",
        " [  74.   69.   70. ...,    0.    0.    0.]]\n"
       ]
      }
     ],
     "prompt_number": 4
    },
    {
     "cell_type": "heading",
     "level": 4,
     "metadata": {},
     "source": [
      "Get GeoTransform top left coordinate + cellsize (long,cellsize_long,x3,lat,x5,cellsize_lat) and projection info"
     ]
    },
    {
     "cell_type": "code",
     "collapsed": false,
     "input": [
      "extent = raster.GetGeoTransform()\n",
      "print extent\n",
      "print raster.GetProjection() # fyi"
     ],
     "language": "python",
     "metadata": {},
     "outputs": [
      {
       "output_type": "stream",
       "stream": "stdout",
       "text": [
        "(1850000.0, 1000.0, 0.0, 3387000.0, 0.0, -1000.0)\n",
        "PROJCS[\"IMAGINE GeoTIFF Support\n",
        "ERDAS IMAGINE 9.3 Service Pack 1 GeoTIFF support\n",
        "Projection = Albers Conical Equal Area\",GEOGCS[\"WGS 84\",DATUM[\"WGS_1984\",SPHEROID[\"WGS 84\",6378137,298.257223563,AUTHORITY[\"EPSG\",\"7030\"]],AUTHORITY[\"EPSG\",\"6326\"]],PRIMEM[\"Greenwich\",0],UNIT[\"degree\",0.0174532925199433],AUTHORITY[\"EPSG\",\"4326\"]],PROJECTION[\"Albers_Conic_Equal_Area\"],PARAMETER[\"standard_parallel_1\",15],PARAMETER[\"standard_parallel_2\",55],PARAMETER[\"latitude_of_center\",35],PARAMETER[\"longitude_of_center\",100],PARAMETER[\"false_easting\",4000000],PARAMETER[\"false_northing\",1000000],UNIT[\"meters\",1]]\n"
       ]
      }
     ],
     "prompt_number": 5
    },
    {
     "cell_type": "heading",
     "level": 4,
     "metadata": {},
     "source": [
      "Function that describe whole the function that needs to be evaluated for each cell"
     ]
    },
    {
     "cell_type": "code",
     "collapsed": false,
     "input": [
      "def GIDS(x,y):\n",
      "    \n",
      "    x_y = [(x,4299-y)] # for kd_tree that starts counting at bottom left with 0,0\n",
      "    \n",
      "    x_ = (x*extent[1]+extent[0]+extent[1]/2) # longitude aalbers projection (meters)\n",
      "    y_ = (y*extent[5]+extent[3]+extent[5]/2) # latitude aalbers projection (meters)\n",
      "    long_lat = np.array([[x_,y_]])\n",
      "    \n",
      "    print long_lat\n",
      "    \n",
      "    dem_1 = dem[y,x] # elevation x_y coordinate\n",
      "    dist_tree, ix_tree = tree.query(x_y, k=10, eps=0, p=1) # returns distance and index\n",
      "    df_selection = df.ix[ix_tree.ravel()]\n",
      "    \n",
      "    print 'elevation from x_y -', dem_1\n",
      "    print '\\n10 nearest neighbours\\n', df_selection\n",
      "    \n",
      "    Longi = df_selection.ix[:,1]\n",
      "    Lati = df_selection.ix[:,0]\n",
      "    hi = df_selection.ix[:,2] \n",
      "    \n",
      "    pr_var = zip(Longi,Lati,hi) # combines predictor variables as tuples\n",
      "    y = zip(df_selection.ix[:,3]) # dependent variable\n",
      "    X = sm.add_constant(pr_var) # multiple linear regression\n",
      "    \n",
      "    #fit the model\n",
      "    mlr = sm.OLS(y,X).fit()\n",
      "    b1,b2,b3,b0 = mlr.params\n",
      "    print mlr.summary()\n",
      "    \n",
      "    long_lat_stations = df_selection.as_matrix(columns=['longi','lati']) \n",
      "                                 \n",
      "    di = cdist(long_lat_stations, long_lat, 'euclidean') # Returns Eucleadian distance in meters between grid cell and selected weather-stations\n",
      "    print di\n",
      "    \n",
      "    # prepare datasets as flattened numpy array or as single values\n",
      "    Hi = df_selection.as_matrix(columns=['hi']).flatten()\n",
      "    Ti = df_selection.as_matrix(columns=['ti']).flatten()\n",
      "    di_ = di.flatten()\n",
      "    long_lat_ = long_lat.flatten()\n",
      "    Longi_ = df_selection.as_matrix(columns=['longi',]).flatten()\n",
      "    Lati_ = df_selection.as_matrix(columns=['lati',]).flatten()\n",
      "    \n",
      "    top =    sum( (1/di_)**2 )**-1\n",
      "    long_f = b1*(long_lat_[0]-Longi_)\n",
      "    lat_f =  b2*(long_lat_[1]-Lati_)\n",
      "    h_f =    b3*(dem_1-Hi)\n",
      "    middle = Ti + long_f + lat_f + h_f\n",
      "    end = (1/di_)**2 \n",
      "    comb = top * sum( middle * end )\n",
      "    print comb\n",
      "    return comb"
     ],
     "language": "python",
     "metadata": {},
     "outputs": [],
     "prompt_number": 6
    },
    {
     "cell_type": "code",
     "collapsed": false,
     "input": [
      "GIDS(2500,2500)"
     ],
     "language": "python",
     "metadata": {},
     "outputs": [
      {
       "output_type": "stream",
       "stream": "stdout",
       "text": [
        "[[ 4350500.   886500.]]\n",
        "elevation from x_y - 2845.0\n",
        "\n",
        "10 nearest neighbours\n",
        "             lati        longi    hi    ti    usaf stationname    scaledlat  \\\n",
        "199   837165.5734  4258876.363  3441  22.2  560790    RUOERGAI  1750.165573   \n",
        "201   821976.3473  4430301.424  1079  39.7  560960        WUDU  1734.976347   \n",
        "210   729077.0153  4315011.898  2883  25.1  561820     SONGPAN  1642.077015   \n",
        "200  1003892.1520  4248462.896  2910  17.6  560800       HEZUO  1916.892152   \n",
        "84   1109639.8150  4351771.030  1875  21.9  529830    YU ZHONG  2022.639815   \n",
        "248   963441.1678  4505887.995  1086  31.8  570140      BEIDAO  1876.441168   \n",
        "85   1055715.0300  4426577.495  2450  18.0  529960  HUAJIALING  1968.715030   \n",
        "71   1126064.7870  4317199.403  1947  19.8  525331  ZHONGCHUAN  2039.064787   \n",
        "198   970052.8031  4137306.938  3501  15.2  560650       HENAN  1883.052803   \n",
        "255   793307.8564  4618093.305   509  37.7  571270    HANZHONG  1706.307856   \n",
        "\n",
        "      scaledlong  \n",
        "199  2408.876363  \n",
        "201  2580.301424  \n",
        "210  2465.011898  \n",
        "200  2398.462896  \n",
        "84   2501.771030  \n",
        "248  2655.887995  \n",
        "85   2576.577495  \n",
        "71   2467.199403  \n",
        "198  2287.306938  \n",
        "255  2768.093305  \n",
        "                            OLS Regression Results                            \n",
        "==============================================================================\n",
        "Dep. Variable:                      y   R-squared:                       0.960\n",
        "Model:                            OLS   Adj. R-squared:                  0.940\n",
        "Method:                 Least Squares   F-statistic:                     47.62\n",
        "Date:                Fri, 06 Sep 2013   Prob (F-statistic):           0.000141\n",
        "Time:                        01:49:08   Log-Likelihood:                -19.141\n",
        "No. Observations:                  10   AIC:                             46.28\n",
        "Df Residuals:                       6   BIC:                             47.49\n",
        "Df Model:                           3                                         \n",
        "==============================================================================\n",
        "                 coef    std err          t      P>|t|      [95.0% Conf. Int.]\n",
        "------------------------------------------------------------------------------\n",
        "x1          -1.63e-05   1.25e-05     -1.303      0.240     -4.69e-05  1.43e-05\n",
        "x2         -3.516e-05   5.47e-06     -6.421      0.001     -4.86e-05 -2.18e-05\n",
        "x3            -0.0084      0.002     -5.159      0.002        -0.012    -0.004\n",
        "const        147.2984     59.830      2.462      0.049         0.900   293.697\n",
        "==============================================================================\n",
        "Omnibus:                        0.956   Durbin-Watson:                   1.054\n",
        "Prob(Omnibus):                  0.620   Jarque-Bera (JB):                0.734\n",
        "Skew:                           0.378   Prob(JB):                        0.693\n",
        "Kurtosis:                       1.910   Cond. No.                     3.99e+08\n",
        "==============================================================================\n",
        "\n",
        "The condition number is large, 3.99e+08. This might indicate that there are\n",
        "strong multicollinearity or other numerical problems."
       ]
      },
      {
       "output_type": "stream",
       "stream": "stdout",
       "text": [
        "\n",
        "[[ 104061.40737593]\n",
        " [ 102623.4331436 ]\n",
        " [ 161373.48448682]\n",
        " [ 155539.34532425]\n",
        " [ 223143.43493703]\n",
        " [ 173393.69161693]\n",
        " [ 185530.3522968 ]\n",
        " [ 241868.18089801]\n",
        " [ 228981.11841548]\n",
        " [ 283356.58190624]]\n",
        "22.242377259\n"
       ]
      },
      {
       "output_type": "pyout",
       "prompt_number": 8,
       "text": [
        "22.242377258970215"
       ]
      }
     ],
     "prompt_number": 8
    },
    {
     "cell_type": "code",
     "collapsed": false,
     "input": [],
     "language": "python",
     "metadata": {},
     "outputs": []
    },
    {
     "cell_type": "code",
     "collapsed": false,
     "input": [
      "tp = np.zeros([100,100])\n",
      "tp.shape"
     ],
     "language": "python",
     "metadata": {},
     "outputs": []
    },
    {
     "cell_type": "code",
     "collapsed": false,
     "input": [
      "#Double for-loop\n",
      "for x in range(100):\n",
      "    for y in range(100):        \n",
      "        tp[x][y] = h(x,y)\n",
      "#print 'T predicted\\n', tp"
     ],
     "language": "python",
     "metadata": {},
     "outputs": []
    },
    {
     "cell_type": "code",
     "collapsed": false,
     "input": [
      "# Evaluation of vectorized function using meshgrid\n",
      "x = np.arange(0,100,1)\n",
      "y = np.arange(0,100,1)\n",
      "xx, yy = np.meshgrid(x,y, sparse=True)\n",
      "f_vec = np.vectorize(g) # vectorization of function f"
     ],
     "language": "python",
     "metadata": {},
     "outputs": []
    },
    {
     "cell_type": "code",
     "collapsed": false,
     "input": [
      "for i in range(0,4600;2):\n",
      "tp_vec = f_vec(xx,yy).T\n",
      "#print 'meshgrid\\nx\\n', xx,'\\ny\\n',yy\n",
      "#print 'T predicted using vectorized function\\n', tp_vec"
     ],
     "language": "python",
     "metadata": {},
     "outputs": []
    },
    {
     "cell_type": "code",
     "collapsed": false,
     "input": [
      "xx, yy"
     ],
     "language": "python",
     "metadata": {},
     "outputs": []
    },
    {
     "cell_type": "code",
     "collapsed": false,
     "input": [
      "f_vec"
     ],
     "language": "python",
     "metadata": {},
     "outputs": []
    },
    {
     "cell_type": "code",
     "collapsed": false,
     "input": [
      "dem[0:100,:]"
     ],
     "language": "python",
     "metadata": {},
     "outputs": []
    },
    {
     "cell_type": "code",
     "collapsed": false,
     "input": [
      "dem"
     ],
     "language": "python",
     "metadata": {},
     "outputs": []
    },
    {
     "cell_type": "code",
     "collapsed": false,
     "input": [],
     "language": "python",
     "metadata": {},
     "outputs": []
    },
    {
     "cell_type": "code",
     "collapsed": false,
     "input": [
      "tp[0:4310,:] = dem[0:4310,:]"
     ],
     "language": "python",
     "metadata": {},
     "outputs": []
    },
    {
     "cell_type": "code",
     "collapsed": false,
     "input": [
      "tp = np.zeros([4300,4600])"
     ],
     "language": "python",
     "metadata": {},
     "outputs": []
    },
    {
     "cell_type": "code",
     "collapsed": false,
     "input": [
      "tp = np.zeros([4300,4600])\n",
      "f_vec = np.vectorize(h) # vectorization of function f\n",
      "for i in xrange(0,10,2):\n",
      "    step = i+2\n",
      "    dem_ = dem[i:step,:]\n",
      "    print dem_\n",
      "    # Evaluation of vectorized function using meshgrid\n",
      "    x = np.arange(0,4600,1)\n",
      "    y = np.arange(i,step,1)\n",
      "    xx, yy = np.meshgrid(x,y, sparse=True)\n",
      "    print xx, yy\n",
      "    tp[i:step,:] = f_vec(xx,yy)\n",
      "    "
     ],
     "language": "python",
     "metadata": {},
     "outputs": []
    },
    {
     "cell_type": "code",
     "collapsed": false,
     "input": [],
     "language": "python",
     "metadata": {},
     "outputs": []
    }
   ],
   "metadata": {}
  }
 ]
}