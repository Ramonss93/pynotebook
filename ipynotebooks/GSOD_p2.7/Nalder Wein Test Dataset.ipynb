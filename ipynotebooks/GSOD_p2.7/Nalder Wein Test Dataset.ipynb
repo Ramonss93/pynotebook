{
 "metadata": {
  "name": "Nalder Wein Test Dataset"
 },
 "nbformat": 3,
 "nbformat_minor": 0,
 "worksheets": [
  {
   "cells": [
    {
     "cell_type": "code",
     "collapsed": false,
     "input": [
      "from scipy import stats\n",
      "from scipy.spatial.distance import cdist\n",
      "from scipy.spatial import cKDTree as KDTree\n",
      "import numpy as np\n",
      "from numpy import multiply as m\n",
      "from numpy import subtract as s\n",
      "from numpy import power as p\n",
      "from numpy import divide as d\n",
      "import pandas as pd\n",
      "import gdal"
     ],
     "language": "python",
     "metadata": {},
     "outputs": [],
     "prompt_number": 1
    },
    {
     "cell_type": "code",
     "collapsed": false,
     "input": [
      "data = [[0.8,0.7,5,25],[2.1,0.71,6,35],[0.75,2.2,8,20],[2.2,2.1,4,18]]\n",
      "columns = ['Long', 'Lat', 'H', 'T']\n",
      "df = pd.DataFrame(data, columns=columns)\n",
      "tree = KDTree(zip(df.ix[:,0],df.ix[:,1]), leafsize=10)\n",
      "dem = np.array([[5,7,6],[7,9,7],[8,7,4]])\n",
      "print 'Ground points\\n', df\n",
      "print 'Grid to evaluate\\n', dem"
     ],
     "language": "python",
     "metadata": {},
     "outputs": [
      {
       "output_type": "stream",
       "stream": "stdout",
       "text": [
        "Ground points\n",
        "   Long   Lat  H   T\n",
        "0  0.80  0.70  5  25\n",
        "1  2.10  0.71  6  35\n",
        "2  0.75  2.20  8  20\n",
        "3  2.20  2.10  4  18\n",
        "Grid to evaluate\n",
        "[[5 7 6]\n",
        " [7 9 7]\n",
        " [8 7 4]]\n"
       ]
      }
     ],
     "prompt_number": 2
    },
    {
     "cell_type": "code",
     "collapsed": false,
     "input": [
      "def f(x,y):\n",
      "    data = [[x+0.5,y+0.5,dem[x,y]]]\n",
      "    \n",
      "    columns = ['Longp', 'Latp', 'Hp']\n",
      "    pix = pd.DataFrame(data, columns = columns)\n",
      "    #rpix = pix.ix[:,0:2].apply(tuple, axis=1).tolist()\n",
      "    rpix = [(x,y)]\n",
      "    \n",
      "    di_, ix_ = tree.query(rpix, k=3, eps=0, p=1) # returns distance and index\n",
      "    df_ = df.ix[ix_.ravel()]\n",
      "    #print 'return selection weather-stations\\n', df_\n",
      "        \n",
      "    longp = df_.ix[:,0]\n",
      "    latp = df_.ix[:,1]\n",
      "    hp = df_.ix[:,2]\n",
      "    tp = df_.ix[:,3]\n",
      "    #print tp \n",
      "    \n",
      "    # slope coefficients from fitting multuple linear regressions using Long, Lat and H on T\n",
      "    slope, intercept, r_value,p_value,std_err =stats.linregress(longp.sort_index(),tp.sort_index())\n",
      "    b1 = slope\n",
      "    slope, intercept, r_value,p_value,std_err =stats.linregress(latp.sort_index(),tp.sort_index())\n",
      "    b2 = slope\n",
      "    slope, intercept, r_value,p_value,std_err =stats.linregress(hp.sort_index(),tp.sort_index())\n",
      "    b3 = slope\n",
      "    \n",
      "    #print '\\nslope coefficient long on ti\\n',b1\n",
      "    #print '\\nlat on ti\\n',b2\n",
      "    #print '\\nh on ti\\n',b3\n",
      "    \n",
      "    di = cdist(df_.ix[:,0:2],pix.ix[:,0:2]) # Returns Eucleadian distance, maybe Haversine distance better\n",
      "    #df_.ix[:,0:2]\n",
      "    #np.array([x,y])\n",
      "    #print '\\neucledian distance\\n', di\n",
      "    return m( sum((p((d(1,di[:,0])),2)))**-1 , \n",
      "           sum(m(tp+(m(b1,(s(pix.ix[0,0],longp))) + m(b2,(s(pix.ix[0,1],latp))) + m(b3,(s(pix.ix[0,2],hp)))), (p((d(1,di[:,0])),2)))) )"
     ],
     "language": "python",
     "metadata": {},
     "outputs": [],
     "prompt_number": 3
    },
    {
     "cell_type": "code",
     "collapsed": false,
     "input": [
      "#Double for-loop\n",
      "tp = np.zeros([dem.shape[0],dem.shape[1]])\n",
      "for x in range(dem.shape[0]):\n",
      "    for y in range(dem.shape[1]):        \n",
      "        tp[x][y] = f(x,y)\n",
      "print 'T predicted\\n', tp"
     ],
     "language": "python",
     "metadata": {},
     "outputs": [
      {
       "output_type": "stream",
       "stream": "stdout",
       "text": [
        "T predicted\n",
        "[[ 24.0015287   18.54595636  19.60427132]\n",
        " [ 28.90354881  20.72871172  17.35098489]\n",
        " [ 54.69499782  43.79200925  15.33702417]]\n"
       ]
      }
     ],
     "prompt_number": 4
    },
    {
     "cell_type": "code",
     "collapsed": false,
     "input": [
      "# Evaluation of vectorized function using meshgrid\n",
      "x = np.arange(0,3,1)\n",
      "y = np.arange(0,3,1)\n",
      "xx, yy = np.meshgrid(x,y, sparse=True)\n",
      "f_vec = np.vectorize(f) # vectorization of function f\n",
      "tp_vec = f_vec(xx,yy).T\n",
      "print 'meshgrid\\nx\\n', xx,'\\ny\\n',yy\n",
      "print 'T predicted using vectorized function\\n', tp_vec"
     ],
     "language": "python",
     "metadata": {},
     "outputs": [
      {
       "output_type": "stream",
       "stream": "stdout",
       "text": [
        "meshgrid\n",
        "x\n",
        "[[0 1 2]] \n",
        "y\n",
        "[[0]\n",
        " [1]\n",
        " [2]]\n",
        "T predicted using vectorized function\n",
        "[[ 24.0015287   18.54595636  19.60427132]\n",
        " [ 28.90354881  20.72871172  17.35098489]\n",
        " [ 54.69499782  43.79200925  15.33702417]]\n"
       ]
      }
     ],
     "prompt_number": 6
    },
    {
     "cell_type": "code",
     "collapsed": false,
     "input": [],
     "language": "python",
     "metadata": {},
     "outputs": [],
     "prompt_number": 5
    },
    {
     "cell_type": "code",
     "collapsed": false,
     "input": [],
     "language": "python",
     "metadata": {},
     "outputs": [],
     "prompt_number": 5
    },
    {
     "cell_type": "code",
     "collapsed": false,
     "input": [],
     "language": "python",
     "metadata": {},
     "outputs": []
    }
   ],
   "metadata": {}
  }
 ]
}