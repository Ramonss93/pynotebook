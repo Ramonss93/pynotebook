{
 "metadata": {
  "name": "GIDS interpolation"
 },
 "nbformat": 3,
 "nbformat_minor": 0,
 "worksheets": [
  {
   "cells": [
    {
     "cell_type": "code",
     "collapsed": false,
     "input": [
      "from scipy import stats\n",
      "from scipy.spatial.distance import cdist\n",
      "import numpy as np\n",
      "from numpy import multiply as m\n",
      "from numpy import subtract as s\n",
      "from numpy import power as p\n",
      "from numpy import divide as d\n",
      "import pandas as pd"
     ],
     "language": "python",
     "metadata": {},
     "outputs": [],
     "prompt_number": 1
    },
    {
     "cell_type": "code",
     "collapsed": false,
     "input": [
      "df = pd.DataFrame.from_csv(r'C:\\Users\\MATTIJN\\Desktop\\controlstations.csv', header=0 )\n",
      "df = df.reset_index()\n",
      "del df['index']\n",
      "print df"
     ],
     "language": "python",
     "metadata": {},
     "outputs": [
      {
       "output_type": "stream",
       "stream": "stdout",
       "text": [
        "      Longi       Lati  Hi  Ti\n",
        "0  4.764019  52.193197  42  28\n",
        "1  5.739738  52.164287  19  17\n",
        "2  5.212127  51.557172  40  26\n"
       ]
      }
     ],
     "prompt_number": 2
    },
    {
     "cell_type": "code",
     "collapsed": false,
     "input": [
      "data = [[5.266334,51.972757,40]]\n",
      "columns = ['Longp','Latp','Hp']\n",
      "pix = pd.DataFrame(data, columns=columns)\n",
      "print pix"
     ],
     "language": "python",
     "metadata": {},
     "outputs": [
      {
       "output_type": "stream",
       "stream": "stdout",
       "text": [
        "      Longp       Latp  Hp\n",
        "0  5.266334  51.972757  40\n"
       ]
      }
     ],
     "prompt_number": 3
    },
    {
     "cell_type": "heading",
     "level": 4,
     "metadata": {},
     "source": [
      "GIDS Function that combines the multiple regression and inverse-distance-squared approaches (Nalder and Wein, 1998)"
     ]
    },
    {
     "cell_type": "code",
     "collapsed": false,
     "input": [
      "def gids(weatherstations,rasterpoint):\n",
      "    df = weatherstations\n",
      "    pix = rasterpoint\n",
      "    longp = df.ix[:,0]\n",
      "    latp = df.ix[:,1]\n",
      "    hp = df.ix[:,2]\n",
      "    tp = df.ix[:,3]\n",
      "    slope, intercept, r_value,p_value,std_err =stats.linregress(longp,tp)\n",
      "    b1 = slope\n",
      "    line = slope*longp+intercept\n",
      "    plot(longp,line,'r-',longp,tp,'o')\n",
      "    show()\n",
      "    slope, intercept, r_value,p_value,std_err =stats.linregress(latp,tp)\n",
      "    b2 = slope\n",
      "    line = slope*latp+intercept\n",
      "    plot(latp,line,'r-',longp,tp,'o')\n",
      "    show()\n",
      "    slope, intercept, r_value,p_value,std_err =stats.linregress(hp,tp)\n",
      "    b3 = slope\n",
      "    line = slope*hp+intercept\n",
      "    plot(latp,line,'r-',longp,tp,'o')\n",
      "    show()\n",
      "    print b1,b2,b3\n",
      "    \n",
      "    XA = df.ix[:,0:2] \n",
      "    XB = pix.ix[:,0:2]#np.array([[5.266334, 51.972757]]) # Coordinates to predict T\n",
      "    di = cdist(XA, XB)\n",
      "    print di\n",
      "    \n",
      "    j = m( sum((p((d(1,di[:,0])),2)))**-1 , \n",
      "           sum(m(tp+(m(b1,(s(pix.ix[0,0],longp))) + \n",
      "           m(b2,(s(pix.ix[0,1],latp))) + \n",
      "           m(b3,(s(pix.ix[0,2],hp)))),\n",
      "           (p((d(1,di[:,0])),2)))) )\n",
      "    return j"
     ],
     "language": "python",
     "metadata": {},
     "outputs": [],
     "prompt_number": 10
    },
    {
     "cell_type": "code",
     "collapsed": false,
     "input": [
      "gids(df,pix)"
     ],
     "language": "python",
     "metadata": {},
     "outputs": [
      {
       "output_type": "display_data",
       "png": "[encoded data removed]"
      },
      {
       "output_type": "display_data",
       "png": "[encoded data removed]"
      },
      {
       "output_type": "display_data",
       "png": "[encoded data removed]"
      },
      {
       "output_type": "stream",
       "stream": "stdout",
       "text": [
        "-11.4432674587 -5.00544470341 0.457905544148\n",
        "[[ 0.54855643]\n",
        " [ 0.510681  ]\n",
        " [ 0.41910535]]\n"
       ]
      },
      {
       "output_type": "pyout",
       "prompt_number": 9,
       "text": [
        "25.969151310090748"
       ]
      }
     ],
     "prompt_number": 9
    },
    {
     "cell_type": "code",
     "collapsed": false,
     "input": [],
     "language": "python",
     "metadata": {},
     "outputs": []
    }
   ],
   "metadata": {}
  }
 ]
}