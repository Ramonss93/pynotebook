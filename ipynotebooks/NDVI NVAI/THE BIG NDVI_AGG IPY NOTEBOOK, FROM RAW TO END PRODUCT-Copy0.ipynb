{
 "metadata": {
  "name": ""
 },
 "nbformat": 3,
 "nbformat_minor": 0,
 "worksheets": [
  {
   "cells": [
    {
     "cell_type": "code",
     "collapsed": false,
     "input": [
      "from scipy.io import readsav\n",
      "from mattijn import dikkelul\n",
      "from mattijn import dikkelul as dl\n",
      "from mattijn import read_1dd\n",
      "import os\n",
      "import pandas as pd\n",
      "from osgeo import gdal, osr\n",
      "import sys\n",
      "import numpy as np"
     ],
     "language": "python",
     "metadata": {},
     "outputs": [],
     "prompt_number": 1
    },
    {
     "cell_type": "heading",
     "level": 1,
     "metadata": {},
     "source": [
      "Annual Mean, Standard deviation, Maximum and Minimum of NDVI anomaly"
     ]
    },
    {
     "cell_type": "code",
     "collapsed": false,
     "input": [
      "path = r'D:\\Data\\NDVI'\n",
      "files = dl.FilesFolder(path, '.tif')\n",
      "#files = files[0:-43]\n",
      "\n",
      "ds = gdal.Open(files[0])\n",
      "band = ds.GetRasterBand(1)\n",
      "barray = band.ReadAsArray()\n",
      "nan = band.GetNoDataValue()\n",
      "if nan:\n",
      "    print ('nan bestaat')\n",
      "else:\n",
      "    nan=0\n",
      "print (nan)\n",
      "\n",
      "for i in range(1,366,8):\n",
      "    #print (i)\n",
      "    base = np.full_like(barray, nan)\n",
      "    base = base[None] # add another dimenstion for vstack\n",
      "    for fil in files:    \n",
      "        \n",
      "        if int(fil[-7:-4]) == i:\n",
      "            print (fil)\n",
      "            array = gdal.Open(fil).ReadAsArray().astype(float)\n",
      "\n",
      "            array = array[None] # add another dimension for vstack\n",
      "            base = np.vstack((base,array)) # vstack all rasters with same doy\n",
      "            \n",
      "    # mask where value is nan\n",
      "    base = np.ma.masked_equal(base, nan)\n",
      "    basestd = np.std(base, axis=0) #unhash for standard deviation calculation\n",
      "    basemean = np.mean(base, axis=0)\n",
      "    basemax = np.max(base, axis=0)\n",
      "    basemin = np.min(base, axis=0)\n",
      "    \n",
      "    outfoldermean = r'D:\\Data\\NDVI_annualMean//' #replace 'GPCP_30acc_annualMean' with 'GPCP_30acc_annualStd' for standard deviation folder\n",
      "    outfolderstd = r'D:\\Data\\NDVI_annualStd//'\n",
      "    outfoldermax = r'D:\\Data\\NDVI_annualMax//'\n",
      "    outfoldermin = r'D:\\Data\\NDVI_annualMin//'\n",
      "    \n",
      "    outpathmean = outfoldermean+'NDVI_'+str(i).zfill(3)+'.tif'\n",
      "    outpathstd = outfolderstd+'NDVI_'+str(i).zfill(3)+'.tif'\n",
      "    outpathmax = outfoldermax+'NDVI_'+str(i).zfill(3)+'.tif'\n",
      "    outpathmin = outfoldermin+'NDVI_'+str(i).zfill(3)+'.tif'\n",
      "    print (outpathmean, outpathstd)\n",
      "    \n",
      "    dl.saveRaster(outpathmean, basemean.data, ds, 6, nan=nan)\n",
      "    dl.saveRaster(outpathstd, basestd.data, ds, 6, nan=nan)\n",
      "    dl.saveRaster(outpathmax, basemax.data, ds, 6, nan=nan)\n",
      "    dl.saveRaster(outpathmin, basemin.data, ds, 6, nan=nan)"
     ],
     "language": "python",
     "metadata": {},
     "outputs": []
    },
    {
     "cell_type": "heading",
     "level": 1,
     "metadata": {},
     "source": [
      "Anomaly"
     ]
    },
    {
     "cell_type": "code",
     "collapsed": false,
     "input": [
      "files_annual = dl.FilesFolder(r'D:\\Data\\NDVI_annualMean', '.tif')\n",
      "files_year = dl.FilesFolder(r'D:\\Data\\NDVI', '.tif')\n",
      "\n",
      "ds = gdal.Open(files_annual[0])\n",
      "band = ds.GetRasterBand(1)\n",
      "nan = band.GetNoDataValue()\n",
      "print (nan)\n",
      "\n",
      "for i in files_annual:\n",
      "    fil_annual = gdal.Open(i).ReadAsArray().astype(float)\n",
      "    fil_annual = np.ma.masked_values(fil_annual, nan)\n",
      "    print ('\\n',i, fil_annual.max())\n",
      "    for j in files_year:\n",
      "        if i[-7:-4] == j[-7:-4]:\n",
      "                        \n",
      "            fil_year = gdal.Open(j).ReadAsArray().astype(float)\n",
      "            fil_year = np.ma.masked_values(fil_year, nan)\n",
      "            \n",
      "            print (j, fil_year.max())\n",
      "            # subtract meanDOY from each yearDOY\n",
      "            anomaly = fil_year - fil_annual\n",
      "            \n",
      "            path_anomaly = j.replace('Data\\\\NDVI', 'Data\\\\NDVI_anomaly')\n",
      "            print('anomaly', path_anomaly, anomaly.max())\n",
      "            \n",
      "            dl.saveRaster(path_anomaly, anomaly, ds, datatype=6, nan=nan)"
     ],
     "language": "python",
     "metadata": {},
     "outputs": []
    },
    {
     "cell_type": "heading",
     "level": 1,
     "metadata": {},
     "source": [
      "Long term mean, standard deviation, max and min"
     ]
    },
    {
     "cell_type": "code",
     "collapsed": false,
     "input": [
      "# ____________________________\n",
      "# MEAN\n",
      "\n",
      "path = r'D:\\Data\\NDVI_annualMean'\n",
      "files = dl.FilesFolder(path, '.tif')\n",
      "\n",
      "ds = gdal.Open(files[0])\n",
      "band = ds.GetRasterBand(1)\n",
      "barray = band.ReadAsArray()\n",
      "nan = band.GetNoDataValue()\n",
      "\n",
      "\n",
      "base = np.full_like(barray, nan)\n",
      "base = base[None] # add another dimenstion for vstack\n",
      "for i in range(1,366,8):\n",
      "    #print (i)\n",
      "    for fil in files:\n",
      "            array = gdal.Open(fil).ReadAsArray().astype(float)\n",
      "\n",
      "            array = array[None] # add another dimension for vstack\n",
      "            base = np.vstack((base,array)) # vstack all rasters with same doy\n",
      "            \n",
      "# mask where value is nan\n",
      "base = np.ma.masked_equal(base, nan)\n",
      "#base = np.std(base, axis=0) #unhash for standard deviation calculation\n",
      "base = np.mean(base, axis=0)\n",
      "\n",
      "outfolder = r'D:\\Data\\NDVI_maxmin//NDVI_mean.tif' #replace 'GPCP_30acc_annualMean' with 'GPCP_30acc_annualStd' for standard deviation folder\n",
      "#outfolder = r'D:\\Data\\GPCP_30acc_maxmin//GPCP_30acc_std.tif'\n",
      "\n",
      "outpath = outfolder\n",
      "print (outpath)\n",
      "print (base.shape)\n",
      "\n",
      "dl.saveRaster(outpath, base.data, ds, 6, nan=nan)\n",
      "\n",
      "# ____________________________\n",
      "# STANDARD DEVIATION\n",
      "\n",
      "path = r'D:\\Data\\NDVI_annualStd'\n",
      "files = dl.FilesFolder(path, '.tif')\n",
      "\n",
      "ds = gdal.Open(files[0])\n",
      "band = ds.GetRasterBand(1)\n",
      "barray = band.ReadAsArray()\n",
      "nan = band.GetNoDataValue()\n",
      "\n",
      "\n",
      "base = np.full_like(barray, nan)\n",
      "base = base[None] # add another dimenstion for vstack\n",
      "for i in range(1,366,8):\n",
      "    #print (i)\n",
      "    for fil in files: \n",
      "        \n",
      "        \n",
      "        if int(fil[-7:-4]) == i:\n",
      "            print (fil)\n",
      "            array = gdal.Open(fil).ReadAsArray().astype(float)\n",
      "\n",
      "            array = array[None] # add another dimension for vstack\n",
      "            base = np.vstack((base,array)) # vstack all rasters with same doy\n",
      "            \n",
      "# mask where value is nan\n",
      "base = np.ma.masked_equal(base, nan)\n",
      "#base = np.std(base, axis=0) #unhash for standard deviation calculation\n",
      "base = np.mean(base, axis=0)\n",
      "\n",
      "outfolder = r'D:\\Data\\NDVI_maxmin//NDVI_std.tif' #replace 'GPCP_30acc_annualMean' with 'GPCP_30acc_annualStd' for standard deviation folder\n",
      "#outfolder = r'D:\\Data\\GPCP_30acc_maxmin//GPCP_30acc_std.tif'\n",
      "\n",
      "outpath = outfolder\n",
      "print (outpath)\n",
      "print (base.shape)\n",
      "\n",
      "dl.saveRaster(outpath, base.data, ds, 6, nan=nan)\n",
      "\n"
     ],
     "language": "python",
     "metadata": {},
     "outputs": []
    },
    {
     "cell_type": "heading",
     "level": 1,
     "metadata": {},
     "source": [
      "AnomalySVI maximum and minimum"
     ]
    },
    {
     "cell_type": "code",
     "collapsed": false,
     "input": [
      "# ____________________________\n",
      "# MEAN\n",
      "\n",
      "path = r'D:\\Data\\NDVI_anomalySVI'\n",
      "files = dl.FilesFolder(path, '.tif')\n",
      "\n",
      "ds = gdal.Open(files[0])\n",
      "band = ds.GetRasterBand(1)\n",
      "bmaxarray = band.ReadAsArray()\n",
      "bminarray = band.ReadAsArray()\n",
      "nan = band.GetNoDataValue()\n",
      "\n",
      "base = np.full_like(barray, nan)\n",
      "base = base[None] # add another dimenstion for vstack\n",
      "\n",
      "for fil in files: \n",
      "    print(fil)\n",
      "    array = gdal.Open(fil).ReadAsArray().astype(float)\n",
      "    #bmaxarray = np.maximum(bmaxarray, array)\n",
      "    bminarray = np.minimum(bminarray, array)\n",
      "            \n",
      "# mask where value is nan\n",
      "#bmaxarray = np.ma.masked_equal(bmaxarray, nan)\n",
      "bminarray = np.ma.masked_equal(bminarray, nan)\n",
      "\n",
      "#outfoldermax = r'D:\\Data\\NDVI_maxmin//NDVI_anomalySVImax.tif' \n",
      "outfoldermin = r'D:\\Data\\NDVI_maxmin//NDVI_anomalySVImin.tif' \n",
      "#outpath = outfolder\n",
      "#print (outpath)\n",
      "\n",
      "#dl.saveRaster(outfoldermax, bmaxarray.data, ds, 6, nan=nan)\n",
      "dl.saveRaster(outfoldermin, bminarray.data, ds, 6, nan=nan)"
     ],
     "language": "python",
     "metadata": {},
     "outputs": [
      {
       "output_type": "stream",
       "stream": "stdout",
       "text": [
        "D:\\Data\\NDVI_anomalySVI\\NDVI_2001001.tif\n",
        "D:\\Data\\NDVI_anomalySVI\\NDVI_2001009.tif"
       ]
      },
      {
       "output_type": "stream",
       "stream": "stdout",
       "text": [
        "\n",
        "D:\\Data\\NDVI_anomalySVI\\NDVI_2001017.tif"
       ]
      },
      {
       "output_type": "stream",
       "stream": "stdout",
       "text": [
        "\n",
        "D:\\Data\\NDVI_anomalySVI\\NDVI_2001025.tif"
       ]
      },
      {
       "output_type": "stream",
       "stream": "stdout",
       "text": [
        "\n",
        "D:\\Data\\NDVI_anomalySVI\\NDVI_2001033.tif"
       ]
      },
      {
       "output_type": "stream",
       "stream": "stdout",
       "text": [
        "\n",
        "D:\\Data\\NDVI_anomalySVI\\NDVI_2001041.tif"
       ]
      },
      {
       "output_type": "stream",
       "stream": "stdout",
       "text": [
        "\n",
        "D:\\Data\\NDVI_anomalySVI\\NDVI_2001049.tif"
       ]
      },
      {
       "output_type": "stream",
       "stream": "stdout",
       "text": [
        "\n",
        "D:\\Data\\NDVI_anomalySVI\\NDVI_2001057.tif"
       ]
      },
      {
       "output_type": "stream",
       "stream": "stdout",
       "text": [
        "\n",
        "D:\\Data\\NDVI_anomalySVI\\NDVI_2001065.tif"
       ]
      },
      {
       "output_type": "stream",
       "stream": "stdout",
       "text": [
        "\n",
        "D:\\Data\\NDVI_anomalySVI\\NDVI_2001073.tif"
       ]
      },
      {
       "output_type": "stream",
       "stream": "stdout",
       "text": [
        "\n",
        "D:\\Data\\NDVI_anomalySVI\\NDVI_2001081.tif"
       ]
      },
      {
       "output_type": "stream",
       "stream": "stdout",
       "text": [
        "\n",
        "D:\\Data\\NDVI_anomalySVI\\NDVI_2001089.tif"
       ]
      },
      {
       "output_type": "stream",
       "stream": "stdout",
       "text": [
        "\n",
        "D:\\Data\\NDVI_anomalySVI\\NDVI_2001097.tif"
       ]
      },
      {
       "output_type": "stream",
       "stream": "stdout",
       "text": [
        "\n",
        "D:\\Data\\NDVI_anomalySVI\\NDVI_2001105.tif"
       ]
      },
      {
       "output_type": "stream",
       "stream": "stdout",
       "text": [
        "\n",
        "D:\\Data\\NDVI_anomalySVI\\NDVI_2001113.tif"
       ]
      },
      {
       "output_type": "stream",
       "stream": "stdout",
       "text": [
        "\n",
        "D:\\Data\\NDVI_anomalySVI\\NDVI_2001121.tif"
       ]
      },
      {
       "output_type": "stream",
       "stream": "stdout",
       "text": [
        "\n",
        "D:\\Data\\NDVI_anomalySVI\\NDVI_2001129.tif"
       ]
      },
      {
       "output_type": "stream",
       "stream": "stdout",
       "text": [
        "\n",
        "D:\\Data\\NDVI_anomalySVI\\NDVI_2001137.tif"
       ]
      },
      {
       "output_type": "stream",
       "stream": "stdout",
       "text": [
        "\n",
        "D:\\Data\\NDVI_anomalySVI\\NDVI_2001145.tif"
       ]
      },
      {
       "output_type": "stream",
       "stream": "stdout",
       "text": [
        "\n",
        "D:\\Data\\NDVI_anomalySVI\\NDVI_2001153.tif"
       ]
      },
      {
       "output_type": "stream",
       "stream": "stdout",
       "text": [
        "\n",
        "D:\\Data\\NDVI_anomalySVI\\NDVI_2001161.tif"
       ]
      },
      {
       "output_type": "stream",
       "stream": "stdout",
       "text": [
        "\n",
        "D:\\Data\\NDVI_anomalySVI\\NDVI_2001169.tif"
       ]
      },
      {
       "output_type": "stream",
       "stream": "stdout",
       "text": [
        "\n",
        "D:\\Data\\NDVI_anomalySVI\\NDVI_2001177.tif"
       ]
      },
      {
       "output_type": "stream",
       "stream": "stdout",
       "text": [
        "\n",
        "D:\\Data\\NDVI_anomalySVI\\NDVI_2001185.tif"
       ]
      },
      {
       "output_type": "stream",
       "stream": "stdout",
       "text": [
        "\n",
        "D:\\Data\\NDVI_anomalySVI\\NDVI_2001193.tif"
       ]
      },
      {
       "output_type": "stream",
       "stream": "stdout",
       "text": [
        "\n",
        "D:\\Data\\NDVI_anomalySVI\\NDVI_2001201.tif"
       ]
      },
      {
       "output_type": "stream",
       "stream": "stdout",
       "text": [
        "\n",
        "D:\\Data\\NDVI_anomalySVI\\NDVI_2001209.tif"
       ]
      },
      {
       "output_type": "stream",
       "stream": "stdout",
       "text": [
        "\n",
        "D:\\Data\\NDVI_anomalySVI\\NDVI_2001217.tif"
       ]
      },
      {
       "output_type": "stream",
       "stream": "stdout",
       "text": [
        "\n",
        "D:\\Data\\NDVI_anomalySVI\\NDVI_2001225.tif"
       ]
      },
      {
       "output_type": "stream",
       "stream": "stdout",
       "text": [
        "\n",
        "D:\\Data\\NDVI_anomalySVI\\NDVI_2001233.tif"
       ]
      },
      {
       "output_type": "stream",
       "stream": "stdout",
       "text": [
        "\n",
        "D:\\Data\\NDVI_anomalySVI\\NDVI_2001241.tif"
       ]
      },
      {
       "output_type": "stream",
       "stream": "stdout",
       "text": [
        "\n",
        "D:\\Data\\NDVI_anomalySVI\\NDVI_2001249.tif"
       ]
      },
      {
       "output_type": "stream",
       "stream": "stdout",
       "text": [
        "\n",
        "D:\\Data\\NDVI_anomalySVI\\NDVI_2001257.tif"
       ]
      },
      {
       "output_type": "stream",
       "stream": "stdout",
       "text": [
        "\n",
        "D:\\Data\\NDVI_anomalySVI\\NDVI_2001265.tif"
       ]
      },
      {
       "output_type": "stream",
       "stream": "stdout",
       "text": [
        "\n",
        "D:\\Data\\NDVI_anomalySVI\\NDVI_2001273.tif"
       ]
      },
      {
       "output_type": "stream",
       "stream": "stdout",
       "text": [
        "\n",
        "D:\\Data\\NDVI_anomalySVI\\NDVI_2001281.tif"
       ]
      },
      {
       "output_type": "stream",
       "stream": "stdout",
       "text": [
        "\n",
        "D:\\Data\\NDVI_anomalySVI\\NDVI_2001289.tif"
       ]
      },
      {
       "output_type": "stream",
       "stream": "stdout",
       "text": [
        "\n",
        "D:\\Data\\NDVI_anomalySVI\\NDVI_2001297.tif"
       ]
      },
      {
       "output_type": "stream",
       "stream": "stdout",
       "text": [
        "\n",
        "D:\\Data\\NDVI_anomalySVI\\NDVI_2001305.tif"
       ]
      },
      {
       "output_type": "stream",
       "stream": "stdout",
       "text": [
        "\n",
        "D:\\Data\\NDVI_anomalySVI\\NDVI_2001313.tif"
       ]
      },
      {
       "output_type": "stream",
       "stream": "stdout",
       "text": [
        "\n",
        "D:\\Data\\NDVI_anomalySVI\\NDVI_2001321.tif"
       ]
      },
      {
       "output_type": "stream",
       "stream": "stdout",
       "text": [
        "\n",
        "D:\\Data\\NDVI_anomalySVI\\NDVI_2001329.tif"
       ]
      },
      {
       "output_type": "stream",
       "stream": "stdout",
       "text": [
        "\n",
        "D:\\Data\\NDVI_anomalySVI\\NDVI_2001337.tif"
       ]
      },
      {
       "output_type": "stream",
       "stream": "stdout",
       "text": [
        "\n",
        "D:\\Data\\NDVI_anomalySVI\\NDVI_2001345.tif"
       ]
      },
      {
       "output_type": "stream",
       "stream": "stdout",
       "text": [
        "\n",
        "D:\\Data\\NDVI_anomalySVI\\NDVI_2001353.tif"
       ]
      },
      {
       "output_type": "stream",
       "stream": "stdout",
       "text": [
        "\n",
        "D:\\Data\\NDVI_anomalySVI\\NDVI_2001361.tif"
       ]
      },
      {
       "output_type": "stream",
       "stream": "stdout",
       "text": [
        "\n",
        "D:\\Data\\NDVI_anomalySVI\\NDVI_2002001.tif"
       ]
      },
      {
       "output_type": "stream",
       "stream": "stdout",
       "text": [
        "\n",
        "D:\\Data\\NDVI_anomalySVI\\NDVI_2002009.tif"
       ]
      },
      {
       "output_type": "stream",
       "stream": "stdout",
       "text": [
        "\n",
        "D:\\Data\\NDVI_anomalySVI\\NDVI_2002017.tif"
       ]
      },
      {
       "output_type": "stream",
       "stream": "stdout",
       "text": [
        "\n",
        "D:\\Data\\NDVI_anomalySVI\\NDVI_2002025.tif"
       ]
      },
      {
       "output_type": "stream",
       "stream": "stdout",
       "text": [
        "\n",
        "D:\\Data\\NDVI_anomalySVI\\NDVI_2002033.tif"
       ]
      },
      {
       "output_type": "stream",
       "stream": "stdout",
       "text": [
        "\n",
        "D:\\Data\\NDVI_anomalySVI\\NDVI_2002041.tif"
       ]
      },
      {
       "output_type": "stream",
       "stream": "stdout",
       "text": [
        "\n",
        "D:\\Data\\NDVI_anomalySVI\\NDVI_2002049.tif"
       ]
      },
      {
       "output_type": "stream",
       "stream": "stdout",
       "text": [
        "\n",
        "D:\\Data\\NDVI_anomalySVI\\NDVI_2002057.tif"
       ]
      },
      {
       "output_type": "stream",
       "stream": "stdout",
       "text": [
        "\n",
        "D:\\Data\\NDVI_anomalySVI\\NDVI_2002065.tif"
       ]
      },
      {
       "output_type": "stream",
       "stream": "stdout",
       "text": [
        "\n",
        "D:\\Data\\NDVI_anomalySVI\\NDVI_2002073.tif"
       ]
      },
      {
       "output_type": "stream",
       "stream": "stdout",
       "text": [
        "\n",
        "D:\\Data\\NDVI_anomalySVI\\NDVI_2002081.tif"
       ]
      },
      {
       "output_type": "stream",
       "stream": "stdout",
       "text": [
        "\n",
        "D:\\Data\\NDVI_anomalySVI\\NDVI_2002089.tif"
       ]
      },
      {
       "output_type": "stream",
       "stream": "stdout",
       "text": [
        "\n",
        "D:\\Data\\NDVI_anomalySVI\\NDVI_2002097.tif"
       ]
      },
      {
       "output_type": "stream",
       "stream": "stdout",
       "text": [
        "\n",
        "D:\\Data\\NDVI_anomalySVI\\NDVI_2002105.tif"
       ]
      },
      {
       "output_type": "stream",
       "stream": "stdout",
       "text": [
        "\n",
        "D:\\Data\\NDVI_anomalySVI\\NDVI_2002113.tif"
       ]
      },
      {
       "output_type": "stream",
       "stream": "stdout",
       "text": [
        "\n",
        "D:\\Data\\NDVI_anomalySVI\\NDVI_2002121.tif"
       ]
      },
      {
       "output_type": "stream",
       "stream": "stdout",
       "text": [
        "\n",
        "D:\\Data\\NDVI_anomalySVI\\NDVI_2002129.tif"
       ]
      },
      {
       "output_type": "stream",
       "stream": "stdout",
       "text": [
        "\n",
        "D:\\Data\\NDVI_anomalySVI\\NDVI_2002137.tif"
       ]
      },
      {
       "output_type": "stream",
       "stream": "stdout",
       "text": [
        "\n",
        "D:\\Data\\NDVI_anomalySVI\\NDVI_2002145.tif"
       ]
      },
      {
       "output_type": "stream",
       "stream": "stdout",
       "text": [
        "\n",
        "D:\\Data\\NDVI_anomalySVI\\NDVI_2002153.tif"
       ]
      },
      {
       "output_type": "stream",
       "stream": "stdout",
       "text": [
        "\n",
        "D:\\Data\\NDVI_anomalySVI\\NDVI_2002161.tif"
       ]
      },
      {
       "output_type": "stream",
       "stream": "stdout",
       "text": [
        "\n",
        "D:\\Data\\NDVI_anomalySVI\\NDVI_2002169.tif"
       ]
      },
      {
       "output_type": "stream",
       "stream": "stdout",
       "text": [
        "\n",
        "D:\\Data\\NDVI_anomalySVI\\NDVI_2002177.tif"
       ]
      },
      {
       "output_type": "stream",
       "stream": "stdout",
       "text": [
        "\n",
        "D:\\Data\\NDVI_anomalySVI\\NDVI_2002185.tif"
       ]
      },
      {
       "output_type": "stream",
       "stream": "stdout",
       "text": [
        "\n",
        "D:\\Data\\NDVI_anomalySVI\\NDVI_2002193.tif"
       ]
      },
      {
       "output_type": "stream",
       "stream": "stdout",
       "text": [
        "\n",
        "D:\\Data\\NDVI_anomalySVI\\NDVI_2002201.tif"
       ]
      },
      {
       "output_type": "stream",
       "stream": "stdout",
       "text": [
        "\n",
        "D:\\Data\\NDVI_anomalySVI\\NDVI_2002209.tif"
       ]
      },
      {
       "output_type": "stream",
       "stream": "stdout",
       "text": [
        "\n",
        "D:\\Data\\NDVI_anomalySVI\\NDVI_2002217.tif"
       ]
      },
      {
       "output_type": "stream",
       "stream": "stdout",
       "text": [
        "\n",
        "D:\\Data\\NDVI_anomalySVI\\NDVI_2002225.tif"
       ]
      },
      {
       "output_type": "stream",
       "stream": "stdout",
       "text": [
        "\n",
        "D:\\Data\\NDVI_anomalySVI\\NDVI_2002233.tif"
       ]
      },
      {
       "output_type": "stream",
       "stream": "stdout",
       "text": [
        "\n",
        "D:\\Data\\NDVI_anomalySVI\\NDVI_2002241.tif"
       ]
      },
      {
       "output_type": "stream",
       "stream": "stdout",
       "text": [
        "\n",
        "D:\\Data\\NDVI_anomalySVI\\NDVI_2002249.tif"
       ]
      },
      {
       "output_type": "stream",
       "stream": "stdout",
       "text": [
        "\n",
        "D:\\Data\\NDVI_anomalySVI\\NDVI_2002257.tif"
       ]
      },
      {
       "output_type": "stream",
       "stream": "stdout",
       "text": [
        "\n",
        "D:\\Data\\NDVI_anomalySVI\\NDVI_2002265.tif"
       ]
      },
      {
       "output_type": "stream",
       "stream": "stdout",
       "text": [
        "\n",
        "D:\\Data\\NDVI_anomalySVI\\NDVI_2002273.tif"
       ]
      },
      {
       "output_type": "stream",
       "stream": "stdout",
       "text": [
        "\n",
        "D:\\Data\\NDVI_anomalySVI\\NDVI_2002281.tif"
       ]
      },
      {
       "output_type": "stream",
       "stream": "stdout",
       "text": [
        "\n",
        "D:\\Data\\NDVI_anomalySVI\\NDVI_2002289.tif"
       ]
      },
      {
       "output_type": "stream",
       "stream": "stdout",
       "text": [
        "\n",
        "D:\\Data\\NDVI_anomalySVI\\NDVI_2002297.tif"
       ]
      },
      {
       "output_type": "stream",
       "stream": "stdout",
       "text": [
        "\n",
        "D:\\Data\\NDVI_anomalySVI\\NDVI_2002305.tif"
       ]
      },
      {
       "output_type": "stream",
       "stream": "stdout",
       "text": [
        "\n",
        "D:\\Data\\NDVI_anomalySVI\\NDVI_2002313.tif"
       ]
      },
      {
       "output_type": "stream",
       "stream": "stdout",
       "text": [
        "\n",
        "D:\\Data\\NDVI_anomalySVI\\NDVI_2002321.tif"
       ]
      },
      {
       "output_type": "stream",
       "stream": "stdout",
       "text": [
        "\n",
        "D:\\Data\\NDVI_anomalySVI\\NDVI_2002329.tif"
       ]
      },
      {
       "output_type": "stream",
       "stream": "stdout",
       "text": [
        "\n",
        "D:\\Data\\NDVI_anomalySVI\\NDVI_2002337.tif"
       ]
      },
      {
       "output_type": "stream",
       "stream": "stdout",
       "text": [
        "\n",
        "D:\\Data\\NDVI_anomalySVI\\NDVI_2002345.tif"
       ]
      },
      {
       "output_type": "stream",
       "stream": "stdout",
       "text": [
        "\n",
        "D:\\Data\\NDVI_anomalySVI\\NDVI_2002353.tif"
       ]
      },
      {
       "output_type": "stream",
       "stream": "stdout",
       "text": [
        "\n",
        "D:\\Data\\NDVI_anomalySVI\\NDVI_2002361.tif"
       ]
      },
      {
       "output_type": "stream",
       "stream": "stdout",
       "text": [
        "\n",
        "D:\\Data\\NDVI_anomalySVI\\NDVI_2003001.tif"
       ]
      },
      {
       "output_type": "stream",
       "stream": "stdout",
       "text": [
        "\n",
        "D:\\Data\\NDVI_anomalySVI\\NDVI_2003009.tif"
       ]
      },
      {
       "output_type": "stream",
       "stream": "stdout",
       "text": [
        "\n",
        "D:\\Data\\NDVI_anomalySVI\\NDVI_2003017.tif"
       ]
      },
      {
       "output_type": "stream",
       "stream": "stdout",
       "text": [
        "\n",
        "D:\\Data\\NDVI_anomalySVI\\NDVI_2003025.tif"
       ]
      },
      {
       "output_type": "stream",
       "stream": "stdout",
       "text": [
        "\n",
        "D:\\Data\\NDVI_anomalySVI\\NDVI_2003033.tif"
       ]
      },
      {
       "output_type": "stream",
       "stream": "stdout",
       "text": [
        "\n",
        "D:\\Data\\NDVI_anomalySVI\\NDVI_2003041.tif"
       ]
      },
      {
       "output_type": "stream",
       "stream": "stdout",
       "text": [
        "\n",
        "D:\\Data\\NDVI_anomalySVI\\NDVI_2003049.tif"
       ]
      },
      {
       "output_type": "stream",
       "stream": "stdout",
       "text": [
        "\n",
        "D:\\Data\\NDVI_anomalySVI\\NDVI_2003057.tif"
       ]
      },
      {
       "output_type": "stream",
       "stream": "stdout",
       "text": [
        "\n",
        "D:\\Data\\NDVI_anomalySVI\\NDVI_2003065.tif"
       ]
      },
      {
       "output_type": "stream",
       "stream": "stdout",
       "text": [
        "\n",
        "D:\\Data\\NDVI_anomalySVI\\NDVI_2003073.tif"
       ]
      },
      {
       "output_type": "stream",
       "stream": "stdout",
       "text": [
        "\n",
        "D:\\Data\\NDVI_anomalySVI\\NDVI_2003081.tif"
       ]
      },
      {
       "output_type": "stream",
       "stream": "stdout",
       "text": [
        "\n",
        "D:\\Data\\NDVI_anomalySVI\\NDVI_2003089.tif"
       ]
      },
      {
       "output_type": "stream",
       "stream": "stdout",
       "text": [
        "\n",
        "D:\\Data\\NDVI_anomalySVI\\NDVI_2003097.tif"
       ]
      },
      {
       "output_type": "stream",
       "stream": "stdout",
       "text": [
        "\n",
        "D:\\Data\\NDVI_anomalySVI\\NDVI_2003105.tif"
       ]
      },
      {
       "output_type": "stream",
       "stream": "stdout",
       "text": [
        "\n",
        "D:\\Data\\NDVI_anomalySVI\\NDVI_2003113.tif"
       ]
      },
      {
       "output_type": "stream",
       "stream": "stdout",
       "text": [
        "\n",
        "D:\\Data\\NDVI_anomalySVI\\NDVI_2003121.tif"
       ]
      },
      {
       "output_type": "stream",
       "stream": "stdout",
       "text": [
        "\n",
        "D:\\Data\\NDVI_anomalySVI\\NDVI_2003129.tif"
       ]
      },
      {
       "output_type": "stream",
       "stream": "stdout",
       "text": [
        "\n",
        "D:\\Data\\NDVI_anomalySVI\\NDVI_2003137.tif"
       ]
      },
      {
       "output_type": "stream",
       "stream": "stdout",
       "text": [
        "\n",
        "D:\\Data\\NDVI_anomalySVI\\NDVI_2003145.tif"
       ]
      },
      {
       "output_type": "stream",
       "stream": "stdout",
       "text": [
        "\n",
        "D:\\Data\\NDVI_anomalySVI\\NDVI_2003153.tif"
       ]
      },
      {
       "output_type": "stream",
       "stream": "stdout",
       "text": [
        "\n",
        "D:\\Data\\NDVI_anomalySVI\\NDVI_2003161.tif"
       ]
      },
      {
       "output_type": "stream",
       "stream": "stdout",
       "text": [
        "\n",
        "D:\\Data\\NDVI_anomalySVI\\NDVI_2003169.tif"
       ]
      },
      {
       "output_type": "stream",
       "stream": "stdout",
       "text": [
        "\n",
        "D:\\Data\\NDVI_anomalySVI\\NDVI_2003177.tif"
       ]
      },
      {
       "output_type": "stream",
       "stream": "stdout",
       "text": [
        "\n",
        "D:\\Data\\NDVI_anomalySVI\\NDVI_2003185.tif"
       ]
      },
      {
       "output_type": "stream",
       "stream": "stdout",
       "text": [
        "\n",
        "D:\\Data\\NDVI_anomalySVI\\NDVI_2003193.tif"
       ]
      },
      {
       "output_type": "stream",
       "stream": "stdout",
       "text": [
        "\n",
        "D:\\Data\\NDVI_anomalySVI\\NDVI_2003201.tif"
       ]
      },
      {
       "output_type": "stream",
       "stream": "stdout",
       "text": [
        "\n",
        "D:\\Data\\NDVI_anomalySVI\\NDVI_2003209.tif"
       ]
      },
      {
       "output_type": "stream",
       "stream": "stdout",
       "text": [
        "\n",
        "D:\\Data\\NDVI_anomalySVI\\NDVI_2003217.tif"
       ]
      },
      {
       "output_type": "stream",
       "stream": "stdout",
       "text": [
        "\n",
        "D:\\Data\\NDVI_anomalySVI\\NDVI_2003225.tif"
       ]
      },
      {
       "output_type": "stream",
       "stream": "stdout",
       "text": [
        "\n",
        "D:\\Data\\NDVI_anomalySVI\\NDVI_2003233.tif"
       ]
      },
      {
       "output_type": "stream",
       "stream": "stdout",
       "text": [
        "\n",
        "D:\\Data\\NDVI_anomalySVI\\NDVI_2003241.tif"
       ]
      },
      {
       "output_type": "stream",
       "stream": "stdout",
       "text": [
        "\n",
        "D:\\Data\\NDVI_anomalySVI\\NDVI_2003249.tif"
       ]
      },
      {
       "output_type": "stream",
       "stream": "stdout",
       "text": [
        "\n",
        "D:\\Data\\NDVI_anomalySVI\\NDVI_2003257.tif"
       ]
      },
      {
       "output_type": "stream",
       "stream": "stdout",
       "text": [
        "\n",
        "D:\\Data\\NDVI_anomalySVI\\NDVI_2003265.tif"
       ]
      },
      {
       "output_type": "stream",
       "stream": "stdout",
       "text": [
        "\n",
        "D:\\Data\\NDVI_anomalySVI\\NDVI_2003273.tif"
       ]
      },
      {
       "output_type": "stream",
       "stream": "stdout",
       "text": [
        "\n",
        "D:\\Data\\NDVI_anomalySVI\\NDVI_2003281.tif"
       ]
      },
      {
       "output_type": "stream",
       "stream": "stdout",
       "text": [
        "\n",
        "D:\\Data\\NDVI_anomalySVI\\NDVI_2003289.tif"
       ]
      },
      {
       "output_type": "stream",
       "stream": "stdout",
       "text": [
        "\n",
        "D:\\Data\\NDVI_anomalySVI\\NDVI_2003297.tif"
       ]
      },
      {
       "output_type": "stream",
       "stream": "stdout",
       "text": [
        "\n",
        "D:\\Data\\NDVI_anomalySVI\\NDVI_2003305.tif"
       ]
      },
      {
       "output_type": "stream",
       "stream": "stdout",
       "text": [
        "\n",
        "D:\\Data\\NDVI_anomalySVI\\NDVI_2003313.tif"
       ]
      },
      {
       "output_type": "stream",
       "stream": "stdout",
       "text": [
        "\n",
        "D:\\Data\\NDVI_anomalySVI\\NDVI_2003321.tif"
       ]
      },
      {
       "output_type": "stream",
       "stream": "stdout",
       "text": [
        "\n",
        "D:\\Data\\NDVI_anomalySVI\\NDVI_2003329.tif"
       ]
      },
      {
       "output_type": "stream",
       "stream": "stdout",
       "text": [
        "\n",
        "D:\\Data\\NDVI_anomalySVI\\NDVI_2003337.tif"
       ]
      },
      {
       "output_type": "stream",
       "stream": "stdout",
       "text": [
        "\n",
        "D:\\Data\\NDVI_anomalySVI\\NDVI_2003345.tif"
       ]
      },
      {
       "output_type": "stream",
       "stream": "stdout",
       "text": [
        "\n",
        "D:\\Data\\NDVI_anomalySVI\\NDVI_2003353.tif"
       ]
      },
      {
       "output_type": "stream",
       "stream": "stdout",
       "text": [
        "\n",
        "D:\\Data\\NDVI_anomalySVI\\NDVI_2003361.tif"
       ]
      },
      {
       "output_type": "stream",
       "stream": "stdout",
       "text": [
        "\n",
        "D:\\Data\\NDVI_anomalySVI\\NDVI_2004001.tif"
       ]
      },
      {
       "output_type": "stream",
       "stream": "stdout",
       "text": [
        "\n",
        "D:\\Data\\NDVI_anomalySVI\\NDVI_2004009.tif"
       ]
      },
      {
       "output_type": "stream",
       "stream": "stdout",
       "text": [
        "\n",
        "D:\\Data\\NDVI_anomalySVI\\NDVI_2004017.tif"
       ]
      },
      {
       "output_type": "stream",
       "stream": "stdout",
       "text": [
        "\n",
        "D:\\Data\\NDVI_anomalySVI\\NDVI_2004025.tif"
       ]
      },
      {
       "output_type": "stream",
       "stream": "stdout",
       "text": [
        "\n",
        "D:\\Data\\NDVI_anomalySVI\\NDVI_2004033.tif"
       ]
      },
      {
       "output_type": "stream",
       "stream": "stdout",
       "text": [
        "\n",
        "D:\\Data\\NDVI_anomalySVI\\NDVI_2004041.tif"
       ]
      },
      {
       "output_type": "stream",
       "stream": "stdout",
       "text": [
        "\n",
        "D:\\Data\\NDVI_anomalySVI\\NDVI_2004049.tif"
       ]
      },
      {
       "output_type": "stream",
       "stream": "stdout",
       "text": [
        "\n",
        "D:\\Data\\NDVI_anomalySVI\\NDVI_2004057.tif"
       ]
      },
      {
       "output_type": "stream",
       "stream": "stdout",
       "text": [
        "\n",
        "D:\\Data\\NDVI_anomalySVI\\NDVI_2004065.tif"
       ]
      },
      {
       "output_type": "stream",
       "stream": "stdout",
       "text": [
        "\n",
        "D:\\Data\\NDVI_anomalySVI\\NDVI_2004073.tif"
       ]
      },
      {
       "output_type": "stream",
       "stream": "stdout",
       "text": [
        "\n",
        "D:\\Data\\NDVI_anomalySVI\\NDVI_2004081.tif"
       ]
      },
      {
       "output_type": "stream",
       "stream": "stdout",
       "text": [
        "\n",
        "D:\\Data\\NDVI_anomalySVI\\NDVI_2004089.tif"
       ]
      },
      {
       "output_type": "stream",
       "stream": "stdout",
       "text": [
        "\n",
        "D:\\Data\\NDVI_anomalySVI\\NDVI_2004097.tif"
       ]
      },
      {
       "output_type": "stream",
       "stream": "stdout",
       "text": [
        "\n",
        "D:\\Data\\NDVI_anomalySVI\\NDVI_2004105.tif"
       ]
      },
      {
       "output_type": "stream",
       "stream": "stdout",
       "text": [
        "\n",
        "D:\\Data\\NDVI_anomalySVI\\NDVI_2004113.tif"
       ]
      },
      {
       "output_type": "stream",
       "stream": "stdout",
       "text": [
        "\n",
        "D:\\Data\\NDVI_anomalySVI\\NDVI_2004121.tif"
       ]
      },
      {
       "output_type": "stream",
       "stream": "stdout",
       "text": [
        "\n",
        "D:\\Data\\NDVI_anomalySVI\\NDVI_2004129.tif"
       ]
      },
      {
       "output_type": "stream",
       "stream": "stdout",
       "text": [
        "\n",
        "D:\\Data\\NDVI_anomalySVI\\NDVI_2004137.tif"
       ]
      },
      {
       "output_type": "stream",
       "stream": "stdout",
       "text": [
        "\n",
        "D:\\Data\\NDVI_anomalySVI\\NDVI_2004145.tif"
       ]
      },
      {
       "output_type": "stream",
       "stream": "stdout",
       "text": [
        "\n",
        "D:\\Data\\NDVI_anomalySVI\\NDVI_2004153.tif"
       ]
      },
      {
       "output_type": "stream",
       "stream": "stdout",
       "text": [
        "\n",
        "D:\\Data\\NDVI_anomalySVI\\NDVI_2004161.tif"
       ]
      },
      {
       "output_type": "stream",
       "stream": "stdout",
       "text": [
        "\n",
        "D:\\Data\\NDVI_anomalySVI\\NDVI_2004169.tif"
       ]
      },
      {
       "output_type": "stream",
       "stream": "stdout",
       "text": [
        "\n",
        "D:\\Data\\NDVI_anomalySVI\\NDVI_2004177.tif"
       ]
      },
      {
       "output_type": "stream",
       "stream": "stdout",
       "text": [
        "\n",
        "D:\\Data\\NDVI_anomalySVI\\NDVI_2004185.tif"
       ]
      },
      {
       "output_type": "stream",
       "stream": "stdout",
       "text": [
        "\n",
        "D:\\Data\\NDVI_anomalySVI\\NDVI_2004193.tif"
       ]
      },
      {
       "output_type": "stream",
       "stream": "stdout",
       "text": [
        "\n",
        "D:\\Data\\NDVI_anomalySVI\\NDVI_2004201.tif"
       ]
      },
      {
       "output_type": "stream",
       "stream": "stdout",
       "text": [
        "\n",
        "D:\\Data\\NDVI_anomalySVI\\NDVI_2004209.tif"
       ]
      },
      {
       "output_type": "stream",
       "stream": "stdout",
       "text": [
        "\n",
        "D:\\Data\\NDVI_anomalySVI\\NDVI_2004217.tif"
       ]
      },
      {
       "output_type": "stream",
       "stream": "stdout",
       "text": [
        "\n",
        "D:\\Data\\NDVI_anomalySVI\\NDVI_2004225.tif"
       ]
      },
      {
       "output_type": "stream",
       "stream": "stdout",
       "text": [
        "\n",
        "D:\\Data\\NDVI_anomalySVI\\NDVI_2004233.tif"
       ]
      },
      {
       "output_type": "stream",
       "stream": "stdout",
       "text": [
        "\n",
        "D:\\Data\\NDVI_anomalySVI\\NDVI_2004241.tif"
       ]
      },
      {
       "output_type": "stream",
       "stream": "stdout",
       "text": [
        "\n",
        "D:\\Data\\NDVI_anomalySVI\\NDVI_2004249.tif"
       ]
      },
      {
       "output_type": "stream",
       "stream": "stdout",
       "text": [
        "\n",
        "D:\\Data\\NDVI_anomalySVI\\NDVI_2004257.tif"
       ]
      },
      {
       "output_type": "stream",
       "stream": "stdout",
       "text": [
        "\n",
        "D:\\Data\\NDVI_anomalySVI\\NDVI_2004265.tif"
       ]
      },
      {
       "output_type": "stream",
       "stream": "stdout",
       "text": [
        "\n",
        "D:\\Data\\NDVI_anomalySVI\\NDVI_2004273.tif"
       ]
      },
      {
       "output_type": "stream",
       "stream": "stdout",
       "text": [
        "\n",
        "D:\\Data\\NDVI_anomalySVI\\NDVI_2004281.tif"
       ]
      },
      {
       "output_type": "stream",
       "stream": "stdout",
       "text": [
        "\n",
        "D:\\Data\\NDVI_anomalySVI\\NDVI_2004289.tif"
       ]
      },
      {
       "output_type": "stream",
       "stream": "stdout",
       "text": [
        "\n",
        "D:\\Data\\NDVI_anomalySVI\\NDVI_2004297.tif"
       ]
      },
      {
       "output_type": "stream",
       "stream": "stdout",
       "text": [
        "\n",
        "D:\\Data\\NDVI_anomalySVI\\NDVI_2004305.tif"
       ]
      },
      {
       "output_type": "stream",
       "stream": "stdout",
       "text": [
        "\n",
        "D:\\Data\\NDVI_anomalySVI\\NDVI_2004313.tif"
       ]
      },
      {
       "output_type": "stream",
       "stream": "stdout",
       "text": [
        "\n",
        "D:\\Data\\NDVI_anomalySVI\\NDVI_2004321.tif"
       ]
      },
      {
       "output_type": "stream",
       "stream": "stdout",
       "text": [
        "\n",
        "D:\\Data\\NDVI_anomalySVI\\NDVI_2004329.tif"
       ]
      },
      {
       "output_type": "stream",
       "stream": "stdout",
       "text": [
        "\n",
        "D:\\Data\\NDVI_anomalySVI\\NDVI_2004337.tif"
       ]
      },
      {
       "output_type": "stream",
       "stream": "stdout",
       "text": [
        "\n",
        "D:\\Data\\NDVI_anomalySVI\\NDVI_2004345.tif"
       ]
      },
      {
       "output_type": "stream",
       "stream": "stdout",
       "text": [
        "\n",
        "D:\\Data\\NDVI_anomalySVI\\NDVI_2004353.tif"
       ]
      },
      {
       "output_type": "stream",
       "stream": "stdout",
       "text": [
        "\n",
        "D:\\Data\\NDVI_anomalySVI\\NDVI_2004361.tif"
       ]
      },
      {
       "output_type": "stream",
       "stream": "stdout",
       "text": [
        "\n",
        "D:\\Data\\NDVI_anomalySVI\\NDVI_2005001.tif"
       ]
      },
      {
       "output_type": "stream",
       "stream": "stdout",
       "text": [
        "\n",
        "D:\\Data\\NDVI_anomalySVI\\NDVI_2005009.tif"
       ]
      },
      {
       "output_type": "stream",
       "stream": "stdout",
       "text": [
        "\n",
        "D:\\Data\\NDVI_anomalySVI\\NDVI_2005017.tif"
       ]
      },
      {
       "output_type": "stream",
       "stream": "stdout",
       "text": [
        "\n",
        "D:\\Data\\NDVI_anomalySVI\\NDVI_2005025.tif"
       ]
      },
      {
       "output_type": "stream",
       "stream": "stdout",
       "text": [
        "\n",
        "D:\\Data\\NDVI_anomalySVI\\NDVI_2005033.tif"
       ]
      },
      {
       "output_type": "stream",
       "stream": "stdout",
       "text": [
        "\n",
        "D:\\Data\\NDVI_anomalySVI\\NDVI_2005041.tif"
       ]
      },
      {
       "output_type": "stream",
       "stream": "stdout",
       "text": [
        "\n",
        "D:\\Data\\NDVI_anomalySVI\\NDVI_2005049.tif"
       ]
      },
      {
       "output_type": "stream",
       "stream": "stdout",
       "text": [
        "\n",
        "D:\\Data\\NDVI_anomalySVI\\NDVI_2005057.tif"
       ]
      },
      {
       "output_type": "stream",
       "stream": "stdout",
       "text": [
        "\n",
        "D:\\Data\\NDVI_anomalySVI\\NDVI_2005065.tif"
       ]
      },
      {
       "output_type": "stream",
       "stream": "stdout",
       "text": [
        "\n",
        "D:\\Data\\NDVI_anomalySVI\\NDVI_2005073.tif"
       ]
      },
      {
       "output_type": "stream",
       "stream": "stdout",
       "text": [
        "\n",
        "D:\\Data\\NDVI_anomalySVI\\NDVI_2005081.tif"
       ]
      },
      {
       "output_type": "stream",
       "stream": "stdout",
       "text": [
        "\n",
        "D:\\Data\\NDVI_anomalySVI\\NDVI_2005089.tif"
       ]
      },
      {
       "output_type": "stream",
       "stream": "stdout",
       "text": [
        "\n",
        "D:\\Data\\NDVI_anomalySVI\\NDVI_2005097.tif"
       ]
      },
      {
       "output_type": "stream",
       "stream": "stdout",
       "text": [
        "\n",
        "D:\\Data\\NDVI_anomalySVI\\NDVI_2005105.tif"
       ]
      },
      {
       "output_type": "stream",
       "stream": "stdout",
       "text": [
        "\n",
        "D:\\Data\\NDVI_anomalySVI\\NDVI_2005113.tif"
       ]
      },
      {
       "output_type": "stream",
       "stream": "stdout",
       "text": [
        "\n",
        "D:\\Data\\NDVI_anomalySVI\\NDVI_2005121.tif"
       ]
      },
      {
       "output_type": "stream",
       "stream": "stdout",
       "text": [
        "\n",
        "D:\\Data\\NDVI_anomalySVI\\NDVI_2005129.tif"
       ]
      },
      {
       "output_type": "stream",
       "stream": "stdout",
       "text": [
        "\n",
        "D:\\Data\\NDVI_anomalySVI\\NDVI_2005137.tif"
       ]
      },
      {
       "output_type": "stream",
       "stream": "stdout",
       "text": [
        "\n",
        "D:\\Data\\NDVI_anomalySVI\\NDVI_2005145.tif"
       ]
      },
      {
       "output_type": "stream",
       "stream": "stdout",
       "text": [
        "\n",
        "D:\\Data\\NDVI_anomalySVI\\NDVI_2005153.tif"
       ]
      },
      {
       "output_type": "stream",
       "stream": "stdout",
       "text": [
        "\n",
        "D:\\Data\\NDVI_anomalySVI\\NDVI_2005161.tif"
       ]
      },
      {
       "output_type": "stream",
       "stream": "stdout",
       "text": [
        "\n",
        "D:\\Data\\NDVI_anomalySVI\\NDVI_2005169.tif"
       ]
      },
      {
       "output_type": "stream",
       "stream": "stdout",
       "text": [
        "\n",
        "D:\\Data\\NDVI_anomalySVI\\NDVI_2005177.tif"
       ]
      },
      {
       "output_type": "stream",
       "stream": "stdout",
       "text": [
        "\n",
        "D:\\Data\\NDVI_anomalySVI\\NDVI_2005185.tif"
       ]
      },
      {
       "output_type": "stream",
       "stream": "stdout",
       "text": [
        "\n",
        "D:\\Data\\NDVI_anomalySVI\\NDVI_2005193.tif"
       ]
      },
      {
       "output_type": "stream",
       "stream": "stdout",
       "text": [
        "\n",
        "D:\\Data\\NDVI_anomalySVI\\NDVI_2005201.tif"
       ]
      },
      {
       "output_type": "stream",
       "stream": "stdout",
       "text": [
        "\n",
        "D:\\Data\\NDVI_anomalySVI\\NDVI_2005209.tif"
       ]
      },
      {
       "output_type": "stream",
       "stream": "stdout",
       "text": [
        "\n",
        "D:\\Data\\NDVI_anomalySVI\\NDVI_2005217.tif"
       ]
      },
      {
       "output_type": "stream",
       "stream": "stdout",
       "text": [
        "\n",
        "D:\\Data\\NDVI_anomalySVI\\NDVI_2005225.tif"
       ]
      },
      {
       "output_type": "stream",
       "stream": "stdout",
       "text": [
        "\n",
        "D:\\Data\\NDVI_anomalySVI\\NDVI_2005233.tif"
       ]
      },
      {
       "output_type": "stream",
       "stream": "stdout",
       "text": [
        "\n",
        "D:\\Data\\NDVI_anomalySVI\\NDVI_2005241.tif"
       ]
      },
      {
       "output_type": "stream",
       "stream": "stdout",
       "text": [
        "\n",
        "D:\\Data\\NDVI_anomalySVI\\NDVI_2005249.tif"
       ]
      },
      {
       "output_type": "stream",
       "stream": "stdout",
       "text": [
        "\n",
        "D:\\Data\\NDVI_anomalySVI\\NDVI_2005257.tif"
       ]
      },
      {
       "output_type": "stream",
       "stream": "stdout",
       "text": [
        "\n",
        "D:\\Data\\NDVI_anomalySVI\\NDVI_2005265.tif"
       ]
      },
      {
       "output_type": "stream",
       "stream": "stdout",
       "text": [
        "\n",
        "D:\\Data\\NDVI_anomalySVI\\NDVI_2005273.tif"
       ]
      },
      {
       "output_type": "stream",
       "stream": "stdout",
       "text": [
        "\n",
        "D:\\Data\\NDVI_anomalySVI\\NDVI_2005281.tif"
       ]
      },
      {
       "output_type": "stream",
       "stream": "stdout",
       "text": [
        "\n",
        "D:\\Data\\NDVI_anomalySVI\\NDVI_2005289.tif"
       ]
      },
      {
       "output_type": "stream",
       "stream": "stdout",
       "text": [
        "\n",
        "D:\\Data\\NDVI_anomalySVI\\NDVI_2005297.tif"
       ]
      },
      {
       "output_type": "stream",
       "stream": "stdout",
       "text": [
        "\n",
        "D:\\Data\\NDVI_anomalySVI\\NDVI_2005305.tif"
       ]
      },
      {
       "output_type": "stream",
       "stream": "stdout",
       "text": [
        "\n",
        "D:\\Data\\NDVI_anomalySVI\\NDVI_2005313.tif"
       ]
      },
      {
       "output_type": "stream",
       "stream": "stdout",
       "text": [
        "\n",
        "D:\\Data\\NDVI_anomalySVI\\NDVI_2005321.tif"
       ]
      },
      {
       "output_type": "stream",
       "stream": "stdout",
       "text": [
        "\n",
        "D:\\Data\\NDVI_anomalySVI\\NDVI_2005329.tif"
       ]
      },
      {
       "output_type": "stream",
       "stream": "stdout",
       "text": [
        "\n",
        "D:\\Data\\NDVI_anomalySVI\\NDVI_2005337.tif"
       ]
      },
      {
       "output_type": "stream",
       "stream": "stdout",
       "text": [
        "\n",
        "D:\\Data\\NDVI_anomalySVI\\NDVI_2005345.tif"
       ]
      },
      {
       "output_type": "stream",
       "stream": "stdout",
       "text": [
        "\n",
        "D:\\Data\\NDVI_anomalySVI\\NDVI_2005353.tif"
       ]
      },
      {
       "output_type": "stream",
       "stream": "stdout",
       "text": [
        "\n",
        "D:\\Data\\NDVI_anomalySVI\\NDVI_2005361.tif"
       ]
      },
      {
       "output_type": "stream",
       "stream": "stdout",
       "text": [
        "\n",
        "D:\\Data\\NDVI_anomalySVI\\NDVI_2006001.tif"
       ]
      },
      {
       "output_type": "stream",
       "stream": "stdout",
       "text": [
        "\n",
        "D:\\Data\\NDVI_anomalySVI\\NDVI_2006009.tif"
       ]
      },
      {
       "output_type": "stream",
       "stream": "stdout",
       "text": [
        "\n",
        "D:\\Data\\NDVI_anomalySVI\\NDVI_2006017.tif"
       ]
      },
      {
       "output_type": "stream",
       "stream": "stdout",
       "text": [
        "\n",
        "D:\\Data\\NDVI_anomalySVI\\NDVI_2006025.tif"
       ]
      },
      {
       "output_type": "stream",
       "stream": "stdout",
       "text": [
        "\n",
        "D:\\Data\\NDVI_anomalySVI\\NDVI_2006033.tif"
       ]
      },
      {
       "output_type": "stream",
       "stream": "stdout",
       "text": [
        "\n",
        "D:\\Data\\NDVI_anomalySVI\\NDVI_2006041.tif"
       ]
      },
      {
       "output_type": "stream",
       "stream": "stdout",
       "text": [
        "\n",
        "D:\\Data\\NDVI_anomalySVI\\NDVI_2006049.tif"
       ]
      },
      {
       "output_type": "stream",
       "stream": "stdout",
       "text": [
        "\n",
        "D:\\Data\\NDVI_anomalySVI\\NDVI_2006057.tif"
       ]
      },
      {
       "output_type": "stream",
       "stream": "stdout",
       "text": [
        "\n",
        "D:\\Data\\NDVI_anomalySVI\\NDVI_2006065.tif"
       ]
      },
      {
       "output_type": "stream",
       "stream": "stdout",
       "text": [
        "\n",
        "D:\\Data\\NDVI_anomalySVI\\NDVI_2006073.tif"
       ]
      },
      {
       "output_type": "stream",
       "stream": "stdout",
       "text": [
        "\n",
        "D:\\Data\\NDVI_anomalySVI\\NDVI_2006081.tif"
       ]
      },
      {
       "output_type": "stream",
       "stream": "stdout",
       "text": [
        "\n",
        "D:\\Data\\NDVI_anomalySVI\\NDVI_2006089.tif"
       ]
      },
      {
       "output_type": "stream",
       "stream": "stdout",
       "text": [
        "\n",
        "D:\\Data\\NDVI_anomalySVI\\NDVI_2006097.tif"
       ]
      },
      {
       "output_type": "stream",
       "stream": "stdout",
       "text": [
        "\n",
        "D:\\Data\\NDVI_anomalySVI\\NDVI_2006105.tif"
       ]
      },
      {
       "output_type": "stream",
       "stream": "stdout",
       "text": [
        "\n",
        "D:\\Data\\NDVI_anomalySVI\\NDVI_2006113.tif"
       ]
      },
      {
       "output_type": "stream",
       "stream": "stdout",
       "text": [
        "\n",
        "D:\\Data\\NDVI_anomalySVI\\NDVI_2006121.tif"
       ]
      },
      {
       "output_type": "stream",
       "stream": "stdout",
       "text": [
        "\n",
        "D:\\Data\\NDVI_anomalySVI\\NDVI_2006129.tif"
       ]
      },
      {
       "output_type": "stream",
       "stream": "stdout",
       "text": [
        "\n",
        "D:\\Data\\NDVI_anomalySVI\\NDVI_2006137.tif"
       ]
      },
      {
       "output_type": "stream",
       "stream": "stdout",
       "text": [
        "\n",
        "D:\\Data\\NDVI_anomalySVI\\NDVI_2006145.tif"
       ]
      },
      {
       "output_type": "stream",
       "stream": "stdout",
       "text": [
        "\n",
        "D:\\Data\\NDVI_anomalySVI\\NDVI_2006153.tif"
       ]
      },
      {
       "output_type": "stream",
       "stream": "stdout",
       "text": [
        "\n",
        "D:\\Data\\NDVI_anomalySVI\\NDVI_2006161.tif"
       ]
      },
      {
       "output_type": "stream",
       "stream": "stdout",
       "text": [
        "\n",
        "D:\\Data\\NDVI_anomalySVI\\NDVI_2006169.tif"
       ]
      },
      {
       "output_type": "stream",
       "stream": "stdout",
       "text": [
        "\n",
        "D:\\Data\\NDVI_anomalySVI\\NDVI_2006177.tif"
       ]
      },
      {
       "output_type": "stream",
       "stream": "stdout",
       "text": [
        "\n",
        "D:\\Data\\NDVI_anomalySVI\\NDVI_2006185.tif"
       ]
      },
      {
       "output_type": "stream",
       "stream": "stdout",
       "text": [
        "\n",
        "D:\\Data\\NDVI_anomalySVI\\NDVI_2006193.tif"
       ]
      },
      {
       "output_type": "stream",
       "stream": "stdout",
       "text": [
        "\n",
        "D:\\Data\\NDVI_anomalySVI\\NDVI_2006201.tif"
       ]
      },
      {
       "output_type": "stream",
       "stream": "stdout",
       "text": [
        "\n",
        "D:\\Data\\NDVI_anomalySVI\\NDVI_2006209.tif"
       ]
      },
      {
       "output_type": "stream",
       "stream": "stdout",
       "text": [
        "\n",
        "D:\\Data\\NDVI_anomalySVI\\NDVI_2006217.tif"
       ]
      },
      {
       "output_type": "stream",
       "stream": "stdout",
       "text": [
        "\n",
        "D:\\Data\\NDVI_anomalySVI\\NDVI_2006225.tif"
       ]
      },
      {
       "output_type": "stream",
       "stream": "stdout",
       "text": [
        "\n",
        "D:\\Data\\NDVI_anomalySVI\\NDVI_2006233.tif"
       ]
      },
      {
       "output_type": "stream",
       "stream": "stdout",
       "text": [
        "\n",
        "D:\\Data\\NDVI_anomalySVI\\NDVI_2006241.tif"
       ]
      },
      {
       "output_type": "stream",
       "stream": "stdout",
       "text": [
        "\n",
        "D:\\Data\\NDVI_anomalySVI\\NDVI_2006249.tif"
       ]
      },
      {
       "output_type": "stream",
       "stream": "stdout",
       "text": [
        "\n",
        "D:\\Data\\NDVI_anomalySVI\\NDVI_2006257.tif"
       ]
      },
      {
       "output_type": "stream",
       "stream": "stdout",
       "text": [
        "\n",
        "D:\\Data\\NDVI_anomalySVI\\NDVI_2006265.tif"
       ]
      },
      {
       "output_type": "stream",
       "stream": "stdout",
       "text": [
        "\n",
        "D:\\Data\\NDVI_anomalySVI\\NDVI_2006273.tif"
       ]
      },
      {
       "output_type": "stream",
       "stream": "stdout",
       "text": [
        "\n",
        "D:\\Data\\NDVI_anomalySVI\\NDVI_2006281.tif"
       ]
      },
      {
       "output_type": "stream",
       "stream": "stdout",
       "text": [
        "\n",
        "D:\\Data\\NDVI_anomalySVI\\NDVI_2006289.tif"
       ]
      },
      {
       "output_type": "stream",
       "stream": "stdout",
       "text": [
        "\n",
        "D:\\Data\\NDVI_anomalySVI\\NDVI_2006297.tif"
       ]
      },
      {
       "output_type": "stream",
       "stream": "stdout",
       "text": [
        "\n",
        "D:\\Data\\NDVI_anomalySVI\\NDVI_2006305.tif"
       ]
      },
      {
       "output_type": "stream",
       "stream": "stdout",
       "text": [
        "\n",
        "D:\\Data\\NDVI_anomalySVI\\NDVI_2006313.tif"
       ]
      },
      {
       "output_type": "stream",
       "stream": "stdout",
       "text": [
        "\n",
        "D:\\Data\\NDVI_anomalySVI\\NDVI_2006321.tif"
       ]
      },
      {
       "output_type": "stream",
       "stream": "stdout",
       "text": [
        "\n",
        "D:\\Data\\NDVI_anomalySVI\\NDVI_2006329.tif"
       ]
      },
      {
       "output_type": "stream",
       "stream": "stdout",
       "text": [
        "\n",
        "D:\\Data\\NDVI_anomalySVI\\NDVI_2006337.tif"
       ]
      },
      {
       "output_type": "stream",
       "stream": "stdout",
       "text": [
        "\n",
        "D:\\Data\\NDVI_anomalySVI\\NDVI_2006345.tif"
       ]
      },
      {
       "output_type": "stream",
       "stream": "stdout",
       "text": [
        "\n",
        "D:\\Data\\NDVI_anomalySVI\\NDVI_2006353.tif"
       ]
      },
      {
       "output_type": "stream",
       "stream": "stdout",
       "text": [
        "\n",
        "D:\\Data\\NDVI_anomalySVI\\NDVI_2006361.tif"
       ]
      },
      {
       "output_type": "stream",
       "stream": "stdout",
       "text": [
        "\n",
        "D:\\Data\\NDVI_anomalySVI\\NDVI_2007001.tif"
       ]
      },
      {
       "output_type": "stream",
       "stream": "stdout",
       "text": [
        "\n",
        "D:\\Data\\NDVI_anomalySVI\\NDVI_2007009.tif"
       ]
      },
      {
       "output_type": "stream",
       "stream": "stdout",
       "text": [
        "\n",
        "D:\\Data\\NDVI_anomalySVI\\NDVI_2007017.tif"
       ]
      },
      {
       "output_type": "stream",
       "stream": "stdout",
       "text": [
        "\n",
        "D:\\Data\\NDVI_anomalySVI\\NDVI_2007025.tif"
       ]
      },
      {
       "output_type": "stream",
       "stream": "stdout",
       "text": [
        "\n",
        "D:\\Data\\NDVI_anomalySVI\\NDVI_2007033.tif"
       ]
      },
      {
       "output_type": "stream",
       "stream": "stdout",
       "text": [
        "\n",
        "D:\\Data\\NDVI_anomalySVI\\NDVI_2007041.tif"
       ]
      },
      {
       "output_type": "stream",
       "stream": "stdout",
       "text": [
        "\n",
        "D:\\Data\\NDVI_anomalySVI\\NDVI_2007049.tif"
       ]
      },
      {
       "output_type": "stream",
       "stream": "stdout",
       "text": [
        "\n",
        "D:\\Data\\NDVI_anomalySVI\\NDVI_2007057.tif"
       ]
      },
      {
       "output_type": "stream",
       "stream": "stdout",
       "text": [
        "\n",
        "D:\\Data\\NDVI_anomalySVI\\NDVI_2007065.tif"
       ]
      },
      {
       "output_type": "stream",
       "stream": "stdout",
       "text": [
        "\n",
        "D:\\Data\\NDVI_anomalySVI\\NDVI_2007073.tif"
       ]
      },
      {
       "output_type": "stream",
       "stream": "stdout",
       "text": [
        "\n",
        "D:\\Data\\NDVI_anomalySVI\\NDVI_2007081.tif"
       ]
      },
      {
       "output_type": "stream",
       "stream": "stdout",
       "text": [
        "\n",
        "D:\\Data\\NDVI_anomalySVI\\NDVI_2007089.tif"
       ]
      },
      {
       "output_type": "stream",
       "stream": "stdout",
       "text": [
        "\n",
        "D:\\Data\\NDVI_anomalySVI\\NDVI_2007097.tif"
       ]
      },
      {
       "output_type": "stream",
       "stream": "stdout",
       "text": [
        "\n",
        "D:\\Data\\NDVI_anomalySVI\\NDVI_2007105.tif"
       ]
      },
      {
       "output_type": "stream",
       "stream": "stdout",
       "text": [
        "\n",
        "D:\\Data\\NDVI_anomalySVI\\NDVI_2007113.tif"
       ]
      },
      {
       "output_type": "stream",
       "stream": "stdout",
       "text": [
        "\n",
        "D:\\Data\\NDVI_anomalySVI\\NDVI_2007121.tif"
       ]
      },
      {
       "output_type": "stream",
       "stream": "stdout",
       "text": [
        "\n",
        "D:\\Data\\NDVI_anomalySVI\\NDVI_2007129.tif"
       ]
      },
      {
       "output_type": "stream",
       "stream": "stdout",
       "text": [
        "\n",
        "D:\\Data\\NDVI_anomalySVI\\NDVI_2007137.tif"
       ]
      },
      {
       "output_type": "stream",
       "stream": "stdout",
       "text": [
        "\n",
        "D:\\Data\\NDVI_anomalySVI\\NDVI_2007145.tif"
       ]
      },
      {
       "output_type": "stream",
       "stream": "stdout",
       "text": [
        "\n",
        "D:\\Data\\NDVI_anomalySVI\\NDVI_2007153.tif"
       ]
      },
      {
       "output_type": "stream",
       "stream": "stdout",
       "text": [
        "\n",
        "D:\\Data\\NDVI_anomalySVI\\NDVI_2007161.tif"
       ]
      },
      {
       "output_type": "stream",
       "stream": "stdout",
       "text": [
        "\n",
        "D:\\Data\\NDVI_anomalySVI\\NDVI_2007169.tif"
       ]
      },
      {
       "output_type": "stream",
       "stream": "stdout",
       "text": [
        "\n",
        "D:\\Data\\NDVI_anomalySVI\\NDVI_2007177.tif"
       ]
      },
      {
       "output_type": "stream",
       "stream": "stdout",
       "text": [
        "\n",
        "D:\\Data\\NDVI_anomalySVI\\NDVI_2007185.tif"
       ]
      },
      {
       "output_type": "stream",
       "stream": "stdout",
       "text": [
        "\n",
        "D:\\Data\\NDVI_anomalySVI\\NDVI_2007193.tif"
       ]
      },
      {
       "output_type": "stream",
       "stream": "stdout",
       "text": [
        "\n",
        "D:\\Data\\NDVI_anomalySVI\\NDVI_2007201.tif"
       ]
      },
      {
       "output_type": "stream",
       "stream": "stdout",
       "text": [
        "\n",
        "D:\\Data\\NDVI_anomalySVI\\NDVI_2007209.tif"
       ]
      },
      {
       "output_type": "stream",
       "stream": "stdout",
       "text": [
        "\n",
        "D:\\Data\\NDVI_anomalySVI\\NDVI_2007217.tif"
       ]
      },
      {
       "output_type": "stream",
       "stream": "stdout",
       "text": [
        "\n",
        "D:\\Data\\NDVI_anomalySVI\\NDVI_2007225.tif"
       ]
      },
      {
       "output_type": "stream",
       "stream": "stdout",
       "text": [
        "\n",
        "D:\\Data\\NDVI_anomalySVI\\NDVI_2007233.tif"
       ]
      },
      {
       "output_type": "stream",
       "stream": "stdout",
       "text": [
        "\n",
        "D:\\Data\\NDVI_anomalySVI\\NDVI_2007241.tif"
       ]
      },
      {
       "output_type": "stream",
       "stream": "stdout",
       "text": [
        "\n",
        "D:\\Data\\NDVI_anomalySVI\\NDVI_2007249.tif"
       ]
      },
      {
       "output_type": "stream",
       "stream": "stdout",
       "text": [
        "\n",
        "D:\\Data\\NDVI_anomalySVI\\NDVI_2007257.tif"
       ]
      },
      {
       "output_type": "stream",
       "stream": "stdout",
       "text": [
        "\n",
        "D:\\Data\\NDVI_anomalySVI\\NDVI_2007265.tif"
       ]
      },
      {
       "output_type": "stream",
       "stream": "stdout",
       "text": [
        "\n",
        "D:\\Data\\NDVI_anomalySVI\\NDVI_2007273.tif"
       ]
      },
      {
       "output_type": "stream",
       "stream": "stdout",
       "text": [
        "\n",
        "D:\\Data\\NDVI_anomalySVI\\NDVI_2007281.tif"
       ]
      },
      {
       "output_type": "stream",
       "stream": "stdout",
       "text": [
        "\n",
        "D:\\Data\\NDVI_anomalySVI\\NDVI_2007289.tif"
       ]
      },
      {
       "output_type": "stream",
       "stream": "stdout",
       "text": [
        "\n",
        "D:\\Data\\NDVI_anomalySVI\\NDVI_2007297.tif"
       ]
      },
      {
       "output_type": "stream",
       "stream": "stdout",
       "text": [
        "\n",
        "D:\\Data\\NDVI_anomalySVI\\NDVI_2007305.tif"
       ]
      },
      {
       "output_type": "stream",
       "stream": "stdout",
       "text": [
        "\n",
        "D:\\Data\\NDVI_anomalySVI\\NDVI_2007313.tif"
       ]
      },
      {
       "output_type": "stream",
       "stream": "stdout",
       "text": [
        "\n",
        "D:\\Data\\NDVI_anomalySVI\\NDVI_2007321.tif"
       ]
      },
      {
       "output_type": "stream",
       "stream": "stdout",
       "text": [
        "\n",
        "D:\\Data\\NDVI_anomalySVI\\NDVI_2007329.tif"
       ]
      },
      {
       "output_type": "stream",
       "stream": "stdout",
       "text": [
        "\n",
        "D:\\Data\\NDVI_anomalySVI\\NDVI_2007337.tif"
       ]
      },
      {
       "output_type": "stream",
       "stream": "stdout",
       "text": [
        "\n",
        "D:\\Data\\NDVI_anomalySVI\\NDVI_2007345.tif"
       ]
      },
      {
       "output_type": "stream",
       "stream": "stdout",
       "text": [
        "\n",
        "D:\\Data\\NDVI_anomalySVI\\NDVI_2007353.tif"
       ]
      },
      {
       "output_type": "stream",
       "stream": "stdout",
       "text": [
        "\n",
        "D:\\Data\\NDVI_anomalySVI\\NDVI_2007361.tif"
       ]
      },
      {
       "output_type": "stream",
       "stream": "stdout",
       "text": [
        "\n",
        "D:\\Data\\NDVI_anomalySVI\\NDVI_2008001.tif"
       ]
      },
      {
       "output_type": "stream",
       "stream": "stdout",
       "text": [
        "\n",
        "D:\\Data\\NDVI_anomalySVI\\NDVI_2008009.tif"
       ]
      },
      {
       "output_type": "stream",
       "stream": "stdout",
       "text": [
        "\n",
        "D:\\Data\\NDVI_anomalySVI\\NDVI_2008017.tif"
       ]
      },
      {
       "output_type": "stream",
       "stream": "stdout",
       "text": [
        "\n",
        "D:\\Data\\NDVI_anomalySVI\\NDVI_2008025.tif"
       ]
      },
      {
       "output_type": "stream",
       "stream": "stdout",
       "text": [
        "\n",
        "D:\\Data\\NDVI_anomalySVI\\NDVI_2008033.tif"
       ]
      },
      {
       "output_type": "stream",
       "stream": "stdout",
       "text": [
        "\n",
        "D:\\Data\\NDVI_anomalySVI\\NDVI_2008041.tif"
       ]
      },
      {
       "output_type": "stream",
       "stream": "stdout",
       "text": [
        "\n",
        "D:\\Data\\NDVI_anomalySVI\\NDVI_2008049.tif"
       ]
      },
      {
       "output_type": "stream",
       "stream": "stdout",
       "text": [
        "\n",
        "D:\\Data\\NDVI_anomalySVI\\NDVI_2008057.tif"
       ]
      },
      {
       "output_type": "stream",
       "stream": "stdout",
       "text": [
        "\n",
        "D:\\Data\\NDVI_anomalySVI\\NDVI_2008065.tif"
       ]
      },
      {
       "output_type": "stream",
       "stream": "stdout",
       "text": [
        "\n",
        "D:\\Data\\NDVI_anomalySVI\\NDVI_2008073.tif"
       ]
      },
      {
       "output_type": "stream",
       "stream": "stdout",
       "text": [
        "\n",
        "D:\\Data\\NDVI_anomalySVI\\NDVI_2008081.tif"
       ]
      },
      {
       "output_type": "stream",
       "stream": "stdout",
       "text": [
        "\n",
        "D:\\Data\\NDVI_anomalySVI\\NDVI_2008089.tif"
       ]
      },
      {
       "output_type": "stream",
       "stream": "stdout",
       "text": [
        "\n",
        "D:\\Data\\NDVI_anomalySVI\\NDVI_2008097.tif"
       ]
      },
      {
       "output_type": "stream",
       "stream": "stdout",
       "text": [
        "\n",
        "D:\\Data\\NDVI_anomalySVI\\NDVI_2008105.tif"
       ]
      },
      {
       "output_type": "stream",
       "stream": "stdout",
       "text": [
        "\n",
        "D:\\Data\\NDVI_anomalySVI\\NDVI_2008113.tif"
       ]
      },
      {
       "output_type": "stream",
       "stream": "stdout",
       "text": [
        "\n",
        "D:\\Data\\NDVI_anomalySVI\\NDVI_2008121.tif"
       ]
      },
      {
       "output_type": "stream",
       "stream": "stdout",
       "text": [
        "\n",
        "D:\\Data\\NDVI_anomalySVI\\NDVI_2008129.tif"
       ]
      },
      {
       "output_type": "stream",
       "stream": "stdout",
       "text": [
        "\n",
        "D:\\Data\\NDVI_anomalySVI\\NDVI_2008137.tif"
       ]
      },
      {
       "output_type": "stream",
       "stream": "stdout",
       "text": [
        "\n",
        "D:\\Data\\NDVI_anomalySVI\\NDVI_2008145.tif"
       ]
      },
      {
       "output_type": "stream",
       "stream": "stdout",
       "text": [
        "\n",
        "D:\\Data\\NDVI_anomalySVI\\NDVI_2008153.tif"
       ]
      },
      {
       "output_type": "stream",
       "stream": "stdout",
       "text": [
        "\n",
        "D:\\Data\\NDVI_anomalySVI\\NDVI_2008161.tif"
       ]
      },
      {
       "output_type": "stream",
       "stream": "stdout",
       "text": [
        "\n",
        "D:\\Data\\NDVI_anomalySVI\\NDVI_2008169.tif"
       ]
      },
      {
       "output_type": "stream",
       "stream": "stdout",
       "text": [
        "\n",
        "D:\\Data\\NDVI_anomalySVI\\NDVI_2008177.tif"
       ]
      },
      {
       "output_type": "stream",
       "stream": "stdout",
       "text": [
        "\n",
        "D:\\Data\\NDVI_anomalySVI\\NDVI_2008185.tif"
       ]
      },
      {
       "output_type": "stream",
       "stream": "stdout",
       "text": [
        "\n",
        "D:\\Data\\NDVI_anomalySVI\\NDVI_2008193.tif"
       ]
      },
      {
       "output_type": "stream",
       "stream": "stdout",
       "text": [
        "\n",
        "D:\\Data\\NDVI_anomalySVI\\NDVI_2008201.tif"
       ]
      },
      {
       "output_type": "stream",
       "stream": "stdout",
       "text": [
        "\n",
        "D:\\Data\\NDVI_anomalySVI\\NDVI_2008209.tif"
       ]
      },
      {
       "output_type": "stream",
       "stream": "stdout",
       "text": [
        "\n",
        "D:\\Data\\NDVI_anomalySVI\\NDVI_2008217.tif"
       ]
      },
      {
       "output_type": "stream",
       "stream": "stdout",
       "text": [
        "\n",
        "D:\\Data\\NDVI_anomalySVI\\NDVI_2008225.tif"
       ]
      },
      {
       "output_type": "stream",
       "stream": "stdout",
       "text": [
        "\n",
        "D:\\Data\\NDVI_anomalySVI\\NDVI_2008233.tif"
       ]
      },
      {
       "output_type": "stream",
       "stream": "stdout",
       "text": [
        "\n",
        "D:\\Data\\NDVI_anomalySVI\\NDVI_2008241.tif"
       ]
      },
      {
       "output_type": "stream",
       "stream": "stdout",
       "text": [
        "\n",
        "D:\\Data\\NDVI_anomalySVI\\NDVI_2008249.tif"
       ]
      },
      {
       "output_type": "stream",
       "stream": "stdout",
       "text": [
        "\n",
        "D:\\Data\\NDVI_anomalySVI\\NDVI_2008257.tif"
       ]
      },
      {
       "output_type": "stream",
       "stream": "stdout",
       "text": [
        "\n",
        "D:\\Data\\NDVI_anomalySVI\\NDVI_2008265.tif"
       ]
      },
      {
       "output_type": "stream",
       "stream": "stdout",
       "text": [
        "\n",
        "D:\\Data\\NDVI_anomalySVI\\NDVI_2008273.tif"
       ]
      },
      {
       "output_type": "stream",
       "stream": "stdout",
       "text": [
        "\n",
        "D:\\Data\\NDVI_anomalySVI\\NDVI_2008281.tif"
       ]
      },
      {
       "output_type": "stream",
       "stream": "stdout",
       "text": [
        "\n",
        "D:\\Data\\NDVI_anomalySVI\\NDVI_2008289.tif"
       ]
      },
      {
       "output_type": "stream",
       "stream": "stdout",
       "text": [
        "\n",
        "D:\\Data\\NDVI_anomalySVI\\NDVI_2008297.tif"
       ]
      },
      {
       "output_type": "stream",
       "stream": "stdout",
       "text": [
        "\n",
        "D:\\Data\\NDVI_anomalySVI\\NDVI_2008305.tif"
       ]
      },
      {
       "output_type": "stream",
       "stream": "stdout",
       "text": [
        "\n",
        "D:\\Data\\NDVI_anomalySVI\\NDVI_2008313.tif"
       ]
      },
      {
       "output_type": "stream",
       "stream": "stdout",
       "text": [
        "\n",
        "D:\\Data\\NDVI_anomalySVI\\NDVI_2008321.tif"
       ]
      },
      {
       "output_type": "stream",
       "stream": "stdout",
       "text": [
        "\n",
        "D:\\Data\\NDVI_anomalySVI\\NDVI_2008329.tif"
       ]
      },
      {
       "output_type": "stream",
       "stream": "stdout",
       "text": [
        "\n",
        "D:\\Data\\NDVI_anomalySVI\\NDVI_2008337.tif"
       ]
      },
      {
       "output_type": "stream",
       "stream": "stdout",
       "text": [
        "\n",
        "D:\\Data\\NDVI_anomalySVI\\NDVI_2008345.tif"
       ]
      },
      {
       "output_type": "stream",
       "stream": "stdout",
       "text": [
        "\n",
        "D:\\Data\\NDVI_anomalySVI\\NDVI_2008353.tif"
       ]
      },
      {
       "output_type": "stream",
       "stream": "stdout",
       "text": [
        "\n",
        "D:\\Data\\NDVI_anomalySVI\\NDVI_2008361.tif"
       ]
      },
      {
       "output_type": "stream",
       "stream": "stdout",
       "text": [
        "\n",
        "D:\\Data\\NDVI_anomalySVI\\NDVI_2009001.tif"
       ]
      },
      {
       "output_type": "stream",
       "stream": "stdout",
       "text": [
        "\n",
        "D:\\Data\\NDVI_anomalySVI\\NDVI_2009009.tif"
       ]
      },
      {
       "output_type": "stream",
       "stream": "stdout",
       "text": [
        "\n",
        "D:\\Data\\NDVI_anomalySVI\\NDVI_2009017.tif"
       ]
      },
      {
       "output_type": "stream",
       "stream": "stdout",
       "text": [
        "\n",
        "D:\\Data\\NDVI_anomalySVI\\NDVI_2009025.tif"
       ]
      },
      {
       "output_type": "stream",
       "stream": "stdout",
       "text": [
        "\n",
        "D:\\Data\\NDVI_anomalySVI\\NDVI_2009033.tif"
       ]
      },
      {
       "output_type": "stream",
       "stream": "stdout",
       "text": [
        "\n",
        "D:\\Data\\NDVI_anomalySVI\\NDVI_2009041.tif"
       ]
      },
      {
       "output_type": "stream",
       "stream": "stdout",
       "text": [
        "\n",
        "D:\\Data\\NDVI_anomalySVI\\NDVI_2009049.tif"
       ]
      },
      {
       "output_type": "stream",
       "stream": "stdout",
       "text": [
        "\n",
        "D:\\Data\\NDVI_anomalySVI\\NDVI_2009057.tif"
       ]
      },
      {
       "output_type": "stream",
       "stream": "stdout",
       "text": [
        "\n",
        "D:\\Data\\NDVI_anomalySVI\\NDVI_2009065.tif"
       ]
      },
      {
       "output_type": "stream",
       "stream": "stdout",
       "text": [
        "\n",
        "D:\\Data\\NDVI_anomalySVI\\NDVI_2009073.tif"
       ]
      },
      {
       "output_type": "stream",
       "stream": "stdout",
       "text": [
        "\n",
        "D:\\Data\\NDVI_anomalySVI\\NDVI_2009081.tif"
       ]
      },
      {
       "output_type": "stream",
       "stream": "stdout",
       "text": [
        "\n",
        "D:\\Data\\NDVI_anomalySVI\\NDVI_2009089.tif"
       ]
      },
      {
       "output_type": "stream",
       "stream": "stdout",
       "text": [
        "\n",
        "D:\\Data\\NDVI_anomalySVI\\NDVI_2009097.tif"
       ]
      },
      {
       "output_type": "stream",
       "stream": "stdout",
       "text": [
        "\n",
        "D:\\Data\\NDVI_anomalySVI\\NDVI_2009105.tif"
       ]
      },
      {
       "output_type": "stream",
       "stream": "stdout",
       "text": [
        "\n",
        "D:\\Data\\NDVI_anomalySVI\\NDVI_2009113.tif"
       ]
      },
      {
       "output_type": "stream",
       "stream": "stdout",
       "text": [
        "\n",
        "D:\\Data\\NDVI_anomalySVI\\NDVI_2009121.tif"
       ]
      },
      {
       "output_type": "stream",
       "stream": "stdout",
       "text": [
        "\n",
        "D:\\Data\\NDVI_anomalySVI\\NDVI_2009129.tif"
       ]
      },
      {
       "output_type": "stream",
       "stream": "stdout",
       "text": [
        "\n",
        "D:\\Data\\NDVI_anomalySVI\\NDVI_2009137.tif"
       ]
      },
      {
       "output_type": "stream",
       "stream": "stdout",
       "text": [
        "\n",
        "D:\\Data\\NDVI_anomalySVI\\NDVI_2009145.tif"
       ]
      },
      {
       "output_type": "stream",
       "stream": "stdout",
       "text": [
        "\n",
        "D:\\Data\\NDVI_anomalySVI\\NDVI_2009153.tif"
       ]
      },
      {
       "output_type": "stream",
       "stream": "stdout",
       "text": [
        "\n",
        "D:\\Data\\NDVI_anomalySVI\\NDVI_2009161.tif"
       ]
      },
      {
       "output_type": "stream",
       "stream": "stdout",
       "text": [
        "\n",
        "D:\\Data\\NDVI_anomalySVI\\NDVI_2009169.tif"
       ]
      },
      {
       "output_type": "stream",
       "stream": "stdout",
       "text": [
        "\n",
        "D:\\Data\\NDVI_anomalySVI\\NDVI_2009177.tif"
       ]
      },
      {
       "output_type": "stream",
       "stream": "stdout",
       "text": [
        "\n",
        "D:\\Data\\NDVI_anomalySVI\\NDVI_2009185.tif"
       ]
      },
      {
       "output_type": "stream",
       "stream": "stdout",
       "text": [
        "\n",
        "D:\\Data\\NDVI_anomalySVI\\NDVI_2009193.tif"
       ]
      },
      {
       "output_type": "stream",
       "stream": "stdout",
       "text": [
        "\n",
        "D:\\Data\\NDVI_anomalySVI\\NDVI_2009201.tif"
       ]
      },
      {
       "output_type": "stream",
       "stream": "stdout",
       "text": [
        "\n",
        "D:\\Data\\NDVI_anomalySVI\\NDVI_2009209.tif"
       ]
      },
      {
       "output_type": "stream",
       "stream": "stdout",
       "text": [
        "\n",
        "D:\\Data\\NDVI_anomalySVI\\NDVI_2009217.tif"
       ]
      },
      {
       "output_type": "stream",
       "stream": "stdout",
       "text": [
        "\n",
        "D:\\Data\\NDVI_anomalySVI\\NDVI_2009225.tif"
       ]
      },
      {
       "output_type": "stream",
       "stream": "stdout",
       "text": [
        "\n",
        "D:\\Data\\NDVI_anomalySVI\\NDVI_2009233.tif"
       ]
      },
      {
       "output_type": "stream",
       "stream": "stdout",
       "text": [
        "\n",
        "D:\\Data\\NDVI_anomalySVI\\NDVI_2009241.tif"
       ]
      },
      {
       "output_type": "stream",
       "stream": "stdout",
       "text": [
        "\n",
        "D:\\Data\\NDVI_anomalySVI\\NDVI_2009249.tif"
       ]
      },
      {
       "output_type": "stream",
       "stream": "stdout",
       "text": [
        "\n",
        "D:\\Data\\NDVI_anomalySVI\\NDVI_2009257.tif"
       ]
      },
      {
       "output_type": "stream",
       "stream": "stdout",
       "text": [
        "\n",
        "D:\\Data\\NDVI_anomalySVI\\NDVI_2009265.tif"
       ]
      },
      {
       "output_type": "stream",
       "stream": "stdout",
       "text": [
        "\n",
        "D:\\Data\\NDVI_anomalySVI\\NDVI_2009273.tif"
       ]
      },
      {
       "output_type": "stream",
       "stream": "stdout",
       "text": [
        "\n",
        "D:\\Data\\NDVI_anomalySVI\\NDVI_2009281.tif"
       ]
      },
      {
       "output_type": "stream",
       "stream": "stdout",
       "text": [
        "\n",
        "D:\\Data\\NDVI_anomalySVI\\NDVI_2009289.tif"
       ]
      },
      {
       "output_type": "stream",
       "stream": "stdout",
       "text": [
        "\n",
        "D:\\Data\\NDVI_anomalySVI\\NDVI_2009297.tif"
       ]
      },
      {
       "output_type": "stream",
       "stream": "stdout",
       "text": [
        "\n",
        "D:\\Data\\NDVI_anomalySVI\\NDVI_2009305.tif"
       ]
      },
      {
       "output_type": "stream",
       "stream": "stdout",
       "text": [
        "\n",
        "D:\\Data\\NDVI_anomalySVI\\NDVI_2009313.tif"
       ]
      },
      {
       "output_type": "stream",
       "stream": "stdout",
       "text": [
        "\n",
        "D:\\Data\\NDVI_anomalySVI\\NDVI_2009321.tif"
       ]
      },
      {
       "output_type": "stream",
       "stream": "stdout",
       "text": [
        "\n",
        "D:\\Data\\NDVI_anomalySVI\\NDVI_2009329.tif"
       ]
      },
      {
       "output_type": "stream",
       "stream": "stdout",
       "text": [
        "\n",
        "D:\\Data\\NDVI_anomalySVI\\NDVI_2009337.tif"
       ]
      },
      {
       "output_type": "stream",
       "stream": "stdout",
       "text": [
        "\n",
        "D:\\Data\\NDVI_anomalySVI\\NDVI_2009345.tif"
       ]
      },
      {
       "output_type": "stream",
       "stream": "stdout",
       "text": [
        "\n",
        "D:\\Data\\NDVI_anomalySVI\\NDVI_2009353.tif"
       ]
      },
      {
       "output_type": "stream",
       "stream": "stdout",
       "text": [
        "\n",
        "D:\\Data\\NDVI_anomalySVI\\NDVI_2009361.tif"
       ]
      },
      {
       "output_type": "stream",
       "stream": "stdout",
       "text": [
        "\n",
        "D:\\Data\\NDVI_anomalySVI\\NDVI_2010001.tif"
       ]
      },
      {
       "output_type": "stream",
       "stream": "stdout",
       "text": [
        "\n",
        "D:\\Data\\NDVI_anomalySVI\\NDVI_2010009.tif"
       ]
      },
      {
       "output_type": "stream",
       "stream": "stdout",
       "text": [
        "\n",
        "D:\\Data\\NDVI_anomalySVI\\NDVI_2010017.tif"
       ]
      },
      {
       "output_type": "stream",
       "stream": "stdout",
       "text": [
        "\n",
        "D:\\Data\\NDVI_anomalySVI\\NDVI_2010025.tif"
       ]
      },
      {
       "output_type": "stream",
       "stream": "stdout",
       "text": [
        "\n",
        "D:\\Data\\NDVI_anomalySVI\\NDVI_2010033.tif"
       ]
      },
      {
       "output_type": "stream",
       "stream": "stdout",
       "text": [
        "\n",
        "D:\\Data\\NDVI_anomalySVI\\NDVI_2010041.tif"
       ]
      },
      {
       "output_type": "stream",
       "stream": "stdout",
       "text": [
        "\n",
        "D:\\Data\\NDVI_anomalySVI\\NDVI_2010049.tif"
       ]
      },
      {
       "output_type": "stream",
       "stream": "stdout",
       "text": [
        "\n",
        "D:\\Data\\NDVI_anomalySVI\\NDVI_2010057.tif"
       ]
      },
      {
       "output_type": "stream",
       "stream": "stdout",
       "text": [
        "\n",
        "D:\\Data\\NDVI_anomalySVI\\NDVI_2010065.tif"
       ]
      },
      {
       "output_type": "stream",
       "stream": "stdout",
       "text": [
        "\n",
        "D:\\Data\\NDVI_anomalySVI\\NDVI_2010073.tif"
       ]
      },
      {
       "output_type": "stream",
       "stream": "stdout",
       "text": [
        "\n",
        "D:\\Data\\NDVI_anomalySVI\\NDVI_2010081.tif"
       ]
      },
      {
       "output_type": "stream",
       "stream": "stdout",
       "text": [
        "\n",
        "D:\\Data\\NDVI_anomalySVI\\NDVI_2010089.tif"
       ]
      },
      {
       "output_type": "stream",
       "stream": "stdout",
       "text": [
        "\n",
        "D:\\Data\\NDVI_anomalySVI\\NDVI_2010097.tif"
       ]
      },
      {
       "output_type": "stream",
       "stream": "stdout",
       "text": [
        "\n",
        "D:\\Data\\NDVI_anomalySVI\\NDVI_2010105.tif"
       ]
      },
      {
       "output_type": "stream",
       "stream": "stdout",
       "text": [
        "\n",
        "D:\\Data\\NDVI_anomalySVI\\NDVI_2010113.tif"
       ]
      },
      {
       "output_type": "stream",
       "stream": "stdout",
       "text": [
        "\n",
        "D:\\Data\\NDVI_anomalySVI\\NDVI_2010121.tif"
       ]
      },
      {
       "output_type": "stream",
       "stream": "stdout",
       "text": [
        "\n",
        "D:\\Data\\NDVI_anomalySVI\\NDVI_2010129.tif"
       ]
      },
      {
       "output_type": "stream",
       "stream": "stdout",
       "text": [
        "\n",
        "D:\\Data\\NDVI_anomalySVI\\NDVI_2010137.tif"
       ]
      },
      {
       "output_type": "stream",
       "stream": "stdout",
       "text": [
        "\n",
        "D:\\Data\\NDVI_anomalySVI\\NDVI_2010145.tif"
       ]
      },
      {
       "output_type": "stream",
       "stream": "stdout",
       "text": [
        "\n",
        "D:\\Data\\NDVI_anomalySVI\\NDVI_2010153.tif"
       ]
      },
      {
       "output_type": "stream",
       "stream": "stdout",
       "text": [
        "\n",
        "D:\\Data\\NDVI_anomalySVI\\NDVI_2010161.tif"
       ]
      },
      {
       "output_type": "stream",
       "stream": "stdout",
       "text": [
        "\n",
        "D:\\Data\\NDVI_anomalySVI\\NDVI_2010169.tif"
       ]
      },
      {
       "output_type": "stream",
       "stream": "stdout",
       "text": [
        "\n",
        "D:\\Data\\NDVI_anomalySVI\\NDVI_2010177.tif"
       ]
      },
      {
       "output_type": "stream",
       "stream": "stdout",
       "text": [
        "\n",
        "D:\\Data\\NDVI_anomalySVI\\NDVI_2010185.tif"
       ]
      },
      {
       "output_type": "stream",
       "stream": "stdout",
       "text": [
        "\n",
        "D:\\Data\\NDVI_anomalySVI\\NDVI_2010193.tif"
       ]
      },
      {
       "output_type": "stream",
       "stream": "stdout",
       "text": [
        "\n",
        "D:\\Data\\NDVI_anomalySVI\\NDVI_2010201.tif"
       ]
      },
      {
       "output_type": "stream",
       "stream": "stdout",
       "text": [
        "\n",
        "D:\\Data\\NDVI_anomalySVI\\NDVI_2010209.tif"
       ]
      },
      {
       "output_type": "stream",
       "stream": "stdout",
       "text": [
        "\n",
        "D:\\Data\\NDVI_anomalySVI\\NDVI_2010217.tif"
       ]
      },
      {
       "output_type": "stream",
       "stream": "stdout",
       "text": [
        "\n",
        "D:\\Data\\NDVI_anomalySVI\\NDVI_2010225.tif"
       ]
      },
      {
       "output_type": "stream",
       "stream": "stdout",
       "text": [
        "\n",
        "D:\\Data\\NDVI_anomalySVI\\NDVI_2010233.tif"
       ]
      },
      {
       "output_type": "stream",
       "stream": "stdout",
       "text": [
        "\n",
        "D:\\Data\\NDVI_anomalySVI\\NDVI_2010241.tif"
       ]
      },
      {
       "output_type": "stream",
       "stream": "stdout",
       "text": [
        "\n",
        "D:\\Data\\NDVI_anomalySVI\\NDVI_2010249.tif"
       ]
      },
      {
       "output_type": "stream",
       "stream": "stdout",
       "text": [
        "\n",
        "D:\\Data\\NDVI_anomalySVI\\NDVI_2010257.tif"
       ]
      },
      {
       "output_type": "stream",
       "stream": "stdout",
       "text": [
        "\n",
        "D:\\Data\\NDVI_anomalySVI\\NDVI_2010265.tif"
       ]
      },
      {
       "output_type": "stream",
       "stream": "stdout",
       "text": [
        "\n",
        "D:\\Data\\NDVI_anomalySVI\\NDVI_2010273.tif"
       ]
      },
      {
       "output_type": "stream",
       "stream": "stdout",
       "text": [
        "\n",
        "D:\\Data\\NDVI_anomalySVI\\NDVI_2010281.tif"
       ]
      },
      {
       "output_type": "stream",
       "stream": "stdout",
       "text": [
        "\n",
        "D:\\Data\\NDVI_anomalySVI\\NDVI_2010289.tif"
       ]
      },
      {
       "output_type": "stream",
       "stream": "stdout",
       "text": [
        "\n",
        "D:\\Data\\NDVI_anomalySVI\\NDVI_2010297.tif"
       ]
      },
      {
       "output_type": "stream",
       "stream": "stdout",
       "text": [
        "\n",
        "D:\\Data\\NDVI_anomalySVI\\NDVI_2010305.tif"
       ]
      },
      {
       "output_type": "stream",
       "stream": "stdout",
       "text": [
        "\n",
        "D:\\Data\\NDVI_anomalySVI\\NDVI_2010313.tif"
       ]
      },
      {
       "output_type": "stream",
       "stream": "stdout",
       "text": [
        "\n",
        "D:\\Data\\NDVI_anomalySVI\\NDVI_2010321.tif"
       ]
      },
      {
       "output_type": "stream",
       "stream": "stdout",
       "text": [
        "\n",
        "D:\\Data\\NDVI_anomalySVI\\NDVI_2010329.tif"
       ]
      },
      {
       "output_type": "stream",
       "stream": "stdout",
       "text": [
        "\n",
        "D:\\Data\\NDVI_anomalySVI\\NDVI_2010337.tif"
       ]
      },
      {
       "output_type": "stream",
       "stream": "stdout",
       "text": [
        "\n",
        "D:\\Data\\NDVI_anomalySVI\\NDVI_2010345.tif"
       ]
      },
      {
       "output_type": "stream",
       "stream": "stdout",
       "text": [
        "\n",
        "D:\\Data\\NDVI_anomalySVI\\NDVI_2010353.tif"
       ]
      },
      {
       "output_type": "stream",
       "stream": "stdout",
       "text": [
        "\n",
        "D:\\Data\\NDVI_anomalySVI\\NDVI_2010361.tif"
       ]
      },
      {
       "output_type": "stream",
       "stream": "stdout",
       "text": [
        "\n"
       ]
      }
     ],
     "prompt_number": 7
    },
    {
     "cell_type": "code",
     "collapsed": false,
     "input": [
      "barray.max()"
     ],
     "language": "python",
     "metadata": {},
     "outputs": [
      {
       "metadata": {},
       "output_type": "pyout",
       "prompt_number": 4,
       "text": [
        "11.993555068969727"
       ]
      }
     ],
     "prompt_number": 4
    },
    {
     "cell_type": "code",
     "collapsed": false,
     "input": [],
     "language": "python",
     "metadata": {},
     "outputs": []
    },
    {
     "cell_type": "code",
     "collapsed": false,
     "input": [],
     "language": "python",
     "metadata": {},
     "outputs": []
    },
    {
     "cell_type": "code",
     "collapsed": false,
     "input": [],
     "language": "python",
     "metadata": {},
     "outputs": []
    },
    {
     "cell_type": "heading",
     "level": 1,
     "metadata": {},
     "source": [
      "Standardized Vegetation Index"
     ]
    },
    {
     "cell_type": "code",
     "collapsed": false,
     "input": [
      "pathmean = r'D:\\Data\\NDVI_maxmin//NDVI_mean.tif'\n",
      "pathstd = r'D:\\Data\\NDVI_maxmin//NDVI_std.tif'\n",
      "pathano = r'D:\\Data\\NDVI_anomaly'\n",
      "\n",
      "\n",
      "fileano = dl.FilesFolder(pathano, '.tif')\n",
      "#fileano = fileano[0:-46]\n",
      "#print (fileano)\n",
      "\n",
      "# open basefile\n",
      "ds = gdal.Open(fileano[0])\n",
      "band = ds.GetRasterBand(1)\n",
      "nan = band.GetNoDataValue()\n",
      "\n",
      "# open max and min files, mask where NaN\n",
      "meanin = gdal.Open(pathmean).ReadAsArray()\n",
      "meanin = np.ma.masked_values(meanin, nan)\n",
      "stdin = gdal.Open(pathstd).ReadAsArray()\n",
      "stdin = np.ma.masked_values(stdin, nan)\n",
      "\n",
      "for i in fileano:\n",
      "    # open anomaly and mask where NaN\n",
      "    ano = gdal.Open(i).ReadAsArray()\n",
      "    ano = np.ma.masked_values(ano, nan)\n",
      "    \n",
      "    # normalized anomaly index\n",
      "    normano = ano / stdin\n",
      "    \n",
      "    print ('\\nmax', normano.max(), 'min', normano.min(), 'std', normano.std(), 'mean', normano.mean())\n",
      "    path = r'D:\\Data\\NDVI_anomalySVI//'+i[-16::]\n",
      "    print (path)\n",
      "    \n",
      "    dl.saveRaster(path, normano.data, ds, datatype=6, nan=nan)"
     ],
     "language": "python",
     "metadata": {},
     "outputs": []
    },
    {
     "cell_type": "code",
     "collapsed": false,
     "input": [
      "pathmax = r'D:\\Data\\NDVI_maxmin//NDVI_anomalySVImax.tif'\n",
      "pathmin = r'D:\\Data\\NDVI_maxmin//NDVI_anomalySVImin.tif'\n",
      "pathano = r'D:\\Data\\NDVI_anomalySVI'\n",
      "\n",
      "fileano = dl.FilesFolder(pathano, '.tif')\n",
      "#fileano = fileano[0:-46]\n",
      "#print (fileano)\n",
      "\n",
      "# open basefile\n",
      "ds = gdal.Open(fileano[0])\n",
      "band = ds.GetRasterBand(1)\n",
      "nan = band.GetNoDataValue()\n",
      "\n",
      "# open max and min files, mask where NaN\n",
      "maxin = gdal.Open(pathmax).ReadAsArray()\n",
      "maxin = np.ma.masked_values(maxin, nan)\n",
      "minin = gdal.Open(pathmin).ReadAsArray()\n",
      "minin = np.ma.masked_values(minin, nan)\n",
      "\n",
      "for i in fileano:\n",
      "    # open anomaly and mask where NaN\n",
      "    ano = gdal.Open(i).ReadAsArray()\n",
      "    ano = np.ma.masked_values(ano, nan)\n",
      "    \n",
      "    # normalized anomaly index\n",
      "    normano = ano  / (maxin-minin)#stdin\n",
      "    \n",
      "    print ('\\nmax', normano.max(), 'min', normano.min(), 'std', normano.std(), 'mean', normano.mean())\n",
      "    path = r'D:\\Data\\NDVI_anomalySVInormalized//'+i[-16::]\n",
      "    print (path)\n",
      "    \n",
      "    dl.saveRaster(path, normano.data, ds, datatype=6, nan=nan)"
     ],
     "language": "python",
     "metadata": {},
     "outputs": [
      {
       "output_type": "stream",
       "stream": "stdout",
       "text": [
        "\n",
        "max 0.9 min -0.830059 std 0.173414916151 mean -0.00896725373849\n",
        "D:\\Data\\NDVI_anomalySVInormalized//NDVI_2001001.tif\n",
        "\n",
        "max"
       ]
      },
      {
       "output_type": "stream",
       "stream": "stdout",
       "text": [
        " 0.9 min -0.820792 std 0.179887946949 mean -0.0108849106836\n",
        "D:\\Data\\NDVI_anomalySVInormalized//NDVI_2001009.tif\n",
        "\n",
        "max"
       ]
      },
      {
       "output_type": "stream",
       "stream": "stdout",
       "text": [
        " 0.9 min -0.813164 std 0.183702991063 mean -0.0135540393454\n",
        "D:\\Data\\NDVI_anomalySVInormalized//NDVI_2001017.tif\n",
        "\n",
        "max"
       ]
      },
      {
       "output_type": "stream",
       "stream": "stdout",
       "text": [
        " 0.9 min -0.796507 std 0.184331576253 mean -0.0167849927503\n",
        "D:\\Data\\NDVI_anomalySVInormalized//NDVI_2001025.tif\n",
        "\n",
        "max"
       ]
      },
      {
       "output_type": "stream",
       "stream": "stdout",
       "text": [
        " 0.9 min -0.831246 std 0.181811618546 mean -0.0204226003475\n",
        "D:\\Data\\NDVI_anomalySVInormalized//NDVI_2001033.tif\n",
        "\n",
        "max"
       ]
      },
      {
       "output_type": "stream",
       "stream": "stdout",
       "text": [
        " 0.9 min -0.83968 std 0.176655502794 mean -0.0243831511021\n",
        "D:\\Data\\NDVI_anomalySVInormalized//NDVI_2001041.tif\n",
        "\n",
        "max"
       ]
      },
      {
       "output_type": "stream",
       "stream": "stdout",
       "text": [
        " 0.9 min -0.808022 std 0.169804302851 mean -0.0286494178394\n",
        "D:\\Data\\NDVI_anomalySVInormalized//NDVI_2001049.tif\n",
        "\n",
        "max"
       ]
      },
      {
       "output_type": "stream",
       "stream": "stdout",
       "text": [
        " 0.9 min -0.776687 std 0.162129135166 mean -0.0332665111818\n",
        "D:\\Data\\NDVI_anomalySVInormalized//NDVI_2001057.tif\n",
        "\n",
        "max"
       ]
      },
      {
       "output_type": "stream",
       "stream": "stdout",
       "text": [
        " 0.9 min -0.789086 std 0.154650014114 mean -0.0383274050808\n",
        "D:\\Data\\NDVI_anomalySVInormalized//NDVI_2001065.tif\n",
        "\n",
        "max"
       ]
      },
      {
       "output_type": "stream",
       "stream": "stdout",
       "text": [
        " 0.9 min -0.766225 std 0.148543830049 mean -0.0439242089414\n",
        "D:\\Data\\NDVI_anomalySVInormalized//NDVI_2001073.tif\n",
        "\n",
        "max"
       ]
      },
      {
       "output_type": "stream",
       "stream": "stdout",
       "text": [
        " 0.9 min -0.767191 std 0.144364126992 mean -0.0501219414554\n",
        "D:\\Data\\NDVI_anomalySVInormalized//NDVI_2001081.tif\n",
        "\n",
        "max"
       ]
      },
      {
       "output_type": "stream",
       "stream": "stdout",
       "text": [
        " 0.9 min -0.756927 std 0.142179442786 mean -0.0569108477634\n",
        "D:\\Data\\NDVI_anomalySVInormalized//NDVI_2001089.tif\n",
        "\n",
        "max"
       ]
      },
      {
       "output_type": "stream",
       "stream": "stdout",
       "text": [
        " 0.9 min -0.785696 std 0.14161164226 mean -0.0641804045617\n",
        "D:\\Data\\NDVI_anomalySVInormalized//NDVI_2001097.tif\n",
        "\n",
        "max"
       ]
      },
      {
       "output_type": "stream",
       "stream": "stdout",
       "text": [
        " 0.9 min -0.77655 std 0.14220431933 mean -0.0717244058355\n",
        "D:\\Data\\NDVI_anomalySVInormalized//NDVI_2001105.tif\n",
        "\n",
        "max"
       ]
      },
      {
       "output_type": "stream",
       "stream": "stdout",
       "text": [
        " 0.9 min -0.773473 std 0.143675014381 mean -0.0792383012713\n",
        "D:\\Data\\NDVI_anomalySVInormalized//NDVI_2001113.tif\n",
        "\n",
        "max"
       ]
      },
      {
       "output_type": "stream",
       "stream": "stdout",
       "text": [
        " 0.9 min -0.78373 std 0.146012508829 mean -0.0863321822658\n",
        "D:\\Data\\NDVI_anomalySVInormalized//NDVI_2001121.tif\n",
        "\n",
        "max"
       ]
      },
      {
       "output_type": "stream",
       "stream": "stdout",
       "text": [
        " 0.9 min -0.799074 std 0.149502848964 mean -0.0925928891929\n",
        "D:\\Data\\NDVI_anomalySVInormalized//NDVI_2001129.tif\n",
        "\n",
        "max"
       ]
      },
      {
       "output_type": "stream",
       "stream": "stdout",
       "text": [
        " 0.9 min -0.780399 std 0.154400790185 mean -0.0976237554247\n",
        "D:\\Data\\NDVI_anomalySVInormalized//NDVI_2001137.tif\n",
        "\n",
        "max"
       ]
      },
      {
       "output_type": "stream",
       "stream": "stdout",
       "text": [
        " 0.9 min -0.781217 std 0.16068781256 mean -0.101093341282\n",
        "D:\\Data\\NDVI_anomalySVInormalized//NDVI_2001145.tif\n",
        "\n",
        "max"
       ]
      },
      {
       "output_type": "stream",
       "stream": "stdout",
       "text": [
        " 0.9 min -0.807709 std 0.167951207525 mean -0.102806342841\n",
        "D:\\Data\\NDVI_anomalySVInormalized//NDVI_2001153.tif\n",
        "\n",
        "max"
       ]
      },
      {
       "output_type": "stream",
       "stream": "stdout",
       "text": [
        " 0.9 min -0.839069 std 0.175361136002 mean -0.102690820527\n",
        "D:\\Data\\NDVI_anomalySVInormalized//NDVI_2001161.tif\n",
        "\n",
        "max"
       ]
      },
      {
       "output_type": "stream",
       "stream": "stdout",
       "text": [
        " 0.9 min -0.824669 std 0.182249199627 mean -0.100841465659\n",
        "D:\\Data\\NDVI_anomalySVInormalized//NDVI_2001169.tif\n",
        "\n",
        "max"
       ]
      },
      {
       "output_type": "stream",
       "stream": "stdout",
       "text": [
        " 0.9 min -0.823622 std 0.18788067903 mean -0.0974955314387\n",
        "D:\\Data\\NDVI_anomalySVInormalized//NDVI_2001177.tif\n",
        "\n",
        "max"
       ]
      },
      {
       "output_type": "stream",
       "stream": "stdout",
       "text": [
        " 0.9 min -0.81225 std 0.191663729151 mean -0.0930076878998\n",
        "D:\\Data\\NDVI_anomalySVInormalized//NDVI_2001185.tif\n",
        "\n",
        "max"
       ]
      },
      {
       "output_type": "stream",
       "stream": "stdout",
       "text": [
        " 0.9 min -0.835027 std 0.193386704998 mean -0.0878126974486\n",
        "D:\\Data\\NDVI_anomalySVInormalized//NDVI_2001193.tif\n",
        "\n",
        "max"
       ]
      },
      {
       "output_type": "stream",
       "stream": "stdout",
       "text": [
        " 0.9 min -0.83213 std 0.193072317382 mean -0.0823268949846\n",
        "D:\\Data\\NDVI_anomalySVInormalized//NDVI_2001201.tif\n",
        "\n",
        "max"
       ]
      },
      {
       "output_type": "stream",
       "stream": "stdout",
       "text": [
        " 0.9 min -0.822139 std 0.190931145312 mean -0.0769618706977\n",
        "D:\\Data\\NDVI_anomalySVInormalized//NDVI_2001209.tif\n",
        "\n",
        "max"
       ]
      },
      {
       "output_type": "stream",
       "stream": "stdout",
       "text": [
        " 0.9 min -0.8559 std 0.187248603213 mean -0.0720017199698\n",
        "D:\\Data\\NDVI_anomalySVInormalized//NDVI_2001217.tif\n",
        "\n",
        "max"
       ]
      },
      {
       "output_type": "stream",
       "stream": "stdout",
       "text": [
        " 0.9 min -0.871639 std 0.182321844643 mean -0.0675984709602\n",
        "D:\\Data\\NDVI_anomalySVInormalized//NDVI_2001225.tif\n",
        "\n",
        "max"
       ]
      },
      {
       "output_type": "stream",
       "stream": "stdout",
       "text": [
        " 0.9 min -0.843671 std 0.176411511584 mean -0.0637961072251\n",
        "D:\\Data\\NDVI_anomalySVInormalized//NDVI_2001233.tif\n",
        "\n",
        "max"
       ]
      },
      {
       "output_type": "stream",
       "stream": "stdout",
       "text": [
        " 0.9 min -0.818252 std 0.169863742609 mean -0.0605163529473\n",
        "D:\\Data\\NDVI_anomalySVInormalized//NDVI_2001241.tif\n",
        "\n",
        "max"
       ]
      },
      {
       "output_type": "stream",
       "stream": "stdout",
       "text": [
        " 0.9 min -0.828939 std 0.162772404158 mean -0.0575387979943\n",
        "D:\\Data\\NDVI_anomalySVInormalized//NDVI_2001249.tif\n",
        "\n",
        "max"
       ]
      },
      {
       "output_type": "stream",
       "stream": "stdout",
       "text": [
        " 0.9 min -0.82645 std 0.155441425598 mean -0.0546155748599\n",
        "D:\\Data\\NDVI_anomalySVInormalized//NDVI_2001257.tif\n",
        "\n",
        "max"
       ]
      },
      {
       "output_type": "stream",
       "stream": "stdout",
       "text": [
        " 0.9 min -0.831544 std 0.148493450977 mean -0.051485211621\n",
        "D:\\Data\\NDVI_anomalySVInormalized//NDVI_2001265.tif\n",
        "\n",
        "max"
       ]
      },
      {
       "output_type": "stream",
       "stream": "stdout",
       "text": [
        " 0.9 min -0.840426 std 0.142371388563 mean -0.0479268346771\n",
        "D:\\Data\\NDVI_anomalySVInormalized//NDVI_2001273.tif\n",
        "\n",
        "max"
       ]
      },
      {
       "output_type": "stream",
       "stream": "stdout",
       "text": [
        " 0.9 min -0.806562 std 0.137435212516 mean -0.0438166860396\n",
        "D:\\Data\\NDVI_anomalySVInormalized//NDVI_2001281.tif\n",
        "\n",
        "max"
       ]
      },
      {
       "output_type": "stream",
       "stream": "stdout",
       "text": [
        " 0.9 min -0.799152 std 0.133696653499 mean -0.039140360083\n",
        "D:\\Data\\NDVI_anomalySVInormalized//NDVI_2001289.tif\n",
        "\n",
        "max"
       ]
      },
      {
       "output_type": "stream",
       "stream": "stdout",
       "text": [
        " 0.9 min -0.798326 std 0.131145614701 mean -0.0340161551261\n",
        "D:\\Data\\NDVI_anomalySVInormalized//NDVI_2001297.tif\n",
        "\n",
        "max"
       ]
      },
      {
       "output_type": "stream",
       "stream": "stdout",
       "text": [
        " 0.9 min -0.796762 std 0.129743020921 mean -0.0286510814341\n",
        "D:\\Data\\NDVI_anomalySVInormalized//NDVI_2001305.tif\n",
        "\n",
        "max"
       ]
      },
      {
       "output_type": "stream",
       "stream": "stdout",
       "text": [
        " 0.9 min -0.794559 std 0.129694151308 mean -0.023339851618\n",
        "D:\\Data\\NDVI_anomalySVInormalized//NDVI_2001313.tif\n",
        "\n",
        "max"
       ]
      },
      {
       "output_type": "stream",
       "stream": "stdout",
       "text": [
        " 0.9 min -0.792021 std 0.131392083841 mean -0.0184173106337\n",
        "D:\\Data\\NDVI_anomalySVInormalized//NDVI_2001321.tif\n",
        "\n",
        "max"
       ]
      },
      {
       "output_type": "stream",
       "stream": "stdout",
       "text": [
        " 0.9 min -0.789335 std 0.135270737615 mean -0.0141970731451\n",
        "D:\\Data\\NDVI_anomalySVInormalized//NDVI_2001329.tif\n",
        "\n",
        "max"
       ]
      },
      {
       "output_type": "stream",
       "stream": "stdout",
       "text": [
        " 0.9 min -0.786748 std 0.141519824938 mean -0.0109466388647\n",
        "D:\\Data\\NDVI_anomalySVInormalized//NDVI_2001337.tif\n",
        "\n",
        "max"
       ]
      },
      {
       "output_type": "stream",
       "stream": "stdout",
       "text": [
        " 0.9 min -0.79963 std 0.149783605361 mean -0.00884069376027\n",
        "D:\\Data\\NDVI_anomalySVInormalized//NDVI_2001345.tif\n",
        "\n",
        "max"
       ]
      },
      {
       "output_type": "stream",
       "stream": "stdout",
       "text": [
        " 0.9 min -0.825719 std 0.159223141419 mean -0.00794958397806\n",
        "D:\\Data\\NDVI_anomalySVInormalized//NDVI_2001353.tif\n",
        "\n",
        "max"
       ]
      },
      {
       "output_type": "stream",
       "stream": "stdout",
       "text": [
        " 0.9 min -0.832613 std 0.168431383741 mean -0.00823911243317\n",
        "D:\\Data\\NDVI_anomalySVInormalized//NDVI_2001361.tif\n",
        "\n",
        "max"
       ]
      },
      {
       "output_type": "stream",
       "stream": "stdout",
       "text": [
        " 0.9 min -0.827054 std 0.177971841736 mean 0.0105250272188\n",
        "D:\\Data\\NDVI_anomalySVInormalized//NDVI_2002001.tif\n",
        "\n",
        "max"
       ]
      },
      {
       "output_type": "stream",
       "stream": "stdout",
       "text": [
        " 0.9 min -0.820284 std 0.17960262454 mean 0.0116052523909\n",
        "D:\\Data\\NDVI_anomalySVInormalized//NDVI_2002009.tif\n",
        "\n",
        "max"
       ]
      },
      {
       "output_type": "stream",
       "stream": "stdout",
       "text": [
        " 0.9 min -0.823629 std 0.180171540163 mean 0.0118665326157\n",
        "D:\\Data\\NDVI_anomalySVInormalized//NDVI_2002017.tif\n",
        "\n",
        "max"
       ]
      },
      {
       "output_type": "stream",
       "stream": "stdout",
       "text": [
        " 0.9 min -0.846376 std 0.17935430128 mean 0.0116408505663\n",
        "D:\\Data\\NDVI_anomalySVInormalized//NDVI_2002025.tif\n",
        "\n",
        "max"
       ]
      },
      {
       "output_type": "stream",
       "stream": "stdout",
       "text": [
        " 0.9 min -0.8571 std 0.176848913546 mean 0.011178791394\n",
        "D:\\Data\\NDVI_anomalySVInormalized//NDVI_2002033.tif\n",
        "\n",
        "max"
       ]
      },
      {
       "output_type": "stream",
       "stream": "stdout",
       "text": [
        " 0.9 min -0.857003 std 0.172576666152 mean 0.0106314268353\n",
        "D:\\Data\\NDVI_anomalySVInormalized//NDVI_2002041.tif\n",
        "\n",
        "max"
       ]
      },
      {
       "output_type": "stream",
       "stream": "stdout",
       "text": [
        " 0.9 min -0.852934 std 0.166890742506 mean 0.0100201326535\n",
        "D:\\Data\\NDVI_anomalySVInormalized//NDVI_2002049.tif\n",
        "\n",
        "max"
       ]
      },
      {
       "output_type": "stream",
       "stream": "stdout",
       "text": [
        " 0.9 min -0.84483 std 0.160301401795 mean 0.00928210954146\n",
        "D:\\Data\\NDVI_anomalySVInormalized//NDVI_2002057.tif\n",
        "\n",
        "max"
       ]
      },
      {
       "output_type": "stream",
       "stream": "stdout",
       "text": [
        " 0.9 min -0.843694 std 0.153999824105 mean 0.00829790107557\n",
        "D:\\Data\\NDVI_anomalySVInormalized//NDVI_2002065.tif\n",
        "\n",
        "max"
       ]
      },
      {
       "output_type": "stream",
       "stream": "stdout",
       "text": [
        " 0.9 min -0.801892 std 0.148938998517 mean 0.00695703996303\n",
        "D:\\Data\\NDVI_anomalySVInormalized//NDVI_2002073.tif\n",
        "\n",
        "max"
       ]
      },
      {
       "output_type": "stream",
       "stream": "stdout",
       "text": [
        " 0.9 min -0.821289 std 0.145518157507 mean 0.00520079246516\n",
        "D:\\Data\\NDVI_anomalySVInormalized//NDVI_2002081.tif\n",
        "\n",
        "max"
       ]
      },
      {
       "output_type": "stream",
       "stream": "stdout",
       "text": [
        " 0.9 min -0.812516 std 0.143564256207 mean 0.00306408775931\n",
        "D:\\Data\\NDVI_anomalySVInormalized//NDVI_2002089.tif\n",
        "\n",
        "max"
       ]
      },
      {
       "output_type": "stream",
       "stream": "stdout",
       "text": [
        " 0.9 min -0.754874 std 0.142505766149 mean 0.000696722055135\n",
        "D:\\Data\\NDVI_anomalySVInormalized//NDVI_2002097.tif\n",
        "\n",
        "max"
       ]
      },
      {
       "output_type": "stream",
       "stream": "stdout",
       "text": [
        " 0.9 min -0.771017 std 0.141873441037 mean -0.0016382767191\n",
        "D:\\Data\\NDVI_anomalySVInormalized//NDVI_2002105.tif\n",
        "\n",
        "max"
       ]
      },
      {
       "output_type": "stream",
       "stream": "stdout",
       "text": [
        " 0.9 min -0.813453 std 0.141585373133 mean -0.00361941750801\n",
        "D:\\Data\\NDVI_anomalySVInormalized//NDVI_2002113.tif\n",
        "\n",
        "max"
       ]
      },
      {
       "output_type": "stream",
       "stream": "stdout",
       "text": [
        " 0.9 min -0.803468 std 0.142025053229 mean -0.00490906875651\n",
        "D:\\Data\\NDVI_anomalySVInormalized//NDVI_2002121.tif\n",
        "\n",
        "max"
       ]
      },
      {
       "output_type": "stream",
       "stream": "stdout",
       "text": [
        " 0.9 min -0.788519 std 0.143777802527 mean -0.00522516851905\n",
        "D:\\Data\\NDVI_anomalySVInormalized//NDVI_2002129.tif\n",
        "\n",
        "max"
       ]
      },
      {
       "output_type": "stream",
       "stream": "stdout",
       "text": [
        " 0.9 min -0.797408 std 0.147197872442 mean -0.00440629129466\n",
        "D:\\Data\\NDVI_anomalySVInormalized//NDVI_2002137.tif\n",
        "\n",
        "max"
       ]
      },
      {
       "output_type": "stream",
       "stream": "stdout",
       "text": [
        " 0.9 min -0.804776 std 0.15208392488 mean -0.00246721198932\n",
        "D:\\Data\\NDVI_anomalySVInormalized//NDVI_2002145.tif\n",
        "\n",
        "max"
       ]
      },
      {
       "output_type": "stream",
       "stream": "stdout",
       "text": [
        " 0.9 min -0.810378 std 0.157749745673 mean 0.000374339748533\n",
        "D:\\Data\\NDVI_anomalySVInormalized//NDVI_2002153.tif\n",
        "\n",
        "max"
       ]
      },
      {
       "output_type": "stream",
       "stream": "stdout",
       "text": [
        " 0.9 min -0.806466 std 0.163206860377 mean 0.00370290309106\n",
        "D:\\Data\\NDVI_anomalySVInormalized//NDVI_2002161.tif\n",
        "\n",
        "max"
       ]
      },
      {
       "output_type": "stream",
       "stream": "stdout",
       "text": [
        " 0.9 min -0.833689 std 0.167473929716 mean 0.00694735891915\n",
        "D:\\Data\\NDVI_anomalySVInormalized//NDVI_2002169.tif\n",
        "\n",
        "max"
       ]
      },
      {
       "output_type": "stream",
       "stream": "stdout",
       "text": [
        " 0.9 min -0.827123 std 0.170012258928 mean 0.00944663183878\n",
        "D:\\Data\\NDVI_anomalySVInormalized//NDVI_2002177.tif\n",
        "\n",
        "max"
       ]
      },
      {
       "output_type": "stream",
       "stream": "stdout",
       "text": [
        " 0.9 min -0.824843 std 0.170753908176 mean 0.0105460297826\n",
        "D:\\Data\\NDVI_anomalySVInormalized//NDVI_2002185.tif\n",
        "\n",
        "max"
       ]
      },
      {
       "output_type": "stream",
       "stream": "stdout",
       "text": [
        " 0.9 min -0.814248 std 0.169865383489 mean 0.00969240604577\n",
        "D:\\Data\\NDVI_anomalySVInormalized//NDVI_2002193.tif\n",
        "\n",
        "max"
       ]
      },
      {
       "output_type": "stream",
       "stream": "stdout",
       "text": [
        " 0.9 min -0.816445 std 0.16774056758 mean 0.00652745938947\n",
        "D:\\Data\\NDVI_anomalySVInormalized//NDVI_2002201.tif\n",
        "\n",
        "max"
       ]
      },
      {
       "output_type": "stream",
       "stream": "stdout",
       "text": [
        " 0.9 min -0.821225 std 0.164755190831 mean 0.000958924622303\n",
        "D:\\Data\\NDVI_anomalySVInormalized//NDVI_2002209.tif\n",
        "\n",
        "max"
       ]
      },
      {
       "output_type": "stream",
       "stream": "stdout",
       "text": [
        " 0.9 min -0.839535 std 0.1613438844 mean -0.00681089951895\n",
        "D:\\Data\\NDVI_anomalySVInormalized//NDVI_2002217.tif\n",
        "\n",
        "max"
       ]
      },
      {
       "output_type": "stream",
       "stream": "stdout",
       "text": [
        " 0.9 min -0.825005 std 0.157989702241 mean -0.0162747012246\n",
        "D:\\Data\\NDVI_anomalySVInormalized//NDVI_2002225.tif\n",
        "\n",
        "max"
       ]
      },
      {
       "output_type": "stream",
       "stream": "stdout",
       "text": [
        " 0.9 min -0.818542 std 0.155122609506 mean -0.0266917475965\n",
        "D:\\Data\\NDVI_anomalySVInormalized//NDVI_2002233.tif\n",
        "\n",
        "max"
       ]
      },
      {
       "output_type": "stream",
       "stream": "stdout",
       "text": [
        " 0.9 min -0.817362 std 0.15292047674 mean -0.0371445399157\n",
        "D:\\Data\\NDVI_anomalySVInormalized//NDVI_2002241.tif\n",
        "\n",
        "max"
       ]
      },
      {
       "output_type": "stream",
       "stream": "stdout",
       "text": [
        " 0.9 min -0.81537 std 0.151380360897 mean -0.0466738738406\n",
        "D:\\Data\\NDVI_anomalySVInormalized//NDVI_2002249.tif\n",
        "\n",
        "max"
       ]
      },
      {
       "output_type": "stream",
       "stream": "stdout",
       "text": [
        " 0.9 min -0.814789 std 0.150236716896 mean -0.0543666893098\n",
        "D:\\Data\\NDVI_anomalySVInormalized//NDVI_2002257.tif\n",
        "\n",
        "max"
       ]
      },
      {
       "output_type": "stream",
       "stream": "stdout",
       "text": [
        " 0.9 min -0.8235 std 0.149086137691 mean -0.0595011697219\n",
        "D:\\Data\\NDVI_anomalySVInormalized//NDVI_2002265.tif\n",
        "\n",
        "max"
       ]
      },
      {
       "output_type": "stream",
       "stream": "stdout",
       "text": [
        " 0.9 min -0.824248 std 0.147584880971 mean -0.0616045048246\n",
        "D:\\Data\\NDVI_anomalySVInormalized//NDVI_2002273.tif\n",
        "\n",
        "max"
       ]
      },
      {
       "output_type": "stream",
       "stream": "stdout",
       "text": [
        " 0.9 min -0.835671 std 0.145728221342 mean -0.0605305596149\n",
        "D:\\Data\\NDVI_anomalySVInormalized//NDVI_2002281.tif\n",
        "\n",
        "max"
       ]
      },
      {
       "output_type": "stream",
       "stream": "stdout",
       "text": [
        " 0.9 min -0.85191 std 0.143960131702 mean -0.0564474287109\n",
        "D:\\Data\\NDVI_anomalySVInormalized//NDVI_2002289.tif\n",
        "\n",
        "max"
       ]
      },
      {
       "output_type": "stream",
       "stream": "stdout",
       "text": [
        " 0.9 min -0.862712 std 0.143086864576 mean -0.0498256155011\n",
        "D:\\Data\\NDVI_anomalySVInormalized//NDVI_2002297.tif\n",
        "\n",
        "max"
       ]
      },
      {
       "output_type": "stream",
       "stream": "stdout",
       "text": [
        " 0.9 min -0.853801 std 0.143930476144 mean -0.0413583607438\n",
        "D:\\Data\\NDVI_anomalySVInormalized//NDVI_2002305.tif\n",
        "\n",
        "max"
       ]
      },
      {
       "output_type": "stream",
       "stream": "stdout",
       "text": [
        " 0.9 min -0.859754 std 0.146912612101 mean -0.031855577329\n",
        "D:\\Data\\NDVI_anomalySVInormalized//NDVI_2002313.tif\n",
        "\n",
        "max"
       ]
      },
      {
       "output_type": "stream",
       "stream": "stdout",
       "text": [
        " 0.9 min -0.835093 std 0.151787528297 mean -0.022157922062\n",
        "D:\\Data\\NDVI_anomalySVInormalized//NDVI_2002321.tif\n",
        "\n",
        "max"
       ]
      },
      {
       "output_type": "stream",
       "stream": "stdout",
       "text": [
        " 0.9 min -0.827562 std 0.157745485461 mean -0.0130320406024\n",
        "D:\\Data\\NDVI_anomalySVInormalized//NDVI_2002329.tif\n",
        "\n",
        "max"
       ]
      },
      {
       "output_type": "stream",
       "stream": "stdout",
       "text": [
        " 0.9 min -0.811551 std 0.163801967921 mean -0.00506259507286\n",
        "D:\\Data\\NDVI_anomalySVInormalized//NDVI_2002337.tif\n",
        "\n",
        "max"
       ]
      },
      {
       "output_type": "stream",
       "stream": "stdout",
       "text": [
        " 0.9 min -0.826076 std 0.169114378623 mean 0.00137314225772\n",
        "D:\\Data\\NDVI_anomalySVInormalized//NDVI_2002345.tif\n",
        "\n",
        "max"
       ]
      },
      {
       "output_type": "stream",
       "stream": "stdout",
       "text": [
        " 0.9 min -0.840521 std 0.173316305993 mean 0.0061290284948\n",
        "D:\\Data\\NDVI_anomalySVInormalized//NDVI_2002353.tif\n",
        "\n",
        "max"
       ]
      },
      {
       "output_type": "stream",
       "stream": "stdout",
       "text": [
        " 0.9 min -0.824526 std 0.176463720025 mean 0.00927566760957\n",
        "D:\\Data\\NDVI_anomalySVInormalized//NDVI_2002361.tif\n",
        "\n",
        "max"
       ]
      },
      {
       "output_type": "stream",
       "stream": "stdout",
       "text": [
        " 0.9 min -0.818225 std 0.174436193377 mean 0.00674459818566\n",
        "D:\\Data\\NDVI_anomalySVInormalized//NDVI_2003001.tif\n",
        "\n",
        "max"
       ]
      },
      {
       "output_type": "stream",
       "stream": "stdout",
       "text": [
        " 0.9 min -0.804754 std 0.180000015259 mean 0.00799111542668\n",
        "D:\\Data\\NDVI_anomalySVInormalized//NDVI_2003009.tif\n",
        "\n",
        "max"
       ]
      },
      {
       "output_type": "stream",
       "stream": "stdout",
       "text": [
        " 0.9 min -0.82491 std 0.183850917527 mean 0.00881748673422\n",
        "D:\\Data\\NDVI_anomalySVInormalized//NDVI_2003017.tif\n",
        "\n",
        "max"
       ]
      },
      {
       "output_type": "stream",
       "stream": "stdout",
       "text": [
        " 0.9 min -0.823356 std 0.185003553729 mean 0.00903075714014\n",
        "D:\\Data\\NDVI_anomalySVInormalized//NDVI_2003025.tif\n",
        "\n",
        "max"
       ]
      },
      {
       "output_type": "stream",
       "stream": "stdout",
       "text": [
        " 0.9 min -0.831504 std 0.182848456119 mean 0.0085647710134\n",
        "D:\\Data\\NDVI_anomalySVInormalized//NDVI_2003033.tif\n",
        "\n",
        "max"
       ]
      },
      {
       "output_type": "stream",
       "stream": "stdout",
       "text": [
        " 0.9 min -0.8484 std 0.177508694867 mean 0.0074802026285\n",
        "D:\\Data\\NDVI_anomalySVInormalized//NDVI_2003041.tif\n",
        "\n",
        "max"
       ]
      },
      {
       "output_type": "stream",
       "stream": "stdout",
       "text": [
        " 0.9 min -0.869424 std 0.16982491481 mean 0.00595090823832\n",
        "D:\\Data\\NDVI_anomalySVInormalized//NDVI_2003049.tif\n",
        "\n",
        "max"
       ]
      },
      {
       "output_type": "stream",
       "stream": "stdout",
       "text": [
        " 0.9 min -0.847169 std 0.160712832939 mean 0.00422801664162\n",
        "D:\\Data\\NDVI_anomalySVInormalized//NDVI_2003057.tif\n",
        "\n",
        "max"
       ]
      },
      {
       "output_type": "stream",
       "stream": "stdout",
       "text": [
        " 0.9 min -0.827718 std 0.15156287921 mean 0.00258663074989\n",
        "D:\\Data\\NDVI_anomalySVInormalized//NDVI_2003065.tif\n",
        "\n",
        "max"
       ]
      },
      {
       "output_type": "stream",
       "stream": "stdout",
       "text": [
        " 0.9 min -0.804149 std 0.143749622986 mean 0.00127935085015\n",
        "D:\\Data\\NDVI_anomalySVInormalized//NDVI_2003073.tif\n",
        "\n",
        "max"
       ]
      },
      {
       "output_type": "stream",
       "stream": "stdout",
       "text": [
        " 0.9 min -0.801493 std 0.137909747634 mean 0.000492672016673\n",
        "D:\\Data\\NDVI_anomalySVInormalized//NDVI_2003081.tif\n",
        "\n",
        "max"
       ]
      },
      {
       "output_type": "stream",
       "stream": "stdout",
       "text": [
        " 0.9 min -0.771994 std 0.134193880517 mean 0.000318714887329\n",
        "D:\\Data\\NDVI_anomalySVInormalized//NDVI_2003089.tif\n",
        "\n",
        "max"
       ]
      },
      {
       "output_type": "stream",
       "stream": "stdout",
       "text": [
        " 0.9 min -0.779169 std 0.132524639728 mean 0.000742769461631\n",
        "D:\\Data\\NDVI_anomalySVInormalized//NDVI_2003097.tif\n",
        "\n",
        "max"
       ]
      },
      {
       "output_type": "stream",
       "stream": "stdout",
       "text": [
        " 0.9 min -0.765241 std 0.132845903755 mean 0.00165585863978\n",
        "D:\\Data\\NDVI_anomalySVInormalized//NDVI_2003105.tif\n",
        "\n",
        "max"
       ]
      },
      {
       "output_type": "stream",
       "stream": "stdout",
       "text": [
        " 0.9 min -0.797103 std 0.135177442641 mean 0.00288153455119\n",
        "D:\\Data\\NDVI_anomalySVInormalized//NDVI_2003113.tif\n",
        "\n",
        "max"
       ]
      },
      {
       "output_type": "stream",
       "stream": "stdout",
       "text": [
        " 0.9 min -0.823465 std 0.13940463804 mean 0.00420973358641\n",
        "D:\\Data\\NDVI_anomalySVInormalized//NDVI_2003121.tif\n",
        "\n",
        "max"
       ]
      },
      {
       "output_type": "stream",
       "stream": "stdout",
       "text": [
        " 0.9 min -0.811153 std 0.145142683392 mean 0.00544842114277\n",
        "D:\\Data\\NDVI_anomalySVInormalized//NDVI_2003129.tif\n",
        "\n",
        "max"
       ]
      },
      {
       "output_type": "stream",
       "stream": "stdout",
       "text": [
        " 0.9 min -0.804024 std 0.151650070285 mean 0.0064606312059\n",
        "D:\\Data\\NDVI_anomalySVInormalized//NDVI_2003137.tif\n",
        "\n",
        "max"
       ]
      },
      {
       "output_type": "stream",
       "stream": "stdout",
       "text": [
        " 0.9 min -0.818486 std 0.15799622504 mean 0.00719634378312\n",
        "D:\\Data\\NDVI_anomalySVInormalized//NDVI_2003145.tif\n",
        "\n",
        "max"
       ]
      },
      {
       "output_type": "stream",
       "stream": "stdout",
       "text": [
        " 0.9 min -0.823338 std 0.163286132109 mean 0.00770078038159\n",
        "D:\\Data\\NDVI_anomalySVInormalized//NDVI_2003153.tif\n",
        "\n",
        "max"
       ]
      },
      {
       "output_type": "stream",
       "stream": "stdout",
       "text": [
        " 0.9 min -0.823527 std 0.166942350374 mean 0.00811831741138\n",
        "D:\\Data\\NDVI_anomalySVInormalized//NDVI_2003161.tif\n",
        "\n",
        "max"
       ]
      },
      {
       "output_type": "stream",
       "stream": "stdout",
       "text": [
        " 0.9 min -0.818205 std 0.168771518048 mean 0.00865321584127\n",
        "D:\\Data\\NDVI_anomalySVInormalized//NDVI_2003169.tif\n",
        "\n",
        "max"
       ]
      },
      {
       "output_type": "stream",
       "stream": "stdout",
       "text": [
        " 0.9 min -0.810187 std 0.16902237558 mean 0.00954208435019\n",
        "D:\\Data\\NDVI_anomalySVInormalized//NDVI_2003177.tif\n",
        "\n",
        "max"
       ]
      },
      {
       "output_type": "stream",
       "stream": "stdout",
       "text": [
        " 0.9 min -0.813118 std 0.167976323617 mean 0.0109904849627\n",
        "D:\\Data\\NDVI_anomalySVInormalized//NDVI_2003185.tif\n",
        "\n",
        "max"
       ]
      },
      {
       "output_type": "stream",
       "stream": "stdout",
       "text": [
        " 0.9 min -0.837366 std 0.165961125456 mean 0.0131331280226\n",
        "D:\\Data\\NDVI_anomalySVInormalized//NDVI_2003193.tif\n",
        "\n",
        "max"
       ]
      },
      {
       "output_type": "stream",
       "stream": "stdout",
       "text": [
        " 0.9 min -0.852725 std 0.163165471128 mean 0.0160085290761\n",
        "D:\\Data\\NDVI_anomalySVInormalized//NDVI_2003201.tif\n",
        "\n",
        "max"
       ]
      },
      {
       "output_type": "stream",
       "stream": "stdout",
       "text": [
        " 0.9 min -0.841855 std 0.15989289371 mean 0.0195136375057\n",
        "D:\\Data\\NDVI_anomalySVInormalized//NDVI_2003209.tif\n",
        "\n",
        "max"
       ]
      },
      {
       "output_type": "stream",
       "stream": "stdout",
       "text": [
        " 0.9 min -0.830617 std 0.156421755498 mean 0.0234170868543\n",
        "D:\\Data\\NDVI_anomalySVInormalized//NDVI_2003217.tif\n",
        "\n",
        "max"
       ]
      },
      {
       "output_type": "stream",
       "stream": "stdout",
       "text": [
        " 0.9 min -0.839877 std 0.152956989747 mean 0.0273924963886\n",
        "D:\\Data\\NDVI_anomalySVInormalized//NDVI_2003225.tif\n",
        "\n",
        "max"
       ]
      },
      {
       "output_type": "stream",
       "stream": "stdout",
       "text": [
        " 0.9 min -0.851672 std 0.149720941134 mean 0.0310234693976\n",
        "D:\\Data\\NDVI_anomalySVInormalized//NDVI_2003233.tif\n",
        "\n",
        "max"
       ]
      },
      {
       "output_type": "stream",
       "stream": "stdout",
       "text": [
        " 0.9 min -0.845803 std 0.146749454435 mean 0.0339072551238\n",
        "D:\\Data\\NDVI_anomalySVInormalized//NDVI_2003241.tif\n",
        "\n",
        "max"
       ]
      },
      {
       "output_type": "stream",
       "stream": "stdout",
       "text": [
        " 0.9 min -0.84631 std 0.143876316271 mean 0.0356892506799\n",
        "D:\\Data\\NDVI_anomalySVInormalized//NDVI_2003249.tif\n",
        "\n",
        "max"
       ]
      },
      {
       "output_type": "stream",
       "stream": "stdout",
       "text": [
        " 0.9 min -0.816318 std 0.140855495135 mean 0.0360989032906\n",
        "D:\\Data\\NDVI_anomalySVInormalized//NDVI_2003257.tif\n",
        "\n",
        "max"
       ]
      },
      {
       "output_type": "stream",
       "stream": "stdout",
       "text": [
        " 0.9 min -0.797863 std 0.13756391347 mean 0.0350312094976\n",
        "D:\\Data\\NDVI_anomalySVInormalized//NDVI_2003265.tif\n",
        "\n",
        "max"
       ]
      },
      {
       "output_type": "stream",
       "stream": "stdout",
       "text": [
        " 0.9 min -0.781713 std 0.134177750526 mean 0.032548098143\n",
        "D:\\Data\\NDVI_anomalySVInormalized//NDVI_2003273.tif\n",
        "\n",
        "max"
       ]
      },
      {
       "output_type": "stream",
       "stream": "stdout",
       "text": [
        " 0.9 min -0.770509 std 0.131284596276 mean 0.0288662253801\n",
        "D:\\Data\\NDVI_anomalySVInormalized//NDVI_2003281.tif\n",
        "\n",
        "max"
       ]
      },
      {
       "output_type": "stream",
       "stream": "stdout",
       "text": [
        " 0.9 min -0.756656 std 0.129695352726 mean 0.0243598446453\n",
        "D:\\Data\\NDVI_anomalySVInormalized//NDVI_2003289.tif\n",
        "\n",
        "max"
       ]
      },
      {
       "output_type": "stream",
       "stream": "stdout",
       "text": [
        " 0.9 min -0.753933 std 0.130101824224 mean 0.0194742190764\n",
        "D:\\Data\\NDVI_anomalySVInormalized//NDVI_2003297.tif\n",
        "\n",
        "max"
       ]
      },
      {
       "output_type": "stream",
       "stream": "stdout",
       "text": [
        " 0.9 min -0.788196 std 0.132663884554 mean 0.0146907375344\n",
        "D:\\Data\\NDVI_anomalySVInormalized//NDVI_2003305.tif\n",
        "\n",
        "max"
       ]
      },
      {
       "output_type": "stream",
       "stream": "stdout",
       "text": [
        " 0.9 min -0.811705 std 0.13689608483 mean 0.0104566618356\n",
        "D:\\Data\\NDVI_anomalySVInormalized//NDVI_2003313.tif\n",
        "\n",
        "max"
       ]
      },
      {
       "output_type": "stream",
       "stream": "stdout",
       "text": [
        " 0.9 min -0.805592 std 0.142093474003 mean 0.0071230048552\n",
        "D:\\Data\\NDVI_anomalySVInormalized//NDVI_2003321.tif\n",
        "\n",
        "max"
       ]
      },
      {
       "output_type": "stream",
       "stream": "stdout",
       "text": [
        " 0.9 min -0.765376 std 0.14759673317 mean 0.00490157430095\n",
        "D:\\Data\\NDVI_anomalySVInormalized//NDVI_2003329.tif\n",
        "\n",
        "max"
       ]
      },
      {
       "output_type": "stream",
       "stream": "stdout",
       "text": [
        " 0.9 min -0.789802 std 0.153074542438 mean 0.00384104409656\n",
        "D:\\Data\\NDVI_anomalySVInormalized//NDVI_2003337.tif\n",
        "\n",
        "max"
       ]
      },
      {
       "output_type": "stream",
       "stream": "stdout",
       "text": [
        " 0.9 min -0.783916 std 0.158603535666 mean 0.00383021916929\n",
        "D:\\Data\\NDVI_anomalySVInormalized//NDVI_2003345.tif\n",
        "\n",
        "max"
       ]
      },
      {
       "output_type": "stream",
       "stream": "stdout",
       "text": [
        " 0.9 min -0.801286 std 0.164546030375 mean 0.00462338587294\n",
        "D:\\Data\\NDVI_anomalySVInormalized//NDVI_2003353.tif\n",
        "\n",
        "max"
       ]
      },
      {
       "output_type": "stream",
       "stream": "stdout",
       "text": [
        " 0.9 min -0.81503 std 0.170594576941 mean 0.00588378344649\n",
        "D:\\Data\\NDVI_anomalySVInormalized//NDVI_2003361.tif\n",
        "\n",
        "max"
       ]
      },
      {
       "output_type": "stream",
       "stream": "stdout",
       "text": [
        " 0.9 min -0.82553 std 0.180357589119 mean 0.0358642136007\n",
        "D:\\Data\\NDVI_anomalySVInormalized//NDVI_2004001.tif\n",
        "\n",
        "max"
       ]
      },
      {
       "output_type": "stream",
       "stream": "stdout",
       "text": [
        " 0.9 min -0.816725 std 0.185132524893 mean 0.0308478791088\n",
        "D:\\Data\\NDVI_anomalySVInormalized//NDVI_2004009.tif\n",
        "\n",
        "max"
       ]
      },
      {
       "output_type": "stream",
       "stream": "stdout",
       "text": [
        " 0.9 min -0.815273 std 0.187026874537 mean 0.0250310410215\n",
        "D:\\Data\\NDVI_anomalySVInormalized//NDVI_2004017.tif\n",
        "\n",
        "max"
       ]
      },
      {
       "output_type": "stream",
       "stream": "stdout",
       "text": [
        " 0.9 min -0.803055 std 0.185523675016 mean 0.0193174014792\n",
        "D:\\Data\\NDVI_anomalySVInormalized//NDVI_2004025.tif\n",
        "\n",
        "max"
       ]
      },
      {
       "output_type": "stream",
       "stream": "stdout",
       "text": [
        " 0.9 min -0.78433 std 0.180902391251 mean 0.0145696687627\n",
        "D:\\Data\\NDVI_anomalySVInormalized//NDVI_2004033.tif\n",
        "\n",
        "max"
       ]
      },
      {
       "output_type": "stream",
       "stream": "stdout",
       "text": [
        " 0.9 min -0.79796 std 0.174097386459 mean 0.0114710924871\n",
        "D:\\Data\\NDVI_anomalySVInormalized//NDVI_2004041.tif\n",
        "\n",
        "max"
       ]
      },
      {
       "output_type": "stream",
       "stream": "stdout",
       "text": [
        " 0.9 min -0.817549 std 0.166340991046 mean 0.0104116863041\n",
        "D:\\Data\\NDVI_anomalySVInormalized//NDVI_2004049.tif\n",
        "\n",
        "max"
       ]
      },
      {
       "output_type": "stream",
       "stream": "stdout",
       "text": [
        " 0.9 min -0.815606 std 0.158491321202 mean 0.011427634254\n",
        "D:\\Data\\NDVI_anomalySVInormalized//NDVI_2004057.tif\n",
        "\n",
        "max"
       ]
      },
      {
       "output_type": "stream",
       "stream": "stdout",
       "text": [
        " 0.9 min -0.796827 std 0.151607303929 mean 0.0142071607623\n",
        "D:\\Data\\NDVI_anomalySVInormalized//NDVI_2004065.tif\n",
        "\n",
        "max"
       ]
      },
      {
       "output_type": "stream",
       "stream": "stdout",
       "text": [
        " 0.9 min -0.768932 std 0.145980980977 mean 0.0181364532182\n",
        "D:\\Data\\NDVI_anomalySVInormalized//NDVI_2004073.tif\n",
        "\n",
        "max"
       ]
      },
      {
       "output_type": "stream",
       "stream": "stdout",
       "text": [
        " 0.9 min -0.779942 std 0.141293774831 mean 0.0224161577279\n",
        "D:\\Data\\NDVI_anomalySVInormalized//NDVI_2004081.tif\n",
        "\n",
        "max"
       ]
      },
      {
       "output_type": "stream",
       "stream": "stdout",
       "text": [
        " 0.9 min -0.777973 std 0.137124994019 mean 0.0262082597547\n",
        "D:\\Data\\NDVI_anomalySVInormalized//NDVI_2004089.tif\n",
        "\n",
        "max"
       ]
      },
      {
       "output_type": "stream",
       "stream": "stdout",
       "text": [
        " 0.9 min -0.777122 std 0.133269529227 mean 0.028764871328\n",
        "D:\\Data\\NDVI_anomalySVInormalized//NDVI_2004097.tif\n",
        "\n",
        "max"
       ]
      },
      {
       "output_type": "stream",
       "stream": "stdout",
       "text": [
        " 0.9 min -0.780363 std 0.129908682782 mean 0.0295610577206\n",
        "D:\\Data\\NDVI_anomalySVInormalized//NDVI_2004105.tif\n",
        "\n",
        "max"
       ]
      },
      {
       "output_type": "stream",
       "stream": "stdout",
       "text": [
        " 0.9 min -0.776341 std 0.127568928113 mean 0.0283857107097\n",
        "D:\\Data\\NDVI_anomalySVInormalized//NDVI_2004113.tif\n",
        "\n",
        "max"
       ]
      },
      {
       "output_type": "stream",
       "stream": "stdout",
       "text": [
        " 0.9 min -0.783472 std 0.126743744455 mean 0.0253888722788\n",
        "D:\\Data\\NDVI_anomalySVInormalized//NDVI_2004121.tif\n",
        "\n",
        "max"
       ]
      },
      {
       "output_type": "stream",
       "stream": "stdout",
       "text": [
        " 0.9 min -0.789453 std 0.127663948557 mean 0.0210315294479\n",
        "D:\\Data\\NDVI_anomalySVInormalized//NDVI_2004129.tif\n",
        "\n",
        "max"
       ]
      },
      {
       "output_type": "stream",
       "stream": "stdout",
       "text": [
        " 0.9 min -0.789393 std 0.130141037755 mean 0.0160296568888\n",
        "D:\\Data\\NDVI_anomalySVInormalized//NDVI_2004137.tif\n",
        "\n",
        "max"
       ]
      },
      {
       "output_type": "stream",
       "stream": "stdout",
       "text": [
        " 0.9 min -0.796715 std 0.133681344818 mean 0.0112181250145\n",
        "D:\\Data\\NDVI_anomalySVInormalized//NDVI_2004145.tif\n",
        "\n",
        "max"
       ]
      },
      {
       "output_type": "stream",
       "stream": "stdout",
       "text": [
        " 0.9 min -0.817844 std 0.137714637863 mean 0.00740670660815\n",
        "D:\\Data\\NDVI_anomalySVInormalized//NDVI_2004153.tif\n",
        "\n",
        "max"
       ]
      },
      {
       "output_type": "stream",
       "stream": "stdout",
       "text": [
        " 0.9 min -0.839362 std 0.141753939728 mean 0.00524661590246\n",
        "D:\\Data\\NDVI_anomalySVInormalized//NDVI_2004161.tif\n",
        "\n",
        "max"
       ]
      },
      {
       "output_type": "stream",
       "stream": "stdout",
       "text": [
        " 0.9 min -0.841632 std 0.145368637237 mean 0.00511769410561\n",
        "D:\\Data\\NDVI_anomalySVInormalized//NDVI_2004169.tif\n",
        "\n",
        "max"
       ]
      },
      {
       "output_type": "stream",
       "stream": "stdout",
       "text": [
        " 0.9 min -0.832704 std 0.148210542774 mean 0.00705840261681\n",
        "D:\\Data\\NDVI_anomalySVInormalized//NDVI_2004177.tif\n",
        "\n",
        "max"
       ]
      },
      {
       "output_type": "stream",
       "stream": "stdout",
       "text": [
        " 0.9 min -0.836501 std 0.150007765892 mean 0.0107612563875\n",
        "D:\\Data\\NDVI_anomalySVInormalized//NDVI_2004185.tif\n",
        "\n",
        "max"
       ]
      },
      {
       "output_type": "stream",
       "stream": "stdout",
       "text": [
        " 0.9 min -0.830943 std 0.150554425174 mean 0.0156231617543\n",
        "D:\\Data\\NDVI_anomalySVInormalized//NDVI_2004193.tif\n",
        "\n",
        "max"
       ]
      },
      {
       "output_type": "stream",
       "stream": "stdout",
       "text": [
        " 0.9 min -0.841247 std 0.149817511012 mean 0.0208406369609\n",
        "D:\\Data\\NDVI_anomalySVInormalized//NDVI_2004201.tif\n",
        "\n",
        "max"
       ]
      },
      {
       "output_type": "stream",
       "stream": "stdout",
       "text": [
        " 0.9 min -0.859125 std 0.147929931774 mean 0.0255577474509\n",
        "D:\\Data\\NDVI_anomalySVInormalized//NDVI_2004209.tif\n",
        "\n",
        "max"
       ]
      },
      {
       "output_type": "stream",
       "stream": "stdout",
       "text": [
        " 0.9 min -0.836845 std 0.145248919481 mean 0.0290016460094\n",
        "D:\\Data\\NDVI_anomalySVInormalized//NDVI_2004217.tif\n",
        "\n",
        "max"
       ]
      },
      {
       "output_type": "stream",
       "stream": "stdout",
       "text": [
        " 0.9 min -0.836793 std 0.142220195769 mean 0.0306027203451\n",
        "D:\\Data\\NDVI_anomalySVInormalized//NDVI_2004225.tif\n",
        "\n",
        "max"
       ]
      },
      {
       "output_type": "stream",
       "stream": "stdout",
       "text": [
        " 0.9 min -0.837384 std 0.139221984926 mean 0.0301341870621\n",
        "D:\\Data\\NDVI_anomalySVInormalized//NDVI_2004233.tif\n",
        "\n",
        "max"
       ]
      },
      {
       "output_type": "stream",
       "stream": "stdout",
       "text": [
        " 0.9 min -0.80159 std 0.13648686597 mean 0.0277062672558\n",
        "D:\\Data\\NDVI_anomalySVInormalized//NDVI_2004241.tif\n",
        "\n",
        "max"
       ]
      },
      {
       "output_type": "stream",
       "stream": "stdout",
       "text": [
        " 0.9 min -0.772085 std 0.134104595756 mean 0.0237732492665\n",
        "D:\\Data\\NDVI_anomalySVInormalized//NDVI_2004249.tif\n",
        "\n",
        "max"
       ]
      },
      {
       "output_type": "stream",
       "stream": "stdout",
       "text": [
        " 0.9 min -0.777941 std 0.132157584855 mean 0.0190582259876\n",
        "D:\\Data\\NDVI_anomalySVInormalized//NDVI_2004257.tif\n",
        "\n",
        "max"
       ]
      },
      {
       "output_type": "stream",
       "stream": "stdout",
       "text": [
        " 0.9 min -0.761591 std 0.130776039577 mean 0.0144328825388\n",
        "D:\\Data\\NDVI_anomalySVInormalized//NDVI_2004265.tif\n",
        "\n",
        "max"
       ]
      },
      {
       "output_type": "stream",
       "stream": "stdout",
       "text": [
        " 0.9 min -0.802086 std 0.130226429977 mean 0.010754028669\n",
        "D:\\Data\\NDVI_anomalySVInormalized//NDVI_2004273.tif\n",
        "\n",
        "max"
       ]
      },
      {
       "output_type": "stream",
       "stream": "stdout",
       "text": [
        " 0.9 min -0.805871 std 0.130772907302 mean 0.00874439391596\n",
        "D:\\Data\\NDVI_anomalySVInormalized//NDVI_2004281.tif\n",
        "\n",
        "max"
       ]
      },
      {
       "output_type": "stream",
       "stream": "stdout",
       "text": [
        " 0.9 min -0.792371 std 0.132487095903 mean 0.00885409592854\n",
        "D:\\Data\\NDVI_anomalySVInormalized//NDVI_2004289.tif\n",
        "\n",
        "max"
       ]
      },
      {
       "output_type": "stream",
       "stream": "stdout",
       "text": [
        " 0.9 min -0.8027 std 0.135222856767 mean 0.011185139447\n",
        "D:\\Data\\NDVI_anomalySVInormalized//NDVI_2004297.tif\n",
        "\n",
        "max"
       ]
      },
      {
       "output_type": "stream",
       "stream": "stdout",
       "text": [
        " 0.9 min -0.814765 std 0.13856740495 mean 0.0154719476812\n",
        "D:\\Data\\NDVI_anomalySVInormalized//NDVI_2004305.tif\n",
        "\n",
        "max"
       ]
      },
      {
       "output_type": "stream",
       "stream": "stdout",
       "text": [
        " 0.9 min -0.82962 std 0.14216901059 mean 0.0211133308187\n",
        "D:\\Data\\NDVI_anomalySVInormalized//NDVI_2004313.tif\n",
        "\n",
        "max"
       ]
      },
      {
       "output_type": "stream",
       "stream": "stdout",
       "text": [
        " 0.9 min -0.811457 std 0.145969465304 mean 0.0272900579244\n",
        "D:\\Data\\NDVI_anomalySVInormalized//NDVI_2004321.tif\n",
        "\n",
        "max"
       ]
      },
      {
       "output_type": "stream",
       "stream": "stdout",
       "text": [
        " 0.9 min -0.814434 std 0.150250208541 mean 0.0330564368553\n",
        "D:\\Data\\NDVI_anomalySVInormalized//NDVI_2004329.tif\n",
        "\n",
        "max"
       ]
      },
      {
       "output_type": "stream",
       "stream": "stdout",
       "text": [
        " 0.9 min -0.803853 std 0.155471838935 mean 0.0375658376791\n",
        "D:\\Data\\NDVI_anomalySVInormalized//NDVI_2004337.tif\n",
        "\n",
        "max"
       ]
      },
      {
       "output_type": "stream",
       "stream": "stdout",
       "text": [
        " 0.9 min -0.80343 std 0.1618946405 mean 0.0401140796783\n",
        "D:\\Data\\NDVI_anomalySVInormalized//NDVI_2004345.tif\n",
        "\n",
        "max"
       ]
      },
      {
       "output_type": "stream",
       "stream": "stdout",
       "text": [
        " 0.9 min -0.804776 std 0.169228422906 mean 0.0403326235744\n",
        "D:\\Data\\NDVI_anomalySVInormalized//NDVI_2004353.tif\n",
        "\n",
        "max"
       ]
      },
      {
       "output_type": "stream",
       "stream": "stdout",
       "text": [
        " 0.9 min -0.817551 std 0.176353487443 mean 0.0382241855768\n",
        "D:\\Data\\NDVI_anomalySVInormalized//NDVI_2004361.tif\n",
        "\n",
        "max"
       ]
      },
      {
       "output_type": "stream",
       "stream": "stdout",
       "text": [
        " 0.9 min -0.8288 std 0.186331925483 mean 0.00222333594087\n",
        "D:\\Data\\NDVI_anomalySVInormalized//NDVI_2005001.tif\n",
        "\n",
        "max"
       ]
      },
      {
       "output_type": "stream",
       "stream": "stdout",
       "text": [
        " 0.9 min -0.826492 std 0.192839402916 mean -0.00089445951536\n",
        "D:\\Data\\NDVI_anomalySVInormalized//NDVI_2005009.tif\n",
        "\n",
        "max"
       ]
      },
      {
       "output_type": "stream",
       "stream": "stdout",
       "text": [
        " 0.9 min -0.836949 std 0.195930179647 mean -0.00495208363159\n",
        "D:\\Data\\NDVI_anomalySVInormalized//NDVI_2005017.tif\n",
        "\n",
        "max"
       ]
      },
      {
       "output_type": "stream",
       "stream": "stdout",
       "text": [
        " 0.9 min -0.834774 std 0.195333674401 mean -0.00948249241592\n",
        "D:\\Data\\NDVI_anomalySVInormalized//NDVI_2005025.tif\n",
        "\n",
        "max"
       ]
      },
      {
       "output_type": "stream",
       "stream": "stdout",
       "text": [
        " 0.9 min -0.815984 std 0.191370971227 mean -0.0139161125313\n",
        "D:\\Data\\NDVI_anomalySVInormalized//NDVI_2005033.tif\n",
        "\n",
        "max"
       ]
      },
      {
       "output_type": "stream",
       "stream": "stdout",
       "text": [
        " 0.9 min -0.810879 std 0.184827084834 mean -0.0176875227209\n",
        "D:\\Data\\NDVI_anomalySVInormalized//NDVI_2005041.tif\n",
        "\n",
        "max"
       ]
      },
      {
       "output_type": "stream",
       "stream": "stdout",
       "text": [
        " 0.9 min -0.829562 std 0.176906757346 mean -0.0203256483361\n",
        "D:\\Data\\NDVI_anomalySVInormalized//NDVI_2005049.tif\n",
        "\n",
        "max"
       ]
      },
      {
       "output_type": "stream",
       "stream": "stdout",
       "text": [
        " 0.9 min -0.813026 std 0.168715297304 mean -0.0215240460449\n",
        "D:\\Data\\NDVI_anomalySVInormalized//NDVI_2005057.tif\n",
        "\n",
        "max"
       ]
      },
      {
       "output_type": "stream",
       "stream": "stdout",
       "text": [
        " 0.9 min -0.801504 std 0.160948780341 mean -0.0211959778712\n",
        "D:\\Data\\NDVI_anomalySVInormalized//NDVI_2005065.tif\n",
        "\n",
        "max"
       ]
      },
      {
       "output_type": "stream",
       "stream": "stdout",
       "text": [
        " 0.9 min -0.780216 std 0.154285149771 mean -0.0194853064762\n",
        "D:\\Data\\NDVI_anomalySVInormalized//NDVI_2005073.tif\n",
        "\n",
        "max"
       ]
      },
      {
       "output_type": "stream",
       "stream": "stdout",
       "text": [
        " 0.9 min -0.81252 std 0.148935942055 mean -0.016739058625\n",
        "D:\\Data\\NDVI_anomalySVInormalized//NDVI_2005081.tif\n",
        "\n",
        "max"
       ]
      },
      {
       "output_type": "stream",
       "stream": "stdout",
       "text": [
        " 0.9 min -0.846588 std 0.144883055622 mean -0.0134494113963\n",
        "D:\\Data\\NDVI_anomalySVInormalized//NDVI_2005089.tif\n",
        "\n",
        "max"
       ]
      },
      {
       "output_type": "stream",
       "stream": "stdout",
       "text": [
        " 0.9 min -0.822354 std 0.142112582219 mean -0.0101649852161\n",
        "D:\\Data\\NDVI_anomalySVInormalized//NDVI_2005097.tif\n",
        "\n",
        "max"
       ]
      },
      {
       "output_type": "stream",
       "stream": "stdout",
       "text": [
        " 0.9 min -0.809789 std 0.140756072967 mean -0.00739553629721\n",
        "D:\\Data\\NDVI_anomalySVInormalized//NDVI_2005105.tif\n",
        "\n",
        "max"
       ]
      },
      {
       "output_type": "stream",
       "stream": "stdout",
       "text": [
        " 0.9 min -0.814369 std 0.140991786661 mean -0.0055304956928\n",
        "D:\\Data\\NDVI_anomalySVInormalized//NDVI_2005113.tif\n",
        "\n",
        "max"
       ]
      },
      {
       "output_type": "stream",
       "stream": "stdout",
       "text": [
        " 0.9 min -0.841651 std 0.142876722769 mean -0.0047678964416\n",
        "D:\\Data\\NDVI_anomalySVInormalized//NDVI_2005121.tif\n",
        "\n",
        "max"
       ]
      },
      {
       "output_type": "stream",
       "stream": "stdout",
       "text": [
        " 0.9 min -0.860961 std 0.146141483732 mean -0.00508532453144\n",
        "D:\\Data\\NDVI_anomalySVInormalized//NDVI_2005129.tif\n",
        "\n",
        "max"
       ]
      },
      {
       "output_type": "stream",
       "stream": "stdout",
       "text": [
        " 0.9 min -0.851942 std 0.150229146009 mean -0.00624506721534\n",
        "D:\\Data\\NDVI_anomalySVInormalized//NDVI_2005137.tif\n",
        "\n",
        "max"
       ]
      },
      {
       "output_type": "stream",
       "stream": "stdout",
       "text": [
        " 0.9 min -0.822685 std 0.1544266559 mean -0.00783033440658\n",
        "D:\\Data\\NDVI_anomalySVInormalized//NDVI_2005145.tif\n",
        "\n",
        "max"
       ]
      },
      {
       "output_type": "stream",
       "stream": "stdout",
       "text": [
        " 0.9 min -0.834393 std 0.157997087334 mean -0.00932945293176\n",
        "D:\\Data\\NDVI_anomalySVInormalized//NDVI_2005153.tif\n",
        "\n",
        "max"
       ]
      },
      {
       "output_type": "stream",
       "stream": "stdout",
       "text": [
        " 0.9 min -0.84112 std 0.160453798269 mean -0.0102179208633\n",
        "D:\\Data\\NDVI_anomalySVInormalized//NDVI_2005161.tif\n",
        "\n",
        "max"
       ]
      },
      {
       "output_type": "stream",
       "stream": "stdout",
       "text": [
        " 0.9 min -0.835439 std 0.161580685707 mean -0.0100571216338\n",
        "D:\\Data\\NDVI_anomalySVInormalized//NDVI_2005169.tif\n",
        "\n",
        "max"
       ]
      },
      {
       "output_type": "stream",
       "stream": "stdout",
       "text": [
        " 0.9 min -0.843995 std 0.161459554149 mean -0.00857317025406\n",
        "D:\\Data\\NDVI_anomalySVInormalized//NDVI_2005177.tif\n",
        "\n",
        "max"
       ]
      },
      {
       "output_type": "stream",
       "stream": "stdout",
       "text": [
        " 0.9 min -0.836732 std 0.160340886608 mean -0.00571081333356\n",
        "D:\\Data\\NDVI_anomalySVInormalized//NDVI_2005185.tif\n",
        "\n",
        "max"
       ]
      },
      {
       "output_type": "stream",
       "stream": "stdout",
       "text": [
        " 0.9 min -0.814605 std 0.158543732266 mean -0.00165177447282\n",
        "D:\\Data\\NDVI_anomalySVInormalized//NDVI_2005193.tif\n",
        "\n",
        "max"
       ]
      },
      {
       "output_type": "stream",
       "stream": "stdout",
       "text": [
        " 0.9 min -0.824169 std 0.156372641357 mean 0.00321491097548\n",
        "D:\\Data\\NDVI_anomalySVInormalized//NDVI_2005201.tif\n",
        "\n",
        "max"
       ]
      },
      {
       "output_type": "stream",
       "stream": "stdout",
       "text": [
        " 0.9 min -0.812436 std 0.154003073865 mean 0.00834145238536\n",
        "D:\\Data\\NDVI_anomalySVInormalized//NDVI_2005209.tif\n",
        "\n",
        "max"
       ]
      },
      {
       "output_type": "stream",
       "stream": "stdout",
       "text": [
        " 0.9 min -0.808469 std 0.151480636343 mean 0.0131098996799\n",
        "D:\\Data\\NDVI_anomalySVInormalized//NDVI_2005217.tif\n",
        "\n",
        "max"
       ]
      },
      {
       "output_type": "stream",
       "stream": "stdout",
       "text": [
        " 0.9 min -0.791173 std 0.148792743449 mean 0.0169301046483\n",
        "D:\\Data\\NDVI_anomalySVInormalized//NDVI_2005225.tif\n",
        "\n",
        "max"
       ]
      },
      {
       "output_type": "stream",
       "stream": "stdout",
       "text": [
        " 0.9 min -0.778651 std 0.145890071542 mean 0.0193481044674\n",
        "D:\\Data\\NDVI_anomalySVInormalized//NDVI_2005233.tif\n",
        "\n",
        "max"
       ]
      },
      {
       "output_type": "stream",
       "stream": "stdout",
       "text": [
        " 0.9 min -0.80079 std 0.142787832372 mean 0.0200883354067\n",
        "D:\\Data\\NDVI_anomalySVInormalized//NDVI_2005241.tif\n",
        "\n",
        "max"
       ]
      },
      {
       "output_type": "stream",
       "stream": "stdout",
       "text": [
        " 0.9 min -0.811079 std 0.139556186143 mean 0.0191172153223\n",
        "D:\\Data\\NDVI_anomalySVInormalized//NDVI_2005249.tif\n",
        "\n",
        "max"
       ]
      },
      {
       "output_type": "stream",
       "stream": "stdout",
       "text": [
        " 0.9 min -0.772967 std 0.136327042826 mean 0.0166560901375\n",
        "D:\\Data\\NDVI_anomalySVInormalized//NDVI_2005257.tif\n",
        "\n",
        "max"
       ]
      },
      {
       "output_type": "stream",
       "stream": "stdout",
       "text": [
        " 0.9 min -0.74733 std 0.133334663453 mean 0.0131128359403\n",
        "D:\\Data\\NDVI_anomalySVInormalized//NDVI_2005265.tif\n",
        "\n",
        "max"
       ]
      },
      {
       "output_type": "stream",
       "stream": "stdout",
       "text": [
        " 0.9 min -0.756083 std 0.130789306994 mean 0.00905447179307\n",
        "D:\\Data\\NDVI_anomalySVInormalized//NDVI_2005273.tif\n",
        "\n",
        "max"
       ]
      },
      {
       "output_type": "stream",
       "stream": "stdout",
       "text": [
        " 0.9 min -0.784849 std 0.128825242412 mean 0.00508276534068\n",
        "D:\\Data\\NDVI_anomalySVInormalized//NDVI_2005281.tif\n",
        "\n",
        "max"
       ]
      },
      {
       "output_type": "stream",
       "stream": "stdout",
       "text": [
        " 0.9 min -0.803061 std 0.127567167174 mean 0.00174859967178\n",
        "D:\\Data\\NDVI_anomalySVInormalized//NDVI_2005289.tif\n",
        "\n",
        "max"
       ]
      },
      {
       "output_type": "stream",
       "stream": "stdout",
       "text": [
        " 0.9 min -0.778578 std 0.127140921227 mean -0.000539293954308\n",
        "D:\\Data\\NDVI_anomalySVInormalized//NDVI_2005297.tif\n",
        "\n",
        "max"
       ]
      },
      {
       "output_type": "stream",
       "stream": "stdout",
       "text": [
        " 0.9 min -0.810376 std 0.12779019656 mean -0.0015730982953\n",
        "D:\\Data\\NDVI_anomalySVInormalized//NDVI_2005305.tif\n",
        "\n",
        "max"
       ]
      },
      {
       "output_type": "stream",
       "stream": "stdout",
       "text": [
        " 0.9 min -0.813392 std 0.129901569888 mean -0.00138348261337\n",
        "D:\\Data\\NDVI_anomalySVInormalized//NDVI_2005313.tif\n",
        "\n",
        "max"
       ]
      },
      {
       "output_type": "stream",
       "stream": "stdout",
       "text": [
        " 0.9 min -0.830943 std 0.133968367066 mean -0.000221937492386\n",
        "D:\\Data\\NDVI_anomalySVInormalized//NDVI_2005321.tif\n",
        "\n",
        "max"
       ]
      },
      {
       "output_type": "stream",
       "stream": "stdout",
       "text": [
        " 0.9 min -0.857452 std 0.140392230292 mean 0.00148127213688\n",
        "D:\\Data\\NDVI_anomalySVInormalized//NDVI_2005329.tif\n",
        "\n",
        "max"
       ]
      },
      {
       "output_type": "stream",
       "stream": "stdout",
       "text": [
        " 0.9 min -0.859 std 0.149134885786 mean 0.0031930471164\n",
        "D:\\Data\\NDVI_anomalySVInormalized//NDVI_2005337.tif\n",
        "\n",
        "max"
       ]
      },
      {
       "output_type": "stream",
       "stream": "stdout",
       "text": [
        " 0.9 min -0.862922 std 0.159696459365 mean 0.00438159724006\n",
        "D:\\Data\\NDVI_anomalySVInormalized//NDVI_2005345.tif\n",
        "\n",
        "max"
       ]
      },
      {
       "output_type": "stream",
       "stream": "stdout",
       "text": [
        " 0.9 min -0.846704 std 0.170681838949 mean 0.00459324672371\n",
        "D:\\Data\\NDVI_anomalySVInormalized//NDVI_2005353.tif\n",
        "\n",
        "max"
       ]
      },
      {
       "output_type": "stream",
       "stream": "stdout",
       "text": [
        " 0.9 min -0.826348 std 0.180900126462 mean 0.00355284330664\n",
        "D:\\Data\\NDVI_anomalySVInormalized//NDVI_2005361.tif\n",
        "\n",
        "max"
       ]
      },
      {
       "output_type": "stream",
       "stream": "stdout",
       "text": [
        " 0.9 min -0.829735 std 0.179966501153 mean -0.035042149348\n",
        "D:\\Data\\NDVI_anomalySVInormalized//NDVI_2006001.tif\n",
        "\n",
        "max"
       ]
      },
      {
       "output_type": "stream",
       "stream": "stdout",
       "text": [
        " 0.9 min -0.835318 std 0.183019965568 mean -0.0342284514583\n",
        "D:\\Data\\NDVI_anomalySVInormalized//NDVI_2006009.tif\n",
        "\n",
        "max"
       ]
      },
      {
       "output_type": "stream",
       "stream": "stdout",
       "text": [
        " 0.9 min -0.834454 std 0.182741669755 mean -0.0301942403888\n",
        "D:\\Data\\NDVI_anomalySVInormalized//NDVI_2006017.tif\n",
        "\n",
        "max"
       ]
      },
      {
       "output_type": "stream",
       "stream": "stdout",
       "text": [
        " 0.9 min -0.837087 std 0.178885681735 mean -0.0237376023067\n",
        "D:\\Data\\NDVI_anomalySVInormalized//NDVI_2006025.tif\n",
        "\n",
        "max"
       ]
      },
      {
       "output_type": "stream",
       "stream": "stdout",
       "text": [
        " 0.9 min -0.814829 std 0.172029046655 mean -0.0160273562252\n",
        "D:\\Data\\NDVI_anomalySVInormalized//NDVI_2006033.tif\n",
        "\n",
        "max"
       ]
      },
      {
       "output_type": "stream",
       "stream": "stdout",
       "text": [
        " 0.9 min -0.787149 std 0.163417655593 mean -0.0084027392007\n",
        "D:\\Data\\NDVI_anomalySVInormalized//NDVI_2006041.tif\n",
        "\n",
        "max"
       ]
      },
      {
       "output_type": "stream",
       "stream": "stdout",
       "text": [
        " 0.9 min -0.78466 std 0.154564468672 mean -0.00214440389828\n",
        "D:\\Data\\NDVI_anomalySVInormalized//NDVI_2006049.tif\n",
        "\n",
        "max"
       ]
      },
      {
       "output_type": "stream",
       "stream": "stdout",
       "text": [
        " 0.9 min -0.784485 std 0.147416553171 mean 0.00174035517542\n",
        "D:\\Data\\NDVI_anomalySVInormalized//NDVI_2006057.tif\n",
        "\n",
        "max"
       ]
      },
      {
       "output_type": "stream",
       "stream": "stdout",
       "text": [
        " 0.9 min -0.783328 std 0.142727105111 mean 0.00269098638369\n",
        "D:\\Data\\NDVI_anomalySVInormalized//NDVI_2006065.tif\n",
        "\n",
        "max"
       ]
      },
      {
       "output_type": "stream",
       "stream": "stdout",
       "text": [
        " 0.9 min -0.780448 std 0.139986945266 mean 0.000683654112293\n",
        "D:\\Data\\NDVI_anomalySVInormalized//NDVI_2006073.tif\n",
        "\n",
        "max"
       ]
      },
      {
       "output_type": "stream",
       "stream": "stdout",
       "text": [
        " 0.9 min -0.792608 std 0.137987288542 mean -0.0037675522375\n",
        "D:\\Data\\NDVI_anomalySVInormalized//NDVI_2006081.tif\n",
        "\n",
        "max"
       ]
      },
      {
       "output_type": "stream",
       "stream": "stdout",
       "text": [
        " 0.9 min -0.782549 std 0.135668779167 mean -0.00970799123552\n",
        "D:\\Data\\NDVI_anomalySVInormalized//NDVI_2006089.tif\n",
        "\n",
        "max"
       ]
      },
      {
       "output_type": "stream",
       "stream": "stdout",
       "text": [
        " 0.9 min -0.775669 std 0.13276638068 mean -0.0159078296051\n",
        "D:\\Data\\NDVI_anomalySVInormalized//NDVI_2006097.tif\n",
        "\n",
        "max"
       ]
      },
      {
       "output_type": "stream",
       "stream": "stdout",
       "text": [
        " 0.9 min -0.773753 std 0.130052190778 mean -0.021069512585\n",
        "D:\\Data\\NDVI_anomalySVInormalized//NDVI_2006105.tif\n",
        "\n",
        "max"
       ]
      },
      {
       "output_type": "stream",
       "stream": "stdout",
       "text": [
        " 0.9 min -0.774277 std 0.128971887075 mean -0.0240782871669\n",
        "D:\\Data\\NDVI_anomalySVInormalized//NDVI_2006113.tif\n",
        "\n",
        "max"
       ]
      },
      {
       "output_type": "stream",
       "stream": "stdout",
       "text": [
        " 0.9 min -0.782941 std 0.1306925319 mean -0.0241769589204\n",
        "D:\\Data\\NDVI_anomalySVInormalized//NDVI_2006121.tif\n",
        "\n",
        "max"
       ]
      },
      {
       "output_type": "stream",
       "stream": "stdout",
       "text": [
        " 0.9 min -0.795422 std 0.135276376555 mean -0.0211157335329\n",
        "D:\\Data\\NDVI_anomalySVInormalized//NDVI_2006129.tif\n",
        "\n",
        "max"
       ]
      },
      {
       "output_type": "stream",
       "stream": "stdout",
       "text": [
        " 0.9 min -0.80245 std 0.141614453779 mean -0.0152046788406\n",
        "D:\\Data\\NDVI_anomalySVInormalized//NDVI_2006137.tif\n",
        "\n",
        "max"
       ]
      },
      {
       "output_type": "stream",
       "stream": "stdout",
       "text": [
        " 0.9 min -0.799981 std 0.147856126978 mean -0.00724946422548\n",
        "D:\\Data\\NDVI_anomalySVInormalized//NDVI_2006145.tif\n",
        "\n",
        "max"
       ]
      },
      {
       "output_type": "stream",
       "stream": "stdout",
       "text": [
        " 0.9 min -0.791802 std 0.152352199242 mean 0.00155510756369\n",
        "D:\\Data\\NDVI_anomalySVInormalized//NDVI_2006153.tif\n",
        "\n",
        "max"
       ]
      },
      {
       "output_type": "stream",
       "stream": "stdout",
       "text": [
        " 0.9 min -0.794229 std 0.154226056777 mean 0.00984138864426\n",
        "D:\\Data\\NDVI_anomalySVInormalized//NDVI_2006161.tif\n",
        "\n",
        "max"
       ]
      },
      {
       "output_type": "stream",
       "stream": "stdout",
       "text": [
        " 0.9 min -0.795947 std 0.153550424651 mean 0.016281006276\n",
        "D:\\Data\\NDVI_anomalySVInormalized//NDVI_2006169.tif\n",
        "\n",
        "max"
       ]
      },
      {
       "output_type": "stream",
       "stream": "stdout",
       "text": [
        " 0.9 min -0.798448 std 0.151147824425 mean 0.0198366221443\n",
        "D:\\Data\\NDVI_anomalySVInormalized//NDVI_2006177.tif\n",
        "\n",
        "max"
       ]
      },
      {
       "output_type": "stream",
       "stream": "stdout",
       "text": [
        " 0.9 min -0.81932 std 0.148253293079 mean 0.0199089684905\n",
        "D:\\Data\\NDVI_anomalySVInormalized//NDVI_2006185.tif\n",
        "\n",
        "max"
       ]
      },
      {
       "output_type": "stream",
       "stream": "stdout",
       "text": [
        " 0.9 min -0.83036 std 0.146029396526 mean 0.0164584116137\n",
        "D:\\Data\\NDVI_anomalySVInormalized//NDVI_2006193.tif\n",
        "\n",
        "max"
       ]
      },
      {
       "output_type": "stream",
       "stream": "stdout",
       "text": [
        " 0.9 min -0.826779 std 0.145025011605 mean 0.0100210890026\n",
        "D:\\Data\\NDVI_anomalySVInormalized//NDVI_2006201.tif\n",
        "\n",
        "max"
       ]
      },
      {
       "output_type": "stream",
       "stream": "stdout",
       "text": [
        " 0.9 min -0.832031 std 0.145115318811 mean 0.0016175275283\n",
        "D:\\Data\\NDVI_anomalySVInormalized//NDVI_2006209.tif\n",
        "\n",
        "max"
       ]
      },
      {
       "output_type": "stream",
       "stream": "stdout",
       "text": [
        " 0.9 min -0.822886 std 0.145589408479 mean -0.00741571486073\n",
        "D:\\Data\\NDVI_anomalySVInormalized//NDVI_2006217.tif\n",
        "\n",
        "max"
       ]
      },
      {
       "output_type": "stream",
       "stream": "stdout",
       "text": [
        " 0.9 min -0.820242 std 0.145629038764 mean -0.0156399296659\n",
        "D:\\Data\\NDVI_anomalySVInormalized//NDVI_2006225.tif\n",
        "\n",
        "max"
       ]
      },
      {
       "output_type": "stream",
       "stream": "stdout",
       "text": [
        " 0.9 min -0.823343 std 0.144627693064 mean -0.0217490003856\n",
        "D:\\Data\\NDVI_anomalySVInormalized//NDVI_2006233.tif\n",
        "\n",
        "max"
       ]
      },
      {
       "output_type": "stream",
       "stream": "stdout",
       "text": [
        " 0.9 min -0.824682 std 0.142348277635 mean -0.0247975611219\n",
        "D:\\Data\\NDVI_anomalySVInormalized//NDVI_2006241.tif\n",
        "\n",
        "max"
       ]
      },
      {
       "output_type": "stream",
       "stream": "stdout",
       "text": [
        " 0.9 min -0.824336 std 0.138974341317 mean -0.024337103655\n",
        "D:\\Data\\NDVI_anomalySVInormalized//NDVI_2006249.tif\n",
        "\n",
        "max"
       ]
      },
      {
       "output_type": "stream",
       "stream": "stdout",
       "text": [
        " 0.9 min -0.822529 std 0.135049439199 mean -0.0205137775203\n",
        "D:\\Data\\NDVI_anomalySVInormalized//NDVI_2006257.tif\n",
        "\n",
        "max"
       ]
      },
      {
       "output_type": "stream",
       "stream": "stdout",
       "text": [
        " 0.9 min -0.82137 std 0.131354037008 mean -0.0140300252508\n",
        "D:\\Data\\NDVI_anomalySVInormalized//NDVI_2006265.tif\n",
        "\n",
        "max"
       ]
      },
      {
       "output_type": "stream",
       "stream": "stdout",
       "text": [
        " 0.9 min -0.831565 std 0.128723365233 mean -0.00603955506174\n",
        "D:\\Data\\NDVI_anomalySVInormalized//NDVI_2006273.tif\n",
        "\n",
        "max"
       ]
      },
      {
       "output_type": "stream",
       "stream": "stdout",
       "text": [
        " 0.9 min -0.842396 std 0.127779820682 mean 0.00205643683676\n",
        "D:\\Data\\NDVI_anomalySVInormalized//NDVI_2006281.tif\n",
        "\n",
        "max"
       ]
      },
      {
       "output_type": "stream",
       "stream": "stdout",
       "text": [
        " 0.9 min -0.843134 std 0.128757012662 mean 0.00883147731609\n",
        "D:\\Data\\NDVI_anomalySVInormalized//NDVI_2006289.tif\n",
        "\n",
        "max"
       ]
      },
      {
       "output_type": "stream",
       "stream": "stdout",
       "text": [
        " 0.9 min -0.830994 std 0.131464475669 mean 0.0130739835109\n",
        "D:\\Data\\NDVI_anomalySVInormalized//NDVI_2006297.tif\n",
        "\n",
        "max"
       ]
      },
      {
       "output_type": "stream",
       "stream": "stdout",
       "text": [
        " 0.9 min -0.840405 std 0.135394130499 mean 0.0139859777842\n",
        "D:\\Data\\NDVI_anomalySVInormalized//NDVI_2006305.tif\n",
        "\n",
        "max"
       ]
      },
      {
       "output_type": "stream",
       "stream": "stdout",
       "text": [
        " 0.9 min -0.845851 std 0.140015638039 mean 0.0113161824465\n",
        "D:\\Data\\NDVI_anomalySVInormalized//NDVI_2006313.tif\n",
        "\n",
        "max"
       ]
      },
      {
       "output_type": "stream",
       "stream": "stdout",
       "text": [
        " 0.9 min -0.855689 std 0.145059227996 mean 0.00539551327494\n",
        "D:\\Data\\NDVI_anomalySVInormalized//NDVI_2006321.tif\n",
        "\n",
        "max"
       ]
      },
      {
       "output_type": "stream",
       "stream": "stdout",
       "text": [
        " 0.9 min -0.859531 std 0.150635076709 mean -0.00291281899182\n",
        "D:\\Data\\NDVI_anomalySVInormalized//NDVI_2006329.tif\n",
        "\n",
        "max"
       ]
      },
      {
       "output_type": "stream",
       "stream": "stdout",
       "text": [
        " 0.9 min -0.856797 std 0.156860135764 mean -0.0123603671108\n",
        "D:\\Data\\NDVI_anomalySVInormalized//NDVI_2006337.tif\n",
        "\n",
        "max"
       ]
      },
      {
       "output_type": "stream",
       "stream": "stdout",
       "text": [
        " 0.9 min -0.849212 std 0.163755619607 mean -0.0215209477744\n",
        "D:\\Data\\NDVI_anomalySVInormalized//NDVI_2006345.tif\n",
        "\n",
        "max"
       ]
      },
      {
       "output_type": "stream",
       "stream": "stdout",
       "text": [
        " 0.9 min -0.833389 std 0.170422274581 mean -0.0290186639217\n",
        "D:\\Data\\NDVI_anomalySVInormalized//NDVI_2006353.tif\n",
        "\n",
        "max"
       ]
      },
      {
       "output_type": "stream",
       "stream": "stdout",
       "text": [
        " 0.9 min -0.829713 std 0.176742359244 mean -0.0337737338515\n",
        "D:\\Data\\NDVI_anomalySVInormalized//NDVI_2006361.tif\n",
        "\n",
        "max"
       ]
      },
      {
       "output_type": "stream",
       "stream": "stdout",
       "text": [
        " 0.9 min -0.82427 std 0.16676531033 mean 0.0361737701231\n",
        "D:\\Data\\NDVI_anomalySVInormalized//NDVI_2007001.tif\n",
        "\n",
        "max"
       ]
      },
      {
       "output_type": "stream",
       "stream": "stdout",
       "text": [
        " 0.9 min -0.819439 std 0.173463692782 mean 0.041849125061\n",
        "D:\\Data\\NDVI_anomalySVInormalized//NDVI_2007009.tif\n",
        "\n",
        "max"
       ]
      },
      {
       "output_type": "stream",
       "stream": "stdout",
       "text": [
        " 0.9 min -0.824563 std 0.178932803625 mean 0.0468632274352\n",
        "D:\\Data\\NDVI_anomalySVInormalized//NDVI_2007017.tif\n",
        "\n",
        "max"
       ]
      },
      {
       "output_type": "stream",
       "stream": "stdout",
       "text": [
        " 0.9 min -0.836653 std 0.18260472804 mean 0.0508418655909\n",
        "D:\\Data\\NDVI_anomalySVInormalized//NDVI_2007025.tif\n",
        "\n",
        "max"
       ]
      },
      {
       "output_type": "stream",
       "stream": "stdout",
       "text": [
        " 0.9 min -0.84549 std 0.184008372286 mean 0.0535938844171\n",
        "D:\\Data\\NDVI_anomalySVInormalized//NDVI_2007033.tif\n",
        "\n",
        "max"
       ]
      },
      {
       "output_type": "stream",
       "stream": "stdout",
       "text": [
        " 0.9 min -0.840421 std 0.182822822988 mean 0.055081641082\n",
        "D:\\Data\\NDVI_anomalySVInormalized//NDVI_2007041.tif\n",
        "\n",
        "max"
       ]
      },
      {
       "output_type": "stream",
       "stream": "stdout",
       "text": [
        " 0.9 min -0.816643 std 0.179039744441 mean 0.0554457185609\n",
        "D:\\Data\\NDVI_anomalySVInormalized//NDVI_2007049.tif\n",
        "\n",
        "max"
       ]
      },
      {
       "output_type": "stream",
       "stream": "stdout",
       "text": [
        " 0.9 min -0.796243 std 0.172735132185 mean 0.0549412657985\n",
        "D:\\Data\\NDVI_anomalySVInormalized//NDVI_2007057.tif\n",
        "\n",
        "max"
       ]
      },
      {
       "output_type": "stream",
       "stream": "stdout",
       "text": [
        " 0.9 min -0.795989 std 0.164281211048 mean 0.0538583679449\n",
        "D:\\Data\\NDVI_anomalySVInormalized//NDVI_2007065.tif\n",
        "\n",
        "max"
       ]
      },
      {
       "output_type": "stream",
       "stream": "stdout",
       "text": [
        " 0.9 min -0.79714 std 0.154484538285 mean 0.0525078571294\n",
        "D:\\Data\\NDVI_anomalySVInormalized//NDVI_2007073.tif\n",
        "\n",
        "max"
       ]
      },
      {
       "output_type": "stream",
       "stream": "stdout",
       "text": [
        " 0.9 min -0.799586 std 0.144771720043 mean 0.0511275403164\n",
        "D:\\Data\\NDVI_anomalySVInormalized//NDVI_2007081.tif\n",
        "\n",
        "max"
       ]
      },
      {
       "output_type": "stream",
       "stream": "stdout",
       "text": [
        " 0.9 min -0.803153 std 0.136382963296 mean 0.0498468494711\n",
        "D:\\Data\\NDVI_anomalySVInormalized//NDVI_2007089.tif\n",
        "\n",
        "max"
       ]
      },
      {
       "output_type": "stream",
       "stream": "stdout",
       "text": [
        " 0.9 min -0.807556 std 0.130494673438 mean 0.0486895962683\n",
        "D:\\Data\\NDVI_anomalySVInormalized//NDVI_2007097.tif\n",
        "\n",
        "max"
       ]
      },
      {
       "output_type": "stream",
       "stream": "stdout",
       "text": [
        " 0.9 min -0.812478 std 0.12780771738 mean 0.0475468740809\n",
        "D:\\Data\\NDVI_anomalySVInormalized//NDVI_2007105.tif\n",
        "\n",
        "max"
       ]
      },
      {
       "output_type": "stream",
       "stream": "stdout",
       "text": [
        " 0.9 min -0.817533 std 0.128472240828 mean 0.046239580936\n",
        "D:\\Data\\NDVI_anomalySVInormalized//NDVI_2007113.tif\n",
        "\n",
        "max"
       ]
      },
      {
       "output_type": "stream",
       "stream": "stdout",
       "text": [
        " 0.9 min -0.822405 std 0.132000395536 mean 0.0445733609158\n",
        "D:\\Data\\NDVI_anomalySVInormalized//NDVI_2007121.tif\n",
        "\n",
        "max"
       ]
      },
      {
       "output_type": "stream",
       "stream": "stdout",
       "text": [
        " 0.9 min -0.826818 std 0.13752129729 mean 0.0423854133592\n",
        "D:\\Data\\NDVI_anomalySVInormalized//NDVI_2007129.tif\n",
        "\n",
        "max"
       ]
      },
      {
       "output_type": "stream",
       "stream": "stdout",
       "text": [
        " 0.9 min -0.830558 std 0.14406692966 mean 0.0395587299098\n",
        "D:\\Data\\NDVI_anomalySVInormalized//NDVI_2007137.tif\n",
        "\n",
        "max"
       ]
      },
      {
       "output_type": "stream",
       "stream": "stdout",
       "text": [
        " 0.9 min -0.833503 std 0.150753966637 mean 0.0361473528121\n",
        "D:\\Data\\NDVI_anomalySVInormalized//NDVI_2007145.tif\n",
        "\n",
        "max"
       ]
      },
      {
       "output_type": "stream",
       "stream": "stdout",
       "text": [
        " 0.9 min -0.835643 std 0.156839704991 mean 0.0323112287758\n",
        "D:\\Data\\NDVI_anomalySVInormalized//NDVI_2007153.tif\n",
        "\n",
        "max"
       ]
      },
      {
       "output_type": "stream",
       "stream": "stdout",
       "text": [
        " 0.9 min -0.837029 std 0.161884991197 mean 0.0283306363519\n",
        "D:\\Data\\NDVI_anomalySVInormalized//NDVI_2007161.tif\n",
        "\n",
        "max"
       ]
      },
      {
       "output_type": "stream",
       "stream": "stdout",
       "text": [
        " 0.9 min -0.837763 std 0.1656371738 mean 0.0245898468949\n",
        "D:\\Data\\NDVI_anomalySVInormalized//NDVI_2007169.tif\n",
        "\n",
        "max"
       ]
      },
      {
       "output_type": "stream",
       "stream": "stdout",
       "text": [
        " 0.9 min -0.838038 std 0.168023862166 mean 0.0215013605759\n",
        "D:\\Data\\NDVI_anomalySVInormalized//NDVI_2007177.tif\n",
        "\n",
        "max"
       ]
      },
      {
       "output_type": "stream",
       "stream": "stdout",
       "text": [
        " 0.9 min -0.839593 std 0.169268339308 mean 0.0194365791355\n",
        "D:\\Data\\NDVI_anomalySVInormalized//NDVI_2007185.tif\n",
        "\n",
        "max"
       ]
      },
      {
       "output_type": "stream",
       "stream": "stdout",
       "text": [
        " 0.9 min -0.843606 std 0.169566855183 mean 0.0186669483112\n",
        "D:\\Data\\NDVI_anomalySVInormalized//NDVI_2007193.tif\n",
        "\n",
        "max"
       ]
      },
      {
       "output_type": "stream",
       "stream": "stdout",
       "text": [
        " 0.9 min -0.843383 std 0.169044909023 mean 0.0193073986031\n",
        "D:\\Data\\NDVI_anomalySVInormalized//NDVI_2007201.tif\n",
        "\n",
        "max"
       ]
      },
      {
       "output_type": "stream",
       "stream": "stdout",
       "text": [
        " 0.9 min -0.844814 std 0.167732671639 mean 0.0212921377422\n",
        "D:\\Data\\NDVI_anomalySVInormalized//NDVI_2007209.tif\n",
        "\n",
        "max"
       ]
      },
      {
       "output_type": "stream",
       "stream": "stdout",
       "text": [
        " 0.9 min -0.845608 std 0.165577062904 mean 0.0243528566305\n",
        "D:\\Data\\NDVI_anomalySVInormalized//NDVI_2007217.tif\n",
        "\n",
        "max"
       ]
      },
      {
       "output_type": "stream",
       "stream": "stdout",
       "text": [
        " 0.9 min -0.845351 std 0.162327096096 mean 0.0280592399338\n",
        "D:\\Data\\NDVI_anomalySVInormalized//NDVI_2007225.tif\n",
        "\n",
        "max"
       ]
      },
      {
       "output_type": "stream",
       "stream": "stdout",
       "text": [
        " 0.9 min -0.843763 std 0.158009283315 mean 0.0318794154602\n",
        "D:\\Data\\NDVI_anomalySVInormalized//NDVI_2007233.tif\n",
        "\n",
        "max"
       ]
      },
      {
       "output_type": "stream",
       "stream": "stdout",
       "text": [
        " 0.9 min -0.840577 std 0.152838814336 mean 0.0352473073016\n",
        "D:\\Data\\NDVI_anomalySVInormalized//NDVI_2007241.tif\n",
        "\n",
        "max"
       ]
      },
      {
       "output_type": "stream",
       "stream": "stdout",
       "text": [
        " 0.9 min -0.838507 std 0.147326805804 mean 0.0376381210392\n",
        "D:\\Data\\NDVI_anomalySVInormalized//NDVI_2007249.tif\n",
        "\n",
        "max"
       ]
      },
      {
       "output_type": "stream",
       "stream": "stdout",
       "text": [
        " 0.9 min -0.838976 std 0.142157987437 mean 0.0386810202689\n",
        "D:\\Data\\NDVI_anomalySVInormalized//NDVI_2007257.tif\n",
        "\n",
        "max"
       ]
      },
      {
       "output_type": "stream",
       "stream": "stdout",
       "text": [
        " 0.9 min -0.839445 std 0.137976659529 mean 0.0381731696319\n",
        "D:\\Data\\NDVI_anomalySVInormalized//NDVI_2007265.tif\n",
        "\n",
        "max"
       ]
      },
      {
       "output_type": "stream",
       "stream": "stdout",
       "text": [
        " 0.9 min -0.839863 std 0.135098579323 mean 0.0361432749043\n",
        "D:\\Data\\NDVI_anomalySVInormalized//NDVI_2007273.tif\n",
        "\n",
        "max"
       ]
      },
      {
       "output_type": "stream",
       "stream": "stdout",
       "text": [
        " 0.9 min -0.84026 std 0.133520002886 mean 0.0328522709403\n",
        "D:\\Data\\NDVI_anomalySVInormalized//NDVI_2007281.tif\n",
        "\n",
        "max"
       ]
      },
      {
       "output_type": "stream",
       "stream": "stdout",
       "text": [
        " 0.9 min -0.840607 std 0.132895295608 mean 0.0287507292732\n",
        "D:\\Data\\NDVI_anomalySVInormalized//NDVI_2007289.tif\n",
        "\n",
        "max"
       ]
      },
      {
       "output_type": "stream",
       "stream": "stdout",
       "text": [
        " 0.9 min -0.84081 std 0.1328114578 mean 0.0244150790984\n",
        "D:\\Data\\NDVI_anomalySVInormalized//NDVI_2007297.tif\n",
        "\n",
        "max"
       ]
      },
      {
       "output_type": "stream",
       "stream": "stdout",
       "text": [
        " 0.9 min -0.840841 std 0.133033624595 mean 0.0204766655728\n",
        "D:\\Data\\NDVI_anomalySVInormalized//NDVI_2007305.tif\n",
        "\n",
        "max"
       ]
      },
      {
       "output_type": "stream",
       "stream": "stdout",
       "text": [
        " 0.9 min -0.840545 std 0.133660738077 mean 0.0175267101716\n",
        "D:\\Data\\NDVI_anomalySVInormalized//NDVI_2007313.tif\n",
        "\n",
        "max"
       ]
      },
      {
       "output_type": "stream",
       "stream": "stdout",
       "text": [
        " 0.9 min -0.839903 std 0.135054855372 mean 0.0160326729786\n",
        "D:\\Data\\NDVI_anomalySVInormalized//NDVI_2007321.tif\n",
        "\n",
        "max"
       ]
      },
      {
       "output_type": "stream",
       "stream": "stdout",
       "text": [
        " 0.9 min -0.838701 std 0.137655921453 mean 0.0162673342284\n",
        "D:\\Data\\NDVI_anomalySVInormalized//NDVI_2007329.tif\n",
        "\n",
        "max"
       ]
      },
      {
       "output_type": "stream",
       "stream": "stdout",
       "text": [
        " 0.9 min -0.836887 std 0.141817598197 mean 0.018292497141\n",
        "D:\\Data\\NDVI_anomalySVInormalized//NDVI_2007337.tif\n",
        "\n",
        "max"
       ]
      },
      {
       "output_type": "stream",
       "stream": "stdout",
       "text": [
        " 0.9 min -0.834359 std 0.147508739938 mean 0.0219413658821\n",
        "D:\\Data\\NDVI_anomalySVInormalized//NDVI_2007345.tif\n",
        "\n",
        "max"
       ]
      },
      {
       "output_type": "stream",
       "stream": "stdout",
       "text": [
        " 0.9 min -0.831068 std 0.154458908035 mean 0.0268470373915\n",
        "D:\\Data\\NDVI_anomalySVInormalized//NDVI_2007353.tif\n",
        "\n",
        "max"
       ]
      },
      {
       "output_type": "stream",
       "stream": "stdout",
       "text": [
        " 0.9 min -0.827072 std 0.162073829101 mean 0.0325051781025\n",
        "D:\\Data\\NDVI_anomalySVInormalized//NDVI_2007361.tif\n",
        "\n",
        "max"
       ]
      },
      {
       "output_type": "stream",
       "stream": "stdout",
       "text": [
        " 0.9 min -0.822313 std 0.182487127489 mean -0.0140482148409\n",
        "D:\\Data\\NDVI_anomalySVInormalized//NDVI_2008001.tif\n",
        "\n",
        "max"
       ]
      },
      {
       "output_type": "stream",
       "stream": "stdout",
       "text": [
        " 0.9 min -0.839085 std 0.194030963526 mean -0.0133190406583\n",
        "D:\\Data\\NDVI_anomalySVInormalized//NDVI_2008009.tif\n",
        "\n",
        "max"
       ]
      },
      {
       "output_type": "stream",
       "stream": "stdout",
       "text": [
        " 0.9 min -0.835989 std 0.203101163102 mean -0.0106226890083\n",
        "D:\\Data\\NDVI_anomalySVInormalized//NDVI_2008017.tif\n",
        "\n",
        "max"
       ]
      },
      {
       "output_type": "stream",
       "stream": "stdout",
       "text": [
        " 0.9 min -0.832769 std 0.20792806569 mean -0.00632988184555\n",
        "D:\\Data\\NDVI_anomalySVInormalized//NDVI_2008025.tif\n",
        "\n",
        "max"
       ]
      },
      {
       "output_type": "stream",
       "stream": "stdout",
       "text": [
        " 0.9 min -0.831492 std 0.2076562069 mean -0.00106713027523\n",
        "D:\\Data\\NDVI_anomalySVInormalized//NDVI_2008033.tif\n",
        "\n",
        "max"
       ]
      },
      {
       "output_type": "stream",
       "stream": "stdout",
       "text": [
        " 0.9 min -0.842794 std 0.202511986018 mean 0.00439776285186\n",
        "D:\\Data\\NDVI_anomalySVInormalized//NDVI_2008041.tif\n",
        "\n",
        "max"
       ]
      },
      {
       "output_type": "stream",
       "stream": "stdout",
       "text": [
        " 0.9 min -0.831121 std 0.193743191242 mean 0.00927987232174\n",
        "D:\\Data\\NDVI_anomalySVInormalized//NDVI_2008049.tif\n",
        "\n",
        "max"
       ]
      },
      {
       "output_type": "stream",
       "stream": "stdout",
       "text": [
        " 0.9 min -0.803494 std 0.183065986007 mean 0.012902125871\n",
        "D:\\Data\\NDVI_anomalySVInormalized//NDVI_2008057.tif\n",
        "\n",
        "max"
       ]
      },
      {
       "output_type": "stream",
       "stream": "stdout",
       "text": [
        " 0.9 min -0.779495 std 0.172089086908 mean 0.0148154909106\n",
        "D:\\Data\\NDVI_anomalySVInormalized//NDVI_2008065.tif\n",
        "\n",
        "max"
       ]
      },
      {
       "output_type": "stream",
       "stream": "stdout",
       "text": [
        " 0.9 min -0.79368 std 0.162191877613 mean 0.0148548483293\n",
        "D:\\Data\\NDVI_anomalySVInormalized//NDVI_2008073.tif\n",
        "\n",
        "max"
       ]
      },
      {
       "output_type": "stream",
       "stream": "stdout",
       "text": [
        " 0.9 min -0.8014 std 0.153890646531 mean 0.0131795648333\n",
        "D:\\Data\\NDVI_anomalySVInormalized//NDVI_2008081.tif\n",
        "\n",
        "max"
       ]
      },
      {
       "output_type": "stream",
       "stream": "stdout",
       "text": [
        " 0.9 min -0.809327 std 0.147336130081 mean 0.01023537598\n",
        "D:\\Data\\NDVI_anomalySVInormalized//NDVI_2008089.tif\n",
        "\n",
        "max"
       ]
      },
      {
       "output_type": "stream",
       "stream": "stdout",
       "text": [
        " 0.9 min -0.79974 std 0.14253674077 mean 0.00668428693463\n",
        "D:\\Data\\NDVI_anomalySVInormalized//NDVI_2008097.tif\n",
        "\n",
        "max"
       ]
      },
      {
       "output_type": "stream",
       "stream": "stdout",
       "text": [
        " 0.9 min -0.804689 std 0.139710894376 mean 0.0032826617023\n",
        "D:\\Data\\NDVI_anomalySVInormalized//NDVI_2008105.tif\n",
        "\n",
        "max"
       ]
      },
      {
       "output_type": "stream",
       "stream": "stdout",
       "text": [
        " 0.9 min -0.825043 std 0.139243632799 mean 0.000752397478685\n",
        "D:\\Data\\NDVI_anomalySVInormalized//NDVI_2008113.tif\n",
        "\n",
        "max"
       ]
      },
      {
       "output_type": "stream",
       "stream": "stdout",
       "text": [
        " 0.9 min -0.80124 std 0.141303589179 mean -0.000340906859945\n",
        "D:\\Data\\NDVI_anomalySVInormalized//NDVI_2008121.tif\n",
        "\n",
        "max"
       ]
      },
      {
       "output_type": "stream",
       "stream": "stdout",
       "text": [
        " 0.9 min -0.782445 std 0.145473859148 mean 0.000322983564297\n",
        "D:\\Data\\NDVI_anomalySVInormalized//NDVI_2008129.tif\n",
        "\n",
        "max"
       ]
      },
      {
       "output_type": "stream",
       "stream": "stdout",
       "text": [
        " 0.9 min -0.79079 std 0.150681420825 mean 0.00275219483208\n",
        "D:\\Data\\NDVI_anomalySVInormalized//NDVI_2008137.tif\n",
        "\n",
        "max"
       ]
      },
      {
       "output_type": "stream",
       "stream": "stdout",
       "text": [
        " 0.9 min -0.790801 std 0.15571778033 mean 0.00664683791609\n",
        "D:\\Data\\NDVI_anomalySVInormalized//NDVI_2008145.tif\n",
        "\n",
        "max"
       ]
      },
      {
       "output_type": "stream",
       "stream": "stdout",
       "text": [
        " 0.9 min -0.79812 std 0.15959815473 mean 0.0114504306791\n",
        "D:\\Data\\NDVI_anomalySVInormalized//NDVI_2008153.tif\n",
        "\n",
        "max"
       ]
      },
      {
       "output_type": "stream",
       "stream": "stdout",
       "text": [
        " 0.9 min -0.794763 std 0.161926253655 mean 0.0164309902542\n",
        "D:\\Data\\NDVI_anomalySVInormalized//NDVI_2008161.tif\n",
        "\n",
        "max"
       ]
      },
      {
       "output_type": "stream",
       "stream": "stdout",
       "text": [
        " 0.9 min -0.797673 std 0.162864243638 mean 0.020805286997\n",
        "D:\\Data\\NDVI_anomalySVInormalized//NDVI_2008169.tif\n",
        "\n",
        "max"
       ]
      },
      {
       "output_type": "stream",
       "stream": "stdout",
       "text": [
        " 0.9 min -0.822004 std 0.162945001725 mean 0.0238784290859\n",
        "D:\\Data\\NDVI_anomalySVInormalized//NDVI_2008177.tif\n",
        "\n",
        "max"
       ]
      },
      {
       "output_type": "stream",
       "stream": "stdout",
       "text": [
        " 0.9 min -0.83313 std 0.16273997126 mean 0.025157081356\n",
        "D:\\Data\\NDVI_anomalySVInormalized//NDVI_2008185.tif\n",
        "\n",
        "max"
       ]
      },
      {
       "output_type": "stream",
       "stream": "stdout",
       "text": [
        " 0.9 min -0.832247 std 0.162521342728 mean 0.0244301079233\n",
        "D:\\Data\\NDVI_anomalySVInormalized//NDVI_2008193.tif\n",
        "\n",
        "max"
       ]
      },
      {
       "output_type": "stream",
       "stream": "stdout",
       "text": [
        " 0.9 min -0.83011 std 0.162288820926 mean 0.0217941581731\n",
        "D:\\Data\\NDVI_anomalySVInormalized//NDVI_2008201.tif\n",
        "\n",
        "max"
       ]
      },
      {
       "output_type": "stream",
       "stream": "stdout",
       "text": [
        " 0.9 min -0.841776 std 0.161880291342 mean 0.0176513571219\n",
        "D:\\Data\\NDVI_anomalySVInormalized//NDVI_2008209.tif\n",
        "\n",
        "max"
       ]
      },
      {
       "output_type": "stream",
       "stream": "stdout",
       "text": [
        " 0.9 min -0.829359 std 0.161202808518 mean 0.0126239772656\n",
        "D:\\Data\\NDVI_anomalySVInormalized//NDVI_2008217.tif\n",
        "\n",
        "max"
       ]
      },
      {
       "output_type": "stream",
       "stream": "stdout",
       "text": [
        " 0.9 min -0.831878 std 0.160379844066 mean 0.00747607225157\n",
        "D:\\Data\\NDVI_anomalySVInormalized//NDVI_2008225.tif\n",
        "\n",
        "max"
       ]
      },
      {
       "output_type": "stream",
       "stream": "stdout",
       "text": [
        " 0.9 min -0.84969 std 0.159613906102 mean 0.00297043152633\n",
        "D:\\Data\\NDVI_anomalySVInormalized//NDVI_2008233.tif\n",
        "\n",
        "max"
       ]
      },
      {
       "output_type": "stream",
       "stream": "stdout",
       "text": [
        " 0.9 min -0.834886 std 0.158957735141 mean -0.000278860654009\n",
        "D:\\Data\\NDVI_anomalySVInormalized//NDVI_2008241.tif\n",
        "\n",
        "max"
       ]
      },
      {
       "output_type": "stream",
       "stream": "stdout",
       "text": [
        " 0.9 min -0.831893 std 0.158252008315 mean -0.00187133131849\n",
        "D:\\Data\\NDVI_anomalySVInormalized//NDVI_2008249.tif\n",
        "\n",
        "max"
       ]
      },
      {
       "output_type": "stream",
       "stream": "stdout",
       "text": [
        " 0.9 min -0.817728 std 0.15718359171 mean -0.00170690994044\n",
        "D:\\Data\\NDVI_anomalySVInormalized//NDVI_2008257.tif\n",
        "\n",
        "max"
       ]
      },
      {
       "output_type": "stream",
       "stream": "stdout",
       "text": [
        " 0.9 min -0.812897 std 0.155486730868 mean 1.10716335719e-05\n",
        "D:\\Data\\NDVI_anomalySVInormalized//NDVI_2008265.tif\n",
        "\n",
        "max"
       ]
      },
      {
       "output_type": "stream",
       "stream": "stdout",
       "text": [
        " 0.9 min -0.823515 std 0.153207664258 mean 0.00280707036748\n",
        "D:\\Data\\NDVI_anomalySVInormalized//NDVI_2008273.tif\n",
        "\n",
        "max"
       ]
      },
      {
       "output_type": "stream",
       "stream": "stdout",
       "text": [
        " 0.9 min -0.828648 std 0.15071738067 mean 0.00601749995431\n",
        "D:\\Data\\NDVI_anomalySVInormalized//NDVI_2008281.tif\n",
        "\n",
        "max"
       ]
      },
      {
       "output_type": "stream",
       "stream": "stdout",
       "text": [
        " 0.9 min -0.823477 std 0.148575349659 mean 0.00891211520197\n",
        "D:\\Data\\NDVI_anomalySVInormalized//NDVI_2008289.tif\n",
        "\n",
        "max"
       ]
      },
      {
       "output_type": "stream",
       "stream": "stdout",
       "text": [
        " 0.9 min -0.844731 std 0.147285076452 mean 0.0108162745103\n",
        "D:\\Data\\NDVI_anomalySVInormalized//NDVI_2008297.tif\n",
        "\n",
        "max"
       ]
      },
      {
       "output_type": "stream",
       "stream": "stdout",
       "text": [
        " 0.9 min -0.832777 std 0.146906198743 mean 0.0112314500464\n",
        "D:\\Data\\NDVI_anomalySVInormalized//NDVI_2008305.tif\n",
        "\n",
        "max"
       ]
      },
      {
       "output_type": "stream",
       "stream": "stdout",
       "text": [
        " 0.9 min -0.833609 std 0.147110856245 mean 0.00992317284701\n",
        "D:\\Data\\NDVI_anomalySVInormalized//NDVI_2008313.tif\n",
        "\n",
        "max"
       ]
      },
      {
       "output_type": "stream",
       "stream": "stdout",
       "text": [
        " 0.9 min -0.830517 std 0.147649695247 mean 0.00696467837568\n",
        "D:\\Data\\NDVI_anomalySVInormalized//NDVI_2008321.tif\n",
        "\n",
        "max"
       ]
      },
      {
       "output_type": "stream",
       "stream": "stdout",
       "text": [
        " 0.9 min -0.800105 std 0.148724460893 mean 0.00272760317472\n",
        "D:\\Data\\NDVI_anomalySVInormalized//NDVI_2008329.tif\n",
        "\n",
        "max"
       ]
      },
      {
       "output_type": "stream",
       "stream": "stdout",
       "text": [
        " 0.9 min -0.797731 std 0.151164524746 mean -0.00217652615852\n",
        "D:\\Data\\NDVI_anomalySVInormalized//NDVI_2008337.tif\n",
        "\n",
        "max"
       ]
      },
      {
       "output_type": "stream",
       "stream": "stdout",
       "text": [
        " 0.9 min -0.804155 std 0.156104181534 mean -0.00699948200488\n",
        "D:\\Data\\NDVI_anomalySVInormalized//NDVI_2008345.tif\n",
        "\n",
        "max"
       ]
      },
      {
       "output_type": "stream",
       "stream": "stdout",
       "text": [
        " 0.9 min -0.803192 std 0.164408438345 mean -0.010978470794\n",
        "D:\\Data\\NDVI_anomalySVInormalized//NDVI_2008353.tif\n",
        "\n",
        "max"
       ]
      },
      {
       "output_type": "stream",
       "stream": "stdout",
       "text": [
        " 0.9 min -0.827518 std 0.175037677662 mean -0.013459879493\n",
        "D:\\Data\\NDVI_anomalySVInormalized//NDVI_2008361.tif\n",
        "\n",
        "max"
       ]
      },
      {
       "output_type": "stream",
       "stream": "stdout",
       "text": [
        " 0.9 min -0.813761 std 0.176377410573 mean -0.0365385348642\n",
        "D:\\Data\\NDVI_anomalySVInormalized//NDVI_2009001.tif\n",
        "\n",
        "max"
       ]
      },
      {
       "output_type": "stream",
       "stream": "stdout",
       "text": [
        " 0.9 min -0.817905 std 0.174242976555 mean -0.032225143237\n",
        "D:\\Data\\NDVI_anomalySVInormalized//NDVI_2009009.tif\n",
        "\n",
        "max"
       ]
      },
      {
       "output_type": "stream",
       "stream": "stdout",
       "text": [
        " 0.9 min -0.807337 std 0.172011498071 mean -0.0280525591265\n",
        "D:\\Data\\NDVI_anomalySVInormalized//NDVI_2009017.tif\n",
        "\n",
        "max"
       ]
      },
      {
       "output_type": "stream",
       "stream": "stdout",
       "text": [
        " 0.9 min -0.808171 std 0.169540801662 mean -0.0240388472363\n",
        "D:\\Data\\NDVI_anomalySVInormalized//NDVI_2009025.tif\n",
        "\n",
        "max"
       ]
      },
      {
       "output_type": "stream",
       "stream": "stdout",
       "text": [
        " 0.9 min -0.803935 std 0.166663977152 mean -0.0200921269853\n",
        "D:\\Data\\NDVI_anomalySVInormalized//NDVI_2009033.tif\n",
        "\n",
        "max"
       ]
      },
      {
       "output_type": "stream",
       "stream": "stdout",
       "text": [
        " 0.9 min -0.799219 std 0.163087729375 mean -0.0160725824436\n",
        "D:\\Data\\NDVI_anomalySVInormalized//NDVI_2009041.tif\n",
        "\n",
        "max"
       ]
      },
      {
       "output_type": "stream",
       "stream": "stdout",
       "text": [
        " 0.9 min -0.783521 std 0.158971683293 mean -0.0118365964141\n",
        "D:\\Data\\NDVI_anomalySVInormalized//NDVI_2009049.tif\n",
        "\n",
        "max"
       ]
      },
      {
       "output_type": "stream",
       "stream": "stdout",
       "text": [
        " 0.9 min -0.802341 std 0.154544353357 mean -0.00728528027773\n",
        "D:\\Data\\NDVI_anomalySVInormalized//NDVI_2009057.tif\n",
        "\n",
        "max"
       ]
      },
      {
       "output_type": "stream",
       "stream": "stdout",
       "text": [
        " 0.9 min -0.795027 std 0.150152488598 mean -0.00240461100783\n",
        "D:\\Data\\NDVI_anomalySVInormalized//NDVI_2009065.tif\n",
        "\n",
        "max"
       ]
      },
      {
       "output_type": "stream",
       "stream": "stdout",
       "text": [
        " 0.9 min -0.784289 std 0.14600429062 mean 0.00269398745686\n",
        "D:\\Data\\NDVI_anomalySVInormalized//NDVI_2009073.tif\n",
        "\n",
        "max"
       ]
      },
      {
       "output_type": "stream",
       "stream": "stdout",
       "text": [
        " 0.9 min -0.775059 std 0.142154043517 mean 0.00777311080233\n",
        "D:\\Data\\NDVI_anomalySVInormalized//NDVI_2009081.tif\n",
        "\n",
        "max"
       ]
      },
      {
       "output_type": "stream",
       "stream": "stdout",
       "text": [
        " 0.9 min -0.781632 std 0.138664183307 mean 0.0124872600485\n",
        "D:\\Data\\NDVI_anomalySVInormalized//NDVI_2009089.tif\n",
        "\n",
        "max"
       ]
      },
      {
       "output_type": "stream",
       "stream": "stdout",
       "text": [
        " 0.9 min -0.80516 std 0.135723814681 mean 0.0164218421672\n",
        "D:\\Data\\NDVI_anomalySVInormalized//NDVI_2009097.tif\n",
        "\n",
        "max"
       ]
      },
      {
       "output_type": "stream",
       "stream": "stdout",
       "text": [
        " 0.9 min -0.813485 std 0.13367329465 mean 0.0191549781584\n",
        "D:\\Data\\NDVI_anomalySVInormalized//NDVI_2009105.tif\n",
        "\n",
        "max"
       ]
      },
      {
       "output_type": "stream",
       "stream": "stdout",
       "text": [
        " 0.9 min -0.783385 std 0.132957926036 mean 0.0203263946862\n",
        "D:\\Data\\NDVI_anomalySVInormalized//NDVI_2009113.tif\n",
        "\n",
        "max"
       ]
      },
      {
       "output_type": "stream",
       "stream": "stdout",
       "text": [
        " 0.9 min -0.771253 std 0.133944230053 mean 0.0196811415676\n",
        "D:\\Data\\NDVI_anomalySVInormalized//NDVI_2009121.tif\n",
        "\n",
        "max"
       ]
      },
      {
       "output_type": "stream",
       "stream": "stdout",
       "text": [
        " 0.9 min -0.781954 std 0.136699420003 mean 0.0171487791371\n",
        "D:\\Data\\NDVI_anomalySVInormalized//NDVI_2009129.tif\n",
        "\n",
        "max"
       ]
      },
      {
       "output_type": "stream",
       "stream": "stdout",
       "text": [
        " 0.9 min -0.799668 std 0.140980140216 mean 0.0128343976699\n",
        "D:\\Data\\NDVI_anomalySVInormalized//NDVI_2009137.tif\n",
        "\n",
        "max"
       ]
      },
      {
       "output_type": "stream",
       "stream": "stdout",
       "text": [
        " 0.9 min -0.820273 std 0.146347639097 mean 0.00705038762494\n",
        "D:\\Data\\NDVI_anomalySVInormalized//NDVI_2009145.tif\n",
        "\n",
        "max"
       ]
      },
      {
       "output_type": "stream",
       "stream": "stdout",
       "text": [
        " 0.9 min -0.833711 std 0.15238865626 mean 0.000259463961104\n",
        "D:\\Data\\NDVI_anomalySVInormalized//NDVI_2009153.tif\n",
        "\n",
        "max"
       ]
      },
      {
       "output_type": "stream",
       "stream": "stdout",
       "text": [
        " 0.9 min -0.810663 std 0.158804006735 mean -0.00696797489517\n",
        "D:\\Data\\NDVI_anomalySVInormalized//NDVI_2009161.tif\n",
        "\n",
        "max"
       ]
      },
      {
       "output_type": "stream",
       "stream": "stdout",
       "text": [
        " 0.9 min -0.821258 std 0.165277237229 mean -0.0140263277146\n",
        "D:\\Data\\NDVI_anomalySVInormalized//NDVI_2009169.tif\n",
        "\n",
        "max"
       ]
      },
      {
       "output_type": "stream",
       "stream": "stdout",
       "text": [
        " 0.9 min -0.819032 std 0.171279773529 mean -0.0203624710141\n",
        "D:\\Data\\NDVI_anomalySVInormalized//NDVI_2009177.tif\n",
        "\n",
        "max"
       ]
      },
      {
       "output_type": "stream",
       "stream": "stdout",
       "text": [
        " 0.9 min -0.832134 std 0.1763364217 mean -0.0255390632599\n",
        "D:\\Data\\NDVI_anomalySVInormalized//NDVI_2009185.tif\n",
        "\n",
        "max"
       ]
      },
      {
       "output_type": "stream",
       "stream": "stdout",
       "text": [
        " 0.9 min -0.821526 std 0.179769972353 mean -0.0293072435513\n",
        "D:\\Data\\NDVI_anomalySVInormalized//NDVI_2009193.tif\n",
        "\n",
        "max"
       ]
      },
      {
       "output_type": "stream",
       "stream": "stdout",
       "text": [
        " 0.9 min -0.827639 std 0.180995830504 mean -0.031595553964\n",
        "D:\\Data\\NDVI_anomalySVInormalized//NDVI_2009201.tif\n",
        "\n",
        "max"
       ]
      },
      {
       "output_type": "stream",
       "stream": "stdout",
       "text": [
        " 0.9 min -0.825531 std 0.179759567311 mean -0.0325654627922\n",
        "D:\\Data\\NDVI_anomalySVInormalized//NDVI_2009209.tif\n",
        "\n",
        "max"
       ]
      },
      {
       "output_type": "stream",
       "stream": "stdout",
       "text": [
        " 0.9 min -0.82742 std 0.176164492066 mean -0.0325462695754\n",
        "D:\\Data\\NDVI_anomalySVInormalized//NDVI_2009217.tif\n",
        "\n",
        "max"
       ]
      },
      {
       "output_type": "stream",
       "stream": "stdout",
       "text": [
        " 0.9 min -0.797809 std 0.170779333807 mean -0.0319730425019\n",
        "D:\\Data\\NDVI_anomalySVInormalized//NDVI_2009225.tif\n",
        "\n",
        "max"
       ]
      },
      {
       "output_type": "stream",
       "stream": "stdout",
       "text": [
        " 0.9 min -0.802536 std 0.164477392395 mean -0.0313413386428\n",
        "D:\\Data\\NDVI_anomalySVInormalized//NDVI_2009233.tif\n",
        "\n",
        "max"
       ]
      },
      {
       "output_type": "stream",
       "stream": "stdout",
       "text": [
        " 0.9 min -0.805332 std 0.158081791452 mean -0.0311149981729\n",
        "D:\\Data\\NDVI_anomalySVInormalized//NDVI_2009241.tif\n",
        "\n",
        "max"
       ]
      },
      {
       "output_type": "stream",
       "stream": "stdout",
       "text": [
        " 0.9 min -0.80504 std 0.152453652195 mean -0.0316264896123\n",
        "D:\\Data\\NDVI_anomalySVInormalized//NDVI_2009249.tif\n",
        "\n",
        "max"
       ]
      },
      {
       "output_type": "stream",
       "stream": "stdout",
       "text": [
        " 0.9 min -0.800814 std 0.147994747299 mean -0.0330999680376\n",
        "D:\\Data\\NDVI_anomalySVInormalized//NDVI_2009257.tif\n",
        "\n",
        "max"
       ]
      },
      {
       "output_type": "stream",
       "stream": "stdout",
       "text": [
        " 0.9 min -0.795879 std 0.144695888609 mean -0.0355423661782\n",
        "D:\\Data\\NDVI_anomalySVInormalized//NDVI_2009265.tif\n",
        "\n",
        "max"
       ]
      },
      {
       "output_type": "stream",
       "stream": "stdout",
       "text": [
        " 0.9 min -0.823413 std 0.142646679558 mean -0.0387768146845\n",
        "D:\\Data\\NDVI_anomalySVInormalized//NDVI_2009273.tif\n",
        "\n",
        "max"
       ]
      },
      {
       "output_type": "stream",
       "stream": "stdout",
       "text": [
        " 0.9 min -0.821554 std 0.142144668427 mean -0.042491378567\n",
        "D:\\Data\\NDVI_anomalySVInormalized//NDVI_2009281.tif\n",
        "\n",
        "max"
       ]
      },
      {
       "output_type": "stream",
       "stream": "stdout",
       "text": [
        " 0.9 min -0.813141 std 0.143681720551 mean -0.0462823508056\n",
        "D:\\Data\\NDVI_anomalySVInormalized//NDVI_2009289.tif\n",
        "\n",
        "max"
       ]
      },
      {
       "output_type": "stream",
       "stream": "stdout",
       "text": [
        " 0.9 min -0.82988 std 0.147574182725 mean -0.0496949154394\n",
        "D:\\Data\\NDVI_anomalySVInormalized//NDVI_2009297.tif\n",
        "\n",
        "max"
       ]
      },
      {
       "output_type": "stream",
       "stream": "stdout",
       "text": [
        " 0.9 min -0.834841 std 0.153607399549 mean -0.0523200217492\n",
        "D:\\Data\\NDVI_anomalySVInormalized//NDVI_2009305.tif\n",
        "\n",
        "max"
       ]
      },
      {
       "output_type": "stream",
       "stream": "stdout",
       "text": [
        " 0.9 min -0.832189 std 0.16090909183 mean -0.0538276154148\n",
        "D:\\Data\\NDVI_anomalySVInormalized//NDVI_2009313.tif\n",
        "\n",
        "max"
       ]
      },
      {
       "output_type": "stream",
       "stream": "stdout",
       "text": [
        " 0.9 min -0.826635 std 0.168060620924 mean -0.0540534690983\n",
        "D:\\Data\\NDVI_anomalySVInormalized//NDVI_2009321.tif\n",
        "\n",
        "max"
       ]
      },
      {
       "output_type": "stream",
       "stream": "stdout",
       "text": [
        " 0.9 min -0.836809 std 0.173740843469 mean -0.0529630781193\n",
        "D:\\Data\\NDVI_anomalySVInormalized//NDVI_2009329.tif\n",
        "\n",
        "max"
       ]
      },
      {
       "output_type": "stream",
       "stream": "stdout",
       "text": [
        " 0.9 min -0.852049 std 0.177562788406 mean -0.0506760440047\n",
        "D:\\Data\\NDVI_anomalySVInormalized//NDVI_2009337.tif\n",
        "\n",
        "max"
       ]
      },
      {
       "output_type": "stream",
       "stream": "stdout",
       "text": [
        " 0.9 min -0.86374 std 0.179227021226 mean -0.0474291853068\n",
        "D:\\Data\\NDVI_anomalySVInormalized//NDVI_2009345.tif\n",
        "\n",
        "max"
       ]
      },
      {
       "output_type": "stream",
       "stream": "stdout",
       "text": [
        " 0.9 min -0.843547 std 0.179023090632 mean -0.0435236466618\n",
        "D:\\Data\\NDVI_anomalySVInormalized//NDVI_2009353.tif\n",
        "\n",
        "max"
       ]
      },
      {
       "output_type": "stream",
       "stream": "stdout",
       "text": [
        " 0.9 min -0.820491 std 0.177582498608 mean -0.0392655122921\n",
        "D:\\Data\\NDVI_anomalySVInormalized//NDVI_2009361.tif\n",
        "\n",
        "max"
       ]
      },
      {
       "output_type": "stream",
       "stream": "stdout",
       "text": [
        " 0.9 min -0.852687 std 0.231033597866 mean 0.00307121898388\n",
        "D:\\Data\\NDVI_anomalySVInormalized//NDVI_2010001.tif\n",
        "\n",
        "max"
       ]
      },
      {
       "output_type": "stream",
       "stream": "stdout",
       "text": [
        " 0.9 min -0.850181 std 0.234888188995 mean -0.000741298279913\n",
        "D:\\Data\\NDVI_anomalySVInormalized//NDVI_2010009.tif\n",
        "\n",
        "max"
       ]
      },
      {
       "output_type": "stream",
       "stream": "stdout",
       "text": [
        " 0.9 min -0.856616 std 0.236936568845 mean -0.00519923582398\n",
        "D:\\Data\\NDVI_anomalySVInormalized//NDVI_2010017.tif\n",
        "\n",
        "max"
       ]
      },
      {
       "output_type": "stream",
       "stream": "stdout",
       "text": [
        " 0.9 min -0.851297 std 0.236730471276 mean -0.0104592776106\n",
        "D:\\Data\\NDVI_anomalySVInormalized//NDVI_2010025.tif\n",
        "\n",
        "max"
       ]
      },
      {
       "output_type": "stream",
       "stream": "stdout",
       "text": [
        " 0.9 min -0.851625 std 0.234063421582 mean -0.0163774726864\n",
        "D:\\Data\\NDVI_anomalySVInormalized//NDVI_2010033.tif\n",
        "\n",
        "max"
       ]
      },
      {
       "output_type": "stream",
       "stream": "stdout",
       "text": [
        " 0.9 min -0.869848 std 0.229167798664 mean -0.0225116421699\n",
        "D:\\Data\\NDVI_anomalySVInormalized//NDVI_2010041.tif\n",
        "\n",
        "max"
       ]
      },
      {
       "output_type": "stream",
       "stream": "stdout",
       "text": [
        " 0.9 min -0.863872 std 0.222801666894 mean -0.0281520410262\n",
        "D:\\Data\\NDVI_anomalySVInormalized//NDVI_2010049.tif\n",
        "\n",
        "max"
       ]
      },
      {
       "output_type": "stream",
       "stream": "stdout",
       "text": [
        " 0.9 min -0.858194 std 0.215946253805 mean -0.0324414488017\n",
        "D:\\Data\\NDVI_anomalySVInormalized//NDVI_2010057.tif\n",
        "\n",
        "max"
       ]
      },
      {
       "output_type": "stream",
       "stream": "stdout",
       "text": [
        " 0.9 min -0.851624 std 0.209574646871 mean -0.0345196660179\n",
        "D:\\Data\\NDVI_anomalySVInormalized//NDVI_2010065.tif\n",
        "\n",
        "max"
       ]
      },
      {
       "output_type": "stream",
       "stream": "stdout",
       "text": [
        " 0.9 min -0.84043 std 0.204378655447 mean -0.0336929661639\n",
        "D:\\Data\\NDVI_anomalySVInormalized//NDVI_2010073.tif\n",
        "\n",
        "max"
       ]
      },
      {
       "output_type": "stream",
       "stream": "stdout",
       "text": [
        " 0.9 min -0.831713 std 0.200433704291 mean -0.0295515566514\n",
        "D:\\Data\\NDVI_anomalySVInormalized//NDVI_2010081.tif\n",
        "\n",
        "max"
       ]
      },
      {
       "output_type": "stream",
       "stream": "stdout",
       "text": [
        " 0.9 min -0.840752 std 0.197457094004 mean -0.0220889077507\n",
        "D:\\Data\\NDVI_anomalySVInormalized//NDVI_2010089.tif\n",
        "\n",
        "max"
       ]
      },
      {
       "output_type": "stream",
       "stream": "stdout",
       "text": [
        " 0.9 min -0.839118 std 0.195101625572 mean -0.0117405142294\n",
        "D:\\Data\\NDVI_anomalySVInormalized//NDVI_2010097.tif\n",
        "\n",
        "max"
       ]
      },
      {
       "output_type": "stream",
       "stream": "stdout",
       "text": [
        " 0.9 min -0.845595 std 0.19329563056 mean 0.000644360229246\n",
        "D:\\Data\\NDVI_anomalySVInormalized//NDVI_2010105.tif\n",
        "\n",
        "max"
       ]
      },
      {
       "output_type": "stream",
       "stream": "stdout",
       "text": [
        " 0.9 min -0.850897 std 0.19248286684 mean 0.0138964329324\n",
        "D:\\Data\\NDVI_anomalySVInormalized//NDVI_2010113.tif\n",
        "\n",
        "max"
       ]
      },
      {
       "output_type": "stream",
       "stream": "stdout",
       "text": [
        " 0.9 min -0.834404 std 0.193411976254 mean 0.0266873496387\n",
        "D:\\Data\\NDVI_anomalySVInormalized//NDVI_2010121.tif\n",
        "\n",
        "max"
       ]
      },
      {
       "output_type": "stream",
       "stream": "stdout",
       "text": [
        " 0.9 min -0.839803 std 0.19690375597 mean 0.037707869378\n",
        "D:\\Data\\NDVI_anomalySVInormalized//NDVI_2010129.tif\n",
        "\n",
        "max"
       ]
      },
      {
       "output_type": "stream",
       "stream": "stdout",
       "text": [
        " 0.9 min -0.846992 std 0.203261260623 mean 0.0458580324286\n",
        "D:\\Data\\NDVI_anomalySVInormalized//NDVI_2010137.tif\n",
        "\n",
        "max"
       ]
      },
      {
       "output_type": "stream",
       "stream": "stdout",
       "text": [
        " 0.9 min -0.846468 std 0.21207915112 mean 0.0503954105238\n",
        "D:\\Data\\NDVI_anomalySVInormalized//NDVI_2010145.tif\n",
        "\n",
        "max"
       ]
      },
      {
       "output_type": "stream",
       "stream": "stdout",
       "text": [
        " 0.9 min -0.844442 std 0.222351143849 mean 0.0510971499123\n",
        "D:\\Data\\NDVI_anomalySVInormalized//NDVI_2010153.tif\n",
        "\n",
        "max"
       ]
      },
      {
       "output_type": "stream",
       "stream": "stdout",
       "text": [
        " 0.9 min -0.86306 std 0.232710594827 mean 0.0482189790829\n",
        "D:\\Data\\NDVI_anomalySVInormalized//NDVI_2010161.tif\n",
        "\n",
        "max"
       ]
      },
      {
       "output_type": "stream",
       "stream": "stdout",
       "text": [
        " 0.9 min -0.870501 std 0.241699752537 mean 0.0425443791496\n",
        "D:\\Data\\NDVI_anomalySVInormalized//NDVI_2010169.tif\n",
        "\n",
        "max"
       ]
      },
      {
       "output_type": "stream",
       "stream": "stdout",
       "text": [
        " 0.9 min -0.867061 std 0.248564262911 mean 0.0351874056951\n",
        "D:\\Data\\NDVI_anomalySVInormalized//NDVI_2010177.tif\n",
        "\n",
        "max"
       ]
      },
      {
       "output_type": "stream",
       "stream": "stdout",
       "text": [
        " 0.9 min -0.861732 std 0.252688798462 mean 0.0274819015213\n",
        "D:\\Data\\NDVI_anomalySVInormalized//NDVI_2010185.tif\n",
        "\n",
        "max"
       ]
      },
      {
       "output_type": "stream",
       "stream": "stdout",
       "text": [
        " 0.9 min -0.868291 std 0.254034796034 mean 0.0207849268175\n",
        "D:\\Data\\NDVI_anomalySVInormalized//NDVI_2010193.tif\n",
        "\n",
        "max"
       ]
      },
      {
       "output_type": "stream",
       "stream": "stdout",
       "text": [
        " 0.9 min -0.864998 std 0.252905717511 mean 0.0162282341783\n",
        "D:\\Data\\NDVI_anomalySVInormalized//NDVI_2010201.tif\n",
        "\n",
        "max"
       ]
      },
      {
       "output_type": "stream",
       "stream": "stdout",
       "text": [
        " 0.9 min -0.854604 std 0.249868793222 mean 0.0146160636196\n",
        "D:\\Data\\NDVI_anomalySVInormalized//NDVI_2010209.tif\n",
        "\n",
        "max"
       ]
      },
      {
       "output_type": "stream",
       "stream": "stdout",
       "text": [
        " 0.9 min -0.858266 std 0.245632749835 mean 0.0162762267041\n",
        "D:\\Data\\NDVI_anomalySVInormalized//NDVI_2010217.tif\n",
        "\n",
        "max"
       ]
      },
      {
       "output_type": "stream",
       "stream": "stdout",
       "text": [
        " 0.9 min -0.857503 std 0.24085984495 mean 0.0210366446623\n",
        "D:\\Data\\NDVI_anomalySVInormalized//NDVI_2010225.tif\n",
        "\n",
        "max"
       ]
      },
      {
       "output_type": "stream",
       "stream": "stdout",
       "text": [
        " 0.9 min -0.866186 std 0.235957773811 mean 0.0282449360397\n",
        "D:\\Data\\NDVI_anomalySVInormalized//NDVI_2010233.tif\n",
        "\n",
        "max"
       ]
      },
      {
       "output_type": "stream",
       "stream": "stdout",
       "text": [
        " 0.9 min -0.854244 std 0.230843378329 mean 0.0369110296215\n",
        "D:\\Data\\NDVI_anomalySVInormalized//NDVI_2010241.tif\n",
        "\n",
        "max"
       ]
      },
      {
       "output_type": "stream",
       "stream": "stdout",
       "text": [
        " 0.9 min -0.852612 std 0.225475102698 mean 0.0458356934827\n",
        "D:\\Data\\NDVI_anomalySVInormalized//NDVI_2010249.tif\n",
        "\n",
        "max"
       ]
      },
      {
       "output_type": "stream",
       "stream": "stdout",
       "text": [
        " 0.9 min -0.844984 std 0.219666657657 mean 0.053816364048\n",
        "D:\\Data\\NDVI_anomalySVInormalized//NDVI_2010257.tif\n",
        "\n",
        "max"
       ]
      },
      {
       "output_type": "stream",
       "stream": "stdout",
       "text": [
        " 0.9 min -0.844287 std 0.213342406695 mean 0.0597963208647\n",
        "D:\\Data\\NDVI_anomalySVInormalized//NDVI_2010265.tif\n",
        "\n",
        "max"
       ]
      },
      {
       "output_type": "stream",
       "stream": "stdout",
       "text": [
        " 0.9 min -0.847164 std 0.20666221732 mean 0.0630364307621\n",
        "D:\\Data\\NDVI_anomalySVInormalized//NDVI_2010273.tif\n",
        "\n",
        "max"
       ]
      },
      {
       "output_type": "stream",
       "stream": "stdout",
       "text": [
        " 0.9 min -0.855765 std 0.200304056334 mean 0.0632109458723\n",
        "D:\\Data\\NDVI_anomalySVInormalized//NDVI_2010281.tif\n",
        "\n",
        "max"
       ]
      },
      {
       "output_type": "stream",
       "stream": "stdout",
       "text": [
        " 0.9 min -0.840317 std 0.195168264916 mean 0.0604177351714\n",
        "D:\\Data\\NDVI_anomalySVInormalized//NDVI_2010289.tif\n",
        "\n",
        "max"
       ]
      },
      {
       "output_type": "stream",
       "stream": "stdout",
       "text": [
        " 0.9 min -0.851884 std 0.192182400858 mean 0.0551137849616\n",
        "D:\\Data\\NDVI_anomalySVInormalized//NDVI_2010297.tif\n",
        "\n",
        "max"
       ]
      },
      {
       "output_type": "stream",
       "stream": "stdout",
       "text": [
        " 0.9 min -0.846924 std 0.191881869977 mean 0.0480393435038\n",
        "D:\\Data\\NDVI_anomalySVInormalized//NDVI_2010305.tif\n",
        "\n",
        "max"
       ]
      },
      {
       "output_type": "stream",
       "stream": "stdout",
       "text": [
        " 0.9 min -0.843698 std 0.194206319639 mean 0.0400770937649\n",
        "D:\\Data\\NDVI_anomalySVInormalized//NDVI_2010313.tif\n",
        "\n",
        "max"
       ]
      },
      {
       "output_type": "stream",
       "stream": "stdout",
       "text": [
        " 0.9 min -0.843367 std 0.198560392434 mean 0.0320560239613\n",
        "D:\\Data\\NDVI_anomalySVInormalized//NDVI_2010321.tif\n",
        "\n",
        "max"
       ]
      },
      {
       "output_type": "stream",
       "stream": "stdout",
       "text": [
        " 0.9 min -0.846053 std 0.204151345173 mean 0.024670082284\n",
        "D:\\Data\\NDVI_anomalySVInormalized//NDVI_2010329.tif\n",
        "\n",
        "max"
       ]
      },
      {
       "output_type": "stream",
       "stream": "stdout",
       "text": [
        " 0.9 min -0.848166 std 0.21024197166 mean 0.0183318530589\n",
        "D:\\Data\\NDVI_anomalySVInormalized//NDVI_2010337.tif\n",
        "\n",
        "max"
       ]
      },
      {
       "output_type": "stream",
       "stream": "stdout",
       "text": [
        " 0.9 min -0.85192 std 0.216435480765 mean 0.0131536873409\n",
        "D:\\Data\\NDVI_anomalySVInormalized//NDVI_2010345.tif\n",
        "\n",
        "max"
       ]
      },
      {
       "output_type": "stream",
       "stream": "stdout",
       "text": [
        " 0.9 min -0.859249 std 0.222447053342 mean 0.00894129546101\n",
        "D:\\Data\\NDVI_anomalySVInormalized//NDVI_2010353.tif\n",
        "\n",
        "max"
       ]
      },
      {
       "output_type": "stream",
       "stream": "stdout",
       "text": [
        " 0.9 min -0.86421 std 0.227969421117 mean 0.00529243585408\n",
        "D:\\Data\\NDVI_anomalySVInormalized//NDVI_2010361.tif\n"
       ]
      }
     ],
     "prompt_number": 8
    },
    {
     "cell_type": "heading",
     "level": 1,
     "metadata": {},
     "source": [
      "Accumulate output for each year"
     ]
    },
    {
     "cell_type": "code",
     "collapsed": false,
     "input": [
      "path = r'D:\\Data\\NDVI_agg_clip'\n",
      "files = dl.FilesFolder(path, '.tif')\n",
      "\n",
      "# open basefile\n",
      "ds = gdal.Open(files[0])\n",
      "band = ds.GetRasterBand(1)\n",
      "nan = band.GetNoDataValue()\n",
      "if nan == None:\n",
      "    nan = -99999.0\n",
      "arr = band.ReadAsArray()\n",
      "print ('gt:', ds.GetGeoTransform(), '\\nproj', ds.GetProjection(), '\\nnan', nan )\n",
      "\n",
      "for year in range(2000,2014):\n",
      "    print ('\\n',year)\n",
      "\n",
      "    # select all files for each year        \n",
      "    annual = []        \n",
      "    for fil in files:\n",
      "        if int(fil[-11:-7]) == year:\n",
      "            annual.append(fil)\n",
      "\n",
      "    # create base_array        \n",
      "    base_array = np.full_like(arr, nan)        \n",
      "    base_array = base_array[None]\n",
      "\n",
      "    for i in annual:\n",
      "        print ('in', i)\n",
      "        array = gdal.Open(i).ReadAsArray()\n",
      "        array = array[None]\n",
      "        \n",
      "        base_array = np.vstack((base_array, array))\n",
      "\n",
      "        # mask nan values and calculate sum/accumulation over axis 0        \n",
      "        base_array = np.ma.masked_values(base_array, nan)\n",
      "        #base_array = base_array.mean(axis=0)\n",
      "        base_array = base_array.sum(axis=0)\n",
      "\n",
      "        print ('max',base_array.max(),'min', base_array.min(), 'std', base_array.std(), 'mean', base_array.mean() )\n",
      "\n",
      "        # set outpath\n",
      "        folder = r'D:\\Data\\NDVI_agg_clip_AnnualAcc//'\n",
      "        filename = i[-16::]\n",
      "        path = folder+filename\n",
      "        print ('out', path)\n",
      "\n",
      "        #print(base_array.data)\n",
      "        dl.saveRaster(path, base_array.data, ds, 6, nan=nan)        \n",
      "        base_array = base_array[None]"
     ],
     "language": "python",
     "metadata": {},
     "outputs": []
    },
    {
     "cell_type": "heading",
     "level": 1,
     "metadata": {},
     "source": [
      "Annual mean calculated accumulated"
     ]
    },
    {
     "cell_type": "code",
     "collapsed": false,
     "input": [
      "path = r'D:\\Data\\NDVI_agg_clip_annualMean'\n",
      "files = dl.FilesFolder(path, '.tif')\n",
      "\n",
      "# open basefile\n",
      "ds = gdal.Open(files[0])\n",
      "band = ds.GetRasterBand(1)\n",
      "nan = band.GetNoDataValue()\n",
      "if nan == None:\n",
      "    nan = -99999.0\n",
      "arr = band.ReadAsArray()\n",
      "\n",
      "# create base_array        \n",
      "base_array = np.full_like(arr, nan)        \n",
      "base_array = base_array[None]\n",
      "\n",
      "print ('gt:', ds.GetGeoTransform(), '\\nproj', ds.GetProjection(), '\\nnan', nan )\n",
      "\n",
      "\n",
      "for i in files:\n",
      "    print ('in', i)\n",
      "    array = gdal.Open(i).ReadAsArray()\n",
      "    array = array[None]\n",
      "\n",
      "    base_array = np.vstack((base_array, array))\n",
      "\n",
      "    # mask nan values and calculate sum/accumulation over axis 0        \n",
      "    base_array = np.ma.masked_values(base_array, nan)\n",
      "    #base_array = base_array.mean(axis=0)\n",
      "    base_array = base_array.sum(axis=0)\n",
      "\n",
      "    print ('max',base_array.max(),'min', base_array.min(), 'std', base_array.std(), 'mean', base_array.mean() )\n",
      "\n",
      "    # set outpath\n",
      "    folder = r'D:\\Data\\NDVI_agg_clip_annualMeanAnnualAcc//'\n",
      "    filename = i[-12::]\n",
      "    path = folder+filename\n",
      "    print ('out', path)\n",
      "\n",
      "    #print(base_array.data)\n",
      "    dl.saveRaster(path, base_array.data, ds, 6, nan=nan)        \n",
      "    base_array = base_array[None]\n",
      "\n",
      "base_array = None\n",
      "array = None"
     ],
     "language": "python",
     "metadata": {},
     "outputs": []
    },
    {
     "cell_type": "code",
     "collapsed": false,
     "input": [
      "%matplotlib inline\n",
      "import matplotlib.pyplot as plt\n",
      "p = r'D:\\Data\\NDVI_agg_clip_maxmin//NDVI_agg_max.tif'\n",
      "arr = gdal.Open(p).ReadAsArray()\n",
      "plt.imshow(arr)"
     ],
     "language": "python",
     "metadata": {},
     "outputs": []
    },
    {
     "cell_type": "code",
     "collapsed": false,
     "input": [
      "# ____________________________\n",
      "# MAXIMUM\n",
      "\n",
      "path = r'D:\\Data\\NDVI_agg_clip_anomalySVI'\n",
      "files = dl.FilesFolder(path, '.tif')\n",
      "\n",
      "ds = gdal.Open(files[0])\n",
      "band = ds.GetRasterBand(1)\n",
      "barray = band.ReadAsArray()\n",
      "nan = band.GetNoDataValue()\n",
      "\n",
      "\n",
      "base = np.full_like(barray, nan)\n",
      "base = base[None] # add another dimenstion for vstack\n",
      "\n",
      "for fil in files: \n",
      "    array = gdal.Open(fil).ReadAsArray().astype(float)\n",
      "\n",
      "    array = array[None] # add another dimension for vstack\n",
      "    base = np.vstack((base,array)) # vstack all rasters with same doy\n",
      "            \n",
      "# mask where value is nan\n",
      "print(base.shape)\n",
      "basem = np.min(base, axis=0)\n",
      "#basem.max()\n",
      "basemx = np.ma.masked_equal(basem, nan)\n",
      "plt.hist(basemx)\n",
      "\n",
      "#base = np.ma.masked_equal(base, nan)\n",
      "#base = np.max(base, axis=0)\n",
      "#basemx.data[basemx.data > 0.95] = 0.0\n",
      "\n",
      "#base = np.std(base, axis=0) #unhash for standard deviation calculation\n",
      "#base = np.max(base, axis=0)\n",
      "\n",
      "\n",
      "outfolder = r'D:\\Data\\NDVI_agg_clip_maxmin//NDVI_agg_clip_anomalySVImin.tif' #replace 'GPCP_30acc_annualMean' with 'GPCP_30acc_annualStd' for standard deviation folder\n",
      "#outfolder = r'D:\\Data\\GPCP_30acc_maxmin//GPCP_30acc_std.tif'\n",
      "\n",
      "outpath = outfolder\n",
      "print (outpath)\n",
      "print (base.shape)\n",
      "print (nan)\n",
      "\n",
      "dl.saveRaster(outpath, basemx.data, ds, 6)#nan=nan"
     ],
     "language": "python",
     "metadata": {},
     "outputs": []
    },
    {
     "cell_type": "code",
     "collapsed": false,
     "input": [
      "dl.saveRaster(outpath, basem, ds, 6, nan=0.0)"
     ],
     "language": "python",
     "metadata": {},
     "outputs": []
    },
    {
     "cell_type": "code",
     "collapsed": false,
     "input": [
      "p = r'D:\\Data\\NDVI_agg_clip_maxmin//NDVI_agg_clip_anomalySVImin.tif'\n",
      "ds = gdal.Open(p)\n",
      "bn = ds.GetRasterBand(1)\n",
      "nan = bn.GetNoDataValue()\n",
      "arr = bn.ReadAsArray()\n",
      "arr2 = np.ma.masked_equal(arr, nan)"
     ],
     "language": "python",
     "metadata": {},
     "outputs": []
    },
    {
     "cell_type": "code",
     "collapsed": false,
     "input": [
      "nan"
     ],
     "language": "python",
     "metadata": {},
     "outputs": []
    },
    {
     "cell_type": "code",
     "collapsed": false,
     "input": [
      "pl = plt.imshow(arr2)\n",
      "plt.colorbar(pl)"
     ],
     "language": "python",
     "metadata": {},
     "outputs": []
    },
    {
     "cell_type": "code",
     "collapsed": false,
     "input": [
      "plt.hist(arr)"
     ],
     "language": "python",
     "metadata": {},
     "outputs": []
    },
    {
     "cell_type": "code",
     "collapsed": false,
     "input": [
      "nan"
     ],
     "language": "python",
     "metadata": {},
     "outputs": []
    },
    {
     "cell_type": "code",
     "collapsed": false,
     "input": [
      "nan2"
     ],
     "language": "python",
     "metadata": {},
     "outputs": []
    }
   ],
   "metadata": {}
  }
 ]
}