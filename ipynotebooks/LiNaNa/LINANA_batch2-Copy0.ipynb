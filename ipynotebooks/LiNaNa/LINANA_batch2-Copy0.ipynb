{
 "metadata": {
  "name": ""
 },
 "nbformat": 3,
 "nbformat_minor": 0,
 "worksheets": [
  {
   "cells": [
    {
     "cell_type": "code",
     "collapsed": false,
     "input": [
      "from mpl_toolkits.basemap import Basemap\n",
      "from osgeo import osr, gdal\n",
      "import matplotlib.pyplot as plt\n",
      "import numpy as np\n",
      "import os\n",
      "print ('modules loaded')"
     ],
     "language": "python",
     "metadata": {},
     "outputs": [
      {
       "output_type": "stream",
       "stream": "stdout",
       "text": [
        "modules loaded\n"
       ]
      }
     ],
     "prompt_number": 3
    },
    {
     "cell_type": "code",
     "collapsed": false,
     "input": [
      "RasterFolder = r'D:\\Data\\NDVIanomalytimeseries'\n",
      "#ShapefilePath = r'D:\\Downloads\\LiZhangsheng@Mattijn\\geo_boundary//heihe'\n",
      "ShapefilePath = r'D:\\Downloads\\Linana@Mattijn\\heihe_upmiddownstreamboundary//heihe_upmiddownstream'\n",
      "OutFolder = r'D:\\Data\\NDVIanomalytimeseriesPNG//'\n",
      "\n",
      "Prefix = 'G0_Ma_SEBAL'\n",
      "TitlePlot = '2009-06-03'\n",
      "LegendDescription = 'G0_Ma_SEBAL (W/m2)'"
     ],
     "language": "python",
     "metadata": {},
     "outputs": [],
     "prompt_number": 44
    },
    {
     "cell_type": "code",
     "collapsed": false,
     "input": [
      "def convertXY(xy_source, inproj, outproj):\n",
      "    # function to convert coordinates\n",
      "\n",
      "    shape = xy_source[0,:,:].shape\n",
      "    size = xy_source[0,:,:].size\n",
      "\n",
      "    # the ct object takes and returns pairs of x,y, not 2d grids\n",
      "    # so the the grid needs to be reshaped (flattened) and back.\n",
      "    ct = osr.CoordinateTransformation(inproj, outproj)\n",
      "    xy_target = np.array(ct.TransformPoints(xy_source.reshape(2, size).T))\n",
      "\n",
      "    xx = xy_target[:,0].reshape(shape)\n",
      "    yy = xy_target[:,1].reshape(shape)\n",
      "\n",
      "    return xx, yy\n",
      "    \n",
      "def listall(RootFolder, varname=''):\n",
      "    lists = [os.path.join(root, name)    \n",
      "                 for root, dirs, files in os.walk(RootFolder)\n",
      "                   for name in files\n",
      "                   if varname in name\n",
      "                     if name.endswith('.tif')]\n",
      "    return lists\n",
      "  \n",
      "def setMap(rasterBase):\n",
      "\n",
      "    # Read the data and metadata\n",
      "    ds = gdal.Open(rasterBase)\n",
      "    #band = ds.GetRasterBand(20)\n",
      "    \n",
      "    data = ds.ReadAsArray()\n",
      "    gt = ds.GetGeoTransform()\n",
      "    proj = ds.GetProjection()\n",
      "    \n",
      "    nan = ds.GetRasterBand(1).GetNoDataValue()\n",
      "    if nan != None:\n",
      "        data = np.ma.masked_equal(data,value=nan)\n",
      "    \n",
      "    xres = gt[1]\n",
      "    yres = gt[5]\n",
      "    \n",
      "    # get the edge coordinates and add half the resolution \n",
      "    # to go to center coordinates\n",
      "    xmin = gt[0] + xres * 0.5\n",
      "    xmax = gt[0] + (xres * ds.RasterXSize) - xres * 0.5\n",
      "    ymin = gt[3] + (yres * ds.RasterYSize) + yres * 0.5\n",
      "    ymax = gt[3] - yres * 0.5\n",
      "    \n",
      "    x = ds.RasterXSize \n",
      "    y = ds.RasterYSize  \n",
      "    extent = [ gt[0],gt[0]+x*gt[1], gt[3],gt[3]+y*gt[5]]\n",
      "    #ds = None\n",
      "    \n",
      "    # create a grid of xy coordinates in the original projection\n",
      "    xy_source = np.mgrid[xmin:xmax+xres:xres, ymax+yres:ymin:yres]\n",
      "    \n",
      "    return extent, xy_source, proj"
     ],
     "language": "python",
     "metadata": {},
     "outputs": [],
     "prompt_number": 61
    },
    {
     "cell_type": "code",
     "collapsed": false,
     "input": [
      "tiffs = listall(RasterFolder, varname='abs_NDVI')\n",
      "extent, xy_source, proj = setMap(tiffs[0])\n",
      "#for RasterPath in tiffs:  \n",
      "print ('boundary coordinates map\\n', extent)"
     ],
     "language": "python",
     "metadata": {},
     "outputs": [
      {
       "output_type": "stream",
       "stream": "stdout",
       "text": [
        "boundary coordinates map\n",
        " [73.43693268011174, 135.06693268011173, 53.57324111988825, 18.203241119888254]\n"
       ]
      }
     ],
     "prompt_number": 62
    },
    {
     "cell_type": "code",
     "collapsed": false,
     "input": [
      "for y in tiffs:\n",
      "    ex, xy_s, prj = setMap(y)\n",
      "    print (xy_s.shape)"
     ],
     "language": "python",
     "metadata": {},
     "outputs": [
      {
       "output_type": "stream",
       "stream": "stdout",
       "text": [
        "(2, 6163, 3538)\n",
        "(2, 6163, 3538)"
       ]
      },
      {
       "output_type": "stream",
       "stream": "stdout",
       "text": [
        "\n",
        "(2, 6163, 3538)"
       ]
      },
      {
       "output_type": "stream",
       "stream": "stdout",
       "text": [
        "\n",
        "(2, 6163, 3538)"
       ]
      },
      {
       "output_type": "stream",
       "stream": "stdout",
       "text": [
        "\n",
        "(2, 6163, 3538)"
       ]
      },
      {
       "output_type": "stream",
       "stream": "stdout",
       "text": [
        "\n",
        "(2, 6163, 3538)"
       ]
      },
      {
       "output_type": "stream",
       "stream": "stdout",
       "text": [
        "\n",
        "(2, 6163, 3538)"
       ]
      },
      {
       "output_type": "stream",
       "stream": "stdout",
       "text": [
        "\n",
        "(2, 6163, 3538)"
       ]
      },
      {
       "output_type": "stream",
       "stream": "stdout",
       "text": [
        "\n",
        "(2, 6163, 3538)"
       ]
      },
      {
       "output_type": "stream",
       "stream": "stdout",
       "text": [
        "\n",
        "(2, 6163, 3538)"
       ]
      },
      {
       "output_type": "stream",
       "stream": "stdout",
       "text": [
        "\n",
        "(2, 6163, 3538)"
       ]
      },
      {
       "ename": "KeyboardInterrupt",
       "evalue": "",
       "output_type": "pyerr",
       "traceback": [
        "\u001b[1;31m---------------------------------------------------------------------------\u001b[0m\n\u001b[1;31mKeyboardInterrupt\u001b[0m                         Traceback (most recent call last)",
        "\u001b[1;32m<ipython-input-111-f2e1fc81d6d7>\u001b[0m in \u001b[0;36m<module>\u001b[1;34m()\u001b[0m\n\u001b[0;32m      1\u001b[0m \u001b[1;32mfor\u001b[0m \u001b[0my\u001b[0m \u001b[1;32min\u001b[0m \u001b[0mtiffs\u001b[0m\u001b[1;33m:\u001b[0m\u001b[1;33m\u001b[0m\u001b[0m\n\u001b[1;32m----> 2\u001b[1;33m     \u001b[0mex\u001b[0m\u001b[1;33m,\u001b[0m \u001b[0mxy_s\u001b[0m\u001b[1;33m,\u001b[0m \u001b[0mprj\u001b[0m \u001b[1;33m=\u001b[0m \u001b[0msetMap\u001b[0m\u001b[1;33m(\u001b[0m\u001b[0my\u001b[0m\u001b[1;33m)\u001b[0m\u001b[1;33m\u001b[0m\u001b[0m\n\u001b[0m\u001b[0;32m      3\u001b[0m     \u001b[0mprint\u001b[0m \u001b[1;33m(\u001b[0m\u001b[0mxy_s\u001b[0m\u001b[1;33m.\u001b[0m\u001b[0mshape\u001b[0m\u001b[1;33m)\u001b[0m\u001b[1;33m\u001b[0m\u001b[0m\n",
        "\u001b[1;32m<ipython-input-61-e0afb1b11fd3>\u001b[0m in \u001b[0;36msetMap\u001b[1;34m(rasterBase)\u001b[0m\n\u001b[0;32m     53\u001b[0m \u001b[1;33m\u001b[0m\u001b[0m\n\u001b[0;32m     54\u001b[0m     \u001b[1;31m# create a grid of xy coordinates in the original projection\u001b[0m\u001b[1;33m\u001b[0m\u001b[1;33m\u001b[0m\u001b[0m\n\u001b[1;32m---> 55\u001b[1;33m     \u001b[0mxy_source\u001b[0m \u001b[1;33m=\u001b[0m \u001b[0mnp\u001b[0m\u001b[1;33m.\u001b[0m\u001b[0mmgrid\u001b[0m\u001b[1;33m[\u001b[0m\u001b[0mxmin\u001b[0m\u001b[1;33m:\u001b[0m\u001b[0mxmax\u001b[0m\u001b[1;33m+\u001b[0m\u001b[0mxres\u001b[0m\u001b[1;33m:\u001b[0m\u001b[0mxres\u001b[0m\u001b[1;33m,\u001b[0m \u001b[0mymax\u001b[0m\u001b[1;33m+\u001b[0m\u001b[0myres\u001b[0m\u001b[1;33m:\u001b[0m\u001b[0mymin\u001b[0m\u001b[1;33m:\u001b[0m\u001b[0myres\u001b[0m\u001b[1;33m]\u001b[0m\u001b[1;33m\u001b[0m\u001b[0m\n\u001b[0m\u001b[0;32m     56\u001b[0m \u001b[1;33m\u001b[0m\u001b[0m\n\u001b[0;32m     57\u001b[0m     \u001b[1;32mreturn\u001b[0m \u001b[0mextent\u001b[0m\u001b[1;33m,\u001b[0m \u001b[0mxy_source\u001b[0m\u001b[1;33m,\u001b[0m \u001b[0mproj\u001b[0m\u001b[1;33m\u001b[0m\u001b[0m\n",
        "\u001b[1;32mC:\\Python33\\lib\\site-packages\\numpy\\lib\\index_tricks.py\u001b[0m in \u001b[0;36m__getitem__\u001b[1;34m(self, key)\u001b[0m\n\u001b[0;32m    177\u001b[0m                     \u001b[1;32mif\u001b[0m \u001b[0mstep\u001b[0m \u001b[1;33m!=\u001b[0m \u001b[1;36m1\u001b[0m\u001b[1;33m:\u001b[0m\u001b[1;33m\u001b[0m\u001b[0m\n\u001b[0;32m    178\u001b[0m                         \u001b[0mstep\u001b[0m \u001b[1;33m=\u001b[0m \u001b[1;33m(\u001b[0m\u001b[0mkey\u001b[0m\u001b[1;33m[\u001b[0m\u001b[0mk\u001b[0m\u001b[1;33m]\u001b[0m\u001b[1;33m.\u001b[0m\u001b[0mstop\u001b[0m \u001b[1;33m-\u001b[0m \u001b[0mstart\u001b[0m\u001b[1;33m)\u001b[0m\u001b[1;33m/\u001b[0m\u001b[0mfloat\u001b[0m\u001b[1;33m(\u001b[0m\u001b[0mstep\u001b[0m\u001b[1;33m-\u001b[0m\u001b[1;36m1\u001b[0m\u001b[1;33m)\u001b[0m\u001b[1;33m\u001b[0m\u001b[0m\n\u001b[1;32m--> 179\u001b[1;33m                 \u001b[0mnn\u001b[0m\u001b[1;33m[\u001b[0m\u001b[0mk\u001b[0m\u001b[1;33m]\u001b[0m \u001b[1;33m=\u001b[0m \u001b[1;33m(\u001b[0m\u001b[0mnn\u001b[0m\u001b[1;33m[\u001b[0m\u001b[0mk\u001b[0m\u001b[1;33m]\u001b[0m\u001b[1;33m*\u001b[0m\u001b[0mstep\u001b[0m\u001b[1;33m+\u001b[0m\u001b[0mstart\u001b[0m\u001b[1;33m)\u001b[0m\u001b[1;33m\u001b[0m\u001b[0m\n\u001b[0m\u001b[0;32m    180\u001b[0m             \u001b[1;32mif\u001b[0m \u001b[0mself\u001b[0m\u001b[1;33m.\u001b[0m\u001b[0msparse\u001b[0m\u001b[1;33m:\u001b[0m\u001b[1;33m\u001b[0m\u001b[0m\n\u001b[0;32m    181\u001b[0m                 \u001b[0mslobj\u001b[0m \u001b[1;33m=\u001b[0m \u001b[1;33m[\u001b[0m\u001b[0m_nx\u001b[0m\u001b[1;33m.\u001b[0m\u001b[0mnewaxis\u001b[0m\u001b[1;33m]\u001b[0m\u001b[1;33m*\u001b[0m\u001b[0mlen\u001b[0m\u001b[1;33m(\u001b[0m\u001b[0msize\u001b[0m\u001b[1;33m)\u001b[0m\u001b[1;33m\u001b[0m\u001b[0m\n",
        "\u001b[1;31mKeyboardInterrupt\u001b[0m: "
       ]
      },
      {
       "output_type": "stream",
       "stream": "stdout",
       "text": [
        "\n"
       ]
      }
     ],
     "prompt_number": 111
    },
    {
     "cell_type": "code",
     "collapsed": false,
     "input": [
      "for RasterPath in tiffs:\n",
      "    ds = gdal.Open(RasterPath)\n",
      "    data = ds.ReadAsArray()\n",
      "    \n",
      "    # Create the figure and basemap object\n",
      "    #fig = plt.figure(figsize=(10, 10))\n",
      "    #ax = plt.subplot(111)\n",
      "    \n",
      "    #m = Basemap(projection='robin', lon_0=0, resolution='c')\n",
      "    width_x = (extent[1]-extent[0])*1.3\n",
      "    height_y = (extent[2]-extent[3])*1.1"
     ],
     "language": "python",
     "metadata": {},
     "outputs": [
      {
       "ename": "KeyboardInterrupt",
       "evalue": "",
       "output_type": "pyerr",
       "traceback": [
        "\u001b[1;31m---------------------------------------------------------------------------\u001b[0m\n\u001b[1;31mKeyboardInterrupt\u001b[0m                         Traceback (most recent call last)",
        "\u001b[1;32m<ipython-input-16-4a8f5bd8dced>\u001b[0m in \u001b[0;36m<module>\u001b[1;34m()\u001b[0m\n\u001b[0;32m      1\u001b[0m \u001b[1;32mfor\u001b[0m \u001b[0mRasterPath\u001b[0m \u001b[1;32min\u001b[0m \u001b[0mtiffs\u001b[0m\u001b[1;33m:\u001b[0m\u001b[1;33m\u001b[0m\u001b[0m\n\u001b[0;32m      2\u001b[0m     \u001b[0mds\u001b[0m \u001b[1;33m=\u001b[0m \u001b[0mgdal\u001b[0m\u001b[1;33m.\u001b[0m\u001b[0mOpen\u001b[0m\u001b[1;33m(\u001b[0m\u001b[0mRasterPath\u001b[0m\u001b[1;33m)\u001b[0m\u001b[1;33m\u001b[0m\u001b[0m\n\u001b[1;32m----> 3\u001b[1;33m     \u001b[0mdata\u001b[0m \u001b[1;33m=\u001b[0m \u001b[0mds\u001b[0m\u001b[1;33m.\u001b[0m\u001b[0mReadAsArray\u001b[0m\u001b[1;33m(\u001b[0m\u001b[1;33m)\u001b[0m\u001b[1;33m\u001b[0m\u001b[0m\n\u001b[0m\u001b[0;32m      4\u001b[0m \u001b[1;33m\u001b[0m\u001b[0m\n\u001b[0;32m      5\u001b[0m     \u001b[1;31m# Create the figure and basemap object\u001b[0m\u001b[1;33m\u001b[0m\u001b[1;33m\u001b[0m\u001b[0m\n",
        "\u001b[1;32mC:\\Python33\\lib\\site-packages\\osgeo\\gdal.py\u001b[0m in \u001b[0;36mReadAsArray\u001b[1;34m(self, xoff, yoff, xsize, ysize, buf_obj)\u001b[0m\n\u001b[0;32m    727\u001b[0m     \u001b[1;32mdef\u001b[0m \u001b[0mReadAsArray\u001b[0m\u001b[1;33m(\u001b[0m\u001b[0mself\u001b[0m\u001b[1;33m,\u001b[0m \u001b[0mxoff\u001b[0m\u001b[1;33m=\u001b[0m\u001b[1;36m0\u001b[0m\u001b[1;33m,\u001b[0m \u001b[0myoff\u001b[0m\u001b[1;33m=\u001b[0m\u001b[1;36m0\u001b[0m\u001b[1;33m,\u001b[0m \u001b[0mxsize\u001b[0m\u001b[1;33m=\u001b[0m\u001b[1;32mNone\u001b[0m\u001b[1;33m,\u001b[0m \u001b[0mysize\u001b[0m\u001b[1;33m=\u001b[0m\u001b[1;32mNone\u001b[0m\u001b[1;33m,\u001b[0m \u001b[0mbuf_obj\u001b[0m\u001b[1;33m=\u001b[0m\u001b[1;32mNone\u001b[0m \u001b[1;33m)\u001b[0m\u001b[1;33m:\u001b[0m\u001b[1;33m\u001b[0m\u001b[0m\n\u001b[0;32m    728\u001b[0m         \u001b[1;32mfrom\u001b[0m \u001b[1;33m.\u001b[0m \u001b[1;32mimport\u001b[0m \u001b[0mgdalnumeric\u001b[0m\u001b[1;33m\u001b[0m\u001b[0m\n\u001b[1;32m--> 729\u001b[1;33m         \u001b[1;32mreturn\u001b[0m \u001b[0mgdalnumeric\u001b[0m\u001b[1;33m.\u001b[0m\u001b[0mDatasetReadAsArray\u001b[0m\u001b[1;33m(\u001b[0m \u001b[0mself\u001b[0m\u001b[1;33m,\u001b[0m \u001b[0mxoff\u001b[0m\u001b[1;33m,\u001b[0m \u001b[0myoff\u001b[0m\u001b[1;33m,\u001b[0m \u001b[0mxsize\u001b[0m\u001b[1;33m,\u001b[0m \u001b[0mysize\u001b[0m\u001b[1;33m,\u001b[0m \u001b[0mbuf_obj\u001b[0m \u001b[1;33m)\u001b[0m\u001b[1;33m\u001b[0m\u001b[0m\n\u001b[0m\u001b[0;32m    730\u001b[0m     def WriteRaster(self, xoff, yoff, xsize, ysize,\n\u001b[0;32m    731\u001b[0m                     \u001b[0mbuf_string\u001b[0m\u001b[1;33m,\u001b[0m\u001b[1;33m\u001b[0m\u001b[0m\n",
        "\u001b[1;32mC:\\Python33\\lib\\site-packages\\osgeo\\gdal_array.py\u001b[0m in \u001b[0;36mDatasetReadAsArray\u001b[1;34m(ds, xoff, yoff, xsize, ysize, buf_obj)\u001b[0m\n\u001b[0;32m    171\u001b[0m \u001b[1;33m\u001b[0m\u001b[0m\n\u001b[0;32m    172\u001b[0m     \u001b[1;32mif\u001b[0m \u001b[0mds\u001b[0m\u001b[1;33m.\u001b[0m\u001b[0mRasterCount\u001b[0m \u001b[1;33m==\u001b[0m \u001b[1;36m1\u001b[0m\u001b[1;33m:\u001b[0m\u001b[1;33m\u001b[0m\u001b[0m\n\u001b[1;32m--> 173\u001b[1;33m         \u001b[1;32mreturn\u001b[0m \u001b[0mBandReadAsArray\u001b[0m\u001b[1;33m(\u001b[0m \u001b[0mds\u001b[0m\u001b[1;33m.\u001b[0m\u001b[0mGetRasterBand\u001b[0m\u001b[1;33m(\u001b[0m\u001b[1;36m1\u001b[0m\u001b[1;33m)\u001b[0m\u001b[1;33m,\u001b[0m \u001b[0mxoff\u001b[0m\u001b[1;33m,\u001b[0m \u001b[0myoff\u001b[0m\u001b[1;33m,\u001b[0m \u001b[0mxsize\u001b[0m\u001b[1;33m,\u001b[0m \u001b[0mysize\u001b[0m\u001b[1;33m,\u001b[0m \u001b[0mbuf_obj\u001b[0m \u001b[1;33m=\u001b[0m \u001b[0mbuf_obj\u001b[0m\u001b[1;33m)\u001b[0m\u001b[1;33m\u001b[0m\u001b[0m\n\u001b[0m\u001b[0;32m    174\u001b[0m \u001b[1;33m\u001b[0m\u001b[0m\n\u001b[0;32m    175\u001b[0m     \u001b[0mdatatype\u001b[0m \u001b[1;33m=\u001b[0m \u001b[0mds\u001b[0m\u001b[1;33m.\u001b[0m\u001b[0mGetRasterBand\u001b[0m\u001b[1;33m(\u001b[0m\u001b[1;36m1\u001b[0m\u001b[1;33m)\u001b[0m\u001b[1;33m.\u001b[0m\u001b[0mDataType\u001b[0m\u001b[1;33m\u001b[0m\u001b[0m\n",
        "\u001b[1;32mC:\\Python33\\lib\\site-packages\\osgeo\\gdal_array.py\u001b[0m in \u001b[0;36mBandReadAsArray\u001b[1;34m(band, xoff, yoff, win_xsize, win_ysize, buf_xsize, buf_ysize, buf_obj)\u001b[0m\n\u001b[0;32m    239\u001b[0m         \u001b[0mar\u001b[0m \u001b[1;33m=\u001b[0m \u001b[0mnumpy\u001b[0m\u001b[1;33m.\u001b[0m\u001b[0mempty\u001b[0m\u001b[1;33m(\u001b[0m\u001b[1;33m[\u001b[0m\u001b[0mbuf_ysize\u001b[0m\u001b[1;33m,\u001b[0m\u001b[0mbuf_xsize\u001b[0m\u001b[1;33m]\u001b[0m\u001b[1;33m,\u001b[0m \u001b[0mdtype\u001b[0m \u001b[1;33m=\u001b[0m \u001b[0mtypecode\u001b[0m\u001b[1;33m)\u001b[0m\u001b[1;33m\u001b[0m\u001b[0m\n\u001b[0;32m    240\u001b[0m         if BandRasterIONumPy( band, 0, xoff, yoff, win_xsize, win_ysize,\n\u001b[1;32m--> 241\u001b[1;33m                                 ar, datatype ) != 0:\n\u001b[0m\u001b[0;32m    242\u001b[0m             \u001b[1;32mreturn\u001b[0m \u001b[1;32mNone\u001b[0m\u001b[1;33m\u001b[0m\u001b[0m\n\u001b[0;32m    243\u001b[0m \u001b[1;33m\u001b[0m\u001b[0m\n",
        "\u001b[1;31mKeyboardInterrupt\u001b[0m: "
       ]
      }
     ],
     "prompt_number": 16
    },
    {
     "cell_type": "code",
     "collapsed": false,
     "input": [
      "lat_mid = (extent[1]+extent[0])/2\n",
      "#lon_mid = (extent[2]+extent[3])/2\n",
      "lat_mid"
     ],
     "language": "python",
     "metadata": {},
     "outputs": [
      {
       "metadata": {},
       "output_type": "pyout",
       "prompt_number": 40,
       "text": [
        "104.25193268011174"
       ]
      }
     ],
     "prompt_number": 40
    },
    {
     "cell_type": "code",
     "collapsed": false,
     "input": [
      "import matplotlib as mpl"
     ],
     "language": "python",
     "metadata": {},
     "outputs": [],
     "prompt_number": 164
    },
    {
     "cell_type": "code",
     "collapsed": false,
     "input": [
      "ShapefileChina = r'D:\\Data\\ChinaShapefile//bou2_4l'\n",
      "ShapefileCoastlines = r'D:\\Data\\ChinaShapefile//WordCoastlines'\n",
      "\n",
      "for RasterPath in tiffs[0:1]:\n",
      "    ds = gdal.Open(RasterPath)\n",
      "    data = ds.ReadAsArray()\n",
      "    \n",
      "    # Create the figure and basemap object\n",
      "    fig = plt.figure(figsize=(10, 10))\n",
      "    #ax = plt.subplot(111)\n",
      "    \n",
      "    #m = Basemap(projection='robin', lon_0=0, resolution='c')\n",
      "    width_x = (extent[1]-extent[0])*1.3\n",
      "    height_y = (extent[2]-extent[3])*1.1\n",
      "    \n",
      "    lon_mid = (extent[1]+extent[0])/2 # longitude_mid x-axis\n",
      "    lat_mid = (extent[2]+extent[3])/2 # latitude_mid y-axis\n",
      "    \n",
      "    #m = Basemap(projection='aea', resolution='c', width = width_x , height = height_y, lat_0=lat_mid, lon_0=lon_mid)\n",
      "    #m = Basemap(projection='robin', lon_0=0, resolution='c')\n",
      "#    m = Basemap(projection='cass',llcrnrlon=65.363159,\n",
      "#                llcrnrlat=-5.090944,urcrnrlon=168.370972,\n",
      "#                urcrnrlat=60.500525,resolution='c',lat_0=39.918163,\n",
      "#                lon_0=116.384826)#,boundinglat=39.918163)#\n",
      "\n",
      "    m = Basemap(projection='merc',llcrnrlon=extent[0],\n",
      "                llcrnrlat=extent[3],urcrnrlon=extent[1],\n",
      "                urcrnrlat=extent[2], resolution='h', lat_0=lat_mid,\n",
      "                lon_0=extent[0])#,boundinglat=39.918163)#\n",
      "    \n",
      "    # annotate\n",
      "    m.readshapefile(ShapefileCoastlines, 'coastlines', drawbounds=True, linewidth=0.2, color='0.1')\n",
      "    m.readshapefile(ShapefileChina, 'china', drawbounds=True, linewidth=0.2, color='0.1' )\n",
      "    m.fillcontinents(color='coral', lake_color='aqua')\n",
      "    m.drawmeridians(np.arange(0,360,15), linewidth=.2, labels=[1,0,0,1], labelstyle='+/-', color='grey' ) \n",
      "    m.drawparallels(np.arange(-90,90,15), linewidth=.2, labels=[1,0,0,1], labelstyle='+/-', color='grey')\n",
      "    m.drawmapboundary(linewidth=0.5, color='grey')\n",
      "\n",
      "    \n",
      "    \n",
      "    # Create the projection objects for the conversion\n",
      "    # original (Albers)\n",
      "    inproj = osr.SpatialReference()\n",
      "    inproj.ImportFromWkt(proj)\n",
      "    \n",
      "    # Get the target projection from the basemap object\n",
      "    outproj = osr.SpatialReference()\n",
      "    outproj.ImportFromProj4(m.proj4string)\n",
      "    \n",
      "    # Convert from source projection to basemap projection\n",
      "    xx, yy = convertXY(xy_source, inproj, outproj)    \n",
      "    \n",
      "    ###\n",
      "    # plot the data (first layer) 24bands\n",
      "    #for i in range(0,24):\n",
      "    #for i in range(ds.RasterCount):   \n",
      "    \n",
      "    # Set the colormap and norm to correspond to the data for which\n",
      "    # the colorbar will be used.\n",
      "    cmap = mpl.cm.cool\n",
      "    norm = mpl.colors.Normalize(vmin=-1, vmax=1)\n",
      "    \n",
      "    # The third example illustrates the use of custom length colorbar\n",
      "    # extensions, used on a colorbar with discrete intervals.\n",
      "    cmap = mpl.colors.ListedColormap([[0.77, 0, 1.], # light purple\n",
      "                                      [0., 0.66, 0.9], # dark blue\n",
      "                                      [0, 1., 0.77], # light blue\n",
      "                                      [0.64, 1, 0.45], # green\n",
      "                                      [0.82, 1, 0.75], # light green\n",
      "                                      [1, 1, 1], # null\n",
      "                                      [1, 1, 0.75], # light yellow\n",
      "                                      [0.9, 0.9, 0.], # yellow\n",
      "                                      [1, 0.67, 0], # orange\n",
      "                                      [0.9, 0., 0.], # red\n",
      "                                      [1, 0.45, 0.87]]) # pink\n",
      "    \n",
      "    cmap.set_under((0.45, 0, 0.66)) # dark purple\n",
      "    cmap.set_over((0.6, 0, 0)) # brown    \n",
      "    \n",
      "    bounds = [-.3, -.25, -.2, -.15, -.1, -.05, .05, .1, .15, .2, .25, .3]    \n",
      "    norm = mpl.colors.BoundaryNorm(bounds, cmap.N)\n",
      "    \n",
      "    \n",
      "    \n",
      "    im1 = m.pcolormesh(xx, yy, data.T, cmap=cmap, norm=norm) # data[0,:,:] select band here    \n",
      "    m.colorbar(im1, location='bottom', cmap=cmap, norm=norm, ticks=[-1]+bounds+[1], pad = '6%', extend='both', extendfrac='auto').set_label('Custom extension lengths, some other units')\n",
      "    \n",
      "    plt.title(TitlePlot+' hour _UTC', fontsize=20)  \n",
      "    \n",
      "    ToPath = OutFolder+Prefix+'_band.png'\n",
      "    plt.savefig(ToPath,dpi=200)\n",
      "    fig.clf()\n",
      "    print (ToPath+ ' - OK')"
     ],
     "language": "python",
     "metadata": {},
     "outputs": [
      {
       "output_type": "stream",
       "stream": "stdout",
       "text": [
        "D:\\Data\\NDVIanomalytimeseriesPNG//G0_Ma_SEBAL_band.png - OK\n"
       ]
      },
      {
       "metadata": {},
       "output_type": "display_data",
       "text": [
        "<matplotlib.figure.Figure at 0xae329d68>"
       ]
      }
     ],
     "prompt_number": 218
    },
    {
     "cell_type": "code",
     "collapsed": false,
     "input": [
      "Basemap.drawlsmask("
     ],
     "language": "python",
     "metadata": {},
     "outputs": [
      {
       "metadata": {},
       "output_type": "pyout",
       "prompt_number": 220,
       "text": [
        "(builtins.object,)"
       ]
      }
     ],
     "prompt_number": 220
    },
    {
     "cell_type": "code",
     "collapsed": false,
     "input": [
      "cmap.colors"
     ],
     "language": "python",
     "metadata": {},
     "outputs": [
      {
       "metadata": {},
       "output_type": "pyout",
       "prompt_number": 195,
       "text": [
        "[[0.77, 0, 1.0],\n",
        " [0.0, 0.66, 0.9],\n",
        " [0, 1.0, 0.77],\n",
        " [0.64, 1, 0.45],\n",
        " [0.82, 1, 0.75],\n",
        " [1, 1, 1],\n",
        " [1, 1, 0.75],\n",
        " [0.9, 0.9, 0.0],\n",
        " [1, 0.67, 0],\n",
        " [0.9, 0.0, 0.0],\n",
        " [1, 0.45, 0.87]]"
       ]
      }
     ],
     "prompt_number": 195
    },
    {
     "cell_type": "code",
     "collapsed": false,
     "input": [
      "yy_small = np.delete(yy, -1,1)\n",
      "yy_small.shape"
     ],
     "language": "python",
     "metadata": {},
     "outputs": [
      {
       "metadata": {},
       "output_type": "pyout",
       "prompt_number": 145,
       "text": [
        "(6163, 3537)"
       ]
      }
     ],
     "prompt_number": 145
    },
    {
     "cell_type": "code",
     "collapsed": false,
     "input": [
      "lat_mid"
     ],
     "language": "python",
     "metadata": {},
     "outputs": [
      {
       "metadata": {},
       "output_type": "pyout",
       "prompt_number": 158,
       "text": [
        "35.88824111988825"
       ]
      }
     ],
     "prompt_number": 158
    },
    {
     "cell_type": "code",
     "collapsed": false,
     "input": [
      "extent[0]"
     ],
     "language": "python",
     "metadata": {},
     "outputs": [
      {
       "metadata": {},
       "output_type": "pyout",
       "prompt_number": 150,
       "text": [
        "73.43693268011174"
       ]
      }
     ],
     "prompt_number": 150
    },
    {
     "cell_type": "code",
     "collapsed": false,
     "input": [
      "extent[1]"
     ],
     "language": "python",
     "metadata": {},
     "outputs": [
      {
       "metadata": {},
       "output_type": "pyout",
       "prompt_number": 77,
       "text": [
        "135.06693268011173"
       ]
      }
     ],
     "prompt_number": 77
    },
    {
     "cell_type": "code",
     "collapsed": false,
     "input": [
      "extent[3]"
     ],
     "language": "python",
     "metadata": {},
     "outputs": [
      {
       "metadata": {},
       "output_type": "pyout",
       "prompt_number": 81,
       "text": [
        "18.203241119888254"
       ]
      }
     ],
     "prompt_number": 81
    },
    {
     "cell_type": "code",
     "collapsed": false,
     "input": [
      "extent[2]"
     ],
     "language": "python",
     "metadata": {},
     "outputs": [
      {
       "metadata": {},
       "output_type": "pyout",
       "prompt_number": 83,
       "text": [
        "53.57324111988825"
       ]
      }
     ],
     "prompt_number": 83
    },
    {
     "cell_type": "code",
     "collapsed": false,
     "input": [
      "act = osr.CoordinateTransformation(inproj, outproj)"
     ],
     "language": "python",
     "metadata": {},
     "outputs": [],
     "prompt_number": 78
    },
    {
     "cell_type": "code",
     "collapsed": false,
     "input": [
      "topleft = act.TransformPoint(extent[0],extent[2])\n",
      "topright = act.TransformPoint(extent[1],extent[2])\n",
      "bottomleft = act.TransformPoint(extent[0],extent[3])"
     ],
     "language": "python",
     "metadata": {},
     "outputs": [],
     "prompt_number": 91
    },
    {
     "cell_type": "code",
     "collapsed": false,
     "input": [
      "bottomleft"
     ],
     "language": "python",
     "metadata": {},
     "outputs": [
      {
       "metadata": {},
       "output_type": "pyout",
       "prompt_number": 92,
       "text": [
        "(-3331630.4378192103, -1410013.992481758, 0.0)"
       ]
      }
     ],
     "prompt_number": 92
    },
    {
     "cell_type": "code",
     "collapsed": false,
     "input": [
      "((topleft[0]+topright[0])/2)*10000"
     ],
     "language": "python",
     "metadata": {},
     "outputs": [
      {
       "metadata": {},
       "output_type": "pyout",
       "prompt_number": 99,
       "text": [
        "400595.0000253506"
       ]
      }
     ],
     "prompt_number": 99
    },
    {
     "cell_type": "code",
     "collapsed": false,
     "input": [
      "width_x"
     ],
     "language": "python",
     "metadata": {},
     "outputs": [
      {
       "metadata": {},
       "output_type": "pyout",
       "prompt_number": 97,
       "text": [
        "80.119"
       ]
      }
     ],
     "prompt_number": 97
    },
    {
     "cell_type": "code",
     "collapsed": false,
     "input": [],
     "language": "python",
     "metadata": {},
     "outputs": []
    }
   ],
   "metadata": {}
  }
 ]
}