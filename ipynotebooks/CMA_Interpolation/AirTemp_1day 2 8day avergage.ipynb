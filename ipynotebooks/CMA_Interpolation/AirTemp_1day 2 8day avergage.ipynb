{
 "metadata": {
  "name": "AirTemp_1day 2 8day avergage"
 },
 "nbformat": 3,
 "nbformat_minor": 0,
 "worksheets": [
  {
   "cells": [
    {
     "cell_type": "code",
     "collapsed": false,
     "input": [
      "import os\n",
      "import pandas as pd\n",
      "import gdal\n",
      "import numpy as np\n",
      "import numpy.ma as ma\n",
      "import datetime\n",
      "from gdalconst import *"
     ],
     "language": "python",
     "metadata": {},
     "outputs": [],
     "prompt_number": 1
    },
    {
     "cell_type": "code",
     "collapsed": false,
     "input": [
      "prcpFiles = r'I:\\Data\\AirTemp'"
     ],
     "language": "python",
     "metadata": {},
     "outputs": [],
     "prompt_number": 2
    },
    {
     "cell_type": "code",
     "collapsed": false,
     "input": [
      "def rasterList(varpath, endwith, namefile):\n",
      "    # 1 - Precipitation\n",
      "    input_folder = varpath\n",
      "    varList = [os.path.join(root, name)\n",
      "                 for root, dirs, files in os.walk(input_folder)\n",
      "                 for name in files\n",
      "                 if name.endswith((endwith))]\n",
      "    print namefile + \" files : \"  + str(len(varList))\n",
      "    return varList"
     ],
     "language": "python",
     "metadata": {},
     "outputs": [],
     "prompt_number": 3
    },
    {
     "cell_type": "code",
     "collapsed": false,
     "input": [
      "prcpList = rasterList(prcpFiles, \".tif\", \"AirTemp\")"
     ],
     "language": "python",
     "metadata": {},
     "outputs": [
      {
       "output_type": "stream",
       "stream": "stdout",
       "text": [
        "AirTemp files : 365\n"
       ]
      }
     ],
     "prompt_number": 4
    },
    {
     "cell_type": "code",
     "collapsed": false,
     "input": [
      "for i in xrange(0,360,8):\n",
      "    j = i + 8\n",
      "    a = prcpList[i:j]\n",
      "    z = \"{0:03d}\".format(i+1)\n",
      "    print i,j,z\n",
      "\n",
      "    # Load Rasters\n",
      "    ds0 = gdal.Open(a[0], GA_ReadOnly)\n",
      "    data0 = ds0.GetRasterBand(1).ReadAsArray()\n",
      "    NA0 = ds0.GetRasterBand(1).GetNoDataValue()\n",
      "    datam0 = ma.masked_where(data0 == NA0, data0)\n",
      "    data0 = None\n",
      "\n",
      "    ds1 = gdal.Open(a[1], GA_ReadOnly)\n",
      "    data1 = ds1.GetRasterBand(1).ReadAsArray()\n",
      "    datam1 = ma.masked_where(data1== NA0, data1)\n",
      "    data1 = None\n",
      "\n",
      "    ds2 = gdal.Open(a[2], GA_ReadOnly)\n",
      "    data2 = ds2.GetRasterBand(1).ReadAsArray()\n",
      "    datam2 = ma.masked_where(data2 == NA0, data2)\n",
      "    data2 = None\n",
      "\n",
      "    ds3 = gdal.Open(a[3], GA_ReadOnly)\n",
      "    data3 = ds3.GetRasterBand(1).ReadAsArray()\n",
      "    datam3 = ma.masked_where(data3 == NA0, data3)\n",
      "    data3 = None\n",
      "\n",
      "    ds4 = gdal.Open(a[4], GA_ReadOnly)\n",
      "    data4 = ds4.GetRasterBand(1).ReadAsArray()\n",
      "    datam4 = ma.masked_where(data4 == NA0, data4)\n",
      "    data4 = None\n",
      "\n",
      "    #ds5 = gdal.Open(a[5], GA_ReadOnly)\n",
      "    #data5 = ds5.GetRasterBand(1).ReadAsArray()\n",
      "    #datam5 = ma.masked_where(data1== NA0, data5)\n",
      "    #data5 = None\n",
      "\n",
      "    #ds6 = gdal.Open(a[6], GA_ReadOnly)\n",
      "    #data6 = ds6.GetRasterBand(1).ReadAsArray()\n",
      "    #datam6 = ma.masked_where(data6== NA0, data6)\n",
      "    #data6 = None\n",
      "\n",
      "    #ds7 = gdal.Open(a[7], GA_ReadOnly)\n",
      "    #data7 = ds7.GetRasterBand(1).ReadAsArray()\n",
      "    #datam7 = ma.masked_where(data7== NA0, data7)\n",
      "    #data7 = None\n",
      "\n",
      "    dataOut = (datam0 + datam1 + datam2 + datam3 + datam4) * 0.2 #+ datam5 + datam6 + datam7) \n",
      "\n",
      "    data_1 = dataOut.data\n",
      "\n",
      "    # Set Driver\n",
      "    format = \"GTiff\"\n",
      "    driver = gdal.GetDriverByName( format )\n",
      "    driver.Register()\n",
      "\n",
      "    # Set Metadata for Raster output\n",
      "    cols = ds0.RasterXSize\n",
      "    rows = ds0.RasterYSize\n",
      "    bands = ds0.RasterCount\n",
      "    datatype = ds0.GetRasterBand(1).DataType\n",
      "\n",
      "    # Set Projection for Raster\n",
      "    outDataset = driver.Create(r'I:\\Data\\AirTemp\\8Day_Interval_Avg\\2009'+z+'.tif', cols, rows, bands, datatype)\n",
      "    geoTransform = ds0.GetGeoTransform()\n",
      "    outDataset.SetGeoTransform(geoTransform)\n",
      "    proj = ds0.GetProjection()\n",
      "    outDataset.SetProjection(proj)\n",
      "\n",
      "    # Write output to band 1 of new Raster\n",
      "    outBand = outDataset.GetRasterBand(1)\n",
      "    outBand.WriteArray(data_1,0,0)\n",
      "\n",
      "    # Close and finalise newly created Raster\n",
      "    ds0 = None\n",
      "    data0 = None\n",
      "    datam0 = None\n",
      "    ds1 = None\n",
      "    data1 = None\n",
      "    datam1 = None\n",
      "    ds2 = None\n",
      "    data2 = None\n",
      "    datam2 = None\n",
      "    ds3 = None\n",
      "    data3 = None\n",
      "    datam3 = None\n",
      "    ds4 = None\n",
      "    data4 = None\n",
      "    datam4 = None\n",
      "    ds5 = None\n",
      "    data5 = None\n",
      "    datam5 = None\n",
      "    ds6 = None\n",
      "    data6 = None\n",
      "    datam6 = None\n",
      "    ds7 = None\n",
      "    data7 = None\n",
      "    datam7 = None\n",
      "    dataOut = None\n",
      "    data_1 = None\n",
      "    cols = None\n",
      "    rows = None\n",
      "    bands = None\n",
      "    datatype = None\n",
      "    outDataset = None\n",
      "    geoTransform = None\n",
      "    proj = None\n",
      "    outBand = None"
     ],
     "language": "python",
     "metadata": {},
     "outputs": [
      {
       "output_type": "stream",
       "stream": "stdout",
       "text": [
        "001\n",
        "009"
       ]
      },
      {
       "output_type": "stream",
       "stream": "stdout",
       "text": [
        "\n",
        "017"
       ]
      },
      {
       "output_type": "stream",
       "stream": "stdout",
       "text": [
        "\n",
        "025"
       ]
      },
      {
       "output_type": "stream",
       "stream": "stdout",
       "text": [
        "\n",
        "033"
       ]
      },
      {
       "output_type": "stream",
       "stream": "stdout",
       "text": [
        "\n",
        "041"
       ]
      },
      {
       "output_type": "stream",
       "stream": "stdout",
       "text": [
        "\n",
        "049"
       ]
      },
      {
       "output_type": "stream",
       "stream": "stdout",
       "text": [
        "\n",
        "057"
       ]
      },
      {
       "output_type": "stream",
       "stream": "stdout",
       "text": [
        "\n",
        "065"
       ]
      },
      {
       "output_type": "stream",
       "stream": "stdout",
       "text": [
        "\n",
        "073"
       ]
      },
      {
       "output_type": "stream",
       "stream": "stdout",
       "text": [
        "\n",
        "081"
       ]
      },
      {
       "output_type": "stream",
       "stream": "stdout",
       "text": [
        "\n",
        "089"
       ]
      },
      {
       "output_type": "stream",
       "stream": "stdout",
       "text": [
        "\n",
        "097"
       ]
      },
      {
       "output_type": "stream",
       "stream": "stdout",
       "text": [
        "\n",
        "105"
       ]
      },
      {
       "output_type": "stream",
       "stream": "stdout",
       "text": [
        "\n",
        "113"
       ]
      },
      {
       "output_type": "stream",
       "stream": "stdout",
       "text": [
        "\n",
        "121"
       ]
      },
      {
       "output_type": "stream",
       "stream": "stdout",
       "text": [
        "\n",
        "129"
       ]
      },
      {
       "output_type": "stream",
       "stream": "stdout",
       "text": [
        "\n",
        "137"
       ]
      },
      {
       "output_type": "stream",
       "stream": "stdout",
       "text": [
        "\n",
        "145"
       ]
      },
      {
       "output_type": "stream",
       "stream": "stdout",
       "text": [
        "\n",
        "153"
       ]
      },
      {
       "output_type": "stream",
       "stream": "stdout",
       "text": [
        "\n",
        "161"
       ]
      },
      {
       "output_type": "stream",
       "stream": "stdout",
       "text": [
        "\n",
        "169"
       ]
      },
      {
       "output_type": "stream",
       "stream": "stdout",
       "text": [
        "\n",
        "177"
       ]
      },
      {
       "output_type": "stream",
       "stream": "stdout",
       "text": [
        "\n",
        "185"
       ]
      },
      {
       "output_type": "stream",
       "stream": "stdout",
       "text": [
        "\n",
        "193"
       ]
      },
      {
       "output_type": "stream",
       "stream": "stdout",
       "text": [
        "\n",
        "201"
       ]
      },
      {
       "output_type": "stream",
       "stream": "stdout",
       "text": [
        "\n",
        "209"
       ]
      },
      {
       "output_type": "stream",
       "stream": "stdout",
       "text": [
        "\n",
        "217"
       ]
      },
      {
       "output_type": "stream",
       "stream": "stdout",
       "text": [
        "\n",
        "225"
       ]
      },
      {
       "output_type": "stream",
       "stream": "stdout",
       "text": [
        "\n",
        "233"
       ]
      },
      {
       "output_type": "stream",
       "stream": "stdout",
       "text": [
        "\n",
        "241"
       ]
      },
      {
       "output_type": "stream",
       "stream": "stdout",
       "text": [
        "\n",
        "249"
       ]
      },
      {
       "output_type": "stream",
       "stream": "stdout",
       "text": [
        "\n",
        "257"
       ]
      },
      {
       "output_type": "stream",
       "stream": "stdout",
       "text": [
        "\n",
        "265"
       ]
      },
      {
       "output_type": "stream",
       "stream": "stdout",
       "text": [
        "\n",
        "273"
       ]
      },
      {
       "output_type": "stream",
       "stream": "stdout",
       "text": [
        "\n",
        "281"
       ]
      },
      {
       "output_type": "stream",
       "stream": "stdout",
       "text": [
        "\n",
        "289"
       ]
      },
      {
       "output_type": "stream",
       "stream": "stdout",
       "text": [
        "\n",
        "297"
       ]
      },
      {
       "output_type": "stream",
       "stream": "stdout",
       "text": [
        "\n",
        "305"
       ]
      },
      {
       "output_type": "stream",
       "stream": "stdout",
       "text": [
        "\n",
        "313"
       ]
      },
      {
       "output_type": "stream",
       "stream": "stdout",
       "text": [
        "\n",
        "321"
       ]
      },
      {
       "output_type": "stream",
       "stream": "stdout",
       "text": [
        "\n",
        "329"
       ]
      },
      {
       "output_type": "stream",
       "stream": "stdout",
       "text": [
        "\n",
        "337"
       ]
      },
      {
       "output_type": "stream",
       "stream": "stdout",
       "text": [
        "\n",
        "345"
       ]
      },
      {
       "output_type": "stream",
       "stream": "stdout",
       "text": [
        "\n",
        "353"
       ]
      },
      {
       "output_type": "stream",
       "stream": "stdout",
       "text": [
        "\n"
       ]
      }
     ],
     "prompt_number": 5
    },
    {
     "cell_type": "code",
     "collapsed": false,
     "input": [
      "a = prcpList[360:365]\n",
      "z = \"{0:03d}\".format(361)\n",
      "print i,j,z\n",
      "\n",
      "# Load Rasters\n",
      "ds0 = gdal.Open(a[0], GA_ReadOnly)\n",
      "data0 = ds0.GetRasterBand(1).ReadAsArray()\n",
      "NA0 = ds0.GetRasterBand(1).GetNoDataValue()\n",
      "datam0 = ma.masked_where(data0 == NA0, data0)\n",
      "data0 = None\n",
      "\n",
      "ds1 = gdal.Open(a[1], GA_ReadOnly)\n",
      "data1 = ds1.GetRasterBand(1).ReadAsArray()\n",
      "datam1 = ma.masked_where(data1== NA0, data1)\n",
      "data1 = None\n",
      "\n",
      "ds2 = gdal.Open(a[2], GA_ReadOnly)\n",
      "data2 = ds2.GetRasterBand(1).ReadAsArray()\n",
      "datam2 = ma.masked_where(data2 == NA0, data2)\n",
      "data2 = None\n",
      "\n",
      "ds3 = gdal.Open(a[3], GA_ReadOnly)\n",
      "data3 = ds3.GetRasterBand(1).ReadAsArray()\n",
      "datam3 = ma.masked_where(data3 == NA0, data3)\n",
      "data3 = None\n",
      "\n",
      "ds4 = gdal.Open(a[4], GA_ReadOnly)\n",
      "data4 = ds4.GetRasterBand(1).ReadAsArray()\n",
      "datam4 = ma.masked_where(data4 == NA0, data4)\n",
      "data4 = None\n",
      "\n",
      "#ds5 = gdal.Open(a[5], GA_ReadOnly)\n",
      "#data5 = ds5.GetRasterBand(1).ReadAsArray()\n",
      "#datam5 = ma.masked_where(data1== NA0, data5)\n",
      "#data5 = None\n",
      "\n",
      "#ds6 = gdal.Open(a[6], GA_ReadOnly)\n",
      "#data6 = ds6.GetRasterBand(1).ReadAsArray()\n",
      "#datam6 = ma.masked_where(data6== NA0, data6)\n",
      "#data6 = None\n",
      "\n",
      "#ds7 = gdal.Open(a[7], GA_ReadOnly)\n",
      "#data7 = ds7.GetRasterBand(1).ReadAsArray()\n",
      "#datam7 = ma.masked_where(data7== NA0, data7)\n",
      "#data7 = None\n",
      "\n",
      "dataOut = (datam0 + datam1 + datam2 + datam3 + datam4) * 0.2 #+ datam5 + datam6 + datam7)\n",
      "\n",
      "data_1 = dataOut.data\n",
      "\n",
      "# Set Driver\n",
      "format = \"GTiff\"\n",
      "driver = gdal.GetDriverByName( format )\n",
      "driver.Register()\n",
      "\n",
      "# Set Metadata for Raster output\n",
      "cols = ds0.RasterXSize\n",
      "rows = ds0.RasterYSize\n",
      "bands = ds0.RasterCount\n",
      "datatype = ds0.GetRasterBand(1).DataType\n",
      "\n",
      "# Set Projection for Raster\n",
      "outDataset = driver.Create(r'I:\\Data\\AirTemp\\8Day_Interval_Avg\\2009'+z+'.tif', cols, rows, bands, datatype)\n",
      "geoTransform = ds0.GetGeoTransform()\n",
      "outDataset.SetGeoTransform(geoTransform)\n",
      "proj = ds0.GetProjection()\n",
      "outDataset.SetProjection(proj)\n",
      "\n",
      "# Write output to band 1 of new Raster\n",
      "outBand = outDataset.GetRasterBand(1)\n",
      "outBand.WriteArray(data_1,0,0)\n",
      "\n",
      "# Close and finalise newly created Raster\n",
      "ds0 = None\n",
      "data0 = None\n",
      "datam0 = None\n",
      "ds1 = None\n",
      "data1 = None\n",
      "datam1 = None\n",
      "ds2 = None\n",
      "data2 = None\n",
      "datam2 = None\n",
      "ds3 = None\n",
      "data3 = None\n",
      "datam3 = None\n",
      "ds4 = None\n",
      "data4 = None\n",
      "datam4 = None\n",
      "ds5 = None\n",
      "data5 = None\n",
      "datam5 = None\n",
      "ds6 = None\n",
      "data6 = None\n",
      "datam6 = None\n",
      "ds7 = None\n",
      "data7 = None\n",
      "datam7 = None\n",
      "dataOut = None\n",
      "data_1 = None\n",
      "cols = None\n",
      "rows = None\n",
      "bands = None\n",
      "datatype = None\n",
      "outDataset = None\n",
      "geoTransform = None\n",
      "proj = None\n",
      "outBand = None"
     ],
     "language": "python",
     "metadata": {},
     "outputs": [
      {
       "output_type": "stream",
       "stream": "stdout",
       "text": [
        "352 360 361\n"
       ]
      }
     ],
     "prompt_number": 13
    },
    {
     "cell_type": "code",
     "collapsed": false,
     "input": [
      "%paste\n"
     ],
     "language": "python",
     "metadata": {},
     "outputs": [
      {
       "output_type": "stream",
       "stream": "stderr",
       "text": [
        "ERROR: Line magic function `%paste` not found."
       ]
      }
     ],
     "prompt_number": 11
    },
    {
     "cell_type": "code",
     "collapsed": false,
     "input": [],
     "language": "python",
     "metadata": {},
     "outputs": []
    }
   ],
   "metadata": {}
  }
 ]
}