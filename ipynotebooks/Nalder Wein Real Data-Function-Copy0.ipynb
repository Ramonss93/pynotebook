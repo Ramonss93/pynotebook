{
 "metadata": {
  "name": "Nalder Wein Real Data-Function-Copy0"
 },
 "nbformat": 3,
 "nbformat_minor": 0,
 "worksheets": [
  {
   "cells": [
    {
     "cell_type": "heading",
     "level": 4,
     "metadata": {},
     "source": [
      "Import modules"
     ]
    },
    {
     "cell_type": "code",
     "collapsed": false,
     "input": [
      "from scipy import stats\n",
      "from scipy.spatial.distance import cdist\n",
      "from scipy.spatial import cKDTree as KDTree\n",
      "import statsmodels.api as sm\n",
      "import numpy as np\n",
      "import pandas as pd\n",
      "import gdal"
     ],
     "language": "python",
     "metadata": {},
     "outputs": [],
     "prompt_number": 8
    },
    {
     "cell_type": "heading",
     "level": 4,
     "metadata": {},
     "source": [
      "Import weather-stations who have data on 20090101"
     ]
    },
    {
     "cell_type": "code",
     "collapsed": false,
     "input": [
      "df = pd.DataFrame.from_csv(r'I:\\Documents\\Klusjes\\GIDS Interpolation Air Temperature//weatherstations_20090101.csv', header=0 )\n",
      "df = df.reset_index()\n",
      "del df['index']\n",
      "print 'Ground points\\n', df.head()"
     ],
     "language": "python",
     "metadata": {},
     "outputs": [
      {
       "output_type": "stream",
       "stream": "stdout",
       "text": [
        "Ground points\n",
        "          lati        longi  hi    ti    usaf          stationname  \\\n",
        "0 -385698.9880  5384257.038   8  58.4  450070  HONG KONG INTERNATI   \n",
        "1 -358150.6013  5404026.078  13  51.8  450320          TA KWU LING   \n",
        "2 -367831.0943  5388535.644  35  55.7  450350         LAU FAU SHAN   \n",
        "3 -372566.7328  5410987.319   8  58.6  450390              SHA TIN   \n",
        "4 -397647.8727  5395909.634  79  57.6  450440          CHEUNG CHAU   \n",
        "\n",
        "    scaledlat   scaledlong  \n",
        "0  527.301012  3534.257038  \n",
        "1  554.849399  3554.026078  \n",
        "2  545.168906  3538.535644  \n",
        "3  540.433267  3560.987319  \n",
        "4  515.352127  3545.909634  \n"
       ]
      }
     ],
     "prompt_number": 9
    },
    {
     "cell_type": "heading",
     "level": 4,
     "metadata": {},
     "source": [
      "Create kd-tree for quick nearest-neighbour lookup using scaledlat and scaledlong"
     ]
    },
    {
     "cell_type": "code",
     "collapsed": false,
     "input": [
      "Longscaled = df.ix[:,7]\n",
      "Latscaled = df.ix[:,6]\n",
      "tree = KDTree(zip(Longscaled,Latscaled), leafsize=11)"
     ],
     "language": "python",
     "metadata": {},
     "outputs": [],
     "prompt_number": 10
    },
    {
     "cell_type": "heading",
     "level": 4,
     "metadata": {},
     "source": [
      "DEM to open, check if there's a NoData value"
     ]
    },
    {
     "cell_type": "code",
     "collapsed": false,
     "input": [
      "file_raster = r'I:\\Documents\\Klusjes\\GIDS Interpolation Air Temperature//dem.tif'\n",
      "raster = gdal.Open(file_raster, gdal.GA_ReadOnly)\n",
      "band = raster.GetRasterBand(1)\n",
      "dem = band.ReadAsArray()\n",
      "print band.GetNoDataValue()\n",
      "print 'Grid to evaluate\\n', dem"
     ],
     "language": "python",
     "metadata": {},
     "outputs": [
      {
       "output_type": "stream",
       "stream": "stdout",
       "text": [
        "None\n",
        "Grid to evaluate\n",
        "[[ 248.  250.  233. ...,  184.  158.  158.]\n",
        " [ 255.  254.  243. ...,  151.  147.  144.]\n",
        " [ 264.  260.  255. ...,  135.  129.  128.]\n",
        " ..., \n",
        " [  76.   75.   70. ...,    0.    0.    0.]\n",
        " [  82.   77.   63. ...,    0.    0.    0.]\n",
        " [  74.   69.   70. ...,    0.    0.    0.]]\n"
       ]
      }
     ],
     "prompt_number": 11
    },
    {
     "cell_type": "heading",
     "level": 4,
     "metadata": {},
     "source": [
      "Get GeoTransform top left coordinate + cellsize (long,cellsize_long,x3,lat,x5,cellsize_lat) and projection info"
     ]
    },
    {
     "cell_type": "code",
     "collapsed": false,
     "input": [
      "extent = raster.GetGeoTransform()\n",
      "print extent\n",
      "print raster.GetProjection() # fyi"
     ],
     "language": "python",
     "metadata": {},
     "outputs": [
      {
       "output_type": "stream",
       "stream": "stdout",
       "text": [
        "(1850000.0, 1000.0, 0.0, 3387000.0, 0.0, -1000.0)\n",
        "PROJCS[\"IMAGINE GeoTIFF Support\n",
        "ERDAS IMAGINE 9.3 Service Pack 1 GeoTIFF support\n",
        "Projection = Albers Conical Equal Area\",GEOGCS[\"WGS 84\",DATUM[\"WGS_1984\",SPHEROID[\"WGS 84\",6378137,298.257223563,AUTHORITY[\"EPSG\",\"7030\"]],AUTHORITY[\"EPSG\",\"6326\"]],PRIMEM[\"Greenwich\",0],UNIT[\"degree\",0.0174532925199433],AUTHORITY[\"EPSG\",\"4326\"]],PROJECTION[\"Albers_Conic_Equal_Area\"],PARAMETER[\"standard_parallel_1\",15],PARAMETER[\"standard_parallel_2\",55],PARAMETER[\"latitude_of_center\",35],PARAMETER[\"longitude_of_center\",100],PARAMETER[\"false_easting\",4000000],PARAMETER[\"false_northing\",1000000],UNIT[\"meters\",1]]\n"
       ]
      }
     ],
     "prompt_number": 12
    },
    {
     "cell_type": "heading",
     "level": 4,
     "metadata": {},
     "source": [
      "Function that describe whole the function that needs to be evaluated for each cell"
     ]
    },
    {
     "cell_type": "code",
     "collapsed": false,
     "input": [
      "def GIDS(x,y):\n",
      "    \n",
      "    x_y = [(x,4299-y)] # for kd_tree that starts counting at bottom left with 0,0\n",
      "    \n",
      "    x_ = (x*extent[1]+extent[0]+extent[1]/2) # longitude aalbers projection (meters)\n",
      "    y_ = (y*extent[5]+extent[3]+extent[5]/2) # latitude aalbers projection (meters)\n",
      "    long_lat = np.array([[x_,y_]])\n",
      "    \n",
      "    #print long_lat\n",
      "    \n",
      "    dem_1 = dem[y,x] # elevation x_y coordinate\n",
      "    dist_tree, ix_tree = tree.query(x_y, k=10, eps=0, p=1) # returns distance and index\n",
      "    df_selection = df.ix[ix_tree.ravel()]\n",
      "    \n",
      "    #print 'elevation from x_y -', dem_1\n",
      "    #print '\\n10 nearest neighbours\\n', df_selection\n",
      "    \n",
      "    Longi = df_selection.ix[:,1]\n",
      "    Lati = df_selection.ix[:,0]\n",
      "    hi = df_selection.ix[:,2] \n",
      "    \n",
      "    pr_var = zip(Longi,Lati,hi) # combines predictor variables as tuples\n",
      "    y = zip(df_selection.ix[:,3]) # dependent variable\n",
      "    X = sm.add_constant(pr_var) # multiple linear regression\n",
      "    \n",
      "    #fit the model\n",
      "    mlr = sm.OLS(y,X).fit()\n",
      "    b1,b2,b3,b0 = mlr.params\n",
      "    #print mlr.summary()\n",
      "    \n",
      "    long_lat_stations = df_selection.as_matrix(columns=['longi','lati']) \n",
      "                                 \n",
      "    di = cdist(long_lat_stations, long_lat, 'euclidean') # Returns Eucleadian distance in meters between grid cell and selected weather-stations\n",
      "    #print di\n",
      "    \n",
      "    # prepare datasets as flattened numpy array or as single values\n",
      "    Hi = df_selection.as_matrix(columns=['hi']).flatten()\n",
      "    Ti = df_selection.as_matrix(columns=['ti']).flatten()\n",
      "    di_ = di.flatten()\n",
      "    long_lat_ = long_lat.flatten()\n",
      "    Longi_ = df_selection.as_matrix(columns=['longi',]).flatten()\n",
      "    Lati_ = df_selection.as_matrix(columns=['lati',]).flatten()\n",
      "    \n",
      "    top =    sum( (1/di_)**2 )**-1\n",
      "    long_f = b1*(long_lat_[0]-Longi_)\n",
      "    lat_f =  b2*(long_lat_[1]-Lati_)\n",
      "    h_f =    b3*(dem_1-Hi)\n",
      "    middle = Ti + long_f + lat_f + h_f\n",
      "    end = (1/di_)**2 \n",
      "    comb = top * sum( middle * end )\n",
      "    #print comb\n",
      "    return comb"
     ],
     "language": "python",
     "metadata": {},
     "outputs": [],
     "prompt_number": 13
    },
    {
     "cell_type": "code",
     "collapsed": false,
     "input": [
      "GIDS(2500,2500)"
     ],
     "language": "python",
     "metadata": {},
     "outputs": [
      {
       "output_type": "stream",
       "stream": "stderr",
       "text": [
        "D:\\Python27\\lib\\site-packages\\statsmodels\\tools\\tools.py:306: FutureWarning: The default of `prepend` will be changed to True in 0.5.0, use explicit prepend\n",
        "  FutureWarning)\n"
       ]
      },
      {
       "output_type": "pyout",
       "prompt_number": 14,
       "text": [
        "22.242377258970244"
       ]
      }
     ],
     "prompt_number": 14
    },
    {
     "cell_type": "code",
     "collapsed": false,
     "input": [],
     "language": "python",
     "metadata": {},
     "outputs": [],
     "prompt_number": 14
    },
    {
     "cell_type": "code",
     "collapsed": false,
     "input": [
      "tp = np.zeros([4599,4299])\n",
      "tp.shape\n",
      "tp[0][0]"
     ],
     "language": "python",
     "metadata": {},
     "outputs": [
      {
       "output_type": "pyout",
       "prompt_number": 19,
       "text": [
        "0.0"
       ]
      }
     ],
     "prompt_number": 19
    },
    {
     "cell_type": "code",
     "collapsed": false,
     "input": [
      "#Double for-loop\n",
      "for x in range(4599):\n",
      "    for y in range(4299):        \n",
      "        tp[x][y] = GIDS(x,y)\n",
      "#print 'T predicted\\n', tp"
     ],
     "language": "python",
     "metadata": {},
     "outputs": [],
     "prompt_number": "*"
    },
    {
     "cell_type": "code",
     "collapsed": false,
     "input": [],
     "language": "python",
     "metadata": {},
     "outputs": [
      {
       "output_type": "pyout",
       "prompt_number": 17,
       "text": [
        "array([[ 44.97641132,  44.94256414,  44.90102185, ...,  43.63618401,\n",
        "         43.73315178,  43.77625377],\n",
        "       [ 44.94296518,  44.92066077,  44.89066126, ...,  43.62198888,\n",
        "         43.66124351,  43.75436384],\n",
        "       [ 44.9826225 ,  44.93723291,  44.8841482 , ...,  43.60009864,\n",
        "         43.63935343,  43.69784594],\n",
        "       ..., \n",
        "       [ 41.92046988,  42.00975694,  41.99131257, ...,  41.44349028,\n",
        "         41.43274293,  41.38736761],\n",
        "       [ 41.92164684,  41.97245851,  41.95786183, ...,  41.37927426,\n",
        "         41.36467954,  41.35393237],\n",
        "       [ 41.70736079,  41.90437959,  41.90902081, ...,  41.32275329,\n",
        "         41.33124406,  41.32819218]])"
       ]
      }
     ],
     "prompt_number": 17
    },
    {
     "cell_type": "code",
     "collapsed": false,
     "input": [
      "# Evaluation of vectorized function using meshgrid\n",
      "x = np.arange(0,100,1)\n",
      "y = np.arange(0,100,1)\n",
      "xx, yy = np.meshgrid(x,y, sparse=True)\n",
      "f_vec = np.vectorize(g) # vectorization of function f"
     ],
     "language": "python",
     "metadata": {},
     "outputs": []
    },
    {
     "cell_type": "code",
     "collapsed": false,
     "input": [
      "for i in range(0,4600;2):\n",
      "tp_vec = f_vec(xx,yy).T\n",
      "#print 'meshgrid\\nx\\n', xx,'\\ny\\n',yy\n",
      "#print 'T predicted using vectorized function\\n', tp_vec"
     ],
     "language": "python",
     "metadata": {},
     "outputs": []
    },
    {
     "cell_type": "code",
     "collapsed": false,
     "input": [
      "xx, yy"
     ],
     "language": "python",
     "metadata": {},
     "outputs": []
    },
    {
     "cell_type": "code",
     "collapsed": false,
     "input": [
      "f_vec"
     ],
     "language": "python",
     "metadata": {},
     "outputs": []
    },
    {
     "cell_type": "code",
     "collapsed": false,
     "input": [
      "dem[0:100,:]"
     ],
     "language": "python",
     "metadata": {},
     "outputs": []
    },
    {
     "cell_type": "code",
     "collapsed": false,
     "input": [
      "dem"
     ],
     "language": "python",
     "metadata": {},
     "outputs": []
    },
    {
     "cell_type": "code",
     "collapsed": false,
     "input": [],
     "language": "python",
     "metadata": {},
     "outputs": []
    },
    {
     "cell_type": "code",
     "collapsed": false,
     "input": [
      "tp[0:4310,:] = dem[0:4310,:]"
     ],
     "language": "python",
     "metadata": {},
     "outputs": []
    },
    {
     "cell_type": "code",
     "collapsed": false,
     "input": [
      "tp = np.zeros([4300,4600])"
     ],
     "language": "python",
     "metadata": {},
     "outputs": []
    },
    {
     "cell_type": "code",
     "collapsed": false,
     "input": [
      "tp = np.zeros([4300,4600])\n",
      "f_vec = np.vectorize(h) # vectorization of function f\n",
      "for i in xrange(0,10,2):\n",
      "    step = i+2\n",
      "    dem_ = dem[i:step,:]\n",
      "    print dem_\n",
      "    # Evaluation of vectorized function using meshgrid\n",
      "    x = np.arange(0,4600,1)\n",
      "    y = np.arange(i,step,1)\n",
      "    xx, yy = np.meshgrid(x,y, sparse=True)\n",
      "    print xx, yy\n",
      "    tp[i:step,:] = f_vec(xx,yy)\n",
      "    "
     ],
     "language": "python",
     "metadata": {},
     "outputs": []
    },
    {
     "cell_type": "code",
     "collapsed": false,
     "input": [],
     "language": "python",
     "metadata": {},
     "outputs": []
    }
   ],
   "metadata": {}
  }
 ]
}