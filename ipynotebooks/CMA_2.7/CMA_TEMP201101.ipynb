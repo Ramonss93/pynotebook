{
 "metadata": {
  "name": ""
 },
 "nbformat": 3,
 "nbformat_minor": 0,
 "worksheets": [
  {
   "cells": [
    {
     "cell_type": "code",
     "collapsed": false,
     "input": [
      "filepath = r'E:\\Data\\WangKun@Mattijn\\Atmospheric data_hourly\\2011\\201101'\n",
      "filestations = r'E:\\Data\\WangKun@Mattijn\\Radiation_hourly\\AWS_stations_Aalbers.csv'\n",
      "folderDEM = r'E:\\Data\\WangKun@Mattijn\\DEM_TILE6'\n",
      "folderMSK = r'E:\\Data\\WangKun@Mattijn\\DEM_MASK'\n",
      "prefix = 't'\n",
      "outFolder = r'E:\\Data\\WangKun@Mattijn\\outfolder\\t01//'"
     ],
     "language": "python",
     "metadata": {},
     "outputs": [],
     "prompt_number": 1
    },
    {
     "cell_type": "code",
     "collapsed": false,
     "input": [
      "from scipy import stats\n",
      "from scipy.spatial.distance import cdist\n",
      "from scipy.spatial import cKDTree as KDTree\n",
      "import statsmodels.api as sm\n",
      "import numpy as np\n",
      "import pandas as pd\n",
      "import gdal\n",
      "import os\n",
      "from __future__ import division"
     ],
     "language": "python",
     "metadata": {},
     "outputs": [],
     "prompt_number": 2
    },
    {
     "cell_type": "code",
     "collapsed": false,
     "input": [
      "def FILES(inGSODFolder):\n",
      "    st_wmo = [os.path.join(root, name)\n",
      "               for root, dirs, files in os.walk(inGSODFolder)\n",
      "                 for name in files                 \n",
      "                 if name.endswith('')]\n",
      "    return st_wmo"
     ],
     "language": "python",
     "metadata": {},
     "outputs": [],
     "prompt_number": 3
    },
    {
     "cell_type": "code",
     "collapsed": false,
     "input": [
      "def DEMfiles(inDEMFolder):\n",
      "    dem_files = [os.path.join(root, name)\n",
      "               for root, dirs, files in os.walk(inDEMFolder)\n",
      "                 for name in files\n",
      "                 if name.endswith('.TIF')]\n",
      "    return dem_files"
     ],
     "language": "python",
     "metadata": {},
     "outputs": [],
     "prompt_number": 4
    },
    {
     "cell_type": "code",
     "collapsed": false,
     "input": [
      "def inRaster(fileDEM):\n",
      "    raster = gdal.Open(fileDEM, gdal.GA_ReadOnly)\n",
      "    band = raster.GetRasterBand(1)\n",
      "    dem = band.ReadAsArray()\n",
      "    extent = raster.GetGeoTransform()\n",
      "    return raster, dem, extent"
     ],
     "language": "python",
     "metadata": {},
     "outputs": [],
     "prompt_number": 5
    },
    {
     "cell_type": "code",
     "collapsed": false,
     "input": [
      "def saveRaster(path, array, datatype=3, formatraster=\"GTiff\"): # float32 = 6, signed int = 3\n",
      "    # Set Driver\n",
      "    format_ = formatraster #save as format\n",
      "    driver = gdal.GetDriverByName( format_ )\n",
      "    driver.Register()\n",
      "    \n",
      "    # Set Metadata for Raster output\n",
      "    cols = raster.RasterXSize\n",
      "    rows = raster.RasterYSize\n",
      "    bands = raster.RasterCount\n",
      "    datatype = 6#band.DataType\n",
      "    \n",
      "    # Set Projection for Raster\n",
      "    outDataset = driver.Create(outFilename, cols, rows, bands, datatype)\n",
      "    geoTransform = raster.GetGeoTransform()\n",
      "    outDataset.SetGeoTransform(geoTransform)\n",
      "    proj = raster.GetProjection()\n",
      "    outDataset.SetProjection(proj)\n",
      "    \n",
      "    # Write output to band 1 of new Raster\n",
      "    outBand = outDataset.GetRasterBand(1)\n",
      "    outBand.WriteArray(array) #save input array\n",
      "    #outBand.WriteArray(dem)\n",
      "    \n",
      "    # Close and finalise newly created Raster\n",
      "    #F_M01 = None\n",
      "    outBand = None\n",
      "    proj = None\n",
      "    geoTransform = None\n",
      "    outDataset = None\n",
      "    driver = None\n",
      "    datatype = None\n",
      "    bands = None\n",
      "    rows = None\n",
      "    cols = None\n",
      "    driver = None\n",
      "    array = None"
     ],
     "language": "python",
     "metadata": {},
     "outputs": [],
     "prompt_number": 6
    },
    {
     "cell_type": "code",
     "collapsed": false,
     "input": [
      "def GIDS(x,y):    \n",
      "    x_y = [(x,y)] # for kd_tree that starts counting at bottom left with 0,0\n",
      "    #print x_y\n",
      "    x_ = (x*extent[1]+extent[0]+extent[1]/2) # longitude aalbers projection (meters)\n",
      "    y_ = (y*extent[5]+extent[3]+extent[5]/2) # latitude aalbers projection (meters)\n",
      "    long_lat = np.array([[x_,y_]])\n",
      "    \n",
      "    #print long_lat\n",
      "    \n",
      "    dem_1 = dem[y,x] # elevation x_y coordinate\n",
      "    dist_tree, ix_tree = tree.query(x_y, k=8, eps=0, p=1) # returns distance and index\n",
      "    df_selection = df.ix[ix_tree.ravel()]\n",
      "    \n",
      "    #print 'elevation from x_y =', dem_1\n",
      "    #print '\\n8 nearest neighbours\\n', df_selection\n",
      "    \n",
      "    Longi = df_selection.ix[:,5] # meters - Aalbers projection\n",
      "    Lati = df_selection.ix[:,6] # meters - Aalbers projection\n",
      "    hi = df_selection.ix[:,2]\n",
      "    \n",
      "    ##TEMP\n",
      "    ti = df_selection.ix[:,1]\n",
      "    #print 'ti\\n',ti    \n",
      "    \n",
      "    pr_var = zip(Longi,Lati,hi) # combines predictor variables as tuples\n",
      "    y = zip(ti) # dependent variable\n",
      "    X = sm.add_constant(pr_var, prepend=True) # multiple linear regression\n",
      "    \n",
      "    #fit the model\n",
      "    mlr = sm.OLS(y,X).fit()\n",
      "    b0,b1,b2,b3 = mlr.params\n",
      "    #print '\\nMultiLineair regression\\n', mlr.summary()\n",
      "    \n",
      "    long_lat_stations = df_selection.as_matrix(columns=['POINT_X','POINT_Y']) \n",
      "                                 \n",
      "    di = cdist(long_lat_stations, long_lat, 'euclidean') # Returns Eucleadian distance in meters between grid cell and selected weather-stations\n",
      "    #print '\\nDistances\\n',di\n",
      "    \n",
      "    # prepare datasets as flattened numpy array or as single values\n",
      "    Hi = df_selection.as_matrix(columns=['Elev']).flatten()\n",
      "    Ti = df_selection.as_matrix(columns=['TEMP']).flatten()\n",
      "    #Ti = (Ti-32)*(5/9)\n",
      "    \n",
      "    di_ = di.flatten()\n",
      "    long_lat_ = long_lat.flatten()\n",
      "    Longi_ = df_selection.as_matrix(columns=['POINT_X',]).flatten()\n",
      "    Lati_ = df_selection.as_matrix(columns=['POINT_Y',]).flatten()\n",
      "    #print '\\nhi\\n',Hi\n",
      "    #print '\\nti\\n',Ti\n",
      "    #print '\\ndi\\n',di\n",
      "    #print '\\nlong_lat\\n',long_lat\n",
      "    #print '\\nlongi\\n',Longi_\n",
      "    #print '\\nlati\\n',Lati_\n",
      "    \n",
      "    top =    sum( (1/di_)**2 )**-1\n",
      "    long_f = b1*(long_lat_[0]-Longi_)\n",
      "    lat_f =  b2*(long_lat_[1]-Lati_)\n",
      "    h_f =    b3*(dem_1-Hi)\n",
      "    middle = Ti + long_f + lat_f + h_f\n",
      "    end = (1/di_)**2 \n",
      "    comb = top * sum( middle * end )\n",
      "    #print comb\n",
      "    return comb"
     ],
     "language": "python",
     "metadata": {},
     "outputs": [],
     "prompt_number": 7
    },
    {
     "cell_type": "code",
     "collapsed": false,
     "input": [
      "# select meteorological data file\n",
      "file_ = FILES(filepath)\n",
      "f = file_[0]\n",
      "print f\n",
      "\n",
      "# create range of dates\n",
      "rng = pd.date_range('1/1/2011', '1/30/2011', freq='D')\n",
      "print rng"
     ],
     "language": "python",
     "metadata": {},
     "outputs": [
      {
       "output_type": "stream",
       "stream": "stdout",
       "text": [
        "E:\\Data\\WangKun@Mattijn\\Atmospheric data_hourly\\2011\\201101\\SURF_CLI_CHN_MUL_FTM-201101.TXT\n",
        "<class 'pandas.tseries.index.DatetimeIndex'>\n",
        "[2011-01-01 00:00:00, ..., 2011-01-30 00:00:00]\n",
        "Length: 30, Freq: D, Timezone: None\n"
       ]
      }
     ],
     "prompt_number": 8
    },
    {
     "cell_type": "code",
     "collapsed": false,
     "input": [
      "# read file and parse the dates correctly\n",
      "df = pd.read_csv(f, sep='\\t', header=None,  \n",
      "                 parse_dates={'datetime': [1,2,3,4]}, \n",
      "                 date_parser=lambda x: pd.datetime.strptime(x, '%Y %m %d %H'))\n",
      "\n",
      "# set name of columns\n",
      "columns_df = ['datetime','Station','STP','a','TEMP','b','c','d','REHU','e','f','g','PRCP','h','i','WDSP','j','k','l','m','n','o', \\\n",
      "              'p','q','r','s','t']\n",
      "df.columns = columns_df\n",
      "\n",
      "# set date-time as index and select the variables needed\n",
      "df.set_index('datetime', inplace=True)\n",
      "df_sel = df[['Station', 'TEMP']]#'STP','TEMP','REHU','PRCP','WDSP']]\n",
      "\n",
      "# replace missing, blank and values for snow as NaN\n",
      "df_sel.replace(32766, np.nan, inplace=True)\n",
      "df_sel.replace(32744, np.nan, inplace=True)\n",
      "df_sel.replace(32700, np.nan, inplace=True)\n",
      "\n",
      "# make appropriate concersions to right unit\n",
      "#df_sel.STP *= 0.1\n",
      "df_sel.TEMP *= 10\n",
      "#df_sel.PRCP *= 0.1\n",
      "#df_sel.STP *= 0.1\n",
      "\n",
      "# group by Station ID and resample to daily values\n",
      "df_selDay = df_sel.groupby('Station').resample('1D')\n",
      "df_selDay = df_selDay.drop('Station',1)\n",
      "df_selDay = df_selDay.reset_index()\n",
      "df_selDay = df_selDay.set_index('datetime')\n",
      "print df_selDay.head()"
     ],
     "language": "python",
     "metadata": {},
     "outputs": [
      {
       "output_type": "stream",
       "stream": "stdout",
       "text": [
        "            Station         TEMP\n",
        "datetime                        \n",
        "2011-01-01    50136 -3110.416667\n",
        "2011-01-02    50136 -2915.833333\n",
        "2011-01-03    50136 -2992.500000\n",
        "2011-01-04    50136 -2160.416667\n",
        "2011-01-05    50136 -1476.250000\n"
       ]
      }
     ],
     "prompt_number": 9
    },
    {
     "cell_type": "markdown",
     "metadata": {},
     "source": [
      "TEEEESSSSTTTT"
     ]
    },
    {
     "cell_type": "code",
     "collapsed": false,
     "input": [
      "rng[]\n"
     ],
     "language": "python",
     "metadata": {},
     "outputs": []
    },
    {
     "cell_type": "code",
     "collapsed": false,
     "input": [
      "rsters = DEMfiles(folderDEM)\n",
      "masks = DEMfiles(folderMSK)\n",
      "#st_wmo = GSODfiles(folderGSOD)\n",
      "for rster in rsters:    \n",
      "    raster, dem, extent = inRaster(rster)    \n",
      "    for mask in masks:\n",
      "        if len(rster) == 43 and len(mask)==42:\n",
      "            if int(mask[-6:-4]) == int(rster[-6:-4]):\n",
      "                mskpth = mask                \n",
      "        elif len(rster) == 42 and len(mask)==41:\n",
      "            if int(mask[-5:-4]) == int(rster[-5:-4]):\n",
      "                mskpth = mask\n",
      "    m_raster, m_dem, m_extent = inRaster(mskpth)\n",
      "    dem_j = m_dem.shape[1]\n",
      "    dem_i = m_dem.shape[0]\n",
      "    for x in range(0,dem_j):\n",
      "        for y in range(0,dem_i):\n",
      "    #        print x, y, m_dem[y,x]\n",
      "            if m_dem[y,x] == 1:\n",
      "                tp[x][y] = GIDS(x,y)\n",
      "            else:\n",
      "                tp[x][y] = 32677"
     ],
     "language": "python",
     "metadata": {},
     "outputs": []
    },
    {
     "cell_type": "markdown",
     "metadata": {},
     "source": [
      "TEEEEESSSSTTTT"
     ]
    },
    {
     "cell_type": "code",
     "collapsed": false,
     "input": [
      "rsters = DEMfiles(folderDEM)\n",
      "masks = DEMfiles(folderMSK)\n",
      "#st_wmo = GSODfiles(folderGSOD)\n",
      "for rster in rsters:    \n",
      "    raster, dem, extent = inRaster(rster)    \n",
      "    for mask in masks:\n",
      "        if len(rster) == 43 and len(mask)==42:\n",
      "            if int(mask[-6:-4]) == int(rster[-6:-4]):\n",
      "                mskpth = mask                \n",
      "        elif len(rster) == 42 and len(mask)==41:\n",
      "            if int(mask[-5:-4]) == int(rster[-5:-4]):\n",
      "                mskpth = mask\n",
      "    m_raster, m_dem, m_extent = inRaster(mskpth)\n",
      "    #print raster.GetDescription()\n",
      "    #print m_raster.GetDescription()\n",
      "    #for date in date_all:\n",
      "    for i in rng[1::]:\n",
      "        \n",
      "        # read station file\n",
      "        df_stations = pd.read_csv(filestations)        \n",
      "        \n",
      "        df_stations['Y_LAT'] = (df_stations.POINT_Y-extent[3])/extent[5]\n",
      "        df_stations['X_LON'] = (df_stations.POINT_X-extent[0])/extent[1]\n",
      "        \n",
      "        #print '\\ndate of range\\n', i\n",
      "        data_left = df_selDay.ix[i]    \n",
      "        sel_merge = pd.merge(data_left, df_stations, on='Station', how='inner', )\n",
      "        #print '\\nInner merge on station and data frame\\n', sel_merge.head()\n",
      "        \n",
      "        #TEMP\n",
      "        df = sel_merge[pd.notnull(sel_merge['TEMP'])]\n",
      "        df.reset_index(drop=True, inplace=True)\n",
      "        \n",
      "        #df.TEMP =df.TEMP.astype(int)\n",
      "        #print '\\nDrop not null and reset index\\n', df.head()\n",
      "\n",
      "        Longscaled = df.ix[:,8]\n",
      "        #print '\\nlongscaled\\n', Longscaled\n",
      "        Latscaled = df.ix[:,7]\n",
      "        #print '\\nlatscaled\\n', Latscaled\n",
      "        tree = KDTree(zip(Longscaled,Latscaled), leafsize=11)\n",
      "    \n",
      "        tp = np.zeros([dem.shape[1],dem.shape[0]])\n",
      "        \n",
      "        #x = 0\n",
      "        #y = 0\n",
      "        #print GIDS(x,y)\n",
      "        dem_j = m_dem.shape[1]\n",
      "        dem_i = m_dem.shape[0]\n",
      "        for x in range(0,dem_j):\n",
      "            for y in range(0,dem_i):\n",
      "        #        print x, y, m_dem[y,x]\n",
      "                if m_dem[y,x] == 1:\n",
      "                    tp[x][y] = GIDS(x,y)\n",
      "                else:\n",
      "                    tp[x][y] = 32677        \n",
      "        \n",
      "#        for x in range(0,dem.shape[1],1):\n",
      "#            for y in range(0,dem.shape[0],1):\n",
      "#                tp[x][y] = GIDS(x,y)\n",
      "        tp = tp.T\n",
      "        \n",
      "        #save output as raster\n",
      "        if len(raster.GetDescription()) == 43: # fixed code to check the length of the path\n",
      "            add = raster.GetDescription()[-6:-4]\n",
      "        else:\n",
      "            add = raster.GetDescription()[-5:-4]\n",
      "            \n",
      "        date = str(i.year)+str(i.month).zfill(2)+str(i.day).zfill(2)\n",
      "        outFilename = outFolder+prefix+str(date)+'_'+str(add.zfill(2))+'.tif'\n",
      "        print outFilename\n",
      "        \n",
      "        saveRaster(outFilename, tp)\n",
      "        outFilename = None\n",
      "        tp = None"
     ],
     "language": "python",
     "metadata": {},
     "outputs": [
      {
       "output_type": "stream",
       "stream": "stdout",
       "text": [
        "E:\\Data\\WangKun@Mattijn\\outfolder\\t01//t20110102_11.tif\n",
        "E:\\Data\\WangKun@Mattijn\\outfolder\\t01//t20110103_11.tif"
       ]
      },
      {
       "output_type": "stream",
       "stream": "stdout",
       "text": [
        "\n",
        "E:\\Data\\WangKun@Mattijn\\outfolder\\t01//t20110104_11.tif"
       ]
      },
      {
       "output_type": "stream",
       "stream": "stdout",
       "text": [
        "\n",
        "E:\\Data\\WangKun@Mattijn\\outfolder\\t01//t20110105_11.tif"
       ]
      },
      {
       "output_type": "stream",
       "stream": "stdout",
       "text": [
        "\n",
        "E:\\Data\\WangKun@Mattijn\\outfolder\\t01//t20110106_11.tif"
       ]
      },
      {
       "output_type": "stream",
       "stream": "stdout",
       "text": [
        "\n",
        "E:\\Data\\WangKun@Mattijn\\outfolder\\t01//t20110107_11.tif"
       ]
      },
      {
       "output_type": "stream",
       "stream": "stdout",
       "text": [
        "\n",
        "E:\\Data\\WangKun@Mattijn\\outfolder\\t01//t20110108_11.tif"
       ]
      },
      {
       "output_type": "stream",
       "stream": "stdout",
       "text": [
        "\n",
        "E:\\Data\\WangKun@Mattijn\\outfolder\\t01//t20110109_11.tif"
       ]
      },
      {
       "output_type": "stream",
       "stream": "stdout",
       "text": [
        "\n",
        "E:\\Data\\WangKun@Mattijn\\outfolder\\t01//t20110110_11.tif"
       ]
      },
      {
       "output_type": "stream",
       "stream": "stdout",
       "text": [
        "\n",
        "E:\\Data\\WangKun@Mattijn\\outfolder\\t01//t20110111_11.tif"
       ]
      },
      {
       "output_type": "stream",
       "stream": "stdout",
       "text": [
        "\n",
        "E:\\Data\\WangKun@Mattijn\\outfolder\\t01//t20110112_11.tif"
       ]
      },
      {
       "output_type": "stream",
       "stream": "stdout",
       "text": [
        "\n",
        "E:\\Data\\WangKun@Mattijn\\outfolder\\t01//t20110113_11.tif"
       ]
      },
      {
       "output_type": "stream",
       "stream": "stdout",
       "text": [
        "\n",
        "E:\\Data\\WangKun@Mattijn\\outfolder\\t01//t20110114_11.tif"
       ]
      },
      {
       "output_type": "stream",
       "stream": "stdout",
       "text": [
        "\n",
        "E:\\Data\\WangKun@Mattijn\\outfolder\\t01//t20110115_11.tif"
       ]
      },
      {
       "output_type": "stream",
       "stream": "stdout",
       "text": [
        "\n",
        "E:\\Data\\WangKun@Mattijn\\outfolder\\t01//t20110116_11.tif"
       ]
      },
      {
       "output_type": "stream",
       "stream": "stdout",
       "text": [
        "\n",
        "E:\\Data\\WangKun@Mattijn\\outfolder\\t01//t20110117_11.tif"
       ]
      },
      {
       "output_type": "stream",
       "stream": "stdout",
       "text": [
        "\n",
        "E:\\Data\\WangKun@Mattijn\\outfolder\\t01//t20110118_11.tif"
       ]
      },
      {
       "output_type": "stream",
       "stream": "stdout",
       "text": [
        "\n",
        "E:\\Data\\WangKun@Mattijn\\outfolder\\t01//t20110119_11.tif"
       ]
      },
      {
       "output_type": "stream",
       "stream": "stdout",
       "text": [
        "\n",
        "E:\\Data\\WangKun@Mattijn\\outfolder\\t01//t20110120_11.tif"
       ]
      },
      {
       "output_type": "stream",
       "stream": "stdout",
       "text": [
        "\n",
        "E:\\Data\\WangKun@Mattijn\\outfolder\\t01//t20110121_11.tif"
       ]
      },
      {
       "output_type": "stream",
       "stream": "stdout",
       "text": [
        "\n",
        "E:\\Data\\WangKun@Mattijn\\outfolder\\t01//t20110122_11.tif"
       ]
      },
      {
       "output_type": "stream",
       "stream": "stdout",
       "text": [
        "\n",
        "E:\\Data\\WangKun@Mattijn\\outfolder\\t01//t20110123_11.tif"
       ]
      },
      {
       "output_type": "stream",
       "stream": "stdout",
       "text": [
        "\n",
        "E:\\Data\\WangKun@Mattijn\\outfolder\\t01//t20110124_11.tif"
       ]
      },
      {
       "output_type": "stream",
       "stream": "stdout",
       "text": [
        "\n",
        "E:\\Data\\WangKun@Mattijn\\outfolder\\t01//t20110125_11.tif"
       ]
      },
      {
       "output_type": "stream",
       "stream": "stdout",
       "text": [
        "\n",
        "E:\\Data\\WangKun@Mattijn\\outfolder\\t01//t20110126_11.tif"
       ]
      },
      {
       "output_type": "stream",
       "stream": "stdout",
       "text": [
        "\n",
        "E:\\Data\\WangKun@Mattijn\\outfolder\\t01//t20110127_11.tif"
       ]
      },
      {
       "output_type": "stream",
       "stream": "stdout",
       "text": [
        "\n",
        "E:\\Data\\WangKun@Mattijn\\outfolder\\t01//t20110128_11.tif"
       ]
      },
      {
       "output_type": "stream",
       "stream": "stdout",
       "text": [
        "\n",
        "E:\\Data\\WangKun@Mattijn\\outfolder\\t01//t20110129_11.tif"
       ]
      },
      {
       "output_type": "stream",
       "stream": "stdout",
       "text": [
        "\n",
        "E:\\Data\\WangKun@Mattijn\\outfolder\\t01//t20110130_11.tif"
       ]
      },
      {
       "output_type": "stream",
       "stream": "stdout",
       "text": [
        "\n",
        "E:\\Data\\WangKun@Mattijn\\outfolder\\t01//t20110102_12.tif"
       ]
      },
      {
       "output_type": "stream",
       "stream": "stdout",
       "text": [
        "\n",
        "E:\\Data\\WangKun@Mattijn\\outfolder\\t01//t20110103_12.tif"
       ]
      },
      {
       "output_type": "stream",
       "stream": "stdout",
       "text": [
        "\n",
        "E:\\Data\\WangKun@Mattijn\\outfolder\\t01//t20110104_12.tif"
       ]
      },
      {
       "output_type": "stream",
       "stream": "stdout",
       "text": [
        "\n",
        "E:\\Data\\WangKun@Mattijn\\outfolder\\t01//t20110105_12.tif"
       ]
      },
      {
       "output_type": "stream",
       "stream": "stdout",
       "text": [
        "\n",
        "E:\\Data\\WangKun@Mattijn\\outfolder\\t01//t20110106_12.tif"
       ]
      },
      {
       "output_type": "stream",
       "stream": "stdout",
       "text": [
        "\n",
        "E:\\Data\\WangKun@Mattijn\\outfolder\\t01//t20110107_12.tif"
       ]
      },
      {
       "output_type": "stream",
       "stream": "stdout",
       "text": [
        "\n",
        "E:\\Data\\WangKun@Mattijn\\outfolder\\t01//t20110108_12.tif"
       ]
      },
      {
       "output_type": "stream",
       "stream": "stdout",
       "text": [
        "\n",
        "E:\\Data\\WangKun@Mattijn\\outfolder\\t01//t20110109_12.tif"
       ]
      },
      {
       "output_type": "stream",
       "stream": "stdout",
       "text": [
        "\n",
        "E:\\Data\\WangKun@Mattijn\\outfolder\\t01//t20110110_12.tif"
       ]
      },
      {
       "output_type": "stream",
       "stream": "stdout",
       "text": [
        "\n",
        "E:\\Data\\WangKun@Mattijn\\outfolder\\t01//t20110111_12.tif"
       ]
      },
      {
       "output_type": "stream",
       "stream": "stdout",
       "text": [
        "\n",
        "E:\\Data\\WangKun@Mattijn\\outfolder\\t01//t20110112_12.tif"
       ]
      },
      {
       "output_type": "stream",
       "stream": "stdout",
       "text": [
        "\n",
        "E:\\Data\\WangKun@Mattijn\\outfolder\\t01//t20110113_12.tif"
       ]
      },
      {
       "output_type": "stream",
       "stream": "stdout",
       "text": [
        "\n",
        "E:\\Data\\WangKun@Mattijn\\outfolder\\t01//t20110114_12.tif"
       ]
      },
      {
       "output_type": "stream",
       "stream": "stdout",
       "text": [
        "\n",
        "E:\\Data\\WangKun@Mattijn\\outfolder\\t01//t20110115_12.tif"
       ]
      },
      {
       "output_type": "stream",
       "stream": "stdout",
       "text": [
        "\n",
        "E:\\Data\\WangKun@Mattijn\\outfolder\\t01//t20110116_12.tif"
       ]
      },
      {
       "output_type": "stream",
       "stream": "stdout",
       "text": [
        "\n",
        "E:\\Data\\WangKun@Mattijn\\outfolder\\t01//t20110117_12.tif"
       ]
      },
      {
       "output_type": "stream",
       "stream": "stdout",
       "text": [
        "\n",
        "E:\\Data\\WangKun@Mattijn\\outfolder\\t01//t20110118_12.tif"
       ]
      },
      {
       "output_type": "stream",
       "stream": "stdout",
       "text": [
        "\n",
        "E:\\Data\\WangKun@Mattijn\\outfolder\\t01//t20110119_12.tif"
       ]
      },
      {
       "output_type": "stream",
       "stream": "stdout",
       "text": [
        "\n",
        "E:\\Data\\WangKun@Mattijn\\outfolder\\t01//t20110120_12.tif"
       ]
      },
      {
       "output_type": "stream",
       "stream": "stdout",
       "text": [
        "\n",
        "E:\\Data\\WangKun@Mattijn\\outfolder\\t01//t20110121_12.tif"
       ]
      },
      {
       "output_type": "stream",
       "stream": "stdout",
       "text": [
        "\n",
        "E:\\Data\\WangKun@Mattijn\\outfolder\\t01//t20110122_12.tif"
       ]
      },
      {
       "output_type": "stream",
       "stream": "stdout",
       "text": [
        "\n",
        "E:\\Data\\WangKun@Mattijn\\outfolder\\t01//t20110123_12.tif"
       ]
      },
      {
       "output_type": "stream",
       "stream": "stdout",
       "text": [
        "\n",
        "E:\\Data\\WangKun@Mattijn\\outfolder\\t01//t20110124_12.tif"
       ]
      },
      {
       "output_type": "stream",
       "stream": "stdout",
       "text": [
        "\n",
        "E:\\Data\\WangKun@Mattijn\\outfolder\\t01//t20110125_12.tif"
       ]
      },
      {
       "output_type": "stream",
       "stream": "stdout",
       "text": [
        "\n",
        "E:\\Data\\WangKun@Mattijn\\outfolder\\t01//t20110126_12.tif"
       ]
      },
      {
       "output_type": "stream",
       "stream": "stdout",
       "text": [
        "\n",
        "E:\\Data\\WangKun@Mattijn\\outfolder\\t01//t20110127_12.tif"
       ]
      },
      {
       "output_type": "stream",
       "stream": "stdout",
       "text": [
        "\n",
        "E:\\Data\\WangKun@Mattijn\\outfolder\\t01//t20110128_12.tif"
       ]
      },
      {
       "output_type": "stream",
       "stream": "stdout",
       "text": [
        "\n",
        "E:\\Data\\WangKun@Mattijn\\outfolder\\t01//t20110129_12.tif"
       ]
      },
      {
       "output_type": "stream",
       "stream": "stdout",
       "text": [
        "\n",
        "E:\\Data\\WangKun@Mattijn\\outfolder\\t01//t20110130_12.tif"
       ]
      },
      {
       "output_type": "stream",
       "stream": "stdout",
       "text": [
        "\n",
        "E:\\Data\\WangKun@Mattijn\\outfolder\\t01//t20110102_13.tif"
       ]
      },
      {
       "output_type": "stream",
       "stream": "stdout",
       "text": [
        "\n",
        "E:\\Data\\WangKun@Mattijn\\outfolder\\t01//t20110103_13.tif"
       ]
      },
      {
       "output_type": "stream",
       "stream": "stdout",
       "text": [
        "\n",
        "E:\\Data\\WangKun@Mattijn\\outfolder\\t01//t20110104_13.tif"
       ]
      },
      {
       "output_type": "stream",
       "stream": "stdout",
       "text": [
        "\n",
        "E:\\Data\\WangKun@Mattijn\\outfolder\\t01//t20110105_13.tif"
       ]
      },
      {
       "output_type": "stream",
       "stream": "stdout",
       "text": [
        "\n",
        "E:\\Data\\WangKun@Mattijn\\outfolder\\t01//t20110106_13.tif"
       ]
      },
      {
       "output_type": "stream",
       "stream": "stdout",
       "text": [
        "\n",
        "E:\\Data\\WangKun@Mattijn\\outfolder\\t01//t20110107_13.tif"
       ]
      },
      {
       "output_type": "stream",
       "stream": "stdout",
       "text": [
        "\n",
        "E:\\Data\\WangKun@Mattijn\\outfolder\\t01//t20110108_13.tif"
       ]
      },
      {
       "output_type": "stream",
       "stream": "stdout",
       "text": [
        "\n",
        "E:\\Data\\WangKun@Mattijn\\outfolder\\t01//t20110109_13.tif"
       ]
      },
      {
       "output_type": "stream",
       "stream": "stdout",
       "text": [
        "\n",
        "E:\\Data\\WangKun@Mattijn\\outfolder\\t01//t20110110_13.tif"
       ]
      },
      {
       "output_type": "stream",
       "stream": "stdout",
       "text": [
        "\n",
        "E:\\Data\\WangKun@Mattijn\\outfolder\\t01//t20110111_13.tif"
       ]
      },
      {
       "output_type": "stream",
       "stream": "stdout",
       "text": [
        "\n",
        "E:\\Data\\WangKun@Mattijn\\outfolder\\t01//t20110112_13.tif"
       ]
      },
      {
       "output_type": "stream",
       "stream": "stdout",
       "text": [
        "\n",
        "E:\\Data\\WangKun@Mattijn\\outfolder\\t01//t20110113_13.tif"
       ]
      },
      {
       "output_type": "stream",
       "stream": "stdout",
       "text": [
        "\n",
        "E:\\Data\\WangKun@Mattijn\\outfolder\\t01//t20110114_13.tif"
       ]
      },
      {
       "output_type": "stream",
       "stream": "stdout",
       "text": [
        "\n",
        "E:\\Data\\WangKun@Mattijn\\outfolder\\t01//t20110115_13.tif"
       ]
      },
      {
       "output_type": "stream",
       "stream": "stdout",
       "text": [
        "\n",
        "E:\\Data\\WangKun@Mattijn\\outfolder\\t01//t20110116_13.tif"
       ]
      },
      {
       "output_type": "stream",
       "stream": "stdout",
       "text": [
        "\n",
        "E:\\Data\\WangKun@Mattijn\\outfolder\\t01//t20110117_13.tif"
       ]
      },
      {
       "output_type": "stream",
       "stream": "stdout",
       "text": [
        "\n",
        "E:\\Data\\WangKun@Mattijn\\outfolder\\t01//t20110118_13.tif"
       ]
      },
      {
       "output_type": "stream",
       "stream": "stdout",
       "text": [
        "\n",
        "E:\\Data\\WangKun@Mattijn\\outfolder\\t01//t20110119_13.tif"
       ]
      },
      {
       "output_type": "stream",
       "stream": "stdout",
       "text": [
        "\n",
        "E:\\Data\\WangKun@Mattijn\\outfolder\\t01//t20110120_13.tif"
       ]
      },
      {
       "output_type": "stream",
       "stream": "stdout",
       "text": [
        "\n",
        "E:\\Data\\WangKun@Mattijn\\outfolder\\t01//t20110121_13.tif"
       ]
      },
      {
       "output_type": "stream",
       "stream": "stdout",
       "text": [
        "\n",
        "E:\\Data\\WangKun@Mattijn\\outfolder\\t01//t20110122_13.tif"
       ]
      },
      {
       "output_type": "stream",
       "stream": "stdout",
       "text": [
        "\n",
        "E:\\Data\\WangKun@Mattijn\\outfolder\\t01//t20110123_13.tif"
       ]
      },
      {
       "output_type": "stream",
       "stream": "stdout",
       "text": [
        "\n",
        "E:\\Data\\WangKun@Mattijn\\outfolder\\t01//t20110124_13.tif"
       ]
      },
      {
       "output_type": "stream",
       "stream": "stdout",
       "text": [
        "\n",
        "E:\\Data\\WangKun@Mattijn\\outfolder\\t01//t20110125_13.tif"
       ]
      },
      {
       "output_type": "stream",
       "stream": "stdout",
       "text": [
        "\n",
        "E:\\Data\\WangKun@Mattijn\\outfolder\\t01//t20110126_13.tif"
       ]
      },
      {
       "output_type": "stream",
       "stream": "stdout",
       "text": [
        "\n",
        "E:\\Data\\WangKun@Mattijn\\outfolder\\t01//t20110127_13.tif"
       ]
      },
      {
       "output_type": "stream",
       "stream": "stdout",
       "text": [
        "\n",
        "E:\\Data\\WangKun@Mattijn\\outfolder\\t01//t20110128_13.tif"
       ]
      },
      {
       "output_type": "stream",
       "stream": "stdout",
       "text": [
        "\n",
        "E:\\Data\\WangKun@Mattijn\\outfolder\\t01//t20110129_13.tif"
       ]
      },
      {
       "output_type": "stream",
       "stream": "stdout",
       "text": [
        "\n",
        "E:\\Data\\WangKun@Mattijn\\outfolder\\t01//t20110130_13.tif"
       ]
      },
      {
       "output_type": "stream",
       "stream": "stdout",
       "text": [
        "\n",
        "E:\\Data\\WangKun@Mattijn\\outfolder\\t01//t20110102_14.tif"
       ]
      },
      {
       "output_type": "stream",
       "stream": "stdout",
       "text": [
        "\n",
        "E:\\Data\\WangKun@Mattijn\\outfolder\\t01//t20110103_14.tif"
       ]
      },
      {
       "output_type": "stream",
       "stream": "stdout",
       "text": [
        "\n",
        "E:\\Data\\WangKun@Mattijn\\outfolder\\t01//t20110104_14.tif"
       ]
      },
      {
       "output_type": "stream",
       "stream": "stdout",
       "text": [
        "\n",
        "E:\\Data\\WangKun@Mattijn\\outfolder\\t01//t20110105_14.tif"
       ]
      },
      {
       "output_type": "stream",
       "stream": "stdout",
       "text": [
        "\n",
        "E:\\Data\\WangKun@Mattijn\\outfolder\\t01//t20110106_14.tif"
       ]
      },
      {
       "output_type": "stream",
       "stream": "stdout",
       "text": [
        "\n",
        "E:\\Data\\WangKun@Mattijn\\outfolder\\t01//t20110107_14.tif"
       ]
      },
      {
       "output_type": "stream",
       "stream": "stdout",
       "text": [
        "\n",
        "E:\\Data\\WangKun@Mattijn\\outfolder\\t01//t20110108_14.tif"
       ]
      },
      {
       "output_type": "stream",
       "stream": "stdout",
       "text": [
        "\n",
        "E:\\Data\\WangKun@Mattijn\\outfolder\\t01//t20110109_14.tif"
       ]
      },
      {
       "output_type": "stream",
       "stream": "stdout",
       "text": [
        "\n",
        "E:\\Data\\WangKun@Mattijn\\outfolder\\t01//t20110110_14.tif"
       ]
      },
      {
       "output_type": "stream",
       "stream": "stdout",
       "text": [
        "\n",
        "E:\\Data\\WangKun@Mattijn\\outfolder\\t01//t20110111_14.tif"
       ]
      },
      {
       "output_type": "stream",
       "stream": "stdout",
       "text": [
        "\n",
        "E:\\Data\\WangKun@Mattijn\\outfolder\\t01//t20110112_14.tif"
       ]
      },
      {
       "output_type": "stream",
       "stream": "stdout",
       "text": [
        "\n",
        "E:\\Data\\WangKun@Mattijn\\outfolder\\t01//t20110113_14.tif"
       ]
      },
      {
       "output_type": "stream",
       "stream": "stdout",
       "text": [
        "\n",
        "E:\\Data\\WangKun@Mattijn\\outfolder\\t01//t20110114_14.tif"
       ]
      },
      {
       "output_type": "stream",
       "stream": "stdout",
       "text": [
        "\n",
        "E:\\Data\\WangKun@Mattijn\\outfolder\\t01//t20110115_14.tif"
       ]
      },
      {
       "output_type": "stream",
       "stream": "stdout",
       "text": [
        "\n",
        "E:\\Data\\WangKun@Mattijn\\outfolder\\t01//t20110116_14.tif"
       ]
      },
      {
       "output_type": "stream",
       "stream": "stdout",
       "text": [
        "\n",
        "E:\\Data\\WangKun@Mattijn\\outfolder\\t01//t20110117_14.tif"
       ]
      },
      {
       "output_type": "stream",
       "stream": "stdout",
       "text": [
        "\n",
        "E:\\Data\\WangKun@Mattijn\\outfolder\\t01//t20110118_14.tif"
       ]
      },
      {
       "output_type": "stream",
       "stream": "stdout",
       "text": [
        "\n",
        "E:\\Data\\WangKun@Mattijn\\outfolder\\t01//t20110119_14.tif"
       ]
      },
      {
       "output_type": "stream",
       "stream": "stdout",
       "text": [
        "\n",
        "E:\\Data\\WangKun@Mattijn\\outfolder\\t01//t20110120_14.tif"
       ]
      },
      {
       "output_type": "stream",
       "stream": "stdout",
       "text": [
        "\n",
        "E:\\Data\\WangKun@Mattijn\\outfolder\\t01//t20110121_14.tif"
       ]
      },
      {
       "output_type": "stream",
       "stream": "stdout",
       "text": [
        "\n",
        "E:\\Data\\WangKun@Mattijn\\outfolder\\t01//t20110122_14.tif"
       ]
      },
      {
       "output_type": "stream",
       "stream": "stdout",
       "text": [
        "\n",
        "E:\\Data\\WangKun@Mattijn\\outfolder\\t01//t20110123_14.tif"
       ]
      },
      {
       "output_type": "stream",
       "stream": "stdout",
       "text": [
        "\n",
        "E:\\Data\\WangKun@Mattijn\\outfolder\\t01//t20110124_14.tif"
       ]
      },
      {
       "output_type": "stream",
       "stream": "stdout",
       "text": [
        "\n",
        "E:\\Data\\WangKun@Mattijn\\outfolder\\t01//t20110125_14.tif"
       ]
      },
      {
       "output_type": "stream",
       "stream": "stdout",
       "text": [
        "\n",
        "E:\\Data\\WangKun@Mattijn\\outfolder\\t01//t20110126_14.tif"
       ]
      },
      {
       "output_type": "stream",
       "stream": "stdout",
       "text": [
        "\n",
        "E:\\Data\\WangKun@Mattijn\\outfolder\\t01//t20110127_14.tif"
       ]
      },
      {
       "output_type": "stream",
       "stream": "stdout",
       "text": [
        "\n",
        "E:\\Data\\WangKun@Mattijn\\outfolder\\t01//t20110128_14.tif"
       ]
      },
      {
       "output_type": "stream",
       "stream": "stdout",
       "text": [
        "\n",
        "E:\\Data\\WangKun@Mattijn\\outfolder\\t01//t20110129_14.tif"
       ]
      },
      {
       "output_type": "stream",
       "stream": "stdout",
       "text": [
        "\n",
        "E:\\Data\\WangKun@Mattijn\\outfolder\\t01//t20110130_14.tif"
       ]
      },
      {
       "output_type": "stream",
       "stream": "stdout",
       "text": [
        "\n",
        "E:\\Data\\WangKun@Mattijn\\outfolder\\t01//t20110102_15.tif"
       ]
      },
      {
       "output_type": "stream",
       "stream": "stdout",
       "text": [
        "\n",
        "E:\\Data\\WangKun@Mattijn\\outfolder\\t01//t20110103_15.tif"
       ]
      },
      {
       "output_type": "stream",
       "stream": "stdout",
       "text": [
        "\n",
        "E:\\Data\\WangKun@Mattijn\\outfolder\\t01//t20110104_15.tif"
       ]
      },
      {
       "output_type": "stream",
       "stream": "stdout",
       "text": [
        "\n",
        "E:\\Data\\WangKun@Mattijn\\outfolder\\t01//t20110105_15.tif"
       ]
      },
      {
       "output_type": "stream",
       "stream": "stdout",
       "text": [
        "\n",
        "E:\\Data\\WangKun@Mattijn\\outfolder\\t01//t20110106_15.tif"
       ]
      },
      {
       "output_type": "stream",
       "stream": "stdout",
       "text": [
        "\n",
        "E:\\Data\\WangKun@Mattijn\\outfolder\\t01//t20110107_15.tif"
       ]
      },
      {
       "output_type": "stream",
       "stream": "stdout",
       "text": [
        "\n",
        "E:\\Data\\WangKun@Mattijn\\outfolder\\t01//t20110108_15.tif"
       ]
      },
      {
       "output_type": "stream",
       "stream": "stdout",
       "text": [
        "\n",
        "E:\\Data\\WangKun@Mattijn\\outfolder\\t01//t20110109_15.tif"
       ]
      },
      {
       "output_type": "stream",
       "stream": "stdout",
       "text": [
        "\n",
        "E:\\Data\\WangKun@Mattijn\\outfolder\\t01//t20110110_15.tif"
       ]
      },
      {
       "output_type": "stream",
       "stream": "stdout",
       "text": [
        "\n",
        "E:\\Data\\WangKun@Mattijn\\outfolder\\t01//t20110111_15.tif"
       ]
      },
      {
       "output_type": "stream",
       "stream": "stdout",
       "text": [
        "\n",
        "E:\\Data\\WangKun@Mattijn\\outfolder\\t01//t20110112_15.tif"
       ]
      },
      {
       "output_type": "stream",
       "stream": "stdout",
       "text": [
        "\n",
        "E:\\Data\\WangKun@Mattijn\\outfolder\\t01//t20110113_15.tif"
       ]
      },
      {
       "output_type": "stream",
       "stream": "stdout",
       "text": [
        "\n",
        "E:\\Data\\WangKun@Mattijn\\outfolder\\t01//t20110114_15.tif"
       ]
      },
      {
       "output_type": "stream",
       "stream": "stdout",
       "text": [
        "\n",
        "E:\\Data\\WangKun@Mattijn\\outfolder\\t01//t20110115_15.tif"
       ]
      },
      {
       "output_type": "stream",
       "stream": "stdout",
       "text": [
        "\n",
        "E:\\Data\\WangKun@Mattijn\\outfolder\\t01//t20110116_15.tif"
       ]
      },
      {
       "output_type": "stream",
       "stream": "stdout",
       "text": [
        "\n",
        "E:\\Data\\WangKun@Mattijn\\outfolder\\t01//t20110117_15.tif"
       ]
      },
      {
       "output_type": "stream",
       "stream": "stdout",
       "text": [
        "\n",
        "E:\\Data\\WangKun@Mattijn\\outfolder\\t01//t20110118_15.tif"
       ]
      },
      {
       "output_type": "stream",
       "stream": "stdout",
       "text": [
        "\n",
        "E:\\Data\\WangKun@Mattijn\\outfolder\\t01//t20110119_15.tif"
       ]
      },
      {
       "output_type": "stream",
       "stream": "stdout",
       "text": [
        "\n",
        "E:\\Data\\WangKun@Mattijn\\outfolder\\t01//t20110120_15.tif"
       ]
      },
      {
       "output_type": "stream",
       "stream": "stdout",
       "text": [
        "\n",
        "E:\\Data\\WangKun@Mattijn\\outfolder\\t01//t20110121_15.tif"
       ]
      },
      {
       "output_type": "stream",
       "stream": "stdout",
       "text": [
        "\n",
        "E:\\Data\\WangKun@Mattijn\\outfolder\\t01//t20110122_15.tif"
       ]
      },
      {
       "output_type": "stream",
       "stream": "stdout",
       "text": [
        "\n",
        "E:\\Data\\WangKun@Mattijn\\outfolder\\t01//t20110123_15.tif"
       ]
      },
      {
       "output_type": "stream",
       "stream": "stdout",
       "text": [
        "\n",
        "E:\\Data\\WangKun@Mattijn\\outfolder\\t01//t20110124_15.tif"
       ]
      },
      {
       "output_type": "stream",
       "stream": "stdout",
       "text": [
        "\n",
        "E:\\Data\\WangKun@Mattijn\\outfolder\\t01//t20110125_15.tif"
       ]
      },
      {
       "output_type": "stream",
       "stream": "stdout",
       "text": [
        "\n",
        "E:\\Data\\WangKun@Mattijn\\outfolder\\t01//t20110126_15.tif"
       ]
      },
      {
       "output_type": "stream",
       "stream": "stdout",
       "text": [
        "\n",
        "E:\\Data\\WangKun@Mattijn\\outfolder\\t01//t20110127_15.tif"
       ]
      },
      {
       "output_type": "stream",
       "stream": "stdout",
       "text": [
        "\n",
        "E:\\Data\\WangKun@Mattijn\\outfolder\\t01//t20110128_15.tif"
       ]
      },
      {
       "output_type": "stream",
       "stream": "stdout",
       "text": [
        "\n",
        "E:\\Data\\WangKun@Mattijn\\outfolder\\t01//t20110129_15.tif"
       ]
      },
      {
       "output_type": "stream",
       "stream": "stdout",
       "text": [
        "\n",
        "E:\\Data\\WangKun@Mattijn\\outfolder\\t01//t20110130_15.tif"
       ]
      },
      {
       "output_type": "stream",
       "stream": "stdout",
       "text": [
        "\n",
        "E:\\Data\\WangKun@Mattijn\\outfolder\\t01//t20110102_16.tif"
       ]
      },
      {
       "output_type": "stream",
       "stream": "stdout",
       "text": [
        "\n",
        "E:\\Data\\WangKun@Mattijn\\outfolder\\t01//t20110103_16.tif"
       ]
      },
      {
       "output_type": "stream",
       "stream": "stdout",
       "text": [
        "\n",
        "E:\\Data\\WangKun@Mattijn\\outfolder\\t01//t20110104_16.tif"
       ]
      },
      {
       "output_type": "stream",
       "stream": "stdout",
       "text": [
        "\n",
        "E:\\Data\\WangKun@Mattijn\\outfolder\\t01//t20110105_16.tif"
       ]
      },
      {
       "output_type": "stream",
       "stream": "stdout",
       "text": [
        "\n",
        "E:\\Data\\WangKun@Mattijn\\outfolder\\t01//t20110106_16.tif"
       ]
      },
      {
       "output_type": "stream",
       "stream": "stdout",
       "text": [
        "\n",
        "E:\\Data\\WangKun@Mattijn\\outfolder\\t01//t20110107_16.tif"
       ]
      },
      {
       "output_type": "stream",
       "stream": "stdout",
       "text": [
        "\n",
        "E:\\Data\\WangKun@Mattijn\\outfolder\\t01//t20110108_16.tif"
       ]
      },
      {
       "output_type": "stream",
       "stream": "stdout",
       "text": [
        "\n",
        "E:\\Data\\WangKun@Mattijn\\outfolder\\t01//t20110109_16.tif"
       ]
      },
      {
       "output_type": "stream",
       "stream": "stdout",
       "text": [
        "\n",
        "E:\\Data\\WangKun@Mattijn\\outfolder\\t01//t20110110_16.tif"
       ]
      },
      {
       "output_type": "stream",
       "stream": "stdout",
       "text": [
        "\n",
        "E:\\Data\\WangKun@Mattijn\\outfolder\\t01//t20110111_16.tif"
       ]
      },
      {
       "output_type": "stream",
       "stream": "stdout",
       "text": [
        "\n",
        "E:\\Data\\WangKun@Mattijn\\outfolder\\t01//t20110112_16.tif"
       ]
      },
      {
       "output_type": "stream",
       "stream": "stdout",
       "text": [
        "\n",
        "E:\\Data\\WangKun@Mattijn\\outfolder\\t01//t20110113_16.tif"
       ]
      },
      {
       "output_type": "stream",
       "stream": "stdout",
       "text": [
        "\n",
        "E:\\Data\\WangKun@Mattijn\\outfolder\\t01//t20110114_16.tif"
       ]
      },
      {
       "output_type": "stream",
       "stream": "stdout",
       "text": [
        "\n",
        "E:\\Data\\WangKun@Mattijn\\outfolder\\t01//t20110115_16.tif"
       ]
      },
      {
       "output_type": "stream",
       "stream": "stdout",
       "text": [
        "\n",
        "E:\\Data\\WangKun@Mattijn\\outfolder\\t01//t20110116_16.tif"
       ]
      },
      {
       "output_type": "stream",
       "stream": "stdout",
       "text": [
        "\n",
        "E:\\Data\\WangKun@Mattijn\\outfolder\\t01//t20110117_16.tif"
       ]
      },
      {
       "output_type": "stream",
       "stream": "stdout",
       "text": [
        "\n",
        "E:\\Data\\WangKun@Mattijn\\outfolder\\t01//t20110118_16.tif"
       ]
      },
      {
       "output_type": "stream",
       "stream": "stdout",
       "text": [
        "\n",
        "E:\\Data\\WangKun@Mattijn\\outfolder\\t01//t20110119_16.tif"
       ]
      },
      {
       "output_type": "stream",
       "stream": "stdout",
       "text": [
        "\n",
        "E:\\Data\\WangKun@Mattijn\\outfolder\\t01//t20110120_16.tif"
       ]
      },
      {
       "output_type": "stream",
       "stream": "stdout",
       "text": [
        "\n",
        "E:\\Data\\WangKun@Mattijn\\outfolder\\t01//t20110121_16.tif"
       ]
      },
      {
       "output_type": "stream",
       "stream": "stdout",
       "text": [
        "\n",
        "E:\\Data\\WangKun@Mattijn\\outfolder\\t01//t20110122_16.tif"
       ]
      },
      {
       "output_type": "stream",
       "stream": "stdout",
       "text": [
        "\n",
        "E:\\Data\\WangKun@Mattijn\\outfolder\\t01//t20110123_16.tif"
       ]
      },
      {
       "output_type": "stream",
       "stream": "stdout",
       "text": [
        "\n",
        "E:\\Data\\WangKun@Mattijn\\outfolder\\t01//t20110124_16.tif"
       ]
      },
      {
       "output_type": "stream",
       "stream": "stdout",
       "text": [
        "\n",
        "E:\\Data\\WangKun@Mattijn\\outfolder\\t01//t20110125_16.tif"
       ]
      },
      {
       "output_type": "stream",
       "stream": "stdout",
       "text": [
        "\n",
        "E:\\Data\\WangKun@Mattijn\\outfolder\\t01//t20110126_16.tif"
       ]
      },
      {
       "output_type": "stream",
       "stream": "stdout",
       "text": [
        "\n",
        "E:\\Data\\WangKun@Mattijn\\outfolder\\t01//t20110127_16.tif"
       ]
      },
      {
       "output_type": "stream",
       "stream": "stdout",
       "text": [
        "\n",
        "E:\\Data\\WangKun@Mattijn\\outfolder\\t01//t20110128_16.tif"
       ]
      },
      {
       "output_type": "stream",
       "stream": "stdout",
       "text": [
        "\n",
        "E:\\Data\\WangKun@Mattijn\\outfolder\\t01//t20110129_16.tif"
       ]
      },
      {
       "output_type": "stream",
       "stream": "stdout",
       "text": [
        "\n",
        "E:\\Data\\WangKun@Mattijn\\outfolder\\t01//t20110130_16.tif"
       ]
      },
      {
       "output_type": "stream",
       "stream": "stdout",
       "text": [
        "\n",
        "E:\\Data\\WangKun@Mattijn\\outfolder\\t01//t20110102_17.tif"
       ]
      },
      {
       "output_type": "stream",
       "stream": "stdout",
       "text": [
        "\n",
        "E:\\Data\\WangKun@Mattijn\\outfolder\\t01//t20110103_17.tif"
       ]
      },
      {
       "output_type": "stream",
       "stream": "stdout",
       "text": [
        "\n",
        "E:\\Data\\WangKun@Mattijn\\outfolder\\t01//t20110104_17.tif"
       ]
      },
      {
       "output_type": "stream",
       "stream": "stdout",
       "text": [
        "\n",
        "E:\\Data\\WangKun@Mattijn\\outfolder\\t01//t20110105_17.tif"
       ]
      },
      {
       "output_type": "stream",
       "stream": "stdout",
       "text": [
        "\n",
        "E:\\Data\\WangKun@Mattijn\\outfolder\\t01//t20110106_17.tif"
       ]
      },
      {
       "output_type": "stream",
       "stream": "stdout",
       "text": [
        "\n",
        "E:\\Data\\WangKun@Mattijn\\outfolder\\t01//t20110107_17.tif"
       ]
      },
      {
       "output_type": "stream",
       "stream": "stdout",
       "text": [
        "\n",
        "E:\\Data\\WangKun@Mattijn\\outfolder\\t01//t20110108_17.tif"
       ]
      },
      {
       "output_type": "stream",
       "stream": "stdout",
       "text": [
        "\n",
        "E:\\Data\\WangKun@Mattijn\\outfolder\\t01//t20110109_17.tif"
       ]
      },
      {
       "output_type": "stream",
       "stream": "stdout",
       "text": [
        "\n",
        "E:\\Data\\WangKun@Mattijn\\outfolder\\t01//t20110110_17.tif"
       ]
      },
      {
       "output_type": "stream",
       "stream": "stdout",
       "text": [
        "\n",
        "E:\\Data\\WangKun@Mattijn\\outfolder\\t01//t20110111_17.tif"
       ]
      },
      {
       "output_type": "stream",
       "stream": "stdout",
       "text": [
        "\n",
        "E:\\Data\\WangKun@Mattijn\\outfolder\\t01//t20110112_17.tif"
       ]
      },
      {
       "output_type": "stream",
       "stream": "stdout",
       "text": [
        "\n",
        "E:\\Data\\WangKun@Mattijn\\outfolder\\t01//t20110113_17.tif"
       ]
      },
      {
       "output_type": "stream",
       "stream": "stdout",
       "text": [
        "\n",
        "E:\\Data\\WangKun@Mattijn\\outfolder\\t01//t20110114_17.tif"
       ]
      },
      {
       "output_type": "stream",
       "stream": "stdout",
       "text": [
        "\n",
        "E:\\Data\\WangKun@Mattijn\\outfolder\\t01//t20110115_17.tif"
       ]
      },
      {
       "output_type": "stream",
       "stream": "stdout",
       "text": [
        "\n",
        "E:\\Data\\WangKun@Mattijn\\outfolder\\t01//t20110116_17.tif"
       ]
      },
      {
       "output_type": "stream",
       "stream": "stdout",
       "text": [
        "\n",
        "E:\\Data\\WangKun@Mattijn\\outfolder\\t01//t20110117_17.tif"
       ]
      },
      {
       "output_type": "stream",
       "stream": "stdout",
       "text": [
        "\n",
        "E:\\Data\\WangKun@Mattijn\\outfolder\\t01//t20110118_17.tif"
       ]
      },
      {
       "output_type": "stream",
       "stream": "stdout",
       "text": [
        "\n",
        "E:\\Data\\WangKun@Mattijn\\outfolder\\t01//t20110119_17.tif"
       ]
      },
      {
       "output_type": "stream",
       "stream": "stdout",
       "text": [
        "\n",
        "E:\\Data\\WangKun@Mattijn\\outfolder\\t01//t20110120_17.tif"
       ]
      },
      {
       "output_type": "stream",
       "stream": "stdout",
       "text": [
        "\n",
        "E:\\Data\\WangKun@Mattijn\\outfolder\\t01//t20110121_17.tif"
       ]
      },
      {
       "output_type": "stream",
       "stream": "stdout",
       "text": [
        "\n",
        "E:\\Data\\WangKun@Mattijn\\outfolder\\t01//t20110122_17.tif"
       ]
      },
      {
       "output_type": "stream",
       "stream": "stdout",
       "text": [
        "\n",
        "E:\\Data\\WangKun@Mattijn\\outfolder\\t01//t20110123_17.tif"
       ]
      },
      {
       "output_type": "stream",
       "stream": "stdout",
       "text": [
        "\n",
        "E:\\Data\\WangKun@Mattijn\\outfolder\\t01//t20110124_17.tif"
       ]
      },
      {
       "output_type": "stream",
       "stream": "stdout",
       "text": [
        "\n",
        "E:\\Data\\WangKun@Mattijn\\outfolder\\t01//t20110125_17.tif"
       ]
      },
      {
       "output_type": "stream",
       "stream": "stdout",
       "text": [
        "\n",
        "E:\\Data\\WangKun@Mattijn\\outfolder\\t01//t20110126_17.tif"
       ]
      },
      {
       "output_type": "stream",
       "stream": "stdout",
       "text": [
        "\n",
        "E:\\Data\\WangKun@Mattijn\\outfolder\\t01//t20110127_17.tif"
       ]
      },
      {
       "output_type": "stream",
       "stream": "stdout",
       "text": [
        "\n",
        "E:\\Data\\WangKun@Mattijn\\outfolder\\t01//t20110128_17.tif"
       ]
      },
      {
       "output_type": "stream",
       "stream": "stdout",
       "text": [
        "\n",
        "E:\\Data\\WangKun@Mattijn\\outfolder\\t01//t20110129_17.tif"
       ]
      },
      {
       "output_type": "stream",
       "stream": "stdout",
       "text": [
        "\n",
        "E:\\Data\\WangKun@Mattijn\\outfolder\\t01//t20110130_17.tif"
       ]
      },
      {
       "output_type": "stream",
       "stream": "stdout",
       "text": [
        "\n",
        "E:\\Data\\WangKun@Mattijn\\outfolder\\t01//t20110102_18.tif"
       ]
      },
      {
       "output_type": "stream",
       "stream": "stdout",
       "text": [
        "\n",
        "E:\\Data\\WangKun@Mattijn\\outfolder\\t01//t20110103_18.tif"
       ]
      },
      {
       "output_type": "stream",
       "stream": "stdout",
       "text": [
        "\n",
        "E:\\Data\\WangKun@Mattijn\\outfolder\\t01//t20110104_18.tif"
       ]
      },
      {
       "output_type": "stream",
       "stream": "stdout",
       "text": [
        "\n",
        "E:\\Data\\WangKun@Mattijn\\outfolder\\t01//t20110105_18.tif"
       ]
      },
      {
       "output_type": "stream",
       "stream": "stdout",
       "text": [
        "\n",
        "E:\\Data\\WangKun@Mattijn\\outfolder\\t01//t20110106_18.tif"
       ]
      },
      {
       "output_type": "stream",
       "stream": "stdout",
       "text": [
        "\n",
        "E:\\Data\\WangKun@Mattijn\\outfolder\\t01//t20110107_18.tif"
       ]
      },
      {
       "output_type": "stream",
       "stream": "stdout",
       "text": [
        "\n",
        "E:\\Data\\WangKun@Mattijn\\outfolder\\t01//t20110108_18.tif"
       ]
      },
      {
       "output_type": "stream",
       "stream": "stdout",
       "text": [
        "\n",
        "E:\\Data\\WangKun@Mattijn\\outfolder\\t01//t20110109_18.tif"
       ]
      },
      {
       "output_type": "stream",
       "stream": "stdout",
       "text": [
        "\n",
        "E:\\Data\\WangKun@Mattijn\\outfolder\\t01//t20110110_18.tif"
       ]
      },
      {
       "output_type": "stream",
       "stream": "stdout",
       "text": [
        "\n",
        "E:\\Data\\WangKun@Mattijn\\outfolder\\t01//t20110111_18.tif"
       ]
      },
      {
       "output_type": "stream",
       "stream": "stdout",
       "text": [
        "\n",
        "E:\\Data\\WangKun@Mattijn\\outfolder\\t01//t20110112_18.tif"
       ]
      },
      {
       "output_type": "stream",
       "stream": "stdout",
       "text": [
        "\n",
        "E:\\Data\\WangKun@Mattijn\\outfolder\\t01//t20110113_18.tif"
       ]
      },
      {
       "output_type": "stream",
       "stream": "stdout",
       "text": [
        "\n",
        "E:\\Data\\WangKun@Mattijn\\outfolder\\t01//t20110114_18.tif"
       ]
      },
      {
       "output_type": "stream",
       "stream": "stdout",
       "text": [
        "\n",
        "E:\\Data\\WangKun@Mattijn\\outfolder\\t01//t20110115_18.tif"
       ]
      },
      {
       "output_type": "stream",
       "stream": "stdout",
       "text": [
        "\n",
        "E:\\Data\\WangKun@Mattijn\\outfolder\\t01//t20110116_18.tif"
       ]
      },
      {
       "output_type": "stream",
       "stream": "stdout",
       "text": [
        "\n",
        "E:\\Data\\WangKun@Mattijn\\outfolder\\t01//t20110117_18.tif"
       ]
      },
      {
       "output_type": "stream",
       "stream": "stdout",
       "text": [
        "\n",
        "E:\\Data\\WangKun@Mattijn\\outfolder\\t01//t20110118_18.tif"
       ]
      },
      {
       "output_type": "stream",
       "stream": "stdout",
       "text": [
        "\n",
        "E:\\Data\\WangKun@Mattijn\\outfolder\\t01//t20110119_18.tif"
       ]
      },
      {
       "output_type": "stream",
       "stream": "stdout",
       "text": [
        "\n",
        "E:\\Data\\WangKun@Mattijn\\outfolder\\t01//t20110120_18.tif"
       ]
      },
      {
       "output_type": "stream",
       "stream": "stdout",
       "text": [
        "\n",
        "E:\\Data\\WangKun@Mattijn\\outfolder\\t01//t20110121_18.tif"
       ]
      },
      {
       "output_type": "stream",
       "stream": "stdout",
       "text": [
        "\n",
        "E:\\Data\\WangKun@Mattijn\\outfolder\\t01//t20110122_18.tif"
       ]
      },
      {
       "output_type": "stream",
       "stream": "stdout",
       "text": [
        "\n",
        "E:\\Data\\WangKun@Mattijn\\outfolder\\t01//t20110123_18.tif"
       ]
      },
      {
       "output_type": "stream",
       "stream": "stdout",
       "text": [
        "\n",
        "E:\\Data\\WangKun@Mattijn\\outfolder\\t01//t20110124_18.tif"
       ]
      },
      {
       "output_type": "stream",
       "stream": "stdout",
       "text": [
        "\n",
        "E:\\Data\\WangKun@Mattijn\\outfolder\\t01//t20110125_18.tif"
       ]
      },
      {
       "output_type": "stream",
       "stream": "stdout",
       "text": [
        "\n",
        "E:\\Data\\WangKun@Mattijn\\outfolder\\t01//t20110126_18.tif"
       ]
      },
      {
       "output_type": "stream",
       "stream": "stdout",
       "text": [
        "\n",
        "E:\\Data\\WangKun@Mattijn\\outfolder\\t01//t20110127_18.tif"
       ]
      },
      {
       "output_type": "stream",
       "stream": "stdout",
       "text": [
        "\n",
        "E:\\Data\\WangKun@Mattijn\\outfolder\\t01//t20110128_18.tif"
       ]
      },
      {
       "output_type": "stream",
       "stream": "stdout",
       "text": [
        "\n",
        "E:\\Data\\WangKun@Mattijn\\outfolder\\t01//t20110129_18.tif"
       ]
      },
      {
       "output_type": "stream",
       "stream": "stdout",
       "text": [
        "\n",
        "E:\\Data\\WangKun@Mattijn\\outfolder\\t01//t20110130_18.tif"
       ]
      },
      {
       "output_type": "stream",
       "stream": "stdout",
       "text": [
        "\n",
        "E:\\Data\\WangKun@Mattijn\\outfolder\\t01//t20110102_19.tif"
       ]
      },
      {
       "output_type": "stream",
       "stream": "stdout",
       "text": [
        "\n",
        "E:\\Data\\WangKun@Mattijn\\outfolder\\t01//t20110103_19.tif"
       ]
      },
      {
       "output_type": "stream",
       "stream": "stdout",
       "text": [
        "\n",
        "E:\\Data\\WangKun@Mattijn\\outfolder\\t01//t20110104_19.tif"
       ]
      },
      {
       "output_type": "stream",
       "stream": "stdout",
       "text": [
        "\n",
        "E:\\Data\\WangKun@Mattijn\\outfolder\\t01//t20110105_19.tif"
       ]
      },
      {
       "output_type": "stream",
       "stream": "stdout",
       "text": [
        "\n",
        "E:\\Data\\WangKun@Mattijn\\outfolder\\t01//t20110106_19.tif"
       ]
      },
      {
       "output_type": "stream",
       "stream": "stdout",
       "text": [
        "\n",
        "E:\\Data\\WangKun@Mattijn\\outfolder\\t01//t20110107_19.tif"
       ]
      },
      {
       "output_type": "stream",
       "stream": "stdout",
       "text": [
        "\n",
        "E:\\Data\\WangKun@Mattijn\\outfolder\\t01//t20110108_19.tif"
       ]
      },
      {
       "output_type": "stream",
       "stream": "stdout",
       "text": [
        "\n",
        "E:\\Data\\WangKun@Mattijn\\outfolder\\t01//t20110109_19.tif"
       ]
      },
      {
       "output_type": "stream",
       "stream": "stdout",
       "text": [
        "\n",
        "E:\\Data\\WangKun@Mattijn\\outfolder\\t01//t20110110_19.tif"
       ]
      },
      {
       "output_type": "stream",
       "stream": "stdout",
       "text": [
        "\n",
        "E:\\Data\\WangKun@Mattijn\\outfolder\\t01//t20110111_19.tif"
       ]
      },
      {
       "output_type": "stream",
       "stream": "stdout",
       "text": [
        "\n",
        "E:\\Data\\WangKun@Mattijn\\outfolder\\t01//t20110112_19.tif"
       ]
      },
      {
       "output_type": "stream",
       "stream": "stdout",
       "text": [
        "\n",
        "E:\\Data\\WangKun@Mattijn\\outfolder\\t01//t20110113_19.tif"
       ]
      },
      {
       "output_type": "stream",
       "stream": "stdout",
       "text": [
        "\n",
        "E:\\Data\\WangKun@Mattijn\\outfolder\\t01//t20110114_19.tif"
       ]
      },
      {
       "output_type": "stream",
       "stream": "stdout",
       "text": [
        "\n",
        "E:\\Data\\WangKun@Mattijn\\outfolder\\t01//t20110115_19.tif"
       ]
      },
      {
       "output_type": "stream",
       "stream": "stdout",
       "text": [
        "\n",
        "E:\\Data\\WangKun@Mattijn\\outfolder\\t01//t20110116_19.tif"
       ]
      },
      {
       "output_type": "stream",
       "stream": "stdout",
       "text": [
        "\n",
        "E:\\Data\\WangKun@Mattijn\\outfolder\\t01//t20110117_19.tif"
       ]
      },
      {
       "output_type": "stream",
       "stream": "stdout",
       "text": [
        "\n",
        "E:\\Data\\WangKun@Mattijn\\outfolder\\t01//t20110118_19.tif"
       ]
      },
      {
       "output_type": "stream",
       "stream": "stdout",
       "text": [
        "\n",
        "E:\\Data\\WangKun@Mattijn\\outfolder\\t01//t20110119_19.tif"
       ]
      },
      {
       "output_type": "stream",
       "stream": "stdout",
       "text": [
        "\n",
        "E:\\Data\\WangKun@Mattijn\\outfolder\\t01//t20110120_19.tif"
       ]
      },
      {
       "output_type": "stream",
       "stream": "stdout",
       "text": [
        "\n",
        "E:\\Data\\WangKun@Mattijn\\outfolder\\t01//t20110121_19.tif"
       ]
      },
      {
       "output_type": "stream",
       "stream": "stdout",
       "text": [
        "\n",
        "E:\\Data\\WangKun@Mattijn\\outfolder\\t01//t20110122_19.tif"
       ]
      },
      {
       "output_type": "stream",
       "stream": "stdout",
       "text": [
        "\n",
        "E:\\Data\\WangKun@Mattijn\\outfolder\\t01//t20110123_19.tif"
       ]
      },
      {
       "output_type": "stream",
       "stream": "stdout",
       "text": [
        "\n",
        "E:\\Data\\WangKun@Mattijn\\outfolder\\t01//t20110124_19.tif"
       ]
      },
      {
       "output_type": "stream",
       "stream": "stdout",
       "text": [
        "\n",
        "E:\\Data\\WangKun@Mattijn\\outfolder\\t01//t20110125_19.tif"
       ]
      },
      {
       "output_type": "stream",
       "stream": "stdout",
       "text": [
        "\n",
        "E:\\Data\\WangKun@Mattijn\\outfolder\\t01//t20110126_19.tif"
       ]
      },
      {
       "output_type": "stream",
       "stream": "stdout",
       "text": [
        "\n",
        "E:\\Data\\WangKun@Mattijn\\outfolder\\t01//t20110127_19.tif"
       ]
      },
      {
       "output_type": "stream",
       "stream": "stdout",
       "text": [
        "\n",
        "E:\\Data\\WangKun@Mattijn\\outfolder\\t01//t20110128_19.tif"
       ]
      },
      {
       "output_type": "stream",
       "stream": "stdout",
       "text": [
        "\n",
        "E:\\Data\\WangKun@Mattijn\\outfolder\\t01//t20110129_19.tif"
       ]
      },
      {
       "output_type": "stream",
       "stream": "stdout",
       "text": [
        "\n",
        "E:\\Data\\WangKun@Mattijn\\outfolder\\t01//t20110130_19.tif"
       ]
      },
      {
       "output_type": "stream",
       "stream": "stdout",
       "text": [
        "\n",
        "E:\\Data\\WangKun@Mattijn\\outfolder\\t01//t20110102_02.tif"
       ]
      },
      {
       "output_type": "stream",
       "stream": "stdout",
       "text": [
        "\n",
        "E:\\Data\\WangKun@Mattijn\\outfolder\\t01//t20110103_02.tif"
       ]
      },
      {
       "output_type": "stream",
       "stream": "stdout",
       "text": [
        "\n",
        "E:\\Data\\WangKun@Mattijn\\outfolder\\t01//t20110104_02.tif"
       ]
      },
      {
       "output_type": "stream",
       "stream": "stdout",
       "text": [
        "\n",
        "E:\\Data\\WangKun@Mattijn\\outfolder\\t01//t20110105_02.tif"
       ]
      },
      {
       "output_type": "stream",
       "stream": "stdout",
       "text": [
        "\n",
        "E:\\Data\\WangKun@Mattijn\\outfolder\\t01//t20110106_02.tif"
       ]
      },
      {
       "output_type": "stream",
       "stream": "stdout",
       "text": [
        "\n",
        "E:\\Data\\WangKun@Mattijn\\outfolder\\t01//t20110107_02.tif"
       ]
      },
      {
       "output_type": "stream",
       "stream": "stdout",
       "text": [
        "\n",
        "E:\\Data\\WangKun@Mattijn\\outfolder\\t01//t20110108_02.tif"
       ]
      },
      {
       "output_type": "stream",
       "stream": "stdout",
       "text": [
        "\n",
        "E:\\Data\\WangKun@Mattijn\\outfolder\\t01//t20110109_02.tif"
       ]
      },
      {
       "output_type": "stream",
       "stream": "stdout",
       "text": [
        "\n",
        "E:\\Data\\WangKun@Mattijn\\outfolder\\t01//t20110110_02.tif"
       ]
      },
      {
       "output_type": "stream",
       "stream": "stdout",
       "text": [
        "\n",
        "E:\\Data\\WangKun@Mattijn\\outfolder\\t01//t20110111_02.tif"
       ]
      },
      {
       "output_type": "stream",
       "stream": "stdout",
       "text": [
        "\n",
        "E:\\Data\\WangKun@Mattijn\\outfolder\\t01//t20110112_02.tif"
       ]
      },
      {
       "output_type": "stream",
       "stream": "stdout",
       "text": [
        "\n",
        "E:\\Data\\WangKun@Mattijn\\outfolder\\t01//t20110113_02.tif"
       ]
      },
      {
       "output_type": "stream",
       "stream": "stdout",
       "text": [
        "\n",
        "E:\\Data\\WangKun@Mattijn\\outfolder\\t01//t20110114_02.tif"
       ]
      },
      {
       "output_type": "stream",
       "stream": "stdout",
       "text": [
        "\n",
        "E:\\Data\\WangKun@Mattijn\\outfolder\\t01//t20110115_02.tif"
       ]
      },
      {
       "output_type": "stream",
       "stream": "stdout",
       "text": [
        "\n",
        "E:\\Data\\WangKun@Mattijn\\outfolder\\t01//t20110116_02.tif"
       ]
      },
      {
       "output_type": "stream",
       "stream": "stdout",
       "text": [
        "\n",
        "E:\\Data\\WangKun@Mattijn\\outfolder\\t01//t20110117_02.tif"
       ]
      },
      {
       "output_type": "stream",
       "stream": "stdout",
       "text": [
        "\n",
        "E:\\Data\\WangKun@Mattijn\\outfolder\\t01//t20110118_02.tif"
       ]
      },
      {
       "output_type": "stream",
       "stream": "stdout",
       "text": [
        "\n",
        "E:\\Data\\WangKun@Mattijn\\outfolder\\t01//t20110119_02.tif"
       ]
      },
      {
       "output_type": "stream",
       "stream": "stdout",
       "text": [
        "\n",
        "E:\\Data\\WangKun@Mattijn\\outfolder\\t01//t20110120_02.tif"
       ]
      },
      {
       "output_type": "stream",
       "stream": "stdout",
       "text": [
        "\n",
        "E:\\Data\\WangKun@Mattijn\\outfolder\\t01//t20110121_02.tif"
       ]
      },
      {
       "output_type": "stream",
       "stream": "stdout",
       "text": [
        "\n",
        "E:\\Data\\WangKun@Mattijn\\outfolder\\t01//t20110122_02.tif"
       ]
      },
      {
       "output_type": "stream",
       "stream": "stdout",
       "text": [
        "\n",
        "E:\\Data\\WangKun@Mattijn\\outfolder\\t01//t20110123_02.tif"
       ]
      },
      {
       "output_type": "stream",
       "stream": "stdout",
       "text": [
        "\n",
        "E:\\Data\\WangKun@Mattijn\\outfolder\\t01//t20110124_02.tif"
       ]
      },
      {
       "output_type": "stream",
       "stream": "stdout",
       "text": [
        "\n",
        "E:\\Data\\WangKun@Mattijn\\outfolder\\t01//t20110125_02.tif"
       ]
      },
      {
       "output_type": "stream",
       "stream": "stdout",
       "text": [
        "\n",
        "E:\\Data\\WangKun@Mattijn\\outfolder\\t01//t20110126_02.tif"
       ]
      },
      {
       "output_type": "stream",
       "stream": "stdout",
       "text": [
        "\n",
        "E:\\Data\\WangKun@Mattijn\\outfolder\\t01//t20110127_02.tif"
       ]
      },
      {
       "output_type": "stream",
       "stream": "stdout",
       "text": [
        "\n",
        "E:\\Data\\WangKun@Mattijn\\outfolder\\t01//t20110128_02.tif"
       ]
      },
      {
       "output_type": "stream",
       "stream": "stdout",
       "text": [
        "\n",
        "E:\\Data\\WangKun@Mattijn\\outfolder\\t01//t20110129_02.tif"
       ]
      },
      {
       "output_type": "stream",
       "stream": "stdout",
       "text": [
        "\n",
        "E:\\Data\\WangKun@Mattijn\\outfolder\\t01//t20110130_02.tif"
       ]
      },
      {
       "output_type": "stream",
       "stream": "stdout",
       "text": [
        "\n",
        "E:\\Data\\WangKun@Mattijn\\outfolder\\t01//t20110102_20.tif"
       ]
      },
      {
       "output_type": "stream",
       "stream": "stdout",
       "text": [
        "\n",
        "E:\\Data\\WangKun@Mattijn\\outfolder\\t01//t20110103_20.tif"
       ]
      },
      {
       "output_type": "stream",
       "stream": "stdout",
       "text": [
        "\n",
        "E:\\Data\\WangKun@Mattijn\\outfolder\\t01//t20110104_20.tif"
       ]
      },
      {
       "output_type": "stream",
       "stream": "stdout",
       "text": [
        "\n",
        "E:\\Data\\WangKun@Mattijn\\outfolder\\t01//t20110105_20.tif"
       ]
      },
      {
       "output_type": "stream",
       "stream": "stdout",
       "text": [
        "\n",
        "E:\\Data\\WangKun@Mattijn\\outfolder\\t01//t20110106_20.tif"
       ]
      },
      {
       "output_type": "stream",
       "stream": "stdout",
       "text": [
        "\n",
        "E:\\Data\\WangKun@Mattijn\\outfolder\\t01//t20110107_20.tif"
       ]
      },
      {
       "output_type": "stream",
       "stream": "stdout",
       "text": [
        "\n",
        "E:\\Data\\WangKun@Mattijn\\outfolder\\t01//t20110108_20.tif"
       ]
      },
      {
       "output_type": "stream",
       "stream": "stdout",
       "text": [
        "\n",
        "E:\\Data\\WangKun@Mattijn\\outfolder\\t01//t20110109_20.tif"
       ]
      },
      {
       "output_type": "stream",
       "stream": "stdout",
       "text": [
        "\n",
        "E:\\Data\\WangKun@Mattijn\\outfolder\\t01//t20110110_20.tif"
       ]
      },
      {
       "output_type": "stream",
       "stream": "stdout",
       "text": [
        "\n",
        "E:\\Data\\WangKun@Mattijn\\outfolder\\t01//t20110111_20.tif"
       ]
      },
      {
       "output_type": "stream",
       "stream": "stdout",
       "text": [
        "\n",
        "E:\\Data\\WangKun@Mattijn\\outfolder\\t01//t20110112_20.tif"
       ]
      },
      {
       "output_type": "stream",
       "stream": "stdout",
       "text": [
        "\n",
        "E:\\Data\\WangKun@Mattijn\\outfolder\\t01//t20110113_20.tif"
       ]
      },
      {
       "output_type": "stream",
       "stream": "stdout",
       "text": [
        "\n",
        "E:\\Data\\WangKun@Mattijn\\outfolder\\t01//t20110114_20.tif"
       ]
      },
      {
       "output_type": "stream",
       "stream": "stdout",
       "text": [
        "\n",
        "E:\\Data\\WangKun@Mattijn\\outfolder\\t01//t20110115_20.tif"
       ]
      },
      {
       "output_type": "stream",
       "stream": "stdout",
       "text": [
        "\n",
        "E:\\Data\\WangKun@Mattijn\\outfolder\\t01//t20110116_20.tif"
       ]
      },
      {
       "output_type": "stream",
       "stream": "stdout",
       "text": [
        "\n",
        "E:\\Data\\WangKun@Mattijn\\outfolder\\t01//t20110117_20.tif"
       ]
      },
      {
       "output_type": "stream",
       "stream": "stdout",
       "text": [
        "\n",
        "E:\\Data\\WangKun@Mattijn\\outfolder\\t01//t20110118_20.tif"
       ]
      },
      {
       "output_type": "stream",
       "stream": "stdout",
       "text": [
        "\n",
        "E:\\Data\\WangKun@Mattijn\\outfolder\\t01//t20110119_20.tif"
       ]
      },
      {
       "output_type": "stream",
       "stream": "stdout",
       "text": [
        "\n",
        "E:\\Data\\WangKun@Mattijn\\outfolder\\t01//t20110120_20.tif"
       ]
      },
      {
       "output_type": "stream",
       "stream": "stdout",
       "text": [
        "\n",
        "E:\\Data\\WangKun@Mattijn\\outfolder\\t01//t20110121_20.tif"
       ]
      },
      {
       "output_type": "stream",
       "stream": "stdout",
       "text": [
        "\n",
        "E:\\Data\\WangKun@Mattijn\\outfolder\\t01//t20110122_20.tif"
       ]
      },
      {
       "output_type": "stream",
       "stream": "stdout",
       "text": [
        "\n",
        "E:\\Data\\WangKun@Mattijn\\outfolder\\t01//t20110123_20.tif"
       ]
      },
      {
       "output_type": "stream",
       "stream": "stdout",
       "text": [
        "\n",
        "E:\\Data\\WangKun@Mattijn\\outfolder\\t01//t20110124_20.tif"
       ]
      },
      {
       "output_type": "stream",
       "stream": "stdout",
       "text": [
        "\n",
        "E:\\Data\\WangKun@Mattijn\\outfolder\\t01//t20110125_20.tif"
       ]
      },
      {
       "output_type": "stream",
       "stream": "stdout",
       "text": [
        "\n",
        "E:\\Data\\WangKun@Mattijn\\outfolder\\t01//t20110126_20.tif"
       ]
      },
      {
       "output_type": "stream",
       "stream": "stdout",
       "text": [
        "\n",
        "E:\\Data\\WangKun@Mattijn\\outfolder\\t01//t20110127_20.tif"
       ]
      },
      {
       "output_type": "stream",
       "stream": "stdout",
       "text": [
        "\n",
        "E:\\Data\\WangKun@Mattijn\\outfolder\\t01//t20110128_20.tif"
       ]
      },
      {
       "output_type": "stream",
       "stream": "stdout",
       "text": [
        "\n",
        "E:\\Data\\WangKun@Mattijn\\outfolder\\t01//t20110129_20.tif"
       ]
      },
      {
       "output_type": "stream",
       "stream": "stdout",
       "text": [
        "\n",
        "E:\\Data\\WangKun@Mattijn\\outfolder\\t01//t20110130_20.tif"
       ]
      },
      {
       "output_type": "stream",
       "stream": "stdout",
       "text": [
        "\n",
        "E:\\Data\\WangKun@Mattijn\\outfolder\\t01//t20110102_21.tif"
       ]
      },
      {
       "output_type": "stream",
       "stream": "stdout",
       "text": [
        "\n",
        "E:\\Data\\WangKun@Mattijn\\outfolder\\t01//t20110103_21.tif"
       ]
      },
      {
       "output_type": "stream",
       "stream": "stdout",
       "text": [
        "\n",
        "E:\\Data\\WangKun@Mattijn\\outfolder\\t01//t20110104_21.tif"
       ]
      },
      {
       "output_type": "stream",
       "stream": "stdout",
       "text": [
        "\n",
        "E:\\Data\\WangKun@Mattijn\\outfolder\\t01//t20110105_21.tif"
       ]
      },
      {
       "output_type": "stream",
       "stream": "stdout",
       "text": [
        "\n",
        "E:\\Data\\WangKun@Mattijn\\outfolder\\t01//t20110106_21.tif"
       ]
      },
      {
       "output_type": "stream",
       "stream": "stdout",
       "text": [
        "\n",
        "E:\\Data\\WangKun@Mattijn\\outfolder\\t01//t20110107_21.tif"
       ]
      },
      {
       "output_type": "stream",
       "stream": "stdout",
       "text": [
        "\n",
        "E:\\Data\\WangKun@Mattijn\\outfolder\\t01//t20110108_21.tif"
       ]
      },
      {
       "output_type": "stream",
       "stream": "stdout",
       "text": [
        "\n",
        "E:\\Data\\WangKun@Mattijn\\outfolder\\t01//t20110109_21.tif"
       ]
      },
      {
       "output_type": "stream",
       "stream": "stdout",
       "text": [
        "\n",
        "E:\\Data\\WangKun@Mattijn\\outfolder\\t01//t20110110_21.tif"
       ]
      },
      {
       "output_type": "stream",
       "stream": "stdout",
       "text": [
        "\n",
        "E:\\Data\\WangKun@Mattijn\\outfolder\\t01//t20110111_21.tif"
       ]
      },
      {
       "output_type": "stream",
       "stream": "stdout",
       "text": [
        "\n",
        "E:\\Data\\WangKun@Mattijn\\outfolder\\t01//t20110112_21.tif"
       ]
      },
      {
       "output_type": "stream",
       "stream": "stdout",
       "text": [
        "\n",
        "E:\\Data\\WangKun@Mattijn\\outfolder\\t01//t20110113_21.tif"
       ]
      },
      {
       "output_type": "stream",
       "stream": "stdout",
       "text": [
        "\n",
        "E:\\Data\\WangKun@Mattijn\\outfolder\\t01//t20110114_21.tif"
       ]
      },
      {
       "output_type": "stream",
       "stream": "stdout",
       "text": [
        "\n",
        "E:\\Data\\WangKun@Mattijn\\outfolder\\t01//t20110115_21.tif"
       ]
      },
      {
       "output_type": "stream",
       "stream": "stdout",
       "text": [
        "\n",
        "E:\\Data\\WangKun@Mattijn\\outfolder\\t01//t20110116_21.tif"
       ]
      },
      {
       "output_type": "stream",
       "stream": "stdout",
       "text": [
        "\n",
        "E:\\Data\\WangKun@Mattijn\\outfolder\\t01//t20110117_21.tif"
       ]
      },
      {
       "output_type": "stream",
       "stream": "stdout",
       "text": [
        "\n",
        "E:\\Data\\WangKun@Mattijn\\outfolder\\t01//t20110118_21.tif"
       ]
      },
      {
       "output_type": "stream",
       "stream": "stdout",
       "text": [
        "\n",
        "E:\\Data\\WangKun@Mattijn\\outfolder\\t01//t20110119_21.tif"
       ]
      },
      {
       "output_type": "stream",
       "stream": "stdout",
       "text": [
        "\n",
        "E:\\Data\\WangKun@Mattijn\\outfolder\\t01//t20110120_21.tif"
       ]
      },
      {
       "output_type": "stream",
       "stream": "stdout",
       "text": [
        "\n",
        "E:\\Data\\WangKun@Mattijn\\outfolder\\t01//t20110121_21.tif"
       ]
      },
      {
       "output_type": "stream",
       "stream": "stdout",
       "text": [
        "\n",
        "E:\\Data\\WangKun@Mattijn\\outfolder\\t01//t20110122_21.tif"
       ]
      },
      {
       "output_type": "stream",
       "stream": "stdout",
       "text": [
        "\n",
        "E:\\Data\\WangKun@Mattijn\\outfolder\\t01//t20110123_21.tif"
       ]
      },
      {
       "output_type": "stream",
       "stream": "stdout",
       "text": [
        "\n",
        "E:\\Data\\WangKun@Mattijn\\outfolder\\t01//t20110124_21.tif"
       ]
      },
      {
       "output_type": "stream",
       "stream": "stdout",
       "text": [
        "\n",
        "E:\\Data\\WangKun@Mattijn\\outfolder\\t01//t20110125_21.tif"
       ]
      },
      {
       "output_type": "stream",
       "stream": "stdout",
       "text": [
        "\n",
        "E:\\Data\\WangKun@Mattijn\\outfolder\\t01//t20110126_21.tif"
       ]
      },
      {
       "output_type": "stream",
       "stream": "stdout",
       "text": [
        "\n",
        "E:\\Data\\WangKun@Mattijn\\outfolder\\t01//t20110127_21.tif"
       ]
      },
      {
       "output_type": "stream",
       "stream": "stdout",
       "text": [
        "\n",
        "E:\\Data\\WangKun@Mattijn\\outfolder\\t01//t20110128_21.tif"
       ]
      },
      {
       "output_type": "stream",
       "stream": "stdout",
       "text": [
        "\n",
        "E:\\Data\\WangKun@Mattijn\\outfolder\\t01//t20110129_21.tif"
       ]
      },
      {
       "output_type": "stream",
       "stream": "stdout",
       "text": [
        "\n",
        "E:\\Data\\WangKun@Mattijn\\outfolder\\t01//t20110130_21.tif"
       ]
      },
      {
       "output_type": "stream",
       "stream": "stdout",
       "text": [
        "\n",
        "E:\\Data\\WangKun@Mattijn\\outfolder\\t01//t20110102_22.tif"
       ]
      },
      {
       "output_type": "stream",
       "stream": "stdout",
       "text": [
        "\n",
        "E:\\Data\\WangKun@Mattijn\\outfolder\\t01//t20110103_22.tif"
       ]
      },
      {
       "output_type": "stream",
       "stream": "stdout",
       "text": [
        "\n",
        "E:\\Data\\WangKun@Mattijn\\outfolder\\t01//t20110104_22.tif"
       ]
      },
      {
       "output_type": "stream",
       "stream": "stdout",
       "text": [
        "\n",
        "E:\\Data\\WangKun@Mattijn\\outfolder\\t01//t20110105_22.tif"
       ]
      },
      {
       "output_type": "stream",
       "stream": "stdout",
       "text": [
        "\n",
        "E:\\Data\\WangKun@Mattijn\\outfolder\\t01//t20110106_22.tif"
       ]
      },
      {
       "output_type": "stream",
       "stream": "stdout",
       "text": [
        "\n",
        "E:\\Data\\WangKun@Mattijn\\outfolder\\t01//t20110107_22.tif"
       ]
      },
      {
       "output_type": "stream",
       "stream": "stdout",
       "text": [
        "\n",
        "E:\\Data\\WangKun@Mattijn\\outfolder\\t01//t20110108_22.tif"
       ]
      },
      {
       "output_type": "stream",
       "stream": "stdout",
       "text": [
        "\n",
        "E:\\Data\\WangKun@Mattijn\\outfolder\\t01//t20110109_22.tif"
       ]
      },
      {
       "output_type": "stream",
       "stream": "stdout",
       "text": [
        "\n",
        "E:\\Data\\WangKun@Mattijn\\outfolder\\t01//t20110110_22.tif"
       ]
      },
      {
       "output_type": "stream",
       "stream": "stdout",
       "text": [
        "\n",
        "E:\\Data\\WangKun@Mattijn\\outfolder\\t01//t20110111_22.tif"
       ]
      },
      {
       "output_type": "stream",
       "stream": "stdout",
       "text": [
        "\n",
        "E:\\Data\\WangKun@Mattijn\\outfolder\\t01//t20110112_22.tif"
       ]
      },
      {
       "output_type": "stream",
       "stream": "stdout",
       "text": [
        "\n",
        "E:\\Data\\WangKun@Mattijn\\outfolder\\t01//t20110113_22.tif"
       ]
      },
      {
       "output_type": "stream",
       "stream": "stdout",
       "text": [
        "\n",
        "E:\\Data\\WangKun@Mattijn\\outfolder\\t01//t20110114_22.tif"
       ]
      },
      {
       "output_type": "stream",
       "stream": "stdout",
       "text": [
        "\n",
        "E:\\Data\\WangKun@Mattijn\\outfolder\\t01//t20110115_22.tif"
       ]
      },
      {
       "output_type": "stream",
       "stream": "stdout",
       "text": [
        "\n",
        "E:\\Data\\WangKun@Mattijn\\outfolder\\t01//t20110116_22.tif"
       ]
      },
      {
       "output_type": "stream",
       "stream": "stdout",
       "text": [
        "\n",
        "E:\\Data\\WangKun@Mattijn\\outfolder\\t01//t20110117_22.tif"
       ]
      },
      {
       "output_type": "stream",
       "stream": "stdout",
       "text": [
        "\n",
        "E:\\Data\\WangKun@Mattijn\\outfolder\\t01//t20110118_22.tif"
       ]
      },
      {
       "output_type": "stream",
       "stream": "stdout",
       "text": [
        "\n",
        "E:\\Data\\WangKun@Mattijn\\outfolder\\t01//t20110119_22.tif"
       ]
      },
      {
       "output_type": "stream",
       "stream": "stdout",
       "text": [
        "\n",
        "E:\\Data\\WangKun@Mattijn\\outfolder\\t01//t20110120_22.tif"
       ]
      },
      {
       "output_type": "stream",
       "stream": "stdout",
       "text": [
        "\n",
        "E:\\Data\\WangKun@Mattijn\\outfolder\\t01//t20110121_22.tif"
       ]
      },
      {
       "output_type": "stream",
       "stream": "stdout",
       "text": [
        "\n",
        "E:\\Data\\WangKun@Mattijn\\outfolder\\t01//t20110122_22.tif"
       ]
      },
      {
       "output_type": "stream",
       "stream": "stdout",
       "text": [
        "\n",
        "E:\\Data\\WangKun@Mattijn\\outfolder\\t01//t20110123_22.tif"
       ]
      },
      {
       "output_type": "stream",
       "stream": "stdout",
       "text": [
        "\n",
        "E:\\Data\\WangKun@Mattijn\\outfolder\\t01//t20110124_22.tif"
       ]
      },
      {
       "output_type": "stream",
       "stream": "stdout",
       "text": [
        "\n",
        "E:\\Data\\WangKun@Mattijn\\outfolder\\t01//t20110125_22.tif"
       ]
      },
      {
       "output_type": "stream",
       "stream": "stdout",
       "text": [
        "\n",
        "E:\\Data\\WangKun@Mattijn\\outfolder\\t01//t20110126_22.tif"
       ]
      },
      {
       "output_type": "stream",
       "stream": "stdout",
       "text": [
        "\n",
        "E:\\Data\\WangKun@Mattijn\\outfolder\\t01//t20110127_22.tif"
       ]
      },
      {
       "output_type": "stream",
       "stream": "stdout",
       "text": [
        "\n",
        "E:\\Data\\WangKun@Mattijn\\outfolder\\t01//t20110128_22.tif"
       ]
      },
      {
       "output_type": "stream",
       "stream": "stdout",
       "text": [
        "\n",
        "E:\\Data\\WangKun@Mattijn\\outfolder\\t01//t20110129_22.tif"
       ]
      },
      {
       "output_type": "stream",
       "stream": "stdout",
       "text": [
        "\n",
        "E:\\Data\\WangKun@Mattijn\\outfolder\\t01//t20110130_22.tif"
       ]
      },
      {
       "output_type": "stream",
       "stream": "stdout",
       "text": [
        "\n",
        "E:\\Data\\WangKun@Mattijn\\outfolder\\t01//t20110102_23.tif"
       ]
      },
      {
       "output_type": "stream",
       "stream": "stdout",
       "text": [
        "\n",
        "E:\\Data\\WangKun@Mattijn\\outfolder\\t01//t20110103_23.tif"
       ]
      },
      {
       "output_type": "stream",
       "stream": "stdout",
       "text": [
        "\n",
        "E:\\Data\\WangKun@Mattijn\\outfolder\\t01//t20110104_23.tif"
       ]
      },
      {
       "output_type": "stream",
       "stream": "stdout",
       "text": [
        "\n",
        "E:\\Data\\WangKun@Mattijn\\outfolder\\t01//t20110105_23.tif"
       ]
      },
      {
       "output_type": "stream",
       "stream": "stdout",
       "text": [
        "\n",
        "E:\\Data\\WangKun@Mattijn\\outfolder\\t01//t20110106_23.tif"
       ]
      },
      {
       "output_type": "stream",
       "stream": "stdout",
       "text": [
        "\n",
        "E:\\Data\\WangKun@Mattijn\\outfolder\\t01//t20110107_23.tif"
       ]
      },
      {
       "output_type": "stream",
       "stream": "stdout",
       "text": [
        "\n",
        "E:\\Data\\WangKun@Mattijn\\outfolder\\t01//t20110108_23.tif"
       ]
      },
      {
       "output_type": "stream",
       "stream": "stdout",
       "text": [
        "\n",
        "E:\\Data\\WangKun@Mattijn\\outfolder\\t01//t20110109_23.tif"
       ]
      },
      {
       "output_type": "stream",
       "stream": "stdout",
       "text": [
        "\n",
        "E:\\Data\\WangKun@Mattijn\\outfolder\\t01//t20110110_23.tif"
       ]
      },
      {
       "output_type": "stream",
       "stream": "stdout",
       "text": [
        "\n",
        "E:\\Data\\WangKun@Mattijn\\outfolder\\t01//t20110111_23.tif"
       ]
      },
      {
       "output_type": "stream",
       "stream": "stdout",
       "text": [
        "\n",
        "E:\\Data\\WangKun@Mattijn\\outfolder\\t01//t20110112_23.tif"
       ]
      },
      {
       "output_type": "stream",
       "stream": "stdout",
       "text": [
        "\n",
        "E:\\Data\\WangKun@Mattijn\\outfolder\\t01//t20110113_23.tif"
       ]
      },
      {
       "output_type": "stream",
       "stream": "stdout",
       "text": [
        "\n",
        "E:\\Data\\WangKun@Mattijn\\outfolder\\t01//t20110114_23.tif"
       ]
      },
      {
       "output_type": "stream",
       "stream": "stdout",
       "text": [
        "\n",
        "E:\\Data\\WangKun@Mattijn\\outfolder\\t01//t20110115_23.tif"
       ]
      },
      {
       "output_type": "stream",
       "stream": "stdout",
       "text": [
        "\n",
        "E:\\Data\\WangKun@Mattijn\\outfolder\\t01//t20110116_23.tif"
       ]
      },
      {
       "output_type": "stream",
       "stream": "stdout",
       "text": [
        "\n",
        "E:\\Data\\WangKun@Mattijn\\outfolder\\t01//t20110117_23.tif"
       ]
      },
      {
       "output_type": "stream",
       "stream": "stdout",
       "text": [
        "\n",
        "E:\\Data\\WangKun@Mattijn\\outfolder\\t01//t20110118_23.tif"
       ]
      },
      {
       "output_type": "stream",
       "stream": "stdout",
       "text": [
        "\n",
        "E:\\Data\\WangKun@Mattijn\\outfolder\\t01//t20110119_23.tif"
       ]
      },
      {
       "output_type": "stream",
       "stream": "stdout",
       "text": [
        "\n",
        "E:\\Data\\WangKun@Mattijn\\outfolder\\t01//t20110120_23.tif"
       ]
      },
      {
       "output_type": "stream",
       "stream": "stdout",
       "text": [
        "\n",
        "E:\\Data\\WangKun@Mattijn\\outfolder\\t01//t20110121_23.tif"
       ]
      },
      {
       "output_type": "stream",
       "stream": "stdout",
       "text": [
        "\n",
        "E:\\Data\\WangKun@Mattijn\\outfolder\\t01//t20110122_23.tif"
       ]
      },
      {
       "output_type": "stream",
       "stream": "stdout",
       "text": [
        "\n",
        "E:\\Data\\WangKun@Mattijn\\outfolder\\t01//t20110123_23.tif"
       ]
      },
      {
       "output_type": "stream",
       "stream": "stdout",
       "text": [
        "\n",
        "E:\\Data\\WangKun@Mattijn\\outfolder\\t01//t20110124_23.tif"
       ]
      },
      {
       "output_type": "stream",
       "stream": "stdout",
       "text": [
        "\n",
        "E:\\Data\\WangKun@Mattijn\\outfolder\\t01//t20110125_23.tif"
       ]
      },
      {
       "output_type": "stream",
       "stream": "stdout",
       "text": [
        "\n",
        "E:\\Data\\WangKun@Mattijn\\outfolder\\t01//t20110126_23.tif"
       ]
      },
      {
       "output_type": "stream",
       "stream": "stdout",
       "text": [
        "\n",
        "E:\\Data\\WangKun@Mattijn\\outfolder\\t01//t20110127_23.tif"
       ]
      },
      {
       "output_type": "stream",
       "stream": "stdout",
       "text": [
        "\n",
        "E:\\Data\\WangKun@Mattijn\\outfolder\\t01//t20110128_23.tif"
       ]
      },
      {
       "output_type": "stream",
       "stream": "stdout",
       "text": [
        "\n",
        "E:\\Data\\WangKun@Mattijn\\outfolder\\t01//t20110129_23.tif"
       ]
      },
      {
       "output_type": "stream",
       "stream": "stdout",
       "text": [
        "\n",
        "E:\\Data\\WangKun@Mattijn\\outfolder\\t01//t20110130_23.tif"
       ]
      },
      {
       "output_type": "stream",
       "stream": "stdout",
       "text": [
        "\n",
        "E:\\Data\\WangKun@Mattijn\\outfolder\\t01//t20110102_24.tif"
       ]
      },
      {
       "output_type": "stream",
       "stream": "stdout",
       "text": [
        "\n",
        "E:\\Data\\WangKun@Mattijn\\outfolder\\t01//t20110103_24.tif"
       ]
      },
      {
       "output_type": "stream",
       "stream": "stdout",
       "text": [
        "\n",
        "E:\\Data\\WangKun@Mattijn\\outfolder\\t01//t20110104_24.tif"
       ]
      },
      {
       "output_type": "stream",
       "stream": "stdout",
       "text": [
        "\n",
        "E:\\Data\\WangKun@Mattijn\\outfolder\\t01//t20110105_24.tif"
       ]
      },
      {
       "output_type": "stream",
       "stream": "stdout",
       "text": [
        "\n",
        "E:\\Data\\WangKun@Mattijn\\outfolder\\t01//t20110106_24.tif"
       ]
      },
      {
       "output_type": "stream",
       "stream": "stdout",
       "text": [
        "\n",
        "E:\\Data\\WangKun@Mattijn\\outfolder\\t01//t20110107_24.tif"
       ]
      },
      {
       "output_type": "stream",
       "stream": "stdout",
       "text": [
        "\n",
        "E:\\Data\\WangKun@Mattijn\\outfolder\\t01//t20110108_24.tif"
       ]
      },
      {
       "output_type": "stream",
       "stream": "stdout",
       "text": [
        "\n",
        "E:\\Data\\WangKun@Mattijn\\outfolder\\t01//t20110109_24.tif"
       ]
      },
      {
       "output_type": "stream",
       "stream": "stdout",
       "text": [
        "\n",
        "E:\\Data\\WangKun@Mattijn\\outfolder\\t01//t20110110_24.tif"
       ]
      },
      {
       "output_type": "stream",
       "stream": "stdout",
       "text": [
        "\n",
        "E:\\Data\\WangKun@Mattijn\\outfolder\\t01//t20110111_24.tif"
       ]
      },
      {
       "output_type": "stream",
       "stream": "stdout",
       "text": [
        "\n",
        "E:\\Data\\WangKun@Mattijn\\outfolder\\t01//t20110112_24.tif"
       ]
      },
      {
       "output_type": "stream",
       "stream": "stdout",
       "text": [
        "\n",
        "E:\\Data\\WangKun@Mattijn\\outfolder\\t01//t20110113_24.tif"
       ]
      },
      {
       "output_type": "stream",
       "stream": "stdout",
       "text": [
        "\n",
        "E:\\Data\\WangKun@Mattijn\\outfolder\\t01//t20110114_24.tif"
       ]
      },
      {
       "output_type": "stream",
       "stream": "stdout",
       "text": [
        "\n",
        "E:\\Data\\WangKun@Mattijn\\outfolder\\t01//t20110115_24.tif"
       ]
      },
      {
       "output_type": "stream",
       "stream": "stdout",
       "text": [
        "\n",
        "E:\\Data\\WangKun@Mattijn\\outfolder\\t01//t20110116_24.tif"
       ]
      },
      {
       "output_type": "stream",
       "stream": "stdout",
       "text": [
        "\n",
        "E:\\Data\\WangKun@Mattijn\\outfolder\\t01//t20110117_24.tif"
       ]
      },
      {
       "output_type": "stream",
       "stream": "stdout",
       "text": [
        "\n",
        "E:\\Data\\WangKun@Mattijn\\outfolder\\t01//t20110118_24.tif"
       ]
      },
      {
       "output_type": "stream",
       "stream": "stdout",
       "text": [
        "\n",
        "E:\\Data\\WangKun@Mattijn\\outfolder\\t01//t20110119_24.tif"
       ]
      },
      {
       "output_type": "stream",
       "stream": "stdout",
       "text": [
        "\n",
        "E:\\Data\\WangKun@Mattijn\\outfolder\\t01//t20110120_24.tif"
       ]
      },
      {
       "output_type": "stream",
       "stream": "stdout",
       "text": [
        "\n",
        "E:\\Data\\WangKun@Mattijn\\outfolder\\t01//t20110121_24.tif"
       ]
      },
      {
       "output_type": "stream",
       "stream": "stdout",
       "text": [
        "\n",
        "E:\\Data\\WangKun@Mattijn\\outfolder\\t01//t20110122_24.tif"
       ]
      },
      {
       "output_type": "stream",
       "stream": "stdout",
       "text": [
        "\n",
        "E:\\Data\\WangKun@Mattijn\\outfolder\\t01//t20110123_24.tif"
       ]
      },
      {
       "output_type": "stream",
       "stream": "stdout",
       "text": [
        "\n",
        "E:\\Data\\WangKun@Mattijn\\outfolder\\t01//t20110124_24.tif"
       ]
      },
      {
       "output_type": "stream",
       "stream": "stdout",
       "text": [
        "\n",
        "E:\\Data\\WangKun@Mattijn\\outfolder\\t01//t20110125_24.tif"
       ]
      },
      {
       "output_type": "stream",
       "stream": "stdout",
       "text": [
        "\n",
        "E:\\Data\\WangKun@Mattijn\\outfolder\\t01//t20110126_24.tif"
       ]
      },
      {
       "output_type": "stream",
       "stream": "stdout",
       "text": [
        "\n",
        "E:\\Data\\WangKun@Mattijn\\outfolder\\t01//t20110127_24.tif"
       ]
      },
      {
       "output_type": "stream",
       "stream": "stdout",
       "text": [
        "\n",
        "E:\\Data\\WangKun@Mattijn\\outfolder\\t01//t20110128_24.tif"
       ]
      },
      {
       "output_type": "stream",
       "stream": "stdout",
       "text": [
        "\n",
        "E:\\Data\\WangKun@Mattijn\\outfolder\\t01//t20110129_24.tif"
       ]
      },
      {
       "output_type": "stream",
       "stream": "stdout",
       "text": [
        "\n",
        "E:\\Data\\WangKun@Mattijn\\outfolder\\t01//t20110130_24.tif"
       ]
      },
      {
       "output_type": "stream",
       "stream": "stdout",
       "text": [
        "\n",
        "E:\\Data\\WangKun@Mattijn\\outfolder\\t01//t20110102_03.tif"
       ]
      },
      {
       "output_type": "stream",
       "stream": "stdout",
       "text": [
        "\n",
        "E:\\Data\\WangKun@Mattijn\\outfolder\\t01//t20110103_03.tif"
       ]
      },
      {
       "output_type": "stream",
       "stream": "stdout",
       "text": [
        "\n",
        "E:\\Data\\WangKun@Mattijn\\outfolder\\t01//t20110104_03.tif"
       ]
      },
      {
       "output_type": "stream",
       "stream": "stdout",
       "text": [
        "\n",
        "E:\\Data\\WangKun@Mattijn\\outfolder\\t01//t20110105_03.tif"
       ]
      },
      {
       "output_type": "stream",
       "stream": "stdout",
       "text": [
        "\n",
        "E:\\Data\\WangKun@Mattijn\\outfolder\\t01//t20110106_03.tif"
       ]
      },
      {
       "output_type": "stream",
       "stream": "stdout",
       "text": [
        "\n",
        "E:\\Data\\WangKun@Mattijn\\outfolder\\t01//t20110107_03.tif"
       ]
      },
      {
       "output_type": "stream",
       "stream": "stdout",
       "text": [
        "\n",
        "E:\\Data\\WangKun@Mattijn\\outfolder\\t01//t20110108_03.tif"
       ]
      },
      {
       "output_type": "stream",
       "stream": "stdout",
       "text": [
        "\n",
        "E:\\Data\\WangKun@Mattijn\\outfolder\\t01//t20110109_03.tif"
       ]
      },
      {
       "output_type": "stream",
       "stream": "stdout",
       "text": [
        "\n",
        "E:\\Data\\WangKun@Mattijn\\outfolder\\t01//t20110110_03.tif"
       ]
      },
      {
       "output_type": "stream",
       "stream": "stdout",
       "text": [
        "\n",
        "E:\\Data\\WangKun@Mattijn\\outfolder\\t01//t20110111_03.tif"
       ]
      },
      {
       "output_type": "stream",
       "stream": "stdout",
       "text": [
        "\n",
        "E:\\Data\\WangKun@Mattijn\\outfolder\\t01//t20110112_03.tif"
       ]
      },
      {
       "output_type": "stream",
       "stream": "stdout",
       "text": [
        "\n",
        "E:\\Data\\WangKun@Mattijn\\outfolder\\t01//t20110113_03.tif"
       ]
      },
      {
       "output_type": "stream",
       "stream": "stdout",
       "text": [
        "\n",
        "E:\\Data\\WangKun@Mattijn\\outfolder\\t01//t20110114_03.tif"
       ]
      },
      {
       "output_type": "stream",
       "stream": "stdout",
       "text": [
        "\n",
        "E:\\Data\\WangKun@Mattijn\\outfolder\\t01//t20110115_03.tif"
       ]
      },
      {
       "output_type": "stream",
       "stream": "stdout",
       "text": [
        "\n",
        "E:\\Data\\WangKun@Mattijn\\outfolder\\t01//t20110116_03.tif"
       ]
      },
      {
       "output_type": "stream",
       "stream": "stdout",
       "text": [
        "\n",
        "E:\\Data\\WangKun@Mattijn\\outfolder\\t01//t20110117_03.tif"
       ]
      },
      {
       "output_type": "stream",
       "stream": "stdout",
       "text": [
        "\n",
        "E:\\Data\\WangKun@Mattijn\\outfolder\\t01//t20110118_03.tif"
       ]
      },
      {
       "output_type": "stream",
       "stream": "stdout",
       "text": [
        "\n",
        "E:\\Data\\WangKun@Mattijn\\outfolder\\t01//t20110119_03.tif"
       ]
      },
      {
       "output_type": "stream",
       "stream": "stdout",
       "text": [
        "\n",
        "E:\\Data\\WangKun@Mattijn\\outfolder\\t01//t20110120_03.tif"
       ]
      },
      {
       "output_type": "stream",
       "stream": "stdout",
       "text": [
        "\n",
        "E:\\Data\\WangKun@Mattijn\\outfolder\\t01//t20110121_03.tif"
       ]
      },
      {
       "output_type": "stream",
       "stream": "stdout",
       "text": [
        "\n",
        "E:\\Data\\WangKun@Mattijn\\outfolder\\t01//t20110122_03.tif"
       ]
      },
      {
       "output_type": "stream",
       "stream": "stdout",
       "text": [
        "\n",
        "E:\\Data\\WangKun@Mattijn\\outfolder\\t01//t20110123_03.tif"
       ]
      },
      {
       "output_type": "stream",
       "stream": "stdout",
       "text": [
        "\n",
        "E:\\Data\\WangKun@Mattijn\\outfolder\\t01//t20110124_03.tif"
       ]
      },
      {
       "output_type": "stream",
       "stream": "stdout",
       "text": [
        "\n",
        "E:\\Data\\WangKun@Mattijn\\outfolder\\t01//t20110125_03.tif"
       ]
      },
      {
       "output_type": "stream",
       "stream": "stdout",
       "text": [
        "\n",
        "E:\\Data\\WangKun@Mattijn\\outfolder\\t01//t20110126_03.tif"
       ]
      },
      {
       "output_type": "stream",
       "stream": "stdout",
       "text": [
        "\n",
        "E:\\Data\\WangKun@Mattijn\\outfolder\\t01//t20110127_03.tif"
       ]
      },
      {
       "output_type": "stream",
       "stream": "stdout",
       "text": [
        "\n",
        "E:\\Data\\WangKun@Mattijn\\outfolder\\t01//t20110128_03.tif"
       ]
      },
      {
       "output_type": "stream",
       "stream": "stdout",
       "text": [
        "\n",
        "E:\\Data\\WangKun@Mattijn\\outfolder\\t01//t20110129_03.tif"
       ]
      },
      {
       "output_type": "stream",
       "stream": "stdout",
       "text": [
        "\n",
        "E:\\Data\\WangKun@Mattijn\\outfolder\\t01//t20110130_03.tif"
       ]
      },
      {
       "output_type": "stream",
       "stream": "stdout",
       "text": [
        "\n",
        "E:\\Data\\WangKun@Mattijn\\outfolder\\t01//t20110102_04.tif"
       ]
      },
      {
       "output_type": "stream",
       "stream": "stdout",
       "text": [
        "\n",
        "E:\\Data\\WangKun@Mattijn\\outfolder\\t01//t20110103_04.tif"
       ]
      },
      {
       "output_type": "stream",
       "stream": "stdout",
       "text": [
        "\n",
        "E:\\Data\\WangKun@Mattijn\\outfolder\\t01//t20110104_04.tif"
       ]
      },
      {
       "output_type": "stream",
       "stream": "stdout",
       "text": [
        "\n",
        "E:\\Data\\WangKun@Mattijn\\outfolder\\t01//t20110105_04.tif"
       ]
      },
      {
       "output_type": "stream",
       "stream": "stdout",
       "text": [
        "\n",
        "E:\\Data\\WangKun@Mattijn\\outfolder\\t01//t20110106_04.tif"
       ]
      },
      {
       "output_type": "stream",
       "stream": "stdout",
       "text": [
        "\n",
        "E:\\Data\\WangKun@Mattijn\\outfolder\\t01//t20110107_04.tif"
       ]
      },
      {
       "output_type": "stream",
       "stream": "stdout",
       "text": [
        "\n",
        "E:\\Data\\WangKun@Mattijn\\outfolder\\t01//t20110108_04.tif"
       ]
      },
      {
       "output_type": "stream",
       "stream": "stdout",
       "text": [
        "\n",
        "E:\\Data\\WangKun@Mattijn\\outfolder\\t01//t20110109_04.tif"
       ]
      },
      {
       "output_type": "stream",
       "stream": "stdout",
       "text": [
        "\n",
        "E:\\Data\\WangKun@Mattijn\\outfolder\\t01//t20110110_04.tif"
       ]
      },
      {
       "output_type": "stream",
       "stream": "stdout",
       "text": [
        "\n",
        "E:\\Data\\WangKun@Mattijn\\outfolder\\t01//t20110111_04.tif"
       ]
      },
      {
       "output_type": "stream",
       "stream": "stdout",
       "text": [
        "\n",
        "E:\\Data\\WangKun@Mattijn\\outfolder\\t01//t20110112_04.tif"
       ]
      },
      {
       "output_type": "stream",
       "stream": "stdout",
       "text": [
        "\n",
        "E:\\Data\\WangKun@Mattijn\\outfolder\\t01//t20110113_04.tif"
       ]
      },
      {
       "output_type": "stream",
       "stream": "stdout",
       "text": [
        "\n",
        "E:\\Data\\WangKun@Mattijn\\outfolder\\t01//t20110114_04.tif"
       ]
      },
      {
       "output_type": "stream",
       "stream": "stdout",
       "text": [
        "\n",
        "E:\\Data\\WangKun@Mattijn\\outfolder\\t01//t20110115_04.tif"
       ]
      },
      {
       "output_type": "stream",
       "stream": "stdout",
       "text": [
        "\n",
        "E:\\Data\\WangKun@Mattijn\\outfolder\\t01//t20110116_04.tif"
       ]
      },
      {
       "output_type": "stream",
       "stream": "stdout",
       "text": [
        "\n",
        "E:\\Data\\WangKun@Mattijn\\outfolder\\t01//t20110117_04.tif"
       ]
      },
      {
       "output_type": "stream",
       "stream": "stdout",
       "text": [
        "\n",
        "E:\\Data\\WangKun@Mattijn\\outfolder\\t01//t20110118_04.tif"
       ]
      },
      {
       "output_type": "stream",
       "stream": "stdout",
       "text": [
        "\n",
        "E:\\Data\\WangKun@Mattijn\\outfolder\\t01//t20110119_04.tif"
       ]
      },
      {
       "output_type": "stream",
       "stream": "stdout",
       "text": [
        "\n",
        "E:\\Data\\WangKun@Mattijn\\outfolder\\t01//t20110120_04.tif"
       ]
      },
      {
       "output_type": "stream",
       "stream": "stdout",
       "text": [
        "\n",
        "E:\\Data\\WangKun@Mattijn\\outfolder\\t01//t20110121_04.tif"
       ]
      },
      {
       "output_type": "stream",
       "stream": "stdout",
       "text": [
        "\n",
        "E:\\Data\\WangKun@Mattijn\\outfolder\\t01//t20110122_04.tif"
       ]
      },
      {
       "output_type": "stream",
       "stream": "stdout",
       "text": [
        "\n",
        "E:\\Data\\WangKun@Mattijn\\outfolder\\t01//t20110123_04.tif"
       ]
      },
      {
       "output_type": "stream",
       "stream": "stdout",
       "text": [
        "\n",
        "E:\\Data\\WangKun@Mattijn\\outfolder\\t01//t20110124_04.tif"
       ]
      },
      {
       "output_type": "stream",
       "stream": "stdout",
       "text": [
        "\n",
        "E:\\Data\\WangKun@Mattijn\\outfolder\\t01//t20110125_04.tif"
       ]
      },
      {
       "output_type": "stream",
       "stream": "stdout",
       "text": [
        "\n",
        "E:\\Data\\WangKun@Mattijn\\outfolder\\t01//t20110126_04.tif"
       ]
      },
      {
       "output_type": "stream",
       "stream": "stdout",
       "text": [
        "\n",
        "E:\\Data\\WangKun@Mattijn\\outfolder\\t01//t20110127_04.tif"
       ]
      },
      {
       "output_type": "stream",
       "stream": "stdout",
       "text": [
        "\n",
        "E:\\Data\\WangKun@Mattijn\\outfolder\\t01//t20110128_04.tif"
       ]
      },
      {
       "output_type": "stream",
       "stream": "stdout",
       "text": [
        "\n",
        "E:\\Data\\WangKun@Mattijn\\outfolder\\t01//t20110129_04.tif"
       ]
      },
      {
       "output_type": "stream",
       "stream": "stdout",
       "text": [
        "\n",
        "E:\\Data\\WangKun@Mattijn\\outfolder\\t01//t20110130_04.tif"
       ]
      },
      {
       "output_type": "stream",
       "stream": "stdout",
       "text": [
        "\n",
        "E:\\Data\\WangKun@Mattijn\\outfolder\\t01//t20110102_05.tif"
       ]
      },
      {
       "output_type": "stream",
       "stream": "stdout",
       "text": [
        "\n",
        "E:\\Data\\WangKun@Mattijn\\outfolder\\t01//t20110103_05.tif"
       ]
      },
      {
       "output_type": "stream",
       "stream": "stdout",
       "text": [
        "\n",
        "E:\\Data\\WangKun@Mattijn\\outfolder\\t01//t20110104_05.tif"
       ]
      },
      {
       "output_type": "stream",
       "stream": "stdout",
       "text": [
        "\n",
        "E:\\Data\\WangKun@Mattijn\\outfolder\\t01//t20110105_05.tif"
       ]
      },
      {
       "output_type": "stream",
       "stream": "stdout",
       "text": [
        "\n",
        "E:\\Data\\WangKun@Mattijn\\outfolder\\t01//t20110106_05.tif"
       ]
      },
      {
       "output_type": "stream",
       "stream": "stdout",
       "text": [
        "\n",
        "E:\\Data\\WangKun@Mattijn\\outfolder\\t01//t20110107_05.tif"
       ]
      },
      {
       "output_type": "stream",
       "stream": "stdout",
       "text": [
        "\n",
        "E:\\Data\\WangKun@Mattijn\\outfolder\\t01//t20110108_05.tif"
       ]
      },
      {
       "output_type": "stream",
       "stream": "stdout",
       "text": [
        "\n",
        "E:\\Data\\WangKun@Mattijn\\outfolder\\t01//t20110109_05.tif"
       ]
      },
      {
       "output_type": "stream",
       "stream": "stdout",
       "text": [
        "\n",
        "E:\\Data\\WangKun@Mattijn\\outfolder\\t01//t20110110_05.tif"
       ]
      },
      {
       "output_type": "stream",
       "stream": "stdout",
       "text": [
        "\n",
        "E:\\Data\\WangKun@Mattijn\\outfolder\\t01//t20110111_05.tif"
       ]
      },
      {
       "output_type": "stream",
       "stream": "stdout",
       "text": [
        "\n",
        "E:\\Data\\WangKun@Mattijn\\outfolder\\t01//t20110112_05.tif"
       ]
      },
      {
       "output_type": "stream",
       "stream": "stdout",
       "text": [
        "\n",
        "E:\\Data\\WangKun@Mattijn\\outfolder\\t01//t20110113_05.tif"
       ]
      },
      {
       "output_type": "stream",
       "stream": "stdout",
       "text": [
        "\n",
        "E:\\Data\\WangKun@Mattijn\\outfolder\\t01//t20110114_05.tif"
       ]
      },
      {
       "output_type": "stream",
       "stream": "stdout",
       "text": [
        "\n",
        "E:\\Data\\WangKun@Mattijn\\outfolder\\t01//t20110115_05.tif"
       ]
      },
      {
       "output_type": "stream",
       "stream": "stdout",
       "text": [
        "\n",
        "E:\\Data\\WangKun@Mattijn\\outfolder\\t01//t20110116_05.tif"
       ]
      },
      {
       "output_type": "stream",
       "stream": "stdout",
       "text": [
        "\n",
        "E:\\Data\\WangKun@Mattijn\\outfolder\\t01//t20110117_05.tif"
       ]
      },
      {
       "output_type": "stream",
       "stream": "stdout",
       "text": [
        "\n",
        "E:\\Data\\WangKun@Mattijn\\outfolder\\t01//t20110118_05.tif"
       ]
      },
      {
       "output_type": "stream",
       "stream": "stdout",
       "text": [
        "\n",
        "E:\\Data\\WangKun@Mattijn\\outfolder\\t01//t20110119_05.tif"
       ]
      },
      {
       "output_type": "stream",
       "stream": "stdout",
       "text": [
        "\n",
        "E:\\Data\\WangKun@Mattijn\\outfolder\\t01//t20110120_05.tif"
       ]
      },
      {
       "output_type": "stream",
       "stream": "stdout",
       "text": [
        "\n",
        "E:\\Data\\WangKun@Mattijn\\outfolder\\t01//t20110121_05.tif"
       ]
      },
      {
       "output_type": "stream",
       "stream": "stdout",
       "text": [
        "\n",
        "E:\\Data\\WangKun@Mattijn\\outfolder\\t01//t20110122_05.tif"
       ]
      },
      {
       "output_type": "stream",
       "stream": "stdout",
       "text": [
        "\n",
        "E:\\Data\\WangKun@Mattijn\\outfolder\\t01//t20110123_05.tif"
       ]
      },
      {
       "output_type": "stream",
       "stream": "stdout",
       "text": [
        "\n",
        "E:\\Data\\WangKun@Mattijn\\outfolder\\t01//t20110124_05.tif"
       ]
      },
      {
       "output_type": "stream",
       "stream": "stdout",
       "text": [
        "\n",
        "E:\\Data\\WangKun@Mattijn\\outfolder\\t01//t20110125_05.tif"
       ]
      },
      {
       "output_type": "stream",
       "stream": "stdout",
       "text": [
        "\n",
        "E:\\Data\\WangKun@Mattijn\\outfolder\\t01//t20110126_05.tif"
       ]
      },
      {
       "output_type": "stream",
       "stream": "stdout",
       "text": [
        "\n",
        "E:\\Data\\WangKun@Mattijn\\outfolder\\t01//t20110127_05.tif"
       ]
      },
      {
       "output_type": "stream",
       "stream": "stdout",
       "text": [
        "\n",
        "E:\\Data\\WangKun@Mattijn\\outfolder\\t01//t20110128_05.tif"
       ]
      },
      {
       "output_type": "stream",
       "stream": "stdout",
       "text": [
        "\n",
        "E:\\Data\\WangKun@Mattijn\\outfolder\\t01//t20110129_05.tif"
       ]
      },
      {
       "output_type": "stream",
       "stream": "stdout",
       "text": [
        "\n",
        "E:\\Data\\WangKun@Mattijn\\outfolder\\t01//t20110130_05.tif"
       ]
      },
      {
       "output_type": "stream",
       "stream": "stdout",
       "text": [
        "\n",
        "E:\\Data\\WangKun@Mattijn\\outfolder\\t01//t20110102_06.tif"
       ]
      },
      {
       "output_type": "stream",
       "stream": "stdout",
       "text": [
        "\n",
        "E:\\Data\\WangKun@Mattijn\\outfolder\\t01//t20110103_06.tif"
       ]
      },
      {
       "output_type": "stream",
       "stream": "stdout",
       "text": [
        "\n",
        "E:\\Data\\WangKun@Mattijn\\outfolder\\t01//t20110104_06.tif"
       ]
      },
      {
       "output_type": "stream",
       "stream": "stdout",
       "text": [
        "\n",
        "E:\\Data\\WangKun@Mattijn\\outfolder\\t01//t20110105_06.tif"
       ]
      },
      {
       "output_type": "stream",
       "stream": "stdout",
       "text": [
        "\n",
        "E:\\Data\\WangKun@Mattijn\\outfolder\\t01//t20110106_06.tif"
       ]
      },
      {
       "output_type": "stream",
       "stream": "stdout",
       "text": [
        "\n",
        "E:\\Data\\WangKun@Mattijn\\outfolder\\t01//t20110107_06.tif"
       ]
      },
      {
       "output_type": "stream",
       "stream": "stdout",
       "text": [
        "\n",
        "E:\\Data\\WangKun@Mattijn\\outfolder\\t01//t20110108_06.tif"
       ]
      },
      {
       "output_type": "stream",
       "stream": "stdout",
       "text": [
        "\n",
        "E:\\Data\\WangKun@Mattijn\\outfolder\\t01//t20110109_06.tif"
       ]
      },
      {
       "output_type": "stream",
       "stream": "stdout",
       "text": [
        "\n",
        "E:\\Data\\WangKun@Mattijn\\outfolder\\t01//t20110110_06.tif"
       ]
      },
      {
       "output_type": "stream",
       "stream": "stdout",
       "text": [
        "\n",
        "E:\\Data\\WangKun@Mattijn\\outfolder\\t01//t20110111_06.tif"
       ]
      },
      {
       "output_type": "stream",
       "stream": "stdout",
       "text": [
        "\n",
        "E:\\Data\\WangKun@Mattijn\\outfolder\\t01//t20110112_06.tif"
       ]
      },
      {
       "output_type": "stream",
       "stream": "stdout",
       "text": [
        "\n",
        "E:\\Data\\WangKun@Mattijn\\outfolder\\t01//t20110113_06.tif"
       ]
      },
      {
       "output_type": "stream",
       "stream": "stdout",
       "text": [
        "\n",
        "E:\\Data\\WangKun@Mattijn\\outfolder\\t01//t20110114_06.tif"
       ]
      },
      {
       "output_type": "stream",
       "stream": "stdout",
       "text": [
        "\n",
        "E:\\Data\\WangKun@Mattijn\\outfolder\\t01//t20110115_06.tif"
       ]
      },
      {
       "output_type": "stream",
       "stream": "stdout",
       "text": [
        "\n",
        "E:\\Data\\WangKun@Mattijn\\outfolder\\t01//t20110116_06.tif"
       ]
      },
      {
       "output_type": "stream",
       "stream": "stdout",
       "text": [
        "\n",
        "E:\\Data\\WangKun@Mattijn\\outfolder\\t01//t20110117_06.tif"
       ]
      },
      {
       "output_type": "stream",
       "stream": "stdout",
       "text": [
        "\n",
        "E:\\Data\\WangKun@Mattijn\\outfolder\\t01//t20110118_06.tif"
       ]
      },
      {
       "output_type": "stream",
       "stream": "stdout",
       "text": [
        "\n",
        "E:\\Data\\WangKun@Mattijn\\outfolder\\t01//t20110119_06.tif"
       ]
      },
      {
       "output_type": "stream",
       "stream": "stdout",
       "text": [
        "\n",
        "E:\\Data\\WangKun@Mattijn\\outfolder\\t01//t20110120_06.tif"
       ]
      },
      {
       "output_type": "stream",
       "stream": "stdout",
       "text": [
        "\n",
        "E:\\Data\\WangKun@Mattijn\\outfolder\\t01//t20110121_06.tif"
       ]
      },
      {
       "output_type": "stream",
       "stream": "stdout",
       "text": [
        "\n",
        "E:\\Data\\WangKun@Mattijn\\outfolder\\t01//t20110122_06.tif"
       ]
      },
      {
       "output_type": "stream",
       "stream": "stdout",
       "text": [
        "\n",
        "E:\\Data\\WangKun@Mattijn\\outfolder\\t01//t20110123_06.tif"
       ]
      },
      {
       "output_type": "stream",
       "stream": "stdout",
       "text": [
        "\n",
        "E:\\Data\\WangKun@Mattijn\\outfolder\\t01//t20110124_06.tif"
       ]
      },
      {
       "output_type": "stream",
       "stream": "stdout",
       "text": [
        "\n",
        "E:\\Data\\WangKun@Mattijn\\outfolder\\t01//t20110125_06.tif"
       ]
      },
      {
       "output_type": "stream",
       "stream": "stdout",
       "text": [
        "\n",
        "E:\\Data\\WangKun@Mattijn\\outfolder\\t01//t20110126_06.tif"
       ]
      },
      {
       "output_type": "stream",
       "stream": "stdout",
       "text": [
        "\n",
        "E:\\Data\\WangKun@Mattijn\\outfolder\\t01//t20110127_06.tif"
       ]
      },
      {
       "output_type": "stream",
       "stream": "stdout",
       "text": [
        "\n",
        "E:\\Data\\WangKun@Mattijn\\outfolder\\t01//t20110128_06.tif"
       ]
      },
      {
       "output_type": "stream",
       "stream": "stdout",
       "text": [
        "\n",
        "E:\\Data\\WangKun@Mattijn\\outfolder\\t01//t20110129_06.tif"
       ]
      },
      {
       "output_type": "stream",
       "stream": "stdout",
       "text": [
        "\n",
        "E:\\Data\\WangKun@Mattijn\\outfolder\\t01//t20110130_06.tif"
       ]
      },
      {
       "output_type": "stream",
       "stream": "stdout",
       "text": [
        "\n",
        "E:\\Data\\WangKun@Mattijn\\outfolder\\t01//t20110102_07.tif"
       ]
      },
      {
       "output_type": "stream",
       "stream": "stdout",
       "text": [
        "\n",
        "E:\\Data\\WangKun@Mattijn\\outfolder\\t01//t20110103_07.tif"
       ]
      },
      {
       "output_type": "stream",
       "stream": "stdout",
       "text": [
        "\n",
        "E:\\Data\\WangKun@Mattijn\\outfolder\\t01//t20110104_07.tif"
       ]
      },
      {
       "output_type": "stream",
       "stream": "stdout",
       "text": [
        "\n",
        "E:\\Data\\WangKun@Mattijn\\outfolder\\t01//t20110105_07.tif"
       ]
      },
      {
       "output_type": "stream",
       "stream": "stdout",
       "text": [
        "\n",
        "E:\\Data\\WangKun@Mattijn\\outfolder\\t01//t20110106_07.tif"
       ]
      },
      {
       "output_type": "stream",
       "stream": "stdout",
       "text": [
        "\n",
        "E:\\Data\\WangKun@Mattijn\\outfolder\\t01//t20110107_07.tif"
       ]
      },
      {
       "output_type": "stream",
       "stream": "stdout",
       "text": [
        "\n",
        "E:\\Data\\WangKun@Mattijn\\outfolder\\t01//t20110108_07.tif"
       ]
      },
      {
       "output_type": "stream",
       "stream": "stdout",
       "text": [
        "\n",
        "E:\\Data\\WangKun@Mattijn\\outfolder\\t01//t20110109_07.tif"
       ]
      },
      {
       "output_type": "stream",
       "stream": "stdout",
       "text": [
        "\n",
        "E:\\Data\\WangKun@Mattijn\\outfolder\\t01//t20110110_07.tif"
       ]
      },
      {
       "output_type": "stream",
       "stream": "stdout",
       "text": [
        "\n",
        "E:\\Data\\WangKun@Mattijn\\outfolder\\t01//t20110111_07.tif"
       ]
      },
      {
       "output_type": "stream",
       "stream": "stdout",
       "text": [
        "\n",
        "E:\\Data\\WangKun@Mattijn\\outfolder\\t01//t20110112_07.tif"
       ]
      },
      {
       "output_type": "stream",
       "stream": "stdout",
       "text": [
        "\n",
        "E:\\Data\\WangKun@Mattijn\\outfolder\\t01//t20110113_07.tif"
       ]
      },
      {
       "output_type": "stream",
       "stream": "stdout",
       "text": [
        "\n",
        "E:\\Data\\WangKun@Mattijn\\outfolder\\t01//t20110114_07.tif"
       ]
      },
      {
       "output_type": "stream",
       "stream": "stdout",
       "text": [
        "\n",
        "E:\\Data\\WangKun@Mattijn\\outfolder\\t01//t20110115_07.tif"
       ]
      },
      {
       "output_type": "stream",
       "stream": "stdout",
       "text": [
        "\n",
        "E:\\Data\\WangKun@Mattijn\\outfolder\\t01//t20110116_07.tif"
       ]
      },
      {
       "output_type": "stream",
       "stream": "stdout",
       "text": [
        "\n",
        "E:\\Data\\WangKun@Mattijn\\outfolder\\t01//t20110117_07.tif"
       ]
      },
      {
       "output_type": "stream",
       "stream": "stdout",
       "text": [
        "\n",
        "E:\\Data\\WangKun@Mattijn\\outfolder\\t01//t20110118_07.tif"
       ]
      },
      {
       "output_type": "stream",
       "stream": "stdout",
       "text": [
        "\n",
        "E:\\Data\\WangKun@Mattijn\\outfolder\\t01//t20110119_07.tif"
       ]
      },
      {
       "output_type": "stream",
       "stream": "stdout",
       "text": [
        "\n",
        "E:\\Data\\WangKun@Mattijn\\outfolder\\t01//t20110120_07.tif"
       ]
      },
      {
       "output_type": "stream",
       "stream": "stdout",
       "text": [
        "\n",
        "E:\\Data\\WangKun@Mattijn\\outfolder\\t01//t20110121_07.tif"
       ]
      },
      {
       "output_type": "stream",
       "stream": "stdout",
       "text": [
        "\n",
        "E:\\Data\\WangKun@Mattijn\\outfolder\\t01//t20110122_07.tif"
       ]
      },
      {
       "output_type": "stream",
       "stream": "stdout",
       "text": [
        "\n",
        "E:\\Data\\WangKun@Mattijn\\outfolder\\t01//t20110123_07.tif"
       ]
      },
      {
       "output_type": "stream",
       "stream": "stdout",
       "text": [
        "\n",
        "E:\\Data\\WangKun@Mattijn\\outfolder\\t01//t20110124_07.tif"
       ]
      },
      {
       "output_type": "stream",
       "stream": "stdout",
       "text": [
        "\n",
        "E:\\Data\\WangKun@Mattijn\\outfolder\\t01//t20110125_07.tif"
       ]
      },
      {
       "output_type": "stream",
       "stream": "stdout",
       "text": [
        "\n",
        "E:\\Data\\WangKun@Mattijn\\outfolder\\t01//t20110126_07.tif"
       ]
      },
      {
       "output_type": "stream",
       "stream": "stdout",
       "text": [
        "\n",
        "E:\\Data\\WangKun@Mattijn\\outfolder\\t01//t20110127_07.tif"
       ]
      },
      {
       "output_type": "stream",
       "stream": "stdout",
       "text": [
        "\n",
        "E:\\Data\\WangKun@Mattijn\\outfolder\\t01//t20110128_07.tif"
       ]
      },
      {
       "output_type": "stream",
       "stream": "stdout",
       "text": [
        "\n",
        "E:\\Data\\WangKun@Mattijn\\outfolder\\t01//t20110129_07.tif"
       ]
      },
      {
       "output_type": "stream",
       "stream": "stdout",
       "text": [
        "\n",
        "E:\\Data\\WangKun@Mattijn\\outfolder\\t01//t20110130_07.tif"
       ]
      },
      {
       "output_type": "stream",
       "stream": "stdout",
       "text": [
        "\n",
        "E:\\Data\\WangKun@Mattijn\\outfolder\\t01//t20110102_08.tif"
       ]
      },
      {
       "output_type": "stream",
       "stream": "stdout",
       "text": [
        "\n",
        "E:\\Data\\WangKun@Mattijn\\outfolder\\t01//t20110103_08.tif"
       ]
      },
      {
       "output_type": "stream",
       "stream": "stdout",
       "text": [
        "\n",
        "E:\\Data\\WangKun@Mattijn\\outfolder\\t01//t20110104_08.tif"
       ]
      },
      {
       "output_type": "stream",
       "stream": "stdout",
       "text": [
        "\n",
        "E:\\Data\\WangKun@Mattijn\\outfolder\\t01//t20110105_08.tif"
       ]
      },
      {
       "output_type": "stream",
       "stream": "stdout",
       "text": [
        "\n",
        "E:\\Data\\WangKun@Mattijn\\outfolder\\t01//t20110106_08.tif"
       ]
      },
      {
       "output_type": "stream",
       "stream": "stdout",
       "text": [
        "\n",
        "E:\\Data\\WangKun@Mattijn\\outfolder\\t01//t20110107_08.tif"
       ]
      },
      {
       "output_type": "stream",
       "stream": "stdout",
       "text": [
        "\n",
        "E:\\Data\\WangKun@Mattijn\\outfolder\\t01//t20110108_08.tif"
       ]
      },
      {
       "output_type": "stream",
       "stream": "stdout",
       "text": [
        "\n",
        "E:\\Data\\WangKun@Mattijn\\outfolder\\t01//t20110109_08.tif"
       ]
      },
      {
       "output_type": "stream",
       "stream": "stdout",
       "text": [
        "\n",
        "E:\\Data\\WangKun@Mattijn\\outfolder\\t01//t20110110_08.tif"
       ]
      },
      {
       "output_type": "stream",
       "stream": "stdout",
       "text": [
        "\n",
        "E:\\Data\\WangKun@Mattijn\\outfolder\\t01//t20110111_08.tif"
       ]
      },
      {
       "output_type": "stream",
       "stream": "stdout",
       "text": [
        "\n",
        "E:\\Data\\WangKun@Mattijn\\outfolder\\t01//t20110112_08.tif"
       ]
      },
      {
       "output_type": "stream",
       "stream": "stdout",
       "text": [
        "\n",
        "E:\\Data\\WangKun@Mattijn\\outfolder\\t01//t20110113_08.tif"
       ]
      },
      {
       "output_type": "stream",
       "stream": "stdout",
       "text": [
        "\n",
        "E:\\Data\\WangKun@Mattijn\\outfolder\\t01//t20110114_08.tif"
       ]
      },
      {
       "output_type": "stream",
       "stream": "stdout",
       "text": [
        "\n",
        "E:\\Data\\WangKun@Mattijn\\outfolder\\t01//t20110115_08.tif"
       ]
      },
      {
       "output_type": "stream",
       "stream": "stdout",
       "text": [
        "\n",
        "E:\\Data\\WangKun@Mattijn\\outfolder\\t01//t20110116_08.tif"
       ]
      },
      {
       "output_type": "stream",
       "stream": "stdout",
       "text": [
        "\n",
        "E:\\Data\\WangKun@Mattijn\\outfolder\\t01//t20110117_08.tif"
       ]
      },
      {
       "output_type": "stream",
       "stream": "stdout",
       "text": [
        "\n",
        "E:\\Data\\WangKun@Mattijn\\outfolder\\t01//t20110118_08.tif"
       ]
      },
      {
       "output_type": "stream",
       "stream": "stdout",
       "text": [
        "\n",
        "E:\\Data\\WangKun@Mattijn\\outfolder\\t01//t20110119_08.tif"
       ]
      },
      {
       "output_type": "stream",
       "stream": "stdout",
       "text": [
        "\n",
        "E:\\Data\\WangKun@Mattijn\\outfolder\\t01//t20110120_08.tif"
       ]
      },
      {
       "output_type": "stream",
       "stream": "stdout",
       "text": [
        "\n",
        "E:\\Data\\WangKun@Mattijn\\outfolder\\t01//t20110121_08.tif"
       ]
      },
      {
       "output_type": "stream",
       "stream": "stdout",
       "text": [
        "\n",
        "E:\\Data\\WangKun@Mattijn\\outfolder\\t01//t20110122_08.tif"
       ]
      },
      {
       "output_type": "stream",
       "stream": "stdout",
       "text": [
        "\n",
        "E:\\Data\\WangKun@Mattijn\\outfolder\\t01//t20110123_08.tif"
       ]
      },
      {
       "output_type": "stream",
       "stream": "stdout",
       "text": [
        "\n",
        "E:\\Data\\WangKun@Mattijn\\outfolder\\t01//t20110124_08.tif"
       ]
      },
      {
       "output_type": "stream",
       "stream": "stdout",
       "text": [
        "\n",
        "E:\\Data\\WangKun@Mattijn\\outfolder\\t01//t20110125_08.tif"
       ]
      },
      {
       "output_type": "stream",
       "stream": "stdout",
       "text": [
        "\n",
        "E:\\Data\\WangKun@Mattijn\\outfolder\\t01//t20110126_08.tif"
       ]
      },
      {
       "output_type": "stream",
       "stream": "stdout",
       "text": [
        "\n",
        "E:\\Data\\WangKun@Mattijn\\outfolder\\t01//t20110127_08.tif"
       ]
      },
      {
       "output_type": "stream",
       "stream": "stdout",
       "text": [
        "\n",
        "E:\\Data\\WangKun@Mattijn\\outfolder\\t01//t20110128_08.tif"
       ]
      },
      {
       "output_type": "stream",
       "stream": "stdout",
       "text": [
        "\n",
        "E:\\Data\\WangKun@Mattijn\\outfolder\\t01//t20110129_08.tif"
       ]
      },
      {
       "output_type": "stream",
       "stream": "stdout",
       "text": [
        "\n",
        "E:\\Data\\WangKun@Mattijn\\outfolder\\t01//t20110130_08.tif"
       ]
      },
      {
       "output_type": "stream",
       "stream": "stdout",
       "text": [
        "\n",
        "E:\\Data\\WangKun@Mattijn\\outfolder\\t01//t20110102_09.tif"
       ]
      },
      {
       "output_type": "stream",
       "stream": "stdout",
       "text": [
        "\n",
        "E:\\Data\\WangKun@Mattijn\\outfolder\\t01//t20110103_09.tif"
       ]
      },
      {
       "output_type": "stream",
       "stream": "stdout",
       "text": [
        "\n",
        "E:\\Data\\WangKun@Mattijn\\outfolder\\t01//t20110104_09.tif"
       ]
      },
      {
       "output_type": "stream",
       "stream": "stdout",
       "text": [
        "\n",
        "E:\\Data\\WangKun@Mattijn\\outfolder\\t01//t20110105_09.tif"
       ]
      },
      {
       "output_type": "stream",
       "stream": "stdout",
       "text": [
        "\n",
        "E:\\Data\\WangKun@Mattijn\\outfolder\\t01//t20110106_09.tif"
       ]
      },
      {
       "output_type": "stream",
       "stream": "stdout",
       "text": [
        "\n",
        "E:\\Data\\WangKun@Mattijn\\outfolder\\t01//t20110107_09.tif"
       ]
      },
      {
       "output_type": "stream",
       "stream": "stdout",
       "text": [
        "\n",
        "E:\\Data\\WangKun@Mattijn\\outfolder\\t01//t20110108_09.tif"
       ]
      },
      {
       "output_type": "stream",
       "stream": "stdout",
       "text": [
        "\n",
        "E:\\Data\\WangKun@Mattijn\\outfolder\\t01//t20110109_09.tif"
       ]
      },
      {
       "output_type": "stream",
       "stream": "stdout",
       "text": [
        "\n",
        "E:\\Data\\WangKun@Mattijn\\outfolder\\t01//t20110110_09.tif"
       ]
      },
      {
       "output_type": "stream",
       "stream": "stdout",
       "text": [
        "\n",
        "E:\\Data\\WangKun@Mattijn\\outfolder\\t01//t20110111_09.tif"
       ]
      },
      {
       "output_type": "stream",
       "stream": "stdout",
       "text": [
        "\n",
        "E:\\Data\\WangKun@Mattijn\\outfolder\\t01//t20110112_09.tif"
       ]
      },
      {
       "output_type": "stream",
       "stream": "stdout",
       "text": [
        "\n",
        "E:\\Data\\WangKun@Mattijn\\outfolder\\t01//t20110113_09.tif"
       ]
      },
      {
       "output_type": "stream",
       "stream": "stdout",
       "text": [
        "\n",
        "E:\\Data\\WangKun@Mattijn\\outfolder\\t01//t20110114_09.tif"
       ]
      },
      {
       "output_type": "stream",
       "stream": "stdout",
       "text": [
        "\n",
        "E:\\Data\\WangKun@Mattijn\\outfolder\\t01//t20110115_09.tif"
       ]
      },
      {
       "output_type": "stream",
       "stream": "stdout",
       "text": [
        "\n",
        "E:\\Data\\WangKun@Mattijn\\outfolder\\t01//t20110116_09.tif"
       ]
      },
      {
       "output_type": "stream",
       "stream": "stdout",
       "text": [
        "\n",
        "E:\\Data\\WangKun@Mattijn\\outfolder\\t01//t20110117_09.tif"
       ]
      },
      {
       "output_type": "stream",
       "stream": "stdout",
       "text": [
        "\n",
        "E:\\Data\\WangKun@Mattijn\\outfolder\\t01//t20110118_09.tif"
       ]
      },
      {
       "output_type": "stream",
       "stream": "stdout",
       "text": [
        "\n",
        "E:\\Data\\WangKun@Mattijn\\outfolder\\t01//t20110119_09.tif"
       ]
      },
      {
       "output_type": "stream",
       "stream": "stdout",
       "text": [
        "\n",
        "E:\\Data\\WangKun@Mattijn\\outfolder\\t01//t20110120_09.tif"
       ]
      },
      {
       "output_type": "stream",
       "stream": "stdout",
       "text": [
        "\n",
        "E:\\Data\\WangKun@Mattijn\\outfolder\\t01//t20110121_09.tif"
       ]
      },
      {
       "output_type": "stream",
       "stream": "stdout",
       "text": [
        "\n",
        "E:\\Data\\WangKun@Mattijn\\outfolder\\t01//t20110122_09.tif"
       ]
      },
      {
       "output_type": "stream",
       "stream": "stdout",
       "text": [
        "\n",
        "E:\\Data\\WangKun@Mattijn\\outfolder\\t01//t20110123_09.tif"
       ]
      },
      {
       "output_type": "stream",
       "stream": "stdout",
       "text": [
        "\n",
        "E:\\Data\\WangKun@Mattijn\\outfolder\\t01//t20110124_09.tif"
       ]
      },
      {
       "output_type": "stream",
       "stream": "stdout",
       "text": [
        "\n",
        "E:\\Data\\WangKun@Mattijn\\outfolder\\t01//t20110125_09.tif"
       ]
      },
      {
       "output_type": "stream",
       "stream": "stdout",
       "text": [
        "\n",
        "E:\\Data\\WangKun@Mattijn\\outfolder\\t01//t20110126_09.tif"
       ]
      },
      {
       "output_type": "stream",
       "stream": "stdout",
       "text": [
        "\n",
        "E:\\Data\\WangKun@Mattijn\\outfolder\\t01//t20110127_09.tif"
       ]
      },
      {
       "output_type": "stream",
       "stream": "stdout",
       "text": [
        "\n",
        "E:\\Data\\WangKun@Mattijn\\outfolder\\t01//t20110128_09.tif"
       ]
      },
      {
       "output_type": "stream",
       "stream": "stdout",
       "text": [
        "\n",
        "E:\\Data\\WangKun@Mattijn\\outfolder\\t01//t20110129_09.tif"
       ]
      },
      {
       "output_type": "stream",
       "stream": "stdout",
       "text": [
        "\n",
        "E:\\Data\\WangKun@Mattijn\\outfolder\\t01//t20110130_09.tif"
       ]
      },
      {
       "output_type": "stream",
       "stream": "stdout",
       "text": [
        "\n"
       ]
      }
     ],
     "prompt_number": 11
    },
    {
     "cell_type": "code",
     "collapsed": false,
     "input": [
      "rsters = DEMfiles(folderDEM)\n",
      "for rster in rsters:    \n",
      "    raster, dem, extent = inRaster(rster)\n",
      "    for i in rng[1::]:    \n",
      "        #save output as raster\n",
      "        if len(raster.GetDescription()) == 43: # fixed code to check the length of the path\n",
      "            add = raster.GetDescription()[-6:-4]\n",
      "        else:\n",
      "            add = raster.GetDescription()[-5:-4]\n",
      "            \n",
      "        date = str(i.year)+str(i.month).zfill(2)+str(i.day).zfill(2)\n",
      "        outFilename = outFolder+prefix+str(date)+'_'+str(add.zfill(2))+'.tif'\n",
      "        print outFilename        "
     ],
     "language": "python",
     "metadata": {},
     "outputs": [
      {
       "output_type": "stream",
       "stream": "stdout",
       "text": [
        "E:\\Data\\WangKun@Mattijn\\outfolder\\t01//t20110102_00.tif\n",
        "E:\\Data\\WangKun@Mattijn\\outfolder\\t01//t20110103_00.tif\n",
        "E:\\Data\\WangKun@Mattijn\\outfolder\\t01//t20110104_00.tif\n",
        "E:\\Data\\WangKun@Mattijn\\outfolder\\t01//t20110105_00.tif\n",
        "E:\\Data\\WangKun@Mattijn\\outfolder\\t01//t20110106_00.tif\n",
        "E:\\Data\\WangKun@Mattijn\\outfolder\\t01//t20110107_00.tif\n",
        "E:\\Data\\WangKun@Mattijn\\outfolder\\t01//t20110108_00.tif\n",
        "E:\\Data\\WangKun@Mattijn\\outfolder\\t01//t20110109_00.tif\n",
        "E:\\Data\\WangKun@Mattijn\\outfolder\\t01//t20110110_00.tif\n",
        "E:\\Data\\WangKun@Mattijn\\outfolder\\t01//t20110111_00.tif\n",
        "E:\\Data\\WangKun@Mattijn\\outfolder\\t01//t20110112_00.tif\n",
        "E:\\Data\\WangKun@Mattijn\\outfolder\\t01//t20110113_00.tif\n",
        "E:\\Data\\WangKun@Mattijn\\outfolder\\t01//t20110114_00.tif\n",
        "E:\\Data\\WangKun@Mattijn\\outfolder\\t01//t20110115_00.tif\n",
        "E:\\Data\\WangKun@Mattijn\\outfolder\\t01//t20110116_00.tif\n",
        "E:\\Data\\WangKun@Mattijn\\outfolder\\t01//t20110117_00.tif\n",
        "E:\\Data\\WangKun@Mattijn\\outfolder\\t01//t20110118_00.tif\n",
        "E:\\Data\\WangKun@Mattijn\\outfolder\\t01//t20110119_00.tif\n",
        "E:\\Data\\WangKun@Mattijn\\outfolder\\t01//t20110120_00.tif\n",
        "E:\\Data\\WangKun@Mattijn\\outfolder\\t01//t20110121_00.tif\n",
        "E:\\Data\\WangKun@Mattijn\\outfolder\\t01//t20110122_00.tif\n",
        "E:\\Data\\WangKun@Mattijn\\outfolder\\t01//t20110123_00.tif\n",
        "E:\\Data\\WangKun@Mattijn\\outfolder\\t01//t20110124_00.tif\n",
        "E:\\Data\\WangKun@Mattijn\\outfolder\\t01//t20110125_00.tif\n",
        "E:\\Data\\WangKun@Mattijn\\outfolder\\t01//t20110126_00.tif\n",
        "E:\\Data\\WangKun@Mattijn\\outfolder\\t01//t20110127_00.tif\n",
        "E:\\Data\\WangKun@Mattijn\\outfolder\\t01//t20110128_00.tif\n",
        "E:\\Data\\WangKun@Mattijn\\outfolder\\t01//t20110129_00.tif\n",
        "E:\\Data\\WangKun@Mattijn\\outfolder\\t01//t20110130_00.tif\n",
        "E:\\Data\\WangKun@Mattijn\\outfolder\\t01//t20110102_01.tif\n",
        "E:\\Data\\WangKun@Mattijn\\outfolder\\t01//t20110103_01.tif\n",
        "E:\\Data\\WangKun@Mattijn\\outfolder\\t01//t20110104_01.tif\n",
        "E:\\Data\\WangKun@Mattijn\\outfolder\\t01//t20110105_01.tif\n",
        "E:\\Data\\WangKun@Mattijn\\outfolder\\t01//t20110106_01.tif\n",
        "E:\\Data\\WangKun@Mattijn\\outfolder\\t01//t20110107_01.tif\n",
        "E:\\Data\\WangKun@Mattijn\\outfolder\\t01//t20110108_01.tif\n",
        "E:\\Data\\WangKun@Mattijn\\outfolder\\t01//t20110109_01.tif\n",
        "E:\\Data\\WangKun@Mattijn\\outfolder\\t01//t20110110_01.tif\n",
        "E:\\Data\\WangKun@Mattijn\\outfolder\\t01//t20110111_01.tif\n",
        "E:\\Data\\WangKun@Mattijn\\outfolder\\t01//t20110112_01.tif\n",
        "E:\\Data\\WangKun@Mattijn\\outfolder\\t01//t20110113_01.tif\n",
        "E:\\Data\\WangKun@Mattijn\\outfolder\\t01//t20110114_01.tif\n",
        "E:\\Data\\WangKun@Mattijn\\outfolder\\t01//t20110115_01.tif\n",
        "E:\\Data\\WangKun@Mattijn\\outfolder\\t01//t20110116_01.tif\n",
        "E:\\Data\\WangKun@Mattijn\\outfolder\\t01//t20110117_01.tif\n",
        "E:\\Data\\WangKun@Mattijn\\outfolder\\t01//t20110118_01.tif\n",
        "E:\\Data\\WangKun@Mattijn\\outfolder\\t01//t20110119_01.tif\n",
        "E:\\Data\\WangKun@Mattijn\\outfolder\\t01//t20110120_01.tif\n",
        "E:\\Data\\WangKun@Mattijn\\outfolder\\t01//t20110121_01.tif\n",
        "E:\\Data\\WangKun@Mattijn\\outfolder\\t01//t20110122_01.tif\n",
        "E:\\Data\\WangKun@Mattijn\\outfolder\\t01//t20110123_01.tif\n",
        "E:\\Data\\WangKun@Mattijn\\outfolder\\t01//t20110124_01.tif\n",
        "E:\\Data\\WangKun@Mattijn\\outfolder\\t01//t20110125_01.tif\n",
        "E:\\Data\\WangKun@Mattijn\\outfolder\\t01//t20110126_01.tif\n",
        "E:\\Data\\WangKun@Mattijn\\outfolder\\t01//t20110127_01.tif\n",
        "E:\\Data\\WangKun@Mattijn\\outfolder\\t01//t20110128_01.tif\n",
        "E:\\Data\\WangKun@Mattijn\\outfolder\\t01//t20110129_01.tif\n",
        "E:\\Data\\WangKun@Mattijn\\outfolder\\t01//t20110130_01.tif\n",
        "E:\\Data\\WangKun@Mattijn\\outfolder\\t01//t20110102_10.tif\n",
        "E:\\Data\\WangKun@Mattijn\\outfolder\\t01//t20110103_10.tif\n",
        "E:\\Data\\WangKun@Mattijn\\outfolder\\t01//t20110104_10.tif\n",
        "E:\\Data\\WangKun@Mattijn\\outfolder\\t01//t20110105_10.tif\n",
        "E:\\Data\\WangKun@Mattijn\\outfolder\\t01//t20110106_10.tif\n",
        "E:\\Data\\WangKun@Mattijn\\outfolder\\t01//t20110107_10.tif\n",
        "E:\\Data\\WangKun@Mattijn\\outfolder\\t01//t20110108_10.tif\n",
        "E:\\Data\\WangKun@Mattijn\\outfolder\\t01//t20110109_10.tif\n",
        "E:\\Data\\WangKun@Mattijn\\outfolder\\t01//t20110110_10.tif\n",
        "E:\\Data\\WangKun@Mattijn\\outfolder\\t01//t20110111_10.tif\n",
        "E:\\Data\\WangKun@Mattijn\\outfolder\\t01//t20110112_10.tif\n",
        "E:\\Data\\WangKun@Mattijn\\outfolder\\t01//t20110113_10.tif\n",
        "E:\\Data\\WangKun@Mattijn\\outfolder\\t01//t20110114_10.tif\n",
        "E:\\Data\\WangKun@Mattijn\\outfolder\\t01//t20110115_10.tif\n",
        "E:\\Data\\WangKun@Mattijn\\outfolder\\t01//t20110116_10.tif\n",
        "E:\\Data\\WangKun@Mattijn\\outfolder\\t01//t20110117_10.tif\n",
        "E:\\Data\\WangKun@Mattijn\\outfolder\\t01//t20110118_10.tif\n",
        "E:\\Data\\WangKun@Mattijn\\outfolder\\t01//t20110119_10.tif\n",
        "E:\\Data\\WangKun@Mattijn\\outfolder\\t01//t20110120_10.tif\n",
        "E:\\Data\\WangKun@Mattijn\\outfolder\\t01//t20110121_10.tif\n",
        "E:\\Data\\WangKun@Mattijn\\outfolder\\t01//t20110122_10.tif\n",
        "E:\\Data\\WangKun@Mattijn\\outfolder\\t01//t20110123_10.tif\n",
        "E:\\Data\\WangKun@Mattijn\\outfolder\\t01//t20110124_10.tif\n",
        "E:\\Data\\WangKun@Mattijn\\outfolder\\t01//t20110125_10.tif\n",
        "E:\\Data\\WangKun@Mattijn\\outfolder\\t01//t20110126_10.tif\n",
        "E:\\Data\\WangKun@Mattijn\\outfolder\\t01//t20110127_10.tif\n",
        "E:\\Data\\WangKun@Mattijn\\outfolder\\t01//t20110128_10.tif\n",
        "E:\\Data\\WangKun@Mattijn\\outfolder\\t01//t20110129_10.tif\n",
        "E:\\Data\\WangKun@Mattijn\\outfolder\\t01//t20110130_10.tif\n",
        "E:\\Data\\WangKun@Mattijn\\outfolder\\t01//t20110102_11.tif\n",
        "E:\\Data\\WangKun@Mattijn\\outfolder\\t01//t20110103_11.tif\n",
        "E:\\Data\\WangKun@Mattijn\\outfolder\\t01//t20110104_11.tif\n",
        "E:\\Data\\WangKun@Mattijn\\outfolder\\t01//t20110105_11.tif\n",
        "E:\\Data\\WangKun@Mattijn\\outfolder\\t01//t20110106_11.tif\n",
        "E:\\Data\\WangKun@Mattijn\\outfolder\\t01//t20110107_11.tif\n",
        "E:\\Data\\WangKun@Mattijn\\outfolder\\t01//t20110108_11.tif\n",
        "E:\\Data\\WangKun@Mattijn\\outfolder\\t01//t20110109_11.tif\n",
        "E:\\Data\\WangKun@Mattijn\\outfolder\\t01//t20110110_11.tif\n",
        "E:\\Data\\WangKun@Mattijn\\outfolder\\t01//t20110111_11.tif\n",
        "E:\\Data\\WangKun@Mattijn\\outfolder\\t01//t20110112_11.tif\n",
        "E:\\Data\\WangKun@Mattijn\\outfolder\\t01//t20110113_11.tif\n",
        "E:\\Data\\WangKun@Mattijn\\outfolder\\t01//t20110114_11.tif\n",
        "E:\\Data\\WangKun@Mattijn\\outfolder\\t01//t20110115_11.tif\n",
        "E:\\Data\\WangKun@Mattijn\\outfolder\\t01//t20110116_11.tif\n",
        "E:\\Data\\WangKun@Mattijn\\outfolder\\t01//t20110117_11.tif\n",
        "E:\\Data\\WangKun@Mattijn\\outfolder\\t01//t20110118_11.tif\n",
        "E:\\Data\\WangKun@Mattijn\\outfolder\\t01//t20110119_11.tif\n",
        "E:\\Data\\WangKun@Mattijn\\outfolder\\t01//t20110120_11.tif\n",
        "E:\\Data\\WangKun@Mattijn\\outfolder\\t01//t20110121_11.tif\n",
        "E:\\Data\\WangKun@Mattijn\\outfolder\\t01//t20110122_11.tif\n",
        "E:\\Data\\WangKun@Mattijn\\outfolder\\t01//t20110123_11.tif\n",
        "E:\\Data\\WangKun@Mattijn\\outfolder\\t01//t20110124_11.tif\n",
        "E:\\Data\\WangKun@Mattijn\\outfolder\\t01//t20110125_11.tif\n",
        "E:\\Data\\WangKun@Mattijn\\outfolder\\t01//t20110126_11.tif\n",
        "E:\\Data\\WangKun@Mattijn\\outfolder\\t01//t20110127_11.tif\n",
        "E:\\Data\\WangKun@Mattijn\\outfolder\\t01//t20110128_11.tif\n",
        "E:\\Data\\WangKun@Mattijn\\outfolder\\t01//t20110129_11.tif\n",
        "E:\\Data\\WangKun@Mattijn\\outfolder\\t01//t20110130_11.tif\n",
        "E:\\Data\\WangKun@Mattijn\\outfolder\\t01//t20110102_12.tif\n",
        "E:\\Data\\WangKun@Mattijn\\outfolder\\t01//t20110103_12.tif\n",
        "E:\\Data\\WangKun@Mattijn\\outfolder\\t01//t20110104_12.tif\n",
        "E:\\Data\\WangKun@Mattijn\\outfolder\\t01//t20110105_12.tif\n",
        "E:\\Data\\WangKun@Mattijn\\outfolder\\t01//t20110106_12.tif\n",
        "E:\\Data\\WangKun@Mattijn\\outfolder\\t01//t20110107_12.tif\n",
        "E:\\Data\\WangKun@Mattijn\\outfolder\\t01//t20110108_12.tif\n",
        "E:\\Data\\WangKun@Mattijn\\outfolder\\t01//t20110109_12.tif\n",
        "E:\\Data\\WangKun@Mattijn\\outfolder\\t01//t20110110_12.tif\n",
        "E:\\Data\\WangKun@Mattijn\\outfolder\\t01//t20110111_12.tif\n",
        "E:\\Data\\WangKun@Mattijn\\outfolder\\t01//t20110112_12.tif\n",
        "E:\\Data\\WangKun@Mattijn\\outfolder\\t01//t20110113_12.tif\n",
        "E:\\Data\\WangKun@Mattijn\\outfolder\\t01//t20110114_12.tif\n",
        "E:\\Data\\WangKun@Mattijn\\outfolder\\t01//t20110115_12.tif\n",
        "E:\\Data\\WangKun@Mattijn\\outfolder\\t01//t20110116_12.tif\n",
        "E:\\Data\\WangKun@Mattijn\\outfolder\\t01//t20110117_12.tif\n",
        "E:\\Data\\WangKun@Mattijn\\outfolder\\t01//t20110118_12.tif\n",
        "E:\\Data\\WangKun@Mattijn\\outfolder\\t01//t20110119_12.tif\n",
        "E:\\Data\\WangKun@Mattijn\\outfolder\\t01//t20110120_12.tif\n",
        "E:\\Data\\WangKun@Mattijn\\outfolder\\t01//t20110121_12.tif\n",
        "E:\\Data\\WangKun@Mattijn\\outfolder\\t01//t20110122_12.tif\n",
        "E:\\Data\\WangKun@Mattijn\\outfolder\\t01//t20110123_12.tif\n",
        "E:\\Data\\WangKun@Mattijn\\outfolder\\t01//t20110124_12.tif\n",
        "E:\\Data\\WangKun@Mattijn\\outfolder\\t01//t20110125_12.tif\n",
        "E:\\Data\\WangKun@Mattijn\\outfolder\\t01//t20110126_12.tif\n",
        "E:\\Data\\WangKun@Mattijn\\outfolder\\t01//t20110127_12.tif\n",
        "E:\\Data\\WangKun@Mattijn\\outfolder\\t01//t20110128_12.tif\n",
        "E:\\Data\\WangKun@Mattijn\\outfolder\\t01//t20110129_12.tif\n",
        "E:\\Data\\WangKun@Mattijn\\outfolder\\t01//t20110130_12.tif\n",
        "E:\\Data\\WangKun@Mattijn\\outfolder\\t01//t20110102_13.tif\n",
        "E:\\Data\\WangKun@Mattijn\\outfolder\\t01//t20110103_13.tif\n",
        "E:\\Data\\WangKun@Mattijn\\outfolder\\t01//t20110104_13.tif\n",
        "E:\\Data\\WangKun@Mattijn\\outfolder\\t01//t20110105_13.tif\n",
        "E:\\Data\\WangKun@Mattijn\\outfolder\\t01//t20110106_13.tif\n",
        "E:\\Data\\WangKun@Mattijn\\outfolder\\t01//t20110107_13.tif\n",
        "E:\\Data\\WangKun@Mattijn\\outfolder\\t01//t20110108_13.tif\n",
        "E:\\Data\\WangKun@Mattijn\\outfolder\\t01//t20110109_13.tif\n",
        "E:\\Data\\WangKun@Mattijn\\outfolder\\t01//t20110110_13.tif\n",
        "E:\\Data\\WangKun@Mattijn\\outfolder\\t01//t20110111_13.tif\n",
        "E:\\Data\\WangKun@Mattijn\\outfolder\\t01//t20110112_13.tif\n",
        "E:\\Data\\WangKun@Mattijn\\outfolder\\t01//t20110113_13.tif\n",
        "E:\\Data\\WangKun@Mattijn\\outfolder\\t01//t20110114_13.tif\n",
        "E:\\Data\\WangKun@Mattijn\\outfolder\\t01//t20110115_13.tif\n",
        "E:\\Data\\WangKun@Mattijn\\outfolder\\t01//t20110116_13.tif\n",
        "E:\\Data\\WangKun@Mattijn\\outfolder\\t01//t20110117_13.tif\n",
        "E:\\Data\\WangKun@Mattijn\\outfolder\\t01//t20110118_13.tif\n",
        "E:\\Data\\WangKun@Mattijn\\outfolder\\t01//t20110119_13.tif\n",
        "E:\\Data\\WangKun@Mattijn\\outfolder\\t01//t20110120_13.tif\n",
        "E:\\Data\\WangKun@Mattijn\\outfolder\\t01//t20110121_13.tif\n",
        "E:\\Data\\WangKun@Mattijn\\outfolder\\t01//t20110122_13.tif\n",
        "E:\\Data\\WangKun@Mattijn\\outfolder\\t01//t20110123_13.tif\n",
        "E:\\Data\\WangKun@Mattijn\\outfolder\\t01//t20110124_13.tif\n",
        "E:\\Data\\WangKun@Mattijn\\outfolder\\t01//t20110125_13.tif\n",
        "E:\\Data\\WangKun@Mattijn\\outfolder\\t01//t20110126_13.tif\n",
        "E:\\Data\\WangKun@Mattijn\\outfolder\\t01//t20110127_13.tif\n",
        "E:\\Data\\WangKun@Mattijn\\outfolder\\t01//t20110128_13.tif\n",
        "E:\\Data\\WangKun@Mattijn\\outfolder\\t01//t20110129_13.tif\n",
        "E:\\Data\\WangKun@Mattijn\\outfolder\\t01//t20110130_13.tif\n",
        "E:\\Data\\WangKun@Mattijn\\outfolder\\t01//t20110102_14.tif\n",
        "E:\\Data\\WangKun@Mattijn\\outfolder\\t01//t20110103_14.tif\n",
        "E:\\Data\\WangKun@Mattijn\\outfolder\\t01//t20110104_14.tif\n",
        "E:\\Data\\WangKun@Mattijn\\outfolder\\t01//t20110105_14.tif\n",
        "E:\\Data\\WangKun@Mattijn\\outfolder\\t01//t20110106_14.tif\n",
        "E:\\Data\\WangKun@Mattijn\\outfolder\\t01//t20110107_14.tif\n",
        "E:\\Data\\WangKun@Mattijn\\outfolder\\t01//t20110108_14.tif\n",
        "E:\\Data\\WangKun@Mattijn\\outfolder\\t01//t20110109_14.tif\n",
        "E:\\Data\\WangKun@Mattijn\\outfolder\\t01//t20110110_14.tif\n",
        "E:\\Data\\WangKun@Mattijn\\outfolder\\t01//t20110111_14.tif\n",
        "E:\\Data\\WangKun@Mattijn\\outfolder\\t01//t20110112_14.tif\n",
        "E:\\Data\\WangKun@Mattijn\\outfolder\\t01//t20110113_14.tif\n",
        "E:\\Data\\WangKun@Mattijn\\outfolder\\t01//t20110114_14.tif\n",
        "E:\\Data\\WangKun@Mattijn\\outfolder\\t01//t20110115_14.tif\n",
        "E:\\Data\\WangKun@Mattijn\\outfolder\\t01//t20110116_14.tif\n",
        "E:\\Data\\WangKun@Mattijn\\outfolder\\t01//t20110117_14.tif\n",
        "E:\\Data\\WangKun@Mattijn\\outfolder\\t01//t20110118_14.tif\n",
        "E:\\Data\\WangKun@Mattijn\\outfolder\\t01//t20110119_14.tif\n",
        "E:\\Data\\WangKun@Mattijn\\outfolder\\t01//t20110120_14.tif\n",
        "E:\\Data\\WangKun@Mattijn\\outfolder\\t01//t20110121_14.tif\n",
        "E:\\Data\\WangKun@Mattijn\\outfolder\\t01//t20110122_14.tif\n",
        "E:\\Data\\WangKun@Mattijn\\outfolder\\t01//t20110123_14.tif\n",
        "E:\\Data\\WangKun@Mattijn\\outfolder\\t01//t20110124_14.tif\n",
        "E:\\Data\\WangKun@Mattijn\\outfolder\\t01//t20110125_14.tif\n",
        "E:\\Data\\WangKun@Mattijn\\outfolder\\t01//t20110126_14.tif\n",
        "E:\\Data\\WangKun@Mattijn\\outfolder\\t01//t20110127_14.tif\n",
        "E:\\Data\\WangKun@Mattijn\\outfolder\\t01//t20110128_14.tif\n",
        "E:\\Data\\WangKun@Mattijn\\outfolder\\t01//t20110129_14.tif\n",
        "E:\\Data\\WangKun@Mattijn\\outfolder\\t01//t20110130_14.tif\n",
        "E:\\Data\\WangKun@Mattijn\\outfolder\\t01//t20110102_15.tif\n",
        "E:\\Data\\WangKun@Mattijn\\outfolder\\t01//t20110103_15.tif\n",
        "E:\\Data\\WangKun@Mattijn\\outfolder\\t01//t20110104_15.tif\n",
        "E:\\Data\\WangKun@Mattijn\\outfolder\\t01//t20110105_15.tif\n",
        "E:\\Data\\WangKun@Mattijn\\outfolder\\t01//t20110106_15.tif\n",
        "E:\\Data\\WangKun@Mattijn\\outfolder\\t01//t20110107_15.tif\n",
        "E:\\Data\\WangKun@Mattijn\\outfolder\\t01//t20110108_15.tif\n",
        "E:\\Data\\WangKun@Mattijn\\outfolder\\t01//t20110109_15.tif\n",
        "E:\\Data\\WangKun@Mattijn\\outfolder\\t01//t20110110_15.tif\n",
        "E:\\Data\\WangKun@Mattijn\\outfolder\\t01//t20110111_15.tif\n",
        "E:\\Data\\WangKun@Mattijn\\outfolder\\t01//t20110112_15.tif\n",
        "E:\\Data\\WangKun@Mattijn\\outfolder\\t01//t20110113_15.tif\n",
        "E:\\Data\\WangKun@Mattijn\\outfolder\\t01//t20110114_15.tif\n",
        "E:\\Data\\WangKun@Mattijn\\outfolder\\t01//t20110115_15.tif\n",
        "E:\\Data\\WangKun@Mattijn\\outfolder\\t01//t20110116_15.tif\n",
        "E:\\Data\\WangKun@Mattijn\\outfolder\\t01//t20110117_15.tif\n",
        "E:\\Data\\WangKun@Mattijn\\outfolder\\t01//t20110118_15.tif\n",
        "E:\\Data\\WangKun@Mattijn\\outfolder\\t01//t20110119_15.tif\n",
        "E:\\Data\\WangKun@Mattijn\\outfolder\\t01//t20110120_15.tif\n",
        "E:\\Data\\WangKun@Mattijn\\outfolder\\t01//t20110121_15.tif\n",
        "E:\\Data\\WangKun@Mattijn\\outfolder\\t01//t20110122_15.tif\n",
        "E:\\Data\\WangKun@Mattijn\\outfolder\\t01//t20110123_15.tif\n",
        "E:\\Data\\WangKun@Mattijn\\outfolder\\t01//t20110124_15.tif\n",
        "E:\\Data\\WangKun@Mattijn\\outfolder\\t01//t20110125_15.tif\n",
        "E:\\Data\\WangKun@Mattijn\\outfolder\\t01//t20110126_15.tif\n",
        "E:\\Data\\WangKun@Mattijn\\outfolder\\t01//t20110127_15.tif\n",
        "E:\\Data\\WangKun@Mattijn\\outfolder\\t01//t20110128_15.tif\n",
        "E:\\Data\\WangKun@Mattijn\\outfolder\\t01//t20110129_15.tif\n",
        "E:\\Data\\WangKun@Mattijn\\outfolder\\t01//t20110130_15.tif\n",
        "E:\\Data\\WangKun@Mattijn\\outfolder\\t01//t20110102_16.tif\n",
        "E:\\Data\\WangKun@Mattijn\\outfolder\\t01//t20110103_16.tif\n",
        "E:\\Data\\WangKun@Mattijn\\outfolder\\t01//t20110104_16.tif\n",
        "E:\\Data\\WangKun@Mattijn\\outfolder\\t01//t20110105_16.tif\n",
        "E:\\Data\\WangKun@Mattijn\\outfolder\\t01//t20110106_16.tif\n",
        "E:\\Data\\WangKun@Mattijn\\outfolder\\t01//t20110107_16.tif\n",
        "E:\\Data\\WangKun@Mattijn\\outfolder\\t01//t20110108_16.tif\n",
        "E:\\Data\\WangKun@Mattijn\\outfolder\\t01//t20110109_16.tif\n",
        "E:\\Data\\WangKun@Mattijn\\outfolder\\t01//t20110110_16.tif\n",
        "E:\\Data\\WangKun@Mattijn\\outfolder\\t01//t20110111_16.tif\n",
        "E:\\Data\\WangKun@Mattijn\\outfolder\\t01//t20110112_16.tif\n",
        "E:\\Data\\WangKun@Mattijn\\outfolder\\t01//t20110113_16.tif\n",
        "E:\\Data\\WangKun@Mattijn\\outfolder\\t01//t20110114_16.tif\n",
        "E:\\Data\\WangKun@Mattijn\\outfolder\\t01//t20110115_16.tif\n",
        "E:\\Data\\WangKun@Mattijn\\outfolder\\t01//t20110116_16.tif\n",
        "E:\\Data\\WangKun@Mattijn\\outfolder\\t01//t20110117_16.tif\n",
        "E:\\Data\\WangKun@Mattijn\\outfolder\\t01//t20110118_16.tif\n",
        "E:\\Data\\WangKun@Mattijn\\outfolder\\t01//t20110119_16.tif\n",
        "E:\\Data\\WangKun@Mattijn\\outfolder\\t01//t20110120_16.tif\n",
        "E:\\Data\\WangKun@Mattijn\\outfolder\\t01//t20110121_16.tif\n",
        "E:\\Data\\WangKun@Mattijn\\outfolder\\t01//t20110122_16.tif\n",
        "E:\\Data\\WangKun@Mattijn\\outfolder\\t01//t20110123_16.tif\n",
        "E:\\Data\\WangKun@Mattijn\\outfolder\\t01//t20110124_16.tif\n",
        "E:\\Data\\WangKun@Mattijn\\outfolder\\t01//t20110125_16.tif\n",
        "E:\\Data\\WangKun@Mattijn\\outfolder\\t01//t20110126_16.tif\n",
        "E:\\Data\\WangKun@Mattijn\\outfolder\\t01//t20110127_16.tif\n",
        "E:\\Data\\WangKun@Mattijn\\outfolder\\t01//t20110128_16.tif\n",
        "E:\\Data\\WangKun@Mattijn\\outfolder\\t01//t20110129_16.tif\n",
        "E:\\Data\\WangKun@Mattijn\\outfolder\\t01//t20110130_16.tif\n",
        "E:\\Data\\WangKun@Mattijn\\outfolder\\t01//t20110102_17.tif\n",
        "E:\\Data\\WangKun@Mattijn\\outfolder\\t01//t20110103_17.tif\n",
        "E:\\Data\\WangKun@Mattijn\\outfolder\\t01//t20110104_17.tif\n",
        "E:\\Data\\WangKun@Mattijn\\outfolder\\t01//t20110105_17.tif\n",
        "E:\\Data\\WangKun@Mattijn\\outfolder\\t01//t20110106_17.tif\n",
        "E:\\Data\\WangKun@Mattijn\\outfolder\\t01//t20110107_17.tif\n",
        "E:\\Data\\WangKun@Mattijn\\outfolder\\t01//t20110108_17.tif\n",
        "E:\\Data\\WangKun@Mattijn\\outfolder\\t01//t20110109_17.tif\n",
        "E:\\Data\\WangKun@Mattijn\\outfolder\\t01//t20110110_17.tif\n",
        "E:\\Data\\WangKun@Mattijn\\outfolder\\t01//t20110111_17.tif\n",
        "E:\\Data\\WangKun@Mattijn\\outfolder\\t01//t20110112_17.tif\n",
        "E:\\Data\\WangKun@Mattijn\\outfolder\\t01//t20110113_17.tif\n",
        "E:\\Data\\WangKun@Mattijn\\outfolder\\t01//t20110114_17.tif\n",
        "E:\\Data\\WangKun@Mattijn\\outfolder\\t01//t20110115_17.tif\n",
        "E:\\Data\\WangKun@Mattijn\\outfolder\\t01//t20110116_17.tif\n",
        "E:\\Data\\WangKun@Mattijn\\outfolder\\t01//t20110117_17.tif\n",
        "E:\\Data\\WangKun@Mattijn\\outfolder\\t01//t20110118_17.tif\n",
        "E:\\Data\\WangKun@Mattijn\\outfolder\\t01//t20110119_17.tif\n",
        "E:\\Data\\WangKun@Mattijn\\outfolder\\t01//t20110120_17.tif\n",
        "E:\\Data\\WangKun@Mattijn\\outfolder\\t01//t20110121_17.tif\n",
        "E:\\Data\\WangKun@Mattijn\\outfolder\\t01//t20110122_17.tif\n",
        "E:\\Data\\WangKun@Mattijn\\outfolder\\t01//t20110123_17.tif\n",
        "E:\\Data\\WangKun@Mattijn\\outfolder\\t01//t20110124_17.tif\n",
        "E:\\Data\\WangKun@Mattijn\\outfolder\\t01//t20110125_17.tif\n",
        "E:\\Data\\WangKun@Mattijn\\outfolder\\t01//t20110126_17.tif\n",
        "E:\\Data\\WangKun@Mattijn\\outfolder\\t01//t20110127_17.tif\n",
        "E:\\Data\\WangKun@Mattijn\\outfolder\\t01//t20110128_17.tif\n",
        "E:\\Data\\WangKun@Mattijn\\outfolder\\t01//t20110129_17.tif\n",
        "E:\\Data\\WangKun@Mattijn\\outfolder\\t01//t20110130_17.tif\n",
        "E:\\Data\\WangKun@Mattijn\\outfolder\\t01//t20110102_18.tif\n",
        "E:\\Data\\WangKun@Mattijn\\outfolder\\t01//t20110103_18.tif\n",
        "E:\\Data\\WangKun@Mattijn\\outfolder\\t01//t20110104_18.tif\n",
        "E:\\Data\\WangKun@Mattijn\\outfolder\\t01//t20110105_18.tif\n",
        "E:\\Data\\WangKun@Mattijn\\outfolder\\t01//t20110106_18.tif\n",
        "E:\\Data\\WangKun@Mattijn\\outfolder\\t01//t20110107_18.tif\n",
        "E:\\Data\\WangKun@Mattijn\\outfolder\\t01//t20110108_18.tif\n",
        "E:\\Data\\WangKun@Mattijn\\outfolder\\t01//t20110109_18.tif\n",
        "E:\\Data\\WangKun@Mattijn\\outfolder\\t01//t20110110_18.tif\n",
        "E:\\Data\\WangKun@Mattijn\\outfolder\\t01//t20110111_18.tif\n",
        "E:\\Data\\WangKun@Mattijn\\outfolder\\t01//t20110112_18.tif\n",
        "E:\\Data\\WangKun@Mattijn\\outfolder\\t01//t20110113_18.tif\n",
        "E:\\Data\\WangKun@Mattijn\\outfolder\\t01//t20110114_18.tif\n",
        "E:\\Data\\WangKun@Mattijn\\outfolder\\t01//t20110115_18.tif\n",
        "E:\\Data\\WangKun@Mattijn\\outfolder\\t01//t20110116_18.tif\n",
        "E:\\Data\\WangKun@Mattijn\\outfolder\\t01//t20110117_18.tif\n",
        "E:\\Data\\WangKun@Mattijn\\outfolder\\t01//t20110118_18.tif\n",
        "E:\\Data\\WangKun@Mattijn\\outfolder\\t01//t20110119_18.tif\n",
        "E:\\Data\\WangKun@Mattijn\\outfolder\\t01//t20110120_18.tif\n",
        "E:\\Data\\WangKun@Mattijn\\outfolder\\t01//t20110121_18.tif\n",
        "E:\\Data\\WangKun@Mattijn\\outfolder\\t01//t20110122_18.tif\n",
        "E:\\Data\\WangKun@Mattijn\\outfolder\\t01//t20110123_18.tif\n",
        "E:\\Data\\WangKun@Mattijn\\outfolder\\t01//t20110124_18.tif\n",
        "E:\\Data\\WangKun@Mattijn\\outfolder\\t01//t20110125_18.tif\n",
        "E:\\Data\\WangKun@Mattijn\\outfolder\\t01//t20110126_18.tif\n",
        "E:\\Data\\WangKun@Mattijn\\outfolder\\t01//t20110127_18.tif\n",
        "E:\\Data\\WangKun@Mattijn\\outfolder\\t01//t20110128_18.tif\n",
        "E:\\Data\\WangKun@Mattijn\\outfolder\\t01//t20110129_18.tif\n",
        "E:\\Data\\WangKun@Mattijn\\outfolder\\t01//t20110130_18.tif\n",
        "E:\\Data\\WangKun@Mattijn\\outfolder\\t01//t20110102_19.tif\n",
        "E:\\Data\\WangKun@Mattijn\\outfolder\\t01//t20110103_19.tif\n",
        "E:\\Data\\WangKun@Mattijn\\outfolder\\t01//t20110104_19.tif\n",
        "E:\\Data\\WangKun@Mattijn\\outfolder\\t01//t20110105_19.tif\n",
        "E:\\Data\\WangKun@Mattijn\\outfolder\\t01//t20110106_19.tif\n",
        "E:\\Data\\WangKun@Mattijn\\outfolder\\t01//t20110107_19.tif\n",
        "E:\\Data\\WangKun@Mattijn\\outfolder\\t01//t20110108_19.tif\n",
        "E:\\Data\\WangKun@Mattijn\\outfolder\\t01//t20110109_19.tif\n",
        "E:\\Data\\WangKun@Mattijn\\outfolder\\t01//t20110110_19.tif\n",
        "E:\\Data\\WangKun@Mattijn\\outfolder\\t01//t20110111_19.tif\n",
        "E:\\Data\\WangKun@Mattijn\\outfolder\\t01//t20110112_19.tif\n",
        "E:\\Data\\WangKun@Mattijn\\outfolder\\t01//t20110113_19.tif\n",
        "E:\\Data\\WangKun@Mattijn\\outfolder\\t01//t20110114_19.tif\n",
        "E:\\Data\\WangKun@Mattijn\\outfolder\\t01//t20110115_19.tif\n",
        "E:\\Data\\WangKun@Mattijn\\outfolder\\t01//t20110116_19.tif\n",
        "E:\\Data\\WangKun@Mattijn\\outfolder\\t01//t20110117_19.tif\n",
        "E:\\Data\\WangKun@Mattijn\\outfolder\\t01//t20110118_19.tif\n",
        "E:\\Data\\WangKun@Mattijn\\outfolder\\t01//t20110119_19.tif\n",
        "E:\\Data\\WangKun@Mattijn\\outfolder\\t01//t20110120_19.tif\n",
        "E:\\Data\\WangKun@Mattijn\\outfolder\\t01//t20110121_19.tif\n",
        "E:\\Data\\WangKun@Mattijn\\outfolder\\t01//t20110122_19.tif\n",
        "E:\\Data\\WangKun@Mattijn\\outfolder\\t01//t20110123_19.tif\n",
        "E:\\Data\\WangKun@Mattijn\\outfolder\\t01//t20110124_19.tif\n",
        "E:\\Data\\WangKun@Mattijn\\outfolder\\t01//t20110125_19.tif\n",
        "E:\\Data\\WangKun@Mattijn\\outfolder\\t01//t20110126_19.tif\n",
        "E:\\Data\\WangKun@Mattijn\\outfolder\\t01//t20110127_19.tif\n",
        "E:\\Data\\WangKun@Mattijn\\outfolder\\t01//t20110128_19.tif\n",
        "E:\\Data\\WangKun@Mattijn\\outfolder\\t01//t20110129_19.tif\n",
        "E:\\Data\\WangKun@Mattijn\\outfolder\\t01//t20110130_19.tif\n",
        "E:\\Data\\WangKun@Mattijn\\outfolder\\t01//t20110102_02.tif\n",
        "E:\\Data\\WangKun@Mattijn\\outfolder\\t01//t20110103_02.tif\n",
        "E:\\Data\\WangKun@Mattijn\\outfolder\\t01//t20110104_02.tif\n",
        "E:\\Data\\WangKun@Mattijn\\outfolder\\t01//t20110105_02.tif\n",
        "E:\\Data\\WangKun@Mattijn\\outfolder\\t01//t20110106_02.tif\n",
        "E:\\Data\\WangKun@Mattijn\\outfolder\\t01//t20110107_02.tif\n",
        "E:\\Data\\WangKun@Mattijn\\outfolder\\t01//t20110108_02.tif\n",
        "E:\\Data\\WangKun@Mattijn\\outfolder\\t01//t20110109_02.tif\n",
        "E:\\Data\\WangKun@Mattijn\\outfolder\\t01//t20110110_02.tif\n",
        "E:\\Data\\WangKun@Mattijn\\outfolder\\t01//t20110111_02.tif\n",
        "E:\\Data\\WangKun@Mattijn\\outfolder\\t01//t20110112_02.tif\n",
        "E:\\Data\\WangKun@Mattijn\\outfolder\\t01//t20110113_02.tif\n",
        "E:\\Data\\WangKun@Mattijn\\outfolder\\t01//t20110114_02.tif\n",
        "E:\\Data\\WangKun@Mattijn\\outfolder\\t01//t20110115_02.tif\n",
        "E:\\Data\\WangKun@Mattijn\\outfolder\\t01//t20110116_02.tif\n",
        "E:\\Data\\WangKun@Mattijn\\outfolder\\t01//t20110117_02.tif\n",
        "E:\\Data\\WangKun@Mattijn\\outfolder\\t01//t20110118_02.tif\n",
        "E:\\Data\\WangKun@Mattijn\\outfolder\\t01//t20110119_02.tif\n",
        "E:\\Data\\WangKun@Mattijn\\outfolder\\t01//t20110120_02.tif\n",
        "E:\\Data\\WangKun@Mattijn\\outfolder\\t01//t20110121_02.tif\n",
        "E:\\Data\\WangKun@Mattijn\\outfolder\\t01//t20110122_02.tif\n",
        "E:\\Data\\WangKun@Mattijn\\outfolder\\t01//t20110123_02.tif\n",
        "E:\\Data\\WangKun@Mattijn\\outfolder\\t01//t20110124_02.tif\n",
        "E:\\Data\\WangKun@Mattijn\\outfolder\\t01//t20110125_02.tif\n",
        "E:\\Data\\WangKun@Mattijn\\outfolder\\t01//t20110126_02.tif\n",
        "E:\\Data\\WangKun@Mattijn\\outfolder\\t01//t20110127_02.tif\n",
        "E:\\Data\\WangKun@Mattijn\\outfolder\\t01//t20110128_02.tif\n",
        "E:\\Data\\WangKun@Mattijn\\outfolder\\t01//t20110129_02.tif\n",
        "E:\\Data\\WangKun@Mattijn\\outfolder\\t01//t20110130_02.tif\n",
        "E:\\Data\\WangKun@Mattijn\\outfolder\\t01//t20110102_20.tif\n",
        "E:\\Data\\WangKun@Mattijn\\outfolder\\t01//t20110103_20.tif\n",
        "E:\\Data\\WangKun@Mattijn\\outfolder\\t01//t20110104_20.tif\n",
        "E:\\Data\\WangKun@Mattijn\\outfolder\\t01//t20110105_20.tif\n",
        "E:\\Data\\WangKun@Mattijn\\outfolder\\t01//t20110106_20.tif\n",
        "E:\\Data\\WangKun@Mattijn\\outfolder\\t01//t20110107_20.tif\n",
        "E:\\Data\\WangKun@Mattijn\\outfolder\\t01//t20110108_20.tif\n",
        "E:\\Data\\WangKun@Mattijn\\outfolder\\t01//t20110109_20.tif\n",
        "E:\\Data\\WangKun@Mattijn\\outfolder\\t01//t20110110_20.tif\n",
        "E:\\Data\\WangKun@Mattijn\\outfolder\\t01//t20110111_20.tif\n",
        "E:\\Data\\WangKun@Mattijn\\outfolder\\t01//t20110112_20.tif\n",
        "E:\\Data\\WangKun@Mattijn\\outfolder\\t01//t20110113_20.tif\n",
        "E:\\Data\\WangKun@Mattijn\\outfolder\\t01//t20110114_20.tif\n",
        "E:\\Data\\WangKun@Mattijn\\outfolder\\t01//t20110115_20.tif\n",
        "E:\\Data\\WangKun@Mattijn\\outfolder\\t01//t20110116_20.tif\n",
        "E:\\Data\\WangKun@Mattijn\\outfolder\\t01//t20110117_20.tif\n",
        "E:\\Data\\WangKun@Mattijn\\outfolder\\t01//t20110118_20.tif\n",
        "E:\\Data\\WangKun@Mattijn\\outfolder\\t01//t20110119_20.tif\n",
        "E:\\Data\\WangKun@Mattijn\\outfolder\\t01//t20110120_20.tif\n",
        "E:\\Data\\WangKun@Mattijn\\outfolder\\t01//t20110121_20.tif\n",
        "E:\\Data\\WangKun@Mattijn\\outfolder\\t01//t20110122_20.tif\n",
        "E:\\Data\\WangKun@Mattijn\\outfolder\\t01//t20110123_20.tif\n",
        "E:\\Data\\WangKun@Mattijn\\outfolder\\t01//t20110124_20.tif\n",
        "E:\\Data\\WangKun@Mattijn\\outfolder\\t01//t20110125_20.tif\n",
        "E:\\Data\\WangKun@Mattijn\\outfolder\\t01//t20110126_20.tif\n",
        "E:\\Data\\WangKun@Mattijn\\outfolder\\t01//t20110127_20.tif\n",
        "E:\\Data\\WangKun@Mattijn\\outfolder\\t01//t20110128_20.tif\n",
        "E:\\Data\\WangKun@Mattijn\\outfolder\\t01//t20110129_20.tif\n",
        "E:\\Data\\WangKun@Mattijn\\outfolder\\t01//t20110130_20.tif\n",
        "E:\\Data\\WangKun@Mattijn\\outfolder\\t01//t20110102_21.tif\n",
        "E:\\Data\\WangKun@Mattijn\\outfolder\\t01//t20110103_21.tif\n",
        "E:\\Data\\WangKun@Mattijn\\outfolder\\t01//t20110104_21.tif\n",
        "E:\\Data\\WangKun@Mattijn\\outfolder\\t01//t20110105_21.tif\n",
        "E:\\Data\\WangKun@Mattijn\\outfolder\\t01//t20110106_21.tif\n",
        "E:\\Data\\WangKun@Mattijn\\outfolder\\t01//t20110107_21.tif\n",
        "E:\\Data\\WangKun@Mattijn\\outfolder\\t01//t20110108_21.tif\n",
        "E:\\Data\\WangKun@Mattijn\\outfolder\\t01//t20110109_21.tif\n",
        "E:\\Data\\WangKun@Mattijn\\outfolder\\t01//t20110110_21.tif\n",
        "E:\\Data\\WangKun@Mattijn\\outfolder\\t01//t20110111_21.tif\n",
        "E:\\Data\\WangKun@Mattijn\\outfolder\\t01//t20110112_21.tif\n",
        "E:\\Data\\WangKun@Mattijn\\outfolder\\t01//t20110113_21.tif\n",
        "E:\\Data\\WangKun@Mattijn\\outfolder\\t01//t20110114_21.tif\n",
        "E:\\Data\\WangKun@Mattijn\\outfolder\\t01//t20110115_21.tif\n",
        "E:\\Data\\WangKun@Mattijn\\outfolder\\t01//t20110116_21.tif\n",
        "E:\\Data\\WangKun@Mattijn\\outfolder\\t01//t20110117_21.tif\n",
        "E:\\Data\\WangKun@Mattijn\\outfolder\\t01//t20110118_21.tif\n",
        "E:\\Data\\WangKun@Mattijn\\outfolder\\t01//t20110119_21.tif\n",
        "E:\\Data\\WangKun@Mattijn\\outfolder\\t01//t20110120_21.tif\n",
        "E:\\Data\\WangKun@Mattijn\\outfolder\\t01//t20110121_21.tif\n",
        "E:\\Data\\WangKun@Mattijn\\outfolder\\t01//t20110122_21.tif\n",
        "E:\\Data\\WangKun@Mattijn\\outfolder\\t01//t20110123_21.tif\n",
        "E:\\Data\\WangKun@Mattijn\\outfolder\\t01//t20110124_21.tif\n",
        "E:\\Data\\WangKun@Mattijn\\outfolder\\t01//t20110125_21.tif\n",
        "E:\\Data\\WangKun@Mattijn\\outfolder\\t01//t20110126_21.tif\n",
        "E:\\Data\\WangKun@Mattijn\\outfolder\\t01//t20110127_21.tif\n",
        "E:\\Data\\WangKun@Mattijn\\outfolder\\t01//t20110128_21.tif\n",
        "E:\\Data\\WangKun@Mattijn\\outfolder\\t01//t20110129_21.tif\n",
        "E:\\Data\\WangKun@Mattijn\\outfolder\\t01//t20110130_21.tif\n",
        "E:\\Data\\WangKun@Mattijn\\outfolder\\t01//t20110102_22.tif\n",
        "E:\\Data\\WangKun@Mattijn\\outfolder\\t01//t20110103_22.tif\n",
        "E:\\Data\\WangKun@Mattijn\\outfolder\\t01//t20110104_22.tif\n",
        "E:\\Data\\WangKun@Mattijn\\outfolder\\t01//t20110105_22.tif\n",
        "E:\\Data\\WangKun@Mattijn\\outfolder\\t01//t20110106_22.tif\n",
        "E:\\Data\\WangKun@Mattijn\\outfolder\\t01//t20110107_22.tif\n",
        "E:\\Data\\WangKun@Mattijn\\outfolder\\t01//t20110108_22.tif\n",
        "E:\\Data\\WangKun@Mattijn\\outfolder\\t01//t20110109_22.tif\n",
        "E:\\Data\\WangKun@Mattijn\\outfolder\\t01//t20110110_22.tif\n",
        "E:\\Data\\WangKun@Mattijn\\outfolder\\t01//t20110111_22.tif\n",
        "E:\\Data\\WangKun@Mattijn\\outfolder\\t01//t20110112_22.tif\n",
        "E:\\Data\\WangKun@Mattijn\\outfolder\\t01//t20110113_22.tif\n",
        "E:\\Data\\WangKun@Mattijn\\outfolder\\t01//t20110114_22.tif\n",
        "E:\\Data\\WangKun@Mattijn\\outfolder\\t01//t20110115_22.tif\n",
        "E:\\Data\\WangKun@Mattijn\\outfolder\\t01//t20110116_22.tif\n",
        "E:\\Data\\WangKun@Mattijn\\outfolder\\t01//t20110117_22.tif\n",
        "E:\\Data\\WangKun@Mattijn\\outfolder\\t01//t20110118_22.tif\n",
        "E:\\Data\\WangKun@Mattijn\\outfolder\\t01//t20110119_22.tif\n",
        "E:\\Data\\WangKun@Mattijn\\outfolder\\t01//t20110120_22.tif\n",
        "E:\\Data\\WangKun@Mattijn\\outfolder\\t01//t20110121_22.tif\n",
        "E:\\Data\\WangKun@Mattijn\\outfolder\\t01//t20110122_22.tif\n",
        "E:\\Data\\WangKun@Mattijn\\outfolder\\t01//t20110123_22.tif\n",
        "E:\\Data\\WangKun@Mattijn\\outfolder\\t01//t20110124_22.tif\n",
        "E:\\Data\\WangKun@Mattijn\\outfolder\\t01//t20110125_22.tif\n",
        "E:\\Data\\WangKun@Mattijn\\outfolder\\t01//t20110126_22.tif\n",
        "E:\\Data\\WangKun@Mattijn\\outfolder\\t01//t20110127_22.tif\n",
        "E:\\Data\\WangKun@Mattijn\\outfolder\\t01//t20110128_22.tif\n",
        "E:\\Data\\WangKun@Mattijn\\outfolder\\t01//t20110129_22.tif\n",
        "E:\\Data\\WangKun@Mattijn\\outfolder\\t01//t20110130_22.tif\n",
        "E:\\Data\\WangKun@Mattijn\\outfolder\\t01//t20110102_23.tif\n",
        "E:\\Data\\WangKun@Mattijn\\outfolder\\t01//t20110103_23.tif\n",
        "E:\\Data\\WangKun@Mattijn\\outfolder\\t01//t20110104_23.tif\n",
        "E:\\Data\\WangKun@Mattijn\\outfolder\\t01//t20110105_23.tif\n",
        "E:\\Data\\WangKun@Mattijn\\outfolder\\t01//t20110106_23.tif\n",
        "E:\\Data\\WangKun@Mattijn\\outfolder\\t01//t20110107_23.tif\n",
        "E:\\Data\\WangKun@Mattijn\\outfolder\\t01//t20110108_23.tif\n",
        "E:\\Data\\WangKun@Mattijn\\outfolder\\t01//t20110109_23.tif\n",
        "E:\\Data\\WangKun@Mattijn\\outfolder\\t01//t20110110_23.tif\n",
        "E:\\Data\\WangKun@Mattijn\\outfolder\\t01//t20110111_23.tif\n",
        "E:\\Data\\WangKun@Mattijn\\outfolder\\t01//t20110112_23.tif\n",
        "E:\\Data\\WangKun@Mattijn\\outfolder\\t01//t20110113_23.tif\n",
        "E:\\Data\\WangKun@Mattijn\\outfolder\\t01//t20110114_23.tif\n",
        "E:\\Data\\WangKun@Mattijn\\outfolder\\t01//t20110115_23.tif\n",
        "E:\\Data\\WangKun@Mattijn\\outfolder\\t01//t20110116_23.tif\n",
        "E:\\Data\\WangKun@Mattijn\\outfolder\\t01//t20110117_23.tif\n",
        "E:\\Data\\WangKun@Mattijn\\outfolder\\t01//t20110118_23.tif\n",
        "E:\\Data\\WangKun@Mattijn\\outfolder\\t01//t20110119_23.tif\n",
        "E:\\Data\\WangKun@Mattijn\\outfolder\\t01//t20110120_23.tif\n",
        "E:\\Data\\WangKun@Mattijn\\outfolder\\t01//t20110121_23.tif\n",
        "E:\\Data\\WangKun@Mattijn\\outfolder\\t01//t20110122_23.tif\n",
        "E:\\Data\\WangKun@Mattijn\\outfolder\\t01//t20110123_23.tif\n",
        "E:\\Data\\WangKun@Mattijn\\outfolder\\t01//t20110124_23.tif\n",
        "E:\\Data\\WangKun@Mattijn\\outfolder\\t01//t20110125_23.tif\n",
        "E:\\Data\\WangKun@Mattijn\\outfolder\\t01//t20110126_23.tif\n",
        "E:\\Data\\WangKun@Mattijn\\outfolder\\t01//t20110127_23.tif\n",
        "E:\\Data\\WangKun@Mattijn\\outfolder\\t01//t20110128_23.tif\n",
        "E:\\Data\\WangKun@Mattijn\\outfolder\\t01//t20110129_23.tif\n",
        "E:\\Data\\WangKun@Mattijn\\outfolder\\t01//t20110130_23.tif\n",
        "E:\\Data\\WangKun@Mattijn\\outfolder\\t01//t20110102_24.tif\n",
        "E:\\Data\\WangKun@Mattijn\\outfolder\\t01//t20110103_24.tif\n",
        "E:\\Data\\WangKun@Mattijn\\outfolder\\t01//t20110104_24.tif\n",
        "E:\\Data\\WangKun@Mattijn\\outfolder\\t01//t20110105_24.tif\n",
        "E:\\Data\\WangKun@Mattijn\\outfolder\\t01//t20110106_24.tif\n",
        "E:\\Data\\WangKun@Mattijn\\outfolder\\t01//t20110107_24.tif\n",
        "E:\\Data\\WangKun@Mattijn\\outfolder\\t01//t20110108_24.tif\n",
        "E:\\Data\\WangKun@Mattijn\\outfolder\\t01//t20110109_24.tif\n",
        "E:\\Data\\WangKun@Mattijn\\outfolder\\t01//t20110110_24.tif\n",
        "E:\\Data\\WangKun@Mattijn\\outfolder\\t01//t20110111_24.tif\n",
        "E:\\Data\\WangKun@Mattijn\\outfolder\\t01//t20110112_24.tif\n",
        "E:\\Data\\WangKun@Mattijn\\outfolder\\t01//t20110113_24.tif\n",
        "E:\\Data\\WangKun@Mattijn\\outfolder\\t01//t20110114_24.tif\n",
        "E:\\Data\\WangKun@Mattijn\\outfolder\\t01//t20110115_24.tif\n",
        "E:\\Data\\WangKun@Mattijn\\outfolder\\t01//t20110116_24.tif\n",
        "E:\\Data\\WangKun@Mattijn\\outfolder\\t01//t20110117_24.tif\n",
        "E:\\Data\\WangKun@Mattijn\\outfolder\\t01//t20110118_24.tif\n",
        "E:\\Data\\WangKun@Mattijn\\outfolder\\t01//t20110119_24.tif\n",
        "E:\\Data\\WangKun@Mattijn\\outfolder\\t01//t20110120_24.tif\n",
        "E:\\Data\\WangKun@Mattijn\\outfolder\\t01//t20110121_24.tif\n",
        "E:\\Data\\WangKun@Mattijn\\outfolder\\t01//t20110122_24.tif\n",
        "E:\\Data\\WangKun@Mattijn\\outfolder\\t01//t20110123_24.tif\n",
        "E:\\Data\\WangKun@Mattijn\\outfolder\\t01//t20110124_24.tif\n",
        "E:\\Data\\WangKun@Mattijn\\outfolder\\t01//t20110125_24.tif\n",
        "E:\\Data\\WangKun@Mattijn\\outfolder\\t01//t20110126_24.tif\n",
        "E:\\Data\\WangKun@Mattijn\\outfolder\\t01//t20110127_24.tif\n",
        "E:\\Data\\WangKun@Mattijn\\outfolder\\t01//t20110128_24.tif\n",
        "E:\\Data\\WangKun@Mattijn\\outfolder\\t01//t20110129_24.tif\n",
        "E:\\Data\\WangKun@Mattijn\\outfolder\\t01//t20110130_24.tif\n",
        "E:\\Data\\WangKun@Mattijn\\outfolder\\t01//t20110102_03.tif"
       ]
      },
      {
       "output_type": "stream",
       "stream": "stdout",
       "text": [
        "\n",
        "E:\\Data\\WangKun@Mattijn\\outfolder\\t01//t20110103_03.tif\n",
        "E:\\Data\\WangKun@Mattijn\\outfolder\\t01//t20110104_03.tif\n",
        "E:\\Data\\WangKun@Mattijn\\outfolder\\t01//t20110105_03.tif\n",
        "E:\\Data\\WangKun@Mattijn\\outfolder\\t01//t20110106_03.tif\n",
        "E:\\Data\\WangKun@Mattijn\\outfolder\\t01//t20110107_03.tif\n",
        "E:\\Data\\WangKun@Mattijn\\outfolder\\t01//t20110108_03.tif\n",
        "E:\\Data\\WangKun@Mattijn\\outfolder\\t01//t20110109_03.tif\n",
        "E:\\Data\\WangKun@Mattijn\\outfolder\\t01//t20110110_03.tif\n",
        "E:\\Data\\WangKun@Mattijn\\outfolder\\t01//t20110111_03.tif\n",
        "E:\\Data\\WangKun@Mattijn\\outfolder\\t01//t20110112_03.tif\n",
        "E:\\Data\\WangKun@Mattijn\\outfolder\\t01//t20110113_03.tif\n",
        "E:\\Data\\WangKun@Mattijn\\outfolder\\t01//t20110114_03.tif\n",
        "E:\\Data\\WangKun@Mattijn\\outfolder\\t01//t20110115_03.tif\n",
        "E:\\Data\\WangKun@Mattijn\\outfolder\\t01//t20110116_03.tif\n",
        "E:\\Data\\WangKun@Mattijn\\outfolder\\t01//t20110117_03.tif\n",
        "E:\\Data\\WangKun@Mattijn\\outfolder\\t01//t20110118_03.tif\n",
        "E:\\Data\\WangKun@Mattijn\\outfolder\\t01//t20110119_03.tif\n",
        "E:\\Data\\WangKun@Mattijn\\outfolder\\t01//t20110120_03.tif\n",
        "E:\\Data\\WangKun@Mattijn\\outfolder\\t01//t20110121_03.tif\n",
        "E:\\Data\\WangKun@Mattijn\\outfolder\\t01//t20110122_03.tif\n",
        "E:\\Data\\WangKun@Mattijn\\outfolder\\t01//t20110123_03.tif\n",
        "E:\\Data\\WangKun@Mattijn\\outfolder\\t01//t20110124_03.tif\n",
        "E:\\Data\\WangKun@Mattijn\\outfolder\\t01//t20110125_03.tif\n",
        "E:\\Data\\WangKun@Mattijn\\outfolder\\t01//t20110126_03.tif\n",
        "E:\\Data\\WangKun@Mattijn\\outfolder\\t01//t20110127_03.tif\n",
        "E:\\Data\\WangKun@Mattijn\\outfolder\\t01//t20110128_03.tif\n",
        "E:\\Data\\WangKun@Mattijn\\outfolder\\t01//t20110129_03.tif\n",
        "E:\\Data\\WangKun@Mattijn\\outfolder\\t01//t20110130_03.tif\n",
        "E:\\Data\\WangKun@Mattijn\\outfolder\\t01//t20110102_04.tif\n",
        "E:\\Data\\WangKun@Mattijn\\outfolder\\t01//t20110103_04.tif\n",
        "E:\\Data\\WangKun@Mattijn\\outfolder\\t01//t20110104_04.tif\n",
        "E:\\Data\\WangKun@Mattijn\\outfolder\\t01//t20110105_04.tif\n",
        "E:\\Data\\WangKun@Mattijn\\outfolder\\t01//t20110106_04.tif\n",
        "E:\\Data\\WangKun@Mattijn\\outfolder\\t01//t20110107_04.tif\n",
        "E:\\Data\\WangKun@Mattijn\\outfolder\\t01//t20110108_04.tif\n",
        "E:\\Data\\WangKun@Mattijn\\outfolder\\t01//t20110109_04.tif\n",
        "E:\\Data\\WangKun@Mattijn\\outfolder\\t01//t20110110_04.tif\n",
        "E:\\Data\\WangKun@Mattijn\\outfolder\\t01//t20110111_04.tif\n",
        "E:\\Data\\WangKun@Mattijn\\outfolder\\t01//t20110112_04.tif\n",
        "E:\\Data\\WangKun@Mattijn\\outfolder\\t01//t20110113_04.tif\n",
        "E:\\Data\\WangKun@Mattijn\\outfolder\\t01//t20110114_04.tif\n",
        "E:\\Data\\WangKun@Mattijn\\outfolder\\t01//t20110115_04.tif\n",
        "E:\\Data\\WangKun@Mattijn\\outfolder\\t01//t20110116_04.tif\n",
        "E:\\Data\\WangKun@Mattijn\\outfolder\\t01//t20110117_04.tif\n",
        "E:\\Data\\WangKun@Mattijn\\outfolder\\t01//t20110118_04.tif\n",
        "E:\\Data\\WangKun@Mattijn\\outfolder\\t01//t20110119_04.tif\n",
        "E:\\Data\\WangKun@Mattijn\\outfolder\\t01//t20110120_04.tif\n",
        "E:\\Data\\WangKun@Mattijn\\outfolder\\t01//t20110121_04.tif\n",
        "E:\\Data\\WangKun@Mattijn\\outfolder\\t01//t20110122_04.tif\n",
        "E:\\Data\\WangKun@Mattijn\\outfolder\\t01//t20110123_04.tif\n",
        "E:\\Data\\WangKun@Mattijn\\outfolder\\t01//t20110124_04.tif\n",
        "E:\\Data\\WangKun@Mattijn\\outfolder\\t01//t20110125_04.tif\n",
        "E:\\Data\\WangKun@Mattijn\\outfolder\\t01//t20110126_04.tif\n",
        "E:\\Data\\WangKun@Mattijn\\outfolder\\t01//t20110127_04.tif\n",
        "E:\\Data\\WangKun@Mattijn\\outfolder\\t01//t20110128_04.tif\n",
        "E:\\Data\\WangKun@Mattijn\\outfolder\\t01//t20110129_04.tif\n",
        "E:\\Data\\WangKun@Mattijn\\outfolder\\t01//t20110130_04.tif\n",
        "E:\\Data\\WangKun@Mattijn\\outfolder\\t01//t20110102_05.tif\n",
        "E:\\Data\\WangKun@Mattijn\\outfolder\\t01//t20110103_05.tif\n",
        "E:\\Data\\WangKun@Mattijn\\outfolder\\t01//t20110104_05.tif\n",
        "E:\\Data\\WangKun@Mattijn\\outfolder\\t01//t20110105_05.tif\n",
        "E:\\Data\\WangKun@Mattijn\\outfolder\\t01//t20110106_05.tif\n",
        "E:\\Data\\WangKun@Mattijn\\outfolder\\t01//t20110107_05.tif\n",
        "E:\\Data\\WangKun@Mattijn\\outfolder\\t01//t20110108_05.tif\n",
        "E:\\Data\\WangKun@Mattijn\\outfolder\\t01//t20110109_05.tif\n",
        "E:\\Data\\WangKun@Mattijn\\outfolder\\t01//t20110110_05.tif\n",
        "E:\\Data\\WangKun@Mattijn\\outfolder\\t01//t20110111_05.tif\n",
        "E:\\Data\\WangKun@Mattijn\\outfolder\\t01//t20110112_05.tif\n",
        "E:\\Data\\WangKun@Mattijn\\outfolder\\t01//t20110113_05.tif\n",
        "E:\\Data\\WangKun@Mattijn\\outfolder\\t01//t20110114_05.tif\n",
        "E:\\Data\\WangKun@Mattijn\\outfolder\\t01//t20110115_05.tif\n",
        "E:\\Data\\WangKun@Mattijn\\outfolder\\t01//t20110116_05.tif\n",
        "E:\\Data\\WangKun@Mattijn\\outfolder\\t01//t20110117_05.tif\n",
        "E:\\Data\\WangKun@Mattijn\\outfolder\\t01//t20110118_05.tif\n",
        "E:\\Data\\WangKun@Mattijn\\outfolder\\t01//t20110119_05.tif\n",
        "E:\\Data\\WangKun@Mattijn\\outfolder\\t01//t20110120_05.tif\n",
        "E:\\Data\\WangKun@Mattijn\\outfolder\\t01//t20110121_05.tif\n",
        "E:\\Data\\WangKun@Mattijn\\outfolder\\t01//t20110122_05.tif\n",
        "E:\\Data\\WangKun@Mattijn\\outfolder\\t01//t20110123_05.tif\n",
        "E:\\Data\\WangKun@Mattijn\\outfolder\\t01//t20110124_05.tif\n",
        "E:\\Data\\WangKun@Mattijn\\outfolder\\t01//t20110125_05.tif\n",
        "E:\\Data\\WangKun@Mattijn\\outfolder\\t01//t20110126_05.tif\n",
        "E:\\Data\\WangKun@Mattijn\\outfolder\\t01//t20110127_05.tif\n",
        "E:\\Data\\WangKun@Mattijn\\outfolder\\t01//t20110128_05.tif\n",
        "E:\\Data\\WangKun@Mattijn\\outfolder\\t01//t20110129_05.tif\n",
        "E:\\Data\\WangKun@Mattijn\\outfolder\\t01//t20110130_05.tif\n",
        "E:\\Data\\WangKun@Mattijn\\outfolder\\t01//t20110102_06.tif\n",
        "E:\\Data\\WangKun@Mattijn\\outfolder\\t01//t20110103_06.tif\n",
        "E:\\Data\\WangKun@Mattijn\\outfolder\\t01//t20110104_06.tif\n",
        "E:\\Data\\WangKun@Mattijn\\outfolder\\t01//t20110105_06.tif\n",
        "E:\\Data\\WangKun@Mattijn\\outfolder\\t01//t20110106_06.tif\n",
        "E:\\Data\\WangKun@Mattijn\\outfolder\\t01//t20110107_06.tif\n",
        "E:\\Data\\WangKun@Mattijn\\outfolder\\t01//t20110108_06.tif\n",
        "E:\\Data\\WangKun@Mattijn\\outfolder\\t01//t20110109_06.tif\n",
        "E:\\Data\\WangKun@Mattijn\\outfolder\\t01//t20110110_06.tif\n",
        "E:\\Data\\WangKun@Mattijn\\outfolder\\t01//t20110111_06.tif\n",
        "E:\\Data\\WangKun@Mattijn\\outfolder\\t01//t20110112_06.tif\n",
        "E:\\Data\\WangKun@Mattijn\\outfolder\\t01//t20110113_06.tif\n",
        "E:\\Data\\WangKun@Mattijn\\outfolder\\t01//t20110114_06.tif\n",
        "E:\\Data\\WangKun@Mattijn\\outfolder\\t01//t20110115_06.tif\n",
        "E:\\Data\\WangKun@Mattijn\\outfolder\\t01//t20110116_06.tif\n",
        "E:\\Data\\WangKun@Mattijn\\outfolder\\t01//t20110117_06.tif\n",
        "E:\\Data\\WangKun@Mattijn\\outfolder\\t01//t20110118_06.tif\n",
        "E:\\Data\\WangKun@Mattijn\\outfolder\\t01//t20110119_06.tif\n",
        "E:\\Data\\WangKun@Mattijn\\outfolder\\t01//t20110120_06.tif\n",
        "E:\\Data\\WangKun@Mattijn\\outfolder\\t01//t20110121_06.tif\n",
        "E:\\Data\\WangKun@Mattijn\\outfolder\\t01//t20110122_06.tif\n",
        "E:\\Data\\WangKun@Mattijn\\outfolder\\t01//t20110123_06.tif\n",
        "E:\\Data\\WangKun@Mattijn\\outfolder\\t01//t20110124_06.tif\n",
        "E:\\Data\\WangKun@Mattijn\\outfolder\\t01//t20110125_06.tif\n",
        "E:\\Data\\WangKun@Mattijn\\outfolder\\t01//t20110126_06.tif\n",
        "E:\\Data\\WangKun@Mattijn\\outfolder\\t01//t20110127_06.tif\n",
        "E:\\Data\\WangKun@Mattijn\\outfolder\\t01//t20110128_06.tif\n",
        "E:\\Data\\WangKun@Mattijn\\outfolder\\t01//t20110129_06.tif\n",
        "E:\\Data\\WangKun@Mattijn\\outfolder\\t01//t20110130_06.tif\n",
        "E:\\Data\\WangKun@Mattijn\\outfolder\\t01//t20110102_07.tif\n",
        "E:\\Data\\WangKun@Mattijn\\outfolder\\t01//t20110103_07.tif\n",
        "E:\\Data\\WangKun@Mattijn\\outfolder\\t01//t20110104_07.tif\n",
        "E:\\Data\\WangKun@Mattijn\\outfolder\\t01//t20110105_07.tif\n",
        "E:\\Data\\WangKun@Mattijn\\outfolder\\t01//t20110106_07.tif\n",
        "E:\\Data\\WangKun@Mattijn\\outfolder\\t01//t20110107_07.tif\n",
        "E:\\Data\\WangKun@Mattijn\\outfolder\\t01//t20110108_07.tif\n",
        "E:\\Data\\WangKun@Mattijn\\outfolder\\t01//t20110109_07.tif\n",
        "E:\\Data\\WangKun@Mattijn\\outfolder\\t01//t20110110_07.tif\n",
        "E:\\Data\\WangKun@Mattijn\\outfolder\\t01//t20110111_07.tif\n",
        "E:\\Data\\WangKun@Mattijn\\outfolder\\t01//t20110112_07.tif\n",
        "E:\\Data\\WangKun@Mattijn\\outfolder\\t01//t20110113_07.tif\n",
        "E:\\Data\\WangKun@Mattijn\\outfolder\\t01//t20110114_07.tif\n",
        "E:\\Data\\WangKun@Mattijn\\outfolder\\t01//t20110115_07.tif\n",
        "E:\\Data\\WangKun@Mattijn\\outfolder\\t01//t20110116_07.tif\n",
        "E:\\Data\\WangKun@Mattijn\\outfolder\\t01//t20110117_07.tif\n",
        "E:\\Data\\WangKun@Mattijn\\outfolder\\t01//t20110118_07.tif\n",
        "E:\\Data\\WangKun@Mattijn\\outfolder\\t01//t20110119_07.tif\n",
        "E:\\Data\\WangKun@Mattijn\\outfolder\\t01//t20110120_07.tif\n",
        "E:\\Data\\WangKun@Mattijn\\outfolder\\t01//t20110121_07.tif\n",
        "E:\\Data\\WangKun@Mattijn\\outfolder\\t01//t20110122_07.tif\n",
        "E:\\Data\\WangKun@Mattijn\\outfolder\\t01//t20110123_07.tif\n",
        "E:\\Data\\WangKun@Mattijn\\outfolder\\t01//t20110124_07.tif\n",
        "E:\\Data\\WangKun@Mattijn\\outfolder\\t01//t20110125_07.tif\n",
        "E:\\Data\\WangKun@Mattijn\\outfolder\\t01//t20110126_07.tif\n",
        "E:\\Data\\WangKun@Mattijn\\outfolder\\t01//t20110127_07.tif\n",
        "E:\\Data\\WangKun@Mattijn\\outfolder\\t01//t20110128_07.tif\n",
        "E:\\Data\\WangKun@Mattijn\\outfolder\\t01//t20110129_07.tif\n",
        "E:\\Data\\WangKun@Mattijn\\outfolder\\t01//t20110130_07.tif\n",
        "E:\\Data\\WangKun@Mattijn\\outfolder\\t01//t20110102_08.tif\n",
        "E:\\Data\\WangKun@Mattijn\\outfolder\\t01//t20110103_08.tif\n",
        "E:\\Data\\WangKun@Mattijn\\outfolder\\t01//t20110104_08.tif\n",
        "E:\\Data\\WangKun@Mattijn\\outfolder\\t01//t20110105_08.tif\n",
        "E:\\Data\\WangKun@Mattijn\\outfolder\\t01//t20110106_08.tif\n",
        "E:\\Data\\WangKun@Mattijn\\outfolder\\t01//t20110107_08.tif\n",
        "E:\\Data\\WangKun@Mattijn\\outfolder\\t01//t20110108_08.tif\n",
        "E:\\Data\\WangKun@Mattijn\\outfolder\\t01//t20110109_08.tif\n",
        "E:\\Data\\WangKun@Mattijn\\outfolder\\t01//t20110110_08.tif\n",
        "E:\\Data\\WangKun@Mattijn\\outfolder\\t01//t20110111_08.tif\n",
        "E:\\Data\\WangKun@Mattijn\\outfolder\\t01//t20110112_08.tif\n",
        "E:\\Data\\WangKun@Mattijn\\outfolder\\t01//t20110113_08.tif\n",
        "E:\\Data\\WangKun@Mattijn\\outfolder\\t01//t20110114_08.tif\n",
        "E:\\Data\\WangKun@Mattijn\\outfolder\\t01//t20110115_08.tif\n",
        "E:\\Data\\WangKun@Mattijn\\outfolder\\t01//t20110116_08.tif\n",
        "E:\\Data\\WangKun@Mattijn\\outfolder\\t01//t20110117_08.tif\n",
        "E:\\Data\\WangKun@Mattijn\\outfolder\\t01//t20110118_08.tif\n",
        "E:\\Data\\WangKun@Mattijn\\outfolder\\t01//t20110119_08.tif\n",
        "E:\\Data\\WangKun@Mattijn\\outfolder\\t01//t20110120_08.tif\n",
        "E:\\Data\\WangKun@Mattijn\\outfolder\\t01//t20110121_08.tif\n",
        "E:\\Data\\WangKun@Mattijn\\outfolder\\t01//t20110122_08.tif\n",
        "E:\\Data\\WangKun@Mattijn\\outfolder\\t01//t20110123_08.tif\n",
        "E:\\Data\\WangKun@Mattijn\\outfolder\\t01//t20110124_08.tif\n",
        "E:\\Data\\WangKun@Mattijn\\outfolder\\t01//t20110125_08.tif\n",
        "E:\\Data\\WangKun@Mattijn\\outfolder\\t01//t20110126_08.tif\n",
        "E:\\Data\\WangKun@Mattijn\\outfolder\\t01//t20110127_08.tif\n",
        "E:\\Data\\WangKun@Mattijn\\outfolder\\t01//t20110128_08.tif\n",
        "E:\\Data\\WangKun@Mattijn\\outfolder\\t01//t20110129_08.tif\n",
        "E:\\Data\\WangKun@Mattijn\\outfolder\\t01//t20110130_08.tif\n",
        "E:\\Data\\WangKun@Mattijn\\outfolder\\t01//t20110102_09.tif\n",
        "E:\\Data\\WangKun@Mattijn\\outfolder\\t01//t20110103_09.tif\n",
        "E:\\Data\\WangKun@Mattijn\\outfolder\\t01//t20110104_09.tif\n",
        "E:\\Data\\WangKun@Mattijn\\outfolder\\t01//t20110105_09.tif\n",
        "E:\\Data\\WangKun@Mattijn\\outfolder\\t01//t20110106_09.tif\n",
        "E:\\Data\\WangKun@Mattijn\\outfolder\\t01//t20110107_09.tif\n",
        "E:\\Data\\WangKun@Mattijn\\outfolder\\t01//t20110108_09.tif\n",
        "E:\\Data\\WangKun@Mattijn\\outfolder\\t01//t20110109_09.tif\n",
        "E:\\Data\\WangKun@Mattijn\\outfolder\\t01//t20110110_09.tif\n",
        "E:\\Data\\WangKun@Mattijn\\outfolder\\t01//t20110111_09.tif\n",
        "E:\\Data\\WangKun@Mattijn\\outfolder\\t01//t20110112_09.tif\n",
        "E:\\Data\\WangKun@Mattijn\\outfolder\\t01//t20110113_09.tif\n",
        "E:\\Data\\WangKun@Mattijn\\outfolder\\t01//t20110114_09.tif\n",
        "E:\\Data\\WangKun@Mattijn\\outfolder\\t01//t20110115_09.tif\n",
        "E:\\Data\\WangKun@Mattijn\\outfolder\\t01//t20110116_09.tif\n",
        "E:\\Data\\WangKun@Mattijn\\outfolder\\t01//t20110117_09.tif\n",
        "E:\\Data\\WangKun@Mattijn\\outfolder\\t01//t20110118_09.tif\n",
        "E:\\Data\\WangKun@Mattijn\\outfolder\\t01//t20110119_09.tif\n",
        "E:\\Data\\WangKun@Mattijn\\outfolder\\t01//t20110120_09.tif\n",
        "E:\\Data\\WangKun@Mattijn\\outfolder\\t01//t20110121_09.tif\n",
        "E:\\Data\\WangKun@Mattijn\\outfolder\\t01//t20110122_09.tif\n",
        "E:\\Data\\WangKun@Mattijn\\outfolder\\t01//t20110123_09.tif\n",
        "E:\\Data\\WangKun@Mattijn\\outfolder\\t01//t20110124_09.tif\n",
        "E:\\Data\\WangKun@Mattijn\\outfolder\\t01//t20110125_09.tif\n",
        "E:\\Data\\WangKun@Mattijn\\outfolder\\t01//t20110126_09.tif\n",
        "E:\\Data\\WangKun@Mattijn\\outfolder\\t01//t20110127_09.tif\n",
        "E:\\Data\\WangKun@Mattijn\\outfolder\\t01//t20110128_09.tif\n",
        "E:\\Data\\WangKun@Mattijn\\outfolder\\t01//t20110129_09.tif\n",
        "E:\\Data\\WangKun@Mattijn\\outfolder\\t01//t20110130_09.tif\n"
       ]
      }
     ],
     "prompt_number": 10
    },
    {
     "cell_type": "code",
     "collapsed": false,
     "input": [
      "import sys\n",
      "import subprocess as sp"
     ],
     "language": "python",
     "metadata": {},
     "outputs": []
    },
    {
     "cell_type": "code",
     "collapsed": false,
     "input": [
      "def DEMfiles(inGSODFolder):\n",
      "    st_wmo = [os.path.join(root, name)\n",
      "               for root, dirs, files in os.walk(inGSODFolder)\n",
      "                 for name in files\n",
      "                 if name.endswith('.tif')]\n",
      "    return st_wmo\n",
      "\n",
      "outFolder = r'E:\\Data\\WangKun@Mattijn\\outfolder\\t2'\n",
      "gdal_merge = r'D:\\Python27\\Scripts\\gdal_merge.py'\n",
      "mergeFolder = r'E:\\Data\\WangKun@Mattijn\\outfolder\\t_merge\\\\'\n",
      "thisfile = r\"E:/Data/WangKun@Mattijn/outfolder/t_merge/merge_t.txt\"\n",
      "files = DEMfiles(outFolder)\n",
      "newlist = []\n",
      "for file_ in files:    \n",
      "    #print file_[23:25]\n",
      "    if file_[-16:-15] == 't':\n",
      "        newlist.append(file_)\n",
      "#print newlist\n",
      "\n",
      "for x in range(1,2):\n",
      "    thefile = open(r'E:\\Data\\WangKun@Mattijn\\outfolder\\t_merge//merge_t.txt', 'w')\n",
      "    new2 = []\n",
      "    #print x\n",
      "    for new in newlist:\n",
      "        if int(new[-9:-7]) == x:\n",
      "            new2.append(new)\n",
      "            date = new[-16:-7]\n",
      "            #print date\n",
      "    for item in new2:\n",
      "        thefile.write(\"%s\\n\" % item)\n",
      "    thefile.close()\n",
      "    #print date\n",
      "    outfile = mergeFolder+date+'.tif'\n",
      "    print outfile\n",
      "    paramsnorm = [gdal_merge, \"-o\", outfile, \"-q\", \"-v\", \"--optfile\", thisfile]\n",
      "    print sp.list2cmdline(paramsnorm)\n",
      "    norm = sp.Popen(sp.list2cmdline(paramsnorm), shell=True)     \n",
      "    norm.communicate()"
     ],
     "language": "python",
     "metadata": {},
     "outputs": []
    },
    {
     "cell_type": "code",
     "collapsed": false,
     "input": [
      "newlist[10][-9:-7]"
     ],
     "language": "python",
     "metadata": {},
     "outputs": []
    },
    {
     "cell_type": "code",
     "collapsed": false,
     "input": [
      "from osgeo import gdal \n",
      "from osgeo import ogr \n",
      "from osgeo import osr \n",
      "from osgeo import gdal_array \n",
      "from osgeo import gdalconst \n",
      "from osgeo.gdalconst import *"
     ],
     "language": "python",
     "metadata": {},
     "outputs": []
    },
    {
     "cell_type": "code",
     "collapsed": false,
     "input": [],
     "language": "python",
     "metadata": {},
     "outputs": []
    }
   ],
   "metadata": {}
  }
 ]
}