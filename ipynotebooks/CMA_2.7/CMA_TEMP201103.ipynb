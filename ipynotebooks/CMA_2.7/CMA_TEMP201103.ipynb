{
 "metadata": {
  "name": ""
 },
 "nbformat": 3,
 "nbformat_minor": 0,
 "worksheets": [
  {
   "cells": [
    {
     "cell_type": "code",
     "collapsed": false,
     "input": [
      "filepath = r'E:\\Data\\WangKun@Mattijn\\Atmospheric data_hourly\\2011\\201103'\n",
      "filestations = r'E:\\Data\\WangKun@Mattijn\\Radiation_hourly\\AWS_stations_Aalbers03.csv'\n",
      "folderDEM = r'E:\\Data\\WangKun@Mattijn\\DEM_TIL03'\n",
      "folderMSK = r'E:\\Data\\WangKun@Mattijn\\DEM_MA03'\n",
      "prefix = 't'\n",
      "outFolder = r'E:\\Data\\WangKun@Mattijn\\outfolder\\t03//'"
     ],
     "language": "python",
     "metadata": {},
     "outputs": [],
     "prompt_number": 1
    },
    {
     "cell_type": "code",
     "collapsed": false,
     "input": [
      "from scipy import stats\n",
      "from scipy.spatial.distance import cdist\n",
      "from scipy.spatial import cKDTree as KDTree\n",
      "import statsmodels.api as sm\n",
      "import numpy as np\n",
      "import pandas as pd\n",
      "import gdal\n",
      "import os\n",
      "from __future__ import division"
     ],
     "language": "python",
     "metadata": {},
     "outputs": [],
     "prompt_number": 2
    },
    {
     "cell_type": "code",
     "collapsed": false,
     "input": [
      "def FILES(inGSODFolder):\n",
      "    st_wmo = [os.path.join(root, name)\n",
      "               for root, dirs, files in os.walk(inGSODFolder)\n",
      "                 for name in files                 \n",
      "                 if name.endswith('')]\n",
      "    return st_wmo"
     ],
     "language": "python",
     "metadata": {},
     "outputs": [],
     "prompt_number": 3
    },
    {
     "cell_type": "code",
     "collapsed": false,
     "input": [
      "def DEMfiles(inDEMFolder):\n",
      "    dem_files = [os.path.join(root, name)\n",
      "               for root, dirs, files in os.walk(inDEMFolder)\n",
      "                 for name in files\n",
      "                 if name.endswith('.TIF')]\n",
      "    return dem_files"
     ],
     "language": "python",
     "metadata": {},
     "outputs": [],
     "prompt_number": 4
    },
    {
     "cell_type": "code",
     "collapsed": false,
     "input": [
      "def inRaster(fileDEM):\n",
      "    raster = gdal.Open(fileDEM, gdal.GA_ReadOnly)\n",
      "    band = raster.GetRasterBand(1)\n",
      "    dem = band.ReadAsArray()\n",
      "    extent = raster.GetGeoTransform()\n",
      "    return raster, dem, extent"
     ],
     "language": "python",
     "metadata": {},
     "outputs": [],
     "prompt_number": 5
    },
    {
     "cell_type": "code",
     "collapsed": false,
     "input": [
      "def saveRaster(path, array, datatype=3, formatraster=\"GTiff\"): # float32 = 6, signed int = 3\n",
      "    # Set Driver\n",
      "    format_ = formatraster #save as format\n",
      "    driver = gdal.GetDriverByName( format_ )\n",
      "    driver.Register()\n",
      "    \n",
      "    # Set Metadata for Raster output\n",
      "    cols = raster.RasterXSize\n",
      "    rows = raster.RasterYSize\n",
      "    bands = raster.RasterCount\n",
      "    datatype = 6#band.DataType\n",
      "    \n",
      "    # Set Projection for Raster\n",
      "    outDataset = driver.Create(outFilename, cols, rows, bands, datatype)\n",
      "    geoTransform = raster.GetGeoTransform()\n",
      "    outDataset.SetGeoTransform(geoTransform)\n",
      "    proj = raster.GetProjection()\n",
      "    outDataset.SetProjection(proj)\n",
      "    \n",
      "    # Write output to band 1 of new Raster\n",
      "    outBand = outDataset.GetRasterBand(1)\n",
      "    outBand.WriteArray(array) #save input array\n",
      "    #outBand.WriteArray(dem)\n",
      "    \n",
      "    # Close and finalise newly created Raster\n",
      "    #F_M01 = None\n",
      "    outBand = None\n",
      "    proj = None\n",
      "    geoTransform = None\n",
      "    outDataset = None\n",
      "    driver = None\n",
      "    datatype = None\n",
      "    bands = None\n",
      "    rows = None\n",
      "    cols = None\n",
      "    driver = None\n",
      "    array = None"
     ],
     "language": "python",
     "metadata": {},
     "outputs": [],
     "prompt_number": 6
    },
    {
     "cell_type": "code",
     "collapsed": false,
     "input": [
      "def GIDS(x,y):    \n",
      "    x_y = [(x,y)] # for kd_tree that starts counting at bottom left with 0,0\n",
      "    #print x_y\n",
      "    x_ = (x*extent[1]+extent[0]+extent[1]/2) # longitude aalbers projection (meters)\n",
      "    y_ = (y*extent[5]+extent[3]+extent[5]/2) # latitude aalbers projection (meters)\n",
      "    long_lat = np.array([[x_,y_]])\n",
      "    \n",
      "    #print long_lat\n",
      "    \n",
      "    dem_1 = dem[y,x] # elevation x_y coordinate\n",
      "    dist_tree, ix_tree = tree.query(x_y, k=8, eps=0, p=1) # returns distance and index\n",
      "    df_selection = df.ix[ix_tree.ravel()]\n",
      "    \n",
      "    #print 'elevation from x_y =', dem_1\n",
      "    #print '\\n8 nearest neighbours\\n', df_selection\n",
      "    \n",
      "    Longi = df_selection.ix[:,5] # meters - Aalbers projection\n",
      "    Lati = df_selection.ix[:,6] # meters - Aalbers projection\n",
      "    hi = df_selection.ix[:,2]\n",
      "    \n",
      "    ##TEMP\n",
      "    ti = df_selection.ix[:,1]\n",
      "    #print 'ti\\n',ti    \n",
      "    \n",
      "    pr_var = zip(Longi,Lati,hi) # combines predictor variables as tuples\n",
      "    y = zip(ti) # dependent variable\n",
      "    X = sm.add_constant(pr_var, prepend=True) # multiple linear regression\n",
      "    \n",
      "    #fit the model\n",
      "    mlr = sm.OLS(y,X).fit()\n",
      "    b0,b1,b2,b3 = mlr.params\n",
      "    #print '\\nMultiLineair regression\\n', mlr.summary()\n",
      "    \n",
      "    long_lat_stations = df_selection.as_matrix(columns=['POINT_X','POINT_Y']) \n",
      "                                 \n",
      "    di = cdist(long_lat_stations, long_lat, 'euclidean') # Returns Eucleadian distance in meters between grid cell and selected weather-stations\n",
      "    #print '\\nDistances\\n',di\n",
      "    \n",
      "    # prepare datasets as flattened numpy array or as single values\n",
      "    Hi = df_selection.as_matrix(columns=['Elev']).flatten()\n",
      "    Ti = df_selection.as_matrix(columns=['TEMP']).flatten()\n",
      "    #Ti = (Ti-32)*(5/9)\n",
      "    \n",
      "    di_ = di.flatten()\n",
      "    long_lat_ = long_lat.flatten()\n",
      "    Longi_ = df_selection.as_matrix(columns=['POINT_X',]).flatten()\n",
      "    Lati_ = df_selection.as_matrix(columns=['POINT_Y',]).flatten()\n",
      "    #print '\\nhi\\n',Hi\n",
      "    #print '\\nti\\n',Ti\n",
      "    #print '\\ndi\\n',di\n",
      "    #print '\\nlong_lat\\n',long_lat\n",
      "    #print '\\nlongi\\n',Longi_\n",
      "    #print '\\nlati\\n',Lati_\n",
      "    \n",
      "    top =    sum( (1/di_)**2 )**-1\n",
      "    long_f = b1*(long_lat_[0]-Longi_)\n",
      "    lat_f =  b2*(long_lat_[1]-Lati_)\n",
      "    h_f =    b3*(dem_1-Hi)\n",
      "    middle = Ti + long_f + lat_f + h_f\n",
      "    end = (1/di_)**2 \n",
      "    comb = top * sum( middle * end )\n",
      "    #print comb\n",
      "    return comb"
     ],
     "language": "python",
     "metadata": {},
     "outputs": [],
     "prompt_number": 7
    },
    {
     "cell_type": "code",
     "collapsed": false,
     "input": [
      "# select meteorological data file\n",
      "file_ = FILES(filepath)\n",
      "f = file_[0]\n",
      "print f\n",
      "\n",
      "# create range of dates\n",
      "rng = pd.date_range('3/1/2011', '3/31/2011', freq='D')\n",
      "print rng"
     ],
     "language": "python",
     "metadata": {},
     "outputs": [
      {
       "output_type": "stream",
       "stream": "stdout",
       "text": [
        "E:\\Data\\WangKun@Mattijn\\Atmospheric data_hourly\\2011\\201103\\SURF_CLI_CHN_MUL_FTM-201103.TXT\n",
        "<class 'pandas.tseries.index.DatetimeIndex'>\n",
        "[2011-03-01 00:00:00, ..., 2011-03-31 00:00:00]\n",
        "Length: 31, Freq: D, Timezone: None\n"
       ]
      }
     ],
     "prompt_number": 8
    },
    {
     "cell_type": "code",
     "collapsed": false,
     "input": [
      "# read file and parse the dates correctly\n",
      "df = pd.read_csv(f, sep='\\t', header=None,  \n",
      "                 parse_dates={'datetime': [1,2,3,4]}, \n",
      "                 date_parser=lambda x: pd.datetime.strptime(x, '%Y %m %d %H'))\n",
      "\n",
      "# set name of columns\n",
      "columns_df = ['datetime','Station','STP','a','TEMP','b','c','d','REHU','e','f','g','PRCP','h','i','WDSP','j','k','l','m','n','o', \\\n",
      "              'p','q','r','s','t']\n",
      "df.columns = columns_df\n",
      "\n",
      "# set date-time as index and select the variables needed\n",
      "df.set_index('datetime', inplace=True)\n",
      "df_sel = df[['Station', 'TEMP']]#'STP','TEMP','REHU','PRCP','WDSP']]\n",
      "\n",
      "# replace missing, blank and values for snow as NaN\n",
      "df_sel.replace(32766, np.nan, inplace=True)\n",
      "df_sel.replace(32744, np.nan, inplace=True)\n",
      "df_sel.replace(32700, np.nan, inplace=True)\n",
      "\n",
      "# make appropriate concersions to right unit\n",
      "#df_sel.STP *= 0.1\n",
      "df_sel.TEMP *= 10\n",
      "#df_sel.PRCP *= 0.1\n",
      "#df_sel.STP *= 0.1\n",
      "\n",
      "# group by Station ID and resample to daily values\n",
      "df_selDay = df_sel.groupby('Station').resample('1D')\n",
      "df_selDay = df_selDay.drop('Station',1)\n",
      "df_selDay = df_selDay.reset_index()\n",
      "df_selDay = df_selDay.set_index('datetime')\n",
      "print df_selDay.head()"
     ],
     "language": "python",
     "metadata": {},
     "outputs": [
      {
       "output_type": "stream",
       "stream": "stdout",
       "text": [
        "            Station         TEMP\n",
        "datetime                        \n",
        "2011-03-01    50136 -2174.583333\n",
        "2011-03-02    50136 -2498.750000\n",
        "2011-03-03    50136 -1918.750000\n",
        "2011-03-04    50136 -1263.333333\n",
        "2011-03-05    50136 -1574.583333\n"
       ]
      }
     ],
     "prompt_number": 9
    },
    {
     "cell_type": "markdown",
     "metadata": {},
     "source": [
      "TEEEESSSSTTTT"
     ]
    },
    {
     "cell_type": "code",
     "collapsed": false,
     "input": [
      "masks = DEMfiles(folderMSK)\n",
      "m_raster, m_dem, m_extent = inRaster(masks[5])\n",
      "\n",
      "dem_j = m_dem.shape[1]\n",
      "dem_i = m_dem.shape[0]\n",
      "for x in range(0,dem_j):\n",
      "    for y in range(0,dem_i):\n",
      "#        print x, y, m_dem[y,x]\n",
      "        if m_dem[y,x] == 1:\n",
      "            tp[x][y] = 5\n",
      "        else:\n",
      "            tp[x][y] = 32677\n"
     ],
     "language": "python",
     "metadata": {},
     "outputs": []
    },
    {
     "cell_type": "code",
     "collapsed": false,
     "input": [
      "rsters = DEMfiles(folderDEM)\n",
      "for rster in rsters:    \n",
      "    raster, dem, extent = inRaster(rster)\n",
      "    for i in rng:    \n",
      "        #save output as raster\n",
      "        if len(raster.GetDescription()) == 43: # fixed code to check the length of the path\n",
      "            add = raster.GetDescription()[-6:-4]\n",
      "        else:\n",
      "            add = raster.GetDescription()[-5:-4]\n",
      "            \n",
      "        date = str(i.year)+str(i.month).zfill(2)+str(i.day).zfill(2)\n",
      "        outFilename = outFolder+prefix+str(date)+'_'+str(add.zfill(2))+'.tif'\n",
      "        #print outFilename "
     ],
     "language": "python",
     "metadata": {},
     "outputs": [],
     "prompt_number": 13
    },
    {
     "cell_type": "code",
     "collapsed": false,
     "input": [
      "rsters = DEMfiles(folderDEM)\n",
      "masks = DEMfiles(folderMSK)\n",
      "#st_wmo = GSODfiles(folderGSOD)\n",
      "for rster in rsters:    \n",
      "    raster, dem, extent = inRaster(rster)    \n",
      "    for mask in masks:\n",
      "        if len(rster) == 43 and len(mask)==42:\n",
      "            if int(mask[-6:-4]) == int(rster[-6:-4]):\n",
      "                mskpth = mask                \n",
      "        elif len(rster) == 42 and len(mask)==41:\n",
      "            if int(mask[-5:-4]) == int(rster[-5:-4]):\n",
      "                mskpth = mask\n",
      "    m_raster, m_dem, m_extent = inRaster(mskpth)\n",
      "    dem_j = m_dem.shape[1]\n",
      "    dem_i = m_dem.shape[0]\n",
      "    for x in range(0,dem_j):\n",
      "        for y in range(0,dem_i):\n",
      "    #        print x, y, m_dem[y,x]\n",
      "            if m_dem[y,x] == 1:\n",
      "                tp[x][y] = GIDS(x,y)\n",
      "            else:\n",
      "                tp[x][y] = 32677"
     ],
     "language": "python",
     "metadata": {},
     "outputs": []
    },
    {
     "cell_type": "markdown",
     "metadata": {},
     "source": [
      "TEEEEESSSSTTTT"
     ]
    },
    {
     "cell_type": "code",
     "collapsed": false,
     "input": [
      "rsters = DEMfiles(folderDEM)\n",
      "masks = DEMfiles(folderMSK)\n",
      "#st_wmo = GSODfiles(folderGSOD)\n",
      "for rster in rsters:    \n",
      "    raster, dem, extent = inRaster(rster)    \n",
      "    for mask in masks:\n",
      "        if len(rster) == 43 and len(mask)==42:\n",
      "            if int(mask[-6:-4]) == int(rster[-6:-4]):\n",
      "                mskpth = mask                \n",
      "        elif len(rster) == 42 and len(mask)==41:\n",
      "            if int(mask[-5:-4]) == int(rster[-5:-4]):\n",
      "                mskpth = mask\n",
      "    m_raster, m_dem, m_extent = inRaster(mskpth)\n",
      "    #print raster.GetDescription()\n",
      "    #print m_raster.GetDescription()\n",
      "    #for date in date_all:\n",
      "    for i in rng:\n",
      "        \n",
      "        # read station file\n",
      "        df_stations = pd.read_csv(filestations)        \n",
      "        \n",
      "        df_stations['Y_LAT'] = (df_stations.POINT_Y-extent[3])/extent[5]\n",
      "        df_stations['X_LON'] = (df_stations.POINT_X-extent[0])/extent[1]\n",
      "        \n",
      "        #print '\\ndate of range\\n', i\n",
      "        data_left = df_selDay.ix[i]    \n",
      "        sel_merge = pd.merge(data_left, df_stations, on='Station', how='inner', )\n",
      "        #print '\\nInner merge on station and data frame\\n', sel_merge.head()\n",
      "        \n",
      "        #TEMP\n",
      "        df = sel_merge[pd.notnull(sel_merge['TEMP'])]\n",
      "        df.reset_index(drop=True, inplace=True)\n",
      "        \n",
      "        #df.TEMP =df.TEMP.astype(int)\n",
      "        #print '\\nDrop not null and reset index\\n', df.head()\n",
      "\n",
      "        Longscaled = df.ix[:,8]\n",
      "        #print '\\nlongscaled\\n', Longscaled\n",
      "        Latscaled = df.ix[:,7]\n",
      "        #print '\\nlatscaled\\n', Latscaled\n",
      "        tree = KDTree(zip(Longscaled,Latscaled), leafsize=11)\n",
      "    \n",
      "        tp = np.zeros([dem.shape[1],dem.shape[0]])\n",
      "        \n",
      "        #x = 0\n",
      "        #y = 0\n",
      "        #print GIDS(x,y)\n",
      "        dem_j = m_dem.shape[1]\n",
      "        dem_i = m_dem.shape[0]\n",
      "        for x in range(0,dem_j):\n",
      "            for y in range(0,dem_i):\n",
      "        #        print x, y, m_dem[y,x]\n",
      "                if m_dem[y,x] == 1:\n",
      "                    tp[x][y] = GIDS(x,y)\n",
      "                else:\n",
      "                    tp[x][y] = 32677        \n",
      "        \n",
      "#        for x in range(0,dem.shape[1],1):\n",
      "#            for y in range(0,dem.shape[0],1):\n",
      "#                tp[x][y] = GIDS(x,y)\n",
      "        tp = tp.T\n",
      "        \n",
      "        #save output as raster\n",
      "        if len(raster.GetDescription()) == 43: # fixed code to check the length of the path\n",
      "            add = raster.GetDescription()[-6:-4]\n",
      "        else:\n",
      "            add = raster.GetDescription()[-5:-4]\n",
      "            \n",
      "        date = str(i.year)+str(i.month).zfill(2)+str(i.day).zfill(2)\n",
      "        outFilename = outFolder+prefix+str(date)+'_'+str(add.zfill(2))+'.tif'\n",
      "        print outFilename\n",
      "        \n",
      "        saveRaster(outFilename, tp)\n",
      "        outFilename = None\n",
      "        tp = None"
     ],
     "language": "python",
     "metadata": {},
     "outputs": [
      {
       "output_type": "stream",
       "stream": "stdout",
       "text": [
        "E:\\Data\\WangKun@Mattijn\\outfolder\\t03//t20110301_11.tif\n",
        "E:\\Data\\WangKun@Mattijn\\outfolder\\t03//t20110302_11.tif"
       ]
      },
      {
       "output_type": "stream",
       "stream": "stdout",
       "text": [
        "\n",
        "E:\\Data\\WangKun@Mattijn\\outfolder\\t03//t20110303_11.tif"
       ]
      },
      {
       "output_type": "stream",
       "stream": "stdout",
       "text": [
        "\n",
        "E:\\Data\\WangKun@Mattijn\\outfolder\\t03//t20110304_11.tif"
       ]
      },
      {
       "output_type": "stream",
       "stream": "stdout",
       "text": [
        "\n",
        "E:\\Data\\WangKun@Mattijn\\outfolder\\t03//t20110305_11.tif"
       ]
      },
      {
       "output_type": "stream",
       "stream": "stdout",
       "text": [
        "\n",
        "E:\\Data\\WangKun@Mattijn\\outfolder\\t03//t20110306_11.tif"
       ]
      },
      {
       "output_type": "stream",
       "stream": "stdout",
       "text": [
        "\n",
        "E:\\Data\\WangKun@Mattijn\\outfolder\\t03//t20110307_11.tif"
       ]
      },
      {
       "output_type": "stream",
       "stream": "stdout",
       "text": [
        "\n",
        "E:\\Data\\WangKun@Mattijn\\outfolder\\t03//t20110308_11.tif"
       ]
      },
      {
       "output_type": "stream",
       "stream": "stdout",
       "text": [
        "\n",
        "E:\\Data\\WangKun@Mattijn\\outfolder\\t03//t20110309_11.tif"
       ]
      },
      {
       "output_type": "stream",
       "stream": "stdout",
       "text": [
        "\n",
        "E:\\Data\\WangKun@Mattijn\\outfolder\\t03//t20110310_11.tif"
       ]
      },
      {
       "output_type": "stream",
       "stream": "stdout",
       "text": [
        "\n",
        "E:\\Data\\WangKun@Mattijn\\outfolder\\t03//t20110311_11.tif"
       ]
      },
      {
       "output_type": "stream",
       "stream": "stdout",
       "text": [
        "\n",
        "E:\\Data\\WangKun@Mattijn\\outfolder\\t03//t20110312_11.tif"
       ]
      },
      {
       "output_type": "stream",
       "stream": "stdout",
       "text": [
        "\n",
        "E:\\Data\\WangKun@Mattijn\\outfolder\\t03//t20110313_11.tif"
       ]
      },
      {
       "output_type": "stream",
       "stream": "stdout",
       "text": [
        "\n",
        "E:\\Data\\WangKun@Mattijn\\outfolder\\t03//t20110314_11.tif"
       ]
      },
      {
       "output_type": "stream",
       "stream": "stdout",
       "text": [
        "\n",
        "E:\\Data\\WangKun@Mattijn\\outfolder\\t03//t20110315_11.tif"
       ]
      },
      {
       "output_type": "stream",
       "stream": "stdout",
       "text": [
        "\n",
        "E:\\Data\\WangKun@Mattijn\\outfolder\\t03//t20110316_11.tif"
       ]
      },
      {
       "output_type": "stream",
       "stream": "stdout",
       "text": [
        "\n",
        "E:\\Data\\WangKun@Mattijn\\outfolder\\t03//t20110317_11.tif"
       ]
      },
      {
       "output_type": "stream",
       "stream": "stdout",
       "text": [
        "\n",
        "E:\\Data\\WangKun@Mattijn\\outfolder\\t03//t20110318_11.tif"
       ]
      },
      {
       "output_type": "stream",
       "stream": "stdout",
       "text": [
        "\n",
        "E:\\Data\\WangKun@Mattijn\\outfolder\\t03//t20110319_11.tif"
       ]
      },
      {
       "output_type": "stream",
       "stream": "stdout",
       "text": [
        "\n",
        "E:\\Data\\WangKun@Mattijn\\outfolder\\t03//t20110320_11.tif"
       ]
      },
      {
       "output_type": "stream",
       "stream": "stdout",
       "text": [
        "\n",
        "E:\\Data\\WangKun@Mattijn\\outfolder\\t03//t20110321_11.tif"
       ]
      },
      {
       "output_type": "stream",
       "stream": "stdout",
       "text": [
        "\n",
        "E:\\Data\\WangKun@Mattijn\\outfolder\\t03//t20110322_11.tif"
       ]
      },
      {
       "output_type": "stream",
       "stream": "stdout",
       "text": [
        "\n",
        "E:\\Data\\WangKun@Mattijn\\outfolder\\t03//t20110323_11.tif"
       ]
      },
      {
       "output_type": "stream",
       "stream": "stdout",
       "text": [
        "\n",
        "E:\\Data\\WangKun@Mattijn\\outfolder\\t03//t20110324_11.tif"
       ]
      },
      {
       "output_type": "stream",
       "stream": "stdout",
       "text": [
        "\n",
        "E:\\Data\\WangKun@Mattijn\\outfolder\\t03//t20110325_11.tif"
       ]
      },
      {
       "output_type": "stream",
       "stream": "stdout",
       "text": [
        "\n",
        "E:\\Data\\WangKun@Mattijn\\outfolder\\t03//t20110326_11.tif"
       ]
      },
      {
       "output_type": "stream",
       "stream": "stdout",
       "text": [
        "\n",
        "E:\\Data\\WangKun@Mattijn\\outfolder\\t03//t20110327_11.tif"
       ]
      },
      {
       "output_type": "stream",
       "stream": "stdout",
       "text": [
        "\n",
        "E:\\Data\\WangKun@Mattijn\\outfolder\\t03//t20110328_11.tif"
       ]
      },
      {
       "output_type": "stream",
       "stream": "stdout",
       "text": [
        "\n",
        "E:\\Data\\WangKun@Mattijn\\outfolder\\t03//t20110329_11.tif"
       ]
      },
      {
       "output_type": "stream",
       "stream": "stdout",
       "text": [
        "\n",
        "E:\\Data\\WangKun@Mattijn\\outfolder\\t03//t20110330_11.tif"
       ]
      },
      {
       "output_type": "stream",
       "stream": "stdout",
       "text": [
        "\n",
        "E:\\Data\\WangKun@Mattijn\\outfolder\\t03//t20110331_11.tif"
       ]
      },
      {
       "output_type": "stream",
       "stream": "stdout",
       "text": [
        "\n",
        "E:\\Data\\WangKun@Mattijn\\outfolder\\t03//t20110301_12.tif"
       ]
      },
      {
       "output_type": "stream",
       "stream": "stdout",
       "text": [
        "\n",
        "E:\\Data\\WangKun@Mattijn\\outfolder\\t03//t20110302_12.tif"
       ]
      },
      {
       "output_type": "stream",
       "stream": "stdout",
       "text": [
        "\n",
        "E:\\Data\\WangKun@Mattijn\\outfolder\\t03//t20110303_12.tif"
       ]
      },
      {
       "output_type": "stream",
       "stream": "stdout",
       "text": [
        "\n",
        "E:\\Data\\WangKun@Mattijn\\outfolder\\t03//t20110304_12.tif"
       ]
      },
      {
       "output_type": "stream",
       "stream": "stdout",
       "text": [
        "\n",
        "E:\\Data\\WangKun@Mattijn\\outfolder\\t03//t20110305_12.tif"
       ]
      },
      {
       "output_type": "stream",
       "stream": "stdout",
       "text": [
        "\n",
        "E:\\Data\\WangKun@Mattijn\\outfolder\\t03//t20110306_12.tif"
       ]
      },
      {
       "output_type": "stream",
       "stream": "stdout",
       "text": [
        "\n",
        "E:\\Data\\WangKun@Mattijn\\outfolder\\t03//t20110307_12.tif"
       ]
      },
      {
       "output_type": "stream",
       "stream": "stdout",
       "text": [
        "\n",
        "E:\\Data\\WangKun@Mattijn\\outfolder\\t03//t20110308_12.tif"
       ]
      },
      {
       "output_type": "stream",
       "stream": "stdout",
       "text": [
        "\n",
        "E:\\Data\\WangKun@Mattijn\\outfolder\\t03//t20110309_12.tif"
       ]
      },
      {
       "output_type": "stream",
       "stream": "stdout",
       "text": [
        "\n",
        "E:\\Data\\WangKun@Mattijn\\outfolder\\t03//t20110310_12.tif"
       ]
      },
      {
       "output_type": "stream",
       "stream": "stdout",
       "text": [
        "\n",
        "E:\\Data\\WangKun@Mattijn\\outfolder\\t03//t20110311_12.tif"
       ]
      },
      {
       "output_type": "stream",
       "stream": "stdout",
       "text": [
        "\n",
        "E:\\Data\\WangKun@Mattijn\\outfolder\\t03//t20110312_12.tif"
       ]
      },
      {
       "output_type": "stream",
       "stream": "stdout",
       "text": [
        "\n",
        "E:\\Data\\WangKun@Mattijn\\outfolder\\t03//t20110313_12.tif"
       ]
      },
      {
       "output_type": "stream",
       "stream": "stdout",
       "text": [
        "\n",
        "E:\\Data\\WangKun@Mattijn\\outfolder\\t03//t20110314_12.tif"
       ]
      },
      {
       "output_type": "stream",
       "stream": "stdout",
       "text": [
        "\n",
        "E:\\Data\\WangKun@Mattijn\\outfolder\\t03//t20110315_12.tif"
       ]
      },
      {
       "output_type": "stream",
       "stream": "stdout",
       "text": [
        "\n",
        "E:\\Data\\WangKun@Mattijn\\outfolder\\t03//t20110316_12.tif"
       ]
      },
      {
       "output_type": "stream",
       "stream": "stdout",
       "text": [
        "\n",
        "E:\\Data\\WangKun@Mattijn\\outfolder\\t03//t20110317_12.tif"
       ]
      },
      {
       "output_type": "stream",
       "stream": "stdout",
       "text": [
        "\n",
        "E:\\Data\\WangKun@Mattijn\\outfolder\\t03//t20110318_12.tif"
       ]
      },
      {
       "output_type": "stream",
       "stream": "stdout",
       "text": [
        "\n",
        "E:\\Data\\WangKun@Mattijn\\outfolder\\t03//t20110319_12.tif"
       ]
      },
      {
       "output_type": "stream",
       "stream": "stdout",
       "text": [
        "\n",
        "E:\\Data\\WangKun@Mattijn\\outfolder\\t03//t20110320_12.tif"
       ]
      },
      {
       "output_type": "stream",
       "stream": "stdout",
       "text": [
        "\n",
        "E:\\Data\\WangKun@Mattijn\\outfolder\\t03//t20110321_12.tif"
       ]
      },
      {
       "output_type": "stream",
       "stream": "stdout",
       "text": [
        "\n",
        "E:\\Data\\WangKun@Mattijn\\outfolder\\t03//t20110322_12.tif"
       ]
      },
      {
       "output_type": "stream",
       "stream": "stdout",
       "text": [
        "\n",
        "E:\\Data\\WangKun@Mattijn\\outfolder\\t03//t20110323_12.tif"
       ]
      },
      {
       "output_type": "stream",
       "stream": "stdout",
       "text": [
        "\n",
        "E:\\Data\\WangKun@Mattijn\\outfolder\\t03//t20110324_12.tif"
       ]
      },
      {
       "output_type": "stream",
       "stream": "stdout",
       "text": [
        "\n",
        "E:\\Data\\WangKun@Mattijn\\outfolder\\t03//t20110325_12.tif"
       ]
      },
      {
       "output_type": "stream",
       "stream": "stdout",
       "text": [
        "\n",
        "E:\\Data\\WangKun@Mattijn\\outfolder\\t03//t20110326_12.tif"
       ]
      },
      {
       "output_type": "stream",
       "stream": "stdout",
       "text": [
        "\n",
        "E:\\Data\\WangKun@Mattijn\\outfolder\\t03//t20110327_12.tif"
       ]
      },
      {
       "output_type": "stream",
       "stream": "stdout",
       "text": [
        "\n",
        "E:\\Data\\WangKun@Mattijn\\outfolder\\t03//t20110328_12.tif"
       ]
      },
      {
       "output_type": "stream",
       "stream": "stdout",
       "text": [
        "\n",
        "E:\\Data\\WangKun@Mattijn\\outfolder\\t03//t20110329_12.tif"
       ]
      },
      {
       "output_type": "stream",
       "stream": "stdout",
       "text": [
        "\n",
        "E:\\Data\\WangKun@Mattijn\\outfolder\\t03//t20110330_12.tif"
       ]
      },
      {
       "output_type": "stream",
       "stream": "stdout",
       "text": [
        "\n",
        "E:\\Data\\WangKun@Mattijn\\outfolder\\t03//t20110331_12.tif"
       ]
      },
      {
       "output_type": "stream",
       "stream": "stdout",
       "text": [
        "\n",
        "E:\\Data\\WangKun@Mattijn\\outfolder\\t03//t20110301_13.tif"
       ]
      },
      {
       "output_type": "stream",
       "stream": "stdout",
       "text": [
        "\n",
        "E:\\Data\\WangKun@Mattijn\\outfolder\\t03//t20110302_13.tif"
       ]
      },
      {
       "output_type": "stream",
       "stream": "stdout",
       "text": [
        "\n",
        "E:\\Data\\WangKun@Mattijn\\outfolder\\t03//t20110303_13.tif"
       ]
      },
      {
       "output_type": "stream",
       "stream": "stdout",
       "text": [
        "\n",
        "E:\\Data\\WangKun@Mattijn\\outfolder\\t03//t20110304_13.tif"
       ]
      },
      {
       "output_type": "stream",
       "stream": "stdout",
       "text": [
        "\n",
        "E:\\Data\\WangKun@Mattijn\\outfolder\\t03//t20110305_13.tif"
       ]
      },
      {
       "output_type": "stream",
       "stream": "stdout",
       "text": [
        "\n",
        "E:\\Data\\WangKun@Mattijn\\outfolder\\t03//t20110306_13.tif"
       ]
      },
      {
       "output_type": "stream",
       "stream": "stdout",
       "text": [
        "\n",
        "E:\\Data\\WangKun@Mattijn\\outfolder\\t03//t20110307_13.tif"
       ]
      },
      {
       "output_type": "stream",
       "stream": "stdout",
       "text": [
        "\n",
        "E:\\Data\\WangKun@Mattijn\\outfolder\\t03//t20110308_13.tif"
       ]
      },
      {
       "output_type": "stream",
       "stream": "stdout",
       "text": [
        "\n",
        "E:\\Data\\WangKun@Mattijn\\outfolder\\t03//t20110309_13.tif"
       ]
      },
      {
       "output_type": "stream",
       "stream": "stdout",
       "text": [
        "\n",
        "E:\\Data\\WangKun@Mattijn\\outfolder\\t03//t20110310_13.tif"
       ]
      },
      {
       "output_type": "stream",
       "stream": "stdout",
       "text": [
        "\n",
        "E:\\Data\\WangKun@Mattijn\\outfolder\\t03//t20110311_13.tif"
       ]
      },
      {
       "output_type": "stream",
       "stream": "stdout",
       "text": [
        "\n",
        "E:\\Data\\WangKun@Mattijn\\outfolder\\t03//t20110312_13.tif"
       ]
      },
      {
       "output_type": "stream",
       "stream": "stdout",
       "text": [
        "\n",
        "E:\\Data\\WangKun@Mattijn\\outfolder\\t03//t20110313_13.tif"
       ]
      },
      {
       "output_type": "stream",
       "stream": "stdout",
       "text": [
        "\n",
        "E:\\Data\\WangKun@Mattijn\\outfolder\\t03//t20110314_13.tif"
       ]
      },
      {
       "output_type": "stream",
       "stream": "stdout",
       "text": [
        "\n",
        "E:\\Data\\WangKun@Mattijn\\outfolder\\t03//t20110315_13.tif"
       ]
      },
      {
       "output_type": "stream",
       "stream": "stdout",
       "text": [
        "\n",
        "E:\\Data\\WangKun@Mattijn\\outfolder\\t03//t20110316_13.tif"
       ]
      },
      {
       "output_type": "stream",
       "stream": "stdout",
       "text": [
        "\n",
        "E:\\Data\\WangKun@Mattijn\\outfolder\\t03//t20110317_13.tif"
       ]
      },
      {
       "output_type": "stream",
       "stream": "stdout",
       "text": [
        "\n",
        "E:\\Data\\WangKun@Mattijn\\outfolder\\t03//t20110318_13.tif"
       ]
      },
      {
       "output_type": "stream",
       "stream": "stdout",
       "text": [
        "\n",
        "E:\\Data\\WangKun@Mattijn\\outfolder\\t03//t20110319_13.tif"
       ]
      },
      {
       "output_type": "stream",
       "stream": "stdout",
       "text": [
        "\n",
        "E:\\Data\\WangKun@Mattijn\\outfolder\\t03//t20110320_13.tif"
       ]
      },
      {
       "output_type": "stream",
       "stream": "stdout",
       "text": [
        "\n",
        "E:\\Data\\WangKun@Mattijn\\outfolder\\t03//t20110321_13.tif"
       ]
      },
      {
       "output_type": "stream",
       "stream": "stdout",
       "text": [
        "\n",
        "E:\\Data\\WangKun@Mattijn\\outfolder\\t03//t20110322_13.tif"
       ]
      },
      {
       "output_type": "stream",
       "stream": "stdout",
       "text": [
        "\n",
        "E:\\Data\\WangKun@Mattijn\\outfolder\\t03//t20110323_13.tif"
       ]
      },
      {
       "output_type": "stream",
       "stream": "stdout",
       "text": [
        "\n",
        "E:\\Data\\WangKun@Mattijn\\outfolder\\t03//t20110324_13.tif"
       ]
      },
      {
       "output_type": "stream",
       "stream": "stdout",
       "text": [
        "\n",
        "E:\\Data\\WangKun@Mattijn\\outfolder\\t03//t20110325_13.tif"
       ]
      },
      {
       "output_type": "stream",
       "stream": "stdout",
       "text": [
        "\n",
        "E:\\Data\\WangKun@Mattijn\\outfolder\\t03//t20110326_13.tif"
       ]
      },
      {
       "output_type": "stream",
       "stream": "stdout",
       "text": [
        "\n",
        "E:\\Data\\WangKun@Mattijn\\outfolder\\t03//t20110327_13.tif"
       ]
      },
      {
       "output_type": "stream",
       "stream": "stdout",
       "text": [
        "\n",
        "E:\\Data\\WangKun@Mattijn\\outfolder\\t03//t20110328_13.tif"
       ]
      },
      {
       "output_type": "stream",
       "stream": "stdout",
       "text": [
        "\n",
        "E:\\Data\\WangKun@Mattijn\\outfolder\\t03//t20110329_13.tif"
       ]
      },
      {
       "output_type": "stream",
       "stream": "stdout",
       "text": [
        "\n",
        "E:\\Data\\WangKun@Mattijn\\outfolder\\t03//t20110330_13.tif"
       ]
      },
      {
       "output_type": "stream",
       "stream": "stdout",
       "text": [
        "\n",
        "E:\\Data\\WangKun@Mattijn\\outfolder\\t03//t20110331_13.tif"
       ]
      },
      {
       "output_type": "stream",
       "stream": "stdout",
       "text": [
        "\n",
        "E:\\Data\\WangKun@Mattijn\\outfolder\\t03//t20110301_14.tif"
       ]
      },
      {
       "output_type": "stream",
       "stream": "stdout",
       "text": [
        "\n",
        "E:\\Data\\WangKun@Mattijn\\outfolder\\t03//t20110302_14.tif"
       ]
      },
      {
       "output_type": "stream",
       "stream": "stdout",
       "text": [
        "\n",
        "E:\\Data\\WangKun@Mattijn\\outfolder\\t03//t20110303_14.tif"
       ]
      },
      {
       "output_type": "stream",
       "stream": "stdout",
       "text": [
        "\n",
        "E:\\Data\\WangKun@Mattijn\\outfolder\\t03//t20110304_14.tif"
       ]
      },
      {
       "output_type": "stream",
       "stream": "stdout",
       "text": [
        "\n",
        "E:\\Data\\WangKun@Mattijn\\outfolder\\t03//t20110305_14.tif"
       ]
      },
      {
       "output_type": "stream",
       "stream": "stdout",
       "text": [
        "\n",
        "E:\\Data\\WangKun@Mattijn\\outfolder\\t03//t20110306_14.tif"
       ]
      },
      {
       "output_type": "stream",
       "stream": "stdout",
       "text": [
        "\n",
        "E:\\Data\\WangKun@Mattijn\\outfolder\\t03//t20110307_14.tif"
       ]
      },
      {
       "output_type": "stream",
       "stream": "stdout",
       "text": [
        "\n",
        "E:\\Data\\WangKun@Mattijn\\outfolder\\t03//t20110308_14.tif"
       ]
      },
      {
       "output_type": "stream",
       "stream": "stdout",
       "text": [
        "\n",
        "E:\\Data\\WangKun@Mattijn\\outfolder\\t03//t20110309_14.tif"
       ]
      },
      {
       "output_type": "stream",
       "stream": "stdout",
       "text": [
        "\n",
        "E:\\Data\\WangKun@Mattijn\\outfolder\\t03//t20110310_14.tif"
       ]
      },
      {
       "output_type": "stream",
       "stream": "stdout",
       "text": [
        "\n",
        "E:\\Data\\WangKun@Mattijn\\outfolder\\t03//t20110311_14.tif"
       ]
      },
      {
       "output_type": "stream",
       "stream": "stdout",
       "text": [
        "\n",
        "E:\\Data\\WangKun@Mattijn\\outfolder\\t03//t20110312_14.tif"
       ]
      },
      {
       "output_type": "stream",
       "stream": "stdout",
       "text": [
        "\n",
        "E:\\Data\\WangKun@Mattijn\\outfolder\\t03//t20110313_14.tif"
       ]
      },
      {
       "output_type": "stream",
       "stream": "stdout",
       "text": [
        "\n",
        "E:\\Data\\WangKun@Mattijn\\outfolder\\t03//t20110314_14.tif"
       ]
      },
      {
       "output_type": "stream",
       "stream": "stdout",
       "text": [
        "\n",
        "E:\\Data\\WangKun@Mattijn\\outfolder\\t03//t20110315_14.tif"
       ]
      },
      {
       "output_type": "stream",
       "stream": "stdout",
       "text": [
        "\n",
        "E:\\Data\\WangKun@Mattijn\\outfolder\\t03//t20110316_14.tif"
       ]
      },
      {
       "output_type": "stream",
       "stream": "stdout",
       "text": [
        "\n",
        "E:\\Data\\WangKun@Mattijn\\outfolder\\t03//t20110317_14.tif"
       ]
      },
      {
       "output_type": "stream",
       "stream": "stdout",
       "text": [
        "\n",
        "E:\\Data\\WangKun@Mattijn\\outfolder\\t03//t20110318_14.tif"
       ]
      },
      {
       "output_type": "stream",
       "stream": "stdout",
       "text": [
        "\n",
        "E:\\Data\\WangKun@Mattijn\\outfolder\\t03//t20110319_14.tif"
       ]
      },
      {
       "output_type": "stream",
       "stream": "stdout",
       "text": [
        "\n",
        "E:\\Data\\WangKun@Mattijn\\outfolder\\t03//t20110320_14.tif"
       ]
      },
      {
       "output_type": "stream",
       "stream": "stdout",
       "text": [
        "\n",
        "E:\\Data\\WangKun@Mattijn\\outfolder\\t03//t20110321_14.tif"
       ]
      },
      {
       "output_type": "stream",
       "stream": "stdout",
       "text": [
        "\n",
        "E:\\Data\\WangKun@Mattijn\\outfolder\\t03//t20110322_14.tif"
       ]
      },
      {
       "output_type": "stream",
       "stream": "stdout",
       "text": [
        "\n",
        "E:\\Data\\WangKun@Mattijn\\outfolder\\t03//t20110323_14.tif"
       ]
      },
      {
       "output_type": "stream",
       "stream": "stdout",
       "text": [
        "\n",
        "E:\\Data\\WangKun@Mattijn\\outfolder\\t03//t20110324_14.tif"
       ]
      },
      {
       "output_type": "stream",
       "stream": "stdout",
       "text": [
        "\n",
        "E:\\Data\\WangKun@Mattijn\\outfolder\\t03//t20110325_14.tif"
       ]
      },
      {
       "output_type": "stream",
       "stream": "stdout",
       "text": [
        "\n",
        "E:\\Data\\WangKun@Mattijn\\outfolder\\t03//t20110326_14.tif"
       ]
      },
      {
       "output_type": "stream",
       "stream": "stdout",
       "text": [
        "\n",
        "E:\\Data\\WangKun@Mattijn\\outfolder\\t03//t20110327_14.tif"
       ]
      },
      {
       "output_type": "stream",
       "stream": "stdout",
       "text": [
        "\n",
        "E:\\Data\\WangKun@Mattijn\\outfolder\\t03//t20110328_14.tif"
       ]
      },
      {
       "output_type": "stream",
       "stream": "stdout",
       "text": [
        "\n",
        "E:\\Data\\WangKun@Mattijn\\outfolder\\t03//t20110329_14.tif"
       ]
      },
      {
       "output_type": "stream",
       "stream": "stdout",
       "text": [
        "\n",
        "E:\\Data\\WangKun@Mattijn\\outfolder\\t03//t20110330_14.tif"
       ]
      },
      {
       "output_type": "stream",
       "stream": "stdout",
       "text": [
        "\n",
        "E:\\Data\\WangKun@Mattijn\\outfolder\\t03//t20110331_14.tif"
       ]
      },
      {
       "output_type": "stream",
       "stream": "stdout",
       "text": [
        "\n",
        "E:\\Data\\WangKun@Mattijn\\outfolder\\t03//t20110301_15.tif"
       ]
      },
      {
       "output_type": "stream",
       "stream": "stdout",
       "text": [
        "\n",
        "E:\\Data\\WangKun@Mattijn\\outfolder\\t03//t20110302_15.tif"
       ]
      },
      {
       "output_type": "stream",
       "stream": "stdout",
       "text": [
        "\n",
        "E:\\Data\\WangKun@Mattijn\\outfolder\\t03//t20110303_15.tif"
       ]
      },
      {
       "output_type": "stream",
       "stream": "stdout",
       "text": [
        "\n",
        "E:\\Data\\WangKun@Mattijn\\outfolder\\t03//t20110304_15.tif"
       ]
      },
      {
       "output_type": "stream",
       "stream": "stdout",
       "text": [
        "\n",
        "E:\\Data\\WangKun@Mattijn\\outfolder\\t03//t20110305_15.tif"
       ]
      },
      {
       "output_type": "stream",
       "stream": "stdout",
       "text": [
        "\n",
        "E:\\Data\\WangKun@Mattijn\\outfolder\\t03//t20110306_15.tif"
       ]
      },
      {
       "output_type": "stream",
       "stream": "stdout",
       "text": [
        "\n",
        "E:\\Data\\WangKun@Mattijn\\outfolder\\t03//t20110307_15.tif"
       ]
      },
      {
       "output_type": "stream",
       "stream": "stdout",
       "text": [
        "\n",
        "E:\\Data\\WangKun@Mattijn\\outfolder\\t03//t20110308_15.tif"
       ]
      },
      {
       "output_type": "stream",
       "stream": "stdout",
       "text": [
        "\n",
        "E:\\Data\\WangKun@Mattijn\\outfolder\\t03//t20110309_15.tif"
       ]
      },
      {
       "output_type": "stream",
       "stream": "stdout",
       "text": [
        "\n",
        "E:\\Data\\WangKun@Mattijn\\outfolder\\t03//t20110310_15.tif"
       ]
      },
      {
       "output_type": "stream",
       "stream": "stdout",
       "text": [
        "\n",
        "E:\\Data\\WangKun@Mattijn\\outfolder\\t03//t20110311_15.tif"
       ]
      },
      {
       "output_type": "stream",
       "stream": "stdout",
       "text": [
        "\n",
        "E:\\Data\\WangKun@Mattijn\\outfolder\\t03//t20110312_15.tif"
       ]
      },
      {
       "output_type": "stream",
       "stream": "stdout",
       "text": [
        "\n",
        "E:\\Data\\WangKun@Mattijn\\outfolder\\t03//t20110313_15.tif"
       ]
      },
      {
       "output_type": "stream",
       "stream": "stdout",
       "text": [
        "\n",
        "E:\\Data\\WangKun@Mattijn\\outfolder\\t03//t20110314_15.tif"
       ]
      },
      {
       "output_type": "stream",
       "stream": "stdout",
       "text": [
        "\n",
        "E:\\Data\\WangKun@Mattijn\\outfolder\\t03//t20110315_15.tif"
       ]
      },
      {
       "output_type": "stream",
       "stream": "stdout",
       "text": [
        "\n",
        "E:\\Data\\WangKun@Mattijn\\outfolder\\t03//t20110316_15.tif"
       ]
      },
      {
       "output_type": "stream",
       "stream": "stdout",
       "text": [
        "\n",
        "E:\\Data\\WangKun@Mattijn\\outfolder\\t03//t20110317_15.tif"
       ]
      },
      {
       "output_type": "stream",
       "stream": "stdout",
       "text": [
        "\n",
        "E:\\Data\\WangKun@Mattijn\\outfolder\\t03//t20110318_15.tif"
       ]
      },
      {
       "output_type": "stream",
       "stream": "stdout",
       "text": [
        "\n",
        "E:\\Data\\WangKun@Mattijn\\outfolder\\t03//t20110319_15.tif"
       ]
      },
      {
       "output_type": "stream",
       "stream": "stdout",
       "text": [
        "\n",
        "E:\\Data\\WangKun@Mattijn\\outfolder\\t03//t20110320_15.tif"
       ]
      },
      {
       "output_type": "stream",
       "stream": "stdout",
       "text": [
        "\n",
        "E:\\Data\\WangKun@Mattijn\\outfolder\\t03//t20110321_15.tif"
       ]
      },
      {
       "output_type": "stream",
       "stream": "stdout",
       "text": [
        "\n",
        "E:\\Data\\WangKun@Mattijn\\outfolder\\t03//t20110322_15.tif"
       ]
      },
      {
       "output_type": "stream",
       "stream": "stdout",
       "text": [
        "\n",
        "E:\\Data\\WangKun@Mattijn\\outfolder\\t03//t20110323_15.tif"
       ]
      },
      {
       "output_type": "stream",
       "stream": "stdout",
       "text": [
        "\n",
        "E:\\Data\\WangKun@Mattijn\\outfolder\\t03//t20110324_15.tif"
       ]
      },
      {
       "output_type": "stream",
       "stream": "stdout",
       "text": [
        "\n",
        "E:\\Data\\WangKun@Mattijn\\outfolder\\t03//t20110325_15.tif"
       ]
      },
      {
       "output_type": "stream",
       "stream": "stdout",
       "text": [
        "\n",
        "E:\\Data\\WangKun@Mattijn\\outfolder\\t03//t20110326_15.tif"
       ]
      },
      {
       "output_type": "stream",
       "stream": "stdout",
       "text": [
        "\n",
        "E:\\Data\\WangKun@Mattijn\\outfolder\\t03//t20110327_15.tif"
       ]
      },
      {
       "output_type": "stream",
       "stream": "stdout",
       "text": [
        "\n",
        "E:\\Data\\WangKun@Mattijn\\outfolder\\t03//t20110328_15.tif"
       ]
      },
      {
       "output_type": "stream",
       "stream": "stdout",
       "text": [
        "\n",
        "E:\\Data\\WangKun@Mattijn\\outfolder\\t03//t20110329_15.tif"
       ]
      },
      {
       "output_type": "stream",
       "stream": "stdout",
       "text": [
        "\n",
        "E:\\Data\\WangKun@Mattijn\\outfolder\\t03//t20110330_15.tif"
       ]
      },
      {
       "output_type": "stream",
       "stream": "stdout",
       "text": [
        "\n",
        "E:\\Data\\WangKun@Mattijn\\outfolder\\t03//t20110331_15.tif"
       ]
      },
      {
       "output_type": "stream",
       "stream": "stdout",
       "text": [
        "\n",
        "E:\\Data\\WangKun@Mattijn\\outfolder\\t03//t20110301_16.tif"
       ]
      },
      {
       "output_type": "stream",
       "stream": "stdout",
       "text": [
        "\n",
        "E:\\Data\\WangKun@Mattijn\\outfolder\\t03//t20110302_16.tif"
       ]
      },
      {
       "output_type": "stream",
       "stream": "stdout",
       "text": [
        "\n",
        "E:\\Data\\WangKun@Mattijn\\outfolder\\t03//t20110303_16.tif"
       ]
      },
      {
       "output_type": "stream",
       "stream": "stdout",
       "text": [
        "\n",
        "E:\\Data\\WangKun@Mattijn\\outfolder\\t03//t20110304_16.tif"
       ]
      },
      {
       "output_type": "stream",
       "stream": "stdout",
       "text": [
        "\n",
        "E:\\Data\\WangKun@Mattijn\\outfolder\\t03//t20110305_16.tif"
       ]
      },
      {
       "output_type": "stream",
       "stream": "stdout",
       "text": [
        "\n",
        "E:\\Data\\WangKun@Mattijn\\outfolder\\t03//t20110306_16.tif"
       ]
      },
      {
       "output_type": "stream",
       "stream": "stdout",
       "text": [
        "\n",
        "E:\\Data\\WangKun@Mattijn\\outfolder\\t03//t20110307_16.tif"
       ]
      },
      {
       "output_type": "stream",
       "stream": "stdout",
       "text": [
        "\n",
        "E:\\Data\\WangKun@Mattijn\\outfolder\\t03//t20110308_16.tif"
       ]
      },
      {
       "output_type": "stream",
       "stream": "stdout",
       "text": [
        "\n",
        "E:\\Data\\WangKun@Mattijn\\outfolder\\t03//t20110309_16.tif"
       ]
      },
      {
       "output_type": "stream",
       "stream": "stdout",
       "text": [
        "\n",
        "E:\\Data\\WangKun@Mattijn\\outfolder\\t03//t20110310_16.tif"
       ]
      },
      {
       "output_type": "stream",
       "stream": "stdout",
       "text": [
        "\n",
        "E:\\Data\\WangKun@Mattijn\\outfolder\\t03//t20110311_16.tif"
       ]
      },
      {
       "output_type": "stream",
       "stream": "stdout",
       "text": [
        "\n",
        "E:\\Data\\WangKun@Mattijn\\outfolder\\t03//t20110312_16.tif"
       ]
      },
      {
       "output_type": "stream",
       "stream": "stdout",
       "text": [
        "\n",
        "E:\\Data\\WangKun@Mattijn\\outfolder\\t03//t20110313_16.tif"
       ]
      },
      {
       "output_type": "stream",
       "stream": "stdout",
       "text": [
        "\n",
        "E:\\Data\\WangKun@Mattijn\\outfolder\\t03//t20110314_16.tif"
       ]
      },
      {
       "output_type": "stream",
       "stream": "stdout",
       "text": [
        "\n",
        "E:\\Data\\WangKun@Mattijn\\outfolder\\t03//t20110315_16.tif"
       ]
      },
      {
       "output_type": "stream",
       "stream": "stdout",
       "text": [
        "\n",
        "E:\\Data\\WangKun@Mattijn\\outfolder\\t03//t20110316_16.tif"
       ]
      },
      {
       "output_type": "stream",
       "stream": "stdout",
       "text": [
        "\n",
        "E:\\Data\\WangKun@Mattijn\\outfolder\\t03//t20110317_16.tif"
       ]
      },
      {
       "output_type": "stream",
       "stream": "stdout",
       "text": [
        "\n",
        "E:\\Data\\WangKun@Mattijn\\outfolder\\t03//t20110318_16.tif"
       ]
      },
      {
       "output_type": "stream",
       "stream": "stdout",
       "text": [
        "\n",
        "E:\\Data\\WangKun@Mattijn\\outfolder\\t03//t20110319_16.tif"
       ]
      },
      {
       "output_type": "stream",
       "stream": "stdout",
       "text": [
        "\n",
        "E:\\Data\\WangKun@Mattijn\\outfolder\\t03//t20110320_16.tif"
       ]
      },
      {
       "output_type": "stream",
       "stream": "stdout",
       "text": [
        "\n",
        "E:\\Data\\WangKun@Mattijn\\outfolder\\t03//t20110321_16.tif"
       ]
      },
      {
       "output_type": "stream",
       "stream": "stdout",
       "text": [
        "\n",
        "E:\\Data\\WangKun@Mattijn\\outfolder\\t03//t20110322_16.tif"
       ]
      },
      {
       "output_type": "stream",
       "stream": "stdout",
       "text": [
        "\n",
        "E:\\Data\\WangKun@Mattijn\\outfolder\\t03//t20110323_16.tif"
       ]
      },
      {
       "output_type": "stream",
       "stream": "stdout",
       "text": [
        "\n",
        "E:\\Data\\WangKun@Mattijn\\outfolder\\t03//t20110324_16.tif"
       ]
      },
      {
       "output_type": "stream",
       "stream": "stdout",
       "text": [
        "\n",
        "E:\\Data\\WangKun@Mattijn\\outfolder\\t03//t20110325_16.tif"
       ]
      },
      {
       "output_type": "stream",
       "stream": "stdout",
       "text": [
        "\n",
        "E:\\Data\\WangKun@Mattijn\\outfolder\\t03//t20110326_16.tif"
       ]
      },
      {
       "output_type": "stream",
       "stream": "stdout",
       "text": [
        "\n",
        "E:\\Data\\WangKun@Mattijn\\outfolder\\t03//t20110327_16.tif"
       ]
      },
      {
       "output_type": "stream",
       "stream": "stdout",
       "text": [
        "\n",
        "E:\\Data\\WangKun@Mattijn\\outfolder\\t03//t20110328_16.tif"
       ]
      },
      {
       "output_type": "stream",
       "stream": "stdout",
       "text": [
        "\n",
        "E:\\Data\\WangKun@Mattijn\\outfolder\\t03//t20110329_16.tif"
       ]
      },
      {
       "output_type": "stream",
       "stream": "stdout",
       "text": [
        "\n",
        "E:\\Data\\WangKun@Mattijn\\outfolder\\t03//t20110330_16.tif"
       ]
      },
      {
       "output_type": "stream",
       "stream": "stdout",
       "text": [
        "\n",
        "E:\\Data\\WangKun@Mattijn\\outfolder\\t03//t20110331_16.tif"
       ]
      },
      {
       "output_type": "stream",
       "stream": "stdout",
       "text": [
        "\n",
        "E:\\Data\\WangKun@Mattijn\\outfolder\\t03//t20110301_17.tif"
       ]
      },
      {
       "output_type": "stream",
       "stream": "stdout",
       "text": [
        "\n",
        "E:\\Data\\WangKun@Mattijn\\outfolder\\t03//t20110302_17.tif"
       ]
      },
      {
       "output_type": "stream",
       "stream": "stdout",
       "text": [
        "\n",
        "E:\\Data\\WangKun@Mattijn\\outfolder\\t03//t20110303_17.tif"
       ]
      },
      {
       "output_type": "stream",
       "stream": "stdout",
       "text": [
        "\n",
        "E:\\Data\\WangKun@Mattijn\\outfolder\\t03//t20110304_17.tif"
       ]
      },
      {
       "output_type": "stream",
       "stream": "stdout",
       "text": [
        "\n",
        "E:\\Data\\WangKun@Mattijn\\outfolder\\t03//t20110305_17.tif"
       ]
      },
      {
       "output_type": "stream",
       "stream": "stdout",
       "text": [
        "\n",
        "E:\\Data\\WangKun@Mattijn\\outfolder\\t03//t20110306_17.tif"
       ]
      },
      {
       "output_type": "stream",
       "stream": "stdout",
       "text": [
        "\n",
        "E:\\Data\\WangKun@Mattijn\\outfolder\\t03//t20110307_17.tif"
       ]
      },
      {
       "output_type": "stream",
       "stream": "stdout",
       "text": [
        "\n",
        "E:\\Data\\WangKun@Mattijn\\outfolder\\t03//t20110308_17.tif"
       ]
      },
      {
       "output_type": "stream",
       "stream": "stdout",
       "text": [
        "\n",
        "E:\\Data\\WangKun@Mattijn\\outfolder\\t03//t20110309_17.tif"
       ]
      },
      {
       "output_type": "stream",
       "stream": "stdout",
       "text": [
        "\n",
        "E:\\Data\\WangKun@Mattijn\\outfolder\\t03//t20110310_17.tif"
       ]
      },
      {
       "output_type": "stream",
       "stream": "stdout",
       "text": [
        "\n",
        "E:\\Data\\WangKun@Mattijn\\outfolder\\t03//t20110311_17.tif"
       ]
      },
      {
       "output_type": "stream",
       "stream": "stdout",
       "text": [
        "\n",
        "E:\\Data\\WangKun@Mattijn\\outfolder\\t03//t20110312_17.tif"
       ]
      },
      {
       "output_type": "stream",
       "stream": "stdout",
       "text": [
        "\n",
        "E:\\Data\\WangKun@Mattijn\\outfolder\\t03//t20110313_17.tif"
       ]
      },
      {
       "output_type": "stream",
       "stream": "stdout",
       "text": [
        "\n",
        "E:\\Data\\WangKun@Mattijn\\outfolder\\t03//t20110314_17.tif"
       ]
      },
      {
       "output_type": "stream",
       "stream": "stdout",
       "text": [
        "\n",
        "E:\\Data\\WangKun@Mattijn\\outfolder\\t03//t20110315_17.tif"
       ]
      },
      {
       "output_type": "stream",
       "stream": "stdout",
       "text": [
        "\n",
        "E:\\Data\\WangKun@Mattijn\\outfolder\\t03//t20110316_17.tif"
       ]
      },
      {
       "output_type": "stream",
       "stream": "stdout",
       "text": [
        "\n",
        "E:\\Data\\WangKun@Mattijn\\outfolder\\t03//t20110317_17.tif"
       ]
      },
      {
       "output_type": "stream",
       "stream": "stdout",
       "text": [
        "\n",
        "E:\\Data\\WangKun@Mattijn\\outfolder\\t03//t20110318_17.tif"
       ]
      },
      {
       "output_type": "stream",
       "stream": "stdout",
       "text": [
        "\n",
        "E:\\Data\\WangKun@Mattijn\\outfolder\\t03//t20110319_17.tif"
       ]
      },
      {
       "output_type": "stream",
       "stream": "stdout",
       "text": [
        "\n",
        "E:\\Data\\WangKun@Mattijn\\outfolder\\t03//t20110320_17.tif"
       ]
      },
      {
       "output_type": "stream",
       "stream": "stdout",
       "text": [
        "\n",
        "E:\\Data\\WangKun@Mattijn\\outfolder\\t03//t20110321_17.tif"
       ]
      },
      {
       "output_type": "stream",
       "stream": "stdout",
       "text": [
        "\n",
        "E:\\Data\\WangKun@Mattijn\\outfolder\\t03//t20110322_17.tif"
       ]
      },
      {
       "output_type": "stream",
       "stream": "stdout",
       "text": [
        "\n",
        "E:\\Data\\WangKun@Mattijn\\outfolder\\t03//t20110323_17.tif"
       ]
      },
      {
       "output_type": "stream",
       "stream": "stdout",
       "text": [
        "\n",
        "E:\\Data\\WangKun@Mattijn\\outfolder\\t03//t20110324_17.tif"
       ]
      },
      {
       "output_type": "stream",
       "stream": "stdout",
       "text": [
        "\n",
        "E:\\Data\\WangKun@Mattijn\\outfolder\\t03//t20110325_17.tif"
       ]
      },
      {
       "output_type": "stream",
       "stream": "stdout",
       "text": [
        "\n",
        "E:\\Data\\WangKun@Mattijn\\outfolder\\t03//t20110326_17.tif"
       ]
      },
      {
       "output_type": "stream",
       "stream": "stdout",
       "text": [
        "\n",
        "E:\\Data\\WangKun@Mattijn\\outfolder\\t03//t20110327_17.tif"
       ]
      },
      {
       "output_type": "stream",
       "stream": "stdout",
       "text": [
        "\n",
        "E:\\Data\\WangKun@Mattijn\\outfolder\\t03//t20110328_17.tif"
       ]
      },
      {
       "output_type": "stream",
       "stream": "stdout",
       "text": [
        "\n",
        "E:\\Data\\WangKun@Mattijn\\outfolder\\t03//t20110329_17.tif"
       ]
      },
      {
       "output_type": "stream",
       "stream": "stdout",
       "text": [
        "\n",
        "E:\\Data\\WangKun@Mattijn\\outfolder\\t03//t20110330_17.tif"
       ]
      },
      {
       "output_type": "stream",
       "stream": "stdout",
       "text": [
        "\n",
        "E:\\Data\\WangKun@Mattijn\\outfolder\\t03//t20110331_17.tif"
       ]
      },
      {
       "output_type": "stream",
       "stream": "stdout",
       "text": [
        "\n",
        "E:\\Data\\WangKun@Mattijn\\outfolder\\t03//t20110301_18.tif"
       ]
      },
      {
       "output_type": "stream",
       "stream": "stdout",
       "text": [
        "\n",
        "E:\\Data\\WangKun@Mattijn\\outfolder\\t03//t20110302_18.tif"
       ]
      },
      {
       "output_type": "stream",
       "stream": "stdout",
       "text": [
        "\n",
        "E:\\Data\\WangKun@Mattijn\\outfolder\\t03//t20110303_18.tif"
       ]
      },
      {
       "output_type": "stream",
       "stream": "stdout",
       "text": [
        "\n",
        "E:\\Data\\WangKun@Mattijn\\outfolder\\t03//t20110304_18.tif"
       ]
      },
      {
       "output_type": "stream",
       "stream": "stdout",
       "text": [
        "\n",
        "E:\\Data\\WangKun@Mattijn\\outfolder\\t03//t20110305_18.tif"
       ]
      },
      {
       "output_type": "stream",
       "stream": "stdout",
       "text": [
        "\n",
        "E:\\Data\\WangKun@Mattijn\\outfolder\\t03//t20110306_18.tif"
       ]
      },
      {
       "output_type": "stream",
       "stream": "stdout",
       "text": [
        "\n",
        "E:\\Data\\WangKun@Mattijn\\outfolder\\t03//t20110307_18.tif"
       ]
      },
      {
       "output_type": "stream",
       "stream": "stdout",
       "text": [
        "\n",
        "E:\\Data\\WangKun@Mattijn\\outfolder\\t03//t20110308_18.tif"
       ]
      },
      {
       "output_type": "stream",
       "stream": "stdout",
       "text": [
        "\n",
        "E:\\Data\\WangKun@Mattijn\\outfolder\\t03//t20110309_18.tif"
       ]
      },
      {
       "output_type": "stream",
       "stream": "stdout",
       "text": [
        "\n",
        "E:\\Data\\WangKun@Mattijn\\outfolder\\t03//t20110310_18.tif"
       ]
      },
      {
       "output_type": "stream",
       "stream": "stdout",
       "text": [
        "\n",
        "E:\\Data\\WangKun@Mattijn\\outfolder\\t03//t20110311_18.tif"
       ]
      },
      {
       "output_type": "stream",
       "stream": "stdout",
       "text": [
        "\n",
        "E:\\Data\\WangKun@Mattijn\\outfolder\\t03//t20110312_18.tif"
       ]
      },
      {
       "output_type": "stream",
       "stream": "stdout",
       "text": [
        "\n",
        "E:\\Data\\WangKun@Mattijn\\outfolder\\t03//t20110313_18.tif"
       ]
      },
      {
       "output_type": "stream",
       "stream": "stdout",
       "text": [
        "\n",
        "E:\\Data\\WangKun@Mattijn\\outfolder\\t03//t20110314_18.tif"
       ]
      },
      {
       "output_type": "stream",
       "stream": "stdout",
       "text": [
        "\n",
        "E:\\Data\\WangKun@Mattijn\\outfolder\\t03//t20110315_18.tif"
       ]
      },
      {
       "output_type": "stream",
       "stream": "stdout",
       "text": [
        "\n",
        "E:\\Data\\WangKun@Mattijn\\outfolder\\t03//t20110316_18.tif"
       ]
      },
      {
       "output_type": "stream",
       "stream": "stdout",
       "text": [
        "\n",
        "E:\\Data\\WangKun@Mattijn\\outfolder\\t03//t20110317_18.tif"
       ]
      },
      {
       "output_type": "stream",
       "stream": "stdout",
       "text": [
        "\n",
        "E:\\Data\\WangKun@Mattijn\\outfolder\\t03//t20110318_18.tif"
       ]
      },
      {
       "output_type": "stream",
       "stream": "stdout",
       "text": [
        "\n",
        "E:\\Data\\WangKun@Mattijn\\outfolder\\t03//t20110319_18.tif"
       ]
      },
      {
       "output_type": "stream",
       "stream": "stdout",
       "text": [
        "\n",
        "E:\\Data\\WangKun@Mattijn\\outfolder\\t03//t20110320_18.tif"
       ]
      },
      {
       "output_type": "stream",
       "stream": "stdout",
       "text": [
        "\n",
        "E:\\Data\\WangKun@Mattijn\\outfolder\\t03//t20110321_18.tif"
       ]
      },
      {
       "output_type": "stream",
       "stream": "stdout",
       "text": [
        "\n",
        "E:\\Data\\WangKun@Mattijn\\outfolder\\t03//t20110322_18.tif"
       ]
      },
      {
       "output_type": "stream",
       "stream": "stdout",
       "text": [
        "\n",
        "E:\\Data\\WangKun@Mattijn\\outfolder\\t03//t20110323_18.tif"
       ]
      },
      {
       "output_type": "stream",
       "stream": "stdout",
       "text": [
        "\n",
        "E:\\Data\\WangKun@Mattijn\\outfolder\\t03//t20110324_18.tif"
       ]
      },
      {
       "output_type": "stream",
       "stream": "stdout",
       "text": [
        "\n",
        "E:\\Data\\WangKun@Mattijn\\outfolder\\t03//t20110325_18.tif"
       ]
      },
      {
       "output_type": "stream",
       "stream": "stdout",
       "text": [
        "\n",
        "E:\\Data\\WangKun@Mattijn\\outfolder\\t03//t20110326_18.tif"
       ]
      },
      {
       "output_type": "stream",
       "stream": "stdout",
       "text": [
        "\n",
        "E:\\Data\\WangKun@Mattijn\\outfolder\\t03//t20110327_18.tif"
       ]
      },
      {
       "output_type": "stream",
       "stream": "stdout",
       "text": [
        "\n",
        "E:\\Data\\WangKun@Mattijn\\outfolder\\t03//t20110328_18.tif"
       ]
      },
      {
       "output_type": "stream",
       "stream": "stdout",
       "text": [
        "\n",
        "E:\\Data\\WangKun@Mattijn\\outfolder\\t03//t20110329_18.tif"
       ]
      },
      {
       "output_type": "stream",
       "stream": "stdout",
       "text": [
        "\n",
        "E:\\Data\\WangKun@Mattijn\\outfolder\\t03//t20110330_18.tif"
       ]
      },
      {
       "output_type": "stream",
       "stream": "stdout",
       "text": [
        "\n",
        "E:\\Data\\WangKun@Mattijn\\outfolder\\t03//t20110331_18.tif"
       ]
      },
      {
       "output_type": "stream",
       "stream": "stdout",
       "text": [
        "\n",
        "E:\\Data\\WangKun@Mattijn\\outfolder\\t03//t20110301_19.tif"
       ]
      },
      {
       "output_type": "stream",
       "stream": "stdout",
       "text": [
        "\n",
        "E:\\Data\\WangKun@Mattijn\\outfolder\\t03//t20110302_19.tif"
       ]
      },
      {
       "output_type": "stream",
       "stream": "stdout",
       "text": [
        "\n",
        "E:\\Data\\WangKun@Mattijn\\outfolder\\t03//t20110303_19.tif"
       ]
      },
      {
       "output_type": "stream",
       "stream": "stdout",
       "text": [
        "\n",
        "E:\\Data\\WangKun@Mattijn\\outfolder\\t03//t20110304_19.tif"
       ]
      },
      {
       "output_type": "stream",
       "stream": "stdout",
       "text": [
        "\n",
        "E:\\Data\\WangKun@Mattijn\\outfolder\\t03//t20110305_19.tif"
       ]
      },
      {
       "output_type": "stream",
       "stream": "stdout",
       "text": [
        "\n",
        "E:\\Data\\WangKun@Mattijn\\outfolder\\t03//t20110306_19.tif"
       ]
      },
      {
       "output_type": "stream",
       "stream": "stdout",
       "text": [
        "\n",
        "E:\\Data\\WangKun@Mattijn\\outfolder\\t03//t20110307_19.tif"
       ]
      },
      {
       "output_type": "stream",
       "stream": "stdout",
       "text": [
        "\n",
        "E:\\Data\\WangKun@Mattijn\\outfolder\\t03//t20110308_19.tif"
       ]
      },
      {
       "output_type": "stream",
       "stream": "stdout",
       "text": [
        "\n",
        "E:\\Data\\WangKun@Mattijn\\outfolder\\t03//t20110309_19.tif"
       ]
      },
      {
       "output_type": "stream",
       "stream": "stdout",
       "text": [
        "\n",
        "E:\\Data\\WangKun@Mattijn\\outfolder\\t03//t20110310_19.tif"
       ]
      },
      {
       "output_type": "stream",
       "stream": "stdout",
       "text": [
        "\n",
        "E:\\Data\\WangKun@Mattijn\\outfolder\\t03//t20110311_19.tif"
       ]
      },
      {
       "output_type": "stream",
       "stream": "stdout",
       "text": [
        "\n",
        "E:\\Data\\WangKun@Mattijn\\outfolder\\t03//t20110312_19.tif"
       ]
      },
      {
       "output_type": "stream",
       "stream": "stdout",
       "text": [
        "\n",
        "E:\\Data\\WangKun@Mattijn\\outfolder\\t03//t20110313_19.tif"
       ]
      },
      {
       "output_type": "stream",
       "stream": "stdout",
       "text": [
        "\n",
        "E:\\Data\\WangKun@Mattijn\\outfolder\\t03//t20110314_19.tif"
       ]
      },
      {
       "output_type": "stream",
       "stream": "stdout",
       "text": [
        "\n",
        "E:\\Data\\WangKun@Mattijn\\outfolder\\t03//t20110315_19.tif"
       ]
      },
      {
       "output_type": "stream",
       "stream": "stdout",
       "text": [
        "\n",
        "E:\\Data\\WangKun@Mattijn\\outfolder\\t03//t20110316_19.tif"
       ]
      },
      {
       "output_type": "stream",
       "stream": "stdout",
       "text": [
        "\n",
        "E:\\Data\\WangKun@Mattijn\\outfolder\\t03//t20110317_19.tif"
       ]
      },
      {
       "output_type": "stream",
       "stream": "stdout",
       "text": [
        "\n",
        "E:\\Data\\WangKun@Mattijn\\outfolder\\t03//t20110318_19.tif"
       ]
      },
      {
       "output_type": "stream",
       "stream": "stdout",
       "text": [
        "\n",
        "E:\\Data\\WangKun@Mattijn\\outfolder\\t03//t20110319_19.tif"
       ]
      },
      {
       "output_type": "stream",
       "stream": "stdout",
       "text": [
        "\n",
        "E:\\Data\\WangKun@Mattijn\\outfolder\\t03//t20110320_19.tif"
       ]
      },
      {
       "output_type": "stream",
       "stream": "stdout",
       "text": [
        "\n",
        "E:\\Data\\WangKun@Mattijn\\outfolder\\t03//t20110321_19.tif"
       ]
      },
      {
       "output_type": "stream",
       "stream": "stdout",
       "text": [
        "\n",
        "E:\\Data\\WangKun@Mattijn\\outfolder\\t03//t20110322_19.tif"
       ]
      },
      {
       "output_type": "stream",
       "stream": "stdout",
       "text": [
        "\n",
        "E:\\Data\\WangKun@Mattijn\\outfolder\\t03//t20110323_19.tif"
       ]
      },
      {
       "output_type": "stream",
       "stream": "stdout",
       "text": [
        "\n",
        "E:\\Data\\WangKun@Mattijn\\outfolder\\t03//t20110324_19.tif"
       ]
      },
      {
       "output_type": "stream",
       "stream": "stdout",
       "text": [
        "\n",
        "E:\\Data\\WangKun@Mattijn\\outfolder\\t03//t20110325_19.tif"
       ]
      },
      {
       "output_type": "stream",
       "stream": "stdout",
       "text": [
        "\n",
        "E:\\Data\\WangKun@Mattijn\\outfolder\\t03//t20110326_19.tif"
       ]
      },
      {
       "output_type": "stream",
       "stream": "stdout",
       "text": [
        "\n",
        "E:\\Data\\WangKun@Mattijn\\outfolder\\t03//t20110327_19.tif"
       ]
      },
      {
       "output_type": "stream",
       "stream": "stdout",
       "text": [
        "\n",
        "E:\\Data\\WangKun@Mattijn\\outfolder\\t03//t20110328_19.tif"
       ]
      },
      {
       "output_type": "stream",
       "stream": "stdout",
       "text": [
        "\n",
        "E:\\Data\\WangKun@Mattijn\\outfolder\\t03//t20110329_19.tif"
       ]
      },
      {
       "output_type": "stream",
       "stream": "stdout",
       "text": [
        "\n",
        "E:\\Data\\WangKun@Mattijn\\outfolder\\t03//t20110330_19.tif"
       ]
      },
      {
       "output_type": "stream",
       "stream": "stdout",
       "text": [
        "\n",
        "E:\\Data\\WangKun@Mattijn\\outfolder\\t03//t20110331_19.tif"
       ]
      },
      {
       "output_type": "stream",
       "stream": "stdout",
       "text": [
        "\n",
        "E:\\Data\\WangKun@Mattijn\\outfolder\\t03//t20110301_02.tif"
       ]
      },
      {
       "output_type": "stream",
       "stream": "stdout",
       "text": [
        "\n",
        "E:\\Data\\WangKun@Mattijn\\outfolder\\t03//t20110302_02.tif"
       ]
      },
      {
       "output_type": "stream",
       "stream": "stdout",
       "text": [
        "\n",
        "E:\\Data\\WangKun@Mattijn\\outfolder\\t03//t20110303_02.tif"
       ]
      },
      {
       "output_type": "stream",
       "stream": "stdout",
       "text": [
        "\n",
        "E:\\Data\\WangKun@Mattijn\\outfolder\\t03//t20110304_02.tif"
       ]
      },
      {
       "output_type": "stream",
       "stream": "stdout",
       "text": [
        "\n",
        "E:\\Data\\WangKun@Mattijn\\outfolder\\t03//t20110305_02.tif"
       ]
      },
      {
       "output_type": "stream",
       "stream": "stdout",
       "text": [
        "\n",
        "E:\\Data\\WangKun@Mattijn\\outfolder\\t03//t20110306_02.tif"
       ]
      },
      {
       "output_type": "stream",
       "stream": "stdout",
       "text": [
        "\n",
        "E:\\Data\\WangKun@Mattijn\\outfolder\\t03//t20110307_02.tif"
       ]
      },
      {
       "output_type": "stream",
       "stream": "stdout",
       "text": [
        "\n",
        "E:\\Data\\WangKun@Mattijn\\outfolder\\t03//t20110308_02.tif"
       ]
      },
      {
       "output_type": "stream",
       "stream": "stdout",
       "text": [
        "\n",
        "E:\\Data\\WangKun@Mattijn\\outfolder\\t03//t20110309_02.tif"
       ]
      },
      {
       "output_type": "stream",
       "stream": "stdout",
       "text": [
        "\n",
        "E:\\Data\\WangKun@Mattijn\\outfolder\\t03//t20110310_02.tif"
       ]
      },
      {
       "output_type": "stream",
       "stream": "stdout",
       "text": [
        "\n",
        "E:\\Data\\WangKun@Mattijn\\outfolder\\t03//t20110311_02.tif"
       ]
      },
      {
       "output_type": "stream",
       "stream": "stdout",
       "text": [
        "\n",
        "E:\\Data\\WangKun@Mattijn\\outfolder\\t03//t20110312_02.tif"
       ]
      },
      {
       "output_type": "stream",
       "stream": "stdout",
       "text": [
        "\n",
        "E:\\Data\\WangKun@Mattijn\\outfolder\\t03//t20110313_02.tif"
       ]
      },
      {
       "output_type": "stream",
       "stream": "stdout",
       "text": [
        "\n",
        "E:\\Data\\WangKun@Mattijn\\outfolder\\t03//t20110314_02.tif"
       ]
      },
      {
       "output_type": "stream",
       "stream": "stdout",
       "text": [
        "\n",
        "E:\\Data\\WangKun@Mattijn\\outfolder\\t03//t20110315_02.tif"
       ]
      },
      {
       "output_type": "stream",
       "stream": "stdout",
       "text": [
        "\n",
        "E:\\Data\\WangKun@Mattijn\\outfolder\\t03//t20110316_02.tif"
       ]
      },
      {
       "output_type": "stream",
       "stream": "stdout",
       "text": [
        "\n",
        "E:\\Data\\WangKun@Mattijn\\outfolder\\t03//t20110317_02.tif"
       ]
      },
      {
       "output_type": "stream",
       "stream": "stdout",
       "text": [
        "\n",
        "E:\\Data\\WangKun@Mattijn\\outfolder\\t03//t20110318_02.tif"
       ]
      },
      {
       "output_type": "stream",
       "stream": "stdout",
       "text": [
        "\n",
        "E:\\Data\\WangKun@Mattijn\\outfolder\\t03//t20110319_02.tif"
       ]
      },
      {
       "output_type": "stream",
       "stream": "stdout",
       "text": [
        "\n",
        "E:\\Data\\WangKun@Mattijn\\outfolder\\t03//t20110320_02.tif"
       ]
      },
      {
       "output_type": "stream",
       "stream": "stdout",
       "text": [
        "\n",
        "E:\\Data\\WangKun@Mattijn\\outfolder\\t03//t20110321_02.tif"
       ]
      },
      {
       "output_type": "stream",
       "stream": "stdout",
       "text": [
        "\n",
        "E:\\Data\\WangKun@Mattijn\\outfolder\\t03//t20110322_02.tif"
       ]
      },
      {
       "output_type": "stream",
       "stream": "stdout",
       "text": [
        "\n",
        "E:\\Data\\WangKun@Mattijn\\outfolder\\t03//t20110323_02.tif"
       ]
      },
      {
       "output_type": "stream",
       "stream": "stdout",
       "text": [
        "\n",
        "E:\\Data\\WangKun@Mattijn\\outfolder\\t03//t20110324_02.tif"
       ]
      },
      {
       "output_type": "stream",
       "stream": "stdout",
       "text": [
        "\n",
        "E:\\Data\\WangKun@Mattijn\\outfolder\\t03//t20110325_02.tif"
       ]
      },
      {
       "output_type": "stream",
       "stream": "stdout",
       "text": [
        "\n",
        "E:\\Data\\WangKun@Mattijn\\outfolder\\t03//t20110326_02.tif"
       ]
      },
      {
       "output_type": "stream",
       "stream": "stdout",
       "text": [
        "\n",
        "E:\\Data\\WangKun@Mattijn\\outfolder\\t03//t20110327_02.tif"
       ]
      },
      {
       "output_type": "stream",
       "stream": "stdout",
       "text": [
        "\n",
        "E:\\Data\\WangKun@Mattijn\\outfolder\\t03//t20110328_02.tif"
       ]
      },
      {
       "output_type": "stream",
       "stream": "stdout",
       "text": [
        "\n",
        "E:\\Data\\WangKun@Mattijn\\outfolder\\t03//t20110329_02.tif"
       ]
      },
      {
       "output_type": "stream",
       "stream": "stdout",
       "text": [
        "\n",
        "E:\\Data\\WangKun@Mattijn\\outfolder\\t03//t20110330_02.tif"
       ]
      },
      {
       "output_type": "stream",
       "stream": "stdout",
       "text": [
        "\n",
        "E:\\Data\\WangKun@Mattijn\\outfolder\\t03//t20110331_02.tif"
       ]
      },
      {
       "output_type": "stream",
       "stream": "stdout",
       "text": [
        "\n",
        "E:\\Data\\WangKun@Mattijn\\outfolder\\t03//t20110301_20.tif"
       ]
      },
      {
       "output_type": "stream",
       "stream": "stdout",
       "text": [
        "\n",
        "E:\\Data\\WangKun@Mattijn\\outfolder\\t03//t20110302_20.tif"
       ]
      },
      {
       "output_type": "stream",
       "stream": "stdout",
       "text": [
        "\n",
        "E:\\Data\\WangKun@Mattijn\\outfolder\\t03//t20110303_20.tif"
       ]
      },
      {
       "output_type": "stream",
       "stream": "stdout",
       "text": [
        "\n",
        "E:\\Data\\WangKun@Mattijn\\outfolder\\t03//t20110304_20.tif"
       ]
      },
      {
       "output_type": "stream",
       "stream": "stdout",
       "text": [
        "\n",
        "E:\\Data\\WangKun@Mattijn\\outfolder\\t03//t20110305_20.tif"
       ]
      },
      {
       "output_type": "stream",
       "stream": "stdout",
       "text": [
        "\n",
        "E:\\Data\\WangKun@Mattijn\\outfolder\\t03//t20110306_20.tif"
       ]
      },
      {
       "output_type": "stream",
       "stream": "stdout",
       "text": [
        "\n",
        "E:\\Data\\WangKun@Mattijn\\outfolder\\t03//t20110307_20.tif"
       ]
      },
      {
       "output_type": "stream",
       "stream": "stdout",
       "text": [
        "\n",
        "E:\\Data\\WangKun@Mattijn\\outfolder\\t03//t20110308_20.tif"
       ]
      },
      {
       "output_type": "stream",
       "stream": "stdout",
       "text": [
        "\n",
        "E:\\Data\\WangKun@Mattijn\\outfolder\\t03//t20110309_20.tif"
       ]
      },
      {
       "output_type": "stream",
       "stream": "stdout",
       "text": [
        "\n",
        "E:\\Data\\WangKun@Mattijn\\outfolder\\t03//t20110310_20.tif"
       ]
      },
      {
       "output_type": "stream",
       "stream": "stdout",
       "text": [
        "\n",
        "E:\\Data\\WangKun@Mattijn\\outfolder\\t03//t20110311_20.tif"
       ]
      },
      {
       "output_type": "stream",
       "stream": "stdout",
       "text": [
        "\n",
        "E:\\Data\\WangKun@Mattijn\\outfolder\\t03//t20110312_20.tif"
       ]
      },
      {
       "output_type": "stream",
       "stream": "stdout",
       "text": [
        "\n",
        "E:\\Data\\WangKun@Mattijn\\outfolder\\t03//t20110313_20.tif"
       ]
      },
      {
       "output_type": "stream",
       "stream": "stdout",
       "text": [
        "\n",
        "E:\\Data\\WangKun@Mattijn\\outfolder\\t03//t20110314_20.tif"
       ]
      },
      {
       "output_type": "stream",
       "stream": "stdout",
       "text": [
        "\n",
        "E:\\Data\\WangKun@Mattijn\\outfolder\\t03//t20110315_20.tif"
       ]
      },
      {
       "output_type": "stream",
       "stream": "stdout",
       "text": [
        "\n",
        "E:\\Data\\WangKun@Mattijn\\outfolder\\t03//t20110316_20.tif"
       ]
      },
      {
       "output_type": "stream",
       "stream": "stdout",
       "text": [
        "\n",
        "E:\\Data\\WangKun@Mattijn\\outfolder\\t03//t20110317_20.tif"
       ]
      },
      {
       "output_type": "stream",
       "stream": "stdout",
       "text": [
        "\n",
        "E:\\Data\\WangKun@Mattijn\\outfolder\\t03//t20110318_20.tif"
       ]
      },
      {
       "output_type": "stream",
       "stream": "stdout",
       "text": [
        "\n",
        "E:\\Data\\WangKun@Mattijn\\outfolder\\t03//t20110319_20.tif"
       ]
      },
      {
       "output_type": "stream",
       "stream": "stdout",
       "text": [
        "\n",
        "E:\\Data\\WangKun@Mattijn\\outfolder\\t03//t20110320_20.tif"
       ]
      },
      {
       "output_type": "stream",
       "stream": "stdout",
       "text": [
        "\n",
        "E:\\Data\\WangKun@Mattijn\\outfolder\\t03//t20110321_20.tif"
       ]
      },
      {
       "output_type": "stream",
       "stream": "stdout",
       "text": [
        "\n",
        "E:\\Data\\WangKun@Mattijn\\outfolder\\t03//t20110322_20.tif"
       ]
      },
      {
       "output_type": "stream",
       "stream": "stdout",
       "text": [
        "\n",
        "E:\\Data\\WangKun@Mattijn\\outfolder\\t03//t20110323_20.tif"
       ]
      },
      {
       "output_type": "stream",
       "stream": "stdout",
       "text": [
        "\n",
        "E:\\Data\\WangKun@Mattijn\\outfolder\\t03//t20110324_20.tif"
       ]
      },
      {
       "output_type": "stream",
       "stream": "stdout",
       "text": [
        "\n",
        "E:\\Data\\WangKun@Mattijn\\outfolder\\t03//t20110325_20.tif"
       ]
      },
      {
       "output_type": "stream",
       "stream": "stdout",
       "text": [
        "\n",
        "E:\\Data\\WangKun@Mattijn\\outfolder\\t03//t20110326_20.tif"
       ]
      },
      {
       "output_type": "stream",
       "stream": "stdout",
       "text": [
        "\n",
        "E:\\Data\\WangKun@Mattijn\\outfolder\\t03//t20110327_20.tif"
       ]
      },
      {
       "output_type": "stream",
       "stream": "stdout",
       "text": [
        "\n",
        "E:\\Data\\WangKun@Mattijn\\outfolder\\t03//t20110328_20.tif"
       ]
      },
      {
       "output_type": "stream",
       "stream": "stdout",
       "text": [
        "\n",
        "E:\\Data\\WangKun@Mattijn\\outfolder\\t03//t20110329_20.tif"
       ]
      },
      {
       "output_type": "stream",
       "stream": "stdout",
       "text": [
        "\n",
        "E:\\Data\\WangKun@Mattijn\\outfolder\\t03//t20110330_20.tif"
       ]
      },
      {
       "output_type": "stream",
       "stream": "stdout",
       "text": [
        "\n",
        "E:\\Data\\WangKun@Mattijn\\outfolder\\t03//t20110331_20.tif"
       ]
      },
      {
       "output_type": "stream",
       "stream": "stdout",
       "text": [
        "\n",
        "E:\\Data\\WangKun@Mattijn\\outfolder\\t03//t20110301_21.tif"
       ]
      },
      {
       "output_type": "stream",
       "stream": "stdout",
       "text": [
        "\n",
        "E:\\Data\\WangKun@Mattijn\\outfolder\\t03//t20110302_21.tif"
       ]
      },
      {
       "output_type": "stream",
       "stream": "stdout",
       "text": [
        "\n",
        "E:\\Data\\WangKun@Mattijn\\outfolder\\t03//t20110303_21.tif"
       ]
      },
      {
       "output_type": "stream",
       "stream": "stdout",
       "text": [
        "\n",
        "E:\\Data\\WangKun@Mattijn\\outfolder\\t03//t20110304_21.tif"
       ]
      },
      {
       "output_type": "stream",
       "stream": "stdout",
       "text": [
        "\n",
        "E:\\Data\\WangKun@Mattijn\\outfolder\\t03//t20110305_21.tif"
       ]
      },
      {
       "output_type": "stream",
       "stream": "stdout",
       "text": [
        "\n",
        "E:\\Data\\WangKun@Mattijn\\outfolder\\t03//t20110306_21.tif"
       ]
      },
      {
       "output_type": "stream",
       "stream": "stdout",
       "text": [
        "\n",
        "E:\\Data\\WangKun@Mattijn\\outfolder\\t03//t20110307_21.tif"
       ]
      },
      {
       "output_type": "stream",
       "stream": "stdout",
       "text": [
        "\n",
        "E:\\Data\\WangKun@Mattijn\\outfolder\\t03//t20110308_21.tif"
       ]
      },
      {
       "output_type": "stream",
       "stream": "stdout",
       "text": [
        "\n",
        "E:\\Data\\WangKun@Mattijn\\outfolder\\t03//t20110309_21.tif"
       ]
      },
      {
       "output_type": "stream",
       "stream": "stdout",
       "text": [
        "\n",
        "E:\\Data\\WangKun@Mattijn\\outfolder\\t03//t20110310_21.tif"
       ]
      },
      {
       "output_type": "stream",
       "stream": "stdout",
       "text": [
        "\n",
        "E:\\Data\\WangKun@Mattijn\\outfolder\\t03//t20110311_21.tif"
       ]
      },
      {
       "output_type": "stream",
       "stream": "stdout",
       "text": [
        "\n",
        "E:\\Data\\WangKun@Mattijn\\outfolder\\t03//t20110312_21.tif"
       ]
      },
      {
       "output_type": "stream",
       "stream": "stdout",
       "text": [
        "\n",
        "E:\\Data\\WangKun@Mattijn\\outfolder\\t03//t20110313_21.tif"
       ]
      },
      {
       "output_type": "stream",
       "stream": "stdout",
       "text": [
        "\n",
        "E:\\Data\\WangKun@Mattijn\\outfolder\\t03//t20110314_21.tif"
       ]
      },
      {
       "output_type": "stream",
       "stream": "stdout",
       "text": [
        "\n",
        "E:\\Data\\WangKun@Mattijn\\outfolder\\t03//t20110315_21.tif"
       ]
      },
      {
       "output_type": "stream",
       "stream": "stdout",
       "text": [
        "\n",
        "E:\\Data\\WangKun@Mattijn\\outfolder\\t03//t20110316_21.tif"
       ]
      },
      {
       "output_type": "stream",
       "stream": "stdout",
       "text": [
        "\n",
        "E:\\Data\\WangKun@Mattijn\\outfolder\\t03//t20110317_21.tif"
       ]
      },
      {
       "output_type": "stream",
       "stream": "stdout",
       "text": [
        "\n",
        "E:\\Data\\WangKun@Mattijn\\outfolder\\t03//t20110318_21.tif"
       ]
      },
      {
       "output_type": "stream",
       "stream": "stdout",
       "text": [
        "\n",
        "E:\\Data\\WangKun@Mattijn\\outfolder\\t03//t20110319_21.tif"
       ]
      },
      {
       "output_type": "stream",
       "stream": "stdout",
       "text": [
        "\n",
        "E:\\Data\\WangKun@Mattijn\\outfolder\\t03//t20110320_21.tif"
       ]
      },
      {
       "output_type": "stream",
       "stream": "stdout",
       "text": [
        "\n",
        "E:\\Data\\WangKun@Mattijn\\outfolder\\t03//t20110321_21.tif"
       ]
      },
      {
       "output_type": "stream",
       "stream": "stdout",
       "text": [
        "\n",
        "E:\\Data\\WangKun@Mattijn\\outfolder\\t03//t20110322_21.tif"
       ]
      },
      {
       "output_type": "stream",
       "stream": "stdout",
       "text": [
        "\n",
        "E:\\Data\\WangKun@Mattijn\\outfolder\\t03//t20110323_21.tif"
       ]
      },
      {
       "output_type": "stream",
       "stream": "stdout",
       "text": [
        "\n",
        "E:\\Data\\WangKun@Mattijn\\outfolder\\t03//t20110324_21.tif"
       ]
      },
      {
       "output_type": "stream",
       "stream": "stdout",
       "text": [
        "\n",
        "E:\\Data\\WangKun@Mattijn\\outfolder\\t03//t20110325_21.tif"
       ]
      },
      {
       "output_type": "stream",
       "stream": "stdout",
       "text": [
        "\n",
        "E:\\Data\\WangKun@Mattijn\\outfolder\\t03//t20110326_21.tif"
       ]
      },
      {
       "output_type": "stream",
       "stream": "stdout",
       "text": [
        "\n",
        "E:\\Data\\WangKun@Mattijn\\outfolder\\t03//t20110327_21.tif"
       ]
      },
      {
       "output_type": "stream",
       "stream": "stdout",
       "text": [
        "\n",
        "E:\\Data\\WangKun@Mattijn\\outfolder\\t03//t20110328_21.tif"
       ]
      },
      {
       "output_type": "stream",
       "stream": "stdout",
       "text": [
        "\n",
        "E:\\Data\\WangKun@Mattijn\\outfolder\\t03//t20110329_21.tif"
       ]
      },
      {
       "output_type": "stream",
       "stream": "stdout",
       "text": [
        "\n",
        "E:\\Data\\WangKun@Mattijn\\outfolder\\t03//t20110330_21.tif"
       ]
      },
      {
       "output_type": "stream",
       "stream": "stdout",
       "text": [
        "\n",
        "E:\\Data\\WangKun@Mattijn\\outfolder\\t03//t20110331_21.tif"
       ]
      },
      {
       "output_type": "stream",
       "stream": "stdout",
       "text": [
        "\n",
        "E:\\Data\\WangKun@Mattijn\\outfolder\\t03//t20110301_22.tif"
       ]
      },
      {
       "output_type": "stream",
       "stream": "stdout",
       "text": [
        "\n",
        "E:\\Data\\WangKun@Mattijn\\outfolder\\t03//t20110302_22.tif"
       ]
      },
      {
       "output_type": "stream",
       "stream": "stdout",
       "text": [
        "\n",
        "E:\\Data\\WangKun@Mattijn\\outfolder\\t03//t20110303_22.tif"
       ]
      },
      {
       "output_type": "stream",
       "stream": "stdout",
       "text": [
        "\n",
        "E:\\Data\\WangKun@Mattijn\\outfolder\\t03//t20110304_22.tif"
       ]
      },
      {
       "output_type": "stream",
       "stream": "stdout",
       "text": [
        "\n",
        "E:\\Data\\WangKun@Mattijn\\outfolder\\t03//t20110305_22.tif"
       ]
      },
      {
       "output_type": "stream",
       "stream": "stdout",
       "text": [
        "\n",
        "E:\\Data\\WangKun@Mattijn\\outfolder\\t03//t20110306_22.tif"
       ]
      },
      {
       "output_type": "stream",
       "stream": "stdout",
       "text": [
        "\n",
        "E:\\Data\\WangKun@Mattijn\\outfolder\\t03//t20110307_22.tif"
       ]
      },
      {
       "output_type": "stream",
       "stream": "stdout",
       "text": [
        "\n",
        "E:\\Data\\WangKun@Mattijn\\outfolder\\t03//t20110308_22.tif"
       ]
      },
      {
       "output_type": "stream",
       "stream": "stdout",
       "text": [
        "\n",
        "E:\\Data\\WangKun@Mattijn\\outfolder\\t03//t20110309_22.tif"
       ]
      },
      {
       "output_type": "stream",
       "stream": "stdout",
       "text": [
        "\n",
        "E:\\Data\\WangKun@Mattijn\\outfolder\\t03//t20110310_22.tif"
       ]
      },
      {
       "output_type": "stream",
       "stream": "stdout",
       "text": [
        "\n",
        "E:\\Data\\WangKun@Mattijn\\outfolder\\t03//t20110311_22.tif"
       ]
      },
      {
       "output_type": "stream",
       "stream": "stdout",
       "text": [
        "\n",
        "E:\\Data\\WangKun@Mattijn\\outfolder\\t03//t20110312_22.tif"
       ]
      },
      {
       "output_type": "stream",
       "stream": "stdout",
       "text": [
        "\n",
        "E:\\Data\\WangKun@Mattijn\\outfolder\\t03//t20110313_22.tif"
       ]
      },
      {
       "output_type": "stream",
       "stream": "stdout",
       "text": [
        "\n",
        "E:\\Data\\WangKun@Mattijn\\outfolder\\t03//t20110314_22.tif"
       ]
      },
      {
       "output_type": "stream",
       "stream": "stdout",
       "text": [
        "\n",
        "E:\\Data\\WangKun@Mattijn\\outfolder\\t03//t20110315_22.tif"
       ]
      },
      {
       "output_type": "stream",
       "stream": "stdout",
       "text": [
        "\n",
        "E:\\Data\\WangKun@Mattijn\\outfolder\\t03//t20110316_22.tif"
       ]
      },
      {
       "output_type": "stream",
       "stream": "stdout",
       "text": [
        "\n",
        "E:\\Data\\WangKun@Mattijn\\outfolder\\t03//t20110317_22.tif"
       ]
      },
      {
       "output_type": "stream",
       "stream": "stdout",
       "text": [
        "\n",
        "E:\\Data\\WangKun@Mattijn\\outfolder\\t03//t20110318_22.tif"
       ]
      },
      {
       "output_type": "stream",
       "stream": "stdout",
       "text": [
        "\n",
        "E:\\Data\\WangKun@Mattijn\\outfolder\\t03//t20110319_22.tif"
       ]
      },
      {
       "output_type": "stream",
       "stream": "stdout",
       "text": [
        "\n",
        "E:\\Data\\WangKun@Mattijn\\outfolder\\t03//t20110320_22.tif"
       ]
      },
      {
       "output_type": "stream",
       "stream": "stdout",
       "text": [
        "\n",
        "E:\\Data\\WangKun@Mattijn\\outfolder\\t03//t20110321_22.tif"
       ]
      },
      {
       "output_type": "stream",
       "stream": "stdout",
       "text": [
        "\n",
        "E:\\Data\\WangKun@Mattijn\\outfolder\\t03//t20110322_22.tif"
       ]
      },
      {
       "output_type": "stream",
       "stream": "stdout",
       "text": [
        "\n",
        "E:\\Data\\WangKun@Mattijn\\outfolder\\t03//t20110323_22.tif"
       ]
      },
      {
       "output_type": "stream",
       "stream": "stdout",
       "text": [
        "\n",
        "E:\\Data\\WangKun@Mattijn\\outfolder\\t03//t20110324_22.tif"
       ]
      },
      {
       "output_type": "stream",
       "stream": "stdout",
       "text": [
        "\n",
        "E:\\Data\\WangKun@Mattijn\\outfolder\\t03//t20110325_22.tif"
       ]
      },
      {
       "output_type": "stream",
       "stream": "stdout",
       "text": [
        "\n",
        "E:\\Data\\WangKun@Mattijn\\outfolder\\t03//t20110326_22.tif"
       ]
      },
      {
       "output_type": "stream",
       "stream": "stdout",
       "text": [
        "\n",
        "E:\\Data\\WangKun@Mattijn\\outfolder\\t03//t20110327_22.tif"
       ]
      },
      {
       "output_type": "stream",
       "stream": "stdout",
       "text": [
        "\n",
        "E:\\Data\\WangKun@Mattijn\\outfolder\\t03//t20110328_22.tif"
       ]
      },
      {
       "output_type": "stream",
       "stream": "stdout",
       "text": [
        "\n",
        "E:\\Data\\WangKun@Mattijn\\outfolder\\t03//t20110329_22.tif"
       ]
      },
      {
       "output_type": "stream",
       "stream": "stdout",
       "text": [
        "\n",
        "E:\\Data\\WangKun@Mattijn\\outfolder\\t03//t20110330_22.tif"
       ]
      },
      {
       "output_type": "stream",
       "stream": "stdout",
       "text": [
        "\n",
        "E:\\Data\\WangKun@Mattijn\\outfolder\\t03//t20110331_22.tif"
       ]
      },
      {
       "output_type": "stream",
       "stream": "stdout",
       "text": [
        "\n",
        "E:\\Data\\WangKun@Mattijn\\outfolder\\t03//t20110301_23.tif"
       ]
      },
      {
       "output_type": "stream",
       "stream": "stdout",
       "text": [
        "\n",
        "E:\\Data\\WangKun@Mattijn\\outfolder\\t03//t20110302_23.tif"
       ]
      },
      {
       "output_type": "stream",
       "stream": "stdout",
       "text": [
        "\n",
        "E:\\Data\\WangKun@Mattijn\\outfolder\\t03//t20110303_23.tif"
       ]
      },
      {
       "output_type": "stream",
       "stream": "stdout",
       "text": [
        "\n",
        "E:\\Data\\WangKun@Mattijn\\outfolder\\t03//t20110304_23.tif"
       ]
      },
      {
       "output_type": "stream",
       "stream": "stdout",
       "text": [
        "\n",
        "E:\\Data\\WangKun@Mattijn\\outfolder\\t03//t20110305_23.tif"
       ]
      },
      {
       "output_type": "stream",
       "stream": "stdout",
       "text": [
        "\n",
        "E:\\Data\\WangKun@Mattijn\\outfolder\\t03//t20110306_23.tif"
       ]
      },
      {
       "output_type": "stream",
       "stream": "stdout",
       "text": [
        "\n",
        "E:\\Data\\WangKun@Mattijn\\outfolder\\t03//t20110307_23.tif"
       ]
      },
      {
       "output_type": "stream",
       "stream": "stdout",
       "text": [
        "\n",
        "E:\\Data\\WangKun@Mattijn\\outfolder\\t03//t20110308_23.tif"
       ]
      },
      {
       "output_type": "stream",
       "stream": "stdout",
       "text": [
        "\n",
        "E:\\Data\\WangKun@Mattijn\\outfolder\\t03//t20110309_23.tif"
       ]
      },
      {
       "output_type": "stream",
       "stream": "stdout",
       "text": [
        "\n",
        "E:\\Data\\WangKun@Mattijn\\outfolder\\t03//t20110310_23.tif"
       ]
      },
      {
       "output_type": "stream",
       "stream": "stdout",
       "text": [
        "\n",
        "E:\\Data\\WangKun@Mattijn\\outfolder\\t03//t20110311_23.tif"
       ]
      },
      {
       "output_type": "stream",
       "stream": "stdout",
       "text": [
        "\n",
        "E:\\Data\\WangKun@Mattijn\\outfolder\\t03//t20110312_23.tif"
       ]
      },
      {
       "output_type": "stream",
       "stream": "stdout",
       "text": [
        "\n",
        "E:\\Data\\WangKun@Mattijn\\outfolder\\t03//t20110313_23.tif"
       ]
      },
      {
       "output_type": "stream",
       "stream": "stdout",
       "text": [
        "\n",
        "E:\\Data\\WangKun@Mattijn\\outfolder\\t03//t20110314_23.tif"
       ]
      },
      {
       "output_type": "stream",
       "stream": "stdout",
       "text": [
        "\n",
        "E:\\Data\\WangKun@Mattijn\\outfolder\\t03//t20110315_23.tif"
       ]
      },
      {
       "output_type": "stream",
       "stream": "stdout",
       "text": [
        "\n",
        "E:\\Data\\WangKun@Mattijn\\outfolder\\t03//t20110316_23.tif"
       ]
      },
      {
       "output_type": "stream",
       "stream": "stdout",
       "text": [
        "\n",
        "E:\\Data\\WangKun@Mattijn\\outfolder\\t03//t20110317_23.tif"
       ]
      },
      {
       "output_type": "stream",
       "stream": "stdout",
       "text": [
        "\n",
        "E:\\Data\\WangKun@Mattijn\\outfolder\\t03//t20110318_23.tif"
       ]
      },
      {
       "output_type": "stream",
       "stream": "stdout",
       "text": [
        "\n",
        "E:\\Data\\WangKun@Mattijn\\outfolder\\t03//t20110319_23.tif"
       ]
      },
      {
       "output_type": "stream",
       "stream": "stdout",
       "text": [
        "\n",
        "E:\\Data\\WangKun@Mattijn\\outfolder\\t03//t20110320_23.tif"
       ]
      },
      {
       "output_type": "stream",
       "stream": "stdout",
       "text": [
        "\n",
        "E:\\Data\\WangKun@Mattijn\\outfolder\\t03//t20110321_23.tif"
       ]
      },
      {
       "output_type": "stream",
       "stream": "stdout",
       "text": [
        "\n",
        "E:\\Data\\WangKun@Mattijn\\outfolder\\t03//t20110322_23.tif"
       ]
      },
      {
       "output_type": "stream",
       "stream": "stdout",
       "text": [
        "\n",
        "E:\\Data\\WangKun@Mattijn\\outfolder\\t03//t20110323_23.tif"
       ]
      },
      {
       "output_type": "stream",
       "stream": "stdout",
       "text": [
        "\n",
        "E:\\Data\\WangKun@Mattijn\\outfolder\\t03//t20110324_23.tif"
       ]
      },
      {
       "output_type": "stream",
       "stream": "stdout",
       "text": [
        "\n",
        "E:\\Data\\WangKun@Mattijn\\outfolder\\t03//t20110325_23.tif"
       ]
      },
      {
       "output_type": "stream",
       "stream": "stdout",
       "text": [
        "\n",
        "E:\\Data\\WangKun@Mattijn\\outfolder\\t03//t20110326_23.tif"
       ]
      },
      {
       "output_type": "stream",
       "stream": "stdout",
       "text": [
        "\n",
        "E:\\Data\\WangKun@Mattijn\\outfolder\\t03//t20110327_23.tif"
       ]
      },
      {
       "output_type": "stream",
       "stream": "stdout",
       "text": [
        "\n",
        "E:\\Data\\WangKun@Mattijn\\outfolder\\t03//t20110328_23.tif"
       ]
      },
      {
       "output_type": "stream",
       "stream": "stdout",
       "text": [
        "\n",
        "E:\\Data\\WangKun@Mattijn\\outfolder\\t03//t20110329_23.tif"
       ]
      },
      {
       "output_type": "stream",
       "stream": "stdout",
       "text": [
        "\n",
        "E:\\Data\\WangKun@Mattijn\\outfolder\\t03//t20110330_23.tif"
       ]
      },
      {
       "output_type": "stream",
       "stream": "stdout",
       "text": [
        "\n",
        "E:\\Data\\WangKun@Mattijn\\outfolder\\t03//t20110331_23.tif"
       ]
      },
      {
       "output_type": "stream",
       "stream": "stdout",
       "text": [
        "\n",
        "E:\\Data\\WangKun@Mattijn\\outfolder\\t03//t20110301_24.tif"
       ]
      },
      {
       "output_type": "stream",
       "stream": "stdout",
       "text": [
        "\n",
        "E:\\Data\\WangKun@Mattijn\\outfolder\\t03//t20110302_24.tif"
       ]
      },
      {
       "output_type": "stream",
       "stream": "stdout",
       "text": [
        "\n",
        "E:\\Data\\WangKun@Mattijn\\outfolder\\t03//t20110303_24.tif"
       ]
      },
      {
       "output_type": "stream",
       "stream": "stdout",
       "text": [
        "\n",
        "E:\\Data\\WangKun@Mattijn\\outfolder\\t03//t20110304_24.tif"
       ]
      },
      {
       "output_type": "stream",
       "stream": "stdout",
       "text": [
        "\n",
        "E:\\Data\\WangKun@Mattijn\\outfolder\\t03//t20110305_24.tif"
       ]
      },
      {
       "output_type": "stream",
       "stream": "stdout",
       "text": [
        "\n",
        "E:\\Data\\WangKun@Mattijn\\outfolder\\t03//t20110306_24.tif"
       ]
      },
      {
       "output_type": "stream",
       "stream": "stdout",
       "text": [
        "\n",
        "E:\\Data\\WangKun@Mattijn\\outfolder\\t03//t20110307_24.tif"
       ]
      },
      {
       "output_type": "stream",
       "stream": "stdout",
       "text": [
        "\n",
        "E:\\Data\\WangKun@Mattijn\\outfolder\\t03//t20110308_24.tif"
       ]
      },
      {
       "output_type": "stream",
       "stream": "stdout",
       "text": [
        "\n",
        "E:\\Data\\WangKun@Mattijn\\outfolder\\t03//t20110309_24.tif"
       ]
      },
      {
       "output_type": "stream",
       "stream": "stdout",
       "text": [
        "\n",
        "E:\\Data\\WangKun@Mattijn\\outfolder\\t03//t20110310_24.tif"
       ]
      },
      {
       "output_type": "stream",
       "stream": "stdout",
       "text": [
        "\n",
        "E:\\Data\\WangKun@Mattijn\\outfolder\\t03//t20110311_24.tif"
       ]
      },
      {
       "output_type": "stream",
       "stream": "stdout",
       "text": [
        "\n",
        "E:\\Data\\WangKun@Mattijn\\outfolder\\t03//t20110312_24.tif"
       ]
      },
      {
       "output_type": "stream",
       "stream": "stdout",
       "text": [
        "\n",
        "E:\\Data\\WangKun@Mattijn\\outfolder\\t03//t20110313_24.tif"
       ]
      },
      {
       "output_type": "stream",
       "stream": "stdout",
       "text": [
        "\n",
        "E:\\Data\\WangKun@Mattijn\\outfolder\\t03//t20110314_24.tif"
       ]
      },
      {
       "output_type": "stream",
       "stream": "stdout",
       "text": [
        "\n",
        "E:\\Data\\WangKun@Mattijn\\outfolder\\t03//t20110315_24.tif"
       ]
      },
      {
       "output_type": "stream",
       "stream": "stdout",
       "text": [
        "\n",
        "E:\\Data\\WangKun@Mattijn\\outfolder\\t03//t20110316_24.tif"
       ]
      },
      {
       "output_type": "stream",
       "stream": "stdout",
       "text": [
        "\n",
        "E:\\Data\\WangKun@Mattijn\\outfolder\\t03//t20110317_24.tif"
       ]
      },
      {
       "output_type": "stream",
       "stream": "stdout",
       "text": [
        "\n",
        "E:\\Data\\WangKun@Mattijn\\outfolder\\t03//t20110318_24.tif"
       ]
      },
      {
       "output_type": "stream",
       "stream": "stdout",
       "text": [
        "\n",
        "E:\\Data\\WangKun@Mattijn\\outfolder\\t03//t20110319_24.tif"
       ]
      },
      {
       "output_type": "stream",
       "stream": "stdout",
       "text": [
        "\n",
        "E:\\Data\\WangKun@Mattijn\\outfolder\\t03//t20110320_24.tif"
       ]
      },
      {
       "output_type": "stream",
       "stream": "stdout",
       "text": [
        "\n",
        "E:\\Data\\WangKun@Mattijn\\outfolder\\t03//t20110321_24.tif"
       ]
      },
      {
       "output_type": "stream",
       "stream": "stdout",
       "text": [
        "\n",
        "E:\\Data\\WangKun@Mattijn\\outfolder\\t03//t20110322_24.tif"
       ]
      },
      {
       "output_type": "stream",
       "stream": "stdout",
       "text": [
        "\n",
        "E:\\Data\\WangKun@Mattijn\\outfolder\\t03//t20110323_24.tif"
       ]
      },
      {
       "output_type": "stream",
       "stream": "stdout",
       "text": [
        "\n",
        "E:\\Data\\WangKun@Mattijn\\outfolder\\t03//t20110324_24.tif"
       ]
      },
      {
       "output_type": "stream",
       "stream": "stdout",
       "text": [
        "\n",
        "E:\\Data\\WangKun@Mattijn\\outfolder\\t03//t20110325_24.tif"
       ]
      },
      {
       "output_type": "stream",
       "stream": "stdout",
       "text": [
        "\n",
        "E:\\Data\\WangKun@Mattijn\\outfolder\\t03//t20110326_24.tif"
       ]
      },
      {
       "output_type": "stream",
       "stream": "stdout",
       "text": [
        "\n",
        "E:\\Data\\WangKun@Mattijn\\outfolder\\t03//t20110327_24.tif"
       ]
      },
      {
       "output_type": "stream",
       "stream": "stdout",
       "text": [
        "\n",
        "E:\\Data\\WangKun@Mattijn\\outfolder\\t03//t20110328_24.tif"
       ]
      },
      {
       "output_type": "stream",
       "stream": "stdout",
       "text": [
        "\n",
        "E:\\Data\\WangKun@Mattijn\\outfolder\\t03//t20110329_24.tif"
       ]
      },
      {
       "output_type": "stream",
       "stream": "stdout",
       "text": [
        "\n",
        "E:\\Data\\WangKun@Mattijn\\outfolder\\t03//t20110330_24.tif"
       ]
      },
      {
       "output_type": "stream",
       "stream": "stdout",
       "text": [
        "\n",
        "E:\\Data\\WangKun@Mattijn\\outfolder\\t03//t20110331_24.tif"
       ]
      },
      {
       "output_type": "stream",
       "stream": "stdout",
       "text": [
        "\n",
        "E:\\Data\\WangKun@Mattijn\\outfolder\\t03//t20110301_03.tif"
       ]
      },
      {
       "output_type": "stream",
       "stream": "stdout",
       "text": [
        "\n",
        "E:\\Data\\WangKun@Mattijn\\outfolder\\t03//t20110302_03.tif"
       ]
      },
      {
       "output_type": "stream",
       "stream": "stdout",
       "text": [
        "\n",
        "E:\\Data\\WangKun@Mattijn\\outfolder\\t03//t20110303_03.tif"
       ]
      },
      {
       "output_type": "stream",
       "stream": "stdout",
       "text": [
        "\n",
        "E:\\Data\\WangKun@Mattijn\\outfolder\\t03//t20110304_03.tif"
       ]
      },
      {
       "output_type": "stream",
       "stream": "stdout",
       "text": [
        "\n",
        "E:\\Data\\WangKun@Mattijn\\outfolder\\t03//t20110305_03.tif"
       ]
      },
      {
       "output_type": "stream",
       "stream": "stdout",
       "text": [
        "\n",
        "E:\\Data\\WangKun@Mattijn\\outfolder\\t03//t20110306_03.tif"
       ]
      },
      {
       "output_type": "stream",
       "stream": "stdout",
       "text": [
        "\n",
        "E:\\Data\\WangKun@Mattijn\\outfolder\\t03//t20110307_03.tif"
       ]
      },
      {
       "output_type": "stream",
       "stream": "stdout",
       "text": [
        "\n",
        "E:\\Data\\WangKun@Mattijn\\outfolder\\t03//t20110308_03.tif"
       ]
      },
      {
       "output_type": "stream",
       "stream": "stdout",
       "text": [
        "\n",
        "E:\\Data\\WangKun@Mattijn\\outfolder\\t03//t20110309_03.tif"
       ]
      },
      {
       "output_type": "stream",
       "stream": "stdout",
       "text": [
        "\n",
        "E:\\Data\\WangKun@Mattijn\\outfolder\\t03//t20110310_03.tif"
       ]
      },
      {
       "output_type": "stream",
       "stream": "stdout",
       "text": [
        "\n",
        "E:\\Data\\WangKun@Mattijn\\outfolder\\t03//t20110311_03.tif"
       ]
      },
      {
       "output_type": "stream",
       "stream": "stdout",
       "text": [
        "\n",
        "E:\\Data\\WangKun@Mattijn\\outfolder\\t03//t20110312_03.tif"
       ]
      },
      {
       "output_type": "stream",
       "stream": "stdout",
       "text": [
        "\n",
        "E:\\Data\\WangKun@Mattijn\\outfolder\\t03//t20110313_03.tif"
       ]
      },
      {
       "output_type": "stream",
       "stream": "stdout",
       "text": [
        "\n",
        "E:\\Data\\WangKun@Mattijn\\outfolder\\t03//t20110314_03.tif"
       ]
      },
      {
       "output_type": "stream",
       "stream": "stdout",
       "text": [
        "\n",
        "E:\\Data\\WangKun@Mattijn\\outfolder\\t03//t20110315_03.tif"
       ]
      },
      {
       "output_type": "stream",
       "stream": "stdout",
       "text": [
        "\n",
        "E:\\Data\\WangKun@Mattijn\\outfolder\\t03//t20110316_03.tif"
       ]
      },
      {
       "output_type": "stream",
       "stream": "stdout",
       "text": [
        "\n",
        "E:\\Data\\WangKun@Mattijn\\outfolder\\t03//t20110317_03.tif"
       ]
      },
      {
       "output_type": "stream",
       "stream": "stdout",
       "text": [
        "\n",
        "E:\\Data\\WangKun@Mattijn\\outfolder\\t03//t20110318_03.tif"
       ]
      },
      {
       "output_type": "stream",
       "stream": "stdout",
       "text": [
        "\n",
        "E:\\Data\\WangKun@Mattijn\\outfolder\\t03//t20110319_03.tif"
       ]
      },
      {
       "output_type": "stream",
       "stream": "stdout",
       "text": [
        "\n",
        "E:\\Data\\WangKun@Mattijn\\outfolder\\t03//t20110320_03.tif"
       ]
      },
      {
       "output_type": "stream",
       "stream": "stdout",
       "text": [
        "\n",
        "E:\\Data\\WangKun@Mattijn\\outfolder\\t03//t20110321_03.tif"
       ]
      },
      {
       "output_type": "stream",
       "stream": "stdout",
       "text": [
        "\n",
        "E:\\Data\\WangKun@Mattijn\\outfolder\\t03//t20110322_03.tif"
       ]
      },
      {
       "output_type": "stream",
       "stream": "stdout",
       "text": [
        "\n",
        "E:\\Data\\WangKun@Mattijn\\outfolder\\t03//t20110323_03.tif"
       ]
      },
      {
       "output_type": "stream",
       "stream": "stdout",
       "text": [
        "\n",
        "E:\\Data\\WangKun@Mattijn\\outfolder\\t03//t20110324_03.tif"
       ]
      },
      {
       "output_type": "stream",
       "stream": "stdout",
       "text": [
        "\n",
        "E:\\Data\\WangKun@Mattijn\\outfolder\\t03//t20110325_03.tif"
       ]
      },
      {
       "output_type": "stream",
       "stream": "stdout",
       "text": [
        "\n",
        "E:\\Data\\WangKun@Mattijn\\outfolder\\t03//t20110326_03.tif"
       ]
      },
      {
       "output_type": "stream",
       "stream": "stdout",
       "text": [
        "\n",
        "E:\\Data\\WangKun@Mattijn\\outfolder\\t03//t20110327_03.tif"
       ]
      },
      {
       "output_type": "stream",
       "stream": "stdout",
       "text": [
        "\n",
        "E:\\Data\\WangKun@Mattijn\\outfolder\\t03//t20110328_03.tif"
       ]
      },
      {
       "output_type": "stream",
       "stream": "stdout",
       "text": [
        "\n",
        "E:\\Data\\WangKun@Mattijn\\outfolder\\t03//t20110329_03.tif"
       ]
      },
      {
       "output_type": "stream",
       "stream": "stdout",
       "text": [
        "\n",
        "E:\\Data\\WangKun@Mattijn\\outfolder\\t03//t20110330_03.tif"
       ]
      },
      {
       "output_type": "stream",
       "stream": "stdout",
       "text": [
        "\n",
        "E:\\Data\\WangKun@Mattijn\\outfolder\\t03//t20110331_03.tif"
       ]
      },
      {
       "output_type": "stream",
       "stream": "stdout",
       "text": [
        "\n",
        "E:\\Data\\WangKun@Mattijn\\outfolder\\t03//t20110301_04.tif"
       ]
      },
      {
       "output_type": "stream",
       "stream": "stdout",
       "text": [
        "\n",
        "E:\\Data\\WangKun@Mattijn\\outfolder\\t03//t20110302_04.tif"
       ]
      },
      {
       "output_type": "stream",
       "stream": "stdout",
       "text": [
        "\n",
        "E:\\Data\\WangKun@Mattijn\\outfolder\\t03//t20110303_04.tif"
       ]
      },
      {
       "output_type": "stream",
       "stream": "stdout",
       "text": [
        "\n",
        "E:\\Data\\WangKun@Mattijn\\outfolder\\t03//t20110304_04.tif"
       ]
      },
      {
       "output_type": "stream",
       "stream": "stdout",
       "text": [
        "\n",
        "E:\\Data\\WangKun@Mattijn\\outfolder\\t03//t20110305_04.tif"
       ]
      },
      {
       "output_type": "stream",
       "stream": "stdout",
       "text": [
        "\n",
        "E:\\Data\\WangKun@Mattijn\\outfolder\\t03//t20110306_04.tif"
       ]
      },
      {
       "output_type": "stream",
       "stream": "stdout",
       "text": [
        "\n",
        "E:\\Data\\WangKun@Mattijn\\outfolder\\t03//t20110307_04.tif"
       ]
      },
      {
       "output_type": "stream",
       "stream": "stdout",
       "text": [
        "\n",
        "E:\\Data\\WangKun@Mattijn\\outfolder\\t03//t20110308_04.tif"
       ]
      },
      {
       "output_type": "stream",
       "stream": "stdout",
       "text": [
        "\n",
        "E:\\Data\\WangKun@Mattijn\\outfolder\\t03//t20110309_04.tif"
       ]
      },
      {
       "output_type": "stream",
       "stream": "stdout",
       "text": [
        "\n",
        "E:\\Data\\WangKun@Mattijn\\outfolder\\t03//t20110310_04.tif"
       ]
      },
      {
       "output_type": "stream",
       "stream": "stdout",
       "text": [
        "\n",
        "E:\\Data\\WangKun@Mattijn\\outfolder\\t03//t20110311_04.tif"
       ]
      },
      {
       "output_type": "stream",
       "stream": "stdout",
       "text": [
        "\n",
        "E:\\Data\\WangKun@Mattijn\\outfolder\\t03//t20110312_04.tif"
       ]
      },
      {
       "output_type": "stream",
       "stream": "stdout",
       "text": [
        "\n",
        "E:\\Data\\WangKun@Mattijn\\outfolder\\t03//t20110313_04.tif"
       ]
      },
      {
       "output_type": "stream",
       "stream": "stdout",
       "text": [
        "\n",
        "E:\\Data\\WangKun@Mattijn\\outfolder\\t03//t20110314_04.tif"
       ]
      },
      {
       "output_type": "stream",
       "stream": "stdout",
       "text": [
        "\n",
        "E:\\Data\\WangKun@Mattijn\\outfolder\\t03//t20110315_04.tif"
       ]
      },
      {
       "output_type": "stream",
       "stream": "stdout",
       "text": [
        "\n",
        "E:\\Data\\WangKun@Mattijn\\outfolder\\t03//t20110316_04.tif"
       ]
      },
      {
       "output_type": "stream",
       "stream": "stdout",
       "text": [
        "\n",
        "E:\\Data\\WangKun@Mattijn\\outfolder\\t03//t20110317_04.tif"
       ]
      },
      {
       "output_type": "stream",
       "stream": "stdout",
       "text": [
        "\n",
        "E:\\Data\\WangKun@Mattijn\\outfolder\\t03//t20110318_04.tif"
       ]
      },
      {
       "output_type": "stream",
       "stream": "stdout",
       "text": [
        "\n",
        "E:\\Data\\WangKun@Mattijn\\outfolder\\t03//t20110319_04.tif"
       ]
      },
      {
       "output_type": "stream",
       "stream": "stdout",
       "text": [
        "\n",
        "E:\\Data\\WangKun@Mattijn\\outfolder\\t03//t20110320_04.tif"
       ]
      },
      {
       "output_type": "stream",
       "stream": "stdout",
       "text": [
        "\n",
        "E:\\Data\\WangKun@Mattijn\\outfolder\\t03//t20110321_04.tif"
       ]
      },
      {
       "output_type": "stream",
       "stream": "stdout",
       "text": [
        "\n",
        "E:\\Data\\WangKun@Mattijn\\outfolder\\t03//t20110322_04.tif"
       ]
      },
      {
       "output_type": "stream",
       "stream": "stdout",
       "text": [
        "\n",
        "E:\\Data\\WangKun@Mattijn\\outfolder\\t03//t20110323_04.tif"
       ]
      },
      {
       "output_type": "stream",
       "stream": "stdout",
       "text": [
        "\n",
        "E:\\Data\\WangKun@Mattijn\\outfolder\\t03//t20110324_04.tif"
       ]
      },
      {
       "output_type": "stream",
       "stream": "stdout",
       "text": [
        "\n",
        "E:\\Data\\WangKun@Mattijn\\outfolder\\t03//t20110325_04.tif"
       ]
      },
      {
       "output_type": "stream",
       "stream": "stdout",
       "text": [
        "\n",
        "E:\\Data\\WangKun@Mattijn\\outfolder\\t03//t20110326_04.tif"
       ]
      },
      {
       "output_type": "stream",
       "stream": "stdout",
       "text": [
        "\n",
        "E:\\Data\\WangKun@Mattijn\\outfolder\\t03//t20110327_04.tif"
       ]
      },
      {
       "output_type": "stream",
       "stream": "stdout",
       "text": [
        "\n",
        "E:\\Data\\WangKun@Mattijn\\outfolder\\t03//t20110328_04.tif"
       ]
      },
      {
       "output_type": "stream",
       "stream": "stdout",
       "text": [
        "\n",
        "E:\\Data\\WangKun@Mattijn\\outfolder\\t03//t20110329_04.tif"
       ]
      },
      {
       "output_type": "stream",
       "stream": "stdout",
       "text": [
        "\n",
        "E:\\Data\\WangKun@Mattijn\\outfolder\\t03//t20110330_04.tif"
       ]
      },
      {
       "output_type": "stream",
       "stream": "stdout",
       "text": [
        "\n",
        "E:\\Data\\WangKun@Mattijn\\outfolder\\t03//t20110331_04.tif"
       ]
      },
      {
       "output_type": "stream",
       "stream": "stdout",
       "text": [
        "\n",
        "E:\\Data\\WangKun@Mattijn\\outfolder\\t03//t20110301_05.tif"
       ]
      },
      {
       "output_type": "stream",
       "stream": "stdout",
       "text": [
        "\n",
        "E:\\Data\\WangKun@Mattijn\\outfolder\\t03//t20110302_05.tif"
       ]
      },
      {
       "output_type": "stream",
       "stream": "stdout",
       "text": [
        "\n",
        "E:\\Data\\WangKun@Mattijn\\outfolder\\t03//t20110303_05.tif"
       ]
      },
      {
       "output_type": "stream",
       "stream": "stdout",
       "text": [
        "\n",
        "E:\\Data\\WangKun@Mattijn\\outfolder\\t03//t20110304_05.tif"
       ]
      },
      {
       "output_type": "stream",
       "stream": "stdout",
       "text": [
        "\n",
        "E:\\Data\\WangKun@Mattijn\\outfolder\\t03//t20110305_05.tif"
       ]
      },
      {
       "output_type": "stream",
       "stream": "stdout",
       "text": [
        "\n",
        "E:\\Data\\WangKun@Mattijn\\outfolder\\t03//t20110306_05.tif"
       ]
      },
      {
       "output_type": "stream",
       "stream": "stdout",
       "text": [
        "\n",
        "E:\\Data\\WangKun@Mattijn\\outfolder\\t03//t20110307_05.tif"
       ]
      },
      {
       "output_type": "stream",
       "stream": "stdout",
       "text": [
        "\n",
        "E:\\Data\\WangKun@Mattijn\\outfolder\\t03//t20110308_05.tif"
       ]
      },
      {
       "output_type": "stream",
       "stream": "stdout",
       "text": [
        "\n",
        "E:\\Data\\WangKun@Mattijn\\outfolder\\t03//t20110309_05.tif"
       ]
      },
      {
       "output_type": "stream",
       "stream": "stdout",
       "text": [
        "\n",
        "E:\\Data\\WangKun@Mattijn\\outfolder\\t03//t20110310_05.tif"
       ]
      },
      {
       "output_type": "stream",
       "stream": "stdout",
       "text": [
        "\n",
        "E:\\Data\\WangKun@Mattijn\\outfolder\\t03//t20110311_05.tif"
       ]
      },
      {
       "output_type": "stream",
       "stream": "stdout",
       "text": [
        "\n",
        "E:\\Data\\WangKun@Mattijn\\outfolder\\t03//t20110312_05.tif"
       ]
      },
      {
       "output_type": "stream",
       "stream": "stdout",
       "text": [
        "\n",
        "E:\\Data\\WangKun@Mattijn\\outfolder\\t03//t20110313_05.tif"
       ]
      },
      {
       "output_type": "stream",
       "stream": "stdout",
       "text": [
        "\n",
        "E:\\Data\\WangKun@Mattijn\\outfolder\\t03//t20110314_05.tif"
       ]
      },
      {
       "output_type": "stream",
       "stream": "stdout",
       "text": [
        "\n",
        "E:\\Data\\WangKun@Mattijn\\outfolder\\t03//t20110315_05.tif"
       ]
      },
      {
       "output_type": "stream",
       "stream": "stdout",
       "text": [
        "\n",
        "E:\\Data\\WangKun@Mattijn\\outfolder\\t03//t20110316_05.tif"
       ]
      },
      {
       "output_type": "stream",
       "stream": "stdout",
       "text": [
        "\n",
        "E:\\Data\\WangKun@Mattijn\\outfolder\\t03//t20110317_05.tif"
       ]
      },
      {
       "output_type": "stream",
       "stream": "stdout",
       "text": [
        "\n",
        "E:\\Data\\WangKun@Mattijn\\outfolder\\t03//t20110318_05.tif"
       ]
      },
      {
       "output_type": "stream",
       "stream": "stdout",
       "text": [
        "\n",
        "E:\\Data\\WangKun@Mattijn\\outfolder\\t03//t20110319_05.tif"
       ]
      },
      {
       "output_type": "stream",
       "stream": "stdout",
       "text": [
        "\n",
        "E:\\Data\\WangKun@Mattijn\\outfolder\\t03//t20110320_05.tif"
       ]
      },
      {
       "output_type": "stream",
       "stream": "stdout",
       "text": [
        "\n",
        "E:\\Data\\WangKun@Mattijn\\outfolder\\t03//t20110321_05.tif"
       ]
      },
      {
       "output_type": "stream",
       "stream": "stdout",
       "text": [
        "\n",
        "E:\\Data\\WangKun@Mattijn\\outfolder\\t03//t20110322_05.tif"
       ]
      },
      {
       "output_type": "stream",
       "stream": "stdout",
       "text": [
        "\n",
        "E:\\Data\\WangKun@Mattijn\\outfolder\\t03//t20110323_05.tif"
       ]
      },
      {
       "output_type": "stream",
       "stream": "stdout",
       "text": [
        "\n",
        "E:\\Data\\WangKun@Mattijn\\outfolder\\t03//t20110324_05.tif"
       ]
      },
      {
       "output_type": "stream",
       "stream": "stdout",
       "text": [
        "\n",
        "E:\\Data\\WangKun@Mattijn\\outfolder\\t03//t20110325_05.tif"
       ]
      },
      {
       "output_type": "stream",
       "stream": "stdout",
       "text": [
        "\n",
        "E:\\Data\\WangKun@Mattijn\\outfolder\\t03//t20110326_05.tif"
       ]
      },
      {
       "output_type": "stream",
       "stream": "stdout",
       "text": [
        "\n",
        "E:\\Data\\WangKun@Mattijn\\outfolder\\t03//t20110327_05.tif"
       ]
      },
      {
       "output_type": "stream",
       "stream": "stdout",
       "text": [
        "\n",
        "E:\\Data\\WangKun@Mattijn\\outfolder\\t03//t20110328_05.tif"
       ]
      },
      {
       "output_type": "stream",
       "stream": "stdout",
       "text": [
        "\n",
        "E:\\Data\\WangKun@Mattijn\\outfolder\\t03//t20110329_05.tif"
       ]
      },
      {
       "output_type": "stream",
       "stream": "stdout",
       "text": [
        "\n",
        "E:\\Data\\WangKun@Mattijn\\outfolder\\t03//t20110330_05.tif"
       ]
      },
      {
       "output_type": "stream",
       "stream": "stdout",
       "text": [
        "\n",
        "E:\\Data\\WangKun@Mattijn\\outfolder\\t03//t20110331_05.tif"
       ]
      },
      {
       "output_type": "stream",
       "stream": "stdout",
       "text": [
        "\n",
        "E:\\Data\\WangKun@Mattijn\\outfolder\\t03//t20110301_06.tif"
       ]
      },
      {
       "output_type": "stream",
       "stream": "stdout",
       "text": [
        "\n",
        "E:\\Data\\WangKun@Mattijn\\outfolder\\t03//t20110302_06.tif"
       ]
      },
      {
       "output_type": "stream",
       "stream": "stdout",
       "text": [
        "\n",
        "E:\\Data\\WangKun@Mattijn\\outfolder\\t03//t20110303_06.tif"
       ]
      },
      {
       "output_type": "stream",
       "stream": "stdout",
       "text": [
        "\n",
        "E:\\Data\\WangKun@Mattijn\\outfolder\\t03//t20110304_06.tif"
       ]
      },
      {
       "output_type": "stream",
       "stream": "stdout",
       "text": [
        "\n",
        "E:\\Data\\WangKun@Mattijn\\outfolder\\t03//t20110305_06.tif"
       ]
      },
      {
       "output_type": "stream",
       "stream": "stdout",
       "text": [
        "\n",
        "E:\\Data\\WangKun@Mattijn\\outfolder\\t03//t20110306_06.tif"
       ]
      },
      {
       "output_type": "stream",
       "stream": "stdout",
       "text": [
        "\n",
        "E:\\Data\\WangKun@Mattijn\\outfolder\\t03//t20110307_06.tif"
       ]
      },
      {
       "output_type": "stream",
       "stream": "stdout",
       "text": [
        "\n",
        "E:\\Data\\WangKun@Mattijn\\outfolder\\t03//t20110308_06.tif"
       ]
      },
      {
       "output_type": "stream",
       "stream": "stdout",
       "text": [
        "\n",
        "E:\\Data\\WangKun@Mattijn\\outfolder\\t03//t20110309_06.tif"
       ]
      },
      {
       "output_type": "stream",
       "stream": "stdout",
       "text": [
        "\n",
        "E:\\Data\\WangKun@Mattijn\\outfolder\\t03//t20110310_06.tif"
       ]
      },
      {
       "output_type": "stream",
       "stream": "stdout",
       "text": [
        "\n",
        "E:\\Data\\WangKun@Mattijn\\outfolder\\t03//t20110311_06.tif"
       ]
      },
      {
       "output_type": "stream",
       "stream": "stdout",
       "text": [
        "\n",
        "E:\\Data\\WangKun@Mattijn\\outfolder\\t03//t20110312_06.tif"
       ]
      },
      {
       "output_type": "stream",
       "stream": "stdout",
       "text": [
        "\n",
        "E:\\Data\\WangKun@Mattijn\\outfolder\\t03//t20110313_06.tif"
       ]
      },
      {
       "output_type": "stream",
       "stream": "stdout",
       "text": [
        "\n",
        "E:\\Data\\WangKun@Mattijn\\outfolder\\t03//t20110314_06.tif"
       ]
      },
      {
       "output_type": "stream",
       "stream": "stdout",
       "text": [
        "\n",
        "E:\\Data\\WangKun@Mattijn\\outfolder\\t03//t20110315_06.tif"
       ]
      },
      {
       "output_type": "stream",
       "stream": "stdout",
       "text": [
        "\n",
        "E:\\Data\\WangKun@Mattijn\\outfolder\\t03//t20110316_06.tif"
       ]
      },
      {
       "output_type": "stream",
       "stream": "stdout",
       "text": [
        "\n",
        "E:\\Data\\WangKun@Mattijn\\outfolder\\t03//t20110317_06.tif"
       ]
      },
      {
       "output_type": "stream",
       "stream": "stdout",
       "text": [
        "\n",
        "E:\\Data\\WangKun@Mattijn\\outfolder\\t03//t20110318_06.tif"
       ]
      },
      {
       "output_type": "stream",
       "stream": "stdout",
       "text": [
        "\n",
        "E:\\Data\\WangKun@Mattijn\\outfolder\\t03//t20110319_06.tif"
       ]
      },
      {
       "output_type": "stream",
       "stream": "stdout",
       "text": [
        "\n",
        "E:\\Data\\WangKun@Mattijn\\outfolder\\t03//t20110320_06.tif"
       ]
      },
      {
       "output_type": "stream",
       "stream": "stdout",
       "text": [
        "\n",
        "E:\\Data\\WangKun@Mattijn\\outfolder\\t03//t20110321_06.tif"
       ]
      },
      {
       "output_type": "stream",
       "stream": "stdout",
       "text": [
        "\n",
        "E:\\Data\\WangKun@Mattijn\\outfolder\\t03//t20110322_06.tif"
       ]
      },
      {
       "output_type": "stream",
       "stream": "stdout",
       "text": [
        "\n",
        "E:\\Data\\WangKun@Mattijn\\outfolder\\t03//t20110323_06.tif"
       ]
      },
      {
       "output_type": "stream",
       "stream": "stdout",
       "text": [
        "\n",
        "E:\\Data\\WangKun@Mattijn\\outfolder\\t03//t20110324_06.tif"
       ]
      },
      {
       "output_type": "stream",
       "stream": "stdout",
       "text": [
        "\n",
        "E:\\Data\\WangKun@Mattijn\\outfolder\\t03//t20110325_06.tif"
       ]
      },
      {
       "output_type": "stream",
       "stream": "stdout",
       "text": [
        "\n",
        "E:\\Data\\WangKun@Mattijn\\outfolder\\t03//t20110326_06.tif"
       ]
      },
      {
       "output_type": "stream",
       "stream": "stdout",
       "text": [
        "\n",
        "E:\\Data\\WangKun@Mattijn\\outfolder\\t03//t20110327_06.tif"
       ]
      },
      {
       "output_type": "stream",
       "stream": "stdout",
       "text": [
        "\n",
        "E:\\Data\\WangKun@Mattijn\\outfolder\\t03//t20110328_06.tif"
       ]
      },
      {
       "output_type": "stream",
       "stream": "stdout",
       "text": [
        "\n",
        "E:\\Data\\WangKun@Mattijn\\outfolder\\t03//t20110329_06.tif"
       ]
      },
      {
       "output_type": "stream",
       "stream": "stdout",
       "text": [
        "\n",
        "E:\\Data\\WangKun@Mattijn\\outfolder\\t03//t20110330_06.tif"
       ]
      },
      {
       "output_type": "stream",
       "stream": "stdout",
       "text": [
        "\n",
        "E:\\Data\\WangKun@Mattijn\\outfolder\\t03//t20110331_06.tif"
       ]
      },
      {
       "output_type": "stream",
       "stream": "stdout",
       "text": [
        "\n",
        "E:\\Data\\WangKun@Mattijn\\outfolder\\t03//t20110301_07.tif"
       ]
      },
      {
       "output_type": "stream",
       "stream": "stdout",
       "text": [
        "\n",
        "E:\\Data\\WangKun@Mattijn\\outfolder\\t03//t20110302_07.tif"
       ]
      },
      {
       "output_type": "stream",
       "stream": "stdout",
       "text": [
        "\n",
        "E:\\Data\\WangKun@Mattijn\\outfolder\\t03//t20110303_07.tif"
       ]
      },
      {
       "output_type": "stream",
       "stream": "stdout",
       "text": [
        "\n",
        "E:\\Data\\WangKun@Mattijn\\outfolder\\t03//t20110304_07.tif"
       ]
      },
      {
       "output_type": "stream",
       "stream": "stdout",
       "text": [
        "\n",
        "E:\\Data\\WangKun@Mattijn\\outfolder\\t03//t20110305_07.tif"
       ]
      },
      {
       "output_type": "stream",
       "stream": "stdout",
       "text": [
        "\n",
        "E:\\Data\\WangKun@Mattijn\\outfolder\\t03//t20110306_07.tif"
       ]
      },
      {
       "output_type": "stream",
       "stream": "stdout",
       "text": [
        "\n",
        "E:\\Data\\WangKun@Mattijn\\outfolder\\t03//t20110307_07.tif"
       ]
      },
      {
       "output_type": "stream",
       "stream": "stdout",
       "text": [
        "\n",
        "E:\\Data\\WangKun@Mattijn\\outfolder\\t03//t20110308_07.tif"
       ]
      },
      {
       "output_type": "stream",
       "stream": "stdout",
       "text": [
        "\n",
        "E:\\Data\\WangKun@Mattijn\\outfolder\\t03//t20110309_07.tif"
       ]
      },
      {
       "output_type": "stream",
       "stream": "stdout",
       "text": [
        "\n",
        "E:\\Data\\WangKun@Mattijn\\outfolder\\t03//t20110310_07.tif"
       ]
      },
      {
       "output_type": "stream",
       "stream": "stdout",
       "text": [
        "\n",
        "E:\\Data\\WangKun@Mattijn\\outfolder\\t03//t20110311_07.tif"
       ]
      },
      {
       "output_type": "stream",
       "stream": "stdout",
       "text": [
        "\n",
        "E:\\Data\\WangKun@Mattijn\\outfolder\\t03//t20110312_07.tif"
       ]
      },
      {
       "output_type": "stream",
       "stream": "stdout",
       "text": [
        "\n",
        "E:\\Data\\WangKun@Mattijn\\outfolder\\t03//t20110313_07.tif"
       ]
      },
      {
       "output_type": "stream",
       "stream": "stdout",
       "text": [
        "\n",
        "E:\\Data\\WangKun@Mattijn\\outfolder\\t03//t20110314_07.tif"
       ]
      },
      {
       "output_type": "stream",
       "stream": "stdout",
       "text": [
        "\n",
        "E:\\Data\\WangKun@Mattijn\\outfolder\\t03//t20110315_07.tif"
       ]
      },
      {
       "output_type": "stream",
       "stream": "stdout",
       "text": [
        "\n",
        "E:\\Data\\WangKun@Mattijn\\outfolder\\t03//t20110316_07.tif"
       ]
      },
      {
       "output_type": "stream",
       "stream": "stdout",
       "text": [
        "\n",
        "E:\\Data\\WangKun@Mattijn\\outfolder\\t03//t20110317_07.tif"
       ]
      },
      {
       "output_type": "stream",
       "stream": "stdout",
       "text": [
        "\n",
        "E:\\Data\\WangKun@Mattijn\\outfolder\\t03//t20110318_07.tif"
       ]
      },
      {
       "output_type": "stream",
       "stream": "stdout",
       "text": [
        "\n",
        "E:\\Data\\WangKun@Mattijn\\outfolder\\t03//t20110319_07.tif"
       ]
      },
      {
       "output_type": "stream",
       "stream": "stdout",
       "text": [
        "\n",
        "E:\\Data\\WangKun@Mattijn\\outfolder\\t03//t20110320_07.tif"
       ]
      },
      {
       "output_type": "stream",
       "stream": "stdout",
       "text": [
        "\n",
        "E:\\Data\\WangKun@Mattijn\\outfolder\\t03//t20110321_07.tif"
       ]
      },
      {
       "output_type": "stream",
       "stream": "stdout",
       "text": [
        "\n",
        "E:\\Data\\WangKun@Mattijn\\outfolder\\t03//t20110322_07.tif"
       ]
      },
      {
       "output_type": "stream",
       "stream": "stdout",
       "text": [
        "\n",
        "E:\\Data\\WangKun@Mattijn\\outfolder\\t03//t20110323_07.tif"
       ]
      },
      {
       "output_type": "stream",
       "stream": "stdout",
       "text": [
        "\n",
        "E:\\Data\\WangKun@Mattijn\\outfolder\\t03//t20110324_07.tif"
       ]
      },
      {
       "output_type": "stream",
       "stream": "stdout",
       "text": [
        "\n",
        "E:\\Data\\WangKun@Mattijn\\outfolder\\t03//t20110325_07.tif"
       ]
      },
      {
       "output_type": "stream",
       "stream": "stdout",
       "text": [
        "\n",
        "E:\\Data\\WangKun@Mattijn\\outfolder\\t03//t20110326_07.tif"
       ]
      },
      {
       "output_type": "stream",
       "stream": "stdout",
       "text": [
        "\n",
        "E:\\Data\\WangKun@Mattijn\\outfolder\\t03//t20110327_07.tif"
       ]
      },
      {
       "output_type": "stream",
       "stream": "stdout",
       "text": [
        "\n",
        "E:\\Data\\WangKun@Mattijn\\outfolder\\t03//t20110328_07.tif"
       ]
      },
      {
       "output_type": "stream",
       "stream": "stdout",
       "text": [
        "\n",
        "E:\\Data\\WangKun@Mattijn\\outfolder\\t03//t20110329_07.tif"
       ]
      },
      {
       "output_type": "stream",
       "stream": "stdout",
       "text": [
        "\n",
        "E:\\Data\\WangKun@Mattijn\\outfolder\\t03//t20110330_07.tif"
       ]
      },
      {
       "output_type": "stream",
       "stream": "stdout",
       "text": [
        "\n",
        "E:\\Data\\WangKun@Mattijn\\outfolder\\t03//t20110331_07.tif"
       ]
      },
      {
       "output_type": "stream",
       "stream": "stdout",
       "text": [
        "\n",
        "E:\\Data\\WangKun@Mattijn\\outfolder\\t03//t20110301_08.tif"
       ]
      },
      {
       "output_type": "stream",
       "stream": "stdout",
       "text": [
        "\n",
        "E:\\Data\\WangKun@Mattijn\\outfolder\\t03//t20110302_08.tif"
       ]
      },
      {
       "output_type": "stream",
       "stream": "stdout",
       "text": [
        "\n",
        "E:\\Data\\WangKun@Mattijn\\outfolder\\t03//t20110303_08.tif"
       ]
      },
      {
       "output_type": "stream",
       "stream": "stdout",
       "text": [
        "\n",
        "E:\\Data\\WangKun@Mattijn\\outfolder\\t03//t20110304_08.tif"
       ]
      },
      {
       "output_type": "stream",
       "stream": "stdout",
       "text": [
        "\n",
        "E:\\Data\\WangKun@Mattijn\\outfolder\\t03//t20110305_08.tif"
       ]
      },
      {
       "output_type": "stream",
       "stream": "stdout",
       "text": [
        "\n",
        "E:\\Data\\WangKun@Mattijn\\outfolder\\t03//t20110306_08.tif"
       ]
      },
      {
       "output_type": "stream",
       "stream": "stdout",
       "text": [
        "\n",
        "E:\\Data\\WangKun@Mattijn\\outfolder\\t03//t20110307_08.tif"
       ]
      },
      {
       "output_type": "stream",
       "stream": "stdout",
       "text": [
        "\n",
        "E:\\Data\\WangKun@Mattijn\\outfolder\\t03//t20110308_08.tif"
       ]
      },
      {
       "output_type": "stream",
       "stream": "stdout",
       "text": [
        "\n",
        "E:\\Data\\WangKun@Mattijn\\outfolder\\t03//t20110309_08.tif"
       ]
      },
      {
       "output_type": "stream",
       "stream": "stdout",
       "text": [
        "\n",
        "E:\\Data\\WangKun@Mattijn\\outfolder\\t03//t20110310_08.tif"
       ]
      },
      {
       "output_type": "stream",
       "stream": "stdout",
       "text": [
        "\n",
        "E:\\Data\\WangKun@Mattijn\\outfolder\\t03//t20110311_08.tif"
       ]
      },
      {
       "output_type": "stream",
       "stream": "stdout",
       "text": [
        "\n",
        "E:\\Data\\WangKun@Mattijn\\outfolder\\t03//t20110312_08.tif"
       ]
      },
      {
       "output_type": "stream",
       "stream": "stdout",
       "text": [
        "\n",
        "E:\\Data\\WangKun@Mattijn\\outfolder\\t03//t20110313_08.tif"
       ]
      },
      {
       "output_type": "stream",
       "stream": "stdout",
       "text": [
        "\n",
        "E:\\Data\\WangKun@Mattijn\\outfolder\\t03//t20110314_08.tif"
       ]
      },
      {
       "output_type": "stream",
       "stream": "stdout",
       "text": [
        "\n",
        "E:\\Data\\WangKun@Mattijn\\outfolder\\t03//t20110315_08.tif"
       ]
      },
      {
       "output_type": "stream",
       "stream": "stdout",
       "text": [
        "\n",
        "E:\\Data\\WangKun@Mattijn\\outfolder\\t03//t20110316_08.tif"
       ]
      },
      {
       "output_type": "stream",
       "stream": "stdout",
       "text": [
        "\n",
        "E:\\Data\\WangKun@Mattijn\\outfolder\\t03//t20110317_08.tif"
       ]
      },
      {
       "output_type": "stream",
       "stream": "stdout",
       "text": [
        "\n",
        "E:\\Data\\WangKun@Mattijn\\outfolder\\t03//t20110318_08.tif"
       ]
      },
      {
       "output_type": "stream",
       "stream": "stdout",
       "text": [
        "\n",
        "E:\\Data\\WangKun@Mattijn\\outfolder\\t03//t20110319_08.tif"
       ]
      },
      {
       "output_type": "stream",
       "stream": "stdout",
       "text": [
        "\n",
        "E:\\Data\\WangKun@Mattijn\\outfolder\\t03//t20110320_08.tif"
       ]
      },
      {
       "output_type": "stream",
       "stream": "stdout",
       "text": [
        "\n",
        "E:\\Data\\WangKun@Mattijn\\outfolder\\t03//t20110321_08.tif"
       ]
      },
      {
       "output_type": "stream",
       "stream": "stdout",
       "text": [
        "\n",
        "E:\\Data\\WangKun@Mattijn\\outfolder\\t03//t20110322_08.tif"
       ]
      },
      {
       "output_type": "stream",
       "stream": "stdout",
       "text": [
        "\n",
        "E:\\Data\\WangKun@Mattijn\\outfolder\\t03//t20110323_08.tif"
       ]
      },
      {
       "output_type": "stream",
       "stream": "stdout",
       "text": [
        "\n",
        "E:\\Data\\WangKun@Mattijn\\outfolder\\t03//t20110324_08.tif"
       ]
      },
      {
       "output_type": "stream",
       "stream": "stdout",
       "text": [
        "\n",
        "E:\\Data\\WangKun@Mattijn\\outfolder\\t03//t20110325_08.tif"
       ]
      },
      {
       "output_type": "stream",
       "stream": "stdout",
       "text": [
        "\n",
        "E:\\Data\\WangKun@Mattijn\\outfolder\\t03//t20110326_08.tif"
       ]
      },
      {
       "output_type": "stream",
       "stream": "stdout",
       "text": [
        "\n",
        "E:\\Data\\WangKun@Mattijn\\outfolder\\t03//t20110327_08.tif"
       ]
      },
      {
       "output_type": "stream",
       "stream": "stdout",
       "text": [
        "\n",
        "E:\\Data\\WangKun@Mattijn\\outfolder\\t03//t20110328_08.tif"
       ]
      },
      {
       "output_type": "stream",
       "stream": "stdout",
       "text": [
        "\n",
        "E:\\Data\\WangKun@Mattijn\\outfolder\\t03//t20110329_08.tif"
       ]
      },
      {
       "output_type": "stream",
       "stream": "stdout",
       "text": [
        "\n",
        "E:\\Data\\WangKun@Mattijn\\outfolder\\t03//t20110330_08.tif"
       ]
      },
      {
       "output_type": "stream",
       "stream": "stdout",
       "text": [
        "\n",
        "E:\\Data\\WangKun@Mattijn\\outfolder\\t03//t20110331_08.tif"
       ]
      },
      {
       "output_type": "stream",
       "stream": "stdout",
       "text": [
        "\n",
        "E:\\Data\\WangKun@Mattijn\\outfolder\\t03//t20110301_09.tif"
       ]
      },
      {
       "output_type": "stream",
       "stream": "stdout",
       "text": [
        "\n",
        "E:\\Data\\WangKun@Mattijn\\outfolder\\t03//t20110302_09.tif"
       ]
      },
      {
       "output_type": "stream",
       "stream": "stdout",
       "text": [
        "\n",
        "E:\\Data\\WangKun@Mattijn\\outfolder\\t03//t20110303_09.tif"
       ]
      },
      {
       "output_type": "stream",
       "stream": "stdout",
       "text": [
        "\n",
        "E:\\Data\\WangKun@Mattijn\\outfolder\\t03//t20110304_09.tif"
       ]
      },
      {
       "output_type": "stream",
       "stream": "stdout",
       "text": [
        "\n",
        "E:\\Data\\WangKun@Mattijn\\outfolder\\t03//t20110305_09.tif"
       ]
      },
      {
       "output_type": "stream",
       "stream": "stdout",
       "text": [
        "\n",
        "E:\\Data\\WangKun@Mattijn\\outfolder\\t03//t20110306_09.tif"
       ]
      },
      {
       "output_type": "stream",
       "stream": "stdout",
       "text": [
        "\n",
        "E:\\Data\\WangKun@Mattijn\\outfolder\\t03//t20110307_09.tif"
       ]
      },
      {
       "output_type": "stream",
       "stream": "stdout",
       "text": [
        "\n",
        "E:\\Data\\WangKun@Mattijn\\outfolder\\t03//t20110308_09.tif"
       ]
      },
      {
       "output_type": "stream",
       "stream": "stdout",
       "text": [
        "\n",
        "E:\\Data\\WangKun@Mattijn\\outfolder\\t03//t20110309_09.tif"
       ]
      },
      {
       "output_type": "stream",
       "stream": "stdout",
       "text": [
        "\n",
        "E:\\Data\\WangKun@Mattijn\\outfolder\\t03//t20110310_09.tif"
       ]
      },
      {
       "output_type": "stream",
       "stream": "stdout",
       "text": [
        "\n",
        "E:\\Data\\WangKun@Mattijn\\outfolder\\t03//t20110311_09.tif"
       ]
      },
      {
       "output_type": "stream",
       "stream": "stdout",
       "text": [
        "\n",
        "E:\\Data\\WangKun@Mattijn\\outfolder\\t03//t20110312_09.tif"
       ]
      },
      {
       "output_type": "stream",
       "stream": "stdout",
       "text": [
        "\n",
        "E:\\Data\\WangKun@Mattijn\\outfolder\\t03//t20110313_09.tif"
       ]
      },
      {
       "output_type": "stream",
       "stream": "stdout",
       "text": [
        "\n",
        "E:\\Data\\WangKun@Mattijn\\outfolder\\t03//t20110314_09.tif"
       ]
      },
      {
       "output_type": "stream",
       "stream": "stdout",
       "text": [
        "\n",
        "E:\\Data\\WangKun@Mattijn\\outfolder\\t03//t20110315_09.tif"
       ]
      },
      {
       "output_type": "stream",
       "stream": "stdout",
       "text": [
        "\n",
        "E:\\Data\\WangKun@Mattijn\\outfolder\\t03//t20110316_09.tif"
       ]
      },
      {
       "output_type": "stream",
       "stream": "stdout",
       "text": [
        "\n",
        "E:\\Data\\WangKun@Mattijn\\outfolder\\t03//t20110317_09.tif"
       ]
      },
      {
       "output_type": "stream",
       "stream": "stdout",
       "text": [
        "\n",
        "E:\\Data\\WangKun@Mattijn\\outfolder\\t03//t20110318_09.tif"
       ]
      },
      {
       "output_type": "stream",
       "stream": "stdout",
       "text": [
        "\n",
        "E:\\Data\\WangKun@Mattijn\\outfolder\\t03//t20110319_09.tif"
       ]
      },
      {
       "output_type": "stream",
       "stream": "stdout",
       "text": [
        "\n",
        "E:\\Data\\WangKun@Mattijn\\outfolder\\t03//t20110320_09.tif"
       ]
      },
      {
       "output_type": "stream",
       "stream": "stdout",
       "text": [
        "\n",
        "E:\\Data\\WangKun@Mattijn\\outfolder\\t03//t20110321_09.tif"
       ]
      },
      {
       "output_type": "stream",
       "stream": "stdout",
       "text": [
        "\n",
        "E:\\Data\\WangKun@Mattijn\\outfolder\\t03//t20110322_09.tif"
       ]
      },
      {
       "output_type": "stream",
       "stream": "stdout",
       "text": [
        "\n",
        "E:\\Data\\WangKun@Mattijn\\outfolder\\t03//t20110323_09.tif"
       ]
      },
      {
       "output_type": "stream",
       "stream": "stdout",
       "text": [
        "\n",
        "E:\\Data\\WangKun@Mattijn\\outfolder\\t03//t20110324_09.tif"
       ]
      },
      {
       "output_type": "stream",
       "stream": "stdout",
       "text": [
        "\n",
        "E:\\Data\\WangKun@Mattijn\\outfolder\\t03//t20110325_09.tif"
       ]
      },
      {
       "output_type": "stream",
       "stream": "stdout",
       "text": [
        "\n",
        "E:\\Data\\WangKun@Mattijn\\outfolder\\t03//t20110326_09.tif"
       ]
      },
      {
       "output_type": "stream",
       "stream": "stdout",
       "text": [
        "\n",
        "E:\\Data\\WangKun@Mattijn\\outfolder\\t03//t20110327_09.tif"
       ]
      },
      {
       "output_type": "stream",
       "stream": "stdout",
       "text": [
        "\n",
        "E:\\Data\\WangKun@Mattijn\\outfolder\\t03//t20110328_09.tif"
       ]
      },
      {
       "output_type": "stream",
       "stream": "stdout",
       "text": [
        "\n",
        "E:\\Data\\WangKun@Mattijn\\outfolder\\t03//t20110329_09.tif"
       ]
      },
      {
       "output_type": "stream",
       "stream": "stdout",
       "text": [
        "\n",
        "E:\\Data\\WangKun@Mattijn\\outfolder\\t03//t20110330_09.tif"
       ]
      },
      {
       "output_type": "stream",
       "stream": "stdout",
       "text": [
        "\n",
        "E:\\Data\\WangKun@Mattijn\\outfolder\\t03//t20110331_09.tif"
       ]
      },
      {
       "output_type": "stream",
       "stream": "stdout",
       "text": [
        "\n"
       ]
      }
     ],
     "prompt_number": 14
    },
    {
     "cell_type": "code",
     "collapsed": false,
     "input": [
      "import sys\n",
      "import subprocess as sp"
     ],
     "language": "python",
     "metadata": {},
     "outputs": []
    },
    {
     "cell_type": "code",
     "collapsed": false,
     "input": [
      "def DEMfiles(inGSODFolder):\n",
      "    st_wmo = [os.path.join(root, name)\n",
      "               for root, dirs, files in os.walk(inGSODFolder)\n",
      "                 for name in files\n",
      "                 if name.endswith('.tif')]\n",
      "    return st_wmo\n",
      "\n",
      "outFolder = r'E:\\Data\\WangKun@Mattijn\\outfolder\\t2'\n",
      "gdal_merge = r'D:\\Python27\\Scripts\\gdal_merge.py'\n",
      "mergeFolder = r'E:\\Data\\WangKun@Mattijn\\outfolder\\t_merge\\\\'\n",
      "thisfile = r\"E:/Data/WangKun@Mattijn/outfolder/t_merge/merge_t.txt\"\n",
      "files = DEMfiles(outFolder)\n",
      "newlist = []\n",
      "for file_ in files:    \n",
      "    #print file_[23:25]\n",
      "    if file_[-16:-15] == 't':\n",
      "        newlist.append(file_)\n",
      "#print newlist\n",
      "\n",
      "for x in range(1,2):\n",
      "    thefile = open(r'E:\\Data\\WangKun@Mattijn\\outfolder\\t_merge//merge_t.txt', 'w')\n",
      "    new2 = []\n",
      "    #print x\n",
      "    for new in newlist:\n",
      "        if int(new[-9:-7]) == x:\n",
      "            new2.append(new)\n",
      "            date = new[-16:-7]\n",
      "            #print date\n",
      "    for item in new2:\n",
      "        thefile.write(\"%s\\n\" % item)\n",
      "    thefile.close()\n",
      "    #print date\n",
      "    outfile = mergeFolder+date+'.tif'\n",
      "    print outfile\n",
      "    paramsnorm = [gdal_merge, \"-o\", outfile, \"-q\", \"-v\", \"--optfile\", thisfile]\n",
      "    print sp.list2cmdline(paramsnorm)\n",
      "    norm = sp.Popen(sp.list2cmdline(paramsnorm), shell=True)     \n",
      "    norm.communicate()"
     ],
     "language": "python",
     "metadata": {},
     "outputs": []
    },
    {
     "cell_type": "code",
     "collapsed": false,
     "input": [
      "newlist[10][-9:-7]"
     ],
     "language": "python",
     "metadata": {},
     "outputs": []
    },
    {
     "cell_type": "code",
     "collapsed": false,
     "input": [
      "from osgeo import gdal \n",
      "from osgeo import ogr \n",
      "from osgeo import osr \n",
      "from osgeo import gdal_array \n",
      "from osgeo import gdalconst \n",
      "from osgeo.gdalconst import *"
     ],
     "language": "python",
     "metadata": {},
     "outputs": []
    },
    {
     "cell_type": "code",
     "collapsed": false,
     "input": [],
     "language": "python",
     "metadata": {},
     "outputs": []
    }
   ],
   "metadata": {}
  }
 ]
}