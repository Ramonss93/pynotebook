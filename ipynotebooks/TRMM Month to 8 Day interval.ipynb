{
 "metadata": {
  "name": "TRMM Month to 8 Day interval"
 },
 "nbformat": 3,
 "nbformat_minor": 0,
 "worksheets": [
  {
   "cells": [
    {
     "cell_type": "code",
     "collapsed": false,
     "input": [
      "import numpy as np\n",
      "import numpy.ma as ma\n",
      "import gdal\n",
      "from gdalconst import *"
     ],
     "language": "python",
     "metadata": {},
     "outputs": [],
     "prompt_number": 194
    },
    {
     "cell_type": "code",
     "collapsed": false,
     "input": [
      "#F_M01 = r'I:\\Data\\TRMM 3B43\\2009_tif\\resampled_extract\\rspr3B43.20090101.7A.tif'\n",
      "#F_M02 = r'I:\\Data\\TRMM 3B43\\2009_tif\\resampled_extract\\rspr3B43.20090201.7A.tif'\n",
      "#F_M03 = r'I:\\Data\\TRMM 3B43\\2009_tif\\resampled_extract\\rspr3B43.20090301.7A.tif'\n",
      "#F_M04 = r'I:\\Data\\TRMM 3B43\\2009_tif\\resampled_extract\\rspr3B43.20090401.7A.tif'\n",
      "#F_M05 = r'I:\\Data\\TRMM 3B43\\2009_tif\\resampled_extract\\rspr3B43.20090501.7A.tif'\n",
      "#F_M06 = r'I:\\Data\\TRMM 3B43\\2009_tif\\resampled_extract\\rspr3B43.20090601.7A.tif'\n",
      "#F_M07 = r'I:\\Data\\TRMM 3B43\\2009_tif\\resampled_extract\\rspr3B43.20090701.7A.tif'\n",
      "#F_M08 = r'I:\\Data\\TRMM 3B43\\2009_tif\\resampled_extract\\rspr3B43.20090801.7A.tif'\n",
      "#F_M09 = r'I:\\Data\\TRMM 3B43\\2009_tif\\resampled_extract\\rspr3B43.20090901.7A.tif'\n",
      "#F_M10 = r'I:\\Data\\TRMM 3B43\\2009_tif\\resampled_extract\\rspr3B43.20091001.7A.tif'\n",
      "#F_M11 = r'I:\\Data\\TRMM 3B43\\2009_tif\\resampled_extract\\rspr3B43.20091101.7A.tif'\n",
      "F_M12 = r'I:\\Data\\TRMM 3B43\\2009_tif\\resampled_extract\\rspr3B43.20091201.7A.tif'\n",
      "outFilename = r'I:\\Data\\TRMM 3B43\\2009_tif\\convert_juliandate\\TRMM2009361.tif'"
     ],
     "language": "python",
     "metadata": {},
     "outputs": [],
     "prompt_number": 195
    },
    {
     "cell_type": "code",
     "collapsed": false,
     "input": [
      "## -- For single Rasters -- ##\n",
      "# Load Raster 1\n",
      "dataset_1 = gdal.Open(F_M12, GA_ReadOnly)\n",
      "band_1 = dataset_1.GetRasterBand(1)\n",
      "data_1 = band_1.ReadAsArray()\n",
      "NA_1 = band_1.GetNoDataValue()\n",
      "\n",
      "# Do Computation on NumPy Array 1\n",
      "data_mask_1 = ma.masked_where(data_1 == NA_1, data_1)\n",
      "data_mask_1 = data_mask_1 * 192\n",
      "#data_mask_1 = 0.62 * data_mask_1\n",
      "data_1 = data_mask_1.data"
     ],
     "language": "python",
     "metadata": {},
     "outputs": [],
     "prompt_number": 197
    },
    {
     "cell_type": "code",
     "collapsed": false,
     "input": [
      "## -- For double Rasters -- ##\n",
      "# Load Raster 1\n",
      "dataset_1 = gdal.Open(F_M11, GA_ReadOnly)\n",
      "band_1 = dataset_1.GetRasterBand(1)\n",
      "data_1 = band_1.ReadAsArray()\n",
      "NA_1 = band_1.GetNoDataValue()\n",
      "\n",
      "# Load Raster 2\n",
      "dataset_2 = gdal.Open(F_M12, GA_ReadOnly)\n",
      "band_2 = dataset_2.GetRasterBand(1)\n",
      "data_2 = band_2.ReadAsArray()\n",
      "NA_2 = band_2.GetNoDataValue()\n",
      "\n",
      "# Do Computation on NumPy Array 1\n",
      "data_mask_1 = ma.masked_where(data_1 == NA_1, data_1)\n",
      "data_mask_1 = data_mask_1 * 192\n",
      "\n",
      "# Do Computation on NumPy Array 2\n",
      "data_mask_2 = ma.masked_where(data_2 == NA_2, data_2)\n",
      "data_mask_2 = data_mask_2 * 192\n",
      "\n",
      "# Combine Array 1 & 2\n",
      "data_mask_3 = 0.75 * data_mask_1 \n",
      "data_mask_4 = 0.25 * data_mask_2\n",
      "data_mask_5 = data_mask_3 + data_mask_4\n",
      "data_1 = data_mask_5.data"
     ],
     "language": "python",
     "metadata": {},
     "outputs": [],
     "prompt_number": 176
    },
    {
     "cell_type": "code",
     "collapsed": false,
     "input": [
      "# Set Driver\n",
      "format = \"GTiff\"\n",
      "driver = gdal.GetDriverByName( format )\n",
      "driver.Register()\n",
      "\n",
      "# Set Metadata for Raster output\n",
      "cols = dataset_1.RasterXSize\n",
      "rows = dataset_1.RasterYSize\n",
      "bands = dataset_1.RasterCount\n",
      "datatype = band_1.DataType\n",
      "\n",
      "# Set Projection for Raster\n",
      "outDataset = driver.Create(outFilename, cols, rows, bands, datatype)\n",
      "geoTransform = dataset_1.GetGeoTransform()\n",
      "outDataset.SetGeoTransform(geoTransform)\n",
      "proj = dataset_1.GetProjection()\n",
      "outDataset.SetProjection(proj)"
     ],
     "language": "python",
     "metadata": {},
     "outputs": [
      {
       "output_type": "pyout",
       "prompt_number": 198,
       "text": [
        "0"
       ]
      }
     ],
     "prompt_number": 198
    },
    {
     "cell_type": "code",
     "collapsed": false,
     "input": [
      "# Write output to band 1 of new Raster\n",
      "outBand = outDataset.GetRasterBand(1)\n",
      "outBand.WriteArray(data_1,0,0)\n",
      "\n",
      "# Close and finalise newly created Raster\n",
      "F_M01 = None\n",
      "outBand = None\n",
      "outDataset = None\n",
      "driver = None\n",
      "geTransform = None\n",
      "proj = None\n",
      "cols = None\n",
      "rows = None\n",
      "bands = None\n",
      "datatype = None\n",
      "\n",
      "dataset_1 = None\n",
      "band_1 = None\n",
      "data_1 = None\n",
      "NA_1 = None\n",
      "dataset_2 = None\n",
      "band_2 = None\n",
      "data_2 = None\n",
      "NA_2 = None\n",
      "\n",
      "data_mask_1 = None\n",
      "data_mask_2 = None\n",
      "data_mask_3 = None\n",
      "data_mask_4 = None\n",
      "data_mask_5 = None"
     ],
     "language": "python",
     "metadata": {},
     "outputs": [],
     "prompt_number": 199
    },
    {
     "cell_type": "code",
     "collapsed": false,
     "input": [],
     "language": "python",
     "metadata": {},
     "outputs": []
    }
   ],
   "metadata": {}
  }
 ]
}