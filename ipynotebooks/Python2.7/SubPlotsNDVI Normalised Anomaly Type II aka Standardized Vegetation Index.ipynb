{
 "metadata": {
  "name": ""
 },
 "nbformat": 3,
 "nbformat_minor": 0,
 "worksheets": [
  {
   "cells": [
    {
     "cell_type": "markdown",
     "metadata": {},
     "source": [
      "load modules"
     ]
    },
    {
     "cell_type": "code",
     "collapsed": false,
     "input": [
      "import cartopy.crs as ccrs\n",
      "import cartopy.feature as cfeature\n",
      "import numpy as np\n",
      "import os\n",
      "import matplotlib.pyplot as plt\n",
      "from osgeo import gdal, osr"
     ],
     "language": "python",
     "metadata": {},
     "outputs": [],
     "prompt_number": 1
    },
    {
     "cell_type": "markdown",
     "metadata": {},
     "source": [
      "Mask the places where values is NaN if there, Get the coordiantes and create grid with coordinates"
     ]
    },
    {
     "cell_type": "code",
     "collapsed": false,
     "input": [
      "def listall(RootFolder, varname=''):\n",
      "    lists = [os.path.join(root, name)    \n",
      "                 for root, dirs, files in os.walk(RootFolder)\n",
      "                   for name in files\n",
      "                   if varname in name\n",
      "                     if name.endswith('.tif')]\n",
      "    return lists\n",
      "\n",
      "def setMap(rasterBase):\n",
      "\n",
      "    # Read the data and metadata\n",
      "    ds = gdal.Open(rasterBase)\n",
      "    #band = ds.GetRasterBand(20)\n",
      "    \n",
      "    data = ds.ReadAsArray()\n",
      "    gt = ds.GetGeoTransform()\n",
      "    proj = ds.GetProjection()\n",
      "    \n",
      "    nan = ds.GetRasterBand(1).GetNoDataValue()\n",
      "    if nan != None:\n",
      "        data = np.ma.masked_equal(data,value=nan)\n",
      "    \n",
      "    xres = gt[1]\n",
      "    yres = gt[5]\n",
      "    \n",
      "    # get the edge coordinates and add half the resolution \n",
      "    # to go to center coordinates\n",
      "    xmin = gt[0] + xres * 0.5\n",
      "    xmax = gt[0] + (xres * ds.RasterXSize) - xres * 0.5\n",
      "    ymin = gt[3] + (yres * ds.RasterYSize) + yres * 0.5\n",
      "    ymax = gt[3] - yres * 0.5\n",
      "    \n",
      "    x = ds.RasterXSize \n",
      "    y = ds.RasterYSize  \n",
      "    extent = [ gt[0],gt[0]+x*gt[1], gt[3],gt[3]+y*gt[5]]\n",
      "    #ds = None\n",
      "    \n",
      "    # create a grid of xy coordinates in the original projection\n",
      "    xy_source = np.mgrid[xmin:xmax+xres:xres, ymax+yres:ymin:yres]\n",
      "    \n",
      "    return extent, xy_source, proj"
     ],
     "language": "python",
     "metadata": {},
     "outputs": [],
     "prompt_number": 2
    },
    {
     "cell_type": "markdown",
     "metadata": {},
     "source": [
      "Normalize the values of the raster and list the color map, also for under and over part, bounds is the step size of the legend"
     ]
    },
    {
     "cell_type": "code",
     "collapsed": false,
     "input": [
      "# Set the colormap and norm to correspond to the data for which\n",
      "# the colorbar will be used.\n",
      "cmap = cm.cool\n",
      "norm = cm.colors.Normalize(vmin=-1, vmax=1)\n",
      "\n",
      "# The third example illustrates the use of custom length colorbar\n",
      "# extensions, used on a colorbar with discrete intervals.\n",
      "cmap = cm.colors.ListedColormap([[0.470, 0.094, 0.], # dark blue\n",
      "                                  [0.702, 0.278, 0.], # light blue\n",
      "                                  [0.941, 0.580, 0.], # green\n",
      "                                  [1., 0.745, 0.231], # light green\n",
      "                                  [1., 0.847, 0.541],\n",
      "                                  [1, 1, 1.], # null\n",
      "                                  [0.714, 0.839, 0.463], # light yellow\n",
      "                                  [0.545, 0.729, 0.176], # yellow\n",
      "                                  [0.376, 0.631, 0.], # orange\n",
      "                                  [0.106, 0.522, 0.], # red\n",
      "                                  [0, 0.412, 0.082]]) # pink\n",
      "\n",
      "cmap.set_under((0.239, 0., 0.)) # dark purple\n",
      "cmap.set_over((0., 0.298, 0.184)) # brown    \n",
      "\n",
      "bounds = [-.3, -.25, -.2, -.15, -.1, -.05, .05, .1, .15, .2, .25, .3]\n",
      "#bounds = [0.1, 0.2,  0.25, 0.30, 0.35, 0.4,0.6,0.65,0.70,0.75, 0.8, 0.9]\n",
      "\n",
      "#bounds =  [-5., -3.5, -2.5, -1.83, -1.17, -0.5, 0.5, 1.17, 1.83, 2.5, 3.5, 5.]\n",
      "#bounds =  [-8., -6.5, -5.5, -4.83, -4.17, -3.5, -2.5, -1.83, -1.17, -0.5, 0.5, 2.]\n",
      "#bounds = [-1., -.8,  -.6,  -.4,   -.20, -.05,  .05,    .2,   .4,   .6, .8, 1.]    \n",
      "#bounds = [-.3, -.25,  -.2,  -.15,   -.1, -.05,  .05,    .1,   .15,   .2, .25, .3]    # OLD\n",
      "norm = cm.colors.BoundaryNorm(bounds, cmap.N)"
     ],
     "language": "python",
     "metadata": {},
     "outputs": [],
     "prompt_number": 3
    },
    {
     "cell_type": "markdown",
     "metadata": {},
     "source": [
      "Get extent and of basemap and use this information for all following"
     ]
    },
    {
     "cell_type": "code",
     "collapsed": false,
     "input": [
      "#RasterFolder = r'D:\\Data\\NDVI_agg_clip_anomalySVInormalized2'\n",
      "RasterFolder = r'D:\\Data\\NDVI_anomalySVInormalized'\n",
      "raster = listall(RasterFolder)\n",
      "rasterBase = raster[0]\n",
      "extent, xy_source, proj = setMap(rasterBase)\n",
      "extent"
     ],
     "language": "python",
     "metadata": {},
     "outputs": [
      {
       "metadata": {},
       "output_type": "pyout",
       "prompt_number": 4,
       "text": [
        "[73.43693268011174, 135.06693268011173, 53.57324111988825, 18.203241119888254]"
       ]
      }
     ],
     "prompt_number": 4
    },
    {
     "cell_type": "markdown",
     "metadata": {},
     "source": [
      "Set extent for image as well as plot"
     ]
    },
    {
     "cell_type": "code",
     "collapsed": false,
     "input": [
      "ds = gdal.Open(rasterBase)\n",
      "array = ds.ReadAsArray()\n",
      "band = ds.GetRasterBand(1)\n",
      "nan = band.GetNoDataValue()\n",
      "print (nan)\n",
      "#img = np.flipud(array)\n",
      "\n",
      "img_extent = (extent[0], extent[1], extent[2], extent[3])\n",
      "set_extent = [extent[0], extent[1], extent[2], extent[3]]"
     ],
     "language": "python",
     "metadata": {},
     "outputs": [
      {
       "output_type": "stream",
       "stream": "stdout",
       "text": [
        "0.0\n"
       ]
      }
     ],
     "prompt_number": 5
    },
    {
     "cell_type": "markdown",
     "metadata": {},
     "source": [
      "Sort the raster in the folder based on the doy, necessary for iteration"
     ]
    },
    {
     "cell_type": "code",
     "collapsed": false,
     "input": [
      "raster_sorted = sorted(raster, key=lambda t: int(t[-7:-4]))\n",
      "print (raster_sorted[0], raster_sorted[1])"
     ],
     "language": "python",
     "metadata": {},
     "outputs": [
      {
       "output_type": "stream",
       "stream": "stdout",
       "text": [
        "('D:\\\\Data\\\\NDVI_anomalySVInormalized\\\\NDVI_2001001.tif', 'D:\\\\Data\\\\NDVI_anomalySVInormalized\\\\NDVI_2002001.tif')\n"
       ]
      }
     ],
     "prompt_number": 6
    },
    {
     "cell_type": "markdown",
     "metadata": {},
     "source": [
      "For all days in year with 8 step interval select corresponding raster, then select the corresponding raster of each year, create matplotlib using cartopy"
     ]
    },
    {
     "cell_type": "code",
     "collapsed": false,
     "input": [
      "for j in range(1,362,8):\n",
      "    doy = []\n",
      "    for i in raster_sorted:\n",
      "        if int(i[-7:-4]) == j:\n",
      "            doy.append(i)\n",
      "    for g in doy:    \n",
      "        if int(g[-11:-7]) == 2001:\n",
      "            img1 = g\n",
      "        if int(g[-11:-7]) == 2002:\n",
      "            img2 = g\n",
      "        if int(g[-11:-7]) == 2003:\n",
      "            img3 = g\n",
      "        if int(g[-11:-7]) == 2004:\n",
      "            img4 = g\n",
      "        if int(g[-11:-7]) == 2005:\n",
      "            img5 = g\n",
      "        if int(g[-11:-7]) == 2006:\n",
      "            img6 = g\n",
      "        if int(g[-11:-7]) == 2007:\n",
      "            img7 = g\n",
      "        if int(g[-11:-7]) == 2008:\n",
      "            img8 = g\n",
      "        if int(g[-11:-7]) == 2009:\n",
      "            img9 = g            \n",
      "        if int(g[-11:-7]) == 2010:\n",
      "            img10 = g\n",
      "    ds1 = gdal.Open(img1)\n",
      "    array1 = ds1.ReadAsArray()\n",
      "    array1 = np.ma.masked_values(array1, nan)\n",
      "    array1 = np.flipud(array1)\n",
      "\n",
      "    ds2 = gdal.Open(img2)\n",
      "    array2 = ds2.ReadAsArray()\n",
      "    array2 = np.ma.masked_values(array2, nan)\n",
      "    array2 = np.flipud(array2)    \n",
      "\n",
      "    ds3 = gdal.Open(img3)\n",
      "    array3 = ds3.ReadAsArray()\n",
      "    array3 = np.ma.masked_values(array3, nan)\n",
      "    array3 = np.flipud(array3)    \n",
      "\n",
      "    ds4 = gdal.Open(img4)\n",
      "    array4 = ds4.ReadAsArray()\n",
      "    array4 = np.ma.masked_values(array4, nan)\n",
      "    array4 = np.flipud(array4)\n",
      "\n",
      "    ds5 = gdal.Open(img5)\n",
      "    array5 = ds5.ReadAsArray()\n",
      "    array5 = np.ma.masked_values(array5, nan)\n",
      "    array5 = np.flipud(array5)\n",
      "\n",
      "    ds6 = gdal.Open(img6)\n",
      "    array6 = ds6.ReadAsArray()\n",
      "    array6 = np.ma.masked_values(array6, nan)\n",
      "    array6 = np.flipud(array6)\n",
      "\n",
      "    ds7 = gdal.Open(img7)\n",
      "    array7 = ds7.ReadAsArray()\n",
      "    array7 = np.ma.masked_values(array7, nan)\n",
      "    array7 = np.flipud(array7)\n",
      "\n",
      "    ds8 = gdal.Open(img8)\n",
      "    array8 = ds8.ReadAsArray()\n",
      "    array8 = np.ma.masked_values(array8, nan)\n",
      "    array8 = np.flipud(array8)\n",
      "\n",
      "    ds9 = gdal.Open(img9)\n",
      "    array9 = ds9.ReadAsArray()\n",
      "    array9 = np.ma.masked_values(array9, nan)\n",
      "    array9 = np.flipud(array9)    \n",
      "\n",
      "    ds10 = gdal.Open(img10)\n",
      "    array10 = ds10.ReadAsArray()\n",
      "    array10 = np.ma.masked_values(array10, nan)\n",
      "    array10 = np.flipud(array10)  \n",
      "    \n",
      "    fig = plt.figure(figsize=[16,10])\n",
      "    \n",
      "    ax1 = plt.subplot(3,3,1, projection=ccrs.PlateCarree())\n",
      "    ax1.set_extent([72, 136, 52, 17], ccrs.Geodetic())\n",
      "    ax1.coastlines(resolution='50m', color='black', linewidth=1)\n",
      "    ax1_gl = ax1.gridlines(draw_labels=True, axes=0)\n",
      "    ax1_gl.ylabels_right = False\n",
      "    ax1_gl.xlabels_top = False\n",
      "    ax1_gl.xlabels_bottom = False\n",
      "    ax1.set_title('2002')\n",
      "    ax1.add_feature(cfeature.OCEAN, facecolor='aqua', alpha='0.1')\n",
      "    ax1.add_feature(cfeature.BORDERS, alpha='0.2')\n",
      "    \n",
      "    ax2 = plt.subplot(3,3,2, projection=ccrs.PlateCarree())\n",
      "    ax2.set_extent([72, 136, 52, 17], ccrs.Geodetic())\n",
      "    ax2.coastlines(resolution='50m', color='black', linewidth=1)\n",
      "    ax2_gl = ax2.gridlines(draw_labels=False, axes=0)\n",
      "    ax2.set_title('2003')\n",
      "    ax2.add_feature(cfeature.OCEAN, facecolor='aqua', alpha='0.1')\n",
      "    ax2.add_feature(cfeature.BORDERS, alpha='0.2')\n",
      "    \n",
      "    ax3 = plt.subplot(3,3,3, projection=ccrs.PlateCarree())\n",
      "    ax3.set_extent([72, 136, 52, 17], ccrs.Geodetic())\n",
      "    ax3.coastlines(resolution='50m', color='black', linewidth=1)\n",
      "    ax3_gl = ax3.gridlines(draw_labels=False, axes=0)\n",
      "    ax3.set_title('2004')\n",
      "    ax3.add_feature(cfeature.OCEAN, facecolor='aqua', alpha='0.1')\n",
      "    ax3.add_feature(cfeature.BORDERS, alpha='0.2')\n",
      "    \n",
      "    ax4 = plt.subplot(3,3,4, projection=ccrs.PlateCarree())\n",
      "    ax4.set_extent([72, 136, 52, 17], ccrs.Geodetic())\n",
      "    ax4.coastlines(resolution='50m', color='black', linewidth=1)\n",
      "    ax4_gl = ax4.gridlines(draw_labels=True, axes=0)\n",
      "    ax4_gl.ylabels_right = False\n",
      "    ax4_gl.xlabels_top = False\n",
      "    ax4_gl.xlabels_bottom = False\n",
      "    ax4.set_title('2005')\n",
      "    ax4.add_feature(cfeature.OCEAN, facecolor='aqua', alpha='0.1')\n",
      "    ax4.add_feature(cfeature.BORDERS, alpha='0.2')\n",
      "    \n",
      "    ax5 = plt.subplot(3,3,5, projection=ccrs.PlateCarree())\n",
      "    ax5.set_extent([72, 136, 52, 17], ccrs.Geodetic())\n",
      "    ax5.coastlines(resolution='50m', color='black', linewidth=1)\n",
      "    ax5_gl = ax5.gridlines(draw_labels=False, axes=0)\n",
      "    ax5.set_title('2006')\n",
      "    ax5.add_feature(cfeature.OCEAN, facecolor='aqua', alpha='0.1')\n",
      "    ax5.add_feature(cfeature.BORDERS, alpha='0.2')\n",
      "    \n",
      "    ax6 = plt.subplot(3,3,6, projection=ccrs.PlateCarree())\n",
      "    ax6.set_extent([72, 136, 52, 17], ccrs.Geodetic())\n",
      "    ax6.coastlines(resolution='50m', color='black', linewidth=1)\n",
      "    ax6_gl = ax6.gridlines(draw_labels=False, axes=0)\n",
      "    ax6.set_title('2007')\n",
      "    ax6.add_feature(cfeature.OCEAN, facecolor='aqua', alpha='0.1')\n",
      "    ax6.add_feature(cfeature.BORDERS, alpha='0.2')\n",
      "    \n",
      "    ax7 = plt.subplot(3,3,7, projection=ccrs.PlateCarree())\n",
      "    ax7.set_extent([72, 136, 52, 17], ccrs.Geodetic())\n",
      "    ax7.coastlines(resolution='50m', color='black', linewidth=1)\n",
      "    ax7_gl = ax7.gridlines(draw_labels=True, axes=0)\n",
      "    ax7_gl.ylabels_right = False\n",
      "    ax7_gl.xlabels_top = False\n",
      "    ax7.set_title('2008')\n",
      "    ax7.add_feature(cfeature.OCEAN, facecolor='aqua', alpha='0.1')\n",
      "    ax7.add_feature(cfeature.BORDERS, alpha='0.2')\n",
      "    \n",
      "    ax8 = plt.subplot(3,3,8, projection=ccrs.PlateCarree())\n",
      "    ax8.set_extent([72, 136, 52, 17], ccrs.Geodetic())\n",
      "    ax8.coastlines(resolution='50m', color='black', linewidth=1)\n",
      "    ax8_gl = ax8.gridlines(draw_labels=True, axes=0)\n",
      "    ax8_gl.ylabels_right = False\n",
      "    ax8_gl.ylabels_left = False\n",
      "    ax8_gl.xlabels_top = False\n",
      "    ax8.set_title('2009')\n",
      "    ax8.add_feature(cfeature.OCEAN, facecolor='aqua', alpha='0.1')\n",
      "    ax8.add_feature(cfeature.BORDERS, alpha='0.2')\n",
      "    \n",
      "    ax9 = plt.subplot(3,3,9, projection=ccrs.PlateCarree())\n",
      "    ax9.set_extent([72, 136, 52, 17], ccrs.Geodetic()) # replaced \"[72, 136, 52, 17]\" with \"set_extent\"\n",
      "    ax9.coastlines(resolution='50m', color='black', linewidth=1)\n",
      "    ax9_gl = ax9.gridlines(draw_labels=True, axes=0)\n",
      "    ax9_gl.ylabels_right = False\n",
      "    ax9_gl.ylabels_left = False\n",
      "    ax9_gl.xlabels_top = False\n",
      "    ax9.set_title('2010')\n",
      "    ax9.add_feature(cfeature.OCEAN, facecolor='aqua', alpha='0.1')\n",
      "    ax9.add_feature(cfeature.BORDERS, alpha='0.2')\n",
      "    \n",
      "    ax1.imshow(array2, origin='upper', extent=img_extent, cmap=cmap, norm=norm)#, transform=ccrs.Mercator())\n",
      "    ax2.imshow(array3, origin='upper', extent=img_extent, cmap=cmap, norm=norm)#, transform=ccrs.Mercator())\n",
      "    ax3.imshow(array4, origin='upper', extent=img_extent, cmap=cmap, norm=norm)#, transform=ccrs.Mercator())\n",
      "    ax4.imshow(array5, origin='upper', extent=img_extent, cmap=cmap, norm=norm)#, transform=ccrs.Mercator())\n",
      "    ax5.imshow(array6, origin='upper', extent=img_extent, cmap=cmap, norm=norm)#, transform=ccrs.Mercator())\n",
      "    ax6.imshow(array7, origin='upper', extent=img_extent, cmap=cmap, norm=norm)#, transform=ccrs.Mercator())\n",
      "    ax7.imshow(array8, origin='upper', extent=img_extent, cmap=cmap, norm=norm)#, transform=ccrs.Mercator())\n",
      "    ax8.imshow(array9, origin='upper', extent=img_extent, cmap=cmap, norm=norm)#, transform=ccrs.Mercator())\n",
      "    im = ax9.imshow(array10, origin='upper', extent=img_extent, cmap=cmap, norm=norm)#, transform=ccrs.Mercator())\n",
      "    \n",
      "    title = 'NDVI DOY'+g[-7:-4]\n",
      "    plt.suptitle(title, y=0.98, fontsize=22)    \n",
      "    \n",
      "    cax = fig.add_axes([0.15, 0.05, 0.7, 0.03]) # location of the legend\n",
      "    cb = fig.colorbar(im, cax=cax, ticks=[-1]+bounds+[1], norm=norm, extend='both', extendfrac='auto', orientation='horizontal').set_label('NDVI Difference')\n",
      "\n",
      "    plt.subplots_adjust(left=None, bottom=None, right=None, top=None, wspace=None, hspace=None)\n",
      "    \n",
      "    left  = 0.125  # the left side of the subplots of the figure\n",
      "    right = 0.9    # the right side of the subplots of the figure\n",
      "    bottom = 0.1   # the bottom of the subplots of the figure\n",
      "    top = 0.9      # the top of the subplots of the figure\n",
      "    wspace = 0.1   # the amount of width reserved for blank space between subplots\n",
      "    hspace = 0.2   # the amount of height reserved for white space between subplots\n",
      "\n",
      "\n",
      "    #plt.tight_layout()\n",
      "    #outPath = r'D:\\Data\\DDataNDVI_agg_clip_anomalySVInormalized2PNG//NDVI_'+g[-11:-4]+'.png' # [-15:-4] original\n",
      "    outPath = r'D:\\Data\\NDVI_anomalySVInormalizedPNG//NDVI_'+g[-11:-4]+'.png' # [-15:-4] original\n",
      "    print outPath\n",
      "    #fig.savefig(outPath, dpi=200)\n",
      "    plt.savefig(outPath, dpi=200)\n",
      "    #plt.show()\n",
      "    plt.close(fig)\n",
      "    fig.clf() \n",
      "    #ax.cla()\n",
      "    doy = None"
     ],
     "language": "python",
     "metadata": {},
     "outputs": [
      {
       "output_type": "stream",
       "stream": "stdout",
       "text": [
        "D:\\Data\\NDVI_anomalySVInormalizedPNG//NDVI_2010001.png\n",
        "D:\\Data\\NDVI_anomalySVInormalizedPNG//NDVI_2010009.png"
       ]
      },
      {
       "output_type": "stream",
       "stream": "stdout",
       "text": [
        "\n",
        "D:\\Data\\NDVI_anomalySVInormalizedPNG//NDVI_2010017.png"
       ]
      },
      {
       "output_type": "stream",
       "stream": "stdout",
       "text": [
        "\n",
        "D:\\Data\\NDVI_anomalySVInormalizedPNG//NDVI_2010025.png"
       ]
      },
      {
       "output_type": "stream",
       "stream": "stdout",
       "text": [
        "\n",
        "D:\\Data\\NDVI_anomalySVInormalizedPNG//NDVI_2010033.png"
       ]
      },
      {
       "output_type": "stream",
       "stream": "stdout",
       "text": [
        "\n",
        "D:\\Data\\NDVI_anomalySVInormalizedPNG//NDVI_2010041.png"
       ]
      },
      {
       "output_type": "stream",
       "stream": "stdout",
       "text": [
        "\n",
        "D:\\Data\\NDVI_anomalySVInormalizedPNG//NDVI_2010049.png"
       ]
      },
      {
       "output_type": "stream",
       "stream": "stdout",
       "text": [
        "\n",
        "D:\\Data\\NDVI_anomalySVInormalizedPNG//NDVI_2010057.png"
       ]
      },
      {
       "output_type": "stream",
       "stream": "stdout",
       "text": [
        "\n",
        "D:\\Data\\NDVI_anomalySVInormalizedPNG//NDVI_2010065.png"
       ]
      },
      {
       "output_type": "stream",
       "stream": "stdout",
       "text": [
        "\n",
        "D:\\Data\\NDVI_anomalySVInormalizedPNG//NDVI_2010073.png"
       ]
      },
      {
       "output_type": "stream",
       "stream": "stdout",
       "text": [
        "\n",
        "D:\\Data\\NDVI_anomalySVInormalizedPNG//NDVI_2010081.png"
       ]
      },
      {
       "output_type": "stream",
       "stream": "stdout",
       "text": [
        "\n",
        "D:\\Data\\NDVI_anomalySVInormalizedPNG//NDVI_2010089.png"
       ]
      },
      {
       "output_type": "stream",
       "stream": "stdout",
       "text": [
        "\n",
        "D:\\Data\\NDVI_anomalySVInormalizedPNG//NDVI_2010097.png"
       ]
      },
      {
       "output_type": "stream",
       "stream": "stdout",
       "text": [
        "\n",
        "D:\\Data\\NDVI_anomalySVInormalizedPNG//NDVI_2010105.png"
       ]
      },
      {
       "output_type": "stream",
       "stream": "stdout",
       "text": [
        "\n",
        "D:\\Data\\NDVI_anomalySVInormalizedPNG//NDVI_2010113.png"
       ]
      },
      {
       "output_type": "stream",
       "stream": "stdout",
       "text": [
        "\n",
        "D:\\Data\\NDVI_anomalySVInormalizedPNG//NDVI_2010121.png"
       ]
      },
      {
       "output_type": "stream",
       "stream": "stdout",
       "text": [
        "\n",
        "D:\\Data\\NDVI_anomalySVInormalizedPNG//NDVI_2010129.png"
       ]
      },
      {
       "output_type": "stream",
       "stream": "stdout",
       "text": [
        "\n",
        "D:\\Data\\NDVI_anomalySVInormalizedPNG//NDVI_2010137.png"
       ]
      },
      {
       "output_type": "stream",
       "stream": "stdout",
       "text": [
        "\n",
        "D:\\Data\\NDVI_anomalySVInormalizedPNG//NDVI_2010145.png"
       ]
      },
      {
       "output_type": "stream",
       "stream": "stdout",
       "text": [
        "\n",
        "D:\\Data\\NDVI_anomalySVInormalizedPNG//NDVI_2010153.png"
       ]
      },
      {
       "output_type": "stream",
       "stream": "stdout",
       "text": [
        "\n",
        "D:\\Data\\NDVI_anomalySVInormalizedPNG//NDVI_2010161.png"
       ]
      },
      {
       "output_type": "stream",
       "stream": "stdout",
       "text": [
        "\n",
        "D:\\Data\\NDVI_anomalySVInormalizedPNG//NDVI_2010169.png"
       ]
      },
      {
       "output_type": "stream",
       "stream": "stdout",
       "text": [
        "\n",
        "D:\\Data\\NDVI_anomalySVInormalizedPNG//NDVI_2010177.png"
       ]
      },
      {
       "output_type": "stream",
       "stream": "stdout",
       "text": [
        "\n",
        "D:\\Data\\NDVI_anomalySVInormalizedPNG//NDVI_2010185.png"
       ]
      },
      {
       "output_type": "stream",
       "stream": "stdout",
       "text": [
        "\n",
        "D:\\Data\\NDVI_anomalySVInormalizedPNG//NDVI_2010193.png"
       ]
      },
      {
       "output_type": "stream",
       "stream": "stdout",
       "text": [
        "\n",
        "D:\\Data\\NDVI_anomalySVInormalizedPNG//NDVI_2010201.png"
       ]
      },
      {
       "output_type": "stream",
       "stream": "stdout",
       "text": [
        "\n",
        "D:\\Data\\NDVI_anomalySVInormalizedPNG//NDVI_2010209.png"
       ]
      },
      {
       "output_type": "stream",
       "stream": "stdout",
       "text": [
        "\n",
        "D:\\Data\\NDVI_anomalySVInormalizedPNG//NDVI_2010217.png"
       ]
      },
      {
       "output_type": "stream",
       "stream": "stdout",
       "text": [
        "\n",
        "D:\\Data\\NDVI_anomalySVInormalizedPNG//NDVI_2010225.png"
       ]
      },
      {
       "output_type": "stream",
       "stream": "stdout",
       "text": [
        "\n",
        "D:\\Data\\NDVI_anomalySVInormalizedPNG//NDVI_2010233.png"
       ]
      },
      {
       "output_type": "stream",
       "stream": "stdout",
       "text": [
        "\n",
        "D:\\Data\\NDVI_anomalySVInormalizedPNG//NDVI_2010241.png"
       ]
      },
      {
       "output_type": "stream",
       "stream": "stdout",
       "text": [
        "\n",
        "D:\\Data\\NDVI_anomalySVInormalizedPNG//NDVI_2010249.png"
       ]
      },
      {
       "output_type": "stream",
       "stream": "stdout",
       "text": [
        "\n",
        "D:\\Data\\NDVI_anomalySVInormalizedPNG//NDVI_2010257.png"
       ]
      },
      {
       "output_type": "stream",
       "stream": "stdout",
       "text": [
        "\n",
        "D:\\Data\\NDVI_anomalySVInormalizedPNG//NDVI_2010265.png"
       ]
      },
      {
       "output_type": "stream",
       "stream": "stdout",
       "text": [
        "\n",
        "D:\\Data\\NDVI_anomalySVInormalizedPNG//NDVI_2010273.png"
       ]
      },
      {
       "output_type": "stream",
       "stream": "stdout",
       "text": [
        "\n",
        "D:\\Data\\NDVI_anomalySVInormalizedPNG//NDVI_2010281.png"
       ]
      },
      {
       "output_type": "stream",
       "stream": "stdout",
       "text": [
        "\n",
        "D:\\Data\\NDVI_anomalySVInormalizedPNG//NDVI_2010289.png"
       ]
      },
      {
       "output_type": "stream",
       "stream": "stdout",
       "text": [
        "\n",
        "D:\\Data\\NDVI_anomalySVInormalizedPNG//NDVI_2010297.png"
       ]
      },
      {
       "output_type": "stream",
       "stream": "stdout",
       "text": [
        "\n",
        "D:\\Data\\NDVI_anomalySVInormalizedPNG//NDVI_2010305.png"
       ]
      },
      {
       "output_type": "stream",
       "stream": "stdout",
       "text": [
        "\n",
        "D:\\Data\\NDVI_anomalySVInormalizedPNG//NDVI_2010313.png"
       ]
      },
      {
       "output_type": "stream",
       "stream": "stdout",
       "text": [
        "\n",
        "D:\\Data\\NDVI_anomalySVInormalizedPNG//NDVI_2010321.png"
       ]
      },
      {
       "output_type": "stream",
       "stream": "stdout",
       "text": [
        "\n",
        "D:\\Data\\NDVI_anomalySVInormalizedPNG//NDVI_2010329.png"
       ]
      },
      {
       "output_type": "stream",
       "stream": "stdout",
       "text": [
        "\n",
        "D:\\Data\\NDVI_anomalySVInormalizedPNG//NDVI_2010337.png"
       ]
      },
      {
       "output_type": "stream",
       "stream": "stdout",
       "text": [
        "\n",
        "D:\\Data\\NDVI_anomalySVInormalizedPNG//NDVI_2010345.png"
       ]
      },
      {
       "output_type": "stream",
       "stream": "stdout",
       "text": [
        "\n",
        "D:\\Data\\NDVI_anomalySVInormalizedPNG//NDVI_2010353.png"
       ]
      },
      {
       "output_type": "stream",
       "stream": "stdout",
       "text": [
        "\n",
        "D:\\Data\\NDVI_anomalySVInormalizedPNG//NDVI_2010361.png"
       ]
      },
      {
       "output_type": "stream",
       "stream": "stdout",
       "text": [
        "\n"
       ]
      }
     ],
     "prompt_number": 7
    },
    {
     "cell_type": "code",
     "collapsed": false,
     "input": [
      "g[-11:-4]"
     ],
     "language": "python",
     "metadata": {},
     "outputs": []
    },
    {
     "cell_type": "code",
     "collapsed": false,
     "input": [],
     "language": "python",
     "metadata": {},
     "outputs": []
    },
    {
     "cell_type": "code",
     "collapsed": false,
     "input": [],
     "language": "python",
     "metadata": {},
     "outputs": []
    },
    {
     "cell_type": "code",
     "collapsed": false,
     "input": [
      "\n",
      "\n",
      "\n",
      "fig = plt.figure(figsize=[16,10])\n",
      "\n",
      "\n",
      "ax1 = plt.subplot(3,3,1, projection=ccrs.PlateCarree())\n",
      "ax1.set_extent([72, 136, 52, 17], ccrs.Geodetic())\n",
      "ax1.coastlines(resolution='50m', color='black', linewidth=1)\n",
      "ax1_gl = ax1.gridlines(draw_labels=True, axes=0)\n",
      "ax1_gl.ylabels_right = False\n",
      "ax1_gl.xlabels_top = False\n",
      "ax1_gl.xlabels_bottom = False\n",
      "ax1.set_title('2001')\n",
      "ax1.add_feature(cfeature.OCEAN, facecolor='aqua', alpha='0.1')\n",
      "ax1.add_feature(cfeature.BORDERS, alpha='0.2')\n",
      "\n",
      "ax2 = plt.subplot(3,3,2, projection=ccrs.PlateCarree())\n",
      "ax2.set_extent([72, 136, 52, 17], ccrs.Geodetic())\n",
      "ax2.coastlines(resolution='50m', color='black', linewidth=1)\n",
      "ax2_gl = ax2.gridlines(draw_labels=False, axes=0)\n",
      "ax2.set_title('2002')\n",
      "ax2.add_feature(cfeature.OCEAN, facecolor='aqua', alpha='0.1')\n",
      "ax2.add_feature(cfeature.BORDERS, alpha='0.2')\n",
      "\n",
      "ax3 = plt.subplot(3,3,3, projection=ccrs.PlateCarree())\n",
      "ax3.set_extent([72, 136, 52, 17], ccrs.Geodetic())\n",
      "ax3.coastlines(resolution='50m', color='black', linewidth=1)\n",
      "ax3_gl = ax3.gridlines(draw_labels=False, axes=0)\n",
      "ax3.set_title('2003')\n",
      "ax3.add_feature(cfeature.OCEAN, facecolor='aqua', alpha='0.1')\n",
      "ax3.add_feature(cfeature.BORDERS, alpha='0.2')\n",
      "\n",
      "ax4 = plt.subplot(3,3,4, projection=ccrs.PlateCarree())\n",
      "ax4.set_extent([72, 136, 52, 17], ccrs.Geodetic())\n",
      "ax4.coastlines(resolution='50m', color='black', linewidth=1)\n",
      "ax4_gl = ax4.gridlines(draw_labels=True, axes=0)\n",
      "ax4_gl.ylabels_right = False\n",
      "ax4_gl.xlabels_top = False\n",
      "ax4_gl.xlabels_bottom = False\n",
      "ax4.set_title('2004')\n",
      "ax4.add_feature(cfeature.OCEAN, facecolor='aqua', alpha='0.1')\n",
      "ax4.add_feature(cfeature.BORDERS, alpha='0.2')\n",
      "\n",
      "ax5 = plt.subplot(3,3,5, projection=ccrs.PlateCarree())\n",
      "ax5.set_extent([72, 136, 52, 17], ccrs.Geodetic())\n",
      "ax5.coastlines(resolution='50m', color='black', linewidth=1)\n",
      "ax5_gl = ax5.gridlines(draw_labels=False, axes=0)\n",
      "ax5.set_title('2005')\n",
      "ax5.add_feature(cfeature.OCEAN, facecolor='aqua', alpha='0.1')\n",
      "ax5.add_feature(cfeature.BORDERS, alpha='0.2')\n",
      "\n",
      "ax6 = plt.subplot(3,3,6, projection=ccrs.PlateCarree())\n",
      "ax6.set_extent([72, 136, 52, 17], ccrs.Geodetic())\n",
      "ax6.coastlines(resolution='50m', color='black', linewidth=1)\n",
      "ax6_gl = ax6.gridlines(draw_labels=False, axes=0)\n",
      "ax6.set_title('2006')\n",
      "ax6.add_feature(cfeature.OCEAN, facecolor='aqua', alpha='0.1')\n",
      "ax6.add_feature(cfeature.BORDERS, alpha='0.2')\n",
      "\n",
      "ax7 = plt.subplot(3,3,7, projection=ccrs.PlateCarree())\n",
      "ax7.set_extent([72, 136, 52, 17], ccrs.Geodetic())\n",
      "ax7.coastlines(resolution='50m', color='black', linewidth=1)\n",
      "ax7_gl = ax7.gridlines(draw_labels=True, axes=0)\n",
      "ax7_gl.ylabels_right = False\n",
      "ax7_gl.xlabels_top = False\n",
      "ax7.set_title('2007')\n",
      "ax7.add_feature(cfeature.OCEAN, facecolor='aqua', alpha='0.1')\n",
      "ax7.add_feature(cfeature.BORDERS, alpha='0.2')\n",
      "\n",
      "ax8 = plt.subplot(3,3,8, projection=ccrs.PlateCarree())\n",
      "ax8.set_extent([72, 136, 52, 17], ccrs.Geodetic())\n",
      "ax8.coastlines(resolution='50m', color='black', linewidth=1)\n",
      "ax8_gl = ax8.gridlines(draw_labels=True, axes=0)\n",
      "ax8_gl.ylabels_right = False\n",
      "ax8_gl.ylabels_left = False\n",
      "ax8_gl.xlabels_top = False\n",
      "ax8.set_title('2008')\n",
      "ax8.add_feature(cfeature.OCEAN, facecolor='aqua', alpha='0.1')\n",
      "ax8.add_feature(cfeature.BORDERS, alpha='0.2')\n",
      "\n",
      "ax9 = plt.subplot(3,3,9, projection=ccrs.PlateCarree())\n",
      "ax9.set_extent([72, 136, 52, 17], ccrs.Geodetic())\n",
      "ax9.coastlines(resolution='50m', color='black', linewidth=1)\n",
      "ax9_gl = ax9.gridlines(draw_labels=True, axes=0)\n",
      "ax9_gl.ylabels_right = False\n",
      "ax9_gl.ylabels_left = False\n",
      "ax9_gl.xlabels_top = False\n",
      "ax9.set_title('2009')\n",
      "ax9.add_feature(cfeature.OCEAN, facecolor='aqua', alpha='0.1')\n",
      "ax9.add_feature(cfeature.BORDERS, alpha='0.2')\n",
      "\n",
      "#ax9.text(0.5, 0.5, 'Text centered at (0.5, 0.5)\\nin data coordinates.', fontsize=14)\n",
      "\n",
      "\n",
      "\n",
      "#ax1.imshow(img, origin='upper', extent=img_extent, cmap=cmap, norm=norm)#, transform=ccrs.Mercator())\n",
      "#ax2.imshow(img, origin='upper', extent=img_extent, cmap=cmap, norm=norm)#, transform=ccrs.Mercator())\n",
      "#ax3.imshow(img, origin='upper', extent=img_extent, cmap=cmap, norm=norm)#, transform=ccrs.Mercator())\n",
      "#ax4.imshow(img, origin='upper', extent=img_extent, cmap=cmap, norm=norm)#, transform=ccrs.Mercator())\n",
      "#ax5.imshow(img, origin='upper', extent=img_extent, cmap=cmap, norm=norm)#, transform=ccrs.Mercator())\n",
      "#ax6.imshow(img, origin='upper', extent=img_extent, cmap=cmap, norm=norm)#, transform=ccrs.Mercator())\n",
      "#ax7.imshow(img, origin='upper', extent=img_extent, cmap=cmap, norm=norm)#, transform=ccrs.Mercator())\n",
      "#ax8.imshow(img, origin='upper', extent=img_extent, cmap=cmap, norm=norm)#, transform=ccrs.Mercator())\n",
      "im = ax9.imshow(img, origin='upper', extent=img_extent, cmap=cmap, norm=norm)#, transform=ccrs.Mercator())\n",
      "title = 'NDVI Anomaly DOY'+rasterBase[-7:-4]\n",
      "plt.suptitle(title, y=0.98, fontsize=22)\n",
      "\n",
      "\n",
      "\n",
      "\n",
      "\n",
      "\n",
      "cax = fig.add_axes([0.15, 0.05, 0.7, 0.03])\n",
      "cb = fig.colorbar(im, cax=cax, ticks=[-1]+bounds+[1], norm=norm, extend='both', extendfrac='auto', orientation='horizontal').set_label('NDVI Difference')\n",
      "\n",
      "\n",
      "outPath = r'D:\\Data\\NDVIanomalytimeseriesPNG//__TEST.png' # [-15:-4] original\n",
      "print outPath\n",
      "fig.savefig(outPath, dpi=200)\n"
     ],
     "language": "python",
     "metadata": {},
     "outputs": []
    },
    {
     "cell_type": "code",
     "collapsed": false,
     "input": [
      "import cartopy \n",
      "# Set up a standard map for latlon data.\n",
      "#geo_axes = pyplot.axes(projection=cartopy.crs.PlateCarree())\n",
      "\n",
      "# Set up an OSGB map.\n",
      "geo_axes = pyplot.subplot(2, 2, 1, projection=cartopy.crs.OSGB())"
     ],
     "language": "python",
     "metadata": {},
     "outputs": []
    },
    {
     "cell_type": "code",
     "collapsed": false,
     "input": [
      "fig = plt.figure()\n",
      "# plot 1\n",
      "\n",
      "ax1\n",
      "ax1 = plt.axes(projection=ccrs.PlateCarree())\n",
      "\n",
      "ax1.set_extent([72, 136, 52, 17], ccrs.Geodetic())\n",
      "ax1.coastlines(resolution='50m', color='black', linewidth=1)\n",
      "\n",
      "ax1.gridlines(draw_labels=True, axes=0)\n",
      "ax1.add_feature(cfeature.OCEAN, facecolor='aqua', alpha='0.1')\n",
      "ax1.add_feature(cfeature.BORDERS, alpha='0.2')\n",
      "\n",
      "\n",
      "#ax1 = fig.add_subplot(3, 3, 1)\n",
      "ax2 = fig.add_subplot(3, 3, 2)\n",
      "ax3 = fig.add_subplot(3, 3, 3)\n",
      "ax4 = fig.add_subplot(3, 3, 4)\n",
      "ax5 = fig.add_subplot(3, 3, 5)\n",
      "ax6 = fig.add_subplot(3, 3, 6)\n",
      "ax7 = fig.add_subplot(3, 3, 7)\n",
      "ax8 = fig.add_subplot(3, 3, 8)\n",
      "ax9 = fig.add_subplot(3, 3, 9)\n",
      "plt.tight_layout()"
     ],
     "language": "python",
     "metadata": {},
     "outputs": []
    },
    {
     "cell_type": "code",
     "collapsed": false,
     "input": [],
     "language": "python",
     "metadata": {},
     "outputs": []
    }
   ],
   "metadata": {}
  }
 ]
}