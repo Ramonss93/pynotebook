{
 "metadata": {
  "name": ""
 },
 "nbformat": 3,
 "nbformat_minor": 0,
 "worksheets": [
  {
   "cells": [
    {
     "cell_type": "code",
     "collapsed": false,
     "input": [
      "import os\n",
      "\n",
      "import numpy as np\n",
      "import matplotlib.pyplot as plt\n",
      "from matplotlib.mlab import csv2rec\n",
      "import scipy.stats.distributions as dist\n",
      "from scipy import fftpack\n",
      "\n",
      "import nitime\n",
      "from nitime.timeseries import TimeSeries\n",
      "from nitime import utils\n",
      "import nitime.algorithms as alg\n",
      "import nitime.viz\n",
      "from nitime.viz import drawmatrix_channels\n",
      "from nitime.analysis import CoherenceAnalyzer, MTCoherenceAnalyzer\n",
      "\n",
      "TR = 1.89\n",
      "f_ub = 0.002\n",
      "f_lb = 0.003"
     ],
     "language": "python",
     "metadata": {},
     "outputs": [],
     "prompt_number": 55
    },
    {
     "cell_type": "code",
     "collapsed": false,
     "input": [
      "data_path = os.path.join(nitime.__path__[0], 'data')\n",
      "\n",
      "data_rec = csv2rec(os.path.join(data_path, 'x_l.csv'))"
     ],
     "language": "python",
     "metadata": {},
     "outputs": [],
     "prompt_number": 72
    },
    {
     "cell_type": "code",
     "collapsed": false,
     "input": [
      "roi_names = np.array(data_rec.dtype.names)\n",
      "nseq = len(roi_names)\n",
      "n_samples = data_rec.shape[0]\n",
      "data = np.zeros((nseq, n_samples))\n",
      "\n",
      "for n_idx, roi in enumerate(roi_names):\n",
      "    data[n_idx] = data_rec[roi]"
     ],
     "language": "python",
     "metadata": {},
     "outputs": [],
     "prompt_number": 73
    },
    {
     "cell_type": "code",
     "collapsed": false,
     "input": [
      "pdata = utils.percent_change(data)"
     ],
     "language": "python",
     "metadata": {},
     "outputs": [],
     "prompt_number": 74
    },
    {
     "cell_type": "code",
     "collapsed": false,
     "input": [
      "pdata.shape"
     ],
     "language": "python",
     "metadata": {},
     "outputs": [
      {
       "metadata": {},
       "output_type": "pyout",
       "prompt_number": 80,
       "text": [
        "(2L, 3650L)"
       ]
      }
     ],
     "prompt_number": 80
    },
    {
     "cell_type": "code",
     "collapsed": false,
     "input": [
      "NW = 4\n",
      "K = 2 * NW - 1\n",
      "\n",
      "tapers, eigs = alg.dpss_windows(n_samples, NW, K)"
     ],
     "language": "python",
     "metadata": {},
     "outputs": [],
     "prompt_number": 75
    },
    {
     "cell_type": "code",
     "collapsed": false,
     "input": [
      "tapers.shape"
     ],
     "language": "python",
     "metadata": {},
     "outputs": [
      {
       "metadata": {},
       "output_type": "pyout",
       "prompt_number": 76,
       "text": [
        "(7L, 3650L)"
       ]
      }
     ],
     "prompt_number": 76
    },
    {
     "cell_type": "code",
     "collapsed": false,
     "input": [
      "tdata = tapers[None, :, :] * pdata[:, None, :]\n",
      "tspectra = fftpack.fft(tdata)\n",
      "mag_sqr_spectra = np.abs(tspectra)\n",
      "np.power(mag_sqr_spectra, 2, mag_sqr_spectra)"
     ],
     "language": "python",
     "metadata": {},
     "outputs": [],
     "prompt_number": 77
    },
    {
     "cell_type": "code",
     "collapsed": false,
     "input": [
      "L = n_samples / 2 + 1\n",
      "sides = 'onesided'"
     ],
     "language": "python",
     "metadata": {},
     "outputs": [],
     "prompt_number": 61
    },
    {
     "cell_type": "code",
     "collapsed": false,
     "input": [
      "w = np.empty((nseq, K, L))\n",
      "for i in xrange(nseq):\n",
      "    w[i], _ = utils.adaptive_weights(tspectra[i], eigs, sides=sides)"
     ],
     "language": "python",
     "metadata": {},
     "outputs": [
      {
       "output_type": "stream",
       "stream": "stderr",
       "text": [
        "D:\\Python27\\lib\\site-packages\\nitime\\algorithms\\spectral.py:580: RuntimeWarning: invalid value encountered in divide\n",
        "  sf /= denom\n"
       ]
      }
     ],
     "prompt_number": 62
    },
    {
     "cell_type": "code",
     "collapsed": false,
     "input": [
      "csd_mat = np.zeros((nseq, nseq, L), 'D')\n",
      "psd_mat = np.zeros((2, nseq, nseq, L), 'd')\n",
      "coh_mat = np.zeros((nseq, nseq, L), 'd')\n",
      "coh_var = np.zeros_like(coh_mat)"
     ],
     "language": "python",
     "metadata": {},
     "outputs": [],
     "prompt_number": 63
    },
    {
     "cell_type": "code",
     "collapsed": false,
     "input": [
      "for i in xrange(nseq):\n",
      "    for j in xrange(i):\n",
      "        sxy = alg.mtm_cross_spectrum(tspectra[i], tspectra[j], (w[i], w[j]), sides='onesided')\n",
      "        sxx = alg.mtm_cross_spectrum(tspectra[i], tspectra[i], w[i], sides='onesided')\n",
      "        syy = alg.mtm_cross_spectrum(tspectra[j], tspectra[j], w[j], sides='onesided')\n",
      "\n",
      "        psd_mat[0, i, j] = sxx\n",
      "        psd_mat[1, i, j] = syy\n",
      "        \n",
      "        coh_mat[i, j] = np.abs(sxy) ** 2\n",
      "        coh_mat[i, j] /= (sxx * syy)\n",
      "        csd_mat[i, j] = sxy\n",
      "        if i != j:\n",
      "            coh_var[i, j] = utils.jackknifed_coh_variance(tspectra[i], tspectra[j], eigs, adaptive=True,)"
     ],
     "language": "python",
     "metadata": {},
     "outputs": [
      {
       "output_type": "stream",
       "stream": "stderr",
       "text": [
        "D:\\Python27\\lib\\site-packages\\nitime\\utils.py:557: RuntimeWarning: Breaking due to iterative meltdown in nitime.utils.adaptive_weights.\n",
        "  warnings.warn(e_s, RuntimeWarning)\n"
       ]
      }
     ],
     "prompt_number": 48
    },
    {
     "cell_type": "code",
     "collapsed": false,
     "input": [
      "coh_mat_xform = utils.normalize_coherence(coh_mat, 2 * K - 2)"
     ],
     "language": "python",
     "metadata": {},
     "outputs": [],
     "prompt_number": 49
    },
    {
     "cell_type": "code",
     "collapsed": false,
     "input": [
      "t025_limit = coh_mat_xform + dist.t.ppf(.025, K - 1) * np.sqrt(coh_var)\n",
      "t975_limit = coh_mat_xform + dist.t.ppf(.975, K - 1) * np.sqrt(coh_var)\n",
      "\n",
      "\n",
      "utils.normal_coherence_to_unit(t025_limit, 2 * K - 2, t025_limit)\n",
      "utils.normal_coherence_to_unit(t975_limit, 2 * K - 2, t975_limit)\n",
      "\n",
      "if L < n_samples:\n",
      "    freqs = np.linspace(0, 1 / (2 * TR), L)\n",
      "else:\n",
      "    freqs = np.linspace(0, 1 / TR, L, endpoint=False)"
     ],
     "language": "python",
     "metadata": {},
     "outputs": [],
     "prompt_number": 50
    },
    {
     "cell_type": "code",
     "collapsed": false,
     "input": [
      "freq_idx = np.where((freqs > f_lb) * (freqs < f_ub))[0]"
     ],
     "language": "python",
     "metadata": {},
     "outputs": [],
     "prompt_number": 51
    },
    {
     "cell_type": "code",
     "collapsed": false,
     "input": [
      "coh = np.mean(coh_mat[:, :, freq_idx], -1)  # Averaging on the last dimension"
     ],
     "language": "python",
     "metadata": {},
     "outputs": [
      {
       "output_type": "stream",
       "stream": "stderr",
       "text": [
        "D:\\Python27\\lib\\site-packages\\numpy\\core\\_methods.py:55: RuntimeWarning: Mean of empty slice.\n",
        "  warnings.warn(\"Mean of empty slice.\", RuntimeWarning)\n",
        "D:\\Python27\\lib\\site-packages\\numpy\\core\\_methods.py:65: RuntimeWarning: invalid value encountered in true_divide\n",
        "  ret, rcount, out=ret, casting='unsafe', subok=False)\n"
       ]
      }
     ],
     "prompt_number": 52
    },
    {
     "cell_type": "code",
     "collapsed": false,
     "input": [
      "coh"
     ],
     "language": "python",
     "metadata": {},
     "outputs": [
      {
       "metadata": {},
       "output_type": "pyout",
       "prompt_number": 54,
       "text": [
        "array([[ nan,  nan],\n",
        "       [ nan,  nan]])"
       ]
      }
     ],
     "prompt_number": 54
    },
    {
     "cell_type": "code",
     "collapsed": false,
     "input": [
      "fig01 = drawmatrix_channels(coh,\n",
      "                            roi_names,\n",
      "                            size=[10., 10.],\n",
      "                            color_anchor=0,\n",
      "                            title='MTM Coherence')"
     ],
     "language": "python",
     "metadata": {},
     "outputs": [
      {
       "output_type": "stream",
       "stream": "stderr",
       "text": [
        "D:\\Python27\\lib\\site-packages\\numpy\\lib\\nanfunctions.py:319: RuntimeWarning: All-NaN slice encountered\n",
        "  warnings.warn(\"All-NaN slice encountered\", RuntimeWarning)\n",
        "D:\\Python27\\lib\\site-packages\\numpy\\lib\\nanfunctions.py:220: RuntimeWarning: All-NaN axis encountered\n",
        "  warnings.warn(\"All-NaN axis encountered\", RuntimeWarning)\n",
        "D:\\Python27\\lib\\site-packages\\matplotlib\\colorbar.py:581: RuntimeWarning: invalid value encountered in greater\n",
        "  inrange = (ticks > -0.001) & (ticks < 1.001)\n",
        "D:\\Python27\\lib\\site-packages\\matplotlib\\colorbar.py:581: RuntimeWarning: invalid value encountered in less\n",
        "  inrange = (ticks > -0.001) & (ticks < 1.001)\n",
        "D:\\Python27\\lib\\site-packages\\matplotlib\\colors.py:576: RuntimeWarning: invalid value encountered in less\n",
        "  cbook._putmask(xa, xa < 0.0, -1)\n"
       ]
      },
      {
       "metadata": {},
       "output_type": "display_data",
       "png": "[encoded data removed]",
       "text": [
        "<matplotlib.figure.Figure at 0x16d39f28>"
       ]
      }
     ],
     "prompt_number": 53
    },
    {
     "cell_type": "code",
     "collapsed": false,
     "input": [],
     "language": "python",
     "metadata": {},
     "outputs": []
    }
   ],
   "metadata": {}
  }
 ]
}