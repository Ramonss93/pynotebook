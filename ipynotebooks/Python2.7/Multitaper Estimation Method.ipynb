{
 "metadata": {
  "name": ""
 },
 "nbformat": 3,
 "nbformat_minor": 0,
 "worksheets": [
  {
   "cells": [
    {
     "cell_type": "code",
     "collapsed": false,
     "input": [
      "%matplotlib inline\n",
      "from osgeo import gdal\n",
      "import numpy as np\n",
      "from __future__ import division\n",
      "import os\n",
      "import matplotlib.pyplot as plt\n",
      "import nitime.algorithms as tsa\n",
      "#import nitime.utils as utils"
     ],
     "language": "python",
     "metadata": {},
     "outputs": [],
     "prompt_number": 1
    },
    {
     "cell_type": "code",
     "collapsed": false,
     "input": [
      "def listall(RootFolder, wildcard=''):\n",
      "    lists = [os.path.join(root, name)    \n",
      "                 for root, dirs, files in os.walk(RootFolder)\n",
      "                   for name in files\n",
      "                   if wildcard in name\n",
      "                     if name.endswith('.TIF')]\n",
      "    return lists"
     ],
     "language": "python",
     "metadata": {},
     "outputs": [],
     "prompt_number": 2
    },
    {
     "cell_type": "code",
     "collapsed": false,
     "input": [
      "def saveRaster(path, array, dsSource, datatype=3, formatraster=\"GTiff\", nan=None): \n",
      "    \"\"\"\n",
      "    Datatypes:\n",
      "    unknown = 0\n",
      "    byte = 1\n",
      "    unsigned int16 = 2\n",
      "    signed int16 = 3\n",
      "    unsigned int32 = 4\n",
      "    signed int32 = 5\n",
      "    float32 = 6\n",
      "    float64 = 7\n",
      "    complex int16 = 8\n",
      "    complex int32 = 9\n",
      "    complex float32 = 10\n",
      "    complex float64 = 11\n",
      "    float32 = 6, \n",
      "    signed int = 3\n",
      "    \n",
      "    Formatraster:\n",
      "    GeoTIFF = GTiff\n",
      "    Erdas = HFA (output = .img)\n",
      "    OGC web map service = WMS\n",
      "    png = PNG\n",
      "    \"\"\"\n",
      "    # Set Driver\n",
      "    format_ = formatraster #save as format\n",
      "    driver = gdal.GetDriverByName( format_ )\n",
      "    driver.Register()\n",
      "    \n",
      "    # Set Metadata for Raster output\n",
      "    cols = dsSource.RasterXSize\n",
      "    rows = dsSource.RasterYSize\n",
      "    bands = dsSource.RasterCount\n",
      "    datatype = datatype#band.DataType\n",
      "    \n",
      "    # Set Projection for Raster\n",
      "    outDataset = driver.Create(path, cols, rows, bands, datatype)\n",
      "    geoTransform = dsSource.GetGeoTransform()\n",
      "    outDataset.SetGeoTransform(geoTransform)\n",
      "    proj = dsSource.GetProjection()\n",
      "    outDataset.SetProjection(proj)\n",
      "    \n",
      "    # Write output to band 1 of new Raster and write NaN value\n",
      "    outBand = outDataset.GetRasterBand(1)\n",
      "    if nan != None:\n",
      "        outBand.SetNoDataValue(nan)\n",
      "    outBand.WriteArray(array) #save input array\n",
      "    #outBand.WriteArray(dem)\n",
      "    \n",
      "    # Close and finalise newly created Raster\n",
      "    #F_M01 = None\n",
      "    outBand = None\n",
      "    proj = None\n",
      "    geoTransform = None\n",
      "    outDataset = None\n",
      "    driver = None\n",
      "    datatype = None\n",
      "    bands = None\n",
      "    rows = None\n",
      "    cols = None\n",
      "    driver = None\n",
      "    array = None"
     ],
     "language": "python",
     "metadata": {},
     "outputs": [],
     "prompt_number": 3
    },
    {
     "cell_type": "code",
     "collapsed": false,
     "input": [
      "# set frequency upper lower boundary annual period\n",
      "f_lb_an = (1./(366+20)) # 3\n",
      "f_ub_an = (1./(366-20)) # 3\n",
      "\n",
      "def mtem(x,y, f_lb_an=f_lb_an, f_ub_an=f_ub_an):\n",
      "    # multitaper estimation method\n",
      "    print 'ap_trmm size', x.shape\n",
      "    print 'ap_ndvi size', y.shape\n",
      "    f, pcsd_est = tsa.multi_taper_csd(np.vstack([x,y]), Fs=1., low_bias=True, adaptive=True, sides='onesided')\n",
      "    fkx = pcsd_est.diagonal().T[0:int(x.shape[0])]\n",
      "    fky = pcsd_est.diagonal().T[int(x.shape[0])::]\n",
      "    cxy = pcsd_est.diagonal(-int(x.shape[0])).T\n",
      "    ph = np.angle(cxy)\n",
      "    coh = np.abs(cxy)**2 / (fkx * fky)\n",
      "    \n",
      "    # frequency index\n",
      "    f_ix_an = np.where((f > f_lb_an) * (f < f_ub_an))[0]\n",
      "    \n",
      "    # extract and average over frequency index\n",
      "    f_12 = np.mean(f[f_ix_an],-1)\n",
      "    fkx_12 = np.real(np.mean(fkx[:,f_ix_an], -1)).reshape((numRows,numCols))\n",
      "    fky_12 = np.real(np.mean(fky[:,f_ix_an], -1)).reshape((numRows,numCols))\n",
      "    cxy_12 = np.real(np.mean(cxy[:,f_ix_an], -1)).reshape((numRows,numCols))\n",
      "    coh_12 = np.real(np.mean(coh[:,f_ix_an], -1)).reshape((numRows,numCols))\n",
      "    ph_12 = np.real(np.mean(ph[:,f_ix_an], -1))\n",
      "    ph_12 /= (2*np.pi*f_12) # convert radian to days\n",
      "    ph_12[np.where(ph_12<0)]+=(1./f_12) # shift <0 values\n",
      "    ph_12 = ph_12.reshape((numRows,numCols))\n",
      "    \n",
      "    return fkx_12, fky_12,cxy_12,coh_12,ph_12"
     ],
     "language": "python",
     "metadata": {},
     "outputs": [],
     "prompt_number": 4
    },
    {
     "cell_type": "code",
     "collapsed": false,
     "input": [
      "folder_trmm = r'D:\\Data\\0_DAILY_INTERVAL_NDVI_TRMM\\InnerMongolia\\TRMM2_2009\\10_Day_Period\\split_rasters\\0'\n",
      "folder_ndvi = r'D:\\Data\\0_DAILY_INTERVAL_NDVI_TRMM\\InnerMongolia\\NDVI_2009\\split_rasters\\0'\n",
      "\n",
      "files_trmm = listall(folder_trmm)\n",
      "files_ndvi = listall(folder_ndvi)\n",
      "len(files_ndvi),len(files_trmm)"
     ],
     "language": "python",
     "metadata": {},
     "outputs": [
      {
       "metadata": {},
       "output_type": "pyout",
       "prompt_number": 5,
       "text": [
        "(364, 364)"
       ]
      }
     ],
     "prompt_number": 5
    },
    {
     "cell_type": "code",
     "collapsed": false,
     "input": [
      "# register all of the GDAL drivers\n",
      "gdal.AllRegister()\n",
      "path_base = r'D:\\Data\\0_DAILY_INTERVAL_NDVI_TRMM\\InnerMongolia\\TRMM2_2009\\10_Day_Period\\split_rasters\\0//0_TRMM_IM_2009001.tif'\n",
      "# open the image\n",
      "ds = gdal.Open(path_base, gdal.GA_ReadOnly)\n",
      "if ds is None:\n",
      "  print 'Could not open'\n",
      "  sys.exit(1)\n",
      "\n",
      "# get image size\n",
      "rows = ds.RasterYSize\n",
      "cols = ds.RasterXSize\n",
      "bands = ds.RasterCount\n",
      "\n",
      "# get the band and block sizes\n",
      "band = ds.GetRasterBand(1)\n",
      "base = band.ReadAsArray()\n",
      "nan = band.GetNoDataValue()\n",
      "\n",
      "#blockSizes = utils.GetBlockSize(band)\n",
      "xBlockSize = 10\n",
      "yBlockSize = 10"
     ],
     "language": "python",
     "metadata": {},
     "outputs": [],
     "prompt_number": 6
    },
    {
     "cell_type": "code",
     "collapsed": false,
     "input": [
      "fkx_12array = np.zeros_like(base)\n",
      "fky_12array = np.zeros_like(base)\n",
      "cxy_12array = np.zeros_like(base)\n",
      "coh_12array = np.zeros_like(base)\n",
      "ph_12array = np.zeros_like(base)"
     ],
     "language": "python",
     "metadata": {},
     "outputs": [],
     "prompt_number": 7
    },
    {
     "cell_type": "code",
     "collapsed": false,
     "input": [
      "# loop through the rows\n",
      "for i in range(0, rows, yBlockSize):\n",
      "    if i + yBlockSize < rows:\n",
      "        numRows = yBlockSize\n",
      "    else:\n",
      "        numRows = rows - i\n",
      "    \n",
      "    # loop through the columns\n",
      "    for j in range(0, cols, xBlockSize):\n",
      "        if j + xBlockSize < cols:\n",
      "            numCols = xBlockSize\n",
      "        else:\n",
      "            numCols = cols - j\n",
      "        \n",
      "        print j, i, numCols, numRows\n",
      "        # set base array to fill \n",
      "        ap_trmm = np.zeros(shape=(len(files_trmm),numRows,numCols), dtype=np.float32)\n",
      "        ap_ndvi = np.zeros(shape=(len(files_ndvi),numRows,numCols), dtype=np.float32)\n",
      "        \n",
      "        # select blocks from trmm and ndvi files\n",
      "        for m in range(len(files_trmm)):\n",
      "            raster = gdal.Open(files_trmm[m], gdal.GA_ReadOnly)\n",
      "            band = raster.GetRasterBand(1)            \n",
      "            ap_trmm[m] = band.ReadAsArray(j, i, numCols, numRows).astype(np.float)\n",
      "                \n",
      "            raster = gdal.Open(files_ndvi[m], gdal.GA_ReadOnly)\n",
      "            band = raster.GetRasterBand(1)            \n",
      "            ap_ndvi[m] = band.ReadAsArray(j, i, numCols, numRows).astype(np.float)\n",
      "\n",
      "        # reshape from 3D to 2D\n",
      "        ap_trmm = ap_trmm.reshape((int(ap_trmm.shape[0]),int(ap_trmm.shape[1]*ap_trmm.shape[2]))).T\n",
      "        ap_ndvi = ap_ndvi.reshape((int(ap_ndvi.shape[0]),int(ap_ndvi.shape[1]*ap_ndvi.shape[2]))).T\n",
      "        \n",
      "        # extend signal\n",
      "        ap_trmm = np.tile(ap_trmm, 25)\n",
      "        ap_ndvi = np.tile(ap_ndvi, 25)\n",
      "        #ap_trmm = np.resize(ap_trmm, (int(ap_trmm.shape[0]),int(ap_trmm.shape[1]*25) ))\n",
      "        #ap_ndvi = np.resize(ap_ndvi, (int(ap_ndvi.shape[0]),int(ap_ndvi.shape[1]*25) ))\n",
      "        \n",
      "        # filter nan values\n",
      "        nan_ndvi_ix = np.where(np.mean(ap_ndvi, axis=-1, dtype=np.float64)==nan)\n",
      "        nan_trmm_ix = np.where(np.mean(ap_trmm, axis=-1, dtype=np.float64)==nan)\n",
      "        ap_trmm[nan_ndvi_ix] = nan        \n",
      "        ap_ndvi[nan_trmm_ix] = nan\n",
      "        \n",
      "        fkx_12, fky_12, cxy_12, coh_12, ph_12 = mtem(ap_trmm, ap_ndvi)\n",
      "        \n",
      "        fky_12array[i:i+numRows, j:j+numCols] = fky_12\n",
      "        fkx_12array[i:i+numRows, j:j+numCols] = fkx_12\n",
      "        cxy_12array[i:i+numRows, j:j+numCols] = cxy_12\n",
      "        coh_12array[i:i+numRows, j:j+numCols] = coh_12\n",
      "        ph_12array[i:i+numRows, j:j+numCols] = ph_12\n",
      "        \n",
      "folder12 = r'D:\\Data\\0_DAILY_INTERVAL_NDVI_TRMM\\InnerMongolia\\OUTPUT_2009\\12_0//'\n",
      "path_coher12 = folder12+'coh12.tif'\n",
      "path_phase12 = folder12+'ph12.tif'\n",
      "path_pwsdx12 = folder12+'psdx12.tif'\n",
      "path_pwsdy12 = folder12+'psdy12.tif'\n",
      "path_csdxy12 = folder12+'csdxy12.tif'\n",
      "        \n",
      "saveRaster(path_coher12, coh_12array, ds, datatype=6, nan=-99999.0)\n",
      "saveRaster(path_phase12, ph_12array, ds, datatype=6, nan=-99999.0)\n",
      "saveRaster(path_pwsdx12, fkx_12array, ds, datatype=6, nan=-99999.0)\n",
      "saveRaster(path_pwsdy12, fky_12array, ds, datatype=6, nan=-99999.0)\n",
      "saveRaster(path_csdxy12, cxy_12array, ds, datatype=6, nan=-99999.0)"
     ],
     "language": "python",
     "metadata": {},
     "outputs": [
      {
       "output_type": "stream",
       "stream": "stdout",
       "text": [
        "0 0 10 10\n",
        "ap_trmm size"
       ]
      },
      {
       "output_type": "stream",
       "stream": "stdout",
       "text": [
        " (100L, 9100L)\n",
        "ap_ndvi size (100L, 9100L)\n",
        "10"
       ]
      },
      {
       "output_type": "stream",
       "stream": "stdout",
       "text": [
        " 0 10 10\n",
        "ap_trmm size"
       ]
      },
      {
       "output_type": "stream",
       "stream": "stdout",
       "text": [
        " (100L, 9100L)\n",
        "ap_ndvi size (100L, 9100L)\n",
        "20"
       ]
      },
      {
       "output_type": "stream",
       "stream": "stdout",
       "text": [
        " 0 10 10\n",
        "ap_trmm size"
       ]
      },
      {
       "output_type": "stream",
       "stream": "stdout",
       "text": [
        " (100L, 9100L)\n",
        "ap_ndvi size (100L, 9100L)\n",
        "30"
       ]
      },
      {
       "output_type": "stream",
       "stream": "stdout",
       "text": [
        " 0 10 10\n",
        "ap_trmm size"
       ]
      },
      {
       "output_type": "stream",
       "stream": "stdout",
       "text": [
        " (100L, 9100L)\n",
        "ap_ndvi size (100L, 9100L)\n",
        "40"
       ]
      },
      {
       "output_type": "stream",
       "stream": "stdout",
       "text": [
        " 0 10 10\n",
        "ap_trmm size"
       ]
      },
      {
       "output_type": "stream",
       "stream": "stdout",
       "text": [
        " (100L, 9100L)\n",
        "ap_ndvi size (100L, 9100L)\n",
        "50"
       ]
      },
      {
       "output_type": "stream",
       "stream": "stdout",
       "text": [
        " 0 10 10\n",
        "ap_trmm size"
       ]
      },
      {
       "output_type": "stream",
       "stream": "stdout",
       "text": [
        " (100L, 9100L)\n",
        "ap_ndvi size (100L, 9100L)\n",
        "60"
       ]
      },
      {
       "output_type": "stream",
       "stream": "stdout",
       "text": [
        " 0 10 10\n",
        "ap_trmm size"
       ]
      },
      {
       "output_type": "stream",
       "stream": "stdout",
       "text": [
        " (100L, 9100L)\n",
        "ap_ndvi size (100L, 9100L)\n",
        "70"
       ]
      },
      {
       "output_type": "stream",
       "stream": "stdout",
       "text": [
        " 0 10 10\n",
        "ap_trmm size"
       ]
      },
      {
       "output_type": "stream",
       "stream": "stdout",
       "text": [
        " (100L, 9100L)\n",
        "ap_ndvi size (100L, 9100L)\n",
        "80"
       ]
      },
      {
       "output_type": "stream",
       "stream": "stdout",
       "text": [
        " 0 10 10\n",
        "ap_trmm size"
       ]
      },
      {
       "output_type": "stream",
       "stream": "stdout",
       "text": [
        " (100L, 9100L)\n",
        "ap_ndvi size (100L, 9100L)\n",
        "90"
       ]
      },
      {
       "output_type": "stream",
       "stream": "stdout",
       "text": [
        " 0 10 10\n",
        "ap_trmm size"
       ]
      },
      {
       "output_type": "stream",
       "stream": "stdout",
       "text": [
        " (100L, 9100L)\n",
        "ap_ndvi size (100L, 9100L)\n",
        "100"
       ]
      },
      {
       "output_type": "stream",
       "stream": "stdout",
       "text": [
        " 0 10 10\n",
        "ap_trmm size"
       ]
      },
      {
       "ename": "KeyboardInterrupt",
       "evalue": "",
       "output_type": "pyerr",
       "traceback": [
        "\u001b[1;31m---------------------------------------------------------------------------\u001b[0m\n\u001b[1;31mKeyboardInterrupt\u001b[0m                         Traceback (most recent call last)",
        "\u001b[1;32m<ipython-input-8-d713e82cfd0c>\u001b[0m in \u001b[0;36m<module>\u001b[1;34m()\u001b[0m\n\u001b[0;32m     44\u001b[0m         \u001b[0map_ndvi\u001b[0m\u001b[1;33m[\u001b[0m\u001b[0mnan_trmm_ix\u001b[0m\u001b[1;33m]\u001b[0m \u001b[1;33m=\u001b[0m \u001b[0mnan\u001b[0m\u001b[1;33m\u001b[0m\u001b[0m\n\u001b[0;32m     45\u001b[0m \u001b[1;33m\u001b[0m\u001b[0m\n\u001b[1;32m---> 46\u001b[1;33m         \u001b[0mfkx_12\u001b[0m\u001b[1;33m,\u001b[0m \u001b[0mfky_12\u001b[0m\u001b[1;33m,\u001b[0m \u001b[0mcxy_12\u001b[0m\u001b[1;33m,\u001b[0m \u001b[0mcoh_12\u001b[0m\u001b[1;33m,\u001b[0m \u001b[0mph_12\u001b[0m \u001b[1;33m=\u001b[0m \u001b[0mmtem\u001b[0m\u001b[1;33m(\u001b[0m\u001b[0map_trmm\u001b[0m\u001b[1;33m,\u001b[0m \u001b[0map_ndvi\u001b[0m\u001b[1;33m)\u001b[0m\u001b[1;33m\u001b[0m\u001b[0m\n\u001b[0m\u001b[0;32m     47\u001b[0m \u001b[1;33m\u001b[0m\u001b[0m\n\u001b[0;32m     48\u001b[0m         \u001b[0mfky_12array\u001b[0m\u001b[1;33m[\u001b[0m\u001b[0mi\u001b[0m\u001b[1;33m:\u001b[0m\u001b[0mi\u001b[0m\u001b[1;33m+\u001b[0m\u001b[0mnumRows\u001b[0m\u001b[1;33m,\u001b[0m \u001b[0mj\u001b[0m\u001b[1;33m:\u001b[0m\u001b[0mj\u001b[0m\u001b[1;33m+\u001b[0m\u001b[0mnumCols\u001b[0m\u001b[1;33m]\u001b[0m \u001b[1;33m=\u001b[0m \u001b[0mfky_12\u001b[0m\u001b[1;33m\u001b[0m\u001b[0m\n",
        "\u001b[1;32m<ipython-input-4-aea31ae0484e>\u001b[0m in \u001b[0;36mmtem\u001b[1;34m(x, y, f_lb_an, f_ub_an)\u001b[0m\n\u001b[0;32m      7\u001b[0m     \u001b[1;32mprint\u001b[0m \u001b[1;34m'ap_trmm size'\u001b[0m\u001b[1;33m,\u001b[0m \u001b[0mx\u001b[0m\u001b[1;33m.\u001b[0m\u001b[0mshape\u001b[0m\u001b[1;33m\u001b[0m\u001b[0m\n\u001b[0;32m      8\u001b[0m     \u001b[1;32mprint\u001b[0m \u001b[1;34m'ap_ndvi size'\u001b[0m\u001b[1;33m,\u001b[0m \u001b[0my\u001b[0m\u001b[1;33m.\u001b[0m\u001b[0mshape\u001b[0m\u001b[1;33m\u001b[0m\u001b[0m\n\u001b[1;32m----> 9\u001b[1;33m     \u001b[0mf\u001b[0m\u001b[1;33m,\u001b[0m \u001b[0mpcsd_est\u001b[0m \u001b[1;33m=\u001b[0m \u001b[0mtsa\u001b[0m\u001b[1;33m.\u001b[0m\u001b[0mmulti_taper_csd\u001b[0m\u001b[1;33m(\u001b[0m\u001b[0mnp\u001b[0m\u001b[1;33m.\u001b[0m\u001b[0mvstack\u001b[0m\u001b[1;33m(\u001b[0m\u001b[1;33m[\u001b[0m\u001b[0mx\u001b[0m\u001b[1;33m,\u001b[0m\u001b[0my\u001b[0m\u001b[1;33m]\u001b[0m\u001b[1;33m)\u001b[0m\u001b[1;33m,\u001b[0m \u001b[0mFs\u001b[0m\u001b[1;33m=\u001b[0m\u001b[1;36m1.\u001b[0m\u001b[1;33m,\u001b[0m \u001b[0mlow_bias\u001b[0m\u001b[1;33m=\u001b[0m\u001b[0mTrue\u001b[0m\u001b[1;33m,\u001b[0m \u001b[0madaptive\u001b[0m\u001b[1;33m=\u001b[0m\u001b[0mTrue\u001b[0m\u001b[1;33m,\u001b[0m \u001b[0msides\u001b[0m\u001b[1;33m=\u001b[0m\u001b[1;34m'onesided'\u001b[0m\u001b[1;33m)\u001b[0m\u001b[1;33m\u001b[0m\u001b[0m\n\u001b[0m\u001b[0;32m     10\u001b[0m     \u001b[0mfkx\u001b[0m \u001b[1;33m=\u001b[0m \u001b[0mpcsd_est\u001b[0m\u001b[1;33m.\u001b[0m\u001b[0mdiagonal\u001b[0m\u001b[1;33m(\u001b[0m\u001b[1;33m)\u001b[0m\u001b[1;33m.\u001b[0m\u001b[0mT\u001b[0m\u001b[1;33m[\u001b[0m\u001b[1;36m0\u001b[0m\u001b[1;33m:\u001b[0m\u001b[0mint\u001b[0m\u001b[1;33m(\u001b[0m\u001b[0mx\u001b[0m\u001b[1;33m.\u001b[0m\u001b[0mshape\u001b[0m\u001b[1;33m[\u001b[0m\u001b[1;36m0\u001b[0m\u001b[1;33m]\u001b[0m\u001b[1;33m)\u001b[0m\u001b[1;33m]\u001b[0m\u001b[1;33m\u001b[0m\u001b[0m\n\u001b[0;32m     11\u001b[0m     \u001b[0mfky\u001b[0m \u001b[1;33m=\u001b[0m \u001b[0mpcsd_est\u001b[0m\u001b[1;33m.\u001b[0m\u001b[0mdiagonal\u001b[0m\u001b[1;33m(\u001b[0m\u001b[1;33m)\u001b[0m\u001b[1;33m.\u001b[0m\u001b[0mT\u001b[0m\u001b[1;33m[\u001b[0m\u001b[0mint\u001b[0m\u001b[1;33m(\u001b[0m\u001b[0mx\u001b[0m\u001b[1;33m.\u001b[0m\u001b[0mshape\u001b[0m\u001b[1;33m[\u001b[0m\u001b[1;36m0\u001b[0m\u001b[1;33m]\u001b[0m\u001b[1;33m)\u001b[0m\u001b[1;33m:\u001b[0m\u001b[1;33m:\u001b[0m\u001b[1;33m]\u001b[0m\u001b[1;33m\u001b[0m\u001b[0m\n",
        "\u001b[1;32mD:\\Python27\\lib\\site-packages\\nitime\\algorithms\\spectral.pyc\u001b[0m in \u001b[0;36mmulti_taper_csd\u001b[1;34m(s, Fs, BW, low_bias, adaptive, sides)\u001b[0m\n\u001b[0;32m    823\u001b[0m         \u001b[1;32mfor\u001b[0m \u001b[0mi\u001b[0m \u001b[1;32min\u001b[0m \u001b[0mxrange\u001b[0m\u001b[1;33m(\u001b[0m\u001b[0mM\u001b[0m\u001b[1;33m)\u001b[0m\u001b[1;33m:\u001b[0m\u001b[1;33m\u001b[0m\u001b[0m\n\u001b[0;32m    824\u001b[0m             w[i], nu[i] = utils.adaptive_weights(\n\u001b[1;32m--> 825\u001b[1;33m                 \u001b[0mtapered_spectra\u001b[0m\u001b[1;33m[\u001b[0m\u001b[0mi\u001b[0m\u001b[1;33m]\u001b[0m\u001b[1;33m,\u001b[0m \u001b[0meigvals\u001b[0m\u001b[1;33m,\u001b[0m \u001b[0msides\u001b[0m\u001b[1;33m=\u001b[0m\u001b[0msides\u001b[0m\u001b[1;33m\u001b[0m\u001b[0m\n\u001b[0m\u001b[0;32m    826\u001b[0m                 )\n\u001b[0;32m    827\u001b[0m     \u001b[1;32melse\u001b[0m\u001b[1;33m:\u001b[0m\u001b[1;33m\u001b[0m\u001b[0m\n",
        "\u001b[1;32mD:\\Python27\\lib\\site-packages\\nitime\\utils.pyc\u001b[0m in \u001b[0;36madaptive_weights\u001b[1;34m(yk, eigvals, sides, max_iter)\u001b[0m\n\u001b[0;32m    549\u001b[0m             \u001b[1;32mbreak\u001b[0m\u001b[1;33m\u001b[0m\u001b[0m\n\u001b[0;32m    550\u001b[0m         \u001b[1;31m# update the iterative estimate with this d_k\u001b[0m\u001b[1;33m\u001b[0m\u001b[1;33m\u001b[0m\u001b[0m\n\u001b[1;32m--> 551\u001b[1;33m         \u001b[0msdf_iter\u001b[0m \u001b[1;33m=\u001b[0m \u001b[0mmtm_cross_spectrum\u001b[0m\u001b[1;33m(\u001b[0m\u001b[0myk\u001b[0m\u001b[1;33m,\u001b[0m \u001b[0myk\u001b[0m\u001b[1;33m,\u001b[0m \u001b[0md_k\u001b[0m\u001b[1;33m,\u001b[0m \u001b[0msides\u001b[0m\u001b[1;33m=\u001b[0m\u001b[0msides\u001b[0m\u001b[1;33m)\u001b[0m\u001b[1;33m\u001b[0m\u001b[0m\n\u001b[0m\u001b[0;32m    552\u001b[0m         \u001b[0merr\u001b[0m \u001b[1;33m=\u001b[0m \u001b[0md_k\u001b[0m\u001b[1;33m\u001b[0m\u001b[0m\n\u001b[0;32m    553\u001b[0m     \u001b[1;32melse\u001b[0m\u001b[1;33m:\u001b[0m  \u001b[1;31m# If you have reached maximum number of iterations\u001b[0m\u001b[1;33m\u001b[0m\u001b[0m\n",
        "\u001b[1;32mD:\\Python27\\lib\\site-packages\\nitime\\algorithms\\spectral.pyc\u001b[0m in \u001b[0;36mmtm_cross_spectrum\u001b[1;34m(tx, ty, weights, sides)\u001b[0m\n\u001b[0;32m    576\u001b[0m \u001b[1;33m\u001b[0m\u001b[0m\n\u001b[0;32m    577\u001b[0m     \u001b[0msf\u001b[0m \u001b[1;33m=\u001b[0m \u001b[0mweights_x\u001b[0m \u001b[1;33m*\u001b[0m \u001b[0mtx\u001b[0m\u001b[1;33m\u001b[0m\u001b[0m\n\u001b[1;32m--> 578\u001b[1;33m     \u001b[0msf\u001b[0m \u001b[1;33m*=\u001b[0m \u001b[1;33m(\u001b[0m\u001b[0mweights_y\u001b[0m \u001b[1;33m*\u001b[0m \u001b[0mty\u001b[0m\u001b[1;33m)\u001b[0m\u001b[1;33m.\u001b[0m\u001b[0mconj\u001b[0m\u001b[1;33m(\u001b[0m\u001b[1;33m)\u001b[0m\u001b[1;33m\u001b[0m\u001b[0m\n\u001b[0m\u001b[0;32m    579\u001b[0m     \u001b[0msf\u001b[0m \u001b[1;33m=\u001b[0m \u001b[0msf\u001b[0m\u001b[1;33m.\u001b[0m\u001b[0msum\u001b[0m\u001b[1;33m(\u001b[0m\u001b[0maxis\u001b[0m\u001b[1;33m=\u001b[0m\u001b[1;36m0\u001b[0m\u001b[1;33m)\u001b[0m\u001b[1;33m\u001b[0m\u001b[0m\n\u001b[0;32m    580\u001b[0m     \u001b[0msf\u001b[0m \u001b[1;33m/=\u001b[0m \u001b[0mdenom\u001b[0m\u001b[1;33m\u001b[0m\u001b[0m\n",
        "\u001b[1;31mKeyboardInterrupt\u001b[0m: "
       ]
      },
      {
       "output_type": "stream",
       "stream": "stdout",
       "text": [
        " (100L, 9100L)\n",
        "ap_ndvi size (100L, 9100L)\n"
       ]
      },
      {
       "output_type": "stream",
       "stream": "stderr",
       "text": [
        "D:\\Python27\\lib\\site-packages\\nitime\\utils.py:557: RuntimeWarning: Breaking due to iterative meltdown in nitime.utils.adaptive_weights.\n",
        "  warnings.warn(e_s, RuntimeWarning)\n"
       ]
      }
     ],
     "prompt_number": 8
    },
    {
     "cell_type": "code",
     "collapsed": false,
     "input": [
      "fky_12.shape"
     ],
     "language": "python",
     "metadata": {},
     "outputs": []
    },
    {
     "cell_type": "code",
     "collapsed": false,
     "input": [
      "# multitaper estimation method\n",
      "print 'ap_trmm size', ap_trmm.shape\n",
      "print 'ap_ndvi size', ap_ndvi.shape\n",
      "f, pcsd_est = tsa.multi_taper_csd(np.vstack([ap_trmm,ap_ndvi]),\n",
      "                                  Fs=1., low_bias=True, adaptive=True, \n",
      "                                  sides='onesided')\n",
      "fkx = pcsd_est.diagonal().T[0:int(ap_trmm.shape[0])]\n",
      "fky = pcsd_est.diagonal().T[int(ap_trmm.shape[0])::]\n",
      "cxy = pcsd_est.diagonal(-int(ap_trmm.shape[0])).T\n",
      "ph = np.angle(cxy)\n",
      "coh = np.abs(cxy)**2 / (fkx * fky)\n",
      "\n",
      "# frequency index\n",
      "f_ix_an = np.where((f > f_lb_an) * (f < f_ub_an))[0]\n",
      "\n",
      "# extract and average over frequency index\n",
      "f_12 = np.mean(f[f_ix_an],-1)\n",
      "fkx_12 = np.real(np.mean(fkx[:,f_ix_an], -1)).reshape((numRows,numCols))\n",
      "fky_12 = np.real(np.mean(fky[:,f_ix_an], -1)).reshape((numRows,numCols))\n",
      "cxy_12 = np.real(np.mean(cxy[:,f_ix_an], -1)).reshape((numRows,numCols))\n",
      "coh_12 = np.real(np.mean(coh[:,f_ix_an], -1)).reshape((numRows,numCols))\n",
      "ph_12 = np.real(np.mean(ph[:,f_ix_an], -1))\n",
      "ph_12 = ph_12/(2*np.pi*f_12) # convert radian to days\n",
      "ph_12[np.where(ph_12<0)]+=(1./f_12) # shift <0 values\n",
      "ph_12 = ph_12.reshape((numRows,numCols))"
     ],
     "language": "python",
     "metadata": {},
     "outputs": []
    },
    {
     "cell_type": "code",
     "collapsed": false,
     "input": [
      "plt.plot(f,coh[0])\n",
      "#plt.plot(f,fkx[0])\n",
      "plt.xlim([0,0.013])"
     ],
     "language": "python",
     "metadata": {},
     "outputs": []
    },
    {
     "cell_type": "code",
     "collapsed": false,
     "input": [
      "trmm = ap_trmm[:,0:365]\n",
      "np.pad(trmm, pad_width=(0,10000), mode='constant', constant_values=(0,0))"
     ],
     "language": "python",
     "metadata": {},
     "outputs": []
    },
    {
     "cell_type": "code",
     "collapsed": false,
     "input": [],
     "language": "python",
     "metadata": {},
     "outputs": []
    },
    {
     "cell_type": "code",
     "collapsed": false,
     "input": [
      "for x in range(15):\n",
      "    fi,fxxi,fyyi,fxyi= tsa.get_spectra_bi(ap_trmm[x],ap_trmm[x], method={'this_method': 'multi_taper_csd', 'Fs':1., 'sides':'twosided'})\n",
      "    plt.subplot(311)\n",
      "    plt.plot(fi,fxxi)\n",
      "    plt.xlim([0,0.0019])\n",
      "    plt.subplot(312)\n",
      "    plt.plot(fi,fyyi)\n",
      "    plt.xlim([0,0.0019])\n",
      "    plt.subplot(313)\n",
      "    plt.plot(fi,fxyi)\n",
      "    plt.xlim([0,0.0019])    "
     ],
     "language": "python",
     "metadata": {},
     "outputs": []
    },
    {
     "cell_type": "code",
     "collapsed": false,
     "input": [
      "# multitaper estimation method\n",
      "f, pcsd_est = tsa.multi_taper_csd(np.vstack([ap_trmm,ap_ndvi]), Fs=1., low_bias=True, adaptive=True, sides='onesided')\n",
      "fkx = pcsd_est.diagonal().T[0:int(ap_trmm.shape[0])]\n",
      "fky = pcsd_est.diagonal().T[int(ap_trmm.shape[0])::]\n",
      "cxy = pcsd_est.diagonal(-int(ap_trmm.shape[0])).T\n",
      "ph = np.angle(cxy)\n",
      "coh = np.abs(cxy)**2 / (fkx * fky)\n",
      "\n",
      "# frequency index\n",
      "f_ix_an = np.where((f > f_lb_an) * (f < f_ub_an))[0]\n",
      "\n",
      "# extract and average over frequency index\n",
      "f_12 = np.mean(f[f_ix_an],-1)\n",
      "fkx_12 = np.real(np.mean(fkx[:,f_ix_an], -1))\n",
      "fky_12 = np.real(np.mean(fky[:,f_ix_an], -1))        \n",
      "cxy_12 = np.real(np.mean(cxy[:,f_ix_an], -1))\n",
      "coh_12 = np.real(np.mean(coh[:,f_ix_an], -1))\n",
      "ph_12 = np.real(np.mean(ph[:,f_ix_an], -1))\n",
      "ph_12 = ph_12/(2*np.pi*f_12)\n",
      "ph_12[ph_12 < 0] = ph_12 + (1./f_12)"
     ],
     "language": "python",
     "metadata": {},
     "outputs": []
    },
    {
     "cell_type": "code",
     "collapsed": false,
     "input": [
      "tes2 = ap_trmm.reshape((int(ap_trmm.shape[0]),int(ap_trmm.shape[1]*ap_trmm.shape[2]))).T"
     ],
     "language": "python",
     "metadata": {},
     "outputs": []
    },
    {
     "cell_type": "code",
     "collapsed": false,
     "input": [
      "tes2.T.reshape((len(files_trmm), numRows,numCols))"
     ],
     "language": "python",
     "metadata": {},
     "outputs": []
    },
    {
     "cell_type": "code",
     "collapsed": false,
     "input": [],
     "language": "python",
     "metadata": {},
     "outputs": []
    },
    {
     "cell_type": "code",
     "collapsed": false,
     "input": [
      "t_re = np.zeros(shape=(len(files_trmm),numRows,numCols), dtype=np.float32)\n",
      "t_re2 = t_re.reshape((int(t_re.shape[0]),int(t_re.shape[1]*t_re.shape[2]))).T\n",
      "#t_re,t_re2"
     ],
     "language": "python",
     "metadata": {},
     "outputs": []
    },
    {
     "cell_type": "code",
     "collapsed": false,
     "input": [
      "t_re2.T.reshape((len(files_trmm), numRows,numCols))"
     ],
     "language": "python",
     "metadata": {},
     "outputs": []
    },
    {
     "cell_type": "code",
     "collapsed": false,
     "input": [
      "t_re2"
     ],
     "language": "python",
     "metadata": {},
     "outputs": []
    },
    {
     "cell_type": "code",
     "collapsed": false,
     "input": [
      "# set frequency upper lower boundary\n",
      "f_lb_an = (1./(366+20)) # 3\n",
      "f_ub_an = (1./(366-20)) # 3\n",
      "\n",
      "# frequency index\n",
      "f_ix_an = np.where((f > f_lb_an) * (f < f_ub_an))[0]\n",
      "\n",
      "# extract and average over frequency index\n",
      "\n",
      "coh_12 = np.real(np.mean(coh[:,f_ix_an], -1))\n",
      "cxy_12 = np.real(np.mean(cxy[:,f_ix_an], -1))\n",
      "fkx_12 = np.real(np.mean(fkx[:,f_ix_an], -1))\n",
      "fky_12 = np.real(np.mean(fky[:,f_ix_an], -1))\n",
      "ph_12 = np.real(np.mean(ph[:,f_ix_an], -1))\n"
     ],
     "language": "python",
     "metadata": {},
     "outputs": []
    },
    {
     "cell_type": "code",
     "collapsed": false,
     "input": [
      "f_12 = np.mean(f[f_ix_an],-1)"
     ],
     "language": "python",
     "metadata": {},
     "outputs": []
    },
    {
     "cell_type": "code",
     "collapsed": false,
     "input": [
      "1./f_12"
     ],
     "language": "python",
     "metadata": {},
     "outputs": []
    },
    {
     "cell_type": "code",
     "collapsed": false,
     "input": [
      "coh_12"
     ],
     "language": "python",
     "metadata": {},
     "outputs": []
    },
    {
     "cell_type": "code",
     "collapsed": false,
     "input": [
      "plt.plot(f,coh[0])\n",
      "plt.xlim([0,0.013])\n",
      "plt.axvline(1./365)"
     ],
     "language": "python",
     "metadata": {},
     "outputs": []
    },
    {
     "cell_type": "code",
     "collapsed": false,
     "input": [
      "plt.plot(f_trmm,psd_ndvi[0])\n",
      "plt.plot(f_trmm,psd_trmm[0])\n",
      "plt.xlim([0,0.013])\n",
      "plt.axvline(1./365)"
     ],
     "language": "python",
     "metadata": {},
     "outputs": []
    },
    {
     "cell_type": "code",
     "collapsed": false,
     "input": [],
     "language": "python",
     "metadata": {},
     "outputs": []
    },
    {
     "cell_type": "code",
     "collapsed": false,
     "input": [
      "fx=None\n",
      "fy=None"
     ],
     "language": "python",
     "metadata": {},
     "outputs": []
    },
    {
     "cell_type": "code",
     "collapsed": false,
     "input": [
      "mc_i = 10\n",
      "\n",
      "fx = tsa.fftpack.fft(np.random.randn(mc_i,int(ap_trmm.shape[1])))\n",
      "fx /= np.sum(abs(fx))\n",
      "\n",
      "fy = tsa.fftpack.fft(np.random.randn(mc_i,int(ap_trmm.shape[1])))\n",
      "fy /= np.sum(abs(fy))\n",
      "\n",
      "ys = np.real(tsa.fftpack.ifft(fy * np.sqrt(1 - coh ** 2))) \n",
      "ys = ys + np.real(tsa.fftpack.ifft(fx *coh))\n",
      "\n",
      "xs = np.real(tsa.fftpack.ifft(fx))\n",
      "\n",
      "fi, pcsd_esti = tsa.multi_taper_csd(np.vstack([xs,ys]), Fs=1., low_bias=True, adaptive=True, sides='twosided')\n",
      "cxyi = pcsd_esti.diagonal(-int(ap_trmm.shape[0])).T\n",
      "phi = np.angle(cxyi)"
     ],
     "language": "python",
     "metadata": {},
     "outputs": []
    },
    {
     "cell_type": "code",
     "collapsed": false,
     "input": [
      "# sort and average the highest uncertianties\n",
      "pl = int(round(0.975*i+1))\n",
      "phi = sort(phi,axis=0)        \n",
      "phi = phi[((i+1)-pl):pl]\n",
      "phi = np.array([phi[pl-1,:],-phi[pl-confn,:]])\n",
      "phi = phi.mean(axis=0)#\n",
      "phi = np.convolve(phi, np.array([1,1,1])/3)\n",
      "phi = phi[1:-1]"
     ],
     "language": "python",
     "metadata": {},
     "outputs": []
    },
    {
     "cell_type": "code",
     "collapsed": false,
     "input": [
      "for x in range(15):\n",
      "    plt.plot(f, cxyi[x])\n",
      "    plt.xlim([0,0.013])"
     ],
     "language": "python",
     "metadata": {},
     "outputs": []
    },
    {
     "cell_type": "code",
     "collapsed": false,
     "input": [
      "ph = np.angle(cxy)\n",
      "for x in range(15):\n",
      "    plt.plot(f,ph[x])\n",
      "    plt.xlim([0,0.013])"
     ],
     "language": "python",
     "metadata": {},
     "outputs": []
    },
    {
     "cell_type": "code",
     "collapsed": false,
     "input": [
      "for x in range(15):\n",
      "    tf,tfxx,tfyy,tfxy = tsa.get_spectra_bi(ap_trmm[x], ap_ndvi[x], method={'this_method': 'multi_taper_csd', 'Fs':1., 'sides':'onesided'})\n",
      "    #plt.plot(tf,tfyy)\n",
      "    #plt.plot(tf,tfxx)\n",
      "    plt.plot(tf,tfxy)\n",
      "    plt.xlim([0,0.0026])"
     ],
     "language": "python",
     "metadata": {},
     "outputs": []
    },
    {
     "cell_type": "code",
     "collapsed": false,
     "input": [
      "plt.figure(figsize=(12,3))\n",
      "for j in range(0,15):\n",
      "    plt.subplot(131)\n",
      "    plt.plot(freqs_csd,csd_est[j][j]) # trmm\n",
      "    plt.xlim([0,0.013])\n",
      "    \n",
      "    plt.subplot(132)\n",
      "    plt.plot(freqs_csd,csd_est[j+15][j+15]) # ndvi\n",
      "    plt.xlim([0,0.013])\n",
      "    \n",
      "    plt.subplot(133)\n",
      "    plt.plot(freqs_csd,csd_est[j][j+15]) # csd\n",
      "    plt.xlim([0,0.013])    \n",
      "    \n",
      "    plt.tight_layout()"
     ],
     "language": "python",
     "metadata": {},
     "outputs": []
    },
    {
     "cell_type": "code",
     "collapsed": false,
     "input": [
      "csd_est.diagonal().T[15::]"
     ],
     "language": "python",
     "metadata": {},
     "outputs": []
    },
    {
     "cell_type": "code",
     "collapsed": false,
     "input": [
      "plt.plot(freqs_csd,csd_est.diagonal().T[0]15])\n",
      "plt.xlim([0,0.013]) "
     ],
     "language": "python",
     "metadata": {},
     "outputs": []
    },
    {
     "cell_type": "code",
     "collapsed": false,
     "input": [
      "ap_ndvi"
     ],
     "language": "python",
     "metadata": {},
     "outputs": []
    },
    {
     "cell_type": "code",
     "collapsed": false,
     "input": [
      "plt.plot(reshape[8])"
     ],
     "language": "python",
     "metadata": {},
     "outputs": []
    },
    {
     "cell_type": "code",
     "collapsed": false,
     "input": [
      "freqs,psd_est,var = tsa.multi_taper_psd(kiik, Fs=1., adaptive=True, low_bias=True, sides='onesided')"
     ],
     "language": "python",
     "metadata": {},
     "outputs": []
    },
    {
     "cell_type": "code",
     "collapsed": false,
     "input": [
      "for q in range(len(psd_est)):\n",
      "    plt.plot(freqs,psd_est[q])\n",
      "    #plt.fill_between(freqs, psd_est[q]-var[q], psd_est[q]+var[q])\n",
      "    plt.xlim([0,0.025])"
     ],
     "language": "python",
     "metadata": {},
     "outputs": []
    },
    {
     "cell_type": "code",
     "collapsed": false,
     "input": [
      "freqs_csd, csd_est = tsa.multi_taper_csd(np.vstack([kiik,kiik]), Fs=1., low_bias=True, \\\n",
      "                    adaptive=True, sides='onesided')"
     ],
     "language": "python",
     "metadata": {},
     "outputs": []
    },
    {
     "cell_type": "code",
     "collapsed": false,
     "input": [
      "kiik = np.resize(reshape, (int(reshape.shape[0]),int(reshape.shape[1]*25) ))"
     ],
     "language": "python",
     "metadata": {},
     "outputs": []
    },
    {
     "cell_type": "code",
     "collapsed": false,
     "input": [
      "plt.plot(kiik[0])"
     ],
     "language": "python",
     "metadata": {},
     "outputs": []
    },
    {
     "cell_type": "code",
     "collapsed": false,
     "input": [
      "csd_est.shape"
     ],
     "language": "python",
     "metadata": {},
     "outputs": []
    },
    {
     "cell_type": "code",
     "collapsed": false,
     "input": [
      "plt.plot(freqs_csd, csd_est[0][29])\n",
      "plt.xlim([0,0.025])"
     ],
     "language": "python",
     "metadata": {},
     "outputs": []
    },
    {
     "cell_type": "code",
     "collapsed": false,
     "input": [
      "np.product(np.vstack([kiik,kiik]).shape[:-1])"
     ],
     "language": "python",
     "metadata": {},
     "outputs": []
    },
    {
     "cell_type": "code",
     "collapsed": false,
     "input": [
      "from nitime.analysis import SpectralAnalyzer"
     ],
     "language": "python",
     "metadata": {},
     "outputs": []
    },
    {
     "cell_type": "code",
     "collapsed": false,
     "input": [
      "f, fxy = tsa.get_spectra(np.vstack([kiik,kiik]), method={'this_method': 'multi_taper_csd', 'Fs':1., \n",
      "                                                'sides':'onesided'})"
     ],
     "language": "python",
     "metadata": {},
     "outputs": []
    },
    {
     "cell_type": "code",
     "collapsed": false,
     "input": [
      "plt.plot(f, fxy[0][0])\n",
      "plt.xlim([0,0.025])"
     ],
     "language": "python",
     "metadata": {},
     "outputs": []
    },
    {
     "cell_type": "code",
     "collapsed": false,
     "input": [
      "plt.plot(f,fxy[0].T)\n",
      "plt.xlim([0,0.025])"
     ],
     "language": "python",
     "metadata": {},
     "outputs": []
    },
    {
     "cell_type": "code",
     "collapsed": false,
     "input": [
      "utils.circle_to_hz("
     ],
     "language": "python",
     "metadata": {},
     "outputs": []
    }
   ],
   "metadata": {}
  }
 ]
}