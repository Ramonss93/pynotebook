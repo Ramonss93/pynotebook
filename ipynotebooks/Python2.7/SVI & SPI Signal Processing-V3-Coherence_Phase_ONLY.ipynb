{
 "metadata": {
  "name": ""
 },
 "nbformat": 3,
 "nbformat_minor": 0,
 "worksheets": [
  {
   "cells": [
    {
     "cell_type": "code",
     "collapsed": false,
     "input": [
      "%matplotlib inline\n",
      "import os\n",
      "import pandas as pd\n",
      "from osgeo import gdal\n",
      "import numpy as np\n",
      "import os\n",
      "import pandas as pd\n",
      "from osgeo import gdal\n",
      "import numpy as np\n",
      "import datetime\n",
      "import matplotlib.pyplot as plt\n",
      "import exceptions"
     ],
     "language": "python",
     "metadata": {},
     "outputs": [],
     "prompt_number": 1
    },
    {
     "cell_type": "code",
     "collapsed": false,
     "input": [
      "def savitzky_golay(y, window_size, order, deriv=0, rate=1):\n",
      "    r\"\"\"Smooth (and optionally differentiate) data with a Savitzky-Golay filter.\n",
      "    The Savitzky-Golay filter removes high frequency noise from data.\n",
      "    It has the advantage of preserving the original shape and\n",
      "    features of the signal better than other types of filtering\n",
      "    approaches, such as moving averages techniques.\n",
      "    Parameters\n",
      "    ----------\n",
      "    y : array_like, shape (N,)\n",
      "        the values of the time history of the signal.\n",
      "    window_size : int\n",
      "        the length of the window. Must be an odd integer number.\n",
      "    order : int\n",
      "        the order of the polynomial used in the filtering.\n",
      "        Must be less then `window_size` - 1.\n",
      "    deriv: int\n",
      "        the order of the derivative to compute (default = 0 means only smoothing)\n",
      "    Returns\n",
      "    -------\n",
      "    ys : ndarray, shape (N)\n",
      "        the smoothed signal (or it's n-th derivative).\n",
      "    Notes\n",
      "    -----\n",
      "    The Savitzky-Golay is a type of low-pass filter, particularly\n",
      "    suited for smoothing noisy data. The main idea behind this\n",
      "    approach is to make for each point a least-square fit with a\n",
      "    polynomial of high order over a odd-sized window centered at\n",
      "    the point.\n",
      "    Examples\n",
      "    --------\n",
      "    t = np.linspace(-4, 4, 500)\n",
      "    y = np.exp( -t**2 ) + np.random.normal(0, 0.05, t.shape)\n",
      "    ysg = savitzky_golay(y, window_size=31, order=4)\n",
      "    import matplotlib.pyplot as plt\n",
      "    plt.plot(t, y, label='Noisy signal')\n",
      "    plt.plot(t, np.exp(-t**2), 'k', lw=1.5, label='Original signal')\n",
      "    plt.plot(t, ysg, 'r', label='Filtered signal')\n",
      "    plt.legend()\n",
      "    plt.show()\n",
      "    References\n",
      "    ----------\n",
      "    .. [1] A. Savitzky, M. J. E. Golay, Smoothing and Differentiation of\n",
      "       Data by Simplified Least Squares Procedures. Analytical\n",
      "       Chemistry, 1964, 36 (8), pp 1627-1639.\n",
      "    .. [2] Numerical Recipes 3rd Edition: The Art of Scientific Computing\n",
      "       W.H. Press, S.A. Teukolsky, W.T. Vetterling, B.P. Flannery\n",
      "       Cambridge University Press ISBN-13: 9780521880688\n",
      "    \"\"\"\n",
      "    import numpy as np\n",
      "    from math import factorial\n",
      "\n",
      "    try:\n",
      "        window_size = np.abs(np.int(window_size))\n",
      "        order = np.abs(np.int(order))\n",
      "    except ValueError as msg:\n",
      "        raise ValueError(\"window_size and order have to be of type int\")\n",
      "    if window_size % 2 != 1 or window_size < 1:\n",
      "        raise TypeError(\"window_size size must be a positive odd number\")\n",
      "    if window_size < order + 2:\n",
      "        raise TypeError(\"window_size is too small for the polynomials order\")\n",
      "    order_range = range(order+1)\n",
      "    half_window = (window_size -1) // 2\n",
      "    # precompute coefficients\n",
      "    b = np.mat([[k**i for i in order_range] for k in range(-half_window, half_window+1)])\n",
      "    m = np.linalg.pinv(b).A[deriv] * rate**deriv * factorial(deriv)\n",
      "    # pad the signal at the extremes with\n",
      "    # values taken from the signal itself\n",
      "    firstvals = y[0] - np.abs( y[1:half_window+1][::-1] - y[0] )\n",
      "    lastvals = y[-1] + np.abs(y[-half_window-1:-1][::-1] - y[-1])\n",
      "    y = np.concatenate((firstvals, y, lastvals))\n",
      "    return np.convolve( m[::-1], y, mode='valid')\n",
      "\n",
      "def listall(RootFolder):\n",
      "    lists = [os.path.join(root, name)    \n",
      "                 for root, dirs, files in os.walk(RootFolder)\n",
      "                   for name in files\n",
      "                   if 'GPCP' in name\n",
      "                     if name.endswith('.tif')]\n",
      "    return lists\n",
      "\n",
      "def listall2(RootFolder):\n",
      "    lists = [os.path.join(root, name)    \n",
      "                 for root, dirs, files in os.walk(RootFolder)\n",
      "                   for name in files\n",
      "                   if 'NDVI' in name\n",
      "                     if name.endswith('.tif')]\n",
      "    return lists"
     ],
     "language": "python",
     "metadata": {},
     "outputs": [],
     "prompt_number": 2
    },
    {
     "cell_type": "code",
     "collapsed": false,
     "input": [
      "dt = 8 # sampling period (h)\n",
      "Fs = 1./(dt) # sampling rate (Hz)\n",
      "nfft = 140\n",
      "nolap = 40\n",
      "xlab = 'Sampling period (days)'\n",
      "y_label = 'Power'\n",
      "#x_lim = [0,400]\n",
      "\n",
      "for pc in range(0,62):\n",
      "    #print pc\n",
      "    for pr in range(0,37):\n",
      "        \n",
      "        #\n",
      "        # ______________________________________________________\n",
      "        # GPCP\n",
      "        # ______________________________________________________\n",
      "        # SET PIXEL ROW AND COLUMN\n",
      "        \n",
      "        pixelcolumn = pc # extract from rasterXSize (0:62) horizontal latitude - whatever\n",
      "        pixelrow = pr # extract from rasterYSize (0:36) vertical longitude \n",
      "        \n",
      "        \n",
      "        # ______________________________________________________\n",
      "        # ANNUAL ACCUMULATED MEAN\n",
      "        \n",
      "        li = []\n",
      "        da = []\n",
      "        i = 0\n",
      "        path = r'D:\\Data\\GPCP_30acc_anomalyNormTypeII_clip'# removed 'NormTypeII'\n",
      "        #path = r'D:\\Data\\GPCP_30acc_AnnualAcc'\n",
      "        test = listall(path)\n",
      "        test = test[0:-46]\n",
      "        #print (len(test))\n",
      "        #print (test[0])\n",
      "        for t in test:    \n",
      "            raster = gdal.Open(t, gdal.GA_ReadOnly)\n",
      "            nameRas = raster.GetDescription()[-11:-4]\n",
      "            date = datetime.datetime(int(nameRas[0:4]), 1, 1) + datetime.timedelta(int(nameRas[4:9]) - 1) # replaced \"int(nameRas[0:4])\" with \"2010\" first year then add doy\n",
      "            # print date\n",
      "            da.append(date)\n",
      "        \n",
      "            band = raster.GetRasterBand(1)\n",
      "            array = band.ReadAsArray()    \n",
      "            \n",
      "            # print array[879,4142] # Grassland pixel\n",
      "            li.append(array[pixelrow, pixelcolumn])\n",
      "            \n",
      "            array = None\n",
      "            band = None\n",
      "            raster = None\n",
      "            #print (str(i))\n",
      "            i = i + 1\n",
      "            \n",
      "        #s1 = pd.Series(data = li, index = da)\n",
      "        s1 = pd.Series(data = li, index = da)\n",
      "        s1 = s1 / (s1.max() - s1.min())\n",
      "        s1 = s1[46:-46]\n",
      "        #x = np.array(li)\n",
      "        #x = x[46:-46]\n",
      "        #x = x / (x.max() - x.min())\n",
      "        \n",
      "        #maxy = x.max()\n",
      "        #print ('max', GPCPnormTypeII.max(), GPCPnormTypeII.plot() )\n",
      "        \n",
      "        #\n",
      "        # ______________________________________________________\n",
      "        # NDVI\n",
      "        # ______________________________________________________\n",
      "        # SET PIXEL ROW AND COLUMN\n",
      "        \n",
      "        pixelcolumn = pc # extract from rasterXSize\n",
      "        pixelrow = pr # extract from rasterYSize\n",
      "        \n",
      "        # ______________________________________________________\n",
      "        # ANNUAL ACCUMULATED MEAN\n",
      "        \n",
      "        li = []\n",
      "        da = []\n",
      "        i = 0\n",
      "        path = r'D:\\Data\\NDVI_agg_clip_anomalySVInormalized'# removed 'NormTypeII'\n",
      "        #path = r'D:\\Data\\GPCP_30acc_AnnualAcc'\n",
      "        test = listall2(path)\n",
      "        \n",
      "        #print (len(test))\n",
      "        #print (test[0])\n",
      "        for t in test:    \n",
      "            raster = gdal.Open(t, gdal.GA_ReadOnly)\n",
      "            nameRas = raster.GetDescription()[-11:-4]\n",
      "            date = datetime.datetime(int(nameRas[0:4]), 1, 1) + datetime.timedelta(int(nameRas[4:9]) - 1) # replaced \"int(nameRas[0:4])\" with \"2010\" first year then add doy\n",
      "            # print date\n",
      "            da.append(date)\n",
      "        \n",
      "            band = raster.GetRasterBand(1)\n",
      "            array = band.ReadAsArray()    \n",
      "            \n",
      "            # print array[879,4142] # Grassland pixel\n",
      "            li.append(array[pixelrow, pixelcolumn])\n",
      "            \n",
      "            array = None\n",
      "            band = None\n",
      "            raster = None\n",
      "            #print (str(i))\n",
      "            i = i + 1\n",
      "            \n",
      "        #y = pd.Series(data = li, index = da)\n",
      "        s2 = pd.Series(data = li, index = da)\n",
      "        s2 = s2 / (s2.max() - s2.min())\n",
      "        \n",
      "        month = s1.index.month\n",
      "        selector = ((3<= month) & (month <=10)) # boolean array with True values for month 3 - 10\n",
      "\n",
      "        listsel = selector.tolist()\n",
      "        listinv = [not i for i in listsel]\n",
      "        selectorinv = np.array(listinv) # boolean array with False values for month 3 - 10\n",
      "\n",
      "        s1[selectorinv] = 0 # set month not equal to 3 - 10 to 0\n",
      "        s2[selectorinv] = 0\n",
      "        \n",
      "        s1_SG = savitzky_golay(s1, 15, 7)\n",
      "        s2_SG = savitzky_golay(s2, 15, 7)\n",
      "        \n",
      "        x = s1_SG\n",
      "        y = s2_SG\n",
      "        \n",
      "        #maxy = y.max()\n",
      "        #print ('max', NDVIanomSVI.max(), NDVIanomSVI.plot() )\n",
      "        \n",
      "        fig = plt.figure(figsize(15,8))\n",
      "        try:\n",
      "            Cxy, FC = csd(x, y, window=window_hanning, noverlap=nolap, NFFT=nfft, Fs=Fs)\n",
      "        except exceptions.ZeroDivisionError:\n",
      "            Cxy = np.zeros_like(x)\n",
      "            FC = np.zeros_like(x)\n",
      "        try:\n",
      "            Pxy, FP = cohere(x, y, window=window_hanning, noverlap=nolap, NFFT=nfft, Fs=Fs)\n",
      "        except exceptions.ZeroDivisionError:\n",
      "            Pxy = np.zeros_like(x)\n",
      "            FP = np.zeros_like(x)\n",
      "        \n",
      "        \n",
      "        #Cxy, FC = csd(x, y, window=window_hanning, noverlap=nolap, NFFT=nfft, Fs=Fs)\n",
      "        #Pxy, FP = cohere(x, y, window=window_hanning, noverlap=nolap, NFFT=nfft, Fs=Fs)\n",
      "        fig.clf()\n",
      "        plt.close(fig)\n",
      "        fig = None\n",
      "        \n",
      "        conflevel = 95.0 # set confidence level\n",
      "        conflevel99 = 99.75 # set confidence level\n",
      "        \n",
      "        phase = np.angle(Cxy)#, deg=True)\n",
      "        \n",
      "        # calculate 95% confidence level\n",
      "        edof = (len(x)/(nfft/2)) *Pxy.mean() # equivalent degrees of freedom: (length(timeseries)/windowhalfwidth)*mean_coherence\n",
      "        gamma95 = 1.-(100-conflevel)**(1./(edof-1.))\n",
      "        conf95 = np.where(Pxy>gamma95)\n",
      "        \n",
      "        gamma99 = 1.-(100-conflevel99)**(1./(edof-1.))\n",
      "        conf99 = np.where(Pxy>gamma99)\n",
      "        #print 'confidence level',conflevel, 'gamma95',gamma95, 'edof',edof\n",
      "        \n",
      "        fig = plt.figure(figsize(15,8))\n",
      "        # create all axes we need\n",
      "        ax0 = plt.subplot(221)\n",
      "        ax1 = ax0.twinx()\n",
      "        ax2 = plt.subplot(222)\n",
      "        ax3 = ax2.twinx()\n",
      "        \n",
      "        # plot all axes\n",
      "        ax0.plot(FP, Pxy)\n",
      "        ax1.plot(FP[conf95], phase[conf95], 'r.')\n",
      "        ax1.plot(FP[conf99], phase[conf99], 'g.', markersize=12)\n",
      "        ax2.plot(1./FP, Pxy,'b-')\n",
      "        ax3.plot(1./FP[conf95], phase[conf95], 'r.')\n",
      "        ax3.plot(1./FP[conf99], phase[conf99], 'g.', markersize=12)\n",
      "    \n",
      "        #plt.title('coherence and cross-spectrum phase (x-axis = sampling period)')\n",
      "        \n",
      "        # add labels and apply colouring axis 0 and 2\n",
      "        ax0.set_xlabel('Frequency')\n",
      "        ax0.set_ylim([0,1])\n",
      "        ax0.set_xlim([0,0.01])\n",
      "        # Make the y-axis label and tick labels match the line color.\n",
      "        ax0.set_ylabel('Coherence', color='b')\n",
      "        for tl in ax0.get_yticklabels():\n",
      "            tl.set_color('b')\n",
      "            \n",
      "        ax2.set_xlabel(xlab)\n",
      "        ax2.set_ylim([0,1])\n",
      "        ax2.set_xlim([100,500])\n",
      "        # Make the y-axis label and tick labels match the line color.\n",
      "        ax2.set_ylabel('Coherence', color='b')\n",
      "        for tl in ax2.get_yticklabels():\n",
      "            tl.set_color('b')\n",
      "        \n",
      "        # add labels and apply colouring axis 1 and 3\n",
      "        ax1.set_ylabel('Phase (radian ($-\\pi:\\pi$)', color='r')\n",
      "        ax1.set_ylim([-3.5,3.5])\n",
      "        ax1.set_yticks([4*-np.pi/4.,2*-np.pi/4.,0,2*np.pi/4.,4*np.pi/4.])\n",
      "        ax1.set_yticklabels(['$-\\pi$', r'$-\\frac{\\pi}{2}$', r'$0$', r'$\\frac{\\pi}{2}$', r'$+\\pi$'])\n",
      "        for tl in ax1.get_yticklabels():\n",
      "            tl.set_color('r')\n",
      "            \n",
      "        ax3.set_ylabel('Phase (radian ($-\\pi:\\pi$)', color='r')\n",
      "        ax3.set_ylim([-3.5,3.5])\n",
      "        ax3.set_yticks([4.*-np.pi/4.,2.*-np.pi/4.,0,2.*np.pi/4.,4.*np.pi/4.])\n",
      "        ax3.set_yticklabels(['$-\\pi$', r'$-\\frac{\\pi}{2}$', r'$0$', r'$\\frac{\\pi}{2}$', r'$+\\pi$'])\n",
      "        #plt.xticks([0, pi/2, pi, 3*pi/2, 2*pi],\n",
      "        #   ['$0$', r'$\\frac{\\pi}{2}$', r'$\\pi$', r'$\\frac{3\\pi}{2}$', r'$2\\pi$'])\n",
      "        #ax3.set_yticklabels([-180,-135,-90,-45,0,45,90,135,180])\n",
      "        \n",
      "        for tl in ax3.get_yticklabels():\n",
      "            tl.set_color('r')\n",
      "        \n",
      "        # add grid and title\n",
      "        ax0.grid(True)\n",
      "        ax2.grid(True)\n",
      "        ax1.grid(True)\n",
      "        ax3.grid(True)\n",
      "        \n",
      "        plt.suptitle('coherence and cross-spectrum phase (left plot x-axis = frequency, right plot x-axis = sampling period)', fontsize=12)\n",
      "        #fig1.suptitle('coherence and cross-spectrum phase (x-axis = frequency)')\n",
      "        plt.tight_layout\n",
      "        \n",
      "        folder = r'D:\\Data\\output_charts_coherence_phase//'\n",
      "        fileou = 'COL'+str(pixelcolumn)+'_ROW'+str(pixelrow)+'_NFFT'+str(nfft).zfill(3)+'_NLAP'+str(nolap).zfill(3)+'.png'\n",
      "        path = folder+fileou\n",
      "        \n",
      "        print(path)\n",
      "        plt.savefig(path, dpi=200)\n",
      "        plt.close(fig)\n",
      "        fig.clf()\n",
      "        fig = None\n",
      "        s1_SG = None\n",
      "        s2_SG = None\n",
      "        x = None\n",
      "        y = None\n",
      "        s1 = None\n",
      "        s2 = None\n",
      "        #plt.show()\n"
     ],
     "language": "python",
     "metadata": {},
     "outputs": [
      {
       "output_type": "stream",
       "stream": "stdout",
       "text": [
        "D:\\Data\\output_charts_coherence_phase//COL0_ROW0_NFFT140_NLAP040.png\n",
        "D:\\Data\\output_charts_coherence_phase//COL0_ROW1_NFFT140_NLAP040.png"
       ]
      },
      {
       "output_type": "stream",
       "stream": "stdout",
       "text": [
        "\n",
        "D:\\Data\\output_charts_coherence_phase//COL0_ROW2_NFFT140_NLAP040.png"
       ]
      },
      {
       "output_type": "stream",
       "stream": "stdout",
       "text": [
        "\n",
        "D:\\Data\\output_charts_coherence_phase//COL0_ROW3_NFFT140_NLAP040.png"
       ]
      },
      {
       "output_type": "stream",
       "stream": "stdout",
       "text": [
        "\n",
        "D:\\Data\\output_charts_coherence_phase//COL0_ROW4_NFFT140_NLAP040.png"
       ]
      },
      {
       "output_type": "stream",
       "stream": "stdout",
       "text": [
        "\n",
        "D:\\Data\\output_charts_coherence_phase//COL0_ROW5_NFFT140_NLAP040.png"
       ]
      },
      {
       "output_type": "stream",
       "stream": "stdout",
       "text": [
        "\n",
        "D:\\Data\\output_charts_coherence_phase//COL0_ROW6_NFFT140_NLAP040.png"
       ]
      },
      {
       "output_type": "stream",
       "stream": "stdout",
       "text": [
        "\n",
        "D:\\Data\\output_charts_coherence_phase//COL0_ROW7_NFFT140_NLAP040.png"
       ]
      },
      {
       "output_type": "stream",
       "stream": "stdout",
       "text": [
        "\n",
        "D:\\Data\\output_charts_coherence_phase//COL0_ROW8_NFFT140_NLAP040.png"
       ]
      },
      {
       "output_type": "stream",
       "stream": "stdout",
       "text": [
        "\n",
        "D:\\Data\\output_charts_coherence_phase//COL0_ROW9_NFFT140_NLAP040.png"
       ]
      },
      {
       "output_type": "stream",
       "stream": "stdout",
       "text": [
        "\n",
        "D:\\Data\\output_charts_coherence_phase//COL0_ROW10_NFFT140_NLAP040.png"
       ]
      },
      {
       "output_type": "stream",
       "stream": "stdout",
       "text": [
        "\n",
        "D:\\Data\\output_charts_coherence_phase//COL0_ROW11_NFFT140_NLAP040.png"
       ]
      },
      {
       "output_type": "stream",
       "stream": "stdout",
       "text": [
        "\n",
        "D:\\Data\\output_charts_coherence_phase//COL0_ROW12_NFFT140_NLAP040.png"
       ]
      },
      {
       "output_type": "stream",
       "stream": "stdout",
       "text": [
        "\n",
        "D:\\Data\\output_charts_coherence_phase//COL0_ROW13_NFFT140_NLAP040.png"
       ]
      },
      {
       "output_type": "stream",
       "stream": "stdout",
       "text": [
        "\n",
        "D:\\Data\\output_charts_coherence_phase//COL0_ROW14_NFFT140_NLAP040.png"
       ]
      },
      {
       "output_type": "stream",
       "stream": "stdout",
       "text": [
        "\n",
        "D:\\Data\\output_charts_coherence_phase//COL0_ROW15_NFFT140_NLAP040.png"
       ]
      },
      {
       "output_type": "stream",
       "stream": "stdout",
       "text": [
        "\n",
        "D:\\Data\\output_charts_coherence_phase//COL0_ROW16_NFFT140_NLAP040.png"
       ]
      },
      {
       "output_type": "stream",
       "stream": "stdout",
       "text": [
        "\n",
        "D:\\Data\\output_charts_coherence_phase//COL0_ROW17_NFFT140_NLAP040.png"
       ]
      },
      {
       "output_type": "stream",
       "stream": "stdout",
       "text": [
        "\n",
        "D:\\Data\\output_charts_coherence_phase//COL0_ROW18_NFFT140_NLAP040.png"
       ]
      },
      {
       "output_type": "stream",
       "stream": "stdout",
       "text": [
        "\n",
        "D:\\Data\\output_charts_coherence_phase//COL0_ROW19_NFFT140_NLAP040.png"
       ]
      },
      {
       "output_type": "stream",
       "stream": "stdout",
       "text": [
        "\n",
        "D:\\Data\\output_charts_coherence_phase//COL0_ROW20_NFFT140_NLAP040.png"
       ]
      },
      {
       "output_type": "stream",
       "stream": "stdout",
       "text": [
        "\n",
        "D:\\Data\\output_charts_coherence_phase//COL0_ROW21_NFFT140_NLAP040.png"
       ]
      },
      {
       "output_type": "stream",
       "stream": "stdout",
       "text": [
        "\n",
        "D:\\Data\\output_charts_coherence_phase//COL0_ROW22_NFFT140_NLAP040.png"
       ]
      },
      {
       "output_type": "stream",
       "stream": "stdout",
       "text": [
        "\n",
        "D:\\Data\\output_charts_coherence_phase//COL0_ROW23_NFFT140_NLAP040.png"
       ]
      },
      {
       "output_type": "stream",
       "stream": "stdout",
       "text": [
        "\n",
        "D:\\Data\\output_charts_coherence_phase//COL0_ROW24_NFFT140_NLAP040.png"
       ]
      },
      {
       "output_type": "stream",
       "stream": "stdout",
       "text": [
        "\n",
        "D:\\Data\\output_charts_coherence_phase//COL0_ROW25_NFFT140_NLAP040.png"
       ]
      },
      {
       "output_type": "stream",
       "stream": "stdout",
       "text": [
        "\n",
        "D:\\Data\\output_charts_coherence_phase//COL0_ROW26_NFFT140_NLAP040.png"
       ]
      },
      {
       "output_type": "stream",
       "stream": "stdout",
       "text": [
        "\n",
        "D:\\Data\\output_charts_coherence_phase//COL0_ROW27_NFFT140_NLAP040.png"
       ]
      },
      {
       "output_type": "stream",
       "stream": "stdout",
       "text": [
        "\n",
        "D:\\Data\\output_charts_coherence_phase//COL0_ROW28_NFFT140_NLAP040.png"
       ]
      },
      {
       "output_type": "stream",
       "stream": "stdout",
       "text": [
        "\n",
        "D:\\Data\\output_charts_coherence_phase//COL0_ROW29_NFFT140_NLAP040.png"
       ]
      },
      {
       "output_type": "stream",
       "stream": "stdout",
       "text": [
        "\n",
        "D:\\Data\\output_charts_coherence_phase//COL0_ROW30_NFFT140_NLAP040.png"
       ]
      },
      {
       "output_type": "stream",
       "stream": "stdout",
       "text": [
        "\n",
        "D:\\Data\\output_charts_coherence_phase//COL0_ROW31_NFFT140_NLAP040.png"
       ]
      },
      {
       "output_type": "stream",
       "stream": "stdout",
       "text": [
        "\n",
        "D:\\Data\\output_charts_coherence_phase//COL0_ROW32_NFFT140_NLAP040.png"
       ]
      },
      {
       "output_type": "stream",
       "stream": "stdout",
       "text": [
        "\n",
        "D:\\Data\\output_charts_coherence_phase//COL0_ROW33_NFFT140_NLAP040.png"
       ]
      },
      {
       "output_type": "stream",
       "stream": "stdout",
       "text": [
        "\n",
        "D:\\Data\\output_charts_coherence_phase//COL0_ROW34_NFFT140_NLAP040.png"
       ]
      },
      {
       "output_type": "stream",
       "stream": "stdout",
       "text": [
        "\n",
        "D:\\Data\\output_charts_coherence_phase//COL0_ROW35_NFFT140_NLAP040.png"
       ]
      },
      {
       "output_type": "stream",
       "stream": "stdout",
       "text": [
        "\n",
        "D:\\Data\\output_charts_coherence_phase//COL0_ROW36_NFFT140_NLAP040.png"
       ]
      },
      {
       "output_type": "stream",
       "stream": "stdout",
       "text": [
        "\n",
        "D:\\Data\\output_charts_coherence_phase//COL1_ROW0_NFFT140_NLAP040.png"
       ]
      },
      {
       "output_type": "stream",
       "stream": "stdout",
       "text": [
        "\n",
        "D:\\Data\\output_charts_coherence_phase//COL1_ROW1_NFFT140_NLAP040.png"
       ]
      },
      {
       "output_type": "stream",
       "stream": "stdout",
       "text": [
        "\n",
        "D:\\Data\\output_charts_coherence_phase//COL1_ROW2_NFFT140_NLAP040.png"
       ]
      },
      {
       "output_type": "stream",
       "stream": "stdout",
       "text": [
        "\n",
        "D:\\Data\\output_charts_coherence_phase//COL1_ROW3_NFFT140_NLAP040.png"
       ]
      },
      {
       "output_type": "stream",
       "stream": "stdout",
       "text": [
        "\n",
        "D:\\Data\\output_charts_coherence_phase//COL1_ROW4_NFFT140_NLAP040.png"
       ]
      },
      {
       "output_type": "stream",
       "stream": "stdout",
       "text": [
        "\n",
        "D:\\Data\\output_charts_coherence_phase//COL1_ROW5_NFFT140_NLAP040.png"
       ]
      },
      {
       "output_type": "stream",
       "stream": "stdout",
       "text": [
        "\n",
        "D:\\Data\\output_charts_coherence_phase//COL1_ROW6_NFFT140_NLAP040.png"
       ]
      },
      {
       "output_type": "stream",
       "stream": "stdout",
       "text": [
        "\n",
        "D:\\Data\\output_charts_coherence_phase//COL1_ROW7_NFFT140_NLAP040.png"
       ]
      },
      {
       "output_type": "stream",
       "stream": "stdout",
       "text": [
        "\n",
        "D:\\Data\\output_charts_coherence_phase//COL1_ROW8_NFFT140_NLAP040.png"
       ]
      },
      {
       "output_type": "stream",
       "stream": "stdout",
       "text": [
        "\n",
        "D:\\Data\\output_charts_coherence_phase//COL1_ROW9_NFFT140_NLAP040.png"
       ]
      },
      {
       "output_type": "stream",
       "stream": "stdout",
       "text": [
        "\n",
        "D:\\Data\\output_charts_coherence_phase//COL1_ROW10_NFFT140_NLAP040.png"
       ]
      },
      {
       "output_type": "stream",
       "stream": "stdout",
       "text": [
        "\n",
        "D:\\Data\\output_charts_coherence_phase//COL1_ROW11_NFFT140_NLAP040.png"
       ]
      },
      {
       "output_type": "stream",
       "stream": "stdout",
       "text": [
        "\n",
        "D:\\Data\\output_charts_coherence_phase//COL1_ROW12_NFFT140_NLAP040.png"
       ]
      },
      {
       "output_type": "stream",
       "stream": "stdout",
       "text": [
        "\n",
        "D:\\Data\\output_charts_coherence_phase//COL1_ROW13_NFFT140_NLAP040.png"
       ]
      },
      {
       "output_type": "stream",
       "stream": "stdout",
       "text": [
        "\n",
        "D:\\Data\\output_charts_coherence_phase//COL1_ROW14_NFFT140_NLAP040.png"
       ]
      },
      {
       "output_type": "stream",
       "stream": "stdout",
       "text": [
        "\n",
        "D:\\Data\\output_charts_coherence_phase//COL1_ROW15_NFFT140_NLAP040.png"
       ]
      },
      {
       "output_type": "stream",
       "stream": "stdout",
       "text": [
        "\n",
        "D:\\Data\\output_charts_coherence_phase//COL1_ROW16_NFFT140_NLAP040.png"
       ]
      },
      {
       "output_type": "stream",
       "stream": "stdout",
       "text": [
        "\n",
        "D:\\Data\\output_charts_coherence_phase//COL1_ROW17_NFFT140_NLAP040.png"
       ]
      },
      {
       "output_type": "stream",
       "stream": "stdout",
       "text": [
        "\n",
        "D:\\Data\\output_charts_coherence_phase//COL1_ROW18_NFFT140_NLAP040.png"
       ]
      },
      {
       "output_type": "stream",
       "stream": "stdout",
       "text": [
        "\n",
        "D:\\Data\\output_charts_coherence_phase//COL1_ROW19_NFFT140_NLAP040.png"
       ]
      },
      {
       "output_type": "stream",
       "stream": "stdout",
       "text": [
        "\n",
        "D:\\Data\\output_charts_coherence_phase//COL1_ROW20_NFFT140_NLAP040.png"
       ]
      },
      {
       "output_type": "stream",
       "stream": "stdout",
       "text": [
        "\n",
        "D:\\Data\\output_charts_coherence_phase//COL1_ROW21_NFFT140_NLAP040.png"
       ]
      },
      {
       "output_type": "stream",
       "stream": "stdout",
       "text": [
        "\n",
        "D:\\Data\\output_charts_coherence_phase//COL1_ROW22_NFFT140_NLAP040.png"
       ]
      },
      {
       "output_type": "stream",
       "stream": "stdout",
       "text": [
        "\n",
        "D:\\Data\\output_charts_coherence_phase//COL1_ROW23_NFFT140_NLAP040.png"
       ]
      },
      {
       "output_type": "stream",
       "stream": "stdout",
       "text": [
        "\n",
        "D:\\Data\\output_charts_coherence_phase//COL1_ROW24_NFFT140_NLAP040.png"
       ]
      },
      {
       "output_type": "stream",
       "stream": "stdout",
       "text": [
        "\n",
        "D:\\Data\\output_charts_coherence_phase//COL1_ROW25_NFFT140_NLAP040.png"
       ]
      },
      {
       "output_type": "stream",
       "stream": "stdout",
       "text": [
        "\n",
        "D:\\Data\\output_charts_coherence_phase//COL1_ROW26_NFFT140_NLAP040.png"
       ]
      },
      {
       "output_type": "stream",
       "stream": "stdout",
       "text": [
        "\n",
        "D:\\Data\\output_charts_coherence_phase//COL1_ROW27_NFFT140_NLAP040.png"
       ]
      },
      {
       "output_type": "stream",
       "stream": "stdout",
       "text": [
        "\n",
        "D:\\Data\\output_charts_coherence_phase//COL1_ROW28_NFFT140_NLAP040.png"
       ]
      },
      {
       "output_type": "stream",
       "stream": "stdout",
       "text": [
        "\n",
        "D:\\Data\\output_charts_coherence_phase//COL1_ROW29_NFFT140_NLAP040.png"
       ]
      },
      {
       "output_type": "stream",
       "stream": "stdout",
       "text": [
        "\n",
        "D:\\Data\\output_charts_coherence_phase//COL1_ROW30_NFFT140_NLAP040.png"
       ]
      },
      {
       "output_type": "stream",
       "stream": "stdout",
       "text": [
        "\n",
        "D:\\Data\\output_charts_coherence_phase//COL1_ROW31_NFFT140_NLAP040.png"
       ]
      },
      {
       "output_type": "stream",
       "stream": "stdout",
       "text": [
        "\n",
        "D:\\Data\\output_charts_coherence_phase//COL1_ROW32_NFFT140_NLAP040.png"
       ]
      },
      {
       "output_type": "stream",
       "stream": "stdout",
       "text": [
        "\n",
        "D:\\Data\\output_charts_coherence_phase//COL1_ROW33_NFFT140_NLAP040.png"
       ]
      },
      {
       "output_type": "stream",
       "stream": "stdout",
       "text": [
        "\n",
        "D:\\Data\\output_charts_coherence_phase//COL1_ROW34_NFFT140_NLAP040.png"
       ]
      },
      {
       "output_type": "stream",
       "stream": "stdout",
       "text": [
        "\n",
        "D:\\Data\\output_charts_coherence_phase//COL1_ROW35_NFFT140_NLAP040.png"
       ]
      },
      {
       "output_type": "stream",
       "stream": "stdout",
       "text": [
        "\n",
        "D:\\Data\\output_charts_coherence_phase//COL1_ROW36_NFFT140_NLAP040.png"
       ]
      },
      {
       "output_type": "stream",
       "stream": "stdout",
       "text": [
        "\n",
        "D:\\Data\\output_charts_coherence_phase//COL2_ROW0_NFFT140_NLAP040.png"
       ]
      },
      {
       "output_type": "stream",
       "stream": "stdout",
       "text": [
        "\n",
        "D:\\Data\\output_charts_coherence_phase//COL2_ROW1_NFFT140_NLAP040.png"
       ]
      },
      {
       "output_type": "stream",
       "stream": "stdout",
       "text": [
        "\n",
        "D:\\Data\\output_charts_coherence_phase//COL2_ROW2_NFFT140_NLAP040.png"
       ]
      },
      {
       "output_type": "stream",
       "stream": "stdout",
       "text": [
        "\n",
        "D:\\Data\\output_charts_coherence_phase//COL2_ROW3_NFFT140_NLAP040.png"
       ]
      },
      {
       "output_type": "stream",
       "stream": "stdout",
       "text": [
        "\n",
        "D:\\Data\\output_charts_coherence_phase//COL2_ROW4_NFFT140_NLAP040.png"
       ]
      },
      {
       "output_type": "stream",
       "stream": "stdout",
       "text": [
        "\n",
        "D:\\Data\\output_charts_coherence_phase//COL2_ROW5_NFFT140_NLAP040.png"
       ]
      },
      {
       "output_type": "stream",
       "stream": "stdout",
       "text": [
        "\n",
        "D:\\Data\\output_charts_coherence_phase//COL2_ROW6_NFFT140_NLAP040.png"
       ]
      },
      {
       "output_type": "stream",
       "stream": "stdout",
       "text": [
        "\n",
        "D:\\Data\\output_charts_coherence_phase//COL2_ROW7_NFFT140_NLAP040.png"
       ]
      },
      {
       "output_type": "stream",
       "stream": "stdout",
       "text": [
        "\n",
        "D:\\Data\\output_charts_coherence_phase//COL2_ROW8_NFFT140_NLAP040.png"
       ]
      },
      {
       "output_type": "stream",
       "stream": "stdout",
       "text": [
        "\n",
        "D:\\Data\\output_charts_coherence_phase//COL2_ROW9_NFFT140_NLAP040.png"
       ]
      },
      {
       "output_type": "stream",
       "stream": "stdout",
       "text": [
        "\n",
        "D:\\Data\\output_charts_coherence_phase//COL2_ROW10_NFFT140_NLAP040.png"
       ]
      },
      {
       "output_type": "stream",
       "stream": "stdout",
       "text": [
        "\n",
        "D:\\Data\\output_charts_coherence_phase//COL2_ROW11_NFFT140_NLAP040.png"
       ]
      },
      {
       "output_type": "stream",
       "stream": "stdout",
       "text": [
        "\n",
        "D:\\Data\\output_charts_coherence_phase//COL2_ROW12_NFFT140_NLAP040.png"
       ]
      },
      {
       "output_type": "stream",
       "stream": "stdout",
       "text": [
        "\n",
        "D:\\Data\\output_charts_coherence_phase//COL2_ROW13_NFFT140_NLAP040.png"
       ]
      },
      {
       "output_type": "stream",
       "stream": "stdout",
       "text": [
        "\n",
        "D:\\Data\\output_charts_coherence_phase//COL2_ROW14_NFFT140_NLAP040.png"
       ]
      },
      {
       "output_type": "stream",
       "stream": "stdout",
       "text": [
        "\n",
        "D:\\Data\\output_charts_coherence_phase//COL2_ROW15_NFFT140_NLAP040.png"
       ]
      },
      {
       "output_type": "stream",
       "stream": "stdout",
       "text": [
        "\n",
        "D:\\Data\\output_charts_coherence_phase//COL2_ROW16_NFFT140_NLAP040.png"
       ]
      },
      {
       "output_type": "stream",
       "stream": "stdout",
       "text": [
        "\n",
        "D:\\Data\\output_charts_coherence_phase//COL2_ROW17_NFFT140_NLAP040.png"
       ]
      },
      {
       "output_type": "stream",
       "stream": "stdout",
       "text": [
        "\n",
        "D:\\Data\\output_charts_coherence_phase//COL2_ROW18_NFFT140_NLAP040.png"
       ]
      },
      {
       "output_type": "stream",
       "stream": "stdout",
       "text": [
        "\n",
        "D:\\Data\\output_charts_coherence_phase//COL2_ROW19_NFFT140_NLAP040.png"
       ]
      },
      {
       "output_type": "stream",
       "stream": "stdout",
       "text": [
        "\n",
        "D:\\Data\\output_charts_coherence_phase//COL2_ROW20_NFFT140_NLAP040.png"
       ]
      },
      {
       "output_type": "stream",
       "stream": "stdout",
       "text": [
        "\n",
        "D:\\Data\\output_charts_coherence_phase//COL2_ROW21_NFFT140_NLAP040.png"
       ]
      },
      {
       "output_type": "stream",
       "stream": "stdout",
       "text": [
        "\n",
        "D:\\Data\\output_charts_coherence_phase//COL2_ROW22_NFFT140_NLAP040.png"
       ]
      },
      {
       "output_type": "stream",
       "stream": "stdout",
       "text": [
        "\n",
        "D:\\Data\\output_charts_coherence_phase//COL2_ROW23_NFFT140_NLAP040.png"
       ]
      },
      {
       "output_type": "stream",
       "stream": "stdout",
       "text": [
        "\n",
        "D:\\Data\\output_charts_coherence_phase//COL2_ROW24_NFFT140_NLAP040.png"
       ]
      },
      {
       "output_type": "stream",
       "stream": "stdout",
       "text": [
        "\n",
        "D:\\Data\\output_charts_coherence_phase//COL2_ROW25_NFFT140_NLAP040.png"
       ]
      },
      {
       "output_type": "stream",
       "stream": "stdout",
       "text": [
        "\n",
        "D:\\Data\\output_charts_coherence_phase//COL2_ROW26_NFFT140_NLAP040.png"
       ]
      },
      {
       "output_type": "stream",
       "stream": "stdout",
       "text": [
        "\n",
        "D:\\Data\\output_charts_coherence_phase//COL2_ROW27_NFFT140_NLAP040.png"
       ]
      },
      {
       "output_type": "stream",
       "stream": "stdout",
       "text": [
        "\n",
        "D:\\Data\\output_charts_coherence_phase//COL2_ROW28_NFFT140_NLAP040.png"
       ]
      },
      {
       "output_type": "stream",
       "stream": "stdout",
       "text": [
        "\n",
        "D:\\Data\\output_charts_coherence_phase//COL2_ROW29_NFFT140_NLAP040.png"
       ]
      },
      {
       "output_type": "stream",
       "stream": "stdout",
       "text": [
        "\n",
        "D:\\Data\\output_charts_coherence_phase//COL2_ROW30_NFFT140_NLAP040.png"
       ]
      },
      {
       "output_type": "stream",
       "stream": "stdout",
       "text": [
        "\n",
        "D:\\Data\\output_charts_coherence_phase//COL2_ROW31_NFFT140_NLAP040.png"
       ]
      },
      {
       "output_type": "stream",
       "stream": "stdout",
       "text": [
        "\n",
        "D:\\Data\\output_charts_coherence_phase//COL2_ROW32_NFFT140_NLAP040.png"
       ]
      },
      {
       "output_type": "stream",
       "stream": "stdout",
       "text": [
        "\n",
        "D:\\Data\\output_charts_coherence_phase//COL2_ROW33_NFFT140_NLAP040.png"
       ]
      },
      {
       "output_type": "stream",
       "stream": "stdout",
       "text": [
        "\n",
        "D:\\Data\\output_charts_coherence_phase//COL2_ROW34_NFFT140_NLAP040.png"
       ]
      },
      {
       "output_type": "stream",
       "stream": "stdout",
       "text": [
        "\n",
        "D:\\Data\\output_charts_coherence_phase//COL2_ROW35_NFFT140_NLAP040.png"
       ]
      },
      {
       "output_type": "stream",
       "stream": "stdout",
       "text": [
        "\n",
        "D:\\Data\\output_charts_coherence_phase//COL2_ROW36_NFFT140_NLAP040.png"
       ]
      },
      {
       "output_type": "stream",
       "stream": "stdout",
       "text": [
        "\n",
        "D:\\Data\\output_charts_coherence_phase//COL3_ROW0_NFFT140_NLAP040.png"
       ]
      },
      {
       "output_type": "stream",
       "stream": "stdout",
       "text": [
        "\n",
        "D:\\Data\\output_charts_coherence_phase//COL3_ROW1_NFFT140_NLAP040.png"
       ]
      },
      {
       "output_type": "stream",
       "stream": "stdout",
       "text": [
        "\n",
        "D:\\Data\\output_charts_coherence_phase//COL3_ROW2_NFFT140_NLAP040.png"
       ]
      },
      {
       "output_type": "stream",
       "stream": "stdout",
       "text": [
        "\n",
        "D:\\Data\\output_charts_coherence_phase//COL3_ROW3_NFFT140_NLAP040.png"
       ]
      },
      {
       "output_type": "stream",
       "stream": "stdout",
       "text": [
        "\n",
        "D:\\Data\\output_charts_coherence_phase//COL3_ROW4_NFFT140_NLAP040.png"
       ]
      },
      {
       "output_type": "stream",
       "stream": "stdout",
       "text": [
        "\n",
        "D:\\Data\\output_charts_coherence_phase//COL3_ROW5_NFFT140_NLAP040.png"
       ]
      },
      {
       "output_type": "stream",
       "stream": "stdout",
       "text": [
        "\n",
        "D:\\Data\\output_charts_coherence_phase//COL3_ROW6_NFFT140_NLAP040.png"
       ]
      },
      {
       "output_type": "stream",
       "stream": "stdout",
       "text": [
        "\n",
        "D:\\Data\\output_charts_coherence_phase//COL3_ROW7_NFFT140_NLAP040.png"
       ]
      },
      {
       "output_type": "stream",
       "stream": "stdout",
       "text": [
        "\n",
        "D:\\Data\\output_charts_coherence_phase//COL3_ROW8_NFFT140_NLAP040.png"
       ]
      },
      {
       "output_type": "stream",
       "stream": "stdout",
       "text": [
        "\n",
        "D:\\Data\\output_charts_coherence_phase//COL3_ROW9_NFFT140_NLAP040.png"
       ]
      },
      {
       "output_type": "stream",
       "stream": "stdout",
       "text": [
        "\n",
        "D:\\Data\\output_charts_coherence_phase//COL3_ROW10_NFFT140_NLAP040.png"
       ]
      },
      {
       "output_type": "stream",
       "stream": "stdout",
       "text": [
        "\n",
        "D:\\Data\\output_charts_coherence_phase//COL3_ROW11_NFFT140_NLAP040.png"
       ]
      },
      {
       "output_type": "stream",
       "stream": "stdout",
       "text": [
        "\n",
        "D:\\Data\\output_charts_coherence_phase//COL3_ROW12_NFFT140_NLAP040.png"
       ]
      },
      {
       "output_type": "stream",
       "stream": "stdout",
       "text": [
        "\n",
        "D:\\Data\\output_charts_coherence_phase//COL3_ROW13_NFFT140_NLAP040.png"
       ]
      },
      {
       "output_type": "stream",
       "stream": "stdout",
       "text": [
        "\n",
        "D:\\Data\\output_charts_coherence_phase//COL3_ROW14_NFFT140_NLAP040.png"
       ]
      },
      {
       "output_type": "stream",
       "stream": "stdout",
       "text": [
        "\n",
        "D:\\Data\\output_charts_coherence_phase//COL3_ROW15_NFFT140_NLAP040.png"
       ]
      },
      {
       "output_type": "stream",
       "stream": "stdout",
       "text": [
        "\n",
        "D:\\Data\\output_charts_coherence_phase//COL3_ROW16_NFFT140_NLAP040.png"
       ]
      },
      {
       "output_type": "stream",
       "stream": "stdout",
       "text": [
        "\n",
        "D:\\Data\\output_charts_coherence_phase//COL3_ROW17_NFFT140_NLAP040.png"
       ]
      },
      {
       "output_type": "stream",
       "stream": "stdout",
       "text": [
        "\n",
        "D:\\Data\\output_charts_coherence_phase//COL3_ROW18_NFFT140_NLAP040.png"
       ]
      },
      {
       "output_type": "stream",
       "stream": "stdout",
       "text": [
        "\n",
        "D:\\Data\\output_charts_coherence_phase//COL3_ROW19_NFFT140_NLAP040.png"
       ]
      },
      {
       "output_type": "stream",
       "stream": "stdout",
       "text": [
        "\n",
        "D:\\Data\\output_charts_coherence_phase//COL3_ROW20_NFFT140_NLAP040.png"
       ]
      },
      {
       "output_type": "stream",
       "stream": "stdout",
       "text": [
        "\n",
        "D:\\Data\\output_charts_coherence_phase//COL3_ROW21_NFFT140_NLAP040.png"
       ]
      },
      {
       "output_type": "stream",
       "stream": "stdout",
       "text": [
        "\n",
        "D:\\Data\\output_charts_coherence_phase//COL3_ROW22_NFFT140_NLAP040.png"
       ]
      },
      {
       "output_type": "stream",
       "stream": "stdout",
       "text": [
        "\n",
        "D:\\Data\\output_charts_coherence_phase//COL3_ROW23_NFFT140_NLAP040.png"
       ]
      },
      {
       "output_type": "stream",
       "stream": "stdout",
       "text": [
        "\n",
        "D:\\Data\\output_charts_coherence_phase//COL3_ROW24_NFFT140_NLAP040.png"
       ]
      },
      {
       "output_type": "stream",
       "stream": "stdout",
       "text": [
        "\n",
        "D:\\Data\\output_charts_coherence_phase//COL3_ROW25_NFFT140_NLAP040.png"
       ]
      },
      {
       "output_type": "stream",
       "stream": "stdout",
       "text": [
        "\n",
        "D:\\Data\\output_charts_coherence_phase//COL3_ROW26_NFFT140_NLAP040.png"
       ]
      },
      {
       "output_type": "stream",
       "stream": "stdout",
       "text": [
        "\n",
        "D:\\Data\\output_charts_coherence_phase//COL3_ROW27_NFFT140_NLAP040.png"
       ]
      },
      {
       "output_type": "stream",
       "stream": "stdout",
       "text": [
        "\n",
        "D:\\Data\\output_charts_coherence_phase//COL3_ROW28_NFFT140_NLAP040.png"
       ]
      },
      {
       "output_type": "stream",
       "stream": "stdout",
       "text": [
        "\n",
        "D:\\Data\\output_charts_coherence_phase//COL3_ROW29_NFFT140_NLAP040.png"
       ]
      },
      {
       "output_type": "stream",
       "stream": "stdout",
       "text": [
        "\n",
        "D:\\Data\\output_charts_coherence_phase//COL3_ROW30_NFFT140_NLAP040.png"
       ]
      },
      {
       "output_type": "stream",
       "stream": "stdout",
       "text": [
        "\n",
        "D:\\Data\\output_charts_coherence_phase//COL3_ROW31_NFFT140_NLAP040.png"
       ]
      },
      {
       "output_type": "stream",
       "stream": "stdout",
       "text": [
        "\n",
        "D:\\Data\\output_charts_coherence_phase//COL3_ROW32_NFFT140_NLAP040.png"
       ]
      },
      {
       "output_type": "stream",
       "stream": "stdout",
       "text": [
        "\n",
        "D:\\Data\\output_charts_coherence_phase//COL3_ROW33_NFFT140_NLAP040.png"
       ]
      },
      {
       "output_type": "stream",
       "stream": "stdout",
       "text": [
        "\n",
        "D:\\Data\\output_charts_coherence_phase//COL3_ROW34_NFFT140_NLAP040.png"
       ]
      },
      {
       "output_type": "stream",
       "stream": "stdout",
       "text": [
        "\n",
        "D:\\Data\\output_charts_coherence_phase//COL3_ROW35_NFFT140_NLAP040.png"
       ]
      },
      {
       "output_type": "stream",
       "stream": "stdout",
       "text": [
        "\n",
        "D:\\Data\\output_charts_coherence_phase//COL3_ROW36_NFFT140_NLAP040.png"
       ]
      },
      {
       "output_type": "stream",
       "stream": "stdout",
       "text": [
        "\n",
        "D:\\Data\\output_charts_coherence_phase//COL4_ROW0_NFFT140_NLAP040.png"
       ]
      },
      {
       "output_type": "stream",
       "stream": "stdout",
       "text": [
        "\n",
        "D:\\Data\\output_charts_coherence_phase//COL4_ROW1_NFFT140_NLAP040.png"
       ]
      },
      {
       "output_type": "stream",
       "stream": "stdout",
       "text": [
        "\n",
        "D:\\Data\\output_charts_coherence_phase//COL4_ROW2_NFFT140_NLAP040.png"
       ]
      },
      {
       "output_type": "stream",
       "stream": "stdout",
       "text": [
        "\n",
        "D:\\Data\\output_charts_coherence_phase//COL4_ROW3_NFFT140_NLAP040.png"
       ]
      },
      {
       "output_type": "stream",
       "stream": "stdout",
       "text": [
        "\n",
        "D:\\Data\\output_charts_coherence_phase//COL4_ROW4_NFFT140_NLAP040.png"
       ]
      },
      {
       "output_type": "stream",
       "stream": "stdout",
       "text": [
        "\n",
        "D:\\Data\\output_charts_coherence_phase//COL4_ROW5_NFFT140_NLAP040.png"
       ]
      },
      {
       "output_type": "stream",
       "stream": "stdout",
       "text": [
        "\n",
        "D:\\Data\\output_charts_coherence_phase//COL4_ROW6_NFFT140_NLAP040.png"
       ]
      },
      {
       "output_type": "stream",
       "stream": "stdout",
       "text": [
        "\n",
        "D:\\Data\\output_charts_coherence_phase//COL4_ROW7_NFFT140_NLAP040.png"
       ]
      },
      {
       "output_type": "stream",
       "stream": "stdout",
       "text": [
        "\n",
        "D:\\Data\\output_charts_coherence_phase//COL4_ROW8_NFFT140_NLAP040.png"
       ]
      },
      {
       "output_type": "stream",
       "stream": "stdout",
       "text": [
        "\n",
        "D:\\Data\\output_charts_coherence_phase//COL4_ROW9_NFFT140_NLAP040.png"
       ]
      },
      {
       "output_type": "stream",
       "stream": "stdout",
       "text": [
        "\n",
        "D:\\Data\\output_charts_coherence_phase//COL4_ROW10_NFFT140_NLAP040.png"
       ]
      },
      {
       "output_type": "stream",
       "stream": "stdout",
       "text": [
        "\n",
        "D:\\Data\\output_charts_coherence_phase//COL4_ROW11_NFFT140_NLAP040.png"
       ]
      },
      {
       "output_type": "stream",
       "stream": "stdout",
       "text": [
        "\n",
        "D:\\Data\\output_charts_coherence_phase//COL4_ROW12_NFFT140_NLAP040.png"
       ]
      },
      {
       "output_type": "stream",
       "stream": "stdout",
       "text": [
        "\n",
        "D:\\Data\\output_charts_coherence_phase//COL4_ROW13_NFFT140_NLAP040.png"
       ]
      },
      {
       "output_type": "stream",
       "stream": "stdout",
       "text": [
        "\n",
        "D:\\Data\\output_charts_coherence_phase//COL4_ROW14_NFFT140_NLAP040.png"
       ]
      },
      {
       "output_type": "stream",
       "stream": "stdout",
       "text": [
        "\n",
        "D:\\Data\\output_charts_coherence_phase//COL4_ROW15_NFFT140_NLAP040.png"
       ]
      },
      {
       "output_type": "stream",
       "stream": "stdout",
       "text": [
        "\n",
        "D:\\Data\\output_charts_coherence_phase//COL4_ROW16_NFFT140_NLAP040.png"
       ]
      },
      {
       "output_type": "stream",
       "stream": "stdout",
       "text": [
        "\n",
        "D:\\Data\\output_charts_coherence_phase//COL4_ROW17_NFFT140_NLAP040.png"
       ]
      },
      {
       "output_type": "stream",
       "stream": "stdout",
       "text": [
        "\n",
        "D:\\Data\\output_charts_coherence_phase//COL4_ROW18_NFFT140_NLAP040.png"
       ]
      },
      {
       "output_type": "stream",
       "stream": "stdout",
       "text": [
        "\n",
        "D:\\Data\\output_charts_coherence_phase//COL4_ROW19_NFFT140_NLAP040.png"
       ]
      },
      {
       "output_type": "stream",
       "stream": "stdout",
       "text": [
        "\n",
        "D:\\Data\\output_charts_coherence_phase//COL4_ROW20_NFFT140_NLAP040.png"
       ]
      },
      {
       "output_type": "stream",
       "stream": "stdout",
       "text": [
        "\n",
        "D:\\Data\\output_charts_coherence_phase//COL4_ROW21_NFFT140_NLAP040.png"
       ]
      },
      {
       "output_type": "stream",
       "stream": "stdout",
       "text": [
        "\n",
        "D:\\Data\\output_charts_coherence_phase//COL4_ROW22_NFFT140_NLAP040.png"
       ]
      },
      {
       "output_type": "stream",
       "stream": "stdout",
       "text": [
        "\n",
        "D:\\Data\\output_charts_coherence_phase//COL4_ROW23_NFFT140_NLAP040.png"
       ]
      },
      {
       "output_type": "stream",
       "stream": "stdout",
       "text": [
        "\n",
        "D:\\Data\\output_charts_coherence_phase//COL4_ROW24_NFFT140_NLAP040.png"
       ]
      },
      {
       "output_type": "stream",
       "stream": "stdout",
       "text": [
        "\n",
        "D:\\Data\\output_charts_coherence_phase//COL4_ROW25_NFFT140_NLAP040.png"
       ]
      },
      {
       "output_type": "stream",
       "stream": "stdout",
       "text": [
        "\n",
        "D:\\Data\\output_charts_coherence_phase//COL4_ROW26_NFFT140_NLAP040.png"
       ]
      },
      {
       "output_type": "stream",
       "stream": "stdout",
       "text": [
        "\n",
        "D:\\Data\\output_charts_coherence_phase//COL4_ROW27_NFFT140_NLAP040.png"
       ]
      },
      {
       "output_type": "stream",
       "stream": "stdout",
       "text": [
        "\n",
        "D:\\Data\\output_charts_coherence_phase//COL4_ROW28_NFFT140_NLAP040.png"
       ]
      },
      {
       "output_type": "stream",
       "stream": "stdout",
       "text": [
        "\n",
        "D:\\Data\\output_charts_coherence_phase//COL4_ROW29_NFFT140_NLAP040.png"
       ]
      },
      {
       "output_type": "stream",
       "stream": "stdout",
       "text": [
        "\n",
        "D:\\Data\\output_charts_coherence_phase//COL4_ROW30_NFFT140_NLAP040.png"
       ]
      },
      {
       "output_type": "stream",
       "stream": "stdout",
       "text": [
        "\n",
        "D:\\Data\\output_charts_coherence_phase//COL4_ROW31_NFFT140_NLAP040.png"
       ]
      },
      {
       "output_type": "stream",
       "stream": "stdout",
       "text": [
        "\n",
        "D:\\Data\\output_charts_coherence_phase//COL4_ROW32_NFFT140_NLAP040.png"
       ]
      },
      {
       "output_type": "stream",
       "stream": "stdout",
       "text": [
        "\n",
        "D:\\Data\\output_charts_coherence_phase//COL4_ROW33_NFFT140_NLAP040.png"
       ]
      },
      {
       "output_type": "stream",
       "stream": "stdout",
       "text": [
        "\n",
        "D:\\Data\\output_charts_coherence_phase//COL4_ROW34_NFFT140_NLAP040.png"
       ]
      },
      {
       "output_type": "stream",
       "stream": "stdout",
       "text": [
        "\n",
        "D:\\Data\\output_charts_coherence_phase//COL4_ROW35_NFFT140_NLAP040.png"
       ]
      },
      {
       "output_type": "stream",
       "stream": "stdout",
       "text": [
        "\n",
        "D:\\Data\\output_charts_coherence_phase//COL4_ROW36_NFFT140_NLAP040.png"
       ]
      },
      {
       "output_type": "stream",
       "stream": "stdout",
       "text": [
        "\n",
        "D:\\Data\\output_charts_coherence_phase//COL5_ROW0_NFFT140_NLAP040.png"
       ]
      },
      {
       "output_type": "stream",
       "stream": "stdout",
       "text": [
        "\n",
        "D:\\Data\\output_charts_coherence_phase//COL5_ROW1_NFFT140_NLAP040.png"
       ]
      },
      {
       "output_type": "stream",
       "stream": "stdout",
       "text": [
        "\n",
        "D:\\Data\\output_charts_coherence_phase//COL5_ROW2_NFFT140_NLAP040.png"
       ]
      },
      {
       "output_type": "stream",
       "stream": "stdout",
       "text": [
        "\n",
        "D:\\Data\\output_charts_coherence_phase//COL5_ROW3_NFFT140_NLAP040.png"
       ]
      },
      {
       "output_type": "stream",
       "stream": "stdout",
       "text": [
        "\n",
        "D:\\Data\\output_charts_coherence_phase//COL5_ROW4_NFFT140_NLAP040.png"
       ]
      },
      {
       "output_type": "stream",
       "stream": "stdout",
       "text": [
        "\n",
        "D:\\Data\\output_charts_coherence_phase//COL5_ROW5_NFFT140_NLAP040.png"
       ]
      },
      {
       "output_type": "stream",
       "stream": "stdout",
       "text": [
        "\n",
        "D:\\Data\\output_charts_coherence_phase//COL5_ROW6_NFFT140_NLAP040.png"
       ]
      },
      {
       "output_type": "stream",
       "stream": "stdout",
       "text": [
        "\n",
        "D:\\Data\\output_charts_coherence_phase//COL5_ROW7_NFFT140_NLAP040.png"
       ]
      },
      {
       "output_type": "stream",
       "stream": "stdout",
       "text": [
        "\n",
        "D:\\Data\\output_charts_coherence_phase//COL5_ROW8_NFFT140_NLAP040.png"
       ]
      },
      {
       "output_type": "stream",
       "stream": "stdout",
       "text": [
        "\n",
        "D:\\Data\\output_charts_coherence_phase//COL5_ROW9_NFFT140_NLAP040.png"
       ]
      },
      {
       "output_type": "stream",
       "stream": "stdout",
       "text": [
        "\n",
        "D:\\Data\\output_charts_coherence_phase//COL5_ROW10_NFFT140_NLAP040.png"
       ]
      },
      {
       "output_type": "stream",
       "stream": "stdout",
       "text": [
        "\n",
        "D:\\Data\\output_charts_coherence_phase//COL5_ROW11_NFFT140_NLAP040.png"
       ]
      },
      {
       "output_type": "stream",
       "stream": "stdout",
       "text": [
        "\n",
        "D:\\Data\\output_charts_coherence_phase//COL5_ROW12_NFFT140_NLAP040.png"
       ]
      },
      {
       "output_type": "stream",
       "stream": "stdout",
       "text": [
        "\n",
        "D:\\Data\\output_charts_coherence_phase//COL5_ROW13_NFFT140_NLAP040.png"
       ]
      },
      {
       "output_type": "stream",
       "stream": "stdout",
       "text": [
        "\n",
        "D:\\Data\\output_charts_coherence_phase//COL5_ROW14_NFFT140_NLAP040.png"
       ]
      },
      {
       "output_type": "stream",
       "stream": "stdout",
       "text": [
        "\n",
        "D:\\Data\\output_charts_coherence_phase//COL5_ROW15_NFFT140_NLAP040.png"
       ]
      },
      {
       "output_type": "stream",
       "stream": "stdout",
       "text": [
        "\n",
        "D:\\Data\\output_charts_coherence_phase//COL5_ROW16_NFFT140_NLAP040.png"
       ]
      },
      {
       "output_type": "stream",
       "stream": "stdout",
       "text": [
        "\n",
        "D:\\Data\\output_charts_coherence_phase//COL5_ROW17_NFFT140_NLAP040.png"
       ]
      },
      {
       "output_type": "stream",
       "stream": "stdout",
       "text": [
        "\n",
        "D:\\Data\\output_charts_coherence_phase//COL5_ROW18_NFFT140_NLAP040.png"
       ]
      },
      {
       "output_type": "stream",
       "stream": "stdout",
       "text": [
        "\n",
        "D:\\Data\\output_charts_coherence_phase//COL5_ROW19_NFFT140_NLAP040.png"
       ]
      },
      {
       "output_type": "stream",
       "stream": "stdout",
       "text": [
        "\n",
        "D:\\Data\\output_charts_coherence_phase//COL5_ROW20_NFFT140_NLAP040.png"
       ]
      },
      {
       "output_type": "stream",
       "stream": "stdout",
       "text": [
        "\n",
        "D:\\Data\\output_charts_coherence_phase//COL5_ROW21_NFFT140_NLAP040.png"
       ]
      },
      {
       "output_type": "stream",
       "stream": "stdout",
       "text": [
        "\n",
        "D:\\Data\\output_charts_coherence_phase//COL5_ROW22_NFFT140_NLAP040.png"
       ]
      },
      {
       "output_type": "stream",
       "stream": "stdout",
       "text": [
        "\n",
        "D:\\Data\\output_charts_coherence_phase//COL5_ROW23_NFFT140_NLAP040.png"
       ]
      },
      {
       "output_type": "stream",
       "stream": "stdout",
       "text": [
        "\n",
        "D:\\Data\\output_charts_coherence_phase//COL5_ROW24_NFFT140_NLAP040.png"
       ]
      },
      {
       "output_type": "stream",
       "stream": "stdout",
       "text": [
        "\n",
        "D:\\Data\\output_charts_coherence_phase//COL5_ROW25_NFFT140_NLAP040.png"
       ]
      },
      {
       "output_type": "stream",
       "stream": "stdout",
       "text": [
        "\n",
        "D:\\Data\\output_charts_coherence_phase//COL5_ROW26_NFFT140_NLAP040.png"
       ]
      },
      {
       "output_type": "stream",
       "stream": "stdout",
       "text": [
        "\n",
        "D:\\Data\\output_charts_coherence_phase//COL5_ROW27_NFFT140_NLAP040.png"
       ]
      },
      {
       "output_type": "stream",
       "stream": "stdout",
       "text": [
        "\n",
        "D:\\Data\\output_charts_coherence_phase//COL5_ROW28_NFFT140_NLAP040.png"
       ]
      },
      {
       "output_type": "stream",
       "stream": "stdout",
       "text": [
        "\n",
        "D:\\Data\\output_charts_coherence_phase//COL5_ROW29_NFFT140_NLAP040.png"
       ]
      },
      {
       "output_type": "stream",
       "stream": "stdout",
       "text": [
        "\n",
        "D:\\Data\\output_charts_coherence_phase//COL5_ROW30_NFFT140_NLAP040.png"
       ]
      },
      {
       "output_type": "stream",
       "stream": "stdout",
       "text": [
        "\n",
        "D:\\Data\\output_charts_coherence_phase//COL5_ROW31_NFFT140_NLAP040.png"
       ]
      },
      {
       "output_type": "stream",
       "stream": "stdout",
       "text": [
        "\n",
        "D:\\Data\\output_charts_coherence_phase//COL5_ROW32_NFFT140_NLAP040.png"
       ]
      },
      {
       "output_type": "stream",
       "stream": "stdout",
       "text": [
        "\n",
        "D:\\Data\\output_charts_coherence_phase//COL5_ROW33_NFFT140_NLAP040.png"
       ]
      },
      {
       "output_type": "stream",
       "stream": "stdout",
       "text": [
        "\n",
        "D:\\Data\\output_charts_coherence_phase//COL5_ROW34_NFFT140_NLAP040.png"
       ]
      },
      {
       "output_type": "stream",
       "stream": "stdout",
       "text": [
        "\n",
        "D:\\Data\\output_charts_coherence_phase//COL5_ROW35_NFFT140_NLAP040.png"
       ]
      },
      {
       "output_type": "stream",
       "stream": "stdout",
       "text": [
        "\n",
        "D:\\Data\\output_charts_coherence_phase//COL5_ROW36_NFFT140_NLAP040.png"
       ]
      },
      {
       "output_type": "stream",
       "stream": "stdout",
       "text": [
        "\n",
        "D:\\Data\\output_charts_coherence_phase//COL6_ROW0_NFFT140_NLAP040.png"
       ]
      },
      {
       "output_type": "stream",
       "stream": "stdout",
       "text": [
        "\n",
        "D:\\Data\\output_charts_coherence_phase//COL6_ROW1_NFFT140_NLAP040.png"
       ]
      },
      {
       "output_type": "stream",
       "stream": "stdout",
       "text": [
        "\n",
        "D:\\Data\\output_charts_coherence_phase//COL6_ROW2_NFFT140_NLAP040.png"
       ]
      },
      {
       "output_type": "stream",
       "stream": "stdout",
       "text": [
        "\n",
        "D:\\Data\\output_charts_coherence_phase//COL6_ROW3_NFFT140_NLAP040.png"
       ]
      },
      {
       "output_type": "stream",
       "stream": "stdout",
       "text": [
        "\n",
        "D:\\Data\\output_charts_coherence_phase//COL6_ROW4_NFFT140_NLAP040.png"
       ]
      },
      {
       "output_type": "stream",
       "stream": "stdout",
       "text": [
        "\n",
        "D:\\Data\\output_charts_coherence_phase//COL6_ROW5_NFFT140_NLAP040.png"
       ]
      },
      {
       "output_type": "stream",
       "stream": "stdout",
       "text": [
        "\n",
        "D:\\Data\\output_charts_coherence_phase//COL6_ROW6_NFFT140_NLAP040.png"
       ]
      },
      {
       "output_type": "stream",
       "stream": "stdout",
       "text": [
        "\n",
        "D:\\Data\\output_charts_coherence_phase//COL6_ROW7_NFFT140_NLAP040.png"
       ]
      },
      {
       "output_type": "stream",
       "stream": "stdout",
       "text": [
        "\n",
        "D:\\Data\\output_charts_coherence_phase//COL6_ROW8_NFFT140_NLAP040.png"
       ]
      },
      {
       "output_type": "stream",
       "stream": "stdout",
       "text": [
        "\n",
        "D:\\Data\\output_charts_coherence_phase//COL6_ROW9_NFFT140_NLAP040.png"
       ]
      },
      {
       "output_type": "stream",
       "stream": "stdout",
       "text": [
        "\n",
        "D:\\Data\\output_charts_coherence_phase//COL6_ROW10_NFFT140_NLAP040.png"
       ]
      },
      {
       "output_type": "stream",
       "stream": "stdout",
       "text": [
        "\n",
        "D:\\Data\\output_charts_coherence_phase//COL6_ROW11_NFFT140_NLAP040.png"
       ]
      },
      {
       "output_type": "stream",
       "stream": "stdout",
       "text": [
        "\n",
        "D:\\Data\\output_charts_coherence_phase//COL6_ROW12_NFFT140_NLAP040.png"
       ]
      },
      {
       "output_type": "stream",
       "stream": "stdout",
       "text": [
        "\n",
        "D:\\Data\\output_charts_coherence_phase//COL6_ROW13_NFFT140_NLAP040.png"
       ]
      },
      {
       "output_type": "stream",
       "stream": "stdout",
       "text": [
        "\n",
        "D:\\Data\\output_charts_coherence_phase//COL6_ROW14_NFFT140_NLAP040.png"
       ]
      },
      {
       "output_type": "stream",
       "stream": "stdout",
       "text": [
        "\n",
        "D:\\Data\\output_charts_coherence_phase//COL6_ROW15_NFFT140_NLAP040.png"
       ]
      },
      {
       "output_type": "stream",
       "stream": "stdout",
       "text": [
        "\n",
        "D:\\Data\\output_charts_coherence_phase//COL6_ROW16_NFFT140_NLAP040.png"
       ]
      },
      {
       "output_type": "stream",
       "stream": "stdout",
       "text": [
        "\n",
        "D:\\Data\\output_charts_coherence_phase//COL6_ROW17_NFFT140_NLAP040.png"
       ]
      },
      {
       "output_type": "stream",
       "stream": "stdout",
       "text": [
        "\n",
        "D:\\Data\\output_charts_coherence_phase//COL6_ROW18_NFFT140_NLAP040.png"
       ]
      },
      {
       "output_type": "stream",
       "stream": "stdout",
       "text": [
        "\n",
        "D:\\Data\\output_charts_coherence_phase//COL6_ROW19_NFFT140_NLAP040.png"
       ]
      },
      {
       "output_type": "stream",
       "stream": "stdout",
       "text": [
        "\n",
        "D:\\Data\\output_charts_coherence_phase//COL6_ROW20_NFFT140_NLAP040.png"
       ]
      },
      {
       "output_type": "stream",
       "stream": "stdout",
       "text": [
        "\n",
        "D:\\Data\\output_charts_coherence_phase//COL6_ROW21_NFFT140_NLAP040.png"
       ]
      },
      {
       "output_type": "stream",
       "stream": "stdout",
       "text": [
        "\n",
        "D:\\Data\\output_charts_coherence_phase//COL6_ROW22_NFFT140_NLAP040.png"
       ]
      },
      {
       "output_type": "stream",
       "stream": "stdout",
       "text": [
        "\n",
        "D:\\Data\\output_charts_coherence_phase//COL6_ROW23_NFFT140_NLAP040.png"
       ]
      },
      {
       "output_type": "stream",
       "stream": "stdout",
       "text": [
        "\n",
        "D:\\Data\\output_charts_coherence_phase//COL6_ROW24_NFFT140_NLAP040.png"
       ]
      },
      {
       "output_type": "stream",
       "stream": "stdout",
       "text": [
        "\n",
        "D:\\Data\\output_charts_coherence_phase//COL6_ROW25_NFFT140_NLAP040.png"
       ]
      },
      {
       "output_type": "stream",
       "stream": "stdout",
       "text": [
        "\n",
        "D:\\Data\\output_charts_coherence_phase//COL6_ROW26_NFFT140_NLAP040.png"
       ]
      },
      {
       "output_type": "stream",
       "stream": "stdout",
       "text": [
        "\n",
        "D:\\Data\\output_charts_coherence_phase//COL6_ROW27_NFFT140_NLAP040.png"
       ]
      },
      {
       "output_type": "stream",
       "stream": "stdout",
       "text": [
        "\n",
        "D:\\Data\\output_charts_coherence_phase//COL6_ROW28_NFFT140_NLAP040.png"
       ]
      },
      {
       "output_type": "stream",
       "stream": "stdout",
       "text": [
        "\n",
        "D:\\Data\\output_charts_coherence_phase//COL6_ROW29_NFFT140_NLAP040.png"
       ]
      },
      {
       "output_type": "stream",
       "stream": "stdout",
       "text": [
        "\n",
        "D:\\Data\\output_charts_coherence_phase//COL6_ROW30_NFFT140_NLAP040.png"
       ]
      },
      {
       "output_type": "stream",
       "stream": "stdout",
       "text": [
        "\n",
        "D:\\Data\\output_charts_coherence_phase//COL6_ROW31_NFFT140_NLAP040.png"
       ]
      },
      {
       "output_type": "stream",
       "stream": "stdout",
       "text": [
        "\n",
        "D:\\Data\\output_charts_coherence_phase//COL6_ROW32_NFFT140_NLAP040.png"
       ]
      },
      {
       "output_type": "stream",
       "stream": "stdout",
       "text": [
        "\n",
        "D:\\Data\\output_charts_coherence_phase//COL6_ROW33_NFFT140_NLAP040.png"
       ]
      },
      {
       "output_type": "stream",
       "stream": "stdout",
       "text": [
        "\n",
        "D:\\Data\\output_charts_coherence_phase//COL6_ROW34_NFFT140_NLAP040.png"
       ]
      },
      {
       "output_type": "stream",
       "stream": "stdout",
       "text": [
        "\n",
        "D:\\Data\\output_charts_coherence_phase//COL6_ROW35_NFFT140_NLAP040.png"
       ]
      },
      {
       "output_type": "stream",
       "stream": "stdout",
       "text": [
        "\n",
        "D:\\Data\\output_charts_coherence_phase//COL6_ROW36_NFFT140_NLAP040.png"
       ]
      },
      {
       "output_type": "stream",
       "stream": "stdout",
       "text": [
        "\n",
        "D:\\Data\\output_charts_coherence_phase//COL7_ROW0_NFFT140_NLAP040.png"
       ]
      },
      {
       "output_type": "stream",
       "stream": "stdout",
       "text": [
        "\n",
        "D:\\Data\\output_charts_coherence_phase//COL7_ROW1_NFFT140_NLAP040.png"
       ]
      },
      {
       "output_type": "stream",
       "stream": "stdout",
       "text": [
        "\n",
        "D:\\Data\\output_charts_coherence_phase//COL7_ROW2_NFFT140_NLAP040.png"
       ]
      },
      {
       "output_type": "stream",
       "stream": "stdout",
       "text": [
        "\n",
        "D:\\Data\\output_charts_coherence_phase//COL7_ROW3_NFFT140_NLAP040.png"
       ]
      },
      {
       "output_type": "stream",
       "stream": "stdout",
       "text": [
        "\n",
        "D:\\Data\\output_charts_coherence_phase//COL7_ROW4_NFFT140_NLAP040.png"
       ]
      },
      {
       "output_type": "stream",
       "stream": "stdout",
       "text": [
        "\n",
        "D:\\Data\\output_charts_coherence_phase//COL7_ROW5_NFFT140_NLAP040.png"
       ]
      },
      {
       "output_type": "stream",
       "stream": "stdout",
       "text": [
        "\n",
        "D:\\Data\\output_charts_coherence_phase//COL7_ROW6_NFFT140_NLAP040.png"
       ]
      },
      {
       "output_type": "stream",
       "stream": "stdout",
       "text": [
        "\n",
        "D:\\Data\\output_charts_coherence_phase//COL7_ROW7_NFFT140_NLAP040.png"
       ]
      },
      {
       "output_type": "stream",
       "stream": "stdout",
       "text": [
        "\n",
        "D:\\Data\\output_charts_coherence_phase//COL7_ROW8_NFFT140_NLAP040.png"
       ]
      },
      {
       "output_type": "stream",
       "stream": "stdout",
       "text": [
        "\n",
        "D:\\Data\\output_charts_coherence_phase//COL7_ROW9_NFFT140_NLAP040.png"
       ]
      },
      {
       "output_type": "stream",
       "stream": "stdout",
       "text": [
        "\n",
        "D:\\Data\\output_charts_coherence_phase//COL7_ROW10_NFFT140_NLAP040.png"
       ]
      },
      {
       "output_type": "stream",
       "stream": "stdout",
       "text": [
        "\n",
        "D:\\Data\\output_charts_coherence_phase//COL7_ROW11_NFFT140_NLAP040.png"
       ]
      },
      {
       "output_type": "stream",
       "stream": "stdout",
       "text": [
        "\n",
        "D:\\Data\\output_charts_coherence_phase//COL7_ROW12_NFFT140_NLAP040.png"
       ]
      },
      {
       "output_type": "stream",
       "stream": "stdout",
       "text": [
        "\n",
        "D:\\Data\\output_charts_coherence_phase//COL7_ROW13_NFFT140_NLAP040.png"
       ]
      },
      {
       "output_type": "stream",
       "stream": "stdout",
       "text": [
        "\n",
        "D:\\Data\\output_charts_coherence_phase//COL7_ROW14_NFFT140_NLAP040.png"
       ]
      },
      {
       "output_type": "stream",
       "stream": "stdout",
       "text": [
        "\n",
        "D:\\Data\\output_charts_coherence_phase//COL7_ROW15_NFFT140_NLAP040.png"
       ]
      },
      {
       "output_type": "stream",
       "stream": "stdout",
       "text": [
        "\n",
        "D:\\Data\\output_charts_coherence_phase//COL7_ROW16_NFFT140_NLAP040.png"
       ]
      },
      {
       "output_type": "stream",
       "stream": "stdout",
       "text": [
        "\n",
        "D:\\Data\\output_charts_coherence_phase//COL7_ROW17_NFFT140_NLAP040.png"
       ]
      },
      {
       "output_type": "stream",
       "stream": "stdout",
       "text": [
        "\n",
        "D:\\Data\\output_charts_coherence_phase//COL7_ROW18_NFFT140_NLAP040.png"
       ]
      },
      {
       "output_type": "stream",
       "stream": "stdout",
       "text": [
        "\n",
        "D:\\Data\\output_charts_coherence_phase//COL7_ROW19_NFFT140_NLAP040.png"
       ]
      },
      {
       "output_type": "stream",
       "stream": "stdout",
       "text": [
        "\n",
        "D:\\Data\\output_charts_coherence_phase//COL7_ROW20_NFFT140_NLAP040.png"
       ]
      },
      {
       "output_type": "stream",
       "stream": "stdout",
       "text": [
        "\n",
        "D:\\Data\\output_charts_coherence_phase//COL7_ROW21_NFFT140_NLAP040.png"
       ]
      },
      {
       "output_type": "stream",
       "stream": "stdout",
       "text": [
        "\n",
        "D:\\Data\\output_charts_coherence_phase//COL7_ROW22_NFFT140_NLAP040.png"
       ]
      },
      {
       "output_type": "stream",
       "stream": "stdout",
       "text": [
        "\n",
        "D:\\Data\\output_charts_coherence_phase//COL7_ROW23_NFFT140_NLAP040.png"
       ]
      },
      {
       "output_type": "stream",
       "stream": "stdout",
       "text": [
        "\n",
        "D:\\Data\\output_charts_coherence_phase//COL7_ROW24_NFFT140_NLAP040.png"
       ]
      },
      {
       "output_type": "stream",
       "stream": "stdout",
       "text": [
        "\n",
        "D:\\Data\\output_charts_coherence_phase//COL7_ROW25_NFFT140_NLAP040.png"
       ]
      },
      {
       "output_type": "stream",
       "stream": "stdout",
       "text": [
        "\n",
        "D:\\Data\\output_charts_coherence_phase//COL7_ROW26_NFFT140_NLAP040.png"
       ]
      },
      {
       "output_type": "stream",
       "stream": "stdout",
       "text": [
        "\n",
        "D:\\Data\\output_charts_coherence_phase//COL7_ROW27_NFFT140_NLAP040.png"
       ]
      },
      {
       "output_type": "stream",
       "stream": "stdout",
       "text": [
        "\n",
        "D:\\Data\\output_charts_coherence_phase//COL7_ROW28_NFFT140_NLAP040.png"
       ]
      },
      {
       "output_type": "stream",
       "stream": "stdout",
       "text": [
        "\n",
        "D:\\Data\\output_charts_coherence_phase//COL7_ROW29_NFFT140_NLAP040.png"
       ]
      },
      {
       "output_type": "stream",
       "stream": "stdout",
       "text": [
        "\n",
        "D:\\Data\\output_charts_coherence_phase//COL7_ROW30_NFFT140_NLAP040.png"
       ]
      },
      {
       "output_type": "stream",
       "stream": "stdout",
       "text": [
        "\n",
        "D:\\Data\\output_charts_coherence_phase//COL7_ROW31_NFFT140_NLAP040.png"
       ]
      },
      {
       "output_type": "stream",
       "stream": "stdout",
       "text": [
        "\n",
        "D:\\Data\\output_charts_coherence_phase//COL7_ROW32_NFFT140_NLAP040.png"
       ]
      },
      {
       "output_type": "stream",
       "stream": "stdout",
       "text": [
        "\n",
        "D:\\Data\\output_charts_coherence_phase//COL7_ROW33_NFFT140_NLAP040.png"
       ]
      },
      {
       "output_type": "stream",
       "stream": "stdout",
       "text": [
        "\n",
        "D:\\Data\\output_charts_coherence_phase//COL7_ROW34_NFFT140_NLAP040.png"
       ]
      },
      {
       "output_type": "stream",
       "stream": "stdout",
       "text": [
        "\n",
        "D:\\Data\\output_charts_coherence_phase//COL7_ROW35_NFFT140_NLAP040.png"
       ]
      },
      {
       "output_type": "stream",
       "stream": "stdout",
       "text": [
        "\n",
        "D:\\Data\\output_charts_coherence_phase//COL7_ROW36_NFFT140_NLAP040.png"
       ]
      },
      {
       "output_type": "stream",
       "stream": "stdout",
       "text": [
        "\n",
        "D:\\Data\\output_charts_coherence_phase//COL8_ROW0_NFFT140_NLAP040.png"
       ]
      },
      {
       "output_type": "stream",
       "stream": "stdout",
       "text": [
        "\n",
        "D:\\Data\\output_charts_coherence_phase//COL8_ROW1_NFFT140_NLAP040.png"
       ]
      },
      {
       "output_type": "stream",
       "stream": "stdout",
       "text": [
        "\n",
        "D:\\Data\\output_charts_coherence_phase//COL8_ROW2_NFFT140_NLAP040.png"
       ]
      },
      {
       "output_type": "stream",
       "stream": "stdout",
       "text": [
        "\n",
        "D:\\Data\\output_charts_coherence_phase//COL8_ROW3_NFFT140_NLAP040.png"
       ]
      },
      {
       "output_type": "stream",
       "stream": "stdout",
       "text": [
        "\n",
        "D:\\Data\\output_charts_coherence_phase//COL8_ROW4_NFFT140_NLAP040.png"
       ]
      },
      {
       "output_type": "stream",
       "stream": "stdout",
       "text": [
        "\n",
        "D:\\Data\\output_charts_coherence_phase//COL8_ROW5_NFFT140_NLAP040.png"
       ]
      },
      {
       "output_type": "stream",
       "stream": "stdout",
       "text": [
        "\n",
        "D:\\Data\\output_charts_coherence_phase//COL8_ROW6_NFFT140_NLAP040.png"
       ]
      },
      {
       "output_type": "stream",
       "stream": "stdout",
       "text": [
        "\n",
        "D:\\Data\\output_charts_coherence_phase//COL8_ROW7_NFFT140_NLAP040.png"
       ]
      },
      {
       "output_type": "stream",
       "stream": "stdout",
       "text": [
        "\n",
        "D:\\Data\\output_charts_coherence_phase//COL8_ROW8_NFFT140_NLAP040.png"
       ]
      },
      {
       "output_type": "stream",
       "stream": "stdout",
       "text": [
        "\n",
        "D:\\Data\\output_charts_coherence_phase//COL8_ROW9_NFFT140_NLAP040.png"
       ]
      },
      {
       "output_type": "stream",
       "stream": "stdout",
       "text": [
        "\n",
        "D:\\Data\\output_charts_coherence_phase//COL8_ROW10_NFFT140_NLAP040.png"
       ]
      },
      {
       "output_type": "stream",
       "stream": "stdout",
       "text": [
        "\n",
        "D:\\Data\\output_charts_coherence_phase//COL8_ROW11_NFFT140_NLAP040.png"
       ]
      },
      {
       "output_type": "stream",
       "stream": "stdout",
       "text": [
        "\n",
        "D:\\Data\\output_charts_coherence_phase//COL8_ROW12_NFFT140_NLAP040.png"
       ]
      },
      {
       "output_type": "stream",
       "stream": "stdout",
       "text": [
        "\n",
        "D:\\Data\\output_charts_coherence_phase//COL8_ROW13_NFFT140_NLAP040.png"
       ]
      },
      {
       "output_type": "stream",
       "stream": "stdout",
       "text": [
        "\n",
        "D:\\Data\\output_charts_coherence_phase//COL8_ROW14_NFFT140_NLAP040.png"
       ]
      },
      {
       "output_type": "stream",
       "stream": "stdout",
       "text": [
        "\n",
        "D:\\Data\\output_charts_coherence_phase//COL8_ROW15_NFFT140_NLAP040.png"
       ]
      },
      {
       "output_type": "stream",
       "stream": "stdout",
       "text": [
        "\n",
        "D:\\Data\\output_charts_coherence_phase//COL8_ROW16_NFFT140_NLAP040.png"
       ]
      },
      {
       "output_type": "stream",
       "stream": "stdout",
       "text": [
        "\n",
        "D:\\Data\\output_charts_coherence_phase//COL8_ROW17_NFFT140_NLAP040.png"
       ]
      },
      {
       "output_type": "stream",
       "stream": "stdout",
       "text": [
        "\n",
        "D:\\Data\\output_charts_coherence_phase//COL8_ROW18_NFFT140_NLAP040.png"
       ]
      },
      {
       "output_type": "stream",
       "stream": "stdout",
       "text": [
        "\n",
        "D:\\Data\\output_charts_coherence_phase//COL8_ROW19_NFFT140_NLAP040.png"
       ]
      },
      {
       "output_type": "stream",
       "stream": "stdout",
       "text": [
        "\n",
        "D:\\Data\\output_charts_coherence_phase//COL8_ROW20_NFFT140_NLAP040.png"
       ]
      },
      {
       "output_type": "stream",
       "stream": "stdout",
       "text": [
        "\n",
        "D:\\Data\\output_charts_coherence_phase//COL8_ROW21_NFFT140_NLAP040.png"
       ]
      },
      {
       "output_type": "stream",
       "stream": "stdout",
       "text": [
        "\n",
        "D:\\Data\\output_charts_coherence_phase//COL8_ROW22_NFFT140_NLAP040.png"
       ]
      },
      {
       "output_type": "stream",
       "stream": "stdout",
       "text": [
        "\n",
        "D:\\Data\\output_charts_coherence_phase//COL8_ROW23_NFFT140_NLAP040.png"
       ]
      },
      {
       "output_type": "stream",
       "stream": "stdout",
       "text": [
        "\n",
        "D:\\Data\\output_charts_coherence_phase//COL8_ROW24_NFFT140_NLAP040.png"
       ]
      },
      {
       "output_type": "stream",
       "stream": "stdout",
       "text": [
        "\n",
        "D:\\Data\\output_charts_coherence_phase//COL8_ROW25_NFFT140_NLAP040.png"
       ]
      },
      {
       "output_type": "stream",
       "stream": "stdout",
       "text": [
        "\n",
        "D:\\Data\\output_charts_coherence_phase//COL8_ROW26_NFFT140_NLAP040.png"
       ]
      },
      {
       "output_type": "stream",
       "stream": "stdout",
       "text": [
        "\n",
        "D:\\Data\\output_charts_coherence_phase//COL8_ROW27_NFFT140_NLAP040.png"
       ]
      },
      {
       "output_type": "stream",
       "stream": "stdout",
       "text": [
        "\n",
        "D:\\Data\\output_charts_coherence_phase//COL8_ROW28_NFFT140_NLAP040.png"
       ]
      },
      {
       "output_type": "stream",
       "stream": "stdout",
       "text": [
        "\n",
        "D:\\Data\\output_charts_coherence_phase//COL8_ROW29_NFFT140_NLAP040.png"
       ]
      },
      {
       "output_type": "stream",
       "stream": "stdout",
       "text": [
        "\n",
        "D:\\Data\\output_charts_coherence_phase//COL8_ROW30_NFFT140_NLAP040.png"
       ]
      },
      {
       "output_type": "stream",
       "stream": "stdout",
       "text": [
        "\n",
        "D:\\Data\\output_charts_coherence_phase//COL8_ROW31_NFFT140_NLAP040.png"
       ]
      },
      {
       "output_type": "stream",
       "stream": "stdout",
       "text": [
        "\n",
        "D:\\Data\\output_charts_coherence_phase//COL8_ROW32_NFFT140_NLAP040.png"
       ]
      },
      {
       "output_type": "stream",
       "stream": "stdout",
       "text": [
        "\n",
        "D:\\Data\\output_charts_coherence_phase//COL8_ROW33_NFFT140_NLAP040.png"
       ]
      },
      {
       "output_type": "stream",
       "stream": "stdout",
       "text": [
        "\n",
        "D:\\Data\\output_charts_coherence_phase//COL8_ROW34_NFFT140_NLAP040.png"
       ]
      },
      {
       "output_type": "stream",
       "stream": "stdout",
       "text": [
        "\n",
        "D:\\Data\\output_charts_coherence_phase//COL8_ROW35_NFFT140_NLAP040.png"
       ]
      },
      {
       "output_type": "stream",
       "stream": "stdout",
       "text": [
        "\n",
        "D:\\Data\\output_charts_coherence_phase//COL8_ROW36_NFFT140_NLAP040.png"
       ]
      },
      {
       "output_type": "stream",
       "stream": "stdout",
       "text": [
        "\n",
        "D:\\Data\\output_charts_coherence_phase//COL9_ROW0_NFFT140_NLAP040.png"
       ]
      },
      {
       "output_type": "stream",
       "stream": "stdout",
       "text": [
        "\n",
        "D:\\Data\\output_charts_coherence_phase//COL9_ROW1_NFFT140_NLAP040.png"
       ]
      },
      {
       "output_type": "stream",
       "stream": "stdout",
       "text": [
        "\n",
        "D:\\Data\\output_charts_coherence_phase//COL9_ROW2_NFFT140_NLAP040.png"
       ]
      },
      {
       "output_type": "stream",
       "stream": "stdout",
       "text": [
        "\n",
        "D:\\Data\\output_charts_coherence_phase//COL9_ROW3_NFFT140_NLAP040.png"
       ]
      },
      {
       "output_type": "stream",
       "stream": "stdout",
       "text": [
        "\n",
        "D:\\Data\\output_charts_coherence_phase//COL9_ROW4_NFFT140_NLAP040.png"
       ]
      },
      {
       "output_type": "stream",
       "stream": "stdout",
       "text": [
        "\n",
        "D:\\Data\\output_charts_coherence_phase//COL9_ROW5_NFFT140_NLAP040.png"
       ]
      },
      {
       "output_type": "stream",
       "stream": "stdout",
       "text": [
        "\n",
        "D:\\Data\\output_charts_coherence_phase//COL9_ROW6_NFFT140_NLAP040.png"
       ]
      },
      {
       "output_type": "stream",
       "stream": "stdout",
       "text": [
        "\n",
        "D:\\Data\\output_charts_coherence_phase//COL9_ROW7_NFFT140_NLAP040.png"
       ]
      },
      {
       "output_type": "stream",
       "stream": "stdout",
       "text": [
        "\n",
        "D:\\Data\\output_charts_coherence_phase//COL9_ROW8_NFFT140_NLAP040.png"
       ]
      },
      {
       "output_type": "stream",
       "stream": "stdout",
       "text": [
        "\n",
        "D:\\Data\\output_charts_coherence_phase//COL9_ROW9_NFFT140_NLAP040.png"
       ]
      },
      {
       "output_type": "stream",
       "stream": "stdout",
       "text": [
        "\n",
        "D:\\Data\\output_charts_coherence_phase//COL9_ROW10_NFFT140_NLAP040.png"
       ]
      },
      {
       "output_type": "stream",
       "stream": "stdout",
       "text": [
        "\n",
        "D:\\Data\\output_charts_coherence_phase//COL9_ROW11_NFFT140_NLAP040.png"
       ]
      },
      {
       "output_type": "stream",
       "stream": "stdout",
       "text": [
        "\n",
        "D:\\Data\\output_charts_coherence_phase//COL9_ROW12_NFFT140_NLAP040.png"
       ]
      },
      {
       "output_type": "stream",
       "stream": "stdout",
       "text": [
        "\n",
        "D:\\Data\\output_charts_coherence_phase//COL9_ROW13_NFFT140_NLAP040.png"
       ]
      },
      {
       "output_type": "stream",
       "stream": "stdout",
       "text": [
        "\n",
        "D:\\Data\\output_charts_coherence_phase//COL9_ROW14_NFFT140_NLAP040.png"
       ]
      },
      {
       "output_type": "stream",
       "stream": "stdout",
       "text": [
        "\n",
        "D:\\Data\\output_charts_coherence_phase//COL9_ROW15_NFFT140_NLAP040.png"
       ]
      },
      {
       "output_type": "stream",
       "stream": "stdout",
       "text": [
        "\n",
        "D:\\Data\\output_charts_coherence_phase//COL9_ROW16_NFFT140_NLAP040.png"
       ]
      },
      {
       "output_type": "stream",
       "stream": "stdout",
       "text": [
        "\n",
        "D:\\Data\\output_charts_coherence_phase//COL9_ROW17_NFFT140_NLAP040.png"
       ]
      },
      {
       "output_type": "stream",
       "stream": "stdout",
       "text": [
        "\n",
        "D:\\Data\\output_charts_coherence_phase//COL9_ROW18_NFFT140_NLAP040.png"
       ]
      },
      {
       "output_type": "stream",
       "stream": "stdout",
       "text": [
        "\n",
        "D:\\Data\\output_charts_coherence_phase//COL9_ROW19_NFFT140_NLAP040.png"
       ]
      },
      {
       "output_type": "stream",
       "stream": "stdout",
       "text": [
        "\n",
        "D:\\Data\\output_charts_coherence_phase//COL9_ROW20_NFFT140_NLAP040.png"
       ]
      },
      {
       "output_type": "stream",
       "stream": "stdout",
       "text": [
        "\n",
        "D:\\Data\\output_charts_coherence_phase//COL9_ROW21_NFFT140_NLAP040.png"
       ]
      },
      {
       "output_type": "stream",
       "stream": "stdout",
       "text": [
        "\n",
        "D:\\Data\\output_charts_coherence_phase//COL9_ROW22_NFFT140_NLAP040.png"
       ]
      },
      {
       "output_type": "stream",
       "stream": "stdout",
       "text": [
        "\n",
        "D:\\Data\\output_charts_coherence_phase//COL9_ROW23_NFFT140_NLAP040.png"
       ]
      },
      {
       "output_type": "stream",
       "stream": "stdout",
       "text": [
        "\n",
        "D:\\Data\\output_charts_coherence_phase//COL9_ROW24_NFFT140_NLAP040.png"
       ]
      },
      {
       "output_type": "stream",
       "stream": "stdout",
       "text": [
        "\n",
        "D:\\Data\\output_charts_coherence_phase//COL9_ROW25_NFFT140_NLAP040.png"
       ]
      },
      {
       "output_type": "stream",
       "stream": "stdout",
       "text": [
        "\n",
        "D:\\Data\\output_charts_coherence_phase//COL9_ROW26_NFFT140_NLAP040.png"
       ]
      },
      {
       "output_type": "stream",
       "stream": "stdout",
       "text": [
        "\n",
        "D:\\Data\\output_charts_coherence_phase//COL9_ROW27_NFFT140_NLAP040.png"
       ]
      },
      {
       "output_type": "stream",
       "stream": "stdout",
       "text": [
        "\n",
        "D:\\Data\\output_charts_coherence_phase//COL9_ROW28_NFFT140_NLAP040.png"
       ]
      },
      {
       "output_type": "stream",
       "stream": "stdout",
       "text": [
        "\n",
        "D:\\Data\\output_charts_coherence_phase//COL9_ROW29_NFFT140_NLAP040.png"
       ]
      },
      {
       "output_type": "stream",
       "stream": "stdout",
       "text": [
        "\n",
        "D:\\Data\\output_charts_coherence_phase//COL9_ROW30_NFFT140_NLAP040.png"
       ]
      },
      {
       "output_type": "stream",
       "stream": "stdout",
       "text": [
        "\n",
        "D:\\Data\\output_charts_coherence_phase//COL9_ROW31_NFFT140_NLAP040.png"
       ]
      },
      {
       "output_type": "stream",
       "stream": "stdout",
       "text": [
        "\n",
        "D:\\Data\\output_charts_coherence_phase//COL9_ROW32_NFFT140_NLAP040.png"
       ]
      },
      {
       "output_type": "stream",
       "stream": "stdout",
       "text": [
        "\n",
        "D:\\Data\\output_charts_coherence_phase//COL9_ROW33_NFFT140_NLAP040.png"
       ]
      },
      {
       "output_type": "stream",
       "stream": "stdout",
       "text": [
        "\n",
        "D:\\Data\\output_charts_coherence_phase//COL9_ROW34_NFFT140_NLAP040.png"
       ]
      },
      {
       "output_type": "stream",
       "stream": "stdout",
       "text": [
        "\n",
        "D:\\Data\\output_charts_coherence_phase//COL9_ROW35_NFFT140_NLAP040.png"
       ]
      },
      {
       "output_type": "stream",
       "stream": "stdout",
       "text": [
        "\n",
        "D:\\Data\\output_charts_coherence_phase//COL9_ROW36_NFFT140_NLAP040.png"
       ]
      },
      {
       "output_type": "stream",
       "stream": "stdout",
       "text": [
        "\n",
        "D:\\Data\\output_charts_coherence_phase//COL10_ROW0_NFFT140_NLAP040.png"
       ]
      },
      {
       "output_type": "stream",
       "stream": "stdout",
       "text": [
        "\n",
        "D:\\Data\\output_charts_coherence_phase//COL10_ROW1_NFFT140_NLAP040.png"
       ]
      },
      {
       "output_type": "stream",
       "stream": "stdout",
       "text": [
        "\n",
        "D:\\Data\\output_charts_coherence_phase//COL10_ROW2_NFFT140_NLAP040.png"
       ]
      },
      {
       "output_type": "stream",
       "stream": "stdout",
       "text": [
        "\n",
        "D:\\Data\\output_charts_coherence_phase//COL10_ROW3_NFFT140_NLAP040.png"
       ]
      },
      {
       "output_type": "stream",
       "stream": "stdout",
       "text": [
        "\n",
        "D:\\Data\\output_charts_coherence_phase//COL10_ROW4_NFFT140_NLAP040.png"
       ]
      },
      {
       "output_type": "stream",
       "stream": "stdout",
       "text": [
        "\n",
        "D:\\Data\\output_charts_coherence_phase//COL10_ROW5_NFFT140_NLAP040.png"
       ]
      },
      {
       "output_type": "stream",
       "stream": "stdout",
       "text": [
        "\n",
        "D:\\Data\\output_charts_coherence_phase//COL10_ROW6_NFFT140_NLAP040.png"
       ]
      },
      {
       "output_type": "stream",
       "stream": "stdout",
       "text": [
        "\n",
        "D:\\Data\\output_charts_coherence_phase//COL10_ROW7_NFFT140_NLAP040.png"
       ]
      },
      {
       "output_type": "stream",
       "stream": "stdout",
       "text": [
        "\n",
        "D:\\Data\\output_charts_coherence_phase//COL10_ROW8_NFFT140_NLAP040.png"
       ]
      },
      {
       "output_type": "stream",
       "stream": "stdout",
       "text": [
        "\n",
        "D:\\Data\\output_charts_coherence_phase//COL10_ROW9_NFFT140_NLAP040.png"
       ]
      },
      {
       "output_type": "stream",
       "stream": "stdout",
       "text": [
        "\n",
        "D:\\Data\\output_charts_coherence_phase//COL10_ROW10_NFFT140_NLAP040.png"
       ]
      },
      {
       "output_type": "stream",
       "stream": "stdout",
       "text": [
        "\n",
        "D:\\Data\\output_charts_coherence_phase//COL10_ROW11_NFFT140_NLAP040.png"
       ]
      },
      {
       "output_type": "stream",
       "stream": "stdout",
       "text": [
        "\n",
        "D:\\Data\\output_charts_coherence_phase//COL10_ROW12_NFFT140_NLAP040.png"
       ]
      },
      {
       "output_type": "stream",
       "stream": "stdout",
       "text": [
        "\n",
        "D:\\Data\\output_charts_coherence_phase//COL10_ROW13_NFFT140_NLAP040.png"
       ]
      },
      {
       "output_type": "stream",
       "stream": "stdout",
       "text": [
        "\n",
        "D:\\Data\\output_charts_coherence_phase//COL10_ROW14_NFFT140_NLAP040.png"
       ]
      },
      {
       "output_type": "stream",
       "stream": "stdout",
       "text": [
        "\n",
        "D:\\Data\\output_charts_coherence_phase//COL10_ROW15_NFFT140_NLAP040.png"
       ]
      },
      {
       "output_type": "stream",
       "stream": "stdout",
       "text": [
        "\n",
        "D:\\Data\\output_charts_coherence_phase//COL10_ROW16_NFFT140_NLAP040.png"
       ]
      },
      {
       "output_type": "stream",
       "stream": "stdout",
       "text": [
        "\n",
        "D:\\Data\\output_charts_coherence_phase//COL10_ROW17_NFFT140_NLAP040.png"
       ]
      },
      {
       "output_type": "stream",
       "stream": "stdout",
       "text": [
        "\n",
        "D:\\Data\\output_charts_coherence_phase//COL10_ROW18_NFFT140_NLAP040.png"
       ]
      },
      {
       "output_type": "stream",
       "stream": "stdout",
       "text": [
        "\n",
        "D:\\Data\\output_charts_coherence_phase//COL10_ROW19_NFFT140_NLAP040.png"
       ]
      },
      {
       "output_type": "stream",
       "stream": "stdout",
       "text": [
        "\n",
        "D:\\Data\\output_charts_coherence_phase//COL10_ROW20_NFFT140_NLAP040.png"
       ]
      },
      {
       "output_type": "stream",
       "stream": "stdout",
       "text": [
        "\n",
        "D:\\Data\\output_charts_coherence_phase//COL10_ROW21_NFFT140_NLAP040.png"
       ]
      },
      {
       "output_type": "stream",
       "stream": "stdout",
       "text": [
        "\n",
        "D:\\Data\\output_charts_coherence_phase//COL10_ROW22_NFFT140_NLAP040.png"
       ]
      },
      {
       "output_type": "stream",
       "stream": "stdout",
       "text": [
        "\n",
        "D:\\Data\\output_charts_coherence_phase//COL10_ROW23_NFFT140_NLAP040.png"
       ]
      },
      {
       "output_type": "stream",
       "stream": "stdout",
       "text": [
        "\n",
        "D:\\Data\\output_charts_coherence_phase//COL10_ROW24_NFFT140_NLAP040.png"
       ]
      },
      {
       "output_type": "stream",
       "stream": "stdout",
       "text": [
        "\n",
        "D:\\Data\\output_charts_coherence_phase//COL10_ROW25_NFFT140_NLAP040.png"
       ]
      },
      {
       "output_type": "stream",
       "stream": "stdout",
       "text": [
        "\n",
        "D:\\Data\\output_charts_coherence_phase//COL10_ROW26_NFFT140_NLAP040.png"
       ]
      },
      {
       "output_type": "stream",
       "stream": "stdout",
       "text": [
        "\n",
        "D:\\Data\\output_charts_coherence_phase//COL10_ROW27_NFFT140_NLAP040.png"
       ]
      },
      {
       "output_type": "stream",
       "stream": "stdout",
       "text": [
        "\n",
        "D:\\Data\\output_charts_coherence_phase//COL10_ROW28_NFFT140_NLAP040.png"
       ]
      },
      {
       "output_type": "stream",
       "stream": "stdout",
       "text": [
        "\n",
        "D:\\Data\\output_charts_coherence_phase//COL10_ROW29_NFFT140_NLAP040.png"
       ]
      },
      {
       "output_type": "stream",
       "stream": "stdout",
       "text": [
        "\n",
        "D:\\Data\\output_charts_coherence_phase//COL10_ROW30_NFFT140_NLAP040.png"
       ]
      },
      {
       "output_type": "stream",
       "stream": "stdout",
       "text": [
        "\n",
        "D:\\Data\\output_charts_coherence_phase//COL10_ROW31_NFFT140_NLAP040.png"
       ]
      },
      {
       "output_type": "stream",
       "stream": "stdout",
       "text": [
        "\n",
        "D:\\Data\\output_charts_coherence_phase//COL10_ROW32_NFFT140_NLAP040.png"
       ]
      },
      {
       "output_type": "stream",
       "stream": "stdout",
       "text": [
        "\n",
        "D:\\Data\\output_charts_coherence_phase//COL10_ROW33_NFFT140_NLAP040.png"
       ]
      },
      {
       "output_type": "stream",
       "stream": "stdout",
       "text": [
        "\n",
        "D:\\Data\\output_charts_coherence_phase//COL10_ROW34_NFFT140_NLAP040.png"
       ]
      },
      {
       "output_type": "stream",
       "stream": "stdout",
       "text": [
        "\n",
        "D:\\Data\\output_charts_coherence_phase//COL10_ROW35_NFFT140_NLAP040.png"
       ]
      },
      {
       "output_type": "stream",
       "stream": "stdout",
       "text": [
        "\n",
        "D:\\Data\\output_charts_coherence_phase//COL10_ROW36_NFFT140_NLAP040.png"
       ]
      },
      {
       "output_type": "stream",
       "stream": "stdout",
       "text": [
        "\n",
        "D:\\Data\\output_charts_coherence_phase//COL11_ROW0_NFFT140_NLAP040.png"
       ]
      },
      {
       "output_type": "stream",
       "stream": "stdout",
       "text": [
        "\n",
        "D:\\Data\\output_charts_coherence_phase//COL11_ROW1_NFFT140_NLAP040.png"
       ]
      },
      {
       "output_type": "stream",
       "stream": "stdout",
       "text": [
        "\n",
        "D:\\Data\\output_charts_coherence_phase//COL11_ROW2_NFFT140_NLAP040.png"
       ]
      },
      {
       "output_type": "stream",
       "stream": "stdout",
       "text": [
        "\n",
        "D:\\Data\\output_charts_coherence_phase//COL11_ROW3_NFFT140_NLAP040.png"
       ]
      },
      {
       "output_type": "stream",
       "stream": "stdout",
       "text": [
        "\n",
        "D:\\Data\\output_charts_coherence_phase//COL11_ROW4_NFFT140_NLAP040.png"
       ]
      },
      {
       "output_type": "stream",
       "stream": "stdout",
       "text": [
        "\n",
        "D:\\Data\\output_charts_coherence_phase//COL11_ROW5_NFFT140_NLAP040.png"
       ]
      },
      {
       "output_type": "stream",
       "stream": "stdout",
       "text": [
        "\n",
        "D:\\Data\\output_charts_coherence_phase//COL11_ROW6_NFFT140_NLAP040.png"
       ]
      },
      {
       "output_type": "stream",
       "stream": "stdout",
       "text": [
        "\n",
        "D:\\Data\\output_charts_coherence_phase//COL11_ROW7_NFFT140_NLAP040.png"
       ]
      },
      {
       "output_type": "stream",
       "stream": "stdout",
       "text": [
        "\n",
        "D:\\Data\\output_charts_coherence_phase//COL11_ROW8_NFFT140_NLAP040.png"
       ]
      },
      {
       "output_type": "stream",
       "stream": "stdout",
       "text": [
        "\n",
        "D:\\Data\\output_charts_coherence_phase//COL11_ROW9_NFFT140_NLAP040.png"
       ]
      },
      {
       "output_type": "stream",
       "stream": "stdout",
       "text": [
        "\n",
        "D:\\Data\\output_charts_coherence_phase//COL11_ROW10_NFFT140_NLAP040.png"
       ]
      },
      {
       "output_type": "stream",
       "stream": "stdout",
       "text": [
        "\n",
        "D:\\Data\\output_charts_coherence_phase//COL11_ROW11_NFFT140_NLAP040.png"
       ]
      },
      {
       "output_type": "stream",
       "stream": "stdout",
       "text": [
        "\n",
        "D:\\Data\\output_charts_coherence_phase//COL11_ROW12_NFFT140_NLAP040.png"
       ]
      },
      {
       "output_type": "stream",
       "stream": "stdout",
       "text": [
        "\n",
        "D:\\Data\\output_charts_coherence_phase//COL11_ROW13_NFFT140_NLAP040.png"
       ]
      },
      {
       "output_type": "stream",
       "stream": "stdout",
       "text": [
        "\n",
        "D:\\Data\\output_charts_coherence_phase//COL11_ROW14_NFFT140_NLAP040.png"
       ]
      },
      {
       "output_type": "stream",
       "stream": "stdout",
       "text": [
        "\n",
        "D:\\Data\\output_charts_coherence_phase//COL11_ROW15_NFFT140_NLAP040.png"
       ]
      },
      {
       "output_type": "stream",
       "stream": "stdout",
       "text": [
        "\n",
        "D:\\Data\\output_charts_coherence_phase//COL11_ROW16_NFFT140_NLAP040.png"
       ]
      },
      {
       "output_type": "stream",
       "stream": "stdout",
       "text": [
        "\n",
        "D:\\Data\\output_charts_coherence_phase//COL11_ROW17_NFFT140_NLAP040.png"
       ]
      },
      {
       "output_type": "stream",
       "stream": "stdout",
       "text": [
        "\n",
        "D:\\Data\\output_charts_coherence_phase//COL11_ROW18_NFFT140_NLAP040.png"
       ]
      },
      {
       "output_type": "stream",
       "stream": "stdout",
       "text": [
        "\n",
        "D:\\Data\\output_charts_coherence_phase//COL11_ROW19_NFFT140_NLAP040.png"
       ]
      },
      {
       "output_type": "stream",
       "stream": "stdout",
       "text": [
        "\n",
        "D:\\Data\\output_charts_coherence_phase//COL11_ROW20_NFFT140_NLAP040.png"
       ]
      },
      {
       "output_type": "stream",
       "stream": "stdout",
       "text": [
        "\n",
        "D:\\Data\\output_charts_coherence_phase//COL11_ROW21_NFFT140_NLAP040.png"
       ]
      },
      {
       "output_type": "stream",
       "stream": "stdout",
       "text": [
        "\n",
        "D:\\Data\\output_charts_coherence_phase//COL11_ROW22_NFFT140_NLAP040.png"
       ]
      },
      {
       "output_type": "stream",
       "stream": "stdout",
       "text": [
        "\n",
        "D:\\Data\\output_charts_coherence_phase//COL11_ROW23_NFFT140_NLAP040.png"
       ]
      },
      {
       "output_type": "stream",
       "stream": "stdout",
       "text": [
        "\n",
        "D:\\Data\\output_charts_coherence_phase//COL11_ROW24_NFFT140_NLAP040.png"
       ]
      },
      {
       "output_type": "stream",
       "stream": "stdout",
       "text": [
        "\n",
        "D:\\Data\\output_charts_coherence_phase//COL11_ROW25_NFFT140_NLAP040.png"
       ]
      },
      {
       "output_type": "stream",
       "stream": "stdout",
       "text": [
        "\n",
        "D:\\Data\\output_charts_coherence_phase//COL11_ROW26_NFFT140_NLAP040.png"
       ]
      },
      {
       "output_type": "stream",
       "stream": "stdout",
       "text": [
        "\n",
        "D:\\Data\\output_charts_coherence_phase//COL11_ROW27_NFFT140_NLAP040.png"
       ]
      },
      {
       "output_type": "stream",
       "stream": "stdout",
       "text": [
        "\n",
        "D:\\Data\\output_charts_coherence_phase//COL11_ROW28_NFFT140_NLAP040.png"
       ]
      },
      {
       "output_type": "stream",
       "stream": "stdout",
       "text": [
        "\n",
        "D:\\Data\\output_charts_coherence_phase//COL11_ROW29_NFFT140_NLAP040.png"
       ]
      },
      {
       "output_type": "stream",
       "stream": "stdout",
       "text": [
        "\n",
        "D:\\Data\\output_charts_coherence_phase//COL11_ROW30_NFFT140_NLAP040.png"
       ]
      },
      {
       "output_type": "stream",
       "stream": "stdout",
       "text": [
        "\n",
        "D:\\Data\\output_charts_coherence_phase//COL11_ROW31_NFFT140_NLAP040.png"
       ]
      },
      {
       "output_type": "stream",
       "stream": "stdout",
       "text": [
        "\n",
        "D:\\Data\\output_charts_coherence_phase//COL11_ROW32_NFFT140_NLAP040.png"
       ]
      },
      {
       "output_type": "stream",
       "stream": "stdout",
       "text": [
        "\n",
        "D:\\Data\\output_charts_coherence_phase//COL11_ROW33_NFFT140_NLAP040.png"
       ]
      },
      {
       "output_type": "stream",
       "stream": "stdout",
       "text": [
        "\n",
        "D:\\Data\\output_charts_coherence_phase//COL11_ROW34_NFFT140_NLAP040.png"
       ]
      },
      {
       "output_type": "stream",
       "stream": "stdout",
       "text": [
        "\n",
        "D:\\Data\\output_charts_coherence_phase//COL11_ROW35_NFFT140_NLAP040.png"
       ]
      },
      {
       "output_type": "stream",
       "stream": "stdout",
       "text": [
        "\n",
        "D:\\Data\\output_charts_coherence_phase//COL11_ROW36_NFFT140_NLAP040.png"
       ]
      },
      {
       "output_type": "stream",
       "stream": "stdout",
       "text": [
        "\n",
        "D:\\Data\\output_charts_coherence_phase//COL12_ROW0_NFFT140_NLAP040.png"
       ]
      },
      {
       "output_type": "stream",
       "stream": "stdout",
       "text": [
        "\n",
        "D:\\Data\\output_charts_coherence_phase//COL12_ROW1_NFFT140_NLAP040.png"
       ]
      },
      {
       "output_type": "stream",
       "stream": "stdout",
       "text": [
        "\n",
        "D:\\Data\\output_charts_coherence_phase//COL12_ROW2_NFFT140_NLAP040.png"
       ]
      },
      {
       "output_type": "stream",
       "stream": "stdout",
       "text": [
        "\n",
        "D:\\Data\\output_charts_coherence_phase//COL12_ROW3_NFFT140_NLAP040.png"
       ]
      },
      {
       "output_type": "stream",
       "stream": "stdout",
       "text": [
        "\n",
        "D:\\Data\\output_charts_coherence_phase//COL12_ROW4_NFFT140_NLAP040.png"
       ]
      },
      {
       "output_type": "stream",
       "stream": "stdout",
       "text": [
        "\n",
        "D:\\Data\\output_charts_coherence_phase//COL12_ROW5_NFFT140_NLAP040.png"
       ]
      },
      {
       "output_type": "stream",
       "stream": "stdout",
       "text": [
        "\n",
        "D:\\Data\\output_charts_coherence_phase//COL12_ROW6_NFFT140_NLAP040.png"
       ]
      },
      {
       "output_type": "stream",
       "stream": "stdout",
       "text": [
        "\n",
        "D:\\Data\\output_charts_coherence_phase//COL12_ROW7_NFFT140_NLAP040.png"
       ]
      },
      {
       "output_type": "stream",
       "stream": "stdout",
       "text": [
        "\n",
        "D:\\Data\\output_charts_coherence_phase//COL12_ROW8_NFFT140_NLAP040.png"
       ]
      },
      {
       "output_type": "stream",
       "stream": "stdout",
       "text": [
        "\n",
        "D:\\Data\\output_charts_coherence_phase//COL12_ROW9_NFFT140_NLAP040.png"
       ]
      },
      {
       "output_type": "stream",
       "stream": "stdout",
       "text": [
        "\n",
        "D:\\Data\\output_charts_coherence_phase//COL12_ROW10_NFFT140_NLAP040.png"
       ]
      },
      {
       "output_type": "stream",
       "stream": "stdout",
       "text": [
        "\n",
        "D:\\Data\\output_charts_coherence_phase//COL12_ROW11_NFFT140_NLAP040.png"
       ]
      },
      {
       "output_type": "stream",
       "stream": "stdout",
       "text": [
        "\n",
        "D:\\Data\\output_charts_coherence_phase//COL12_ROW12_NFFT140_NLAP040.png"
       ]
      },
      {
       "output_type": "stream",
       "stream": "stdout",
       "text": [
        "\n",
        "D:\\Data\\output_charts_coherence_phase//COL12_ROW13_NFFT140_NLAP040.png"
       ]
      },
      {
       "output_type": "stream",
       "stream": "stdout",
       "text": [
        "\n",
        "D:\\Data\\output_charts_coherence_phase//COL12_ROW14_NFFT140_NLAP040.png"
       ]
      },
      {
       "output_type": "stream",
       "stream": "stdout",
       "text": [
        "\n",
        "D:\\Data\\output_charts_coherence_phase//COL12_ROW15_NFFT140_NLAP040.png"
       ]
      },
      {
       "output_type": "stream",
       "stream": "stdout",
       "text": [
        "\n",
        "D:\\Data\\output_charts_coherence_phase//COL12_ROW16_NFFT140_NLAP040.png"
       ]
      },
      {
       "output_type": "stream",
       "stream": "stdout",
       "text": [
        "\n",
        "D:\\Data\\output_charts_coherence_phase//COL12_ROW17_NFFT140_NLAP040.png"
       ]
      },
      {
       "output_type": "stream",
       "stream": "stdout",
       "text": [
        "\n",
        "D:\\Data\\output_charts_coherence_phase//COL12_ROW18_NFFT140_NLAP040.png"
       ]
      },
      {
       "output_type": "stream",
       "stream": "stdout",
       "text": [
        "\n",
        "D:\\Data\\output_charts_coherence_phase//COL12_ROW19_NFFT140_NLAP040.png"
       ]
      },
      {
       "output_type": "stream",
       "stream": "stdout",
       "text": [
        "\n",
        "D:\\Data\\output_charts_coherence_phase//COL12_ROW20_NFFT140_NLAP040.png"
       ]
      },
      {
       "output_type": "stream",
       "stream": "stdout",
       "text": [
        "\n",
        "D:\\Data\\output_charts_coherence_phase//COL12_ROW21_NFFT140_NLAP040.png"
       ]
      },
      {
       "output_type": "stream",
       "stream": "stdout",
       "text": [
        "\n",
        "D:\\Data\\output_charts_coherence_phase//COL12_ROW22_NFFT140_NLAP040.png"
       ]
      },
      {
       "output_type": "stream",
       "stream": "stdout",
       "text": [
        "\n",
        "D:\\Data\\output_charts_coherence_phase//COL12_ROW23_NFFT140_NLAP040.png"
       ]
      },
      {
       "output_type": "stream",
       "stream": "stdout",
       "text": [
        "\n",
        "D:\\Data\\output_charts_coherence_phase//COL12_ROW24_NFFT140_NLAP040.png"
       ]
      },
      {
       "output_type": "stream",
       "stream": "stdout",
       "text": [
        "\n",
        "D:\\Data\\output_charts_coherence_phase//COL12_ROW25_NFFT140_NLAP040.png"
       ]
      },
      {
       "output_type": "stream",
       "stream": "stdout",
       "text": [
        "\n",
        "D:\\Data\\output_charts_coherence_phase//COL12_ROW26_NFFT140_NLAP040.png"
       ]
      },
      {
       "output_type": "stream",
       "stream": "stdout",
       "text": [
        "\n",
        "D:\\Data\\output_charts_coherence_phase//COL12_ROW27_NFFT140_NLAP040.png"
       ]
      },
      {
       "output_type": "stream",
       "stream": "stdout",
       "text": [
        "\n",
        "D:\\Data\\output_charts_coherence_phase//COL12_ROW28_NFFT140_NLAP040.png"
       ]
      },
      {
       "output_type": "stream",
       "stream": "stdout",
       "text": [
        "\n",
        "D:\\Data\\output_charts_coherence_phase//COL12_ROW29_NFFT140_NLAP040.png"
       ]
      },
      {
       "output_type": "stream",
       "stream": "stdout",
       "text": [
        "\n",
        "D:\\Data\\output_charts_coherence_phase//COL12_ROW30_NFFT140_NLAP040.png"
       ]
      },
      {
       "output_type": "stream",
       "stream": "stdout",
       "text": [
        "\n",
        "D:\\Data\\output_charts_coherence_phase//COL12_ROW31_NFFT140_NLAP040.png"
       ]
      },
      {
       "output_type": "stream",
       "stream": "stdout",
       "text": [
        "\n",
        "D:\\Data\\output_charts_coherence_phase//COL12_ROW32_NFFT140_NLAP040.png"
       ]
      },
      {
       "output_type": "stream",
       "stream": "stdout",
       "text": [
        "\n",
        "D:\\Data\\output_charts_coherence_phase//COL12_ROW33_NFFT140_NLAP040.png"
       ]
      },
      {
       "output_type": "stream",
       "stream": "stdout",
       "text": [
        "\n",
        "D:\\Data\\output_charts_coherence_phase//COL12_ROW34_NFFT140_NLAP040.png"
       ]
      },
      {
       "output_type": "stream",
       "stream": "stdout",
       "text": [
        "\n",
        "D:\\Data\\output_charts_coherence_phase//COL12_ROW35_NFFT140_NLAP040.png"
       ]
      },
      {
       "output_type": "stream",
       "stream": "stdout",
       "text": [
        "\n",
        "D:\\Data\\output_charts_coherence_phase//COL12_ROW36_NFFT140_NLAP040.png"
       ]
      },
      {
       "output_type": "stream",
       "stream": "stdout",
       "text": [
        "\n",
        "D:\\Data\\output_charts_coherence_phase//COL13_ROW0_NFFT140_NLAP040.png"
       ]
      },
      {
       "output_type": "stream",
       "stream": "stdout",
       "text": [
        "\n",
        "D:\\Data\\output_charts_coherence_phase//COL13_ROW1_NFFT140_NLAP040.png"
       ]
      },
      {
       "output_type": "stream",
       "stream": "stdout",
       "text": [
        "\n",
        "D:\\Data\\output_charts_coherence_phase//COL13_ROW2_NFFT140_NLAP040.png"
       ]
      },
      {
       "output_type": "stream",
       "stream": "stdout",
       "text": [
        "\n",
        "D:\\Data\\output_charts_coherence_phase//COL13_ROW3_NFFT140_NLAP040.png"
       ]
      },
      {
       "output_type": "stream",
       "stream": "stdout",
       "text": [
        "\n",
        "D:\\Data\\output_charts_coherence_phase//COL13_ROW4_NFFT140_NLAP040.png"
       ]
      },
      {
       "output_type": "stream",
       "stream": "stdout",
       "text": [
        "\n",
        "D:\\Data\\output_charts_coherence_phase//COL13_ROW5_NFFT140_NLAP040.png"
       ]
      },
      {
       "output_type": "stream",
       "stream": "stdout",
       "text": [
        "\n",
        "D:\\Data\\output_charts_coherence_phase//COL13_ROW6_NFFT140_NLAP040.png"
       ]
      },
      {
       "output_type": "stream",
       "stream": "stdout",
       "text": [
        "\n",
        "D:\\Data\\output_charts_coherence_phase//COL13_ROW7_NFFT140_NLAP040.png"
       ]
      },
      {
       "output_type": "stream",
       "stream": "stdout",
       "text": [
        "\n",
        "D:\\Data\\output_charts_coherence_phase//COL13_ROW8_NFFT140_NLAP040.png"
       ]
      },
      {
       "output_type": "stream",
       "stream": "stdout",
       "text": [
        "\n",
        "D:\\Data\\output_charts_coherence_phase//COL13_ROW9_NFFT140_NLAP040.png"
       ]
      },
      {
       "output_type": "stream",
       "stream": "stdout",
       "text": [
        "\n",
        "D:\\Data\\output_charts_coherence_phase//COL13_ROW10_NFFT140_NLAP040.png"
       ]
      },
      {
       "output_type": "stream",
       "stream": "stdout",
       "text": [
        "\n",
        "D:\\Data\\output_charts_coherence_phase//COL13_ROW11_NFFT140_NLAP040.png"
       ]
      },
      {
       "output_type": "stream",
       "stream": "stdout",
       "text": [
        "\n",
        "D:\\Data\\output_charts_coherence_phase//COL13_ROW12_NFFT140_NLAP040.png"
       ]
      },
      {
       "output_type": "stream",
       "stream": "stdout",
       "text": [
        "\n",
        "D:\\Data\\output_charts_coherence_phase//COL13_ROW13_NFFT140_NLAP040.png"
       ]
      },
      {
       "output_type": "stream",
       "stream": "stdout",
       "text": [
        "\n",
        "D:\\Data\\output_charts_coherence_phase//COL13_ROW14_NFFT140_NLAP040.png"
       ]
      },
      {
       "output_type": "stream",
       "stream": "stdout",
       "text": [
        "\n",
        "D:\\Data\\output_charts_coherence_phase//COL13_ROW15_NFFT140_NLAP040.png"
       ]
      },
      {
       "output_type": "stream",
       "stream": "stdout",
       "text": [
        "\n",
        "D:\\Data\\output_charts_coherence_phase//COL13_ROW16_NFFT140_NLAP040.png"
       ]
      },
      {
       "output_type": "stream",
       "stream": "stdout",
       "text": [
        "\n",
        "D:\\Data\\output_charts_coherence_phase//COL13_ROW17_NFFT140_NLAP040.png"
       ]
      },
      {
       "output_type": "stream",
       "stream": "stdout",
       "text": [
        "\n",
        "D:\\Data\\output_charts_coherence_phase//COL13_ROW18_NFFT140_NLAP040.png"
       ]
      },
      {
       "output_type": "stream",
       "stream": "stdout",
       "text": [
        "\n",
        "D:\\Data\\output_charts_coherence_phase//COL13_ROW19_NFFT140_NLAP040.png"
       ]
      },
      {
       "output_type": "stream",
       "stream": "stdout",
       "text": [
        "\n",
        "D:\\Data\\output_charts_coherence_phase//COL13_ROW20_NFFT140_NLAP040.png"
       ]
      },
      {
       "output_type": "stream",
       "stream": "stdout",
       "text": [
        "\n",
        "D:\\Data\\output_charts_coherence_phase//COL13_ROW21_NFFT140_NLAP040.png"
       ]
      },
      {
       "output_type": "stream",
       "stream": "stdout",
       "text": [
        "\n",
        "D:\\Data\\output_charts_coherence_phase//COL13_ROW22_NFFT140_NLAP040.png"
       ]
      },
      {
       "output_type": "stream",
       "stream": "stdout",
       "text": [
        "\n",
        "D:\\Data\\output_charts_coherence_phase//COL13_ROW23_NFFT140_NLAP040.png"
       ]
      },
      {
       "output_type": "stream",
       "stream": "stdout",
       "text": [
        "\n",
        "D:\\Data\\output_charts_coherence_phase//COL13_ROW24_NFFT140_NLAP040.png"
       ]
      },
      {
       "output_type": "stream",
       "stream": "stdout",
       "text": [
        "\n",
        "D:\\Data\\output_charts_coherence_phase//COL13_ROW25_NFFT140_NLAP040.png"
       ]
      },
      {
       "output_type": "stream",
       "stream": "stdout",
       "text": [
        "\n",
        "D:\\Data\\output_charts_coherence_phase//COL13_ROW26_NFFT140_NLAP040.png"
       ]
      },
      {
       "output_type": "stream",
       "stream": "stdout",
       "text": [
        "\n",
        "D:\\Data\\output_charts_coherence_phase//COL13_ROW27_NFFT140_NLAP040.png"
       ]
      },
      {
       "output_type": "stream",
       "stream": "stdout",
       "text": [
        "\n",
        "D:\\Data\\output_charts_coherence_phase//COL13_ROW28_NFFT140_NLAP040.png"
       ]
      },
      {
       "output_type": "stream",
       "stream": "stdout",
       "text": [
        "\n",
        "D:\\Data\\output_charts_coherence_phase//COL13_ROW29_NFFT140_NLAP040.png"
       ]
      },
      {
       "output_type": "stream",
       "stream": "stdout",
       "text": [
        "\n",
        "D:\\Data\\output_charts_coherence_phase//COL13_ROW30_NFFT140_NLAP040.png"
       ]
      },
      {
       "output_type": "stream",
       "stream": "stdout",
       "text": [
        "\n",
        "D:\\Data\\output_charts_coherence_phase//COL13_ROW31_NFFT140_NLAP040.png"
       ]
      },
      {
       "output_type": "stream",
       "stream": "stdout",
       "text": [
        "\n",
        "D:\\Data\\output_charts_coherence_phase//COL13_ROW32_NFFT140_NLAP040.png"
       ]
      },
      {
       "output_type": "stream",
       "stream": "stdout",
       "text": [
        "\n",
        "D:\\Data\\output_charts_coherence_phase//COL13_ROW33_NFFT140_NLAP040.png"
       ]
      },
      {
       "output_type": "stream",
       "stream": "stdout",
       "text": [
        "\n",
        "D:\\Data\\output_charts_coherence_phase//COL13_ROW34_NFFT140_NLAP040.png"
       ]
      },
      {
       "output_type": "stream",
       "stream": "stdout",
       "text": [
        "\n",
        "D:\\Data\\output_charts_coherence_phase//COL13_ROW35_NFFT140_NLAP040.png"
       ]
      },
      {
       "output_type": "stream",
       "stream": "stdout",
       "text": [
        "\n",
        "D:\\Data\\output_charts_coherence_phase//COL13_ROW36_NFFT140_NLAP040.png"
       ]
      },
      {
       "output_type": "stream",
       "stream": "stdout",
       "text": [
        "\n",
        "D:\\Data\\output_charts_coherence_phase//COL14_ROW0_NFFT140_NLAP040.png"
       ]
      },
      {
       "output_type": "stream",
       "stream": "stdout",
       "text": [
        "\n",
        "D:\\Data\\output_charts_coherence_phase//COL14_ROW1_NFFT140_NLAP040.png"
       ]
      },
      {
       "output_type": "stream",
       "stream": "stdout",
       "text": [
        "\n",
        "D:\\Data\\output_charts_coherence_phase//COL14_ROW2_NFFT140_NLAP040.png"
       ]
      },
      {
       "output_type": "stream",
       "stream": "stdout",
       "text": [
        "\n",
        "D:\\Data\\output_charts_coherence_phase//COL14_ROW3_NFFT140_NLAP040.png"
       ]
      },
      {
       "output_type": "stream",
       "stream": "stdout",
       "text": [
        "\n",
        "D:\\Data\\output_charts_coherence_phase//COL14_ROW4_NFFT140_NLAP040.png"
       ]
      },
      {
       "output_type": "stream",
       "stream": "stdout",
       "text": [
        "\n",
        "D:\\Data\\output_charts_coherence_phase//COL14_ROW5_NFFT140_NLAP040.png"
       ]
      },
      {
       "output_type": "stream",
       "stream": "stdout",
       "text": [
        "\n",
        "D:\\Data\\output_charts_coherence_phase//COL14_ROW6_NFFT140_NLAP040.png"
       ]
      },
      {
       "output_type": "stream",
       "stream": "stdout",
       "text": [
        "\n",
        "D:\\Data\\output_charts_coherence_phase//COL14_ROW7_NFFT140_NLAP040.png"
       ]
      },
      {
       "output_type": "stream",
       "stream": "stdout",
       "text": [
        "\n",
        "D:\\Data\\output_charts_coherence_phase//COL14_ROW8_NFFT140_NLAP040.png"
       ]
      },
      {
       "output_type": "stream",
       "stream": "stdout",
       "text": [
        "\n",
        "D:\\Data\\output_charts_coherence_phase//COL14_ROW9_NFFT140_NLAP040.png"
       ]
      },
      {
       "output_type": "stream",
       "stream": "stdout",
       "text": [
        "\n",
        "D:\\Data\\output_charts_coherence_phase//COL14_ROW10_NFFT140_NLAP040.png"
       ]
      },
      {
       "output_type": "stream",
       "stream": "stdout",
       "text": [
        "\n",
        "D:\\Data\\output_charts_coherence_phase//COL14_ROW11_NFFT140_NLAP040.png"
       ]
      },
      {
       "output_type": "stream",
       "stream": "stdout",
       "text": [
        "\n",
        "D:\\Data\\output_charts_coherence_phase//COL14_ROW12_NFFT140_NLAP040.png"
       ]
      },
      {
       "output_type": "stream",
       "stream": "stdout",
       "text": [
        "\n",
        "D:\\Data\\output_charts_coherence_phase//COL14_ROW13_NFFT140_NLAP040.png"
       ]
      },
      {
       "output_type": "stream",
       "stream": "stdout",
       "text": [
        "\n",
        "D:\\Data\\output_charts_coherence_phase//COL14_ROW14_NFFT140_NLAP040.png"
       ]
      },
      {
       "output_type": "stream",
       "stream": "stdout",
       "text": [
        "\n",
        "D:\\Data\\output_charts_coherence_phase//COL14_ROW15_NFFT140_NLAP040.png"
       ]
      },
      {
       "output_type": "stream",
       "stream": "stdout",
       "text": [
        "\n",
        "D:\\Data\\output_charts_coherence_phase//COL14_ROW16_NFFT140_NLAP040.png"
       ]
      },
      {
       "output_type": "stream",
       "stream": "stdout",
       "text": [
        "\n",
        "D:\\Data\\output_charts_coherence_phase//COL14_ROW17_NFFT140_NLAP040.png"
       ]
      },
      {
       "output_type": "stream",
       "stream": "stdout",
       "text": [
        "\n",
        "D:\\Data\\output_charts_coherence_phase//COL14_ROW18_NFFT140_NLAP040.png"
       ]
      },
      {
       "output_type": "stream",
       "stream": "stdout",
       "text": [
        "\n",
        "D:\\Data\\output_charts_coherence_phase//COL14_ROW19_NFFT140_NLAP040.png"
       ]
      },
      {
       "output_type": "stream",
       "stream": "stdout",
       "text": [
        "\n",
        "D:\\Data\\output_charts_coherence_phase//COL14_ROW20_NFFT140_NLAP040.png"
       ]
      },
      {
       "output_type": "stream",
       "stream": "stdout",
       "text": [
        "\n",
        "D:\\Data\\output_charts_coherence_phase//COL14_ROW21_NFFT140_NLAP040.png"
       ]
      },
      {
       "output_type": "stream",
       "stream": "stdout",
       "text": [
        "\n",
        "D:\\Data\\output_charts_coherence_phase//COL14_ROW22_NFFT140_NLAP040.png"
       ]
      },
      {
       "output_type": "stream",
       "stream": "stdout",
       "text": [
        "\n",
        "D:\\Data\\output_charts_coherence_phase//COL14_ROW23_NFFT140_NLAP040.png"
       ]
      },
      {
       "output_type": "stream",
       "stream": "stdout",
       "text": [
        "\n",
        "D:\\Data\\output_charts_coherence_phase//COL14_ROW24_NFFT140_NLAP040.png"
       ]
      },
      {
       "output_type": "stream",
       "stream": "stdout",
       "text": [
        "\n",
        "D:\\Data\\output_charts_coherence_phase//COL14_ROW25_NFFT140_NLAP040.png"
       ]
      },
      {
       "output_type": "stream",
       "stream": "stdout",
       "text": [
        "\n",
        "D:\\Data\\output_charts_coherence_phase//COL14_ROW26_NFFT140_NLAP040.png"
       ]
      },
      {
       "output_type": "stream",
       "stream": "stdout",
       "text": [
        "\n",
        "D:\\Data\\output_charts_coherence_phase//COL14_ROW27_NFFT140_NLAP040.png"
       ]
      },
      {
       "output_type": "stream",
       "stream": "stdout",
       "text": [
        "\n",
        "D:\\Data\\output_charts_coherence_phase//COL14_ROW28_NFFT140_NLAP040.png"
       ]
      },
      {
       "output_type": "stream",
       "stream": "stdout",
       "text": [
        "\n",
        "D:\\Data\\output_charts_coherence_phase//COL14_ROW29_NFFT140_NLAP040.png"
       ]
      },
      {
       "output_type": "stream",
       "stream": "stdout",
       "text": [
        "\n",
        "D:\\Data\\output_charts_coherence_phase//COL14_ROW30_NFFT140_NLAP040.png"
       ]
      },
      {
       "output_type": "stream",
       "stream": "stdout",
       "text": [
        "\n",
        "D:\\Data\\output_charts_coherence_phase//COL14_ROW31_NFFT140_NLAP040.png"
       ]
      },
      {
       "output_type": "stream",
       "stream": "stdout",
       "text": [
        "\n",
        "D:\\Data\\output_charts_coherence_phase//COL14_ROW32_NFFT140_NLAP040.png"
       ]
      },
      {
       "output_type": "stream",
       "stream": "stdout",
       "text": [
        "\n",
        "D:\\Data\\output_charts_coherence_phase//COL14_ROW33_NFFT140_NLAP040.png"
       ]
      },
      {
       "output_type": "stream",
       "stream": "stdout",
       "text": [
        "\n",
        "D:\\Data\\output_charts_coherence_phase//COL14_ROW34_NFFT140_NLAP040.png"
       ]
      },
      {
       "output_type": "stream",
       "stream": "stdout",
       "text": [
        "\n",
        "D:\\Data\\output_charts_coherence_phase//COL14_ROW35_NFFT140_NLAP040.png"
       ]
      },
      {
       "output_type": "stream",
       "stream": "stdout",
       "text": [
        "\n",
        "D:\\Data\\output_charts_coherence_phase//COL14_ROW36_NFFT140_NLAP040.png"
       ]
      },
      {
       "output_type": "stream",
       "stream": "stdout",
       "text": [
        "\n",
        "D:\\Data\\output_charts_coherence_phase//COL15_ROW0_NFFT140_NLAP040.png"
       ]
      },
      {
       "output_type": "stream",
       "stream": "stdout",
       "text": [
        "\n",
        "D:\\Data\\output_charts_coherence_phase//COL15_ROW1_NFFT140_NLAP040.png"
       ]
      },
      {
       "output_type": "stream",
       "stream": "stdout",
       "text": [
        "\n",
        "D:\\Data\\output_charts_coherence_phase//COL15_ROW2_NFFT140_NLAP040.png"
       ]
      },
      {
       "output_type": "stream",
       "stream": "stdout",
       "text": [
        "\n",
        "D:\\Data\\output_charts_coherence_phase//COL15_ROW3_NFFT140_NLAP040.png"
       ]
      },
      {
       "output_type": "stream",
       "stream": "stdout",
       "text": [
        "\n",
        "D:\\Data\\output_charts_coherence_phase//COL15_ROW4_NFFT140_NLAP040.png"
       ]
      },
      {
       "output_type": "stream",
       "stream": "stdout",
       "text": [
        "\n",
        "D:\\Data\\output_charts_coherence_phase//COL15_ROW5_NFFT140_NLAP040.png"
       ]
      },
      {
       "output_type": "stream",
       "stream": "stdout",
       "text": [
        "\n",
        "D:\\Data\\output_charts_coherence_phase//COL15_ROW6_NFFT140_NLAP040.png"
       ]
      },
      {
       "output_type": "stream",
       "stream": "stdout",
       "text": [
        "\n",
        "D:\\Data\\output_charts_coherence_phase//COL15_ROW7_NFFT140_NLAP040.png"
       ]
      },
      {
       "output_type": "stream",
       "stream": "stdout",
       "text": [
        "\n",
        "D:\\Data\\output_charts_coherence_phase//COL15_ROW8_NFFT140_NLAP040.png"
       ]
      },
      {
       "output_type": "stream",
       "stream": "stdout",
       "text": [
        "\n",
        "D:\\Data\\output_charts_coherence_phase//COL15_ROW9_NFFT140_NLAP040.png"
       ]
      },
      {
       "output_type": "stream",
       "stream": "stdout",
       "text": [
        "\n",
        "D:\\Data\\output_charts_coherence_phase//COL15_ROW10_NFFT140_NLAP040.png"
       ]
      },
      {
       "output_type": "stream",
       "stream": "stdout",
       "text": [
        "\n",
        "D:\\Data\\output_charts_coherence_phase//COL15_ROW11_NFFT140_NLAP040.png"
       ]
      },
      {
       "output_type": "stream",
       "stream": "stdout",
       "text": [
        "\n",
        "D:\\Data\\output_charts_coherence_phase//COL15_ROW12_NFFT140_NLAP040.png"
       ]
      },
      {
       "output_type": "stream",
       "stream": "stdout",
       "text": [
        "\n",
        "D:\\Data\\output_charts_coherence_phase//COL15_ROW13_NFFT140_NLAP040.png"
       ]
      },
      {
       "output_type": "stream",
       "stream": "stdout",
       "text": [
        "\n",
        "D:\\Data\\output_charts_coherence_phase//COL15_ROW14_NFFT140_NLAP040.png"
       ]
      },
      {
       "output_type": "stream",
       "stream": "stdout",
       "text": [
        "\n",
        "D:\\Data\\output_charts_coherence_phase//COL15_ROW15_NFFT140_NLAP040.png"
       ]
      },
      {
       "output_type": "stream",
       "stream": "stdout",
       "text": [
        "\n",
        "D:\\Data\\output_charts_coherence_phase//COL15_ROW16_NFFT140_NLAP040.png"
       ]
      },
      {
       "output_type": "stream",
       "stream": "stdout",
       "text": [
        "\n",
        "D:\\Data\\output_charts_coherence_phase//COL15_ROW17_NFFT140_NLAP040.png"
       ]
      },
      {
       "output_type": "stream",
       "stream": "stdout",
       "text": [
        "\n",
        "D:\\Data\\output_charts_coherence_phase//COL15_ROW18_NFFT140_NLAP040.png"
       ]
      },
      {
       "output_type": "stream",
       "stream": "stdout",
       "text": [
        "\n",
        "D:\\Data\\output_charts_coherence_phase//COL15_ROW19_NFFT140_NLAP040.png"
       ]
      },
      {
       "output_type": "stream",
       "stream": "stdout",
       "text": [
        "\n",
        "D:\\Data\\output_charts_coherence_phase//COL15_ROW20_NFFT140_NLAP040.png"
       ]
      },
      {
       "output_type": "stream",
       "stream": "stdout",
       "text": [
        "\n",
        "D:\\Data\\output_charts_coherence_phase//COL15_ROW21_NFFT140_NLAP040.png"
       ]
      },
      {
       "output_type": "stream",
       "stream": "stdout",
       "text": [
        "\n",
        "D:\\Data\\output_charts_coherence_phase//COL15_ROW22_NFFT140_NLAP040.png"
       ]
      },
      {
       "output_type": "stream",
       "stream": "stdout",
       "text": [
        "\n",
        "D:\\Data\\output_charts_coherence_phase//COL15_ROW23_NFFT140_NLAP040.png"
       ]
      },
      {
       "output_type": "stream",
       "stream": "stdout",
       "text": [
        "\n",
        "D:\\Data\\output_charts_coherence_phase//COL15_ROW24_NFFT140_NLAP040.png"
       ]
      },
      {
       "output_type": "stream",
       "stream": "stdout",
       "text": [
        "\n",
        "D:\\Data\\output_charts_coherence_phase//COL15_ROW25_NFFT140_NLAP040.png"
       ]
      },
      {
       "output_type": "stream",
       "stream": "stdout",
       "text": [
        "\n",
        "D:\\Data\\output_charts_coherence_phase//COL15_ROW26_NFFT140_NLAP040.png"
       ]
      },
      {
       "output_type": "stream",
       "stream": "stdout",
       "text": [
        "\n",
        "D:\\Data\\output_charts_coherence_phase//COL15_ROW27_NFFT140_NLAP040.png"
       ]
      },
      {
       "output_type": "stream",
       "stream": "stdout",
       "text": [
        "\n",
        "D:\\Data\\output_charts_coherence_phase//COL15_ROW28_NFFT140_NLAP040.png"
       ]
      },
      {
       "output_type": "stream",
       "stream": "stdout",
       "text": [
        "\n",
        "D:\\Data\\output_charts_coherence_phase//COL15_ROW29_NFFT140_NLAP040.png"
       ]
      },
      {
       "output_type": "stream",
       "stream": "stdout",
       "text": [
        "\n",
        "D:\\Data\\output_charts_coherence_phase//COL15_ROW30_NFFT140_NLAP040.png"
       ]
      },
      {
       "output_type": "stream",
       "stream": "stdout",
       "text": [
        "\n",
        "D:\\Data\\output_charts_coherence_phase//COL15_ROW31_NFFT140_NLAP040.png"
       ]
      },
      {
       "output_type": "stream",
       "stream": "stdout",
       "text": [
        "\n",
        "D:\\Data\\output_charts_coherence_phase//COL15_ROW32_NFFT140_NLAP040.png"
       ]
      },
      {
       "output_type": "stream",
       "stream": "stdout",
       "text": [
        "\n",
        "D:\\Data\\output_charts_coherence_phase//COL15_ROW33_NFFT140_NLAP040.png"
       ]
      },
      {
       "output_type": "stream",
       "stream": "stdout",
       "text": [
        "\n",
        "D:\\Data\\output_charts_coherence_phase//COL15_ROW34_NFFT140_NLAP040.png"
       ]
      },
      {
       "output_type": "stream",
       "stream": "stdout",
       "text": [
        "\n",
        "D:\\Data\\output_charts_coherence_phase//COL15_ROW35_NFFT140_NLAP040.png"
       ]
      },
      {
       "output_type": "stream",
       "stream": "stdout",
       "text": [
        "\n",
        "D:\\Data\\output_charts_coherence_phase//COL15_ROW36_NFFT140_NLAP040.png"
       ]
      },
      {
       "output_type": "stream",
       "stream": "stdout",
       "text": [
        "\n",
        "D:\\Data\\output_charts_coherence_phase//COL16_ROW0_NFFT140_NLAP040.png"
       ]
      },
      {
       "output_type": "stream",
       "stream": "stdout",
       "text": [
        "\n",
        "D:\\Data\\output_charts_coherence_phase//COL16_ROW1_NFFT140_NLAP040.png"
       ]
      },
      {
       "output_type": "stream",
       "stream": "stdout",
       "text": [
        "\n",
        "D:\\Data\\output_charts_coherence_phase//COL16_ROW2_NFFT140_NLAP040.png"
       ]
      },
      {
       "output_type": "stream",
       "stream": "stdout",
       "text": [
        "\n",
        "D:\\Data\\output_charts_coherence_phase//COL16_ROW3_NFFT140_NLAP040.png"
       ]
      },
      {
       "output_type": "stream",
       "stream": "stdout",
       "text": [
        "\n",
        "D:\\Data\\output_charts_coherence_phase//COL16_ROW4_NFFT140_NLAP040.png"
       ]
      },
      {
       "output_type": "stream",
       "stream": "stdout",
       "text": [
        "\n",
        "D:\\Data\\output_charts_coherence_phase//COL16_ROW5_NFFT140_NLAP040.png"
       ]
      },
      {
       "output_type": "stream",
       "stream": "stdout",
       "text": [
        "\n",
        "D:\\Data\\output_charts_coherence_phase//COL16_ROW6_NFFT140_NLAP040.png"
       ]
      },
      {
       "output_type": "stream",
       "stream": "stdout",
       "text": [
        "\n",
        "D:\\Data\\output_charts_coherence_phase//COL16_ROW7_NFFT140_NLAP040.png"
       ]
      },
      {
       "output_type": "stream",
       "stream": "stdout",
       "text": [
        "\n",
        "D:\\Data\\output_charts_coherence_phase//COL16_ROW8_NFFT140_NLAP040.png"
       ]
      },
      {
       "output_type": "stream",
       "stream": "stdout",
       "text": [
        "\n",
        "D:\\Data\\output_charts_coherence_phase//COL16_ROW9_NFFT140_NLAP040.png"
       ]
      },
      {
       "output_type": "stream",
       "stream": "stdout",
       "text": [
        "\n",
        "D:\\Data\\output_charts_coherence_phase//COL16_ROW10_NFFT140_NLAP040.png"
       ]
      },
      {
       "output_type": "stream",
       "stream": "stdout",
       "text": [
        "\n",
        "D:\\Data\\output_charts_coherence_phase//COL16_ROW11_NFFT140_NLAP040.png"
       ]
      },
      {
       "output_type": "stream",
       "stream": "stdout",
       "text": [
        "\n",
        "D:\\Data\\output_charts_coherence_phase//COL16_ROW12_NFFT140_NLAP040.png"
       ]
      },
      {
       "output_type": "stream",
       "stream": "stdout",
       "text": [
        "\n",
        "D:\\Data\\output_charts_coherence_phase//COL16_ROW13_NFFT140_NLAP040.png"
       ]
      },
      {
       "output_type": "stream",
       "stream": "stdout",
       "text": [
        "\n",
        "D:\\Data\\output_charts_coherence_phase//COL16_ROW14_NFFT140_NLAP040.png"
       ]
      },
      {
       "output_type": "stream",
       "stream": "stdout",
       "text": [
        "\n",
        "D:\\Data\\output_charts_coherence_phase//COL16_ROW15_NFFT140_NLAP040.png"
       ]
      },
      {
       "output_type": "stream",
       "stream": "stdout",
       "text": [
        "\n",
        "D:\\Data\\output_charts_coherence_phase//COL16_ROW16_NFFT140_NLAP040.png"
       ]
      },
      {
       "output_type": "stream",
       "stream": "stdout",
       "text": [
        "\n",
        "D:\\Data\\output_charts_coherence_phase//COL16_ROW17_NFFT140_NLAP040.png"
       ]
      },
      {
       "output_type": "stream",
       "stream": "stdout",
       "text": [
        "\n",
        "D:\\Data\\output_charts_coherence_phase//COL16_ROW18_NFFT140_NLAP040.png"
       ]
      },
      {
       "output_type": "stream",
       "stream": "stdout",
       "text": [
        "\n",
        "D:\\Data\\output_charts_coherence_phase//COL16_ROW19_NFFT140_NLAP040.png"
       ]
      },
      {
       "output_type": "stream",
       "stream": "stdout",
       "text": [
        "\n",
        "D:\\Data\\output_charts_coherence_phase//COL16_ROW20_NFFT140_NLAP040.png"
       ]
      },
      {
       "output_type": "stream",
       "stream": "stdout",
       "text": [
        "\n",
        "D:\\Data\\output_charts_coherence_phase//COL16_ROW21_NFFT140_NLAP040.png"
       ]
      },
      {
       "output_type": "stream",
       "stream": "stdout",
       "text": [
        "\n",
        "D:\\Data\\output_charts_coherence_phase//COL16_ROW22_NFFT140_NLAP040.png"
       ]
      },
      {
       "output_type": "stream",
       "stream": "stdout",
       "text": [
        "\n",
        "D:\\Data\\output_charts_coherence_phase//COL16_ROW23_NFFT140_NLAP040.png"
       ]
      },
      {
       "output_type": "stream",
       "stream": "stdout",
       "text": [
        "\n",
        "D:\\Data\\output_charts_coherence_phase//COL16_ROW24_NFFT140_NLAP040.png"
       ]
      },
      {
       "output_type": "stream",
       "stream": "stdout",
       "text": [
        "\n",
        "D:\\Data\\output_charts_coherence_phase//COL16_ROW25_NFFT140_NLAP040.png"
       ]
      },
      {
       "output_type": "stream",
       "stream": "stdout",
       "text": [
        "\n",
        "D:\\Data\\output_charts_coherence_phase//COL16_ROW26_NFFT140_NLAP040.png"
       ]
      },
      {
       "output_type": "stream",
       "stream": "stdout",
       "text": [
        "\n",
        "D:\\Data\\output_charts_coherence_phase//COL16_ROW27_NFFT140_NLAP040.png"
       ]
      },
      {
       "output_type": "stream",
       "stream": "stdout",
       "text": [
        "\n",
        "D:\\Data\\output_charts_coherence_phase//COL16_ROW28_NFFT140_NLAP040.png"
       ]
      },
      {
       "output_type": "stream",
       "stream": "stdout",
       "text": [
        "\n",
        "D:\\Data\\output_charts_coherence_phase//COL16_ROW29_NFFT140_NLAP040.png"
       ]
      },
      {
       "output_type": "stream",
       "stream": "stdout",
       "text": [
        "\n",
        "D:\\Data\\output_charts_coherence_phase//COL16_ROW30_NFFT140_NLAP040.png"
       ]
      },
      {
       "output_type": "stream",
       "stream": "stdout",
       "text": [
        "\n",
        "D:\\Data\\output_charts_coherence_phase//COL16_ROW31_NFFT140_NLAP040.png"
       ]
      },
      {
       "output_type": "stream",
       "stream": "stdout",
       "text": [
        "\n",
        "D:\\Data\\output_charts_coherence_phase//COL16_ROW32_NFFT140_NLAP040.png"
       ]
      },
      {
       "output_type": "stream",
       "stream": "stdout",
       "text": [
        "\n",
        "D:\\Data\\output_charts_coherence_phase//COL16_ROW33_NFFT140_NLAP040.png"
       ]
      },
      {
       "output_type": "stream",
       "stream": "stdout",
       "text": [
        "\n",
        "D:\\Data\\output_charts_coherence_phase//COL16_ROW34_NFFT140_NLAP040.png"
       ]
      },
      {
       "output_type": "stream",
       "stream": "stdout",
       "text": [
        "\n",
        "D:\\Data\\output_charts_coherence_phase//COL16_ROW35_NFFT140_NLAP040.png"
       ]
      },
      {
       "output_type": "stream",
       "stream": "stdout",
       "text": [
        "\n",
        "D:\\Data\\output_charts_coherence_phase//COL16_ROW36_NFFT140_NLAP040.png"
       ]
      },
      {
       "output_type": "stream",
       "stream": "stdout",
       "text": [
        "\n",
        "D:\\Data\\output_charts_coherence_phase//COL17_ROW0_NFFT140_NLAP040.png"
       ]
      },
      {
       "output_type": "stream",
       "stream": "stdout",
       "text": [
        "\n",
        "D:\\Data\\output_charts_coherence_phase//COL17_ROW1_NFFT140_NLAP040.png"
       ]
      },
      {
       "output_type": "stream",
       "stream": "stdout",
       "text": [
        "\n",
        "D:\\Data\\output_charts_coherence_phase//COL17_ROW2_NFFT140_NLAP040.png"
       ]
      },
      {
       "output_type": "stream",
       "stream": "stdout",
       "text": [
        "\n",
        "D:\\Data\\output_charts_coherence_phase//COL17_ROW3_NFFT140_NLAP040.png"
       ]
      },
      {
       "output_type": "stream",
       "stream": "stdout",
       "text": [
        "\n",
        "D:\\Data\\output_charts_coherence_phase//COL17_ROW4_NFFT140_NLAP040.png"
       ]
      },
      {
       "output_type": "stream",
       "stream": "stdout",
       "text": [
        "\n",
        "D:\\Data\\output_charts_coherence_phase//COL17_ROW5_NFFT140_NLAP040.png"
       ]
      },
      {
       "output_type": "stream",
       "stream": "stdout",
       "text": [
        "\n",
        "D:\\Data\\output_charts_coherence_phase//COL17_ROW6_NFFT140_NLAP040.png"
       ]
      },
      {
       "output_type": "stream",
       "stream": "stdout",
       "text": [
        "\n",
        "D:\\Data\\output_charts_coherence_phase//COL17_ROW7_NFFT140_NLAP040.png"
       ]
      },
      {
       "output_type": "stream",
       "stream": "stdout",
       "text": [
        "\n",
        "D:\\Data\\output_charts_coherence_phase//COL17_ROW8_NFFT140_NLAP040.png"
       ]
      },
      {
       "output_type": "stream",
       "stream": "stdout",
       "text": [
        "\n",
        "D:\\Data\\output_charts_coherence_phase//COL17_ROW9_NFFT140_NLAP040.png"
       ]
      },
      {
       "output_type": "stream",
       "stream": "stdout",
       "text": [
        "\n",
        "D:\\Data\\output_charts_coherence_phase//COL17_ROW10_NFFT140_NLAP040.png"
       ]
      },
      {
       "output_type": "stream",
       "stream": "stdout",
       "text": [
        "\n",
        "D:\\Data\\output_charts_coherence_phase//COL17_ROW11_NFFT140_NLAP040.png"
       ]
      },
      {
       "output_type": "stream",
       "stream": "stdout",
       "text": [
        "\n",
        "D:\\Data\\output_charts_coherence_phase//COL17_ROW12_NFFT140_NLAP040.png"
       ]
      },
      {
       "output_type": "stream",
       "stream": "stdout",
       "text": [
        "\n",
        "D:\\Data\\output_charts_coherence_phase//COL17_ROW13_NFFT140_NLAP040.png"
       ]
      },
      {
       "output_type": "stream",
       "stream": "stdout",
       "text": [
        "\n",
        "D:\\Data\\output_charts_coherence_phase//COL17_ROW14_NFFT140_NLAP040.png"
       ]
      },
      {
       "output_type": "stream",
       "stream": "stdout",
       "text": [
        "\n",
        "D:\\Data\\output_charts_coherence_phase//COL17_ROW15_NFFT140_NLAP040.png"
       ]
      },
      {
       "output_type": "stream",
       "stream": "stdout",
       "text": [
        "\n",
        "D:\\Data\\output_charts_coherence_phase//COL17_ROW16_NFFT140_NLAP040.png"
       ]
      },
      {
       "output_type": "stream",
       "stream": "stdout",
       "text": [
        "\n",
        "D:\\Data\\output_charts_coherence_phase//COL17_ROW17_NFFT140_NLAP040.png"
       ]
      },
      {
       "output_type": "stream",
       "stream": "stdout",
       "text": [
        "\n",
        "D:\\Data\\output_charts_coherence_phase//COL17_ROW18_NFFT140_NLAP040.png"
       ]
      },
      {
       "output_type": "stream",
       "stream": "stdout",
       "text": [
        "\n",
        "D:\\Data\\output_charts_coherence_phase//COL17_ROW19_NFFT140_NLAP040.png"
       ]
      },
      {
       "output_type": "stream",
       "stream": "stdout",
       "text": [
        "\n",
        "D:\\Data\\output_charts_coherence_phase//COL17_ROW20_NFFT140_NLAP040.png"
       ]
      },
      {
       "output_type": "stream",
       "stream": "stdout",
       "text": [
        "\n",
        "D:\\Data\\output_charts_coherence_phase//COL17_ROW21_NFFT140_NLAP040.png"
       ]
      },
      {
       "output_type": "stream",
       "stream": "stdout",
       "text": [
        "\n",
        "D:\\Data\\output_charts_coherence_phase//COL17_ROW22_NFFT140_NLAP040.png"
       ]
      },
      {
       "output_type": "stream",
       "stream": "stdout",
       "text": [
        "\n",
        "D:\\Data\\output_charts_coherence_phase//COL17_ROW23_NFFT140_NLAP040.png"
       ]
      },
      {
       "output_type": "stream",
       "stream": "stdout",
       "text": [
        "\n",
        "D:\\Data\\output_charts_coherence_phase//COL17_ROW24_NFFT140_NLAP040.png"
       ]
      },
      {
       "output_type": "stream",
       "stream": "stdout",
       "text": [
        "\n",
        "D:\\Data\\output_charts_coherence_phase//COL17_ROW25_NFFT140_NLAP040.png"
       ]
      },
      {
       "output_type": "stream",
       "stream": "stdout",
       "text": [
        "\n",
        "D:\\Data\\output_charts_coherence_phase//COL17_ROW26_NFFT140_NLAP040.png"
       ]
      },
      {
       "output_type": "stream",
       "stream": "stdout",
       "text": [
        "\n",
        "D:\\Data\\output_charts_coherence_phase//COL17_ROW27_NFFT140_NLAP040.png"
       ]
      },
      {
       "output_type": "stream",
       "stream": "stdout",
       "text": [
        "\n",
        "D:\\Data\\output_charts_coherence_phase//COL17_ROW28_NFFT140_NLAP040.png"
       ]
      },
      {
       "output_type": "stream",
       "stream": "stdout",
       "text": [
        "\n",
        "D:\\Data\\output_charts_coherence_phase//COL17_ROW29_NFFT140_NLAP040.png"
       ]
      },
      {
       "output_type": "stream",
       "stream": "stdout",
       "text": [
        "\n",
        "D:\\Data\\output_charts_coherence_phase//COL17_ROW30_NFFT140_NLAP040.png"
       ]
      },
      {
       "output_type": "stream",
       "stream": "stdout",
       "text": [
        "\n",
        "D:\\Data\\output_charts_coherence_phase//COL17_ROW31_NFFT140_NLAP040.png"
       ]
      },
      {
       "output_type": "stream",
       "stream": "stdout",
       "text": [
        "\n",
        "D:\\Data\\output_charts_coherence_phase//COL17_ROW32_NFFT140_NLAP040.png"
       ]
      },
      {
       "output_type": "stream",
       "stream": "stdout",
       "text": [
        "\n",
        "D:\\Data\\output_charts_coherence_phase//COL17_ROW33_NFFT140_NLAP040.png"
       ]
      },
      {
       "output_type": "stream",
       "stream": "stdout",
       "text": [
        "\n",
        "D:\\Data\\output_charts_coherence_phase//COL17_ROW34_NFFT140_NLAP040.png"
       ]
      },
      {
       "output_type": "stream",
       "stream": "stdout",
       "text": [
        "\n",
        "D:\\Data\\output_charts_coherence_phase//COL17_ROW35_NFFT140_NLAP040.png"
       ]
      },
      {
       "output_type": "stream",
       "stream": "stdout",
       "text": [
        "\n",
        "D:\\Data\\output_charts_coherence_phase//COL17_ROW36_NFFT140_NLAP040.png"
       ]
      },
      {
       "output_type": "stream",
       "stream": "stdout",
       "text": [
        "\n",
        "D:\\Data\\output_charts_coherence_phase//COL18_ROW0_NFFT140_NLAP040.png"
       ]
      },
      {
       "output_type": "stream",
       "stream": "stdout",
       "text": [
        "\n",
        "D:\\Data\\output_charts_coherence_phase//COL18_ROW1_NFFT140_NLAP040.png"
       ]
      },
      {
       "output_type": "stream",
       "stream": "stdout",
       "text": [
        "\n",
        "D:\\Data\\output_charts_coherence_phase//COL18_ROW2_NFFT140_NLAP040.png"
       ]
      },
      {
       "output_type": "stream",
       "stream": "stdout",
       "text": [
        "\n",
        "D:\\Data\\output_charts_coherence_phase//COL18_ROW3_NFFT140_NLAP040.png"
       ]
      },
      {
       "output_type": "stream",
       "stream": "stdout",
       "text": [
        "\n",
        "D:\\Data\\output_charts_coherence_phase//COL18_ROW4_NFFT140_NLAP040.png"
       ]
      },
      {
       "output_type": "stream",
       "stream": "stdout",
       "text": [
        "\n",
        "D:\\Data\\output_charts_coherence_phase//COL18_ROW5_NFFT140_NLAP040.png"
       ]
      },
      {
       "output_type": "stream",
       "stream": "stdout",
       "text": [
        "\n",
        "D:\\Data\\output_charts_coherence_phase//COL18_ROW6_NFFT140_NLAP040.png"
       ]
      },
      {
       "output_type": "stream",
       "stream": "stdout",
       "text": [
        "\n",
        "D:\\Data\\output_charts_coherence_phase//COL18_ROW7_NFFT140_NLAP040.png"
       ]
      },
      {
       "output_type": "stream",
       "stream": "stdout",
       "text": [
        "\n",
        "D:\\Data\\output_charts_coherence_phase//COL18_ROW8_NFFT140_NLAP040.png"
       ]
      },
      {
       "output_type": "stream",
       "stream": "stdout",
       "text": [
        "\n",
        "D:\\Data\\output_charts_coherence_phase//COL18_ROW9_NFFT140_NLAP040.png"
       ]
      },
      {
       "output_type": "stream",
       "stream": "stdout",
       "text": [
        "\n",
        "D:\\Data\\output_charts_coherence_phase//COL18_ROW10_NFFT140_NLAP040.png"
       ]
      },
      {
       "output_type": "stream",
       "stream": "stdout",
       "text": [
        "\n",
        "D:\\Data\\output_charts_coherence_phase//COL18_ROW11_NFFT140_NLAP040.png"
       ]
      },
      {
       "output_type": "stream",
       "stream": "stdout",
       "text": [
        "\n",
        "D:\\Data\\output_charts_coherence_phase//COL18_ROW12_NFFT140_NLAP040.png"
       ]
      },
      {
       "output_type": "stream",
       "stream": "stdout",
       "text": [
        "\n",
        "D:\\Data\\output_charts_coherence_phase//COL18_ROW13_NFFT140_NLAP040.png"
       ]
      },
      {
       "output_type": "stream",
       "stream": "stdout",
       "text": [
        "\n",
        "D:\\Data\\output_charts_coherence_phase//COL18_ROW14_NFFT140_NLAP040.png"
       ]
      },
      {
       "output_type": "stream",
       "stream": "stdout",
       "text": [
        "\n",
        "D:\\Data\\output_charts_coherence_phase//COL18_ROW15_NFFT140_NLAP040.png"
       ]
      },
      {
       "output_type": "stream",
       "stream": "stdout",
       "text": [
        "\n",
        "D:\\Data\\output_charts_coherence_phase//COL18_ROW16_NFFT140_NLAP040.png"
       ]
      },
      {
       "output_type": "stream",
       "stream": "stdout",
       "text": [
        "\n",
        "D:\\Data\\output_charts_coherence_phase//COL18_ROW17_NFFT140_NLAP040.png"
       ]
      },
      {
       "output_type": "stream",
       "stream": "stdout",
       "text": [
        "\n",
        "D:\\Data\\output_charts_coherence_phase//COL18_ROW18_NFFT140_NLAP040.png"
       ]
      },
      {
       "output_type": "stream",
       "stream": "stdout",
       "text": [
        "\n",
        "D:\\Data\\output_charts_coherence_phase//COL18_ROW19_NFFT140_NLAP040.png"
       ]
      },
      {
       "output_type": "stream",
       "stream": "stdout",
       "text": [
        "\n",
        "D:\\Data\\output_charts_coherence_phase//COL18_ROW20_NFFT140_NLAP040.png"
       ]
      },
      {
       "output_type": "stream",
       "stream": "stdout",
       "text": [
        "\n",
        "D:\\Data\\output_charts_coherence_phase//COL18_ROW21_NFFT140_NLAP040.png"
       ]
      },
      {
       "output_type": "stream",
       "stream": "stdout",
       "text": [
        "\n",
        "D:\\Data\\output_charts_coherence_phase//COL18_ROW22_NFFT140_NLAP040.png"
       ]
      },
      {
       "output_type": "stream",
       "stream": "stdout",
       "text": [
        "\n",
        "D:\\Data\\output_charts_coherence_phase//COL18_ROW23_NFFT140_NLAP040.png"
       ]
      },
      {
       "output_type": "stream",
       "stream": "stdout",
       "text": [
        "\n",
        "D:\\Data\\output_charts_coherence_phase//COL18_ROW24_NFFT140_NLAP040.png"
       ]
      },
      {
       "output_type": "stream",
       "stream": "stdout",
       "text": [
        "\n",
        "D:\\Data\\output_charts_coherence_phase//COL18_ROW25_NFFT140_NLAP040.png"
       ]
      },
      {
       "output_type": "stream",
       "stream": "stdout",
       "text": [
        "\n",
        "D:\\Data\\output_charts_coherence_phase//COL18_ROW26_NFFT140_NLAP040.png"
       ]
      },
      {
       "output_type": "stream",
       "stream": "stdout",
       "text": [
        "\n",
        "D:\\Data\\output_charts_coherence_phase//COL18_ROW27_NFFT140_NLAP040.png"
       ]
      },
      {
       "output_type": "stream",
       "stream": "stdout",
       "text": [
        "\n",
        "D:\\Data\\output_charts_coherence_phase//COL18_ROW28_NFFT140_NLAP040.png"
       ]
      },
      {
       "output_type": "stream",
       "stream": "stdout",
       "text": [
        "\n",
        "D:\\Data\\output_charts_coherence_phase//COL18_ROW29_NFFT140_NLAP040.png"
       ]
      },
      {
       "output_type": "stream",
       "stream": "stdout",
       "text": [
        "\n",
        "D:\\Data\\output_charts_coherence_phase//COL18_ROW30_NFFT140_NLAP040.png"
       ]
      },
      {
       "output_type": "stream",
       "stream": "stdout",
       "text": [
        "\n",
        "D:\\Data\\output_charts_coherence_phase//COL18_ROW31_NFFT140_NLAP040.png"
       ]
      },
      {
       "output_type": "stream",
       "stream": "stdout",
       "text": [
        "\n",
        "D:\\Data\\output_charts_coherence_phase//COL18_ROW32_NFFT140_NLAP040.png"
       ]
      },
      {
       "output_type": "stream",
       "stream": "stdout",
       "text": [
        "\n",
        "D:\\Data\\output_charts_coherence_phase//COL18_ROW33_NFFT140_NLAP040.png"
       ]
      },
      {
       "output_type": "stream",
       "stream": "stdout",
       "text": [
        "\n",
        "D:\\Data\\output_charts_coherence_phase//COL18_ROW34_NFFT140_NLAP040.png"
       ]
      },
      {
       "output_type": "stream",
       "stream": "stdout",
       "text": [
        "\n",
        "D:\\Data\\output_charts_coherence_phase//COL18_ROW35_NFFT140_NLAP040.png"
       ]
      },
      {
       "output_type": "stream",
       "stream": "stdout",
       "text": [
        "\n",
        "D:\\Data\\output_charts_coherence_phase//COL18_ROW36_NFFT140_NLAP040.png"
       ]
      },
      {
       "output_type": "stream",
       "stream": "stdout",
       "text": [
        "\n",
        "D:\\Data\\output_charts_coherence_phase//COL19_ROW0_NFFT140_NLAP040.png"
       ]
      },
      {
       "output_type": "stream",
       "stream": "stdout",
       "text": [
        "\n",
        "D:\\Data\\output_charts_coherence_phase//COL19_ROW1_NFFT140_NLAP040.png"
       ]
      },
      {
       "output_type": "stream",
       "stream": "stdout",
       "text": [
        "\n",
        "D:\\Data\\output_charts_coherence_phase//COL19_ROW2_NFFT140_NLAP040.png"
       ]
      },
      {
       "output_type": "stream",
       "stream": "stdout",
       "text": [
        "\n",
        "D:\\Data\\output_charts_coherence_phase//COL19_ROW3_NFFT140_NLAP040.png"
       ]
      },
      {
       "output_type": "stream",
       "stream": "stdout",
       "text": [
        "\n",
        "D:\\Data\\output_charts_coherence_phase//COL19_ROW4_NFFT140_NLAP040.png"
       ]
      },
      {
       "output_type": "stream",
       "stream": "stdout",
       "text": [
        "\n",
        "D:\\Data\\output_charts_coherence_phase//COL19_ROW5_NFFT140_NLAP040.png"
       ]
      },
      {
       "output_type": "stream",
       "stream": "stdout",
       "text": [
        "\n",
        "D:\\Data\\output_charts_coherence_phase//COL19_ROW6_NFFT140_NLAP040.png"
       ]
      },
      {
       "output_type": "stream",
       "stream": "stdout",
       "text": [
        "\n",
        "D:\\Data\\output_charts_coherence_phase//COL19_ROW7_NFFT140_NLAP040.png"
       ]
      },
      {
       "output_type": "stream",
       "stream": "stdout",
       "text": [
        "\n",
        "D:\\Data\\output_charts_coherence_phase//COL19_ROW8_NFFT140_NLAP040.png"
       ]
      },
      {
       "output_type": "stream",
       "stream": "stdout",
       "text": [
        "\n",
        "D:\\Data\\output_charts_coherence_phase//COL19_ROW9_NFFT140_NLAP040.png"
       ]
      },
      {
       "output_type": "stream",
       "stream": "stdout",
       "text": [
        "\n",
        "D:\\Data\\output_charts_coherence_phase//COL19_ROW10_NFFT140_NLAP040.png"
       ]
      },
      {
       "output_type": "stream",
       "stream": "stdout",
       "text": [
        "\n",
        "D:\\Data\\output_charts_coherence_phase//COL19_ROW11_NFFT140_NLAP040.png"
       ]
      },
      {
       "output_type": "stream",
       "stream": "stdout",
       "text": [
        "\n",
        "D:\\Data\\output_charts_coherence_phase//COL19_ROW12_NFFT140_NLAP040.png"
       ]
      },
      {
       "output_type": "stream",
       "stream": "stdout",
       "text": [
        "\n",
        "D:\\Data\\output_charts_coherence_phase//COL19_ROW13_NFFT140_NLAP040.png"
       ]
      },
      {
       "output_type": "stream",
       "stream": "stdout",
       "text": [
        "\n",
        "D:\\Data\\output_charts_coherence_phase//COL19_ROW14_NFFT140_NLAP040.png"
       ]
      },
      {
       "output_type": "stream",
       "stream": "stdout",
       "text": [
        "\n",
        "D:\\Data\\output_charts_coherence_phase//COL19_ROW15_NFFT140_NLAP040.png"
       ]
      },
      {
       "output_type": "stream",
       "stream": "stdout",
       "text": [
        "\n",
        "D:\\Data\\output_charts_coherence_phase//COL19_ROW16_NFFT140_NLAP040.png"
       ]
      },
      {
       "output_type": "stream",
       "stream": "stdout",
       "text": [
        "\n",
        "D:\\Data\\output_charts_coherence_phase//COL19_ROW17_NFFT140_NLAP040.png"
       ]
      },
      {
       "output_type": "stream",
       "stream": "stdout",
       "text": [
        "\n",
        "D:\\Data\\output_charts_coherence_phase//COL19_ROW18_NFFT140_NLAP040.png"
       ]
      },
      {
       "output_type": "stream",
       "stream": "stdout",
       "text": [
        "\n",
        "D:\\Data\\output_charts_coherence_phase//COL19_ROW19_NFFT140_NLAP040.png"
       ]
      },
      {
       "output_type": "stream",
       "stream": "stdout",
       "text": [
        "\n",
        "D:\\Data\\output_charts_coherence_phase//COL19_ROW20_NFFT140_NLAP040.png"
       ]
      },
      {
       "output_type": "stream",
       "stream": "stdout",
       "text": [
        "\n",
        "D:\\Data\\output_charts_coherence_phase//COL19_ROW21_NFFT140_NLAP040.png"
       ]
      },
      {
       "output_type": "stream",
       "stream": "stdout",
       "text": [
        "\n",
        "D:\\Data\\output_charts_coherence_phase//COL19_ROW22_NFFT140_NLAP040.png"
       ]
      },
      {
       "output_type": "stream",
       "stream": "stdout",
       "text": [
        "\n",
        "D:\\Data\\output_charts_coherence_phase//COL19_ROW23_NFFT140_NLAP040.png"
       ]
      },
      {
       "output_type": "stream",
       "stream": "stdout",
       "text": [
        "\n",
        "D:\\Data\\output_charts_coherence_phase//COL19_ROW24_NFFT140_NLAP040.png"
       ]
      },
      {
       "output_type": "stream",
       "stream": "stdout",
       "text": [
        "\n",
        "D:\\Data\\output_charts_coherence_phase//COL19_ROW25_NFFT140_NLAP040.png"
       ]
      },
      {
       "output_type": "stream",
       "stream": "stdout",
       "text": [
        "\n",
        "D:\\Data\\output_charts_coherence_phase//COL19_ROW26_NFFT140_NLAP040.png"
       ]
      },
      {
       "output_type": "stream",
       "stream": "stdout",
       "text": [
        "\n",
        "D:\\Data\\output_charts_coherence_phase//COL19_ROW27_NFFT140_NLAP040.png"
       ]
      },
      {
       "output_type": "stream",
       "stream": "stdout",
       "text": [
        "\n",
        "D:\\Data\\output_charts_coherence_phase//COL19_ROW28_NFFT140_NLAP040.png"
       ]
      },
      {
       "output_type": "stream",
       "stream": "stdout",
       "text": [
        "\n",
        "D:\\Data\\output_charts_coherence_phase//COL19_ROW29_NFFT140_NLAP040.png"
       ]
      },
      {
       "output_type": "stream",
       "stream": "stdout",
       "text": [
        "\n",
        "D:\\Data\\output_charts_coherence_phase//COL19_ROW30_NFFT140_NLAP040.png"
       ]
      },
      {
       "output_type": "stream",
       "stream": "stdout",
       "text": [
        "\n",
        "D:\\Data\\output_charts_coherence_phase//COL19_ROW31_NFFT140_NLAP040.png"
       ]
      },
      {
       "output_type": "stream",
       "stream": "stdout",
       "text": [
        "\n",
        "D:\\Data\\output_charts_coherence_phase//COL19_ROW32_NFFT140_NLAP040.png"
       ]
      },
      {
       "output_type": "stream",
       "stream": "stdout",
       "text": [
        "\n",
        "D:\\Data\\output_charts_coherence_phase//COL19_ROW33_NFFT140_NLAP040.png"
       ]
      },
      {
       "output_type": "stream",
       "stream": "stdout",
       "text": [
        "\n",
        "D:\\Data\\output_charts_coherence_phase//COL19_ROW34_NFFT140_NLAP040.png"
       ]
      },
      {
       "output_type": "stream",
       "stream": "stdout",
       "text": [
        "\n",
        "D:\\Data\\output_charts_coherence_phase//COL19_ROW35_NFFT140_NLAP040.png"
       ]
      },
      {
       "output_type": "stream",
       "stream": "stdout",
       "text": [
        "\n",
        "D:\\Data\\output_charts_coherence_phase//COL19_ROW36_NFFT140_NLAP040.png"
       ]
      },
      {
       "output_type": "stream",
       "stream": "stdout",
       "text": [
        "\n",
        "D:\\Data\\output_charts_coherence_phase//COL20_ROW0_NFFT140_NLAP040.png"
       ]
      },
      {
       "output_type": "stream",
       "stream": "stdout",
       "text": [
        "\n",
        "D:\\Data\\output_charts_coherence_phase//COL20_ROW1_NFFT140_NLAP040.png"
       ]
      },
      {
       "output_type": "stream",
       "stream": "stdout",
       "text": [
        "\n",
        "D:\\Data\\output_charts_coherence_phase//COL20_ROW2_NFFT140_NLAP040.png"
       ]
      },
      {
       "output_type": "stream",
       "stream": "stdout",
       "text": [
        "\n",
        "D:\\Data\\output_charts_coherence_phase//COL20_ROW3_NFFT140_NLAP040.png"
       ]
      },
      {
       "output_type": "stream",
       "stream": "stdout",
       "text": [
        "\n",
        "D:\\Data\\output_charts_coherence_phase//COL20_ROW4_NFFT140_NLAP040.png"
       ]
      },
      {
       "output_type": "stream",
       "stream": "stdout",
       "text": [
        "\n",
        "D:\\Data\\output_charts_coherence_phase//COL20_ROW5_NFFT140_NLAP040.png"
       ]
      },
      {
       "output_type": "stream",
       "stream": "stdout",
       "text": [
        "\n",
        "D:\\Data\\output_charts_coherence_phase//COL20_ROW6_NFFT140_NLAP040.png"
       ]
      },
      {
       "output_type": "stream",
       "stream": "stdout",
       "text": [
        "\n",
        "D:\\Data\\output_charts_coherence_phase//COL20_ROW7_NFFT140_NLAP040.png"
       ]
      },
      {
       "output_type": "stream",
       "stream": "stdout",
       "text": [
        "\n",
        "D:\\Data\\output_charts_coherence_phase//COL20_ROW8_NFFT140_NLAP040.png"
       ]
      },
      {
       "output_type": "stream",
       "stream": "stdout",
       "text": [
        "\n",
        "D:\\Data\\output_charts_coherence_phase//COL20_ROW9_NFFT140_NLAP040.png"
       ]
      },
      {
       "output_type": "stream",
       "stream": "stdout",
       "text": [
        "\n",
        "D:\\Data\\output_charts_coherence_phase//COL20_ROW10_NFFT140_NLAP040.png"
       ]
      },
      {
       "output_type": "stream",
       "stream": "stdout",
       "text": [
        "\n",
        "D:\\Data\\output_charts_coherence_phase//COL20_ROW11_NFFT140_NLAP040.png"
       ]
      },
      {
       "output_type": "stream",
       "stream": "stdout",
       "text": [
        "\n",
        "D:\\Data\\output_charts_coherence_phase//COL20_ROW12_NFFT140_NLAP040.png"
       ]
      },
      {
       "output_type": "stream",
       "stream": "stdout",
       "text": [
        "\n",
        "D:\\Data\\output_charts_coherence_phase//COL20_ROW13_NFFT140_NLAP040.png"
       ]
      },
      {
       "output_type": "stream",
       "stream": "stdout",
       "text": [
        "\n",
        "D:\\Data\\output_charts_coherence_phase//COL20_ROW14_NFFT140_NLAP040.png"
       ]
      },
      {
       "output_type": "stream",
       "stream": "stdout",
       "text": [
        "\n",
        "D:\\Data\\output_charts_coherence_phase//COL20_ROW15_NFFT140_NLAP040.png"
       ]
      },
      {
       "output_type": "stream",
       "stream": "stdout",
       "text": [
        "\n",
        "D:\\Data\\output_charts_coherence_phase//COL20_ROW16_NFFT140_NLAP040.png"
       ]
      },
      {
       "output_type": "stream",
       "stream": "stdout",
       "text": [
        "\n",
        "D:\\Data\\output_charts_coherence_phase//COL20_ROW17_NFFT140_NLAP040.png"
       ]
      },
      {
       "output_type": "stream",
       "stream": "stdout",
       "text": [
        "\n",
        "D:\\Data\\output_charts_coherence_phase//COL20_ROW18_NFFT140_NLAP040.png"
       ]
      },
      {
       "output_type": "stream",
       "stream": "stdout",
       "text": [
        "\n",
        "D:\\Data\\output_charts_coherence_phase//COL20_ROW19_NFFT140_NLAP040.png"
       ]
      },
      {
       "output_type": "stream",
       "stream": "stdout",
       "text": [
        "\n",
        "D:\\Data\\output_charts_coherence_phase//COL20_ROW20_NFFT140_NLAP040.png"
       ]
      },
      {
       "output_type": "stream",
       "stream": "stdout",
       "text": [
        "\n",
        "D:\\Data\\output_charts_coherence_phase//COL20_ROW21_NFFT140_NLAP040.png"
       ]
      },
      {
       "output_type": "stream",
       "stream": "stdout",
       "text": [
        "\n",
        "D:\\Data\\output_charts_coherence_phase//COL20_ROW22_NFFT140_NLAP040.png"
       ]
      },
      {
       "output_type": "stream",
       "stream": "stdout",
       "text": [
        "\n",
        "D:\\Data\\output_charts_coherence_phase//COL20_ROW23_NFFT140_NLAP040.png"
       ]
      },
      {
       "output_type": "stream",
       "stream": "stdout",
       "text": [
        "\n",
        "D:\\Data\\output_charts_coherence_phase//COL20_ROW24_NFFT140_NLAP040.png"
       ]
      },
      {
       "output_type": "stream",
       "stream": "stdout",
       "text": [
        "\n",
        "D:\\Data\\output_charts_coherence_phase//COL20_ROW25_NFFT140_NLAP040.png"
       ]
      },
      {
       "output_type": "stream",
       "stream": "stdout",
       "text": [
        "\n",
        "D:\\Data\\output_charts_coherence_phase//COL20_ROW26_NFFT140_NLAP040.png"
       ]
      },
      {
       "output_type": "stream",
       "stream": "stdout",
       "text": [
        "\n",
        "D:\\Data\\output_charts_coherence_phase//COL20_ROW27_NFFT140_NLAP040.png"
       ]
      },
      {
       "output_type": "stream",
       "stream": "stdout",
       "text": [
        "\n",
        "D:\\Data\\output_charts_coherence_phase//COL20_ROW28_NFFT140_NLAP040.png"
       ]
      },
      {
       "output_type": "stream",
       "stream": "stdout",
       "text": [
        "\n",
        "D:\\Data\\output_charts_coherence_phase//COL20_ROW29_NFFT140_NLAP040.png"
       ]
      },
      {
       "output_type": "stream",
       "stream": "stdout",
       "text": [
        "\n",
        "D:\\Data\\output_charts_coherence_phase//COL20_ROW30_NFFT140_NLAP040.png"
       ]
      },
      {
       "output_type": "stream",
       "stream": "stdout",
       "text": [
        "\n",
        "D:\\Data\\output_charts_coherence_phase//COL20_ROW31_NFFT140_NLAP040.png"
       ]
      },
      {
       "output_type": "stream",
       "stream": "stdout",
       "text": [
        "\n",
        "D:\\Data\\output_charts_coherence_phase//COL20_ROW32_NFFT140_NLAP040.png"
       ]
      },
      {
       "output_type": "stream",
       "stream": "stdout",
       "text": [
        "\n",
        "D:\\Data\\output_charts_coherence_phase//COL20_ROW33_NFFT140_NLAP040.png"
       ]
      },
      {
       "output_type": "stream",
       "stream": "stdout",
       "text": [
        "\n",
        "D:\\Data\\output_charts_coherence_phase//COL20_ROW34_NFFT140_NLAP040.png"
       ]
      },
      {
       "output_type": "stream",
       "stream": "stdout",
       "text": [
        "\n",
        "D:\\Data\\output_charts_coherence_phase//COL20_ROW35_NFFT140_NLAP040.png"
       ]
      },
      {
       "output_type": "stream",
       "stream": "stdout",
       "text": [
        "\n",
        "D:\\Data\\output_charts_coherence_phase//COL20_ROW36_NFFT140_NLAP040.png"
       ]
      },
      {
       "output_type": "stream",
       "stream": "stdout",
       "text": [
        "\n",
        "D:\\Data\\output_charts_coherence_phase//COL21_ROW0_NFFT140_NLAP040.png"
       ]
      },
      {
       "output_type": "stream",
       "stream": "stdout",
       "text": [
        "\n",
        "D:\\Data\\output_charts_coherence_phase//COL21_ROW1_NFFT140_NLAP040.png"
       ]
      },
      {
       "output_type": "stream",
       "stream": "stdout",
       "text": [
        "\n",
        "D:\\Data\\output_charts_coherence_phase//COL21_ROW2_NFFT140_NLAP040.png"
       ]
      },
      {
       "output_type": "stream",
       "stream": "stdout",
       "text": [
        "\n",
        "D:\\Data\\output_charts_coherence_phase//COL21_ROW3_NFFT140_NLAP040.png"
       ]
      },
      {
       "output_type": "stream",
       "stream": "stdout",
       "text": [
        "\n",
        "D:\\Data\\output_charts_coherence_phase//COL21_ROW4_NFFT140_NLAP040.png"
       ]
      },
      {
       "output_type": "stream",
       "stream": "stdout",
       "text": [
        "\n",
        "D:\\Data\\output_charts_coherence_phase//COL21_ROW5_NFFT140_NLAP040.png"
       ]
      },
      {
       "output_type": "stream",
       "stream": "stdout",
       "text": [
        "\n",
        "D:\\Data\\output_charts_coherence_phase//COL21_ROW6_NFFT140_NLAP040.png"
       ]
      },
      {
       "output_type": "stream",
       "stream": "stdout",
       "text": [
        "\n",
        "D:\\Data\\output_charts_coherence_phase//COL21_ROW7_NFFT140_NLAP040.png"
       ]
      },
      {
       "output_type": "stream",
       "stream": "stdout",
       "text": [
        "\n",
        "D:\\Data\\output_charts_coherence_phase//COL21_ROW8_NFFT140_NLAP040.png"
       ]
      },
      {
       "output_type": "stream",
       "stream": "stdout",
       "text": [
        "\n",
        "D:\\Data\\output_charts_coherence_phase//COL21_ROW9_NFFT140_NLAP040.png"
       ]
      },
      {
       "output_type": "stream",
       "stream": "stdout",
       "text": [
        "\n",
        "D:\\Data\\output_charts_coherence_phase//COL21_ROW10_NFFT140_NLAP040.png"
       ]
      },
      {
       "output_type": "stream",
       "stream": "stdout",
       "text": [
        "\n",
        "D:\\Data\\output_charts_coherence_phase//COL21_ROW11_NFFT140_NLAP040.png"
       ]
      },
      {
       "output_type": "stream",
       "stream": "stdout",
       "text": [
        "\n",
        "D:\\Data\\output_charts_coherence_phase//COL21_ROW12_NFFT140_NLAP040.png"
       ]
      },
      {
       "output_type": "stream",
       "stream": "stdout",
       "text": [
        "\n",
        "D:\\Data\\output_charts_coherence_phase//COL21_ROW13_NFFT140_NLAP040.png"
       ]
      },
      {
       "output_type": "stream",
       "stream": "stdout",
       "text": [
        "\n",
        "D:\\Data\\output_charts_coherence_phase//COL21_ROW14_NFFT140_NLAP040.png"
       ]
      },
      {
       "output_type": "stream",
       "stream": "stdout",
       "text": [
        "\n",
        "D:\\Data\\output_charts_coherence_phase//COL21_ROW15_NFFT140_NLAP040.png"
       ]
      },
      {
       "output_type": "stream",
       "stream": "stdout",
       "text": [
        "\n",
        "D:\\Data\\output_charts_coherence_phase//COL21_ROW16_NFFT140_NLAP040.png"
       ]
      },
      {
       "output_type": "stream",
       "stream": "stdout",
       "text": [
        "\n",
        "D:\\Data\\output_charts_coherence_phase//COL21_ROW17_NFFT140_NLAP040.png"
       ]
      },
      {
       "output_type": "stream",
       "stream": "stdout",
       "text": [
        "\n",
        "D:\\Data\\output_charts_coherence_phase//COL21_ROW18_NFFT140_NLAP040.png"
       ]
      },
      {
       "output_type": "stream",
       "stream": "stdout",
       "text": [
        "\n",
        "D:\\Data\\output_charts_coherence_phase//COL21_ROW19_NFFT140_NLAP040.png"
       ]
      },
      {
       "output_type": "stream",
       "stream": "stdout",
       "text": [
        "\n",
        "D:\\Data\\output_charts_coherence_phase//COL21_ROW20_NFFT140_NLAP040.png"
       ]
      },
      {
       "output_type": "stream",
       "stream": "stdout",
       "text": [
        "\n",
        "D:\\Data\\output_charts_coherence_phase//COL21_ROW21_NFFT140_NLAP040.png"
       ]
      },
      {
       "output_type": "stream",
       "stream": "stdout",
       "text": [
        "\n",
        "D:\\Data\\output_charts_coherence_phase//COL21_ROW22_NFFT140_NLAP040.png"
       ]
      },
      {
       "output_type": "stream",
       "stream": "stdout",
       "text": [
        "\n",
        "D:\\Data\\output_charts_coherence_phase//COL21_ROW23_NFFT140_NLAP040.png"
       ]
      },
      {
       "output_type": "stream",
       "stream": "stdout",
       "text": [
        "\n",
        "D:\\Data\\output_charts_coherence_phase//COL21_ROW24_NFFT140_NLAP040.png"
       ]
      },
      {
       "output_type": "stream",
       "stream": "stdout",
       "text": [
        "\n",
        "D:\\Data\\output_charts_coherence_phase//COL21_ROW25_NFFT140_NLAP040.png"
       ]
      },
      {
       "output_type": "stream",
       "stream": "stdout",
       "text": [
        "\n",
        "D:\\Data\\output_charts_coherence_phase//COL21_ROW26_NFFT140_NLAP040.png"
       ]
      },
      {
       "output_type": "stream",
       "stream": "stdout",
       "text": [
        "\n",
        "D:\\Data\\output_charts_coherence_phase//COL21_ROW27_NFFT140_NLAP040.png"
       ]
      },
      {
       "output_type": "stream",
       "stream": "stdout",
       "text": [
        "\n",
        "D:\\Data\\output_charts_coherence_phase//COL21_ROW28_NFFT140_NLAP040.png"
       ]
      },
      {
       "output_type": "stream",
       "stream": "stdout",
       "text": [
        "\n",
        "D:\\Data\\output_charts_coherence_phase//COL21_ROW29_NFFT140_NLAP040.png"
       ]
      },
      {
       "output_type": "stream",
       "stream": "stdout",
       "text": [
        "\n",
        "D:\\Data\\output_charts_coherence_phase//COL21_ROW30_NFFT140_NLAP040.png"
       ]
      },
      {
       "output_type": "stream",
       "stream": "stdout",
       "text": [
        "\n",
        "D:\\Data\\output_charts_coherence_phase//COL21_ROW31_NFFT140_NLAP040.png"
       ]
      },
      {
       "output_type": "stream",
       "stream": "stdout",
       "text": [
        "\n",
        "D:\\Data\\output_charts_coherence_phase//COL21_ROW32_NFFT140_NLAP040.png"
       ]
      },
      {
       "output_type": "stream",
       "stream": "stdout",
       "text": [
        "\n",
        "D:\\Data\\output_charts_coherence_phase//COL21_ROW33_NFFT140_NLAP040.png"
       ]
      },
      {
       "output_type": "stream",
       "stream": "stdout",
       "text": [
        "\n",
        "D:\\Data\\output_charts_coherence_phase//COL21_ROW34_NFFT140_NLAP040.png"
       ]
      },
      {
       "output_type": "stream",
       "stream": "stdout",
       "text": [
        "\n",
        "D:\\Data\\output_charts_coherence_phase//COL21_ROW35_NFFT140_NLAP040.png"
       ]
      },
      {
       "output_type": "stream",
       "stream": "stdout",
       "text": [
        "\n",
        "D:\\Data\\output_charts_coherence_phase//COL21_ROW36_NFFT140_NLAP040.png"
       ]
      },
      {
       "output_type": "stream",
       "stream": "stdout",
       "text": [
        "\n",
        "D:\\Data\\output_charts_coherence_phase//COL22_ROW0_NFFT140_NLAP040.png"
       ]
      },
      {
       "output_type": "stream",
       "stream": "stdout",
       "text": [
        "\n",
        "D:\\Data\\output_charts_coherence_phase//COL22_ROW1_NFFT140_NLAP040.png"
       ]
      },
      {
       "output_type": "stream",
       "stream": "stdout",
       "text": [
        "\n",
        "D:\\Data\\output_charts_coherence_phase//COL22_ROW2_NFFT140_NLAP040.png"
       ]
      },
      {
       "output_type": "stream",
       "stream": "stdout",
       "text": [
        "\n",
        "D:\\Data\\output_charts_coherence_phase//COL22_ROW3_NFFT140_NLAP040.png"
       ]
      },
      {
       "output_type": "stream",
       "stream": "stdout",
       "text": [
        "\n",
        "D:\\Data\\output_charts_coherence_phase//COL22_ROW4_NFFT140_NLAP040.png"
       ]
      },
      {
       "output_type": "stream",
       "stream": "stdout",
       "text": [
        "\n",
        "D:\\Data\\output_charts_coherence_phase//COL22_ROW5_NFFT140_NLAP040.png"
       ]
      },
      {
       "output_type": "stream",
       "stream": "stdout",
       "text": [
        "\n",
        "D:\\Data\\output_charts_coherence_phase//COL22_ROW6_NFFT140_NLAP040.png"
       ]
      },
      {
       "output_type": "stream",
       "stream": "stdout",
       "text": [
        "\n",
        "D:\\Data\\output_charts_coherence_phase//COL22_ROW7_NFFT140_NLAP040.png"
       ]
      },
      {
       "output_type": "stream",
       "stream": "stdout",
       "text": [
        "\n",
        "D:\\Data\\output_charts_coherence_phase//COL22_ROW8_NFFT140_NLAP040.png"
       ]
      },
      {
       "output_type": "stream",
       "stream": "stdout",
       "text": [
        "\n",
        "D:\\Data\\output_charts_coherence_phase//COL22_ROW9_NFFT140_NLAP040.png"
       ]
      },
      {
       "output_type": "stream",
       "stream": "stdout",
       "text": [
        "\n",
        "D:\\Data\\output_charts_coherence_phase//COL22_ROW10_NFFT140_NLAP040.png"
       ]
      },
      {
       "output_type": "stream",
       "stream": "stdout",
       "text": [
        "\n",
        "D:\\Data\\output_charts_coherence_phase//COL22_ROW11_NFFT140_NLAP040.png"
       ]
      },
      {
       "output_type": "stream",
       "stream": "stdout",
       "text": [
        "\n",
        "D:\\Data\\output_charts_coherence_phase//COL22_ROW12_NFFT140_NLAP040.png"
       ]
      },
      {
       "output_type": "stream",
       "stream": "stdout",
       "text": [
        "\n",
        "D:\\Data\\output_charts_coherence_phase//COL22_ROW13_NFFT140_NLAP040.png"
       ]
      },
      {
       "output_type": "stream",
       "stream": "stdout",
       "text": [
        "\n",
        "D:\\Data\\output_charts_coherence_phase//COL22_ROW14_NFFT140_NLAP040.png"
       ]
      },
      {
       "output_type": "stream",
       "stream": "stdout",
       "text": [
        "\n",
        "D:\\Data\\output_charts_coherence_phase//COL22_ROW15_NFFT140_NLAP040.png"
       ]
      },
      {
       "output_type": "stream",
       "stream": "stdout",
       "text": [
        "\n",
        "D:\\Data\\output_charts_coherence_phase//COL22_ROW16_NFFT140_NLAP040.png"
       ]
      },
      {
       "output_type": "stream",
       "stream": "stdout",
       "text": [
        "\n",
        "D:\\Data\\output_charts_coherence_phase//COL22_ROW17_NFFT140_NLAP040.png"
       ]
      },
      {
       "output_type": "stream",
       "stream": "stdout",
       "text": [
        "\n",
        "D:\\Data\\output_charts_coherence_phase//COL22_ROW18_NFFT140_NLAP040.png"
       ]
      },
      {
       "output_type": "stream",
       "stream": "stdout",
       "text": [
        "\n",
        "D:\\Data\\output_charts_coherence_phase//COL22_ROW19_NFFT140_NLAP040.png"
       ]
      },
      {
       "output_type": "stream",
       "stream": "stdout",
       "text": [
        "\n",
        "D:\\Data\\output_charts_coherence_phase//COL22_ROW20_NFFT140_NLAP040.png"
       ]
      },
      {
       "output_type": "stream",
       "stream": "stdout",
       "text": [
        "\n",
        "D:\\Data\\output_charts_coherence_phase//COL22_ROW21_NFFT140_NLAP040.png"
       ]
      },
      {
       "output_type": "stream",
       "stream": "stdout",
       "text": [
        "\n",
        "D:\\Data\\output_charts_coherence_phase//COL22_ROW22_NFFT140_NLAP040.png"
       ]
      },
      {
       "output_type": "stream",
       "stream": "stdout",
       "text": [
        "\n",
        "D:\\Data\\output_charts_coherence_phase//COL22_ROW23_NFFT140_NLAP040.png"
       ]
      },
      {
       "output_type": "stream",
       "stream": "stdout",
       "text": [
        "\n",
        "D:\\Data\\output_charts_coherence_phase//COL22_ROW24_NFFT140_NLAP040.png"
       ]
      },
      {
       "output_type": "stream",
       "stream": "stdout",
       "text": [
        "\n",
        "D:\\Data\\output_charts_coherence_phase//COL22_ROW25_NFFT140_NLAP040.png"
       ]
      },
      {
       "output_type": "stream",
       "stream": "stdout",
       "text": [
        "\n",
        "D:\\Data\\output_charts_coherence_phase//COL22_ROW26_NFFT140_NLAP040.png"
       ]
      },
      {
       "output_type": "stream",
       "stream": "stdout",
       "text": [
        "\n",
        "D:\\Data\\output_charts_coherence_phase//COL22_ROW27_NFFT140_NLAP040.png"
       ]
      },
      {
       "output_type": "stream",
       "stream": "stdout",
       "text": [
        "\n",
        "D:\\Data\\output_charts_coherence_phase//COL22_ROW28_NFFT140_NLAP040.png"
       ]
      },
      {
       "output_type": "stream",
       "stream": "stdout",
       "text": [
        "\n",
        "D:\\Data\\output_charts_coherence_phase//COL22_ROW29_NFFT140_NLAP040.png"
       ]
      },
      {
       "output_type": "stream",
       "stream": "stdout",
       "text": [
        "\n",
        "D:\\Data\\output_charts_coherence_phase//COL22_ROW30_NFFT140_NLAP040.png"
       ]
      },
      {
       "output_type": "stream",
       "stream": "stdout",
       "text": [
        "\n",
        "D:\\Data\\output_charts_coherence_phase//COL22_ROW31_NFFT140_NLAP040.png"
       ]
      },
      {
       "output_type": "stream",
       "stream": "stdout",
       "text": [
        "\n",
        "D:\\Data\\output_charts_coherence_phase//COL22_ROW32_NFFT140_NLAP040.png"
       ]
      },
      {
       "output_type": "stream",
       "stream": "stdout",
       "text": [
        "\n",
        "D:\\Data\\output_charts_coherence_phase//COL22_ROW33_NFFT140_NLAP040.png"
       ]
      },
      {
       "output_type": "stream",
       "stream": "stdout",
       "text": [
        "\n",
        "D:\\Data\\output_charts_coherence_phase//COL22_ROW34_NFFT140_NLAP040.png"
       ]
      },
      {
       "output_type": "stream",
       "stream": "stdout",
       "text": [
        "\n",
        "D:\\Data\\output_charts_coherence_phase//COL22_ROW35_NFFT140_NLAP040.png"
       ]
      },
      {
       "output_type": "stream",
       "stream": "stdout",
       "text": [
        "\n",
        "D:\\Data\\output_charts_coherence_phase//COL22_ROW36_NFFT140_NLAP040.png"
       ]
      },
      {
       "output_type": "stream",
       "stream": "stdout",
       "text": [
        "\n",
        "D:\\Data\\output_charts_coherence_phase//COL23_ROW0_NFFT140_NLAP040.png"
       ]
      },
      {
       "output_type": "stream",
       "stream": "stdout",
       "text": [
        "\n",
        "D:\\Data\\output_charts_coherence_phase//COL23_ROW1_NFFT140_NLAP040.png"
       ]
      },
      {
       "output_type": "stream",
       "stream": "stdout",
       "text": [
        "\n",
        "D:\\Data\\output_charts_coherence_phase//COL23_ROW2_NFFT140_NLAP040.png"
       ]
      },
      {
       "output_type": "stream",
       "stream": "stdout",
       "text": [
        "\n",
        "D:\\Data\\output_charts_coherence_phase//COL23_ROW3_NFFT140_NLAP040.png"
       ]
      },
      {
       "output_type": "stream",
       "stream": "stdout",
       "text": [
        "\n",
        "D:\\Data\\output_charts_coherence_phase//COL23_ROW4_NFFT140_NLAP040.png"
       ]
      },
      {
       "output_type": "stream",
       "stream": "stdout",
       "text": [
        "\n",
        "D:\\Data\\output_charts_coherence_phase//COL23_ROW5_NFFT140_NLAP040.png"
       ]
      },
      {
       "output_type": "stream",
       "stream": "stdout",
       "text": [
        "\n",
        "D:\\Data\\output_charts_coherence_phase//COL23_ROW6_NFFT140_NLAP040.png"
       ]
      },
      {
       "output_type": "stream",
       "stream": "stdout",
       "text": [
        "\n",
        "D:\\Data\\output_charts_coherence_phase//COL23_ROW7_NFFT140_NLAP040.png"
       ]
      },
      {
       "output_type": "stream",
       "stream": "stdout",
       "text": [
        "\n",
        "D:\\Data\\output_charts_coherence_phase//COL23_ROW8_NFFT140_NLAP040.png"
       ]
      },
      {
       "output_type": "stream",
       "stream": "stdout",
       "text": [
        "\n",
        "D:\\Data\\output_charts_coherence_phase//COL23_ROW9_NFFT140_NLAP040.png"
       ]
      },
      {
       "output_type": "stream",
       "stream": "stdout",
       "text": [
        "\n",
        "D:\\Data\\output_charts_coherence_phase//COL23_ROW10_NFFT140_NLAP040.png"
       ]
      },
      {
       "output_type": "stream",
       "stream": "stdout",
       "text": [
        "\n",
        "D:\\Data\\output_charts_coherence_phase//COL23_ROW11_NFFT140_NLAP040.png"
       ]
      },
      {
       "output_type": "stream",
       "stream": "stdout",
       "text": [
        "\n",
        "D:\\Data\\output_charts_coherence_phase//COL23_ROW12_NFFT140_NLAP040.png"
       ]
      },
      {
       "output_type": "stream",
       "stream": "stdout",
       "text": [
        "\n",
        "D:\\Data\\output_charts_coherence_phase//COL23_ROW13_NFFT140_NLAP040.png"
       ]
      },
      {
       "output_type": "stream",
       "stream": "stdout",
       "text": [
        "\n",
        "D:\\Data\\output_charts_coherence_phase//COL23_ROW14_NFFT140_NLAP040.png"
       ]
      },
      {
       "output_type": "stream",
       "stream": "stdout",
       "text": [
        "\n",
        "D:\\Data\\output_charts_coherence_phase//COL23_ROW15_NFFT140_NLAP040.png"
       ]
      },
      {
       "output_type": "stream",
       "stream": "stdout",
       "text": [
        "\n",
        "D:\\Data\\output_charts_coherence_phase//COL23_ROW16_NFFT140_NLAP040.png"
       ]
      },
      {
       "output_type": "stream",
       "stream": "stdout",
       "text": [
        "\n",
        "D:\\Data\\output_charts_coherence_phase//COL23_ROW17_NFFT140_NLAP040.png"
       ]
      },
      {
       "output_type": "stream",
       "stream": "stdout",
       "text": [
        "\n",
        "D:\\Data\\output_charts_coherence_phase//COL23_ROW18_NFFT140_NLAP040.png"
       ]
      },
      {
       "output_type": "stream",
       "stream": "stdout",
       "text": [
        "\n",
        "D:\\Data\\output_charts_coherence_phase//COL23_ROW19_NFFT140_NLAP040.png"
       ]
      },
      {
       "output_type": "stream",
       "stream": "stdout",
       "text": [
        "\n",
        "D:\\Data\\output_charts_coherence_phase//COL23_ROW20_NFFT140_NLAP040.png"
       ]
      },
      {
       "output_type": "stream",
       "stream": "stdout",
       "text": [
        "\n",
        "D:\\Data\\output_charts_coherence_phase//COL23_ROW21_NFFT140_NLAP040.png"
       ]
      },
      {
       "output_type": "stream",
       "stream": "stdout",
       "text": [
        "\n",
        "D:\\Data\\output_charts_coherence_phase//COL23_ROW22_NFFT140_NLAP040.png"
       ]
      },
      {
       "output_type": "stream",
       "stream": "stdout",
       "text": [
        "\n",
        "D:\\Data\\output_charts_coherence_phase//COL23_ROW23_NFFT140_NLAP040.png"
       ]
      },
      {
       "output_type": "stream",
       "stream": "stdout",
       "text": [
        "\n",
        "D:\\Data\\output_charts_coherence_phase//COL23_ROW24_NFFT140_NLAP040.png"
       ]
      },
      {
       "output_type": "stream",
       "stream": "stdout",
       "text": [
        "\n",
        "D:\\Data\\output_charts_coherence_phase//COL23_ROW25_NFFT140_NLAP040.png"
       ]
      },
      {
       "output_type": "stream",
       "stream": "stdout",
       "text": [
        "\n",
        "D:\\Data\\output_charts_coherence_phase//COL23_ROW26_NFFT140_NLAP040.png"
       ]
      },
      {
       "output_type": "stream",
       "stream": "stdout",
       "text": [
        "\n",
        "D:\\Data\\output_charts_coherence_phase//COL23_ROW27_NFFT140_NLAP040.png"
       ]
      },
      {
       "output_type": "stream",
       "stream": "stdout",
       "text": [
        "\n",
        "D:\\Data\\output_charts_coherence_phase//COL23_ROW28_NFFT140_NLAP040.png"
       ]
      },
      {
       "output_type": "stream",
       "stream": "stdout",
       "text": [
        "\n",
        "D:\\Data\\output_charts_coherence_phase//COL23_ROW29_NFFT140_NLAP040.png"
       ]
      },
      {
       "output_type": "stream",
       "stream": "stdout",
       "text": [
        "\n",
        "D:\\Data\\output_charts_coherence_phase//COL23_ROW30_NFFT140_NLAP040.png"
       ]
      },
      {
       "output_type": "stream",
       "stream": "stdout",
       "text": [
        "\n",
        "D:\\Data\\output_charts_coherence_phase//COL23_ROW31_NFFT140_NLAP040.png"
       ]
      },
      {
       "output_type": "stream",
       "stream": "stdout",
       "text": [
        "\n",
        "D:\\Data\\output_charts_coherence_phase//COL23_ROW32_NFFT140_NLAP040.png"
       ]
      },
      {
       "output_type": "stream",
       "stream": "stdout",
       "text": [
        "\n",
        "D:\\Data\\output_charts_coherence_phase//COL23_ROW33_NFFT140_NLAP040.png"
       ]
      },
      {
       "output_type": "stream",
       "stream": "stdout",
       "text": [
        "\n",
        "D:\\Data\\output_charts_coherence_phase//COL23_ROW34_NFFT140_NLAP040.png"
       ]
      },
      {
       "output_type": "stream",
       "stream": "stdout",
       "text": [
        "\n",
        "D:\\Data\\output_charts_coherence_phase//COL23_ROW35_NFFT140_NLAP040.png"
       ]
      },
      {
       "output_type": "stream",
       "stream": "stdout",
       "text": [
        "\n",
        "D:\\Data\\output_charts_coherence_phase//COL23_ROW36_NFFT140_NLAP040.png"
       ]
      },
      {
       "output_type": "stream",
       "stream": "stdout",
       "text": [
        "\n",
        "D:\\Data\\output_charts_coherence_phase//COL24_ROW0_NFFT140_NLAP040.png"
       ]
      },
      {
       "output_type": "stream",
       "stream": "stdout",
       "text": [
        "\n",
        "D:\\Data\\output_charts_coherence_phase//COL24_ROW1_NFFT140_NLAP040.png"
       ]
      },
      {
       "output_type": "stream",
       "stream": "stdout",
       "text": [
        "\n",
        "D:\\Data\\output_charts_coherence_phase//COL24_ROW2_NFFT140_NLAP040.png"
       ]
      },
      {
       "output_type": "stream",
       "stream": "stdout",
       "text": [
        "\n",
        "D:\\Data\\output_charts_coherence_phase//COL24_ROW3_NFFT140_NLAP040.png"
       ]
      },
      {
       "output_type": "stream",
       "stream": "stdout",
       "text": [
        "\n",
        "D:\\Data\\output_charts_coherence_phase//COL24_ROW4_NFFT140_NLAP040.png"
       ]
      },
      {
       "output_type": "stream",
       "stream": "stdout",
       "text": [
        "\n",
        "D:\\Data\\output_charts_coherence_phase//COL24_ROW5_NFFT140_NLAP040.png"
       ]
      },
      {
       "output_type": "stream",
       "stream": "stdout",
       "text": [
        "\n",
        "D:\\Data\\output_charts_coherence_phase//COL24_ROW6_NFFT140_NLAP040.png"
       ]
      },
      {
       "output_type": "stream",
       "stream": "stdout",
       "text": [
        "\n",
        "D:\\Data\\output_charts_coherence_phase//COL24_ROW7_NFFT140_NLAP040.png"
       ]
      },
      {
       "output_type": "stream",
       "stream": "stdout",
       "text": [
        "\n",
        "D:\\Data\\output_charts_coherence_phase//COL24_ROW8_NFFT140_NLAP040.png"
       ]
      },
      {
       "output_type": "stream",
       "stream": "stdout",
       "text": [
        "\n",
        "D:\\Data\\output_charts_coherence_phase//COL24_ROW9_NFFT140_NLAP040.png"
       ]
      },
      {
       "output_type": "stream",
       "stream": "stdout",
       "text": [
        "\n",
        "D:\\Data\\output_charts_coherence_phase//COL24_ROW10_NFFT140_NLAP040.png"
       ]
      },
      {
       "output_type": "stream",
       "stream": "stdout",
       "text": [
        "\n",
        "D:\\Data\\output_charts_coherence_phase//COL24_ROW11_NFFT140_NLAP040.png"
       ]
      },
      {
       "output_type": "stream",
       "stream": "stdout",
       "text": [
        "\n",
        "D:\\Data\\output_charts_coherence_phase//COL24_ROW12_NFFT140_NLAP040.png"
       ]
      },
      {
       "output_type": "stream",
       "stream": "stdout",
       "text": [
        "\n",
        "D:\\Data\\output_charts_coherence_phase//COL24_ROW13_NFFT140_NLAP040.png"
       ]
      },
      {
       "output_type": "stream",
       "stream": "stdout",
       "text": [
        "\n",
        "D:\\Data\\output_charts_coherence_phase//COL24_ROW14_NFFT140_NLAP040.png"
       ]
      },
      {
       "output_type": "stream",
       "stream": "stdout",
       "text": [
        "\n",
        "D:\\Data\\output_charts_coherence_phase//COL24_ROW15_NFFT140_NLAP040.png"
       ]
      },
      {
       "output_type": "stream",
       "stream": "stdout",
       "text": [
        "\n",
        "D:\\Data\\output_charts_coherence_phase//COL24_ROW16_NFFT140_NLAP040.png"
       ]
      },
      {
       "output_type": "stream",
       "stream": "stdout",
       "text": [
        "\n",
        "D:\\Data\\output_charts_coherence_phase//COL24_ROW17_NFFT140_NLAP040.png"
       ]
      },
      {
       "output_type": "stream",
       "stream": "stdout",
       "text": [
        "\n",
        "D:\\Data\\output_charts_coherence_phase//COL24_ROW18_NFFT140_NLAP040.png"
       ]
      },
      {
       "output_type": "stream",
       "stream": "stdout",
       "text": [
        "\n",
        "D:\\Data\\output_charts_coherence_phase//COL24_ROW19_NFFT140_NLAP040.png"
       ]
      },
      {
       "output_type": "stream",
       "stream": "stdout",
       "text": [
        "\n",
        "D:\\Data\\output_charts_coherence_phase//COL24_ROW20_NFFT140_NLAP040.png"
       ]
      },
      {
       "output_type": "stream",
       "stream": "stdout",
       "text": [
        "\n",
        "D:\\Data\\output_charts_coherence_phase//COL24_ROW21_NFFT140_NLAP040.png"
       ]
      },
      {
       "output_type": "stream",
       "stream": "stdout",
       "text": [
        "\n",
        "D:\\Data\\output_charts_coherence_phase//COL24_ROW22_NFFT140_NLAP040.png"
       ]
      },
      {
       "output_type": "stream",
       "stream": "stdout",
       "text": [
        "\n",
        "D:\\Data\\output_charts_coherence_phase//COL24_ROW23_NFFT140_NLAP040.png"
       ]
      },
      {
       "output_type": "stream",
       "stream": "stdout",
       "text": [
        "\n",
        "D:\\Data\\output_charts_coherence_phase//COL24_ROW24_NFFT140_NLAP040.png"
       ]
      },
      {
       "output_type": "stream",
       "stream": "stdout",
       "text": [
        "\n",
        "D:\\Data\\output_charts_coherence_phase//COL24_ROW25_NFFT140_NLAP040.png"
       ]
      },
      {
       "output_type": "stream",
       "stream": "stdout",
       "text": [
        "\n",
        "D:\\Data\\output_charts_coherence_phase//COL24_ROW26_NFFT140_NLAP040.png"
       ]
      },
      {
       "output_type": "stream",
       "stream": "stdout",
       "text": [
        "\n",
        "D:\\Data\\output_charts_coherence_phase//COL24_ROW27_NFFT140_NLAP040.png"
       ]
      },
      {
       "output_type": "stream",
       "stream": "stdout",
       "text": [
        "\n",
        "D:\\Data\\output_charts_coherence_phase//COL24_ROW28_NFFT140_NLAP040.png"
       ]
      },
      {
       "output_type": "stream",
       "stream": "stdout",
       "text": [
        "\n",
        "D:\\Data\\output_charts_coherence_phase//COL24_ROW29_NFFT140_NLAP040.png"
       ]
      },
      {
       "output_type": "stream",
       "stream": "stdout",
       "text": [
        "\n",
        "D:\\Data\\output_charts_coherence_phase//COL24_ROW30_NFFT140_NLAP040.png"
       ]
      },
      {
       "output_type": "stream",
       "stream": "stdout",
       "text": [
        "\n",
        "D:\\Data\\output_charts_coherence_phase//COL24_ROW31_NFFT140_NLAP040.png"
       ]
      },
      {
       "output_type": "stream",
       "stream": "stdout",
       "text": [
        "\n",
        "D:\\Data\\output_charts_coherence_phase//COL24_ROW32_NFFT140_NLAP040.png"
       ]
      },
      {
       "output_type": "stream",
       "stream": "stdout",
       "text": [
        "\n",
        "D:\\Data\\output_charts_coherence_phase//COL24_ROW33_NFFT140_NLAP040.png"
       ]
      },
      {
       "output_type": "stream",
       "stream": "stdout",
       "text": [
        "\n",
        "D:\\Data\\output_charts_coherence_phase//COL24_ROW34_NFFT140_NLAP040.png"
       ]
      },
      {
       "output_type": "stream",
       "stream": "stdout",
       "text": [
        "\n",
        "D:\\Data\\output_charts_coherence_phase//COL24_ROW35_NFFT140_NLAP040.png"
       ]
      },
      {
       "output_type": "stream",
       "stream": "stdout",
       "text": [
        "\n",
        "D:\\Data\\output_charts_coherence_phase//COL24_ROW36_NFFT140_NLAP040.png"
       ]
      },
      {
       "output_type": "stream",
       "stream": "stdout",
       "text": [
        "\n",
        "D:\\Data\\output_charts_coherence_phase//COL25_ROW0_NFFT140_NLAP040.png"
       ]
      },
      {
       "output_type": "stream",
       "stream": "stdout",
       "text": [
        "\n",
        "D:\\Data\\output_charts_coherence_phase//COL25_ROW1_NFFT140_NLAP040.png"
       ]
      },
      {
       "output_type": "stream",
       "stream": "stdout",
       "text": [
        "\n",
        "D:\\Data\\output_charts_coherence_phase//COL25_ROW2_NFFT140_NLAP040.png"
       ]
      },
      {
       "output_type": "stream",
       "stream": "stdout",
       "text": [
        "\n",
        "D:\\Data\\output_charts_coherence_phase//COL25_ROW3_NFFT140_NLAP040.png"
       ]
      },
      {
       "output_type": "stream",
       "stream": "stdout",
       "text": [
        "\n",
        "D:\\Data\\output_charts_coherence_phase//COL25_ROW4_NFFT140_NLAP040.png"
       ]
      },
      {
       "output_type": "stream",
       "stream": "stdout",
       "text": [
        "\n",
        "D:\\Data\\output_charts_coherence_phase//COL25_ROW5_NFFT140_NLAP040.png"
       ]
      },
      {
       "output_type": "stream",
       "stream": "stdout",
       "text": [
        "\n",
        "D:\\Data\\output_charts_coherence_phase//COL25_ROW6_NFFT140_NLAP040.png"
       ]
      },
      {
       "output_type": "stream",
       "stream": "stdout",
       "text": [
        "\n",
        "D:\\Data\\output_charts_coherence_phase//COL25_ROW7_NFFT140_NLAP040.png"
       ]
      },
      {
       "output_type": "stream",
       "stream": "stdout",
       "text": [
        "\n",
        "D:\\Data\\output_charts_coherence_phase//COL25_ROW8_NFFT140_NLAP040.png"
       ]
      },
      {
       "output_type": "stream",
       "stream": "stdout",
       "text": [
        "\n",
        "D:\\Data\\output_charts_coherence_phase//COL25_ROW9_NFFT140_NLAP040.png"
       ]
      },
      {
       "output_type": "stream",
       "stream": "stdout",
       "text": [
        "\n",
        "D:\\Data\\output_charts_coherence_phase//COL25_ROW10_NFFT140_NLAP040.png"
       ]
      },
      {
       "output_type": "stream",
       "stream": "stdout",
       "text": [
        "\n",
        "D:\\Data\\output_charts_coherence_phase//COL25_ROW11_NFFT140_NLAP040.png"
       ]
      },
      {
       "output_type": "stream",
       "stream": "stdout",
       "text": [
        "\n",
        "D:\\Data\\output_charts_coherence_phase//COL25_ROW12_NFFT140_NLAP040.png"
       ]
      },
      {
       "output_type": "stream",
       "stream": "stdout",
       "text": [
        "\n",
        "D:\\Data\\output_charts_coherence_phase//COL25_ROW13_NFFT140_NLAP040.png"
       ]
      },
      {
       "output_type": "stream",
       "stream": "stdout",
       "text": [
        "\n",
        "D:\\Data\\output_charts_coherence_phase//COL25_ROW14_NFFT140_NLAP040.png"
       ]
      },
      {
       "output_type": "stream",
       "stream": "stdout",
       "text": [
        "\n",
        "D:\\Data\\output_charts_coherence_phase//COL25_ROW15_NFFT140_NLAP040.png"
       ]
      },
      {
       "output_type": "stream",
       "stream": "stdout",
       "text": [
        "\n",
        "D:\\Data\\output_charts_coherence_phase//COL25_ROW16_NFFT140_NLAP040.png"
       ]
      },
      {
       "output_type": "stream",
       "stream": "stdout",
       "text": [
        "\n",
        "D:\\Data\\output_charts_coherence_phase//COL25_ROW17_NFFT140_NLAP040.png"
       ]
      },
      {
       "output_type": "stream",
       "stream": "stdout",
       "text": [
        "\n",
        "D:\\Data\\output_charts_coherence_phase//COL25_ROW18_NFFT140_NLAP040.png"
       ]
      },
      {
       "output_type": "stream",
       "stream": "stdout",
       "text": [
        "\n",
        "D:\\Data\\output_charts_coherence_phase//COL25_ROW19_NFFT140_NLAP040.png"
       ]
      },
      {
       "output_type": "stream",
       "stream": "stdout",
       "text": [
        "\n",
        "D:\\Data\\output_charts_coherence_phase//COL25_ROW20_NFFT140_NLAP040.png"
       ]
      },
      {
       "output_type": "stream",
       "stream": "stdout",
       "text": [
        "\n",
        "D:\\Data\\output_charts_coherence_phase//COL25_ROW21_NFFT140_NLAP040.png"
       ]
      },
      {
       "output_type": "stream",
       "stream": "stdout",
       "text": [
        "\n",
        "D:\\Data\\output_charts_coherence_phase//COL25_ROW22_NFFT140_NLAP040.png"
       ]
      },
      {
       "output_type": "stream",
       "stream": "stdout",
       "text": [
        "\n",
        "D:\\Data\\output_charts_coherence_phase//COL25_ROW23_NFFT140_NLAP040.png"
       ]
      },
      {
       "output_type": "stream",
       "stream": "stdout",
       "text": [
        "\n",
        "D:\\Data\\output_charts_coherence_phase//COL25_ROW24_NFFT140_NLAP040.png"
       ]
      },
      {
       "output_type": "stream",
       "stream": "stdout",
       "text": [
        "\n",
        "D:\\Data\\output_charts_coherence_phase//COL25_ROW25_NFFT140_NLAP040.png"
       ]
      },
      {
       "output_type": "stream",
       "stream": "stdout",
       "text": [
        "\n",
        "D:\\Data\\output_charts_coherence_phase//COL25_ROW26_NFFT140_NLAP040.png"
       ]
      },
      {
       "output_type": "stream",
       "stream": "stdout",
       "text": [
        "\n",
        "D:\\Data\\output_charts_coherence_phase//COL25_ROW27_NFFT140_NLAP040.png"
       ]
      },
      {
       "output_type": "stream",
       "stream": "stdout",
       "text": [
        "\n",
        "D:\\Data\\output_charts_coherence_phase//COL25_ROW28_NFFT140_NLAP040.png"
       ]
      },
      {
       "output_type": "stream",
       "stream": "stdout",
       "text": [
        "\n",
        "D:\\Data\\output_charts_coherence_phase//COL25_ROW29_NFFT140_NLAP040.png"
       ]
      },
      {
       "output_type": "stream",
       "stream": "stdout",
       "text": [
        "\n",
        "D:\\Data\\output_charts_coherence_phase//COL25_ROW30_NFFT140_NLAP040.png"
       ]
      },
      {
       "output_type": "stream",
       "stream": "stdout",
       "text": [
        "\n",
        "D:\\Data\\output_charts_coherence_phase//COL25_ROW31_NFFT140_NLAP040.png"
       ]
      },
      {
       "output_type": "stream",
       "stream": "stdout",
       "text": [
        "\n",
        "D:\\Data\\output_charts_coherence_phase//COL25_ROW32_NFFT140_NLAP040.png"
       ]
      },
      {
       "output_type": "stream",
       "stream": "stdout",
       "text": [
        "\n",
        "D:\\Data\\output_charts_coherence_phase//COL25_ROW33_NFFT140_NLAP040.png"
       ]
      },
      {
       "output_type": "stream",
       "stream": "stdout",
       "text": [
        "\n",
        "D:\\Data\\output_charts_coherence_phase//COL25_ROW34_NFFT140_NLAP040.png"
       ]
      },
      {
       "output_type": "stream",
       "stream": "stdout",
       "text": [
        "\n",
        "D:\\Data\\output_charts_coherence_phase//COL25_ROW35_NFFT140_NLAP040.png"
       ]
      },
      {
       "output_type": "stream",
       "stream": "stdout",
       "text": [
        "\n",
        "D:\\Data\\output_charts_coherence_phase//COL25_ROW36_NFFT140_NLAP040.png"
       ]
      },
      {
       "output_type": "stream",
       "stream": "stdout",
       "text": [
        "\n",
        "D:\\Data\\output_charts_coherence_phase//COL26_ROW0_NFFT140_NLAP040.png"
       ]
      },
      {
       "output_type": "stream",
       "stream": "stdout",
       "text": [
        "\n",
        "D:\\Data\\output_charts_coherence_phase//COL26_ROW1_NFFT140_NLAP040.png"
       ]
      },
      {
       "output_type": "stream",
       "stream": "stdout",
       "text": [
        "\n",
        "D:\\Data\\output_charts_coherence_phase//COL26_ROW2_NFFT140_NLAP040.png"
       ]
      },
      {
       "output_type": "stream",
       "stream": "stdout",
       "text": [
        "\n",
        "D:\\Data\\output_charts_coherence_phase//COL26_ROW3_NFFT140_NLAP040.png"
       ]
      },
      {
       "output_type": "stream",
       "stream": "stdout",
       "text": [
        "\n",
        "D:\\Data\\output_charts_coherence_phase//COL26_ROW4_NFFT140_NLAP040.png"
       ]
      },
      {
       "output_type": "stream",
       "stream": "stdout",
       "text": [
        "\n",
        "D:\\Data\\output_charts_coherence_phase//COL26_ROW5_NFFT140_NLAP040.png"
       ]
      },
      {
       "output_type": "stream",
       "stream": "stdout",
       "text": [
        "\n",
        "D:\\Data\\output_charts_coherence_phase//COL26_ROW6_NFFT140_NLAP040.png"
       ]
      },
      {
       "output_type": "stream",
       "stream": "stdout",
       "text": [
        "\n",
        "D:\\Data\\output_charts_coherence_phase//COL26_ROW7_NFFT140_NLAP040.png"
       ]
      },
      {
       "output_type": "stream",
       "stream": "stdout",
       "text": [
        "\n",
        "D:\\Data\\output_charts_coherence_phase//COL26_ROW8_NFFT140_NLAP040.png"
       ]
      },
      {
       "output_type": "stream",
       "stream": "stdout",
       "text": [
        "\n",
        "D:\\Data\\output_charts_coherence_phase//COL26_ROW9_NFFT140_NLAP040.png"
       ]
      },
      {
       "output_type": "stream",
       "stream": "stdout",
       "text": [
        "\n",
        "D:\\Data\\output_charts_coherence_phase//COL26_ROW10_NFFT140_NLAP040.png"
       ]
      },
      {
       "output_type": "stream",
       "stream": "stdout",
       "text": [
        "\n",
        "D:\\Data\\output_charts_coherence_phase//COL26_ROW11_NFFT140_NLAP040.png"
       ]
      },
      {
       "output_type": "stream",
       "stream": "stdout",
       "text": [
        "\n",
        "D:\\Data\\output_charts_coherence_phase//COL26_ROW12_NFFT140_NLAP040.png"
       ]
      },
      {
       "output_type": "stream",
       "stream": "stdout",
       "text": [
        "\n",
        "D:\\Data\\output_charts_coherence_phase//COL26_ROW13_NFFT140_NLAP040.png"
       ]
      },
      {
       "output_type": "stream",
       "stream": "stdout",
       "text": [
        "\n",
        "D:\\Data\\output_charts_coherence_phase//COL26_ROW14_NFFT140_NLAP040.png"
       ]
      },
      {
       "output_type": "stream",
       "stream": "stdout",
       "text": [
        "\n",
        "D:\\Data\\output_charts_coherence_phase//COL26_ROW15_NFFT140_NLAP040.png"
       ]
      },
      {
       "output_type": "stream",
       "stream": "stdout",
       "text": [
        "\n",
        "D:\\Data\\output_charts_coherence_phase//COL26_ROW16_NFFT140_NLAP040.png"
       ]
      },
      {
       "output_type": "stream",
       "stream": "stdout",
       "text": [
        "\n",
        "D:\\Data\\output_charts_coherence_phase//COL26_ROW17_NFFT140_NLAP040.png"
       ]
      },
      {
       "output_type": "stream",
       "stream": "stdout",
       "text": [
        "\n",
        "D:\\Data\\output_charts_coherence_phase//COL26_ROW18_NFFT140_NLAP040.png"
       ]
      },
      {
       "output_type": "stream",
       "stream": "stdout",
       "text": [
        "\n",
        "D:\\Data\\output_charts_coherence_phase//COL26_ROW19_NFFT140_NLAP040.png"
       ]
      },
      {
       "output_type": "stream",
       "stream": "stdout",
       "text": [
        "\n",
        "D:\\Data\\output_charts_coherence_phase//COL26_ROW20_NFFT140_NLAP040.png"
       ]
      },
      {
       "output_type": "stream",
       "stream": "stdout",
       "text": [
        "\n",
        "D:\\Data\\output_charts_coherence_phase//COL26_ROW21_NFFT140_NLAP040.png"
       ]
      },
      {
       "output_type": "stream",
       "stream": "stdout",
       "text": [
        "\n",
        "D:\\Data\\output_charts_coherence_phase//COL26_ROW22_NFFT140_NLAP040.png"
       ]
      },
      {
       "output_type": "stream",
       "stream": "stdout",
       "text": [
        "\n",
        "D:\\Data\\output_charts_coherence_phase//COL26_ROW23_NFFT140_NLAP040.png"
       ]
      },
      {
       "output_type": "stream",
       "stream": "stdout",
       "text": [
        "\n",
        "D:\\Data\\output_charts_coherence_phase//COL26_ROW24_NFFT140_NLAP040.png"
       ]
      },
      {
       "output_type": "stream",
       "stream": "stdout",
       "text": [
        "\n",
        "D:\\Data\\output_charts_coherence_phase//COL26_ROW25_NFFT140_NLAP040.png"
       ]
      },
      {
       "output_type": "stream",
       "stream": "stdout",
       "text": [
        "\n",
        "D:\\Data\\output_charts_coherence_phase//COL26_ROW26_NFFT140_NLAP040.png"
       ]
      },
      {
       "output_type": "stream",
       "stream": "stdout",
       "text": [
        "\n",
        "D:\\Data\\output_charts_coherence_phase//COL26_ROW27_NFFT140_NLAP040.png"
       ]
      },
      {
       "output_type": "stream",
       "stream": "stdout",
       "text": [
        "\n",
        "D:\\Data\\output_charts_coherence_phase//COL26_ROW28_NFFT140_NLAP040.png"
       ]
      },
      {
       "output_type": "stream",
       "stream": "stdout",
       "text": [
        "\n",
        "D:\\Data\\output_charts_coherence_phase//COL26_ROW29_NFFT140_NLAP040.png"
       ]
      },
      {
       "output_type": "stream",
       "stream": "stdout",
       "text": [
        "\n",
        "D:\\Data\\output_charts_coherence_phase//COL26_ROW30_NFFT140_NLAP040.png"
       ]
      },
      {
       "output_type": "stream",
       "stream": "stdout",
       "text": [
        "\n",
        "D:\\Data\\output_charts_coherence_phase//COL26_ROW31_NFFT140_NLAP040.png"
       ]
      },
      {
       "output_type": "stream",
       "stream": "stdout",
       "text": [
        "\n",
        "D:\\Data\\output_charts_coherence_phase//COL26_ROW32_NFFT140_NLAP040.png"
       ]
      },
      {
       "output_type": "stream",
       "stream": "stdout",
       "text": [
        "\n",
        "D:\\Data\\output_charts_coherence_phase//COL26_ROW33_NFFT140_NLAP040.png"
       ]
      },
      {
       "output_type": "stream",
       "stream": "stdout",
       "text": [
        "\n",
        "D:\\Data\\output_charts_coherence_phase//COL26_ROW34_NFFT140_NLAP040.png"
       ]
      },
      {
       "output_type": "stream",
       "stream": "stdout",
       "text": [
        "\n",
        "D:\\Data\\output_charts_coherence_phase//COL26_ROW35_NFFT140_NLAP040.png"
       ]
      },
      {
       "output_type": "stream",
       "stream": "stdout",
       "text": [
        "\n",
        "D:\\Data\\output_charts_coherence_phase//COL26_ROW36_NFFT140_NLAP040.png"
       ]
      },
      {
       "output_type": "stream",
       "stream": "stdout",
       "text": [
        "\n",
        "D:\\Data\\output_charts_coherence_phase//COL27_ROW0_NFFT140_NLAP040.png"
       ]
      },
      {
       "output_type": "stream",
       "stream": "stdout",
       "text": [
        "\n",
        "D:\\Data\\output_charts_coherence_phase//COL27_ROW1_NFFT140_NLAP040.png"
       ]
      },
      {
       "output_type": "stream",
       "stream": "stdout",
       "text": [
        "\n",
        "D:\\Data\\output_charts_coherence_phase//COL27_ROW2_NFFT140_NLAP040.png"
       ]
      },
      {
       "output_type": "stream",
       "stream": "stdout",
       "text": [
        "\n",
        "D:\\Data\\output_charts_coherence_phase//COL27_ROW3_NFFT140_NLAP040.png"
       ]
      },
      {
       "output_type": "stream",
       "stream": "stdout",
       "text": [
        "\n",
        "D:\\Data\\output_charts_coherence_phase//COL27_ROW4_NFFT140_NLAP040.png"
       ]
      },
      {
       "output_type": "stream",
       "stream": "stdout",
       "text": [
        "\n",
        "D:\\Data\\output_charts_coherence_phase//COL27_ROW5_NFFT140_NLAP040.png"
       ]
      },
      {
       "output_type": "stream",
       "stream": "stdout",
       "text": [
        "\n",
        "D:\\Data\\output_charts_coherence_phase//COL27_ROW6_NFFT140_NLAP040.png"
       ]
      },
      {
       "output_type": "stream",
       "stream": "stdout",
       "text": [
        "\n",
        "D:\\Data\\output_charts_coherence_phase//COL27_ROW7_NFFT140_NLAP040.png"
       ]
      },
      {
       "output_type": "stream",
       "stream": "stdout",
       "text": [
        "\n",
        "D:\\Data\\output_charts_coherence_phase//COL27_ROW8_NFFT140_NLAP040.png"
       ]
      },
      {
       "output_type": "stream",
       "stream": "stdout",
       "text": [
        "\n",
        "D:\\Data\\output_charts_coherence_phase//COL27_ROW9_NFFT140_NLAP040.png"
       ]
      },
      {
       "output_type": "stream",
       "stream": "stdout",
       "text": [
        "\n",
        "D:\\Data\\output_charts_coherence_phase//COL27_ROW10_NFFT140_NLAP040.png"
       ]
      },
      {
       "output_type": "stream",
       "stream": "stdout",
       "text": [
        "\n",
        "D:\\Data\\output_charts_coherence_phase//COL27_ROW11_NFFT140_NLAP040.png"
       ]
      },
      {
       "output_type": "stream",
       "stream": "stdout",
       "text": [
        "\n",
        "D:\\Data\\output_charts_coherence_phase//COL27_ROW12_NFFT140_NLAP040.png"
       ]
      },
      {
       "output_type": "stream",
       "stream": "stdout",
       "text": [
        "\n",
        "D:\\Data\\output_charts_coherence_phase//COL27_ROW13_NFFT140_NLAP040.png"
       ]
      },
      {
       "output_type": "stream",
       "stream": "stdout",
       "text": [
        "\n",
        "D:\\Data\\output_charts_coherence_phase//COL27_ROW14_NFFT140_NLAP040.png"
       ]
      },
      {
       "output_type": "stream",
       "stream": "stdout",
       "text": [
        "\n",
        "D:\\Data\\output_charts_coherence_phase//COL27_ROW15_NFFT140_NLAP040.png"
       ]
      },
      {
       "output_type": "stream",
       "stream": "stdout",
       "text": [
        "\n",
        "D:\\Data\\output_charts_coherence_phase//COL27_ROW16_NFFT140_NLAP040.png"
       ]
      },
      {
       "output_type": "stream",
       "stream": "stdout",
       "text": [
        "\n",
        "D:\\Data\\output_charts_coherence_phase//COL27_ROW17_NFFT140_NLAP040.png"
       ]
      },
      {
       "output_type": "stream",
       "stream": "stdout",
       "text": [
        "\n",
        "D:\\Data\\output_charts_coherence_phase//COL27_ROW18_NFFT140_NLAP040.png"
       ]
      },
      {
       "output_type": "stream",
       "stream": "stdout",
       "text": [
        "\n",
        "D:\\Data\\output_charts_coherence_phase//COL27_ROW19_NFFT140_NLAP040.png"
       ]
      },
      {
       "output_type": "stream",
       "stream": "stdout",
       "text": [
        "\n",
        "D:\\Data\\output_charts_coherence_phase//COL27_ROW20_NFFT140_NLAP040.png"
       ]
      },
      {
       "output_type": "stream",
       "stream": "stdout",
       "text": [
        "\n",
        "D:\\Data\\output_charts_coherence_phase//COL27_ROW21_NFFT140_NLAP040.png"
       ]
      },
      {
       "output_type": "stream",
       "stream": "stdout",
       "text": [
        "\n",
        "D:\\Data\\output_charts_coherence_phase//COL27_ROW22_NFFT140_NLAP040.png"
       ]
      },
      {
       "output_type": "stream",
       "stream": "stdout",
       "text": [
        "\n",
        "D:\\Data\\output_charts_coherence_phase//COL27_ROW23_NFFT140_NLAP040.png"
       ]
      },
      {
       "output_type": "stream",
       "stream": "stdout",
       "text": [
        "\n",
        "D:\\Data\\output_charts_coherence_phase//COL27_ROW24_NFFT140_NLAP040.png"
       ]
      },
      {
       "output_type": "stream",
       "stream": "stdout",
       "text": [
        "\n",
        "D:\\Data\\output_charts_coherence_phase//COL27_ROW25_NFFT140_NLAP040.png"
       ]
      },
      {
       "output_type": "stream",
       "stream": "stdout",
       "text": [
        "\n",
        "D:\\Data\\output_charts_coherence_phase//COL27_ROW26_NFFT140_NLAP040.png"
       ]
      },
      {
       "output_type": "stream",
       "stream": "stdout",
       "text": [
        "\n",
        "D:\\Data\\output_charts_coherence_phase//COL27_ROW27_NFFT140_NLAP040.png"
       ]
      },
      {
       "output_type": "stream",
       "stream": "stdout",
       "text": [
        "\n",
        "D:\\Data\\output_charts_coherence_phase//COL27_ROW28_NFFT140_NLAP040.png"
       ]
      },
      {
       "output_type": "stream",
       "stream": "stdout",
       "text": [
        "\n",
        "D:\\Data\\output_charts_coherence_phase//COL27_ROW29_NFFT140_NLAP040.png"
       ]
      },
      {
       "output_type": "stream",
       "stream": "stdout",
       "text": [
        "\n",
        "D:\\Data\\output_charts_coherence_phase//COL27_ROW30_NFFT140_NLAP040.png"
       ]
      },
      {
       "output_type": "stream",
       "stream": "stdout",
       "text": [
        "\n",
        "D:\\Data\\output_charts_coherence_phase//COL27_ROW31_NFFT140_NLAP040.png"
       ]
      },
      {
       "output_type": "stream",
       "stream": "stdout",
       "text": [
        "\n",
        "D:\\Data\\output_charts_coherence_phase//COL27_ROW32_NFFT140_NLAP040.png"
       ]
      },
      {
       "output_type": "stream",
       "stream": "stdout",
       "text": [
        "\n",
        "D:\\Data\\output_charts_coherence_phase//COL27_ROW33_NFFT140_NLAP040.png"
       ]
      },
      {
       "output_type": "stream",
       "stream": "stdout",
       "text": [
        "\n",
        "D:\\Data\\output_charts_coherence_phase//COL27_ROW34_NFFT140_NLAP040.png"
       ]
      },
      {
       "output_type": "stream",
       "stream": "stdout",
       "text": [
        "\n",
        "D:\\Data\\output_charts_coherence_phase//COL27_ROW35_NFFT140_NLAP040.png"
       ]
      },
      {
       "output_type": "stream",
       "stream": "stdout",
       "text": [
        "\n",
        "D:\\Data\\output_charts_coherence_phase//COL27_ROW36_NFFT140_NLAP040.png"
       ]
      },
      {
       "output_type": "stream",
       "stream": "stdout",
       "text": [
        "\n",
        "D:\\Data\\output_charts_coherence_phase//COL28_ROW0_NFFT140_NLAP040.png"
       ]
      },
      {
       "output_type": "stream",
       "stream": "stdout",
       "text": [
        "\n",
        "D:\\Data\\output_charts_coherence_phase//COL28_ROW1_NFFT140_NLAP040.png"
       ]
      },
      {
       "output_type": "stream",
       "stream": "stdout",
       "text": [
        "\n",
        "D:\\Data\\output_charts_coherence_phase//COL28_ROW2_NFFT140_NLAP040.png"
       ]
      },
      {
       "output_type": "stream",
       "stream": "stdout",
       "text": [
        "\n",
        "D:\\Data\\output_charts_coherence_phase//COL28_ROW3_NFFT140_NLAP040.png"
       ]
      },
      {
       "output_type": "stream",
       "stream": "stdout",
       "text": [
        "\n",
        "D:\\Data\\output_charts_coherence_phase//COL28_ROW4_NFFT140_NLAP040.png"
       ]
      },
      {
       "output_type": "stream",
       "stream": "stdout",
       "text": [
        "\n",
        "D:\\Data\\output_charts_coherence_phase//COL28_ROW5_NFFT140_NLAP040.png"
       ]
      },
      {
       "output_type": "stream",
       "stream": "stdout",
       "text": [
        "\n",
        "D:\\Data\\output_charts_coherence_phase//COL28_ROW6_NFFT140_NLAP040.png"
       ]
      },
      {
       "output_type": "stream",
       "stream": "stdout",
       "text": [
        "\n",
        "D:\\Data\\output_charts_coherence_phase//COL28_ROW7_NFFT140_NLAP040.png"
       ]
      },
      {
       "output_type": "stream",
       "stream": "stdout",
       "text": [
        "\n",
        "D:\\Data\\output_charts_coherence_phase//COL28_ROW8_NFFT140_NLAP040.png"
       ]
      },
      {
       "output_type": "stream",
       "stream": "stdout",
       "text": [
        "\n",
        "D:\\Data\\output_charts_coherence_phase//COL28_ROW9_NFFT140_NLAP040.png"
       ]
      },
      {
       "output_type": "stream",
       "stream": "stdout",
       "text": [
        "\n",
        "D:\\Data\\output_charts_coherence_phase//COL28_ROW10_NFFT140_NLAP040.png"
       ]
      },
      {
       "output_type": "stream",
       "stream": "stdout",
       "text": [
        "\n",
        "D:\\Data\\output_charts_coherence_phase//COL28_ROW11_NFFT140_NLAP040.png"
       ]
      },
      {
       "output_type": "stream",
       "stream": "stdout",
       "text": [
        "\n",
        "D:\\Data\\output_charts_coherence_phase//COL28_ROW12_NFFT140_NLAP040.png"
       ]
      },
      {
       "output_type": "stream",
       "stream": "stdout",
       "text": [
        "\n",
        "D:\\Data\\output_charts_coherence_phase//COL28_ROW13_NFFT140_NLAP040.png"
       ]
      },
      {
       "output_type": "stream",
       "stream": "stdout",
       "text": [
        "\n",
        "D:\\Data\\output_charts_coherence_phase//COL28_ROW14_NFFT140_NLAP040.png"
       ]
      },
      {
       "output_type": "stream",
       "stream": "stdout",
       "text": [
        "\n",
        "D:\\Data\\output_charts_coherence_phase//COL28_ROW15_NFFT140_NLAP040.png"
       ]
      },
      {
       "output_type": "stream",
       "stream": "stdout",
       "text": [
        "\n",
        "D:\\Data\\output_charts_coherence_phase//COL28_ROW16_NFFT140_NLAP040.png"
       ]
      },
      {
       "output_type": "stream",
       "stream": "stdout",
       "text": [
        "\n",
        "D:\\Data\\output_charts_coherence_phase//COL28_ROW17_NFFT140_NLAP040.png"
       ]
      },
      {
       "output_type": "stream",
       "stream": "stdout",
       "text": [
        "\n",
        "D:\\Data\\output_charts_coherence_phase//COL28_ROW18_NFFT140_NLAP040.png"
       ]
      },
      {
       "output_type": "stream",
       "stream": "stdout",
       "text": [
        "\n",
        "D:\\Data\\output_charts_coherence_phase//COL28_ROW19_NFFT140_NLAP040.png"
       ]
      },
      {
       "output_type": "stream",
       "stream": "stdout",
       "text": [
        "\n",
        "D:\\Data\\output_charts_coherence_phase//COL28_ROW20_NFFT140_NLAP040.png"
       ]
      },
      {
       "output_type": "stream",
       "stream": "stdout",
       "text": [
        "\n",
        "D:\\Data\\output_charts_coherence_phase//COL28_ROW21_NFFT140_NLAP040.png"
       ]
      },
      {
       "output_type": "stream",
       "stream": "stdout",
       "text": [
        "\n",
        "D:\\Data\\output_charts_coherence_phase//COL28_ROW22_NFFT140_NLAP040.png"
       ]
      },
      {
       "output_type": "stream",
       "stream": "stdout",
       "text": [
        "\n",
        "D:\\Data\\output_charts_coherence_phase//COL28_ROW23_NFFT140_NLAP040.png"
       ]
      },
      {
       "output_type": "stream",
       "stream": "stdout",
       "text": [
        "\n",
        "D:\\Data\\output_charts_coherence_phase//COL28_ROW24_NFFT140_NLAP040.png"
       ]
      },
      {
       "output_type": "stream",
       "stream": "stdout",
       "text": [
        "\n",
        "D:\\Data\\output_charts_coherence_phase//COL28_ROW25_NFFT140_NLAP040.png"
       ]
      },
      {
       "output_type": "stream",
       "stream": "stdout",
       "text": [
        "\n",
        "D:\\Data\\output_charts_coherence_phase//COL28_ROW26_NFFT140_NLAP040.png"
       ]
      },
      {
       "output_type": "stream",
       "stream": "stdout",
       "text": [
        "\n",
        "D:\\Data\\output_charts_coherence_phase//COL28_ROW27_NFFT140_NLAP040.png"
       ]
      },
      {
       "output_type": "stream",
       "stream": "stdout",
       "text": [
        "\n",
        "D:\\Data\\output_charts_coherence_phase//COL28_ROW28_NFFT140_NLAP040.png"
       ]
      },
      {
       "output_type": "stream",
       "stream": "stdout",
       "text": [
        "\n",
        "D:\\Data\\output_charts_coherence_phase//COL28_ROW29_NFFT140_NLAP040.png"
       ]
      },
      {
       "output_type": "stream",
       "stream": "stdout",
       "text": [
        "\n",
        "D:\\Data\\output_charts_coherence_phase//COL28_ROW30_NFFT140_NLAP040.png"
       ]
      },
      {
       "output_type": "stream",
       "stream": "stdout",
       "text": [
        "\n",
        "D:\\Data\\output_charts_coherence_phase//COL28_ROW31_NFFT140_NLAP040.png"
       ]
      },
      {
       "output_type": "stream",
       "stream": "stdout",
       "text": [
        "\n",
        "D:\\Data\\output_charts_coherence_phase//COL28_ROW32_NFFT140_NLAP040.png"
       ]
      },
      {
       "output_type": "stream",
       "stream": "stdout",
       "text": [
        "\n",
        "D:\\Data\\output_charts_coherence_phase//COL28_ROW33_NFFT140_NLAP040.png"
       ]
      },
      {
       "output_type": "stream",
       "stream": "stdout",
       "text": [
        "\n",
        "D:\\Data\\output_charts_coherence_phase//COL28_ROW34_NFFT140_NLAP040.png"
       ]
      },
      {
       "output_type": "stream",
       "stream": "stdout",
       "text": [
        "\n",
        "D:\\Data\\output_charts_coherence_phase//COL28_ROW35_NFFT140_NLAP040.png"
       ]
      },
      {
       "output_type": "stream",
       "stream": "stdout",
       "text": [
        "\n",
        "D:\\Data\\output_charts_coherence_phase//COL28_ROW36_NFFT140_NLAP040.png"
       ]
      },
      {
       "output_type": "stream",
       "stream": "stdout",
       "text": [
        "\n",
        "D:\\Data\\output_charts_coherence_phase//COL29_ROW0_NFFT140_NLAP040.png"
       ]
      },
      {
       "output_type": "stream",
       "stream": "stdout",
       "text": [
        "\n",
        "D:\\Data\\output_charts_coherence_phase//COL29_ROW1_NFFT140_NLAP040.png"
       ]
      },
      {
       "output_type": "stream",
       "stream": "stdout",
       "text": [
        "\n",
        "D:\\Data\\output_charts_coherence_phase//COL29_ROW2_NFFT140_NLAP040.png"
       ]
      },
      {
       "output_type": "stream",
       "stream": "stdout",
       "text": [
        "\n",
        "D:\\Data\\output_charts_coherence_phase//COL29_ROW3_NFFT140_NLAP040.png"
       ]
      },
      {
       "output_type": "stream",
       "stream": "stdout",
       "text": [
        "\n",
        "D:\\Data\\output_charts_coherence_phase//COL29_ROW4_NFFT140_NLAP040.png"
       ]
      },
      {
       "output_type": "stream",
       "stream": "stdout",
       "text": [
        "\n",
        "D:\\Data\\output_charts_coherence_phase//COL29_ROW5_NFFT140_NLAP040.png"
       ]
      },
      {
       "output_type": "stream",
       "stream": "stdout",
       "text": [
        "\n",
        "D:\\Data\\output_charts_coherence_phase//COL29_ROW6_NFFT140_NLAP040.png"
       ]
      },
      {
       "output_type": "stream",
       "stream": "stdout",
       "text": [
        "\n",
        "D:\\Data\\output_charts_coherence_phase//COL29_ROW7_NFFT140_NLAP040.png"
       ]
      },
      {
       "output_type": "stream",
       "stream": "stdout",
       "text": [
        "\n",
        "D:\\Data\\output_charts_coherence_phase//COL29_ROW8_NFFT140_NLAP040.png"
       ]
      },
      {
       "output_type": "stream",
       "stream": "stdout",
       "text": [
        "\n",
        "D:\\Data\\output_charts_coherence_phase//COL29_ROW9_NFFT140_NLAP040.png"
       ]
      },
      {
       "output_type": "stream",
       "stream": "stdout",
       "text": [
        "\n",
        "D:\\Data\\output_charts_coherence_phase//COL29_ROW10_NFFT140_NLAP040.png"
       ]
      },
      {
       "output_type": "stream",
       "stream": "stdout",
       "text": [
        "\n",
        "D:\\Data\\output_charts_coherence_phase//COL29_ROW11_NFFT140_NLAP040.png"
       ]
      },
      {
       "output_type": "stream",
       "stream": "stdout",
       "text": [
        "\n",
        "D:\\Data\\output_charts_coherence_phase//COL29_ROW12_NFFT140_NLAP040.png"
       ]
      },
      {
       "output_type": "stream",
       "stream": "stdout",
       "text": [
        "\n",
        "D:\\Data\\output_charts_coherence_phase//COL29_ROW13_NFFT140_NLAP040.png"
       ]
      },
      {
       "output_type": "stream",
       "stream": "stdout",
       "text": [
        "\n",
        "D:\\Data\\output_charts_coherence_phase//COL29_ROW14_NFFT140_NLAP040.png"
       ]
      },
      {
       "output_type": "stream",
       "stream": "stdout",
       "text": [
        "\n",
        "D:\\Data\\output_charts_coherence_phase//COL29_ROW15_NFFT140_NLAP040.png"
       ]
      },
      {
       "output_type": "stream",
       "stream": "stdout",
       "text": [
        "\n",
        "D:\\Data\\output_charts_coherence_phase//COL29_ROW16_NFFT140_NLAP040.png"
       ]
      },
      {
       "output_type": "stream",
       "stream": "stdout",
       "text": [
        "\n",
        "D:\\Data\\output_charts_coherence_phase//COL29_ROW17_NFFT140_NLAP040.png"
       ]
      },
      {
       "output_type": "stream",
       "stream": "stdout",
       "text": [
        "\n",
        "D:\\Data\\output_charts_coherence_phase//COL29_ROW18_NFFT140_NLAP040.png"
       ]
      },
      {
       "output_type": "stream",
       "stream": "stdout",
       "text": [
        "\n",
        "D:\\Data\\output_charts_coherence_phase//COL29_ROW19_NFFT140_NLAP040.png"
       ]
      },
      {
       "output_type": "stream",
       "stream": "stdout",
       "text": [
        "\n",
        "D:\\Data\\output_charts_coherence_phase//COL29_ROW20_NFFT140_NLAP040.png"
       ]
      },
      {
       "output_type": "stream",
       "stream": "stdout",
       "text": [
        "\n",
        "D:\\Data\\output_charts_coherence_phase//COL29_ROW21_NFFT140_NLAP040.png"
       ]
      },
      {
       "output_type": "stream",
       "stream": "stdout",
       "text": [
        "\n",
        "D:\\Data\\output_charts_coherence_phase//COL29_ROW22_NFFT140_NLAP040.png"
       ]
      },
      {
       "output_type": "stream",
       "stream": "stdout",
       "text": [
        "\n",
        "D:\\Data\\output_charts_coherence_phase//COL29_ROW23_NFFT140_NLAP040.png"
       ]
      },
      {
       "output_type": "stream",
       "stream": "stdout",
       "text": [
        "\n",
        "D:\\Data\\output_charts_coherence_phase//COL29_ROW24_NFFT140_NLAP040.png"
       ]
      },
      {
       "output_type": "stream",
       "stream": "stdout",
       "text": [
        "\n",
        "D:\\Data\\output_charts_coherence_phase//COL29_ROW25_NFFT140_NLAP040.png"
       ]
      },
      {
       "output_type": "stream",
       "stream": "stdout",
       "text": [
        "\n",
        "D:\\Data\\output_charts_coherence_phase//COL29_ROW26_NFFT140_NLAP040.png"
       ]
      },
      {
       "output_type": "stream",
       "stream": "stdout",
       "text": [
        "\n",
        "D:\\Data\\output_charts_coherence_phase//COL29_ROW27_NFFT140_NLAP040.png"
       ]
      },
      {
       "output_type": "stream",
       "stream": "stdout",
       "text": [
        "\n",
        "D:\\Data\\output_charts_coherence_phase//COL29_ROW28_NFFT140_NLAP040.png"
       ]
      },
      {
       "output_type": "stream",
       "stream": "stdout",
       "text": [
        "\n",
        "D:\\Data\\output_charts_coherence_phase//COL29_ROW29_NFFT140_NLAP040.png"
       ]
      },
      {
       "output_type": "stream",
       "stream": "stdout",
       "text": [
        "\n",
        "D:\\Data\\output_charts_coherence_phase//COL29_ROW30_NFFT140_NLAP040.png"
       ]
      },
      {
       "output_type": "stream",
       "stream": "stdout",
       "text": [
        "\n",
        "D:\\Data\\output_charts_coherence_phase//COL29_ROW31_NFFT140_NLAP040.png"
       ]
      },
      {
       "output_type": "stream",
       "stream": "stdout",
       "text": [
        "\n",
        "D:\\Data\\output_charts_coherence_phase//COL29_ROW32_NFFT140_NLAP040.png"
       ]
      },
      {
       "output_type": "stream",
       "stream": "stdout",
       "text": [
        "\n",
        "D:\\Data\\output_charts_coherence_phase//COL29_ROW33_NFFT140_NLAP040.png"
       ]
      },
      {
       "output_type": "stream",
       "stream": "stdout",
       "text": [
        "\n",
        "D:\\Data\\output_charts_coherence_phase//COL29_ROW34_NFFT140_NLAP040.png"
       ]
      },
      {
       "output_type": "stream",
       "stream": "stdout",
       "text": [
        "\n",
        "D:\\Data\\output_charts_coherence_phase//COL29_ROW35_NFFT140_NLAP040.png"
       ]
      },
      {
       "output_type": "stream",
       "stream": "stdout",
       "text": [
        "\n",
        "D:\\Data\\output_charts_coherence_phase//COL29_ROW36_NFFT140_NLAP040.png"
       ]
      },
      {
       "output_type": "stream",
       "stream": "stdout",
       "text": [
        "\n",
        "D:\\Data\\output_charts_coherence_phase//COL30_ROW0_NFFT140_NLAP040.png"
       ]
      },
      {
       "output_type": "stream",
       "stream": "stdout",
       "text": [
        "\n",
        "D:\\Data\\output_charts_coherence_phase//COL30_ROW1_NFFT140_NLAP040.png"
       ]
      },
      {
       "output_type": "stream",
       "stream": "stdout",
       "text": [
        "\n",
        "D:\\Data\\output_charts_coherence_phase//COL30_ROW2_NFFT140_NLAP040.png"
       ]
      },
      {
       "output_type": "stream",
       "stream": "stdout",
       "text": [
        "\n",
        "D:\\Data\\output_charts_coherence_phase//COL30_ROW3_NFFT140_NLAP040.png"
       ]
      },
      {
       "output_type": "stream",
       "stream": "stdout",
       "text": [
        "\n",
        "D:\\Data\\output_charts_coherence_phase//COL30_ROW4_NFFT140_NLAP040.png"
       ]
      },
      {
       "output_type": "stream",
       "stream": "stdout",
       "text": [
        "\n",
        "D:\\Data\\output_charts_coherence_phase//COL30_ROW5_NFFT140_NLAP040.png"
       ]
      },
      {
       "output_type": "stream",
       "stream": "stdout",
       "text": [
        "\n",
        "D:\\Data\\output_charts_coherence_phase//COL30_ROW6_NFFT140_NLAP040.png"
       ]
      },
      {
       "output_type": "stream",
       "stream": "stdout",
       "text": [
        "\n",
        "D:\\Data\\output_charts_coherence_phase//COL30_ROW7_NFFT140_NLAP040.png"
       ]
      },
      {
       "output_type": "stream",
       "stream": "stdout",
       "text": [
        "\n",
        "D:\\Data\\output_charts_coherence_phase//COL30_ROW8_NFFT140_NLAP040.png"
       ]
      },
      {
       "output_type": "stream",
       "stream": "stdout",
       "text": [
        "\n",
        "D:\\Data\\output_charts_coherence_phase//COL30_ROW9_NFFT140_NLAP040.png"
       ]
      },
      {
       "output_type": "stream",
       "stream": "stdout",
       "text": [
        "\n",
        "D:\\Data\\output_charts_coherence_phase//COL30_ROW10_NFFT140_NLAP040.png"
       ]
      },
      {
       "output_type": "stream",
       "stream": "stdout",
       "text": [
        "\n",
        "D:\\Data\\output_charts_coherence_phase//COL30_ROW11_NFFT140_NLAP040.png"
       ]
      },
      {
       "output_type": "stream",
       "stream": "stdout",
       "text": [
        "\n",
        "D:\\Data\\output_charts_coherence_phase//COL30_ROW12_NFFT140_NLAP040.png"
       ]
      },
      {
       "output_type": "stream",
       "stream": "stdout",
       "text": [
        "\n",
        "D:\\Data\\output_charts_coherence_phase//COL30_ROW13_NFFT140_NLAP040.png"
       ]
      },
      {
       "output_type": "stream",
       "stream": "stdout",
       "text": [
        "\n",
        "D:\\Data\\output_charts_coherence_phase//COL30_ROW14_NFFT140_NLAP040.png"
       ]
      },
      {
       "output_type": "stream",
       "stream": "stdout",
       "text": [
        "\n",
        "D:\\Data\\output_charts_coherence_phase//COL30_ROW15_NFFT140_NLAP040.png"
       ]
      },
      {
       "output_type": "stream",
       "stream": "stdout",
       "text": [
        "\n",
        "D:\\Data\\output_charts_coherence_phase//COL30_ROW16_NFFT140_NLAP040.png"
       ]
      },
      {
       "output_type": "stream",
       "stream": "stdout",
       "text": [
        "\n",
        "D:\\Data\\output_charts_coherence_phase//COL30_ROW17_NFFT140_NLAP040.png"
       ]
      },
      {
       "output_type": "stream",
       "stream": "stdout",
       "text": [
        "\n",
        "D:\\Data\\output_charts_coherence_phase//COL30_ROW18_NFFT140_NLAP040.png"
       ]
      },
      {
       "output_type": "stream",
       "stream": "stdout",
       "text": [
        "\n",
        "D:\\Data\\output_charts_coherence_phase//COL30_ROW19_NFFT140_NLAP040.png"
       ]
      },
      {
       "output_type": "stream",
       "stream": "stdout",
       "text": [
        "\n",
        "D:\\Data\\output_charts_coherence_phase//COL30_ROW20_NFFT140_NLAP040.png"
       ]
      },
      {
       "output_type": "stream",
       "stream": "stdout",
       "text": [
        "\n",
        "D:\\Data\\output_charts_coherence_phase//COL30_ROW21_NFFT140_NLAP040.png"
       ]
      },
      {
       "output_type": "stream",
       "stream": "stdout",
       "text": [
        "\n",
        "D:\\Data\\output_charts_coherence_phase//COL30_ROW22_NFFT140_NLAP040.png"
       ]
      },
      {
       "output_type": "stream",
       "stream": "stdout",
       "text": [
        "\n",
        "D:\\Data\\output_charts_coherence_phase//COL30_ROW23_NFFT140_NLAP040.png"
       ]
      },
      {
       "output_type": "stream",
       "stream": "stdout",
       "text": [
        "\n",
        "D:\\Data\\output_charts_coherence_phase//COL30_ROW24_NFFT140_NLAP040.png"
       ]
      },
      {
       "output_type": "stream",
       "stream": "stdout",
       "text": [
        "\n",
        "D:\\Data\\output_charts_coherence_phase//COL30_ROW25_NFFT140_NLAP040.png"
       ]
      },
      {
       "output_type": "stream",
       "stream": "stdout",
       "text": [
        "\n",
        "D:\\Data\\output_charts_coherence_phase//COL30_ROW26_NFFT140_NLAP040.png"
       ]
      },
      {
       "output_type": "stream",
       "stream": "stdout",
       "text": [
        "\n",
        "D:\\Data\\output_charts_coherence_phase//COL30_ROW27_NFFT140_NLAP040.png"
       ]
      },
      {
       "output_type": "stream",
       "stream": "stdout",
       "text": [
        "\n",
        "D:\\Data\\output_charts_coherence_phase//COL30_ROW28_NFFT140_NLAP040.png"
       ]
      },
      {
       "output_type": "stream",
       "stream": "stdout",
       "text": [
        "\n",
        "D:\\Data\\output_charts_coherence_phase//COL30_ROW29_NFFT140_NLAP040.png"
       ]
      },
      {
       "output_type": "stream",
       "stream": "stdout",
       "text": [
        "\n",
        "D:\\Data\\output_charts_coherence_phase//COL30_ROW30_NFFT140_NLAP040.png"
       ]
      },
      {
       "output_type": "stream",
       "stream": "stdout",
       "text": [
        "\n",
        "D:\\Data\\output_charts_coherence_phase//COL30_ROW31_NFFT140_NLAP040.png"
       ]
      },
      {
       "output_type": "stream",
       "stream": "stdout",
       "text": [
        "\n",
        "D:\\Data\\output_charts_coherence_phase//COL30_ROW32_NFFT140_NLAP040.png"
       ]
      },
      {
       "output_type": "stream",
       "stream": "stdout",
       "text": [
        "\n",
        "D:\\Data\\output_charts_coherence_phase//COL30_ROW33_NFFT140_NLAP040.png"
       ]
      },
      {
       "output_type": "stream",
       "stream": "stdout",
       "text": [
        "\n",
        "D:\\Data\\output_charts_coherence_phase//COL30_ROW34_NFFT140_NLAP040.png"
       ]
      },
      {
       "output_type": "stream",
       "stream": "stdout",
       "text": [
        "\n",
        "D:\\Data\\output_charts_coherence_phase//COL30_ROW35_NFFT140_NLAP040.png"
       ]
      },
      {
       "output_type": "stream",
       "stream": "stdout",
       "text": [
        "\n",
        "D:\\Data\\output_charts_coherence_phase//COL30_ROW36_NFFT140_NLAP040.png"
       ]
      },
      {
       "output_type": "stream",
       "stream": "stdout",
       "text": [
        "\n",
        "D:\\Data\\output_charts_coherence_phase//COL31_ROW0_NFFT140_NLAP040.png"
       ]
      },
      {
       "output_type": "stream",
       "stream": "stdout",
       "text": [
        "\n",
        "D:\\Data\\output_charts_coherence_phase//COL31_ROW1_NFFT140_NLAP040.png"
       ]
      },
      {
       "output_type": "stream",
       "stream": "stdout",
       "text": [
        "\n",
        "D:\\Data\\output_charts_coherence_phase//COL31_ROW2_NFFT140_NLAP040.png"
       ]
      },
      {
       "output_type": "stream",
       "stream": "stdout",
       "text": [
        "\n",
        "D:\\Data\\output_charts_coherence_phase//COL31_ROW3_NFFT140_NLAP040.png"
       ]
      },
      {
       "output_type": "stream",
       "stream": "stdout",
       "text": [
        "\n",
        "D:\\Data\\output_charts_coherence_phase//COL31_ROW4_NFFT140_NLAP040.png"
       ]
      },
      {
       "output_type": "stream",
       "stream": "stdout",
       "text": [
        "\n",
        "D:\\Data\\output_charts_coherence_phase//COL31_ROW5_NFFT140_NLAP040.png"
       ]
      },
      {
       "output_type": "stream",
       "stream": "stdout",
       "text": [
        "\n",
        "D:\\Data\\output_charts_coherence_phase//COL31_ROW6_NFFT140_NLAP040.png"
       ]
      },
      {
       "output_type": "stream",
       "stream": "stdout",
       "text": [
        "\n",
        "D:\\Data\\output_charts_coherence_phase//COL31_ROW7_NFFT140_NLAP040.png"
       ]
      },
      {
       "output_type": "stream",
       "stream": "stdout",
       "text": [
        "\n",
        "D:\\Data\\output_charts_coherence_phase//COL31_ROW8_NFFT140_NLAP040.png"
       ]
      },
      {
       "output_type": "stream",
       "stream": "stdout",
       "text": [
        "\n",
        "D:\\Data\\output_charts_coherence_phase//COL31_ROW9_NFFT140_NLAP040.png"
       ]
      },
      {
       "output_type": "stream",
       "stream": "stdout",
       "text": [
        "\n",
        "D:\\Data\\output_charts_coherence_phase//COL31_ROW10_NFFT140_NLAP040.png"
       ]
      },
      {
       "output_type": "stream",
       "stream": "stdout",
       "text": [
        "\n",
        "D:\\Data\\output_charts_coherence_phase//COL31_ROW11_NFFT140_NLAP040.png"
       ]
      },
      {
       "output_type": "stream",
       "stream": "stdout",
       "text": [
        "\n",
        "D:\\Data\\output_charts_coherence_phase//COL31_ROW12_NFFT140_NLAP040.png"
       ]
      },
      {
       "output_type": "stream",
       "stream": "stdout",
       "text": [
        "\n",
        "D:\\Data\\output_charts_coherence_phase//COL31_ROW13_NFFT140_NLAP040.png"
       ]
      },
      {
       "output_type": "stream",
       "stream": "stdout",
       "text": [
        "\n",
        "D:\\Data\\output_charts_coherence_phase//COL31_ROW14_NFFT140_NLAP040.png"
       ]
      },
      {
       "output_type": "stream",
       "stream": "stdout",
       "text": [
        "\n",
        "D:\\Data\\output_charts_coherence_phase//COL31_ROW15_NFFT140_NLAP040.png"
       ]
      },
      {
       "output_type": "stream",
       "stream": "stdout",
       "text": [
        "\n",
        "D:\\Data\\output_charts_coherence_phase//COL31_ROW16_NFFT140_NLAP040.png"
       ]
      },
      {
       "output_type": "stream",
       "stream": "stdout",
       "text": [
        "\n",
        "D:\\Data\\output_charts_coherence_phase//COL31_ROW17_NFFT140_NLAP040.png"
       ]
      },
      {
       "output_type": "stream",
       "stream": "stdout",
       "text": [
        "\n",
        "D:\\Data\\output_charts_coherence_phase//COL31_ROW18_NFFT140_NLAP040.png"
       ]
      },
      {
       "output_type": "stream",
       "stream": "stdout",
       "text": [
        "\n",
        "D:\\Data\\output_charts_coherence_phase//COL31_ROW19_NFFT140_NLAP040.png"
       ]
      },
      {
       "output_type": "stream",
       "stream": "stdout",
       "text": [
        "\n",
        "D:\\Data\\output_charts_coherence_phase//COL31_ROW20_NFFT140_NLAP040.png"
       ]
      },
      {
       "output_type": "stream",
       "stream": "stdout",
       "text": [
        "\n",
        "D:\\Data\\output_charts_coherence_phase//COL31_ROW21_NFFT140_NLAP040.png"
       ]
      },
      {
       "output_type": "stream",
       "stream": "stdout",
       "text": [
        "\n",
        "D:\\Data\\output_charts_coherence_phase//COL31_ROW22_NFFT140_NLAP040.png"
       ]
      },
      {
       "output_type": "stream",
       "stream": "stdout",
       "text": [
        "\n",
        "D:\\Data\\output_charts_coherence_phase//COL31_ROW23_NFFT140_NLAP040.png"
       ]
      },
      {
       "output_type": "stream",
       "stream": "stdout",
       "text": [
        "\n",
        "D:\\Data\\output_charts_coherence_phase//COL31_ROW24_NFFT140_NLAP040.png"
       ]
      },
      {
       "output_type": "stream",
       "stream": "stdout",
       "text": [
        "\n",
        "D:\\Data\\output_charts_coherence_phase//COL31_ROW25_NFFT140_NLAP040.png"
       ]
      },
      {
       "output_type": "stream",
       "stream": "stdout",
       "text": [
        "\n",
        "D:\\Data\\output_charts_coherence_phase//COL31_ROW26_NFFT140_NLAP040.png"
       ]
      },
      {
       "output_type": "stream",
       "stream": "stdout",
       "text": [
        "\n",
        "D:\\Data\\output_charts_coherence_phase//COL31_ROW27_NFFT140_NLAP040.png"
       ]
      },
      {
       "output_type": "stream",
       "stream": "stdout",
       "text": [
        "\n",
        "D:\\Data\\output_charts_coherence_phase//COL31_ROW28_NFFT140_NLAP040.png"
       ]
      },
      {
       "output_type": "stream",
       "stream": "stdout",
       "text": [
        "\n",
        "D:\\Data\\output_charts_coherence_phase//COL31_ROW29_NFFT140_NLAP040.png"
       ]
      },
      {
       "output_type": "stream",
       "stream": "stdout",
       "text": [
        "\n",
        "D:\\Data\\output_charts_coherence_phase//COL31_ROW30_NFFT140_NLAP040.png"
       ]
      },
      {
       "output_type": "stream",
       "stream": "stdout",
       "text": [
        "\n",
        "D:\\Data\\output_charts_coherence_phase//COL31_ROW31_NFFT140_NLAP040.png"
       ]
      },
      {
       "output_type": "stream",
       "stream": "stdout",
       "text": [
        "\n",
        "D:\\Data\\output_charts_coherence_phase//COL31_ROW32_NFFT140_NLAP040.png"
       ]
      },
      {
       "output_type": "stream",
       "stream": "stdout",
       "text": [
        "\n",
        "D:\\Data\\output_charts_coherence_phase//COL31_ROW33_NFFT140_NLAP040.png"
       ]
      },
      {
       "output_type": "stream",
       "stream": "stdout",
       "text": [
        "\n",
        "D:\\Data\\output_charts_coherence_phase//COL31_ROW34_NFFT140_NLAP040.png"
       ]
      },
      {
       "output_type": "stream",
       "stream": "stdout",
       "text": [
        "\n",
        "D:\\Data\\output_charts_coherence_phase//COL31_ROW35_NFFT140_NLAP040.png"
       ]
      },
      {
       "output_type": "stream",
       "stream": "stdout",
       "text": [
        "\n",
        "D:\\Data\\output_charts_coherence_phase//COL31_ROW36_NFFT140_NLAP040.png"
       ]
      },
      {
       "output_type": "stream",
       "stream": "stdout",
       "text": [
        "\n",
        "D:\\Data\\output_charts_coherence_phase//COL32_ROW0_NFFT140_NLAP040.png"
       ]
      },
      {
       "output_type": "stream",
       "stream": "stdout",
       "text": [
        "\n",
        "D:\\Data\\output_charts_coherence_phase//COL32_ROW1_NFFT140_NLAP040.png"
       ]
      },
      {
       "output_type": "stream",
       "stream": "stdout",
       "text": [
        "\n",
        "D:\\Data\\output_charts_coherence_phase//COL32_ROW2_NFFT140_NLAP040.png"
       ]
      },
      {
       "output_type": "stream",
       "stream": "stdout",
       "text": [
        "\n",
        "D:\\Data\\output_charts_coherence_phase//COL32_ROW3_NFFT140_NLAP040.png"
       ]
      },
      {
       "output_type": "stream",
       "stream": "stdout",
       "text": [
        "\n",
        "D:\\Data\\output_charts_coherence_phase//COL32_ROW4_NFFT140_NLAP040.png"
       ]
      },
      {
       "output_type": "stream",
       "stream": "stdout",
       "text": [
        "\n",
        "D:\\Data\\output_charts_coherence_phase//COL32_ROW5_NFFT140_NLAP040.png"
       ]
      },
      {
       "output_type": "stream",
       "stream": "stdout",
       "text": [
        "\n",
        "D:\\Data\\output_charts_coherence_phase//COL32_ROW6_NFFT140_NLAP040.png"
       ]
      },
      {
       "output_type": "stream",
       "stream": "stdout",
       "text": [
        "\n",
        "D:\\Data\\output_charts_coherence_phase//COL32_ROW7_NFFT140_NLAP040.png"
       ]
      },
      {
       "output_type": "stream",
       "stream": "stdout",
       "text": [
        "\n",
        "D:\\Data\\output_charts_coherence_phase//COL32_ROW8_NFFT140_NLAP040.png"
       ]
      },
      {
       "output_type": "stream",
       "stream": "stdout",
       "text": [
        "\n",
        "D:\\Data\\output_charts_coherence_phase//COL32_ROW9_NFFT140_NLAP040.png"
       ]
      },
      {
       "output_type": "stream",
       "stream": "stdout",
       "text": [
        "\n",
        "D:\\Data\\output_charts_coherence_phase//COL32_ROW10_NFFT140_NLAP040.png"
       ]
      },
      {
       "output_type": "stream",
       "stream": "stdout",
       "text": [
        "\n",
        "D:\\Data\\output_charts_coherence_phase//COL32_ROW11_NFFT140_NLAP040.png"
       ]
      },
      {
       "output_type": "stream",
       "stream": "stdout",
       "text": [
        "\n",
        "D:\\Data\\output_charts_coherence_phase//COL32_ROW12_NFFT140_NLAP040.png"
       ]
      },
      {
       "output_type": "stream",
       "stream": "stdout",
       "text": [
        "\n",
        "D:\\Data\\output_charts_coherence_phase//COL32_ROW13_NFFT140_NLAP040.png"
       ]
      },
      {
       "output_type": "stream",
       "stream": "stdout",
       "text": [
        "\n",
        "D:\\Data\\output_charts_coherence_phase//COL32_ROW14_NFFT140_NLAP040.png"
       ]
      },
      {
       "output_type": "stream",
       "stream": "stdout",
       "text": [
        "\n",
        "D:\\Data\\output_charts_coherence_phase//COL32_ROW15_NFFT140_NLAP040.png"
       ]
      },
      {
       "output_type": "stream",
       "stream": "stdout",
       "text": [
        "\n",
        "D:\\Data\\output_charts_coherence_phase//COL32_ROW16_NFFT140_NLAP040.png"
       ]
      },
      {
       "output_type": "stream",
       "stream": "stdout",
       "text": [
        "\n",
        "D:\\Data\\output_charts_coherence_phase//COL32_ROW17_NFFT140_NLAP040.png"
       ]
      },
      {
       "output_type": "stream",
       "stream": "stdout",
       "text": [
        "\n",
        "D:\\Data\\output_charts_coherence_phase//COL32_ROW18_NFFT140_NLAP040.png"
       ]
      },
      {
       "output_type": "stream",
       "stream": "stdout",
       "text": [
        "\n",
        "D:\\Data\\output_charts_coherence_phase//COL32_ROW19_NFFT140_NLAP040.png"
       ]
      },
      {
       "output_type": "stream",
       "stream": "stdout",
       "text": [
        "\n",
        "D:\\Data\\output_charts_coherence_phase//COL32_ROW20_NFFT140_NLAP040.png"
       ]
      },
      {
       "output_type": "stream",
       "stream": "stdout",
       "text": [
        "\n",
        "D:\\Data\\output_charts_coherence_phase//COL32_ROW21_NFFT140_NLAP040.png"
       ]
      },
      {
       "output_type": "stream",
       "stream": "stdout",
       "text": [
        "\n",
        "D:\\Data\\output_charts_coherence_phase//COL32_ROW22_NFFT140_NLAP040.png"
       ]
      },
      {
       "output_type": "stream",
       "stream": "stdout",
       "text": [
        "\n",
        "D:\\Data\\output_charts_coherence_phase//COL32_ROW23_NFFT140_NLAP040.png"
       ]
      },
      {
       "output_type": "stream",
       "stream": "stdout",
       "text": [
        "\n",
        "D:\\Data\\output_charts_coherence_phase//COL32_ROW24_NFFT140_NLAP040.png"
       ]
      },
      {
       "output_type": "stream",
       "stream": "stdout",
       "text": [
        "\n",
        "D:\\Data\\output_charts_coherence_phase//COL32_ROW25_NFFT140_NLAP040.png"
       ]
      },
      {
       "output_type": "stream",
       "stream": "stdout",
       "text": [
        "\n",
        "D:\\Data\\output_charts_coherence_phase//COL32_ROW26_NFFT140_NLAP040.png"
       ]
      },
      {
       "output_type": "stream",
       "stream": "stdout",
       "text": [
        "\n",
        "D:\\Data\\output_charts_coherence_phase//COL32_ROW27_NFFT140_NLAP040.png"
       ]
      },
      {
       "output_type": "stream",
       "stream": "stdout",
       "text": [
        "\n",
        "D:\\Data\\output_charts_coherence_phase//COL32_ROW28_NFFT140_NLAP040.png"
       ]
      },
      {
       "output_type": "stream",
       "stream": "stdout",
       "text": [
        "\n",
        "D:\\Data\\output_charts_coherence_phase//COL32_ROW29_NFFT140_NLAP040.png"
       ]
      },
      {
       "output_type": "stream",
       "stream": "stdout",
       "text": [
        "\n",
        "D:\\Data\\output_charts_coherence_phase//COL32_ROW30_NFFT140_NLAP040.png"
       ]
      },
      {
       "output_type": "stream",
       "stream": "stdout",
       "text": [
        "\n",
        "D:\\Data\\output_charts_coherence_phase//COL32_ROW31_NFFT140_NLAP040.png"
       ]
      },
      {
       "output_type": "stream",
       "stream": "stdout",
       "text": [
        "\n",
        "D:\\Data\\output_charts_coherence_phase//COL32_ROW32_NFFT140_NLAP040.png"
       ]
      },
      {
       "output_type": "stream",
       "stream": "stdout",
       "text": [
        "\n",
        "D:\\Data\\output_charts_coherence_phase//COL32_ROW33_NFFT140_NLAP040.png"
       ]
      },
      {
       "output_type": "stream",
       "stream": "stdout",
       "text": [
        "\n",
        "D:\\Data\\output_charts_coherence_phase//COL32_ROW34_NFFT140_NLAP040.png"
       ]
      },
      {
       "output_type": "stream",
       "stream": "stdout",
       "text": [
        "\n",
        "D:\\Data\\output_charts_coherence_phase//COL32_ROW35_NFFT140_NLAP040.png"
       ]
      },
      {
       "output_type": "stream",
       "stream": "stdout",
       "text": [
        "\n",
        "D:\\Data\\output_charts_coherence_phase//COL32_ROW36_NFFT140_NLAP040.png"
       ]
      },
      {
       "output_type": "stream",
       "stream": "stdout",
       "text": [
        "\n",
        "D:\\Data\\output_charts_coherence_phase//COL33_ROW0_NFFT140_NLAP040.png"
       ]
      },
      {
       "output_type": "stream",
       "stream": "stdout",
       "text": [
        "\n",
        "D:\\Data\\output_charts_coherence_phase//COL33_ROW1_NFFT140_NLAP040.png"
       ]
      },
      {
       "output_type": "stream",
       "stream": "stdout",
       "text": [
        "\n",
        "D:\\Data\\output_charts_coherence_phase//COL33_ROW2_NFFT140_NLAP040.png"
       ]
      },
      {
       "output_type": "stream",
       "stream": "stdout",
       "text": [
        "\n",
        "D:\\Data\\output_charts_coherence_phase//COL33_ROW3_NFFT140_NLAP040.png"
       ]
      },
      {
       "output_type": "stream",
       "stream": "stdout",
       "text": [
        "\n",
        "D:\\Data\\output_charts_coherence_phase//COL33_ROW4_NFFT140_NLAP040.png"
       ]
      },
      {
       "output_type": "stream",
       "stream": "stdout",
       "text": [
        "\n",
        "D:\\Data\\output_charts_coherence_phase//COL33_ROW5_NFFT140_NLAP040.png"
       ]
      },
      {
       "output_type": "stream",
       "stream": "stdout",
       "text": [
        "\n",
        "D:\\Data\\output_charts_coherence_phase//COL33_ROW6_NFFT140_NLAP040.png"
       ]
      },
      {
       "output_type": "stream",
       "stream": "stdout",
       "text": [
        "\n",
        "D:\\Data\\output_charts_coherence_phase//COL33_ROW7_NFFT140_NLAP040.png"
       ]
      },
      {
       "output_type": "stream",
       "stream": "stdout",
       "text": [
        "\n",
        "D:\\Data\\output_charts_coherence_phase//COL33_ROW8_NFFT140_NLAP040.png"
       ]
      },
      {
       "output_type": "stream",
       "stream": "stdout",
       "text": [
        "\n",
        "D:\\Data\\output_charts_coherence_phase//COL33_ROW9_NFFT140_NLAP040.png"
       ]
      },
      {
       "output_type": "stream",
       "stream": "stdout",
       "text": [
        "\n",
        "D:\\Data\\output_charts_coherence_phase//COL33_ROW10_NFFT140_NLAP040.png"
       ]
      },
      {
       "output_type": "stream",
       "stream": "stdout",
       "text": [
        "\n",
        "D:\\Data\\output_charts_coherence_phase//COL33_ROW11_NFFT140_NLAP040.png"
       ]
      },
      {
       "output_type": "stream",
       "stream": "stdout",
       "text": [
        "\n",
        "D:\\Data\\output_charts_coherence_phase//COL33_ROW12_NFFT140_NLAP040.png"
       ]
      },
      {
       "output_type": "stream",
       "stream": "stdout",
       "text": [
        "\n",
        "D:\\Data\\output_charts_coherence_phase//COL33_ROW13_NFFT140_NLAP040.png"
       ]
      },
      {
       "output_type": "stream",
       "stream": "stdout",
       "text": [
        "\n",
        "D:\\Data\\output_charts_coherence_phase//COL33_ROW14_NFFT140_NLAP040.png"
       ]
      },
      {
       "output_type": "stream",
       "stream": "stdout",
       "text": [
        "\n",
        "D:\\Data\\output_charts_coherence_phase//COL33_ROW15_NFFT140_NLAP040.png"
       ]
      },
      {
       "output_type": "stream",
       "stream": "stdout",
       "text": [
        "\n",
        "D:\\Data\\output_charts_coherence_phase//COL33_ROW16_NFFT140_NLAP040.png"
       ]
      },
      {
       "output_type": "stream",
       "stream": "stdout",
       "text": [
        "\n",
        "D:\\Data\\output_charts_coherence_phase//COL33_ROW17_NFFT140_NLAP040.png"
       ]
      },
      {
       "output_type": "stream",
       "stream": "stdout",
       "text": [
        "\n",
        "D:\\Data\\output_charts_coherence_phase//COL33_ROW18_NFFT140_NLAP040.png"
       ]
      },
      {
       "output_type": "stream",
       "stream": "stdout",
       "text": [
        "\n",
        "D:\\Data\\output_charts_coherence_phase//COL33_ROW19_NFFT140_NLAP040.png"
       ]
      },
      {
       "output_type": "stream",
       "stream": "stdout",
       "text": [
        "\n",
        "D:\\Data\\output_charts_coherence_phase//COL33_ROW20_NFFT140_NLAP040.png"
       ]
      },
      {
       "output_type": "stream",
       "stream": "stdout",
       "text": [
        "\n",
        "D:\\Data\\output_charts_coherence_phase//COL33_ROW21_NFFT140_NLAP040.png"
       ]
      },
      {
       "output_type": "stream",
       "stream": "stdout",
       "text": [
        "\n",
        "D:\\Data\\output_charts_coherence_phase//COL33_ROW22_NFFT140_NLAP040.png"
       ]
      },
      {
       "output_type": "stream",
       "stream": "stdout",
       "text": [
        "\n",
        "D:\\Data\\output_charts_coherence_phase//COL33_ROW23_NFFT140_NLAP040.png"
       ]
      },
      {
       "output_type": "stream",
       "stream": "stdout",
       "text": [
        "\n",
        "D:\\Data\\output_charts_coherence_phase//COL33_ROW24_NFFT140_NLAP040.png"
       ]
      },
      {
       "output_type": "stream",
       "stream": "stdout",
       "text": [
        "\n",
        "D:\\Data\\output_charts_coherence_phase//COL33_ROW25_NFFT140_NLAP040.png"
       ]
      },
      {
       "output_type": "stream",
       "stream": "stdout",
       "text": [
        "\n",
        "D:\\Data\\output_charts_coherence_phase//COL33_ROW26_NFFT140_NLAP040.png"
       ]
      },
      {
       "output_type": "stream",
       "stream": "stdout",
       "text": [
        "\n",
        "D:\\Data\\output_charts_coherence_phase//COL33_ROW27_NFFT140_NLAP040.png"
       ]
      },
      {
       "output_type": "stream",
       "stream": "stdout",
       "text": [
        "\n",
        "D:\\Data\\output_charts_coherence_phase//COL33_ROW28_NFFT140_NLAP040.png"
       ]
      },
      {
       "output_type": "stream",
       "stream": "stdout",
       "text": [
        "\n",
        "D:\\Data\\output_charts_coherence_phase//COL33_ROW29_NFFT140_NLAP040.png"
       ]
      },
      {
       "output_type": "stream",
       "stream": "stdout",
       "text": [
        "\n",
        "D:\\Data\\output_charts_coherence_phase//COL33_ROW30_NFFT140_NLAP040.png"
       ]
      },
      {
       "output_type": "stream",
       "stream": "stdout",
       "text": [
        "\n",
        "D:\\Data\\output_charts_coherence_phase//COL33_ROW31_NFFT140_NLAP040.png"
       ]
      },
      {
       "output_type": "stream",
       "stream": "stdout",
       "text": [
        "\n",
        "D:\\Data\\output_charts_coherence_phase//COL33_ROW32_NFFT140_NLAP040.png"
       ]
      },
      {
       "output_type": "stream",
       "stream": "stdout",
       "text": [
        "\n",
        "D:\\Data\\output_charts_coherence_phase//COL33_ROW33_NFFT140_NLAP040.png"
       ]
      },
      {
       "output_type": "stream",
       "stream": "stdout",
       "text": [
        "\n",
        "D:\\Data\\output_charts_coherence_phase//COL33_ROW34_NFFT140_NLAP040.png"
       ]
      },
      {
       "output_type": "stream",
       "stream": "stdout",
       "text": [
        "\n",
        "D:\\Data\\output_charts_coherence_phase//COL33_ROW35_NFFT140_NLAP040.png"
       ]
      },
      {
       "output_type": "stream",
       "stream": "stdout",
       "text": [
        "\n",
        "D:\\Data\\output_charts_coherence_phase//COL33_ROW36_NFFT140_NLAP040.png"
       ]
      },
      {
       "output_type": "stream",
       "stream": "stdout",
       "text": [
        "\n",
        "D:\\Data\\output_charts_coherence_phase//COL34_ROW0_NFFT140_NLAP040.png"
       ]
      },
      {
       "output_type": "stream",
       "stream": "stdout",
       "text": [
        "\n",
        "D:\\Data\\output_charts_coherence_phase//COL34_ROW1_NFFT140_NLAP040.png"
       ]
      },
      {
       "output_type": "stream",
       "stream": "stdout",
       "text": [
        "\n",
        "D:\\Data\\output_charts_coherence_phase//COL34_ROW2_NFFT140_NLAP040.png"
       ]
      },
      {
       "output_type": "stream",
       "stream": "stdout",
       "text": [
        "\n",
        "D:\\Data\\output_charts_coherence_phase//COL34_ROW3_NFFT140_NLAP040.png"
       ]
      },
      {
       "output_type": "stream",
       "stream": "stdout",
       "text": [
        "\n",
        "D:\\Data\\output_charts_coherence_phase//COL34_ROW4_NFFT140_NLAP040.png"
       ]
      },
      {
       "output_type": "stream",
       "stream": "stdout",
       "text": [
        "\n",
        "D:\\Data\\output_charts_coherence_phase//COL34_ROW5_NFFT140_NLAP040.png"
       ]
      },
      {
       "output_type": "stream",
       "stream": "stdout",
       "text": [
        "\n",
        "D:\\Data\\output_charts_coherence_phase//COL34_ROW6_NFFT140_NLAP040.png"
       ]
      },
      {
       "output_type": "stream",
       "stream": "stdout",
       "text": [
        "\n",
        "D:\\Data\\output_charts_coherence_phase//COL34_ROW7_NFFT140_NLAP040.png"
       ]
      },
      {
       "output_type": "stream",
       "stream": "stdout",
       "text": [
        "\n",
        "D:\\Data\\output_charts_coherence_phase//COL34_ROW8_NFFT140_NLAP040.png"
       ]
      },
      {
       "output_type": "stream",
       "stream": "stdout",
       "text": [
        "\n",
        "D:\\Data\\output_charts_coherence_phase//COL34_ROW9_NFFT140_NLAP040.png"
       ]
      },
      {
       "output_type": "stream",
       "stream": "stdout",
       "text": [
        "\n",
        "D:\\Data\\output_charts_coherence_phase//COL34_ROW10_NFFT140_NLAP040.png"
       ]
      },
      {
       "output_type": "stream",
       "stream": "stdout",
       "text": [
        "\n",
        "D:\\Data\\output_charts_coherence_phase//COL34_ROW11_NFFT140_NLAP040.png"
       ]
      },
      {
       "output_type": "stream",
       "stream": "stdout",
       "text": [
        "\n",
        "D:\\Data\\output_charts_coherence_phase//COL34_ROW12_NFFT140_NLAP040.png"
       ]
      },
      {
       "output_type": "stream",
       "stream": "stdout",
       "text": [
        "\n",
        "D:\\Data\\output_charts_coherence_phase//COL34_ROW13_NFFT140_NLAP040.png"
       ]
      },
      {
       "output_type": "stream",
       "stream": "stdout",
       "text": [
        "\n",
        "D:\\Data\\output_charts_coherence_phase//COL34_ROW14_NFFT140_NLAP040.png"
       ]
      },
      {
       "output_type": "stream",
       "stream": "stdout",
       "text": [
        "\n",
        "D:\\Data\\output_charts_coherence_phase//COL34_ROW15_NFFT140_NLAP040.png"
       ]
      },
      {
       "output_type": "stream",
       "stream": "stdout",
       "text": [
        "\n",
        "D:\\Data\\output_charts_coherence_phase//COL34_ROW16_NFFT140_NLAP040.png"
       ]
      },
      {
       "output_type": "stream",
       "stream": "stdout",
       "text": [
        "\n",
        "D:\\Data\\output_charts_coherence_phase//COL34_ROW17_NFFT140_NLAP040.png"
       ]
      },
      {
       "output_type": "stream",
       "stream": "stdout",
       "text": [
        "\n",
        "D:\\Data\\output_charts_coherence_phase//COL34_ROW18_NFFT140_NLAP040.png"
       ]
      },
      {
       "output_type": "stream",
       "stream": "stdout",
       "text": [
        "\n",
        "D:\\Data\\output_charts_coherence_phase//COL34_ROW19_NFFT140_NLAP040.png"
       ]
      },
      {
       "output_type": "stream",
       "stream": "stdout",
       "text": [
        "\n",
        "D:\\Data\\output_charts_coherence_phase//COL34_ROW20_NFFT140_NLAP040.png"
       ]
      },
      {
       "output_type": "stream",
       "stream": "stdout",
       "text": [
        "\n",
        "D:\\Data\\output_charts_coherence_phase//COL34_ROW21_NFFT140_NLAP040.png"
       ]
      },
      {
       "output_type": "stream",
       "stream": "stdout",
       "text": [
        "\n",
        "D:\\Data\\output_charts_coherence_phase//COL34_ROW22_NFFT140_NLAP040.png"
       ]
      },
      {
       "output_type": "stream",
       "stream": "stdout",
       "text": [
        "\n",
        "D:\\Data\\output_charts_coherence_phase//COL34_ROW23_NFFT140_NLAP040.png"
       ]
      },
      {
       "output_type": "stream",
       "stream": "stdout",
       "text": [
        "\n",
        "D:\\Data\\output_charts_coherence_phase//COL34_ROW24_NFFT140_NLAP040.png"
       ]
      },
      {
       "output_type": "stream",
       "stream": "stdout",
       "text": [
        "\n",
        "D:\\Data\\output_charts_coherence_phase//COL34_ROW25_NFFT140_NLAP040.png"
       ]
      },
      {
       "output_type": "stream",
       "stream": "stdout",
       "text": [
        "\n",
        "D:\\Data\\output_charts_coherence_phase//COL34_ROW26_NFFT140_NLAP040.png"
       ]
      },
      {
       "output_type": "stream",
       "stream": "stdout",
       "text": [
        "\n",
        "D:\\Data\\output_charts_coherence_phase//COL34_ROW27_NFFT140_NLAP040.png"
       ]
      },
      {
       "output_type": "stream",
       "stream": "stdout",
       "text": [
        "\n",
        "D:\\Data\\output_charts_coherence_phase//COL34_ROW28_NFFT140_NLAP040.png"
       ]
      },
      {
       "output_type": "stream",
       "stream": "stdout",
       "text": [
        "\n",
        "D:\\Data\\output_charts_coherence_phase//COL34_ROW29_NFFT140_NLAP040.png"
       ]
      },
      {
       "output_type": "stream",
       "stream": "stdout",
       "text": [
        "\n",
        "D:\\Data\\output_charts_coherence_phase//COL34_ROW30_NFFT140_NLAP040.png"
       ]
      },
      {
       "output_type": "stream",
       "stream": "stdout",
       "text": [
        "\n",
        "D:\\Data\\output_charts_coherence_phase//COL34_ROW31_NFFT140_NLAP040.png"
       ]
      },
      {
       "output_type": "stream",
       "stream": "stdout",
       "text": [
        "\n",
        "D:\\Data\\output_charts_coherence_phase//COL34_ROW32_NFFT140_NLAP040.png"
       ]
      },
      {
       "output_type": "stream",
       "stream": "stdout",
       "text": [
        "\n",
        "D:\\Data\\output_charts_coherence_phase//COL34_ROW33_NFFT140_NLAP040.png"
       ]
      },
      {
       "output_type": "stream",
       "stream": "stdout",
       "text": [
        "\n",
        "D:\\Data\\output_charts_coherence_phase//COL34_ROW34_NFFT140_NLAP040.png"
       ]
      },
      {
       "output_type": "stream",
       "stream": "stdout",
       "text": [
        "\n",
        "D:\\Data\\output_charts_coherence_phase//COL34_ROW35_NFFT140_NLAP040.png"
       ]
      },
      {
       "output_type": "stream",
       "stream": "stdout",
       "text": [
        "\n",
        "D:\\Data\\output_charts_coherence_phase//COL34_ROW36_NFFT140_NLAP040.png"
       ]
      },
      {
       "output_type": "stream",
       "stream": "stdout",
       "text": [
        "\n",
        "D:\\Data\\output_charts_coherence_phase//COL35_ROW0_NFFT140_NLAP040.png"
       ]
      },
      {
       "output_type": "stream",
       "stream": "stdout",
       "text": [
        "\n",
        "D:\\Data\\output_charts_coherence_phase//COL35_ROW1_NFFT140_NLAP040.png"
       ]
      },
      {
       "output_type": "stream",
       "stream": "stdout",
       "text": [
        "\n",
        "D:\\Data\\output_charts_coherence_phase//COL35_ROW2_NFFT140_NLAP040.png"
       ]
      },
      {
       "output_type": "stream",
       "stream": "stdout",
       "text": [
        "\n",
        "D:\\Data\\output_charts_coherence_phase//COL35_ROW3_NFFT140_NLAP040.png"
       ]
      },
      {
       "output_type": "stream",
       "stream": "stdout",
       "text": [
        "\n",
        "D:\\Data\\output_charts_coherence_phase//COL35_ROW4_NFFT140_NLAP040.png"
       ]
      },
      {
       "output_type": "stream",
       "stream": "stdout",
       "text": [
        "\n",
        "D:\\Data\\output_charts_coherence_phase//COL35_ROW5_NFFT140_NLAP040.png"
       ]
      },
      {
       "output_type": "stream",
       "stream": "stdout",
       "text": [
        "\n",
        "D:\\Data\\output_charts_coherence_phase//COL35_ROW6_NFFT140_NLAP040.png"
       ]
      },
      {
       "output_type": "stream",
       "stream": "stdout",
       "text": [
        "\n",
        "D:\\Data\\output_charts_coherence_phase//COL35_ROW7_NFFT140_NLAP040.png"
       ]
      },
      {
       "output_type": "stream",
       "stream": "stdout",
       "text": [
        "\n",
        "D:\\Data\\output_charts_coherence_phase//COL35_ROW8_NFFT140_NLAP040.png"
       ]
      },
      {
       "output_type": "stream",
       "stream": "stdout",
       "text": [
        "\n",
        "D:\\Data\\output_charts_coherence_phase//COL35_ROW9_NFFT140_NLAP040.png"
       ]
      },
      {
       "output_type": "stream",
       "stream": "stdout",
       "text": [
        "\n",
        "D:\\Data\\output_charts_coherence_phase//COL35_ROW10_NFFT140_NLAP040.png"
       ]
      },
      {
       "output_type": "stream",
       "stream": "stdout",
       "text": [
        "\n",
        "D:\\Data\\output_charts_coherence_phase//COL35_ROW11_NFFT140_NLAP040.png"
       ]
      },
      {
       "output_type": "stream",
       "stream": "stdout",
       "text": [
        "\n",
        "D:\\Data\\output_charts_coherence_phase//COL35_ROW12_NFFT140_NLAP040.png"
       ]
      },
      {
       "output_type": "stream",
       "stream": "stdout",
       "text": [
        "\n",
        "D:\\Data\\output_charts_coherence_phase//COL35_ROW13_NFFT140_NLAP040.png"
       ]
      },
      {
       "output_type": "stream",
       "stream": "stdout",
       "text": [
        "\n",
        "D:\\Data\\output_charts_coherence_phase//COL35_ROW14_NFFT140_NLAP040.png"
       ]
      },
      {
       "output_type": "stream",
       "stream": "stdout",
       "text": [
        "\n",
        "D:\\Data\\output_charts_coherence_phase//COL35_ROW15_NFFT140_NLAP040.png"
       ]
      },
      {
       "output_type": "stream",
       "stream": "stdout",
       "text": [
        "\n",
        "D:\\Data\\output_charts_coherence_phase//COL35_ROW16_NFFT140_NLAP040.png"
       ]
      },
      {
       "output_type": "stream",
       "stream": "stdout",
       "text": [
        "\n",
        "D:\\Data\\output_charts_coherence_phase//COL35_ROW17_NFFT140_NLAP040.png"
       ]
      },
      {
       "output_type": "stream",
       "stream": "stdout",
       "text": [
        "\n",
        "D:\\Data\\output_charts_coherence_phase//COL35_ROW18_NFFT140_NLAP040.png"
       ]
      },
      {
       "output_type": "stream",
       "stream": "stdout",
       "text": [
        "\n",
        "D:\\Data\\output_charts_coherence_phase//COL35_ROW19_NFFT140_NLAP040.png"
       ]
      },
      {
       "output_type": "stream",
       "stream": "stdout",
       "text": [
        "\n",
        "D:\\Data\\output_charts_coherence_phase//COL35_ROW20_NFFT140_NLAP040.png"
       ]
      },
      {
       "output_type": "stream",
       "stream": "stdout",
       "text": [
        "\n",
        "D:\\Data\\output_charts_coherence_phase//COL35_ROW21_NFFT140_NLAP040.png"
       ]
      },
      {
       "output_type": "stream",
       "stream": "stdout",
       "text": [
        "\n",
        "D:\\Data\\output_charts_coherence_phase//COL35_ROW22_NFFT140_NLAP040.png"
       ]
      },
      {
       "output_type": "stream",
       "stream": "stdout",
       "text": [
        "\n",
        "D:\\Data\\output_charts_coherence_phase//COL35_ROW23_NFFT140_NLAP040.png"
       ]
      },
      {
       "output_type": "stream",
       "stream": "stdout",
       "text": [
        "\n",
        "D:\\Data\\output_charts_coherence_phase//COL35_ROW24_NFFT140_NLAP040.png"
       ]
      },
      {
       "output_type": "stream",
       "stream": "stdout",
       "text": [
        "\n",
        "D:\\Data\\output_charts_coherence_phase//COL35_ROW25_NFFT140_NLAP040.png"
       ]
      },
      {
       "output_type": "stream",
       "stream": "stdout",
       "text": [
        "\n",
        "D:\\Data\\output_charts_coherence_phase//COL35_ROW26_NFFT140_NLAP040.png"
       ]
      },
      {
       "output_type": "stream",
       "stream": "stdout",
       "text": [
        "\n",
        "D:\\Data\\output_charts_coherence_phase//COL35_ROW27_NFFT140_NLAP040.png"
       ]
      },
      {
       "output_type": "stream",
       "stream": "stdout",
       "text": [
        "\n",
        "D:\\Data\\output_charts_coherence_phase//COL35_ROW28_NFFT140_NLAP040.png"
       ]
      },
      {
       "output_type": "stream",
       "stream": "stdout",
       "text": [
        "\n",
        "D:\\Data\\output_charts_coherence_phase//COL35_ROW29_NFFT140_NLAP040.png"
       ]
      },
      {
       "output_type": "stream",
       "stream": "stdout",
       "text": [
        "\n",
        "D:\\Data\\output_charts_coherence_phase//COL35_ROW30_NFFT140_NLAP040.png"
       ]
      },
      {
       "output_type": "stream",
       "stream": "stdout",
       "text": [
        "\n",
        "D:\\Data\\output_charts_coherence_phase//COL35_ROW31_NFFT140_NLAP040.png"
       ]
      },
      {
       "output_type": "stream",
       "stream": "stdout",
       "text": [
        "\n",
        "D:\\Data\\output_charts_coherence_phase//COL35_ROW32_NFFT140_NLAP040.png"
       ]
      },
      {
       "output_type": "stream",
       "stream": "stdout",
       "text": [
        "\n",
        "D:\\Data\\output_charts_coherence_phase//COL35_ROW33_NFFT140_NLAP040.png"
       ]
      },
      {
       "output_type": "stream",
       "stream": "stdout",
       "text": [
        "\n",
        "D:\\Data\\output_charts_coherence_phase//COL35_ROW34_NFFT140_NLAP040.png"
       ]
      },
      {
       "output_type": "stream",
       "stream": "stdout",
       "text": [
        "\n",
        "D:\\Data\\output_charts_coherence_phase//COL35_ROW35_NFFT140_NLAP040.png"
       ]
      },
      {
       "output_type": "stream",
       "stream": "stdout",
       "text": [
        "\n",
        "D:\\Data\\output_charts_coherence_phase//COL35_ROW36_NFFT140_NLAP040.png"
       ]
      },
      {
       "output_type": "stream",
       "stream": "stdout",
       "text": [
        "\n",
        "D:\\Data\\output_charts_coherence_phase//COL36_ROW0_NFFT140_NLAP040.png"
       ]
      },
      {
       "output_type": "stream",
       "stream": "stdout",
       "text": [
        "\n",
        "D:\\Data\\output_charts_coherence_phase//COL36_ROW1_NFFT140_NLAP040.png"
       ]
      },
      {
       "output_type": "stream",
       "stream": "stdout",
       "text": [
        "\n",
        "D:\\Data\\output_charts_coherence_phase//COL36_ROW2_NFFT140_NLAP040.png"
       ]
      },
      {
       "output_type": "stream",
       "stream": "stdout",
       "text": [
        "\n",
        "D:\\Data\\output_charts_coherence_phase//COL36_ROW3_NFFT140_NLAP040.png"
       ]
      },
      {
       "output_type": "stream",
       "stream": "stdout",
       "text": [
        "\n",
        "D:\\Data\\output_charts_coherence_phase//COL36_ROW4_NFFT140_NLAP040.png"
       ]
      },
      {
       "output_type": "stream",
       "stream": "stdout",
       "text": [
        "\n",
        "D:\\Data\\output_charts_coherence_phase//COL36_ROW5_NFFT140_NLAP040.png"
       ]
      },
      {
       "output_type": "stream",
       "stream": "stdout",
       "text": [
        "\n",
        "D:\\Data\\output_charts_coherence_phase//COL36_ROW6_NFFT140_NLAP040.png"
       ]
      },
      {
       "output_type": "stream",
       "stream": "stdout",
       "text": [
        "\n",
        "D:\\Data\\output_charts_coherence_phase//COL36_ROW7_NFFT140_NLAP040.png"
       ]
      },
      {
       "output_type": "stream",
       "stream": "stdout",
       "text": [
        "\n",
        "D:\\Data\\output_charts_coherence_phase//COL36_ROW8_NFFT140_NLAP040.png"
       ]
      },
      {
       "output_type": "stream",
       "stream": "stdout",
       "text": [
        "\n",
        "D:\\Data\\output_charts_coherence_phase//COL36_ROW9_NFFT140_NLAP040.png"
       ]
      },
      {
       "output_type": "stream",
       "stream": "stdout",
       "text": [
        "\n",
        "D:\\Data\\output_charts_coherence_phase//COL36_ROW10_NFFT140_NLAP040.png"
       ]
      },
      {
       "output_type": "stream",
       "stream": "stdout",
       "text": [
        "\n",
        "D:\\Data\\output_charts_coherence_phase//COL36_ROW11_NFFT140_NLAP040.png"
       ]
      },
      {
       "output_type": "stream",
       "stream": "stdout",
       "text": [
        "\n",
        "D:\\Data\\output_charts_coherence_phase//COL36_ROW12_NFFT140_NLAP040.png"
       ]
      },
      {
       "output_type": "stream",
       "stream": "stdout",
       "text": [
        "\n",
        "D:\\Data\\output_charts_coherence_phase//COL36_ROW13_NFFT140_NLAP040.png"
       ]
      },
      {
       "output_type": "stream",
       "stream": "stdout",
       "text": [
        "\n",
        "D:\\Data\\output_charts_coherence_phase//COL36_ROW14_NFFT140_NLAP040.png"
       ]
      },
      {
       "output_type": "stream",
       "stream": "stdout",
       "text": [
        "\n",
        "D:\\Data\\output_charts_coherence_phase//COL36_ROW15_NFFT140_NLAP040.png"
       ]
      },
      {
       "output_type": "stream",
       "stream": "stdout",
       "text": [
        "\n",
        "D:\\Data\\output_charts_coherence_phase//COL36_ROW16_NFFT140_NLAP040.png"
       ]
      },
      {
       "output_type": "stream",
       "stream": "stdout",
       "text": [
        "\n",
        "D:\\Data\\output_charts_coherence_phase//COL36_ROW17_NFFT140_NLAP040.png"
       ]
      },
      {
       "output_type": "stream",
       "stream": "stdout",
       "text": [
        "\n",
        "D:\\Data\\output_charts_coherence_phase//COL36_ROW18_NFFT140_NLAP040.png"
       ]
      },
      {
       "output_type": "stream",
       "stream": "stdout",
       "text": [
        "\n",
        "D:\\Data\\output_charts_coherence_phase//COL36_ROW19_NFFT140_NLAP040.png"
       ]
      },
      {
       "output_type": "stream",
       "stream": "stdout",
       "text": [
        "\n",
        "D:\\Data\\output_charts_coherence_phase//COL36_ROW20_NFFT140_NLAP040.png"
       ]
      },
      {
       "output_type": "stream",
       "stream": "stdout",
       "text": [
        "\n",
        "D:\\Data\\output_charts_coherence_phase//COL36_ROW21_NFFT140_NLAP040.png"
       ]
      },
      {
       "output_type": "stream",
       "stream": "stdout",
       "text": [
        "\n",
        "D:\\Data\\output_charts_coherence_phase//COL36_ROW22_NFFT140_NLAP040.png"
       ]
      },
      {
       "output_type": "stream",
       "stream": "stdout",
       "text": [
        "\n",
        "D:\\Data\\output_charts_coherence_phase//COL36_ROW23_NFFT140_NLAP040.png"
       ]
      },
      {
       "output_type": "stream",
       "stream": "stdout",
       "text": [
        "\n",
        "D:\\Data\\output_charts_coherence_phase//COL36_ROW24_NFFT140_NLAP040.png"
       ]
      },
      {
       "output_type": "stream",
       "stream": "stdout",
       "text": [
        "\n",
        "D:\\Data\\output_charts_coherence_phase//COL36_ROW25_NFFT140_NLAP040.png"
       ]
      },
      {
       "output_type": "stream",
       "stream": "stdout",
       "text": [
        "\n",
        "D:\\Data\\output_charts_coherence_phase//COL36_ROW26_NFFT140_NLAP040.png"
       ]
      },
      {
       "output_type": "stream",
       "stream": "stdout",
       "text": [
        "\n",
        "D:\\Data\\output_charts_coherence_phase//COL36_ROW27_NFFT140_NLAP040.png"
       ]
      },
      {
       "output_type": "stream",
       "stream": "stdout",
       "text": [
        "\n",
        "D:\\Data\\output_charts_coherence_phase//COL36_ROW28_NFFT140_NLAP040.png"
       ]
      },
      {
       "output_type": "stream",
       "stream": "stdout",
       "text": [
        "\n",
        "D:\\Data\\output_charts_coherence_phase//COL36_ROW29_NFFT140_NLAP040.png"
       ]
      },
      {
       "output_type": "stream",
       "stream": "stdout",
       "text": [
        "\n",
        "D:\\Data\\output_charts_coherence_phase//COL36_ROW30_NFFT140_NLAP040.png"
       ]
      },
      {
       "output_type": "stream",
       "stream": "stdout",
       "text": [
        "\n",
        "D:\\Data\\output_charts_coherence_phase//COL36_ROW31_NFFT140_NLAP040.png"
       ]
      },
      {
       "output_type": "stream",
       "stream": "stdout",
       "text": [
        "\n",
        "D:\\Data\\output_charts_coherence_phase//COL36_ROW32_NFFT140_NLAP040.png"
       ]
      },
      {
       "output_type": "stream",
       "stream": "stdout",
       "text": [
        "\n",
        "D:\\Data\\output_charts_coherence_phase//COL36_ROW33_NFFT140_NLAP040.png"
       ]
      },
      {
       "output_type": "stream",
       "stream": "stdout",
       "text": [
        "\n",
        "D:\\Data\\output_charts_coherence_phase//COL36_ROW34_NFFT140_NLAP040.png"
       ]
      },
      {
       "output_type": "stream",
       "stream": "stdout",
       "text": [
        "\n",
        "D:\\Data\\output_charts_coherence_phase//COL36_ROW35_NFFT140_NLAP040.png"
       ]
      },
      {
       "output_type": "stream",
       "stream": "stdout",
       "text": [
        "\n",
        "D:\\Data\\output_charts_coherence_phase//COL36_ROW36_NFFT140_NLAP040.png"
       ]
      },
      {
       "output_type": "stream",
       "stream": "stdout",
       "text": [
        "\n",
        "D:\\Data\\output_charts_coherence_phase//COL37_ROW0_NFFT140_NLAP040.png"
       ]
      },
      {
       "output_type": "stream",
       "stream": "stdout",
       "text": [
        "\n",
        "D:\\Data\\output_charts_coherence_phase//COL37_ROW1_NFFT140_NLAP040.png"
       ]
      },
      {
       "output_type": "stream",
       "stream": "stdout",
       "text": [
        "\n",
        "D:\\Data\\output_charts_coherence_phase//COL37_ROW2_NFFT140_NLAP040.png"
       ]
      },
      {
       "output_type": "stream",
       "stream": "stdout",
       "text": [
        "\n",
        "D:\\Data\\output_charts_coherence_phase//COL37_ROW3_NFFT140_NLAP040.png"
       ]
      },
      {
       "output_type": "stream",
       "stream": "stdout",
       "text": [
        "\n",
        "D:\\Data\\output_charts_coherence_phase//COL37_ROW4_NFFT140_NLAP040.png"
       ]
      },
      {
       "output_type": "stream",
       "stream": "stdout",
       "text": [
        "\n",
        "D:\\Data\\output_charts_coherence_phase//COL37_ROW5_NFFT140_NLAP040.png"
       ]
      },
      {
       "output_type": "stream",
       "stream": "stdout",
       "text": [
        "\n",
        "D:\\Data\\output_charts_coherence_phase//COL37_ROW6_NFFT140_NLAP040.png"
       ]
      },
      {
       "output_type": "stream",
       "stream": "stdout",
       "text": [
        "\n",
        "D:\\Data\\output_charts_coherence_phase//COL37_ROW7_NFFT140_NLAP040.png"
       ]
      },
      {
       "output_type": "stream",
       "stream": "stdout",
       "text": [
        "\n",
        "D:\\Data\\output_charts_coherence_phase//COL37_ROW8_NFFT140_NLAP040.png"
       ]
      },
      {
       "output_type": "stream",
       "stream": "stdout",
       "text": [
        "\n",
        "D:\\Data\\output_charts_coherence_phase//COL37_ROW9_NFFT140_NLAP040.png"
       ]
      },
      {
       "output_type": "stream",
       "stream": "stdout",
       "text": [
        "\n",
        "D:\\Data\\output_charts_coherence_phase//COL37_ROW10_NFFT140_NLAP040.png"
       ]
      },
      {
       "output_type": "stream",
       "stream": "stdout",
       "text": [
        "\n",
        "D:\\Data\\output_charts_coherence_phase//COL37_ROW11_NFFT140_NLAP040.png"
       ]
      },
      {
       "output_type": "stream",
       "stream": "stdout",
       "text": [
        "\n",
        "D:\\Data\\output_charts_coherence_phase//COL37_ROW12_NFFT140_NLAP040.png"
       ]
      },
      {
       "output_type": "stream",
       "stream": "stdout",
       "text": [
        "\n",
        "D:\\Data\\output_charts_coherence_phase//COL37_ROW13_NFFT140_NLAP040.png"
       ]
      },
      {
       "output_type": "stream",
       "stream": "stdout",
       "text": [
        "\n",
        "D:\\Data\\output_charts_coherence_phase//COL37_ROW14_NFFT140_NLAP040.png"
       ]
      },
      {
       "output_type": "stream",
       "stream": "stdout",
       "text": [
        "\n",
        "D:\\Data\\output_charts_coherence_phase//COL37_ROW15_NFFT140_NLAP040.png"
       ]
      },
      {
       "output_type": "stream",
       "stream": "stdout",
       "text": [
        "\n",
        "D:\\Data\\output_charts_coherence_phase//COL37_ROW16_NFFT140_NLAP040.png"
       ]
      },
      {
       "output_type": "stream",
       "stream": "stdout",
       "text": [
        "\n",
        "D:\\Data\\output_charts_coherence_phase//COL37_ROW17_NFFT140_NLAP040.png"
       ]
      },
      {
       "output_type": "stream",
       "stream": "stdout",
       "text": [
        "\n",
        "D:\\Data\\output_charts_coherence_phase//COL37_ROW18_NFFT140_NLAP040.png"
       ]
      },
      {
       "output_type": "stream",
       "stream": "stdout",
       "text": [
        "\n",
        "D:\\Data\\output_charts_coherence_phase//COL37_ROW19_NFFT140_NLAP040.png"
       ]
      },
      {
       "output_type": "stream",
       "stream": "stdout",
       "text": [
        "\n",
        "D:\\Data\\output_charts_coherence_phase//COL37_ROW20_NFFT140_NLAP040.png"
       ]
      },
      {
       "output_type": "stream",
       "stream": "stdout",
       "text": [
        "\n",
        "D:\\Data\\output_charts_coherence_phase//COL37_ROW21_NFFT140_NLAP040.png"
       ]
      },
      {
       "output_type": "stream",
       "stream": "stdout",
       "text": [
        "\n",
        "D:\\Data\\output_charts_coherence_phase//COL37_ROW22_NFFT140_NLAP040.png"
       ]
      },
      {
       "output_type": "stream",
       "stream": "stdout",
       "text": [
        "\n",
        "D:\\Data\\output_charts_coherence_phase//COL37_ROW23_NFFT140_NLAP040.png"
       ]
      },
      {
       "output_type": "stream",
       "stream": "stdout",
       "text": [
        "\n",
        "D:\\Data\\output_charts_coherence_phase//COL37_ROW24_NFFT140_NLAP040.png"
       ]
      },
      {
       "output_type": "stream",
       "stream": "stdout",
       "text": [
        "\n",
        "D:\\Data\\output_charts_coherence_phase//COL37_ROW25_NFFT140_NLAP040.png"
       ]
      },
      {
       "output_type": "stream",
       "stream": "stdout",
       "text": [
        "\n",
        "D:\\Data\\output_charts_coherence_phase//COL37_ROW26_NFFT140_NLAP040.png"
       ]
      },
      {
       "output_type": "stream",
       "stream": "stdout",
       "text": [
        "\n",
        "D:\\Data\\output_charts_coherence_phase//COL37_ROW27_NFFT140_NLAP040.png"
       ]
      },
      {
       "output_type": "stream",
       "stream": "stdout",
       "text": [
        "\n",
        "D:\\Data\\output_charts_coherence_phase//COL37_ROW28_NFFT140_NLAP040.png"
       ]
      },
      {
       "output_type": "stream",
       "stream": "stdout",
       "text": [
        "\n",
        "D:\\Data\\output_charts_coherence_phase//COL37_ROW29_NFFT140_NLAP040.png"
       ]
      },
      {
       "output_type": "stream",
       "stream": "stdout",
       "text": [
        "\n",
        "D:\\Data\\output_charts_coherence_phase//COL37_ROW30_NFFT140_NLAP040.png"
       ]
      },
      {
       "output_type": "stream",
       "stream": "stdout",
       "text": [
        "\n",
        "D:\\Data\\output_charts_coherence_phase//COL37_ROW31_NFFT140_NLAP040.png"
       ]
      },
      {
       "output_type": "stream",
       "stream": "stdout",
       "text": [
        "\n",
        "D:\\Data\\output_charts_coherence_phase//COL37_ROW32_NFFT140_NLAP040.png"
       ]
      },
      {
       "output_type": "stream",
       "stream": "stdout",
       "text": [
        "\n",
        "D:\\Data\\output_charts_coherence_phase//COL37_ROW33_NFFT140_NLAP040.png"
       ]
      },
      {
       "output_type": "stream",
       "stream": "stdout",
       "text": [
        "\n",
        "D:\\Data\\output_charts_coherence_phase//COL37_ROW34_NFFT140_NLAP040.png"
       ]
      },
      {
       "output_type": "stream",
       "stream": "stdout",
       "text": [
        "\n",
        "D:\\Data\\output_charts_coherence_phase//COL37_ROW35_NFFT140_NLAP040.png"
       ]
      },
      {
       "output_type": "stream",
       "stream": "stdout",
       "text": [
        "\n",
        "D:\\Data\\output_charts_coherence_phase//COL37_ROW36_NFFT140_NLAP040.png"
       ]
      },
      {
       "output_type": "stream",
       "stream": "stdout",
       "text": [
        "\n",
        "D:\\Data\\output_charts_coherence_phase//COL38_ROW0_NFFT140_NLAP040.png"
       ]
      },
      {
       "output_type": "stream",
       "stream": "stdout",
       "text": [
        "\n",
        "D:\\Data\\output_charts_coherence_phase//COL38_ROW1_NFFT140_NLAP040.png"
       ]
      },
      {
       "output_type": "stream",
       "stream": "stdout",
       "text": [
        "\n",
        "D:\\Data\\output_charts_coherence_phase//COL38_ROW2_NFFT140_NLAP040.png"
       ]
      },
      {
       "output_type": "stream",
       "stream": "stdout",
       "text": [
        "\n",
        "D:\\Data\\output_charts_coherence_phase//COL38_ROW3_NFFT140_NLAP040.png"
       ]
      },
      {
       "output_type": "stream",
       "stream": "stdout",
       "text": [
        "\n",
        "D:\\Data\\output_charts_coherence_phase//COL38_ROW4_NFFT140_NLAP040.png"
       ]
      },
      {
       "output_type": "stream",
       "stream": "stdout",
       "text": [
        "\n",
        "D:\\Data\\output_charts_coherence_phase//COL38_ROW5_NFFT140_NLAP040.png"
       ]
      },
      {
       "output_type": "stream",
       "stream": "stdout",
       "text": [
        "\n",
        "D:\\Data\\output_charts_coherence_phase//COL38_ROW6_NFFT140_NLAP040.png"
       ]
      },
      {
       "output_type": "stream",
       "stream": "stdout",
       "text": [
        "\n",
        "D:\\Data\\output_charts_coherence_phase//COL38_ROW7_NFFT140_NLAP040.png"
       ]
      },
      {
       "output_type": "stream",
       "stream": "stdout",
       "text": [
        "\n",
        "D:\\Data\\output_charts_coherence_phase//COL38_ROW8_NFFT140_NLAP040.png"
       ]
      },
      {
       "output_type": "stream",
       "stream": "stdout",
       "text": [
        "\n",
        "D:\\Data\\output_charts_coherence_phase//COL38_ROW9_NFFT140_NLAP040.png"
       ]
      },
      {
       "output_type": "stream",
       "stream": "stdout",
       "text": [
        "\n",
        "D:\\Data\\output_charts_coherence_phase//COL38_ROW10_NFFT140_NLAP040.png"
       ]
      },
      {
       "output_type": "stream",
       "stream": "stdout",
       "text": [
        "\n",
        "D:\\Data\\output_charts_coherence_phase//COL38_ROW11_NFFT140_NLAP040.png"
       ]
      },
      {
       "output_type": "stream",
       "stream": "stdout",
       "text": [
        "\n",
        "D:\\Data\\output_charts_coherence_phase//COL38_ROW12_NFFT140_NLAP040.png"
       ]
      },
      {
       "output_type": "stream",
       "stream": "stdout",
       "text": [
        "\n",
        "D:\\Data\\output_charts_coherence_phase//COL38_ROW13_NFFT140_NLAP040.png"
       ]
      },
      {
       "output_type": "stream",
       "stream": "stdout",
       "text": [
        "\n",
        "D:\\Data\\output_charts_coherence_phase//COL38_ROW14_NFFT140_NLAP040.png"
       ]
      },
      {
       "output_type": "stream",
       "stream": "stdout",
       "text": [
        "\n",
        "D:\\Data\\output_charts_coherence_phase//COL38_ROW15_NFFT140_NLAP040.png"
       ]
      },
      {
       "output_type": "stream",
       "stream": "stdout",
       "text": [
        "\n",
        "D:\\Data\\output_charts_coherence_phase//COL38_ROW16_NFFT140_NLAP040.png"
       ]
      },
      {
       "output_type": "stream",
       "stream": "stdout",
       "text": [
        "\n",
        "D:\\Data\\output_charts_coherence_phase//COL38_ROW17_NFFT140_NLAP040.png"
       ]
      },
      {
       "output_type": "stream",
       "stream": "stdout",
       "text": [
        "\n",
        "D:\\Data\\output_charts_coherence_phase//COL38_ROW18_NFFT140_NLAP040.png"
       ]
      },
      {
       "output_type": "stream",
       "stream": "stdout",
       "text": [
        "\n",
        "D:\\Data\\output_charts_coherence_phase//COL38_ROW19_NFFT140_NLAP040.png"
       ]
      },
      {
       "output_type": "stream",
       "stream": "stdout",
       "text": [
        "\n",
        "D:\\Data\\output_charts_coherence_phase//COL38_ROW20_NFFT140_NLAP040.png"
       ]
      },
      {
       "output_type": "stream",
       "stream": "stdout",
       "text": [
        "\n",
        "D:\\Data\\output_charts_coherence_phase//COL38_ROW21_NFFT140_NLAP040.png"
       ]
      },
      {
       "output_type": "stream",
       "stream": "stdout",
       "text": [
        "\n",
        "D:\\Data\\output_charts_coherence_phase//COL38_ROW22_NFFT140_NLAP040.png"
       ]
      },
      {
       "output_type": "stream",
       "stream": "stdout",
       "text": [
        "\n",
        "D:\\Data\\output_charts_coherence_phase//COL38_ROW23_NFFT140_NLAP040.png"
       ]
      },
      {
       "output_type": "stream",
       "stream": "stdout",
       "text": [
        "\n",
        "D:\\Data\\output_charts_coherence_phase//COL38_ROW24_NFFT140_NLAP040.png"
       ]
      },
      {
       "output_type": "stream",
       "stream": "stdout",
       "text": [
        "\n",
        "D:\\Data\\output_charts_coherence_phase//COL38_ROW25_NFFT140_NLAP040.png"
       ]
      },
      {
       "output_type": "stream",
       "stream": "stdout",
       "text": [
        "\n",
        "D:\\Data\\output_charts_coherence_phase//COL38_ROW26_NFFT140_NLAP040.png"
       ]
      },
      {
       "output_type": "stream",
       "stream": "stdout",
       "text": [
        "\n",
        "D:\\Data\\output_charts_coherence_phase//COL38_ROW27_NFFT140_NLAP040.png"
       ]
      },
      {
       "output_type": "stream",
       "stream": "stdout",
       "text": [
        "\n",
        "D:\\Data\\output_charts_coherence_phase//COL38_ROW28_NFFT140_NLAP040.png"
       ]
      },
      {
       "output_type": "stream",
       "stream": "stdout",
       "text": [
        "\n",
        "D:\\Data\\output_charts_coherence_phase//COL38_ROW29_NFFT140_NLAP040.png"
       ]
      },
      {
       "output_type": "stream",
       "stream": "stdout",
       "text": [
        "\n",
        "D:\\Data\\output_charts_coherence_phase//COL38_ROW30_NFFT140_NLAP040.png"
       ]
      },
      {
       "output_type": "stream",
       "stream": "stdout",
       "text": [
        "\n",
        "D:\\Data\\output_charts_coherence_phase//COL38_ROW31_NFFT140_NLAP040.png"
       ]
      },
      {
       "output_type": "stream",
       "stream": "stdout",
       "text": [
        "\n",
        "D:\\Data\\output_charts_coherence_phase//COL38_ROW32_NFFT140_NLAP040.png"
       ]
      },
      {
       "output_type": "stream",
       "stream": "stdout",
       "text": [
        "\n",
        "D:\\Data\\output_charts_coherence_phase//COL38_ROW33_NFFT140_NLAP040.png"
       ]
      },
      {
       "output_type": "stream",
       "stream": "stdout",
       "text": [
        "\n",
        "D:\\Data\\output_charts_coherence_phase//COL38_ROW34_NFFT140_NLAP040.png"
       ]
      },
      {
       "output_type": "stream",
       "stream": "stdout",
       "text": [
        "\n",
        "D:\\Data\\output_charts_coherence_phase//COL38_ROW35_NFFT140_NLAP040.png"
       ]
      },
      {
       "output_type": "stream",
       "stream": "stdout",
       "text": [
        "\n",
        "D:\\Data\\output_charts_coherence_phase//COL38_ROW36_NFFT140_NLAP040.png"
       ]
      },
      {
       "output_type": "stream",
       "stream": "stdout",
       "text": [
        "\n",
        "D:\\Data\\output_charts_coherence_phase//COL39_ROW0_NFFT140_NLAP040.png"
       ]
      },
      {
       "output_type": "stream",
       "stream": "stdout",
       "text": [
        "\n",
        "D:\\Data\\output_charts_coherence_phase//COL39_ROW1_NFFT140_NLAP040.png"
       ]
      },
      {
       "output_type": "stream",
       "stream": "stdout",
       "text": [
        "\n",
        "D:\\Data\\output_charts_coherence_phase//COL39_ROW2_NFFT140_NLAP040.png"
       ]
      },
      {
       "output_type": "stream",
       "stream": "stdout",
       "text": [
        "\n",
        "D:\\Data\\output_charts_coherence_phase//COL39_ROW3_NFFT140_NLAP040.png"
       ]
      },
      {
       "output_type": "stream",
       "stream": "stdout",
       "text": [
        "\n",
        "D:\\Data\\output_charts_coherence_phase//COL39_ROW4_NFFT140_NLAP040.png"
       ]
      },
      {
       "output_type": "stream",
       "stream": "stdout",
       "text": [
        "\n",
        "D:\\Data\\output_charts_coherence_phase//COL39_ROW5_NFFT140_NLAP040.png"
       ]
      },
      {
       "output_type": "stream",
       "stream": "stdout",
       "text": [
        "\n",
        "D:\\Data\\output_charts_coherence_phase//COL39_ROW6_NFFT140_NLAP040.png"
       ]
      },
      {
       "output_type": "stream",
       "stream": "stdout",
       "text": [
        "\n",
        "D:\\Data\\output_charts_coherence_phase//COL39_ROW7_NFFT140_NLAP040.png"
       ]
      },
      {
       "output_type": "stream",
       "stream": "stdout",
       "text": [
        "\n",
        "D:\\Data\\output_charts_coherence_phase//COL39_ROW8_NFFT140_NLAP040.png"
       ]
      },
      {
       "output_type": "stream",
       "stream": "stdout",
       "text": [
        "\n",
        "D:\\Data\\output_charts_coherence_phase//COL39_ROW9_NFFT140_NLAP040.png"
       ]
      },
      {
       "output_type": "stream",
       "stream": "stdout",
       "text": [
        "\n",
        "D:\\Data\\output_charts_coherence_phase//COL39_ROW10_NFFT140_NLAP040.png"
       ]
      },
      {
       "output_type": "stream",
       "stream": "stdout",
       "text": [
        "\n",
        "D:\\Data\\output_charts_coherence_phase//COL39_ROW11_NFFT140_NLAP040.png"
       ]
      },
      {
       "output_type": "stream",
       "stream": "stdout",
       "text": [
        "\n",
        "D:\\Data\\output_charts_coherence_phase//COL39_ROW12_NFFT140_NLAP040.png"
       ]
      },
      {
       "output_type": "stream",
       "stream": "stdout",
       "text": [
        "\n",
        "D:\\Data\\output_charts_coherence_phase//COL39_ROW13_NFFT140_NLAP040.png"
       ]
      },
      {
       "output_type": "stream",
       "stream": "stdout",
       "text": [
        "\n",
        "D:\\Data\\output_charts_coherence_phase//COL39_ROW14_NFFT140_NLAP040.png"
       ]
      },
      {
       "output_type": "stream",
       "stream": "stdout",
       "text": [
        "\n",
        "D:\\Data\\output_charts_coherence_phase//COL39_ROW15_NFFT140_NLAP040.png"
       ]
      },
      {
       "output_type": "stream",
       "stream": "stdout",
       "text": [
        "\n",
        "D:\\Data\\output_charts_coherence_phase//COL39_ROW16_NFFT140_NLAP040.png"
       ]
      },
      {
       "output_type": "stream",
       "stream": "stdout",
       "text": [
        "\n",
        "D:\\Data\\output_charts_coherence_phase//COL39_ROW17_NFFT140_NLAP040.png"
       ]
      },
      {
       "output_type": "stream",
       "stream": "stdout",
       "text": [
        "\n",
        "D:\\Data\\output_charts_coherence_phase//COL39_ROW18_NFFT140_NLAP040.png"
       ]
      },
      {
       "output_type": "stream",
       "stream": "stdout",
       "text": [
        "\n",
        "D:\\Data\\output_charts_coherence_phase//COL39_ROW19_NFFT140_NLAP040.png"
       ]
      },
      {
       "output_type": "stream",
       "stream": "stdout",
       "text": [
        "\n",
        "D:\\Data\\output_charts_coherence_phase//COL39_ROW20_NFFT140_NLAP040.png"
       ]
      },
      {
       "output_type": "stream",
       "stream": "stdout",
       "text": [
        "\n",
        "D:\\Data\\output_charts_coherence_phase//COL39_ROW21_NFFT140_NLAP040.png"
       ]
      },
      {
       "output_type": "stream",
       "stream": "stdout",
       "text": [
        "\n",
        "D:\\Data\\output_charts_coherence_phase//COL39_ROW22_NFFT140_NLAP040.png"
       ]
      },
      {
       "output_type": "stream",
       "stream": "stdout",
       "text": [
        "\n",
        "D:\\Data\\output_charts_coherence_phase//COL39_ROW23_NFFT140_NLAP040.png"
       ]
      },
      {
       "output_type": "stream",
       "stream": "stdout",
       "text": [
        "\n",
        "D:\\Data\\output_charts_coherence_phase//COL39_ROW24_NFFT140_NLAP040.png"
       ]
      },
      {
       "output_type": "stream",
       "stream": "stdout",
       "text": [
        "\n",
        "D:\\Data\\output_charts_coherence_phase//COL39_ROW25_NFFT140_NLAP040.png"
       ]
      },
      {
       "output_type": "stream",
       "stream": "stdout",
       "text": [
        "\n",
        "D:\\Data\\output_charts_coherence_phase//COL39_ROW26_NFFT140_NLAP040.png"
       ]
      },
      {
       "output_type": "stream",
       "stream": "stdout",
       "text": [
        "\n",
        "D:\\Data\\output_charts_coherence_phase//COL39_ROW27_NFFT140_NLAP040.png"
       ]
      },
      {
       "output_type": "stream",
       "stream": "stdout",
       "text": [
        "\n",
        "D:\\Data\\output_charts_coherence_phase//COL39_ROW28_NFFT140_NLAP040.png"
       ]
      },
      {
       "output_type": "stream",
       "stream": "stdout",
       "text": [
        "\n",
        "D:\\Data\\output_charts_coherence_phase//COL39_ROW29_NFFT140_NLAP040.png"
       ]
      },
      {
       "output_type": "stream",
       "stream": "stdout",
       "text": [
        "\n",
        "D:\\Data\\output_charts_coherence_phase//COL39_ROW30_NFFT140_NLAP040.png"
       ]
      },
      {
       "output_type": "stream",
       "stream": "stdout",
       "text": [
        "\n",
        "D:\\Data\\output_charts_coherence_phase//COL39_ROW31_NFFT140_NLAP040.png"
       ]
      },
      {
       "output_type": "stream",
       "stream": "stdout",
       "text": [
        "\n",
        "D:\\Data\\output_charts_coherence_phase//COL39_ROW32_NFFT140_NLAP040.png"
       ]
      },
      {
       "output_type": "stream",
       "stream": "stdout",
       "text": [
        "\n",
        "D:\\Data\\output_charts_coherence_phase//COL39_ROW33_NFFT140_NLAP040.png"
       ]
      },
      {
       "output_type": "stream",
       "stream": "stdout",
       "text": [
        "\n",
        "D:\\Data\\output_charts_coherence_phase//COL39_ROW34_NFFT140_NLAP040.png"
       ]
      },
      {
       "output_type": "stream",
       "stream": "stdout",
       "text": [
        "\n",
        "D:\\Data\\output_charts_coherence_phase//COL39_ROW35_NFFT140_NLAP040.png"
       ]
      },
      {
       "output_type": "stream",
       "stream": "stdout",
       "text": [
        "\n",
        "D:\\Data\\output_charts_coherence_phase//COL39_ROW36_NFFT140_NLAP040.png"
       ]
      },
      {
       "output_type": "stream",
       "stream": "stdout",
       "text": [
        "\n",
        "D:\\Data\\output_charts_coherence_phase//COL40_ROW0_NFFT140_NLAP040.png"
       ]
      },
      {
       "output_type": "stream",
       "stream": "stdout",
       "text": [
        "\n",
        "D:\\Data\\output_charts_coherence_phase//COL40_ROW1_NFFT140_NLAP040.png"
       ]
      },
      {
       "output_type": "stream",
       "stream": "stdout",
       "text": [
        "\n",
        "D:\\Data\\output_charts_coherence_phase//COL40_ROW2_NFFT140_NLAP040.png"
       ]
      },
      {
       "output_type": "stream",
       "stream": "stdout",
       "text": [
        "\n",
        "D:\\Data\\output_charts_coherence_phase//COL40_ROW3_NFFT140_NLAP040.png"
       ]
      },
      {
       "output_type": "stream",
       "stream": "stdout",
       "text": [
        "\n",
        "D:\\Data\\output_charts_coherence_phase//COL40_ROW4_NFFT140_NLAP040.png"
       ]
      },
      {
       "output_type": "stream",
       "stream": "stdout",
       "text": [
        "\n",
        "D:\\Data\\output_charts_coherence_phase//COL40_ROW5_NFFT140_NLAP040.png"
       ]
      },
      {
       "output_type": "stream",
       "stream": "stdout",
       "text": [
        "\n",
        "D:\\Data\\output_charts_coherence_phase//COL40_ROW6_NFFT140_NLAP040.png"
       ]
      },
      {
       "output_type": "stream",
       "stream": "stdout",
       "text": [
        "\n",
        "D:\\Data\\output_charts_coherence_phase//COL40_ROW7_NFFT140_NLAP040.png"
       ]
      },
      {
       "output_type": "stream",
       "stream": "stdout",
       "text": [
        "\n",
        "D:\\Data\\output_charts_coherence_phase//COL40_ROW8_NFFT140_NLAP040.png"
       ]
      },
      {
       "output_type": "stream",
       "stream": "stdout",
       "text": [
        "\n",
        "D:\\Data\\output_charts_coherence_phase//COL40_ROW9_NFFT140_NLAP040.png"
       ]
      },
      {
       "output_type": "stream",
       "stream": "stdout",
       "text": [
        "\n",
        "D:\\Data\\output_charts_coherence_phase//COL40_ROW10_NFFT140_NLAP040.png"
       ]
      },
      {
       "output_type": "stream",
       "stream": "stdout",
       "text": [
        "\n",
        "D:\\Data\\output_charts_coherence_phase//COL40_ROW11_NFFT140_NLAP040.png"
       ]
      },
      {
       "output_type": "stream",
       "stream": "stdout",
       "text": [
        "\n",
        "D:\\Data\\output_charts_coherence_phase//COL40_ROW12_NFFT140_NLAP040.png"
       ]
      },
      {
       "output_type": "stream",
       "stream": "stdout",
       "text": [
        "\n",
        "D:\\Data\\output_charts_coherence_phase//COL40_ROW13_NFFT140_NLAP040.png"
       ]
      },
      {
       "output_type": "stream",
       "stream": "stdout",
       "text": [
        "\n",
        "D:\\Data\\output_charts_coherence_phase//COL40_ROW14_NFFT140_NLAP040.png"
       ]
      },
      {
       "output_type": "stream",
       "stream": "stdout",
       "text": [
        "\n",
        "D:\\Data\\output_charts_coherence_phase//COL40_ROW15_NFFT140_NLAP040.png"
       ]
      },
      {
       "output_type": "stream",
       "stream": "stdout",
       "text": [
        "\n",
        "D:\\Data\\output_charts_coherence_phase//COL40_ROW16_NFFT140_NLAP040.png"
       ]
      },
      {
       "output_type": "stream",
       "stream": "stdout",
       "text": [
        "\n",
        "D:\\Data\\output_charts_coherence_phase//COL40_ROW17_NFFT140_NLAP040.png"
       ]
      },
      {
       "output_type": "stream",
       "stream": "stdout",
       "text": [
        "\n",
        "D:\\Data\\output_charts_coherence_phase//COL40_ROW18_NFFT140_NLAP040.png"
       ]
      },
      {
       "output_type": "stream",
       "stream": "stdout",
       "text": [
        "\n",
        "D:\\Data\\output_charts_coherence_phase//COL40_ROW19_NFFT140_NLAP040.png"
       ]
      },
      {
       "output_type": "stream",
       "stream": "stdout",
       "text": [
        "\n",
        "D:\\Data\\output_charts_coherence_phase//COL40_ROW20_NFFT140_NLAP040.png"
       ]
      },
      {
       "output_type": "stream",
       "stream": "stdout",
       "text": [
        "\n",
        "D:\\Data\\output_charts_coherence_phase//COL40_ROW21_NFFT140_NLAP040.png"
       ]
      },
      {
       "output_type": "stream",
       "stream": "stdout",
       "text": [
        "\n",
        "D:\\Data\\output_charts_coherence_phase//COL40_ROW22_NFFT140_NLAP040.png"
       ]
      },
      {
       "output_type": "stream",
       "stream": "stdout",
       "text": [
        "\n",
        "D:\\Data\\output_charts_coherence_phase//COL40_ROW23_NFFT140_NLAP040.png"
       ]
      },
      {
       "output_type": "stream",
       "stream": "stdout",
       "text": [
        "\n",
        "D:\\Data\\output_charts_coherence_phase//COL40_ROW24_NFFT140_NLAP040.png"
       ]
      },
      {
       "output_type": "stream",
       "stream": "stdout",
       "text": [
        "\n",
        "D:\\Data\\output_charts_coherence_phase//COL40_ROW25_NFFT140_NLAP040.png"
       ]
      },
      {
       "output_type": "stream",
       "stream": "stdout",
       "text": [
        "\n",
        "D:\\Data\\output_charts_coherence_phase//COL40_ROW26_NFFT140_NLAP040.png"
       ]
      },
      {
       "output_type": "stream",
       "stream": "stdout",
       "text": [
        "\n",
        "D:\\Data\\output_charts_coherence_phase//COL40_ROW27_NFFT140_NLAP040.png"
       ]
      },
      {
       "output_type": "stream",
       "stream": "stdout",
       "text": [
        "\n",
        "D:\\Data\\output_charts_coherence_phase//COL40_ROW28_NFFT140_NLAP040.png"
       ]
      },
      {
       "output_type": "stream",
       "stream": "stdout",
       "text": [
        "\n",
        "D:\\Data\\output_charts_coherence_phase//COL40_ROW29_NFFT140_NLAP040.png"
       ]
      },
      {
       "output_type": "stream",
       "stream": "stdout",
       "text": [
        "\n",
        "D:\\Data\\output_charts_coherence_phase//COL40_ROW30_NFFT140_NLAP040.png"
       ]
      },
      {
       "output_type": "stream",
       "stream": "stdout",
       "text": [
        "\n",
        "D:\\Data\\output_charts_coherence_phase//COL40_ROW31_NFFT140_NLAP040.png"
       ]
      },
      {
       "output_type": "stream",
       "stream": "stdout",
       "text": [
        "\n",
        "D:\\Data\\output_charts_coherence_phase//COL40_ROW32_NFFT140_NLAP040.png"
       ]
      },
      {
       "output_type": "stream",
       "stream": "stdout",
       "text": [
        "\n",
        "D:\\Data\\output_charts_coherence_phase//COL40_ROW33_NFFT140_NLAP040.png"
       ]
      },
      {
       "output_type": "stream",
       "stream": "stdout",
       "text": [
        "\n",
        "D:\\Data\\output_charts_coherence_phase//COL40_ROW34_NFFT140_NLAP040.png"
       ]
      },
      {
       "output_type": "stream",
       "stream": "stdout",
       "text": [
        "\n",
        "D:\\Data\\output_charts_coherence_phase//COL40_ROW35_NFFT140_NLAP040.png"
       ]
      },
      {
       "output_type": "stream",
       "stream": "stdout",
       "text": [
        "\n",
        "D:\\Data\\output_charts_coherence_phase//COL40_ROW36_NFFT140_NLAP040.png"
       ]
      },
      {
       "output_type": "stream",
       "stream": "stdout",
       "text": [
        "\n",
        "D:\\Data\\output_charts_coherence_phase//COL41_ROW0_NFFT140_NLAP040.png"
       ]
      },
      {
       "output_type": "stream",
       "stream": "stdout",
       "text": [
        "\n",
        "D:\\Data\\output_charts_coherence_phase//COL41_ROW1_NFFT140_NLAP040.png"
       ]
      },
      {
       "output_type": "stream",
       "stream": "stdout",
       "text": [
        "\n",
        "D:\\Data\\output_charts_coherence_phase//COL41_ROW2_NFFT140_NLAP040.png"
       ]
      },
      {
       "output_type": "stream",
       "stream": "stdout",
       "text": [
        "\n",
        "D:\\Data\\output_charts_coherence_phase//COL41_ROW3_NFFT140_NLAP040.png"
       ]
      },
      {
       "output_type": "stream",
       "stream": "stdout",
       "text": [
        "\n",
        "D:\\Data\\output_charts_coherence_phase//COL41_ROW4_NFFT140_NLAP040.png"
       ]
      },
      {
       "output_type": "stream",
       "stream": "stdout",
       "text": [
        "\n",
        "D:\\Data\\output_charts_coherence_phase//COL41_ROW5_NFFT140_NLAP040.png"
       ]
      },
      {
       "output_type": "stream",
       "stream": "stdout",
       "text": [
        "\n",
        "D:\\Data\\output_charts_coherence_phase//COL41_ROW6_NFFT140_NLAP040.png"
       ]
      },
      {
       "output_type": "stream",
       "stream": "stdout",
       "text": [
        "\n",
        "D:\\Data\\output_charts_coherence_phase//COL41_ROW7_NFFT140_NLAP040.png"
       ]
      },
      {
       "output_type": "stream",
       "stream": "stdout",
       "text": [
        "\n",
        "D:\\Data\\output_charts_coherence_phase//COL41_ROW8_NFFT140_NLAP040.png"
       ]
      },
      {
       "output_type": "stream",
       "stream": "stdout",
       "text": [
        "\n",
        "D:\\Data\\output_charts_coherence_phase//COL41_ROW9_NFFT140_NLAP040.png"
       ]
      },
      {
       "output_type": "stream",
       "stream": "stdout",
       "text": [
        "\n",
        "D:\\Data\\output_charts_coherence_phase//COL41_ROW10_NFFT140_NLAP040.png"
       ]
      },
      {
       "output_type": "stream",
       "stream": "stdout",
       "text": [
        "\n",
        "D:\\Data\\output_charts_coherence_phase//COL41_ROW11_NFFT140_NLAP040.png"
       ]
      },
      {
       "output_type": "stream",
       "stream": "stdout",
       "text": [
        "\n",
        "D:\\Data\\output_charts_coherence_phase//COL41_ROW12_NFFT140_NLAP040.png"
       ]
      },
      {
       "output_type": "stream",
       "stream": "stdout",
       "text": [
        "\n",
        "D:\\Data\\output_charts_coherence_phase//COL41_ROW13_NFFT140_NLAP040.png"
       ]
      },
      {
       "output_type": "stream",
       "stream": "stdout",
       "text": [
        "\n",
        "D:\\Data\\output_charts_coherence_phase//COL41_ROW14_NFFT140_NLAP040.png"
       ]
      },
      {
       "output_type": "stream",
       "stream": "stdout",
       "text": [
        "\n",
        "D:\\Data\\output_charts_coherence_phase//COL41_ROW15_NFFT140_NLAP040.png"
       ]
      },
      {
       "output_type": "stream",
       "stream": "stdout",
       "text": [
        "\n",
        "D:\\Data\\output_charts_coherence_phase//COL41_ROW16_NFFT140_NLAP040.png"
       ]
      },
      {
       "output_type": "stream",
       "stream": "stdout",
       "text": [
        "\n",
        "D:\\Data\\output_charts_coherence_phase//COL41_ROW17_NFFT140_NLAP040.png"
       ]
      },
      {
       "output_type": "stream",
       "stream": "stdout",
       "text": [
        "\n",
        "D:\\Data\\output_charts_coherence_phase//COL41_ROW18_NFFT140_NLAP040.png"
       ]
      },
      {
       "output_type": "stream",
       "stream": "stdout",
       "text": [
        "\n",
        "D:\\Data\\output_charts_coherence_phase//COL41_ROW19_NFFT140_NLAP040.png"
       ]
      },
      {
       "output_type": "stream",
       "stream": "stdout",
       "text": [
        "\n",
        "D:\\Data\\output_charts_coherence_phase//COL41_ROW20_NFFT140_NLAP040.png"
       ]
      },
      {
       "output_type": "stream",
       "stream": "stdout",
       "text": [
        "\n",
        "D:\\Data\\output_charts_coherence_phase//COL41_ROW21_NFFT140_NLAP040.png"
       ]
      },
      {
       "output_type": "stream",
       "stream": "stdout",
       "text": [
        "\n",
        "D:\\Data\\output_charts_coherence_phase//COL41_ROW22_NFFT140_NLAP040.png"
       ]
      },
      {
       "output_type": "stream",
       "stream": "stdout",
       "text": [
        "\n",
        "D:\\Data\\output_charts_coherence_phase//COL41_ROW23_NFFT140_NLAP040.png"
       ]
      },
      {
       "output_type": "stream",
       "stream": "stdout",
       "text": [
        "\n",
        "D:\\Data\\output_charts_coherence_phase//COL41_ROW24_NFFT140_NLAP040.png"
       ]
      },
      {
       "output_type": "stream",
       "stream": "stdout",
       "text": [
        "\n",
        "D:\\Data\\output_charts_coherence_phase//COL41_ROW25_NFFT140_NLAP040.png"
       ]
      },
      {
       "output_type": "stream",
       "stream": "stdout",
       "text": [
        "\n",
        "D:\\Data\\output_charts_coherence_phase//COL41_ROW26_NFFT140_NLAP040.png"
       ]
      },
      {
       "output_type": "stream",
       "stream": "stdout",
       "text": [
        "\n",
        "D:\\Data\\output_charts_coherence_phase//COL41_ROW27_NFFT140_NLAP040.png"
       ]
      },
      {
       "output_type": "stream",
       "stream": "stdout",
       "text": [
        "\n",
        "D:\\Data\\output_charts_coherence_phase//COL41_ROW28_NFFT140_NLAP040.png"
       ]
      },
      {
       "output_type": "stream",
       "stream": "stdout",
       "text": [
        "\n",
        "D:\\Data\\output_charts_coherence_phase//COL41_ROW29_NFFT140_NLAP040.png"
       ]
      },
      {
       "output_type": "stream",
       "stream": "stdout",
       "text": [
        "\n",
        "D:\\Data\\output_charts_coherence_phase//COL41_ROW30_NFFT140_NLAP040.png"
       ]
      },
      {
       "output_type": "stream",
       "stream": "stdout",
       "text": [
        "\n",
        "D:\\Data\\output_charts_coherence_phase//COL41_ROW31_NFFT140_NLAP040.png"
       ]
      },
      {
       "output_type": "stream",
       "stream": "stdout",
       "text": [
        "\n",
        "D:\\Data\\output_charts_coherence_phase//COL41_ROW32_NFFT140_NLAP040.png"
       ]
      },
      {
       "output_type": "stream",
       "stream": "stdout",
       "text": [
        "\n",
        "D:\\Data\\output_charts_coherence_phase//COL41_ROW33_NFFT140_NLAP040.png"
       ]
      },
      {
       "output_type": "stream",
       "stream": "stdout",
       "text": [
        "\n",
        "D:\\Data\\output_charts_coherence_phase//COL41_ROW34_NFFT140_NLAP040.png"
       ]
      },
      {
       "output_type": "stream",
       "stream": "stdout",
       "text": [
        "\n",
        "D:\\Data\\output_charts_coherence_phase//COL41_ROW35_NFFT140_NLAP040.png"
       ]
      },
      {
       "output_type": "stream",
       "stream": "stdout",
       "text": [
        "\n",
        "D:\\Data\\output_charts_coherence_phase//COL41_ROW36_NFFT140_NLAP040.png"
       ]
      },
      {
       "output_type": "stream",
       "stream": "stdout",
       "text": [
        "\n",
        "D:\\Data\\output_charts_coherence_phase//COL42_ROW0_NFFT140_NLAP040.png"
       ]
      },
      {
       "output_type": "stream",
       "stream": "stdout",
       "text": [
        "\n",
        "D:\\Data\\output_charts_coherence_phase//COL42_ROW1_NFFT140_NLAP040.png"
       ]
      },
      {
       "output_type": "stream",
       "stream": "stdout",
       "text": [
        "\n",
        "D:\\Data\\output_charts_coherence_phase//COL42_ROW2_NFFT140_NLAP040.png"
       ]
      },
      {
       "output_type": "stream",
       "stream": "stdout",
       "text": [
        "\n",
        "D:\\Data\\output_charts_coherence_phase//COL42_ROW3_NFFT140_NLAP040.png"
       ]
      },
      {
       "output_type": "stream",
       "stream": "stdout",
       "text": [
        "\n",
        "D:\\Data\\output_charts_coherence_phase//COL42_ROW4_NFFT140_NLAP040.png"
       ]
      },
      {
       "output_type": "stream",
       "stream": "stdout",
       "text": [
        "\n",
        "D:\\Data\\output_charts_coherence_phase//COL42_ROW5_NFFT140_NLAP040.png"
       ]
      },
      {
       "output_type": "stream",
       "stream": "stdout",
       "text": [
        "\n",
        "D:\\Data\\output_charts_coherence_phase//COL42_ROW6_NFFT140_NLAP040.png"
       ]
      },
      {
       "output_type": "stream",
       "stream": "stdout",
       "text": [
        "\n",
        "D:\\Data\\output_charts_coherence_phase//COL42_ROW7_NFFT140_NLAP040.png"
       ]
      },
      {
       "output_type": "stream",
       "stream": "stdout",
       "text": [
        "\n",
        "D:\\Data\\output_charts_coherence_phase//COL42_ROW8_NFFT140_NLAP040.png"
       ]
      },
      {
       "output_type": "stream",
       "stream": "stdout",
       "text": [
        "\n",
        "D:\\Data\\output_charts_coherence_phase//COL42_ROW9_NFFT140_NLAP040.png"
       ]
      },
      {
       "output_type": "stream",
       "stream": "stdout",
       "text": [
        "\n",
        "D:\\Data\\output_charts_coherence_phase//COL42_ROW10_NFFT140_NLAP040.png"
       ]
      },
      {
       "output_type": "stream",
       "stream": "stdout",
       "text": [
        "\n",
        "D:\\Data\\output_charts_coherence_phase//COL42_ROW11_NFFT140_NLAP040.png"
       ]
      },
      {
       "output_type": "stream",
       "stream": "stdout",
       "text": [
        "\n",
        "D:\\Data\\output_charts_coherence_phase//COL42_ROW12_NFFT140_NLAP040.png"
       ]
      },
      {
       "output_type": "stream",
       "stream": "stdout",
       "text": [
        "\n",
        "D:\\Data\\output_charts_coherence_phase//COL42_ROW13_NFFT140_NLAP040.png"
       ]
      },
      {
       "output_type": "stream",
       "stream": "stdout",
       "text": [
        "\n",
        "D:\\Data\\output_charts_coherence_phase//COL42_ROW14_NFFT140_NLAP040.png"
       ]
      },
      {
       "output_type": "stream",
       "stream": "stdout",
       "text": [
        "\n",
        "D:\\Data\\output_charts_coherence_phase//COL42_ROW15_NFFT140_NLAP040.png"
       ]
      },
      {
       "output_type": "stream",
       "stream": "stdout",
       "text": [
        "\n",
        "D:\\Data\\output_charts_coherence_phase//COL42_ROW16_NFFT140_NLAP040.png"
       ]
      },
      {
       "output_type": "stream",
       "stream": "stdout",
       "text": [
        "\n",
        "D:\\Data\\output_charts_coherence_phase//COL42_ROW17_NFFT140_NLAP040.png"
       ]
      },
      {
       "output_type": "stream",
       "stream": "stdout",
       "text": [
        "\n",
        "D:\\Data\\output_charts_coherence_phase//COL42_ROW18_NFFT140_NLAP040.png"
       ]
      },
      {
       "output_type": "stream",
       "stream": "stdout",
       "text": [
        "\n",
        "D:\\Data\\output_charts_coherence_phase//COL42_ROW19_NFFT140_NLAP040.png"
       ]
      },
      {
       "output_type": "stream",
       "stream": "stdout",
       "text": [
        "\n",
        "D:\\Data\\output_charts_coherence_phase//COL42_ROW20_NFFT140_NLAP040.png"
       ]
      },
      {
       "output_type": "stream",
       "stream": "stdout",
       "text": [
        "\n",
        "D:\\Data\\output_charts_coherence_phase//COL42_ROW21_NFFT140_NLAP040.png"
       ]
      },
      {
       "output_type": "stream",
       "stream": "stdout",
       "text": [
        "\n",
        "D:\\Data\\output_charts_coherence_phase//COL42_ROW22_NFFT140_NLAP040.png"
       ]
      },
      {
       "output_type": "stream",
       "stream": "stdout",
       "text": [
        "\n",
        "D:\\Data\\output_charts_coherence_phase//COL42_ROW23_NFFT140_NLAP040.png"
       ]
      },
      {
       "output_type": "stream",
       "stream": "stdout",
       "text": [
        "\n",
        "D:\\Data\\output_charts_coherence_phase//COL42_ROW24_NFFT140_NLAP040.png"
       ]
      },
      {
       "output_type": "stream",
       "stream": "stdout",
       "text": [
        "\n",
        "D:\\Data\\output_charts_coherence_phase//COL42_ROW25_NFFT140_NLAP040.png"
       ]
      },
      {
       "output_type": "stream",
       "stream": "stdout",
       "text": [
        "\n",
        "D:\\Data\\output_charts_coherence_phase//COL42_ROW26_NFFT140_NLAP040.png"
       ]
      },
      {
       "output_type": "stream",
       "stream": "stdout",
       "text": [
        "\n",
        "D:\\Data\\output_charts_coherence_phase//COL42_ROW27_NFFT140_NLAP040.png"
       ]
      },
      {
       "output_type": "stream",
       "stream": "stdout",
       "text": [
        "\n",
        "D:\\Data\\output_charts_coherence_phase//COL42_ROW28_NFFT140_NLAP040.png"
       ]
      },
      {
       "output_type": "stream",
       "stream": "stdout",
       "text": [
        "\n",
        "D:\\Data\\output_charts_coherence_phase//COL42_ROW29_NFFT140_NLAP040.png"
       ]
      },
      {
       "output_type": "stream",
       "stream": "stdout",
       "text": [
        "\n",
        "D:\\Data\\output_charts_coherence_phase//COL42_ROW30_NFFT140_NLAP040.png"
       ]
      },
      {
       "output_type": "stream",
       "stream": "stdout",
       "text": [
        "\n",
        "D:\\Data\\output_charts_coherence_phase//COL42_ROW31_NFFT140_NLAP040.png"
       ]
      },
      {
       "output_type": "stream",
       "stream": "stdout",
       "text": [
        "\n",
        "D:\\Data\\output_charts_coherence_phase//COL42_ROW32_NFFT140_NLAP040.png"
       ]
      },
      {
       "output_type": "stream",
       "stream": "stdout",
       "text": [
        "\n",
        "D:\\Data\\output_charts_coherence_phase//COL42_ROW33_NFFT140_NLAP040.png"
       ]
      },
      {
       "output_type": "stream",
       "stream": "stdout",
       "text": [
        "\n",
        "D:\\Data\\output_charts_coherence_phase//COL42_ROW34_NFFT140_NLAP040.png"
       ]
      },
      {
       "output_type": "stream",
       "stream": "stdout",
       "text": [
        "\n",
        "D:\\Data\\output_charts_coherence_phase//COL42_ROW35_NFFT140_NLAP040.png"
       ]
      },
      {
       "output_type": "stream",
       "stream": "stdout",
       "text": [
        "\n",
        "D:\\Data\\output_charts_coherence_phase//COL42_ROW36_NFFT140_NLAP040.png"
       ]
      },
      {
       "output_type": "stream",
       "stream": "stdout",
       "text": [
        "\n",
        "D:\\Data\\output_charts_coherence_phase//COL43_ROW0_NFFT140_NLAP040.png"
       ]
      },
      {
       "output_type": "stream",
       "stream": "stdout",
       "text": [
        "\n",
        "D:\\Data\\output_charts_coherence_phase//COL43_ROW1_NFFT140_NLAP040.png"
       ]
      },
      {
       "output_type": "stream",
       "stream": "stdout",
       "text": [
        "\n",
        "D:\\Data\\output_charts_coherence_phase//COL43_ROW2_NFFT140_NLAP040.png"
       ]
      },
      {
       "output_type": "stream",
       "stream": "stdout",
       "text": [
        "\n",
        "D:\\Data\\output_charts_coherence_phase//COL43_ROW3_NFFT140_NLAP040.png"
       ]
      },
      {
       "output_type": "stream",
       "stream": "stdout",
       "text": [
        "\n",
        "D:\\Data\\output_charts_coherence_phase//COL43_ROW4_NFFT140_NLAP040.png"
       ]
      },
      {
       "output_type": "stream",
       "stream": "stdout",
       "text": [
        "\n",
        "D:\\Data\\output_charts_coherence_phase//COL43_ROW5_NFFT140_NLAP040.png"
       ]
      },
      {
       "output_type": "stream",
       "stream": "stdout",
       "text": [
        "\n",
        "D:\\Data\\output_charts_coherence_phase//COL43_ROW6_NFFT140_NLAP040.png"
       ]
      },
      {
       "output_type": "stream",
       "stream": "stdout",
       "text": [
        "\n",
        "D:\\Data\\output_charts_coherence_phase//COL43_ROW7_NFFT140_NLAP040.png"
       ]
      },
      {
       "output_type": "stream",
       "stream": "stdout",
       "text": [
        "\n",
        "D:\\Data\\output_charts_coherence_phase//COL43_ROW8_NFFT140_NLAP040.png"
       ]
      },
      {
       "output_type": "stream",
       "stream": "stdout",
       "text": [
        "\n",
        "D:\\Data\\output_charts_coherence_phase//COL43_ROW9_NFFT140_NLAP040.png"
       ]
      },
      {
       "output_type": "stream",
       "stream": "stdout",
       "text": [
        "\n",
        "D:\\Data\\output_charts_coherence_phase//COL43_ROW10_NFFT140_NLAP040.png"
       ]
      },
      {
       "output_type": "stream",
       "stream": "stdout",
       "text": [
        "\n",
        "D:\\Data\\output_charts_coherence_phase//COL43_ROW11_NFFT140_NLAP040.png"
       ]
      },
      {
       "output_type": "stream",
       "stream": "stdout",
       "text": [
        "\n",
        "D:\\Data\\output_charts_coherence_phase//COL43_ROW12_NFFT140_NLAP040.png"
       ]
      },
      {
       "output_type": "stream",
       "stream": "stdout",
       "text": [
        "\n",
        "D:\\Data\\output_charts_coherence_phase//COL43_ROW13_NFFT140_NLAP040.png"
       ]
      },
      {
       "output_type": "stream",
       "stream": "stdout",
       "text": [
        "\n",
        "D:\\Data\\output_charts_coherence_phase//COL43_ROW14_NFFT140_NLAP040.png"
       ]
      },
      {
       "output_type": "stream",
       "stream": "stdout",
       "text": [
        "\n",
        "D:\\Data\\output_charts_coherence_phase//COL43_ROW15_NFFT140_NLAP040.png"
       ]
      },
      {
       "output_type": "stream",
       "stream": "stdout",
       "text": [
        "\n",
        "D:\\Data\\output_charts_coherence_phase//COL43_ROW16_NFFT140_NLAP040.png"
       ]
      },
      {
       "output_type": "stream",
       "stream": "stdout",
       "text": [
        "\n",
        "D:\\Data\\output_charts_coherence_phase//COL43_ROW17_NFFT140_NLAP040.png"
       ]
      },
      {
       "output_type": "stream",
       "stream": "stdout",
       "text": [
        "\n",
        "D:\\Data\\output_charts_coherence_phase//COL43_ROW18_NFFT140_NLAP040.png"
       ]
      },
      {
       "output_type": "stream",
       "stream": "stdout",
       "text": [
        "\n",
        "D:\\Data\\output_charts_coherence_phase//COL43_ROW19_NFFT140_NLAP040.png"
       ]
      },
      {
       "output_type": "stream",
       "stream": "stdout",
       "text": [
        "\n",
        "D:\\Data\\output_charts_coherence_phase//COL43_ROW20_NFFT140_NLAP040.png"
       ]
      },
      {
       "output_type": "stream",
       "stream": "stdout",
       "text": [
        "\n",
        "D:\\Data\\output_charts_coherence_phase//COL43_ROW21_NFFT140_NLAP040.png"
       ]
      },
      {
       "output_type": "stream",
       "stream": "stdout",
       "text": [
        "\n",
        "D:\\Data\\output_charts_coherence_phase//COL43_ROW22_NFFT140_NLAP040.png"
       ]
      },
      {
       "output_type": "stream",
       "stream": "stdout",
       "text": [
        "\n",
        "D:\\Data\\output_charts_coherence_phase//COL43_ROW23_NFFT140_NLAP040.png"
       ]
      },
      {
       "output_type": "stream",
       "stream": "stdout",
       "text": [
        "\n",
        "D:\\Data\\output_charts_coherence_phase//COL43_ROW24_NFFT140_NLAP040.png"
       ]
      },
      {
       "output_type": "stream",
       "stream": "stdout",
       "text": [
        "\n",
        "D:\\Data\\output_charts_coherence_phase//COL43_ROW25_NFFT140_NLAP040.png"
       ]
      },
      {
       "output_type": "stream",
       "stream": "stdout",
       "text": [
        "\n",
        "D:\\Data\\output_charts_coherence_phase//COL43_ROW26_NFFT140_NLAP040.png"
       ]
      },
      {
       "output_type": "stream",
       "stream": "stdout",
       "text": [
        "\n",
        "D:\\Data\\output_charts_coherence_phase//COL43_ROW27_NFFT140_NLAP040.png"
       ]
      },
      {
       "output_type": "stream",
       "stream": "stdout",
       "text": [
        "\n",
        "D:\\Data\\output_charts_coherence_phase//COL43_ROW28_NFFT140_NLAP040.png"
       ]
      },
      {
       "output_type": "stream",
       "stream": "stdout",
       "text": [
        "\n",
        "D:\\Data\\output_charts_coherence_phase//COL43_ROW29_NFFT140_NLAP040.png"
       ]
      },
      {
       "output_type": "stream",
       "stream": "stdout",
       "text": [
        "\n",
        "D:\\Data\\output_charts_coherence_phase//COL43_ROW30_NFFT140_NLAP040.png"
       ]
      },
      {
       "output_type": "stream",
       "stream": "stdout",
       "text": [
        "\n",
        "D:\\Data\\output_charts_coherence_phase//COL43_ROW31_NFFT140_NLAP040.png"
       ]
      },
      {
       "output_type": "stream",
       "stream": "stdout",
       "text": [
        "\n",
        "D:\\Data\\output_charts_coherence_phase//COL43_ROW32_NFFT140_NLAP040.png"
       ]
      },
      {
       "output_type": "stream",
       "stream": "stdout",
       "text": [
        "\n",
        "D:\\Data\\output_charts_coherence_phase//COL43_ROW33_NFFT140_NLAP040.png"
       ]
      },
      {
       "output_type": "stream",
       "stream": "stdout",
       "text": [
        "\n",
        "D:\\Data\\output_charts_coherence_phase//COL43_ROW34_NFFT140_NLAP040.png"
       ]
      },
      {
       "output_type": "stream",
       "stream": "stdout",
       "text": [
        "\n",
        "D:\\Data\\output_charts_coherence_phase//COL43_ROW35_NFFT140_NLAP040.png"
       ]
      },
      {
       "output_type": "stream",
       "stream": "stdout",
       "text": [
        "\n",
        "D:\\Data\\output_charts_coherence_phase//COL43_ROW36_NFFT140_NLAP040.png"
       ]
      },
      {
       "output_type": "stream",
       "stream": "stdout",
       "text": [
        "\n",
        "D:\\Data\\output_charts_coherence_phase//COL44_ROW0_NFFT140_NLAP040.png"
       ]
      },
      {
       "output_type": "stream",
       "stream": "stdout",
       "text": [
        "\n",
        "D:\\Data\\output_charts_coherence_phase//COL44_ROW1_NFFT140_NLAP040.png"
       ]
      },
      {
       "output_type": "stream",
       "stream": "stdout",
       "text": [
        "\n",
        "D:\\Data\\output_charts_coherence_phase//COL44_ROW2_NFFT140_NLAP040.png"
       ]
      },
      {
       "output_type": "stream",
       "stream": "stdout",
       "text": [
        "\n",
        "D:\\Data\\output_charts_coherence_phase//COL44_ROW3_NFFT140_NLAP040.png"
       ]
      },
      {
       "output_type": "stream",
       "stream": "stdout",
       "text": [
        "\n",
        "D:\\Data\\output_charts_coherence_phase//COL44_ROW4_NFFT140_NLAP040.png"
       ]
      },
      {
       "output_type": "stream",
       "stream": "stdout",
       "text": [
        "\n",
        "D:\\Data\\output_charts_coherence_phase//COL44_ROW5_NFFT140_NLAP040.png"
       ]
      },
      {
       "output_type": "stream",
       "stream": "stdout",
       "text": [
        "\n",
        "D:\\Data\\output_charts_coherence_phase//COL44_ROW6_NFFT140_NLAP040.png"
       ]
      },
      {
       "output_type": "stream",
       "stream": "stdout",
       "text": [
        "\n",
        "D:\\Data\\output_charts_coherence_phase//COL44_ROW7_NFFT140_NLAP040.png"
       ]
      },
      {
       "output_type": "stream",
       "stream": "stdout",
       "text": [
        "\n",
        "D:\\Data\\output_charts_coherence_phase//COL44_ROW8_NFFT140_NLAP040.png"
       ]
      },
      {
       "output_type": "stream",
       "stream": "stdout",
       "text": [
        "\n",
        "D:\\Data\\output_charts_coherence_phase//COL44_ROW9_NFFT140_NLAP040.png"
       ]
      },
      {
       "output_type": "stream",
       "stream": "stdout",
       "text": [
        "\n",
        "D:\\Data\\output_charts_coherence_phase//COL44_ROW10_NFFT140_NLAP040.png"
       ]
      },
      {
       "output_type": "stream",
       "stream": "stdout",
       "text": [
        "\n",
        "D:\\Data\\output_charts_coherence_phase//COL44_ROW11_NFFT140_NLAP040.png"
       ]
      },
      {
       "output_type": "stream",
       "stream": "stdout",
       "text": [
        "\n",
        "D:\\Data\\output_charts_coherence_phase//COL44_ROW12_NFFT140_NLAP040.png"
       ]
      },
      {
       "output_type": "stream",
       "stream": "stdout",
       "text": [
        "\n",
        "D:\\Data\\output_charts_coherence_phase//COL44_ROW13_NFFT140_NLAP040.png"
       ]
      },
      {
       "output_type": "stream",
       "stream": "stdout",
       "text": [
        "\n",
        "D:\\Data\\output_charts_coherence_phase//COL44_ROW14_NFFT140_NLAP040.png"
       ]
      },
      {
       "output_type": "stream",
       "stream": "stdout",
       "text": [
        "\n",
        "D:\\Data\\output_charts_coherence_phase//COL44_ROW15_NFFT140_NLAP040.png"
       ]
      },
      {
       "output_type": "stream",
       "stream": "stdout",
       "text": [
        "\n",
        "D:\\Data\\output_charts_coherence_phase//COL44_ROW16_NFFT140_NLAP040.png"
       ]
      },
      {
       "output_type": "stream",
       "stream": "stdout",
       "text": [
        "\n",
        "D:\\Data\\output_charts_coherence_phase//COL44_ROW17_NFFT140_NLAP040.png"
       ]
      },
      {
       "output_type": "stream",
       "stream": "stdout",
       "text": [
        "\n",
        "D:\\Data\\output_charts_coherence_phase//COL44_ROW18_NFFT140_NLAP040.png"
       ]
      },
      {
       "output_type": "stream",
       "stream": "stdout",
       "text": [
        "\n",
        "D:\\Data\\output_charts_coherence_phase//COL44_ROW19_NFFT140_NLAP040.png"
       ]
      },
      {
       "output_type": "stream",
       "stream": "stdout",
       "text": [
        "\n",
        "D:\\Data\\output_charts_coherence_phase//COL44_ROW20_NFFT140_NLAP040.png"
       ]
      },
      {
       "output_type": "stream",
       "stream": "stdout",
       "text": [
        "\n",
        "D:\\Data\\output_charts_coherence_phase//COL44_ROW21_NFFT140_NLAP040.png"
       ]
      },
      {
       "output_type": "stream",
       "stream": "stdout",
       "text": [
        "\n",
        "D:\\Data\\output_charts_coherence_phase//COL44_ROW22_NFFT140_NLAP040.png"
       ]
      },
      {
       "output_type": "stream",
       "stream": "stdout",
       "text": [
        "\n",
        "D:\\Data\\output_charts_coherence_phase//COL44_ROW23_NFFT140_NLAP040.png"
       ]
      },
      {
       "output_type": "stream",
       "stream": "stdout",
       "text": [
        "\n",
        "D:\\Data\\output_charts_coherence_phase//COL44_ROW24_NFFT140_NLAP040.png"
       ]
      },
      {
       "output_type": "stream",
       "stream": "stdout",
       "text": [
        "\n",
        "D:\\Data\\output_charts_coherence_phase//COL44_ROW25_NFFT140_NLAP040.png"
       ]
      },
      {
       "output_type": "stream",
       "stream": "stdout",
       "text": [
        "\n",
        "D:\\Data\\output_charts_coherence_phase//COL44_ROW26_NFFT140_NLAP040.png"
       ]
      },
      {
       "output_type": "stream",
       "stream": "stdout",
       "text": [
        "\n",
        "D:\\Data\\output_charts_coherence_phase//COL44_ROW27_NFFT140_NLAP040.png"
       ]
      },
      {
       "output_type": "stream",
       "stream": "stdout",
       "text": [
        "\n",
        "D:\\Data\\output_charts_coherence_phase//COL44_ROW28_NFFT140_NLAP040.png"
       ]
      },
      {
       "output_type": "stream",
       "stream": "stdout",
       "text": [
        "\n",
        "D:\\Data\\output_charts_coherence_phase//COL44_ROW29_NFFT140_NLAP040.png"
       ]
      },
      {
       "output_type": "stream",
       "stream": "stdout",
       "text": [
        "\n",
        "D:\\Data\\output_charts_coherence_phase//COL44_ROW30_NFFT140_NLAP040.png"
       ]
      },
      {
       "output_type": "stream",
       "stream": "stdout",
       "text": [
        "\n",
        "D:\\Data\\output_charts_coherence_phase//COL44_ROW31_NFFT140_NLAP040.png"
       ]
      },
      {
       "output_type": "stream",
       "stream": "stdout",
       "text": [
        "\n",
        "D:\\Data\\output_charts_coherence_phase//COL44_ROW32_NFFT140_NLAP040.png"
       ]
      },
      {
       "output_type": "stream",
       "stream": "stdout",
       "text": [
        "\n",
        "D:\\Data\\output_charts_coherence_phase//COL44_ROW33_NFFT140_NLAP040.png"
       ]
      },
      {
       "output_type": "stream",
       "stream": "stdout",
       "text": [
        "\n",
        "D:\\Data\\output_charts_coherence_phase//COL44_ROW34_NFFT140_NLAP040.png"
       ]
      },
      {
       "output_type": "stream",
       "stream": "stdout",
       "text": [
        "\n",
        "D:\\Data\\output_charts_coherence_phase//COL44_ROW35_NFFT140_NLAP040.png"
       ]
      },
      {
       "output_type": "stream",
       "stream": "stdout",
       "text": [
        "\n",
        "D:\\Data\\output_charts_coherence_phase//COL44_ROW36_NFFT140_NLAP040.png"
       ]
      },
      {
       "output_type": "stream",
       "stream": "stdout",
       "text": [
        "\n",
        "D:\\Data\\output_charts_coherence_phase//COL45_ROW0_NFFT140_NLAP040.png"
       ]
      },
      {
       "output_type": "stream",
       "stream": "stdout",
       "text": [
        "\n",
        "D:\\Data\\output_charts_coherence_phase//COL45_ROW1_NFFT140_NLAP040.png"
       ]
      },
      {
       "output_type": "stream",
       "stream": "stdout",
       "text": [
        "\n",
        "D:\\Data\\output_charts_coherence_phase//COL45_ROW2_NFFT140_NLAP040.png"
       ]
      },
      {
       "output_type": "stream",
       "stream": "stdout",
       "text": [
        "\n",
        "D:\\Data\\output_charts_coherence_phase//COL45_ROW3_NFFT140_NLAP040.png"
       ]
      },
      {
       "output_type": "stream",
       "stream": "stdout",
       "text": [
        "\n",
        "D:\\Data\\output_charts_coherence_phase//COL45_ROW4_NFFT140_NLAP040.png"
       ]
      },
      {
       "output_type": "stream",
       "stream": "stdout",
       "text": [
        "\n",
        "D:\\Data\\output_charts_coherence_phase//COL45_ROW5_NFFT140_NLAP040.png"
       ]
      },
      {
       "output_type": "stream",
       "stream": "stdout",
       "text": [
        "\n",
        "D:\\Data\\output_charts_coherence_phase//COL45_ROW6_NFFT140_NLAP040.png"
       ]
      },
      {
       "output_type": "stream",
       "stream": "stdout",
       "text": [
        "\n",
        "D:\\Data\\output_charts_coherence_phase//COL45_ROW7_NFFT140_NLAP040.png"
       ]
      },
      {
       "output_type": "stream",
       "stream": "stdout",
       "text": [
        "\n",
        "D:\\Data\\output_charts_coherence_phase//COL45_ROW8_NFFT140_NLAP040.png"
       ]
      },
      {
       "output_type": "stream",
       "stream": "stdout",
       "text": [
        "\n",
        "D:\\Data\\output_charts_coherence_phase//COL45_ROW9_NFFT140_NLAP040.png"
       ]
      },
      {
       "output_type": "stream",
       "stream": "stdout",
       "text": [
        "\n",
        "D:\\Data\\output_charts_coherence_phase//COL45_ROW10_NFFT140_NLAP040.png"
       ]
      },
      {
       "output_type": "stream",
       "stream": "stdout",
       "text": [
        "\n",
        "D:\\Data\\output_charts_coherence_phase//COL45_ROW11_NFFT140_NLAP040.png"
       ]
      },
      {
       "output_type": "stream",
       "stream": "stdout",
       "text": [
        "\n",
        "D:\\Data\\output_charts_coherence_phase//COL45_ROW12_NFFT140_NLAP040.png"
       ]
      },
      {
       "output_type": "stream",
       "stream": "stdout",
       "text": [
        "\n",
        "D:\\Data\\output_charts_coherence_phase//COL45_ROW13_NFFT140_NLAP040.png"
       ]
      },
      {
       "output_type": "stream",
       "stream": "stdout",
       "text": [
        "\n",
        "D:\\Data\\output_charts_coherence_phase//COL45_ROW14_NFFT140_NLAP040.png"
       ]
      },
      {
       "output_type": "stream",
       "stream": "stdout",
       "text": [
        "\n",
        "D:\\Data\\output_charts_coherence_phase//COL45_ROW15_NFFT140_NLAP040.png"
       ]
      },
      {
       "output_type": "stream",
       "stream": "stdout",
       "text": [
        "\n",
        "D:\\Data\\output_charts_coherence_phase//COL45_ROW16_NFFT140_NLAP040.png"
       ]
      },
      {
       "output_type": "stream",
       "stream": "stdout",
       "text": [
        "\n",
        "D:\\Data\\output_charts_coherence_phase//COL45_ROW17_NFFT140_NLAP040.png"
       ]
      },
      {
       "output_type": "stream",
       "stream": "stdout",
       "text": [
        "\n",
        "D:\\Data\\output_charts_coherence_phase//COL45_ROW18_NFFT140_NLAP040.png"
       ]
      },
      {
       "output_type": "stream",
       "stream": "stdout",
       "text": [
        "\n",
        "D:\\Data\\output_charts_coherence_phase//COL45_ROW19_NFFT140_NLAP040.png"
       ]
      },
      {
       "output_type": "stream",
       "stream": "stdout",
       "text": [
        "\n",
        "D:\\Data\\output_charts_coherence_phase//COL45_ROW20_NFFT140_NLAP040.png"
       ]
      },
      {
       "output_type": "stream",
       "stream": "stdout",
       "text": [
        "\n",
        "D:\\Data\\output_charts_coherence_phase//COL45_ROW21_NFFT140_NLAP040.png"
       ]
      },
      {
       "output_type": "stream",
       "stream": "stdout",
       "text": [
        "\n",
        "D:\\Data\\output_charts_coherence_phase//COL45_ROW22_NFFT140_NLAP040.png"
       ]
      },
      {
       "output_type": "stream",
       "stream": "stdout",
       "text": [
        "\n",
        "D:\\Data\\output_charts_coherence_phase//COL45_ROW23_NFFT140_NLAP040.png"
       ]
      },
      {
       "output_type": "stream",
       "stream": "stdout",
       "text": [
        "\n",
        "D:\\Data\\output_charts_coherence_phase//COL45_ROW24_NFFT140_NLAP040.png"
       ]
      },
      {
       "output_type": "stream",
       "stream": "stdout",
       "text": [
        "\n",
        "D:\\Data\\output_charts_coherence_phase//COL45_ROW25_NFFT140_NLAP040.png"
       ]
      },
      {
       "output_type": "stream",
       "stream": "stdout",
       "text": [
        "\n",
        "D:\\Data\\output_charts_coherence_phase//COL45_ROW26_NFFT140_NLAP040.png"
       ]
      },
      {
       "output_type": "stream",
       "stream": "stdout",
       "text": [
        "\n",
        "D:\\Data\\output_charts_coherence_phase//COL45_ROW27_NFFT140_NLAP040.png"
       ]
      },
      {
       "output_type": "stream",
       "stream": "stdout",
       "text": [
        "\n",
        "D:\\Data\\output_charts_coherence_phase//COL45_ROW28_NFFT140_NLAP040.png"
       ]
      },
      {
       "output_type": "stream",
       "stream": "stdout",
       "text": [
        "\n",
        "D:\\Data\\output_charts_coherence_phase//COL45_ROW29_NFFT140_NLAP040.png"
       ]
      },
      {
       "output_type": "stream",
       "stream": "stdout",
       "text": [
        "\n",
        "D:\\Data\\output_charts_coherence_phase//COL45_ROW30_NFFT140_NLAP040.png"
       ]
      },
      {
       "output_type": "stream",
       "stream": "stdout",
       "text": [
        "\n",
        "D:\\Data\\output_charts_coherence_phase//COL45_ROW31_NFFT140_NLAP040.png"
       ]
      },
      {
       "output_type": "stream",
       "stream": "stdout",
       "text": [
        "\n",
        "D:\\Data\\output_charts_coherence_phase//COL45_ROW32_NFFT140_NLAP040.png"
       ]
      },
      {
       "output_type": "stream",
       "stream": "stdout",
       "text": [
        "\n",
        "D:\\Data\\output_charts_coherence_phase//COL45_ROW33_NFFT140_NLAP040.png"
       ]
      },
      {
       "output_type": "stream",
       "stream": "stdout",
       "text": [
        "\n",
        "D:\\Data\\output_charts_coherence_phase//COL45_ROW34_NFFT140_NLAP040.png"
       ]
      },
      {
       "output_type": "stream",
       "stream": "stdout",
       "text": [
        "\n",
        "D:\\Data\\output_charts_coherence_phase//COL45_ROW35_NFFT140_NLAP040.png"
       ]
      },
      {
       "output_type": "stream",
       "stream": "stdout",
       "text": [
        "\n",
        "D:\\Data\\output_charts_coherence_phase//COL45_ROW36_NFFT140_NLAP040.png"
       ]
      },
      {
       "output_type": "stream",
       "stream": "stdout",
       "text": [
        "\n",
        "D:\\Data\\output_charts_coherence_phase//COL46_ROW0_NFFT140_NLAP040.png"
       ]
      },
      {
       "output_type": "stream",
       "stream": "stdout",
       "text": [
        "\n",
        "D:\\Data\\output_charts_coherence_phase//COL46_ROW1_NFFT140_NLAP040.png"
       ]
      },
      {
       "output_type": "stream",
       "stream": "stdout",
       "text": [
        "\n",
        "D:\\Data\\output_charts_coherence_phase//COL46_ROW2_NFFT140_NLAP040.png"
       ]
      },
      {
       "output_type": "stream",
       "stream": "stdout",
       "text": [
        "\n",
        "D:\\Data\\output_charts_coherence_phase//COL46_ROW3_NFFT140_NLAP040.png"
       ]
      },
      {
       "output_type": "stream",
       "stream": "stdout",
       "text": [
        "\n",
        "D:\\Data\\output_charts_coherence_phase//COL46_ROW4_NFFT140_NLAP040.png"
       ]
      },
      {
       "output_type": "stream",
       "stream": "stdout",
       "text": [
        "\n",
        "D:\\Data\\output_charts_coherence_phase//COL46_ROW5_NFFT140_NLAP040.png"
       ]
      },
      {
       "output_type": "stream",
       "stream": "stdout",
       "text": [
        "\n",
        "D:\\Data\\output_charts_coherence_phase//COL46_ROW6_NFFT140_NLAP040.png"
       ]
      },
      {
       "output_type": "stream",
       "stream": "stdout",
       "text": [
        "\n",
        "D:\\Data\\output_charts_coherence_phase//COL46_ROW7_NFFT140_NLAP040.png"
       ]
      },
      {
       "output_type": "stream",
       "stream": "stdout",
       "text": [
        "\n",
        "D:\\Data\\output_charts_coherence_phase//COL46_ROW8_NFFT140_NLAP040.png"
       ]
      },
      {
       "output_type": "stream",
       "stream": "stdout",
       "text": [
        "\n",
        "D:\\Data\\output_charts_coherence_phase//COL46_ROW9_NFFT140_NLAP040.png"
       ]
      },
      {
       "output_type": "stream",
       "stream": "stdout",
       "text": [
        "\n",
        "D:\\Data\\output_charts_coherence_phase//COL46_ROW10_NFFT140_NLAP040.png"
       ]
      },
      {
       "output_type": "stream",
       "stream": "stdout",
       "text": [
        "\n",
        "D:\\Data\\output_charts_coherence_phase//COL46_ROW11_NFFT140_NLAP040.png"
       ]
      },
      {
       "output_type": "stream",
       "stream": "stdout",
       "text": [
        "\n",
        "D:\\Data\\output_charts_coherence_phase//COL46_ROW12_NFFT140_NLAP040.png"
       ]
      },
      {
       "output_type": "stream",
       "stream": "stdout",
       "text": [
        "\n",
        "D:\\Data\\output_charts_coherence_phase//COL46_ROW13_NFFT140_NLAP040.png"
       ]
      },
      {
       "output_type": "stream",
       "stream": "stdout",
       "text": [
        "\n",
        "D:\\Data\\output_charts_coherence_phase//COL46_ROW14_NFFT140_NLAP040.png"
       ]
      },
      {
       "output_type": "stream",
       "stream": "stdout",
       "text": [
        "\n",
        "D:\\Data\\output_charts_coherence_phase//COL46_ROW15_NFFT140_NLAP040.png"
       ]
      },
      {
       "output_type": "stream",
       "stream": "stdout",
       "text": [
        "\n",
        "D:\\Data\\output_charts_coherence_phase//COL46_ROW16_NFFT140_NLAP040.png"
       ]
      },
      {
       "output_type": "stream",
       "stream": "stdout",
       "text": [
        "\n",
        "D:\\Data\\output_charts_coherence_phase//COL46_ROW17_NFFT140_NLAP040.png"
       ]
      },
      {
       "output_type": "stream",
       "stream": "stdout",
       "text": [
        "\n",
        "D:\\Data\\output_charts_coherence_phase//COL46_ROW18_NFFT140_NLAP040.png"
       ]
      },
      {
       "output_type": "stream",
       "stream": "stdout",
       "text": [
        "\n",
        "D:\\Data\\output_charts_coherence_phase//COL46_ROW19_NFFT140_NLAP040.png"
       ]
      },
      {
       "output_type": "stream",
       "stream": "stdout",
       "text": [
        "\n",
        "D:\\Data\\output_charts_coherence_phase//COL46_ROW20_NFFT140_NLAP040.png"
       ]
      },
      {
       "output_type": "stream",
       "stream": "stdout",
       "text": [
        "\n",
        "D:\\Data\\output_charts_coherence_phase//COL46_ROW21_NFFT140_NLAP040.png"
       ]
      },
      {
       "output_type": "stream",
       "stream": "stdout",
       "text": [
        "\n",
        "D:\\Data\\output_charts_coherence_phase//COL46_ROW22_NFFT140_NLAP040.png"
       ]
      },
      {
       "output_type": "stream",
       "stream": "stdout",
       "text": [
        "\n",
        "D:\\Data\\output_charts_coherence_phase//COL46_ROW23_NFFT140_NLAP040.png"
       ]
      },
      {
       "output_type": "stream",
       "stream": "stdout",
       "text": [
        "\n",
        "D:\\Data\\output_charts_coherence_phase//COL46_ROW24_NFFT140_NLAP040.png"
       ]
      },
      {
       "output_type": "stream",
       "stream": "stdout",
       "text": [
        "\n",
        "D:\\Data\\output_charts_coherence_phase//COL46_ROW25_NFFT140_NLAP040.png"
       ]
      },
      {
       "output_type": "stream",
       "stream": "stdout",
       "text": [
        "\n",
        "D:\\Data\\output_charts_coherence_phase//COL46_ROW26_NFFT140_NLAP040.png"
       ]
      },
      {
       "output_type": "stream",
       "stream": "stdout",
       "text": [
        "\n",
        "D:\\Data\\output_charts_coherence_phase//COL46_ROW27_NFFT140_NLAP040.png"
       ]
      },
      {
       "output_type": "stream",
       "stream": "stdout",
       "text": [
        "\n",
        "D:\\Data\\output_charts_coherence_phase//COL46_ROW28_NFFT140_NLAP040.png"
       ]
      },
      {
       "output_type": "stream",
       "stream": "stdout",
       "text": [
        "\n",
        "D:\\Data\\output_charts_coherence_phase//COL46_ROW29_NFFT140_NLAP040.png"
       ]
      },
      {
       "output_type": "stream",
       "stream": "stdout",
       "text": [
        "\n",
        "D:\\Data\\output_charts_coherence_phase//COL46_ROW30_NFFT140_NLAP040.png"
       ]
      },
      {
       "output_type": "stream",
       "stream": "stdout",
       "text": [
        "\n",
        "D:\\Data\\output_charts_coherence_phase//COL46_ROW31_NFFT140_NLAP040.png"
       ]
      },
      {
       "output_type": "stream",
       "stream": "stdout",
       "text": [
        "\n",
        "D:\\Data\\output_charts_coherence_phase//COL46_ROW32_NFFT140_NLAP040.png"
       ]
      },
      {
       "output_type": "stream",
       "stream": "stdout",
       "text": [
        "\n",
        "D:\\Data\\output_charts_coherence_phase//COL46_ROW33_NFFT140_NLAP040.png"
       ]
      },
      {
       "output_type": "stream",
       "stream": "stdout",
       "text": [
        "\n",
        "D:\\Data\\output_charts_coherence_phase//COL46_ROW34_NFFT140_NLAP040.png"
       ]
      },
      {
       "output_type": "stream",
       "stream": "stdout",
       "text": [
        "\n",
        "D:\\Data\\output_charts_coherence_phase//COL46_ROW35_NFFT140_NLAP040.png"
       ]
      },
      {
       "output_type": "stream",
       "stream": "stdout",
       "text": [
        "\n",
        "D:\\Data\\output_charts_coherence_phase//COL46_ROW36_NFFT140_NLAP040.png"
       ]
      },
      {
       "output_type": "stream",
       "stream": "stdout",
       "text": [
        "\n",
        "D:\\Data\\output_charts_coherence_phase//COL47_ROW0_NFFT140_NLAP040.png"
       ]
      },
      {
       "output_type": "stream",
       "stream": "stdout",
       "text": [
        "\n",
        "D:\\Data\\output_charts_coherence_phase//COL47_ROW1_NFFT140_NLAP040.png"
       ]
      },
      {
       "output_type": "stream",
       "stream": "stdout",
       "text": [
        "\n",
        "D:\\Data\\output_charts_coherence_phase//COL47_ROW2_NFFT140_NLAP040.png"
       ]
      },
      {
       "output_type": "stream",
       "stream": "stdout",
       "text": [
        "\n",
        "D:\\Data\\output_charts_coherence_phase//COL47_ROW3_NFFT140_NLAP040.png"
       ]
      },
      {
       "output_type": "stream",
       "stream": "stdout",
       "text": [
        "\n",
        "D:\\Data\\output_charts_coherence_phase//COL47_ROW4_NFFT140_NLAP040.png"
       ]
      },
      {
       "output_type": "stream",
       "stream": "stdout",
       "text": [
        "\n",
        "D:\\Data\\output_charts_coherence_phase//COL47_ROW5_NFFT140_NLAP040.png"
       ]
      },
      {
       "output_type": "stream",
       "stream": "stdout",
       "text": [
        "\n",
        "D:\\Data\\output_charts_coherence_phase//COL47_ROW6_NFFT140_NLAP040.png"
       ]
      },
      {
       "output_type": "stream",
       "stream": "stdout",
       "text": [
        "\n",
        "D:\\Data\\output_charts_coherence_phase//COL47_ROW7_NFFT140_NLAP040.png"
       ]
      },
      {
       "output_type": "stream",
       "stream": "stdout",
       "text": [
        "\n",
        "D:\\Data\\output_charts_coherence_phase//COL47_ROW8_NFFT140_NLAP040.png"
       ]
      },
      {
       "output_type": "stream",
       "stream": "stdout",
       "text": [
        "\n",
        "D:\\Data\\output_charts_coherence_phase//COL47_ROW9_NFFT140_NLAP040.png"
       ]
      },
      {
       "output_type": "stream",
       "stream": "stdout",
       "text": [
        "\n",
        "D:\\Data\\output_charts_coherence_phase//COL47_ROW10_NFFT140_NLAP040.png"
       ]
      },
      {
       "output_type": "stream",
       "stream": "stdout",
       "text": [
        "\n",
        "D:\\Data\\output_charts_coherence_phase//COL47_ROW11_NFFT140_NLAP040.png"
       ]
      },
      {
       "output_type": "stream",
       "stream": "stdout",
       "text": [
        "\n",
        "D:\\Data\\output_charts_coherence_phase//COL47_ROW12_NFFT140_NLAP040.png"
       ]
      },
      {
       "output_type": "stream",
       "stream": "stdout",
       "text": [
        "\n",
        "D:\\Data\\output_charts_coherence_phase//COL47_ROW13_NFFT140_NLAP040.png"
       ]
      },
      {
       "output_type": "stream",
       "stream": "stdout",
       "text": [
        "\n",
        "D:\\Data\\output_charts_coherence_phase//COL47_ROW14_NFFT140_NLAP040.png"
       ]
      },
      {
       "output_type": "stream",
       "stream": "stdout",
       "text": [
        "\n",
        "D:\\Data\\output_charts_coherence_phase//COL47_ROW15_NFFT140_NLAP040.png"
       ]
      },
      {
       "output_type": "stream",
       "stream": "stdout",
       "text": [
        "\n",
        "D:\\Data\\output_charts_coherence_phase//COL47_ROW16_NFFT140_NLAP040.png"
       ]
      },
      {
       "output_type": "stream",
       "stream": "stdout",
       "text": [
        "\n",
        "D:\\Data\\output_charts_coherence_phase//COL47_ROW17_NFFT140_NLAP040.png"
       ]
      },
      {
       "output_type": "stream",
       "stream": "stdout",
       "text": [
        "\n",
        "D:\\Data\\output_charts_coherence_phase//COL47_ROW18_NFFT140_NLAP040.png"
       ]
      },
      {
       "output_type": "stream",
       "stream": "stdout",
       "text": [
        "\n",
        "D:\\Data\\output_charts_coherence_phase//COL47_ROW19_NFFT140_NLAP040.png"
       ]
      },
      {
       "output_type": "stream",
       "stream": "stdout",
       "text": [
        "\n",
        "D:\\Data\\output_charts_coherence_phase//COL47_ROW20_NFFT140_NLAP040.png"
       ]
      },
      {
       "output_type": "stream",
       "stream": "stdout",
       "text": [
        "\n",
        "D:\\Data\\output_charts_coherence_phase//COL47_ROW21_NFFT140_NLAP040.png"
       ]
      },
      {
       "output_type": "stream",
       "stream": "stdout",
       "text": [
        "\n",
        "D:\\Data\\output_charts_coherence_phase//COL47_ROW22_NFFT140_NLAP040.png"
       ]
      },
      {
       "output_type": "stream",
       "stream": "stdout",
       "text": [
        "\n",
        "D:\\Data\\output_charts_coherence_phase//COL47_ROW23_NFFT140_NLAP040.png"
       ]
      },
      {
       "output_type": "stream",
       "stream": "stdout",
       "text": [
        "\n",
        "D:\\Data\\output_charts_coherence_phase//COL47_ROW24_NFFT140_NLAP040.png"
       ]
      },
      {
       "output_type": "stream",
       "stream": "stdout",
       "text": [
        "\n",
        "D:\\Data\\output_charts_coherence_phase//COL47_ROW25_NFFT140_NLAP040.png"
       ]
      },
      {
       "output_type": "stream",
       "stream": "stdout",
       "text": [
        "\n",
        "D:\\Data\\output_charts_coherence_phase//COL47_ROW26_NFFT140_NLAP040.png"
       ]
      },
      {
       "output_type": "stream",
       "stream": "stdout",
       "text": [
        "\n",
        "D:\\Data\\output_charts_coherence_phase//COL47_ROW27_NFFT140_NLAP040.png"
       ]
      },
      {
       "output_type": "stream",
       "stream": "stdout",
       "text": [
        "\n",
        "D:\\Data\\output_charts_coherence_phase//COL47_ROW28_NFFT140_NLAP040.png"
       ]
      },
      {
       "output_type": "stream",
       "stream": "stdout",
       "text": [
        "\n",
        "D:\\Data\\output_charts_coherence_phase//COL47_ROW29_NFFT140_NLAP040.png"
       ]
      },
      {
       "output_type": "stream",
       "stream": "stdout",
       "text": [
        "\n",
        "D:\\Data\\output_charts_coherence_phase//COL47_ROW30_NFFT140_NLAP040.png"
       ]
      },
      {
       "output_type": "stream",
       "stream": "stdout",
       "text": [
        "\n",
        "D:\\Data\\output_charts_coherence_phase//COL47_ROW31_NFFT140_NLAP040.png"
       ]
      },
      {
       "output_type": "stream",
       "stream": "stdout",
       "text": [
        "\n",
        "D:\\Data\\output_charts_coherence_phase//COL47_ROW32_NFFT140_NLAP040.png"
       ]
      },
      {
       "output_type": "stream",
       "stream": "stdout",
       "text": [
        "\n",
        "D:\\Data\\output_charts_coherence_phase//COL47_ROW33_NFFT140_NLAP040.png"
       ]
      },
      {
       "output_type": "stream",
       "stream": "stdout",
       "text": [
        "\n",
        "D:\\Data\\output_charts_coherence_phase//COL47_ROW34_NFFT140_NLAP040.png"
       ]
      },
      {
       "output_type": "stream",
       "stream": "stdout",
       "text": [
        "\n",
        "D:\\Data\\output_charts_coherence_phase//COL47_ROW35_NFFT140_NLAP040.png"
       ]
      },
      {
       "output_type": "stream",
       "stream": "stdout",
       "text": [
        "\n",
        "D:\\Data\\output_charts_coherence_phase//COL47_ROW36_NFFT140_NLAP040.png"
       ]
      },
      {
       "output_type": "stream",
       "stream": "stdout",
       "text": [
        "\n",
        "D:\\Data\\output_charts_coherence_phase//COL48_ROW0_NFFT140_NLAP040.png"
       ]
      },
      {
       "output_type": "stream",
       "stream": "stdout",
       "text": [
        "\n",
        "D:\\Data\\output_charts_coherence_phase//COL48_ROW1_NFFT140_NLAP040.png"
       ]
      },
      {
       "output_type": "stream",
       "stream": "stdout",
       "text": [
        "\n",
        "D:\\Data\\output_charts_coherence_phase//COL48_ROW2_NFFT140_NLAP040.png"
       ]
      },
      {
       "output_type": "stream",
       "stream": "stdout",
       "text": [
        "\n",
        "D:\\Data\\output_charts_coherence_phase//COL48_ROW3_NFFT140_NLAP040.png"
       ]
      },
      {
       "output_type": "stream",
       "stream": "stdout",
       "text": [
        "\n",
        "D:\\Data\\output_charts_coherence_phase//COL48_ROW4_NFFT140_NLAP040.png"
       ]
      },
      {
       "output_type": "stream",
       "stream": "stdout",
       "text": [
        "\n",
        "D:\\Data\\output_charts_coherence_phase//COL48_ROW5_NFFT140_NLAP040.png"
       ]
      },
      {
       "output_type": "stream",
       "stream": "stdout",
       "text": [
        "\n",
        "D:\\Data\\output_charts_coherence_phase//COL48_ROW6_NFFT140_NLAP040.png"
       ]
      },
      {
       "output_type": "stream",
       "stream": "stdout",
       "text": [
        "\n",
        "D:\\Data\\output_charts_coherence_phase//COL48_ROW7_NFFT140_NLAP040.png"
       ]
      },
      {
       "output_type": "stream",
       "stream": "stdout",
       "text": [
        "\n",
        "D:\\Data\\output_charts_coherence_phase//COL48_ROW8_NFFT140_NLAP040.png"
       ]
      },
      {
       "output_type": "stream",
       "stream": "stdout",
       "text": [
        "\n",
        "D:\\Data\\output_charts_coherence_phase//COL48_ROW9_NFFT140_NLAP040.png"
       ]
      },
      {
       "output_type": "stream",
       "stream": "stdout",
       "text": [
        "\n",
        "D:\\Data\\output_charts_coherence_phase//COL48_ROW10_NFFT140_NLAP040.png"
       ]
      },
      {
       "output_type": "stream",
       "stream": "stdout",
       "text": [
        "\n",
        "D:\\Data\\output_charts_coherence_phase//COL48_ROW11_NFFT140_NLAP040.png"
       ]
      },
      {
       "output_type": "stream",
       "stream": "stdout",
       "text": [
        "\n",
        "D:\\Data\\output_charts_coherence_phase//COL48_ROW12_NFFT140_NLAP040.png"
       ]
      },
      {
       "output_type": "stream",
       "stream": "stdout",
       "text": [
        "\n",
        "D:\\Data\\output_charts_coherence_phase//COL48_ROW13_NFFT140_NLAP040.png"
       ]
      },
      {
       "output_type": "stream",
       "stream": "stdout",
       "text": [
        "\n",
        "D:\\Data\\output_charts_coherence_phase//COL48_ROW14_NFFT140_NLAP040.png"
       ]
      },
      {
       "output_type": "stream",
       "stream": "stdout",
       "text": [
        "\n",
        "D:\\Data\\output_charts_coherence_phase//COL48_ROW15_NFFT140_NLAP040.png"
       ]
      },
      {
       "output_type": "stream",
       "stream": "stdout",
       "text": [
        "\n",
        "D:\\Data\\output_charts_coherence_phase//COL48_ROW16_NFFT140_NLAP040.png"
       ]
      },
      {
       "output_type": "stream",
       "stream": "stdout",
       "text": [
        "\n",
        "D:\\Data\\output_charts_coherence_phase//COL48_ROW17_NFFT140_NLAP040.png"
       ]
      },
      {
       "output_type": "stream",
       "stream": "stdout",
       "text": [
        "\n",
        "D:\\Data\\output_charts_coherence_phase//COL48_ROW18_NFFT140_NLAP040.png"
       ]
      },
      {
       "output_type": "stream",
       "stream": "stdout",
       "text": [
        "\n",
        "D:\\Data\\output_charts_coherence_phase//COL48_ROW19_NFFT140_NLAP040.png"
       ]
      },
      {
       "output_type": "stream",
       "stream": "stdout",
       "text": [
        "\n",
        "D:\\Data\\output_charts_coherence_phase//COL48_ROW20_NFFT140_NLAP040.png"
       ]
      },
      {
       "output_type": "stream",
       "stream": "stdout",
       "text": [
        "\n",
        "D:\\Data\\output_charts_coherence_phase//COL48_ROW21_NFFT140_NLAP040.png"
       ]
      },
      {
       "output_type": "stream",
       "stream": "stdout",
       "text": [
        "\n",
        "D:\\Data\\output_charts_coherence_phase//COL48_ROW22_NFFT140_NLAP040.png"
       ]
      },
      {
       "output_type": "stream",
       "stream": "stdout",
       "text": [
        "\n",
        "D:\\Data\\output_charts_coherence_phase//COL48_ROW23_NFFT140_NLAP040.png"
       ]
      },
      {
       "output_type": "stream",
       "stream": "stdout",
       "text": [
        "\n",
        "D:\\Data\\output_charts_coherence_phase//COL48_ROW24_NFFT140_NLAP040.png"
       ]
      },
      {
       "output_type": "stream",
       "stream": "stdout",
       "text": [
        "\n",
        "D:\\Data\\output_charts_coherence_phase//COL48_ROW25_NFFT140_NLAP040.png"
       ]
      },
      {
       "output_type": "stream",
       "stream": "stdout",
       "text": [
        "\n",
        "D:\\Data\\output_charts_coherence_phase//COL48_ROW26_NFFT140_NLAP040.png"
       ]
      },
      {
       "output_type": "stream",
       "stream": "stdout",
       "text": [
        "\n",
        "D:\\Data\\output_charts_coherence_phase//COL48_ROW27_NFFT140_NLAP040.png"
       ]
      },
      {
       "output_type": "stream",
       "stream": "stdout",
       "text": [
        "\n",
        "D:\\Data\\output_charts_coherence_phase//COL48_ROW28_NFFT140_NLAP040.png"
       ]
      },
      {
       "output_type": "stream",
       "stream": "stdout",
       "text": [
        "\n",
        "D:\\Data\\output_charts_coherence_phase//COL48_ROW29_NFFT140_NLAP040.png"
       ]
      },
      {
       "output_type": "stream",
       "stream": "stdout",
       "text": [
        "\n",
        "D:\\Data\\output_charts_coherence_phase//COL48_ROW30_NFFT140_NLAP040.png"
       ]
      },
      {
       "output_type": "stream",
       "stream": "stdout",
       "text": [
        "\n",
        "D:\\Data\\output_charts_coherence_phase//COL48_ROW31_NFFT140_NLAP040.png"
       ]
      },
      {
       "output_type": "stream",
       "stream": "stdout",
       "text": [
        "\n",
        "D:\\Data\\output_charts_coherence_phase//COL48_ROW32_NFFT140_NLAP040.png"
       ]
      },
      {
       "output_type": "stream",
       "stream": "stdout",
       "text": [
        "\n",
        "D:\\Data\\output_charts_coherence_phase//COL48_ROW33_NFFT140_NLAP040.png"
       ]
      },
      {
       "output_type": "stream",
       "stream": "stdout",
       "text": [
        "\n",
        "D:\\Data\\output_charts_coherence_phase//COL48_ROW34_NFFT140_NLAP040.png"
       ]
      },
      {
       "output_type": "stream",
       "stream": "stdout",
       "text": [
        "\n",
        "D:\\Data\\output_charts_coherence_phase//COL48_ROW35_NFFT140_NLAP040.png"
       ]
      },
      {
       "output_type": "stream",
       "stream": "stdout",
       "text": [
        "\n",
        "D:\\Data\\output_charts_coherence_phase//COL48_ROW36_NFFT140_NLAP040.png"
       ]
      },
      {
       "output_type": "stream",
       "stream": "stdout",
       "text": [
        "\n",
        "D:\\Data\\output_charts_coherence_phase//COL49_ROW0_NFFT140_NLAP040.png"
       ]
      },
      {
       "output_type": "stream",
       "stream": "stdout",
       "text": [
        "\n",
        "D:\\Data\\output_charts_coherence_phase//COL49_ROW1_NFFT140_NLAP040.png"
       ]
      },
      {
       "output_type": "stream",
       "stream": "stdout",
       "text": [
        "\n",
        "D:\\Data\\output_charts_coherence_phase//COL49_ROW2_NFFT140_NLAP040.png"
       ]
      },
      {
       "output_type": "stream",
       "stream": "stdout",
       "text": [
        "\n",
        "D:\\Data\\output_charts_coherence_phase//COL49_ROW3_NFFT140_NLAP040.png"
       ]
      },
      {
       "output_type": "stream",
       "stream": "stdout",
       "text": [
        "\n",
        "D:\\Data\\output_charts_coherence_phase//COL49_ROW4_NFFT140_NLAP040.png"
       ]
      },
      {
       "output_type": "stream",
       "stream": "stdout",
       "text": [
        "\n",
        "D:\\Data\\output_charts_coherence_phase//COL49_ROW5_NFFT140_NLAP040.png"
       ]
      },
      {
       "output_type": "stream",
       "stream": "stdout",
       "text": [
        "\n",
        "D:\\Data\\output_charts_coherence_phase//COL49_ROW6_NFFT140_NLAP040.png"
       ]
      },
      {
       "output_type": "stream",
       "stream": "stdout",
       "text": [
        "\n",
        "D:\\Data\\output_charts_coherence_phase//COL49_ROW7_NFFT140_NLAP040.png"
       ]
      },
      {
       "output_type": "stream",
       "stream": "stdout",
       "text": [
        "\n",
        "D:\\Data\\output_charts_coherence_phase//COL49_ROW8_NFFT140_NLAP040.png"
       ]
      },
      {
       "output_type": "stream",
       "stream": "stdout",
       "text": [
        "\n",
        "D:\\Data\\output_charts_coherence_phase//COL49_ROW9_NFFT140_NLAP040.png"
       ]
      },
      {
       "output_type": "stream",
       "stream": "stdout",
       "text": [
        "\n",
        "D:\\Data\\output_charts_coherence_phase//COL49_ROW10_NFFT140_NLAP040.png"
       ]
      },
      {
       "output_type": "stream",
       "stream": "stdout",
       "text": [
        "\n",
        "D:\\Data\\output_charts_coherence_phase//COL49_ROW11_NFFT140_NLAP040.png"
       ]
      },
      {
       "output_type": "stream",
       "stream": "stdout",
       "text": [
        "\n",
        "D:\\Data\\output_charts_coherence_phase//COL49_ROW12_NFFT140_NLAP040.png"
       ]
      },
      {
       "output_type": "stream",
       "stream": "stdout",
       "text": [
        "\n",
        "D:\\Data\\output_charts_coherence_phase//COL49_ROW13_NFFT140_NLAP040.png"
       ]
      },
      {
       "output_type": "stream",
       "stream": "stdout",
       "text": [
        "\n",
        "D:\\Data\\output_charts_coherence_phase//COL49_ROW14_NFFT140_NLAP040.png"
       ]
      },
      {
       "output_type": "stream",
       "stream": "stdout",
       "text": [
        "\n",
        "D:\\Data\\output_charts_coherence_phase//COL49_ROW15_NFFT140_NLAP040.png"
       ]
      },
      {
       "output_type": "stream",
       "stream": "stdout",
       "text": [
        "\n",
        "D:\\Data\\output_charts_coherence_phase//COL49_ROW16_NFFT140_NLAP040.png"
       ]
      },
      {
       "output_type": "stream",
       "stream": "stdout",
       "text": [
        "\n",
        "D:\\Data\\output_charts_coherence_phase//COL49_ROW17_NFFT140_NLAP040.png"
       ]
      },
      {
       "output_type": "stream",
       "stream": "stdout",
       "text": [
        "\n",
        "D:\\Data\\output_charts_coherence_phase//COL49_ROW18_NFFT140_NLAP040.png"
       ]
      },
      {
       "output_type": "stream",
       "stream": "stdout",
       "text": [
        "\n",
        "D:\\Data\\output_charts_coherence_phase//COL49_ROW19_NFFT140_NLAP040.png"
       ]
      },
      {
       "output_type": "stream",
       "stream": "stdout",
       "text": [
        "\n",
        "D:\\Data\\output_charts_coherence_phase//COL49_ROW20_NFFT140_NLAP040.png"
       ]
      },
      {
       "output_type": "stream",
       "stream": "stdout",
       "text": [
        "\n",
        "D:\\Data\\output_charts_coherence_phase//COL49_ROW21_NFFT140_NLAP040.png"
       ]
      },
      {
       "output_type": "stream",
       "stream": "stdout",
       "text": [
        "\n",
        "D:\\Data\\output_charts_coherence_phase//COL49_ROW22_NFFT140_NLAP040.png"
       ]
      },
      {
       "output_type": "stream",
       "stream": "stdout",
       "text": [
        "\n",
        "D:\\Data\\output_charts_coherence_phase//COL49_ROW23_NFFT140_NLAP040.png"
       ]
      },
      {
       "output_type": "stream",
       "stream": "stdout",
       "text": [
        "\n",
        "D:\\Data\\output_charts_coherence_phase//COL49_ROW24_NFFT140_NLAP040.png"
       ]
      },
      {
       "output_type": "stream",
       "stream": "stdout",
       "text": [
        "\n",
        "D:\\Data\\output_charts_coherence_phase//COL49_ROW25_NFFT140_NLAP040.png"
       ]
      },
      {
       "output_type": "stream",
       "stream": "stdout",
       "text": [
        "\n",
        "D:\\Data\\output_charts_coherence_phase//COL49_ROW26_NFFT140_NLAP040.png"
       ]
      },
      {
       "output_type": "stream",
       "stream": "stdout",
       "text": [
        "\n",
        "D:\\Data\\output_charts_coherence_phase//COL49_ROW27_NFFT140_NLAP040.png"
       ]
      },
      {
       "output_type": "stream",
       "stream": "stdout",
       "text": [
        "\n",
        "D:\\Data\\output_charts_coherence_phase//COL49_ROW28_NFFT140_NLAP040.png"
       ]
      },
      {
       "output_type": "stream",
       "stream": "stdout",
       "text": [
        "\n",
        "D:\\Data\\output_charts_coherence_phase//COL49_ROW29_NFFT140_NLAP040.png"
       ]
      },
      {
       "output_type": "stream",
       "stream": "stdout",
       "text": [
        "\n",
        "D:\\Data\\output_charts_coherence_phase//COL49_ROW30_NFFT140_NLAP040.png"
       ]
      },
      {
       "ename": "RuntimeError",
       "evalue": "Could not allocate memory for image",
       "output_type": "pyerr",
       "traceback": [
        "\u001b[1;31m---------------------------------------------------------------------------\u001b[0m\n\u001b[1;31mRuntimeError\u001b[0m                              Traceback (most recent call last)",
        "\u001b[1;32m<ipython-input-21-c1587e40c2b8>\u001b[0m in \u001b[0;36m<module>\u001b[1;34m()\u001b[0m\n\u001b[0;32m    227\u001b[0m \u001b[1;33m\u001b[0m\u001b[0m\n\u001b[0;32m    228\u001b[0m         \u001b[1;32mprint\u001b[0m\u001b[1;33m(\u001b[0m\u001b[0mpath\u001b[0m\u001b[1;33m)\u001b[0m\u001b[1;33m\u001b[0m\u001b[0m\n\u001b[1;32m--> 229\u001b[1;33m         \u001b[0mplt\u001b[0m\u001b[1;33m.\u001b[0m\u001b[0msavefig\u001b[0m\u001b[1;33m(\u001b[0m\u001b[0mpath\u001b[0m\u001b[1;33m,\u001b[0m \u001b[0mdpi\u001b[0m\u001b[1;33m=\u001b[0m\u001b[1;36m200\u001b[0m\u001b[1;33m)\u001b[0m\u001b[1;33m\u001b[0m\u001b[0m\n\u001b[0m\u001b[0;32m    230\u001b[0m         \u001b[0mplt\u001b[0m\u001b[1;33m.\u001b[0m\u001b[0mclose\u001b[0m\u001b[1;33m(\u001b[0m\u001b[0mfig\u001b[0m\u001b[1;33m)\u001b[0m\u001b[1;33m\u001b[0m\u001b[0m\n\u001b[0;32m    231\u001b[0m         \u001b[0mfig\u001b[0m\u001b[1;33m.\u001b[0m\u001b[0mclf\u001b[0m\u001b[1;33m(\u001b[0m\u001b[1;33m)\u001b[0m\u001b[1;33m\u001b[0m\u001b[0m\n",
        "\u001b[1;32mD:\\Python27\\lib\\site-packages\\matplotlib\\pyplot.pyc\u001b[0m in \u001b[0;36msavefig\u001b[1;34m(*args, **kwargs)\u001b[0m\n\u001b[0;32m    559\u001b[0m \u001b[1;32mdef\u001b[0m \u001b[0msavefig\u001b[0m\u001b[1;33m(\u001b[0m\u001b[1;33m*\u001b[0m\u001b[0margs\u001b[0m\u001b[1;33m,\u001b[0m \u001b[1;33m**\u001b[0m\u001b[0mkwargs\u001b[0m\u001b[1;33m)\u001b[0m\u001b[1;33m:\u001b[0m\u001b[1;33m\u001b[0m\u001b[0m\n\u001b[0;32m    560\u001b[0m     \u001b[0mfig\u001b[0m \u001b[1;33m=\u001b[0m \u001b[0mgcf\u001b[0m\u001b[1;33m(\u001b[0m\u001b[1;33m)\u001b[0m\u001b[1;33m\u001b[0m\u001b[0m\n\u001b[1;32m--> 561\u001b[1;33m     \u001b[1;32mreturn\u001b[0m \u001b[0mfig\u001b[0m\u001b[1;33m.\u001b[0m\u001b[0msavefig\u001b[0m\u001b[1;33m(\u001b[0m\u001b[1;33m*\u001b[0m\u001b[0margs\u001b[0m\u001b[1;33m,\u001b[0m \u001b[1;33m**\u001b[0m\u001b[0mkwargs\u001b[0m\u001b[1;33m)\u001b[0m\u001b[1;33m\u001b[0m\u001b[0m\n\u001b[0m\u001b[0;32m    562\u001b[0m \u001b[1;33m\u001b[0m\u001b[0m\n\u001b[0;32m    563\u001b[0m \u001b[1;33m\u001b[0m\u001b[0m\n",
        "\u001b[1;32mD:\\Python27\\lib\\site-packages\\matplotlib\\figure.pyc\u001b[0m in \u001b[0;36msavefig\u001b[1;34m(self, *args, **kwargs)\u001b[0m\n\u001b[0;32m   1419\u001b[0m             \u001b[0mself\u001b[0m\u001b[1;33m.\u001b[0m\u001b[0mset_frameon\u001b[0m\u001b[1;33m(\u001b[0m\u001b[0mframeon\u001b[0m\u001b[1;33m)\u001b[0m\u001b[1;33m\u001b[0m\u001b[0m\n\u001b[0;32m   1420\u001b[0m \u001b[1;33m\u001b[0m\u001b[0m\n\u001b[1;32m-> 1421\u001b[1;33m         \u001b[0mself\u001b[0m\u001b[1;33m.\u001b[0m\u001b[0mcanvas\u001b[0m\u001b[1;33m.\u001b[0m\u001b[0mprint_figure\u001b[0m\u001b[1;33m(\u001b[0m\u001b[1;33m*\u001b[0m\u001b[0margs\u001b[0m\u001b[1;33m,\u001b[0m \u001b[1;33m**\u001b[0m\u001b[0mkwargs\u001b[0m\u001b[1;33m)\u001b[0m\u001b[1;33m\u001b[0m\u001b[0m\n\u001b[0m\u001b[0;32m   1422\u001b[0m \u001b[1;33m\u001b[0m\u001b[0m\n\u001b[0;32m   1423\u001b[0m         \u001b[1;32mif\u001b[0m \u001b[0mframeon\u001b[0m\u001b[1;33m:\u001b[0m\u001b[1;33m\u001b[0m\u001b[0m\n",
        "\u001b[1;32mD:\\Python27\\lib\\site-packages\\matplotlib\\backend_bases.pyc\u001b[0m in \u001b[0;36mprint_figure\u001b[1;34m(self, filename, dpi, facecolor, edgecolor, orientation, format, **kwargs)\u001b[0m\n\u001b[0;32m   2218\u001b[0m                 \u001b[0morientation\u001b[0m\u001b[1;33m=\u001b[0m\u001b[0morientation\u001b[0m\u001b[1;33m,\u001b[0m\u001b[1;33m\u001b[0m\u001b[0m\n\u001b[0;32m   2219\u001b[0m                 \u001b[0mbbox_inches_restore\u001b[0m\u001b[1;33m=\u001b[0m\u001b[0m_bbox_inches_restore\u001b[0m\u001b[1;33m,\u001b[0m\u001b[1;33m\u001b[0m\u001b[0m\n\u001b[1;32m-> 2220\u001b[1;33m                 **kwargs)\n\u001b[0m\u001b[0;32m   2221\u001b[0m         \u001b[1;32mfinally\u001b[0m\u001b[1;33m:\u001b[0m\u001b[1;33m\u001b[0m\u001b[0m\n\u001b[0;32m   2222\u001b[0m             \u001b[1;32mif\u001b[0m \u001b[0mbbox_inches\u001b[0m \u001b[1;32mand\u001b[0m \u001b[0mrestore_bbox\u001b[0m\u001b[1;33m:\u001b[0m\u001b[1;33m\u001b[0m\u001b[0m\n",
        "\u001b[1;32mD:\\Python27\\lib\\site-packages\\matplotlib\\backends\\backend_agg.pyc\u001b[0m in \u001b[0;36mprint_png\u001b[1;34m(self, filename_or_obj, *args, **kwargs)\u001b[0m\n\u001b[0;32m    503\u001b[0m \u001b[1;33m\u001b[0m\u001b[0m\n\u001b[0;32m    504\u001b[0m     \u001b[1;32mdef\u001b[0m \u001b[0mprint_png\u001b[0m\u001b[1;33m(\u001b[0m\u001b[0mself\u001b[0m\u001b[1;33m,\u001b[0m \u001b[0mfilename_or_obj\u001b[0m\u001b[1;33m,\u001b[0m \u001b[1;33m*\u001b[0m\u001b[0margs\u001b[0m\u001b[1;33m,\u001b[0m \u001b[1;33m**\u001b[0m\u001b[0mkwargs\u001b[0m\u001b[1;33m)\u001b[0m\u001b[1;33m:\u001b[0m\u001b[1;33m\u001b[0m\u001b[0m\n\u001b[1;32m--> 505\u001b[1;33m         \u001b[0mFigureCanvasAgg\u001b[0m\u001b[1;33m.\u001b[0m\u001b[0mdraw\u001b[0m\u001b[1;33m(\u001b[0m\u001b[0mself\u001b[0m\u001b[1;33m)\u001b[0m\u001b[1;33m\u001b[0m\u001b[0m\n\u001b[0m\u001b[0;32m    506\u001b[0m         \u001b[0mrenderer\u001b[0m \u001b[1;33m=\u001b[0m \u001b[0mself\u001b[0m\u001b[1;33m.\u001b[0m\u001b[0mget_renderer\u001b[0m\u001b[1;33m(\u001b[0m\u001b[1;33m)\u001b[0m\u001b[1;33m\u001b[0m\u001b[0m\n\u001b[0;32m    507\u001b[0m         \u001b[0moriginal_dpi\u001b[0m \u001b[1;33m=\u001b[0m \u001b[0mrenderer\u001b[0m\u001b[1;33m.\u001b[0m\u001b[0mdpi\u001b[0m\u001b[1;33m\u001b[0m\u001b[0m\n",
        "\u001b[1;32mD:\\Python27\\lib\\site-packages\\matplotlib\\backends\\backend_agg.pyc\u001b[0m in \u001b[0;36mdraw\u001b[1;34m(self)\u001b[0m\n\u001b[0;32m    444\u001b[0m         \u001b[1;32mif\u001b[0m \u001b[0m__debug__\u001b[0m\u001b[1;33m:\u001b[0m \u001b[0mverbose\u001b[0m\u001b[1;33m.\u001b[0m\u001b[0mreport\u001b[0m\u001b[1;33m(\u001b[0m\u001b[1;34m'FigureCanvasAgg.draw'\u001b[0m\u001b[1;33m,\u001b[0m \u001b[1;34m'debug-annoying'\u001b[0m\u001b[1;33m)\u001b[0m\u001b[1;33m\u001b[0m\u001b[0m\n\u001b[0;32m    445\u001b[0m \u001b[1;33m\u001b[0m\u001b[0m\n\u001b[1;32m--> 446\u001b[1;33m         \u001b[0mself\u001b[0m\u001b[1;33m.\u001b[0m\u001b[0mrenderer\u001b[0m \u001b[1;33m=\u001b[0m \u001b[0mself\u001b[0m\u001b[1;33m.\u001b[0m\u001b[0mget_renderer\u001b[0m\u001b[1;33m(\u001b[0m\u001b[0mcleared\u001b[0m\u001b[1;33m=\u001b[0m\u001b[0mTrue\u001b[0m\u001b[1;33m)\u001b[0m\u001b[1;33m\u001b[0m\u001b[0m\n\u001b[0m\u001b[0;32m    447\u001b[0m         \u001b[1;31m# acquire a lock on the shared font cache\u001b[0m\u001b[1;33m\u001b[0m\u001b[1;33m\u001b[0m\u001b[0m\n\u001b[0;32m    448\u001b[0m         \u001b[0mRendererAgg\u001b[0m\u001b[1;33m.\u001b[0m\u001b[0mlock\u001b[0m\u001b[1;33m.\u001b[0m\u001b[0macquire\u001b[0m\u001b[1;33m(\u001b[0m\u001b[1;33m)\u001b[0m\u001b[1;33m\u001b[0m\u001b[0m\n",
        "\u001b[1;32mD:\\Python27\\lib\\site-packages\\matplotlib\\backends\\backend_agg.pyc\u001b[0m in \u001b[0;36mget_renderer\u001b[1;34m(self, cleared)\u001b[0m\n\u001b[0;32m    463\u001b[0m \u001b[1;33m\u001b[0m\u001b[0m\n\u001b[0;32m    464\u001b[0m         \u001b[1;32mif\u001b[0m \u001b[0mneed_new_renderer\u001b[0m\u001b[1;33m:\u001b[0m\u001b[1;33m\u001b[0m\u001b[0m\n\u001b[1;32m--> 465\u001b[1;33m             \u001b[0mself\u001b[0m\u001b[1;33m.\u001b[0m\u001b[0mrenderer\u001b[0m \u001b[1;33m=\u001b[0m \u001b[0mRendererAgg\u001b[0m\u001b[1;33m(\u001b[0m\u001b[0mw\u001b[0m\u001b[1;33m,\u001b[0m \u001b[0mh\u001b[0m\u001b[1;33m,\u001b[0m \u001b[0mself\u001b[0m\u001b[1;33m.\u001b[0m\u001b[0mfigure\u001b[0m\u001b[1;33m.\u001b[0m\u001b[0mdpi\u001b[0m\u001b[1;33m)\u001b[0m\u001b[1;33m\u001b[0m\u001b[0m\n\u001b[0m\u001b[0;32m    466\u001b[0m             \u001b[0mself\u001b[0m\u001b[1;33m.\u001b[0m\u001b[0m_lastKey\u001b[0m \u001b[1;33m=\u001b[0m \u001b[0mkey\u001b[0m\u001b[1;33m\u001b[0m\u001b[0m\n\u001b[0;32m    467\u001b[0m         \u001b[1;32melif\u001b[0m \u001b[0mcleared\u001b[0m\u001b[1;33m:\u001b[0m\u001b[1;33m\u001b[0m\u001b[0m\n",
        "\u001b[1;32mD:\\Python27\\lib\\site-packages\\matplotlib\\backends\\backend_agg.pyc\u001b[0m in \u001b[0;36m__init__\u001b[1;34m(self, width, height, dpi)\u001b[0m\n\u001b[0;32m     82\u001b[0m         \u001b[0mself\u001b[0m\u001b[1;33m.\u001b[0m\u001b[0mheight\u001b[0m \u001b[1;33m=\u001b[0m \u001b[0mheight\u001b[0m\u001b[1;33m\u001b[0m\u001b[0m\n\u001b[0;32m     83\u001b[0m         \u001b[1;32mif\u001b[0m \u001b[0m__debug__\u001b[0m\u001b[1;33m:\u001b[0m \u001b[0mverbose\u001b[0m\u001b[1;33m.\u001b[0m\u001b[0mreport\u001b[0m\u001b[1;33m(\u001b[0m\u001b[1;34m'RendererAgg.__init__ width=%s, height=%s'\u001b[0m\u001b[1;33m%\u001b[0m\u001b[1;33m(\u001b[0m\u001b[0mwidth\u001b[0m\u001b[1;33m,\u001b[0m \u001b[0mheight\u001b[0m\u001b[1;33m)\u001b[0m\u001b[1;33m,\u001b[0m \u001b[1;34m'debug-annoying'\u001b[0m\u001b[1;33m)\u001b[0m\u001b[1;33m\u001b[0m\u001b[0m\n\u001b[1;32m---> 84\u001b[1;33m         \u001b[0mself\u001b[0m\u001b[1;33m.\u001b[0m\u001b[0m_renderer\u001b[0m \u001b[1;33m=\u001b[0m \u001b[0m_RendererAgg\u001b[0m\u001b[1;33m(\u001b[0m\u001b[0mint\u001b[0m\u001b[1;33m(\u001b[0m\u001b[0mwidth\u001b[0m\u001b[1;33m)\u001b[0m\u001b[1;33m,\u001b[0m \u001b[0mint\u001b[0m\u001b[1;33m(\u001b[0m\u001b[0mheight\u001b[0m\u001b[1;33m)\u001b[0m\u001b[1;33m,\u001b[0m \u001b[0mdpi\u001b[0m\u001b[1;33m,\u001b[0m \u001b[0mdebug\u001b[0m\u001b[1;33m=\u001b[0m\u001b[0mFalse\u001b[0m\u001b[1;33m)\u001b[0m\u001b[1;33m\u001b[0m\u001b[0m\n\u001b[0m\u001b[0;32m     85\u001b[0m         \u001b[0mself\u001b[0m\u001b[1;33m.\u001b[0m\u001b[0m_filter_renderers\u001b[0m \u001b[1;33m=\u001b[0m \u001b[1;33m[\u001b[0m\u001b[1;33m]\u001b[0m\u001b[1;33m\u001b[0m\u001b[0m\n\u001b[0;32m     86\u001b[0m \u001b[1;33m\u001b[0m\u001b[0m\n",
        "\u001b[1;31mRuntimeError\u001b[0m: Could not allocate memory for image"
       ]
      },
      {
       "output_type": "stream",
       "stream": "stdout",
       "text": [
        "\n"
       ]
      },
      {
       "metadata": {},
       "output_type": "display_data",
       "png": "[encoded data removed]",
       "text": [
        "<matplotlib.figure.Figure at 0x833bd6a90>"
       ]
      }
     ],
     "prompt_number": 21
    },
    {
     "cell_type": "code",
     "collapsed": false,
     "input": [
      "k = 3\n",
      "q = 1./FP[conf95][k]\n",
      "z = phase[conf95][k]\n",
      "q,z"
     ],
     "language": "python",
     "metadata": {},
     "outputs": [
      {
       "metadata": {},
       "output_type": "pyout",
       "prompt_number": 6,
       "text": [
        "(373.33333333333331, 1.1858183387353605)"
       ]
      }
     ],
     "prompt_number": 6
    },
    {
     "cell_type": "code",
     "collapsed": false,
     "input": [
      "np.math.atan(Cxy.imag[22]) * (180 / np.pi)"
     ],
     "language": "python",
     "metadata": {},
     "outputs": []
    },
    {
     "cell_type": "code",
     "collapsed": false,
     "input": [
      "trange = np.arange(0,3680,8)\n",
      "swnor = 0.3*sin(2*(np.pi/q)*trange)\n",
      "swoff = 0.3*sin(2*(np.pi/q)*trange+z)"
     ],
     "language": "python",
     "metadata": {},
     "outputs": []
    },
    {
     "cell_type": "code",
     "collapsed": false,
     "input": [
      "subplot(211)\n",
      "plot(swnor, 'b--')\n",
      "plot(x)\n",
      "subplot(212)\n",
      "plot(swoff, 'g--')\n",
      "plot(y, 'g')"
     ],
     "language": "python",
     "metadata": {},
     "outputs": []
    },
    {
     "cell_type": "markdown",
     "metadata": {},
     "source": [
      "Normalized Precipitation anomaly"
     ]
    },
    {
     "cell_type": "code",
     "collapsed": false,
     "input": [
      "from __future__ import division\n",
      "try:\n",
      "    Cxy, FC = csd(x, y, window=window_hanning, noverlap=nolap, NFFT=nfft, Fs=Fs)\n",
      "except exceptions.ZeroDivisionError:\n",
      "    Cxy = np.zeros_like(x)\n",
      "    FC = np.zeros_like(x)\n",
      "try:\n",
      "    Pxy, FP = cohere(x, y, window=window_hanning, noverlap=nolap, NFFT=nfft, Fs=Fs)\n",
      "except exceptions.ZeroDivisionError:\n",
      "    Pxy = np.zeros_like(x)\n",
      "    FP = np.zeros_like(x)"
     ],
     "language": "python",
     "metadata": {},
     "outputs": []
    },
    {
     "cell_type": "code",
     "collapsed": false,
     "input": [
      "from exceptions import *\n",
      "def safe_ln(x):\n",
      "    #returns: ln(x) but replaces -inf with 0\n",
      "    try:\n",
      "        l = np.log(x)\n",
      "    except RuntimeWarning():\n",
      "        l = 0\n",
      "    return l"
     ],
     "language": "python",
     "metadata": {},
     "outputs": []
    },
    {
     "cell_type": "code",
     "collapsed": false,
     "input": [
      "safe_ln(-99999999999999999999999999)"
     ],
     "language": "python",
     "metadata": {},
     "outputs": []
    },
    {
     "cell_type": "markdown",
     "metadata": {},
     "source": [
      "Normalized NDVI anomaly"
     ]
    },
    {
     "cell_type": "code",
     "collapsed": false,
     "input": [
      "import scipy"
     ],
     "language": "python",
     "metadata": {},
     "outputs": []
    },
    {
     "cell_type": "code",
     "collapsed": false,
     "input": [
      "scipy.p\n",
      "\n",
      "plot(x)"
     ],
     "language": "python",
     "metadata": {},
     "outputs": []
    },
    {
     "cell_type": "code",
     "collapsed": false,
     "input": [],
     "language": "python",
     "metadata": {},
     "outputs": []
    },
    {
     "cell_type": "code",
     "collapsed": false,
     "input": [
      "dt = 8 # sampling period (h)\n",
      "Fs = 1./(dt) # sampling rate (Hz)\n",
      "nfft = 90\n",
      "nolap = 10\n",
      "xlab = 'Sampling period (days)'\n",
      "y_label = 'Power'\n",
      "x_lim = [0,100]\n",
      "\n",
      "fig = plt.figure(figsize(15,8))\n",
      "Cxy, FC = csd(x, y, window=window_hanning, noverlap=nolap, NFFT=nfft, Fs=Fs)\n",
      "Pxy, FP = cohere(x, y, window=window_hanning, noverlap=nolap, NFFT=nfft, Fs=Fs)\n",
      "fig.clf()"
     ],
     "language": "python",
     "metadata": {},
     "outputs": []
    },
    {
     "cell_type": "code",
     "collapsed": false,
     "input": [],
     "language": "python",
     "metadata": {},
     "outputs": []
    },
    {
     "cell_type": "code",
     "collapsed": false,
     "input": [],
     "language": "python",
     "metadata": {},
     "outputs": []
    }
   ],
   "metadata": {}
  }
 ]
}