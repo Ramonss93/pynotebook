{
 "metadata": {
  "name": ""
 },
 "nbformat": 3,
 "nbformat_minor": 0,
 "worksheets": [
  {
   "cells": [
    {
     "cell_type": "code",
     "collapsed": false,
     "input": [
      "import os\n",
      "import pandas as pd\n",
      "from osgeo import gdal\n",
      "import numpy as np\n",
      "import datetime\n",
      "import matplotlib.pyplot as plt\n",
      "from scipy.signal import detrend as sp_detrend\n",
      "import matplotlib.gridspec as gridspec\n",
      "import matplotlib.pyplot as pl"
     ],
     "language": "python",
     "metadata": {},
     "outputs": [],
     "prompt_number": 1
    },
    {
     "cell_type": "code",
     "collapsed": false,
     "input": [
      "def savitzky_golay(y, window_size, order, deriv=0, rate=1):\n",
      "    r\"\"\"Smooth (and optionally differentiate) data with a Savitzky-Golay filter.\n",
      "    The Savitzky-Golay filter removes high frequency noise from data.\n",
      "    It has the advantage of preserving the original shape and\n",
      "    features of the signal better than other types of filtering\n",
      "    approaches, such as moving averages techniques.\n",
      "    Parameters\n",
      "    ----------\n",
      "    y : array_like, shape (N,)\n",
      "        the values of the time history of the signal.\n",
      "    window_size : int\n",
      "        the length of the window. Must be an odd integer number.\n",
      "    order : int\n",
      "        the order of the polynomial used in the filtering.\n",
      "        Must be less then `window_size` - 1.\n",
      "    deriv: int\n",
      "        the order of the derivative to compute (default = 0 means only smoothing)\n",
      "    Returns\n",
      "    -------\n",
      "    ys : ndarray, shape (N)\n",
      "        the smoothed signal (or it's n-th derivative).\n",
      "    Notes\n",
      "    -----\n",
      "    The Savitzky-Golay is a type of low-pass filter, particularly\n",
      "    suited for smoothing noisy data. The main idea behind this\n",
      "    approach is to make for each point a least-square fit with a\n",
      "    polynomial of high order over a odd-sized window centered at\n",
      "    the point.\n",
      "    Examples\n",
      "    --------\n",
      "    t = np.linspace(-4, 4, 500)\n",
      "    y = np.exp( -t**2 ) + np.random.normal(0, 0.05, t.shape)\n",
      "    ysg = savitzky_golay(y, window_size=31, order=4)\n",
      "    import matplotlib.pyplot as plt\n",
      "    plt.plot(t, y, label='Noisy signal')\n",
      "    plt.plot(t, np.exp(-t**2), 'k', lw=1.5, label='Original signal')\n",
      "    plt.plot(t, ysg, 'r', label='Filtered signal')\n",
      "    plt.legend()\n",
      "    plt.show()\n",
      "    References\n",
      "    ----------\n",
      "    .. [1] A. Savitzky, M. J. E. Golay, Smoothing and Differentiation of\n",
      "       Data by Simplified Least Squares Procedures. Analytical\n",
      "       Chemistry, 1964, 36 (8), pp 1627-1639.\n",
      "    .. [2] Numerical Recipes 3rd Edition: The Art of Scientific Computing\n",
      "       W.H. Press, S.A. Teukolsky, W.T. Vetterling, B.P. Flannery\n",
      "       Cambridge University Press ISBN-13: 9780521880688\n",
      "    \"\"\"\n",
      "    import numpy as np\n",
      "    from math import factorial\n",
      "\n",
      "    try:\n",
      "        window_size = np.abs(np.int(window_size))\n",
      "        order = np.abs(np.int(order))\n",
      "    except ValueError as msg:\n",
      "        raise ValueError(\"window_size and order have to be of type int\")\n",
      "    if window_size % 2 != 1 or window_size < 1:\n",
      "        raise TypeError(\"window_size size must be a positive odd number\")\n",
      "    if window_size < order + 2:\n",
      "        raise TypeError(\"window_size is too small for the polynomials order\")\n",
      "    order_range = range(order+1)\n",
      "    half_window = (window_size -1) // 2\n",
      "    # precompute coefficients\n",
      "    b = np.mat([[k**i for i in order_range] for k in range(-half_window, half_window+1)])\n",
      "    m = np.linalg.pinv(b).A[deriv] * rate**deriv * factorial(deriv)\n",
      "    # pad the signal at the extremes with\n",
      "    # values taken from the signal itself\n",
      "    firstvals = y[0] - np.abs( y[1:half_window+1][::-1] - y[0] )\n",
      "    lastvals = y[-1] + np.abs(y[-half_window-1:-1][::-1] - y[-1])\n",
      "    y = np.concatenate((firstvals, y, lastvals))\n",
      "    return np.convolve( m[::-1], y, mode='valid')"
     ],
     "language": "python",
     "metadata": {},
     "outputs": [],
     "prompt_number": 2
    },
    {
     "cell_type": "code",
     "collapsed": false,
     "input": [
      "def listall(RootFolder, wildcard=''):\n",
      "    lists = [os.path.join(root, name)    \n",
      "                 for root, dirs, files in os.walk(RootFolder)\n",
      "                   for name in files\n",
      "                   if wildcard in name\n",
      "                     if name.endswith('.tif')]\n",
      "    return lists\n",
      "\n",
      "def getvalues(rootpath, pc, pr, wildcard=''):\n",
      "    \n",
      "    li = []\n",
      "    da = []\n",
      "    i = 0\n",
      "    \n",
      "    #path = r'D:\\Data\\GPCP_30acc_AnnualAcc'\n",
      "    test = listall(rootpath, wildcard)\n",
      "    #test = test[0:-46]\n",
      "    print (len(test))\n",
      "    print (test[0])\n",
      "    for t in test:    \n",
      "        raster = gdal.Open(t, gdal.GA_ReadOnly)\n",
      "        nameRas = raster.GetDescription()[-11:-4]\n",
      "        date = datetime.datetime(int(nameRas[0:4]), 1, 1) + datetime.timedelta(int(nameRas[4:9]) - 1) # replaced \"int(nameRas[0:4])\" with \"2010\" first year then add doy\n",
      "        # print date\n",
      "        da.append(date)\n",
      "    \n",
      "        band = raster.GetRasterBand(1)\n",
      "        array = band.ReadAsArray()    \n",
      "        \n",
      "        # print array[879,4142] # Grassland pixel\n",
      "        li.append(array[pr, pc])\n",
      "        \n",
      "        array = None\n",
      "        band = None\n",
      "        raster = None\n",
      "        #print (str(i))\n",
      "        i = i + 1\n",
      "        \n",
      "    signal = pd.Series(data = li, index = da)\n",
      "    return signal"
     ],
     "language": "python",
     "metadata": {},
     "outputs": [],
     "prompt_number": 3
    },
    {
     "cell_type": "code",
     "collapsed": false,
     "input": [
      "mth = [0.5, 1, 2, 3, 4, 5]\n",
      "prd = [15, 30, 60, 90, 120, 150]\n",
      "pth1 = r'D:\\Data\\0_DAILY_INTERVAL_NDVI_TRMM\\InnerMongolia\\TRMM\\XX_Day_Period\\XX_DaySums_StdNormAnomaly'# removed 'NormTypeII'\n",
      "pth2 = r'D:\\Data\\0_DAILY_INTERVAL_NDVI_TRMM\\InnerMongolia\\NDVI\\DaySums_StdNormAnomalyRes'# removed 'NormTypeII'\n",
      "\n",
      "#pixelcolumn = 23 # extract from rasterXSize (0:62) horizontal latitude - whatever\n",
      "#pixelrow = 21 # extract from rasterYSize (0:36) vertical longitude \n",
      "folder = r'D:\\Data\\0_DAILY_INTERVAL_NDVI_TRMM\\InnerMongolia\\PLOT_CHARTS\\COHERENCE//'\n",
      "\n",
      "for j in range(19, 34): # pixelcolumn\n",
      "    for k in range(13,24): # pixelrow\n",
      "        for i in range(4,len(mth)):\n",
      "            cumper = mth[i]\n",
      "            period = prd[i]\n",
      "            paths1 = pth1.replace('XX', str(period))\n",
      "            paths2 = pth2\n",
      "            print '\\n',paths1,'\\n', paths2, '\\n', cumper\n",
      "    \n",
      "\n",
      "            pixelcolumn = j\n",
      "            pixelrow = k\n",
      "            \n",
      "    \n",
      "            s_org1 = getvalues(paths1, pixelcolumn, pixelrow, wildcard='TRMM')\n",
      "            if i == 4:\n",
      "                s_org2 = getvalues(paths2, pixelcolumn, pixelrow, wildcard='CQ')\n",
      "        \n",
      "            df1 = pd.DataFrame(s_org1, columns=['prcp'])\n",
      "            df2 = pd.DataFrame(s_org2, columns=['ndvi'])\n",
      "            \n",
      "            df = pd.concat([df1, df2], join='outer', axis=1)\n",
      "            df = df.dropna()\n",
      "            \n",
      "            s1 = df['prcp']\n",
      "            s2 = df['ndvi']\n",
      "            \n",
      "            month = df['prcp'].index.month\n",
      "            selector = ((3<= month) & (month <=10)) # boolean array with True values for month 3 - 10\n",
      "            \n",
      "            listsel = selector.tolist()\n",
      "            listinv = [not i for i in listsel]\n",
      "            selectorinv = np.array(listinv) # boolean array with False values for month 3 - 10\n",
      "            \n",
      "            #s1[selectorinv] = 0 # set month not equal to 3 - 10 to 0\n",
      "            #s2[selectorinv] = 0 # set month not equal to 3 - 10 to 0\n",
      "            \n",
      "            s_org1.index\n",
      "            s_org2.index\n",
      "            \n",
      "            s1_SG = savitzky_golay(s1, 15, 7)\n",
      "            s2_SG = savitzky_golay(s2, 15, 7)\n",
      "            \n",
      "            x = s1_SG\n",
      "            y = s2_SG\n",
      "            \n",
      "            nfft = 10* x.size\n",
      "            \n",
      "            x_l = np.zeros(nfft)\n",
      "            x_l[0:x.size]= x\n",
      "            \n",
      "            y_l = np.zeros(nfft)\n",
      "            y_l[0:y.size]= y\n",
      "            \n",
      "            dt = 1.# 2 # sampling period (s)\n",
      "            fs = 1. / dt # sampling rate (Hz)\n",
      "            fres = fs / nfft # frequency resolution (Hz)\n",
      "            \n",
      "            L = x_l.size / 2 + 1\n",
      "            t_PSD = np.arange(0,L)\n",
      "            t_PSD_almost = t_PSD * fres # sampling rate: numper of cycles per second (Hz)\n",
      "            sp_t = 1 / (t_PSD_almost * (365/12.)) # period (min)\n",
      "            \n",
      "            nx = x_l.size\n",
      "            ny = y_l.size\n",
      "            \n",
      "            fft_x1 = np.fft.rfft(sp_detrend(x_l)*np.bartlett(nx))\n",
      "            fft_y1 = np.fft.rfft(sp_detrend(y_l)*np.bartlett(ny))\n",
      "            \n",
      "            psd_x1 = abs(fft_x1*fft_x1.conjugate())/nx**2\n",
      "            psd_y1 = abs(fft_y1*fft_y1.conjugate())/ny**2\n",
      "            \n",
      "            csd_x1y1 = fft_x1.conjugate() * fft_y1\n",
      "            \n",
      "            phase_x1y1 = np.angle(csd_x1y1)\n",
      "            \n",
      "            s_dt = matplotlib.dates.date2num( s_org1.index[0] )\n",
      "            e_dt = matplotlib.dates.date2num( s_org1.index[-1] )  \n",
      "        \n",
      "            fig = plt.figure(figsize=(15,11))\n",
      "            \n",
      "            #pl.figure(figsize=(6, 4))\n",
      "            G = gridspec.GridSpec(4, 2)\n",
      "            \n",
      "            axes_1 = pl.subplot(G[0, :])\n",
      "            axes_1.axhline(y=0, color='0.5', linestyle='--')\n",
      "            pl.plot(s1.index,s1_SG)\n",
      "            pl.plot(s2.index,s2_SG)\n",
      "            xlabel('Time (year)')\n",
      "            ylabel('Anomaly difference')\n",
      "            ylim([-0.8,0.8])\n",
      "            yticks([-0.8, -0.6, -0.4, -0.2, 0, 0.2, 0.4, 0.6, 0.8])\n",
      "            xlim([s_dt,e_dt])\n",
      "            axes_1.set_title('Time-series Normalized Precipitation (CumPer '+str(cumper)+' months) and NDVI Anomaly')\n",
      "            \n",
      "            grid(True)\n",
      "            \n",
      "            axes_2 = pl.subplot(G[1, 0:1])\n",
      "            #psd_x1 = abs(fft_x1*fft_x1.conjugate())/nx**2#/1024**2\n",
      "            plot(t_PSD_almost, psd_x1)\n",
      "            axes_2.set_title('Power Spectral Density in Frequency domain (Precipitation)')\n",
      "            \n",
      "            xlabel('Frequency (Hz)')\n",
      "            #ax0.set_ylim([0,1])\n",
      "            xlim([6.8493150684931506849315068493151e-4,0.005])\n",
      "            xticks([0.001, 0.002, 0.003, 0.004, 0.005])\n",
      "            ylim([0,3.5e-7])\n",
      "            axvspan(1./395, 1./335, facecolor='c', alpha=0.25)\n",
      "            axvline(x=1./365, color='r')\n",
      "            \n",
      "            axvspan(1./760.4, 1./699.6, facecolor='0.75', alpha=0.5)\n",
      "            axvline(x=1./730, color='r')\n",
      "            # Make the y-axis label and tick labels match the line color.\n",
      "            ylabel('PSD Precipitation ($Power$)', color='b')\n",
      "            grid(True)\n",
      "            \n",
      "            axes_3 = pl.subplot(G[1, 1:2])\n",
      "            plot(sp_t, psd_x1)#\n",
      "            xlabel('Sampling period (months)')\n",
      "            #ax2.set_ylim([0,1])\n",
      "            xlim([6,48])\n",
      "            ylim([0,3.5e-7])\n",
      "            axvspan(13, 11, facecolor='c', alpha=0.25)\n",
      "            axvline(x=12, color='r')\n",
      "            axvspan(25, 23, facecolor='0.75', alpha=0.5)\n",
      "            axvline(x=24, color='r')\n",
      "            xticks([6, 12, 18, 24, 30, 36, 42, 48])\n",
      "            # Make the y-axis label and tick labels match the line color.\n",
      "            ylabel('PSD Precipitation ($Power$)', color='b')\n",
      "            grid(True)\n",
      "            axes_3.set_title('Power Spectral Density in Time domain (Precipitation)')\n",
      "            \n",
      "            axes_4 = pl.subplot(G[2, 0:1])\n",
      "            #psd_y1 = abs(fft_y1*fft_y1.conjugate())/ny**2#/1024**2\n",
      "            plot(t_PSD_almost, psd_y1, 'g')\n",
      "            xlabel('Frequency (Hz)')\n",
      "            #ax0.set_ylim([0,1])\n",
      "            xlim([6.8493150684931506849315068493151e-4,0.005])\n",
      "            xticks([0.001, 0.002, 0.003, 0.004, 0.005])\n",
      "            ylim([0,3.5e-7])\n",
      "            axvspan(1./395, 1./335, facecolor='c', alpha=0.25)\n",
      "            axvline(x=1./365, color='r')\n",
      "            axvspan(1./760.4, 1./699.6, facecolor='0.75', alpha=0.5)\n",
      "            axvline(x=1./730, color='r')\n",
      "            # Make the y-axis label and tick labels match the line color.\n",
      "            ylabel('PSD NDVI ($Power$)', color='g')\n",
      "            grid(True)\n",
      "            axes_4.set_title('Power Spectral Density in Frequency domain (NDVI)')\n",
      "            \n",
      "            axes_5 = pl.subplot(G[2, 1:2])\n",
      "            plot(sp_t, psd_y1, 'g')#\n",
      "            xlabel('Sampling period (months)')\n",
      "            #ax2.set_ylim([0,1])\n",
      "            xlim([6,48])\n",
      "            axvspan(13, 11, facecolor='c', alpha=0.25)\n",
      "            axvline(x=12, color='r')\n",
      "            axvspan(25, 23, facecolor='0.75', alpha=0.5)\n",
      "            axvline(x=24, color='r')\n",
      "            ylim([0,3.5e-7])\n",
      "            xticks([6, 12, 18, 24, 30, 36, 42, 48])\n",
      "            grid(True)\n",
      "            # Make the y-axis label and tick labels match the line color.\n",
      "            ylabel('PSD NDVI ($Power$)', color='g')\n",
      "            axes_5.set_title('Power Spectral Density in Time domain (NDVI)')\n",
      "            \n",
      "            axes_6 = pl.subplot(G[3, 0:1])\n",
      "            axes_7 = axes_6.twinx()\n",
      "            axes_6.plot(t_PSD_almost, csd_x1y1, 'k')\n",
      "            axes_7.plot(t_PSD_almost, phase_x1y1, 'm.')\n",
      "            # add labels and apply colouring axis 0 and 2\n",
      "            axes_6.set_xlabel('Frequency (Hz)')\n",
      "            axes_6.set_ylim([-250,250])\n",
      "            axes_6.set_yticks([-200, -100, 0 ,100, 200])\n",
      "            axes_6.set_xlim([6.8493150684931506849315068493151e-4,0.005])\n",
      "            axes_6.set_xticks([0.001, 0.002, 0.003, 0.004, 0.005])\n",
      "            axes_6.axvspan(1./395, 1./335, facecolor='c', alpha=0.25)\n",
      "            axes_6.axvline(x=1./365, color='r')\n",
      "            axes_6.axhline(y=0, color='0.5', linestyle='--')\n",
      "            \n",
      "            axes_6.axvspan(1./760.4, 1./699.6, facecolor='0.75', alpha=0.5)\n",
      "            axes_6.axvline(x=1./730, color='r')\n",
      "            # Make the y-axis label and tick labels match the line color.\n",
      "            axes_6.set_ylabel('Cross-spectral power', color='k')\n",
      "            for tl in axes_6.get_yticklabels():\n",
      "                tl.set_color('k')\n",
      "                \n",
      "            # add labels and apply colouring axis 1 and 3\n",
      "            axes_7.set_ylabel('Phase (radian ($-\\pi:\\pi$)', color='m')\n",
      "            axes_7.set_ylim([-3.5,3.5])\n",
      "            axes_7.set_yticks([4*-np.pi/4.,2*-np.pi/4.,0,2*np.pi/4.,4*np.pi/4.])\n",
      "            axes_7.set_yticklabels(['$-\\pi$', r'$-\\frac{\\pi}{2}$', r'$0$', r'$\\frac{\\pi}{2}$', r'$+\\pi$'])\n",
      "            for tl in axes_7.get_yticklabels():\n",
      "                tl.set_color('m')\n",
      "            # add grid and title\n",
      "            axes_6.grid(True)\n",
      "            axes_7.grid(True)\n",
      "            axes_6.set_title('Cross-Spectral Density and Phase Spectrum in Frequency domain')\n",
      "            \n",
      "            \n",
      "            axes_8 = pl.subplot(G[3, 1:2])\n",
      "            axes_9 = axes_8.twinx()\n",
      "            axes_8.plot(sp_t, csd_x1y1, 'k')\n",
      "            axes_9.plot(sp_t, phase_x1y1, 'm.')\n",
      "            axes_8.set_xlabel('Sampling period (months)')\n",
      "            #ax2.set_ylim([0,1])\n",
      "            axes_8.set_ylim([-250,250])\n",
      "            axes_8.set_yticks([-200, -100, 0 ,100, 200])\n",
      "            axes_8.set_xlim([6,48])\n",
      "            axes_8.set_xticks([6, 12, 18, 24, 30, 36, 42, 48])\n",
      "            axes_8.axvspan(13, 11, facecolor='c', alpha=0.25)\n",
      "            axes_8.axvline(x=12, color='r')\n",
      "            axes_8.axvspan(25, 23, facecolor='0.75', alpha=0.5)\n",
      "            axes_8.axvline(x=24, color='r')\n",
      "            axes_8.axhline(y=0, color='0.5', linestyle='--')\n",
      "            \n",
      "            \n",
      "            # Make the y-axis label and tick labels match the line color.\n",
      "            axes_8.set_ylabel('Cross-spectral power', color='k')\n",
      "            for tl in axes_8.get_yticklabels():\n",
      "                tl.set_color('k')\n",
      "            axes_9.set_ylabel('Phase (radian ($-\\pi:\\pi$)', color='m')\n",
      "            axes_9.set_ylim([-3.5,3.5])\n",
      "            axes_9.set_yticks([4.*-np.pi/4.,2.*-np.pi/4.,0,2.*np.pi/4.,4.*np.pi/4.])\n",
      "            axes_9.set_yticklabels(['$-\\pi$', r'$-\\frac{\\pi}{2}$', r'$0$', r'$\\frac{\\pi}{2}$', r'$+\\pi$'])\n",
      "            \n",
      "            for tl in axes_9.get_yticklabels():\n",
      "                tl.set_color('m')\n",
      "            axes_8.grid(True)\n",
      "            axes_9.grid(True)\n",
      "            axes_8.set_title('Cross-Spectral Density and Phase Spectrum in Time domain')\n",
      "            \n",
      "            pl.tight_layout()\n",
      "            #plt.tight_layout()\n",
      "            fileou = 'Charts_Col'+str(pixelcolumn)+'Row'+str(pixelrow)+'CumPer'+str(cumper)+'_raw.png'\n",
      "            path = folder+fileou\n",
      "            \n",
      "            print(path)\n",
      "            plt.savefig(path, dpi=200)\n",
      "            plt.close(fig)\n",
      "            fig.clf()\n",
      "            #plt.show()"
     ],
     "language": "python",
     "metadata": {},
     "outputs": [
      {
       "output_type": "stream",
       "stream": "stdout",
       "text": [
        "\n",
        "D:\\Data\\0_DAILY_INTERVAL_NDVI_TRMM\\InnerMongolia\\TRMM\\120_Day_Period\\120_DaySums_StdNormAnomaly \n",
        "D:\\Data\\0_DAILY_INTERVAL_NDVI_TRMM\\InnerMongolia\\NDVI\\DaySums_StdNormAnomalyRes \n",
        "4\n",
        "3653"
       ]
      },
      {
       "output_type": "stream",
       "stream": "stdout",
       "text": [
        "\n",
        "D:\\Data\\0_DAILY_INTERVAL_NDVI_TRMM\\InnerMongolia\\TRMM\\120_Day_Period\\120_DaySums_StdNormAnomaly\\TRMM_CQ_2003001.tif\n",
        "3651"
       ]
      },
      {
       "output_type": "stream",
       "stream": "stdout",
       "text": [
        "\n",
        "D:\\Data\\0_DAILY_INTERVAL_NDVI_TRMM\\InnerMongolia\\NDVI\\DaySums_StdNormAnomalyRes\\TRMM_CQ_2003001.tif\n",
        "D:\\Data\\0_DAILY_INTERVAL_NDVI_TRMM\\InnerMongolia\\PLOT_CHARTS\\COHERENCE//Charts_Col19Row13CumPer4_raw.png"
       ]
      },
      {
       "output_type": "stream",
       "stream": "stdout",
       "text": [
        "\n",
        "\n"
       ]
      },
      {
       "output_type": "stream",
       "stream": "stdout",
       "text": [
        "D:\\Data\\0_DAILY_INTERVAL_NDVI_TRMM\\InnerMongolia\\TRMM\\150_Day_Period\\150_DaySums_StdNormAnomaly \n",
        "D:\\Data\\0_DAILY_INTERVAL_NDVI_TRMM\\InnerMongolia\\NDVI\\DaySums_StdNormAnomalyRes \n",
        "5\n",
        "3653"
       ]
      },
      {
       "output_type": "stream",
       "stream": "stdout",
       "text": [
        "\n",
        "D:\\Data\\0_DAILY_INTERVAL_NDVI_TRMM\\InnerMongolia\\TRMM\\150_Day_Period\\150_DaySums_StdNormAnomaly\\TRMM_CQ_2003001.tif\n",
        "D:\\Data\\0_DAILY_INTERVAL_NDVI_TRMM\\InnerMongolia\\PLOT_CHARTS\\COHERENCE//Charts_Col19Row13CumPer5_raw.png"
       ]
      },
      {
       "output_type": "stream",
       "stream": "stdout",
       "text": [
        "\n",
        "\n"
       ]
      },
      {
       "output_type": "stream",
       "stream": "stdout",
       "text": [
        "D:\\Data\\0_DAILY_INTERVAL_NDVI_TRMM\\InnerMongolia\\TRMM\\120_Day_Period\\120_DaySums_StdNormAnomaly \n",
        "D:\\Data\\0_DAILY_INTERVAL_NDVI_TRMM\\InnerMongolia\\NDVI\\DaySums_StdNormAnomalyRes \n",
        "4\n",
        "3653"
       ]
      },
      {
       "output_type": "stream",
       "stream": "stdout",
       "text": [
        "\n",
        "D:\\Data\\0_DAILY_INTERVAL_NDVI_TRMM\\InnerMongolia\\TRMM\\120_Day_Period\\120_DaySums_StdNormAnomaly\\TRMM_CQ_2003001.tif\n",
        "3651"
       ]
      },
      {
       "output_type": "stream",
       "stream": "stdout",
       "text": [
        "\n",
        "D:\\Data\\0_DAILY_INTERVAL_NDVI_TRMM\\InnerMongolia\\NDVI\\DaySums_StdNormAnomalyRes\\TRMM_CQ_2003001.tif\n",
        "D:\\Data\\0_DAILY_INTERVAL_NDVI_TRMM\\InnerMongolia\\PLOT_CHARTS\\COHERENCE//Charts_Col19Row14CumPer4_raw.png"
       ]
      },
      {
       "output_type": "stream",
       "stream": "stdout",
       "text": [
        "\n",
        "\n"
       ]
      },
      {
       "output_type": "stream",
       "stream": "stdout",
       "text": [
        "D:\\Data\\0_DAILY_INTERVAL_NDVI_TRMM\\InnerMongolia\\TRMM\\150_Day_Period\\150_DaySums_StdNormAnomaly \n",
        "D:\\Data\\0_DAILY_INTERVAL_NDVI_TRMM\\InnerMongolia\\NDVI\\DaySums_StdNormAnomalyRes \n",
        "5\n",
        "3653"
       ]
      },
      {
       "output_type": "stream",
       "stream": "stdout",
       "text": [
        "\n",
        "D:\\Data\\0_DAILY_INTERVAL_NDVI_TRMM\\InnerMongolia\\TRMM\\150_Day_Period\\150_DaySums_StdNormAnomaly\\TRMM_CQ_2003001.tif\n",
        "D:\\Data\\0_DAILY_INTERVAL_NDVI_TRMM\\InnerMongolia\\PLOT_CHARTS\\COHERENCE//Charts_Col19Row14CumPer5_raw.png"
       ]
      },
      {
       "output_type": "stream",
       "stream": "stdout",
       "text": [
        "\n",
        "\n"
       ]
      },
      {
       "output_type": "stream",
       "stream": "stdout",
       "text": [
        "D:\\Data\\0_DAILY_INTERVAL_NDVI_TRMM\\InnerMongolia\\TRMM\\120_Day_Period\\120_DaySums_StdNormAnomaly \n",
        "D:\\Data\\0_DAILY_INTERVAL_NDVI_TRMM\\InnerMongolia\\NDVI\\DaySums_StdNormAnomalyRes \n",
        "4\n",
        "3653"
       ]
      },
      {
       "output_type": "stream",
       "stream": "stdout",
       "text": [
        "\n",
        "D:\\Data\\0_DAILY_INTERVAL_NDVI_TRMM\\InnerMongolia\\TRMM\\120_Day_Period\\120_DaySums_StdNormAnomaly\\TRMM_CQ_2003001.tif\n",
        "3651"
       ]
      },
      {
       "output_type": "stream",
       "stream": "stdout",
       "text": [
        "\n",
        "D:\\Data\\0_DAILY_INTERVAL_NDVI_TRMM\\InnerMongolia\\NDVI\\DaySums_StdNormAnomalyRes\\TRMM_CQ_2003001.tif\n",
        "D:\\Data\\0_DAILY_INTERVAL_NDVI_TRMM\\InnerMongolia\\PLOT_CHARTS\\COHERENCE//Charts_Col19Row15CumPer4_raw.png"
       ]
      },
      {
       "output_type": "stream",
       "stream": "stdout",
       "text": [
        "\n",
        "\n"
       ]
      },
      {
       "output_type": "stream",
       "stream": "stdout",
       "text": [
        "D:\\Data\\0_DAILY_INTERVAL_NDVI_TRMM\\InnerMongolia\\TRMM\\150_Day_Period\\150_DaySums_StdNormAnomaly \n",
        "D:\\Data\\0_DAILY_INTERVAL_NDVI_TRMM\\InnerMongolia\\NDVI\\DaySums_StdNormAnomalyRes \n",
        "5\n",
        "3653"
       ]
      },
      {
       "output_type": "stream",
       "stream": "stdout",
       "text": [
        "\n",
        "D:\\Data\\0_DAILY_INTERVAL_NDVI_TRMM\\InnerMongolia\\TRMM\\150_Day_Period\\150_DaySums_StdNormAnomaly\\TRMM_CQ_2003001.tif\n",
        "D:\\Data\\0_DAILY_INTERVAL_NDVI_TRMM\\InnerMongolia\\PLOT_CHARTS\\COHERENCE//Charts_Col19Row15CumPer5_raw.png"
       ]
      },
      {
       "output_type": "stream",
       "stream": "stdout",
       "text": [
        "\n",
        "\n"
       ]
      },
      {
       "output_type": "stream",
       "stream": "stdout",
       "text": [
        "D:\\Data\\0_DAILY_INTERVAL_NDVI_TRMM\\InnerMongolia\\TRMM\\120_Day_Period\\120_DaySums_StdNormAnomaly \n",
        "D:\\Data\\0_DAILY_INTERVAL_NDVI_TRMM\\InnerMongolia\\NDVI\\DaySums_StdNormAnomalyRes \n",
        "4\n",
        "3653"
       ]
      },
      {
       "output_type": "stream",
       "stream": "stdout",
       "text": [
        "\n",
        "D:\\Data\\0_DAILY_INTERVAL_NDVI_TRMM\\InnerMongolia\\TRMM\\120_Day_Period\\120_DaySums_StdNormAnomaly\\TRMM_CQ_2003001.tif\n",
        "3651"
       ]
      },
      {
       "output_type": "stream",
       "stream": "stdout",
       "text": [
        "\n",
        "D:\\Data\\0_DAILY_INTERVAL_NDVI_TRMM\\InnerMongolia\\NDVI\\DaySums_StdNormAnomalyRes\\TRMM_CQ_2003001.tif\n",
        "D:\\Data\\0_DAILY_INTERVAL_NDVI_TRMM\\InnerMongolia\\PLOT_CHARTS\\COHERENCE//Charts_Col19Row16CumPer4_raw.png"
       ]
      },
      {
       "output_type": "stream",
       "stream": "stdout",
       "text": [
        "\n",
        "\n"
       ]
      },
      {
       "output_type": "stream",
       "stream": "stdout",
       "text": [
        "D:\\Data\\0_DAILY_INTERVAL_NDVI_TRMM\\InnerMongolia\\TRMM\\150_Day_Period\\150_DaySums_StdNormAnomaly \n",
        "D:\\Data\\0_DAILY_INTERVAL_NDVI_TRMM\\InnerMongolia\\NDVI\\DaySums_StdNormAnomalyRes \n",
        "5\n",
        "3653"
       ]
      },
      {
       "output_type": "stream",
       "stream": "stdout",
       "text": [
        "\n",
        "D:\\Data\\0_DAILY_INTERVAL_NDVI_TRMM\\InnerMongolia\\TRMM\\150_Day_Period\\150_DaySums_StdNormAnomaly\\TRMM_CQ_2003001.tif\n",
        "D:\\Data\\0_DAILY_INTERVAL_NDVI_TRMM\\InnerMongolia\\PLOT_CHARTS\\COHERENCE//Charts_Col19Row16CumPer5_raw.png"
       ]
      },
      {
       "output_type": "stream",
       "stream": "stdout",
       "text": [
        "\n",
        "\n"
       ]
      },
      {
       "output_type": "stream",
       "stream": "stdout",
       "text": [
        "D:\\Data\\0_DAILY_INTERVAL_NDVI_TRMM\\InnerMongolia\\TRMM\\120_Day_Period\\120_DaySums_StdNormAnomaly \n",
        "D:\\Data\\0_DAILY_INTERVAL_NDVI_TRMM\\InnerMongolia\\NDVI\\DaySums_StdNormAnomalyRes \n",
        "4\n",
        "3653"
       ]
      },
      {
       "output_type": "stream",
       "stream": "stdout",
       "text": [
        "\n",
        "D:\\Data\\0_DAILY_INTERVAL_NDVI_TRMM\\InnerMongolia\\TRMM\\120_Day_Period\\120_DaySums_StdNormAnomaly\\TRMM_CQ_2003001.tif\n",
        "3651"
       ]
      },
      {
       "output_type": "stream",
       "stream": "stdout",
       "text": [
        "\n",
        "D:\\Data\\0_DAILY_INTERVAL_NDVI_TRMM\\InnerMongolia\\NDVI\\DaySums_StdNormAnomalyRes\\TRMM_CQ_2003001.tif\n",
        "D:\\Data\\0_DAILY_INTERVAL_NDVI_TRMM\\InnerMongolia\\PLOT_CHARTS\\COHERENCE//Charts_Col19Row17CumPer4_raw.png"
       ]
      },
      {
       "output_type": "stream",
       "stream": "stdout",
       "text": [
        "\n",
        "\n"
       ]
      },
      {
       "output_type": "stream",
       "stream": "stdout",
       "text": [
        "D:\\Data\\0_DAILY_INTERVAL_NDVI_TRMM\\InnerMongolia\\TRMM\\150_Day_Period\\150_DaySums_StdNormAnomaly \n",
        "D:\\Data\\0_DAILY_INTERVAL_NDVI_TRMM\\InnerMongolia\\NDVI\\DaySums_StdNormAnomalyRes \n",
        "5\n",
        "3653"
       ]
      },
      {
       "output_type": "stream",
       "stream": "stdout",
       "text": [
        "\n",
        "D:\\Data\\0_DAILY_INTERVAL_NDVI_TRMM\\InnerMongolia\\TRMM\\150_Day_Period\\150_DaySums_StdNormAnomaly\\TRMM_CQ_2003001.tif\n",
        "D:\\Data\\0_DAILY_INTERVAL_NDVI_TRMM\\InnerMongolia\\PLOT_CHARTS\\COHERENCE//Charts_Col19Row17CumPer5_raw.png"
       ]
      },
      {
       "output_type": "stream",
       "stream": "stdout",
       "text": [
        "\n",
        "\n"
       ]
      },
      {
       "output_type": "stream",
       "stream": "stdout",
       "text": [
        "D:\\Data\\0_DAILY_INTERVAL_NDVI_TRMM\\InnerMongolia\\TRMM\\120_Day_Period\\120_DaySums_StdNormAnomaly \n",
        "D:\\Data\\0_DAILY_INTERVAL_NDVI_TRMM\\InnerMongolia\\NDVI\\DaySums_StdNormAnomalyRes \n",
        "4\n",
        "3653"
       ]
      },
      {
       "output_type": "stream",
       "stream": "stdout",
       "text": [
        "\n",
        "D:\\Data\\0_DAILY_INTERVAL_NDVI_TRMM\\InnerMongolia\\TRMM\\120_Day_Period\\120_DaySums_StdNormAnomaly\\TRMM_CQ_2003001.tif\n",
        "3651"
       ]
      },
      {
       "output_type": "stream",
       "stream": "stdout",
       "text": [
        "\n",
        "D:\\Data\\0_DAILY_INTERVAL_NDVI_TRMM\\InnerMongolia\\NDVI\\DaySums_StdNormAnomalyRes\\TRMM_CQ_2003001.tif\n",
        "D:\\Data\\0_DAILY_INTERVAL_NDVI_TRMM\\InnerMongolia\\PLOT_CHARTS\\COHERENCE//Charts_Col19Row18CumPer4_raw.png"
       ]
      },
      {
       "output_type": "stream",
       "stream": "stdout",
       "text": [
        "\n",
        "\n"
       ]
      },
      {
       "output_type": "stream",
       "stream": "stdout",
       "text": [
        "D:\\Data\\0_DAILY_INTERVAL_NDVI_TRMM\\InnerMongolia\\TRMM\\150_Day_Period\\150_DaySums_StdNormAnomaly \n",
        "D:\\Data\\0_DAILY_INTERVAL_NDVI_TRMM\\InnerMongolia\\NDVI\\DaySums_StdNormAnomalyRes \n",
        "5\n",
        "3653"
       ]
      },
      {
       "output_type": "stream",
       "stream": "stdout",
       "text": [
        "\n",
        "D:\\Data\\0_DAILY_INTERVAL_NDVI_TRMM\\InnerMongolia\\TRMM\\150_Day_Period\\150_DaySums_StdNormAnomaly\\TRMM_CQ_2003001.tif\n",
        "D:\\Data\\0_DAILY_INTERVAL_NDVI_TRMM\\InnerMongolia\\PLOT_CHARTS\\COHERENCE//Charts_Col19Row18CumPer5_raw.png"
       ]
      },
      {
       "output_type": "stream",
       "stream": "stdout",
       "text": [
        "\n",
        "\n"
       ]
      },
      {
       "output_type": "stream",
       "stream": "stdout",
       "text": [
        "D:\\Data\\0_DAILY_INTERVAL_NDVI_TRMM\\InnerMongolia\\TRMM\\120_Day_Period\\120_DaySums_StdNormAnomaly \n",
        "D:\\Data\\0_DAILY_INTERVAL_NDVI_TRMM\\InnerMongolia\\NDVI\\DaySums_StdNormAnomalyRes \n",
        "4\n",
        "3653"
       ]
      },
      {
       "output_type": "stream",
       "stream": "stdout",
       "text": [
        "\n",
        "D:\\Data\\0_DAILY_INTERVAL_NDVI_TRMM\\InnerMongolia\\TRMM\\120_Day_Period\\120_DaySums_StdNormAnomaly\\TRMM_CQ_2003001.tif\n",
        "3651"
       ]
      },
      {
       "output_type": "stream",
       "stream": "stdout",
       "text": [
        "\n",
        "D:\\Data\\0_DAILY_INTERVAL_NDVI_TRMM\\InnerMongolia\\NDVI\\DaySums_StdNormAnomalyRes\\TRMM_CQ_2003001.tif\n",
        "D:\\Data\\0_DAILY_INTERVAL_NDVI_TRMM\\InnerMongolia\\PLOT_CHARTS\\COHERENCE//Charts_Col19Row19CumPer4_raw.png"
       ]
      },
      {
       "output_type": "stream",
       "stream": "stdout",
       "text": [
        "\n",
        "\n"
       ]
      },
      {
       "output_type": "stream",
       "stream": "stdout",
       "text": [
        "D:\\Data\\0_DAILY_INTERVAL_NDVI_TRMM\\InnerMongolia\\TRMM\\150_Day_Period\\150_DaySums_StdNormAnomaly \n",
        "D:\\Data\\0_DAILY_INTERVAL_NDVI_TRMM\\InnerMongolia\\NDVI\\DaySums_StdNormAnomalyRes \n",
        "5\n",
        "3653"
       ]
      },
      {
       "output_type": "stream",
       "stream": "stdout",
       "text": [
        "\n",
        "D:\\Data\\0_DAILY_INTERVAL_NDVI_TRMM\\InnerMongolia\\TRMM\\150_Day_Period\\150_DaySums_StdNormAnomaly\\TRMM_CQ_2003001.tif\n",
        "D:\\Data\\0_DAILY_INTERVAL_NDVI_TRMM\\InnerMongolia\\PLOT_CHARTS\\COHERENCE//Charts_Col19Row19CumPer5_raw.png"
       ]
      },
      {
       "output_type": "stream",
       "stream": "stdout",
       "text": [
        "\n",
        "\n"
       ]
      },
      {
       "output_type": "stream",
       "stream": "stdout",
       "text": [
        "D:\\Data\\0_DAILY_INTERVAL_NDVI_TRMM\\InnerMongolia\\TRMM\\120_Day_Period\\120_DaySums_StdNormAnomaly \n",
        "D:\\Data\\0_DAILY_INTERVAL_NDVI_TRMM\\InnerMongolia\\NDVI\\DaySums_StdNormAnomalyRes \n",
        "4\n",
        "3653"
       ]
      },
      {
       "output_type": "stream",
       "stream": "stdout",
       "text": [
        "\n",
        "D:\\Data\\0_DAILY_INTERVAL_NDVI_TRMM\\InnerMongolia\\TRMM\\120_Day_Period\\120_DaySums_StdNormAnomaly\\TRMM_CQ_2003001.tif\n",
        "3651"
       ]
      },
      {
       "output_type": "stream",
       "stream": "stdout",
       "text": [
        "\n",
        "D:\\Data\\0_DAILY_INTERVAL_NDVI_TRMM\\InnerMongolia\\NDVI\\DaySums_StdNormAnomalyRes\\TRMM_CQ_2003001.tif\n",
        "D:\\Data\\0_DAILY_INTERVAL_NDVI_TRMM\\InnerMongolia\\PLOT_CHARTS\\COHERENCE//Charts_Col19Row20CumPer4_raw.png"
       ]
      },
      {
       "output_type": "stream",
       "stream": "stdout",
       "text": [
        "\n",
        "\n"
       ]
      },
      {
       "output_type": "stream",
       "stream": "stdout",
       "text": [
        "D:\\Data\\0_DAILY_INTERVAL_NDVI_TRMM\\InnerMongolia\\TRMM\\150_Day_Period\\150_DaySums_StdNormAnomaly \n",
        "D:\\Data\\0_DAILY_INTERVAL_NDVI_TRMM\\InnerMongolia\\NDVI\\DaySums_StdNormAnomalyRes \n",
        "5\n",
        "3653\n",
        "D:\\Data\\0_DAILY_INTERVAL_NDVI_TRMM\\InnerMongolia\\TRMM\\150_Day_Period\\150_DaySums_StdNormAnomaly\\TRMM_CQ_2003001.tif\n",
        "D:\\Data\\0_DAILY_INTERVAL_NDVI_TRMM\\InnerMongolia\\PLOT_CHARTS\\COHERENCE//Charts_Col19Row20CumPer5_raw.png"
       ]
      },
      {
       "output_type": "stream",
       "stream": "stdout",
       "text": [
        "\n",
        "\n"
       ]
      },
      {
       "output_type": "stream",
       "stream": "stdout",
       "text": [
        "D:\\Data\\0_DAILY_INTERVAL_NDVI_TRMM\\InnerMongolia\\TRMM\\120_Day_Period\\120_DaySums_StdNormAnomaly \n",
        "D:\\Data\\0_DAILY_INTERVAL_NDVI_TRMM\\InnerMongolia\\NDVI\\DaySums_StdNormAnomalyRes \n",
        "4\n",
        "3653"
       ]
      },
      {
       "output_type": "stream",
       "stream": "stdout",
       "text": [
        "\n",
        "D:\\Data\\0_DAILY_INTERVAL_NDVI_TRMM\\InnerMongolia\\TRMM\\120_Day_Period\\120_DaySums_StdNormAnomaly\\TRMM_CQ_2003001.tif\n",
        "3651"
       ]
      },
      {
       "output_type": "stream",
       "stream": "stdout",
       "text": [
        "\n",
        "D:\\Data\\0_DAILY_INTERVAL_NDVI_TRMM\\InnerMongolia\\NDVI\\DaySums_StdNormAnomalyRes\\TRMM_CQ_2003001.tif\n",
        "D:\\Data\\0_DAILY_INTERVAL_NDVI_TRMM\\InnerMongolia\\PLOT_CHARTS\\COHERENCE//Charts_Col19Row21CumPer4_raw.png"
       ]
      },
      {
       "output_type": "stream",
       "stream": "stdout",
       "text": [
        "\n",
        "\n"
       ]
      },
      {
       "output_type": "stream",
       "stream": "stdout",
       "text": [
        "D:\\Data\\0_DAILY_INTERVAL_NDVI_TRMM\\InnerMongolia\\TRMM\\150_Day_Period\\150_DaySums_StdNormAnomaly \n",
        "D:\\Data\\0_DAILY_INTERVAL_NDVI_TRMM\\InnerMongolia\\NDVI\\DaySums_StdNormAnomalyRes \n",
        "5\n",
        "3653"
       ]
      },
      {
       "output_type": "stream",
       "stream": "stdout",
       "text": [
        "\n",
        "D:\\Data\\0_DAILY_INTERVAL_NDVI_TRMM\\InnerMongolia\\TRMM\\150_Day_Period\\150_DaySums_StdNormAnomaly\\TRMM_CQ_2003001.tif\n",
        "D:\\Data\\0_DAILY_INTERVAL_NDVI_TRMM\\InnerMongolia\\PLOT_CHARTS\\COHERENCE//Charts_Col19Row21CumPer5_raw.png"
       ]
      },
      {
       "output_type": "stream",
       "stream": "stdout",
       "text": [
        "\n",
        "\n"
       ]
      },
      {
       "output_type": "stream",
       "stream": "stdout",
       "text": [
        "D:\\Data\\0_DAILY_INTERVAL_NDVI_TRMM\\InnerMongolia\\TRMM\\120_Day_Period\\120_DaySums_StdNormAnomaly \n",
        "D:\\Data\\0_DAILY_INTERVAL_NDVI_TRMM\\InnerMongolia\\NDVI\\DaySums_StdNormAnomalyRes \n",
        "4\n",
        "3653"
       ]
      },
      {
       "output_type": "stream",
       "stream": "stdout",
       "text": [
        "\n",
        "D:\\Data\\0_DAILY_INTERVAL_NDVI_TRMM\\InnerMongolia\\TRMM\\120_Day_Period\\120_DaySums_StdNormAnomaly\\TRMM_CQ_2003001.tif\n",
        "3651"
       ]
      },
      {
       "output_type": "stream",
       "stream": "stdout",
       "text": [
        "\n",
        "D:\\Data\\0_DAILY_INTERVAL_NDVI_TRMM\\InnerMongolia\\NDVI\\DaySums_StdNormAnomalyRes\\TRMM_CQ_2003001.tif\n",
        "D:\\Data\\0_DAILY_INTERVAL_NDVI_TRMM\\InnerMongolia\\PLOT_CHARTS\\COHERENCE//Charts_Col19Row22CumPer4_raw.png"
       ]
      },
      {
       "output_type": "stream",
       "stream": "stdout",
       "text": [
        "\n",
        "\n"
       ]
      },
      {
       "output_type": "stream",
       "stream": "stdout",
       "text": [
        "D:\\Data\\0_DAILY_INTERVAL_NDVI_TRMM\\InnerMongolia\\TRMM\\150_Day_Period\\150_DaySums_StdNormAnomaly \n",
        "D:\\Data\\0_DAILY_INTERVAL_NDVI_TRMM\\InnerMongolia\\NDVI\\DaySums_StdNormAnomalyRes \n",
        "5\n",
        "3653"
       ]
      },
      {
       "output_type": "stream",
       "stream": "stdout",
       "text": [
        "\n",
        "D:\\Data\\0_DAILY_INTERVAL_NDVI_TRMM\\InnerMongolia\\TRMM\\150_Day_Period\\150_DaySums_StdNormAnomaly\\TRMM_CQ_2003001.tif\n",
        "D:\\Data\\0_DAILY_INTERVAL_NDVI_TRMM\\InnerMongolia\\PLOT_CHARTS\\COHERENCE//Charts_Col19Row22CumPer5_raw.png"
       ]
      },
      {
       "output_type": "stream",
       "stream": "stdout",
       "text": [
        "\n",
        "\n"
       ]
      },
      {
       "output_type": "stream",
       "stream": "stdout",
       "text": [
        "D:\\Data\\0_DAILY_INTERVAL_NDVI_TRMM\\InnerMongolia\\TRMM\\120_Day_Period\\120_DaySums_StdNormAnomaly \n",
        "D:\\Data\\0_DAILY_INTERVAL_NDVI_TRMM\\InnerMongolia\\NDVI\\DaySums_StdNormAnomalyRes \n",
        "4\n",
        "3653"
       ]
      },
      {
       "output_type": "stream",
       "stream": "stdout",
       "text": [
        "\n",
        "D:\\Data\\0_DAILY_INTERVAL_NDVI_TRMM\\InnerMongolia\\TRMM\\120_Day_Period\\120_DaySums_StdNormAnomaly\\TRMM_CQ_2003001.tif\n",
        "3651"
       ]
      },
      {
       "output_type": "stream",
       "stream": "stdout",
       "text": [
        "\n",
        "D:\\Data\\0_DAILY_INTERVAL_NDVI_TRMM\\InnerMongolia\\NDVI\\DaySums_StdNormAnomalyRes\\TRMM_CQ_2003001.tif\n",
        "D:\\Data\\0_DAILY_INTERVAL_NDVI_TRMM\\InnerMongolia\\PLOT_CHARTS\\COHERENCE//Charts_Col19Row23CumPer4_raw.png"
       ]
      },
      {
       "output_type": "stream",
       "stream": "stdout",
       "text": [
        "\n",
        "\n"
       ]
      },
      {
       "output_type": "stream",
       "stream": "stdout",
       "text": [
        "D:\\Data\\0_DAILY_INTERVAL_NDVI_TRMM\\InnerMongolia\\TRMM\\150_Day_Period\\150_DaySums_StdNormAnomaly \n",
        "D:\\Data\\0_DAILY_INTERVAL_NDVI_TRMM\\InnerMongolia\\NDVI\\DaySums_StdNormAnomalyRes \n",
        "5\n",
        "3653\n",
        "D:\\Data\\0_DAILY_INTERVAL_NDVI_TRMM\\InnerMongolia\\TRMM\\150_Day_Period\\150_DaySums_StdNormAnomaly\\TRMM_CQ_2003001.tif\n",
        "D:\\Data\\0_DAILY_INTERVAL_NDVI_TRMM\\InnerMongolia\\PLOT_CHARTS\\COHERENCE//Charts_Col19Row23CumPer5_raw.png"
       ]
      },
      {
       "output_type": "stream",
       "stream": "stdout",
       "text": [
        "\n",
        "\n"
       ]
      },
      {
       "output_type": "stream",
       "stream": "stdout",
       "text": [
        "D:\\Data\\0_DAILY_INTERVAL_NDVI_TRMM\\InnerMongolia\\TRMM\\120_Day_Period\\120_DaySums_StdNormAnomaly \n",
        "D:\\Data\\0_DAILY_INTERVAL_NDVI_TRMM\\InnerMongolia\\NDVI\\DaySums_StdNormAnomalyRes \n",
        "4\n",
        "3653"
       ]
      },
      {
       "output_type": "stream",
       "stream": "stdout",
       "text": [
        "\n",
        "D:\\Data\\0_DAILY_INTERVAL_NDVI_TRMM\\InnerMongolia\\TRMM\\120_Day_Period\\120_DaySums_StdNormAnomaly\\TRMM_CQ_2003001.tif\n",
        "3651"
       ]
      },
      {
       "output_type": "stream",
       "stream": "stdout",
       "text": [
        "\n",
        "D:\\Data\\0_DAILY_INTERVAL_NDVI_TRMM\\InnerMongolia\\NDVI\\DaySums_StdNormAnomalyRes\\TRMM_CQ_2003001.tif\n",
        "D:\\Data\\0_DAILY_INTERVAL_NDVI_TRMM\\InnerMongolia\\PLOT_CHARTS\\COHERENCE//Charts_Col20Row13CumPer4_raw.png"
       ]
      },
      {
       "output_type": "stream",
       "stream": "stdout",
       "text": [
        "\n",
        "\n"
       ]
      },
      {
       "output_type": "stream",
       "stream": "stdout",
       "text": [
        "D:\\Data\\0_DAILY_INTERVAL_NDVI_TRMM\\InnerMongolia\\TRMM\\150_Day_Period\\150_DaySums_StdNormAnomaly \n",
        "D:\\Data\\0_DAILY_INTERVAL_NDVI_TRMM\\InnerMongolia\\NDVI\\DaySums_StdNormAnomalyRes \n",
        "5\n",
        "3653"
       ]
      },
      {
       "output_type": "stream",
       "stream": "stdout",
       "text": [
        "\n",
        "D:\\Data\\0_DAILY_INTERVAL_NDVI_TRMM\\InnerMongolia\\TRMM\\150_Day_Period\\150_DaySums_StdNormAnomaly\\TRMM_CQ_2003001.tif\n",
        "D:\\Data\\0_DAILY_INTERVAL_NDVI_TRMM\\InnerMongolia\\PLOT_CHARTS\\COHERENCE//Charts_Col20Row13CumPer5_raw.png"
       ]
      },
      {
       "output_type": "stream",
       "stream": "stdout",
       "text": [
        "\n",
        "\n"
       ]
      },
      {
       "output_type": "stream",
       "stream": "stdout",
       "text": [
        "D:\\Data\\0_DAILY_INTERVAL_NDVI_TRMM\\InnerMongolia\\TRMM\\120_Day_Period\\120_DaySums_StdNormAnomaly \n",
        "D:\\Data\\0_DAILY_INTERVAL_NDVI_TRMM\\InnerMongolia\\NDVI\\DaySums_StdNormAnomalyRes \n",
        "4\n",
        "3653"
       ]
      },
      {
       "output_type": "stream",
       "stream": "stdout",
       "text": [
        "\n",
        "D:\\Data\\0_DAILY_INTERVAL_NDVI_TRMM\\InnerMongolia\\TRMM\\120_Day_Period\\120_DaySums_StdNormAnomaly\\TRMM_CQ_2003001.tif\n",
        "3651"
       ]
      },
      {
       "output_type": "stream",
       "stream": "stdout",
       "text": [
        "\n",
        "D:\\Data\\0_DAILY_INTERVAL_NDVI_TRMM\\InnerMongolia\\NDVI\\DaySums_StdNormAnomalyRes\\TRMM_CQ_2003001.tif\n",
        "D:\\Data\\0_DAILY_INTERVAL_NDVI_TRMM\\InnerMongolia\\PLOT_CHARTS\\COHERENCE//Charts_Col20Row14CumPer4_raw.png"
       ]
      },
      {
       "output_type": "stream",
       "stream": "stdout",
       "text": [
        "\n",
        "\n"
       ]
      },
      {
       "output_type": "stream",
       "stream": "stdout",
       "text": [
        "D:\\Data\\0_DAILY_INTERVAL_NDVI_TRMM\\InnerMongolia\\TRMM\\150_Day_Period\\150_DaySums_StdNormAnomaly \n",
        "D:\\Data\\0_DAILY_INTERVAL_NDVI_TRMM\\InnerMongolia\\NDVI\\DaySums_StdNormAnomalyRes \n",
        "5\n",
        "3653"
       ]
      },
      {
       "output_type": "stream",
       "stream": "stdout",
       "text": [
        "\n",
        "D:\\Data\\0_DAILY_INTERVAL_NDVI_TRMM\\InnerMongolia\\TRMM\\150_Day_Period\\150_DaySums_StdNormAnomaly\\TRMM_CQ_2003001.tif\n",
        "D:\\Data\\0_DAILY_INTERVAL_NDVI_TRMM\\InnerMongolia\\PLOT_CHARTS\\COHERENCE//Charts_Col20Row14CumPer5_raw.png"
       ]
      },
      {
       "output_type": "stream",
       "stream": "stdout",
       "text": [
        "\n",
        "\n"
       ]
      },
      {
       "output_type": "stream",
       "stream": "stdout",
       "text": [
        "D:\\Data\\0_DAILY_INTERVAL_NDVI_TRMM\\InnerMongolia\\TRMM\\120_Day_Period\\120_DaySums_StdNormAnomaly \n",
        "D:\\Data\\0_DAILY_INTERVAL_NDVI_TRMM\\InnerMongolia\\NDVI\\DaySums_StdNormAnomalyRes \n",
        "4\n",
        "3653"
       ]
      },
      {
       "output_type": "stream",
       "stream": "stdout",
       "text": [
        "\n",
        "D:\\Data\\0_DAILY_INTERVAL_NDVI_TRMM\\InnerMongolia\\TRMM\\120_Day_Period\\120_DaySums_StdNormAnomaly\\TRMM_CQ_2003001.tif\n",
        "3651"
       ]
      },
      {
       "output_type": "stream",
       "stream": "stdout",
       "text": [
        "\n",
        "D:\\Data\\0_DAILY_INTERVAL_NDVI_TRMM\\InnerMongolia\\NDVI\\DaySums_StdNormAnomalyRes\\TRMM_CQ_2003001.tif\n",
        "D:\\Data\\0_DAILY_INTERVAL_NDVI_TRMM\\InnerMongolia\\PLOT_CHARTS\\COHERENCE//Charts_Col20Row15CumPer4_raw.png"
       ]
      },
      {
       "output_type": "stream",
       "stream": "stdout",
       "text": [
        "\n",
        "\n"
       ]
      },
      {
       "output_type": "stream",
       "stream": "stdout",
       "text": [
        "D:\\Data\\0_DAILY_INTERVAL_NDVI_TRMM\\InnerMongolia\\TRMM\\150_Day_Period\\150_DaySums_StdNormAnomaly \n",
        "D:\\Data\\0_DAILY_INTERVAL_NDVI_TRMM\\InnerMongolia\\NDVI\\DaySums_StdNormAnomalyRes \n",
        "5\n",
        "3653"
       ]
      },
      {
       "output_type": "stream",
       "stream": "stdout",
       "text": [
        "\n",
        "D:\\Data\\0_DAILY_INTERVAL_NDVI_TRMM\\InnerMongolia\\TRMM\\150_Day_Period\\150_DaySums_StdNormAnomaly\\TRMM_CQ_2003001.tif\n",
        "D:\\Data\\0_DAILY_INTERVAL_NDVI_TRMM\\InnerMongolia\\PLOT_CHARTS\\COHERENCE//Charts_Col20Row15CumPer5_raw.png"
       ]
      },
      {
       "output_type": "stream",
       "stream": "stdout",
       "text": [
        "\n",
        "\n"
       ]
      },
      {
       "output_type": "stream",
       "stream": "stdout",
       "text": [
        "D:\\Data\\0_DAILY_INTERVAL_NDVI_TRMM\\InnerMongolia\\TRMM\\120_Day_Period\\120_DaySums_StdNormAnomaly \n",
        "D:\\Data\\0_DAILY_INTERVAL_NDVI_TRMM\\InnerMongolia\\NDVI\\DaySums_StdNormAnomalyRes \n",
        "4\n",
        "3653\n",
        "D:\\Data\\0_DAILY_INTERVAL_NDVI_TRMM\\InnerMongolia\\TRMM\\120_Day_Period\\120_DaySums_StdNormAnomaly\\TRMM_CQ_2003001.tif\n",
        "3651"
       ]
      },
      {
       "output_type": "stream",
       "stream": "stdout",
       "text": [
        "\n",
        "D:\\Data\\0_DAILY_INTERVAL_NDVI_TRMM\\InnerMongolia\\NDVI\\DaySums_StdNormAnomalyRes\\TRMM_CQ_2003001.tif\n",
        "D:\\Data\\0_DAILY_INTERVAL_NDVI_TRMM\\InnerMongolia\\PLOT_CHARTS\\COHERENCE//Charts_Col20Row16CumPer4_raw.png"
       ]
      },
      {
       "output_type": "stream",
       "stream": "stdout",
       "text": [
        "\n",
        "\n"
       ]
      },
      {
       "output_type": "stream",
       "stream": "stdout",
       "text": [
        "D:\\Data\\0_DAILY_INTERVAL_NDVI_TRMM\\InnerMongolia\\TRMM\\150_Day_Period\\150_DaySums_StdNormAnomaly \n",
        "D:\\Data\\0_DAILY_INTERVAL_NDVI_TRMM\\InnerMongolia\\NDVI\\DaySums_StdNormAnomalyRes \n",
        "5\n",
        "3653"
       ]
      },
      {
       "output_type": "stream",
       "stream": "stdout",
       "text": [
        "\n",
        "D:\\Data\\0_DAILY_INTERVAL_NDVI_TRMM\\InnerMongolia\\TRMM\\150_Day_Period\\150_DaySums_StdNormAnomaly\\TRMM_CQ_2003001.tif\n",
        "D:\\Data\\0_DAILY_INTERVAL_NDVI_TRMM\\InnerMongolia\\PLOT_CHARTS\\COHERENCE//Charts_Col20Row16CumPer5_raw.png"
       ]
      },
      {
       "output_type": "stream",
       "stream": "stdout",
       "text": [
        "\n",
        "\n"
       ]
      },
      {
       "output_type": "stream",
       "stream": "stdout",
       "text": [
        "D:\\Data\\0_DAILY_INTERVAL_NDVI_TRMM\\InnerMongolia\\TRMM\\120_Day_Period\\120_DaySums_StdNormAnomaly \n",
        "D:\\Data\\0_DAILY_INTERVAL_NDVI_TRMM\\InnerMongolia\\NDVI\\DaySums_StdNormAnomalyRes \n",
        "4\n",
        "3653"
       ]
      },
      {
       "output_type": "stream",
       "stream": "stdout",
       "text": [
        "\n",
        "D:\\Data\\0_DAILY_INTERVAL_NDVI_TRMM\\InnerMongolia\\TRMM\\120_Day_Period\\120_DaySums_StdNormAnomaly\\TRMM_CQ_2003001.tif\n",
        "3651"
       ]
      },
      {
       "output_type": "stream",
       "stream": "stdout",
       "text": [
        "\n",
        "D:\\Data\\0_DAILY_INTERVAL_NDVI_TRMM\\InnerMongolia\\NDVI\\DaySums_StdNormAnomalyRes\\TRMM_CQ_2003001.tif\n",
        "D:\\Data\\0_DAILY_INTERVAL_NDVI_TRMM\\InnerMongolia\\PLOT_CHARTS\\COHERENCE//Charts_Col20Row17CumPer4_raw.png"
       ]
      },
      {
       "output_type": "stream",
       "stream": "stdout",
       "text": [
        "\n",
        "\n"
       ]
      },
      {
       "output_type": "stream",
       "stream": "stdout",
       "text": [
        "D:\\Data\\0_DAILY_INTERVAL_NDVI_TRMM\\InnerMongolia\\TRMM\\150_Day_Period\\150_DaySums_StdNormAnomaly \n",
        "D:\\Data\\0_DAILY_INTERVAL_NDVI_TRMM\\InnerMongolia\\NDVI\\DaySums_StdNormAnomalyRes \n",
        "5\n",
        "3653\n",
        "D:\\Data\\0_DAILY_INTERVAL_NDVI_TRMM\\InnerMongolia\\TRMM\\150_Day_Period\\150_DaySums_StdNormAnomaly\\TRMM_CQ_2003001.tif\n",
        "D:\\Data\\0_DAILY_INTERVAL_NDVI_TRMM\\InnerMongolia\\PLOT_CHARTS\\COHERENCE//Charts_Col20Row17CumPer5_raw.png"
       ]
      },
      {
       "output_type": "stream",
       "stream": "stdout",
       "text": [
        "\n",
        "\n"
       ]
      },
      {
       "output_type": "stream",
       "stream": "stdout",
       "text": [
        "D:\\Data\\0_DAILY_INTERVAL_NDVI_TRMM\\InnerMongolia\\TRMM\\120_Day_Period\\120_DaySums_StdNormAnomaly \n",
        "D:\\Data\\0_DAILY_INTERVAL_NDVI_TRMM\\InnerMongolia\\NDVI\\DaySums_StdNormAnomalyRes \n",
        "4\n",
        "3653"
       ]
      },
      {
       "output_type": "stream",
       "stream": "stdout",
       "text": [
        "\n",
        "D:\\Data\\0_DAILY_INTERVAL_NDVI_TRMM\\InnerMongolia\\TRMM\\120_Day_Period\\120_DaySums_StdNormAnomaly\\TRMM_CQ_2003001.tif\n",
        "3651"
       ]
      },
      {
       "output_type": "stream",
       "stream": "stdout",
       "text": [
        "\n",
        "D:\\Data\\0_DAILY_INTERVAL_NDVI_TRMM\\InnerMongolia\\NDVI\\DaySums_StdNormAnomalyRes\\TRMM_CQ_2003001.tif\n",
        "D:\\Data\\0_DAILY_INTERVAL_NDVI_TRMM\\InnerMongolia\\PLOT_CHARTS\\COHERENCE//Charts_Col20Row18CumPer4_raw.png"
       ]
      },
      {
       "output_type": "stream",
       "stream": "stdout",
       "text": [
        "\n",
        "\n"
       ]
      },
      {
       "output_type": "stream",
       "stream": "stdout",
       "text": [
        "D:\\Data\\0_DAILY_INTERVAL_NDVI_TRMM\\InnerMongolia\\TRMM\\150_Day_Period\\150_DaySums_StdNormAnomaly \n",
        "D:\\Data\\0_DAILY_INTERVAL_NDVI_TRMM\\InnerMongolia\\NDVI\\DaySums_StdNormAnomalyRes \n",
        "5\n",
        "3653"
       ]
      },
      {
       "output_type": "stream",
       "stream": "stdout",
       "text": [
        "\n",
        "D:\\Data\\0_DAILY_INTERVAL_NDVI_TRMM\\InnerMongolia\\TRMM\\150_Day_Period\\150_DaySums_StdNormAnomaly\\TRMM_CQ_2003001.tif\n",
        "D:\\Data\\0_DAILY_INTERVAL_NDVI_TRMM\\InnerMongolia\\PLOT_CHARTS\\COHERENCE//Charts_Col20Row18CumPer5_raw.png"
       ]
      },
      {
       "output_type": "stream",
       "stream": "stdout",
       "text": [
        "\n",
        "\n"
       ]
      },
      {
       "output_type": "stream",
       "stream": "stdout",
       "text": [
        "D:\\Data\\0_DAILY_INTERVAL_NDVI_TRMM\\InnerMongolia\\TRMM\\120_Day_Period\\120_DaySums_StdNormAnomaly \n",
        "D:\\Data\\0_DAILY_INTERVAL_NDVI_TRMM\\InnerMongolia\\NDVI\\DaySums_StdNormAnomalyRes \n",
        "4\n",
        "3653"
       ]
      },
      {
       "output_type": "stream",
       "stream": "stdout",
       "text": [
        "\n",
        "D:\\Data\\0_DAILY_INTERVAL_NDVI_TRMM\\InnerMongolia\\TRMM\\120_Day_Period\\120_DaySums_StdNormAnomaly\\TRMM_CQ_2003001.tif\n",
        "3651"
       ]
      },
      {
       "output_type": "stream",
       "stream": "stdout",
       "text": [
        "\n",
        "D:\\Data\\0_DAILY_INTERVAL_NDVI_TRMM\\InnerMongolia\\NDVI\\DaySums_StdNormAnomalyRes\\TRMM_CQ_2003001.tif\n",
        "D:\\Data\\0_DAILY_INTERVAL_NDVI_TRMM\\InnerMongolia\\PLOT_CHARTS\\COHERENCE//Charts_Col20Row19CumPer4_raw.png"
       ]
      },
      {
       "output_type": "stream",
       "stream": "stdout",
       "text": [
        "\n",
        "\n"
       ]
      },
      {
       "output_type": "stream",
       "stream": "stdout",
       "text": [
        "D:\\Data\\0_DAILY_INTERVAL_NDVI_TRMM\\InnerMongolia\\TRMM\\150_Day_Period\\150_DaySums_StdNormAnomaly \n",
        "D:\\Data\\0_DAILY_INTERVAL_NDVI_TRMM\\InnerMongolia\\NDVI\\DaySums_StdNormAnomalyRes \n",
        "5\n",
        "3653"
       ]
      },
      {
       "output_type": "stream",
       "stream": "stdout",
       "text": [
        "\n",
        "D:\\Data\\0_DAILY_INTERVAL_NDVI_TRMM\\InnerMongolia\\TRMM\\150_Day_Period\\150_DaySums_StdNormAnomaly\\TRMM_CQ_2003001.tif\n",
        "D:\\Data\\0_DAILY_INTERVAL_NDVI_TRMM\\InnerMongolia\\PLOT_CHARTS\\COHERENCE//Charts_Col20Row19CumPer5_raw.png"
       ]
      },
      {
       "output_type": "stream",
       "stream": "stdout",
       "text": [
        "\n",
        "\n"
       ]
      },
      {
       "output_type": "stream",
       "stream": "stdout",
       "text": [
        "D:\\Data\\0_DAILY_INTERVAL_NDVI_TRMM\\InnerMongolia\\TRMM\\120_Day_Period\\120_DaySums_StdNormAnomaly \n",
        "D:\\Data\\0_DAILY_INTERVAL_NDVI_TRMM\\InnerMongolia\\NDVI\\DaySums_StdNormAnomalyRes \n",
        "4\n",
        "3653"
       ]
      },
      {
       "output_type": "stream",
       "stream": "stdout",
       "text": [
        "\n",
        "D:\\Data\\0_DAILY_INTERVAL_NDVI_TRMM\\InnerMongolia\\TRMM\\120_Day_Period\\120_DaySums_StdNormAnomaly\\TRMM_CQ_2003001.tif\n",
        "3651"
       ]
      },
      {
       "output_type": "stream",
       "stream": "stdout",
       "text": [
        "\n",
        "D:\\Data\\0_DAILY_INTERVAL_NDVI_TRMM\\InnerMongolia\\NDVI\\DaySums_StdNormAnomalyRes\\TRMM_CQ_2003001.tif\n",
        "D:\\Data\\0_DAILY_INTERVAL_NDVI_TRMM\\InnerMongolia\\PLOT_CHARTS\\COHERENCE//Charts_Col20Row20CumPer4_raw.png"
       ]
      },
      {
       "output_type": "stream",
       "stream": "stdout",
       "text": [
        "\n",
        "\n"
       ]
      },
      {
       "output_type": "stream",
       "stream": "stdout",
       "text": [
        "D:\\Data\\0_DAILY_INTERVAL_NDVI_TRMM\\InnerMongolia\\TRMM\\150_Day_Period\\150_DaySums_StdNormAnomaly \n",
        "D:\\Data\\0_DAILY_INTERVAL_NDVI_TRMM\\InnerMongolia\\NDVI\\DaySums_StdNormAnomalyRes \n",
        "5\n",
        "3653\n",
        "D:\\Data\\0_DAILY_INTERVAL_NDVI_TRMM\\InnerMongolia\\TRMM\\150_Day_Period\\150_DaySums_StdNormAnomaly\\TRMM_CQ_2003001.tif\n",
        "D:\\Data\\0_DAILY_INTERVAL_NDVI_TRMM\\InnerMongolia\\PLOT_CHARTS\\COHERENCE//Charts_Col20Row20CumPer5_raw.png"
       ]
      },
      {
       "output_type": "stream",
       "stream": "stdout",
       "text": [
        "\n",
        "\n"
       ]
      },
      {
       "output_type": "stream",
       "stream": "stdout",
       "text": [
        "D:\\Data\\0_DAILY_INTERVAL_NDVI_TRMM\\InnerMongolia\\TRMM\\120_Day_Period\\120_DaySums_StdNormAnomaly \n",
        "D:\\Data\\0_DAILY_INTERVAL_NDVI_TRMM\\InnerMongolia\\NDVI\\DaySums_StdNormAnomalyRes \n",
        "4\n",
        "3653"
       ]
      },
      {
       "output_type": "stream",
       "stream": "stdout",
       "text": [
        "\n",
        "D:\\Data\\0_DAILY_INTERVAL_NDVI_TRMM\\InnerMongolia\\TRMM\\120_Day_Period\\120_DaySums_StdNormAnomaly\\TRMM_CQ_2003001.tif\n",
        "3651"
       ]
      },
      {
       "output_type": "stream",
       "stream": "stdout",
       "text": [
        "\n",
        "D:\\Data\\0_DAILY_INTERVAL_NDVI_TRMM\\InnerMongolia\\NDVI\\DaySums_StdNormAnomalyRes\\TRMM_CQ_2003001.tif\n",
        "D:\\Data\\0_DAILY_INTERVAL_NDVI_TRMM\\InnerMongolia\\PLOT_CHARTS\\COHERENCE//Charts_Col20Row21CumPer4_raw.png"
       ]
      },
      {
       "output_type": "stream",
       "stream": "stdout",
       "text": [
        "\n",
        "\n"
       ]
      },
      {
       "output_type": "stream",
       "stream": "stdout",
       "text": [
        "D:\\Data\\0_DAILY_INTERVAL_NDVI_TRMM\\InnerMongolia\\TRMM\\150_Day_Period\\150_DaySums_StdNormAnomaly \n",
        "D:\\Data\\0_DAILY_INTERVAL_NDVI_TRMM\\InnerMongolia\\NDVI\\DaySums_StdNormAnomalyRes \n",
        "5\n",
        "3653"
       ]
      },
      {
       "output_type": "stream",
       "stream": "stdout",
       "text": [
        "\n",
        "D:\\Data\\0_DAILY_INTERVAL_NDVI_TRMM\\InnerMongolia\\TRMM\\150_Day_Period\\150_DaySums_StdNormAnomaly\\TRMM_CQ_2003001.tif\n",
        "D:\\Data\\0_DAILY_INTERVAL_NDVI_TRMM\\InnerMongolia\\PLOT_CHARTS\\COHERENCE//Charts_Col20Row21CumPer5_raw.png"
       ]
      },
      {
       "output_type": "stream",
       "stream": "stdout",
       "text": [
        "\n",
        "\n"
       ]
      },
      {
       "output_type": "stream",
       "stream": "stdout",
       "text": [
        "D:\\Data\\0_DAILY_INTERVAL_NDVI_TRMM\\InnerMongolia\\TRMM\\120_Day_Period\\120_DaySums_StdNormAnomaly \n",
        "D:\\Data\\0_DAILY_INTERVAL_NDVI_TRMM\\InnerMongolia\\NDVI\\DaySums_StdNormAnomalyRes \n",
        "4\n",
        "3653"
       ]
      },
      {
       "output_type": "stream",
       "stream": "stdout",
       "text": [
        "\n",
        "D:\\Data\\0_DAILY_INTERVAL_NDVI_TRMM\\InnerMongolia\\TRMM\\120_Day_Period\\120_DaySums_StdNormAnomaly\\TRMM_CQ_2003001.tif\n",
        "3651"
       ]
      },
      {
       "output_type": "stream",
       "stream": "stdout",
       "text": [
        "\n",
        "D:\\Data\\0_DAILY_INTERVAL_NDVI_TRMM\\InnerMongolia\\NDVI\\DaySums_StdNormAnomalyRes\\TRMM_CQ_2003001.tif\n",
        "D:\\Data\\0_DAILY_INTERVAL_NDVI_TRMM\\InnerMongolia\\PLOT_CHARTS\\COHERENCE//Charts_Col20Row22CumPer4_raw.png"
       ]
      },
      {
       "output_type": "stream",
       "stream": "stdout",
       "text": [
        "\n",
        "\n"
       ]
      },
      {
       "output_type": "stream",
       "stream": "stdout",
       "text": [
        "D:\\Data\\0_DAILY_INTERVAL_NDVI_TRMM\\InnerMongolia\\TRMM\\150_Day_Period\\150_DaySums_StdNormAnomaly \n",
        "D:\\Data\\0_DAILY_INTERVAL_NDVI_TRMM\\InnerMongolia\\NDVI\\DaySums_StdNormAnomalyRes \n",
        "5\n",
        "3653\n",
        "D:\\Data\\0_DAILY_INTERVAL_NDVI_TRMM\\InnerMongolia\\TRMM\\150_Day_Period\\150_DaySums_StdNormAnomaly\\TRMM_CQ_2003001.tif\n",
        "D:\\Data\\0_DAILY_INTERVAL_NDVI_TRMM\\InnerMongolia\\PLOT_CHARTS\\COHERENCE//Charts_Col20Row22CumPer5_raw.png"
       ]
      },
      {
       "output_type": "stream",
       "stream": "stdout",
       "text": [
        "\n",
        "\n"
       ]
      },
      {
       "output_type": "stream",
       "stream": "stdout",
       "text": [
        "D:\\Data\\0_DAILY_INTERVAL_NDVI_TRMM\\InnerMongolia\\TRMM\\120_Day_Period\\120_DaySums_StdNormAnomaly \n",
        "D:\\Data\\0_DAILY_INTERVAL_NDVI_TRMM\\InnerMongolia\\NDVI\\DaySums_StdNormAnomalyRes \n",
        "4\n",
        "3653"
       ]
      },
      {
       "output_type": "stream",
       "stream": "stdout",
       "text": [
        "\n",
        "D:\\Data\\0_DAILY_INTERVAL_NDVI_TRMM\\InnerMongolia\\TRMM\\120_Day_Period\\120_DaySums_StdNormAnomaly\\TRMM_CQ_2003001.tif\n",
        "3651"
       ]
      },
      {
       "output_type": "stream",
       "stream": "stdout",
       "text": [
        "\n",
        "D:\\Data\\0_DAILY_INTERVAL_NDVI_TRMM\\InnerMongolia\\NDVI\\DaySums_StdNormAnomalyRes\\TRMM_CQ_2003001.tif\n",
        "D:\\Data\\0_DAILY_INTERVAL_NDVI_TRMM\\InnerMongolia\\PLOT_CHARTS\\COHERENCE//Charts_Col20Row23CumPer4_raw.png"
       ]
      },
      {
       "output_type": "stream",
       "stream": "stdout",
       "text": [
        "\n",
        "\n"
       ]
      },
      {
       "output_type": "stream",
       "stream": "stdout",
       "text": [
        "D:\\Data\\0_DAILY_INTERVAL_NDVI_TRMM\\InnerMongolia\\TRMM\\150_Day_Period\\150_DaySums_StdNormAnomaly \n",
        "D:\\Data\\0_DAILY_INTERVAL_NDVI_TRMM\\InnerMongolia\\NDVI\\DaySums_StdNormAnomalyRes \n",
        "5\n",
        "3653\n",
        "D:\\Data\\0_DAILY_INTERVAL_NDVI_TRMM\\InnerMongolia\\TRMM\\150_Day_Period\\150_DaySums_StdNormAnomaly\\TRMM_CQ_2003001.tif\n",
        "D:\\Data\\0_DAILY_INTERVAL_NDVI_TRMM\\InnerMongolia\\PLOT_CHARTS\\COHERENCE//Charts_Col20Row23CumPer5_raw.png"
       ]
      },
      {
       "output_type": "stream",
       "stream": "stdout",
       "text": [
        "\n",
        "\n"
       ]
      },
      {
       "output_type": "stream",
       "stream": "stdout",
       "text": [
        "D:\\Data\\0_DAILY_INTERVAL_NDVI_TRMM\\InnerMongolia\\TRMM\\120_Day_Period\\120_DaySums_StdNormAnomaly \n",
        "D:\\Data\\0_DAILY_INTERVAL_NDVI_TRMM\\InnerMongolia\\NDVI\\DaySums_StdNormAnomalyRes \n",
        "4\n",
        "3653"
       ]
      },
      {
       "output_type": "stream",
       "stream": "stdout",
       "text": [
        "\n",
        "D:\\Data\\0_DAILY_INTERVAL_NDVI_TRMM\\InnerMongolia\\TRMM\\120_Day_Period\\120_DaySums_StdNormAnomaly\\TRMM_CQ_2003001.tif\n",
        "3651"
       ]
      },
      {
       "output_type": "stream",
       "stream": "stdout",
       "text": [
        "\n",
        "D:\\Data\\0_DAILY_INTERVAL_NDVI_TRMM\\InnerMongolia\\NDVI\\DaySums_StdNormAnomalyRes\\TRMM_CQ_2003001.tif\n",
        "D:\\Data\\0_DAILY_INTERVAL_NDVI_TRMM\\InnerMongolia\\PLOT_CHARTS\\COHERENCE//Charts_Col21Row13CumPer4_raw.png"
       ]
      },
      {
       "output_type": "stream",
       "stream": "stdout",
       "text": [
        "\n",
        "\n"
       ]
      },
      {
       "output_type": "stream",
       "stream": "stdout",
       "text": [
        "D:\\Data\\0_DAILY_INTERVAL_NDVI_TRMM\\InnerMongolia\\TRMM\\150_Day_Period\\150_DaySums_StdNormAnomaly \n",
        "D:\\Data\\0_DAILY_INTERVAL_NDVI_TRMM\\InnerMongolia\\NDVI\\DaySums_StdNormAnomalyRes \n",
        "5\n",
        "3653"
       ]
      },
      {
       "output_type": "stream",
       "stream": "stdout",
       "text": [
        "\n",
        "D:\\Data\\0_DAILY_INTERVAL_NDVI_TRMM\\InnerMongolia\\TRMM\\150_Day_Period\\150_DaySums_StdNormAnomaly\\TRMM_CQ_2003001.tif\n",
        "D:\\Data\\0_DAILY_INTERVAL_NDVI_TRMM\\InnerMongolia\\PLOT_CHARTS\\COHERENCE//Charts_Col21Row13CumPer5_raw.png"
       ]
      },
      {
       "output_type": "stream",
       "stream": "stdout",
       "text": [
        "\n",
        "\n"
       ]
      },
      {
       "output_type": "stream",
       "stream": "stdout",
       "text": [
        "D:\\Data\\0_DAILY_INTERVAL_NDVI_TRMM\\InnerMongolia\\TRMM\\120_Day_Period\\120_DaySums_StdNormAnomaly \n",
        "D:\\Data\\0_DAILY_INTERVAL_NDVI_TRMM\\InnerMongolia\\NDVI\\DaySums_StdNormAnomalyRes \n",
        "4\n",
        "3653"
       ]
      },
      {
       "output_type": "stream",
       "stream": "stdout",
       "text": [
        "\n",
        "D:\\Data\\0_DAILY_INTERVAL_NDVI_TRMM\\InnerMongolia\\TRMM\\120_Day_Period\\120_DaySums_StdNormAnomaly\\TRMM_CQ_2003001.tif\n",
        "3651"
       ]
      },
      {
       "output_type": "stream",
       "stream": "stdout",
       "text": [
        "\n",
        "D:\\Data\\0_DAILY_INTERVAL_NDVI_TRMM\\InnerMongolia\\NDVI\\DaySums_StdNormAnomalyRes\\TRMM_CQ_2003001.tif\n",
        "D:\\Data\\0_DAILY_INTERVAL_NDVI_TRMM\\InnerMongolia\\PLOT_CHARTS\\COHERENCE//Charts_Col21Row14CumPer4_raw.png"
       ]
      },
      {
       "output_type": "stream",
       "stream": "stdout",
       "text": [
        "\n",
        "\n"
       ]
      },
      {
       "output_type": "stream",
       "stream": "stdout",
       "text": [
        "D:\\Data\\0_DAILY_INTERVAL_NDVI_TRMM\\InnerMongolia\\TRMM\\150_Day_Period\\150_DaySums_StdNormAnomaly \n",
        "D:\\Data\\0_DAILY_INTERVAL_NDVI_TRMM\\InnerMongolia\\NDVI\\DaySums_StdNormAnomalyRes \n",
        "5\n",
        "3653"
       ]
      },
      {
       "output_type": "stream",
       "stream": "stdout",
       "text": [
        "\n",
        "D:\\Data\\0_DAILY_INTERVAL_NDVI_TRMM\\InnerMongolia\\TRMM\\150_Day_Period\\150_DaySums_StdNormAnomaly\\TRMM_CQ_2003001.tif\n",
        "D:\\Data\\0_DAILY_INTERVAL_NDVI_TRMM\\InnerMongolia\\PLOT_CHARTS\\COHERENCE//Charts_Col21Row14CumPer5_raw.png"
       ]
      },
      {
       "output_type": "stream",
       "stream": "stdout",
       "text": [
        "\n",
        "\n"
       ]
      },
      {
       "output_type": "stream",
       "stream": "stdout",
       "text": [
        "D:\\Data\\0_DAILY_INTERVAL_NDVI_TRMM\\InnerMongolia\\TRMM\\120_Day_Period\\120_DaySums_StdNormAnomaly \n",
        "D:\\Data\\0_DAILY_INTERVAL_NDVI_TRMM\\InnerMongolia\\NDVI\\DaySums_StdNormAnomalyRes \n",
        "4\n",
        "3653"
       ]
      },
      {
       "output_type": "stream",
       "stream": "stdout",
       "text": [
        "\n",
        "D:\\Data\\0_DAILY_INTERVAL_NDVI_TRMM\\InnerMongolia\\TRMM\\120_Day_Period\\120_DaySums_StdNormAnomaly\\TRMM_CQ_2003001.tif\n",
        "3651"
       ]
      },
      {
       "output_type": "stream",
       "stream": "stdout",
       "text": [
        "\n",
        "D:\\Data\\0_DAILY_INTERVAL_NDVI_TRMM\\InnerMongolia\\NDVI\\DaySums_StdNormAnomalyRes\\TRMM_CQ_2003001.tif\n",
        "D:\\Data\\0_DAILY_INTERVAL_NDVI_TRMM\\InnerMongolia\\PLOT_CHARTS\\COHERENCE//Charts_Col21Row15CumPer4_raw.png"
       ]
      },
      {
       "output_type": "stream",
       "stream": "stdout",
       "text": [
        "\n",
        "\n"
       ]
      },
      {
       "output_type": "stream",
       "stream": "stdout",
       "text": [
        "D:\\Data\\0_DAILY_INTERVAL_NDVI_TRMM\\InnerMongolia\\TRMM\\150_Day_Period\\150_DaySums_StdNormAnomaly \n",
        "D:\\Data\\0_DAILY_INTERVAL_NDVI_TRMM\\InnerMongolia\\NDVI\\DaySums_StdNormAnomalyRes \n",
        "5\n",
        "3653\n",
        "D:\\Data\\0_DAILY_INTERVAL_NDVI_TRMM\\InnerMongolia\\TRMM\\150_Day_Period\\150_DaySums_StdNormAnomaly\\TRMM_CQ_2003001.tif"
       ]
      },
      {
       "output_type": "stream",
       "stream": "stdout",
       "text": [
        "\n",
        "D:\\Data\\0_DAILY_INTERVAL_NDVI_TRMM\\InnerMongolia\\PLOT_CHARTS\\COHERENCE//Charts_Col21Row15CumPer5_raw.png"
       ]
      },
      {
       "output_type": "stream",
       "stream": "stdout",
       "text": [
        "\n",
        "\n"
       ]
      },
      {
       "output_type": "stream",
       "stream": "stdout",
       "text": [
        "D:\\Data\\0_DAILY_INTERVAL_NDVI_TRMM\\InnerMongolia\\TRMM\\120_Day_Period\\120_DaySums_StdNormAnomaly \n",
        "D:\\Data\\0_DAILY_INTERVAL_NDVI_TRMM\\InnerMongolia\\NDVI\\DaySums_StdNormAnomalyRes \n",
        "4\n",
        "3653"
       ]
      },
      {
       "output_type": "stream",
       "stream": "stdout",
       "text": [
        "\n",
        "D:\\Data\\0_DAILY_INTERVAL_NDVI_TRMM\\InnerMongolia\\TRMM\\120_Day_Period\\120_DaySums_StdNormAnomaly\\TRMM_CQ_2003001.tif\n",
        "3651"
       ]
      },
      {
       "output_type": "stream",
       "stream": "stdout",
       "text": [
        "\n",
        "D:\\Data\\0_DAILY_INTERVAL_NDVI_TRMM\\InnerMongolia\\NDVI\\DaySums_StdNormAnomalyRes\\TRMM_CQ_2003001.tif\n",
        "D:\\Data\\0_DAILY_INTERVAL_NDVI_TRMM\\InnerMongolia\\PLOT_CHARTS\\COHERENCE//Charts_Col21Row16CumPer4_raw.png"
       ]
      },
      {
       "output_type": "stream",
       "stream": "stdout",
       "text": [
        "\n",
        "\n"
       ]
      },
      {
       "output_type": "stream",
       "stream": "stdout",
       "text": [
        "D:\\Data\\0_DAILY_INTERVAL_NDVI_TRMM\\InnerMongolia\\TRMM\\150_Day_Period\\150_DaySums_StdNormAnomaly \n",
        "D:\\Data\\0_DAILY_INTERVAL_NDVI_TRMM\\InnerMongolia\\NDVI\\DaySums_StdNormAnomalyRes \n",
        "5\n",
        "3653"
       ]
      },
      {
       "output_type": "stream",
       "stream": "stdout",
       "text": [
        "\n",
        "D:\\Data\\0_DAILY_INTERVAL_NDVI_TRMM\\InnerMongolia\\TRMM\\150_Day_Period\\150_DaySums_StdNormAnomaly\\TRMM_CQ_2003001.tif\n",
        "D:\\Data\\0_DAILY_INTERVAL_NDVI_TRMM\\InnerMongolia\\PLOT_CHARTS\\COHERENCE//Charts_Col21Row16CumPer5_raw.png"
       ]
      },
      {
       "output_type": "stream",
       "stream": "stdout",
       "text": [
        "\n",
        "\n"
       ]
      },
      {
       "output_type": "stream",
       "stream": "stdout",
       "text": [
        "D:\\Data\\0_DAILY_INTERVAL_NDVI_TRMM\\InnerMongolia\\TRMM\\120_Day_Period\\120_DaySums_StdNormAnomaly \n",
        "D:\\Data\\0_DAILY_INTERVAL_NDVI_TRMM\\InnerMongolia\\NDVI\\DaySums_StdNormAnomalyRes \n",
        "4\n",
        "3653"
       ]
      },
      {
       "output_type": "stream",
       "stream": "stdout",
       "text": [
        "\n",
        "D:\\Data\\0_DAILY_INTERVAL_NDVI_TRMM\\InnerMongolia\\TRMM\\120_Day_Period\\120_DaySums_StdNormAnomaly\\TRMM_CQ_2003001.tif\n",
        "3651"
       ]
      },
      {
       "output_type": "stream",
       "stream": "stdout",
       "text": [
        "\n",
        "D:\\Data\\0_DAILY_INTERVAL_NDVI_TRMM\\InnerMongolia\\NDVI\\DaySums_StdNormAnomalyRes\\TRMM_CQ_2003001.tif\n",
        "D:\\Data\\0_DAILY_INTERVAL_NDVI_TRMM\\InnerMongolia\\PLOT_CHARTS\\COHERENCE//Charts_Col21Row17CumPer4_raw.png"
       ]
      },
      {
       "output_type": "stream",
       "stream": "stdout",
       "text": [
        "\n",
        "\n"
       ]
      },
      {
       "output_type": "stream",
       "stream": "stdout",
       "text": [
        "D:\\Data\\0_DAILY_INTERVAL_NDVI_TRMM\\InnerMongolia\\TRMM\\150_Day_Period\\150_DaySums_StdNormAnomaly \n",
        "D:\\Data\\0_DAILY_INTERVAL_NDVI_TRMM\\InnerMongolia\\NDVI\\DaySums_StdNormAnomalyRes \n",
        "5\n",
        "3653"
       ]
      },
      {
       "output_type": "stream",
       "stream": "stdout",
       "text": [
        "\n",
        "D:\\Data\\0_DAILY_INTERVAL_NDVI_TRMM\\InnerMongolia\\TRMM\\150_Day_Period\\150_DaySums_StdNormAnomaly\\TRMM_CQ_2003001.tif\n",
        "D:\\Data\\0_DAILY_INTERVAL_NDVI_TRMM\\InnerMongolia\\PLOT_CHARTS\\COHERENCE//Charts_Col21Row17CumPer5_raw.png"
       ]
      },
      {
       "output_type": "stream",
       "stream": "stdout",
       "text": [
        "\n",
        "\n"
       ]
      },
      {
       "output_type": "stream",
       "stream": "stdout",
       "text": [
        "D:\\Data\\0_DAILY_INTERVAL_NDVI_TRMM\\InnerMongolia\\TRMM\\120_Day_Period\\120_DaySums_StdNormAnomaly \n",
        "D:\\Data\\0_DAILY_INTERVAL_NDVI_TRMM\\InnerMongolia\\NDVI\\DaySums_StdNormAnomalyRes \n",
        "4\n",
        "3653"
       ]
      },
      {
       "output_type": "stream",
       "stream": "stdout",
       "text": [
        "\n",
        "D:\\Data\\0_DAILY_INTERVAL_NDVI_TRMM\\InnerMongolia\\TRMM\\120_Day_Period\\120_DaySums_StdNormAnomaly\\TRMM_CQ_2003001.tif\n",
        "3651"
       ]
      },
      {
       "output_type": "stream",
       "stream": "stdout",
       "text": [
        "\n",
        "D:\\Data\\0_DAILY_INTERVAL_NDVI_TRMM\\InnerMongolia\\NDVI\\DaySums_StdNormAnomalyRes\\TRMM_CQ_2003001.tif\n",
        "D:\\Data\\0_DAILY_INTERVAL_NDVI_TRMM\\InnerMongolia\\PLOT_CHARTS\\COHERENCE//Charts_Col21Row18CumPer4_raw.png"
       ]
      },
      {
       "output_type": "stream",
       "stream": "stdout",
       "text": [
        "\n",
        "\n"
       ]
      },
      {
       "output_type": "stream",
       "stream": "stdout",
       "text": [
        "D:\\Data\\0_DAILY_INTERVAL_NDVI_TRMM\\InnerMongolia\\TRMM\\150_Day_Period\\150_DaySums_StdNormAnomaly \n",
        "D:\\Data\\0_DAILY_INTERVAL_NDVI_TRMM\\InnerMongolia\\NDVI\\DaySums_StdNormAnomalyRes \n",
        "5\n",
        "3653"
       ]
      },
      {
       "output_type": "stream",
       "stream": "stdout",
       "text": [
        "\n",
        "D:\\Data\\0_DAILY_INTERVAL_NDVI_TRMM\\InnerMongolia\\TRMM\\150_Day_Period\\150_DaySums_StdNormAnomaly\\TRMM_CQ_2003001.tif\n",
        "D:\\Data\\0_DAILY_INTERVAL_NDVI_TRMM\\InnerMongolia\\PLOT_CHARTS\\COHERENCE//Charts_Col21Row18CumPer5_raw.png"
       ]
      },
      {
       "output_type": "stream",
       "stream": "stdout",
       "text": [
        "\n",
        "\n"
       ]
      },
      {
       "output_type": "stream",
       "stream": "stdout",
       "text": [
        "D:\\Data\\0_DAILY_INTERVAL_NDVI_TRMM\\InnerMongolia\\TRMM\\120_Day_Period\\120_DaySums_StdNormAnomaly \n",
        "D:\\Data\\0_DAILY_INTERVAL_NDVI_TRMM\\InnerMongolia\\NDVI\\DaySums_StdNormAnomalyRes \n",
        "4\n",
        "3653"
       ]
      },
      {
       "output_type": "stream",
       "stream": "stdout",
       "text": [
        "\n",
        "D:\\Data\\0_DAILY_INTERVAL_NDVI_TRMM\\InnerMongolia\\TRMM\\120_Day_Period\\120_DaySums_StdNormAnomaly\\TRMM_CQ_2003001.tif\n",
        "3651"
       ]
      },
      {
       "output_type": "stream",
       "stream": "stdout",
       "text": [
        "\n",
        "D:\\Data\\0_DAILY_INTERVAL_NDVI_TRMM\\InnerMongolia\\NDVI\\DaySums_StdNormAnomalyRes\\TRMM_CQ_2003001.tif\n",
        "D:\\Data\\0_DAILY_INTERVAL_NDVI_TRMM\\InnerMongolia\\PLOT_CHARTS\\COHERENCE//Charts_Col21Row19CumPer4_raw.png"
       ]
      },
      {
       "output_type": "stream",
       "stream": "stdout",
       "text": [
        "\n",
        "\n"
       ]
      },
      {
       "output_type": "stream",
       "stream": "stdout",
       "text": [
        "D:\\Data\\0_DAILY_INTERVAL_NDVI_TRMM\\InnerMongolia\\TRMM\\150_Day_Period\\150_DaySums_StdNormAnomaly \n",
        "D:\\Data\\0_DAILY_INTERVAL_NDVI_TRMM\\InnerMongolia\\NDVI\\DaySums_StdNormAnomalyRes \n",
        "5\n",
        "3653"
       ]
      },
      {
       "output_type": "stream",
       "stream": "stdout",
       "text": [
        "\n",
        "D:\\Data\\0_DAILY_INTERVAL_NDVI_TRMM\\InnerMongolia\\TRMM\\150_Day_Period\\150_DaySums_StdNormAnomaly\\TRMM_CQ_2003001.tif\n",
        "D:\\Data\\0_DAILY_INTERVAL_NDVI_TRMM\\InnerMongolia\\PLOT_CHARTS\\COHERENCE//Charts_Col21Row19CumPer5_raw.png"
       ]
      },
      {
       "output_type": "stream",
       "stream": "stdout",
       "text": [
        "\n",
        "\n"
       ]
      },
      {
       "output_type": "stream",
       "stream": "stdout",
       "text": [
        "D:\\Data\\0_DAILY_INTERVAL_NDVI_TRMM\\InnerMongolia\\TRMM\\120_Day_Period\\120_DaySums_StdNormAnomaly \n",
        "D:\\Data\\0_DAILY_INTERVAL_NDVI_TRMM\\InnerMongolia\\NDVI\\DaySums_StdNormAnomalyRes \n",
        "4\n",
        "3653"
       ]
      },
      {
       "output_type": "stream",
       "stream": "stdout",
       "text": [
        "\n",
        "D:\\Data\\0_DAILY_INTERVAL_NDVI_TRMM\\InnerMongolia\\TRMM\\120_Day_Period\\120_DaySums_StdNormAnomaly\\TRMM_CQ_2003001.tif\n",
        "3651"
       ]
      },
      {
       "output_type": "stream",
       "stream": "stdout",
       "text": [
        "\n",
        "D:\\Data\\0_DAILY_INTERVAL_NDVI_TRMM\\InnerMongolia\\NDVI\\DaySums_StdNormAnomalyRes\\TRMM_CQ_2003001.tif\n",
        "D:\\Data\\0_DAILY_INTERVAL_NDVI_TRMM\\InnerMongolia\\PLOT_CHARTS\\COHERENCE//Charts_Col21Row20CumPer4_raw.png"
       ]
      },
      {
       "output_type": "stream",
       "stream": "stdout",
       "text": [
        "\n",
        "\n"
       ]
      },
      {
       "output_type": "stream",
       "stream": "stdout",
       "text": [
        "D:\\Data\\0_DAILY_INTERVAL_NDVI_TRMM\\InnerMongolia\\TRMM\\150_Day_Period\\150_DaySums_StdNormAnomaly \n",
        "D:\\Data\\0_DAILY_INTERVAL_NDVI_TRMM\\InnerMongolia\\NDVI\\DaySums_StdNormAnomalyRes \n",
        "5\n",
        "3653"
       ]
      },
      {
       "output_type": "stream",
       "stream": "stdout",
       "text": [
        "\n",
        "D:\\Data\\0_DAILY_INTERVAL_NDVI_TRMM\\InnerMongolia\\TRMM\\150_Day_Period\\150_DaySums_StdNormAnomaly\\TRMM_CQ_2003001.tif\n",
        "D:\\Data\\0_DAILY_INTERVAL_NDVI_TRMM\\InnerMongolia\\PLOT_CHARTS\\COHERENCE//Charts_Col21Row20CumPer5_raw.png"
       ]
      },
      {
       "output_type": "stream",
       "stream": "stdout",
       "text": [
        "\n",
        "\n"
       ]
      },
      {
       "output_type": "stream",
       "stream": "stdout",
       "text": [
        "D:\\Data\\0_DAILY_INTERVAL_NDVI_TRMM\\InnerMongolia\\TRMM\\120_Day_Period\\120_DaySums_StdNormAnomaly \n",
        "D:\\Data\\0_DAILY_INTERVAL_NDVI_TRMM\\InnerMongolia\\NDVI\\DaySums_StdNormAnomalyRes \n",
        "4\n",
        "3653"
       ]
      },
      {
       "output_type": "stream",
       "stream": "stdout",
       "text": [
        "\n",
        "D:\\Data\\0_DAILY_INTERVAL_NDVI_TRMM\\InnerMongolia\\TRMM\\120_Day_Period\\120_DaySums_StdNormAnomaly\\TRMM_CQ_2003001.tif\n",
        "3651"
       ]
      },
      {
       "output_type": "stream",
       "stream": "stdout",
       "text": [
        "\n",
        "D:\\Data\\0_DAILY_INTERVAL_NDVI_TRMM\\InnerMongolia\\NDVI\\DaySums_StdNormAnomalyRes\\TRMM_CQ_2003001.tif\n",
        "D:\\Data\\0_DAILY_INTERVAL_NDVI_TRMM\\InnerMongolia\\PLOT_CHARTS\\COHERENCE//Charts_Col21Row21CumPer4_raw.png"
       ]
      },
      {
       "output_type": "stream",
       "stream": "stdout",
       "text": [
        "\n",
        "\n"
       ]
      },
      {
       "output_type": "stream",
       "stream": "stdout",
       "text": [
        "D:\\Data\\0_DAILY_INTERVAL_NDVI_TRMM\\InnerMongolia\\TRMM\\150_Day_Period\\150_DaySums_StdNormAnomaly \n",
        "D:\\Data\\0_DAILY_INTERVAL_NDVI_TRMM\\InnerMongolia\\NDVI\\DaySums_StdNormAnomalyRes \n",
        "5\n",
        "3653"
       ]
      },
      {
       "output_type": "stream",
       "stream": "stdout",
       "text": [
        "\n",
        "D:\\Data\\0_DAILY_INTERVAL_NDVI_TRMM\\InnerMongolia\\TRMM\\150_Day_Period\\150_DaySums_StdNormAnomaly\\TRMM_CQ_2003001.tif\n",
        "D:\\Data\\0_DAILY_INTERVAL_NDVI_TRMM\\InnerMongolia\\PLOT_CHARTS\\COHERENCE//Charts_Col21Row21CumPer5_raw.png"
       ]
      },
      {
       "output_type": "stream",
       "stream": "stdout",
       "text": [
        "\n",
        "\n"
       ]
      },
      {
       "output_type": "stream",
       "stream": "stdout",
       "text": [
        "D:\\Data\\0_DAILY_INTERVAL_NDVI_TRMM\\InnerMongolia\\TRMM\\120_Day_Period\\120_DaySums_StdNormAnomaly \n",
        "D:\\Data\\0_DAILY_INTERVAL_NDVI_TRMM\\InnerMongolia\\NDVI\\DaySums_StdNormAnomalyRes \n",
        "4\n",
        "3653"
       ]
      },
      {
       "output_type": "stream",
       "stream": "stdout",
       "text": [
        "\n",
        "D:\\Data\\0_DAILY_INTERVAL_NDVI_TRMM\\InnerMongolia\\TRMM\\120_Day_Period\\120_DaySums_StdNormAnomaly\\TRMM_CQ_2003001.tif\n",
        "3651"
       ]
      },
      {
       "output_type": "stream",
       "stream": "stdout",
       "text": [
        "\n",
        "D:\\Data\\0_DAILY_INTERVAL_NDVI_TRMM\\InnerMongolia\\NDVI\\DaySums_StdNormAnomalyRes\\TRMM_CQ_2003001.tif\n",
        "D:\\Data\\0_DAILY_INTERVAL_NDVI_TRMM\\InnerMongolia\\PLOT_CHARTS\\COHERENCE//Charts_Col21Row22CumPer4_raw.png"
       ]
      },
      {
       "output_type": "stream",
       "stream": "stdout",
       "text": [
        "\n",
        "\n"
       ]
      },
      {
       "output_type": "stream",
       "stream": "stdout",
       "text": [
        "D:\\Data\\0_DAILY_INTERVAL_NDVI_TRMM\\InnerMongolia\\TRMM\\150_Day_Period\\150_DaySums_StdNormAnomaly \n",
        "D:\\Data\\0_DAILY_INTERVAL_NDVI_TRMM\\InnerMongolia\\NDVI\\DaySums_StdNormAnomalyRes \n",
        "5\n",
        "3653"
       ]
      },
      {
       "output_type": "stream",
       "stream": "stdout",
       "text": [
        "\n",
        "D:\\Data\\0_DAILY_INTERVAL_NDVI_TRMM\\InnerMongolia\\TRMM\\150_Day_Period\\150_DaySums_StdNormAnomaly\\TRMM_CQ_2003001.tif\n",
        "D:\\Data\\0_DAILY_INTERVAL_NDVI_TRMM\\InnerMongolia\\PLOT_CHARTS\\COHERENCE//Charts_Col21Row22CumPer5_raw.png"
       ]
      },
      {
       "output_type": "stream",
       "stream": "stdout",
       "text": [
        "\n",
        "\n"
       ]
      },
      {
       "output_type": "stream",
       "stream": "stdout",
       "text": [
        "D:\\Data\\0_DAILY_INTERVAL_NDVI_TRMM\\InnerMongolia\\TRMM\\120_Day_Period\\120_DaySums_StdNormAnomaly \n",
        "D:\\Data\\0_DAILY_INTERVAL_NDVI_TRMM\\InnerMongolia\\NDVI\\DaySums_StdNormAnomalyRes \n",
        "4\n",
        "3653"
       ]
      },
      {
       "output_type": "stream",
       "stream": "stdout",
       "text": [
        "\n",
        "D:\\Data\\0_DAILY_INTERVAL_NDVI_TRMM\\InnerMongolia\\TRMM\\120_Day_Period\\120_DaySums_StdNormAnomaly\\TRMM_CQ_2003001.tif\n",
        "3651"
       ]
      },
      {
       "output_type": "stream",
       "stream": "stdout",
       "text": [
        "\n",
        "D:\\Data\\0_DAILY_INTERVAL_NDVI_TRMM\\InnerMongolia\\NDVI\\DaySums_StdNormAnomalyRes\\TRMM_CQ_2003001.tif\n",
        "D:\\Data\\0_DAILY_INTERVAL_NDVI_TRMM\\InnerMongolia\\PLOT_CHARTS\\COHERENCE//Charts_Col21Row23CumPer4_raw.png"
       ]
      },
      {
       "output_type": "stream",
       "stream": "stdout",
       "text": [
        "\n",
        "\n"
       ]
      },
      {
       "output_type": "stream",
       "stream": "stdout",
       "text": [
        "D:\\Data\\0_DAILY_INTERVAL_NDVI_TRMM\\InnerMongolia\\TRMM\\150_Day_Period\\150_DaySums_StdNormAnomaly \n",
        "D:\\Data\\0_DAILY_INTERVAL_NDVI_TRMM\\InnerMongolia\\NDVI\\DaySums_StdNormAnomalyRes \n",
        "5\n",
        "3653"
       ]
      },
      {
       "output_type": "stream",
       "stream": "stdout",
       "text": [
        "\n",
        "D:\\Data\\0_DAILY_INTERVAL_NDVI_TRMM\\InnerMongolia\\TRMM\\150_Day_Period\\150_DaySums_StdNormAnomaly\\TRMM_CQ_2003001.tif\n",
        "D:\\Data\\0_DAILY_INTERVAL_NDVI_TRMM\\InnerMongolia\\PLOT_CHARTS\\COHERENCE//Charts_Col21Row23CumPer5_raw.png"
       ]
      },
      {
       "output_type": "stream",
       "stream": "stdout",
       "text": [
        "\n",
        "\n"
       ]
      },
      {
       "output_type": "stream",
       "stream": "stdout",
       "text": [
        "D:\\Data\\0_DAILY_INTERVAL_NDVI_TRMM\\InnerMongolia\\TRMM\\120_Day_Period\\120_DaySums_StdNormAnomaly \n",
        "D:\\Data\\0_DAILY_INTERVAL_NDVI_TRMM\\InnerMongolia\\NDVI\\DaySums_StdNormAnomalyRes \n",
        "4\n",
        "3653\n",
        "D:\\Data\\0_DAILY_INTERVAL_NDVI_TRMM\\InnerMongolia\\TRMM\\120_Day_Period\\120_DaySums_StdNormAnomaly\\TRMM_CQ_2003001.tif\n",
        "3651"
       ]
      },
      {
       "output_type": "stream",
       "stream": "stdout",
       "text": [
        "\n",
        "D:\\Data\\0_DAILY_INTERVAL_NDVI_TRMM\\InnerMongolia\\NDVI\\DaySums_StdNormAnomalyRes\\TRMM_CQ_2003001.tif\n",
        "D:\\Data\\0_DAILY_INTERVAL_NDVI_TRMM\\InnerMongolia\\PLOT_CHARTS\\COHERENCE//Charts_Col22Row13CumPer4_raw.png"
       ]
      },
      {
       "output_type": "stream",
       "stream": "stdout",
       "text": [
        "\n",
        "\n"
       ]
      },
      {
       "output_type": "stream",
       "stream": "stdout",
       "text": [
        "D:\\Data\\0_DAILY_INTERVAL_NDVI_TRMM\\InnerMongolia\\TRMM\\150_Day_Period\\150_DaySums_StdNormAnomaly \n",
        "D:\\Data\\0_DAILY_INTERVAL_NDVI_TRMM\\InnerMongolia\\NDVI\\DaySums_StdNormAnomalyRes \n",
        "5\n",
        "3653\n",
        "D:\\Data\\0_DAILY_INTERVAL_NDVI_TRMM\\InnerMongolia\\TRMM\\150_Day_Period\\150_DaySums_StdNormAnomaly\\TRMM_CQ_2003001.tif\n",
        "D:\\Data\\0_DAILY_INTERVAL_NDVI_TRMM\\InnerMongolia\\PLOT_CHARTS\\COHERENCE//Charts_Col22Row13CumPer5_raw.png"
       ]
      },
      {
       "output_type": "stream",
       "stream": "stdout",
       "text": [
        "\n",
        "\n"
       ]
      },
      {
       "output_type": "stream",
       "stream": "stdout",
       "text": [
        "D:\\Data\\0_DAILY_INTERVAL_NDVI_TRMM\\InnerMongolia\\TRMM\\120_Day_Period\\120_DaySums_StdNormAnomaly \n",
        "D:\\Data\\0_DAILY_INTERVAL_NDVI_TRMM\\InnerMongolia\\NDVI\\DaySums_StdNormAnomalyRes \n",
        "4\n",
        "3653"
       ]
      },
      {
       "output_type": "stream",
       "stream": "stdout",
       "text": [
        "\n",
        "D:\\Data\\0_DAILY_INTERVAL_NDVI_TRMM\\InnerMongolia\\TRMM\\120_Day_Period\\120_DaySums_StdNormAnomaly\\TRMM_CQ_2003001.tif\n",
        "3651"
       ]
      },
      {
       "output_type": "stream",
       "stream": "stdout",
       "text": [
        "\n",
        "D:\\Data\\0_DAILY_INTERVAL_NDVI_TRMM\\InnerMongolia\\NDVI\\DaySums_StdNormAnomalyRes\\TRMM_CQ_2003001.tif\n",
        "D:\\Data\\0_DAILY_INTERVAL_NDVI_TRMM\\InnerMongolia\\PLOT_CHARTS\\COHERENCE//Charts_Col22Row14CumPer4_raw.png"
       ]
      },
      {
       "output_type": "stream",
       "stream": "stdout",
       "text": [
        "\n",
        "\n"
       ]
      },
      {
       "output_type": "stream",
       "stream": "stdout",
       "text": [
        "D:\\Data\\0_DAILY_INTERVAL_NDVI_TRMM\\InnerMongolia\\TRMM\\150_Day_Period\\150_DaySums_StdNormAnomaly \n",
        "D:\\Data\\0_DAILY_INTERVAL_NDVI_TRMM\\InnerMongolia\\NDVI\\DaySums_StdNormAnomalyRes \n",
        "5\n",
        "3653"
       ]
      },
      {
       "output_type": "stream",
       "stream": "stdout",
       "text": [
        "\n",
        "D:\\Data\\0_DAILY_INTERVAL_NDVI_TRMM\\InnerMongolia\\TRMM\\150_Day_Period\\150_DaySums_StdNormAnomaly\\TRMM_CQ_2003001.tif\n",
        "D:\\Data\\0_DAILY_INTERVAL_NDVI_TRMM\\InnerMongolia\\PLOT_CHARTS\\COHERENCE//Charts_Col22Row14CumPer5_raw.png"
       ]
      },
      {
       "output_type": "stream",
       "stream": "stdout",
       "text": [
        "\n",
        "\n"
       ]
      },
      {
       "output_type": "stream",
       "stream": "stdout",
       "text": [
        "D:\\Data\\0_DAILY_INTERVAL_NDVI_TRMM\\InnerMongolia\\TRMM\\120_Day_Period\\120_DaySums_StdNormAnomaly \n",
        "D:\\Data\\0_DAILY_INTERVAL_NDVI_TRMM\\InnerMongolia\\NDVI\\DaySums_StdNormAnomalyRes \n",
        "4\n",
        "3653"
       ]
      },
      {
       "output_type": "stream",
       "stream": "stdout",
       "text": [
        "\n",
        "D:\\Data\\0_DAILY_INTERVAL_NDVI_TRMM\\InnerMongolia\\TRMM\\120_Day_Period\\120_DaySums_StdNormAnomaly\\TRMM_CQ_2003001.tif\n",
        "3651"
       ]
      },
      {
       "output_type": "stream",
       "stream": "stdout",
       "text": [
        "\n",
        "D:\\Data\\0_DAILY_INTERVAL_NDVI_TRMM\\InnerMongolia\\NDVI\\DaySums_StdNormAnomalyRes\\TRMM_CQ_2003001.tif\n",
        "D:\\Data\\0_DAILY_INTERVAL_NDVI_TRMM\\InnerMongolia\\PLOT_CHARTS\\COHERENCE//Charts_Col22Row15CumPer4_raw.png"
       ]
      },
      {
       "output_type": "stream",
       "stream": "stdout",
       "text": [
        "\n",
        "\n"
       ]
      },
      {
       "output_type": "stream",
       "stream": "stdout",
       "text": [
        "D:\\Data\\0_DAILY_INTERVAL_NDVI_TRMM\\InnerMongolia\\TRMM\\150_Day_Period\\150_DaySums_StdNormAnomaly \n",
        "D:\\Data\\0_DAILY_INTERVAL_NDVI_TRMM\\InnerMongolia\\NDVI\\DaySums_StdNormAnomalyRes \n",
        "5\n",
        "3653"
       ]
      },
      {
       "output_type": "stream",
       "stream": "stdout",
       "text": [
        "\n",
        "D:\\Data\\0_DAILY_INTERVAL_NDVI_TRMM\\InnerMongolia\\TRMM\\150_Day_Period\\150_DaySums_StdNormAnomaly\\TRMM_CQ_2003001.tif\n",
        "D:\\Data\\0_DAILY_INTERVAL_NDVI_TRMM\\InnerMongolia\\PLOT_CHARTS\\COHERENCE//Charts_Col22Row15CumPer5_raw.png"
       ]
      },
      {
       "output_type": "stream",
       "stream": "stdout",
       "text": [
        "\n",
        "\n"
       ]
      },
      {
       "output_type": "stream",
       "stream": "stdout",
       "text": [
        "D:\\Data\\0_DAILY_INTERVAL_NDVI_TRMM\\InnerMongolia\\TRMM\\120_Day_Period\\120_DaySums_StdNormAnomaly \n",
        "D:\\Data\\0_DAILY_INTERVAL_NDVI_TRMM\\InnerMongolia\\NDVI\\DaySums_StdNormAnomalyRes \n",
        "4\n",
        "3653"
       ]
      },
      {
       "output_type": "stream",
       "stream": "stdout",
       "text": [
        "\n",
        "D:\\Data\\0_DAILY_INTERVAL_NDVI_TRMM\\InnerMongolia\\TRMM\\120_Day_Period\\120_DaySums_StdNormAnomaly\\TRMM_CQ_2003001.tif\n",
        "3651"
       ]
      },
      {
       "output_type": "stream",
       "stream": "stdout",
       "text": [
        "\n",
        "D:\\Data\\0_DAILY_INTERVAL_NDVI_TRMM\\InnerMongolia\\NDVI\\DaySums_StdNormAnomalyRes\\TRMM_CQ_2003001.tif\n",
        "D:\\Data\\0_DAILY_INTERVAL_NDVI_TRMM\\InnerMongolia\\PLOT_CHARTS\\COHERENCE//Charts_Col22Row16CumPer4_raw.png"
       ]
      },
      {
       "output_type": "stream",
       "stream": "stdout",
       "text": [
        "\n",
        "\n"
       ]
      },
      {
       "output_type": "stream",
       "stream": "stdout",
       "text": [
        "D:\\Data\\0_DAILY_INTERVAL_NDVI_TRMM\\InnerMongolia\\TRMM\\150_Day_Period\\150_DaySums_StdNormAnomaly \n",
        "D:\\Data\\0_DAILY_INTERVAL_NDVI_TRMM\\InnerMongolia\\NDVI\\DaySums_StdNormAnomalyRes \n",
        "5\n",
        "3653"
       ]
      },
      {
       "output_type": "stream",
       "stream": "stdout",
       "text": [
        "\n",
        "D:\\Data\\0_DAILY_INTERVAL_NDVI_TRMM\\InnerMongolia\\TRMM\\150_Day_Period\\150_DaySums_StdNormAnomaly\\TRMM_CQ_2003001.tif\n",
        "D:\\Data\\0_DAILY_INTERVAL_NDVI_TRMM\\InnerMongolia\\PLOT_CHARTS\\COHERENCE//Charts_Col22Row16CumPer5_raw.png"
       ]
      },
      {
       "output_type": "stream",
       "stream": "stdout",
       "text": [
        "\n",
        "\n"
       ]
      },
      {
       "output_type": "stream",
       "stream": "stdout",
       "text": [
        "D:\\Data\\0_DAILY_INTERVAL_NDVI_TRMM\\InnerMongolia\\TRMM\\120_Day_Period\\120_DaySums_StdNormAnomaly \n",
        "D:\\Data\\0_DAILY_INTERVAL_NDVI_TRMM\\InnerMongolia\\NDVI\\DaySums_StdNormAnomalyRes \n",
        "4\n",
        "3653"
       ]
      },
      {
       "output_type": "stream",
       "stream": "stdout",
       "text": [
        "\n",
        "D:\\Data\\0_DAILY_INTERVAL_NDVI_TRMM\\InnerMongolia\\TRMM\\120_Day_Period\\120_DaySums_StdNormAnomaly\\TRMM_CQ_2003001.tif\n",
        "3651"
       ]
      },
      {
       "output_type": "stream",
       "stream": "stdout",
       "text": [
        "\n",
        "D:\\Data\\0_DAILY_INTERVAL_NDVI_TRMM\\InnerMongolia\\NDVI\\DaySums_StdNormAnomalyRes\\TRMM_CQ_2003001.tif\n",
        "D:\\Data\\0_DAILY_INTERVAL_NDVI_TRMM\\InnerMongolia\\PLOT_CHARTS\\COHERENCE//Charts_Col22Row17CumPer4_raw.png"
       ]
      },
      {
       "output_type": "stream",
       "stream": "stdout",
       "text": [
        "\n",
        "\n"
       ]
      },
      {
       "output_type": "stream",
       "stream": "stdout",
       "text": [
        "D:\\Data\\0_DAILY_INTERVAL_NDVI_TRMM\\InnerMongolia\\TRMM\\150_Day_Period\\150_DaySums_StdNormAnomaly \n",
        "D:\\Data\\0_DAILY_INTERVAL_NDVI_TRMM\\InnerMongolia\\NDVI\\DaySums_StdNormAnomalyRes \n",
        "5\n",
        "3653"
       ]
      },
      {
       "output_type": "stream",
       "stream": "stdout",
       "text": [
        "\n",
        "D:\\Data\\0_DAILY_INTERVAL_NDVI_TRMM\\InnerMongolia\\TRMM\\150_Day_Period\\150_DaySums_StdNormAnomaly\\TRMM_CQ_2003001.tif\n",
        "D:\\Data\\0_DAILY_INTERVAL_NDVI_TRMM\\InnerMongolia\\PLOT_CHARTS\\COHERENCE//Charts_Col22Row17CumPer5_raw.png"
       ]
      },
      {
       "output_type": "stream",
       "stream": "stdout",
       "text": [
        "\n",
        "\n"
       ]
      },
      {
       "output_type": "stream",
       "stream": "stdout",
       "text": [
        "D:\\Data\\0_DAILY_INTERVAL_NDVI_TRMM\\InnerMongolia\\TRMM\\120_Day_Period\\120_DaySums_StdNormAnomaly \n",
        "D:\\Data\\0_DAILY_INTERVAL_NDVI_TRMM\\InnerMongolia\\NDVI\\DaySums_StdNormAnomalyRes \n",
        "4\n",
        "3653"
       ]
      },
      {
       "output_type": "stream",
       "stream": "stdout",
       "text": [
        "\n",
        "D:\\Data\\0_DAILY_INTERVAL_NDVI_TRMM\\InnerMongolia\\TRMM\\120_Day_Period\\120_DaySums_StdNormAnomaly\\TRMM_CQ_2003001.tif\n",
        "3651"
       ]
      },
      {
       "output_type": "stream",
       "stream": "stdout",
       "text": [
        "\n",
        "D:\\Data\\0_DAILY_INTERVAL_NDVI_TRMM\\InnerMongolia\\NDVI\\DaySums_StdNormAnomalyRes\\TRMM_CQ_2003001.tif\n",
        "D:\\Data\\0_DAILY_INTERVAL_NDVI_TRMM\\InnerMongolia\\PLOT_CHARTS\\COHERENCE//Charts_Col22Row18CumPer4_raw.png"
       ]
      },
      {
       "output_type": "stream",
       "stream": "stdout",
       "text": [
        "\n",
        "\n"
       ]
      },
      {
       "output_type": "stream",
       "stream": "stdout",
       "text": [
        "D:\\Data\\0_DAILY_INTERVAL_NDVI_TRMM\\InnerMongolia\\TRMM\\150_Day_Period\\150_DaySums_StdNormAnomaly \n",
        "D:\\Data\\0_DAILY_INTERVAL_NDVI_TRMM\\InnerMongolia\\NDVI\\DaySums_StdNormAnomalyRes \n",
        "5\n",
        "3653"
       ]
      },
      {
       "output_type": "stream",
       "stream": "stdout",
       "text": [
        "\n",
        "D:\\Data\\0_DAILY_INTERVAL_NDVI_TRMM\\InnerMongolia\\TRMM\\150_Day_Period\\150_DaySums_StdNormAnomaly\\TRMM_CQ_2003001.tif\n",
        "D:\\Data\\0_DAILY_INTERVAL_NDVI_TRMM\\InnerMongolia\\PLOT_CHARTS\\COHERENCE//Charts_Col22Row18CumPer5_raw.png"
       ]
      },
      {
       "output_type": "stream",
       "stream": "stdout",
       "text": [
        "\n",
        "\n"
       ]
      },
      {
       "output_type": "stream",
       "stream": "stdout",
       "text": [
        "D:\\Data\\0_DAILY_INTERVAL_NDVI_TRMM\\InnerMongolia\\TRMM\\120_Day_Period\\120_DaySums_StdNormAnomaly \n",
        "D:\\Data\\0_DAILY_INTERVAL_NDVI_TRMM\\InnerMongolia\\NDVI\\DaySums_StdNormAnomalyRes \n",
        "4\n",
        "3653"
       ]
      },
      {
       "output_type": "stream",
       "stream": "stdout",
       "text": [
        "\n",
        "D:\\Data\\0_DAILY_INTERVAL_NDVI_TRMM\\InnerMongolia\\TRMM\\120_Day_Period\\120_DaySums_StdNormAnomaly\\TRMM_CQ_2003001.tif\n",
        "3651"
       ]
      },
      {
       "output_type": "stream",
       "stream": "stdout",
       "text": [
        "\n",
        "D:\\Data\\0_DAILY_INTERVAL_NDVI_TRMM\\InnerMongolia\\NDVI\\DaySums_StdNormAnomalyRes\\TRMM_CQ_2003001.tif\n",
        "D:\\Data\\0_DAILY_INTERVAL_NDVI_TRMM\\InnerMongolia\\PLOT_CHARTS\\COHERENCE//Charts_Col22Row19CumPer4_raw.png"
       ]
      },
      {
       "output_type": "stream",
       "stream": "stdout",
       "text": [
        "\n",
        "\n"
       ]
      },
      {
       "output_type": "stream",
       "stream": "stdout",
       "text": [
        "D:\\Data\\0_DAILY_INTERVAL_NDVI_TRMM\\InnerMongolia\\TRMM\\150_Day_Period\\150_DaySums_StdNormAnomaly \n",
        "D:\\Data\\0_DAILY_INTERVAL_NDVI_TRMM\\InnerMongolia\\NDVI\\DaySums_StdNormAnomalyRes \n",
        "5\n",
        "3653\n",
        "D:\\Data\\0_DAILY_INTERVAL_NDVI_TRMM\\InnerMongolia\\TRMM\\150_Day_Period\\150_DaySums_StdNormAnomaly\\TRMM_CQ_2003001.tif"
       ]
      },
      {
       "output_type": "stream",
       "stream": "stdout",
       "text": [
        "\n",
        "D:\\Data\\0_DAILY_INTERVAL_NDVI_TRMM\\InnerMongolia\\PLOT_CHARTS\\COHERENCE//Charts_Col22Row19CumPer5_raw.png"
       ]
      },
      {
       "output_type": "stream",
       "stream": "stdout",
       "text": [
        "\n",
        "\n"
       ]
      },
      {
       "output_type": "stream",
       "stream": "stdout",
       "text": [
        "D:\\Data\\0_DAILY_INTERVAL_NDVI_TRMM\\InnerMongolia\\TRMM\\120_Day_Period\\120_DaySums_StdNormAnomaly \n",
        "D:\\Data\\0_DAILY_INTERVAL_NDVI_TRMM\\InnerMongolia\\NDVI\\DaySums_StdNormAnomalyRes \n",
        "4\n",
        "3653"
       ]
      },
      {
       "output_type": "stream",
       "stream": "stdout",
       "text": [
        "\n",
        "D:\\Data\\0_DAILY_INTERVAL_NDVI_TRMM\\InnerMongolia\\TRMM\\120_Day_Period\\120_DaySums_StdNormAnomaly\\TRMM_CQ_2003001.tif\n",
        "3651"
       ]
      },
      {
       "output_type": "stream",
       "stream": "stdout",
       "text": [
        "\n",
        "D:\\Data\\0_DAILY_INTERVAL_NDVI_TRMM\\InnerMongolia\\NDVI\\DaySums_StdNormAnomalyRes\\TRMM_CQ_2003001.tif\n",
        "D:\\Data\\0_DAILY_INTERVAL_NDVI_TRMM\\InnerMongolia\\PLOT_CHARTS\\COHERENCE//Charts_Col22Row20CumPer4_raw.png"
       ]
      },
      {
       "output_type": "stream",
       "stream": "stdout",
       "text": [
        "\n",
        "\n"
       ]
      },
      {
       "output_type": "stream",
       "stream": "stdout",
       "text": [
        "D:\\Data\\0_DAILY_INTERVAL_NDVI_TRMM\\InnerMongolia\\TRMM\\150_Day_Period\\150_DaySums_StdNormAnomaly \n",
        "D:\\Data\\0_DAILY_INTERVAL_NDVI_TRMM\\InnerMongolia\\NDVI\\DaySums_StdNormAnomalyRes \n",
        "5\n",
        "3653"
       ]
      },
      {
       "output_type": "stream",
       "stream": "stdout",
       "text": [
        "\n",
        "D:\\Data\\0_DAILY_INTERVAL_NDVI_TRMM\\InnerMongolia\\TRMM\\150_Day_Period\\150_DaySums_StdNormAnomaly\\TRMM_CQ_2003001.tif\n",
        "D:\\Data\\0_DAILY_INTERVAL_NDVI_TRMM\\InnerMongolia\\PLOT_CHARTS\\COHERENCE//Charts_Col22Row20CumPer5_raw.png"
       ]
      },
      {
       "output_type": "stream",
       "stream": "stdout",
       "text": [
        "\n",
        "\n"
       ]
      },
      {
       "output_type": "stream",
       "stream": "stdout",
       "text": [
        "D:\\Data\\0_DAILY_INTERVAL_NDVI_TRMM\\InnerMongolia\\TRMM\\120_Day_Period\\120_DaySums_StdNormAnomaly \n",
        "D:\\Data\\0_DAILY_INTERVAL_NDVI_TRMM\\InnerMongolia\\NDVI\\DaySums_StdNormAnomalyRes \n",
        "4\n",
        "3653"
       ]
      },
      {
       "output_type": "stream",
       "stream": "stdout",
       "text": [
        "\n",
        "D:\\Data\\0_DAILY_INTERVAL_NDVI_TRMM\\InnerMongolia\\TRMM\\120_Day_Period\\120_DaySums_StdNormAnomaly\\TRMM_CQ_2003001.tif\n",
        "3651"
       ]
      },
      {
       "output_type": "stream",
       "stream": "stdout",
       "text": [
        "\n",
        "D:\\Data\\0_DAILY_INTERVAL_NDVI_TRMM\\InnerMongolia\\NDVI\\DaySums_StdNormAnomalyRes\\TRMM_CQ_2003001.tif\n",
        "D:\\Data\\0_DAILY_INTERVAL_NDVI_TRMM\\InnerMongolia\\PLOT_CHARTS\\COHERENCE//Charts_Col22Row21CumPer4_raw.png"
       ]
      },
      {
       "output_type": "stream",
       "stream": "stdout",
       "text": [
        "\n",
        "\n"
       ]
      },
      {
       "output_type": "stream",
       "stream": "stdout",
       "text": [
        "D:\\Data\\0_DAILY_INTERVAL_NDVI_TRMM\\InnerMongolia\\TRMM\\150_Day_Period\\150_DaySums_StdNormAnomaly \n",
        "D:\\Data\\0_DAILY_INTERVAL_NDVI_TRMM\\InnerMongolia\\NDVI\\DaySums_StdNormAnomalyRes \n",
        "5\n",
        "3653"
       ]
      },
      {
       "output_type": "stream",
       "stream": "stdout",
       "text": [
        "\n",
        "D:\\Data\\0_DAILY_INTERVAL_NDVI_TRMM\\InnerMongolia\\TRMM\\150_Day_Period\\150_DaySums_StdNormAnomaly\\TRMM_CQ_2003001.tif\n",
        "D:\\Data\\0_DAILY_INTERVAL_NDVI_TRMM\\InnerMongolia\\PLOT_CHARTS\\COHERENCE//Charts_Col22Row21CumPer5_raw.png"
       ]
      },
      {
       "output_type": "stream",
       "stream": "stdout",
       "text": [
        "\n",
        "\n"
       ]
      },
      {
       "output_type": "stream",
       "stream": "stdout",
       "text": [
        "D:\\Data\\0_DAILY_INTERVAL_NDVI_TRMM\\InnerMongolia\\TRMM\\120_Day_Period\\120_DaySums_StdNormAnomaly \n",
        "D:\\Data\\0_DAILY_INTERVAL_NDVI_TRMM\\InnerMongolia\\NDVI\\DaySums_StdNormAnomalyRes \n",
        "4\n",
        "3653"
       ]
      },
      {
       "output_type": "stream",
       "stream": "stdout",
       "text": [
        "\n",
        "D:\\Data\\0_DAILY_INTERVAL_NDVI_TRMM\\InnerMongolia\\TRMM\\120_Day_Period\\120_DaySums_StdNormAnomaly\\TRMM_CQ_2003001.tif\n",
        "3651"
       ]
      },
      {
       "output_type": "stream",
       "stream": "stdout",
       "text": [
        "\n",
        "D:\\Data\\0_DAILY_INTERVAL_NDVI_TRMM\\InnerMongolia\\NDVI\\DaySums_StdNormAnomalyRes\\TRMM_CQ_2003001.tif\n",
        "D:\\Data\\0_DAILY_INTERVAL_NDVI_TRMM\\InnerMongolia\\PLOT_CHARTS\\COHERENCE//Charts_Col22Row22CumPer4_raw.png"
       ]
      },
      {
       "output_type": "stream",
       "stream": "stdout",
       "text": [
        "\n",
        "\n"
       ]
      },
      {
       "output_type": "stream",
       "stream": "stdout",
       "text": [
        "D:\\Data\\0_DAILY_INTERVAL_NDVI_TRMM\\InnerMongolia\\TRMM\\150_Day_Period\\150_DaySums_StdNormAnomaly \n",
        "D:\\Data\\0_DAILY_INTERVAL_NDVI_TRMM\\InnerMongolia\\NDVI\\DaySums_StdNormAnomalyRes \n",
        "5\n",
        "3653"
       ]
      },
      {
       "output_type": "stream",
       "stream": "stdout",
       "text": [
        "\n",
        "D:\\Data\\0_DAILY_INTERVAL_NDVI_TRMM\\InnerMongolia\\TRMM\\150_Day_Period\\150_DaySums_StdNormAnomaly\\TRMM_CQ_2003001.tif\n",
        "D:\\Data\\0_DAILY_INTERVAL_NDVI_TRMM\\InnerMongolia\\PLOT_CHARTS\\COHERENCE//Charts_Col22Row22CumPer5_raw.png"
       ]
      },
      {
       "output_type": "stream",
       "stream": "stdout",
       "text": [
        "\n",
        "\n"
       ]
      },
      {
       "output_type": "stream",
       "stream": "stdout",
       "text": [
        "D:\\Data\\0_DAILY_INTERVAL_NDVI_TRMM\\InnerMongolia\\TRMM\\120_Day_Period\\120_DaySums_StdNormAnomaly \n",
        "D:\\Data\\0_DAILY_INTERVAL_NDVI_TRMM\\InnerMongolia\\NDVI\\DaySums_StdNormAnomalyRes \n",
        "4\n",
        "3653"
       ]
      },
      {
       "output_type": "stream",
       "stream": "stdout",
       "text": [
        "\n",
        "D:\\Data\\0_DAILY_INTERVAL_NDVI_TRMM\\InnerMongolia\\TRMM\\120_Day_Period\\120_DaySums_StdNormAnomaly\\TRMM_CQ_2003001.tif\n",
        "3651"
       ]
      },
      {
       "output_type": "stream",
       "stream": "stdout",
       "text": [
        "\n",
        "D:\\Data\\0_DAILY_INTERVAL_NDVI_TRMM\\InnerMongolia\\NDVI\\DaySums_StdNormAnomalyRes\\TRMM_CQ_2003001.tif\n",
        "D:\\Data\\0_DAILY_INTERVAL_NDVI_TRMM\\InnerMongolia\\PLOT_CHARTS\\COHERENCE//Charts_Col22Row23CumPer4_raw.png"
       ]
      },
      {
       "output_type": "stream",
       "stream": "stdout",
       "text": [
        "\n",
        "\n"
       ]
      },
      {
       "output_type": "stream",
       "stream": "stdout",
       "text": [
        "D:\\Data\\0_DAILY_INTERVAL_NDVI_TRMM\\InnerMongolia\\TRMM\\150_Day_Period\\150_DaySums_StdNormAnomaly \n",
        "D:\\Data\\0_DAILY_INTERVAL_NDVI_TRMM\\InnerMongolia\\NDVI\\DaySums_StdNormAnomalyRes \n",
        "5\n",
        "3653"
       ]
      },
      {
       "output_type": "stream",
       "stream": "stdout",
       "text": [
        "\n",
        "D:\\Data\\0_DAILY_INTERVAL_NDVI_TRMM\\InnerMongolia\\TRMM\\150_Day_Period\\150_DaySums_StdNormAnomaly\\TRMM_CQ_2003001.tif\n",
        "D:\\Data\\0_DAILY_INTERVAL_NDVI_TRMM\\InnerMongolia\\PLOT_CHARTS\\COHERENCE//Charts_Col22Row23CumPer5_raw.png"
       ]
      },
      {
       "output_type": "stream",
       "stream": "stdout",
       "text": [
        "\n",
        "\n"
       ]
      },
      {
       "output_type": "stream",
       "stream": "stdout",
       "text": [
        "D:\\Data\\0_DAILY_INTERVAL_NDVI_TRMM\\InnerMongolia\\TRMM\\120_Day_Period\\120_DaySums_StdNormAnomaly \n",
        "D:\\Data\\0_DAILY_INTERVAL_NDVI_TRMM\\InnerMongolia\\NDVI\\DaySums_StdNormAnomalyRes \n",
        "4\n",
        "3653"
       ]
      },
      {
       "output_type": "stream",
       "stream": "stdout",
       "text": [
        "\n",
        "D:\\Data\\0_DAILY_INTERVAL_NDVI_TRMM\\InnerMongolia\\TRMM\\120_Day_Period\\120_DaySums_StdNormAnomaly\\TRMM_CQ_2003001.tif\n",
        "3651"
       ]
      },
      {
       "output_type": "stream",
       "stream": "stdout",
       "text": [
        "\n",
        "D:\\Data\\0_DAILY_INTERVAL_NDVI_TRMM\\InnerMongolia\\NDVI\\DaySums_StdNormAnomalyRes\\TRMM_CQ_2003001.tif\n",
        "D:\\Data\\0_DAILY_INTERVAL_NDVI_TRMM\\InnerMongolia\\PLOT_CHARTS\\COHERENCE//Charts_Col23Row13CumPer4_raw.png"
       ]
      },
      {
       "output_type": "stream",
       "stream": "stdout",
       "text": [
        "\n",
        "\n"
       ]
      },
      {
       "output_type": "stream",
       "stream": "stdout",
       "text": [
        "D:\\Data\\0_DAILY_INTERVAL_NDVI_TRMM\\InnerMongolia\\TRMM\\150_Day_Period\\150_DaySums_StdNormAnomaly \n",
        "D:\\Data\\0_DAILY_INTERVAL_NDVI_TRMM\\InnerMongolia\\NDVI\\DaySums_StdNormAnomalyRes \n",
        "5\n",
        "3653"
       ]
      },
      {
       "output_type": "stream",
       "stream": "stdout",
       "text": [
        "\n",
        "D:\\Data\\0_DAILY_INTERVAL_NDVI_TRMM\\InnerMongolia\\TRMM\\150_Day_Period\\150_DaySums_StdNormAnomaly\\TRMM_CQ_2003001.tif\n",
        "D:\\Data\\0_DAILY_INTERVAL_NDVI_TRMM\\InnerMongolia\\PLOT_CHARTS\\COHERENCE//Charts_Col23Row13CumPer5_raw.png"
       ]
      },
      {
       "output_type": "stream",
       "stream": "stdout",
       "text": [
        "\n",
        "\n"
       ]
      },
      {
       "output_type": "stream",
       "stream": "stdout",
       "text": [
        "D:\\Data\\0_DAILY_INTERVAL_NDVI_TRMM\\InnerMongolia\\TRMM\\120_Day_Period\\120_DaySums_StdNormAnomaly \n",
        "D:\\Data\\0_DAILY_INTERVAL_NDVI_TRMM\\InnerMongolia\\NDVI\\DaySums_StdNormAnomalyRes \n",
        "4\n",
        "3653"
       ]
      },
      {
       "output_type": "stream",
       "stream": "stdout",
       "text": [
        "\n",
        "D:\\Data\\0_DAILY_INTERVAL_NDVI_TRMM\\InnerMongolia\\TRMM\\120_Day_Period\\120_DaySums_StdNormAnomaly\\TRMM_CQ_2003001.tif\n",
        "3651"
       ]
      },
      {
       "output_type": "stream",
       "stream": "stdout",
       "text": [
        "\n",
        "D:\\Data\\0_DAILY_INTERVAL_NDVI_TRMM\\InnerMongolia\\NDVI\\DaySums_StdNormAnomalyRes\\TRMM_CQ_2003001.tif\n",
        "D:\\Data\\0_DAILY_INTERVAL_NDVI_TRMM\\InnerMongolia\\PLOT_CHARTS\\COHERENCE//Charts_Col23Row14CumPer4_raw.png"
       ]
      },
      {
       "output_type": "stream",
       "stream": "stdout",
       "text": [
        "\n",
        "\n"
       ]
      },
      {
       "output_type": "stream",
       "stream": "stdout",
       "text": [
        "D:\\Data\\0_DAILY_INTERVAL_NDVI_TRMM\\InnerMongolia\\TRMM\\150_Day_Period\\150_DaySums_StdNormAnomaly \n",
        "D:\\Data\\0_DAILY_INTERVAL_NDVI_TRMM\\InnerMongolia\\NDVI\\DaySums_StdNormAnomalyRes \n",
        "5\n",
        "3653"
       ]
      },
      {
       "output_type": "stream",
       "stream": "stdout",
       "text": [
        "\n",
        "D:\\Data\\0_DAILY_INTERVAL_NDVI_TRMM\\InnerMongolia\\TRMM\\150_Day_Period\\150_DaySums_StdNormAnomaly\\TRMM_CQ_2003001.tif\n",
        "D:\\Data\\0_DAILY_INTERVAL_NDVI_TRMM\\InnerMongolia\\PLOT_CHARTS\\COHERENCE//Charts_Col23Row14CumPer5_raw.png"
       ]
      },
      {
       "output_type": "stream",
       "stream": "stdout",
       "text": [
        "\n",
        "\n"
       ]
      },
      {
       "output_type": "stream",
       "stream": "stdout",
       "text": [
        "D:\\Data\\0_DAILY_INTERVAL_NDVI_TRMM\\InnerMongolia\\TRMM\\120_Day_Period\\120_DaySums_StdNormAnomaly \n",
        "D:\\Data\\0_DAILY_INTERVAL_NDVI_TRMM\\InnerMongolia\\NDVI\\DaySums_StdNormAnomalyRes \n",
        "4\n",
        "3653"
       ]
      },
      {
       "output_type": "stream",
       "stream": "stdout",
       "text": [
        "\n",
        "D:\\Data\\0_DAILY_INTERVAL_NDVI_TRMM\\InnerMongolia\\TRMM\\120_Day_Period\\120_DaySums_StdNormAnomaly\\TRMM_CQ_2003001.tif\n",
        "3651"
       ]
      },
      {
       "output_type": "stream",
       "stream": "stdout",
       "text": [
        "\n",
        "D:\\Data\\0_DAILY_INTERVAL_NDVI_TRMM\\InnerMongolia\\NDVI\\DaySums_StdNormAnomalyRes\\TRMM_CQ_2003001.tif\n",
        "D:\\Data\\0_DAILY_INTERVAL_NDVI_TRMM\\InnerMongolia\\PLOT_CHARTS\\COHERENCE//Charts_Col23Row15CumPer4_raw.png"
       ]
      },
      {
       "output_type": "stream",
       "stream": "stdout",
       "text": [
        "\n",
        "\n"
       ]
      },
      {
       "output_type": "stream",
       "stream": "stdout",
       "text": [
        "D:\\Data\\0_DAILY_INTERVAL_NDVI_TRMM\\InnerMongolia\\TRMM\\150_Day_Period\\150_DaySums_StdNormAnomaly \n",
        "D:\\Data\\0_DAILY_INTERVAL_NDVI_TRMM\\InnerMongolia\\NDVI\\DaySums_StdNormAnomalyRes \n",
        "5\n",
        "3653\n",
        "D:\\Data\\0_DAILY_INTERVAL_NDVI_TRMM\\InnerMongolia\\TRMM\\150_Day_Period\\150_DaySums_StdNormAnomaly\\TRMM_CQ_2003001.tif\n",
        "D:\\Data\\0_DAILY_INTERVAL_NDVI_TRMM\\InnerMongolia\\PLOT_CHARTS\\COHERENCE//Charts_Col23Row15CumPer5_raw.png"
       ]
      },
      {
       "output_type": "stream",
       "stream": "stdout",
       "text": [
        "\n",
        "\n"
       ]
      },
      {
       "output_type": "stream",
       "stream": "stdout",
       "text": [
        "D:\\Data\\0_DAILY_INTERVAL_NDVI_TRMM\\InnerMongolia\\TRMM\\120_Day_Period\\120_DaySums_StdNormAnomaly \n",
        "D:\\Data\\0_DAILY_INTERVAL_NDVI_TRMM\\InnerMongolia\\NDVI\\DaySums_StdNormAnomalyRes \n",
        "4\n",
        "3653"
       ]
      },
      {
       "output_type": "stream",
       "stream": "stdout",
       "text": [
        "\n",
        "D:\\Data\\0_DAILY_INTERVAL_NDVI_TRMM\\InnerMongolia\\TRMM\\120_Day_Period\\120_DaySums_StdNormAnomaly\\TRMM_CQ_2003001.tif\n",
        "3651"
       ]
      },
      {
       "output_type": "stream",
       "stream": "stdout",
       "text": [
        "\n",
        "D:\\Data\\0_DAILY_INTERVAL_NDVI_TRMM\\InnerMongolia\\NDVI\\DaySums_StdNormAnomalyRes\\TRMM_CQ_2003001.tif\n",
        "D:\\Data\\0_DAILY_INTERVAL_NDVI_TRMM\\InnerMongolia\\PLOT_CHARTS\\COHERENCE//Charts_Col23Row16CumPer4_raw.png"
       ]
      },
      {
       "output_type": "stream",
       "stream": "stdout",
       "text": [
        "\n",
        "\n"
       ]
      },
      {
       "output_type": "stream",
       "stream": "stdout",
       "text": [
        "D:\\Data\\0_DAILY_INTERVAL_NDVI_TRMM\\InnerMongolia\\TRMM\\150_Day_Period\\150_DaySums_StdNormAnomaly \n",
        "D:\\Data\\0_DAILY_INTERVAL_NDVI_TRMM\\InnerMongolia\\NDVI\\DaySums_StdNormAnomalyRes \n",
        "5\n",
        "3653"
       ]
      },
      {
       "output_type": "stream",
       "stream": "stdout",
       "text": [
        "\n",
        "D:\\Data\\0_DAILY_INTERVAL_NDVI_TRMM\\InnerMongolia\\TRMM\\150_Day_Period\\150_DaySums_StdNormAnomaly\\TRMM_CQ_2003001.tif\n",
        "D:\\Data\\0_DAILY_INTERVAL_NDVI_TRMM\\InnerMongolia\\PLOT_CHARTS\\COHERENCE//Charts_Col23Row16CumPer5_raw.png"
       ]
      },
      {
       "output_type": "stream",
       "stream": "stdout",
       "text": [
        "\n",
        "\n"
       ]
      },
      {
       "output_type": "stream",
       "stream": "stdout",
       "text": [
        "D:\\Data\\0_DAILY_INTERVAL_NDVI_TRMM\\InnerMongolia\\TRMM\\120_Day_Period\\120_DaySums_StdNormAnomaly \n",
        "D:\\Data\\0_DAILY_INTERVAL_NDVI_TRMM\\InnerMongolia\\NDVI\\DaySums_StdNormAnomalyRes \n",
        "4\n",
        "3653"
       ]
      },
      {
       "output_type": "stream",
       "stream": "stdout",
       "text": [
        "\n",
        "D:\\Data\\0_DAILY_INTERVAL_NDVI_TRMM\\InnerMongolia\\TRMM\\120_Day_Period\\120_DaySums_StdNormAnomaly\\TRMM_CQ_2003001.tif\n",
        "3651"
       ]
      },
      {
       "output_type": "stream",
       "stream": "stdout",
       "text": [
        "\n",
        "D:\\Data\\0_DAILY_INTERVAL_NDVI_TRMM\\InnerMongolia\\NDVI\\DaySums_StdNormAnomalyRes\\TRMM_CQ_2003001.tif\n",
        "D:\\Data\\0_DAILY_INTERVAL_NDVI_TRMM\\InnerMongolia\\PLOT_CHARTS\\COHERENCE//Charts_Col23Row17CumPer4_raw.png"
       ]
      },
      {
       "output_type": "stream",
       "stream": "stdout",
       "text": [
        "\n",
        "\n"
       ]
      },
      {
       "output_type": "stream",
       "stream": "stdout",
       "text": [
        "D:\\Data\\0_DAILY_INTERVAL_NDVI_TRMM\\InnerMongolia\\TRMM\\150_Day_Period\\150_DaySums_StdNormAnomaly \n",
        "D:\\Data\\0_DAILY_INTERVAL_NDVI_TRMM\\InnerMongolia\\NDVI\\DaySums_StdNormAnomalyRes \n",
        "5\n",
        "3653\n",
        "D:\\Data\\0_DAILY_INTERVAL_NDVI_TRMM\\InnerMongolia\\TRMM\\150_Day_Period\\150_DaySums_StdNormAnomaly\\TRMM_CQ_2003001.tif\n",
        "D:\\Data\\0_DAILY_INTERVAL_NDVI_TRMM\\InnerMongolia\\PLOT_CHARTS\\COHERENCE//Charts_Col23Row17CumPer5_raw.png"
       ]
      },
      {
       "output_type": "stream",
       "stream": "stdout",
       "text": [
        "\n",
        "\n"
       ]
      },
      {
       "output_type": "stream",
       "stream": "stdout",
       "text": [
        "D:\\Data\\0_DAILY_INTERVAL_NDVI_TRMM\\InnerMongolia\\TRMM\\120_Day_Period\\120_DaySums_StdNormAnomaly \n",
        "D:\\Data\\0_DAILY_INTERVAL_NDVI_TRMM\\InnerMongolia\\NDVI\\DaySums_StdNormAnomalyRes \n",
        "4\n",
        "3653"
       ]
      },
      {
       "output_type": "stream",
       "stream": "stdout",
       "text": [
        "\n",
        "D:\\Data\\0_DAILY_INTERVAL_NDVI_TRMM\\InnerMongolia\\TRMM\\120_Day_Period\\120_DaySums_StdNormAnomaly\\TRMM_CQ_2003001.tif\n",
        "3651"
       ]
      },
      {
       "output_type": "stream",
       "stream": "stdout",
       "text": [
        "\n",
        "D:\\Data\\0_DAILY_INTERVAL_NDVI_TRMM\\InnerMongolia\\NDVI\\DaySums_StdNormAnomalyRes\\TRMM_CQ_2003001.tif\n",
        "D:\\Data\\0_DAILY_INTERVAL_NDVI_TRMM\\InnerMongolia\\PLOT_CHARTS\\COHERENCE//Charts_Col23Row18CumPer4_raw.png"
       ]
      },
      {
       "output_type": "stream",
       "stream": "stdout",
       "text": [
        "\n",
        "\n"
       ]
      },
      {
       "output_type": "stream",
       "stream": "stdout",
       "text": [
        "D:\\Data\\0_DAILY_INTERVAL_NDVI_TRMM\\InnerMongolia\\TRMM\\150_Day_Period\\150_DaySums_StdNormAnomaly \n",
        "D:\\Data\\0_DAILY_INTERVAL_NDVI_TRMM\\InnerMongolia\\NDVI\\DaySums_StdNormAnomalyRes \n",
        "5\n",
        "3653"
       ]
      },
      {
       "output_type": "stream",
       "stream": "stdout",
       "text": [
        "\n",
        "D:\\Data\\0_DAILY_INTERVAL_NDVI_TRMM\\InnerMongolia\\TRMM\\150_Day_Period\\150_DaySums_StdNormAnomaly\\TRMM_CQ_2003001.tif\n",
        "D:\\Data\\0_DAILY_INTERVAL_NDVI_TRMM\\InnerMongolia\\PLOT_CHARTS\\COHERENCE//Charts_Col23Row18CumPer5_raw.png"
       ]
      },
      {
       "output_type": "stream",
       "stream": "stdout",
       "text": [
        "\n",
        "\n"
       ]
      },
      {
       "output_type": "stream",
       "stream": "stdout",
       "text": [
        "D:\\Data\\0_DAILY_INTERVAL_NDVI_TRMM\\InnerMongolia\\TRMM\\120_Day_Period\\120_DaySums_StdNormAnomaly \n",
        "D:\\Data\\0_DAILY_INTERVAL_NDVI_TRMM\\InnerMongolia\\NDVI\\DaySums_StdNormAnomalyRes \n",
        "4\n",
        "3653"
       ]
      },
      {
       "output_type": "stream",
       "stream": "stdout",
       "text": [
        "\n",
        "D:\\Data\\0_DAILY_INTERVAL_NDVI_TRMM\\InnerMongolia\\TRMM\\120_Day_Period\\120_DaySums_StdNormAnomaly\\TRMM_CQ_2003001.tif\n",
        "3651"
       ]
      },
      {
       "output_type": "stream",
       "stream": "stdout",
       "text": [
        "\n",
        "D:\\Data\\0_DAILY_INTERVAL_NDVI_TRMM\\InnerMongolia\\NDVI\\DaySums_StdNormAnomalyRes\\TRMM_CQ_2003001.tif\n",
        "D:\\Data\\0_DAILY_INTERVAL_NDVI_TRMM\\InnerMongolia\\PLOT_CHARTS\\COHERENCE//Charts_Col23Row19CumPer4_raw.png"
       ]
      },
      {
       "output_type": "stream",
       "stream": "stdout",
       "text": [
        "\n",
        "\n"
       ]
      },
      {
       "output_type": "stream",
       "stream": "stdout",
       "text": [
        "D:\\Data\\0_DAILY_INTERVAL_NDVI_TRMM\\InnerMongolia\\TRMM\\150_Day_Period\\150_DaySums_StdNormAnomaly \n",
        "D:\\Data\\0_DAILY_INTERVAL_NDVI_TRMM\\InnerMongolia\\NDVI\\DaySums_StdNormAnomalyRes \n",
        "5\n",
        "3653"
       ]
      },
      {
       "output_type": "stream",
       "stream": "stdout",
       "text": [
        "\n",
        "D:\\Data\\0_DAILY_INTERVAL_NDVI_TRMM\\InnerMongolia\\TRMM\\150_Day_Period\\150_DaySums_StdNormAnomaly\\TRMM_CQ_2003001.tif\n",
        "D:\\Data\\0_DAILY_INTERVAL_NDVI_TRMM\\InnerMongolia\\PLOT_CHARTS\\COHERENCE//Charts_Col23Row19CumPer5_raw.png"
       ]
      },
      {
       "output_type": "stream",
       "stream": "stdout",
       "text": [
        "\n",
        "\n"
       ]
      },
      {
       "output_type": "stream",
       "stream": "stdout",
       "text": [
        "D:\\Data\\0_DAILY_INTERVAL_NDVI_TRMM\\InnerMongolia\\TRMM\\120_Day_Period\\120_DaySums_StdNormAnomaly \n",
        "D:\\Data\\0_DAILY_INTERVAL_NDVI_TRMM\\InnerMongolia\\NDVI\\DaySums_StdNormAnomalyRes \n",
        "4\n",
        "3653"
       ]
      },
      {
       "output_type": "stream",
       "stream": "stdout",
       "text": [
        "\n",
        "D:\\Data\\0_DAILY_INTERVAL_NDVI_TRMM\\InnerMongolia\\TRMM\\120_Day_Period\\120_DaySums_StdNormAnomaly\\TRMM_CQ_2003001.tif\n",
        "3651"
       ]
      },
      {
       "output_type": "stream",
       "stream": "stdout",
       "text": [
        "\n",
        "D:\\Data\\0_DAILY_INTERVAL_NDVI_TRMM\\InnerMongolia\\NDVI\\DaySums_StdNormAnomalyRes\\TRMM_CQ_2003001.tif\n",
        "D:\\Data\\0_DAILY_INTERVAL_NDVI_TRMM\\InnerMongolia\\PLOT_CHARTS\\COHERENCE//Charts_Col23Row20CumPer4_raw.png"
       ]
      },
      {
       "output_type": "stream",
       "stream": "stdout",
       "text": [
        "\n",
        "\n"
       ]
      },
      {
       "output_type": "stream",
       "stream": "stdout",
       "text": [
        "D:\\Data\\0_DAILY_INTERVAL_NDVI_TRMM\\InnerMongolia\\TRMM\\150_Day_Period\\150_DaySums_StdNormAnomaly \n",
        "D:\\Data\\0_DAILY_INTERVAL_NDVI_TRMM\\InnerMongolia\\NDVI\\DaySums_StdNormAnomalyRes \n",
        "5\n",
        "3653"
       ]
      },
      {
       "output_type": "stream",
       "stream": "stdout",
       "text": [
        "\n",
        "D:\\Data\\0_DAILY_INTERVAL_NDVI_TRMM\\InnerMongolia\\TRMM\\150_Day_Period\\150_DaySums_StdNormAnomaly\\TRMM_CQ_2003001.tif\n",
        "D:\\Data\\0_DAILY_INTERVAL_NDVI_TRMM\\InnerMongolia\\PLOT_CHARTS\\COHERENCE//Charts_Col23Row20CumPer5_raw.png"
       ]
      },
      {
       "output_type": "stream",
       "stream": "stdout",
       "text": [
        "\n",
        "\n"
       ]
      },
      {
       "output_type": "stream",
       "stream": "stdout",
       "text": [
        "D:\\Data\\0_DAILY_INTERVAL_NDVI_TRMM\\InnerMongolia\\TRMM\\120_Day_Period\\120_DaySums_StdNormAnomaly \n",
        "D:\\Data\\0_DAILY_INTERVAL_NDVI_TRMM\\InnerMongolia\\NDVI\\DaySums_StdNormAnomalyRes \n",
        "4\n",
        "3653"
       ]
      },
      {
       "output_type": "stream",
       "stream": "stdout",
       "text": [
        "\n",
        "D:\\Data\\0_DAILY_INTERVAL_NDVI_TRMM\\InnerMongolia\\TRMM\\120_Day_Period\\120_DaySums_StdNormAnomaly\\TRMM_CQ_2003001.tif\n",
        "3651"
       ]
      },
      {
       "output_type": "stream",
       "stream": "stdout",
       "text": [
        "\n",
        "D:\\Data\\0_DAILY_INTERVAL_NDVI_TRMM\\InnerMongolia\\NDVI\\DaySums_StdNormAnomalyRes\\TRMM_CQ_2003001.tif\n",
        "D:\\Data\\0_DAILY_INTERVAL_NDVI_TRMM\\InnerMongolia\\PLOT_CHARTS\\COHERENCE//Charts_Col23Row21CumPer4_raw.png"
       ]
      },
      {
       "output_type": "stream",
       "stream": "stdout",
       "text": [
        "\n",
        "\n"
       ]
      },
      {
       "output_type": "stream",
       "stream": "stdout",
       "text": [
        "D:\\Data\\0_DAILY_INTERVAL_NDVI_TRMM\\InnerMongolia\\TRMM\\150_Day_Period\\150_DaySums_StdNormAnomaly \n",
        "D:\\Data\\0_DAILY_INTERVAL_NDVI_TRMM\\InnerMongolia\\NDVI\\DaySums_StdNormAnomalyRes \n",
        "5\n",
        "3653"
       ]
      },
      {
       "output_type": "stream",
       "stream": "stdout",
       "text": [
        "\n",
        "D:\\Data\\0_DAILY_INTERVAL_NDVI_TRMM\\InnerMongolia\\TRMM\\150_Day_Period\\150_DaySums_StdNormAnomaly\\TRMM_CQ_2003001.tif\n",
        "D:\\Data\\0_DAILY_INTERVAL_NDVI_TRMM\\InnerMongolia\\PLOT_CHARTS\\COHERENCE//Charts_Col23Row21CumPer5_raw.png"
       ]
      },
      {
       "output_type": "stream",
       "stream": "stdout",
       "text": [
        "\n",
        "\n"
       ]
      },
      {
       "output_type": "stream",
       "stream": "stdout",
       "text": [
        "D:\\Data\\0_DAILY_INTERVAL_NDVI_TRMM\\InnerMongolia\\TRMM\\120_Day_Period\\120_DaySums_StdNormAnomaly \n",
        "D:\\Data\\0_DAILY_INTERVAL_NDVI_TRMM\\InnerMongolia\\NDVI\\DaySums_StdNormAnomalyRes \n",
        "4\n",
        "3653"
       ]
      },
      {
       "output_type": "stream",
       "stream": "stdout",
       "text": [
        "\n",
        "D:\\Data\\0_DAILY_INTERVAL_NDVI_TRMM\\InnerMongolia\\TRMM\\120_Day_Period\\120_DaySums_StdNormAnomaly\\TRMM_CQ_2003001.tif\n",
        "3651"
       ]
      },
      {
       "output_type": "stream",
       "stream": "stdout",
       "text": [
        "\n",
        "D:\\Data\\0_DAILY_INTERVAL_NDVI_TRMM\\InnerMongolia\\NDVI\\DaySums_StdNormAnomalyRes\\TRMM_CQ_2003001.tif\n",
        "D:\\Data\\0_DAILY_INTERVAL_NDVI_TRMM\\InnerMongolia\\PLOT_CHARTS\\COHERENCE//Charts_Col23Row22CumPer4_raw.png"
       ]
      },
      {
       "output_type": "stream",
       "stream": "stdout",
       "text": [
        "\n",
        "\n"
       ]
      },
      {
       "output_type": "stream",
       "stream": "stdout",
       "text": [
        "D:\\Data\\0_DAILY_INTERVAL_NDVI_TRMM\\InnerMongolia\\TRMM\\150_Day_Period\\150_DaySums_StdNormAnomaly \n",
        "D:\\Data\\0_DAILY_INTERVAL_NDVI_TRMM\\InnerMongolia\\NDVI\\DaySums_StdNormAnomalyRes \n",
        "5\n",
        "3653\n",
        "D:\\Data\\0_DAILY_INTERVAL_NDVI_TRMM\\InnerMongolia\\TRMM\\150_Day_Period\\150_DaySums_StdNormAnomaly\\TRMM_CQ_2003001.tif\n",
        "D:\\Data\\0_DAILY_INTERVAL_NDVI_TRMM\\InnerMongolia\\PLOT_CHARTS\\COHERENCE//Charts_Col23Row22CumPer5_raw.png"
       ]
      },
      {
       "output_type": "stream",
       "stream": "stdout",
       "text": [
        "\n",
        "\n"
       ]
      },
      {
       "output_type": "stream",
       "stream": "stdout",
       "text": [
        "D:\\Data\\0_DAILY_INTERVAL_NDVI_TRMM\\InnerMongolia\\TRMM\\120_Day_Period\\120_DaySums_StdNormAnomaly \n",
        "D:\\Data\\0_DAILY_INTERVAL_NDVI_TRMM\\InnerMongolia\\NDVI\\DaySums_StdNormAnomalyRes \n",
        "4\n",
        "3653"
       ]
      },
      {
       "output_type": "stream",
       "stream": "stdout",
       "text": [
        "\n",
        "D:\\Data\\0_DAILY_INTERVAL_NDVI_TRMM\\InnerMongolia\\TRMM\\120_Day_Period\\120_DaySums_StdNormAnomaly\\TRMM_CQ_2003001.tif\n",
        "3651"
       ]
      },
      {
       "output_type": "stream",
       "stream": "stdout",
       "text": [
        "\n",
        "D:\\Data\\0_DAILY_INTERVAL_NDVI_TRMM\\InnerMongolia\\NDVI\\DaySums_StdNormAnomalyRes\\TRMM_CQ_2003001.tif\n",
        "D:\\Data\\0_DAILY_INTERVAL_NDVI_TRMM\\InnerMongolia\\PLOT_CHARTS\\COHERENCE//Charts_Col23Row23CumPer4_raw.png"
       ]
      },
      {
       "output_type": "stream",
       "stream": "stdout",
       "text": [
        "\n",
        "\n"
       ]
      },
      {
       "output_type": "stream",
       "stream": "stdout",
       "text": [
        "D:\\Data\\0_DAILY_INTERVAL_NDVI_TRMM\\InnerMongolia\\TRMM\\150_Day_Period\\150_DaySums_StdNormAnomaly \n",
        "D:\\Data\\0_DAILY_INTERVAL_NDVI_TRMM\\InnerMongolia\\NDVI\\DaySums_StdNormAnomalyRes \n",
        "5\n",
        "3653"
       ]
      },
      {
       "output_type": "stream",
       "stream": "stdout",
       "text": [
        "\n",
        "D:\\Data\\0_DAILY_INTERVAL_NDVI_TRMM\\InnerMongolia\\TRMM\\150_Day_Period\\150_DaySums_StdNormAnomaly\\TRMM_CQ_2003001.tif\n",
        "D:\\Data\\0_DAILY_INTERVAL_NDVI_TRMM\\InnerMongolia\\PLOT_CHARTS\\COHERENCE//Charts_Col23Row23CumPer5_raw.png"
       ]
      },
      {
       "output_type": "stream",
       "stream": "stdout",
       "text": [
        "\n",
        "\n"
       ]
      },
      {
       "output_type": "stream",
       "stream": "stdout",
       "text": [
        "D:\\Data\\0_DAILY_INTERVAL_NDVI_TRMM\\InnerMongolia\\TRMM\\120_Day_Period\\120_DaySums_StdNormAnomaly \n",
        "D:\\Data\\0_DAILY_INTERVAL_NDVI_TRMM\\InnerMongolia\\NDVI\\DaySums_StdNormAnomalyRes \n",
        "4\n",
        "3653"
       ]
      },
      {
       "output_type": "stream",
       "stream": "stdout",
       "text": [
        "\n",
        "D:\\Data\\0_DAILY_INTERVAL_NDVI_TRMM\\InnerMongolia\\TRMM\\120_Day_Period\\120_DaySums_StdNormAnomaly\\TRMM_CQ_2003001.tif\n",
        "3651"
       ]
      },
      {
       "output_type": "stream",
       "stream": "stdout",
       "text": [
        "\n",
        "D:\\Data\\0_DAILY_INTERVAL_NDVI_TRMM\\InnerMongolia\\NDVI\\DaySums_StdNormAnomalyRes\\TRMM_CQ_2003001.tif\n",
        "D:\\Data\\0_DAILY_INTERVAL_NDVI_TRMM\\InnerMongolia\\PLOT_CHARTS\\COHERENCE//Charts_Col24Row13CumPer4_raw.png"
       ]
      },
      {
       "output_type": "stream",
       "stream": "stdout",
       "text": [
        "\n",
        "\n"
       ]
      },
      {
       "output_type": "stream",
       "stream": "stdout",
       "text": [
        "D:\\Data\\0_DAILY_INTERVAL_NDVI_TRMM\\InnerMongolia\\TRMM\\150_Day_Period\\150_DaySums_StdNormAnomaly \n",
        "D:\\Data\\0_DAILY_INTERVAL_NDVI_TRMM\\InnerMongolia\\NDVI\\DaySums_StdNormAnomalyRes \n",
        "5\n",
        "3653"
       ]
      },
      {
       "output_type": "stream",
       "stream": "stdout",
       "text": [
        "\n",
        "D:\\Data\\0_DAILY_INTERVAL_NDVI_TRMM\\InnerMongolia\\TRMM\\150_Day_Period\\150_DaySums_StdNormAnomaly\\TRMM_CQ_2003001.tif\n",
        "D:\\Data\\0_DAILY_INTERVAL_NDVI_TRMM\\InnerMongolia\\PLOT_CHARTS\\COHERENCE//Charts_Col24Row13CumPer5_raw.png"
       ]
      },
      {
       "output_type": "stream",
       "stream": "stdout",
       "text": [
        "\n",
        "\n"
       ]
      },
      {
       "output_type": "stream",
       "stream": "stdout",
       "text": [
        "D:\\Data\\0_DAILY_INTERVAL_NDVI_TRMM\\InnerMongolia\\TRMM\\120_Day_Period\\120_DaySums_StdNormAnomaly \n",
        "D:\\Data\\0_DAILY_INTERVAL_NDVI_TRMM\\InnerMongolia\\NDVI\\DaySums_StdNormAnomalyRes \n",
        "4\n",
        "3653"
       ]
      },
      {
       "output_type": "stream",
       "stream": "stdout",
       "text": [
        "\n",
        "D:\\Data\\0_DAILY_INTERVAL_NDVI_TRMM\\InnerMongolia\\TRMM\\120_Day_Period\\120_DaySums_StdNormAnomaly\\TRMM_CQ_2003001.tif\n",
        "3651"
       ]
      },
      {
       "output_type": "stream",
       "stream": "stdout",
       "text": [
        "\n",
        "D:\\Data\\0_DAILY_INTERVAL_NDVI_TRMM\\InnerMongolia\\NDVI\\DaySums_StdNormAnomalyRes\\TRMM_CQ_2003001.tif\n",
        "D:\\Data\\0_DAILY_INTERVAL_NDVI_TRMM\\InnerMongolia\\PLOT_CHARTS\\COHERENCE//Charts_Col24Row14CumPer4_raw.png"
       ]
      },
      {
       "output_type": "stream",
       "stream": "stdout",
       "text": [
        "\n",
        "\n"
       ]
      },
      {
       "output_type": "stream",
       "stream": "stdout",
       "text": [
        "D:\\Data\\0_DAILY_INTERVAL_NDVI_TRMM\\InnerMongolia\\TRMM\\150_Day_Period\\150_DaySums_StdNormAnomaly \n",
        "D:\\Data\\0_DAILY_INTERVAL_NDVI_TRMM\\InnerMongolia\\NDVI\\DaySums_StdNormAnomalyRes \n",
        "5\n",
        "3653"
       ]
      },
      {
       "output_type": "stream",
       "stream": "stdout",
       "text": [
        "\n",
        "D:\\Data\\0_DAILY_INTERVAL_NDVI_TRMM\\InnerMongolia\\TRMM\\150_Day_Period\\150_DaySums_StdNormAnomaly\\TRMM_CQ_2003001.tif\n",
        "D:\\Data\\0_DAILY_INTERVAL_NDVI_TRMM\\InnerMongolia\\PLOT_CHARTS\\COHERENCE//Charts_Col24Row14CumPer5_raw.png"
       ]
      },
      {
       "output_type": "stream",
       "stream": "stdout",
       "text": [
        "\n",
        "\n"
       ]
      },
      {
       "output_type": "stream",
       "stream": "stdout",
       "text": [
        "D:\\Data\\0_DAILY_INTERVAL_NDVI_TRMM\\InnerMongolia\\TRMM\\120_Day_Period\\120_DaySums_StdNormAnomaly \n",
        "D:\\Data\\0_DAILY_INTERVAL_NDVI_TRMM\\InnerMongolia\\NDVI\\DaySums_StdNormAnomalyRes \n",
        "4\n",
        "3653"
       ]
      },
      {
       "output_type": "stream",
       "stream": "stdout",
       "text": [
        "\n",
        "D:\\Data\\0_DAILY_INTERVAL_NDVI_TRMM\\InnerMongolia\\TRMM\\120_Day_Period\\120_DaySums_StdNormAnomaly\\TRMM_CQ_2003001.tif\n",
        "3651"
       ]
      },
      {
       "output_type": "stream",
       "stream": "stdout",
       "text": [
        "\n",
        "D:\\Data\\0_DAILY_INTERVAL_NDVI_TRMM\\InnerMongolia\\NDVI\\DaySums_StdNormAnomalyRes\\TRMM_CQ_2003001.tif\n",
        "D:\\Data\\0_DAILY_INTERVAL_NDVI_TRMM\\InnerMongolia\\PLOT_CHARTS\\COHERENCE//Charts_Col24Row15CumPer4_raw.png"
       ]
      },
      {
       "output_type": "stream",
       "stream": "stdout",
       "text": [
        "\n",
        "\n"
       ]
      },
      {
       "output_type": "stream",
       "stream": "stdout",
       "text": [
        "D:\\Data\\0_DAILY_INTERVAL_NDVI_TRMM\\InnerMongolia\\TRMM\\150_Day_Period\\150_DaySums_StdNormAnomaly \n",
        "D:\\Data\\0_DAILY_INTERVAL_NDVI_TRMM\\InnerMongolia\\NDVI\\DaySums_StdNormAnomalyRes \n",
        "5\n",
        "3653"
       ]
      },
      {
       "output_type": "stream",
       "stream": "stdout",
       "text": [
        "\n",
        "D:\\Data\\0_DAILY_INTERVAL_NDVI_TRMM\\InnerMongolia\\TRMM\\150_Day_Period\\150_DaySums_StdNormAnomaly\\TRMM_CQ_2003001.tif\n",
        "D:\\Data\\0_DAILY_INTERVAL_NDVI_TRMM\\InnerMongolia\\PLOT_CHARTS\\COHERENCE//Charts_Col24Row15CumPer5_raw.png"
       ]
      },
      {
       "output_type": "stream",
       "stream": "stdout",
       "text": [
        "\n",
        "\n"
       ]
      },
      {
       "output_type": "stream",
       "stream": "stdout",
       "text": [
        "D:\\Data\\0_DAILY_INTERVAL_NDVI_TRMM\\InnerMongolia\\TRMM\\120_Day_Period\\120_DaySums_StdNormAnomaly \n",
        "D:\\Data\\0_DAILY_INTERVAL_NDVI_TRMM\\InnerMongolia\\NDVI\\DaySums_StdNormAnomalyRes \n",
        "4\n",
        "3653"
       ]
      },
      {
       "output_type": "stream",
       "stream": "stdout",
       "text": [
        "\n",
        "D:\\Data\\0_DAILY_INTERVAL_NDVI_TRMM\\InnerMongolia\\TRMM\\120_Day_Period\\120_DaySums_StdNormAnomaly\\TRMM_CQ_2003001.tif\n",
        "3651"
       ]
      },
      {
       "output_type": "stream",
       "stream": "stdout",
       "text": [
        "\n",
        "D:\\Data\\0_DAILY_INTERVAL_NDVI_TRMM\\InnerMongolia\\NDVI\\DaySums_StdNormAnomalyRes\\TRMM_CQ_2003001.tif\n",
        "D:\\Data\\0_DAILY_INTERVAL_NDVI_TRMM\\InnerMongolia\\PLOT_CHARTS\\COHERENCE//Charts_Col24Row16CumPer4_raw.png"
       ]
      },
      {
       "output_type": "stream",
       "stream": "stdout",
       "text": [
        "\n",
        "\n"
       ]
      },
      {
       "output_type": "stream",
       "stream": "stdout",
       "text": [
        "D:\\Data\\0_DAILY_INTERVAL_NDVI_TRMM\\InnerMongolia\\TRMM\\150_Day_Period\\150_DaySums_StdNormAnomaly \n",
        "D:\\Data\\0_DAILY_INTERVAL_NDVI_TRMM\\InnerMongolia\\NDVI\\DaySums_StdNormAnomalyRes \n",
        "5\n",
        "3653"
       ]
      },
      {
       "output_type": "stream",
       "stream": "stdout",
       "text": [
        "\n",
        "D:\\Data\\0_DAILY_INTERVAL_NDVI_TRMM\\InnerMongolia\\TRMM\\150_Day_Period\\150_DaySums_StdNormAnomaly\\TRMM_CQ_2003001.tif\n",
        "D:\\Data\\0_DAILY_INTERVAL_NDVI_TRMM\\InnerMongolia\\PLOT_CHARTS\\COHERENCE//Charts_Col24Row16CumPer5_raw.png"
       ]
      },
      {
       "output_type": "stream",
       "stream": "stdout",
       "text": [
        "\n",
        "\n"
       ]
      },
      {
       "output_type": "stream",
       "stream": "stdout",
       "text": [
        "D:\\Data\\0_DAILY_INTERVAL_NDVI_TRMM\\InnerMongolia\\TRMM\\120_Day_Period\\120_DaySums_StdNormAnomaly \n",
        "D:\\Data\\0_DAILY_INTERVAL_NDVI_TRMM\\InnerMongolia\\NDVI\\DaySums_StdNormAnomalyRes \n",
        "4\n",
        "3653"
       ]
      },
      {
       "output_type": "stream",
       "stream": "stdout",
       "text": [
        "\n",
        "D:\\Data\\0_DAILY_INTERVAL_NDVI_TRMM\\InnerMongolia\\TRMM\\120_Day_Period\\120_DaySums_StdNormAnomaly\\TRMM_CQ_2003001.tif\n",
        "3651"
       ]
      },
      {
       "output_type": "stream",
       "stream": "stdout",
       "text": [
        "\n",
        "D:\\Data\\0_DAILY_INTERVAL_NDVI_TRMM\\InnerMongolia\\NDVI\\DaySums_StdNormAnomalyRes\\TRMM_CQ_2003001.tif\n",
        "D:\\Data\\0_DAILY_INTERVAL_NDVI_TRMM\\InnerMongolia\\PLOT_CHARTS\\COHERENCE//Charts_Col24Row17CumPer4_raw.png"
       ]
      },
      {
       "output_type": "stream",
       "stream": "stdout",
       "text": [
        "\n",
        "\n"
       ]
      },
      {
       "output_type": "stream",
       "stream": "stdout",
       "text": [
        "D:\\Data\\0_DAILY_INTERVAL_NDVI_TRMM\\InnerMongolia\\TRMM\\150_Day_Period\\150_DaySums_StdNormAnomaly \n",
        "D:\\Data\\0_DAILY_INTERVAL_NDVI_TRMM\\InnerMongolia\\NDVI\\DaySums_StdNormAnomalyRes \n",
        "5\n",
        "3653"
       ]
      },
      {
       "output_type": "stream",
       "stream": "stdout",
       "text": [
        "\n",
        "D:\\Data\\0_DAILY_INTERVAL_NDVI_TRMM\\InnerMongolia\\TRMM\\150_Day_Period\\150_DaySums_StdNormAnomaly\\TRMM_CQ_2003001.tif\n",
        "D:\\Data\\0_DAILY_INTERVAL_NDVI_TRMM\\InnerMongolia\\PLOT_CHARTS\\COHERENCE//Charts_Col24Row17CumPer5_raw.png"
       ]
      },
      {
       "output_type": "stream",
       "stream": "stdout",
       "text": [
        "\n",
        "\n"
       ]
      },
      {
       "output_type": "stream",
       "stream": "stdout",
       "text": [
        "D:\\Data\\0_DAILY_INTERVAL_NDVI_TRMM\\InnerMongolia\\TRMM\\120_Day_Period\\120_DaySums_StdNormAnomaly \n",
        "D:\\Data\\0_DAILY_INTERVAL_NDVI_TRMM\\InnerMongolia\\NDVI\\DaySums_StdNormAnomalyRes \n",
        "4\n",
        "3653"
       ]
      },
      {
       "output_type": "stream",
       "stream": "stdout",
       "text": [
        "\n",
        "D:\\Data\\0_DAILY_INTERVAL_NDVI_TRMM\\InnerMongolia\\TRMM\\120_Day_Period\\120_DaySums_StdNormAnomaly\\TRMM_CQ_2003001.tif\n",
        "3651"
       ]
      },
      {
       "output_type": "stream",
       "stream": "stdout",
       "text": [
        "\n",
        "D:\\Data\\0_DAILY_INTERVAL_NDVI_TRMM\\InnerMongolia\\NDVI\\DaySums_StdNormAnomalyRes\\TRMM_CQ_2003001.tif\n",
        "D:\\Data\\0_DAILY_INTERVAL_NDVI_TRMM\\InnerMongolia\\PLOT_CHARTS\\COHERENCE//Charts_Col24Row18CumPer4_raw.png"
       ]
      },
      {
       "output_type": "stream",
       "stream": "stdout",
       "text": [
        "\n",
        "\n"
       ]
      },
      {
       "output_type": "stream",
       "stream": "stdout",
       "text": [
        "D:\\Data\\0_DAILY_INTERVAL_NDVI_TRMM\\InnerMongolia\\TRMM\\150_Day_Period\\150_DaySums_StdNormAnomaly \n",
        "D:\\Data\\0_DAILY_INTERVAL_NDVI_TRMM\\InnerMongolia\\NDVI\\DaySums_StdNormAnomalyRes \n",
        "5\n",
        "3653"
       ]
      },
      {
       "output_type": "stream",
       "stream": "stdout",
       "text": [
        "\n",
        "D:\\Data\\0_DAILY_INTERVAL_NDVI_TRMM\\InnerMongolia\\TRMM\\150_Day_Period\\150_DaySums_StdNormAnomaly\\TRMM_CQ_2003001.tif\n",
        "D:\\Data\\0_DAILY_INTERVAL_NDVI_TRMM\\InnerMongolia\\PLOT_CHARTS\\COHERENCE//Charts_Col24Row18CumPer5_raw.png"
       ]
      },
      {
       "output_type": "stream",
       "stream": "stdout",
       "text": [
        "\n",
        "\n"
       ]
      },
      {
       "output_type": "stream",
       "stream": "stdout",
       "text": [
        "D:\\Data\\0_DAILY_INTERVAL_NDVI_TRMM\\InnerMongolia\\TRMM\\120_Day_Period\\120_DaySums_StdNormAnomaly \n",
        "D:\\Data\\0_DAILY_INTERVAL_NDVI_TRMM\\InnerMongolia\\NDVI\\DaySums_StdNormAnomalyRes \n",
        "4\n",
        "3653"
       ]
      },
      {
       "output_type": "stream",
       "stream": "stdout",
       "text": [
        "\n",
        "D:\\Data\\0_DAILY_INTERVAL_NDVI_TRMM\\InnerMongolia\\TRMM\\120_Day_Period\\120_DaySums_StdNormAnomaly\\TRMM_CQ_2003001.tif\n",
        "3651"
       ]
      },
      {
       "output_type": "stream",
       "stream": "stdout",
       "text": [
        "\n",
        "D:\\Data\\0_DAILY_INTERVAL_NDVI_TRMM\\InnerMongolia\\NDVI\\DaySums_StdNormAnomalyRes\\TRMM_CQ_2003001.tif\n",
        "D:\\Data\\0_DAILY_INTERVAL_NDVI_TRMM\\InnerMongolia\\PLOT_CHARTS\\COHERENCE//Charts_Col24Row19CumPer4_raw.png"
       ]
      },
      {
       "output_type": "stream",
       "stream": "stdout",
       "text": [
        "\n",
        "\n"
       ]
      },
      {
       "output_type": "stream",
       "stream": "stdout",
       "text": [
        "D:\\Data\\0_DAILY_INTERVAL_NDVI_TRMM\\InnerMongolia\\TRMM\\150_Day_Period\\150_DaySums_StdNormAnomaly \n",
        "D:\\Data\\0_DAILY_INTERVAL_NDVI_TRMM\\InnerMongolia\\NDVI\\DaySums_StdNormAnomalyRes \n",
        "5\n",
        "3653"
       ]
      },
      {
       "output_type": "stream",
       "stream": "stdout",
       "text": [
        "\n",
        "D:\\Data\\0_DAILY_INTERVAL_NDVI_TRMM\\InnerMongolia\\TRMM\\150_Day_Period\\150_DaySums_StdNormAnomaly\\TRMM_CQ_2003001.tif\n",
        "D:\\Data\\0_DAILY_INTERVAL_NDVI_TRMM\\InnerMongolia\\PLOT_CHARTS\\COHERENCE//Charts_Col24Row19CumPer5_raw.png"
       ]
      },
      {
       "output_type": "stream",
       "stream": "stdout",
       "text": [
        "\n",
        "\n"
       ]
      },
      {
       "output_type": "stream",
       "stream": "stdout",
       "text": [
        "D:\\Data\\0_DAILY_INTERVAL_NDVI_TRMM\\InnerMongolia\\TRMM\\120_Day_Period\\120_DaySums_StdNormAnomaly \n",
        "D:\\Data\\0_DAILY_INTERVAL_NDVI_TRMM\\InnerMongolia\\NDVI\\DaySums_StdNormAnomalyRes \n",
        "4\n",
        "3653"
       ]
      },
      {
       "output_type": "stream",
       "stream": "stdout",
       "text": [
        "\n",
        "D:\\Data\\0_DAILY_INTERVAL_NDVI_TRMM\\InnerMongolia\\TRMM\\120_Day_Period\\120_DaySums_StdNormAnomaly\\TRMM_CQ_2003001.tif\n",
        "3651"
       ]
      },
      {
       "output_type": "stream",
       "stream": "stdout",
       "text": [
        "\n",
        "D:\\Data\\0_DAILY_INTERVAL_NDVI_TRMM\\InnerMongolia\\NDVI\\DaySums_StdNormAnomalyRes\\TRMM_CQ_2003001.tif\n",
        "D:\\Data\\0_DAILY_INTERVAL_NDVI_TRMM\\InnerMongolia\\PLOT_CHARTS\\COHERENCE//Charts_Col24Row20CumPer4_raw.png"
       ]
      },
      {
       "output_type": "stream",
       "stream": "stdout",
       "text": [
        "\n",
        "\n"
       ]
      },
      {
       "output_type": "stream",
       "stream": "stdout",
       "text": [
        "D:\\Data\\0_DAILY_INTERVAL_NDVI_TRMM\\InnerMongolia\\TRMM\\150_Day_Period\\150_DaySums_StdNormAnomaly \n",
        "D:\\Data\\0_DAILY_INTERVAL_NDVI_TRMM\\InnerMongolia\\NDVI\\DaySums_StdNormAnomalyRes \n",
        "5\n",
        "3653\n",
        "D:\\Data\\0_DAILY_INTERVAL_NDVI_TRMM\\InnerMongolia\\TRMM\\150_Day_Period\\150_DaySums_StdNormAnomaly\\TRMM_CQ_2003001.tif\n",
        "D:\\Data\\0_DAILY_INTERVAL_NDVI_TRMM\\InnerMongolia\\PLOT_CHARTS\\COHERENCE//Charts_Col24Row20CumPer5_raw.png"
       ]
      },
      {
       "output_type": "stream",
       "stream": "stdout",
       "text": [
        "\n",
        "\n"
       ]
      },
      {
       "output_type": "stream",
       "stream": "stdout",
       "text": [
        "D:\\Data\\0_DAILY_INTERVAL_NDVI_TRMM\\InnerMongolia\\TRMM\\120_Day_Period\\120_DaySums_StdNormAnomaly \n",
        "D:\\Data\\0_DAILY_INTERVAL_NDVI_TRMM\\InnerMongolia\\NDVI\\DaySums_StdNormAnomalyRes \n",
        "4\n",
        "3653"
       ]
      },
      {
       "output_type": "stream",
       "stream": "stdout",
       "text": [
        "\n",
        "D:\\Data\\0_DAILY_INTERVAL_NDVI_TRMM\\InnerMongolia\\TRMM\\120_Day_Period\\120_DaySums_StdNormAnomaly\\TRMM_CQ_2003001.tif\n",
        "3651"
       ]
      },
      {
       "output_type": "stream",
       "stream": "stdout",
       "text": [
        "\n",
        "D:\\Data\\0_DAILY_INTERVAL_NDVI_TRMM\\InnerMongolia\\NDVI\\DaySums_StdNormAnomalyRes\\TRMM_CQ_2003001.tif\n",
        "D:\\Data\\0_DAILY_INTERVAL_NDVI_TRMM\\InnerMongolia\\PLOT_CHARTS\\COHERENCE//Charts_Col24Row21CumPer4_raw.png"
       ]
      },
      {
       "output_type": "stream",
       "stream": "stdout",
       "text": [
        "\n",
        "\n"
       ]
      },
      {
       "output_type": "stream",
       "stream": "stdout",
       "text": [
        "D:\\Data\\0_DAILY_INTERVAL_NDVI_TRMM\\InnerMongolia\\TRMM\\150_Day_Period\\150_DaySums_StdNormAnomaly \n",
        "D:\\Data\\0_DAILY_INTERVAL_NDVI_TRMM\\InnerMongolia\\NDVI\\DaySums_StdNormAnomalyRes \n",
        "5\n",
        "3653"
       ]
      },
      {
       "output_type": "stream",
       "stream": "stdout",
       "text": [
        "\n",
        "D:\\Data\\0_DAILY_INTERVAL_NDVI_TRMM\\InnerMongolia\\TRMM\\150_Day_Period\\150_DaySums_StdNormAnomaly\\TRMM_CQ_2003001.tif\n",
        "D:\\Data\\0_DAILY_INTERVAL_NDVI_TRMM\\InnerMongolia\\PLOT_CHARTS\\COHERENCE//Charts_Col24Row21CumPer5_raw.png"
       ]
      },
      {
       "output_type": "stream",
       "stream": "stdout",
       "text": [
        "\n",
        "\n"
       ]
      },
      {
       "output_type": "stream",
       "stream": "stdout",
       "text": [
        "D:\\Data\\0_DAILY_INTERVAL_NDVI_TRMM\\InnerMongolia\\TRMM\\120_Day_Period\\120_DaySums_StdNormAnomaly \n",
        "D:\\Data\\0_DAILY_INTERVAL_NDVI_TRMM\\InnerMongolia\\NDVI\\DaySums_StdNormAnomalyRes \n",
        "4\n",
        "3653"
       ]
      },
      {
       "output_type": "stream",
       "stream": "stdout",
       "text": [
        "\n",
        "D:\\Data\\0_DAILY_INTERVAL_NDVI_TRMM\\InnerMongolia\\TRMM\\120_Day_Period\\120_DaySums_StdNormAnomaly\\TRMM_CQ_2003001.tif\n",
        "3651"
       ]
      },
      {
       "output_type": "stream",
       "stream": "stdout",
       "text": [
        "\n",
        "D:\\Data\\0_DAILY_INTERVAL_NDVI_TRMM\\InnerMongolia\\NDVI\\DaySums_StdNormAnomalyRes\\TRMM_CQ_2003001.tif\n",
        "D:\\Data\\0_DAILY_INTERVAL_NDVI_TRMM\\InnerMongolia\\PLOT_CHARTS\\COHERENCE//Charts_Col24Row22CumPer4_raw.png"
       ]
      },
      {
       "output_type": "stream",
       "stream": "stdout",
       "text": [
        "\n",
        "\n"
       ]
      },
      {
       "output_type": "stream",
       "stream": "stdout",
       "text": [
        "D:\\Data\\0_DAILY_INTERVAL_NDVI_TRMM\\InnerMongolia\\TRMM\\150_Day_Period\\150_DaySums_StdNormAnomaly \n",
        "D:\\Data\\0_DAILY_INTERVAL_NDVI_TRMM\\InnerMongolia\\NDVI\\DaySums_StdNormAnomalyRes \n",
        "5\n",
        "3653"
       ]
      },
      {
       "output_type": "stream",
       "stream": "stdout",
       "text": [
        "\n",
        "D:\\Data\\0_DAILY_INTERVAL_NDVI_TRMM\\InnerMongolia\\TRMM\\150_Day_Period\\150_DaySums_StdNormAnomaly\\TRMM_CQ_2003001.tif\n",
        "D:\\Data\\0_DAILY_INTERVAL_NDVI_TRMM\\InnerMongolia\\PLOT_CHARTS\\COHERENCE//Charts_Col24Row22CumPer5_raw.png"
       ]
      },
      {
       "output_type": "stream",
       "stream": "stdout",
       "text": [
        "\n",
        "\n"
       ]
      },
      {
       "output_type": "stream",
       "stream": "stdout",
       "text": [
        "D:\\Data\\0_DAILY_INTERVAL_NDVI_TRMM\\InnerMongolia\\TRMM\\120_Day_Period\\120_DaySums_StdNormAnomaly \n",
        "D:\\Data\\0_DAILY_INTERVAL_NDVI_TRMM\\InnerMongolia\\NDVI\\DaySums_StdNormAnomalyRes \n",
        "4\n",
        "3653"
       ]
      },
      {
       "output_type": "stream",
       "stream": "stdout",
       "text": [
        "\n",
        "D:\\Data\\0_DAILY_INTERVAL_NDVI_TRMM\\InnerMongolia\\TRMM\\120_Day_Period\\120_DaySums_StdNormAnomaly\\TRMM_CQ_2003001.tif\n",
        "3651"
       ]
      },
      {
       "output_type": "stream",
       "stream": "stdout",
       "text": [
        "\n",
        "D:\\Data\\0_DAILY_INTERVAL_NDVI_TRMM\\InnerMongolia\\NDVI\\DaySums_StdNormAnomalyRes\\TRMM_CQ_2003001.tif\n",
        "D:\\Data\\0_DAILY_INTERVAL_NDVI_TRMM\\InnerMongolia\\PLOT_CHARTS\\COHERENCE//Charts_Col24Row23CumPer4_raw.png"
       ]
      },
      {
       "output_type": "stream",
       "stream": "stdout",
       "text": [
        "\n",
        "\n"
       ]
      },
      {
       "output_type": "stream",
       "stream": "stdout",
       "text": [
        "D:\\Data\\0_DAILY_INTERVAL_NDVI_TRMM\\InnerMongolia\\TRMM\\150_Day_Period\\150_DaySums_StdNormAnomaly \n",
        "D:\\Data\\0_DAILY_INTERVAL_NDVI_TRMM\\InnerMongolia\\NDVI\\DaySums_StdNormAnomalyRes \n",
        "5\n",
        "3653"
       ]
      },
      {
       "output_type": "stream",
       "stream": "stdout",
       "text": [
        "\n",
        "D:\\Data\\0_DAILY_INTERVAL_NDVI_TRMM\\InnerMongolia\\TRMM\\150_Day_Period\\150_DaySums_StdNormAnomaly\\TRMM_CQ_2003001.tif\n",
        "D:\\Data\\0_DAILY_INTERVAL_NDVI_TRMM\\InnerMongolia\\PLOT_CHARTS\\COHERENCE//Charts_Col24Row23CumPer5_raw.png"
       ]
      },
      {
       "output_type": "stream",
       "stream": "stdout",
       "text": [
        "\n",
        "\n"
       ]
      },
      {
       "output_type": "stream",
       "stream": "stdout",
       "text": [
        "D:\\Data\\0_DAILY_INTERVAL_NDVI_TRMM\\InnerMongolia\\TRMM\\120_Day_Period\\120_DaySums_StdNormAnomaly \n",
        "D:\\Data\\0_DAILY_INTERVAL_NDVI_TRMM\\InnerMongolia\\NDVI\\DaySums_StdNormAnomalyRes \n",
        "4\n",
        "3653"
       ]
      },
      {
       "output_type": "stream",
       "stream": "stdout",
       "text": [
        "\n",
        "D:\\Data\\0_DAILY_INTERVAL_NDVI_TRMM\\InnerMongolia\\TRMM\\120_Day_Period\\120_DaySums_StdNormAnomaly\\TRMM_CQ_2003001.tif\n",
        "3651"
       ]
      },
      {
       "output_type": "stream",
       "stream": "stdout",
       "text": [
        "\n",
        "D:\\Data\\0_DAILY_INTERVAL_NDVI_TRMM\\InnerMongolia\\NDVI\\DaySums_StdNormAnomalyRes\\TRMM_CQ_2003001.tif\n",
        "D:\\Data\\0_DAILY_INTERVAL_NDVI_TRMM\\InnerMongolia\\PLOT_CHARTS\\COHERENCE//Charts_Col25Row13CumPer4_raw.png"
       ]
      },
      {
       "output_type": "stream",
       "stream": "stdout",
       "text": [
        "\n",
        "\n"
       ]
      },
      {
       "output_type": "stream",
       "stream": "stdout",
       "text": [
        "D:\\Data\\0_DAILY_INTERVAL_NDVI_TRMM\\InnerMongolia\\TRMM\\150_Day_Period\\150_DaySums_StdNormAnomaly \n",
        "D:\\Data\\0_DAILY_INTERVAL_NDVI_TRMM\\InnerMongolia\\NDVI\\DaySums_StdNormAnomalyRes \n",
        "5\n",
        "3653"
       ]
      },
      {
       "output_type": "stream",
       "stream": "stdout",
       "text": [
        "\n",
        "D:\\Data\\0_DAILY_INTERVAL_NDVI_TRMM\\InnerMongolia\\TRMM\\150_Day_Period\\150_DaySums_StdNormAnomaly\\TRMM_CQ_2003001.tif\n",
        "D:\\Data\\0_DAILY_INTERVAL_NDVI_TRMM\\InnerMongolia\\PLOT_CHARTS\\COHERENCE//Charts_Col25Row13CumPer5_raw.png"
       ]
      },
      {
       "output_type": "stream",
       "stream": "stdout",
       "text": [
        "\n",
        "\n"
       ]
      },
      {
       "output_type": "stream",
       "stream": "stdout",
       "text": [
        "D:\\Data\\0_DAILY_INTERVAL_NDVI_TRMM\\InnerMongolia\\TRMM\\120_Day_Period\\120_DaySums_StdNormAnomaly \n",
        "D:\\Data\\0_DAILY_INTERVAL_NDVI_TRMM\\InnerMongolia\\NDVI\\DaySums_StdNormAnomalyRes \n",
        "4\n",
        "3653"
       ]
      },
      {
       "output_type": "stream",
       "stream": "stdout",
       "text": [
        "\n",
        "D:\\Data\\0_DAILY_INTERVAL_NDVI_TRMM\\InnerMongolia\\TRMM\\120_Day_Period\\120_DaySums_StdNormAnomaly\\TRMM_CQ_2003001.tif\n",
        "3651"
       ]
      },
      {
       "output_type": "stream",
       "stream": "stdout",
       "text": [
        "\n",
        "D:\\Data\\0_DAILY_INTERVAL_NDVI_TRMM\\InnerMongolia\\NDVI\\DaySums_StdNormAnomalyRes\\TRMM_CQ_2003001.tif\n",
        "D:\\Data\\0_DAILY_INTERVAL_NDVI_TRMM\\InnerMongolia\\PLOT_CHARTS\\COHERENCE//Charts_Col25Row14CumPer4_raw.png"
       ]
      },
      {
       "output_type": "stream",
       "stream": "stdout",
       "text": [
        "\n",
        "\n"
       ]
      },
      {
       "output_type": "stream",
       "stream": "stdout",
       "text": [
        "D:\\Data\\0_DAILY_INTERVAL_NDVI_TRMM\\InnerMongolia\\TRMM\\150_Day_Period\\150_DaySums_StdNormAnomaly \n",
        "D:\\Data\\0_DAILY_INTERVAL_NDVI_TRMM\\InnerMongolia\\NDVI\\DaySums_StdNormAnomalyRes \n",
        "5\n",
        "3653"
       ]
      },
      {
       "output_type": "stream",
       "stream": "stdout",
       "text": [
        "\n",
        "D:\\Data\\0_DAILY_INTERVAL_NDVI_TRMM\\InnerMongolia\\TRMM\\150_Day_Period\\150_DaySums_StdNormAnomaly\\TRMM_CQ_2003001.tif\n",
        "D:\\Data\\0_DAILY_INTERVAL_NDVI_TRMM\\InnerMongolia\\PLOT_CHARTS\\COHERENCE//Charts_Col25Row14CumPer5_raw.png"
       ]
      },
      {
       "output_type": "stream",
       "stream": "stdout",
       "text": [
        "\n",
        "\n"
       ]
      },
      {
       "output_type": "stream",
       "stream": "stdout",
       "text": [
        "D:\\Data\\0_DAILY_INTERVAL_NDVI_TRMM\\InnerMongolia\\TRMM\\120_Day_Period\\120_DaySums_StdNormAnomaly \n",
        "D:\\Data\\0_DAILY_INTERVAL_NDVI_TRMM\\InnerMongolia\\NDVI\\DaySums_StdNormAnomalyRes \n",
        "4\n",
        "3653"
       ]
      },
      {
       "output_type": "stream",
       "stream": "stdout",
       "text": [
        "\n",
        "D:\\Data\\0_DAILY_INTERVAL_NDVI_TRMM\\InnerMongolia\\TRMM\\120_Day_Period\\120_DaySums_StdNormAnomaly\\TRMM_CQ_2003001.tif\n",
        "3651"
       ]
      },
      {
       "output_type": "stream",
       "stream": "stdout",
       "text": [
        "\n",
        "D:\\Data\\0_DAILY_INTERVAL_NDVI_TRMM\\InnerMongolia\\NDVI\\DaySums_StdNormAnomalyRes\\TRMM_CQ_2003001.tif\n",
        "D:\\Data\\0_DAILY_INTERVAL_NDVI_TRMM\\InnerMongolia\\PLOT_CHARTS\\COHERENCE//Charts_Col25Row15CumPer4_raw.png"
       ]
      },
      {
       "output_type": "stream",
       "stream": "stdout",
       "text": [
        "\n",
        "\n"
       ]
      },
      {
       "output_type": "stream",
       "stream": "stdout",
       "text": [
        "D:\\Data\\0_DAILY_INTERVAL_NDVI_TRMM\\InnerMongolia\\TRMM\\150_Day_Period\\150_DaySums_StdNormAnomaly \n",
        "D:\\Data\\0_DAILY_INTERVAL_NDVI_TRMM\\InnerMongolia\\NDVI\\DaySums_StdNormAnomalyRes \n",
        "5\n",
        "3653"
       ]
      },
      {
       "output_type": "stream",
       "stream": "stdout",
       "text": [
        "\n",
        "D:\\Data\\0_DAILY_INTERVAL_NDVI_TRMM\\InnerMongolia\\TRMM\\150_Day_Period\\150_DaySums_StdNormAnomaly\\TRMM_CQ_2003001.tif\n",
        "D:\\Data\\0_DAILY_INTERVAL_NDVI_TRMM\\InnerMongolia\\PLOT_CHARTS\\COHERENCE//Charts_Col25Row15CumPer5_raw.png"
       ]
      },
      {
       "output_type": "stream",
       "stream": "stdout",
       "text": [
        "\n",
        "\n"
       ]
      },
      {
       "output_type": "stream",
       "stream": "stdout",
       "text": [
        "D:\\Data\\0_DAILY_INTERVAL_NDVI_TRMM\\InnerMongolia\\TRMM\\120_Day_Period\\120_DaySums_StdNormAnomaly \n",
        "D:\\Data\\0_DAILY_INTERVAL_NDVI_TRMM\\InnerMongolia\\NDVI\\DaySums_StdNormAnomalyRes \n",
        "4\n",
        "3653"
       ]
      },
      {
       "output_type": "stream",
       "stream": "stdout",
       "text": [
        "\n",
        "D:\\Data\\0_DAILY_INTERVAL_NDVI_TRMM\\InnerMongolia\\TRMM\\120_Day_Period\\120_DaySums_StdNormAnomaly\\TRMM_CQ_2003001.tif\n",
        "3651"
       ]
      },
      {
       "output_type": "stream",
       "stream": "stdout",
       "text": [
        "\n",
        "D:\\Data\\0_DAILY_INTERVAL_NDVI_TRMM\\InnerMongolia\\NDVI\\DaySums_StdNormAnomalyRes\\TRMM_CQ_2003001.tif\n",
        "D:\\Data\\0_DAILY_INTERVAL_NDVI_TRMM\\InnerMongolia\\PLOT_CHARTS\\COHERENCE//Charts_Col25Row16CumPer4_raw.png"
       ]
      },
      {
       "output_type": "stream",
       "stream": "stdout",
       "text": [
        "\n",
        "\n"
       ]
      },
      {
       "output_type": "stream",
       "stream": "stdout",
       "text": [
        "D:\\Data\\0_DAILY_INTERVAL_NDVI_TRMM\\InnerMongolia\\TRMM\\150_Day_Period\\150_DaySums_StdNormAnomaly \n",
        "D:\\Data\\0_DAILY_INTERVAL_NDVI_TRMM\\InnerMongolia\\NDVI\\DaySums_StdNormAnomalyRes \n",
        "5\n",
        "3653"
       ]
      },
      {
       "output_type": "stream",
       "stream": "stdout",
       "text": [
        "\n",
        "D:\\Data\\0_DAILY_INTERVAL_NDVI_TRMM\\InnerMongolia\\TRMM\\150_Day_Period\\150_DaySums_StdNormAnomaly\\TRMM_CQ_2003001.tif\n",
        "D:\\Data\\0_DAILY_INTERVAL_NDVI_TRMM\\InnerMongolia\\PLOT_CHARTS\\COHERENCE//Charts_Col25Row16CumPer5_raw.png"
       ]
      },
      {
       "output_type": "stream",
       "stream": "stdout",
       "text": [
        "\n",
        "\n"
       ]
      },
      {
       "output_type": "stream",
       "stream": "stdout",
       "text": [
        "D:\\Data\\0_DAILY_INTERVAL_NDVI_TRMM\\InnerMongolia\\TRMM\\120_Day_Period\\120_DaySums_StdNormAnomaly \n",
        "D:\\Data\\0_DAILY_INTERVAL_NDVI_TRMM\\InnerMongolia\\NDVI\\DaySums_StdNormAnomalyRes \n",
        "4\n",
        "3653"
       ]
      },
      {
       "output_type": "stream",
       "stream": "stdout",
       "text": [
        "\n",
        "D:\\Data\\0_DAILY_INTERVAL_NDVI_TRMM\\InnerMongolia\\TRMM\\120_Day_Period\\120_DaySums_StdNormAnomaly\\TRMM_CQ_2003001.tif\n",
        "3651"
       ]
      },
      {
       "output_type": "stream",
       "stream": "stdout",
       "text": [
        "\n",
        "D:\\Data\\0_DAILY_INTERVAL_NDVI_TRMM\\InnerMongolia\\NDVI\\DaySums_StdNormAnomalyRes\\TRMM_CQ_2003001.tif\n",
        "D:\\Data\\0_DAILY_INTERVAL_NDVI_TRMM\\InnerMongolia\\PLOT_CHARTS\\COHERENCE//Charts_Col25Row17CumPer4_raw.png"
       ]
      },
      {
       "output_type": "stream",
       "stream": "stdout",
       "text": [
        "\n",
        "\n"
       ]
      },
      {
       "output_type": "stream",
       "stream": "stdout",
       "text": [
        "D:\\Data\\0_DAILY_INTERVAL_NDVI_TRMM\\InnerMongolia\\TRMM\\150_Day_Period\\150_DaySums_StdNormAnomaly \n",
        "D:\\Data\\0_DAILY_INTERVAL_NDVI_TRMM\\InnerMongolia\\NDVI\\DaySums_StdNormAnomalyRes \n",
        "5\n",
        "3653"
       ]
      },
      {
       "output_type": "stream",
       "stream": "stdout",
       "text": [
        "\n",
        "D:\\Data\\0_DAILY_INTERVAL_NDVI_TRMM\\InnerMongolia\\TRMM\\150_Day_Period\\150_DaySums_StdNormAnomaly\\TRMM_CQ_2003001.tif\n",
        "D:\\Data\\0_DAILY_INTERVAL_NDVI_TRMM\\InnerMongolia\\PLOT_CHARTS\\COHERENCE//Charts_Col25Row17CumPer5_raw.png"
       ]
      },
      {
       "output_type": "stream",
       "stream": "stdout",
       "text": [
        "\n",
        "\n"
       ]
      },
      {
       "output_type": "stream",
       "stream": "stdout",
       "text": [
        "D:\\Data\\0_DAILY_INTERVAL_NDVI_TRMM\\InnerMongolia\\TRMM\\120_Day_Period\\120_DaySums_StdNormAnomaly \n",
        "D:\\Data\\0_DAILY_INTERVAL_NDVI_TRMM\\InnerMongolia\\NDVI\\DaySums_StdNormAnomalyRes \n",
        "4\n",
        "3653"
       ]
      },
      {
       "output_type": "stream",
       "stream": "stdout",
       "text": [
        "\n",
        "D:\\Data\\0_DAILY_INTERVAL_NDVI_TRMM\\InnerMongolia\\TRMM\\120_Day_Period\\120_DaySums_StdNormAnomaly\\TRMM_CQ_2003001.tif\n",
        "3651"
       ]
      },
      {
       "output_type": "stream",
       "stream": "stdout",
       "text": [
        "\n",
        "D:\\Data\\0_DAILY_INTERVAL_NDVI_TRMM\\InnerMongolia\\NDVI\\DaySums_StdNormAnomalyRes\\TRMM_CQ_2003001.tif\n",
        "D:\\Data\\0_DAILY_INTERVAL_NDVI_TRMM\\InnerMongolia\\PLOT_CHARTS\\COHERENCE//Charts_Col25Row18CumPer4_raw.png"
       ]
      },
      {
       "output_type": "stream",
       "stream": "stdout",
       "text": [
        "\n",
        "\n"
       ]
      },
      {
       "output_type": "stream",
       "stream": "stdout",
       "text": [
        "D:\\Data\\0_DAILY_INTERVAL_NDVI_TRMM\\InnerMongolia\\TRMM\\150_Day_Period\\150_DaySums_StdNormAnomaly \n",
        "D:\\Data\\0_DAILY_INTERVAL_NDVI_TRMM\\InnerMongolia\\NDVI\\DaySums_StdNormAnomalyRes \n",
        "5\n",
        "3653"
       ]
      },
      {
       "output_type": "stream",
       "stream": "stdout",
       "text": [
        "\n",
        "D:\\Data\\0_DAILY_INTERVAL_NDVI_TRMM\\InnerMongolia\\TRMM\\150_Day_Period\\150_DaySums_StdNormAnomaly\\TRMM_CQ_2003001.tif\n",
        "D:\\Data\\0_DAILY_INTERVAL_NDVI_TRMM\\InnerMongolia\\PLOT_CHARTS\\COHERENCE//Charts_Col25Row18CumPer5_raw.png"
       ]
      },
      {
       "output_type": "stream",
       "stream": "stdout",
       "text": [
        "\n",
        "\n"
       ]
      },
      {
       "output_type": "stream",
       "stream": "stdout",
       "text": [
        "D:\\Data\\0_DAILY_INTERVAL_NDVI_TRMM\\InnerMongolia\\TRMM\\120_Day_Period\\120_DaySums_StdNormAnomaly \n",
        "D:\\Data\\0_DAILY_INTERVAL_NDVI_TRMM\\InnerMongolia\\NDVI\\DaySums_StdNormAnomalyRes \n",
        "4\n",
        "3653\n",
        "D:\\Data\\0_DAILY_INTERVAL_NDVI_TRMM\\InnerMongolia\\TRMM\\120_Day_Period\\120_DaySums_StdNormAnomaly\\TRMM_CQ_2003001.tif\n",
        "3651"
       ]
      },
      {
       "output_type": "stream",
       "stream": "stdout",
       "text": [
        "\n",
        "D:\\Data\\0_DAILY_INTERVAL_NDVI_TRMM\\InnerMongolia\\NDVI\\DaySums_StdNormAnomalyRes\\TRMM_CQ_2003001.tif\n",
        "D:\\Data\\0_DAILY_INTERVAL_NDVI_TRMM\\InnerMongolia\\PLOT_CHARTS\\COHERENCE//Charts_Col25Row19CumPer4_raw.png"
       ]
      },
      {
       "output_type": "stream",
       "stream": "stdout",
       "text": [
        "\n",
        "\n"
       ]
      },
      {
       "output_type": "stream",
       "stream": "stdout",
       "text": [
        "D:\\Data\\0_DAILY_INTERVAL_NDVI_TRMM\\InnerMongolia\\TRMM\\150_Day_Period\\150_DaySums_StdNormAnomaly \n",
        "D:\\Data\\0_DAILY_INTERVAL_NDVI_TRMM\\InnerMongolia\\NDVI\\DaySums_StdNormAnomalyRes \n",
        "5\n",
        "3653"
       ]
      },
      {
       "output_type": "stream",
       "stream": "stdout",
       "text": [
        "\n",
        "D:\\Data\\0_DAILY_INTERVAL_NDVI_TRMM\\InnerMongolia\\TRMM\\150_Day_Period\\150_DaySums_StdNormAnomaly\\TRMM_CQ_2003001.tif\n",
        "D:\\Data\\0_DAILY_INTERVAL_NDVI_TRMM\\InnerMongolia\\PLOT_CHARTS\\COHERENCE//Charts_Col25Row19CumPer5_raw.png"
       ]
      },
      {
       "output_type": "stream",
       "stream": "stdout",
       "text": [
        "\n",
        "\n"
       ]
      },
      {
       "output_type": "stream",
       "stream": "stdout",
       "text": [
        "D:\\Data\\0_DAILY_INTERVAL_NDVI_TRMM\\InnerMongolia\\TRMM\\120_Day_Period\\120_DaySums_StdNormAnomaly \n",
        "D:\\Data\\0_DAILY_INTERVAL_NDVI_TRMM\\InnerMongolia\\NDVI\\DaySums_StdNormAnomalyRes \n",
        "4\n",
        "3653"
       ]
      },
      {
       "output_type": "stream",
       "stream": "stdout",
       "text": [
        "\n",
        "D:\\Data\\0_DAILY_INTERVAL_NDVI_TRMM\\InnerMongolia\\TRMM\\120_Day_Period\\120_DaySums_StdNormAnomaly\\TRMM_CQ_2003001.tif\n",
        "3651"
       ]
      },
      {
       "output_type": "stream",
       "stream": "stdout",
       "text": [
        "\n",
        "D:\\Data\\0_DAILY_INTERVAL_NDVI_TRMM\\InnerMongolia\\NDVI\\DaySums_StdNormAnomalyRes\\TRMM_CQ_2003001.tif\n",
        "D:\\Data\\0_DAILY_INTERVAL_NDVI_TRMM\\InnerMongolia\\PLOT_CHARTS\\COHERENCE//Charts_Col25Row20CumPer4_raw.png"
       ]
      },
      {
       "output_type": "stream",
       "stream": "stdout",
       "text": [
        "\n",
        "\n"
       ]
      },
      {
       "output_type": "stream",
       "stream": "stdout",
       "text": [
        "D:\\Data\\0_DAILY_INTERVAL_NDVI_TRMM\\InnerMongolia\\TRMM\\150_Day_Period\\150_DaySums_StdNormAnomaly \n",
        "D:\\Data\\0_DAILY_INTERVAL_NDVI_TRMM\\InnerMongolia\\NDVI\\DaySums_StdNormAnomalyRes \n",
        "5\n",
        "3653"
       ]
      },
      {
       "output_type": "stream",
       "stream": "stdout",
       "text": [
        "\n",
        "D:\\Data\\0_DAILY_INTERVAL_NDVI_TRMM\\InnerMongolia\\TRMM\\150_Day_Period\\150_DaySums_StdNormAnomaly\\TRMM_CQ_2003001.tif\n",
        "D:\\Data\\0_DAILY_INTERVAL_NDVI_TRMM\\InnerMongolia\\PLOT_CHARTS\\COHERENCE//Charts_Col25Row20CumPer5_raw.png"
       ]
      },
      {
       "output_type": "stream",
       "stream": "stdout",
       "text": [
        "\n",
        "\n"
       ]
      },
      {
       "output_type": "stream",
       "stream": "stdout",
       "text": [
        "D:\\Data\\0_DAILY_INTERVAL_NDVI_TRMM\\InnerMongolia\\TRMM\\120_Day_Period\\120_DaySums_StdNormAnomaly \n",
        "D:\\Data\\0_DAILY_INTERVAL_NDVI_TRMM\\InnerMongolia\\NDVI\\DaySums_StdNormAnomalyRes \n",
        "4\n",
        "3653"
       ]
      },
      {
       "output_type": "stream",
       "stream": "stdout",
       "text": [
        "\n",
        "D:\\Data\\0_DAILY_INTERVAL_NDVI_TRMM\\InnerMongolia\\TRMM\\120_Day_Period\\120_DaySums_StdNormAnomaly\\TRMM_CQ_2003001.tif\n",
        "3651"
       ]
      },
      {
       "output_type": "stream",
       "stream": "stdout",
       "text": [
        "\n",
        "D:\\Data\\0_DAILY_INTERVAL_NDVI_TRMM\\InnerMongolia\\NDVI\\DaySums_StdNormAnomalyRes\\TRMM_CQ_2003001.tif\n",
        "D:\\Data\\0_DAILY_INTERVAL_NDVI_TRMM\\InnerMongolia\\PLOT_CHARTS\\COHERENCE//Charts_Col25Row21CumPer4_raw.png"
       ]
      },
      {
       "output_type": "stream",
       "stream": "stdout",
       "text": [
        "\n",
        "\n"
       ]
      },
      {
       "output_type": "stream",
       "stream": "stdout",
       "text": [
        "D:\\Data\\0_DAILY_INTERVAL_NDVI_TRMM\\InnerMongolia\\TRMM\\150_Day_Period\\150_DaySums_StdNormAnomaly \n",
        "D:\\Data\\0_DAILY_INTERVAL_NDVI_TRMM\\InnerMongolia\\NDVI\\DaySums_StdNormAnomalyRes \n",
        "5\n",
        "3653"
       ]
      },
      {
       "output_type": "stream",
       "stream": "stdout",
       "text": [
        "\n",
        "D:\\Data\\0_DAILY_INTERVAL_NDVI_TRMM\\InnerMongolia\\TRMM\\150_Day_Period\\150_DaySums_StdNormAnomaly\\TRMM_CQ_2003001.tif\n",
        "D:\\Data\\0_DAILY_INTERVAL_NDVI_TRMM\\InnerMongolia\\PLOT_CHARTS\\COHERENCE//Charts_Col25Row21CumPer5_raw.png"
       ]
      },
      {
       "output_type": "stream",
       "stream": "stdout",
       "text": [
        "\n",
        "\n"
       ]
      },
      {
       "output_type": "stream",
       "stream": "stdout",
       "text": [
        "D:\\Data\\0_DAILY_INTERVAL_NDVI_TRMM\\InnerMongolia\\TRMM\\120_Day_Period\\120_DaySums_StdNormAnomaly \n",
        "D:\\Data\\0_DAILY_INTERVAL_NDVI_TRMM\\InnerMongolia\\NDVI\\DaySums_StdNormAnomalyRes \n",
        "4\n",
        "3653"
       ]
      },
      {
       "output_type": "stream",
       "stream": "stdout",
       "text": [
        "\n",
        "D:\\Data\\0_DAILY_INTERVAL_NDVI_TRMM\\InnerMongolia\\TRMM\\120_Day_Period\\120_DaySums_StdNormAnomaly\\TRMM_CQ_2003001.tif\n",
        "3651"
       ]
      },
      {
       "output_type": "stream",
       "stream": "stdout",
       "text": [
        "\n",
        "D:\\Data\\0_DAILY_INTERVAL_NDVI_TRMM\\InnerMongolia\\NDVI\\DaySums_StdNormAnomalyRes\\TRMM_CQ_2003001.tif\n",
        "D:\\Data\\0_DAILY_INTERVAL_NDVI_TRMM\\InnerMongolia\\PLOT_CHARTS\\COHERENCE//Charts_Col25Row22CumPer4_raw.png"
       ]
      },
      {
       "output_type": "stream",
       "stream": "stdout",
       "text": [
        "\n",
        "\n"
       ]
      },
      {
       "output_type": "stream",
       "stream": "stdout",
       "text": [
        "D:\\Data\\0_DAILY_INTERVAL_NDVI_TRMM\\InnerMongolia\\TRMM\\150_Day_Period\\150_DaySums_StdNormAnomaly \n",
        "D:\\Data\\0_DAILY_INTERVAL_NDVI_TRMM\\InnerMongolia\\NDVI\\DaySums_StdNormAnomalyRes \n",
        "5\n",
        "3653"
       ]
      },
      {
       "output_type": "stream",
       "stream": "stdout",
       "text": [
        "\n",
        "D:\\Data\\0_DAILY_INTERVAL_NDVI_TRMM\\InnerMongolia\\TRMM\\150_Day_Period\\150_DaySums_StdNormAnomaly\\TRMM_CQ_2003001.tif\n",
        "D:\\Data\\0_DAILY_INTERVAL_NDVI_TRMM\\InnerMongolia\\PLOT_CHARTS\\COHERENCE//Charts_Col25Row22CumPer5_raw.png"
       ]
      },
      {
       "output_type": "stream",
       "stream": "stdout",
       "text": [
        "\n",
        "\n"
       ]
      },
      {
       "output_type": "stream",
       "stream": "stdout",
       "text": [
        "D:\\Data\\0_DAILY_INTERVAL_NDVI_TRMM\\InnerMongolia\\TRMM\\120_Day_Period\\120_DaySums_StdNormAnomaly \n",
        "D:\\Data\\0_DAILY_INTERVAL_NDVI_TRMM\\InnerMongolia\\NDVI\\DaySums_StdNormAnomalyRes \n",
        "4\n",
        "3653"
       ]
      },
      {
       "output_type": "stream",
       "stream": "stdout",
       "text": [
        "\n",
        "D:\\Data\\0_DAILY_INTERVAL_NDVI_TRMM\\InnerMongolia\\TRMM\\120_Day_Period\\120_DaySums_StdNormAnomaly\\TRMM_CQ_2003001.tif\n",
        "3651"
       ]
      },
      {
       "output_type": "stream",
       "stream": "stdout",
       "text": [
        "\n",
        "D:\\Data\\0_DAILY_INTERVAL_NDVI_TRMM\\InnerMongolia\\NDVI\\DaySums_StdNormAnomalyRes\\TRMM_CQ_2003001.tif\n",
        "D:\\Data\\0_DAILY_INTERVAL_NDVI_TRMM\\InnerMongolia\\PLOT_CHARTS\\COHERENCE//Charts_Col25Row23CumPer4_raw.png"
       ]
      },
      {
       "output_type": "stream",
       "stream": "stdout",
       "text": [
        "\n",
        "\n"
       ]
      },
      {
       "output_type": "stream",
       "stream": "stdout",
       "text": [
        "D:\\Data\\0_DAILY_INTERVAL_NDVI_TRMM\\InnerMongolia\\TRMM\\150_Day_Period\\150_DaySums_StdNormAnomaly \n",
        "D:\\Data\\0_DAILY_INTERVAL_NDVI_TRMM\\InnerMongolia\\NDVI\\DaySums_StdNormAnomalyRes \n",
        "5\n",
        "3653\n",
        "D:\\Data\\0_DAILY_INTERVAL_NDVI_TRMM\\InnerMongolia\\TRMM\\150_Day_Period\\150_DaySums_StdNormAnomaly\\TRMM_CQ_2003001.tif\n",
        "D:\\Data\\0_DAILY_INTERVAL_NDVI_TRMM\\InnerMongolia\\PLOT_CHARTS\\COHERENCE//Charts_Col25Row23CumPer5_raw.png"
       ]
      },
      {
       "output_type": "stream",
       "stream": "stdout",
       "text": [
        "\n",
        "\n"
       ]
      },
      {
       "output_type": "stream",
       "stream": "stdout",
       "text": [
        "D:\\Data\\0_DAILY_INTERVAL_NDVI_TRMM\\InnerMongolia\\TRMM\\120_Day_Period\\120_DaySums_StdNormAnomaly \n",
        "D:\\Data\\0_DAILY_INTERVAL_NDVI_TRMM\\InnerMongolia\\NDVI\\DaySums_StdNormAnomalyRes \n",
        "4\n",
        "3653"
       ]
      },
      {
       "output_type": "stream",
       "stream": "stdout",
       "text": [
        "\n",
        "D:\\Data\\0_DAILY_INTERVAL_NDVI_TRMM\\InnerMongolia\\TRMM\\120_Day_Period\\120_DaySums_StdNormAnomaly\\TRMM_CQ_2003001.tif\n",
        "3651"
       ]
      },
      {
       "output_type": "stream",
       "stream": "stdout",
       "text": [
        "\n",
        "D:\\Data\\0_DAILY_INTERVAL_NDVI_TRMM\\InnerMongolia\\NDVI\\DaySums_StdNormAnomalyRes\\TRMM_CQ_2003001.tif\n",
        "D:\\Data\\0_DAILY_INTERVAL_NDVI_TRMM\\InnerMongolia\\PLOT_CHARTS\\COHERENCE//Charts_Col26Row13CumPer4_raw.png"
       ]
      },
      {
       "output_type": "stream",
       "stream": "stdout",
       "text": [
        "\n",
        "\n"
       ]
      },
      {
       "output_type": "stream",
       "stream": "stdout",
       "text": [
        "D:\\Data\\0_DAILY_INTERVAL_NDVI_TRMM\\InnerMongolia\\TRMM\\150_Day_Period\\150_DaySums_StdNormAnomaly \n",
        "D:\\Data\\0_DAILY_INTERVAL_NDVI_TRMM\\InnerMongolia\\NDVI\\DaySums_StdNormAnomalyRes \n",
        "5\n",
        "3653"
       ]
      },
      {
       "output_type": "stream",
       "stream": "stdout",
       "text": [
        "\n",
        "D:\\Data\\0_DAILY_INTERVAL_NDVI_TRMM\\InnerMongolia\\TRMM\\150_Day_Period\\150_DaySums_StdNormAnomaly\\TRMM_CQ_2003001.tif\n",
        "D:\\Data\\0_DAILY_INTERVAL_NDVI_TRMM\\InnerMongolia\\PLOT_CHARTS\\COHERENCE//Charts_Col26Row13CumPer5_raw.png"
       ]
      },
      {
       "output_type": "stream",
       "stream": "stdout",
       "text": [
        "\n",
        "\n"
       ]
      },
      {
       "output_type": "stream",
       "stream": "stdout",
       "text": [
        "D:\\Data\\0_DAILY_INTERVAL_NDVI_TRMM\\InnerMongolia\\TRMM\\120_Day_Period\\120_DaySums_StdNormAnomaly \n",
        "D:\\Data\\0_DAILY_INTERVAL_NDVI_TRMM\\InnerMongolia\\NDVI\\DaySums_StdNormAnomalyRes \n",
        "4\n",
        "3653"
       ]
      },
      {
       "output_type": "stream",
       "stream": "stdout",
       "text": [
        "\n",
        "D:\\Data\\0_DAILY_INTERVAL_NDVI_TRMM\\InnerMongolia\\TRMM\\120_Day_Period\\120_DaySums_StdNormAnomaly\\TRMM_CQ_2003001.tif\n",
        "3651"
       ]
      },
      {
       "output_type": "stream",
       "stream": "stdout",
       "text": [
        "\n",
        "D:\\Data\\0_DAILY_INTERVAL_NDVI_TRMM\\InnerMongolia\\NDVI\\DaySums_StdNormAnomalyRes\\TRMM_CQ_2003001.tif\n",
        "D:\\Data\\0_DAILY_INTERVAL_NDVI_TRMM\\InnerMongolia\\PLOT_CHARTS\\COHERENCE//Charts_Col26Row14CumPer4_raw.png"
       ]
      },
      {
       "output_type": "stream",
       "stream": "stdout",
       "text": [
        "\n",
        "\n"
       ]
      },
      {
       "output_type": "stream",
       "stream": "stdout",
       "text": [
        "D:\\Data\\0_DAILY_INTERVAL_NDVI_TRMM\\InnerMongolia\\TRMM\\150_Day_Period\\150_DaySums_StdNormAnomaly \n",
        "D:\\Data\\0_DAILY_INTERVAL_NDVI_TRMM\\InnerMongolia\\NDVI\\DaySums_StdNormAnomalyRes \n",
        "5\n",
        "3653"
       ]
      },
      {
       "output_type": "stream",
       "stream": "stdout",
       "text": [
        "\n",
        "D:\\Data\\0_DAILY_INTERVAL_NDVI_TRMM\\InnerMongolia\\TRMM\\150_Day_Period\\150_DaySums_StdNormAnomaly\\TRMM_CQ_2003001.tif\n",
        "D:\\Data\\0_DAILY_INTERVAL_NDVI_TRMM\\InnerMongolia\\PLOT_CHARTS\\COHERENCE//Charts_Col26Row14CumPer5_raw.png"
       ]
      },
      {
       "output_type": "stream",
       "stream": "stdout",
       "text": [
        "\n",
        "\n"
       ]
      },
      {
       "output_type": "stream",
       "stream": "stdout",
       "text": [
        "D:\\Data\\0_DAILY_INTERVAL_NDVI_TRMM\\InnerMongolia\\TRMM\\120_Day_Period\\120_DaySums_StdNormAnomaly \n",
        "D:\\Data\\0_DAILY_INTERVAL_NDVI_TRMM\\InnerMongolia\\NDVI\\DaySums_StdNormAnomalyRes \n",
        "4\n",
        "3653"
       ]
      },
      {
       "output_type": "stream",
       "stream": "stdout",
       "text": [
        "\n",
        "D:\\Data\\0_DAILY_INTERVAL_NDVI_TRMM\\InnerMongolia\\TRMM\\120_Day_Period\\120_DaySums_StdNormAnomaly\\TRMM_CQ_2003001.tif\n",
        "3651"
       ]
      },
      {
       "output_type": "stream",
       "stream": "stdout",
       "text": [
        "\n",
        "D:\\Data\\0_DAILY_INTERVAL_NDVI_TRMM\\InnerMongolia\\NDVI\\DaySums_StdNormAnomalyRes\\TRMM_CQ_2003001.tif\n",
        "D:\\Data\\0_DAILY_INTERVAL_NDVI_TRMM\\InnerMongolia\\PLOT_CHARTS\\COHERENCE//Charts_Col26Row15CumPer4_raw.png"
       ]
      },
      {
       "output_type": "stream",
       "stream": "stdout",
       "text": [
        "\n",
        "\n"
       ]
      },
      {
       "output_type": "stream",
       "stream": "stdout",
       "text": [
        "D:\\Data\\0_DAILY_INTERVAL_NDVI_TRMM\\InnerMongolia\\TRMM\\150_Day_Period\\150_DaySums_StdNormAnomaly \n",
        "D:\\Data\\0_DAILY_INTERVAL_NDVI_TRMM\\InnerMongolia\\NDVI\\DaySums_StdNormAnomalyRes \n",
        "5\n",
        "3653"
       ]
      },
      {
       "output_type": "stream",
       "stream": "stdout",
       "text": [
        "\n",
        "D:\\Data\\0_DAILY_INTERVAL_NDVI_TRMM\\InnerMongolia\\TRMM\\150_Day_Period\\150_DaySums_StdNormAnomaly\\TRMM_CQ_2003001.tif\n",
        "D:\\Data\\0_DAILY_INTERVAL_NDVI_TRMM\\InnerMongolia\\PLOT_CHARTS\\COHERENCE//Charts_Col26Row15CumPer5_raw.png"
       ]
      },
      {
       "output_type": "stream",
       "stream": "stdout",
       "text": [
        "\n",
        "\n"
       ]
      },
      {
       "output_type": "stream",
       "stream": "stdout",
       "text": [
        "D:\\Data\\0_DAILY_INTERVAL_NDVI_TRMM\\InnerMongolia\\TRMM\\120_Day_Period\\120_DaySums_StdNormAnomaly \n",
        "D:\\Data\\0_DAILY_INTERVAL_NDVI_TRMM\\InnerMongolia\\NDVI\\DaySums_StdNormAnomalyRes \n",
        "4\n",
        "3653\n",
        "D:\\Data\\0_DAILY_INTERVAL_NDVI_TRMM\\InnerMongolia\\TRMM\\120_Day_Period\\120_DaySums_StdNormAnomaly\\TRMM_CQ_2003001.tif\n",
        "3651"
       ]
      },
      {
       "output_type": "stream",
       "stream": "stdout",
       "text": [
        "\n",
        "D:\\Data\\0_DAILY_INTERVAL_NDVI_TRMM\\InnerMongolia\\NDVI\\DaySums_StdNormAnomalyRes\\TRMM_CQ_2003001.tif\n",
        "D:\\Data\\0_DAILY_INTERVAL_NDVI_TRMM\\InnerMongolia\\PLOT_CHARTS\\COHERENCE//Charts_Col26Row16CumPer4_raw.png"
       ]
      },
      {
       "output_type": "stream",
       "stream": "stdout",
       "text": [
        "\n",
        "\n"
       ]
      },
      {
       "output_type": "stream",
       "stream": "stdout",
       "text": [
        "D:\\Data\\0_DAILY_INTERVAL_NDVI_TRMM\\InnerMongolia\\TRMM\\150_Day_Period\\150_DaySums_StdNormAnomaly \n",
        "D:\\Data\\0_DAILY_INTERVAL_NDVI_TRMM\\InnerMongolia\\NDVI\\DaySums_StdNormAnomalyRes \n",
        "5\n",
        "3653"
       ]
      },
      {
       "output_type": "stream",
       "stream": "stdout",
       "text": [
        "\n",
        "D:\\Data\\0_DAILY_INTERVAL_NDVI_TRMM\\InnerMongolia\\TRMM\\150_Day_Period\\150_DaySums_StdNormAnomaly\\TRMM_CQ_2003001.tif\n",
        "D:\\Data\\0_DAILY_INTERVAL_NDVI_TRMM\\InnerMongolia\\PLOT_CHARTS\\COHERENCE//Charts_Col26Row16CumPer5_raw.png"
       ]
      },
      {
       "output_type": "stream",
       "stream": "stdout",
       "text": [
        "\n",
        "\n"
       ]
      },
      {
       "output_type": "stream",
       "stream": "stdout",
       "text": [
        "D:\\Data\\0_DAILY_INTERVAL_NDVI_TRMM\\InnerMongolia\\TRMM\\120_Day_Period\\120_DaySums_StdNormAnomaly \n",
        "D:\\Data\\0_DAILY_INTERVAL_NDVI_TRMM\\InnerMongolia\\NDVI\\DaySums_StdNormAnomalyRes \n",
        "4\n",
        "3653"
       ]
      },
      {
       "output_type": "stream",
       "stream": "stdout",
       "text": [
        "\n",
        "D:\\Data\\0_DAILY_INTERVAL_NDVI_TRMM\\InnerMongolia\\TRMM\\120_Day_Period\\120_DaySums_StdNormAnomaly\\TRMM_CQ_2003001.tif\n",
        "3651"
       ]
      },
      {
       "output_type": "stream",
       "stream": "stdout",
       "text": [
        "\n",
        "D:\\Data\\0_DAILY_INTERVAL_NDVI_TRMM\\InnerMongolia\\NDVI\\DaySums_StdNormAnomalyRes\\TRMM_CQ_2003001.tif\n",
        "D:\\Data\\0_DAILY_INTERVAL_NDVI_TRMM\\InnerMongolia\\PLOT_CHARTS\\COHERENCE//Charts_Col26Row17CumPer4_raw.png"
       ]
      },
      {
       "output_type": "stream",
       "stream": "stdout",
       "text": [
        "\n",
        "\n"
       ]
      },
      {
       "output_type": "stream",
       "stream": "stdout",
       "text": [
        "D:\\Data\\0_DAILY_INTERVAL_NDVI_TRMM\\InnerMongolia\\TRMM\\150_Day_Period\\150_DaySums_StdNormAnomaly \n",
        "D:\\Data\\0_DAILY_INTERVAL_NDVI_TRMM\\InnerMongolia\\NDVI\\DaySums_StdNormAnomalyRes \n",
        "5\n",
        "3653"
       ]
      },
      {
       "output_type": "stream",
       "stream": "stdout",
       "text": [
        "\n",
        "D:\\Data\\0_DAILY_INTERVAL_NDVI_TRMM\\InnerMongolia\\TRMM\\150_Day_Period\\150_DaySums_StdNormAnomaly\\TRMM_CQ_2003001.tif\n",
        "D:\\Data\\0_DAILY_INTERVAL_NDVI_TRMM\\InnerMongolia\\PLOT_CHARTS\\COHERENCE//Charts_Col26Row17CumPer5_raw.png"
       ]
      },
      {
       "output_type": "stream",
       "stream": "stdout",
       "text": [
        "\n",
        "\n"
       ]
      },
      {
       "output_type": "stream",
       "stream": "stdout",
       "text": [
        "D:\\Data\\0_DAILY_INTERVAL_NDVI_TRMM\\InnerMongolia\\TRMM\\120_Day_Period\\120_DaySums_StdNormAnomaly \n",
        "D:\\Data\\0_DAILY_INTERVAL_NDVI_TRMM\\InnerMongolia\\NDVI\\DaySums_StdNormAnomalyRes \n",
        "4\n",
        "3653"
       ]
      },
      {
       "output_type": "stream",
       "stream": "stdout",
       "text": [
        "\n",
        "D:\\Data\\0_DAILY_INTERVAL_NDVI_TRMM\\InnerMongolia\\TRMM\\120_Day_Period\\120_DaySums_StdNormAnomaly\\TRMM_CQ_2003001.tif\n",
        "3651"
       ]
      },
      {
       "output_type": "stream",
       "stream": "stdout",
       "text": [
        "\n",
        "D:\\Data\\0_DAILY_INTERVAL_NDVI_TRMM\\InnerMongolia\\NDVI\\DaySums_StdNormAnomalyRes\\TRMM_CQ_2003001.tif\n",
        "D:\\Data\\0_DAILY_INTERVAL_NDVI_TRMM\\InnerMongolia\\PLOT_CHARTS\\COHERENCE//Charts_Col26Row18CumPer4_raw.png"
       ]
      },
      {
       "output_type": "stream",
       "stream": "stdout",
       "text": [
        "\n",
        "\n"
       ]
      },
      {
       "output_type": "stream",
       "stream": "stdout",
       "text": [
        "D:\\Data\\0_DAILY_INTERVAL_NDVI_TRMM\\InnerMongolia\\TRMM\\150_Day_Period\\150_DaySums_StdNormAnomaly \n",
        "D:\\Data\\0_DAILY_INTERVAL_NDVI_TRMM\\InnerMongolia\\NDVI\\DaySums_StdNormAnomalyRes \n",
        "5\n",
        "3653"
       ]
      },
      {
       "output_type": "stream",
       "stream": "stdout",
       "text": [
        "\n",
        "D:\\Data\\0_DAILY_INTERVAL_NDVI_TRMM\\InnerMongolia\\TRMM\\150_Day_Period\\150_DaySums_StdNormAnomaly\\TRMM_CQ_2003001.tif\n",
        "D:\\Data\\0_DAILY_INTERVAL_NDVI_TRMM\\InnerMongolia\\PLOT_CHARTS\\COHERENCE//Charts_Col26Row18CumPer5_raw.png"
       ]
      },
      {
       "output_type": "stream",
       "stream": "stdout",
       "text": [
        "\n",
        "\n"
       ]
      },
      {
       "output_type": "stream",
       "stream": "stdout",
       "text": [
        "D:\\Data\\0_DAILY_INTERVAL_NDVI_TRMM\\InnerMongolia\\TRMM\\120_Day_Period\\120_DaySums_StdNormAnomaly \n",
        "D:\\Data\\0_DAILY_INTERVAL_NDVI_TRMM\\InnerMongolia\\NDVI\\DaySums_StdNormAnomalyRes \n",
        "4\n",
        "3653"
       ]
      },
      {
       "output_type": "stream",
       "stream": "stdout",
       "text": [
        "\n",
        "D:\\Data\\0_DAILY_INTERVAL_NDVI_TRMM\\InnerMongolia\\TRMM\\120_Day_Period\\120_DaySums_StdNormAnomaly\\TRMM_CQ_2003001.tif\n",
        "3651"
       ]
      },
      {
       "output_type": "stream",
       "stream": "stdout",
       "text": [
        "\n",
        "D:\\Data\\0_DAILY_INTERVAL_NDVI_TRMM\\InnerMongolia\\NDVI\\DaySums_StdNormAnomalyRes\\TRMM_CQ_2003001.tif\n",
        "D:\\Data\\0_DAILY_INTERVAL_NDVI_TRMM\\InnerMongolia\\PLOT_CHARTS\\COHERENCE//Charts_Col26Row19CumPer4_raw.png"
       ]
      },
      {
       "output_type": "stream",
       "stream": "stdout",
       "text": [
        "\n",
        "\n"
       ]
      },
      {
       "output_type": "stream",
       "stream": "stdout",
       "text": [
        "D:\\Data\\0_DAILY_INTERVAL_NDVI_TRMM\\InnerMongolia\\TRMM\\150_Day_Period\\150_DaySums_StdNormAnomaly \n",
        "D:\\Data\\0_DAILY_INTERVAL_NDVI_TRMM\\InnerMongolia\\NDVI\\DaySums_StdNormAnomalyRes \n",
        "5\n",
        "3653"
       ]
      },
      {
       "output_type": "stream",
       "stream": "stdout",
       "text": [
        "\n",
        "D:\\Data\\0_DAILY_INTERVAL_NDVI_TRMM\\InnerMongolia\\TRMM\\150_Day_Period\\150_DaySums_StdNormAnomaly\\TRMM_CQ_2003001.tif\n",
        "D:\\Data\\0_DAILY_INTERVAL_NDVI_TRMM\\InnerMongolia\\PLOT_CHARTS\\COHERENCE//Charts_Col26Row19CumPer5_raw.png"
       ]
      },
      {
       "output_type": "stream",
       "stream": "stdout",
       "text": [
        "\n",
        "\n"
       ]
      },
      {
       "output_type": "stream",
       "stream": "stdout",
       "text": [
        "D:\\Data\\0_DAILY_INTERVAL_NDVI_TRMM\\InnerMongolia\\TRMM\\120_Day_Period\\120_DaySums_StdNormAnomaly \n",
        "D:\\Data\\0_DAILY_INTERVAL_NDVI_TRMM\\InnerMongolia\\NDVI\\DaySums_StdNormAnomalyRes \n",
        "4\n",
        "3653"
       ]
      },
      {
       "output_type": "stream",
       "stream": "stdout",
       "text": [
        "\n",
        "D:\\Data\\0_DAILY_INTERVAL_NDVI_TRMM\\InnerMongolia\\TRMM\\120_Day_Period\\120_DaySums_StdNormAnomaly\\TRMM_CQ_2003001.tif\n",
        "3651"
       ]
      },
      {
       "output_type": "stream",
       "stream": "stdout",
       "text": [
        "\n",
        "D:\\Data\\0_DAILY_INTERVAL_NDVI_TRMM\\InnerMongolia\\NDVI\\DaySums_StdNormAnomalyRes\\TRMM_CQ_2003001.tif\n",
        "D:\\Data\\0_DAILY_INTERVAL_NDVI_TRMM\\InnerMongolia\\PLOT_CHARTS\\COHERENCE//Charts_Col26Row20CumPer4_raw.png"
       ]
      },
      {
       "output_type": "stream",
       "stream": "stdout",
       "text": [
        "\n",
        "\n"
       ]
      },
      {
       "output_type": "stream",
       "stream": "stdout",
       "text": [
        "D:\\Data\\0_DAILY_INTERVAL_NDVI_TRMM\\InnerMongolia\\TRMM\\150_Day_Period\\150_DaySums_StdNormAnomaly \n",
        "D:\\Data\\0_DAILY_INTERVAL_NDVI_TRMM\\InnerMongolia\\NDVI\\DaySums_StdNormAnomalyRes \n",
        "5\n",
        "3653"
       ]
      },
      {
       "output_type": "stream",
       "stream": "stdout",
       "text": [
        "\n",
        "D:\\Data\\0_DAILY_INTERVAL_NDVI_TRMM\\InnerMongolia\\TRMM\\150_Day_Period\\150_DaySums_StdNormAnomaly\\TRMM_CQ_2003001.tif\n",
        "D:\\Data\\0_DAILY_INTERVAL_NDVI_TRMM\\InnerMongolia\\PLOT_CHARTS\\COHERENCE//Charts_Col26Row20CumPer5_raw.png"
       ]
      },
      {
       "output_type": "stream",
       "stream": "stdout",
       "text": [
        "\n",
        "\n"
       ]
      },
      {
       "output_type": "stream",
       "stream": "stdout",
       "text": [
        "D:\\Data\\0_DAILY_INTERVAL_NDVI_TRMM\\InnerMongolia\\TRMM\\120_Day_Period\\120_DaySums_StdNormAnomaly \n",
        "D:\\Data\\0_DAILY_INTERVAL_NDVI_TRMM\\InnerMongolia\\NDVI\\DaySums_StdNormAnomalyRes \n",
        "4\n",
        "3653"
       ]
      },
      {
       "output_type": "stream",
       "stream": "stdout",
       "text": [
        "\n",
        "D:\\Data\\0_DAILY_INTERVAL_NDVI_TRMM\\InnerMongolia\\TRMM\\120_Day_Period\\120_DaySums_StdNormAnomaly\\TRMM_CQ_2003001.tif\n",
        "3651"
       ]
      },
      {
       "output_type": "stream",
       "stream": "stdout",
       "text": [
        "\n",
        "D:\\Data\\0_DAILY_INTERVAL_NDVI_TRMM\\InnerMongolia\\NDVI\\DaySums_StdNormAnomalyRes\\TRMM_CQ_2003001.tif\n",
        "D:\\Data\\0_DAILY_INTERVAL_NDVI_TRMM\\InnerMongolia\\PLOT_CHARTS\\COHERENCE//Charts_Col26Row21CumPer4_raw.png"
       ]
      },
      {
       "output_type": "stream",
       "stream": "stdout",
       "text": [
        "\n",
        "\n"
       ]
      },
      {
       "output_type": "stream",
       "stream": "stdout",
       "text": [
        "D:\\Data\\0_DAILY_INTERVAL_NDVI_TRMM\\InnerMongolia\\TRMM\\150_Day_Period\\150_DaySums_StdNormAnomaly \n",
        "D:\\Data\\0_DAILY_INTERVAL_NDVI_TRMM\\InnerMongolia\\NDVI\\DaySums_StdNormAnomalyRes \n",
        "5\n",
        "3653"
       ]
      },
      {
       "output_type": "stream",
       "stream": "stdout",
       "text": [
        "\n",
        "D:\\Data\\0_DAILY_INTERVAL_NDVI_TRMM\\InnerMongolia\\TRMM\\150_Day_Period\\150_DaySums_StdNormAnomaly\\TRMM_CQ_2003001.tif\n",
        "D:\\Data\\0_DAILY_INTERVAL_NDVI_TRMM\\InnerMongolia\\PLOT_CHARTS\\COHERENCE//Charts_Col26Row21CumPer5_raw.png"
       ]
      },
      {
       "output_type": "stream",
       "stream": "stdout",
       "text": [
        "\n",
        "\n"
       ]
      },
      {
       "output_type": "stream",
       "stream": "stdout",
       "text": [
        "D:\\Data\\0_DAILY_INTERVAL_NDVI_TRMM\\InnerMongolia\\TRMM\\120_Day_Period\\120_DaySums_StdNormAnomaly \n",
        "D:\\Data\\0_DAILY_INTERVAL_NDVI_TRMM\\InnerMongolia\\NDVI\\DaySums_StdNormAnomalyRes \n",
        "4\n",
        "3653"
       ]
      },
      {
       "output_type": "stream",
       "stream": "stdout",
       "text": [
        "\n",
        "D:\\Data\\0_DAILY_INTERVAL_NDVI_TRMM\\InnerMongolia\\TRMM\\120_Day_Period\\120_DaySums_StdNormAnomaly\\TRMM_CQ_2003001.tif\n",
        "3651"
       ]
      },
      {
       "output_type": "stream",
       "stream": "stdout",
       "text": [
        "\n",
        "D:\\Data\\0_DAILY_INTERVAL_NDVI_TRMM\\InnerMongolia\\NDVI\\DaySums_StdNormAnomalyRes\\TRMM_CQ_2003001.tif\n",
        "D:\\Data\\0_DAILY_INTERVAL_NDVI_TRMM\\InnerMongolia\\PLOT_CHARTS\\COHERENCE//Charts_Col26Row22CumPer4_raw.png"
       ]
      },
      {
       "output_type": "stream",
       "stream": "stdout",
       "text": [
        "\n",
        "\n"
       ]
      },
      {
       "output_type": "stream",
       "stream": "stdout",
       "text": [
        "D:\\Data\\0_DAILY_INTERVAL_NDVI_TRMM\\InnerMongolia\\TRMM\\150_Day_Period\\150_DaySums_StdNormAnomaly \n",
        "D:\\Data\\0_DAILY_INTERVAL_NDVI_TRMM\\InnerMongolia\\NDVI\\DaySums_StdNormAnomalyRes \n",
        "5\n",
        "3653"
       ]
      },
      {
       "output_type": "stream",
       "stream": "stdout",
       "text": [
        "\n",
        "D:\\Data\\0_DAILY_INTERVAL_NDVI_TRMM\\InnerMongolia\\TRMM\\150_Day_Period\\150_DaySums_StdNormAnomaly\\TRMM_CQ_2003001.tif\n",
        "D:\\Data\\0_DAILY_INTERVAL_NDVI_TRMM\\InnerMongolia\\PLOT_CHARTS\\COHERENCE//Charts_Col26Row22CumPer5_raw.png"
       ]
      },
      {
       "output_type": "stream",
       "stream": "stdout",
       "text": [
        "\n",
        "\n"
       ]
      },
      {
       "output_type": "stream",
       "stream": "stdout",
       "text": [
        "D:\\Data\\0_DAILY_INTERVAL_NDVI_TRMM\\InnerMongolia\\TRMM\\120_Day_Period\\120_DaySums_StdNormAnomaly \n",
        "D:\\Data\\0_DAILY_INTERVAL_NDVI_TRMM\\InnerMongolia\\NDVI\\DaySums_StdNormAnomalyRes \n",
        "4\n",
        "3653"
       ]
      },
      {
       "output_type": "stream",
       "stream": "stdout",
       "text": [
        "\n",
        "D:\\Data\\0_DAILY_INTERVAL_NDVI_TRMM\\InnerMongolia\\TRMM\\120_Day_Period\\120_DaySums_StdNormAnomaly\\TRMM_CQ_2003001.tif\n",
        "3651"
       ]
      },
      {
       "output_type": "stream",
       "stream": "stdout",
       "text": [
        "\n",
        "D:\\Data\\0_DAILY_INTERVAL_NDVI_TRMM\\InnerMongolia\\NDVI\\DaySums_StdNormAnomalyRes\\TRMM_CQ_2003001.tif\n",
        "D:\\Data\\0_DAILY_INTERVAL_NDVI_TRMM\\InnerMongolia\\PLOT_CHARTS\\COHERENCE//Charts_Col26Row23CumPer4_raw.png"
       ]
      },
      {
       "output_type": "stream",
       "stream": "stdout",
       "text": [
        "\n",
        "\n"
       ]
      },
      {
       "output_type": "stream",
       "stream": "stdout",
       "text": [
        "D:\\Data\\0_DAILY_INTERVAL_NDVI_TRMM\\InnerMongolia\\TRMM\\150_Day_Period\\150_DaySums_StdNormAnomaly \n",
        "D:\\Data\\0_DAILY_INTERVAL_NDVI_TRMM\\InnerMongolia\\NDVI\\DaySums_StdNormAnomalyRes \n",
        "5\n",
        "3653"
       ]
      },
      {
       "output_type": "stream",
       "stream": "stdout",
       "text": [
        "\n",
        "D:\\Data\\0_DAILY_INTERVAL_NDVI_TRMM\\InnerMongolia\\TRMM\\150_Day_Period\\150_DaySums_StdNormAnomaly\\TRMM_CQ_2003001.tif\n",
        "D:\\Data\\0_DAILY_INTERVAL_NDVI_TRMM\\InnerMongolia\\PLOT_CHARTS\\COHERENCE//Charts_Col26Row23CumPer5_raw.png"
       ]
      },
      {
       "output_type": "stream",
       "stream": "stdout",
       "text": [
        "\n",
        "\n"
       ]
      },
      {
       "output_type": "stream",
       "stream": "stdout",
       "text": [
        "D:\\Data\\0_DAILY_INTERVAL_NDVI_TRMM\\InnerMongolia\\TRMM\\120_Day_Period\\120_DaySums_StdNormAnomaly \n",
        "D:\\Data\\0_DAILY_INTERVAL_NDVI_TRMM\\InnerMongolia\\NDVI\\DaySums_StdNormAnomalyRes \n",
        "4\n",
        "3653"
       ]
      },
      {
       "output_type": "stream",
       "stream": "stdout",
       "text": [
        "\n",
        "D:\\Data\\0_DAILY_INTERVAL_NDVI_TRMM\\InnerMongolia\\TRMM\\120_Day_Period\\120_DaySums_StdNormAnomaly\\TRMM_CQ_2003001.tif\n",
        "3651"
       ]
      },
      {
       "output_type": "stream",
       "stream": "stdout",
       "text": [
        "\n",
        "D:\\Data\\0_DAILY_INTERVAL_NDVI_TRMM\\InnerMongolia\\NDVI\\DaySums_StdNormAnomalyRes\\TRMM_CQ_2003001.tif\n",
        "D:\\Data\\0_DAILY_INTERVAL_NDVI_TRMM\\InnerMongolia\\PLOT_CHARTS\\COHERENCE//Charts_Col27Row13CumPer4_raw.png"
       ]
      },
      {
       "output_type": "stream",
       "stream": "stdout",
       "text": [
        "\n",
        "\n"
       ]
      },
      {
       "output_type": "stream",
       "stream": "stdout",
       "text": [
        "D:\\Data\\0_DAILY_INTERVAL_NDVI_TRMM\\InnerMongolia\\TRMM\\150_Day_Period\\150_DaySums_StdNormAnomaly \n",
        "D:\\Data\\0_DAILY_INTERVAL_NDVI_TRMM\\InnerMongolia\\NDVI\\DaySums_StdNormAnomalyRes \n",
        "5\n",
        "3653"
       ]
      },
      {
       "output_type": "stream",
       "stream": "stdout",
       "text": [
        "\n",
        "D:\\Data\\0_DAILY_INTERVAL_NDVI_TRMM\\InnerMongolia\\TRMM\\150_Day_Period\\150_DaySums_StdNormAnomaly\\TRMM_CQ_2003001.tif\n",
        "D:\\Data\\0_DAILY_INTERVAL_NDVI_TRMM\\InnerMongolia\\PLOT_CHARTS\\COHERENCE//Charts_Col27Row13CumPer5_raw.png"
       ]
      },
      {
       "output_type": "stream",
       "stream": "stdout",
       "text": [
        "\n",
        "\n"
       ]
      },
      {
       "output_type": "stream",
       "stream": "stdout",
       "text": [
        "D:\\Data\\0_DAILY_INTERVAL_NDVI_TRMM\\InnerMongolia\\TRMM\\120_Day_Period\\120_DaySums_StdNormAnomaly \n",
        "D:\\Data\\0_DAILY_INTERVAL_NDVI_TRMM\\InnerMongolia\\NDVI\\DaySums_StdNormAnomalyRes \n",
        "4\n",
        "3653\n",
        "D:\\Data\\0_DAILY_INTERVAL_NDVI_TRMM\\InnerMongolia\\TRMM\\120_Day_Period\\120_DaySums_StdNormAnomaly\\TRMM_CQ_2003001.tif\n",
        "3651"
       ]
      },
      {
       "output_type": "stream",
       "stream": "stdout",
       "text": [
        "\n",
        "D:\\Data\\0_DAILY_INTERVAL_NDVI_TRMM\\InnerMongolia\\NDVI\\DaySums_StdNormAnomalyRes\\TRMM_CQ_2003001.tif\n",
        "D:\\Data\\0_DAILY_INTERVAL_NDVI_TRMM\\InnerMongolia\\PLOT_CHARTS\\COHERENCE//Charts_Col27Row14CumPer4_raw.png"
       ]
      },
      {
       "output_type": "stream",
       "stream": "stdout",
       "text": [
        "\n",
        "\n"
       ]
      },
      {
       "output_type": "stream",
       "stream": "stdout",
       "text": [
        "D:\\Data\\0_DAILY_INTERVAL_NDVI_TRMM\\InnerMongolia\\TRMM\\150_Day_Period\\150_DaySums_StdNormAnomaly \n",
        "D:\\Data\\0_DAILY_INTERVAL_NDVI_TRMM\\InnerMongolia\\NDVI\\DaySums_StdNormAnomalyRes \n",
        "5\n",
        "3653"
       ]
      },
      {
       "output_type": "stream",
       "stream": "stdout",
       "text": [
        "\n",
        "D:\\Data\\0_DAILY_INTERVAL_NDVI_TRMM\\InnerMongolia\\TRMM\\150_Day_Period\\150_DaySums_StdNormAnomaly\\TRMM_CQ_2003001.tif\n",
        "D:\\Data\\0_DAILY_INTERVAL_NDVI_TRMM\\InnerMongolia\\PLOT_CHARTS\\COHERENCE//Charts_Col27Row14CumPer5_raw.png"
       ]
      },
      {
       "output_type": "stream",
       "stream": "stdout",
       "text": [
        "\n",
        "\n"
       ]
      },
      {
       "output_type": "stream",
       "stream": "stdout",
       "text": [
        "D:\\Data\\0_DAILY_INTERVAL_NDVI_TRMM\\InnerMongolia\\TRMM\\120_Day_Period\\120_DaySums_StdNormAnomaly \n",
        "D:\\Data\\0_DAILY_INTERVAL_NDVI_TRMM\\InnerMongolia\\NDVI\\DaySums_StdNormAnomalyRes \n",
        "4\n",
        "3653"
       ]
      },
      {
       "output_type": "stream",
       "stream": "stdout",
       "text": [
        "\n",
        "D:\\Data\\0_DAILY_INTERVAL_NDVI_TRMM\\InnerMongolia\\TRMM\\120_Day_Period\\120_DaySums_StdNormAnomaly\\TRMM_CQ_2003001.tif\n",
        "3651"
       ]
      },
      {
       "output_type": "stream",
       "stream": "stdout",
       "text": [
        "\n",
        "D:\\Data\\0_DAILY_INTERVAL_NDVI_TRMM\\InnerMongolia\\NDVI\\DaySums_StdNormAnomalyRes\\TRMM_CQ_2003001.tif\n",
        "D:\\Data\\0_DAILY_INTERVAL_NDVI_TRMM\\InnerMongolia\\PLOT_CHARTS\\COHERENCE//Charts_Col27Row15CumPer4_raw.png"
       ]
      },
      {
       "output_type": "stream",
       "stream": "stdout",
       "text": [
        "\n",
        "\n"
       ]
      },
      {
       "output_type": "stream",
       "stream": "stdout",
       "text": [
        "D:\\Data\\0_DAILY_INTERVAL_NDVI_TRMM\\InnerMongolia\\TRMM\\150_Day_Period\\150_DaySums_StdNormAnomaly \n",
        "D:\\Data\\0_DAILY_INTERVAL_NDVI_TRMM\\InnerMongolia\\NDVI\\DaySums_StdNormAnomalyRes \n",
        "5\n",
        "3653"
       ]
      },
      {
       "output_type": "stream",
       "stream": "stdout",
       "text": [
        "\n",
        "D:\\Data\\0_DAILY_INTERVAL_NDVI_TRMM\\InnerMongolia\\TRMM\\150_Day_Period\\150_DaySums_StdNormAnomaly\\TRMM_CQ_2003001.tif\n",
        "D:\\Data\\0_DAILY_INTERVAL_NDVI_TRMM\\InnerMongolia\\PLOT_CHARTS\\COHERENCE//Charts_Col27Row15CumPer5_raw.png"
       ]
      },
      {
       "output_type": "stream",
       "stream": "stdout",
       "text": [
        "\n",
        "\n"
       ]
      },
      {
       "output_type": "stream",
       "stream": "stdout",
       "text": [
        "D:\\Data\\0_DAILY_INTERVAL_NDVI_TRMM\\InnerMongolia\\TRMM\\120_Day_Period\\120_DaySums_StdNormAnomaly \n",
        "D:\\Data\\0_DAILY_INTERVAL_NDVI_TRMM\\InnerMongolia\\NDVI\\DaySums_StdNormAnomalyRes \n",
        "4\n",
        "3653"
       ]
      },
      {
       "output_type": "stream",
       "stream": "stdout",
       "text": [
        "\n",
        "D:\\Data\\0_DAILY_INTERVAL_NDVI_TRMM\\InnerMongolia\\TRMM\\120_Day_Period\\120_DaySums_StdNormAnomaly\\TRMM_CQ_2003001.tif\n",
        "3651"
       ]
      },
      {
       "output_type": "stream",
       "stream": "stdout",
       "text": [
        "\n",
        "D:\\Data\\0_DAILY_INTERVAL_NDVI_TRMM\\InnerMongolia\\NDVI\\DaySums_StdNormAnomalyRes\\TRMM_CQ_2003001.tif\n",
        "D:\\Data\\0_DAILY_INTERVAL_NDVI_TRMM\\InnerMongolia\\PLOT_CHARTS\\COHERENCE//Charts_Col27Row16CumPer4_raw.png"
       ]
      },
      {
       "output_type": "stream",
       "stream": "stdout",
       "text": [
        "\n",
        "\n"
       ]
      },
      {
       "output_type": "stream",
       "stream": "stdout",
       "text": [
        "D:\\Data\\0_DAILY_INTERVAL_NDVI_TRMM\\InnerMongolia\\TRMM\\150_Day_Period\\150_DaySums_StdNormAnomaly \n",
        "D:\\Data\\0_DAILY_INTERVAL_NDVI_TRMM\\InnerMongolia\\NDVI\\DaySums_StdNormAnomalyRes \n",
        "5\n",
        "3653"
       ]
      },
      {
       "output_type": "stream",
       "stream": "stdout",
       "text": [
        "\n",
        "D:\\Data\\0_DAILY_INTERVAL_NDVI_TRMM\\InnerMongolia\\TRMM\\150_Day_Period\\150_DaySums_StdNormAnomaly\\TRMM_CQ_2003001.tif\n",
        "D:\\Data\\0_DAILY_INTERVAL_NDVI_TRMM\\InnerMongolia\\PLOT_CHARTS\\COHERENCE//Charts_Col27Row16CumPer5_raw.png"
       ]
      },
      {
       "output_type": "stream",
       "stream": "stdout",
       "text": [
        "\n",
        "\n"
       ]
      },
      {
       "output_type": "stream",
       "stream": "stdout",
       "text": [
        "D:\\Data\\0_DAILY_INTERVAL_NDVI_TRMM\\InnerMongolia\\TRMM\\120_Day_Period\\120_DaySums_StdNormAnomaly \n",
        "D:\\Data\\0_DAILY_INTERVAL_NDVI_TRMM\\InnerMongolia\\NDVI\\DaySums_StdNormAnomalyRes \n",
        "4\n",
        "3653"
       ]
      },
      {
       "output_type": "stream",
       "stream": "stdout",
       "text": [
        "\n",
        "D:\\Data\\0_DAILY_INTERVAL_NDVI_TRMM\\InnerMongolia\\TRMM\\120_Day_Period\\120_DaySums_StdNormAnomaly\\TRMM_CQ_2003001.tif\n",
        "3651"
       ]
      },
      {
       "output_type": "stream",
       "stream": "stdout",
       "text": [
        "\n",
        "D:\\Data\\0_DAILY_INTERVAL_NDVI_TRMM\\InnerMongolia\\NDVI\\DaySums_StdNormAnomalyRes\\TRMM_CQ_2003001.tif\n",
        "D:\\Data\\0_DAILY_INTERVAL_NDVI_TRMM\\InnerMongolia\\PLOT_CHARTS\\COHERENCE//Charts_Col27Row17CumPer4_raw.png"
       ]
      },
      {
       "output_type": "stream",
       "stream": "stdout",
       "text": [
        "\n",
        "\n"
       ]
      },
      {
       "output_type": "stream",
       "stream": "stdout",
       "text": [
        "D:\\Data\\0_DAILY_INTERVAL_NDVI_TRMM\\InnerMongolia\\TRMM\\150_Day_Period\\150_DaySums_StdNormAnomaly \n",
        "D:\\Data\\0_DAILY_INTERVAL_NDVI_TRMM\\InnerMongolia\\NDVI\\DaySums_StdNormAnomalyRes \n",
        "5\n",
        "3653"
       ]
      },
      {
       "output_type": "stream",
       "stream": "stdout",
       "text": [
        "\n",
        "D:\\Data\\0_DAILY_INTERVAL_NDVI_TRMM\\InnerMongolia\\TRMM\\150_Day_Period\\150_DaySums_StdNormAnomaly\\TRMM_CQ_2003001.tif\n",
        "D:\\Data\\0_DAILY_INTERVAL_NDVI_TRMM\\InnerMongolia\\PLOT_CHARTS\\COHERENCE//Charts_Col27Row17CumPer5_raw.png"
       ]
      },
      {
       "output_type": "stream",
       "stream": "stdout",
       "text": [
        "\n",
        "\n"
       ]
      },
      {
       "output_type": "stream",
       "stream": "stdout",
       "text": [
        "D:\\Data\\0_DAILY_INTERVAL_NDVI_TRMM\\InnerMongolia\\TRMM\\120_Day_Period\\120_DaySums_StdNormAnomaly \n",
        "D:\\Data\\0_DAILY_INTERVAL_NDVI_TRMM\\InnerMongolia\\NDVI\\DaySums_StdNormAnomalyRes \n",
        "4\n",
        "3653"
       ]
      },
      {
       "output_type": "stream",
       "stream": "stdout",
       "text": [
        "\n",
        "D:\\Data\\0_DAILY_INTERVAL_NDVI_TRMM\\InnerMongolia\\TRMM\\120_Day_Period\\120_DaySums_StdNormAnomaly\\TRMM_CQ_2003001.tif\n",
        "3651"
       ]
      },
      {
       "output_type": "stream",
       "stream": "stdout",
       "text": [
        "\n",
        "D:\\Data\\0_DAILY_INTERVAL_NDVI_TRMM\\InnerMongolia\\NDVI\\DaySums_StdNormAnomalyRes\\TRMM_CQ_2003001.tif\n",
        "D:\\Data\\0_DAILY_INTERVAL_NDVI_TRMM\\InnerMongolia\\PLOT_CHARTS\\COHERENCE//Charts_Col27Row18CumPer4_raw.png"
       ]
      },
      {
       "output_type": "stream",
       "stream": "stdout",
       "text": [
        "\n",
        "\n"
       ]
      },
      {
       "output_type": "stream",
       "stream": "stdout",
       "text": [
        "D:\\Data\\0_DAILY_INTERVAL_NDVI_TRMM\\InnerMongolia\\TRMM\\150_Day_Period\\150_DaySums_StdNormAnomaly \n",
        "D:\\Data\\0_DAILY_INTERVAL_NDVI_TRMM\\InnerMongolia\\NDVI\\DaySums_StdNormAnomalyRes \n",
        "5\n",
        "3653"
       ]
      },
      {
       "output_type": "stream",
       "stream": "stdout",
       "text": [
        "\n",
        "D:\\Data\\0_DAILY_INTERVAL_NDVI_TRMM\\InnerMongolia\\TRMM\\150_Day_Period\\150_DaySums_StdNormAnomaly\\TRMM_CQ_2003001.tif\n",
        "D:\\Data\\0_DAILY_INTERVAL_NDVI_TRMM\\InnerMongolia\\PLOT_CHARTS\\COHERENCE//Charts_Col27Row18CumPer5_raw.png"
       ]
      },
      {
       "output_type": "stream",
       "stream": "stdout",
       "text": [
        "\n",
        "\n"
       ]
      },
      {
       "output_type": "stream",
       "stream": "stdout",
       "text": [
        "D:\\Data\\0_DAILY_INTERVAL_NDVI_TRMM\\InnerMongolia\\TRMM\\120_Day_Period\\120_DaySums_StdNormAnomaly \n",
        "D:\\Data\\0_DAILY_INTERVAL_NDVI_TRMM\\InnerMongolia\\NDVI\\DaySums_StdNormAnomalyRes \n",
        "4\n",
        "3653\n",
        "D:\\Data\\0_DAILY_INTERVAL_NDVI_TRMM\\InnerMongolia\\TRMM\\120_Day_Period\\120_DaySums_StdNormAnomaly\\TRMM_CQ_2003001.tif\n",
        "3651"
       ]
      },
      {
       "output_type": "stream",
       "stream": "stdout",
       "text": [
        "\n",
        "D:\\Data\\0_DAILY_INTERVAL_NDVI_TRMM\\InnerMongolia\\NDVI\\DaySums_StdNormAnomalyRes\\TRMM_CQ_2003001.tif\n",
        "D:\\Data\\0_DAILY_INTERVAL_NDVI_TRMM\\InnerMongolia\\PLOT_CHARTS\\COHERENCE//Charts_Col27Row19CumPer4_raw.png"
       ]
      },
      {
       "output_type": "stream",
       "stream": "stdout",
       "text": [
        "\n",
        "\n"
       ]
      },
      {
       "output_type": "stream",
       "stream": "stdout",
       "text": [
        "D:\\Data\\0_DAILY_INTERVAL_NDVI_TRMM\\InnerMongolia\\TRMM\\150_Day_Period\\150_DaySums_StdNormAnomaly \n",
        "D:\\Data\\0_DAILY_INTERVAL_NDVI_TRMM\\InnerMongolia\\NDVI\\DaySums_StdNormAnomalyRes \n",
        "5\n",
        "3653"
       ]
      },
      {
       "output_type": "stream",
       "stream": "stdout",
       "text": [
        "\n",
        "D:\\Data\\0_DAILY_INTERVAL_NDVI_TRMM\\InnerMongolia\\TRMM\\150_Day_Period\\150_DaySums_StdNormAnomaly\\TRMM_CQ_2003001.tif\n",
        "D:\\Data\\0_DAILY_INTERVAL_NDVI_TRMM\\InnerMongolia\\PLOT_CHARTS\\COHERENCE//Charts_Col27Row19CumPer5_raw.png"
       ]
      },
      {
       "output_type": "stream",
       "stream": "stdout",
       "text": [
        "\n",
        "\n"
       ]
      },
      {
       "output_type": "stream",
       "stream": "stdout",
       "text": [
        "D:\\Data\\0_DAILY_INTERVAL_NDVI_TRMM\\InnerMongolia\\TRMM\\120_Day_Period\\120_DaySums_StdNormAnomaly \n",
        "D:\\Data\\0_DAILY_INTERVAL_NDVI_TRMM\\InnerMongolia\\NDVI\\DaySums_StdNormAnomalyRes \n",
        "4\n",
        "3653"
       ]
      },
      {
       "output_type": "stream",
       "stream": "stdout",
       "text": [
        "\n",
        "D:\\Data\\0_DAILY_INTERVAL_NDVI_TRMM\\InnerMongolia\\TRMM\\120_Day_Period\\120_DaySums_StdNormAnomaly\\TRMM_CQ_2003001.tif\n",
        "3651"
       ]
      },
      {
       "output_type": "stream",
       "stream": "stdout",
       "text": [
        "\n",
        "D:\\Data\\0_DAILY_INTERVAL_NDVI_TRMM\\InnerMongolia\\NDVI\\DaySums_StdNormAnomalyRes\\TRMM_CQ_2003001.tif\n",
        "D:\\Data\\0_DAILY_INTERVAL_NDVI_TRMM\\InnerMongolia\\PLOT_CHARTS\\COHERENCE//Charts_Col27Row20CumPer4_raw.png"
       ]
      },
      {
       "output_type": "stream",
       "stream": "stdout",
       "text": [
        "\n",
        "\n"
       ]
      },
      {
       "output_type": "stream",
       "stream": "stdout",
       "text": [
        "D:\\Data\\0_DAILY_INTERVAL_NDVI_TRMM\\InnerMongolia\\TRMM\\150_Day_Period\\150_DaySums_StdNormAnomaly \n",
        "D:\\Data\\0_DAILY_INTERVAL_NDVI_TRMM\\InnerMongolia\\NDVI\\DaySums_StdNormAnomalyRes \n",
        "5\n",
        "3653"
       ]
      },
      {
       "output_type": "stream",
       "stream": "stdout",
       "text": [
        "\n",
        "D:\\Data\\0_DAILY_INTERVAL_NDVI_TRMM\\InnerMongolia\\TRMM\\150_Day_Period\\150_DaySums_StdNormAnomaly\\TRMM_CQ_2003001.tif\n",
        "D:\\Data\\0_DAILY_INTERVAL_NDVI_TRMM\\InnerMongolia\\PLOT_CHARTS\\COHERENCE//Charts_Col27Row20CumPer5_raw.png"
       ]
      },
      {
       "output_type": "stream",
       "stream": "stdout",
       "text": [
        "\n",
        "\n"
       ]
      },
      {
       "output_type": "stream",
       "stream": "stdout",
       "text": [
        "D:\\Data\\0_DAILY_INTERVAL_NDVI_TRMM\\InnerMongolia\\TRMM\\120_Day_Period\\120_DaySums_StdNormAnomaly \n",
        "D:\\Data\\0_DAILY_INTERVAL_NDVI_TRMM\\InnerMongolia\\NDVI\\DaySums_StdNormAnomalyRes \n",
        "4\n",
        "3653"
       ]
      },
      {
       "output_type": "stream",
       "stream": "stdout",
       "text": [
        "\n",
        "D:\\Data\\0_DAILY_INTERVAL_NDVI_TRMM\\InnerMongolia\\TRMM\\120_Day_Period\\120_DaySums_StdNormAnomaly\\TRMM_CQ_2003001.tif\n",
        "3651"
       ]
      },
      {
       "output_type": "stream",
       "stream": "stdout",
       "text": [
        "\n",
        "D:\\Data\\0_DAILY_INTERVAL_NDVI_TRMM\\InnerMongolia\\NDVI\\DaySums_StdNormAnomalyRes\\TRMM_CQ_2003001.tif\n",
        "D:\\Data\\0_DAILY_INTERVAL_NDVI_TRMM\\InnerMongolia\\PLOT_CHARTS\\COHERENCE//Charts_Col27Row21CumPer4_raw.png"
       ]
      },
      {
       "output_type": "stream",
       "stream": "stdout",
       "text": [
        "\n",
        "\n"
       ]
      },
      {
       "output_type": "stream",
       "stream": "stdout",
       "text": [
        "D:\\Data\\0_DAILY_INTERVAL_NDVI_TRMM\\InnerMongolia\\TRMM\\150_Day_Period\\150_DaySums_StdNormAnomaly \n",
        "D:\\Data\\0_DAILY_INTERVAL_NDVI_TRMM\\InnerMongolia\\NDVI\\DaySums_StdNormAnomalyRes \n",
        "5\n",
        "3653"
       ]
      },
      {
       "output_type": "stream",
       "stream": "stdout",
       "text": [
        "\n",
        "D:\\Data\\0_DAILY_INTERVAL_NDVI_TRMM\\InnerMongolia\\TRMM\\150_Day_Period\\150_DaySums_StdNormAnomaly\\TRMM_CQ_2003001.tif\n",
        "D:\\Data\\0_DAILY_INTERVAL_NDVI_TRMM\\InnerMongolia\\PLOT_CHARTS\\COHERENCE//Charts_Col27Row21CumPer5_raw.png"
       ]
      },
      {
       "output_type": "stream",
       "stream": "stdout",
       "text": [
        "\n",
        "\n"
       ]
      },
      {
       "output_type": "stream",
       "stream": "stdout",
       "text": [
        "D:\\Data\\0_DAILY_INTERVAL_NDVI_TRMM\\InnerMongolia\\TRMM\\120_Day_Period\\120_DaySums_StdNormAnomaly \n",
        "D:\\Data\\0_DAILY_INTERVAL_NDVI_TRMM\\InnerMongolia\\NDVI\\DaySums_StdNormAnomalyRes \n",
        "4\n",
        "3653"
       ]
      },
      {
       "output_type": "stream",
       "stream": "stdout",
       "text": [
        "\n",
        "D:\\Data\\0_DAILY_INTERVAL_NDVI_TRMM\\InnerMongolia\\TRMM\\120_Day_Period\\120_DaySums_StdNormAnomaly\\TRMM_CQ_2003001.tif\n",
        "3651"
       ]
      },
      {
       "output_type": "stream",
       "stream": "stdout",
       "text": [
        "\n",
        "D:\\Data\\0_DAILY_INTERVAL_NDVI_TRMM\\InnerMongolia\\NDVI\\DaySums_StdNormAnomalyRes\\TRMM_CQ_2003001.tif\n",
        "D:\\Data\\0_DAILY_INTERVAL_NDVI_TRMM\\InnerMongolia\\PLOT_CHARTS\\COHERENCE//Charts_Col27Row22CumPer4_raw.png"
       ]
      },
      {
       "output_type": "stream",
       "stream": "stdout",
       "text": [
        "\n",
        "\n"
       ]
      },
      {
       "output_type": "stream",
       "stream": "stdout",
       "text": [
        "D:\\Data\\0_DAILY_INTERVAL_NDVI_TRMM\\InnerMongolia\\TRMM\\150_Day_Period\\150_DaySums_StdNormAnomaly \n",
        "D:\\Data\\0_DAILY_INTERVAL_NDVI_TRMM\\InnerMongolia\\NDVI\\DaySums_StdNormAnomalyRes \n",
        "5\n",
        "3653"
       ]
      },
      {
       "output_type": "stream",
       "stream": "stdout",
       "text": [
        "\n",
        "D:\\Data\\0_DAILY_INTERVAL_NDVI_TRMM\\InnerMongolia\\TRMM\\150_Day_Period\\150_DaySums_StdNormAnomaly\\TRMM_CQ_2003001.tif\n",
        "D:\\Data\\0_DAILY_INTERVAL_NDVI_TRMM\\InnerMongolia\\PLOT_CHARTS\\COHERENCE//Charts_Col27Row22CumPer5_raw.png"
       ]
      },
      {
       "output_type": "stream",
       "stream": "stdout",
       "text": [
        "\n",
        "\n"
       ]
      },
      {
       "output_type": "stream",
       "stream": "stdout",
       "text": [
        "D:\\Data\\0_DAILY_INTERVAL_NDVI_TRMM\\InnerMongolia\\TRMM\\120_Day_Period\\120_DaySums_StdNormAnomaly \n",
        "D:\\Data\\0_DAILY_INTERVAL_NDVI_TRMM\\InnerMongolia\\NDVI\\DaySums_StdNormAnomalyRes \n",
        "4\n",
        "3653"
       ]
      },
      {
       "output_type": "stream",
       "stream": "stdout",
       "text": [
        "\n",
        "D:\\Data\\0_DAILY_INTERVAL_NDVI_TRMM\\InnerMongolia\\TRMM\\120_Day_Period\\120_DaySums_StdNormAnomaly\\TRMM_CQ_2003001.tif\n",
        "3651"
       ]
      },
      {
       "output_type": "stream",
       "stream": "stdout",
       "text": [
        "\n",
        "D:\\Data\\0_DAILY_INTERVAL_NDVI_TRMM\\InnerMongolia\\NDVI\\DaySums_StdNormAnomalyRes\\TRMM_CQ_2003001.tif\n",
        "D:\\Data\\0_DAILY_INTERVAL_NDVI_TRMM\\InnerMongolia\\PLOT_CHARTS\\COHERENCE//Charts_Col27Row23CumPer4_raw.png"
       ]
      },
      {
       "output_type": "stream",
       "stream": "stdout",
       "text": [
        "\n",
        "\n"
       ]
      },
      {
       "output_type": "stream",
       "stream": "stdout",
       "text": [
        "D:\\Data\\0_DAILY_INTERVAL_NDVI_TRMM\\InnerMongolia\\TRMM\\150_Day_Period\\150_DaySums_StdNormAnomaly \n",
        "D:\\Data\\0_DAILY_INTERVAL_NDVI_TRMM\\InnerMongolia\\NDVI\\DaySums_StdNormAnomalyRes \n",
        "5\n",
        "3653"
       ]
      },
      {
       "output_type": "stream",
       "stream": "stdout",
       "text": [
        "\n",
        "D:\\Data\\0_DAILY_INTERVAL_NDVI_TRMM\\InnerMongolia\\TRMM\\150_Day_Period\\150_DaySums_StdNormAnomaly\\TRMM_CQ_2003001.tif\n",
        "D:\\Data\\0_DAILY_INTERVAL_NDVI_TRMM\\InnerMongolia\\PLOT_CHARTS\\COHERENCE//Charts_Col27Row23CumPer5_raw.png"
       ]
      },
      {
       "output_type": "stream",
       "stream": "stdout",
       "text": [
        "\n",
        "\n"
       ]
      },
      {
       "output_type": "stream",
       "stream": "stdout",
       "text": [
        "D:\\Data\\0_DAILY_INTERVAL_NDVI_TRMM\\InnerMongolia\\TRMM\\120_Day_Period\\120_DaySums_StdNormAnomaly \n",
        "D:\\Data\\0_DAILY_INTERVAL_NDVI_TRMM\\InnerMongolia\\NDVI\\DaySums_StdNormAnomalyRes \n",
        "4\n",
        "3653"
       ]
      },
      {
       "output_type": "stream",
       "stream": "stdout",
       "text": [
        "\n",
        "D:\\Data\\0_DAILY_INTERVAL_NDVI_TRMM\\InnerMongolia\\TRMM\\120_Day_Period\\120_DaySums_StdNormAnomaly\\TRMM_CQ_2003001.tif\n",
        "3651"
       ]
      },
      {
       "output_type": "stream",
       "stream": "stdout",
       "text": [
        "\n",
        "D:\\Data\\0_DAILY_INTERVAL_NDVI_TRMM\\InnerMongolia\\NDVI\\DaySums_StdNormAnomalyRes\\TRMM_CQ_2003001.tif\n",
        "D:\\Data\\0_DAILY_INTERVAL_NDVI_TRMM\\InnerMongolia\\PLOT_CHARTS\\COHERENCE//Charts_Col28Row13CumPer4_raw.png"
       ]
      },
      {
       "output_type": "stream",
       "stream": "stdout",
       "text": [
        "\n",
        "\n"
       ]
      },
      {
       "output_type": "stream",
       "stream": "stdout",
       "text": [
        "D:\\Data\\0_DAILY_INTERVAL_NDVI_TRMM\\InnerMongolia\\TRMM\\150_Day_Period\\150_DaySums_StdNormAnomaly \n",
        "D:\\Data\\0_DAILY_INTERVAL_NDVI_TRMM\\InnerMongolia\\NDVI\\DaySums_StdNormAnomalyRes \n",
        "5\n",
        "3653"
       ]
      },
      {
       "output_type": "stream",
       "stream": "stdout",
       "text": [
        "\n",
        "D:\\Data\\0_DAILY_INTERVAL_NDVI_TRMM\\InnerMongolia\\TRMM\\150_Day_Period\\150_DaySums_StdNormAnomaly\\TRMM_CQ_2003001.tif\n",
        "D:\\Data\\0_DAILY_INTERVAL_NDVI_TRMM\\InnerMongolia\\PLOT_CHARTS\\COHERENCE//Charts_Col28Row13CumPer5_raw.png"
       ]
      },
      {
       "output_type": "stream",
       "stream": "stdout",
       "text": [
        "\n",
        "\n"
       ]
      },
      {
       "output_type": "stream",
       "stream": "stdout",
       "text": [
        "D:\\Data\\0_DAILY_INTERVAL_NDVI_TRMM\\InnerMongolia\\TRMM\\120_Day_Period\\120_DaySums_StdNormAnomaly \n",
        "D:\\Data\\0_DAILY_INTERVAL_NDVI_TRMM\\InnerMongolia\\NDVI\\DaySums_StdNormAnomalyRes \n",
        "4\n",
        "3653"
       ]
      },
      {
       "output_type": "stream",
       "stream": "stdout",
       "text": [
        "\n",
        "D:\\Data\\0_DAILY_INTERVAL_NDVI_TRMM\\InnerMongolia\\TRMM\\120_Day_Period\\120_DaySums_StdNormAnomaly\\TRMM_CQ_2003001.tif\n",
        "3651"
       ]
      },
      {
       "output_type": "stream",
       "stream": "stdout",
       "text": [
        "\n",
        "D:\\Data\\0_DAILY_INTERVAL_NDVI_TRMM\\InnerMongolia\\NDVI\\DaySums_StdNormAnomalyRes\\TRMM_CQ_2003001.tif\n",
        "D:\\Data\\0_DAILY_INTERVAL_NDVI_TRMM\\InnerMongolia\\PLOT_CHARTS\\COHERENCE//Charts_Col28Row14CumPer4_raw.png"
       ]
      },
      {
       "output_type": "stream",
       "stream": "stdout",
       "text": [
        "\n",
        "\n"
       ]
      },
      {
       "output_type": "stream",
       "stream": "stdout",
       "text": [
        "D:\\Data\\0_DAILY_INTERVAL_NDVI_TRMM\\InnerMongolia\\TRMM\\150_Day_Period\\150_DaySums_StdNormAnomaly \n",
        "D:\\Data\\0_DAILY_INTERVAL_NDVI_TRMM\\InnerMongolia\\NDVI\\DaySums_StdNormAnomalyRes \n",
        "5\n",
        "3653"
       ]
      },
      {
       "output_type": "stream",
       "stream": "stdout",
       "text": [
        "\n",
        "D:\\Data\\0_DAILY_INTERVAL_NDVI_TRMM\\InnerMongolia\\TRMM\\150_Day_Period\\150_DaySums_StdNormAnomaly\\TRMM_CQ_2003001.tif\n",
        "D:\\Data\\0_DAILY_INTERVAL_NDVI_TRMM\\InnerMongolia\\PLOT_CHARTS\\COHERENCE//Charts_Col28Row14CumPer5_raw.png"
       ]
      },
      {
       "output_type": "stream",
       "stream": "stdout",
       "text": [
        "\n",
        "\n"
       ]
      },
      {
       "output_type": "stream",
       "stream": "stdout",
       "text": [
        "D:\\Data\\0_DAILY_INTERVAL_NDVI_TRMM\\InnerMongolia\\TRMM\\120_Day_Period\\120_DaySums_StdNormAnomaly \n",
        "D:\\Data\\0_DAILY_INTERVAL_NDVI_TRMM\\InnerMongolia\\NDVI\\DaySums_StdNormAnomalyRes \n",
        "4\n",
        "3653"
       ]
      },
      {
       "output_type": "stream",
       "stream": "stdout",
       "text": [
        "\n",
        "D:\\Data\\0_DAILY_INTERVAL_NDVI_TRMM\\InnerMongolia\\TRMM\\120_Day_Period\\120_DaySums_StdNormAnomaly\\TRMM_CQ_2003001.tif\n",
        "3651"
       ]
      },
      {
       "output_type": "stream",
       "stream": "stdout",
       "text": [
        "\n",
        "D:\\Data\\0_DAILY_INTERVAL_NDVI_TRMM\\InnerMongolia\\NDVI\\DaySums_StdNormAnomalyRes\\TRMM_CQ_2003001.tif\n",
        "D:\\Data\\0_DAILY_INTERVAL_NDVI_TRMM\\InnerMongolia\\PLOT_CHARTS\\COHERENCE//Charts_Col28Row15CumPer4_raw.png"
       ]
      },
      {
       "output_type": "stream",
       "stream": "stdout",
       "text": [
        "\n",
        "\n"
       ]
      },
      {
       "output_type": "stream",
       "stream": "stdout",
       "text": [
        "D:\\Data\\0_DAILY_INTERVAL_NDVI_TRMM\\InnerMongolia\\TRMM\\150_Day_Period\\150_DaySums_StdNormAnomaly \n",
        "D:\\Data\\0_DAILY_INTERVAL_NDVI_TRMM\\InnerMongolia\\NDVI\\DaySums_StdNormAnomalyRes \n",
        "5\n",
        "3653"
       ]
      },
      {
       "output_type": "stream",
       "stream": "stdout",
       "text": [
        "\n",
        "D:\\Data\\0_DAILY_INTERVAL_NDVI_TRMM\\InnerMongolia\\TRMM\\150_Day_Period\\150_DaySums_StdNormAnomaly\\TRMM_CQ_2003001.tif\n",
        "D:\\Data\\0_DAILY_INTERVAL_NDVI_TRMM\\InnerMongolia\\PLOT_CHARTS\\COHERENCE//Charts_Col28Row15CumPer5_raw.png"
       ]
      },
      {
       "output_type": "stream",
       "stream": "stdout",
       "text": [
        "\n",
        "\n"
       ]
      },
      {
       "output_type": "stream",
       "stream": "stdout",
       "text": [
        "D:\\Data\\0_DAILY_INTERVAL_NDVI_TRMM\\InnerMongolia\\TRMM\\120_Day_Period\\120_DaySums_StdNormAnomaly \n",
        "D:\\Data\\0_DAILY_INTERVAL_NDVI_TRMM\\InnerMongolia\\NDVI\\DaySums_StdNormAnomalyRes \n",
        "4\n",
        "3653"
       ]
      },
      {
       "output_type": "stream",
       "stream": "stdout",
       "text": [
        "\n",
        "D:\\Data\\0_DAILY_INTERVAL_NDVI_TRMM\\InnerMongolia\\TRMM\\120_Day_Period\\120_DaySums_StdNormAnomaly\\TRMM_CQ_2003001.tif\n",
        "3651"
       ]
      },
      {
       "output_type": "stream",
       "stream": "stdout",
       "text": [
        "\n",
        "D:\\Data\\0_DAILY_INTERVAL_NDVI_TRMM\\InnerMongolia\\NDVI\\DaySums_StdNormAnomalyRes\\TRMM_CQ_2003001.tif\n",
        "D:\\Data\\0_DAILY_INTERVAL_NDVI_TRMM\\InnerMongolia\\PLOT_CHARTS\\COHERENCE//Charts_Col28Row16CumPer4_raw.png"
       ]
      },
      {
       "output_type": "stream",
       "stream": "stdout",
       "text": [
        "\n",
        "\n"
       ]
      },
      {
       "output_type": "stream",
       "stream": "stdout",
       "text": [
        "D:\\Data\\0_DAILY_INTERVAL_NDVI_TRMM\\InnerMongolia\\TRMM\\150_Day_Period\\150_DaySums_StdNormAnomaly \n",
        "D:\\Data\\0_DAILY_INTERVAL_NDVI_TRMM\\InnerMongolia\\NDVI\\DaySums_StdNormAnomalyRes \n",
        "5\n",
        "3653"
       ]
      },
      {
       "output_type": "stream",
       "stream": "stdout",
       "text": [
        "\n",
        "D:\\Data\\0_DAILY_INTERVAL_NDVI_TRMM\\InnerMongolia\\TRMM\\150_Day_Period\\150_DaySums_StdNormAnomaly\\TRMM_CQ_2003001.tif\n",
        "D:\\Data\\0_DAILY_INTERVAL_NDVI_TRMM\\InnerMongolia\\PLOT_CHARTS\\COHERENCE//Charts_Col28Row16CumPer5_raw.png"
       ]
      },
      {
       "output_type": "stream",
       "stream": "stdout",
       "text": [
        "\n",
        "\n"
       ]
      },
      {
       "output_type": "stream",
       "stream": "stdout",
       "text": [
        "D:\\Data\\0_DAILY_INTERVAL_NDVI_TRMM\\InnerMongolia\\TRMM\\120_Day_Period\\120_DaySums_StdNormAnomaly \n",
        "D:\\Data\\0_DAILY_INTERVAL_NDVI_TRMM\\InnerMongolia\\NDVI\\DaySums_StdNormAnomalyRes \n",
        "4\n",
        "3653"
       ]
      },
      {
       "output_type": "stream",
       "stream": "stdout",
       "text": [
        "\n",
        "D:\\Data\\0_DAILY_INTERVAL_NDVI_TRMM\\InnerMongolia\\TRMM\\120_Day_Period\\120_DaySums_StdNormAnomaly\\TRMM_CQ_2003001.tif\n",
        "3651"
       ]
      },
      {
       "output_type": "stream",
       "stream": "stdout",
       "text": [
        "\n",
        "D:\\Data\\0_DAILY_INTERVAL_NDVI_TRMM\\InnerMongolia\\NDVI\\DaySums_StdNormAnomalyRes\\TRMM_CQ_2003001.tif\n",
        "D:\\Data\\0_DAILY_INTERVAL_NDVI_TRMM\\InnerMongolia\\PLOT_CHARTS\\COHERENCE//Charts_Col28Row17CumPer4_raw.png"
       ]
      },
      {
       "output_type": "stream",
       "stream": "stdout",
       "text": [
        "\n",
        "\n"
       ]
      },
      {
       "output_type": "stream",
       "stream": "stdout",
       "text": [
        "D:\\Data\\0_DAILY_INTERVAL_NDVI_TRMM\\InnerMongolia\\TRMM\\150_Day_Period\\150_DaySums_StdNormAnomaly \n",
        "D:\\Data\\0_DAILY_INTERVAL_NDVI_TRMM\\InnerMongolia\\NDVI\\DaySums_StdNormAnomalyRes \n",
        "5\n",
        "3653"
       ]
      },
      {
       "output_type": "stream",
       "stream": "stdout",
       "text": [
        "\n",
        "D:\\Data\\0_DAILY_INTERVAL_NDVI_TRMM\\InnerMongolia\\TRMM\\150_Day_Period\\150_DaySums_StdNormAnomaly\\TRMM_CQ_2003001.tif\n",
        "D:\\Data\\0_DAILY_INTERVAL_NDVI_TRMM\\InnerMongolia\\PLOT_CHARTS\\COHERENCE//Charts_Col28Row17CumPer5_raw.png"
       ]
      },
      {
       "output_type": "stream",
       "stream": "stdout",
       "text": [
        "\n",
        "\n"
       ]
      },
      {
       "output_type": "stream",
       "stream": "stdout",
       "text": [
        "D:\\Data\\0_DAILY_INTERVAL_NDVI_TRMM\\InnerMongolia\\TRMM\\120_Day_Period\\120_DaySums_StdNormAnomaly \n",
        "D:\\Data\\0_DAILY_INTERVAL_NDVI_TRMM\\InnerMongolia\\NDVI\\DaySums_StdNormAnomalyRes \n",
        "4\n",
        "3653"
       ]
      },
      {
       "output_type": "stream",
       "stream": "stdout",
       "text": [
        "\n",
        "D:\\Data\\0_DAILY_INTERVAL_NDVI_TRMM\\InnerMongolia\\TRMM\\120_Day_Period\\120_DaySums_StdNormAnomaly\\TRMM_CQ_2003001.tif\n",
        "3651"
       ]
      },
      {
       "output_type": "stream",
       "stream": "stdout",
       "text": [
        "\n",
        "D:\\Data\\0_DAILY_INTERVAL_NDVI_TRMM\\InnerMongolia\\NDVI\\DaySums_StdNormAnomalyRes\\TRMM_CQ_2003001.tif\n",
        "D:\\Data\\0_DAILY_INTERVAL_NDVI_TRMM\\InnerMongolia\\PLOT_CHARTS\\COHERENCE//Charts_Col28Row18CumPer4_raw.png"
       ]
      },
      {
       "output_type": "stream",
       "stream": "stdout",
       "text": [
        "\n",
        "\n"
       ]
      },
      {
       "output_type": "stream",
       "stream": "stdout",
       "text": [
        "D:\\Data\\0_DAILY_INTERVAL_NDVI_TRMM\\InnerMongolia\\TRMM\\150_Day_Period\\150_DaySums_StdNormAnomaly \n",
        "D:\\Data\\0_DAILY_INTERVAL_NDVI_TRMM\\InnerMongolia\\NDVI\\DaySums_StdNormAnomalyRes \n",
        "5\n",
        "3653"
       ]
      },
      {
       "output_type": "stream",
       "stream": "stdout",
       "text": [
        "\n",
        "D:\\Data\\0_DAILY_INTERVAL_NDVI_TRMM\\InnerMongolia\\TRMM\\150_Day_Period\\150_DaySums_StdNormAnomaly\\TRMM_CQ_2003001.tif\n",
        "D:\\Data\\0_DAILY_INTERVAL_NDVI_TRMM\\InnerMongolia\\PLOT_CHARTS\\COHERENCE//Charts_Col28Row18CumPer5_raw.png"
       ]
      },
      {
       "output_type": "stream",
       "stream": "stdout",
       "text": [
        "\n",
        "\n"
       ]
      },
      {
       "output_type": "stream",
       "stream": "stdout",
       "text": [
        "D:\\Data\\0_DAILY_INTERVAL_NDVI_TRMM\\InnerMongolia\\TRMM\\120_Day_Period\\120_DaySums_StdNormAnomaly \n",
        "D:\\Data\\0_DAILY_INTERVAL_NDVI_TRMM\\InnerMongolia\\NDVI\\DaySums_StdNormAnomalyRes \n",
        "4\n",
        "3653"
       ]
      },
      {
       "output_type": "stream",
       "stream": "stdout",
       "text": [
        "\n",
        "D:\\Data\\0_DAILY_INTERVAL_NDVI_TRMM\\InnerMongolia\\TRMM\\120_Day_Period\\120_DaySums_StdNormAnomaly\\TRMM_CQ_2003001.tif\n",
        "3651"
       ]
      },
      {
       "output_type": "stream",
       "stream": "stdout",
       "text": [
        "\n",
        "D:\\Data\\0_DAILY_INTERVAL_NDVI_TRMM\\InnerMongolia\\NDVI\\DaySums_StdNormAnomalyRes\\TRMM_CQ_2003001.tif\n",
        "D:\\Data\\0_DAILY_INTERVAL_NDVI_TRMM\\InnerMongolia\\PLOT_CHARTS\\COHERENCE//Charts_Col28Row19CumPer4_raw.png"
       ]
      },
      {
       "output_type": "stream",
       "stream": "stdout",
       "text": [
        "\n",
        "\n"
       ]
      },
      {
       "output_type": "stream",
       "stream": "stdout",
       "text": [
        "D:\\Data\\0_DAILY_INTERVAL_NDVI_TRMM\\InnerMongolia\\TRMM\\150_Day_Period\\150_DaySums_StdNormAnomaly \n",
        "D:\\Data\\0_DAILY_INTERVAL_NDVI_TRMM\\InnerMongolia\\NDVI\\DaySums_StdNormAnomalyRes \n",
        "5\n",
        "3653"
       ]
      },
      {
       "output_type": "stream",
       "stream": "stdout",
       "text": [
        "\n",
        "D:\\Data\\0_DAILY_INTERVAL_NDVI_TRMM\\InnerMongolia\\TRMM\\150_Day_Period\\150_DaySums_StdNormAnomaly\\TRMM_CQ_2003001.tif\n",
        "D:\\Data\\0_DAILY_INTERVAL_NDVI_TRMM\\InnerMongolia\\PLOT_CHARTS\\COHERENCE//Charts_Col28Row19CumPer5_raw.png"
       ]
      },
      {
       "output_type": "stream",
       "stream": "stdout",
       "text": [
        "\n",
        "\n"
       ]
      },
      {
       "output_type": "stream",
       "stream": "stdout",
       "text": [
        "D:\\Data\\0_DAILY_INTERVAL_NDVI_TRMM\\InnerMongolia\\TRMM\\120_Day_Period\\120_DaySums_StdNormAnomaly \n",
        "D:\\Data\\0_DAILY_INTERVAL_NDVI_TRMM\\InnerMongolia\\NDVI\\DaySums_StdNormAnomalyRes \n",
        "4\n",
        "3653"
       ]
      },
      {
       "output_type": "stream",
       "stream": "stdout",
       "text": [
        "\n",
        "D:\\Data\\0_DAILY_INTERVAL_NDVI_TRMM\\InnerMongolia\\TRMM\\120_Day_Period\\120_DaySums_StdNormAnomaly\\TRMM_CQ_2003001.tif\n",
        "3651"
       ]
      },
      {
       "output_type": "stream",
       "stream": "stdout",
       "text": [
        "\n",
        "D:\\Data\\0_DAILY_INTERVAL_NDVI_TRMM\\InnerMongolia\\NDVI\\DaySums_StdNormAnomalyRes\\TRMM_CQ_2003001.tif\n",
        "D:\\Data\\0_DAILY_INTERVAL_NDVI_TRMM\\InnerMongolia\\PLOT_CHARTS\\COHERENCE//Charts_Col28Row20CumPer4_raw.png"
       ]
      },
      {
       "output_type": "stream",
       "stream": "stdout",
       "text": [
        "\n",
        "\n"
       ]
      },
      {
       "output_type": "stream",
       "stream": "stdout",
       "text": [
        "D:\\Data\\0_DAILY_INTERVAL_NDVI_TRMM\\InnerMongolia\\TRMM\\150_Day_Period\\150_DaySums_StdNormAnomaly \n",
        "D:\\Data\\0_DAILY_INTERVAL_NDVI_TRMM\\InnerMongolia\\NDVI\\DaySums_StdNormAnomalyRes \n",
        "5\n",
        "3653"
       ]
      },
      {
       "output_type": "stream",
       "stream": "stdout",
       "text": [
        "\n",
        "D:\\Data\\0_DAILY_INTERVAL_NDVI_TRMM\\InnerMongolia\\TRMM\\150_Day_Period\\150_DaySums_StdNormAnomaly\\TRMM_CQ_2003001.tif\n",
        "D:\\Data\\0_DAILY_INTERVAL_NDVI_TRMM\\InnerMongolia\\PLOT_CHARTS\\COHERENCE//Charts_Col28Row20CumPer5_raw.png"
       ]
      },
      {
       "output_type": "stream",
       "stream": "stdout",
       "text": [
        "\n",
        "\n"
       ]
      },
      {
       "output_type": "stream",
       "stream": "stdout",
       "text": [
        "D:\\Data\\0_DAILY_INTERVAL_NDVI_TRMM\\InnerMongolia\\TRMM\\120_Day_Period\\120_DaySums_StdNormAnomaly \n",
        "D:\\Data\\0_DAILY_INTERVAL_NDVI_TRMM\\InnerMongolia\\NDVI\\DaySums_StdNormAnomalyRes \n",
        "4\n",
        "3653"
       ]
      },
      {
       "output_type": "stream",
       "stream": "stdout",
       "text": [
        "\n",
        "D:\\Data\\0_DAILY_INTERVAL_NDVI_TRMM\\InnerMongolia\\TRMM\\120_Day_Period\\120_DaySums_StdNormAnomaly\\TRMM_CQ_2003001.tif\n",
        "3651"
       ]
      },
      {
       "output_type": "stream",
       "stream": "stdout",
       "text": [
        "\n",
        "D:\\Data\\0_DAILY_INTERVAL_NDVI_TRMM\\InnerMongolia\\NDVI\\DaySums_StdNormAnomalyRes\\TRMM_CQ_2003001.tif\n",
        "D:\\Data\\0_DAILY_INTERVAL_NDVI_TRMM\\InnerMongolia\\PLOT_CHARTS\\COHERENCE//Charts_Col28Row21CumPer4_raw.png"
       ]
      },
      {
       "output_type": "stream",
       "stream": "stdout",
       "text": [
        "\n",
        "\n"
       ]
      },
      {
       "output_type": "stream",
       "stream": "stdout",
       "text": [
        "D:\\Data\\0_DAILY_INTERVAL_NDVI_TRMM\\InnerMongolia\\TRMM\\150_Day_Period\\150_DaySums_StdNormAnomaly \n",
        "D:\\Data\\0_DAILY_INTERVAL_NDVI_TRMM\\InnerMongolia\\NDVI\\DaySums_StdNormAnomalyRes \n",
        "5\n",
        "3653"
       ]
      },
      {
       "output_type": "stream",
       "stream": "stdout",
       "text": [
        "\n",
        "D:\\Data\\0_DAILY_INTERVAL_NDVI_TRMM\\InnerMongolia\\TRMM\\150_Day_Period\\150_DaySums_StdNormAnomaly\\TRMM_CQ_2003001.tif\n",
        "D:\\Data\\0_DAILY_INTERVAL_NDVI_TRMM\\InnerMongolia\\PLOT_CHARTS\\COHERENCE//Charts_Col28Row21CumPer5_raw.png"
       ]
      },
      {
       "output_type": "stream",
       "stream": "stdout",
       "text": [
        "\n",
        "\n"
       ]
      },
      {
       "output_type": "stream",
       "stream": "stdout",
       "text": [
        "D:\\Data\\0_DAILY_INTERVAL_NDVI_TRMM\\InnerMongolia\\TRMM\\120_Day_Period\\120_DaySums_StdNormAnomaly \n",
        "D:\\Data\\0_DAILY_INTERVAL_NDVI_TRMM\\InnerMongolia\\NDVI\\DaySums_StdNormAnomalyRes \n",
        "4\n",
        "3653"
       ]
      },
      {
       "output_type": "stream",
       "stream": "stdout",
       "text": [
        "\n",
        "D:\\Data\\0_DAILY_INTERVAL_NDVI_TRMM\\InnerMongolia\\TRMM\\120_Day_Period\\120_DaySums_StdNormAnomaly\\TRMM_CQ_2003001.tif\n",
        "3651"
       ]
      },
      {
       "output_type": "stream",
       "stream": "stdout",
       "text": [
        "\n",
        "D:\\Data\\0_DAILY_INTERVAL_NDVI_TRMM\\InnerMongolia\\NDVI\\DaySums_StdNormAnomalyRes\\TRMM_CQ_2003001.tif\n",
        "D:\\Data\\0_DAILY_INTERVAL_NDVI_TRMM\\InnerMongolia\\PLOT_CHARTS\\COHERENCE//Charts_Col28Row22CumPer4_raw.png"
       ]
      },
      {
       "output_type": "stream",
       "stream": "stdout",
       "text": [
        "\n",
        "\n"
       ]
      },
      {
       "output_type": "stream",
       "stream": "stdout",
       "text": [
        "D:\\Data\\0_DAILY_INTERVAL_NDVI_TRMM\\InnerMongolia\\TRMM\\150_Day_Period\\150_DaySums_StdNormAnomaly \n",
        "D:\\Data\\0_DAILY_INTERVAL_NDVI_TRMM\\InnerMongolia\\NDVI\\DaySums_StdNormAnomalyRes \n",
        "5\n",
        "3653"
       ]
      },
      {
       "output_type": "stream",
       "stream": "stdout",
       "text": [
        "\n",
        "D:\\Data\\0_DAILY_INTERVAL_NDVI_TRMM\\InnerMongolia\\TRMM\\150_Day_Period\\150_DaySums_StdNormAnomaly\\TRMM_CQ_2003001.tif\n",
        "D:\\Data\\0_DAILY_INTERVAL_NDVI_TRMM\\InnerMongolia\\PLOT_CHARTS\\COHERENCE//Charts_Col28Row22CumPer5_raw.png"
       ]
      },
      {
       "output_type": "stream",
       "stream": "stdout",
       "text": [
        "\n",
        "\n"
       ]
      },
      {
       "output_type": "stream",
       "stream": "stdout",
       "text": [
        "D:\\Data\\0_DAILY_INTERVAL_NDVI_TRMM\\InnerMongolia\\TRMM\\120_Day_Period\\120_DaySums_StdNormAnomaly \n",
        "D:\\Data\\0_DAILY_INTERVAL_NDVI_TRMM\\InnerMongolia\\NDVI\\DaySums_StdNormAnomalyRes \n",
        "4\n",
        "3653"
       ]
      },
      {
       "output_type": "stream",
       "stream": "stdout",
       "text": [
        "\n",
        "D:\\Data\\0_DAILY_INTERVAL_NDVI_TRMM\\InnerMongolia\\TRMM\\120_Day_Period\\120_DaySums_StdNormAnomaly\\TRMM_CQ_2003001.tif\n",
        "3651"
       ]
      },
      {
       "output_type": "stream",
       "stream": "stdout",
       "text": [
        "\n",
        "D:\\Data\\0_DAILY_INTERVAL_NDVI_TRMM\\InnerMongolia\\NDVI\\DaySums_StdNormAnomalyRes\\TRMM_CQ_2003001.tif\n",
        "D:\\Data\\0_DAILY_INTERVAL_NDVI_TRMM\\InnerMongolia\\PLOT_CHARTS\\COHERENCE//Charts_Col28Row23CumPer4_raw.png"
       ]
      },
      {
       "output_type": "stream",
       "stream": "stdout",
       "text": [
        "\n",
        "\n"
       ]
      },
      {
       "output_type": "stream",
       "stream": "stdout",
       "text": [
        "D:\\Data\\0_DAILY_INTERVAL_NDVI_TRMM\\InnerMongolia\\TRMM\\150_Day_Period\\150_DaySums_StdNormAnomaly \n",
        "D:\\Data\\0_DAILY_INTERVAL_NDVI_TRMM\\InnerMongolia\\NDVI\\DaySums_StdNormAnomalyRes \n",
        "5\n",
        "3653\n",
        "D:\\Data\\0_DAILY_INTERVAL_NDVI_TRMM\\InnerMongolia\\TRMM\\150_Day_Period\\150_DaySums_StdNormAnomaly\\TRMM_CQ_2003001.tif\n",
        "D:\\Data\\0_DAILY_INTERVAL_NDVI_TRMM\\InnerMongolia\\PLOT_CHARTS\\COHERENCE//Charts_Col28Row23CumPer5_raw.png"
       ]
      },
      {
       "output_type": "stream",
       "stream": "stdout",
       "text": [
        "\n",
        "\n"
       ]
      },
      {
       "output_type": "stream",
       "stream": "stdout",
       "text": [
        "D:\\Data\\0_DAILY_INTERVAL_NDVI_TRMM\\InnerMongolia\\TRMM\\120_Day_Period\\120_DaySums_StdNormAnomaly \n",
        "D:\\Data\\0_DAILY_INTERVAL_NDVI_TRMM\\InnerMongolia\\NDVI\\DaySums_StdNormAnomalyRes \n",
        "4\n",
        "3653"
       ]
      },
      {
       "output_type": "stream",
       "stream": "stdout",
       "text": [
        "\n",
        "D:\\Data\\0_DAILY_INTERVAL_NDVI_TRMM\\InnerMongolia\\TRMM\\120_Day_Period\\120_DaySums_StdNormAnomaly\\TRMM_CQ_2003001.tif\n",
        "3651"
       ]
      },
      {
       "output_type": "stream",
       "stream": "stdout",
       "text": [
        "\n",
        "D:\\Data\\0_DAILY_INTERVAL_NDVI_TRMM\\InnerMongolia\\NDVI\\DaySums_StdNormAnomalyRes\\TRMM_CQ_2003001.tif\n",
        "D:\\Data\\0_DAILY_INTERVAL_NDVI_TRMM\\InnerMongolia\\PLOT_CHARTS\\COHERENCE//Charts_Col29Row13CumPer4_raw.png"
       ]
      },
      {
       "output_type": "stream",
       "stream": "stdout",
       "text": [
        "\n",
        "\n"
       ]
      },
      {
       "output_type": "stream",
       "stream": "stdout",
       "text": [
        "D:\\Data\\0_DAILY_INTERVAL_NDVI_TRMM\\InnerMongolia\\TRMM\\150_Day_Period\\150_DaySums_StdNormAnomaly \n",
        "D:\\Data\\0_DAILY_INTERVAL_NDVI_TRMM\\InnerMongolia\\NDVI\\DaySums_StdNormAnomalyRes \n",
        "5\n",
        "3653"
       ]
      },
      {
       "output_type": "stream",
       "stream": "stdout",
       "text": [
        "\n",
        "D:\\Data\\0_DAILY_INTERVAL_NDVI_TRMM\\InnerMongolia\\TRMM\\150_Day_Period\\150_DaySums_StdNormAnomaly\\TRMM_CQ_2003001.tif\n",
        "D:\\Data\\0_DAILY_INTERVAL_NDVI_TRMM\\InnerMongolia\\PLOT_CHARTS\\COHERENCE//Charts_Col29Row13CumPer5_raw.png"
       ]
      },
      {
       "output_type": "stream",
       "stream": "stdout",
       "text": [
        "\n",
        "\n"
       ]
      },
      {
       "output_type": "stream",
       "stream": "stdout",
       "text": [
        "D:\\Data\\0_DAILY_INTERVAL_NDVI_TRMM\\InnerMongolia\\TRMM\\120_Day_Period\\120_DaySums_StdNormAnomaly \n",
        "D:\\Data\\0_DAILY_INTERVAL_NDVI_TRMM\\InnerMongolia\\NDVI\\DaySums_StdNormAnomalyRes \n",
        "4\n",
        "3653"
       ]
      },
      {
       "output_type": "stream",
       "stream": "stdout",
       "text": [
        "\n",
        "D:\\Data\\0_DAILY_INTERVAL_NDVI_TRMM\\InnerMongolia\\TRMM\\120_Day_Period\\120_DaySums_StdNormAnomaly\\TRMM_CQ_2003001.tif\n",
        "3651"
       ]
      },
      {
       "output_type": "stream",
       "stream": "stdout",
       "text": [
        "\n",
        "D:\\Data\\0_DAILY_INTERVAL_NDVI_TRMM\\InnerMongolia\\NDVI\\DaySums_StdNormAnomalyRes\\TRMM_CQ_2003001.tif\n",
        "D:\\Data\\0_DAILY_INTERVAL_NDVI_TRMM\\InnerMongolia\\PLOT_CHARTS\\COHERENCE//Charts_Col29Row14CumPer4_raw.png"
       ]
      },
      {
       "output_type": "stream",
       "stream": "stdout",
       "text": [
        "\n",
        "\n"
       ]
      },
      {
       "output_type": "stream",
       "stream": "stdout",
       "text": [
        "D:\\Data\\0_DAILY_INTERVAL_NDVI_TRMM\\InnerMongolia\\TRMM\\150_Day_Period\\150_DaySums_StdNormAnomaly \n",
        "D:\\Data\\0_DAILY_INTERVAL_NDVI_TRMM\\InnerMongolia\\NDVI\\DaySums_StdNormAnomalyRes \n",
        "5\n",
        "3653"
       ]
      },
      {
       "output_type": "stream",
       "stream": "stdout",
       "text": [
        "\n",
        "D:\\Data\\0_DAILY_INTERVAL_NDVI_TRMM\\InnerMongolia\\TRMM\\150_Day_Period\\150_DaySums_StdNormAnomaly\\TRMM_CQ_2003001.tif\n",
        "D:\\Data\\0_DAILY_INTERVAL_NDVI_TRMM\\InnerMongolia\\PLOT_CHARTS\\COHERENCE//Charts_Col29Row14CumPer5_raw.png"
       ]
      },
      {
       "output_type": "stream",
       "stream": "stdout",
       "text": [
        "\n",
        "\n"
       ]
      },
      {
       "output_type": "stream",
       "stream": "stdout",
       "text": [
        "D:\\Data\\0_DAILY_INTERVAL_NDVI_TRMM\\InnerMongolia\\TRMM\\120_Day_Period\\120_DaySums_StdNormAnomaly \n",
        "D:\\Data\\0_DAILY_INTERVAL_NDVI_TRMM\\InnerMongolia\\NDVI\\DaySums_StdNormAnomalyRes \n",
        "4\n",
        "3653"
       ]
      },
      {
       "output_type": "stream",
       "stream": "stdout",
       "text": [
        "\n",
        "D:\\Data\\0_DAILY_INTERVAL_NDVI_TRMM\\InnerMongolia\\TRMM\\120_Day_Period\\120_DaySums_StdNormAnomaly\\TRMM_CQ_2003001.tif\n",
        "3651"
       ]
      },
      {
       "output_type": "stream",
       "stream": "stdout",
       "text": [
        "\n",
        "D:\\Data\\0_DAILY_INTERVAL_NDVI_TRMM\\InnerMongolia\\NDVI\\DaySums_StdNormAnomalyRes\\TRMM_CQ_2003001.tif\n",
        "D:\\Data\\0_DAILY_INTERVAL_NDVI_TRMM\\InnerMongolia\\PLOT_CHARTS\\COHERENCE//Charts_Col29Row15CumPer4_raw.png"
       ]
      },
      {
       "output_type": "stream",
       "stream": "stdout",
       "text": [
        "\n",
        "\n"
       ]
      },
      {
       "output_type": "stream",
       "stream": "stdout",
       "text": [
        "D:\\Data\\0_DAILY_INTERVAL_NDVI_TRMM\\InnerMongolia\\TRMM\\150_Day_Period\\150_DaySums_StdNormAnomaly \n",
        "D:\\Data\\0_DAILY_INTERVAL_NDVI_TRMM\\InnerMongolia\\NDVI\\DaySums_StdNormAnomalyRes \n",
        "5\n",
        "3653"
       ]
      },
      {
       "output_type": "stream",
       "stream": "stdout",
       "text": [
        "\n",
        "D:\\Data\\0_DAILY_INTERVAL_NDVI_TRMM\\InnerMongolia\\TRMM\\150_Day_Period\\150_DaySums_StdNormAnomaly\\TRMM_CQ_2003001.tif\n",
        "D:\\Data\\0_DAILY_INTERVAL_NDVI_TRMM\\InnerMongolia\\PLOT_CHARTS\\COHERENCE//Charts_Col29Row15CumPer5_raw.png"
       ]
      },
      {
       "output_type": "stream",
       "stream": "stdout",
       "text": [
        "\n",
        "\n"
       ]
      },
      {
       "output_type": "stream",
       "stream": "stdout",
       "text": [
        "D:\\Data\\0_DAILY_INTERVAL_NDVI_TRMM\\InnerMongolia\\TRMM\\120_Day_Period\\120_DaySums_StdNormAnomaly \n",
        "D:\\Data\\0_DAILY_INTERVAL_NDVI_TRMM\\InnerMongolia\\NDVI\\DaySums_StdNormAnomalyRes \n",
        "4\n",
        "3653"
       ]
      },
      {
       "output_type": "stream",
       "stream": "stdout",
       "text": [
        "\n",
        "D:\\Data\\0_DAILY_INTERVAL_NDVI_TRMM\\InnerMongolia\\TRMM\\120_Day_Period\\120_DaySums_StdNormAnomaly\\TRMM_CQ_2003001.tif\n",
        "3651"
       ]
      },
      {
       "output_type": "stream",
       "stream": "stdout",
       "text": [
        "\n",
        "D:\\Data\\0_DAILY_INTERVAL_NDVI_TRMM\\InnerMongolia\\NDVI\\DaySums_StdNormAnomalyRes\\TRMM_CQ_2003001.tif\n",
        "D:\\Data\\0_DAILY_INTERVAL_NDVI_TRMM\\InnerMongolia\\PLOT_CHARTS\\COHERENCE//Charts_Col29Row16CumPer4_raw.png"
       ]
      },
      {
       "output_type": "stream",
       "stream": "stdout",
       "text": [
        "\n",
        "\n"
       ]
      },
      {
       "output_type": "stream",
       "stream": "stdout",
       "text": [
        "D:\\Data\\0_DAILY_INTERVAL_NDVI_TRMM\\InnerMongolia\\TRMM\\150_Day_Period\\150_DaySums_StdNormAnomaly \n",
        "D:\\Data\\0_DAILY_INTERVAL_NDVI_TRMM\\InnerMongolia\\NDVI\\DaySums_StdNormAnomalyRes \n",
        "5\n",
        "3653"
       ]
      },
      {
       "output_type": "stream",
       "stream": "stdout",
       "text": [
        "\n",
        "D:\\Data\\0_DAILY_INTERVAL_NDVI_TRMM\\InnerMongolia\\TRMM\\150_Day_Period\\150_DaySums_StdNormAnomaly\\TRMM_CQ_2003001.tif\n",
        "D:\\Data\\0_DAILY_INTERVAL_NDVI_TRMM\\InnerMongolia\\PLOT_CHARTS\\COHERENCE//Charts_Col29Row16CumPer5_raw.png"
       ]
      },
      {
       "output_type": "stream",
       "stream": "stdout",
       "text": [
        "\n",
        "\n"
       ]
      },
      {
       "output_type": "stream",
       "stream": "stdout",
       "text": [
        "D:\\Data\\0_DAILY_INTERVAL_NDVI_TRMM\\InnerMongolia\\TRMM\\120_Day_Period\\120_DaySums_StdNormAnomaly \n",
        "D:\\Data\\0_DAILY_INTERVAL_NDVI_TRMM\\InnerMongolia\\NDVI\\DaySums_StdNormAnomalyRes \n",
        "4\n",
        "3653"
       ]
      },
      {
       "output_type": "stream",
       "stream": "stdout",
       "text": [
        "\n",
        "D:\\Data\\0_DAILY_INTERVAL_NDVI_TRMM\\InnerMongolia\\TRMM\\120_Day_Period\\120_DaySums_StdNormAnomaly\\TRMM_CQ_2003001.tif\n",
        "3651"
       ]
      },
      {
       "output_type": "stream",
       "stream": "stdout",
       "text": [
        "\n",
        "D:\\Data\\0_DAILY_INTERVAL_NDVI_TRMM\\InnerMongolia\\NDVI\\DaySums_StdNormAnomalyRes\\TRMM_CQ_2003001.tif\n",
        "D:\\Data\\0_DAILY_INTERVAL_NDVI_TRMM\\InnerMongolia\\PLOT_CHARTS\\COHERENCE//Charts_Col29Row17CumPer4_raw.png"
       ]
      },
      {
       "output_type": "stream",
       "stream": "stdout",
       "text": [
        "\n",
        "\n"
       ]
      },
      {
       "output_type": "stream",
       "stream": "stdout",
       "text": [
        "D:\\Data\\0_DAILY_INTERVAL_NDVI_TRMM\\InnerMongolia\\TRMM\\150_Day_Period\\150_DaySums_StdNormAnomaly \n",
        "D:\\Data\\0_DAILY_INTERVAL_NDVI_TRMM\\InnerMongolia\\NDVI\\DaySums_StdNormAnomalyRes \n",
        "5\n",
        "3653"
       ]
      },
      {
       "output_type": "stream",
       "stream": "stdout",
       "text": [
        "\n",
        "D:\\Data\\0_DAILY_INTERVAL_NDVI_TRMM\\InnerMongolia\\TRMM\\150_Day_Period\\150_DaySums_StdNormAnomaly\\TRMM_CQ_2003001.tif\n",
        "D:\\Data\\0_DAILY_INTERVAL_NDVI_TRMM\\InnerMongolia\\PLOT_CHARTS\\COHERENCE//Charts_Col29Row17CumPer5_raw.png"
       ]
      },
      {
       "output_type": "stream",
       "stream": "stdout",
       "text": [
        "\n",
        "\n"
       ]
      },
      {
       "output_type": "stream",
       "stream": "stdout",
       "text": [
        "D:\\Data\\0_DAILY_INTERVAL_NDVI_TRMM\\InnerMongolia\\TRMM\\120_Day_Period\\120_DaySums_StdNormAnomaly \n",
        "D:\\Data\\0_DAILY_INTERVAL_NDVI_TRMM\\InnerMongolia\\NDVI\\DaySums_StdNormAnomalyRes \n",
        "4\n",
        "3653"
       ]
      },
      {
       "output_type": "stream",
       "stream": "stdout",
       "text": [
        "\n",
        "D:\\Data\\0_DAILY_INTERVAL_NDVI_TRMM\\InnerMongolia\\TRMM\\120_Day_Period\\120_DaySums_StdNormAnomaly\\TRMM_CQ_2003001.tif\n",
        "3651"
       ]
      },
      {
       "output_type": "stream",
       "stream": "stdout",
       "text": [
        "\n",
        "D:\\Data\\0_DAILY_INTERVAL_NDVI_TRMM\\InnerMongolia\\NDVI\\DaySums_StdNormAnomalyRes\\TRMM_CQ_2003001.tif\n",
        "D:\\Data\\0_DAILY_INTERVAL_NDVI_TRMM\\InnerMongolia\\PLOT_CHARTS\\COHERENCE//Charts_Col29Row18CumPer4_raw.png"
       ]
      },
      {
       "output_type": "stream",
       "stream": "stdout",
       "text": [
        "\n",
        "\n"
       ]
      },
      {
       "output_type": "stream",
       "stream": "stdout",
       "text": [
        "D:\\Data\\0_DAILY_INTERVAL_NDVI_TRMM\\InnerMongolia\\TRMM\\150_Day_Period\\150_DaySums_StdNormAnomaly \n",
        "D:\\Data\\0_DAILY_INTERVAL_NDVI_TRMM\\InnerMongolia\\NDVI\\DaySums_StdNormAnomalyRes \n",
        "5\n",
        "3653"
       ]
      },
      {
       "output_type": "stream",
       "stream": "stdout",
       "text": [
        "\n",
        "D:\\Data\\0_DAILY_INTERVAL_NDVI_TRMM\\InnerMongolia\\TRMM\\150_Day_Period\\150_DaySums_StdNormAnomaly\\TRMM_CQ_2003001.tif\n",
        "D:\\Data\\0_DAILY_INTERVAL_NDVI_TRMM\\InnerMongolia\\PLOT_CHARTS\\COHERENCE//Charts_Col29Row18CumPer5_raw.png"
       ]
      },
      {
       "output_type": "stream",
       "stream": "stdout",
       "text": [
        "\n",
        "\n"
       ]
      },
      {
       "output_type": "stream",
       "stream": "stdout",
       "text": [
        "D:\\Data\\0_DAILY_INTERVAL_NDVI_TRMM\\InnerMongolia\\TRMM\\120_Day_Period\\120_DaySums_StdNormAnomaly \n",
        "D:\\Data\\0_DAILY_INTERVAL_NDVI_TRMM\\InnerMongolia\\NDVI\\DaySums_StdNormAnomalyRes \n",
        "4\n",
        "3653"
       ]
      },
      {
       "output_type": "stream",
       "stream": "stdout",
       "text": [
        "\n",
        "D:\\Data\\0_DAILY_INTERVAL_NDVI_TRMM\\InnerMongolia\\TRMM\\120_Day_Period\\120_DaySums_StdNormAnomaly\\TRMM_CQ_2003001.tif\n",
        "3651"
       ]
      },
      {
       "output_type": "stream",
       "stream": "stdout",
       "text": [
        "\n",
        "D:\\Data\\0_DAILY_INTERVAL_NDVI_TRMM\\InnerMongolia\\NDVI\\DaySums_StdNormAnomalyRes\\TRMM_CQ_2003001.tif\n",
        "D:\\Data\\0_DAILY_INTERVAL_NDVI_TRMM\\InnerMongolia\\PLOT_CHARTS\\COHERENCE//Charts_Col29Row19CumPer4_raw.png"
       ]
      },
      {
       "output_type": "stream",
       "stream": "stdout",
       "text": [
        "\n",
        "\n"
       ]
      },
      {
       "output_type": "stream",
       "stream": "stdout",
       "text": [
        "D:\\Data\\0_DAILY_INTERVAL_NDVI_TRMM\\InnerMongolia\\TRMM\\150_Day_Period\\150_DaySums_StdNormAnomaly \n",
        "D:\\Data\\0_DAILY_INTERVAL_NDVI_TRMM\\InnerMongolia\\NDVI\\DaySums_StdNormAnomalyRes \n",
        "5\n",
        "3653"
       ]
      },
      {
       "output_type": "stream",
       "stream": "stdout",
       "text": [
        "\n",
        "D:\\Data\\0_DAILY_INTERVAL_NDVI_TRMM\\InnerMongolia\\TRMM\\150_Day_Period\\150_DaySums_StdNormAnomaly\\TRMM_CQ_2003001.tif\n",
        "D:\\Data\\0_DAILY_INTERVAL_NDVI_TRMM\\InnerMongolia\\PLOT_CHARTS\\COHERENCE//Charts_Col29Row19CumPer5_raw.png"
       ]
      },
      {
       "output_type": "stream",
       "stream": "stdout",
       "text": [
        "\n",
        "\n"
       ]
      },
      {
       "output_type": "stream",
       "stream": "stdout",
       "text": [
        "D:\\Data\\0_DAILY_INTERVAL_NDVI_TRMM\\InnerMongolia\\TRMM\\120_Day_Period\\120_DaySums_StdNormAnomaly \n",
        "D:\\Data\\0_DAILY_INTERVAL_NDVI_TRMM\\InnerMongolia\\NDVI\\DaySums_StdNormAnomalyRes \n",
        "4\n",
        "3653"
       ]
      },
      {
       "output_type": "stream",
       "stream": "stdout",
       "text": [
        "\n",
        "D:\\Data\\0_DAILY_INTERVAL_NDVI_TRMM\\InnerMongolia\\TRMM\\120_Day_Period\\120_DaySums_StdNormAnomaly\\TRMM_CQ_2003001.tif\n",
        "3651"
       ]
      },
      {
       "output_type": "stream",
       "stream": "stdout",
       "text": [
        "\n",
        "D:\\Data\\0_DAILY_INTERVAL_NDVI_TRMM\\InnerMongolia\\NDVI\\DaySums_StdNormAnomalyRes\\TRMM_CQ_2003001.tif\n",
        "D:\\Data\\0_DAILY_INTERVAL_NDVI_TRMM\\InnerMongolia\\PLOT_CHARTS\\COHERENCE//Charts_Col29Row20CumPer4_raw.png"
       ]
      },
      {
       "output_type": "stream",
       "stream": "stdout",
       "text": [
        "\n",
        "\n"
       ]
      },
      {
       "output_type": "stream",
       "stream": "stdout",
       "text": [
        "D:\\Data\\0_DAILY_INTERVAL_NDVI_TRMM\\InnerMongolia\\TRMM\\150_Day_Period\\150_DaySums_StdNormAnomaly \n",
        "D:\\Data\\0_DAILY_INTERVAL_NDVI_TRMM\\InnerMongolia\\NDVI\\DaySums_StdNormAnomalyRes \n",
        "5\n",
        "3653"
       ]
      },
      {
       "output_type": "stream",
       "stream": "stdout",
       "text": [
        "\n",
        "D:\\Data\\0_DAILY_INTERVAL_NDVI_TRMM\\InnerMongolia\\TRMM\\150_Day_Period\\150_DaySums_StdNormAnomaly\\TRMM_CQ_2003001.tif\n",
        "D:\\Data\\0_DAILY_INTERVAL_NDVI_TRMM\\InnerMongolia\\PLOT_CHARTS\\COHERENCE//Charts_Col29Row20CumPer5_raw.png"
       ]
      },
      {
       "output_type": "stream",
       "stream": "stdout",
       "text": [
        "\n",
        "\n"
       ]
      },
      {
       "output_type": "stream",
       "stream": "stdout",
       "text": [
        "D:\\Data\\0_DAILY_INTERVAL_NDVI_TRMM\\InnerMongolia\\TRMM\\120_Day_Period\\120_DaySums_StdNormAnomaly \n",
        "D:\\Data\\0_DAILY_INTERVAL_NDVI_TRMM\\InnerMongolia\\NDVI\\DaySums_StdNormAnomalyRes \n",
        "4\n",
        "3653"
       ]
      },
      {
       "output_type": "stream",
       "stream": "stdout",
       "text": [
        "\n",
        "D:\\Data\\0_DAILY_INTERVAL_NDVI_TRMM\\InnerMongolia\\TRMM\\120_Day_Period\\120_DaySums_StdNormAnomaly\\TRMM_CQ_2003001.tif\n",
        "3651"
       ]
      },
      {
       "output_type": "stream",
       "stream": "stdout",
       "text": [
        "\n",
        "D:\\Data\\0_DAILY_INTERVAL_NDVI_TRMM\\InnerMongolia\\NDVI\\DaySums_StdNormAnomalyRes\\TRMM_CQ_2003001.tif\n",
        "D:\\Data\\0_DAILY_INTERVAL_NDVI_TRMM\\InnerMongolia\\PLOT_CHARTS\\COHERENCE//Charts_Col29Row21CumPer4_raw.png"
       ]
      },
      {
       "output_type": "stream",
       "stream": "stdout",
       "text": [
        "\n",
        "\n"
       ]
      },
      {
       "output_type": "stream",
       "stream": "stdout",
       "text": [
        "D:\\Data\\0_DAILY_INTERVAL_NDVI_TRMM\\InnerMongolia\\TRMM\\150_Day_Period\\150_DaySums_StdNormAnomaly \n",
        "D:\\Data\\0_DAILY_INTERVAL_NDVI_TRMM\\InnerMongolia\\NDVI\\DaySums_StdNormAnomalyRes \n",
        "5\n",
        "3653\n",
        "D:\\Data\\0_DAILY_INTERVAL_NDVI_TRMM\\InnerMongolia\\TRMM\\150_Day_Period\\150_DaySums_StdNormAnomaly\\TRMM_CQ_2003001.tif\n",
        "D:\\Data\\0_DAILY_INTERVAL_NDVI_TRMM\\InnerMongolia\\PLOT_CHARTS\\COHERENCE//Charts_Col29Row21CumPer5_raw.png"
       ]
      },
      {
       "output_type": "stream",
       "stream": "stdout",
       "text": [
        "\n",
        "\n"
       ]
      },
      {
       "output_type": "stream",
       "stream": "stdout",
       "text": [
        "D:\\Data\\0_DAILY_INTERVAL_NDVI_TRMM\\InnerMongolia\\TRMM\\120_Day_Period\\120_DaySums_StdNormAnomaly \n",
        "D:\\Data\\0_DAILY_INTERVAL_NDVI_TRMM\\InnerMongolia\\NDVI\\DaySums_StdNormAnomalyRes \n",
        "4\n",
        "3653"
       ]
      },
      {
       "output_type": "stream",
       "stream": "stdout",
       "text": [
        "\n",
        "D:\\Data\\0_DAILY_INTERVAL_NDVI_TRMM\\InnerMongolia\\TRMM\\120_Day_Period\\120_DaySums_StdNormAnomaly\\TRMM_CQ_2003001.tif\n",
        "3651"
       ]
      },
      {
       "output_type": "stream",
       "stream": "stdout",
       "text": [
        "\n",
        "D:\\Data\\0_DAILY_INTERVAL_NDVI_TRMM\\InnerMongolia\\NDVI\\DaySums_StdNormAnomalyRes\\TRMM_CQ_2003001.tif\n",
        "D:\\Data\\0_DAILY_INTERVAL_NDVI_TRMM\\InnerMongolia\\PLOT_CHARTS\\COHERENCE//Charts_Col29Row22CumPer4_raw.png"
       ]
      },
      {
       "output_type": "stream",
       "stream": "stdout",
       "text": [
        "\n",
        "\n"
       ]
      },
      {
       "output_type": "stream",
       "stream": "stdout",
       "text": [
        "D:\\Data\\0_DAILY_INTERVAL_NDVI_TRMM\\InnerMongolia\\TRMM\\150_Day_Period\\150_DaySums_StdNormAnomaly \n",
        "D:\\Data\\0_DAILY_INTERVAL_NDVI_TRMM\\InnerMongolia\\NDVI\\DaySums_StdNormAnomalyRes \n",
        "5\n",
        "3653"
       ]
      },
      {
       "output_type": "stream",
       "stream": "stdout",
       "text": [
        "\n",
        "D:\\Data\\0_DAILY_INTERVAL_NDVI_TRMM\\InnerMongolia\\TRMM\\150_Day_Period\\150_DaySums_StdNormAnomaly\\TRMM_CQ_2003001.tif\n",
        "D:\\Data\\0_DAILY_INTERVAL_NDVI_TRMM\\InnerMongolia\\PLOT_CHARTS\\COHERENCE//Charts_Col29Row22CumPer5_raw.png"
       ]
      },
      {
       "output_type": "stream",
       "stream": "stdout",
       "text": [
        "\n",
        "\n"
       ]
      },
      {
       "output_type": "stream",
       "stream": "stdout",
       "text": [
        "D:\\Data\\0_DAILY_INTERVAL_NDVI_TRMM\\InnerMongolia\\TRMM\\120_Day_Period\\120_DaySums_StdNormAnomaly \n",
        "D:\\Data\\0_DAILY_INTERVAL_NDVI_TRMM\\InnerMongolia\\NDVI\\DaySums_StdNormAnomalyRes \n",
        "4\n",
        "3653"
       ]
      },
      {
       "output_type": "stream",
       "stream": "stdout",
       "text": [
        "\n",
        "D:\\Data\\0_DAILY_INTERVAL_NDVI_TRMM\\InnerMongolia\\TRMM\\120_Day_Period\\120_DaySums_StdNormAnomaly\\TRMM_CQ_2003001.tif\n",
        "3651"
       ]
      },
      {
       "output_type": "stream",
       "stream": "stdout",
       "text": [
        "\n",
        "D:\\Data\\0_DAILY_INTERVAL_NDVI_TRMM\\InnerMongolia\\NDVI\\DaySums_StdNormAnomalyRes\\TRMM_CQ_2003001.tif\n",
        "D:\\Data\\0_DAILY_INTERVAL_NDVI_TRMM\\InnerMongolia\\PLOT_CHARTS\\COHERENCE//Charts_Col29Row23CumPer4_raw.png"
       ]
      },
      {
       "output_type": "stream",
       "stream": "stdout",
       "text": [
        "\n",
        "\n"
       ]
      },
      {
       "output_type": "stream",
       "stream": "stdout",
       "text": [
        "D:\\Data\\0_DAILY_INTERVAL_NDVI_TRMM\\InnerMongolia\\TRMM\\150_Day_Period\\150_DaySums_StdNormAnomaly \n",
        "D:\\Data\\0_DAILY_INTERVAL_NDVI_TRMM\\InnerMongolia\\NDVI\\DaySums_StdNormAnomalyRes \n",
        "5\n",
        "3653"
       ]
      },
      {
       "output_type": "stream",
       "stream": "stdout",
       "text": [
        "\n",
        "D:\\Data\\0_DAILY_INTERVAL_NDVI_TRMM\\InnerMongolia\\TRMM\\150_Day_Period\\150_DaySums_StdNormAnomaly\\TRMM_CQ_2003001.tif\n",
        "D:\\Data\\0_DAILY_INTERVAL_NDVI_TRMM\\InnerMongolia\\PLOT_CHARTS\\COHERENCE//Charts_Col29Row23CumPer5_raw.png"
       ]
      },
      {
       "output_type": "stream",
       "stream": "stdout",
       "text": [
        "\n",
        "\n"
       ]
      },
      {
       "output_type": "stream",
       "stream": "stdout",
       "text": [
        "D:\\Data\\0_DAILY_INTERVAL_NDVI_TRMM\\InnerMongolia\\TRMM\\120_Day_Period\\120_DaySums_StdNormAnomaly \n",
        "D:\\Data\\0_DAILY_INTERVAL_NDVI_TRMM\\InnerMongolia\\NDVI\\DaySums_StdNormAnomalyRes \n",
        "4\n",
        "3653"
       ]
      },
      {
       "output_type": "stream",
       "stream": "stdout",
       "text": [
        "\n",
        "D:\\Data\\0_DAILY_INTERVAL_NDVI_TRMM\\InnerMongolia\\TRMM\\120_Day_Period\\120_DaySums_StdNormAnomaly\\TRMM_CQ_2003001.tif\n",
        "3651"
       ]
      },
      {
       "output_type": "stream",
       "stream": "stdout",
       "text": [
        "\n",
        "D:\\Data\\0_DAILY_INTERVAL_NDVI_TRMM\\InnerMongolia\\NDVI\\DaySums_StdNormAnomalyRes\\TRMM_CQ_2003001.tif\n",
        "D:\\Data\\0_DAILY_INTERVAL_NDVI_TRMM\\InnerMongolia\\PLOT_CHARTS\\COHERENCE//Charts_Col30Row13CumPer4_raw.png"
       ]
      },
      {
       "output_type": "stream",
       "stream": "stdout",
       "text": [
        "\n",
        "\n"
       ]
      },
      {
       "output_type": "stream",
       "stream": "stdout",
       "text": [
        "D:\\Data\\0_DAILY_INTERVAL_NDVI_TRMM\\InnerMongolia\\TRMM\\150_Day_Period\\150_DaySums_StdNormAnomaly \n",
        "D:\\Data\\0_DAILY_INTERVAL_NDVI_TRMM\\InnerMongolia\\NDVI\\DaySums_StdNormAnomalyRes \n",
        "5\n",
        "3653"
       ]
      },
      {
       "output_type": "stream",
       "stream": "stdout",
       "text": [
        "\n",
        "D:\\Data\\0_DAILY_INTERVAL_NDVI_TRMM\\InnerMongolia\\TRMM\\150_Day_Period\\150_DaySums_StdNormAnomaly\\TRMM_CQ_2003001.tif\n",
        "D:\\Data\\0_DAILY_INTERVAL_NDVI_TRMM\\InnerMongolia\\PLOT_CHARTS\\COHERENCE//Charts_Col30Row13CumPer5_raw.png"
       ]
      },
      {
       "output_type": "stream",
       "stream": "stdout",
       "text": [
        "\n",
        "\n"
       ]
      },
      {
       "output_type": "stream",
       "stream": "stdout",
       "text": [
        "D:\\Data\\0_DAILY_INTERVAL_NDVI_TRMM\\InnerMongolia\\TRMM\\120_Day_Period\\120_DaySums_StdNormAnomaly \n",
        "D:\\Data\\0_DAILY_INTERVAL_NDVI_TRMM\\InnerMongolia\\NDVI\\DaySums_StdNormAnomalyRes \n",
        "4\n",
        "3653"
       ]
      },
      {
       "output_type": "stream",
       "stream": "stdout",
       "text": [
        "\n",
        "D:\\Data\\0_DAILY_INTERVAL_NDVI_TRMM\\InnerMongolia\\TRMM\\120_Day_Period\\120_DaySums_StdNormAnomaly\\TRMM_CQ_2003001.tif\n",
        "3651"
       ]
      },
      {
       "output_type": "stream",
       "stream": "stdout",
       "text": [
        "\n",
        "D:\\Data\\0_DAILY_INTERVAL_NDVI_TRMM\\InnerMongolia\\NDVI\\DaySums_StdNormAnomalyRes\\TRMM_CQ_2003001.tif\n",
        "D:\\Data\\0_DAILY_INTERVAL_NDVI_TRMM\\InnerMongolia\\PLOT_CHARTS\\COHERENCE//Charts_Col30Row14CumPer4_raw.png"
       ]
      },
      {
       "output_type": "stream",
       "stream": "stdout",
       "text": [
        "\n",
        "\n"
       ]
      },
      {
       "output_type": "stream",
       "stream": "stdout",
       "text": [
        "D:\\Data\\0_DAILY_INTERVAL_NDVI_TRMM\\InnerMongolia\\TRMM\\150_Day_Period\\150_DaySums_StdNormAnomaly \n",
        "D:\\Data\\0_DAILY_INTERVAL_NDVI_TRMM\\InnerMongolia\\NDVI\\DaySums_StdNormAnomalyRes \n",
        "5\n",
        "3653"
       ]
      },
      {
       "output_type": "stream",
       "stream": "stdout",
       "text": [
        "\n",
        "D:\\Data\\0_DAILY_INTERVAL_NDVI_TRMM\\InnerMongolia\\TRMM\\150_Day_Period\\150_DaySums_StdNormAnomaly\\TRMM_CQ_2003001.tif\n",
        "D:\\Data\\0_DAILY_INTERVAL_NDVI_TRMM\\InnerMongolia\\PLOT_CHARTS\\COHERENCE//Charts_Col30Row14CumPer5_raw.png"
       ]
      },
      {
       "output_type": "stream",
       "stream": "stdout",
       "text": [
        "\n",
        "\n"
       ]
      },
      {
       "output_type": "stream",
       "stream": "stdout",
       "text": [
        "D:\\Data\\0_DAILY_INTERVAL_NDVI_TRMM\\InnerMongolia\\TRMM\\120_Day_Period\\120_DaySums_StdNormAnomaly \n",
        "D:\\Data\\0_DAILY_INTERVAL_NDVI_TRMM\\InnerMongolia\\NDVI\\DaySums_StdNormAnomalyRes \n",
        "4\n",
        "3653"
       ]
      },
      {
       "output_type": "stream",
       "stream": "stdout",
       "text": [
        "\n",
        "D:\\Data\\0_DAILY_INTERVAL_NDVI_TRMM\\InnerMongolia\\TRMM\\120_Day_Period\\120_DaySums_StdNormAnomaly\\TRMM_CQ_2003001.tif\n",
        "3651"
       ]
      },
      {
       "output_type": "stream",
       "stream": "stdout",
       "text": [
        "\n",
        "D:\\Data\\0_DAILY_INTERVAL_NDVI_TRMM\\InnerMongolia\\NDVI\\DaySums_StdNormAnomalyRes\\TRMM_CQ_2003001.tif\n",
        "D:\\Data\\0_DAILY_INTERVAL_NDVI_TRMM\\InnerMongolia\\PLOT_CHARTS\\COHERENCE//Charts_Col30Row15CumPer4_raw.png"
       ]
      },
      {
       "output_type": "stream",
       "stream": "stdout",
       "text": [
        "\n",
        "\n"
       ]
      },
      {
       "output_type": "stream",
       "stream": "stdout",
       "text": [
        "D:\\Data\\0_DAILY_INTERVAL_NDVI_TRMM\\InnerMongolia\\TRMM\\150_Day_Period\\150_DaySums_StdNormAnomaly \n",
        "D:\\Data\\0_DAILY_INTERVAL_NDVI_TRMM\\InnerMongolia\\NDVI\\DaySums_StdNormAnomalyRes \n",
        "5\n",
        "3653"
       ]
      },
      {
       "output_type": "stream",
       "stream": "stdout",
       "text": [
        "\n",
        "D:\\Data\\0_DAILY_INTERVAL_NDVI_TRMM\\InnerMongolia\\TRMM\\150_Day_Period\\150_DaySums_StdNormAnomaly\\TRMM_CQ_2003001.tif\n",
        "D:\\Data\\0_DAILY_INTERVAL_NDVI_TRMM\\InnerMongolia\\PLOT_CHARTS\\COHERENCE//Charts_Col30Row15CumPer5_raw.png"
       ]
      },
      {
       "output_type": "stream",
       "stream": "stdout",
       "text": [
        "\n",
        "\n"
       ]
      },
      {
       "output_type": "stream",
       "stream": "stdout",
       "text": [
        "D:\\Data\\0_DAILY_INTERVAL_NDVI_TRMM\\InnerMongolia\\TRMM\\120_Day_Period\\120_DaySums_StdNormAnomaly \n",
        "D:\\Data\\0_DAILY_INTERVAL_NDVI_TRMM\\InnerMongolia\\NDVI\\DaySums_StdNormAnomalyRes \n",
        "4\n",
        "3653"
       ]
      },
      {
       "output_type": "stream",
       "stream": "stdout",
       "text": [
        "\n",
        "D:\\Data\\0_DAILY_INTERVAL_NDVI_TRMM\\InnerMongolia\\TRMM\\120_Day_Period\\120_DaySums_StdNormAnomaly\\TRMM_CQ_2003001.tif\n",
        "3651"
       ]
      },
      {
       "output_type": "stream",
       "stream": "stdout",
       "text": [
        "\n",
        "D:\\Data\\0_DAILY_INTERVAL_NDVI_TRMM\\InnerMongolia\\NDVI\\DaySums_StdNormAnomalyRes\\TRMM_CQ_2003001.tif\n",
        "D:\\Data\\0_DAILY_INTERVAL_NDVI_TRMM\\InnerMongolia\\PLOT_CHARTS\\COHERENCE//Charts_Col30Row16CumPer4_raw.png"
       ]
      },
      {
       "output_type": "stream",
       "stream": "stdout",
       "text": [
        "\n",
        "\n"
       ]
      },
      {
       "output_type": "stream",
       "stream": "stdout",
       "text": [
        "D:\\Data\\0_DAILY_INTERVAL_NDVI_TRMM\\InnerMongolia\\TRMM\\150_Day_Period\\150_DaySums_StdNormAnomaly \n",
        "D:\\Data\\0_DAILY_INTERVAL_NDVI_TRMM\\InnerMongolia\\NDVI\\DaySums_StdNormAnomalyRes \n",
        "5\n",
        "3653"
       ]
      },
      {
       "output_type": "stream",
       "stream": "stdout",
       "text": [
        "\n",
        "D:\\Data\\0_DAILY_INTERVAL_NDVI_TRMM\\InnerMongolia\\TRMM\\150_Day_Period\\150_DaySums_StdNormAnomaly\\TRMM_CQ_2003001.tif\n",
        "D:\\Data\\0_DAILY_INTERVAL_NDVI_TRMM\\InnerMongolia\\PLOT_CHARTS\\COHERENCE//Charts_Col30Row16CumPer5_raw.png"
       ]
      },
      {
       "output_type": "stream",
       "stream": "stdout",
       "text": [
        "\n",
        "\n"
       ]
      },
      {
       "output_type": "stream",
       "stream": "stdout",
       "text": [
        "D:\\Data\\0_DAILY_INTERVAL_NDVI_TRMM\\InnerMongolia\\TRMM\\120_Day_Period\\120_DaySums_StdNormAnomaly \n",
        "D:\\Data\\0_DAILY_INTERVAL_NDVI_TRMM\\InnerMongolia\\NDVI\\DaySums_StdNormAnomalyRes \n",
        "4\n",
        "3653"
       ]
      },
      {
       "output_type": "stream",
       "stream": "stdout",
       "text": [
        "\n",
        "D:\\Data\\0_DAILY_INTERVAL_NDVI_TRMM\\InnerMongolia\\TRMM\\120_Day_Period\\120_DaySums_StdNormAnomaly\\TRMM_CQ_2003001.tif\n",
        "3651"
       ]
      },
      {
       "output_type": "stream",
       "stream": "stdout",
       "text": [
        "\n",
        "D:\\Data\\0_DAILY_INTERVAL_NDVI_TRMM\\InnerMongolia\\NDVI\\DaySums_StdNormAnomalyRes\\TRMM_CQ_2003001.tif\n",
        "D:\\Data\\0_DAILY_INTERVAL_NDVI_TRMM\\InnerMongolia\\PLOT_CHARTS\\COHERENCE//Charts_Col30Row17CumPer4_raw.png"
       ]
      },
      {
       "output_type": "stream",
       "stream": "stdout",
       "text": [
        "\n",
        "\n"
       ]
      },
      {
       "output_type": "stream",
       "stream": "stdout",
       "text": [
        "D:\\Data\\0_DAILY_INTERVAL_NDVI_TRMM\\InnerMongolia\\TRMM\\150_Day_Period\\150_DaySums_StdNormAnomaly \n",
        "D:\\Data\\0_DAILY_INTERVAL_NDVI_TRMM\\InnerMongolia\\NDVI\\DaySums_StdNormAnomalyRes \n",
        "5\n",
        "3653"
       ]
      },
      {
       "output_type": "stream",
       "stream": "stdout",
       "text": [
        "\n",
        "D:\\Data\\0_DAILY_INTERVAL_NDVI_TRMM\\InnerMongolia\\TRMM\\150_Day_Period\\150_DaySums_StdNormAnomaly\\TRMM_CQ_2003001.tif\n",
        "D:\\Data\\0_DAILY_INTERVAL_NDVI_TRMM\\InnerMongolia\\PLOT_CHARTS\\COHERENCE//Charts_Col30Row17CumPer5_raw.png"
       ]
      },
      {
       "output_type": "stream",
       "stream": "stdout",
       "text": [
        "\n",
        "\n"
       ]
      },
      {
       "output_type": "stream",
       "stream": "stdout",
       "text": [
        "D:\\Data\\0_DAILY_INTERVAL_NDVI_TRMM\\InnerMongolia\\TRMM\\120_Day_Period\\120_DaySums_StdNormAnomaly \n",
        "D:\\Data\\0_DAILY_INTERVAL_NDVI_TRMM\\InnerMongolia\\NDVI\\DaySums_StdNormAnomalyRes \n",
        "4\n",
        "3653"
       ]
      },
      {
       "output_type": "stream",
       "stream": "stdout",
       "text": [
        "\n",
        "D:\\Data\\0_DAILY_INTERVAL_NDVI_TRMM\\InnerMongolia\\TRMM\\120_Day_Period\\120_DaySums_StdNormAnomaly\\TRMM_CQ_2003001.tif\n",
        "3651"
       ]
      },
      {
       "output_type": "stream",
       "stream": "stdout",
       "text": [
        "\n",
        "D:\\Data\\0_DAILY_INTERVAL_NDVI_TRMM\\InnerMongolia\\NDVI\\DaySums_StdNormAnomalyRes\\TRMM_CQ_2003001.tif\n",
        "D:\\Data\\0_DAILY_INTERVAL_NDVI_TRMM\\InnerMongolia\\PLOT_CHARTS\\COHERENCE//Charts_Col30Row18CumPer4_raw.png"
       ]
      },
      {
       "output_type": "stream",
       "stream": "stdout",
       "text": [
        "\n",
        "\n"
       ]
      },
      {
       "output_type": "stream",
       "stream": "stdout",
       "text": [
        "D:\\Data\\0_DAILY_INTERVAL_NDVI_TRMM\\InnerMongolia\\TRMM\\150_Day_Period\\150_DaySums_StdNormAnomaly \n",
        "D:\\Data\\0_DAILY_INTERVAL_NDVI_TRMM\\InnerMongolia\\NDVI\\DaySums_StdNormAnomalyRes \n",
        "5\n",
        "3653"
       ]
      },
      {
       "output_type": "stream",
       "stream": "stdout",
       "text": [
        "\n",
        "D:\\Data\\0_DAILY_INTERVAL_NDVI_TRMM\\InnerMongolia\\TRMM\\150_Day_Period\\150_DaySums_StdNormAnomaly\\TRMM_CQ_2003001.tif\n",
        "D:\\Data\\0_DAILY_INTERVAL_NDVI_TRMM\\InnerMongolia\\PLOT_CHARTS\\COHERENCE//Charts_Col30Row18CumPer5_raw.png"
       ]
      },
      {
       "output_type": "stream",
       "stream": "stdout",
       "text": [
        "\n",
        "\n"
       ]
      },
      {
       "output_type": "stream",
       "stream": "stdout",
       "text": [
        "D:\\Data\\0_DAILY_INTERVAL_NDVI_TRMM\\InnerMongolia\\TRMM\\120_Day_Period\\120_DaySums_StdNormAnomaly \n",
        "D:\\Data\\0_DAILY_INTERVAL_NDVI_TRMM\\InnerMongolia\\NDVI\\DaySums_StdNormAnomalyRes \n",
        "4\n",
        "3653"
       ]
      },
      {
       "output_type": "stream",
       "stream": "stdout",
       "text": [
        "\n",
        "D:\\Data\\0_DAILY_INTERVAL_NDVI_TRMM\\InnerMongolia\\TRMM\\120_Day_Period\\120_DaySums_StdNormAnomaly\\TRMM_CQ_2003001.tif\n",
        "3651"
       ]
      },
      {
       "output_type": "stream",
       "stream": "stdout",
       "text": [
        "\n",
        "D:\\Data\\0_DAILY_INTERVAL_NDVI_TRMM\\InnerMongolia\\NDVI\\DaySums_StdNormAnomalyRes\\TRMM_CQ_2003001.tif\n",
        "D:\\Data\\0_DAILY_INTERVAL_NDVI_TRMM\\InnerMongolia\\PLOT_CHARTS\\COHERENCE//Charts_Col30Row19CumPer4_raw.png"
       ]
      },
      {
       "output_type": "stream",
       "stream": "stdout",
       "text": [
        "\n",
        "\n"
       ]
      },
      {
       "output_type": "stream",
       "stream": "stdout",
       "text": [
        "D:\\Data\\0_DAILY_INTERVAL_NDVI_TRMM\\InnerMongolia\\TRMM\\150_Day_Period\\150_DaySums_StdNormAnomaly \n",
        "D:\\Data\\0_DAILY_INTERVAL_NDVI_TRMM\\InnerMongolia\\NDVI\\DaySums_StdNormAnomalyRes \n",
        "5\n",
        "3653"
       ]
      },
      {
       "output_type": "stream",
       "stream": "stdout",
       "text": [
        "\n",
        "D:\\Data\\0_DAILY_INTERVAL_NDVI_TRMM\\InnerMongolia\\TRMM\\150_Day_Period\\150_DaySums_StdNormAnomaly\\TRMM_CQ_2003001.tif\n",
        "D:\\Data\\0_DAILY_INTERVAL_NDVI_TRMM\\InnerMongolia\\PLOT_CHARTS\\COHERENCE//Charts_Col30Row19CumPer5_raw.png"
       ]
      },
      {
       "output_type": "stream",
       "stream": "stdout",
       "text": [
        "\n",
        "\n"
       ]
      },
      {
       "output_type": "stream",
       "stream": "stdout",
       "text": [
        "D:\\Data\\0_DAILY_INTERVAL_NDVI_TRMM\\InnerMongolia\\TRMM\\120_Day_Period\\120_DaySums_StdNormAnomaly \n",
        "D:\\Data\\0_DAILY_INTERVAL_NDVI_TRMM\\InnerMongolia\\NDVI\\DaySums_StdNormAnomalyRes \n",
        "4\n",
        "3653"
       ]
      },
      {
       "output_type": "stream",
       "stream": "stdout",
       "text": [
        "\n",
        "D:\\Data\\0_DAILY_INTERVAL_NDVI_TRMM\\InnerMongolia\\TRMM\\120_Day_Period\\120_DaySums_StdNormAnomaly\\TRMM_CQ_2003001.tif\n",
        "3651"
       ]
      },
      {
       "output_type": "stream",
       "stream": "stdout",
       "text": [
        "\n",
        "D:\\Data\\0_DAILY_INTERVAL_NDVI_TRMM\\InnerMongolia\\NDVI\\DaySums_StdNormAnomalyRes\\TRMM_CQ_2003001.tif\n",
        "D:\\Data\\0_DAILY_INTERVAL_NDVI_TRMM\\InnerMongolia\\PLOT_CHARTS\\COHERENCE//Charts_Col30Row20CumPer4_raw.png"
       ]
      },
      {
       "output_type": "stream",
       "stream": "stdout",
       "text": [
        "\n",
        "\n"
       ]
      },
      {
       "output_type": "stream",
       "stream": "stdout",
       "text": [
        "D:\\Data\\0_DAILY_INTERVAL_NDVI_TRMM\\InnerMongolia\\TRMM\\150_Day_Period\\150_DaySums_StdNormAnomaly \n",
        "D:\\Data\\0_DAILY_INTERVAL_NDVI_TRMM\\InnerMongolia\\NDVI\\DaySums_StdNormAnomalyRes \n",
        "5\n",
        "3653"
       ]
      },
      {
       "output_type": "stream",
       "stream": "stdout",
       "text": [
        "\n",
        "D:\\Data\\0_DAILY_INTERVAL_NDVI_TRMM\\InnerMongolia\\TRMM\\150_Day_Period\\150_DaySums_StdNormAnomaly\\TRMM_CQ_2003001.tif\n",
        "D:\\Data\\0_DAILY_INTERVAL_NDVI_TRMM\\InnerMongolia\\PLOT_CHARTS\\COHERENCE//Charts_Col30Row20CumPer5_raw.png"
       ]
      },
      {
       "output_type": "stream",
       "stream": "stdout",
       "text": [
        "\n",
        "\n"
       ]
      },
      {
       "output_type": "stream",
       "stream": "stdout",
       "text": [
        "D:\\Data\\0_DAILY_INTERVAL_NDVI_TRMM\\InnerMongolia\\TRMM\\120_Day_Period\\120_DaySums_StdNormAnomaly \n",
        "D:\\Data\\0_DAILY_INTERVAL_NDVI_TRMM\\InnerMongolia\\NDVI\\DaySums_StdNormAnomalyRes \n",
        "4\n",
        "3653"
       ]
      },
      {
       "output_type": "stream",
       "stream": "stdout",
       "text": [
        "\n",
        "D:\\Data\\0_DAILY_INTERVAL_NDVI_TRMM\\InnerMongolia\\TRMM\\120_Day_Period\\120_DaySums_StdNormAnomaly\\TRMM_CQ_2003001.tif\n",
        "3651"
       ]
      },
      {
       "output_type": "stream",
       "stream": "stdout",
       "text": [
        "\n",
        "D:\\Data\\0_DAILY_INTERVAL_NDVI_TRMM\\InnerMongolia\\NDVI\\DaySums_StdNormAnomalyRes\\TRMM_CQ_2003001.tif\n",
        "D:\\Data\\0_DAILY_INTERVAL_NDVI_TRMM\\InnerMongolia\\PLOT_CHARTS\\COHERENCE//Charts_Col30Row21CumPer4_raw.png"
       ]
      },
      {
       "output_type": "stream",
       "stream": "stdout",
       "text": [
        "\n",
        "\n"
       ]
      },
      {
       "output_type": "stream",
       "stream": "stdout",
       "text": [
        "D:\\Data\\0_DAILY_INTERVAL_NDVI_TRMM\\InnerMongolia\\TRMM\\150_Day_Period\\150_DaySums_StdNormAnomaly \n",
        "D:\\Data\\0_DAILY_INTERVAL_NDVI_TRMM\\InnerMongolia\\NDVI\\DaySums_StdNormAnomalyRes \n",
        "5\n",
        "3653"
       ]
      },
      {
       "output_type": "stream",
       "stream": "stdout",
       "text": [
        "\n",
        "D:\\Data\\0_DAILY_INTERVAL_NDVI_TRMM\\InnerMongolia\\TRMM\\150_Day_Period\\150_DaySums_StdNormAnomaly\\TRMM_CQ_2003001.tif\n",
        "D:\\Data\\0_DAILY_INTERVAL_NDVI_TRMM\\InnerMongolia\\PLOT_CHARTS\\COHERENCE//Charts_Col30Row21CumPer5_raw.png"
       ]
      },
      {
       "output_type": "stream",
       "stream": "stdout",
       "text": [
        "\n",
        "\n"
       ]
      },
      {
       "output_type": "stream",
       "stream": "stdout",
       "text": [
        "D:\\Data\\0_DAILY_INTERVAL_NDVI_TRMM\\InnerMongolia\\TRMM\\120_Day_Period\\120_DaySums_StdNormAnomaly \n",
        "D:\\Data\\0_DAILY_INTERVAL_NDVI_TRMM\\InnerMongolia\\NDVI\\DaySums_StdNormAnomalyRes \n",
        "4\n",
        "3653"
       ]
      },
      {
       "output_type": "stream",
       "stream": "stdout",
       "text": [
        "\n",
        "D:\\Data\\0_DAILY_INTERVAL_NDVI_TRMM\\InnerMongolia\\TRMM\\120_Day_Period\\120_DaySums_StdNormAnomaly\\TRMM_CQ_2003001.tif\n",
        "3651"
       ]
      },
      {
       "output_type": "stream",
       "stream": "stdout",
       "text": [
        "\n",
        "D:\\Data\\0_DAILY_INTERVAL_NDVI_TRMM\\InnerMongolia\\NDVI\\DaySums_StdNormAnomalyRes\\TRMM_CQ_2003001.tif\n",
        "D:\\Data\\0_DAILY_INTERVAL_NDVI_TRMM\\InnerMongolia\\PLOT_CHARTS\\COHERENCE//Charts_Col30Row22CumPer4_raw.png"
       ]
      },
      {
       "output_type": "stream",
       "stream": "stdout",
       "text": [
        "\n",
        "\n"
       ]
      },
      {
       "output_type": "stream",
       "stream": "stdout",
       "text": [
        "D:\\Data\\0_DAILY_INTERVAL_NDVI_TRMM\\InnerMongolia\\TRMM\\150_Day_Period\\150_DaySums_StdNormAnomaly \n",
        "D:\\Data\\0_DAILY_INTERVAL_NDVI_TRMM\\InnerMongolia\\NDVI\\DaySums_StdNormAnomalyRes \n",
        "5\n",
        "3653"
       ]
      },
      {
       "output_type": "stream",
       "stream": "stdout",
       "text": [
        "\n",
        "D:\\Data\\0_DAILY_INTERVAL_NDVI_TRMM\\InnerMongolia\\TRMM\\150_Day_Period\\150_DaySums_StdNormAnomaly\\TRMM_CQ_2003001.tif\n",
        "D:\\Data\\0_DAILY_INTERVAL_NDVI_TRMM\\InnerMongolia\\PLOT_CHARTS\\COHERENCE//Charts_Col30Row22CumPer5_raw.png"
       ]
      },
      {
       "output_type": "stream",
       "stream": "stdout",
       "text": [
        "\n",
        "\n"
       ]
      },
      {
       "output_type": "stream",
       "stream": "stdout",
       "text": [
        "D:\\Data\\0_DAILY_INTERVAL_NDVI_TRMM\\InnerMongolia\\TRMM\\120_Day_Period\\120_DaySums_StdNormAnomaly \n",
        "D:\\Data\\0_DAILY_INTERVAL_NDVI_TRMM\\InnerMongolia\\NDVI\\DaySums_StdNormAnomalyRes \n",
        "4\n",
        "3653"
       ]
      },
      {
       "output_type": "stream",
       "stream": "stdout",
       "text": [
        "\n",
        "D:\\Data\\0_DAILY_INTERVAL_NDVI_TRMM\\InnerMongolia\\TRMM\\120_Day_Period\\120_DaySums_StdNormAnomaly\\TRMM_CQ_2003001.tif\n",
        "3651"
       ]
      },
      {
       "output_type": "stream",
       "stream": "stdout",
       "text": [
        "\n",
        "D:\\Data\\0_DAILY_INTERVAL_NDVI_TRMM\\InnerMongolia\\NDVI\\DaySums_StdNormAnomalyRes\\TRMM_CQ_2003001.tif\n",
        "D:\\Data\\0_DAILY_INTERVAL_NDVI_TRMM\\InnerMongolia\\PLOT_CHARTS\\COHERENCE//Charts_Col30Row23CumPer4_raw.png"
       ]
      },
      {
       "output_type": "stream",
       "stream": "stdout",
       "text": [
        "\n",
        "\n"
       ]
      },
      {
       "output_type": "stream",
       "stream": "stdout",
       "text": [
        "D:\\Data\\0_DAILY_INTERVAL_NDVI_TRMM\\InnerMongolia\\TRMM\\150_Day_Period\\150_DaySums_StdNormAnomaly \n",
        "D:\\Data\\0_DAILY_INTERVAL_NDVI_TRMM\\InnerMongolia\\NDVI\\DaySums_StdNormAnomalyRes \n",
        "5\n",
        "3653"
       ]
      },
      {
       "output_type": "stream",
       "stream": "stdout",
       "text": [
        "\n",
        "D:\\Data\\0_DAILY_INTERVAL_NDVI_TRMM\\InnerMongolia\\TRMM\\150_Day_Period\\150_DaySums_StdNormAnomaly\\TRMM_CQ_2003001.tif\n",
        "D:\\Data\\0_DAILY_INTERVAL_NDVI_TRMM\\InnerMongolia\\PLOT_CHARTS\\COHERENCE//Charts_Col30Row23CumPer5_raw.png"
       ]
      },
      {
       "output_type": "stream",
       "stream": "stdout",
       "text": [
        "\n",
        "\n"
       ]
      },
      {
       "output_type": "stream",
       "stream": "stdout",
       "text": [
        "D:\\Data\\0_DAILY_INTERVAL_NDVI_TRMM\\InnerMongolia\\TRMM\\120_Day_Period\\120_DaySums_StdNormAnomaly \n",
        "D:\\Data\\0_DAILY_INTERVAL_NDVI_TRMM\\InnerMongolia\\NDVI\\DaySums_StdNormAnomalyRes \n",
        "4\n",
        "3653"
       ]
      },
      {
       "output_type": "stream",
       "stream": "stdout",
       "text": [
        "\n",
        "D:\\Data\\0_DAILY_INTERVAL_NDVI_TRMM\\InnerMongolia\\TRMM\\120_Day_Period\\120_DaySums_StdNormAnomaly\\TRMM_CQ_2003001.tif\n",
        "3651"
       ]
      },
      {
       "output_type": "stream",
       "stream": "stdout",
       "text": [
        "\n",
        "D:\\Data\\0_DAILY_INTERVAL_NDVI_TRMM\\InnerMongolia\\NDVI\\DaySums_StdNormAnomalyRes\\TRMM_CQ_2003001.tif\n",
        "D:\\Data\\0_DAILY_INTERVAL_NDVI_TRMM\\InnerMongolia\\PLOT_CHARTS\\COHERENCE//Charts_Col31Row13CumPer4_raw.png"
       ]
      },
      {
       "output_type": "stream",
       "stream": "stdout",
       "text": [
        "\n",
        "\n"
       ]
      },
      {
       "output_type": "stream",
       "stream": "stdout",
       "text": [
        "D:\\Data\\0_DAILY_INTERVAL_NDVI_TRMM\\InnerMongolia\\TRMM\\150_Day_Period\\150_DaySums_StdNormAnomaly \n",
        "D:\\Data\\0_DAILY_INTERVAL_NDVI_TRMM\\InnerMongolia\\NDVI\\DaySums_StdNormAnomalyRes \n",
        "5\n",
        "3653"
       ]
      },
      {
       "output_type": "stream",
       "stream": "stdout",
       "text": [
        "\n",
        "D:\\Data\\0_DAILY_INTERVAL_NDVI_TRMM\\InnerMongolia\\TRMM\\150_Day_Period\\150_DaySums_StdNormAnomaly\\TRMM_CQ_2003001.tif\n",
        "D:\\Data\\0_DAILY_INTERVAL_NDVI_TRMM\\InnerMongolia\\PLOT_CHARTS\\COHERENCE//Charts_Col31Row13CumPer5_raw.png"
       ]
      },
      {
       "output_type": "stream",
       "stream": "stdout",
       "text": [
        "\n",
        "\n"
       ]
      },
      {
       "output_type": "stream",
       "stream": "stdout",
       "text": [
        "D:\\Data\\0_DAILY_INTERVAL_NDVI_TRMM\\InnerMongolia\\TRMM\\120_Day_Period\\120_DaySums_StdNormAnomaly \n",
        "D:\\Data\\0_DAILY_INTERVAL_NDVI_TRMM\\InnerMongolia\\NDVI\\DaySums_StdNormAnomalyRes \n",
        "4\n",
        "3653"
       ]
      },
      {
       "output_type": "stream",
       "stream": "stdout",
       "text": [
        "\n",
        "D:\\Data\\0_DAILY_INTERVAL_NDVI_TRMM\\InnerMongolia\\TRMM\\120_Day_Period\\120_DaySums_StdNormAnomaly\\TRMM_CQ_2003001.tif\n",
        "3651"
       ]
      },
      {
       "output_type": "stream",
       "stream": "stdout",
       "text": [
        "\n",
        "D:\\Data\\0_DAILY_INTERVAL_NDVI_TRMM\\InnerMongolia\\NDVI\\DaySums_StdNormAnomalyRes\\TRMM_CQ_2003001.tif\n",
        "D:\\Data\\0_DAILY_INTERVAL_NDVI_TRMM\\InnerMongolia\\PLOT_CHARTS\\COHERENCE//Charts_Col31Row14CumPer4_raw.png"
       ]
      },
      {
       "output_type": "stream",
       "stream": "stdout",
       "text": [
        "\n",
        "\n"
       ]
      },
      {
       "output_type": "stream",
       "stream": "stdout",
       "text": [
        "D:\\Data\\0_DAILY_INTERVAL_NDVI_TRMM\\InnerMongolia\\TRMM\\150_Day_Period\\150_DaySums_StdNormAnomaly \n",
        "D:\\Data\\0_DAILY_INTERVAL_NDVI_TRMM\\InnerMongolia\\NDVI\\DaySums_StdNormAnomalyRes \n",
        "5\n",
        "3653"
       ]
      },
      {
       "output_type": "stream",
       "stream": "stdout",
       "text": [
        "\n",
        "D:\\Data\\0_DAILY_INTERVAL_NDVI_TRMM\\InnerMongolia\\TRMM\\150_Day_Period\\150_DaySums_StdNormAnomaly\\TRMM_CQ_2003001.tif\n",
        "D:\\Data\\0_DAILY_INTERVAL_NDVI_TRMM\\InnerMongolia\\PLOT_CHARTS\\COHERENCE//Charts_Col31Row14CumPer5_raw.png"
       ]
      },
      {
       "output_type": "stream",
       "stream": "stdout",
       "text": [
        "\n",
        "\n"
       ]
      },
      {
       "output_type": "stream",
       "stream": "stdout",
       "text": [
        "D:\\Data\\0_DAILY_INTERVAL_NDVI_TRMM\\InnerMongolia\\TRMM\\120_Day_Period\\120_DaySums_StdNormAnomaly \n",
        "D:\\Data\\0_DAILY_INTERVAL_NDVI_TRMM\\InnerMongolia\\NDVI\\DaySums_StdNormAnomalyRes \n",
        "4\n",
        "3653"
       ]
      },
      {
       "output_type": "stream",
       "stream": "stdout",
       "text": [
        "\n",
        "D:\\Data\\0_DAILY_INTERVAL_NDVI_TRMM\\InnerMongolia\\TRMM\\120_Day_Period\\120_DaySums_StdNormAnomaly\\TRMM_CQ_2003001.tif\n",
        "3651"
       ]
      },
      {
       "output_type": "stream",
       "stream": "stdout",
       "text": [
        "\n",
        "D:\\Data\\0_DAILY_INTERVAL_NDVI_TRMM\\InnerMongolia\\NDVI\\DaySums_StdNormAnomalyRes\\TRMM_CQ_2003001.tif\n",
        "D:\\Data\\0_DAILY_INTERVAL_NDVI_TRMM\\InnerMongolia\\PLOT_CHARTS\\COHERENCE//Charts_Col31Row15CumPer4_raw.png"
       ]
      },
      {
       "output_type": "stream",
       "stream": "stdout",
       "text": [
        "\n",
        "\n"
       ]
      },
      {
       "output_type": "stream",
       "stream": "stdout",
       "text": [
        "D:\\Data\\0_DAILY_INTERVAL_NDVI_TRMM\\InnerMongolia\\TRMM\\150_Day_Period\\150_DaySums_StdNormAnomaly \n",
        "D:\\Data\\0_DAILY_INTERVAL_NDVI_TRMM\\InnerMongolia\\NDVI\\DaySums_StdNormAnomalyRes \n",
        "5\n",
        "3653"
       ]
      },
      {
       "output_type": "stream",
       "stream": "stdout",
       "text": [
        "\n",
        "D:\\Data\\0_DAILY_INTERVAL_NDVI_TRMM\\InnerMongolia\\TRMM\\150_Day_Period\\150_DaySums_StdNormAnomaly\\TRMM_CQ_2003001.tif\n",
        "D:\\Data\\0_DAILY_INTERVAL_NDVI_TRMM\\InnerMongolia\\PLOT_CHARTS\\COHERENCE//Charts_Col31Row15CumPer5_raw.png"
       ]
      },
      {
       "output_type": "stream",
       "stream": "stdout",
       "text": [
        "\n",
        "\n"
       ]
      },
      {
       "output_type": "stream",
       "stream": "stdout",
       "text": [
        "D:\\Data\\0_DAILY_INTERVAL_NDVI_TRMM\\InnerMongolia\\TRMM\\120_Day_Period\\120_DaySums_StdNormAnomaly \n",
        "D:\\Data\\0_DAILY_INTERVAL_NDVI_TRMM\\InnerMongolia\\NDVI\\DaySums_StdNormAnomalyRes \n",
        "4\n",
        "3653"
       ]
      },
      {
       "output_type": "stream",
       "stream": "stdout",
       "text": [
        "\n",
        "D:\\Data\\0_DAILY_INTERVAL_NDVI_TRMM\\InnerMongolia\\TRMM\\120_Day_Period\\120_DaySums_StdNormAnomaly\\TRMM_CQ_2003001.tif\n",
        "3651"
       ]
      },
      {
       "output_type": "stream",
       "stream": "stdout",
       "text": [
        "\n",
        "D:\\Data\\0_DAILY_INTERVAL_NDVI_TRMM\\InnerMongolia\\NDVI\\DaySums_StdNormAnomalyRes\\TRMM_CQ_2003001.tif\n",
        "D:\\Data\\0_DAILY_INTERVAL_NDVI_TRMM\\InnerMongolia\\PLOT_CHARTS\\COHERENCE//Charts_Col31Row16CumPer4_raw.png"
       ]
      },
      {
       "output_type": "stream",
       "stream": "stdout",
       "text": [
        "\n",
        "\n"
       ]
      },
      {
       "output_type": "stream",
       "stream": "stdout",
       "text": [
        "D:\\Data\\0_DAILY_INTERVAL_NDVI_TRMM\\InnerMongolia\\TRMM\\150_Day_Period\\150_DaySums_StdNormAnomaly \n",
        "D:\\Data\\0_DAILY_INTERVAL_NDVI_TRMM\\InnerMongolia\\NDVI\\DaySums_StdNormAnomalyRes \n",
        "5\n",
        "3653"
       ]
      },
      {
       "output_type": "stream",
       "stream": "stdout",
       "text": [
        "\n",
        "D:\\Data\\0_DAILY_INTERVAL_NDVI_TRMM\\InnerMongolia\\TRMM\\150_Day_Period\\150_DaySums_StdNormAnomaly\\TRMM_CQ_2003001.tif\n",
        "D:\\Data\\0_DAILY_INTERVAL_NDVI_TRMM\\InnerMongolia\\PLOT_CHARTS\\COHERENCE//Charts_Col31Row16CumPer5_raw.png"
       ]
      },
      {
       "output_type": "stream",
       "stream": "stdout",
       "text": [
        "\n",
        "\n"
       ]
      },
      {
       "output_type": "stream",
       "stream": "stdout",
       "text": [
        "D:\\Data\\0_DAILY_INTERVAL_NDVI_TRMM\\InnerMongolia\\TRMM\\120_Day_Period\\120_DaySums_StdNormAnomaly \n",
        "D:\\Data\\0_DAILY_INTERVAL_NDVI_TRMM\\InnerMongolia\\NDVI\\DaySums_StdNormAnomalyRes \n",
        "4\n",
        "3653"
       ]
      },
      {
       "output_type": "stream",
       "stream": "stdout",
       "text": [
        "\n",
        "D:\\Data\\0_DAILY_INTERVAL_NDVI_TRMM\\InnerMongolia\\TRMM\\120_Day_Period\\120_DaySums_StdNormAnomaly\\TRMM_CQ_2003001.tif\n",
        "3651"
       ]
      },
      {
       "output_type": "stream",
       "stream": "stdout",
       "text": [
        "\n",
        "D:\\Data\\0_DAILY_INTERVAL_NDVI_TRMM\\InnerMongolia\\NDVI\\DaySums_StdNormAnomalyRes\\TRMM_CQ_2003001.tif\n",
        "D:\\Data\\0_DAILY_INTERVAL_NDVI_TRMM\\InnerMongolia\\PLOT_CHARTS\\COHERENCE//Charts_Col31Row17CumPer4_raw.png"
       ]
      },
      {
       "output_type": "stream",
       "stream": "stdout",
       "text": [
        "\n",
        "\n"
       ]
      },
      {
       "output_type": "stream",
       "stream": "stdout",
       "text": [
        "D:\\Data\\0_DAILY_INTERVAL_NDVI_TRMM\\InnerMongolia\\TRMM\\150_Day_Period\\150_DaySums_StdNormAnomaly \n",
        "D:\\Data\\0_DAILY_INTERVAL_NDVI_TRMM\\InnerMongolia\\NDVI\\DaySums_StdNormAnomalyRes \n",
        "5\n",
        "3653"
       ]
      },
      {
       "output_type": "stream",
       "stream": "stdout",
       "text": [
        "\n",
        "D:\\Data\\0_DAILY_INTERVAL_NDVI_TRMM\\InnerMongolia\\TRMM\\150_Day_Period\\150_DaySums_StdNormAnomaly\\TRMM_CQ_2003001.tif\n",
        "D:\\Data\\0_DAILY_INTERVAL_NDVI_TRMM\\InnerMongolia\\PLOT_CHARTS\\COHERENCE//Charts_Col31Row17CumPer5_raw.png"
       ]
      },
      {
       "output_type": "stream",
       "stream": "stdout",
       "text": [
        "\n",
        "\n"
       ]
      },
      {
       "output_type": "stream",
       "stream": "stdout",
       "text": [
        "D:\\Data\\0_DAILY_INTERVAL_NDVI_TRMM\\InnerMongolia\\TRMM\\120_Day_Period\\120_DaySums_StdNormAnomaly \n",
        "D:\\Data\\0_DAILY_INTERVAL_NDVI_TRMM\\InnerMongolia\\NDVI\\DaySums_StdNormAnomalyRes \n",
        "4\n",
        "3653"
       ]
      },
      {
       "output_type": "stream",
       "stream": "stdout",
       "text": [
        "\n",
        "D:\\Data\\0_DAILY_INTERVAL_NDVI_TRMM\\InnerMongolia\\TRMM\\120_Day_Period\\120_DaySums_StdNormAnomaly\\TRMM_CQ_2003001.tif\n",
        "3651"
       ]
      },
      {
       "output_type": "stream",
       "stream": "stdout",
       "text": [
        "\n",
        "D:\\Data\\0_DAILY_INTERVAL_NDVI_TRMM\\InnerMongolia\\NDVI\\DaySums_StdNormAnomalyRes\\TRMM_CQ_2003001.tif\n",
        "D:\\Data\\0_DAILY_INTERVAL_NDVI_TRMM\\InnerMongolia\\PLOT_CHARTS\\COHERENCE//Charts_Col31Row18CumPer4_raw.png"
       ]
      },
      {
       "output_type": "stream",
       "stream": "stdout",
       "text": [
        "\n",
        "\n"
       ]
      },
      {
       "output_type": "stream",
       "stream": "stdout",
       "text": [
        "D:\\Data\\0_DAILY_INTERVAL_NDVI_TRMM\\InnerMongolia\\TRMM\\150_Day_Period\\150_DaySums_StdNormAnomaly \n",
        "D:\\Data\\0_DAILY_INTERVAL_NDVI_TRMM\\InnerMongolia\\NDVI\\DaySums_StdNormAnomalyRes \n",
        "5\n",
        "3653\n",
        "D:\\Data\\0_DAILY_INTERVAL_NDVI_TRMM\\InnerMongolia\\TRMM\\150_Day_Period\\150_DaySums_StdNormAnomaly\\TRMM_CQ_2003001.tif\n",
        "D:\\Data\\0_DAILY_INTERVAL_NDVI_TRMM\\InnerMongolia\\PLOT_CHARTS\\COHERENCE//Charts_Col31Row18CumPer5_raw.png"
       ]
      },
      {
       "output_type": "stream",
       "stream": "stdout",
       "text": [
        "\n",
        "\n"
       ]
      },
      {
       "output_type": "stream",
       "stream": "stdout",
       "text": [
        "D:\\Data\\0_DAILY_INTERVAL_NDVI_TRMM\\InnerMongolia\\TRMM\\120_Day_Period\\120_DaySums_StdNormAnomaly \n",
        "D:\\Data\\0_DAILY_INTERVAL_NDVI_TRMM\\InnerMongolia\\NDVI\\DaySums_StdNormAnomalyRes \n",
        "4\n",
        "3653"
       ]
      },
      {
       "output_type": "stream",
       "stream": "stdout",
       "text": [
        "\n",
        "D:\\Data\\0_DAILY_INTERVAL_NDVI_TRMM\\InnerMongolia\\TRMM\\120_Day_Period\\120_DaySums_StdNormAnomaly\\TRMM_CQ_2003001.tif\n",
        "3651"
       ]
      },
      {
       "output_type": "stream",
       "stream": "stdout",
       "text": [
        "\n",
        "D:\\Data\\0_DAILY_INTERVAL_NDVI_TRMM\\InnerMongolia\\NDVI\\DaySums_StdNormAnomalyRes\\TRMM_CQ_2003001.tif\n",
        "D:\\Data\\0_DAILY_INTERVAL_NDVI_TRMM\\InnerMongolia\\PLOT_CHARTS\\COHERENCE//Charts_Col31Row19CumPer4_raw.png"
       ]
      },
      {
       "output_type": "stream",
       "stream": "stdout",
       "text": [
        "\n",
        "\n"
       ]
      },
      {
       "output_type": "stream",
       "stream": "stdout",
       "text": [
        "D:\\Data\\0_DAILY_INTERVAL_NDVI_TRMM\\InnerMongolia\\TRMM\\150_Day_Period\\150_DaySums_StdNormAnomaly \n",
        "D:\\Data\\0_DAILY_INTERVAL_NDVI_TRMM\\InnerMongolia\\NDVI\\DaySums_StdNormAnomalyRes \n",
        "5\n",
        "3653"
       ]
      },
      {
       "output_type": "stream",
       "stream": "stdout",
       "text": [
        "\n",
        "D:\\Data\\0_DAILY_INTERVAL_NDVI_TRMM\\InnerMongolia\\TRMM\\150_Day_Period\\150_DaySums_StdNormAnomaly\\TRMM_CQ_2003001.tif\n",
        "D:\\Data\\0_DAILY_INTERVAL_NDVI_TRMM\\InnerMongolia\\PLOT_CHARTS\\COHERENCE//Charts_Col31Row19CumPer5_raw.png"
       ]
      },
      {
       "output_type": "stream",
       "stream": "stdout",
       "text": [
        "\n",
        "\n"
       ]
      },
      {
       "output_type": "stream",
       "stream": "stdout",
       "text": [
        "D:\\Data\\0_DAILY_INTERVAL_NDVI_TRMM\\InnerMongolia\\TRMM\\120_Day_Period\\120_DaySums_StdNormAnomaly \n",
        "D:\\Data\\0_DAILY_INTERVAL_NDVI_TRMM\\InnerMongolia\\NDVI\\DaySums_StdNormAnomalyRes \n",
        "4\n",
        "3653"
       ]
      },
      {
       "output_type": "stream",
       "stream": "stdout",
       "text": [
        "\n",
        "D:\\Data\\0_DAILY_INTERVAL_NDVI_TRMM\\InnerMongolia\\TRMM\\120_Day_Period\\120_DaySums_StdNormAnomaly\\TRMM_CQ_2003001.tif\n",
        "3651"
       ]
      },
      {
       "output_type": "stream",
       "stream": "stdout",
       "text": [
        "\n",
        "D:\\Data\\0_DAILY_INTERVAL_NDVI_TRMM\\InnerMongolia\\NDVI\\DaySums_StdNormAnomalyRes\\TRMM_CQ_2003001.tif\n",
        "D:\\Data\\0_DAILY_INTERVAL_NDVI_TRMM\\InnerMongolia\\PLOT_CHARTS\\COHERENCE//Charts_Col31Row20CumPer4_raw.png"
       ]
      },
      {
       "output_type": "stream",
       "stream": "stdout",
       "text": [
        "\n",
        "\n"
       ]
      },
      {
       "output_type": "stream",
       "stream": "stdout",
       "text": [
        "D:\\Data\\0_DAILY_INTERVAL_NDVI_TRMM\\InnerMongolia\\TRMM\\150_Day_Period\\150_DaySums_StdNormAnomaly \n",
        "D:\\Data\\0_DAILY_INTERVAL_NDVI_TRMM\\InnerMongolia\\NDVI\\DaySums_StdNormAnomalyRes \n",
        "5\n",
        "3653"
       ]
      },
      {
       "output_type": "stream",
       "stream": "stdout",
       "text": [
        "\n",
        "D:\\Data\\0_DAILY_INTERVAL_NDVI_TRMM\\InnerMongolia\\TRMM\\150_Day_Period\\150_DaySums_StdNormAnomaly\\TRMM_CQ_2003001.tif\n",
        "D:\\Data\\0_DAILY_INTERVAL_NDVI_TRMM\\InnerMongolia\\PLOT_CHARTS\\COHERENCE//Charts_Col31Row20CumPer5_raw.png"
       ]
      },
      {
       "output_type": "stream",
       "stream": "stdout",
       "text": [
        "\n",
        "\n"
       ]
      },
      {
       "output_type": "stream",
       "stream": "stdout",
       "text": [
        "D:\\Data\\0_DAILY_INTERVAL_NDVI_TRMM\\InnerMongolia\\TRMM\\120_Day_Period\\120_DaySums_StdNormAnomaly \n",
        "D:\\Data\\0_DAILY_INTERVAL_NDVI_TRMM\\InnerMongolia\\NDVI\\DaySums_StdNormAnomalyRes \n",
        "4\n",
        "3653"
       ]
      },
      {
       "output_type": "stream",
       "stream": "stdout",
       "text": [
        "\n",
        "D:\\Data\\0_DAILY_INTERVAL_NDVI_TRMM\\InnerMongolia\\TRMM\\120_Day_Period\\120_DaySums_StdNormAnomaly\\TRMM_CQ_2003001.tif\n",
        "3651"
       ]
      },
      {
       "output_type": "stream",
       "stream": "stdout",
       "text": [
        "\n",
        "D:\\Data\\0_DAILY_INTERVAL_NDVI_TRMM\\InnerMongolia\\NDVI\\DaySums_StdNormAnomalyRes\\TRMM_CQ_2003001.tif\n",
        "D:\\Data\\0_DAILY_INTERVAL_NDVI_TRMM\\InnerMongolia\\PLOT_CHARTS\\COHERENCE//Charts_Col31Row21CumPer4_raw.png"
       ]
      },
      {
       "output_type": "stream",
       "stream": "stdout",
       "text": [
        "\n",
        "\n"
       ]
      },
      {
       "output_type": "stream",
       "stream": "stdout",
       "text": [
        "D:\\Data\\0_DAILY_INTERVAL_NDVI_TRMM\\InnerMongolia\\TRMM\\150_Day_Period\\150_DaySums_StdNormAnomaly \n",
        "D:\\Data\\0_DAILY_INTERVAL_NDVI_TRMM\\InnerMongolia\\NDVI\\DaySums_StdNormAnomalyRes \n",
        "5\n",
        "3653"
       ]
      },
      {
       "output_type": "stream",
       "stream": "stdout",
       "text": [
        "\n",
        "D:\\Data\\0_DAILY_INTERVAL_NDVI_TRMM\\InnerMongolia\\TRMM\\150_Day_Period\\150_DaySums_StdNormAnomaly\\TRMM_CQ_2003001.tif\n",
        "D:\\Data\\0_DAILY_INTERVAL_NDVI_TRMM\\InnerMongolia\\PLOT_CHARTS\\COHERENCE//Charts_Col31Row21CumPer5_raw.png"
       ]
      },
      {
       "output_type": "stream",
       "stream": "stdout",
       "text": [
        "\n",
        "\n"
       ]
      },
      {
       "output_type": "stream",
       "stream": "stdout",
       "text": [
        "D:\\Data\\0_DAILY_INTERVAL_NDVI_TRMM\\InnerMongolia\\TRMM\\120_Day_Period\\120_DaySums_StdNormAnomaly \n",
        "D:\\Data\\0_DAILY_INTERVAL_NDVI_TRMM\\InnerMongolia\\NDVI\\DaySums_StdNormAnomalyRes \n",
        "4\n",
        "3653"
       ]
      },
      {
       "output_type": "stream",
       "stream": "stdout",
       "text": [
        "\n",
        "D:\\Data\\0_DAILY_INTERVAL_NDVI_TRMM\\InnerMongolia\\TRMM\\120_Day_Period\\120_DaySums_StdNormAnomaly\\TRMM_CQ_2003001.tif\n",
        "3651"
       ]
      },
      {
       "output_type": "stream",
       "stream": "stdout",
       "text": [
        "\n",
        "D:\\Data\\0_DAILY_INTERVAL_NDVI_TRMM\\InnerMongolia\\NDVI\\DaySums_StdNormAnomalyRes\\TRMM_CQ_2003001.tif\n",
        "D:\\Data\\0_DAILY_INTERVAL_NDVI_TRMM\\InnerMongolia\\PLOT_CHARTS\\COHERENCE//Charts_Col31Row22CumPer4_raw.png"
       ]
      },
      {
       "output_type": "stream",
       "stream": "stdout",
       "text": [
        "\n",
        "\n"
       ]
      },
      {
       "output_type": "stream",
       "stream": "stdout",
       "text": [
        "D:\\Data\\0_DAILY_INTERVAL_NDVI_TRMM\\InnerMongolia\\TRMM\\150_Day_Period\\150_DaySums_StdNormAnomaly \n",
        "D:\\Data\\0_DAILY_INTERVAL_NDVI_TRMM\\InnerMongolia\\NDVI\\DaySums_StdNormAnomalyRes \n",
        "5\n",
        "3653"
       ]
      },
      {
       "output_type": "stream",
       "stream": "stdout",
       "text": [
        "\n",
        "D:\\Data\\0_DAILY_INTERVAL_NDVI_TRMM\\InnerMongolia\\TRMM\\150_Day_Period\\150_DaySums_StdNormAnomaly\\TRMM_CQ_2003001.tif\n",
        "D:\\Data\\0_DAILY_INTERVAL_NDVI_TRMM\\InnerMongolia\\PLOT_CHARTS\\COHERENCE//Charts_Col31Row22CumPer5_raw.png"
       ]
      },
      {
       "output_type": "stream",
       "stream": "stdout",
       "text": [
        "\n",
        "\n"
       ]
      },
      {
       "output_type": "stream",
       "stream": "stdout",
       "text": [
        "D:\\Data\\0_DAILY_INTERVAL_NDVI_TRMM\\InnerMongolia\\TRMM\\120_Day_Period\\120_DaySums_StdNormAnomaly \n",
        "D:\\Data\\0_DAILY_INTERVAL_NDVI_TRMM\\InnerMongolia\\NDVI\\DaySums_StdNormAnomalyRes \n",
        "4\n",
        "3653"
       ]
      },
      {
       "output_type": "stream",
       "stream": "stdout",
       "text": [
        "\n",
        "D:\\Data\\0_DAILY_INTERVAL_NDVI_TRMM\\InnerMongolia\\TRMM\\120_Day_Period\\120_DaySums_StdNormAnomaly\\TRMM_CQ_2003001.tif\n",
        "3651"
       ]
      },
      {
       "output_type": "stream",
       "stream": "stdout",
       "text": [
        "\n",
        "D:\\Data\\0_DAILY_INTERVAL_NDVI_TRMM\\InnerMongolia\\NDVI\\DaySums_StdNormAnomalyRes\\TRMM_CQ_2003001.tif\n",
        "D:\\Data\\0_DAILY_INTERVAL_NDVI_TRMM\\InnerMongolia\\PLOT_CHARTS\\COHERENCE//Charts_Col31Row23CumPer4_raw.png"
       ]
      },
      {
       "output_type": "stream",
       "stream": "stdout",
       "text": [
        "\n",
        "\n"
       ]
      },
      {
       "output_type": "stream",
       "stream": "stdout",
       "text": [
        "D:\\Data\\0_DAILY_INTERVAL_NDVI_TRMM\\InnerMongolia\\TRMM\\150_Day_Period\\150_DaySums_StdNormAnomaly \n",
        "D:\\Data\\0_DAILY_INTERVAL_NDVI_TRMM\\InnerMongolia\\NDVI\\DaySums_StdNormAnomalyRes \n",
        "5\n",
        "3653"
       ]
      },
      {
       "output_type": "stream",
       "stream": "stdout",
       "text": [
        "\n",
        "D:\\Data\\0_DAILY_INTERVAL_NDVI_TRMM\\InnerMongolia\\TRMM\\150_Day_Period\\150_DaySums_StdNormAnomaly\\TRMM_CQ_2003001.tif\n",
        "D:\\Data\\0_DAILY_INTERVAL_NDVI_TRMM\\InnerMongolia\\PLOT_CHARTS\\COHERENCE//Charts_Col31Row23CumPer5_raw.png"
       ]
      },
      {
       "output_type": "stream",
       "stream": "stdout",
       "text": [
        "\n",
        "\n"
       ]
      },
      {
       "output_type": "stream",
       "stream": "stdout",
       "text": [
        "D:\\Data\\0_DAILY_INTERVAL_NDVI_TRMM\\InnerMongolia\\TRMM\\120_Day_Period\\120_DaySums_StdNormAnomaly \n",
        "D:\\Data\\0_DAILY_INTERVAL_NDVI_TRMM\\InnerMongolia\\NDVI\\DaySums_StdNormAnomalyRes \n",
        "4\n",
        "3653"
       ]
      },
      {
       "output_type": "stream",
       "stream": "stdout",
       "text": [
        "\n",
        "D:\\Data\\0_DAILY_INTERVAL_NDVI_TRMM\\InnerMongolia\\TRMM\\120_Day_Period\\120_DaySums_StdNormAnomaly\\TRMM_CQ_2003001.tif\n",
        "3651"
       ]
      },
      {
       "output_type": "stream",
       "stream": "stdout",
       "text": [
        "\n",
        "D:\\Data\\0_DAILY_INTERVAL_NDVI_TRMM\\InnerMongolia\\NDVI\\DaySums_StdNormAnomalyRes\\TRMM_CQ_2003001.tif\n",
        "D:\\Data\\0_DAILY_INTERVAL_NDVI_TRMM\\InnerMongolia\\PLOT_CHARTS\\COHERENCE//Charts_Col32Row13CumPer4_raw.png"
       ]
      },
      {
       "output_type": "stream",
       "stream": "stdout",
       "text": [
        "\n",
        "\n"
       ]
      },
      {
       "output_type": "stream",
       "stream": "stdout",
       "text": [
        "D:\\Data\\0_DAILY_INTERVAL_NDVI_TRMM\\InnerMongolia\\TRMM\\150_Day_Period\\150_DaySums_StdNormAnomaly \n",
        "D:\\Data\\0_DAILY_INTERVAL_NDVI_TRMM\\InnerMongolia\\NDVI\\DaySums_StdNormAnomalyRes \n",
        "5\n",
        "3653"
       ]
      },
      {
       "output_type": "stream",
       "stream": "stdout",
       "text": [
        "\n",
        "D:\\Data\\0_DAILY_INTERVAL_NDVI_TRMM\\InnerMongolia\\TRMM\\150_Day_Period\\150_DaySums_StdNormAnomaly\\TRMM_CQ_2003001.tif\n",
        "D:\\Data\\0_DAILY_INTERVAL_NDVI_TRMM\\InnerMongolia\\PLOT_CHARTS\\COHERENCE//Charts_Col32Row13CumPer5_raw.png"
       ]
      },
      {
       "output_type": "stream",
       "stream": "stdout",
       "text": [
        "\n",
        "\n"
       ]
      },
      {
       "output_type": "stream",
       "stream": "stdout",
       "text": [
        "D:\\Data\\0_DAILY_INTERVAL_NDVI_TRMM\\InnerMongolia\\TRMM\\120_Day_Period\\120_DaySums_StdNormAnomaly \n",
        "D:\\Data\\0_DAILY_INTERVAL_NDVI_TRMM\\InnerMongolia\\NDVI\\DaySums_StdNormAnomalyRes \n",
        "4\n",
        "3653"
       ]
      },
      {
       "output_type": "stream",
       "stream": "stdout",
       "text": [
        "\n",
        "D:\\Data\\0_DAILY_INTERVAL_NDVI_TRMM\\InnerMongolia\\TRMM\\120_Day_Period\\120_DaySums_StdNormAnomaly\\TRMM_CQ_2003001.tif\n",
        "3651"
       ]
      },
      {
       "output_type": "stream",
       "stream": "stdout",
       "text": [
        "\n",
        "D:\\Data\\0_DAILY_INTERVAL_NDVI_TRMM\\InnerMongolia\\NDVI\\DaySums_StdNormAnomalyRes\\TRMM_CQ_2003001.tif\n",
        "D:\\Data\\0_DAILY_INTERVAL_NDVI_TRMM\\InnerMongolia\\PLOT_CHARTS\\COHERENCE//Charts_Col32Row14CumPer4_raw.png"
       ]
      },
      {
       "output_type": "stream",
       "stream": "stdout",
       "text": [
        "\n",
        "\n"
       ]
      },
      {
       "output_type": "stream",
       "stream": "stdout",
       "text": [
        "D:\\Data\\0_DAILY_INTERVAL_NDVI_TRMM\\InnerMongolia\\TRMM\\150_Day_Period\\150_DaySums_StdNormAnomaly \n",
        "D:\\Data\\0_DAILY_INTERVAL_NDVI_TRMM\\InnerMongolia\\NDVI\\DaySums_StdNormAnomalyRes \n",
        "5\n",
        "3653"
       ]
      },
      {
       "output_type": "stream",
       "stream": "stdout",
       "text": [
        "\n",
        "D:\\Data\\0_DAILY_INTERVAL_NDVI_TRMM\\InnerMongolia\\TRMM\\150_Day_Period\\150_DaySums_StdNormAnomaly\\TRMM_CQ_2003001.tif\n",
        "D:\\Data\\0_DAILY_INTERVAL_NDVI_TRMM\\InnerMongolia\\PLOT_CHARTS\\COHERENCE//Charts_Col32Row14CumPer5_raw.png"
       ]
      },
      {
       "output_type": "stream",
       "stream": "stdout",
       "text": [
        "\n",
        "\n"
       ]
      },
      {
       "output_type": "stream",
       "stream": "stdout",
       "text": [
        "D:\\Data\\0_DAILY_INTERVAL_NDVI_TRMM\\InnerMongolia\\TRMM\\120_Day_Period\\120_DaySums_StdNormAnomaly \n",
        "D:\\Data\\0_DAILY_INTERVAL_NDVI_TRMM\\InnerMongolia\\NDVI\\DaySums_StdNormAnomalyRes \n",
        "4\n",
        "3653"
       ]
      },
      {
       "output_type": "stream",
       "stream": "stdout",
       "text": [
        "\n",
        "D:\\Data\\0_DAILY_INTERVAL_NDVI_TRMM\\InnerMongolia\\TRMM\\120_Day_Period\\120_DaySums_StdNormAnomaly\\TRMM_CQ_2003001.tif\n",
        "3651"
       ]
      },
      {
       "output_type": "stream",
       "stream": "stdout",
       "text": [
        "\n",
        "D:\\Data\\0_DAILY_INTERVAL_NDVI_TRMM\\InnerMongolia\\NDVI\\DaySums_StdNormAnomalyRes\\TRMM_CQ_2003001.tif\n",
        "D:\\Data\\0_DAILY_INTERVAL_NDVI_TRMM\\InnerMongolia\\PLOT_CHARTS\\COHERENCE//Charts_Col32Row15CumPer4_raw.png"
       ]
      },
      {
       "output_type": "stream",
       "stream": "stdout",
       "text": [
        "\n",
        "\n"
       ]
      },
      {
       "output_type": "stream",
       "stream": "stdout",
       "text": [
        "D:\\Data\\0_DAILY_INTERVAL_NDVI_TRMM\\InnerMongolia\\TRMM\\150_Day_Period\\150_DaySums_StdNormAnomaly \n",
        "D:\\Data\\0_DAILY_INTERVAL_NDVI_TRMM\\InnerMongolia\\NDVI\\DaySums_StdNormAnomalyRes \n",
        "5\n",
        "3653"
       ]
      },
      {
       "output_type": "stream",
       "stream": "stdout",
       "text": [
        "\n",
        "D:\\Data\\0_DAILY_INTERVAL_NDVI_TRMM\\InnerMongolia\\TRMM\\150_Day_Period\\150_DaySums_StdNormAnomaly\\TRMM_CQ_2003001.tif\n",
        "D:\\Data\\0_DAILY_INTERVAL_NDVI_TRMM\\InnerMongolia\\PLOT_CHARTS\\COHERENCE//Charts_Col32Row15CumPer5_raw.png"
       ]
      },
      {
       "output_type": "stream",
       "stream": "stdout",
       "text": [
        "\n",
        "\n"
       ]
      },
      {
       "output_type": "stream",
       "stream": "stdout",
       "text": [
        "D:\\Data\\0_DAILY_INTERVAL_NDVI_TRMM\\InnerMongolia\\TRMM\\120_Day_Period\\120_DaySums_StdNormAnomaly \n",
        "D:\\Data\\0_DAILY_INTERVAL_NDVI_TRMM\\InnerMongolia\\NDVI\\DaySums_StdNormAnomalyRes \n",
        "4\n",
        "3653"
       ]
      },
      {
       "output_type": "stream",
       "stream": "stdout",
       "text": [
        "\n",
        "D:\\Data\\0_DAILY_INTERVAL_NDVI_TRMM\\InnerMongolia\\TRMM\\120_Day_Period\\120_DaySums_StdNormAnomaly\\TRMM_CQ_2003001.tif\n",
        "3651"
       ]
      },
      {
       "output_type": "stream",
       "stream": "stdout",
       "text": [
        "\n",
        "D:\\Data\\0_DAILY_INTERVAL_NDVI_TRMM\\InnerMongolia\\NDVI\\DaySums_StdNormAnomalyRes\\TRMM_CQ_2003001.tif\n",
        "D:\\Data\\0_DAILY_INTERVAL_NDVI_TRMM\\InnerMongolia\\PLOT_CHARTS\\COHERENCE//Charts_Col32Row16CumPer4_raw.png"
       ]
      },
      {
       "output_type": "stream",
       "stream": "stdout",
       "text": [
        "\n",
        "\n"
       ]
      },
      {
       "output_type": "stream",
       "stream": "stdout",
       "text": [
        "D:\\Data\\0_DAILY_INTERVAL_NDVI_TRMM\\InnerMongolia\\TRMM\\150_Day_Period\\150_DaySums_StdNormAnomaly \n",
        "D:\\Data\\0_DAILY_INTERVAL_NDVI_TRMM\\InnerMongolia\\NDVI\\DaySums_StdNormAnomalyRes \n",
        "5\n",
        "3653\n",
        "D:\\Data\\0_DAILY_INTERVAL_NDVI_TRMM\\InnerMongolia\\TRMM\\150_Day_Period\\150_DaySums_StdNormAnomaly\\TRMM_CQ_2003001.tif\n",
        "D:\\Data\\0_DAILY_INTERVAL_NDVI_TRMM\\InnerMongolia\\PLOT_CHARTS\\COHERENCE//Charts_Col32Row16CumPer5_raw.png"
       ]
      },
      {
       "output_type": "stream",
       "stream": "stdout",
       "text": [
        "\n",
        "\n"
       ]
      },
      {
       "output_type": "stream",
       "stream": "stdout",
       "text": [
        "D:\\Data\\0_DAILY_INTERVAL_NDVI_TRMM\\InnerMongolia\\TRMM\\120_Day_Period\\120_DaySums_StdNormAnomaly \n",
        "D:\\Data\\0_DAILY_INTERVAL_NDVI_TRMM\\InnerMongolia\\NDVI\\DaySums_StdNormAnomalyRes \n",
        "4\n",
        "3653"
       ]
      },
      {
       "output_type": "stream",
       "stream": "stdout",
       "text": [
        "\n",
        "D:\\Data\\0_DAILY_INTERVAL_NDVI_TRMM\\InnerMongolia\\TRMM\\120_Day_Period\\120_DaySums_StdNormAnomaly\\TRMM_CQ_2003001.tif\n",
        "3651"
       ]
      },
      {
       "output_type": "stream",
       "stream": "stdout",
       "text": [
        "\n",
        "D:\\Data\\0_DAILY_INTERVAL_NDVI_TRMM\\InnerMongolia\\NDVI\\DaySums_StdNormAnomalyRes\\TRMM_CQ_2003001.tif\n",
        "D:\\Data\\0_DAILY_INTERVAL_NDVI_TRMM\\InnerMongolia\\PLOT_CHARTS\\COHERENCE//Charts_Col32Row17CumPer4_raw.png"
       ]
      },
      {
       "output_type": "stream",
       "stream": "stdout",
       "text": [
        "\n",
        "\n"
       ]
      },
      {
       "output_type": "stream",
       "stream": "stdout",
       "text": [
        "D:\\Data\\0_DAILY_INTERVAL_NDVI_TRMM\\InnerMongolia\\TRMM\\150_Day_Period\\150_DaySums_StdNormAnomaly \n",
        "D:\\Data\\0_DAILY_INTERVAL_NDVI_TRMM\\InnerMongolia\\NDVI\\DaySums_StdNormAnomalyRes \n",
        "5\n",
        "3653"
       ]
      },
      {
       "output_type": "stream",
       "stream": "stdout",
       "text": [
        "\n",
        "D:\\Data\\0_DAILY_INTERVAL_NDVI_TRMM\\InnerMongolia\\TRMM\\150_Day_Period\\150_DaySums_StdNormAnomaly\\TRMM_CQ_2003001.tif\n",
        "D:\\Data\\0_DAILY_INTERVAL_NDVI_TRMM\\InnerMongolia\\PLOT_CHARTS\\COHERENCE//Charts_Col32Row17CumPer5_raw.png"
       ]
      },
      {
       "output_type": "stream",
       "stream": "stdout",
       "text": [
        "\n",
        "\n"
       ]
      },
      {
       "output_type": "stream",
       "stream": "stdout",
       "text": [
        "D:\\Data\\0_DAILY_INTERVAL_NDVI_TRMM\\InnerMongolia\\TRMM\\120_Day_Period\\120_DaySums_StdNormAnomaly \n",
        "D:\\Data\\0_DAILY_INTERVAL_NDVI_TRMM\\InnerMongolia\\NDVI\\DaySums_StdNormAnomalyRes \n",
        "4\n",
        "3653"
       ]
      },
      {
       "output_type": "stream",
       "stream": "stdout",
       "text": [
        "\n",
        "D:\\Data\\0_DAILY_INTERVAL_NDVI_TRMM\\InnerMongolia\\TRMM\\120_Day_Period\\120_DaySums_StdNormAnomaly\\TRMM_CQ_2003001.tif\n",
        "3651"
       ]
      },
      {
       "output_type": "stream",
       "stream": "stdout",
       "text": [
        "\n",
        "D:\\Data\\0_DAILY_INTERVAL_NDVI_TRMM\\InnerMongolia\\NDVI\\DaySums_StdNormAnomalyRes\\TRMM_CQ_2003001.tif\n",
        "D:\\Data\\0_DAILY_INTERVAL_NDVI_TRMM\\InnerMongolia\\PLOT_CHARTS\\COHERENCE//Charts_Col32Row18CumPer4_raw.png"
       ]
      },
      {
       "output_type": "stream",
       "stream": "stdout",
       "text": [
        "\n",
        "\n"
       ]
      },
      {
       "output_type": "stream",
       "stream": "stdout",
       "text": [
        "D:\\Data\\0_DAILY_INTERVAL_NDVI_TRMM\\InnerMongolia\\TRMM\\150_Day_Period\\150_DaySums_StdNormAnomaly \n",
        "D:\\Data\\0_DAILY_INTERVAL_NDVI_TRMM\\InnerMongolia\\NDVI\\DaySums_StdNormAnomalyRes \n",
        "5\n",
        "3653"
       ]
      },
      {
       "output_type": "stream",
       "stream": "stdout",
       "text": [
        "\n",
        "D:\\Data\\0_DAILY_INTERVAL_NDVI_TRMM\\InnerMongolia\\TRMM\\150_Day_Period\\150_DaySums_StdNormAnomaly\\TRMM_CQ_2003001.tif\n",
        "D:\\Data\\0_DAILY_INTERVAL_NDVI_TRMM\\InnerMongolia\\PLOT_CHARTS\\COHERENCE//Charts_Col32Row18CumPer5_raw.png"
       ]
      },
      {
       "output_type": "stream",
       "stream": "stdout",
       "text": [
        "\n",
        "\n"
       ]
      },
      {
       "output_type": "stream",
       "stream": "stdout",
       "text": [
        "D:\\Data\\0_DAILY_INTERVAL_NDVI_TRMM\\InnerMongolia\\TRMM\\120_Day_Period\\120_DaySums_StdNormAnomaly \n",
        "D:\\Data\\0_DAILY_INTERVAL_NDVI_TRMM\\InnerMongolia\\NDVI\\DaySums_StdNormAnomalyRes \n",
        "4\n",
        "3653"
       ]
      },
      {
       "output_type": "stream",
       "stream": "stdout",
       "text": [
        "\n",
        "D:\\Data\\0_DAILY_INTERVAL_NDVI_TRMM\\InnerMongolia\\TRMM\\120_Day_Period\\120_DaySums_StdNormAnomaly\\TRMM_CQ_2003001.tif\n",
        "3651"
       ]
      },
      {
       "output_type": "stream",
       "stream": "stdout",
       "text": [
        "\n",
        "D:\\Data\\0_DAILY_INTERVAL_NDVI_TRMM\\InnerMongolia\\NDVI\\DaySums_StdNormAnomalyRes\\TRMM_CQ_2003001.tif\n",
        "D:\\Data\\0_DAILY_INTERVAL_NDVI_TRMM\\InnerMongolia\\PLOT_CHARTS\\COHERENCE//Charts_Col32Row19CumPer4_raw.png"
       ]
      },
      {
       "output_type": "stream",
       "stream": "stdout",
       "text": [
        "\n",
        "\n"
       ]
      },
      {
       "output_type": "stream",
       "stream": "stdout",
       "text": [
        "D:\\Data\\0_DAILY_INTERVAL_NDVI_TRMM\\InnerMongolia\\TRMM\\150_Day_Period\\150_DaySums_StdNormAnomaly \n",
        "D:\\Data\\0_DAILY_INTERVAL_NDVI_TRMM\\InnerMongolia\\NDVI\\DaySums_StdNormAnomalyRes \n",
        "5\n",
        "3653"
       ]
      },
      {
       "output_type": "stream",
       "stream": "stdout",
       "text": [
        "\n",
        "D:\\Data\\0_DAILY_INTERVAL_NDVI_TRMM\\InnerMongolia\\TRMM\\150_Day_Period\\150_DaySums_StdNormAnomaly\\TRMM_CQ_2003001.tif\n",
        "D:\\Data\\0_DAILY_INTERVAL_NDVI_TRMM\\InnerMongolia\\PLOT_CHARTS\\COHERENCE//Charts_Col32Row19CumPer5_raw.png"
       ]
      },
      {
       "output_type": "stream",
       "stream": "stdout",
       "text": [
        "\n",
        "\n"
       ]
      },
      {
       "output_type": "stream",
       "stream": "stdout",
       "text": [
        "D:\\Data\\0_DAILY_INTERVAL_NDVI_TRMM\\InnerMongolia\\TRMM\\120_Day_Period\\120_DaySums_StdNormAnomaly \n",
        "D:\\Data\\0_DAILY_INTERVAL_NDVI_TRMM\\InnerMongolia\\NDVI\\DaySums_StdNormAnomalyRes \n",
        "4\n",
        "3653"
       ]
      },
      {
       "output_type": "stream",
       "stream": "stdout",
       "text": [
        "\n",
        "D:\\Data\\0_DAILY_INTERVAL_NDVI_TRMM\\InnerMongolia\\TRMM\\120_Day_Period\\120_DaySums_StdNormAnomaly\\TRMM_CQ_2003001.tif\n",
        "3651"
       ]
      },
      {
       "output_type": "stream",
       "stream": "stdout",
       "text": [
        "\n",
        "D:\\Data\\0_DAILY_INTERVAL_NDVI_TRMM\\InnerMongolia\\NDVI\\DaySums_StdNormAnomalyRes\\TRMM_CQ_2003001.tif\n",
        "D:\\Data\\0_DAILY_INTERVAL_NDVI_TRMM\\InnerMongolia\\PLOT_CHARTS\\COHERENCE//Charts_Col32Row20CumPer4_raw.png"
       ]
      },
      {
       "output_type": "stream",
       "stream": "stdout",
       "text": [
        "\n",
        "\n"
       ]
      },
      {
       "output_type": "stream",
       "stream": "stdout",
       "text": [
        "D:\\Data\\0_DAILY_INTERVAL_NDVI_TRMM\\InnerMongolia\\TRMM\\150_Day_Period\\150_DaySums_StdNormAnomaly \n",
        "D:\\Data\\0_DAILY_INTERVAL_NDVI_TRMM\\InnerMongolia\\NDVI\\DaySums_StdNormAnomalyRes \n",
        "5\n",
        "3653"
       ]
      },
      {
       "output_type": "stream",
       "stream": "stdout",
       "text": [
        "\n",
        "D:\\Data\\0_DAILY_INTERVAL_NDVI_TRMM\\InnerMongolia\\TRMM\\150_Day_Period\\150_DaySums_StdNormAnomaly\\TRMM_CQ_2003001.tif\n",
        "D:\\Data\\0_DAILY_INTERVAL_NDVI_TRMM\\InnerMongolia\\PLOT_CHARTS\\COHERENCE//Charts_Col32Row20CumPer5_raw.png"
       ]
      },
      {
       "output_type": "stream",
       "stream": "stdout",
       "text": [
        "\n",
        "\n"
       ]
      },
      {
       "output_type": "stream",
       "stream": "stdout",
       "text": [
        "D:\\Data\\0_DAILY_INTERVAL_NDVI_TRMM\\InnerMongolia\\TRMM\\120_Day_Period\\120_DaySums_StdNormAnomaly \n",
        "D:\\Data\\0_DAILY_INTERVAL_NDVI_TRMM\\InnerMongolia\\NDVI\\DaySums_StdNormAnomalyRes \n",
        "4\n",
        "3653"
       ]
      },
      {
       "output_type": "stream",
       "stream": "stdout",
       "text": [
        "\n",
        "D:\\Data\\0_DAILY_INTERVAL_NDVI_TRMM\\InnerMongolia\\TRMM\\120_Day_Period\\120_DaySums_StdNormAnomaly\\TRMM_CQ_2003001.tif\n",
        "3651"
       ]
      },
      {
       "output_type": "stream",
       "stream": "stdout",
       "text": [
        "\n",
        "D:\\Data\\0_DAILY_INTERVAL_NDVI_TRMM\\InnerMongolia\\NDVI\\DaySums_StdNormAnomalyRes\\TRMM_CQ_2003001.tif\n",
        "D:\\Data\\0_DAILY_INTERVAL_NDVI_TRMM\\InnerMongolia\\PLOT_CHARTS\\COHERENCE//Charts_Col32Row21CumPer4_raw.png"
       ]
      },
      {
       "output_type": "stream",
       "stream": "stdout",
       "text": [
        "\n",
        "\n"
       ]
      },
      {
       "output_type": "stream",
       "stream": "stdout",
       "text": [
        "D:\\Data\\0_DAILY_INTERVAL_NDVI_TRMM\\InnerMongolia\\TRMM\\150_Day_Period\\150_DaySums_StdNormAnomaly \n",
        "D:\\Data\\0_DAILY_INTERVAL_NDVI_TRMM\\InnerMongolia\\NDVI\\DaySums_StdNormAnomalyRes \n",
        "5\n",
        "3653"
       ]
      },
      {
       "output_type": "stream",
       "stream": "stdout",
       "text": [
        "\n",
        "D:\\Data\\0_DAILY_INTERVAL_NDVI_TRMM\\InnerMongolia\\TRMM\\150_Day_Period\\150_DaySums_StdNormAnomaly\\TRMM_CQ_2003001.tif\n",
        "D:\\Data\\0_DAILY_INTERVAL_NDVI_TRMM\\InnerMongolia\\PLOT_CHARTS\\COHERENCE//Charts_Col32Row21CumPer5_raw.png"
       ]
      },
      {
       "output_type": "stream",
       "stream": "stdout",
       "text": [
        "\n",
        "\n"
       ]
      },
      {
       "output_type": "stream",
       "stream": "stdout",
       "text": [
        "D:\\Data\\0_DAILY_INTERVAL_NDVI_TRMM\\InnerMongolia\\TRMM\\120_Day_Period\\120_DaySums_StdNormAnomaly \n",
        "D:\\Data\\0_DAILY_INTERVAL_NDVI_TRMM\\InnerMongolia\\NDVI\\DaySums_StdNormAnomalyRes \n",
        "4\n",
        "3653"
       ]
      },
      {
       "output_type": "stream",
       "stream": "stdout",
       "text": [
        "\n",
        "D:\\Data\\0_DAILY_INTERVAL_NDVI_TRMM\\InnerMongolia\\TRMM\\120_Day_Period\\120_DaySums_StdNormAnomaly\\TRMM_CQ_2003001.tif\n",
        "3651"
       ]
      },
      {
       "output_type": "stream",
       "stream": "stdout",
       "text": [
        "\n",
        "D:\\Data\\0_DAILY_INTERVAL_NDVI_TRMM\\InnerMongolia\\NDVI\\DaySums_StdNormAnomalyRes\\TRMM_CQ_2003001.tif\n",
        "D:\\Data\\0_DAILY_INTERVAL_NDVI_TRMM\\InnerMongolia\\PLOT_CHARTS\\COHERENCE//Charts_Col32Row22CumPer4_raw.png"
       ]
      },
      {
       "output_type": "stream",
       "stream": "stdout",
       "text": [
        "\n",
        "\n"
       ]
      },
      {
       "output_type": "stream",
       "stream": "stdout",
       "text": [
        "D:\\Data\\0_DAILY_INTERVAL_NDVI_TRMM\\InnerMongolia\\TRMM\\150_Day_Period\\150_DaySums_StdNormAnomaly \n",
        "D:\\Data\\0_DAILY_INTERVAL_NDVI_TRMM\\InnerMongolia\\NDVI\\DaySums_StdNormAnomalyRes \n",
        "5\n",
        "3653"
       ]
      },
      {
       "output_type": "stream",
       "stream": "stdout",
       "text": [
        "\n",
        "D:\\Data\\0_DAILY_INTERVAL_NDVI_TRMM\\InnerMongolia\\TRMM\\150_Day_Period\\150_DaySums_StdNormAnomaly\\TRMM_CQ_2003001.tif\n",
        "D:\\Data\\0_DAILY_INTERVAL_NDVI_TRMM\\InnerMongolia\\PLOT_CHARTS\\COHERENCE//Charts_Col32Row22CumPer5_raw.png"
       ]
      },
      {
       "output_type": "stream",
       "stream": "stdout",
       "text": [
        "\n",
        "\n"
       ]
      },
      {
       "output_type": "stream",
       "stream": "stdout",
       "text": [
        "D:\\Data\\0_DAILY_INTERVAL_NDVI_TRMM\\InnerMongolia\\TRMM\\120_Day_Period\\120_DaySums_StdNormAnomaly \n",
        "D:\\Data\\0_DAILY_INTERVAL_NDVI_TRMM\\InnerMongolia\\NDVI\\DaySums_StdNormAnomalyRes \n",
        "4\n",
        "3653"
       ]
      },
      {
       "output_type": "stream",
       "stream": "stdout",
       "text": [
        "\n",
        "D:\\Data\\0_DAILY_INTERVAL_NDVI_TRMM\\InnerMongolia\\TRMM\\120_Day_Period\\120_DaySums_StdNormAnomaly\\TRMM_CQ_2003001.tif\n",
        "3651"
       ]
      },
      {
       "output_type": "stream",
       "stream": "stdout",
       "text": [
        "\n",
        "D:\\Data\\0_DAILY_INTERVAL_NDVI_TRMM\\InnerMongolia\\NDVI\\DaySums_StdNormAnomalyRes\\TRMM_CQ_2003001.tif\n",
        "D:\\Data\\0_DAILY_INTERVAL_NDVI_TRMM\\InnerMongolia\\PLOT_CHARTS\\COHERENCE//Charts_Col32Row23CumPer4_raw.png"
       ]
      },
      {
       "output_type": "stream",
       "stream": "stdout",
       "text": [
        "\n",
        "\n"
       ]
      },
      {
       "output_type": "stream",
       "stream": "stdout",
       "text": [
        "D:\\Data\\0_DAILY_INTERVAL_NDVI_TRMM\\InnerMongolia\\TRMM\\150_Day_Period\\150_DaySums_StdNormAnomaly \n",
        "D:\\Data\\0_DAILY_INTERVAL_NDVI_TRMM\\InnerMongolia\\NDVI\\DaySums_StdNormAnomalyRes \n",
        "5\n",
        "3653\n",
        "D:\\Data\\0_DAILY_INTERVAL_NDVI_TRMM\\InnerMongolia\\TRMM\\150_Day_Period\\150_DaySums_StdNormAnomaly\\TRMM_CQ_2003001.tif\n",
        "D:\\Data\\0_DAILY_INTERVAL_NDVI_TRMM\\InnerMongolia\\PLOT_CHARTS\\COHERENCE//Charts_Col32Row23CumPer5_raw.png"
       ]
      },
      {
       "output_type": "stream",
       "stream": "stdout",
       "text": [
        "\n",
        "\n"
       ]
      },
      {
       "output_type": "stream",
       "stream": "stdout",
       "text": [
        "D:\\Data\\0_DAILY_INTERVAL_NDVI_TRMM\\InnerMongolia\\TRMM\\120_Day_Period\\120_DaySums_StdNormAnomaly \n",
        "D:\\Data\\0_DAILY_INTERVAL_NDVI_TRMM\\InnerMongolia\\NDVI\\DaySums_StdNormAnomalyRes \n",
        "4\n",
        "3653"
       ]
      },
      {
       "output_type": "stream",
       "stream": "stdout",
       "text": [
        "\n",
        "D:\\Data\\0_DAILY_INTERVAL_NDVI_TRMM\\InnerMongolia\\TRMM\\120_Day_Period\\120_DaySums_StdNormAnomaly\\TRMM_CQ_2003001.tif\n",
        "3651"
       ]
      },
      {
       "output_type": "stream",
       "stream": "stdout",
       "text": [
        "\n",
        "D:\\Data\\0_DAILY_INTERVAL_NDVI_TRMM\\InnerMongolia\\NDVI\\DaySums_StdNormAnomalyRes\\TRMM_CQ_2003001.tif\n",
        "D:\\Data\\0_DAILY_INTERVAL_NDVI_TRMM\\InnerMongolia\\PLOT_CHARTS\\COHERENCE//Charts_Col33Row13CumPer4_raw.png"
       ]
      },
      {
       "output_type": "stream",
       "stream": "stdout",
       "text": [
        "\n",
        "\n"
       ]
      },
      {
       "output_type": "stream",
       "stream": "stdout",
       "text": [
        "D:\\Data\\0_DAILY_INTERVAL_NDVI_TRMM\\InnerMongolia\\TRMM\\150_Day_Period\\150_DaySums_StdNormAnomaly \n",
        "D:\\Data\\0_DAILY_INTERVAL_NDVI_TRMM\\InnerMongolia\\NDVI\\DaySums_StdNormAnomalyRes \n",
        "5\n",
        "3653"
       ]
      },
      {
       "output_type": "stream",
       "stream": "stdout",
       "text": [
        "\n",
        "D:\\Data\\0_DAILY_INTERVAL_NDVI_TRMM\\InnerMongolia\\TRMM\\150_Day_Period\\150_DaySums_StdNormAnomaly\\TRMM_CQ_2003001.tif\n",
        "D:\\Data\\0_DAILY_INTERVAL_NDVI_TRMM\\InnerMongolia\\PLOT_CHARTS\\COHERENCE//Charts_Col33Row13CumPer5_raw.png"
       ]
      },
      {
       "output_type": "stream",
       "stream": "stdout",
       "text": [
        "\n",
        "\n"
       ]
      },
      {
       "output_type": "stream",
       "stream": "stdout",
       "text": [
        "D:\\Data\\0_DAILY_INTERVAL_NDVI_TRMM\\InnerMongolia\\TRMM\\120_Day_Period\\120_DaySums_StdNormAnomaly \n",
        "D:\\Data\\0_DAILY_INTERVAL_NDVI_TRMM\\InnerMongolia\\NDVI\\DaySums_StdNormAnomalyRes \n",
        "4\n",
        "3653"
       ]
      },
      {
       "output_type": "stream",
       "stream": "stdout",
       "text": [
        "\n",
        "D:\\Data\\0_DAILY_INTERVAL_NDVI_TRMM\\InnerMongolia\\TRMM\\120_Day_Period\\120_DaySums_StdNormAnomaly\\TRMM_CQ_2003001.tif\n",
        "3651"
       ]
      },
      {
       "output_type": "stream",
       "stream": "stdout",
       "text": [
        "\n",
        "D:\\Data\\0_DAILY_INTERVAL_NDVI_TRMM\\InnerMongolia\\NDVI\\DaySums_StdNormAnomalyRes\\TRMM_CQ_2003001.tif\n",
        "D:\\Data\\0_DAILY_INTERVAL_NDVI_TRMM\\InnerMongolia\\PLOT_CHARTS\\COHERENCE//Charts_Col33Row14CumPer4_raw.png"
       ]
      },
      {
       "output_type": "stream",
       "stream": "stdout",
       "text": [
        "\n",
        "\n"
       ]
      },
      {
       "output_type": "stream",
       "stream": "stdout",
       "text": [
        "D:\\Data\\0_DAILY_INTERVAL_NDVI_TRMM\\InnerMongolia\\TRMM\\150_Day_Period\\150_DaySums_StdNormAnomaly \n",
        "D:\\Data\\0_DAILY_INTERVAL_NDVI_TRMM\\InnerMongolia\\NDVI\\DaySums_StdNormAnomalyRes \n",
        "5\n",
        "3653"
       ]
      },
      {
       "output_type": "stream",
       "stream": "stdout",
       "text": [
        "\n",
        "D:\\Data\\0_DAILY_INTERVAL_NDVI_TRMM\\InnerMongolia\\TRMM\\150_Day_Period\\150_DaySums_StdNormAnomaly\\TRMM_CQ_2003001.tif\n",
        "D:\\Data\\0_DAILY_INTERVAL_NDVI_TRMM\\InnerMongolia\\PLOT_CHARTS\\COHERENCE//Charts_Col33Row14CumPer5_raw.png"
       ]
      },
      {
       "output_type": "stream",
       "stream": "stdout",
       "text": [
        "\n",
        "\n"
       ]
      },
      {
       "output_type": "stream",
       "stream": "stdout",
       "text": [
        "D:\\Data\\0_DAILY_INTERVAL_NDVI_TRMM\\InnerMongolia\\TRMM\\120_Day_Period\\120_DaySums_StdNormAnomaly \n",
        "D:\\Data\\0_DAILY_INTERVAL_NDVI_TRMM\\InnerMongolia\\NDVI\\DaySums_StdNormAnomalyRes \n",
        "4\n",
        "3653"
       ]
      },
      {
       "output_type": "stream",
       "stream": "stdout",
       "text": [
        "\n",
        "D:\\Data\\0_DAILY_INTERVAL_NDVI_TRMM\\InnerMongolia\\TRMM\\120_Day_Period\\120_DaySums_StdNormAnomaly\\TRMM_CQ_2003001.tif\n",
        "3651"
       ]
      },
      {
       "output_type": "stream",
       "stream": "stdout",
       "text": [
        "\n",
        "D:\\Data\\0_DAILY_INTERVAL_NDVI_TRMM\\InnerMongolia\\NDVI\\DaySums_StdNormAnomalyRes\\TRMM_CQ_2003001.tif\n",
        "D:\\Data\\0_DAILY_INTERVAL_NDVI_TRMM\\InnerMongolia\\PLOT_CHARTS\\COHERENCE//Charts_Col33Row15CumPer4_raw.png"
       ]
      },
      {
       "output_type": "stream",
       "stream": "stdout",
       "text": [
        "\n",
        "\n"
       ]
      },
      {
       "output_type": "stream",
       "stream": "stdout",
       "text": [
        "D:\\Data\\0_DAILY_INTERVAL_NDVI_TRMM\\InnerMongolia\\TRMM\\150_Day_Period\\150_DaySums_StdNormAnomaly \n",
        "D:\\Data\\0_DAILY_INTERVAL_NDVI_TRMM\\InnerMongolia\\NDVI\\DaySums_StdNormAnomalyRes \n",
        "5\n",
        "3653"
       ]
      },
      {
       "output_type": "stream",
       "stream": "stdout",
       "text": [
        "\n",
        "D:\\Data\\0_DAILY_INTERVAL_NDVI_TRMM\\InnerMongolia\\TRMM\\150_Day_Period\\150_DaySums_StdNormAnomaly\\TRMM_CQ_2003001.tif\n",
        "D:\\Data\\0_DAILY_INTERVAL_NDVI_TRMM\\InnerMongolia\\PLOT_CHARTS\\COHERENCE//Charts_Col33Row15CumPer5_raw.png"
       ]
      },
      {
       "output_type": "stream",
       "stream": "stdout",
       "text": [
        "\n",
        "\n"
       ]
      },
      {
       "output_type": "stream",
       "stream": "stdout",
       "text": [
        "D:\\Data\\0_DAILY_INTERVAL_NDVI_TRMM\\InnerMongolia\\TRMM\\120_Day_Period\\120_DaySums_StdNormAnomaly \n",
        "D:\\Data\\0_DAILY_INTERVAL_NDVI_TRMM\\InnerMongolia\\NDVI\\DaySums_StdNormAnomalyRes \n",
        "4\n",
        "3653"
       ]
      },
      {
       "output_type": "stream",
       "stream": "stdout",
       "text": [
        "\n",
        "D:\\Data\\0_DAILY_INTERVAL_NDVI_TRMM\\InnerMongolia\\TRMM\\120_Day_Period\\120_DaySums_StdNormAnomaly\\TRMM_CQ_2003001.tif\n",
        "3651"
       ]
      },
      {
       "output_type": "stream",
       "stream": "stdout",
       "text": [
        "\n",
        "D:\\Data\\0_DAILY_INTERVAL_NDVI_TRMM\\InnerMongolia\\NDVI\\DaySums_StdNormAnomalyRes\\TRMM_CQ_2003001.tif\n",
        "D:\\Data\\0_DAILY_INTERVAL_NDVI_TRMM\\InnerMongolia\\PLOT_CHARTS\\COHERENCE//Charts_Col33Row16CumPer4_raw.png"
       ]
      },
      {
       "output_type": "stream",
       "stream": "stdout",
       "text": [
        "\n",
        "\n"
       ]
      },
      {
       "output_type": "stream",
       "stream": "stdout",
       "text": [
        "D:\\Data\\0_DAILY_INTERVAL_NDVI_TRMM\\InnerMongolia\\TRMM\\150_Day_Period\\150_DaySums_StdNormAnomaly \n",
        "D:\\Data\\0_DAILY_INTERVAL_NDVI_TRMM\\InnerMongolia\\NDVI\\DaySums_StdNormAnomalyRes \n",
        "5\n",
        "3653"
       ]
      },
      {
       "output_type": "stream",
       "stream": "stdout",
       "text": [
        "\n",
        "D:\\Data\\0_DAILY_INTERVAL_NDVI_TRMM\\InnerMongolia\\TRMM\\150_Day_Period\\150_DaySums_StdNormAnomaly\\TRMM_CQ_2003001.tif\n",
        "D:\\Data\\0_DAILY_INTERVAL_NDVI_TRMM\\InnerMongolia\\PLOT_CHARTS\\COHERENCE//Charts_Col33Row16CumPer5_raw.png"
       ]
      },
      {
       "output_type": "stream",
       "stream": "stdout",
       "text": [
        "\n",
        "\n"
       ]
      },
      {
       "output_type": "stream",
       "stream": "stdout",
       "text": [
        "D:\\Data\\0_DAILY_INTERVAL_NDVI_TRMM\\InnerMongolia\\TRMM\\120_Day_Period\\120_DaySums_StdNormAnomaly \n",
        "D:\\Data\\0_DAILY_INTERVAL_NDVI_TRMM\\InnerMongolia\\NDVI\\DaySums_StdNormAnomalyRes \n",
        "4\n",
        "3653"
       ]
      },
      {
       "output_type": "stream",
       "stream": "stdout",
       "text": [
        "\n",
        "D:\\Data\\0_DAILY_INTERVAL_NDVI_TRMM\\InnerMongolia\\TRMM\\120_Day_Period\\120_DaySums_StdNormAnomaly\\TRMM_CQ_2003001.tif\n",
        "3651"
       ]
      },
      {
       "output_type": "stream",
       "stream": "stdout",
       "text": [
        "\n",
        "D:\\Data\\0_DAILY_INTERVAL_NDVI_TRMM\\InnerMongolia\\NDVI\\DaySums_StdNormAnomalyRes\\TRMM_CQ_2003001.tif\n",
        "D:\\Data\\0_DAILY_INTERVAL_NDVI_TRMM\\InnerMongolia\\PLOT_CHARTS\\COHERENCE//Charts_Col33Row17CumPer4_raw.png"
       ]
      },
      {
       "output_type": "stream",
       "stream": "stdout",
       "text": [
        "\n",
        "\n"
       ]
      },
      {
       "output_type": "stream",
       "stream": "stdout",
       "text": [
        "D:\\Data\\0_DAILY_INTERVAL_NDVI_TRMM\\InnerMongolia\\TRMM\\150_Day_Period\\150_DaySums_StdNormAnomaly \n",
        "D:\\Data\\0_DAILY_INTERVAL_NDVI_TRMM\\InnerMongolia\\NDVI\\DaySums_StdNormAnomalyRes \n",
        "5\n",
        "3653"
       ]
      },
      {
       "output_type": "stream",
       "stream": "stdout",
       "text": [
        "\n",
        "D:\\Data\\0_DAILY_INTERVAL_NDVI_TRMM\\InnerMongolia\\TRMM\\150_Day_Period\\150_DaySums_StdNormAnomaly\\TRMM_CQ_2003001.tif\n",
        "D:\\Data\\0_DAILY_INTERVAL_NDVI_TRMM\\InnerMongolia\\PLOT_CHARTS\\COHERENCE//Charts_Col33Row17CumPer5_raw.png"
       ]
      },
      {
       "output_type": "stream",
       "stream": "stdout",
       "text": [
        "\n",
        "\n"
       ]
      },
      {
       "output_type": "stream",
       "stream": "stdout",
       "text": [
        "D:\\Data\\0_DAILY_INTERVAL_NDVI_TRMM\\InnerMongolia\\TRMM\\120_Day_Period\\120_DaySums_StdNormAnomaly \n",
        "D:\\Data\\0_DAILY_INTERVAL_NDVI_TRMM\\InnerMongolia\\NDVI\\DaySums_StdNormAnomalyRes \n",
        "4\n",
        "3653"
       ]
      },
      {
       "output_type": "stream",
       "stream": "stdout",
       "text": [
        "\n",
        "D:\\Data\\0_DAILY_INTERVAL_NDVI_TRMM\\InnerMongolia\\TRMM\\120_Day_Period\\120_DaySums_StdNormAnomaly\\TRMM_CQ_2003001.tif\n",
        "3651"
       ]
      },
      {
       "output_type": "stream",
       "stream": "stdout",
       "text": [
        "\n",
        "D:\\Data\\0_DAILY_INTERVAL_NDVI_TRMM\\InnerMongolia\\NDVI\\DaySums_StdNormAnomalyRes\\TRMM_CQ_2003001.tif\n",
        "D:\\Data\\0_DAILY_INTERVAL_NDVI_TRMM\\InnerMongolia\\PLOT_CHARTS\\COHERENCE//Charts_Col33Row18CumPer4_raw.png"
       ]
      },
      {
       "output_type": "stream",
       "stream": "stdout",
       "text": [
        "\n",
        "\n"
       ]
      },
      {
       "output_type": "stream",
       "stream": "stdout",
       "text": [
        "D:\\Data\\0_DAILY_INTERVAL_NDVI_TRMM\\InnerMongolia\\TRMM\\150_Day_Period\\150_DaySums_StdNormAnomaly \n",
        "D:\\Data\\0_DAILY_INTERVAL_NDVI_TRMM\\InnerMongolia\\NDVI\\DaySums_StdNormAnomalyRes \n",
        "5\n",
        "3653"
       ]
      },
      {
       "output_type": "stream",
       "stream": "stdout",
       "text": [
        "\n",
        "D:\\Data\\0_DAILY_INTERVAL_NDVI_TRMM\\InnerMongolia\\TRMM\\150_Day_Period\\150_DaySums_StdNormAnomaly\\TRMM_CQ_2003001.tif\n",
        "D:\\Data\\0_DAILY_INTERVAL_NDVI_TRMM\\InnerMongolia\\PLOT_CHARTS\\COHERENCE//Charts_Col33Row18CumPer5_raw.png"
       ]
      },
      {
       "output_type": "stream",
       "stream": "stdout",
       "text": [
        "\n",
        "\n"
       ]
      },
      {
       "output_type": "stream",
       "stream": "stdout",
       "text": [
        "D:\\Data\\0_DAILY_INTERVAL_NDVI_TRMM\\InnerMongolia\\TRMM\\120_Day_Period\\120_DaySums_StdNormAnomaly \n",
        "D:\\Data\\0_DAILY_INTERVAL_NDVI_TRMM\\InnerMongolia\\NDVI\\DaySums_StdNormAnomalyRes \n",
        "4\n",
        "3653"
       ]
      },
      {
       "output_type": "stream",
       "stream": "stdout",
       "text": [
        "\n",
        "D:\\Data\\0_DAILY_INTERVAL_NDVI_TRMM\\InnerMongolia\\TRMM\\120_Day_Period\\120_DaySums_StdNormAnomaly\\TRMM_CQ_2003001.tif\n",
        "3651"
       ]
      },
      {
       "output_type": "stream",
       "stream": "stdout",
       "text": [
        "\n",
        "D:\\Data\\0_DAILY_INTERVAL_NDVI_TRMM\\InnerMongolia\\NDVI\\DaySums_StdNormAnomalyRes\\TRMM_CQ_2003001.tif\n",
        "D:\\Data\\0_DAILY_INTERVAL_NDVI_TRMM\\InnerMongolia\\PLOT_CHARTS\\COHERENCE//Charts_Col33Row19CumPer4_raw.png"
       ]
      },
      {
       "output_type": "stream",
       "stream": "stdout",
       "text": [
        "\n",
        "\n"
       ]
      },
      {
       "output_type": "stream",
       "stream": "stdout",
       "text": [
        "D:\\Data\\0_DAILY_INTERVAL_NDVI_TRMM\\InnerMongolia\\TRMM\\150_Day_Period\\150_DaySums_StdNormAnomaly \n",
        "D:\\Data\\0_DAILY_INTERVAL_NDVI_TRMM\\InnerMongolia\\NDVI\\DaySums_StdNormAnomalyRes \n",
        "5\n",
        "3653"
       ]
      },
      {
       "output_type": "stream",
       "stream": "stdout",
       "text": [
        "\n",
        "D:\\Data\\0_DAILY_INTERVAL_NDVI_TRMM\\InnerMongolia\\TRMM\\150_Day_Period\\150_DaySums_StdNormAnomaly\\TRMM_CQ_2003001.tif\n",
        "D:\\Data\\0_DAILY_INTERVAL_NDVI_TRMM\\InnerMongolia\\PLOT_CHARTS\\COHERENCE//Charts_Col33Row19CumPer5_raw.png"
       ]
      },
      {
       "output_type": "stream",
       "stream": "stdout",
       "text": [
        "\n",
        "\n"
       ]
      },
      {
       "output_type": "stream",
       "stream": "stdout",
       "text": [
        "D:\\Data\\0_DAILY_INTERVAL_NDVI_TRMM\\InnerMongolia\\TRMM\\120_Day_Period\\120_DaySums_StdNormAnomaly \n",
        "D:\\Data\\0_DAILY_INTERVAL_NDVI_TRMM\\InnerMongolia\\NDVI\\DaySums_StdNormAnomalyRes \n",
        "4\n",
        "3653"
       ]
      },
      {
       "output_type": "stream",
       "stream": "stdout",
       "text": [
        "\n",
        "D:\\Data\\0_DAILY_INTERVAL_NDVI_TRMM\\InnerMongolia\\TRMM\\120_Day_Period\\120_DaySums_StdNormAnomaly\\TRMM_CQ_2003001.tif\n",
        "3651"
       ]
      },
      {
       "output_type": "stream",
       "stream": "stdout",
       "text": [
        "\n",
        "D:\\Data\\0_DAILY_INTERVAL_NDVI_TRMM\\InnerMongolia\\NDVI\\DaySums_StdNormAnomalyRes\\TRMM_CQ_2003001.tif\n",
        "D:\\Data\\0_DAILY_INTERVAL_NDVI_TRMM\\InnerMongolia\\PLOT_CHARTS\\COHERENCE//Charts_Col33Row20CumPer4_raw.png"
       ]
      },
      {
       "output_type": "stream",
       "stream": "stdout",
       "text": [
        "\n",
        "\n"
       ]
      },
      {
       "output_type": "stream",
       "stream": "stdout",
       "text": [
        "D:\\Data\\0_DAILY_INTERVAL_NDVI_TRMM\\InnerMongolia\\TRMM\\150_Day_Period\\150_DaySums_StdNormAnomaly \n",
        "D:\\Data\\0_DAILY_INTERVAL_NDVI_TRMM\\InnerMongolia\\NDVI\\DaySums_StdNormAnomalyRes \n",
        "5\n",
        "3653"
       ]
      },
      {
       "output_type": "stream",
       "stream": "stdout",
       "text": [
        "\n",
        "D:\\Data\\0_DAILY_INTERVAL_NDVI_TRMM\\InnerMongolia\\TRMM\\150_Day_Period\\150_DaySums_StdNormAnomaly\\TRMM_CQ_2003001.tif\n",
        "D:\\Data\\0_DAILY_INTERVAL_NDVI_TRMM\\InnerMongolia\\PLOT_CHARTS\\COHERENCE//Charts_Col33Row20CumPer5_raw.png"
       ]
      },
      {
       "output_type": "stream",
       "stream": "stdout",
       "text": [
        "\n",
        "\n"
       ]
      },
      {
       "output_type": "stream",
       "stream": "stdout",
       "text": [
        "D:\\Data\\0_DAILY_INTERVAL_NDVI_TRMM\\InnerMongolia\\TRMM\\120_Day_Period\\120_DaySums_StdNormAnomaly \n",
        "D:\\Data\\0_DAILY_INTERVAL_NDVI_TRMM\\InnerMongolia\\NDVI\\DaySums_StdNormAnomalyRes \n",
        "4\n",
        "3653"
       ]
      },
      {
       "output_type": "stream",
       "stream": "stdout",
       "text": [
        "\n",
        "D:\\Data\\0_DAILY_INTERVAL_NDVI_TRMM\\InnerMongolia\\TRMM\\120_Day_Period\\120_DaySums_StdNormAnomaly\\TRMM_CQ_2003001.tif\n",
        "3651"
       ]
      },
      {
       "output_type": "stream",
       "stream": "stdout",
       "text": [
        "\n",
        "D:\\Data\\0_DAILY_INTERVAL_NDVI_TRMM\\InnerMongolia\\NDVI\\DaySums_StdNormAnomalyRes\\TRMM_CQ_2003001.tif\n",
        "D:\\Data\\0_DAILY_INTERVAL_NDVI_TRMM\\InnerMongolia\\PLOT_CHARTS\\COHERENCE//Charts_Col33Row21CumPer4_raw.png"
       ]
      },
      {
       "output_type": "stream",
       "stream": "stdout",
       "text": [
        "\n",
        "\n"
       ]
      },
      {
       "output_type": "stream",
       "stream": "stdout",
       "text": [
        "D:\\Data\\0_DAILY_INTERVAL_NDVI_TRMM\\InnerMongolia\\TRMM\\150_Day_Period\\150_DaySums_StdNormAnomaly \n",
        "D:\\Data\\0_DAILY_INTERVAL_NDVI_TRMM\\InnerMongolia\\NDVI\\DaySums_StdNormAnomalyRes \n",
        "5\n",
        "3653"
       ]
      },
      {
       "output_type": "stream",
       "stream": "stdout",
       "text": [
        "\n",
        "D:\\Data\\0_DAILY_INTERVAL_NDVI_TRMM\\InnerMongolia\\TRMM\\150_Day_Period\\150_DaySums_StdNormAnomaly\\TRMM_CQ_2003001.tif\n",
        "D:\\Data\\0_DAILY_INTERVAL_NDVI_TRMM\\InnerMongolia\\PLOT_CHARTS\\COHERENCE//Charts_Col33Row21CumPer5_raw.png"
       ]
      },
      {
       "output_type": "stream",
       "stream": "stdout",
       "text": [
        "\n",
        "\n"
       ]
      },
      {
       "output_type": "stream",
       "stream": "stdout",
       "text": [
        "D:\\Data\\0_DAILY_INTERVAL_NDVI_TRMM\\InnerMongolia\\TRMM\\120_Day_Period\\120_DaySums_StdNormAnomaly \n",
        "D:\\Data\\0_DAILY_INTERVAL_NDVI_TRMM\\InnerMongolia\\NDVI\\DaySums_StdNormAnomalyRes \n",
        "4\n",
        "3653"
       ]
      },
      {
       "output_type": "stream",
       "stream": "stdout",
       "text": [
        "\n",
        "D:\\Data\\0_DAILY_INTERVAL_NDVI_TRMM\\InnerMongolia\\TRMM\\120_Day_Period\\120_DaySums_StdNormAnomaly\\TRMM_CQ_2003001.tif\n",
        "3651"
       ]
      },
      {
       "output_type": "stream",
       "stream": "stdout",
       "text": [
        "\n",
        "D:\\Data\\0_DAILY_INTERVAL_NDVI_TRMM\\InnerMongolia\\NDVI\\DaySums_StdNormAnomalyRes\\TRMM_CQ_2003001.tif\n",
        "D:\\Data\\0_DAILY_INTERVAL_NDVI_TRMM\\InnerMongolia\\PLOT_CHARTS\\COHERENCE//Charts_Col33Row22CumPer4_raw.png"
       ]
      },
      {
       "output_type": "stream",
       "stream": "stdout",
       "text": [
        "\n",
        "\n"
       ]
      },
      {
       "output_type": "stream",
       "stream": "stdout",
       "text": [
        "D:\\Data\\0_DAILY_INTERVAL_NDVI_TRMM\\InnerMongolia\\TRMM\\150_Day_Period\\150_DaySums_StdNormAnomaly \n",
        "D:\\Data\\0_DAILY_INTERVAL_NDVI_TRMM\\InnerMongolia\\NDVI\\DaySums_StdNormAnomalyRes \n",
        "5\n",
        "3653"
       ]
      },
      {
       "output_type": "stream",
       "stream": "stdout",
       "text": [
        "\n",
        "D:\\Data\\0_DAILY_INTERVAL_NDVI_TRMM\\InnerMongolia\\TRMM\\150_Day_Period\\150_DaySums_StdNormAnomaly\\TRMM_CQ_2003001.tif\n",
        "D:\\Data\\0_DAILY_INTERVAL_NDVI_TRMM\\InnerMongolia\\PLOT_CHARTS\\COHERENCE//Charts_Col33Row22CumPer5_raw.png"
       ]
      },
      {
       "output_type": "stream",
       "stream": "stdout",
       "text": [
        "\n",
        "\n"
       ]
      },
      {
       "output_type": "stream",
       "stream": "stdout",
       "text": [
        "D:\\Data\\0_DAILY_INTERVAL_NDVI_TRMM\\InnerMongolia\\TRMM\\120_Day_Period\\120_DaySums_StdNormAnomaly \n",
        "D:\\Data\\0_DAILY_INTERVAL_NDVI_TRMM\\InnerMongolia\\NDVI\\DaySums_StdNormAnomalyRes \n",
        "4\n",
        "3653"
       ]
      },
      {
       "output_type": "stream",
       "stream": "stdout",
       "text": [
        "\n",
        "D:\\Data\\0_DAILY_INTERVAL_NDVI_TRMM\\InnerMongolia\\TRMM\\120_Day_Period\\120_DaySums_StdNormAnomaly\\TRMM_CQ_2003001.tif\n",
        "3651"
       ]
      },
      {
       "output_type": "stream",
       "stream": "stdout",
       "text": [
        "\n",
        "D:\\Data\\0_DAILY_INTERVAL_NDVI_TRMM\\InnerMongolia\\NDVI\\DaySums_StdNormAnomalyRes\\TRMM_CQ_2003001.tif\n",
        "D:\\Data\\0_DAILY_INTERVAL_NDVI_TRMM\\InnerMongolia\\PLOT_CHARTS\\COHERENCE//Charts_Col33Row23CumPer4_raw.png"
       ]
      },
      {
       "output_type": "stream",
       "stream": "stdout",
       "text": [
        "\n",
        "\n"
       ]
      },
      {
       "output_type": "stream",
       "stream": "stdout",
       "text": [
        "D:\\Data\\0_DAILY_INTERVAL_NDVI_TRMM\\InnerMongolia\\TRMM\\150_Day_Period\\150_DaySums_StdNormAnomaly \n",
        "D:\\Data\\0_DAILY_INTERVAL_NDVI_TRMM\\InnerMongolia\\NDVI\\DaySums_StdNormAnomalyRes \n",
        "5\n",
        "3653"
       ]
      },
      {
       "output_type": "stream",
       "stream": "stdout",
       "text": [
        "\n",
        "D:\\Data\\0_DAILY_INTERVAL_NDVI_TRMM\\InnerMongolia\\TRMM\\150_Day_Period\\150_DaySums_StdNormAnomaly\\TRMM_CQ_2003001.tif\n",
        "D:\\Data\\0_DAILY_INTERVAL_NDVI_TRMM\\InnerMongolia\\PLOT_CHARTS\\COHERENCE//Charts_Col33Row23CumPer5_raw.png"
       ]
      },
      {
       "output_type": "stream",
       "stream": "stdout",
       "text": [
        "\n"
       ]
      },
      {
       "output_type": "stream",
       "stream": "stderr",
       "text": [
        "D:\\Python27\\lib\\site-packages\\numpy\\core\\numeric.py:460: ComplexWarning: Casting complex values to real discards the imaginary part\n",
        "  return array(a, dtype, copy=False, order=order)\n"
       ]
      }
     ],
     "prompt_number": 4
    },
    {
     "cell_type": "code",
     "collapsed": false,
     "input": [],
     "language": "python",
     "metadata": {},
     "outputs": []
    }
   ],
   "metadata": {}
  }
 ]
}