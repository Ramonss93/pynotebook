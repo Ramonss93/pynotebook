{
 "metadata": {
  "name": "",
  "signature": "sha256:faaeae5ab6a444690d23bc8a6b38ddbe806c8ea20ce7e4009d01334da03d288b"
 },
 "nbformat": 3,
 "nbformat_minor": 0,
 "worksheets": [
  {
   "cells": [
    {
     "cell_type": "code",
     "collapsed": false,
     "input": [
      "import os\n",
      "import geojson\n",
      "import subprocess as sp\n",
      "import json\n",
      "import sys\n",
      "import urllib\n",
      "from osgeo import gdal\n",
      "import numpy as np\n",
      "import matplotlib\n",
      "import matplotlib.colors as mcolors\n",
      "import matplotlib.pyplot as plt"
     ],
     "language": "python",
     "metadata": {},
     "outputs": [],
     "prompt_number": 1
    },
    {
     "cell_type": "code",
     "collapsed": false,
     "input": [
      "%matplotlib inline"
     ],
     "language": "python",
     "metadata": {},
     "outputs": [],
     "prompt_number": 2
    },
    {
     "cell_type": "code",
     "collapsed": false,
     "input": [
      "def getExtentCounty(province, prefecture, county, extent, ansidate, coverage):\n",
      "    \"\"\"\n",
      "    extract extent of coverage using OGC WCS and cut to county shape using gdalwarp\n",
      "    and OGC GeoPackage\n",
      "    \n",
      "    example: getExtentCounty(\"'Anhui'\",\"'Bengbu'\",\"'Guzhen'\",\n",
      "                             [117.04640962322,33.00404358318,117.59765626636,33.50222015793],\n",
      "                             150842, 'NDAI_1km')  \n",
      "    \n",
      "    output is the filepath of the raster layer cliped using the vector layer\n",
      "    \"\"\"\n",
      "    \n",
      "    extent = [117.04640962322863,33.00404358318741,117.59765626636589,33.50222015793983] # left, bottom, right, top\n",
      "    d = 150842\n",
      "    endpoint='http://192.168.1.104:8080/rasdaman/ows'\n",
      "    field={}\n",
      "    field['SERVICE']='WCS'\n",
      "    field['VERSION']='2.0.1'\n",
      "    field['REQUEST']='GetCoverage'\n",
      "    field['COVERAGEID']=coverage#'trmm_3b42_coverage_1'\n",
      "    field['SUBSET']=['ansi('+str(d)+')',\n",
      "                     'Lat('+str(extent[1])+','+str(extent[3])+')',\n",
      "                    'Long('+str(extent[0])+','+str(extent[2])+')']\n",
      "    field['FORMAT']='image/tiff'\n",
      "    url_values = urllib.urlencode(field,doseq=True)\n",
      "    full_url = endpoint + '?' + url_values\n",
      "    print full_url\n",
      "    wcsCoverage_filename='coverage'+str(d)+'.tif'\n",
      "    f,h = urllib.urlretrieve(full_url,wcsCoverage_filename)\n",
      "    print h \n",
      "    \n",
      "    #path_base = \"/home/rasdaman/Downloads\"\n",
      "    #CHN_adm_gpkg = os.path.join(path_base, \"CHN_adm.gpkg\")   \n",
      "    \n",
      "    #wcsCoverage_filename_clip = 'coverage'+str(d)+'clip.tif'    \n",
      "\n",
      "    #command = [\"/usr/bin/gdalwarp\", \"-cutline\", CHN_adm_gpkg, \"-csql\", \"SELECT NAME_3 FROM CHN_adm3 WHERE NAME_1 = \"+province+\" and NAME_2 = \"+prefecture+\" and NAME_3 = \"+county+\"\",\n",
      "    #       \"-crop_to_cutline\", \"-of\", \"GTiff\", \"-dstnodata\",\"-9999\",wcsCoverage_filename, wcsCoverage_filename_clip, \"-overwrite\"] # \n",
      "\n",
      "    #print (sp.list2cmdline(command))\n",
      "\n",
      "    #norm = sp.Popen(sp.list2cmdline(command), shell=True)  \n",
      "    #norm.communicate() \n",
      "    \n",
      "    return wcsCoverage_filename #wcsCoverage_filename_clip"
     ],
     "language": "python",
     "metadata": {},
     "outputs": [],
     "prompt_number": 9
    },
    {
     "cell_type": "code",
     "collapsed": false,
     "input": [
      "coverage = getExtentCounty(\"'Anhui'\",\"'Bengbu'\",\"'Guzhen'\",\n",
      "                             [117.04640962322,33.00404358318,117.59765626636,33.50222015793],\n",
      "                             150842, 'NDAI_1km')"
     ],
     "language": "python",
     "metadata": {},
     "outputs": [
      {
       "output_type": "stream",
       "stream": "stdout",
       "text": [
        "http://192.168.1.104:8080/rasdaman/ows?SUBSET=ansi%28150842%29&SUBSET=Lat%2833.0040435832%2C33.5022201579%29&SUBSET=Long%28117.046409623%2C117.597656266%29&SERVICE=WCS&FORMAT=image%2Ftiff&REQUEST=GetCoverage&VERSION=2.0.1&COVERAGEID=NDAI_1km\n",
        "Server: Apache-Coyote/1.1\r\n",
        "Access-Control-Allow-Origin: *\r\n",
        "Content-Type: text/xml;charset=utf-8\r\n",
        "Content-Length: 564\r\n",
        "Date: Wed, 28 Oct 2015 06:58:00 GMT\r\n",
        "Connection: Close\r\n",
        "Proxy-Connection: Close\r\n"
       ]
      },
      {
       "output_type": "stream",
       "stream": "stdout",
       "text": [
        "\n"
       ]
      }
     ],
     "prompt_number": 10
    },
    {
     "cell_type": "code",
     "collapsed": false,
     "input": [
      "test_ds = gdal.Open(\"D:\\GitHub\\pynotebook\\ipynotebooks\\Python2.7\\test150842clip.tif\")"
     ],
     "language": "python",
     "metadata": {},
     "outputs": [],
     "prompt_number": 15
    },
    {
     "cell_type": "code",
     "collapsed": false,
     "input": [
      "test_ds"
     ],
     "language": "python",
     "metadata": {},
     "outputs": [],
     "prompt_number": 16
    },
    {
     "cell_type": "code",
     "collapsed": false,
     "input": [
      "\"http://192.168.1.104/wps/wpsoutputs/Bound_GeoJSON-3c6185ec-7d13-11e5-aa45-4437e647de9f.geojson\""
     ],
     "language": "python",
     "metadata": {},
     "outputs": []
    }
   ],
   "metadata": {}
  }
 ]
}