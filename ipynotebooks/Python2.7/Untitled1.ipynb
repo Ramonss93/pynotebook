{
 "metadata": {
  "name": ""
 },
 "nbformat": 3,
 "nbformat_minor": 0,
 "worksheets": [
  {
   "cells": [
    {
     "cell_type": "code",
     "collapsed": false,
     "input": [
      "import sys\n",
      "import subprocess as sp\n",
      "from osgeo import gdal, ogr\n",
      "import os"
     ],
     "language": "python",
     "metadata": {},
     "outputs": [],
     "prompt_number": 1
    },
    {
     "cell_type": "code",
     "collapsed": false,
     "input": [
      "def FilesFolder(inGSODFolder, format_end=''):\n",
      "    \"\"\"\n",
      "    All files within one folder\n",
      "    \"\"\"\n",
      "    st_wmo = [os.path.join(root, name)\n",
      "               for root, dirs, files in os.walk(inGSODFolder)\n",
      "                 for name in files                 \n",
      "                 if name.endswith(format_end)]\n",
      "    return st_wmo\n",
      "\n",
      "def FilesFolder2(RootFolder, contains='', format_end=''):\n",
      "    \"\"\"\n",
      "    All files within all subfolders\n",
      "    \"\"\"\n",
      "    lists = [os.path.join(root, name)    \n",
      "                 for root, dirs, files in os.walk(RootFolder)\n",
      "                   for name in files\n",
      "                   if contains in name\n",
      "                     if name.endswith(format_end)]\n",
      "    return lists"
     ],
     "language": "python",
     "metadata": {},
     "outputs": [],
     "prompt_number": 42
    },
    {
     "cell_type": "code",
     "collapsed": false,
     "input": [
      "rstFolder = r'D:\\MODIS_NDVI'\n",
      "outFolder = r'D:\\Data\\0_DAILY_INTERVAL_NDVI_TRMM\\NDVI_InnerMongolia//'\n",
      "pthShp = r'D:\\Data\\ChinaShapefile//Inner Mongolia.shp'\n",
      "gdal_translate = r'D:\\Python33\\Lib\\site-packages\\osgeo\\gdal_translate.exe'\n",
      "\n",
      "driver = ogr.GetDriverByName('ESRI Shapefile')\n",
      "dataSource = driver.Open(pthShp, 0)\n",
      "Layer = dataSource.GetLayer()\n",
      "ulx, lrx, lry, uly = Layer.GetExtent()\n",
      "print ulx, uly, lrx, lry\n",
      "\n",
      "fils = FilesFolder2(rstFolder, '.tif')\n",
      "for j in fils: \n",
      "    #print j\n",
      "    outFile = j[-26::]\n",
      "    #print outFile\n",
      "    outPath = outFolder + outFile\n",
      "    paramsnorm = [gdal_translate, \"-projwin\", str(ulx), str(uly), str(lrx), str(lry), j, outPath]#\"-outsize\", \"6300\", \"3700\"\n",
      "    print (outPath)    \n",
      "    norm = sp.Popen(sp.list2cmdline(paramsnorm), shell=True)     \n",
      "    norm.communicate()\n",
      "    "
     ],
     "language": "python",
     "metadata": {},
     "outputs": [
      {
       "output_type": "stream",
       "stream": "stdout",
       "text": [
        "111.921921 49.4235760922 123.85793788 40.6642036714\n",
        "D:\\Data\\0_DAILY_INTERVAL_NDVI_TRMM\\NDVI_InnerMongolia//CN_2007_NDVI_recon.001.tif\n",
        "D:\\Data\\0_DAILY_INTERVAL_NDVI_TRMM\\NDVI_InnerMongolia//CN_2007_NDVI_recon.002.tif"
       ]
      },
      {
       "output_type": "stream",
       "stream": "stdout",
       "text": [
        "\n",
        "D:\\Data\\0_DAILY_INTERVAL_NDVI_TRMM\\NDVI_InnerMongolia//CN_2007_NDVI_recon.003.tif"
       ]
      },
      {
       "output_type": "stream",
       "stream": "stdout",
       "text": [
        "\n",
        "D:\\Data\\0_DAILY_INTERVAL_NDVI_TRMM\\NDVI_InnerMongolia//CN_2007_NDVI_recon.004.tif"
       ]
      },
      {
       "output_type": "stream",
       "stream": "stdout",
       "text": [
        "\n",
        "D:\\Data\\0_DAILY_INTERVAL_NDVI_TRMM\\NDVI_InnerMongolia//CN_2007_NDVI_recon.005.tif"
       ]
      },
      {
       "output_type": "stream",
       "stream": "stdout",
       "text": [
        "\n",
        "D:\\Data\\0_DAILY_INTERVAL_NDVI_TRMM\\NDVI_InnerMongolia//CN_2007_NDVI_recon.006.tif"
       ]
      },
      {
       "output_type": "stream",
       "stream": "stdout",
       "text": [
        "\n",
        "D:\\Data\\0_DAILY_INTERVAL_NDVI_TRMM\\NDVI_InnerMongolia//CN_2007_NDVI_recon.007.tif"
       ]
      },
      {
       "output_type": "stream",
       "stream": "stdout",
       "text": [
        "\n",
        "D:\\Data\\0_DAILY_INTERVAL_NDVI_TRMM\\NDVI_InnerMongolia//CN_2007_NDVI_recon.008.tif"
       ]
      },
      {
       "output_type": "stream",
       "stream": "stdout",
       "text": [
        "\n",
        "D:\\Data\\0_DAILY_INTERVAL_NDVI_TRMM\\NDVI_InnerMongolia//CN_2007_NDVI_recon.009.tif"
       ]
      },
      {
       "output_type": "stream",
       "stream": "stdout",
       "text": [
        "\n",
        "D:\\Data\\0_DAILY_INTERVAL_NDVI_TRMM\\NDVI_InnerMongolia//CN_2007_NDVI_recon.010.tif"
       ]
      },
      {
       "output_type": "stream",
       "stream": "stdout",
       "text": [
        "\n",
        "D:\\Data\\0_DAILY_INTERVAL_NDVI_TRMM\\NDVI_InnerMongolia//CN_2007_NDVI_recon.011.tif"
       ]
      },
      {
       "output_type": "stream",
       "stream": "stdout",
       "text": [
        "\n",
        "D:\\Data\\0_DAILY_INTERVAL_NDVI_TRMM\\NDVI_InnerMongolia//CN_2007_NDVI_recon.012.tif"
       ]
      },
      {
       "output_type": "stream",
       "stream": "stdout",
       "text": [
        "\n",
        "D:\\Data\\0_DAILY_INTERVAL_NDVI_TRMM\\NDVI_InnerMongolia//CN_2007_NDVI_recon.013.tif"
       ]
      },
      {
       "output_type": "stream",
       "stream": "stdout",
       "text": [
        "\n",
        "D:\\Data\\0_DAILY_INTERVAL_NDVI_TRMM\\NDVI_InnerMongolia//CN_2007_NDVI_recon.014.tif"
       ]
      },
      {
       "output_type": "stream",
       "stream": "stdout",
       "text": [
        "\n",
        "D:\\Data\\0_DAILY_INTERVAL_NDVI_TRMM\\NDVI_InnerMongolia//CN_2007_NDVI_recon.015.tif"
       ]
      },
      {
       "output_type": "stream",
       "stream": "stdout",
       "text": [
        "\n",
        "D:\\Data\\0_DAILY_INTERVAL_NDVI_TRMM\\NDVI_InnerMongolia//CN_2007_NDVI_recon.016.tif"
       ]
      },
      {
       "output_type": "stream",
       "stream": "stdout",
       "text": [
        "\n",
        "D:\\Data\\0_DAILY_INTERVAL_NDVI_TRMM\\NDVI_InnerMongolia//CN_2007_NDVI_recon.017.tif"
       ]
      },
      {
       "output_type": "stream",
       "stream": "stdout",
       "text": [
        "\n",
        "D:\\Data\\0_DAILY_INTERVAL_NDVI_TRMM\\NDVI_InnerMongolia//CN_2007_NDVI_recon.018.tif"
       ]
      },
      {
       "output_type": "stream",
       "stream": "stdout",
       "text": [
        "\n",
        "D:\\Data\\0_DAILY_INTERVAL_NDVI_TRMM\\NDVI_InnerMongolia//CN_2007_NDVI_recon.019.tif"
       ]
      },
      {
       "output_type": "stream",
       "stream": "stdout",
       "text": [
        "\n",
        "D:\\Data\\0_DAILY_INTERVAL_NDVI_TRMM\\NDVI_InnerMongolia//CN_2007_NDVI_recon.020.tif"
       ]
      },
      {
       "output_type": "stream",
       "stream": "stdout",
       "text": [
        "\n",
        "D:\\Data\\0_DAILY_INTERVAL_NDVI_TRMM\\NDVI_InnerMongolia//CN_2007_NDVI_recon.021.tif"
       ]
      },
      {
       "output_type": "stream",
       "stream": "stdout",
       "text": [
        "\n",
        "D:\\Data\\0_DAILY_INTERVAL_NDVI_TRMM\\NDVI_InnerMongolia//CN_2007_NDVI_recon.022.tif"
       ]
      },
      {
       "output_type": "stream",
       "stream": "stdout",
       "text": [
        "\n",
        "D:\\Data\\0_DAILY_INTERVAL_NDVI_TRMM\\NDVI_InnerMongolia//CN_2007_NDVI_recon.023.tif"
       ]
      },
      {
       "output_type": "stream",
       "stream": "stdout",
       "text": [
        "\n",
        "D:\\Data\\0_DAILY_INTERVAL_NDVI_TRMM\\NDVI_InnerMongolia//CN_2007_NDVI_recon.024.tif"
       ]
      },
      {
       "output_type": "stream",
       "stream": "stdout",
       "text": [
        "\n",
        "D:\\Data\\0_DAILY_INTERVAL_NDVI_TRMM\\NDVI_InnerMongolia//CN_2007_NDVI_recon.025.tif"
       ]
      },
      {
       "output_type": "stream",
       "stream": "stdout",
       "text": [
        "\n",
        "D:\\Data\\0_DAILY_INTERVAL_NDVI_TRMM\\NDVI_InnerMongolia//CN_2007_NDVI_recon.026.tif"
       ]
      },
      {
       "output_type": "stream",
       "stream": "stdout",
       "text": [
        "\n",
        "D:\\Data\\0_DAILY_INTERVAL_NDVI_TRMM\\NDVI_InnerMongolia//CN_2007_NDVI_recon.027.tif"
       ]
      },
      {
       "output_type": "stream",
       "stream": "stdout",
       "text": [
        "\n",
        "D:\\Data\\0_DAILY_INTERVAL_NDVI_TRMM\\NDVI_InnerMongolia//CN_2007_NDVI_recon.028.tif"
       ]
      },
      {
       "output_type": "stream",
       "stream": "stdout",
       "text": [
        "\n",
        "D:\\Data\\0_DAILY_INTERVAL_NDVI_TRMM\\NDVI_InnerMongolia//CN_2007_NDVI_recon.029.tif"
       ]
      },
      {
       "output_type": "stream",
       "stream": "stdout",
       "text": [
        "\n",
        "D:\\Data\\0_DAILY_INTERVAL_NDVI_TRMM\\NDVI_InnerMongolia//CN_2007_NDVI_recon.030.tif"
       ]
      },
      {
       "output_type": "stream",
       "stream": "stdout",
       "text": [
        "\n",
        "D:\\Data\\0_DAILY_INTERVAL_NDVI_TRMM\\NDVI_InnerMongolia//CN_2007_NDVI_recon.031.tif"
       ]
      },
      {
       "output_type": "stream",
       "stream": "stdout",
       "text": [
        "\n",
        "D:\\Data\\0_DAILY_INTERVAL_NDVI_TRMM\\NDVI_InnerMongolia//CN_2007_NDVI_recon.032.tif"
       ]
      },
      {
       "output_type": "stream",
       "stream": "stdout",
       "text": [
        "\n",
        "D:\\Data\\0_DAILY_INTERVAL_NDVI_TRMM\\NDVI_InnerMongolia//CN_2007_NDVI_recon.033.tif"
       ]
      },
      {
       "output_type": "stream",
       "stream": "stdout",
       "text": [
        "\n",
        "D:\\Data\\0_DAILY_INTERVAL_NDVI_TRMM\\NDVI_InnerMongolia//CN_2007_NDVI_recon.034.tif"
       ]
      },
      {
       "output_type": "stream",
       "stream": "stdout",
       "text": [
        "\n",
        "D:\\Data\\0_DAILY_INTERVAL_NDVI_TRMM\\NDVI_InnerMongolia//CN_2007_NDVI_recon.035.tif"
       ]
      },
      {
       "output_type": "stream",
       "stream": "stdout",
       "text": [
        "\n",
        "D:\\Data\\0_DAILY_INTERVAL_NDVI_TRMM\\NDVI_InnerMongolia//CN_2007_NDVI_recon.036.tif"
       ]
      },
      {
       "output_type": "stream",
       "stream": "stdout",
       "text": [
        "\n",
        "D:\\Data\\0_DAILY_INTERVAL_NDVI_TRMM\\NDVI_InnerMongolia//CN_2007_NDVI_recon.037.tif"
       ]
      },
      {
       "output_type": "stream",
       "stream": "stdout",
       "text": [
        "\n",
        "D:\\Data\\0_DAILY_INTERVAL_NDVI_TRMM\\NDVI_InnerMongolia//CN_2007_NDVI_recon.038.tif"
       ]
      },
      {
       "output_type": "stream",
       "stream": "stdout",
       "text": [
        "\n",
        "D:\\Data\\0_DAILY_INTERVAL_NDVI_TRMM\\NDVI_InnerMongolia//CN_2007_NDVI_recon.039.tif"
       ]
      },
      {
       "output_type": "stream",
       "stream": "stdout",
       "text": [
        "\n",
        "D:\\Data\\0_DAILY_INTERVAL_NDVI_TRMM\\NDVI_InnerMongolia//CN_2007_NDVI_recon.040.tif"
       ]
      },
      {
       "output_type": "stream",
       "stream": "stdout",
       "text": [
        "\n",
        "D:\\Data\\0_DAILY_INTERVAL_NDVI_TRMM\\NDVI_InnerMongolia//CN_2007_NDVI_recon.041.tif"
       ]
      },
      {
       "output_type": "stream",
       "stream": "stdout",
       "text": [
        "\n",
        "D:\\Data\\0_DAILY_INTERVAL_NDVI_TRMM\\NDVI_InnerMongolia//CN_2007_NDVI_recon.042.tif"
       ]
      },
      {
       "output_type": "stream",
       "stream": "stdout",
       "text": [
        "\n",
        "D:\\Data\\0_DAILY_INTERVAL_NDVI_TRMM\\NDVI_InnerMongolia//CN_2007_NDVI_recon.043.tif"
       ]
      },
      {
       "output_type": "stream",
       "stream": "stdout",
       "text": [
        "\n",
        "D:\\Data\\0_DAILY_INTERVAL_NDVI_TRMM\\NDVI_InnerMongolia//CN_2007_NDVI_recon.044.tif"
       ]
      },
      {
       "output_type": "stream",
       "stream": "stdout",
       "text": [
        "\n",
        "D:\\Data\\0_DAILY_INTERVAL_NDVI_TRMM\\NDVI_InnerMongolia//CN_2007_NDVI_recon.045.tif"
       ]
      },
      {
       "output_type": "stream",
       "stream": "stdout",
       "text": [
        "\n",
        "D:\\Data\\0_DAILY_INTERVAL_NDVI_TRMM\\NDVI_InnerMongolia//CN_2007_NDVI_recon.046.tif"
       ]
      },
      {
       "output_type": "stream",
       "stream": "stdout",
       "text": [
        "\n",
        "D:\\Data\\0_DAILY_INTERVAL_NDVI_TRMM\\NDVI_InnerMongolia//CN_2007_NDVI_recon.047.tif"
       ]
      },
      {
       "output_type": "stream",
       "stream": "stdout",
       "text": [
        "\n",
        "D:\\Data\\0_DAILY_INTERVAL_NDVI_TRMM\\NDVI_InnerMongolia//CN_2007_NDVI_recon.048.tif"
       ]
      },
      {
       "output_type": "stream",
       "stream": "stdout",
       "text": [
        "\n",
        "D:\\Data\\0_DAILY_INTERVAL_NDVI_TRMM\\NDVI_InnerMongolia//CN_2007_NDVI_recon.049.tif"
       ]
      },
      {
       "output_type": "stream",
       "stream": "stdout",
       "text": [
        "\n",
        "D:\\Data\\0_DAILY_INTERVAL_NDVI_TRMM\\NDVI_InnerMongolia//CN_2007_NDVI_recon.050.tif"
       ]
      },
      {
       "output_type": "stream",
       "stream": "stdout",
       "text": [
        "\n",
        "D:\\Data\\0_DAILY_INTERVAL_NDVI_TRMM\\NDVI_InnerMongolia//CN_2007_NDVI_recon.051.tif"
       ]
      },
      {
       "output_type": "stream",
       "stream": "stdout",
       "text": [
        "\n",
        "D:\\Data\\0_DAILY_INTERVAL_NDVI_TRMM\\NDVI_InnerMongolia//CN_2007_NDVI_recon.052.tif"
       ]
      },
      {
       "output_type": "stream",
       "stream": "stdout",
       "text": [
        "\n",
        "D:\\Data\\0_DAILY_INTERVAL_NDVI_TRMM\\NDVI_InnerMongolia//CN_2007_NDVI_recon.053.tif"
       ]
      },
      {
       "output_type": "stream",
       "stream": "stdout",
       "text": [
        "\n",
        "D:\\Data\\0_DAILY_INTERVAL_NDVI_TRMM\\NDVI_InnerMongolia//CN_2007_NDVI_recon.054.tif"
       ]
      },
      {
       "output_type": "stream",
       "stream": "stdout",
       "text": [
        "\n",
        "D:\\Data\\0_DAILY_INTERVAL_NDVI_TRMM\\NDVI_InnerMongolia//CN_2007_NDVI_recon.055.tif"
       ]
      },
      {
       "output_type": "stream",
       "stream": "stdout",
       "text": [
        "\n",
        "D:\\Data\\0_DAILY_INTERVAL_NDVI_TRMM\\NDVI_InnerMongolia//CN_2007_NDVI_recon.056.tif"
       ]
      },
      {
       "output_type": "stream",
       "stream": "stdout",
       "text": [
        "\n",
        "D:\\Data\\0_DAILY_INTERVAL_NDVI_TRMM\\NDVI_InnerMongolia//CN_2007_NDVI_recon.057.tif"
       ]
      },
      {
       "output_type": "stream",
       "stream": "stdout",
       "text": [
        "\n",
        "D:\\Data\\0_DAILY_INTERVAL_NDVI_TRMM\\NDVI_InnerMongolia//CN_2007_NDVI_recon.058.tif"
       ]
      },
      {
       "output_type": "stream",
       "stream": "stdout",
       "text": [
        "\n",
        "D:\\Data\\0_DAILY_INTERVAL_NDVI_TRMM\\NDVI_InnerMongolia//CN_2007_NDVI_recon.059.tif"
       ]
      },
      {
       "output_type": "stream",
       "stream": "stdout",
       "text": [
        "\n",
        "D:\\Data\\0_DAILY_INTERVAL_NDVI_TRMM\\NDVI_InnerMongolia//CN_2007_NDVI_recon.060.tif"
       ]
      },
      {
       "output_type": "stream",
       "stream": "stdout",
       "text": [
        "\n",
        "D:\\Data\\0_DAILY_INTERVAL_NDVI_TRMM\\NDVI_InnerMongolia//CN_2007_NDVI_recon.061.tif"
       ]
      },
      {
       "output_type": "stream",
       "stream": "stdout",
       "text": [
        "\n",
        "D:\\Data\\0_DAILY_INTERVAL_NDVI_TRMM\\NDVI_InnerMongolia//CN_2007_NDVI_recon.062.tif"
       ]
      },
      {
       "output_type": "stream",
       "stream": "stdout",
       "text": [
        "\n",
        "D:\\Data\\0_DAILY_INTERVAL_NDVI_TRMM\\NDVI_InnerMongolia//CN_2007_NDVI_recon.063.tif"
       ]
      },
      {
       "output_type": "stream",
       "stream": "stdout",
       "text": [
        "\n",
        "D:\\Data\\0_DAILY_INTERVAL_NDVI_TRMM\\NDVI_InnerMongolia//CN_2007_NDVI_recon.064.tif"
       ]
      },
      {
       "output_type": "stream",
       "stream": "stdout",
       "text": [
        "\n",
        "D:\\Data\\0_DAILY_INTERVAL_NDVI_TRMM\\NDVI_InnerMongolia//CN_2007_NDVI_recon.065.tif"
       ]
      },
      {
       "output_type": "stream",
       "stream": "stdout",
       "text": [
        "\n",
        "D:\\Data\\0_DAILY_INTERVAL_NDVI_TRMM\\NDVI_InnerMongolia//CN_2007_NDVI_recon.066.tif"
       ]
      },
      {
       "output_type": "stream",
       "stream": "stdout",
       "text": [
        "\n",
        "D:\\Data\\0_DAILY_INTERVAL_NDVI_TRMM\\NDVI_InnerMongolia//CN_2007_NDVI_recon.067.tif"
       ]
      },
      {
       "output_type": "stream",
       "stream": "stdout",
       "text": [
        "\n",
        "D:\\Data\\0_DAILY_INTERVAL_NDVI_TRMM\\NDVI_InnerMongolia//CN_2007_NDVI_recon.068.tif"
       ]
      },
      {
       "output_type": "stream",
       "stream": "stdout",
       "text": [
        "\n",
        "D:\\Data\\0_DAILY_INTERVAL_NDVI_TRMM\\NDVI_InnerMongolia//CN_2007_NDVI_recon.069.tif"
       ]
      },
      {
       "output_type": "stream",
       "stream": "stdout",
       "text": [
        "\n",
        "D:\\Data\\0_DAILY_INTERVAL_NDVI_TRMM\\NDVI_InnerMongolia//CN_2007_NDVI_recon.070.tif"
       ]
      },
      {
       "output_type": "stream",
       "stream": "stdout",
       "text": [
        "\n",
        "D:\\Data\\0_DAILY_INTERVAL_NDVI_TRMM\\NDVI_InnerMongolia//CN_2007_NDVI_recon.071.tif"
       ]
      },
      {
       "output_type": "stream",
       "stream": "stdout",
       "text": [
        "\n",
        "D:\\Data\\0_DAILY_INTERVAL_NDVI_TRMM\\NDVI_InnerMongolia//CN_2007_NDVI_recon.072.tif"
       ]
      },
      {
       "output_type": "stream",
       "stream": "stdout",
       "text": [
        "\n",
        "D:\\Data\\0_DAILY_INTERVAL_NDVI_TRMM\\NDVI_InnerMongolia//CN_2007_NDVI_recon.073.tif"
       ]
      },
      {
       "output_type": "stream",
       "stream": "stdout",
       "text": [
        "\n",
        "D:\\Data\\0_DAILY_INTERVAL_NDVI_TRMM\\NDVI_InnerMongolia//CN_2007_NDVI_recon.074.tif"
       ]
      },
      {
       "output_type": "stream",
       "stream": "stdout",
       "text": [
        "\n",
        "D:\\Data\\0_DAILY_INTERVAL_NDVI_TRMM\\NDVI_InnerMongolia//CN_2007_NDVI_recon.075.tif"
       ]
      },
      {
       "output_type": "stream",
       "stream": "stdout",
       "text": [
        "\n",
        "D:\\Data\\0_DAILY_INTERVAL_NDVI_TRMM\\NDVI_InnerMongolia//CN_2007_NDVI_recon.076.tif"
       ]
      },
      {
       "output_type": "stream",
       "stream": "stdout",
       "text": [
        "\n",
        "D:\\Data\\0_DAILY_INTERVAL_NDVI_TRMM\\NDVI_InnerMongolia//CN_2007_NDVI_recon.077.tif"
       ]
      },
      {
       "output_type": "stream",
       "stream": "stdout",
       "text": [
        "\n",
        "D:\\Data\\0_DAILY_INTERVAL_NDVI_TRMM\\NDVI_InnerMongolia//CN_2007_NDVI_recon.078.tif"
       ]
      },
      {
       "output_type": "stream",
       "stream": "stdout",
       "text": [
        "\n",
        "D:\\Data\\0_DAILY_INTERVAL_NDVI_TRMM\\NDVI_InnerMongolia//CN_2007_NDVI_recon.079.tif"
       ]
      },
      {
       "output_type": "stream",
       "stream": "stdout",
       "text": [
        "\n",
        "D:\\Data\\0_DAILY_INTERVAL_NDVI_TRMM\\NDVI_InnerMongolia//CN_2007_NDVI_recon.080.tif"
       ]
      },
      {
       "output_type": "stream",
       "stream": "stdout",
       "text": [
        "\n",
        "D:\\Data\\0_DAILY_INTERVAL_NDVI_TRMM\\NDVI_InnerMongolia//CN_2007_NDVI_recon.081.tif"
       ]
      },
      {
       "output_type": "stream",
       "stream": "stdout",
       "text": [
        "\n",
        "D:\\Data\\0_DAILY_INTERVAL_NDVI_TRMM\\NDVI_InnerMongolia//CN_2007_NDVI_recon.082.tif"
       ]
      },
      {
       "output_type": "stream",
       "stream": "stdout",
       "text": [
        "\n",
        "D:\\Data\\0_DAILY_INTERVAL_NDVI_TRMM\\NDVI_InnerMongolia//CN_2007_NDVI_recon.083.tif"
       ]
      },
      {
       "output_type": "stream",
       "stream": "stdout",
       "text": [
        "\n",
        "D:\\Data\\0_DAILY_INTERVAL_NDVI_TRMM\\NDVI_InnerMongolia//CN_2007_NDVI_recon.084.tif"
       ]
      },
      {
       "output_type": "stream",
       "stream": "stdout",
       "text": [
        "\n",
        "D:\\Data\\0_DAILY_INTERVAL_NDVI_TRMM\\NDVI_InnerMongolia//CN_2007_NDVI_recon.085.tif"
       ]
      },
      {
       "output_type": "stream",
       "stream": "stdout",
       "text": [
        "\n",
        "D:\\Data\\0_DAILY_INTERVAL_NDVI_TRMM\\NDVI_InnerMongolia//CN_2007_NDVI_recon.086.tif"
       ]
      },
      {
       "output_type": "stream",
       "stream": "stdout",
       "text": [
        "\n",
        "D:\\Data\\0_DAILY_INTERVAL_NDVI_TRMM\\NDVI_InnerMongolia//CN_2007_NDVI_recon.087.tif"
       ]
      },
      {
       "output_type": "stream",
       "stream": "stdout",
       "text": [
        "\n",
        "D:\\Data\\0_DAILY_INTERVAL_NDVI_TRMM\\NDVI_InnerMongolia//CN_2007_NDVI_recon.088.tif"
       ]
      },
      {
       "output_type": "stream",
       "stream": "stdout",
       "text": [
        "\n",
        "D:\\Data\\0_DAILY_INTERVAL_NDVI_TRMM\\NDVI_InnerMongolia//CN_2007_NDVI_recon.089.tif"
       ]
      },
      {
       "output_type": "stream",
       "stream": "stdout",
       "text": [
        "\n",
        "D:\\Data\\0_DAILY_INTERVAL_NDVI_TRMM\\NDVI_InnerMongolia//CN_2007_NDVI_recon.090.tif"
       ]
      },
      {
       "output_type": "stream",
       "stream": "stdout",
       "text": [
        "\n",
        "D:\\Data\\0_DAILY_INTERVAL_NDVI_TRMM\\NDVI_InnerMongolia//CN_2007_NDVI_recon.091.tif"
       ]
      },
      {
       "output_type": "stream",
       "stream": "stdout",
       "text": [
        "\n",
        "D:\\Data\\0_DAILY_INTERVAL_NDVI_TRMM\\NDVI_InnerMongolia//CN_2007_NDVI_recon.092.tif"
       ]
      },
      {
       "output_type": "stream",
       "stream": "stdout",
       "text": [
        "\n",
        "D:\\Data\\0_DAILY_INTERVAL_NDVI_TRMM\\NDVI_InnerMongolia//CN_2007_NDVI_recon.093.tif"
       ]
      },
      {
       "output_type": "stream",
       "stream": "stdout",
       "text": [
        "\n",
        "D:\\Data\\0_DAILY_INTERVAL_NDVI_TRMM\\NDVI_InnerMongolia//CN_2007_NDVI_recon.094.tif"
       ]
      },
      {
       "output_type": "stream",
       "stream": "stdout",
       "text": [
        "\n",
        "D:\\Data\\0_DAILY_INTERVAL_NDVI_TRMM\\NDVI_InnerMongolia//CN_2007_NDVI_recon.095.tif"
       ]
      },
      {
       "output_type": "stream",
       "stream": "stdout",
       "text": [
        "\n",
        "D:\\Data\\0_DAILY_INTERVAL_NDVI_TRMM\\NDVI_InnerMongolia//CN_2007_NDVI_recon.096.tif"
       ]
      },
      {
       "output_type": "stream",
       "stream": "stdout",
       "text": [
        "\n",
        "D:\\Data\\0_DAILY_INTERVAL_NDVI_TRMM\\NDVI_InnerMongolia//CN_2007_NDVI_recon.097.tif"
       ]
      },
      {
       "output_type": "stream",
       "stream": "stdout",
       "text": [
        "\n",
        "D:\\Data\\0_DAILY_INTERVAL_NDVI_TRMM\\NDVI_InnerMongolia//CN_2007_NDVI_recon.098.tif"
       ]
      },
      {
       "output_type": "stream",
       "stream": "stdout",
       "text": [
        "\n",
        "D:\\Data\\0_DAILY_INTERVAL_NDVI_TRMM\\NDVI_InnerMongolia//CN_2007_NDVI_recon.099.tif"
       ]
      },
      {
       "output_type": "stream",
       "stream": "stdout",
       "text": [
        "\n",
        "D:\\Data\\0_DAILY_INTERVAL_NDVI_TRMM\\NDVI_InnerMongolia//CN_2007_NDVI_recon.100.tif"
       ]
      },
      {
       "output_type": "stream",
       "stream": "stdout",
       "text": [
        "\n",
        "D:\\Data\\0_DAILY_INTERVAL_NDVI_TRMM\\NDVI_InnerMongolia//CN_2007_NDVI_recon.101.tif"
       ]
      },
      {
       "output_type": "stream",
       "stream": "stdout",
       "text": [
        "\n",
        "D:\\Data\\0_DAILY_INTERVAL_NDVI_TRMM\\NDVI_InnerMongolia//CN_2007_NDVI_recon.102.tif"
       ]
      },
      {
       "output_type": "stream",
       "stream": "stdout",
       "text": [
        "\n",
        "D:\\Data\\0_DAILY_INTERVAL_NDVI_TRMM\\NDVI_InnerMongolia//CN_2007_NDVI_recon.103.tif"
       ]
      },
      {
       "output_type": "stream",
       "stream": "stdout",
       "text": [
        "\n",
        "D:\\Data\\0_DAILY_INTERVAL_NDVI_TRMM\\NDVI_InnerMongolia//CN_2007_NDVI_recon.104.tif"
       ]
      },
      {
       "output_type": "stream",
       "stream": "stdout",
       "text": [
        "\n",
        "D:\\Data\\0_DAILY_INTERVAL_NDVI_TRMM\\NDVI_InnerMongolia//CN_2007_NDVI_recon.105.tif"
       ]
      },
      {
       "output_type": "stream",
       "stream": "stdout",
       "text": [
        "\n",
        "D:\\Data\\0_DAILY_INTERVAL_NDVI_TRMM\\NDVI_InnerMongolia//CN_2007_NDVI_recon.106.tif"
       ]
      },
      {
       "output_type": "stream",
       "stream": "stdout",
       "text": [
        "\n",
        "D:\\Data\\0_DAILY_INTERVAL_NDVI_TRMM\\NDVI_InnerMongolia//CN_2007_NDVI_recon.107.tif"
       ]
      },
      {
       "output_type": "stream",
       "stream": "stdout",
       "text": [
        "\n",
        "D:\\Data\\0_DAILY_INTERVAL_NDVI_TRMM\\NDVI_InnerMongolia//CN_2007_NDVI_recon.108.tif"
       ]
      },
      {
       "output_type": "stream",
       "stream": "stdout",
       "text": [
        "\n",
        "D:\\Data\\0_DAILY_INTERVAL_NDVI_TRMM\\NDVI_InnerMongolia//CN_2007_NDVI_recon.109.tif"
       ]
      },
      {
       "output_type": "stream",
       "stream": "stdout",
       "text": [
        "\n",
        "D:\\Data\\0_DAILY_INTERVAL_NDVI_TRMM\\NDVI_InnerMongolia//CN_2007_NDVI_recon.110.tif"
       ]
      },
      {
       "output_type": "stream",
       "stream": "stdout",
       "text": [
        "\n",
        "D:\\Data\\0_DAILY_INTERVAL_NDVI_TRMM\\NDVI_InnerMongolia//CN_2007_NDVI_recon.111.tif"
       ]
      },
      {
       "output_type": "stream",
       "stream": "stdout",
       "text": [
        "\n",
        "D:\\Data\\0_DAILY_INTERVAL_NDVI_TRMM\\NDVI_InnerMongolia//CN_2007_NDVI_recon.112.tif"
       ]
      },
      {
       "output_type": "stream",
       "stream": "stdout",
       "text": [
        "\n",
        "D:\\Data\\0_DAILY_INTERVAL_NDVI_TRMM\\NDVI_InnerMongolia//CN_2007_NDVI_recon.113.tif"
       ]
      },
      {
       "output_type": "stream",
       "stream": "stdout",
       "text": [
        "\n",
        "D:\\Data\\0_DAILY_INTERVAL_NDVI_TRMM\\NDVI_InnerMongolia//CN_2007_NDVI_recon.114.tif"
       ]
      },
      {
       "output_type": "stream",
       "stream": "stdout",
       "text": [
        "\n",
        "D:\\Data\\0_DAILY_INTERVAL_NDVI_TRMM\\NDVI_InnerMongolia//CN_2007_NDVI_recon.115.tif"
       ]
      },
      {
       "output_type": "stream",
       "stream": "stdout",
       "text": [
        "\n",
        "D:\\Data\\0_DAILY_INTERVAL_NDVI_TRMM\\NDVI_InnerMongolia//CN_2007_NDVI_recon.116.tif"
       ]
      },
      {
       "output_type": "stream",
       "stream": "stdout",
       "text": [
        "\n",
        "D:\\Data\\0_DAILY_INTERVAL_NDVI_TRMM\\NDVI_InnerMongolia//CN_2007_NDVI_recon.117.tif"
       ]
      },
      {
       "output_type": "stream",
       "stream": "stdout",
       "text": [
        "\n",
        "D:\\Data\\0_DAILY_INTERVAL_NDVI_TRMM\\NDVI_InnerMongolia//CN_2007_NDVI_recon.118.tif"
       ]
      },
      {
       "output_type": "stream",
       "stream": "stdout",
       "text": [
        "\n",
        "D:\\Data\\0_DAILY_INTERVAL_NDVI_TRMM\\NDVI_InnerMongolia//CN_2007_NDVI_recon.119.tif"
       ]
      },
      {
       "output_type": "stream",
       "stream": "stdout",
       "text": [
        "\n",
        "D:\\Data\\0_DAILY_INTERVAL_NDVI_TRMM\\NDVI_InnerMongolia//CN_2007_NDVI_recon.120.tif"
       ]
      },
      {
       "output_type": "stream",
       "stream": "stdout",
       "text": [
        "\n",
        "D:\\Data\\0_DAILY_INTERVAL_NDVI_TRMM\\NDVI_InnerMongolia//CN_2007_NDVI_recon.121.tif"
       ]
      },
      {
       "output_type": "stream",
       "stream": "stdout",
       "text": [
        "\n",
        "D:\\Data\\0_DAILY_INTERVAL_NDVI_TRMM\\NDVI_InnerMongolia//CN_2007_NDVI_recon.122.tif"
       ]
      },
      {
       "output_type": "stream",
       "stream": "stdout",
       "text": [
        "\n",
        "D:\\Data\\0_DAILY_INTERVAL_NDVI_TRMM\\NDVI_InnerMongolia//CN_2007_NDVI_recon.123.tif"
       ]
      },
      {
       "output_type": "stream",
       "stream": "stdout",
       "text": [
        "\n",
        "D:\\Data\\0_DAILY_INTERVAL_NDVI_TRMM\\NDVI_InnerMongolia//CN_2007_NDVI_recon.124.tif"
       ]
      },
      {
       "output_type": "stream",
       "stream": "stdout",
       "text": [
        "\n",
        "D:\\Data\\0_DAILY_INTERVAL_NDVI_TRMM\\NDVI_InnerMongolia//CN_2007_NDVI_recon.125.tif"
       ]
      },
      {
       "output_type": "stream",
       "stream": "stdout",
       "text": [
        "\n",
        "D:\\Data\\0_DAILY_INTERVAL_NDVI_TRMM\\NDVI_InnerMongolia//CN_2007_NDVI_recon.126.tif"
       ]
      },
      {
       "output_type": "stream",
       "stream": "stdout",
       "text": [
        "\n",
        "D:\\Data\\0_DAILY_INTERVAL_NDVI_TRMM\\NDVI_InnerMongolia//CN_2007_NDVI_recon.127.tif"
       ]
      },
      {
       "output_type": "stream",
       "stream": "stdout",
       "text": [
        "\n",
        "D:\\Data\\0_DAILY_INTERVAL_NDVI_TRMM\\NDVI_InnerMongolia//CN_2007_NDVI_recon.128.tif"
       ]
      },
      {
       "output_type": "stream",
       "stream": "stdout",
       "text": [
        "\n",
        "D:\\Data\\0_DAILY_INTERVAL_NDVI_TRMM\\NDVI_InnerMongolia//CN_2007_NDVI_recon.129.tif"
       ]
      },
      {
       "output_type": "stream",
       "stream": "stdout",
       "text": [
        "\n",
        "D:\\Data\\0_DAILY_INTERVAL_NDVI_TRMM\\NDVI_InnerMongolia//CN_2007_NDVI_recon.130.tif"
       ]
      },
      {
       "output_type": "stream",
       "stream": "stdout",
       "text": [
        "\n",
        "D:\\Data\\0_DAILY_INTERVAL_NDVI_TRMM\\NDVI_InnerMongolia//CN_2007_NDVI_recon.131.tif"
       ]
      },
      {
       "output_type": "stream",
       "stream": "stdout",
       "text": [
        "\n",
        "D:\\Data\\0_DAILY_INTERVAL_NDVI_TRMM\\NDVI_InnerMongolia//CN_2007_NDVI_recon.132.tif"
       ]
      },
      {
       "output_type": "stream",
       "stream": "stdout",
       "text": [
        "\n",
        "D:\\Data\\0_DAILY_INTERVAL_NDVI_TRMM\\NDVI_InnerMongolia//CN_2007_NDVI_recon.133.tif"
       ]
      },
      {
       "output_type": "stream",
       "stream": "stdout",
       "text": [
        "\n",
        "D:\\Data\\0_DAILY_INTERVAL_NDVI_TRMM\\NDVI_InnerMongolia//CN_2007_NDVI_recon.134.tif"
       ]
      },
      {
       "output_type": "stream",
       "stream": "stdout",
       "text": [
        "\n",
        "D:\\Data\\0_DAILY_INTERVAL_NDVI_TRMM\\NDVI_InnerMongolia//CN_2007_NDVI_recon.135.tif"
       ]
      },
      {
       "output_type": "stream",
       "stream": "stdout",
       "text": [
        "\n",
        "D:\\Data\\0_DAILY_INTERVAL_NDVI_TRMM\\NDVI_InnerMongolia//CN_2007_NDVI_recon.136.tif"
       ]
      },
      {
       "output_type": "stream",
       "stream": "stdout",
       "text": [
        "\n",
        "D:\\Data\\0_DAILY_INTERVAL_NDVI_TRMM\\NDVI_InnerMongolia//CN_2007_NDVI_recon.137.tif"
       ]
      },
      {
       "output_type": "stream",
       "stream": "stdout",
       "text": [
        "\n",
        "D:\\Data\\0_DAILY_INTERVAL_NDVI_TRMM\\NDVI_InnerMongolia//CN_2007_NDVI_recon.138.tif"
       ]
      },
      {
       "output_type": "stream",
       "stream": "stdout",
       "text": [
        "\n",
        "D:\\Data\\0_DAILY_INTERVAL_NDVI_TRMM\\NDVI_InnerMongolia//CN_2007_NDVI_recon.139.tif"
       ]
      },
      {
       "output_type": "stream",
       "stream": "stdout",
       "text": [
        "\n",
        "D:\\Data\\0_DAILY_INTERVAL_NDVI_TRMM\\NDVI_InnerMongolia//CN_2007_NDVI_recon.140.tif"
       ]
      },
      {
       "output_type": "stream",
       "stream": "stdout",
       "text": [
        "\n",
        "D:\\Data\\0_DAILY_INTERVAL_NDVI_TRMM\\NDVI_InnerMongolia//CN_2007_NDVI_recon.141.tif"
       ]
      },
      {
       "output_type": "stream",
       "stream": "stdout",
       "text": [
        "\n",
        "D:\\Data\\0_DAILY_INTERVAL_NDVI_TRMM\\NDVI_InnerMongolia//CN_2007_NDVI_recon.142.tif"
       ]
      },
      {
       "output_type": "stream",
       "stream": "stdout",
       "text": [
        "\n",
        "D:\\Data\\0_DAILY_INTERVAL_NDVI_TRMM\\NDVI_InnerMongolia//CN_2007_NDVI_recon.143.tif"
       ]
      },
      {
       "output_type": "stream",
       "stream": "stdout",
       "text": [
        "\n",
        "D:\\Data\\0_DAILY_INTERVAL_NDVI_TRMM\\NDVI_InnerMongolia//CN_2007_NDVI_recon.144.tif"
       ]
      },
      {
       "output_type": "stream",
       "stream": "stdout",
       "text": [
        "\n",
        "D:\\Data\\0_DAILY_INTERVAL_NDVI_TRMM\\NDVI_InnerMongolia//CN_2007_NDVI_recon.145.tif"
       ]
      },
      {
       "output_type": "stream",
       "stream": "stdout",
       "text": [
        "\n",
        "D:\\Data\\0_DAILY_INTERVAL_NDVI_TRMM\\NDVI_InnerMongolia//CN_2007_NDVI_recon.146.tif"
       ]
      },
      {
       "output_type": "stream",
       "stream": "stdout",
       "text": [
        "\n",
        "D:\\Data\\0_DAILY_INTERVAL_NDVI_TRMM\\NDVI_InnerMongolia//CN_2007_NDVI_recon.147.tif"
       ]
      },
      {
       "output_type": "stream",
       "stream": "stdout",
       "text": [
        "\n",
        "D:\\Data\\0_DAILY_INTERVAL_NDVI_TRMM\\NDVI_InnerMongolia//CN_2007_NDVI_recon.148.tif"
       ]
      },
      {
       "output_type": "stream",
       "stream": "stdout",
       "text": [
        "\n",
        "D:\\Data\\0_DAILY_INTERVAL_NDVI_TRMM\\NDVI_InnerMongolia//CN_2007_NDVI_recon.149.tif"
       ]
      },
      {
       "output_type": "stream",
       "stream": "stdout",
       "text": [
        "\n",
        "D:\\Data\\0_DAILY_INTERVAL_NDVI_TRMM\\NDVI_InnerMongolia//CN_2007_NDVI_recon.150.tif"
       ]
      },
      {
       "output_type": "stream",
       "stream": "stdout",
       "text": [
        "\n",
        "D:\\Data\\0_DAILY_INTERVAL_NDVI_TRMM\\NDVI_InnerMongolia//CN_2007_NDVI_recon.151.tif"
       ]
      },
      {
       "output_type": "stream",
       "stream": "stdout",
       "text": [
        "\n",
        "D:\\Data\\0_DAILY_INTERVAL_NDVI_TRMM\\NDVI_InnerMongolia//CN_2007_NDVI_recon.152.tif"
       ]
      },
      {
       "output_type": "stream",
       "stream": "stdout",
       "text": [
        "\n",
        "D:\\Data\\0_DAILY_INTERVAL_NDVI_TRMM\\NDVI_InnerMongolia//CN_2007_NDVI_recon.153.tif"
       ]
      },
      {
       "output_type": "stream",
       "stream": "stdout",
       "text": [
        "\n",
        "D:\\Data\\0_DAILY_INTERVAL_NDVI_TRMM\\NDVI_InnerMongolia//CN_2007_NDVI_recon.154.tif"
       ]
      },
      {
       "output_type": "stream",
       "stream": "stdout",
       "text": [
        "\n",
        "D:\\Data\\0_DAILY_INTERVAL_NDVI_TRMM\\NDVI_InnerMongolia//CN_2007_NDVI_recon.155.tif"
       ]
      },
      {
       "output_type": "stream",
       "stream": "stdout",
       "text": [
        "\n",
        "D:\\Data\\0_DAILY_INTERVAL_NDVI_TRMM\\NDVI_InnerMongolia//CN_2007_NDVI_recon.156.tif"
       ]
      },
      {
       "output_type": "stream",
       "stream": "stdout",
       "text": [
        "\n",
        "D:\\Data\\0_DAILY_INTERVAL_NDVI_TRMM\\NDVI_InnerMongolia//CN_2007_NDVI_recon.157.tif"
       ]
      },
      {
       "output_type": "stream",
       "stream": "stdout",
       "text": [
        "\n",
        "D:\\Data\\0_DAILY_INTERVAL_NDVI_TRMM\\NDVI_InnerMongolia//CN_2007_NDVI_recon.158.tif"
       ]
      },
      {
       "output_type": "stream",
       "stream": "stdout",
       "text": [
        "\n",
        "D:\\Data\\0_DAILY_INTERVAL_NDVI_TRMM\\NDVI_InnerMongolia//CN_2007_NDVI_recon.159.tif"
       ]
      },
      {
       "output_type": "stream",
       "stream": "stdout",
       "text": [
        "\n",
        "D:\\Data\\0_DAILY_INTERVAL_NDVI_TRMM\\NDVI_InnerMongolia//CN_2007_NDVI_recon.160.tif"
       ]
      },
      {
       "output_type": "stream",
       "stream": "stdout",
       "text": [
        "\n",
        "D:\\Data\\0_DAILY_INTERVAL_NDVI_TRMM\\NDVI_InnerMongolia//CN_2007_NDVI_recon.161.tif"
       ]
      },
      {
       "output_type": "stream",
       "stream": "stdout",
       "text": [
        "\n",
        "D:\\Data\\0_DAILY_INTERVAL_NDVI_TRMM\\NDVI_InnerMongolia//CN_2007_NDVI_recon.162.tif"
       ]
      },
      {
       "output_type": "stream",
       "stream": "stdout",
       "text": [
        "\n",
        "D:\\Data\\0_DAILY_INTERVAL_NDVI_TRMM\\NDVI_InnerMongolia//CN_2007_NDVI_recon.163.tif"
       ]
      },
      {
       "output_type": "stream",
       "stream": "stdout",
       "text": [
        "\n",
        "D:\\Data\\0_DAILY_INTERVAL_NDVI_TRMM\\NDVI_InnerMongolia//CN_2007_NDVI_recon.164.tif"
       ]
      },
      {
       "output_type": "stream",
       "stream": "stdout",
       "text": [
        "\n",
        "D:\\Data\\0_DAILY_INTERVAL_NDVI_TRMM\\NDVI_InnerMongolia//CN_2007_NDVI_recon.165.tif"
       ]
      },
      {
       "output_type": "stream",
       "stream": "stdout",
       "text": [
        "\n",
        "D:\\Data\\0_DAILY_INTERVAL_NDVI_TRMM\\NDVI_InnerMongolia//CN_2007_NDVI_recon.166.tif"
       ]
      },
      {
       "output_type": "stream",
       "stream": "stdout",
       "text": [
        "\n",
        "D:\\Data\\0_DAILY_INTERVAL_NDVI_TRMM\\NDVI_InnerMongolia//CN_2007_NDVI_recon.167.tif"
       ]
      },
      {
       "output_type": "stream",
       "stream": "stdout",
       "text": [
        "\n",
        "D:\\Data\\0_DAILY_INTERVAL_NDVI_TRMM\\NDVI_InnerMongolia//CN_2007_NDVI_recon.168.tif"
       ]
      },
      {
       "output_type": "stream",
       "stream": "stdout",
       "text": [
        "\n",
        "D:\\Data\\0_DAILY_INTERVAL_NDVI_TRMM\\NDVI_InnerMongolia//CN_2007_NDVI_recon.169.tif"
       ]
      },
      {
       "output_type": "stream",
       "stream": "stdout",
       "text": [
        "\n",
        "D:\\Data\\0_DAILY_INTERVAL_NDVI_TRMM\\NDVI_InnerMongolia//CN_2007_NDVI_recon.170.tif"
       ]
      },
      {
       "output_type": "stream",
       "stream": "stdout",
       "text": [
        "\n",
        "D:\\Data\\0_DAILY_INTERVAL_NDVI_TRMM\\NDVI_InnerMongolia//CN_2007_NDVI_recon.171.tif"
       ]
      },
      {
       "output_type": "stream",
       "stream": "stdout",
       "text": [
        "\n",
        "D:\\Data\\0_DAILY_INTERVAL_NDVI_TRMM\\NDVI_InnerMongolia//CN_2007_NDVI_recon.172.tif"
       ]
      },
      {
       "output_type": "stream",
       "stream": "stdout",
       "text": [
        "\n",
        "D:\\Data\\0_DAILY_INTERVAL_NDVI_TRMM\\NDVI_InnerMongolia//CN_2007_NDVI_recon.173.tif"
       ]
      },
      {
       "output_type": "stream",
       "stream": "stdout",
       "text": [
        "\n",
        "D:\\Data\\0_DAILY_INTERVAL_NDVI_TRMM\\NDVI_InnerMongolia//CN_2007_NDVI_recon.174.tif"
       ]
      },
      {
       "output_type": "stream",
       "stream": "stdout",
       "text": [
        "\n",
        "D:\\Data\\0_DAILY_INTERVAL_NDVI_TRMM\\NDVI_InnerMongolia//CN_2007_NDVI_recon.175.tif"
       ]
      },
      {
       "output_type": "stream",
       "stream": "stdout",
       "text": [
        "\n",
        "D:\\Data\\0_DAILY_INTERVAL_NDVI_TRMM\\NDVI_InnerMongolia//CN_2007_NDVI_recon.176.tif"
       ]
      },
      {
       "output_type": "stream",
       "stream": "stdout",
       "text": [
        "\n",
        "D:\\Data\\0_DAILY_INTERVAL_NDVI_TRMM\\NDVI_InnerMongolia//CN_2007_NDVI_recon.177.tif"
       ]
      },
      {
       "output_type": "stream",
       "stream": "stdout",
       "text": [
        "\n",
        "D:\\Data\\0_DAILY_INTERVAL_NDVI_TRMM\\NDVI_InnerMongolia//CN_2007_NDVI_recon.178.tif"
       ]
      },
      {
       "output_type": "stream",
       "stream": "stdout",
       "text": [
        "\n",
        "D:\\Data\\0_DAILY_INTERVAL_NDVI_TRMM\\NDVI_InnerMongolia//CN_2007_NDVI_recon.179.tif"
       ]
      },
      {
       "output_type": "stream",
       "stream": "stdout",
       "text": [
        "\n",
        "D:\\Data\\0_DAILY_INTERVAL_NDVI_TRMM\\NDVI_InnerMongolia//CN_2007_NDVI_recon.180.tif"
       ]
      },
      {
       "output_type": "stream",
       "stream": "stdout",
       "text": [
        "\n",
        "D:\\Data\\0_DAILY_INTERVAL_NDVI_TRMM\\NDVI_InnerMongolia//CN_2007_NDVI_recon.181.tif"
       ]
      },
      {
       "output_type": "stream",
       "stream": "stdout",
       "text": [
        "\n",
        "D:\\Data\\0_DAILY_INTERVAL_NDVI_TRMM\\NDVI_InnerMongolia//CN_2007_NDVI_recon.182.tif"
       ]
      },
      {
       "output_type": "stream",
       "stream": "stdout",
       "text": [
        "\n",
        "D:\\Data\\0_DAILY_INTERVAL_NDVI_TRMM\\NDVI_InnerMongolia//CN_2007_NDVI_recon.183.tif"
       ]
      },
      {
       "output_type": "stream",
       "stream": "stdout",
       "text": [
        "\n",
        "D:\\Data\\0_DAILY_INTERVAL_NDVI_TRMM\\NDVI_InnerMongolia//CN_2007_NDVI_recon.184.tif"
       ]
      },
      {
       "output_type": "stream",
       "stream": "stdout",
       "text": [
        "\n",
        "D:\\Data\\0_DAILY_INTERVAL_NDVI_TRMM\\NDVI_InnerMongolia//CN_2007_NDVI_recon.185.tif"
       ]
      },
      {
       "output_type": "stream",
       "stream": "stdout",
       "text": [
        "\n",
        "D:\\Data\\0_DAILY_INTERVAL_NDVI_TRMM\\NDVI_InnerMongolia//CN_2007_NDVI_recon.186.tif"
       ]
      },
      {
       "output_type": "stream",
       "stream": "stdout",
       "text": [
        "\n",
        "D:\\Data\\0_DAILY_INTERVAL_NDVI_TRMM\\NDVI_InnerMongolia//CN_2007_NDVI_recon.187.tif"
       ]
      },
      {
       "output_type": "stream",
       "stream": "stdout",
       "text": [
        "\n",
        "D:\\Data\\0_DAILY_INTERVAL_NDVI_TRMM\\NDVI_InnerMongolia//CN_2007_NDVI_recon.188.tif"
       ]
      },
      {
       "output_type": "stream",
       "stream": "stdout",
       "text": [
        "\n",
        "D:\\Data\\0_DAILY_INTERVAL_NDVI_TRMM\\NDVI_InnerMongolia//CN_2007_NDVI_recon.189.tif"
       ]
      },
      {
       "output_type": "stream",
       "stream": "stdout",
       "text": [
        "\n",
        "D:\\Data\\0_DAILY_INTERVAL_NDVI_TRMM\\NDVI_InnerMongolia//CN_2007_NDVI_recon.190.tif"
       ]
      },
      {
       "output_type": "stream",
       "stream": "stdout",
       "text": [
        "\n",
        "D:\\Data\\0_DAILY_INTERVAL_NDVI_TRMM\\NDVI_InnerMongolia//CN_2007_NDVI_recon.191.tif"
       ]
      },
      {
       "output_type": "stream",
       "stream": "stdout",
       "text": [
        "\n",
        "D:\\Data\\0_DAILY_INTERVAL_NDVI_TRMM\\NDVI_InnerMongolia//CN_2007_NDVI_recon.192.tif"
       ]
      },
      {
       "output_type": "stream",
       "stream": "stdout",
       "text": [
        "\n",
        "D:\\Data\\0_DAILY_INTERVAL_NDVI_TRMM\\NDVI_InnerMongolia//CN_2007_NDVI_recon.193.tif"
       ]
      },
      {
       "output_type": "stream",
       "stream": "stdout",
       "text": [
        "\n",
        "D:\\Data\\0_DAILY_INTERVAL_NDVI_TRMM\\NDVI_InnerMongolia//CN_2007_NDVI_recon.194.tif"
       ]
      },
      {
       "output_type": "stream",
       "stream": "stdout",
       "text": [
        "\n",
        "D:\\Data\\0_DAILY_INTERVAL_NDVI_TRMM\\NDVI_InnerMongolia//CN_2007_NDVI_recon.195.tif"
       ]
      },
      {
       "output_type": "stream",
       "stream": "stdout",
       "text": [
        "\n",
        "D:\\Data\\0_DAILY_INTERVAL_NDVI_TRMM\\NDVI_InnerMongolia//CN_2007_NDVI_recon.196.tif"
       ]
      },
      {
       "output_type": "stream",
       "stream": "stdout",
       "text": [
        "\n",
        "D:\\Data\\0_DAILY_INTERVAL_NDVI_TRMM\\NDVI_InnerMongolia//CN_2007_NDVI_recon.197.tif"
       ]
      },
      {
       "output_type": "stream",
       "stream": "stdout",
       "text": [
        "\n",
        "D:\\Data\\0_DAILY_INTERVAL_NDVI_TRMM\\NDVI_InnerMongolia//CN_2007_NDVI_recon.198.tif"
       ]
      },
      {
       "output_type": "stream",
       "stream": "stdout",
       "text": [
        "\n",
        "D:\\Data\\0_DAILY_INTERVAL_NDVI_TRMM\\NDVI_InnerMongolia//CN_2007_NDVI_recon.199.tif"
       ]
      },
      {
       "output_type": "stream",
       "stream": "stdout",
       "text": [
        "\n",
        "D:\\Data\\0_DAILY_INTERVAL_NDVI_TRMM\\NDVI_InnerMongolia//CN_2007_NDVI_recon.200.tif"
       ]
      },
      {
       "output_type": "stream",
       "stream": "stdout",
       "text": [
        "\n",
        "D:\\Data\\0_DAILY_INTERVAL_NDVI_TRMM\\NDVI_InnerMongolia//CN_2007_NDVI_recon.201.tif"
       ]
      },
      {
       "output_type": "stream",
       "stream": "stdout",
       "text": [
        "\n",
        "D:\\Data\\0_DAILY_INTERVAL_NDVI_TRMM\\NDVI_InnerMongolia//CN_2007_NDVI_recon.202.tif"
       ]
      },
      {
       "output_type": "stream",
       "stream": "stdout",
       "text": [
        "\n",
        "D:\\Data\\0_DAILY_INTERVAL_NDVI_TRMM\\NDVI_InnerMongolia//CN_2007_NDVI_recon.203.tif"
       ]
      },
      {
       "output_type": "stream",
       "stream": "stdout",
       "text": [
        "\n",
        "D:\\Data\\0_DAILY_INTERVAL_NDVI_TRMM\\NDVI_InnerMongolia//CN_2007_NDVI_recon.204.tif"
       ]
      },
      {
       "output_type": "stream",
       "stream": "stdout",
       "text": [
        "\n",
        "D:\\Data\\0_DAILY_INTERVAL_NDVI_TRMM\\NDVI_InnerMongolia//CN_2007_NDVI_recon.205.tif"
       ]
      },
      {
       "output_type": "stream",
       "stream": "stdout",
       "text": [
        "\n",
        "D:\\Data\\0_DAILY_INTERVAL_NDVI_TRMM\\NDVI_InnerMongolia//CN_2007_NDVI_recon.206.tif"
       ]
      },
      {
       "output_type": "stream",
       "stream": "stdout",
       "text": [
        "\n",
        "D:\\Data\\0_DAILY_INTERVAL_NDVI_TRMM\\NDVI_InnerMongolia//CN_2007_NDVI_recon.207.tif"
       ]
      },
      {
       "output_type": "stream",
       "stream": "stdout",
       "text": [
        "\n",
        "D:\\Data\\0_DAILY_INTERVAL_NDVI_TRMM\\NDVI_InnerMongolia//CN_2007_NDVI_recon.208.tif"
       ]
      },
      {
       "output_type": "stream",
       "stream": "stdout",
       "text": [
        "\n",
        "D:\\Data\\0_DAILY_INTERVAL_NDVI_TRMM\\NDVI_InnerMongolia//CN_2007_NDVI_recon.209.tif"
       ]
      },
      {
       "output_type": "stream",
       "stream": "stdout",
       "text": [
        "\n",
        "D:\\Data\\0_DAILY_INTERVAL_NDVI_TRMM\\NDVI_InnerMongolia//CN_2007_NDVI_recon.210.tif"
       ]
      },
      {
       "output_type": "stream",
       "stream": "stdout",
       "text": [
        "\n",
        "D:\\Data\\0_DAILY_INTERVAL_NDVI_TRMM\\NDVI_InnerMongolia//CN_2007_NDVI_recon.211.tif"
       ]
      },
      {
       "output_type": "stream",
       "stream": "stdout",
       "text": [
        "\n",
        "D:\\Data\\0_DAILY_INTERVAL_NDVI_TRMM\\NDVI_InnerMongolia//CN_2007_NDVI_recon.212.tif"
       ]
      },
      {
       "output_type": "stream",
       "stream": "stdout",
       "text": [
        "\n",
        "D:\\Data\\0_DAILY_INTERVAL_NDVI_TRMM\\NDVI_InnerMongolia//CN_2007_NDVI_recon.213.tif"
       ]
      },
      {
       "output_type": "stream",
       "stream": "stdout",
       "text": [
        "\n",
        "D:\\Data\\0_DAILY_INTERVAL_NDVI_TRMM\\NDVI_InnerMongolia//CN_2007_NDVI_recon.214.tif"
       ]
      },
      {
       "output_type": "stream",
       "stream": "stdout",
       "text": [
        "\n",
        "D:\\Data\\0_DAILY_INTERVAL_NDVI_TRMM\\NDVI_InnerMongolia//CN_2007_NDVI_recon.215.tif"
       ]
      },
      {
       "output_type": "stream",
       "stream": "stdout",
       "text": [
        "\n",
        "D:\\Data\\0_DAILY_INTERVAL_NDVI_TRMM\\NDVI_InnerMongolia//CN_2007_NDVI_recon.216.tif"
       ]
      },
      {
       "output_type": "stream",
       "stream": "stdout",
       "text": [
        "\n",
        "D:\\Data\\0_DAILY_INTERVAL_NDVI_TRMM\\NDVI_InnerMongolia//CN_2007_NDVI_recon.217.tif"
       ]
      },
      {
       "output_type": "stream",
       "stream": "stdout",
       "text": [
        "\n",
        "D:\\Data\\0_DAILY_INTERVAL_NDVI_TRMM\\NDVI_InnerMongolia//CN_2007_NDVI_recon.218.tif"
       ]
      },
      {
       "output_type": "stream",
       "stream": "stdout",
       "text": [
        "\n",
        "D:\\Data\\0_DAILY_INTERVAL_NDVI_TRMM\\NDVI_InnerMongolia//CN_2007_NDVI_recon.219.tif"
       ]
      },
      {
       "output_type": "stream",
       "stream": "stdout",
       "text": [
        "\n",
        "D:\\Data\\0_DAILY_INTERVAL_NDVI_TRMM\\NDVI_InnerMongolia//CN_2007_NDVI_recon.220.tif"
       ]
      },
      {
       "output_type": "stream",
       "stream": "stdout",
       "text": [
        "\n",
        "D:\\Data\\0_DAILY_INTERVAL_NDVI_TRMM\\NDVI_InnerMongolia//CN_2007_NDVI_recon.221.tif"
       ]
      },
      {
       "output_type": "stream",
       "stream": "stdout",
       "text": [
        "\n",
        "D:\\Data\\0_DAILY_INTERVAL_NDVI_TRMM\\NDVI_InnerMongolia//CN_2007_NDVI_recon.222.tif"
       ]
      },
      {
       "output_type": "stream",
       "stream": "stdout",
       "text": [
        "\n",
        "D:\\Data\\0_DAILY_INTERVAL_NDVI_TRMM\\NDVI_InnerMongolia//CN_2007_NDVI_recon.223.tif"
       ]
      },
      {
       "output_type": "stream",
       "stream": "stdout",
       "text": [
        "\n",
        "D:\\Data\\0_DAILY_INTERVAL_NDVI_TRMM\\NDVI_InnerMongolia//CN_2007_NDVI_recon.224.tif"
       ]
      },
      {
       "output_type": "stream",
       "stream": "stdout",
       "text": [
        "\n",
        "D:\\Data\\0_DAILY_INTERVAL_NDVI_TRMM\\NDVI_InnerMongolia//CN_2007_NDVI_recon.225.tif"
       ]
      },
      {
       "output_type": "stream",
       "stream": "stdout",
       "text": [
        "\n",
        "D:\\Data\\0_DAILY_INTERVAL_NDVI_TRMM\\NDVI_InnerMongolia//CN_2007_NDVI_recon.226.tif"
       ]
      },
      {
       "output_type": "stream",
       "stream": "stdout",
       "text": [
        "\n",
        "D:\\Data\\0_DAILY_INTERVAL_NDVI_TRMM\\NDVI_InnerMongolia//CN_2007_NDVI_recon.227.tif"
       ]
      },
      {
       "output_type": "stream",
       "stream": "stdout",
       "text": [
        "\n",
        "D:\\Data\\0_DAILY_INTERVAL_NDVI_TRMM\\NDVI_InnerMongolia//CN_2007_NDVI_recon.228.tif"
       ]
      },
      {
       "output_type": "stream",
       "stream": "stdout",
       "text": [
        "\n",
        "D:\\Data\\0_DAILY_INTERVAL_NDVI_TRMM\\NDVI_InnerMongolia//CN_2007_NDVI_recon.229.tif"
       ]
      },
      {
       "output_type": "stream",
       "stream": "stdout",
       "text": [
        "\n",
        "D:\\Data\\0_DAILY_INTERVAL_NDVI_TRMM\\NDVI_InnerMongolia//CN_2007_NDVI_recon.230.tif"
       ]
      },
      {
       "output_type": "stream",
       "stream": "stdout",
       "text": [
        "\n",
        "D:\\Data\\0_DAILY_INTERVAL_NDVI_TRMM\\NDVI_InnerMongolia//CN_2007_NDVI_recon.231.tif"
       ]
      },
      {
       "output_type": "stream",
       "stream": "stdout",
       "text": [
        "\n",
        "D:\\Data\\0_DAILY_INTERVAL_NDVI_TRMM\\NDVI_InnerMongolia//CN_2007_NDVI_recon.232.tif"
       ]
      },
      {
       "output_type": "stream",
       "stream": "stdout",
       "text": [
        "\n",
        "D:\\Data\\0_DAILY_INTERVAL_NDVI_TRMM\\NDVI_InnerMongolia//CN_2007_NDVI_recon.233.tif"
       ]
      },
      {
       "output_type": "stream",
       "stream": "stdout",
       "text": [
        "\n",
        "D:\\Data\\0_DAILY_INTERVAL_NDVI_TRMM\\NDVI_InnerMongolia//CN_2007_NDVI_recon.234.tif"
       ]
      },
      {
       "output_type": "stream",
       "stream": "stdout",
       "text": [
        "\n",
        "D:\\Data\\0_DAILY_INTERVAL_NDVI_TRMM\\NDVI_InnerMongolia//CN_2007_NDVI_recon.235.tif"
       ]
      },
      {
       "output_type": "stream",
       "stream": "stdout",
       "text": [
        "\n",
        "D:\\Data\\0_DAILY_INTERVAL_NDVI_TRMM\\NDVI_InnerMongolia//CN_2007_NDVI_recon.236.tif"
       ]
      },
      {
       "output_type": "stream",
       "stream": "stdout",
       "text": [
        "\n",
        "D:\\Data\\0_DAILY_INTERVAL_NDVI_TRMM\\NDVI_InnerMongolia//CN_2007_NDVI_recon.237.tif"
       ]
      },
      {
       "output_type": "stream",
       "stream": "stdout",
       "text": [
        "\n",
        "D:\\Data\\0_DAILY_INTERVAL_NDVI_TRMM\\NDVI_InnerMongolia//CN_2007_NDVI_recon.238.tif"
       ]
      },
      {
       "output_type": "stream",
       "stream": "stdout",
       "text": [
        "\n",
        "D:\\Data\\0_DAILY_INTERVAL_NDVI_TRMM\\NDVI_InnerMongolia//CN_2007_NDVI_recon.239.tif"
       ]
      },
      {
       "output_type": "stream",
       "stream": "stdout",
       "text": [
        "\n",
        "D:\\Data\\0_DAILY_INTERVAL_NDVI_TRMM\\NDVI_InnerMongolia//CN_2007_NDVI_recon.240.tif"
       ]
      },
      {
       "output_type": "stream",
       "stream": "stdout",
       "text": [
        "\n",
        "D:\\Data\\0_DAILY_INTERVAL_NDVI_TRMM\\NDVI_InnerMongolia//CN_2007_NDVI_recon.241.tif"
       ]
      },
      {
       "output_type": "stream",
       "stream": "stdout",
       "text": [
        "\n",
        "D:\\Data\\0_DAILY_INTERVAL_NDVI_TRMM\\NDVI_InnerMongolia//CN_2007_NDVI_recon.242.tif"
       ]
      },
      {
       "output_type": "stream",
       "stream": "stdout",
       "text": [
        "\n",
        "D:\\Data\\0_DAILY_INTERVAL_NDVI_TRMM\\NDVI_InnerMongolia//CN_2007_NDVI_recon.243.tif"
       ]
      },
      {
       "output_type": "stream",
       "stream": "stdout",
       "text": [
        "\n",
        "D:\\Data\\0_DAILY_INTERVAL_NDVI_TRMM\\NDVI_InnerMongolia//CN_2007_NDVI_recon.244.tif"
       ]
      },
      {
       "output_type": "stream",
       "stream": "stdout",
       "text": [
        "\n",
        "D:\\Data\\0_DAILY_INTERVAL_NDVI_TRMM\\NDVI_InnerMongolia//CN_2007_NDVI_recon.245.tif"
       ]
      },
      {
       "output_type": "stream",
       "stream": "stdout",
       "text": [
        "\n",
        "D:\\Data\\0_DAILY_INTERVAL_NDVI_TRMM\\NDVI_InnerMongolia//CN_2007_NDVI_recon.246.tif"
       ]
      },
      {
       "output_type": "stream",
       "stream": "stdout",
       "text": [
        "\n",
        "D:\\Data\\0_DAILY_INTERVAL_NDVI_TRMM\\NDVI_InnerMongolia//CN_2007_NDVI_recon.247.tif"
       ]
      },
      {
       "output_type": "stream",
       "stream": "stdout",
       "text": [
        "\n",
        "D:\\Data\\0_DAILY_INTERVAL_NDVI_TRMM\\NDVI_InnerMongolia//CN_2007_NDVI_recon.248.tif"
       ]
      },
      {
       "output_type": "stream",
       "stream": "stdout",
       "text": [
        "\n",
        "D:\\Data\\0_DAILY_INTERVAL_NDVI_TRMM\\NDVI_InnerMongolia//CN_2007_NDVI_recon.249.tif"
       ]
      },
      {
       "output_type": "stream",
       "stream": "stdout",
       "text": [
        "\n",
        "D:\\Data\\0_DAILY_INTERVAL_NDVI_TRMM\\NDVI_InnerMongolia//CN_2007_NDVI_recon.250.tif"
       ]
      },
      {
       "output_type": "stream",
       "stream": "stdout",
       "text": [
        "\n",
        "D:\\Data\\0_DAILY_INTERVAL_NDVI_TRMM\\NDVI_InnerMongolia//CN_2007_NDVI_recon.251.tif"
       ]
      },
      {
       "output_type": "stream",
       "stream": "stdout",
       "text": [
        "\n",
        "D:\\Data\\0_DAILY_INTERVAL_NDVI_TRMM\\NDVI_InnerMongolia//CN_2007_NDVI_recon.252.tif"
       ]
      },
      {
       "output_type": "stream",
       "stream": "stdout",
       "text": [
        "\n",
        "D:\\Data\\0_DAILY_INTERVAL_NDVI_TRMM\\NDVI_InnerMongolia//CN_2007_NDVI_recon.253.tif"
       ]
      },
      {
       "output_type": "stream",
       "stream": "stdout",
       "text": [
        "\n",
        "D:\\Data\\0_DAILY_INTERVAL_NDVI_TRMM\\NDVI_InnerMongolia//CN_2007_NDVI_recon.254.tif"
       ]
      },
      {
       "output_type": "stream",
       "stream": "stdout",
       "text": [
        "\n",
        "D:\\Data\\0_DAILY_INTERVAL_NDVI_TRMM\\NDVI_InnerMongolia//CN_2007_NDVI_recon.255.tif"
       ]
      },
      {
       "output_type": "stream",
       "stream": "stdout",
       "text": [
        "\n",
        "D:\\Data\\0_DAILY_INTERVAL_NDVI_TRMM\\NDVI_InnerMongolia//CN_2007_NDVI_recon.256.tif"
       ]
      },
      {
       "output_type": "stream",
       "stream": "stdout",
       "text": [
        "\n",
        "D:\\Data\\0_DAILY_INTERVAL_NDVI_TRMM\\NDVI_InnerMongolia//CN_2007_NDVI_recon.257.tif"
       ]
      },
      {
       "output_type": "stream",
       "stream": "stdout",
       "text": [
        "\n",
        "D:\\Data\\0_DAILY_INTERVAL_NDVI_TRMM\\NDVI_InnerMongolia//CN_2007_NDVI_recon.258.tif"
       ]
      },
      {
       "output_type": "stream",
       "stream": "stdout",
       "text": [
        "\n",
        "D:\\Data\\0_DAILY_INTERVAL_NDVI_TRMM\\NDVI_InnerMongolia//CN_2007_NDVI_recon.259.tif"
       ]
      },
      {
       "output_type": "stream",
       "stream": "stdout",
       "text": [
        "\n",
        "D:\\Data\\0_DAILY_INTERVAL_NDVI_TRMM\\NDVI_InnerMongolia//CN_2007_NDVI_recon.260.tif"
       ]
      },
      {
       "output_type": "stream",
       "stream": "stdout",
       "text": [
        "\n",
        "D:\\Data\\0_DAILY_INTERVAL_NDVI_TRMM\\NDVI_InnerMongolia//CN_2007_NDVI_recon.261.tif"
       ]
      },
      {
       "output_type": "stream",
       "stream": "stdout",
       "text": [
        "\n",
        "D:\\Data\\0_DAILY_INTERVAL_NDVI_TRMM\\NDVI_InnerMongolia//CN_2007_NDVI_recon.262.tif"
       ]
      },
      {
       "output_type": "stream",
       "stream": "stdout",
       "text": [
        "\n",
        "D:\\Data\\0_DAILY_INTERVAL_NDVI_TRMM\\NDVI_InnerMongolia//CN_2007_NDVI_recon.263.tif"
       ]
      },
      {
       "output_type": "stream",
       "stream": "stdout",
       "text": [
        "\n",
        "D:\\Data\\0_DAILY_INTERVAL_NDVI_TRMM\\NDVI_InnerMongolia//CN_2007_NDVI_recon.264.tif"
       ]
      },
      {
       "output_type": "stream",
       "stream": "stdout",
       "text": [
        "\n",
        "D:\\Data\\0_DAILY_INTERVAL_NDVI_TRMM\\NDVI_InnerMongolia//CN_2007_NDVI_recon.265.tif"
       ]
      },
      {
       "output_type": "stream",
       "stream": "stdout",
       "text": [
        "\n",
        "D:\\Data\\0_DAILY_INTERVAL_NDVI_TRMM\\NDVI_InnerMongolia//CN_2007_NDVI_recon.266.tif"
       ]
      },
      {
       "output_type": "stream",
       "stream": "stdout",
       "text": [
        "\n",
        "D:\\Data\\0_DAILY_INTERVAL_NDVI_TRMM\\NDVI_InnerMongolia//CN_2007_NDVI_recon.267.tif"
       ]
      },
      {
       "output_type": "stream",
       "stream": "stdout",
       "text": [
        "\n",
        "D:\\Data\\0_DAILY_INTERVAL_NDVI_TRMM\\NDVI_InnerMongolia//CN_2007_NDVI_recon.268.tif"
       ]
      },
      {
       "output_type": "stream",
       "stream": "stdout",
       "text": [
        "\n",
        "D:\\Data\\0_DAILY_INTERVAL_NDVI_TRMM\\NDVI_InnerMongolia//CN_2007_NDVI_recon.269.tif"
       ]
      },
      {
       "output_type": "stream",
       "stream": "stdout",
       "text": [
        "\n",
        "D:\\Data\\0_DAILY_INTERVAL_NDVI_TRMM\\NDVI_InnerMongolia//CN_2007_NDVI_recon.270.tif"
       ]
      },
      {
       "output_type": "stream",
       "stream": "stdout",
       "text": [
        "\n",
        "D:\\Data\\0_DAILY_INTERVAL_NDVI_TRMM\\NDVI_InnerMongolia//CN_2007_NDVI_recon.271.tif"
       ]
      },
      {
       "output_type": "stream",
       "stream": "stdout",
       "text": [
        "\n",
        "D:\\Data\\0_DAILY_INTERVAL_NDVI_TRMM\\NDVI_InnerMongolia//CN_2007_NDVI_recon.272.tif"
       ]
      },
      {
       "output_type": "stream",
       "stream": "stdout",
       "text": [
        "\n",
        "D:\\Data\\0_DAILY_INTERVAL_NDVI_TRMM\\NDVI_InnerMongolia//CN_2007_NDVI_recon.273.tif"
       ]
      },
      {
       "output_type": "stream",
       "stream": "stdout",
       "text": [
        "\n",
        "D:\\Data\\0_DAILY_INTERVAL_NDVI_TRMM\\NDVI_InnerMongolia//CN_2007_NDVI_recon.274.tif"
       ]
      },
      {
       "output_type": "stream",
       "stream": "stdout",
       "text": [
        "\n",
        "D:\\Data\\0_DAILY_INTERVAL_NDVI_TRMM\\NDVI_InnerMongolia//CN_2007_NDVI_recon.275.tif"
       ]
      },
      {
       "output_type": "stream",
       "stream": "stdout",
       "text": [
        "\n",
        "D:\\Data\\0_DAILY_INTERVAL_NDVI_TRMM\\NDVI_InnerMongolia//CN_2007_NDVI_recon.276.tif"
       ]
      },
      {
       "output_type": "stream",
       "stream": "stdout",
       "text": [
        "\n",
        "D:\\Data\\0_DAILY_INTERVAL_NDVI_TRMM\\NDVI_InnerMongolia//CN_2007_NDVI_recon.277.tif"
       ]
      },
      {
       "output_type": "stream",
       "stream": "stdout",
       "text": [
        "\n",
        "D:\\Data\\0_DAILY_INTERVAL_NDVI_TRMM\\NDVI_InnerMongolia//CN_2007_NDVI_recon.278.tif"
       ]
      },
      {
       "output_type": "stream",
       "stream": "stdout",
       "text": [
        "\n",
        "D:\\Data\\0_DAILY_INTERVAL_NDVI_TRMM\\NDVI_InnerMongolia//CN_2007_NDVI_recon.279.tif"
       ]
      },
      {
       "output_type": "stream",
       "stream": "stdout",
       "text": [
        "\n",
        "D:\\Data\\0_DAILY_INTERVAL_NDVI_TRMM\\NDVI_InnerMongolia//CN_2007_NDVI_recon.280.tif"
       ]
      },
      {
       "output_type": "stream",
       "stream": "stdout",
       "text": [
        "\n",
        "D:\\Data\\0_DAILY_INTERVAL_NDVI_TRMM\\NDVI_InnerMongolia//CN_2007_NDVI_recon.281.tif"
       ]
      },
      {
       "output_type": "stream",
       "stream": "stdout",
       "text": [
        "\n",
        "D:\\Data\\0_DAILY_INTERVAL_NDVI_TRMM\\NDVI_InnerMongolia//CN_2007_NDVI_recon.282.tif"
       ]
      },
      {
       "output_type": "stream",
       "stream": "stdout",
       "text": [
        "\n",
        "D:\\Data\\0_DAILY_INTERVAL_NDVI_TRMM\\NDVI_InnerMongolia//CN_2007_NDVI_recon.283.tif"
       ]
      },
      {
       "output_type": "stream",
       "stream": "stdout",
       "text": [
        "\n",
        "D:\\Data\\0_DAILY_INTERVAL_NDVI_TRMM\\NDVI_InnerMongolia//CN_2007_NDVI_recon.284.tif"
       ]
      },
      {
       "output_type": "stream",
       "stream": "stdout",
       "text": [
        "\n",
        "D:\\Data\\0_DAILY_INTERVAL_NDVI_TRMM\\NDVI_InnerMongolia//CN_2007_NDVI_recon.285.tif"
       ]
      },
      {
       "output_type": "stream",
       "stream": "stdout",
       "text": [
        "\n",
        "D:\\Data\\0_DAILY_INTERVAL_NDVI_TRMM\\NDVI_InnerMongolia//CN_2007_NDVI_recon.286.tif"
       ]
      },
      {
       "output_type": "stream",
       "stream": "stdout",
       "text": [
        "\n",
        "D:\\Data\\0_DAILY_INTERVAL_NDVI_TRMM\\NDVI_InnerMongolia//CN_2007_NDVI_recon.287.tif"
       ]
      },
      {
       "output_type": "stream",
       "stream": "stdout",
       "text": [
        "\n",
        "D:\\Data\\0_DAILY_INTERVAL_NDVI_TRMM\\NDVI_InnerMongolia//CN_2007_NDVI_recon.288.tif"
       ]
      },
      {
       "output_type": "stream",
       "stream": "stdout",
       "text": [
        "\n",
        "D:\\Data\\0_DAILY_INTERVAL_NDVI_TRMM\\NDVI_InnerMongolia//CN_2007_NDVI_recon.289.tif"
       ]
      },
      {
       "output_type": "stream",
       "stream": "stdout",
       "text": [
        "\n",
        "D:\\Data\\0_DAILY_INTERVAL_NDVI_TRMM\\NDVI_InnerMongolia//CN_2007_NDVI_recon.290.tif"
       ]
      },
      {
       "output_type": "stream",
       "stream": "stdout",
       "text": [
        "\n",
        "D:\\Data\\0_DAILY_INTERVAL_NDVI_TRMM\\NDVI_InnerMongolia//CN_2007_NDVI_recon.291.tif"
       ]
      },
      {
       "output_type": "stream",
       "stream": "stdout",
       "text": [
        "\n",
        "D:\\Data\\0_DAILY_INTERVAL_NDVI_TRMM\\NDVI_InnerMongolia//CN_2007_NDVI_recon.292.tif"
       ]
      },
      {
       "output_type": "stream",
       "stream": "stdout",
       "text": [
        "\n",
        "D:\\Data\\0_DAILY_INTERVAL_NDVI_TRMM\\NDVI_InnerMongolia//CN_2007_NDVI_recon.293.tif"
       ]
      },
      {
       "output_type": "stream",
       "stream": "stdout",
       "text": [
        "\n",
        "D:\\Data\\0_DAILY_INTERVAL_NDVI_TRMM\\NDVI_InnerMongolia//CN_2007_NDVI_recon.294.tif"
       ]
      },
      {
       "output_type": "stream",
       "stream": "stdout",
       "text": [
        "\n",
        "D:\\Data\\0_DAILY_INTERVAL_NDVI_TRMM\\NDVI_InnerMongolia//CN_2007_NDVI_recon.295.tif"
       ]
      },
      {
       "output_type": "stream",
       "stream": "stdout",
       "text": [
        "\n",
        "D:\\Data\\0_DAILY_INTERVAL_NDVI_TRMM\\NDVI_InnerMongolia//CN_2007_NDVI_recon.296.tif"
       ]
      },
      {
       "output_type": "stream",
       "stream": "stdout",
       "text": [
        "\n",
        "D:\\Data\\0_DAILY_INTERVAL_NDVI_TRMM\\NDVI_InnerMongolia//CN_2007_NDVI_recon.297.tif"
       ]
      },
      {
       "output_type": "stream",
       "stream": "stdout",
       "text": [
        "\n",
        "D:\\Data\\0_DAILY_INTERVAL_NDVI_TRMM\\NDVI_InnerMongolia//CN_2007_NDVI_recon.298.tif"
       ]
      },
      {
       "output_type": "stream",
       "stream": "stdout",
       "text": [
        "\n",
        "D:\\Data\\0_DAILY_INTERVAL_NDVI_TRMM\\NDVI_InnerMongolia//CN_2007_NDVI_recon.299.tif"
       ]
      },
      {
       "output_type": "stream",
       "stream": "stdout",
       "text": [
        "\n",
        "D:\\Data\\0_DAILY_INTERVAL_NDVI_TRMM\\NDVI_InnerMongolia//CN_2007_NDVI_recon.300.tif"
       ]
      },
      {
       "output_type": "stream",
       "stream": "stdout",
       "text": [
        "\n",
        "D:\\Data\\0_DAILY_INTERVAL_NDVI_TRMM\\NDVI_InnerMongolia//CN_2007_NDVI_recon.301.tif"
       ]
      },
      {
       "output_type": "stream",
       "stream": "stdout",
       "text": [
        "\n",
        "D:\\Data\\0_DAILY_INTERVAL_NDVI_TRMM\\NDVI_InnerMongolia//CN_2007_NDVI_recon.302.tif"
       ]
      },
      {
       "output_type": "stream",
       "stream": "stdout",
       "text": [
        "\n",
        "D:\\Data\\0_DAILY_INTERVAL_NDVI_TRMM\\NDVI_InnerMongolia//CN_2007_NDVI_recon.303.tif"
       ]
      },
      {
       "output_type": "stream",
       "stream": "stdout",
       "text": [
        "\n",
        "D:\\Data\\0_DAILY_INTERVAL_NDVI_TRMM\\NDVI_InnerMongolia//CN_2007_NDVI_recon.304.tif"
       ]
      },
      {
       "output_type": "stream",
       "stream": "stdout",
       "text": [
        "\n",
        "D:\\Data\\0_DAILY_INTERVAL_NDVI_TRMM\\NDVI_InnerMongolia//CN_2007_NDVI_recon.305.tif"
       ]
      },
      {
       "output_type": "stream",
       "stream": "stdout",
       "text": [
        "\n",
        "D:\\Data\\0_DAILY_INTERVAL_NDVI_TRMM\\NDVI_InnerMongolia//CN_2007_NDVI_recon.306.tif"
       ]
      },
      {
       "output_type": "stream",
       "stream": "stdout",
       "text": [
        "\n",
        "D:\\Data\\0_DAILY_INTERVAL_NDVI_TRMM\\NDVI_InnerMongolia//CN_2007_NDVI_recon.307.tif"
       ]
      },
      {
       "output_type": "stream",
       "stream": "stdout",
       "text": [
        "\n",
        "D:\\Data\\0_DAILY_INTERVAL_NDVI_TRMM\\NDVI_InnerMongolia//CN_2007_NDVI_recon.308.tif"
       ]
      },
      {
       "output_type": "stream",
       "stream": "stdout",
       "text": [
        "\n",
        "D:\\Data\\0_DAILY_INTERVAL_NDVI_TRMM\\NDVI_InnerMongolia//CN_2007_NDVI_recon.309.tif"
       ]
      },
      {
       "output_type": "stream",
       "stream": "stdout",
       "text": [
        "\n",
        "D:\\Data\\0_DAILY_INTERVAL_NDVI_TRMM\\NDVI_InnerMongolia//CN_2007_NDVI_recon.310.tif"
       ]
      },
      {
       "output_type": "stream",
       "stream": "stdout",
       "text": [
        "\n",
        "D:\\Data\\0_DAILY_INTERVAL_NDVI_TRMM\\NDVI_InnerMongolia//CN_2007_NDVI_recon.311.tif"
       ]
      },
      {
       "output_type": "stream",
       "stream": "stdout",
       "text": [
        "\n",
        "D:\\Data\\0_DAILY_INTERVAL_NDVI_TRMM\\NDVI_InnerMongolia//CN_2007_NDVI_recon.312.tif"
       ]
      },
      {
       "output_type": "stream",
       "stream": "stdout",
       "text": [
        "\n",
        "D:\\Data\\0_DAILY_INTERVAL_NDVI_TRMM\\NDVI_InnerMongolia//CN_2007_NDVI_recon.313.tif"
       ]
      },
      {
       "output_type": "stream",
       "stream": "stdout",
       "text": [
        "\n",
        "D:\\Data\\0_DAILY_INTERVAL_NDVI_TRMM\\NDVI_InnerMongolia//CN_2007_NDVI_recon.314.tif"
       ]
      },
      {
       "output_type": "stream",
       "stream": "stdout",
       "text": [
        "\n",
        "D:\\Data\\0_DAILY_INTERVAL_NDVI_TRMM\\NDVI_InnerMongolia//CN_2007_NDVI_recon.315.tif"
       ]
      },
      {
       "output_type": "stream",
       "stream": "stdout",
       "text": [
        "\n",
        "D:\\Data\\0_DAILY_INTERVAL_NDVI_TRMM\\NDVI_InnerMongolia//CN_2007_NDVI_recon.316.tif"
       ]
      },
      {
       "output_type": "stream",
       "stream": "stdout",
       "text": [
        "\n",
        "D:\\Data\\0_DAILY_INTERVAL_NDVI_TRMM\\NDVI_InnerMongolia//CN_2007_NDVI_recon.317.tif"
       ]
      },
      {
       "output_type": "stream",
       "stream": "stdout",
       "text": [
        "\n",
        "D:\\Data\\0_DAILY_INTERVAL_NDVI_TRMM\\NDVI_InnerMongolia//CN_2007_NDVI_recon.318.tif"
       ]
      },
      {
       "output_type": "stream",
       "stream": "stdout",
       "text": [
        "\n",
        "D:\\Data\\0_DAILY_INTERVAL_NDVI_TRMM\\NDVI_InnerMongolia//CN_2007_NDVI_recon.319.tif"
       ]
      },
      {
       "output_type": "stream",
       "stream": "stdout",
       "text": [
        "\n",
        "D:\\Data\\0_DAILY_INTERVAL_NDVI_TRMM\\NDVI_InnerMongolia//CN_2007_NDVI_recon.320.tif"
       ]
      },
      {
       "output_type": "stream",
       "stream": "stdout",
       "text": [
        "\n",
        "D:\\Data\\0_DAILY_INTERVAL_NDVI_TRMM\\NDVI_InnerMongolia//CN_2007_NDVI_recon.321.tif"
       ]
      },
      {
       "output_type": "stream",
       "stream": "stdout",
       "text": [
        "\n",
        "D:\\Data\\0_DAILY_INTERVAL_NDVI_TRMM\\NDVI_InnerMongolia//CN_2007_NDVI_recon.322.tif"
       ]
      },
      {
       "output_type": "stream",
       "stream": "stdout",
       "text": [
        "\n",
        "D:\\Data\\0_DAILY_INTERVAL_NDVI_TRMM\\NDVI_InnerMongolia//CN_2007_NDVI_recon.323.tif"
       ]
      },
      {
       "output_type": "stream",
       "stream": "stdout",
       "text": [
        "\n",
        "D:\\Data\\0_DAILY_INTERVAL_NDVI_TRMM\\NDVI_InnerMongolia//CN_2007_NDVI_recon.324.tif"
       ]
      },
      {
       "output_type": "stream",
       "stream": "stdout",
       "text": [
        "\n",
        "D:\\Data\\0_DAILY_INTERVAL_NDVI_TRMM\\NDVI_InnerMongolia//CN_2007_NDVI_recon.325.tif"
       ]
      },
      {
       "output_type": "stream",
       "stream": "stdout",
       "text": [
        "\n",
        "D:\\Data\\0_DAILY_INTERVAL_NDVI_TRMM\\NDVI_InnerMongolia//CN_2007_NDVI_recon.326.tif"
       ]
      },
      {
       "output_type": "stream",
       "stream": "stdout",
       "text": [
        "\n",
        "D:\\Data\\0_DAILY_INTERVAL_NDVI_TRMM\\NDVI_InnerMongolia//CN_2007_NDVI_recon.327.tif"
       ]
      },
      {
       "output_type": "stream",
       "stream": "stdout",
       "text": [
        "\n",
        "D:\\Data\\0_DAILY_INTERVAL_NDVI_TRMM\\NDVI_InnerMongolia//CN_2007_NDVI_recon.328.tif"
       ]
      },
      {
       "output_type": "stream",
       "stream": "stdout",
       "text": [
        "\n",
        "D:\\Data\\0_DAILY_INTERVAL_NDVI_TRMM\\NDVI_InnerMongolia//CN_2007_NDVI_recon.329.tif"
       ]
      },
      {
       "output_type": "stream",
       "stream": "stdout",
       "text": [
        "\n",
        "D:\\Data\\0_DAILY_INTERVAL_NDVI_TRMM\\NDVI_InnerMongolia//CN_2007_NDVI_recon.330.tif"
       ]
      },
      {
       "output_type": "stream",
       "stream": "stdout",
       "text": [
        "\n",
        "D:\\Data\\0_DAILY_INTERVAL_NDVI_TRMM\\NDVI_InnerMongolia//CN_2007_NDVI_recon.331.tif"
       ]
      },
      {
       "output_type": "stream",
       "stream": "stdout",
       "text": [
        "\n",
        "D:\\Data\\0_DAILY_INTERVAL_NDVI_TRMM\\NDVI_InnerMongolia//CN_2007_NDVI_recon.332.tif"
       ]
      },
      {
       "output_type": "stream",
       "stream": "stdout",
       "text": [
        "\n",
        "D:\\Data\\0_DAILY_INTERVAL_NDVI_TRMM\\NDVI_InnerMongolia//CN_2007_NDVI_recon.333.tif"
       ]
      },
      {
       "output_type": "stream",
       "stream": "stdout",
       "text": [
        "\n",
        "D:\\Data\\0_DAILY_INTERVAL_NDVI_TRMM\\NDVI_InnerMongolia//CN_2007_NDVI_recon.334.tif"
       ]
      },
      {
       "output_type": "stream",
       "stream": "stdout",
       "text": [
        "\n",
        "D:\\Data\\0_DAILY_INTERVAL_NDVI_TRMM\\NDVI_InnerMongolia//CN_2007_NDVI_recon.335.tif"
       ]
      },
      {
       "output_type": "stream",
       "stream": "stdout",
       "text": [
        "\n",
        "D:\\Data\\0_DAILY_INTERVAL_NDVI_TRMM\\NDVI_InnerMongolia//CN_2007_NDVI_recon.336.tif"
       ]
      },
      {
       "output_type": "stream",
       "stream": "stdout",
       "text": [
        "\n",
        "D:\\Data\\0_DAILY_INTERVAL_NDVI_TRMM\\NDVI_InnerMongolia//CN_2007_NDVI_recon.337.tif"
       ]
      },
      {
       "output_type": "stream",
       "stream": "stdout",
       "text": [
        "\n",
        "D:\\Data\\0_DAILY_INTERVAL_NDVI_TRMM\\NDVI_InnerMongolia//CN_2007_NDVI_recon.338.tif"
       ]
      },
      {
       "output_type": "stream",
       "stream": "stdout",
       "text": [
        "\n",
        "D:\\Data\\0_DAILY_INTERVAL_NDVI_TRMM\\NDVI_InnerMongolia//CN_2007_NDVI_recon.339.tif"
       ]
      },
      {
       "output_type": "stream",
       "stream": "stdout",
       "text": [
        "\n",
        "D:\\Data\\0_DAILY_INTERVAL_NDVI_TRMM\\NDVI_InnerMongolia//CN_2007_NDVI_recon.340.tif"
       ]
      },
      {
       "output_type": "stream",
       "stream": "stdout",
       "text": [
        "\n",
        "D:\\Data\\0_DAILY_INTERVAL_NDVI_TRMM\\NDVI_InnerMongolia//CN_2007_NDVI_recon.341.tif"
       ]
      },
      {
       "output_type": "stream",
       "stream": "stdout",
       "text": [
        "\n",
        "D:\\Data\\0_DAILY_INTERVAL_NDVI_TRMM\\NDVI_InnerMongolia//CN_2007_NDVI_recon.342.tif"
       ]
      },
      {
       "output_type": "stream",
       "stream": "stdout",
       "text": [
        "\n",
        "D:\\Data\\0_DAILY_INTERVAL_NDVI_TRMM\\NDVI_InnerMongolia//CN_2007_NDVI_recon.343.tif"
       ]
      },
      {
       "output_type": "stream",
       "stream": "stdout",
       "text": [
        "\n",
        "D:\\Data\\0_DAILY_INTERVAL_NDVI_TRMM\\NDVI_InnerMongolia//CN_2007_NDVI_recon.344.tif"
       ]
      },
      {
       "output_type": "stream",
       "stream": "stdout",
       "text": [
        "\n",
        "D:\\Data\\0_DAILY_INTERVAL_NDVI_TRMM\\NDVI_InnerMongolia//CN_2007_NDVI_recon.345.tif"
       ]
      },
      {
       "output_type": "stream",
       "stream": "stdout",
       "text": [
        "\n",
        "D:\\Data\\0_DAILY_INTERVAL_NDVI_TRMM\\NDVI_InnerMongolia//CN_2007_NDVI_recon.346.tif"
       ]
      },
      {
       "output_type": "stream",
       "stream": "stdout",
       "text": [
        "\n",
        "D:\\Data\\0_DAILY_INTERVAL_NDVI_TRMM\\NDVI_InnerMongolia//CN_2007_NDVI_recon.347.tif"
       ]
      },
      {
       "output_type": "stream",
       "stream": "stdout",
       "text": [
        "\n",
        "D:\\Data\\0_DAILY_INTERVAL_NDVI_TRMM\\NDVI_InnerMongolia//CN_2007_NDVI_recon.348.tif"
       ]
      },
      {
       "output_type": "stream",
       "stream": "stdout",
       "text": [
        "\n",
        "D:\\Data\\0_DAILY_INTERVAL_NDVI_TRMM\\NDVI_InnerMongolia//CN_2007_NDVI_recon.349.tif"
       ]
      },
      {
       "output_type": "stream",
       "stream": "stdout",
       "text": [
        "\n",
        "D:\\Data\\0_DAILY_INTERVAL_NDVI_TRMM\\NDVI_InnerMongolia//CN_2007_NDVI_recon.350.tif"
       ]
      },
      {
       "output_type": "stream",
       "stream": "stdout",
       "text": [
        "\n",
        "D:\\Data\\0_DAILY_INTERVAL_NDVI_TRMM\\NDVI_InnerMongolia//CN_2007_NDVI_recon.351.tif"
       ]
      },
      {
       "output_type": "stream",
       "stream": "stdout",
       "text": [
        "\n",
        "D:\\Data\\0_DAILY_INTERVAL_NDVI_TRMM\\NDVI_InnerMongolia//CN_2007_NDVI_recon.352.tif"
       ]
      },
      {
       "output_type": "stream",
       "stream": "stdout",
       "text": [
        "\n",
        "D:\\Data\\0_DAILY_INTERVAL_NDVI_TRMM\\NDVI_InnerMongolia//CN_2007_NDVI_recon.353.tif"
       ]
      },
      {
       "output_type": "stream",
       "stream": "stdout",
       "text": [
        "\n",
        "D:\\Data\\0_DAILY_INTERVAL_NDVI_TRMM\\NDVI_InnerMongolia//CN_2007_NDVI_recon.354.tif"
       ]
      },
      {
       "output_type": "stream",
       "stream": "stdout",
       "text": [
        "\n",
        "D:\\Data\\0_DAILY_INTERVAL_NDVI_TRMM\\NDVI_InnerMongolia//CN_2007_NDVI_recon.355.tif"
       ]
      },
      {
       "output_type": "stream",
       "stream": "stdout",
       "text": [
        "\n",
        "D:\\Data\\0_DAILY_INTERVAL_NDVI_TRMM\\NDVI_InnerMongolia//CN_2007_NDVI_recon.356.tif"
       ]
      },
      {
       "output_type": "stream",
       "stream": "stdout",
       "text": [
        "\n",
        "D:\\Data\\0_DAILY_INTERVAL_NDVI_TRMM\\NDVI_InnerMongolia//CN_2007_NDVI_recon.357.tif"
       ]
      },
      {
       "output_type": "stream",
       "stream": "stdout",
       "text": [
        "\n",
        "D:\\Data\\0_DAILY_INTERVAL_NDVI_TRMM\\NDVI_InnerMongolia//CN_2007_NDVI_recon.358.tif"
       ]
      },
      {
       "output_type": "stream",
       "stream": "stdout",
       "text": [
        "\n",
        "D:\\Data\\0_DAILY_INTERVAL_NDVI_TRMM\\NDVI_InnerMongolia//CN_2007_NDVI_recon.359.tif"
       ]
      },
      {
       "output_type": "stream",
       "stream": "stdout",
       "text": [
        "\n",
        "D:\\Data\\0_DAILY_INTERVAL_NDVI_TRMM\\NDVI_InnerMongolia//CN_2007_NDVI_recon.360.tif"
       ]
      },
      {
       "output_type": "stream",
       "stream": "stdout",
       "text": [
        "\n",
        "D:\\Data\\0_DAILY_INTERVAL_NDVI_TRMM\\NDVI_InnerMongolia//CN_2007_NDVI_recon.361.tif"
       ]
      },
      {
       "output_type": "stream",
       "stream": "stdout",
       "text": [
        "\n",
        "D:\\Data\\0_DAILY_INTERVAL_NDVI_TRMM\\NDVI_InnerMongolia//CN_2007_NDVI_recon.362.tif"
       ]
      },
      {
       "output_type": "stream",
       "stream": "stdout",
       "text": [
        "\n",
        "D:\\Data\\0_DAILY_INTERVAL_NDVI_TRMM\\NDVI_InnerMongolia//CN_2007_NDVI_recon.363.tif"
       ]
      },
      {
       "output_type": "stream",
       "stream": "stdout",
       "text": [
        "\n",
        "D:\\Data\\0_DAILY_INTERVAL_NDVI_TRMM\\NDVI_InnerMongolia//CN_2007_NDVI_recon.364.tif"
       ]
      },
      {
       "output_type": "stream",
       "stream": "stdout",
       "text": [
        "\n",
        "D:\\Data\\0_DAILY_INTERVAL_NDVI_TRMM\\NDVI_InnerMongolia//CN_2007_NDVI_recon.365.tif"
       ]
      },
      {
       "output_type": "stream",
       "stream": "stdout",
       "text": [
        "\n",
        "D:\\Data\\0_DAILY_INTERVAL_NDVI_TRMM\\NDVI_InnerMongolia//CN_2008_NDVI_recon.001.tif"
       ]
      },
      {
       "output_type": "stream",
       "stream": "stdout",
       "text": [
        "\n",
        "D:\\Data\\0_DAILY_INTERVAL_NDVI_TRMM\\NDVI_InnerMongolia//CN_2008_NDVI_recon.002.tif"
       ]
      },
      {
       "output_type": "stream",
       "stream": "stdout",
       "text": [
        "\n",
        "D:\\Data\\0_DAILY_INTERVAL_NDVI_TRMM\\NDVI_InnerMongolia//CN_2008_NDVI_recon.003.tif"
       ]
      },
      {
       "output_type": "stream",
       "stream": "stdout",
       "text": [
        "\n",
        "D:\\Data\\0_DAILY_INTERVAL_NDVI_TRMM\\NDVI_InnerMongolia//CN_2008_NDVI_recon.004.tif"
       ]
      },
      {
       "output_type": "stream",
       "stream": "stdout",
       "text": [
        "\n",
        "D:\\Data\\0_DAILY_INTERVAL_NDVI_TRMM\\NDVI_InnerMongolia//CN_2008_NDVI_recon.005.tif"
       ]
      },
      {
       "output_type": "stream",
       "stream": "stdout",
       "text": [
        "\n",
        "D:\\Data\\0_DAILY_INTERVAL_NDVI_TRMM\\NDVI_InnerMongolia//CN_2008_NDVI_recon.006.tif"
       ]
      },
      {
       "output_type": "stream",
       "stream": "stdout",
       "text": [
        "\n",
        "D:\\Data\\0_DAILY_INTERVAL_NDVI_TRMM\\NDVI_InnerMongolia//CN_2008_NDVI_recon.007.tif"
       ]
      },
      {
       "output_type": "stream",
       "stream": "stdout",
       "text": [
        "\n",
        "D:\\Data\\0_DAILY_INTERVAL_NDVI_TRMM\\NDVI_InnerMongolia//CN_2008_NDVI_recon.008.tif"
       ]
      },
      {
       "output_type": "stream",
       "stream": "stdout",
       "text": [
        "\n",
        "D:\\Data\\0_DAILY_INTERVAL_NDVI_TRMM\\NDVI_InnerMongolia//CN_2008_NDVI_recon.009.tif"
       ]
      },
      {
       "output_type": "stream",
       "stream": "stdout",
       "text": [
        "\n",
        "D:\\Data\\0_DAILY_INTERVAL_NDVI_TRMM\\NDVI_InnerMongolia//CN_2008_NDVI_recon.010.tif"
       ]
      },
      {
       "output_type": "stream",
       "stream": "stdout",
       "text": [
        "\n",
        "D:\\Data\\0_DAILY_INTERVAL_NDVI_TRMM\\NDVI_InnerMongolia//CN_2008_NDVI_recon.011.tif"
       ]
      },
      {
       "output_type": "stream",
       "stream": "stdout",
       "text": [
        "\n",
        "D:\\Data\\0_DAILY_INTERVAL_NDVI_TRMM\\NDVI_InnerMongolia//CN_2008_NDVI_recon.012.tif"
       ]
      },
      {
       "output_type": "stream",
       "stream": "stdout",
       "text": [
        "\n",
        "D:\\Data\\0_DAILY_INTERVAL_NDVI_TRMM\\NDVI_InnerMongolia//CN_2008_NDVI_recon.013.tif"
       ]
      },
      {
       "output_type": "stream",
       "stream": "stdout",
       "text": [
        "\n",
        "D:\\Data\\0_DAILY_INTERVAL_NDVI_TRMM\\NDVI_InnerMongolia//CN_2008_NDVI_recon.014.tif"
       ]
      },
      {
       "output_type": "stream",
       "stream": "stdout",
       "text": [
        "\n",
        "D:\\Data\\0_DAILY_INTERVAL_NDVI_TRMM\\NDVI_InnerMongolia//CN_2008_NDVI_recon.015.tif"
       ]
      },
      {
       "output_type": "stream",
       "stream": "stdout",
       "text": [
        "\n",
        "D:\\Data\\0_DAILY_INTERVAL_NDVI_TRMM\\NDVI_InnerMongolia//CN_2008_NDVI_recon.016.tif"
       ]
      },
      {
       "output_type": "stream",
       "stream": "stdout",
       "text": [
        "\n",
        "D:\\Data\\0_DAILY_INTERVAL_NDVI_TRMM\\NDVI_InnerMongolia//CN_2008_NDVI_recon.017.tif"
       ]
      },
      {
       "output_type": "stream",
       "stream": "stdout",
       "text": [
        "\n",
        "D:\\Data\\0_DAILY_INTERVAL_NDVI_TRMM\\NDVI_InnerMongolia//CN_2008_NDVI_recon.018.tif"
       ]
      },
      {
       "output_type": "stream",
       "stream": "stdout",
       "text": [
        "\n",
        "D:\\Data\\0_DAILY_INTERVAL_NDVI_TRMM\\NDVI_InnerMongolia//CN_2008_NDVI_recon.019.tif"
       ]
      },
      {
       "output_type": "stream",
       "stream": "stdout",
       "text": [
        "\n",
        "D:\\Data\\0_DAILY_INTERVAL_NDVI_TRMM\\NDVI_InnerMongolia//CN_2008_NDVI_recon.020.tif"
       ]
      },
      {
       "output_type": "stream",
       "stream": "stdout",
       "text": [
        "\n",
        "D:\\Data\\0_DAILY_INTERVAL_NDVI_TRMM\\NDVI_InnerMongolia//CN_2008_NDVI_recon.021.tif"
       ]
      },
      {
       "output_type": "stream",
       "stream": "stdout",
       "text": [
        "\n",
        "D:\\Data\\0_DAILY_INTERVAL_NDVI_TRMM\\NDVI_InnerMongolia//CN_2008_NDVI_recon.022.tif"
       ]
      },
      {
       "output_type": "stream",
       "stream": "stdout",
       "text": [
        "\n",
        "D:\\Data\\0_DAILY_INTERVAL_NDVI_TRMM\\NDVI_InnerMongolia//CN_2008_NDVI_recon.023.tif"
       ]
      },
      {
       "output_type": "stream",
       "stream": "stdout",
       "text": [
        "\n",
        "D:\\Data\\0_DAILY_INTERVAL_NDVI_TRMM\\NDVI_InnerMongolia//CN_2008_NDVI_recon.024.tif"
       ]
      },
      {
       "output_type": "stream",
       "stream": "stdout",
       "text": [
        "\n",
        "D:\\Data\\0_DAILY_INTERVAL_NDVI_TRMM\\NDVI_InnerMongolia//CN_2008_NDVI_recon.025.tif"
       ]
      },
      {
       "output_type": "stream",
       "stream": "stdout",
       "text": [
        "\n",
        "D:\\Data\\0_DAILY_INTERVAL_NDVI_TRMM\\NDVI_InnerMongolia//CN_2008_NDVI_recon.026.tif"
       ]
      },
      {
       "output_type": "stream",
       "stream": "stdout",
       "text": [
        "\n",
        "D:\\Data\\0_DAILY_INTERVAL_NDVI_TRMM\\NDVI_InnerMongolia//CN_2008_NDVI_recon.027.tif"
       ]
      },
      {
       "output_type": "stream",
       "stream": "stdout",
       "text": [
        "\n",
        "D:\\Data\\0_DAILY_INTERVAL_NDVI_TRMM\\NDVI_InnerMongolia//CN_2008_NDVI_recon.028.tif"
       ]
      },
      {
       "output_type": "stream",
       "stream": "stdout",
       "text": [
        "\n",
        "D:\\Data\\0_DAILY_INTERVAL_NDVI_TRMM\\NDVI_InnerMongolia//CN_2008_NDVI_recon.029.tif"
       ]
      },
      {
       "output_type": "stream",
       "stream": "stdout",
       "text": [
        "\n",
        "D:\\Data\\0_DAILY_INTERVAL_NDVI_TRMM\\NDVI_InnerMongolia//CN_2008_NDVI_recon.030.tif"
       ]
      },
      {
       "output_type": "stream",
       "stream": "stdout",
       "text": [
        "\n",
        "D:\\Data\\0_DAILY_INTERVAL_NDVI_TRMM\\NDVI_InnerMongolia//CN_2008_NDVI_recon.031.tif"
       ]
      },
      {
       "output_type": "stream",
       "stream": "stdout",
       "text": [
        "\n",
        "D:\\Data\\0_DAILY_INTERVAL_NDVI_TRMM\\NDVI_InnerMongolia//CN_2008_NDVI_recon.032.tif"
       ]
      },
      {
       "output_type": "stream",
       "stream": "stdout",
       "text": [
        "\n",
        "D:\\Data\\0_DAILY_INTERVAL_NDVI_TRMM\\NDVI_InnerMongolia//CN_2008_NDVI_recon.033.tif"
       ]
      },
      {
       "output_type": "stream",
       "stream": "stdout",
       "text": [
        "\n",
        "D:\\Data\\0_DAILY_INTERVAL_NDVI_TRMM\\NDVI_InnerMongolia//CN_2008_NDVI_recon.034.tif"
       ]
      },
      {
       "output_type": "stream",
       "stream": "stdout",
       "text": [
        "\n",
        "D:\\Data\\0_DAILY_INTERVAL_NDVI_TRMM\\NDVI_InnerMongolia//CN_2008_NDVI_recon.035.tif"
       ]
      },
      {
       "output_type": "stream",
       "stream": "stdout",
       "text": [
        "\n",
        "D:\\Data\\0_DAILY_INTERVAL_NDVI_TRMM\\NDVI_InnerMongolia//CN_2008_NDVI_recon.036.tif"
       ]
      },
      {
       "output_type": "stream",
       "stream": "stdout",
       "text": [
        "\n",
        "D:\\Data\\0_DAILY_INTERVAL_NDVI_TRMM\\NDVI_InnerMongolia//CN_2008_NDVI_recon.037.tif"
       ]
      },
      {
       "output_type": "stream",
       "stream": "stdout",
       "text": [
        "\n",
        "D:\\Data\\0_DAILY_INTERVAL_NDVI_TRMM\\NDVI_InnerMongolia//CN_2008_NDVI_recon.038.tif"
       ]
      },
      {
       "output_type": "stream",
       "stream": "stdout",
       "text": [
        "\n",
        "D:\\Data\\0_DAILY_INTERVAL_NDVI_TRMM\\NDVI_InnerMongolia//CN_2008_NDVI_recon.039.tif"
       ]
      },
      {
       "output_type": "stream",
       "stream": "stdout",
       "text": [
        "\n",
        "D:\\Data\\0_DAILY_INTERVAL_NDVI_TRMM\\NDVI_InnerMongolia//CN_2008_NDVI_recon.040.tif"
       ]
      },
      {
       "output_type": "stream",
       "stream": "stdout",
       "text": [
        "\n",
        "D:\\Data\\0_DAILY_INTERVAL_NDVI_TRMM\\NDVI_InnerMongolia//CN_2008_NDVI_recon.041.tif"
       ]
      },
      {
       "output_type": "stream",
       "stream": "stdout",
       "text": [
        "\n",
        "D:\\Data\\0_DAILY_INTERVAL_NDVI_TRMM\\NDVI_InnerMongolia//CN_2008_NDVI_recon.042.tif"
       ]
      },
      {
       "output_type": "stream",
       "stream": "stdout",
       "text": [
        "\n",
        "D:\\Data\\0_DAILY_INTERVAL_NDVI_TRMM\\NDVI_InnerMongolia//CN_2008_NDVI_recon.043.tif"
       ]
      },
      {
       "output_type": "stream",
       "stream": "stdout",
       "text": [
        "\n",
        "D:\\Data\\0_DAILY_INTERVAL_NDVI_TRMM\\NDVI_InnerMongolia//CN_2008_NDVI_recon.044.tif"
       ]
      },
      {
       "output_type": "stream",
       "stream": "stdout",
       "text": [
        "\n",
        "D:\\Data\\0_DAILY_INTERVAL_NDVI_TRMM\\NDVI_InnerMongolia//CN_2008_NDVI_recon.045.tif"
       ]
      },
      {
       "output_type": "stream",
       "stream": "stdout",
       "text": [
        "\n",
        "D:\\Data\\0_DAILY_INTERVAL_NDVI_TRMM\\NDVI_InnerMongolia//CN_2008_NDVI_recon.046.tif"
       ]
      },
      {
       "output_type": "stream",
       "stream": "stdout",
       "text": [
        "\n",
        "D:\\Data\\0_DAILY_INTERVAL_NDVI_TRMM\\NDVI_InnerMongolia//CN_2008_NDVI_recon.047.tif"
       ]
      },
      {
       "output_type": "stream",
       "stream": "stdout",
       "text": [
        "\n",
        "D:\\Data\\0_DAILY_INTERVAL_NDVI_TRMM\\NDVI_InnerMongolia//CN_2008_NDVI_recon.048.tif"
       ]
      },
      {
       "output_type": "stream",
       "stream": "stdout",
       "text": [
        "\n",
        "D:\\Data\\0_DAILY_INTERVAL_NDVI_TRMM\\NDVI_InnerMongolia//CN_2008_NDVI_recon.049.tif"
       ]
      },
      {
       "output_type": "stream",
       "stream": "stdout",
       "text": [
        "\n",
        "D:\\Data\\0_DAILY_INTERVAL_NDVI_TRMM\\NDVI_InnerMongolia//CN_2008_NDVI_recon.050.tif"
       ]
      },
      {
       "output_type": "stream",
       "stream": "stdout",
       "text": [
        "\n",
        "D:\\Data\\0_DAILY_INTERVAL_NDVI_TRMM\\NDVI_InnerMongolia//CN_2008_NDVI_recon.051.tif"
       ]
      },
      {
       "output_type": "stream",
       "stream": "stdout",
       "text": [
        "\n",
        "D:\\Data\\0_DAILY_INTERVAL_NDVI_TRMM\\NDVI_InnerMongolia//CN_2008_NDVI_recon.052.tif"
       ]
      },
      {
       "output_type": "stream",
       "stream": "stdout",
       "text": [
        "\n",
        "D:\\Data\\0_DAILY_INTERVAL_NDVI_TRMM\\NDVI_InnerMongolia//CN_2008_NDVI_recon.053.tif"
       ]
      },
      {
       "output_type": "stream",
       "stream": "stdout",
       "text": [
        "\n",
        "D:\\Data\\0_DAILY_INTERVAL_NDVI_TRMM\\NDVI_InnerMongolia//CN_2008_NDVI_recon.054.tif"
       ]
      },
      {
       "output_type": "stream",
       "stream": "stdout",
       "text": [
        "\n",
        "D:\\Data\\0_DAILY_INTERVAL_NDVI_TRMM\\NDVI_InnerMongolia//CN_2008_NDVI_recon.055.tif"
       ]
      },
      {
       "output_type": "stream",
       "stream": "stdout",
       "text": [
        "\n",
        "D:\\Data\\0_DAILY_INTERVAL_NDVI_TRMM\\NDVI_InnerMongolia//CN_2008_NDVI_recon.056.tif"
       ]
      },
      {
       "output_type": "stream",
       "stream": "stdout",
       "text": [
        "\n",
        "D:\\Data\\0_DAILY_INTERVAL_NDVI_TRMM\\NDVI_InnerMongolia//CN_2008_NDVI_recon.057.tif"
       ]
      },
      {
       "output_type": "stream",
       "stream": "stdout",
       "text": [
        "\n",
        "D:\\Data\\0_DAILY_INTERVAL_NDVI_TRMM\\NDVI_InnerMongolia//CN_2008_NDVI_recon.058.tif"
       ]
      },
      {
       "output_type": "stream",
       "stream": "stdout",
       "text": [
        "\n",
        "D:\\Data\\0_DAILY_INTERVAL_NDVI_TRMM\\NDVI_InnerMongolia//CN_2008_NDVI_recon.059.tif"
       ]
      },
      {
       "output_type": "stream",
       "stream": "stdout",
       "text": [
        "\n",
        "D:\\Data\\0_DAILY_INTERVAL_NDVI_TRMM\\NDVI_InnerMongolia//CN_2008_NDVI_recon.060.tif"
       ]
      },
      {
       "output_type": "stream",
       "stream": "stdout",
       "text": [
        "\n",
        "D:\\Data\\0_DAILY_INTERVAL_NDVI_TRMM\\NDVI_InnerMongolia//CN_2008_NDVI_recon.061.tif"
       ]
      },
      {
       "output_type": "stream",
       "stream": "stdout",
       "text": [
        "\n",
        "D:\\Data\\0_DAILY_INTERVAL_NDVI_TRMM\\NDVI_InnerMongolia//CN_2008_NDVI_recon.062.tif"
       ]
      },
      {
       "output_type": "stream",
       "stream": "stdout",
       "text": [
        "\n",
        "D:\\Data\\0_DAILY_INTERVAL_NDVI_TRMM\\NDVI_InnerMongolia//CN_2008_NDVI_recon.063.tif"
       ]
      },
      {
       "output_type": "stream",
       "stream": "stdout",
       "text": [
        "\n",
        "D:\\Data\\0_DAILY_INTERVAL_NDVI_TRMM\\NDVI_InnerMongolia//CN_2008_NDVI_recon.064.tif"
       ]
      },
      {
       "output_type": "stream",
       "stream": "stdout",
       "text": [
        "\n",
        "D:\\Data\\0_DAILY_INTERVAL_NDVI_TRMM\\NDVI_InnerMongolia//CN_2008_NDVI_recon.065.tif"
       ]
      },
      {
       "output_type": "stream",
       "stream": "stdout",
       "text": [
        "\n",
        "D:\\Data\\0_DAILY_INTERVAL_NDVI_TRMM\\NDVI_InnerMongolia//CN_2008_NDVI_recon.066.tif"
       ]
      },
      {
       "output_type": "stream",
       "stream": "stdout",
       "text": [
        "\n",
        "D:\\Data\\0_DAILY_INTERVAL_NDVI_TRMM\\NDVI_InnerMongolia//CN_2008_NDVI_recon.067.tif"
       ]
      },
      {
       "output_type": "stream",
       "stream": "stdout",
       "text": [
        "\n",
        "D:\\Data\\0_DAILY_INTERVAL_NDVI_TRMM\\NDVI_InnerMongolia//CN_2008_NDVI_recon.068.tif"
       ]
      },
      {
       "output_type": "stream",
       "stream": "stdout",
       "text": [
        "\n",
        "D:\\Data\\0_DAILY_INTERVAL_NDVI_TRMM\\NDVI_InnerMongolia//CN_2008_NDVI_recon.069.tif"
       ]
      },
      {
       "output_type": "stream",
       "stream": "stdout",
       "text": [
        "\n",
        "D:\\Data\\0_DAILY_INTERVAL_NDVI_TRMM\\NDVI_InnerMongolia//CN_2008_NDVI_recon.070.tif"
       ]
      },
      {
       "output_type": "stream",
       "stream": "stdout",
       "text": [
        "\n",
        "D:\\Data\\0_DAILY_INTERVAL_NDVI_TRMM\\NDVI_InnerMongolia//CN_2008_NDVI_recon.071.tif"
       ]
      },
      {
       "output_type": "stream",
       "stream": "stdout",
       "text": [
        "\n",
        "D:\\Data\\0_DAILY_INTERVAL_NDVI_TRMM\\NDVI_InnerMongolia//CN_2008_NDVI_recon.072.tif"
       ]
      },
      {
       "output_type": "stream",
       "stream": "stdout",
       "text": [
        "\n",
        "D:\\Data\\0_DAILY_INTERVAL_NDVI_TRMM\\NDVI_InnerMongolia//CN_2008_NDVI_recon.073.tif"
       ]
      },
      {
       "output_type": "stream",
       "stream": "stdout",
       "text": [
        "\n",
        "D:\\Data\\0_DAILY_INTERVAL_NDVI_TRMM\\NDVI_InnerMongolia//CN_2008_NDVI_recon.074.tif"
       ]
      },
      {
       "output_type": "stream",
       "stream": "stdout",
       "text": [
        "\n",
        "D:\\Data\\0_DAILY_INTERVAL_NDVI_TRMM\\NDVI_InnerMongolia//CN_2008_NDVI_recon.075.tif"
       ]
      },
      {
       "output_type": "stream",
       "stream": "stdout",
       "text": [
        "\n",
        "D:\\Data\\0_DAILY_INTERVAL_NDVI_TRMM\\NDVI_InnerMongolia//CN_2008_NDVI_recon.076.tif"
       ]
      },
      {
       "output_type": "stream",
       "stream": "stdout",
       "text": [
        "\n",
        "D:\\Data\\0_DAILY_INTERVAL_NDVI_TRMM\\NDVI_InnerMongolia//CN_2008_NDVI_recon.077.tif"
       ]
      },
      {
       "output_type": "stream",
       "stream": "stdout",
       "text": [
        "\n",
        "D:\\Data\\0_DAILY_INTERVAL_NDVI_TRMM\\NDVI_InnerMongolia//CN_2008_NDVI_recon.078.tif"
       ]
      },
      {
       "output_type": "stream",
       "stream": "stdout",
       "text": [
        "\n",
        "D:\\Data\\0_DAILY_INTERVAL_NDVI_TRMM\\NDVI_InnerMongolia//CN_2008_NDVI_recon.079.tif"
       ]
      },
      {
       "output_type": "stream",
       "stream": "stdout",
       "text": [
        "\n",
        "D:\\Data\\0_DAILY_INTERVAL_NDVI_TRMM\\NDVI_InnerMongolia//CN_2008_NDVI_recon.080.tif"
       ]
      },
      {
       "output_type": "stream",
       "stream": "stdout",
       "text": [
        "\n",
        "D:\\Data\\0_DAILY_INTERVAL_NDVI_TRMM\\NDVI_InnerMongolia//CN_2008_NDVI_recon.081.tif"
       ]
      },
      {
       "output_type": "stream",
       "stream": "stdout",
       "text": [
        "\n",
        "D:\\Data\\0_DAILY_INTERVAL_NDVI_TRMM\\NDVI_InnerMongolia//CN_2008_NDVI_recon.082.tif"
       ]
      },
      {
       "output_type": "stream",
       "stream": "stdout",
       "text": [
        "\n",
        "D:\\Data\\0_DAILY_INTERVAL_NDVI_TRMM\\NDVI_InnerMongolia//CN_2008_NDVI_recon.083.tif"
       ]
      },
      {
       "output_type": "stream",
       "stream": "stdout",
       "text": [
        "\n",
        "D:\\Data\\0_DAILY_INTERVAL_NDVI_TRMM\\NDVI_InnerMongolia//CN_2008_NDVI_recon.084.tif"
       ]
      },
      {
       "output_type": "stream",
       "stream": "stdout",
       "text": [
        "\n",
        "D:\\Data\\0_DAILY_INTERVAL_NDVI_TRMM\\NDVI_InnerMongolia//CN_2008_NDVI_recon.085.tif"
       ]
      },
      {
       "output_type": "stream",
       "stream": "stdout",
       "text": [
        "\n",
        "D:\\Data\\0_DAILY_INTERVAL_NDVI_TRMM\\NDVI_InnerMongolia//CN_2008_NDVI_recon.086.tif"
       ]
      },
      {
       "output_type": "stream",
       "stream": "stdout",
       "text": [
        "\n",
        "D:\\Data\\0_DAILY_INTERVAL_NDVI_TRMM\\NDVI_InnerMongolia//CN_2008_NDVI_recon.087.tif"
       ]
      },
      {
       "output_type": "stream",
       "stream": "stdout",
       "text": [
        "\n",
        "D:\\Data\\0_DAILY_INTERVAL_NDVI_TRMM\\NDVI_InnerMongolia//CN_2008_NDVI_recon.088.tif"
       ]
      },
      {
       "output_type": "stream",
       "stream": "stdout",
       "text": [
        "\n",
        "D:\\Data\\0_DAILY_INTERVAL_NDVI_TRMM\\NDVI_InnerMongolia//CN_2008_NDVI_recon.089.tif"
       ]
      },
      {
       "output_type": "stream",
       "stream": "stdout",
       "text": [
        "\n",
        "D:\\Data\\0_DAILY_INTERVAL_NDVI_TRMM\\NDVI_InnerMongolia//CN_2008_NDVI_recon.090.tif"
       ]
      },
      {
       "output_type": "stream",
       "stream": "stdout",
       "text": [
        "\n",
        "D:\\Data\\0_DAILY_INTERVAL_NDVI_TRMM\\NDVI_InnerMongolia//CN_2008_NDVI_recon.091.tif"
       ]
      },
      {
       "output_type": "stream",
       "stream": "stdout",
       "text": [
        "\n",
        "D:\\Data\\0_DAILY_INTERVAL_NDVI_TRMM\\NDVI_InnerMongolia//CN_2008_NDVI_recon.092.tif"
       ]
      },
      {
       "output_type": "stream",
       "stream": "stdout",
       "text": [
        "\n",
        "D:\\Data\\0_DAILY_INTERVAL_NDVI_TRMM\\NDVI_InnerMongolia//CN_2008_NDVI_recon.093.tif"
       ]
      },
      {
       "output_type": "stream",
       "stream": "stdout",
       "text": [
        "\n",
        "D:\\Data\\0_DAILY_INTERVAL_NDVI_TRMM\\NDVI_InnerMongolia//CN_2008_NDVI_recon.094.tif"
       ]
      },
      {
       "output_type": "stream",
       "stream": "stdout",
       "text": [
        "\n",
        "D:\\Data\\0_DAILY_INTERVAL_NDVI_TRMM\\NDVI_InnerMongolia//CN_2008_NDVI_recon.095.tif"
       ]
      },
      {
       "output_type": "stream",
       "stream": "stdout",
       "text": [
        "\n",
        "D:\\Data\\0_DAILY_INTERVAL_NDVI_TRMM\\NDVI_InnerMongolia//CN_2008_NDVI_recon.096.tif"
       ]
      },
      {
       "output_type": "stream",
       "stream": "stdout",
       "text": [
        "\n",
        "D:\\Data\\0_DAILY_INTERVAL_NDVI_TRMM\\NDVI_InnerMongolia//CN_2008_NDVI_recon.097.tif"
       ]
      },
      {
       "output_type": "stream",
       "stream": "stdout",
       "text": [
        "\n",
        "D:\\Data\\0_DAILY_INTERVAL_NDVI_TRMM\\NDVI_InnerMongolia//CN_2008_NDVI_recon.098.tif"
       ]
      },
      {
       "output_type": "stream",
       "stream": "stdout",
       "text": [
        "\n",
        "D:\\Data\\0_DAILY_INTERVAL_NDVI_TRMM\\NDVI_InnerMongolia//CN_2008_NDVI_recon.099.tif"
       ]
      },
      {
       "output_type": "stream",
       "stream": "stdout",
       "text": [
        "\n",
        "D:\\Data\\0_DAILY_INTERVAL_NDVI_TRMM\\NDVI_InnerMongolia//CN_2008_NDVI_recon.100.tif"
       ]
      },
      {
       "output_type": "stream",
       "stream": "stdout",
       "text": [
        "\n",
        "D:\\Data\\0_DAILY_INTERVAL_NDVI_TRMM\\NDVI_InnerMongolia//CN_2008_NDVI_recon.101.tif"
       ]
      },
      {
       "output_type": "stream",
       "stream": "stdout",
       "text": [
        "\n",
        "D:\\Data\\0_DAILY_INTERVAL_NDVI_TRMM\\NDVI_InnerMongolia//CN_2008_NDVI_recon.102.tif"
       ]
      },
      {
       "output_type": "stream",
       "stream": "stdout",
       "text": [
        "\n",
        "D:\\Data\\0_DAILY_INTERVAL_NDVI_TRMM\\NDVI_InnerMongolia//CN_2008_NDVI_recon.103.tif"
       ]
      },
      {
       "output_type": "stream",
       "stream": "stdout",
       "text": [
        "\n",
        "D:\\Data\\0_DAILY_INTERVAL_NDVI_TRMM\\NDVI_InnerMongolia//CN_2008_NDVI_recon.104.tif"
       ]
      },
      {
       "output_type": "stream",
       "stream": "stdout",
       "text": [
        "\n",
        "D:\\Data\\0_DAILY_INTERVAL_NDVI_TRMM\\NDVI_InnerMongolia//CN_2008_NDVI_recon.105.tif"
       ]
      },
      {
       "output_type": "stream",
       "stream": "stdout",
       "text": [
        "\n",
        "D:\\Data\\0_DAILY_INTERVAL_NDVI_TRMM\\NDVI_InnerMongolia//CN_2008_NDVI_recon.106.tif"
       ]
      },
      {
       "output_type": "stream",
       "stream": "stdout",
       "text": [
        "\n",
        "D:\\Data\\0_DAILY_INTERVAL_NDVI_TRMM\\NDVI_InnerMongolia//CN_2008_NDVI_recon.107.tif"
       ]
      },
      {
       "output_type": "stream",
       "stream": "stdout",
       "text": [
        "\n",
        "D:\\Data\\0_DAILY_INTERVAL_NDVI_TRMM\\NDVI_InnerMongolia//CN_2008_NDVI_recon.108.tif"
       ]
      },
      {
       "output_type": "stream",
       "stream": "stdout",
       "text": [
        "\n",
        "D:\\Data\\0_DAILY_INTERVAL_NDVI_TRMM\\NDVI_InnerMongolia//CN_2008_NDVI_recon.109.tif"
       ]
      },
      {
       "output_type": "stream",
       "stream": "stdout",
       "text": [
        "\n",
        "D:\\Data\\0_DAILY_INTERVAL_NDVI_TRMM\\NDVI_InnerMongolia//CN_2008_NDVI_recon.110.tif"
       ]
      },
      {
       "output_type": "stream",
       "stream": "stdout",
       "text": [
        "\n",
        "D:\\Data\\0_DAILY_INTERVAL_NDVI_TRMM\\NDVI_InnerMongolia//CN_2008_NDVI_recon.111.tif"
       ]
      },
      {
       "output_type": "stream",
       "stream": "stdout",
       "text": [
        "\n",
        "D:\\Data\\0_DAILY_INTERVAL_NDVI_TRMM\\NDVI_InnerMongolia//CN_2008_NDVI_recon.112.tif"
       ]
      },
      {
       "output_type": "stream",
       "stream": "stdout",
       "text": [
        "\n",
        "D:\\Data\\0_DAILY_INTERVAL_NDVI_TRMM\\NDVI_InnerMongolia//CN_2008_NDVI_recon.113.tif"
       ]
      },
      {
       "output_type": "stream",
       "stream": "stdout",
       "text": [
        "\n",
        "D:\\Data\\0_DAILY_INTERVAL_NDVI_TRMM\\NDVI_InnerMongolia//CN_2008_NDVI_recon.114.tif"
       ]
      },
      {
       "output_type": "stream",
       "stream": "stdout",
       "text": [
        "\n",
        "D:\\Data\\0_DAILY_INTERVAL_NDVI_TRMM\\NDVI_InnerMongolia//CN_2008_NDVI_recon.115.tif"
       ]
      },
      {
       "output_type": "stream",
       "stream": "stdout",
       "text": [
        "\n",
        "D:\\Data\\0_DAILY_INTERVAL_NDVI_TRMM\\NDVI_InnerMongolia//CN_2008_NDVI_recon.116.tif"
       ]
      },
      {
       "output_type": "stream",
       "stream": "stdout",
       "text": [
        "\n",
        "D:\\Data\\0_DAILY_INTERVAL_NDVI_TRMM\\NDVI_InnerMongolia//CN_2008_NDVI_recon.117.tif"
       ]
      },
      {
       "output_type": "stream",
       "stream": "stdout",
       "text": [
        "\n",
        "D:\\Data\\0_DAILY_INTERVAL_NDVI_TRMM\\NDVI_InnerMongolia//CN_2008_NDVI_recon.118.tif"
       ]
      },
      {
       "output_type": "stream",
       "stream": "stdout",
       "text": [
        "\n",
        "D:\\Data\\0_DAILY_INTERVAL_NDVI_TRMM\\NDVI_InnerMongolia//CN_2008_NDVI_recon.119.tif"
       ]
      },
      {
       "output_type": "stream",
       "stream": "stdout",
       "text": [
        "\n",
        "D:\\Data\\0_DAILY_INTERVAL_NDVI_TRMM\\NDVI_InnerMongolia//CN_2008_NDVI_recon.120.tif"
       ]
      },
      {
       "output_type": "stream",
       "stream": "stdout",
       "text": [
        "\n",
        "D:\\Data\\0_DAILY_INTERVAL_NDVI_TRMM\\NDVI_InnerMongolia//CN_2008_NDVI_recon.121.tif"
       ]
      },
      {
       "output_type": "stream",
       "stream": "stdout",
       "text": [
        "\n",
        "D:\\Data\\0_DAILY_INTERVAL_NDVI_TRMM\\NDVI_InnerMongolia//CN_2008_NDVI_recon.122.tif"
       ]
      },
      {
       "output_type": "stream",
       "stream": "stdout",
       "text": [
        "\n",
        "D:\\Data\\0_DAILY_INTERVAL_NDVI_TRMM\\NDVI_InnerMongolia//CN_2008_NDVI_recon.123.tif"
       ]
      },
      {
       "output_type": "stream",
       "stream": "stdout",
       "text": [
        "\n",
        "D:\\Data\\0_DAILY_INTERVAL_NDVI_TRMM\\NDVI_InnerMongolia//CN_2008_NDVI_recon.124.tif"
       ]
      },
      {
       "output_type": "stream",
       "stream": "stdout",
       "text": [
        "\n",
        "D:\\Data\\0_DAILY_INTERVAL_NDVI_TRMM\\NDVI_InnerMongolia//CN_2008_NDVI_recon.125.tif"
       ]
      },
      {
       "output_type": "stream",
       "stream": "stdout",
       "text": [
        "\n",
        "D:\\Data\\0_DAILY_INTERVAL_NDVI_TRMM\\NDVI_InnerMongolia//CN_2008_NDVI_recon.126.tif"
       ]
      },
      {
       "output_type": "stream",
       "stream": "stdout",
       "text": [
        "\n",
        "D:\\Data\\0_DAILY_INTERVAL_NDVI_TRMM\\NDVI_InnerMongolia//CN_2008_NDVI_recon.127.tif"
       ]
      },
      {
       "output_type": "stream",
       "stream": "stdout",
       "text": [
        "\n",
        "D:\\Data\\0_DAILY_INTERVAL_NDVI_TRMM\\NDVI_InnerMongolia//CN_2008_NDVI_recon.128.tif"
       ]
      },
      {
       "output_type": "stream",
       "stream": "stdout",
       "text": [
        "\n",
        "D:\\Data\\0_DAILY_INTERVAL_NDVI_TRMM\\NDVI_InnerMongolia//CN_2008_NDVI_recon.129.tif"
       ]
      },
      {
       "output_type": "stream",
       "stream": "stdout",
       "text": [
        "\n",
        "D:\\Data\\0_DAILY_INTERVAL_NDVI_TRMM\\NDVI_InnerMongolia//CN_2008_NDVI_recon.130.tif"
       ]
      },
      {
       "output_type": "stream",
       "stream": "stdout",
       "text": [
        "\n",
        "D:\\Data\\0_DAILY_INTERVAL_NDVI_TRMM\\NDVI_InnerMongolia//CN_2008_NDVI_recon.131.tif"
       ]
      },
      {
       "output_type": "stream",
       "stream": "stdout",
       "text": [
        "\n",
        "D:\\Data\\0_DAILY_INTERVAL_NDVI_TRMM\\NDVI_InnerMongolia//CN_2008_NDVI_recon.132.tif"
       ]
      },
      {
       "output_type": "stream",
       "stream": "stdout",
       "text": [
        "\n",
        "D:\\Data\\0_DAILY_INTERVAL_NDVI_TRMM\\NDVI_InnerMongolia//CN_2008_NDVI_recon.133.tif"
       ]
      },
      {
       "output_type": "stream",
       "stream": "stdout",
       "text": [
        "\n",
        "D:\\Data\\0_DAILY_INTERVAL_NDVI_TRMM\\NDVI_InnerMongolia//CN_2008_NDVI_recon.134.tif"
       ]
      },
      {
       "output_type": "stream",
       "stream": "stdout",
       "text": [
        "\n",
        "D:\\Data\\0_DAILY_INTERVAL_NDVI_TRMM\\NDVI_InnerMongolia//CN_2008_NDVI_recon.135.tif"
       ]
      },
      {
       "output_type": "stream",
       "stream": "stdout",
       "text": [
        "\n",
        "D:\\Data\\0_DAILY_INTERVAL_NDVI_TRMM\\NDVI_InnerMongolia//CN_2008_NDVI_recon.136.tif"
       ]
      },
      {
       "output_type": "stream",
       "stream": "stdout",
       "text": [
        "\n",
        "D:\\Data\\0_DAILY_INTERVAL_NDVI_TRMM\\NDVI_InnerMongolia//CN_2008_NDVI_recon.137.tif"
       ]
      },
      {
       "output_type": "stream",
       "stream": "stdout",
       "text": [
        "\n",
        "D:\\Data\\0_DAILY_INTERVAL_NDVI_TRMM\\NDVI_InnerMongolia//CN_2008_NDVI_recon.138.tif"
       ]
      },
      {
       "output_type": "stream",
       "stream": "stdout",
       "text": [
        "\n",
        "D:\\Data\\0_DAILY_INTERVAL_NDVI_TRMM\\NDVI_InnerMongolia//CN_2008_NDVI_recon.139.tif"
       ]
      },
      {
       "output_type": "stream",
       "stream": "stdout",
       "text": [
        "\n",
        "D:\\Data\\0_DAILY_INTERVAL_NDVI_TRMM\\NDVI_InnerMongolia//CN_2008_NDVI_recon.140.tif"
       ]
      },
      {
       "output_type": "stream",
       "stream": "stdout",
       "text": [
        "\n",
        "D:\\Data\\0_DAILY_INTERVAL_NDVI_TRMM\\NDVI_InnerMongolia//CN_2008_NDVI_recon.141.tif"
       ]
      },
      {
       "output_type": "stream",
       "stream": "stdout",
       "text": [
        "\n",
        "D:\\Data\\0_DAILY_INTERVAL_NDVI_TRMM\\NDVI_InnerMongolia//CN_2008_NDVI_recon.142.tif"
       ]
      },
      {
       "output_type": "stream",
       "stream": "stdout",
       "text": [
        "\n",
        "D:\\Data\\0_DAILY_INTERVAL_NDVI_TRMM\\NDVI_InnerMongolia//CN_2008_NDVI_recon.143.tif"
       ]
      },
      {
       "output_type": "stream",
       "stream": "stdout",
       "text": [
        "\n",
        "D:\\Data\\0_DAILY_INTERVAL_NDVI_TRMM\\NDVI_InnerMongolia//CN_2008_NDVI_recon.144.tif"
       ]
      },
      {
       "output_type": "stream",
       "stream": "stdout",
       "text": [
        "\n",
        "D:\\Data\\0_DAILY_INTERVAL_NDVI_TRMM\\NDVI_InnerMongolia//CN_2008_NDVI_recon.145.tif"
       ]
      },
      {
       "output_type": "stream",
       "stream": "stdout",
       "text": [
        "\n",
        "D:\\Data\\0_DAILY_INTERVAL_NDVI_TRMM\\NDVI_InnerMongolia//CN_2008_NDVI_recon.146.tif"
       ]
      },
      {
       "output_type": "stream",
       "stream": "stdout",
       "text": [
        "\n",
        "D:\\Data\\0_DAILY_INTERVAL_NDVI_TRMM\\NDVI_InnerMongolia//CN_2008_NDVI_recon.147.tif"
       ]
      },
      {
       "output_type": "stream",
       "stream": "stdout",
       "text": [
        "\n",
        "D:\\Data\\0_DAILY_INTERVAL_NDVI_TRMM\\NDVI_InnerMongolia//CN_2008_NDVI_recon.148.tif"
       ]
      },
      {
       "output_type": "stream",
       "stream": "stdout",
       "text": [
        "\n",
        "D:\\Data\\0_DAILY_INTERVAL_NDVI_TRMM\\NDVI_InnerMongolia//CN_2008_NDVI_recon.149.tif"
       ]
      },
      {
       "output_type": "stream",
       "stream": "stdout",
       "text": [
        "\n",
        "D:\\Data\\0_DAILY_INTERVAL_NDVI_TRMM\\NDVI_InnerMongolia//CN_2008_NDVI_recon.150.tif"
       ]
      },
      {
       "output_type": "stream",
       "stream": "stdout",
       "text": [
        "\n",
        "D:\\Data\\0_DAILY_INTERVAL_NDVI_TRMM\\NDVI_InnerMongolia//CN_2008_NDVI_recon.151.tif"
       ]
      },
      {
       "output_type": "stream",
       "stream": "stdout",
       "text": [
        "\n",
        "D:\\Data\\0_DAILY_INTERVAL_NDVI_TRMM\\NDVI_InnerMongolia//CN_2008_NDVI_recon.152.tif"
       ]
      },
      {
       "output_type": "stream",
       "stream": "stdout",
       "text": [
        "\n",
        "D:\\Data\\0_DAILY_INTERVAL_NDVI_TRMM\\NDVI_InnerMongolia//CN_2008_NDVI_recon.153.tif"
       ]
      },
      {
       "output_type": "stream",
       "stream": "stdout",
       "text": [
        "\n",
        "D:\\Data\\0_DAILY_INTERVAL_NDVI_TRMM\\NDVI_InnerMongolia//CN_2008_NDVI_recon.154.tif"
       ]
      },
      {
       "output_type": "stream",
       "stream": "stdout",
       "text": [
        "\n",
        "D:\\Data\\0_DAILY_INTERVAL_NDVI_TRMM\\NDVI_InnerMongolia//CN_2008_NDVI_recon.155.tif"
       ]
      },
      {
       "output_type": "stream",
       "stream": "stdout",
       "text": [
        "\n",
        "D:\\Data\\0_DAILY_INTERVAL_NDVI_TRMM\\NDVI_InnerMongolia//CN_2008_NDVI_recon.156.tif"
       ]
      },
      {
       "output_type": "stream",
       "stream": "stdout",
       "text": [
        "\n",
        "D:\\Data\\0_DAILY_INTERVAL_NDVI_TRMM\\NDVI_InnerMongolia//CN_2008_NDVI_recon.157.tif"
       ]
      },
      {
       "output_type": "stream",
       "stream": "stdout",
       "text": [
        "\n",
        "D:\\Data\\0_DAILY_INTERVAL_NDVI_TRMM\\NDVI_InnerMongolia//CN_2008_NDVI_recon.158.tif"
       ]
      },
      {
       "output_type": "stream",
       "stream": "stdout",
       "text": [
        "\n",
        "D:\\Data\\0_DAILY_INTERVAL_NDVI_TRMM\\NDVI_InnerMongolia//CN_2008_NDVI_recon.159.tif"
       ]
      },
      {
       "output_type": "stream",
       "stream": "stdout",
       "text": [
        "\n",
        "D:\\Data\\0_DAILY_INTERVAL_NDVI_TRMM\\NDVI_InnerMongolia//CN_2008_NDVI_recon.160.tif"
       ]
      },
      {
       "output_type": "stream",
       "stream": "stdout",
       "text": [
        "\n",
        "D:\\Data\\0_DAILY_INTERVAL_NDVI_TRMM\\NDVI_InnerMongolia//CN_2008_NDVI_recon.161.tif"
       ]
      },
      {
       "output_type": "stream",
       "stream": "stdout",
       "text": [
        "\n",
        "D:\\Data\\0_DAILY_INTERVAL_NDVI_TRMM\\NDVI_InnerMongolia//CN_2008_NDVI_recon.162.tif"
       ]
      },
      {
       "output_type": "stream",
       "stream": "stdout",
       "text": [
        "\n",
        "D:\\Data\\0_DAILY_INTERVAL_NDVI_TRMM\\NDVI_InnerMongolia//CN_2008_NDVI_recon.163.tif"
       ]
      },
      {
       "output_type": "stream",
       "stream": "stdout",
       "text": [
        "\n",
        "D:\\Data\\0_DAILY_INTERVAL_NDVI_TRMM\\NDVI_InnerMongolia//CN_2008_NDVI_recon.164.tif"
       ]
      },
      {
       "output_type": "stream",
       "stream": "stdout",
       "text": [
        "\n",
        "D:\\Data\\0_DAILY_INTERVAL_NDVI_TRMM\\NDVI_InnerMongolia//CN_2008_NDVI_recon.165.tif"
       ]
      },
      {
       "output_type": "stream",
       "stream": "stdout",
       "text": [
        "\n",
        "D:\\Data\\0_DAILY_INTERVAL_NDVI_TRMM\\NDVI_InnerMongolia//CN_2008_NDVI_recon.166.tif"
       ]
      },
      {
       "output_type": "stream",
       "stream": "stdout",
       "text": [
        "\n",
        "D:\\Data\\0_DAILY_INTERVAL_NDVI_TRMM\\NDVI_InnerMongolia//CN_2008_NDVI_recon.167.tif"
       ]
      },
      {
       "output_type": "stream",
       "stream": "stdout",
       "text": [
        "\n",
        "D:\\Data\\0_DAILY_INTERVAL_NDVI_TRMM\\NDVI_InnerMongolia//CN_2008_NDVI_recon.168.tif"
       ]
      },
      {
       "output_type": "stream",
       "stream": "stdout",
       "text": [
        "\n",
        "D:\\Data\\0_DAILY_INTERVAL_NDVI_TRMM\\NDVI_InnerMongolia//CN_2008_NDVI_recon.169.tif"
       ]
      },
      {
       "output_type": "stream",
       "stream": "stdout",
       "text": [
        "\n",
        "D:\\Data\\0_DAILY_INTERVAL_NDVI_TRMM\\NDVI_InnerMongolia//CN_2008_NDVI_recon.170.tif"
       ]
      },
      {
       "output_type": "stream",
       "stream": "stdout",
       "text": [
        "\n",
        "D:\\Data\\0_DAILY_INTERVAL_NDVI_TRMM\\NDVI_InnerMongolia//CN_2008_NDVI_recon.171.tif"
       ]
      },
      {
       "output_type": "stream",
       "stream": "stdout",
       "text": [
        "\n",
        "D:\\Data\\0_DAILY_INTERVAL_NDVI_TRMM\\NDVI_InnerMongolia//CN_2008_NDVI_recon.172.tif"
       ]
      },
      {
       "output_type": "stream",
       "stream": "stdout",
       "text": [
        "\n",
        "D:\\Data\\0_DAILY_INTERVAL_NDVI_TRMM\\NDVI_InnerMongolia//CN_2008_NDVI_recon.173.tif"
       ]
      },
      {
       "output_type": "stream",
       "stream": "stdout",
       "text": [
        "\n",
        "D:\\Data\\0_DAILY_INTERVAL_NDVI_TRMM\\NDVI_InnerMongolia//CN_2008_NDVI_recon.174.tif"
       ]
      },
      {
       "output_type": "stream",
       "stream": "stdout",
       "text": [
        "\n",
        "D:\\Data\\0_DAILY_INTERVAL_NDVI_TRMM\\NDVI_InnerMongolia//CN_2008_NDVI_recon.175.tif"
       ]
      },
      {
       "output_type": "stream",
       "stream": "stdout",
       "text": [
        "\n",
        "D:\\Data\\0_DAILY_INTERVAL_NDVI_TRMM\\NDVI_InnerMongolia//CN_2008_NDVI_recon.176.tif"
       ]
      },
      {
       "output_type": "stream",
       "stream": "stdout",
       "text": [
        "\n",
        "D:\\Data\\0_DAILY_INTERVAL_NDVI_TRMM\\NDVI_InnerMongolia//CN_2008_NDVI_recon.177.tif"
       ]
      },
      {
       "output_type": "stream",
       "stream": "stdout",
       "text": [
        "\n",
        "D:\\Data\\0_DAILY_INTERVAL_NDVI_TRMM\\NDVI_InnerMongolia//CN_2008_NDVI_recon.178.tif"
       ]
      },
      {
       "output_type": "stream",
       "stream": "stdout",
       "text": [
        "\n",
        "D:\\Data\\0_DAILY_INTERVAL_NDVI_TRMM\\NDVI_InnerMongolia//CN_2008_NDVI_recon.179.tif"
       ]
      },
      {
       "output_type": "stream",
       "stream": "stdout",
       "text": [
        "\n",
        "D:\\Data\\0_DAILY_INTERVAL_NDVI_TRMM\\NDVI_InnerMongolia//CN_2008_NDVI_recon.180.tif"
       ]
      },
      {
       "output_type": "stream",
       "stream": "stdout",
       "text": [
        "\n",
        "D:\\Data\\0_DAILY_INTERVAL_NDVI_TRMM\\NDVI_InnerMongolia//CN_2008_NDVI_recon.181.tif"
       ]
      },
      {
       "output_type": "stream",
       "stream": "stdout",
       "text": [
        "\n",
        "D:\\Data\\0_DAILY_INTERVAL_NDVI_TRMM\\NDVI_InnerMongolia//CN_2008_NDVI_recon.182.tif"
       ]
      },
      {
       "output_type": "stream",
       "stream": "stdout",
       "text": [
        "\n",
        "D:\\Data\\0_DAILY_INTERVAL_NDVI_TRMM\\NDVI_InnerMongolia//CN_2008_NDVI_recon.183.tif"
       ]
      },
      {
       "output_type": "stream",
       "stream": "stdout",
       "text": [
        "\n",
        "D:\\Data\\0_DAILY_INTERVAL_NDVI_TRMM\\NDVI_InnerMongolia//CN_2008_NDVI_recon.184.tif"
       ]
      },
      {
       "output_type": "stream",
       "stream": "stdout",
       "text": [
        "\n",
        "D:\\Data\\0_DAILY_INTERVAL_NDVI_TRMM\\NDVI_InnerMongolia//CN_2008_NDVI_recon.185.tif"
       ]
      },
      {
       "output_type": "stream",
       "stream": "stdout",
       "text": [
        "\n",
        "D:\\Data\\0_DAILY_INTERVAL_NDVI_TRMM\\NDVI_InnerMongolia//CN_2008_NDVI_recon.186.tif"
       ]
      },
      {
       "output_type": "stream",
       "stream": "stdout",
       "text": [
        "\n",
        "D:\\Data\\0_DAILY_INTERVAL_NDVI_TRMM\\NDVI_InnerMongolia//CN_2008_NDVI_recon.187.tif"
       ]
      },
      {
       "output_type": "stream",
       "stream": "stdout",
       "text": [
        "\n",
        "D:\\Data\\0_DAILY_INTERVAL_NDVI_TRMM\\NDVI_InnerMongolia//CN_2008_NDVI_recon.188.tif"
       ]
      },
      {
       "output_type": "stream",
       "stream": "stdout",
       "text": [
        "\n",
        "D:\\Data\\0_DAILY_INTERVAL_NDVI_TRMM\\NDVI_InnerMongolia//CN_2008_NDVI_recon.189.tif"
       ]
      },
      {
       "output_type": "stream",
       "stream": "stdout",
       "text": [
        "\n",
        "D:\\Data\\0_DAILY_INTERVAL_NDVI_TRMM\\NDVI_InnerMongolia//CN_2008_NDVI_recon.190.tif"
       ]
      },
      {
       "output_type": "stream",
       "stream": "stdout",
       "text": [
        "\n",
        "D:\\Data\\0_DAILY_INTERVAL_NDVI_TRMM\\NDVI_InnerMongolia//CN_2008_NDVI_recon.191.tif"
       ]
      },
      {
       "output_type": "stream",
       "stream": "stdout",
       "text": [
        "\n",
        "D:\\Data\\0_DAILY_INTERVAL_NDVI_TRMM\\NDVI_InnerMongolia//CN_2008_NDVI_recon.192.tif"
       ]
      },
      {
       "output_type": "stream",
       "stream": "stdout",
       "text": [
        "\n",
        "D:\\Data\\0_DAILY_INTERVAL_NDVI_TRMM\\NDVI_InnerMongolia//CN_2008_NDVI_recon.193.tif"
       ]
      },
      {
       "output_type": "stream",
       "stream": "stdout",
       "text": [
        "\n",
        "D:\\Data\\0_DAILY_INTERVAL_NDVI_TRMM\\NDVI_InnerMongolia//CN_2008_NDVI_recon.194.tif"
       ]
      },
      {
       "output_type": "stream",
       "stream": "stdout",
       "text": [
        "\n",
        "D:\\Data\\0_DAILY_INTERVAL_NDVI_TRMM\\NDVI_InnerMongolia//CN_2008_NDVI_recon.195.tif"
       ]
      },
      {
       "output_type": "stream",
       "stream": "stdout",
       "text": [
        "\n",
        "D:\\Data\\0_DAILY_INTERVAL_NDVI_TRMM\\NDVI_InnerMongolia//CN_2008_NDVI_recon.196.tif"
       ]
      },
      {
       "output_type": "stream",
       "stream": "stdout",
       "text": [
        "\n",
        "D:\\Data\\0_DAILY_INTERVAL_NDVI_TRMM\\NDVI_InnerMongolia//CN_2008_NDVI_recon.197.tif"
       ]
      },
      {
       "output_type": "stream",
       "stream": "stdout",
       "text": [
        "\n",
        "D:\\Data\\0_DAILY_INTERVAL_NDVI_TRMM\\NDVI_InnerMongolia//CN_2008_NDVI_recon.198.tif"
       ]
      },
      {
       "output_type": "stream",
       "stream": "stdout",
       "text": [
        "\n",
        "D:\\Data\\0_DAILY_INTERVAL_NDVI_TRMM\\NDVI_InnerMongolia//CN_2008_NDVI_recon.199.tif"
       ]
      },
      {
       "output_type": "stream",
       "stream": "stdout",
       "text": [
        "\n",
        "D:\\Data\\0_DAILY_INTERVAL_NDVI_TRMM\\NDVI_InnerMongolia//CN_2008_NDVI_recon.200.tif"
       ]
      },
      {
       "output_type": "stream",
       "stream": "stdout",
       "text": [
        "\n",
        "D:\\Data\\0_DAILY_INTERVAL_NDVI_TRMM\\NDVI_InnerMongolia//CN_2008_NDVI_recon.201.tif"
       ]
      },
      {
       "output_type": "stream",
       "stream": "stdout",
       "text": [
        "\n",
        "D:\\Data\\0_DAILY_INTERVAL_NDVI_TRMM\\NDVI_InnerMongolia//CN_2008_NDVI_recon.202.tif"
       ]
      },
      {
       "output_type": "stream",
       "stream": "stdout",
       "text": [
        "\n",
        "D:\\Data\\0_DAILY_INTERVAL_NDVI_TRMM\\NDVI_InnerMongolia//CN_2008_NDVI_recon.203.tif"
       ]
      },
      {
       "output_type": "stream",
       "stream": "stdout",
       "text": [
        "\n",
        "D:\\Data\\0_DAILY_INTERVAL_NDVI_TRMM\\NDVI_InnerMongolia//CN_2008_NDVI_recon.204.tif"
       ]
      },
      {
       "output_type": "stream",
       "stream": "stdout",
       "text": [
        "\n",
        "D:\\Data\\0_DAILY_INTERVAL_NDVI_TRMM\\NDVI_InnerMongolia//CN_2008_NDVI_recon.205.tif"
       ]
      },
      {
       "output_type": "stream",
       "stream": "stdout",
       "text": [
        "\n",
        "D:\\Data\\0_DAILY_INTERVAL_NDVI_TRMM\\NDVI_InnerMongolia//CN_2008_NDVI_recon.206.tif"
       ]
      },
      {
       "output_type": "stream",
       "stream": "stdout",
       "text": [
        "\n",
        "D:\\Data\\0_DAILY_INTERVAL_NDVI_TRMM\\NDVI_InnerMongolia//CN_2008_NDVI_recon.207.tif"
       ]
      },
      {
       "output_type": "stream",
       "stream": "stdout",
       "text": [
        "\n",
        "D:\\Data\\0_DAILY_INTERVAL_NDVI_TRMM\\NDVI_InnerMongolia//CN_2008_NDVI_recon.208.tif"
       ]
      },
      {
       "output_type": "stream",
       "stream": "stdout",
       "text": [
        "\n",
        "D:\\Data\\0_DAILY_INTERVAL_NDVI_TRMM\\NDVI_InnerMongolia//CN_2008_NDVI_recon.209.tif"
       ]
      },
      {
       "output_type": "stream",
       "stream": "stdout",
       "text": [
        "\n",
        "D:\\Data\\0_DAILY_INTERVAL_NDVI_TRMM\\NDVI_InnerMongolia//CN_2008_NDVI_recon.210.tif"
       ]
      },
      {
       "output_type": "stream",
       "stream": "stdout",
       "text": [
        "\n",
        "D:\\Data\\0_DAILY_INTERVAL_NDVI_TRMM\\NDVI_InnerMongolia//CN_2008_NDVI_recon.211.tif"
       ]
      },
      {
       "output_type": "stream",
       "stream": "stdout",
       "text": [
        "\n",
        "D:\\Data\\0_DAILY_INTERVAL_NDVI_TRMM\\NDVI_InnerMongolia//CN_2008_NDVI_recon.212.tif"
       ]
      },
      {
       "output_type": "stream",
       "stream": "stdout",
       "text": [
        "\n",
        "D:\\Data\\0_DAILY_INTERVAL_NDVI_TRMM\\NDVI_InnerMongolia//CN_2008_NDVI_recon.213.tif"
       ]
      },
      {
       "output_type": "stream",
       "stream": "stdout",
       "text": [
        "\n",
        "D:\\Data\\0_DAILY_INTERVAL_NDVI_TRMM\\NDVI_InnerMongolia//CN_2008_NDVI_recon.214.tif"
       ]
      },
      {
       "output_type": "stream",
       "stream": "stdout",
       "text": [
        "\n",
        "D:\\Data\\0_DAILY_INTERVAL_NDVI_TRMM\\NDVI_InnerMongolia//CN_2008_NDVI_recon.215.tif"
       ]
      },
      {
       "output_type": "stream",
       "stream": "stdout",
       "text": [
        "\n",
        "D:\\Data\\0_DAILY_INTERVAL_NDVI_TRMM\\NDVI_InnerMongolia//CN_2008_NDVI_recon.216.tif"
       ]
      },
      {
       "output_type": "stream",
       "stream": "stdout",
       "text": [
        "\n",
        "D:\\Data\\0_DAILY_INTERVAL_NDVI_TRMM\\NDVI_InnerMongolia//CN_2008_NDVI_recon.217.tif"
       ]
      },
      {
       "output_type": "stream",
       "stream": "stdout",
       "text": [
        "\n",
        "D:\\Data\\0_DAILY_INTERVAL_NDVI_TRMM\\NDVI_InnerMongolia//CN_2008_NDVI_recon.218.tif"
       ]
      },
      {
       "output_type": "stream",
       "stream": "stdout",
       "text": [
        "\n",
        "D:\\Data\\0_DAILY_INTERVAL_NDVI_TRMM\\NDVI_InnerMongolia//CN_2008_NDVI_recon.219.tif"
       ]
      },
      {
       "output_type": "stream",
       "stream": "stdout",
       "text": [
        "\n",
        "D:\\Data\\0_DAILY_INTERVAL_NDVI_TRMM\\NDVI_InnerMongolia//CN_2008_NDVI_recon.220.tif"
       ]
      },
      {
       "output_type": "stream",
       "stream": "stdout",
       "text": [
        "\n",
        "D:\\Data\\0_DAILY_INTERVAL_NDVI_TRMM\\NDVI_InnerMongolia//CN_2008_NDVI_recon.221.tif"
       ]
      },
      {
       "output_type": "stream",
       "stream": "stdout",
       "text": [
        "\n",
        "D:\\Data\\0_DAILY_INTERVAL_NDVI_TRMM\\NDVI_InnerMongolia//CN_2008_NDVI_recon.222.tif"
       ]
      },
      {
       "output_type": "stream",
       "stream": "stdout",
       "text": [
        "\n",
        "D:\\Data\\0_DAILY_INTERVAL_NDVI_TRMM\\NDVI_InnerMongolia//CN_2008_NDVI_recon.223.tif"
       ]
      },
      {
       "output_type": "stream",
       "stream": "stdout",
       "text": [
        "\n",
        "D:\\Data\\0_DAILY_INTERVAL_NDVI_TRMM\\NDVI_InnerMongolia//CN_2008_NDVI_recon.224.tif"
       ]
      },
      {
       "output_type": "stream",
       "stream": "stdout",
       "text": [
        "\n",
        "D:\\Data\\0_DAILY_INTERVAL_NDVI_TRMM\\NDVI_InnerMongolia//CN_2008_NDVI_recon.225.tif"
       ]
      },
      {
       "output_type": "stream",
       "stream": "stdout",
       "text": [
        "\n",
        "D:\\Data\\0_DAILY_INTERVAL_NDVI_TRMM\\NDVI_InnerMongolia//CN_2008_NDVI_recon.226.tif"
       ]
      },
      {
       "output_type": "stream",
       "stream": "stdout",
       "text": [
        "\n",
        "D:\\Data\\0_DAILY_INTERVAL_NDVI_TRMM\\NDVI_InnerMongolia//CN_2008_NDVI_recon.227.tif"
       ]
      },
      {
       "output_type": "stream",
       "stream": "stdout",
       "text": [
        "\n",
        "D:\\Data\\0_DAILY_INTERVAL_NDVI_TRMM\\NDVI_InnerMongolia//CN_2008_NDVI_recon.228.tif"
       ]
      },
      {
       "output_type": "stream",
       "stream": "stdout",
       "text": [
        "\n",
        "D:\\Data\\0_DAILY_INTERVAL_NDVI_TRMM\\NDVI_InnerMongolia//CN_2008_NDVI_recon.229.tif"
       ]
      },
      {
       "output_type": "stream",
       "stream": "stdout",
       "text": [
        "\n",
        "D:\\Data\\0_DAILY_INTERVAL_NDVI_TRMM\\NDVI_InnerMongolia//CN_2008_NDVI_recon.230.tif"
       ]
      },
      {
       "output_type": "stream",
       "stream": "stdout",
       "text": [
        "\n",
        "D:\\Data\\0_DAILY_INTERVAL_NDVI_TRMM\\NDVI_InnerMongolia//CN_2008_NDVI_recon.231.tif"
       ]
      },
      {
       "output_type": "stream",
       "stream": "stdout",
       "text": [
        "\n",
        "D:\\Data\\0_DAILY_INTERVAL_NDVI_TRMM\\NDVI_InnerMongolia//CN_2008_NDVI_recon.232.tif"
       ]
      },
      {
       "output_type": "stream",
       "stream": "stdout",
       "text": [
        "\n",
        "D:\\Data\\0_DAILY_INTERVAL_NDVI_TRMM\\NDVI_InnerMongolia//CN_2008_NDVI_recon.233.tif"
       ]
      },
      {
       "output_type": "stream",
       "stream": "stdout",
       "text": [
        "\n",
        "D:\\Data\\0_DAILY_INTERVAL_NDVI_TRMM\\NDVI_InnerMongolia//CN_2008_NDVI_recon.234.tif"
       ]
      },
      {
       "output_type": "stream",
       "stream": "stdout",
       "text": [
        "\n",
        "D:\\Data\\0_DAILY_INTERVAL_NDVI_TRMM\\NDVI_InnerMongolia//CN_2008_NDVI_recon.235.tif"
       ]
      },
      {
       "output_type": "stream",
       "stream": "stdout",
       "text": [
        "\n",
        "D:\\Data\\0_DAILY_INTERVAL_NDVI_TRMM\\NDVI_InnerMongolia//CN_2008_NDVI_recon.236.tif"
       ]
      },
      {
       "output_type": "stream",
       "stream": "stdout",
       "text": [
        "\n",
        "D:\\Data\\0_DAILY_INTERVAL_NDVI_TRMM\\NDVI_InnerMongolia//CN_2008_NDVI_recon.237.tif"
       ]
      },
      {
       "output_type": "stream",
       "stream": "stdout",
       "text": [
        "\n",
        "D:\\Data\\0_DAILY_INTERVAL_NDVI_TRMM\\NDVI_InnerMongolia//CN_2008_NDVI_recon.238.tif"
       ]
      },
      {
       "output_type": "stream",
       "stream": "stdout",
       "text": [
        "\n",
        "D:\\Data\\0_DAILY_INTERVAL_NDVI_TRMM\\NDVI_InnerMongolia//CN_2008_NDVI_recon.239.tif"
       ]
      },
      {
       "output_type": "stream",
       "stream": "stdout",
       "text": [
        "\n",
        "D:\\Data\\0_DAILY_INTERVAL_NDVI_TRMM\\NDVI_InnerMongolia//CN_2008_NDVI_recon.240.tif"
       ]
      },
      {
       "output_type": "stream",
       "stream": "stdout",
       "text": [
        "\n",
        "D:\\Data\\0_DAILY_INTERVAL_NDVI_TRMM\\NDVI_InnerMongolia//CN_2008_NDVI_recon.241.tif"
       ]
      },
      {
       "output_type": "stream",
       "stream": "stdout",
       "text": [
        "\n",
        "D:\\Data\\0_DAILY_INTERVAL_NDVI_TRMM\\NDVI_InnerMongolia//CN_2008_NDVI_recon.242.tif"
       ]
      },
      {
       "output_type": "stream",
       "stream": "stdout",
       "text": [
        "\n",
        "D:\\Data\\0_DAILY_INTERVAL_NDVI_TRMM\\NDVI_InnerMongolia//CN_2008_NDVI_recon.243.tif"
       ]
      },
      {
       "output_type": "stream",
       "stream": "stdout",
       "text": [
        "\n",
        "D:\\Data\\0_DAILY_INTERVAL_NDVI_TRMM\\NDVI_InnerMongolia//CN_2008_NDVI_recon.244.tif"
       ]
      },
      {
       "output_type": "stream",
       "stream": "stdout",
       "text": [
        "\n",
        "D:\\Data\\0_DAILY_INTERVAL_NDVI_TRMM\\NDVI_InnerMongolia//CN_2008_NDVI_recon.245.tif"
       ]
      },
      {
       "output_type": "stream",
       "stream": "stdout",
       "text": [
        "\n",
        "D:\\Data\\0_DAILY_INTERVAL_NDVI_TRMM\\NDVI_InnerMongolia//CN_2008_NDVI_recon.246.tif"
       ]
      },
      {
       "output_type": "stream",
       "stream": "stdout",
       "text": [
        "\n",
        "D:\\Data\\0_DAILY_INTERVAL_NDVI_TRMM\\NDVI_InnerMongolia//CN_2008_NDVI_recon.247.tif"
       ]
      },
      {
       "output_type": "stream",
       "stream": "stdout",
       "text": [
        "\n",
        "D:\\Data\\0_DAILY_INTERVAL_NDVI_TRMM\\NDVI_InnerMongolia//CN_2008_NDVI_recon.248.tif"
       ]
      },
      {
       "output_type": "stream",
       "stream": "stdout",
       "text": [
        "\n",
        "D:\\Data\\0_DAILY_INTERVAL_NDVI_TRMM\\NDVI_InnerMongolia//CN_2008_NDVI_recon.249.tif"
       ]
      },
      {
       "output_type": "stream",
       "stream": "stdout",
       "text": [
        "\n",
        "D:\\Data\\0_DAILY_INTERVAL_NDVI_TRMM\\NDVI_InnerMongolia//CN_2008_NDVI_recon.250.tif"
       ]
      },
      {
       "output_type": "stream",
       "stream": "stdout",
       "text": [
        "\n",
        "D:\\Data\\0_DAILY_INTERVAL_NDVI_TRMM\\NDVI_InnerMongolia//CN_2008_NDVI_recon.251.tif"
       ]
      },
      {
       "output_type": "stream",
       "stream": "stdout",
       "text": [
        "\n",
        "D:\\Data\\0_DAILY_INTERVAL_NDVI_TRMM\\NDVI_InnerMongolia//CN_2008_NDVI_recon.252.tif"
       ]
      },
      {
       "output_type": "stream",
       "stream": "stdout",
       "text": [
        "\n",
        "D:\\Data\\0_DAILY_INTERVAL_NDVI_TRMM\\NDVI_InnerMongolia//CN_2008_NDVI_recon.253.tif"
       ]
      },
      {
       "output_type": "stream",
       "stream": "stdout",
       "text": [
        "\n",
        "D:\\Data\\0_DAILY_INTERVAL_NDVI_TRMM\\NDVI_InnerMongolia//CN_2008_NDVI_recon.254.tif"
       ]
      },
      {
       "output_type": "stream",
       "stream": "stdout",
       "text": [
        "\n",
        "D:\\Data\\0_DAILY_INTERVAL_NDVI_TRMM\\NDVI_InnerMongolia//CN_2008_NDVI_recon.255.tif"
       ]
      },
      {
       "output_type": "stream",
       "stream": "stdout",
       "text": [
        "\n",
        "D:\\Data\\0_DAILY_INTERVAL_NDVI_TRMM\\NDVI_InnerMongolia//CN_2008_NDVI_recon.256.tif"
       ]
      },
      {
       "output_type": "stream",
       "stream": "stdout",
       "text": [
        "\n",
        "D:\\Data\\0_DAILY_INTERVAL_NDVI_TRMM\\NDVI_InnerMongolia//CN_2008_NDVI_recon.257.tif"
       ]
      },
      {
       "output_type": "stream",
       "stream": "stdout",
       "text": [
        "\n",
        "D:\\Data\\0_DAILY_INTERVAL_NDVI_TRMM\\NDVI_InnerMongolia//CN_2008_NDVI_recon.258.tif"
       ]
      },
      {
       "output_type": "stream",
       "stream": "stdout",
       "text": [
        "\n",
        "D:\\Data\\0_DAILY_INTERVAL_NDVI_TRMM\\NDVI_InnerMongolia//CN_2008_NDVI_recon.259.tif"
       ]
      },
      {
       "output_type": "stream",
       "stream": "stdout",
       "text": [
        "\n",
        "D:\\Data\\0_DAILY_INTERVAL_NDVI_TRMM\\NDVI_InnerMongolia//CN_2008_NDVI_recon.260.tif"
       ]
      },
      {
       "output_type": "stream",
       "stream": "stdout",
       "text": [
        "\n",
        "D:\\Data\\0_DAILY_INTERVAL_NDVI_TRMM\\NDVI_InnerMongolia//CN_2008_NDVI_recon.261.tif"
       ]
      },
      {
       "output_type": "stream",
       "stream": "stdout",
       "text": [
        "\n",
        "D:\\Data\\0_DAILY_INTERVAL_NDVI_TRMM\\NDVI_InnerMongolia//CN_2008_NDVI_recon.262.tif"
       ]
      },
      {
       "output_type": "stream",
       "stream": "stdout",
       "text": [
        "\n",
        "D:\\Data\\0_DAILY_INTERVAL_NDVI_TRMM\\NDVI_InnerMongolia//CN_2008_NDVI_recon.263.tif"
       ]
      },
      {
       "output_type": "stream",
       "stream": "stdout",
       "text": [
        "\n",
        "D:\\Data\\0_DAILY_INTERVAL_NDVI_TRMM\\NDVI_InnerMongolia//CN_2008_NDVI_recon.264.tif"
       ]
      },
      {
       "output_type": "stream",
       "stream": "stdout",
       "text": [
        "\n",
        "D:\\Data\\0_DAILY_INTERVAL_NDVI_TRMM\\NDVI_InnerMongolia//CN_2008_NDVI_recon.265.tif"
       ]
      },
      {
       "output_type": "stream",
       "stream": "stdout",
       "text": [
        "\n",
        "D:\\Data\\0_DAILY_INTERVAL_NDVI_TRMM\\NDVI_InnerMongolia//CN_2008_NDVI_recon.266.tif"
       ]
      },
      {
       "output_type": "stream",
       "stream": "stdout",
       "text": [
        "\n",
        "D:\\Data\\0_DAILY_INTERVAL_NDVI_TRMM\\NDVI_InnerMongolia//CN_2008_NDVI_recon.267.tif"
       ]
      },
      {
       "output_type": "stream",
       "stream": "stdout",
       "text": [
        "\n",
        "D:\\Data\\0_DAILY_INTERVAL_NDVI_TRMM\\NDVI_InnerMongolia//CN_2008_NDVI_recon.268.tif"
       ]
      },
      {
       "output_type": "stream",
       "stream": "stdout",
       "text": [
        "\n",
        "D:\\Data\\0_DAILY_INTERVAL_NDVI_TRMM\\NDVI_InnerMongolia//CN_2008_NDVI_recon.269.tif"
       ]
      },
      {
       "output_type": "stream",
       "stream": "stdout",
       "text": [
        "\n",
        "D:\\Data\\0_DAILY_INTERVAL_NDVI_TRMM\\NDVI_InnerMongolia//CN_2008_NDVI_recon.270.tif"
       ]
      },
      {
       "output_type": "stream",
       "stream": "stdout",
       "text": [
        "\n",
        "D:\\Data\\0_DAILY_INTERVAL_NDVI_TRMM\\NDVI_InnerMongolia//CN_2008_NDVI_recon.271.tif"
       ]
      },
      {
       "output_type": "stream",
       "stream": "stdout",
       "text": [
        "\n",
        "D:\\Data\\0_DAILY_INTERVAL_NDVI_TRMM\\NDVI_InnerMongolia//CN_2008_NDVI_recon.272.tif"
       ]
      },
      {
       "output_type": "stream",
       "stream": "stdout",
       "text": [
        "\n",
        "D:\\Data\\0_DAILY_INTERVAL_NDVI_TRMM\\NDVI_InnerMongolia//CN_2008_NDVI_recon.273.tif"
       ]
      },
      {
       "output_type": "stream",
       "stream": "stdout",
       "text": [
        "\n",
        "D:\\Data\\0_DAILY_INTERVAL_NDVI_TRMM\\NDVI_InnerMongolia//CN_2008_NDVI_recon.274.tif"
       ]
      },
      {
       "output_type": "stream",
       "stream": "stdout",
       "text": [
        "\n",
        "D:\\Data\\0_DAILY_INTERVAL_NDVI_TRMM\\NDVI_InnerMongolia//CN_2008_NDVI_recon.275.tif"
       ]
      },
      {
       "output_type": "stream",
       "stream": "stdout",
       "text": [
        "\n",
        "D:\\Data\\0_DAILY_INTERVAL_NDVI_TRMM\\NDVI_InnerMongolia//CN_2008_NDVI_recon.276.tif"
       ]
      },
      {
       "output_type": "stream",
       "stream": "stdout",
       "text": [
        "\n",
        "D:\\Data\\0_DAILY_INTERVAL_NDVI_TRMM\\NDVI_InnerMongolia//CN_2008_NDVI_recon.277.tif"
       ]
      },
      {
       "output_type": "stream",
       "stream": "stdout",
       "text": [
        "\n",
        "D:\\Data\\0_DAILY_INTERVAL_NDVI_TRMM\\NDVI_InnerMongolia//CN_2008_NDVI_recon.278.tif"
       ]
      },
      {
       "output_type": "stream",
       "stream": "stdout",
       "text": [
        "\n",
        "D:\\Data\\0_DAILY_INTERVAL_NDVI_TRMM\\NDVI_InnerMongolia//CN_2008_NDVI_recon.279.tif"
       ]
      },
      {
       "output_type": "stream",
       "stream": "stdout",
       "text": [
        "\n",
        "D:\\Data\\0_DAILY_INTERVAL_NDVI_TRMM\\NDVI_InnerMongolia//CN_2008_NDVI_recon.280.tif"
       ]
      },
      {
       "output_type": "stream",
       "stream": "stdout",
       "text": [
        "\n",
        "D:\\Data\\0_DAILY_INTERVAL_NDVI_TRMM\\NDVI_InnerMongolia//CN_2008_NDVI_recon.281.tif"
       ]
      },
      {
       "output_type": "stream",
       "stream": "stdout",
       "text": [
        "\n",
        "D:\\Data\\0_DAILY_INTERVAL_NDVI_TRMM\\NDVI_InnerMongolia//CN_2008_NDVI_recon.282.tif"
       ]
      },
      {
       "output_type": "stream",
       "stream": "stdout",
       "text": [
        "\n",
        "D:\\Data\\0_DAILY_INTERVAL_NDVI_TRMM\\NDVI_InnerMongolia//CN_2008_NDVI_recon.283.tif"
       ]
      },
      {
       "output_type": "stream",
       "stream": "stdout",
       "text": [
        "\n",
        "D:\\Data\\0_DAILY_INTERVAL_NDVI_TRMM\\NDVI_InnerMongolia//CN_2008_NDVI_recon.284.tif"
       ]
      },
      {
       "output_type": "stream",
       "stream": "stdout",
       "text": [
        "\n",
        "D:\\Data\\0_DAILY_INTERVAL_NDVI_TRMM\\NDVI_InnerMongolia//CN_2008_NDVI_recon.285.tif"
       ]
      },
      {
       "output_type": "stream",
       "stream": "stdout",
       "text": [
        "\n",
        "D:\\Data\\0_DAILY_INTERVAL_NDVI_TRMM\\NDVI_InnerMongolia//CN_2008_NDVI_recon.286.tif"
       ]
      },
      {
       "output_type": "stream",
       "stream": "stdout",
       "text": [
        "\n",
        "D:\\Data\\0_DAILY_INTERVAL_NDVI_TRMM\\NDVI_InnerMongolia//CN_2008_NDVI_recon.287.tif"
       ]
      },
      {
       "output_type": "stream",
       "stream": "stdout",
       "text": [
        "\n",
        "D:\\Data\\0_DAILY_INTERVAL_NDVI_TRMM\\NDVI_InnerMongolia//CN_2008_NDVI_recon.288.tif"
       ]
      },
      {
       "output_type": "stream",
       "stream": "stdout",
       "text": [
        "\n",
        "D:\\Data\\0_DAILY_INTERVAL_NDVI_TRMM\\NDVI_InnerMongolia//CN_2008_NDVI_recon.289.tif"
       ]
      },
      {
       "output_type": "stream",
       "stream": "stdout",
       "text": [
        "\n",
        "D:\\Data\\0_DAILY_INTERVAL_NDVI_TRMM\\NDVI_InnerMongolia//CN_2008_NDVI_recon.290.tif"
       ]
      },
      {
       "output_type": "stream",
       "stream": "stdout",
       "text": [
        "\n",
        "D:\\Data\\0_DAILY_INTERVAL_NDVI_TRMM\\NDVI_InnerMongolia//CN_2008_NDVI_recon.291.tif"
       ]
      },
      {
       "output_type": "stream",
       "stream": "stdout",
       "text": [
        "\n",
        "D:\\Data\\0_DAILY_INTERVAL_NDVI_TRMM\\NDVI_InnerMongolia//CN_2008_NDVI_recon.292.tif"
       ]
      },
      {
       "output_type": "stream",
       "stream": "stdout",
       "text": [
        "\n",
        "D:\\Data\\0_DAILY_INTERVAL_NDVI_TRMM\\NDVI_InnerMongolia//CN_2008_NDVI_recon.293.tif"
       ]
      },
      {
       "output_type": "stream",
       "stream": "stdout",
       "text": [
        "\n",
        "D:\\Data\\0_DAILY_INTERVAL_NDVI_TRMM\\NDVI_InnerMongolia//CN_2008_NDVI_recon.294.tif"
       ]
      },
      {
       "output_type": "stream",
       "stream": "stdout",
       "text": [
        "\n",
        "D:\\Data\\0_DAILY_INTERVAL_NDVI_TRMM\\NDVI_InnerMongolia//CN_2008_NDVI_recon.295.tif"
       ]
      },
      {
       "output_type": "stream",
       "stream": "stdout",
       "text": [
        "\n",
        "D:\\Data\\0_DAILY_INTERVAL_NDVI_TRMM\\NDVI_InnerMongolia//CN_2008_NDVI_recon.296.tif"
       ]
      },
      {
       "output_type": "stream",
       "stream": "stdout",
       "text": [
        "\n",
        "D:\\Data\\0_DAILY_INTERVAL_NDVI_TRMM\\NDVI_InnerMongolia//CN_2008_NDVI_recon.297.tif"
       ]
      },
      {
       "output_type": "stream",
       "stream": "stdout",
       "text": [
        "\n",
        "D:\\Data\\0_DAILY_INTERVAL_NDVI_TRMM\\NDVI_InnerMongolia//CN_2008_NDVI_recon.298.tif"
       ]
      },
      {
       "output_type": "stream",
       "stream": "stdout",
       "text": [
        "\n",
        "D:\\Data\\0_DAILY_INTERVAL_NDVI_TRMM\\NDVI_InnerMongolia//CN_2008_NDVI_recon.299.tif"
       ]
      },
      {
       "output_type": "stream",
       "stream": "stdout",
       "text": [
        "\n",
        "D:\\Data\\0_DAILY_INTERVAL_NDVI_TRMM\\NDVI_InnerMongolia//CN_2008_NDVI_recon.300.tif"
       ]
      },
      {
       "output_type": "stream",
       "stream": "stdout",
       "text": [
        "\n",
        "D:\\Data\\0_DAILY_INTERVAL_NDVI_TRMM\\NDVI_InnerMongolia//CN_2008_NDVI_recon.301.tif"
       ]
      },
      {
       "output_type": "stream",
       "stream": "stdout",
       "text": [
        "\n",
        "D:\\Data\\0_DAILY_INTERVAL_NDVI_TRMM\\NDVI_InnerMongolia//CN_2008_NDVI_recon.302.tif"
       ]
      },
      {
       "output_type": "stream",
       "stream": "stdout",
       "text": [
        "\n",
        "D:\\Data\\0_DAILY_INTERVAL_NDVI_TRMM\\NDVI_InnerMongolia//CN_2008_NDVI_recon.303.tif"
       ]
      },
      {
       "output_type": "stream",
       "stream": "stdout",
       "text": [
        "\n",
        "D:\\Data\\0_DAILY_INTERVAL_NDVI_TRMM\\NDVI_InnerMongolia//CN_2008_NDVI_recon.304.tif"
       ]
      },
      {
       "output_type": "stream",
       "stream": "stdout",
       "text": [
        "\n",
        "D:\\Data\\0_DAILY_INTERVAL_NDVI_TRMM\\NDVI_InnerMongolia//CN_2008_NDVI_recon.305.tif"
       ]
      },
      {
       "output_type": "stream",
       "stream": "stdout",
       "text": [
        "\n",
        "D:\\Data\\0_DAILY_INTERVAL_NDVI_TRMM\\NDVI_InnerMongolia//CN_2008_NDVI_recon.306.tif"
       ]
      },
      {
       "output_type": "stream",
       "stream": "stdout",
       "text": [
        "\n",
        "D:\\Data\\0_DAILY_INTERVAL_NDVI_TRMM\\NDVI_InnerMongolia//CN_2008_NDVI_recon.307.tif"
       ]
      },
      {
       "output_type": "stream",
       "stream": "stdout",
       "text": [
        "\n",
        "D:\\Data\\0_DAILY_INTERVAL_NDVI_TRMM\\NDVI_InnerMongolia//CN_2008_NDVI_recon.308.tif"
       ]
      },
      {
       "output_type": "stream",
       "stream": "stdout",
       "text": [
        "\n",
        "D:\\Data\\0_DAILY_INTERVAL_NDVI_TRMM\\NDVI_InnerMongolia//CN_2008_NDVI_recon.309.tif"
       ]
      },
      {
       "output_type": "stream",
       "stream": "stdout",
       "text": [
        "\n",
        "D:\\Data\\0_DAILY_INTERVAL_NDVI_TRMM\\NDVI_InnerMongolia//CN_2008_NDVI_recon.310.tif"
       ]
      },
      {
       "output_type": "stream",
       "stream": "stdout",
       "text": [
        "\n",
        "D:\\Data\\0_DAILY_INTERVAL_NDVI_TRMM\\NDVI_InnerMongolia//CN_2008_NDVI_recon.311.tif"
       ]
      },
      {
       "output_type": "stream",
       "stream": "stdout",
       "text": [
        "\n",
        "D:\\Data\\0_DAILY_INTERVAL_NDVI_TRMM\\NDVI_InnerMongolia//CN_2008_NDVI_recon.312.tif"
       ]
      },
      {
       "output_type": "stream",
       "stream": "stdout",
       "text": [
        "\n",
        "D:\\Data\\0_DAILY_INTERVAL_NDVI_TRMM\\NDVI_InnerMongolia//CN_2008_NDVI_recon.313.tif"
       ]
      },
      {
       "output_type": "stream",
       "stream": "stdout",
       "text": [
        "\n",
        "D:\\Data\\0_DAILY_INTERVAL_NDVI_TRMM\\NDVI_InnerMongolia//CN_2008_NDVI_recon.314.tif"
       ]
      },
      {
       "output_type": "stream",
       "stream": "stdout",
       "text": [
        "\n",
        "D:\\Data\\0_DAILY_INTERVAL_NDVI_TRMM\\NDVI_InnerMongolia//CN_2008_NDVI_recon.315.tif"
       ]
      },
      {
       "output_type": "stream",
       "stream": "stdout",
       "text": [
        "\n",
        "D:\\Data\\0_DAILY_INTERVAL_NDVI_TRMM\\NDVI_InnerMongolia//CN_2008_NDVI_recon.316.tif"
       ]
      },
      {
       "output_type": "stream",
       "stream": "stdout",
       "text": [
        "\n",
        "D:\\Data\\0_DAILY_INTERVAL_NDVI_TRMM\\NDVI_InnerMongolia//CN_2008_NDVI_recon.317.tif"
       ]
      },
      {
       "output_type": "stream",
       "stream": "stdout",
       "text": [
        "\n",
        "D:\\Data\\0_DAILY_INTERVAL_NDVI_TRMM\\NDVI_InnerMongolia//CN_2008_NDVI_recon.318.tif"
       ]
      },
      {
       "output_type": "stream",
       "stream": "stdout",
       "text": [
        "\n",
        "D:\\Data\\0_DAILY_INTERVAL_NDVI_TRMM\\NDVI_InnerMongolia//CN_2008_NDVI_recon.319.tif"
       ]
      },
      {
       "output_type": "stream",
       "stream": "stdout",
       "text": [
        "\n",
        "D:\\Data\\0_DAILY_INTERVAL_NDVI_TRMM\\NDVI_InnerMongolia//CN_2008_NDVI_recon.320.tif"
       ]
      },
      {
       "output_type": "stream",
       "stream": "stdout",
       "text": [
        "\n",
        "D:\\Data\\0_DAILY_INTERVAL_NDVI_TRMM\\NDVI_InnerMongolia//CN_2008_NDVI_recon.321.tif"
       ]
      },
      {
       "output_type": "stream",
       "stream": "stdout",
       "text": [
        "\n",
        "D:\\Data\\0_DAILY_INTERVAL_NDVI_TRMM\\NDVI_InnerMongolia//CN_2008_NDVI_recon.322.tif"
       ]
      },
      {
       "output_type": "stream",
       "stream": "stdout",
       "text": [
        "\n",
        "D:\\Data\\0_DAILY_INTERVAL_NDVI_TRMM\\NDVI_InnerMongolia//CN_2008_NDVI_recon.323.tif"
       ]
      },
      {
       "output_type": "stream",
       "stream": "stdout",
       "text": [
        "\n",
        "D:\\Data\\0_DAILY_INTERVAL_NDVI_TRMM\\NDVI_InnerMongolia//CN_2008_NDVI_recon.324.tif"
       ]
      },
      {
       "output_type": "stream",
       "stream": "stdout",
       "text": [
        "\n",
        "D:\\Data\\0_DAILY_INTERVAL_NDVI_TRMM\\NDVI_InnerMongolia//CN_2008_NDVI_recon.325.tif"
       ]
      },
      {
       "output_type": "stream",
       "stream": "stdout",
       "text": [
        "\n",
        "D:\\Data\\0_DAILY_INTERVAL_NDVI_TRMM\\NDVI_InnerMongolia//CN_2008_NDVI_recon.326.tif"
       ]
      },
      {
       "output_type": "stream",
       "stream": "stdout",
       "text": [
        "\n",
        "D:\\Data\\0_DAILY_INTERVAL_NDVI_TRMM\\NDVI_InnerMongolia//CN_2008_NDVI_recon.327.tif"
       ]
      },
      {
       "output_type": "stream",
       "stream": "stdout",
       "text": [
        "\n",
        "D:\\Data\\0_DAILY_INTERVAL_NDVI_TRMM\\NDVI_InnerMongolia//CN_2008_NDVI_recon.328.tif"
       ]
      },
      {
       "output_type": "stream",
       "stream": "stdout",
       "text": [
        "\n",
        "D:\\Data\\0_DAILY_INTERVAL_NDVI_TRMM\\NDVI_InnerMongolia//CN_2008_NDVI_recon.329.tif"
       ]
      },
      {
       "output_type": "stream",
       "stream": "stdout",
       "text": [
        "\n",
        "D:\\Data\\0_DAILY_INTERVAL_NDVI_TRMM\\NDVI_InnerMongolia//CN_2008_NDVI_recon.330.tif"
       ]
      },
      {
       "output_type": "stream",
       "stream": "stdout",
       "text": [
        "\n",
        "D:\\Data\\0_DAILY_INTERVAL_NDVI_TRMM\\NDVI_InnerMongolia//CN_2008_NDVI_recon.331.tif"
       ]
      },
      {
       "output_type": "stream",
       "stream": "stdout",
       "text": [
        "\n",
        "D:\\Data\\0_DAILY_INTERVAL_NDVI_TRMM\\NDVI_InnerMongolia//CN_2008_NDVI_recon.332.tif"
       ]
      },
      {
       "output_type": "stream",
       "stream": "stdout",
       "text": [
        "\n",
        "D:\\Data\\0_DAILY_INTERVAL_NDVI_TRMM\\NDVI_InnerMongolia//CN_2008_NDVI_recon.333.tif"
       ]
      },
      {
       "output_type": "stream",
       "stream": "stdout",
       "text": [
        "\n",
        "D:\\Data\\0_DAILY_INTERVAL_NDVI_TRMM\\NDVI_InnerMongolia//CN_2008_NDVI_recon.334.tif"
       ]
      },
      {
       "output_type": "stream",
       "stream": "stdout",
       "text": [
        "\n",
        "D:\\Data\\0_DAILY_INTERVAL_NDVI_TRMM\\NDVI_InnerMongolia//CN_2008_NDVI_recon.335.tif"
       ]
      },
      {
       "output_type": "stream",
       "stream": "stdout",
       "text": [
        "\n",
        "D:\\Data\\0_DAILY_INTERVAL_NDVI_TRMM\\NDVI_InnerMongolia//CN_2008_NDVI_recon.336.tif"
       ]
      },
      {
       "output_type": "stream",
       "stream": "stdout",
       "text": [
        "\n",
        "D:\\Data\\0_DAILY_INTERVAL_NDVI_TRMM\\NDVI_InnerMongolia//CN_2008_NDVI_recon.337.tif"
       ]
      },
      {
       "output_type": "stream",
       "stream": "stdout",
       "text": [
        "\n",
        "D:\\Data\\0_DAILY_INTERVAL_NDVI_TRMM\\NDVI_InnerMongolia//CN_2008_NDVI_recon.338.tif"
       ]
      },
      {
       "output_type": "stream",
       "stream": "stdout",
       "text": [
        "\n",
        "D:\\Data\\0_DAILY_INTERVAL_NDVI_TRMM\\NDVI_InnerMongolia//CN_2008_NDVI_recon.339.tif"
       ]
      },
      {
       "output_type": "stream",
       "stream": "stdout",
       "text": [
        "\n",
        "D:\\Data\\0_DAILY_INTERVAL_NDVI_TRMM\\NDVI_InnerMongolia//CN_2008_NDVI_recon.340.tif"
       ]
      },
      {
       "output_type": "stream",
       "stream": "stdout",
       "text": [
        "\n",
        "D:\\Data\\0_DAILY_INTERVAL_NDVI_TRMM\\NDVI_InnerMongolia//CN_2008_NDVI_recon.341.tif"
       ]
      },
      {
       "output_type": "stream",
       "stream": "stdout",
       "text": [
        "\n",
        "D:\\Data\\0_DAILY_INTERVAL_NDVI_TRMM\\NDVI_InnerMongolia//CN_2008_NDVI_recon.342.tif"
       ]
      },
      {
       "output_type": "stream",
       "stream": "stdout",
       "text": [
        "\n",
        "D:\\Data\\0_DAILY_INTERVAL_NDVI_TRMM\\NDVI_InnerMongolia//CN_2008_NDVI_recon.343.tif"
       ]
      },
      {
       "output_type": "stream",
       "stream": "stdout",
       "text": [
        "\n",
        "D:\\Data\\0_DAILY_INTERVAL_NDVI_TRMM\\NDVI_InnerMongolia//CN_2008_NDVI_recon.344.tif"
       ]
      },
      {
       "output_type": "stream",
       "stream": "stdout",
       "text": [
        "\n",
        "D:\\Data\\0_DAILY_INTERVAL_NDVI_TRMM\\NDVI_InnerMongolia//CN_2008_NDVI_recon.345.tif"
       ]
      },
      {
       "output_type": "stream",
       "stream": "stdout",
       "text": [
        "\n",
        "D:\\Data\\0_DAILY_INTERVAL_NDVI_TRMM\\NDVI_InnerMongolia//CN_2008_NDVI_recon.346.tif"
       ]
      },
      {
       "output_type": "stream",
       "stream": "stdout",
       "text": [
        "\n",
        "D:\\Data\\0_DAILY_INTERVAL_NDVI_TRMM\\NDVI_InnerMongolia//CN_2008_NDVI_recon.347.tif"
       ]
      },
      {
       "output_type": "stream",
       "stream": "stdout",
       "text": [
        "\n",
        "D:\\Data\\0_DAILY_INTERVAL_NDVI_TRMM\\NDVI_InnerMongolia//CN_2008_NDVI_recon.348.tif"
       ]
      },
      {
       "output_type": "stream",
       "stream": "stdout",
       "text": [
        "\n",
        "D:\\Data\\0_DAILY_INTERVAL_NDVI_TRMM\\NDVI_InnerMongolia//CN_2008_NDVI_recon.349.tif"
       ]
      },
      {
       "output_type": "stream",
       "stream": "stdout",
       "text": [
        "\n",
        "D:\\Data\\0_DAILY_INTERVAL_NDVI_TRMM\\NDVI_InnerMongolia//CN_2008_NDVI_recon.350.tif"
       ]
      },
      {
       "output_type": "stream",
       "stream": "stdout",
       "text": [
        "\n",
        "D:\\Data\\0_DAILY_INTERVAL_NDVI_TRMM\\NDVI_InnerMongolia//CN_2008_NDVI_recon.351.tif"
       ]
      },
      {
       "output_type": "stream",
       "stream": "stdout",
       "text": [
        "\n",
        "D:\\Data\\0_DAILY_INTERVAL_NDVI_TRMM\\NDVI_InnerMongolia//CN_2008_NDVI_recon.352.tif"
       ]
      },
      {
       "output_type": "stream",
       "stream": "stdout",
       "text": [
        "\n",
        "D:\\Data\\0_DAILY_INTERVAL_NDVI_TRMM\\NDVI_InnerMongolia//CN_2008_NDVI_recon.353.tif"
       ]
      },
      {
       "output_type": "stream",
       "stream": "stdout",
       "text": [
        "\n",
        "D:\\Data\\0_DAILY_INTERVAL_NDVI_TRMM\\NDVI_InnerMongolia//CN_2008_NDVI_recon.354.tif"
       ]
      },
      {
       "output_type": "stream",
       "stream": "stdout",
       "text": [
        "\n",
        "D:\\Data\\0_DAILY_INTERVAL_NDVI_TRMM\\NDVI_InnerMongolia//CN_2008_NDVI_recon.355.tif"
       ]
      },
      {
       "output_type": "stream",
       "stream": "stdout",
       "text": [
        "\n",
        "D:\\Data\\0_DAILY_INTERVAL_NDVI_TRMM\\NDVI_InnerMongolia//CN_2008_NDVI_recon.356.tif"
       ]
      },
      {
       "output_type": "stream",
       "stream": "stdout",
       "text": [
        "\n",
        "D:\\Data\\0_DAILY_INTERVAL_NDVI_TRMM\\NDVI_InnerMongolia//CN_2008_NDVI_recon.357.tif"
       ]
      },
      {
       "output_type": "stream",
       "stream": "stdout",
       "text": [
        "\n",
        "D:\\Data\\0_DAILY_INTERVAL_NDVI_TRMM\\NDVI_InnerMongolia//CN_2008_NDVI_recon.358.tif"
       ]
      },
      {
       "output_type": "stream",
       "stream": "stdout",
       "text": [
        "\n",
        "D:\\Data\\0_DAILY_INTERVAL_NDVI_TRMM\\NDVI_InnerMongolia//CN_2008_NDVI_recon.359.tif"
       ]
      },
      {
       "output_type": "stream",
       "stream": "stdout",
       "text": [
        "\n",
        "D:\\Data\\0_DAILY_INTERVAL_NDVI_TRMM\\NDVI_InnerMongolia//CN_2008_NDVI_recon.360.tif"
       ]
      },
      {
       "output_type": "stream",
       "stream": "stdout",
       "text": [
        "\n",
        "D:\\Data\\0_DAILY_INTERVAL_NDVI_TRMM\\NDVI_InnerMongolia//CN_2008_NDVI_recon.361.tif"
       ]
      },
      {
       "output_type": "stream",
       "stream": "stdout",
       "text": [
        "\n",
        "D:\\Data\\0_DAILY_INTERVAL_NDVI_TRMM\\NDVI_InnerMongolia//CN_2008_NDVI_recon.362.tif"
       ]
      },
      {
       "output_type": "stream",
       "stream": "stdout",
       "text": [
        "\n",
        "D:\\Data\\0_DAILY_INTERVAL_NDVI_TRMM\\NDVI_InnerMongolia//CN_2008_NDVI_recon.363.tif"
       ]
      },
      {
       "output_type": "stream",
       "stream": "stdout",
       "text": [
        "\n",
        "D:\\Data\\0_DAILY_INTERVAL_NDVI_TRMM\\NDVI_InnerMongolia//CN_2008_NDVI_recon.364.tif"
       ]
      },
      {
       "output_type": "stream",
       "stream": "stdout",
       "text": [
        "\n",
        "D:\\Data\\0_DAILY_INTERVAL_NDVI_TRMM\\NDVI_InnerMongolia//CN_2008_NDVI_recon.365.tif"
       ]
      },
      {
       "output_type": "stream",
       "stream": "stdout",
       "text": [
        "\n",
        "D:\\Data\\0_DAILY_INTERVAL_NDVI_TRMM\\NDVI_InnerMongolia//CN_2008_NDVI_recon.366.tif"
       ]
      },
      {
       "output_type": "stream",
       "stream": "stdout",
       "text": [
        "\n",
        "D:\\Data\\0_DAILY_INTERVAL_NDVI_TRMM\\NDVI_InnerMongolia//CN_2009_NDVI_recon.001.tif"
       ]
      },
      {
       "output_type": "stream",
       "stream": "stdout",
       "text": [
        "\n",
        "D:\\Data\\0_DAILY_INTERVAL_NDVI_TRMM\\NDVI_InnerMongolia//CN_2009_NDVI_recon.002.tif"
       ]
      },
      {
       "output_type": "stream",
       "stream": "stdout",
       "text": [
        "\n",
        "D:\\Data\\0_DAILY_INTERVAL_NDVI_TRMM\\NDVI_InnerMongolia//CN_2009_NDVI_recon.003.tif"
       ]
      },
      {
       "output_type": "stream",
       "stream": "stdout",
       "text": [
        "\n",
        "D:\\Data\\0_DAILY_INTERVAL_NDVI_TRMM\\NDVI_InnerMongolia//CN_2009_NDVI_recon.004.tif"
       ]
      },
      {
       "output_type": "stream",
       "stream": "stdout",
       "text": [
        "\n",
        "D:\\Data\\0_DAILY_INTERVAL_NDVI_TRMM\\NDVI_InnerMongolia//CN_2009_NDVI_recon.005.tif"
       ]
      },
      {
       "output_type": "stream",
       "stream": "stdout",
       "text": [
        "\n",
        "D:\\Data\\0_DAILY_INTERVAL_NDVI_TRMM\\NDVI_InnerMongolia//CN_2009_NDVI_recon.006.tif"
       ]
      },
      {
       "output_type": "stream",
       "stream": "stdout",
       "text": [
        "\n",
        "D:\\Data\\0_DAILY_INTERVAL_NDVI_TRMM\\NDVI_InnerMongolia//CN_2009_NDVI_recon.007.tif"
       ]
      },
      {
       "output_type": "stream",
       "stream": "stdout",
       "text": [
        "\n",
        "D:\\Data\\0_DAILY_INTERVAL_NDVI_TRMM\\NDVI_InnerMongolia//CN_2009_NDVI_recon.008.tif"
       ]
      },
      {
       "output_type": "stream",
       "stream": "stdout",
       "text": [
        "\n",
        "D:\\Data\\0_DAILY_INTERVAL_NDVI_TRMM\\NDVI_InnerMongolia//CN_2009_NDVI_recon.009.tif"
       ]
      },
      {
       "output_type": "stream",
       "stream": "stdout",
       "text": [
        "\n",
        "D:\\Data\\0_DAILY_INTERVAL_NDVI_TRMM\\NDVI_InnerMongolia//CN_2009_NDVI_recon.010.tif"
       ]
      },
      {
       "output_type": "stream",
       "stream": "stdout",
       "text": [
        "\n",
        "D:\\Data\\0_DAILY_INTERVAL_NDVI_TRMM\\NDVI_InnerMongolia//CN_2009_NDVI_recon.011.tif"
       ]
      },
      {
       "output_type": "stream",
       "stream": "stdout",
       "text": [
        "\n",
        "D:\\Data\\0_DAILY_INTERVAL_NDVI_TRMM\\NDVI_InnerMongolia//CN_2009_NDVI_recon.012.tif"
       ]
      },
      {
       "output_type": "stream",
       "stream": "stdout",
       "text": [
        "\n",
        "D:\\Data\\0_DAILY_INTERVAL_NDVI_TRMM\\NDVI_InnerMongolia//CN_2009_NDVI_recon.013.tif"
       ]
      },
      {
       "output_type": "stream",
       "stream": "stdout",
       "text": [
        "\n",
        "D:\\Data\\0_DAILY_INTERVAL_NDVI_TRMM\\NDVI_InnerMongolia//CN_2009_NDVI_recon.014.tif"
       ]
      },
      {
       "output_type": "stream",
       "stream": "stdout",
       "text": [
        "\n",
        "D:\\Data\\0_DAILY_INTERVAL_NDVI_TRMM\\NDVI_InnerMongolia//CN_2009_NDVI_recon.015.tif"
       ]
      },
      {
       "output_type": "stream",
       "stream": "stdout",
       "text": [
        "\n",
        "D:\\Data\\0_DAILY_INTERVAL_NDVI_TRMM\\NDVI_InnerMongolia//CN_2009_NDVI_recon.016.tif"
       ]
      },
      {
       "output_type": "stream",
       "stream": "stdout",
       "text": [
        "\n",
        "D:\\Data\\0_DAILY_INTERVAL_NDVI_TRMM\\NDVI_InnerMongolia//CN_2009_NDVI_recon.017.tif"
       ]
      },
      {
       "output_type": "stream",
       "stream": "stdout",
       "text": [
        "\n",
        "D:\\Data\\0_DAILY_INTERVAL_NDVI_TRMM\\NDVI_InnerMongolia//CN_2009_NDVI_recon.018.tif"
       ]
      },
      {
       "output_type": "stream",
       "stream": "stdout",
       "text": [
        "\n",
        "D:\\Data\\0_DAILY_INTERVAL_NDVI_TRMM\\NDVI_InnerMongolia//CN_2009_NDVI_recon.019.tif"
       ]
      },
      {
       "output_type": "stream",
       "stream": "stdout",
       "text": [
        "\n",
        "D:\\Data\\0_DAILY_INTERVAL_NDVI_TRMM\\NDVI_InnerMongolia//CN_2009_NDVI_recon.020.tif"
       ]
      },
      {
       "output_type": "stream",
       "stream": "stdout",
       "text": [
        "\n",
        "D:\\Data\\0_DAILY_INTERVAL_NDVI_TRMM\\NDVI_InnerMongolia//CN_2009_NDVI_recon.021.tif"
       ]
      },
      {
       "output_type": "stream",
       "stream": "stdout",
       "text": [
        "\n",
        "D:\\Data\\0_DAILY_INTERVAL_NDVI_TRMM\\NDVI_InnerMongolia//CN_2009_NDVI_recon.022.tif"
       ]
      },
      {
       "output_type": "stream",
       "stream": "stdout",
       "text": [
        "\n",
        "D:\\Data\\0_DAILY_INTERVAL_NDVI_TRMM\\NDVI_InnerMongolia//CN_2009_NDVI_recon.023.tif"
       ]
      },
      {
       "output_type": "stream",
       "stream": "stdout",
       "text": [
        "\n",
        "D:\\Data\\0_DAILY_INTERVAL_NDVI_TRMM\\NDVI_InnerMongolia//CN_2009_NDVI_recon.024.tif"
       ]
      },
      {
       "output_type": "stream",
       "stream": "stdout",
       "text": [
        "\n",
        "D:\\Data\\0_DAILY_INTERVAL_NDVI_TRMM\\NDVI_InnerMongolia//CN_2009_NDVI_recon.025.tif"
       ]
      },
      {
       "output_type": "stream",
       "stream": "stdout",
       "text": [
        "\n",
        "D:\\Data\\0_DAILY_INTERVAL_NDVI_TRMM\\NDVI_InnerMongolia//CN_2009_NDVI_recon.026.tif"
       ]
      },
      {
       "output_type": "stream",
       "stream": "stdout",
       "text": [
        "\n",
        "D:\\Data\\0_DAILY_INTERVAL_NDVI_TRMM\\NDVI_InnerMongolia//CN_2009_NDVI_recon.027.tif"
       ]
      },
      {
       "output_type": "stream",
       "stream": "stdout",
       "text": [
        "\n",
        "D:\\Data\\0_DAILY_INTERVAL_NDVI_TRMM\\NDVI_InnerMongolia//CN_2009_NDVI_recon.028.tif"
       ]
      },
      {
       "output_type": "stream",
       "stream": "stdout",
       "text": [
        "\n",
        "D:\\Data\\0_DAILY_INTERVAL_NDVI_TRMM\\NDVI_InnerMongolia//CN_2009_NDVI_recon.029.tif"
       ]
      },
      {
       "output_type": "stream",
       "stream": "stdout",
       "text": [
        "\n",
        "D:\\Data\\0_DAILY_INTERVAL_NDVI_TRMM\\NDVI_InnerMongolia//CN_2009_NDVI_recon.030.tif"
       ]
      },
      {
       "output_type": "stream",
       "stream": "stdout",
       "text": [
        "\n",
        "D:\\Data\\0_DAILY_INTERVAL_NDVI_TRMM\\NDVI_InnerMongolia//CN_2009_NDVI_recon.031.tif"
       ]
      },
      {
       "output_type": "stream",
       "stream": "stdout",
       "text": [
        "\n",
        "D:\\Data\\0_DAILY_INTERVAL_NDVI_TRMM\\NDVI_InnerMongolia//CN_2009_NDVI_recon.032.tif"
       ]
      },
      {
       "output_type": "stream",
       "stream": "stdout",
       "text": [
        "\n",
        "D:\\Data\\0_DAILY_INTERVAL_NDVI_TRMM\\NDVI_InnerMongolia//CN_2009_NDVI_recon.033.tif"
       ]
      },
      {
       "output_type": "stream",
       "stream": "stdout",
       "text": [
        "\n",
        "D:\\Data\\0_DAILY_INTERVAL_NDVI_TRMM\\NDVI_InnerMongolia//CN_2009_NDVI_recon.034.tif"
       ]
      },
      {
       "output_type": "stream",
       "stream": "stdout",
       "text": [
        "\n",
        "D:\\Data\\0_DAILY_INTERVAL_NDVI_TRMM\\NDVI_InnerMongolia//CN_2009_NDVI_recon.035.tif"
       ]
      },
      {
       "output_type": "stream",
       "stream": "stdout",
       "text": [
        "\n",
        "D:\\Data\\0_DAILY_INTERVAL_NDVI_TRMM\\NDVI_InnerMongolia//CN_2009_NDVI_recon.036.tif"
       ]
      },
      {
       "output_type": "stream",
       "stream": "stdout",
       "text": [
        "\n",
        "D:\\Data\\0_DAILY_INTERVAL_NDVI_TRMM\\NDVI_InnerMongolia//CN_2009_NDVI_recon.037.tif"
       ]
      },
      {
       "output_type": "stream",
       "stream": "stdout",
       "text": [
        "\n",
        "D:\\Data\\0_DAILY_INTERVAL_NDVI_TRMM\\NDVI_InnerMongolia//CN_2009_NDVI_recon.038.tif"
       ]
      },
      {
       "output_type": "stream",
       "stream": "stdout",
       "text": [
        "\n",
        "D:\\Data\\0_DAILY_INTERVAL_NDVI_TRMM\\NDVI_InnerMongolia//CN_2009_NDVI_recon.039.tif"
       ]
      },
      {
       "output_type": "stream",
       "stream": "stdout",
       "text": [
        "\n",
        "D:\\Data\\0_DAILY_INTERVAL_NDVI_TRMM\\NDVI_InnerMongolia//CN_2009_NDVI_recon.040.tif"
       ]
      },
      {
       "output_type": "stream",
       "stream": "stdout",
       "text": [
        "\n",
        "D:\\Data\\0_DAILY_INTERVAL_NDVI_TRMM\\NDVI_InnerMongolia//CN_2009_NDVI_recon.041.tif"
       ]
      },
      {
       "output_type": "stream",
       "stream": "stdout",
       "text": [
        "\n",
        "D:\\Data\\0_DAILY_INTERVAL_NDVI_TRMM\\NDVI_InnerMongolia//CN_2009_NDVI_recon.042.tif"
       ]
      },
      {
       "output_type": "stream",
       "stream": "stdout",
       "text": [
        "\n",
        "D:\\Data\\0_DAILY_INTERVAL_NDVI_TRMM\\NDVI_InnerMongolia//CN_2009_NDVI_recon.043.tif"
       ]
      },
      {
       "output_type": "stream",
       "stream": "stdout",
       "text": [
        "\n",
        "D:\\Data\\0_DAILY_INTERVAL_NDVI_TRMM\\NDVI_InnerMongolia//CN_2009_NDVI_recon.044.tif"
       ]
      },
      {
       "output_type": "stream",
       "stream": "stdout",
       "text": [
        "\n",
        "D:\\Data\\0_DAILY_INTERVAL_NDVI_TRMM\\NDVI_InnerMongolia//CN_2009_NDVI_recon.045.tif"
       ]
      },
      {
       "output_type": "stream",
       "stream": "stdout",
       "text": [
        "\n",
        "D:\\Data\\0_DAILY_INTERVAL_NDVI_TRMM\\NDVI_InnerMongolia//CN_2009_NDVI_recon.046.tif"
       ]
      },
      {
       "output_type": "stream",
       "stream": "stdout",
       "text": [
        "\n",
        "D:\\Data\\0_DAILY_INTERVAL_NDVI_TRMM\\NDVI_InnerMongolia//CN_2009_NDVI_recon.047.tif"
       ]
      },
      {
       "output_type": "stream",
       "stream": "stdout",
       "text": [
        "\n",
        "D:\\Data\\0_DAILY_INTERVAL_NDVI_TRMM\\NDVI_InnerMongolia//CN_2009_NDVI_recon.048.tif"
       ]
      },
      {
       "output_type": "stream",
       "stream": "stdout",
       "text": [
        "\n",
        "D:\\Data\\0_DAILY_INTERVAL_NDVI_TRMM\\NDVI_InnerMongolia//CN_2009_NDVI_recon.049.tif"
       ]
      },
      {
       "output_type": "stream",
       "stream": "stdout",
       "text": [
        "\n",
        "D:\\Data\\0_DAILY_INTERVAL_NDVI_TRMM\\NDVI_InnerMongolia//CN_2009_NDVI_recon.050.tif"
       ]
      },
      {
       "output_type": "stream",
       "stream": "stdout",
       "text": [
        "\n",
        "D:\\Data\\0_DAILY_INTERVAL_NDVI_TRMM\\NDVI_InnerMongolia//CN_2009_NDVI_recon.051.tif"
       ]
      },
      {
       "output_type": "stream",
       "stream": "stdout",
       "text": [
        "\n",
        "D:\\Data\\0_DAILY_INTERVAL_NDVI_TRMM\\NDVI_InnerMongolia//CN_2009_NDVI_recon.052.tif"
       ]
      },
      {
       "output_type": "stream",
       "stream": "stdout",
       "text": [
        "\n",
        "D:\\Data\\0_DAILY_INTERVAL_NDVI_TRMM\\NDVI_InnerMongolia//CN_2009_NDVI_recon.053.tif"
       ]
      },
      {
       "output_type": "stream",
       "stream": "stdout",
       "text": [
        "\n",
        "D:\\Data\\0_DAILY_INTERVAL_NDVI_TRMM\\NDVI_InnerMongolia//CN_2009_NDVI_recon.054.tif"
       ]
      },
      {
       "output_type": "stream",
       "stream": "stdout",
       "text": [
        "\n",
        "D:\\Data\\0_DAILY_INTERVAL_NDVI_TRMM\\NDVI_InnerMongolia//CN_2009_NDVI_recon.055.tif"
       ]
      },
      {
       "output_type": "stream",
       "stream": "stdout",
       "text": [
        "\n",
        "D:\\Data\\0_DAILY_INTERVAL_NDVI_TRMM\\NDVI_InnerMongolia//CN_2009_NDVI_recon.056.tif"
       ]
      },
      {
       "output_type": "stream",
       "stream": "stdout",
       "text": [
        "\n",
        "D:\\Data\\0_DAILY_INTERVAL_NDVI_TRMM\\NDVI_InnerMongolia//CN_2009_NDVI_recon.057.tif"
       ]
      },
      {
       "output_type": "stream",
       "stream": "stdout",
       "text": [
        "\n",
        "D:\\Data\\0_DAILY_INTERVAL_NDVI_TRMM\\NDVI_InnerMongolia//CN_2009_NDVI_recon.058.tif"
       ]
      },
      {
       "output_type": "stream",
       "stream": "stdout",
       "text": [
        "\n",
        "D:\\Data\\0_DAILY_INTERVAL_NDVI_TRMM\\NDVI_InnerMongolia//CN_2009_NDVI_recon.059.tif"
       ]
      },
      {
       "output_type": "stream",
       "stream": "stdout",
       "text": [
        "\n",
        "D:\\Data\\0_DAILY_INTERVAL_NDVI_TRMM\\NDVI_InnerMongolia//CN_2009_NDVI_recon.060.tif"
       ]
      },
      {
       "output_type": "stream",
       "stream": "stdout",
       "text": [
        "\n",
        "D:\\Data\\0_DAILY_INTERVAL_NDVI_TRMM\\NDVI_InnerMongolia//CN_2009_NDVI_recon.061.tif"
       ]
      },
      {
       "output_type": "stream",
       "stream": "stdout",
       "text": [
        "\n",
        "D:\\Data\\0_DAILY_INTERVAL_NDVI_TRMM\\NDVI_InnerMongolia//CN_2009_NDVI_recon.062.tif"
       ]
      },
      {
       "output_type": "stream",
       "stream": "stdout",
       "text": [
        "\n",
        "D:\\Data\\0_DAILY_INTERVAL_NDVI_TRMM\\NDVI_InnerMongolia//CN_2009_NDVI_recon.063.tif"
       ]
      },
      {
       "output_type": "stream",
       "stream": "stdout",
       "text": [
        "\n",
        "D:\\Data\\0_DAILY_INTERVAL_NDVI_TRMM\\NDVI_InnerMongolia//CN_2009_NDVI_recon.064.tif"
       ]
      },
      {
       "output_type": "stream",
       "stream": "stdout",
       "text": [
        "\n",
        "D:\\Data\\0_DAILY_INTERVAL_NDVI_TRMM\\NDVI_InnerMongolia//CN_2009_NDVI_recon.065.tif"
       ]
      },
      {
       "output_type": "stream",
       "stream": "stdout",
       "text": [
        "\n",
        "D:\\Data\\0_DAILY_INTERVAL_NDVI_TRMM\\NDVI_InnerMongolia//CN_2009_NDVI_recon.066.tif"
       ]
      },
      {
       "output_type": "stream",
       "stream": "stdout",
       "text": [
        "\n",
        "D:\\Data\\0_DAILY_INTERVAL_NDVI_TRMM\\NDVI_InnerMongolia//CN_2009_NDVI_recon.067.tif"
       ]
      },
      {
       "output_type": "stream",
       "stream": "stdout",
       "text": [
        "\n",
        "D:\\Data\\0_DAILY_INTERVAL_NDVI_TRMM\\NDVI_InnerMongolia//CN_2009_NDVI_recon.068.tif"
       ]
      },
      {
       "output_type": "stream",
       "stream": "stdout",
       "text": [
        "\n",
        "D:\\Data\\0_DAILY_INTERVAL_NDVI_TRMM\\NDVI_InnerMongolia//CN_2009_NDVI_recon.069.tif"
       ]
      },
      {
       "output_type": "stream",
       "stream": "stdout",
       "text": [
        "\n",
        "D:\\Data\\0_DAILY_INTERVAL_NDVI_TRMM\\NDVI_InnerMongolia//CN_2009_NDVI_recon.070.tif"
       ]
      },
      {
       "output_type": "stream",
       "stream": "stdout",
       "text": [
        "\n",
        "D:\\Data\\0_DAILY_INTERVAL_NDVI_TRMM\\NDVI_InnerMongolia//CN_2009_NDVI_recon.071.tif"
       ]
      },
      {
       "output_type": "stream",
       "stream": "stdout",
       "text": [
        "\n",
        "D:\\Data\\0_DAILY_INTERVAL_NDVI_TRMM\\NDVI_InnerMongolia//CN_2009_NDVI_recon.072.tif"
       ]
      },
      {
       "output_type": "stream",
       "stream": "stdout",
       "text": [
        "\n",
        "D:\\Data\\0_DAILY_INTERVAL_NDVI_TRMM\\NDVI_InnerMongolia//CN_2009_NDVI_recon.073.tif"
       ]
      },
      {
       "output_type": "stream",
       "stream": "stdout",
       "text": [
        "\n",
        "D:\\Data\\0_DAILY_INTERVAL_NDVI_TRMM\\NDVI_InnerMongolia//CN_2009_NDVI_recon.074.tif"
       ]
      },
      {
       "output_type": "stream",
       "stream": "stdout",
       "text": [
        "\n",
        "D:\\Data\\0_DAILY_INTERVAL_NDVI_TRMM\\NDVI_InnerMongolia//CN_2009_NDVI_recon.075.tif"
       ]
      },
      {
       "output_type": "stream",
       "stream": "stdout",
       "text": [
        "\n",
        "D:\\Data\\0_DAILY_INTERVAL_NDVI_TRMM\\NDVI_InnerMongolia//CN_2009_NDVI_recon.076.tif"
       ]
      },
      {
       "output_type": "stream",
       "stream": "stdout",
       "text": [
        "\n",
        "D:\\Data\\0_DAILY_INTERVAL_NDVI_TRMM\\NDVI_InnerMongolia//CN_2009_NDVI_recon.077.tif"
       ]
      },
      {
       "output_type": "stream",
       "stream": "stdout",
       "text": [
        "\n",
        "D:\\Data\\0_DAILY_INTERVAL_NDVI_TRMM\\NDVI_InnerMongolia//CN_2009_NDVI_recon.078.tif"
       ]
      },
      {
       "output_type": "stream",
       "stream": "stdout",
       "text": [
        "\n",
        "D:\\Data\\0_DAILY_INTERVAL_NDVI_TRMM\\NDVI_InnerMongolia//CN_2009_NDVI_recon.079.tif"
       ]
      },
      {
       "output_type": "stream",
       "stream": "stdout",
       "text": [
        "\n",
        "D:\\Data\\0_DAILY_INTERVAL_NDVI_TRMM\\NDVI_InnerMongolia//CN_2009_NDVI_recon.080.tif"
       ]
      },
      {
       "output_type": "stream",
       "stream": "stdout",
       "text": [
        "\n",
        "D:\\Data\\0_DAILY_INTERVAL_NDVI_TRMM\\NDVI_InnerMongolia//CN_2009_NDVI_recon.081.tif"
       ]
      },
      {
       "output_type": "stream",
       "stream": "stdout",
       "text": [
        "\n",
        "D:\\Data\\0_DAILY_INTERVAL_NDVI_TRMM\\NDVI_InnerMongolia//CN_2009_NDVI_recon.082.tif"
       ]
      },
      {
       "output_type": "stream",
       "stream": "stdout",
       "text": [
        "\n",
        "D:\\Data\\0_DAILY_INTERVAL_NDVI_TRMM\\NDVI_InnerMongolia//CN_2009_NDVI_recon.083.tif"
       ]
      },
      {
       "output_type": "stream",
       "stream": "stdout",
       "text": [
        "\n",
        "D:\\Data\\0_DAILY_INTERVAL_NDVI_TRMM\\NDVI_InnerMongolia//CN_2009_NDVI_recon.084.tif"
       ]
      },
      {
       "output_type": "stream",
       "stream": "stdout",
       "text": [
        "\n",
        "D:\\Data\\0_DAILY_INTERVAL_NDVI_TRMM\\NDVI_InnerMongolia//CN_2009_NDVI_recon.085.tif"
       ]
      },
      {
       "output_type": "stream",
       "stream": "stdout",
       "text": [
        "\n",
        "D:\\Data\\0_DAILY_INTERVAL_NDVI_TRMM\\NDVI_InnerMongolia//CN_2009_NDVI_recon.086.tif"
       ]
      },
      {
       "output_type": "stream",
       "stream": "stdout",
       "text": [
        "\n",
        "D:\\Data\\0_DAILY_INTERVAL_NDVI_TRMM\\NDVI_InnerMongolia//CN_2009_NDVI_recon.087.tif"
       ]
      },
      {
       "output_type": "stream",
       "stream": "stdout",
       "text": [
        "\n",
        "D:\\Data\\0_DAILY_INTERVAL_NDVI_TRMM\\NDVI_InnerMongolia//CN_2009_NDVI_recon.088.tif"
       ]
      },
      {
       "output_type": "stream",
       "stream": "stdout",
       "text": [
        "\n",
        "D:\\Data\\0_DAILY_INTERVAL_NDVI_TRMM\\NDVI_InnerMongolia//CN_2009_NDVI_recon.089.tif"
       ]
      },
      {
       "output_type": "stream",
       "stream": "stdout",
       "text": [
        "\n",
        "D:\\Data\\0_DAILY_INTERVAL_NDVI_TRMM\\NDVI_InnerMongolia//CN_2009_NDVI_recon.090.tif"
       ]
      },
      {
       "output_type": "stream",
       "stream": "stdout",
       "text": [
        "\n",
        "D:\\Data\\0_DAILY_INTERVAL_NDVI_TRMM\\NDVI_InnerMongolia//CN_2009_NDVI_recon.091.tif"
       ]
      },
      {
       "output_type": "stream",
       "stream": "stdout",
       "text": [
        "\n",
        "D:\\Data\\0_DAILY_INTERVAL_NDVI_TRMM\\NDVI_InnerMongolia//CN_2009_NDVI_recon.092.tif"
       ]
      },
      {
       "output_type": "stream",
       "stream": "stdout",
       "text": [
        "\n",
        "D:\\Data\\0_DAILY_INTERVAL_NDVI_TRMM\\NDVI_InnerMongolia//CN_2009_NDVI_recon.093.tif"
       ]
      },
      {
       "output_type": "stream",
       "stream": "stdout",
       "text": [
        "\n",
        "D:\\Data\\0_DAILY_INTERVAL_NDVI_TRMM\\NDVI_InnerMongolia//CN_2009_NDVI_recon.094.tif"
       ]
      },
      {
       "output_type": "stream",
       "stream": "stdout",
       "text": [
        "\n",
        "D:\\Data\\0_DAILY_INTERVAL_NDVI_TRMM\\NDVI_InnerMongolia//CN_2009_NDVI_recon.095.tif"
       ]
      },
      {
       "output_type": "stream",
       "stream": "stdout",
       "text": [
        "\n",
        "D:\\Data\\0_DAILY_INTERVAL_NDVI_TRMM\\NDVI_InnerMongolia//CN_2009_NDVI_recon.096.tif"
       ]
      },
      {
       "output_type": "stream",
       "stream": "stdout",
       "text": [
        "\n",
        "D:\\Data\\0_DAILY_INTERVAL_NDVI_TRMM\\NDVI_InnerMongolia//CN_2009_NDVI_recon.097.tif"
       ]
      },
      {
       "output_type": "stream",
       "stream": "stdout",
       "text": [
        "\n",
        "D:\\Data\\0_DAILY_INTERVAL_NDVI_TRMM\\NDVI_InnerMongolia//CN_2009_NDVI_recon.098.tif"
       ]
      },
      {
       "output_type": "stream",
       "stream": "stdout",
       "text": [
        "\n",
        "D:\\Data\\0_DAILY_INTERVAL_NDVI_TRMM\\NDVI_InnerMongolia//CN_2009_NDVI_recon.099.tif"
       ]
      },
      {
       "output_type": "stream",
       "stream": "stdout",
       "text": [
        "\n",
        "D:\\Data\\0_DAILY_INTERVAL_NDVI_TRMM\\NDVI_InnerMongolia//CN_2009_NDVI_recon.100.tif"
       ]
      },
      {
       "output_type": "stream",
       "stream": "stdout",
       "text": [
        "\n",
        "D:\\Data\\0_DAILY_INTERVAL_NDVI_TRMM\\NDVI_InnerMongolia//CN_2009_NDVI_recon.101.tif"
       ]
      },
      {
       "output_type": "stream",
       "stream": "stdout",
       "text": [
        "\n",
        "D:\\Data\\0_DAILY_INTERVAL_NDVI_TRMM\\NDVI_InnerMongolia//CN_2009_NDVI_recon.102.tif"
       ]
      },
      {
       "output_type": "stream",
       "stream": "stdout",
       "text": [
        "\n",
        "D:\\Data\\0_DAILY_INTERVAL_NDVI_TRMM\\NDVI_InnerMongolia//CN_2009_NDVI_recon.103.tif"
       ]
      },
      {
       "output_type": "stream",
       "stream": "stdout",
       "text": [
        "\n",
        "D:\\Data\\0_DAILY_INTERVAL_NDVI_TRMM\\NDVI_InnerMongolia//CN_2009_NDVI_recon.104.tif"
       ]
      },
      {
       "output_type": "stream",
       "stream": "stdout",
       "text": [
        "\n",
        "D:\\Data\\0_DAILY_INTERVAL_NDVI_TRMM\\NDVI_InnerMongolia//CN_2009_NDVI_recon.105.tif"
       ]
      },
      {
       "output_type": "stream",
       "stream": "stdout",
       "text": [
        "\n",
        "D:\\Data\\0_DAILY_INTERVAL_NDVI_TRMM\\NDVI_InnerMongolia//CN_2009_NDVI_recon.106.tif"
       ]
      },
      {
       "output_type": "stream",
       "stream": "stdout",
       "text": [
        "\n",
        "D:\\Data\\0_DAILY_INTERVAL_NDVI_TRMM\\NDVI_InnerMongolia//CN_2009_NDVI_recon.107.tif"
       ]
      },
      {
       "output_type": "stream",
       "stream": "stdout",
       "text": [
        "\n",
        "D:\\Data\\0_DAILY_INTERVAL_NDVI_TRMM\\NDVI_InnerMongolia//CN_2009_NDVI_recon.108.tif"
       ]
      },
      {
       "output_type": "stream",
       "stream": "stdout",
       "text": [
        "\n",
        "D:\\Data\\0_DAILY_INTERVAL_NDVI_TRMM\\NDVI_InnerMongolia//CN_2009_NDVI_recon.109.tif"
       ]
      },
      {
       "output_type": "stream",
       "stream": "stdout",
       "text": [
        "\n",
        "D:\\Data\\0_DAILY_INTERVAL_NDVI_TRMM\\NDVI_InnerMongolia//CN_2009_NDVI_recon.110.tif"
       ]
      },
      {
       "output_type": "stream",
       "stream": "stdout",
       "text": [
        "\n",
        "D:\\Data\\0_DAILY_INTERVAL_NDVI_TRMM\\NDVI_InnerMongolia//CN_2009_NDVI_recon.111.tif"
       ]
      },
      {
       "output_type": "stream",
       "stream": "stdout",
       "text": [
        "\n",
        "D:\\Data\\0_DAILY_INTERVAL_NDVI_TRMM\\NDVI_InnerMongolia//CN_2009_NDVI_recon.112.tif"
       ]
      },
      {
       "output_type": "stream",
       "stream": "stdout",
       "text": [
        "\n",
        "D:\\Data\\0_DAILY_INTERVAL_NDVI_TRMM\\NDVI_InnerMongolia//CN_2009_NDVI_recon.113.tif"
       ]
      },
      {
       "output_type": "stream",
       "stream": "stdout",
       "text": [
        "\n",
        "D:\\Data\\0_DAILY_INTERVAL_NDVI_TRMM\\NDVI_InnerMongolia//CN_2009_NDVI_recon.114.tif"
       ]
      },
      {
       "output_type": "stream",
       "stream": "stdout",
       "text": [
        "\n",
        "D:\\Data\\0_DAILY_INTERVAL_NDVI_TRMM\\NDVI_InnerMongolia//CN_2009_NDVI_recon.115.tif"
       ]
      },
      {
       "output_type": "stream",
       "stream": "stdout",
       "text": [
        "\n",
        "D:\\Data\\0_DAILY_INTERVAL_NDVI_TRMM\\NDVI_InnerMongolia//CN_2009_NDVI_recon.116.tif"
       ]
      },
      {
       "output_type": "stream",
       "stream": "stdout",
       "text": [
        "\n",
        "D:\\Data\\0_DAILY_INTERVAL_NDVI_TRMM\\NDVI_InnerMongolia//CN_2009_NDVI_recon.117.tif"
       ]
      },
      {
       "output_type": "stream",
       "stream": "stdout",
       "text": [
        "\n",
        "D:\\Data\\0_DAILY_INTERVAL_NDVI_TRMM\\NDVI_InnerMongolia//CN_2009_NDVI_recon.118.tif"
       ]
      },
      {
       "output_type": "stream",
       "stream": "stdout",
       "text": [
        "\n",
        "D:\\Data\\0_DAILY_INTERVAL_NDVI_TRMM\\NDVI_InnerMongolia//CN_2009_NDVI_recon.119.tif"
       ]
      },
      {
       "output_type": "stream",
       "stream": "stdout",
       "text": [
        "\n",
        "D:\\Data\\0_DAILY_INTERVAL_NDVI_TRMM\\NDVI_InnerMongolia//CN_2009_NDVI_recon.120.tif"
       ]
      },
      {
       "output_type": "stream",
       "stream": "stdout",
       "text": [
        "\n",
        "D:\\Data\\0_DAILY_INTERVAL_NDVI_TRMM\\NDVI_InnerMongolia//CN_2009_NDVI_recon.121.tif"
       ]
      },
      {
       "output_type": "stream",
       "stream": "stdout",
       "text": [
        "\n",
        "D:\\Data\\0_DAILY_INTERVAL_NDVI_TRMM\\NDVI_InnerMongolia//CN_2009_NDVI_recon.122.tif"
       ]
      },
      {
       "output_type": "stream",
       "stream": "stdout",
       "text": [
        "\n",
        "D:\\Data\\0_DAILY_INTERVAL_NDVI_TRMM\\NDVI_InnerMongolia//CN_2009_NDVI_recon.123.tif"
       ]
      },
      {
       "output_type": "stream",
       "stream": "stdout",
       "text": [
        "\n",
        "D:\\Data\\0_DAILY_INTERVAL_NDVI_TRMM\\NDVI_InnerMongolia//CN_2009_NDVI_recon.124.tif"
       ]
      },
      {
       "output_type": "stream",
       "stream": "stdout",
       "text": [
        "\n",
        "D:\\Data\\0_DAILY_INTERVAL_NDVI_TRMM\\NDVI_InnerMongolia//CN_2009_NDVI_recon.125.tif"
       ]
      },
      {
       "output_type": "stream",
       "stream": "stdout",
       "text": [
        "\n",
        "D:\\Data\\0_DAILY_INTERVAL_NDVI_TRMM\\NDVI_InnerMongolia//CN_2009_NDVI_recon.126.tif"
       ]
      },
      {
       "output_type": "stream",
       "stream": "stdout",
       "text": [
        "\n",
        "D:\\Data\\0_DAILY_INTERVAL_NDVI_TRMM\\NDVI_InnerMongolia//CN_2009_NDVI_recon.127.tif"
       ]
      },
      {
       "output_type": "stream",
       "stream": "stdout",
       "text": [
        "\n",
        "D:\\Data\\0_DAILY_INTERVAL_NDVI_TRMM\\NDVI_InnerMongolia//CN_2009_NDVI_recon.128.tif"
       ]
      },
      {
       "output_type": "stream",
       "stream": "stdout",
       "text": [
        "\n",
        "D:\\Data\\0_DAILY_INTERVAL_NDVI_TRMM\\NDVI_InnerMongolia//CN_2009_NDVI_recon.129.tif"
       ]
      },
      {
       "output_type": "stream",
       "stream": "stdout",
       "text": [
        "\n",
        "D:\\Data\\0_DAILY_INTERVAL_NDVI_TRMM\\NDVI_InnerMongolia//CN_2009_NDVI_recon.130.tif"
       ]
      },
      {
       "output_type": "stream",
       "stream": "stdout",
       "text": [
        "\n",
        "D:\\Data\\0_DAILY_INTERVAL_NDVI_TRMM\\NDVI_InnerMongolia//CN_2009_NDVI_recon.131.tif"
       ]
      },
      {
       "output_type": "stream",
       "stream": "stdout",
       "text": [
        "\n",
        "D:\\Data\\0_DAILY_INTERVAL_NDVI_TRMM\\NDVI_InnerMongolia//CN_2009_NDVI_recon.132.tif"
       ]
      },
      {
       "output_type": "stream",
       "stream": "stdout",
       "text": [
        "\n",
        "D:\\Data\\0_DAILY_INTERVAL_NDVI_TRMM\\NDVI_InnerMongolia//CN_2009_NDVI_recon.133.tif"
       ]
      },
      {
       "output_type": "stream",
       "stream": "stdout",
       "text": [
        "\n",
        "D:\\Data\\0_DAILY_INTERVAL_NDVI_TRMM\\NDVI_InnerMongolia//CN_2009_NDVI_recon.134.tif"
       ]
      },
      {
       "output_type": "stream",
       "stream": "stdout",
       "text": [
        "\n",
        "D:\\Data\\0_DAILY_INTERVAL_NDVI_TRMM\\NDVI_InnerMongolia//CN_2009_NDVI_recon.135.tif"
       ]
      },
      {
       "output_type": "stream",
       "stream": "stdout",
       "text": [
        "\n",
        "D:\\Data\\0_DAILY_INTERVAL_NDVI_TRMM\\NDVI_InnerMongolia//CN_2009_NDVI_recon.136.tif"
       ]
      },
      {
       "output_type": "stream",
       "stream": "stdout",
       "text": [
        "\n",
        "D:\\Data\\0_DAILY_INTERVAL_NDVI_TRMM\\NDVI_InnerMongolia//CN_2009_NDVI_recon.137.tif"
       ]
      },
      {
       "output_type": "stream",
       "stream": "stdout",
       "text": [
        "\n",
        "D:\\Data\\0_DAILY_INTERVAL_NDVI_TRMM\\NDVI_InnerMongolia//CN_2009_NDVI_recon.138.tif"
       ]
      },
      {
       "output_type": "stream",
       "stream": "stdout",
       "text": [
        "\n",
        "D:\\Data\\0_DAILY_INTERVAL_NDVI_TRMM\\NDVI_InnerMongolia//CN_2009_NDVI_recon.139.tif"
       ]
      },
      {
       "output_type": "stream",
       "stream": "stdout",
       "text": [
        "\n",
        "D:\\Data\\0_DAILY_INTERVAL_NDVI_TRMM\\NDVI_InnerMongolia//CN_2009_NDVI_recon.140.tif"
       ]
      },
      {
       "output_type": "stream",
       "stream": "stdout",
       "text": [
        "\n",
        "D:\\Data\\0_DAILY_INTERVAL_NDVI_TRMM\\NDVI_InnerMongolia//CN_2009_NDVI_recon.141.tif"
       ]
      },
      {
       "output_type": "stream",
       "stream": "stdout",
       "text": [
        "\n",
        "D:\\Data\\0_DAILY_INTERVAL_NDVI_TRMM\\NDVI_InnerMongolia//CN_2009_NDVI_recon.142.tif"
       ]
      },
      {
       "output_type": "stream",
       "stream": "stdout",
       "text": [
        "\n",
        "D:\\Data\\0_DAILY_INTERVAL_NDVI_TRMM\\NDVI_InnerMongolia//CN_2009_NDVI_recon.143.tif"
       ]
      },
      {
       "output_type": "stream",
       "stream": "stdout",
       "text": [
        "\n",
        "D:\\Data\\0_DAILY_INTERVAL_NDVI_TRMM\\NDVI_InnerMongolia//CN_2009_NDVI_recon.144.tif"
       ]
      },
      {
       "output_type": "stream",
       "stream": "stdout",
       "text": [
        "\n",
        "D:\\Data\\0_DAILY_INTERVAL_NDVI_TRMM\\NDVI_InnerMongolia//CN_2009_NDVI_recon.145.tif"
       ]
      },
      {
       "output_type": "stream",
       "stream": "stdout",
       "text": [
        "\n",
        "D:\\Data\\0_DAILY_INTERVAL_NDVI_TRMM\\NDVI_InnerMongolia//CN_2009_NDVI_recon.146.tif"
       ]
      },
      {
       "output_type": "stream",
       "stream": "stdout",
       "text": [
        "\n",
        "D:\\Data\\0_DAILY_INTERVAL_NDVI_TRMM\\NDVI_InnerMongolia//CN_2009_NDVI_recon.147.tif"
       ]
      },
      {
       "output_type": "stream",
       "stream": "stdout",
       "text": [
        "\n",
        "D:\\Data\\0_DAILY_INTERVAL_NDVI_TRMM\\NDVI_InnerMongolia//CN_2009_NDVI_recon.148.tif"
       ]
      },
      {
       "output_type": "stream",
       "stream": "stdout",
       "text": [
        "\n",
        "D:\\Data\\0_DAILY_INTERVAL_NDVI_TRMM\\NDVI_InnerMongolia//CN_2009_NDVI_recon.149.tif"
       ]
      },
      {
       "output_type": "stream",
       "stream": "stdout",
       "text": [
        "\n",
        "D:\\Data\\0_DAILY_INTERVAL_NDVI_TRMM\\NDVI_InnerMongolia//CN_2009_NDVI_recon.150.tif"
       ]
      },
      {
       "output_type": "stream",
       "stream": "stdout",
       "text": [
        "\n",
        "D:\\Data\\0_DAILY_INTERVAL_NDVI_TRMM\\NDVI_InnerMongolia//CN_2009_NDVI_recon.151.tif"
       ]
      },
      {
       "output_type": "stream",
       "stream": "stdout",
       "text": [
        "\n",
        "D:\\Data\\0_DAILY_INTERVAL_NDVI_TRMM\\NDVI_InnerMongolia//CN_2009_NDVI_recon.152.tif"
       ]
      },
      {
       "output_type": "stream",
       "stream": "stdout",
       "text": [
        "\n",
        "D:\\Data\\0_DAILY_INTERVAL_NDVI_TRMM\\NDVI_InnerMongolia//CN_2009_NDVI_recon.153.tif"
       ]
      },
      {
       "output_type": "stream",
       "stream": "stdout",
       "text": [
        "\n",
        "D:\\Data\\0_DAILY_INTERVAL_NDVI_TRMM\\NDVI_InnerMongolia//CN_2009_NDVI_recon.154.tif"
       ]
      },
      {
       "output_type": "stream",
       "stream": "stdout",
       "text": [
        "\n",
        "D:\\Data\\0_DAILY_INTERVAL_NDVI_TRMM\\NDVI_InnerMongolia//CN_2009_NDVI_recon.155.tif"
       ]
      },
      {
       "output_type": "stream",
       "stream": "stdout",
       "text": [
        "\n",
        "D:\\Data\\0_DAILY_INTERVAL_NDVI_TRMM\\NDVI_InnerMongolia//CN_2009_NDVI_recon.156.tif"
       ]
      },
      {
       "output_type": "stream",
       "stream": "stdout",
       "text": [
        "\n",
        "D:\\Data\\0_DAILY_INTERVAL_NDVI_TRMM\\NDVI_InnerMongolia//CN_2009_NDVI_recon.157.tif"
       ]
      },
      {
       "output_type": "stream",
       "stream": "stdout",
       "text": [
        "\n",
        "D:\\Data\\0_DAILY_INTERVAL_NDVI_TRMM\\NDVI_InnerMongolia//CN_2009_NDVI_recon.158.tif"
       ]
      },
      {
       "output_type": "stream",
       "stream": "stdout",
       "text": [
        "\n",
        "D:\\Data\\0_DAILY_INTERVAL_NDVI_TRMM\\NDVI_InnerMongolia//CN_2009_NDVI_recon.159.tif"
       ]
      },
      {
       "output_type": "stream",
       "stream": "stdout",
       "text": [
        "\n",
        "D:\\Data\\0_DAILY_INTERVAL_NDVI_TRMM\\NDVI_InnerMongolia//CN_2009_NDVI_recon.160.tif"
       ]
      },
      {
       "output_type": "stream",
       "stream": "stdout",
       "text": [
        "\n",
        "D:\\Data\\0_DAILY_INTERVAL_NDVI_TRMM\\NDVI_InnerMongolia//CN_2009_NDVI_recon.161.tif"
       ]
      },
      {
       "output_type": "stream",
       "stream": "stdout",
       "text": [
        "\n",
        "D:\\Data\\0_DAILY_INTERVAL_NDVI_TRMM\\NDVI_InnerMongolia//CN_2009_NDVI_recon.162.tif"
       ]
      },
      {
       "output_type": "stream",
       "stream": "stdout",
       "text": [
        "\n",
        "D:\\Data\\0_DAILY_INTERVAL_NDVI_TRMM\\NDVI_InnerMongolia//CN_2009_NDVI_recon.163.tif"
       ]
      },
      {
       "output_type": "stream",
       "stream": "stdout",
       "text": [
        "\n",
        "D:\\Data\\0_DAILY_INTERVAL_NDVI_TRMM\\NDVI_InnerMongolia//CN_2009_NDVI_recon.164.tif"
       ]
      },
      {
       "output_type": "stream",
       "stream": "stdout",
       "text": [
        "\n",
        "D:\\Data\\0_DAILY_INTERVAL_NDVI_TRMM\\NDVI_InnerMongolia//CN_2009_NDVI_recon.165.tif"
       ]
      },
      {
       "output_type": "stream",
       "stream": "stdout",
       "text": [
        "\n",
        "D:\\Data\\0_DAILY_INTERVAL_NDVI_TRMM\\NDVI_InnerMongolia//CN_2009_NDVI_recon.166.tif"
       ]
      },
      {
       "output_type": "stream",
       "stream": "stdout",
       "text": [
        "\n",
        "D:\\Data\\0_DAILY_INTERVAL_NDVI_TRMM\\NDVI_InnerMongolia//CN_2009_NDVI_recon.167.tif"
       ]
      },
      {
       "output_type": "stream",
       "stream": "stdout",
       "text": [
        "\n",
        "D:\\Data\\0_DAILY_INTERVAL_NDVI_TRMM\\NDVI_InnerMongolia//CN_2009_NDVI_recon.168.tif"
       ]
      },
      {
       "output_type": "stream",
       "stream": "stdout",
       "text": [
        "\n",
        "D:\\Data\\0_DAILY_INTERVAL_NDVI_TRMM\\NDVI_InnerMongolia//CN_2009_NDVI_recon.169.tif"
       ]
      },
      {
       "output_type": "stream",
       "stream": "stdout",
       "text": [
        "\n",
        "D:\\Data\\0_DAILY_INTERVAL_NDVI_TRMM\\NDVI_InnerMongolia//CN_2009_NDVI_recon.170.tif"
       ]
      },
      {
       "output_type": "stream",
       "stream": "stdout",
       "text": [
        "\n",
        "D:\\Data\\0_DAILY_INTERVAL_NDVI_TRMM\\NDVI_InnerMongolia//CN_2009_NDVI_recon.171.tif"
       ]
      },
      {
       "output_type": "stream",
       "stream": "stdout",
       "text": [
        "\n",
        "D:\\Data\\0_DAILY_INTERVAL_NDVI_TRMM\\NDVI_InnerMongolia//CN_2009_NDVI_recon.172.tif"
       ]
      },
      {
       "output_type": "stream",
       "stream": "stdout",
       "text": [
        "\n",
        "D:\\Data\\0_DAILY_INTERVAL_NDVI_TRMM\\NDVI_InnerMongolia//CN_2009_NDVI_recon.173.tif"
       ]
      },
      {
       "output_type": "stream",
       "stream": "stdout",
       "text": [
        "\n",
        "D:\\Data\\0_DAILY_INTERVAL_NDVI_TRMM\\NDVI_InnerMongolia//CN_2009_NDVI_recon.174.tif"
       ]
      },
      {
       "output_type": "stream",
       "stream": "stdout",
       "text": [
        "\n",
        "D:\\Data\\0_DAILY_INTERVAL_NDVI_TRMM\\NDVI_InnerMongolia//CN_2009_NDVI_recon.175.tif"
       ]
      },
      {
       "output_type": "stream",
       "stream": "stdout",
       "text": [
        "\n",
        "D:\\Data\\0_DAILY_INTERVAL_NDVI_TRMM\\NDVI_InnerMongolia//CN_2009_NDVI_recon.176.tif"
       ]
      },
      {
       "output_type": "stream",
       "stream": "stdout",
       "text": [
        "\n",
        "D:\\Data\\0_DAILY_INTERVAL_NDVI_TRMM\\NDVI_InnerMongolia//CN_2009_NDVI_recon.177.tif"
       ]
      },
      {
       "output_type": "stream",
       "stream": "stdout",
       "text": [
        "\n",
        "D:\\Data\\0_DAILY_INTERVAL_NDVI_TRMM\\NDVI_InnerMongolia//CN_2009_NDVI_recon.178.tif"
       ]
      },
      {
       "output_type": "stream",
       "stream": "stdout",
       "text": [
        "\n",
        "D:\\Data\\0_DAILY_INTERVAL_NDVI_TRMM\\NDVI_InnerMongolia//CN_2009_NDVI_recon.179.tif"
       ]
      },
      {
       "output_type": "stream",
       "stream": "stdout",
       "text": [
        "\n",
        "D:\\Data\\0_DAILY_INTERVAL_NDVI_TRMM\\NDVI_InnerMongolia//CN_2009_NDVI_recon.180.tif"
       ]
      },
      {
       "output_type": "stream",
       "stream": "stdout",
       "text": [
        "\n",
        "D:\\Data\\0_DAILY_INTERVAL_NDVI_TRMM\\NDVI_InnerMongolia//CN_2009_NDVI_recon.181.tif"
       ]
      },
      {
       "output_type": "stream",
       "stream": "stdout",
       "text": [
        "\n",
        "D:\\Data\\0_DAILY_INTERVAL_NDVI_TRMM\\NDVI_InnerMongolia//CN_2009_NDVI_recon.182.tif"
       ]
      },
      {
       "output_type": "stream",
       "stream": "stdout",
       "text": [
        "\n",
        "D:\\Data\\0_DAILY_INTERVAL_NDVI_TRMM\\NDVI_InnerMongolia//CN_2009_NDVI_recon.183.tif"
       ]
      },
      {
       "output_type": "stream",
       "stream": "stdout",
       "text": [
        "\n",
        "D:\\Data\\0_DAILY_INTERVAL_NDVI_TRMM\\NDVI_InnerMongolia//CN_2009_NDVI_recon.184.tif"
       ]
      },
      {
       "output_type": "stream",
       "stream": "stdout",
       "text": [
        "\n",
        "D:\\Data\\0_DAILY_INTERVAL_NDVI_TRMM\\NDVI_InnerMongolia//CN_2009_NDVI_recon.185.tif"
       ]
      },
      {
       "output_type": "stream",
       "stream": "stdout",
       "text": [
        "\n",
        "D:\\Data\\0_DAILY_INTERVAL_NDVI_TRMM\\NDVI_InnerMongolia//CN_2009_NDVI_recon.186.tif"
       ]
      },
      {
       "output_type": "stream",
       "stream": "stdout",
       "text": [
        "\n",
        "D:\\Data\\0_DAILY_INTERVAL_NDVI_TRMM\\NDVI_InnerMongolia//CN_2009_NDVI_recon.187.tif"
       ]
      },
      {
       "output_type": "stream",
       "stream": "stdout",
       "text": [
        "\n",
        "D:\\Data\\0_DAILY_INTERVAL_NDVI_TRMM\\NDVI_InnerMongolia//CN_2009_NDVI_recon.188.tif"
       ]
      },
      {
       "output_type": "stream",
       "stream": "stdout",
       "text": [
        "\n",
        "D:\\Data\\0_DAILY_INTERVAL_NDVI_TRMM\\NDVI_InnerMongolia//CN_2009_NDVI_recon.189.tif"
       ]
      },
      {
       "output_type": "stream",
       "stream": "stdout",
       "text": [
        "\n",
        "D:\\Data\\0_DAILY_INTERVAL_NDVI_TRMM\\NDVI_InnerMongolia//CN_2009_NDVI_recon.190.tif"
       ]
      },
      {
       "output_type": "stream",
       "stream": "stdout",
       "text": [
        "\n",
        "D:\\Data\\0_DAILY_INTERVAL_NDVI_TRMM\\NDVI_InnerMongolia//CN_2009_NDVI_recon.191.tif"
       ]
      },
      {
       "output_type": "stream",
       "stream": "stdout",
       "text": [
        "\n",
        "D:\\Data\\0_DAILY_INTERVAL_NDVI_TRMM\\NDVI_InnerMongolia//CN_2009_NDVI_recon.192.tif"
       ]
      },
      {
       "output_type": "stream",
       "stream": "stdout",
       "text": [
        "\n",
        "D:\\Data\\0_DAILY_INTERVAL_NDVI_TRMM\\NDVI_InnerMongolia//CN_2009_NDVI_recon.193.tif"
       ]
      },
      {
       "output_type": "stream",
       "stream": "stdout",
       "text": [
        "\n",
        "D:\\Data\\0_DAILY_INTERVAL_NDVI_TRMM\\NDVI_InnerMongolia//CN_2009_NDVI_recon.194.tif"
       ]
      },
      {
       "output_type": "stream",
       "stream": "stdout",
       "text": [
        "\n",
        "D:\\Data\\0_DAILY_INTERVAL_NDVI_TRMM\\NDVI_InnerMongolia//CN_2009_NDVI_recon.195.tif"
       ]
      },
      {
       "output_type": "stream",
       "stream": "stdout",
       "text": [
        "\n",
        "D:\\Data\\0_DAILY_INTERVAL_NDVI_TRMM\\NDVI_InnerMongolia//CN_2009_NDVI_recon.196.tif"
       ]
      },
      {
       "output_type": "stream",
       "stream": "stdout",
       "text": [
        "\n",
        "D:\\Data\\0_DAILY_INTERVAL_NDVI_TRMM\\NDVI_InnerMongolia//CN_2009_NDVI_recon.197.tif"
       ]
      },
      {
       "output_type": "stream",
       "stream": "stdout",
       "text": [
        "\n",
        "D:\\Data\\0_DAILY_INTERVAL_NDVI_TRMM\\NDVI_InnerMongolia//CN_2009_NDVI_recon.198.tif"
       ]
      },
      {
       "output_type": "stream",
       "stream": "stdout",
       "text": [
        "\n",
        "D:\\Data\\0_DAILY_INTERVAL_NDVI_TRMM\\NDVI_InnerMongolia//CN_2009_NDVI_recon.199.tif"
       ]
      },
      {
       "output_type": "stream",
       "stream": "stdout",
       "text": [
        "\n",
        "D:\\Data\\0_DAILY_INTERVAL_NDVI_TRMM\\NDVI_InnerMongolia//CN_2009_NDVI_recon.200.tif"
       ]
      },
      {
       "output_type": "stream",
       "stream": "stdout",
       "text": [
        "\n",
        "D:\\Data\\0_DAILY_INTERVAL_NDVI_TRMM\\NDVI_InnerMongolia//CN_2009_NDVI_recon.201.tif"
       ]
      },
      {
       "output_type": "stream",
       "stream": "stdout",
       "text": [
        "\n",
        "D:\\Data\\0_DAILY_INTERVAL_NDVI_TRMM\\NDVI_InnerMongolia//CN_2009_NDVI_recon.202.tif"
       ]
      },
      {
       "output_type": "stream",
       "stream": "stdout",
       "text": [
        "\n",
        "D:\\Data\\0_DAILY_INTERVAL_NDVI_TRMM\\NDVI_InnerMongolia//CN_2009_NDVI_recon.203.tif"
       ]
      },
      {
       "output_type": "stream",
       "stream": "stdout",
       "text": [
        "\n",
        "D:\\Data\\0_DAILY_INTERVAL_NDVI_TRMM\\NDVI_InnerMongolia//CN_2009_NDVI_recon.204.tif"
       ]
      },
      {
       "output_type": "stream",
       "stream": "stdout",
       "text": [
        "\n",
        "D:\\Data\\0_DAILY_INTERVAL_NDVI_TRMM\\NDVI_InnerMongolia//CN_2009_NDVI_recon.205.tif"
       ]
      },
      {
       "output_type": "stream",
       "stream": "stdout",
       "text": [
        "\n",
        "D:\\Data\\0_DAILY_INTERVAL_NDVI_TRMM\\NDVI_InnerMongolia//CN_2009_NDVI_recon.206.tif"
       ]
      },
      {
       "output_type": "stream",
       "stream": "stdout",
       "text": [
        "\n",
        "D:\\Data\\0_DAILY_INTERVAL_NDVI_TRMM\\NDVI_InnerMongolia//CN_2009_NDVI_recon.207.tif"
       ]
      },
      {
       "output_type": "stream",
       "stream": "stdout",
       "text": [
        "\n",
        "D:\\Data\\0_DAILY_INTERVAL_NDVI_TRMM\\NDVI_InnerMongolia//CN_2009_NDVI_recon.208.tif"
       ]
      },
      {
       "output_type": "stream",
       "stream": "stdout",
       "text": [
        "\n",
        "D:\\Data\\0_DAILY_INTERVAL_NDVI_TRMM\\NDVI_InnerMongolia//CN_2009_NDVI_recon.209.tif"
       ]
      },
      {
       "output_type": "stream",
       "stream": "stdout",
       "text": [
        "\n",
        "D:\\Data\\0_DAILY_INTERVAL_NDVI_TRMM\\NDVI_InnerMongolia//CN_2009_NDVI_recon.210.tif"
       ]
      },
      {
       "output_type": "stream",
       "stream": "stdout",
       "text": [
        "\n",
        "D:\\Data\\0_DAILY_INTERVAL_NDVI_TRMM\\NDVI_InnerMongolia//CN_2009_NDVI_recon.211.tif"
       ]
      },
      {
       "output_type": "stream",
       "stream": "stdout",
       "text": [
        "\n",
        "D:\\Data\\0_DAILY_INTERVAL_NDVI_TRMM\\NDVI_InnerMongolia//CN_2009_NDVI_recon.212.tif"
       ]
      },
      {
       "output_type": "stream",
       "stream": "stdout",
       "text": [
        "\n",
        "D:\\Data\\0_DAILY_INTERVAL_NDVI_TRMM\\NDVI_InnerMongolia//CN_2009_NDVI_recon.213.tif"
       ]
      },
      {
       "output_type": "stream",
       "stream": "stdout",
       "text": [
        "\n",
        "D:\\Data\\0_DAILY_INTERVAL_NDVI_TRMM\\NDVI_InnerMongolia//CN_2009_NDVI_recon.214.tif"
       ]
      },
      {
       "output_type": "stream",
       "stream": "stdout",
       "text": [
        "\n",
        "D:\\Data\\0_DAILY_INTERVAL_NDVI_TRMM\\NDVI_InnerMongolia//CN_2009_NDVI_recon.215.tif"
       ]
      },
      {
       "output_type": "stream",
       "stream": "stdout",
       "text": [
        "\n",
        "D:\\Data\\0_DAILY_INTERVAL_NDVI_TRMM\\NDVI_InnerMongolia//CN_2009_NDVI_recon.216.tif"
       ]
      },
      {
       "output_type": "stream",
       "stream": "stdout",
       "text": [
        "\n",
        "D:\\Data\\0_DAILY_INTERVAL_NDVI_TRMM\\NDVI_InnerMongolia//CN_2009_NDVI_recon.217.tif"
       ]
      },
      {
       "output_type": "stream",
       "stream": "stdout",
       "text": [
        "\n",
        "D:\\Data\\0_DAILY_INTERVAL_NDVI_TRMM\\NDVI_InnerMongolia//CN_2009_NDVI_recon.218.tif"
       ]
      },
      {
       "output_type": "stream",
       "stream": "stdout",
       "text": [
        "\n",
        "D:\\Data\\0_DAILY_INTERVAL_NDVI_TRMM\\NDVI_InnerMongolia//CN_2009_NDVI_recon.219.tif"
       ]
      },
      {
       "output_type": "stream",
       "stream": "stdout",
       "text": [
        "\n",
        "D:\\Data\\0_DAILY_INTERVAL_NDVI_TRMM\\NDVI_InnerMongolia//CN_2009_NDVI_recon.220.tif"
       ]
      },
      {
       "output_type": "stream",
       "stream": "stdout",
       "text": [
        "\n",
        "D:\\Data\\0_DAILY_INTERVAL_NDVI_TRMM\\NDVI_InnerMongolia//CN_2009_NDVI_recon.221.tif"
       ]
      },
      {
       "output_type": "stream",
       "stream": "stdout",
       "text": [
        "\n",
        "D:\\Data\\0_DAILY_INTERVAL_NDVI_TRMM\\NDVI_InnerMongolia//CN_2009_NDVI_recon.222.tif"
       ]
      },
      {
       "output_type": "stream",
       "stream": "stdout",
       "text": [
        "\n",
        "D:\\Data\\0_DAILY_INTERVAL_NDVI_TRMM\\NDVI_InnerMongolia//CN_2009_NDVI_recon.223.tif"
       ]
      },
      {
       "output_type": "stream",
       "stream": "stdout",
       "text": [
        "\n",
        "D:\\Data\\0_DAILY_INTERVAL_NDVI_TRMM\\NDVI_InnerMongolia//CN_2009_NDVI_recon.224.tif"
       ]
      },
      {
       "output_type": "stream",
       "stream": "stdout",
       "text": [
        "\n",
        "D:\\Data\\0_DAILY_INTERVAL_NDVI_TRMM\\NDVI_InnerMongolia//CN_2009_NDVI_recon.225.tif"
       ]
      },
      {
       "output_type": "stream",
       "stream": "stdout",
       "text": [
        "\n",
        "D:\\Data\\0_DAILY_INTERVAL_NDVI_TRMM\\NDVI_InnerMongolia//CN_2009_NDVI_recon.226.tif"
       ]
      },
      {
       "output_type": "stream",
       "stream": "stdout",
       "text": [
        "\n",
        "D:\\Data\\0_DAILY_INTERVAL_NDVI_TRMM\\NDVI_InnerMongolia//CN_2009_NDVI_recon.227.tif"
       ]
      },
      {
       "output_type": "stream",
       "stream": "stdout",
       "text": [
        "\n",
        "D:\\Data\\0_DAILY_INTERVAL_NDVI_TRMM\\NDVI_InnerMongolia//CN_2009_NDVI_recon.228.tif"
       ]
      },
      {
       "output_type": "stream",
       "stream": "stdout",
       "text": [
        "\n",
        "D:\\Data\\0_DAILY_INTERVAL_NDVI_TRMM\\NDVI_InnerMongolia//CN_2009_NDVI_recon.229.tif"
       ]
      },
      {
       "output_type": "stream",
       "stream": "stdout",
       "text": [
        "\n",
        "D:\\Data\\0_DAILY_INTERVAL_NDVI_TRMM\\NDVI_InnerMongolia//CN_2009_NDVI_recon.230.tif"
       ]
      },
      {
       "output_type": "stream",
       "stream": "stdout",
       "text": [
        "\n",
        "D:\\Data\\0_DAILY_INTERVAL_NDVI_TRMM\\NDVI_InnerMongolia//CN_2009_NDVI_recon.231.tif"
       ]
      },
      {
       "output_type": "stream",
       "stream": "stdout",
       "text": [
        "\n",
        "D:\\Data\\0_DAILY_INTERVAL_NDVI_TRMM\\NDVI_InnerMongolia//CN_2009_NDVI_recon.232.tif"
       ]
      },
      {
       "output_type": "stream",
       "stream": "stdout",
       "text": [
        "\n",
        "D:\\Data\\0_DAILY_INTERVAL_NDVI_TRMM\\NDVI_InnerMongolia//CN_2009_NDVI_recon.233.tif"
       ]
      },
      {
       "output_type": "stream",
       "stream": "stdout",
       "text": [
        "\n",
        "D:\\Data\\0_DAILY_INTERVAL_NDVI_TRMM\\NDVI_InnerMongolia//CN_2009_NDVI_recon.234.tif"
       ]
      },
      {
       "output_type": "stream",
       "stream": "stdout",
       "text": [
        "\n",
        "D:\\Data\\0_DAILY_INTERVAL_NDVI_TRMM\\NDVI_InnerMongolia//CN_2009_NDVI_recon.235.tif"
       ]
      },
      {
       "output_type": "stream",
       "stream": "stdout",
       "text": [
        "\n",
        "D:\\Data\\0_DAILY_INTERVAL_NDVI_TRMM\\NDVI_InnerMongolia//CN_2009_NDVI_recon.236.tif"
       ]
      },
      {
       "output_type": "stream",
       "stream": "stdout",
       "text": [
        "\n",
        "D:\\Data\\0_DAILY_INTERVAL_NDVI_TRMM\\NDVI_InnerMongolia//CN_2009_NDVI_recon.237.tif"
       ]
      },
      {
       "output_type": "stream",
       "stream": "stdout",
       "text": [
        "\n",
        "D:\\Data\\0_DAILY_INTERVAL_NDVI_TRMM\\NDVI_InnerMongolia//CN_2009_NDVI_recon.238.tif"
       ]
      },
      {
       "output_type": "stream",
       "stream": "stdout",
       "text": [
        "\n",
        "D:\\Data\\0_DAILY_INTERVAL_NDVI_TRMM\\NDVI_InnerMongolia//CN_2009_NDVI_recon.239.tif"
       ]
      },
      {
       "output_type": "stream",
       "stream": "stdout",
       "text": [
        "\n",
        "D:\\Data\\0_DAILY_INTERVAL_NDVI_TRMM\\NDVI_InnerMongolia//CN_2009_NDVI_recon.240.tif"
       ]
      },
      {
       "output_type": "stream",
       "stream": "stdout",
       "text": [
        "\n",
        "D:\\Data\\0_DAILY_INTERVAL_NDVI_TRMM\\NDVI_InnerMongolia//CN_2009_NDVI_recon.241.tif"
       ]
      },
      {
       "output_type": "stream",
       "stream": "stdout",
       "text": [
        "\n",
        "D:\\Data\\0_DAILY_INTERVAL_NDVI_TRMM\\NDVI_InnerMongolia//CN_2009_NDVI_recon.242.tif"
       ]
      },
      {
       "output_type": "stream",
       "stream": "stdout",
       "text": [
        "\n",
        "D:\\Data\\0_DAILY_INTERVAL_NDVI_TRMM\\NDVI_InnerMongolia//CN_2009_NDVI_recon.243.tif"
       ]
      },
      {
       "output_type": "stream",
       "stream": "stdout",
       "text": [
        "\n",
        "D:\\Data\\0_DAILY_INTERVAL_NDVI_TRMM\\NDVI_InnerMongolia//CN_2009_NDVI_recon.244.tif"
       ]
      },
      {
       "output_type": "stream",
       "stream": "stdout",
       "text": [
        "\n",
        "D:\\Data\\0_DAILY_INTERVAL_NDVI_TRMM\\NDVI_InnerMongolia//CN_2009_NDVI_recon.245.tif"
       ]
      },
      {
       "output_type": "stream",
       "stream": "stdout",
       "text": [
        "\n",
        "D:\\Data\\0_DAILY_INTERVAL_NDVI_TRMM\\NDVI_InnerMongolia//CN_2009_NDVI_recon.246.tif"
       ]
      },
      {
       "output_type": "stream",
       "stream": "stdout",
       "text": [
        "\n",
        "D:\\Data\\0_DAILY_INTERVAL_NDVI_TRMM\\NDVI_InnerMongolia//CN_2009_NDVI_recon.247.tif"
       ]
      },
      {
       "output_type": "stream",
       "stream": "stdout",
       "text": [
        "\n",
        "D:\\Data\\0_DAILY_INTERVAL_NDVI_TRMM\\NDVI_InnerMongolia//CN_2009_NDVI_recon.248.tif"
       ]
      },
      {
       "output_type": "stream",
       "stream": "stdout",
       "text": [
        "\n",
        "D:\\Data\\0_DAILY_INTERVAL_NDVI_TRMM\\NDVI_InnerMongolia//CN_2009_NDVI_recon.249.tif"
       ]
      },
      {
       "output_type": "stream",
       "stream": "stdout",
       "text": [
        "\n",
        "D:\\Data\\0_DAILY_INTERVAL_NDVI_TRMM\\NDVI_InnerMongolia//CN_2009_NDVI_recon.250.tif"
       ]
      },
      {
       "output_type": "stream",
       "stream": "stdout",
       "text": [
        "\n",
        "D:\\Data\\0_DAILY_INTERVAL_NDVI_TRMM\\NDVI_InnerMongolia//CN_2009_NDVI_recon.251.tif"
       ]
      },
      {
       "output_type": "stream",
       "stream": "stdout",
       "text": [
        "\n",
        "D:\\Data\\0_DAILY_INTERVAL_NDVI_TRMM\\NDVI_InnerMongolia//CN_2009_NDVI_recon.252.tif"
       ]
      },
      {
       "output_type": "stream",
       "stream": "stdout",
       "text": [
        "\n",
        "D:\\Data\\0_DAILY_INTERVAL_NDVI_TRMM\\NDVI_InnerMongolia//CN_2009_NDVI_recon.253.tif"
       ]
      },
      {
       "output_type": "stream",
       "stream": "stdout",
       "text": [
        "\n",
        "D:\\Data\\0_DAILY_INTERVAL_NDVI_TRMM\\NDVI_InnerMongolia//CN_2009_NDVI_recon.254.tif"
       ]
      },
      {
       "output_type": "stream",
       "stream": "stdout",
       "text": [
        "\n",
        "D:\\Data\\0_DAILY_INTERVAL_NDVI_TRMM\\NDVI_InnerMongolia//CN_2009_NDVI_recon.255.tif"
       ]
      },
      {
       "output_type": "stream",
       "stream": "stdout",
       "text": [
        "\n",
        "D:\\Data\\0_DAILY_INTERVAL_NDVI_TRMM\\NDVI_InnerMongolia//CN_2009_NDVI_recon.256.tif"
       ]
      },
      {
       "output_type": "stream",
       "stream": "stdout",
       "text": [
        "\n",
        "D:\\Data\\0_DAILY_INTERVAL_NDVI_TRMM\\NDVI_InnerMongolia//CN_2009_NDVI_recon.257.tif"
       ]
      },
      {
       "output_type": "stream",
       "stream": "stdout",
       "text": [
        "\n",
        "D:\\Data\\0_DAILY_INTERVAL_NDVI_TRMM\\NDVI_InnerMongolia//CN_2009_NDVI_recon.258.tif"
       ]
      },
      {
       "output_type": "stream",
       "stream": "stdout",
       "text": [
        "\n",
        "D:\\Data\\0_DAILY_INTERVAL_NDVI_TRMM\\NDVI_InnerMongolia//CN_2009_NDVI_recon.259.tif"
       ]
      },
      {
       "output_type": "stream",
       "stream": "stdout",
       "text": [
        "\n",
        "D:\\Data\\0_DAILY_INTERVAL_NDVI_TRMM\\NDVI_InnerMongolia//CN_2009_NDVI_recon.260.tif"
       ]
      },
      {
       "output_type": "stream",
       "stream": "stdout",
       "text": [
        "\n",
        "D:\\Data\\0_DAILY_INTERVAL_NDVI_TRMM\\NDVI_InnerMongolia//CN_2009_NDVI_recon.261.tif"
       ]
      },
      {
       "output_type": "stream",
       "stream": "stdout",
       "text": [
        "\n",
        "D:\\Data\\0_DAILY_INTERVAL_NDVI_TRMM\\NDVI_InnerMongolia//CN_2009_NDVI_recon.262.tif"
       ]
      },
      {
       "output_type": "stream",
       "stream": "stdout",
       "text": [
        "\n",
        "D:\\Data\\0_DAILY_INTERVAL_NDVI_TRMM\\NDVI_InnerMongolia//CN_2009_NDVI_recon.263.tif"
       ]
      },
      {
       "output_type": "stream",
       "stream": "stdout",
       "text": [
        "\n",
        "D:\\Data\\0_DAILY_INTERVAL_NDVI_TRMM\\NDVI_InnerMongolia//CN_2009_NDVI_recon.264.tif"
       ]
      },
      {
       "output_type": "stream",
       "stream": "stdout",
       "text": [
        "\n",
        "D:\\Data\\0_DAILY_INTERVAL_NDVI_TRMM\\NDVI_InnerMongolia//CN_2009_NDVI_recon.265.tif"
       ]
      },
      {
       "output_type": "stream",
       "stream": "stdout",
       "text": [
        "\n",
        "D:\\Data\\0_DAILY_INTERVAL_NDVI_TRMM\\NDVI_InnerMongolia//CN_2009_NDVI_recon.266.tif"
       ]
      },
      {
       "output_type": "stream",
       "stream": "stdout",
       "text": [
        "\n",
        "D:\\Data\\0_DAILY_INTERVAL_NDVI_TRMM\\NDVI_InnerMongolia//CN_2009_NDVI_recon.267.tif"
       ]
      },
      {
       "output_type": "stream",
       "stream": "stdout",
       "text": [
        "\n",
        "D:\\Data\\0_DAILY_INTERVAL_NDVI_TRMM\\NDVI_InnerMongolia//CN_2009_NDVI_recon.268.tif"
       ]
      },
      {
       "output_type": "stream",
       "stream": "stdout",
       "text": [
        "\n",
        "D:\\Data\\0_DAILY_INTERVAL_NDVI_TRMM\\NDVI_InnerMongolia//CN_2009_NDVI_recon.269.tif"
       ]
      },
      {
       "output_type": "stream",
       "stream": "stdout",
       "text": [
        "\n",
        "D:\\Data\\0_DAILY_INTERVAL_NDVI_TRMM\\NDVI_InnerMongolia//CN_2009_NDVI_recon.270.tif"
       ]
      },
      {
       "output_type": "stream",
       "stream": "stdout",
       "text": [
        "\n",
        "D:\\Data\\0_DAILY_INTERVAL_NDVI_TRMM\\NDVI_InnerMongolia//CN_2009_NDVI_recon.271.tif"
       ]
      },
      {
       "output_type": "stream",
       "stream": "stdout",
       "text": [
        "\n",
        "D:\\Data\\0_DAILY_INTERVAL_NDVI_TRMM\\NDVI_InnerMongolia//CN_2009_NDVI_recon.272.tif"
       ]
      },
      {
       "output_type": "stream",
       "stream": "stdout",
       "text": [
        "\n",
        "D:\\Data\\0_DAILY_INTERVAL_NDVI_TRMM\\NDVI_InnerMongolia//CN_2009_NDVI_recon.273.tif"
       ]
      },
      {
       "output_type": "stream",
       "stream": "stdout",
       "text": [
        "\n",
        "D:\\Data\\0_DAILY_INTERVAL_NDVI_TRMM\\NDVI_InnerMongolia//CN_2009_NDVI_recon.274.tif"
       ]
      },
      {
       "output_type": "stream",
       "stream": "stdout",
       "text": [
        "\n",
        "D:\\Data\\0_DAILY_INTERVAL_NDVI_TRMM\\NDVI_InnerMongolia//CN_2009_NDVI_recon.275.tif"
       ]
      },
      {
       "output_type": "stream",
       "stream": "stdout",
       "text": [
        "\n",
        "D:\\Data\\0_DAILY_INTERVAL_NDVI_TRMM\\NDVI_InnerMongolia//CN_2009_NDVI_recon.276.tif"
       ]
      },
      {
       "output_type": "stream",
       "stream": "stdout",
       "text": [
        "\n",
        "D:\\Data\\0_DAILY_INTERVAL_NDVI_TRMM\\NDVI_InnerMongolia//CN_2009_NDVI_recon.277.tif"
       ]
      },
      {
       "output_type": "stream",
       "stream": "stdout",
       "text": [
        "\n",
        "D:\\Data\\0_DAILY_INTERVAL_NDVI_TRMM\\NDVI_InnerMongolia//CN_2009_NDVI_recon.278.tif"
       ]
      },
      {
       "output_type": "stream",
       "stream": "stdout",
       "text": [
        "\n",
        "D:\\Data\\0_DAILY_INTERVAL_NDVI_TRMM\\NDVI_InnerMongolia//CN_2009_NDVI_recon.279.tif"
       ]
      },
      {
       "output_type": "stream",
       "stream": "stdout",
       "text": [
        "\n",
        "D:\\Data\\0_DAILY_INTERVAL_NDVI_TRMM\\NDVI_InnerMongolia//CN_2009_NDVI_recon.280.tif"
       ]
      },
      {
       "output_type": "stream",
       "stream": "stdout",
       "text": [
        "\n",
        "D:\\Data\\0_DAILY_INTERVAL_NDVI_TRMM\\NDVI_InnerMongolia//CN_2009_NDVI_recon.281.tif"
       ]
      },
      {
       "output_type": "stream",
       "stream": "stdout",
       "text": [
        "\n",
        "D:\\Data\\0_DAILY_INTERVAL_NDVI_TRMM\\NDVI_InnerMongolia//CN_2009_NDVI_recon.282.tif"
       ]
      },
      {
       "output_type": "stream",
       "stream": "stdout",
       "text": [
        "\n",
        "D:\\Data\\0_DAILY_INTERVAL_NDVI_TRMM\\NDVI_InnerMongolia//CN_2009_NDVI_recon.283.tif"
       ]
      },
      {
       "output_type": "stream",
       "stream": "stdout",
       "text": [
        "\n",
        "D:\\Data\\0_DAILY_INTERVAL_NDVI_TRMM\\NDVI_InnerMongolia//CN_2009_NDVI_recon.284.tif"
       ]
      },
      {
       "output_type": "stream",
       "stream": "stdout",
       "text": [
        "\n",
        "D:\\Data\\0_DAILY_INTERVAL_NDVI_TRMM\\NDVI_InnerMongolia//CN_2009_NDVI_recon.285.tif"
       ]
      },
      {
       "output_type": "stream",
       "stream": "stdout",
       "text": [
        "\n",
        "D:\\Data\\0_DAILY_INTERVAL_NDVI_TRMM\\NDVI_InnerMongolia//CN_2009_NDVI_recon.286.tif"
       ]
      },
      {
       "output_type": "stream",
       "stream": "stdout",
       "text": [
        "\n",
        "D:\\Data\\0_DAILY_INTERVAL_NDVI_TRMM\\NDVI_InnerMongolia//CN_2009_NDVI_recon.287.tif"
       ]
      },
      {
       "output_type": "stream",
       "stream": "stdout",
       "text": [
        "\n",
        "D:\\Data\\0_DAILY_INTERVAL_NDVI_TRMM\\NDVI_InnerMongolia//CN_2009_NDVI_recon.288.tif"
       ]
      },
      {
       "output_type": "stream",
       "stream": "stdout",
       "text": [
        "\n",
        "D:\\Data\\0_DAILY_INTERVAL_NDVI_TRMM\\NDVI_InnerMongolia//CN_2009_NDVI_recon.289.tif"
       ]
      },
      {
       "output_type": "stream",
       "stream": "stdout",
       "text": [
        "\n",
        "D:\\Data\\0_DAILY_INTERVAL_NDVI_TRMM\\NDVI_InnerMongolia//CN_2009_NDVI_recon.290.tif"
       ]
      },
      {
       "output_type": "stream",
       "stream": "stdout",
       "text": [
        "\n",
        "D:\\Data\\0_DAILY_INTERVAL_NDVI_TRMM\\NDVI_InnerMongolia//CN_2009_NDVI_recon.291.tif"
       ]
      },
      {
       "output_type": "stream",
       "stream": "stdout",
       "text": [
        "\n",
        "D:\\Data\\0_DAILY_INTERVAL_NDVI_TRMM\\NDVI_InnerMongolia//CN_2009_NDVI_recon.292.tif"
       ]
      },
      {
       "output_type": "stream",
       "stream": "stdout",
       "text": [
        "\n",
        "D:\\Data\\0_DAILY_INTERVAL_NDVI_TRMM\\NDVI_InnerMongolia//CN_2009_NDVI_recon.293.tif"
       ]
      },
      {
       "output_type": "stream",
       "stream": "stdout",
       "text": [
        "\n",
        "D:\\Data\\0_DAILY_INTERVAL_NDVI_TRMM\\NDVI_InnerMongolia//CN_2009_NDVI_recon.294.tif"
       ]
      },
      {
       "output_type": "stream",
       "stream": "stdout",
       "text": [
        "\n",
        "D:\\Data\\0_DAILY_INTERVAL_NDVI_TRMM\\NDVI_InnerMongolia//CN_2009_NDVI_recon.295.tif"
       ]
      },
      {
       "output_type": "stream",
       "stream": "stdout",
       "text": [
        "\n",
        "D:\\Data\\0_DAILY_INTERVAL_NDVI_TRMM\\NDVI_InnerMongolia//CN_2009_NDVI_recon.296.tif"
       ]
      },
      {
       "output_type": "stream",
       "stream": "stdout",
       "text": [
        "\n",
        "D:\\Data\\0_DAILY_INTERVAL_NDVI_TRMM\\NDVI_InnerMongolia//CN_2009_NDVI_recon.297.tif"
       ]
      },
      {
       "output_type": "stream",
       "stream": "stdout",
       "text": [
        "\n",
        "D:\\Data\\0_DAILY_INTERVAL_NDVI_TRMM\\NDVI_InnerMongolia//CN_2009_NDVI_recon.298.tif"
       ]
      },
      {
       "output_type": "stream",
       "stream": "stdout",
       "text": [
        "\n",
        "D:\\Data\\0_DAILY_INTERVAL_NDVI_TRMM\\NDVI_InnerMongolia//CN_2009_NDVI_recon.299.tif"
       ]
      },
      {
       "output_type": "stream",
       "stream": "stdout",
       "text": [
        "\n",
        "D:\\Data\\0_DAILY_INTERVAL_NDVI_TRMM\\NDVI_InnerMongolia//CN_2009_NDVI_recon.300.tif"
       ]
      },
      {
       "output_type": "stream",
       "stream": "stdout",
       "text": [
        "\n",
        "D:\\Data\\0_DAILY_INTERVAL_NDVI_TRMM\\NDVI_InnerMongolia//CN_2009_NDVI_recon.301.tif"
       ]
      },
      {
       "output_type": "stream",
       "stream": "stdout",
       "text": [
        "\n",
        "D:\\Data\\0_DAILY_INTERVAL_NDVI_TRMM\\NDVI_InnerMongolia//CN_2009_NDVI_recon.302.tif"
       ]
      },
      {
       "output_type": "stream",
       "stream": "stdout",
       "text": [
        "\n",
        "D:\\Data\\0_DAILY_INTERVAL_NDVI_TRMM\\NDVI_InnerMongolia//CN_2009_NDVI_recon.303.tif"
       ]
      },
      {
       "output_type": "stream",
       "stream": "stdout",
       "text": [
        "\n",
        "D:\\Data\\0_DAILY_INTERVAL_NDVI_TRMM\\NDVI_InnerMongolia//CN_2009_NDVI_recon.304.tif"
       ]
      },
      {
       "output_type": "stream",
       "stream": "stdout",
       "text": [
        "\n",
        "D:\\Data\\0_DAILY_INTERVAL_NDVI_TRMM\\NDVI_InnerMongolia//CN_2009_NDVI_recon.305.tif"
       ]
      },
      {
       "output_type": "stream",
       "stream": "stdout",
       "text": [
        "\n",
        "D:\\Data\\0_DAILY_INTERVAL_NDVI_TRMM\\NDVI_InnerMongolia//CN_2009_NDVI_recon.306.tif"
       ]
      },
      {
       "output_type": "stream",
       "stream": "stdout",
       "text": [
        "\n",
        "D:\\Data\\0_DAILY_INTERVAL_NDVI_TRMM\\NDVI_InnerMongolia//CN_2009_NDVI_recon.307.tif"
       ]
      },
      {
       "output_type": "stream",
       "stream": "stdout",
       "text": [
        "\n",
        "D:\\Data\\0_DAILY_INTERVAL_NDVI_TRMM\\NDVI_InnerMongolia//CN_2009_NDVI_recon.308.tif"
       ]
      },
      {
       "output_type": "stream",
       "stream": "stdout",
       "text": [
        "\n",
        "D:\\Data\\0_DAILY_INTERVAL_NDVI_TRMM\\NDVI_InnerMongolia//CN_2009_NDVI_recon.309.tif"
       ]
      },
      {
       "output_type": "stream",
       "stream": "stdout",
       "text": [
        "\n",
        "D:\\Data\\0_DAILY_INTERVAL_NDVI_TRMM\\NDVI_InnerMongolia//CN_2009_NDVI_recon.310.tif"
       ]
      },
      {
       "output_type": "stream",
       "stream": "stdout",
       "text": [
        "\n",
        "D:\\Data\\0_DAILY_INTERVAL_NDVI_TRMM\\NDVI_InnerMongolia//CN_2009_NDVI_recon.311.tif"
       ]
      },
      {
       "output_type": "stream",
       "stream": "stdout",
       "text": [
        "\n",
        "D:\\Data\\0_DAILY_INTERVAL_NDVI_TRMM\\NDVI_InnerMongolia//CN_2009_NDVI_recon.312.tif"
       ]
      },
      {
       "output_type": "stream",
       "stream": "stdout",
       "text": [
        "\n",
        "D:\\Data\\0_DAILY_INTERVAL_NDVI_TRMM\\NDVI_InnerMongolia//CN_2009_NDVI_recon.313.tif"
       ]
      },
      {
       "output_type": "stream",
       "stream": "stdout",
       "text": [
        "\n",
        "D:\\Data\\0_DAILY_INTERVAL_NDVI_TRMM\\NDVI_InnerMongolia//CN_2009_NDVI_recon.314.tif"
       ]
      },
      {
       "output_type": "stream",
       "stream": "stdout",
       "text": [
        "\n",
        "D:\\Data\\0_DAILY_INTERVAL_NDVI_TRMM\\NDVI_InnerMongolia//CN_2009_NDVI_recon.315.tif"
       ]
      },
      {
       "output_type": "stream",
       "stream": "stdout",
       "text": [
        "\n",
        "D:\\Data\\0_DAILY_INTERVAL_NDVI_TRMM\\NDVI_InnerMongolia//CN_2009_NDVI_recon.316.tif"
       ]
      },
      {
       "output_type": "stream",
       "stream": "stdout",
       "text": [
        "\n",
        "D:\\Data\\0_DAILY_INTERVAL_NDVI_TRMM\\NDVI_InnerMongolia//CN_2009_NDVI_recon.317.tif"
       ]
      },
      {
       "output_type": "stream",
       "stream": "stdout",
       "text": [
        "\n",
        "D:\\Data\\0_DAILY_INTERVAL_NDVI_TRMM\\NDVI_InnerMongolia//CN_2009_NDVI_recon.318.tif"
       ]
      },
      {
       "output_type": "stream",
       "stream": "stdout",
       "text": [
        "\n",
        "D:\\Data\\0_DAILY_INTERVAL_NDVI_TRMM\\NDVI_InnerMongolia//CN_2009_NDVI_recon.319.tif"
       ]
      },
      {
       "output_type": "stream",
       "stream": "stdout",
       "text": [
        "\n",
        "D:\\Data\\0_DAILY_INTERVAL_NDVI_TRMM\\NDVI_InnerMongolia//CN_2009_NDVI_recon.320.tif"
       ]
      },
      {
       "output_type": "stream",
       "stream": "stdout",
       "text": [
        "\n",
        "D:\\Data\\0_DAILY_INTERVAL_NDVI_TRMM\\NDVI_InnerMongolia//CN_2009_NDVI_recon.321.tif"
       ]
      },
      {
       "output_type": "stream",
       "stream": "stdout",
       "text": [
        "\n",
        "D:\\Data\\0_DAILY_INTERVAL_NDVI_TRMM\\NDVI_InnerMongolia//CN_2009_NDVI_recon.322.tif"
       ]
      },
      {
       "output_type": "stream",
       "stream": "stdout",
       "text": [
        "\n",
        "D:\\Data\\0_DAILY_INTERVAL_NDVI_TRMM\\NDVI_InnerMongolia//CN_2009_NDVI_recon.323.tif"
       ]
      },
      {
       "output_type": "stream",
       "stream": "stdout",
       "text": [
        "\n",
        "D:\\Data\\0_DAILY_INTERVAL_NDVI_TRMM\\NDVI_InnerMongolia//CN_2009_NDVI_recon.324.tif"
       ]
      },
      {
       "output_type": "stream",
       "stream": "stdout",
       "text": [
        "\n",
        "D:\\Data\\0_DAILY_INTERVAL_NDVI_TRMM\\NDVI_InnerMongolia//CN_2009_NDVI_recon.325.tif"
       ]
      },
      {
       "output_type": "stream",
       "stream": "stdout",
       "text": [
        "\n",
        "D:\\Data\\0_DAILY_INTERVAL_NDVI_TRMM\\NDVI_InnerMongolia//CN_2009_NDVI_recon.326.tif"
       ]
      },
      {
       "output_type": "stream",
       "stream": "stdout",
       "text": [
        "\n",
        "D:\\Data\\0_DAILY_INTERVAL_NDVI_TRMM\\NDVI_InnerMongolia//CN_2009_NDVI_recon.327.tif"
       ]
      },
      {
       "output_type": "stream",
       "stream": "stdout",
       "text": [
        "\n",
        "D:\\Data\\0_DAILY_INTERVAL_NDVI_TRMM\\NDVI_InnerMongolia//CN_2009_NDVI_recon.328.tif"
       ]
      },
      {
       "output_type": "stream",
       "stream": "stdout",
       "text": [
        "\n",
        "D:\\Data\\0_DAILY_INTERVAL_NDVI_TRMM\\NDVI_InnerMongolia//CN_2009_NDVI_recon.329.tif"
       ]
      },
      {
       "output_type": "stream",
       "stream": "stdout",
       "text": [
        "\n",
        "D:\\Data\\0_DAILY_INTERVAL_NDVI_TRMM\\NDVI_InnerMongolia//CN_2009_NDVI_recon.330.tif"
       ]
      },
      {
       "output_type": "stream",
       "stream": "stdout",
       "text": [
        "\n",
        "D:\\Data\\0_DAILY_INTERVAL_NDVI_TRMM\\NDVI_InnerMongolia//CN_2009_NDVI_recon.331.tif"
       ]
      },
      {
       "output_type": "stream",
       "stream": "stdout",
       "text": [
        "\n",
        "D:\\Data\\0_DAILY_INTERVAL_NDVI_TRMM\\NDVI_InnerMongolia//CN_2009_NDVI_recon.332.tif"
       ]
      },
      {
       "output_type": "stream",
       "stream": "stdout",
       "text": [
        "\n",
        "D:\\Data\\0_DAILY_INTERVAL_NDVI_TRMM\\NDVI_InnerMongolia//CN_2009_NDVI_recon.333.tif"
       ]
      },
      {
       "output_type": "stream",
       "stream": "stdout",
       "text": [
        "\n",
        "D:\\Data\\0_DAILY_INTERVAL_NDVI_TRMM\\NDVI_InnerMongolia//CN_2009_NDVI_recon.334.tif"
       ]
      },
      {
       "output_type": "stream",
       "stream": "stdout",
       "text": [
        "\n",
        "D:\\Data\\0_DAILY_INTERVAL_NDVI_TRMM\\NDVI_InnerMongolia//CN_2009_NDVI_recon.335.tif"
       ]
      },
      {
       "output_type": "stream",
       "stream": "stdout",
       "text": [
        "\n",
        "D:\\Data\\0_DAILY_INTERVAL_NDVI_TRMM\\NDVI_InnerMongolia//CN_2009_NDVI_recon.336.tif"
       ]
      },
      {
       "output_type": "stream",
       "stream": "stdout",
       "text": [
        "\n",
        "D:\\Data\\0_DAILY_INTERVAL_NDVI_TRMM\\NDVI_InnerMongolia//CN_2009_NDVI_recon.337.tif"
       ]
      },
      {
       "output_type": "stream",
       "stream": "stdout",
       "text": [
        "\n",
        "D:\\Data\\0_DAILY_INTERVAL_NDVI_TRMM\\NDVI_InnerMongolia//CN_2009_NDVI_recon.338.tif"
       ]
      },
      {
       "output_type": "stream",
       "stream": "stdout",
       "text": [
        "\n",
        "D:\\Data\\0_DAILY_INTERVAL_NDVI_TRMM\\NDVI_InnerMongolia//CN_2009_NDVI_recon.339.tif"
       ]
      },
      {
       "output_type": "stream",
       "stream": "stdout",
       "text": [
        "\n",
        "D:\\Data\\0_DAILY_INTERVAL_NDVI_TRMM\\NDVI_InnerMongolia//CN_2009_NDVI_recon.340.tif"
       ]
      },
      {
       "output_type": "stream",
       "stream": "stdout",
       "text": [
        "\n",
        "D:\\Data\\0_DAILY_INTERVAL_NDVI_TRMM\\NDVI_InnerMongolia//CN_2009_NDVI_recon.341.tif"
       ]
      },
      {
       "output_type": "stream",
       "stream": "stdout",
       "text": [
        "\n",
        "D:\\Data\\0_DAILY_INTERVAL_NDVI_TRMM\\NDVI_InnerMongolia//CN_2009_NDVI_recon.342.tif"
       ]
      },
      {
       "output_type": "stream",
       "stream": "stdout",
       "text": [
        "\n",
        "D:\\Data\\0_DAILY_INTERVAL_NDVI_TRMM\\NDVI_InnerMongolia//CN_2009_NDVI_recon.343.tif"
       ]
      },
      {
       "output_type": "stream",
       "stream": "stdout",
       "text": [
        "\n",
        "D:\\Data\\0_DAILY_INTERVAL_NDVI_TRMM\\NDVI_InnerMongolia//CN_2009_NDVI_recon.344.tif"
       ]
      },
      {
       "output_type": "stream",
       "stream": "stdout",
       "text": [
        "\n",
        "D:\\Data\\0_DAILY_INTERVAL_NDVI_TRMM\\NDVI_InnerMongolia//CN_2009_NDVI_recon.345.tif"
       ]
      },
      {
       "output_type": "stream",
       "stream": "stdout",
       "text": [
        "\n",
        "D:\\Data\\0_DAILY_INTERVAL_NDVI_TRMM\\NDVI_InnerMongolia//CN_2009_NDVI_recon.346.tif"
       ]
      },
      {
       "output_type": "stream",
       "stream": "stdout",
       "text": [
        "\n",
        "D:\\Data\\0_DAILY_INTERVAL_NDVI_TRMM\\NDVI_InnerMongolia//CN_2009_NDVI_recon.347.tif"
       ]
      },
      {
       "output_type": "stream",
       "stream": "stdout",
       "text": [
        "\n",
        "D:\\Data\\0_DAILY_INTERVAL_NDVI_TRMM\\NDVI_InnerMongolia//CN_2009_NDVI_recon.348.tif"
       ]
      },
      {
       "output_type": "stream",
       "stream": "stdout",
       "text": [
        "\n",
        "D:\\Data\\0_DAILY_INTERVAL_NDVI_TRMM\\NDVI_InnerMongolia//CN_2009_NDVI_recon.349.tif"
       ]
      },
      {
       "output_type": "stream",
       "stream": "stdout",
       "text": [
        "\n",
        "D:\\Data\\0_DAILY_INTERVAL_NDVI_TRMM\\NDVI_InnerMongolia//CN_2009_NDVI_recon.350.tif"
       ]
      },
      {
       "output_type": "stream",
       "stream": "stdout",
       "text": [
        "\n",
        "D:\\Data\\0_DAILY_INTERVAL_NDVI_TRMM\\NDVI_InnerMongolia//CN_2009_NDVI_recon.351.tif"
       ]
      },
      {
       "output_type": "stream",
       "stream": "stdout",
       "text": [
        "\n",
        "D:\\Data\\0_DAILY_INTERVAL_NDVI_TRMM\\NDVI_InnerMongolia//CN_2009_NDVI_recon.352.tif"
       ]
      },
      {
       "output_type": "stream",
       "stream": "stdout",
       "text": [
        "\n",
        "D:\\Data\\0_DAILY_INTERVAL_NDVI_TRMM\\NDVI_InnerMongolia//CN_2009_NDVI_recon.353.tif"
       ]
      },
      {
       "output_type": "stream",
       "stream": "stdout",
       "text": [
        "\n",
        "D:\\Data\\0_DAILY_INTERVAL_NDVI_TRMM\\NDVI_InnerMongolia//CN_2009_NDVI_recon.354.tif"
       ]
      },
      {
       "output_type": "stream",
       "stream": "stdout",
       "text": [
        "\n",
        "D:\\Data\\0_DAILY_INTERVAL_NDVI_TRMM\\NDVI_InnerMongolia//CN_2009_NDVI_recon.355.tif"
       ]
      },
      {
       "output_type": "stream",
       "stream": "stdout",
       "text": [
        "\n",
        "D:\\Data\\0_DAILY_INTERVAL_NDVI_TRMM\\NDVI_InnerMongolia//CN_2009_NDVI_recon.356.tif"
       ]
      },
      {
       "output_type": "stream",
       "stream": "stdout",
       "text": [
        "\n",
        "D:\\Data\\0_DAILY_INTERVAL_NDVI_TRMM\\NDVI_InnerMongolia//CN_2009_NDVI_recon.357.tif"
       ]
      },
      {
       "output_type": "stream",
       "stream": "stdout",
       "text": [
        "\n",
        "D:\\Data\\0_DAILY_INTERVAL_NDVI_TRMM\\NDVI_InnerMongolia//CN_2009_NDVI_recon.358.tif"
       ]
      },
      {
       "output_type": "stream",
       "stream": "stdout",
       "text": [
        "\n",
        "D:\\Data\\0_DAILY_INTERVAL_NDVI_TRMM\\NDVI_InnerMongolia//CN_2009_NDVI_recon.359.tif"
       ]
      },
      {
       "output_type": "stream",
       "stream": "stdout",
       "text": [
        "\n",
        "D:\\Data\\0_DAILY_INTERVAL_NDVI_TRMM\\NDVI_InnerMongolia//CN_2009_NDVI_recon.360.tif"
       ]
      },
      {
       "output_type": "stream",
       "stream": "stdout",
       "text": [
        "\n",
        "D:\\Data\\0_DAILY_INTERVAL_NDVI_TRMM\\NDVI_InnerMongolia//CN_2009_NDVI_recon.361.tif"
       ]
      },
      {
       "output_type": "stream",
       "stream": "stdout",
       "text": [
        "\n",
        "D:\\Data\\0_DAILY_INTERVAL_NDVI_TRMM\\NDVI_InnerMongolia//CN_2009_NDVI_recon.362.tif"
       ]
      },
      {
       "output_type": "stream",
       "stream": "stdout",
       "text": [
        "\n",
        "D:\\Data\\0_DAILY_INTERVAL_NDVI_TRMM\\NDVI_InnerMongolia//CN_2009_NDVI_recon.363.tif"
       ]
      },
      {
       "output_type": "stream",
       "stream": "stdout",
       "text": [
        "\n",
        "D:\\Data\\0_DAILY_INTERVAL_NDVI_TRMM\\NDVI_InnerMongolia//CN_2009_NDVI_recon.364.tif"
       ]
      },
      {
       "output_type": "stream",
       "stream": "stdout",
       "text": [
        "\n",
        "D:\\Data\\0_DAILY_INTERVAL_NDVI_TRMM\\NDVI_InnerMongolia//CN_2009_NDVI_recon.365.tif"
       ]
      },
      {
       "output_type": "stream",
       "stream": "stdout",
       "text": [
        "\n",
        "D:\\Data\\0_DAILY_INTERVAL_NDVI_TRMM\\NDVI_InnerMongolia//CN_2010_NDVI_recon.001.tif"
       ]
      },
      {
       "output_type": "stream",
       "stream": "stdout",
       "text": [
        "\n",
        "D:\\Data\\0_DAILY_INTERVAL_NDVI_TRMM\\NDVI_InnerMongolia//CN_2010_NDVI_recon.002.tif"
       ]
      },
      {
       "output_type": "stream",
       "stream": "stdout",
       "text": [
        "\n",
        "D:\\Data\\0_DAILY_INTERVAL_NDVI_TRMM\\NDVI_InnerMongolia//CN_2010_NDVI_recon.003.tif"
       ]
      },
      {
       "output_type": "stream",
       "stream": "stdout",
       "text": [
        "\n",
        "D:\\Data\\0_DAILY_INTERVAL_NDVI_TRMM\\NDVI_InnerMongolia//CN_2010_NDVI_recon.004.tif"
       ]
      },
      {
       "output_type": "stream",
       "stream": "stdout",
       "text": [
        "\n",
        "D:\\Data\\0_DAILY_INTERVAL_NDVI_TRMM\\NDVI_InnerMongolia//CN_2010_NDVI_recon.005.tif"
       ]
      },
      {
       "output_type": "stream",
       "stream": "stdout",
       "text": [
        "\n",
        "D:\\Data\\0_DAILY_INTERVAL_NDVI_TRMM\\NDVI_InnerMongolia//CN_2010_NDVI_recon.006.tif"
       ]
      },
      {
       "output_type": "stream",
       "stream": "stdout",
       "text": [
        "\n",
        "D:\\Data\\0_DAILY_INTERVAL_NDVI_TRMM\\NDVI_InnerMongolia//CN_2010_NDVI_recon.007.tif"
       ]
      },
      {
       "output_type": "stream",
       "stream": "stdout",
       "text": [
        "\n",
        "D:\\Data\\0_DAILY_INTERVAL_NDVI_TRMM\\NDVI_InnerMongolia//CN_2010_NDVI_recon.008.tif"
       ]
      },
      {
       "output_type": "stream",
       "stream": "stdout",
       "text": [
        "\n",
        "D:\\Data\\0_DAILY_INTERVAL_NDVI_TRMM\\NDVI_InnerMongolia//CN_2010_NDVI_recon.009.tif"
       ]
      },
      {
       "output_type": "stream",
       "stream": "stdout",
       "text": [
        "\n",
        "D:\\Data\\0_DAILY_INTERVAL_NDVI_TRMM\\NDVI_InnerMongolia//CN_2010_NDVI_recon.010.tif"
       ]
      },
      {
       "output_type": "stream",
       "stream": "stdout",
       "text": [
        "\n",
        "D:\\Data\\0_DAILY_INTERVAL_NDVI_TRMM\\NDVI_InnerMongolia//CN_2010_NDVI_recon.011.tif"
       ]
      },
      {
       "output_type": "stream",
       "stream": "stdout",
       "text": [
        "\n",
        "D:\\Data\\0_DAILY_INTERVAL_NDVI_TRMM\\NDVI_InnerMongolia//CN_2010_NDVI_recon.012.tif"
       ]
      },
      {
       "output_type": "stream",
       "stream": "stdout",
       "text": [
        "\n",
        "D:\\Data\\0_DAILY_INTERVAL_NDVI_TRMM\\NDVI_InnerMongolia//CN_2010_NDVI_recon.013.tif"
       ]
      },
      {
       "output_type": "stream",
       "stream": "stdout",
       "text": [
        "\n",
        "D:\\Data\\0_DAILY_INTERVAL_NDVI_TRMM\\NDVI_InnerMongolia//CN_2010_NDVI_recon.014.tif"
       ]
      },
      {
       "output_type": "stream",
       "stream": "stdout",
       "text": [
        "\n",
        "D:\\Data\\0_DAILY_INTERVAL_NDVI_TRMM\\NDVI_InnerMongolia//CN_2010_NDVI_recon.015.tif"
       ]
      },
      {
       "output_type": "stream",
       "stream": "stdout",
       "text": [
        "\n",
        "D:\\Data\\0_DAILY_INTERVAL_NDVI_TRMM\\NDVI_InnerMongolia//CN_2010_NDVI_recon.016.tif"
       ]
      },
      {
       "output_type": "stream",
       "stream": "stdout",
       "text": [
        "\n",
        "D:\\Data\\0_DAILY_INTERVAL_NDVI_TRMM\\NDVI_InnerMongolia//CN_2010_NDVI_recon.017.tif"
       ]
      },
      {
       "output_type": "stream",
       "stream": "stdout",
       "text": [
        "\n",
        "D:\\Data\\0_DAILY_INTERVAL_NDVI_TRMM\\NDVI_InnerMongolia//CN_2010_NDVI_recon.018.tif"
       ]
      },
      {
       "output_type": "stream",
       "stream": "stdout",
       "text": [
        "\n",
        "D:\\Data\\0_DAILY_INTERVAL_NDVI_TRMM\\NDVI_InnerMongolia//CN_2010_NDVI_recon.019.tif"
       ]
      },
      {
       "output_type": "stream",
       "stream": "stdout",
       "text": [
        "\n",
        "D:\\Data\\0_DAILY_INTERVAL_NDVI_TRMM\\NDVI_InnerMongolia//CN_2010_NDVI_recon.020.tif"
       ]
      },
      {
       "output_type": "stream",
       "stream": "stdout",
       "text": [
        "\n",
        "D:\\Data\\0_DAILY_INTERVAL_NDVI_TRMM\\NDVI_InnerMongolia//CN_2010_NDVI_recon.021.tif"
       ]
      },
      {
       "output_type": "stream",
       "stream": "stdout",
       "text": [
        "\n",
        "D:\\Data\\0_DAILY_INTERVAL_NDVI_TRMM\\NDVI_InnerMongolia//CN_2010_NDVI_recon.022.tif"
       ]
      },
      {
       "output_type": "stream",
       "stream": "stdout",
       "text": [
        "\n",
        "D:\\Data\\0_DAILY_INTERVAL_NDVI_TRMM\\NDVI_InnerMongolia//CN_2010_NDVI_recon.023.tif"
       ]
      },
      {
       "output_type": "stream",
       "stream": "stdout",
       "text": [
        "\n",
        "D:\\Data\\0_DAILY_INTERVAL_NDVI_TRMM\\NDVI_InnerMongolia//CN_2010_NDVI_recon.024.tif"
       ]
      },
      {
       "output_type": "stream",
       "stream": "stdout",
       "text": [
        "\n",
        "D:\\Data\\0_DAILY_INTERVAL_NDVI_TRMM\\NDVI_InnerMongolia//CN_2010_NDVI_recon.025.tif"
       ]
      },
      {
       "output_type": "stream",
       "stream": "stdout",
       "text": [
        "\n",
        "D:\\Data\\0_DAILY_INTERVAL_NDVI_TRMM\\NDVI_InnerMongolia//CN_2010_NDVI_recon.026.tif"
       ]
      },
      {
       "output_type": "stream",
       "stream": "stdout",
       "text": [
        "\n",
        "D:\\Data\\0_DAILY_INTERVAL_NDVI_TRMM\\NDVI_InnerMongolia//CN_2010_NDVI_recon.027.tif"
       ]
      },
      {
       "output_type": "stream",
       "stream": "stdout",
       "text": [
        "\n",
        "D:\\Data\\0_DAILY_INTERVAL_NDVI_TRMM\\NDVI_InnerMongolia//CN_2010_NDVI_recon.028.tif"
       ]
      },
      {
       "output_type": "stream",
       "stream": "stdout",
       "text": [
        "\n",
        "D:\\Data\\0_DAILY_INTERVAL_NDVI_TRMM\\NDVI_InnerMongolia//CN_2010_NDVI_recon.029.tif"
       ]
      },
      {
       "output_type": "stream",
       "stream": "stdout",
       "text": [
        "\n",
        "D:\\Data\\0_DAILY_INTERVAL_NDVI_TRMM\\NDVI_InnerMongolia//CN_2010_NDVI_recon.030.tif"
       ]
      },
      {
       "output_type": "stream",
       "stream": "stdout",
       "text": [
        "\n",
        "D:\\Data\\0_DAILY_INTERVAL_NDVI_TRMM\\NDVI_InnerMongolia//CN_2010_NDVI_recon.031.tif"
       ]
      },
      {
       "output_type": "stream",
       "stream": "stdout",
       "text": [
        "\n",
        "D:\\Data\\0_DAILY_INTERVAL_NDVI_TRMM\\NDVI_InnerMongolia//CN_2010_NDVI_recon.032.tif"
       ]
      },
      {
       "output_type": "stream",
       "stream": "stdout",
       "text": [
        "\n",
        "D:\\Data\\0_DAILY_INTERVAL_NDVI_TRMM\\NDVI_InnerMongolia//CN_2010_NDVI_recon.033.tif"
       ]
      },
      {
       "output_type": "stream",
       "stream": "stdout",
       "text": [
        "\n",
        "D:\\Data\\0_DAILY_INTERVAL_NDVI_TRMM\\NDVI_InnerMongolia//CN_2010_NDVI_recon.034.tif"
       ]
      },
      {
       "output_type": "stream",
       "stream": "stdout",
       "text": [
        "\n",
        "D:\\Data\\0_DAILY_INTERVAL_NDVI_TRMM\\NDVI_InnerMongolia//CN_2010_NDVI_recon.035.tif"
       ]
      },
      {
       "output_type": "stream",
       "stream": "stdout",
       "text": [
        "\n",
        "D:\\Data\\0_DAILY_INTERVAL_NDVI_TRMM\\NDVI_InnerMongolia//CN_2010_NDVI_recon.036.tif"
       ]
      },
      {
       "output_type": "stream",
       "stream": "stdout",
       "text": [
        "\n",
        "D:\\Data\\0_DAILY_INTERVAL_NDVI_TRMM\\NDVI_InnerMongolia//CN_2010_NDVI_recon.037.tif"
       ]
      },
      {
       "output_type": "stream",
       "stream": "stdout",
       "text": [
        "\n",
        "D:\\Data\\0_DAILY_INTERVAL_NDVI_TRMM\\NDVI_InnerMongolia//CN_2010_NDVI_recon.038.tif"
       ]
      },
      {
       "output_type": "stream",
       "stream": "stdout",
       "text": [
        "\n",
        "D:\\Data\\0_DAILY_INTERVAL_NDVI_TRMM\\NDVI_InnerMongolia//CN_2010_NDVI_recon.039.tif"
       ]
      },
      {
       "output_type": "stream",
       "stream": "stdout",
       "text": [
        "\n",
        "D:\\Data\\0_DAILY_INTERVAL_NDVI_TRMM\\NDVI_InnerMongolia//CN_2010_NDVI_recon.040.tif"
       ]
      },
      {
       "output_type": "stream",
       "stream": "stdout",
       "text": [
        "\n",
        "D:\\Data\\0_DAILY_INTERVAL_NDVI_TRMM\\NDVI_InnerMongolia//CN_2010_NDVI_recon.041.tif"
       ]
      },
      {
       "output_type": "stream",
       "stream": "stdout",
       "text": [
        "\n",
        "D:\\Data\\0_DAILY_INTERVAL_NDVI_TRMM\\NDVI_InnerMongolia//CN_2010_NDVI_recon.042.tif"
       ]
      },
      {
       "output_type": "stream",
       "stream": "stdout",
       "text": [
        "\n",
        "D:\\Data\\0_DAILY_INTERVAL_NDVI_TRMM\\NDVI_InnerMongolia//CN_2010_NDVI_recon.043.tif"
       ]
      },
      {
       "output_type": "stream",
       "stream": "stdout",
       "text": [
        "\n",
        "D:\\Data\\0_DAILY_INTERVAL_NDVI_TRMM\\NDVI_InnerMongolia//CN_2010_NDVI_recon.044.tif"
       ]
      },
      {
       "output_type": "stream",
       "stream": "stdout",
       "text": [
        "\n",
        "D:\\Data\\0_DAILY_INTERVAL_NDVI_TRMM\\NDVI_InnerMongolia//CN_2010_NDVI_recon.045.tif"
       ]
      },
      {
       "output_type": "stream",
       "stream": "stdout",
       "text": [
        "\n",
        "D:\\Data\\0_DAILY_INTERVAL_NDVI_TRMM\\NDVI_InnerMongolia//CN_2010_NDVI_recon.046.tif"
       ]
      },
      {
       "output_type": "stream",
       "stream": "stdout",
       "text": [
        "\n",
        "D:\\Data\\0_DAILY_INTERVAL_NDVI_TRMM\\NDVI_InnerMongolia//CN_2010_NDVI_recon.047.tif"
       ]
      },
      {
       "output_type": "stream",
       "stream": "stdout",
       "text": [
        "\n",
        "D:\\Data\\0_DAILY_INTERVAL_NDVI_TRMM\\NDVI_InnerMongolia//CN_2010_NDVI_recon.048.tif"
       ]
      },
      {
       "output_type": "stream",
       "stream": "stdout",
       "text": [
        "\n",
        "D:\\Data\\0_DAILY_INTERVAL_NDVI_TRMM\\NDVI_InnerMongolia//CN_2010_NDVI_recon.049.tif"
       ]
      },
      {
       "output_type": "stream",
       "stream": "stdout",
       "text": [
        "\n",
        "D:\\Data\\0_DAILY_INTERVAL_NDVI_TRMM\\NDVI_InnerMongolia//CN_2010_NDVI_recon.050.tif"
       ]
      },
      {
       "output_type": "stream",
       "stream": "stdout",
       "text": [
        "\n",
        "D:\\Data\\0_DAILY_INTERVAL_NDVI_TRMM\\NDVI_InnerMongolia//CN_2010_NDVI_recon.051.tif"
       ]
      },
      {
       "output_type": "stream",
       "stream": "stdout",
       "text": [
        "\n",
        "D:\\Data\\0_DAILY_INTERVAL_NDVI_TRMM\\NDVI_InnerMongolia//CN_2010_NDVI_recon.052.tif"
       ]
      },
      {
       "output_type": "stream",
       "stream": "stdout",
       "text": [
        "\n",
        "D:\\Data\\0_DAILY_INTERVAL_NDVI_TRMM\\NDVI_InnerMongolia//CN_2010_NDVI_recon.053.tif"
       ]
      },
      {
       "output_type": "stream",
       "stream": "stdout",
       "text": [
        "\n",
        "D:\\Data\\0_DAILY_INTERVAL_NDVI_TRMM\\NDVI_InnerMongolia//CN_2010_NDVI_recon.054.tif"
       ]
      },
      {
       "output_type": "stream",
       "stream": "stdout",
       "text": [
        "\n",
        "D:\\Data\\0_DAILY_INTERVAL_NDVI_TRMM\\NDVI_InnerMongolia//CN_2010_NDVI_recon.055.tif"
       ]
      },
      {
       "output_type": "stream",
       "stream": "stdout",
       "text": [
        "\n",
        "D:\\Data\\0_DAILY_INTERVAL_NDVI_TRMM\\NDVI_InnerMongolia//CN_2010_NDVI_recon.056.tif"
       ]
      },
      {
       "output_type": "stream",
       "stream": "stdout",
       "text": [
        "\n",
        "D:\\Data\\0_DAILY_INTERVAL_NDVI_TRMM\\NDVI_InnerMongolia//CN_2010_NDVI_recon.057.tif"
       ]
      },
      {
       "output_type": "stream",
       "stream": "stdout",
       "text": [
        "\n",
        "D:\\Data\\0_DAILY_INTERVAL_NDVI_TRMM\\NDVI_InnerMongolia//CN_2010_NDVI_recon.058.tif"
       ]
      },
      {
       "output_type": "stream",
       "stream": "stdout",
       "text": [
        "\n",
        "D:\\Data\\0_DAILY_INTERVAL_NDVI_TRMM\\NDVI_InnerMongolia//CN_2010_NDVI_recon.059.tif"
       ]
      },
      {
       "output_type": "stream",
       "stream": "stdout",
       "text": [
        "\n",
        "D:\\Data\\0_DAILY_INTERVAL_NDVI_TRMM\\NDVI_InnerMongolia//CN_2010_NDVI_recon.060.tif"
       ]
      },
      {
       "output_type": "stream",
       "stream": "stdout",
       "text": [
        "\n",
        "D:\\Data\\0_DAILY_INTERVAL_NDVI_TRMM\\NDVI_InnerMongolia//CN_2010_NDVI_recon.061.tif"
       ]
      },
      {
       "output_type": "stream",
       "stream": "stdout",
       "text": [
        "\n",
        "D:\\Data\\0_DAILY_INTERVAL_NDVI_TRMM\\NDVI_InnerMongolia//CN_2010_NDVI_recon.062.tif"
       ]
      },
      {
       "output_type": "stream",
       "stream": "stdout",
       "text": [
        "\n",
        "D:\\Data\\0_DAILY_INTERVAL_NDVI_TRMM\\NDVI_InnerMongolia//CN_2010_NDVI_recon.063.tif"
       ]
      },
      {
       "output_type": "stream",
       "stream": "stdout",
       "text": [
        "\n",
        "D:\\Data\\0_DAILY_INTERVAL_NDVI_TRMM\\NDVI_InnerMongolia//CN_2010_NDVI_recon.064.tif"
       ]
      },
      {
       "output_type": "stream",
       "stream": "stdout",
       "text": [
        "\n",
        "D:\\Data\\0_DAILY_INTERVAL_NDVI_TRMM\\NDVI_InnerMongolia//CN_2010_NDVI_recon.065.tif"
       ]
      },
      {
       "output_type": "stream",
       "stream": "stdout",
       "text": [
        "\n",
        "D:\\Data\\0_DAILY_INTERVAL_NDVI_TRMM\\NDVI_InnerMongolia//CN_2010_NDVI_recon.066.tif"
       ]
      },
      {
       "output_type": "stream",
       "stream": "stdout",
       "text": [
        "\n",
        "D:\\Data\\0_DAILY_INTERVAL_NDVI_TRMM\\NDVI_InnerMongolia//CN_2010_NDVI_recon.067.tif"
       ]
      },
      {
       "output_type": "stream",
       "stream": "stdout",
       "text": [
        "\n",
        "D:\\Data\\0_DAILY_INTERVAL_NDVI_TRMM\\NDVI_InnerMongolia//CN_2010_NDVI_recon.068.tif"
       ]
      },
      {
       "output_type": "stream",
       "stream": "stdout",
       "text": [
        "\n",
        "D:\\Data\\0_DAILY_INTERVAL_NDVI_TRMM\\NDVI_InnerMongolia//CN_2010_NDVI_recon.069.tif"
       ]
      },
      {
       "output_type": "stream",
       "stream": "stdout",
       "text": [
        "\n",
        "D:\\Data\\0_DAILY_INTERVAL_NDVI_TRMM\\NDVI_InnerMongolia//CN_2010_NDVI_recon.070.tif"
       ]
      },
      {
       "output_type": "stream",
       "stream": "stdout",
       "text": [
        "\n",
        "D:\\Data\\0_DAILY_INTERVAL_NDVI_TRMM\\NDVI_InnerMongolia//CN_2010_NDVI_recon.071.tif"
       ]
      },
      {
       "output_type": "stream",
       "stream": "stdout",
       "text": [
        "\n",
        "D:\\Data\\0_DAILY_INTERVAL_NDVI_TRMM\\NDVI_InnerMongolia//CN_2010_NDVI_recon.072.tif"
       ]
      },
      {
       "output_type": "stream",
       "stream": "stdout",
       "text": [
        "\n",
        "D:\\Data\\0_DAILY_INTERVAL_NDVI_TRMM\\NDVI_InnerMongolia//CN_2010_NDVI_recon.073.tif"
       ]
      },
      {
       "output_type": "stream",
       "stream": "stdout",
       "text": [
        "\n",
        "D:\\Data\\0_DAILY_INTERVAL_NDVI_TRMM\\NDVI_InnerMongolia//CN_2010_NDVI_recon.074.tif"
       ]
      },
      {
       "output_type": "stream",
       "stream": "stdout",
       "text": [
        "\n",
        "D:\\Data\\0_DAILY_INTERVAL_NDVI_TRMM\\NDVI_InnerMongolia//CN_2010_NDVI_recon.075.tif"
       ]
      },
      {
       "output_type": "stream",
       "stream": "stdout",
       "text": [
        "\n",
        "D:\\Data\\0_DAILY_INTERVAL_NDVI_TRMM\\NDVI_InnerMongolia//CN_2010_NDVI_recon.076.tif"
       ]
      },
      {
       "output_type": "stream",
       "stream": "stdout",
       "text": [
        "\n",
        "D:\\Data\\0_DAILY_INTERVAL_NDVI_TRMM\\NDVI_InnerMongolia//CN_2010_NDVI_recon.077.tif"
       ]
      },
      {
       "output_type": "stream",
       "stream": "stdout",
       "text": [
        "\n",
        "D:\\Data\\0_DAILY_INTERVAL_NDVI_TRMM\\NDVI_InnerMongolia//CN_2010_NDVI_recon.078.tif"
       ]
      },
      {
       "output_type": "stream",
       "stream": "stdout",
       "text": [
        "\n",
        "D:\\Data\\0_DAILY_INTERVAL_NDVI_TRMM\\NDVI_InnerMongolia//CN_2010_NDVI_recon.079.tif"
       ]
      },
      {
       "output_type": "stream",
       "stream": "stdout",
       "text": [
        "\n",
        "D:\\Data\\0_DAILY_INTERVAL_NDVI_TRMM\\NDVI_InnerMongolia//CN_2010_NDVI_recon.080.tif"
       ]
      },
      {
       "output_type": "stream",
       "stream": "stdout",
       "text": [
        "\n",
        "D:\\Data\\0_DAILY_INTERVAL_NDVI_TRMM\\NDVI_InnerMongolia//CN_2010_NDVI_recon.081.tif"
       ]
      },
      {
       "output_type": "stream",
       "stream": "stdout",
       "text": [
        "\n",
        "D:\\Data\\0_DAILY_INTERVAL_NDVI_TRMM\\NDVI_InnerMongolia//CN_2010_NDVI_recon.082.tif"
       ]
      },
      {
       "output_type": "stream",
       "stream": "stdout",
       "text": [
        "\n",
        "D:\\Data\\0_DAILY_INTERVAL_NDVI_TRMM\\NDVI_InnerMongolia//CN_2010_NDVI_recon.083.tif"
       ]
      },
      {
       "output_type": "stream",
       "stream": "stdout",
       "text": [
        "\n",
        "D:\\Data\\0_DAILY_INTERVAL_NDVI_TRMM\\NDVI_InnerMongolia//CN_2010_NDVI_recon.084.tif"
       ]
      },
      {
       "output_type": "stream",
       "stream": "stdout",
       "text": [
        "\n",
        "D:\\Data\\0_DAILY_INTERVAL_NDVI_TRMM\\NDVI_InnerMongolia//CN_2010_NDVI_recon.085.tif"
       ]
      },
      {
       "output_type": "stream",
       "stream": "stdout",
       "text": [
        "\n",
        "D:\\Data\\0_DAILY_INTERVAL_NDVI_TRMM\\NDVI_InnerMongolia//CN_2010_NDVI_recon.086.tif"
       ]
      },
      {
       "output_type": "stream",
       "stream": "stdout",
       "text": [
        "\n",
        "D:\\Data\\0_DAILY_INTERVAL_NDVI_TRMM\\NDVI_InnerMongolia//CN_2010_NDVI_recon.087.tif"
       ]
      },
      {
       "output_type": "stream",
       "stream": "stdout",
       "text": [
        "\n",
        "D:\\Data\\0_DAILY_INTERVAL_NDVI_TRMM\\NDVI_InnerMongolia//CN_2010_NDVI_recon.088.tif"
       ]
      },
      {
       "output_type": "stream",
       "stream": "stdout",
       "text": [
        "\n",
        "D:\\Data\\0_DAILY_INTERVAL_NDVI_TRMM\\NDVI_InnerMongolia//CN_2010_NDVI_recon.089.tif"
       ]
      },
      {
       "output_type": "stream",
       "stream": "stdout",
       "text": [
        "\n",
        "D:\\Data\\0_DAILY_INTERVAL_NDVI_TRMM\\NDVI_InnerMongolia//CN_2010_NDVI_recon.090.tif"
       ]
      },
      {
       "output_type": "stream",
       "stream": "stdout",
       "text": [
        "\n",
        "D:\\Data\\0_DAILY_INTERVAL_NDVI_TRMM\\NDVI_InnerMongolia//CN_2010_NDVI_recon.091.tif"
       ]
      },
      {
       "output_type": "stream",
       "stream": "stdout",
       "text": [
        "\n",
        "D:\\Data\\0_DAILY_INTERVAL_NDVI_TRMM\\NDVI_InnerMongolia//CN_2010_NDVI_recon.092.tif"
       ]
      },
      {
       "output_type": "stream",
       "stream": "stdout",
       "text": [
        "\n",
        "D:\\Data\\0_DAILY_INTERVAL_NDVI_TRMM\\NDVI_InnerMongolia//CN_2010_NDVI_recon.093.tif"
       ]
      },
      {
       "output_type": "stream",
       "stream": "stdout",
       "text": [
        "\n",
        "D:\\Data\\0_DAILY_INTERVAL_NDVI_TRMM\\NDVI_InnerMongolia//CN_2010_NDVI_recon.094.tif"
       ]
      },
      {
       "output_type": "stream",
       "stream": "stdout",
       "text": [
        "\n",
        "D:\\Data\\0_DAILY_INTERVAL_NDVI_TRMM\\NDVI_InnerMongolia//CN_2010_NDVI_recon.095.tif"
       ]
      },
      {
       "output_type": "stream",
       "stream": "stdout",
       "text": [
        "\n",
        "D:\\Data\\0_DAILY_INTERVAL_NDVI_TRMM\\NDVI_InnerMongolia//CN_2010_NDVI_recon.096.tif"
       ]
      },
      {
       "output_type": "stream",
       "stream": "stdout",
       "text": [
        "\n",
        "D:\\Data\\0_DAILY_INTERVAL_NDVI_TRMM\\NDVI_InnerMongolia//CN_2010_NDVI_recon.097.tif"
       ]
      },
      {
       "output_type": "stream",
       "stream": "stdout",
       "text": [
        "\n",
        "D:\\Data\\0_DAILY_INTERVAL_NDVI_TRMM\\NDVI_InnerMongolia//CN_2010_NDVI_recon.098.tif"
       ]
      },
      {
       "output_type": "stream",
       "stream": "stdout",
       "text": [
        "\n",
        "D:\\Data\\0_DAILY_INTERVAL_NDVI_TRMM\\NDVI_InnerMongolia//CN_2010_NDVI_recon.099.tif"
       ]
      },
      {
       "output_type": "stream",
       "stream": "stdout",
       "text": [
        "\n",
        "D:\\Data\\0_DAILY_INTERVAL_NDVI_TRMM\\NDVI_InnerMongolia//CN_2010_NDVI_recon.100.tif"
       ]
      },
      {
       "output_type": "stream",
       "stream": "stdout",
       "text": [
        "\n",
        "D:\\Data\\0_DAILY_INTERVAL_NDVI_TRMM\\NDVI_InnerMongolia//CN_2010_NDVI_recon.101.tif"
       ]
      },
      {
       "output_type": "stream",
       "stream": "stdout",
       "text": [
        "\n",
        "D:\\Data\\0_DAILY_INTERVAL_NDVI_TRMM\\NDVI_InnerMongolia//CN_2010_NDVI_recon.102.tif"
       ]
      },
      {
       "output_type": "stream",
       "stream": "stdout",
       "text": [
        "\n",
        "D:\\Data\\0_DAILY_INTERVAL_NDVI_TRMM\\NDVI_InnerMongolia//CN_2010_NDVI_recon.103.tif"
       ]
      },
      {
       "output_type": "stream",
       "stream": "stdout",
       "text": [
        "\n",
        "D:\\Data\\0_DAILY_INTERVAL_NDVI_TRMM\\NDVI_InnerMongolia//CN_2010_NDVI_recon.104.tif"
       ]
      },
      {
       "output_type": "stream",
       "stream": "stdout",
       "text": [
        "\n",
        "D:\\Data\\0_DAILY_INTERVAL_NDVI_TRMM\\NDVI_InnerMongolia//CN_2010_NDVI_recon.105.tif"
       ]
      },
      {
       "output_type": "stream",
       "stream": "stdout",
       "text": [
        "\n",
        "D:\\Data\\0_DAILY_INTERVAL_NDVI_TRMM\\NDVI_InnerMongolia//CN_2010_NDVI_recon.106.tif"
       ]
      },
      {
       "output_type": "stream",
       "stream": "stdout",
       "text": [
        "\n",
        "D:\\Data\\0_DAILY_INTERVAL_NDVI_TRMM\\NDVI_InnerMongolia//CN_2010_NDVI_recon.107.tif"
       ]
      },
      {
       "output_type": "stream",
       "stream": "stdout",
       "text": [
        "\n",
        "D:\\Data\\0_DAILY_INTERVAL_NDVI_TRMM\\NDVI_InnerMongolia//CN_2010_NDVI_recon.108.tif"
       ]
      },
      {
       "output_type": "stream",
       "stream": "stdout",
       "text": [
        "\n",
        "D:\\Data\\0_DAILY_INTERVAL_NDVI_TRMM\\NDVI_InnerMongolia//CN_2010_NDVI_recon.109.tif"
       ]
      },
      {
       "output_type": "stream",
       "stream": "stdout",
       "text": [
        "\n",
        "D:\\Data\\0_DAILY_INTERVAL_NDVI_TRMM\\NDVI_InnerMongolia//CN_2010_NDVI_recon.110.tif"
       ]
      },
      {
       "output_type": "stream",
       "stream": "stdout",
       "text": [
        "\n",
        "D:\\Data\\0_DAILY_INTERVAL_NDVI_TRMM\\NDVI_InnerMongolia//CN_2010_NDVI_recon.111.tif"
       ]
      },
      {
       "output_type": "stream",
       "stream": "stdout",
       "text": [
        "\n",
        "D:\\Data\\0_DAILY_INTERVAL_NDVI_TRMM\\NDVI_InnerMongolia//CN_2010_NDVI_recon.112.tif"
       ]
      },
      {
       "output_type": "stream",
       "stream": "stdout",
       "text": [
        "\n",
        "D:\\Data\\0_DAILY_INTERVAL_NDVI_TRMM\\NDVI_InnerMongolia//CN_2010_NDVI_recon.113.tif"
       ]
      },
      {
       "output_type": "stream",
       "stream": "stdout",
       "text": [
        "\n",
        "D:\\Data\\0_DAILY_INTERVAL_NDVI_TRMM\\NDVI_InnerMongolia//CN_2010_NDVI_recon.114.tif"
       ]
      },
      {
       "output_type": "stream",
       "stream": "stdout",
       "text": [
        "\n",
        "D:\\Data\\0_DAILY_INTERVAL_NDVI_TRMM\\NDVI_InnerMongolia//CN_2010_NDVI_recon.115.tif"
       ]
      },
      {
       "output_type": "stream",
       "stream": "stdout",
       "text": [
        "\n",
        "D:\\Data\\0_DAILY_INTERVAL_NDVI_TRMM\\NDVI_InnerMongolia//CN_2010_NDVI_recon.116.tif"
       ]
      },
      {
       "output_type": "stream",
       "stream": "stdout",
       "text": [
        "\n",
        "D:\\Data\\0_DAILY_INTERVAL_NDVI_TRMM\\NDVI_InnerMongolia//CN_2010_NDVI_recon.117.tif"
       ]
      },
      {
       "output_type": "stream",
       "stream": "stdout",
       "text": [
        "\n",
        "D:\\Data\\0_DAILY_INTERVAL_NDVI_TRMM\\NDVI_InnerMongolia//CN_2010_NDVI_recon.118.tif"
       ]
      },
      {
       "output_type": "stream",
       "stream": "stdout",
       "text": [
        "\n",
        "D:\\Data\\0_DAILY_INTERVAL_NDVI_TRMM\\NDVI_InnerMongolia//CN_2010_NDVI_recon.119.tif"
       ]
      },
      {
       "output_type": "stream",
       "stream": "stdout",
       "text": [
        "\n",
        "D:\\Data\\0_DAILY_INTERVAL_NDVI_TRMM\\NDVI_InnerMongolia//CN_2010_NDVI_recon.120.tif"
       ]
      },
      {
       "output_type": "stream",
       "stream": "stdout",
       "text": [
        "\n",
        "D:\\Data\\0_DAILY_INTERVAL_NDVI_TRMM\\NDVI_InnerMongolia//CN_2010_NDVI_recon.121.tif"
       ]
      },
      {
       "output_type": "stream",
       "stream": "stdout",
       "text": [
        "\n",
        "D:\\Data\\0_DAILY_INTERVAL_NDVI_TRMM\\NDVI_InnerMongolia//CN_2010_NDVI_recon.122.tif"
       ]
      },
      {
       "output_type": "stream",
       "stream": "stdout",
       "text": [
        "\n",
        "D:\\Data\\0_DAILY_INTERVAL_NDVI_TRMM\\NDVI_InnerMongolia//CN_2010_NDVI_recon.123.tif"
       ]
      },
      {
       "output_type": "stream",
       "stream": "stdout",
       "text": [
        "\n",
        "D:\\Data\\0_DAILY_INTERVAL_NDVI_TRMM\\NDVI_InnerMongolia//CN_2010_NDVI_recon.124.tif"
       ]
      },
      {
       "output_type": "stream",
       "stream": "stdout",
       "text": [
        "\n",
        "D:\\Data\\0_DAILY_INTERVAL_NDVI_TRMM\\NDVI_InnerMongolia//CN_2010_NDVI_recon.125.tif"
       ]
      },
      {
       "output_type": "stream",
       "stream": "stdout",
       "text": [
        "\n",
        "D:\\Data\\0_DAILY_INTERVAL_NDVI_TRMM\\NDVI_InnerMongolia//CN_2010_NDVI_recon.126.tif"
       ]
      },
      {
       "output_type": "stream",
       "stream": "stdout",
       "text": [
        "\n",
        "D:\\Data\\0_DAILY_INTERVAL_NDVI_TRMM\\NDVI_InnerMongolia//CN_2010_NDVI_recon.127.tif"
       ]
      },
      {
       "output_type": "stream",
       "stream": "stdout",
       "text": [
        "\n",
        "D:\\Data\\0_DAILY_INTERVAL_NDVI_TRMM\\NDVI_InnerMongolia//CN_2010_NDVI_recon.128.tif"
       ]
      },
      {
       "output_type": "stream",
       "stream": "stdout",
       "text": [
        "\n",
        "D:\\Data\\0_DAILY_INTERVAL_NDVI_TRMM\\NDVI_InnerMongolia//CN_2010_NDVI_recon.129.tif"
       ]
      },
      {
       "output_type": "stream",
       "stream": "stdout",
       "text": [
        "\n",
        "D:\\Data\\0_DAILY_INTERVAL_NDVI_TRMM\\NDVI_InnerMongolia//CN_2010_NDVI_recon.130.tif"
       ]
      },
      {
       "output_type": "stream",
       "stream": "stdout",
       "text": [
        "\n",
        "D:\\Data\\0_DAILY_INTERVAL_NDVI_TRMM\\NDVI_InnerMongolia//CN_2010_NDVI_recon.131.tif"
       ]
      },
      {
       "output_type": "stream",
       "stream": "stdout",
       "text": [
        "\n",
        "D:\\Data\\0_DAILY_INTERVAL_NDVI_TRMM\\NDVI_InnerMongolia//CN_2010_NDVI_recon.132.tif"
       ]
      },
      {
       "output_type": "stream",
       "stream": "stdout",
       "text": [
        "\n",
        "D:\\Data\\0_DAILY_INTERVAL_NDVI_TRMM\\NDVI_InnerMongolia//CN_2010_NDVI_recon.133.tif"
       ]
      },
      {
       "output_type": "stream",
       "stream": "stdout",
       "text": [
        "\n",
        "D:\\Data\\0_DAILY_INTERVAL_NDVI_TRMM\\NDVI_InnerMongolia//CN_2010_NDVI_recon.134.tif"
       ]
      },
      {
       "output_type": "stream",
       "stream": "stdout",
       "text": [
        "\n",
        "D:\\Data\\0_DAILY_INTERVAL_NDVI_TRMM\\NDVI_InnerMongolia//CN_2010_NDVI_recon.135.tif"
       ]
      },
      {
       "output_type": "stream",
       "stream": "stdout",
       "text": [
        "\n",
        "D:\\Data\\0_DAILY_INTERVAL_NDVI_TRMM\\NDVI_InnerMongolia//CN_2010_NDVI_recon.136.tif"
       ]
      },
      {
       "output_type": "stream",
       "stream": "stdout",
       "text": [
        "\n",
        "D:\\Data\\0_DAILY_INTERVAL_NDVI_TRMM\\NDVI_InnerMongolia//CN_2010_NDVI_recon.137.tif"
       ]
      },
      {
       "output_type": "stream",
       "stream": "stdout",
       "text": [
        "\n",
        "D:\\Data\\0_DAILY_INTERVAL_NDVI_TRMM\\NDVI_InnerMongolia//CN_2010_NDVI_recon.138.tif"
       ]
      },
      {
       "output_type": "stream",
       "stream": "stdout",
       "text": [
        "\n",
        "D:\\Data\\0_DAILY_INTERVAL_NDVI_TRMM\\NDVI_InnerMongolia//CN_2010_NDVI_recon.139.tif"
       ]
      },
      {
       "output_type": "stream",
       "stream": "stdout",
       "text": [
        "\n",
        "D:\\Data\\0_DAILY_INTERVAL_NDVI_TRMM\\NDVI_InnerMongolia//CN_2010_NDVI_recon.140.tif"
       ]
      },
      {
       "output_type": "stream",
       "stream": "stdout",
       "text": [
        "\n",
        "D:\\Data\\0_DAILY_INTERVAL_NDVI_TRMM\\NDVI_InnerMongolia//CN_2010_NDVI_recon.141.tif"
       ]
      },
      {
       "output_type": "stream",
       "stream": "stdout",
       "text": [
        "\n",
        "D:\\Data\\0_DAILY_INTERVAL_NDVI_TRMM\\NDVI_InnerMongolia//CN_2010_NDVI_recon.142.tif"
       ]
      },
      {
       "output_type": "stream",
       "stream": "stdout",
       "text": [
        "\n",
        "D:\\Data\\0_DAILY_INTERVAL_NDVI_TRMM\\NDVI_InnerMongolia//CN_2010_NDVI_recon.143.tif"
       ]
      },
      {
       "output_type": "stream",
       "stream": "stdout",
       "text": [
        "\n",
        "D:\\Data\\0_DAILY_INTERVAL_NDVI_TRMM\\NDVI_InnerMongolia//CN_2010_NDVI_recon.144.tif"
       ]
      },
      {
       "output_type": "stream",
       "stream": "stdout",
       "text": [
        "\n",
        "D:\\Data\\0_DAILY_INTERVAL_NDVI_TRMM\\NDVI_InnerMongolia//CN_2010_NDVI_recon.145.tif"
       ]
      },
      {
       "output_type": "stream",
       "stream": "stdout",
       "text": [
        "\n",
        "D:\\Data\\0_DAILY_INTERVAL_NDVI_TRMM\\NDVI_InnerMongolia//CN_2010_NDVI_recon.146.tif"
       ]
      },
      {
       "output_type": "stream",
       "stream": "stdout",
       "text": [
        "\n",
        "D:\\Data\\0_DAILY_INTERVAL_NDVI_TRMM\\NDVI_InnerMongolia//CN_2010_NDVI_recon.147.tif"
       ]
      },
      {
       "output_type": "stream",
       "stream": "stdout",
       "text": [
        "\n",
        "D:\\Data\\0_DAILY_INTERVAL_NDVI_TRMM\\NDVI_InnerMongolia//CN_2010_NDVI_recon.148.tif"
       ]
      },
      {
       "output_type": "stream",
       "stream": "stdout",
       "text": [
        "\n",
        "D:\\Data\\0_DAILY_INTERVAL_NDVI_TRMM\\NDVI_InnerMongolia//CN_2010_NDVI_recon.149.tif"
       ]
      },
      {
       "output_type": "stream",
       "stream": "stdout",
       "text": [
        "\n",
        "D:\\Data\\0_DAILY_INTERVAL_NDVI_TRMM\\NDVI_InnerMongolia//CN_2010_NDVI_recon.150.tif"
       ]
      },
      {
       "output_type": "stream",
       "stream": "stdout",
       "text": [
        "\n",
        "D:\\Data\\0_DAILY_INTERVAL_NDVI_TRMM\\NDVI_InnerMongolia//CN_2010_NDVI_recon.151.tif"
       ]
      },
      {
       "output_type": "stream",
       "stream": "stdout",
       "text": [
        "\n",
        "D:\\Data\\0_DAILY_INTERVAL_NDVI_TRMM\\NDVI_InnerMongolia//CN_2010_NDVI_recon.152.tif"
       ]
      },
      {
       "output_type": "stream",
       "stream": "stdout",
       "text": [
        "\n",
        "D:\\Data\\0_DAILY_INTERVAL_NDVI_TRMM\\NDVI_InnerMongolia//CN_2010_NDVI_recon.153.tif"
       ]
      },
      {
       "output_type": "stream",
       "stream": "stdout",
       "text": [
        "\n",
        "D:\\Data\\0_DAILY_INTERVAL_NDVI_TRMM\\NDVI_InnerMongolia//CN_2010_NDVI_recon.154.tif"
       ]
      },
      {
       "output_type": "stream",
       "stream": "stdout",
       "text": [
        "\n",
        "D:\\Data\\0_DAILY_INTERVAL_NDVI_TRMM\\NDVI_InnerMongolia//CN_2010_NDVI_recon.155.tif"
       ]
      },
      {
       "output_type": "stream",
       "stream": "stdout",
       "text": [
        "\n",
        "D:\\Data\\0_DAILY_INTERVAL_NDVI_TRMM\\NDVI_InnerMongolia//CN_2010_NDVI_recon.156.tif"
       ]
      },
      {
       "output_type": "stream",
       "stream": "stdout",
       "text": [
        "\n",
        "D:\\Data\\0_DAILY_INTERVAL_NDVI_TRMM\\NDVI_InnerMongolia//CN_2010_NDVI_recon.157.tif"
       ]
      },
      {
       "output_type": "stream",
       "stream": "stdout",
       "text": [
        "\n",
        "D:\\Data\\0_DAILY_INTERVAL_NDVI_TRMM\\NDVI_InnerMongolia//CN_2010_NDVI_recon.158.tif"
       ]
      },
      {
       "output_type": "stream",
       "stream": "stdout",
       "text": [
        "\n",
        "D:\\Data\\0_DAILY_INTERVAL_NDVI_TRMM\\NDVI_InnerMongolia//CN_2010_NDVI_recon.159.tif"
       ]
      },
      {
       "output_type": "stream",
       "stream": "stdout",
       "text": [
        "\n",
        "D:\\Data\\0_DAILY_INTERVAL_NDVI_TRMM\\NDVI_InnerMongolia//CN_2010_NDVI_recon.160.tif"
       ]
      },
      {
       "output_type": "stream",
       "stream": "stdout",
       "text": [
        "\n",
        "D:\\Data\\0_DAILY_INTERVAL_NDVI_TRMM\\NDVI_InnerMongolia//CN_2010_NDVI_recon.161.tif"
       ]
      },
      {
       "output_type": "stream",
       "stream": "stdout",
       "text": [
        "\n",
        "D:\\Data\\0_DAILY_INTERVAL_NDVI_TRMM\\NDVI_InnerMongolia//CN_2010_NDVI_recon.162.tif"
       ]
      },
      {
       "output_type": "stream",
       "stream": "stdout",
       "text": [
        "\n",
        "D:\\Data\\0_DAILY_INTERVAL_NDVI_TRMM\\NDVI_InnerMongolia//CN_2010_NDVI_recon.163.tif"
       ]
      },
      {
       "output_type": "stream",
       "stream": "stdout",
       "text": [
        "\n",
        "D:\\Data\\0_DAILY_INTERVAL_NDVI_TRMM\\NDVI_InnerMongolia//CN_2010_NDVI_recon.164.tif"
       ]
      },
      {
       "output_type": "stream",
       "stream": "stdout",
       "text": [
        "\n",
        "D:\\Data\\0_DAILY_INTERVAL_NDVI_TRMM\\NDVI_InnerMongolia//CN_2010_NDVI_recon.165.tif"
       ]
      },
      {
       "output_type": "stream",
       "stream": "stdout",
       "text": [
        "\n",
        "D:\\Data\\0_DAILY_INTERVAL_NDVI_TRMM\\NDVI_InnerMongolia//CN_2010_NDVI_recon.166.tif"
       ]
      },
      {
       "output_type": "stream",
       "stream": "stdout",
       "text": [
        "\n",
        "D:\\Data\\0_DAILY_INTERVAL_NDVI_TRMM\\NDVI_InnerMongolia//CN_2010_NDVI_recon.167.tif"
       ]
      },
      {
       "output_type": "stream",
       "stream": "stdout",
       "text": [
        "\n",
        "D:\\Data\\0_DAILY_INTERVAL_NDVI_TRMM\\NDVI_InnerMongolia//CN_2010_NDVI_recon.168.tif"
       ]
      },
      {
       "output_type": "stream",
       "stream": "stdout",
       "text": [
        "\n",
        "D:\\Data\\0_DAILY_INTERVAL_NDVI_TRMM\\NDVI_InnerMongolia//CN_2010_NDVI_recon.169.tif"
       ]
      },
      {
       "output_type": "stream",
       "stream": "stdout",
       "text": [
        "\n",
        "D:\\Data\\0_DAILY_INTERVAL_NDVI_TRMM\\NDVI_InnerMongolia//CN_2010_NDVI_recon.170.tif"
       ]
      },
      {
       "output_type": "stream",
       "stream": "stdout",
       "text": [
        "\n",
        "D:\\Data\\0_DAILY_INTERVAL_NDVI_TRMM\\NDVI_InnerMongolia//CN_2010_NDVI_recon.171.tif"
       ]
      },
      {
       "output_type": "stream",
       "stream": "stdout",
       "text": [
        "\n",
        "D:\\Data\\0_DAILY_INTERVAL_NDVI_TRMM\\NDVI_InnerMongolia//CN_2010_NDVI_recon.172.tif"
       ]
      },
      {
       "output_type": "stream",
       "stream": "stdout",
       "text": [
        "\n",
        "D:\\Data\\0_DAILY_INTERVAL_NDVI_TRMM\\NDVI_InnerMongolia//CN_2010_NDVI_recon.173.tif"
       ]
      },
      {
       "output_type": "stream",
       "stream": "stdout",
       "text": [
        "\n",
        "D:\\Data\\0_DAILY_INTERVAL_NDVI_TRMM\\NDVI_InnerMongolia//CN_2010_NDVI_recon.174.tif"
       ]
      },
      {
       "output_type": "stream",
       "stream": "stdout",
       "text": [
        "\n",
        "D:\\Data\\0_DAILY_INTERVAL_NDVI_TRMM\\NDVI_InnerMongolia//CN_2010_NDVI_recon.175.tif"
       ]
      },
      {
       "output_type": "stream",
       "stream": "stdout",
       "text": [
        "\n",
        "D:\\Data\\0_DAILY_INTERVAL_NDVI_TRMM\\NDVI_InnerMongolia//CN_2010_NDVI_recon.176.tif"
       ]
      },
      {
       "output_type": "stream",
       "stream": "stdout",
       "text": [
        "\n",
        "D:\\Data\\0_DAILY_INTERVAL_NDVI_TRMM\\NDVI_InnerMongolia//CN_2010_NDVI_recon.177.tif"
       ]
      },
      {
       "output_type": "stream",
       "stream": "stdout",
       "text": [
        "\n",
        "D:\\Data\\0_DAILY_INTERVAL_NDVI_TRMM\\NDVI_InnerMongolia//CN_2010_NDVI_recon.178.tif"
       ]
      },
      {
       "output_type": "stream",
       "stream": "stdout",
       "text": [
        "\n",
        "D:\\Data\\0_DAILY_INTERVAL_NDVI_TRMM\\NDVI_InnerMongolia//CN_2010_NDVI_recon.179.tif"
       ]
      },
      {
       "output_type": "stream",
       "stream": "stdout",
       "text": [
        "\n",
        "D:\\Data\\0_DAILY_INTERVAL_NDVI_TRMM\\NDVI_InnerMongolia//CN_2010_NDVI_recon.180.tif"
       ]
      },
      {
       "output_type": "stream",
       "stream": "stdout",
       "text": [
        "\n",
        "D:\\Data\\0_DAILY_INTERVAL_NDVI_TRMM\\NDVI_InnerMongolia//CN_2010_NDVI_recon.181.tif"
       ]
      },
      {
       "output_type": "stream",
       "stream": "stdout",
       "text": [
        "\n",
        "D:\\Data\\0_DAILY_INTERVAL_NDVI_TRMM\\NDVI_InnerMongolia//CN_2010_NDVI_recon.182.tif"
       ]
      },
      {
       "output_type": "stream",
       "stream": "stdout",
       "text": [
        "\n",
        "D:\\Data\\0_DAILY_INTERVAL_NDVI_TRMM\\NDVI_InnerMongolia//CN_2010_NDVI_recon.183.tif"
       ]
      },
      {
       "output_type": "stream",
       "stream": "stdout",
       "text": [
        "\n",
        "D:\\Data\\0_DAILY_INTERVAL_NDVI_TRMM\\NDVI_InnerMongolia//CN_2010_NDVI_recon.184.tif"
       ]
      },
      {
       "output_type": "stream",
       "stream": "stdout",
       "text": [
        "\n",
        "D:\\Data\\0_DAILY_INTERVAL_NDVI_TRMM\\NDVI_InnerMongolia//CN_2010_NDVI_recon.185.tif"
       ]
      },
      {
       "output_type": "stream",
       "stream": "stdout",
       "text": [
        "\n",
        "D:\\Data\\0_DAILY_INTERVAL_NDVI_TRMM\\NDVI_InnerMongolia//CN_2010_NDVI_recon.186.tif"
       ]
      },
      {
       "output_type": "stream",
       "stream": "stdout",
       "text": [
        "\n",
        "D:\\Data\\0_DAILY_INTERVAL_NDVI_TRMM\\NDVI_InnerMongolia//CN_2010_NDVI_recon.187.tif"
       ]
      },
      {
       "output_type": "stream",
       "stream": "stdout",
       "text": [
        "\n",
        "D:\\Data\\0_DAILY_INTERVAL_NDVI_TRMM\\NDVI_InnerMongolia//CN_2010_NDVI_recon.188.tif"
       ]
      },
      {
       "output_type": "stream",
       "stream": "stdout",
       "text": [
        "\n",
        "D:\\Data\\0_DAILY_INTERVAL_NDVI_TRMM\\NDVI_InnerMongolia//CN_2010_NDVI_recon.189.tif"
       ]
      },
      {
       "output_type": "stream",
       "stream": "stdout",
       "text": [
        "\n",
        "D:\\Data\\0_DAILY_INTERVAL_NDVI_TRMM\\NDVI_InnerMongolia//CN_2010_NDVI_recon.190.tif"
       ]
      },
      {
       "output_type": "stream",
       "stream": "stdout",
       "text": [
        "\n",
        "D:\\Data\\0_DAILY_INTERVAL_NDVI_TRMM\\NDVI_InnerMongolia//CN_2010_NDVI_recon.191.tif"
       ]
      },
      {
       "output_type": "stream",
       "stream": "stdout",
       "text": [
        "\n",
        "D:\\Data\\0_DAILY_INTERVAL_NDVI_TRMM\\NDVI_InnerMongolia//CN_2010_NDVI_recon.192.tif"
       ]
      },
      {
       "output_type": "stream",
       "stream": "stdout",
       "text": [
        "\n",
        "D:\\Data\\0_DAILY_INTERVAL_NDVI_TRMM\\NDVI_InnerMongolia//CN_2010_NDVI_recon.193.tif"
       ]
      },
      {
       "output_type": "stream",
       "stream": "stdout",
       "text": [
        "\n",
        "D:\\Data\\0_DAILY_INTERVAL_NDVI_TRMM\\NDVI_InnerMongolia//CN_2010_NDVI_recon.194.tif"
       ]
      },
      {
       "output_type": "stream",
       "stream": "stdout",
       "text": [
        "\n",
        "D:\\Data\\0_DAILY_INTERVAL_NDVI_TRMM\\NDVI_InnerMongolia//CN_2010_NDVI_recon.195.tif"
       ]
      },
      {
       "output_type": "stream",
       "stream": "stdout",
       "text": [
        "\n",
        "D:\\Data\\0_DAILY_INTERVAL_NDVI_TRMM\\NDVI_InnerMongolia//CN_2010_NDVI_recon.196.tif"
       ]
      },
      {
       "output_type": "stream",
       "stream": "stdout",
       "text": [
        "\n",
        "D:\\Data\\0_DAILY_INTERVAL_NDVI_TRMM\\NDVI_InnerMongolia//CN_2010_NDVI_recon.197.tif"
       ]
      },
      {
       "output_type": "stream",
       "stream": "stdout",
       "text": [
        "\n",
        "D:\\Data\\0_DAILY_INTERVAL_NDVI_TRMM\\NDVI_InnerMongolia//CN_2010_NDVI_recon.198.tif"
       ]
      },
      {
       "output_type": "stream",
       "stream": "stdout",
       "text": [
        "\n",
        "D:\\Data\\0_DAILY_INTERVAL_NDVI_TRMM\\NDVI_InnerMongolia//CN_2010_NDVI_recon.199.tif"
       ]
      },
      {
       "output_type": "stream",
       "stream": "stdout",
       "text": [
        "\n",
        "D:\\Data\\0_DAILY_INTERVAL_NDVI_TRMM\\NDVI_InnerMongolia//CN_2010_NDVI_recon.200.tif"
       ]
      },
      {
       "output_type": "stream",
       "stream": "stdout",
       "text": [
        "\n",
        "D:\\Data\\0_DAILY_INTERVAL_NDVI_TRMM\\NDVI_InnerMongolia//CN_2010_NDVI_recon.201.tif"
       ]
      },
      {
       "output_type": "stream",
       "stream": "stdout",
       "text": [
        "\n",
        "D:\\Data\\0_DAILY_INTERVAL_NDVI_TRMM\\NDVI_InnerMongolia//CN_2010_NDVI_recon.202.tif"
       ]
      },
      {
       "output_type": "stream",
       "stream": "stdout",
       "text": [
        "\n",
        "D:\\Data\\0_DAILY_INTERVAL_NDVI_TRMM\\NDVI_InnerMongolia//CN_2010_NDVI_recon.203.tif"
       ]
      },
      {
       "output_type": "stream",
       "stream": "stdout",
       "text": [
        "\n",
        "D:\\Data\\0_DAILY_INTERVAL_NDVI_TRMM\\NDVI_InnerMongolia//CN_2010_NDVI_recon.204.tif"
       ]
      },
      {
       "output_type": "stream",
       "stream": "stdout",
       "text": [
        "\n",
        "D:\\Data\\0_DAILY_INTERVAL_NDVI_TRMM\\NDVI_InnerMongolia//CN_2010_NDVI_recon.205.tif"
       ]
      },
      {
       "output_type": "stream",
       "stream": "stdout",
       "text": [
        "\n",
        "D:\\Data\\0_DAILY_INTERVAL_NDVI_TRMM\\NDVI_InnerMongolia//CN_2010_NDVI_recon.206.tif"
       ]
      },
      {
       "output_type": "stream",
       "stream": "stdout",
       "text": [
        "\n",
        "D:\\Data\\0_DAILY_INTERVAL_NDVI_TRMM\\NDVI_InnerMongolia//CN_2010_NDVI_recon.207.tif"
       ]
      },
      {
       "output_type": "stream",
       "stream": "stdout",
       "text": [
        "\n",
        "D:\\Data\\0_DAILY_INTERVAL_NDVI_TRMM\\NDVI_InnerMongolia//CN_2010_NDVI_recon.208.tif"
       ]
      },
      {
       "output_type": "stream",
       "stream": "stdout",
       "text": [
        "\n",
        "D:\\Data\\0_DAILY_INTERVAL_NDVI_TRMM\\NDVI_InnerMongolia//CN_2010_NDVI_recon.209.tif"
       ]
      },
      {
       "output_type": "stream",
       "stream": "stdout",
       "text": [
        "\n",
        "D:\\Data\\0_DAILY_INTERVAL_NDVI_TRMM\\NDVI_InnerMongolia//CN_2010_NDVI_recon.210.tif"
       ]
      },
      {
       "output_type": "stream",
       "stream": "stdout",
       "text": [
        "\n",
        "D:\\Data\\0_DAILY_INTERVAL_NDVI_TRMM\\NDVI_InnerMongolia//CN_2010_NDVI_recon.211.tif"
       ]
      },
      {
       "output_type": "stream",
       "stream": "stdout",
       "text": [
        "\n",
        "D:\\Data\\0_DAILY_INTERVAL_NDVI_TRMM\\NDVI_InnerMongolia//CN_2010_NDVI_recon.212.tif"
       ]
      },
      {
       "output_type": "stream",
       "stream": "stdout",
       "text": [
        "\n",
        "D:\\Data\\0_DAILY_INTERVAL_NDVI_TRMM\\NDVI_InnerMongolia//CN_2010_NDVI_recon.213.tif"
       ]
      },
      {
       "output_type": "stream",
       "stream": "stdout",
       "text": [
        "\n",
        "D:\\Data\\0_DAILY_INTERVAL_NDVI_TRMM\\NDVI_InnerMongolia//CN_2010_NDVI_recon.214.tif"
       ]
      },
      {
       "output_type": "stream",
       "stream": "stdout",
       "text": [
        "\n",
        "D:\\Data\\0_DAILY_INTERVAL_NDVI_TRMM\\NDVI_InnerMongolia//CN_2010_NDVI_recon.215.tif"
       ]
      },
      {
       "output_type": "stream",
       "stream": "stdout",
       "text": [
        "\n",
        "D:\\Data\\0_DAILY_INTERVAL_NDVI_TRMM\\NDVI_InnerMongolia//CN_2010_NDVI_recon.216.tif"
       ]
      },
      {
       "output_type": "stream",
       "stream": "stdout",
       "text": [
        "\n",
        "D:\\Data\\0_DAILY_INTERVAL_NDVI_TRMM\\NDVI_InnerMongolia//CN_2010_NDVI_recon.217.tif"
       ]
      },
      {
       "output_type": "stream",
       "stream": "stdout",
       "text": [
        "\n",
        "D:\\Data\\0_DAILY_INTERVAL_NDVI_TRMM\\NDVI_InnerMongolia//CN_2010_NDVI_recon.218.tif"
       ]
      },
      {
       "output_type": "stream",
       "stream": "stdout",
       "text": [
        "\n",
        "D:\\Data\\0_DAILY_INTERVAL_NDVI_TRMM\\NDVI_InnerMongolia//CN_2010_NDVI_recon.219.tif"
       ]
      },
      {
       "output_type": "stream",
       "stream": "stdout",
       "text": [
        "\n",
        "D:\\Data\\0_DAILY_INTERVAL_NDVI_TRMM\\NDVI_InnerMongolia//CN_2010_NDVI_recon.220.tif"
       ]
      },
      {
       "output_type": "stream",
       "stream": "stdout",
       "text": [
        "\n",
        "D:\\Data\\0_DAILY_INTERVAL_NDVI_TRMM\\NDVI_InnerMongolia//CN_2010_NDVI_recon.221.tif"
       ]
      },
      {
       "output_type": "stream",
       "stream": "stdout",
       "text": [
        "\n",
        "D:\\Data\\0_DAILY_INTERVAL_NDVI_TRMM\\NDVI_InnerMongolia//CN_2010_NDVI_recon.222.tif"
       ]
      },
      {
       "output_type": "stream",
       "stream": "stdout",
       "text": [
        "\n",
        "D:\\Data\\0_DAILY_INTERVAL_NDVI_TRMM\\NDVI_InnerMongolia//CN_2010_NDVI_recon.223.tif"
       ]
      },
      {
       "output_type": "stream",
       "stream": "stdout",
       "text": [
        "\n",
        "D:\\Data\\0_DAILY_INTERVAL_NDVI_TRMM\\NDVI_InnerMongolia//CN_2010_NDVI_recon.224.tif"
       ]
      },
      {
       "output_type": "stream",
       "stream": "stdout",
       "text": [
        "\n",
        "D:\\Data\\0_DAILY_INTERVAL_NDVI_TRMM\\NDVI_InnerMongolia//CN_2010_NDVI_recon.225.tif"
       ]
      },
      {
       "output_type": "stream",
       "stream": "stdout",
       "text": [
        "\n",
        "D:\\Data\\0_DAILY_INTERVAL_NDVI_TRMM\\NDVI_InnerMongolia//CN_2010_NDVI_recon.226.tif"
       ]
      },
      {
       "output_type": "stream",
       "stream": "stdout",
       "text": [
        "\n",
        "D:\\Data\\0_DAILY_INTERVAL_NDVI_TRMM\\NDVI_InnerMongolia//CN_2010_NDVI_recon.227.tif"
       ]
      },
      {
       "output_type": "stream",
       "stream": "stdout",
       "text": [
        "\n",
        "D:\\Data\\0_DAILY_INTERVAL_NDVI_TRMM\\NDVI_InnerMongolia//CN_2010_NDVI_recon.228.tif"
       ]
      },
      {
       "output_type": "stream",
       "stream": "stdout",
       "text": [
        "\n",
        "D:\\Data\\0_DAILY_INTERVAL_NDVI_TRMM\\NDVI_InnerMongolia//CN_2010_NDVI_recon.229.tif"
       ]
      },
      {
       "output_type": "stream",
       "stream": "stdout",
       "text": [
        "\n",
        "D:\\Data\\0_DAILY_INTERVAL_NDVI_TRMM\\NDVI_InnerMongolia//CN_2010_NDVI_recon.230.tif"
       ]
      },
      {
       "output_type": "stream",
       "stream": "stdout",
       "text": [
        "\n",
        "D:\\Data\\0_DAILY_INTERVAL_NDVI_TRMM\\NDVI_InnerMongolia//CN_2010_NDVI_recon.231.tif"
       ]
      },
      {
       "output_type": "stream",
       "stream": "stdout",
       "text": [
        "\n",
        "D:\\Data\\0_DAILY_INTERVAL_NDVI_TRMM\\NDVI_InnerMongolia//CN_2010_NDVI_recon.232.tif"
       ]
      },
      {
       "output_type": "stream",
       "stream": "stdout",
       "text": [
        "\n",
        "D:\\Data\\0_DAILY_INTERVAL_NDVI_TRMM\\NDVI_InnerMongolia//CN_2010_NDVI_recon.233.tif"
       ]
      },
      {
       "output_type": "stream",
       "stream": "stdout",
       "text": [
        "\n",
        "D:\\Data\\0_DAILY_INTERVAL_NDVI_TRMM\\NDVI_InnerMongolia//CN_2010_NDVI_recon.234.tif"
       ]
      },
      {
       "output_type": "stream",
       "stream": "stdout",
       "text": [
        "\n",
        "D:\\Data\\0_DAILY_INTERVAL_NDVI_TRMM\\NDVI_InnerMongolia//CN_2010_NDVI_recon.235.tif"
       ]
      },
      {
       "output_type": "stream",
       "stream": "stdout",
       "text": [
        "\n",
        "D:\\Data\\0_DAILY_INTERVAL_NDVI_TRMM\\NDVI_InnerMongolia//CN_2010_NDVI_recon.236.tif"
       ]
      },
      {
       "output_type": "stream",
       "stream": "stdout",
       "text": [
        "\n",
        "D:\\Data\\0_DAILY_INTERVAL_NDVI_TRMM\\NDVI_InnerMongolia//CN_2010_NDVI_recon.237.tif"
       ]
      },
      {
       "output_type": "stream",
       "stream": "stdout",
       "text": [
        "\n",
        "D:\\Data\\0_DAILY_INTERVAL_NDVI_TRMM\\NDVI_InnerMongolia//CN_2010_NDVI_recon.238.tif"
       ]
      },
      {
       "output_type": "stream",
       "stream": "stdout",
       "text": [
        "\n",
        "D:\\Data\\0_DAILY_INTERVAL_NDVI_TRMM\\NDVI_InnerMongolia//CN_2010_NDVI_recon.239.tif"
       ]
      },
      {
       "output_type": "stream",
       "stream": "stdout",
       "text": [
        "\n",
        "D:\\Data\\0_DAILY_INTERVAL_NDVI_TRMM\\NDVI_InnerMongolia//CN_2010_NDVI_recon.240.tif"
       ]
      },
      {
       "output_type": "stream",
       "stream": "stdout",
       "text": [
        "\n",
        "D:\\Data\\0_DAILY_INTERVAL_NDVI_TRMM\\NDVI_InnerMongolia//CN_2010_NDVI_recon.241.tif"
       ]
      },
      {
       "output_type": "stream",
       "stream": "stdout",
       "text": [
        "\n",
        "D:\\Data\\0_DAILY_INTERVAL_NDVI_TRMM\\NDVI_InnerMongolia//CN_2010_NDVI_recon.242.tif"
       ]
      },
      {
       "output_type": "stream",
       "stream": "stdout",
       "text": [
        "\n",
        "D:\\Data\\0_DAILY_INTERVAL_NDVI_TRMM\\NDVI_InnerMongolia//CN_2010_NDVI_recon.243.tif"
       ]
      },
      {
       "output_type": "stream",
       "stream": "stdout",
       "text": [
        "\n",
        "D:\\Data\\0_DAILY_INTERVAL_NDVI_TRMM\\NDVI_InnerMongolia//CN_2010_NDVI_recon.244.tif"
       ]
      },
      {
       "output_type": "stream",
       "stream": "stdout",
       "text": [
        "\n",
        "D:\\Data\\0_DAILY_INTERVAL_NDVI_TRMM\\NDVI_InnerMongolia//CN_2010_NDVI_recon.245.tif"
       ]
      },
      {
       "output_type": "stream",
       "stream": "stdout",
       "text": [
        "\n",
        "D:\\Data\\0_DAILY_INTERVAL_NDVI_TRMM\\NDVI_InnerMongolia//CN_2010_NDVI_recon.246.tif"
       ]
      },
      {
       "output_type": "stream",
       "stream": "stdout",
       "text": [
        "\n",
        "D:\\Data\\0_DAILY_INTERVAL_NDVI_TRMM\\NDVI_InnerMongolia//CN_2010_NDVI_recon.247.tif"
       ]
      },
      {
       "output_type": "stream",
       "stream": "stdout",
       "text": [
        "\n",
        "D:\\Data\\0_DAILY_INTERVAL_NDVI_TRMM\\NDVI_InnerMongolia//CN_2010_NDVI_recon.248.tif"
       ]
      },
      {
       "output_type": "stream",
       "stream": "stdout",
       "text": [
        "\n",
        "D:\\Data\\0_DAILY_INTERVAL_NDVI_TRMM\\NDVI_InnerMongolia//CN_2010_NDVI_recon.249.tif"
       ]
      },
      {
       "output_type": "stream",
       "stream": "stdout",
       "text": [
        "\n",
        "D:\\Data\\0_DAILY_INTERVAL_NDVI_TRMM\\NDVI_InnerMongolia//CN_2010_NDVI_recon.250.tif"
       ]
      },
      {
       "output_type": "stream",
       "stream": "stdout",
       "text": [
        "\n",
        "D:\\Data\\0_DAILY_INTERVAL_NDVI_TRMM\\NDVI_InnerMongolia//CN_2010_NDVI_recon.251.tif"
       ]
      },
      {
       "output_type": "stream",
       "stream": "stdout",
       "text": [
        "\n",
        "D:\\Data\\0_DAILY_INTERVAL_NDVI_TRMM\\NDVI_InnerMongolia//CN_2010_NDVI_recon.252.tif"
       ]
      },
      {
       "output_type": "stream",
       "stream": "stdout",
       "text": [
        "\n",
        "D:\\Data\\0_DAILY_INTERVAL_NDVI_TRMM\\NDVI_InnerMongolia//CN_2010_NDVI_recon.253.tif"
       ]
      },
      {
       "output_type": "stream",
       "stream": "stdout",
       "text": [
        "\n",
        "D:\\Data\\0_DAILY_INTERVAL_NDVI_TRMM\\NDVI_InnerMongolia//CN_2010_NDVI_recon.254.tif"
       ]
      },
      {
       "output_type": "stream",
       "stream": "stdout",
       "text": [
        "\n",
        "D:\\Data\\0_DAILY_INTERVAL_NDVI_TRMM\\NDVI_InnerMongolia//CN_2010_NDVI_recon.255.tif"
       ]
      },
      {
       "output_type": "stream",
       "stream": "stdout",
       "text": [
        "\n",
        "D:\\Data\\0_DAILY_INTERVAL_NDVI_TRMM\\NDVI_InnerMongolia//CN_2010_NDVI_recon.256.tif"
       ]
      },
      {
       "output_type": "stream",
       "stream": "stdout",
       "text": [
        "\n",
        "D:\\Data\\0_DAILY_INTERVAL_NDVI_TRMM\\NDVI_InnerMongolia//CN_2010_NDVI_recon.257.tif"
       ]
      },
      {
       "output_type": "stream",
       "stream": "stdout",
       "text": [
        "\n",
        "D:\\Data\\0_DAILY_INTERVAL_NDVI_TRMM\\NDVI_InnerMongolia//CN_2010_NDVI_recon.258.tif"
       ]
      },
      {
       "output_type": "stream",
       "stream": "stdout",
       "text": [
        "\n",
        "D:\\Data\\0_DAILY_INTERVAL_NDVI_TRMM\\NDVI_InnerMongolia//CN_2010_NDVI_recon.259.tif"
       ]
      },
      {
       "output_type": "stream",
       "stream": "stdout",
       "text": [
        "\n",
        "D:\\Data\\0_DAILY_INTERVAL_NDVI_TRMM\\NDVI_InnerMongolia//CN_2010_NDVI_recon.260.tif"
       ]
      },
      {
       "output_type": "stream",
       "stream": "stdout",
       "text": [
        "\n",
        "D:\\Data\\0_DAILY_INTERVAL_NDVI_TRMM\\NDVI_InnerMongolia//CN_2010_NDVI_recon.261.tif"
       ]
      },
      {
       "output_type": "stream",
       "stream": "stdout",
       "text": [
        "\n",
        "D:\\Data\\0_DAILY_INTERVAL_NDVI_TRMM\\NDVI_InnerMongolia//CN_2010_NDVI_recon.262.tif"
       ]
      },
      {
       "output_type": "stream",
       "stream": "stdout",
       "text": [
        "\n",
        "D:\\Data\\0_DAILY_INTERVAL_NDVI_TRMM\\NDVI_InnerMongolia//CN_2010_NDVI_recon.263.tif"
       ]
      },
      {
       "output_type": "stream",
       "stream": "stdout",
       "text": [
        "\n",
        "D:\\Data\\0_DAILY_INTERVAL_NDVI_TRMM\\NDVI_InnerMongolia//CN_2010_NDVI_recon.264.tif"
       ]
      },
      {
       "output_type": "stream",
       "stream": "stdout",
       "text": [
        "\n",
        "D:\\Data\\0_DAILY_INTERVAL_NDVI_TRMM\\NDVI_InnerMongolia//CN_2010_NDVI_recon.265.tif"
       ]
      },
      {
       "output_type": "stream",
       "stream": "stdout",
       "text": [
        "\n",
        "D:\\Data\\0_DAILY_INTERVAL_NDVI_TRMM\\NDVI_InnerMongolia//CN_2010_NDVI_recon.266.tif"
       ]
      },
      {
       "output_type": "stream",
       "stream": "stdout",
       "text": [
        "\n",
        "D:\\Data\\0_DAILY_INTERVAL_NDVI_TRMM\\NDVI_InnerMongolia//CN_2010_NDVI_recon.267.tif"
       ]
      },
      {
       "output_type": "stream",
       "stream": "stdout",
       "text": [
        "\n",
        "D:\\Data\\0_DAILY_INTERVAL_NDVI_TRMM\\NDVI_InnerMongolia//CN_2010_NDVI_recon.268.tif"
       ]
      },
      {
       "output_type": "stream",
       "stream": "stdout",
       "text": [
        "\n",
        "D:\\Data\\0_DAILY_INTERVAL_NDVI_TRMM\\NDVI_InnerMongolia//CN_2010_NDVI_recon.269.tif"
       ]
      },
      {
       "output_type": "stream",
       "stream": "stdout",
       "text": [
        "\n",
        "D:\\Data\\0_DAILY_INTERVAL_NDVI_TRMM\\NDVI_InnerMongolia//CN_2010_NDVI_recon.270.tif"
       ]
      },
      {
       "output_type": "stream",
       "stream": "stdout",
       "text": [
        "\n",
        "D:\\Data\\0_DAILY_INTERVAL_NDVI_TRMM\\NDVI_InnerMongolia//CN_2010_NDVI_recon.271.tif"
       ]
      },
      {
       "output_type": "stream",
       "stream": "stdout",
       "text": [
        "\n",
        "D:\\Data\\0_DAILY_INTERVAL_NDVI_TRMM\\NDVI_InnerMongolia//CN_2010_NDVI_recon.272.tif"
       ]
      },
      {
       "output_type": "stream",
       "stream": "stdout",
       "text": [
        "\n",
        "D:\\Data\\0_DAILY_INTERVAL_NDVI_TRMM\\NDVI_InnerMongolia//CN_2010_NDVI_recon.273.tif"
       ]
      },
      {
       "output_type": "stream",
       "stream": "stdout",
       "text": [
        "\n",
        "D:\\Data\\0_DAILY_INTERVAL_NDVI_TRMM\\NDVI_InnerMongolia//CN_2010_NDVI_recon.274.tif"
       ]
      },
      {
       "output_type": "stream",
       "stream": "stdout",
       "text": [
        "\n",
        "D:\\Data\\0_DAILY_INTERVAL_NDVI_TRMM\\NDVI_InnerMongolia//CN_2010_NDVI_recon.275.tif"
       ]
      },
      {
       "output_type": "stream",
       "stream": "stdout",
       "text": [
        "\n",
        "D:\\Data\\0_DAILY_INTERVAL_NDVI_TRMM\\NDVI_InnerMongolia//CN_2010_NDVI_recon.276.tif"
       ]
      },
      {
       "output_type": "stream",
       "stream": "stdout",
       "text": [
        "\n",
        "D:\\Data\\0_DAILY_INTERVAL_NDVI_TRMM\\NDVI_InnerMongolia//CN_2010_NDVI_recon.277.tif"
       ]
      },
      {
       "output_type": "stream",
       "stream": "stdout",
       "text": [
        "\n",
        "D:\\Data\\0_DAILY_INTERVAL_NDVI_TRMM\\NDVI_InnerMongolia//CN_2010_NDVI_recon.278.tif"
       ]
      },
      {
       "output_type": "stream",
       "stream": "stdout",
       "text": [
        "\n",
        "D:\\Data\\0_DAILY_INTERVAL_NDVI_TRMM\\NDVI_InnerMongolia//CN_2010_NDVI_recon.279.tif"
       ]
      },
      {
       "output_type": "stream",
       "stream": "stdout",
       "text": [
        "\n",
        "D:\\Data\\0_DAILY_INTERVAL_NDVI_TRMM\\NDVI_InnerMongolia//CN_2010_NDVI_recon.280.tif"
       ]
      },
      {
       "output_type": "stream",
       "stream": "stdout",
       "text": [
        "\n",
        "D:\\Data\\0_DAILY_INTERVAL_NDVI_TRMM\\NDVI_InnerMongolia//CN_2010_NDVI_recon.281.tif"
       ]
      },
      {
       "output_type": "stream",
       "stream": "stdout",
       "text": [
        "\n",
        "D:\\Data\\0_DAILY_INTERVAL_NDVI_TRMM\\NDVI_InnerMongolia//CN_2010_NDVI_recon.282.tif"
       ]
      },
      {
       "output_type": "stream",
       "stream": "stdout",
       "text": [
        "\n",
        "D:\\Data\\0_DAILY_INTERVAL_NDVI_TRMM\\NDVI_InnerMongolia//CN_2010_NDVI_recon.283.tif"
       ]
      },
      {
       "output_type": "stream",
       "stream": "stdout",
       "text": [
        "\n",
        "D:\\Data\\0_DAILY_INTERVAL_NDVI_TRMM\\NDVI_InnerMongolia//CN_2010_NDVI_recon.284.tif"
       ]
      },
      {
       "output_type": "stream",
       "stream": "stdout",
       "text": [
        "\n",
        "D:\\Data\\0_DAILY_INTERVAL_NDVI_TRMM\\NDVI_InnerMongolia//CN_2010_NDVI_recon.285.tif"
       ]
      },
      {
       "output_type": "stream",
       "stream": "stdout",
       "text": [
        "\n",
        "D:\\Data\\0_DAILY_INTERVAL_NDVI_TRMM\\NDVI_InnerMongolia//CN_2010_NDVI_recon.286.tif"
       ]
      },
      {
       "output_type": "stream",
       "stream": "stdout",
       "text": [
        "\n",
        "D:\\Data\\0_DAILY_INTERVAL_NDVI_TRMM\\NDVI_InnerMongolia//CN_2010_NDVI_recon.287.tif"
       ]
      },
      {
       "output_type": "stream",
       "stream": "stdout",
       "text": [
        "\n",
        "D:\\Data\\0_DAILY_INTERVAL_NDVI_TRMM\\NDVI_InnerMongolia//CN_2010_NDVI_recon.288.tif"
       ]
      },
      {
       "output_type": "stream",
       "stream": "stdout",
       "text": [
        "\n",
        "D:\\Data\\0_DAILY_INTERVAL_NDVI_TRMM\\NDVI_InnerMongolia//CN_2010_NDVI_recon.289.tif"
       ]
      },
      {
       "output_type": "stream",
       "stream": "stdout",
       "text": [
        "\n",
        "D:\\Data\\0_DAILY_INTERVAL_NDVI_TRMM\\NDVI_InnerMongolia//CN_2010_NDVI_recon.290.tif"
       ]
      },
      {
       "output_type": "stream",
       "stream": "stdout",
       "text": [
        "\n",
        "D:\\Data\\0_DAILY_INTERVAL_NDVI_TRMM\\NDVI_InnerMongolia//CN_2010_NDVI_recon.291.tif"
       ]
      },
      {
       "output_type": "stream",
       "stream": "stdout",
       "text": [
        "\n",
        "D:\\Data\\0_DAILY_INTERVAL_NDVI_TRMM\\NDVI_InnerMongolia//CN_2010_NDVI_recon.292.tif"
       ]
      },
      {
       "output_type": "stream",
       "stream": "stdout",
       "text": [
        "\n",
        "D:\\Data\\0_DAILY_INTERVAL_NDVI_TRMM\\NDVI_InnerMongolia//CN_2010_NDVI_recon.293.tif"
       ]
      },
      {
       "output_type": "stream",
       "stream": "stdout",
       "text": [
        "\n",
        "D:\\Data\\0_DAILY_INTERVAL_NDVI_TRMM\\NDVI_InnerMongolia//CN_2010_NDVI_recon.294.tif"
       ]
      },
      {
       "output_type": "stream",
       "stream": "stdout",
       "text": [
        "\n",
        "D:\\Data\\0_DAILY_INTERVAL_NDVI_TRMM\\NDVI_InnerMongolia//CN_2010_NDVI_recon.295.tif"
       ]
      },
      {
       "output_type": "stream",
       "stream": "stdout",
       "text": [
        "\n",
        "D:\\Data\\0_DAILY_INTERVAL_NDVI_TRMM\\NDVI_InnerMongolia//CN_2010_NDVI_recon.296.tif"
       ]
      },
      {
       "output_type": "stream",
       "stream": "stdout",
       "text": [
        "\n",
        "D:\\Data\\0_DAILY_INTERVAL_NDVI_TRMM\\NDVI_InnerMongolia//CN_2010_NDVI_recon.297.tif"
       ]
      },
      {
       "output_type": "stream",
       "stream": "stdout",
       "text": [
        "\n",
        "D:\\Data\\0_DAILY_INTERVAL_NDVI_TRMM\\NDVI_InnerMongolia//CN_2010_NDVI_recon.298.tif"
       ]
      },
      {
       "output_type": "stream",
       "stream": "stdout",
       "text": [
        "\n",
        "D:\\Data\\0_DAILY_INTERVAL_NDVI_TRMM\\NDVI_InnerMongolia//CN_2010_NDVI_recon.299.tif"
       ]
      },
      {
       "output_type": "stream",
       "stream": "stdout",
       "text": [
        "\n",
        "D:\\Data\\0_DAILY_INTERVAL_NDVI_TRMM\\NDVI_InnerMongolia//CN_2010_NDVI_recon.300.tif"
       ]
      },
      {
       "output_type": "stream",
       "stream": "stdout",
       "text": [
        "\n",
        "D:\\Data\\0_DAILY_INTERVAL_NDVI_TRMM\\NDVI_InnerMongolia//CN_2010_NDVI_recon.301.tif"
       ]
      },
      {
       "output_type": "stream",
       "stream": "stdout",
       "text": [
        "\n",
        "D:\\Data\\0_DAILY_INTERVAL_NDVI_TRMM\\NDVI_InnerMongolia//CN_2010_NDVI_recon.302.tif"
       ]
      },
      {
       "output_type": "stream",
       "stream": "stdout",
       "text": [
        "\n",
        "D:\\Data\\0_DAILY_INTERVAL_NDVI_TRMM\\NDVI_InnerMongolia//CN_2010_NDVI_recon.303.tif"
       ]
      },
      {
       "output_type": "stream",
       "stream": "stdout",
       "text": [
        "\n",
        "D:\\Data\\0_DAILY_INTERVAL_NDVI_TRMM\\NDVI_InnerMongolia//CN_2010_NDVI_recon.304.tif"
       ]
      },
      {
       "output_type": "stream",
       "stream": "stdout",
       "text": [
        "\n",
        "D:\\Data\\0_DAILY_INTERVAL_NDVI_TRMM\\NDVI_InnerMongolia//CN_2010_NDVI_recon.305.tif"
       ]
      },
      {
       "output_type": "stream",
       "stream": "stdout",
       "text": [
        "\n",
        "D:\\Data\\0_DAILY_INTERVAL_NDVI_TRMM\\NDVI_InnerMongolia//CN_2010_NDVI_recon.306.tif"
       ]
      },
      {
       "output_type": "stream",
       "stream": "stdout",
       "text": [
        "\n",
        "D:\\Data\\0_DAILY_INTERVAL_NDVI_TRMM\\NDVI_InnerMongolia//CN_2010_NDVI_recon.307.tif"
       ]
      },
      {
       "output_type": "stream",
       "stream": "stdout",
       "text": [
        "\n",
        "D:\\Data\\0_DAILY_INTERVAL_NDVI_TRMM\\NDVI_InnerMongolia//CN_2010_NDVI_recon.308.tif"
       ]
      },
      {
       "output_type": "stream",
       "stream": "stdout",
       "text": [
        "\n",
        "D:\\Data\\0_DAILY_INTERVAL_NDVI_TRMM\\NDVI_InnerMongolia//CN_2010_NDVI_recon.309.tif"
       ]
      },
      {
       "output_type": "stream",
       "stream": "stdout",
       "text": [
        "\n",
        "D:\\Data\\0_DAILY_INTERVAL_NDVI_TRMM\\NDVI_InnerMongolia//CN_2010_NDVI_recon.310.tif"
       ]
      },
      {
       "output_type": "stream",
       "stream": "stdout",
       "text": [
        "\n",
        "D:\\Data\\0_DAILY_INTERVAL_NDVI_TRMM\\NDVI_InnerMongolia//CN_2010_NDVI_recon.311.tif"
       ]
      },
      {
       "output_type": "stream",
       "stream": "stdout",
       "text": [
        "\n",
        "D:\\Data\\0_DAILY_INTERVAL_NDVI_TRMM\\NDVI_InnerMongolia//CN_2010_NDVI_recon.312.tif"
       ]
      },
      {
       "output_type": "stream",
       "stream": "stdout",
       "text": [
        "\n",
        "D:\\Data\\0_DAILY_INTERVAL_NDVI_TRMM\\NDVI_InnerMongolia//CN_2010_NDVI_recon.313.tif"
       ]
      },
      {
       "output_type": "stream",
       "stream": "stdout",
       "text": [
        "\n",
        "D:\\Data\\0_DAILY_INTERVAL_NDVI_TRMM\\NDVI_InnerMongolia//CN_2010_NDVI_recon.314.tif"
       ]
      },
      {
       "output_type": "stream",
       "stream": "stdout",
       "text": [
        "\n",
        "D:\\Data\\0_DAILY_INTERVAL_NDVI_TRMM\\NDVI_InnerMongolia//CN_2010_NDVI_recon.315.tif"
       ]
      },
      {
       "output_type": "stream",
       "stream": "stdout",
       "text": [
        "\n",
        "D:\\Data\\0_DAILY_INTERVAL_NDVI_TRMM\\NDVI_InnerMongolia//CN_2010_NDVI_recon.316.tif"
       ]
      },
      {
       "output_type": "stream",
       "stream": "stdout",
       "text": [
        "\n",
        "D:\\Data\\0_DAILY_INTERVAL_NDVI_TRMM\\NDVI_InnerMongolia//CN_2010_NDVI_recon.317.tif"
       ]
      },
      {
       "output_type": "stream",
       "stream": "stdout",
       "text": [
        "\n",
        "D:\\Data\\0_DAILY_INTERVAL_NDVI_TRMM\\NDVI_InnerMongolia//CN_2010_NDVI_recon.318.tif"
       ]
      },
      {
       "output_type": "stream",
       "stream": "stdout",
       "text": [
        "\n",
        "D:\\Data\\0_DAILY_INTERVAL_NDVI_TRMM\\NDVI_InnerMongolia//CN_2010_NDVI_recon.319.tif"
       ]
      },
      {
       "output_type": "stream",
       "stream": "stdout",
       "text": [
        "\n",
        "D:\\Data\\0_DAILY_INTERVAL_NDVI_TRMM\\NDVI_InnerMongolia//CN_2010_NDVI_recon.320.tif"
       ]
      },
      {
       "output_type": "stream",
       "stream": "stdout",
       "text": [
        "\n",
        "D:\\Data\\0_DAILY_INTERVAL_NDVI_TRMM\\NDVI_InnerMongolia//CN_2010_NDVI_recon.321.tif"
       ]
      },
      {
       "output_type": "stream",
       "stream": "stdout",
       "text": [
        "\n",
        "D:\\Data\\0_DAILY_INTERVAL_NDVI_TRMM\\NDVI_InnerMongolia//CN_2010_NDVI_recon.322.tif"
       ]
      },
      {
       "output_type": "stream",
       "stream": "stdout",
       "text": [
        "\n",
        "D:\\Data\\0_DAILY_INTERVAL_NDVI_TRMM\\NDVI_InnerMongolia//CN_2010_NDVI_recon.323.tif"
       ]
      },
      {
       "output_type": "stream",
       "stream": "stdout",
       "text": [
        "\n",
        "D:\\Data\\0_DAILY_INTERVAL_NDVI_TRMM\\NDVI_InnerMongolia//CN_2010_NDVI_recon.324.tif"
       ]
      },
      {
       "output_type": "stream",
       "stream": "stdout",
       "text": [
        "\n",
        "D:\\Data\\0_DAILY_INTERVAL_NDVI_TRMM\\NDVI_InnerMongolia//CN_2010_NDVI_recon.325.tif"
       ]
      },
      {
       "output_type": "stream",
       "stream": "stdout",
       "text": [
        "\n",
        "D:\\Data\\0_DAILY_INTERVAL_NDVI_TRMM\\NDVI_InnerMongolia//CN_2010_NDVI_recon.326.tif"
       ]
      },
      {
       "output_type": "stream",
       "stream": "stdout",
       "text": [
        "\n",
        "D:\\Data\\0_DAILY_INTERVAL_NDVI_TRMM\\NDVI_InnerMongolia//CN_2010_NDVI_recon.327.tif"
       ]
      },
      {
       "output_type": "stream",
       "stream": "stdout",
       "text": [
        "\n",
        "D:\\Data\\0_DAILY_INTERVAL_NDVI_TRMM\\NDVI_InnerMongolia//CN_2010_NDVI_recon.328.tif"
       ]
      },
      {
       "output_type": "stream",
       "stream": "stdout",
       "text": [
        "\n",
        "D:\\Data\\0_DAILY_INTERVAL_NDVI_TRMM\\NDVI_InnerMongolia//CN_2010_NDVI_recon.329.tif"
       ]
      },
      {
       "output_type": "stream",
       "stream": "stdout",
       "text": [
        "\n",
        "D:\\Data\\0_DAILY_INTERVAL_NDVI_TRMM\\NDVI_InnerMongolia//CN_2010_NDVI_recon.330.tif"
       ]
      },
      {
       "output_type": "stream",
       "stream": "stdout",
       "text": [
        "\n",
        "D:\\Data\\0_DAILY_INTERVAL_NDVI_TRMM\\NDVI_InnerMongolia//CN_2010_NDVI_recon.331.tif"
       ]
      },
      {
       "output_type": "stream",
       "stream": "stdout",
       "text": [
        "\n",
        "D:\\Data\\0_DAILY_INTERVAL_NDVI_TRMM\\NDVI_InnerMongolia//CN_2010_NDVI_recon.332.tif"
       ]
      },
      {
       "output_type": "stream",
       "stream": "stdout",
       "text": [
        "\n",
        "D:\\Data\\0_DAILY_INTERVAL_NDVI_TRMM\\NDVI_InnerMongolia//CN_2010_NDVI_recon.333.tif"
       ]
      },
      {
       "output_type": "stream",
       "stream": "stdout",
       "text": [
        "\n",
        "D:\\Data\\0_DAILY_INTERVAL_NDVI_TRMM\\NDVI_InnerMongolia//CN_2010_NDVI_recon.334.tif"
       ]
      },
      {
       "output_type": "stream",
       "stream": "stdout",
       "text": [
        "\n",
        "D:\\Data\\0_DAILY_INTERVAL_NDVI_TRMM\\NDVI_InnerMongolia//CN_2010_NDVI_recon.335.tif"
       ]
      },
      {
       "output_type": "stream",
       "stream": "stdout",
       "text": [
        "\n",
        "D:\\Data\\0_DAILY_INTERVAL_NDVI_TRMM\\NDVI_InnerMongolia//CN_2010_NDVI_recon.336.tif"
       ]
      },
      {
       "output_type": "stream",
       "stream": "stdout",
       "text": [
        "\n",
        "D:\\Data\\0_DAILY_INTERVAL_NDVI_TRMM\\NDVI_InnerMongolia//CN_2010_NDVI_recon.337.tif"
       ]
      },
      {
       "output_type": "stream",
       "stream": "stdout",
       "text": [
        "\n",
        "D:\\Data\\0_DAILY_INTERVAL_NDVI_TRMM\\NDVI_InnerMongolia//CN_2010_NDVI_recon.338.tif"
       ]
      },
      {
       "output_type": "stream",
       "stream": "stdout",
       "text": [
        "\n",
        "D:\\Data\\0_DAILY_INTERVAL_NDVI_TRMM\\NDVI_InnerMongolia//CN_2010_NDVI_recon.339.tif"
       ]
      },
      {
       "output_type": "stream",
       "stream": "stdout",
       "text": [
        "\n",
        "D:\\Data\\0_DAILY_INTERVAL_NDVI_TRMM\\NDVI_InnerMongolia//CN_2010_NDVI_recon.340.tif"
       ]
      },
      {
       "output_type": "stream",
       "stream": "stdout",
       "text": [
        "\n",
        "D:\\Data\\0_DAILY_INTERVAL_NDVI_TRMM\\NDVI_InnerMongolia//CN_2010_NDVI_recon.341.tif"
       ]
      },
      {
       "output_type": "stream",
       "stream": "stdout",
       "text": [
        "\n",
        "D:\\Data\\0_DAILY_INTERVAL_NDVI_TRMM\\NDVI_InnerMongolia//CN_2010_NDVI_recon.342.tif"
       ]
      },
      {
       "output_type": "stream",
       "stream": "stdout",
       "text": [
        "\n",
        "D:\\Data\\0_DAILY_INTERVAL_NDVI_TRMM\\NDVI_InnerMongolia//CN_2010_NDVI_recon.343.tif"
       ]
      },
      {
       "output_type": "stream",
       "stream": "stdout",
       "text": [
        "\n",
        "D:\\Data\\0_DAILY_INTERVAL_NDVI_TRMM\\NDVI_InnerMongolia//CN_2010_NDVI_recon.344.tif"
       ]
      },
      {
       "output_type": "stream",
       "stream": "stdout",
       "text": [
        "\n",
        "D:\\Data\\0_DAILY_INTERVAL_NDVI_TRMM\\NDVI_InnerMongolia//CN_2010_NDVI_recon.345.tif"
       ]
      },
      {
       "output_type": "stream",
       "stream": "stdout",
       "text": [
        "\n",
        "D:\\Data\\0_DAILY_INTERVAL_NDVI_TRMM\\NDVI_InnerMongolia//CN_2010_NDVI_recon.346.tif"
       ]
      },
      {
       "output_type": "stream",
       "stream": "stdout",
       "text": [
        "\n",
        "D:\\Data\\0_DAILY_INTERVAL_NDVI_TRMM\\NDVI_InnerMongolia//CN_2010_NDVI_recon.347.tif"
       ]
      },
      {
       "output_type": "stream",
       "stream": "stdout",
       "text": [
        "\n",
        "D:\\Data\\0_DAILY_INTERVAL_NDVI_TRMM\\NDVI_InnerMongolia//CN_2010_NDVI_recon.348.tif"
       ]
      },
      {
       "output_type": "stream",
       "stream": "stdout",
       "text": [
        "\n",
        "D:\\Data\\0_DAILY_INTERVAL_NDVI_TRMM\\NDVI_InnerMongolia//CN_2010_NDVI_recon.349.tif"
       ]
      },
      {
       "output_type": "stream",
       "stream": "stdout",
       "text": [
        "\n",
        "D:\\Data\\0_DAILY_INTERVAL_NDVI_TRMM\\NDVI_InnerMongolia//CN_2010_NDVI_recon.350.tif"
       ]
      },
      {
       "output_type": "stream",
       "stream": "stdout",
       "text": [
        "\n",
        "D:\\Data\\0_DAILY_INTERVAL_NDVI_TRMM\\NDVI_InnerMongolia//CN_2010_NDVI_recon.351.tif"
       ]
      },
      {
       "output_type": "stream",
       "stream": "stdout",
       "text": [
        "\n",
        "D:\\Data\\0_DAILY_INTERVAL_NDVI_TRMM\\NDVI_InnerMongolia//CN_2010_NDVI_recon.352.tif"
       ]
      },
      {
       "output_type": "stream",
       "stream": "stdout",
       "text": [
        "\n",
        "D:\\Data\\0_DAILY_INTERVAL_NDVI_TRMM\\NDVI_InnerMongolia//CN_2010_NDVI_recon.353.tif"
       ]
      },
      {
       "output_type": "stream",
       "stream": "stdout",
       "text": [
        "\n",
        "D:\\Data\\0_DAILY_INTERVAL_NDVI_TRMM\\NDVI_InnerMongolia//CN_2010_NDVI_recon.354.tif"
       ]
      },
      {
       "output_type": "stream",
       "stream": "stdout",
       "text": [
        "\n",
        "D:\\Data\\0_DAILY_INTERVAL_NDVI_TRMM\\NDVI_InnerMongolia//CN_2010_NDVI_recon.355.tif"
       ]
      },
      {
       "output_type": "stream",
       "stream": "stdout",
       "text": [
        "\n",
        "D:\\Data\\0_DAILY_INTERVAL_NDVI_TRMM\\NDVI_InnerMongolia//CN_2010_NDVI_recon.356.tif"
       ]
      },
      {
       "output_type": "stream",
       "stream": "stdout",
       "text": [
        "\n",
        "D:\\Data\\0_DAILY_INTERVAL_NDVI_TRMM\\NDVI_InnerMongolia//CN_2010_NDVI_recon.357.tif"
       ]
      },
      {
       "output_type": "stream",
       "stream": "stdout",
       "text": [
        "\n",
        "D:\\Data\\0_DAILY_INTERVAL_NDVI_TRMM\\NDVI_InnerMongolia//CN_2010_NDVI_recon.358.tif"
       ]
      },
      {
       "output_type": "stream",
       "stream": "stdout",
       "text": [
        "\n",
        "D:\\Data\\0_DAILY_INTERVAL_NDVI_TRMM\\NDVI_InnerMongolia//CN_2010_NDVI_recon.359.tif"
       ]
      },
      {
       "output_type": "stream",
       "stream": "stdout",
       "text": [
        "\n",
        "D:\\Data\\0_DAILY_INTERVAL_NDVI_TRMM\\NDVI_InnerMongolia//CN_2010_NDVI_recon.360.tif"
       ]
      },
      {
       "output_type": "stream",
       "stream": "stdout",
       "text": [
        "\n",
        "D:\\Data\\0_DAILY_INTERVAL_NDVI_TRMM\\NDVI_InnerMongolia//CN_2010_NDVI_recon.361.tif"
       ]
      },
      {
       "output_type": "stream",
       "stream": "stdout",
       "text": [
        "\n",
        "D:\\Data\\0_DAILY_INTERVAL_NDVI_TRMM\\NDVI_InnerMongolia//CN_2010_NDVI_recon.362.tif"
       ]
      },
      {
       "output_type": "stream",
       "stream": "stdout",
       "text": [
        "\n",
        "D:\\Data\\0_DAILY_INTERVAL_NDVI_TRMM\\NDVI_InnerMongolia//CN_2010_NDVI_recon.363.tif"
       ]
      },
      {
       "output_type": "stream",
       "stream": "stdout",
       "text": [
        "\n",
        "D:\\Data\\0_DAILY_INTERVAL_NDVI_TRMM\\NDVI_InnerMongolia//CN_2010_NDVI_recon.364.tif"
       ]
      },
      {
       "output_type": "stream",
       "stream": "stdout",
       "text": [
        "\n",
        "D:\\Data\\0_DAILY_INTERVAL_NDVI_TRMM\\NDVI_InnerMongolia//CN_2010_NDVI_recon.365.tif"
       ]
      },
      {
       "output_type": "stream",
       "stream": "stdout",
       "text": [
        "\n",
        "D:\\Data\\0_DAILY_INTERVAL_NDVI_TRMM\\NDVI_InnerMongolia//CN_2011_NDVI_recon.001.tif"
       ]
      },
      {
       "output_type": "stream",
       "stream": "stdout",
       "text": [
        "\n",
        "D:\\Data\\0_DAILY_INTERVAL_NDVI_TRMM\\NDVI_InnerMongolia//CN_2011_NDVI_recon.002.tif"
       ]
      },
      {
       "output_type": "stream",
       "stream": "stdout",
       "text": [
        "\n",
        "D:\\Data\\0_DAILY_INTERVAL_NDVI_TRMM\\NDVI_InnerMongolia//CN_2011_NDVI_recon.003.tif"
       ]
      },
      {
       "output_type": "stream",
       "stream": "stdout",
       "text": [
        "\n",
        "D:\\Data\\0_DAILY_INTERVAL_NDVI_TRMM\\NDVI_InnerMongolia//CN_2011_NDVI_recon.004.tif"
       ]
      },
      {
       "output_type": "stream",
       "stream": "stdout",
       "text": [
        "\n",
        "D:\\Data\\0_DAILY_INTERVAL_NDVI_TRMM\\NDVI_InnerMongolia//CN_2011_NDVI_recon.005.tif"
       ]
      },
      {
       "output_type": "stream",
       "stream": "stdout",
       "text": [
        "\n",
        "D:\\Data\\0_DAILY_INTERVAL_NDVI_TRMM\\NDVI_InnerMongolia//CN_2011_NDVI_recon.006.tif"
       ]
      },
      {
       "output_type": "stream",
       "stream": "stdout",
       "text": [
        "\n",
        "D:\\Data\\0_DAILY_INTERVAL_NDVI_TRMM\\NDVI_InnerMongolia//CN_2011_NDVI_recon.007.tif"
       ]
      },
      {
       "output_type": "stream",
       "stream": "stdout",
       "text": [
        "\n",
        "D:\\Data\\0_DAILY_INTERVAL_NDVI_TRMM\\NDVI_InnerMongolia//CN_2011_NDVI_recon.008.tif"
       ]
      },
      {
       "output_type": "stream",
       "stream": "stdout",
       "text": [
        "\n",
        "D:\\Data\\0_DAILY_INTERVAL_NDVI_TRMM\\NDVI_InnerMongolia//CN_2011_NDVI_recon.009.tif"
       ]
      },
      {
       "output_type": "stream",
       "stream": "stdout",
       "text": [
        "\n",
        "D:\\Data\\0_DAILY_INTERVAL_NDVI_TRMM\\NDVI_InnerMongolia//CN_2011_NDVI_recon.010.tif"
       ]
      },
      {
       "output_type": "stream",
       "stream": "stdout",
       "text": [
        "\n",
        "D:\\Data\\0_DAILY_INTERVAL_NDVI_TRMM\\NDVI_InnerMongolia//CN_2011_NDVI_recon.011.tif"
       ]
      },
      {
       "output_type": "stream",
       "stream": "stdout",
       "text": [
        "\n",
        "D:\\Data\\0_DAILY_INTERVAL_NDVI_TRMM\\NDVI_InnerMongolia//CN_2011_NDVI_recon.012.tif"
       ]
      },
      {
       "output_type": "stream",
       "stream": "stdout",
       "text": [
        "\n",
        "D:\\Data\\0_DAILY_INTERVAL_NDVI_TRMM\\NDVI_InnerMongolia//CN_2011_NDVI_recon.013.tif"
       ]
      },
      {
       "output_type": "stream",
       "stream": "stdout",
       "text": [
        "\n",
        "D:\\Data\\0_DAILY_INTERVAL_NDVI_TRMM\\NDVI_InnerMongolia//CN_2011_NDVI_recon.014.tif"
       ]
      },
      {
       "output_type": "stream",
       "stream": "stdout",
       "text": [
        "\n",
        "D:\\Data\\0_DAILY_INTERVAL_NDVI_TRMM\\NDVI_InnerMongolia//CN_2011_NDVI_recon.015.tif"
       ]
      },
      {
       "output_type": "stream",
       "stream": "stdout",
       "text": [
        "\n",
        "D:\\Data\\0_DAILY_INTERVAL_NDVI_TRMM\\NDVI_InnerMongolia//CN_2011_NDVI_recon.016.tif"
       ]
      },
      {
       "output_type": "stream",
       "stream": "stdout",
       "text": [
        "\n",
        "D:\\Data\\0_DAILY_INTERVAL_NDVI_TRMM\\NDVI_InnerMongolia//CN_2011_NDVI_recon.017.tif"
       ]
      },
      {
       "output_type": "stream",
       "stream": "stdout",
       "text": [
        "\n",
        "D:\\Data\\0_DAILY_INTERVAL_NDVI_TRMM\\NDVI_InnerMongolia//CN_2011_NDVI_recon.018.tif"
       ]
      },
      {
       "output_type": "stream",
       "stream": "stdout",
       "text": [
        "\n",
        "D:\\Data\\0_DAILY_INTERVAL_NDVI_TRMM\\NDVI_InnerMongolia//CN_2011_NDVI_recon.019.tif"
       ]
      },
      {
       "output_type": "stream",
       "stream": "stdout",
       "text": [
        "\n",
        "D:\\Data\\0_DAILY_INTERVAL_NDVI_TRMM\\NDVI_InnerMongolia//CN_2011_NDVI_recon.020.tif"
       ]
      },
      {
       "output_type": "stream",
       "stream": "stdout",
       "text": [
        "\n",
        "D:\\Data\\0_DAILY_INTERVAL_NDVI_TRMM\\NDVI_InnerMongolia//CN_2011_NDVI_recon.021.tif"
       ]
      },
      {
       "output_type": "stream",
       "stream": "stdout",
       "text": [
        "\n",
        "D:\\Data\\0_DAILY_INTERVAL_NDVI_TRMM\\NDVI_InnerMongolia//CN_2011_NDVI_recon.022.tif"
       ]
      },
      {
       "output_type": "stream",
       "stream": "stdout",
       "text": [
        "\n",
        "D:\\Data\\0_DAILY_INTERVAL_NDVI_TRMM\\NDVI_InnerMongolia//CN_2011_NDVI_recon.023.tif"
       ]
      },
      {
       "output_type": "stream",
       "stream": "stdout",
       "text": [
        "\n",
        "D:\\Data\\0_DAILY_INTERVAL_NDVI_TRMM\\NDVI_InnerMongolia//CN_2011_NDVI_recon.024.tif"
       ]
      },
      {
       "output_type": "stream",
       "stream": "stdout",
       "text": [
        "\n",
        "D:\\Data\\0_DAILY_INTERVAL_NDVI_TRMM\\NDVI_InnerMongolia//CN_2011_NDVI_recon.025.tif"
       ]
      },
      {
       "output_type": "stream",
       "stream": "stdout",
       "text": [
        "\n",
        "D:\\Data\\0_DAILY_INTERVAL_NDVI_TRMM\\NDVI_InnerMongolia//CN_2011_NDVI_recon.026.tif"
       ]
      },
      {
       "output_type": "stream",
       "stream": "stdout",
       "text": [
        "\n",
        "D:\\Data\\0_DAILY_INTERVAL_NDVI_TRMM\\NDVI_InnerMongolia//CN_2011_NDVI_recon.027.tif"
       ]
      },
      {
       "output_type": "stream",
       "stream": "stdout",
       "text": [
        "\n",
        "D:\\Data\\0_DAILY_INTERVAL_NDVI_TRMM\\NDVI_InnerMongolia//CN_2011_NDVI_recon.028.tif"
       ]
      },
      {
       "output_type": "stream",
       "stream": "stdout",
       "text": [
        "\n",
        "D:\\Data\\0_DAILY_INTERVAL_NDVI_TRMM\\NDVI_InnerMongolia//CN_2011_NDVI_recon.029.tif"
       ]
      },
      {
       "output_type": "stream",
       "stream": "stdout",
       "text": [
        "\n",
        "D:\\Data\\0_DAILY_INTERVAL_NDVI_TRMM\\NDVI_InnerMongolia//CN_2011_NDVI_recon.030.tif"
       ]
      },
      {
       "output_type": "stream",
       "stream": "stdout",
       "text": [
        "\n",
        "D:\\Data\\0_DAILY_INTERVAL_NDVI_TRMM\\NDVI_InnerMongolia//CN_2011_NDVI_recon.031.tif"
       ]
      },
      {
       "output_type": "stream",
       "stream": "stdout",
       "text": [
        "\n",
        "D:\\Data\\0_DAILY_INTERVAL_NDVI_TRMM\\NDVI_InnerMongolia//CN_2011_NDVI_recon.032.tif"
       ]
      },
      {
       "output_type": "stream",
       "stream": "stdout",
       "text": [
        "\n",
        "D:\\Data\\0_DAILY_INTERVAL_NDVI_TRMM\\NDVI_InnerMongolia//CN_2011_NDVI_recon.033.tif"
       ]
      },
      {
       "output_type": "stream",
       "stream": "stdout",
       "text": [
        "\n",
        "D:\\Data\\0_DAILY_INTERVAL_NDVI_TRMM\\NDVI_InnerMongolia//CN_2011_NDVI_recon.034.tif"
       ]
      },
      {
       "output_type": "stream",
       "stream": "stdout",
       "text": [
        "\n",
        "D:\\Data\\0_DAILY_INTERVAL_NDVI_TRMM\\NDVI_InnerMongolia//CN_2011_NDVI_recon.035.tif"
       ]
      },
      {
       "output_type": "stream",
       "stream": "stdout",
       "text": [
        "\n",
        "D:\\Data\\0_DAILY_INTERVAL_NDVI_TRMM\\NDVI_InnerMongolia//CN_2011_NDVI_recon.036.tif"
       ]
      },
      {
       "output_type": "stream",
       "stream": "stdout",
       "text": [
        "\n",
        "D:\\Data\\0_DAILY_INTERVAL_NDVI_TRMM\\NDVI_InnerMongolia//CN_2011_NDVI_recon.037.tif"
       ]
      },
      {
       "output_type": "stream",
       "stream": "stdout",
       "text": [
        "\n",
        "D:\\Data\\0_DAILY_INTERVAL_NDVI_TRMM\\NDVI_InnerMongolia//CN_2011_NDVI_recon.038.tif"
       ]
      },
      {
       "output_type": "stream",
       "stream": "stdout",
       "text": [
        "\n",
        "D:\\Data\\0_DAILY_INTERVAL_NDVI_TRMM\\NDVI_InnerMongolia//CN_2011_NDVI_recon.039.tif"
       ]
      },
      {
       "output_type": "stream",
       "stream": "stdout",
       "text": [
        "\n",
        "D:\\Data\\0_DAILY_INTERVAL_NDVI_TRMM\\NDVI_InnerMongolia//CN_2011_NDVI_recon.040.tif"
       ]
      },
      {
       "output_type": "stream",
       "stream": "stdout",
       "text": [
        "\n",
        "D:\\Data\\0_DAILY_INTERVAL_NDVI_TRMM\\NDVI_InnerMongolia//CN_2011_NDVI_recon.041.tif"
       ]
      },
      {
       "output_type": "stream",
       "stream": "stdout",
       "text": [
        "\n",
        "D:\\Data\\0_DAILY_INTERVAL_NDVI_TRMM\\NDVI_InnerMongolia//CN_2011_NDVI_recon.042.tif"
       ]
      },
      {
       "output_type": "stream",
       "stream": "stdout",
       "text": [
        "\n",
        "D:\\Data\\0_DAILY_INTERVAL_NDVI_TRMM\\NDVI_InnerMongolia//CN_2011_NDVI_recon.043.tif"
       ]
      },
      {
       "output_type": "stream",
       "stream": "stdout",
       "text": [
        "\n",
        "D:\\Data\\0_DAILY_INTERVAL_NDVI_TRMM\\NDVI_InnerMongolia//CN_2011_NDVI_recon.044.tif"
       ]
      },
      {
       "output_type": "stream",
       "stream": "stdout",
       "text": [
        "\n",
        "D:\\Data\\0_DAILY_INTERVAL_NDVI_TRMM\\NDVI_InnerMongolia//CN_2011_NDVI_recon.045.tif"
       ]
      },
      {
       "output_type": "stream",
       "stream": "stdout",
       "text": [
        "\n",
        "D:\\Data\\0_DAILY_INTERVAL_NDVI_TRMM\\NDVI_InnerMongolia//CN_2011_NDVI_recon.046.tif"
       ]
      },
      {
       "output_type": "stream",
       "stream": "stdout",
       "text": [
        "\n",
        "D:\\Data\\0_DAILY_INTERVAL_NDVI_TRMM\\NDVI_InnerMongolia//CN_2011_NDVI_recon.047.tif"
       ]
      },
      {
       "output_type": "stream",
       "stream": "stdout",
       "text": [
        "\n",
        "D:\\Data\\0_DAILY_INTERVAL_NDVI_TRMM\\NDVI_InnerMongolia//CN_2011_NDVI_recon.048.tif"
       ]
      },
      {
       "output_type": "stream",
       "stream": "stdout",
       "text": [
        "\n",
        "D:\\Data\\0_DAILY_INTERVAL_NDVI_TRMM\\NDVI_InnerMongolia//CN_2011_NDVI_recon.049.tif"
       ]
      },
      {
       "output_type": "stream",
       "stream": "stdout",
       "text": [
        "\n",
        "D:\\Data\\0_DAILY_INTERVAL_NDVI_TRMM\\NDVI_InnerMongolia//CN_2011_NDVI_recon.050.tif"
       ]
      },
      {
       "output_type": "stream",
       "stream": "stdout",
       "text": [
        "\n",
        "D:\\Data\\0_DAILY_INTERVAL_NDVI_TRMM\\NDVI_InnerMongolia//CN_2011_NDVI_recon.051.tif"
       ]
      },
      {
       "output_type": "stream",
       "stream": "stdout",
       "text": [
        "\n",
        "D:\\Data\\0_DAILY_INTERVAL_NDVI_TRMM\\NDVI_InnerMongolia//CN_2011_NDVI_recon.052.tif"
       ]
      },
      {
       "output_type": "stream",
       "stream": "stdout",
       "text": [
        "\n",
        "D:\\Data\\0_DAILY_INTERVAL_NDVI_TRMM\\NDVI_InnerMongolia//CN_2011_NDVI_recon.053.tif"
       ]
      },
      {
       "output_type": "stream",
       "stream": "stdout",
       "text": [
        "\n",
        "D:\\Data\\0_DAILY_INTERVAL_NDVI_TRMM\\NDVI_InnerMongolia//CN_2011_NDVI_recon.054.tif"
       ]
      },
      {
       "output_type": "stream",
       "stream": "stdout",
       "text": [
        "\n",
        "D:\\Data\\0_DAILY_INTERVAL_NDVI_TRMM\\NDVI_InnerMongolia//CN_2011_NDVI_recon.055.tif"
       ]
      },
      {
       "output_type": "stream",
       "stream": "stdout",
       "text": [
        "\n",
        "D:\\Data\\0_DAILY_INTERVAL_NDVI_TRMM\\NDVI_InnerMongolia//CN_2011_NDVI_recon.056.tif"
       ]
      },
      {
       "output_type": "stream",
       "stream": "stdout",
       "text": [
        "\n",
        "D:\\Data\\0_DAILY_INTERVAL_NDVI_TRMM\\NDVI_InnerMongolia//CN_2011_NDVI_recon.057.tif"
       ]
      },
      {
       "output_type": "stream",
       "stream": "stdout",
       "text": [
        "\n",
        "D:\\Data\\0_DAILY_INTERVAL_NDVI_TRMM\\NDVI_InnerMongolia//CN_2011_NDVI_recon.058.tif"
       ]
      },
      {
       "output_type": "stream",
       "stream": "stdout",
       "text": [
        "\n",
        "D:\\Data\\0_DAILY_INTERVAL_NDVI_TRMM\\NDVI_InnerMongolia//CN_2011_NDVI_recon.059.tif"
       ]
      },
      {
       "output_type": "stream",
       "stream": "stdout",
       "text": [
        "\n",
        "D:\\Data\\0_DAILY_INTERVAL_NDVI_TRMM\\NDVI_InnerMongolia//CN_2011_NDVI_recon.060.tif"
       ]
      },
      {
       "output_type": "stream",
       "stream": "stdout",
       "text": [
        "\n",
        "D:\\Data\\0_DAILY_INTERVAL_NDVI_TRMM\\NDVI_InnerMongolia//CN_2011_NDVI_recon.061.tif"
       ]
      },
      {
       "output_type": "stream",
       "stream": "stdout",
       "text": [
        "\n",
        "D:\\Data\\0_DAILY_INTERVAL_NDVI_TRMM\\NDVI_InnerMongolia//CN_2011_NDVI_recon.062.tif"
       ]
      },
      {
       "output_type": "stream",
       "stream": "stdout",
       "text": [
        "\n",
        "D:\\Data\\0_DAILY_INTERVAL_NDVI_TRMM\\NDVI_InnerMongolia//CN_2011_NDVI_recon.063.tif"
       ]
      },
      {
       "output_type": "stream",
       "stream": "stdout",
       "text": [
        "\n",
        "D:\\Data\\0_DAILY_INTERVAL_NDVI_TRMM\\NDVI_InnerMongolia//CN_2011_NDVI_recon.064.tif"
       ]
      },
      {
       "output_type": "stream",
       "stream": "stdout",
       "text": [
        "\n",
        "D:\\Data\\0_DAILY_INTERVAL_NDVI_TRMM\\NDVI_InnerMongolia//CN_2011_NDVI_recon.065.tif"
       ]
      },
      {
       "output_type": "stream",
       "stream": "stdout",
       "text": [
        "\n",
        "D:\\Data\\0_DAILY_INTERVAL_NDVI_TRMM\\NDVI_InnerMongolia//CN_2011_NDVI_recon.066.tif"
       ]
      },
      {
       "output_type": "stream",
       "stream": "stdout",
       "text": [
        "\n",
        "D:\\Data\\0_DAILY_INTERVAL_NDVI_TRMM\\NDVI_InnerMongolia//CN_2011_NDVI_recon.067.tif"
       ]
      },
      {
       "output_type": "stream",
       "stream": "stdout",
       "text": [
        "\n",
        "D:\\Data\\0_DAILY_INTERVAL_NDVI_TRMM\\NDVI_InnerMongolia//CN_2011_NDVI_recon.068.tif"
       ]
      },
      {
       "output_type": "stream",
       "stream": "stdout",
       "text": [
        "\n",
        "D:\\Data\\0_DAILY_INTERVAL_NDVI_TRMM\\NDVI_InnerMongolia//CN_2011_NDVI_recon.069.tif"
       ]
      },
      {
       "output_type": "stream",
       "stream": "stdout",
       "text": [
        "\n",
        "D:\\Data\\0_DAILY_INTERVAL_NDVI_TRMM\\NDVI_InnerMongolia//CN_2011_NDVI_recon.070.tif"
       ]
      },
      {
       "output_type": "stream",
       "stream": "stdout",
       "text": [
        "\n",
        "D:\\Data\\0_DAILY_INTERVAL_NDVI_TRMM\\NDVI_InnerMongolia//CN_2011_NDVI_recon.071.tif"
       ]
      },
      {
       "output_type": "stream",
       "stream": "stdout",
       "text": [
        "\n",
        "D:\\Data\\0_DAILY_INTERVAL_NDVI_TRMM\\NDVI_InnerMongolia//CN_2011_NDVI_recon.072.tif"
       ]
      },
      {
       "output_type": "stream",
       "stream": "stdout",
       "text": [
        "\n",
        "D:\\Data\\0_DAILY_INTERVAL_NDVI_TRMM\\NDVI_InnerMongolia//CN_2011_NDVI_recon.073.tif"
       ]
      },
      {
       "output_type": "stream",
       "stream": "stdout",
       "text": [
        "\n",
        "D:\\Data\\0_DAILY_INTERVAL_NDVI_TRMM\\NDVI_InnerMongolia//CN_2011_NDVI_recon.074.tif"
       ]
      },
      {
       "output_type": "stream",
       "stream": "stdout",
       "text": [
        "\n",
        "D:\\Data\\0_DAILY_INTERVAL_NDVI_TRMM\\NDVI_InnerMongolia//CN_2011_NDVI_recon.075.tif"
       ]
      },
      {
       "output_type": "stream",
       "stream": "stdout",
       "text": [
        "\n",
        "D:\\Data\\0_DAILY_INTERVAL_NDVI_TRMM\\NDVI_InnerMongolia//CN_2011_NDVI_recon.076.tif"
       ]
      },
      {
       "output_type": "stream",
       "stream": "stdout",
       "text": [
        "\n",
        "D:\\Data\\0_DAILY_INTERVAL_NDVI_TRMM\\NDVI_InnerMongolia//CN_2011_NDVI_recon.077.tif"
       ]
      },
      {
       "output_type": "stream",
       "stream": "stdout",
       "text": [
        "\n",
        "D:\\Data\\0_DAILY_INTERVAL_NDVI_TRMM\\NDVI_InnerMongolia//CN_2011_NDVI_recon.078.tif"
       ]
      },
      {
       "output_type": "stream",
       "stream": "stdout",
       "text": [
        "\n",
        "D:\\Data\\0_DAILY_INTERVAL_NDVI_TRMM\\NDVI_InnerMongolia//CN_2011_NDVI_recon.079.tif"
       ]
      },
      {
       "output_type": "stream",
       "stream": "stdout",
       "text": [
        "\n",
        "D:\\Data\\0_DAILY_INTERVAL_NDVI_TRMM\\NDVI_InnerMongolia//CN_2011_NDVI_recon.080.tif"
       ]
      },
      {
       "output_type": "stream",
       "stream": "stdout",
       "text": [
        "\n",
        "D:\\Data\\0_DAILY_INTERVAL_NDVI_TRMM\\NDVI_InnerMongolia//CN_2011_NDVI_recon.081.tif"
       ]
      },
      {
       "output_type": "stream",
       "stream": "stdout",
       "text": [
        "\n",
        "D:\\Data\\0_DAILY_INTERVAL_NDVI_TRMM\\NDVI_InnerMongolia//CN_2011_NDVI_recon.082.tif"
       ]
      },
      {
       "output_type": "stream",
       "stream": "stdout",
       "text": [
        "\n",
        "D:\\Data\\0_DAILY_INTERVAL_NDVI_TRMM\\NDVI_InnerMongolia//CN_2011_NDVI_recon.083.tif"
       ]
      },
      {
       "output_type": "stream",
       "stream": "stdout",
       "text": [
        "\n",
        "D:\\Data\\0_DAILY_INTERVAL_NDVI_TRMM\\NDVI_InnerMongolia//CN_2011_NDVI_recon.084.tif"
       ]
      },
      {
       "output_type": "stream",
       "stream": "stdout",
       "text": [
        "\n",
        "D:\\Data\\0_DAILY_INTERVAL_NDVI_TRMM\\NDVI_InnerMongolia//CN_2011_NDVI_recon.085.tif"
       ]
      },
      {
       "output_type": "stream",
       "stream": "stdout",
       "text": [
        "\n",
        "D:\\Data\\0_DAILY_INTERVAL_NDVI_TRMM\\NDVI_InnerMongolia//CN_2011_NDVI_recon.086.tif"
       ]
      },
      {
       "output_type": "stream",
       "stream": "stdout",
       "text": [
        "\n",
        "D:\\Data\\0_DAILY_INTERVAL_NDVI_TRMM\\NDVI_InnerMongolia//CN_2011_NDVI_recon.087.tif"
       ]
      },
      {
       "output_type": "stream",
       "stream": "stdout",
       "text": [
        "\n",
        "D:\\Data\\0_DAILY_INTERVAL_NDVI_TRMM\\NDVI_InnerMongolia//CN_2011_NDVI_recon.088.tif"
       ]
      },
      {
       "output_type": "stream",
       "stream": "stdout",
       "text": [
        "\n",
        "D:\\Data\\0_DAILY_INTERVAL_NDVI_TRMM\\NDVI_InnerMongolia//CN_2011_NDVI_recon.089.tif"
       ]
      },
      {
       "output_type": "stream",
       "stream": "stdout",
       "text": [
        "\n",
        "D:\\Data\\0_DAILY_INTERVAL_NDVI_TRMM\\NDVI_InnerMongolia//CN_2011_NDVI_recon.090.tif"
       ]
      },
      {
       "output_type": "stream",
       "stream": "stdout",
       "text": [
        "\n",
        "D:\\Data\\0_DAILY_INTERVAL_NDVI_TRMM\\NDVI_InnerMongolia//CN_2011_NDVI_recon.091.tif"
       ]
      },
      {
       "output_type": "stream",
       "stream": "stdout",
       "text": [
        "\n",
        "D:\\Data\\0_DAILY_INTERVAL_NDVI_TRMM\\NDVI_InnerMongolia//CN_2011_NDVI_recon.092.tif"
       ]
      },
      {
       "output_type": "stream",
       "stream": "stdout",
       "text": [
        "\n",
        "D:\\Data\\0_DAILY_INTERVAL_NDVI_TRMM\\NDVI_InnerMongolia//CN_2011_NDVI_recon.093.tif"
       ]
      },
      {
       "output_type": "stream",
       "stream": "stdout",
       "text": [
        "\n",
        "D:\\Data\\0_DAILY_INTERVAL_NDVI_TRMM\\NDVI_InnerMongolia//CN_2011_NDVI_recon.094.tif"
       ]
      },
      {
       "output_type": "stream",
       "stream": "stdout",
       "text": [
        "\n",
        "D:\\Data\\0_DAILY_INTERVAL_NDVI_TRMM\\NDVI_InnerMongolia//CN_2011_NDVI_recon.095.tif"
       ]
      },
      {
       "output_type": "stream",
       "stream": "stdout",
       "text": [
        "\n",
        "D:\\Data\\0_DAILY_INTERVAL_NDVI_TRMM\\NDVI_InnerMongolia//CN_2011_NDVI_recon.096.tif"
       ]
      },
      {
       "output_type": "stream",
       "stream": "stdout",
       "text": [
        "\n",
        "D:\\Data\\0_DAILY_INTERVAL_NDVI_TRMM\\NDVI_InnerMongolia//CN_2011_NDVI_recon.097.tif"
       ]
      },
      {
       "output_type": "stream",
       "stream": "stdout",
       "text": [
        "\n",
        "D:\\Data\\0_DAILY_INTERVAL_NDVI_TRMM\\NDVI_InnerMongolia//CN_2011_NDVI_recon.098.tif"
       ]
      },
      {
       "output_type": "stream",
       "stream": "stdout",
       "text": [
        "\n",
        "D:\\Data\\0_DAILY_INTERVAL_NDVI_TRMM\\NDVI_InnerMongolia//CN_2011_NDVI_recon.099.tif"
       ]
      },
      {
       "output_type": "stream",
       "stream": "stdout",
       "text": [
        "\n",
        "D:\\Data\\0_DAILY_INTERVAL_NDVI_TRMM\\NDVI_InnerMongolia//CN_2011_NDVI_recon.100.tif"
       ]
      },
      {
       "output_type": "stream",
       "stream": "stdout",
       "text": [
        "\n",
        "D:\\Data\\0_DAILY_INTERVAL_NDVI_TRMM\\NDVI_InnerMongolia//CN_2011_NDVI_recon.101.tif"
       ]
      },
      {
       "output_type": "stream",
       "stream": "stdout",
       "text": [
        "\n",
        "D:\\Data\\0_DAILY_INTERVAL_NDVI_TRMM\\NDVI_InnerMongolia//CN_2011_NDVI_recon.102.tif"
       ]
      },
      {
       "output_type": "stream",
       "stream": "stdout",
       "text": [
        "\n",
        "D:\\Data\\0_DAILY_INTERVAL_NDVI_TRMM\\NDVI_InnerMongolia//CN_2011_NDVI_recon.103.tif"
       ]
      },
      {
       "output_type": "stream",
       "stream": "stdout",
       "text": [
        "\n",
        "D:\\Data\\0_DAILY_INTERVAL_NDVI_TRMM\\NDVI_InnerMongolia//CN_2011_NDVI_recon.104.tif"
       ]
      },
      {
       "output_type": "stream",
       "stream": "stdout",
       "text": [
        "\n",
        "D:\\Data\\0_DAILY_INTERVAL_NDVI_TRMM\\NDVI_InnerMongolia//CN_2011_NDVI_recon.105.tif"
       ]
      },
      {
       "output_type": "stream",
       "stream": "stdout",
       "text": [
        "\n",
        "D:\\Data\\0_DAILY_INTERVAL_NDVI_TRMM\\NDVI_InnerMongolia//CN_2011_NDVI_recon.106.tif"
       ]
      },
      {
       "output_type": "stream",
       "stream": "stdout",
       "text": [
        "\n",
        "D:\\Data\\0_DAILY_INTERVAL_NDVI_TRMM\\NDVI_InnerMongolia//CN_2011_NDVI_recon.107.tif"
       ]
      },
      {
       "output_type": "stream",
       "stream": "stdout",
       "text": [
        "\n",
        "D:\\Data\\0_DAILY_INTERVAL_NDVI_TRMM\\NDVI_InnerMongolia//CN_2011_NDVI_recon.108.tif"
       ]
      },
      {
       "output_type": "stream",
       "stream": "stdout",
       "text": [
        "\n",
        "D:\\Data\\0_DAILY_INTERVAL_NDVI_TRMM\\NDVI_InnerMongolia//CN_2011_NDVI_recon.109.tif"
       ]
      },
      {
       "output_type": "stream",
       "stream": "stdout",
       "text": [
        "\n",
        "D:\\Data\\0_DAILY_INTERVAL_NDVI_TRMM\\NDVI_InnerMongolia//CN_2011_NDVI_recon.110.tif"
       ]
      },
      {
       "output_type": "stream",
       "stream": "stdout",
       "text": [
        "\n",
        "D:\\Data\\0_DAILY_INTERVAL_NDVI_TRMM\\NDVI_InnerMongolia//CN_2011_NDVI_recon.111.tif"
       ]
      },
      {
       "output_type": "stream",
       "stream": "stdout",
       "text": [
        "\n",
        "D:\\Data\\0_DAILY_INTERVAL_NDVI_TRMM\\NDVI_InnerMongolia//CN_2011_NDVI_recon.112.tif"
       ]
      },
      {
       "output_type": "stream",
       "stream": "stdout",
       "text": [
        "\n",
        "D:\\Data\\0_DAILY_INTERVAL_NDVI_TRMM\\NDVI_InnerMongolia//CN_2011_NDVI_recon.113.tif"
       ]
      },
      {
       "output_type": "stream",
       "stream": "stdout",
       "text": [
        "\n",
        "D:\\Data\\0_DAILY_INTERVAL_NDVI_TRMM\\NDVI_InnerMongolia//CN_2011_NDVI_recon.114.tif"
       ]
      },
      {
       "output_type": "stream",
       "stream": "stdout",
       "text": [
        "\n",
        "D:\\Data\\0_DAILY_INTERVAL_NDVI_TRMM\\NDVI_InnerMongolia//CN_2011_NDVI_recon.115.tif"
       ]
      },
      {
       "output_type": "stream",
       "stream": "stdout",
       "text": [
        "\n",
        "D:\\Data\\0_DAILY_INTERVAL_NDVI_TRMM\\NDVI_InnerMongolia//CN_2011_NDVI_recon.116.tif"
       ]
      },
      {
       "output_type": "stream",
       "stream": "stdout",
       "text": [
        "\n",
        "D:\\Data\\0_DAILY_INTERVAL_NDVI_TRMM\\NDVI_InnerMongolia//CN_2011_NDVI_recon.117.tif"
       ]
      },
      {
       "output_type": "stream",
       "stream": "stdout",
       "text": [
        "\n",
        "D:\\Data\\0_DAILY_INTERVAL_NDVI_TRMM\\NDVI_InnerMongolia//CN_2011_NDVI_recon.118.tif"
       ]
      },
      {
       "output_type": "stream",
       "stream": "stdout",
       "text": [
        "\n",
        "D:\\Data\\0_DAILY_INTERVAL_NDVI_TRMM\\NDVI_InnerMongolia//CN_2011_NDVI_recon.119.tif"
       ]
      },
      {
       "output_type": "stream",
       "stream": "stdout",
       "text": [
        "\n",
        "D:\\Data\\0_DAILY_INTERVAL_NDVI_TRMM\\NDVI_InnerMongolia//CN_2011_NDVI_recon.120.tif"
       ]
      },
      {
       "output_type": "stream",
       "stream": "stdout",
       "text": [
        "\n",
        "D:\\Data\\0_DAILY_INTERVAL_NDVI_TRMM\\NDVI_InnerMongolia//CN_2011_NDVI_recon.121.tif"
       ]
      },
      {
       "output_type": "stream",
       "stream": "stdout",
       "text": [
        "\n",
        "D:\\Data\\0_DAILY_INTERVAL_NDVI_TRMM\\NDVI_InnerMongolia//CN_2011_NDVI_recon.122.tif"
       ]
      },
      {
       "output_type": "stream",
       "stream": "stdout",
       "text": [
        "\n",
        "D:\\Data\\0_DAILY_INTERVAL_NDVI_TRMM\\NDVI_InnerMongolia//CN_2011_NDVI_recon.123.tif"
       ]
      },
      {
       "output_type": "stream",
       "stream": "stdout",
       "text": [
        "\n",
        "D:\\Data\\0_DAILY_INTERVAL_NDVI_TRMM\\NDVI_InnerMongolia//CN_2011_NDVI_recon.124.tif"
       ]
      },
      {
       "output_type": "stream",
       "stream": "stdout",
       "text": [
        "\n",
        "D:\\Data\\0_DAILY_INTERVAL_NDVI_TRMM\\NDVI_InnerMongolia//CN_2011_NDVI_recon.125.tif"
       ]
      },
      {
       "output_type": "stream",
       "stream": "stdout",
       "text": [
        "\n",
        "D:\\Data\\0_DAILY_INTERVAL_NDVI_TRMM\\NDVI_InnerMongolia//CN_2011_NDVI_recon.126.tif"
       ]
      },
      {
       "output_type": "stream",
       "stream": "stdout",
       "text": [
        "\n",
        "D:\\Data\\0_DAILY_INTERVAL_NDVI_TRMM\\NDVI_InnerMongolia//CN_2011_NDVI_recon.127.tif"
       ]
      },
      {
       "output_type": "stream",
       "stream": "stdout",
       "text": [
        "\n",
        "D:\\Data\\0_DAILY_INTERVAL_NDVI_TRMM\\NDVI_InnerMongolia//CN_2011_NDVI_recon.128.tif"
       ]
      },
      {
       "output_type": "stream",
       "stream": "stdout",
       "text": [
        "\n",
        "D:\\Data\\0_DAILY_INTERVAL_NDVI_TRMM\\NDVI_InnerMongolia//CN_2011_NDVI_recon.129.tif"
       ]
      },
      {
       "output_type": "stream",
       "stream": "stdout",
       "text": [
        "\n",
        "D:\\Data\\0_DAILY_INTERVAL_NDVI_TRMM\\NDVI_InnerMongolia//CN_2011_NDVI_recon.130.tif"
       ]
      },
      {
       "output_type": "stream",
       "stream": "stdout",
       "text": [
        "\n",
        "D:\\Data\\0_DAILY_INTERVAL_NDVI_TRMM\\NDVI_InnerMongolia//CN_2011_NDVI_recon.131.tif"
       ]
      },
      {
       "output_type": "stream",
       "stream": "stdout",
       "text": [
        "\n",
        "D:\\Data\\0_DAILY_INTERVAL_NDVI_TRMM\\NDVI_InnerMongolia//CN_2011_NDVI_recon.132.tif"
       ]
      },
      {
       "output_type": "stream",
       "stream": "stdout",
       "text": [
        "\n",
        "D:\\Data\\0_DAILY_INTERVAL_NDVI_TRMM\\NDVI_InnerMongolia//CN_2011_NDVI_recon.133.tif"
       ]
      },
      {
       "output_type": "stream",
       "stream": "stdout",
       "text": [
        "\n",
        "D:\\Data\\0_DAILY_INTERVAL_NDVI_TRMM\\NDVI_InnerMongolia//CN_2011_NDVI_recon.134.tif"
       ]
      },
      {
       "output_type": "stream",
       "stream": "stdout",
       "text": [
        "\n",
        "D:\\Data\\0_DAILY_INTERVAL_NDVI_TRMM\\NDVI_InnerMongolia//CN_2011_NDVI_recon.135.tif"
       ]
      },
      {
       "output_type": "stream",
       "stream": "stdout",
       "text": [
        "\n",
        "D:\\Data\\0_DAILY_INTERVAL_NDVI_TRMM\\NDVI_InnerMongolia//CN_2011_NDVI_recon.136.tif"
       ]
      },
      {
       "output_type": "stream",
       "stream": "stdout",
       "text": [
        "\n",
        "D:\\Data\\0_DAILY_INTERVAL_NDVI_TRMM\\NDVI_InnerMongolia//CN_2011_NDVI_recon.137.tif"
       ]
      },
      {
       "output_type": "stream",
       "stream": "stdout",
       "text": [
        "\n",
        "D:\\Data\\0_DAILY_INTERVAL_NDVI_TRMM\\NDVI_InnerMongolia//CN_2011_NDVI_recon.138.tif"
       ]
      },
      {
       "output_type": "stream",
       "stream": "stdout",
       "text": [
        "\n",
        "D:\\Data\\0_DAILY_INTERVAL_NDVI_TRMM\\NDVI_InnerMongolia//CN_2011_NDVI_recon.139.tif"
       ]
      },
      {
       "output_type": "stream",
       "stream": "stdout",
       "text": [
        "\n",
        "D:\\Data\\0_DAILY_INTERVAL_NDVI_TRMM\\NDVI_InnerMongolia//CN_2011_NDVI_recon.140.tif"
       ]
      },
      {
       "output_type": "stream",
       "stream": "stdout",
       "text": [
        "\n",
        "D:\\Data\\0_DAILY_INTERVAL_NDVI_TRMM\\NDVI_InnerMongolia//CN_2011_NDVI_recon.141.tif"
       ]
      },
      {
       "output_type": "stream",
       "stream": "stdout",
       "text": [
        "\n",
        "D:\\Data\\0_DAILY_INTERVAL_NDVI_TRMM\\NDVI_InnerMongolia//CN_2011_NDVI_recon.142.tif"
       ]
      },
      {
       "output_type": "stream",
       "stream": "stdout",
       "text": [
        "\n",
        "D:\\Data\\0_DAILY_INTERVAL_NDVI_TRMM\\NDVI_InnerMongolia//CN_2011_NDVI_recon.143.tif"
       ]
      },
      {
       "output_type": "stream",
       "stream": "stdout",
       "text": [
        "\n",
        "D:\\Data\\0_DAILY_INTERVAL_NDVI_TRMM\\NDVI_InnerMongolia//CN_2011_NDVI_recon.144.tif"
       ]
      },
      {
       "output_type": "stream",
       "stream": "stdout",
       "text": [
        "\n",
        "D:\\Data\\0_DAILY_INTERVAL_NDVI_TRMM\\NDVI_InnerMongolia//CN_2011_NDVI_recon.145.tif"
       ]
      },
      {
       "output_type": "stream",
       "stream": "stdout",
       "text": [
        "\n",
        "D:\\Data\\0_DAILY_INTERVAL_NDVI_TRMM\\NDVI_InnerMongolia//CN_2011_NDVI_recon.146.tif"
       ]
      },
      {
       "output_type": "stream",
       "stream": "stdout",
       "text": [
        "\n",
        "D:\\Data\\0_DAILY_INTERVAL_NDVI_TRMM\\NDVI_InnerMongolia//CN_2011_NDVI_recon.147.tif"
       ]
      },
      {
       "output_type": "stream",
       "stream": "stdout",
       "text": [
        "\n",
        "D:\\Data\\0_DAILY_INTERVAL_NDVI_TRMM\\NDVI_InnerMongolia//CN_2011_NDVI_recon.148.tif"
       ]
      },
      {
       "output_type": "stream",
       "stream": "stdout",
       "text": [
        "\n",
        "D:\\Data\\0_DAILY_INTERVAL_NDVI_TRMM\\NDVI_InnerMongolia//CN_2011_NDVI_recon.149.tif"
       ]
      },
      {
       "output_type": "stream",
       "stream": "stdout",
       "text": [
        "\n",
        "D:\\Data\\0_DAILY_INTERVAL_NDVI_TRMM\\NDVI_InnerMongolia//CN_2011_NDVI_recon.150.tif"
       ]
      },
      {
       "output_type": "stream",
       "stream": "stdout",
       "text": [
        "\n",
        "D:\\Data\\0_DAILY_INTERVAL_NDVI_TRMM\\NDVI_InnerMongolia//CN_2011_NDVI_recon.151.tif"
       ]
      },
      {
       "output_type": "stream",
       "stream": "stdout",
       "text": [
        "\n",
        "D:\\Data\\0_DAILY_INTERVAL_NDVI_TRMM\\NDVI_InnerMongolia//CN_2011_NDVI_recon.152.tif"
       ]
      },
      {
       "output_type": "stream",
       "stream": "stdout",
       "text": [
        "\n",
        "D:\\Data\\0_DAILY_INTERVAL_NDVI_TRMM\\NDVI_InnerMongolia//CN_2011_NDVI_recon.153.tif"
       ]
      },
      {
       "output_type": "stream",
       "stream": "stdout",
       "text": [
        "\n",
        "D:\\Data\\0_DAILY_INTERVAL_NDVI_TRMM\\NDVI_InnerMongolia//CN_2011_NDVI_recon.154.tif"
       ]
      },
      {
       "output_type": "stream",
       "stream": "stdout",
       "text": [
        "\n",
        "D:\\Data\\0_DAILY_INTERVAL_NDVI_TRMM\\NDVI_InnerMongolia//CN_2011_NDVI_recon.155.tif"
       ]
      },
      {
       "output_type": "stream",
       "stream": "stdout",
       "text": [
        "\n",
        "D:\\Data\\0_DAILY_INTERVAL_NDVI_TRMM\\NDVI_InnerMongolia//CN_2011_NDVI_recon.156.tif"
       ]
      },
      {
       "output_type": "stream",
       "stream": "stdout",
       "text": [
        "\n",
        "D:\\Data\\0_DAILY_INTERVAL_NDVI_TRMM\\NDVI_InnerMongolia//CN_2011_NDVI_recon.157.tif"
       ]
      },
      {
       "output_type": "stream",
       "stream": "stdout",
       "text": [
        "\n",
        "D:\\Data\\0_DAILY_INTERVAL_NDVI_TRMM\\NDVI_InnerMongolia//CN_2011_NDVI_recon.158.tif"
       ]
      },
      {
       "output_type": "stream",
       "stream": "stdout",
       "text": [
        "\n",
        "D:\\Data\\0_DAILY_INTERVAL_NDVI_TRMM\\NDVI_InnerMongolia//CN_2011_NDVI_recon.159.tif"
       ]
      },
      {
       "output_type": "stream",
       "stream": "stdout",
       "text": [
        "\n",
        "D:\\Data\\0_DAILY_INTERVAL_NDVI_TRMM\\NDVI_InnerMongolia//CN_2011_NDVI_recon.160.tif"
       ]
      },
      {
       "output_type": "stream",
       "stream": "stdout",
       "text": [
        "\n",
        "D:\\Data\\0_DAILY_INTERVAL_NDVI_TRMM\\NDVI_InnerMongolia//CN_2011_NDVI_recon.161.tif"
       ]
      },
      {
       "output_type": "stream",
       "stream": "stdout",
       "text": [
        "\n",
        "D:\\Data\\0_DAILY_INTERVAL_NDVI_TRMM\\NDVI_InnerMongolia//CN_2011_NDVI_recon.162.tif"
       ]
      },
      {
       "output_type": "stream",
       "stream": "stdout",
       "text": [
        "\n",
        "D:\\Data\\0_DAILY_INTERVAL_NDVI_TRMM\\NDVI_InnerMongolia//CN_2011_NDVI_recon.163.tif"
       ]
      },
      {
       "output_type": "stream",
       "stream": "stdout",
       "text": [
        "\n",
        "D:\\Data\\0_DAILY_INTERVAL_NDVI_TRMM\\NDVI_InnerMongolia//CN_2011_NDVI_recon.164.tif"
       ]
      },
      {
       "output_type": "stream",
       "stream": "stdout",
       "text": [
        "\n",
        "D:\\Data\\0_DAILY_INTERVAL_NDVI_TRMM\\NDVI_InnerMongolia//CN_2011_NDVI_recon.165.tif"
       ]
      },
      {
       "output_type": "stream",
       "stream": "stdout",
       "text": [
        "\n",
        "D:\\Data\\0_DAILY_INTERVAL_NDVI_TRMM\\NDVI_InnerMongolia//CN_2011_NDVI_recon.166.tif"
       ]
      },
      {
       "output_type": "stream",
       "stream": "stdout",
       "text": [
        "\n",
        "D:\\Data\\0_DAILY_INTERVAL_NDVI_TRMM\\NDVI_InnerMongolia//CN_2011_NDVI_recon.167.tif"
       ]
      },
      {
       "output_type": "stream",
       "stream": "stdout",
       "text": [
        "\n",
        "D:\\Data\\0_DAILY_INTERVAL_NDVI_TRMM\\NDVI_InnerMongolia//CN_2011_NDVI_recon.168.tif"
       ]
      },
      {
       "output_type": "stream",
       "stream": "stdout",
       "text": [
        "\n",
        "D:\\Data\\0_DAILY_INTERVAL_NDVI_TRMM\\NDVI_InnerMongolia//CN_2011_NDVI_recon.169.tif"
       ]
      },
      {
       "output_type": "stream",
       "stream": "stdout",
       "text": [
        "\n",
        "D:\\Data\\0_DAILY_INTERVAL_NDVI_TRMM\\NDVI_InnerMongolia//CN_2011_NDVI_recon.170.tif"
       ]
      },
      {
       "output_type": "stream",
       "stream": "stdout",
       "text": [
        "\n",
        "D:\\Data\\0_DAILY_INTERVAL_NDVI_TRMM\\NDVI_InnerMongolia//CN_2011_NDVI_recon.171.tif"
       ]
      },
      {
       "output_type": "stream",
       "stream": "stdout",
       "text": [
        "\n",
        "D:\\Data\\0_DAILY_INTERVAL_NDVI_TRMM\\NDVI_InnerMongolia//CN_2011_NDVI_recon.172.tif"
       ]
      },
      {
       "output_type": "stream",
       "stream": "stdout",
       "text": [
        "\n",
        "D:\\Data\\0_DAILY_INTERVAL_NDVI_TRMM\\NDVI_InnerMongolia//CN_2011_NDVI_recon.173.tif"
       ]
      },
      {
       "output_type": "stream",
       "stream": "stdout",
       "text": [
        "\n",
        "D:\\Data\\0_DAILY_INTERVAL_NDVI_TRMM\\NDVI_InnerMongolia//CN_2011_NDVI_recon.174.tif"
       ]
      },
      {
       "output_type": "stream",
       "stream": "stdout",
       "text": [
        "\n",
        "D:\\Data\\0_DAILY_INTERVAL_NDVI_TRMM\\NDVI_InnerMongolia//CN_2011_NDVI_recon.175.tif"
       ]
      },
      {
       "output_type": "stream",
       "stream": "stdout",
       "text": [
        "\n",
        "D:\\Data\\0_DAILY_INTERVAL_NDVI_TRMM\\NDVI_InnerMongolia//CN_2011_NDVI_recon.176.tif"
       ]
      },
      {
       "output_type": "stream",
       "stream": "stdout",
       "text": [
        "\n",
        "D:\\Data\\0_DAILY_INTERVAL_NDVI_TRMM\\NDVI_InnerMongolia//CN_2011_NDVI_recon.177.tif"
       ]
      },
      {
       "output_type": "stream",
       "stream": "stdout",
       "text": [
        "\n",
        "D:\\Data\\0_DAILY_INTERVAL_NDVI_TRMM\\NDVI_InnerMongolia//CN_2011_NDVI_recon.178.tif"
       ]
      },
      {
       "output_type": "stream",
       "stream": "stdout",
       "text": [
        "\n",
        "D:\\Data\\0_DAILY_INTERVAL_NDVI_TRMM\\NDVI_InnerMongolia//CN_2011_NDVI_recon.179.tif"
       ]
      },
      {
       "output_type": "stream",
       "stream": "stdout",
       "text": [
        "\n",
        "D:\\Data\\0_DAILY_INTERVAL_NDVI_TRMM\\NDVI_InnerMongolia//CN_2011_NDVI_recon.180.tif"
       ]
      },
      {
       "output_type": "stream",
       "stream": "stdout",
       "text": [
        "\n",
        "D:\\Data\\0_DAILY_INTERVAL_NDVI_TRMM\\NDVI_InnerMongolia//CN_2011_NDVI_recon.181.tif"
       ]
      },
      {
       "output_type": "stream",
       "stream": "stdout",
       "text": [
        "\n",
        "D:\\Data\\0_DAILY_INTERVAL_NDVI_TRMM\\NDVI_InnerMongolia//CN_2011_NDVI_recon.182.tif"
       ]
      },
      {
       "output_type": "stream",
       "stream": "stdout",
       "text": [
        "\n",
        "D:\\Data\\0_DAILY_INTERVAL_NDVI_TRMM\\NDVI_InnerMongolia//CN_2011_NDVI_recon.183.tif"
       ]
      },
      {
       "output_type": "stream",
       "stream": "stdout",
       "text": [
        "\n",
        "D:\\Data\\0_DAILY_INTERVAL_NDVI_TRMM\\NDVI_InnerMongolia//CN_2011_NDVI_recon.184.tif"
       ]
      },
      {
       "output_type": "stream",
       "stream": "stdout",
       "text": [
        "\n",
        "D:\\Data\\0_DAILY_INTERVAL_NDVI_TRMM\\NDVI_InnerMongolia//CN_2011_NDVI_recon.185.tif"
       ]
      },
      {
       "output_type": "stream",
       "stream": "stdout",
       "text": [
        "\n",
        "D:\\Data\\0_DAILY_INTERVAL_NDVI_TRMM\\NDVI_InnerMongolia//CN_2011_NDVI_recon.186.tif"
       ]
      },
      {
       "output_type": "stream",
       "stream": "stdout",
       "text": [
        "\n",
        "D:\\Data\\0_DAILY_INTERVAL_NDVI_TRMM\\NDVI_InnerMongolia//CN_2011_NDVI_recon.187.tif"
       ]
      },
      {
       "output_type": "stream",
       "stream": "stdout",
       "text": [
        "\n",
        "D:\\Data\\0_DAILY_INTERVAL_NDVI_TRMM\\NDVI_InnerMongolia//CN_2011_NDVI_recon.188.tif"
       ]
      },
      {
       "output_type": "stream",
       "stream": "stdout",
       "text": [
        "\n",
        "D:\\Data\\0_DAILY_INTERVAL_NDVI_TRMM\\NDVI_InnerMongolia//CN_2011_NDVI_recon.189.tif"
       ]
      },
      {
       "output_type": "stream",
       "stream": "stdout",
       "text": [
        "\n",
        "D:\\Data\\0_DAILY_INTERVAL_NDVI_TRMM\\NDVI_InnerMongolia//CN_2011_NDVI_recon.190.tif"
       ]
      },
      {
       "output_type": "stream",
       "stream": "stdout",
       "text": [
        "\n",
        "D:\\Data\\0_DAILY_INTERVAL_NDVI_TRMM\\NDVI_InnerMongolia//CN_2011_NDVI_recon.191.tif"
       ]
      },
      {
       "output_type": "stream",
       "stream": "stdout",
       "text": [
        "\n",
        "D:\\Data\\0_DAILY_INTERVAL_NDVI_TRMM\\NDVI_InnerMongolia//CN_2011_NDVI_recon.192.tif"
       ]
      },
      {
       "output_type": "stream",
       "stream": "stdout",
       "text": [
        "\n",
        "D:\\Data\\0_DAILY_INTERVAL_NDVI_TRMM\\NDVI_InnerMongolia//CN_2011_NDVI_recon.193.tif"
       ]
      },
      {
       "output_type": "stream",
       "stream": "stdout",
       "text": [
        "\n",
        "D:\\Data\\0_DAILY_INTERVAL_NDVI_TRMM\\NDVI_InnerMongolia//CN_2011_NDVI_recon.194.tif"
       ]
      },
      {
       "output_type": "stream",
       "stream": "stdout",
       "text": [
        "\n",
        "D:\\Data\\0_DAILY_INTERVAL_NDVI_TRMM\\NDVI_InnerMongolia//CN_2011_NDVI_recon.195.tif"
       ]
      },
      {
       "output_type": "stream",
       "stream": "stdout",
       "text": [
        "\n",
        "D:\\Data\\0_DAILY_INTERVAL_NDVI_TRMM\\NDVI_InnerMongolia//CN_2011_NDVI_recon.196.tif"
       ]
      },
      {
       "output_type": "stream",
       "stream": "stdout",
       "text": [
        "\n",
        "D:\\Data\\0_DAILY_INTERVAL_NDVI_TRMM\\NDVI_InnerMongolia//CN_2011_NDVI_recon.197.tif"
       ]
      },
      {
       "output_type": "stream",
       "stream": "stdout",
       "text": [
        "\n",
        "D:\\Data\\0_DAILY_INTERVAL_NDVI_TRMM\\NDVI_InnerMongolia//CN_2011_NDVI_recon.198.tif"
       ]
      },
      {
       "output_type": "stream",
       "stream": "stdout",
       "text": [
        "\n",
        "D:\\Data\\0_DAILY_INTERVAL_NDVI_TRMM\\NDVI_InnerMongolia//CN_2011_NDVI_recon.199.tif"
       ]
      },
      {
       "output_type": "stream",
       "stream": "stdout",
       "text": [
        "\n",
        "D:\\Data\\0_DAILY_INTERVAL_NDVI_TRMM\\NDVI_InnerMongolia//CN_2011_NDVI_recon.200.tif"
       ]
      },
      {
       "output_type": "stream",
       "stream": "stdout",
       "text": [
        "\n",
        "D:\\Data\\0_DAILY_INTERVAL_NDVI_TRMM\\NDVI_InnerMongolia//CN_2011_NDVI_recon.201.tif"
       ]
      },
      {
       "output_type": "stream",
       "stream": "stdout",
       "text": [
        "\n",
        "D:\\Data\\0_DAILY_INTERVAL_NDVI_TRMM\\NDVI_InnerMongolia//CN_2011_NDVI_recon.202.tif"
       ]
      },
      {
       "output_type": "stream",
       "stream": "stdout",
       "text": [
        "\n",
        "D:\\Data\\0_DAILY_INTERVAL_NDVI_TRMM\\NDVI_InnerMongolia//CN_2011_NDVI_recon.203.tif"
       ]
      },
      {
       "output_type": "stream",
       "stream": "stdout",
       "text": [
        "\n",
        "D:\\Data\\0_DAILY_INTERVAL_NDVI_TRMM\\NDVI_InnerMongolia//CN_2011_NDVI_recon.204.tif"
       ]
      },
      {
       "output_type": "stream",
       "stream": "stdout",
       "text": [
        "\n",
        "D:\\Data\\0_DAILY_INTERVAL_NDVI_TRMM\\NDVI_InnerMongolia//CN_2011_NDVI_recon.205.tif"
       ]
      },
      {
       "output_type": "stream",
       "stream": "stdout",
       "text": [
        "\n",
        "D:\\Data\\0_DAILY_INTERVAL_NDVI_TRMM\\NDVI_InnerMongolia//CN_2011_NDVI_recon.206.tif"
       ]
      },
      {
       "output_type": "stream",
       "stream": "stdout",
       "text": [
        "\n",
        "D:\\Data\\0_DAILY_INTERVAL_NDVI_TRMM\\NDVI_InnerMongolia//CN_2011_NDVI_recon.207.tif"
       ]
      },
      {
       "output_type": "stream",
       "stream": "stdout",
       "text": [
        "\n",
        "D:\\Data\\0_DAILY_INTERVAL_NDVI_TRMM\\NDVI_InnerMongolia//CN_2011_NDVI_recon.208.tif"
       ]
      },
      {
       "output_type": "stream",
       "stream": "stdout",
       "text": [
        "\n",
        "D:\\Data\\0_DAILY_INTERVAL_NDVI_TRMM\\NDVI_InnerMongolia//CN_2011_NDVI_recon.209.tif"
       ]
      },
      {
       "output_type": "stream",
       "stream": "stdout",
       "text": [
        "\n",
        "D:\\Data\\0_DAILY_INTERVAL_NDVI_TRMM\\NDVI_InnerMongolia//CN_2011_NDVI_recon.210.tif"
       ]
      },
      {
       "output_type": "stream",
       "stream": "stdout",
       "text": [
        "\n",
        "D:\\Data\\0_DAILY_INTERVAL_NDVI_TRMM\\NDVI_InnerMongolia//CN_2011_NDVI_recon.211.tif"
       ]
      },
      {
       "output_type": "stream",
       "stream": "stdout",
       "text": [
        "\n",
        "D:\\Data\\0_DAILY_INTERVAL_NDVI_TRMM\\NDVI_InnerMongolia//CN_2011_NDVI_recon.212.tif"
       ]
      },
      {
       "output_type": "stream",
       "stream": "stdout",
       "text": [
        "\n",
        "D:\\Data\\0_DAILY_INTERVAL_NDVI_TRMM\\NDVI_InnerMongolia//CN_2011_NDVI_recon.213.tif"
       ]
      },
      {
       "output_type": "stream",
       "stream": "stdout",
       "text": [
        "\n",
        "D:\\Data\\0_DAILY_INTERVAL_NDVI_TRMM\\NDVI_InnerMongolia//CN_2011_NDVI_recon.214.tif"
       ]
      },
      {
       "output_type": "stream",
       "stream": "stdout",
       "text": [
        "\n",
        "D:\\Data\\0_DAILY_INTERVAL_NDVI_TRMM\\NDVI_InnerMongolia//CN_2011_NDVI_recon.215.tif"
       ]
      },
      {
       "output_type": "stream",
       "stream": "stdout",
       "text": [
        "\n",
        "D:\\Data\\0_DAILY_INTERVAL_NDVI_TRMM\\NDVI_InnerMongolia//CN_2011_NDVI_recon.216.tif"
       ]
      },
      {
       "output_type": "stream",
       "stream": "stdout",
       "text": [
        "\n",
        "D:\\Data\\0_DAILY_INTERVAL_NDVI_TRMM\\NDVI_InnerMongolia//CN_2011_NDVI_recon.217.tif"
       ]
      },
      {
       "output_type": "stream",
       "stream": "stdout",
       "text": [
        "\n",
        "D:\\Data\\0_DAILY_INTERVAL_NDVI_TRMM\\NDVI_InnerMongolia//CN_2011_NDVI_recon.218.tif"
       ]
      },
      {
       "output_type": "stream",
       "stream": "stdout",
       "text": [
        "\n",
        "D:\\Data\\0_DAILY_INTERVAL_NDVI_TRMM\\NDVI_InnerMongolia//CN_2011_NDVI_recon.219.tif"
       ]
      },
      {
       "output_type": "stream",
       "stream": "stdout",
       "text": [
        "\n",
        "D:\\Data\\0_DAILY_INTERVAL_NDVI_TRMM\\NDVI_InnerMongolia//CN_2011_NDVI_recon.220.tif"
       ]
      },
      {
       "output_type": "stream",
       "stream": "stdout",
       "text": [
        "\n",
        "D:\\Data\\0_DAILY_INTERVAL_NDVI_TRMM\\NDVI_InnerMongolia//CN_2011_NDVI_recon.221.tif"
       ]
      },
      {
       "output_type": "stream",
       "stream": "stdout",
       "text": [
        "\n",
        "D:\\Data\\0_DAILY_INTERVAL_NDVI_TRMM\\NDVI_InnerMongolia//CN_2011_NDVI_recon.222.tif"
       ]
      },
      {
       "output_type": "stream",
       "stream": "stdout",
       "text": [
        "\n",
        "D:\\Data\\0_DAILY_INTERVAL_NDVI_TRMM\\NDVI_InnerMongolia//CN_2011_NDVI_recon.223.tif"
       ]
      },
      {
       "output_type": "stream",
       "stream": "stdout",
       "text": [
        "\n",
        "D:\\Data\\0_DAILY_INTERVAL_NDVI_TRMM\\NDVI_InnerMongolia//CN_2011_NDVI_recon.224.tif"
       ]
      },
      {
       "output_type": "stream",
       "stream": "stdout",
       "text": [
        "\n",
        "D:\\Data\\0_DAILY_INTERVAL_NDVI_TRMM\\NDVI_InnerMongolia//CN_2011_NDVI_recon.225.tif"
       ]
      },
      {
       "output_type": "stream",
       "stream": "stdout",
       "text": [
        "\n",
        "D:\\Data\\0_DAILY_INTERVAL_NDVI_TRMM\\NDVI_InnerMongolia//CN_2011_NDVI_recon.226.tif"
       ]
      },
      {
       "output_type": "stream",
       "stream": "stdout",
       "text": [
        "\n",
        "D:\\Data\\0_DAILY_INTERVAL_NDVI_TRMM\\NDVI_InnerMongolia//CN_2011_NDVI_recon.227.tif"
       ]
      },
      {
       "output_type": "stream",
       "stream": "stdout",
       "text": [
        "\n",
        "D:\\Data\\0_DAILY_INTERVAL_NDVI_TRMM\\NDVI_InnerMongolia//CN_2011_NDVI_recon.228.tif"
       ]
      },
      {
       "output_type": "stream",
       "stream": "stdout",
       "text": [
        "\n",
        "D:\\Data\\0_DAILY_INTERVAL_NDVI_TRMM\\NDVI_InnerMongolia//CN_2011_NDVI_recon.229.tif"
       ]
      },
      {
       "output_type": "stream",
       "stream": "stdout",
       "text": [
        "\n",
        "D:\\Data\\0_DAILY_INTERVAL_NDVI_TRMM\\NDVI_InnerMongolia//CN_2011_NDVI_recon.230.tif"
       ]
      },
      {
       "output_type": "stream",
       "stream": "stdout",
       "text": [
        "\n",
        "D:\\Data\\0_DAILY_INTERVAL_NDVI_TRMM\\NDVI_InnerMongolia//CN_2011_NDVI_recon.231.tif"
       ]
      },
      {
       "output_type": "stream",
       "stream": "stdout",
       "text": [
        "\n",
        "D:\\Data\\0_DAILY_INTERVAL_NDVI_TRMM\\NDVI_InnerMongolia//CN_2011_NDVI_recon.232.tif"
       ]
      },
      {
       "output_type": "stream",
       "stream": "stdout",
       "text": [
        "\n",
        "D:\\Data\\0_DAILY_INTERVAL_NDVI_TRMM\\NDVI_InnerMongolia//CN_2011_NDVI_recon.233.tif"
       ]
      },
      {
       "output_type": "stream",
       "stream": "stdout",
       "text": [
        "\n",
        "D:\\Data\\0_DAILY_INTERVAL_NDVI_TRMM\\NDVI_InnerMongolia//CN_2011_NDVI_recon.234.tif"
       ]
      },
      {
       "output_type": "stream",
       "stream": "stdout",
       "text": [
        "\n",
        "D:\\Data\\0_DAILY_INTERVAL_NDVI_TRMM\\NDVI_InnerMongolia//CN_2011_NDVI_recon.235.tif"
       ]
      },
      {
       "output_type": "stream",
       "stream": "stdout",
       "text": [
        "\n",
        "D:\\Data\\0_DAILY_INTERVAL_NDVI_TRMM\\NDVI_InnerMongolia//CN_2011_NDVI_recon.236.tif"
       ]
      },
      {
       "output_type": "stream",
       "stream": "stdout",
       "text": [
        "\n",
        "D:\\Data\\0_DAILY_INTERVAL_NDVI_TRMM\\NDVI_InnerMongolia//CN_2011_NDVI_recon.237.tif"
       ]
      },
      {
       "output_type": "stream",
       "stream": "stdout",
       "text": [
        "\n",
        "D:\\Data\\0_DAILY_INTERVAL_NDVI_TRMM\\NDVI_InnerMongolia//CN_2011_NDVI_recon.238.tif"
       ]
      },
      {
       "output_type": "stream",
       "stream": "stdout",
       "text": [
        "\n",
        "D:\\Data\\0_DAILY_INTERVAL_NDVI_TRMM\\NDVI_InnerMongolia//CN_2011_NDVI_recon.239.tif"
       ]
      },
      {
       "output_type": "stream",
       "stream": "stdout",
       "text": [
        "\n",
        "D:\\Data\\0_DAILY_INTERVAL_NDVI_TRMM\\NDVI_InnerMongolia//CN_2011_NDVI_recon.240.tif"
       ]
      },
      {
       "output_type": "stream",
       "stream": "stdout",
       "text": [
        "\n",
        "D:\\Data\\0_DAILY_INTERVAL_NDVI_TRMM\\NDVI_InnerMongolia//CN_2011_NDVI_recon.241.tif"
       ]
      },
      {
       "output_type": "stream",
       "stream": "stdout",
       "text": [
        "\n",
        "D:\\Data\\0_DAILY_INTERVAL_NDVI_TRMM\\NDVI_InnerMongolia//CN_2011_NDVI_recon.242.tif"
       ]
      },
      {
       "output_type": "stream",
       "stream": "stdout",
       "text": [
        "\n",
        "D:\\Data\\0_DAILY_INTERVAL_NDVI_TRMM\\NDVI_InnerMongolia//CN_2011_NDVI_recon.243.tif"
       ]
      },
      {
       "output_type": "stream",
       "stream": "stdout",
       "text": [
        "\n",
        "D:\\Data\\0_DAILY_INTERVAL_NDVI_TRMM\\NDVI_InnerMongolia//CN_2011_NDVI_recon.244.tif"
       ]
      },
      {
       "output_type": "stream",
       "stream": "stdout",
       "text": [
        "\n",
        "D:\\Data\\0_DAILY_INTERVAL_NDVI_TRMM\\NDVI_InnerMongolia//CN_2011_NDVI_recon.245.tif"
       ]
      },
      {
       "output_type": "stream",
       "stream": "stdout",
       "text": [
        "\n",
        "D:\\Data\\0_DAILY_INTERVAL_NDVI_TRMM\\NDVI_InnerMongolia//CN_2011_NDVI_recon.246.tif"
       ]
      },
      {
       "output_type": "stream",
       "stream": "stdout",
       "text": [
        "\n",
        "D:\\Data\\0_DAILY_INTERVAL_NDVI_TRMM\\NDVI_InnerMongolia//CN_2011_NDVI_recon.247.tif"
       ]
      },
      {
       "output_type": "stream",
       "stream": "stdout",
       "text": [
        "\n",
        "D:\\Data\\0_DAILY_INTERVAL_NDVI_TRMM\\NDVI_InnerMongolia//CN_2011_NDVI_recon.248.tif"
       ]
      },
      {
       "output_type": "stream",
       "stream": "stdout",
       "text": [
        "\n",
        "D:\\Data\\0_DAILY_INTERVAL_NDVI_TRMM\\NDVI_InnerMongolia//CN_2011_NDVI_recon.249.tif"
       ]
      },
      {
       "output_type": "stream",
       "stream": "stdout",
       "text": [
        "\n",
        "D:\\Data\\0_DAILY_INTERVAL_NDVI_TRMM\\NDVI_InnerMongolia//CN_2011_NDVI_recon.250.tif"
       ]
      },
      {
       "output_type": "stream",
       "stream": "stdout",
       "text": [
        "\n",
        "D:\\Data\\0_DAILY_INTERVAL_NDVI_TRMM\\NDVI_InnerMongolia//CN_2011_NDVI_recon.251.tif"
       ]
      },
      {
       "output_type": "stream",
       "stream": "stdout",
       "text": [
        "\n",
        "D:\\Data\\0_DAILY_INTERVAL_NDVI_TRMM\\NDVI_InnerMongolia//CN_2011_NDVI_recon.252.tif"
       ]
      },
      {
       "output_type": "stream",
       "stream": "stdout",
       "text": [
        "\n",
        "D:\\Data\\0_DAILY_INTERVAL_NDVI_TRMM\\NDVI_InnerMongolia//CN_2011_NDVI_recon.253.tif"
       ]
      },
      {
       "output_type": "stream",
       "stream": "stdout",
       "text": [
        "\n",
        "D:\\Data\\0_DAILY_INTERVAL_NDVI_TRMM\\NDVI_InnerMongolia//CN_2011_NDVI_recon.254.tif"
       ]
      },
      {
       "output_type": "stream",
       "stream": "stdout",
       "text": [
        "\n",
        "D:\\Data\\0_DAILY_INTERVAL_NDVI_TRMM\\NDVI_InnerMongolia//CN_2011_NDVI_recon.255.tif"
       ]
      },
      {
       "output_type": "stream",
       "stream": "stdout",
       "text": [
        "\n",
        "D:\\Data\\0_DAILY_INTERVAL_NDVI_TRMM\\NDVI_InnerMongolia//CN_2011_NDVI_recon.256.tif"
       ]
      },
      {
       "output_type": "stream",
       "stream": "stdout",
       "text": [
        "\n",
        "D:\\Data\\0_DAILY_INTERVAL_NDVI_TRMM\\NDVI_InnerMongolia//CN_2011_NDVI_recon.257.tif"
       ]
      },
      {
       "output_type": "stream",
       "stream": "stdout",
       "text": [
        "\n",
        "D:\\Data\\0_DAILY_INTERVAL_NDVI_TRMM\\NDVI_InnerMongolia//CN_2011_NDVI_recon.258.tif"
       ]
      },
      {
       "output_type": "stream",
       "stream": "stdout",
       "text": [
        "\n",
        "D:\\Data\\0_DAILY_INTERVAL_NDVI_TRMM\\NDVI_InnerMongolia//CN_2011_NDVI_recon.259.tif"
       ]
      },
      {
       "output_type": "stream",
       "stream": "stdout",
       "text": [
        "\n",
        "D:\\Data\\0_DAILY_INTERVAL_NDVI_TRMM\\NDVI_InnerMongolia//CN_2011_NDVI_recon.260.tif"
       ]
      },
      {
       "output_type": "stream",
       "stream": "stdout",
       "text": [
        "\n",
        "D:\\Data\\0_DAILY_INTERVAL_NDVI_TRMM\\NDVI_InnerMongolia//CN_2011_NDVI_recon.261.tif"
       ]
      },
      {
       "output_type": "stream",
       "stream": "stdout",
       "text": [
        "\n",
        "D:\\Data\\0_DAILY_INTERVAL_NDVI_TRMM\\NDVI_InnerMongolia//CN_2011_NDVI_recon.262.tif"
       ]
      },
      {
       "output_type": "stream",
       "stream": "stdout",
       "text": [
        "\n",
        "D:\\Data\\0_DAILY_INTERVAL_NDVI_TRMM\\NDVI_InnerMongolia//CN_2011_NDVI_recon.263.tif"
       ]
      },
      {
       "output_type": "stream",
       "stream": "stdout",
       "text": [
        "\n",
        "D:\\Data\\0_DAILY_INTERVAL_NDVI_TRMM\\NDVI_InnerMongolia//CN_2011_NDVI_recon.264.tif"
       ]
      },
      {
       "output_type": "stream",
       "stream": "stdout",
       "text": [
        "\n",
        "D:\\Data\\0_DAILY_INTERVAL_NDVI_TRMM\\NDVI_InnerMongolia//CN_2011_NDVI_recon.265.tif"
       ]
      },
      {
       "output_type": "stream",
       "stream": "stdout",
       "text": [
        "\n",
        "D:\\Data\\0_DAILY_INTERVAL_NDVI_TRMM\\NDVI_InnerMongolia//CN_2011_NDVI_recon.266.tif"
       ]
      },
      {
       "output_type": "stream",
       "stream": "stdout",
       "text": [
        "\n",
        "D:\\Data\\0_DAILY_INTERVAL_NDVI_TRMM\\NDVI_InnerMongolia//CN_2011_NDVI_recon.267.tif"
       ]
      },
      {
       "output_type": "stream",
       "stream": "stdout",
       "text": [
        "\n",
        "D:\\Data\\0_DAILY_INTERVAL_NDVI_TRMM\\NDVI_InnerMongolia//CN_2011_NDVI_recon.268.tif"
       ]
      },
      {
       "output_type": "stream",
       "stream": "stdout",
       "text": [
        "\n",
        "D:\\Data\\0_DAILY_INTERVAL_NDVI_TRMM\\NDVI_InnerMongolia//CN_2011_NDVI_recon.269.tif"
       ]
      },
      {
       "output_type": "stream",
       "stream": "stdout",
       "text": [
        "\n",
        "D:\\Data\\0_DAILY_INTERVAL_NDVI_TRMM\\NDVI_InnerMongolia//CN_2011_NDVI_recon.270.tif"
       ]
      },
      {
       "output_type": "stream",
       "stream": "stdout",
       "text": [
        "\n",
        "D:\\Data\\0_DAILY_INTERVAL_NDVI_TRMM\\NDVI_InnerMongolia//CN_2011_NDVI_recon.271.tif"
       ]
      },
      {
       "output_type": "stream",
       "stream": "stdout",
       "text": [
        "\n",
        "D:\\Data\\0_DAILY_INTERVAL_NDVI_TRMM\\NDVI_InnerMongolia//CN_2011_NDVI_recon.272.tif"
       ]
      },
      {
       "output_type": "stream",
       "stream": "stdout",
       "text": [
        "\n",
        "D:\\Data\\0_DAILY_INTERVAL_NDVI_TRMM\\NDVI_InnerMongolia//CN_2011_NDVI_recon.273.tif"
       ]
      },
      {
       "output_type": "stream",
       "stream": "stdout",
       "text": [
        "\n",
        "D:\\Data\\0_DAILY_INTERVAL_NDVI_TRMM\\NDVI_InnerMongolia//CN_2011_NDVI_recon.274.tif"
       ]
      },
      {
       "output_type": "stream",
       "stream": "stdout",
       "text": [
        "\n",
        "D:\\Data\\0_DAILY_INTERVAL_NDVI_TRMM\\NDVI_InnerMongolia//CN_2011_NDVI_recon.275.tif"
       ]
      },
      {
       "output_type": "stream",
       "stream": "stdout",
       "text": [
        "\n",
        "D:\\Data\\0_DAILY_INTERVAL_NDVI_TRMM\\NDVI_InnerMongolia//CN_2011_NDVI_recon.276.tif"
       ]
      },
      {
       "output_type": "stream",
       "stream": "stdout",
       "text": [
        "\n",
        "D:\\Data\\0_DAILY_INTERVAL_NDVI_TRMM\\NDVI_InnerMongolia//CN_2011_NDVI_recon.277.tif"
       ]
      },
      {
       "output_type": "stream",
       "stream": "stdout",
       "text": [
        "\n",
        "D:\\Data\\0_DAILY_INTERVAL_NDVI_TRMM\\NDVI_InnerMongolia//CN_2011_NDVI_recon.278.tif"
       ]
      },
      {
       "output_type": "stream",
       "stream": "stdout",
       "text": [
        "\n",
        "D:\\Data\\0_DAILY_INTERVAL_NDVI_TRMM\\NDVI_InnerMongolia//CN_2011_NDVI_recon.279.tif"
       ]
      },
      {
       "output_type": "stream",
       "stream": "stdout",
       "text": [
        "\n",
        "D:\\Data\\0_DAILY_INTERVAL_NDVI_TRMM\\NDVI_InnerMongolia//CN_2011_NDVI_recon.280.tif"
       ]
      },
      {
       "output_type": "stream",
       "stream": "stdout",
       "text": [
        "\n",
        "D:\\Data\\0_DAILY_INTERVAL_NDVI_TRMM\\NDVI_InnerMongolia//CN_2011_NDVI_recon.281.tif"
       ]
      },
      {
       "output_type": "stream",
       "stream": "stdout",
       "text": [
        "\n",
        "D:\\Data\\0_DAILY_INTERVAL_NDVI_TRMM\\NDVI_InnerMongolia//CN_2011_NDVI_recon.282.tif"
       ]
      },
      {
       "output_type": "stream",
       "stream": "stdout",
       "text": [
        "\n",
        "D:\\Data\\0_DAILY_INTERVAL_NDVI_TRMM\\NDVI_InnerMongolia//CN_2011_NDVI_recon.283.tif"
       ]
      },
      {
       "output_type": "stream",
       "stream": "stdout",
       "text": [
        "\n",
        "D:\\Data\\0_DAILY_INTERVAL_NDVI_TRMM\\NDVI_InnerMongolia//CN_2011_NDVI_recon.284.tif"
       ]
      },
      {
       "output_type": "stream",
       "stream": "stdout",
       "text": [
        "\n",
        "D:\\Data\\0_DAILY_INTERVAL_NDVI_TRMM\\NDVI_InnerMongolia//CN_2011_NDVI_recon.285.tif"
       ]
      },
      {
       "output_type": "stream",
       "stream": "stdout",
       "text": [
        "\n",
        "D:\\Data\\0_DAILY_INTERVAL_NDVI_TRMM\\NDVI_InnerMongolia//CN_2011_NDVI_recon.286.tif"
       ]
      },
      {
       "output_type": "stream",
       "stream": "stdout",
       "text": [
        "\n",
        "D:\\Data\\0_DAILY_INTERVAL_NDVI_TRMM\\NDVI_InnerMongolia//CN_2011_NDVI_recon.287.tif"
       ]
      },
      {
       "output_type": "stream",
       "stream": "stdout",
       "text": [
        "\n",
        "D:\\Data\\0_DAILY_INTERVAL_NDVI_TRMM\\NDVI_InnerMongolia//CN_2011_NDVI_recon.288.tif"
       ]
      },
      {
       "output_type": "stream",
       "stream": "stdout",
       "text": [
        "\n",
        "D:\\Data\\0_DAILY_INTERVAL_NDVI_TRMM\\NDVI_InnerMongolia//CN_2011_NDVI_recon.289.tif"
       ]
      },
      {
       "output_type": "stream",
       "stream": "stdout",
       "text": [
        "\n",
        "D:\\Data\\0_DAILY_INTERVAL_NDVI_TRMM\\NDVI_InnerMongolia//CN_2011_NDVI_recon.290.tif"
       ]
      },
      {
       "output_type": "stream",
       "stream": "stdout",
       "text": [
        "\n",
        "D:\\Data\\0_DAILY_INTERVAL_NDVI_TRMM\\NDVI_InnerMongolia//CN_2011_NDVI_recon.291.tif"
       ]
      },
      {
       "output_type": "stream",
       "stream": "stdout",
       "text": [
        "\n",
        "D:\\Data\\0_DAILY_INTERVAL_NDVI_TRMM\\NDVI_InnerMongolia//CN_2011_NDVI_recon.292.tif"
       ]
      },
      {
       "output_type": "stream",
       "stream": "stdout",
       "text": [
        "\n",
        "D:\\Data\\0_DAILY_INTERVAL_NDVI_TRMM\\NDVI_InnerMongolia//CN_2011_NDVI_recon.293.tif"
       ]
      },
      {
       "output_type": "stream",
       "stream": "stdout",
       "text": [
        "\n",
        "D:\\Data\\0_DAILY_INTERVAL_NDVI_TRMM\\NDVI_InnerMongolia//CN_2011_NDVI_recon.294.tif"
       ]
      },
      {
       "output_type": "stream",
       "stream": "stdout",
       "text": [
        "\n",
        "D:\\Data\\0_DAILY_INTERVAL_NDVI_TRMM\\NDVI_InnerMongolia//CN_2011_NDVI_recon.295.tif"
       ]
      },
      {
       "output_type": "stream",
       "stream": "stdout",
       "text": [
        "\n",
        "D:\\Data\\0_DAILY_INTERVAL_NDVI_TRMM\\NDVI_InnerMongolia//CN_2011_NDVI_recon.296.tif"
       ]
      },
      {
       "output_type": "stream",
       "stream": "stdout",
       "text": [
        "\n",
        "D:\\Data\\0_DAILY_INTERVAL_NDVI_TRMM\\NDVI_InnerMongolia//CN_2011_NDVI_recon.297.tif"
       ]
      },
      {
       "output_type": "stream",
       "stream": "stdout",
       "text": [
        "\n",
        "D:\\Data\\0_DAILY_INTERVAL_NDVI_TRMM\\NDVI_InnerMongolia//CN_2011_NDVI_recon.298.tif"
       ]
      },
      {
       "output_type": "stream",
       "stream": "stdout",
       "text": [
        "\n",
        "D:\\Data\\0_DAILY_INTERVAL_NDVI_TRMM\\NDVI_InnerMongolia//CN_2011_NDVI_recon.299.tif"
       ]
      },
      {
       "output_type": "stream",
       "stream": "stdout",
       "text": [
        "\n",
        "D:\\Data\\0_DAILY_INTERVAL_NDVI_TRMM\\NDVI_InnerMongolia//CN_2011_NDVI_recon.300.tif"
       ]
      },
      {
       "output_type": "stream",
       "stream": "stdout",
       "text": [
        "\n",
        "D:\\Data\\0_DAILY_INTERVAL_NDVI_TRMM\\NDVI_InnerMongolia//CN_2011_NDVI_recon.301.tif"
       ]
      },
      {
       "output_type": "stream",
       "stream": "stdout",
       "text": [
        "\n",
        "D:\\Data\\0_DAILY_INTERVAL_NDVI_TRMM\\NDVI_InnerMongolia//CN_2011_NDVI_recon.302.tif"
       ]
      },
      {
       "output_type": "stream",
       "stream": "stdout",
       "text": [
        "\n",
        "D:\\Data\\0_DAILY_INTERVAL_NDVI_TRMM\\NDVI_InnerMongolia//CN_2011_NDVI_recon.303.tif"
       ]
      },
      {
       "output_type": "stream",
       "stream": "stdout",
       "text": [
        "\n",
        "D:\\Data\\0_DAILY_INTERVAL_NDVI_TRMM\\NDVI_InnerMongolia//CN_2011_NDVI_recon.304.tif"
       ]
      },
      {
       "output_type": "stream",
       "stream": "stdout",
       "text": [
        "\n",
        "D:\\Data\\0_DAILY_INTERVAL_NDVI_TRMM\\NDVI_InnerMongolia//CN_2011_NDVI_recon.305.tif"
       ]
      },
      {
       "output_type": "stream",
       "stream": "stdout",
       "text": [
        "\n",
        "D:\\Data\\0_DAILY_INTERVAL_NDVI_TRMM\\NDVI_InnerMongolia//CN_2011_NDVI_recon.306.tif"
       ]
      },
      {
       "output_type": "stream",
       "stream": "stdout",
       "text": [
        "\n",
        "D:\\Data\\0_DAILY_INTERVAL_NDVI_TRMM\\NDVI_InnerMongolia//CN_2011_NDVI_recon.307.tif"
       ]
      },
      {
       "output_type": "stream",
       "stream": "stdout",
       "text": [
        "\n",
        "D:\\Data\\0_DAILY_INTERVAL_NDVI_TRMM\\NDVI_InnerMongolia//CN_2011_NDVI_recon.308.tif"
       ]
      },
      {
       "output_type": "stream",
       "stream": "stdout",
       "text": [
        "\n",
        "D:\\Data\\0_DAILY_INTERVAL_NDVI_TRMM\\NDVI_InnerMongolia//CN_2011_NDVI_recon.309.tif"
       ]
      },
      {
       "output_type": "stream",
       "stream": "stdout",
       "text": [
        "\n",
        "D:\\Data\\0_DAILY_INTERVAL_NDVI_TRMM\\NDVI_InnerMongolia//CN_2011_NDVI_recon.310.tif"
       ]
      },
      {
       "output_type": "stream",
       "stream": "stdout",
       "text": [
        "\n",
        "D:\\Data\\0_DAILY_INTERVAL_NDVI_TRMM\\NDVI_InnerMongolia//CN_2011_NDVI_recon.311.tif"
       ]
      },
      {
       "output_type": "stream",
       "stream": "stdout",
       "text": [
        "\n",
        "D:\\Data\\0_DAILY_INTERVAL_NDVI_TRMM\\NDVI_InnerMongolia//CN_2011_NDVI_recon.312.tif"
       ]
      },
      {
       "output_type": "stream",
       "stream": "stdout",
       "text": [
        "\n",
        "D:\\Data\\0_DAILY_INTERVAL_NDVI_TRMM\\NDVI_InnerMongolia//CN_2011_NDVI_recon.313.tif"
       ]
      },
      {
       "output_type": "stream",
       "stream": "stdout",
       "text": [
        "\n",
        "D:\\Data\\0_DAILY_INTERVAL_NDVI_TRMM\\NDVI_InnerMongolia//CN_2011_NDVI_recon.314.tif"
       ]
      },
      {
       "output_type": "stream",
       "stream": "stdout",
       "text": [
        "\n",
        "D:\\Data\\0_DAILY_INTERVAL_NDVI_TRMM\\NDVI_InnerMongolia//CN_2011_NDVI_recon.315.tif"
       ]
      },
      {
       "output_type": "stream",
       "stream": "stdout",
       "text": [
        "\n",
        "D:\\Data\\0_DAILY_INTERVAL_NDVI_TRMM\\NDVI_InnerMongolia//CN_2011_NDVI_recon.316.tif"
       ]
      },
      {
       "output_type": "stream",
       "stream": "stdout",
       "text": [
        "\n",
        "D:\\Data\\0_DAILY_INTERVAL_NDVI_TRMM\\NDVI_InnerMongolia//CN_2011_NDVI_recon.317.tif"
       ]
      },
      {
       "output_type": "stream",
       "stream": "stdout",
       "text": [
        "\n",
        "D:\\Data\\0_DAILY_INTERVAL_NDVI_TRMM\\NDVI_InnerMongolia//CN_2011_NDVI_recon.318.tif"
       ]
      },
      {
       "output_type": "stream",
       "stream": "stdout",
       "text": [
        "\n",
        "D:\\Data\\0_DAILY_INTERVAL_NDVI_TRMM\\NDVI_InnerMongolia//CN_2011_NDVI_recon.319.tif"
       ]
      },
      {
       "output_type": "stream",
       "stream": "stdout",
       "text": [
        "\n",
        "D:\\Data\\0_DAILY_INTERVAL_NDVI_TRMM\\NDVI_InnerMongolia//CN_2011_NDVI_recon.320.tif"
       ]
      },
      {
       "output_type": "stream",
       "stream": "stdout",
       "text": [
        "\n",
        "D:\\Data\\0_DAILY_INTERVAL_NDVI_TRMM\\NDVI_InnerMongolia//CN_2011_NDVI_recon.321.tif"
       ]
      },
      {
       "output_type": "stream",
       "stream": "stdout",
       "text": [
        "\n",
        "D:\\Data\\0_DAILY_INTERVAL_NDVI_TRMM\\NDVI_InnerMongolia//CN_2011_NDVI_recon.322.tif"
       ]
      },
      {
       "output_type": "stream",
       "stream": "stdout",
       "text": [
        "\n",
        "D:\\Data\\0_DAILY_INTERVAL_NDVI_TRMM\\NDVI_InnerMongolia//CN_2011_NDVI_recon.323.tif"
       ]
      },
      {
       "output_type": "stream",
       "stream": "stdout",
       "text": [
        "\n",
        "D:\\Data\\0_DAILY_INTERVAL_NDVI_TRMM\\NDVI_InnerMongolia//CN_2011_NDVI_recon.324.tif"
       ]
      },
      {
       "output_type": "stream",
       "stream": "stdout",
       "text": [
        "\n",
        "D:\\Data\\0_DAILY_INTERVAL_NDVI_TRMM\\NDVI_InnerMongolia//CN_2011_NDVI_recon.325.tif"
       ]
      },
      {
       "output_type": "stream",
       "stream": "stdout",
       "text": [
        "\n",
        "D:\\Data\\0_DAILY_INTERVAL_NDVI_TRMM\\NDVI_InnerMongolia//CN_2011_NDVI_recon.326.tif"
       ]
      },
      {
       "output_type": "stream",
       "stream": "stdout",
       "text": [
        "\n",
        "D:\\Data\\0_DAILY_INTERVAL_NDVI_TRMM\\NDVI_InnerMongolia//CN_2011_NDVI_recon.327.tif"
       ]
      },
      {
       "output_type": "stream",
       "stream": "stdout",
       "text": [
        "\n",
        "D:\\Data\\0_DAILY_INTERVAL_NDVI_TRMM\\NDVI_InnerMongolia//CN_2011_NDVI_recon.328.tif"
       ]
      },
      {
       "output_type": "stream",
       "stream": "stdout",
       "text": [
        "\n",
        "D:\\Data\\0_DAILY_INTERVAL_NDVI_TRMM\\NDVI_InnerMongolia//CN_2011_NDVI_recon.329.tif"
       ]
      },
      {
       "output_type": "stream",
       "stream": "stdout",
       "text": [
        "\n",
        "D:\\Data\\0_DAILY_INTERVAL_NDVI_TRMM\\NDVI_InnerMongolia//CN_2011_NDVI_recon.330.tif"
       ]
      },
      {
       "output_type": "stream",
       "stream": "stdout",
       "text": [
        "\n",
        "D:\\Data\\0_DAILY_INTERVAL_NDVI_TRMM\\NDVI_InnerMongolia//CN_2011_NDVI_recon.331.tif"
       ]
      },
      {
       "output_type": "stream",
       "stream": "stdout",
       "text": [
        "\n",
        "D:\\Data\\0_DAILY_INTERVAL_NDVI_TRMM\\NDVI_InnerMongolia//CN_2011_NDVI_recon.332.tif"
       ]
      },
      {
       "output_type": "stream",
       "stream": "stdout",
       "text": [
        "\n",
        "D:\\Data\\0_DAILY_INTERVAL_NDVI_TRMM\\NDVI_InnerMongolia//CN_2011_NDVI_recon.333.tif"
       ]
      },
      {
       "output_type": "stream",
       "stream": "stdout",
       "text": [
        "\n",
        "D:\\Data\\0_DAILY_INTERVAL_NDVI_TRMM\\NDVI_InnerMongolia//CN_2011_NDVI_recon.334.tif"
       ]
      },
      {
       "output_type": "stream",
       "stream": "stdout",
       "text": [
        "\n",
        "D:\\Data\\0_DAILY_INTERVAL_NDVI_TRMM\\NDVI_InnerMongolia//CN_2011_NDVI_recon.335.tif"
       ]
      },
      {
       "output_type": "stream",
       "stream": "stdout",
       "text": [
        "\n",
        "D:\\Data\\0_DAILY_INTERVAL_NDVI_TRMM\\NDVI_InnerMongolia//CN_2011_NDVI_recon.336.tif"
       ]
      },
      {
       "output_type": "stream",
       "stream": "stdout",
       "text": [
        "\n",
        "D:\\Data\\0_DAILY_INTERVAL_NDVI_TRMM\\NDVI_InnerMongolia//CN_2011_NDVI_recon.337.tif"
       ]
      },
      {
       "output_type": "stream",
       "stream": "stdout",
       "text": [
        "\n",
        "D:\\Data\\0_DAILY_INTERVAL_NDVI_TRMM\\NDVI_InnerMongolia//CN_2011_NDVI_recon.338.tif"
       ]
      },
      {
       "output_type": "stream",
       "stream": "stdout",
       "text": [
        "\n",
        "D:\\Data\\0_DAILY_INTERVAL_NDVI_TRMM\\NDVI_InnerMongolia//CN_2011_NDVI_recon.339.tif"
       ]
      },
      {
       "output_type": "stream",
       "stream": "stdout",
       "text": [
        "\n",
        "D:\\Data\\0_DAILY_INTERVAL_NDVI_TRMM\\NDVI_InnerMongolia//CN_2011_NDVI_recon.340.tif"
       ]
      },
      {
       "output_type": "stream",
       "stream": "stdout",
       "text": [
        "\n",
        "D:\\Data\\0_DAILY_INTERVAL_NDVI_TRMM\\NDVI_InnerMongolia//CN_2011_NDVI_recon.341.tif"
       ]
      },
      {
       "output_type": "stream",
       "stream": "stdout",
       "text": [
        "\n",
        "D:\\Data\\0_DAILY_INTERVAL_NDVI_TRMM\\NDVI_InnerMongolia//CN_2011_NDVI_recon.342.tif"
       ]
      },
      {
       "output_type": "stream",
       "stream": "stdout",
       "text": [
        "\n",
        "D:\\Data\\0_DAILY_INTERVAL_NDVI_TRMM\\NDVI_InnerMongolia//CN_2011_NDVI_recon.343.tif"
       ]
      },
      {
       "output_type": "stream",
       "stream": "stdout",
       "text": [
        "\n",
        "D:\\Data\\0_DAILY_INTERVAL_NDVI_TRMM\\NDVI_InnerMongolia//CN_2011_NDVI_recon.344.tif"
       ]
      },
      {
       "output_type": "stream",
       "stream": "stdout",
       "text": [
        "\n",
        "D:\\Data\\0_DAILY_INTERVAL_NDVI_TRMM\\NDVI_InnerMongolia//CN_2011_NDVI_recon.345.tif"
       ]
      },
      {
       "output_type": "stream",
       "stream": "stdout",
       "text": [
        "\n",
        "D:\\Data\\0_DAILY_INTERVAL_NDVI_TRMM\\NDVI_InnerMongolia//CN_2011_NDVI_recon.346.tif"
       ]
      },
      {
       "output_type": "stream",
       "stream": "stdout",
       "text": [
        "\n",
        "D:\\Data\\0_DAILY_INTERVAL_NDVI_TRMM\\NDVI_InnerMongolia//CN_2011_NDVI_recon.347.tif"
       ]
      },
      {
       "output_type": "stream",
       "stream": "stdout",
       "text": [
        "\n",
        "D:\\Data\\0_DAILY_INTERVAL_NDVI_TRMM\\NDVI_InnerMongolia//CN_2011_NDVI_recon.348.tif"
       ]
      },
      {
       "output_type": "stream",
       "stream": "stdout",
       "text": [
        "\n",
        "D:\\Data\\0_DAILY_INTERVAL_NDVI_TRMM\\NDVI_InnerMongolia//CN_2011_NDVI_recon.349.tif"
       ]
      },
      {
       "output_type": "stream",
       "stream": "stdout",
       "text": [
        "\n",
        "D:\\Data\\0_DAILY_INTERVAL_NDVI_TRMM\\NDVI_InnerMongolia//CN_2011_NDVI_recon.350.tif"
       ]
      },
      {
       "output_type": "stream",
       "stream": "stdout",
       "text": [
        "\n",
        "D:\\Data\\0_DAILY_INTERVAL_NDVI_TRMM\\NDVI_InnerMongolia//CN_2011_NDVI_recon.351.tif"
       ]
      },
      {
       "output_type": "stream",
       "stream": "stdout",
       "text": [
        "\n",
        "D:\\Data\\0_DAILY_INTERVAL_NDVI_TRMM\\NDVI_InnerMongolia//CN_2011_NDVI_recon.352.tif"
       ]
      },
      {
       "output_type": "stream",
       "stream": "stdout",
       "text": [
        "\n",
        "D:\\Data\\0_DAILY_INTERVAL_NDVI_TRMM\\NDVI_InnerMongolia//CN_2011_NDVI_recon.353.tif"
       ]
      },
      {
       "output_type": "stream",
       "stream": "stdout",
       "text": [
        "\n",
        "D:\\Data\\0_DAILY_INTERVAL_NDVI_TRMM\\NDVI_InnerMongolia//CN_2011_NDVI_recon.354.tif"
       ]
      },
      {
       "output_type": "stream",
       "stream": "stdout",
       "text": [
        "\n",
        "D:\\Data\\0_DAILY_INTERVAL_NDVI_TRMM\\NDVI_InnerMongolia//CN_2011_NDVI_recon.355.tif"
       ]
      },
      {
       "output_type": "stream",
       "stream": "stdout",
       "text": [
        "\n",
        "D:\\Data\\0_DAILY_INTERVAL_NDVI_TRMM\\NDVI_InnerMongolia//CN_2011_NDVI_recon.356.tif"
       ]
      },
      {
       "output_type": "stream",
       "stream": "stdout",
       "text": [
        "\n",
        "D:\\Data\\0_DAILY_INTERVAL_NDVI_TRMM\\NDVI_InnerMongolia//CN_2011_NDVI_recon.357.tif"
       ]
      },
      {
       "output_type": "stream",
       "stream": "stdout",
       "text": [
        "\n",
        "D:\\Data\\0_DAILY_INTERVAL_NDVI_TRMM\\NDVI_InnerMongolia//CN_2011_NDVI_recon.358.tif"
       ]
      },
      {
       "output_type": "stream",
       "stream": "stdout",
       "text": [
        "\n",
        "D:\\Data\\0_DAILY_INTERVAL_NDVI_TRMM\\NDVI_InnerMongolia//CN_2011_NDVI_recon.359.tif"
       ]
      },
      {
       "output_type": "stream",
       "stream": "stdout",
       "text": [
        "\n",
        "D:\\Data\\0_DAILY_INTERVAL_NDVI_TRMM\\NDVI_InnerMongolia//CN_2011_NDVI_recon.360.tif"
       ]
      },
      {
       "output_type": "stream",
       "stream": "stdout",
       "text": [
        "\n",
        "D:\\Data\\0_DAILY_INTERVAL_NDVI_TRMM\\NDVI_InnerMongolia//CN_2011_NDVI_recon.361.tif"
       ]
      },
      {
       "output_type": "stream",
       "stream": "stdout",
       "text": [
        "\n",
        "D:\\Data\\0_DAILY_INTERVAL_NDVI_TRMM\\NDVI_InnerMongolia//CN_2011_NDVI_recon.362.tif"
       ]
      },
      {
       "output_type": "stream",
       "stream": "stdout",
       "text": [
        "\n",
        "D:\\Data\\0_DAILY_INTERVAL_NDVI_TRMM\\NDVI_InnerMongolia//CN_2011_NDVI_recon.363.tif"
       ]
      },
      {
       "output_type": "stream",
       "stream": "stdout",
       "text": [
        "\n",
        "D:\\Data\\0_DAILY_INTERVAL_NDVI_TRMM\\NDVI_InnerMongolia//CN_2011_NDVI_recon.364.tif"
       ]
      },
      {
       "output_type": "stream",
       "stream": "stdout",
       "text": [
        "\n",
        "D:\\Data\\0_DAILY_INTERVAL_NDVI_TRMM\\NDVI_InnerMongolia//CN_2011_NDVI_recon.365.tif"
       ]
      },
      {
       "output_type": "stream",
       "stream": "stdout",
       "text": [
        "\n",
        "D:\\Data\\0_DAILY_INTERVAL_NDVI_TRMM\\NDVI_InnerMongolia//CN_2012_NDVI_recon.001.tif"
       ]
      },
      {
       "output_type": "stream",
       "stream": "stdout",
       "text": [
        "\n",
        "D:\\Data\\0_DAILY_INTERVAL_NDVI_TRMM\\NDVI_InnerMongolia//CN_2012_NDVI_recon.002.tif"
       ]
      },
      {
       "output_type": "stream",
       "stream": "stdout",
       "text": [
        "\n",
        "D:\\Data\\0_DAILY_INTERVAL_NDVI_TRMM\\NDVI_InnerMongolia//CN_2012_NDVI_recon.003.tif"
       ]
      },
      {
       "output_type": "stream",
       "stream": "stdout",
       "text": [
        "\n",
        "D:\\Data\\0_DAILY_INTERVAL_NDVI_TRMM\\NDVI_InnerMongolia//CN_2012_NDVI_recon.004.tif"
       ]
      },
      {
       "output_type": "stream",
       "stream": "stdout",
       "text": [
        "\n",
        "D:\\Data\\0_DAILY_INTERVAL_NDVI_TRMM\\NDVI_InnerMongolia//CN_2012_NDVI_recon.005.tif"
       ]
      },
      {
       "output_type": "stream",
       "stream": "stdout",
       "text": [
        "\n",
        "D:\\Data\\0_DAILY_INTERVAL_NDVI_TRMM\\NDVI_InnerMongolia//CN_2012_NDVI_recon.006.tif"
       ]
      },
      {
       "output_type": "stream",
       "stream": "stdout",
       "text": [
        "\n",
        "D:\\Data\\0_DAILY_INTERVAL_NDVI_TRMM\\NDVI_InnerMongolia//CN_2012_NDVI_recon.007.tif"
       ]
      },
      {
       "output_type": "stream",
       "stream": "stdout",
       "text": [
        "\n",
        "D:\\Data\\0_DAILY_INTERVAL_NDVI_TRMM\\NDVI_InnerMongolia//CN_2012_NDVI_recon.008.tif"
       ]
      },
      {
       "output_type": "stream",
       "stream": "stdout",
       "text": [
        "\n",
        "D:\\Data\\0_DAILY_INTERVAL_NDVI_TRMM\\NDVI_InnerMongolia//CN_2012_NDVI_recon.009.tif"
       ]
      },
      {
       "output_type": "stream",
       "stream": "stdout",
       "text": [
        "\n",
        "D:\\Data\\0_DAILY_INTERVAL_NDVI_TRMM\\NDVI_InnerMongolia//CN_2012_NDVI_recon.010.tif"
       ]
      },
      {
       "output_type": "stream",
       "stream": "stdout",
       "text": [
        "\n",
        "D:\\Data\\0_DAILY_INTERVAL_NDVI_TRMM\\NDVI_InnerMongolia//CN_2012_NDVI_recon.011.tif"
       ]
      },
      {
       "output_type": "stream",
       "stream": "stdout",
       "text": [
        "\n",
        "D:\\Data\\0_DAILY_INTERVAL_NDVI_TRMM\\NDVI_InnerMongolia//CN_2012_NDVI_recon.012.tif"
       ]
      },
      {
       "output_type": "stream",
       "stream": "stdout",
       "text": [
        "\n",
        "D:\\Data\\0_DAILY_INTERVAL_NDVI_TRMM\\NDVI_InnerMongolia//CN_2012_NDVI_recon.013.tif"
       ]
      },
      {
       "output_type": "stream",
       "stream": "stdout",
       "text": [
        "\n",
        "D:\\Data\\0_DAILY_INTERVAL_NDVI_TRMM\\NDVI_InnerMongolia//CN_2012_NDVI_recon.014.tif"
       ]
      },
      {
       "output_type": "stream",
       "stream": "stdout",
       "text": [
        "\n",
        "D:\\Data\\0_DAILY_INTERVAL_NDVI_TRMM\\NDVI_InnerMongolia//CN_2012_NDVI_recon.015.tif"
       ]
      },
      {
       "output_type": "stream",
       "stream": "stdout",
       "text": [
        "\n",
        "D:\\Data\\0_DAILY_INTERVAL_NDVI_TRMM\\NDVI_InnerMongolia//CN_2012_NDVI_recon.016.tif"
       ]
      },
      {
       "output_type": "stream",
       "stream": "stdout",
       "text": [
        "\n",
        "D:\\Data\\0_DAILY_INTERVAL_NDVI_TRMM\\NDVI_InnerMongolia//CN_2012_NDVI_recon.017.tif"
       ]
      },
      {
       "output_type": "stream",
       "stream": "stdout",
       "text": [
        "\n",
        "D:\\Data\\0_DAILY_INTERVAL_NDVI_TRMM\\NDVI_InnerMongolia//CN_2012_NDVI_recon.018.tif"
       ]
      },
      {
       "output_type": "stream",
       "stream": "stdout",
       "text": [
        "\n",
        "D:\\Data\\0_DAILY_INTERVAL_NDVI_TRMM\\NDVI_InnerMongolia//CN_2012_NDVI_recon.019.tif"
       ]
      },
      {
       "output_type": "stream",
       "stream": "stdout",
       "text": [
        "\n",
        "D:\\Data\\0_DAILY_INTERVAL_NDVI_TRMM\\NDVI_InnerMongolia//CN_2012_NDVI_recon.020.tif"
       ]
      },
      {
       "output_type": "stream",
       "stream": "stdout",
       "text": [
        "\n",
        "D:\\Data\\0_DAILY_INTERVAL_NDVI_TRMM\\NDVI_InnerMongolia//CN_2012_NDVI_recon.021.tif"
       ]
      },
      {
       "output_type": "stream",
       "stream": "stdout",
       "text": [
        "\n",
        "D:\\Data\\0_DAILY_INTERVAL_NDVI_TRMM\\NDVI_InnerMongolia//CN_2012_NDVI_recon.022.tif"
       ]
      },
      {
       "output_type": "stream",
       "stream": "stdout",
       "text": [
        "\n",
        "D:\\Data\\0_DAILY_INTERVAL_NDVI_TRMM\\NDVI_InnerMongolia//CN_2012_NDVI_recon.023.tif"
       ]
      },
      {
       "output_type": "stream",
       "stream": "stdout",
       "text": [
        "\n",
        "D:\\Data\\0_DAILY_INTERVAL_NDVI_TRMM\\NDVI_InnerMongolia//CN_2012_NDVI_recon.024.tif"
       ]
      },
      {
       "output_type": "stream",
       "stream": "stdout",
       "text": [
        "\n",
        "D:\\Data\\0_DAILY_INTERVAL_NDVI_TRMM\\NDVI_InnerMongolia//CN_2012_NDVI_recon.025.tif"
       ]
      },
      {
       "output_type": "stream",
       "stream": "stdout",
       "text": [
        "\n",
        "D:\\Data\\0_DAILY_INTERVAL_NDVI_TRMM\\NDVI_InnerMongolia//CN_2012_NDVI_recon.026.tif"
       ]
      },
      {
       "output_type": "stream",
       "stream": "stdout",
       "text": [
        "\n",
        "D:\\Data\\0_DAILY_INTERVAL_NDVI_TRMM\\NDVI_InnerMongolia//CN_2012_NDVI_recon.027.tif"
       ]
      },
      {
       "output_type": "stream",
       "stream": "stdout",
       "text": [
        "\n",
        "D:\\Data\\0_DAILY_INTERVAL_NDVI_TRMM\\NDVI_InnerMongolia//CN_2012_NDVI_recon.028.tif"
       ]
      },
      {
       "output_type": "stream",
       "stream": "stdout",
       "text": [
        "\n",
        "D:\\Data\\0_DAILY_INTERVAL_NDVI_TRMM\\NDVI_InnerMongolia//CN_2012_NDVI_recon.029.tif"
       ]
      },
      {
       "output_type": "stream",
       "stream": "stdout",
       "text": [
        "\n",
        "D:\\Data\\0_DAILY_INTERVAL_NDVI_TRMM\\NDVI_InnerMongolia//CN_2012_NDVI_recon.030.tif"
       ]
      },
      {
       "output_type": "stream",
       "stream": "stdout",
       "text": [
        "\n",
        "D:\\Data\\0_DAILY_INTERVAL_NDVI_TRMM\\NDVI_InnerMongolia//CN_2012_NDVI_recon.031.tif"
       ]
      },
      {
       "output_type": "stream",
       "stream": "stdout",
       "text": [
        "\n",
        "D:\\Data\\0_DAILY_INTERVAL_NDVI_TRMM\\NDVI_InnerMongolia//CN_2012_NDVI_recon.032.tif"
       ]
      },
      {
       "output_type": "stream",
       "stream": "stdout",
       "text": [
        "\n",
        "D:\\Data\\0_DAILY_INTERVAL_NDVI_TRMM\\NDVI_InnerMongolia//CN_2012_NDVI_recon.033.tif"
       ]
      },
      {
       "output_type": "stream",
       "stream": "stdout",
       "text": [
        "\n",
        "D:\\Data\\0_DAILY_INTERVAL_NDVI_TRMM\\NDVI_InnerMongolia//CN_2012_NDVI_recon.034.tif"
       ]
      },
      {
       "output_type": "stream",
       "stream": "stdout",
       "text": [
        "\n",
        "D:\\Data\\0_DAILY_INTERVAL_NDVI_TRMM\\NDVI_InnerMongolia//CN_2012_NDVI_recon.035.tif"
       ]
      },
      {
       "output_type": "stream",
       "stream": "stdout",
       "text": [
        "\n",
        "D:\\Data\\0_DAILY_INTERVAL_NDVI_TRMM\\NDVI_InnerMongolia//CN_2012_NDVI_recon.036.tif"
       ]
      },
      {
       "output_type": "stream",
       "stream": "stdout",
       "text": [
        "\n",
        "D:\\Data\\0_DAILY_INTERVAL_NDVI_TRMM\\NDVI_InnerMongolia//CN_2012_NDVI_recon.037.tif"
       ]
      },
      {
       "output_type": "stream",
       "stream": "stdout",
       "text": [
        "\n",
        "D:\\Data\\0_DAILY_INTERVAL_NDVI_TRMM\\NDVI_InnerMongolia//CN_2012_NDVI_recon.038.tif"
       ]
      },
      {
       "output_type": "stream",
       "stream": "stdout",
       "text": [
        "\n",
        "D:\\Data\\0_DAILY_INTERVAL_NDVI_TRMM\\NDVI_InnerMongolia//CN_2012_NDVI_recon.039.tif"
       ]
      },
      {
       "output_type": "stream",
       "stream": "stdout",
       "text": [
        "\n",
        "D:\\Data\\0_DAILY_INTERVAL_NDVI_TRMM\\NDVI_InnerMongolia//CN_2012_NDVI_recon.040.tif"
       ]
      },
      {
       "output_type": "stream",
       "stream": "stdout",
       "text": [
        "\n",
        "D:\\Data\\0_DAILY_INTERVAL_NDVI_TRMM\\NDVI_InnerMongolia//CN_2012_NDVI_recon.041.tif"
       ]
      },
      {
       "output_type": "stream",
       "stream": "stdout",
       "text": [
        "\n",
        "D:\\Data\\0_DAILY_INTERVAL_NDVI_TRMM\\NDVI_InnerMongolia//CN_2012_NDVI_recon.042.tif"
       ]
      },
      {
       "output_type": "stream",
       "stream": "stdout",
       "text": [
        "\n",
        "D:\\Data\\0_DAILY_INTERVAL_NDVI_TRMM\\NDVI_InnerMongolia//CN_2012_NDVI_recon.043.tif"
       ]
      },
      {
       "output_type": "stream",
       "stream": "stdout",
       "text": [
        "\n",
        "D:\\Data\\0_DAILY_INTERVAL_NDVI_TRMM\\NDVI_InnerMongolia//CN_2012_NDVI_recon.044.tif"
       ]
      },
      {
       "output_type": "stream",
       "stream": "stdout",
       "text": [
        "\n",
        "D:\\Data\\0_DAILY_INTERVAL_NDVI_TRMM\\NDVI_InnerMongolia//CN_2012_NDVI_recon.045.tif"
       ]
      },
      {
       "output_type": "stream",
       "stream": "stdout",
       "text": [
        "\n",
        "D:\\Data\\0_DAILY_INTERVAL_NDVI_TRMM\\NDVI_InnerMongolia//CN_2012_NDVI_recon.046.tif"
       ]
      },
      {
       "output_type": "stream",
       "stream": "stdout",
       "text": [
        "\n",
        "D:\\Data\\0_DAILY_INTERVAL_NDVI_TRMM\\NDVI_InnerMongolia//CN_2012_NDVI_recon.047.tif"
       ]
      },
      {
       "output_type": "stream",
       "stream": "stdout",
       "text": [
        "\n",
        "D:\\Data\\0_DAILY_INTERVAL_NDVI_TRMM\\NDVI_InnerMongolia//CN_2012_NDVI_recon.048.tif"
       ]
      },
      {
       "output_type": "stream",
       "stream": "stdout",
       "text": [
        "\n",
        "D:\\Data\\0_DAILY_INTERVAL_NDVI_TRMM\\NDVI_InnerMongolia//CN_2012_NDVI_recon.049.tif"
       ]
      },
      {
       "output_type": "stream",
       "stream": "stdout",
       "text": [
        "\n",
        "D:\\Data\\0_DAILY_INTERVAL_NDVI_TRMM\\NDVI_InnerMongolia//CN_2012_NDVI_recon.050.tif"
       ]
      },
      {
       "output_type": "stream",
       "stream": "stdout",
       "text": [
        "\n",
        "D:\\Data\\0_DAILY_INTERVAL_NDVI_TRMM\\NDVI_InnerMongolia//CN_2012_NDVI_recon.051.tif"
       ]
      },
      {
       "output_type": "stream",
       "stream": "stdout",
       "text": [
        "\n",
        "D:\\Data\\0_DAILY_INTERVAL_NDVI_TRMM\\NDVI_InnerMongolia//CN_2012_NDVI_recon.052.tif"
       ]
      },
      {
       "output_type": "stream",
       "stream": "stdout",
       "text": [
        "\n",
        "D:\\Data\\0_DAILY_INTERVAL_NDVI_TRMM\\NDVI_InnerMongolia//CN_2012_NDVI_recon.053.tif"
       ]
      },
      {
       "output_type": "stream",
       "stream": "stdout",
       "text": [
        "\n",
        "D:\\Data\\0_DAILY_INTERVAL_NDVI_TRMM\\NDVI_InnerMongolia//CN_2012_NDVI_recon.054.tif"
       ]
      },
      {
       "output_type": "stream",
       "stream": "stdout",
       "text": [
        "\n",
        "D:\\Data\\0_DAILY_INTERVAL_NDVI_TRMM\\NDVI_InnerMongolia//CN_2012_NDVI_recon.055.tif"
       ]
      },
      {
       "output_type": "stream",
       "stream": "stdout",
       "text": [
        "\n",
        "D:\\Data\\0_DAILY_INTERVAL_NDVI_TRMM\\NDVI_InnerMongolia//CN_2012_NDVI_recon.056.tif"
       ]
      },
      {
       "output_type": "stream",
       "stream": "stdout",
       "text": [
        "\n",
        "D:\\Data\\0_DAILY_INTERVAL_NDVI_TRMM\\NDVI_InnerMongolia//CN_2012_NDVI_recon.057.tif"
       ]
      },
      {
       "output_type": "stream",
       "stream": "stdout",
       "text": [
        "\n",
        "D:\\Data\\0_DAILY_INTERVAL_NDVI_TRMM\\NDVI_InnerMongolia//CN_2012_NDVI_recon.058.tif"
       ]
      },
      {
       "output_type": "stream",
       "stream": "stdout",
       "text": [
        "\n",
        "D:\\Data\\0_DAILY_INTERVAL_NDVI_TRMM\\NDVI_InnerMongolia//CN_2012_NDVI_recon.059.tif"
       ]
      },
      {
       "output_type": "stream",
       "stream": "stdout",
       "text": [
        "\n",
        "D:\\Data\\0_DAILY_INTERVAL_NDVI_TRMM\\NDVI_InnerMongolia//CN_2012_NDVI_recon.060.tif"
       ]
      },
      {
       "output_type": "stream",
       "stream": "stdout",
       "text": [
        "\n",
        "D:\\Data\\0_DAILY_INTERVAL_NDVI_TRMM\\NDVI_InnerMongolia//CN_2012_NDVI_recon.061.tif"
       ]
      },
      {
       "output_type": "stream",
       "stream": "stdout",
       "text": [
        "\n",
        "D:\\Data\\0_DAILY_INTERVAL_NDVI_TRMM\\NDVI_InnerMongolia//CN_2012_NDVI_recon.062.tif"
       ]
      },
      {
       "output_type": "stream",
       "stream": "stdout",
       "text": [
        "\n",
        "D:\\Data\\0_DAILY_INTERVAL_NDVI_TRMM\\NDVI_InnerMongolia//CN_2012_NDVI_recon.063.tif"
       ]
      },
      {
       "output_type": "stream",
       "stream": "stdout",
       "text": [
        "\n",
        "D:\\Data\\0_DAILY_INTERVAL_NDVI_TRMM\\NDVI_InnerMongolia//CN_2012_NDVI_recon.064.tif"
       ]
      },
      {
       "output_type": "stream",
       "stream": "stdout",
       "text": [
        "\n",
        "D:\\Data\\0_DAILY_INTERVAL_NDVI_TRMM\\NDVI_InnerMongolia//CN_2012_NDVI_recon.065.tif"
       ]
      },
      {
       "output_type": "stream",
       "stream": "stdout",
       "text": [
        "\n",
        "D:\\Data\\0_DAILY_INTERVAL_NDVI_TRMM\\NDVI_InnerMongolia//CN_2012_NDVI_recon.066.tif"
       ]
      },
      {
       "output_type": "stream",
       "stream": "stdout",
       "text": [
        "\n",
        "D:\\Data\\0_DAILY_INTERVAL_NDVI_TRMM\\NDVI_InnerMongolia//CN_2012_NDVI_recon.067.tif"
       ]
      },
      {
       "output_type": "stream",
       "stream": "stdout",
       "text": [
        "\n",
        "D:\\Data\\0_DAILY_INTERVAL_NDVI_TRMM\\NDVI_InnerMongolia//CN_2012_NDVI_recon.068.tif"
       ]
      },
      {
       "output_type": "stream",
       "stream": "stdout",
       "text": [
        "\n",
        "D:\\Data\\0_DAILY_INTERVAL_NDVI_TRMM\\NDVI_InnerMongolia//CN_2012_NDVI_recon.069.tif"
       ]
      },
      {
       "output_type": "stream",
       "stream": "stdout",
       "text": [
        "\n",
        "D:\\Data\\0_DAILY_INTERVAL_NDVI_TRMM\\NDVI_InnerMongolia//CN_2012_NDVI_recon.070.tif"
       ]
      },
      {
       "output_type": "stream",
       "stream": "stdout",
       "text": [
        "\n",
        "D:\\Data\\0_DAILY_INTERVAL_NDVI_TRMM\\NDVI_InnerMongolia//CN_2012_NDVI_recon.071.tif"
       ]
      },
      {
       "output_type": "stream",
       "stream": "stdout",
       "text": [
        "\n",
        "D:\\Data\\0_DAILY_INTERVAL_NDVI_TRMM\\NDVI_InnerMongolia//CN_2012_NDVI_recon.072.tif"
       ]
      },
      {
       "output_type": "stream",
       "stream": "stdout",
       "text": [
        "\n",
        "D:\\Data\\0_DAILY_INTERVAL_NDVI_TRMM\\NDVI_InnerMongolia//CN_2012_NDVI_recon.073.tif"
       ]
      },
      {
       "output_type": "stream",
       "stream": "stdout",
       "text": [
        "\n",
        "D:\\Data\\0_DAILY_INTERVAL_NDVI_TRMM\\NDVI_InnerMongolia//CN_2012_NDVI_recon.074.tif"
       ]
      },
      {
       "output_type": "stream",
       "stream": "stdout",
       "text": [
        "\n",
        "D:\\Data\\0_DAILY_INTERVAL_NDVI_TRMM\\NDVI_InnerMongolia//CN_2012_NDVI_recon.075.tif"
       ]
      },
      {
       "output_type": "stream",
       "stream": "stdout",
       "text": [
        "\n",
        "D:\\Data\\0_DAILY_INTERVAL_NDVI_TRMM\\NDVI_InnerMongolia//CN_2012_NDVI_recon.076.tif"
       ]
      },
      {
       "output_type": "stream",
       "stream": "stdout",
       "text": [
        "\n",
        "D:\\Data\\0_DAILY_INTERVAL_NDVI_TRMM\\NDVI_InnerMongolia//CN_2012_NDVI_recon.077.tif"
       ]
      },
      {
       "output_type": "stream",
       "stream": "stdout",
       "text": [
        "\n",
        "D:\\Data\\0_DAILY_INTERVAL_NDVI_TRMM\\NDVI_InnerMongolia//CN_2012_NDVI_recon.078.tif"
       ]
      },
      {
       "output_type": "stream",
       "stream": "stdout",
       "text": [
        "\n",
        "D:\\Data\\0_DAILY_INTERVAL_NDVI_TRMM\\NDVI_InnerMongolia//CN_2012_NDVI_recon.079.tif"
       ]
      },
      {
       "output_type": "stream",
       "stream": "stdout",
       "text": [
        "\n",
        "D:\\Data\\0_DAILY_INTERVAL_NDVI_TRMM\\NDVI_InnerMongolia//CN_2012_NDVI_recon.080.tif"
       ]
      },
      {
       "output_type": "stream",
       "stream": "stdout",
       "text": [
        "\n",
        "D:\\Data\\0_DAILY_INTERVAL_NDVI_TRMM\\NDVI_InnerMongolia//CN_2012_NDVI_recon.081.tif"
       ]
      },
      {
       "output_type": "stream",
       "stream": "stdout",
       "text": [
        "\n",
        "D:\\Data\\0_DAILY_INTERVAL_NDVI_TRMM\\NDVI_InnerMongolia//CN_2012_NDVI_recon.082.tif"
       ]
      },
      {
       "output_type": "stream",
       "stream": "stdout",
       "text": [
        "\n",
        "D:\\Data\\0_DAILY_INTERVAL_NDVI_TRMM\\NDVI_InnerMongolia//CN_2012_NDVI_recon.083.tif"
       ]
      },
      {
       "output_type": "stream",
       "stream": "stdout",
       "text": [
        "\n",
        "D:\\Data\\0_DAILY_INTERVAL_NDVI_TRMM\\NDVI_InnerMongolia//CN_2012_NDVI_recon.084.tif"
       ]
      },
      {
       "output_type": "stream",
       "stream": "stdout",
       "text": [
        "\n",
        "D:\\Data\\0_DAILY_INTERVAL_NDVI_TRMM\\NDVI_InnerMongolia//CN_2012_NDVI_recon.085.tif"
       ]
      },
      {
       "output_type": "stream",
       "stream": "stdout",
       "text": [
        "\n",
        "D:\\Data\\0_DAILY_INTERVAL_NDVI_TRMM\\NDVI_InnerMongolia//CN_2012_NDVI_recon.086.tif"
       ]
      },
      {
       "output_type": "stream",
       "stream": "stdout",
       "text": [
        "\n",
        "D:\\Data\\0_DAILY_INTERVAL_NDVI_TRMM\\NDVI_InnerMongolia//CN_2012_NDVI_recon.087.tif"
       ]
      },
      {
       "output_type": "stream",
       "stream": "stdout",
       "text": [
        "\n",
        "D:\\Data\\0_DAILY_INTERVAL_NDVI_TRMM\\NDVI_InnerMongolia//CN_2012_NDVI_recon.088.tif"
       ]
      },
      {
       "output_type": "stream",
       "stream": "stdout",
       "text": [
        "\n",
        "D:\\Data\\0_DAILY_INTERVAL_NDVI_TRMM\\NDVI_InnerMongolia//CN_2012_NDVI_recon.089.tif"
       ]
      },
      {
       "output_type": "stream",
       "stream": "stdout",
       "text": [
        "\n",
        "D:\\Data\\0_DAILY_INTERVAL_NDVI_TRMM\\NDVI_InnerMongolia//CN_2012_NDVI_recon.090.tif"
       ]
      },
      {
       "output_type": "stream",
       "stream": "stdout",
       "text": [
        "\n",
        "D:\\Data\\0_DAILY_INTERVAL_NDVI_TRMM\\NDVI_InnerMongolia//CN_2012_NDVI_recon.091.tif"
       ]
      },
      {
       "output_type": "stream",
       "stream": "stdout",
       "text": [
        "\n",
        "D:\\Data\\0_DAILY_INTERVAL_NDVI_TRMM\\NDVI_InnerMongolia//CN_2012_NDVI_recon.092.tif"
       ]
      },
      {
       "output_type": "stream",
       "stream": "stdout",
       "text": [
        "\n",
        "D:\\Data\\0_DAILY_INTERVAL_NDVI_TRMM\\NDVI_InnerMongolia//CN_2012_NDVI_recon.093.tif"
       ]
      },
      {
       "output_type": "stream",
       "stream": "stdout",
       "text": [
        "\n",
        "D:\\Data\\0_DAILY_INTERVAL_NDVI_TRMM\\NDVI_InnerMongolia//CN_2012_NDVI_recon.094.tif"
       ]
      },
      {
       "output_type": "stream",
       "stream": "stdout",
       "text": [
        "\n",
        "D:\\Data\\0_DAILY_INTERVAL_NDVI_TRMM\\NDVI_InnerMongolia//CN_2012_NDVI_recon.095.tif"
       ]
      },
      {
       "output_type": "stream",
       "stream": "stdout",
       "text": [
        "\n",
        "D:\\Data\\0_DAILY_INTERVAL_NDVI_TRMM\\NDVI_InnerMongolia//CN_2012_NDVI_recon.096.tif"
       ]
      },
      {
       "output_type": "stream",
       "stream": "stdout",
       "text": [
        "\n",
        "D:\\Data\\0_DAILY_INTERVAL_NDVI_TRMM\\NDVI_InnerMongolia//CN_2012_NDVI_recon.097.tif"
       ]
      },
      {
       "output_type": "stream",
       "stream": "stdout",
       "text": [
        "\n",
        "D:\\Data\\0_DAILY_INTERVAL_NDVI_TRMM\\NDVI_InnerMongolia//CN_2012_NDVI_recon.098.tif"
       ]
      },
      {
       "output_type": "stream",
       "stream": "stdout",
       "text": [
        "\n",
        "D:\\Data\\0_DAILY_INTERVAL_NDVI_TRMM\\NDVI_InnerMongolia//CN_2012_NDVI_recon.099.tif"
       ]
      },
      {
       "output_type": "stream",
       "stream": "stdout",
       "text": [
        "\n",
        "D:\\Data\\0_DAILY_INTERVAL_NDVI_TRMM\\NDVI_InnerMongolia//CN_2012_NDVI_recon.100.tif"
       ]
      },
      {
       "output_type": "stream",
       "stream": "stdout",
       "text": [
        "\n",
        "D:\\Data\\0_DAILY_INTERVAL_NDVI_TRMM\\NDVI_InnerMongolia//CN_2012_NDVI_recon.101.tif"
       ]
      },
      {
       "output_type": "stream",
       "stream": "stdout",
       "text": [
        "\n",
        "D:\\Data\\0_DAILY_INTERVAL_NDVI_TRMM\\NDVI_InnerMongolia//CN_2012_NDVI_recon.102.tif"
       ]
      },
      {
       "output_type": "stream",
       "stream": "stdout",
       "text": [
        "\n",
        "D:\\Data\\0_DAILY_INTERVAL_NDVI_TRMM\\NDVI_InnerMongolia//CN_2012_NDVI_recon.103.tif"
       ]
      },
      {
       "output_type": "stream",
       "stream": "stdout",
       "text": [
        "\n",
        "D:\\Data\\0_DAILY_INTERVAL_NDVI_TRMM\\NDVI_InnerMongolia//CN_2012_NDVI_recon.104.tif"
       ]
      },
      {
       "output_type": "stream",
       "stream": "stdout",
       "text": [
        "\n",
        "D:\\Data\\0_DAILY_INTERVAL_NDVI_TRMM\\NDVI_InnerMongolia//CN_2012_NDVI_recon.105.tif"
       ]
      },
      {
       "output_type": "stream",
       "stream": "stdout",
       "text": [
        "\n",
        "D:\\Data\\0_DAILY_INTERVAL_NDVI_TRMM\\NDVI_InnerMongolia//CN_2012_NDVI_recon.106.tif"
       ]
      },
      {
       "output_type": "stream",
       "stream": "stdout",
       "text": [
        "\n",
        "D:\\Data\\0_DAILY_INTERVAL_NDVI_TRMM\\NDVI_InnerMongolia//CN_2012_NDVI_recon.107.tif"
       ]
      },
      {
       "output_type": "stream",
       "stream": "stdout",
       "text": [
        "\n",
        "D:\\Data\\0_DAILY_INTERVAL_NDVI_TRMM\\NDVI_InnerMongolia//CN_2012_NDVI_recon.108.tif"
       ]
      },
      {
       "output_type": "stream",
       "stream": "stdout",
       "text": [
        "\n",
        "D:\\Data\\0_DAILY_INTERVAL_NDVI_TRMM\\NDVI_InnerMongolia//CN_2012_NDVI_recon.109.tif"
       ]
      },
      {
       "output_type": "stream",
       "stream": "stdout",
       "text": [
        "\n",
        "D:\\Data\\0_DAILY_INTERVAL_NDVI_TRMM\\NDVI_InnerMongolia//CN_2012_NDVI_recon.110.tif"
       ]
      },
      {
       "output_type": "stream",
       "stream": "stdout",
       "text": [
        "\n",
        "D:\\Data\\0_DAILY_INTERVAL_NDVI_TRMM\\NDVI_InnerMongolia//CN_2012_NDVI_recon.111.tif"
       ]
      },
      {
       "output_type": "stream",
       "stream": "stdout",
       "text": [
        "\n",
        "D:\\Data\\0_DAILY_INTERVAL_NDVI_TRMM\\NDVI_InnerMongolia//CN_2012_NDVI_recon.112.tif"
       ]
      },
      {
       "output_type": "stream",
       "stream": "stdout",
       "text": [
        "\n",
        "D:\\Data\\0_DAILY_INTERVAL_NDVI_TRMM\\NDVI_InnerMongolia//CN_2012_NDVI_recon.113.tif"
       ]
      },
      {
       "output_type": "stream",
       "stream": "stdout",
       "text": [
        "\n",
        "D:\\Data\\0_DAILY_INTERVAL_NDVI_TRMM\\NDVI_InnerMongolia//CN_2012_NDVI_recon.114.tif"
       ]
      },
      {
       "output_type": "stream",
       "stream": "stdout",
       "text": [
        "\n",
        "D:\\Data\\0_DAILY_INTERVAL_NDVI_TRMM\\NDVI_InnerMongolia//CN_2012_NDVI_recon.115.tif"
       ]
      },
      {
       "output_type": "stream",
       "stream": "stdout",
       "text": [
        "\n",
        "D:\\Data\\0_DAILY_INTERVAL_NDVI_TRMM\\NDVI_InnerMongolia//CN_2012_NDVI_recon.116.tif"
       ]
      },
      {
       "output_type": "stream",
       "stream": "stdout",
       "text": [
        "\n",
        "D:\\Data\\0_DAILY_INTERVAL_NDVI_TRMM\\NDVI_InnerMongolia//CN_2012_NDVI_recon.117.tif"
       ]
      },
      {
       "output_type": "stream",
       "stream": "stdout",
       "text": [
        "\n",
        "D:\\Data\\0_DAILY_INTERVAL_NDVI_TRMM\\NDVI_InnerMongolia//CN_2012_NDVI_recon.118.tif"
       ]
      },
      {
       "output_type": "stream",
       "stream": "stdout",
       "text": [
        "\n",
        "D:\\Data\\0_DAILY_INTERVAL_NDVI_TRMM\\NDVI_InnerMongolia//CN_2012_NDVI_recon.119.tif"
       ]
      },
      {
       "output_type": "stream",
       "stream": "stdout",
       "text": [
        "\n",
        "D:\\Data\\0_DAILY_INTERVAL_NDVI_TRMM\\NDVI_InnerMongolia//CN_2012_NDVI_recon.120.tif"
       ]
      },
      {
       "output_type": "stream",
       "stream": "stdout",
       "text": [
        "\n",
        "D:\\Data\\0_DAILY_INTERVAL_NDVI_TRMM\\NDVI_InnerMongolia//CN_2012_NDVI_recon.121.tif"
       ]
      },
      {
       "output_type": "stream",
       "stream": "stdout",
       "text": [
        "\n",
        "D:\\Data\\0_DAILY_INTERVAL_NDVI_TRMM\\NDVI_InnerMongolia//CN_2012_NDVI_recon.122.tif"
       ]
      },
      {
       "output_type": "stream",
       "stream": "stdout",
       "text": [
        "\n",
        "D:\\Data\\0_DAILY_INTERVAL_NDVI_TRMM\\NDVI_InnerMongolia//CN_2012_NDVI_recon.123.tif"
       ]
      },
      {
       "output_type": "stream",
       "stream": "stdout",
       "text": [
        "\n",
        "D:\\Data\\0_DAILY_INTERVAL_NDVI_TRMM\\NDVI_InnerMongolia//CN_2012_NDVI_recon.124.tif"
       ]
      },
      {
       "output_type": "stream",
       "stream": "stdout",
       "text": [
        "\n",
        "D:\\Data\\0_DAILY_INTERVAL_NDVI_TRMM\\NDVI_InnerMongolia//CN_2012_NDVI_recon.125.tif"
       ]
      },
      {
       "output_type": "stream",
       "stream": "stdout",
       "text": [
        "\n",
        "D:\\Data\\0_DAILY_INTERVAL_NDVI_TRMM\\NDVI_InnerMongolia//CN_2012_NDVI_recon.126.tif"
       ]
      },
      {
       "output_type": "stream",
       "stream": "stdout",
       "text": [
        "\n",
        "D:\\Data\\0_DAILY_INTERVAL_NDVI_TRMM\\NDVI_InnerMongolia//CN_2012_NDVI_recon.127.tif"
       ]
      },
      {
       "output_type": "stream",
       "stream": "stdout",
       "text": [
        "\n",
        "D:\\Data\\0_DAILY_INTERVAL_NDVI_TRMM\\NDVI_InnerMongolia//CN_2012_NDVI_recon.128.tif"
       ]
      },
      {
       "output_type": "stream",
       "stream": "stdout",
       "text": [
        "\n",
        "D:\\Data\\0_DAILY_INTERVAL_NDVI_TRMM\\NDVI_InnerMongolia//CN_2012_NDVI_recon.129.tif"
       ]
      },
      {
       "output_type": "stream",
       "stream": "stdout",
       "text": [
        "\n",
        "D:\\Data\\0_DAILY_INTERVAL_NDVI_TRMM\\NDVI_InnerMongolia//CN_2012_NDVI_recon.130.tif"
       ]
      },
      {
       "output_type": "stream",
       "stream": "stdout",
       "text": [
        "\n",
        "D:\\Data\\0_DAILY_INTERVAL_NDVI_TRMM\\NDVI_InnerMongolia//CN_2012_NDVI_recon.131.tif"
       ]
      },
      {
       "output_type": "stream",
       "stream": "stdout",
       "text": [
        "\n",
        "D:\\Data\\0_DAILY_INTERVAL_NDVI_TRMM\\NDVI_InnerMongolia//CN_2012_NDVI_recon.132.tif"
       ]
      },
      {
       "output_type": "stream",
       "stream": "stdout",
       "text": [
        "\n",
        "D:\\Data\\0_DAILY_INTERVAL_NDVI_TRMM\\NDVI_InnerMongolia//CN_2012_NDVI_recon.133.tif"
       ]
      },
      {
       "output_type": "stream",
       "stream": "stdout",
       "text": [
        "\n",
        "D:\\Data\\0_DAILY_INTERVAL_NDVI_TRMM\\NDVI_InnerMongolia//CN_2012_NDVI_recon.134.tif"
       ]
      },
      {
       "output_type": "stream",
       "stream": "stdout",
       "text": [
        "\n",
        "D:\\Data\\0_DAILY_INTERVAL_NDVI_TRMM\\NDVI_InnerMongolia//CN_2012_NDVI_recon.135.tif"
       ]
      },
      {
       "output_type": "stream",
       "stream": "stdout",
       "text": [
        "\n",
        "D:\\Data\\0_DAILY_INTERVAL_NDVI_TRMM\\NDVI_InnerMongolia//CN_2012_NDVI_recon.136.tif"
       ]
      },
      {
       "output_type": "stream",
       "stream": "stdout",
       "text": [
        "\n",
        "D:\\Data\\0_DAILY_INTERVAL_NDVI_TRMM\\NDVI_InnerMongolia//CN_2012_NDVI_recon.137.tif"
       ]
      },
      {
       "output_type": "stream",
       "stream": "stdout",
       "text": [
        "\n",
        "D:\\Data\\0_DAILY_INTERVAL_NDVI_TRMM\\NDVI_InnerMongolia//CN_2012_NDVI_recon.138.tif"
       ]
      },
      {
       "output_type": "stream",
       "stream": "stdout",
       "text": [
        "\n",
        "D:\\Data\\0_DAILY_INTERVAL_NDVI_TRMM\\NDVI_InnerMongolia//CN_2012_NDVI_recon.139.tif"
       ]
      },
      {
       "output_type": "stream",
       "stream": "stdout",
       "text": [
        "\n",
        "D:\\Data\\0_DAILY_INTERVAL_NDVI_TRMM\\NDVI_InnerMongolia//CN_2012_NDVI_recon.140.tif"
       ]
      },
      {
       "output_type": "stream",
       "stream": "stdout",
       "text": [
        "\n",
        "D:\\Data\\0_DAILY_INTERVAL_NDVI_TRMM\\NDVI_InnerMongolia//CN_2012_NDVI_recon.141.tif"
       ]
      },
      {
       "output_type": "stream",
       "stream": "stdout",
       "text": [
        "\n",
        "D:\\Data\\0_DAILY_INTERVAL_NDVI_TRMM\\NDVI_InnerMongolia//CN_2012_NDVI_recon.142.tif"
       ]
      },
      {
       "output_type": "stream",
       "stream": "stdout",
       "text": [
        "\n",
        "D:\\Data\\0_DAILY_INTERVAL_NDVI_TRMM\\NDVI_InnerMongolia//CN_2012_NDVI_recon.143.tif"
       ]
      },
      {
       "output_type": "stream",
       "stream": "stdout",
       "text": [
        "\n",
        "D:\\Data\\0_DAILY_INTERVAL_NDVI_TRMM\\NDVI_InnerMongolia//CN_2012_NDVI_recon.144.tif"
       ]
      },
      {
       "output_type": "stream",
       "stream": "stdout",
       "text": [
        "\n",
        "D:\\Data\\0_DAILY_INTERVAL_NDVI_TRMM\\NDVI_InnerMongolia//CN_2012_NDVI_recon.145.tif"
       ]
      },
      {
       "output_type": "stream",
       "stream": "stdout",
       "text": [
        "\n",
        "D:\\Data\\0_DAILY_INTERVAL_NDVI_TRMM\\NDVI_InnerMongolia//CN_2012_NDVI_recon.146.tif"
       ]
      },
      {
       "output_type": "stream",
       "stream": "stdout",
       "text": [
        "\n",
        "D:\\Data\\0_DAILY_INTERVAL_NDVI_TRMM\\NDVI_InnerMongolia//CN_2012_NDVI_recon.147.tif"
       ]
      },
      {
       "output_type": "stream",
       "stream": "stdout",
       "text": [
        "\n",
        "D:\\Data\\0_DAILY_INTERVAL_NDVI_TRMM\\NDVI_InnerMongolia//CN_2012_NDVI_recon.148.tif"
       ]
      },
      {
       "output_type": "stream",
       "stream": "stdout",
       "text": [
        "\n",
        "D:\\Data\\0_DAILY_INTERVAL_NDVI_TRMM\\NDVI_InnerMongolia//CN_2012_NDVI_recon.149.tif"
       ]
      },
      {
       "output_type": "stream",
       "stream": "stdout",
       "text": [
        "\n",
        "D:\\Data\\0_DAILY_INTERVAL_NDVI_TRMM\\NDVI_InnerMongolia//CN_2012_NDVI_recon.150.tif"
       ]
      },
      {
       "output_type": "stream",
       "stream": "stdout",
       "text": [
        "\n",
        "D:\\Data\\0_DAILY_INTERVAL_NDVI_TRMM\\NDVI_InnerMongolia//CN_2012_NDVI_recon.151.tif"
       ]
      },
      {
       "output_type": "stream",
       "stream": "stdout",
       "text": [
        "\n",
        "D:\\Data\\0_DAILY_INTERVAL_NDVI_TRMM\\NDVI_InnerMongolia//CN_2012_NDVI_recon.152.tif"
       ]
      },
      {
       "output_type": "stream",
       "stream": "stdout",
       "text": [
        "\n",
        "D:\\Data\\0_DAILY_INTERVAL_NDVI_TRMM\\NDVI_InnerMongolia//CN_2012_NDVI_recon.153.tif"
       ]
      },
      {
       "output_type": "stream",
       "stream": "stdout",
       "text": [
        "\n",
        "D:\\Data\\0_DAILY_INTERVAL_NDVI_TRMM\\NDVI_InnerMongolia//CN_2012_NDVI_recon.154.tif"
       ]
      },
      {
       "output_type": "stream",
       "stream": "stdout",
       "text": [
        "\n",
        "D:\\Data\\0_DAILY_INTERVAL_NDVI_TRMM\\NDVI_InnerMongolia//CN_2012_NDVI_recon.155.tif"
       ]
      },
      {
       "output_type": "stream",
       "stream": "stdout",
       "text": [
        "\n",
        "D:\\Data\\0_DAILY_INTERVAL_NDVI_TRMM\\NDVI_InnerMongolia//CN_2012_NDVI_recon.156.tif"
       ]
      },
      {
       "output_type": "stream",
       "stream": "stdout",
       "text": [
        "\n",
        "D:\\Data\\0_DAILY_INTERVAL_NDVI_TRMM\\NDVI_InnerMongolia//CN_2012_NDVI_recon.157.tif"
       ]
      },
      {
       "output_type": "stream",
       "stream": "stdout",
       "text": [
        "\n",
        "D:\\Data\\0_DAILY_INTERVAL_NDVI_TRMM\\NDVI_InnerMongolia//CN_2012_NDVI_recon.158.tif"
       ]
      },
      {
       "output_type": "stream",
       "stream": "stdout",
       "text": [
        "\n",
        "D:\\Data\\0_DAILY_INTERVAL_NDVI_TRMM\\NDVI_InnerMongolia//CN_2012_NDVI_recon.159.tif"
       ]
      },
      {
       "output_type": "stream",
       "stream": "stdout",
       "text": [
        "\n",
        "D:\\Data\\0_DAILY_INTERVAL_NDVI_TRMM\\NDVI_InnerMongolia//CN_2012_NDVI_recon.160.tif"
       ]
      },
      {
       "output_type": "stream",
       "stream": "stdout",
       "text": [
        "\n",
        "D:\\Data\\0_DAILY_INTERVAL_NDVI_TRMM\\NDVI_InnerMongolia//CN_2012_NDVI_recon.161.tif"
       ]
      },
      {
       "output_type": "stream",
       "stream": "stdout",
       "text": [
        "\n",
        "D:\\Data\\0_DAILY_INTERVAL_NDVI_TRMM\\NDVI_InnerMongolia//CN_2012_NDVI_recon.162.tif"
       ]
      },
      {
       "output_type": "stream",
       "stream": "stdout",
       "text": [
        "\n",
        "D:\\Data\\0_DAILY_INTERVAL_NDVI_TRMM\\NDVI_InnerMongolia//CN_2012_NDVI_recon.163.tif"
       ]
      },
      {
       "output_type": "stream",
       "stream": "stdout",
       "text": [
        "\n",
        "D:\\Data\\0_DAILY_INTERVAL_NDVI_TRMM\\NDVI_InnerMongolia//CN_2012_NDVI_recon.164.tif"
       ]
      },
      {
       "output_type": "stream",
       "stream": "stdout",
       "text": [
        "\n",
        "D:\\Data\\0_DAILY_INTERVAL_NDVI_TRMM\\NDVI_InnerMongolia//CN_2012_NDVI_recon.165.tif"
       ]
      },
      {
       "output_type": "stream",
       "stream": "stdout",
       "text": [
        "\n",
        "D:\\Data\\0_DAILY_INTERVAL_NDVI_TRMM\\NDVI_InnerMongolia//CN_2012_NDVI_recon.166.tif"
       ]
      },
      {
       "output_type": "stream",
       "stream": "stdout",
       "text": [
        "\n",
        "D:\\Data\\0_DAILY_INTERVAL_NDVI_TRMM\\NDVI_InnerMongolia//CN_2012_NDVI_recon.167.tif"
       ]
      },
      {
       "output_type": "stream",
       "stream": "stdout",
       "text": [
        "\n",
        "D:\\Data\\0_DAILY_INTERVAL_NDVI_TRMM\\NDVI_InnerMongolia//CN_2012_NDVI_recon.168.tif"
       ]
      },
      {
       "output_type": "stream",
       "stream": "stdout",
       "text": [
        "\n",
        "D:\\Data\\0_DAILY_INTERVAL_NDVI_TRMM\\NDVI_InnerMongolia//CN_2012_NDVI_recon.169.tif"
       ]
      },
      {
       "output_type": "stream",
       "stream": "stdout",
       "text": [
        "\n",
        "D:\\Data\\0_DAILY_INTERVAL_NDVI_TRMM\\NDVI_InnerMongolia//CN_2012_NDVI_recon.170.tif"
       ]
      },
      {
       "output_type": "stream",
       "stream": "stdout",
       "text": [
        "\n",
        "D:\\Data\\0_DAILY_INTERVAL_NDVI_TRMM\\NDVI_InnerMongolia//CN_2012_NDVI_recon.171.tif"
       ]
      },
      {
       "output_type": "stream",
       "stream": "stdout",
       "text": [
        "\n",
        "D:\\Data\\0_DAILY_INTERVAL_NDVI_TRMM\\NDVI_InnerMongolia//CN_2012_NDVI_recon.172.tif"
       ]
      },
      {
       "output_type": "stream",
       "stream": "stdout",
       "text": [
        "\n",
        "D:\\Data\\0_DAILY_INTERVAL_NDVI_TRMM\\NDVI_InnerMongolia//CN_2012_NDVI_recon.173.tif"
       ]
      },
      {
       "output_type": "stream",
       "stream": "stdout",
       "text": [
        "\n",
        "D:\\Data\\0_DAILY_INTERVAL_NDVI_TRMM\\NDVI_InnerMongolia//CN_2012_NDVI_recon.174.tif"
       ]
      },
      {
       "output_type": "stream",
       "stream": "stdout",
       "text": [
        "\n",
        "D:\\Data\\0_DAILY_INTERVAL_NDVI_TRMM\\NDVI_InnerMongolia//CN_2012_NDVI_recon.175.tif"
       ]
      },
      {
       "output_type": "stream",
       "stream": "stdout",
       "text": [
        "\n",
        "D:\\Data\\0_DAILY_INTERVAL_NDVI_TRMM\\NDVI_InnerMongolia//CN_2012_NDVI_recon.176.tif"
       ]
      },
      {
       "output_type": "stream",
       "stream": "stdout",
       "text": [
        "\n",
        "D:\\Data\\0_DAILY_INTERVAL_NDVI_TRMM\\NDVI_InnerMongolia//CN_2012_NDVI_recon.177.tif"
       ]
      },
      {
       "output_type": "stream",
       "stream": "stdout",
       "text": [
        "\n",
        "D:\\Data\\0_DAILY_INTERVAL_NDVI_TRMM\\NDVI_InnerMongolia//CN_2012_NDVI_recon.178.tif"
       ]
      },
      {
       "output_type": "stream",
       "stream": "stdout",
       "text": [
        "\n",
        "D:\\Data\\0_DAILY_INTERVAL_NDVI_TRMM\\NDVI_InnerMongolia//CN_2012_NDVI_recon.179.tif"
       ]
      },
      {
       "output_type": "stream",
       "stream": "stdout",
       "text": [
        "\n",
        "D:\\Data\\0_DAILY_INTERVAL_NDVI_TRMM\\NDVI_InnerMongolia//CN_2012_NDVI_recon.180.tif"
       ]
      },
      {
       "output_type": "stream",
       "stream": "stdout",
       "text": [
        "\n",
        "D:\\Data\\0_DAILY_INTERVAL_NDVI_TRMM\\NDVI_InnerMongolia//CN_2012_NDVI_recon.181.tif"
       ]
      },
      {
       "output_type": "stream",
       "stream": "stdout",
       "text": [
        "\n",
        "D:\\Data\\0_DAILY_INTERVAL_NDVI_TRMM\\NDVI_InnerMongolia//CN_2012_NDVI_recon.182.tif"
       ]
      },
      {
       "output_type": "stream",
       "stream": "stdout",
       "text": [
        "\n",
        "D:\\Data\\0_DAILY_INTERVAL_NDVI_TRMM\\NDVI_InnerMongolia//CN_2012_NDVI_recon.183.tif"
       ]
      },
      {
       "output_type": "stream",
       "stream": "stdout",
       "text": [
        "\n",
        "D:\\Data\\0_DAILY_INTERVAL_NDVI_TRMM\\NDVI_InnerMongolia//CN_2012_NDVI_recon.184.tif"
       ]
      },
      {
       "output_type": "stream",
       "stream": "stdout",
       "text": [
        "\n",
        "D:\\Data\\0_DAILY_INTERVAL_NDVI_TRMM\\NDVI_InnerMongolia//CN_2012_NDVI_recon.185.tif"
       ]
      },
      {
       "output_type": "stream",
       "stream": "stdout",
       "text": [
        "\n",
        "D:\\Data\\0_DAILY_INTERVAL_NDVI_TRMM\\NDVI_InnerMongolia//CN_2012_NDVI_recon.186.tif"
       ]
      },
      {
       "output_type": "stream",
       "stream": "stdout",
       "text": [
        "\n",
        "D:\\Data\\0_DAILY_INTERVAL_NDVI_TRMM\\NDVI_InnerMongolia//CN_2012_NDVI_recon.187.tif"
       ]
      },
      {
       "output_type": "stream",
       "stream": "stdout",
       "text": [
        "\n",
        "D:\\Data\\0_DAILY_INTERVAL_NDVI_TRMM\\NDVI_InnerMongolia//CN_2012_NDVI_recon.188.tif"
       ]
      },
      {
       "output_type": "stream",
       "stream": "stdout",
       "text": [
        "\n",
        "D:\\Data\\0_DAILY_INTERVAL_NDVI_TRMM\\NDVI_InnerMongolia//CN_2012_NDVI_recon.189.tif"
       ]
      },
      {
       "output_type": "stream",
       "stream": "stdout",
       "text": [
        "\n",
        "D:\\Data\\0_DAILY_INTERVAL_NDVI_TRMM\\NDVI_InnerMongolia//CN_2012_NDVI_recon.190.tif"
       ]
      },
      {
       "output_type": "stream",
       "stream": "stdout",
       "text": [
        "\n",
        "D:\\Data\\0_DAILY_INTERVAL_NDVI_TRMM\\NDVI_InnerMongolia//CN_2012_NDVI_recon.191.tif"
       ]
      },
      {
       "output_type": "stream",
       "stream": "stdout",
       "text": [
        "\n",
        "D:\\Data\\0_DAILY_INTERVAL_NDVI_TRMM\\NDVI_InnerMongolia//CN_2012_NDVI_recon.192.tif"
       ]
      },
      {
       "output_type": "stream",
       "stream": "stdout",
       "text": [
        "\n",
        "D:\\Data\\0_DAILY_INTERVAL_NDVI_TRMM\\NDVI_InnerMongolia//CN_2012_NDVI_recon.193.tif"
       ]
      },
      {
       "output_type": "stream",
       "stream": "stdout",
       "text": [
        "\n",
        "D:\\Data\\0_DAILY_INTERVAL_NDVI_TRMM\\NDVI_InnerMongolia//CN_2012_NDVI_recon.194.tif"
       ]
      },
      {
       "output_type": "stream",
       "stream": "stdout",
       "text": [
        "\n",
        "D:\\Data\\0_DAILY_INTERVAL_NDVI_TRMM\\NDVI_InnerMongolia//CN_2012_NDVI_recon.195.tif"
       ]
      },
      {
       "output_type": "stream",
       "stream": "stdout",
       "text": [
        "\n",
        "D:\\Data\\0_DAILY_INTERVAL_NDVI_TRMM\\NDVI_InnerMongolia//CN_2012_NDVI_recon.196.tif"
       ]
      },
      {
       "output_type": "stream",
       "stream": "stdout",
       "text": [
        "\n",
        "D:\\Data\\0_DAILY_INTERVAL_NDVI_TRMM\\NDVI_InnerMongolia//CN_2012_NDVI_recon.197.tif"
       ]
      },
      {
       "output_type": "stream",
       "stream": "stdout",
       "text": [
        "\n",
        "D:\\Data\\0_DAILY_INTERVAL_NDVI_TRMM\\NDVI_InnerMongolia//CN_2012_NDVI_recon.198.tif"
       ]
      },
      {
       "output_type": "stream",
       "stream": "stdout",
       "text": [
        "\n",
        "D:\\Data\\0_DAILY_INTERVAL_NDVI_TRMM\\NDVI_InnerMongolia//CN_2012_NDVI_recon.199.tif"
       ]
      },
      {
       "output_type": "stream",
       "stream": "stdout",
       "text": [
        "\n",
        "D:\\Data\\0_DAILY_INTERVAL_NDVI_TRMM\\NDVI_InnerMongolia//CN_2012_NDVI_recon.200.tif"
       ]
      },
      {
       "output_type": "stream",
       "stream": "stdout",
       "text": [
        "\n",
        "D:\\Data\\0_DAILY_INTERVAL_NDVI_TRMM\\NDVI_InnerMongolia//CN_2012_NDVI_recon.201.tif"
       ]
      },
      {
       "output_type": "stream",
       "stream": "stdout",
       "text": [
        "\n",
        "D:\\Data\\0_DAILY_INTERVAL_NDVI_TRMM\\NDVI_InnerMongolia//CN_2012_NDVI_recon.202.tif"
       ]
      },
      {
       "output_type": "stream",
       "stream": "stdout",
       "text": [
        "\n",
        "D:\\Data\\0_DAILY_INTERVAL_NDVI_TRMM\\NDVI_InnerMongolia//CN_2012_NDVI_recon.203.tif"
       ]
      },
      {
       "output_type": "stream",
       "stream": "stdout",
       "text": [
        "\n",
        "D:\\Data\\0_DAILY_INTERVAL_NDVI_TRMM\\NDVI_InnerMongolia//CN_2012_NDVI_recon.204.tif"
       ]
      },
      {
       "output_type": "stream",
       "stream": "stdout",
       "text": [
        "\n",
        "D:\\Data\\0_DAILY_INTERVAL_NDVI_TRMM\\NDVI_InnerMongolia//CN_2012_NDVI_recon.205.tif"
       ]
      },
      {
       "output_type": "stream",
       "stream": "stdout",
       "text": [
        "\n",
        "D:\\Data\\0_DAILY_INTERVAL_NDVI_TRMM\\NDVI_InnerMongolia//CN_2012_NDVI_recon.206.tif"
       ]
      },
      {
       "output_type": "stream",
       "stream": "stdout",
       "text": [
        "\n",
        "D:\\Data\\0_DAILY_INTERVAL_NDVI_TRMM\\NDVI_InnerMongolia//CN_2012_NDVI_recon.207.tif"
       ]
      },
      {
       "output_type": "stream",
       "stream": "stdout",
       "text": [
        "\n",
        "D:\\Data\\0_DAILY_INTERVAL_NDVI_TRMM\\NDVI_InnerMongolia//CN_2012_NDVI_recon.208.tif"
       ]
      },
      {
       "output_type": "stream",
       "stream": "stdout",
       "text": [
        "\n",
        "D:\\Data\\0_DAILY_INTERVAL_NDVI_TRMM\\NDVI_InnerMongolia//CN_2012_NDVI_recon.209.tif"
       ]
      },
      {
       "output_type": "stream",
       "stream": "stdout",
       "text": [
        "\n",
        "D:\\Data\\0_DAILY_INTERVAL_NDVI_TRMM\\NDVI_InnerMongolia//CN_2012_NDVI_recon.210.tif"
       ]
      },
      {
       "output_type": "stream",
       "stream": "stdout",
       "text": [
        "\n",
        "D:\\Data\\0_DAILY_INTERVAL_NDVI_TRMM\\NDVI_InnerMongolia//CN_2012_NDVI_recon.211.tif"
       ]
      },
      {
       "output_type": "stream",
       "stream": "stdout",
       "text": [
        "\n",
        "D:\\Data\\0_DAILY_INTERVAL_NDVI_TRMM\\NDVI_InnerMongolia//CN_2012_NDVI_recon.212.tif"
       ]
      },
      {
       "output_type": "stream",
       "stream": "stdout",
       "text": [
        "\n",
        "D:\\Data\\0_DAILY_INTERVAL_NDVI_TRMM\\NDVI_InnerMongolia//CN_2012_NDVI_recon.213.tif"
       ]
      },
      {
       "output_type": "stream",
       "stream": "stdout",
       "text": [
        "\n",
        "D:\\Data\\0_DAILY_INTERVAL_NDVI_TRMM\\NDVI_InnerMongolia//CN_2012_NDVI_recon.214.tif"
       ]
      },
      {
       "output_type": "stream",
       "stream": "stdout",
       "text": [
        "\n",
        "D:\\Data\\0_DAILY_INTERVAL_NDVI_TRMM\\NDVI_InnerMongolia//CN_2012_NDVI_recon.215.tif"
       ]
      },
      {
       "output_type": "stream",
       "stream": "stdout",
       "text": [
        "\n",
        "D:\\Data\\0_DAILY_INTERVAL_NDVI_TRMM\\NDVI_InnerMongolia//CN_2012_NDVI_recon.216.tif"
       ]
      },
      {
       "output_type": "stream",
       "stream": "stdout",
       "text": [
        "\n",
        "D:\\Data\\0_DAILY_INTERVAL_NDVI_TRMM\\NDVI_InnerMongolia//CN_2012_NDVI_recon.217.tif"
       ]
      },
      {
       "output_type": "stream",
       "stream": "stdout",
       "text": [
        "\n",
        "D:\\Data\\0_DAILY_INTERVAL_NDVI_TRMM\\NDVI_InnerMongolia//CN_2012_NDVI_recon.218.tif"
       ]
      },
      {
       "output_type": "stream",
       "stream": "stdout",
       "text": [
        "\n",
        "D:\\Data\\0_DAILY_INTERVAL_NDVI_TRMM\\NDVI_InnerMongolia//CN_2012_NDVI_recon.219.tif"
       ]
      },
      {
       "output_type": "stream",
       "stream": "stdout",
       "text": [
        "\n",
        "D:\\Data\\0_DAILY_INTERVAL_NDVI_TRMM\\NDVI_InnerMongolia//CN_2012_NDVI_recon.220.tif"
       ]
      },
      {
       "output_type": "stream",
       "stream": "stdout",
       "text": [
        "\n",
        "D:\\Data\\0_DAILY_INTERVAL_NDVI_TRMM\\NDVI_InnerMongolia//CN_2012_NDVI_recon.221.tif"
       ]
      },
      {
       "output_type": "stream",
       "stream": "stdout",
       "text": [
        "\n",
        "D:\\Data\\0_DAILY_INTERVAL_NDVI_TRMM\\NDVI_InnerMongolia//CN_2012_NDVI_recon.222.tif"
       ]
      },
      {
       "output_type": "stream",
       "stream": "stdout",
       "text": [
        "\n",
        "D:\\Data\\0_DAILY_INTERVAL_NDVI_TRMM\\NDVI_InnerMongolia//CN_2012_NDVI_recon.223.tif"
       ]
      },
      {
       "output_type": "stream",
       "stream": "stdout",
       "text": [
        "\n",
        "D:\\Data\\0_DAILY_INTERVAL_NDVI_TRMM\\NDVI_InnerMongolia//CN_2012_NDVI_recon.224.tif"
       ]
      },
      {
       "output_type": "stream",
       "stream": "stdout",
       "text": [
        "\n",
        "D:\\Data\\0_DAILY_INTERVAL_NDVI_TRMM\\NDVI_InnerMongolia//CN_2012_NDVI_recon.225.tif"
       ]
      },
      {
       "output_type": "stream",
       "stream": "stdout",
       "text": [
        "\n",
        "D:\\Data\\0_DAILY_INTERVAL_NDVI_TRMM\\NDVI_InnerMongolia//CN_2012_NDVI_recon.226.tif"
       ]
      },
      {
       "output_type": "stream",
       "stream": "stdout",
       "text": [
        "\n",
        "D:\\Data\\0_DAILY_INTERVAL_NDVI_TRMM\\NDVI_InnerMongolia//CN_2012_NDVI_recon.227.tif"
       ]
      },
      {
       "output_type": "stream",
       "stream": "stdout",
       "text": [
        "\n",
        "D:\\Data\\0_DAILY_INTERVAL_NDVI_TRMM\\NDVI_InnerMongolia//CN_2012_NDVI_recon.228.tif"
       ]
      },
      {
       "output_type": "stream",
       "stream": "stdout",
       "text": [
        "\n",
        "D:\\Data\\0_DAILY_INTERVAL_NDVI_TRMM\\NDVI_InnerMongolia//CN_2012_NDVI_recon.229.tif"
       ]
      },
      {
       "output_type": "stream",
       "stream": "stdout",
       "text": [
        "\n",
        "D:\\Data\\0_DAILY_INTERVAL_NDVI_TRMM\\NDVI_InnerMongolia//CN_2012_NDVI_recon.230.tif"
       ]
      },
      {
       "output_type": "stream",
       "stream": "stdout",
       "text": [
        "\n",
        "D:\\Data\\0_DAILY_INTERVAL_NDVI_TRMM\\NDVI_InnerMongolia//CN_2012_NDVI_recon.231.tif"
       ]
      },
      {
       "output_type": "stream",
       "stream": "stdout",
       "text": [
        "\n",
        "D:\\Data\\0_DAILY_INTERVAL_NDVI_TRMM\\NDVI_InnerMongolia//CN_2012_NDVI_recon.232.tif"
       ]
      },
      {
       "output_type": "stream",
       "stream": "stdout",
       "text": [
        "\n",
        "D:\\Data\\0_DAILY_INTERVAL_NDVI_TRMM\\NDVI_InnerMongolia//CN_2012_NDVI_recon.233.tif"
       ]
      },
      {
       "output_type": "stream",
       "stream": "stdout",
       "text": [
        "\n",
        "D:\\Data\\0_DAILY_INTERVAL_NDVI_TRMM\\NDVI_InnerMongolia//CN_2012_NDVI_recon.234.tif"
       ]
      },
      {
       "output_type": "stream",
       "stream": "stdout",
       "text": [
        "\n",
        "D:\\Data\\0_DAILY_INTERVAL_NDVI_TRMM\\NDVI_InnerMongolia//CN_2012_NDVI_recon.235.tif"
       ]
      },
      {
       "output_type": "stream",
       "stream": "stdout",
       "text": [
        "\n",
        "D:\\Data\\0_DAILY_INTERVAL_NDVI_TRMM\\NDVI_InnerMongolia//CN_2012_NDVI_recon.236.tif"
       ]
      },
      {
       "output_type": "stream",
       "stream": "stdout",
       "text": [
        "\n",
        "D:\\Data\\0_DAILY_INTERVAL_NDVI_TRMM\\NDVI_InnerMongolia//CN_2012_NDVI_recon.237.tif"
       ]
      },
      {
       "output_type": "stream",
       "stream": "stdout",
       "text": [
        "\n",
        "D:\\Data\\0_DAILY_INTERVAL_NDVI_TRMM\\NDVI_InnerMongolia//CN_2012_NDVI_recon.238.tif"
       ]
      },
      {
       "output_type": "stream",
       "stream": "stdout",
       "text": [
        "\n",
        "D:\\Data\\0_DAILY_INTERVAL_NDVI_TRMM\\NDVI_InnerMongolia//CN_2012_NDVI_recon.239.tif"
       ]
      },
      {
       "output_type": "stream",
       "stream": "stdout",
       "text": [
        "\n",
        "D:\\Data\\0_DAILY_INTERVAL_NDVI_TRMM\\NDVI_InnerMongolia//CN_2012_NDVI_recon.240.tif"
       ]
      },
      {
       "output_type": "stream",
       "stream": "stdout",
       "text": [
        "\n",
        "D:\\Data\\0_DAILY_INTERVAL_NDVI_TRMM\\NDVI_InnerMongolia//CN_2012_NDVI_recon.241.tif"
       ]
      },
      {
       "output_type": "stream",
       "stream": "stdout",
       "text": [
        "\n",
        "D:\\Data\\0_DAILY_INTERVAL_NDVI_TRMM\\NDVI_InnerMongolia//CN_2012_NDVI_recon.242.tif"
       ]
      },
      {
       "output_type": "stream",
       "stream": "stdout",
       "text": [
        "\n",
        "D:\\Data\\0_DAILY_INTERVAL_NDVI_TRMM\\NDVI_InnerMongolia//CN_2012_NDVI_recon.243.tif"
       ]
      },
      {
       "output_type": "stream",
       "stream": "stdout",
       "text": [
        "\n",
        "D:\\Data\\0_DAILY_INTERVAL_NDVI_TRMM\\NDVI_InnerMongolia//CN_2012_NDVI_recon.244.tif"
       ]
      },
      {
       "output_type": "stream",
       "stream": "stdout",
       "text": [
        "\n",
        "D:\\Data\\0_DAILY_INTERVAL_NDVI_TRMM\\NDVI_InnerMongolia//CN_2012_NDVI_recon.245.tif"
       ]
      },
      {
       "output_type": "stream",
       "stream": "stdout",
       "text": [
        "\n",
        "D:\\Data\\0_DAILY_INTERVAL_NDVI_TRMM\\NDVI_InnerMongolia//CN_2012_NDVI_recon.246.tif"
       ]
      },
      {
       "output_type": "stream",
       "stream": "stdout",
       "text": [
        "\n",
        "D:\\Data\\0_DAILY_INTERVAL_NDVI_TRMM\\NDVI_InnerMongolia//CN_2012_NDVI_recon.247.tif"
       ]
      },
      {
       "output_type": "stream",
       "stream": "stdout",
       "text": [
        "\n",
        "D:\\Data\\0_DAILY_INTERVAL_NDVI_TRMM\\NDVI_InnerMongolia//CN_2012_NDVI_recon.248.tif"
       ]
      },
      {
       "output_type": "stream",
       "stream": "stdout",
       "text": [
        "\n",
        "D:\\Data\\0_DAILY_INTERVAL_NDVI_TRMM\\NDVI_InnerMongolia//CN_2012_NDVI_recon.249.tif"
       ]
      },
      {
       "output_type": "stream",
       "stream": "stdout",
       "text": [
        "\n",
        "D:\\Data\\0_DAILY_INTERVAL_NDVI_TRMM\\NDVI_InnerMongolia//CN_2012_NDVI_recon.250.tif"
       ]
      },
      {
       "output_type": "stream",
       "stream": "stdout",
       "text": [
        "\n",
        "D:\\Data\\0_DAILY_INTERVAL_NDVI_TRMM\\NDVI_InnerMongolia//CN_2012_NDVI_recon.251.tif"
       ]
      },
      {
       "output_type": "stream",
       "stream": "stdout",
       "text": [
        "\n",
        "D:\\Data\\0_DAILY_INTERVAL_NDVI_TRMM\\NDVI_InnerMongolia//CN_2012_NDVI_recon.252.tif"
       ]
      },
      {
       "output_type": "stream",
       "stream": "stdout",
       "text": [
        "\n",
        "D:\\Data\\0_DAILY_INTERVAL_NDVI_TRMM\\NDVI_InnerMongolia//CN_2012_NDVI_recon.253.tif"
       ]
      },
      {
       "output_type": "stream",
       "stream": "stdout",
       "text": [
        "\n",
        "D:\\Data\\0_DAILY_INTERVAL_NDVI_TRMM\\NDVI_InnerMongolia//CN_2012_NDVI_recon.254.tif"
       ]
      },
      {
       "output_type": "stream",
       "stream": "stdout",
       "text": [
        "\n",
        "D:\\Data\\0_DAILY_INTERVAL_NDVI_TRMM\\NDVI_InnerMongolia//CN_2012_NDVI_recon.255.tif"
       ]
      },
      {
       "output_type": "stream",
       "stream": "stdout",
       "text": [
        "\n",
        "D:\\Data\\0_DAILY_INTERVAL_NDVI_TRMM\\NDVI_InnerMongolia//CN_2012_NDVI_recon.256.tif"
       ]
      },
      {
       "output_type": "stream",
       "stream": "stdout",
       "text": [
        "\n",
        "D:\\Data\\0_DAILY_INTERVAL_NDVI_TRMM\\NDVI_InnerMongolia//CN_2012_NDVI_recon.257.tif"
       ]
      },
      {
       "output_type": "stream",
       "stream": "stdout",
       "text": [
        "\n",
        "D:\\Data\\0_DAILY_INTERVAL_NDVI_TRMM\\NDVI_InnerMongolia//CN_2012_NDVI_recon.258.tif"
       ]
      },
      {
       "output_type": "stream",
       "stream": "stdout",
       "text": [
        "\n",
        "D:\\Data\\0_DAILY_INTERVAL_NDVI_TRMM\\NDVI_InnerMongolia//CN_2012_NDVI_recon.259.tif"
       ]
      },
      {
       "output_type": "stream",
       "stream": "stdout",
       "text": [
        "\n",
        "D:\\Data\\0_DAILY_INTERVAL_NDVI_TRMM\\NDVI_InnerMongolia//CN_2012_NDVI_recon.260.tif"
       ]
      },
      {
       "output_type": "stream",
       "stream": "stdout",
       "text": [
        "\n",
        "D:\\Data\\0_DAILY_INTERVAL_NDVI_TRMM\\NDVI_InnerMongolia//CN_2012_NDVI_recon.261.tif"
       ]
      },
      {
       "output_type": "stream",
       "stream": "stdout",
       "text": [
        "\n",
        "D:\\Data\\0_DAILY_INTERVAL_NDVI_TRMM\\NDVI_InnerMongolia//CN_2012_NDVI_recon.262.tif"
       ]
      },
      {
       "output_type": "stream",
       "stream": "stdout",
       "text": [
        "\n",
        "D:\\Data\\0_DAILY_INTERVAL_NDVI_TRMM\\NDVI_InnerMongolia//CN_2012_NDVI_recon.263.tif"
       ]
      },
      {
       "output_type": "stream",
       "stream": "stdout",
       "text": [
        "\n",
        "D:\\Data\\0_DAILY_INTERVAL_NDVI_TRMM\\NDVI_InnerMongolia//CN_2012_NDVI_recon.264.tif"
       ]
      },
      {
       "output_type": "stream",
       "stream": "stdout",
       "text": [
        "\n",
        "D:\\Data\\0_DAILY_INTERVAL_NDVI_TRMM\\NDVI_InnerMongolia//CN_2012_NDVI_recon.265.tif"
       ]
      },
      {
       "output_type": "stream",
       "stream": "stdout",
       "text": [
        "\n",
        "D:\\Data\\0_DAILY_INTERVAL_NDVI_TRMM\\NDVI_InnerMongolia//CN_2012_NDVI_recon.266.tif"
       ]
      },
      {
       "output_type": "stream",
       "stream": "stdout",
       "text": [
        "\n",
        "D:\\Data\\0_DAILY_INTERVAL_NDVI_TRMM\\NDVI_InnerMongolia//CN_2012_NDVI_recon.267.tif"
       ]
      },
      {
       "output_type": "stream",
       "stream": "stdout",
       "text": [
        "\n",
        "D:\\Data\\0_DAILY_INTERVAL_NDVI_TRMM\\NDVI_InnerMongolia//CN_2012_NDVI_recon.268.tif"
       ]
      },
      {
       "output_type": "stream",
       "stream": "stdout",
       "text": [
        "\n",
        "D:\\Data\\0_DAILY_INTERVAL_NDVI_TRMM\\NDVI_InnerMongolia//CN_2012_NDVI_recon.269.tif"
       ]
      },
      {
       "output_type": "stream",
       "stream": "stdout",
       "text": [
        "\n",
        "D:\\Data\\0_DAILY_INTERVAL_NDVI_TRMM\\NDVI_InnerMongolia//CN_2012_NDVI_recon.270.tif"
       ]
      },
      {
       "output_type": "stream",
       "stream": "stdout",
       "text": [
        "\n",
        "D:\\Data\\0_DAILY_INTERVAL_NDVI_TRMM\\NDVI_InnerMongolia//CN_2012_NDVI_recon.271.tif"
       ]
      },
      {
       "output_type": "stream",
       "stream": "stdout",
       "text": [
        "\n",
        "D:\\Data\\0_DAILY_INTERVAL_NDVI_TRMM\\NDVI_InnerMongolia//CN_2012_NDVI_recon.272.tif"
       ]
      },
      {
       "output_type": "stream",
       "stream": "stdout",
       "text": [
        "\n",
        "D:\\Data\\0_DAILY_INTERVAL_NDVI_TRMM\\NDVI_InnerMongolia//CN_2012_NDVI_recon.273.tif"
       ]
      },
      {
       "output_type": "stream",
       "stream": "stdout",
       "text": [
        "\n",
        "D:\\Data\\0_DAILY_INTERVAL_NDVI_TRMM\\NDVI_InnerMongolia//CN_2012_NDVI_recon.274.tif"
       ]
      },
      {
       "output_type": "stream",
       "stream": "stdout",
       "text": [
        "\n",
        "D:\\Data\\0_DAILY_INTERVAL_NDVI_TRMM\\NDVI_InnerMongolia//CN_2012_NDVI_recon.275.tif"
       ]
      },
      {
       "output_type": "stream",
       "stream": "stdout",
       "text": [
        "\n",
        "D:\\Data\\0_DAILY_INTERVAL_NDVI_TRMM\\NDVI_InnerMongolia//CN_2012_NDVI_recon.276.tif"
       ]
      },
      {
       "output_type": "stream",
       "stream": "stdout",
       "text": [
        "\n",
        "D:\\Data\\0_DAILY_INTERVAL_NDVI_TRMM\\NDVI_InnerMongolia//CN_2012_NDVI_recon.277.tif"
       ]
      },
      {
       "output_type": "stream",
       "stream": "stdout",
       "text": [
        "\n",
        "D:\\Data\\0_DAILY_INTERVAL_NDVI_TRMM\\NDVI_InnerMongolia//CN_2012_NDVI_recon.278.tif"
       ]
      },
      {
       "output_type": "stream",
       "stream": "stdout",
       "text": [
        "\n",
        "D:\\Data\\0_DAILY_INTERVAL_NDVI_TRMM\\NDVI_InnerMongolia//CN_2012_NDVI_recon.279.tif"
       ]
      },
      {
       "output_type": "stream",
       "stream": "stdout",
       "text": [
        "\n",
        "D:\\Data\\0_DAILY_INTERVAL_NDVI_TRMM\\NDVI_InnerMongolia//CN_2012_NDVI_recon.280.tif"
       ]
      },
      {
       "output_type": "stream",
       "stream": "stdout",
       "text": [
        "\n",
        "D:\\Data\\0_DAILY_INTERVAL_NDVI_TRMM\\NDVI_InnerMongolia//CN_2012_NDVI_recon.281.tif"
       ]
      },
      {
       "output_type": "stream",
       "stream": "stdout",
       "text": [
        "\n",
        "D:\\Data\\0_DAILY_INTERVAL_NDVI_TRMM\\NDVI_InnerMongolia//CN_2012_NDVI_recon.282.tif"
       ]
      },
      {
       "output_type": "stream",
       "stream": "stdout",
       "text": [
        "\n",
        "D:\\Data\\0_DAILY_INTERVAL_NDVI_TRMM\\NDVI_InnerMongolia//CN_2012_NDVI_recon.283.tif"
       ]
      },
      {
       "output_type": "stream",
       "stream": "stdout",
       "text": [
        "\n",
        "D:\\Data\\0_DAILY_INTERVAL_NDVI_TRMM\\NDVI_InnerMongolia//CN_2012_NDVI_recon.284.tif"
       ]
      },
      {
       "output_type": "stream",
       "stream": "stdout",
       "text": [
        "\n",
        "D:\\Data\\0_DAILY_INTERVAL_NDVI_TRMM\\NDVI_InnerMongolia//CN_2012_NDVI_recon.285.tif"
       ]
      },
      {
       "output_type": "stream",
       "stream": "stdout",
       "text": [
        "\n",
        "D:\\Data\\0_DAILY_INTERVAL_NDVI_TRMM\\NDVI_InnerMongolia//CN_2012_NDVI_recon.286.tif"
       ]
      },
      {
       "output_type": "stream",
       "stream": "stdout",
       "text": [
        "\n",
        "D:\\Data\\0_DAILY_INTERVAL_NDVI_TRMM\\NDVI_InnerMongolia//CN_2012_NDVI_recon.287.tif"
       ]
      },
      {
       "output_type": "stream",
       "stream": "stdout",
       "text": [
        "\n",
        "D:\\Data\\0_DAILY_INTERVAL_NDVI_TRMM\\NDVI_InnerMongolia//CN_2012_NDVI_recon.288.tif"
       ]
      },
      {
       "output_type": "stream",
       "stream": "stdout",
       "text": [
        "\n",
        "D:\\Data\\0_DAILY_INTERVAL_NDVI_TRMM\\NDVI_InnerMongolia//CN_2012_NDVI_recon.289.tif"
       ]
      },
      {
       "output_type": "stream",
       "stream": "stdout",
       "text": [
        "\n",
        "D:\\Data\\0_DAILY_INTERVAL_NDVI_TRMM\\NDVI_InnerMongolia//CN_2012_NDVI_recon.290.tif"
       ]
      },
      {
       "output_type": "stream",
       "stream": "stdout",
       "text": [
        "\n",
        "D:\\Data\\0_DAILY_INTERVAL_NDVI_TRMM\\NDVI_InnerMongolia//CN_2012_NDVI_recon.291.tif"
       ]
      },
      {
       "output_type": "stream",
       "stream": "stdout",
       "text": [
        "\n",
        "D:\\Data\\0_DAILY_INTERVAL_NDVI_TRMM\\NDVI_InnerMongolia//CN_2012_NDVI_recon.292.tif"
       ]
      },
      {
       "output_type": "stream",
       "stream": "stdout",
       "text": [
        "\n",
        "D:\\Data\\0_DAILY_INTERVAL_NDVI_TRMM\\NDVI_InnerMongolia//CN_2012_NDVI_recon.293.tif"
       ]
      },
      {
       "output_type": "stream",
       "stream": "stdout",
       "text": [
        "\n",
        "D:\\Data\\0_DAILY_INTERVAL_NDVI_TRMM\\NDVI_InnerMongolia//CN_2012_NDVI_recon.294.tif"
       ]
      },
      {
       "output_type": "stream",
       "stream": "stdout",
       "text": [
        "\n",
        "D:\\Data\\0_DAILY_INTERVAL_NDVI_TRMM\\NDVI_InnerMongolia//CN_2012_NDVI_recon.295.tif"
       ]
      },
      {
       "output_type": "stream",
       "stream": "stdout",
       "text": [
        "\n",
        "D:\\Data\\0_DAILY_INTERVAL_NDVI_TRMM\\NDVI_InnerMongolia//CN_2012_NDVI_recon.296.tif"
       ]
      },
      {
       "output_type": "stream",
       "stream": "stdout",
       "text": [
        "\n",
        "D:\\Data\\0_DAILY_INTERVAL_NDVI_TRMM\\NDVI_InnerMongolia//CN_2012_NDVI_recon.297.tif"
       ]
      },
      {
       "output_type": "stream",
       "stream": "stdout",
       "text": [
        "\n",
        "D:\\Data\\0_DAILY_INTERVAL_NDVI_TRMM\\NDVI_InnerMongolia//CN_2012_NDVI_recon.298.tif"
       ]
      },
      {
       "output_type": "stream",
       "stream": "stdout",
       "text": [
        "\n",
        "D:\\Data\\0_DAILY_INTERVAL_NDVI_TRMM\\NDVI_InnerMongolia//CN_2012_NDVI_recon.299.tif"
       ]
      },
      {
       "output_type": "stream",
       "stream": "stdout",
       "text": [
        "\n",
        "D:\\Data\\0_DAILY_INTERVAL_NDVI_TRMM\\NDVI_InnerMongolia//CN_2012_NDVI_recon.300.tif"
       ]
      },
      {
       "output_type": "stream",
       "stream": "stdout",
       "text": [
        "\n",
        "D:\\Data\\0_DAILY_INTERVAL_NDVI_TRMM\\NDVI_InnerMongolia//CN_2012_NDVI_recon.301.tif"
       ]
      },
      {
       "output_type": "stream",
       "stream": "stdout",
       "text": [
        "\n",
        "D:\\Data\\0_DAILY_INTERVAL_NDVI_TRMM\\NDVI_InnerMongolia//CN_2012_NDVI_recon.302.tif"
       ]
      },
      {
       "output_type": "stream",
       "stream": "stdout",
       "text": [
        "\n",
        "D:\\Data\\0_DAILY_INTERVAL_NDVI_TRMM\\NDVI_InnerMongolia//CN_2012_NDVI_recon.303.tif"
       ]
      },
      {
       "output_type": "stream",
       "stream": "stdout",
       "text": [
        "\n",
        "D:\\Data\\0_DAILY_INTERVAL_NDVI_TRMM\\NDVI_InnerMongolia//CN_2012_NDVI_recon.304.tif"
       ]
      },
      {
       "output_type": "stream",
       "stream": "stdout",
       "text": [
        "\n",
        "D:\\Data\\0_DAILY_INTERVAL_NDVI_TRMM\\NDVI_InnerMongolia//CN_2012_NDVI_recon.305.tif"
       ]
      },
      {
       "output_type": "stream",
       "stream": "stdout",
       "text": [
        "\n",
        "D:\\Data\\0_DAILY_INTERVAL_NDVI_TRMM\\NDVI_InnerMongolia//CN_2012_NDVI_recon.306.tif"
       ]
      },
      {
       "output_type": "stream",
       "stream": "stdout",
       "text": [
        "\n",
        "D:\\Data\\0_DAILY_INTERVAL_NDVI_TRMM\\NDVI_InnerMongolia//CN_2012_NDVI_recon.307.tif"
       ]
      },
      {
       "output_type": "stream",
       "stream": "stdout",
       "text": [
        "\n",
        "D:\\Data\\0_DAILY_INTERVAL_NDVI_TRMM\\NDVI_InnerMongolia//CN_2012_NDVI_recon.308.tif"
       ]
      },
      {
       "output_type": "stream",
       "stream": "stdout",
       "text": [
        "\n",
        "D:\\Data\\0_DAILY_INTERVAL_NDVI_TRMM\\NDVI_InnerMongolia//CN_2012_NDVI_recon.309.tif"
       ]
      },
      {
       "output_type": "stream",
       "stream": "stdout",
       "text": [
        "\n",
        "D:\\Data\\0_DAILY_INTERVAL_NDVI_TRMM\\NDVI_InnerMongolia//CN_2012_NDVI_recon.310.tif"
       ]
      },
      {
       "output_type": "stream",
       "stream": "stdout",
       "text": [
        "\n",
        "D:\\Data\\0_DAILY_INTERVAL_NDVI_TRMM\\NDVI_InnerMongolia//CN_2012_NDVI_recon.311.tif"
       ]
      },
      {
       "output_type": "stream",
       "stream": "stdout",
       "text": [
        "\n",
        "D:\\Data\\0_DAILY_INTERVAL_NDVI_TRMM\\NDVI_InnerMongolia//CN_2012_NDVI_recon.312.tif"
       ]
      },
      {
       "output_type": "stream",
       "stream": "stdout",
       "text": [
        "\n",
        "D:\\Data\\0_DAILY_INTERVAL_NDVI_TRMM\\NDVI_InnerMongolia//CN_2012_NDVI_recon.313.tif"
       ]
      },
      {
       "output_type": "stream",
       "stream": "stdout",
       "text": [
        "\n",
        "D:\\Data\\0_DAILY_INTERVAL_NDVI_TRMM\\NDVI_InnerMongolia//CN_2012_NDVI_recon.314.tif"
       ]
      },
      {
       "output_type": "stream",
       "stream": "stdout",
       "text": [
        "\n",
        "D:\\Data\\0_DAILY_INTERVAL_NDVI_TRMM\\NDVI_InnerMongolia//CN_2012_NDVI_recon.315.tif"
       ]
      },
      {
       "output_type": "stream",
       "stream": "stdout",
       "text": [
        "\n",
        "D:\\Data\\0_DAILY_INTERVAL_NDVI_TRMM\\NDVI_InnerMongolia//CN_2012_NDVI_recon.316.tif"
       ]
      },
      {
       "output_type": "stream",
       "stream": "stdout",
       "text": [
        "\n",
        "D:\\Data\\0_DAILY_INTERVAL_NDVI_TRMM\\NDVI_InnerMongolia//CN_2012_NDVI_recon.317.tif"
       ]
      },
      {
       "output_type": "stream",
       "stream": "stdout",
       "text": [
        "\n",
        "D:\\Data\\0_DAILY_INTERVAL_NDVI_TRMM\\NDVI_InnerMongolia//CN_2012_NDVI_recon.318.tif"
       ]
      },
      {
       "output_type": "stream",
       "stream": "stdout",
       "text": [
        "\n",
        "D:\\Data\\0_DAILY_INTERVAL_NDVI_TRMM\\NDVI_InnerMongolia//CN_2012_NDVI_recon.319.tif"
       ]
      },
      {
       "output_type": "stream",
       "stream": "stdout",
       "text": [
        "\n",
        "D:\\Data\\0_DAILY_INTERVAL_NDVI_TRMM\\NDVI_InnerMongolia//CN_2012_NDVI_recon.320.tif"
       ]
      },
      {
       "output_type": "stream",
       "stream": "stdout",
       "text": [
        "\n",
        "D:\\Data\\0_DAILY_INTERVAL_NDVI_TRMM\\NDVI_InnerMongolia//CN_2012_NDVI_recon.321.tif"
       ]
      },
      {
       "output_type": "stream",
       "stream": "stdout",
       "text": [
        "\n",
        "D:\\Data\\0_DAILY_INTERVAL_NDVI_TRMM\\NDVI_InnerMongolia//CN_2012_NDVI_recon.322.tif"
       ]
      },
      {
       "output_type": "stream",
       "stream": "stdout",
       "text": [
        "\n",
        "D:\\Data\\0_DAILY_INTERVAL_NDVI_TRMM\\NDVI_InnerMongolia//CN_2012_NDVI_recon.323.tif"
       ]
      },
      {
       "output_type": "stream",
       "stream": "stdout",
       "text": [
        "\n",
        "D:\\Data\\0_DAILY_INTERVAL_NDVI_TRMM\\NDVI_InnerMongolia//CN_2012_NDVI_recon.324.tif"
       ]
      },
      {
       "output_type": "stream",
       "stream": "stdout",
       "text": [
        "\n",
        "D:\\Data\\0_DAILY_INTERVAL_NDVI_TRMM\\NDVI_InnerMongolia//CN_2012_NDVI_recon.325.tif"
       ]
      },
      {
       "output_type": "stream",
       "stream": "stdout",
       "text": [
        "\n",
        "D:\\Data\\0_DAILY_INTERVAL_NDVI_TRMM\\NDVI_InnerMongolia//CN_2012_NDVI_recon.326.tif"
       ]
      },
      {
       "output_type": "stream",
       "stream": "stdout",
       "text": [
        "\n",
        "D:\\Data\\0_DAILY_INTERVAL_NDVI_TRMM\\NDVI_InnerMongolia//CN_2012_NDVI_recon.327.tif"
       ]
      },
      {
       "output_type": "stream",
       "stream": "stdout",
       "text": [
        "\n",
        "D:\\Data\\0_DAILY_INTERVAL_NDVI_TRMM\\NDVI_InnerMongolia//CN_2012_NDVI_recon.328.tif"
       ]
      },
      {
       "output_type": "stream",
       "stream": "stdout",
       "text": [
        "\n",
        "D:\\Data\\0_DAILY_INTERVAL_NDVI_TRMM\\NDVI_InnerMongolia//CN_2012_NDVI_recon.329.tif"
       ]
      },
      {
       "output_type": "stream",
       "stream": "stdout",
       "text": [
        "\n",
        "D:\\Data\\0_DAILY_INTERVAL_NDVI_TRMM\\NDVI_InnerMongolia//CN_2012_NDVI_recon.330.tif"
       ]
      },
      {
       "output_type": "stream",
       "stream": "stdout",
       "text": [
        "\n",
        "D:\\Data\\0_DAILY_INTERVAL_NDVI_TRMM\\NDVI_InnerMongolia//CN_2012_NDVI_recon.331.tif"
       ]
      },
      {
       "output_type": "stream",
       "stream": "stdout",
       "text": [
        "\n",
        "D:\\Data\\0_DAILY_INTERVAL_NDVI_TRMM\\NDVI_InnerMongolia//CN_2012_NDVI_recon.332.tif"
       ]
      },
      {
       "output_type": "stream",
       "stream": "stdout",
       "text": [
        "\n",
        "D:\\Data\\0_DAILY_INTERVAL_NDVI_TRMM\\NDVI_InnerMongolia//CN_2012_NDVI_recon.333.tif"
       ]
      },
      {
       "output_type": "stream",
       "stream": "stdout",
       "text": [
        "\n",
        "D:\\Data\\0_DAILY_INTERVAL_NDVI_TRMM\\NDVI_InnerMongolia//CN_2012_NDVI_recon.334.tif"
       ]
      },
      {
       "output_type": "stream",
       "stream": "stdout",
       "text": [
        "\n",
        "D:\\Data\\0_DAILY_INTERVAL_NDVI_TRMM\\NDVI_InnerMongolia//CN_2012_NDVI_recon.335.tif"
       ]
      },
      {
       "output_type": "stream",
       "stream": "stdout",
       "text": [
        "\n",
        "D:\\Data\\0_DAILY_INTERVAL_NDVI_TRMM\\NDVI_InnerMongolia//CN_2012_NDVI_recon.336.tif"
       ]
      },
      {
       "output_type": "stream",
       "stream": "stdout",
       "text": [
        "\n",
        "D:\\Data\\0_DAILY_INTERVAL_NDVI_TRMM\\NDVI_InnerMongolia//CN_2012_NDVI_recon.337.tif"
       ]
      },
      {
       "output_type": "stream",
       "stream": "stdout",
       "text": [
        "\n",
        "D:\\Data\\0_DAILY_INTERVAL_NDVI_TRMM\\NDVI_InnerMongolia//CN_2012_NDVI_recon.338.tif"
       ]
      },
      {
       "output_type": "stream",
       "stream": "stdout",
       "text": [
        "\n",
        "D:\\Data\\0_DAILY_INTERVAL_NDVI_TRMM\\NDVI_InnerMongolia//CN_2012_NDVI_recon.339.tif"
       ]
      },
      {
       "output_type": "stream",
       "stream": "stdout",
       "text": [
        "\n",
        "D:\\Data\\0_DAILY_INTERVAL_NDVI_TRMM\\NDVI_InnerMongolia//CN_2012_NDVI_recon.340.tif"
       ]
      },
      {
       "output_type": "stream",
       "stream": "stdout",
       "text": [
        "\n",
        "D:\\Data\\0_DAILY_INTERVAL_NDVI_TRMM\\NDVI_InnerMongolia//CN_2012_NDVI_recon.341.tif"
       ]
      },
      {
       "output_type": "stream",
       "stream": "stdout",
       "text": [
        "\n",
        "D:\\Data\\0_DAILY_INTERVAL_NDVI_TRMM\\NDVI_InnerMongolia//CN_2012_NDVI_recon.342.tif"
       ]
      },
      {
       "output_type": "stream",
       "stream": "stdout",
       "text": [
        "\n",
        "D:\\Data\\0_DAILY_INTERVAL_NDVI_TRMM\\NDVI_InnerMongolia//CN_2012_NDVI_recon.343.tif"
       ]
      },
      {
       "output_type": "stream",
       "stream": "stdout",
       "text": [
        "\n",
        "D:\\Data\\0_DAILY_INTERVAL_NDVI_TRMM\\NDVI_InnerMongolia//CN_2012_NDVI_recon.344.tif"
       ]
      },
      {
       "output_type": "stream",
       "stream": "stdout",
       "text": [
        "\n",
        "D:\\Data\\0_DAILY_INTERVAL_NDVI_TRMM\\NDVI_InnerMongolia//CN_2012_NDVI_recon.345.tif"
       ]
      },
      {
       "output_type": "stream",
       "stream": "stdout",
       "text": [
        "\n",
        "D:\\Data\\0_DAILY_INTERVAL_NDVI_TRMM\\NDVI_InnerMongolia//CN_2012_NDVI_recon.346.tif"
       ]
      },
      {
       "output_type": "stream",
       "stream": "stdout",
       "text": [
        "\n",
        "D:\\Data\\0_DAILY_INTERVAL_NDVI_TRMM\\NDVI_InnerMongolia//CN_2012_NDVI_recon.347.tif"
       ]
      },
      {
       "output_type": "stream",
       "stream": "stdout",
       "text": [
        "\n",
        "D:\\Data\\0_DAILY_INTERVAL_NDVI_TRMM\\NDVI_InnerMongolia//CN_2012_NDVI_recon.348.tif"
       ]
      },
      {
       "output_type": "stream",
       "stream": "stdout",
       "text": [
        "\n",
        "D:\\Data\\0_DAILY_INTERVAL_NDVI_TRMM\\NDVI_InnerMongolia//CN_2012_NDVI_recon.349.tif"
       ]
      },
      {
       "output_type": "stream",
       "stream": "stdout",
       "text": [
        "\n",
        "D:\\Data\\0_DAILY_INTERVAL_NDVI_TRMM\\NDVI_InnerMongolia//CN_2012_NDVI_recon.350.tif"
       ]
      },
      {
       "output_type": "stream",
       "stream": "stdout",
       "text": [
        "\n",
        "D:\\Data\\0_DAILY_INTERVAL_NDVI_TRMM\\NDVI_InnerMongolia//CN_2012_NDVI_recon.351.tif"
       ]
      },
      {
       "output_type": "stream",
       "stream": "stdout",
       "text": [
        "\n",
        "D:\\Data\\0_DAILY_INTERVAL_NDVI_TRMM\\NDVI_InnerMongolia//CN_2012_NDVI_recon.352.tif"
       ]
      },
      {
       "output_type": "stream",
       "stream": "stdout",
       "text": [
        "\n",
        "D:\\Data\\0_DAILY_INTERVAL_NDVI_TRMM\\NDVI_InnerMongolia//CN_2012_NDVI_recon.353.tif"
       ]
      },
      {
       "output_type": "stream",
       "stream": "stdout",
       "text": [
        "\n",
        "D:\\Data\\0_DAILY_INTERVAL_NDVI_TRMM\\NDVI_InnerMongolia//CN_2012_NDVI_recon.354.tif"
       ]
      },
      {
       "output_type": "stream",
       "stream": "stdout",
       "text": [
        "\n",
        "D:\\Data\\0_DAILY_INTERVAL_NDVI_TRMM\\NDVI_InnerMongolia//CN_2012_NDVI_recon.355.tif"
       ]
      },
      {
       "output_type": "stream",
       "stream": "stdout",
       "text": [
        "\n",
        "D:\\Data\\0_DAILY_INTERVAL_NDVI_TRMM\\NDVI_InnerMongolia//CN_2012_NDVI_recon.356.tif"
       ]
      },
      {
       "output_type": "stream",
       "stream": "stdout",
       "text": [
        "\n",
        "D:\\Data\\0_DAILY_INTERVAL_NDVI_TRMM\\NDVI_InnerMongolia//CN_2012_NDVI_recon.357.tif"
       ]
      },
      {
       "output_type": "stream",
       "stream": "stdout",
       "text": [
        "\n",
        "D:\\Data\\0_DAILY_INTERVAL_NDVI_TRMM\\NDVI_InnerMongolia//CN_2012_NDVI_recon.358.tif"
       ]
      },
      {
       "output_type": "stream",
       "stream": "stdout",
       "text": [
        "\n",
        "D:\\Data\\0_DAILY_INTERVAL_NDVI_TRMM\\NDVI_InnerMongolia//CN_2012_NDVI_recon.359.tif"
       ]
      },
      {
       "output_type": "stream",
       "stream": "stdout",
       "text": [
        "\n",
        "D:\\Data\\0_DAILY_INTERVAL_NDVI_TRMM\\NDVI_InnerMongolia//CN_2012_NDVI_recon.360.tif"
       ]
      },
      {
       "output_type": "stream",
       "stream": "stdout",
       "text": [
        "\n",
        "D:\\Data\\0_DAILY_INTERVAL_NDVI_TRMM\\NDVI_InnerMongolia//CN_2012_NDVI_recon.361.tif"
       ]
      },
      {
       "output_type": "stream",
       "stream": "stdout",
       "text": [
        "\n",
        "D:\\Data\\0_DAILY_INTERVAL_NDVI_TRMM\\NDVI_InnerMongolia//CN_2012_NDVI_recon.362.tif"
       ]
      },
      {
       "output_type": "stream",
       "stream": "stdout",
       "text": [
        "\n",
        "D:\\Data\\0_DAILY_INTERVAL_NDVI_TRMM\\NDVI_InnerMongolia//CN_2012_NDVI_recon.363.tif"
       ]
      },
      {
       "output_type": "stream",
       "stream": "stdout",
       "text": [
        "\n",
        "D:\\Data\\0_DAILY_INTERVAL_NDVI_TRMM\\NDVI_InnerMongolia//CN_2012_NDVI_recon.364.tif"
       ]
      },
      {
       "output_type": "stream",
       "stream": "stdout",
       "text": [
        "\n",
        "D:\\Data\\0_DAILY_INTERVAL_NDVI_TRMM\\NDVI_InnerMongolia//CN_2012_NDVI_recon.365.tif"
       ]
      },
      {
       "output_type": "stream",
       "stream": "stdout",
       "text": [
        "\n"
       ]
      }
     ],
     "prompt_number": 47
    },
    {
     "cell_type": "code",
     "collapsed": false,
     "input": [
      "paramsnorm"
     ],
     "language": "python",
     "metadata": {},
     "outputs": [
      {
       "metadata": {},
       "output_type": "pyout",
       "prompt_number": 36,
       "text": [
        "['D:\\\\Python33\\\\Lib\\\\site-packages\\\\osgeo\\\\gdal_translate.exe',\n",
        " '-projwin',\n",
        " 113.8778835565015,\n",
        " 31.16950633603375,\n",
        " 118.8673782348634,\n",
        " 27.69843482971197,\n",
        " 'D:\\\\Data\\\\TRMM\\\\3B42_daily.2001.01.01.7.tif',\n",
        " 'D:\\\\Data\\\\TRMM_Jiujang3B42_daily.2001.01.01.7.tif']"
       ]
      }
     ],
     "prompt_number": 36
    },
    {
     "cell_type": "code",
     "collapsed": false,
     "input": [
      "Layer = dataSource.GetLayer()\n",
      "ulx, lrx, lry, uly = Layer.GetExtent()\n",
      "print ulx, uly, lrx, lry"
     ],
     "language": "python",
     "metadata": {},
     "outputs": [
      {
       "output_type": "stream",
       "stream": "stdout",
       "text": [
        "113.877883557 31.169506336 118.867378235 27.6984348297\n"
       ]
      }
     ],
     "prompt_number": 27
    },
    {
     "cell_type": "code",
     "collapsed": false,
     "input": [
      "pthShp = r'D:\\Data\\ChinaShapefile//Jiujang.shp'\n",
      "ogrinfo = r'D:\\Python33\\Lib\\site-packages\\osgeo\\ogrinfo.exe'\n",
      "paramsnorm = [ogrinfo, \"-al\", pthShp, \"|\", \"grep\", \"Extent\"]\n",
      "norm = sp.Popen(sp.list2cmdline(paramsnorm), shell=True)\n",
      "norm.communicate"
     ],
     "language": "python",
     "metadata": {},
     "outputs": [
      {
       "metadata": {},
       "output_type": "pyout",
       "prompt_number": 20,
       "text": [
        "<subprocess.Popen at 0xb87ad30>"
       ]
      }
     ],
     "prompt_number": 20
    },
    {
     "cell_type": "code",
     "collapsed": false,
     "input": [
      "ogrinfo"
     ],
     "language": "python",
     "metadata": {},
     "outputs": [
      {
       "metadata": {},
       "output_type": "pyout",
       "prompt_number": 7,
       "text": [
        "'D:\\\\Python33\\\\Lib\\\\site-packages\\\\osgeo//ogrinfo.exe'"
       ]
      }
     ],
     "prompt_number": 7
    },
    {
     "cell_type": "code",
     "collapsed": false,
     "input": [
      "import sys\n",
      "import subprocess as sp\n",
      "foldertif2 = r'D:\\Data\\GPCP_tif'\n",
      "files = dikkelul.FilesFolder(foldertif2)\n",
      "outfolderresample = r'D:\\Data\\GPCP_tif_clip_clip//'\n",
      "for j in files:\n",
      "    out = j[-30::]\n",
      "    path = outfolderresample+out\n",
      "    paramsnorm = [\"gdal_translate\", \"-projwin\", \"73.116933\", \"54.873241\", \"136.116933\", \"17.873241\", \"-outsize\", \"6300\", \"3700\", j, path]\n",
      "    print (path)\n",
      "    #print (sp.list2cmdline(paramsnorm))\n",
      "    norm = sp.Popen(sp.list2cmdline(paramsnorm), shell=True)     \n",
      "    norm.communicate()"
     ],
     "language": "python",
     "metadata": {},
     "outputs": []
    }
   ],
   "metadata": {}
  }
 ]
}