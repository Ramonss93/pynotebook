{
 "metadata": {
  "name": ""
 },
 "nbformat": 3,
 "nbformat_minor": 0,
 "worksheets": [
  {
   "cells": [
    {
     "cell_type": "code",
     "collapsed": false,
     "input": [
      "import os\n",
      "from osgeo import gdal, gdalconst\n",
      "import numpy as np\n",
      "\n",
      "def FilesFolder(inGSODFolder, format_end=''):\n",
      "    st_wmo = [os.path.join(root, name)\n",
      "               for root, dirs, files in os.walk(inGSODFolder)\n",
      "                 for name in files                 \n",
      "                 if name.endswith(format_end)]\n",
      "    return st_wmo"
     ],
     "language": "python",
     "metadata": {},
     "outputs": [],
     "prompt_number": 1
    },
    {
     "cell_type": "code",
     "collapsed": false,
     "input": [
      "path = r'D:\\Data\\0_DAILY_INTERVAL_NDVI_TRMM\\InnerMongolia\\NDVI_2009\\DaySums_StdNormAnomaly\\split_rasters'\n",
      "files = FilesFolder(path, format_end='.TIF')\n",
      "files[-1]"
     ],
     "language": "python",
     "metadata": {},
     "outputs": [
      {
       "metadata": {},
       "output_type": "pyout",
       "prompt_number": 16,
       "text": [
        "'D:\\\\Data\\\\0_DAILY_INTERVAL_NDVI_TRMM\\\\InnerMongolia\\\\NDVI_2009\\\\DaySums_StdNormAnomaly\\\\split_rasters\\\\NDVI_IM_2009365_9.TIF'"
       ]
      }
     ],
     "prompt_number": 16
    },
    {
     "cell_type": "code",
     "collapsed": false,
     "input": [
      "for i in files:\n",
      "    os.rename(i, i[0:-21]+i[-5:-4]+'_'+i[-21::])    "
     ],
     "language": "python",
     "metadata": {},
     "outputs": [],
     "prompt_number": 17
    },
    {
     "cell_type": "code",
     "collapsed": false,
     "input": [],
     "language": "python",
     "metadata": {},
     "outputs": []
    }
   ],
   "metadata": {}
  }
 ]
}