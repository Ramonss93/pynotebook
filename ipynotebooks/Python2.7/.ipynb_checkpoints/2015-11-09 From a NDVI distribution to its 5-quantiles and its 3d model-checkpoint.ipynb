{
 "metadata": {
  "name": "",
  "signature": "sha256:01136a99236845e10703aab6fb13574de1ecb2f15a2a4530fc297534c2b518a0"
 },
 "nbformat": 3,
 "nbformat_minor": 0,
 "worksheets": [
  {
   "cells": [
    {
     "cell_type": "code",
     "collapsed": false,
     "input": [
      "import numpy as np\n",
      "from osgeo import gdal\n",
      "import matplotlib.pyplot as plt\n",
      "import pandas as pd\n",
      "%matplotlib inline"
     ],
     "language": "python",
     "metadata": {},
     "outputs": [],
     "prompt_number": 415
    },
    {
     "cell_type": "code",
     "collapsed": false,
     "input": [
      "%matplotlib inline\n",
      "from __future__ import division\n",
      "from osgeo import gdal\n",
      "import numpy as np\n",
      "import scipy.signal\n",
      "import os\n",
      "import matplotlib.pyplot as plt\n",
      "import nitime.algorithms as tsa\n",
      "import os\n",
      "from osgeo import gdal\n",
      "import scipy.signal\n",
      "plt.style.use('ggplot')\n",
      "import datetime"
     ],
     "language": "python",
     "metadata": {},
     "outputs": [],
     "prompt_number": 416
    },
    {
     "cell_type": "code",
     "collapsed": false,
     "input": [
      "files_ndvi = listall(folder_ndvi)\n",
      "files_trmm = listall(folder_trmm)\n",
      "files_lst = listall(folder_lst)\n",
      "# select year 2009 for ndvi, trmm and lst\n",
      "files_ndvi = files_ndvi[2191:2556]\n",
      "files_trmm = files_trmm[2192:2557]\n",
      "files_lst = files_lst[404:449]"
     ],
     "language": "python",
     "metadata": {},
     "outputs": [],
     "prompt_number": 432
    },
    {
     "cell_type": "code",
     "collapsed": false,
     "input": [
      "dates_ndvi = []\n",
      "for i in files_ndvi:\n",
      "    year = int(i[-11:-7])\n",
      "    days = int(i[-7:-4])    \n",
      "    dates_ndvi.append(datetime.datetime(year, 1, 1) + datetime.timedelta(days - 1))"
     ],
     "language": "python",
     "metadata": {},
     "outputs": [],
     "prompt_number": 433
    },
    {
     "cell_type": "code",
     "collapsed": false,
     "input": [
      "dates_trmm = []\n",
      "for i in files_trmm:\n",
      "    year = int(i[-11:-7])\n",
      "    days = int(i[-7:-4])    \n",
      "    dates_trmm.append(datetime.datetime(year, 1, 1) + datetime.timedelta(days - 1))"
     ],
     "language": "python",
     "metadata": {},
     "outputs": [],
     "prompt_number": 434
    },
    {
     "cell_type": "code",
     "collapsed": false,
     "input": [
      "dates_trmm = []\n",
      "for i in files_trmm:\n",
      "    year = int(i[-11:-7])\n",
      "    days = int(i[-7:-4])    \n",
      "    dates_trmm.append(datetime.datetime(year, 1, 1) + datetime.timedelta(days - 1))"
     ],
     "language": "python",
     "metadata": {},
     "outputs": [],
     "prompt_number": 435
    },
    {
     "cell_type": "code",
     "collapsed": false,
     "input": [
      "dates_lst = []\n",
      "for i in files_lst:\n",
      "    year = int(i[-12:-8])\n",
      "    month = int(i[-8:-6])    \n",
      "    day = int(i[-6:-4])        \n",
      "    dates_lst.append(datetime.datetime(year, month, day))"
     ],
     "language": "python",
     "metadata": {},
     "outputs": [],
     "prompt_number": 436
    },
    {
     "cell_type": "code",
     "collapsed": false,
     "input": [],
     "language": "python",
     "metadata": {},
     "outputs": [],
     "prompt_number": 436
    },
    {
     "cell_type": "code",
     "collapsed": false,
     "input": [],
     "language": "python",
     "metadata": {},
     "outputs": [],
     "prompt_number": 436
    },
    {
     "cell_type": "code",
     "collapsed": false,
     "input": [
      "def listall(RootFolder, wildcard=''):\n",
      "    lists = [os.path.join(root, name)    \n",
      "                 for root, dirs, files in os.walk(RootFolder)\n",
      "                   for name in files\n",
      "                   if wildcard in name\n",
      "                     if name.endswith('.tif')]\n",
      "    return lists\n",
      "\n",
      "rowx = 300\n",
      "coly = 700\n",
      "\n",
      "#folder_trmm = r'D:\\Data\\0_DAILY_INTERVAL_NDVI_TRMM\\InnerMongolia\\TRMM2\\30_Day_Period\\30_DaySums'\n",
      "folder_ndvi = r'D:\\Data\\0_DAILY_INTERVAL_NDVI_TRMM\\InnerMongolia\\NDVI\\RAW2'\n",
      "path_base = r'D:\\Data\\0_DAILY_INTERVAL_NDVI_TRMM\\InnerMongolia\\NDVI\\RAW2//NDVI_IM_2003001.tif'\n",
      "\n",
      "# register all of the GDAL drivers\n",
      "gdal.AllRegister()\n",
      "\n",
      "# open the image\n",
      "ds = gdal.Open(path_base, gdal.GA_ReadOnly)\n",
      "if ds is None:\n",
      "    print 'Could not open base file'\n",
      "    sys.exit(1)\n",
      "\n",
      "# get image size\n",
      "rows = ds.RasterYSize\n",
      "cols = ds.RasterXSize\n",
      "bands = ds.RasterCount\n",
      "\n",
      "# get the band and block sizes\n",
      "band = ds.GetRasterBand(1)\n",
      "base = band.ReadAsArray()\n",
      "nan = band.GetNoDataValue()\n",
      "\n",
      "#blockSizes = utils.GetBlockSize(band)\n",
      "xBlockSize = 5\n",
      "yBlockSize = 5\n",
      "\n",
      "#files_ndvi = listall(folder_ndvi)\n",
      "\n",
      "    \n",
      "# loop through the rows\n",
      "for i in range(rowx-1, rowx, yBlockSize): #(0, rows, yBlockSize)\n",
      "    if i + yBlockSize < rows:\n",
      "        numRows = yBlockSize\n",
      "    else:\n",
      "        numRows = rows - i\n",
      "    \n",
      "    # loop through the columns\n",
      "    for j in range(coly-1, coly, xBlockSize):# (0, cols, xBlockSize)\n",
      "        if j + xBlockSize < cols:\n",
      "            numCols = xBlockSize\n",
      "        else:\n",
      "            numCols = cols - j\n",
      "        \n",
      "        print j, i, numCols, numRows\n",
      "        # set base array to fill \n",
      "        ap_ndvi = np.zeros(shape=(len(files_ndvi),numRows,numCols), dtype=np.float32)\n",
      "        \n",
      "        # select blocks from trmm and ndvi files\n",
      "        for m in range(len(files_ndvi)):\n",
      "                \n",
      "            raster = gdal.Open(files_ndvi[m], gdal.GA_ReadOnly)\n",
      "            band = raster.GetRasterBand(1)            \n",
      "            ap_ndvi[m] = band.ReadAsArray(j, i, numCols, numRows).astype(np.float)\n",
      "\n",
      "        # reshape from 3D to 2D\n",
      "        ap_ndvi = ap_ndvi.reshape((int(ap_ndvi.shape[0]),int(ap_ndvi.shape[1]*ap_ndvi.shape[2]))).T"
     ],
     "language": "python",
     "metadata": {},
     "outputs": [
      {
       "output_type": "stream",
       "stream": "stdout",
       "text": [
        "699 299 5 5\n"
       ]
      }
     ],
     "prompt_number": 437
    },
    {
     "cell_type": "code",
     "collapsed": false,
     "input": [
      "def listall(RootFolder, wildcard=''):\n",
      "    lists = [os.path.join(root, name)    \n",
      "                 for root, dirs, files in os.walk(RootFolder)\n",
      "                   for name in files\n",
      "                   if wildcard in name\n",
      "                     if name.endswith('.tif')]\n",
      "    return lists\n",
      "\n",
      "rowx = 17\n",
      "coly = 24\n",
      "\n",
      "#folder_trmm = \n",
      "folder_trmm = r'D:\\Data\\0_DAILY_INTERVAL_NDVI_TRMM\\InnerMongolia\\TRMM2\\30_Day_Period\\30_DaySums'\n",
      "path_base = r'D:\\Data\\0_DAILY_INTERVAL_NDVI_TRMM\\InnerMongolia\\TRMM2\\30_Day_Period\\30_DaySums//TRMM_IM_2003001.tif'\n",
      "\n",
      "# register all of the GDAL drivers\n",
      "gdal.AllRegister()\n",
      "\n",
      "# open the image\n",
      "ds = gdal.Open(path_base, gdal.GA_ReadOnly)\n",
      "if ds is None:\n",
      "    print 'Could not open base file'\n",
      "    sys.exit(1)\n",
      "\n",
      "# get image size\n",
      "rows = ds.RasterYSize\n",
      "cols = ds.RasterXSize\n",
      "bands = ds.RasterCount\n",
      "\n",
      "# get the band and block sizes\n",
      "band = ds.GetRasterBand(1)\n",
      "base = band.ReadAsArray()\n",
      "nan = band.GetNoDataValue()\n",
      "\n",
      "#blockSizes = utils.GetBlockSize(band)\n",
      "xBlockSize = 2\n",
      "yBlockSize = 2\n",
      "\n",
      "#files_trmm = listall(folder_trmm)\n",
      "#Input length time series equal: series1', len(files_ndvi), 'series2', len(files_trmm)\n",
      "    \n",
      "# loop through the rows\n",
      "for i in range(rowx-1, rowx, yBlockSize): #(0, rows, yBlockSize)\n",
      "    if i + yBlockSize < rows:\n",
      "        numRows = yBlockSize\n",
      "    else:\n",
      "        numRows = rows - i\n",
      "    \n",
      "    # loop through the columns\n",
      "    for j in range(coly-1, coly, xBlockSize):# (0, cols, xBlockSize)\n",
      "        if j + xBlockSize < cols:\n",
      "            numCols = xBlockSize\n",
      "        else:\n",
      "            numCols = cols - j\n",
      "        \n",
      "        print j, i, numCols, numRows\n",
      "        # set base array to fill \n",
      "        ap_trmm = np.zeros(shape=(len(files_trmm),numRows,numCols), dtype=np.float32)\n",
      "        \n",
      "        # select blocks from trmm and ndvi files\n",
      "        for m in range(len(files_trmm)):\n",
      "                \n",
      "            raster = gdal.Open(files_trmm[m], gdal.GA_ReadOnly)\n",
      "            band = raster.GetRasterBand(1)            \n",
      "            ap_trmm[m] = band.ReadAsArray(j, i, numCols, numRows).astype(np.float)\n",
      "\n",
      "        # reshape from 3D to 2D\n",
      "        ap_trmm = ap_trmm.reshape((int(ap_trmm.shape[0]),int(ap_trmm.shape[1]*ap_trmm.shape[2]))).T"
     ],
     "language": "python",
     "metadata": {},
     "outputs": [
      {
       "output_type": "stream",
       "stream": "stdout",
       "text": [
        "23 16 2 2\n"
       ]
      }
     ],
     "prompt_number": 439
    },
    {
     "cell_type": "code",
     "collapsed": false,
     "input": [
      "def listall(RootFolder, wildcard=''):\n",
      "    lists = [os.path.join(root, name)    \n",
      "                 for root, dirs, files in os.walk(RootFolder)\n",
      "                   for name in files\n",
      "                   if wildcard in name\n",
      "                     if name.endswith('.tif')]\n",
      "    return lists\n",
      "\n",
      "rowx = 17\n",
      "coly = 24\n",
      "\n",
      "#folder_trmm = \n",
      "folder_lst = r'D:\\Downloads\\Mattijn@Jia\\LST_rasdaman'\n",
      "path_base = r'D:\\Downloads\\Mattijn@Jia\\LST_rasdaman//LST_20111230.tif'\n",
      "\n",
      "# register all of the GDAL drivers\n",
      "gdal.AllRegister()\n",
      "\n",
      "# open the image\n",
      "ds = gdal.Open(path_base, gdal.GA_ReadOnly)\n",
      "if ds is None:\n",
      "    print 'Could not open base file'\n",
      "    sys.exit(1)\n",
      "\n",
      "# get image size\n",
      "rows = ds.RasterYSize\n",
      "cols = ds.RasterXSize\n",
      "bands = ds.RasterCount\n",
      "\n",
      "# get the band and block sizes\n",
      "band = ds.GetRasterBand(1)\n",
      "base = band.ReadAsArray()\n",
      "nan = band.GetNoDataValue()\n",
      "\n",
      "#blockSizes = utils.GetBlockSize(band)\n",
      "xBlockSize = 2\n",
      "yBlockSize = 2\n",
      "\n",
      "\n",
      "#files_lst = listall(folder_lst)\n",
      "\n",
      "# set base array to fill \n",
      "ap_lst = np.zeros(shape=(len(files_lst),rows,cols), dtype=np.float32)\n",
      "\n",
      "for m in range(len(files_lst)):\n",
      "\n",
      "    raster = gdal.Open(files_lst[m], gdal.GA_ReadOnly)\n",
      "    band = raster.GetRasterBand(1)            \n",
      "    ap_lst[m] = band.ReadAsArray().astype(np.float)\n",
      "\n",
      "# reshape from 3D to 2D\n",
      "\n",
      "ap_lst = ap_lst.reshape((int(ap_lst.shape[0]),int(ap_lst.shape[1]*ap_lst.shape[2]))).T"
     ],
     "language": "python",
     "metadata": {},
     "outputs": [],
     "prompt_number": 440
    },
    {
     "cell_type": "code",
     "collapsed": false,
     "input": [
      "avg_lst = ap_lst.mean(axis=0)\n",
      "avg_ndvi = ap_ndvi.mean(axis=0)\n",
      "avg_trmm = ap_trmm.mean(axis=0)"
     ],
     "language": "python",
     "metadata": {},
     "outputs": [],
     "prompt_number": 450
    },
    {
     "cell_type": "code",
     "collapsed": false,
     "input": [
      "y2009_ndvi = pd.Series(avg_ndvi,dates_ndvi, name='NDVI')\n",
      "y2009_trmm = pd.Series(avg_trmm,dates_trmm, name='TRMM')\n",
      "y2009_lst = pd.Series(avg_lst*10,dates_lst, name='LST')"
     ],
     "language": "python",
     "metadata": {},
     "outputs": [],
     "prompt_number": 461
    },
    {
     "cell_type": "code",
     "collapsed": false,
     "input": [
      "y2009_comb = pd.concat([y2009_ndvi,y2009_trmm,y2009_lst],axis=1)\n",
      "y2009_comb = y2009_comb.resample(\"M\", how='mean')\n",
      "y2009_comb.to_excel(r'D:\\Downloads\\Mattijn@Jia\\data//comb_2009_ndvi_trmm_lst_monthly.xlsx')"
     ],
     "language": "python",
     "metadata": {},
     "outputs": [],
     "prompt_number": 465
    },
    {
     "cell_type": "code",
     "collapsed": false,
     "input": [],
     "language": "python",
     "metadata": {},
     "outputs": []
    },
    {
     "cell_type": "code",
     "collapsed": false,
     "input": [],
     "language": "python",
     "metadata": {},
     "outputs": []
    },
    {
     "cell_type": "markdown",
     "metadata": {},
     "source": [
      "For NDVI"
     ]
    },
    {
     "cell_type": "code",
     "collapsed": false,
     "input": [
      "# mask NDVI where equal to NaN and create pandas time series\n",
      "ds_ma = np.ma.masked_equal(ap_ndvi, ap_ndvi.min())\n",
      "df = pd.Series(ds_ma.compressed())"
     ],
     "language": "python",
     "metadata": {},
     "outputs": [],
     "prompt_number": 338
    },
    {
     "cell_type": "code",
     "collapsed": false,
     "input": [
      "# Compute histogram as line plot\n",
      "y,binEdges=np.histogram(df,bins=100)\n",
      "bincenters = 0.5*(binEdges[1:]+binEdges[:-1])\n",
      "\n",
      "# Compute the 5-quantiles using pandas quantile function\n",
      "qcut_ndvi = df.quantile([0.2,0.4,0.6,0.8])\n",
      "qcut_ndvi.as_matrix().round(2)"
     ],
     "language": "python",
     "metadata": {},
     "outputs": [
      {
       "metadata": {},
       "output_type": "pyout",
       "prompt_number": 339,
       "text": [
        "array([ 0.05,  0.19,  0.31,  0.49])"
       ]
      }
     ],
     "prompt_number": 339
    },
    {
     "cell_type": "code",
     "collapsed": false,
     "input": [
      "# Plot normal histogram and add quantiles as vlines\n",
      "#plt.plot(bincenters,y,lw=1, color=plt.rcParams['axes.color_cycle'][5])\n",
      "plt.hist(ds_ma.flatten(), bins=100,color=plt.rcParams['axes.color_cycle'][0], edgecolor=plt.rcParams['axes.color_cycle'][0])\n",
      "plt.vlines(qcut_ndvi.as_matrix(),0,y.max(), color=plt.rcParams['axes.color_cycle'][3], lw=2,linestyle='solid')\n",
      "plt.xlabel('NDVI')\n",
      "plt.ylabel('Frequency')\n",
      "plt.ylim(0,y.max())\n",
      "#plt.suptitle('NDVI 5x5 time-series 2003-2012')\n",
      "plt.title('NDVI Histogram + 5-Quantiles')\n",
      "\n",
      "plt.savefig(r'D:\\Downloads\\Mattijn@Jia\\png//Histogram_quantiles_NDVI.png', dpi=150)"
     ],
     "language": "python",
     "metadata": {},
     "outputs": [
      {
       "metadata": {},
       "output_type": "display_data",
       "png": "[encoded data removed]",
       "text": [
        "<matplotlib.figure.Figure at 0x1b100490>"
       ]
      }
     ],
     "prompt_number": 132
    },
    {
     "cell_type": "markdown",
     "metadata": {},
     "source": [
      "For TRMM 30-Day precipitation"
     ]
    },
    {
     "cell_type": "code",
     "collapsed": false,
     "input": [
      "# mask NDVI where equal to NaN and create pandas time series\n",
      "#ds_ma = np.ma.masked_equal(ap_trmm, ap_ndvi.min())\n",
      "df = pd.Series(ap_trmm.ravel())"
     ],
     "language": "python",
     "metadata": {},
     "outputs": [],
     "prompt_number": 340
    },
    {
     "cell_type": "code",
     "collapsed": false,
     "input": [
      "# Compute histogram as line plot\n",
      "y,binEdges=np.histogram(df,bins=100)\n",
      "bincenters = 0.5*(binEdges[1:]+binEdges[:-1])\n",
      "\n",
      "# Compute the 5-quantiles using pandas quantile function\n",
      "qcut_trmm = df.quantile([0.2,0.4,0.6,0.8])\n",
      "qcut_trmm.as_matrix().round(2)"
     ],
     "language": "python",
     "metadata": {},
     "outputs": [
      {
       "metadata": {},
       "output_type": "pyout",
       "prompt_number": 341,
       "text": [
        "array([  3.71,   8.02,  19.53,  52.47])"
       ]
      }
     ],
     "prompt_number": 341
    },
    {
     "cell_type": "code",
     "collapsed": false,
     "input": [
      "# Plot normal histogram and add quantiles as vlines\n",
      "#plt.plot(bincenters,y,lw=1, color=plt.rcParams['axes.color_cycle'][5])\n",
      "plt.hist(ap_trmm.ravel(), bins=100,color=plt.rcParams['axes.color_cycle'][0], edgecolor=plt.rcParams['axes.color_cycle'][0])\n",
      "plt.vlines(qcut_trmm.as_matrix(),0,y.max(), color=plt.rcParams['axes.color_cycle'][3], lw=2,linestyle='solid')\n",
      "plt.xlabel('Precipitation (mm)')\n",
      "plt.ylabel('Frequency')\n",
      "plt.ylim(0,y.max())\n",
      "#plt.suptitle('NDVI 5x5 time-series 2003-2012')\n",
      "plt.title('TRMM 30-day Histogram + 5-Quantiles')\n",
      "\n",
      "plt.savefig(r'D:\\Downloads\\Mattijn@Jia\\png//Histogram_quantiles_TRMM30day.png', dpi=150)"
     ],
     "language": "python",
     "metadata": {},
     "outputs": [
      {
       "metadata": {},
       "output_type": "display_data",
       "png": "[encoded data removed]",
       "text": [
        "<matplotlib.figure.Figure at 0x1fc9a590>"
       ]
      }
     ],
     "prompt_number": 140
    },
    {
     "cell_type": "markdown",
     "metadata": {},
     "source": [
      "For LST precipitation"
     ]
    },
    {
     "cell_type": "code",
     "collapsed": false,
     "input": [
      "# mask NDVI where equal to NaN and create pandas time series\n",
      "#ds_ma = np.ma.masked_equal(ap_trmm, ap_ndvi.min())\n",
      "df = pd.Series(ap_lst.ravel()*10)"
     ],
     "language": "python",
     "metadata": {},
     "outputs": [],
     "prompt_number": 342
    },
    {
     "cell_type": "code",
     "collapsed": false,
     "input": [
      "# Compute histogram as line plot\n",
      "y,binEdges=np.histogram(df,bins=100)\n",
      "bincenters = 0.5*(binEdges[1:]+binEdges[:-1])\n",
      "\n",
      "# Compute the 5-quantiles using pandas quantile function\n",
      "qcut_lst = df.quantile([0.2,0.4,0.6,0.8])\n",
      "qcut_lst.as_matrix().round(2)"
     ],
     "language": "python",
     "metadata": {},
     "outputs": [
      {
       "metadata": {},
       "output_type": "pyout",
       "prompt_number": 343,
       "text": [
        "array([ 12.99,  13.98,  14.82,  15.18])"
       ]
      }
     ],
     "prompt_number": 343
    },
    {
     "cell_type": "code",
     "collapsed": false,
     "input": [
      "# Plot normal histogram and add quantiles as vlines\n",
      "#plt.plot(bincenters,y,lw=1, color=plt.rcParams['axes.color_cycle'][5])\n",
      "plt.hist(df, bins=100,color=plt.rcParams['axes.color_cycle'][0], edgecolor=plt.rcParams['axes.color_cycle'][0])\n",
      "plt.vlines(qcut_lst.as_matrix(),0,y.max(), color=plt.rcParams['axes.color_cycle'][3], lw=2,linestyle='solid')\n",
      "plt.xlabel('LST (degrees)')\n",
      "plt.ylabel('Frequency')\n",
      "plt.ylim(0,y.max())\n",
      "#plt.suptitle('NDVI 5x5 time-series 2003-2012')\n",
      "plt.title('LST Histogram + 5-Quantiles')\n",
      "\n",
      "plt.savefig(r'D:\\Downloads\\Mattijn@Jia\\png//Histogram_quantiles_LST.png', dpi=150)"
     ],
     "language": "python",
     "metadata": {},
     "outputs": [
      {
       "metadata": {},
       "output_type": "display_data",
       "png": "[encoded data removed]",
       "text": [
        "<matplotlib.figure.Figure at 0x1fcc8190>"
       ]
      }
     ],
     "prompt_number": 204
    },
    {
     "cell_type": "code",
     "collapsed": false,
     "input": [
      "print qcut_ndvi.as_matrix().round(2), qcut_lst.as_matrix().round(2), qcut_trmm.as_matrix().round(2)"
     ],
     "language": "python",
     "metadata": {},
     "outputs": [
      {
       "output_type": "stream",
       "stream": "stdout",
       "text": [
        "[ 0.05  0.19  0.31  0.49] [ 12.99  13.98  14.82  15.18] [  3.71   8.02  19.53  52.47]\n"
       ]
      }
     ],
     "prompt_number": 206
    },
    {
     "cell_type": "code",
     "collapsed": false,
     "input": [
      "from __future__ import (absolute_import, division, print_function,\n",
      "                        unicode_literals)\n",
      "\n",
      "import six\n",
      "\n",
      "import numpy as np\n",
      "import matplotlib.pyplot as plt\n",
      "from matplotlib import colors"
     ],
     "language": "python",
     "metadata": {},
     "outputs": [],
     "prompt_number": 477
    },
    {
     "cell_type": "code",
     "collapsed": false,
     "input": [
      "from mpl_toolkits.mplot3d import Axes3D\n",
      "import matplotlib.pyplot as plt\n",
      "import numpy as np\n",
      "from itertools import product, combinations\n",
      "#fig = plt.figure()\n",
      "fig = plt.figure(figsize=(6,6))\n",
      "ax = fig.gca(projection='3d')\n",
      "ax.set_aspect(\"equal\")\n",
      "\n",
      "#ax.w_xaxis.line.set_color(\"red\")\n",
      "#ax.w_xaxis.set_pane_color((1.0, 1.0, 1.0, 1.0))\n",
      "#ax.w_yaxis.set_pane_color((1.0, 1.0, 1.0, 1.0))\n",
      "#ax.w_zaxis.set_pane_color((1.0, 1.0, 1.0, 1.0))\n",
      "#ax.figure.set_facecolor('w')\n",
      "ax.set_axis_bgcolor('w')\n",
      "ax.set_xlim(-0.8,0.2)\n",
      "ax.set_ylim(0,1)\n",
      "ax.set_zlim(0,1)\n",
      "        \n",
      "ax.w_xaxis.set_ticklabels([' ', 0.49, 0.31, 0.19, 0.05, ' '])\n",
      "ax.w_xaxis.set_label_text('NDVI 5-quantiles')\n",
      "\n",
      "ax.w_yaxis.set_ticklabels([' ', 12.99,13.98,14.82,15.18, ' '])\n",
      "ax.w_yaxis.set_label_text('LST 5-quantiles (degrees)')\n",
      "\n",
      "\n",
      "ax.w_zaxis.set_ticklabels([' ', 3.71,8.02,19.53,52.47, ' '])\n",
      "ax.w_zaxis.set_label_text('TRMM 5-quantiles (mm)')\n",
      "\n",
      "# Face 1\n",
      "x1 = np.array([[0, 0.2, 0.2, 0, 0],\n",
      "               [0, 0, 0, 0, 0]])\n",
      "y1 = np.array([[0, 0, 0, 0, 0],\n",
      "               [0, 0, 0, 0, 0]])\n",
      "z1 = np.array([[0, 0, 0.2, 0.2, 0],\n",
      "               [0, 0, 0, 0, 0]])\n",
      "# Face 2\n",
      "x2 = np.array([[0, 0, 0, 0, 0],\n",
      "               [0, 0, 0, 0, 0]])\n",
      "y2 = np.array([[0, 0.2, 0.2, 0, 0],\n",
      "               [0, 0, 0, 0, 0]])\n",
      "z2 = np.array([[0, 0, 0.2, 0.2, 0],\n",
      "               [0, 0, 0, 0, 0]])\n",
      "# Face 3\n",
      "x3 = np.array([[0, 0.2, 0.2, 0, 0],\n",
      "               [0, 0, 0, 0, 0]])\n",
      "y3 = np.array([[0, 0, 0.2, 0.2, 0],\n",
      "               [0, 0, 0, 0, 0]])\n",
      "z3 = np.array([[0.2, 0.2, 0.2, 0.2, 0.2],\n",
      "               [0.2, 0.2, 0.2, 0.2, 0.2]])\n",
      "# Face 4\n",
      "x4 = np.array([[0, 0.2, 0.2, 0, 0],\n",
      "               [0, 0, 0, 0, 0]])\n",
      "y4 = np.array([[0.2, 0.2, 0.2, 0.2, 0.2],\n",
      "               [0.2, 0.2, 0.2, 0.2, 0.2]])\n",
      "z4 = np.array([[0, 0, 0.2, 0.2, 0],\n",
      "               [0, 0, 0, 0, 0]])\n",
      "# Face 5\n",
      "x5 = np.array([[0, 0, 0.2, 0.2, 0],\n",
      "               [0, 0, 0, 0, 0]])\n",
      "y5 = np.array([[0, 0.2, 0.2, 0, 0],\n",
      "               [0, 0, 0, 0, 0]])\n",
      "z5 = np.array([[0, 0, 0, 0, 0],\n",
      "               [0, 0, 0, 0, 0]])\n",
      "# Face 6\n",
      "x6 = np.array([[0.2, 0.2, 0.2, 0.2, 0.2],\n",
      "               [0.2, 0.2, 0.2, 0.2, 0.2]])\n",
      "y6 = np.array([[0, 0.2, 0.2, 0, 0],\n",
      "               [0, 0, 0, 0, 0]])\n",
      "z6 = np.array([[0, 0, 0.2, 0.2, 0],\n",
      "               [0, 0, 0, 0, 0]])\n",
      "\n",
      "\n",
      "#ax.plot_surface(x1,y1,z1)\n",
      "#ax.plot_surface(x2,y2,z2)\n",
      "#ax.plot_surface(x3,y3,z3)\n",
      "#ax.plot_surface(x4,y4,z4)\n",
      "#ax.plot_surface(x5,y5,z5)\n",
      "#ax.plot_surface(x6,y6,z6)\n",
      "ax.scatter([0.1],[0.1],[0.1],c=\"pink\",s=100)#jan\n",
      "ax.scatter([0.1],[0.3],[0.1],c=\"magenta\",s=100)#feb\n",
      "ax.scatter([0.1],[0.3],[0.1],c=\"mediumorchid\",s=100)#march\n",
      "ax.scatter([-0.3],[0.5],[0.5],c=\"slateblue\",s=100)#april\n",
      "ax.scatter([-0.5],[0.7],[0.7],c=\"dodgerblue\",s=100)#may\n",
      "ax.scatter([-0.7],[0.9],[0.7],c=\"cadetblue\",s=100)#june\n",
      "ax.scatter([-0.7],[0.7],[0.9],c=\"darkslategray\",s=100)#july\n",
      "ax.scatter([-0.7],[0.9],[0.7],c=\"mediumaquamarine\",s=100)#august\n",
      "ax.scatter([-0.5],[0.7],[0.7],c=\"green\",s=100)#september\n",
      "ax.scatter([-0.3],[0.5],[0.5],c=\"darksage\",s=100)#october\n",
      "ax.scatter([-0.1],[0.3],[0.3],c=\"olivedrab\",s=100)#november\n",
      "ax.scatter([0.1],[0.1],[0.3],c=\"darkkhaki\",s=100)#december\n",
      "\n",
      "fig.tight_layout()\n",
      "fig.savefig(r'D:\\Downloads\\Mattijn@Jia\\png//cubic2.png', dpi=150)"
     ],
     "language": "python",
     "metadata": {},
     "outputs": [
      {
       "metadata": {},
       "output_type": "display_data",
       "png": "[encoded data removed]",
       "text": [
        "<matplotlib.figure.Figure at 0x21b43c90>"
       ]
      }
     ],
     "prompt_number": 482
    },
    {
     "cell_type": "code",
     "collapsed": false,
     "input": [
      "import numpy as np\n",
      "from matplotlib import pyplot as plt\n",
      "from mpl_toolkits.mplot3d import Axes3D\n",
      "from mpl_toolkits.mplot3d import proj3d\n",
      "\n",
      "points = np.array([(1,1,1), (2,2,2)])\n",
      "labels = ['billy', 'bobby']\n",
      "\n",
      "fig = plt.figure()\n",
      "ax = fig.add_subplot(111, projection = '3d')\n",
      "xs, ys, zs = np.split(points, 3, axis=1)\n",
      "sc = ax.scatter(xs,ys,zs)\n",
      "\n",
      "# if this code is placed inside a function, then\n",
      "# we must use a predefined global variable so that\n",
      "# the update function has access to it. I'm not\n",
      "# sure why update_positions() doesn't get access\n",
      "# to its enclosing scope in this case.\n",
      "global labels_and_points\n",
      "labels_and_points = []\n",
      "\n",
      "for txt, x, y, z in zip(labels, xs, ys, zs):\n",
      "    x2, y2, _ = proj3d.proj_transform(x,y,z, ax.get_proj())\n",
      "    label = plt.annotate(\n",
      "        txt, xy = (x2, y2), xytext = (-20, 20),\n",
      "        textcoords = 'offset points', ha = 'right', va = 'bottom',\n",
      "        bbox = dict(boxstyle = 'round,pad=0.5', fc = 'yellow', alpha = 0.5),\n",
      "        arrowprops = dict(arrowstyle = '->', connectionstyle = 'arc3,rad=0'))\n",
      "    labels_and_points.append((label, x, y, z))\n",
      "\n",
      "\n",
      "def update_position(e):\n",
      "    for label, x, y, z in labels_and_points:\n",
      "        x2, y2, _ = proj3d.proj_transform(x, y, z, ax.get_proj())\n",
      "        label.xy = x2,y2\n",
      "        label.update_positions(fig.canvas.renderer)\n",
      "    fig.canvas.draw()\n",
      "\n",
      "fig.canvas.mpl_connect('motion_notify_event', update_position)\n",
      "\n",
      "plt.show()"
     ],
     "language": "python",
     "metadata": {},
     "outputs": [
      {
       "metadata": {},
       "output_type": "display_data",
       "png": "[encoded data removed]",
       "text": [
        "<matplotlib.figure.Figure at 0x20272970>"
       ]
      }
     ],
     "prompt_number": 474
    },
    {
     "cell_type": "code",
     "collapsed": false,
     "input": [],
     "language": "python",
     "metadata": {},
     "outputs": []
    }
   ],
   "metadata": {}
  }
 ]
}