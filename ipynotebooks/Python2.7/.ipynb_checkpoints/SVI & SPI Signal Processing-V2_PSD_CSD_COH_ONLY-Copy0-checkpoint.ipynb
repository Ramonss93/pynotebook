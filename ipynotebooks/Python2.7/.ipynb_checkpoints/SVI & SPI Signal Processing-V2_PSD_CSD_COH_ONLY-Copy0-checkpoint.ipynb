{
 "metadata": {
  "name": ""
 },
 "nbformat": 3,
 "nbformat_minor": 0,
 "worksheets": [
  {
   "cells": [
    {
     "cell_type": "code",
     "collapsed": false,
     "input": [
      "%matplotlib inline"
     ],
     "language": "python",
     "metadata": {},
     "outputs": [],
     "prompt_number": 4
    },
    {
     "cell_type": "markdown",
     "metadata": {},
     "source": [
      "Normalized Precipitation anomaly"
     ]
    },
    {
     "cell_type": "code",
     "collapsed": false,
     "input": [
      "def savitzky_golay(y, window_size, order, deriv=0, rate=1):\n",
      "    r\"\"\"Smooth (and optionally differentiate) data with a Savitzky-Golay filter.\n",
      "    The Savitzky-Golay filter removes high frequency noise from data.\n",
      "    It has the advantage of preserving the original shape and\n",
      "    features of the signal better than other types of filtering\n",
      "    approaches, such as moving averages techniques.\n",
      "    Parameters\n",
      "    ----------\n",
      "    y : array_like, shape (N,)\n",
      "        the values of the time history of the signal.\n",
      "    window_size : int\n",
      "        the length of the window. Must be an odd integer number.\n",
      "    order : int\n",
      "        the order of the polynomial used in the filtering.\n",
      "        Must be less then `window_size` - 1.\n",
      "    deriv: int\n",
      "        the order of the derivative to compute (default = 0 means only smoothing)\n",
      "    Returns\n",
      "    -------\n",
      "    ys : ndarray, shape (N)\n",
      "        the smoothed signal (or it's n-th derivative).\n",
      "    Notes\n",
      "    -----\n",
      "    The Savitzky-Golay is a type of low-pass filter, particularly\n",
      "    suited for smoothing noisy data. The main idea behind this\n",
      "    approach is to make for each point a least-square fit with a\n",
      "    polynomial of high order over a odd-sized window centered at\n",
      "    the point.\n",
      "    Examples\n",
      "    --------\n",
      "    t = np.linspace(-4, 4, 500)\n",
      "    y = np.exp( -t**2 ) + np.random.normal(0, 0.05, t.shape)\n",
      "    ysg = savitzky_golay(y, window_size=31, order=4)\n",
      "    import matplotlib.pyplot as plt\n",
      "    plt.plot(t, y, label='Noisy signal')\n",
      "    plt.plot(t, np.exp(-t**2), 'k', lw=1.5, label='Original signal')\n",
      "    plt.plot(t, ysg, 'r', label='Filtered signal')\n",
      "    plt.legend()\n",
      "    plt.show()\n",
      "    References\n",
      "    ----------\n",
      "    .. [1] A. Savitzky, M. J. E. Golay, Smoothing and Differentiation of\n",
      "       Data by Simplified Least Squares Procedures. Analytical\n",
      "       Chemistry, 1964, 36 (8), pp 1627-1639.\n",
      "    .. [2] Numerical Recipes 3rd Edition: The Art of Scientific Computing\n",
      "       W.H. Press, S.A. Teukolsky, W.T. Vetterling, B.P. Flannery\n",
      "       Cambridge University Press ISBN-13: 9780521880688\n",
      "    \"\"\"\n",
      "    import numpy as np\n",
      "    from math import factorial\n",
      "\n",
      "    try:\n",
      "        window_size = np.abs(np.int(window_size))\n",
      "        order = np.abs(np.int(order))\n",
      "    except ValueError as msg:\n",
      "        raise ValueError(\"window_size and order have to be of type int\")\n",
      "    if window_size % 2 != 1 or window_size < 1:\n",
      "        raise TypeError(\"window_size size must be a positive odd number\")\n",
      "    if window_size < order + 2:\n",
      "        raise TypeError(\"window_size is too small for the polynomials order\")\n",
      "    order_range = range(order+1)\n",
      "    half_window = (window_size -1) // 2\n",
      "    # precompute coefficients\n",
      "    b = np.mat([[k**i for i in order_range] for k in range(-half_window, half_window+1)])\n",
      "    m = np.linalg.pinv(b).A[deriv] * rate**deriv * factorial(deriv)\n",
      "    # pad the signal at the extremes with\n",
      "    # values taken from the signal itself\n",
      "    firstvals = y[0] - np.abs( y[1:half_window+1][::-1] - y[0] )\n",
      "    lastvals = y[-1] + np.abs(y[-half_window-1:-1][::-1] - y[-1])\n",
      "    y = np.concatenate((firstvals, y, lastvals))\n",
      "    return np.convolve( m[::-1], y, mode='valid')"
     ],
     "language": "python",
     "metadata": {},
     "outputs": [],
     "prompt_number": 5
    },
    {
     "cell_type": "code",
     "collapsed": false,
     "input": [
      "pc = 32\n",
      "pr = 24"
     ],
     "language": "python",
     "metadata": {},
     "outputs": [],
     "prompt_number": 6
    },
    {
     "cell_type": "code",
     "collapsed": false,
     "input": [
      "import os\n",
      "import pandas as pd\n",
      "from osgeo import gdal\n",
      "import numpy as np\n",
      "import datetime\n",
      "import matplotlib.pyplot as plt\n",
      "\n",
      "def listall(RootFolder):\n",
      "    lists = [os.path.join(root, name)    \n",
      "                 for root, dirs, files in os.walk(RootFolder)\n",
      "                   for name in files\n",
      "                   if 'GPCP' in name\n",
      "                     if name.endswith('.tif')]\n",
      "    return lists\n",
      "\n",
      "# ______________________________________________________\n",
      "# SET PIXEL ROW AND COLUMN\n",
      "\n",
      "pixelcolumn = pc # extract from rasterXSize (0:62) horizontal latitude - whatever\n",
      "pixelrow = pr # extract from rasterYSize (0:36) vertical longitude \n",
      "\n",
      "\n",
      "# ______________________________________________________\n",
      "# ANNUAL ACCUMULATED MEAN\n",
      "\n",
      "li = []\n",
      "da = []\n",
      "i = 0\n",
      "path = r'D:\\Data\\GPCP_30acc_anomalyNormTypeII_clip'# removed 'NormTypeII'\n",
      "#path = r'D:\\Data\\GPCP_30acc_AnnualAcc'\n",
      "test = listall(path)\n",
      "test = test[0:-46]\n",
      "print (len(test))\n",
      "print (test[0])\n",
      "for t in test:    \n",
      "    raster = gdal.Open(t, gdal.GA_ReadOnly)\n",
      "    nameRas = raster.GetDescription()[-11:-4]\n",
      "    date = datetime.datetime(int(nameRas[0:4]), 1, 1) + datetime.timedelta(int(nameRas[4:9]) - 1) # replaced \"int(nameRas[0:4])\" with \"2010\" first year then add doy\n",
      "    # print date\n",
      "    da.append(date)\n",
      "\n",
      "    band = raster.GetRasterBand(1)\n",
      "    array = band.ReadAsArray()    \n",
      "    \n",
      "    # print array[879,4142] # Grassland pixel\n",
      "    li.append(array[pixelrow, pixelcolumn])\n",
      "    \n",
      "    array = None\n",
      "    band = None\n",
      "    raster = None\n",
      "    #print (str(i))\n",
      "    i = i + 1\n",
      "    \n",
      "s1 = pd.Series(data = li, index = da)\n",
      "s1 = s1[46:-46]\n",
      "s1 = s1 / (s1.max() - s1.min())\n",
      "#x = np.array(li)\n",
      "#x = x[46:-46]\n",
      "#x = x / (x.max() - x.min())\n",
      "\n",
      "#maxy = x.max()\n",
      "#print ('max', GPCPnormTypeII.max(), GPCPnormTypeII.plot() )"
     ],
     "language": "python",
     "metadata": {},
     "outputs": [
      {
       "output_type": "stream",
       "stream": "stdout",
       "text": [
        "552\n",
        "D:\\Data\\GPCP_30acc_anomalyNormTypeII_clip\\GPCP_2000001.tif\n"
       ]
      }
     ],
     "prompt_number": 11
    },
    {
     "cell_type": "markdown",
     "metadata": {},
     "source": [
      "Normalized NDVI anomaly"
     ]
    },
    {
     "cell_type": "code",
     "collapsed": false,
     "input": [
      "import os\n",
      "import pandas as pd\n",
      "from osgeo import gdal\n",
      "import numpy as np\n",
      "\n",
      "def listall(RootFolder):\n",
      "    lists = [os.path.join(root, name)    \n",
      "                 for root, dirs, files in os.walk(RootFolder)\n",
      "                   for name in files\n",
      "                   if 'NDVI' in name\n",
      "                     if name.endswith('.tif')]\n",
      "    return lists\n",
      "\n",
      "# ______________________________________________________\n",
      "# SET PIXEL ROW AND COLUMN\n",
      "\n",
      "pixelcolumn = pc # extract from rasterXSize\n",
      "pixelrow = pr # extract from rasterYSize\n",
      "\n",
      "# ______________________________________________________\n",
      "# ANNUAL ACCUMULATED MEAN\n",
      "\n",
      "li = []\n",
      "da = []\n",
      "i = 0\n",
      "path = r'D:\\Data\\NDVI_agg_clip_anomalySVInormalized'# removed 'NormTypeII'\n",
      "#path = r'D:\\Data\\GPCP_30acc_AnnualAcc'\n",
      "test = listall(path)\n",
      "\n",
      "print (len(test))\n",
      "print (test[0])\n",
      "for t in test:    \n",
      "    raster = gdal.Open(t, gdal.GA_ReadOnly)\n",
      "    nameRas = raster.GetDescription()[-11:-4]\n",
      "    date = datetime.datetime(int(nameRas[0:4]), 1, 1) + datetime.timedelta(int(nameRas[4:9]) - 1) # replaced \"int(nameRas[0:4])\" with \"2010\" first year then add doy\n",
      "    # print date\n",
      "    da.append(date)\n",
      "\n",
      "    band = raster.GetRasterBand(1)\n",
      "    array = band.ReadAsArray()    \n",
      "    \n",
      "    # print array[879,4142] # Grassland pixel\n",
      "    li.append(array[pixelrow, pixelcolumn])\n",
      "    \n",
      "    array = None\n",
      "    band = None\n",
      "    raster = None\n",
      "    #print (str(i))\n",
      "    i = i + 1\n",
      "    \n",
      "s2 = pd.Series(data = li, index = da)\n",
      "#y = np.array(li)\n",
      "\n",
      "#maxy = y.max()\n",
      "#print ('max', NDVIanomSVI.max(), NDVIanomSVI.plot() )"
     ],
     "language": "python",
     "metadata": {},
     "outputs": [
      {
       "output_type": "stream",
       "stream": "stdout",
       "text": [
        "460\n",
        "D:\\Data\\NDVI_agg_clip_anomalySVInormalized\\NDVI_2001001.tif\n"
       ]
      }
     ],
     "prompt_number": 12
    },
    {
     "cell_type": "code",
     "collapsed": false,
     "input": [
      "s2.plot()\n",
      "s1.plot()"
     ],
     "language": "python",
     "metadata": {},
     "outputs": [
      {
       "metadata": {},
       "output_type": "pyout",
       "prompt_number": 14,
       "text": [
        "<matplotlib.axes.AxesSubplot at 0x10537ba8>"
       ]
      },
      {
       "metadata": {},
       "output_type": "display_data",
       "png": "[encoded data removed]",
       "text": [
        "<matplotlib.figure.Figure at 0x10539400>"
       ]
      }
     ],
     "prompt_number": 14
    },
    {
     "cell_type": "code",
     "collapsed": false,
     "input": [
      "month = s1.index.month\n",
      "selector = ((3<= month) & (month <=10)) # boolean array with True values for month 3 - 10\n",
      "\n",
      "listsel = selector.tolist()\n",
      "listinv = [not i for i in listsel]\n",
      "selectorinv = np.array(listinv) # boolean array with False values for month 3 - 10\n",
      "\n",
      "s1[selectorinv] = 0 # set month not equal to 3 - 10 to 0\n",
      "s2[selectorinv] = 0\n",
      "\n",
      "#s1norm_clip = s1norm[selector] # only select month 3-10\n",
      "#s2norm_clip = s2norm[selector]\n",
      "\n",
      "#s1normmod = s1norm\n",
      "#s2normmod = s2norm\n",
      "\n",
      "\n",
      "s1.plot()\n",
      "s2.plot()"
     ],
     "language": "python",
     "metadata": {},
     "outputs": [
      {
       "metadata": {},
       "output_type": "pyout",
       "prompt_number": 15,
       "text": [
        "<matplotlib.axes.AxesSubplot at 0x10b33908>"
       ]
      },
      {
       "metadata": {},
       "output_type": "display_data",
       "png": "[encoded data removed]",
       "text": [
        "<matplotlib.figure.Figure at 0x10b42710>"
       ]
      }
     ],
     "prompt_number": 15
    },
    {
     "cell_type": "code",
     "collapsed": false,
     "input": [
      "s1_SG = savitzky_golay(s1, 15, 2)\n",
      "s2_SG = savitzky_golay(s2, 15, 2)\n",
      "plot(s1_SG)\n",
      "plot(s2_SG)\n",
      "plot(s1)\n",
      "plot(s2, 'm.')"
     ],
     "language": "python",
     "metadata": {},
     "outputs": [
      {
       "metadata": {},
       "output_type": "pyout",
       "prompt_number": 16,
       "text": [
        "[<matplotlib.lines.Line2D at 0x10f1f908>]"
       ]
      },
      {
       "metadata": {},
       "output_type": "display_data",
       "png": "[encoded data removed]",
       "text": [
        "<matplotlib.figure.Figure at 0x1041cba8>"
       ]
      }
     ],
     "prompt_number": 16
    },
    {
     "cell_type": "code",
     "collapsed": false,
     "input": [
      "x = s1_SG\n",
      "y = s2_SG"
     ],
     "language": "python",
     "metadata": {},
     "outputs": [],
     "prompt_number": 17
    },
    {
     "cell_type": "code",
     "collapsed": false,
     "input": [],
     "language": "python",
     "metadata": {},
     "outputs": [],
     "prompt_number": 17
    },
    {
     "cell_type": "code",
     "collapsed": false,
     "input": [
      "dt = 8 # sampling period (h)\n",
      "Fs = 1./(dt) # sampling rate (Hz)\n",
      "\n",
      "for nfft in range(10,240,10):\n",
      "    #print nfft\n",
      "    for nolap in range(0,nfft,10):\n",
      "        #print nolap\n",
      "        #nfft = 100\n",
      "        #nolap = 80\n",
      "\n",
      "        xlab = 'Sampling period (days)'\n",
      "        y_label = 'Power'\n",
      "        x_lim = [100,500]\n",
      "        xf_lim = [0,0.01]\n",
      "        \n",
      "        #print 'sampling period (time unit)', dt\n",
      "        #print 'sampling rate (cycles/time unit)', Fs\n",
      "        #print 'nfft window (block size)', nfft\n",
      "\n",
      "        fig = plt.figure(figsize(15,8))\n",
      "        try:\n",
      "            Cxy, FC = csd(x, y, window=window_hanning, noverlap=nolap, NFFT=nfft, Fs=Fs)\n",
      "        except exceptions.ZeroDivisionError:\n",
      "            Cxy = np.zeros_like(x)\n",
      "            FC = np.zeros_like(x)\n",
      "        try:\n",
      "            Pxy, FP = cohere(x, y, window=window_hanning, noverlap=nolap, NFFT=nfft, Fs=Fs)\n",
      "        except exceptions.ZeroDivisionError:\n",
      "            Pxy = np.zeros_like(x)\n",
      "            FP = np.zeros_like(x)\n",
      "        \n",
      "        \n",
      "        #Cxy, FC = csd(x, y, window=window_hanning, noverlap=nolap, NFFT=nfft, Fs=Fs)\n",
      "        #Pxy, FP = cohere(x, y, window=window_hanning, noverlap=nolap, NFFT=nfft, Fs=Fs)\n",
      "        fig.clf()\n",
      "        plt.close(fig)\n",
      "        fig = None\n",
      "        \n",
      "        conflevel = 95.0 # set confidence level\n",
      "        conflevel99 = 99.75 # set confidence level\n",
      "        \n",
      "        phase = np.angle(Cxy)#, deg=True)\n",
      "        \n",
      "        # calculate 95% confidence level\n",
      "        edof = (len(x)/(nfft/2)) *Pxy.mean() # equivalent degrees of freedom: (length(timeseries)/windowhalfwidth)*mean_coherence\n",
      "        gamma95 = 1.-(100-conflevel)**(1./(edof-1.))\n",
      "        conf95 = np.where(Pxy>gamma95)\n",
      "        \n",
      "        gamma99 = 1.-(100-conflevel99)**(1./(edof-1.))\n",
      "        conf99 = np.where(Pxy>gamma99)\n",
      "        \n",
      "        \n",
      "        \n",
      "        fig = plt.figure(figsize(15,8))\n",
      "        plt.subplot(3,2,1)\n",
      "        p1xy, f1p = psd(x, window=window_hanning, noverlap=nolap, NFFT=nfft, Fs=Fs)\n",
      "        p2xy, f2p = psd(y, window=window_hanning, noverlap=nolap, NFFT=nfft, Fs=Fs)\n",
      "        #plt.ylim([-45,5])\n",
      "        plt.xlim(xf_lim)\n",
      "        plt.title('matplotlib power-spectrum density (x-axis = frequency')\n",
      "        \n",
      "        plt.subplot(3,2,2)\n",
      "        plt.semilogy(1./f1p,p1xy)\n",
      "        plt.semilogy(1./f2p,p2xy)\n",
      "        plt.title('power-spectrum density (x-axis = sampling period)')\n",
      "        plt.xlabel(xlab)\n",
      "        plt.ylabel(y_label)\n",
      "        plt.xlim(x_lim)\n",
      "        #plt.ylim([0.0001,1])\n",
      "        plt.grid(True)\n",
      "        \n",
      "        plt.subplot(3,2,3)\n",
      "        Cxy, FC = csd(x, y, window=window_hanning, noverlap=nolap, NFFT=nfft, Fs=Fs)\n",
      "        #plt.ylim([-40,5])\n",
      "        plt.xlim(xf_lim)\n",
      "        plt.title('matplotlib cross-spectrum density (x-axis = frequency')\n",
      "        \n",
      "        plt.subplot(3,2,4)\n",
      "        plt.plot(1./FC,Cxy)\n",
      "        plt.title('cross-spectrum density (x-axis = sampling period)')\n",
      "        plt.xlabel(xlab)\n",
      "        plt.ylabel(y_label)\n",
      "        plt.xlim(x_lim)   \n",
      "        #plt.ylim([-0.3,0.3])\n",
      "        plt.grid(True)\n",
      "        \n",
      "        ax0 = plt.subplot(3,2,5)\n",
      "        ax1 = ax0.twinx()\n",
      "        ax2 = plt.subplot(3,2,6)\n",
      "        ax3 = ax2.twinx()\n",
      "        \n",
      "        # plot all axes\n",
      "        ax0.plot(FP, Pxy)\n",
      "        ax1.plot(FP[conf95], phase[conf95], 'r.')\n",
      "        ax1.plot(FP[conf99], phase[conf99], 'g.', markersize=12)\n",
      "        ax2.plot(1./FP, Pxy,'b-')\n",
      "        ax3.plot(1./FP[conf95], phase[conf95], 'r.')\n",
      "        ax3.plot(1./FP[conf99], phase[conf99], 'g.', markersize=12)\n",
      "    \n",
      "        #plt.title('coherence and cross-spectrum phase (x-axis = sampling period)')\n",
      "        \n",
      "        # add labels and apply colouring axis 0 and 2\n",
      "        ax0.set_xlabel('Frequency')\n",
      "        ax0.set_ylim([0,1])\n",
      "        ax0.set_xlim([0,0.01])\n",
      "        # Make the y-axis label and tick labels match the line color.\n",
      "        ax0.set_ylabel('Coherence', color='b')\n",
      "        for tl in ax0.get_yticklabels():\n",
      "            tl.set_color('b')\n",
      "            \n",
      "        ax2.set_xlabel(xlab)\n",
      "        ax2.set_ylim([0,1])\n",
      "        ax2.set_xlim([100,500])\n",
      "        # Make the y-axis label and tick labels match the line color.\n",
      "        ax2.set_ylabel('Coherence', color='b')\n",
      "        for tl in ax2.get_yticklabels():\n",
      "            tl.set_color('b')\n",
      "        \n",
      "        # add labels and apply colouring axis 1 and 3\n",
      "        ax1.set_ylabel('Phase (radian ($-\\pi:\\pi$)', color='r')\n",
      "        ax1.set_ylim([-3.5,3.5])\n",
      "        ax1.set_yticks([4*-np.pi/4.,2*-np.pi/4.,0,2*np.pi/4.,4*np.pi/4.])\n",
      "        ax1.set_yticklabels(['$-\\pi$', r'$-\\frac{\\pi}{2}$', r'$0$', r'$\\frac{\\pi}{2}$', r'$+\\pi$'])\n",
      "        for tl in ax1.get_yticklabels():\n",
      "            tl.set_color('r')\n",
      "            \n",
      "        ax3.set_ylabel('Phase (radian ($-\\pi:\\pi$)', color='r')\n",
      "        ax3.set_ylim([-3.5,3.5])\n",
      "        ax3.set_yticks([4.*-np.pi/4.,2.*-np.pi/4.,0,2.*np.pi/4.,4.*np.pi/4.])\n",
      "        ax3.set_yticklabels(['$-\\pi$', r'$-\\frac{\\pi}{2}$', r'$0$', r'$\\frac{\\pi}{2}$', r'$+\\pi$'])\n",
      "        #plt.xticks([0, pi/2, pi, 3*pi/2, 2*pi],\n",
      "        #   ['$0$', r'$\\frac{\\pi}{2}$', r'$\\pi$', r'$\\frac{3\\pi}{2}$', r'$2\\pi$'])\n",
      "        #ax3.set_yticklabels([-180,-135,-90,-45,0,45,90,135,180])\n",
      "        \n",
      "        for tl in ax3.get_yticklabels():\n",
      "            tl.set_color('r')\n",
      "        \n",
      "        # add grid and title\n",
      "        ax0.grid(True)\n",
      "        ax2.grid(True)\n",
      "        ax1.grid(True)\n",
      "        ax3.grid(True)\n",
      "        \n",
      "        plt.tight_layout()\n",
      "        \n",
      "        folder = r'D:\\Data\\output_charts_coherence//'\n",
      "        fileou = 'COL'+str(pixelcolumn)+'_ROW'+str(pixelrow)+'_NFFT'+str(nfft).zfill(3)+'_NLAP'+str(nolap).zfill(3)+'.png'\n",
      "        path = folder+fileou\n",
      "        \n",
      "        print(path)\n",
      "        plt.savefig(path, dpi=200)\n",
      "        plt.close(fig)\n",
      "        fig.clf()\n",
      "        #plt.show()"
     ],
     "language": "python",
     "metadata": {},
     "outputs": [
      {
       "output_type": "stream",
       "stream": "stdout",
       "text": [
        "D:\\Data\\output_charts_coherence//COL32_ROW24_NFFT010_NLAP000.png\n",
        "D:\\Data\\output_charts_coherence//COL32_ROW24_NFFT020_NLAP000.png"
       ]
      },
      {
       "output_type": "stream",
       "stream": "stdout",
       "text": [
        "\n",
        "D:\\Data\\output_charts_coherence//COL32_ROW24_NFFT020_NLAP010.png"
       ]
      },
      {
       "output_type": "stream",
       "stream": "stdout",
       "text": [
        "\n",
        "D:\\Data\\output_charts_coherence//COL32_ROW24_NFFT030_NLAP000.png"
       ]
      },
      {
       "output_type": "stream",
       "stream": "stdout",
       "text": [
        "\n",
        "D:\\Data\\output_charts_coherence//COL32_ROW24_NFFT030_NLAP010.png"
       ]
      },
      {
       "output_type": "stream",
       "stream": "stdout",
       "text": [
        "\n",
        "D:\\Data\\output_charts_coherence//COL32_ROW24_NFFT030_NLAP020.png"
       ]
      },
      {
       "output_type": "stream",
       "stream": "stdout",
       "text": [
        "\n",
        "D:\\Data\\output_charts_coherence//COL32_ROW24_NFFT040_NLAP000.png"
       ]
      },
      {
       "output_type": "stream",
       "stream": "stdout",
       "text": [
        "\n",
        "D:\\Data\\output_charts_coherence//COL32_ROW24_NFFT040_NLAP010.png"
       ]
      },
      {
       "output_type": "stream",
       "stream": "stdout",
       "text": [
        "\n",
        "D:\\Data\\output_charts_coherence//COL32_ROW24_NFFT040_NLAP020.png"
       ]
      },
      {
       "output_type": "stream",
       "stream": "stdout",
       "text": [
        "\n",
        "D:\\Data\\output_charts_coherence//COL32_ROW24_NFFT040_NLAP030.png"
       ]
      },
      {
       "output_type": "stream",
       "stream": "stdout",
       "text": [
        "\n",
        "D:\\Data\\output_charts_coherence//COL32_ROW24_NFFT050_NLAP000.png"
       ]
      },
      {
       "output_type": "stream",
       "stream": "stdout",
       "text": [
        "\n",
        "D:\\Data\\output_charts_coherence//COL32_ROW24_NFFT050_NLAP010.png"
       ]
      },
      {
       "output_type": "stream",
       "stream": "stdout",
       "text": [
        "\n",
        "D:\\Data\\output_charts_coherence//COL32_ROW24_NFFT050_NLAP020.png"
       ]
      },
      {
       "output_type": "stream",
       "stream": "stdout",
       "text": [
        "\n",
        "D:\\Data\\output_charts_coherence//COL32_ROW24_NFFT050_NLAP030.png"
       ]
      },
      {
       "output_type": "stream",
       "stream": "stdout",
       "text": [
        "\n",
        "D:\\Data\\output_charts_coherence//COL32_ROW24_NFFT050_NLAP040.png"
       ]
      },
      {
       "output_type": "stream",
       "stream": "stdout",
       "text": [
        "\n",
        "D:\\Data\\output_charts_coherence//COL32_ROW24_NFFT060_NLAP000.png"
       ]
      },
      {
       "output_type": "stream",
       "stream": "stdout",
       "text": [
        "\n",
        "D:\\Data\\output_charts_coherence//COL32_ROW24_NFFT060_NLAP010.png"
       ]
      },
      {
       "output_type": "stream",
       "stream": "stdout",
       "text": [
        "\n",
        "D:\\Data\\output_charts_coherence//COL32_ROW24_NFFT060_NLAP020.png"
       ]
      },
      {
       "output_type": "stream",
       "stream": "stdout",
       "text": [
        "\n",
        "D:\\Data\\output_charts_coherence//COL32_ROW24_NFFT060_NLAP030.png"
       ]
      },
      {
       "output_type": "stream",
       "stream": "stdout",
       "text": [
        "\n",
        "D:\\Data\\output_charts_coherence//COL32_ROW24_NFFT060_NLAP040.png"
       ]
      },
      {
       "output_type": "stream",
       "stream": "stdout",
       "text": [
        "\n",
        "D:\\Data\\output_charts_coherence//COL32_ROW24_NFFT060_NLAP050.png"
       ]
      },
      {
       "output_type": "stream",
       "stream": "stdout",
       "text": [
        "\n",
        "D:\\Data\\output_charts_coherence//COL32_ROW24_NFFT070_NLAP000.png"
       ]
      },
      {
       "output_type": "stream",
       "stream": "stdout",
       "text": [
        "\n",
        "D:\\Data\\output_charts_coherence//COL32_ROW24_NFFT070_NLAP010.png"
       ]
      },
      {
       "output_type": "stream",
       "stream": "stdout",
       "text": [
        "\n",
        "D:\\Data\\output_charts_coherence//COL32_ROW24_NFFT070_NLAP020.png"
       ]
      },
      {
       "output_type": "stream",
       "stream": "stdout",
       "text": [
        "\n",
        "D:\\Data\\output_charts_coherence//COL32_ROW24_NFFT070_NLAP030.png"
       ]
      },
      {
       "output_type": "stream",
       "stream": "stdout",
       "text": [
        "\n",
        "D:\\Data\\output_charts_coherence//COL32_ROW24_NFFT070_NLAP040.png"
       ]
      },
      {
       "output_type": "stream",
       "stream": "stdout",
       "text": [
        "\n",
        "D:\\Data\\output_charts_coherence//COL32_ROW24_NFFT070_NLAP050.png"
       ]
      },
      {
       "output_type": "stream",
       "stream": "stdout",
       "text": [
        "\n",
        "D:\\Data\\output_charts_coherence//COL32_ROW24_NFFT070_NLAP060.png"
       ]
      },
      {
       "output_type": "stream",
       "stream": "stdout",
       "text": [
        "\n",
        "D:\\Data\\output_charts_coherence//COL32_ROW24_NFFT080_NLAP000.png"
       ]
      },
      {
       "output_type": "stream",
       "stream": "stdout",
       "text": [
        "\n",
        "D:\\Data\\output_charts_coherence//COL32_ROW24_NFFT080_NLAP010.png"
       ]
      },
      {
       "output_type": "stream",
       "stream": "stdout",
       "text": [
        "\n",
        "D:\\Data\\output_charts_coherence//COL32_ROW24_NFFT080_NLAP020.png"
       ]
      },
      {
       "output_type": "stream",
       "stream": "stdout",
       "text": [
        "\n",
        "D:\\Data\\output_charts_coherence//COL32_ROW24_NFFT080_NLAP030.png"
       ]
      },
      {
       "output_type": "stream",
       "stream": "stdout",
       "text": [
        "\n",
        "D:\\Data\\output_charts_coherence//COL32_ROW24_NFFT080_NLAP040.png"
       ]
      },
      {
       "output_type": "stream",
       "stream": "stdout",
       "text": [
        "\n",
        "D:\\Data\\output_charts_coherence//COL32_ROW24_NFFT080_NLAP050.png"
       ]
      },
      {
       "output_type": "stream",
       "stream": "stdout",
       "text": [
        "\n",
        "D:\\Data\\output_charts_coherence//COL32_ROW24_NFFT080_NLAP060.png"
       ]
      },
      {
       "output_type": "stream",
       "stream": "stdout",
       "text": [
        "\n",
        "D:\\Data\\output_charts_coherence//COL32_ROW24_NFFT080_NLAP070.png"
       ]
      },
      {
       "output_type": "stream",
       "stream": "stdout",
       "text": [
        "\n",
        "D:\\Data\\output_charts_coherence//COL32_ROW24_NFFT090_NLAP000.png"
       ]
      },
      {
       "output_type": "stream",
       "stream": "stdout",
       "text": [
        "\n",
        "D:\\Data\\output_charts_coherence//COL32_ROW24_NFFT090_NLAP010.png"
       ]
      },
      {
       "output_type": "stream",
       "stream": "stdout",
       "text": [
        "\n",
        "D:\\Data\\output_charts_coherence//COL32_ROW24_NFFT090_NLAP020.png"
       ]
      },
      {
       "output_type": "stream",
       "stream": "stdout",
       "text": [
        "\n",
        "D:\\Data\\output_charts_coherence//COL32_ROW24_NFFT090_NLAP030.png"
       ]
      },
      {
       "output_type": "stream",
       "stream": "stdout",
       "text": [
        "\n",
        "D:\\Data\\output_charts_coherence//COL32_ROW24_NFFT090_NLAP040.png"
       ]
      },
      {
       "output_type": "stream",
       "stream": "stdout",
       "text": [
        "\n",
        "D:\\Data\\output_charts_coherence//COL32_ROW24_NFFT090_NLAP050.png"
       ]
      },
      {
       "output_type": "stream",
       "stream": "stdout",
       "text": [
        "\n",
        "D:\\Data\\output_charts_coherence//COL32_ROW24_NFFT090_NLAP060.png"
       ]
      },
      {
       "output_type": "stream",
       "stream": "stdout",
       "text": [
        "\n",
        "D:\\Data\\output_charts_coherence//COL32_ROW24_NFFT090_NLAP070.png"
       ]
      },
      {
       "output_type": "stream",
       "stream": "stdout",
       "text": [
        "\n",
        "D:\\Data\\output_charts_coherence//COL32_ROW24_NFFT090_NLAP080.png"
       ]
      },
      {
       "output_type": "stream",
       "stream": "stdout",
       "text": [
        "\n",
        "D:\\Data\\output_charts_coherence//COL32_ROW24_NFFT100_NLAP000.png"
       ]
      },
      {
       "output_type": "stream",
       "stream": "stdout",
       "text": [
        "\n",
        "D:\\Data\\output_charts_coherence//COL32_ROW24_NFFT100_NLAP010.png"
       ]
      },
      {
       "output_type": "stream",
       "stream": "stdout",
       "text": [
        "\n",
        "D:\\Data\\output_charts_coherence//COL32_ROW24_NFFT100_NLAP020.png"
       ]
      },
      {
       "output_type": "stream",
       "stream": "stdout",
       "text": [
        "\n",
        "D:\\Data\\output_charts_coherence//COL32_ROW24_NFFT100_NLAP030.png"
       ]
      },
      {
       "output_type": "stream",
       "stream": "stdout",
       "text": [
        "\n",
        "D:\\Data\\output_charts_coherence//COL32_ROW24_NFFT100_NLAP040.png"
       ]
      },
      {
       "output_type": "stream",
       "stream": "stdout",
       "text": [
        "\n",
        "D:\\Data\\output_charts_coherence//COL32_ROW24_NFFT100_NLAP050.png"
       ]
      },
      {
       "output_type": "stream",
       "stream": "stdout",
       "text": [
        "\n",
        "D:\\Data\\output_charts_coherence//COL32_ROW24_NFFT100_NLAP060.png"
       ]
      },
      {
       "output_type": "stream",
       "stream": "stdout",
       "text": [
        "\n",
        "D:\\Data\\output_charts_coherence//COL32_ROW24_NFFT100_NLAP070.png"
       ]
      },
      {
       "output_type": "stream",
       "stream": "stdout",
       "text": [
        "\n",
        "D:\\Data\\output_charts_coherence//COL32_ROW24_NFFT100_NLAP080.png"
       ]
      },
      {
       "output_type": "stream",
       "stream": "stdout",
       "text": [
        "\n",
        "D:\\Data\\output_charts_coherence//COL32_ROW24_NFFT100_NLAP090.png"
       ]
      },
      {
       "output_type": "stream",
       "stream": "stdout",
       "text": [
        "\n",
        "D:\\Data\\output_charts_coherence//COL32_ROW24_NFFT110_NLAP000.png"
       ]
      },
      {
       "output_type": "stream",
       "stream": "stdout",
       "text": [
        "\n",
        "D:\\Data\\output_charts_coherence//COL32_ROW24_NFFT110_NLAP010.png"
       ]
      },
      {
       "output_type": "stream",
       "stream": "stdout",
       "text": [
        "\n",
        "D:\\Data\\output_charts_coherence//COL32_ROW24_NFFT110_NLAP020.png"
       ]
      },
      {
       "output_type": "stream",
       "stream": "stdout",
       "text": [
        "\n",
        "D:\\Data\\output_charts_coherence//COL32_ROW24_NFFT110_NLAP030.png"
       ]
      },
      {
       "output_type": "stream",
       "stream": "stdout",
       "text": [
        "\n",
        "D:\\Data\\output_charts_coherence//COL32_ROW24_NFFT110_NLAP040.png"
       ]
      },
      {
       "output_type": "stream",
       "stream": "stdout",
       "text": [
        "\n",
        "D:\\Data\\output_charts_coherence//COL32_ROW24_NFFT110_NLAP050.png"
       ]
      },
      {
       "output_type": "stream",
       "stream": "stdout",
       "text": [
        "\n",
        "D:\\Data\\output_charts_coherence//COL32_ROW24_NFFT110_NLAP060.png"
       ]
      },
      {
       "output_type": "stream",
       "stream": "stdout",
       "text": [
        "\n",
        "D:\\Data\\output_charts_coherence//COL32_ROW24_NFFT110_NLAP070.png"
       ]
      },
      {
       "output_type": "stream",
       "stream": "stdout",
       "text": [
        "\n",
        "D:\\Data\\output_charts_coherence//COL32_ROW24_NFFT110_NLAP080.png"
       ]
      },
      {
       "output_type": "stream",
       "stream": "stdout",
       "text": [
        "\n",
        "D:\\Data\\output_charts_coherence//COL32_ROW24_NFFT110_NLAP090.png"
       ]
      },
      {
       "output_type": "stream",
       "stream": "stdout",
       "text": [
        "\n",
        "D:\\Data\\output_charts_coherence//COL32_ROW24_NFFT110_NLAP100.png"
       ]
      },
      {
       "output_type": "stream",
       "stream": "stdout",
       "text": [
        "\n",
        "D:\\Data\\output_charts_coherence//COL32_ROW24_NFFT120_NLAP000.png"
       ]
      },
      {
       "output_type": "stream",
       "stream": "stdout",
       "text": [
        "\n",
        "D:\\Data\\output_charts_coherence//COL32_ROW24_NFFT120_NLAP010.png"
       ]
      },
      {
       "output_type": "stream",
       "stream": "stdout",
       "text": [
        "\n",
        "D:\\Data\\output_charts_coherence//COL32_ROW24_NFFT120_NLAP020.png"
       ]
      },
      {
       "output_type": "stream",
       "stream": "stdout",
       "text": [
        "\n",
        "D:\\Data\\output_charts_coherence//COL32_ROW24_NFFT120_NLAP030.png"
       ]
      },
      {
       "output_type": "stream",
       "stream": "stdout",
       "text": [
        "\n",
        "D:\\Data\\output_charts_coherence//COL32_ROW24_NFFT120_NLAP040.png"
       ]
      },
      {
       "output_type": "stream",
       "stream": "stdout",
       "text": [
        "\n",
        "D:\\Data\\output_charts_coherence//COL32_ROW24_NFFT120_NLAP050.png"
       ]
      },
      {
       "output_type": "stream",
       "stream": "stdout",
       "text": [
        "\n",
        "D:\\Data\\output_charts_coherence//COL32_ROW24_NFFT120_NLAP060.png"
       ]
      },
      {
       "output_type": "stream",
       "stream": "stdout",
       "text": [
        "\n",
        "D:\\Data\\output_charts_coherence//COL32_ROW24_NFFT120_NLAP070.png"
       ]
      },
      {
       "output_type": "stream",
       "stream": "stdout",
       "text": [
        "\n",
        "D:\\Data\\output_charts_coherence//COL32_ROW24_NFFT120_NLAP080.png"
       ]
      },
      {
       "output_type": "stream",
       "stream": "stdout",
       "text": [
        "\n",
        "D:\\Data\\output_charts_coherence//COL32_ROW24_NFFT120_NLAP090.png"
       ]
      },
      {
       "output_type": "stream",
       "stream": "stdout",
       "text": [
        "\n",
        "D:\\Data\\output_charts_coherence//COL32_ROW24_NFFT120_NLAP100.png"
       ]
      },
      {
       "output_type": "stream",
       "stream": "stdout",
       "text": [
        "\n",
        "D:\\Data\\output_charts_coherence//COL32_ROW24_NFFT120_NLAP110.png"
       ]
      },
      {
       "output_type": "stream",
       "stream": "stdout",
       "text": [
        "\n",
        "D:\\Data\\output_charts_coherence//COL32_ROW24_NFFT130_NLAP000.png"
       ]
      },
      {
       "output_type": "stream",
       "stream": "stdout",
       "text": [
        "\n",
        "D:\\Data\\output_charts_coherence//COL32_ROW24_NFFT130_NLAP010.png"
       ]
      },
      {
       "output_type": "stream",
       "stream": "stdout",
       "text": [
        "\n",
        "D:\\Data\\output_charts_coherence//COL32_ROW24_NFFT130_NLAP020.png"
       ]
      },
      {
       "output_type": "stream",
       "stream": "stdout",
       "text": [
        "\n",
        "D:\\Data\\output_charts_coherence//COL32_ROW24_NFFT130_NLAP030.png"
       ]
      },
      {
       "output_type": "stream",
       "stream": "stdout",
       "text": [
        "\n",
        "D:\\Data\\output_charts_coherence//COL32_ROW24_NFFT130_NLAP040.png"
       ]
      },
      {
       "output_type": "stream",
       "stream": "stdout",
       "text": [
        "\n",
        "D:\\Data\\output_charts_coherence//COL32_ROW24_NFFT130_NLAP050.png"
       ]
      },
      {
       "output_type": "stream",
       "stream": "stdout",
       "text": [
        "\n",
        "D:\\Data\\output_charts_coherence//COL32_ROW24_NFFT130_NLAP060.png"
       ]
      },
      {
       "output_type": "stream",
       "stream": "stdout",
       "text": [
        "\n",
        "D:\\Data\\output_charts_coherence//COL32_ROW24_NFFT130_NLAP070.png"
       ]
      },
      {
       "output_type": "stream",
       "stream": "stdout",
       "text": [
        "\n",
        "D:\\Data\\output_charts_coherence//COL32_ROW24_NFFT130_NLAP080.png"
       ]
      },
      {
       "output_type": "stream",
       "stream": "stdout",
       "text": [
        "\n",
        "D:\\Data\\output_charts_coherence//COL32_ROW24_NFFT130_NLAP090.png"
       ]
      },
      {
       "output_type": "stream",
       "stream": "stdout",
       "text": [
        "\n",
        "D:\\Data\\output_charts_coherence//COL32_ROW24_NFFT130_NLAP100.png"
       ]
      },
      {
       "output_type": "stream",
       "stream": "stdout",
       "text": [
        "\n",
        "D:\\Data\\output_charts_coherence//COL32_ROW24_NFFT130_NLAP110.png"
       ]
      },
      {
       "output_type": "stream",
       "stream": "stdout",
       "text": [
        "\n",
        "D:\\Data\\output_charts_coherence//COL32_ROW24_NFFT130_NLAP120.png"
       ]
      },
      {
       "output_type": "stream",
       "stream": "stdout",
       "text": [
        "\n",
        "D:\\Data\\output_charts_coherence//COL32_ROW24_NFFT140_NLAP000.png"
       ]
      },
      {
       "output_type": "stream",
       "stream": "stdout",
       "text": [
        "\n",
        "D:\\Data\\output_charts_coherence//COL32_ROW24_NFFT140_NLAP010.png"
       ]
      },
      {
       "output_type": "stream",
       "stream": "stdout",
       "text": [
        "\n",
        "D:\\Data\\output_charts_coherence//COL32_ROW24_NFFT140_NLAP020.png"
       ]
      },
      {
       "output_type": "stream",
       "stream": "stdout",
       "text": [
        "\n",
        "D:\\Data\\output_charts_coherence//COL32_ROW24_NFFT140_NLAP030.png"
       ]
      },
      {
       "output_type": "stream",
       "stream": "stdout",
       "text": [
        "\n",
        "D:\\Data\\output_charts_coherence//COL32_ROW24_NFFT140_NLAP040.png"
       ]
      },
      {
       "output_type": "stream",
       "stream": "stdout",
       "text": [
        "\n",
        "D:\\Data\\output_charts_coherence//COL32_ROW24_NFFT140_NLAP050.png"
       ]
      },
      {
       "output_type": "stream",
       "stream": "stdout",
       "text": [
        "\n",
        "D:\\Data\\output_charts_coherence//COL32_ROW24_NFFT140_NLAP060.png"
       ]
      },
      {
       "output_type": "stream",
       "stream": "stdout",
       "text": [
        "\n",
        "D:\\Data\\output_charts_coherence//COL32_ROW24_NFFT140_NLAP070.png"
       ]
      },
      {
       "output_type": "stream",
       "stream": "stdout",
       "text": [
        "\n",
        "D:\\Data\\output_charts_coherence//COL32_ROW24_NFFT140_NLAP080.png"
       ]
      },
      {
       "output_type": "stream",
       "stream": "stdout",
       "text": [
        "\n",
        "D:\\Data\\output_charts_coherence//COL32_ROW24_NFFT140_NLAP090.png"
       ]
      },
      {
       "output_type": "stream",
       "stream": "stdout",
       "text": [
        "\n",
        "D:\\Data\\output_charts_coherence//COL32_ROW24_NFFT140_NLAP100.png"
       ]
      },
      {
       "output_type": "stream",
       "stream": "stdout",
       "text": [
        "\n",
        "D:\\Data\\output_charts_coherence//COL32_ROW24_NFFT140_NLAP110.png"
       ]
      },
      {
       "output_type": "stream",
       "stream": "stdout",
       "text": [
        "\n",
        "D:\\Data\\output_charts_coherence//COL32_ROW24_NFFT140_NLAP120.png"
       ]
      },
      {
       "output_type": "stream",
       "stream": "stdout",
       "text": [
        "\n",
        "D:\\Data\\output_charts_coherence//COL32_ROW24_NFFT140_NLAP130.png"
       ]
      },
      {
       "output_type": "stream",
       "stream": "stdout",
       "text": [
        "\n",
        "D:\\Data\\output_charts_coherence//COL32_ROW24_NFFT150_NLAP000.png"
       ]
      },
      {
       "output_type": "stream",
       "stream": "stdout",
       "text": [
        "\n",
        "D:\\Data\\output_charts_coherence//COL32_ROW24_NFFT150_NLAP010.png"
       ]
      },
      {
       "output_type": "stream",
       "stream": "stdout",
       "text": [
        "\n",
        "D:\\Data\\output_charts_coherence//COL32_ROW24_NFFT150_NLAP020.png"
       ]
      },
      {
       "output_type": "stream",
       "stream": "stdout",
       "text": [
        "\n",
        "D:\\Data\\output_charts_coherence//COL32_ROW24_NFFT150_NLAP030.png"
       ]
      },
      {
       "output_type": "stream",
       "stream": "stdout",
       "text": [
        "\n",
        "D:\\Data\\output_charts_coherence//COL32_ROW24_NFFT150_NLAP040.png"
       ]
      },
      {
       "output_type": "stream",
       "stream": "stdout",
       "text": [
        "\n",
        "D:\\Data\\output_charts_coherence//COL32_ROW24_NFFT150_NLAP050.png"
       ]
      },
      {
       "output_type": "stream",
       "stream": "stdout",
       "text": [
        "\n",
        "D:\\Data\\output_charts_coherence//COL32_ROW24_NFFT150_NLAP060.png"
       ]
      },
      {
       "output_type": "stream",
       "stream": "stdout",
       "text": [
        "\n",
        "D:\\Data\\output_charts_coherence//COL32_ROW24_NFFT150_NLAP070.png"
       ]
      },
      {
       "output_type": "stream",
       "stream": "stdout",
       "text": [
        "\n",
        "D:\\Data\\output_charts_coherence//COL32_ROW24_NFFT150_NLAP080.png"
       ]
      },
      {
       "output_type": "stream",
       "stream": "stdout",
       "text": [
        "\n",
        "D:\\Data\\output_charts_coherence//COL32_ROW24_NFFT150_NLAP090.png"
       ]
      },
      {
       "output_type": "stream",
       "stream": "stdout",
       "text": [
        "\n",
        "D:\\Data\\output_charts_coherence//COL32_ROW24_NFFT150_NLAP100.png"
       ]
      },
      {
       "output_type": "stream",
       "stream": "stdout",
       "text": [
        "\n",
        "D:\\Data\\output_charts_coherence//COL32_ROW24_NFFT150_NLAP110.png"
       ]
      },
      {
       "output_type": "stream",
       "stream": "stdout",
       "text": [
        "\n",
        "D:\\Data\\output_charts_coherence//COL32_ROW24_NFFT150_NLAP120.png"
       ]
      },
      {
       "output_type": "stream",
       "stream": "stdout",
       "text": [
        "\n",
        "D:\\Data\\output_charts_coherence//COL32_ROW24_NFFT150_NLAP130.png"
       ]
      },
      {
       "output_type": "stream",
       "stream": "stdout",
       "text": [
        "\n",
        "D:\\Data\\output_charts_coherence//COL32_ROW24_NFFT150_NLAP140.png"
       ]
      },
      {
       "output_type": "stream",
       "stream": "stdout",
       "text": [
        "\n",
        "D:\\Data\\output_charts_coherence//COL32_ROW24_NFFT160_NLAP000.png"
       ]
      },
      {
       "output_type": "stream",
       "stream": "stdout",
       "text": [
        "\n",
        "D:\\Data\\output_charts_coherence//COL32_ROW24_NFFT160_NLAP010.png"
       ]
      },
      {
       "output_type": "stream",
       "stream": "stdout",
       "text": [
        "\n",
        "D:\\Data\\output_charts_coherence//COL32_ROW24_NFFT160_NLAP020.png"
       ]
      },
      {
       "output_type": "stream",
       "stream": "stdout",
       "text": [
        "\n",
        "D:\\Data\\output_charts_coherence//COL32_ROW24_NFFT160_NLAP030.png"
       ]
      },
      {
       "output_type": "stream",
       "stream": "stdout",
       "text": [
        "\n",
        "D:\\Data\\output_charts_coherence//COL32_ROW24_NFFT160_NLAP040.png"
       ]
      },
      {
       "output_type": "stream",
       "stream": "stdout",
       "text": [
        "\n",
        "D:\\Data\\output_charts_coherence//COL32_ROW24_NFFT160_NLAP050.png"
       ]
      },
      {
       "output_type": "stream",
       "stream": "stdout",
       "text": [
        "\n",
        "D:\\Data\\output_charts_coherence//COL32_ROW24_NFFT160_NLAP060.png"
       ]
      },
      {
       "output_type": "stream",
       "stream": "stdout",
       "text": [
        "\n",
        "D:\\Data\\output_charts_coherence//COL32_ROW24_NFFT160_NLAP070.png"
       ]
      },
      {
       "output_type": "stream",
       "stream": "stdout",
       "text": [
        "\n",
        "D:\\Data\\output_charts_coherence//COL32_ROW24_NFFT160_NLAP080.png"
       ]
      },
      {
       "output_type": "stream",
       "stream": "stdout",
       "text": [
        "\n",
        "D:\\Data\\output_charts_coherence//COL32_ROW24_NFFT160_NLAP090.png"
       ]
      },
      {
       "output_type": "stream",
       "stream": "stdout",
       "text": [
        "\n",
        "D:\\Data\\output_charts_coherence//COL32_ROW24_NFFT160_NLAP100.png"
       ]
      },
      {
       "output_type": "stream",
       "stream": "stdout",
       "text": [
        "\n",
        "D:\\Data\\output_charts_coherence//COL32_ROW24_NFFT160_NLAP110.png"
       ]
      },
      {
       "output_type": "stream",
       "stream": "stdout",
       "text": [
        "\n",
        "D:\\Data\\output_charts_coherence//COL32_ROW24_NFFT160_NLAP120.png"
       ]
      },
      {
       "output_type": "stream",
       "stream": "stdout",
       "text": [
        "\n",
        "D:\\Data\\output_charts_coherence//COL32_ROW24_NFFT160_NLAP130.png"
       ]
      },
      {
       "output_type": "stream",
       "stream": "stdout",
       "text": [
        "\n",
        "D:\\Data\\output_charts_coherence//COL32_ROW24_NFFT160_NLAP140.png"
       ]
      },
      {
       "output_type": "stream",
       "stream": "stdout",
       "text": [
        "\n",
        "D:\\Data\\output_charts_coherence//COL32_ROW24_NFFT160_NLAP150.png"
       ]
      },
      {
       "output_type": "stream",
       "stream": "stdout",
       "text": [
        "\n",
        "D:\\Data\\output_charts_coherence//COL32_ROW24_NFFT170_NLAP000.png"
       ]
      },
      {
       "output_type": "stream",
       "stream": "stdout",
       "text": [
        "\n",
        "D:\\Data\\output_charts_coherence//COL32_ROW24_NFFT170_NLAP010.png"
       ]
      },
      {
       "output_type": "stream",
       "stream": "stdout",
       "text": [
        "\n",
        "D:\\Data\\output_charts_coherence//COL32_ROW24_NFFT170_NLAP020.png"
       ]
      },
      {
       "output_type": "stream",
       "stream": "stdout",
       "text": [
        "\n",
        "D:\\Data\\output_charts_coherence//COL32_ROW24_NFFT170_NLAP030.png"
       ]
      },
      {
       "output_type": "stream",
       "stream": "stdout",
       "text": [
        "\n",
        "D:\\Data\\output_charts_coherence//COL32_ROW24_NFFT170_NLAP040.png"
       ]
      },
      {
       "output_type": "stream",
       "stream": "stdout",
       "text": [
        "\n",
        "D:\\Data\\output_charts_coherence//COL32_ROW24_NFFT170_NLAP050.png"
       ]
      },
      {
       "output_type": "stream",
       "stream": "stdout",
       "text": [
        "\n",
        "D:\\Data\\output_charts_coherence//COL32_ROW24_NFFT170_NLAP060.png"
       ]
      },
      {
       "output_type": "stream",
       "stream": "stdout",
       "text": [
        "\n",
        "D:\\Data\\output_charts_coherence//COL32_ROW24_NFFT170_NLAP070.png"
       ]
      },
      {
       "output_type": "stream",
       "stream": "stdout",
       "text": [
        "\n",
        "D:\\Data\\output_charts_coherence//COL32_ROW24_NFFT170_NLAP080.png"
       ]
      },
      {
       "output_type": "stream",
       "stream": "stdout",
       "text": [
        "\n",
        "D:\\Data\\output_charts_coherence//COL32_ROW24_NFFT170_NLAP090.png"
       ]
      },
      {
       "output_type": "stream",
       "stream": "stdout",
       "text": [
        "\n",
        "D:\\Data\\output_charts_coherence//COL32_ROW24_NFFT170_NLAP100.png"
       ]
      },
      {
       "output_type": "stream",
       "stream": "stdout",
       "text": [
        "\n",
        "D:\\Data\\output_charts_coherence//COL32_ROW24_NFFT170_NLAP110.png"
       ]
      },
      {
       "output_type": "stream",
       "stream": "stdout",
       "text": [
        "\n",
        "D:\\Data\\output_charts_coherence//COL32_ROW24_NFFT170_NLAP120.png"
       ]
      },
      {
       "output_type": "stream",
       "stream": "stdout",
       "text": [
        "\n",
        "D:\\Data\\output_charts_coherence//COL32_ROW24_NFFT170_NLAP130.png"
       ]
      },
      {
       "output_type": "stream",
       "stream": "stdout",
       "text": [
        "\n",
        "D:\\Data\\output_charts_coherence//COL32_ROW24_NFFT170_NLAP140.png"
       ]
      },
      {
       "output_type": "stream",
       "stream": "stdout",
       "text": [
        "\n",
        "D:\\Data\\output_charts_coherence//COL32_ROW24_NFFT170_NLAP150.png"
       ]
      },
      {
       "output_type": "stream",
       "stream": "stdout",
       "text": [
        "\n",
        "D:\\Data\\output_charts_coherence//COL32_ROW24_NFFT170_NLAP160.png"
       ]
      },
      {
       "output_type": "stream",
       "stream": "stdout",
       "text": [
        "\n",
        "D:\\Data\\output_charts_coherence//COL32_ROW24_NFFT180_NLAP000.png"
       ]
      },
      {
       "output_type": "stream",
       "stream": "stdout",
       "text": [
        "\n",
        "D:\\Data\\output_charts_coherence//COL32_ROW24_NFFT180_NLAP010.png"
       ]
      },
      {
       "output_type": "stream",
       "stream": "stdout",
       "text": [
        "\n",
        "D:\\Data\\output_charts_coherence//COL32_ROW24_NFFT180_NLAP020.png"
       ]
      },
      {
       "output_type": "stream",
       "stream": "stdout",
       "text": [
        "\n",
        "D:\\Data\\output_charts_coherence//COL32_ROW24_NFFT180_NLAP030.png"
       ]
      },
      {
       "output_type": "stream",
       "stream": "stdout",
       "text": [
        "\n",
        "D:\\Data\\output_charts_coherence//COL32_ROW24_NFFT180_NLAP040.png"
       ]
      },
      {
       "output_type": "stream",
       "stream": "stdout",
       "text": [
        "\n",
        "D:\\Data\\output_charts_coherence//COL32_ROW24_NFFT180_NLAP050.png"
       ]
      },
      {
       "output_type": "stream",
       "stream": "stdout",
       "text": [
        "\n",
        "D:\\Data\\output_charts_coherence//COL32_ROW24_NFFT180_NLAP060.png"
       ]
      },
      {
       "output_type": "stream",
       "stream": "stdout",
       "text": [
        "\n",
        "D:\\Data\\output_charts_coherence//COL32_ROW24_NFFT180_NLAP070.png"
       ]
      },
      {
       "output_type": "stream",
       "stream": "stdout",
       "text": [
        "\n",
        "D:\\Data\\output_charts_coherence//COL32_ROW24_NFFT180_NLAP080.png"
       ]
      },
      {
       "output_type": "stream",
       "stream": "stdout",
       "text": [
        "\n",
        "D:\\Data\\output_charts_coherence//COL32_ROW24_NFFT180_NLAP090.png"
       ]
      },
      {
       "output_type": "stream",
       "stream": "stdout",
       "text": [
        "\n",
        "D:\\Data\\output_charts_coherence//COL32_ROW24_NFFT180_NLAP100.png"
       ]
      },
      {
       "output_type": "stream",
       "stream": "stdout",
       "text": [
        "\n",
        "D:\\Data\\output_charts_coherence//COL32_ROW24_NFFT180_NLAP110.png"
       ]
      },
      {
       "output_type": "stream",
       "stream": "stdout",
       "text": [
        "\n",
        "D:\\Data\\output_charts_coherence//COL32_ROW24_NFFT180_NLAP120.png"
       ]
      },
      {
       "output_type": "stream",
       "stream": "stdout",
       "text": [
        "\n",
        "D:\\Data\\output_charts_coherence//COL32_ROW24_NFFT180_NLAP130.png"
       ]
      },
      {
       "output_type": "stream",
       "stream": "stdout",
       "text": [
        "\n",
        "D:\\Data\\output_charts_coherence//COL32_ROW24_NFFT180_NLAP140.png"
       ]
      },
      {
       "output_type": "stream",
       "stream": "stdout",
       "text": [
        "\n",
        "D:\\Data\\output_charts_coherence//COL32_ROW24_NFFT180_NLAP150.png"
       ]
      },
      {
       "output_type": "stream",
       "stream": "stdout",
       "text": [
        "\n",
        "D:\\Data\\output_charts_coherence//COL32_ROW24_NFFT180_NLAP160.png"
       ]
      },
      {
       "output_type": "stream",
       "stream": "stdout",
       "text": [
        "\n",
        "D:\\Data\\output_charts_coherence//COL32_ROW24_NFFT180_NLAP170.png"
       ]
      },
      {
       "output_type": "stream",
       "stream": "stdout",
       "text": [
        "\n",
        "D:\\Data\\output_charts_coherence//COL32_ROW24_NFFT190_NLAP000.png"
       ]
      },
      {
       "output_type": "stream",
       "stream": "stdout",
       "text": [
        "\n",
        "D:\\Data\\output_charts_coherence//COL32_ROW24_NFFT190_NLAP010.png"
       ]
      },
      {
       "output_type": "stream",
       "stream": "stdout",
       "text": [
        "\n",
        "D:\\Data\\output_charts_coherence//COL32_ROW24_NFFT190_NLAP020.png"
       ]
      },
      {
       "output_type": "stream",
       "stream": "stdout",
       "text": [
        "\n",
        "D:\\Data\\output_charts_coherence//COL32_ROW24_NFFT190_NLAP030.png"
       ]
      },
      {
       "output_type": "stream",
       "stream": "stdout",
       "text": [
        "\n",
        "D:\\Data\\output_charts_coherence//COL32_ROW24_NFFT190_NLAP040.png"
       ]
      },
      {
       "output_type": "stream",
       "stream": "stdout",
       "text": [
        "\n",
        "D:\\Data\\output_charts_coherence//COL32_ROW24_NFFT190_NLAP050.png"
       ]
      },
      {
       "output_type": "stream",
       "stream": "stdout",
       "text": [
        "\n",
        "D:\\Data\\output_charts_coherence//COL32_ROW24_NFFT190_NLAP060.png"
       ]
      },
      {
       "output_type": "stream",
       "stream": "stdout",
       "text": [
        "\n",
        "D:\\Data\\output_charts_coherence//COL32_ROW24_NFFT190_NLAP070.png"
       ]
      },
      {
       "output_type": "stream",
       "stream": "stdout",
       "text": [
        "\n",
        "D:\\Data\\output_charts_coherence//COL32_ROW24_NFFT190_NLAP080.png"
       ]
      },
      {
       "output_type": "stream",
       "stream": "stdout",
       "text": [
        "\n",
        "D:\\Data\\output_charts_coherence//COL32_ROW24_NFFT190_NLAP090.png"
       ]
      },
      {
       "output_type": "stream",
       "stream": "stdout",
       "text": [
        "\n",
        "D:\\Data\\output_charts_coherence//COL32_ROW24_NFFT190_NLAP100.png"
       ]
      },
      {
       "output_type": "stream",
       "stream": "stdout",
       "text": [
        "\n",
        "D:\\Data\\output_charts_coherence//COL32_ROW24_NFFT190_NLAP110.png"
       ]
      },
      {
       "output_type": "stream",
       "stream": "stdout",
       "text": [
        "\n",
        "D:\\Data\\output_charts_coherence//COL32_ROW24_NFFT190_NLAP120.png"
       ]
      },
      {
       "output_type": "stream",
       "stream": "stdout",
       "text": [
        "\n",
        "D:\\Data\\output_charts_coherence//COL32_ROW24_NFFT190_NLAP130.png"
       ]
      },
      {
       "output_type": "stream",
       "stream": "stdout",
       "text": [
        "\n",
        "D:\\Data\\output_charts_coherence//COL32_ROW24_NFFT190_NLAP140.png"
       ]
      },
      {
       "output_type": "stream",
       "stream": "stdout",
       "text": [
        "\n",
        "D:\\Data\\output_charts_coherence//COL32_ROW24_NFFT190_NLAP150.png"
       ]
      },
      {
       "output_type": "stream",
       "stream": "stdout",
       "text": [
        "\n",
        "D:\\Data\\output_charts_coherence//COL32_ROW24_NFFT190_NLAP160.png"
       ]
      },
      {
       "output_type": "stream",
       "stream": "stdout",
       "text": [
        "\n",
        "D:\\Data\\output_charts_coherence//COL32_ROW24_NFFT190_NLAP170.png"
       ]
      },
      {
       "output_type": "stream",
       "stream": "stdout",
       "text": [
        "\n",
        "D:\\Data\\output_charts_coherence//COL32_ROW24_NFFT190_NLAP180.png"
       ]
      },
      {
       "output_type": "stream",
       "stream": "stdout",
       "text": [
        "\n",
        "D:\\Data\\output_charts_coherence//COL32_ROW24_NFFT200_NLAP000.png"
       ]
      },
      {
       "output_type": "stream",
       "stream": "stdout",
       "text": [
        "\n",
        "D:\\Data\\output_charts_coherence//COL32_ROW24_NFFT200_NLAP010.png"
       ]
      },
      {
       "output_type": "stream",
       "stream": "stdout",
       "text": [
        "\n",
        "D:\\Data\\output_charts_coherence//COL32_ROW24_NFFT200_NLAP020.png"
       ]
      },
      {
       "output_type": "stream",
       "stream": "stdout",
       "text": [
        "\n",
        "D:\\Data\\output_charts_coherence//COL32_ROW24_NFFT200_NLAP030.png"
       ]
      },
      {
       "output_type": "stream",
       "stream": "stdout",
       "text": [
        "\n",
        "D:\\Data\\output_charts_coherence//COL32_ROW24_NFFT200_NLAP040.png"
       ]
      },
      {
       "output_type": "stream",
       "stream": "stdout",
       "text": [
        "\n",
        "D:\\Data\\output_charts_coherence//COL32_ROW24_NFFT200_NLAP050.png"
       ]
      },
      {
       "output_type": "stream",
       "stream": "stdout",
       "text": [
        "\n",
        "D:\\Data\\output_charts_coherence//COL32_ROW24_NFFT200_NLAP060.png"
       ]
      },
      {
       "output_type": "stream",
       "stream": "stdout",
       "text": [
        "\n",
        "D:\\Data\\output_charts_coherence//COL32_ROW24_NFFT200_NLAP070.png"
       ]
      },
      {
       "output_type": "stream",
       "stream": "stdout",
       "text": [
        "\n",
        "D:\\Data\\output_charts_coherence//COL32_ROW24_NFFT200_NLAP080.png"
       ]
      },
      {
       "output_type": "stream",
       "stream": "stdout",
       "text": [
        "\n",
        "D:\\Data\\output_charts_coherence//COL32_ROW24_NFFT200_NLAP090.png"
       ]
      },
      {
       "output_type": "stream",
       "stream": "stdout",
       "text": [
        "\n",
        "D:\\Data\\output_charts_coherence//COL32_ROW24_NFFT200_NLAP100.png"
       ]
      },
      {
       "output_type": "stream",
       "stream": "stdout",
       "text": [
        "\n",
        "D:\\Data\\output_charts_coherence//COL32_ROW24_NFFT200_NLAP110.png"
       ]
      },
      {
       "output_type": "stream",
       "stream": "stdout",
       "text": [
        "\n",
        "D:\\Data\\output_charts_coherence//COL32_ROW24_NFFT200_NLAP120.png"
       ]
      },
      {
       "output_type": "stream",
       "stream": "stdout",
       "text": [
        "\n",
        "D:\\Data\\output_charts_coherence//COL32_ROW24_NFFT200_NLAP130.png"
       ]
      },
      {
       "output_type": "stream",
       "stream": "stdout",
       "text": [
        "\n",
        "D:\\Data\\output_charts_coherence//COL32_ROW24_NFFT200_NLAP140.png"
       ]
      },
      {
       "output_type": "stream",
       "stream": "stdout",
       "text": [
        "\n",
        "D:\\Data\\output_charts_coherence//COL32_ROW24_NFFT200_NLAP150.png"
       ]
      },
      {
       "output_type": "stream",
       "stream": "stdout",
       "text": [
        "\n",
        "D:\\Data\\output_charts_coherence//COL32_ROW24_NFFT200_NLAP160.png"
       ]
      },
      {
       "output_type": "stream",
       "stream": "stdout",
       "text": [
        "\n",
        "D:\\Data\\output_charts_coherence//COL32_ROW24_NFFT200_NLAP170.png"
       ]
      },
      {
       "output_type": "stream",
       "stream": "stdout",
       "text": [
        "\n",
        "D:\\Data\\output_charts_coherence//COL32_ROW24_NFFT200_NLAP180.png"
       ]
      },
      {
       "output_type": "stream",
       "stream": "stdout",
       "text": [
        "\n",
        "D:\\Data\\output_charts_coherence//COL32_ROW24_NFFT200_NLAP190.png"
       ]
      },
      {
       "output_type": "stream",
       "stream": "stdout",
       "text": [
        "\n",
        "D:\\Data\\output_charts_coherence//COL32_ROW24_NFFT210_NLAP000.png"
       ]
      },
      {
       "output_type": "stream",
       "stream": "stdout",
       "text": [
        "\n",
        "D:\\Data\\output_charts_coherence//COL32_ROW24_NFFT210_NLAP010.png"
       ]
      },
      {
       "output_type": "stream",
       "stream": "stdout",
       "text": [
        "\n",
        "D:\\Data\\output_charts_coherence//COL32_ROW24_NFFT210_NLAP020.png"
       ]
      },
      {
       "output_type": "stream",
       "stream": "stdout",
       "text": [
        "\n",
        "D:\\Data\\output_charts_coherence//COL32_ROW24_NFFT210_NLAP030.png"
       ]
      },
      {
       "output_type": "stream",
       "stream": "stdout",
       "text": [
        "\n",
        "D:\\Data\\output_charts_coherence//COL32_ROW24_NFFT210_NLAP040.png"
       ]
      },
      {
       "output_type": "stream",
       "stream": "stdout",
       "text": [
        "\n",
        "D:\\Data\\output_charts_coherence//COL32_ROW24_NFFT210_NLAP050.png"
       ]
      },
      {
       "output_type": "stream",
       "stream": "stdout",
       "text": [
        "\n",
        "D:\\Data\\output_charts_coherence//COL32_ROW24_NFFT210_NLAP060.png"
       ]
      },
      {
       "output_type": "stream",
       "stream": "stdout",
       "text": [
        "\n",
        "D:\\Data\\output_charts_coherence//COL32_ROW24_NFFT210_NLAP070.png"
       ]
      },
      {
       "output_type": "stream",
       "stream": "stdout",
       "text": [
        "\n",
        "D:\\Data\\output_charts_coherence//COL32_ROW24_NFFT210_NLAP080.png"
       ]
      },
      {
       "output_type": "stream",
       "stream": "stdout",
       "text": [
        "\n",
        "D:\\Data\\output_charts_coherence//COL32_ROW24_NFFT210_NLAP090.png"
       ]
      },
      {
       "output_type": "stream",
       "stream": "stdout",
       "text": [
        "\n",
        "D:\\Data\\output_charts_coherence//COL32_ROW24_NFFT210_NLAP100.png"
       ]
      },
      {
       "output_type": "stream",
       "stream": "stdout",
       "text": [
        "\n",
        "D:\\Data\\output_charts_coherence//COL32_ROW24_NFFT210_NLAP110.png"
       ]
      },
      {
       "output_type": "stream",
       "stream": "stdout",
       "text": [
        "\n",
        "D:\\Data\\output_charts_coherence//COL32_ROW24_NFFT210_NLAP120.png"
       ]
      },
      {
       "output_type": "stream",
       "stream": "stdout",
       "text": [
        "\n",
        "D:\\Data\\output_charts_coherence//COL32_ROW24_NFFT210_NLAP130.png"
       ]
      },
      {
       "output_type": "stream",
       "stream": "stdout",
       "text": [
        "\n",
        "D:\\Data\\output_charts_coherence//COL32_ROW24_NFFT210_NLAP140.png"
       ]
      },
      {
       "output_type": "stream",
       "stream": "stdout",
       "text": [
        "\n",
        "D:\\Data\\output_charts_coherence//COL32_ROW24_NFFT210_NLAP150.png"
       ]
      },
      {
       "output_type": "stream",
       "stream": "stdout",
       "text": [
        "\n",
        "D:\\Data\\output_charts_coherence//COL32_ROW24_NFFT210_NLAP160.png"
       ]
      },
      {
       "output_type": "stream",
       "stream": "stdout",
       "text": [
        "\n",
        "D:\\Data\\output_charts_coherence//COL32_ROW24_NFFT210_NLAP170.png"
       ]
      },
      {
       "output_type": "stream",
       "stream": "stdout",
       "text": [
        "\n",
        "D:\\Data\\output_charts_coherence//COL32_ROW24_NFFT210_NLAP180.png"
       ]
      },
      {
       "output_type": "stream",
       "stream": "stdout",
       "text": [
        "\n",
        "D:\\Data\\output_charts_coherence//COL32_ROW24_NFFT210_NLAP190.png"
       ]
      },
      {
       "output_type": "stream",
       "stream": "stdout",
       "text": [
        "\n",
        "D:\\Data\\output_charts_coherence//COL32_ROW24_NFFT210_NLAP200.png"
       ]
      },
      {
       "output_type": "stream",
       "stream": "stdout",
       "text": [
        "\n",
        "D:\\Data\\output_charts_coherence//COL32_ROW24_NFFT220_NLAP000.png"
       ]
      },
      {
       "output_type": "stream",
       "stream": "stdout",
       "text": [
        "\n",
        "D:\\Data\\output_charts_coherence//COL32_ROW24_NFFT220_NLAP010.png"
       ]
      },
      {
       "output_type": "stream",
       "stream": "stdout",
       "text": [
        "\n",
        "D:\\Data\\output_charts_coherence//COL32_ROW24_NFFT220_NLAP020.png"
       ]
      },
      {
       "output_type": "stream",
       "stream": "stdout",
       "text": [
        "\n",
        "D:\\Data\\output_charts_coherence//COL32_ROW24_NFFT220_NLAP030.png"
       ]
      },
      {
       "output_type": "stream",
       "stream": "stdout",
       "text": [
        "\n",
        "D:\\Data\\output_charts_coherence//COL32_ROW24_NFFT220_NLAP040.png"
       ]
      },
      {
       "output_type": "stream",
       "stream": "stdout",
       "text": [
        "\n",
        "D:\\Data\\output_charts_coherence//COL32_ROW24_NFFT220_NLAP050.png"
       ]
      },
      {
       "output_type": "stream",
       "stream": "stdout",
       "text": [
        "\n",
        "D:\\Data\\output_charts_coherence//COL32_ROW24_NFFT220_NLAP060.png"
       ]
      },
      {
       "output_type": "stream",
       "stream": "stdout",
       "text": [
        "\n",
        "D:\\Data\\output_charts_coherence//COL32_ROW24_NFFT220_NLAP070.png"
       ]
      },
      {
       "output_type": "stream",
       "stream": "stdout",
       "text": [
        "\n",
        "D:\\Data\\output_charts_coherence//COL32_ROW24_NFFT220_NLAP080.png"
       ]
      },
      {
       "output_type": "stream",
       "stream": "stdout",
       "text": [
        "\n",
        "D:\\Data\\output_charts_coherence//COL32_ROW24_NFFT220_NLAP090.png"
       ]
      },
      {
       "output_type": "stream",
       "stream": "stdout",
       "text": [
        "\n",
        "D:\\Data\\output_charts_coherence//COL32_ROW24_NFFT220_NLAP100.png"
       ]
      },
      {
       "output_type": "stream",
       "stream": "stdout",
       "text": [
        "\n",
        "D:\\Data\\output_charts_coherence//COL32_ROW24_NFFT220_NLAP110.png"
       ]
      },
      {
       "output_type": "stream",
       "stream": "stdout",
       "text": [
        "\n",
        "D:\\Data\\output_charts_coherence//COL32_ROW24_NFFT220_NLAP120.png"
       ]
      },
      {
       "output_type": "stream",
       "stream": "stdout",
       "text": [
        "\n",
        "D:\\Data\\output_charts_coherence//COL32_ROW24_NFFT220_NLAP130.png"
       ]
      },
      {
       "output_type": "stream",
       "stream": "stdout",
       "text": [
        "\n",
        "D:\\Data\\output_charts_coherence//COL32_ROW24_NFFT220_NLAP140.png"
       ]
      },
      {
       "output_type": "stream",
       "stream": "stdout",
       "text": [
        "\n",
        "D:\\Data\\output_charts_coherence//COL32_ROW24_NFFT220_NLAP150.png"
       ]
      },
      {
       "output_type": "stream",
       "stream": "stdout",
       "text": [
        "\n",
        "D:\\Data\\output_charts_coherence//COL32_ROW24_NFFT220_NLAP160.png"
       ]
      },
      {
       "output_type": "stream",
       "stream": "stdout",
       "text": [
        "\n",
        "D:\\Data\\output_charts_coherence//COL32_ROW24_NFFT220_NLAP170.png"
       ]
      },
      {
       "output_type": "stream",
       "stream": "stdout",
       "text": [
        "\n",
        "D:\\Data\\output_charts_coherence//COL32_ROW24_NFFT220_NLAP180.png"
       ]
      },
      {
       "output_type": "stream",
       "stream": "stdout",
       "text": [
        "\n",
        "D:\\Data\\output_charts_coherence//COL32_ROW24_NFFT220_NLAP190.png"
       ]
      },
      {
       "output_type": "stream",
       "stream": "stdout",
       "text": [
        "\n",
        "D:\\Data\\output_charts_coherence//COL32_ROW24_NFFT220_NLAP200.png"
       ]
      },
      {
       "output_type": "stream",
       "stream": "stdout",
       "text": [
        "\n",
        "D:\\Data\\output_charts_coherence//COL32_ROW24_NFFT220_NLAP210.png"
       ]
      },
      {
       "output_type": "stream",
       "stream": "stdout",
       "text": [
        "\n",
        "D:\\Data\\output_charts_coherence//COL32_ROW24_NFFT230_NLAP000.png"
       ]
      },
      {
       "output_type": "stream",
       "stream": "stdout",
       "text": [
        "\n",
        "D:\\Data\\output_charts_coherence//COL32_ROW24_NFFT230_NLAP010.png"
       ]
      },
      {
       "output_type": "stream",
       "stream": "stdout",
       "text": [
        "\n",
        "D:\\Data\\output_charts_coherence//COL32_ROW24_NFFT230_NLAP020.png"
       ]
      },
      {
       "output_type": "stream",
       "stream": "stdout",
       "text": [
        "\n",
        "D:\\Data\\output_charts_coherence//COL32_ROW24_NFFT230_NLAP030.png"
       ]
      },
      {
       "output_type": "stream",
       "stream": "stdout",
       "text": [
        "\n",
        "D:\\Data\\output_charts_coherence//COL32_ROW24_NFFT230_NLAP040.png"
       ]
      },
      {
       "output_type": "stream",
       "stream": "stdout",
       "text": [
        "\n",
        "D:\\Data\\output_charts_coherence//COL32_ROW24_NFFT230_NLAP050.png"
       ]
      },
      {
       "output_type": "stream",
       "stream": "stdout",
       "text": [
        "\n",
        "D:\\Data\\output_charts_coherence//COL32_ROW24_NFFT230_NLAP060.png"
       ]
      },
      {
       "output_type": "stream",
       "stream": "stdout",
       "text": [
        "\n",
        "D:\\Data\\output_charts_coherence//COL32_ROW24_NFFT230_NLAP070.png"
       ]
      },
      {
       "output_type": "stream",
       "stream": "stdout",
       "text": [
        "\n",
        "D:\\Data\\output_charts_coherence//COL32_ROW24_NFFT230_NLAP080.png"
       ]
      },
      {
       "output_type": "stream",
       "stream": "stdout",
       "text": [
        "\n",
        "D:\\Data\\output_charts_coherence//COL32_ROW24_NFFT230_NLAP090.png"
       ]
      },
      {
       "output_type": "stream",
       "stream": "stdout",
       "text": [
        "\n",
        "D:\\Data\\output_charts_coherence//COL32_ROW24_NFFT230_NLAP100.png"
       ]
      },
      {
       "output_type": "stream",
       "stream": "stdout",
       "text": [
        "\n",
        "D:\\Data\\output_charts_coherence//COL32_ROW24_NFFT230_NLAP110.png"
       ]
      },
      {
       "output_type": "stream",
       "stream": "stdout",
       "text": [
        "\n",
        "D:\\Data\\output_charts_coherence//COL32_ROW24_NFFT230_NLAP120.png"
       ]
      },
      {
       "output_type": "stream",
       "stream": "stdout",
       "text": [
        "\n",
        "D:\\Data\\output_charts_coherence//COL32_ROW24_NFFT230_NLAP130.png"
       ]
      },
      {
       "output_type": "stream",
       "stream": "stdout",
       "text": [
        "\n",
        "D:\\Data\\output_charts_coherence//COL32_ROW24_NFFT230_NLAP140.png"
       ]
      },
      {
       "output_type": "stream",
       "stream": "stdout",
       "text": [
        "\n",
        "D:\\Data\\output_charts_coherence//COL32_ROW24_NFFT230_NLAP150.png"
       ]
      },
      {
       "output_type": "stream",
       "stream": "stdout",
       "text": [
        "\n",
        "D:\\Data\\output_charts_coherence//COL32_ROW24_NFFT230_NLAP160.png"
       ]
      },
      {
       "output_type": "stream",
       "stream": "stdout",
       "text": [
        "\n",
        "D:\\Data\\output_charts_coherence//COL32_ROW24_NFFT230_NLAP170.png"
       ]
      },
      {
       "output_type": "stream",
       "stream": "stdout",
       "text": [
        "\n",
        "D:\\Data\\output_charts_coherence//COL32_ROW24_NFFT230_NLAP180.png"
       ]
      },
      {
       "output_type": "stream",
       "stream": "stdout",
       "text": [
        "\n",
        "D:\\Data\\output_charts_coherence//COL32_ROW24_NFFT230_NLAP190.png"
       ]
      },
      {
       "output_type": "stream",
       "stream": "stdout",
       "text": [
        "\n",
        "D:\\Data\\output_charts_coherence//COL32_ROW24_NFFT230_NLAP200.png"
       ]
      },
      {
       "output_type": "stream",
       "stream": "stdout",
       "text": [
        "\n",
        "D:\\Data\\output_charts_coherence//COL32_ROW24_NFFT230_NLAP210.png"
       ]
      },
      {
       "output_type": "stream",
       "stream": "stdout",
       "text": [
        "\n",
        "D:\\Data\\output_charts_coherence//COL32_ROW24_NFFT230_NLAP220.png"
       ]
      },
      {
       "output_type": "stream",
       "stream": "stdout",
       "text": [
        "\n"
       ]
      }
     ],
     "prompt_number": 19
    },
    {
     "cell_type": "code",
     "collapsed": false,
     "input": [
      "import exceptions"
     ],
     "language": "python",
     "metadata": {},
     "outputs": [],
     "prompt_number": 2
    },
    {
     "cell_type": "code",
     "collapsed": false,
     "input": [
      "dt = 8 # sampling period (h)\n",
      "Fs = 1./(dt) # sampling rate (Hz)\n",
      "nfft = 90\n",
      "nolap = 10\n",
      "\n",
      "Cxy, FC = csd(x, y, window=window_hanning, noverlap=nolap, NFFT=nfft, Fs=Fs)\n",
      "Pxy, FP = cohere(x, y, window=window_hanning, noverlap=nolap, NFFT=nfft, Fs=Fs)"
     ],
     "language": "python",
     "metadata": {},
     "outputs": []
    },
    {
     "cell_type": "code",
     "collapsed": false,
     "input": [
      "conflevel = 99.5 # set confidence level\n",
      "\n",
      "collect = []\n",
      "for i in range(len(Cxy)):\n",
      "    collect.append(np.math.atan2(-Cxy.imag[i],Cxy.real[i]))\n",
      "col = np.array(collect)\n",
      "phase = col * 180/np.pi\n",
      "\n",
      "# calculate 95% confidence level\n",
      "edof = (len(x)/(nfft/2)) *Pxy.mean() # equivalent degrees of freedom: (length(timeseries)/windowhalfwidth)*mean_coherence\n",
      "gamma95 = 1.-(100-conflevel)**(1./(edof-1.))\n",
      "conf95 = np.where(Pxy>gamma95)\n",
      "print 'confidence level',conflevel, 'gamma95',gamma95, 'edof',edof\n",
      "\n",
      "# create all axes we need\n",
      "ax0 = plt.subplot(221)\n",
      "ax1 = ax0.twinx()\n",
      "ax2 = plt.subplot(222)\n",
      "ax3 = ax2.twinx()\n",
      "\n",
      "# plot all axes\n",
      "ax0.plot(FP, Pxy)\n",
      "ax1.plot(FP[conf95], phase[conf95], 'r.')\n",
      "ax2.plot(1./FP, Pxy,'b-')\n",
      "ax3.plot(1./FP[conf95], phase[conf95], 'r.')\n",
      "#plt.title('coherence and cross-spectrum phase (x-axis = sampling period)')\n",
      "\n",
      "# add labels and apply colouring axis 0 and 2\n",
      "ax0.set_xlabel('Frequency')\n",
      "ax0.set_ylim([0,1])\n",
      "# Make the y-axis label and tick labels match the line color.\n",
      "ax0.set_ylabel('Coherence', color='b')\n",
      "for tl in ax0.get_yticklabels():\n",
      "    tl.set_color('b')\n",
      "    \n",
      "ax2.set_xlabel(xlab)\n",
      "ax2.set_ylim([0,1])\n",
      "ax2.set_xlim(x_lim)\n",
      "# Make the y-axis label and tick labels match the line color.\n",
      "ax2.set_ylabel('Coherence', color='b')\n",
      "for tl in ax2.get_yticklabels():\n",
      "    tl.set_color('b')\n",
      "\n",
      "# add labels and apply colouring axis 1 and 3\n",
      "ax1.set_ylabel('Phase (degrees)', color='r')\n",
      "ax1.set_ylim([-200,200])\n",
      "ax1.set_yticklabels([-180,-135,-90,-45,0,45,90,135,180])\n",
      "\n",
      "for tl in ax1.get_yticklabels():\n",
      "    tl.set_color('r')\n",
      "    \n",
      "ax3.set_ylabel('Phase (degrees)', color='r')\n",
      "ax3.set_ylim([-200,200])\n",
      "ax3.set_yticklabels([-180,-135,-90,-45,0,45,90,135,180])\n",
      "\n",
      "for tl in ax3.get_yticklabels():\n",
      "    tl.set_color('r')\n",
      "\n",
      "# add grid and title\n",
      "ax0.grid(True)\n",
      "ax2.grid(True)\n",
      "ax1.grid(True)\n",
      "ax3.grid(True)\n",
      "\n",
      "plt.suptitle('coherence and cross-spectrum phase (left plot x-axis = frequency, right plot x-axis = sampling period)', fontsize=12)\n",
      "#fig1.suptitle('coherence and cross-spectrum phase (x-axis = frequency)')\n",
      "plt.tight_layout\n",
      "plt.show()"
     ],
     "language": "python",
     "metadata": {},
     "outputs": []
    },
    {
     "cell_type": "code",
     "collapsed": false,
     "input": [
      "psd("
     ],
     "language": "python",
     "metadata": {},
     "outputs": []
    }
   ],
   "metadata": {}
  }
 ]
}