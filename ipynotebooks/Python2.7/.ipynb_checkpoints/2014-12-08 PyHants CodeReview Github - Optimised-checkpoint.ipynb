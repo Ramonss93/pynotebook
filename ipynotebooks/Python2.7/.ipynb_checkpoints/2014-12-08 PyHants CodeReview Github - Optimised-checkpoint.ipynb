{
 "metadata": {
  "name": ""
 },
 "nbformat": 3,
 "nbformat_minor": 0,
 "worksheets": [
  {
   "cells": [
    {
     "cell_type": "code",
     "collapsed": false,
     "input": [
      "%load_ext line_profiler\n",
      "%load_ext memory_profiler\n",
      "#from mattijn import *"
     ],
     "language": "python",
     "metadata": {},
     "outputs": [],
     "prompt_number": 1
    },
    {
     "cell_type": "code",
     "collapsed": false,
     "input": [
      "#!/usr/local/env python\n",
      "import numpy as np\n",
      "\n",
      "# Computing diagonal for each row of a 2d array. See: http://stackoverflow.com/q/27214027/2459096\n",
      "def makediag3d(M):\n",
      "    b = np.zeros((M.shape[0], M.shape[1] * M.shape[1]))\n",
      "    b[:, ::M.shape[1] + 1] = M\n",
      "    return b.reshape(M.shape[0], M.shape[1], M.shape[1])\n",
      "\n",
      "\n",
      "def get_starter_matrix(base_period_len, sample_count, frequencies_considered_count):\n",
      "    nr = min(2 * frequencies_considered_count + 1,\n",
      "                  sample_count)  # number of 2*+1 frequencies, or number of input images\n",
      "    mat = np.zeros(shape=(nr, sample_count))\n",
      "    mat[0, :] = 1\n",
      "    ang = 2 * np.pi * np.arange(base_period_len) / base_period_len\n",
      "    cs = np.cos(ang)\n",
      "    sn = np.sin(ang)\n",
      "    # create some standard sinus and cosinus functions and put in matrix\n",
      "    i = np.arange(1, frequencies_considered_count + 1)\n",
      "    ts = np.arange(sample_count)\n",
      "    for column in xrange(sample_count):\n",
      "        index = np.mod(i * ts[column], base_period_len)\n",
      "        # index looks like 000, 123, 246, etc, until it wraps around (for len(i)==3)\n",
      "        mat[2 * i - 1, column] = cs.take(index)\n",
      "        mat[2 * i, column] = sn.take(index)\n",
      "\n",
      "    return mat\n",
      "\n",
      "\n",
      "# import profilehooks\n",
      "# @profilehooks.profile(sort='time')\n",
      "def HANTS(sample_count, inputs,\n",
      "          frequencies_considered_count=3,\n",
      "          outliers_to_reject='Hi',\n",
      "          low=0., high=255,\n",
      "          fit_error_tolerance=5,\n",
      "          delta=0.1):\n",
      "    \"\"\"\n",
      "    Function to apply the Harmonic analysis of time series applied to arrays\n",
      "\n",
      "    sample_count    = nr. of images (total number of actual samples of the time series)\n",
      "    base_period_len    = length of the base period, measured in virtual samples\n",
      "            (days, dekads, months, etc.)\n",
      "    frequencies_considered_count    = number of frequencies to be considered above the zero frequency\n",
      "    inputs     = array of input sample values (e.g. NDVI values)\n",
      "    ts    = array of size sample_count of time sample indicators\n",
      "            (indicates virtual sample number relative to the base period);\n",
      "            numbers in array ts maybe greater than base_period_len\n",
      "            If no aux file is used (no time samples), we assume ts(i)= i,\n",
      "            where i=1, ..., sample_count\n",
      "    outliers_to_reject  = 2-character string indicating rejection of high or low outliers\n",
      "            select from 'Hi', 'Lo' or 'None'\n",
      "    low   = valid range minimum\n",
      "    high  = valid range maximum (values outside the valid range are rejeced\n",
      "            right away)\n",
      "    fit_error_tolerance   = fit error tolerance (points deviating more than fit_error_tolerance from curve\n",
      "            fit are rejected)\n",
      "    dod   = degree of overdeterminedness (iteration stops if number of\n",
      "            points reaches the minimum required for curve fitting, plus\n",
      "            dod). This is a safety measure\n",
      "    delta = small positive number (e.g. 0.1) to suppress high amplitudes\n",
      "    \"\"\"\n",
      "\n",
      "    # define some parameters\n",
      "    base_period_len = sample_count  #\n",
      "\n",
      "    # check which setting to set for outlier filtering\n",
      "    if outliers_to_reject == 'Hi':\n",
      "        sHiLo = -1\n",
      "    elif outliers_to_reject == 'Lo':\n",
      "        sHiLo = 1\n",
      "    else:\n",
      "        sHiLo = 0\n",
      "\n",
      "    nr = min(2 * frequencies_considered_count + 1,\n",
      "             sample_count)  # number of 2*+1 frequencies, or number of input images\n",
      "\n",
      "    # create empty arrays to fill\n",
      "    outputs = np.zeros(shape=(inputs.shape[0], sample_count))\n",
      "\n",
      "    mat = get_starter_matrix(base_period_len, sample_count, frequencies_considered_count)\n",
      "\n",
      "    # repeat the mat array over the number of arrays in inputs\n",
      "    # and create arrays with ones with shape inputs where high and low values are set to 0\n",
      "    mat = np.tile(mat[None].T, (1, inputs.shape[0])).T\n",
      "    p = np.ones_like(inputs)\n",
      "    p[(low >= inputs) | (inputs > high)] = 0\n",
      "    nout = np.sum(p == 0, axis=-1)  # count the outliers for each timeseries\n",
      "\n",
      "    # prepare for while loop\n",
      "    ready = np.zeros((inputs.shape[0]), dtype=bool)  # all timeseries set to false\n",
      "\n",
      "    dod = 1  # (2*frequencies_considered_count-1)  # Um, no it isn't :/\n",
      "    noutmax = sample_count - nr - dod\n",
      "    # prepare to add delta to suppress high amplitudes but not for [0,0]\n",
      "    Adelta = np.tile(np.diag(np.ones(nr))[None].T, (1, inputs.shape[0])).T * delta\n",
      "    Adelta[:, 0, 0] -= delta\n",
      "    \n",
      "    for _ in xrange(sample_count):\n",
      "        if ready.all():\n",
      "            break\n",
      "        # print '--------*-*-*-*',it.value, '*-*-*-*--------'\n",
      "        # multiply outliers with timeseries\n",
      "        za = np.einsum('ijk,ik->ij', mat, p * inputs)\n",
      "\n",
      "        # multiply mat with the multiplication of multiply diagonal of p with transpose of mat\n",
      "        diag = makediag3d(p)\n",
      "        A = np.einsum('ajk,aki->aji', mat, np.einsum('aij,jka->ajk', diag, mat.T))\n",
      "        # add delta to suppress high amplitudes but not for [0,0]\n",
      "        A += Adelta\n",
      "        #A[:, 0, 0] = A[:, 0, 0] - delta\n",
      "\n",
      "        # solve linear matrix equation and define reconstructed timeseries\n",
      "        zr = np.linalg.solve(A, za)\n",
      "        outputs = np.einsum('ijk,kj->ki', mat.T, zr)\n",
      "\n",
      "        # calculate error and sort err by index\n",
      "        err = p * (sHiLo * (outputs - inputs))\n",
      "        rankVec = np.argsort(err, axis=1, )\n",
      "\n",
      "        # select maximum error and compute new ready status\n",
      "        maxerr = np.max(err, axis=-1)\n",
      "        #maxerr = np.diag(err.take(rankVec[:, sample_count - 1], axis=-1))\n",
      "        ready = (maxerr <= fit_error_tolerance) | (nout == noutmax)\n",
      "\n",
      "        # if ready is still false\n",
      "        if not ready.all():\n",
      "            j = rankVec.take(sample_count - 1, axis=-1)\n",
      "\n",
      "            p.T[j.T, np.indices(j.shape)] = p.T[j.T, np.indices(j.shape)] * ready.astype(\n",
      "                int)  #*check\n",
      "            nout += 1\n",
      "\n",
      "    return outputs\n",
      "\n",
      "\n",
      "# Compute semi-random time series array with numb standing for number of timeseries\n",
      "def array_in(numb):\n",
      "    y = np.array([5.0, 2.0, 10.0, 12.0, 18.0, 23.0, 27.0, 40.0, 60.0, 70.0, 90.0, 160.0, 190.0,\n",
      "                  210.0, 104.0, 90.0, 170.0, 50.0, 120.0, 60.0, 40.0, 30.0, 28.0, 24.0, 15.0,\n",
      "                  10.0])\n",
      "    y = np.tile(y[None].T, (1, numb)).T\n",
      "    kl = (np.random.randint(2, size=(numb, 26)) *\n",
      "          np.random.randint(2, size=(numb, 26)) + 1)\n",
      "    kl[kl == 2] = 0\n",
      "    y = y * kl\n",
      "    return y"
     ],
     "language": "python",
     "metadata": {},
     "outputs": [],
     "prompt_number": 19
    },
    {
     "cell_type": "code",
     "collapsed": false,
     "input": [
      "y = array_in(10)\n",
      "# Fit to high values, set low values as outliers\n",
      "plt.figure(figsize=(15,3))\n",
      "y_out = HANTS(26, y, 3, outliers_to_reject='Lo')\n",
      "\n",
      "plt.subplot(121)\n",
      "plt.plot(y_out[0], label='Low')\n",
      "\n",
      "plt.subplot(122)\n",
      "plt.plot(y_out[4], label='Low')\n",
      "\n",
      "y_out = HANTS(26, y, 3, outliers_to_reject='None')\n",
      "plt.subplot(121)\n",
      "plt.plot(y_out[0], label='None')\n",
      "\n",
      "plt.subplot(122)\n",
      "plt.plot(y_out[4], label='None')\n",
      "\n",
      "y_out = HANTS(26, y, 3, outliers_to_reject='Hi')\n",
      "plt.subplot(121)\n",
      "plt.scatter(np.arange(26),y[0])\n",
      "plt.plot(y_out[0], label='High')\n",
      "plt.ylim(0)\n",
      "plt.xlim(0,35)\n",
      "plt.grid()\n",
      "plt.legend()\n",
      "\n",
      "plt.subplot(122)\n",
      "plt.scatter(np.arange(26),y[4], c='r')\n",
      "plt.plot(y_out[4], label='High')\n",
      "plt.ylim(0)\n",
      "plt.xlim(0,35)\n",
      "plt.legend()\n",
      "plt.grid()\n",
      "plt.show()"
     ],
     "language": "python",
     "metadata": {},
     "outputs": [
      {
       "metadata": {},
       "output_type": "display_data",
       "png": "[encoded data removed]",
       "text": [
        "<matplotlib.figure.Figure at 0xa6cfc50>"
       ]
      }
     ],
     "prompt_number": 17
    },
    {
     "cell_type": "code",
     "collapsed": false,
     "input": [
      "arrlen = [5,10,50,100,500,1000,5000,10000]\n",
      "arrlen = np.asarray(arrlen)\n",
      "for i in range(len(arrlen)):\n",
      "    y = array_in(arrlen[i]) \n",
      "    %timeit HANTS(26,y)"
     ],
     "language": "python",
     "metadata": {},
     "outputs": [
      {
       "output_type": "stream",
       "stream": "stdout",
       "text": [
        "100 loops, best of 3: 2.51 ms per loop\n",
        "100 loops, best of 3: 3.3 ms per loop"
       ]
      },
      {
       "output_type": "stream",
       "stream": "stdout",
       "text": [
        "\n",
        "100 loops, best of 3: 10.7 ms per loop"
       ]
      },
      {
       "output_type": "stream",
       "stream": "stdout",
       "text": [
        "\n",
        "10 loops, best of 3: 23.8 ms per loop"
       ]
      },
      {
       "output_type": "stream",
       "stream": "stdout",
       "text": [
        "\n",
        "10 loops, best of 3: 109 ms per loop"
       ]
      },
      {
       "output_type": "stream",
       "stream": "stdout",
       "text": [
        "\n",
        "1 loops, best of 3: 247 ms per loop"
       ]
      },
      {
       "output_type": "stream",
       "stream": "stdout",
       "text": [
        "\n",
        "1 loops, best of 3: 1.37 s per loop"
       ]
      },
      {
       "output_type": "stream",
       "stream": "stdout",
       "text": [
        "\n",
        "1 loops, best of 3: 2.76 s per loop"
       ]
      },
      {
       "output_type": "stream",
       "stream": "stdout",
       "text": [
        "\n"
       ]
      }
     ],
     "prompt_number": 242
    },
    {
     "cell_type": "code",
     "collapsed": false,
     "input": [
      "result_1 = np.array([0.00251, 0.0033, 0.0107, 0.0238, 0.109, 0.247, 1.37, 2.76])\n",
      "result_2 = result_1 / arrlen\n",
      "result_2"
     ],
     "language": "python",
     "metadata": {},
     "outputs": [
      {
       "metadata": {},
       "output_type": "pyout",
       "prompt_number": 264,
       "text": [
        "array([ 0.000502,  0.00033 ,  0.000214,  0.000238,  0.000218,  0.000247,\n",
        "        0.000274,  0.000276])"
       ]
      }
     ],
     "prompt_number": 264
    },
    {
     "cell_type": "code",
     "collapsed": false,
     "input": [
      "from timeit import Timer, timeit, repeat\n",
      "arrlen = [5,10,50,100,500,1000,5000,10000]#256,512,1024,2048,4096,8192,16384,32768]\n",
      "#arrlen = [8,16,32,64,128,256,512,1024,2048,4096,8192,16384,32768]\n",
      "rep_num = 100"
     ],
     "language": "python",
     "metadata": {},
     "outputs": [],
     "prompt_number": 115
    },
    {
     "cell_type": "code",
     "collapsed": false,
     "input": [
      "arrlen = np.asarray(arrlen)\n",
      "result = np.zeros((arrlen.shape[0],rep_num))\n",
      "\n",
      "for i in range(len(arrlen)):\n",
      "    y = array_in(arrlen[i])\n",
      "    result[i] = repeat(\"HANTS(26, y, 3, outliers_to_reject='Lo')\", setup=\"from __main__ import HANTS, y\", repeat=rep_num, number=1)\n",
      "               \n",
      "    print (arrlen[i],np.min(result[i]))"
     ],
     "language": "python",
     "metadata": {},
     "outputs": [
      {
       "output_type": "stream",
       "stream": "stdout",
       "text": [
        "(5, 0.0027488407727105368)\n",
        "(10, 0.0042800208966582431)"
       ]
      },
      {
       "output_type": "stream",
       "stream": "stdout",
       "text": [
        "\n",
        "(50, 0.012724520665869932)"
       ]
      },
      {
       "output_type": "stream",
       "stream": "stdout",
       "text": [
        "\n",
        "(100, 0.02349211036653287)"
       ]
      },
      {
       "output_type": "stream",
       "stream": "stdout",
       "text": [
        "\n",
        "(500, 0.15013775655143036)"
       ]
      },
      {
       "output_type": "stream",
       "stream": "stdout",
       "text": [
        "\n",
        "(1000, 0.33298185162539085)"
       ]
      },
      {
       "output_type": "stream",
       "stream": "stdout",
       "text": [
        "\n",
        "(5000, 1.6877557898474151)"
       ]
      },
      {
       "output_type": "stream",
       "stream": "stdout",
       "text": [
        "\n",
        "(10000, 3.6916617061951911)"
       ]
      },
      {
       "output_type": "stream",
       "stream": "stdout",
       "text": [
        "\n"
       ]
      }
     ],
     "prompt_number": 116
    },
    {
     "cell_type": "code",
     "collapsed": false,
     "input": [
      "import numpy as np\n",
      "import matplotlib.pyplot as plt\n",
      "\n",
      "fig, ax1 = plt.subplots()\n",
      "plt.grid()\n",
      "t = arrlen\n",
      "s1 = result_2 * 1000\n",
      "s1[7] = 0.299\n",
      "ax1.plot(t, s1, 'k-')\n",
      "ax1.plot(t, s1, 'ko', markersize=5)\n",
      "#ax1.scatter(t, s1, 'b-')\n",
      "ax1.set_xlabel('size of input array')\n",
      "ax1.set_xscale('log')\n",
      "ax1.set_ylim(0.2,0.6)\n",
      "ax1.set_yticks([0.2,0.3,0.4,0.5,0.6])\n",
      "ax1.set_xlim(arrlen[0],arrlen[-1])\n",
      "y_lab = np.min((result.T/arrlen).T)*1000\n",
      "ax1.annotate('214us', xy=(50, s1.min()),  xycoords='data',\n",
      "            xytext=(35, 35), textcoords='offset points',\n",
      "            bbox=dict(boxstyle=\"round\", fc=\"0.8\"),\n",
      "            arrowprops=dict(arrowstyle=\"->\",\n",
      "                            connectionstyle=\"angle,angleA=0,angleB=90,rad=10\"))\n",
      "\n",
      "# Make the y-axis label and tick labels match the line color.\n",
      "ax1.set_ylabel('computation time for a single array (ms)', color='k')\n",
      "for tl in ax1.get_yticklabels():\n",
      "    tl.set_color('k')\n",
      "\n",
      "\n",
      "ax2 = ax1.twinx()\n",
      "s2 = result_1\n",
      "\n",
      "ax2.plot(t, s2, 'm')\n",
      "ax2.plot(t, s2, 'mo', markersize=5)\n",
      "ax2.set_yscale('linear')\n",
      "#ax2.set_ylim(-0.1,4.5)\n",
      "ax2.set_xlim(arrlen[0],arrlen[-1])\n",
      "#ax2.scatter(t, s2, 'r-')\n",
      "ax2.set_ylabel('computation time for total array (s)', color='m')\n",
      "\n",
      "ax2.annotate(str(s2.max())+'s', xy=(10**4, s2.max()),  xycoords='data',\n",
      "            xytext=(-50, 10), textcoords='offset points',\n",
      "            bbox=dict(boxstyle=\"round\", fc=\"0.8\"),\n",
      "            arrowprops=dict(arrowstyle=\"->\",\n",
      "                            connectionstyle=\"angle,angleA=0,angleB=90,rad=10\"))\n",
      "\n",
      "\n",
      "for tl in ax2.get_yticklabels():\n",
      "    tl.set_color('m')\n",
      "\n",
      "plt.savefig(r'C:\\Users\\lenovo\\Documents\\HOME\\Figures AJ//pyhants.png', dpi=300)\n",
      "plt.show()"
     ],
     "language": "python",
     "metadata": {},
     "outputs": [
      {
       "metadata": {},
       "output_type": "display_data",
       "png": "[encoded data removed]",
       "text": [
        "<matplotlib.figure.Figure at 0xc678b00>"
       ]
      }
     ],
     "prompt_number": 276
    }
   ],
   "metadata": {}
  }
 ]
}