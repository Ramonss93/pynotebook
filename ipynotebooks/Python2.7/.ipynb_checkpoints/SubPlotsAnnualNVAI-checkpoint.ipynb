{
 "metadata": {
  "name": ""
 },
 "nbformat": 3,
 "nbformat_minor": 0,
 "worksheets": [
  {
   "cells": [
    {
     "cell_type": "markdown",
     "metadata": {},
     "source": [
      "load modules"
     ]
    },
    {
     "cell_type": "code",
     "collapsed": false,
     "input": [
      "import cartopy.crs as ccrs\n",
      "import cartopy.feature as cfeature\n",
      "import numpy as np\n",
      "import os\n",
      "import matplotlib.pyplot as plt\n",
      "from osgeo import gdal, osr"
     ],
     "language": "python",
     "metadata": {},
     "outputs": [],
     "prompt_number": 28
    },
    {
     "cell_type": "markdown",
     "metadata": {},
     "source": [
      "Mask the places where values is NaN if there, Get the coordiantes and create grid with coordinates"
     ]
    },
    {
     "cell_type": "code",
     "collapsed": false,
     "input": [
      "def listall(RootFolder, varname=''):\n",
      "    lists = [os.path.join(root, name)    \n",
      "                 for root, dirs, files in os.walk(RootFolder)\n",
      "                   for name in files\n",
      "                   if varname in name\n",
      "                     if name.endswith('.tif')]\n",
      "    return lists\n",
      "\n",
      "def setMap(rasterBase):\n",
      "\n",
      "    # Read the data and metadata\n",
      "    ds = gdal.Open(rasterBase)\n",
      "    #band = ds.GetRasterBand(20)\n",
      "    \n",
      "    data = ds.ReadAsArray()\n",
      "    gt = ds.GetGeoTransform()\n",
      "    proj = ds.GetProjection()\n",
      "    \n",
      "    nan = ds.GetRasterBand(1).GetNoDataValue()\n",
      "    if nan != None:\n",
      "        data = np.ma.masked_equal(data,value=nan)\n",
      "    \n",
      "    xres = gt[1]\n",
      "    yres = gt[5]\n",
      "    \n",
      "    # get the edge coordinates and add half the resolution \n",
      "    # to go to center coordinates\n",
      "    xmin = gt[0] + xres * 0.5\n",
      "    xmax = gt[0] + (xres * ds.RasterXSize) - xres * 0.5\n",
      "    ymin = gt[3] + (yres * ds.RasterYSize) + yres * 0.5\n",
      "    ymax = gt[3] - yres * 0.5\n",
      "    \n",
      "    x = ds.RasterXSize \n",
      "    y = ds.RasterYSize  \n",
      "    extent = [ gt[0],gt[0]+x*gt[1], gt[3],gt[3]+y*gt[5]]\n",
      "    #ds = None\n",
      "    \n",
      "    # create a grid of xy coordinates in the original projection\n",
      "    xy_source = np.mgrid[xmin:xmax+xres:xres, ymax+yres:ymin:yres]\n",
      "    \n",
      "    return extent, xy_source, proj"
     ],
     "language": "python",
     "metadata": {},
     "outputs": [],
     "prompt_number": 29
    },
    {
     "cell_type": "markdown",
     "metadata": {},
     "source": [
      "Normalize the values of the raster and list the color map, also for under and over part, bounds is the step size of the legend"
     ]
    },
    {
     "cell_type": "code",
     "collapsed": false,
     "input": [
      "# Set the colormap and norm to correspond to the data for which\n",
      "# the colorbar will be used.\n",
      "cmap = cm.cool\n",
      "norm = cm.colors.Normalize(vmin=-1, vmax=1)\n",
      "\n",
      "# The third example illustrates the use of custom length colorbar\n",
      "# extensions, used on a colorbar with discrete intervals.\n",
      "cmap = cm.colors.ListedColormap([[1,1,1],\n",
      "                                 [0.745,0.909,1.],\n",
      "                                 [0.617,0.635,1.],\n",
      "                                 [0.396,0.443,1.],\n",
      "                                 [0.309,0.368,1.],\n",
      "                                 [0.,0.086,0.784],\n",
      "                                 [0.,0.,0.404],\n",
      "                                 [1.,0.667,0.], # light organge\n",
      "                                 [1.,0.309,0.], # dutch orange                                 \n",
      "                                 [0.902,0.,0.], # red\n",
      "                                 [0.462,0.05,0.],\n",
      "                                 #[0.537,0.027,0.],\n",
      "                                 ]) # purple\n",
      "\n",
      "#cmap.set_under((0.239, 0., 0.)) # dark purple\n",
      "cmap.set_over((0.709,0.,0.678)) # pruple   \n",
      "\n",
      "bounds = [0, 0.5, 1, 1.5, 2, 3.5, 5, 7.5, 10., 12.5, 15.]     \n",
      "norm = cm.colors.BoundaryNorm(bounds, cmap.N)"
     ],
     "language": "python",
     "metadata": {},
     "outputs": [],
     "prompt_number": 30
    },
    {
     "cell_type": "markdown",
     "metadata": {},
     "source": [
      "Get extent and of basemap and use this information for all following"
     ]
    },
    {
     "cell_type": "code",
     "collapsed": false,
     "input": [
      "RasterFolder = r'D:\\Data\\GPCP_annualMean'\n",
      "raster = listall(RasterFolder)\n",
      "#raster = raster[0:617]\n",
      "rasterBase = raster[0]\n",
      "extent, xy_source, proj = setMap(rasterBase)\n",
      "extent"
     ],
     "language": "python",
     "metadata": {},
     "outputs": [
      {
       "metadata": {},
       "output_type": "pyout",
       "prompt_number": 32,
       "text": [
        "[-179.875, 180.125, 89.875, -90.125]"
       ]
      }
     ],
     "prompt_number": 32
    },
    {
     "cell_type": "markdown",
     "metadata": {},
     "source": [
      "Set extent for image as well as plot"
     ]
    },
    {
     "cell_type": "code",
     "collapsed": false,
     "input": [
      "ds = gdal.Open(rasterBase)\n",
      "array = ds.ReadAsArray()\n",
      "band = ds.GetRasterBand(1)\n",
      "nan = band.GetNoDataValue()\n",
      "print (nan)\n",
      "#img = np.flipud(array)\n",
      "\n",
      "img_extent = (extent[0], extent[1], extent[2], extent[3])\n",
      "set_extent = [extent[0], extent[1], extent[2], extent[3]]"
     ],
     "language": "python",
     "metadata": {},
     "outputs": [
      {
       "output_type": "stream",
       "stream": "stdout",
       "text": [
        "-99999.0\n"
       ]
      }
     ],
     "prompt_number": 33
    },
    {
     "cell_type": "markdown",
     "metadata": {},
     "source": [
      "Sort the raster in the folder based on the doy, necessary for iteration, so file[0] is 2001001 and file[1] is 2002001"
     ]
    },
    {
     "cell_type": "code",
     "collapsed": false,
     "input": [
      "raster_sorted = sorted(raster, key=lambda t: int(t[-7:-4]))\n",
      "print (raster_sorted[0], raster_sorted[1])"
     ],
     "language": "python",
     "metadata": {},
     "outputs": [
      {
       "output_type": "stream",
       "stream": "stdout",
       "text": [
        "('D:\\\\Data\\\\GPCP_annualMean\\\\GPCP_001.tif', 'D:\\\\Data\\\\GPCP_annualMean\\\\GPCP_009.tif')\n"
       ]
      }
     ],
     "prompt_number": 34
    },
    {
     "cell_type": "markdown",
     "metadata": {},
     "source": [
      "For all days in year with 8 step interval select corresponding raster, then select the corresponding raster of each year, create matplotlib using cartopy"
     ]
    },
    {
     "cell_type": "code",
     "collapsed": false,
     "input": [
      "for img1 in raster: # replaced \"range(1,362,8)\" with range(1,367)\n",
      "\n",
      "    ds1 = gdal.Open(img1)\n",
      "    array1 = ds1.ReadAsArray()\n",
      "    #array1 = np.roll(array1, 72, axis=1)\n",
      "    #array1 = np.ma.masked_less_equal(array1, 0)\n",
      "    array1 = np.flipud(array1)\n",
      "    \n",
      "    fig = plt.figure(figsize=[16,10])\n",
      "    \n",
      "    ax1 = plt.subplot(1,1,1, projection=ccrs.PlateCarree())\n",
      "    \n",
      "    ax1.set_extent(set_extent, ccrs.Geodetic()) #[72, 136, 52, 17]\n",
      "    ax1.coastlines(resolution='50m', color='black', linewidth=1)\n",
      "    ax1_gl = ax1.gridlines(draw_labels=True, axes=0)\n",
      "    ax1_gl.ylabels_right = False\n",
      "    ax1_gl.xlabels_top = False\n",
      "    #ax1_gl.xlabels_bottom = False\n",
      "    ax1.set_title('Multi-year average')\n",
      "    ax1.add_feature(cfeature.OCEAN, facecolor='aqua', alpha='0.1')\n",
      "    ax1.add_feature(cfeature.BORDERS, alpha='0.2')\n",
      "    \n",
      "\n",
      "    im = ax1.imshow(array1, origin='upper', extent=img_extent, cmap=cmap, norm=norm )#, , transform=ccrs.Mercator())\n",
      "    \n",
      "    title = 'Precipitation DOY'+img1[-7:-4]\n",
      "    plt.suptitle(title, y=0.98, fontsize=22)    \n",
      "    \n",
      "    cax = fig.add_axes([0.15, 0.05, 0.7, 0.03]) # location of the legend\n",
      "    cb = fig.colorbar(im, cax=cax, ticks=bounds+[1], extend='max', extendfrac='auto', orientation='horizontal').set_label('Precipitation (mm/day)') #norm=norm\n",
      "\n",
      "    plt.subplots_adjust(left=None, bottom=None, right=None, top=None, wspace=None, hspace=None)\n",
      "    \n",
      "    left  = 0.125  # the left side of the subplots of the figure\n",
      "    right = 0.9    # the right side of the subplots of the figure\n",
      "    bottom = 0.1   # the bottom of the subplots of the figure\n",
      "    top = 0.9      # the top of the subplots of the figure\n",
      "    wspace = 0.1   # the amount of width reserved for blank space between subplots\n",
      "    hspace = 0.2   # the amount of height reserved for white space between subplots\n",
      "\n",
      "\n",
      "    #plt.tight_layout()\n",
      "    outPath = r'D:\\Data\\GPCP_annualMeanPNG//GPCP_'+img1[-10:-4]+'.png' # [-15:-4] original # replaced \"D:\\Data\\GPCP_doy8DayMeanPNG\" with \"D:\\Data\\GPCP_1_doyPNG\"\n",
      "    print outPath    \n",
      "    plt.savefig(outPath, dpi=200)\n",
      "    #plt.show()\n",
      "    plt.close(fig)\n",
      "    fig.clf() \n",
      "    #ax.cla()\n",
      "    doy = None"
     ],
     "language": "python",
     "metadata": {},
     "outputs": [
      {
       "output_type": "stream",
       "stream": "stdout",
       "text": [
        "D:\\Data\\GPCP_annualMeanPNG//GPCP_CP_001.png\n",
        "D:\\Data\\GPCP_annualMeanPNG//GPCP_CP_009.png"
       ]
      },
      {
       "output_type": "stream",
       "stream": "stdout",
       "text": [
        "\n",
        "D:\\Data\\GPCP_annualMeanPNG//GPCP_CP_017.png"
       ]
      },
      {
       "output_type": "stream",
       "stream": "stdout",
       "text": [
        "\n",
        "D:\\Data\\GPCP_annualMeanPNG//GPCP_CP_025.png"
       ]
      },
      {
       "output_type": "stream",
       "stream": "stdout",
       "text": [
        "\n",
        "D:\\Data\\GPCP_annualMeanPNG//GPCP_CP_033.png"
       ]
      },
      {
       "output_type": "stream",
       "stream": "stdout",
       "text": [
        "\n",
        "D:\\Data\\GPCP_annualMeanPNG//GPCP_CP_041.png"
       ]
      },
      {
       "output_type": "stream",
       "stream": "stdout",
       "text": [
        "\n",
        "D:\\Data\\GPCP_annualMeanPNG//GPCP_CP_049.png"
       ]
      },
      {
       "output_type": "stream",
       "stream": "stdout",
       "text": [
        "\n",
        "D:\\Data\\GPCP_annualMeanPNG//GPCP_CP_057.png"
       ]
      },
      {
       "output_type": "stream",
       "stream": "stdout",
       "text": [
        "\n",
        "D:\\Data\\GPCP_annualMeanPNG//GPCP_CP_065.png"
       ]
      },
      {
       "output_type": "stream",
       "stream": "stdout",
       "text": [
        "\n",
        "D:\\Data\\GPCP_annualMeanPNG//GPCP_CP_073.png"
       ]
      },
      {
       "output_type": "stream",
       "stream": "stdout",
       "text": [
        "\n",
        "D:\\Data\\GPCP_annualMeanPNG//GPCP_CP_081.png"
       ]
      },
      {
       "output_type": "stream",
       "stream": "stdout",
       "text": [
        "\n",
        "D:\\Data\\GPCP_annualMeanPNG//GPCP_CP_089.png"
       ]
      },
      {
       "output_type": "stream",
       "stream": "stdout",
       "text": [
        "\n",
        "D:\\Data\\GPCP_annualMeanPNG//GPCP_CP_097.png"
       ]
      },
      {
       "output_type": "stream",
       "stream": "stdout",
       "text": [
        "\n",
        "D:\\Data\\GPCP_annualMeanPNG//GPCP_CP_105.png"
       ]
      },
      {
       "output_type": "stream",
       "stream": "stdout",
       "text": [
        "\n",
        "D:\\Data\\GPCP_annualMeanPNG//GPCP_CP_113.png"
       ]
      },
      {
       "output_type": "stream",
       "stream": "stdout",
       "text": [
        "\n",
        "D:\\Data\\GPCP_annualMeanPNG//GPCP_CP_121.png"
       ]
      },
      {
       "output_type": "stream",
       "stream": "stdout",
       "text": [
        "\n",
        "D:\\Data\\GPCP_annualMeanPNG//GPCP_CP_129.png"
       ]
      },
      {
       "output_type": "stream",
       "stream": "stdout",
       "text": [
        "\n",
        "D:\\Data\\GPCP_annualMeanPNG//GPCP_CP_137.png"
       ]
      },
      {
       "output_type": "stream",
       "stream": "stdout",
       "text": [
        "\n",
        "D:\\Data\\GPCP_annualMeanPNG//GPCP_CP_145.png"
       ]
      },
      {
       "output_type": "stream",
       "stream": "stdout",
       "text": [
        "\n",
        "D:\\Data\\GPCP_annualMeanPNG//GPCP_CP_153.png"
       ]
      },
      {
       "output_type": "stream",
       "stream": "stdout",
       "text": [
        "\n",
        "D:\\Data\\GPCP_annualMeanPNG//GPCP_CP_161.png"
       ]
      },
      {
       "output_type": "stream",
       "stream": "stdout",
       "text": [
        "\n",
        "D:\\Data\\GPCP_annualMeanPNG//GPCP_CP_169.png"
       ]
      },
      {
       "output_type": "stream",
       "stream": "stdout",
       "text": [
        "\n",
        "D:\\Data\\GPCP_annualMeanPNG//GPCP_CP_177.png"
       ]
      },
      {
       "output_type": "stream",
       "stream": "stdout",
       "text": [
        "\n",
        "D:\\Data\\GPCP_annualMeanPNG//GPCP_CP_185.png"
       ]
      },
      {
       "output_type": "stream",
       "stream": "stdout",
       "text": [
        "\n",
        "D:\\Data\\GPCP_annualMeanPNG//GPCP_CP_193.png"
       ]
      },
      {
       "output_type": "stream",
       "stream": "stdout",
       "text": [
        "\n",
        "D:\\Data\\GPCP_annualMeanPNG//GPCP_CP_201.png"
       ]
      },
      {
       "output_type": "stream",
       "stream": "stdout",
       "text": [
        "\n",
        "D:\\Data\\GPCP_annualMeanPNG//GPCP_CP_209.png"
       ]
      },
      {
       "output_type": "stream",
       "stream": "stdout",
       "text": [
        "\n",
        "D:\\Data\\GPCP_annualMeanPNG//GPCP_CP_217.png"
       ]
      },
      {
       "output_type": "stream",
       "stream": "stdout",
       "text": [
        "\n",
        "D:\\Data\\GPCP_annualMeanPNG//GPCP_CP_225.png"
       ]
      },
      {
       "output_type": "stream",
       "stream": "stdout",
       "text": [
        "\n",
        "D:\\Data\\GPCP_annualMeanPNG//GPCP_CP_233.png"
       ]
      },
      {
       "output_type": "stream",
       "stream": "stdout",
       "text": [
        "\n",
        "D:\\Data\\GPCP_annualMeanPNG//GPCP_CP_241.png"
       ]
      },
      {
       "output_type": "stream",
       "stream": "stdout",
       "text": [
        "\n",
        "D:\\Data\\GPCP_annualMeanPNG//GPCP_CP_249.png"
       ]
      },
      {
       "output_type": "stream",
       "stream": "stdout",
       "text": [
        "\n",
        "D:\\Data\\GPCP_annualMeanPNG//GPCP_CP_257.png"
       ]
      },
      {
       "output_type": "stream",
       "stream": "stdout",
       "text": [
        "\n",
        "D:\\Data\\GPCP_annualMeanPNG//GPCP_CP_265.png"
       ]
      },
      {
       "output_type": "stream",
       "stream": "stdout",
       "text": [
        "\n",
        "D:\\Data\\GPCP_annualMeanPNG//GPCP_CP_273.png"
       ]
      },
      {
       "output_type": "stream",
       "stream": "stdout",
       "text": [
        "\n",
        "D:\\Data\\GPCP_annualMeanPNG//GPCP_CP_281.png"
       ]
      },
      {
       "output_type": "stream",
       "stream": "stdout",
       "text": [
        "\n",
        "D:\\Data\\GPCP_annualMeanPNG//GPCP_CP_289.png"
       ]
      },
      {
       "output_type": "stream",
       "stream": "stdout",
       "text": [
        "\n",
        "D:\\Data\\GPCP_annualMeanPNG//GPCP_CP_297.png"
       ]
      },
      {
       "output_type": "stream",
       "stream": "stdout",
       "text": [
        "\n",
        "D:\\Data\\GPCP_annualMeanPNG//GPCP_CP_305.png"
       ]
      },
      {
       "output_type": "stream",
       "stream": "stdout",
       "text": [
        "\n",
        "D:\\Data\\GPCP_annualMeanPNG//GPCP_CP_313.png"
       ]
      },
      {
       "output_type": "stream",
       "stream": "stdout",
       "text": [
        "\n",
        "D:\\Data\\GPCP_annualMeanPNG//GPCP_CP_321.png"
       ]
      },
      {
       "output_type": "stream",
       "stream": "stdout",
       "text": [
        "\n",
        "D:\\Data\\GPCP_annualMeanPNG//GPCP_CP_329.png"
       ]
      },
      {
       "output_type": "stream",
       "stream": "stdout",
       "text": [
        "\n",
        "D:\\Data\\GPCP_annualMeanPNG//GPCP_CP_337.png"
       ]
      },
      {
       "output_type": "stream",
       "stream": "stdout",
       "text": [
        "\n",
        "D:\\Data\\GPCP_annualMeanPNG//GPCP_CP_345.png"
       ]
      },
      {
       "output_type": "stream",
       "stream": "stdout",
       "text": [
        "\n",
        "D:\\Data\\GPCP_annualMeanPNG//GPCP_CP_353.png"
       ]
      },
      {
       "output_type": "stream",
       "stream": "stdout",
       "text": [
        "\n",
        "D:\\Data\\GPCP_annualMeanPNG//GPCP_CP_361.png"
       ]
      },
      {
       "output_type": "stream",
       "stream": "stdout",
       "text": [
        "\n"
       ]
      }
     ],
     "prompt_number": 37
    },
    {
     "cell_type": "code",
     "collapsed": false,
     "input": [
      "array1.shape"
     ],
     "language": "python",
     "metadata": {},
     "outputs": [
      {
       "metadata": {},
       "output_type": "pyout",
       "prompt_number": 9,
       "text": [
        "(72L, 144L)"
       ]
      }
     ],
     "prompt_number": 9
    },
    {
     "cell_type": "code",
     "collapsed": false,
     "input": [
      "array = np.random.randint(0,25,size=[3,3,3])\n",
      "mask = np.ma.masked_values(array, array[0,0,0])\n",
      "mask.mean(axis=0)"
     ],
     "language": "python",
     "metadata": {},
     "outputs": []
    },
    {
     "cell_type": "code",
     "collapsed": false,
     "input": [
      "a = array = np.random.randint(0,25,size=[3,3])\n",
      "b = array = np.random.randint(0,25,size=[3,3])\n",
      "a = a[None]\n",
      "b = b[None]\n",
      "print (a)\n",
      "print (b)"
     ],
     "language": "python",
     "metadata": {},
     "outputs": []
    },
    {
     "cell_type": "code",
     "collapsed": false,
     "input": [
      "c = np.full_like(a, -99)\n",
      "c = np.vstack((c, a))\n",
      "c"
     ],
     "language": "python",
     "metadata": {},
     "outputs": []
    },
    {
     "cell_type": "code",
     "collapsed": false,
     "input": [
      "#c = np.zeros_like(a)\n",
      "c = np.vstack((c, b), )\n",
      "c"
     ],
     "language": "python",
     "metadata": {},
     "outputs": []
    },
    {
     "cell_type": "code",
     "collapsed": false,
     "input": [
      "c = np.ma.masked_values(c, -99)\n",
      "#c = c.mean(axis=0)"
     ],
     "language": "python",
     "metadata": {},
     "outputs": []
    },
    {
     "cell_type": "code",
     "collapsed": false,
     "input": [
      "c.sum(axis=0)"
     ],
     "language": "python",
     "metadata": {},
     "outputs": []
    },
    {
     "cell_type": "code",
     "collapsed": false,
     "input": [],
     "language": "python",
     "metadata": {},
     "outputs": []
    }
   ],
   "metadata": {}
  }
 ]
}