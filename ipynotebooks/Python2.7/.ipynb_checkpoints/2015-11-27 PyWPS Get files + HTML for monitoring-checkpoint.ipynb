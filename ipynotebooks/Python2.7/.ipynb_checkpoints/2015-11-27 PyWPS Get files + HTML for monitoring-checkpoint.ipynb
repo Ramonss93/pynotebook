{
 "metadata": {
  "name": "",
  "signature": "sha256:9f462961ea20d937cf88860e19c0045f8dacedac8cadbb726e07392895e2c945"
 },
 "nbformat": 3,
 "nbformat_minor": 0,
 "worksheets": [
  {
   "cells": [
    {
     "cell_type": "code",
     "collapsed": false,
     "input": [
      "from pywps.Process import WPSProcess \n",
      "import os\n",
      "import logging\n",
      "from cStringIO import StringIO\n",
      "from datetime import datetime, timedelta"
     ],
     "language": "python",
     "metadata": {},
     "outputs": [],
     "prompt_number": 1
    },
    {
     "cell_type": "code",
     "collapsed": false,
     "input": [
      "def listall(RootFolder, varname='',extension='.png'):\n",
      "    lists = [os.path.join(root, name)\n",
      "             for root, dirs, files in os.walk(RootFolder)\n",
      "             for name in files\n",
      "             if varname in name\n",
      "             if name.endswith(extension)]\n",
      "    return lists"
     ],
     "language": "python",
     "metadata": {},
     "outputs": [],
     "prompt_number": 2
    },
    {
     "cell_type": "code",
     "collapsed": false,
     "input": [
      "def getHTML():\n",
      "    listHTML = []\n",
      "    path_to_maps = r'D:\\MicrosoftEdgeDownloads\\drought_monitoring\\drought_monitoring\\img_small'\n",
      "    filenames = listall(path_to_maps)\n",
      "    for file_path in filenames:\n",
      "        #print file_path\n",
      "        year = int(file_path[-8:-4])\n",
      "        days = int(file_path[-11:-8])        \n",
      "        file_date = datetime(year, 1, 1) + timedelta(days - 1)\n",
      "        file_date = str(file_date.year)+'-'+str(file_date.month)+'-'+str(file_date.day)\n",
      "        listHTML.append('<div class=\"rsContent\"><a class=\"rsImg\" href=\"'+file_path+\n",
      "                        '\"></a><i class=\"rsTmb\">'+file_date+'</i></div>')\n",
      "    strHTML = ''.join(listHTML)\n",
      "    output = StringIO()\n",
      "    output.write(strHTML)\n",
      "    id_ = len(filenames) - 1\n",
      "    return output, id_"
     ],
     "language": "python",
     "metadata": {},
     "outputs": [],
     "prompt_number": 3
    },
    {
     "cell_type": "code",
     "collapsed": false,
     "input": [
      "class Process(WPSProcess):\n",
      "\n",
      "\n",
      "    def __init__(self):\n",
      "\n",
      "        ##\n",
      "        # Process initialization\n",
      "        WPSProcess.__init__(self,\n",
      "            identifier      = \"WPS_GETHTML\",\n",
      "            title           = \"Get HTML to be ingested into the drought monitoring viewer\",\n",
      "            abstract        = \"Module to get list of all images as HTML\",\n",
      "            version         = \"1.0\",\n",
      "            storeSupported  = True,\n",
      "            statusSupported = True)\n",
      "\n",
      "        ##\n",
      "#        # Adding process inputs\n",
      "#        self.process_input = self.addLiteralInput(identifier=\"input\",\n",
      "#                                                  title=\"Chinese Province\",\n",
      "#                                                  type=type(''))\n",
      "        ##\n",
      "        # Adding process outputs\n",
      "\n",
      "        self.flsHTML = self.addComplexOutput(identifier  = \"filesHTML\", \n",
      "                                             title       = \"HTML to be loaded into the viewer\",\n",
      "                                             formats     = [{'mimeType':'text/xml'}]) \n",
      "        self.slideID = self.addLiteralOutput(identifier  = \"slideID\", \n",
      "                                             title       = \"slideID of the most recent observation\") \n",
      "        \n",
      "    ##\n",
      "    # Execution part of the process\n",
      "    def execute(self):\n",
      "        # Load the data\n",
      "        #process_input = str(self.process_input.getValue())\n",
      "        \n",
      "        # Do the Work\n",
      "        filesHTML, slideID = getHTML()\n",
      "        logging.info('ID number most recent observation: '+slideID)\n",
      "\n",
      "        # Save to out        \n",
      "        self.flsHTML.setValue( filesHTML )\n",
      "        self.slideID.setValue( slideID )        \n",
      "\n",
      "        return"
     ],
     "language": "python",
     "metadata": {},
     "outputs": [],
     "prompt_number": 4
    },
    {
     "cell_type": "code",
     "collapsed": false,
     "input": [
      "getHTML()"
     ],
     "language": "python",
     "metadata": {},
     "outputs": [
      {
       "metadata": {},
       "output_type": "pyout",
       "prompt_number": 5,
       "text": [
        "(<cStringIO.StringO at 0x35d7d60>, 11)"
       ]
      }
     ],
     "prompt_number": 5
    },
    {
     "cell_type": "code",
     "collapsed": false,
     "input": [],
     "language": "python",
     "metadata": {},
     "outputs": []
    }
   ],
   "metadata": {}
  }
 ]
}