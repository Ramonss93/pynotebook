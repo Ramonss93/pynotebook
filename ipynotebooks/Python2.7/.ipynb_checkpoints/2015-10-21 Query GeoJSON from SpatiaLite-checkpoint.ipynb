{
 "metadata": {
  "name": "",
  "signature": "sha256:40a0f7c683b7910fd610b32fad10d1cdc466ca73ba2944a16ec48ce2cf79150d"
 },
 "nbformat": 3,
 "nbformat_minor": 0,
 "worksheets": [
  {
   "cells": [
    {
     "cell_type": "code",
     "collapsed": false,
     "input": [
      "import os"
     ],
     "language": "python",
     "metadata": {},
     "outputs": []
    },
    {
     "cell_type": "code",
     "collapsed": false,
     "input": [
      "import sqlite3"
     ],
     "language": "python",
     "metadata": {},
     "outputs": []
    },
    {
     "cell_type": "code",
     "collapsed": false,
     "input": [
      "import geojson"
     ],
     "language": "python",
     "metadata": {},
     "outputs": []
    },
    {
     "cell_type": "code",
     "collapsed": false,
     "input": [
      "# create a new Spatialite database file (and delete any existing of the same name)\n",
      "if os.path.exists('MyDatabase.sqlite'):\n",
      "    os.remove('MyDatabase.sqlite')\n",
      "conn = sqlite3.connect('MyDatabase.sqlite')\n",
      "\n",
      "# load spatialite extensions for SQLite.\n",
      "# on Windows: make sure to have the mod_spatialite.dll somewhere in your system path.\n",
      "# on Linux: to my knowledge the file is called mod_spatialite.so and also should be located in a directory available in your system path.\n",
      "conn.enable_load_extension(True)\n",
      "conn.execute('SELECT load_extension(\"mod_spatialite.dll\")')"
     ],
     "language": "python",
     "metadata": {},
     "outputs": []
    },
    {
     "cell_type": "code",
     "collapsed": false,
     "input": [
      "conn"
     ],
     "language": "python",
     "metadata": {},
     "outputs": []
    },
    {
     "cell_type": "code",
     "collapsed": false,
     "input": [],
     "language": "python",
     "metadata": {},
     "outputs": []
    }
   ],
   "metadata": {}
  }
 ]
}