{
 "metadata": {
  "name": "",
  "signature": "sha256:ee7fa614317b37179df9cb75e34778af4fa1dbc7932da675edfe118de7aa9027"
 },
 "nbformat": 3,
 "nbformat_minor": 0,
 "worksheets": []
}