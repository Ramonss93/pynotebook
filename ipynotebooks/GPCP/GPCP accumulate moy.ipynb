{
 "metadata": {
  "name": ""
 },
 "nbformat": 3,
 "nbformat_minor": 0,
 "worksheets": [
  {
   "cells": [
    {
     "cell_type": "code",
     "collapsed": false,
     "input": [
      "from mattijn import dikkelul\n",
      "from osgeo import gdal\n",
      "import numpy as np\n",
      "import os\n",
      "import pandas as pd"
     ],
     "language": "python",
     "metadata": {},
     "outputs": [],
     "prompt_number": 11
    },
    {
     "cell_type": "markdown",
     "metadata": {},
     "source": [
      "Accumulate and vstack each of moy and save result as new tif file"
     ]
    },
    {
     "cell_type": "code",
     "collapsed": false,
     "input": [
      "path = r'D:\\Downloads\\LiZhangsheng@Mattijn\\GPCP22'\n",
      "files = dikkelul.FilesFolder(path, '.tif')\n",
      "ds = gdal.Open(files[0])\n",
      "band = ds.GetRasterBand(1)\n",
      "nan = band.GetNoDataValue()\n",
      "\n",
      "ds_arr = ds.ReadAsArray()\n",
      "base = np.full_like(ds_arr, nan)\n",
      "base = base[None]\n",
      "\n",
      "for i in range(2000,2014):\n",
      "    for j in files:\n",
      "        if i == int(j[-10:-6]):\n",
      "            array = gdal.Open(j).ReadAsArray()\n",
      "            array = array[None]\n",
      "            \n",
      "            base = np.vstack((base,array))\n",
      "            base = np.ma.masked_equal(base, nan)\n",
      "            base = np.sum(base, axis=0)\n",
      "            \n",
      "            folder = r'D:\\Data\\GPCP_6_moy_accumulated//'\n",
      "            outpth = folder+'GPCP'+j[-10::]\n",
      "            print (outpth)\n",
      "            dikkelul.saveRaster(outpth, base, ds, 6, nan=nan)\n",
      "            base = base[None]\n",
      "\n",
      "    "
     ],
     "language": "python",
     "metadata": {},
     "outputs": [
      {
       "output_type": "stream",
       "stream": "stdout",
       "text": [
        "D:\\Data\\GPCP_6_moy_accumulated//GPCP200001.tif\n",
        "D:\\Data\\GPCP_6_moy_accumulated//GPCP200002.tif\n",
        "D:\\Data\\GPCP_6_moy_accumulated//GPCP200003.tif\n",
        "D:\\Data\\GPCP_6_moy_accumulated//GPCP200004.tif\n",
        "D:\\Data\\GPCP_6_moy_accumulated//GPCP200005.tif\n",
        "D:\\Data\\GPCP_6_moy_accumulated//GPCP200006.tif\n",
        "D:\\Data\\GPCP_6_moy_accumulated//GPCP200007.tif\n",
        "D:\\Data\\GPCP_6_moy_accumulated//GPCP200008.tif\n",
        "D:\\Data\\GPCP_6_moy_accumulated//GPCP200009.tif\n",
        "D:\\Data\\GPCP_6_moy_accumulated//GPCP200010.tif\n",
        "D:\\Data\\GPCP_6_moy_accumulated//GPCP200011.tif\n",
        "D:\\Data\\GPCP_6_moy_accumulated//GPCP200012.tif\n",
        "D:\\Data\\GPCP_6_moy_accumulated//GPCP200101.tif\n",
        "D:\\Data\\GPCP_6_moy_accumulated//GPCP200102.tif\n",
        "D:\\Data\\GPCP_6_moy_accumulated//GPCP200103.tif\n",
        "D:\\Data\\GPCP_6_moy_accumulated//GPCP200104.tif\n",
        "D:\\Data\\GPCP_6_moy_accumulated//GPCP200105.tif\n",
        "D:\\Data\\GPCP_6_moy_accumulated//GPCP200106.tif\n",
        "D:\\Data\\GPCP_6_moy_accumulated//GPCP200107.tif\n",
        "D:\\Data\\GPCP_6_moy_accumulated//GPCP200108.tif\n",
        "D:\\Data\\GPCP_6_moy_accumulated//GPCP200109.tif\n",
        "D:\\Data\\GPCP_6_moy_accumulated//GPCP200110.tif\n",
        "D:\\Data\\GPCP_6_moy_accumulated//GPCP200111.tif"
       ]
      },
      {
       "output_type": "stream",
       "stream": "stdout",
       "text": [
        "\n",
        "D:\\Data\\GPCP_6_moy_accumulated//GPCP200112.tif\n",
        "D:\\Data\\GPCP_6_moy_accumulated//GPCP200201.tif\n",
        "D:\\Data\\GPCP_6_moy_accumulated//GPCP200202.tif\n",
        "D:\\Data\\GPCP_6_moy_accumulated//GPCP200203.tif\n",
        "D:\\Data\\GPCP_6_moy_accumulated//GPCP200204.tif\n",
        "D:\\Data\\GPCP_6_moy_accumulated//GPCP200205.tif\n",
        "D:\\Data\\GPCP_6_moy_accumulated//GPCP200206.tif\n",
        "D:\\Data\\GPCP_6_moy_accumulated//GPCP200207.tif\n",
        "D:\\Data\\GPCP_6_moy_accumulated//GPCP200208.tif\n",
        "D:\\Data\\GPCP_6_moy_accumulated//GPCP200209.tif\n",
        "D:\\Data\\GPCP_6_moy_accumulated//GPCP200210.tif\n",
        "D:\\Data\\GPCP_6_moy_accumulated//GPCP200211.tif\n",
        "D:\\Data\\GPCP_6_moy_accumulated//GPCP200212.tif\n",
        "D:\\Data\\GPCP_6_moy_accumulated//GPCP200301.tif\n",
        "D:\\Data\\GPCP_6_moy_accumulated//GPCP200302.tif\n",
        "D:\\Data\\GPCP_6_moy_accumulated//GPCP200303.tif\n",
        "D:\\Data\\GPCP_6_moy_accumulated//GPCP200304.tif\n",
        "D:\\Data\\GPCP_6_moy_accumulated//GPCP200305.tif\n",
        "D:\\Data\\GPCP_6_moy_accumulated//GPCP200306.tif\n",
        "D:\\Data\\GPCP_6_moy_accumulated//GPCP200307.tif"
       ]
      },
      {
       "output_type": "stream",
       "stream": "stdout",
       "text": [
        "\n",
        "D:\\Data\\GPCP_6_moy_accumulated//GPCP200308.tif\n",
        "D:\\Data\\GPCP_6_moy_accumulated//GPCP200309.tif\n",
        "D:\\Data\\GPCP_6_moy_accumulated//GPCP200310.tif\n",
        "D:\\Data\\GPCP_6_moy_accumulated//GPCP200311.tif\n",
        "D:\\Data\\GPCP_6_moy_accumulated//GPCP200312.tif\n",
        "D:\\Data\\GPCP_6_moy_accumulated//GPCP200401.tif\n",
        "D:\\Data\\GPCP_6_moy_accumulated//GPCP200402.tif\n",
        "D:\\Data\\GPCP_6_moy_accumulated//GPCP200403.tif\n",
        "D:\\Data\\GPCP_6_moy_accumulated//GPCP200404.tif\n",
        "D:\\Data\\GPCP_6_moy_accumulated//GPCP200405.tif\n",
        "D:\\Data\\GPCP_6_moy_accumulated//GPCP200406.tif\n",
        "D:\\Data\\GPCP_6_moy_accumulated//GPCP200407.tif\n",
        "D:\\Data\\GPCP_6_moy_accumulated//GPCP200408.tif\n",
        "D:\\Data\\GPCP_6_moy_accumulated//GPCP200409.tif\n",
        "D:\\Data\\GPCP_6_moy_accumulated//GPCP200410.tif\n",
        "D:\\Data\\GPCP_6_moy_accumulated//GPCP200411.tif\n",
        "D:\\Data\\GPCP_6_moy_accumulated//GPCP200412.tif\n",
        "D:\\Data\\GPCP_6_moy_accumulated//GPCP200501.tif\n",
        "D:\\Data\\GPCP_6_moy_accumulated//GPCP200502.tif"
       ]
      },
      {
       "output_type": "stream",
       "stream": "stdout",
       "text": [
        "\n",
        "D:\\Data\\GPCP_6_moy_accumulated//GPCP200503.tif\n",
        "D:\\Data\\GPCP_6_moy_accumulated//GPCP200504.tif\n",
        "D:\\Data\\GPCP_6_moy_accumulated//GPCP200505.tif\n",
        "D:\\Data\\GPCP_6_moy_accumulated//GPCP200506.tif\n",
        "D:\\Data\\GPCP_6_moy_accumulated//GPCP200507.tif\n",
        "D:\\Data\\GPCP_6_moy_accumulated//GPCP200508.tif\n",
        "D:\\Data\\GPCP_6_moy_accumulated//GPCP200509.tif\n",
        "D:\\Data\\GPCP_6_moy_accumulated//GPCP200510.tif\n",
        "D:\\Data\\GPCP_6_moy_accumulated//GPCP200511.tif\n",
        "D:\\Data\\GPCP_6_moy_accumulated//GPCP200512.tif\n",
        "D:\\Data\\GPCP_6_moy_accumulated//GPCP200601.tif\n",
        "D:\\Data\\GPCP_6_moy_accumulated//GPCP200602.tif\n",
        "D:\\Data\\GPCP_6_moy_accumulated//GPCP200603.tif\n",
        "D:\\Data\\GPCP_6_moy_accumulated//GPCP200604.tif\n",
        "D:\\Data\\GPCP_6_moy_accumulated//GPCP200605.tif\n",
        "D:\\Data\\GPCP_6_moy_accumulated//GPCP200606.tif\n",
        "D:\\Data\\GPCP_6_moy_accumulated//GPCP200607.tif\n",
        "D:\\Data\\GPCP_6_moy_accumulated//GPCP200608.tif\n",
        "D:\\Data\\GPCP_6_moy_accumulated//GPCP200609.tif\n",
        "D:\\Data\\GPCP_6_moy_accumulated//GPCP200610.tif\n",
        "D:\\Data\\GPCP_6_moy_accumulated//GPCP200611.tif"
       ]
      },
      {
       "output_type": "stream",
       "stream": "stdout",
       "text": [
        "\n",
        "D:\\Data\\GPCP_6_moy_accumulated//GPCP200612.tif\n",
        "D:\\Data\\GPCP_6_moy_accumulated//GPCP200701.tif\n",
        "D:\\Data\\GPCP_6_moy_accumulated//GPCP200702.tif\n",
        "D:\\Data\\GPCP_6_moy_accumulated//GPCP200703.tif\n",
        "D:\\Data\\GPCP_6_moy_accumulated//GPCP200704.tif\n",
        "D:\\Data\\GPCP_6_moy_accumulated//GPCP200705.tif\n",
        "D:\\Data\\GPCP_6_moy_accumulated//GPCP200706.tif\n",
        "D:\\Data\\GPCP_6_moy_accumulated//GPCP200707.tif\n",
        "D:\\Data\\GPCP_6_moy_accumulated//GPCP200708.tif\n",
        "D:\\Data\\GPCP_6_moy_accumulated//GPCP200709.tif\n",
        "D:\\Data\\GPCP_6_moy_accumulated//GPCP200710.tif\n",
        "D:\\Data\\GPCP_6_moy_accumulated//GPCP200711.tif\n",
        "D:\\Data\\GPCP_6_moy_accumulated//GPCP200712.tif\n",
        "D:\\Data\\GPCP_6_moy_accumulated//GPCP200801.tif\n",
        "D:\\Data\\GPCP_6_moy_accumulated//GPCP200802.tif\n",
        "D:\\Data\\GPCP_6_moy_accumulated//GPCP200803.tif\n",
        "D:\\Data\\GPCP_6_moy_accumulated//GPCP200804.tif\n",
        "D:\\Data\\GPCP_6_moy_accumulated//GPCP200805.tif\n",
        "D:\\Data\\GPCP_6_moy_accumulated//GPCP200806.tif\n",
        "D:\\Data\\GPCP_6_moy_accumulated//GPCP200807.tif\n",
        "D:\\Data\\GPCP_6_moy_accumulated//GPCP200808.tif"
       ]
      },
      {
       "output_type": "stream",
       "stream": "stdout",
       "text": [
        "\n",
        "D:\\Data\\GPCP_6_moy_accumulated//GPCP200809.tif\n",
        "D:\\Data\\GPCP_6_moy_accumulated//GPCP200810.tif\n",
        "D:\\Data\\GPCP_6_moy_accumulated//GPCP200811.tif\n",
        "D:\\Data\\GPCP_6_moy_accumulated//GPCP200812.tif\n",
        "D:\\Data\\GPCP_6_moy_accumulated//GPCP200901.tif\n",
        "D:\\Data\\GPCP_6_moy_accumulated//GPCP200902.tif\n",
        "D:\\Data\\GPCP_6_moy_accumulated//GPCP200903.tif\n",
        "D:\\Data\\GPCP_6_moy_accumulated//GPCP200904.tif\n",
        "D:\\Data\\GPCP_6_moy_accumulated//GPCP200905.tif\n",
        "D:\\Data\\GPCP_6_moy_accumulated//GPCP200906.tif\n",
        "D:\\Data\\GPCP_6_moy_accumulated//GPCP200907.tif\n",
        "D:\\Data\\GPCP_6_moy_accumulated//GPCP200908.tif\n",
        "D:\\Data\\GPCP_6_moy_accumulated//GPCP200909.tif\n",
        "D:\\Data\\GPCP_6_moy_accumulated//GPCP200910.tif\n",
        "D:\\Data\\GPCP_6_moy_accumulated//GPCP200911.tif\n",
        "D:\\Data\\GPCP_6_moy_accumulated//GPCP200912.tif\n",
        "D:\\Data\\GPCP_6_moy_accumulated//GPCP201001.tif\n",
        "D:\\Data\\GPCP_6_moy_accumulated//GPCP201002.tif\n",
        "D:\\Data\\GPCP_6_moy_accumulated//GPCP201003.tif\n",
        "D:\\Data\\GPCP_6_moy_accumulated//GPCP201004.tif\n",
        "D:\\Data\\GPCP_6_moy_accumulated//GPCP201005.tif\n",
        "D:\\Data\\GPCP_6_moy_accumulated//GPCP201006.tif\n",
        "D:\\Data\\GPCP_6_moy_accumulated//GPCP201007.tif\n",
        "D:\\Data\\GPCP_6_moy_accumulated//GPCP201008.tif"
       ]
      },
      {
       "output_type": "stream",
       "stream": "stdout",
       "text": [
        "\n",
        "D:\\Data\\GPCP_6_moy_accumulated//GPCP201009.tif\n",
        "D:\\Data\\GPCP_6_moy_accumulated//GPCP201010.tif\n",
        "D:\\Data\\GPCP_6_moy_accumulated//GPCP201011.tif\n",
        "D:\\Data\\GPCP_6_moy_accumulated//GPCP201012.tif\n",
        "D:\\Data\\GPCP_6_moy_accumulated//GPCP201101.tif\n",
        "D:\\Data\\GPCP_6_moy_accumulated//GPCP201102.tif\n",
        "D:\\Data\\GPCP_6_moy_accumulated//GPCP201103.tif\n",
        "D:\\Data\\GPCP_6_moy_accumulated//GPCP201104.tif\n",
        "D:\\Data\\GPCP_6_moy_accumulated//GPCP201105.tif\n",
        "D:\\Data\\GPCP_6_moy_accumulated//GPCP201106.tif\n",
        "D:\\Data\\GPCP_6_moy_accumulated//GPCP201107.tif\n",
        "D:\\Data\\GPCP_6_moy_accumulated//GPCP201108.tif\n",
        "D:\\Data\\GPCP_6_moy_accumulated//GPCP201109.tif\n",
        "D:\\Data\\GPCP_6_moy_accumulated//GPCP201110.tif\n",
        "D:\\Data\\GPCP_6_moy_accumulated//GPCP201111.tif\n",
        "D:\\Data\\GPCP_6_moy_accumulated//GPCP201112.tif\n",
        "D:\\Data\\GPCP_6_moy_accumulated//GPCP201201.tif\n",
        "D:\\Data\\GPCP_6_moy_accumulated//GPCP201202.tif\n",
        "D:\\Data\\GPCP_6_moy_accumulated//GPCP201203.tif\n",
        "D:\\Data\\GPCP_6_moy_accumulated//GPCP201204.tif\n",
        "D:\\Data\\GPCP_6_moy_accumulated//GPCP201205.tif\n",
        "D:\\Data\\GPCP_6_moy_accumulated//GPCP201206.tif\n",
        "D:\\Data\\GPCP_6_moy_accumulated//GPCP201207.tif\n",
        "D:\\Data\\GPCP_6_moy_accumulated//GPCP201208.tif"
       ]
      },
      {
       "output_type": "stream",
       "stream": "stdout",
       "text": [
        "\n",
        "D:\\Data\\GPCP_6_moy_accumulated//GPCP201209.tif\n",
        "D:\\Data\\GPCP_6_moy_accumulated//GPCP201210.tif\n",
        "D:\\Data\\GPCP_6_moy_accumulated//GPCP201211.tif\n",
        "D:\\Data\\GPCP_6_moy_accumulated//GPCP201212.tif\n",
        "D:\\Data\\GPCP_6_moy_accumulated//GPCP201301.tif\n",
        "D:\\Data\\GPCP_6_moy_accumulated//GPCP201302.tif\n",
        "D:\\Data\\GPCP_6_moy_accumulated//GPCP201303.tif\n",
        "D:\\Data\\GPCP_6_moy_accumulated//GPCP201304.tif\n",
        "D:\\Data\\GPCP_6_moy_accumulated//GPCP201305.tif\n",
        "D:\\Data\\GPCP_6_moy_accumulated//GPCP201306.tif\n",
        "D:\\Data\\GPCP_6_moy_accumulated//GPCP201307.tif\n",
        "D:\\Data\\GPCP_6_moy_accumulated//GPCP201308.tif\n",
        "D:\\Data\\GPCP_6_moy_accumulated//GPCP201309.tif\n",
        "D:\\Data\\GPCP_6_moy_accumulated//GPCP201310.tif\n",
        "D:\\Data\\GPCP_6_moy_accumulated//GPCP201311.tif\n",
        "D:\\Data\\GPCP_6_moy_accumulated//GPCP201312.tif\n"
       ]
      }
     ],
     "prompt_number": 10
    },
    {
     "cell_type": "markdown",
     "metadata": {},
     "source": [
      "Use accumulated tif files and vstack them to be able to plot accumulated timeseries"
     ]
    },
    {
     "cell_type": "code",
     "collapsed": false,
     "input": [
      "path = r'D:\\Data\\GPCP_6_moy_accumulated//'\n",
      "files = dikkelul.FilesFolder(path, '.tif')\n",
      "\n",
      "ds = gdal.Open(files[0])\n",
      "band = ds.GetRasterBand(1)\n",
      "nan = band.GetNoDataValue()\n",
      "\n",
      "ds_arr = ds.ReadAsArray()\n",
      "base = np.full_like(ds_arr, nan)\n",
      "base = base[None]\n",
      "\n",
      "for i in range(2006,2007):\n",
      "    for j in files:\n",
      "        if i == int(j[-10:-6]):\n",
      "            array = gdal.Open(j).ReadAsArray()\n",
      "            array = array[None]\n",
      "            \n",
      "            base = np.vstack((base,array))\n",
      "            base = np.ma.masked_equal(base, nan)"
     ],
     "language": "python",
     "metadata": {},
     "outputs": [],
     "prompt_number": 24
    },
    {
     "cell_type": "markdown",
     "metadata": {},
     "source": [
      "Use pandas to plot single point"
     ]
    },
    {
     "cell_type": "code",
     "collapsed": false,
     "input": [
      "series = pd.Series(base[:,20,50])\n",
      "series.plot()\n",
      "series"
     ],
     "language": "python",
     "metadata": {},
     "outputs": [
      {
       "metadata": {},
       "output_type": "pyout",
       "prompt_number": 25,
       "text": [
        "0            NaN\n",
        "1     218.840836\n",
        "2     219.451492\n",
        "3     219.959167\n",
        "4     222.357361\n",
        "5     225.468857\n",
        "6     231.767105\n",
        "7     243.891922\n",
        "8     247.709778\n",
        "9     248.613678\n",
        "10    251.138763\n",
        "11    251.858658\n",
        "12    252.470108\n",
        "dtype: float32"
       ]
      },
      {
       "metadata": {},
       "output_type": "display_data",
       "png": "[encoded data removed]",
       "text": [
        "<matplotlib.figure.Figure at 0x96a5c50>"
       ]
      }
     ],
     "prompt_number": 25
    },
    {
     "cell_type": "code",
     "collapsed": false,
     "input": [
      "path = r'D:\\Data\\NVAI//'\n",
      "files = dikkelul.FilesFolder(path, '.tif')\n",
      "\n",
      "ds = gdal.Open(files[0])\n",
      "band = ds.GetRasterBand(1)\n",
      "nan = band.GetNoDataValue()\n",
      "\n",
      "ds_arr = ds.ReadAsArray()\n",
      "base = np.full_like(ds_arr, nan)\n",
      "base = base[None]\n",
      "\n",
      "for i in range(2006,2007):\n",
      "    for j in files:\n",
      "        if i == int(j[-11:-7]):\n",
      "            array = gdal.Open(j).ReadAsArray()\n",
      "            array = array[None]\n",
      "            \n",
      "            base = np.vstack((base,array))\n",
      "            base = np.ma.masked_equal(base, nan)"
     ],
     "language": "python",
     "metadata": {},
     "outputs": [],
     "prompt_number": 31
    },
    {
     "cell_type": "code",
     "collapsed": false,
     "input": [
      "series = pd.Series(base[:,879,4142])\n",
      "series.plot()\n",
      "series"
     ],
     "language": "python",
     "metadata": {},
     "outputs": [
      {
       "metadata": {},
       "output_type": "pyout",
       "prompt_number": 30,
       "text": [
        "'2010'"
       ]
      }
     ],
     "prompt_number": 30
    }
   ],
   "metadata": {}
  }
 ]
}