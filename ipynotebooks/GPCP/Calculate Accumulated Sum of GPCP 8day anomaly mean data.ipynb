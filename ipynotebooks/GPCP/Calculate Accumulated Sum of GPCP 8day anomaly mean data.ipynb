{
 "metadata": {
  "name": ""
 },
 "nbformat": 3,
 "nbformat_minor": 0,
 "worksheets": [
  {
   "cells": [
    {
     "cell_type": "code",
     "collapsed": false,
     "input": [
      "from mattijn import dikkelul\n",
      "import os\n",
      "from osgeo import gdal, osr\n",
      "import numpy as np"
     ],
     "language": "python",
     "metadata": {},
     "outputs": [],
     "prompt_number": 1
    },
    {
     "cell_type": "code",
     "collapsed": false,
     "input": [
      "path = r'D:\\Data\\GPCP_annualMean'\n",
      "files = dikkelul.FilesFolder(path, '.tif')"
     ],
     "language": "python",
     "metadata": {},
     "outputs": [],
     "prompt_number": 2
    },
    {
     "cell_type": "code",
     "collapsed": false,
     "input": [
      "ds = gdal.Open(files[0])\n",
      "band = ds.GetRasterBand(1)\n",
      "barray = band.ReadAsArray()\n",
      "nan = band.GetNoDataValue()"
     ],
     "language": "python",
     "metadata": {},
     "outputs": [],
     "prompt_number": 4
    },
    {
     "cell_type": "code",
     "collapsed": false,
     "input": [
      "outfolder = r'D:\\Data\\GPCP_accumulatedMean//'"
     ],
     "language": "python",
     "metadata": {},
     "outputs": [],
     "prompt_number": 5
    },
    {
     "cell_type": "code",
     "collapsed": false,
     "input": [
      "base = np.full_like(barray, nan)\n",
      "base = base[None] # add another dimenstion for vstack\n",
      "for fil in files:    \n",
      "    #print (fil)\n",
      "    array = gdal.Open(fil).ReadAsArray().astype(float)\n",
      "    array = array[None] # add another dimension for vstack\n",
      "    base = np.vstack((base,array)) # vstack all rasters with same doy\n",
      "        \n",
      "    # mask where value is nan\n",
      "    base = np.ma.masked_equal(base, nan)        \n",
      "    base = np.sum(base, axis=0) # calculate sum\n",
      "    \n",
      "    outpath = outfolder+fil[-12::]\n",
      "    print (outpath)\n",
      "    dikkelul.saveRaster(outpath, base, ds, 6, nan=nan)\n",
      "    \n",
      "    # set values for new loop\n",
      "    base = base.data\n",
      "    base = base[None]"
     ],
     "language": "python",
     "metadata": {},
     "outputs": [
      {
       "output_type": "stream",
       "stream": "stdout",
       "text": [
        "D:\\Data\\GPCP_accumulatedMean//GPCP_001.tif\n",
        "D:\\Data\\GPCP_accumulatedMean//GPCP_009.tif"
       ]
      },
      {
       "output_type": "stream",
       "stream": "stdout",
       "text": [
        "\n",
        "D:\\Data\\GPCP_accumulatedMean//GPCP_017.tif"
       ]
      },
      {
       "output_type": "stream",
       "stream": "stdout",
       "text": [
        "\n",
        "D:\\Data\\GPCP_accumulatedMean//GPCP_025.tif"
       ]
      },
      {
       "output_type": "stream",
       "stream": "stdout",
       "text": [
        "\n",
        "D:\\Data\\GPCP_accumulatedMean//GPCP_033.tif"
       ]
      },
      {
       "output_type": "stream",
       "stream": "stdout",
       "text": [
        "\n",
        "D:\\Data\\GPCP_accumulatedMean//GPCP_041.tif"
       ]
      },
      {
       "output_type": "stream",
       "stream": "stdout",
       "text": [
        "\n",
        "D:\\Data\\GPCP_accumulatedMean//GPCP_049.tif"
       ]
      },
      {
       "output_type": "stream",
       "stream": "stdout",
       "text": [
        "\n",
        "D:\\Data\\GPCP_accumulatedMean//GPCP_057.tif"
       ]
      },
      {
       "output_type": "stream",
       "stream": "stdout",
       "text": [
        "\n",
        "D:\\Data\\GPCP_accumulatedMean//GPCP_065.tif"
       ]
      },
      {
       "output_type": "stream",
       "stream": "stdout",
       "text": [
        "\n",
        "D:\\Data\\GPCP_accumulatedMean//GPCP_073.tif"
       ]
      },
      {
       "output_type": "stream",
       "stream": "stdout",
       "text": [
        "\n",
        "D:\\Data\\GPCP_accumulatedMean//GPCP_081.tif"
       ]
      },
      {
       "output_type": "stream",
       "stream": "stdout",
       "text": [
        "\n",
        "D:\\Data\\GPCP_accumulatedMean//GPCP_089.tif"
       ]
      },
      {
       "output_type": "stream",
       "stream": "stdout",
       "text": [
        "\n",
        "D:\\Data\\GPCP_accumulatedMean//GPCP_097.tif"
       ]
      },
      {
       "output_type": "stream",
       "stream": "stdout",
       "text": [
        "\n",
        "D:\\Data\\GPCP_accumulatedMean//GPCP_105.tif"
       ]
      },
      {
       "output_type": "stream",
       "stream": "stdout",
       "text": [
        "\n",
        "D:\\Data\\GPCP_accumulatedMean//GPCP_113.tif"
       ]
      },
      {
       "output_type": "stream",
       "stream": "stdout",
       "text": [
        "\n",
        "D:\\Data\\GPCP_accumulatedMean//GPCP_121.tif"
       ]
      },
      {
       "output_type": "stream",
       "stream": "stdout",
       "text": [
        "\n",
        "D:\\Data\\GPCP_accumulatedMean//GPCP_129.tif"
       ]
      },
      {
       "output_type": "stream",
       "stream": "stdout",
       "text": [
        "\n",
        "D:\\Data\\GPCP_accumulatedMean//GPCP_137.tif"
       ]
      },
      {
       "output_type": "stream",
       "stream": "stdout",
       "text": [
        "\n",
        "D:\\Data\\GPCP_accumulatedMean//GPCP_145.tif"
       ]
      },
      {
       "output_type": "stream",
       "stream": "stdout",
       "text": [
        "\n",
        "D:\\Data\\GPCP_accumulatedMean//GPCP_153.tif"
       ]
      },
      {
       "output_type": "stream",
       "stream": "stdout",
       "text": [
        "\n",
        "D:\\Data\\GPCP_accumulatedMean//GPCP_161.tif"
       ]
      },
      {
       "output_type": "stream",
       "stream": "stdout",
       "text": [
        "\n",
        "D:\\Data\\GPCP_accumulatedMean//GPCP_169.tif"
       ]
      },
      {
       "output_type": "stream",
       "stream": "stdout",
       "text": [
        "\n",
        "D:\\Data\\GPCP_accumulatedMean//GPCP_177.tif"
       ]
      },
      {
       "output_type": "stream",
       "stream": "stdout",
       "text": [
        "\n",
        "D:\\Data\\GPCP_accumulatedMean//GPCP_185.tif"
       ]
      },
      {
       "output_type": "stream",
       "stream": "stdout",
       "text": [
        "\n",
        "D:\\Data\\GPCP_accumulatedMean//GPCP_193.tif"
       ]
      },
      {
       "output_type": "stream",
       "stream": "stdout",
       "text": [
        "\n",
        "D:\\Data\\GPCP_accumulatedMean//GPCP_201.tif"
       ]
      },
      {
       "output_type": "stream",
       "stream": "stdout",
       "text": [
        "\n",
        "D:\\Data\\GPCP_accumulatedMean//GPCP_209.tif"
       ]
      },
      {
       "output_type": "stream",
       "stream": "stdout",
       "text": [
        "\n",
        "D:\\Data\\GPCP_accumulatedMean//GPCP_217.tif"
       ]
      },
      {
       "output_type": "stream",
       "stream": "stdout",
       "text": [
        "\n",
        "D:\\Data\\GPCP_accumulatedMean//GPCP_225.tif"
       ]
      },
      {
       "output_type": "stream",
       "stream": "stdout",
       "text": [
        "\n",
        "D:\\Data\\GPCP_accumulatedMean//GPCP_233.tif"
       ]
      },
      {
       "output_type": "stream",
       "stream": "stdout",
       "text": [
        "\n",
        "D:\\Data\\GPCP_accumulatedMean//GPCP_241.tif"
       ]
      },
      {
       "output_type": "stream",
       "stream": "stdout",
       "text": [
        "\n",
        "D:\\Data\\GPCP_accumulatedMean//GPCP_249.tif"
       ]
      },
      {
       "output_type": "stream",
       "stream": "stdout",
       "text": [
        "\n",
        "D:\\Data\\GPCP_accumulatedMean//GPCP_257.tif"
       ]
      },
      {
       "output_type": "stream",
       "stream": "stdout",
       "text": [
        "\n",
        "D:\\Data\\GPCP_accumulatedMean//GPCP_265.tif"
       ]
      },
      {
       "output_type": "stream",
       "stream": "stdout",
       "text": [
        "\n",
        "D:\\Data\\GPCP_accumulatedMean//GPCP_273.tif"
       ]
      },
      {
       "output_type": "stream",
       "stream": "stdout",
       "text": [
        "\n",
        "D:\\Data\\GPCP_accumulatedMean//GPCP_281.tif"
       ]
      },
      {
       "output_type": "stream",
       "stream": "stdout",
       "text": [
        "\n",
        "D:\\Data\\GPCP_accumulatedMean//GPCP_289.tif"
       ]
      },
      {
       "output_type": "stream",
       "stream": "stdout",
       "text": [
        "\n",
        "D:\\Data\\GPCP_accumulatedMean//GPCP_297.tif"
       ]
      },
      {
       "output_type": "stream",
       "stream": "stdout",
       "text": [
        "\n",
        "D:\\Data\\GPCP_accumulatedMean//GPCP_305.tif"
       ]
      },
      {
       "output_type": "stream",
       "stream": "stdout",
       "text": [
        "\n",
        "D:\\Data\\GPCP_accumulatedMean//GPCP_313.tif"
       ]
      },
      {
       "output_type": "stream",
       "stream": "stdout",
       "text": [
        "\n",
        "D:\\Data\\GPCP_accumulatedMean//GPCP_321.tif"
       ]
      },
      {
       "output_type": "stream",
       "stream": "stdout",
       "text": [
        "\n",
        "D:\\Data\\GPCP_accumulatedMean//GPCP_329.tif"
       ]
      },
      {
       "output_type": "stream",
       "stream": "stdout",
       "text": [
        "\n",
        "D:\\Data\\GPCP_accumulatedMean//GPCP_337.tif"
       ]
      },
      {
       "output_type": "stream",
       "stream": "stdout",
       "text": [
        "\n",
        "D:\\Data\\GPCP_accumulatedMean//GPCP_345.tif"
       ]
      },
      {
       "output_type": "stream",
       "stream": "stdout",
       "text": [
        "\n",
        "D:\\Data\\GPCP_accumulatedMean//GPCP_353.tif"
       ]
      },
      {
       "output_type": "stream",
       "stream": "stdout",
       "text": [
        "\n",
        "D:\\Data\\GPCP_accumulatedMean//GPCP_361.tif"
       ]
      },
      {
       "output_type": "stream",
       "stream": "stdout",
       "text": [
        "\n"
       ]
      }
     ],
     "prompt_number": 17
    },
    {
     "cell_type": "code",
     "collapsed": false,
     "input": [
      "base.shape"
     ],
     "language": "python",
     "metadata": {},
     "outputs": [
      {
       "metadata": {},
       "output_type": "pyout",
       "prompt_number": 18,
       "text": [
        "(1, 3537, 6163)"
       ]
      }
     ],
     "prompt_number": 18
    },
    {
     "cell_type": "code",
     "collapsed": false,
     "input": [
      "for i in range(1,366,8):\n",
      "    print (i)"
     ],
     "language": "python",
     "metadata": {},
     "outputs": [
      {
       "output_type": "stream",
       "stream": "stdout",
       "text": [
        "1\n",
        "9\n",
        "17\n",
        "25\n",
        "33\n",
        "41\n",
        "49\n",
        "57\n",
        "65\n",
        "73\n",
        "81\n",
        "89\n",
        "97\n",
        "105\n",
        "113\n",
        "121\n",
        "129\n",
        "137\n",
        "145\n",
        "153\n",
        "161\n",
        "169\n",
        "177\n",
        "185\n",
        "193\n",
        "201\n",
        "209\n",
        "217\n",
        "225\n",
        "233\n",
        "241\n",
        "249\n",
        "257\n",
        "265\n",
        "273\n",
        "281\n",
        "289\n",
        "297\n",
        "305\n",
        "313\n",
        "321\n",
        "329\n",
        "337\n",
        "345\n",
        "353\n",
        "361\n"
       ]
      }
     ],
     "prompt_number": 30
    },
    {
     "cell_type": "code",
     "collapsed": false,
     "input": [],
     "language": "python",
     "metadata": {},
     "outputs": []
    }
   ],
   "metadata": {}
  }
 ]
}