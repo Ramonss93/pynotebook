{
 "metadata": {
  "name": "",
  "signature": "sha256:af7793f1e6031372c54193b5e6f9b11a55f7793945c2cc45871e47176ad25355"
 },
 "nbformat": 3,
 "nbformat_minor": 0,
 "worksheets": [
  {
   "cells": [
    {
     "cell_type": "code",
     "collapsed": false,
     "input": [
      "from osgeo import gdal, ogr\n",
      "import sys\n",
      "import subprocess as sp\n",
      "import os"
     ],
     "language": "python",
     "metadata": {},
     "outputs": [],
     "prompt_number": 1
    },
    {
     "cell_type": "code",
     "collapsed": false,
     "input": [
      "from osgeo import gdal, ogr\n",
      "import sys\n",
      "import subprocess as sp\n",
      "import os\n",
      "\n",
      "def clipraster(folderin, shapefile, folderout, format_end=''):\n",
      "\n",
      "    files = [os.path.join(root, name)\n",
      "               for root, dirs, files in os.walk(folderin)\n",
      "                 for name in files                 \n",
      "                 if name.endswith(format_end)]\n",
      "    \n",
      "    daShapefile = shapefile\n",
      "    driver = ogr.GetDriverByName('ESRI Shapefile')\n",
      "    dataSource = driver.Open(daShapefile, 0)\n",
      "    layer = dataSource.GetLayer()\n",
      "    ex1,ex2,ex3,ex4 = layer.GetExtent()\n",
      "\n",
      "    for j in files:\n",
      "        out = j[-26::]\n",
      "        path = folderout+out\n",
      "        paramsnorm = [\"gdal_translate\", \"-projwin\", str(ex1), str(ex4), str(ex2), str(ex3), j, path]\n",
      "        print (sp.list2cmdline(paramsnorm))\n",
      "        #norm = sp.Popen(sp.list2cmdline(paramsnorm), shell=True)     \n",
      "        #norm.communicate() "
     ],
     "language": "python",
     "metadata": {},
     "outputs": [],
     "prompt_number": 2
    },
    {
     "cell_type": "code",
     "collapsed": false,
     "input": [
      "clipraster(r'D:\\MODIS_NDVI\\2012', r'D:\\Downloads\\Song@Mattijn\\clip_naqu\\\\Export_Output.shp', r'D:\\Downloads\\Mattijn@Song//', format_end='tif')"
     ],
     "language": "python",
     "metadata": {},
     "outputs": [
      {
       "output_type": "stream",
       "stream": "stdout",
       "text": [
        "gdal_translate -projwin 88.52422981178086 34.55429079909459 92.8717004969717 30.61636445381305 D:\\MODIS_NDVI\\2012\\CN_2012_NDVI_recon.001.tif D:\\Downloads\\Mattijn@Song//CN_2012_NDVI_recon.001.tif\n",
        "gdal_translate -projwin 88.52422981178086 34.55429079909459 92.8717004969717 30.61636445381305 D:\\MODIS_NDVI\\2012\\CN_2012_NDVI_recon.002.tif D:\\Downloads\\Mattijn@Song//CN_2012_NDVI_recon.002.tif\n",
        "gdal_translate -projwin 88.52422981178086 34.55429079909459 92.8717004969717 30.61636445381305 D:\\MODIS_NDVI\\2012\\CN_2012_NDVI_recon.003.tif D:\\Downloads\\Mattijn@Song//CN_2012_NDVI_recon.003.tif\n",
        "gdal_translate -projwin 88.52422981178086 34.55429079909459 92.8717004969717 30.61636445381305 D:\\MODIS_NDVI\\2012\\CN_2012_NDVI_recon.004.tif D:\\Downloads\\Mattijn@Song//CN_2012_NDVI_recon.004.tif\n",
        "gdal_translate -projwin 88.52422981178086 34.55429079909459 92.8717004969717 30.61636445381305 D:\\MODIS_NDVI\\2012\\CN_2012_NDVI_recon.005.tif D:\\Downloads\\Mattijn@Song//CN_2012_NDVI_recon.005.tif\n",
        "gdal_translate -projwin 88.52422981178086 34.55429079909459 92.8717004969717 30.61636445381305 D:\\MODIS_NDVI\\2012\\CN_2012_NDVI_recon.006.tif D:\\Downloads\\Mattijn@Song//CN_2012_NDVI_recon.006.tif\n",
        "gdal_translate -projwin 88.52422981178086 34.55429079909459 92.8717004969717 30.61636445381305 D:\\MODIS_NDVI\\2012\\CN_2012_NDVI_recon.007.tif D:\\Downloads\\Mattijn@Song//CN_2012_NDVI_recon.007.tif\n",
        "gdal_translate -projwin 88.52422981178086 34.55429079909459 92.8717004969717 30.61636445381305 D:\\MODIS_NDVI\\2012\\CN_2012_NDVI_recon.008.tif D:\\Downloads\\Mattijn@Song//CN_2012_NDVI_recon.008.tif\n",
        "gdal_translate -projwin 88.52422981178086 34.55429079909459 92.8717004969717 30.61636445381305 D:\\MODIS_NDVI\\2012\\CN_2012_NDVI_recon.009.tif D:\\Downloads\\Mattijn@Song//CN_2012_NDVI_recon.009.tif\n",
        "gdal_translate -projwin 88.52422981178086 34.55429079909459 92.8717004969717 30.61636445381305 D:\\MODIS_NDVI\\2012\\CN_2012_NDVI_recon.010.tif D:\\Downloads\\Mattijn@Song//CN_2012_NDVI_recon.010.tif\n",
        "gdal_translate -projwin 88.52422981178086 34.55429079909459 92.8717004969717 30.61636445381305 D:\\MODIS_NDVI\\2012\\CN_2012_NDVI_recon.011.tif D:\\Downloads\\Mattijn@Song//CN_2012_NDVI_recon.011.tif\n",
        "gdal_translate -projwin 88.52422981178086 34.55429079909459 92.8717004969717 30.61636445381305 D:\\MODIS_NDVI\\2012\\CN_2012_NDVI_recon.012.tif D:\\Downloads\\Mattijn@Song//CN_2012_NDVI_recon.012.tif\n",
        "gdal_translate -projwin 88.52422981178086 34.55429079909459 92.8717004969717 30.61636445381305 D:\\MODIS_NDVI\\2012\\CN_2012_NDVI_recon.013.tif D:\\Downloads\\Mattijn@Song//CN_2012_NDVI_recon.013.tif\n",
        "gdal_translate -projwin 88.52422981178086 34.55429079909459 92.8717004969717 30.61636445381305 D:\\MODIS_NDVI\\2012\\CN_2012_NDVI_recon.014.tif D:\\Downloads\\Mattijn@Song//CN_2012_NDVI_recon.014.tif\n",
        "gdal_translate -projwin 88.52422981178086 34.55429079909459 92.8717004969717 30.61636445381305 D:\\MODIS_NDVI\\2012\\CN_2012_NDVI_recon.015.tif D:\\Downloads\\Mattijn@Song//CN_2012_NDVI_recon.015.tif\n",
        "gdal_translate -projwin 88.52422981178086 34.55429079909459 92.8717004969717 30.61636445381305 D:\\MODIS_NDVI\\2012\\CN_2012_NDVI_recon.016.tif D:\\Downloads\\Mattijn@Song//CN_2012_NDVI_recon.016.tif\n",
        "gdal_translate -projwin 88.52422981178086 34.55429079909459 92.8717004969717 30.61636445381305 D:\\MODIS_NDVI\\2012\\CN_2012_NDVI_recon.017.tif D:\\Downloads\\Mattijn@Song//CN_2012_NDVI_recon.017.tif\n",
        "gdal_translate -projwin 88.52422981178086 34.55429079909459 92.8717004969717 30.61636445381305 D:\\MODIS_NDVI\\2012\\CN_2012_NDVI_recon.018.tif D:\\Downloads\\Mattijn@Song//CN_2012_NDVI_recon.018.tif\n",
        "gdal_translate -projwin 88.52422981178086 34.55429079909459 92.8717004969717 30.61636445381305 D:\\MODIS_NDVI\\2012\\CN_2012_NDVI_recon.019.tif D:\\Downloads\\Mattijn@Song//CN_2012_NDVI_recon.019.tif\n",
        "gdal_translate -projwin 88.52422981178086 34.55429079909459 92.8717004969717 30.61636445381305 D:\\MODIS_NDVI\\2012\\CN_2012_NDVI_recon.020.tif D:\\Downloads\\Mattijn@Song//CN_2012_NDVI_recon.020.tif\n",
        "gdal_translate -projwin 88.52422981178086 34.55429079909459 92.8717004969717 30.61636445381305 D:\\MODIS_NDVI\\2012\\CN_2012_NDVI_recon.021.tif D:\\Downloads\\Mattijn@Song//CN_2012_NDVI_recon.021.tif\n",
        "gdal_translate -projwin 88.52422981178086 34.55429079909459 92.8717004969717 30.61636445381305 D:\\MODIS_NDVI\\2012\\CN_2012_NDVI_recon.022.tif D:\\Downloads\\Mattijn@Song//CN_2012_NDVI_recon.022.tif\n",
        "gdal_translate -projwin 88.52422981178086 34.55429079909459 92.8717004969717 30.61636445381305 D:\\MODIS_NDVI\\2012\\CN_2012_NDVI_recon.023.tif D:\\Downloads\\Mattijn@Song//CN_2012_NDVI_recon.023.tif\n",
        "gdal_translate -projwin 88.52422981178086 34.55429079909459 92.8717004969717 30.61636445381305 D:\\MODIS_NDVI\\2012\\CN_2012_NDVI_recon.024.tif D:\\Downloads\\Mattijn@Song//CN_2012_NDVI_recon.024.tif\n",
        "gdal_translate -projwin 88.52422981178086 34.55429079909459 92.8717004969717 30.61636445381305 D:\\MODIS_NDVI\\2012\\CN_2012_NDVI_recon.025.tif D:\\Downloads\\Mattijn@Song//CN_2012_NDVI_recon.025.tif\n",
        "gdal_translate -projwin 88.52422981178086 34.55429079909459 92.8717004969717 30.61636445381305 D:\\MODIS_NDVI\\2012\\CN_2012_NDVI_recon.026.tif D:\\Downloads\\Mattijn@Song//CN_2012_NDVI_recon.026.tif\n",
        "gdal_translate -projwin 88.52422981178086 34.55429079909459 92.8717004969717 30.61636445381305 D:\\MODIS_NDVI\\2012\\CN_2012_NDVI_recon.027.tif D:\\Downloads\\Mattijn@Song//CN_2012_NDVI_recon.027.tif\n",
        "gdal_translate -projwin 88.52422981178086 34.55429079909459 92.8717004969717 30.61636445381305 D:\\MODIS_NDVI\\2012\\CN_2012_NDVI_recon.028.tif D:\\Downloads\\Mattijn@Song//CN_2012_NDVI_recon.028.tif\n",
        "gdal_translate -projwin 88.52422981178086 34.55429079909459 92.8717004969717 30.61636445381305 D:\\MODIS_NDVI\\2012\\CN_2012_NDVI_recon.029.tif D:\\Downloads\\Mattijn@Song//CN_2012_NDVI_recon.029.tif\n",
        "gdal_translate -projwin 88.52422981178086 34.55429079909459 92.8717004969717 30.61636445381305 D:\\MODIS_NDVI\\2012\\CN_2012_NDVI_recon.030.tif D:\\Downloads\\Mattijn@Song//CN_2012_NDVI_recon.030.tif\n",
        "gdal_translate -projwin 88.52422981178086 34.55429079909459 92.8717004969717 30.61636445381305 D:\\MODIS_NDVI\\2012\\CN_2012_NDVI_recon.031.tif D:\\Downloads\\Mattijn@Song//CN_2012_NDVI_recon.031.tif\n",
        "gdal_translate -projwin 88.52422981178086 34.55429079909459 92.8717004969717 30.61636445381305 D:\\MODIS_NDVI\\2012\\CN_2012_NDVI_recon.032.tif D:\\Downloads\\Mattijn@Song//CN_2012_NDVI_recon.032.tif\n",
        "gdal_translate -projwin 88.52422981178086 34.55429079909459 92.8717004969717 30.61636445381305 D:\\MODIS_NDVI\\2012\\CN_2012_NDVI_recon.033.tif D:\\Downloads\\Mattijn@Song//CN_2012_NDVI_recon.033.tif\n",
        "gdal_translate -projwin 88.52422981178086 34.55429079909459 92.8717004969717 30.61636445381305 D:\\MODIS_NDVI\\2012\\CN_2012_NDVI_recon.034.tif D:\\Downloads\\Mattijn@Song//CN_2012_NDVI_recon.034.tif\n",
        "gdal_translate -projwin 88.52422981178086 34.55429079909459 92.8717004969717 30.61636445381305 D:\\MODIS_NDVI\\2012\\CN_2012_NDVI_recon.035.tif D:\\Downloads\\Mattijn@Song//CN_2012_NDVI_recon.035.tif\n",
        "gdal_translate -projwin 88.52422981178086 34.55429079909459 92.8717004969717 30.61636445381305 D:\\MODIS_NDVI\\2012\\CN_2012_NDVI_recon.036.tif D:\\Downloads\\Mattijn@Song//CN_2012_NDVI_recon.036.tif\n",
        "gdal_translate -projwin 88.52422981178086 34.55429079909459 92.8717004969717 30.61636445381305 D:\\MODIS_NDVI\\2012\\CN_2012_NDVI_recon.037.tif D:\\Downloads\\Mattijn@Song//CN_2012_NDVI_recon.037.tif\n",
        "gdal_translate -projwin 88.52422981178086 34.55429079909459 92.8717004969717 30.61636445381305 D:\\MODIS_NDVI\\2012\\CN_2012_NDVI_recon.038.tif D:\\Downloads\\Mattijn@Song//CN_2012_NDVI_recon.038.tif\n",
        "gdal_translate -projwin 88.52422981178086 34.55429079909459 92.8717004969717 30.61636445381305 D:\\MODIS_NDVI\\2012\\CN_2012_NDVI_recon.039.tif D:\\Downloads\\Mattijn@Song//CN_2012_NDVI_recon.039.tif\n",
        "gdal_translate -projwin 88.52422981178086 34.55429079909459 92.8717004969717 30.61636445381305 D:\\MODIS_NDVI\\2012\\CN_2012_NDVI_recon.040.tif D:\\Downloads\\Mattijn@Song//CN_2012_NDVI_recon.040.tif\n",
        "gdal_translate -projwin 88.52422981178086 34.55429079909459 92.8717004969717 30.61636445381305 D:\\MODIS_NDVI\\2012\\CN_2012_NDVI_recon.041.tif D:\\Downloads\\Mattijn@Song//CN_2012_NDVI_recon.041.tif\n",
        "gdal_translate -projwin 88.52422981178086 34.55429079909459 92.8717004969717 30.61636445381305 D:\\MODIS_NDVI\\2012\\CN_2012_NDVI_recon.042.tif D:\\Downloads\\Mattijn@Song//CN_2012_NDVI_recon.042.tif\n",
        "gdal_translate -projwin 88.52422981178086 34.55429079909459 92.8717004969717 30.61636445381305 D:\\MODIS_NDVI\\2012\\CN_2012_NDVI_recon.043.tif D:\\Downloads\\Mattijn@Song//CN_2012_NDVI_recon.043.tif\n",
        "gdal_translate -projwin 88.52422981178086 34.55429079909459 92.8717004969717 30.61636445381305 D:\\MODIS_NDVI\\2012\\CN_2012_NDVI_recon.044.tif D:\\Downloads\\Mattijn@Song//CN_2012_NDVI_recon.044.tif\n",
        "gdal_translate -projwin 88.52422981178086 34.55429079909459 92.8717004969717 30.61636445381305 D:\\MODIS_NDVI\\2012\\CN_2012_NDVI_recon.045.tif D:\\Downloads\\Mattijn@Song//CN_2012_NDVI_recon.045.tif\n",
        "gdal_translate -projwin 88.52422981178086 34.55429079909459 92.8717004969717 30.61636445381305 D:\\MODIS_NDVI\\2012\\CN_2012_NDVI_recon.046.tif D:\\Downloads\\Mattijn@Song//CN_2012_NDVI_recon.046.tif\n",
        "gdal_translate -projwin 88.52422981178086 34.55429079909459 92.8717004969717 30.61636445381305 D:\\MODIS_NDVI\\2012\\CN_2012_NDVI_recon.047.tif D:\\Downloads\\Mattijn@Song//CN_2012_NDVI_recon.047.tif\n",
        "gdal_translate -projwin 88.52422981178086 34.55429079909459 92.8717004969717 30.61636445381305 D:\\MODIS_NDVI\\2012\\CN_2012_NDVI_recon.048.tif D:\\Downloads\\Mattijn@Song//CN_2012_NDVI_recon.048.tif\n",
        "gdal_translate -projwin 88.52422981178086 34.55429079909459 92.8717004969717 30.61636445381305 D:\\MODIS_NDVI\\2012\\CN_2012_NDVI_recon.049.tif D:\\Downloads\\Mattijn@Song//CN_2012_NDVI_recon.049.tif\n",
        "gdal_translate -projwin 88.52422981178086 34.55429079909459 92.8717004969717 30.61636445381305 D:\\MODIS_NDVI\\2012\\CN_2012_NDVI_recon.050.tif D:\\Downloads\\Mattijn@Song//CN_2012_NDVI_recon.050.tif\n",
        "gdal_translate -projwin 88.52422981178086 34.55429079909459 92.8717004969717 30.61636445381305 D:\\MODIS_NDVI\\2012\\CN_2012_NDVI_recon.051.tif D:\\Downloads\\Mattijn@Song//CN_2012_NDVI_recon.051.tif\n",
        "gdal_translate -projwin 88.52422981178086 34.55429079909459 92.8717004969717 30.61636445381305 D:\\MODIS_NDVI\\2012\\CN_2012_NDVI_recon.052.tif D:\\Downloads\\Mattijn@Song//CN_2012_NDVI_recon.052.tif\n",
        "gdal_translate -projwin 88.52422981178086 34.55429079909459 92.8717004969717 30.61636445381305 D:\\MODIS_NDVI\\2012\\CN_2012_NDVI_recon.053.tif D:\\Downloads\\Mattijn@Song//CN_2012_NDVI_recon.053.tif\n",
        "gdal_translate -projwin 88.52422981178086 34.55429079909459 92.8717004969717 30.61636445381305 D:\\MODIS_NDVI\\2012\\CN_2012_NDVI_recon.054.tif D:\\Downloads\\Mattijn@Song//CN_2012_NDVI_recon.054.tif\n",
        "gdal_translate -projwin 88.52422981178086 34.55429079909459 92.8717004969717 30.61636445381305 D:\\MODIS_NDVI\\2012\\CN_2012_NDVI_recon.055.tif D:\\Downloads\\Mattijn@Song//CN_2012_NDVI_recon.055.tif\n",
        "gdal_translate -projwin 88.52422981178086 34.55429079909459 92.8717004969717 30.61636445381305 D:\\MODIS_NDVI\\2012\\CN_2012_NDVI_recon.056.tif D:\\Downloads\\Mattijn@Song//CN_2012_NDVI_recon.056.tif\n",
        "gdal_translate -projwin 88.52422981178086 34.55429079909459 92.8717004969717 30.61636445381305 D:\\MODIS_NDVI\\2012\\CN_2012_NDVI_recon.057.tif D:\\Downloads\\Mattijn@Song//CN_2012_NDVI_recon.057.tif\n",
        "gdal_translate -projwin 88.52422981178086 34.55429079909459 92.8717004969717 30.61636445381305 D:\\MODIS_NDVI\\2012\\CN_2012_NDVI_recon.058.tif D:\\Downloads\\Mattijn@Song//CN_2012_NDVI_recon.058.tif\n",
        "gdal_translate -projwin 88.52422981178086 34.55429079909459 92.8717004969717 30.61636445381305 D:\\MODIS_NDVI\\2012\\CN_2012_NDVI_recon.059.tif D:\\Downloads\\Mattijn@Song//CN_2012_NDVI_recon.059.tif\n",
        "gdal_translate -projwin 88.52422981178086 34.55429079909459 92.8717004969717 30.61636445381305 D:\\MODIS_NDVI\\2012\\CN_2012_NDVI_recon.060.tif D:\\Downloads\\Mattijn@Song//CN_2012_NDVI_recon.060.tif\n",
        "gdal_translate -projwin 88.52422981178086 34.55429079909459 92.8717004969717 30.61636445381305 D:\\MODIS_NDVI\\2012\\CN_2012_NDVI_recon.061.tif D:\\Downloads\\Mattijn@Song//CN_2012_NDVI_recon.061.tif\n",
        "gdal_translate -projwin 88.52422981178086 34.55429079909459 92.8717004969717 30.61636445381305 D:\\MODIS_NDVI\\2012\\CN_2012_NDVI_recon.062.tif D:\\Downloads\\Mattijn@Song//CN_2012_NDVI_recon.062.tif\n",
        "gdal_translate -projwin 88.52422981178086 34.55429079909459 92.8717004969717 30.61636445381305 D:\\MODIS_NDVI\\2012\\CN_2012_NDVI_recon.063.tif D:\\Downloads\\Mattijn@Song//CN_2012_NDVI_recon.063.tif\n",
        "gdal_translate -projwin 88.52422981178086 34.55429079909459 92.8717004969717 30.61636445381305 D:\\MODIS_NDVI\\2012\\CN_2012_NDVI_recon.064.tif D:\\Downloads\\Mattijn@Song//CN_2012_NDVI_recon.064.tif\n",
        "gdal_translate -projwin 88.52422981178086 34.55429079909459 92.8717004969717 30.61636445381305 D:\\MODIS_NDVI\\2012\\CN_2012_NDVI_recon.065.tif D:\\Downloads\\Mattijn@Song//CN_2012_NDVI_recon.065.tif\n",
        "gdal_translate -projwin 88.52422981178086 34.55429079909459 92.8717004969717 30.61636445381305 D:\\MODIS_NDVI\\2012\\CN_2012_NDVI_recon.066.tif D:\\Downloads\\Mattijn@Song//CN_2012_NDVI_recon.066.tif\n",
        "gdal_translate -projwin 88.52422981178086 34.55429079909459 92.8717004969717 30.61636445381305 D:\\MODIS_NDVI\\2012\\CN_2012_NDVI_recon.067.tif D:\\Downloads\\Mattijn@Song//CN_2012_NDVI_recon.067.tif\n",
        "gdal_translate -projwin 88.52422981178086 34.55429079909459 92.8717004969717 30.61636445381305 D:\\MODIS_NDVI\\2012\\CN_2012_NDVI_recon.068.tif D:\\Downloads\\Mattijn@Song//CN_2012_NDVI_recon.068.tif\n",
        "gdal_translate -projwin 88.52422981178086 34.55429079909459 92.8717004969717 30.61636445381305 D:\\MODIS_NDVI\\2012\\CN_2012_NDVI_recon.069.tif D:\\Downloads\\Mattijn@Song//CN_2012_NDVI_recon.069.tif\n",
        "gdal_translate -projwin 88.52422981178086 34.55429079909459 92.8717004969717 30.61636445381305 D:\\MODIS_NDVI\\2012\\CN_2012_NDVI_recon.070.tif D:\\Downloads\\Mattijn@Song//CN_2012_NDVI_recon.070.tif\n",
        "gdal_translate -projwin 88.52422981178086 34.55429079909459 92.8717004969717 30.61636445381305 D:\\MODIS_NDVI\\2012\\CN_2012_NDVI_recon.071.tif D:\\Downloads\\Mattijn@Song//CN_2012_NDVI_recon.071.tif\n",
        "gdal_translate -projwin 88.52422981178086 34.55429079909459 92.8717004969717 30.61636445381305 D:\\MODIS_NDVI\\2012\\CN_2012_NDVI_recon.072.tif D:\\Downloads\\Mattijn@Song//CN_2012_NDVI_recon.072.tif\n",
        "gdal_translate -projwin 88.52422981178086 34.55429079909459 92.8717004969717 30.61636445381305 D:\\MODIS_NDVI\\2012\\CN_2012_NDVI_recon.073.tif D:\\Downloads\\Mattijn@Song//CN_2012_NDVI_recon.073.tif\n",
        "gdal_translate -projwin 88.52422981178086 34.55429079909459 92.8717004969717 30.61636445381305 D:\\MODIS_NDVI\\2012\\CN_2012_NDVI_recon.074.tif D:\\Downloads\\Mattijn@Song//CN_2012_NDVI_recon.074.tif\n",
        "gdal_translate -projwin 88.52422981178086 34.55429079909459 92.8717004969717 30.61636445381305 D:\\MODIS_NDVI\\2012\\CN_2012_NDVI_recon.075.tif D:\\Downloads\\Mattijn@Song//CN_2012_NDVI_recon.075.tif\n",
        "gdal_translate -projwin 88.52422981178086 34.55429079909459 92.8717004969717 30.61636445381305 D:\\MODIS_NDVI\\2012\\CN_2012_NDVI_recon.076.tif D:\\Downloads\\Mattijn@Song//CN_2012_NDVI_recon.076.tif\n",
        "gdal_translate -projwin 88.52422981178086 34.55429079909459 92.8717004969717 30.61636445381305 D:\\MODIS_NDVI\\2012\\CN_2012_NDVI_recon.077.tif D:\\Downloads\\Mattijn@Song//CN_2012_NDVI_recon.077.tif\n",
        "gdal_translate -projwin 88.52422981178086 34.55429079909459 92.8717004969717 30.61636445381305 D:\\MODIS_NDVI\\2012\\CN_2012_NDVI_recon.078.tif D:\\Downloads\\Mattijn@Song//CN_2012_NDVI_recon.078.tif\n",
        "gdal_translate -projwin 88.52422981178086 34.55429079909459 92.8717004969717 30.61636445381305 D:\\MODIS_NDVI\\2012\\CN_2012_NDVI_recon.079.tif D:\\Downloads\\Mattijn@Song//CN_2012_NDVI_recon.079.tif\n",
        "gdal_translate -projwin 88.52422981178086 34.55429079909459 92.8717004969717 30.61636445381305 D:\\MODIS_NDVI\\2012\\CN_2012_NDVI_recon.080.tif D:\\Downloads\\Mattijn@Song//CN_2012_NDVI_recon.080.tif\n",
        "gdal_translate -projwin 88.52422981178086 34.55429079909459 92.8717004969717 30.61636445381305 D:\\MODIS_NDVI\\2012\\CN_2012_NDVI_recon.081.tif D:\\Downloads\\Mattijn@Song//CN_2012_NDVI_recon.081.tif\n",
        "gdal_translate -projwin 88.52422981178086 34.55429079909459 92.8717004969717 30.61636445381305 D:\\MODIS_NDVI\\2012\\CN_2012_NDVI_recon.082.tif D:\\Downloads\\Mattijn@Song//CN_2012_NDVI_recon.082.tif\n",
        "gdal_translate -projwin 88.52422981178086 34.55429079909459 92.8717004969717 30.61636445381305 D:\\MODIS_NDVI\\2012\\CN_2012_NDVI_recon.083.tif D:\\Downloads\\Mattijn@Song//CN_2012_NDVI_recon.083.tif\n",
        "gdal_translate -projwin 88.52422981178086 34.55429079909459 92.8717004969717 30.61636445381305 D:\\MODIS_NDVI\\2012\\CN_2012_NDVI_recon.084.tif D:\\Downloads\\Mattijn@Song//CN_2012_NDVI_recon.084.tif\n",
        "gdal_translate -projwin 88.52422981178086 34.55429079909459 92.8717004969717 30.61636445381305 D:\\MODIS_NDVI\\2012\\CN_2012_NDVI_recon.085.tif D:\\Downloads\\Mattijn@Song//CN_2012_NDVI_recon.085.tif\n",
        "gdal_translate -projwin 88.52422981178086 34.55429079909459 92.8717004969717 30.61636445381305 D:\\MODIS_NDVI\\2012\\CN_2012_NDVI_recon.086.tif D:\\Downloads\\Mattijn@Song//CN_2012_NDVI_recon.086.tif\n",
        "gdal_translate -projwin 88.52422981178086 34.55429079909459 92.8717004969717 30.61636445381305 D:\\MODIS_NDVI\\2012\\CN_2012_NDVI_recon.087.tif D:\\Downloads\\Mattijn@Song//CN_2012_NDVI_recon.087.tif\n",
        "gdal_translate -projwin 88.52422981178086 34.55429079909459 92.8717004969717 30.61636445381305 D:\\MODIS_NDVI\\2012\\CN_2012_NDVI_recon.088.tif D:\\Downloads\\Mattijn@Song//CN_2012_NDVI_recon.088.tif\n",
        "gdal_translate -projwin 88.52422981178086 34.55429079909459 92.8717004969717 30.61636445381305 D:\\MODIS_NDVI\\2012\\CN_2012_NDVI_recon.089.tif D:\\Downloads\\Mattijn@Song//CN_2012_NDVI_recon.089.tif\n",
        "gdal_translate -projwin 88.52422981178086 34.55429079909459 92.8717004969717 30.61636445381305 D:\\MODIS_NDVI\\2012\\CN_2012_NDVI_recon.090.tif D:\\Downloads\\Mattijn@Song//CN_2012_NDVI_recon.090.tif\n",
        "gdal_translate -projwin 88.52422981178086 34.55429079909459 92.8717004969717 30.61636445381305 D:\\MODIS_NDVI\\2012\\CN_2012_NDVI_recon.091.tif D:\\Downloads\\Mattijn@Song//CN_2012_NDVI_recon.091.tif\n",
        "gdal_translate -projwin 88.52422981178086 34.55429079909459 92.8717004969717 30.61636445381305 D:\\MODIS_NDVI\\2012\\CN_2012_NDVI_recon.092.tif D:\\Downloads\\Mattijn@Song//CN_2012_NDVI_recon.092.tif\n",
        "gdal_translate -projwin 88.52422981178086 34.55429079909459 92.8717004969717 30.61636445381305 D:\\MODIS_NDVI\\2012\\CN_2012_NDVI_recon.093.tif D:\\Downloads\\Mattijn@Song//CN_2012_NDVI_recon.093.tif\n",
        "gdal_translate -projwin 88.52422981178086 34.55429079909459 92.8717004969717 30.61636445381305 D:\\MODIS_NDVI\\2012\\CN_2012_NDVI_recon.094.tif D:\\Downloads\\Mattijn@Song//CN_2012_NDVI_recon.094.tif\n",
        "gdal_translate -projwin 88.52422981178086 34.55429079909459 92.8717004969717 30.61636445381305 D:\\MODIS_NDVI\\2012\\CN_2012_NDVI_recon.095.tif D:\\Downloads\\Mattijn@Song//CN_2012_NDVI_recon.095.tif\n",
        "gdal_translate -projwin 88.52422981178086 34.55429079909459 92.8717004969717 30.61636445381305 D:\\MODIS_NDVI\\2012\\CN_2012_NDVI_recon.096.tif D:\\Downloads\\Mattijn@Song//CN_2012_NDVI_recon.096.tif\n",
        "gdal_translate -projwin 88.52422981178086 34.55429079909459 92.8717004969717 30.61636445381305 D:\\MODIS_NDVI\\2012\\CN_2012_NDVI_recon.097.tif D:\\Downloads\\Mattijn@Song//CN_2012_NDVI_recon.097.tif\n",
        "gdal_translate -projwin 88.52422981178086 34.55429079909459 92.8717004969717 30.61636445381305 D:\\MODIS_NDVI\\2012\\CN_2012_NDVI_recon.098.tif D:\\Downloads\\Mattijn@Song//CN_2012_NDVI_recon.098.tif\n",
        "gdal_translate -projwin 88.52422981178086 34.55429079909459 92.8717004969717 30.61636445381305 D:\\MODIS_NDVI\\2012\\CN_2012_NDVI_recon.099.tif D:\\Downloads\\Mattijn@Song//CN_2012_NDVI_recon.099.tif\n",
        "gdal_translate -projwin 88.52422981178086 34.55429079909459 92.8717004969717 30.61636445381305 D:\\MODIS_NDVI\\2012\\CN_2012_NDVI_recon.100.tif D:\\Downloads\\Mattijn@Song//CN_2012_NDVI_recon.100.tif\n",
        "gdal_translate -projwin 88.52422981178086 34.55429079909459 92.8717004969717 30.61636445381305 D:\\MODIS_NDVI\\2012\\CN_2012_NDVI_recon.101.tif D:\\Downloads\\Mattijn@Song//CN_2012_NDVI_recon.101.tif\n",
        "gdal_translate -projwin 88.52422981178086 34.55429079909459 92.8717004969717 30.61636445381305 D:\\MODIS_NDVI\\2012\\CN_2012_NDVI_recon.102.tif D:\\Downloads\\Mattijn@Song//CN_2012_NDVI_recon.102.tif\n",
        "gdal_translate -projwin 88.52422981178086 34.55429079909459 92.8717004969717 30.61636445381305 D:\\MODIS_NDVI\\2012\\CN_2012_NDVI_recon.103.tif D:\\Downloads\\Mattijn@Song//CN_2012_NDVI_recon.103.tif\n",
        "gdal_translate -projwin 88.52422981178086 34.55429079909459 92.8717004969717 30.61636445381305 D:\\MODIS_NDVI\\2012\\CN_2012_NDVI_recon.104.tif D:\\Downloads\\Mattijn@Song//CN_2012_NDVI_recon.104.tif\n",
        "gdal_translate -projwin 88.52422981178086 34.55429079909459 92.8717004969717 30.61636445381305 D:\\MODIS_NDVI\\2012\\CN_2012_NDVI_recon.105.tif D:\\Downloads\\Mattijn@Song//CN_2012_NDVI_recon.105.tif\n",
        "gdal_translate -projwin 88.52422981178086 34.55429079909459 92.8717004969717 30.61636445381305 D:\\MODIS_NDVI\\2012\\CN_2012_NDVI_recon.106.tif D:\\Downloads\\Mattijn@Song//CN_2012_NDVI_recon.106.tif\n",
        "gdal_translate -projwin 88.52422981178086 34.55429079909459 92.8717004969717 30.61636445381305 D:\\MODIS_NDVI\\2012\\CN_2012_NDVI_recon.107.tif D:\\Downloads\\Mattijn@Song//CN_2012_NDVI_recon.107.tif\n",
        "gdal_translate -projwin 88.52422981178086 34.55429079909459 92.8717004969717 30.61636445381305 D:\\MODIS_NDVI\\2012\\CN_2012_NDVI_recon.108.tif D:\\Downloads\\Mattijn@Song//CN_2012_NDVI_recon.108.tif\n",
        "gdal_translate -projwin 88.52422981178086 34.55429079909459 92.8717004969717 30.61636445381305 D:\\MODIS_NDVI\\2012\\CN_2012_NDVI_recon.109.tif D:\\Downloads\\Mattijn@Song//CN_2012_NDVI_recon.109.tif\n",
        "gdal_translate -projwin 88.52422981178086 34.55429079909459 92.8717004969717 30.61636445381305 D:\\MODIS_NDVI\\2012\\CN_2012_NDVI_recon.110.tif D:\\Downloads\\Mattijn@Song//CN_2012_NDVI_recon.110.tif\n",
        "gdal_translate -projwin 88.52422981178086 34.55429079909459 92.8717004969717 30.61636445381305 D:\\MODIS_NDVI\\2012\\CN_2012_NDVI_recon.111.tif D:\\Downloads\\Mattijn@Song//CN_2012_NDVI_recon.111.tif\n",
        "gdal_translate -projwin 88.52422981178086 34.55429079909459 92.8717004969717 30.61636445381305 D:\\MODIS_NDVI\\2012\\CN_2012_NDVI_recon.112.tif D:\\Downloads\\Mattijn@Song//CN_2012_NDVI_recon.112.tif\n",
        "gdal_translate -projwin 88.52422981178086 34.55429079909459 92.8717004969717 30.61636445381305 D:\\MODIS_NDVI\\2012\\CN_2012_NDVI_recon.113.tif D:\\Downloads\\Mattijn@Song//CN_2012_NDVI_recon.113.tif\n",
        "gdal_translate -projwin 88.52422981178086 34.55429079909459 92.8717004969717 30.61636445381305 D:\\MODIS_NDVI\\2012\\CN_2012_NDVI_recon.114.tif D:\\Downloads\\Mattijn@Song//CN_2012_NDVI_recon.114.tif\n",
        "gdal_translate -projwin 88.52422981178086 34.55429079909459 92.8717004969717 30.61636445381305 D:\\MODIS_NDVI\\2012\\CN_2012_NDVI_recon.115.tif D:\\Downloads\\Mattijn@Song//CN_2012_NDVI_recon.115.tif\n",
        "gdal_translate -projwin 88.52422981178086 34.55429079909459 92.8717004969717 30.61636445381305 D:\\MODIS_NDVI\\2012\\CN_2012_NDVI_recon.116.tif D:\\Downloads\\Mattijn@Song//CN_2012_NDVI_recon.116.tif\n",
        "gdal_translate -projwin 88.52422981178086 34.55429079909459 92.8717004969717 30.61636445381305 D:\\MODIS_NDVI\\2012\\CN_2012_NDVI_recon.117.tif D:\\Downloads\\Mattijn@Song//CN_2012_NDVI_recon.117.tif\n",
        "gdal_translate -projwin 88.52422981178086 34.55429079909459 92.8717004969717 30.61636445381305 D:\\MODIS_NDVI\\2012\\CN_2012_NDVI_recon.118.tif D:\\Downloads\\Mattijn@Song//CN_2012_NDVI_recon.118.tif\n",
        "gdal_translate -projwin 88.52422981178086 34.55429079909459 92.8717004969717 30.61636445381305 D:\\MODIS_NDVI\\2012\\CN_2012_NDVI_recon.119.tif D:\\Downloads\\Mattijn@Song//CN_2012_NDVI_recon.119.tif\n",
        "gdal_translate -projwin 88.52422981178086 34.55429079909459 92.8717004969717 30.61636445381305 D:\\MODIS_NDVI\\2012\\CN_2012_NDVI_recon.120.tif D:\\Downloads\\Mattijn@Song//CN_2012_NDVI_recon.120.tif\n",
        "gdal_translate -projwin 88.52422981178086 34.55429079909459 92.8717004969717 30.61636445381305 D:\\MODIS_NDVI\\2012\\CN_2012_NDVI_recon.121.tif D:\\Downloads\\Mattijn@Song//CN_2012_NDVI_recon.121.tif\n",
        "gdal_translate -projwin 88.52422981178086 34.55429079909459 92.8717004969717 30.61636445381305 D:\\MODIS_NDVI\\2012\\CN_2012_NDVI_recon.122.tif D:\\Downloads\\Mattijn@Song//CN_2012_NDVI_recon.122.tif\n",
        "gdal_translate -projwin 88.52422981178086 34.55429079909459 92.8717004969717 30.61636445381305 D:\\MODIS_NDVI\\2012\\CN_2012_NDVI_recon.123.tif D:\\Downloads\\Mattijn@Song//CN_2012_NDVI_recon.123.tif\n",
        "gdal_translate -projwin 88.52422981178086 34.55429079909459 92.8717004969717 30.61636445381305 D:\\MODIS_NDVI\\2012\\CN_2012_NDVI_recon.124.tif D:\\Downloads\\Mattijn@Song//CN_2012_NDVI_recon.124.tif\n",
        "gdal_translate -projwin 88.52422981178086 34.55429079909459 92.8717004969717 30.61636445381305 D:\\MODIS_NDVI\\2012\\CN_2012_NDVI_recon.125.tif D:\\Downloads\\Mattijn@Song//CN_2012_NDVI_recon.125.tif\n",
        "gdal_translate -projwin 88.52422981178086 34.55429079909459 92.8717004969717 30.61636445381305 D:\\MODIS_NDVI\\2012\\CN_2012_NDVI_recon.126.tif D:\\Downloads\\Mattijn@Song//CN_2012_NDVI_recon.126.tif\n",
        "gdal_translate -projwin 88.52422981178086 34.55429079909459 92.8717004969717 30.61636445381305 D:\\MODIS_NDVI\\2012\\CN_2012_NDVI_recon.127.tif D:\\Downloads\\Mattijn@Song//CN_2012_NDVI_recon.127.tif\n",
        "gdal_translate -projwin 88.52422981178086 34.55429079909459 92.8717004969717 30.61636445381305 D:\\MODIS_NDVI\\2012\\CN_2012_NDVI_recon.128.tif D:\\Downloads\\Mattijn@Song//CN_2012_NDVI_recon.128.tif\n",
        "gdal_translate -projwin 88.52422981178086 34.55429079909459 92.8717004969717 30.61636445381305 D:\\MODIS_NDVI\\2012\\CN_2012_NDVI_recon.129.tif D:\\Downloads\\Mattijn@Song//CN_2012_NDVI_recon.129.tif\n",
        "gdal_translate -projwin 88.52422981178086 34.55429079909459 92.8717004969717 30.61636445381305 D:\\MODIS_NDVI\\2012\\CN_2012_NDVI_recon.130.tif D:\\Downloads\\Mattijn@Song//CN_2012_NDVI_recon.130.tif\n",
        "gdal_translate -projwin 88.52422981178086 34.55429079909459 92.8717004969717 30.61636445381305 D:\\MODIS_NDVI\\2012\\CN_2012_NDVI_recon.131.tif D:\\Downloads\\Mattijn@Song//CN_2012_NDVI_recon.131.tif\n",
        "gdal_translate -projwin 88.52422981178086 34.55429079909459 92.8717004969717 30.61636445381305 D:\\MODIS_NDVI\\2012\\CN_2012_NDVI_recon.132.tif D:\\Downloads\\Mattijn@Song//CN_2012_NDVI_recon.132.tif\n",
        "gdal_translate -projwin 88.52422981178086 34.55429079909459 92.8717004969717 30.61636445381305 D:\\MODIS_NDVI\\2012\\CN_2012_NDVI_recon.133.tif D:\\Downloads\\Mattijn@Song//CN_2012_NDVI_recon.133.tif\n",
        "gdal_translate -projwin 88.52422981178086 34.55429079909459 92.8717004969717 30.61636445381305 D:\\MODIS_NDVI\\2012\\CN_2012_NDVI_recon.134.tif D:\\Downloads\\Mattijn@Song//CN_2012_NDVI_recon.134.tif\n",
        "gdal_translate -projwin 88.52422981178086 34.55429079909459 92.8717004969717 30.61636445381305 D:\\MODIS_NDVI\\2012\\CN_2012_NDVI_recon.135.tif D:\\Downloads\\Mattijn@Song//CN_2012_NDVI_recon.135.tif\n",
        "gdal_translate -projwin 88.52422981178086 34.55429079909459 92.8717004969717 30.61636445381305 D:\\MODIS_NDVI\\2012\\CN_2012_NDVI_recon.136.tif D:\\Downloads\\Mattijn@Song//CN_2012_NDVI_recon.136.tif\n",
        "gdal_translate -projwin 88.52422981178086 34.55429079909459 92.8717004969717 30.61636445381305 D:\\MODIS_NDVI\\2012\\CN_2012_NDVI_recon.137.tif D:\\Downloads\\Mattijn@Song//CN_2012_NDVI_recon.137.tif\n",
        "gdal_translate -projwin 88.52422981178086 34.55429079909459 92.8717004969717 30.61636445381305 D:\\MODIS_NDVI\\2012\\CN_2012_NDVI_recon.138.tif D:\\Downloads\\Mattijn@Song//CN_2012_NDVI_recon.138.tif\n",
        "gdal_translate -projwin 88.52422981178086 34.55429079909459 92.8717004969717 30.61636445381305 D:\\MODIS_NDVI\\2012\\CN_2012_NDVI_recon.139.tif D:\\Downloads\\Mattijn@Song//CN_2012_NDVI_recon.139.tif\n",
        "gdal_translate -projwin 88.52422981178086 34.55429079909459 92.8717004969717 30.61636445381305 D:\\MODIS_NDVI\\2012\\CN_2012_NDVI_recon.140.tif D:\\Downloads\\Mattijn@Song//CN_2012_NDVI_recon.140.tif\n",
        "gdal_translate -projwin 88.52422981178086 34.55429079909459 92.8717004969717 30.61636445381305 D:\\MODIS_NDVI\\2012\\CN_2012_NDVI_recon.141.tif D:\\Downloads\\Mattijn@Song//CN_2012_NDVI_recon.141.tif\n",
        "gdal_translate -projwin 88.52422981178086 34.55429079909459 92.8717004969717 30.61636445381305 D:\\MODIS_NDVI\\2012\\CN_2012_NDVI_recon.142.tif D:\\Downloads\\Mattijn@Song//CN_2012_NDVI_recon.142.tif\n",
        "gdal_translate -projwin 88.52422981178086 34.55429079909459 92.8717004969717 30.61636445381305 D:\\MODIS_NDVI\\2012\\CN_2012_NDVI_recon.143.tif D:\\Downloads\\Mattijn@Song//CN_2012_NDVI_recon.143.tif\n",
        "gdal_translate -projwin 88.52422981178086 34.55429079909459 92.8717004969717 30.61636445381305 D:\\MODIS_NDVI\\2012\\CN_2012_NDVI_recon.144.tif D:\\Downloads\\Mattijn@Song//CN_2012_NDVI_recon.144.tif\n",
        "gdal_translate -projwin 88.52422981178086 34.55429079909459 92.8717004969717 30.61636445381305 D:\\MODIS_NDVI\\2012\\CN_2012_NDVI_recon.145.tif D:\\Downloads\\Mattijn@Song//CN_2012_NDVI_recon.145.tif\n",
        "gdal_translate -projwin 88.52422981178086 34.55429079909459 92.8717004969717 30.61636445381305 D:\\MODIS_NDVI\\2012\\CN_2012_NDVI_recon.146.tif D:\\Downloads\\Mattijn@Song//CN_2012_NDVI_recon.146.tif\n",
        "gdal_translate -projwin 88.52422981178086 34.55429079909459 92.8717004969717 30.61636445381305 D:\\MODIS_NDVI\\2012\\CN_2012_NDVI_recon.147.tif D:\\Downloads\\Mattijn@Song//CN_2012_NDVI_recon.147.tif\n",
        "gdal_translate -projwin 88.52422981178086 34.55429079909459 92.8717004969717 30.61636445381305 D:\\MODIS_NDVI\\2012\\CN_2012_NDVI_recon.148.tif D:\\Downloads\\Mattijn@Song//CN_2012_NDVI_recon.148.tif\n",
        "gdal_translate -projwin 88.52422981178086 34.55429079909459 92.8717004969717 30.61636445381305 D:\\MODIS_NDVI\\2012\\CN_2012_NDVI_recon.149.tif D:\\Downloads\\Mattijn@Song//CN_2012_NDVI_recon.149.tif\n",
        "gdal_translate -projwin 88.52422981178086 34.55429079909459 92.8717004969717 30.61636445381305 D:\\MODIS_NDVI\\2012\\CN_2012_NDVI_recon.150.tif D:\\Downloads\\Mattijn@Song//CN_2012_NDVI_recon.150.tif\n",
        "gdal_translate -projwin 88.52422981178086 34.55429079909459 92.8717004969717 30.61636445381305 D:\\MODIS_NDVI\\2012\\CN_2012_NDVI_recon.151.tif D:\\Downloads\\Mattijn@Song//CN_2012_NDVI_recon.151.tif\n",
        "gdal_translate -projwin 88.52422981178086 34.55429079909459 92.8717004969717 30.61636445381305 D:\\MODIS_NDVI\\2012\\CN_2012_NDVI_recon.152.tif D:\\Downloads\\Mattijn@Song//CN_2012_NDVI_recon.152.tif\n",
        "gdal_translate -projwin 88.52422981178086 34.55429079909459 92.8717004969717 30.61636445381305 D:\\MODIS_NDVI\\2012\\CN_2012_NDVI_recon.153.tif D:\\Downloads\\Mattijn@Song//CN_2012_NDVI_recon.153.tif\n",
        "gdal_translate -projwin 88.52422981178086 34.55429079909459 92.8717004969717 30.61636445381305 D:\\MODIS_NDVI\\2012\\CN_2012_NDVI_recon.154.tif D:\\Downloads\\Mattijn@Song//CN_2012_NDVI_recon.154.tif\n",
        "gdal_translate -projwin 88.52422981178086 34.55429079909459 92.8717004969717 30.61636445381305 D:\\MODIS_NDVI\\2012\\CN_2012_NDVI_recon.155.tif D:\\Downloads\\Mattijn@Song//CN_2012_NDVI_recon.155.tif\n",
        "gdal_translate -projwin 88.52422981178086 34.55429079909459 92.8717004969717 30.61636445381305 D:\\MODIS_NDVI\\2012\\CN_2012_NDVI_recon.156.tif D:\\Downloads\\Mattijn@Song//CN_2012_NDVI_recon.156.tif\n",
        "gdal_translate -projwin 88.52422981178086 34.55429079909459 92.8717004969717 30.61636445381305 D:\\MODIS_NDVI\\2012\\CN_2012_NDVI_recon.157.tif D:\\Downloads\\Mattijn@Song//CN_2012_NDVI_recon.157.tif\n",
        "gdal_translate -projwin 88.52422981178086 34.55429079909459 92.8717004969717 30.61636445381305 D:\\MODIS_NDVI\\2012\\CN_2012_NDVI_recon.158.tif D:\\Downloads\\Mattijn@Song//CN_2012_NDVI_recon.158.tif\n",
        "gdal_translate -projwin 88.52422981178086 34.55429079909459 92.8717004969717 30.61636445381305 D:\\MODIS_NDVI\\2012\\CN_2012_NDVI_recon.159.tif D:\\Downloads\\Mattijn@Song//CN_2012_NDVI_recon.159.tif\n",
        "gdal_translate -projwin 88.52422981178086 34.55429079909459 92.8717004969717 30.61636445381305 D:\\MODIS_NDVI\\2012\\CN_2012_NDVI_recon.160.tif D:\\Downloads\\Mattijn@Song//CN_2012_NDVI_recon.160.tif\n",
        "gdal_translate -projwin 88.52422981178086 34.55429079909459 92.8717004969717 30.61636445381305 D:\\MODIS_NDVI\\2012\\CN_2012_NDVI_recon.161.tif D:\\Downloads\\Mattijn@Song//CN_2012_NDVI_recon.161.tif\n",
        "gdal_translate -projwin 88.52422981178086 34.55429079909459 92.8717004969717 30.61636445381305 D:\\MODIS_NDVI\\2012\\CN_2012_NDVI_recon.162.tif D:\\Downloads\\Mattijn@Song//CN_2012_NDVI_recon.162.tif\n",
        "gdal_translate -projwin 88.52422981178086 34.55429079909459 92.8717004969717 30.61636445381305 D:\\MODIS_NDVI\\2012\\CN_2012_NDVI_recon.163.tif D:\\Downloads\\Mattijn@Song//CN_2012_NDVI_recon.163.tif\n",
        "gdal_translate -projwin 88.52422981178086 34.55429079909459 92.8717004969717 30.61636445381305 D:\\MODIS_NDVI\\2012\\CN_2012_NDVI_recon.164.tif D:\\Downloads\\Mattijn@Song//CN_2012_NDVI_recon.164.tif\n",
        "gdal_translate -projwin 88.52422981178086 34.55429079909459 92.8717004969717 30.61636445381305 D:\\MODIS_NDVI\\2012\\CN_2012_NDVI_recon.165.tif D:\\Downloads\\Mattijn@Song//CN_2012_NDVI_recon.165.tif\n",
        "gdal_translate -projwin 88.52422981178086 34.55429079909459 92.8717004969717 30.61636445381305 D:\\MODIS_NDVI\\2012\\CN_2012_NDVI_recon.166.tif D:\\Downloads\\Mattijn@Song//CN_2012_NDVI_recon.166.tif\n",
        "gdal_translate -projwin 88.52422981178086 34.55429079909459 92.8717004969717 30.61636445381305 D:\\MODIS_NDVI\\2012\\CN_2012_NDVI_recon.167.tif D:\\Downloads\\Mattijn@Song//CN_2012_NDVI_recon.167.tif\n",
        "gdal_translate -projwin 88.52422981178086 34.55429079909459 92.8717004969717 30.61636445381305 D:\\MODIS_NDVI\\2012\\CN_2012_NDVI_recon.168.tif D:\\Downloads\\Mattijn@Song//CN_2012_NDVI_recon.168.tif\n",
        "gdal_translate -projwin 88.52422981178086 34.55429079909459 92.8717004969717 30.61636445381305 D:\\MODIS_NDVI\\2012\\CN_2012_NDVI_recon.169.tif D:\\Downloads\\Mattijn@Song//CN_2012_NDVI_recon.169.tif\n",
        "gdal_translate -projwin 88.52422981178086 34.55429079909459 92.8717004969717 30.61636445381305 D:\\MODIS_NDVI\\2012\\CN_2012_NDVI_recon.170.tif D:\\Downloads\\Mattijn@Song//CN_2012_NDVI_recon.170.tif\n",
        "gdal_translate -projwin 88.52422981178086 34.55429079909459 92.8717004969717 30.61636445381305 D:\\MODIS_NDVI\\2012\\CN_2012_NDVI_recon.171.tif D:\\Downloads\\Mattijn@Song//CN_2012_NDVI_recon.171.tif\n",
        "gdal_translate -projwin 88.52422981178086 34.55429079909459 92.8717004969717 30.61636445381305 D:\\MODIS_NDVI\\2012\\CN_2012_NDVI_recon.172.tif D:\\Downloads\\Mattijn@Song//CN_2012_NDVI_recon.172.tif\n",
        "gdal_translate -projwin 88.52422981178086 34.55429079909459 92.8717004969717 30.61636445381305 D:\\MODIS_NDVI\\2012\\CN_2012_NDVI_recon.173.tif D:\\Downloads\\Mattijn@Song//CN_2012_NDVI_recon.173.tif\n",
        "gdal_translate -projwin 88.52422981178086 34.55429079909459 92.8717004969717 30.61636445381305 D:\\MODIS_NDVI\\2012\\CN_2012_NDVI_recon.174.tif D:\\Downloads\\Mattijn@Song//CN_2012_NDVI_recon.174.tif\n",
        "gdal_translate -projwin 88.52422981178086 34.55429079909459 92.8717004969717 30.61636445381305 D:\\MODIS_NDVI\\2012\\CN_2012_NDVI_recon.175.tif D:\\Downloads\\Mattijn@Song//CN_2012_NDVI_recon.175.tif\n",
        "gdal_translate -projwin 88.52422981178086 34.55429079909459 92.8717004969717 30.61636445381305 D:\\MODIS_NDVI\\2012\\CN_2012_NDVI_recon.176.tif D:\\Downloads\\Mattijn@Song//CN_2012_NDVI_recon.176.tif\n",
        "gdal_translate -projwin 88.52422981178086 34.55429079909459 92.8717004969717 30.61636445381305 D:\\MODIS_NDVI\\2012\\CN_2012_NDVI_recon.177.tif D:\\Downloads\\Mattijn@Song//CN_2012_NDVI_recon.177.tif\n",
        "gdal_translate -projwin 88.52422981178086 34.55429079909459 92.8717004969717 30.61636445381305 D:\\MODIS_NDVI\\2012\\CN_2012_NDVI_recon.178.tif D:\\Downloads\\Mattijn@Song//CN_2012_NDVI_recon.178.tif\n",
        "gdal_translate -projwin 88.52422981178086 34.55429079909459 92.8717004969717 30.61636445381305 D:\\MODIS_NDVI\\2012\\CN_2012_NDVI_recon.179.tif D:\\Downloads\\Mattijn@Song//CN_2012_NDVI_recon.179.tif\n",
        "gdal_translate -projwin 88.52422981178086 34.55429079909459 92.8717004969717 30.61636445381305 D:\\MODIS_NDVI\\2012\\CN_2012_NDVI_recon.180.tif D:\\Downloads\\Mattijn@Song//CN_2012_NDVI_recon.180.tif\n",
        "gdal_translate -projwin 88.52422981178086 34.55429079909459 92.8717004969717 30.61636445381305 D:\\MODIS_NDVI\\2012\\CN_2012_NDVI_recon.181.tif D:\\Downloads\\Mattijn@Song//CN_2012_NDVI_recon.181.tif\n",
        "gdal_translate -projwin 88.52422981178086 34.55429079909459 92.8717004969717 30.61636445381305 D:\\MODIS_NDVI\\2012\\CN_2012_NDVI_recon.182.tif D:\\Downloads\\Mattijn@Song//CN_2012_NDVI_recon.182.tif\n",
        "gdal_translate -projwin 88.52422981178086 34.55429079909459 92.8717004969717 30.61636445381305 D:\\MODIS_NDVI\\2012\\CN_2012_NDVI_recon.183.tif D:\\Downloads\\Mattijn@Song//CN_2012_NDVI_recon.183.tif\n",
        "gdal_translate -projwin 88.52422981178086 34.55429079909459 92.8717004969717 30.61636445381305 D:\\MODIS_NDVI\\2012\\CN_2012_NDVI_recon.184.tif D:\\Downloads\\Mattijn@Song//CN_2012_NDVI_recon.184.tif\n",
        "gdal_translate -projwin 88.52422981178086 34.55429079909459 92.8717004969717 30.61636445381305 D:\\MODIS_NDVI\\2012\\CN_2012_NDVI_recon.185.tif D:\\Downloads\\Mattijn@Song//CN_2012_NDVI_recon.185.tif\n",
        "gdal_translate -projwin 88.52422981178086 34.55429079909459 92.8717004969717 30.61636445381305 D:\\MODIS_NDVI\\2012\\CN_2012_NDVI_recon.186.tif D:\\Downloads\\Mattijn@Song//CN_2012_NDVI_recon.186.tif\n",
        "gdal_translate -projwin 88.52422981178086 34.55429079909459 92.8717004969717 30.61636445381305 D:\\MODIS_NDVI\\2012\\CN_2012_NDVI_recon.187.tif D:\\Downloads\\Mattijn@Song//CN_2012_NDVI_recon.187.tif\n",
        "gdal_translate -projwin 88.52422981178086 34.55429079909459 92.8717004969717 30.61636445381305 D:\\MODIS_NDVI\\2012\\CN_2012_NDVI_recon.188.tif D:\\Downloads\\Mattijn@Song//CN_2012_NDVI_recon.188.tif\n",
        "gdal_translate -projwin 88.52422981178086 34.55429079909459 92.8717004969717 30.61636445381305 D:\\MODIS_NDVI\\2012\\CN_2012_NDVI_recon.189.tif D:\\Downloads\\Mattijn@Song//CN_2012_NDVI_recon.189.tif\n",
        "gdal_translate -projwin 88.52422981178086 34.55429079909459 92.8717004969717 30.61636445381305 D:\\MODIS_NDVI\\2012\\CN_2012_NDVI_recon.190.tif D:\\Downloads\\Mattijn@Song//CN_2012_NDVI_recon.190.tif\n",
        "gdal_translate -projwin 88.52422981178086 34.55429079909459 92.8717004969717 30.61636445381305 D:\\MODIS_NDVI\\2012\\CN_2012_NDVI_recon.191.tif D:\\Downloads\\Mattijn@Song//CN_2012_NDVI_recon.191.tif\n",
        "gdal_translate -projwin 88.52422981178086 34.55429079909459 92.8717004969717 30.61636445381305 D:\\MODIS_NDVI\\2012\\CN_2012_NDVI_recon.192.tif D:\\Downloads\\Mattijn@Song//CN_2012_NDVI_recon.192.tif\n",
        "gdal_translate -projwin 88.52422981178086 34.55429079909459 92.8717004969717 30.61636445381305 D:\\MODIS_NDVI\\2012\\CN_2012_NDVI_recon.193.tif D:\\Downloads\\Mattijn@Song//CN_2012_NDVI_recon.193.tif\n",
        "gdal_translate -projwin 88.52422981178086 34.55429079909459 92.8717004969717 30.61636445381305 D:\\MODIS_NDVI\\2012\\CN_2012_NDVI_recon.194.tif D:\\Downloads\\Mattijn@Song//CN_2012_NDVI_recon.194.tif\n",
        "gdal_translate -projwin 88.52422981178086 34.55429079909459 92.8717004969717 30.61636445381305 D:\\MODIS_NDVI\\2012\\CN_2012_NDVI_recon.195.tif D:\\Downloads\\Mattijn@Song//CN_2012_NDVI_recon.195.tif\n",
        "gdal_translate -projwin 88.52422981178086 34.55429079909459 92.8717004969717 30.61636445381305 D:\\MODIS_NDVI\\2012\\CN_2012_NDVI_recon.196.tif D:\\Downloads\\Mattijn@Song//CN_2012_NDVI_recon.196.tif\n",
        "gdal_translate -projwin 88.52422981178086 34.55429079909459 92.8717004969717 30.61636445381305 D:\\MODIS_NDVI\\2012\\CN_2012_NDVI_recon.197.tif D:\\Downloads\\Mattijn@Song//CN_2012_NDVI_recon.197.tif\n",
        "gdal_translate -projwin 88.52422981178086 34.55429079909459 92.8717004969717 30.61636445381305 D:\\MODIS_NDVI\\2012\\CN_2012_NDVI_recon.198.tif D:\\Downloads\\Mattijn@Song//CN_2012_NDVI_recon.198.tif\n",
        "gdal_translate -projwin 88.52422981178086 34.55429079909459 92.8717004969717 30.61636445381305 D:\\MODIS_NDVI\\2012\\CN_2012_NDVI_recon.199.tif D:\\Downloads\\Mattijn@Song//CN_2012_NDVI_recon.199.tif\n",
        "gdal_translate -projwin 88.52422981178086 34.55429079909459 92.8717004969717 30.61636445381305 D:\\MODIS_NDVI\\2012\\CN_2012_NDVI_recon.200.tif D:\\Downloads\\Mattijn@Song//CN_2012_NDVI_recon.200.tif\n",
        "gdal_translate -projwin 88.52422981178086 34.55429079909459 92.8717004969717 30.61636445381305 D:\\MODIS_NDVI\\2012\\CN_2012_NDVI_recon.201.tif D:\\Downloads\\Mattijn@Song//CN_2012_NDVI_recon.201.tif\n",
        "gdal_translate -projwin 88.52422981178086 34.55429079909459 92.8717004969717 30.61636445381305 D:\\MODIS_NDVI\\2012\\CN_2012_NDVI_recon.202.tif D:\\Downloads\\Mattijn@Song//CN_2012_NDVI_recon.202.tif\n",
        "gdal_translate -projwin 88.52422981178086 34.55429079909459 92.8717004969717 30.61636445381305 D:\\MODIS_NDVI\\2012\\CN_2012_NDVI_recon.203.tif D:\\Downloads\\Mattijn@Song//CN_2012_NDVI_recon.203.tif\n",
        "gdal_translate -projwin 88.52422981178086 34.55429079909459 92.8717004969717 30.61636445381305 D:\\MODIS_NDVI\\2012\\CN_2012_NDVI_recon.204.tif D:\\Downloads\\Mattijn@Song//CN_2012_NDVI_recon.204.tif\n",
        "gdal_translate -projwin 88.52422981178086 34.55429079909459 92.8717004969717 30.61636445381305 D:\\MODIS_NDVI\\2012\\CN_2012_NDVI_recon.205.tif D:\\Downloads\\Mattijn@Song//CN_2012_NDVI_recon.205.tif\n",
        "gdal_translate -projwin 88.52422981178086 34.55429079909459 92.8717004969717 30.61636445381305 D:\\MODIS_NDVI\\2012\\CN_2012_NDVI_recon.206.tif D:\\Downloads\\Mattijn@Song//CN_2012_NDVI_recon.206.tif\n",
        "gdal_translate -projwin 88.52422981178086 34.55429079909459 92.8717004969717 30.61636445381305 D:\\MODIS_NDVI\\2012\\CN_2012_NDVI_recon.207.tif D:\\Downloads\\Mattijn@Song//CN_2012_NDVI_recon.207.tif\n",
        "gdal_translate -projwin 88.52422981178086 34.55429079909459 92.8717004969717 30.61636445381305 D:\\MODIS_NDVI\\2012\\CN_2012_NDVI_recon.208.tif D:\\Downloads\\Mattijn@Song//CN_2012_NDVI_recon.208.tif\n",
        "gdal_translate -projwin 88.52422981178086 34.55429079909459 92.8717004969717 30.61636445381305 D:\\MODIS_NDVI\\2012\\CN_2012_NDVI_recon.209.tif D:\\Downloads\\Mattijn@Song//CN_2012_NDVI_recon.209.tif\n",
        "gdal_translate -projwin 88.52422981178086 34.55429079909459 92.8717004969717 30.61636445381305 D:\\MODIS_NDVI\\2012\\CN_2012_NDVI_recon.210.tif D:\\Downloads\\Mattijn@Song//CN_2012_NDVI_recon.210.tif\n",
        "gdal_translate -projwin 88.52422981178086 34.55429079909459 92.8717004969717 30.61636445381305 D:\\MODIS_NDVI\\2012\\CN_2012_NDVI_recon.211.tif D:\\Downloads\\Mattijn@Song//CN_2012_NDVI_recon.211.tif\n",
        "gdal_translate -projwin 88.52422981178086 34.55429079909459 92.8717004969717 30.61636445381305 D:\\MODIS_NDVI\\2012\\CN_2012_NDVI_recon.212.tif D:\\Downloads\\Mattijn@Song//CN_2012_NDVI_recon.212.tif\n",
        "gdal_translate -projwin 88.52422981178086 34.55429079909459 92.8717004969717 30.61636445381305 D:\\MODIS_NDVI\\2012\\CN_2012_NDVI_recon.213.tif D:\\Downloads\\Mattijn@Song//CN_2012_NDVI_recon.213.tif\n",
        "gdal_translate -projwin 88.52422981178086 34.55429079909459 92.8717004969717 30.61636445381305 D:\\MODIS_NDVI\\2012\\CN_2012_NDVI_recon.214.tif D:\\Downloads\\Mattijn@Song//CN_2012_NDVI_recon.214.tif\n",
        "gdal_translate -projwin 88.52422981178086 34.55429079909459 92.8717004969717 30.61636445381305 D:\\MODIS_NDVI\\2012\\CN_2012_NDVI_recon.215.tif D:\\Downloads\\Mattijn@Song//CN_2012_NDVI_recon.215.tif\n",
        "gdal_translate -projwin 88.52422981178086 34.55429079909459 92.8717004969717 30.61636445381305 D:\\MODIS_NDVI\\2012\\CN_2012_NDVI_recon.216.tif D:\\Downloads\\Mattijn@Song//CN_2012_NDVI_recon.216.tif\n",
        "gdal_translate -projwin 88.52422981178086 34.55429079909459 92.8717004969717 30.61636445381305 D:\\MODIS_NDVI\\2012\\CN_2012_NDVI_recon.217.tif D:\\Downloads\\Mattijn@Song//CN_2012_NDVI_recon.217.tif\n",
        "gdal_translate -projwin 88.52422981178086 34.55429079909459 92.8717004969717 30.61636445381305 D:\\MODIS_NDVI\\2012\\CN_2012_NDVI_recon.218.tif D:\\Downloads\\Mattijn@Song//CN_2012_NDVI_recon.218.tif\n",
        "gdal_translate -projwin 88.52422981178086 34.55429079909459 92.8717004969717 30.61636445381305 D:\\MODIS_NDVI\\2012\\CN_2012_NDVI_recon.219.tif D:\\Downloads\\Mattijn@Song//CN_2012_NDVI_recon.219.tif\n",
        "gdal_translate -projwin 88.52422981178086 34.55429079909459 92.8717004969717 30.61636445381305 D:\\MODIS_NDVI\\2012\\CN_2012_NDVI_recon.220.tif D:\\Downloads\\Mattijn@Song//CN_2012_NDVI_recon.220.tif\n",
        "gdal_translate -projwin 88.52422981178086 34.55429079909459 92.8717004969717 30.61636445381305 D:\\MODIS_NDVI\\2012\\CN_2012_NDVI_recon.221.tif D:\\Downloads\\Mattijn@Song//CN_2012_NDVI_recon.221.tif\n",
        "gdal_translate -projwin 88.52422981178086 34.55429079909459 92.8717004969717 30.61636445381305 D:\\MODIS_NDVI\\2012\\CN_2012_NDVI_recon.222.tif D:\\Downloads\\Mattijn@Song//CN_2012_NDVI_recon.222.tif\n",
        "gdal_translate -projwin 88.52422981178086 34.55429079909459 92.8717004969717 30.61636445381305 D:\\MODIS_NDVI\\2012\\CN_2012_NDVI_recon.223.tif D:\\Downloads\\Mattijn@Song//CN_2012_NDVI_recon.223.tif\n",
        "gdal_translate -projwin 88.52422981178086 34.55429079909459 92.8717004969717 30.61636445381305 D:\\MODIS_NDVI\\2012\\CN_2012_NDVI_recon.224.tif D:\\Downloads\\Mattijn@Song//CN_2012_NDVI_recon.224.tif\n",
        "gdal_translate -projwin 88.52422981178086 34.55429079909459 92.8717004969717 30.61636445381305 D:\\MODIS_NDVI\\2012\\CN_2012_NDVI_recon.225.tif D:\\Downloads\\Mattijn@Song//CN_2012_NDVI_recon.225.tif\n",
        "gdal_translate -projwin 88.52422981178086 34.55429079909459 92.8717004969717 30.61636445381305 D:\\MODIS_NDVI\\2012\\CN_2012_NDVI_recon.226.tif D:\\Downloads\\Mattijn@Song//CN_2012_NDVI_recon.226.tif\n",
        "gdal_translate -projwin 88.52422981178086 34.55429079909459 92.8717004969717 30.61636445381305 D:\\MODIS_NDVI\\2012\\CN_2012_NDVI_recon.227.tif D:\\Downloads\\Mattijn@Song//CN_2012_NDVI_recon.227.tif\n",
        "gdal_translate -projwin 88.52422981178086 34.55429079909459 92.8717004969717 30.61636445381305 D:\\MODIS_NDVI\\2012\\CN_2012_NDVI_recon.228.tif D:\\Downloads\\Mattijn@Song//CN_2012_NDVI_recon.228.tif\n",
        "gdal_translate -projwin 88.52422981178086 34.55429079909459 92.8717004969717 30.61636445381305 D:\\MODIS_NDVI\\2012\\CN_2012_NDVI_recon.229.tif D:\\Downloads\\Mattijn@Song//CN_2012_NDVI_recon.229.tif\n",
        "gdal_translate -projwin 88.52422981178086 34.55429079909459 92.8717004969717 30.61636445381305 D:\\MODIS_NDVI\\2012\\CN_2012_NDVI_recon.230.tif D:\\Downloads\\Mattijn@Song//CN_2012_NDVI_recon.230.tif\n",
        "gdal_translate -projwin 88.52422981178086 34.55429079909459 92.8717004969717 30.61636445381305 D:\\MODIS_NDVI\\2012\\CN_2012_NDVI_recon.231.tif D:\\Downloads\\Mattijn@Song//CN_2012_NDVI_recon.231.tif\n",
        "gdal_translate -projwin 88.52422981178086 34.55429079909459 92.8717004969717 30.61636445381305 D:\\MODIS_NDVI\\2012\\CN_2012_NDVI_recon.232.tif D:\\Downloads\\Mattijn@Song//CN_2012_NDVI_recon.232.tif\n",
        "gdal_translate -projwin 88.52422981178086 34.55429079909459 92.8717004969717 30.61636445381305 D:\\MODIS_NDVI\\2012\\CN_2012_NDVI_recon.233.tif D:\\Downloads\\Mattijn@Song//CN_2012_NDVI_recon.233.tif\n",
        "gdal_translate -projwin 88.52422981178086 34.55429079909459 92.8717004969717 30.61636445381305 D:\\MODIS_NDVI\\2012\\CN_2012_NDVI_recon.234.tif D:\\Downloads\\Mattijn@Song//CN_2012_NDVI_recon.234.tif\n",
        "gdal_translate -projwin 88.52422981178086 34.55429079909459 92.8717004969717 30.61636445381305 D:\\MODIS_NDVI\\2012\\CN_2012_NDVI_recon.235.tif D:\\Downloads\\Mattijn@Song//CN_2012_NDVI_recon.235.tif\n",
        "gdal_translate -projwin 88.52422981178086 34.55429079909459 92.8717004969717 30.61636445381305 D:\\MODIS_NDVI\\2012\\CN_2012_NDVI_recon.236.tif D:\\Downloads\\Mattijn@Song//CN_2012_NDVI_recon.236.tif\n",
        "gdal_translate -projwin 88.52422981178086 34.55429079909459 92.8717004969717 30.61636445381305 D:\\MODIS_NDVI\\2012\\CN_2012_NDVI_recon.237.tif D:\\Downloads\\Mattijn@Song//CN_2012_NDVI_recon.237.tif\n",
        "gdal_translate -projwin 88.52422981178086 34.55429079909459 92.8717004969717 30.61636445381305 D:\\MODIS_NDVI\\2012\\CN_2012_NDVI_recon.238.tif D:\\Downloads\\Mattijn@Song//CN_2012_NDVI_recon.238.tif\n",
        "gdal_translate -projwin 88.52422981178086 34.55429079909459 92.8717004969717 30.61636445381305 D:\\MODIS_NDVI\\2012\\CN_2012_NDVI_recon.239.tif D:\\Downloads\\Mattijn@Song//CN_2012_NDVI_recon.239.tif\n",
        "gdal_translate -projwin 88.52422981178086 34.55429079909459 92.8717004969717 30.61636445381305 D:\\MODIS_NDVI\\2012\\CN_2012_NDVI_recon.240.tif D:\\Downloads\\Mattijn@Song//CN_2012_NDVI_recon.240.tif\n",
        "gdal_translate -projwin 88.52422981178086 34.55429079909459 92.8717004969717 30.61636445381305 D:\\MODIS_NDVI\\2012\\CN_2012_NDVI_recon.241.tif D:\\Downloads\\Mattijn@Song//CN_2012_NDVI_recon.241.tif\n",
        "gdal_translate -projwin 88.52422981178086 34.55429079909459 92.8717004969717 30.61636445381305 D:\\MODIS_NDVI\\2012\\CN_2012_NDVI_recon.242.tif D:\\Downloads\\Mattijn@Song//CN_2012_NDVI_recon.242.tif\n",
        "gdal_translate -projwin 88.52422981178086 34.55429079909459 92.8717004969717 30.61636445381305 D:\\MODIS_NDVI\\2012\\CN_2012_NDVI_recon.243.tif D:\\Downloads\\Mattijn@Song//CN_2012_NDVI_recon.243.tif\n",
        "gdal_translate -projwin 88.52422981178086 34.55429079909459 92.8717004969717 30.61636445381305 D:\\MODIS_NDVI\\2012\\CN_2012_NDVI_recon.244.tif D:\\Downloads\\Mattijn@Song//CN_2012_NDVI_recon.244.tif\n",
        "gdal_translate -projwin 88.52422981178086 34.55429079909459 92.8717004969717 30.61636445381305 D:\\MODIS_NDVI\\2012\\CN_2012_NDVI_recon.245.tif D:\\Downloads\\Mattijn@Song//CN_2012_NDVI_recon.245.tif\n",
        "gdal_translate -projwin 88.52422981178086 34.55429079909459 92.8717004969717 30.61636445381305 D:\\MODIS_NDVI\\2012\\CN_2012_NDVI_recon.246.tif D:\\Downloads\\Mattijn@Song//CN_2012_NDVI_recon.246.tif\n",
        "gdal_translate -projwin 88.52422981178086 34.55429079909459 92.8717004969717 30.61636445381305 D:\\MODIS_NDVI\\2012\\CN_2012_NDVI_recon.247.tif D:\\Downloads\\Mattijn@Song//CN_2012_NDVI_recon.247.tif\n",
        "gdal_translate -projwin 88.52422981178086 34.55429079909459 92.8717004969717 30.61636445381305 D:\\MODIS_NDVI\\2012\\CN_2012_NDVI_recon.248.tif D:\\Downloads\\Mattijn@Song//CN_2012_NDVI_recon.248.tif\n",
        "gdal_translate -projwin 88.52422981178086 34.55429079909459 92.8717004969717 30.61636445381305 D:\\MODIS_NDVI\\2012\\CN_2012_NDVI_recon.249.tif D:\\Downloads\\Mattijn@Song//CN_2012_NDVI_recon.249.tif\n",
        "gdal_translate -projwin 88.52422981178086 34.55429079909459 92.8717004969717 30.61636445381305 D:\\MODIS_NDVI\\2012\\CN_2012_NDVI_recon.250.tif D:\\Downloads\\Mattijn@Song//CN_2012_NDVI_recon.250.tif\n",
        "gdal_translate -projwin 88.52422981178086 34.55429079909459 92.8717004969717 30.61636445381305 D:\\MODIS_NDVI\\2012\\CN_2012_NDVI_recon.251.tif D:\\Downloads\\Mattijn@Song//CN_2012_NDVI_recon.251.tif\n",
        "gdal_translate -projwin 88.52422981178086 34.55429079909459 92.8717004969717 30.61636445381305 D:\\MODIS_NDVI\\2012\\CN_2012_NDVI_recon.252.tif D:\\Downloads\\Mattijn@Song//CN_2012_NDVI_recon.252.tif\n",
        "gdal_translate -projwin 88.52422981178086 34.55429079909459 92.8717004969717 30.61636445381305 D:\\MODIS_NDVI\\2012\\CN_2012_NDVI_recon.253.tif D:\\Downloads\\Mattijn@Song//CN_2012_NDVI_recon.253.tif\n",
        "gdal_translate -projwin 88.52422981178086 34.55429079909459 92.8717004969717 30.61636445381305 D:\\MODIS_NDVI\\2012\\CN_2012_NDVI_recon.254.tif D:\\Downloads\\Mattijn@Song//CN_2012_NDVI_recon.254.tif\n",
        "gdal_translate -projwin 88.52422981178086 34.55429079909459 92.8717004969717 30.61636445381305 D:\\MODIS_NDVI\\2012\\CN_2012_NDVI_recon.255.tif D:\\Downloads\\Mattijn@Song//CN_2012_NDVI_recon.255.tif\n",
        "gdal_translate -projwin 88.52422981178086 34.55429079909459 92.8717004969717 30.61636445381305 D:\\MODIS_NDVI\\2012\\CN_2012_NDVI_recon.256.tif D:\\Downloads\\Mattijn@Song//CN_2012_NDVI_recon.256.tif\n",
        "gdal_translate -projwin 88.52422981178086 34.55429079909459 92.8717004969717 30.61636445381305 D:\\MODIS_NDVI\\2012\\CN_2012_NDVI_recon.257.tif D:\\Downloads\\Mattijn@Song//CN_2012_NDVI_recon.257.tif\n",
        "gdal_translate -projwin 88.52422981178086 34.55429079909459 92.8717004969717 30.61636445381305 D:\\MODIS_NDVI\\2012\\CN_2012_NDVI_recon.258.tif D:\\Downloads\\Mattijn@Song//CN_2012_NDVI_recon.258.tif\n",
        "gdal_translate -projwin 88.52422981178086 34.55429079909459 92.8717004969717 30.61636445381305 D:\\MODIS_NDVI\\2012\\CN_2012_NDVI_recon.259.tif D:\\Downloads\\Mattijn@Song//CN_2012_NDVI_recon.259.tif\n",
        "gdal_translate -projwin 88.52422981178086 34.55429079909459 92.8717004969717 30.61636445381305 D:\\MODIS_NDVI\\2012\\CN_2012_NDVI_recon.260.tif D:\\Downloads\\Mattijn@Song//CN_2012_NDVI_recon.260.tif\n",
        "gdal_translate -projwin 88.52422981178086 34.55429079909459 92.8717004969717 30.61636445381305 D:\\MODIS_NDVI\\2012\\CN_2012_NDVI_recon.261.tif D:\\Downloads\\Mattijn@Song//CN_2012_NDVI_recon.261.tif\n",
        "gdal_translate -projwin 88.52422981178086 34.55429079909459 92.8717004969717 30.61636445381305 D:\\MODIS_NDVI\\2012\\CN_2012_NDVI_recon.262.tif D:\\Downloads\\Mattijn@Song//CN_2012_NDVI_recon.262.tif\n",
        "gdal_translate -projwin 88.52422981178086 34.55429079909459 92.8717004969717 30.61636445381305 D:\\MODIS_NDVI\\2012\\CN_2012_NDVI_recon.263.tif D:\\Downloads\\Mattijn@Song//CN_2012_NDVI_recon.263.tif\n",
        "gdal_translate -projwin 88.52422981178086 34.55429079909459 92.8717004969717 30.61636445381305 D:\\MODIS_NDVI\\2012\\CN_2012_NDVI_recon.264.tif D:\\Downloads\\Mattijn@Song//CN_2012_NDVI_recon.264.tif\n",
        "gdal_translate -projwin 88.52422981178086 34.55429079909459 92.8717004969717 30.61636445381305 D:\\MODIS_NDVI\\2012\\CN_2012_NDVI_recon.265.tif D:\\Downloads\\Mattijn@Song//CN_2012_NDVI_recon.265.tif\n",
        "gdal_translate -projwin 88.52422981178086 34.55429079909459 92.8717004969717 30.61636445381305 D:\\MODIS_NDVI\\2012\\CN_2012_NDVI_recon.266.tif D:\\Downloads\\Mattijn@Song//CN_2012_NDVI_recon.266.tif\n",
        "gdal_translate -projwin 88.52422981178086 34.55429079909459 92.8717004969717 30.61636445381305 D:\\MODIS_NDVI\\2012\\CN_2012_NDVI_recon.267.tif D:\\Downloads\\Mattijn@Song//CN_2012_NDVI_recon.267.tif\n",
        "gdal_translate -projwin 88.52422981178086 34.55429079909459 92.8717004969717 30.61636445381305 D:\\MODIS_NDVI\\2012\\CN_2012_NDVI_recon.268.tif D:\\Downloads\\Mattijn@Song//CN_2012_NDVI_recon.268.tif\n",
        "gdal_translate -projwin 88.52422981178086 34.55429079909459 92.8717004969717 30.61636445381305 D:\\MODIS_NDVI\\2012\\CN_2012_NDVI_recon.269.tif D:\\Downloads\\Mattijn@Song//CN_2012_NDVI_recon.269.tif\n",
        "gdal_translate -projwin 88.52422981178086 34.55429079909459 92.8717004969717 30.61636445381305 D:\\MODIS_NDVI\\2012\\CN_2012_NDVI_recon.270.tif D:\\Downloads\\Mattijn@Song//CN_2012_NDVI_recon.270.tif\n",
        "gdal_translate -projwin 88.52422981178086 34.55429079909459 92.8717004969717 30.61636445381305 D:\\MODIS_NDVI\\2012\\CN_2012_NDVI_recon.271.tif D:\\Downloads\\Mattijn@Song//CN_2012_NDVI_recon.271.tif\n",
        "gdal_translate -projwin 88.52422981178086 34.55429079909459 92.8717004969717 30.61636445381305 D:\\MODIS_NDVI\\2012\\CN_2012_NDVI_recon.272.tif D:\\Downloads\\Mattijn@Song//CN_2012_NDVI_recon.272.tif\n",
        "gdal_translate -projwin 88.52422981178086 34.55429079909459 92.8717004969717 30.61636445381305 D:\\MODIS_NDVI\\2012\\CN_2012_NDVI_recon.273.tif D:\\Downloads\\Mattijn@Song//CN_2012_NDVI_recon.273.tif\n",
        "gdal_translate -projwin 88.52422981178086 34.55429079909459 92.8717004969717 30.61636445381305 D:\\MODIS_NDVI\\2012\\CN_2012_NDVI_recon.274.tif D:\\Downloads\\Mattijn@Song//CN_2012_NDVI_recon.274.tif\n",
        "gdal_translate -projwin 88.52422981178086 34.55429079909459 92.8717004969717 30.61636445381305 D:\\MODIS_NDVI\\2012\\CN_2012_NDVI_recon.275.tif D:\\Downloads\\Mattijn@Song//CN_2012_NDVI_recon.275.tif\n",
        "gdal_translate -projwin 88.52422981178086 34.55429079909459 92.8717004969717 30.61636445381305 D:\\MODIS_NDVI\\2012\\CN_2012_NDVI_recon.276.tif D:\\Downloads\\Mattijn@Song//CN_2012_NDVI_recon.276.tif\n",
        "gdal_translate -projwin 88.52422981178086 34.55429079909459 92.8717004969717 30.61636445381305 D:\\MODIS_NDVI\\2012\\CN_2012_NDVI_recon.277.tif D:\\Downloads\\Mattijn@Song//CN_2012_NDVI_recon.277.tif\n",
        "gdal_translate -projwin 88.52422981178086 34.55429079909459 92.8717004969717 30.61636445381305 D:\\MODIS_NDVI\\2012\\CN_2012_NDVI_recon.278.tif D:\\Downloads\\Mattijn@Song//CN_2012_NDVI_recon.278.tif\n",
        "gdal_translate -projwin 88.52422981178086 34.55429079909459 92.8717004969717 30.61636445381305 D:\\MODIS_NDVI\\2012\\CN_2012_NDVI_recon.279.tif D:\\Downloads\\Mattijn@Song//CN_2012_NDVI_recon.279.tif\n",
        "gdal_translate -projwin 88.52422981178086 34.55429079909459 92.8717004969717 30.61636445381305 D:\\MODIS_NDVI\\2012\\CN_2012_NDVI_recon.280.tif D:\\Downloads\\Mattijn@Song//CN_2012_NDVI_recon.280.tif\n",
        "gdal_translate -projwin 88.52422981178086 34.55429079909459 92.8717004969717 30.61636445381305 D:\\MODIS_NDVI\\2012\\CN_2012_NDVI_recon.281.tif D:\\Downloads\\Mattijn@Song//CN_2012_NDVI_recon.281.tif\n",
        "gdal_translate -projwin 88.52422981178086 34.55429079909459 92.8717004969717 30.61636445381305 D:\\MODIS_NDVI\\2012\\CN_2012_NDVI_recon.282.tif D:\\Downloads\\Mattijn@Song//CN_2012_NDVI_recon.282.tif\n",
        "gdal_translate -projwin 88.52422981178086 34.55429079909459 92.8717004969717 30.61636445381305 D:\\MODIS_NDVI\\2012\\CN_2012_NDVI_recon.283.tif D:\\Downloads\\Mattijn@Song//CN_2012_NDVI_recon.283.tif\n",
        "gdal_translate -projwin 88.52422981178086 34.55429079909459 92.8717004969717 30.61636445381305 D:\\MODIS_NDVI\\2012\\CN_2012_NDVI_recon.284.tif D:\\Downloads\\Mattijn@Song//CN_2012_NDVI_recon.284.tif\n",
        "gdal_translate -projwin 88.52422981178086 34.55429079909459 92.8717004969717 30.61636445381305 D:\\MODIS_NDVI\\2012\\CN_2012_NDVI_recon.285.tif D:\\Downloads\\Mattijn@Song//CN_2012_NDVI_recon.285.tif\n",
        "gdal_translate -projwin 88.52422981178086 34.55429079909459 92.8717004969717 30.61636445381305 D:\\MODIS_NDVI\\2012\\CN_2012_NDVI_recon.286.tif D:\\Downloads\\Mattijn@Song//CN_2012_NDVI_recon.286.tif\n",
        "gdal_translate -projwin 88.52422981178086 34.55429079909459 92.8717004969717 30.61636445381305 D:\\MODIS_NDVI\\2012\\CN_2012_NDVI_recon.287.tif D:\\Downloads\\Mattijn@Song//CN_2012_NDVI_recon.287.tif\n",
        "gdal_translate -projwin 88.52422981178086 34.55429079909459 92.8717004969717 30.61636445381305 D:\\MODIS_NDVI\\2012\\CN_2012_NDVI_recon.288.tif D:\\Downloads\\Mattijn@Song//CN_2012_NDVI_recon.288.tif\n",
        "gdal_translate -projwin 88.52422981178086 34.55429079909459 92.8717004969717 30.61636445381305 D:\\MODIS_NDVI\\2012\\CN_2012_NDVI_recon.289.tif D:\\Downloads\\Mattijn@Song//CN_2012_NDVI_recon.289.tif\n",
        "gdal_translate -projwin 88.52422981178086 34.55429079909459 92.8717004969717 30.61636445381305 D:\\MODIS_NDVI\\2012\\CN_2012_NDVI_recon.290.tif D:\\Downloads\\Mattijn@Song//CN_2012_NDVI_recon.290.tif\n",
        "gdal_translate -projwin 88.52422981178086 34.55429079909459 92.8717004969717 30.61636445381305 D:\\MODIS_NDVI\\2012\\CN_2012_NDVI_recon.291.tif D:\\Downloads\\Mattijn@Song//CN_2012_NDVI_recon.291.tif\n",
        "gdal_translate -projwin 88.52422981178086 34.55429079909459 92.8717004969717 30.61636445381305 D:\\MODIS_NDVI\\2012\\CN_2012_NDVI_recon.292.tif D:\\Downloads\\Mattijn@Song//CN_2012_NDVI_recon.292.tif\n",
        "gdal_translate -projwin 88.52422981178086 34.55429079909459 92.8717004969717 30.61636445381305 D:\\MODIS_NDVI\\2012\\CN_2012_NDVI_recon.293.tif D:\\Downloads\\Mattijn@Song//CN_2012_NDVI_recon.293.tif\n",
        "gdal_translate -projwin 88.52422981178086 34.55429079909459 92.8717004969717 30.61636445381305 D:\\MODIS_NDVI\\2012\\CN_2012_NDVI_recon.294.tif D:\\Downloads\\Mattijn@Song//CN_2012_NDVI_recon.294.tif\n",
        "gdal_translate -projwin 88.52422981178086 34.55429079909459 92.8717004969717 30.61636445381305 D:\\MODIS_NDVI\\2012\\CN_2012_NDVI_recon.295.tif D:\\Downloads\\Mattijn@Song//CN_2012_NDVI_recon.295.tif\n",
        "gdal_translate -projwin 88.52422981178086 34.55429079909459 92.8717004969717 30.61636445381305 D:\\MODIS_NDVI\\2012\\CN_2012_NDVI_recon.296.tif D:\\Downloads\\Mattijn@Song//CN_2012_NDVI_recon.296.tif\n",
        "gdal_translate -projwin 88.52422981178086 34.55429079909459 92.8717004969717 30.61636445381305 D:\\MODIS_NDVI\\2012\\CN_2012_NDVI_recon.297.tif D:\\Downloads\\Mattijn@Song//CN_2012_NDVI_recon.297.tif\n",
        "gdal_translate -projwin 88.52422981178086 34.55429079909459 92.8717004969717 30.61636445381305 D:\\MODIS_NDVI\\2012\\CN_2012_NDVI_recon.298.tif D:\\Downloads\\Mattijn@Song//CN_2012_NDVI_recon.298.tif\n",
        "gdal_translate -projwin 88.52422981178086 34.55429079909459 92.8717004969717 30.61636445381305 D:\\MODIS_NDVI\\2012\\CN_2012_NDVI_recon.299.tif D:\\Downloads\\Mattijn@Song//CN_2012_NDVI_recon.299.tif\n",
        "gdal_translate -projwin 88.52422981178086 34.55429079909459 92.8717004969717 30.61636445381305 D:\\MODIS_NDVI\\2012\\CN_2012_NDVI_recon.300.tif D:\\Downloads\\Mattijn@Song//CN_2012_NDVI_recon.300.tif\n",
        "gdal_translate -projwin 88.52422981178086 34.55429079909459 92.8717004969717 30.61636445381305 D:\\MODIS_NDVI\\2012\\CN_2012_NDVI_recon.301.tif D:\\Downloads\\Mattijn@Song//CN_2012_NDVI_recon.301.tif\n",
        "gdal_translate -projwin 88.52422981178086 34.55429079909459 92.8717004969717 30.61636445381305 D:\\MODIS_NDVI\\2012\\CN_2012_NDVI_recon.302.tif D:\\Downloads\\Mattijn@Song//CN_2012_NDVI_recon.302.tif\n",
        "gdal_translate -projwin 88.52422981178086 34.55429079909459 92.8717004969717 30.61636445381305 D:\\MODIS_NDVI\\2012\\CN_2012_NDVI_recon.303.tif D:\\Downloads\\Mattijn@Song//CN_2012_NDVI_recon.303.tif\n",
        "gdal_translate -projwin 88.52422981178086 34.55429079909459 92.8717004969717 30.61636445381305 D:\\MODIS_NDVI\\2012\\CN_2012_NDVI_recon.304.tif D:\\Downloads\\Mattijn@Song//CN_2012_NDVI_recon.304.tif\n",
        "gdal_translate -projwin 88.52422981178086 34.55429079909459 92.8717004969717 30.61636445381305 D:\\MODIS_NDVI\\2012\\CN_2012_NDVI_recon.305.tif D:\\Downloads\\Mattijn@Song//CN_2012_NDVI_recon.305.tif\n",
        "gdal_translate -projwin 88.52422981178086 34.55429079909459 92.8717004969717 30.61636445381305 D:\\MODIS_NDVI\\2012\\CN_2012_NDVI_recon.306.tif D:\\Downloads\\Mattijn@Song//CN_2012_NDVI_recon.306.tif\n",
        "gdal_translate -projwin 88.52422981178086 34.55429079909459 92.8717004969717 30.61636445381305 D:\\MODIS_NDVI\\2012\\CN_2012_NDVI_recon.307.tif D:\\Downloads\\Mattijn@Song//CN_2012_NDVI_recon.307.tif\n",
        "gdal_translate -projwin 88.52422981178086 34.55429079909459 92.8717004969717 30.61636445381305 D:\\MODIS_NDVI\\2012\\CN_2012_NDVI_recon.308.tif D:\\Downloads\\Mattijn@Song//CN_2012_NDVI_recon.308.tif\n",
        "gdal_translate -projwin 88.52422981178086 34.55429079909459 92.8717004969717 30.61636445381305 D:\\MODIS_NDVI\\2012\\CN_2012_NDVI_recon.309.tif D:\\Downloads\\Mattijn@Song//CN_2012_NDVI_recon.309.tif\n",
        "gdal_translate -projwin 88.52422981178086 34.55429079909459 92.8717004969717 30.61636445381305 D:\\MODIS_NDVI\\2012\\CN_2012_NDVI_recon.310.tif D:\\Downloads\\Mattijn@Song//CN_2012_NDVI_recon.310.tif\n",
        "gdal_translate -projwin 88.52422981178086 34.55429079909459 92.8717004969717 30.61636445381305 D:\\MODIS_NDVI\\2012\\CN_2012_NDVI_recon.311.tif D:\\Downloads\\Mattijn@Song//CN_2012_NDVI_recon.311.tif\n",
        "gdal_translate -projwin 88.52422981178086 34.55429079909459 92.8717004969717 30.61636445381305 D:\\MODIS_NDVI\\2012\\CN_2012_NDVI_recon.312.tif D:\\Downloads\\Mattijn@Song//CN_2012_NDVI_recon.312.tif\n",
        "gdal_translate -projwin 88.52422981178086 34.55429079909459 92.8717004969717 30.61636445381305 D:\\MODIS_NDVI\\2012\\CN_2012_NDVI_recon.313.tif D:\\Downloads\\Mattijn@Song//CN_2012_NDVI_recon.313.tif\n",
        "gdal_translate -projwin 88.52422981178086 34.55429079909459 92.8717004969717 30.61636445381305 D:\\MODIS_NDVI\\2012\\CN_2012_NDVI_recon.314.tif D:\\Downloads\\Mattijn@Song//CN_2012_NDVI_recon.314.tif\n",
        "gdal_translate -projwin 88.52422981178086 34.55429079909459 92.8717004969717 30.61636445381305 D:\\MODIS_NDVI\\2012\\CN_2012_NDVI_recon.315.tif D:\\Downloads\\Mattijn@Song//CN_2012_NDVI_recon.315.tif\n",
        "gdal_translate -projwin 88.52422981178086 34.55429079909459 92.8717004969717 30.61636445381305 D:\\MODIS_NDVI\\2012\\CN_2012_NDVI_recon.316.tif D:\\Downloads\\Mattijn@Song//CN_2012_NDVI_recon.316.tif\n",
        "gdal_translate -projwin 88.52422981178086 34.55429079909459 92.8717004969717 30.61636445381305 D:\\MODIS_NDVI\\2012\\CN_2012_NDVI_recon.317.tif D:\\Downloads\\Mattijn@Song//CN_2012_NDVI_recon.317.tif\n",
        "gdal_translate -projwin 88.52422981178086 34.55429079909459 92.8717004969717 30.61636445381305 D:\\MODIS_NDVI\\2012\\CN_2012_NDVI_recon.318.tif D:\\Downloads\\Mattijn@Song//CN_2012_NDVI_recon.318.tif\n",
        "gdal_translate -projwin 88.52422981178086 34.55429079909459 92.8717004969717 30.61636445381305 D:\\MODIS_NDVI\\2012\\CN_2012_NDVI_recon.319.tif D:\\Downloads\\Mattijn@Song//CN_2012_NDVI_recon.319.tif\n",
        "gdal_translate -projwin 88.52422981178086 34.55429079909459 92.8717004969717 30.61636445381305 D:\\MODIS_NDVI\\2012\\CN_2012_NDVI_recon.320.tif D:\\Downloads\\Mattijn@Song//CN_2012_NDVI_recon.320.tif\n",
        "gdal_translate -projwin 88.52422981178086 34.55429079909459 92.8717004969717 30.61636445381305 D:\\MODIS_NDVI\\2012\\CN_2012_NDVI_recon.321.tif D:\\Downloads\\Mattijn@Song//CN_2012_NDVI_recon.321.tif\n",
        "gdal_translate -projwin 88.52422981178086 34.55429079909459 92.8717004969717 30.61636445381305 D:\\MODIS_NDVI\\2012\\CN_2012_NDVI_recon.322.tif D:\\Downloads\\Mattijn@Song//CN_2012_NDVI_recon.322.tif\n",
        "gdal_translate -projwin 88.52422981178086 34.55429079909459 92.8717004969717 30.61636445381305 D:\\MODIS_NDVI\\2012\\CN_2012_NDVI_recon.323.tif D:\\Downloads\\Mattijn@Song//CN_2012_NDVI_recon.323.tif\n",
        "gdal_translate -projwin 88.52422981178086 34.55429079909459 92.8717004969717 30.61636445381305 D:\\MODIS_NDVI\\2012\\CN_2012_NDVI_recon.324.tif D:\\Downloads\\Mattijn@Song//CN_2012_NDVI_recon.324.tif\n",
        "gdal_translate -projwin 88.52422981178086 34.55429079909459 92.8717004969717 30.61636445381305 D:\\MODIS_NDVI\\2012\\CN_2012_NDVI_recon.325.tif D:\\Downloads\\Mattijn@Song//CN_2012_NDVI_recon.325.tif\n",
        "gdal_translate -projwin 88.52422981178086 34.55429079909459 92.8717004969717 30.61636445381305 D:\\MODIS_NDVI\\2012\\CN_2012_NDVI_recon.326.tif D:\\Downloads\\Mattijn@Song//CN_2012_NDVI_recon.326.tif\n",
        "gdal_translate -projwin 88.52422981178086 34.55429079909459 92.8717004969717 30.61636445381305 D:\\MODIS_NDVI\\2012\\CN_2012_NDVI_recon.327.tif D:\\Downloads\\Mattijn@Song//CN_2012_NDVI_recon.327.tif\n",
        "gdal_translate -projwin 88.52422981178086 34.55429079909459 92.8717004969717 30.61636445381305 D:\\MODIS_NDVI\\2012\\CN_2012_NDVI_recon.328.tif D:\\Downloads\\Mattijn@Song//CN_2012_NDVI_recon.328.tif\n",
        "gdal_translate -projwin 88.52422981178086 34.55429079909459 92.8717004969717 30.61636445381305 D:\\MODIS_NDVI\\2012\\CN_2012_NDVI_recon.329.tif D:\\Downloads\\Mattijn@Song//CN_2012_NDVI_recon.329.tif\n",
        "gdal_translate -projwin 88.52422981178086 34.55429079909459 92.8717004969717 30.61636445381305 D:\\MODIS_NDVI\\2012\\CN_2012_NDVI_recon.330.tif D:\\Downloads\\Mattijn@Song//CN_2012_NDVI_recon.330.tif\n",
        "gdal_translate -projwin 88.52422981178086 34.55429079909459 92.8717004969717 30.61636445381305 D:\\MODIS_NDVI\\2012\\CN_2012_NDVI_recon.331.tif D:\\Downloads\\Mattijn@Song//CN_2012_NDVI_recon.331.tif\n",
        "gdal_translate -projwin 88.52422981178086 34.55429079909459 92.8717004969717 30.61636445381305 D:\\MODIS_NDVI\\2012\\CN_2012_NDVI_recon.332.tif D:\\Downloads\\Mattijn@Song//CN_2012_NDVI_recon.332.tif\n",
        "gdal_translate -projwin 88.52422981178086 34.55429079909459 92.8717004969717 30.61636445381305 D:\\MODIS_NDVI\\2012\\CN_2012_NDVI_recon.333.tif D:\\Downloads\\Mattijn@Song//CN_2012_NDVI_recon.333.tif\n",
        "gdal_translate -projwin 88.52422981178086 34.55429079909459 92.8717004969717 30.61636445381305 D:\\MODIS_NDVI\\2012\\CN_2012_NDVI_recon.334.tif D:\\Downloads\\Mattijn@Song//CN_2012_NDVI_recon.334.tif\n",
        "gdal_translate -projwin 88.52422981178086 34.55429079909459 92.8717004969717 30.61636445381305 D:\\MODIS_NDVI\\2012\\CN_2012_NDVI_recon.335.tif D:\\Downloads\\Mattijn@Song//CN_2012_NDVI_recon.335.tif\n",
        "gdal_translate -projwin 88.52422981178086 34.55429079909459 92.8717004969717 30.61636445381305 D:\\MODIS_NDVI\\2012\\CN_2012_NDVI_recon.336.tif D:\\Downloads\\Mattijn@Song//CN_2012_NDVI_recon.336.tif\n",
        "gdal_translate -projwin 88.52422981178086 34.55429079909459 92.8717004969717 30.61636445381305 D:\\MODIS_NDVI\\2012\\CN_2012_NDVI_recon.337.tif D:\\Downloads\\Mattijn@Song//CN_2012_NDVI_recon.337.tif\n",
        "gdal_translate -projwin 88.52422981178086 34.55429079909459 92.8717004969717 30.61636445381305 D:\\MODIS_NDVI\\2012\\CN_2012_NDVI_recon.338.tif D:\\Downloads\\Mattijn@Song//CN_2012_NDVI_recon.338.tif\n",
        "gdal_translate -projwin 88.52422981178086 34.55429079909459 92.8717004969717 30.61636445381305 D:\\MODIS_NDVI\\2012\\CN_2012_NDVI_recon.339.tif D:\\Downloads\\Mattijn@Song//CN_2012_NDVI_recon.339.tif\n",
        "gdal_translate -projwin 88.52422981178086 34.55429079909459 92.8717004969717 30.61636445381305 D:\\MODIS_NDVI\\2012\\CN_2012_NDVI_recon.340.tif D:\\Downloads\\Mattijn@Song//CN_2012_NDVI_recon.340.tif\n",
        "gdal_translate -projwin 88.52422981178086 34.55429079909459 92.8717004969717 30.61636445381305 D:\\MODIS_NDVI\\2012\\CN_2012_NDVI_recon.341.tif D:\\Downloads\\Mattijn@Song//CN_2012_NDVI_recon.341.tif\n",
        "gdal_translate -projwin 88.52422981178086 34.55429079909459 92.8717004969717 30.61636445381305 D:\\MODIS_NDVI\\2012\\CN_2012_NDVI_recon.342.tif D:\\Downloads\\Mattijn@Song//CN_2012_NDVI_recon.342.tif\n",
        "gdal_translate -projwin 88.52422981178086 34.55429079909459 92.8717004969717 30.61636445381305 D:\\MODIS_NDVI\\2012\\CN_2012_NDVI_recon.343.tif D:\\Downloads\\Mattijn@Song//CN_2012_NDVI_recon.343.tif\n",
        "gdal_translate -projwin 88.52422981178086 34.55429079909459 92.8717004969717 30.61636445381305 D:\\MODIS_NDVI\\2012\\CN_2012_NDVI_recon.344.tif D:\\Downloads\\Mattijn@Song//CN_2012_NDVI_recon.344.tif\n",
        "gdal_translate -projwin 88.52422981178086 34.55429079909459 92.8717004969717 30.61636445381305 D:\\MODIS_NDVI\\2012\\CN_2012_NDVI_recon.345.tif D:\\Downloads\\Mattijn@Song//CN_2012_NDVI_recon.345.tif\n",
        "gdal_translate -projwin 88.52422981178086 34.55429079909459 92.8717004969717 30.61636445381305 D:\\MODIS_NDVI\\2012\\CN_2012_NDVI_recon.346.tif D:\\Downloads\\Mattijn@Song//CN_2012_NDVI_recon.346.tif\n",
        "gdal_translate -projwin 88.52422981178086 34.55429079909459 92.8717004969717 30.61636445381305 D:\\MODIS_NDVI\\2012\\CN_2012_NDVI_recon.347.tif D:\\Downloads\\Mattijn@Song//CN_2012_NDVI_recon.347.tif\n",
        "gdal_translate -projwin 88.52422981178086 34.55429079909459 92.8717004969717 30.61636445381305 D:\\MODIS_NDVI\\2012\\CN_2012_NDVI_recon.348.tif D:\\Downloads\\Mattijn@Song//CN_2012_NDVI_recon.348.tif\n",
        "gdal_translate -projwin 88.52422981178086 34.55429079909459 92.8717004969717 30.61636445381305 D:\\MODIS_NDVI\\2012\\CN_2012_NDVI_recon.349.tif D:\\Downloads\\Mattijn@Song//CN_2012_NDVI_recon.349.tif\n",
        "gdal_translate -projwin 88.52422981178086 34.55429079909459 92.8717004969717 30.61636445381305 D:\\MODIS_NDVI\\2012\\CN_2012_NDVI_recon.350.tif D:\\Downloads\\Mattijn@Song//CN_2012_NDVI_recon.350.tif\n",
        "gdal_translate -projwin 88.52422981178086 34.55429079909459 92.8717004969717 30.61636445381305 D:\\MODIS_NDVI\\2012\\CN_2012_NDVI_recon.351.tif D:\\Downloads\\Mattijn@Song//CN_2012_NDVI_recon.351.tif\n",
        "gdal_translate -projwin 88.52422981178086 34.55429079909459 92.8717004969717 30.61636445381305 D:\\MODIS_NDVI\\2012\\CN_2012_NDVI_recon.352.tif D:\\Downloads\\Mattijn@Song//CN_2012_NDVI_recon.352.tif\n",
        "gdal_translate -projwin 88.52422981178086 34.55429079909459 92.8717004969717 30.61636445381305 D:\\MODIS_NDVI\\2012\\CN_2012_NDVI_recon.353.tif D:\\Downloads\\Mattijn@Song//CN_2012_NDVI_recon.353.tif\n",
        "gdal_translate -projwin 88.52422981178086 34.55429079909459 92.8717004969717 30.61636445381305 D:\\MODIS_NDVI\\2012\\CN_2012_NDVI_recon.354.tif D:\\Downloads\\Mattijn@Song//CN_2012_NDVI_recon.354.tif\n",
        "gdal_translate -projwin 88.52422981178086 34.55429079909459 92.8717004969717 30.61636445381305 D:\\MODIS_NDVI\\2012\\CN_2012_NDVI_recon.355.tif D:\\Downloads\\Mattijn@Song//CN_2012_NDVI_recon.355.tif\n",
        "gdal_translate -projwin 88.52422981178086 34.55429079909459 92.8717004969717 30.61636445381305 D:\\MODIS_NDVI\\2012\\CN_2012_NDVI_recon.356.tif D:\\Downloads\\Mattijn@Song//CN_2012_NDVI_recon.356.tif\n",
        "gdal_translate -projwin 88.52422981178086 34.55429079909459 92.8717004969717 30.61636445381305 D:\\MODIS_NDVI\\2012\\CN_2012_NDVI_recon.357.tif D:\\Downloads\\Mattijn@Song//CN_2012_NDVI_recon.357.tif\n",
        "gdal_translate -projwin 88.52422981178086 34.55429079909459 92.8717004969717 30.61636445381305 D:\\MODIS_NDVI\\2012\\CN_2012_NDVI_recon.358.tif D:\\Downloads\\Mattijn@Song//CN_2012_NDVI_recon.358.tif\n",
        "gdal_translate -projwin 88.52422981178086 34.55429079909459 92.8717004969717 30.61636445381305 D:\\MODIS_NDVI\\2012\\CN_2012_NDVI_recon.359.tif D:\\Downloads\\Mattijn@Song//CN_2012_NDVI_recon.359.tif\n",
        "gdal_translate -projwin 88.52422981178086 34.55429079909459 92.8717004969717 30.61636445381305 D:\\MODIS_NDVI\\2012\\CN_2012_NDVI_recon.360.tif D:\\Downloads\\Mattijn@Song//CN_2012_NDVI_recon.360.tif\n",
        "gdal_translate -projwin 88.52422981178086 34.55429079909459 92.8717004969717 30.61636445381305 D:\\MODIS_NDVI\\2012\\CN_2012_NDVI_recon.361.tif D:\\Downloads\\Mattijn@Song//CN_2012_NDVI_recon.361.tif\n",
        "gdal_translate -projwin 88.52422981178086 34.55429079909459 92.8717004969717 30.61636445381305 D:\\MODIS_NDVI\\2012\\CN_2012_NDVI_recon.362.tif D:\\Downloads\\Mattijn@Song//CN_2012_NDVI_recon.362.tif\n",
        "gdal_translate -projwin 88.52422981178086 34.55429079909459 92.8717004969717 30.61636445381305 D:\\MODIS_NDVI\\2012\\CN_2012_NDVI_recon.363.tif D:\\Downloads\\Mattijn@Song//CN_2012_NDVI_recon.363.tif\n",
        "gdal_translate -projwin 88.52422981178086 34.55429079909459 92.8717004969717 30.61636445381305 D:\\MODIS_NDVI\\2012\\CN_2012_NDVI_recon.364.tif D:\\Downloads\\Mattijn@Song//CN_2012_NDVI_recon.364.tif\n",
        "gdal_translate -projwin 88.52422981178086 34.55429079909459 92.8717004969717 30.61636445381305 D:\\MODIS_NDVI\\2012\\CN_2012_NDVI_recon.365.tif D:\\Downloads\\Mattijn@Song//CN_2012_NDVI_recon.365.tif\n"
       ]
      }
     ],
     "prompt_number": 37
    },
    {
     "cell_type": "code",
     "collapsed": false,
     "input": [
      "def FilesFolder(inGSODFolder, format_end=''):\n",
      "    \"\"\"\n",
      "    All files within one folder\n",
      "    \"\"\"\n",
      "    st_wmo = [os.path.join(root, name)\n",
      "               for root, dirs, files in os.walk(inGSODFolder)\n",
      "                 for name in files                 \n",
      "                 if name.endswith(format_end)]\n",
      "    return st_wmo"
     ],
     "language": "python",
     "metadata": {},
     "outputs": [],
     "prompt_number": 16
    },
    {
     "cell_type": "code",
     "collapsed": false,
     "input": [
      "daShapefile = r'D:\\Downloads\\Song@Mattijn\\clip_naqu\\\\Export_Output.shp'\n",
      "driver = ogr.GetDriverByName('ESRI Shapefile')\n",
      "dataSource = driver.Open(daShapefile, 0)\n",
      "layer = dataSource.GetLayer()\n",
      "ex1,ex2,ex3,ex4 = layer.GetExtent()"
     ],
     "language": "python",
     "metadata": {},
     "outputs": [],
     "prompt_number": 22
    },
    {
     "cell_type": "code",
     "collapsed": false,
     "input": [
      "foldertif2 = r'D:\\MODIS_NDVI\\2012'\n",
      "files = FilesFolder(foldertif2, format_end='.tif')\n",
      "outfolderresample = r'D:\\Downloads\\Mattijn@Song//'\n",
      "for j in files:\n",
      "    out = j[-26::]\n",
      "    path = outfolderresample+out\n",
      "    paramsnorm = [\"gdal_translate\", \"-projwin\", str(ex1), str(ex4), str(ex2), str(ex3), j, path]\n",
      "    #print (paramsnorm)\n",
      "    print (sp.list2cmdline(paramsnorm))\n",
      "    norm = sp.Popen(sp.list2cmdline(paramsnorm), shell=True)     \n",
      "    norm.communicate()"
     ],
     "language": "python",
     "metadata": {},
     "outputs": [
      {
       "output_type": "stream",
       "stream": "stdout",
       "text": [
        "gdal_translate -projwin 88.52422981178086 34.55429079909459 92.8717004969717 30.61636445381305 D:\\MODIS_NDVI\\2012\\CN_2012_NDVI_recon.001.tif D:\\Downloads\\Mattijn@Song//CN_2012_NDVI_recon.001.tif\n",
        "gdal_translate -projwin 88.52422981178086 34.55429079909459 92.8717004969717 30.61636445381305 D:\\MODIS_NDVI\\2012\\CN_2012_NDVI_recon.002.tif D:\\Downloads\\Mattijn@Song//CN_2012_NDVI_recon.002.tif"
       ]
      },
      {
       "output_type": "stream",
       "stream": "stdout",
       "text": [
        "\n",
        "gdal_translate -projwin 88.52422981178086 34.55429079909459 92.8717004969717 30.61636445381305 D:\\MODIS_NDVI\\2012\\CN_2012_NDVI_recon.003.tif D:\\Downloads\\Mattijn@Song//CN_2012_NDVI_recon.003.tif"
       ]
      },
      {
       "output_type": "stream",
       "stream": "stdout",
       "text": [
        "\n",
        "gdal_translate -projwin 88.52422981178086 34.55429079909459 92.8717004969717 30.61636445381305 D:\\MODIS_NDVI\\2012\\CN_2012_NDVI_recon.004.tif D:\\Downloads\\Mattijn@Song//CN_2012_NDVI_recon.004.tif"
       ]
      },
      {
       "output_type": "stream",
       "stream": "stdout",
       "text": [
        "\n",
        "gdal_translate -projwin 88.52422981178086 34.55429079909459 92.8717004969717 30.61636445381305 D:\\MODIS_NDVI\\2012\\CN_2012_NDVI_recon.005.tif D:\\Downloads\\Mattijn@Song//CN_2012_NDVI_recon.005.tif"
       ]
      },
      {
       "output_type": "stream",
       "stream": "stdout",
       "text": [
        "\n",
        "gdal_translate -projwin 88.52422981178086 34.55429079909459 92.8717004969717 30.61636445381305 D:\\MODIS_NDVI\\2012\\CN_2012_NDVI_recon.006.tif D:\\Downloads\\Mattijn@Song//CN_2012_NDVI_recon.006.tif"
       ]
      },
      {
       "output_type": "stream",
       "stream": "stdout",
       "text": [
        "\n",
        "gdal_translate -projwin 88.52422981178086 34.55429079909459 92.8717004969717 30.61636445381305 D:\\MODIS_NDVI\\2012\\CN_2012_NDVI_recon.007.tif D:\\Downloads\\Mattijn@Song//CN_2012_NDVI_recon.007.tif"
       ]
      },
      {
       "output_type": "stream",
       "stream": "stdout",
       "text": [
        "\n",
        "gdal_translate -projwin 88.52422981178086 34.55429079909459 92.8717004969717 30.61636445381305 D:\\MODIS_NDVI\\2012\\CN_2012_NDVI_recon.008.tif D:\\Downloads\\Mattijn@Song//CN_2012_NDVI_recon.008.tif"
       ]
      },
      {
       "output_type": "stream",
       "stream": "stdout",
       "text": [
        "\n",
        "gdal_translate -projwin 88.52422981178086 34.55429079909459 92.8717004969717 30.61636445381305 D:\\MODIS_NDVI\\2012\\CN_2012_NDVI_recon.009.tif D:\\Downloads\\Mattijn@Song//CN_2012_NDVI_recon.009.tif"
       ]
      },
      {
       "output_type": "stream",
       "stream": "stdout",
       "text": [
        "\n",
        "gdal_translate -projwin 88.52422981178086 34.55429079909459 92.8717004969717 30.61636445381305 D:\\MODIS_NDVI\\2012\\CN_2012_NDVI_recon.010.tif D:\\Downloads\\Mattijn@Song//CN_2012_NDVI_recon.010.tif"
       ]
      },
      {
       "output_type": "stream",
       "stream": "stdout",
       "text": [
        "\n",
        "gdal_translate -projwin 88.52422981178086 34.55429079909459 92.8717004969717 30.61636445381305 D:\\MODIS_NDVI\\2012\\CN_2012_NDVI_recon.011.tif D:\\Downloads\\Mattijn@Song//CN_2012_NDVI_recon.011.tif"
       ]
      },
      {
       "output_type": "stream",
       "stream": "stdout",
       "text": [
        "\n",
        "gdal_translate -projwin 88.52422981178086 34.55429079909459 92.8717004969717 30.61636445381305 D:\\MODIS_NDVI\\2012\\CN_2012_NDVI_recon.012.tif D:\\Downloads\\Mattijn@Song//CN_2012_NDVI_recon.012.tif"
       ]
      },
      {
       "output_type": "stream",
       "stream": "stdout",
       "text": [
        "\n",
        "gdal_translate -projwin 88.52422981178086 34.55429079909459 92.8717004969717 30.61636445381305 D:\\MODIS_NDVI\\2012\\CN_2012_NDVI_recon.013.tif D:\\Downloads\\Mattijn@Song//CN_2012_NDVI_recon.013.tif"
       ]
      },
      {
       "output_type": "stream",
       "stream": "stdout",
       "text": [
        "\n",
        "gdal_translate -projwin 88.52422981178086 34.55429079909459 92.8717004969717 30.61636445381305 D:\\MODIS_NDVI\\2012\\CN_2012_NDVI_recon.014.tif D:\\Downloads\\Mattijn@Song//CN_2012_NDVI_recon.014.tif"
       ]
      },
      {
       "output_type": "stream",
       "stream": "stdout",
       "text": [
        "\n",
        "gdal_translate -projwin 88.52422981178086 34.55429079909459 92.8717004969717 30.61636445381305 D:\\MODIS_NDVI\\2012\\CN_2012_NDVI_recon.015.tif D:\\Downloads\\Mattijn@Song//CN_2012_NDVI_recon.015.tif"
       ]
      },
      {
       "output_type": "stream",
       "stream": "stdout",
       "text": [
        "\n",
        "gdal_translate -projwin 88.52422981178086 34.55429079909459 92.8717004969717 30.61636445381305 D:\\MODIS_NDVI\\2012\\CN_2012_NDVI_recon.016.tif D:\\Downloads\\Mattijn@Song//CN_2012_NDVI_recon.016.tif"
       ]
      },
      {
       "output_type": "stream",
       "stream": "stdout",
       "text": [
        "\n",
        "gdal_translate -projwin 88.52422981178086 34.55429079909459 92.8717004969717 30.61636445381305 D:\\MODIS_NDVI\\2012\\CN_2012_NDVI_recon.017.tif D:\\Downloads\\Mattijn@Song//CN_2012_NDVI_recon.017.tif"
       ]
      },
      {
       "output_type": "stream",
       "stream": "stdout",
       "text": [
        "\n",
        "gdal_translate -projwin 88.52422981178086 34.55429079909459 92.8717004969717 30.61636445381305 D:\\MODIS_NDVI\\2012\\CN_2012_NDVI_recon.018.tif D:\\Downloads\\Mattijn@Song//CN_2012_NDVI_recon.018.tif"
       ]
      },
      {
       "output_type": "stream",
       "stream": "stdout",
       "text": [
        "\n",
        "gdal_translate -projwin 88.52422981178086 34.55429079909459 92.8717004969717 30.61636445381305 D:\\MODIS_NDVI\\2012\\CN_2012_NDVI_recon.019.tif D:\\Downloads\\Mattijn@Song//CN_2012_NDVI_recon.019.tif"
       ]
      },
      {
       "output_type": "stream",
       "stream": "stdout",
       "text": [
        "\n",
        "gdal_translate -projwin 88.52422981178086 34.55429079909459 92.8717004969717 30.61636445381305 D:\\MODIS_NDVI\\2012\\CN_2012_NDVI_recon.020.tif D:\\Downloads\\Mattijn@Song//CN_2012_NDVI_recon.020.tif"
       ]
      },
      {
       "output_type": "stream",
       "stream": "stdout",
       "text": [
        "\n",
        "gdal_translate -projwin 88.52422981178086 34.55429079909459 92.8717004969717 30.61636445381305 D:\\MODIS_NDVI\\2012\\CN_2012_NDVI_recon.021.tif D:\\Downloads\\Mattijn@Song//CN_2012_NDVI_recon.021.tif"
       ]
      },
      {
       "output_type": "stream",
       "stream": "stdout",
       "text": [
        "\n",
        "gdal_translate -projwin 88.52422981178086 34.55429079909459 92.8717004969717 30.61636445381305 D:\\MODIS_NDVI\\2012\\CN_2012_NDVI_recon.022.tif D:\\Downloads\\Mattijn@Song//CN_2012_NDVI_recon.022.tif"
       ]
      },
      {
       "output_type": "stream",
       "stream": "stdout",
       "text": [
        "\n",
        "gdal_translate -projwin 88.52422981178086 34.55429079909459 92.8717004969717 30.61636445381305 D:\\MODIS_NDVI\\2012\\CN_2012_NDVI_recon.023.tif D:\\Downloads\\Mattijn@Song//CN_2012_NDVI_recon.023.tif"
       ]
      },
      {
       "output_type": "stream",
       "stream": "stdout",
       "text": [
        "\n",
        "gdal_translate -projwin 88.52422981178086 34.55429079909459 92.8717004969717 30.61636445381305 D:\\MODIS_NDVI\\2012\\CN_2012_NDVI_recon.024.tif D:\\Downloads\\Mattijn@Song//CN_2012_NDVI_recon.024.tif"
       ]
      },
      {
       "output_type": "stream",
       "stream": "stdout",
       "text": [
        "\n",
        "gdal_translate -projwin 88.52422981178086 34.55429079909459 92.8717004969717 30.61636445381305 D:\\MODIS_NDVI\\2012\\CN_2012_NDVI_recon.025.tif D:\\Downloads\\Mattijn@Song//CN_2012_NDVI_recon.025.tif"
       ]
      },
      {
       "output_type": "stream",
       "stream": "stdout",
       "text": [
        "\n",
        "gdal_translate -projwin 88.52422981178086 34.55429079909459 92.8717004969717 30.61636445381305 D:\\MODIS_NDVI\\2012\\CN_2012_NDVI_recon.026.tif D:\\Downloads\\Mattijn@Song//CN_2012_NDVI_recon.026.tif"
       ]
      },
      {
       "output_type": "stream",
       "stream": "stdout",
       "text": [
        "\n",
        "gdal_translate -projwin 88.52422981178086 34.55429079909459 92.8717004969717 30.61636445381305 D:\\MODIS_NDVI\\2012\\CN_2012_NDVI_recon.027.tif D:\\Downloads\\Mattijn@Song//CN_2012_NDVI_recon.027.tif"
       ]
      },
      {
       "output_type": "stream",
       "stream": "stdout",
       "text": [
        "\n",
        "gdal_translate -projwin 88.52422981178086 34.55429079909459 92.8717004969717 30.61636445381305 D:\\MODIS_NDVI\\2012\\CN_2012_NDVI_recon.028.tif D:\\Downloads\\Mattijn@Song//CN_2012_NDVI_recon.028.tif"
       ]
      },
      {
       "output_type": "stream",
       "stream": "stdout",
       "text": [
        "\n",
        "gdal_translate -projwin 88.52422981178086 34.55429079909459 92.8717004969717 30.61636445381305 D:\\MODIS_NDVI\\2012\\CN_2012_NDVI_recon.029.tif D:\\Downloads\\Mattijn@Song//CN_2012_NDVI_recon.029.tif"
       ]
      },
      {
       "output_type": "stream",
       "stream": "stdout",
       "text": [
        "\n",
        "gdal_translate -projwin 88.52422981178086 34.55429079909459 92.8717004969717 30.61636445381305 D:\\MODIS_NDVI\\2012\\CN_2012_NDVI_recon.030.tif D:\\Downloads\\Mattijn@Song//CN_2012_NDVI_recon.030.tif"
       ]
      },
      {
       "output_type": "stream",
       "stream": "stdout",
       "text": [
        "\n",
        "gdal_translate -projwin 88.52422981178086 34.55429079909459 92.8717004969717 30.61636445381305 D:\\MODIS_NDVI\\2012\\CN_2012_NDVI_recon.031.tif D:\\Downloads\\Mattijn@Song//CN_2012_NDVI_recon.031.tif"
       ]
      },
      {
       "output_type": "stream",
       "stream": "stdout",
       "text": [
        "\n",
        "gdal_translate -projwin 88.52422981178086 34.55429079909459 92.8717004969717 30.61636445381305 D:\\MODIS_NDVI\\2012\\CN_2012_NDVI_recon.032.tif D:\\Downloads\\Mattijn@Song//CN_2012_NDVI_recon.032.tif"
       ]
      },
      {
       "output_type": "stream",
       "stream": "stdout",
       "text": [
        "\n",
        "gdal_translate -projwin 88.52422981178086 34.55429079909459 92.8717004969717 30.61636445381305 D:\\MODIS_NDVI\\2012\\CN_2012_NDVI_recon.033.tif D:\\Downloads\\Mattijn@Song//CN_2012_NDVI_recon.033.tif"
       ]
      },
      {
       "output_type": "stream",
       "stream": "stdout",
       "text": [
        "\n",
        "gdal_translate -projwin 88.52422981178086 34.55429079909459 92.8717004969717 30.61636445381305 D:\\MODIS_NDVI\\2012\\CN_2012_NDVI_recon.034.tif D:\\Downloads\\Mattijn@Song//CN_2012_NDVI_recon.034.tif"
       ]
      },
      {
       "output_type": "stream",
       "stream": "stdout",
       "text": [
        "\n",
        "gdal_translate -projwin 88.52422981178086 34.55429079909459 92.8717004969717 30.61636445381305 D:\\MODIS_NDVI\\2012\\CN_2012_NDVI_recon.035.tif D:\\Downloads\\Mattijn@Song//CN_2012_NDVI_recon.035.tif"
       ]
      },
      {
       "output_type": "stream",
       "stream": "stdout",
       "text": [
        "\n",
        "gdal_translate -projwin 88.52422981178086 34.55429079909459 92.8717004969717 30.61636445381305 D:\\MODIS_NDVI\\2012\\CN_2012_NDVI_recon.036.tif D:\\Downloads\\Mattijn@Song//CN_2012_NDVI_recon.036.tif"
       ]
      },
      {
       "output_type": "stream",
       "stream": "stdout",
       "text": [
        "\n",
        "gdal_translate -projwin 88.52422981178086 34.55429079909459 92.8717004969717 30.61636445381305 D:\\MODIS_NDVI\\2012\\CN_2012_NDVI_recon.037.tif D:\\Downloads\\Mattijn@Song//CN_2012_NDVI_recon.037.tif"
       ]
      },
      {
       "output_type": "stream",
       "stream": "stdout",
       "text": [
        "\n",
        "gdal_translate -projwin 88.52422981178086 34.55429079909459 92.8717004969717 30.61636445381305 D:\\MODIS_NDVI\\2012\\CN_2012_NDVI_recon.038.tif D:\\Downloads\\Mattijn@Song//CN_2012_NDVI_recon.038.tif"
       ]
      },
      {
       "output_type": "stream",
       "stream": "stdout",
       "text": [
        "\n",
        "gdal_translate -projwin 88.52422981178086 34.55429079909459 92.8717004969717 30.61636445381305 D:\\MODIS_NDVI\\2012\\CN_2012_NDVI_recon.039.tif D:\\Downloads\\Mattijn@Song//CN_2012_NDVI_recon.039.tif"
       ]
      },
      {
       "output_type": "stream",
       "stream": "stdout",
       "text": [
        "\n",
        "gdal_translate -projwin 88.52422981178086 34.55429079909459 92.8717004969717 30.61636445381305 D:\\MODIS_NDVI\\2012\\CN_2012_NDVI_recon.040.tif D:\\Downloads\\Mattijn@Song//CN_2012_NDVI_recon.040.tif"
       ]
      },
      {
       "output_type": "stream",
       "stream": "stdout",
       "text": [
        "\n",
        "gdal_translate -projwin 88.52422981178086 34.55429079909459 92.8717004969717 30.61636445381305 D:\\MODIS_NDVI\\2012\\CN_2012_NDVI_recon.041.tif D:\\Downloads\\Mattijn@Song//CN_2012_NDVI_recon.041.tif"
       ]
      },
      {
       "output_type": "stream",
       "stream": "stdout",
       "text": [
        "\n",
        "gdal_translate -projwin 88.52422981178086 34.55429079909459 92.8717004969717 30.61636445381305 D:\\MODIS_NDVI\\2012\\CN_2012_NDVI_recon.042.tif D:\\Downloads\\Mattijn@Song//CN_2012_NDVI_recon.042.tif"
       ]
      },
      {
       "output_type": "stream",
       "stream": "stdout",
       "text": [
        "\n",
        "gdal_translate -projwin 88.52422981178086 34.55429079909459 92.8717004969717 30.61636445381305 D:\\MODIS_NDVI\\2012\\CN_2012_NDVI_recon.043.tif D:\\Downloads\\Mattijn@Song//CN_2012_NDVI_recon.043.tif"
       ]
      },
      {
       "output_type": "stream",
       "stream": "stdout",
       "text": [
        "\n",
        "gdal_translate -projwin 88.52422981178086 34.55429079909459 92.8717004969717 30.61636445381305 D:\\MODIS_NDVI\\2012\\CN_2012_NDVI_recon.044.tif D:\\Downloads\\Mattijn@Song//CN_2012_NDVI_recon.044.tif"
       ]
      },
      {
       "output_type": "stream",
       "stream": "stdout",
       "text": [
        "\n",
        "gdal_translate -projwin 88.52422981178086 34.55429079909459 92.8717004969717 30.61636445381305 D:\\MODIS_NDVI\\2012\\CN_2012_NDVI_recon.045.tif D:\\Downloads\\Mattijn@Song//CN_2012_NDVI_recon.045.tif"
       ]
      },
      {
       "output_type": "stream",
       "stream": "stdout",
       "text": [
        "\n",
        "gdal_translate -projwin 88.52422981178086 34.55429079909459 92.8717004969717 30.61636445381305 D:\\MODIS_NDVI\\2012\\CN_2012_NDVI_recon.046.tif D:\\Downloads\\Mattijn@Song//CN_2012_NDVI_recon.046.tif"
       ]
      },
      {
       "output_type": "stream",
       "stream": "stdout",
       "text": [
        "\n",
        "gdal_translate -projwin 88.52422981178086 34.55429079909459 92.8717004969717 30.61636445381305 D:\\MODIS_NDVI\\2012\\CN_2012_NDVI_recon.047.tif D:\\Downloads\\Mattijn@Song//CN_2012_NDVI_recon.047.tif"
       ]
      },
      {
       "output_type": "stream",
       "stream": "stdout",
       "text": [
        "\n",
        "gdal_translate -projwin 88.52422981178086 34.55429079909459 92.8717004969717 30.61636445381305 D:\\MODIS_NDVI\\2012\\CN_2012_NDVI_recon.048.tif D:\\Downloads\\Mattijn@Song//CN_2012_NDVI_recon.048.tif"
       ]
      },
      {
       "output_type": "stream",
       "stream": "stdout",
       "text": [
        "\n",
        "gdal_translate -projwin 88.52422981178086 34.55429079909459 92.8717004969717 30.61636445381305 D:\\MODIS_NDVI\\2012\\CN_2012_NDVI_recon.049.tif D:\\Downloads\\Mattijn@Song//CN_2012_NDVI_recon.049.tif"
       ]
      },
      {
       "output_type": "stream",
       "stream": "stdout",
       "text": [
        "\n",
        "gdal_translate -projwin 88.52422981178086 34.55429079909459 92.8717004969717 30.61636445381305 D:\\MODIS_NDVI\\2012\\CN_2012_NDVI_recon.050.tif D:\\Downloads\\Mattijn@Song//CN_2012_NDVI_recon.050.tif"
       ]
      },
      {
       "output_type": "stream",
       "stream": "stdout",
       "text": [
        "\n",
        "gdal_translate -projwin 88.52422981178086 34.55429079909459 92.8717004969717 30.61636445381305 D:\\MODIS_NDVI\\2012\\CN_2012_NDVI_recon.051.tif D:\\Downloads\\Mattijn@Song//CN_2012_NDVI_recon.051.tif"
       ]
      },
      {
       "output_type": "stream",
       "stream": "stdout",
       "text": [
        "\n",
        "gdal_translate -projwin 88.52422981178086 34.55429079909459 92.8717004969717 30.61636445381305 D:\\MODIS_NDVI\\2012\\CN_2012_NDVI_recon.052.tif D:\\Downloads\\Mattijn@Song//CN_2012_NDVI_recon.052.tif"
       ]
      },
      {
       "output_type": "stream",
       "stream": "stdout",
       "text": [
        "\n",
        "gdal_translate -projwin 88.52422981178086 34.55429079909459 92.8717004969717 30.61636445381305 D:\\MODIS_NDVI\\2012\\CN_2012_NDVI_recon.053.tif D:\\Downloads\\Mattijn@Song//CN_2012_NDVI_recon.053.tif"
       ]
      },
      {
       "output_type": "stream",
       "stream": "stdout",
       "text": [
        "\n",
        "gdal_translate -projwin 88.52422981178086 34.55429079909459 92.8717004969717 30.61636445381305 D:\\MODIS_NDVI\\2012\\CN_2012_NDVI_recon.054.tif D:\\Downloads\\Mattijn@Song//CN_2012_NDVI_recon.054.tif"
       ]
      },
      {
       "output_type": "stream",
       "stream": "stdout",
       "text": [
        "\n",
        "gdal_translate -projwin 88.52422981178086 34.55429079909459 92.8717004969717 30.61636445381305 D:\\MODIS_NDVI\\2012\\CN_2012_NDVI_recon.055.tif D:\\Downloads\\Mattijn@Song//CN_2012_NDVI_recon.055.tif"
       ]
      },
      {
       "output_type": "stream",
       "stream": "stdout",
       "text": [
        "\n",
        "gdal_translate -projwin 88.52422981178086 34.55429079909459 92.8717004969717 30.61636445381305 D:\\MODIS_NDVI\\2012\\CN_2012_NDVI_recon.056.tif D:\\Downloads\\Mattijn@Song//CN_2012_NDVI_recon.056.tif"
       ]
      },
      {
       "output_type": "stream",
       "stream": "stdout",
       "text": [
        "\n",
        "gdal_translate -projwin 88.52422981178086 34.55429079909459 92.8717004969717 30.61636445381305 D:\\MODIS_NDVI\\2012\\CN_2012_NDVI_recon.057.tif D:\\Downloads\\Mattijn@Song//CN_2012_NDVI_recon.057.tif"
       ]
      },
      {
       "output_type": "stream",
       "stream": "stdout",
       "text": [
        "\n",
        "gdal_translate -projwin 88.52422981178086 34.55429079909459 92.8717004969717 30.61636445381305 D:\\MODIS_NDVI\\2012\\CN_2012_NDVI_recon.058.tif D:\\Downloads\\Mattijn@Song//CN_2012_NDVI_recon.058.tif"
       ]
      },
      {
       "output_type": "stream",
       "stream": "stdout",
       "text": [
        "\n",
        "gdal_translate -projwin 88.52422981178086 34.55429079909459 92.8717004969717 30.61636445381305 D:\\MODIS_NDVI\\2012\\CN_2012_NDVI_recon.059.tif D:\\Downloads\\Mattijn@Song//CN_2012_NDVI_recon.059.tif"
       ]
      },
      {
       "output_type": "stream",
       "stream": "stdout",
       "text": [
        "\n",
        "gdal_translate -projwin 88.52422981178086 34.55429079909459 92.8717004969717 30.61636445381305 D:\\MODIS_NDVI\\2012\\CN_2012_NDVI_recon.060.tif D:\\Downloads\\Mattijn@Song//CN_2012_NDVI_recon.060.tif"
       ]
      },
      {
       "output_type": "stream",
       "stream": "stdout",
       "text": [
        "\n",
        "gdal_translate -projwin 88.52422981178086 34.55429079909459 92.8717004969717 30.61636445381305 D:\\MODIS_NDVI\\2012\\CN_2012_NDVI_recon.061.tif D:\\Downloads\\Mattijn@Song//CN_2012_NDVI_recon.061.tif"
       ]
      },
      {
       "output_type": "stream",
       "stream": "stdout",
       "text": [
        "\n",
        "gdal_translate -projwin 88.52422981178086 34.55429079909459 92.8717004969717 30.61636445381305 D:\\MODIS_NDVI\\2012\\CN_2012_NDVI_recon.062.tif D:\\Downloads\\Mattijn@Song//CN_2012_NDVI_recon.062.tif"
       ]
      },
      {
       "output_type": "stream",
       "stream": "stdout",
       "text": [
        "\n",
        "gdal_translate -projwin 88.52422981178086 34.55429079909459 92.8717004969717 30.61636445381305 D:\\MODIS_NDVI\\2012\\CN_2012_NDVI_recon.063.tif D:\\Downloads\\Mattijn@Song//CN_2012_NDVI_recon.063.tif"
       ]
      },
      {
       "output_type": "stream",
       "stream": "stdout",
       "text": [
        "\n",
        "gdal_translate -projwin 88.52422981178086 34.55429079909459 92.8717004969717 30.61636445381305 D:\\MODIS_NDVI\\2012\\CN_2012_NDVI_recon.064.tif D:\\Downloads\\Mattijn@Song//CN_2012_NDVI_recon.064.tif"
       ]
      },
      {
       "output_type": "stream",
       "stream": "stdout",
       "text": [
        "\n",
        "gdal_translate -projwin 88.52422981178086 34.55429079909459 92.8717004969717 30.61636445381305 D:\\MODIS_NDVI\\2012\\CN_2012_NDVI_recon.065.tif D:\\Downloads\\Mattijn@Song//CN_2012_NDVI_recon.065.tif"
       ]
      },
      {
       "output_type": "stream",
       "stream": "stdout",
       "text": [
        "\n",
        "gdal_translate -projwin 88.52422981178086 34.55429079909459 92.8717004969717 30.61636445381305 D:\\MODIS_NDVI\\2012\\CN_2012_NDVI_recon.066.tif D:\\Downloads\\Mattijn@Song//CN_2012_NDVI_recon.066.tif"
       ]
      },
      {
       "output_type": "stream",
       "stream": "stdout",
       "text": [
        "\n",
        "gdal_translate -projwin 88.52422981178086 34.55429079909459 92.8717004969717 30.61636445381305 D:\\MODIS_NDVI\\2012\\CN_2012_NDVI_recon.067.tif D:\\Downloads\\Mattijn@Song//CN_2012_NDVI_recon.067.tif"
       ]
      },
      {
       "output_type": "stream",
       "stream": "stdout",
       "text": [
        "\n",
        "gdal_translate -projwin 88.52422981178086 34.55429079909459 92.8717004969717 30.61636445381305 D:\\MODIS_NDVI\\2012\\CN_2012_NDVI_recon.068.tif D:\\Downloads\\Mattijn@Song//CN_2012_NDVI_recon.068.tif"
       ]
      },
      {
       "output_type": "stream",
       "stream": "stdout",
       "text": [
        "\n",
        "gdal_translate -projwin 88.52422981178086 34.55429079909459 92.8717004969717 30.61636445381305 D:\\MODIS_NDVI\\2012\\CN_2012_NDVI_recon.069.tif D:\\Downloads\\Mattijn@Song//CN_2012_NDVI_recon.069.tif"
       ]
      },
      {
       "output_type": "stream",
       "stream": "stdout",
       "text": [
        "\n",
        "gdal_translate -projwin 88.52422981178086 34.55429079909459 92.8717004969717 30.61636445381305 D:\\MODIS_NDVI\\2012\\CN_2012_NDVI_recon.070.tif D:\\Downloads\\Mattijn@Song//CN_2012_NDVI_recon.070.tif"
       ]
      },
      {
       "output_type": "stream",
       "stream": "stdout",
       "text": [
        "\n",
        "gdal_translate -projwin 88.52422981178086 34.55429079909459 92.8717004969717 30.61636445381305 D:\\MODIS_NDVI\\2012\\CN_2012_NDVI_recon.071.tif D:\\Downloads\\Mattijn@Song//CN_2012_NDVI_recon.071.tif"
       ]
      },
      {
       "output_type": "stream",
       "stream": "stdout",
       "text": [
        "\n",
        "gdal_translate -projwin 88.52422981178086 34.55429079909459 92.8717004969717 30.61636445381305 D:\\MODIS_NDVI\\2012\\CN_2012_NDVI_recon.072.tif D:\\Downloads\\Mattijn@Song//CN_2012_NDVI_recon.072.tif"
       ]
      },
      {
       "output_type": "stream",
       "stream": "stdout",
       "text": [
        "\n",
        "gdal_translate -projwin 88.52422981178086 34.55429079909459 92.8717004969717 30.61636445381305 D:\\MODIS_NDVI\\2012\\CN_2012_NDVI_recon.073.tif D:\\Downloads\\Mattijn@Song//CN_2012_NDVI_recon.073.tif"
       ]
      },
      {
       "output_type": "stream",
       "stream": "stdout",
       "text": [
        "\n",
        "gdal_translate -projwin 88.52422981178086 34.55429079909459 92.8717004969717 30.61636445381305 D:\\MODIS_NDVI\\2012\\CN_2012_NDVI_recon.074.tif D:\\Downloads\\Mattijn@Song//CN_2012_NDVI_recon.074.tif"
       ]
      },
      {
       "output_type": "stream",
       "stream": "stdout",
       "text": [
        "\n",
        "gdal_translate -projwin 88.52422981178086 34.55429079909459 92.8717004969717 30.61636445381305 D:\\MODIS_NDVI\\2012\\CN_2012_NDVI_recon.075.tif D:\\Downloads\\Mattijn@Song//CN_2012_NDVI_recon.075.tif"
       ]
      },
      {
       "output_type": "stream",
       "stream": "stdout",
       "text": [
        "\n",
        "gdal_translate -projwin 88.52422981178086 34.55429079909459 92.8717004969717 30.61636445381305 D:\\MODIS_NDVI\\2012\\CN_2012_NDVI_recon.076.tif D:\\Downloads\\Mattijn@Song//CN_2012_NDVI_recon.076.tif"
       ]
      },
      {
       "output_type": "stream",
       "stream": "stdout",
       "text": [
        "\n",
        "gdal_translate -projwin 88.52422981178086 34.55429079909459 92.8717004969717 30.61636445381305 D:\\MODIS_NDVI\\2012\\CN_2012_NDVI_recon.077.tif D:\\Downloads\\Mattijn@Song//CN_2012_NDVI_recon.077.tif"
       ]
      },
      {
       "output_type": "stream",
       "stream": "stdout",
       "text": [
        "\n",
        "gdal_translate -projwin 88.52422981178086 34.55429079909459 92.8717004969717 30.61636445381305 D:\\MODIS_NDVI\\2012\\CN_2012_NDVI_recon.078.tif D:\\Downloads\\Mattijn@Song//CN_2012_NDVI_recon.078.tif"
       ]
      },
      {
       "output_type": "stream",
       "stream": "stdout",
       "text": [
        "\n",
        "gdal_translate -projwin 88.52422981178086 34.55429079909459 92.8717004969717 30.61636445381305 D:\\MODIS_NDVI\\2012\\CN_2012_NDVI_recon.079.tif D:\\Downloads\\Mattijn@Song//CN_2012_NDVI_recon.079.tif"
       ]
      },
      {
       "output_type": "stream",
       "stream": "stdout",
       "text": [
        "\n",
        "gdal_translate -projwin 88.52422981178086 34.55429079909459 92.8717004969717 30.61636445381305 D:\\MODIS_NDVI\\2012\\CN_2012_NDVI_recon.080.tif D:\\Downloads\\Mattijn@Song//CN_2012_NDVI_recon.080.tif"
       ]
      },
      {
       "output_type": "stream",
       "stream": "stdout",
       "text": [
        "\n",
        "gdal_translate -projwin 88.52422981178086 34.55429079909459 92.8717004969717 30.61636445381305 D:\\MODIS_NDVI\\2012\\CN_2012_NDVI_recon.081.tif D:\\Downloads\\Mattijn@Song//CN_2012_NDVI_recon.081.tif"
       ]
      },
      {
       "output_type": "stream",
       "stream": "stdout",
       "text": [
        "\n",
        "gdal_translate -projwin 88.52422981178086 34.55429079909459 92.8717004969717 30.61636445381305 D:\\MODIS_NDVI\\2012\\CN_2012_NDVI_recon.082.tif D:\\Downloads\\Mattijn@Song//CN_2012_NDVI_recon.082.tif"
       ]
      },
      {
       "output_type": "stream",
       "stream": "stdout",
       "text": [
        "\n",
        "gdal_translate -projwin 88.52422981178086 34.55429079909459 92.8717004969717 30.61636445381305 D:\\MODIS_NDVI\\2012\\CN_2012_NDVI_recon.083.tif D:\\Downloads\\Mattijn@Song//CN_2012_NDVI_recon.083.tif"
       ]
      },
      {
       "output_type": "stream",
       "stream": "stdout",
       "text": [
        "\n",
        "gdal_translate -projwin 88.52422981178086 34.55429079909459 92.8717004969717 30.61636445381305 D:\\MODIS_NDVI\\2012\\CN_2012_NDVI_recon.084.tif D:\\Downloads\\Mattijn@Song//CN_2012_NDVI_recon.084.tif"
       ]
      },
      {
       "output_type": "stream",
       "stream": "stdout",
       "text": [
        "\n",
        "gdal_translate -projwin 88.52422981178086 34.55429079909459 92.8717004969717 30.61636445381305 D:\\MODIS_NDVI\\2012\\CN_2012_NDVI_recon.085.tif D:\\Downloads\\Mattijn@Song//CN_2012_NDVI_recon.085.tif"
       ]
      },
      {
       "output_type": "stream",
       "stream": "stdout",
       "text": [
        "\n",
        "gdal_translate -projwin 88.52422981178086 34.55429079909459 92.8717004969717 30.61636445381305 D:\\MODIS_NDVI\\2012\\CN_2012_NDVI_recon.086.tif D:\\Downloads\\Mattijn@Song//CN_2012_NDVI_recon.086.tif"
       ]
      },
      {
       "output_type": "stream",
       "stream": "stdout",
       "text": [
        "\n",
        "gdal_translate -projwin 88.52422981178086 34.55429079909459 92.8717004969717 30.61636445381305 D:\\MODIS_NDVI\\2012\\CN_2012_NDVI_recon.087.tif D:\\Downloads\\Mattijn@Song//CN_2012_NDVI_recon.087.tif"
       ]
      },
      {
       "output_type": "stream",
       "stream": "stdout",
       "text": [
        "\n",
        "gdal_translate -projwin 88.52422981178086 34.55429079909459 92.8717004969717 30.61636445381305 D:\\MODIS_NDVI\\2012\\CN_2012_NDVI_recon.088.tif D:\\Downloads\\Mattijn@Song//CN_2012_NDVI_recon.088.tif"
       ]
      },
      {
       "output_type": "stream",
       "stream": "stdout",
       "text": [
        "\n",
        "gdal_translate -projwin 88.52422981178086 34.55429079909459 92.8717004969717 30.61636445381305 D:\\MODIS_NDVI\\2012\\CN_2012_NDVI_recon.089.tif D:\\Downloads\\Mattijn@Song//CN_2012_NDVI_recon.089.tif"
       ]
      },
      {
       "output_type": "stream",
       "stream": "stdout",
       "text": [
        "\n",
        "gdal_translate -projwin 88.52422981178086 34.55429079909459 92.8717004969717 30.61636445381305 D:\\MODIS_NDVI\\2012\\CN_2012_NDVI_recon.090.tif D:\\Downloads\\Mattijn@Song//CN_2012_NDVI_recon.090.tif"
       ]
      },
      {
       "output_type": "stream",
       "stream": "stdout",
       "text": [
        "\n",
        "gdal_translate -projwin 88.52422981178086 34.55429079909459 92.8717004969717 30.61636445381305 D:\\MODIS_NDVI\\2012\\CN_2012_NDVI_recon.091.tif D:\\Downloads\\Mattijn@Song//CN_2012_NDVI_recon.091.tif"
       ]
      },
      {
       "output_type": "stream",
       "stream": "stdout",
       "text": [
        "\n",
        "gdal_translate -projwin 88.52422981178086 34.55429079909459 92.8717004969717 30.61636445381305 D:\\MODIS_NDVI\\2012\\CN_2012_NDVI_recon.092.tif D:\\Downloads\\Mattijn@Song//CN_2012_NDVI_recon.092.tif"
       ]
      },
      {
       "output_type": "stream",
       "stream": "stdout",
       "text": [
        "\n",
        "gdal_translate -projwin 88.52422981178086 34.55429079909459 92.8717004969717 30.61636445381305 D:\\MODIS_NDVI\\2012\\CN_2012_NDVI_recon.093.tif D:\\Downloads\\Mattijn@Song//CN_2012_NDVI_recon.093.tif"
       ]
      },
      {
       "output_type": "stream",
       "stream": "stdout",
       "text": [
        "\n",
        "gdal_translate -projwin 88.52422981178086 34.55429079909459 92.8717004969717 30.61636445381305 D:\\MODIS_NDVI\\2012\\CN_2012_NDVI_recon.094.tif D:\\Downloads\\Mattijn@Song//CN_2012_NDVI_recon.094.tif"
       ]
      },
      {
       "output_type": "stream",
       "stream": "stdout",
       "text": [
        "\n",
        "gdal_translate -projwin 88.52422981178086 34.55429079909459 92.8717004969717 30.61636445381305 D:\\MODIS_NDVI\\2012\\CN_2012_NDVI_recon.095.tif D:\\Downloads\\Mattijn@Song//CN_2012_NDVI_recon.095.tif"
       ]
      },
      {
       "output_type": "stream",
       "stream": "stdout",
       "text": [
        "\n",
        "gdal_translate -projwin 88.52422981178086 34.55429079909459 92.8717004969717 30.61636445381305 D:\\MODIS_NDVI\\2012\\CN_2012_NDVI_recon.096.tif D:\\Downloads\\Mattijn@Song//CN_2012_NDVI_recon.096.tif"
       ]
      },
      {
       "output_type": "stream",
       "stream": "stdout",
       "text": [
        "\n",
        "gdal_translate -projwin 88.52422981178086 34.55429079909459 92.8717004969717 30.61636445381305 D:\\MODIS_NDVI\\2012\\CN_2012_NDVI_recon.097.tif D:\\Downloads\\Mattijn@Song//CN_2012_NDVI_recon.097.tif"
       ]
      },
      {
       "output_type": "stream",
       "stream": "stdout",
       "text": [
        "\n",
        "gdal_translate -projwin 88.52422981178086 34.55429079909459 92.8717004969717 30.61636445381305 D:\\MODIS_NDVI\\2012\\CN_2012_NDVI_recon.098.tif D:\\Downloads\\Mattijn@Song//CN_2012_NDVI_recon.098.tif"
       ]
      },
      {
       "output_type": "stream",
       "stream": "stdout",
       "text": [
        "\n",
        "gdal_translate -projwin 88.52422981178086 34.55429079909459 92.8717004969717 30.61636445381305 D:\\MODIS_NDVI\\2012\\CN_2012_NDVI_recon.099.tif D:\\Downloads\\Mattijn@Song//CN_2012_NDVI_recon.099.tif"
       ]
      },
      {
       "output_type": "stream",
       "stream": "stdout",
       "text": [
        "\n",
        "gdal_translate -projwin 88.52422981178086 34.55429079909459 92.8717004969717 30.61636445381305 D:\\MODIS_NDVI\\2012\\CN_2012_NDVI_recon.100.tif D:\\Downloads\\Mattijn@Song//CN_2012_NDVI_recon.100.tif"
       ]
      },
      {
       "output_type": "stream",
       "stream": "stdout",
       "text": [
        "\n",
        "gdal_translate -projwin 88.52422981178086 34.55429079909459 92.8717004969717 30.61636445381305 D:\\MODIS_NDVI\\2012\\CN_2012_NDVI_recon.101.tif D:\\Downloads\\Mattijn@Song//CN_2012_NDVI_recon.101.tif"
       ]
      },
      {
       "output_type": "stream",
       "stream": "stdout",
       "text": [
        "\n",
        "gdal_translate -projwin 88.52422981178086 34.55429079909459 92.8717004969717 30.61636445381305 D:\\MODIS_NDVI\\2012\\CN_2012_NDVI_recon.102.tif D:\\Downloads\\Mattijn@Song//CN_2012_NDVI_recon.102.tif"
       ]
      },
      {
       "output_type": "stream",
       "stream": "stdout",
       "text": [
        "\n",
        "gdal_translate -projwin 88.52422981178086 34.55429079909459 92.8717004969717 30.61636445381305 D:\\MODIS_NDVI\\2012\\CN_2012_NDVI_recon.103.tif D:\\Downloads\\Mattijn@Song//CN_2012_NDVI_recon.103.tif"
       ]
      },
      {
       "output_type": "stream",
       "stream": "stdout",
       "text": [
        "\n",
        "gdal_translate -projwin 88.52422981178086 34.55429079909459 92.8717004969717 30.61636445381305 D:\\MODIS_NDVI\\2012\\CN_2012_NDVI_recon.104.tif D:\\Downloads\\Mattijn@Song//CN_2012_NDVI_recon.104.tif"
       ]
      },
      {
       "output_type": "stream",
       "stream": "stdout",
       "text": [
        "\n",
        "gdal_translate -projwin 88.52422981178086 34.55429079909459 92.8717004969717 30.61636445381305 D:\\MODIS_NDVI\\2012\\CN_2012_NDVI_recon.105.tif D:\\Downloads\\Mattijn@Song//CN_2012_NDVI_recon.105.tif"
       ]
      },
      {
       "output_type": "stream",
       "stream": "stdout",
       "text": [
        "\n",
        "gdal_translate -projwin 88.52422981178086 34.55429079909459 92.8717004969717 30.61636445381305 D:\\MODIS_NDVI\\2012\\CN_2012_NDVI_recon.106.tif D:\\Downloads\\Mattijn@Song//CN_2012_NDVI_recon.106.tif"
       ]
      },
      {
       "output_type": "stream",
       "stream": "stdout",
       "text": [
        "\n",
        "gdal_translate -projwin 88.52422981178086 34.55429079909459 92.8717004969717 30.61636445381305 D:\\MODIS_NDVI\\2012\\CN_2012_NDVI_recon.107.tif D:\\Downloads\\Mattijn@Song//CN_2012_NDVI_recon.107.tif"
       ]
      },
      {
       "output_type": "stream",
       "stream": "stdout",
       "text": [
        "\n",
        "gdal_translate -projwin 88.52422981178086 34.55429079909459 92.8717004969717 30.61636445381305 D:\\MODIS_NDVI\\2012\\CN_2012_NDVI_recon.108.tif D:\\Downloads\\Mattijn@Song//CN_2012_NDVI_recon.108.tif"
       ]
      },
      {
       "output_type": "stream",
       "stream": "stdout",
       "text": [
        "\n",
        "gdal_translate -projwin 88.52422981178086 34.55429079909459 92.8717004969717 30.61636445381305 D:\\MODIS_NDVI\\2012\\CN_2012_NDVI_recon.109.tif D:\\Downloads\\Mattijn@Song//CN_2012_NDVI_recon.109.tif"
       ]
      },
      {
       "output_type": "stream",
       "stream": "stdout",
       "text": [
        "\n",
        "gdal_translate -projwin 88.52422981178086 34.55429079909459 92.8717004969717 30.61636445381305 D:\\MODIS_NDVI\\2012\\CN_2012_NDVI_recon.110.tif D:\\Downloads\\Mattijn@Song//CN_2012_NDVI_recon.110.tif"
       ]
      },
      {
       "output_type": "stream",
       "stream": "stdout",
       "text": [
        "\n",
        "gdal_translate -projwin 88.52422981178086 34.55429079909459 92.8717004969717 30.61636445381305 D:\\MODIS_NDVI\\2012\\CN_2012_NDVI_recon.111.tif D:\\Downloads\\Mattijn@Song//CN_2012_NDVI_recon.111.tif"
       ]
      },
      {
       "output_type": "stream",
       "stream": "stdout",
       "text": [
        "\n",
        "gdal_translate -projwin 88.52422981178086 34.55429079909459 92.8717004969717 30.61636445381305 D:\\MODIS_NDVI\\2012\\CN_2012_NDVI_recon.112.tif D:\\Downloads\\Mattijn@Song//CN_2012_NDVI_recon.112.tif"
       ]
      },
      {
       "output_type": "stream",
       "stream": "stdout",
       "text": [
        "\n",
        "gdal_translate -projwin 88.52422981178086 34.55429079909459 92.8717004969717 30.61636445381305 D:\\MODIS_NDVI\\2012\\CN_2012_NDVI_recon.113.tif D:\\Downloads\\Mattijn@Song//CN_2012_NDVI_recon.113.tif"
       ]
      },
      {
       "output_type": "stream",
       "stream": "stdout",
       "text": [
        "\n",
        "gdal_translate -projwin 88.52422981178086 34.55429079909459 92.8717004969717 30.61636445381305 D:\\MODIS_NDVI\\2012\\CN_2012_NDVI_recon.114.tif D:\\Downloads\\Mattijn@Song//CN_2012_NDVI_recon.114.tif"
       ]
      },
      {
       "output_type": "stream",
       "stream": "stdout",
       "text": [
        "\n",
        "gdal_translate -projwin 88.52422981178086 34.55429079909459 92.8717004969717 30.61636445381305 D:\\MODIS_NDVI\\2012\\CN_2012_NDVI_recon.115.tif D:\\Downloads\\Mattijn@Song//CN_2012_NDVI_recon.115.tif"
       ]
      },
      {
       "output_type": "stream",
       "stream": "stdout",
       "text": [
        "\n",
        "gdal_translate -projwin 88.52422981178086 34.55429079909459 92.8717004969717 30.61636445381305 D:\\MODIS_NDVI\\2012\\CN_2012_NDVI_recon.116.tif D:\\Downloads\\Mattijn@Song//CN_2012_NDVI_recon.116.tif"
       ]
      },
      {
       "output_type": "stream",
       "stream": "stdout",
       "text": [
        "\n",
        "gdal_translate -projwin 88.52422981178086 34.55429079909459 92.8717004969717 30.61636445381305 D:\\MODIS_NDVI\\2012\\CN_2012_NDVI_recon.117.tif D:\\Downloads\\Mattijn@Song//CN_2012_NDVI_recon.117.tif"
       ]
      },
      {
       "output_type": "stream",
       "stream": "stdout",
       "text": [
        "\n",
        "gdal_translate -projwin 88.52422981178086 34.55429079909459 92.8717004969717 30.61636445381305 D:\\MODIS_NDVI\\2012\\CN_2012_NDVI_recon.118.tif D:\\Downloads\\Mattijn@Song//CN_2012_NDVI_recon.118.tif"
       ]
      },
      {
       "output_type": "stream",
       "stream": "stdout",
       "text": [
        "\n",
        "gdal_translate -projwin 88.52422981178086 34.55429079909459 92.8717004969717 30.61636445381305 D:\\MODIS_NDVI\\2012\\CN_2012_NDVI_recon.119.tif D:\\Downloads\\Mattijn@Song//CN_2012_NDVI_recon.119.tif"
       ]
      },
      {
       "output_type": "stream",
       "stream": "stdout",
       "text": [
        "\n",
        "gdal_translate -projwin 88.52422981178086 34.55429079909459 92.8717004969717 30.61636445381305 D:\\MODIS_NDVI\\2012\\CN_2012_NDVI_recon.120.tif D:\\Downloads\\Mattijn@Song//CN_2012_NDVI_recon.120.tif"
       ]
      },
      {
       "output_type": "stream",
       "stream": "stdout",
       "text": [
        "\n",
        "gdal_translate -projwin 88.52422981178086 34.55429079909459 92.8717004969717 30.61636445381305 D:\\MODIS_NDVI\\2012\\CN_2012_NDVI_recon.121.tif D:\\Downloads\\Mattijn@Song//CN_2012_NDVI_recon.121.tif"
       ]
      },
      {
       "output_type": "stream",
       "stream": "stdout",
       "text": [
        "\n",
        "gdal_translate -projwin 88.52422981178086 34.55429079909459 92.8717004969717 30.61636445381305 D:\\MODIS_NDVI\\2012\\CN_2012_NDVI_recon.122.tif D:\\Downloads\\Mattijn@Song//CN_2012_NDVI_recon.122.tif"
       ]
      },
      {
       "output_type": "stream",
       "stream": "stdout",
       "text": [
        "\n",
        "gdal_translate -projwin 88.52422981178086 34.55429079909459 92.8717004969717 30.61636445381305 D:\\MODIS_NDVI\\2012\\CN_2012_NDVI_recon.123.tif D:\\Downloads\\Mattijn@Song//CN_2012_NDVI_recon.123.tif"
       ]
      },
      {
       "output_type": "stream",
       "stream": "stdout",
       "text": [
        "\n",
        "gdal_translate -projwin 88.52422981178086 34.55429079909459 92.8717004969717 30.61636445381305 D:\\MODIS_NDVI\\2012\\CN_2012_NDVI_recon.124.tif D:\\Downloads\\Mattijn@Song//CN_2012_NDVI_recon.124.tif"
       ]
      },
      {
       "output_type": "stream",
       "stream": "stdout",
       "text": [
        "\n",
        "gdal_translate -projwin 88.52422981178086 34.55429079909459 92.8717004969717 30.61636445381305 D:\\MODIS_NDVI\\2012\\CN_2012_NDVI_recon.125.tif D:\\Downloads\\Mattijn@Song//CN_2012_NDVI_recon.125.tif"
       ]
      },
      {
       "output_type": "stream",
       "stream": "stdout",
       "text": [
        "\n",
        "gdal_translate -projwin 88.52422981178086 34.55429079909459 92.8717004969717 30.61636445381305 D:\\MODIS_NDVI\\2012\\CN_2012_NDVI_recon.126.tif D:\\Downloads\\Mattijn@Song//CN_2012_NDVI_recon.126.tif"
       ]
      },
      {
       "output_type": "stream",
       "stream": "stdout",
       "text": [
        "\n",
        "gdal_translate -projwin 88.52422981178086 34.55429079909459 92.8717004969717 30.61636445381305 D:\\MODIS_NDVI\\2012\\CN_2012_NDVI_recon.127.tif D:\\Downloads\\Mattijn@Song//CN_2012_NDVI_recon.127.tif"
       ]
      },
      {
       "output_type": "stream",
       "stream": "stdout",
       "text": [
        "\n",
        "gdal_translate -projwin 88.52422981178086 34.55429079909459 92.8717004969717 30.61636445381305 D:\\MODIS_NDVI\\2012\\CN_2012_NDVI_recon.128.tif D:\\Downloads\\Mattijn@Song//CN_2012_NDVI_recon.128.tif"
       ]
      },
      {
       "output_type": "stream",
       "stream": "stdout",
       "text": [
        "\n",
        "gdal_translate -projwin 88.52422981178086 34.55429079909459 92.8717004969717 30.61636445381305 D:\\MODIS_NDVI\\2012\\CN_2012_NDVI_recon.129.tif D:\\Downloads\\Mattijn@Song//CN_2012_NDVI_recon.129.tif"
       ]
      },
      {
       "output_type": "stream",
       "stream": "stdout",
       "text": [
        "\n",
        "gdal_translate -projwin 88.52422981178086 34.55429079909459 92.8717004969717 30.61636445381305 D:\\MODIS_NDVI\\2012\\CN_2012_NDVI_recon.130.tif D:\\Downloads\\Mattijn@Song//CN_2012_NDVI_recon.130.tif"
       ]
      },
      {
       "output_type": "stream",
       "stream": "stdout",
       "text": [
        "\n",
        "gdal_translate -projwin 88.52422981178086 34.55429079909459 92.8717004969717 30.61636445381305 D:\\MODIS_NDVI\\2012\\CN_2012_NDVI_recon.131.tif D:\\Downloads\\Mattijn@Song//CN_2012_NDVI_recon.131.tif"
       ]
      },
      {
       "output_type": "stream",
       "stream": "stdout",
       "text": [
        "\n",
        "gdal_translate -projwin 88.52422981178086 34.55429079909459 92.8717004969717 30.61636445381305 D:\\MODIS_NDVI\\2012\\CN_2012_NDVI_recon.132.tif D:\\Downloads\\Mattijn@Song//CN_2012_NDVI_recon.132.tif"
       ]
      },
      {
       "output_type": "stream",
       "stream": "stdout",
       "text": [
        "\n",
        "gdal_translate -projwin 88.52422981178086 34.55429079909459 92.8717004969717 30.61636445381305 D:\\MODIS_NDVI\\2012\\CN_2012_NDVI_recon.133.tif D:\\Downloads\\Mattijn@Song//CN_2012_NDVI_recon.133.tif"
       ]
      },
      {
       "output_type": "stream",
       "stream": "stdout",
       "text": [
        "\n",
        "gdal_translate -projwin 88.52422981178086 34.55429079909459 92.8717004969717 30.61636445381305 D:\\MODIS_NDVI\\2012\\CN_2012_NDVI_recon.134.tif D:\\Downloads\\Mattijn@Song//CN_2012_NDVI_recon.134.tif"
       ]
      },
      {
       "output_type": "stream",
       "stream": "stdout",
       "text": [
        "\n",
        "gdal_translate -projwin 88.52422981178086 34.55429079909459 92.8717004969717 30.61636445381305 D:\\MODIS_NDVI\\2012\\CN_2012_NDVI_recon.135.tif D:\\Downloads\\Mattijn@Song//CN_2012_NDVI_recon.135.tif"
       ]
      },
      {
       "output_type": "stream",
       "stream": "stdout",
       "text": [
        "\n",
        "gdal_translate -projwin 88.52422981178086 34.55429079909459 92.8717004969717 30.61636445381305 D:\\MODIS_NDVI\\2012\\CN_2012_NDVI_recon.136.tif D:\\Downloads\\Mattijn@Song//CN_2012_NDVI_recon.136.tif"
       ]
      },
      {
       "output_type": "stream",
       "stream": "stdout",
       "text": [
        "\n",
        "gdal_translate -projwin 88.52422981178086 34.55429079909459 92.8717004969717 30.61636445381305 D:\\MODIS_NDVI\\2012\\CN_2012_NDVI_recon.137.tif D:\\Downloads\\Mattijn@Song//CN_2012_NDVI_recon.137.tif"
       ]
      },
      {
       "output_type": "stream",
       "stream": "stdout",
       "text": [
        "\n",
        "gdal_translate -projwin 88.52422981178086 34.55429079909459 92.8717004969717 30.61636445381305 D:\\MODIS_NDVI\\2012\\CN_2012_NDVI_recon.138.tif D:\\Downloads\\Mattijn@Song//CN_2012_NDVI_recon.138.tif"
       ]
      },
      {
       "output_type": "stream",
       "stream": "stdout",
       "text": [
        "\n",
        "gdal_translate -projwin 88.52422981178086 34.55429079909459 92.8717004969717 30.61636445381305 D:\\MODIS_NDVI\\2012\\CN_2012_NDVI_recon.139.tif D:\\Downloads\\Mattijn@Song//CN_2012_NDVI_recon.139.tif"
       ]
      },
      {
       "output_type": "stream",
       "stream": "stdout",
       "text": [
        "\n",
        "gdal_translate -projwin 88.52422981178086 34.55429079909459 92.8717004969717 30.61636445381305 D:\\MODIS_NDVI\\2012\\CN_2012_NDVI_recon.140.tif D:\\Downloads\\Mattijn@Song//CN_2012_NDVI_recon.140.tif"
       ]
      },
      {
       "output_type": "stream",
       "stream": "stdout",
       "text": [
        "\n",
        "gdal_translate -projwin 88.52422981178086 34.55429079909459 92.8717004969717 30.61636445381305 D:\\MODIS_NDVI\\2012\\CN_2012_NDVI_recon.141.tif D:\\Downloads\\Mattijn@Song//CN_2012_NDVI_recon.141.tif"
       ]
      },
      {
       "output_type": "stream",
       "stream": "stdout",
       "text": [
        "\n",
        "gdal_translate -projwin 88.52422981178086 34.55429079909459 92.8717004969717 30.61636445381305 D:\\MODIS_NDVI\\2012\\CN_2012_NDVI_recon.142.tif D:\\Downloads\\Mattijn@Song//CN_2012_NDVI_recon.142.tif"
       ]
      },
      {
       "output_type": "stream",
       "stream": "stdout",
       "text": [
        "\n",
        "gdal_translate -projwin 88.52422981178086 34.55429079909459 92.8717004969717 30.61636445381305 D:\\MODIS_NDVI\\2012\\CN_2012_NDVI_recon.143.tif D:\\Downloads\\Mattijn@Song//CN_2012_NDVI_recon.143.tif"
       ]
      },
      {
       "output_type": "stream",
       "stream": "stdout",
       "text": [
        "\n",
        "gdal_translate -projwin 88.52422981178086 34.55429079909459 92.8717004969717 30.61636445381305 D:\\MODIS_NDVI\\2012\\CN_2012_NDVI_recon.144.tif D:\\Downloads\\Mattijn@Song//CN_2012_NDVI_recon.144.tif"
       ]
      },
      {
       "output_type": "stream",
       "stream": "stdout",
       "text": [
        "\n",
        "gdal_translate -projwin 88.52422981178086 34.55429079909459 92.8717004969717 30.61636445381305 D:\\MODIS_NDVI\\2012\\CN_2012_NDVI_recon.145.tif D:\\Downloads\\Mattijn@Song//CN_2012_NDVI_recon.145.tif"
       ]
      },
      {
       "output_type": "stream",
       "stream": "stdout",
       "text": [
        "\n",
        "gdal_translate -projwin 88.52422981178086 34.55429079909459 92.8717004969717 30.61636445381305 D:\\MODIS_NDVI\\2012\\CN_2012_NDVI_recon.146.tif D:\\Downloads\\Mattijn@Song//CN_2012_NDVI_recon.146.tif"
       ]
      },
      {
       "output_type": "stream",
       "stream": "stdout",
       "text": [
        "\n",
        "gdal_translate -projwin 88.52422981178086 34.55429079909459 92.8717004969717 30.61636445381305 D:\\MODIS_NDVI\\2012\\CN_2012_NDVI_recon.147.tif D:\\Downloads\\Mattijn@Song//CN_2012_NDVI_recon.147.tif"
       ]
      },
      {
       "output_type": "stream",
       "stream": "stdout",
       "text": [
        "\n",
        "gdal_translate -projwin 88.52422981178086 34.55429079909459 92.8717004969717 30.61636445381305 D:\\MODIS_NDVI\\2012\\CN_2012_NDVI_recon.148.tif D:\\Downloads\\Mattijn@Song//CN_2012_NDVI_recon.148.tif"
       ]
      },
      {
       "output_type": "stream",
       "stream": "stdout",
       "text": [
        "\n",
        "gdal_translate -projwin 88.52422981178086 34.55429079909459 92.8717004969717 30.61636445381305 D:\\MODIS_NDVI\\2012\\CN_2012_NDVI_recon.149.tif D:\\Downloads\\Mattijn@Song//CN_2012_NDVI_recon.149.tif"
       ]
      },
      {
       "output_type": "stream",
       "stream": "stdout",
       "text": [
        "\n",
        "gdal_translate -projwin 88.52422981178086 34.55429079909459 92.8717004969717 30.61636445381305 D:\\MODIS_NDVI\\2012\\CN_2012_NDVI_recon.150.tif D:\\Downloads\\Mattijn@Song//CN_2012_NDVI_recon.150.tif"
       ]
      },
      {
       "output_type": "stream",
       "stream": "stdout",
       "text": [
        "\n",
        "gdal_translate -projwin 88.52422981178086 34.55429079909459 92.8717004969717 30.61636445381305 D:\\MODIS_NDVI\\2012\\CN_2012_NDVI_recon.151.tif D:\\Downloads\\Mattijn@Song//CN_2012_NDVI_recon.151.tif"
       ]
      },
      {
       "output_type": "stream",
       "stream": "stdout",
       "text": [
        "\n",
        "gdal_translate -projwin 88.52422981178086 34.55429079909459 92.8717004969717 30.61636445381305 D:\\MODIS_NDVI\\2012\\CN_2012_NDVI_recon.152.tif D:\\Downloads\\Mattijn@Song//CN_2012_NDVI_recon.152.tif"
       ]
      },
      {
       "output_type": "stream",
       "stream": "stdout",
       "text": [
        "\n",
        "gdal_translate -projwin 88.52422981178086 34.55429079909459 92.8717004969717 30.61636445381305 D:\\MODIS_NDVI\\2012\\CN_2012_NDVI_recon.153.tif D:\\Downloads\\Mattijn@Song//CN_2012_NDVI_recon.153.tif"
       ]
      },
      {
       "output_type": "stream",
       "stream": "stdout",
       "text": [
        "\n",
        "gdal_translate -projwin 88.52422981178086 34.55429079909459 92.8717004969717 30.61636445381305 D:\\MODIS_NDVI\\2012\\CN_2012_NDVI_recon.154.tif D:\\Downloads\\Mattijn@Song//CN_2012_NDVI_recon.154.tif"
       ]
      },
      {
       "output_type": "stream",
       "stream": "stdout",
       "text": [
        "\n",
        "gdal_translate -projwin 88.52422981178086 34.55429079909459 92.8717004969717 30.61636445381305 D:\\MODIS_NDVI\\2012\\CN_2012_NDVI_recon.155.tif D:\\Downloads\\Mattijn@Song//CN_2012_NDVI_recon.155.tif"
       ]
      },
      {
       "output_type": "stream",
       "stream": "stdout",
       "text": [
        "\n",
        "gdal_translate -projwin 88.52422981178086 34.55429079909459 92.8717004969717 30.61636445381305 D:\\MODIS_NDVI\\2012\\CN_2012_NDVI_recon.156.tif D:\\Downloads\\Mattijn@Song//CN_2012_NDVI_recon.156.tif"
       ]
      },
      {
       "output_type": "stream",
       "stream": "stdout",
       "text": [
        "\n",
        "gdal_translate -projwin 88.52422981178086 34.55429079909459 92.8717004969717 30.61636445381305 D:\\MODIS_NDVI\\2012\\CN_2012_NDVI_recon.157.tif D:\\Downloads\\Mattijn@Song//CN_2012_NDVI_recon.157.tif"
       ]
      },
      {
       "output_type": "stream",
       "stream": "stdout",
       "text": [
        "\n",
        "gdal_translate -projwin 88.52422981178086 34.55429079909459 92.8717004969717 30.61636445381305 D:\\MODIS_NDVI\\2012\\CN_2012_NDVI_recon.158.tif D:\\Downloads\\Mattijn@Song//CN_2012_NDVI_recon.158.tif"
       ]
      },
      {
       "output_type": "stream",
       "stream": "stdout",
       "text": [
        "\n",
        "gdal_translate -projwin 88.52422981178086 34.55429079909459 92.8717004969717 30.61636445381305 D:\\MODIS_NDVI\\2012\\CN_2012_NDVI_recon.159.tif D:\\Downloads\\Mattijn@Song//CN_2012_NDVI_recon.159.tif"
       ]
      },
      {
       "output_type": "stream",
       "stream": "stdout",
       "text": [
        "\n",
        "gdal_translate -projwin 88.52422981178086 34.55429079909459 92.8717004969717 30.61636445381305 D:\\MODIS_NDVI\\2012\\CN_2012_NDVI_recon.160.tif D:\\Downloads\\Mattijn@Song//CN_2012_NDVI_recon.160.tif"
       ]
      },
      {
       "output_type": "stream",
       "stream": "stdout",
       "text": [
        "\n",
        "gdal_translate -projwin 88.52422981178086 34.55429079909459 92.8717004969717 30.61636445381305 D:\\MODIS_NDVI\\2012\\CN_2012_NDVI_recon.161.tif D:\\Downloads\\Mattijn@Song//CN_2012_NDVI_recon.161.tif"
       ]
      },
      {
       "output_type": "stream",
       "stream": "stdout",
       "text": [
        "\n",
        "gdal_translate -projwin 88.52422981178086 34.55429079909459 92.8717004969717 30.61636445381305 D:\\MODIS_NDVI\\2012\\CN_2012_NDVI_recon.162.tif D:\\Downloads\\Mattijn@Song//CN_2012_NDVI_recon.162.tif"
       ]
      },
      {
       "output_type": "stream",
       "stream": "stdout",
       "text": [
        "\n",
        "gdal_translate -projwin 88.52422981178086 34.55429079909459 92.8717004969717 30.61636445381305 D:\\MODIS_NDVI\\2012\\CN_2012_NDVI_recon.163.tif D:\\Downloads\\Mattijn@Song//CN_2012_NDVI_recon.163.tif"
       ]
      },
      {
       "output_type": "stream",
       "stream": "stdout",
       "text": [
        "\n",
        "gdal_translate -projwin 88.52422981178086 34.55429079909459 92.8717004969717 30.61636445381305 D:\\MODIS_NDVI\\2012\\CN_2012_NDVI_recon.164.tif D:\\Downloads\\Mattijn@Song//CN_2012_NDVI_recon.164.tif"
       ]
      },
      {
       "output_type": "stream",
       "stream": "stdout",
       "text": [
        "\n",
        "gdal_translate -projwin 88.52422981178086 34.55429079909459 92.8717004969717 30.61636445381305 D:\\MODIS_NDVI\\2012\\CN_2012_NDVI_recon.165.tif D:\\Downloads\\Mattijn@Song//CN_2012_NDVI_recon.165.tif"
       ]
      },
      {
       "output_type": "stream",
       "stream": "stdout",
       "text": [
        "\n",
        "gdal_translate -projwin 88.52422981178086 34.55429079909459 92.8717004969717 30.61636445381305 D:\\MODIS_NDVI\\2012\\CN_2012_NDVI_recon.166.tif D:\\Downloads\\Mattijn@Song//CN_2012_NDVI_recon.166.tif"
       ]
      },
      {
       "output_type": "stream",
       "stream": "stdout",
       "text": [
        "\n",
        "gdal_translate -projwin 88.52422981178086 34.55429079909459 92.8717004969717 30.61636445381305 D:\\MODIS_NDVI\\2012\\CN_2012_NDVI_recon.167.tif D:\\Downloads\\Mattijn@Song//CN_2012_NDVI_recon.167.tif"
       ]
      },
      {
       "output_type": "stream",
       "stream": "stdout",
       "text": [
        "\n",
        "gdal_translate -projwin 88.52422981178086 34.55429079909459 92.8717004969717 30.61636445381305 D:\\MODIS_NDVI\\2012\\CN_2012_NDVI_recon.168.tif D:\\Downloads\\Mattijn@Song//CN_2012_NDVI_recon.168.tif"
       ]
      },
      {
       "output_type": "stream",
       "stream": "stdout",
       "text": [
        "\n",
        "gdal_translate -projwin 88.52422981178086 34.55429079909459 92.8717004969717 30.61636445381305 D:\\MODIS_NDVI\\2012\\CN_2012_NDVI_recon.169.tif D:\\Downloads\\Mattijn@Song//CN_2012_NDVI_recon.169.tif"
       ]
      },
      {
       "output_type": "stream",
       "stream": "stdout",
       "text": [
        "\n",
        "gdal_translate -projwin 88.52422981178086 34.55429079909459 92.8717004969717 30.61636445381305 D:\\MODIS_NDVI\\2012\\CN_2012_NDVI_recon.170.tif D:\\Downloads\\Mattijn@Song//CN_2012_NDVI_recon.170.tif"
       ]
      },
      {
       "output_type": "stream",
       "stream": "stdout",
       "text": [
        "\n",
        "gdal_translate -projwin 88.52422981178086 34.55429079909459 92.8717004969717 30.61636445381305 D:\\MODIS_NDVI\\2012\\CN_2012_NDVI_recon.171.tif D:\\Downloads\\Mattijn@Song//CN_2012_NDVI_recon.171.tif"
       ]
      },
      {
       "output_type": "stream",
       "stream": "stdout",
       "text": [
        "\n",
        "gdal_translate -projwin 88.52422981178086 34.55429079909459 92.8717004969717 30.61636445381305 D:\\MODIS_NDVI\\2012\\CN_2012_NDVI_recon.172.tif D:\\Downloads\\Mattijn@Song//CN_2012_NDVI_recon.172.tif"
       ]
      },
      {
       "output_type": "stream",
       "stream": "stdout",
       "text": [
        "\n",
        "gdal_translate -projwin 88.52422981178086 34.55429079909459 92.8717004969717 30.61636445381305 D:\\MODIS_NDVI\\2012\\CN_2012_NDVI_recon.173.tif D:\\Downloads\\Mattijn@Song//CN_2012_NDVI_recon.173.tif"
       ]
      },
      {
       "output_type": "stream",
       "stream": "stdout",
       "text": [
        "\n",
        "gdal_translate -projwin 88.52422981178086 34.55429079909459 92.8717004969717 30.61636445381305 D:\\MODIS_NDVI\\2012\\CN_2012_NDVI_recon.174.tif D:\\Downloads\\Mattijn@Song//CN_2012_NDVI_recon.174.tif"
       ]
      },
      {
       "output_type": "stream",
       "stream": "stdout",
       "text": [
        "\n",
        "gdal_translate -projwin 88.52422981178086 34.55429079909459 92.8717004969717 30.61636445381305 D:\\MODIS_NDVI\\2012\\CN_2012_NDVI_recon.175.tif D:\\Downloads\\Mattijn@Song//CN_2012_NDVI_recon.175.tif"
       ]
      },
      {
       "output_type": "stream",
       "stream": "stdout",
       "text": [
        "\n",
        "gdal_translate -projwin 88.52422981178086 34.55429079909459 92.8717004969717 30.61636445381305 D:\\MODIS_NDVI\\2012\\CN_2012_NDVI_recon.176.tif D:\\Downloads\\Mattijn@Song//CN_2012_NDVI_recon.176.tif"
       ]
      },
      {
       "output_type": "stream",
       "stream": "stdout",
       "text": [
        "\n",
        "gdal_translate -projwin 88.52422981178086 34.55429079909459 92.8717004969717 30.61636445381305 D:\\MODIS_NDVI\\2012\\CN_2012_NDVI_recon.177.tif D:\\Downloads\\Mattijn@Song//CN_2012_NDVI_recon.177.tif"
       ]
      },
      {
       "output_type": "stream",
       "stream": "stdout",
       "text": [
        "\n",
        "gdal_translate -projwin 88.52422981178086 34.55429079909459 92.8717004969717 30.61636445381305 D:\\MODIS_NDVI\\2012\\CN_2012_NDVI_recon.178.tif D:\\Downloads\\Mattijn@Song//CN_2012_NDVI_recon.178.tif"
       ]
      },
      {
       "output_type": "stream",
       "stream": "stdout",
       "text": [
        "\n",
        "gdal_translate -projwin 88.52422981178086 34.55429079909459 92.8717004969717 30.61636445381305 D:\\MODIS_NDVI\\2012\\CN_2012_NDVI_recon.179.tif D:\\Downloads\\Mattijn@Song//CN_2012_NDVI_recon.179.tif"
       ]
      },
      {
       "output_type": "stream",
       "stream": "stdout",
       "text": [
        "\n",
        "gdal_translate -projwin 88.52422981178086 34.55429079909459 92.8717004969717 30.61636445381305 D:\\MODIS_NDVI\\2012\\CN_2012_NDVI_recon.180.tif D:\\Downloads\\Mattijn@Song//CN_2012_NDVI_recon.180.tif"
       ]
      },
      {
       "output_type": "stream",
       "stream": "stdout",
       "text": [
        "\n",
        "gdal_translate -projwin 88.52422981178086 34.55429079909459 92.8717004969717 30.61636445381305 D:\\MODIS_NDVI\\2012\\CN_2012_NDVI_recon.181.tif D:\\Downloads\\Mattijn@Song//CN_2012_NDVI_recon.181.tif"
       ]
      },
      {
       "output_type": "stream",
       "stream": "stdout",
       "text": [
        "\n",
        "gdal_translate -projwin 88.52422981178086 34.55429079909459 92.8717004969717 30.61636445381305 D:\\MODIS_NDVI\\2012\\CN_2012_NDVI_recon.182.tif D:\\Downloads\\Mattijn@Song//CN_2012_NDVI_recon.182.tif"
       ]
      },
      {
       "output_type": "stream",
       "stream": "stdout",
       "text": [
        "\n",
        "gdal_translate -projwin 88.52422981178086 34.55429079909459 92.8717004969717 30.61636445381305 D:\\MODIS_NDVI\\2012\\CN_2012_NDVI_recon.183.tif D:\\Downloads\\Mattijn@Song//CN_2012_NDVI_recon.183.tif"
       ]
      },
      {
       "output_type": "stream",
       "stream": "stdout",
       "text": [
        "\n",
        "gdal_translate -projwin 88.52422981178086 34.55429079909459 92.8717004969717 30.61636445381305 D:\\MODIS_NDVI\\2012\\CN_2012_NDVI_recon.184.tif D:\\Downloads\\Mattijn@Song//CN_2012_NDVI_recon.184.tif"
       ]
      },
      {
       "output_type": "stream",
       "stream": "stdout",
       "text": [
        "\n",
        "gdal_translate -projwin 88.52422981178086 34.55429079909459 92.8717004969717 30.61636445381305 D:\\MODIS_NDVI\\2012\\CN_2012_NDVI_recon.185.tif D:\\Downloads\\Mattijn@Song//CN_2012_NDVI_recon.185.tif"
       ]
      },
      {
       "output_type": "stream",
       "stream": "stdout",
       "text": [
        "\n",
        "gdal_translate -projwin 88.52422981178086 34.55429079909459 92.8717004969717 30.61636445381305 D:\\MODIS_NDVI\\2012\\CN_2012_NDVI_recon.186.tif D:\\Downloads\\Mattijn@Song//CN_2012_NDVI_recon.186.tif"
       ]
      },
      {
       "output_type": "stream",
       "stream": "stdout",
       "text": [
        "\n",
        "gdal_translate -projwin 88.52422981178086 34.55429079909459 92.8717004969717 30.61636445381305 D:\\MODIS_NDVI\\2012\\CN_2012_NDVI_recon.187.tif D:\\Downloads\\Mattijn@Song//CN_2012_NDVI_recon.187.tif"
       ]
      },
      {
       "output_type": "stream",
       "stream": "stdout",
       "text": [
        "\n",
        "gdal_translate -projwin 88.52422981178086 34.55429079909459 92.8717004969717 30.61636445381305 D:\\MODIS_NDVI\\2012\\CN_2012_NDVI_recon.188.tif D:\\Downloads\\Mattijn@Song//CN_2012_NDVI_recon.188.tif"
       ]
      },
      {
       "output_type": "stream",
       "stream": "stdout",
       "text": [
        "\n",
        "gdal_translate -projwin 88.52422981178086 34.55429079909459 92.8717004969717 30.61636445381305 D:\\MODIS_NDVI\\2012\\CN_2012_NDVI_recon.189.tif D:\\Downloads\\Mattijn@Song//CN_2012_NDVI_recon.189.tif"
       ]
      },
      {
       "output_type": "stream",
       "stream": "stdout",
       "text": [
        "\n",
        "gdal_translate -projwin 88.52422981178086 34.55429079909459 92.8717004969717 30.61636445381305 D:\\MODIS_NDVI\\2012\\CN_2012_NDVI_recon.190.tif D:\\Downloads\\Mattijn@Song//CN_2012_NDVI_recon.190.tif"
       ]
      },
      {
       "output_type": "stream",
       "stream": "stdout",
       "text": [
        "\n",
        "gdal_translate -projwin 88.52422981178086 34.55429079909459 92.8717004969717 30.61636445381305 D:\\MODIS_NDVI\\2012\\CN_2012_NDVI_recon.191.tif D:\\Downloads\\Mattijn@Song//CN_2012_NDVI_recon.191.tif"
       ]
      },
      {
       "output_type": "stream",
       "stream": "stdout",
       "text": [
        "\n",
        "gdal_translate -projwin 88.52422981178086 34.55429079909459 92.8717004969717 30.61636445381305 D:\\MODIS_NDVI\\2012\\CN_2012_NDVI_recon.192.tif D:\\Downloads\\Mattijn@Song//CN_2012_NDVI_recon.192.tif"
       ]
      },
      {
       "output_type": "stream",
       "stream": "stdout",
       "text": [
        "\n",
        "gdal_translate -projwin 88.52422981178086 34.55429079909459 92.8717004969717 30.61636445381305 D:\\MODIS_NDVI\\2012\\CN_2012_NDVI_recon.193.tif D:\\Downloads\\Mattijn@Song//CN_2012_NDVI_recon.193.tif"
       ]
      },
      {
       "output_type": "stream",
       "stream": "stdout",
       "text": [
        "\n",
        "gdal_translate -projwin 88.52422981178086 34.55429079909459 92.8717004969717 30.61636445381305 D:\\MODIS_NDVI\\2012\\CN_2012_NDVI_recon.194.tif D:\\Downloads\\Mattijn@Song//CN_2012_NDVI_recon.194.tif"
       ]
      },
      {
       "output_type": "stream",
       "stream": "stdout",
       "text": [
        "\n",
        "gdal_translate -projwin 88.52422981178086 34.55429079909459 92.8717004969717 30.61636445381305 D:\\MODIS_NDVI\\2012\\CN_2012_NDVI_recon.195.tif D:\\Downloads\\Mattijn@Song//CN_2012_NDVI_recon.195.tif"
       ]
      },
      {
       "output_type": "stream",
       "stream": "stdout",
       "text": [
        "\n",
        "gdal_translate -projwin 88.52422981178086 34.55429079909459 92.8717004969717 30.61636445381305 D:\\MODIS_NDVI\\2012\\CN_2012_NDVI_recon.196.tif D:\\Downloads\\Mattijn@Song//CN_2012_NDVI_recon.196.tif"
       ]
      },
      {
       "output_type": "stream",
       "stream": "stdout",
       "text": [
        "\n",
        "gdal_translate -projwin 88.52422981178086 34.55429079909459 92.8717004969717 30.61636445381305 D:\\MODIS_NDVI\\2012\\CN_2012_NDVI_recon.197.tif D:\\Downloads\\Mattijn@Song//CN_2012_NDVI_recon.197.tif"
       ]
      },
      {
       "output_type": "stream",
       "stream": "stdout",
       "text": [
        "\n",
        "gdal_translate -projwin 88.52422981178086 34.55429079909459 92.8717004969717 30.61636445381305 D:\\MODIS_NDVI\\2012\\CN_2012_NDVI_recon.198.tif D:\\Downloads\\Mattijn@Song//CN_2012_NDVI_recon.198.tif"
       ]
      },
      {
       "output_type": "stream",
       "stream": "stdout",
       "text": [
        "\n",
        "gdal_translate -projwin 88.52422981178086 34.55429079909459 92.8717004969717 30.61636445381305 D:\\MODIS_NDVI\\2012\\CN_2012_NDVI_recon.199.tif D:\\Downloads\\Mattijn@Song//CN_2012_NDVI_recon.199.tif"
       ]
      },
      {
       "output_type": "stream",
       "stream": "stdout",
       "text": [
        "\n",
        "gdal_translate -projwin 88.52422981178086 34.55429079909459 92.8717004969717 30.61636445381305 D:\\MODIS_NDVI\\2012\\CN_2012_NDVI_recon.200.tif D:\\Downloads\\Mattijn@Song//CN_2012_NDVI_recon.200.tif"
       ]
      },
      {
       "output_type": "stream",
       "stream": "stdout",
       "text": [
        "\n",
        "gdal_translate -projwin 88.52422981178086 34.55429079909459 92.8717004969717 30.61636445381305 D:\\MODIS_NDVI\\2012\\CN_2012_NDVI_recon.201.tif D:\\Downloads\\Mattijn@Song//CN_2012_NDVI_recon.201.tif"
       ]
      },
      {
       "output_type": "stream",
       "stream": "stdout",
       "text": [
        "\n",
        "gdal_translate -projwin 88.52422981178086 34.55429079909459 92.8717004969717 30.61636445381305 D:\\MODIS_NDVI\\2012\\CN_2012_NDVI_recon.202.tif D:\\Downloads\\Mattijn@Song//CN_2012_NDVI_recon.202.tif"
       ]
      },
      {
       "output_type": "stream",
       "stream": "stdout",
       "text": [
        "\n",
        "gdal_translate -projwin 88.52422981178086 34.55429079909459 92.8717004969717 30.61636445381305 D:\\MODIS_NDVI\\2012\\CN_2012_NDVI_recon.203.tif D:\\Downloads\\Mattijn@Song//CN_2012_NDVI_recon.203.tif"
       ]
      },
      {
       "output_type": "stream",
       "stream": "stdout",
       "text": [
        "\n",
        "gdal_translate -projwin 88.52422981178086 34.55429079909459 92.8717004969717 30.61636445381305 D:\\MODIS_NDVI\\2012\\CN_2012_NDVI_recon.204.tif D:\\Downloads\\Mattijn@Song//CN_2012_NDVI_recon.204.tif"
       ]
      },
      {
       "output_type": "stream",
       "stream": "stdout",
       "text": [
        "\n",
        "gdal_translate -projwin 88.52422981178086 34.55429079909459 92.8717004969717 30.61636445381305 D:\\MODIS_NDVI\\2012\\CN_2012_NDVI_recon.205.tif D:\\Downloads\\Mattijn@Song//CN_2012_NDVI_recon.205.tif"
       ]
      },
      {
       "output_type": "stream",
       "stream": "stdout",
       "text": [
        "\n",
        "gdal_translate -projwin 88.52422981178086 34.55429079909459 92.8717004969717 30.61636445381305 D:\\MODIS_NDVI\\2012\\CN_2012_NDVI_recon.206.tif D:\\Downloads\\Mattijn@Song//CN_2012_NDVI_recon.206.tif"
       ]
      },
      {
       "output_type": "stream",
       "stream": "stdout",
       "text": [
        "\n",
        "gdal_translate -projwin 88.52422981178086 34.55429079909459 92.8717004969717 30.61636445381305 D:\\MODIS_NDVI\\2012\\CN_2012_NDVI_recon.207.tif D:\\Downloads\\Mattijn@Song//CN_2012_NDVI_recon.207.tif"
       ]
      },
      {
       "output_type": "stream",
       "stream": "stdout",
       "text": [
        "\n",
        "gdal_translate -projwin 88.52422981178086 34.55429079909459 92.8717004969717 30.61636445381305 D:\\MODIS_NDVI\\2012\\CN_2012_NDVI_recon.208.tif D:\\Downloads\\Mattijn@Song//CN_2012_NDVI_recon.208.tif"
       ]
      },
      {
       "output_type": "stream",
       "stream": "stdout",
       "text": [
        "\n",
        "gdal_translate -projwin 88.52422981178086 34.55429079909459 92.8717004969717 30.61636445381305 D:\\MODIS_NDVI\\2012\\CN_2012_NDVI_recon.209.tif D:\\Downloads\\Mattijn@Song//CN_2012_NDVI_recon.209.tif"
       ]
      },
      {
       "output_type": "stream",
       "stream": "stdout",
       "text": [
        "\n",
        "gdal_translate -projwin 88.52422981178086 34.55429079909459 92.8717004969717 30.61636445381305 D:\\MODIS_NDVI\\2012\\CN_2012_NDVI_recon.210.tif D:\\Downloads\\Mattijn@Song//CN_2012_NDVI_recon.210.tif"
       ]
      },
      {
       "output_type": "stream",
       "stream": "stdout",
       "text": [
        "\n",
        "gdal_translate -projwin 88.52422981178086 34.55429079909459 92.8717004969717 30.61636445381305 D:\\MODIS_NDVI\\2012\\CN_2012_NDVI_recon.211.tif D:\\Downloads\\Mattijn@Song//CN_2012_NDVI_recon.211.tif"
       ]
      },
      {
       "output_type": "stream",
       "stream": "stdout",
       "text": [
        "\n",
        "gdal_translate -projwin 88.52422981178086 34.55429079909459 92.8717004969717 30.61636445381305 D:\\MODIS_NDVI\\2012\\CN_2012_NDVI_recon.212.tif D:\\Downloads\\Mattijn@Song//CN_2012_NDVI_recon.212.tif"
       ]
      },
      {
       "output_type": "stream",
       "stream": "stdout",
       "text": [
        "\n",
        "gdal_translate -projwin 88.52422981178086 34.55429079909459 92.8717004969717 30.61636445381305 D:\\MODIS_NDVI\\2012\\CN_2012_NDVI_recon.213.tif D:\\Downloads\\Mattijn@Song//CN_2012_NDVI_recon.213.tif"
       ]
      },
      {
       "output_type": "stream",
       "stream": "stdout",
       "text": [
        "\n",
        "gdal_translate -projwin 88.52422981178086 34.55429079909459 92.8717004969717 30.61636445381305 D:\\MODIS_NDVI\\2012\\CN_2012_NDVI_recon.214.tif D:\\Downloads\\Mattijn@Song//CN_2012_NDVI_recon.214.tif"
       ]
      },
      {
       "output_type": "stream",
       "stream": "stdout",
       "text": [
        "\n",
        "gdal_translate -projwin 88.52422981178086 34.55429079909459 92.8717004969717 30.61636445381305 D:\\MODIS_NDVI\\2012\\CN_2012_NDVI_recon.215.tif D:\\Downloads\\Mattijn@Song//CN_2012_NDVI_recon.215.tif"
       ]
      },
      {
       "output_type": "stream",
       "stream": "stdout",
       "text": [
        "\n",
        "gdal_translate -projwin 88.52422981178086 34.55429079909459 92.8717004969717 30.61636445381305 D:\\MODIS_NDVI\\2012\\CN_2012_NDVI_recon.216.tif D:\\Downloads\\Mattijn@Song//CN_2012_NDVI_recon.216.tif"
       ]
      },
      {
       "output_type": "stream",
       "stream": "stdout",
       "text": [
        "\n",
        "gdal_translate -projwin 88.52422981178086 34.55429079909459 92.8717004969717 30.61636445381305 D:\\MODIS_NDVI\\2012\\CN_2012_NDVI_recon.217.tif D:\\Downloads\\Mattijn@Song//CN_2012_NDVI_recon.217.tif"
       ]
      },
      {
       "output_type": "stream",
       "stream": "stdout",
       "text": [
        "\n",
        "gdal_translate -projwin 88.52422981178086 34.55429079909459 92.8717004969717 30.61636445381305 D:\\MODIS_NDVI\\2012\\CN_2012_NDVI_recon.218.tif D:\\Downloads\\Mattijn@Song//CN_2012_NDVI_recon.218.tif"
       ]
      },
      {
       "output_type": "stream",
       "stream": "stdout",
       "text": [
        "\n",
        "gdal_translate -projwin 88.52422981178086 34.55429079909459 92.8717004969717 30.61636445381305 D:\\MODIS_NDVI\\2012\\CN_2012_NDVI_recon.219.tif D:\\Downloads\\Mattijn@Song//CN_2012_NDVI_recon.219.tif"
       ]
      },
      {
       "output_type": "stream",
       "stream": "stdout",
       "text": [
        "\n",
        "gdal_translate -projwin 88.52422981178086 34.55429079909459 92.8717004969717 30.61636445381305 D:\\MODIS_NDVI\\2012\\CN_2012_NDVI_recon.220.tif D:\\Downloads\\Mattijn@Song//CN_2012_NDVI_recon.220.tif"
       ]
      },
      {
       "output_type": "stream",
       "stream": "stdout",
       "text": [
        "\n",
        "gdal_translate -projwin 88.52422981178086 34.55429079909459 92.8717004969717 30.61636445381305 D:\\MODIS_NDVI\\2012\\CN_2012_NDVI_recon.221.tif D:\\Downloads\\Mattijn@Song//CN_2012_NDVI_recon.221.tif"
       ]
      },
      {
       "output_type": "stream",
       "stream": "stdout",
       "text": [
        "\n",
        "gdal_translate -projwin 88.52422981178086 34.55429079909459 92.8717004969717 30.61636445381305 D:\\MODIS_NDVI\\2012\\CN_2012_NDVI_recon.222.tif D:\\Downloads\\Mattijn@Song//CN_2012_NDVI_recon.222.tif"
       ]
      },
      {
       "output_type": "stream",
       "stream": "stdout",
       "text": [
        "\n",
        "gdal_translate -projwin 88.52422981178086 34.55429079909459 92.8717004969717 30.61636445381305 D:\\MODIS_NDVI\\2012\\CN_2012_NDVI_recon.223.tif D:\\Downloads\\Mattijn@Song//CN_2012_NDVI_recon.223.tif"
       ]
      },
      {
       "output_type": "stream",
       "stream": "stdout",
       "text": [
        "\n",
        "gdal_translate -projwin 88.52422981178086 34.55429079909459 92.8717004969717 30.61636445381305 D:\\MODIS_NDVI\\2012\\CN_2012_NDVI_recon.224.tif D:\\Downloads\\Mattijn@Song//CN_2012_NDVI_recon.224.tif"
       ]
      },
      {
       "output_type": "stream",
       "stream": "stdout",
       "text": [
        "\n",
        "gdal_translate -projwin 88.52422981178086 34.55429079909459 92.8717004969717 30.61636445381305 D:\\MODIS_NDVI\\2012\\CN_2012_NDVI_recon.225.tif D:\\Downloads\\Mattijn@Song//CN_2012_NDVI_recon.225.tif"
       ]
      },
      {
       "output_type": "stream",
       "stream": "stdout",
       "text": [
        "\n",
        "gdal_translate -projwin 88.52422981178086 34.55429079909459 92.8717004969717 30.61636445381305 D:\\MODIS_NDVI\\2012\\CN_2012_NDVI_recon.226.tif D:\\Downloads\\Mattijn@Song//CN_2012_NDVI_recon.226.tif"
       ]
      },
      {
       "output_type": "stream",
       "stream": "stdout",
       "text": [
        "\n",
        "gdal_translate -projwin 88.52422981178086 34.55429079909459 92.8717004969717 30.61636445381305 D:\\MODIS_NDVI\\2012\\CN_2012_NDVI_recon.227.tif D:\\Downloads\\Mattijn@Song//CN_2012_NDVI_recon.227.tif"
       ]
      },
      {
       "output_type": "stream",
       "stream": "stdout",
       "text": [
        "\n",
        "gdal_translate -projwin 88.52422981178086 34.55429079909459 92.8717004969717 30.61636445381305 D:\\MODIS_NDVI\\2012\\CN_2012_NDVI_recon.228.tif D:\\Downloads\\Mattijn@Song//CN_2012_NDVI_recon.228.tif"
       ]
      },
      {
       "output_type": "stream",
       "stream": "stdout",
       "text": [
        "\n",
        "gdal_translate -projwin 88.52422981178086 34.55429079909459 92.8717004969717 30.61636445381305 D:\\MODIS_NDVI\\2012\\CN_2012_NDVI_recon.229.tif D:\\Downloads\\Mattijn@Song//CN_2012_NDVI_recon.229.tif"
       ]
      },
      {
       "output_type": "stream",
       "stream": "stdout",
       "text": [
        "\n",
        "gdal_translate -projwin 88.52422981178086 34.55429079909459 92.8717004969717 30.61636445381305 D:\\MODIS_NDVI\\2012\\CN_2012_NDVI_recon.230.tif D:\\Downloads\\Mattijn@Song//CN_2012_NDVI_recon.230.tif"
       ]
      },
      {
       "output_type": "stream",
       "stream": "stdout",
       "text": [
        "\n",
        "gdal_translate -projwin 88.52422981178086 34.55429079909459 92.8717004969717 30.61636445381305 D:\\MODIS_NDVI\\2012\\CN_2012_NDVI_recon.231.tif D:\\Downloads\\Mattijn@Song//CN_2012_NDVI_recon.231.tif"
       ]
      },
      {
       "output_type": "stream",
       "stream": "stdout",
       "text": [
        "\n",
        "gdal_translate -projwin 88.52422981178086 34.55429079909459 92.8717004969717 30.61636445381305 D:\\MODIS_NDVI\\2012\\CN_2012_NDVI_recon.232.tif D:\\Downloads\\Mattijn@Song//CN_2012_NDVI_recon.232.tif"
       ]
      },
      {
       "output_type": "stream",
       "stream": "stdout",
       "text": [
        "\n",
        "gdal_translate -projwin 88.52422981178086 34.55429079909459 92.8717004969717 30.61636445381305 D:\\MODIS_NDVI\\2012\\CN_2012_NDVI_recon.233.tif D:\\Downloads\\Mattijn@Song//CN_2012_NDVI_recon.233.tif"
       ]
      },
      {
       "output_type": "stream",
       "stream": "stdout",
       "text": [
        "\n",
        "gdal_translate -projwin 88.52422981178086 34.55429079909459 92.8717004969717 30.61636445381305 D:\\MODIS_NDVI\\2012\\CN_2012_NDVI_recon.234.tif D:\\Downloads\\Mattijn@Song//CN_2012_NDVI_recon.234.tif"
       ]
      },
      {
       "output_type": "stream",
       "stream": "stdout",
       "text": [
        "\n",
        "gdal_translate -projwin 88.52422981178086 34.55429079909459 92.8717004969717 30.61636445381305 D:\\MODIS_NDVI\\2012\\CN_2012_NDVI_recon.235.tif D:\\Downloads\\Mattijn@Song//CN_2012_NDVI_recon.235.tif"
       ]
      },
      {
       "output_type": "stream",
       "stream": "stdout",
       "text": [
        "\n",
        "gdal_translate -projwin 88.52422981178086 34.55429079909459 92.8717004969717 30.61636445381305 D:\\MODIS_NDVI\\2012\\CN_2012_NDVI_recon.236.tif D:\\Downloads\\Mattijn@Song//CN_2012_NDVI_recon.236.tif"
       ]
      },
      {
       "output_type": "stream",
       "stream": "stdout",
       "text": [
        "\n",
        "gdal_translate -projwin 88.52422981178086 34.55429079909459 92.8717004969717 30.61636445381305 D:\\MODIS_NDVI\\2012\\CN_2012_NDVI_recon.237.tif D:\\Downloads\\Mattijn@Song//CN_2012_NDVI_recon.237.tif"
       ]
      },
      {
       "output_type": "stream",
       "stream": "stdout",
       "text": [
        "\n",
        "gdal_translate -projwin 88.52422981178086 34.55429079909459 92.8717004969717 30.61636445381305 D:\\MODIS_NDVI\\2012\\CN_2012_NDVI_recon.238.tif D:\\Downloads\\Mattijn@Song//CN_2012_NDVI_recon.238.tif"
       ]
      },
      {
       "output_type": "stream",
       "stream": "stdout",
       "text": [
        "\n",
        "gdal_translate -projwin 88.52422981178086 34.55429079909459 92.8717004969717 30.61636445381305 D:\\MODIS_NDVI\\2012\\CN_2012_NDVI_recon.239.tif D:\\Downloads\\Mattijn@Song//CN_2012_NDVI_recon.239.tif"
       ]
      },
      {
       "output_type": "stream",
       "stream": "stdout",
       "text": [
        "\n",
        "gdal_translate -projwin 88.52422981178086 34.55429079909459 92.8717004969717 30.61636445381305 D:\\MODIS_NDVI\\2012\\CN_2012_NDVI_recon.240.tif D:\\Downloads\\Mattijn@Song//CN_2012_NDVI_recon.240.tif"
       ]
      },
      {
       "output_type": "stream",
       "stream": "stdout",
       "text": [
        "\n",
        "gdal_translate -projwin 88.52422981178086 34.55429079909459 92.8717004969717 30.61636445381305 D:\\MODIS_NDVI\\2012\\CN_2012_NDVI_recon.241.tif D:\\Downloads\\Mattijn@Song//CN_2012_NDVI_recon.241.tif"
       ]
      },
      {
       "output_type": "stream",
       "stream": "stdout",
       "text": [
        "\n",
        "gdal_translate -projwin 88.52422981178086 34.55429079909459 92.8717004969717 30.61636445381305 D:\\MODIS_NDVI\\2012\\CN_2012_NDVI_recon.242.tif D:\\Downloads\\Mattijn@Song//CN_2012_NDVI_recon.242.tif"
       ]
      },
      {
       "output_type": "stream",
       "stream": "stdout",
       "text": [
        "\n",
        "gdal_translate -projwin 88.52422981178086 34.55429079909459 92.8717004969717 30.61636445381305 D:\\MODIS_NDVI\\2012\\CN_2012_NDVI_recon.243.tif D:\\Downloads\\Mattijn@Song//CN_2012_NDVI_recon.243.tif"
       ]
      },
      {
       "output_type": "stream",
       "stream": "stdout",
       "text": [
        "\n",
        "gdal_translate -projwin 88.52422981178086 34.55429079909459 92.8717004969717 30.61636445381305 D:\\MODIS_NDVI\\2012\\CN_2012_NDVI_recon.244.tif D:\\Downloads\\Mattijn@Song//CN_2012_NDVI_recon.244.tif"
       ]
      },
      {
       "output_type": "stream",
       "stream": "stdout",
       "text": [
        "\n",
        "gdal_translate -projwin 88.52422981178086 34.55429079909459 92.8717004969717 30.61636445381305 D:\\MODIS_NDVI\\2012\\CN_2012_NDVI_recon.245.tif D:\\Downloads\\Mattijn@Song//CN_2012_NDVI_recon.245.tif"
       ]
      },
      {
       "output_type": "stream",
       "stream": "stdout",
       "text": [
        "\n",
        "gdal_translate -projwin 88.52422981178086 34.55429079909459 92.8717004969717 30.61636445381305 D:\\MODIS_NDVI\\2012\\CN_2012_NDVI_recon.246.tif D:\\Downloads\\Mattijn@Song//CN_2012_NDVI_recon.246.tif"
       ]
      },
      {
       "output_type": "stream",
       "stream": "stdout",
       "text": [
        "\n",
        "gdal_translate -projwin 88.52422981178086 34.55429079909459 92.8717004969717 30.61636445381305 D:\\MODIS_NDVI\\2012\\CN_2012_NDVI_recon.247.tif D:\\Downloads\\Mattijn@Song//CN_2012_NDVI_recon.247.tif"
       ]
      },
      {
       "output_type": "stream",
       "stream": "stdout",
       "text": [
        "\n",
        "gdal_translate -projwin 88.52422981178086 34.55429079909459 92.8717004969717 30.61636445381305 D:\\MODIS_NDVI\\2012\\CN_2012_NDVI_recon.248.tif D:\\Downloads\\Mattijn@Song//CN_2012_NDVI_recon.248.tif"
       ]
      },
      {
       "output_type": "stream",
       "stream": "stdout",
       "text": [
        "\n",
        "gdal_translate -projwin 88.52422981178086 34.55429079909459 92.8717004969717 30.61636445381305 D:\\MODIS_NDVI\\2012\\CN_2012_NDVI_recon.249.tif D:\\Downloads\\Mattijn@Song//CN_2012_NDVI_recon.249.tif"
       ]
      },
      {
       "output_type": "stream",
       "stream": "stdout",
       "text": [
        "\n",
        "gdal_translate -projwin 88.52422981178086 34.55429079909459 92.8717004969717 30.61636445381305 D:\\MODIS_NDVI\\2012\\CN_2012_NDVI_recon.250.tif D:\\Downloads\\Mattijn@Song//CN_2012_NDVI_recon.250.tif"
       ]
      },
      {
       "output_type": "stream",
       "stream": "stdout",
       "text": [
        "\n",
        "gdal_translate -projwin 88.52422981178086 34.55429079909459 92.8717004969717 30.61636445381305 D:\\MODIS_NDVI\\2012\\CN_2012_NDVI_recon.251.tif D:\\Downloads\\Mattijn@Song//CN_2012_NDVI_recon.251.tif"
       ]
      },
      {
       "output_type": "stream",
       "stream": "stdout",
       "text": [
        "\n",
        "gdal_translate -projwin 88.52422981178086 34.55429079909459 92.8717004969717 30.61636445381305 D:\\MODIS_NDVI\\2012\\CN_2012_NDVI_recon.252.tif D:\\Downloads\\Mattijn@Song//CN_2012_NDVI_recon.252.tif"
       ]
      },
      {
       "output_type": "stream",
       "stream": "stdout",
       "text": [
        "\n",
        "gdal_translate -projwin 88.52422981178086 34.55429079909459 92.8717004969717 30.61636445381305 D:\\MODIS_NDVI\\2012\\CN_2012_NDVI_recon.253.tif D:\\Downloads\\Mattijn@Song//CN_2012_NDVI_recon.253.tif"
       ]
      },
      {
       "output_type": "stream",
       "stream": "stdout",
       "text": [
        "\n",
        "gdal_translate -projwin 88.52422981178086 34.55429079909459 92.8717004969717 30.61636445381305 D:\\MODIS_NDVI\\2012\\CN_2012_NDVI_recon.254.tif D:\\Downloads\\Mattijn@Song//CN_2012_NDVI_recon.254.tif"
       ]
      },
      {
       "output_type": "stream",
       "stream": "stdout",
       "text": [
        "\n",
        "gdal_translate -projwin 88.52422981178086 34.55429079909459 92.8717004969717 30.61636445381305 D:\\MODIS_NDVI\\2012\\CN_2012_NDVI_recon.255.tif D:\\Downloads\\Mattijn@Song//CN_2012_NDVI_recon.255.tif"
       ]
      },
      {
       "output_type": "stream",
       "stream": "stdout",
       "text": [
        "\n",
        "gdal_translate -projwin 88.52422981178086 34.55429079909459 92.8717004969717 30.61636445381305 D:\\MODIS_NDVI\\2012\\CN_2012_NDVI_recon.256.tif D:\\Downloads\\Mattijn@Song//CN_2012_NDVI_recon.256.tif"
       ]
      },
      {
       "output_type": "stream",
       "stream": "stdout",
       "text": [
        "\n",
        "gdal_translate -projwin 88.52422981178086 34.55429079909459 92.8717004969717 30.61636445381305 D:\\MODIS_NDVI\\2012\\CN_2012_NDVI_recon.257.tif D:\\Downloads\\Mattijn@Song//CN_2012_NDVI_recon.257.tif"
       ]
      },
      {
       "output_type": "stream",
       "stream": "stdout",
       "text": [
        "\n",
        "gdal_translate -projwin 88.52422981178086 34.55429079909459 92.8717004969717 30.61636445381305 D:\\MODIS_NDVI\\2012\\CN_2012_NDVI_recon.258.tif D:\\Downloads\\Mattijn@Song//CN_2012_NDVI_recon.258.tif"
       ]
      },
      {
       "output_type": "stream",
       "stream": "stdout",
       "text": [
        "\n",
        "gdal_translate -projwin 88.52422981178086 34.55429079909459 92.8717004969717 30.61636445381305 D:\\MODIS_NDVI\\2012\\CN_2012_NDVI_recon.259.tif D:\\Downloads\\Mattijn@Song//CN_2012_NDVI_recon.259.tif"
       ]
      },
      {
       "output_type": "stream",
       "stream": "stdout",
       "text": [
        "\n",
        "gdal_translate -projwin 88.52422981178086 34.55429079909459 92.8717004969717 30.61636445381305 D:\\MODIS_NDVI\\2012\\CN_2012_NDVI_recon.260.tif D:\\Downloads\\Mattijn@Song//CN_2012_NDVI_recon.260.tif"
       ]
      },
      {
       "output_type": "stream",
       "stream": "stdout",
       "text": [
        "\n",
        "gdal_translate -projwin 88.52422981178086 34.55429079909459 92.8717004969717 30.61636445381305 D:\\MODIS_NDVI\\2012\\CN_2012_NDVI_recon.261.tif D:\\Downloads\\Mattijn@Song//CN_2012_NDVI_recon.261.tif"
       ]
      },
      {
       "output_type": "stream",
       "stream": "stdout",
       "text": [
        "\n",
        "gdal_translate -projwin 88.52422981178086 34.55429079909459 92.8717004969717 30.61636445381305 D:\\MODIS_NDVI\\2012\\CN_2012_NDVI_recon.262.tif D:\\Downloads\\Mattijn@Song//CN_2012_NDVI_recon.262.tif"
       ]
      },
      {
       "output_type": "stream",
       "stream": "stdout",
       "text": [
        "\n",
        "gdal_translate -projwin 88.52422981178086 34.55429079909459 92.8717004969717 30.61636445381305 D:\\MODIS_NDVI\\2012\\CN_2012_NDVI_recon.263.tif D:\\Downloads\\Mattijn@Song//CN_2012_NDVI_recon.263.tif"
       ]
      },
      {
       "output_type": "stream",
       "stream": "stdout",
       "text": [
        "\n",
        "gdal_translate -projwin 88.52422981178086 34.55429079909459 92.8717004969717 30.61636445381305 D:\\MODIS_NDVI\\2012\\CN_2012_NDVI_recon.264.tif D:\\Downloads\\Mattijn@Song//CN_2012_NDVI_recon.264.tif"
       ]
      },
      {
       "output_type": "stream",
       "stream": "stdout",
       "text": [
        "\n",
        "gdal_translate -projwin 88.52422981178086 34.55429079909459 92.8717004969717 30.61636445381305 D:\\MODIS_NDVI\\2012\\CN_2012_NDVI_recon.265.tif D:\\Downloads\\Mattijn@Song//CN_2012_NDVI_recon.265.tif"
       ]
      },
      {
       "output_type": "stream",
       "stream": "stdout",
       "text": [
        "\n",
        "gdal_translate -projwin 88.52422981178086 34.55429079909459 92.8717004969717 30.61636445381305 D:\\MODIS_NDVI\\2012\\CN_2012_NDVI_recon.266.tif D:\\Downloads\\Mattijn@Song//CN_2012_NDVI_recon.266.tif"
       ]
      },
      {
       "output_type": "stream",
       "stream": "stdout",
       "text": [
        "\n",
        "gdal_translate -projwin 88.52422981178086 34.55429079909459 92.8717004969717 30.61636445381305 D:\\MODIS_NDVI\\2012\\CN_2012_NDVI_recon.267.tif D:\\Downloads\\Mattijn@Song//CN_2012_NDVI_recon.267.tif"
       ]
      },
      {
       "output_type": "stream",
       "stream": "stdout",
       "text": [
        "\n",
        "gdal_translate -projwin 88.52422981178086 34.55429079909459 92.8717004969717 30.61636445381305 D:\\MODIS_NDVI\\2012\\CN_2012_NDVI_recon.268.tif D:\\Downloads\\Mattijn@Song//CN_2012_NDVI_recon.268.tif"
       ]
      },
      {
       "output_type": "stream",
       "stream": "stdout",
       "text": [
        "\n",
        "gdal_translate -projwin 88.52422981178086 34.55429079909459 92.8717004969717 30.61636445381305 D:\\MODIS_NDVI\\2012\\CN_2012_NDVI_recon.269.tif D:\\Downloads\\Mattijn@Song//CN_2012_NDVI_recon.269.tif"
       ]
      },
      {
       "output_type": "stream",
       "stream": "stdout",
       "text": [
        "\n",
        "gdal_translate -projwin 88.52422981178086 34.55429079909459 92.8717004969717 30.61636445381305 D:\\MODIS_NDVI\\2012\\CN_2012_NDVI_recon.270.tif D:\\Downloads\\Mattijn@Song//CN_2012_NDVI_recon.270.tif"
       ]
      },
      {
       "output_type": "stream",
       "stream": "stdout",
       "text": [
        "\n",
        "gdal_translate -projwin 88.52422981178086 34.55429079909459 92.8717004969717 30.61636445381305 D:\\MODIS_NDVI\\2012\\CN_2012_NDVI_recon.271.tif D:\\Downloads\\Mattijn@Song//CN_2012_NDVI_recon.271.tif"
       ]
      },
      {
       "output_type": "stream",
       "stream": "stdout",
       "text": [
        "\n",
        "gdal_translate -projwin 88.52422981178086 34.55429079909459 92.8717004969717 30.61636445381305 D:\\MODIS_NDVI\\2012\\CN_2012_NDVI_recon.272.tif D:\\Downloads\\Mattijn@Song//CN_2012_NDVI_recon.272.tif"
       ]
      },
      {
       "output_type": "stream",
       "stream": "stdout",
       "text": [
        "\n",
        "gdal_translate -projwin 88.52422981178086 34.55429079909459 92.8717004969717 30.61636445381305 D:\\MODIS_NDVI\\2012\\CN_2012_NDVI_recon.273.tif D:\\Downloads\\Mattijn@Song//CN_2012_NDVI_recon.273.tif"
       ]
      },
      {
       "output_type": "stream",
       "stream": "stdout",
       "text": [
        "\n",
        "gdal_translate -projwin 88.52422981178086 34.55429079909459 92.8717004969717 30.61636445381305 D:\\MODIS_NDVI\\2012\\CN_2012_NDVI_recon.274.tif D:\\Downloads\\Mattijn@Song//CN_2012_NDVI_recon.274.tif"
       ]
      },
      {
       "output_type": "stream",
       "stream": "stdout",
       "text": [
        "\n",
        "gdal_translate -projwin 88.52422981178086 34.55429079909459 92.8717004969717 30.61636445381305 D:\\MODIS_NDVI\\2012\\CN_2012_NDVI_recon.275.tif D:\\Downloads\\Mattijn@Song//CN_2012_NDVI_recon.275.tif"
       ]
      },
      {
       "output_type": "stream",
       "stream": "stdout",
       "text": [
        "\n",
        "gdal_translate -projwin 88.52422981178086 34.55429079909459 92.8717004969717 30.61636445381305 D:\\MODIS_NDVI\\2012\\CN_2012_NDVI_recon.276.tif D:\\Downloads\\Mattijn@Song//CN_2012_NDVI_recon.276.tif"
       ]
      },
      {
       "output_type": "stream",
       "stream": "stdout",
       "text": [
        "\n",
        "gdal_translate -projwin 88.52422981178086 34.55429079909459 92.8717004969717 30.61636445381305 D:\\MODIS_NDVI\\2012\\CN_2012_NDVI_recon.277.tif D:\\Downloads\\Mattijn@Song//CN_2012_NDVI_recon.277.tif"
       ]
      },
      {
       "output_type": "stream",
       "stream": "stdout",
       "text": [
        "\n",
        "gdal_translate -projwin 88.52422981178086 34.55429079909459 92.8717004969717 30.61636445381305 D:\\MODIS_NDVI\\2012\\CN_2012_NDVI_recon.278.tif D:\\Downloads\\Mattijn@Song//CN_2012_NDVI_recon.278.tif"
       ]
      },
      {
       "output_type": "stream",
       "stream": "stdout",
       "text": [
        "\n",
        "gdal_translate -projwin 88.52422981178086 34.55429079909459 92.8717004969717 30.61636445381305 D:\\MODIS_NDVI\\2012\\CN_2012_NDVI_recon.279.tif D:\\Downloads\\Mattijn@Song//CN_2012_NDVI_recon.279.tif"
       ]
      },
      {
       "output_type": "stream",
       "stream": "stdout",
       "text": [
        "\n",
        "gdal_translate -projwin 88.52422981178086 34.55429079909459 92.8717004969717 30.61636445381305 D:\\MODIS_NDVI\\2012\\CN_2012_NDVI_recon.280.tif D:\\Downloads\\Mattijn@Song//CN_2012_NDVI_recon.280.tif"
       ]
      },
      {
       "output_type": "stream",
       "stream": "stdout",
       "text": [
        "\n",
        "gdal_translate -projwin 88.52422981178086 34.55429079909459 92.8717004969717 30.61636445381305 D:\\MODIS_NDVI\\2012\\CN_2012_NDVI_recon.281.tif D:\\Downloads\\Mattijn@Song//CN_2012_NDVI_recon.281.tif"
       ]
      },
      {
       "output_type": "stream",
       "stream": "stdout",
       "text": [
        "\n",
        "gdal_translate -projwin 88.52422981178086 34.55429079909459 92.8717004969717 30.61636445381305 D:\\MODIS_NDVI\\2012\\CN_2012_NDVI_recon.282.tif D:\\Downloads\\Mattijn@Song//CN_2012_NDVI_recon.282.tif"
       ]
      },
      {
       "output_type": "stream",
       "stream": "stdout",
       "text": [
        "\n",
        "gdal_translate -projwin 88.52422981178086 34.55429079909459 92.8717004969717 30.61636445381305 D:\\MODIS_NDVI\\2012\\CN_2012_NDVI_recon.283.tif D:\\Downloads\\Mattijn@Song//CN_2012_NDVI_recon.283.tif"
       ]
      },
      {
       "output_type": "stream",
       "stream": "stdout",
       "text": [
        "\n",
        "gdal_translate -projwin 88.52422981178086 34.55429079909459 92.8717004969717 30.61636445381305 D:\\MODIS_NDVI\\2012\\CN_2012_NDVI_recon.284.tif D:\\Downloads\\Mattijn@Song//CN_2012_NDVI_recon.284.tif"
       ]
      },
      {
       "output_type": "stream",
       "stream": "stdout",
       "text": [
        "\n",
        "gdal_translate -projwin 88.52422981178086 34.55429079909459 92.8717004969717 30.61636445381305 D:\\MODIS_NDVI\\2012\\CN_2012_NDVI_recon.285.tif D:\\Downloads\\Mattijn@Song//CN_2012_NDVI_recon.285.tif"
       ]
      },
      {
       "output_type": "stream",
       "stream": "stdout",
       "text": [
        "\n",
        "gdal_translate -projwin 88.52422981178086 34.55429079909459 92.8717004969717 30.61636445381305 D:\\MODIS_NDVI\\2012\\CN_2012_NDVI_recon.286.tif D:\\Downloads\\Mattijn@Song//CN_2012_NDVI_recon.286.tif"
       ]
      },
      {
       "output_type": "stream",
       "stream": "stdout",
       "text": [
        "\n",
        "gdal_translate -projwin 88.52422981178086 34.55429079909459 92.8717004969717 30.61636445381305 D:\\MODIS_NDVI\\2012\\CN_2012_NDVI_recon.287.tif D:\\Downloads\\Mattijn@Song//CN_2012_NDVI_recon.287.tif"
       ]
      },
      {
       "output_type": "stream",
       "stream": "stdout",
       "text": [
        "\n",
        "gdal_translate -projwin 88.52422981178086 34.55429079909459 92.8717004969717 30.61636445381305 D:\\MODIS_NDVI\\2012\\CN_2012_NDVI_recon.288.tif D:\\Downloads\\Mattijn@Song//CN_2012_NDVI_recon.288.tif"
       ]
      },
      {
       "output_type": "stream",
       "stream": "stdout",
       "text": [
        "\n",
        "gdal_translate -projwin 88.52422981178086 34.55429079909459 92.8717004969717 30.61636445381305 D:\\MODIS_NDVI\\2012\\CN_2012_NDVI_recon.289.tif D:\\Downloads\\Mattijn@Song//CN_2012_NDVI_recon.289.tif"
       ]
      },
      {
       "output_type": "stream",
       "stream": "stdout",
       "text": [
        "\n",
        "gdal_translate -projwin 88.52422981178086 34.55429079909459 92.8717004969717 30.61636445381305 D:\\MODIS_NDVI\\2012\\CN_2012_NDVI_recon.290.tif D:\\Downloads\\Mattijn@Song//CN_2012_NDVI_recon.290.tif"
       ]
      },
      {
       "output_type": "stream",
       "stream": "stdout",
       "text": [
        "\n",
        "gdal_translate -projwin 88.52422981178086 34.55429079909459 92.8717004969717 30.61636445381305 D:\\MODIS_NDVI\\2012\\CN_2012_NDVI_recon.291.tif D:\\Downloads\\Mattijn@Song//CN_2012_NDVI_recon.291.tif"
       ]
      },
      {
       "output_type": "stream",
       "stream": "stdout",
       "text": [
        "\n",
        "gdal_translate -projwin 88.52422981178086 34.55429079909459 92.8717004969717 30.61636445381305 D:\\MODIS_NDVI\\2012\\CN_2012_NDVI_recon.292.tif D:\\Downloads\\Mattijn@Song//CN_2012_NDVI_recon.292.tif"
       ]
      },
      {
       "output_type": "stream",
       "stream": "stdout",
       "text": [
        "\n",
        "gdal_translate -projwin 88.52422981178086 34.55429079909459 92.8717004969717 30.61636445381305 D:\\MODIS_NDVI\\2012\\CN_2012_NDVI_recon.293.tif D:\\Downloads\\Mattijn@Song//CN_2012_NDVI_recon.293.tif"
       ]
      },
      {
       "output_type": "stream",
       "stream": "stdout",
       "text": [
        "\n",
        "gdal_translate -projwin 88.52422981178086 34.55429079909459 92.8717004969717 30.61636445381305 D:\\MODIS_NDVI\\2012\\CN_2012_NDVI_recon.294.tif D:\\Downloads\\Mattijn@Song//CN_2012_NDVI_recon.294.tif"
       ]
      },
      {
       "output_type": "stream",
       "stream": "stdout",
       "text": [
        "\n",
        "gdal_translate -projwin 88.52422981178086 34.55429079909459 92.8717004969717 30.61636445381305 D:\\MODIS_NDVI\\2012\\CN_2012_NDVI_recon.295.tif D:\\Downloads\\Mattijn@Song//CN_2012_NDVI_recon.295.tif"
       ]
      },
      {
       "output_type": "stream",
       "stream": "stdout",
       "text": [
        "\n",
        "gdal_translate -projwin 88.52422981178086 34.55429079909459 92.8717004969717 30.61636445381305 D:\\MODIS_NDVI\\2012\\CN_2012_NDVI_recon.296.tif D:\\Downloads\\Mattijn@Song//CN_2012_NDVI_recon.296.tif"
       ]
      },
      {
       "output_type": "stream",
       "stream": "stdout",
       "text": [
        "\n",
        "gdal_translate -projwin 88.52422981178086 34.55429079909459 92.8717004969717 30.61636445381305 D:\\MODIS_NDVI\\2012\\CN_2012_NDVI_recon.297.tif D:\\Downloads\\Mattijn@Song//CN_2012_NDVI_recon.297.tif"
       ]
      },
      {
       "output_type": "stream",
       "stream": "stdout",
       "text": [
        "\n",
        "gdal_translate -projwin 88.52422981178086 34.55429079909459 92.8717004969717 30.61636445381305 D:\\MODIS_NDVI\\2012\\CN_2012_NDVI_recon.298.tif D:\\Downloads\\Mattijn@Song//CN_2012_NDVI_recon.298.tif"
       ]
      },
      {
       "output_type": "stream",
       "stream": "stdout",
       "text": [
        "\n",
        "gdal_translate -projwin 88.52422981178086 34.55429079909459 92.8717004969717 30.61636445381305 D:\\MODIS_NDVI\\2012\\CN_2012_NDVI_recon.299.tif D:\\Downloads\\Mattijn@Song//CN_2012_NDVI_recon.299.tif"
       ]
      },
      {
       "output_type": "stream",
       "stream": "stdout",
       "text": [
        "\n",
        "gdal_translate -projwin 88.52422981178086 34.55429079909459 92.8717004969717 30.61636445381305 D:\\MODIS_NDVI\\2012\\CN_2012_NDVI_recon.300.tif D:\\Downloads\\Mattijn@Song//CN_2012_NDVI_recon.300.tif"
       ]
      },
      {
       "output_type": "stream",
       "stream": "stdout",
       "text": [
        "\n",
        "gdal_translate -projwin 88.52422981178086 34.55429079909459 92.8717004969717 30.61636445381305 D:\\MODIS_NDVI\\2012\\CN_2012_NDVI_recon.301.tif D:\\Downloads\\Mattijn@Song//CN_2012_NDVI_recon.301.tif"
       ]
      },
      {
       "output_type": "stream",
       "stream": "stdout",
       "text": [
        "\n",
        "gdal_translate -projwin 88.52422981178086 34.55429079909459 92.8717004969717 30.61636445381305 D:\\MODIS_NDVI\\2012\\CN_2012_NDVI_recon.302.tif D:\\Downloads\\Mattijn@Song//CN_2012_NDVI_recon.302.tif"
       ]
      },
      {
       "output_type": "stream",
       "stream": "stdout",
       "text": [
        "\n",
        "gdal_translate -projwin 88.52422981178086 34.55429079909459 92.8717004969717 30.61636445381305 D:\\MODIS_NDVI\\2012\\CN_2012_NDVI_recon.303.tif D:\\Downloads\\Mattijn@Song//CN_2012_NDVI_recon.303.tif"
       ]
      },
      {
       "output_type": "stream",
       "stream": "stdout",
       "text": [
        "\n",
        "gdal_translate -projwin 88.52422981178086 34.55429079909459 92.8717004969717 30.61636445381305 D:\\MODIS_NDVI\\2012\\CN_2012_NDVI_recon.304.tif D:\\Downloads\\Mattijn@Song//CN_2012_NDVI_recon.304.tif"
       ]
      },
      {
       "output_type": "stream",
       "stream": "stdout",
       "text": [
        "\n",
        "gdal_translate -projwin 88.52422981178086 34.55429079909459 92.8717004969717 30.61636445381305 D:\\MODIS_NDVI\\2012\\CN_2012_NDVI_recon.305.tif D:\\Downloads\\Mattijn@Song//CN_2012_NDVI_recon.305.tif"
       ]
      },
      {
       "output_type": "stream",
       "stream": "stdout",
       "text": [
        "\n",
        "gdal_translate -projwin 88.52422981178086 34.55429079909459 92.8717004969717 30.61636445381305 D:\\MODIS_NDVI\\2012\\CN_2012_NDVI_recon.306.tif D:\\Downloads\\Mattijn@Song//CN_2012_NDVI_recon.306.tif"
       ]
      },
      {
       "output_type": "stream",
       "stream": "stdout",
       "text": [
        "\n",
        "gdal_translate -projwin 88.52422981178086 34.55429079909459 92.8717004969717 30.61636445381305 D:\\MODIS_NDVI\\2012\\CN_2012_NDVI_recon.307.tif D:\\Downloads\\Mattijn@Song//CN_2012_NDVI_recon.307.tif"
       ]
      },
      {
       "output_type": "stream",
       "stream": "stdout",
       "text": [
        "\n",
        "gdal_translate -projwin 88.52422981178086 34.55429079909459 92.8717004969717 30.61636445381305 D:\\MODIS_NDVI\\2012\\CN_2012_NDVI_recon.308.tif D:\\Downloads\\Mattijn@Song//CN_2012_NDVI_recon.308.tif"
       ]
      },
      {
       "output_type": "stream",
       "stream": "stdout",
       "text": [
        "\n",
        "gdal_translate -projwin 88.52422981178086 34.55429079909459 92.8717004969717 30.61636445381305 D:\\MODIS_NDVI\\2012\\CN_2012_NDVI_recon.309.tif D:\\Downloads\\Mattijn@Song//CN_2012_NDVI_recon.309.tif"
       ]
      },
      {
       "output_type": "stream",
       "stream": "stdout",
       "text": [
        "\n",
        "gdal_translate -projwin 88.52422981178086 34.55429079909459 92.8717004969717 30.61636445381305 D:\\MODIS_NDVI\\2012\\CN_2012_NDVI_recon.310.tif D:\\Downloads\\Mattijn@Song//CN_2012_NDVI_recon.310.tif"
       ]
      },
      {
       "output_type": "stream",
       "stream": "stdout",
       "text": [
        "\n",
        "gdal_translate -projwin 88.52422981178086 34.55429079909459 92.8717004969717 30.61636445381305 D:\\MODIS_NDVI\\2012\\CN_2012_NDVI_recon.311.tif D:\\Downloads\\Mattijn@Song//CN_2012_NDVI_recon.311.tif"
       ]
      },
      {
       "output_type": "stream",
       "stream": "stdout",
       "text": [
        "\n",
        "gdal_translate -projwin 88.52422981178086 34.55429079909459 92.8717004969717 30.61636445381305 D:\\MODIS_NDVI\\2012\\CN_2012_NDVI_recon.312.tif D:\\Downloads\\Mattijn@Song//CN_2012_NDVI_recon.312.tif"
       ]
      },
      {
       "output_type": "stream",
       "stream": "stdout",
       "text": [
        "\n",
        "gdal_translate -projwin 88.52422981178086 34.55429079909459 92.8717004969717 30.61636445381305 D:\\MODIS_NDVI\\2012\\CN_2012_NDVI_recon.313.tif D:\\Downloads\\Mattijn@Song//CN_2012_NDVI_recon.313.tif"
       ]
      },
      {
       "output_type": "stream",
       "stream": "stdout",
       "text": [
        "\n",
        "gdal_translate -projwin 88.52422981178086 34.55429079909459 92.8717004969717 30.61636445381305 D:\\MODIS_NDVI\\2012\\CN_2012_NDVI_recon.314.tif D:\\Downloads\\Mattijn@Song//CN_2012_NDVI_recon.314.tif"
       ]
      },
      {
       "output_type": "stream",
       "stream": "stdout",
       "text": [
        "\n",
        "gdal_translate -projwin 88.52422981178086 34.55429079909459 92.8717004969717 30.61636445381305 D:\\MODIS_NDVI\\2012\\CN_2012_NDVI_recon.315.tif D:\\Downloads\\Mattijn@Song//CN_2012_NDVI_recon.315.tif"
       ]
      },
      {
       "output_type": "stream",
       "stream": "stdout",
       "text": [
        "\n",
        "gdal_translate -projwin 88.52422981178086 34.55429079909459 92.8717004969717 30.61636445381305 D:\\MODIS_NDVI\\2012\\CN_2012_NDVI_recon.316.tif D:\\Downloads\\Mattijn@Song//CN_2012_NDVI_recon.316.tif"
       ]
      },
      {
       "output_type": "stream",
       "stream": "stdout",
       "text": [
        "\n",
        "gdal_translate -projwin 88.52422981178086 34.55429079909459 92.8717004969717 30.61636445381305 D:\\MODIS_NDVI\\2012\\CN_2012_NDVI_recon.317.tif D:\\Downloads\\Mattijn@Song//CN_2012_NDVI_recon.317.tif"
       ]
      },
      {
       "output_type": "stream",
       "stream": "stdout",
       "text": [
        "\n",
        "gdal_translate -projwin 88.52422981178086 34.55429079909459 92.8717004969717 30.61636445381305 D:\\MODIS_NDVI\\2012\\CN_2012_NDVI_recon.318.tif D:\\Downloads\\Mattijn@Song//CN_2012_NDVI_recon.318.tif"
       ]
      },
      {
       "output_type": "stream",
       "stream": "stdout",
       "text": [
        "\n",
        "gdal_translate -projwin 88.52422981178086 34.55429079909459 92.8717004969717 30.61636445381305 D:\\MODIS_NDVI\\2012\\CN_2012_NDVI_recon.319.tif D:\\Downloads\\Mattijn@Song//CN_2012_NDVI_recon.319.tif"
       ]
      },
      {
       "output_type": "stream",
       "stream": "stdout",
       "text": [
        "\n",
        "gdal_translate -projwin 88.52422981178086 34.55429079909459 92.8717004969717 30.61636445381305 D:\\MODIS_NDVI\\2012\\CN_2012_NDVI_recon.320.tif D:\\Downloads\\Mattijn@Song//CN_2012_NDVI_recon.320.tif"
       ]
      },
      {
       "output_type": "stream",
       "stream": "stdout",
       "text": [
        "\n",
        "gdal_translate -projwin 88.52422981178086 34.55429079909459 92.8717004969717 30.61636445381305 D:\\MODIS_NDVI\\2012\\CN_2012_NDVI_recon.321.tif D:\\Downloads\\Mattijn@Song//CN_2012_NDVI_recon.321.tif"
       ]
      },
      {
       "output_type": "stream",
       "stream": "stdout",
       "text": [
        "\n",
        "gdal_translate -projwin 88.52422981178086 34.55429079909459 92.8717004969717 30.61636445381305 D:\\MODIS_NDVI\\2012\\CN_2012_NDVI_recon.322.tif D:\\Downloads\\Mattijn@Song//CN_2012_NDVI_recon.322.tif"
       ]
      },
      {
       "output_type": "stream",
       "stream": "stdout",
       "text": [
        "\n",
        "gdal_translate -projwin 88.52422981178086 34.55429079909459 92.8717004969717 30.61636445381305 D:\\MODIS_NDVI\\2012\\CN_2012_NDVI_recon.323.tif D:\\Downloads\\Mattijn@Song//CN_2012_NDVI_recon.323.tif"
       ]
      },
      {
       "output_type": "stream",
       "stream": "stdout",
       "text": [
        "\n",
        "gdal_translate -projwin 88.52422981178086 34.55429079909459 92.8717004969717 30.61636445381305 D:\\MODIS_NDVI\\2012\\CN_2012_NDVI_recon.324.tif D:\\Downloads\\Mattijn@Song//CN_2012_NDVI_recon.324.tif"
       ]
      },
      {
       "output_type": "stream",
       "stream": "stdout",
       "text": [
        "\n",
        "gdal_translate -projwin 88.52422981178086 34.55429079909459 92.8717004969717 30.61636445381305 D:\\MODIS_NDVI\\2012\\CN_2012_NDVI_recon.325.tif D:\\Downloads\\Mattijn@Song//CN_2012_NDVI_recon.325.tif"
       ]
      },
      {
       "output_type": "stream",
       "stream": "stdout",
       "text": [
        "\n",
        "gdal_translate -projwin 88.52422981178086 34.55429079909459 92.8717004969717 30.61636445381305 D:\\MODIS_NDVI\\2012\\CN_2012_NDVI_recon.326.tif D:\\Downloads\\Mattijn@Song//CN_2012_NDVI_recon.326.tif"
       ]
      },
      {
       "output_type": "stream",
       "stream": "stdout",
       "text": [
        "\n",
        "gdal_translate -projwin 88.52422981178086 34.55429079909459 92.8717004969717 30.61636445381305 D:\\MODIS_NDVI\\2012\\CN_2012_NDVI_recon.327.tif D:\\Downloads\\Mattijn@Song//CN_2012_NDVI_recon.327.tif"
       ]
      },
      {
       "output_type": "stream",
       "stream": "stdout",
       "text": [
        "\n",
        "gdal_translate -projwin 88.52422981178086 34.55429079909459 92.8717004969717 30.61636445381305 D:\\MODIS_NDVI\\2012\\CN_2012_NDVI_recon.328.tif D:\\Downloads\\Mattijn@Song//CN_2012_NDVI_recon.328.tif"
       ]
      },
      {
       "output_type": "stream",
       "stream": "stdout",
       "text": [
        "\n",
        "gdal_translate -projwin 88.52422981178086 34.55429079909459 92.8717004969717 30.61636445381305 D:\\MODIS_NDVI\\2012\\CN_2012_NDVI_recon.329.tif D:\\Downloads\\Mattijn@Song//CN_2012_NDVI_recon.329.tif"
       ]
      },
      {
       "output_type": "stream",
       "stream": "stdout",
       "text": [
        "\n",
        "gdal_translate -projwin 88.52422981178086 34.55429079909459 92.8717004969717 30.61636445381305 D:\\MODIS_NDVI\\2012\\CN_2012_NDVI_recon.330.tif D:\\Downloads\\Mattijn@Song//CN_2012_NDVI_recon.330.tif"
       ]
      },
      {
       "output_type": "stream",
       "stream": "stdout",
       "text": [
        "\n",
        "gdal_translate -projwin 88.52422981178086 34.55429079909459 92.8717004969717 30.61636445381305 D:\\MODIS_NDVI\\2012\\CN_2012_NDVI_recon.331.tif D:\\Downloads\\Mattijn@Song//CN_2012_NDVI_recon.331.tif"
       ]
      },
      {
       "output_type": "stream",
       "stream": "stdout",
       "text": [
        "\n",
        "gdal_translate -projwin 88.52422981178086 34.55429079909459 92.8717004969717 30.61636445381305 D:\\MODIS_NDVI\\2012\\CN_2012_NDVI_recon.332.tif D:\\Downloads\\Mattijn@Song//CN_2012_NDVI_recon.332.tif"
       ]
      },
      {
       "output_type": "stream",
       "stream": "stdout",
       "text": [
        "\n",
        "gdal_translate -projwin 88.52422981178086 34.55429079909459 92.8717004969717 30.61636445381305 D:\\MODIS_NDVI\\2012\\CN_2012_NDVI_recon.333.tif D:\\Downloads\\Mattijn@Song//CN_2012_NDVI_recon.333.tif"
       ]
      },
      {
       "output_type": "stream",
       "stream": "stdout",
       "text": [
        "\n",
        "gdal_translate -projwin 88.52422981178086 34.55429079909459 92.8717004969717 30.61636445381305 D:\\MODIS_NDVI\\2012\\CN_2012_NDVI_recon.334.tif D:\\Downloads\\Mattijn@Song//CN_2012_NDVI_recon.334.tif"
       ]
      },
      {
       "output_type": "stream",
       "stream": "stdout",
       "text": [
        "\n",
        "gdal_translate -projwin 88.52422981178086 34.55429079909459 92.8717004969717 30.61636445381305 D:\\MODIS_NDVI\\2012\\CN_2012_NDVI_recon.335.tif D:\\Downloads\\Mattijn@Song//CN_2012_NDVI_recon.335.tif"
       ]
      },
      {
       "output_type": "stream",
       "stream": "stdout",
       "text": [
        "\n",
        "gdal_translate -projwin 88.52422981178086 34.55429079909459 92.8717004969717 30.61636445381305 D:\\MODIS_NDVI\\2012\\CN_2012_NDVI_recon.336.tif D:\\Downloads\\Mattijn@Song//CN_2012_NDVI_recon.336.tif"
       ]
      },
      {
       "output_type": "stream",
       "stream": "stdout",
       "text": [
        "\n",
        "gdal_translate -projwin 88.52422981178086 34.55429079909459 92.8717004969717 30.61636445381305 D:\\MODIS_NDVI\\2012\\CN_2012_NDVI_recon.337.tif D:\\Downloads\\Mattijn@Song//CN_2012_NDVI_recon.337.tif"
       ]
      },
      {
       "output_type": "stream",
       "stream": "stdout",
       "text": [
        "\n",
        "gdal_translate -projwin 88.52422981178086 34.55429079909459 92.8717004969717 30.61636445381305 D:\\MODIS_NDVI\\2012\\CN_2012_NDVI_recon.338.tif D:\\Downloads\\Mattijn@Song//CN_2012_NDVI_recon.338.tif"
       ]
      },
      {
       "output_type": "stream",
       "stream": "stdout",
       "text": [
        "\n",
        "gdal_translate -projwin 88.52422981178086 34.55429079909459 92.8717004969717 30.61636445381305 D:\\MODIS_NDVI\\2012\\CN_2012_NDVI_recon.339.tif D:\\Downloads\\Mattijn@Song//CN_2012_NDVI_recon.339.tif"
       ]
      },
      {
       "output_type": "stream",
       "stream": "stdout",
       "text": [
        "\n",
        "gdal_translate -projwin 88.52422981178086 34.55429079909459 92.8717004969717 30.61636445381305 D:\\MODIS_NDVI\\2012\\CN_2012_NDVI_recon.340.tif D:\\Downloads\\Mattijn@Song//CN_2012_NDVI_recon.340.tif"
       ]
      },
      {
       "output_type": "stream",
       "stream": "stdout",
       "text": [
        "\n",
        "gdal_translate -projwin 88.52422981178086 34.55429079909459 92.8717004969717 30.61636445381305 D:\\MODIS_NDVI\\2012\\CN_2012_NDVI_recon.341.tif D:\\Downloads\\Mattijn@Song//CN_2012_NDVI_recon.341.tif"
       ]
      },
      {
       "output_type": "stream",
       "stream": "stdout",
       "text": [
        "\n",
        "gdal_translate -projwin 88.52422981178086 34.55429079909459 92.8717004969717 30.61636445381305 D:\\MODIS_NDVI\\2012\\CN_2012_NDVI_recon.342.tif D:\\Downloads\\Mattijn@Song//CN_2012_NDVI_recon.342.tif"
       ]
      },
      {
       "output_type": "stream",
       "stream": "stdout",
       "text": [
        "\n",
        "gdal_translate -projwin 88.52422981178086 34.55429079909459 92.8717004969717 30.61636445381305 D:\\MODIS_NDVI\\2012\\CN_2012_NDVI_recon.343.tif D:\\Downloads\\Mattijn@Song//CN_2012_NDVI_recon.343.tif"
       ]
      },
      {
       "output_type": "stream",
       "stream": "stdout",
       "text": [
        "\n",
        "gdal_translate -projwin 88.52422981178086 34.55429079909459 92.8717004969717 30.61636445381305 D:\\MODIS_NDVI\\2012\\CN_2012_NDVI_recon.344.tif D:\\Downloads\\Mattijn@Song//CN_2012_NDVI_recon.344.tif"
       ]
      },
      {
       "output_type": "stream",
       "stream": "stdout",
       "text": [
        "\n",
        "gdal_translate -projwin 88.52422981178086 34.55429079909459 92.8717004969717 30.61636445381305 D:\\MODIS_NDVI\\2012\\CN_2012_NDVI_recon.345.tif D:\\Downloads\\Mattijn@Song//CN_2012_NDVI_recon.345.tif"
       ]
      },
      {
       "output_type": "stream",
       "stream": "stdout",
       "text": [
        "\n",
        "gdal_translate -projwin 88.52422981178086 34.55429079909459 92.8717004969717 30.61636445381305 D:\\MODIS_NDVI\\2012\\CN_2012_NDVI_recon.346.tif D:\\Downloads\\Mattijn@Song//CN_2012_NDVI_recon.346.tif"
       ]
      },
      {
       "output_type": "stream",
       "stream": "stdout",
       "text": [
        "\n",
        "gdal_translate -projwin 88.52422981178086 34.55429079909459 92.8717004969717 30.61636445381305 D:\\MODIS_NDVI\\2012\\CN_2012_NDVI_recon.347.tif D:\\Downloads\\Mattijn@Song//CN_2012_NDVI_recon.347.tif"
       ]
      },
      {
       "output_type": "stream",
       "stream": "stdout",
       "text": [
        "\n",
        "gdal_translate -projwin 88.52422981178086 34.55429079909459 92.8717004969717 30.61636445381305 D:\\MODIS_NDVI\\2012\\CN_2012_NDVI_recon.348.tif D:\\Downloads\\Mattijn@Song//CN_2012_NDVI_recon.348.tif"
       ]
      },
      {
       "output_type": "stream",
       "stream": "stdout",
       "text": [
        "\n",
        "gdal_translate -projwin 88.52422981178086 34.55429079909459 92.8717004969717 30.61636445381305 D:\\MODIS_NDVI\\2012\\CN_2012_NDVI_recon.349.tif D:\\Downloads\\Mattijn@Song//CN_2012_NDVI_recon.349.tif"
       ]
      },
      {
       "output_type": "stream",
       "stream": "stdout",
       "text": [
        "\n",
        "gdal_translate -projwin 88.52422981178086 34.55429079909459 92.8717004969717 30.61636445381305 D:\\MODIS_NDVI\\2012\\CN_2012_NDVI_recon.350.tif D:\\Downloads\\Mattijn@Song//CN_2012_NDVI_recon.350.tif"
       ]
      },
      {
       "output_type": "stream",
       "stream": "stdout",
       "text": [
        "\n",
        "gdal_translate -projwin 88.52422981178086 34.55429079909459 92.8717004969717 30.61636445381305 D:\\MODIS_NDVI\\2012\\CN_2012_NDVI_recon.351.tif D:\\Downloads\\Mattijn@Song//CN_2012_NDVI_recon.351.tif"
       ]
      },
      {
       "output_type": "stream",
       "stream": "stdout",
       "text": [
        "\n",
        "gdal_translate -projwin 88.52422981178086 34.55429079909459 92.8717004969717 30.61636445381305 D:\\MODIS_NDVI\\2012\\CN_2012_NDVI_recon.352.tif D:\\Downloads\\Mattijn@Song//CN_2012_NDVI_recon.352.tif"
       ]
      },
      {
       "output_type": "stream",
       "stream": "stdout",
       "text": [
        "\n",
        "gdal_translate -projwin 88.52422981178086 34.55429079909459 92.8717004969717 30.61636445381305 D:\\MODIS_NDVI\\2012\\CN_2012_NDVI_recon.353.tif D:\\Downloads\\Mattijn@Song//CN_2012_NDVI_recon.353.tif"
       ]
      },
      {
       "output_type": "stream",
       "stream": "stdout",
       "text": [
        "\n",
        "gdal_translate -projwin 88.52422981178086 34.55429079909459 92.8717004969717 30.61636445381305 D:\\MODIS_NDVI\\2012\\CN_2012_NDVI_recon.354.tif D:\\Downloads\\Mattijn@Song//CN_2012_NDVI_recon.354.tif"
       ]
      },
      {
       "output_type": "stream",
       "stream": "stdout",
       "text": [
        "\n",
        "gdal_translate -projwin 88.52422981178086 34.55429079909459 92.8717004969717 30.61636445381305 D:\\MODIS_NDVI\\2012\\CN_2012_NDVI_recon.355.tif D:\\Downloads\\Mattijn@Song//CN_2012_NDVI_recon.355.tif"
       ]
      },
      {
       "output_type": "stream",
       "stream": "stdout",
       "text": [
        "\n",
        "gdal_translate -projwin 88.52422981178086 34.55429079909459 92.8717004969717 30.61636445381305 D:\\MODIS_NDVI\\2012\\CN_2012_NDVI_recon.356.tif D:\\Downloads\\Mattijn@Song//CN_2012_NDVI_recon.356.tif"
       ]
      },
      {
       "output_type": "stream",
       "stream": "stdout",
       "text": [
        "\n",
        "gdal_translate -projwin 88.52422981178086 34.55429079909459 92.8717004969717 30.61636445381305 D:\\MODIS_NDVI\\2012\\CN_2012_NDVI_recon.357.tif D:\\Downloads\\Mattijn@Song//CN_2012_NDVI_recon.357.tif"
       ]
      },
      {
       "output_type": "stream",
       "stream": "stdout",
       "text": [
        "\n",
        "gdal_translate -projwin 88.52422981178086 34.55429079909459 92.8717004969717 30.61636445381305 D:\\MODIS_NDVI\\2012\\CN_2012_NDVI_recon.358.tif D:\\Downloads\\Mattijn@Song//CN_2012_NDVI_recon.358.tif"
       ]
      },
      {
       "output_type": "stream",
       "stream": "stdout",
       "text": [
        "\n",
        "gdal_translate -projwin 88.52422981178086 34.55429079909459 92.8717004969717 30.61636445381305 D:\\MODIS_NDVI\\2012\\CN_2012_NDVI_recon.359.tif D:\\Downloads\\Mattijn@Song//CN_2012_NDVI_recon.359.tif"
       ]
      },
      {
       "output_type": "stream",
       "stream": "stdout",
       "text": [
        "\n",
        "gdal_translate -projwin 88.52422981178086 34.55429079909459 92.8717004969717 30.61636445381305 D:\\MODIS_NDVI\\2012\\CN_2012_NDVI_recon.360.tif D:\\Downloads\\Mattijn@Song//CN_2012_NDVI_recon.360.tif"
       ]
      },
      {
       "output_type": "stream",
       "stream": "stdout",
       "text": [
        "\n",
        "gdal_translate -projwin 88.52422981178086 34.55429079909459 92.8717004969717 30.61636445381305 D:\\MODIS_NDVI\\2012\\CN_2012_NDVI_recon.361.tif D:\\Downloads\\Mattijn@Song//CN_2012_NDVI_recon.361.tif"
       ]
      },
      {
       "output_type": "stream",
       "stream": "stdout",
       "text": [
        "\n",
        "gdal_translate -projwin 88.52422981178086 34.55429079909459 92.8717004969717 30.61636445381305 D:\\MODIS_NDVI\\2012\\CN_2012_NDVI_recon.362.tif D:\\Downloads\\Mattijn@Song//CN_2012_NDVI_recon.362.tif"
       ]
      },
      {
       "output_type": "stream",
       "stream": "stdout",
       "text": [
        "\n",
        "gdal_translate -projwin 88.52422981178086 34.55429079909459 92.8717004969717 30.61636445381305 D:\\MODIS_NDVI\\2012\\CN_2012_NDVI_recon.363.tif D:\\Downloads\\Mattijn@Song//CN_2012_NDVI_recon.363.tif"
       ]
      },
      {
       "output_type": "stream",
       "stream": "stdout",
       "text": [
        "\n",
        "gdal_translate -projwin 88.52422981178086 34.55429079909459 92.8717004969717 30.61636445381305 D:\\MODIS_NDVI\\2012\\CN_2012_NDVI_recon.364.tif D:\\Downloads\\Mattijn@Song//CN_2012_NDVI_recon.364.tif"
       ]
      },
      {
       "output_type": "stream",
       "stream": "stdout",
       "text": [
        "\n",
        "gdal_translate -projwin 88.52422981178086 34.55429079909459 92.8717004969717 30.61636445381305 D:\\MODIS_NDVI\\2012\\CN_2012_NDVI_recon.365.tif D:\\Downloads\\Mattijn@Song//CN_2012_NDVI_recon.365.tif"
       ]
      },
      {
       "output_type": "stream",
       "stream": "stdout",
       "text": [
        "\n"
       ]
      }
     ],
     "prompt_number": 33
    },
    {
     "cell_type": "code",
     "collapsed": false,
     "input": [
      "print ('test')"
     ],
     "language": "python",
     "metadata": {},
     "outputs": [
      {
       "output_type": "stream",
       "stream": "stdout",
       "text": [
        "test\n"
       ]
      }
     ],
     "prompt_number": 8
    },
    {
     "cell_type": "code",
     "collapsed": false,
     "input": [],
     "language": "python",
     "metadata": {},
     "outputs": []
    },
    {
     "cell_type": "code",
     "collapsed": false,
     "input": [],
     "language": "python",
     "metadata": {},
     "outputs": [],
     "prompt_number": 8
    },
    {
     "cell_type": "code",
     "collapsed": false,
     "input": [],
     "language": "python",
     "metadata": {},
     "outputs": []
    },
    {
     "cell_type": "code",
     "collapsed": false,
     "input": [],
     "language": "python",
     "metadata": {},
     "outputs": [],
     "prompt_number": 4
    }
   ],
   "metadata": {}
  }
 ]
}