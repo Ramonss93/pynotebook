{
 "metadata": {
  "name": ""
 },
 "nbformat": 3,
 "nbformat_minor": 0,
 "worksheets": [
  {
   "cells": [
    {
     "cell_type": "code",
     "collapsed": false,
     "input": [
      "import os\n",
      "from osgeo import gdal, gdalconst"
     ],
     "language": "python",
     "metadata": {},
     "outputs": [],
     "prompt_number": 1
    },
    {
     "cell_type": "code",
     "collapsed": false,
     "input": [
      "from mattijn import dikkelul"
     ],
     "language": "python",
     "metadata": {},
     "outputs": [],
     "prompt_number": 2
    },
    {
     "cell_type": "code",
     "collapsed": false,
     "input": [
      "dikkelul."
     ],
     "language": "python",
     "metadata": {},
     "outputs": []
    },
    {
     "cell_type": "code",
     "collapsed": false,
     "input": [
      "def reproject(baseRaster, pathIn, pathOut):\n",
      "    \"\"\"\n",
      "    baseRaster = raster from which to get projection and geotransform info\n",
      "    pathIn     = raster to reproject, resample and clip\n",
      "    pathOut    = output raster path    \n",
      "    \"\"\"\n",
      "    # step 1 Open raster that we want to project and resample\n",
      "    src_filename = pathIn\n",
      "    src = gdal.Open(src_filename, gdalconst.GA_ReadOnly)\n",
      "    src_proj = src.GetProjection()\n",
      "    src_geotrans = src.GetGeoTransform()\n",
      "    \n",
      "    # step 2 Open raster from which to get projection and geotransform, will be used for output file\n",
      "    match_filename = baseRaster\n",
      "    match_ds = gdal.Open(match_filename, gdalconst.GA_ReadOnly)\n",
      "    match_proj = match_ds.GetProjection()\n",
      "    match_geotrans = match_ds.GetGeoTransform()\n",
      "    wide = match_ds.RasterXSize\n",
      "    high = match_ds.RasterYSize\n",
      "    \n",
      "    # step 3 Output / destination save to tiff using \n",
      "    dst_filename = pathOut\n",
      "    dst = gdal.GetDriverByName('GTiff').Create(dst_filename, wide, high, 1, gdalconst.GDT_Float32)\n",
      "    dst.SetGeoTransform( match_geotrans )\n",
      "    dst.SetProjection( match_proj)\n",
      "    \n",
      "    # step 4 Do the work\n",
      "    gdal.ReprojectImage(src, dst, src_proj, match_proj, gdalconst.GRA_Bilinear)\n",
      "    \n",
      "    del dst # Flush"
     ],
     "language": "python",
     "metadata": {},
     "outputs": [],
     "prompt_number": 47
    },
    {
     "cell_type": "code",
     "collapsed": false,
     "input": [],
     "language": "python",
     "metadata": {},
     "outputs": [],
     "prompt_number": 42
    },
    {
     "cell_type": "code",
     "collapsed": false,
     "input": [
      "path = r'E:\\Data\\WangKun@Mattijn\\outfolder\\2011\\NEWsrad_merge'\n",
      "folderOut = r'E:\\Data\\WangKun@Mattijn\\outfolder\\2011_merge\\outtest//'\n",
      "baseRaster = r'H:\\Data\\mattijn@hu\\NEWsrad_2011_0.05dd//srad20110101.tif' \n",
      "files = dikkelul.FilesFolder(path, format_end='.tif')\n",
      "\n",
      "print ('baseraster\\n',baseRaster)\n",
      "for pathIn in files:    \n",
      "    \n",
      "    print ('pathin\\n',pathIn)\n",
      "    outFile = pathIn[-16::]\n",
      "    pathOut = folderOut+outFile\n",
      "    \n",
      "    dikkelul.reproject(baseRaster, pathIn, pathOut)\n",
      "    \n",
      "    print ('pathout\\n',pathOut)\n"
     ],
     "language": "python",
     "metadata": {},
     "outputs": [
      {
       "output_type": "stream",
       "stream": "stdout",
       "text": [
        "baseraster\n",
        " H:\\Data\\mattijn@hu\\NEWsrad_2011_0.05dd//srad20110101.tif\n",
        "pathin\n",
        " E:\\Data\\WangKun@Mattijn\\outfolder\\2011\\NEWsrad_merge\\srad20110101.tif\n",
        "pathout\n"
       ]
      },
      {
       "output_type": "stream",
       "stream": "stdout",
       "text": [
        " E:\\Data\\WangKun@Mattijn\\outfolder\\2011_merge\\outtest//srad20110101.tif\n",
        "pathin\n",
        " E:\\Data\\WangKun@Mattijn\\outfolder\\2011\\NEWsrad_merge\\srad20110102.tif\n",
        "pathout\n"
       ]
      },
      {
       "output_type": "stream",
       "stream": "stdout",
       "text": [
        " E:\\Data\\WangKun@Mattijn\\outfolder\\2011_merge\\outtest//srad20110102.tif\n",
        "pathin\n",
        " E:\\Data\\WangKun@Mattijn\\outfolder\\2011\\NEWsrad_merge\\srad20110103.tif\n",
        "pathout\n"
       ]
      },
      {
       "output_type": "stream",
       "stream": "stdout",
       "text": [
        " E:\\Data\\WangKun@Mattijn\\outfolder\\2011_merge\\outtest//srad20110103.tif\n",
        "pathin\n",
        " E:\\Data\\WangKun@Mattijn\\outfolder\\2011\\NEWsrad_merge\\srad20110104.tif\n",
        "pathout\n"
       ]
      },
      {
       "output_type": "stream",
       "stream": "stdout",
       "text": [
        " E:\\Data\\WangKun@Mattijn\\outfolder\\2011_merge\\outtest//srad20110104.tif\n",
        "pathin\n",
        " E:\\Data\\WangKun@Mattijn\\outfolder\\2011\\NEWsrad_merge\\srad20110105.tif\n",
        "pathout\n"
       ]
      },
      {
       "output_type": "stream",
       "stream": "stdout",
       "text": [
        " E:\\Data\\WangKun@Mattijn\\outfolder\\2011_merge\\outtest//srad20110105.tif\n",
        "pathin\n",
        " E:\\Data\\WangKun@Mattijn\\outfolder\\2011\\NEWsrad_merge\\srad20110106.tif\n",
        "pathout\n"
       ]
      },
      {
       "output_type": "stream",
       "stream": "stdout",
       "text": [
        " E:\\Data\\WangKun@Mattijn\\outfolder\\2011_merge\\outtest//srad20110106.tif\n",
        "pathin\n",
        " E:\\Data\\WangKun@Mattijn\\outfolder\\2011\\NEWsrad_merge\\srad20110107.tif\n",
        "pathout\n"
       ]
      },
      {
       "output_type": "stream",
       "stream": "stdout",
       "text": [
        " E:\\Data\\WangKun@Mattijn\\outfolder\\2011_merge\\outtest//srad20110107.tif\n",
        "pathin\n",
        " E:\\Data\\WangKun@Mattijn\\outfolder\\2011\\NEWsrad_merge\\srad20110108.tif\n",
        "pathout\n"
       ]
      },
      {
       "output_type": "stream",
       "stream": "stdout",
       "text": [
        " E:\\Data\\WangKun@Mattijn\\outfolder\\2011_merge\\outtest//srad20110108.tif\n",
        "pathin\n",
        " E:\\Data\\WangKun@Mattijn\\outfolder\\2011\\NEWsrad_merge\\srad20110109.tif\n",
        "pathout\n"
       ]
      },
      {
       "output_type": "stream",
       "stream": "stdout",
       "text": [
        " E:\\Data\\WangKun@Mattijn\\outfolder\\2011_merge\\outtest//srad20110109.tif\n",
        "pathin\n",
        " E:\\Data\\WangKun@Mattijn\\outfolder\\2011\\NEWsrad_merge\\srad20110110.tif\n",
        "pathout\n"
       ]
      },
      {
       "output_type": "stream",
       "stream": "stdout",
       "text": [
        " E:\\Data\\WangKun@Mattijn\\outfolder\\2011_merge\\outtest//srad20110110.tif\n",
        "pathin\n",
        " E:\\Data\\WangKun@Mattijn\\outfolder\\2011\\NEWsrad_merge\\srad20110111.tif\n",
        "pathout\n"
       ]
      },
      {
       "output_type": "stream",
       "stream": "stdout",
       "text": [
        " E:\\Data\\WangKun@Mattijn\\outfolder\\2011_merge\\outtest//srad20110111.tif\n",
        "pathin\n",
        " E:\\Data\\WangKun@Mattijn\\outfolder\\2011\\NEWsrad_merge\\srad20110112.tif\n",
        "pathout\n"
       ]
      },
      {
       "output_type": "stream",
       "stream": "stdout",
       "text": [
        " E:\\Data\\WangKun@Mattijn\\outfolder\\2011_merge\\outtest//srad20110112.tif\n",
        "pathin\n",
        " E:\\Data\\WangKun@Mattijn\\outfolder\\2011\\NEWsrad_merge\\srad20110113.tif\n",
        "pathout\n"
       ]
      },
      {
       "output_type": "stream",
       "stream": "stdout",
       "text": [
        " E:\\Data\\WangKun@Mattijn\\outfolder\\2011_merge\\outtest//srad20110113.tif\n",
        "pathin\n",
        " E:\\Data\\WangKun@Mattijn\\outfolder\\2011\\NEWsrad_merge\\srad20110114.tif\n",
        "pathout\n"
       ]
      },
      {
       "output_type": "stream",
       "stream": "stdout",
       "text": [
        " E:\\Data\\WangKun@Mattijn\\outfolder\\2011_merge\\outtest//srad20110114.tif\n",
        "pathin\n",
        " E:\\Data\\WangKun@Mattijn\\outfolder\\2011\\NEWsrad_merge\\srad20110115.tif\n",
        "pathout\n"
       ]
      },
      {
       "output_type": "stream",
       "stream": "stdout",
       "text": [
        " E:\\Data\\WangKun@Mattijn\\outfolder\\2011_merge\\outtest//srad20110115.tif\n",
        "pathin\n",
        " E:\\Data\\WangKun@Mattijn\\outfolder\\2011\\NEWsrad_merge\\srad20110116.tif\n",
        "pathout\n"
       ]
      },
      {
       "output_type": "stream",
       "stream": "stdout",
       "text": [
        " E:\\Data\\WangKun@Mattijn\\outfolder\\2011_merge\\outtest//srad20110116.tif\n",
        "pathin\n",
        " E:\\Data\\WangKun@Mattijn\\outfolder\\2011\\NEWsrad_merge\\srad20110117.tif\n",
        "pathout\n"
       ]
      },
      {
       "output_type": "stream",
       "stream": "stdout",
       "text": [
        " E:\\Data\\WangKun@Mattijn\\outfolder\\2011_merge\\outtest//srad20110117.tif\n",
        "pathin\n",
        " E:\\Data\\WangKun@Mattijn\\outfolder\\2011\\NEWsrad_merge\\srad20110118.tif\n",
        "pathout\n"
       ]
      },
      {
       "output_type": "stream",
       "stream": "stdout",
       "text": [
        " E:\\Data\\WangKun@Mattijn\\outfolder\\2011_merge\\outtest//srad20110118.tif\n",
        "pathin\n",
        " E:\\Data\\WangKun@Mattijn\\outfolder\\2011\\NEWsrad_merge\\srad20110119.tif\n",
        "pathout\n"
       ]
      },
      {
       "output_type": "stream",
       "stream": "stdout",
       "text": [
        " E:\\Data\\WangKun@Mattijn\\outfolder\\2011_merge\\outtest//srad20110119.tif\n",
        "pathin\n",
        " E:\\Data\\WangKun@Mattijn\\outfolder\\2011\\NEWsrad_merge\\srad20110120.tif\n",
        "pathout\n"
       ]
      },
      {
       "output_type": "stream",
       "stream": "stdout",
       "text": [
        " E:\\Data\\WangKun@Mattijn\\outfolder\\2011_merge\\outtest//srad20110120.tif\n",
        "pathin\n",
        " E:\\Data\\WangKun@Mattijn\\outfolder\\2011\\NEWsrad_merge\\srad20110121.tif\n",
        "pathout\n"
       ]
      },
      {
       "output_type": "stream",
       "stream": "stdout",
       "text": [
        " E:\\Data\\WangKun@Mattijn\\outfolder\\2011_merge\\outtest//srad20110121.tif\n",
        "pathin\n",
        " E:\\Data\\WangKun@Mattijn\\outfolder\\2011\\NEWsrad_merge\\srad20110122.tif\n",
        "pathout\n"
       ]
      },
      {
       "output_type": "stream",
       "stream": "stdout",
       "text": [
        " E:\\Data\\WangKun@Mattijn\\outfolder\\2011_merge\\outtest//srad20110122.tif\n",
        "pathin\n",
        " E:\\Data\\WangKun@Mattijn\\outfolder\\2011\\NEWsrad_merge\\srad20110123.tif\n",
        "pathout\n"
       ]
      },
      {
       "output_type": "stream",
       "stream": "stdout",
       "text": [
        " E:\\Data\\WangKun@Mattijn\\outfolder\\2011_merge\\outtest//srad20110123.tif\n",
        "pathin\n",
        " E:\\Data\\WangKun@Mattijn\\outfolder\\2011\\NEWsrad_merge\\srad20110124.tif\n",
        "pathout\n"
       ]
      },
      {
       "output_type": "stream",
       "stream": "stdout",
       "text": [
        " E:\\Data\\WangKun@Mattijn\\outfolder\\2011_merge\\outtest//srad20110124.tif\n",
        "pathin\n",
        " E:\\Data\\WangKun@Mattijn\\outfolder\\2011\\NEWsrad_merge\\srad20110125.tif\n",
        "pathout\n"
       ]
      },
      {
       "output_type": "stream",
       "stream": "stdout",
       "text": [
        " E:\\Data\\WangKun@Mattijn\\outfolder\\2011_merge\\outtest//srad20110125.tif\n",
        "pathin\n",
        " E:\\Data\\WangKun@Mattijn\\outfolder\\2011\\NEWsrad_merge\\srad20110126.tif\n",
        "pathout\n"
       ]
      },
      {
       "output_type": "stream",
       "stream": "stdout",
       "text": [
        " E:\\Data\\WangKun@Mattijn\\outfolder\\2011_merge\\outtest//srad20110126.tif\n",
        "pathin\n",
        " E:\\Data\\WangKun@Mattijn\\outfolder\\2011\\NEWsrad_merge\\srad20110127.tif\n",
        "pathout\n"
       ]
      },
      {
       "output_type": "stream",
       "stream": "stdout",
       "text": [
        " E:\\Data\\WangKun@Mattijn\\outfolder\\2011_merge\\outtest//srad20110127.tif\n",
        "pathin\n",
        " E:\\Data\\WangKun@Mattijn\\outfolder\\2011\\NEWsrad_merge\\srad20110128.tif\n",
        "pathout\n"
       ]
      },
      {
       "output_type": "stream",
       "stream": "stdout",
       "text": [
        " E:\\Data\\WangKun@Mattijn\\outfolder\\2011_merge\\outtest//srad20110128.tif\n",
        "pathin\n",
        " E:\\Data\\WangKun@Mattijn\\outfolder\\2011\\NEWsrad_merge\\srad20110129.tif\n",
        "pathout\n"
       ]
      },
      {
       "output_type": "stream",
       "stream": "stdout",
       "text": [
        " E:\\Data\\WangKun@Mattijn\\outfolder\\2011_merge\\outtest//srad20110129.tif\n",
        "pathin\n",
        " E:\\Data\\WangKun@Mattijn\\outfolder\\2011\\NEWsrad_merge\\srad20110130.tif\n",
        "pathout\n"
       ]
      },
      {
       "output_type": "stream",
       "stream": "stdout",
       "text": [
        " E:\\Data\\WangKun@Mattijn\\outfolder\\2011_merge\\outtest//srad20110130.tif\n",
        "pathin\n",
        " E:\\Data\\WangKun@Mattijn\\outfolder\\2011\\NEWsrad_merge\\srad20110131.tif\n",
        "pathout\n"
       ]
      },
      {
       "output_type": "stream",
       "stream": "stdout",
       "text": [
        " E:\\Data\\WangKun@Mattijn\\outfolder\\2011_merge\\outtest//srad20110131.tif\n",
        "pathin\n",
        " E:\\Data\\WangKun@Mattijn\\outfolder\\2011\\NEWsrad_merge\\srad20110201.tif\n",
        "pathout\n"
       ]
      },
      {
       "output_type": "stream",
       "stream": "stdout",
       "text": [
        " E:\\Data\\WangKun@Mattijn\\outfolder\\2011_merge\\outtest//srad20110201.tif\n",
        "pathin\n",
        " E:\\Data\\WangKun@Mattijn\\outfolder\\2011\\NEWsrad_merge\\srad20110202.tif\n",
        "pathout\n"
       ]
      },
      {
       "output_type": "stream",
       "stream": "stdout",
       "text": [
        " E:\\Data\\WangKun@Mattijn\\outfolder\\2011_merge\\outtest//srad20110202.tif\n",
        "pathin\n",
        " E:\\Data\\WangKun@Mattijn\\outfolder\\2011\\NEWsrad_merge\\srad20110203.tif\n",
        "pathout\n"
       ]
      },
      {
       "output_type": "stream",
       "stream": "stdout",
       "text": [
        " E:\\Data\\WangKun@Mattijn\\outfolder\\2011_merge\\outtest//srad20110203.tif\n",
        "pathin\n",
        " E:\\Data\\WangKun@Mattijn\\outfolder\\2011\\NEWsrad_merge\\srad20110204.tif\n",
        "pathout\n"
       ]
      },
      {
       "output_type": "stream",
       "stream": "stdout",
       "text": [
        " E:\\Data\\WangKun@Mattijn\\outfolder\\2011_merge\\outtest//srad20110204.tif\n",
        "pathin\n",
        " E:\\Data\\WangKun@Mattijn\\outfolder\\2011\\NEWsrad_merge\\srad20110205.tif\n",
        "pathout\n"
       ]
      },
      {
       "output_type": "stream",
       "stream": "stdout",
       "text": [
        " E:\\Data\\WangKun@Mattijn\\outfolder\\2011_merge\\outtest//srad20110205.tif\n",
        "pathin\n",
        " E:\\Data\\WangKun@Mattijn\\outfolder\\2011\\NEWsrad_merge\\srad20110206.tif\n",
        "pathout\n"
       ]
      },
      {
       "output_type": "stream",
       "stream": "stdout",
       "text": [
        " E:\\Data\\WangKun@Mattijn\\outfolder\\2011_merge\\outtest//srad20110206.tif\n",
        "pathin\n",
        " E:\\Data\\WangKun@Mattijn\\outfolder\\2011\\NEWsrad_merge\\srad20110207.tif\n",
        "pathout\n"
       ]
      },
      {
       "output_type": "stream",
       "stream": "stdout",
       "text": [
        " E:\\Data\\WangKun@Mattijn\\outfolder\\2011_merge\\outtest//srad20110207.tif\n",
        "pathin\n",
        " E:\\Data\\WangKun@Mattijn\\outfolder\\2011\\NEWsrad_merge\\srad20110208.tif\n",
        "pathout\n"
       ]
      },
      {
       "output_type": "stream",
       "stream": "stdout",
       "text": [
        " E:\\Data\\WangKun@Mattijn\\outfolder\\2011_merge\\outtest//srad20110208.tif\n",
        "pathin\n",
        " E:\\Data\\WangKun@Mattijn\\outfolder\\2011\\NEWsrad_merge\\srad20110209.tif\n",
        "pathout\n"
       ]
      },
      {
       "output_type": "stream",
       "stream": "stdout",
       "text": [
        " E:\\Data\\WangKun@Mattijn\\outfolder\\2011_merge\\outtest//srad20110209.tif\n",
        "pathin\n",
        " E:\\Data\\WangKun@Mattijn\\outfolder\\2011\\NEWsrad_merge\\srad20110210.tif\n",
        "pathout\n"
       ]
      },
      {
       "output_type": "stream",
       "stream": "stdout",
       "text": [
        " E:\\Data\\WangKun@Mattijn\\outfolder\\2011_merge\\outtest//srad20110210.tif\n",
        "pathin\n",
        " E:\\Data\\WangKun@Mattijn\\outfolder\\2011\\NEWsrad_merge\\srad20110211.tif\n",
        "pathout\n"
       ]
      },
      {
       "output_type": "stream",
       "stream": "stdout",
       "text": [
        " E:\\Data\\WangKun@Mattijn\\outfolder\\2011_merge\\outtest//srad20110211.tif\n",
        "pathin\n",
        " E:\\Data\\WangKun@Mattijn\\outfolder\\2011\\NEWsrad_merge\\srad20110212.tif\n",
        "pathout\n"
       ]
      },
      {
       "output_type": "stream",
       "stream": "stdout",
       "text": [
        " E:\\Data\\WangKun@Mattijn\\outfolder\\2011_merge\\outtest//srad20110212.tif\n",
        "pathin\n",
        " E:\\Data\\WangKun@Mattijn\\outfolder\\2011\\NEWsrad_merge\\srad20110213.tif\n",
        "pathout\n"
       ]
      },
      {
       "output_type": "stream",
       "stream": "stdout",
       "text": [
        " E:\\Data\\WangKun@Mattijn\\outfolder\\2011_merge\\outtest//srad20110213.tif\n",
        "pathin\n",
        " E:\\Data\\WangKun@Mattijn\\outfolder\\2011\\NEWsrad_merge\\srad20110214.tif\n",
        "pathout\n"
       ]
      },
      {
       "output_type": "stream",
       "stream": "stdout",
       "text": [
        " E:\\Data\\WangKun@Mattijn\\outfolder\\2011_merge\\outtest//srad20110214.tif\n",
        "pathin\n",
        " E:\\Data\\WangKun@Mattijn\\outfolder\\2011\\NEWsrad_merge\\srad20110215.tif\n",
        "pathout\n"
       ]
      },
      {
       "output_type": "stream",
       "stream": "stdout",
       "text": [
        " E:\\Data\\WangKun@Mattijn\\outfolder\\2011_merge\\outtest//srad20110215.tif\n",
        "pathin\n",
        " E:\\Data\\WangKun@Mattijn\\outfolder\\2011\\NEWsrad_merge\\srad20110216.tif\n",
        "pathout\n"
       ]
      },
      {
       "output_type": "stream",
       "stream": "stdout",
       "text": [
        " E:\\Data\\WangKun@Mattijn\\outfolder\\2011_merge\\outtest//srad20110216.tif\n",
        "pathin\n",
        " E:\\Data\\WangKun@Mattijn\\outfolder\\2011\\NEWsrad_merge\\srad20110217.tif\n",
        "pathout\n"
       ]
      },
      {
       "output_type": "stream",
       "stream": "stdout",
       "text": [
        " E:\\Data\\WangKun@Mattijn\\outfolder\\2011_merge\\outtest//srad20110217.tif\n",
        "pathin\n",
        " E:\\Data\\WangKun@Mattijn\\outfolder\\2011\\NEWsrad_merge\\srad20110218.tif\n",
        "pathout\n"
       ]
      },
      {
       "output_type": "stream",
       "stream": "stdout",
       "text": [
        " E:\\Data\\WangKun@Mattijn\\outfolder\\2011_merge\\outtest//srad20110218.tif\n",
        "pathin\n",
        " E:\\Data\\WangKun@Mattijn\\outfolder\\2011\\NEWsrad_merge\\srad20110219.tif\n",
        "pathout\n"
       ]
      },
      {
       "output_type": "stream",
       "stream": "stdout",
       "text": [
        " E:\\Data\\WangKun@Mattijn\\outfolder\\2011_merge\\outtest//srad20110219.tif\n",
        "pathin\n",
        " E:\\Data\\WangKun@Mattijn\\outfolder\\2011\\NEWsrad_merge\\srad20110220.tif\n",
        "pathout\n"
       ]
      },
      {
       "output_type": "stream",
       "stream": "stdout",
       "text": [
        " E:\\Data\\WangKun@Mattijn\\outfolder\\2011_merge\\outtest//srad20110220.tif\n",
        "pathin\n",
        " E:\\Data\\WangKun@Mattijn\\outfolder\\2011\\NEWsrad_merge\\srad20110221.tif\n",
        "pathout\n"
       ]
      },
      {
       "output_type": "stream",
       "stream": "stdout",
       "text": [
        " E:\\Data\\WangKun@Mattijn\\outfolder\\2011_merge\\outtest//srad20110221.tif\n",
        "pathin\n",
        " E:\\Data\\WangKun@Mattijn\\outfolder\\2011\\NEWsrad_merge\\srad20110222.tif\n",
        "pathout\n"
       ]
      },
      {
       "output_type": "stream",
       "stream": "stdout",
       "text": [
        " E:\\Data\\WangKun@Mattijn\\outfolder\\2011_merge\\outtest//srad20110222.tif\n",
        "pathin\n",
        " E:\\Data\\WangKun@Mattijn\\outfolder\\2011\\NEWsrad_merge\\srad20110223.tif\n",
        "pathout\n"
       ]
      },
      {
       "output_type": "stream",
       "stream": "stdout",
       "text": [
        " E:\\Data\\WangKun@Mattijn\\outfolder\\2011_merge\\outtest//srad20110223.tif\n",
        "pathin\n",
        " E:\\Data\\WangKun@Mattijn\\outfolder\\2011\\NEWsrad_merge\\srad20110224.tif\n",
        "pathout\n"
       ]
      },
      {
       "output_type": "stream",
       "stream": "stdout",
       "text": [
        " E:\\Data\\WangKun@Mattijn\\outfolder\\2011_merge\\outtest//srad20110224.tif\n",
        "pathin\n",
        " E:\\Data\\WangKun@Mattijn\\outfolder\\2011\\NEWsrad_merge\\srad20110225.tif\n",
        "pathout\n"
       ]
      },
      {
       "output_type": "stream",
       "stream": "stdout",
       "text": [
        " E:\\Data\\WangKun@Mattijn\\outfolder\\2011_merge\\outtest//srad20110225.tif\n",
        "pathin\n",
        " E:\\Data\\WangKun@Mattijn\\outfolder\\2011\\NEWsrad_merge\\srad20110226.tif\n",
        "pathout\n"
       ]
      },
      {
       "output_type": "stream",
       "stream": "stdout",
       "text": [
        " E:\\Data\\WangKun@Mattijn\\outfolder\\2011_merge\\outtest//srad20110226.tif\n",
        "pathin\n",
        " E:\\Data\\WangKun@Mattijn\\outfolder\\2011\\NEWsrad_merge\\srad20110227.tif\n",
        "pathout\n"
       ]
      },
      {
       "output_type": "stream",
       "stream": "stdout",
       "text": [
        " E:\\Data\\WangKun@Mattijn\\outfolder\\2011_merge\\outtest//srad20110227.tif\n",
        "pathin\n",
        " E:\\Data\\WangKun@Mattijn\\outfolder\\2011\\NEWsrad_merge\\srad20110228.tif\n",
        "pathout\n"
       ]
      },
      {
       "output_type": "stream",
       "stream": "stdout",
       "text": [
        " E:\\Data\\WangKun@Mattijn\\outfolder\\2011_merge\\outtest//srad20110228.tif\n",
        "pathin\n",
        " E:\\Data\\WangKun@Mattijn\\outfolder\\2011\\NEWsrad_merge\\srad20110301.tif\n",
        "pathout\n"
       ]
      },
      {
       "output_type": "stream",
       "stream": "stdout",
       "text": [
        " E:\\Data\\WangKun@Mattijn\\outfolder\\2011_merge\\outtest//srad20110301.tif\n",
        "pathin\n",
        " E:\\Data\\WangKun@Mattijn\\outfolder\\2011\\NEWsrad_merge\\srad20110302.tif\n",
        "pathout\n"
       ]
      },
      {
       "output_type": "stream",
       "stream": "stdout",
       "text": [
        " E:\\Data\\WangKun@Mattijn\\outfolder\\2011_merge\\outtest//srad20110302.tif\n",
        "pathin\n",
        " E:\\Data\\WangKun@Mattijn\\outfolder\\2011\\NEWsrad_merge\\srad20110303.tif\n",
        "pathout\n"
       ]
      },
      {
       "output_type": "stream",
       "stream": "stdout",
       "text": [
        " E:\\Data\\WangKun@Mattijn\\outfolder\\2011_merge\\outtest//srad20110303.tif\n",
        "pathin\n",
        " E:\\Data\\WangKun@Mattijn\\outfolder\\2011\\NEWsrad_merge\\srad20110304.tif\n",
        "pathout\n"
       ]
      },
      {
       "output_type": "stream",
       "stream": "stdout",
       "text": [
        " E:\\Data\\WangKun@Mattijn\\outfolder\\2011_merge\\outtest//srad20110304.tif\n",
        "pathin\n",
        " E:\\Data\\WangKun@Mattijn\\outfolder\\2011\\NEWsrad_merge\\srad20110305.tif\n",
        "pathout\n"
       ]
      },
      {
       "output_type": "stream",
       "stream": "stdout",
       "text": [
        " E:\\Data\\WangKun@Mattijn\\outfolder\\2011_merge\\outtest//srad20110305.tif\n",
        "pathin\n",
        " E:\\Data\\WangKun@Mattijn\\outfolder\\2011\\NEWsrad_merge\\srad20110306.tif\n",
        "pathout\n"
       ]
      },
      {
       "output_type": "stream",
       "stream": "stdout",
       "text": [
        " E:\\Data\\WangKun@Mattijn\\outfolder\\2011_merge\\outtest//srad20110306.tif\n",
        "pathin\n",
        " E:\\Data\\WangKun@Mattijn\\outfolder\\2011\\NEWsrad_merge\\srad20110307.tif\n",
        "pathout\n"
       ]
      },
      {
       "output_type": "stream",
       "stream": "stdout",
       "text": [
        " E:\\Data\\WangKun@Mattijn\\outfolder\\2011_merge\\outtest//srad20110307.tif\n",
        "pathin\n",
        " E:\\Data\\WangKun@Mattijn\\outfolder\\2011\\NEWsrad_merge\\srad20110308.tif\n",
        "pathout\n"
       ]
      },
      {
       "output_type": "stream",
       "stream": "stdout",
       "text": [
        " E:\\Data\\WangKun@Mattijn\\outfolder\\2011_merge\\outtest//srad20110308.tif\n",
        "pathin\n",
        " E:\\Data\\WangKun@Mattijn\\outfolder\\2011\\NEWsrad_merge\\srad20110309.tif\n",
        "pathout\n"
       ]
      },
      {
       "output_type": "stream",
       "stream": "stdout",
       "text": [
        " E:\\Data\\WangKun@Mattijn\\outfolder\\2011_merge\\outtest//srad20110309.tif\n",
        "pathin\n",
        " E:\\Data\\WangKun@Mattijn\\outfolder\\2011\\NEWsrad_merge\\srad20110310.tif\n",
        "pathout\n"
       ]
      },
      {
       "output_type": "stream",
       "stream": "stdout",
       "text": [
        " E:\\Data\\WangKun@Mattijn\\outfolder\\2011_merge\\outtest//srad20110310.tif\n",
        "pathin\n",
        " E:\\Data\\WangKun@Mattijn\\outfolder\\2011\\NEWsrad_merge\\srad20110311.tif\n",
        "pathout\n"
       ]
      },
      {
       "output_type": "stream",
       "stream": "stdout",
       "text": [
        " E:\\Data\\WangKun@Mattijn\\outfolder\\2011_merge\\outtest//srad20110311.tif\n",
        "pathin\n",
        " E:\\Data\\WangKun@Mattijn\\outfolder\\2011\\NEWsrad_merge\\srad20110312.tif\n",
        "pathout\n"
       ]
      },
      {
       "output_type": "stream",
       "stream": "stdout",
       "text": [
        " E:\\Data\\WangKun@Mattijn\\outfolder\\2011_merge\\outtest//srad20110312.tif\n",
        "pathin\n",
        " E:\\Data\\WangKun@Mattijn\\outfolder\\2011\\NEWsrad_merge\\srad20110313.tif\n",
        "pathout\n"
       ]
      },
      {
       "output_type": "stream",
       "stream": "stdout",
       "text": [
        " E:\\Data\\WangKun@Mattijn\\outfolder\\2011_merge\\outtest//srad20110313.tif\n",
        "pathin\n",
        " E:\\Data\\WangKun@Mattijn\\outfolder\\2011\\NEWsrad_merge\\srad20110314.tif\n",
        "pathout\n"
       ]
      },
      {
       "output_type": "stream",
       "stream": "stdout",
       "text": [
        " E:\\Data\\WangKun@Mattijn\\outfolder\\2011_merge\\outtest//srad20110314.tif\n",
        "pathin\n",
        " E:\\Data\\WangKun@Mattijn\\outfolder\\2011\\NEWsrad_merge\\srad20110315.tif\n",
        "pathout\n"
       ]
      },
      {
       "output_type": "stream",
       "stream": "stdout",
       "text": [
        " E:\\Data\\WangKun@Mattijn\\outfolder\\2011_merge\\outtest//srad20110315.tif\n",
        "pathin\n",
        " E:\\Data\\WangKun@Mattijn\\outfolder\\2011\\NEWsrad_merge\\srad20110316.tif\n",
        "pathout\n"
       ]
      },
      {
       "output_type": "stream",
       "stream": "stdout",
       "text": [
        " E:\\Data\\WangKun@Mattijn\\outfolder\\2011_merge\\outtest//srad20110316.tif\n",
        "pathin\n",
        " E:\\Data\\WangKun@Mattijn\\outfolder\\2011\\NEWsrad_merge\\srad20110317.tif\n",
        "pathout\n"
       ]
      },
      {
       "output_type": "stream",
       "stream": "stdout",
       "text": [
        " E:\\Data\\WangKun@Mattijn\\outfolder\\2011_merge\\outtest//srad20110317.tif\n",
        "pathin\n",
        " E:\\Data\\WangKun@Mattijn\\outfolder\\2011\\NEWsrad_merge\\srad20110318.tif\n",
        "pathout\n"
       ]
      },
      {
       "output_type": "stream",
       "stream": "stdout",
       "text": [
        " E:\\Data\\WangKun@Mattijn\\outfolder\\2011_merge\\outtest//srad20110318.tif\n",
        "pathin\n",
        " E:\\Data\\WangKun@Mattijn\\outfolder\\2011\\NEWsrad_merge\\srad20110319.tif\n",
        "pathout\n"
       ]
      },
      {
       "output_type": "stream",
       "stream": "stdout",
       "text": [
        " E:\\Data\\WangKun@Mattijn\\outfolder\\2011_merge\\outtest//srad20110319.tif\n",
        "pathin\n",
        " E:\\Data\\WangKun@Mattijn\\outfolder\\2011\\NEWsrad_merge\\srad20110320.tif\n",
        "pathout\n"
       ]
      },
      {
       "output_type": "stream",
       "stream": "stdout",
       "text": [
        " E:\\Data\\WangKun@Mattijn\\outfolder\\2011_merge\\outtest//srad20110320.tif\n",
        "pathin\n",
        " E:\\Data\\WangKun@Mattijn\\outfolder\\2011\\NEWsrad_merge\\srad20110321.tif\n",
        "pathout\n"
       ]
      },
      {
       "output_type": "stream",
       "stream": "stdout",
       "text": [
        " E:\\Data\\WangKun@Mattijn\\outfolder\\2011_merge\\outtest//srad20110321.tif\n",
        "pathin\n",
        " E:\\Data\\WangKun@Mattijn\\outfolder\\2011\\NEWsrad_merge\\srad20110322.tif\n",
        "pathout\n"
       ]
      },
      {
       "output_type": "stream",
       "stream": "stdout",
       "text": [
        " E:\\Data\\WangKun@Mattijn\\outfolder\\2011_merge\\outtest//srad20110322.tif\n",
        "pathin\n",
        " E:\\Data\\WangKun@Mattijn\\outfolder\\2011\\NEWsrad_merge\\srad20110323.tif\n",
        "pathout\n"
       ]
      },
      {
       "output_type": "stream",
       "stream": "stdout",
       "text": [
        " E:\\Data\\WangKun@Mattijn\\outfolder\\2011_merge\\outtest//srad20110323.tif\n",
        "pathin\n",
        " E:\\Data\\WangKun@Mattijn\\outfolder\\2011\\NEWsrad_merge\\srad20110324.tif\n",
        "pathout\n"
       ]
      },
      {
       "output_type": "stream",
       "stream": "stdout",
       "text": [
        " E:\\Data\\WangKun@Mattijn\\outfolder\\2011_merge\\outtest//srad20110324.tif\n",
        "pathin\n",
        " E:\\Data\\WangKun@Mattijn\\outfolder\\2011\\NEWsrad_merge\\srad20110325.tif\n",
        "pathout\n"
       ]
      },
      {
       "output_type": "stream",
       "stream": "stdout",
       "text": [
        " E:\\Data\\WangKun@Mattijn\\outfolder\\2011_merge\\outtest//srad20110325.tif\n",
        "pathin\n",
        " E:\\Data\\WangKun@Mattijn\\outfolder\\2011\\NEWsrad_merge\\srad20110326.tif\n",
        "pathout\n"
       ]
      },
      {
       "output_type": "stream",
       "stream": "stdout",
       "text": [
        " E:\\Data\\WangKun@Mattijn\\outfolder\\2011_merge\\outtest//srad20110326.tif\n",
        "pathin\n",
        " E:\\Data\\WangKun@Mattijn\\outfolder\\2011\\NEWsrad_merge\\srad20110327.tif\n",
        "pathout\n"
       ]
      },
      {
       "output_type": "stream",
       "stream": "stdout",
       "text": [
        " E:\\Data\\WangKun@Mattijn\\outfolder\\2011_merge\\outtest//srad20110327.tif\n",
        "pathin\n",
        " E:\\Data\\WangKun@Mattijn\\outfolder\\2011\\NEWsrad_merge\\srad20110328.tif\n",
        "pathout\n"
       ]
      },
      {
       "output_type": "stream",
       "stream": "stdout",
       "text": [
        " E:\\Data\\WangKun@Mattijn\\outfolder\\2011_merge\\outtest//srad20110328.tif\n",
        "pathin\n",
        " E:\\Data\\WangKun@Mattijn\\outfolder\\2011\\NEWsrad_merge\\srad20110329.tif\n",
        "pathout\n"
       ]
      },
      {
       "output_type": "stream",
       "stream": "stdout",
       "text": [
        " E:\\Data\\WangKun@Mattijn\\outfolder\\2011_merge\\outtest//srad20110329.tif\n",
        "pathin\n",
        " E:\\Data\\WangKun@Mattijn\\outfolder\\2011\\NEWsrad_merge\\srad20110330.tif\n",
        "pathout\n"
       ]
      },
      {
       "output_type": "stream",
       "stream": "stdout",
       "text": [
        " E:\\Data\\WangKun@Mattijn\\outfolder\\2011_merge\\outtest//srad20110330.tif\n",
        "pathin\n",
        " E:\\Data\\WangKun@Mattijn\\outfolder\\2011\\NEWsrad_merge\\srad20110331.tif\n",
        "pathout\n"
       ]
      },
      {
       "output_type": "stream",
       "stream": "stdout",
       "text": [
        " E:\\Data\\WangKun@Mattijn\\outfolder\\2011_merge\\outtest//srad20110331.tif\n",
        "pathin\n",
        " E:\\Data\\WangKun@Mattijn\\outfolder\\2011\\NEWsrad_merge\\srad20110401.tif\n",
        "pathout\n"
       ]
      },
      {
       "output_type": "stream",
       "stream": "stdout",
       "text": [
        " E:\\Data\\WangKun@Mattijn\\outfolder\\2011_merge\\outtest//srad20110401.tif\n",
        "pathin\n",
        " E:\\Data\\WangKun@Mattijn\\outfolder\\2011\\NEWsrad_merge\\srad20110402.tif\n",
        "pathout\n"
       ]
      },
      {
       "output_type": "stream",
       "stream": "stdout",
       "text": [
        " E:\\Data\\WangKun@Mattijn\\outfolder\\2011_merge\\outtest//srad20110402.tif\n",
        "pathin\n",
        " E:\\Data\\WangKun@Mattijn\\outfolder\\2011\\NEWsrad_merge\\srad20110403.tif\n",
        "pathout\n"
       ]
      },
      {
       "output_type": "stream",
       "stream": "stdout",
       "text": [
        " E:\\Data\\WangKun@Mattijn\\outfolder\\2011_merge\\outtest//srad20110403.tif\n",
        "pathin\n",
        " E:\\Data\\WangKun@Mattijn\\outfolder\\2011\\NEWsrad_merge\\srad20110404.tif\n",
        "pathout\n"
       ]
      },
      {
       "output_type": "stream",
       "stream": "stdout",
       "text": [
        " E:\\Data\\WangKun@Mattijn\\outfolder\\2011_merge\\outtest//srad20110404.tif\n",
        "pathin\n",
        " E:\\Data\\WangKun@Mattijn\\outfolder\\2011\\NEWsrad_merge\\srad20110405.tif\n",
        "pathout\n"
       ]
      },
      {
       "output_type": "stream",
       "stream": "stdout",
       "text": [
        " E:\\Data\\WangKun@Mattijn\\outfolder\\2011_merge\\outtest//srad20110405.tif\n",
        "pathin\n",
        " E:\\Data\\WangKun@Mattijn\\outfolder\\2011\\NEWsrad_merge\\srad20110406.tif\n",
        "pathout\n"
       ]
      },
      {
       "output_type": "stream",
       "stream": "stdout",
       "text": [
        " E:\\Data\\WangKun@Mattijn\\outfolder\\2011_merge\\outtest//srad20110406.tif\n",
        "pathin\n",
        " E:\\Data\\WangKun@Mattijn\\outfolder\\2011\\NEWsrad_merge\\srad20110407.tif\n",
        "pathout\n"
       ]
      },
      {
       "output_type": "stream",
       "stream": "stdout",
       "text": [
        " E:\\Data\\WangKun@Mattijn\\outfolder\\2011_merge\\outtest//srad20110407.tif\n",
        "pathin\n",
        " E:\\Data\\WangKun@Mattijn\\outfolder\\2011\\NEWsrad_merge\\srad20110408.tif\n",
        "pathout\n"
       ]
      },
      {
       "output_type": "stream",
       "stream": "stdout",
       "text": [
        " E:\\Data\\WangKun@Mattijn\\outfolder\\2011_merge\\outtest//srad20110408.tif\n",
        "pathin\n",
        " E:\\Data\\WangKun@Mattijn\\outfolder\\2011\\NEWsrad_merge\\srad20110409.tif\n",
        "pathout\n"
       ]
      },
      {
       "output_type": "stream",
       "stream": "stdout",
       "text": [
        " E:\\Data\\WangKun@Mattijn\\outfolder\\2011_merge\\outtest//srad20110409.tif\n",
        "pathin\n",
        " E:\\Data\\WangKun@Mattijn\\outfolder\\2011\\NEWsrad_merge\\srad20110410.tif\n",
        "pathout\n"
       ]
      },
      {
       "output_type": "stream",
       "stream": "stdout",
       "text": [
        " E:\\Data\\WangKun@Mattijn\\outfolder\\2011_merge\\outtest//srad20110410.tif\n",
        "pathin\n",
        " E:\\Data\\WangKun@Mattijn\\outfolder\\2011\\NEWsrad_merge\\srad20110411.tif\n",
        "pathout\n"
       ]
      },
      {
       "output_type": "stream",
       "stream": "stdout",
       "text": [
        " E:\\Data\\WangKun@Mattijn\\outfolder\\2011_merge\\outtest//srad20110411.tif\n",
        "pathin\n",
        " E:\\Data\\WangKun@Mattijn\\outfolder\\2011\\NEWsrad_merge\\srad20110412.tif\n",
        "pathout\n"
       ]
      },
      {
       "output_type": "stream",
       "stream": "stdout",
       "text": [
        " E:\\Data\\WangKun@Mattijn\\outfolder\\2011_merge\\outtest//srad20110412.tif\n",
        "pathin\n",
        " E:\\Data\\WangKun@Mattijn\\outfolder\\2011\\NEWsrad_merge\\srad20110413.tif\n",
        "pathout\n"
       ]
      },
      {
       "output_type": "stream",
       "stream": "stdout",
       "text": [
        " E:\\Data\\WangKun@Mattijn\\outfolder\\2011_merge\\outtest//srad20110413.tif\n",
        "pathin\n",
        " E:\\Data\\WangKun@Mattijn\\outfolder\\2011\\NEWsrad_merge\\srad20110414.tif\n",
        "pathout\n"
       ]
      },
      {
       "output_type": "stream",
       "stream": "stdout",
       "text": [
        " E:\\Data\\WangKun@Mattijn\\outfolder\\2011_merge\\outtest//srad20110414.tif\n",
        "pathin\n",
        " E:\\Data\\WangKun@Mattijn\\outfolder\\2011\\NEWsrad_merge\\srad20110415.tif\n",
        "pathout\n"
       ]
      },
      {
       "output_type": "stream",
       "stream": "stdout",
       "text": [
        " E:\\Data\\WangKun@Mattijn\\outfolder\\2011_merge\\outtest//srad20110415.tif\n",
        "pathin\n",
        " E:\\Data\\WangKun@Mattijn\\outfolder\\2011\\NEWsrad_merge\\srad20110416.tif\n",
        "pathout\n"
       ]
      },
      {
       "output_type": "stream",
       "stream": "stdout",
       "text": [
        " E:\\Data\\WangKun@Mattijn\\outfolder\\2011_merge\\outtest//srad20110416.tif\n",
        "pathin\n",
        " E:\\Data\\WangKun@Mattijn\\outfolder\\2011\\NEWsrad_merge\\srad20110417.tif\n",
        "pathout\n"
       ]
      },
      {
       "output_type": "stream",
       "stream": "stdout",
       "text": [
        " E:\\Data\\WangKun@Mattijn\\outfolder\\2011_merge\\outtest//srad20110417.tif\n",
        "pathin\n",
        " E:\\Data\\WangKun@Mattijn\\outfolder\\2011\\NEWsrad_merge\\srad20110418.tif\n",
        "pathout\n"
       ]
      },
      {
       "output_type": "stream",
       "stream": "stdout",
       "text": [
        " E:\\Data\\WangKun@Mattijn\\outfolder\\2011_merge\\outtest//srad20110418.tif\n",
        "pathin\n",
        " E:\\Data\\WangKun@Mattijn\\outfolder\\2011\\NEWsrad_merge\\srad20110419.tif\n",
        "pathout\n"
       ]
      },
      {
       "output_type": "stream",
       "stream": "stdout",
       "text": [
        " E:\\Data\\WangKun@Mattijn\\outfolder\\2011_merge\\outtest//srad20110419.tif\n",
        "pathin\n",
        " E:\\Data\\WangKun@Mattijn\\outfolder\\2011\\NEWsrad_merge\\srad20110420.tif\n",
        "pathout\n"
       ]
      },
      {
       "output_type": "stream",
       "stream": "stdout",
       "text": [
        " E:\\Data\\WangKun@Mattijn\\outfolder\\2011_merge\\outtest//srad20110420.tif\n",
        "pathin\n",
        " E:\\Data\\WangKun@Mattijn\\outfolder\\2011\\NEWsrad_merge\\srad20110421.tif\n",
        "pathout\n"
       ]
      },
      {
       "output_type": "stream",
       "stream": "stdout",
       "text": [
        " E:\\Data\\WangKun@Mattijn\\outfolder\\2011_merge\\outtest//srad20110421.tif\n",
        "pathin\n",
        " E:\\Data\\WangKun@Mattijn\\outfolder\\2011\\NEWsrad_merge\\srad20110422.tif\n",
        "pathout\n"
       ]
      },
      {
       "output_type": "stream",
       "stream": "stdout",
       "text": [
        " E:\\Data\\WangKun@Mattijn\\outfolder\\2011_merge\\outtest//srad20110422.tif\n",
        "pathin\n",
        " E:\\Data\\WangKun@Mattijn\\outfolder\\2011\\NEWsrad_merge\\srad20110423.tif\n",
        "pathout\n"
       ]
      },
      {
       "output_type": "stream",
       "stream": "stdout",
       "text": [
        " E:\\Data\\WangKun@Mattijn\\outfolder\\2011_merge\\outtest//srad20110423.tif\n",
        "pathin\n",
        " E:\\Data\\WangKun@Mattijn\\outfolder\\2011\\NEWsrad_merge\\srad20110424.tif\n",
        "pathout\n"
       ]
      },
      {
       "output_type": "stream",
       "stream": "stdout",
       "text": [
        " E:\\Data\\WangKun@Mattijn\\outfolder\\2011_merge\\outtest//srad20110424.tif\n",
        "pathin\n",
        " E:\\Data\\WangKun@Mattijn\\outfolder\\2011\\NEWsrad_merge\\srad20110425.tif\n",
        "pathout\n"
       ]
      },
      {
       "output_type": "stream",
       "stream": "stdout",
       "text": [
        " E:\\Data\\WangKun@Mattijn\\outfolder\\2011_merge\\outtest//srad20110425.tif\n",
        "pathin\n",
        " E:\\Data\\WangKun@Mattijn\\outfolder\\2011\\NEWsrad_merge\\srad20110426.tif\n",
        "pathout\n"
       ]
      },
      {
       "output_type": "stream",
       "stream": "stdout",
       "text": [
        " E:\\Data\\WangKun@Mattijn\\outfolder\\2011_merge\\outtest//srad20110426.tif\n",
        "pathin\n",
        " E:\\Data\\WangKun@Mattijn\\outfolder\\2011\\NEWsrad_merge\\srad20110427.tif\n",
        "pathout\n"
       ]
      },
      {
       "output_type": "stream",
       "stream": "stdout",
       "text": [
        " E:\\Data\\WangKun@Mattijn\\outfolder\\2011_merge\\outtest//srad20110427.tif\n",
        "pathin\n",
        " E:\\Data\\WangKun@Mattijn\\outfolder\\2011\\NEWsrad_merge\\srad20110428.tif\n",
        "pathout\n"
       ]
      },
      {
       "output_type": "stream",
       "stream": "stdout",
       "text": [
        " E:\\Data\\WangKun@Mattijn\\outfolder\\2011_merge\\outtest//srad20110428.tif\n",
        "pathin\n",
        " E:\\Data\\WangKun@Mattijn\\outfolder\\2011\\NEWsrad_merge\\srad20110429.tif\n",
        "pathout\n"
       ]
      },
      {
       "output_type": "stream",
       "stream": "stdout",
       "text": [
        " E:\\Data\\WangKun@Mattijn\\outfolder\\2011_merge\\outtest//srad20110429.tif\n",
        "pathin\n",
        " E:\\Data\\WangKun@Mattijn\\outfolder\\2011\\NEWsrad_merge\\srad20110430.tif\n",
        "pathout\n"
       ]
      },
      {
       "output_type": "stream",
       "stream": "stdout",
       "text": [
        " E:\\Data\\WangKun@Mattijn\\outfolder\\2011_merge\\outtest//srad20110430.tif\n",
        "pathin\n",
        " E:\\Data\\WangKun@Mattijn\\outfolder\\2011\\NEWsrad_merge\\srad20110501.tif\n",
        "pathout\n"
       ]
      },
      {
       "output_type": "stream",
       "stream": "stdout",
       "text": [
        " E:\\Data\\WangKun@Mattijn\\outfolder\\2011_merge\\outtest//srad20110501.tif\n",
        "pathin\n",
        " E:\\Data\\WangKun@Mattijn\\outfolder\\2011\\NEWsrad_merge\\srad20110502.tif\n",
        "pathout\n"
       ]
      },
      {
       "output_type": "stream",
       "stream": "stdout",
       "text": [
        " E:\\Data\\WangKun@Mattijn\\outfolder\\2011_merge\\outtest//srad20110502.tif\n",
        "pathin\n",
        " E:\\Data\\WangKun@Mattijn\\outfolder\\2011\\NEWsrad_merge\\srad20110503.tif\n",
        "pathout\n"
       ]
      },
      {
       "output_type": "stream",
       "stream": "stdout",
       "text": [
        " E:\\Data\\WangKun@Mattijn\\outfolder\\2011_merge\\outtest//srad20110503.tif\n",
        "pathin\n",
        " E:\\Data\\WangKun@Mattijn\\outfolder\\2011\\NEWsrad_merge\\srad20110504.tif\n",
        "pathout\n"
       ]
      },
      {
       "output_type": "stream",
       "stream": "stdout",
       "text": [
        " E:\\Data\\WangKun@Mattijn\\outfolder\\2011_merge\\outtest//srad20110504.tif\n",
        "pathin\n",
        " E:\\Data\\WangKun@Mattijn\\outfolder\\2011\\NEWsrad_merge\\srad20110505.tif\n",
        "pathout\n"
       ]
      },
      {
       "output_type": "stream",
       "stream": "stdout",
       "text": [
        " E:\\Data\\WangKun@Mattijn\\outfolder\\2011_merge\\outtest//srad20110505.tif\n",
        "pathin\n",
        " E:\\Data\\WangKun@Mattijn\\outfolder\\2011\\NEWsrad_merge\\srad20110506.tif\n",
        "pathout\n"
       ]
      },
      {
       "output_type": "stream",
       "stream": "stdout",
       "text": [
        " E:\\Data\\WangKun@Mattijn\\outfolder\\2011_merge\\outtest//srad20110506.tif\n",
        "pathin\n",
        " E:\\Data\\WangKun@Mattijn\\outfolder\\2011\\NEWsrad_merge\\srad20110507.tif\n",
        "pathout\n"
       ]
      },
      {
       "output_type": "stream",
       "stream": "stdout",
       "text": [
        " E:\\Data\\WangKun@Mattijn\\outfolder\\2011_merge\\outtest//srad20110507.tif\n",
        "pathin\n",
        " E:\\Data\\WangKun@Mattijn\\outfolder\\2011\\NEWsrad_merge\\srad20110508.tif\n",
        "pathout\n"
       ]
      },
      {
       "output_type": "stream",
       "stream": "stdout",
       "text": [
        " E:\\Data\\WangKun@Mattijn\\outfolder\\2011_merge\\outtest//srad20110508.tif\n",
        "pathin\n",
        " E:\\Data\\WangKun@Mattijn\\outfolder\\2011\\NEWsrad_merge\\srad20110509.tif\n",
        "pathout\n"
       ]
      },
      {
       "output_type": "stream",
       "stream": "stdout",
       "text": [
        " E:\\Data\\WangKun@Mattijn\\outfolder\\2011_merge\\outtest//srad20110509.tif\n",
        "pathin\n",
        " E:\\Data\\WangKun@Mattijn\\outfolder\\2011\\NEWsrad_merge\\srad20110510.tif\n",
        "pathout\n"
       ]
      },
      {
       "output_type": "stream",
       "stream": "stdout",
       "text": [
        " E:\\Data\\WangKun@Mattijn\\outfolder\\2011_merge\\outtest//srad20110510.tif\n",
        "pathin\n",
        " E:\\Data\\WangKun@Mattijn\\outfolder\\2011\\NEWsrad_merge\\srad20110511.tif\n",
        "pathout\n"
       ]
      },
      {
       "output_type": "stream",
       "stream": "stdout",
       "text": [
        " E:\\Data\\WangKun@Mattijn\\outfolder\\2011_merge\\outtest//srad20110511.tif\n",
        "pathin\n",
        " E:\\Data\\WangKun@Mattijn\\outfolder\\2011\\NEWsrad_merge\\srad20110512.tif\n",
        "pathout\n"
       ]
      },
      {
       "output_type": "stream",
       "stream": "stdout",
       "text": [
        " E:\\Data\\WangKun@Mattijn\\outfolder\\2011_merge\\outtest//srad20110512.tif\n",
        "pathin\n",
        " E:\\Data\\WangKun@Mattijn\\outfolder\\2011\\NEWsrad_merge\\srad20110513.tif\n",
        "pathout\n"
       ]
      },
      {
       "output_type": "stream",
       "stream": "stdout",
       "text": [
        " E:\\Data\\WangKun@Mattijn\\outfolder\\2011_merge\\outtest//srad20110513.tif\n",
        "pathin\n",
        " E:\\Data\\WangKun@Mattijn\\outfolder\\2011\\NEWsrad_merge\\srad20110514.tif\n",
        "pathout\n"
       ]
      },
      {
       "output_type": "stream",
       "stream": "stdout",
       "text": [
        " E:\\Data\\WangKun@Mattijn\\outfolder\\2011_merge\\outtest//srad20110514.tif\n",
        "pathin\n",
        " E:\\Data\\WangKun@Mattijn\\outfolder\\2011\\NEWsrad_merge\\srad20110515.tif\n",
        "pathout\n"
       ]
      },
      {
       "output_type": "stream",
       "stream": "stdout",
       "text": [
        " E:\\Data\\WangKun@Mattijn\\outfolder\\2011_merge\\outtest//srad20110515.tif\n",
        "pathin\n",
        " E:\\Data\\WangKun@Mattijn\\outfolder\\2011\\NEWsrad_merge\\srad20110516.tif\n",
        "pathout\n"
       ]
      },
      {
       "output_type": "stream",
       "stream": "stdout",
       "text": [
        " E:\\Data\\WangKun@Mattijn\\outfolder\\2011_merge\\outtest//srad20110516.tif\n",
        "pathin\n",
        " E:\\Data\\WangKun@Mattijn\\outfolder\\2011\\NEWsrad_merge\\srad20110517.tif\n",
        "pathout\n"
       ]
      },
      {
       "output_type": "stream",
       "stream": "stdout",
       "text": [
        " E:\\Data\\WangKun@Mattijn\\outfolder\\2011_merge\\outtest//srad20110517.tif\n",
        "pathin\n",
        " E:\\Data\\WangKun@Mattijn\\outfolder\\2011\\NEWsrad_merge\\srad20110518.tif\n",
        "pathout\n"
       ]
      },
      {
       "output_type": "stream",
       "stream": "stdout",
       "text": [
        " E:\\Data\\WangKun@Mattijn\\outfolder\\2011_merge\\outtest//srad20110518.tif\n",
        "pathin\n",
        " E:\\Data\\WangKun@Mattijn\\outfolder\\2011\\NEWsrad_merge\\srad20110519.tif\n",
        "pathout\n"
       ]
      },
      {
       "output_type": "stream",
       "stream": "stdout",
       "text": [
        " E:\\Data\\WangKun@Mattijn\\outfolder\\2011_merge\\outtest//srad20110519.tif\n",
        "pathin\n",
        " E:\\Data\\WangKun@Mattijn\\outfolder\\2011\\NEWsrad_merge\\srad20110520.tif\n",
        "pathout\n"
       ]
      },
      {
       "output_type": "stream",
       "stream": "stdout",
       "text": [
        " E:\\Data\\WangKun@Mattijn\\outfolder\\2011_merge\\outtest//srad20110520.tif\n",
        "pathin\n",
        " E:\\Data\\WangKun@Mattijn\\outfolder\\2011\\NEWsrad_merge\\srad20110521.tif\n",
        "pathout\n"
       ]
      },
      {
       "output_type": "stream",
       "stream": "stdout",
       "text": [
        " E:\\Data\\WangKun@Mattijn\\outfolder\\2011_merge\\outtest//srad20110521.tif\n",
        "pathin\n",
        " E:\\Data\\WangKun@Mattijn\\outfolder\\2011\\NEWsrad_merge\\srad20110522.tif\n",
        "pathout\n"
       ]
      },
      {
       "output_type": "stream",
       "stream": "stdout",
       "text": [
        " E:\\Data\\WangKun@Mattijn\\outfolder\\2011_merge\\outtest//srad20110522.tif\n",
        "pathin\n",
        " E:\\Data\\WangKun@Mattijn\\outfolder\\2011\\NEWsrad_merge\\srad20110523.tif\n",
        "pathout\n"
       ]
      },
      {
       "output_type": "stream",
       "stream": "stdout",
       "text": [
        " E:\\Data\\WangKun@Mattijn\\outfolder\\2011_merge\\outtest//srad20110523.tif\n",
        "pathin\n",
        " E:\\Data\\WangKun@Mattijn\\outfolder\\2011\\NEWsrad_merge\\srad20110524.tif\n",
        "pathout\n"
       ]
      },
      {
       "output_type": "stream",
       "stream": "stdout",
       "text": [
        " E:\\Data\\WangKun@Mattijn\\outfolder\\2011_merge\\outtest//srad20110524.tif\n",
        "pathin\n",
        " E:\\Data\\WangKun@Mattijn\\outfolder\\2011\\NEWsrad_merge\\srad20110525.tif\n",
        "pathout\n"
       ]
      },
      {
       "output_type": "stream",
       "stream": "stdout",
       "text": [
        " E:\\Data\\WangKun@Mattijn\\outfolder\\2011_merge\\outtest//srad20110525.tif\n",
        "pathin\n",
        " E:\\Data\\WangKun@Mattijn\\outfolder\\2011\\NEWsrad_merge\\srad20110526.tif\n",
        "pathout\n"
       ]
      },
      {
       "output_type": "stream",
       "stream": "stdout",
       "text": [
        " E:\\Data\\WangKun@Mattijn\\outfolder\\2011_merge\\outtest//srad20110526.tif\n",
        "pathin\n",
        " E:\\Data\\WangKun@Mattijn\\outfolder\\2011\\NEWsrad_merge\\srad20110527.tif\n",
        "pathout\n"
       ]
      },
      {
       "output_type": "stream",
       "stream": "stdout",
       "text": [
        " E:\\Data\\WangKun@Mattijn\\outfolder\\2011_merge\\outtest//srad20110527.tif\n",
        "pathin\n",
        " E:\\Data\\WangKun@Mattijn\\outfolder\\2011\\NEWsrad_merge\\srad20110528.tif\n",
        "pathout\n"
       ]
      },
      {
       "output_type": "stream",
       "stream": "stdout",
       "text": [
        " E:\\Data\\WangKun@Mattijn\\outfolder\\2011_merge\\outtest//srad20110528.tif\n",
        "pathin\n",
        " E:\\Data\\WangKun@Mattijn\\outfolder\\2011\\NEWsrad_merge\\srad20110529.tif\n",
        "pathout\n"
       ]
      },
      {
       "output_type": "stream",
       "stream": "stdout",
       "text": [
        " E:\\Data\\WangKun@Mattijn\\outfolder\\2011_merge\\outtest//srad20110529.tif\n",
        "pathin\n",
        " E:\\Data\\WangKun@Mattijn\\outfolder\\2011\\NEWsrad_merge\\srad20110530.tif\n",
        "pathout\n"
       ]
      },
      {
       "output_type": "stream",
       "stream": "stdout",
       "text": [
        " E:\\Data\\WangKun@Mattijn\\outfolder\\2011_merge\\outtest//srad20110530.tif\n",
        "pathin\n",
        " E:\\Data\\WangKun@Mattijn\\outfolder\\2011\\NEWsrad_merge\\srad20110531.tif\n",
        "pathout\n"
       ]
      },
      {
       "output_type": "stream",
       "stream": "stdout",
       "text": [
        " E:\\Data\\WangKun@Mattijn\\outfolder\\2011_merge\\outtest//srad20110531.tif\n",
        "pathin\n",
        " E:\\Data\\WangKun@Mattijn\\outfolder\\2011\\NEWsrad_merge\\srad20110601.tif\n",
        "pathout\n"
       ]
      },
      {
       "output_type": "stream",
       "stream": "stdout",
       "text": [
        " E:\\Data\\WangKun@Mattijn\\outfolder\\2011_merge\\outtest//srad20110601.tif\n",
        "pathin\n",
        " E:\\Data\\WangKun@Mattijn\\outfolder\\2011\\NEWsrad_merge\\srad20110602.tif\n",
        "pathout\n"
       ]
      },
      {
       "output_type": "stream",
       "stream": "stdout",
       "text": [
        " E:\\Data\\WangKun@Mattijn\\outfolder\\2011_merge\\outtest//srad20110602.tif\n",
        "pathin\n",
        " E:\\Data\\WangKun@Mattijn\\outfolder\\2011\\NEWsrad_merge\\srad20110603.tif\n",
        "pathout\n"
       ]
      },
      {
       "output_type": "stream",
       "stream": "stdout",
       "text": [
        " E:\\Data\\WangKun@Mattijn\\outfolder\\2011_merge\\outtest//srad20110603.tif\n",
        "pathin\n",
        " E:\\Data\\WangKun@Mattijn\\outfolder\\2011\\NEWsrad_merge\\srad20110604.tif\n",
        "pathout\n"
       ]
      },
      {
       "output_type": "stream",
       "stream": "stdout",
       "text": [
        " E:\\Data\\WangKun@Mattijn\\outfolder\\2011_merge\\outtest//srad20110604.tif\n",
        "pathin\n",
        " E:\\Data\\WangKun@Mattijn\\outfolder\\2011\\NEWsrad_merge\\srad20110605.tif\n",
        "pathout\n"
       ]
      },
      {
       "output_type": "stream",
       "stream": "stdout",
       "text": [
        " E:\\Data\\WangKun@Mattijn\\outfolder\\2011_merge\\outtest//srad20110605.tif\n",
        "pathin\n",
        " E:\\Data\\WangKun@Mattijn\\outfolder\\2011\\NEWsrad_merge\\srad20110606.tif\n",
        "pathout\n"
       ]
      },
      {
       "output_type": "stream",
       "stream": "stdout",
       "text": [
        " E:\\Data\\WangKun@Mattijn\\outfolder\\2011_merge\\outtest//srad20110606.tif\n",
        "pathin\n",
        " E:\\Data\\WangKun@Mattijn\\outfolder\\2011\\NEWsrad_merge\\srad20110607.tif\n",
        "pathout\n"
       ]
      },
      {
       "output_type": "stream",
       "stream": "stdout",
       "text": [
        " E:\\Data\\WangKun@Mattijn\\outfolder\\2011_merge\\outtest//srad20110607.tif\n",
        "pathin\n",
        " E:\\Data\\WangKun@Mattijn\\outfolder\\2011\\NEWsrad_merge\\srad20110608.tif\n",
        "pathout\n"
       ]
      },
      {
       "output_type": "stream",
       "stream": "stdout",
       "text": [
        " E:\\Data\\WangKun@Mattijn\\outfolder\\2011_merge\\outtest//srad20110608.tif\n",
        "pathin\n",
        " E:\\Data\\WangKun@Mattijn\\outfolder\\2011\\NEWsrad_merge\\srad20110609.tif\n",
        "pathout\n"
       ]
      },
      {
       "output_type": "stream",
       "stream": "stdout",
       "text": [
        " E:\\Data\\WangKun@Mattijn\\outfolder\\2011_merge\\outtest//srad20110609.tif\n",
        "pathin\n",
        " E:\\Data\\WangKun@Mattijn\\outfolder\\2011\\NEWsrad_merge\\srad20110610.tif\n",
        "pathout\n"
       ]
      },
      {
       "output_type": "stream",
       "stream": "stdout",
       "text": [
        " E:\\Data\\WangKun@Mattijn\\outfolder\\2011_merge\\outtest//srad20110610.tif\n",
        "pathin\n",
        " E:\\Data\\WangKun@Mattijn\\outfolder\\2011\\NEWsrad_merge\\srad20110611.tif\n",
        "pathout\n"
       ]
      },
      {
       "output_type": "stream",
       "stream": "stdout",
       "text": [
        " E:\\Data\\WangKun@Mattijn\\outfolder\\2011_merge\\outtest//srad20110611.tif\n",
        "pathin\n",
        " E:\\Data\\WangKun@Mattijn\\outfolder\\2011\\NEWsrad_merge\\srad20110612.tif\n",
        "pathout\n"
       ]
      },
      {
       "output_type": "stream",
       "stream": "stdout",
       "text": [
        " E:\\Data\\WangKun@Mattijn\\outfolder\\2011_merge\\outtest//srad20110612.tif\n",
        "pathin\n",
        " E:\\Data\\WangKun@Mattijn\\outfolder\\2011\\NEWsrad_merge\\srad20110613.tif\n",
        "pathout\n"
       ]
      },
      {
       "output_type": "stream",
       "stream": "stdout",
       "text": [
        " E:\\Data\\WangKun@Mattijn\\outfolder\\2011_merge\\outtest//srad20110613.tif\n",
        "pathin\n",
        " E:\\Data\\WangKun@Mattijn\\outfolder\\2011\\NEWsrad_merge\\srad20110614.tif\n",
        "pathout\n"
       ]
      },
      {
       "output_type": "stream",
       "stream": "stdout",
       "text": [
        " E:\\Data\\WangKun@Mattijn\\outfolder\\2011_merge\\outtest//srad20110614.tif\n",
        "pathin\n",
        " E:\\Data\\WangKun@Mattijn\\outfolder\\2011\\NEWsrad_merge\\srad20110615.tif\n",
        "pathout\n"
       ]
      },
      {
       "output_type": "stream",
       "stream": "stdout",
       "text": [
        " E:\\Data\\WangKun@Mattijn\\outfolder\\2011_merge\\outtest//srad20110615.tif\n",
        "pathin\n",
        " E:\\Data\\WangKun@Mattijn\\outfolder\\2011\\NEWsrad_merge\\srad20110616.tif\n",
        "pathout\n"
       ]
      },
      {
       "output_type": "stream",
       "stream": "stdout",
       "text": [
        " E:\\Data\\WangKun@Mattijn\\outfolder\\2011_merge\\outtest//srad20110616.tif\n",
        "pathin\n",
        " E:\\Data\\WangKun@Mattijn\\outfolder\\2011\\NEWsrad_merge\\srad20110617.tif\n",
        "pathout\n"
       ]
      },
      {
       "output_type": "stream",
       "stream": "stdout",
       "text": [
        " E:\\Data\\WangKun@Mattijn\\outfolder\\2011_merge\\outtest//srad20110617.tif\n",
        "pathin\n",
        " E:\\Data\\WangKun@Mattijn\\outfolder\\2011\\NEWsrad_merge\\srad20110618.tif\n",
        "pathout\n"
       ]
      },
      {
       "output_type": "stream",
       "stream": "stdout",
       "text": [
        " E:\\Data\\WangKun@Mattijn\\outfolder\\2011_merge\\outtest//srad20110618.tif\n",
        "pathin\n",
        " E:\\Data\\WangKun@Mattijn\\outfolder\\2011\\NEWsrad_merge\\srad20110619.tif\n",
        "pathout\n"
       ]
      },
      {
       "output_type": "stream",
       "stream": "stdout",
       "text": [
        " E:\\Data\\WangKun@Mattijn\\outfolder\\2011_merge\\outtest//srad20110619.tif\n",
        "pathin\n",
        " E:\\Data\\WangKun@Mattijn\\outfolder\\2011\\NEWsrad_merge\\srad20110620.tif\n",
        "pathout\n"
       ]
      },
      {
       "output_type": "stream",
       "stream": "stdout",
       "text": [
        " E:\\Data\\WangKun@Mattijn\\outfolder\\2011_merge\\outtest//srad20110620.tif\n",
        "pathin\n",
        " E:\\Data\\WangKun@Mattijn\\outfolder\\2011\\NEWsrad_merge\\srad20110621.tif\n",
        "pathout\n"
       ]
      },
      {
       "output_type": "stream",
       "stream": "stdout",
       "text": [
        " E:\\Data\\WangKun@Mattijn\\outfolder\\2011_merge\\outtest//srad20110621.tif\n",
        "pathin\n",
        " E:\\Data\\WangKun@Mattijn\\outfolder\\2011\\NEWsrad_merge\\srad20110622.tif\n",
        "pathout\n"
       ]
      },
      {
       "output_type": "stream",
       "stream": "stdout",
       "text": [
        " E:\\Data\\WangKun@Mattijn\\outfolder\\2011_merge\\outtest//srad20110622.tif\n",
        "pathin\n",
        " E:\\Data\\WangKun@Mattijn\\outfolder\\2011\\NEWsrad_merge\\srad20110623.tif\n",
        "pathout\n"
       ]
      },
      {
       "output_type": "stream",
       "stream": "stdout",
       "text": [
        " E:\\Data\\WangKun@Mattijn\\outfolder\\2011_merge\\outtest//srad20110623.tif\n",
        "pathin\n",
        " E:\\Data\\WangKun@Mattijn\\outfolder\\2011\\NEWsrad_merge\\srad20110624.tif\n",
        "pathout\n"
       ]
      },
      {
       "output_type": "stream",
       "stream": "stdout",
       "text": [
        " E:\\Data\\WangKun@Mattijn\\outfolder\\2011_merge\\outtest//srad20110624.tif\n",
        "pathin\n",
        " E:\\Data\\WangKun@Mattijn\\outfolder\\2011\\NEWsrad_merge\\srad20110625.tif\n",
        "pathout\n"
       ]
      },
      {
       "output_type": "stream",
       "stream": "stdout",
       "text": [
        " E:\\Data\\WangKun@Mattijn\\outfolder\\2011_merge\\outtest//srad20110625.tif\n",
        "pathin\n",
        " E:\\Data\\WangKun@Mattijn\\outfolder\\2011\\NEWsrad_merge\\srad20110626.tif\n",
        "pathout\n"
       ]
      },
      {
       "output_type": "stream",
       "stream": "stdout",
       "text": [
        " E:\\Data\\WangKun@Mattijn\\outfolder\\2011_merge\\outtest//srad20110626.tif\n",
        "pathin\n",
        " E:\\Data\\WangKun@Mattijn\\outfolder\\2011\\NEWsrad_merge\\srad20110627.tif\n",
        "pathout\n"
       ]
      },
      {
       "output_type": "stream",
       "stream": "stdout",
       "text": [
        " E:\\Data\\WangKun@Mattijn\\outfolder\\2011_merge\\outtest//srad20110627.tif\n",
        "pathin\n",
        " E:\\Data\\WangKun@Mattijn\\outfolder\\2011\\NEWsrad_merge\\srad20110628.tif\n",
        "pathout\n"
       ]
      },
      {
       "output_type": "stream",
       "stream": "stdout",
       "text": [
        " E:\\Data\\WangKun@Mattijn\\outfolder\\2011_merge\\outtest//srad20110628.tif\n",
        "pathin\n",
        " E:\\Data\\WangKun@Mattijn\\outfolder\\2011\\NEWsrad_merge\\srad20110629.tif\n",
        "pathout\n"
       ]
      },
      {
       "output_type": "stream",
       "stream": "stdout",
       "text": [
        " E:\\Data\\WangKun@Mattijn\\outfolder\\2011_merge\\outtest//srad20110629.tif\n",
        "pathin\n",
        " E:\\Data\\WangKun@Mattijn\\outfolder\\2011\\NEWsrad_merge\\srad20110630.tif\n",
        "pathout\n"
       ]
      },
      {
       "output_type": "stream",
       "stream": "stdout",
       "text": [
        " E:\\Data\\WangKun@Mattijn\\outfolder\\2011_merge\\outtest//srad20110630.tif\n",
        "pathin\n",
        " E:\\Data\\WangKun@Mattijn\\outfolder\\2011\\NEWsrad_merge\\srad20110701.tif\n",
        "pathout\n"
       ]
      },
      {
       "output_type": "stream",
       "stream": "stdout",
       "text": [
        " E:\\Data\\WangKun@Mattijn\\outfolder\\2011_merge\\outtest//srad20110701.tif\n",
        "pathin\n",
        " E:\\Data\\WangKun@Mattijn\\outfolder\\2011\\NEWsrad_merge\\srad20110702.tif\n",
        "pathout\n"
       ]
      },
      {
       "output_type": "stream",
       "stream": "stdout",
       "text": [
        " E:\\Data\\WangKun@Mattijn\\outfolder\\2011_merge\\outtest//srad20110702.tif\n",
        "pathin\n",
        " E:\\Data\\WangKun@Mattijn\\outfolder\\2011\\NEWsrad_merge\\srad20110703.tif\n",
        "pathout\n"
       ]
      },
      {
       "output_type": "stream",
       "stream": "stdout",
       "text": [
        " E:\\Data\\WangKun@Mattijn\\outfolder\\2011_merge\\outtest//srad20110703.tif\n",
        "pathin\n",
        " E:\\Data\\WangKun@Mattijn\\outfolder\\2011\\NEWsrad_merge\\srad20110704.tif\n",
        "pathout\n"
       ]
      },
      {
       "output_type": "stream",
       "stream": "stdout",
       "text": [
        " E:\\Data\\WangKun@Mattijn\\outfolder\\2011_merge\\outtest//srad20110704.tif\n",
        "pathin\n",
        " E:\\Data\\WangKun@Mattijn\\outfolder\\2011\\NEWsrad_merge\\srad20110705.tif\n",
        "pathout\n"
       ]
      },
      {
       "output_type": "stream",
       "stream": "stdout",
       "text": [
        " E:\\Data\\WangKun@Mattijn\\outfolder\\2011_merge\\outtest//srad20110705.tif\n",
        "pathin\n",
        " E:\\Data\\WangKun@Mattijn\\outfolder\\2011\\NEWsrad_merge\\srad20110706.tif\n",
        "pathout\n"
       ]
      },
      {
       "output_type": "stream",
       "stream": "stdout",
       "text": [
        " E:\\Data\\WangKun@Mattijn\\outfolder\\2011_merge\\outtest//srad20110706.tif\n",
        "pathin\n",
        " E:\\Data\\WangKun@Mattijn\\outfolder\\2011\\NEWsrad_merge\\srad20110707.tif\n",
        "pathout\n"
       ]
      },
      {
       "output_type": "stream",
       "stream": "stdout",
       "text": [
        " E:\\Data\\WangKun@Mattijn\\outfolder\\2011_merge\\outtest//srad20110707.tif\n",
        "pathin\n",
        " E:\\Data\\WangKun@Mattijn\\outfolder\\2011\\NEWsrad_merge\\srad20110708.tif\n",
        "pathout\n"
       ]
      },
      {
       "output_type": "stream",
       "stream": "stdout",
       "text": [
        " E:\\Data\\WangKun@Mattijn\\outfolder\\2011_merge\\outtest//srad20110708.tif\n",
        "pathin\n",
        " E:\\Data\\WangKun@Mattijn\\outfolder\\2011\\NEWsrad_merge\\srad20110709.tif\n",
        "pathout\n"
       ]
      },
      {
       "output_type": "stream",
       "stream": "stdout",
       "text": [
        " E:\\Data\\WangKun@Mattijn\\outfolder\\2011_merge\\outtest//srad20110709.tif\n",
        "pathin\n",
        " E:\\Data\\WangKun@Mattijn\\outfolder\\2011\\NEWsrad_merge\\srad20110710.tif\n",
        "pathout\n"
       ]
      },
      {
       "output_type": "stream",
       "stream": "stdout",
       "text": [
        " E:\\Data\\WangKun@Mattijn\\outfolder\\2011_merge\\outtest//srad20110710.tif\n",
        "pathin\n",
        " E:\\Data\\WangKun@Mattijn\\outfolder\\2011\\NEWsrad_merge\\srad20110711.tif\n",
        "pathout\n"
       ]
      },
      {
       "output_type": "stream",
       "stream": "stdout",
       "text": [
        " E:\\Data\\WangKun@Mattijn\\outfolder\\2011_merge\\outtest//srad20110711.tif\n",
        "pathin\n",
        " E:\\Data\\WangKun@Mattijn\\outfolder\\2011\\NEWsrad_merge\\srad20110712.tif\n",
        "pathout\n"
       ]
      },
      {
       "output_type": "stream",
       "stream": "stdout",
       "text": [
        " E:\\Data\\WangKun@Mattijn\\outfolder\\2011_merge\\outtest//srad20110712.tif\n",
        "pathin\n",
        " E:\\Data\\WangKun@Mattijn\\outfolder\\2011\\NEWsrad_merge\\srad20110713.tif\n",
        "pathout\n"
       ]
      },
      {
       "output_type": "stream",
       "stream": "stdout",
       "text": [
        " E:\\Data\\WangKun@Mattijn\\outfolder\\2011_merge\\outtest//srad20110713.tif\n",
        "pathin\n",
        " E:\\Data\\WangKun@Mattijn\\outfolder\\2011\\NEWsrad_merge\\srad20110714.tif\n",
        "pathout\n"
       ]
      },
      {
       "output_type": "stream",
       "stream": "stdout",
       "text": [
        " E:\\Data\\WangKun@Mattijn\\outfolder\\2011_merge\\outtest//srad20110714.tif\n",
        "pathin\n",
        " E:\\Data\\WangKun@Mattijn\\outfolder\\2011\\NEWsrad_merge\\srad20110715.tif\n",
        "pathout\n"
       ]
      },
      {
       "output_type": "stream",
       "stream": "stdout",
       "text": [
        " E:\\Data\\WangKun@Mattijn\\outfolder\\2011_merge\\outtest//srad20110715.tif\n",
        "pathin\n",
        " E:\\Data\\WangKun@Mattijn\\outfolder\\2011\\NEWsrad_merge\\srad20110716.tif\n",
        "pathout\n"
       ]
      },
      {
       "output_type": "stream",
       "stream": "stdout",
       "text": [
        " E:\\Data\\WangKun@Mattijn\\outfolder\\2011_merge\\outtest//srad20110716.tif\n",
        "pathin\n",
        " E:\\Data\\WangKun@Mattijn\\outfolder\\2011\\NEWsrad_merge\\srad20110717.tif\n",
        "pathout\n"
       ]
      },
      {
       "output_type": "stream",
       "stream": "stdout",
       "text": [
        " E:\\Data\\WangKun@Mattijn\\outfolder\\2011_merge\\outtest//srad20110717.tif\n",
        "pathin\n",
        " E:\\Data\\WangKun@Mattijn\\outfolder\\2011\\NEWsrad_merge\\srad20110718.tif\n",
        "pathout\n"
       ]
      },
      {
       "output_type": "stream",
       "stream": "stdout",
       "text": [
        " E:\\Data\\WangKun@Mattijn\\outfolder\\2011_merge\\outtest//srad20110718.tif\n",
        "pathin\n",
        " E:\\Data\\WangKun@Mattijn\\outfolder\\2011\\NEWsrad_merge\\srad20110719.tif\n",
        "pathout\n"
       ]
      },
      {
       "output_type": "stream",
       "stream": "stdout",
       "text": [
        " E:\\Data\\WangKun@Mattijn\\outfolder\\2011_merge\\outtest//srad20110719.tif\n",
        "pathin\n",
        " E:\\Data\\WangKun@Mattijn\\outfolder\\2011\\NEWsrad_merge\\srad20110720.tif\n",
        "pathout\n"
       ]
      },
      {
       "output_type": "stream",
       "stream": "stdout",
       "text": [
        " E:\\Data\\WangKun@Mattijn\\outfolder\\2011_merge\\outtest//srad20110720.tif\n",
        "pathin\n",
        " E:\\Data\\WangKun@Mattijn\\outfolder\\2011\\NEWsrad_merge\\srad20110721.tif\n",
        "pathout\n"
       ]
      },
      {
       "output_type": "stream",
       "stream": "stdout",
       "text": [
        " E:\\Data\\WangKun@Mattijn\\outfolder\\2011_merge\\outtest//srad20110721.tif\n",
        "pathin\n",
        " E:\\Data\\WangKun@Mattijn\\outfolder\\2011\\NEWsrad_merge\\srad20110722.tif\n",
        "pathout\n"
       ]
      },
      {
       "output_type": "stream",
       "stream": "stdout",
       "text": [
        " E:\\Data\\WangKun@Mattijn\\outfolder\\2011_merge\\outtest//srad20110722.tif\n",
        "pathin\n",
        " E:\\Data\\WangKun@Mattijn\\outfolder\\2011\\NEWsrad_merge\\srad20110723.tif\n",
        "pathout\n"
       ]
      },
      {
       "output_type": "stream",
       "stream": "stdout",
       "text": [
        " E:\\Data\\WangKun@Mattijn\\outfolder\\2011_merge\\outtest//srad20110723.tif\n",
        "pathin\n",
        " E:\\Data\\WangKun@Mattijn\\outfolder\\2011\\NEWsrad_merge\\srad20110724.tif\n",
        "pathout\n"
       ]
      },
      {
       "output_type": "stream",
       "stream": "stdout",
       "text": [
        " E:\\Data\\WangKun@Mattijn\\outfolder\\2011_merge\\outtest//srad20110724.tif\n",
        "pathin\n",
        " E:\\Data\\WangKun@Mattijn\\outfolder\\2011\\NEWsrad_merge\\srad20110725.tif\n",
        "pathout\n"
       ]
      },
      {
       "output_type": "stream",
       "stream": "stdout",
       "text": [
        " E:\\Data\\WangKun@Mattijn\\outfolder\\2011_merge\\outtest//srad20110725.tif\n",
        "pathin\n",
        " E:\\Data\\WangKun@Mattijn\\outfolder\\2011\\NEWsrad_merge\\srad20110726.tif\n",
        "pathout\n"
       ]
      },
      {
       "output_type": "stream",
       "stream": "stdout",
       "text": [
        " E:\\Data\\WangKun@Mattijn\\outfolder\\2011_merge\\outtest//srad20110726.tif\n",
        "pathin\n",
        " E:\\Data\\WangKun@Mattijn\\outfolder\\2011\\NEWsrad_merge\\srad20110727.tif\n",
        "pathout\n"
       ]
      },
      {
       "output_type": "stream",
       "stream": "stdout",
       "text": [
        " E:\\Data\\WangKun@Mattijn\\outfolder\\2011_merge\\outtest//srad20110727.tif\n",
        "pathin\n",
        " E:\\Data\\WangKun@Mattijn\\outfolder\\2011\\NEWsrad_merge\\srad20110728.tif\n",
        "pathout\n"
       ]
      },
      {
       "output_type": "stream",
       "stream": "stdout",
       "text": [
        " E:\\Data\\WangKun@Mattijn\\outfolder\\2011_merge\\outtest//srad20110728.tif\n",
        "pathin\n",
        " E:\\Data\\WangKun@Mattijn\\outfolder\\2011\\NEWsrad_merge\\srad20110729.tif\n",
        "pathout\n"
       ]
      },
      {
       "output_type": "stream",
       "stream": "stdout",
       "text": [
        " E:\\Data\\WangKun@Mattijn\\outfolder\\2011_merge\\outtest//srad20110729.tif\n",
        "pathin\n",
        " E:\\Data\\WangKun@Mattijn\\outfolder\\2011\\NEWsrad_merge\\srad20110730.tif\n",
        "pathout\n"
       ]
      },
      {
       "output_type": "stream",
       "stream": "stdout",
       "text": [
        " E:\\Data\\WangKun@Mattijn\\outfolder\\2011_merge\\outtest//srad20110730.tif\n",
        "pathin\n",
        " E:\\Data\\WangKun@Mattijn\\outfolder\\2011\\NEWsrad_merge\\srad20110731.tif\n",
        "pathout\n"
       ]
      },
      {
       "output_type": "stream",
       "stream": "stdout",
       "text": [
        " E:\\Data\\WangKun@Mattijn\\outfolder\\2011_merge\\outtest//srad20110731.tif\n",
        "pathin\n",
        " E:\\Data\\WangKun@Mattijn\\outfolder\\2011\\NEWsrad_merge\\srad20110801.tif\n",
        "pathout\n"
       ]
      },
      {
       "output_type": "stream",
       "stream": "stdout",
       "text": [
        " E:\\Data\\WangKun@Mattijn\\outfolder\\2011_merge\\outtest//srad20110801.tif\n",
        "pathin\n",
        " E:\\Data\\WangKun@Mattijn\\outfolder\\2011\\NEWsrad_merge\\srad20110802.tif\n",
        "pathout\n"
       ]
      },
      {
       "output_type": "stream",
       "stream": "stdout",
       "text": [
        " E:\\Data\\WangKun@Mattijn\\outfolder\\2011_merge\\outtest//srad20110802.tif\n",
        "pathin\n",
        " E:\\Data\\WangKun@Mattijn\\outfolder\\2011\\NEWsrad_merge\\srad20110803.tif\n",
        "pathout\n"
       ]
      },
      {
       "output_type": "stream",
       "stream": "stdout",
       "text": [
        " E:\\Data\\WangKun@Mattijn\\outfolder\\2011_merge\\outtest//srad20110803.tif\n",
        "pathin\n",
        " E:\\Data\\WangKun@Mattijn\\outfolder\\2011\\NEWsrad_merge\\srad20110804.tif\n",
        "pathout\n"
       ]
      },
      {
       "output_type": "stream",
       "stream": "stdout",
       "text": [
        " E:\\Data\\WangKun@Mattijn\\outfolder\\2011_merge\\outtest//srad20110804.tif\n",
        "pathin\n",
        " E:\\Data\\WangKun@Mattijn\\outfolder\\2011\\NEWsrad_merge\\srad20110805.tif\n",
        "pathout\n"
       ]
      },
      {
       "output_type": "stream",
       "stream": "stdout",
       "text": [
        " E:\\Data\\WangKun@Mattijn\\outfolder\\2011_merge\\outtest//srad20110805.tif\n",
        "pathin\n",
        " E:\\Data\\WangKun@Mattijn\\outfolder\\2011\\NEWsrad_merge\\srad20110806.tif\n",
        "pathout\n"
       ]
      },
      {
       "output_type": "stream",
       "stream": "stdout",
       "text": [
        " E:\\Data\\WangKun@Mattijn\\outfolder\\2011_merge\\outtest//srad20110806.tif\n",
        "pathin\n",
        " E:\\Data\\WangKun@Mattijn\\outfolder\\2011\\NEWsrad_merge\\srad20110807.tif\n",
        "pathout\n"
       ]
      },
      {
       "output_type": "stream",
       "stream": "stdout",
       "text": [
        " E:\\Data\\WangKun@Mattijn\\outfolder\\2011_merge\\outtest//srad20110807.tif\n",
        "pathin\n",
        " E:\\Data\\WangKun@Mattijn\\outfolder\\2011\\NEWsrad_merge\\srad20110808.tif\n",
        "pathout\n"
       ]
      },
      {
       "output_type": "stream",
       "stream": "stdout",
       "text": [
        " E:\\Data\\WangKun@Mattijn\\outfolder\\2011_merge\\outtest//srad20110808.tif\n",
        "pathin\n",
        " E:\\Data\\WangKun@Mattijn\\outfolder\\2011\\NEWsrad_merge\\srad20110809.tif\n",
        "pathout\n"
       ]
      },
      {
       "output_type": "stream",
       "stream": "stdout",
       "text": [
        " E:\\Data\\WangKun@Mattijn\\outfolder\\2011_merge\\outtest//srad20110809.tif\n",
        "pathin\n",
        " E:\\Data\\WangKun@Mattijn\\outfolder\\2011\\NEWsrad_merge\\srad20110810.tif\n",
        "pathout\n"
       ]
      },
      {
       "output_type": "stream",
       "stream": "stdout",
       "text": [
        " E:\\Data\\WangKun@Mattijn\\outfolder\\2011_merge\\outtest//srad20110810.tif\n",
        "pathin\n",
        " E:\\Data\\WangKun@Mattijn\\outfolder\\2011\\NEWsrad_merge\\srad20110811.tif\n",
        "pathout\n"
       ]
      },
      {
       "output_type": "stream",
       "stream": "stdout",
       "text": [
        " E:\\Data\\WangKun@Mattijn\\outfolder\\2011_merge\\outtest//srad20110811.tif\n",
        "pathin\n",
        " E:\\Data\\WangKun@Mattijn\\outfolder\\2011\\NEWsrad_merge\\srad20110812.tif\n",
        "pathout\n"
       ]
      },
      {
       "output_type": "stream",
       "stream": "stdout",
       "text": [
        " E:\\Data\\WangKun@Mattijn\\outfolder\\2011_merge\\outtest//srad20110812.tif\n",
        "pathin\n",
        " E:\\Data\\WangKun@Mattijn\\outfolder\\2011\\NEWsrad_merge\\srad20110813.tif\n",
        "pathout\n"
       ]
      },
      {
       "output_type": "stream",
       "stream": "stdout",
       "text": [
        " E:\\Data\\WangKun@Mattijn\\outfolder\\2011_merge\\outtest//srad20110813.tif\n",
        "pathin\n",
        " E:\\Data\\WangKun@Mattijn\\outfolder\\2011\\NEWsrad_merge\\srad20110814.tif\n",
        "pathout\n"
       ]
      },
      {
       "output_type": "stream",
       "stream": "stdout",
       "text": [
        " E:\\Data\\WangKun@Mattijn\\outfolder\\2011_merge\\outtest//srad20110814.tif\n",
        "pathin\n",
        " E:\\Data\\WangKun@Mattijn\\outfolder\\2011\\NEWsrad_merge\\srad20110815.tif\n",
        "pathout\n"
       ]
      },
      {
       "output_type": "stream",
       "stream": "stdout",
       "text": [
        " E:\\Data\\WangKun@Mattijn\\outfolder\\2011_merge\\outtest//srad20110815.tif\n",
        "pathin\n",
        " E:\\Data\\WangKun@Mattijn\\outfolder\\2011\\NEWsrad_merge\\srad20110816.tif\n",
        "pathout\n"
       ]
      },
      {
       "output_type": "stream",
       "stream": "stdout",
       "text": [
        " E:\\Data\\WangKun@Mattijn\\outfolder\\2011_merge\\outtest//srad20110816.tif\n",
        "pathin\n",
        " E:\\Data\\WangKun@Mattijn\\outfolder\\2011\\NEWsrad_merge\\srad20110817.tif\n",
        "pathout\n"
       ]
      },
      {
       "output_type": "stream",
       "stream": "stdout",
       "text": [
        " E:\\Data\\WangKun@Mattijn\\outfolder\\2011_merge\\outtest//srad20110817.tif\n",
        "pathin\n",
        " E:\\Data\\WangKun@Mattijn\\outfolder\\2011\\NEWsrad_merge\\srad20110818.tif\n",
        "pathout\n"
       ]
      },
      {
       "output_type": "stream",
       "stream": "stdout",
       "text": [
        " E:\\Data\\WangKun@Mattijn\\outfolder\\2011_merge\\outtest//srad20110818.tif\n",
        "pathin\n",
        " E:\\Data\\WangKun@Mattijn\\outfolder\\2011\\NEWsrad_merge\\srad20110819.tif\n",
        "pathout\n"
       ]
      },
      {
       "output_type": "stream",
       "stream": "stdout",
       "text": [
        " E:\\Data\\WangKun@Mattijn\\outfolder\\2011_merge\\outtest//srad20110819.tif\n",
        "pathin\n",
        " E:\\Data\\WangKun@Mattijn\\outfolder\\2011\\NEWsrad_merge\\srad20110820.tif\n",
        "pathout\n"
       ]
      },
      {
       "output_type": "stream",
       "stream": "stdout",
       "text": [
        " E:\\Data\\WangKun@Mattijn\\outfolder\\2011_merge\\outtest//srad20110820.tif\n",
        "pathin\n",
        " E:\\Data\\WangKun@Mattijn\\outfolder\\2011\\NEWsrad_merge\\srad20110821.tif\n",
        "pathout\n"
       ]
      },
      {
       "output_type": "stream",
       "stream": "stdout",
       "text": [
        " E:\\Data\\WangKun@Mattijn\\outfolder\\2011_merge\\outtest//srad20110821.tif\n",
        "pathin\n",
        " E:\\Data\\WangKun@Mattijn\\outfolder\\2011\\NEWsrad_merge\\srad20110822.tif\n",
        "pathout\n"
       ]
      },
      {
       "output_type": "stream",
       "stream": "stdout",
       "text": [
        " E:\\Data\\WangKun@Mattijn\\outfolder\\2011_merge\\outtest//srad20110822.tif\n",
        "pathin\n",
        " E:\\Data\\WangKun@Mattijn\\outfolder\\2011\\NEWsrad_merge\\srad20110823.tif\n",
        "pathout\n"
       ]
      },
      {
       "output_type": "stream",
       "stream": "stdout",
       "text": [
        " E:\\Data\\WangKun@Mattijn\\outfolder\\2011_merge\\outtest//srad20110823.tif\n",
        "pathin\n",
        " E:\\Data\\WangKun@Mattijn\\outfolder\\2011\\NEWsrad_merge\\srad20110824.tif\n",
        "pathout\n"
       ]
      },
      {
       "output_type": "stream",
       "stream": "stdout",
       "text": [
        " E:\\Data\\WangKun@Mattijn\\outfolder\\2011_merge\\outtest//srad20110824.tif\n",
        "pathin\n",
        " E:\\Data\\WangKun@Mattijn\\outfolder\\2011\\NEWsrad_merge\\srad20110825.tif\n",
        "pathout\n"
       ]
      },
      {
       "output_type": "stream",
       "stream": "stdout",
       "text": [
        " E:\\Data\\WangKun@Mattijn\\outfolder\\2011_merge\\outtest//srad20110825.tif\n",
        "pathin\n",
        " E:\\Data\\WangKun@Mattijn\\outfolder\\2011\\NEWsrad_merge\\srad20110826.tif\n",
        "pathout\n"
       ]
      },
      {
       "output_type": "stream",
       "stream": "stdout",
       "text": [
        " E:\\Data\\WangKun@Mattijn\\outfolder\\2011_merge\\outtest//srad20110826.tif\n",
        "pathin\n",
        " E:\\Data\\WangKun@Mattijn\\outfolder\\2011\\NEWsrad_merge\\srad20110827.tif\n",
        "pathout\n"
       ]
      },
      {
       "output_type": "stream",
       "stream": "stdout",
       "text": [
        " E:\\Data\\WangKun@Mattijn\\outfolder\\2011_merge\\outtest//srad20110827.tif\n",
        "pathin\n",
        " E:\\Data\\WangKun@Mattijn\\outfolder\\2011\\NEWsrad_merge\\srad20110828.tif\n",
        "pathout\n"
       ]
      },
      {
       "output_type": "stream",
       "stream": "stdout",
       "text": [
        " E:\\Data\\WangKun@Mattijn\\outfolder\\2011_merge\\outtest//srad20110828.tif\n",
        "pathin\n",
        " E:\\Data\\WangKun@Mattijn\\outfolder\\2011\\NEWsrad_merge\\srad20110829.tif\n",
        "pathout\n"
       ]
      },
      {
       "output_type": "stream",
       "stream": "stdout",
       "text": [
        " E:\\Data\\WangKun@Mattijn\\outfolder\\2011_merge\\outtest//srad20110829.tif\n",
        "pathin\n",
        " E:\\Data\\WangKun@Mattijn\\outfolder\\2011\\NEWsrad_merge\\srad20110830.tif\n",
        "pathout\n"
       ]
      },
      {
       "output_type": "stream",
       "stream": "stdout",
       "text": [
        " E:\\Data\\WangKun@Mattijn\\outfolder\\2011_merge\\outtest//srad20110830.tif\n",
        "pathin\n",
        " E:\\Data\\WangKun@Mattijn\\outfolder\\2011\\NEWsrad_merge\\srad20110901.tif\n",
        "pathout\n"
       ]
      },
      {
       "output_type": "stream",
       "stream": "stdout",
       "text": [
        " E:\\Data\\WangKun@Mattijn\\outfolder\\2011_merge\\outtest//srad20110901.tif\n",
        "pathin\n",
        " E:\\Data\\WangKun@Mattijn\\outfolder\\2011\\NEWsrad_merge\\srad20110902.tif\n",
        "pathout\n"
       ]
      },
      {
       "output_type": "stream",
       "stream": "stdout",
       "text": [
        " E:\\Data\\WangKun@Mattijn\\outfolder\\2011_merge\\outtest//srad20110902.tif\n",
        "pathin\n",
        " E:\\Data\\WangKun@Mattijn\\outfolder\\2011\\NEWsrad_merge\\srad20110903.tif\n",
        "pathout\n"
       ]
      },
      {
       "output_type": "stream",
       "stream": "stdout",
       "text": [
        " E:\\Data\\WangKun@Mattijn\\outfolder\\2011_merge\\outtest//srad20110903.tif\n",
        "pathin\n",
        " E:\\Data\\WangKun@Mattijn\\outfolder\\2011\\NEWsrad_merge\\srad20110904.tif\n",
        "pathout\n"
       ]
      },
      {
       "output_type": "stream",
       "stream": "stdout",
       "text": [
        " E:\\Data\\WangKun@Mattijn\\outfolder\\2011_merge\\outtest//srad20110904.tif\n",
        "pathin\n",
        " E:\\Data\\WangKun@Mattijn\\outfolder\\2011\\NEWsrad_merge\\srad20110905.tif\n",
        "pathout\n"
       ]
      },
      {
       "output_type": "stream",
       "stream": "stdout",
       "text": [
        " E:\\Data\\WangKun@Mattijn\\outfolder\\2011_merge\\outtest//srad20110905.tif\n",
        "pathin\n",
        " E:\\Data\\WangKun@Mattijn\\outfolder\\2011\\NEWsrad_merge\\srad20110906.tif\n",
        "pathout\n"
       ]
      },
      {
       "output_type": "stream",
       "stream": "stdout",
       "text": [
        " E:\\Data\\WangKun@Mattijn\\outfolder\\2011_merge\\outtest//srad20110906.tif\n",
        "pathin\n",
        " E:\\Data\\WangKun@Mattijn\\outfolder\\2011\\NEWsrad_merge\\srad20110907.tif\n",
        "pathout\n"
       ]
      },
      {
       "output_type": "stream",
       "stream": "stdout",
       "text": [
        " E:\\Data\\WangKun@Mattijn\\outfolder\\2011_merge\\outtest//srad20110907.tif\n",
        "pathin\n",
        " E:\\Data\\WangKun@Mattijn\\outfolder\\2011\\NEWsrad_merge\\srad20110908.tif\n",
        "pathout\n"
       ]
      },
      {
       "output_type": "stream",
       "stream": "stdout",
       "text": [
        " E:\\Data\\WangKun@Mattijn\\outfolder\\2011_merge\\outtest//srad20110908.tif\n",
        "pathin\n",
        " E:\\Data\\WangKun@Mattijn\\outfolder\\2011\\NEWsrad_merge\\srad20110909.tif\n",
        "pathout\n"
       ]
      },
      {
       "output_type": "stream",
       "stream": "stdout",
       "text": [
        " E:\\Data\\WangKun@Mattijn\\outfolder\\2011_merge\\outtest//srad20110909.tif\n",
        "pathin\n",
        " E:\\Data\\WangKun@Mattijn\\outfolder\\2011\\NEWsrad_merge\\srad20110910.tif\n",
        "pathout\n"
       ]
      },
      {
       "output_type": "stream",
       "stream": "stdout",
       "text": [
        " E:\\Data\\WangKun@Mattijn\\outfolder\\2011_merge\\outtest//srad20110910.tif\n",
        "pathin\n",
        " E:\\Data\\WangKun@Mattijn\\outfolder\\2011\\NEWsrad_merge\\srad20110911.tif\n",
        "pathout\n"
       ]
      },
      {
       "output_type": "stream",
       "stream": "stdout",
       "text": [
        " E:\\Data\\WangKun@Mattijn\\outfolder\\2011_merge\\outtest//srad20110911.tif\n",
        "pathin\n",
        " E:\\Data\\WangKun@Mattijn\\outfolder\\2011\\NEWsrad_merge\\srad20110912.tif\n",
        "pathout\n"
       ]
      },
      {
       "output_type": "stream",
       "stream": "stdout",
       "text": [
        " E:\\Data\\WangKun@Mattijn\\outfolder\\2011_merge\\outtest//srad20110912.tif\n",
        "pathin\n",
        " E:\\Data\\WangKun@Mattijn\\outfolder\\2011\\NEWsrad_merge\\srad20110913.tif\n",
        "pathout\n"
       ]
      },
      {
       "output_type": "stream",
       "stream": "stdout",
       "text": [
        " E:\\Data\\WangKun@Mattijn\\outfolder\\2011_merge\\outtest//srad20110913.tif\n",
        "pathin\n",
        " E:\\Data\\WangKun@Mattijn\\outfolder\\2011\\NEWsrad_merge\\srad20110914.tif\n",
        "pathout\n"
       ]
      },
      {
       "output_type": "stream",
       "stream": "stdout",
       "text": [
        " E:\\Data\\WangKun@Mattijn\\outfolder\\2011_merge\\outtest//srad20110914.tif\n",
        "pathin\n",
        " E:\\Data\\WangKun@Mattijn\\outfolder\\2011\\NEWsrad_merge\\srad20110915.tif\n",
        "pathout\n"
       ]
      },
      {
       "output_type": "stream",
       "stream": "stdout",
       "text": [
        " E:\\Data\\WangKun@Mattijn\\outfolder\\2011_merge\\outtest//srad20110915.tif\n",
        "pathin\n",
        " E:\\Data\\WangKun@Mattijn\\outfolder\\2011\\NEWsrad_merge\\srad20110916.tif\n",
        "pathout\n"
       ]
      },
      {
       "output_type": "stream",
       "stream": "stdout",
       "text": [
        " E:\\Data\\WangKun@Mattijn\\outfolder\\2011_merge\\outtest//srad20110916.tif\n",
        "pathin\n",
        " E:\\Data\\WangKun@Mattijn\\outfolder\\2011\\NEWsrad_merge\\srad20110917.tif\n",
        "pathout\n"
       ]
      },
      {
       "output_type": "stream",
       "stream": "stdout",
       "text": [
        " E:\\Data\\WangKun@Mattijn\\outfolder\\2011_merge\\outtest//srad20110917.tif\n",
        "pathin\n",
        " E:\\Data\\WangKun@Mattijn\\outfolder\\2011\\NEWsrad_merge\\srad20110918.tif\n",
        "pathout\n"
       ]
      },
      {
       "output_type": "stream",
       "stream": "stdout",
       "text": [
        " E:\\Data\\WangKun@Mattijn\\outfolder\\2011_merge\\outtest//srad20110918.tif\n",
        "pathin\n",
        " E:\\Data\\WangKun@Mattijn\\outfolder\\2011\\NEWsrad_merge\\srad20110919.tif\n",
        "pathout\n"
       ]
      },
      {
       "output_type": "stream",
       "stream": "stdout",
       "text": [
        " E:\\Data\\WangKun@Mattijn\\outfolder\\2011_merge\\outtest//srad20110919.tif\n",
        "pathin\n",
        " E:\\Data\\WangKun@Mattijn\\outfolder\\2011\\NEWsrad_merge\\srad20110920.tif\n",
        "pathout\n"
       ]
      },
      {
       "output_type": "stream",
       "stream": "stdout",
       "text": [
        " E:\\Data\\WangKun@Mattijn\\outfolder\\2011_merge\\outtest//srad20110920.tif\n",
        "pathin\n",
        " E:\\Data\\WangKun@Mattijn\\outfolder\\2011\\NEWsrad_merge\\srad20110921.tif\n",
        "pathout\n"
       ]
      },
      {
       "output_type": "stream",
       "stream": "stdout",
       "text": [
        " E:\\Data\\WangKun@Mattijn\\outfolder\\2011_merge\\outtest//srad20110921.tif\n",
        "pathin\n",
        " E:\\Data\\WangKun@Mattijn\\outfolder\\2011\\NEWsrad_merge\\srad20110922.tif\n",
        "pathout\n"
       ]
      },
      {
       "output_type": "stream",
       "stream": "stdout",
       "text": [
        " E:\\Data\\WangKun@Mattijn\\outfolder\\2011_merge\\outtest//srad20110922.tif\n",
        "pathin\n",
        " E:\\Data\\WangKun@Mattijn\\outfolder\\2011\\NEWsrad_merge\\srad20110923.tif\n",
        "pathout\n"
       ]
      },
      {
       "output_type": "stream",
       "stream": "stdout",
       "text": [
        " E:\\Data\\WangKun@Mattijn\\outfolder\\2011_merge\\outtest//srad20110923.tif\n",
        "pathin\n",
        " E:\\Data\\WangKun@Mattijn\\outfolder\\2011\\NEWsrad_merge\\srad20110924.tif\n",
        "pathout\n"
       ]
      },
      {
       "output_type": "stream",
       "stream": "stdout",
       "text": [
        " E:\\Data\\WangKun@Mattijn\\outfolder\\2011_merge\\outtest//srad20110924.tif\n",
        "pathin\n",
        " E:\\Data\\WangKun@Mattijn\\outfolder\\2011\\NEWsrad_merge\\srad20110925.tif\n",
        "pathout\n"
       ]
      },
      {
       "output_type": "stream",
       "stream": "stdout",
       "text": [
        " E:\\Data\\WangKun@Mattijn\\outfolder\\2011_merge\\outtest//srad20110925.tif\n",
        "pathin\n",
        " E:\\Data\\WangKun@Mattijn\\outfolder\\2011\\NEWsrad_merge\\srad20110926.tif\n",
        "pathout\n"
       ]
      },
      {
       "output_type": "stream",
       "stream": "stdout",
       "text": [
        " E:\\Data\\WangKun@Mattijn\\outfolder\\2011_merge\\outtest//srad20110926.tif\n",
        "pathin\n",
        " E:\\Data\\WangKun@Mattijn\\outfolder\\2011\\NEWsrad_merge\\srad20110927.tif\n",
        "pathout\n"
       ]
      },
      {
       "output_type": "stream",
       "stream": "stdout",
       "text": [
        " E:\\Data\\WangKun@Mattijn\\outfolder\\2011_merge\\outtest//srad20110927.tif\n",
        "pathin\n",
        " E:\\Data\\WangKun@Mattijn\\outfolder\\2011\\NEWsrad_merge\\srad20110928.tif\n",
        "pathout\n"
       ]
      },
      {
       "output_type": "stream",
       "stream": "stdout",
       "text": [
        " E:\\Data\\WangKun@Mattijn\\outfolder\\2011_merge\\outtest//srad20110928.tif\n",
        "pathin\n",
        " E:\\Data\\WangKun@Mattijn\\outfolder\\2011\\NEWsrad_merge\\srad20110929.tif\n",
        "pathout\n"
       ]
      },
      {
       "output_type": "stream",
       "stream": "stdout",
       "text": [
        " E:\\Data\\WangKun@Mattijn\\outfolder\\2011_merge\\outtest//srad20110929.tif\n",
        "pathin\n",
        " E:\\Data\\WangKun@Mattijn\\outfolder\\2011\\NEWsrad_merge\\srad20110930.tif\n",
        "pathout\n"
       ]
      },
      {
       "output_type": "stream",
       "stream": "stdout",
       "text": [
        " E:\\Data\\WangKun@Mattijn\\outfolder\\2011_merge\\outtest//srad20110930.tif\n",
        "pathin\n",
        " E:\\Data\\WangKun@Mattijn\\outfolder\\2011\\NEWsrad_merge\\srad20111001.tif\n",
        "pathout\n"
       ]
      },
      {
       "output_type": "stream",
       "stream": "stdout",
       "text": [
        " E:\\Data\\WangKun@Mattijn\\outfolder\\2011_merge\\outtest//srad20111001.tif\n",
        "pathin\n",
        " E:\\Data\\WangKun@Mattijn\\outfolder\\2011\\NEWsrad_merge\\srad20111002.tif\n",
        "pathout\n"
       ]
      },
      {
       "output_type": "stream",
       "stream": "stdout",
       "text": [
        " E:\\Data\\WangKun@Mattijn\\outfolder\\2011_merge\\outtest//srad20111002.tif\n",
        "pathin\n",
        " E:\\Data\\WangKun@Mattijn\\outfolder\\2011\\NEWsrad_merge\\srad20111003.tif\n",
        "pathout\n"
       ]
      },
      {
       "output_type": "stream",
       "stream": "stdout",
       "text": [
        " E:\\Data\\WangKun@Mattijn\\outfolder\\2011_merge\\outtest//srad20111003.tif\n",
        "pathin\n",
        " E:\\Data\\WangKun@Mattijn\\outfolder\\2011\\NEWsrad_merge\\srad20111004.tif\n",
        "pathout\n"
       ]
      },
      {
       "output_type": "stream",
       "stream": "stdout",
       "text": [
        " E:\\Data\\WangKun@Mattijn\\outfolder\\2011_merge\\outtest//srad20111004.tif\n",
        "pathin\n",
        " E:\\Data\\WangKun@Mattijn\\outfolder\\2011\\NEWsrad_merge\\srad20111005.tif\n",
        "pathout\n"
       ]
      },
      {
       "output_type": "stream",
       "stream": "stdout",
       "text": [
        " E:\\Data\\WangKun@Mattijn\\outfolder\\2011_merge\\outtest//srad20111005.tif\n",
        "pathin\n",
        " E:\\Data\\WangKun@Mattijn\\outfolder\\2011\\NEWsrad_merge\\srad20111006.tif\n",
        "pathout\n"
       ]
      },
      {
       "output_type": "stream",
       "stream": "stdout",
       "text": [
        " E:\\Data\\WangKun@Mattijn\\outfolder\\2011_merge\\outtest//srad20111006.tif\n",
        "pathin\n",
        " E:\\Data\\WangKun@Mattijn\\outfolder\\2011\\NEWsrad_merge\\srad20111007.tif\n",
        "pathout\n"
       ]
      },
      {
       "output_type": "stream",
       "stream": "stdout",
       "text": [
        " E:\\Data\\WangKun@Mattijn\\outfolder\\2011_merge\\outtest//srad20111007.tif\n",
        "pathin\n",
        " E:\\Data\\WangKun@Mattijn\\outfolder\\2011\\NEWsrad_merge\\srad20111008.tif\n",
        "pathout\n"
       ]
      },
      {
       "output_type": "stream",
       "stream": "stdout",
       "text": [
        " E:\\Data\\WangKun@Mattijn\\outfolder\\2011_merge\\outtest//srad20111008.tif\n",
        "pathin\n",
        " E:\\Data\\WangKun@Mattijn\\outfolder\\2011\\NEWsrad_merge\\srad20111009.tif\n",
        "pathout\n"
       ]
      },
      {
       "output_type": "stream",
       "stream": "stdout",
       "text": [
        " E:\\Data\\WangKun@Mattijn\\outfolder\\2011_merge\\outtest//srad20111009.tif\n",
        "pathin\n",
        " E:\\Data\\WangKun@Mattijn\\outfolder\\2011\\NEWsrad_merge\\srad20111010.tif\n",
        "pathout\n"
       ]
      },
      {
       "output_type": "stream",
       "stream": "stdout",
       "text": [
        " E:\\Data\\WangKun@Mattijn\\outfolder\\2011_merge\\outtest//srad20111010.tif\n",
        "pathin\n",
        " E:\\Data\\WangKun@Mattijn\\outfolder\\2011\\NEWsrad_merge\\srad20111011.tif\n",
        "pathout\n"
       ]
      },
      {
       "output_type": "stream",
       "stream": "stdout",
       "text": [
        " E:\\Data\\WangKun@Mattijn\\outfolder\\2011_merge\\outtest//srad20111011.tif\n",
        "pathin\n",
        " E:\\Data\\WangKun@Mattijn\\outfolder\\2011\\NEWsrad_merge\\srad20111012.tif\n",
        "pathout\n"
       ]
      },
      {
       "output_type": "stream",
       "stream": "stdout",
       "text": [
        " E:\\Data\\WangKun@Mattijn\\outfolder\\2011_merge\\outtest//srad20111012.tif\n",
        "pathin\n",
        " E:\\Data\\WangKun@Mattijn\\outfolder\\2011\\NEWsrad_merge\\srad20111013.tif\n",
        "pathout\n"
       ]
      },
      {
       "output_type": "stream",
       "stream": "stdout",
       "text": [
        " E:\\Data\\WangKun@Mattijn\\outfolder\\2011_merge\\outtest//srad20111013.tif\n",
        "pathin\n",
        " E:\\Data\\WangKun@Mattijn\\outfolder\\2011\\NEWsrad_merge\\srad20111014.tif\n",
        "pathout\n"
       ]
      },
      {
       "output_type": "stream",
       "stream": "stdout",
       "text": [
        " E:\\Data\\WangKun@Mattijn\\outfolder\\2011_merge\\outtest//srad20111014.tif\n",
        "pathin\n",
        " E:\\Data\\WangKun@Mattijn\\outfolder\\2011\\NEWsrad_merge\\srad20111015.tif\n",
        "pathout\n"
       ]
      },
      {
       "output_type": "stream",
       "stream": "stdout",
       "text": [
        " E:\\Data\\WangKun@Mattijn\\outfolder\\2011_merge\\outtest//srad20111015.tif\n",
        "pathin\n",
        " E:\\Data\\WangKun@Mattijn\\outfolder\\2011\\NEWsrad_merge\\srad20111016.tif\n",
        "pathout\n"
       ]
      },
      {
       "output_type": "stream",
       "stream": "stdout",
       "text": [
        " E:\\Data\\WangKun@Mattijn\\outfolder\\2011_merge\\outtest//srad20111016.tif\n",
        "pathin\n",
        " E:\\Data\\WangKun@Mattijn\\outfolder\\2011\\NEWsrad_merge\\srad20111017.tif\n",
        "pathout\n"
       ]
      },
      {
       "output_type": "stream",
       "stream": "stdout",
       "text": [
        " E:\\Data\\WangKun@Mattijn\\outfolder\\2011_merge\\outtest//srad20111017.tif\n",
        "pathin\n",
        " E:\\Data\\WangKun@Mattijn\\outfolder\\2011\\NEWsrad_merge\\srad20111018.tif\n",
        "pathout\n"
       ]
      },
      {
       "output_type": "stream",
       "stream": "stdout",
       "text": [
        " E:\\Data\\WangKun@Mattijn\\outfolder\\2011_merge\\outtest//srad20111018.tif\n",
        "pathin\n",
        " E:\\Data\\WangKun@Mattijn\\outfolder\\2011\\NEWsrad_merge\\srad20111019.tif\n",
        "pathout\n"
       ]
      },
      {
       "output_type": "stream",
       "stream": "stdout",
       "text": [
        " E:\\Data\\WangKun@Mattijn\\outfolder\\2011_merge\\outtest//srad20111019.tif\n",
        "pathin\n",
        " E:\\Data\\WangKun@Mattijn\\outfolder\\2011\\NEWsrad_merge\\srad20111020.tif\n",
        "pathout\n"
       ]
      },
      {
       "output_type": "stream",
       "stream": "stdout",
       "text": [
        " E:\\Data\\WangKun@Mattijn\\outfolder\\2011_merge\\outtest//srad20111020.tif\n",
        "pathin\n",
        " E:\\Data\\WangKun@Mattijn\\outfolder\\2011\\NEWsrad_merge\\srad20111021.tif\n",
        "pathout\n"
       ]
      },
      {
       "output_type": "stream",
       "stream": "stdout",
       "text": [
        " E:\\Data\\WangKun@Mattijn\\outfolder\\2011_merge\\outtest//srad20111021.tif\n",
        "pathin\n",
        " E:\\Data\\WangKun@Mattijn\\outfolder\\2011\\NEWsrad_merge\\srad20111022.tif\n",
        "pathout\n"
       ]
      },
      {
       "output_type": "stream",
       "stream": "stdout",
       "text": [
        " E:\\Data\\WangKun@Mattijn\\outfolder\\2011_merge\\outtest//srad20111022.tif\n",
        "pathin\n",
        " E:\\Data\\WangKun@Mattijn\\outfolder\\2011\\NEWsrad_merge\\srad20111023.tif\n",
        "pathout\n"
       ]
      },
      {
       "output_type": "stream",
       "stream": "stdout",
       "text": [
        " E:\\Data\\WangKun@Mattijn\\outfolder\\2011_merge\\outtest//srad20111023.tif\n",
        "pathin\n",
        " E:\\Data\\WangKun@Mattijn\\outfolder\\2011\\NEWsrad_merge\\srad20111024.tif\n",
        "pathout\n"
       ]
      },
      {
       "output_type": "stream",
       "stream": "stdout",
       "text": [
        " E:\\Data\\WangKun@Mattijn\\outfolder\\2011_merge\\outtest//srad20111024.tif\n",
        "pathin\n",
        " E:\\Data\\WangKun@Mattijn\\outfolder\\2011\\NEWsrad_merge\\srad20111025.tif\n",
        "pathout\n"
       ]
      },
      {
       "output_type": "stream",
       "stream": "stdout",
       "text": [
        " E:\\Data\\WangKun@Mattijn\\outfolder\\2011_merge\\outtest//srad20111025.tif\n",
        "pathin\n",
        " E:\\Data\\WangKun@Mattijn\\outfolder\\2011\\NEWsrad_merge\\srad20111026.tif\n",
        "pathout\n"
       ]
      },
      {
       "output_type": "stream",
       "stream": "stdout",
       "text": [
        " E:\\Data\\WangKun@Mattijn\\outfolder\\2011_merge\\outtest//srad20111026.tif\n",
        "pathin\n",
        " E:\\Data\\WangKun@Mattijn\\outfolder\\2011\\NEWsrad_merge\\srad20111027.tif\n",
        "pathout\n"
       ]
      },
      {
       "output_type": "stream",
       "stream": "stdout",
       "text": [
        " E:\\Data\\WangKun@Mattijn\\outfolder\\2011_merge\\outtest//srad20111027.tif\n",
        "pathin\n",
        " E:\\Data\\WangKun@Mattijn\\outfolder\\2011\\NEWsrad_merge\\srad20111028.tif\n",
        "pathout\n"
       ]
      },
      {
       "output_type": "stream",
       "stream": "stdout",
       "text": [
        " E:\\Data\\WangKun@Mattijn\\outfolder\\2011_merge\\outtest//srad20111028.tif\n",
        "pathin\n",
        " E:\\Data\\WangKun@Mattijn\\outfolder\\2011\\NEWsrad_merge\\srad20111029.tif\n",
        "pathout\n"
       ]
      },
      {
       "output_type": "stream",
       "stream": "stdout",
       "text": [
        " E:\\Data\\WangKun@Mattijn\\outfolder\\2011_merge\\outtest//srad20111029.tif\n",
        "pathin\n",
        " E:\\Data\\WangKun@Mattijn\\outfolder\\2011\\NEWsrad_merge\\srad20111030.tif\n",
        "pathout\n"
       ]
      },
      {
       "output_type": "stream",
       "stream": "stdout",
       "text": [
        " E:\\Data\\WangKun@Mattijn\\outfolder\\2011_merge\\outtest//srad20111030.tif\n",
        "pathin\n",
        " E:\\Data\\WangKun@Mattijn\\outfolder\\2011\\NEWsrad_merge\\srad20111031.tif\n",
        "pathout\n"
       ]
      },
      {
       "output_type": "stream",
       "stream": "stdout",
       "text": [
        " E:\\Data\\WangKun@Mattijn\\outfolder\\2011_merge\\outtest//srad20111031.tif\n",
        "pathin\n",
        " E:\\Data\\WangKun@Mattijn\\outfolder\\2011\\NEWsrad_merge\\srad20111101.tif\n",
        "pathout\n"
       ]
      },
      {
       "output_type": "stream",
       "stream": "stdout",
       "text": [
        " E:\\Data\\WangKun@Mattijn\\outfolder\\2011_merge\\outtest//srad20111101.tif\n",
        "pathin\n",
        " E:\\Data\\WangKun@Mattijn\\outfolder\\2011\\NEWsrad_merge\\srad20111102.tif\n",
        "pathout\n"
       ]
      },
      {
       "output_type": "stream",
       "stream": "stdout",
       "text": [
        " E:\\Data\\WangKun@Mattijn\\outfolder\\2011_merge\\outtest//srad20111102.tif\n",
        "pathin\n",
        " E:\\Data\\WangKun@Mattijn\\outfolder\\2011\\NEWsrad_merge\\srad20111103.tif\n",
        "pathout\n"
       ]
      },
      {
       "output_type": "stream",
       "stream": "stdout",
       "text": [
        " E:\\Data\\WangKun@Mattijn\\outfolder\\2011_merge\\outtest//srad20111103.tif\n",
        "pathin\n",
        " E:\\Data\\WangKun@Mattijn\\outfolder\\2011\\NEWsrad_merge\\srad20111104.tif\n",
        "pathout\n"
       ]
      },
      {
       "output_type": "stream",
       "stream": "stdout",
       "text": [
        " E:\\Data\\WangKun@Mattijn\\outfolder\\2011_merge\\outtest//srad20111104.tif\n",
        "pathin\n",
        " E:\\Data\\WangKun@Mattijn\\outfolder\\2011\\NEWsrad_merge\\srad20111105.tif\n",
        "pathout\n"
       ]
      },
      {
       "output_type": "stream",
       "stream": "stdout",
       "text": [
        " E:\\Data\\WangKun@Mattijn\\outfolder\\2011_merge\\outtest//srad20111105.tif\n",
        "pathin\n",
        " E:\\Data\\WangKun@Mattijn\\outfolder\\2011\\NEWsrad_merge\\srad20111106.tif\n",
        "pathout\n"
       ]
      },
      {
       "output_type": "stream",
       "stream": "stdout",
       "text": [
        " E:\\Data\\WangKun@Mattijn\\outfolder\\2011_merge\\outtest//srad20111106.tif\n",
        "pathin\n",
        " E:\\Data\\WangKun@Mattijn\\outfolder\\2011\\NEWsrad_merge\\srad20111107.tif\n",
        "pathout\n"
       ]
      },
      {
       "output_type": "stream",
       "stream": "stdout",
       "text": [
        " E:\\Data\\WangKun@Mattijn\\outfolder\\2011_merge\\outtest//srad20111107.tif\n",
        "pathin\n",
        " E:\\Data\\WangKun@Mattijn\\outfolder\\2011\\NEWsrad_merge\\srad20111108.tif\n",
        "pathout\n"
       ]
      },
      {
       "output_type": "stream",
       "stream": "stdout",
       "text": [
        " E:\\Data\\WangKun@Mattijn\\outfolder\\2011_merge\\outtest//srad20111108.tif\n",
        "pathin\n",
        " E:\\Data\\WangKun@Mattijn\\outfolder\\2011\\NEWsrad_merge\\srad20111109.tif\n",
        "pathout\n"
       ]
      },
      {
       "output_type": "stream",
       "stream": "stdout",
       "text": [
        " E:\\Data\\WangKun@Mattijn\\outfolder\\2011_merge\\outtest//srad20111109.tif\n",
        "pathin\n",
        " E:\\Data\\WangKun@Mattijn\\outfolder\\2011\\NEWsrad_merge\\srad20111110.tif\n",
        "pathout\n"
       ]
      },
      {
       "output_type": "stream",
       "stream": "stdout",
       "text": [
        " E:\\Data\\WangKun@Mattijn\\outfolder\\2011_merge\\outtest//srad20111110.tif\n",
        "pathin\n",
        " E:\\Data\\WangKun@Mattijn\\outfolder\\2011\\NEWsrad_merge\\srad20111111.tif\n",
        "pathout\n"
       ]
      },
      {
       "output_type": "stream",
       "stream": "stdout",
       "text": [
        " E:\\Data\\WangKun@Mattijn\\outfolder\\2011_merge\\outtest//srad20111111.tif\n",
        "pathin\n",
        " E:\\Data\\WangKun@Mattijn\\outfolder\\2011\\NEWsrad_merge\\srad20111112.tif\n",
        "pathout\n"
       ]
      },
      {
       "output_type": "stream",
       "stream": "stdout",
       "text": [
        " E:\\Data\\WangKun@Mattijn\\outfolder\\2011_merge\\outtest//srad20111112.tif\n",
        "pathin\n",
        " E:\\Data\\WangKun@Mattijn\\outfolder\\2011\\NEWsrad_merge\\srad20111113.tif\n",
        "pathout\n"
       ]
      },
      {
       "output_type": "stream",
       "stream": "stdout",
       "text": [
        " E:\\Data\\WangKun@Mattijn\\outfolder\\2011_merge\\outtest//srad20111113.tif\n",
        "pathin\n",
        " E:\\Data\\WangKun@Mattijn\\outfolder\\2011\\NEWsrad_merge\\srad20111114.tif\n",
        "pathout\n"
       ]
      },
      {
       "output_type": "stream",
       "stream": "stdout",
       "text": [
        " E:\\Data\\WangKun@Mattijn\\outfolder\\2011_merge\\outtest//srad20111114.tif\n",
        "pathin\n",
        " E:\\Data\\WangKun@Mattijn\\outfolder\\2011\\NEWsrad_merge\\srad20111115.tif\n",
        "pathout\n"
       ]
      },
      {
       "output_type": "stream",
       "stream": "stdout",
       "text": [
        " E:\\Data\\WangKun@Mattijn\\outfolder\\2011_merge\\outtest//srad20111115.tif\n",
        "pathin\n",
        " E:\\Data\\WangKun@Mattijn\\outfolder\\2011\\NEWsrad_merge\\srad20111116.tif\n",
        "pathout\n"
       ]
      },
      {
       "output_type": "stream",
       "stream": "stdout",
       "text": [
        " E:\\Data\\WangKun@Mattijn\\outfolder\\2011_merge\\outtest//srad20111116.tif\n",
        "pathin\n",
        " E:\\Data\\WangKun@Mattijn\\outfolder\\2011\\NEWsrad_merge\\srad20111117.tif\n",
        "pathout\n"
       ]
      },
      {
       "output_type": "stream",
       "stream": "stdout",
       "text": [
        " E:\\Data\\WangKun@Mattijn\\outfolder\\2011_merge\\outtest//srad20111117.tif\n",
        "pathin\n",
        " E:\\Data\\WangKun@Mattijn\\outfolder\\2011\\NEWsrad_merge\\srad20111118.tif\n",
        "pathout\n"
       ]
      },
      {
       "output_type": "stream",
       "stream": "stdout",
       "text": [
        " E:\\Data\\WangKun@Mattijn\\outfolder\\2011_merge\\outtest//srad20111118.tif\n",
        "pathin\n",
        " E:\\Data\\WangKun@Mattijn\\outfolder\\2011\\NEWsrad_merge\\srad20111119.tif\n",
        "pathout\n"
       ]
      },
      {
       "output_type": "stream",
       "stream": "stdout",
       "text": [
        " E:\\Data\\WangKun@Mattijn\\outfolder\\2011_merge\\outtest//srad20111119.tif\n",
        "pathin\n",
        " E:\\Data\\WangKun@Mattijn\\outfolder\\2011\\NEWsrad_merge\\srad20111120.tif\n",
        "pathout\n"
       ]
      },
      {
       "output_type": "stream",
       "stream": "stdout",
       "text": [
        " E:\\Data\\WangKun@Mattijn\\outfolder\\2011_merge\\outtest//srad20111120.tif\n",
        "pathin\n",
        " E:\\Data\\WangKun@Mattijn\\outfolder\\2011\\NEWsrad_merge\\srad20111121.tif\n",
        "pathout\n"
       ]
      },
      {
       "output_type": "stream",
       "stream": "stdout",
       "text": [
        " E:\\Data\\WangKun@Mattijn\\outfolder\\2011_merge\\outtest//srad20111121.tif\n",
        "pathin\n",
        " E:\\Data\\WangKun@Mattijn\\outfolder\\2011\\NEWsrad_merge\\srad20111122.tif\n",
        "pathout\n"
       ]
      },
      {
       "output_type": "stream",
       "stream": "stdout",
       "text": [
        " E:\\Data\\WangKun@Mattijn\\outfolder\\2011_merge\\outtest//srad20111122.tif\n",
        "pathin\n",
        " E:\\Data\\WangKun@Mattijn\\outfolder\\2011\\NEWsrad_merge\\srad20111123.tif\n",
        "pathout\n"
       ]
      },
      {
       "output_type": "stream",
       "stream": "stdout",
       "text": [
        " E:\\Data\\WangKun@Mattijn\\outfolder\\2011_merge\\outtest//srad20111123.tif\n",
        "pathin\n",
        " E:\\Data\\WangKun@Mattijn\\outfolder\\2011\\NEWsrad_merge\\srad20111124.tif\n",
        "pathout\n"
       ]
      },
      {
       "output_type": "stream",
       "stream": "stdout",
       "text": [
        " E:\\Data\\WangKun@Mattijn\\outfolder\\2011_merge\\outtest//srad20111124.tif\n",
        "pathin\n",
        " E:\\Data\\WangKun@Mattijn\\outfolder\\2011\\NEWsrad_merge\\srad20111125.tif\n",
        "pathout\n"
       ]
      },
      {
       "output_type": "stream",
       "stream": "stdout",
       "text": [
        " E:\\Data\\WangKun@Mattijn\\outfolder\\2011_merge\\outtest//srad20111125.tif\n",
        "pathin\n",
        " E:\\Data\\WangKun@Mattijn\\outfolder\\2011\\NEWsrad_merge\\srad20111126.tif\n",
        "pathout\n"
       ]
      },
      {
       "output_type": "stream",
       "stream": "stdout",
       "text": [
        " E:\\Data\\WangKun@Mattijn\\outfolder\\2011_merge\\outtest//srad20111126.tif\n",
        "pathin\n",
        " E:\\Data\\WangKun@Mattijn\\outfolder\\2011\\NEWsrad_merge\\srad20111127.tif\n",
        "pathout\n"
       ]
      },
      {
       "output_type": "stream",
       "stream": "stdout",
       "text": [
        " E:\\Data\\WangKun@Mattijn\\outfolder\\2011_merge\\outtest//srad20111127.tif\n",
        "pathin\n",
        " E:\\Data\\WangKun@Mattijn\\outfolder\\2011\\NEWsrad_merge\\srad20111128.tif\n",
        "pathout\n"
       ]
      },
      {
       "output_type": "stream",
       "stream": "stdout",
       "text": [
        " E:\\Data\\WangKun@Mattijn\\outfolder\\2011_merge\\outtest//srad20111128.tif\n",
        "pathin\n",
        " E:\\Data\\WangKun@Mattijn\\outfolder\\2011\\NEWsrad_merge\\srad20111129.tif\n",
        "pathout\n"
       ]
      },
      {
       "output_type": "stream",
       "stream": "stdout",
       "text": [
        " E:\\Data\\WangKun@Mattijn\\outfolder\\2011_merge\\outtest//srad20111129.tif\n",
        "pathin\n",
        " E:\\Data\\WangKun@Mattijn\\outfolder\\2011\\NEWsrad_merge\\srad20111130.tif\n",
        "pathout\n"
       ]
      },
      {
       "output_type": "stream",
       "stream": "stdout",
       "text": [
        " E:\\Data\\WangKun@Mattijn\\outfolder\\2011_merge\\outtest//srad20111130.tif\n",
        "pathin\n",
        " E:\\Data\\WangKun@Mattijn\\outfolder\\2011\\NEWsrad_merge\\srad20111201.tif\n",
        "pathout\n"
       ]
      },
      {
       "output_type": "stream",
       "stream": "stdout",
       "text": [
        " E:\\Data\\WangKun@Mattijn\\outfolder\\2011_merge\\outtest//srad20111201.tif\n",
        "pathin\n",
        " E:\\Data\\WangKun@Mattijn\\outfolder\\2011\\NEWsrad_merge\\srad20111202.tif\n",
        "pathout\n"
       ]
      },
      {
       "output_type": "stream",
       "stream": "stdout",
       "text": [
        " E:\\Data\\WangKun@Mattijn\\outfolder\\2011_merge\\outtest//srad20111202.tif\n",
        "pathin\n",
        " E:\\Data\\WangKun@Mattijn\\outfolder\\2011\\NEWsrad_merge\\srad20111203.tif\n",
        "pathout\n"
       ]
      },
      {
       "output_type": "stream",
       "stream": "stdout",
       "text": [
        " E:\\Data\\WangKun@Mattijn\\outfolder\\2011_merge\\outtest//srad20111203.tif\n",
        "pathin\n",
        " E:\\Data\\WangKun@Mattijn\\outfolder\\2011\\NEWsrad_merge\\srad20111204.tif\n",
        "pathout\n"
       ]
      },
      {
       "output_type": "stream",
       "stream": "stdout",
       "text": [
        " E:\\Data\\WangKun@Mattijn\\outfolder\\2011_merge\\outtest//srad20111204.tif\n",
        "pathin\n",
        " E:\\Data\\WangKun@Mattijn\\outfolder\\2011\\NEWsrad_merge\\srad20111205.tif\n",
        "pathout\n"
       ]
      },
      {
       "output_type": "stream",
       "stream": "stdout",
       "text": [
        " E:\\Data\\WangKun@Mattijn\\outfolder\\2011_merge\\outtest//srad20111205.tif\n",
        "pathin\n",
        " E:\\Data\\WangKun@Mattijn\\outfolder\\2011\\NEWsrad_merge\\srad20111206.tif\n",
        "pathout\n"
       ]
      },
      {
       "output_type": "stream",
       "stream": "stdout",
       "text": [
        " E:\\Data\\WangKun@Mattijn\\outfolder\\2011_merge\\outtest//srad20111206.tif\n",
        "pathin\n",
        " E:\\Data\\WangKun@Mattijn\\outfolder\\2011\\NEWsrad_merge\\srad20111207.tif\n",
        "pathout\n"
       ]
      },
      {
       "output_type": "stream",
       "stream": "stdout",
       "text": [
        " E:\\Data\\WangKun@Mattijn\\outfolder\\2011_merge\\outtest//srad20111207.tif\n",
        "pathin\n",
        " E:\\Data\\WangKun@Mattijn\\outfolder\\2011\\NEWsrad_merge\\srad20111208.tif\n",
        "pathout\n"
       ]
      },
      {
       "output_type": "stream",
       "stream": "stdout",
       "text": [
        " E:\\Data\\WangKun@Mattijn\\outfolder\\2011_merge\\outtest//srad20111208.tif\n",
        "pathin\n",
        " E:\\Data\\WangKun@Mattijn\\outfolder\\2011\\NEWsrad_merge\\srad20111209.tif\n",
        "pathout\n"
       ]
      },
      {
       "output_type": "stream",
       "stream": "stdout",
       "text": [
        " E:\\Data\\WangKun@Mattijn\\outfolder\\2011_merge\\outtest//srad20111209.tif\n",
        "pathin\n",
        " E:\\Data\\WangKun@Mattijn\\outfolder\\2011\\NEWsrad_merge\\srad20111210.tif\n",
        "pathout\n"
       ]
      },
      {
       "output_type": "stream",
       "stream": "stdout",
       "text": [
        " E:\\Data\\WangKun@Mattijn\\outfolder\\2011_merge\\outtest//srad20111210.tif\n",
        "pathin\n",
        " E:\\Data\\WangKun@Mattijn\\outfolder\\2011\\NEWsrad_merge\\srad20111211.tif\n",
        "pathout\n"
       ]
      },
      {
       "output_type": "stream",
       "stream": "stdout",
       "text": [
        " E:\\Data\\WangKun@Mattijn\\outfolder\\2011_merge\\outtest//srad20111211.tif\n",
        "pathin\n",
        " E:\\Data\\WangKun@Mattijn\\outfolder\\2011\\NEWsrad_merge\\srad20111212.tif\n",
        "pathout\n"
       ]
      },
      {
       "output_type": "stream",
       "stream": "stdout",
       "text": [
        " E:\\Data\\WangKun@Mattijn\\outfolder\\2011_merge\\outtest//srad20111212.tif\n",
        "pathin\n",
        " E:\\Data\\WangKun@Mattijn\\outfolder\\2011\\NEWsrad_merge\\srad20111213.tif\n",
        "pathout\n"
       ]
      },
      {
       "output_type": "stream",
       "stream": "stdout",
       "text": [
        " E:\\Data\\WangKun@Mattijn\\outfolder\\2011_merge\\outtest//srad20111213.tif\n",
        "pathin\n",
        " E:\\Data\\WangKun@Mattijn\\outfolder\\2011\\NEWsrad_merge\\srad20111214.tif\n",
        "pathout\n"
       ]
      },
      {
       "output_type": "stream",
       "stream": "stdout",
       "text": [
        " E:\\Data\\WangKun@Mattijn\\outfolder\\2011_merge\\outtest//srad20111214.tif\n",
        "pathin\n",
        " E:\\Data\\WangKun@Mattijn\\outfolder\\2011\\NEWsrad_merge\\srad20111215.tif\n",
        "pathout\n"
       ]
      },
      {
       "output_type": "stream",
       "stream": "stdout",
       "text": [
        " E:\\Data\\WangKun@Mattijn\\outfolder\\2011_merge\\outtest//srad20111215.tif\n",
        "pathin\n",
        " E:\\Data\\WangKun@Mattijn\\outfolder\\2011\\NEWsrad_merge\\srad20111216.tif\n",
        "pathout\n"
       ]
      },
      {
       "output_type": "stream",
       "stream": "stdout",
       "text": [
        " E:\\Data\\WangKun@Mattijn\\outfolder\\2011_merge\\outtest//srad20111216.tif\n",
        "pathin\n",
        " E:\\Data\\WangKun@Mattijn\\outfolder\\2011\\NEWsrad_merge\\srad20111217.tif\n",
        "pathout\n"
       ]
      },
      {
       "output_type": "stream",
       "stream": "stdout",
       "text": [
        " E:\\Data\\WangKun@Mattijn\\outfolder\\2011_merge\\outtest//srad20111217.tif\n",
        "pathin\n",
        " E:\\Data\\WangKun@Mattijn\\outfolder\\2011\\NEWsrad_merge\\srad20111218.tif\n",
        "pathout\n"
       ]
      },
      {
       "output_type": "stream",
       "stream": "stdout",
       "text": [
        " E:\\Data\\WangKun@Mattijn\\outfolder\\2011_merge\\outtest//srad20111218.tif\n",
        "pathin\n",
        " E:\\Data\\WangKun@Mattijn\\outfolder\\2011\\NEWsrad_merge\\srad20111219.tif\n",
        "pathout\n"
       ]
      },
      {
       "output_type": "stream",
       "stream": "stdout",
       "text": [
        " E:\\Data\\WangKun@Mattijn\\outfolder\\2011_merge\\outtest//srad20111219.tif\n",
        "pathin\n",
        " E:\\Data\\WangKun@Mattijn\\outfolder\\2011\\NEWsrad_merge\\srad20111220.tif\n",
        "pathout\n"
       ]
      },
      {
       "output_type": "stream",
       "stream": "stdout",
       "text": [
        " E:\\Data\\WangKun@Mattijn\\outfolder\\2011_merge\\outtest//srad20111220.tif\n",
        "pathin\n",
        " E:\\Data\\WangKun@Mattijn\\outfolder\\2011\\NEWsrad_merge\\srad20111221.tif\n",
        "pathout\n"
       ]
      },
      {
       "output_type": "stream",
       "stream": "stdout",
       "text": [
        " E:\\Data\\WangKun@Mattijn\\outfolder\\2011_merge\\outtest//srad20111221.tif\n",
        "pathin\n",
        " E:\\Data\\WangKun@Mattijn\\outfolder\\2011\\NEWsrad_merge\\srad20111222.tif\n",
        "pathout\n"
       ]
      },
      {
       "output_type": "stream",
       "stream": "stdout",
       "text": [
        " E:\\Data\\WangKun@Mattijn\\outfolder\\2011_merge\\outtest//srad20111222.tif\n",
        "pathin\n",
        " E:\\Data\\WangKun@Mattijn\\outfolder\\2011\\NEWsrad_merge\\srad20111223.tif\n",
        "pathout\n"
       ]
      },
      {
       "output_type": "stream",
       "stream": "stdout",
       "text": [
        " E:\\Data\\WangKun@Mattijn\\outfolder\\2011_merge\\outtest//srad20111223.tif\n",
        "pathin\n",
        " E:\\Data\\WangKun@Mattijn\\outfolder\\2011\\NEWsrad_merge\\srad20111224.tif\n",
        "pathout\n"
       ]
      },
      {
       "output_type": "stream",
       "stream": "stdout",
       "text": [
        " E:\\Data\\WangKun@Mattijn\\outfolder\\2011_merge\\outtest//srad20111224.tif\n",
        "pathin\n",
        " E:\\Data\\WangKun@Mattijn\\outfolder\\2011\\NEWsrad_merge\\srad20111225.tif\n",
        "pathout\n"
       ]
      },
      {
       "output_type": "stream",
       "stream": "stdout",
       "text": [
        " E:\\Data\\WangKun@Mattijn\\outfolder\\2011_merge\\outtest//srad20111225.tif\n",
        "pathin\n",
        " E:\\Data\\WangKun@Mattijn\\outfolder\\2011\\NEWsrad_merge\\srad20111226.tif\n",
        "pathout\n"
       ]
      },
      {
       "output_type": "stream",
       "stream": "stdout",
       "text": [
        " E:\\Data\\WangKun@Mattijn\\outfolder\\2011_merge\\outtest//srad20111226.tif\n",
        "pathin\n",
        " E:\\Data\\WangKun@Mattijn\\outfolder\\2011\\NEWsrad_merge\\srad20111227.tif\n",
        "pathout\n"
       ]
      },
      {
       "output_type": "stream",
       "stream": "stdout",
       "text": [
        " E:\\Data\\WangKun@Mattijn\\outfolder\\2011_merge\\outtest//srad20111227.tif\n",
        "pathin\n",
        " E:\\Data\\WangKun@Mattijn\\outfolder\\2011\\NEWsrad_merge\\srad20111228.tif\n",
        "pathout\n"
       ]
      },
      {
       "output_type": "stream",
       "stream": "stdout",
       "text": [
        " E:\\Data\\WangKun@Mattijn\\outfolder\\2011_merge\\outtest//srad20111228.tif\n",
        "pathin\n",
        " E:\\Data\\WangKun@Mattijn\\outfolder\\2011\\NEWsrad_merge\\srad20111229.tif\n",
        "pathout\n"
       ]
      },
      {
       "output_type": "stream",
       "stream": "stdout",
       "text": [
        " E:\\Data\\WangKun@Mattijn\\outfolder\\2011_merge\\outtest//srad20111229.tif\n",
        "pathin\n",
        " E:\\Data\\WangKun@Mattijn\\outfolder\\2011\\NEWsrad_merge\\srad20111230.tif\n",
        "pathout\n"
       ]
      },
      {
       "output_type": "stream",
       "stream": "stdout",
       "text": [
        " E:\\Data\\WangKun@Mattijn\\outfolder\\2011_merge\\outtest//srad20111230.tif\n",
        "pathin\n",
        " E:\\Data\\WangKun@Mattijn\\outfolder\\2011\\NEWsrad_merge\\srad20111231.tif\n",
        "pathout\n"
       ]
      },
      {
       "output_type": "stream",
       "stream": "stdout",
       "text": [
        " E:\\Data\\WangKun@Mattijn\\outfolder\\2011_merge\\outtest//srad20111231.tif\n"
       ]
      },
      {
       "output_type": "stream",
       "stream": "stderr",
       "text": [
        "Exception KeyboardInterrupt in <bound method Dataset.<lambda> of <osgeo.gdal.Dataset; proxy of <Swig Object of type 'GDALDatasetShadow *' at 0x0000000007280E70> >> ignored\n"
       ]
      }
     ],
     "prompt_number": 3
    },
    {
     "cell_type": "code",
     "collapsed": false,
     "input": [
      "src_geotrans"
     ],
     "language": "python",
     "metadata": {},
     "outputs": [
      {
       "metadata": {},
       "output_type": "pyout",
       "prompt_number": 35,
       "text": [
        "(1850000.0, 5000.0, 0.0, 3387000.0, 0.0, -5000.0)"
       ]
      }
     ],
     "prompt_number": 35
    },
    {
     "cell_type": "code",
     "collapsed": false,
     "input": [],
     "language": "python",
     "metadata": {},
     "outputs": [],
     "prompt_number": 16
    },
    {
     "cell_type": "code",
     "collapsed": false,
     "input": [
      "match_proj"
     ],
     "language": "python",
     "metadata": {},
     "outputs": [
      {
       "metadata": {},
       "output_type": "pyout",
       "prompt_number": 23,
       "text": [
        "'GEOGCS[\"GCS_WGS_1984\",DATUM[\"WGS_1984\",SPHEROID[\"WGS_84\",6378137.0,298.257223563]],PRIMEM[\"Greenwich\",0.0],UNIT[\"degree\",0.0174532925199433]]'"
       ]
      }
     ],
     "prompt_number": 23
    },
    {
     "cell_type": "code",
     "collapsed": false,
     "input": [],
     "language": "python",
     "metadata": {},
     "outputs": [
      {
       "metadata": {},
       "output_type": "pyout",
       "prompt_number": 24,
       "text": [
        "0"
       ]
      }
     ],
     "prompt_number": 24
    },
    {
     "cell_type": "code",
     "collapsed": false,
     "input": [
      "match_proj"
     ],
     "language": "python",
     "metadata": {},
     "outputs": [
      {
       "metadata": {},
       "output_type": "pyout",
       "prompt_number": 31,
       "text": [
        "'GEOGCS[\"GCS_WGS_1984\",DATUM[\"WGS_1984\",SPHEROID[\"WGS_84\",6378137.0,298.257223563]],PRIMEM[\"Greenwich\",0.0],UNIT[\"degree\",0.0174532925199433]]'"
       ]
      }
     ],
     "prompt_number": 31
    },
    {
     "cell_type": "code",
     "collapsed": false,
     "input": [
      "# Do the work\n",
      "gdal.ReprojectImage(src, dst, src_proj, match_proj, gdalconst.GRA_Bilinear)\n",
      "\n",
      "del dst # Flush"
     ],
     "language": "python",
     "metadata": {},
     "outputs": [],
     "prompt_number": 30
    },
    {
     "cell_type": "code",
     "collapsed": false,
     "input": [],
     "language": "python",
     "metadata": {},
     "outputs": []
    }
   ],
   "metadata": {}
  }
 ]
}