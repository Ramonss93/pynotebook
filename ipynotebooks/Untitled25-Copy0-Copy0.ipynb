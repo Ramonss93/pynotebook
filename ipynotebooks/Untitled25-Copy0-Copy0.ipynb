{
 "metadata": {
  "name": ""
 },
 "nbformat": 3,
 "nbformat_minor": 0,
 "worksheets": [
  {
   "cells": [
    {
     "cell_type": "code",
     "collapsed": false,
     "input": [
      "def saveRaster(path, array, dsSource, datatype=3, formatraster=\"GTiff\"): \n",
      "    \"\"\"\n",
      "    Datatypes:\n",
      "    unknown = 0\n",
      "    byte = 1\n",
      "    unsigned int16 = 2\n",
      "    signed int16 = 3\n",
      "    unsigned int32 = 4\n",
      "    signed int32 = 5\n",
      "    float32 = 6\n",
      "    float64 = 7\n",
      "    complex int16 = 8\n",
      "    complex int32 = 9\n",
      "    complex float32 = 10\n",
      "    complex float64 = 11\n",
      "    float32 = 6, \n",
      "    signed int = 3\n",
      "    \n",
      "    Formatraster:\n",
      "    GeoTIFF = GTiff\n",
      "    Erdas = HFA (output = .img)\n",
      "    OGC web map service = WMS\n",
      "    png = PNG\n",
      "    \"\"\"\n",
      "    # Set Driver\n",
      "    format_ = formatraster #save as format\n",
      "    driver = gdal.GetDriverByName( format_ )\n",
      "    driver.Register()\n",
      "    \n",
      "    # Set Metadata for Raster output\n",
      "    cols = dsSource.RasterXSize*100\n",
      "    rows = dsSource.RasterYSize*100\n",
      "    bands = dsSource.RasterCount\n",
      "    datatype = datatype#band.DataType\n",
      "    \n",
      "    # Set Projection for Raster\n",
      "    outDataset = driver.Create(path, cols, rows, bands, datatype)\n",
      "    #geoTransform = dsSource.GetGeoTransform()\n",
      "    outDataset.SetGeoTransform(extent_new)\n",
      "    proj = dsSource.GetProjection()\n",
      "    outDataset.SetProjection(proj)\n",
      "    \n",
      "    # Write output to band 1 of new Raster\n",
      "    outBand = outDataset.GetRasterBand(1)\n",
      "    outBand.WriteArray(array) #save input array\n",
      "    #outBand.WriteArray(dem)\n",
      "    \n",
      "    # Close and finalise newly created Raster\n",
      "    #F_M01 = None\n",
      "    outBand = None\n",
      "    proj = None\n",
      "    #geoTransform = None\n",
      "    outDataset = None\n",
      "    driver = None\n",
      "    datatype = None\n",
      "    bands = None\n",
      "    rows = None\n",
      "    cols = None\n",
      "    driver = None\n",
      "    array = None"
     ],
     "language": "python",
     "metadata": {},
     "outputs": [],
     "prompt_number": 1
    },
    {
     "cell_type": "code",
     "collapsed": false,
     "input": [
      "import os\n",
      "from mattijn import dikkelul\n",
      "import numpy as np\n",
      "import sys\n",
      "import subprocess as sp\n",
      "from osgeo import gdal, osr\n",
      "import scipy.ndimage"
     ],
     "language": "python",
     "metadata": {},
     "outputs": [],
     "prompt_number": 2
    },
    {
     "cell_type": "code",
     "collapsed": false,
     "input": [
      "foldertif = r'D:\\Data\\GPCP_tif_clip_clip'\n",
      "outfolderresample = r'D:\\Data\\GPCP_resample//'\n",
      "tiffiles = dikkelul.FilesFolder(foldertif, '.tif')"
     ],
     "language": "python",
     "metadata": {},
     "outputs": [],
     "prompt_number": 3
    },
    {
     "cell_type": "code",
     "collapsed": false,
     "input": [
      "import sys\n",
      "import subprocess as sp\n",
      "foldertif2 = r'D:\\Data\\GPCP_tif3'\n",
      "files = dikkelul.FilesFolder(foldertif2)\n",
      "outfolderresample = r'D:\\Data\\GPCP_tif_clip_clip//'\n",
      "for j in files:\n",
      "    out = j[-30::]\n",
      "    path = outfolderresample+out\n",
      "    paramsnorm = [\"gdal_translate\", \"-projwin\", \"73.116933\", \"54.873241\", \"136.116933\", \"17.873241\", \"-outsize\", \"6300\", \"3700\", j, path]\n",
      "    print (path)\n",
      "    #print (sp.list2cmdline(paramsnorm))\n",
      "    norm = sp.Popen(sp.list2cmdline(paramsnorm), shell=True)     \n",
      "    norm.communicate()"
     ],
     "language": "python",
     "metadata": {},
     "outputs": [
      {
       "output_type": "stream",
       "stream": "stdout",
       "text": [
        "D:\\Data\\GPCP_tif_clip_clip//gpcp_1dd_v1.2_p1d.20060812.tif\n",
        "D:\\Data\\GPCP_tif_clip_clip//gpcp_1dd_v1.2_p1d.20060813.tif"
       ]
      },
      {
       "output_type": "stream",
       "stream": "stdout",
       "text": [
        "\n",
        "D:\\Data\\GPCP_tif_clip_clip//gpcp_1dd_v1.2_p1d.20060814.tif"
       ]
      },
      {
       "output_type": "stream",
       "stream": "stdout",
       "text": [
        "\n",
        "D:\\Data\\GPCP_tif_clip_clip//gpcp_1dd_v1.2_p1d.20060815.tif"
       ]
      },
      {
       "output_type": "stream",
       "stream": "stdout",
       "text": [
        "\n",
        "D:\\Data\\GPCP_tif_clip_clip//gpcp_1dd_v1.2_p1d.20060816.tif"
       ]
      },
      {
       "output_type": "stream",
       "stream": "stdout",
       "text": [
        "\n",
        "D:\\Data\\GPCP_tif_clip_clip//gpcp_1dd_v1.2_p1d.20060817.tif"
       ]
      },
      {
       "output_type": "stream",
       "stream": "stdout",
       "text": [
        "\n",
        "D:\\Data\\GPCP_tif_clip_clip//gpcp_1dd_v1.2_p1d.20060818.tif"
       ]
      },
      {
       "output_type": "stream",
       "stream": "stdout",
       "text": [
        "\n",
        "D:\\Data\\GPCP_tif_clip_clip//gpcp_1dd_v1.2_p1d.20060819.tif"
       ]
      },
      {
       "output_type": "stream",
       "stream": "stdout",
       "text": [
        "\n",
        "D:\\Data\\GPCP_tif_clip_clip//gpcp_1dd_v1.2_p1d.20060820.tif"
       ]
      },
      {
       "output_type": "stream",
       "stream": "stdout",
       "text": [
        "\n",
        "D:\\Data\\GPCP_tif_clip_clip//gpcp_1dd_v1.2_p1d.20060821.tif"
       ]
      },
      {
       "output_type": "stream",
       "stream": "stdout",
       "text": [
        "\n",
        "D:\\Data\\GPCP_tif_clip_clip//gpcp_1dd_v1.2_p1d.20060822.tif"
       ]
      },
      {
       "output_type": "stream",
       "stream": "stdout",
       "text": [
        "\n",
        "D:\\Data\\GPCP_tif_clip_clip//gpcp_1dd_v1.2_p1d.20060823.tif"
       ]
      },
      {
       "output_type": "stream",
       "stream": "stdout",
       "text": [
        "\n",
        "D:\\Data\\GPCP_tif_clip_clip//gpcp_1dd_v1.2_p1d.20060824.tif"
       ]
      },
      {
       "output_type": "stream",
       "stream": "stdout",
       "text": [
        "\n",
        "D:\\Data\\GPCP_tif_clip_clip//gpcp_1dd_v1.2_p1d.20060825.tif"
       ]
      },
      {
       "output_type": "stream",
       "stream": "stdout",
       "text": [
        "\n",
        "D:\\Data\\GPCP_tif_clip_clip//gpcp_1dd_v1.2_p1d.20060826.tif"
       ]
      },
      {
       "output_type": "stream",
       "stream": "stdout",
       "text": [
        "\n",
        "D:\\Data\\GPCP_tif_clip_clip//gpcp_1dd_v1.2_p1d.20060827.tif"
       ]
      },
      {
       "output_type": "stream",
       "stream": "stdout",
       "text": [
        "\n",
        "D:\\Data\\GPCP_tif_clip_clip//gpcp_1dd_v1.2_p1d.20060828.tif"
       ]
      },
      {
       "output_type": "stream",
       "stream": "stdout",
       "text": [
        "\n",
        "D:\\Data\\GPCP_tif_clip_clip//gpcp_1dd_v1.2_p1d.20060829.tif"
       ]
      },
      {
       "output_type": "stream",
       "stream": "stdout",
       "text": [
        "\n",
        "D:\\Data\\GPCP_tif_clip_clip//gpcp_1dd_v1.2_p1d.20060830.tif"
       ]
      },
      {
       "output_type": "stream",
       "stream": "stdout",
       "text": [
        "\n",
        "D:\\Data\\GPCP_tif_clip_clip//gpcp_1dd_v1.2_p1d.20060900.tif"
       ]
      },
      {
       "output_type": "stream",
       "stream": "stdout",
       "text": [
        "\n",
        "D:\\Data\\GPCP_tif_clip_clip//gpcp_1dd_v1.2_p1d.20060901.tif"
       ]
      },
      {
       "output_type": "stream",
       "stream": "stdout",
       "text": [
        "\n",
        "D:\\Data\\GPCP_tif_clip_clip//gpcp_1dd_v1.2_p1d.20060902.tif"
       ]
      },
      {
       "output_type": "stream",
       "stream": "stdout",
       "text": [
        "\n",
        "D:\\Data\\GPCP_tif_clip_clip//gpcp_1dd_v1.2_p1d.20060903.tif"
       ]
      },
      {
       "output_type": "stream",
       "stream": "stdout",
       "text": [
        "\n",
        "D:\\Data\\GPCP_tif_clip_clip//gpcp_1dd_v1.2_p1d.20060904.tif"
       ]
      },
      {
       "output_type": "stream",
       "stream": "stdout",
       "text": [
        "\n",
        "D:\\Data\\GPCP_tif_clip_clip//gpcp_1dd_v1.2_p1d.20060905.tif"
       ]
      },
      {
       "output_type": "stream",
       "stream": "stdout",
       "text": [
        "\n",
        "D:\\Data\\GPCP_tif_clip_clip//gpcp_1dd_v1.2_p1d.20060906.tif"
       ]
      },
      {
       "output_type": "stream",
       "stream": "stdout",
       "text": [
        "\n",
        "D:\\Data\\GPCP_tif_clip_clip//gpcp_1dd_v1.2_p1d.20060907.tif"
       ]
      },
      {
       "output_type": "stream",
       "stream": "stdout",
       "text": [
        "\n",
        "D:\\Data\\GPCP_tif_clip_clip//gpcp_1dd_v1.2_p1d.20060908.tif"
       ]
      },
      {
       "output_type": "stream",
       "stream": "stdout",
       "text": [
        "\n",
        "D:\\Data\\GPCP_tif_clip_clip//gpcp_1dd_v1.2_p1d.20060909.tif"
       ]
      },
      {
       "output_type": "stream",
       "stream": "stdout",
       "text": [
        "\n",
        "D:\\Data\\GPCP_tif_clip_clip//gpcp_1dd_v1.2_p1d.20060910.tif"
       ]
      },
      {
       "output_type": "stream",
       "stream": "stdout",
       "text": [
        "\n",
        "D:\\Data\\GPCP_tif_clip_clip//gpcp_1dd_v1.2_p1d.20060911.tif"
       ]
      },
      {
       "output_type": "stream",
       "stream": "stdout",
       "text": [
        "\n",
        "D:\\Data\\GPCP_tif_clip_clip//gpcp_1dd_v1.2_p1d.20060912.tif"
       ]
      },
      {
       "output_type": "stream",
       "stream": "stdout",
       "text": [
        "\n",
        "D:\\Data\\GPCP_tif_clip_clip//gpcp_1dd_v1.2_p1d.20060913.tif"
       ]
      },
      {
       "output_type": "stream",
       "stream": "stdout",
       "text": [
        "\n",
        "D:\\Data\\GPCP_tif_clip_clip//gpcp_1dd_v1.2_p1d.20060914.tif"
       ]
      },
      {
       "output_type": "stream",
       "stream": "stdout",
       "text": [
        "\n",
        "D:\\Data\\GPCP_tif_clip_clip//gpcp_1dd_v1.2_p1d.20060915.tif"
       ]
      },
      {
       "output_type": "stream",
       "stream": "stdout",
       "text": [
        "\n",
        "D:\\Data\\GPCP_tif_clip_clip//gpcp_1dd_v1.2_p1d.20060916.tif"
       ]
      },
      {
       "output_type": "stream",
       "stream": "stdout",
       "text": [
        "\n",
        "D:\\Data\\GPCP_tif_clip_clip//gpcp_1dd_v1.2_p1d.20060917.tif"
       ]
      },
      {
       "output_type": "stream",
       "stream": "stdout",
       "text": [
        "\n",
        "D:\\Data\\GPCP_tif_clip_clip//gpcp_1dd_v1.2_p1d.20060918.tif"
       ]
      },
      {
       "output_type": "stream",
       "stream": "stdout",
       "text": [
        "\n",
        "D:\\Data\\GPCP_tif_clip_clip//gpcp_1dd_v1.2_p1d.20060919.tif"
       ]
      },
      {
       "output_type": "stream",
       "stream": "stdout",
       "text": [
        "\n",
        "D:\\Data\\GPCP_tif_clip_clip//gpcp_1dd_v1.2_p1d.20060920.tif"
       ]
      },
      {
       "output_type": "stream",
       "stream": "stdout",
       "text": [
        "\n",
        "D:\\Data\\GPCP_tif_clip_clip//gpcp_1dd_v1.2_p1d.20060921.tif"
       ]
      },
      {
       "output_type": "stream",
       "stream": "stdout",
       "text": [
        "\n",
        "D:\\Data\\GPCP_tif_clip_clip//gpcp_1dd_v1.2_p1d.20060922.tif"
       ]
      },
      {
       "output_type": "stream",
       "stream": "stdout",
       "text": [
        "\n",
        "D:\\Data\\GPCP_tif_clip_clip//gpcp_1dd_v1.2_p1d.20060923.tif"
       ]
      },
      {
       "output_type": "stream",
       "stream": "stdout",
       "text": [
        "\n",
        "D:\\Data\\GPCP_tif_clip_clip//gpcp_1dd_v1.2_p1d.20060924.tif"
       ]
      },
      {
       "output_type": "stream",
       "stream": "stdout",
       "text": [
        "\n",
        "D:\\Data\\GPCP_tif_clip_clip//gpcp_1dd_v1.2_p1d.20060925.tif"
       ]
      },
      {
       "output_type": "stream",
       "stream": "stdout",
       "text": [
        "\n",
        "D:\\Data\\GPCP_tif_clip_clip//gpcp_1dd_v1.2_p1d.20060926.tif"
       ]
      },
      {
       "output_type": "stream",
       "stream": "stdout",
       "text": [
        "\n",
        "D:\\Data\\GPCP_tif_clip_clip//gpcp_1dd_v1.2_p1d.20060927.tif"
       ]
      },
      {
       "output_type": "stream",
       "stream": "stdout",
       "text": [
        "\n",
        "D:\\Data\\GPCP_tif_clip_clip//gpcp_1dd_v1.2_p1d.20060928.tif"
       ]
      },
      {
       "output_type": "stream",
       "stream": "stdout",
       "text": [
        "\n",
        "D:\\Data\\GPCP_tif_clip_clip//gpcp_1dd_v1.2_p1d.20060929.tif"
       ]
      },
      {
       "output_type": "stream",
       "stream": "stdout",
       "text": [
        "\n",
        "D:\\Data\\GPCP_tif_clip_clip//gpcp_1dd_v1.2_p1d.20061000.tif"
       ]
      },
      {
       "output_type": "stream",
       "stream": "stdout",
       "text": [
        "\n",
        "D:\\Data\\GPCP_tif_clip_clip//gpcp_1dd_v1.2_p1d.20061001.tif"
       ]
      },
      {
       "output_type": "stream",
       "stream": "stdout",
       "text": [
        "\n",
        "D:\\Data\\GPCP_tif_clip_clip//gpcp_1dd_v1.2_p1d.20061002.tif"
       ]
      },
      {
       "output_type": "stream",
       "stream": "stdout",
       "text": [
        "\n",
        "D:\\Data\\GPCP_tif_clip_clip//gpcp_1dd_v1.2_p1d.20061003.tif"
       ]
      },
      {
       "output_type": "stream",
       "stream": "stdout",
       "text": [
        "\n",
        "D:\\Data\\GPCP_tif_clip_clip//gpcp_1dd_v1.2_p1d.20061004.tif"
       ]
      },
      {
       "output_type": "stream",
       "stream": "stdout",
       "text": [
        "\n",
        "D:\\Data\\GPCP_tif_clip_clip//gpcp_1dd_v1.2_p1d.20061005.tif"
       ]
      },
      {
       "output_type": "stream",
       "stream": "stdout",
       "text": [
        "\n",
        "D:\\Data\\GPCP_tif_clip_clip//gpcp_1dd_v1.2_p1d.20061006.tif"
       ]
      },
      {
       "output_type": "stream",
       "stream": "stdout",
       "text": [
        "\n",
        "D:\\Data\\GPCP_tif_clip_clip//gpcp_1dd_v1.2_p1d.20061007.tif"
       ]
      },
      {
       "output_type": "stream",
       "stream": "stdout",
       "text": [
        "\n",
        "D:\\Data\\GPCP_tif_clip_clip//gpcp_1dd_v1.2_p1d.20061008.tif"
       ]
      },
      {
       "output_type": "stream",
       "stream": "stdout",
       "text": [
        "\n",
        "D:\\Data\\GPCP_tif_clip_clip//gpcp_1dd_v1.2_p1d.20061009.tif"
       ]
      },
      {
       "output_type": "stream",
       "stream": "stdout",
       "text": [
        "\n",
        "D:\\Data\\GPCP_tif_clip_clip//gpcp_1dd_v1.2_p1d.20061010.tif"
       ]
      },
      {
       "output_type": "stream",
       "stream": "stdout",
       "text": [
        "\n",
        "D:\\Data\\GPCP_tif_clip_clip//gpcp_1dd_v1.2_p1d.20061011.tif"
       ]
      },
      {
       "output_type": "stream",
       "stream": "stdout",
       "text": [
        "\n",
        "D:\\Data\\GPCP_tif_clip_clip//gpcp_1dd_v1.2_p1d.20061012.tif"
       ]
      },
      {
       "output_type": "stream",
       "stream": "stdout",
       "text": [
        "\n",
        "D:\\Data\\GPCP_tif_clip_clip//gpcp_1dd_v1.2_p1d.20061013.tif"
       ]
      },
      {
       "output_type": "stream",
       "stream": "stdout",
       "text": [
        "\n",
        "D:\\Data\\GPCP_tif_clip_clip//gpcp_1dd_v1.2_p1d.20061014.tif"
       ]
      },
      {
       "output_type": "stream",
       "stream": "stdout",
       "text": [
        "\n",
        "D:\\Data\\GPCP_tif_clip_clip//gpcp_1dd_v1.2_p1d.20061015.tif"
       ]
      },
      {
       "output_type": "stream",
       "stream": "stdout",
       "text": [
        "\n",
        "D:\\Data\\GPCP_tif_clip_clip//gpcp_1dd_v1.2_p1d.20061016.tif"
       ]
      },
      {
       "output_type": "stream",
       "stream": "stdout",
       "text": [
        "\n",
        "D:\\Data\\GPCP_tif_clip_clip//gpcp_1dd_v1.2_p1d.20061017.tif"
       ]
      },
      {
       "output_type": "stream",
       "stream": "stdout",
       "text": [
        "\n",
        "D:\\Data\\GPCP_tif_clip_clip//gpcp_1dd_v1.2_p1d.20061018.tif"
       ]
      },
      {
       "output_type": "stream",
       "stream": "stdout",
       "text": [
        "\n",
        "D:\\Data\\GPCP_tif_clip_clip//gpcp_1dd_v1.2_p1d.20061019.tif"
       ]
      },
      {
       "output_type": "stream",
       "stream": "stdout",
       "text": [
        "\n",
        "D:\\Data\\GPCP_tif_clip_clip//gpcp_1dd_v1.2_p1d.20061020.tif"
       ]
      },
      {
       "output_type": "stream",
       "stream": "stdout",
       "text": [
        "\n",
        "D:\\Data\\GPCP_tif_clip_clip//gpcp_1dd_v1.2_p1d.20061021.tif"
       ]
      },
      {
       "output_type": "stream",
       "stream": "stdout",
       "text": [
        "\n",
        "D:\\Data\\GPCP_tif_clip_clip//gpcp_1dd_v1.2_p1d.20061022.tif"
       ]
      },
      {
       "output_type": "stream",
       "stream": "stdout",
       "text": [
        "\n",
        "D:\\Data\\GPCP_tif_clip_clip//gpcp_1dd_v1.2_p1d.20061023.tif"
       ]
      },
      {
       "output_type": "stream",
       "stream": "stdout",
       "text": [
        "\n",
        "D:\\Data\\GPCP_tif_clip_clip//gpcp_1dd_v1.2_p1d.20061024.tif"
       ]
      },
      {
       "output_type": "stream",
       "stream": "stdout",
       "text": [
        "\n",
        "D:\\Data\\GPCP_tif_clip_clip//gpcp_1dd_v1.2_p1d.20061025.tif"
       ]
      },
      {
       "output_type": "stream",
       "stream": "stdout",
       "text": [
        "\n",
        "D:\\Data\\GPCP_tif_clip_clip//gpcp_1dd_v1.2_p1d.20061026.tif"
       ]
      },
      {
       "output_type": "stream",
       "stream": "stdout",
       "text": [
        "\n",
        "D:\\Data\\GPCP_tif_clip_clip//gpcp_1dd_v1.2_p1d.20061027.tif"
       ]
      },
      {
       "output_type": "stream",
       "stream": "stdout",
       "text": [
        "\n",
        "D:\\Data\\GPCP_tif_clip_clip//gpcp_1dd_v1.2_p1d.20061028.tif"
       ]
      },
      {
       "output_type": "stream",
       "stream": "stdout",
       "text": [
        "\n",
        "D:\\Data\\GPCP_tif_clip_clip//gpcp_1dd_v1.2_p1d.20061029.tif"
       ]
      },
      {
       "output_type": "stream",
       "stream": "stdout",
       "text": [
        "\n",
        "D:\\Data\\GPCP_tif_clip_clip//gpcp_1dd_v1.2_p1d.20061030.tif"
       ]
      },
      {
       "output_type": "stream",
       "stream": "stdout",
       "text": [
        "\n",
        "D:\\Data\\GPCP_tif_clip_clip//gpcp_1dd_v1.2_p1d.20061100.tif"
       ]
      },
      {
       "output_type": "stream",
       "stream": "stdout",
       "text": [
        "\n",
        "D:\\Data\\GPCP_tif_clip_clip//gpcp_1dd_v1.2_p1d.20061101.tif"
       ]
      },
      {
       "output_type": "stream",
       "stream": "stdout",
       "text": [
        "\n",
        "D:\\Data\\GPCP_tif_clip_clip//gpcp_1dd_v1.2_p1d.20061102.tif"
       ]
      },
      {
       "output_type": "stream",
       "stream": "stdout",
       "text": [
        "\n",
        "D:\\Data\\GPCP_tif_clip_clip//gpcp_1dd_v1.2_p1d.20061103.tif"
       ]
      },
      {
       "output_type": "stream",
       "stream": "stdout",
       "text": [
        "\n",
        "D:\\Data\\GPCP_tif_clip_clip//gpcp_1dd_v1.2_p1d.20061104.tif"
       ]
      },
      {
       "output_type": "stream",
       "stream": "stdout",
       "text": [
        "\n",
        "D:\\Data\\GPCP_tif_clip_clip//gpcp_1dd_v1.2_p1d.20061105.tif"
       ]
      },
      {
       "output_type": "stream",
       "stream": "stdout",
       "text": [
        "\n",
        "D:\\Data\\GPCP_tif_clip_clip//gpcp_1dd_v1.2_p1d.20061106.tif"
       ]
      },
      {
       "output_type": "stream",
       "stream": "stdout",
       "text": [
        "\n",
        "D:\\Data\\GPCP_tif_clip_clip//gpcp_1dd_v1.2_p1d.20061107.tif"
       ]
      },
      {
       "output_type": "stream",
       "stream": "stdout",
       "text": [
        "\n",
        "D:\\Data\\GPCP_tif_clip_clip//gpcp_1dd_v1.2_p1d.20061108.tif"
       ]
      },
      {
       "output_type": "stream",
       "stream": "stdout",
       "text": [
        "\n",
        "D:\\Data\\GPCP_tif_clip_clip//gpcp_1dd_v1.2_p1d.20061109.tif"
       ]
      },
      {
       "output_type": "stream",
       "stream": "stdout",
       "text": [
        "\n",
        "D:\\Data\\GPCP_tif_clip_clip//gpcp_1dd_v1.2_p1d.20061110.tif"
       ]
      },
      {
       "output_type": "stream",
       "stream": "stdout",
       "text": [
        "\n",
        "D:\\Data\\GPCP_tif_clip_clip//gpcp_1dd_v1.2_p1d.20061111.tif"
       ]
      },
      {
       "output_type": "stream",
       "stream": "stdout",
       "text": [
        "\n",
        "D:\\Data\\GPCP_tif_clip_clip//gpcp_1dd_v1.2_p1d.20061112.tif"
       ]
      },
      {
       "output_type": "stream",
       "stream": "stdout",
       "text": [
        "\n",
        "D:\\Data\\GPCP_tif_clip_clip//gpcp_1dd_v1.2_p1d.20061113.tif"
       ]
      },
      {
       "output_type": "stream",
       "stream": "stdout",
       "text": [
        "\n",
        "D:\\Data\\GPCP_tif_clip_clip//gpcp_1dd_v1.2_p1d.20061114.tif"
       ]
      },
      {
       "output_type": "stream",
       "stream": "stdout",
       "text": [
        "\n",
        "D:\\Data\\GPCP_tif_clip_clip//gpcp_1dd_v1.2_p1d.20061115.tif"
       ]
      },
      {
       "output_type": "stream",
       "stream": "stdout",
       "text": [
        "\n",
        "D:\\Data\\GPCP_tif_clip_clip//gpcp_1dd_v1.2_p1d.20061116.tif"
       ]
      },
      {
       "output_type": "stream",
       "stream": "stdout",
       "text": [
        "\n",
        "D:\\Data\\GPCP_tif_clip_clip//gpcp_1dd_v1.2_p1d.20061117.tif"
       ]
      },
      {
       "output_type": "stream",
       "stream": "stdout",
       "text": [
        "\n",
        "D:\\Data\\GPCP_tif_clip_clip//gpcp_1dd_v1.2_p1d.20061118.tif"
       ]
      },
      {
       "output_type": "stream",
       "stream": "stdout",
       "text": [
        "\n",
        "D:\\Data\\GPCP_tif_clip_clip//gpcp_1dd_v1.2_p1d.20061119.tif"
       ]
      },
      {
       "output_type": "stream",
       "stream": "stdout",
       "text": [
        "\n",
        "D:\\Data\\GPCP_tif_clip_clip//gpcp_1dd_v1.2_p1d.20061120.tif"
       ]
      },
      {
       "output_type": "stream",
       "stream": "stdout",
       "text": [
        "\n",
        "D:\\Data\\GPCP_tif_clip_clip//gpcp_1dd_v1.2_p1d.20061121.tif"
       ]
      },
      {
       "output_type": "stream",
       "stream": "stdout",
       "text": [
        "\n",
        "D:\\Data\\GPCP_tif_clip_clip//gpcp_1dd_v1.2_p1d.20061122.tif"
       ]
      },
      {
       "output_type": "stream",
       "stream": "stdout",
       "text": [
        "\n",
        "D:\\Data\\GPCP_tif_clip_clip//gpcp_1dd_v1.2_p1d.20061123.tif"
       ]
      },
      {
       "output_type": "stream",
       "stream": "stdout",
       "text": [
        "\n",
        "D:\\Data\\GPCP_tif_clip_clip//gpcp_1dd_v1.2_p1d.20061124.tif"
       ]
      },
      {
       "output_type": "stream",
       "stream": "stdout",
       "text": [
        "\n",
        "D:\\Data\\GPCP_tif_clip_clip//gpcp_1dd_v1.2_p1d.20061125.tif"
       ]
      },
      {
       "output_type": "stream",
       "stream": "stdout",
       "text": [
        "\n",
        "D:\\Data\\GPCP_tif_clip_clip//gpcp_1dd_v1.2_p1d.20061126.tif"
       ]
      },
      {
       "output_type": "stream",
       "stream": "stdout",
       "text": [
        "\n",
        "D:\\Data\\GPCP_tif_clip_clip//gpcp_1dd_v1.2_p1d.20061127.tif"
       ]
      },
      {
       "output_type": "stream",
       "stream": "stdout",
       "text": [
        "\n",
        "D:\\Data\\GPCP_tif_clip_clip//gpcp_1dd_v1.2_p1d.20061128.tif"
       ]
      },
      {
       "output_type": "stream",
       "stream": "stdout",
       "text": [
        "\n",
        "D:\\Data\\GPCP_tif_clip_clip//gpcp_1dd_v1.2_p1d.20061129.tif"
       ]
      },
      {
       "output_type": "stream",
       "stream": "stdout",
       "text": [
        "\n",
        "D:\\Data\\GPCP_tif_clip_clip//gpcp_1dd_v1.2_p1d.20061200.tif"
       ]
      },
      {
       "output_type": "stream",
       "stream": "stdout",
       "text": [
        "\n",
        "D:\\Data\\GPCP_tif_clip_clip//gpcp_1dd_v1.2_p1d.20061201.tif"
       ]
      },
      {
       "output_type": "stream",
       "stream": "stdout",
       "text": [
        "\n",
        "D:\\Data\\GPCP_tif_clip_clip//gpcp_1dd_v1.2_p1d.20061202.tif"
       ]
      },
      {
       "output_type": "stream",
       "stream": "stdout",
       "text": [
        "\n",
        "D:\\Data\\GPCP_tif_clip_clip//gpcp_1dd_v1.2_p1d.20061203.tif"
       ]
      },
      {
       "output_type": "stream",
       "stream": "stdout",
       "text": [
        "\n",
        "D:\\Data\\GPCP_tif_clip_clip//gpcp_1dd_v1.2_p1d.20061204.tif"
       ]
      },
      {
       "output_type": "stream",
       "stream": "stdout",
       "text": [
        "\n",
        "D:\\Data\\GPCP_tif_clip_clip//gpcp_1dd_v1.2_p1d.20061205.tif"
       ]
      },
      {
       "output_type": "stream",
       "stream": "stdout",
       "text": [
        "\n",
        "D:\\Data\\GPCP_tif_clip_clip//gpcp_1dd_v1.2_p1d.20061206.tif"
       ]
      },
      {
       "output_type": "stream",
       "stream": "stdout",
       "text": [
        "\n",
        "D:\\Data\\GPCP_tif_clip_clip//gpcp_1dd_v1.2_p1d.20061207.tif"
       ]
      },
      {
       "output_type": "stream",
       "stream": "stdout",
       "text": [
        "\n",
        "D:\\Data\\GPCP_tif_clip_clip//gpcp_1dd_v1.2_p1d.20061208.tif"
       ]
      },
      {
       "output_type": "stream",
       "stream": "stdout",
       "text": [
        "\n",
        "D:\\Data\\GPCP_tif_clip_clip//gpcp_1dd_v1.2_p1d.20061209.tif"
       ]
      },
      {
       "output_type": "stream",
       "stream": "stdout",
       "text": [
        "\n",
        "D:\\Data\\GPCP_tif_clip_clip//gpcp_1dd_v1.2_p1d.20061210.tif"
       ]
      },
      {
       "output_type": "stream",
       "stream": "stdout",
       "text": [
        "\n",
        "D:\\Data\\GPCP_tif_clip_clip//gpcp_1dd_v1.2_p1d.20061211.tif"
       ]
      },
      {
       "output_type": "stream",
       "stream": "stdout",
       "text": [
        "\n",
        "D:\\Data\\GPCP_tif_clip_clip//gpcp_1dd_v1.2_p1d.20061212.tif"
       ]
      },
      {
       "output_type": "stream",
       "stream": "stdout",
       "text": [
        "\n",
        "D:\\Data\\GPCP_tif_clip_clip//gpcp_1dd_v1.2_p1d.20061213.tif"
       ]
      },
      {
       "output_type": "stream",
       "stream": "stdout",
       "text": [
        "\n",
        "D:\\Data\\GPCP_tif_clip_clip//gpcp_1dd_v1.2_p1d.20061214.tif"
       ]
      },
      {
       "output_type": "stream",
       "stream": "stdout",
       "text": [
        "\n",
        "D:\\Data\\GPCP_tif_clip_clip//gpcp_1dd_v1.2_p1d.20061215.tif"
       ]
      },
      {
       "output_type": "stream",
       "stream": "stdout",
       "text": [
        "\n",
        "D:\\Data\\GPCP_tif_clip_clip//gpcp_1dd_v1.2_p1d.20061216.tif"
       ]
      },
      {
       "output_type": "stream",
       "stream": "stdout",
       "text": [
        "\n",
        "D:\\Data\\GPCP_tif_clip_clip//gpcp_1dd_v1.2_p1d.20061217.tif"
       ]
      },
      {
       "output_type": "stream",
       "stream": "stdout",
       "text": [
        "\n",
        "D:\\Data\\GPCP_tif_clip_clip//gpcp_1dd_v1.2_p1d.20061218.tif"
       ]
      },
      {
       "output_type": "stream",
       "stream": "stdout",
       "text": [
        "\n",
        "D:\\Data\\GPCP_tif_clip_clip//gpcp_1dd_v1.2_p1d.20061219.tif"
       ]
      },
      {
       "output_type": "stream",
       "stream": "stdout",
       "text": [
        "\n",
        "D:\\Data\\GPCP_tif_clip_clip//gpcp_1dd_v1.2_p1d.20061220.tif"
       ]
      },
      {
       "output_type": "stream",
       "stream": "stdout",
       "text": [
        "\n",
        "D:\\Data\\GPCP_tif_clip_clip//gpcp_1dd_v1.2_p1d.20061221.tif"
       ]
      },
      {
       "output_type": "stream",
       "stream": "stdout",
       "text": [
        "\n",
        "D:\\Data\\GPCP_tif_clip_clip//gpcp_1dd_v1.2_p1d.20061222.tif"
       ]
      },
      {
       "output_type": "stream",
       "stream": "stdout",
       "text": [
        "\n",
        "D:\\Data\\GPCP_tif_clip_clip//gpcp_1dd_v1.2_p1d.20061223.tif"
       ]
      },
      {
       "output_type": "stream",
       "stream": "stdout",
       "text": [
        "\n",
        "D:\\Data\\GPCP_tif_clip_clip//gpcp_1dd_v1.2_p1d.20061224.tif"
       ]
      },
      {
       "output_type": "stream",
       "stream": "stdout",
       "text": [
        "\n",
        "D:\\Data\\GPCP_tif_clip_clip//gpcp_1dd_v1.2_p1d.20061225.tif"
       ]
      },
      {
       "output_type": "stream",
       "stream": "stdout",
       "text": [
        "\n",
        "D:\\Data\\GPCP_tif_clip_clip//gpcp_1dd_v1.2_p1d.20061226.tif"
       ]
      },
      {
       "output_type": "stream",
       "stream": "stdout",
       "text": [
        "\n",
        "D:\\Data\\GPCP_tif_clip_clip//gpcp_1dd_v1.2_p1d.20061227.tif"
       ]
      },
      {
       "output_type": "stream",
       "stream": "stdout",
       "text": [
        "\n",
        "D:\\Data\\GPCP_tif_clip_clip//gpcp_1dd_v1.2_p1d.20061228.tif"
       ]
      },
      {
       "output_type": "stream",
       "stream": "stdout",
       "text": [
        "\n",
        "D:\\Data\\GPCP_tif_clip_clip//gpcp_1dd_v1.2_p1d.20061229.tif"
       ]
      },
      {
       "output_type": "stream",
       "stream": "stdout",
       "text": [
        "\n",
        "D:\\Data\\GPCP_tif_clip_clip//gpcp_1dd_v1.2_p1d.20061230.tif"
       ]
      },
      {
       "output_type": "stream",
       "stream": "stdout",
       "text": [
        "\n",
        "D:\\Data\\GPCP_tif_clip_clip//gpcp_1dd_v1.2_p1d.20070100.tif"
       ]
      },
      {
       "output_type": "stream",
       "stream": "stdout",
       "text": [
        "\n",
        "D:\\Data\\GPCP_tif_clip_clip//gpcp_1dd_v1.2_p1d.20070101.tif"
       ]
      },
      {
       "output_type": "stream",
       "stream": "stdout",
       "text": [
        "\n",
        "D:\\Data\\GPCP_tif_clip_clip//gpcp_1dd_v1.2_p1d.20070102.tif"
       ]
      },
      {
       "output_type": "stream",
       "stream": "stdout",
       "text": [
        "\n",
        "D:\\Data\\GPCP_tif_clip_clip//gpcp_1dd_v1.2_p1d.20070103.tif"
       ]
      },
      {
       "output_type": "stream",
       "stream": "stdout",
       "text": [
        "\n",
        "D:\\Data\\GPCP_tif_clip_clip//gpcp_1dd_v1.2_p1d.20070104.tif"
       ]
      },
      {
       "output_type": "stream",
       "stream": "stdout",
       "text": [
        "\n",
        "D:\\Data\\GPCP_tif_clip_clip//gpcp_1dd_v1.2_p1d.20070105.tif"
       ]
      },
      {
       "output_type": "stream",
       "stream": "stdout",
       "text": [
        "\n",
        "D:\\Data\\GPCP_tif_clip_clip//gpcp_1dd_v1.2_p1d.20070106.tif"
       ]
      },
      {
       "output_type": "stream",
       "stream": "stdout",
       "text": [
        "\n",
        "D:\\Data\\GPCP_tif_clip_clip//gpcp_1dd_v1.2_p1d.20070107.tif"
       ]
      },
      {
       "output_type": "stream",
       "stream": "stdout",
       "text": [
        "\n",
        "D:\\Data\\GPCP_tif_clip_clip//gpcp_1dd_v1.2_p1d.20070108.tif"
       ]
      },
      {
       "output_type": "stream",
       "stream": "stdout",
       "text": [
        "\n",
        "D:\\Data\\GPCP_tif_clip_clip//gpcp_1dd_v1.2_p1d.20070109.tif"
       ]
      },
      {
       "output_type": "stream",
       "stream": "stdout",
       "text": [
        "\n",
        "D:\\Data\\GPCP_tif_clip_clip//gpcp_1dd_v1.2_p1d.20070110.tif"
       ]
      },
      {
       "output_type": "stream",
       "stream": "stdout",
       "text": [
        "\n",
        "D:\\Data\\GPCP_tif_clip_clip//gpcp_1dd_v1.2_p1d.20070111.tif"
       ]
      },
      {
       "output_type": "stream",
       "stream": "stdout",
       "text": [
        "\n",
        "D:\\Data\\GPCP_tif_clip_clip//gpcp_1dd_v1.2_p1d.20070112.tif"
       ]
      },
      {
       "output_type": "stream",
       "stream": "stdout",
       "text": [
        "\n",
        "D:\\Data\\GPCP_tif_clip_clip//gpcp_1dd_v1.2_p1d.20070113.tif"
       ]
      },
      {
       "output_type": "stream",
       "stream": "stdout",
       "text": [
        "\n",
        "D:\\Data\\GPCP_tif_clip_clip//gpcp_1dd_v1.2_p1d.20070114.tif"
       ]
      },
      {
       "output_type": "stream",
       "stream": "stdout",
       "text": [
        "\n",
        "D:\\Data\\GPCP_tif_clip_clip//gpcp_1dd_v1.2_p1d.20070115.tif"
       ]
      },
      {
       "output_type": "stream",
       "stream": "stdout",
       "text": [
        "\n",
        "D:\\Data\\GPCP_tif_clip_clip//gpcp_1dd_v1.2_p1d.20070116.tif"
       ]
      },
      {
       "output_type": "stream",
       "stream": "stdout",
       "text": [
        "\n",
        "D:\\Data\\GPCP_tif_clip_clip//gpcp_1dd_v1.2_p1d.20070117.tif"
       ]
      },
      {
       "output_type": "stream",
       "stream": "stdout",
       "text": [
        "\n",
        "D:\\Data\\GPCP_tif_clip_clip//gpcp_1dd_v1.2_p1d.20070118.tif"
       ]
      },
      {
       "output_type": "stream",
       "stream": "stdout",
       "text": [
        "\n",
        "D:\\Data\\GPCP_tif_clip_clip//gpcp_1dd_v1.2_p1d.20070119.tif"
       ]
      },
      {
       "output_type": "stream",
       "stream": "stdout",
       "text": [
        "\n",
        "D:\\Data\\GPCP_tif_clip_clip//gpcp_1dd_v1.2_p1d.20070120.tif"
       ]
      },
      {
       "output_type": "stream",
       "stream": "stdout",
       "text": [
        "\n",
        "D:\\Data\\GPCP_tif_clip_clip//gpcp_1dd_v1.2_p1d.20070121.tif"
       ]
      },
      {
       "output_type": "stream",
       "stream": "stdout",
       "text": [
        "\n",
        "D:\\Data\\GPCP_tif_clip_clip//gpcp_1dd_v1.2_p1d.20070122.tif"
       ]
      },
      {
       "output_type": "stream",
       "stream": "stdout",
       "text": [
        "\n",
        "D:\\Data\\GPCP_tif_clip_clip//gpcp_1dd_v1.2_p1d.20070123.tif"
       ]
      },
      {
       "output_type": "stream",
       "stream": "stdout",
       "text": [
        "\n",
        "D:\\Data\\GPCP_tif_clip_clip//gpcp_1dd_v1.2_p1d.20070124.tif"
       ]
      },
      {
       "output_type": "stream",
       "stream": "stdout",
       "text": [
        "\n",
        "D:\\Data\\GPCP_tif_clip_clip//gpcp_1dd_v1.2_p1d.20070125.tif"
       ]
      },
      {
       "output_type": "stream",
       "stream": "stdout",
       "text": [
        "\n",
        "D:\\Data\\GPCP_tif_clip_clip//gpcp_1dd_v1.2_p1d.20070126.tif"
       ]
      },
      {
       "output_type": "stream",
       "stream": "stdout",
       "text": [
        "\n",
        "D:\\Data\\GPCP_tif_clip_clip//gpcp_1dd_v1.2_p1d.20070127.tif"
       ]
      },
      {
       "output_type": "stream",
       "stream": "stdout",
       "text": [
        "\n",
        "D:\\Data\\GPCP_tif_clip_clip//gpcp_1dd_v1.2_p1d.20070128.tif"
       ]
      },
      {
       "output_type": "stream",
       "stream": "stdout",
       "text": [
        "\n",
        "D:\\Data\\GPCP_tif_clip_clip//gpcp_1dd_v1.2_p1d.20070129.tif"
       ]
      },
      {
       "output_type": "stream",
       "stream": "stdout",
       "text": [
        "\n",
        "D:\\Data\\GPCP_tif_clip_clip//gpcp_1dd_v1.2_p1d.20070130.tif"
       ]
      },
      {
       "output_type": "stream",
       "stream": "stdout",
       "text": [
        "\n",
        "D:\\Data\\GPCP_tif_clip_clip//gpcp_1dd_v1.2_p1d.20070200.tif"
       ]
      },
      {
       "output_type": "stream",
       "stream": "stdout",
       "text": [
        "\n",
        "D:\\Data\\GPCP_tif_clip_clip//gpcp_1dd_v1.2_p1d.20070201.tif"
       ]
      },
      {
       "output_type": "stream",
       "stream": "stdout",
       "text": [
        "\n",
        "D:\\Data\\GPCP_tif_clip_clip//gpcp_1dd_v1.2_p1d.20070202.tif"
       ]
      },
      {
       "output_type": "stream",
       "stream": "stdout",
       "text": [
        "\n",
        "D:\\Data\\GPCP_tif_clip_clip//gpcp_1dd_v1.2_p1d.20070203.tif"
       ]
      },
      {
       "output_type": "stream",
       "stream": "stdout",
       "text": [
        "\n",
        "D:\\Data\\GPCP_tif_clip_clip//gpcp_1dd_v1.2_p1d.20070204.tif"
       ]
      },
      {
       "output_type": "stream",
       "stream": "stdout",
       "text": [
        "\n",
        "D:\\Data\\GPCP_tif_clip_clip//gpcp_1dd_v1.2_p1d.20070205.tif"
       ]
      },
      {
       "output_type": "stream",
       "stream": "stdout",
       "text": [
        "\n",
        "D:\\Data\\GPCP_tif_clip_clip//gpcp_1dd_v1.2_p1d.20070206.tif"
       ]
      },
      {
       "output_type": "stream",
       "stream": "stdout",
       "text": [
        "\n",
        "D:\\Data\\GPCP_tif_clip_clip//gpcp_1dd_v1.2_p1d.20070207.tif"
       ]
      },
      {
       "output_type": "stream",
       "stream": "stdout",
       "text": [
        "\n",
        "D:\\Data\\GPCP_tif_clip_clip//gpcp_1dd_v1.2_p1d.20070208.tif"
       ]
      },
      {
       "output_type": "stream",
       "stream": "stdout",
       "text": [
        "\n",
        "D:\\Data\\GPCP_tif_clip_clip//gpcp_1dd_v1.2_p1d.20070209.tif"
       ]
      },
      {
       "output_type": "stream",
       "stream": "stdout",
       "text": [
        "\n",
        "D:\\Data\\GPCP_tif_clip_clip//gpcp_1dd_v1.2_p1d.20070210.tif"
       ]
      },
      {
       "output_type": "stream",
       "stream": "stdout",
       "text": [
        "\n",
        "D:\\Data\\GPCP_tif_clip_clip//gpcp_1dd_v1.2_p1d.20070211.tif"
       ]
      },
      {
       "output_type": "stream",
       "stream": "stdout",
       "text": [
        "\n",
        "D:\\Data\\GPCP_tif_clip_clip//gpcp_1dd_v1.2_p1d.20070212.tif"
       ]
      },
      {
       "output_type": "stream",
       "stream": "stdout",
       "text": [
        "\n",
        "D:\\Data\\GPCP_tif_clip_clip//gpcp_1dd_v1.2_p1d.20070213.tif"
       ]
      },
      {
       "output_type": "stream",
       "stream": "stdout",
       "text": [
        "\n",
        "D:\\Data\\GPCP_tif_clip_clip//gpcp_1dd_v1.2_p1d.20070214.tif"
       ]
      },
      {
       "output_type": "stream",
       "stream": "stdout",
       "text": [
        "\n",
        "D:\\Data\\GPCP_tif_clip_clip//gpcp_1dd_v1.2_p1d.20070215.tif"
       ]
      },
      {
       "output_type": "stream",
       "stream": "stdout",
       "text": [
        "\n",
        "D:\\Data\\GPCP_tif_clip_clip//gpcp_1dd_v1.2_p1d.20070216.tif"
       ]
      },
      {
       "output_type": "stream",
       "stream": "stdout",
       "text": [
        "\n",
        "D:\\Data\\GPCP_tif_clip_clip//gpcp_1dd_v1.2_p1d.20070217.tif"
       ]
      },
      {
       "output_type": "stream",
       "stream": "stdout",
       "text": [
        "\n",
        "D:\\Data\\GPCP_tif_clip_clip//gpcp_1dd_v1.2_p1d.20070218.tif"
       ]
      },
      {
       "output_type": "stream",
       "stream": "stdout",
       "text": [
        "\n",
        "D:\\Data\\GPCP_tif_clip_clip//gpcp_1dd_v1.2_p1d.20070219.tif"
       ]
      },
      {
       "output_type": "stream",
       "stream": "stdout",
       "text": [
        "\n",
        "D:\\Data\\GPCP_tif_clip_clip//gpcp_1dd_v1.2_p1d.20070220.tif"
       ]
      },
      {
       "output_type": "stream",
       "stream": "stdout",
       "text": [
        "\n",
        "D:\\Data\\GPCP_tif_clip_clip//gpcp_1dd_v1.2_p1d.20070221.tif"
       ]
      },
      {
       "output_type": "stream",
       "stream": "stdout",
       "text": [
        "\n",
        "D:\\Data\\GPCP_tif_clip_clip//gpcp_1dd_v1.2_p1d.20070222.tif"
       ]
      },
      {
       "output_type": "stream",
       "stream": "stdout",
       "text": [
        "\n",
        "D:\\Data\\GPCP_tif_clip_clip//gpcp_1dd_v1.2_p1d.20070223.tif"
       ]
      },
      {
       "output_type": "stream",
       "stream": "stdout",
       "text": [
        "\n",
        "D:\\Data\\GPCP_tif_clip_clip//gpcp_1dd_v1.2_p1d.20070224.tif"
       ]
      },
      {
       "output_type": "stream",
       "stream": "stdout",
       "text": [
        "\n",
        "D:\\Data\\GPCP_tif_clip_clip//gpcp_1dd_v1.2_p1d.20070225.tif"
       ]
      },
      {
       "output_type": "stream",
       "stream": "stdout",
       "text": [
        "\n",
        "D:\\Data\\GPCP_tif_clip_clip//gpcp_1dd_v1.2_p1d.20070226.tif"
       ]
      },
      {
       "output_type": "stream",
       "stream": "stdout",
       "text": [
        "\n",
        "D:\\Data\\GPCP_tif_clip_clip//gpcp_1dd_v1.2_p1d.20070227.tif"
       ]
      },
      {
       "output_type": "stream",
       "stream": "stdout",
       "text": [
        "\n",
        "D:\\Data\\GPCP_tif_clip_clip//gpcp_1dd_v1.2_p1d.20070300.tif"
       ]
      },
      {
       "output_type": "stream",
       "stream": "stdout",
       "text": [
        "\n",
        "D:\\Data\\GPCP_tif_clip_clip//gpcp_1dd_v1.2_p1d.20070301.tif"
       ]
      },
      {
       "output_type": "stream",
       "stream": "stdout",
       "text": [
        "\n",
        "D:\\Data\\GPCP_tif_clip_clip//gpcp_1dd_v1.2_p1d.20070302.tif"
       ]
      },
      {
       "output_type": "stream",
       "stream": "stdout",
       "text": [
        "\n",
        "D:\\Data\\GPCP_tif_clip_clip//gpcp_1dd_v1.2_p1d.20070303.tif"
       ]
      },
      {
       "output_type": "stream",
       "stream": "stdout",
       "text": [
        "\n",
        "D:\\Data\\GPCP_tif_clip_clip//gpcp_1dd_v1.2_p1d.20070304.tif"
       ]
      },
      {
       "output_type": "stream",
       "stream": "stdout",
       "text": [
        "\n",
        "D:\\Data\\GPCP_tif_clip_clip//gpcp_1dd_v1.2_p1d.20070305.tif"
       ]
      },
      {
       "output_type": "stream",
       "stream": "stdout",
       "text": [
        "\n",
        "D:\\Data\\GPCP_tif_clip_clip//gpcp_1dd_v1.2_p1d.20070306.tif"
       ]
      },
      {
       "output_type": "stream",
       "stream": "stdout",
       "text": [
        "\n",
        "D:\\Data\\GPCP_tif_clip_clip//gpcp_1dd_v1.2_p1d.20070307.tif"
       ]
      },
      {
       "output_type": "stream",
       "stream": "stdout",
       "text": [
        "\n",
        "D:\\Data\\GPCP_tif_clip_clip//gpcp_1dd_v1.2_p1d.20070308.tif"
       ]
      },
      {
       "output_type": "stream",
       "stream": "stdout",
       "text": [
        "\n",
        "D:\\Data\\GPCP_tif_clip_clip//gpcp_1dd_v1.2_p1d.20070309.tif"
       ]
      },
      {
       "output_type": "stream",
       "stream": "stdout",
       "text": [
        "\n",
        "D:\\Data\\GPCP_tif_clip_clip//gpcp_1dd_v1.2_p1d.20070310.tif"
       ]
      },
      {
       "output_type": "stream",
       "stream": "stdout",
       "text": [
        "\n",
        "D:\\Data\\GPCP_tif_clip_clip//gpcp_1dd_v1.2_p1d.20070311.tif"
       ]
      },
      {
       "output_type": "stream",
       "stream": "stdout",
       "text": [
        "\n",
        "D:\\Data\\GPCP_tif_clip_clip//gpcp_1dd_v1.2_p1d.20070312.tif"
       ]
      },
      {
       "output_type": "stream",
       "stream": "stdout",
       "text": [
        "\n",
        "D:\\Data\\GPCP_tif_clip_clip//gpcp_1dd_v1.2_p1d.20070313.tif"
       ]
      },
      {
       "output_type": "stream",
       "stream": "stdout",
       "text": [
        "\n",
        "D:\\Data\\GPCP_tif_clip_clip//gpcp_1dd_v1.2_p1d.20070314.tif"
       ]
      },
      {
       "output_type": "stream",
       "stream": "stdout",
       "text": [
        "\n",
        "D:\\Data\\GPCP_tif_clip_clip//gpcp_1dd_v1.2_p1d.20070315.tif"
       ]
      },
      {
       "output_type": "stream",
       "stream": "stdout",
       "text": [
        "\n",
        "D:\\Data\\GPCP_tif_clip_clip//gpcp_1dd_v1.2_p1d.20070316.tif"
       ]
      },
      {
       "output_type": "stream",
       "stream": "stdout",
       "text": [
        "\n",
        "D:\\Data\\GPCP_tif_clip_clip//gpcp_1dd_v1.2_p1d.20070317.tif"
       ]
      },
      {
       "output_type": "stream",
       "stream": "stdout",
       "text": [
        "\n",
        "D:\\Data\\GPCP_tif_clip_clip//gpcp_1dd_v1.2_p1d.20070318.tif"
       ]
      },
      {
       "output_type": "stream",
       "stream": "stdout",
       "text": [
        "\n",
        "D:\\Data\\GPCP_tif_clip_clip//gpcp_1dd_v1.2_p1d.20070319.tif"
       ]
      },
      {
       "output_type": "stream",
       "stream": "stdout",
       "text": [
        "\n",
        "D:\\Data\\GPCP_tif_clip_clip//gpcp_1dd_v1.2_p1d.20070320.tif"
       ]
      },
      {
       "output_type": "stream",
       "stream": "stdout",
       "text": [
        "\n",
        "D:\\Data\\GPCP_tif_clip_clip//gpcp_1dd_v1.2_p1d.20070321.tif"
       ]
      },
      {
       "output_type": "stream",
       "stream": "stdout",
       "text": [
        "\n",
        "D:\\Data\\GPCP_tif_clip_clip//gpcp_1dd_v1.2_p1d.20070322.tif"
       ]
      },
      {
       "output_type": "stream",
       "stream": "stdout",
       "text": [
        "\n",
        "D:\\Data\\GPCP_tif_clip_clip//gpcp_1dd_v1.2_p1d.20070323.tif"
       ]
      },
      {
       "output_type": "stream",
       "stream": "stdout",
       "text": [
        "\n",
        "D:\\Data\\GPCP_tif_clip_clip//gpcp_1dd_v1.2_p1d.20070324.tif"
       ]
      },
      {
       "output_type": "stream",
       "stream": "stdout",
       "text": [
        "\n",
        "D:\\Data\\GPCP_tif_clip_clip//gpcp_1dd_v1.2_p1d.20070325.tif"
       ]
      },
      {
       "output_type": "stream",
       "stream": "stdout",
       "text": [
        "\n",
        "D:\\Data\\GPCP_tif_clip_clip//gpcp_1dd_v1.2_p1d.20070326.tif"
       ]
      },
      {
       "output_type": "stream",
       "stream": "stdout",
       "text": [
        "\n",
        "D:\\Data\\GPCP_tif_clip_clip//gpcp_1dd_v1.2_p1d.20070327.tif"
       ]
      },
      {
       "output_type": "stream",
       "stream": "stdout",
       "text": [
        "\n",
        "D:\\Data\\GPCP_tif_clip_clip//gpcp_1dd_v1.2_p1d.20070328.tif"
       ]
      },
      {
       "output_type": "stream",
       "stream": "stdout",
       "text": [
        "\n",
        "D:\\Data\\GPCP_tif_clip_clip//gpcp_1dd_v1.2_p1d.20070329.tif"
       ]
      },
      {
       "output_type": "stream",
       "stream": "stdout",
       "text": [
        "\n",
        "D:\\Data\\GPCP_tif_clip_clip//gpcp_1dd_v1.2_p1d.20070330.tif"
       ]
      },
      {
       "output_type": "stream",
       "stream": "stdout",
       "text": [
        "\n",
        "D:\\Data\\GPCP_tif_clip_clip//gpcp_1dd_v1.2_p1d.20070400.tif"
       ]
      },
      {
       "output_type": "stream",
       "stream": "stdout",
       "text": [
        "\n",
        "D:\\Data\\GPCP_tif_clip_clip//gpcp_1dd_v1.2_p1d.20070401.tif"
       ]
      },
      {
       "output_type": "stream",
       "stream": "stdout",
       "text": [
        "\n",
        "D:\\Data\\GPCP_tif_clip_clip//gpcp_1dd_v1.2_p1d.20070402.tif"
       ]
      },
      {
       "output_type": "stream",
       "stream": "stdout",
       "text": [
        "\n",
        "D:\\Data\\GPCP_tif_clip_clip//gpcp_1dd_v1.2_p1d.20070403.tif"
       ]
      },
      {
       "output_type": "stream",
       "stream": "stdout",
       "text": [
        "\n",
        "D:\\Data\\GPCP_tif_clip_clip//gpcp_1dd_v1.2_p1d.20070404.tif"
       ]
      },
      {
       "output_type": "stream",
       "stream": "stdout",
       "text": [
        "\n",
        "D:\\Data\\GPCP_tif_clip_clip//gpcp_1dd_v1.2_p1d.20070405.tif"
       ]
      },
      {
       "output_type": "stream",
       "stream": "stdout",
       "text": [
        "\n",
        "D:\\Data\\GPCP_tif_clip_clip//gpcp_1dd_v1.2_p1d.20070406.tif"
       ]
      },
      {
       "output_type": "stream",
       "stream": "stdout",
       "text": [
        "\n",
        "D:\\Data\\GPCP_tif_clip_clip//gpcp_1dd_v1.2_p1d.20070407.tif"
       ]
      },
      {
       "output_type": "stream",
       "stream": "stdout",
       "text": [
        "\n",
        "D:\\Data\\GPCP_tif_clip_clip//gpcp_1dd_v1.2_p1d.20070408.tif"
       ]
      },
      {
       "output_type": "stream",
       "stream": "stdout",
       "text": [
        "\n",
        "D:\\Data\\GPCP_tif_clip_clip//gpcp_1dd_v1.2_p1d.20070409.tif"
       ]
      },
      {
       "output_type": "stream",
       "stream": "stdout",
       "text": [
        "\n",
        "D:\\Data\\GPCP_tif_clip_clip//gpcp_1dd_v1.2_p1d.20070410.tif"
       ]
      },
      {
       "output_type": "stream",
       "stream": "stdout",
       "text": [
        "\n",
        "D:\\Data\\GPCP_tif_clip_clip//gpcp_1dd_v1.2_p1d.20070411.tif"
       ]
      },
      {
       "output_type": "stream",
       "stream": "stdout",
       "text": [
        "\n",
        "D:\\Data\\GPCP_tif_clip_clip//gpcp_1dd_v1.2_p1d.20070412.tif"
       ]
      },
      {
       "output_type": "stream",
       "stream": "stdout",
       "text": [
        "\n",
        "D:\\Data\\GPCP_tif_clip_clip//gpcp_1dd_v1.2_p1d.20070413.tif"
       ]
      },
      {
       "output_type": "stream",
       "stream": "stdout",
       "text": [
        "\n",
        "D:\\Data\\GPCP_tif_clip_clip//gpcp_1dd_v1.2_p1d.20070414.tif"
       ]
      },
      {
       "output_type": "stream",
       "stream": "stdout",
       "text": [
        "\n",
        "D:\\Data\\GPCP_tif_clip_clip//gpcp_1dd_v1.2_p1d.20070415.tif"
       ]
      },
      {
       "output_type": "stream",
       "stream": "stdout",
       "text": [
        "\n",
        "D:\\Data\\GPCP_tif_clip_clip//gpcp_1dd_v1.2_p1d.20070416.tif"
       ]
      },
      {
       "output_type": "stream",
       "stream": "stdout",
       "text": [
        "\n",
        "D:\\Data\\GPCP_tif_clip_clip//gpcp_1dd_v1.2_p1d.20070417.tif"
       ]
      },
      {
       "output_type": "stream",
       "stream": "stdout",
       "text": [
        "\n",
        "D:\\Data\\GPCP_tif_clip_clip//gpcp_1dd_v1.2_p1d.20070418.tif"
       ]
      },
      {
       "output_type": "stream",
       "stream": "stdout",
       "text": [
        "\n",
        "D:\\Data\\GPCP_tif_clip_clip//gpcp_1dd_v1.2_p1d.20070419.tif"
       ]
      },
      {
       "output_type": "stream",
       "stream": "stdout",
       "text": [
        "\n",
        "D:\\Data\\GPCP_tif_clip_clip//gpcp_1dd_v1.2_p1d.20070420.tif"
       ]
      },
      {
       "output_type": "stream",
       "stream": "stdout",
       "text": [
        "\n",
        "D:\\Data\\GPCP_tif_clip_clip//gpcp_1dd_v1.2_p1d.20070421.tif"
       ]
      },
      {
       "output_type": "stream",
       "stream": "stdout",
       "text": [
        "\n",
        "D:\\Data\\GPCP_tif_clip_clip//gpcp_1dd_v1.2_p1d.20070422.tif"
       ]
      },
      {
       "output_type": "stream",
       "stream": "stdout",
       "text": [
        "\n",
        "D:\\Data\\GPCP_tif_clip_clip//gpcp_1dd_v1.2_p1d.20070423.tif"
       ]
      },
      {
       "output_type": "stream",
       "stream": "stdout",
       "text": [
        "\n",
        "D:\\Data\\GPCP_tif_clip_clip//gpcp_1dd_v1.2_p1d.20070424.tif"
       ]
      },
      {
       "output_type": "stream",
       "stream": "stdout",
       "text": [
        "\n",
        "D:\\Data\\GPCP_tif_clip_clip//gpcp_1dd_v1.2_p1d.20070425.tif"
       ]
      },
      {
       "output_type": "stream",
       "stream": "stdout",
       "text": [
        "\n",
        "D:\\Data\\GPCP_tif_clip_clip//gpcp_1dd_v1.2_p1d.20070426.tif"
       ]
      },
      {
       "output_type": "stream",
       "stream": "stdout",
       "text": [
        "\n",
        "D:\\Data\\GPCP_tif_clip_clip//gpcp_1dd_v1.2_p1d.20070427.tif"
       ]
      },
      {
       "output_type": "stream",
       "stream": "stdout",
       "text": [
        "\n",
        "D:\\Data\\GPCP_tif_clip_clip//gpcp_1dd_v1.2_p1d.20070428.tif"
       ]
      },
      {
       "output_type": "stream",
       "stream": "stdout",
       "text": [
        "\n",
        "D:\\Data\\GPCP_tif_clip_clip//gpcp_1dd_v1.2_p1d.20070429.tif"
       ]
      },
      {
       "output_type": "stream",
       "stream": "stdout",
       "text": [
        "\n",
        "D:\\Data\\GPCP_tif_clip_clip//gpcp_1dd_v1.2_p1d.20070500.tif"
       ]
      },
      {
       "output_type": "stream",
       "stream": "stdout",
       "text": [
        "\n",
        "D:\\Data\\GPCP_tif_clip_clip//gpcp_1dd_v1.2_p1d.20070501.tif"
       ]
      },
      {
       "output_type": "stream",
       "stream": "stdout",
       "text": [
        "\n",
        "D:\\Data\\GPCP_tif_clip_clip//gpcp_1dd_v1.2_p1d.20070502.tif"
       ]
      },
      {
       "output_type": "stream",
       "stream": "stdout",
       "text": [
        "\n",
        "D:\\Data\\GPCP_tif_clip_clip//gpcp_1dd_v1.2_p1d.20070503.tif"
       ]
      },
      {
       "output_type": "stream",
       "stream": "stdout",
       "text": [
        "\n",
        "D:\\Data\\GPCP_tif_clip_clip//gpcp_1dd_v1.2_p1d.20070504.tif"
       ]
      },
      {
       "output_type": "stream",
       "stream": "stdout",
       "text": [
        "\n",
        "D:\\Data\\GPCP_tif_clip_clip//gpcp_1dd_v1.2_p1d.20070505.tif"
       ]
      },
      {
       "output_type": "stream",
       "stream": "stdout",
       "text": [
        "\n",
        "D:\\Data\\GPCP_tif_clip_clip//gpcp_1dd_v1.2_p1d.20070506.tif"
       ]
      },
      {
       "output_type": "stream",
       "stream": "stdout",
       "text": [
        "\n",
        "D:\\Data\\GPCP_tif_clip_clip//gpcp_1dd_v1.2_p1d.20070507.tif"
       ]
      },
      {
       "output_type": "stream",
       "stream": "stdout",
       "text": [
        "\n",
        "D:\\Data\\GPCP_tif_clip_clip//gpcp_1dd_v1.2_p1d.20070508.tif"
       ]
      },
      {
       "output_type": "stream",
       "stream": "stdout",
       "text": [
        "\n",
        "D:\\Data\\GPCP_tif_clip_clip//gpcp_1dd_v1.2_p1d.20070509.tif"
       ]
      },
      {
       "output_type": "stream",
       "stream": "stdout",
       "text": [
        "\n",
        "D:\\Data\\GPCP_tif_clip_clip//gpcp_1dd_v1.2_p1d.20070510.tif"
       ]
      },
      {
       "output_type": "stream",
       "stream": "stdout",
       "text": [
        "\n",
        "D:\\Data\\GPCP_tif_clip_clip//gpcp_1dd_v1.2_p1d.20070511.tif"
       ]
      },
      {
       "output_type": "stream",
       "stream": "stdout",
       "text": [
        "\n",
        "D:\\Data\\GPCP_tif_clip_clip//gpcp_1dd_v1.2_p1d.20070512.tif"
       ]
      },
      {
       "output_type": "stream",
       "stream": "stdout",
       "text": [
        "\n",
        "D:\\Data\\GPCP_tif_clip_clip//gpcp_1dd_v1.2_p1d.20070513.tif"
       ]
      },
      {
       "output_type": "stream",
       "stream": "stdout",
       "text": [
        "\n",
        "D:\\Data\\GPCP_tif_clip_clip//gpcp_1dd_v1.2_p1d.20070514.tif"
       ]
      },
      {
       "output_type": "stream",
       "stream": "stdout",
       "text": [
        "\n",
        "D:\\Data\\GPCP_tif_clip_clip//gpcp_1dd_v1.2_p1d.20070515.tif"
       ]
      },
      {
       "output_type": "stream",
       "stream": "stdout",
       "text": [
        "\n",
        "D:\\Data\\GPCP_tif_clip_clip//gpcp_1dd_v1.2_p1d.20070516.tif"
       ]
      },
      {
       "output_type": "stream",
       "stream": "stdout",
       "text": [
        "\n",
        "D:\\Data\\GPCP_tif_clip_clip//gpcp_1dd_v1.2_p1d.20070517.tif"
       ]
      },
      {
       "output_type": "stream",
       "stream": "stdout",
       "text": [
        "\n",
        "D:\\Data\\GPCP_tif_clip_clip//gpcp_1dd_v1.2_p1d.20070518.tif"
       ]
      },
      {
       "output_type": "stream",
       "stream": "stdout",
       "text": [
        "\n",
        "D:\\Data\\GPCP_tif_clip_clip//gpcp_1dd_v1.2_p1d.20070519.tif"
       ]
      },
      {
       "output_type": "stream",
       "stream": "stdout",
       "text": [
        "\n",
        "D:\\Data\\GPCP_tif_clip_clip//gpcp_1dd_v1.2_p1d.20070520.tif"
       ]
      },
      {
       "output_type": "stream",
       "stream": "stdout",
       "text": [
        "\n",
        "D:\\Data\\GPCP_tif_clip_clip//gpcp_1dd_v1.2_p1d.20070521.tif"
       ]
      },
      {
       "output_type": "stream",
       "stream": "stdout",
       "text": [
        "\n",
        "D:\\Data\\GPCP_tif_clip_clip//gpcp_1dd_v1.2_p1d.20070522.tif"
       ]
      },
      {
       "output_type": "stream",
       "stream": "stdout",
       "text": [
        "\n",
        "D:\\Data\\GPCP_tif_clip_clip//gpcp_1dd_v1.2_p1d.20070523.tif"
       ]
      },
      {
       "output_type": "stream",
       "stream": "stdout",
       "text": [
        "\n",
        "D:\\Data\\GPCP_tif_clip_clip//gpcp_1dd_v1.2_p1d.20070524.tif"
       ]
      },
      {
       "output_type": "stream",
       "stream": "stdout",
       "text": [
        "\n",
        "D:\\Data\\GPCP_tif_clip_clip//gpcp_1dd_v1.2_p1d.20070525.tif"
       ]
      },
      {
       "output_type": "stream",
       "stream": "stdout",
       "text": [
        "\n",
        "D:\\Data\\GPCP_tif_clip_clip//gpcp_1dd_v1.2_p1d.20070526.tif"
       ]
      },
      {
       "output_type": "stream",
       "stream": "stdout",
       "text": [
        "\n",
        "D:\\Data\\GPCP_tif_clip_clip//gpcp_1dd_v1.2_p1d.20070527.tif"
       ]
      },
      {
       "output_type": "stream",
       "stream": "stdout",
       "text": [
        "\n",
        "D:\\Data\\GPCP_tif_clip_clip//gpcp_1dd_v1.2_p1d.20070528.tif"
       ]
      },
      {
       "output_type": "stream",
       "stream": "stdout",
       "text": [
        "\n",
        "D:\\Data\\GPCP_tif_clip_clip//gpcp_1dd_v1.2_p1d.20070529.tif"
       ]
      },
      {
       "output_type": "stream",
       "stream": "stdout",
       "text": [
        "\n",
        "D:\\Data\\GPCP_tif_clip_clip//gpcp_1dd_v1.2_p1d.20070530.tif"
       ]
      },
      {
       "output_type": "stream",
       "stream": "stdout",
       "text": [
        "\n",
        "D:\\Data\\GPCP_tif_clip_clip//gpcp_1dd_v1.2_p1d.20070600.tif"
       ]
      },
      {
       "output_type": "stream",
       "stream": "stdout",
       "text": [
        "\n",
        "D:\\Data\\GPCP_tif_clip_clip//gpcp_1dd_v1.2_p1d.20070601.tif"
       ]
      },
      {
       "output_type": "stream",
       "stream": "stdout",
       "text": [
        "\n",
        "D:\\Data\\GPCP_tif_clip_clip//gpcp_1dd_v1.2_p1d.20070602.tif"
       ]
      },
      {
       "output_type": "stream",
       "stream": "stdout",
       "text": [
        "\n",
        "D:\\Data\\GPCP_tif_clip_clip//gpcp_1dd_v1.2_p1d.20070603.tif"
       ]
      },
      {
       "output_type": "stream",
       "stream": "stdout",
       "text": [
        "\n",
        "D:\\Data\\GPCP_tif_clip_clip//gpcp_1dd_v1.2_p1d.20070604.tif"
       ]
      },
      {
       "output_type": "stream",
       "stream": "stdout",
       "text": [
        "\n",
        "D:\\Data\\GPCP_tif_clip_clip//gpcp_1dd_v1.2_p1d.20070605.tif"
       ]
      },
      {
       "output_type": "stream",
       "stream": "stdout",
       "text": [
        "\n",
        "D:\\Data\\GPCP_tif_clip_clip//gpcp_1dd_v1.2_p1d.20070606.tif"
       ]
      },
      {
       "output_type": "stream",
       "stream": "stdout",
       "text": [
        "\n",
        "D:\\Data\\GPCP_tif_clip_clip//gpcp_1dd_v1.2_p1d.20070607.tif"
       ]
      },
      {
       "output_type": "stream",
       "stream": "stdout",
       "text": [
        "\n",
        "D:\\Data\\GPCP_tif_clip_clip//gpcp_1dd_v1.2_p1d.20070608.tif"
       ]
      },
      {
       "output_type": "stream",
       "stream": "stdout",
       "text": [
        "\n",
        "D:\\Data\\GPCP_tif_clip_clip//gpcp_1dd_v1.2_p1d.20070609.tif"
       ]
      },
      {
       "output_type": "stream",
       "stream": "stdout",
       "text": [
        "\n",
        "D:\\Data\\GPCP_tif_clip_clip//gpcp_1dd_v1.2_p1d.20070610.tif"
       ]
      },
      {
       "output_type": "stream",
       "stream": "stdout",
       "text": [
        "\n",
        "D:\\Data\\GPCP_tif_clip_clip//gpcp_1dd_v1.2_p1d.20070611.tif"
       ]
      },
      {
       "output_type": "stream",
       "stream": "stdout",
       "text": [
        "\n",
        "D:\\Data\\GPCP_tif_clip_clip//gpcp_1dd_v1.2_p1d.20070612.tif"
       ]
      },
      {
       "output_type": "stream",
       "stream": "stdout",
       "text": [
        "\n",
        "D:\\Data\\GPCP_tif_clip_clip//gpcp_1dd_v1.2_p1d.20070613.tif"
       ]
      },
      {
       "output_type": "stream",
       "stream": "stdout",
       "text": [
        "\n",
        "D:\\Data\\GPCP_tif_clip_clip//gpcp_1dd_v1.2_p1d.20070614.tif"
       ]
      },
      {
       "output_type": "stream",
       "stream": "stdout",
       "text": [
        "\n",
        "D:\\Data\\GPCP_tif_clip_clip//gpcp_1dd_v1.2_p1d.20070615.tif"
       ]
      },
      {
       "output_type": "stream",
       "stream": "stdout",
       "text": [
        "\n",
        "D:\\Data\\GPCP_tif_clip_clip//gpcp_1dd_v1.2_p1d.20070616.tif"
       ]
      },
      {
       "output_type": "stream",
       "stream": "stdout",
       "text": [
        "\n",
        "D:\\Data\\GPCP_tif_clip_clip//gpcp_1dd_v1.2_p1d.20070617.tif"
       ]
      },
      {
       "output_type": "stream",
       "stream": "stdout",
       "text": [
        "\n",
        "D:\\Data\\GPCP_tif_clip_clip//gpcp_1dd_v1.2_p1d.20070618.tif"
       ]
      },
      {
       "output_type": "stream",
       "stream": "stdout",
       "text": [
        "\n",
        "D:\\Data\\GPCP_tif_clip_clip//gpcp_1dd_v1.2_p1d.20070619.tif"
       ]
      },
      {
       "output_type": "stream",
       "stream": "stdout",
       "text": [
        "\n",
        "D:\\Data\\GPCP_tif_clip_clip//gpcp_1dd_v1.2_p1d.20070620.tif"
       ]
      },
      {
       "output_type": "stream",
       "stream": "stdout",
       "text": [
        "\n",
        "D:\\Data\\GPCP_tif_clip_clip//gpcp_1dd_v1.2_p1d.20070621.tif"
       ]
      },
      {
       "output_type": "stream",
       "stream": "stdout",
       "text": [
        "\n",
        "D:\\Data\\GPCP_tif_clip_clip//gpcp_1dd_v1.2_p1d.20070622.tif"
       ]
      },
      {
       "output_type": "stream",
       "stream": "stdout",
       "text": [
        "\n",
        "D:\\Data\\GPCP_tif_clip_clip//gpcp_1dd_v1.2_p1d.20070623.tif"
       ]
      },
      {
       "output_type": "stream",
       "stream": "stdout",
       "text": [
        "\n",
        "D:\\Data\\GPCP_tif_clip_clip//gpcp_1dd_v1.2_p1d.20070624.tif"
       ]
      },
      {
       "output_type": "stream",
       "stream": "stdout",
       "text": [
        "\n",
        "D:\\Data\\GPCP_tif_clip_clip//gpcp_1dd_v1.2_p1d.20070625.tif"
       ]
      },
      {
       "output_type": "stream",
       "stream": "stdout",
       "text": [
        "\n",
        "D:\\Data\\GPCP_tif_clip_clip//gpcp_1dd_v1.2_p1d.20070626.tif"
       ]
      },
      {
       "output_type": "stream",
       "stream": "stdout",
       "text": [
        "\n",
        "D:\\Data\\GPCP_tif_clip_clip//gpcp_1dd_v1.2_p1d.20070627.tif"
       ]
      },
      {
       "output_type": "stream",
       "stream": "stdout",
       "text": [
        "\n",
        "D:\\Data\\GPCP_tif_clip_clip//gpcp_1dd_v1.2_p1d.20070628.tif"
       ]
      },
      {
       "output_type": "stream",
       "stream": "stdout",
       "text": [
        "\n",
        "D:\\Data\\GPCP_tif_clip_clip//gpcp_1dd_v1.2_p1d.20070629.tif"
       ]
      },
      {
       "output_type": "stream",
       "stream": "stdout",
       "text": [
        "\n",
        "D:\\Data\\GPCP_tif_clip_clip//gpcp_1dd_v1.2_p1d.20070700.tif"
       ]
      },
      {
       "output_type": "stream",
       "stream": "stdout",
       "text": [
        "\n",
        "D:\\Data\\GPCP_tif_clip_clip//gpcp_1dd_v1.2_p1d.20070701.tif"
       ]
      },
      {
       "output_type": "stream",
       "stream": "stdout",
       "text": [
        "\n",
        "D:\\Data\\GPCP_tif_clip_clip//gpcp_1dd_v1.2_p1d.20070702.tif"
       ]
      },
      {
       "output_type": "stream",
       "stream": "stdout",
       "text": [
        "\n",
        "D:\\Data\\GPCP_tif_clip_clip//gpcp_1dd_v1.2_p1d.20070703.tif"
       ]
      },
      {
       "output_type": "stream",
       "stream": "stdout",
       "text": [
        "\n",
        "D:\\Data\\GPCP_tif_clip_clip//gpcp_1dd_v1.2_p1d.20070704.tif"
       ]
      },
      {
       "output_type": "stream",
       "stream": "stdout",
       "text": [
        "\n",
        "D:\\Data\\GPCP_tif_clip_clip//gpcp_1dd_v1.2_p1d.20070705.tif"
       ]
      },
      {
       "output_type": "stream",
       "stream": "stdout",
       "text": [
        "\n",
        "D:\\Data\\GPCP_tif_clip_clip//gpcp_1dd_v1.2_p1d.20070706.tif"
       ]
      },
      {
       "output_type": "stream",
       "stream": "stdout",
       "text": [
        "\n",
        "D:\\Data\\GPCP_tif_clip_clip//gpcp_1dd_v1.2_p1d.20070707.tif"
       ]
      },
      {
       "output_type": "stream",
       "stream": "stdout",
       "text": [
        "\n",
        "D:\\Data\\GPCP_tif_clip_clip//gpcp_1dd_v1.2_p1d.20070708.tif"
       ]
      },
      {
       "output_type": "stream",
       "stream": "stdout",
       "text": [
        "\n",
        "D:\\Data\\GPCP_tif_clip_clip//gpcp_1dd_v1.2_p1d.20070709.tif"
       ]
      },
      {
       "output_type": "stream",
       "stream": "stdout",
       "text": [
        "\n",
        "D:\\Data\\GPCP_tif_clip_clip//gpcp_1dd_v1.2_p1d.20070710.tif"
       ]
      },
      {
       "output_type": "stream",
       "stream": "stdout",
       "text": [
        "\n",
        "D:\\Data\\GPCP_tif_clip_clip//gpcp_1dd_v1.2_p1d.20070711.tif"
       ]
      },
      {
       "output_type": "stream",
       "stream": "stdout",
       "text": [
        "\n",
        "D:\\Data\\GPCP_tif_clip_clip//gpcp_1dd_v1.2_p1d.20070712.tif"
       ]
      },
      {
       "output_type": "stream",
       "stream": "stdout",
       "text": [
        "\n",
        "D:\\Data\\GPCP_tif_clip_clip//gpcp_1dd_v1.2_p1d.20070713.tif"
       ]
      },
      {
       "output_type": "stream",
       "stream": "stdout",
       "text": [
        "\n",
        "D:\\Data\\GPCP_tif_clip_clip//gpcp_1dd_v1.2_p1d.20070714.tif"
       ]
      },
      {
       "output_type": "stream",
       "stream": "stdout",
       "text": [
        "\n",
        "D:\\Data\\GPCP_tif_clip_clip//gpcp_1dd_v1.2_p1d.20070715.tif"
       ]
      },
      {
       "output_type": "stream",
       "stream": "stdout",
       "text": [
        "\n",
        "D:\\Data\\GPCP_tif_clip_clip//gpcp_1dd_v1.2_p1d.20070716.tif"
       ]
      },
      {
       "output_type": "stream",
       "stream": "stdout",
       "text": [
        "\n",
        "D:\\Data\\GPCP_tif_clip_clip//gpcp_1dd_v1.2_p1d.20070717.tif"
       ]
      },
      {
       "output_type": "stream",
       "stream": "stdout",
       "text": [
        "\n",
        "D:\\Data\\GPCP_tif_clip_clip//gpcp_1dd_v1.2_p1d.20070718.tif"
       ]
      },
      {
       "output_type": "stream",
       "stream": "stdout",
       "text": [
        "\n",
        "D:\\Data\\GPCP_tif_clip_clip//gpcp_1dd_v1.2_p1d.20070719.tif"
       ]
      },
      {
       "output_type": "stream",
       "stream": "stdout",
       "text": [
        "\n",
        "D:\\Data\\GPCP_tif_clip_clip//gpcp_1dd_v1.2_p1d.20070720.tif"
       ]
      },
      {
       "output_type": "stream",
       "stream": "stdout",
       "text": [
        "\n",
        "D:\\Data\\GPCP_tif_clip_clip//gpcp_1dd_v1.2_p1d.20070721.tif"
       ]
      },
      {
       "output_type": "stream",
       "stream": "stdout",
       "text": [
        "\n",
        "D:\\Data\\GPCP_tif_clip_clip//gpcp_1dd_v1.2_p1d.20070722.tif"
       ]
      },
      {
       "output_type": "stream",
       "stream": "stdout",
       "text": [
        "\n",
        "D:\\Data\\GPCP_tif_clip_clip//gpcp_1dd_v1.2_p1d.20070723.tif"
       ]
      },
      {
       "output_type": "stream",
       "stream": "stdout",
       "text": [
        "\n",
        "D:\\Data\\GPCP_tif_clip_clip//gpcp_1dd_v1.2_p1d.20070724.tif"
       ]
      },
      {
       "output_type": "stream",
       "stream": "stdout",
       "text": [
        "\n",
        "D:\\Data\\GPCP_tif_clip_clip//gpcp_1dd_v1.2_p1d.20070725.tif"
       ]
      },
      {
       "output_type": "stream",
       "stream": "stdout",
       "text": [
        "\n",
        "D:\\Data\\GPCP_tif_clip_clip//gpcp_1dd_v1.2_p1d.20070726.tif"
       ]
      },
      {
       "output_type": "stream",
       "stream": "stdout",
       "text": [
        "\n",
        "D:\\Data\\GPCP_tif_clip_clip//gpcp_1dd_v1.2_p1d.20070727.tif"
       ]
      },
      {
       "output_type": "stream",
       "stream": "stdout",
       "text": [
        "\n",
        "D:\\Data\\GPCP_tif_clip_clip//gpcp_1dd_v1.2_p1d.20070728.tif"
       ]
      },
      {
       "output_type": "stream",
       "stream": "stdout",
       "text": [
        "\n",
        "D:\\Data\\GPCP_tif_clip_clip//gpcp_1dd_v1.2_p1d.20070729.tif"
       ]
      },
      {
       "output_type": "stream",
       "stream": "stdout",
       "text": [
        "\n",
        "D:\\Data\\GPCP_tif_clip_clip//gpcp_1dd_v1.2_p1d.20070730.tif"
       ]
      },
      {
       "output_type": "stream",
       "stream": "stdout",
       "text": [
        "\n",
        "D:\\Data\\GPCP_tif_clip_clip//gpcp_1dd_v1.2_p1d.20070800.tif"
       ]
      },
      {
       "output_type": "stream",
       "stream": "stdout",
       "text": [
        "\n",
        "D:\\Data\\GPCP_tif_clip_clip//gpcp_1dd_v1.2_p1d.20070801.tif"
       ]
      },
      {
       "output_type": "stream",
       "stream": "stdout",
       "text": [
        "\n",
        "D:\\Data\\GPCP_tif_clip_clip//gpcp_1dd_v1.2_p1d.20070802.tif"
       ]
      },
      {
       "output_type": "stream",
       "stream": "stdout",
       "text": [
        "\n",
        "D:\\Data\\GPCP_tif_clip_clip//gpcp_1dd_v1.2_p1d.20070803.tif"
       ]
      },
      {
       "output_type": "stream",
       "stream": "stdout",
       "text": [
        "\n",
        "D:\\Data\\GPCP_tif_clip_clip//gpcp_1dd_v1.2_p1d.20070804.tif"
       ]
      },
      {
       "output_type": "stream",
       "stream": "stdout",
       "text": [
        "\n",
        "D:\\Data\\GPCP_tif_clip_clip//gpcp_1dd_v1.2_p1d.20070805.tif"
       ]
      },
      {
       "output_type": "stream",
       "stream": "stdout",
       "text": [
        "\n",
        "D:\\Data\\GPCP_tif_clip_clip//gpcp_1dd_v1.2_p1d.20070806.tif"
       ]
      },
      {
       "output_type": "stream",
       "stream": "stdout",
       "text": [
        "\n",
        "D:\\Data\\GPCP_tif_clip_clip//gpcp_1dd_v1.2_p1d.20070807.tif"
       ]
      },
      {
       "output_type": "stream",
       "stream": "stdout",
       "text": [
        "\n",
        "D:\\Data\\GPCP_tif_clip_clip//gpcp_1dd_v1.2_p1d.20070808.tif"
       ]
      },
      {
       "output_type": "stream",
       "stream": "stdout",
       "text": [
        "\n",
        "D:\\Data\\GPCP_tif_clip_clip//gpcp_1dd_v1.2_p1d.20070809.tif"
       ]
      },
      {
       "output_type": "stream",
       "stream": "stdout",
       "text": [
        "\n",
        "D:\\Data\\GPCP_tif_clip_clip//gpcp_1dd_v1.2_p1d.20070810.tif"
       ]
      },
      {
       "output_type": "stream",
       "stream": "stdout",
       "text": [
        "\n",
        "D:\\Data\\GPCP_tif_clip_clip//gpcp_1dd_v1.2_p1d.20070811.tif"
       ]
      },
      {
       "output_type": "stream",
       "stream": "stdout",
       "text": [
        "\n",
        "D:\\Data\\GPCP_tif_clip_clip//gpcp_1dd_v1.2_p1d.20070812.tif"
       ]
      },
      {
       "output_type": "stream",
       "stream": "stdout",
       "text": [
        "\n",
        "D:\\Data\\GPCP_tif_clip_clip//gpcp_1dd_v1.2_p1d.20070813.tif"
       ]
      },
      {
       "output_type": "stream",
       "stream": "stdout",
       "text": [
        "\n",
        "D:\\Data\\GPCP_tif_clip_clip//gpcp_1dd_v1.2_p1d.20070814.tif"
       ]
      },
      {
       "output_type": "stream",
       "stream": "stdout",
       "text": [
        "\n",
        "D:\\Data\\GPCP_tif_clip_clip//gpcp_1dd_v1.2_p1d.20070815.tif"
       ]
      },
      {
       "output_type": "stream",
       "stream": "stdout",
       "text": [
        "\n",
        "D:\\Data\\GPCP_tif_clip_clip//gpcp_1dd_v1.2_p1d.20070816.tif"
       ]
      },
      {
       "output_type": "stream",
       "stream": "stdout",
       "text": [
        "\n",
        "D:\\Data\\GPCP_tif_clip_clip//gpcp_1dd_v1.2_p1d.20070817.tif"
       ]
      },
      {
       "output_type": "stream",
       "stream": "stdout",
       "text": [
        "\n",
        "D:\\Data\\GPCP_tif_clip_clip//gpcp_1dd_v1.2_p1d.20070818.tif"
       ]
      },
      {
       "output_type": "stream",
       "stream": "stdout",
       "text": [
        "\n",
        "D:\\Data\\GPCP_tif_clip_clip//gpcp_1dd_v1.2_p1d.20070819.tif"
       ]
      },
      {
       "output_type": "stream",
       "stream": "stdout",
       "text": [
        "\n",
        "D:\\Data\\GPCP_tif_clip_clip//gpcp_1dd_v1.2_p1d.20070820.tif"
       ]
      },
      {
       "output_type": "stream",
       "stream": "stdout",
       "text": [
        "\n",
        "D:\\Data\\GPCP_tif_clip_clip//gpcp_1dd_v1.2_p1d.20070821.tif"
       ]
      },
      {
       "output_type": "stream",
       "stream": "stdout",
       "text": [
        "\n",
        "D:\\Data\\GPCP_tif_clip_clip//gpcp_1dd_v1.2_p1d.20070822.tif"
       ]
      },
      {
       "output_type": "stream",
       "stream": "stdout",
       "text": [
        "\n",
        "D:\\Data\\GPCP_tif_clip_clip//gpcp_1dd_v1.2_p1d.20070823.tif"
       ]
      },
      {
       "output_type": "stream",
       "stream": "stdout",
       "text": [
        "\n",
        "D:\\Data\\GPCP_tif_clip_clip//gpcp_1dd_v1.2_p1d.20070824.tif"
       ]
      },
      {
       "output_type": "stream",
       "stream": "stdout",
       "text": [
        "\n",
        "D:\\Data\\GPCP_tif_clip_clip//gpcp_1dd_v1.2_p1d.20070825.tif"
       ]
      },
      {
       "output_type": "stream",
       "stream": "stdout",
       "text": [
        "\n",
        "D:\\Data\\GPCP_tif_clip_clip//gpcp_1dd_v1.2_p1d.20070826.tif"
       ]
      },
      {
       "output_type": "stream",
       "stream": "stdout",
       "text": [
        "\n",
        "D:\\Data\\GPCP_tif_clip_clip//gpcp_1dd_v1.2_p1d.20070827.tif"
       ]
      },
      {
       "output_type": "stream",
       "stream": "stdout",
       "text": [
        "\n",
        "D:\\Data\\GPCP_tif_clip_clip//gpcp_1dd_v1.2_p1d.20070828.tif"
       ]
      },
      {
       "output_type": "stream",
       "stream": "stdout",
       "text": [
        "\n",
        "D:\\Data\\GPCP_tif_clip_clip//gpcp_1dd_v1.2_p1d.20070829.tif"
       ]
      },
      {
       "output_type": "stream",
       "stream": "stdout",
       "text": [
        "\n",
        "D:\\Data\\GPCP_tif_clip_clip//gpcp_1dd_v1.2_p1d.20070830.tif"
       ]
      },
      {
       "output_type": "stream",
       "stream": "stdout",
       "text": [
        "\n",
        "D:\\Data\\GPCP_tif_clip_clip//gpcp_1dd_v1.2_p1d.20070900.tif"
       ]
      },
      {
       "output_type": "stream",
       "stream": "stdout",
       "text": [
        "\n",
        "D:\\Data\\GPCP_tif_clip_clip//gpcp_1dd_v1.2_p1d.20070901.tif"
       ]
      },
      {
       "output_type": "stream",
       "stream": "stdout",
       "text": [
        "\n",
        "D:\\Data\\GPCP_tif_clip_clip//gpcp_1dd_v1.2_p1d.20070902.tif"
       ]
      },
      {
       "output_type": "stream",
       "stream": "stdout",
       "text": [
        "\n",
        "D:\\Data\\GPCP_tif_clip_clip//gpcp_1dd_v1.2_p1d.20070903.tif"
       ]
      },
      {
       "output_type": "stream",
       "stream": "stdout",
       "text": [
        "\n",
        "D:\\Data\\GPCP_tif_clip_clip//gpcp_1dd_v1.2_p1d.20070904.tif"
       ]
      },
      {
       "output_type": "stream",
       "stream": "stdout",
       "text": [
        "\n",
        "D:\\Data\\GPCP_tif_clip_clip//gpcp_1dd_v1.2_p1d.20070905.tif"
       ]
      },
      {
       "output_type": "stream",
       "stream": "stdout",
       "text": [
        "\n",
        "D:\\Data\\GPCP_tif_clip_clip//gpcp_1dd_v1.2_p1d.20070906.tif"
       ]
      },
      {
       "output_type": "stream",
       "stream": "stdout",
       "text": [
        "\n",
        "D:\\Data\\GPCP_tif_clip_clip//gpcp_1dd_v1.2_p1d.20070907.tif"
       ]
      },
      {
       "output_type": "stream",
       "stream": "stdout",
       "text": [
        "\n",
        "D:\\Data\\GPCP_tif_clip_clip//gpcp_1dd_v1.2_p1d.20070908.tif"
       ]
      },
      {
       "output_type": "stream",
       "stream": "stdout",
       "text": [
        "\n",
        "D:\\Data\\GPCP_tif_clip_clip//gpcp_1dd_v1.2_p1d.20070909.tif"
       ]
      },
      {
       "output_type": "stream",
       "stream": "stdout",
       "text": [
        "\n",
        "D:\\Data\\GPCP_tif_clip_clip//gpcp_1dd_v1.2_p1d.20070910.tif"
       ]
      },
      {
       "output_type": "stream",
       "stream": "stdout",
       "text": [
        "\n",
        "D:\\Data\\GPCP_tif_clip_clip//gpcp_1dd_v1.2_p1d.20070911.tif"
       ]
      },
      {
       "output_type": "stream",
       "stream": "stdout",
       "text": [
        "\n",
        "D:\\Data\\GPCP_tif_clip_clip//gpcp_1dd_v1.2_p1d.20070912.tif"
       ]
      },
      {
       "output_type": "stream",
       "stream": "stdout",
       "text": [
        "\n",
        "D:\\Data\\GPCP_tif_clip_clip//gpcp_1dd_v1.2_p1d.20070913.tif"
       ]
      },
      {
       "output_type": "stream",
       "stream": "stdout",
       "text": [
        "\n",
        "D:\\Data\\GPCP_tif_clip_clip//gpcp_1dd_v1.2_p1d.20070914.tif"
       ]
      },
      {
       "output_type": "stream",
       "stream": "stdout",
       "text": [
        "\n",
        "D:\\Data\\GPCP_tif_clip_clip//gpcp_1dd_v1.2_p1d.20070915.tif"
       ]
      },
      {
       "output_type": "stream",
       "stream": "stdout",
       "text": [
        "\n",
        "D:\\Data\\GPCP_tif_clip_clip//gpcp_1dd_v1.2_p1d.20070916.tif"
       ]
      },
      {
       "output_type": "stream",
       "stream": "stdout",
       "text": [
        "\n",
        "D:\\Data\\GPCP_tif_clip_clip//gpcp_1dd_v1.2_p1d.20070917.tif"
       ]
      },
      {
       "output_type": "stream",
       "stream": "stdout",
       "text": [
        "\n",
        "D:\\Data\\GPCP_tif_clip_clip//gpcp_1dd_v1.2_p1d.20070918.tif"
       ]
      },
      {
       "output_type": "stream",
       "stream": "stdout",
       "text": [
        "\n",
        "D:\\Data\\GPCP_tif_clip_clip//gpcp_1dd_v1.2_p1d.20070919.tif"
       ]
      },
      {
       "output_type": "stream",
       "stream": "stdout",
       "text": [
        "\n",
        "D:\\Data\\GPCP_tif_clip_clip//gpcp_1dd_v1.2_p1d.20070920.tif"
       ]
      },
      {
       "output_type": "stream",
       "stream": "stdout",
       "text": [
        "\n",
        "D:\\Data\\GPCP_tif_clip_clip//gpcp_1dd_v1.2_p1d.20070921.tif"
       ]
      },
      {
       "output_type": "stream",
       "stream": "stdout",
       "text": [
        "\n",
        "D:\\Data\\GPCP_tif_clip_clip//gpcp_1dd_v1.2_p1d.20070922.tif"
       ]
      },
      {
       "output_type": "stream",
       "stream": "stdout",
       "text": [
        "\n",
        "D:\\Data\\GPCP_tif_clip_clip//gpcp_1dd_v1.2_p1d.20070923.tif"
       ]
      },
      {
       "output_type": "stream",
       "stream": "stdout",
       "text": [
        "\n",
        "D:\\Data\\GPCP_tif_clip_clip//gpcp_1dd_v1.2_p1d.20070924.tif"
       ]
      },
      {
       "output_type": "stream",
       "stream": "stdout",
       "text": [
        "\n",
        "D:\\Data\\GPCP_tif_clip_clip//gpcp_1dd_v1.2_p1d.20070925.tif"
       ]
      },
      {
       "output_type": "stream",
       "stream": "stdout",
       "text": [
        "\n",
        "D:\\Data\\GPCP_tif_clip_clip//gpcp_1dd_v1.2_p1d.20070926.tif"
       ]
      },
      {
       "output_type": "stream",
       "stream": "stdout",
       "text": [
        "\n",
        "D:\\Data\\GPCP_tif_clip_clip//gpcp_1dd_v1.2_p1d.20070927.tif"
       ]
      },
      {
       "output_type": "stream",
       "stream": "stdout",
       "text": [
        "\n",
        "D:\\Data\\GPCP_tif_clip_clip//gpcp_1dd_v1.2_p1d.20070928.tif"
       ]
      },
      {
       "output_type": "stream",
       "stream": "stdout",
       "text": [
        "\n",
        "D:\\Data\\GPCP_tif_clip_clip//gpcp_1dd_v1.2_p1d.20070929.tif"
       ]
      },
      {
       "output_type": "stream",
       "stream": "stdout",
       "text": [
        "\n",
        "D:\\Data\\GPCP_tif_clip_clip//gpcp_1dd_v1.2_p1d.20071000.tif"
       ]
      },
      {
       "output_type": "stream",
       "stream": "stdout",
       "text": [
        "\n",
        "D:\\Data\\GPCP_tif_clip_clip//gpcp_1dd_v1.2_p1d.20071001.tif"
       ]
      },
      {
       "output_type": "stream",
       "stream": "stdout",
       "text": [
        "\n",
        "D:\\Data\\GPCP_tif_clip_clip//gpcp_1dd_v1.2_p1d.20071002.tif"
       ]
      },
      {
       "output_type": "stream",
       "stream": "stdout",
       "text": [
        "\n",
        "D:\\Data\\GPCP_tif_clip_clip//gpcp_1dd_v1.2_p1d.20071003.tif"
       ]
      },
      {
       "output_type": "stream",
       "stream": "stdout",
       "text": [
        "\n",
        "D:\\Data\\GPCP_tif_clip_clip//gpcp_1dd_v1.2_p1d.20071004.tif"
       ]
      },
      {
       "output_type": "stream",
       "stream": "stdout",
       "text": [
        "\n",
        "D:\\Data\\GPCP_tif_clip_clip//gpcp_1dd_v1.2_p1d.20071005.tif"
       ]
      },
      {
       "output_type": "stream",
       "stream": "stdout",
       "text": [
        "\n",
        "D:\\Data\\GPCP_tif_clip_clip//gpcp_1dd_v1.2_p1d.20071006.tif"
       ]
      },
      {
       "output_type": "stream",
       "stream": "stdout",
       "text": [
        "\n",
        "D:\\Data\\GPCP_tif_clip_clip//gpcp_1dd_v1.2_p1d.20071007.tif"
       ]
      },
      {
       "output_type": "stream",
       "stream": "stdout",
       "text": [
        "\n",
        "D:\\Data\\GPCP_tif_clip_clip//gpcp_1dd_v1.2_p1d.20071008.tif"
       ]
      },
      {
       "output_type": "stream",
       "stream": "stdout",
       "text": [
        "\n",
        "D:\\Data\\GPCP_tif_clip_clip//gpcp_1dd_v1.2_p1d.20071009.tif"
       ]
      },
      {
       "output_type": "stream",
       "stream": "stdout",
       "text": [
        "\n",
        "D:\\Data\\GPCP_tif_clip_clip//gpcp_1dd_v1.2_p1d.20071010.tif"
       ]
      },
      {
       "output_type": "stream",
       "stream": "stdout",
       "text": [
        "\n",
        "D:\\Data\\GPCP_tif_clip_clip//gpcp_1dd_v1.2_p1d.20071011.tif"
       ]
      },
      {
       "output_type": "stream",
       "stream": "stdout",
       "text": [
        "\n",
        "D:\\Data\\GPCP_tif_clip_clip//gpcp_1dd_v1.2_p1d.20071012.tif"
       ]
      },
      {
       "output_type": "stream",
       "stream": "stdout",
       "text": [
        "\n",
        "D:\\Data\\GPCP_tif_clip_clip//gpcp_1dd_v1.2_p1d.20071013.tif"
       ]
      },
      {
       "output_type": "stream",
       "stream": "stdout",
       "text": [
        "\n",
        "D:\\Data\\GPCP_tif_clip_clip//gpcp_1dd_v1.2_p1d.20071014.tif"
       ]
      },
      {
       "output_type": "stream",
       "stream": "stdout",
       "text": [
        "\n",
        "D:\\Data\\GPCP_tif_clip_clip//gpcp_1dd_v1.2_p1d.20071015.tif"
       ]
      },
      {
       "output_type": "stream",
       "stream": "stdout",
       "text": [
        "\n",
        "D:\\Data\\GPCP_tif_clip_clip//gpcp_1dd_v1.2_p1d.20071016.tif"
       ]
      },
      {
       "output_type": "stream",
       "stream": "stdout",
       "text": [
        "\n",
        "D:\\Data\\GPCP_tif_clip_clip//gpcp_1dd_v1.2_p1d.20071017.tif"
       ]
      },
      {
       "output_type": "stream",
       "stream": "stdout",
       "text": [
        "\n",
        "D:\\Data\\GPCP_tif_clip_clip//gpcp_1dd_v1.2_p1d.20071018.tif"
       ]
      },
      {
       "output_type": "stream",
       "stream": "stdout",
       "text": [
        "\n",
        "D:\\Data\\GPCP_tif_clip_clip//gpcp_1dd_v1.2_p1d.20071019.tif"
       ]
      },
      {
       "output_type": "stream",
       "stream": "stdout",
       "text": [
        "\n",
        "D:\\Data\\GPCP_tif_clip_clip//gpcp_1dd_v1.2_p1d.20071020.tif"
       ]
      },
      {
       "output_type": "stream",
       "stream": "stdout",
       "text": [
        "\n",
        "D:\\Data\\GPCP_tif_clip_clip//gpcp_1dd_v1.2_p1d.20071021.tif"
       ]
      },
      {
       "output_type": "stream",
       "stream": "stdout",
       "text": [
        "\n",
        "D:\\Data\\GPCP_tif_clip_clip//gpcp_1dd_v1.2_p1d.20071022.tif"
       ]
      },
      {
       "output_type": "stream",
       "stream": "stdout",
       "text": [
        "\n",
        "D:\\Data\\GPCP_tif_clip_clip//gpcp_1dd_v1.2_p1d.20071023.tif"
       ]
      },
      {
       "output_type": "stream",
       "stream": "stdout",
       "text": [
        "\n",
        "D:\\Data\\GPCP_tif_clip_clip//gpcp_1dd_v1.2_p1d.20071024.tif"
       ]
      },
      {
       "output_type": "stream",
       "stream": "stdout",
       "text": [
        "\n",
        "D:\\Data\\GPCP_tif_clip_clip//gpcp_1dd_v1.2_p1d.20071025.tif"
       ]
      },
      {
       "output_type": "stream",
       "stream": "stdout",
       "text": [
        "\n",
        "D:\\Data\\GPCP_tif_clip_clip//gpcp_1dd_v1.2_p1d.20071026.tif"
       ]
      },
      {
       "output_type": "stream",
       "stream": "stdout",
       "text": [
        "\n",
        "D:\\Data\\GPCP_tif_clip_clip//gpcp_1dd_v1.2_p1d.20071027.tif"
       ]
      },
      {
       "output_type": "stream",
       "stream": "stdout",
       "text": [
        "\n",
        "D:\\Data\\GPCP_tif_clip_clip//gpcp_1dd_v1.2_p1d.20071028.tif"
       ]
      },
      {
       "output_type": "stream",
       "stream": "stdout",
       "text": [
        "\n",
        "D:\\Data\\GPCP_tif_clip_clip//gpcp_1dd_v1.2_p1d.20071029.tif"
       ]
      },
      {
       "output_type": "stream",
       "stream": "stdout",
       "text": [
        "\n",
        "D:\\Data\\GPCP_tif_clip_clip//gpcp_1dd_v1.2_p1d.20071030.tif"
       ]
      },
      {
       "output_type": "stream",
       "stream": "stdout",
       "text": [
        "\n",
        "D:\\Data\\GPCP_tif_clip_clip//gpcp_1dd_v1.2_p1d.20071100.tif"
       ]
      },
      {
       "output_type": "stream",
       "stream": "stdout",
       "text": [
        "\n",
        "D:\\Data\\GPCP_tif_clip_clip//gpcp_1dd_v1.2_p1d.20071101.tif"
       ]
      },
      {
       "output_type": "stream",
       "stream": "stdout",
       "text": [
        "\n",
        "D:\\Data\\GPCP_tif_clip_clip//gpcp_1dd_v1.2_p1d.20071102.tif"
       ]
      },
      {
       "output_type": "stream",
       "stream": "stdout",
       "text": [
        "\n",
        "D:\\Data\\GPCP_tif_clip_clip//gpcp_1dd_v1.2_p1d.20071103.tif"
       ]
      },
      {
       "output_type": "stream",
       "stream": "stdout",
       "text": [
        "\n",
        "D:\\Data\\GPCP_tif_clip_clip//gpcp_1dd_v1.2_p1d.20071104.tif"
       ]
      },
      {
       "output_type": "stream",
       "stream": "stdout",
       "text": [
        "\n",
        "D:\\Data\\GPCP_tif_clip_clip//gpcp_1dd_v1.2_p1d.20071105.tif"
       ]
      },
      {
       "output_type": "stream",
       "stream": "stdout",
       "text": [
        "\n",
        "D:\\Data\\GPCP_tif_clip_clip//gpcp_1dd_v1.2_p1d.20071106.tif"
       ]
      },
      {
       "output_type": "stream",
       "stream": "stdout",
       "text": [
        "\n",
        "D:\\Data\\GPCP_tif_clip_clip//gpcp_1dd_v1.2_p1d.20071107.tif"
       ]
      },
      {
       "output_type": "stream",
       "stream": "stdout",
       "text": [
        "\n",
        "D:\\Data\\GPCP_tif_clip_clip//gpcp_1dd_v1.2_p1d.20071108.tif"
       ]
      },
      {
       "output_type": "stream",
       "stream": "stdout",
       "text": [
        "\n",
        "D:\\Data\\GPCP_tif_clip_clip//gpcp_1dd_v1.2_p1d.20071109.tif"
       ]
      },
      {
       "output_type": "stream",
       "stream": "stdout",
       "text": [
        "\n",
        "D:\\Data\\GPCP_tif_clip_clip//gpcp_1dd_v1.2_p1d.20071110.tif"
       ]
      },
      {
       "output_type": "stream",
       "stream": "stdout",
       "text": [
        "\n",
        "D:\\Data\\GPCP_tif_clip_clip//gpcp_1dd_v1.2_p1d.20071111.tif"
       ]
      },
      {
       "output_type": "stream",
       "stream": "stdout",
       "text": [
        "\n",
        "D:\\Data\\GPCP_tif_clip_clip//gpcp_1dd_v1.2_p1d.20071112.tif"
       ]
      },
      {
       "output_type": "stream",
       "stream": "stdout",
       "text": [
        "\n",
        "D:\\Data\\GPCP_tif_clip_clip//gpcp_1dd_v1.2_p1d.20071113.tif"
       ]
      },
      {
       "output_type": "stream",
       "stream": "stdout",
       "text": [
        "\n",
        "D:\\Data\\GPCP_tif_clip_clip//gpcp_1dd_v1.2_p1d.20071114.tif"
       ]
      },
      {
       "output_type": "stream",
       "stream": "stdout",
       "text": [
        "\n",
        "D:\\Data\\GPCP_tif_clip_clip//gpcp_1dd_v1.2_p1d.20071115.tif"
       ]
      },
      {
       "output_type": "stream",
       "stream": "stdout",
       "text": [
        "\n",
        "D:\\Data\\GPCP_tif_clip_clip//gpcp_1dd_v1.2_p1d.20071116.tif"
       ]
      },
      {
       "output_type": "stream",
       "stream": "stdout",
       "text": [
        "\n",
        "D:\\Data\\GPCP_tif_clip_clip//gpcp_1dd_v1.2_p1d.20071117.tif"
       ]
      },
      {
       "output_type": "stream",
       "stream": "stdout",
       "text": [
        "\n",
        "D:\\Data\\GPCP_tif_clip_clip//gpcp_1dd_v1.2_p1d.20071118.tif"
       ]
      },
      {
       "output_type": "stream",
       "stream": "stdout",
       "text": [
        "\n",
        "D:\\Data\\GPCP_tif_clip_clip//gpcp_1dd_v1.2_p1d.20071119.tif"
       ]
      },
      {
       "output_type": "stream",
       "stream": "stdout",
       "text": [
        "\n",
        "D:\\Data\\GPCP_tif_clip_clip//gpcp_1dd_v1.2_p1d.20071120.tif"
       ]
      },
      {
       "output_type": "stream",
       "stream": "stdout",
       "text": [
        "\n",
        "D:\\Data\\GPCP_tif_clip_clip//gpcp_1dd_v1.2_p1d.20071121.tif"
       ]
      },
      {
       "output_type": "stream",
       "stream": "stdout",
       "text": [
        "\n",
        "D:\\Data\\GPCP_tif_clip_clip//gpcp_1dd_v1.2_p1d.20071122.tif"
       ]
      },
      {
       "output_type": "stream",
       "stream": "stdout",
       "text": [
        "\n",
        "D:\\Data\\GPCP_tif_clip_clip//gpcp_1dd_v1.2_p1d.20071123.tif"
       ]
      },
      {
       "output_type": "stream",
       "stream": "stdout",
       "text": [
        "\n",
        "D:\\Data\\GPCP_tif_clip_clip//gpcp_1dd_v1.2_p1d.20071124.tif"
       ]
      },
      {
       "output_type": "stream",
       "stream": "stdout",
       "text": [
        "\n",
        "D:\\Data\\GPCP_tif_clip_clip//gpcp_1dd_v1.2_p1d.20071125.tif"
       ]
      },
      {
       "output_type": "stream",
       "stream": "stdout",
       "text": [
        "\n",
        "D:\\Data\\GPCP_tif_clip_clip//gpcp_1dd_v1.2_p1d.20071126.tif"
       ]
      },
      {
       "output_type": "stream",
       "stream": "stdout",
       "text": [
        "\n",
        "D:\\Data\\GPCP_tif_clip_clip//gpcp_1dd_v1.2_p1d.20071127.tif"
       ]
      },
      {
       "output_type": "stream",
       "stream": "stdout",
       "text": [
        "\n",
        "D:\\Data\\GPCP_tif_clip_clip//gpcp_1dd_v1.2_p1d.20071128.tif"
       ]
      },
      {
       "output_type": "stream",
       "stream": "stdout",
       "text": [
        "\n",
        "D:\\Data\\GPCP_tif_clip_clip//gpcp_1dd_v1.2_p1d.20071129.tif"
       ]
      },
      {
       "output_type": "stream",
       "stream": "stdout",
       "text": [
        "\n",
        "D:\\Data\\GPCP_tif_clip_clip//gpcp_1dd_v1.2_p1d.20071200.tif"
       ]
      },
      {
       "output_type": "stream",
       "stream": "stdout",
       "text": [
        "\n",
        "D:\\Data\\GPCP_tif_clip_clip//gpcp_1dd_v1.2_p1d.20071201.tif"
       ]
      },
      {
       "output_type": "stream",
       "stream": "stdout",
       "text": [
        "\n",
        "D:\\Data\\GPCP_tif_clip_clip//gpcp_1dd_v1.2_p1d.20071202.tif"
       ]
      },
      {
       "output_type": "stream",
       "stream": "stdout",
       "text": [
        "\n",
        "D:\\Data\\GPCP_tif_clip_clip//gpcp_1dd_v1.2_p1d.20071203.tif"
       ]
      },
      {
       "output_type": "stream",
       "stream": "stdout",
       "text": [
        "\n",
        "D:\\Data\\GPCP_tif_clip_clip//gpcp_1dd_v1.2_p1d.20071204.tif"
       ]
      },
      {
       "output_type": "stream",
       "stream": "stdout",
       "text": [
        "\n",
        "D:\\Data\\GPCP_tif_clip_clip//gpcp_1dd_v1.2_p1d.20071205.tif"
       ]
      },
      {
       "output_type": "stream",
       "stream": "stdout",
       "text": [
        "\n",
        "D:\\Data\\GPCP_tif_clip_clip//gpcp_1dd_v1.2_p1d.20071206.tif"
       ]
      },
      {
       "output_type": "stream",
       "stream": "stdout",
       "text": [
        "\n",
        "D:\\Data\\GPCP_tif_clip_clip//gpcp_1dd_v1.2_p1d.20071207.tif"
       ]
      },
      {
       "output_type": "stream",
       "stream": "stdout",
       "text": [
        "\n",
        "D:\\Data\\GPCP_tif_clip_clip//gpcp_1dd_v1.2_p1d.20071208.tif"
       ]
      },
      {
       "output_type": "stream",
       "stream": "stdout",
       "text": [
        "\n",
        "D:\\Data\\GPCP_tif_clip_clip//gpcp_1dd_v1.2_p1d.20071209.tif"
       ]
      },
      {
       "output_type": "stream",
       "stream": "stdout",
       "text": [
        "\n",
        "D:\\Data\\GPCP_tif_clip_clip//gpcp_1dd_v1.2_p1d.20071210.tif"
       ]
      },
      {
       "output_type": "stream",
       "stream": "stdout",
       "text": [
        "\n",
        "D:\\Data\\GPCP_tif_clip_clip//gpcp_1dd_v1.2_p1d.20071211.tif"
       ]
      },
      {
       "output_type": "stream",
       "stream": "stdout",
       "text": [
        "\n",
        "D:\\Data\\GPCP_tif_clip_clip//gpcp_1dd_v1.2_p1d.20071212.tif"
       ]
      },
      {
       "output_type": "stream",
       "stream": "stdout",
       "text": [
        "\n",
        "D:\\Data\\GPCP_tif_clip_clip//gpcp_1dd_v1.2_p1d.20071213.tif"
       ]
      },
      {
       "output_type": "stream",
       "stream": "stdout",
       "text": [
        "\n",
        "D:\\Data\\GPCP_tif_clip_clip//gpcp_1dd_v1.2_p1d.20071214.tif"
       ]
      },
      {
       "output_type": "stream",
       "stream": "stdout",
       "text": [
        "\n",
        "D:\\Data\\GPCP_tif_clip_clip//gpcp_1dd_v1.2_p1d.20071215.tif"
       ]
      },
      {
       "output_type": "stream",
       "stream": "stdout",
       "text": [
        "\n",
        "D:\\Data\\GPCP_tif_clip_clip//gpcp_1dd_v1.2_p1d.20071216.tif"
       ]
      },
      {
       "output_type": "stream",
       "stream": "stdout",
       "text": [
        "\n",
        "D:\\Data\\GPCP_tif_clip_clip//gpcp_1dd_v1.2_p1d.20071217.tif"
       ]
      },
      {
       "output_type": "stream",
       "stream": "stdout",
       "text": [
        "\n",
        "D:\\Data\\GPCP_tif_clip_clip//gpcp_1dd_v1.2_p1d.20071218.tif"
       ]
      },
      {
       "output_type": "stream",
       "stream": "stdout",
       "text": [
        "\n",
        "D:\\Data\\GPCP_tif_clip_clip//gpcp_1dd_v1.2_p1d.20071219.tif"
       ]
      },
      {
       "output_type": "stream",
       "stream": "stdout",
       "text": [
        "\n",
        "D:\\Data\\GPCP_tif_clip_clip//gpcp_1dd_v1.2_p1d.20071220.tif"
       ]
      },
      {
       "output_type": "stream",
       "stream": "stdout",
       "text": [
        "\n",
        "D:\\Data\\GPCP_tif_clip_clip//gpcp_1dd_v1.2_p1d.20071221.tif"
       ]
      },
      {
       "output_type": "stream",
       "stream": "stdout",
       "text": [
        "\n",
        "D:\\Data\\GPCP_tif_clip_clip//gpcp_1dd_v1.2_p1d.20071222.tif"
       ]
      },
      {
       "output_type": "stream",
       "stream": "stdout",
       "text": [
        "\n",
        "D:\\Data\\GPCP_tif_clip_clip//gpcp_1dd_v1.2_p1d.20071223.tif"
       ]
      },
      {
       "output_type": "stream",
       "stream": "stdout",
       "text": [
        "\n",
        "D:\\Data\\GPCP_tif_clip_clip//gpcp_1dd_v1.2_p1d.20071224.tif"
       ]
      },
      {
       "output_type": "stream",
       "stream": "stdout",
       "text": [
        "\n",
        "D:\\Data\\GPCP_tif_clip_clip//gpcp_1dd_v1.2_p1d.20071225.tif"
       ]
      },
      {
       "output_type": "stream",
       "stream": "stdout",
       "text": [
        "\n",
        "D:\\Data\\GPCP_tif_clip_clip//gpcp_1dd_v1.2_p1d.20071226.tif"
       ]
      },
      {
       "output_type": "stream",
       "stream": "stdout",
       "text": [
        "\n",
        "D:\\Data\\GPCP_tif_clip_clip//gpcp_1dd_v1.2_p1d.20071227.tif"
       ]
      },
      {
       "output_type": "stream",
       "stream": "stdout",
       "text": [
        "\n",
        "D:\\Data\\GPCP_tif_clip_clip//gpcp_1dd_v1.2_p1d.20071228.tif"
       ]
      },
      {
       "output_type": "stream",
       "stream": "stdout",
       "text": [
        "\n",
        "D:\\Data\\GPCP_tif_clip_clip//gpcp_1dd_v1.2_p1d.20071229.tif"
       ]
      },
      {
       "output_type": "stream",
       "stream": "stdout",
       "text": [
        "\n",
        "D:\\Data\\GPCP_tif_clip_clip//gpcp_1dd_v1.2_p1d.20071230.tif"
       ]
      },
      {
       "output_type": "stream",
       "stream": "stdout",
       "text": [
        "\n",
        "D:\\Data\\GPCP_tif_clip_clip//gpcp_1dd_v1.2_p1d.20080100.tif"
       ]
      },
      {
       "output_type": "stream",
       "stream": "stdout",
       "text": [
        "\n",
        "D:\\Data\\GPCP_tif_clip_clip//gpcp_1dd_v1.2_p1d.20080101.tif"
       ]
      },
      {
       "output_type": "stream",
       "stream": "stdout",
       "text": [
        "\n",
        "D:\\Data\\GPCP_tif_clip_clip//gpcp_1dd_v1.2_p1d.20080102.tif"
       ]
      },
      {
       "output_type": "stream",
       "stream": "stdout",
       "text": [
        "\n",
        "D:\\Data\\GPCP_tif_clip_clip//gpcp_1dd_v1.2_p1d.20080103.tif"
       ]
      },
      {
       "output_type": "stream",
       "stream": "stdout",
       "text": [
        "\n",
        "D:\\Data\\GPCP_tif_clip_clip//gpcp_1dd_v1.2_p1d.20080104.tif"
       ]
      },
      {
       "output_type": "stream",
       "stream": "stdout",
       "text": [
        "\n",
        "D:\\Data\\GPCP_tif_clip_clip//gpcp_1dd_v1.2_p1d.20080105.tif"
       ]
      },
      {
       "output_type": "stream",
       "stream": "stdout",
       "text": [
        "\n",
        "D:\\Data\\GPCP_tif_clip_clip//gpcp_1dd_v1.2_p1d.20080106.tif"
       ]
      },
      {
       "output_type": "stream",
       "stream": "stdout",
       "text": [
        "\n",
        "D:\\Data\\GPCP_tif_clip_clip//gpcp_1dd_v1.2_p1d.20080107.tif"
       ]
      },
      {
       "output_type": "stream",
       "stream": "stdout",
       "text": [
        "\n",
        "D:\\Data\\GPCP_tif_clip_clip//gpcp_1dd_v1.2_p1d.20080108.tif"
       ]
      },
      {
       "output_type": "stream",
       "stream": "stdout",
       "text": [
        "\n",
        "D:\\Data\\GPCP_tif_clip_clip//gpcp_1dd_v1.2_p1d.20080109.tif"
       ]
      },
      {
       "output_type": "stream",
       "stream": "stdout",
       "text": [
        "\n",
        "D:\\Data\\GPCP_tif_clip_clip//gpcp_1dd_v1.2_p1d.20080110.tif"
       ]
      },
      {
       "output_type": "stream",
       "stream": "stdout",
       "text": [
        "\n",
        "D:\\Data\\GPCP_tif_clip_clip//gpcp_1dd_v1.2_p1d.20080111.tif"
       ]
      },
      {
       "output_type": "stream",
       "stream": "stdout",
       "text": [
        "\n",
        "D:\\Data\\GPCP_tif_clip_clip//gpcp_1dd_v1.2_p1d.20080112.tif"
       ]
      },
      {
       "output_type": "stream",
       "stream": "stdout",
       "text": [
        "\n",
        "D:\\Data\\GPCP_tif_clip_clip//gpcp_1dd_v1.2_p1d.20080113.tif"
       ]
      },
      {
       "output_type": "stream",
       "stream": "stdout",
       "text": [
        "\n",
        "D:\\Data\\GPCP_tif_clip_clip//gpcp_1dd_v1.2_p1d.20080114.tif"
       ]
      },
      {
       "output_type": "stream",
       "stream": "stdout",
       "text": [
        "\n",
        "D:\\Data\\GPCP_tif_clip_clip//gpcp_1dd_v1.2_p1d.20080115.tif"
       ]
      },
      {
       "output_type": "stream",
       "stream": "stdout",
       "text": [
        "\n",
        "D:\\Data\\GPCP_tif_clip_clip//gpcp_1dd_v1.2_p1d.20080116.tif"
       ]
      },
      {
       "output_type": "stream",
       "stream": "stdout",
       "text": [
        "\n",
        "D:\\Data\\GPCP_tif_clip_clip//gpcp_1dd_v1.2_p1d.20080117.tif"
       ]
      },
      {
       "output_type": "stream",
       "stream": "stdout",
       "text": [
        "\n",
        "D:\\Data\\GPCP_tif_clip_clip//gpcp_1dd_v1.2_p1d.20080118.tif"
       ]
      },
      {
       "output_type": "stream",
       "stream": "stdout",
       "text": [
        "\n",
        "D:\\Data\\GPCP_tif_clip_clip//gpcp_1dd_v1.2_p1d.20080119.tif"
       ]
      },
      {
       "output_type": "stream",
       "stream": "stdout",
       "text": [
        "\n",
        "D:\\Data\\GPCP_tif_clip_clip//gpcp_1dd_v1.2_p1d.20080120.tif"
       ]
      },
      {
       "output_type": "stream",
       "stream": "stdout",
       "text": [
        "\n",
        "D:\\Data\\GPCP_tif_clip_clip//gpcp_1dd_v1.2_p1d.20080121.tif"
       ]
      },
      {
       "output_type": "stream",
       "stream": "stdout",
       "text": [
        "\n",
        "D:\\Data\\GPCP_tif_clip_clip//gpcp_1dd_v1.2_p1d.20080122.tif"
       ]
      },
      {
       "output_type": "stream",
       "stream": "stdout",
       "text": [
        "\n",
        "D:\\Data\\GPCP_tif_clip_clip//gpcp_1dd_v1.2_p1d.20080123.tif"
       ]
      },
      {
       "output_type": "stream",
       "stream": "stdout",
       "text": [
        "\n",
        "D:\\Data\\GPCP_tif_clip_clip//gpcp_1dd_v1.2_p1d.20080124.tif"
       ]
      },
      {
       "output_type": "stream",
       "stream": "stdout",
       "text": [
        "\n",
        "D:\\Data\\GPCP_tif_clip_clip//gpcp_1dd_v1.2_p1d.20080125.tif"
       ]
      },
      {
       "output_type": "stream",
       "stream": "stdout",
       "text": [
        "\n",
        "D:\\Data\\GPCP_tif_clip_clip//gpcp_1dd_v1.2_p1d.20080126.tif"
       ]
      },
      {
       "output_type": "stream",
       "stream": "stdout",
       "text": [
        "\n",
        "D:\\Data\\GPCP_tif_clip_clip//gpcp_1dd_v1.2_p1d.20080127.tif"
       ]
      },
      {
       "output_type": "stream",
       "stream": "stdout",
       "text": [
        "\n",
        "D:\\Data\\GPCP_tif_clip_clip//gpcp_1dd_v1.2_p1d.20080128.tif"
       ]
      },
      {
       "output_type": "stream",
       "stream": "stdout",
       "text": [
        "\n",
        "D:\\Data\\GPCP_tif_clip_clip//gpcp_1dd_v1.2_p1d.20080129.tif"
       ]
      },
      {
       "output_type": "stream",
       "stream": "stdout",
       "text": [
        "\n",
        "D:\\Data\\GPCP_tif_clip_clip//gpcp_1dd_v1.2_p1d.20080130.tif"
       ]
      },
      {
       "output_type": "stream",
       "stream": "stdout",
       "text": [
        "\n",
        "D:\\Data\\GPCP_tif_clip_clip//gpcp_1dd_v1.2_p1d.20080200.tif"
       ]
      },
      {
       "output_type": "stream",
       "stream": "stdout",
       "text": [
        "\n",
        "D:\\Data\\GPCP_tif_clip_clip//gpcp_1dd_v1.2_p1d.20080201.tif"
       ]
      },
      {
       "output_type": "stream",
       "stream": "stdout",
       "text": [
        "\n",
        "D:\\Data\\GPCP_tif_clip_clip//gpcp_1dd_v1.2_p1d.20080202.tif"
       ]
      },
      {
       "output_type": "stream",
       "stream": "stdout",
       "text": [
        "\n",
        "D:\\Data\\GPCP_tif_clip_clip//gpcp_1dd_v1.2_p1d.20080203.tif"
       ]
      },
      {
       "output_type": "stream",
       "stream": "stdout",
       "text": [
        "\n",
        "D:\\Data\\GPCP_tif_clip_clip//gpcp_1dd_v1.2_p1d.20080204.tif"
       ]
      },
      {
       "output_type": "stream",
       "stream": "stdout",
       "text": [
        "\n",
        "D:\\Data\\GPCP_tif_clip_clip//gpcp_1dd_v1.2_p1d.20080205.tif"
       ]
      },
      {
       "output_type": "stream",
       "stream": "stdout",
       "text": [
        "\n",
        "D:\\Data\\GPCP_tif_clip_clip//gpcp_1dd_v1.2_p1d.20080206.tif"
       ]
      },
      {
       "output_type": "stream",
       "stream": "stdout",
       "text": [
        "\n",
        "D:\\Data\\GPCP_tif_clip_clip//gpcp_1dd_v1.2_p1d.20080207.tif"
       ]
      },
      {
       "output_type": "stream",
       "stream": "stdout",
       "text": [
        "\n",
        "D:\\Data\\GPCP_tif_clip_clip//gpcp_1dd_v1.2_p1d.20080208.tif"
       ]
      },
      {
       "output_type": "stream",
       "stream": "stdout",
       "text": [
        "\n",
        "D:\\Data\\GPCP_tif_clip_clip//gpcp_1dd_v1.2_p1d.20080209.tif"
       ]
      },
      {
       "output_type": "stream",
       "stream": "stdout",
       "text": [
        "\n",
        "D:\\Data\\GPCP_tif_clip_clip//gpcp_1dd_v1.2_p1d.20080210.tif"
       ]
      },
      {
       "output_type": "stream",
       "stream": "stdout",
       "text": [
        "\n",
        "D:\\Data\\GPCP_tif_clip_clip//gpcp_1dd_v1.2_p1d.20080211.tif"
       ]
      },
      {
       "output_type": "stream",
       "stream": "stdout",
       "text": [
        "\n",
        "D:\\Data\\GPCP_tif_clip_clip//gpcp_1dd_v1.2_p1d.20080212.tif"
       ]
      },
      {
       "output_type": "stream",
       "stream": "stdout",
       "text": [
        "\n",
        "D:\\Data\\GPCP_tif_clip_clip//gpcp_1dd_v1.2_p1d.20080213.tif"
       ]
      },
      {
       "output_type": "stream",
       "stream": "stdout",
       "text": [
        "\n",
        "D:\\Data\\GPCP_tif_clip_clip//gpcp_1dd_v1.2_p1d.20080214.tif"
       ]
      },
      {
       "output_type": "stream",
       "stream": "stdout",
       "text": [
        "\n",
        "D:\\Data\\GPCP_tif_clip_clip//gpcp_1dd_v1.2_p1d.20080215.tif"
       ]
      },
      {
       "output_type": "stream",
       "stream": "stdout",
       "text": [
        "\n",
        "D:\\Data\\GPCP_tif_clip_clip//gpcp_1dd_v1.2_p1d.20080216.tif"
       ]
      },
      {
       "output_type": "stream",
       "stream": "stdout",
       "text": [
        "\n",
        "D:\\Data\\GPCP_tif_clip_clip//gpcp_1dd_v1.2_p1d.20080217.tif"
       ]
      },
      {
       "output_type": "stream",
       "stream": "stdout",
       "text": [
        "\n",
        "D:\\Data\\GPCP_tif_clip_clip//gpcp_1dd_v1.2_p1d.20080218.tif"
       ]
      },
      {
       "output_type": "stream",
       "stream": "stdout",
       "text": [
        "\n",
        "D:\\Data\\GPCP_tif_clip_clip//gpcp_1dd_v1.2_p1d.20080219.tif"
       ]
      },
      {
       "output_type": "stream",
       "stream": "stdout",
       "text": [
        "\n",
        "D:\\Data\\GPCP_tif_clip_clip//gpcp_1dd_v1.2_p1d.20080220.tif"
       ]
      },
      {
       "output_type": "stream",
       "stream": "stdout",
       "text": [
        "\n",
        "D:\\Data\\GPCP_tif_clip_clip//gpcp_1dd_v1.2_p1d.20080221.tif"
       ]
      },
      {
       "output_type": "stream",
       "stream": "stdout",
       "text": [
        "\n",
        "D:\\Data\\GPCP_tif_clip_clip//gpcp_1dd_v1.2_p1d.20080222.tif"
       ]
      },
      {
       "output_type": "stream",
       "stream": "stdout",
       "text": [
        "\n",
        "D:\\Data\\GPCP_tif_clip_clip//gpcp_1dd_v1.2_p1d.20080223.tif"
       ]
      },
      {
       "output_type": "stream",
       "stream": "stdout",
       "text": [
        "\n",
        "D:\\Data\\GPCP_tif_clip_clip//gpcp_1dd_v1.2_p1d.20080224.tif"
       ]
      },
      {
       "output_type": "stream",
       "stream": "stdout",
       "text": [
        "\n",
        "D:\\Data\\GPCP_tif_clip_clip//gpcp_1dd_v1.2_p1d.20080225.tif"
       ]
      },
      {
       "output_type": "stream",
       "stream": "stdout",
       "text": [
        "\n",
        "D:\\Data\\GPCP_tif_clip_clip//gpcp_1dd_v1.2_p1d.20080226.tif"
       ]
      },
      {
       "output_type": "stream",
       "stream": "stdout",
       "text": [
        "\n",
        "D:\\Data\\GPCP_tif_clip_clip//gpcp_1dd_v1.2_p1d.20080227.tif"
       ]
      },
      {
       "output_type": "stream",
       "stream": "stdout",
       "text": [
        "\n",
        "D:\\Data\\GPCP_tif_clip_clip//gpcp_1dd_v1.2_p1d.20080228.tif"
       ]
      },
      {
       "output_type": "stream",
       "stream": "stdout",
       "text": [
        "\n",
        "D:\\Data\\GPCP_tif_clip_clip//gpcp_1dd_v1.2_p1d.20080300.tif"
       ]
      },
      {
       "output_type": "stream",
       "stream": "stdout",
       "text": [
        "\n",
        "D:\\Data\\GPCP_tif_clip_clip//gpcp_1dd_v1.2_p1d.20080301.tif"
       ]
      },
      {
       "output_type": "stream",
       "stream": "stdout",
       "text": [
        "\n",
        "D:\\Data\\GPCP_tif_clip_clip//gpcp_1dd_v1.2_p1d.20080302.tif"
       ]
      },
      {
       "output_type": "stream",
       "stream": "stdout",
       "text": [
        "\n",
        "D:\\Data\\GPCP_tif_clip_clip//gpcp_1dd_v1.2_p1d.20080303.tif"
       ]
      },
      {
       "output_type": "stream",
       "stream": "stdout",
       "text": [
        "\n",
        "D:\\Data\\GPCP_tif_clip_clip//gpcp_1dd_v1.2_p1d.20080304.tif"
       ]
      },
      {
       "output_type": "stream",
       "stream": "stdout",
       "text": [
        "\n",
        "D:\\Data\\GPCP_tif_clip_clip//gpcp_1dd_v1.2_p1d.20080305.tif"
       ]
      },
      {
       "output_type": "stream",
       "stream": "stdout",
       "text": [
        "\n",
        "D:\\Data\\GPCP_tif_clip_clip//gpcp_1dd_v1.2_p1d.20080306.tif"
       ]
      },
      {
       "output_type": "stream",
       "stream": "stdout",
       "text": [
        "\n",
        "D:\\Data\\GPCP_tif_clip_clip//gpcp_1dd_v1.2_p1d.20080307.tif"
       ]
      },
      {
       "output_type": "stream",
       "stream": "stdout",
       "text": [
        "\n",
        "D:\\Data\\GPCP_tif_clip_clip//gpcp_1dd_v1.2_p1d.20080308.tif"
       ]
      },
      {
       "output_type": "stream",
       "stream": "stdout",
       "text": [
        "\n",
        "D:\\Data\\GPCP_tif_clip_clip//gpcp_1dd_v1.2_p1d.20080309.tif"
       ]
      },
      {
       "output_type": "stream",
       "stream": "stdout",
       "text": [
        "\n",
        "D:\\Data\\GPCP_tif_clip_clip//gpcp_1dd_v1.2_p1d.20080310.tif"
       ]
      },
      {
       "output_type": "stream",
       "stream": "stdout",
       "text": [
        "\n",
        "D:\\Data\\GPCP_tif_clip_clip//gpcp_1dd_v1.2_p1d.20080311.tif"
       ]
      },
      {
       "output_type": "stream",
       "stream": "stdout",
       "text": [
        "\n",
        "D:\\Data\\GPCP_tif_clip_clip//gpcp_1dd_v1.2_p1d.20080312.tif"
       ]
      },
      {
       "output_type": "stream",
       "stream": "stdout",
       "text": [
        "\n",
        "D:\\Data\\GPCP_tif_clip_clip//gpcp_1dd_v1.2_p1d.20080313.tif"
       ]
      },
      {
       "output_type": "stream",
       "stream": "stdout",
       "text": [
        "\n",
        "D:\\Data\\GPCP_tif_clip_clip//gpcp_1dd_v1.2_p1d.20080314.tif"
       ]
      },
      {
       "output_type": "stream",
       "stream": "stdout",
       "text": [
        "\n",
        "D:\\Data\\GPCP_tif_clip_clip//gpcp_1dd_v1.2_p1d.20080315.tif"
       ]
      },
      {
       "output_type": "stream",
       "stream": "stdout",
       "text": [
        "\n",
        "D:\\Data\\GPCP_tif_clip_clip//gpcp_1dd_v1.2_p1d.20080316.tif"
       ]
      },
      {
       "output_type": "stream",
       "stream": "stdout",
       "text": [
        "\n",
        "D:\\Data\\GPCP_tif_clip_clip//gpcp_1dd_v1.2_p1d.20080317.tif"
       ]
      },
      {
       "output_type": "stream",
       "stream": "stdout",
       "text": [
        "\n",
        "D:\\Data\\GPCP_tif_clip_clip//gpcp_1dd_v1.2_p1d.20080318.tif"
       ]
      },
      {
       "output_type": "stream",
       "stream": "stdout",
       "text": [
        "\n",
        "D:\\Data\\GPCP_tif_clip_clip//gpcp_1dd_v1.2_p1d.20080319.tif"
       ]
      },
      {
       "output_type": "stream",
       "stream": "stdout",
       "text": [
        "\n",
        "D:\\Data\\GPCP_tif_clip_clip//gpcp_1dd_v1.2_p1d.20080320.tif"
       ]
      },
      {
       "output_type": "stream",
       "stream": "stdout",
       "text": [
        "\n",
        "D:\\Data\\GPCP_tif_clip_clip//gpcp_1dd_v1.2_p1d.20080321.tif"
       ]
      },
      {
       "output_type": "stream",
       "stream": "stdout",
       "text": [
        "\n",
        "D:\\Data\\GPCP_tif_clip_clip//gpcp_1dd_v1.2_p1d.20080322.tif"
       ]
      },
      {
       "output_type": "stream",
       "stream": "stdout",
       "text": [
        "\n",
        "D:\\Data\\GPCP_tif_clip_clip//gpcp_1dd_v1.2_p1d.20080323.tif"
       ]
      },
      {
       "output_type": "stream",
       "stream": "stdout",
       "text": [
        "\n",
        "D:\\Data\\GPCP_tif_clip_clip//gpcp_1dd_v1.2_p1d.20080324.tif"
       ]
      },
      {
       "output_type": "stream",
       "stream": "stdout",
       "text": [
        "\n",
        "D:\\Data\\GPCP_tif_clip_clip//gpcp_1dd_v1.2_p1d.20080325.tif"
       ]
      },
      {
       "output_type": "stream",
       "stream": "stdout",
       "text": [
        "\n",
        "D:\\Data\\GPCP_tif_clip_clip//gpcp_1dd_v1.2_p1d.20080326.tif"
       ]
      },
      {
       "output_type": "stream",
       "stream": "stdout",
       "text": [
        "\n",
        "D:\\Data\\GPCP_tif_clip_clip//gpcp_1dd_v1.2_p1d.20080327.tif"
       ]
      },
      {
       "output_type": "stream",
       "stream": "stdout",
       "text": [
        "\n",
        "D:\\Data\\GPCP_tif_clip_clip//gpcp_1dd_v1.2_p1d.20080328.tif"
       ]
      },
      {
       "output_type": "stream",
       "stream": "stdout",
       "text": [
        "\n",
        "D:\\Data\\GPCP_tif_clip_clip//gpcp_1dd_v1.2_p1d.20080329.tif"
       ]
      },
      {
       "output_type": "stream",
       "stream": "stdout",
       "text": [
        "\n",
        "D:\\Data\\GPCP_tif_clip_clip//gpcp_1dd_v1.2_p1d.20080330.tif"
       ]
      },
      {
       "output_type": "stream",
       "stream": "stdout",
       "text": [
        "\n",
        "D:\\Data\\GPCP_tif_clip_clip//gpcp_1dd_v1.2_p1d.20080400.tif"
       ]
      },
      {
       "output_type": "stream",
       "stream": "stdout",
       "text": [
        "\n",
        "D:\\Data\\GPCP_tif_clip_clip//gpcp_1dd_v1.2_p1d.20080401.tif"
       ]
      },
      {
       "output_type": "stream",
       "stream": "stdout",
       "text": [
        "\n",
        "D:\\Data\\GPCP_tif_clip_clip//gpcp_1dd_v1.2_p1d.20080402.tif"
       ]
      },
      {
       "output_type": "stream",
       "stream": "stdout",
       "text": [
        "\n",
        "D:\\Data\\GPCP_tif_clip_clip//gpcp_1dd_v1.2_p1d.20080403.tif"
       ]
      },
      {
       "output_type": "stream",
       "stream": "stdout",
       "text": [
        "\n",
        "D:\\Data\\GPCP_tif_clip_clip//gpcp_1dd_v1.2_p1d.20080404.tif"
       ]
      },
      {
       "output_type": "stream",
       "stream": "stdout",
       "text": [
        "\n",
        "D:\\Data\\GPCP_tif_clip_clip//gpcp_1dd_v1.2_p1d.20080405.tif"
       ]
      },
      {
       "output_type": "stream",
       "stream": "stdout",
       "text": [
        "\n",
        "D:\\Data\\GPCP_tif_clip_clip//gpcp_1dd_v1.2_p1d.20080406.tif"
       ]
      },
      {
       "output_type": "stream",
       "stream": "stdout",
       "text": [
        "\n",
        "D:\\Data\\GPCP_tif_clip_clip//gpcp_1dd_v1.2_p1d.20080407.tif"
       ]
      },
      {
       "output_type": "stream",
       "stream": "stdout",
       "text": [
        "\n",
        "D:\\Data\\GPCP_tif_clip_clip//gpcp_1dd_v1.2_p1d.20080408.tif"
       ]
      },
      {
       "output_type": "stream",
       "stream": "stdout",
       "text": [
        "\n",
        "D:\\Data\\GPCP_tif_clip_clip//gpcp_1dd_v1.2_p1d.20080409.tif"
       ]
      },
      {
       "output_type": "stream",
       "stream": "stdout",
       "text": [
        "\n",
        "D:\\Data\\GPCP_tif_clip_clip//gpcp_1dd_v1.2_p1d.20080410.tif"
       ]
      },
      {
       "output_type": "stream",
       "stream": "stdout",
       "text": [
        "\n",
        "D:\\Data\\GPCP_tif_clip_clip//gpcp_1dd_v1.2_p1d.20080411.tif"
       ]
      },
      {
       "output_type": "stream",
       "stream": "stdout",
       "text": [
        "\n",
        "D:\\Data\\GPCP_tif_clip_clip//gpcp_1dd_v1.2_p1d.20080412.tif"
       ]
      },
      {
       "output_type": "stream",
       "stream": "stdout",
       "text": [
        "\n",
        "D:\\Data\\GPCP_tif_clip_clip//gpcp_1dd_v1.2_p1d.20080413.tif"
       ]
      },
      {
       "output_type": "stream",
       "stream": "stdout",
       "text": [
        "\n",
        "D:\\Data\\GPCP_tif_clip_clip//gpcp_1dd_v1.2_p1d.20080414.tif"
       ]
      },
      {
       "output_type": "stream",
       "stream": "stdout",
       "text": [
        "\n",
        "D:\\Data\\GPCP_tif_clip_clip//gpcp_1dd_v1.2_p1d.20080415.tif"
       ]
      },
      {
       "output_type": "stream",
       "stream": "stdout",
       "text": [
        "\n",
        "D:\\Data\\GPCP_tif_clip_clip//gpcp_1dd_v1.2_p1d.20080416.tif"
       ]
      },
      {
       "output_type": "stream",
       "stream": "stdout",
       "text": [
        "\n",
        "D:\\Data\\GPCP_tif_clip_clip//gpcp_1dd_v1.2_p1d.20080417.tif"
       ]
      },
      {
       "output_type": "stream",
       "stream": "stdout",
       "text": [
        "\n",
        "D:\\Data\\GPCP_tif_clip_clip//gpcp_1dd_v1.2_p1d.20080418.tif"
       ]
      },
      {
       "output_type": "stream",
       "stream": "stdout",
       "text": [
        "\n",
        "D:\\Data\\GPCP_tif_clip_clip//gpcp_1dd_v1.2_p1d.20080419.tif"
       ]
      },
      {
       "output_type": "stream",
       "stream": "stdout",
       "text": [
        "\n",
        "D:\\Data\\GPCP_tif_clip_clip//gpcp_1dd_v1.2_p1d.20080420.tif"
       ]
      },
      {
       "output_type": "stream",
       "stream": "stdout",
       "text": [
        "\n",
        "D:\\Data\\GPCP_tif_clip_clip//gpcp_1dd_v1.2_p1d.20080421.tif"
       ]
      },
      {
       "output_type": "stream",
       "stream": "stdout",
       "text": [
        "\n",
        "D:\\Data\\GPCP_tif_clip_clip//gpcp_1dd_v1.2_p1d.20080422.tif"
       ]
      },
      {
       "output_type": "stream",
       "stream": "stdout",
       "text": [
        "\n",
        "D:\\Data\\GPCP_tif_clip_clip//gpcp_1dd_v1.2_p1d.20080423.tif"
       ]
      },
      {
       "output_type": "stream",
       "stream": "stdout",
       "text": [
        "\n",
        "D:\\Data\\GPCP_tif_clip_clip//gpcp_1dd_v1.2_p1d.20080424.tif"
       ]
      },
      {
       "output_type": "stream",
       "stream": "stdout",
       "text": [
        "\n",
        "D:\\Data\\GPCP_tif_clip_clip//gpcp_1dd_v1.2_p1d.20080425.tif"
       ]
      },
      {
       "output_type": "stream",
       "stream": "stdout",
       "text": [
        "\n",
        "D:\\Data\\GPCP_tif_clip_clip//gpcp_1dd_v1.2_p1d.20080426.tif"
       ]
      },
      {
       "output_type": "stream",
       "stream": "stdout",
       "text": [
        "\n",
        "D:\\Data\\GPCP_tif_clip_clip//gpcp_1dd_v1.2_p1d.20080427.tif"
       ]
      },
      {
       "output_type": "stream",
       "stream": "stdout",
       "text": [
        "\n",
        "D:\\Data\\GPCP_tif_clip_clip//gpcp_1dd_v1.2_p1d.20080428.tif"
       ]
      },
      {
       "output_type": "stream",
       "stream": "stdout",
       "text": [
        "\n",
        "D:\\Data\\GPCP_tif_clip_clip//gpcp_1dd_v1.2_p1d.20080429.tif"
       ]
      },
      {
       "output_type": "stream",
       "stream": "stdout",
       "text": [
        "\n",
        "D:\\Data\\GPCP_tif_clip_clip//gpcp_1dd_v1.2_p1d.20080500.tif"
       ]
      },
      {
       "output_type": "stream",
       "stream": "stdout",
       "text": [
        "\n",
        "D:\\Data\\GPCP_tif_clip_clip//gpcp_1dd_v1.2_p1d.20080501.tif"
       ]
      },
      {
       "output_type": "stream",
       "stream": "stdout",
       "text": [
        "\n",
        "D:\\Data\\GPCP_tif_clip_clip//gpcp_1dd_v1.2_p1d.20080502.tif"
       ]
      },
      {
       "output_type": "stream",
       "stream": "stdout",
       "text": [
        "\n",
        "D:\\Data\\GPCP_tif_clip_clip//gpcp_1dd_v1.2_p1d.20080503.tif"
       ]
      },
      {
       "output_type": "stream",
       "stream": "stdout",
       "text": [
        "\n",
        "D:\\Data\\GPCP_tif_clip_clip//gpcp_1dd_v1.2_p1d.20080504.tif"
       ]
      },
      {
       "output_type": "stream",
       "stream": "stdout",
       "text": [
        "\n",
        "D:\\Data\\GPCP_tif_clip_clip//gpcp_1dd_v1.2_p1d.20080505.tif"
       ]
      },
      {
       "output_type": "stream",
       "stream": "stdout",
       "text": [
        "\n",
        "D:\\Data\\GPCP_tif_clip_clip//gpcp_1dd_v1.2_p1d.20080506.tif"
       ]
      },
      {
       "output_type": "stream",
       "stream": "stdout",
       "text": [
        "\n",
        "D:\\Data\\GPCP_tif_clip_clip//gpcp_1dd_v1.2_p1d.20080507.tif"
       ]
      },
      {
       "output_type": "stream",
       "stream": "stdout",
       "text": [
        "\n",
        "D:\\Data\\GPCP_tif_clip_clip//gpcp_1dd_v1.2_p1d.20080508.tif"
       ]
      },
      {
       "output_type": "stream",
       "stream": "stdout",
       "text": [
        "\n",
        "D:\\Data\\GPCP_tif_clip_clip//gpcp_1dd_v1.2_p1d.20080509.tif"
       ]
      },
      {
       "output_type": "stream",
       "stream": "stdout",
       "text": [
        "\n",
        "D:\\Data\\GPCP_tif_clip_clip//gpcp_1dd_v1.2_p1d.20080510.tif"
       ]
      },
      {
       "output_type": "stream",
       "stream": "stdout",
       "text": [
        "\n",
        "D:\\Data\\GPCP_tif_clip_clip//gpcp_1dd_v1.2_p1d.20080511.tif"
       ]
      },
      {
       "output_type": "stream",
       "stream": "stdout",
       "text": [
        "\n",
        "D:\\Data\\GPCP_tif_clip_clip//gpcp_1dd_v1.2_p1d.20080512.tif"
       ]
      },
      {
       "output_type": "stream",
       "stream": "stdout",
       "text": [
        "\n",
        "D:\\Data\\GPCP_tif_clip_clip//gpcp_1dd_v1.2_p1d.20080513.tif"
       ]
      },
      {
       "output_type": "stream",
       "stream": "stdout",
       "text": [
        "\n",
        "D:\\Data\\GPCP_tif_clip_clip//gpcp_1dd_v1.2_p1d.20080514.tif"
       ]
      },
      {
       "output_type": "stream",
       "stream": "stdout",
       "text": [
        "\n",
        "D:\\Data\\GPCP_tif_clip_clip//gpcp_1dd_v1.2_p1d.20080515.tif"
       ]
      },
      {
       "output_type": "stream",
       "stream": "stdout",
       "text": [
        "\n",
        "D:\\Data\\GPCP_tif_clip_clip//gpcp_1dd_v1.2_p1d.20080516.tif"
       ]
      },
      {
       "output_type": "stream",
       "stream": "stdout",
       "text": [
        "\n",
        "D:\\Data\\GPCP_tif_clip_clip//gpcp_1dd_v1.2_p1d.20080517.tif"
       ]
      },
      {
       "output_type": "stream",
       "stream": "stdout",
       "text": [
        "\n",
        "D:\\Data\\GPCP_tif_clip_clip//gpcp_1dd_v1.2_p1d.20080518.tif"
       ]
      },
      {
       "output_type": "stream",
       "stream": "stdout",
       "text": [
        "\n",
        "D:\\Data\\GPCP_tif_clip_clip//gpcp_1dd_v1.2_p1d.20080519.tif"
       ]
      },
      {
       "output_type": "stream",
       "stream": "stdout",
       "text": [
        "\n",
        "D:\\Data\\GPCP_tif_clip_clip//gpcp_1dd_v1.2_p1d.20080520.tif"
       ]
      },
      {
       "output_type": "stream",
       "stream": "stdout",
       "text": [
        "\n",
        "D:\\Data\\GPCP_tif_clip_clip//gpcp_1dd_v1.2_p1d.20080521.tif"
       ]
      },
      {
       "output_type": "stream",
       "stream": "stdout",
       "text": [
        "\n",
        "D:\\Data\\GPCP_tif_clip_clip//gpcp_1dd_v1.2_p1d.20080522.tif"
       ]
      },
      {
       "output_type": "stream",
       "stream": "stdout",
       "text": [
        "\n",
        "D:\\Data\\GPCP_tif_clip_clip//gpcp_1dd_v1.2_p1d.20080523.tif"
       ]
      },
      {
       "output_type": "stream",
       "stream": "stdout",
       "text": [
        "\n",
        "D:\\Data\\GPCP_tif_clip_clip//gpcp_1dd_v1.2_p1d.20080524.tif"
       ]
      },
      {
       "output_type": "stream",
       "stream": "stdout",
       "text": [
        "\n",
        "D:\\Data\\GPCP_tif_clip_clip//gpcp_1dd_v1.2_p1d.20080525.tif"
       ]
      },
      {
       "output_type": "stream",
       "stream": "stdout",
       "text": [
        "\n",
        "D:\\Data\\GPCP_tif_clip_clip//gpcp_1dd_v1.2_p1d.20080526.tif"
       ]
      },
      {
       "output_type": "stream",
       "stream": "stdout",
       "text": [
        "\n",
        "D:\\Data\\GPCP_tif_clip_clip//gpcp_1dd_v1.2_p1d.20080527.tif"
       ]
      },
      {
       "output_type": "stream",
       "stream": "stdout",
       "text": [
        "\n",
        "D:\\Data\\GPCP_tif_clip_clip//gpcp_1dd_v1.2_p1d.20080528.tif"
       ]
      },
      {
       "output_type": "stream",
       "stream": "stdout",
       "text": [
        "\n",
        "D:\\Data\\GPCP_tif_clip_clip//gpcp_1dd_v1.2_p1d.20080529.tif"
       ]
      },
      {
       "output_type": "stream",
       "stream": "stdout",
       "text": [
        "\n",
        "D:\\Data\\GPCP_tif_clip_clip//gpcp_1dd_v1.2_p1d.20080530.tif"
       ]
      },
      {
       "output_type": "stream",
       "stream": "stdout",
       "text": [
        "\n",
        "D:\\Data\\GPCP_tif_clip_clip//gpcp_1dd_v1.2_p1d.20080600.tif"
       ]
      },
      {
       "output_type": "stream",
       "stream": "stdout",
       "text": [
        "\n",
        "D:\\Data\\GPCP_tif_clip_clip//gpcp_1dd_v1.2_p1d.20080601.tif"
       ]
      },
      {
       "output_type": "stream",
       "stream": "stdout",
       "text": [
        "\n",
        "D:\\Data\\GPCP_tif_clip_clip//gpcp_1dd_v1.2_p1d.20080602.tif"
       ]
      },
      {
       "output_type": "stream",
       "stream": "stdout",
       "text": [
        "\n",
        "D:\\Data\\GPCP_tif_clip_clip//gpcp_1dd_v1.2_p1d.20080603.tif"
       ]
      },
      {
       "output_type": "stream",
       "stream": "stdout",
       "text": [
        "\n",
        "D:\\Data\\GPCP_tif_clip_clip//gpcp_1dd_v1.2_p1d.20080604.tif"
       ]
      },
      {
       "output_type": "stream",
       "stream": "stdout",
       "text": [
        "\n",
        "D:\\Data\\GPCP_tif_clip_clip//gpcp_1dd_v1.2_p1d.20080605.tif"
       ]
      },
      {
       "output_type": "stream",
       "stream": "stdout",
       "text": [
        "\n",
        "D:\\Data\\GPCP_tif_clip_clip//gpcp_1dd_v1.2_p1d.20080606.tif"
       ]
      },
      {
       "output_type": "stream",
       "stream": "stdout",
       "text": [
        "\n",
        "D:\\Data\\GPCP_tif_clip_clip//gpcp_1dd_v1.2_p1d.20080607.tif"
       ]
      },
      {
       "output_type": "stream",
       "stream": "stdout",
       "text": [
        "\n",
        "D:\\Data\\GPCP_tif_clip_clip//gpcp_1dd_v1.2_p1d.20080608.tif"
       ]
      },
      {
       "output_type": "stream",
       "stream": "stdout",
       "text": [
        "\n",
        "D:\\Data\\GPCP_tif_clip_clip//gpcp_1dd_v1.2_p1d.20080609.tif"
       ]
      },
      {
       "output_type": "stream",
       "stream": "stdout",
       "text": [
        "\n",
        "D:\\Data\\GPCP_tif_clip_clip//gpcp_1dd_v1.2_p1d.20080610.tif"
       ]
      },
      {
       "output_type": "stream",
       "stream": "stdout",
       "text": [
        "\n",
        "D:\\Data\\GPCP_tif_clip_clip//gpcp_1dd_v1.2_p1d.20080611.tif"
       ]
      },
      {
       "output_type": "stream",
       "stream": "stdout",
       "text": [
        "\n",
        "D:\\Data\\GPCP_tif_clip_clip//gpcp_1dd_v1.2_p1d.20080612.tif"
       ]
      },
      {
       "output_type": "stream",
       "stream": "stdout",
       "text": [
        "\n",
        "D:\\Data\\GPCP_tif_clip_clip//gpcp_1dd_v1.2_p1d.20080613.tif"
       ]
      },
      {
       "output_type": "stream",
       "stream": "stdout",
       "text": [
        "\n",
        "D:\\Data\\GPCP_tif_clip_clip//gpcp_1dd_v1.2_p1d.20080614.tif"
       ]
      },
      {
       "output_type": "stream",
       "stream": "stdout",
       "text": [
        "\n",
        "D:\\Data\\GPCP_tif_clip_clip//gpcp_1dd_v1.2_p1d.20080615.tif"
       ]
      },
      {
       "output_type": "stream",
       "stream": "stdout",
       "text": [
        "\n",
        "D:\\Data\\GPCP_tif_clip_clip//gpcp_1dd_v1.2_p1d.20080616.tif"
       ]
      },
      {
       "output_type": "stream",
       "stream": "stdout",
       "text": [
        "\n",
        "D:\\Data\\GPCP_tif_clip_clip//gpcp_1dd_v1.2_p1d.20080617.tif"
       ]
      },
      {
       "output_type": "stream",
       "stream": "stdout",
       "text": [
        "\n",
        "D:\\Data\\GPCP_tif_clip_clip//gpcp_1dd_v1.2_p1d.20080618.tif"
       ]
      },
      {
       "output_type": "stream",
       "stream": "stdout",
       "text": [
        "\n",
        "D:\\Data\\GPCP_tif_clip_clip//gpcp_1dd_v1.2_p1d.20080619.tif"
       ]
      },
      {
       "output_type": "stream",
       "stream": "stdout",
       "text": [
        "\n",
        "D:\\Data\\GPCP_tif_clip_clip//gpcp_1dd_v1.2_p1d.20080620.tif"
       ]
      },
      {
       "output_type": "stream",
       "stream": "stdout",
       "text": [
        "\n",
        "D:\\Data\\GPCP_tif_clip_clip//gpcp_1dd_v1.2_p1d.20080621.tif"
       ]
      },
      {
       "output_type": "stream",
       "stream": "stdout",
       "text": [
        "\n",
        "D:\\Data\\GPCP_tif_clip_clip//gpcp_1dd_v1.2_p1d.20080622.tif"
       ]
      },
      {
       "output_type": "stream",
       "stream": "stdout",
       "text": [
        "\n",
        "D:\\Data\\GPCP_tif_clip_clip//gpcp_1dd_v1.2_p1d.20080623.tif"
       ]
      },
      {
       "output_type": "stream",
       "stream": "stdout",
       "text": [
        "\n",
        "D:\\Data\\GPCP_tif_clip_clip//gpcp_1dd_v1.2_p1d.20080624.tif"
       ]
      },
      {
       "output_type": "stream",
       "stream": "stdout",
       "text": [
        "\n",
        "D:\\Data\\GPCP_tif_clip_clip//gpcp_1dd_v1.2_p1d.20080625.tif"
       ]
      },
      {
       "output_type": "stream",
       "stream": "stdout",
       "text": [
        "\n",
        "D:\\Data\\GPCP_tif_clip_clip//gpcp_1dd_v1.2_p1d.20080626.tif"
       ]
      },
      {
       "output_type": "stream",
       "stream": "stdout",
       "text": [
        "\n",
        "D:\\Data\\GPCP_tif_clip_clip//gpcp_1dd_v1.2_p1d.20080627.tif"
       ]
      },
      {
       "output_type": "stream",
       "stream": "stdout",
       "text": [
        "\n",
        "D:\\Data\\GPCP_tif_clip_clip//gpcp_1dd_v1.2_p1d.20080628.tif"
       ]
      },
      {
       "output_type": "stream",
       "stream": "stdout",
       "text": [
        "\n",
        "D:\\Data\\GPCP_tif_clip_clip//gpcp_1dd_v1.2_p1d.20080629.tif"
       ]
      },
      {
       "output_type": "stream",
       "stream": "stdout",
       "text": [
        "\n",
        "D:\\Data\\GPCP_tif_clip_clip//gpcp_1dd_v1.2_p1d.20080700.tif"
       ]
      },
      {
       "output_type": "stream",
       "stream": "stdout",
       "text": [
        "\n",
        "D:\\Data\\GPCP_tif_clip_clip//gpcp_1dd_v1.2_p1d.20080701.tif"
       ]
      },
      {
       "output_type": "stream",
       "stream": "stdout",
       "text": [
        "\n",
        "D:\\Data\\GPCP_tif_clip_clip//gpcp_1dd_v1.2_p1d.20080702.tif"
       ]
      },
      {
       "output_type": "stream",
       "stream": "stdout",
       "text": [
        "\n",
        "D:\\Data\\GPCP_tif_clip_clip//gpcp_1dd_v1.2_p1d.20080703.tif"
       ]
      },
      {
       "output_type": "stream",
       "stream": "stdout",
       "text": [
        "\n",
        "D:\\Data\\GPCP_tif_clip_clip//gpcp_1dd_v1.2_p1d.20080704.tif"
       ]
      },
      {
       "output_type": "stream",
       "stream": "stdout",
       "text": [
        "\n",
        "D:\\Data\\GPCP_tif_clip_clip//gpcp_1dd_v1.2_p1d.20080705.tif"
       ]
      },
      {
       "output_type": "stream",
       "stream": "stdout",
       "text": [
        "\n",
        "D:\\Data\\GPCP_tif_clip_clip//gpcp_1dd_v1.2_p1d.20080706.tif"
       ]
      },
      {
       "output_type": "stream",
       "stream": "stdout",
       "text": [
        "\n",
        "D:\\Data\\GPCP_tif_clip_clip//gpcp_1dd_v1.2_p1d.20080707.tif"
       ]
      },
      {
       "output_type": "stream",
       "stream": "stdout",
       "text": [
        "\n",
        "D:\\Data\\GPCP_tif_clip_clip//gpcp_1dd_v1.2_p1d.20080708.tif"
       ]
      },
      {
       "output_type": "stream",
       "stream": "stdout",
       "text": [
        "\n",
        "D:\\Data\\GPCP_tif_clip_clip//gpcp_1dd_v1.2_p1d.20080709.tif"
       ]
      },
      {
       "output_type": "stream",
       "stream": "stdout",
       "text": [
        "\n",
        "D:\\Data\\GPCP_tif_clip_clip//gpcp_1dd_v1.2_p1d.20080710.tif"
       ]
      },
      {
       "output_type": "stream",
       "stream": "stdout",
       "text": [
        "\n",
        "D:\\Data\\GPCP_tif_clip_clip//gpcp_1dd_v1.2_p1d.20080711.tif"
       ]
      },
      {
       "output_type": "stream",
       "stream": "stdout",
       "text": [
        "\n",
        "D:\\Data\\GPCP_tif_clip_clip//gpcp_1dd_v1.2_p1d.20080712.tif"
       ]
      },
      {
       "output_type": "stream",
       "stream": "stdout",
       "text": [
        "\n",
        "D:\\Data\\GPCP_tif_clip_clip//gpcp_1dd_v1.2_p1d.20080713.tif"
       ]
      },
      {
       "output_type": "stream",
       "stream": "stdout",
       "text": [
        "\n",
        "D:\\Data\\GPCP_tif_clip_clip//gpcp_1dd_v1.2_p1d.20080714.tif"
       ]
      },
      {
       "output_type": "stream",
       "stream": "stdout",
       "text": [
        "\n",
        "D:\\Data\\GPCP_tif_clip_clip//gpcp_1dd_v1.2_p1d.20080715.tif"
       ]
      },
      {
       "output_type": "stream",
       "stream": "stdout",
       "text": [
        "\n",
        "D:\\Data\\GPCP_tif_clip_clip//gpcp_1dd_v1.2_p1d.20080716.tif"
       ]
      },
      {
       "output_type": "stream",
       "stream": "stdout",
       "text": [
        "\n",
        "D:\\Data\\GPCP_tif_clip_clip//gpcp_1dd_v1.2_p1d.20080717.tif"
       ]
      },
      {
       "output_type": "stream",
       "stream": "stdout",
       "text": [
        "\n",
        "D:\\Data\\GPCP_tif_clip_clip//gpcp_1dd_v1.2_p1d.20080718.tif"
       ]
      },
      {
       "output_type": "stream",
       "stream": "stdout",
       "text": [
        "\n",
        "D:\\Data\\GPCP_tif_clip_clip//gpcp_1dd_v1.2_p1d.20080719.tif"
       ]
      },
      {
       "output_type": "stream",
       "stream": "stdout",
       "text": [
        "\n",
        "D:\\Data\\GPCP_tif_clip_clip//gpcp_1dd_v1.2_p1d.20080720.tif"
       ]
      },
      {
       "output_type": "stream",
       "stream": "stdout",
       "text": [
        "\n",
        "D:\\Data\\GPCP_tif_clip_clip//gpcp_1dd_v1.2_p1d.20080721.tif"
       ]
      },
      {
       "output_type": "stream",
       "stream": "stdout",
       "text": [
        "\n",
        "D:\\Data\\GPCP_tif_clip_clip//gpcp_1dd_v1.2_p1d.20080722.tif"
       ]
      },
      {
       "output_type": "stream",
       "stream": "stdout",
       "text": [
        "\n",
        "D:\\Data\\GPCP_tif_clip_clip//gpcp_1dd_v1.2_p1d.20080723.tif"
       ]
      },
      {
       "output_type": "stream",
       "stream": "stdout",
       "text": [
        "\n",
        "D:\\Data\\GPCP_tif_clip_clip//gpcp_1dd_v1.2_p1d.20080724.tif"
       ]
      },
      {
       "output_type": "stream",
       "stream": "stdout",
       "text": [
        "\n",
        "D:\\Data\\GPCP_tif_clip_clip//gpcp_1dd_v1.2_p1d.20080725.tif"
       ]
      },
      {
       "output_type": "stream",
       "stream": "stdout",
       "text": [
        "\n",
        "D:\\Data\\GPCP_tif_clip_clip//gpcp_1dd_v1.2_p1d.20080726.tif"
       ]
      },
      {
       "output_type": "stream",
       "stream": "stdout",
       "text": [
        "\n",
        "D:\\Data\\GPCP_tif_clip_clip//gpcp_1dd_v1.2_p1d.20080727.tif"
       ]
      },
      {
       "output_type": "stream",
       "stream": "stdout",
       "text": [
        "\n",
        "D:\\Data\\GPCP_tif_clip_clip//gpcp_1dd_v1.2_p1d.20080728.tif"
       ]
      },
      {
       "output_type": "stream",
       "stream": "stdout",
       "text": [
        "\n",
        "D:\\Data\\GPCP_tif_clip_clip//gpcp_1dd_v1.2_p1d.20080729.tif"
       ]
      },
      {
       "output_type": "stream",
       "stream": "stdout",
       "text": [
        "\n",
        "D:\\Data\\GPCP_tif_clip_clip//gpcp_1dd_v1.2_p1d.20080730.tif"
       ]
      },
      {
       "output_type": "stream",
       "stream": "stdout",
       "text": [
        "\n",
        "D:\\Data\\GPCP_tif_clip_clip//gpcp_1dd_v1.2_p1d.20080800.tif"
       ]
      },
      {
       "output_type": "stream",
       "stream": "stdout",
       "text": [
        "\n",
        "D:\\Data\\GPCP_tif_clip_clip//gpcp_1dd_v1.2_p1d.20080801.tif"
       ]
      },
      {
       "output_type": "stream",
       "stream": "stdout",
       "text": [
        "\n",
        "D:\\Data\\GPCP_tif_clip_clip//gpcp_1dd_v1.2_p1d.20080802.tif"
       ]
      },
      {
       "output_type": "stream",
       "stream": "stdout",
       "text": [
        "\n",
        "D:\\Data\\GPCP_tif_clip_clip//gpcp_1dd_v1.2_p1d.20080803.tif"
       ]
      },
      {
       "output_type": "stream",
       "stream": "stdout",
       "text": [
        "\n",
        "D:\\Data\\GPCP_tif_clip_clip//gpcp_1dd_v1.2_p1d.20080804.tif"
       ]
      },
      {
       "output_type": "stream",
       "stream": "stdout",
       "text": [
        "\n",
        "D:\\Data\\GPCP_tif_clip_clip//gpcp_1dd_v1.2_p1d.20080805.tif"
       ]
      },
      {
       "output_type": "stream",
       "stream": "stdout",
       "text": [
        "\n",
        "D:\\Data\\GPCP_tif_clip_clip//gpcp_1dd_v1.2_p1d.20080806.tif"
       ]
      },
      {
       "output_type": "stream",
       "stream": "stdout",
       "text": [
        "\n",
        "D:\\Data\\GPCP_tif_clip_clip//gpcp_1dd_v1.2_p1d.20080807.tif"
       ]
      },
      {
       "output_type": "stream",
       "stream": "stdout",
       "text": [
        "\n",
        "D:\\Data\\GPCP_tif_clip_clip//gpcp_1dd_v1.2_p1d.20080808.tif"
       ]
      },
      {
       "output_type": "stream",
       "stream": "stdout",
       "text": [
        "\n",
        "D:\\Data\\GPCP_tif_clip_clip//gpcp_1dd_v1.2_p1d.20080809.tif"
       ]
      },
      {
       "output_type": "stream",
       "stream": "stdout",
       "text": [
        "\n",
        "D:\\Data\\GPCP_tif_clip_clip//gpcp_1dd_v1.2_p1d.20080810.tif"
       ]
      },
      {
       "output_type": "stream",
       "stream": "stdout",
       "text": [
        "\n",
        "D:\\Data\\GPCP_tif_clip_clip//gpcp_1dd_v1.2_p1d.20080811.tif"
       ]
      },
      {
       "output_type": "stream",
       "stream": "stdout",
       "text": [
        "\n",
        "D:\\Data\\GPCP_tif_clip_clip//gpcp_1dd_v1.2_p1d.20080812.tif"
       ]
      },
      {
       "output_type": "stream",
       "stream": "stdout",
       "text": [
        "\n",
        "D:\\Data\\GPCP_tif_clip_clip//gpcp_1dd_v1.2_p1d.20080813.tif"
       ]
      },
      {
       "output_type": "stream",
       "stream": "stdout",
       "text": [
        "\n",
        "D:\\Data\\GPCP_tif_clip_clip//gpcp_1dd_v1.2_p1d.20080814.tif"
       ]
      },
      {
       "output_type": "stream",
       "stream": "stdout",
       "text": [
        "\n",
        "D:\\Data\\GPCP_tif_clip_clip//gpcp_1dd_v1.2_p1d.20080815.tif"
       ]
      },
      {
       "output_type": "stream",
       "stream": "stdout",
       "text": [
        "\n",
        "D:\\Data\\GPCP_tif_clip_clip//gpcp_1dd_v1.2_p1d.20080816.tif"
       ]
      },
      {
       "output_type": "stream",
       "stream": "stdout",
       "text": [
        "\n",
        "D:\\Data\\GPCP_tif_clip_clip//gpcp_1dd_v1.2_p1d.20080817.tif"
       ]
      },
      {
       "output_type": "stream",
       "stream": "stdout",
       "text": [
        "\n",
        "D:\\Data\\GPCP_tif_clip_clip//gpcp_1dd_v1.2_p1d.20080818.tif"
       ]
      },
      {
       "output_type": "stream",
       "stream": "stdout",
       "text": [
        "\n",
        "D:\\Data\\GPCP_tif_clip_clip//gpcp_1dd_v1.2_p1d.20080819.tif"
       ]
      },
      {
       "output_type": "stream",
       "stream": "stdout",
       "text": [
        "\n",
        "D:\\Data\\GPCP_tif_clip_clip//gpcp_1dd_v1.2_p1d.20080820.tif"
       ]
      },
      {
       "output_type": "stream",
       "stream": "stdout",
       "text": [
        "\n",
        "D:\\Data\\GPCP_tif_clip_clip//gpcp_1dd_v1.2_p1d.20080821.tif"
       ]
      },
      {
       "output_type": "stream",
       "stream": "stdout",
       "text": [
        "\n",
        "D:\\Data\\GPCP_tif_clip_clip//gpcp_1dd_v1.2_p1d.20080822.tif"
       ]
      },
      {
       "output_type": "stream",
       "stream": "stdout",
       "text": [
        "\n",
        "D:\\Data\\GPCP_tif_clip_clip//gpcp_1dd_v1.2_p1d.20080823.tif"
       ]
      },
      {
       "output_type": "stream",
       "stream": "stdout",
       "text": [
        "\n",
        "D:\\Data\\GPCP_tif_clip_clip//gpcp_1dd_v1.2_p1d.20080824.tif"
       ]
      },
      {
       "output_type": "stream",
       "stream": "stdout",
       "text": [
        "\n",
        "D:\\Data\\GPCP_tif_clip_clip//gpcp_1dd_v1.2_p1d.20080825.tif"
       ]
      },
      {
       "output_type": "stream",
       "stream": "stdout",
       "text": [
        "\n",
        "D:\\Data\\GPCP_tif_clip_clip//gpcp_1dd_v1.2_p1d.20080826.tif"
       ]
      },
      {
       "output_type": "stream",
       "stream": "stdout",
       "text": [
        "\n",
        "D:\\Data\\GPCP_tif_clip_clip//gpcp_1dd_v1.2_p1d.20080827.tif"
       ]
      },
      {
       "output_type": "stream",
       "stream": "stdout",
       "text": [
        "\n",
        "D:\\Data\\GPCP_tif_clip_clip//gpcp_1dd_v1.2_p1d.20080828.tif"
       ]
      },
      {
       "output_type": "stream",
       "stream": "stdout",
       "text": [
        "\n",
        "D:\\Data\\GPCP_tif_clip_clip//gpcp_1dd_v1.2_p1d.20080829.tif"
       ]
      },
      {
       "output_type": "stream",
       "stream": "stdout",
       "text": [
        "\n",
        "D:\\Data\\GPCP_tif_clip_clip//gpcp_1dd_v1.2_p1d.20080830.tif"
       ]
      },
      {
       "output_type": "stream",
       "stream": "stdout",
       "text": [
        "\n",
        "D:\\Data\\GPCP_tif_clip_clip//gpcp_1dd_v1.2_p1d.20080900.tif"
       ]
      },
      {
       "output_type": "stream",
       "stream": "stdout",
       "text": [
        "\n",
        "D:\\Data\\GPCP_tif_clip_clip//gpcp_1dd_v1.2_p1d.20080901.tif"
       ]
      },
      {
       "output_type": "stream",
       "stream": "stdout",
       "text": [
        "\n",
        "D:\\Data\\GPCP_tif_clip_clip//gpcp_1dd_v1.2_p1d.20080902.tif"
       ]
      },
      {
       "output_type": "stream",
       "stream": "stdout",
       "text": [
        "\n",
        "D:\\Data\\GPCP_tif_clip_clip//gpcp_1dd_v1.2_p1d.20080903.tif"
       ]
      },
      {
       "output_type": "stream",
       "stream": "stdout",
       "text": [
        "\n",
        "D:\\Data\\GPCP_tif_clip_clip//gpcp_1dd_v1.2_p1d.20080904.tif"
       ]
      },
      {
       "output_type": "stream",
       "stream": "stdout",
       "text": [
        "\n",
        "D:\\Data\\GPCP_tif_clip_clip//gpcp_1dd_v1.2_p1d.20080905.tif"
       ]
      },
      {
       "output_type": "stream",
       "stream": "stdout",
       "text": [
        "\n",
        "D:\\Data\\GPCP_tif_clip_clip//gpcp_1dd_v1.2_p1d.20080906.tif"
       ]
      },
      {
       "output_type": "stream",
       "stream": "stdout",
       "text": [
        "\n",
        "D:\\Data\\GPCP_tif_clip_clip//gpcp_1dd_v1.2_p1d.20080907.tif"
       ]
      },
      {
       "output_type": "stream",
       "stream": "stdout",
       "text": [
        "\n",
        "D:\\Data\\GPCP_tif_clip_clip//gpcp_1dd_v1.2_p1d.20080908.tif"
       ]
      },
      {
       "output_type": "stream",
       "stream": "stdout",
       "text": [
        "\n",
        "D:\\Data\\GPCP_tif_clip_clip//gpcp_1dd_v1.2_p1d.20080909.tif"
       ]
      },
      {
       "output_type": "stream",
       "stream": "stdout",
       "text": [
        "\n",
        "D:\\Data\\GPCP_tif_clip_clip//gpcp_1dd_v1.2_p1d.20080910.tif"
       ]
      },
      {
       "output_type": "stream",
       "stream": "stdout",
       "text": [
        "\n",
        "D:\\Data\\GPCP_tif_clip_clip//gpcp_1dd_v1.2_p1d.20080911.tif"
       ]
      },
      {
       "output_type": "stream",
       "stream": "stdout",
       "text": [
        "\n",
        "D:\\Data\\GPCP_tif_clip_clip//gpcp_1dd_v1.2_p1d.20080912.tif"
       ]
      },
      {
       "output_type": "stream",
       "stream": "stdout",
       "text": [
        "\n",
        "D:\\Data\\GPCP_tif_clip_clip//gpcp_1dd_v1.2_p1d.20080913.tif"
       ]
      },
      {
       "output_type": "stream",
       "stream": "stdout",
       "text": [
        "\n",
        "D:\\Data\\GPCP_tif_clip_clip//gpcp_1dd_v1.2_p1d.20080914.tif"
       ]
      },
      {
       "output_type": "stream",
       "stream": "stdout",
       "text": [
        "\n",
        "D:\\Data\\GPCP_tif_clip_clip//gpcp_1dd_v1.2_p1d.20080915.tif"
       ]
      },
      {
       "output_type": "stream",
       "stream": "stdout",
       "text": [
        "\n",
        "D:\\Data\\GPCP_tif_clip_clip//gpcp_1dd_v1.2_p1d.20080916.tif"
       ]
      },
      {
       "output_type": "stream",
       "stream": "stdout",
       "text": [
        "\n",
        "D:\\Data\\GPCP_tif_clip_clip//gpcp_1dd_v1.2_p1d.20080917.tif"
       ]
      },
      {
       "output_type": "stream",
       "stream": "stdout",
       "text": [
        "\n",
        "D:\\Data\\GPCP_tif_clip_clip//gpcp_1dd_v1.2_p1d.20080918.tif"
       ]
      },
      {
       "output_type": "stream",
       "stream": "stdout",
       "text": [
        "\n",
        "D:\\Data\\GPCP_tif_clip_clip//gpcp_1dd_v1.2_p1d.20080919.tif"
       ]
      },
      {
       "output_type": "stream",
       "stream": "stdout",
       "text": [
        "\n",
        "D:\\Data\\GPCP_tif_clip_clip//gpcp_1dd_v1.2_p1d.20080920.tif"
       ]
      },
      {
       "output_type": "stream",
       "stream": "stdout",
       "text": [
        "\n",
        "D:\\Data\\GPCP_tif_clip_clip//gpcp_1dd_v1.2_p1d.20080921.tif"
       ]
      },
      {
       "output_type": "stream",
       "stream": "stdout",
       "text": [
        "\n",
        "D:\\Data\\GPCP_tif_clip_clip//gpcp_1dd_v1.2_p1d.20080922.tif"
       ]
      },
      {
       "output_type": "stream",
       "stream": "stdout",
       "text": [
        "\n",
        "D:\\Data\\GPCP_tif_clip_clip//gpcp_1dd_v1.2_p1d.20080923.tif"
       ]
      },
      {
       "output_type": "stream",
       "stream": "stdout",
       "text": [
        "\n",
        "D:\\Data\\GPCP_tif_clip_clip//gpcp_1dd_v1.2_p1d.20080924.tif"
       ]
      },
      {
       "output_type": "stream",
       "stream": "stdout",
       "text": [
        "\n",
        "D:\\Data\\GPCP_tif_clip_clip//gpcp_1dd_v1.2_p1d.20080925.tif"
       ]
      },
      {
       "output_type": "stream",
       "stream": "stdout",
       "text": [
        "\n",
        "D:\\Data\\GPCP_tif_clip_clip//gpcp_1dd_v1.2_p1d.20080926.tif"
       ]
      },
      {
       "output_type": "stream",
       "stream": "stdout",
       "text": [
        "\n",
        "D:\\Data\\GPCP_tif_clip_clip//gpcp_1dd_v1.2_p1d.20080927.tif"
       ]
      },
      {
       "output_type": "stream",
       "stream": "stdout",
       "text": [
        "\n",
        "D:\\Data\\GPCP_tif_clip_clip//gpcp_1dd_v1.2_p1d.20080928.tif"
       ]
      },
      {
       "output_type": "stream",
       "stream": "stdout",
       "text": [
        "\n",
        "D:\\Data\\GPCP_tif_clip_clip//gpcp_1dd_v1.2_p1d.20080929.tif"
       ]
      },
      {
       "output_type": "stream",
       "stream": "stdout",
       "text": [
        "\n",
        "D:\\Data\\GPCP_tif_clip_clip//gpcp_1dd_v1.2_p1d.20081000.tif"
       ]
      },
      {
       "output_type": "stream",
       "stream": "stdout",
       "text": [
        "\n",
        "D:\\Data\\GPCP_tif_clip_clip//gpcp_1dd_v1.2_p1d.20081001.tif"
       ]
      },
      {
       "output_type": "stream",
       "stream": "stdout",
       "text": [
        "\n",
        "D:\\Data\\GPCP_tif_clip_clip//gpcp_1dd_v1.2_p1d.20081002.tif"
       ]
      },
      {
       "output_type": "stream",
       "stream": "stdout",
       "text": [
        "\n",
        "D:\\Data\\GPCP_tif_clip_clip//gpcp_1dd_v1.2_p1d.20081003.tif"
       ]
      },
      {
       "output_type": "stream",
       "stream": "stdout",
       "text": [
        "\n",
        "D:\\Data\\GPCP_tif_clip_clip//gpcp_1dd_v1.2_p1d.20081004.tif"
       ]
      },
      {
       "output_type": "stream",
       "stream": "stdout",
       "text": [
        "\n",
        "D:\\Data\\GPCP_tif_clip_clip//gpcp_1dd_v1.2_p1d.20081005.tif"
       ]
      },
      {
       "output_type": "stream",
       "stream": "stdout",
       "text": [
        "\n",
        "D:\\Data\\GPCP_tif_clip_clip//gpcp_1dd_v1.2_p1d.20081006.tif"
       ]
      },
      {
       "output_type": "stream",
       "stream": "stdout",
       "text": [
        "\n",
        "D:\\Data\\GPCP_tif_clip_clip//gpcp_1dd_v1.2_p1d.20081007.tif"
       ]
      },
      {
       "output_type": "stream",
       "stream": "stdout",
       "text": [
        "\n",
        "D:\\Data\\GPCP_tif_clip_clip//gpcp_1dd_v1.2_p1d.20081008.tif"
       ]
      },
      {
       "output_type": "stream",
       "stream": "stdout",
       "text": [
        "\n",
        "D:\\Data\\GPCP_tif_clip_clip//gpcp_1dd_v1.2_p1d.20081009.tif"
       ]
      },
      {
       "output_type": "stream",
       "stream": "stdout",
       "text": [
        "\n",
        "D:\\Data\\GPCP_tif_clip_clip//gpcp_1dd_v1.2_p1d.20081010.tif"
       ]
      },
      {
       "output_type": "stream",
       "stream": "stdout",
       "text": [
        "\n",
        "D:\\Data\\GPCP_tif_clip_clip//gpcp_1dd_v1.2_p1d.20081011.tif"
       ]
      },
      {
       "output_type": "stream",
       "stream": "stdout",
       "text": [
        "\n",
        "D:\\Data\\GPCP_tif_clip_clip//gpcp_1dd_v1.2_p1d.20081012.tif"
       ]
      },
      {
       "output_type": "stream",
       "stream": "stdout",
       "text": [
        "\n",
        "D:\\Data\\GPCP_tif_clip_clip//gpcp_1dd_v1.2_p1d.20081013.tif"
       ]
      },
      {
       "output_type": "stream",
       "stream": "stdout",
       "text": [
        "\n",
        "D:\\Data\\GPCP_tif_clip_clip//gpcp_1dd_v1.2_p1d.20081014.tif"
       ]
      },
      {
       "output_type": "stream",
       "stream": "stdout",
       "text": [
        "\n",
        "D:\\Data\\GPCP_tif_clip_clip//gpcp_1dd_v1.2_p1d.20081015.tif"
       ]
      },
      {
       "output_type": "stream",
       "stream": "stdout",
       "text": [
        "\n",
        "D:\\Data\\GPCP_tif_clip_clip//gpcp_1dd_v1.2_p1d.20081016.tif"
       ]
      },
      {
       "output_type": "stream",
       "stream": "stdout",
       "text": [
        "\n",
        "D:\\Data\\GPCP_tif_clip_clip//gpcp_1dd_v1.2_p1d.20081017.tif"
       ]
      },
      {
       "output_type": "stream",
       "stream": "stdout",
       "text": [
        "\n",
        "D:\\Data\\GPCP_tif_clip_clip//gpcp_1dd_v1.2_p1d.20081018.tif"
       ]
      },
      {
       "output_type": "stream",
       "stream": "stdout",
       "text": [
        "\n",
        "D:\\Data\\GPCP_tif_clip_clip//gpcp_1dd_v1.2_p1d.20081019.tif"
       ]
      },
      {
       "output_type": "stream",
       "stream": "stdout",
       "text": [
        "\n",
        "D:\\Data\\GPCP_tif_clip_clip//gpcp_1dd_v1.2_p1d.20081020.tif"
       ]
      },
      {
       "output_type": "stream",
       "stream": "stdout",
       "text": [
        "\n",
        "D:\\Data\\GPCP_tif_clip_clip//gpcp_1dd_v1.2_p1d.20081021.tif"
       ]
      },
      {
       "output_type": "stream",
       "stream": "stdout",
       "text": [
        "\n",
        "D:\\Data\\GPCP_tif_clip_clip//gpcp_1dd_v1.2_p1d.20081022.tif"
       ]
      },
      {
       "output_type": "stream",
       "stream": "stdout",
       "text": [
        "\n",
        "D:\\Data\\GPCP_tif_clip_clip//gpcp_1dd_v1.2_p1d.20081023.tif"
       ]
      },
      {
       "output_type": "stream",
       "stream": "stdout",
       "text": [
        "\n",
        "D:\\Data\\GPCP_tif_clip_clip//gpcp_1dd_v1.2_p1d.20081024.tif"
       ]
      },
      {
       "output_type": "stream",
       "stream": "stdout",
       "text": [
        "\n",
        "D:\\Data\\GPCP_tif_clip_clip//gpcp_1dd_v1.2_p1d.20081025.tif"
       ]
      },
      {
       "output_type": "stream",
       "stream": "stdout",
       "text": [
        "\n",
        "D:\\Data\\GPCP_tif_clip_clip//gpcp_1dd_v1.2_p1d.20081026.tif"
       ]
      },
      {
       "output_type": "stream",
       "stream": "stdout",
       "text": [
        "\n",
        "D:\\Data\\GPCP_tif_clip_clip//gpcp_1dd_v1.2_p1d.20081027.tif"
       ]
      },
      {
       "output_type": "stream",
       "stream": "stdout",
       "text": [
        "\n",
        "D:\\Data\\GPCP_tif_clip_clip//gpcp_1dd_v1.2_p1d.20081028.tif"
       ]
      },
      {
       "output_type": "stream",
       "stream": "stdout",
       "text": [
        "\n",
        "D:\\Data\\GPCP_tif_clip_clip//gpcp_1dd_v1.2_p1d.20081029.tif"
       ]
      },
      {
       "output_type": "stream",
       "stream": "stdout",
       "text": [
        "\n",
        "D:\\Data\\GPCP_tif_clip_clip//gpcp_1dd_v1.2_p1d.20081030.tif"
       ]
      },
      {
       "output_type": "stream",
       "stream": "stdout",
       "text": [
        "\n",
        "D:\\Data\\GPCP_tif_clip_clip//gpcp_1dd_v1.2_p1d.20081100.tif"
       ]
      },
      {
       "output_type": "stream",
       "stream": "stdout",
       "text": [
        "\n",
        "D:\\Data\\GPCP_tif_clip_clip//gpcp_1dd_v1.2_p1d.20081101.tif"
       ]
      },
      {
       "output_type": "stream",
       "stream": "stdout",
       "text": [
        "\n",
        "D:\\Data\\GPCP_tif_clip_clip//gpcp_1dd_v1.2_p1d.20081102.tif"
       ]
      },
      {
       "output_type": "stream",
       "stream": "stdout",
       "text": [
        "\n",
        "D:\\Data\\GPCP_tif_clip_clip//gpcp_1dd_v1.2_p1d.20081103.tif"
       ]
      },
      {
       "output_type": "stream",
       "stream": "stdout",
       "text": [
        "\n",
        "D:\\Data\\GPCP_tif_clip_clip//gpcp_1dd_v1.2_p1d.20081104.tif"
       ]
      },
      {
       "output_type": "stream",
       "stream": "stdout",
       "text": [
        "\n",
        "D:\\Data\\GPCP_tif_clip_clip//gpcp_1dd_v1.2_p1d.20081105.tif"
       ]
      },
      {
       "output_type": "stream",
       "stream": "stdout",
       "text": [
        "\n",
        "D:\\Data\\GPCP_tif_clip_clip//gpcp_1dd_v1.2_p1d.20081106.tif"
       ]
      },
      {
       "output_type": "stream",
       "stream": "stdout",
       "text": [
        "\n",
        "D:\\Data\\GPCP_tif_clip_clip//gpcp_1dd_v1.2_p1d.20081107.tif"
       ]
      },
      {
       "output_type": "stream",
       "stream": "stdout",
       "text": [
        "\n",
        "D:\\Data\\GPCP_tif_clip_clip//gpcp_1dd_v1.2_p1d.20081108.tif"
       ]
      },
      {
       "output_type": "stream",
       "stream": "stdout",
       "text": [
        "\n",
        "D:\\Data\\GPCP_tif_clip_clip//gpcp_1dd_v1.2_p1d.20081109.tif"
       ]
      },
      {
       "output_type": "stream",
       "stream": "stdout",
       "text": [
        "\n",
        "D:\\Data\\GPCP_tif_clip_clip//gpcp_1dd_v1.2_p1d.20081110.tif"
       ]
      },
      {
       "output_type": "stream",
       "stream": "stdout",
       "text": [
        "\n",
        "D:\\Data\\GPCP_tif_clip_clip//gpcp_1dd_v1.2_p1d.20081111.tif"
       ]
      },
      {
       "output_type": "stream",
       "stream": "stdout",
       "text": [
        "\n",
        "D:\\Data\\GPCP_tif_clip_clip//gpcp_1dd_v1.2_p1d.20081112.tif"
       ]
      },
      {
       "output_type": "stream",
       "stream": "stdout",
       "text": [
        "\n",
        "D:\\Data\\GPCP_tif_clip_clip//gpcp_1dd_v1.2_p1d.20081113.tif"
       ]
      },
      {
       "output_type": "stream",
       "stream": "stdout",
       "text": [
        "\n",
        "D:\\Data\\GPCP_tif_clip_clip//gpcp_1dd_v1.2_p1d.20081114.tif"
       ]
      },
      {
       "output_type": "stream",
       "stream": "stdout",
       "text": [
        "\n",
        "D:\\Data\\GPCP_tif_clip_clip//gpcp_1dd_v1.2_p1d.20081115.tif"
       ]
      },
      {
       "output_type": "stream",
       "stream": "stdout",
       "text": [
        "\n",
        "D:\\Data\\GPCP_tif_clip_clip//gpcp_1dd_v1.2_p1d.20081116.tif"
       ]
      },
      {
       "output_type": "stream",
       "stream": "stdout",
       "text": [
        "\n",
        "D:\\Data\\GPCP_tif_clip_clip//gpcp_1dd_v1.2_p1d.20081117.tif"
       ]
      },
      {
       "output_type": "stream",
       "stream": "stdout",
       "text": [
        "\n",
        "D:\\Data\\GPCP_tif_clip_clip//gpcp_1dd_v1.2_p1d.20081118.tif"
       ]
      },
      {
       "output_type": "stream",
       "stream": "stdout",
       "text": [
        "\n",
        "D:\\Data\\GPCP_tif_clip_clip//gpcp_1dd_v1.2_p1d.20081119.tif"
       ]
      },
      {
       "output_type": "stream",
       "stream": "stdout",
       "text": [
        "\n",
        "D:\\Data\\GPCP_tif_clip_clip//gpcp_1dd_v1.2_p1d.20081120.tif"
       ]
      },
      {
       "output_type": "stream",
       "stream": "stdout",
       "text": [
        "\n",
        "D:\\Data\\GPCP_tif_clip_clip//gpcp_1dd_v1.2_p1d.20081121.tif"
       ]
      },
      {
       "output_type": "stream",
       "stream": "stdout",
       "text": [
        "\n",
        "D:\\Data\\GPCP_tif_clip_clip//gpcp_1dd_v1.2_p1d.20081122.tif"
       ]
      },
      {
       "output_type": "stream",
       "stream": "stdout",
       "text": [
        "\n",
        "D:\\Data\\GPCP_tif_clip_clip//gpcp_1dd_v1.2_p1d.20081123.tif"
       ]
      },
      {
       "output_type": "stream",
       "stream": "stdout",
       "text": [
        "\n",
        "D:\\Data\\GPCP_tif_clip_clip//gpcp_1dd_v1.2_p1d.20081124.tif"
       ]
      },
      {
       "output_type": "stream",
       "stream": "stdout",
       "text": [
        "\n",
        "D:\\Data\\GPCP_tif_clip_clip//gpcp_1dd_v1.2_p1d.20081125.tif"
       ]
      },
      {
       "output_type": "stream",
       "stream": "stdout",
       "text": [
        "\n",
        "D:\\Data\\GPCP_tif_clip_clip//gpcp_1dd_v1.2_p1d.20081126.tif"
       ]
      },
      {
       "output_type": "stream",
       "stream": "stdout",
       "text": [
        "\n",
        "D:\\Data\\GPCP_tif_clip_clip//gpcp_1dd_v1.2_p1d.20081127.tif"
       ]
      },
      {
       "output_type": "stream",
       "stream": "stdout",
       "text": [
        "\n",
        "D:\\Data\\GPCP_tif_clip_clip//gpcp_1dd_v1.2_p1d.20081128.tif"
       ]
      },
      {
       "output_type": "stream",
       "stream": "stdout",
       "text": [
        "\n",
        "D:\\Data\\GPCP_tif_clip_clip//gpcp_1dd_v1.2_p1d.20081129.tif"
       ]
      },
      {
       "output_type": "stream",
       "stream": "stdout",
       "text": [
        "\n",
        "D:\\Data\\GPCP_tif_clip_clip//gpcp_1dd_v1.2_p1d.20081200.tif"
       ]
      },
      {
       "output_type": "stream",
       "stream": "stdout",
       "text": [
        "\n",
        "D:\\Data\\GPCP_tif_clip_clip//gpcp_1dd_v1.2_p1d.20081201.tif"
       ]
      },
      {
       "output_type": "stream",
       "stream": "stdout",
       "text": [
        "\n",
        "D:\\Data\\GPCP_tif_clip_clip//gpcp_1dd_v1.2_p1d.20081202.tif"
       ]
      },
      {
       "output_type": "stream",
       "stream": "stdout",
       "text": [
        "\n",
        "D:\\Data\\GPCP_tif_clip_clip//gpcp_1dd_v1.2_p1d.20081203.tif"
       ]
      },
      {
       "output_type": "stream",
       "stream": "stdout",
       "text": [
        "\n",
        "D:\\Data\\GPCP_tif_clip_clip//gpcp_1dd_v1.2_p1d.20081204.tif"
       ]
      },
      {
       "output_type": "stream",
       "stream": "stdout",
       "text": [
        "\n",
        "D:\\Data\\GPCP_tif_clip_clip//gpcp_1dd_v1.2_p1d.20081205.tif"
       ]
      },
      {
       "output_type": "stream",
       "stream": "stdout",
       "text": [
        "\n",
        "D:\\Data\\GPCP_tif_clip_clip//gpcp_1dd_v1.2_p1d.20081206.tif"
       ]
      },
      {
       "output_type": "stream",
       "stream": "stdout",
       "text": [
        "\n",
        "D:\\Data\\GPCP_tif_clip_clip//gpcp_1dd_v1.2_p1d.20081207.tif"
       ]
      },
      {
       "output_type": "stream",
       "stream": "stdout",
       "text": [
        "\n",
        "D:\\Data\\GPCP_tif_clip_clip//gpcp_1dd_v1.2_p1d.20081208.tif"
       ]
      },
      {
       "output_type": "stream",
       "stream": "stdout",
       "text": [
        "\n",
        "D:\\Data\\GPCP_tif_clip_clip//gpcp_1dd_v1.2_p1d.20081209.tif"
       ]
      },
      {
       "output_type": "stream",
       "stream": "stdout",
       "text": [
        "\n",
        "D:\\Data\\GPCP_tif_clip_clip//gpcp_1dd_v1.2_p1d.20081210.tif"
       ]
      },
      {
       "output_type": "stream",
       "stream": "stdout",
       "text": [
        "\n",
        "D:\\Data\\GPCP_tif_clip_clip//gpcp_1dd_v1.2_p1d.20081211.tif"
       ]
      },
      {
       "output_type": "stream",
       "stream": "stdout",
       "text": [
        "\n",
        "D:\\Data\\GPCP_tif_clip_clip//gpcp_1dd_v1.2_p1d.20081212.tif"
       ]
      },
      {
       "output_type": "stream",
       "stream": "stdout",
       "text": [
        "\n",
        "D:\\Data\\GPCP_tif_clip_clip//gpcp_1dd_v1.2_p1d.20081213.tif"
       ]
      },
      {
       "output_type": "stream",
       "stream": "stdout",
       "text": [
        "\n",
        "D:\\Data\\GPCP_tif_clip_clip//gpcp_1dd_v1.2_p1d.20081214.tif"
       ]
      },
      {
       "output_type": "stream",
       "stream": "stdout",
       "text": [
        "\n",
        "D:\\Data\\GPCP_tif_clip_clip//gpcp_1dd_v1.2_p1d.20081215.tif"
       ]
      },
      {
       "output_type": "stream",
       "stream": "stdout",
       "text": [
        "\n",
        "D:\\Data\\GPCP_tif_clip_clip//gpcp_1dd_v1.2_p1d.20081216.tif"
       ]
      },
      {
       "output_type": "stream",
       "stream": "stdout",
       "text": [
        "\n",
        "D:\\Data\\GPCP_tif_clip_clip//gpcp_1dd_v1.2_p1d.20081217.tif"
       ]
      },
      {
       "output_type": "stream",
       "stream": "stdout",
       "text": [
        "\n",
        "D:\\Data\\GPCP_tif_clip_clip//gpcp_1dd_v1.2_p1d.20081218.tif"
       ]
      },
      {
       "output_type": "stream",
       "stream": "stdout",
       "text": [
        "\n",
        "D:\\Data\\GPCP_tif_clip_clip//gpcp_1dd_v1.2_p1d.20081219.tif"
       ]
      },
      {
       "output_type": "stream",
       "stream": "stdout",
       "text": [
        "\n",
        "D:\\Data\\GPCP_tif_clip_clip//gpcp_1dd_v1.2_p1d.20081220.tif"
       ]
      },
      {
       "output_type": "stream",
       "stream": "stdout",
       "text": [
        "\n",
        "D:\\Data\\GPCP_tif_clip_clip//gpcp_1dd_v1.2_p1d.20081221.tif"
       ]
      },
      {
       "output_type": "stream",
       "stream": "stdout",
       "text": [
        "\n",
        "D:\\Data\\GPCP_tif_clip_clip//gpcp_1dd_v1.2_p1d.20081222.tif"
       ]
      },
      {
       "output_type": "stream",
       "stream": "stdout",
       "text": [
        "\n",
        "D:\\Data\\GPCP_tif_clip_clip//gpcp_1dd_v1.2_p1d.20081223.tif"
       ]
      },
      {
       "output_type": "stream",
       "stream": "stdout",
       "text": [
        "\n",
        "D:\\Data\\GPCP_tif_clip_clip//gpcp_1dd_v1.2_p1d.20081224.tif"
       ]
      },
      {
       "output_type": "stream",
       "stream": "stdout",
       "text": [
        "\n",
        "D:\\Data\\GPCP_tif_clip_clip//gpcp_1dd_v1.2_p1d.20081225.tif"
       ]
      },
      {
       "output_type": "stream",
       "stream": "stdout",
       "text": [
        "\n",
        "D:\\Data\\GPCP_tif_clip_clip//gpcp_1dd_v1.2_p1d.20081226.tif"
       ]
      },
      {
       "output_type": "stream",
       "stream": "stdout",
       "text": [
        "\n",
        "D:\\Data\\GPCP_tif_clip_clip//gpcp_1dd_v1.2_p1d.20081227.tif"
       ]
      },
      {
       "output_type": "stream",
       "stream": "stdout",
       "text": [
        "\n",
        "D:\\Data\\GPCP_tif_clip_clip//gpcp_1dd_v1.2_p1d.20081228.tif"
       ]
      },
      {
       "output_type": "stream",
       "stream": "stdout",
       "text": [
        "\n",
        "D:\\Data\\GPCP_tif_clip_clip//gpcp_1dd_v1.2_p1d.20081229.tif"
       ]
      },
      {
       "output_type": "stream",
       "stream": "stdout",
       "text": [
        "\n",
        "D:\\Data\\GPCP_tif_clip_clip//gpcp_1dd_v1.2_p1d.20081230.tif"
       ]
      },
      {
       "output_type": "stream",
       "stream": "stdout",
       "text": [
        "\n",
        "D:\\Data\\GPCP_tif_clip_clip//gpcp_1dd_v1.2_p1d.20090100.tif"
       ]
      },
      {
       "output_type": "stream",
       "stream": "stdout",
       "text": [
        "\n",
        "D:\\Data\\GPCP_tif_clip_clip//gpcp_1dd_v1.2_p1d.20090101.tif"
       ]
      },
      {
       "output_type": "stream",
       "stream": "stdout",
       "text": [
        "\n",
        "D:\\Data\\GPCP_tif_clip_clip//gpcp_1dd_v1.2_p1d.20090102.tif"
       ]
      },
      {
       "output_type": "stream",
       "stream": "stdout",
       "text": [
        "\n",
        "D:\\Data\\GPCP_tif_clip_clip//gpcp_1dd_v1.2_p1d.20090103.tif"
       ]
      },
      {
       "output_type": "stream",
       "stream": "stdout",
       "text": [
        "\n",
        "D:\\Data\\GPCP_tif_clip_clip//gpcp_1dd_v1.2_p1d.20090104.tif"
       ]
      },
      {
       "output_type": "stream",
       "stream": "stdout",
       "text": [
        "\n",
        "D:\\Data\\GPCP_tif_clip_clip//gpcp_1dd_v1.2_p1d.20090105.tif"
       ]
      },
      {
       "output_type": "stream",
       "stream": "stdout",
       "text": [
        "\n",
        "D:\\Data\\GPCP_tif_clip_clip//gpcp_1dd_v1.2_p1d.20090106.tif"
       ]
      },
      {
       "output_type": "stream",
       "stream": "stdout",
       "text": [
        "\n",
        "D:\\Data\\GPCP_tif_clip_clip//gpcp_1dd_v1.2_p1d.20090107.tif"
       ]
      },
      {
       "output_type": "stream",
       "stream": "stdout",
       "text": [
        "\n",
        "D:\\Data\\GPCP_tif_clip_clip//gpcp_1dd_v1.2_p1d.20090108.tif"
       ]
      },
      {
       "output_type": "stream",
       "stream": "stdout",
       "text": [
        "\n",
        "D:\\Data\\GPCP_tif_clip_clip//gpcp_1dd_v1.2_p1d.20090109.tif"
       ]
      },
      {
       "output_type": "stream",
       "stream": "stdout",
       "text": [
        "\n",
        "D:\\Data\\GPCP_tif_clip_clip//gpcp_1dd_v1.2_p1d.20090110.tif"
       ]
      },
      {
       "output_type": "stream",
       "stream": "stdout",
       "text": [
        "\n",
        "D:\\Data\\GPCP_tif_clip_clip//gpcp_1dd_v1.2_p1d.20090111.tif"
       ]
      },
      {
       "output_type": "stream",
       "stream": "stdout",
       "text": [
        "\n",
        "D:\\Data\\GPCP_tif_clip_clip//gpcp_1dd_v1.2_p1d.20090112.tif"
       ]
      },
      {
       "output_type": "stream",
       "stream": "stdout",
       "text": [
        "\n",
        "D:\\Data\\GPCP_tif_clip_clip//gpcp_1dd_v1.2_p1d.20090113.tif"
       ]
      },
      {
       "output_type": "stream",
       "stream": "stdout",
       "text": [
        "\n",
        "D:\\Data\\GPCP_tif_clip_clip//gpcp_1dd_v1.2_p1d.20090114.tif"
       ]
      },
      {
       "output_type": "stream",
       "stream": "stdout",
       "text": [
        "\n",
        "D:\\Data\\GPCP_tif_clip_clip//gpcp_1dd_v1.2_p1d.20090115.tif"
       ]
      },
      {
       "output_type": "stream",
       "stream": "stdout",
       "text": [
        "\n",
        "D:\\Data\\GPCP_tif_clip_clip//gpcp_1dd_v1.2_p1d.20090116.tif"
       ]
      },
      {
       "output_type": "stream",
       "stream": "stdout",
       "text": [
        "\n",
        "D:\\Data\\GPCP_tif_clip_clip//gpcp_1dd_v1.2_p1d.20090117.tif"
       ]
      },
      {
       "output_type": "stream",
       "stream": "stdout",
       "text": [
        "\n",
        "D:\\Data\\GPCP_tif_clip_clip//gpcp_1dd_v1.2_p1d.20090118.tif"
       ]
      },
      {
       "output_type": "stream",
       "stream": "stdout",
       "text": [
        "\n",
        "D:\\Data\\GPCP_tif_clip_clip//gpcp_1dd_v1.2_p1d.20090119.tif"
       ]
      },
      {
       "output_type": "stream",
       "stream": "stdout",
       "text": [
        "\n",
        "D:\\Data\\GPCP_tif_clip_clip//gpcp_1dd_v1.2_p1d.20090120.tif"
       ]
      },
      {
       "output_type": "stream",
       "stream": "stdout",
       "text": [
        "\n",
        "D:\\Data\\GPCP_tif_clip_clip//gpcp_1dd_v1.2_p1d.20090121.tif"
       ]
      },
      {
       "output_type": "stream",
       "stream": "stdout",
       "text": [
        "\n",
        "D:\\Data\\GPCP_tif_clip_clip//gpcp_1dd_v1.2_p1d.20090122.tif"
       ]
      },
      {
       "output_type": "stream",
       "stream": "stdout",
       "text": [
        "\n",
        "D:\\Data\\GPCP_tif_clip_clip//gpcp_1dd_v1.2_p1d.20090123.tif"
       ]
      },
      {
       "output_type": "stream",
       "stream": "stdout",
       "text": [
        "\n",
        "D:\\Data\\GPCP_tif_clip_clip//gpcp_1dd_v1.2_p1d.20090124.tif"
       ]
      },
      {
       "output_type": "stream",
       "stream": "stdout",
       "text": [
        "\n",
        "D:\\Data\\GPCP_tif_clip_clip//gpcp_1dd_v1.2_p1d.20090125.tif"
       ]
      },
      {
       "output_type": "stream",
       "stream": "stdout",
       "text": [
        "\n",
        "D:\\Data\\GPCP_tif_clip_clip//gpcp_1dd_v1.2_p1d.20090126.tif"
       ]
      },
      {
       "output_type": "stream",
       "stream": "stdout",
       "text": [
        "\n",
        "D:\\Data\\GPCP_tif_clip_clip//gpcp_1dd_v1.2_p1d.20090127.tif"
       ]
      },
      {
       "output_type": "stream",
       "stream": "stdout",
       "text": [
        "\n",
        "D:\\Data\\GPCP_tif_clip_clip//gpcp_1dd_v1.2_p1d.20090128.tif"
       ]
      },
      {
       "output_type": "stream",
       "stream": "stdout",
       "text": [
        "\n",
        "D:\\Data\\GPCP_tif_clip_clip//gpcp_1dd_v1.2_p1d.20090129.tif"
       ]
      },
      {
       "output_type": "stream",
       "stream": "stdout",
       "text": [
        "\n",
        "D:\\Data\\GPCP_tif_clip_clip//gpcp_1dd_v1.2_p1d.20090130.tif"
       ]
      },
      {
       "output_type": "stream",
       "stream": "stdout",
       "text": [
        "\n",
        "D:\\Data\\GPCP_tif_clip_clip//gpcp_1dd_v1.2_p1d.20090200.tif"
       ]
      },
      {
       "output_type": "stream",
       "stream": "stdout",
       "text": [
        "\n",
        "D:\\Data\\GPCP_tif_clip_clip//gpcp_1dd_v1.2_p1d.20090201.tif"
       ]
      },
      {
       "output_type": "stream",
       "stream": "stdout",
       "text": [
        "\n",
        "D:\\Data\\GPCP_tif_clip_clip//gpcp_1dd_v1.2_p1d.20090202.tif"
       ]
      },
      {
       "output_type": "stream",
       "stream": "stdout",
       "text": [
        "\n",
        "D:\\Data\\GPCP_tif_clip_clip//gpcp_1dd_v1.2_p1d.20090203.tif"
       ]
      },
      {
       "output_type": "stream",
       "stream": "stdout",
       "text": [
        "\n",
        "D:\\Data\\GPCP_tif_clip_clip//gpcp_1dd_v1.2_p1d.20090204.tif"
       ]
      },
      {
       "output_type": "stream",
       "stream": "stdout",
       "text": [
        "\n",
        "D:\\Data\\GPCP_tif_clip_clip//gpcp_1dd_v1.2_p1d.20090205.tif"
       ]
      },
      {
       "output_type": "stream",
       "stream": "stdout",
       "text": [
        "\n",
        "D:\\Data\\GPCP_tif_clip_clip//gpcp_1dd_v1.2_p1d.20090206.tif"
       ]
      },
      {
       "output_type": "stream",
       "stream": "stdout",
       "text": [
        "\n",
        "D:\\Data\\GPCP_tif_clip_clip//gpcp_1dd_v1.2_p1d.20090207.tif"
       ]
      },
      {
       "output_type": "stream",
       "stream": "stdout",
       "text": [
        "\n",
        "D:\\Data\\GPCP_tif_clip_clip//gpcp_1dd_v1.2_p1d.20090208.tif"
       ]
      },
      {
       "output_type": "stream",
       "stream": "stdout",
       "text": [
        "\n",
        "D:\\Data\\GPCP_tif_clip_clip//gpcp_1dd_v1.2_p1d.20090209.tif"
       ]
      },
      {
       "output_type": "stream",
       "stream": "stdout",
       "text": [
        "\n",
        "D:\\Data\\GPCP_tif_clip_clip//gpcp_1dd_v1.2_p1d.20090210.tif"
       ]
      },
      {
       "output_type": "stream",
       "stream": "stdout",
       "text": [
        "\n",
        "D:\\Data\\GPCP_tif_clip_clip//gpcp_1dd_v1.2_p1d.20090211.tif"
       ]
      },
      {
       "output_type": "stream",
       "stream": "stdout",
       "text": [
        "\n",
        "D:\\Data\\GPCP_tif_clip_clip//gpcp_1dd_v1.2_p1d.20090212.tif"
       ]
      },
      {
       "output_type": "stream",
       "stream": "stdout",
       "text": [
        "\n",
        "D:\\Data\\GPCP_tif_clip_clip//gpcp_1dd_v1.2_p1d.20090213.tif"
       ]
      },
      {
       "output_type": "stream",
       "stream": "stdout",
       "text": [
        "\n",
        "D:\\Data\\GPCP_tif_clip_clip//gpcp_1dd_v1.2_p1d.20090214.tif"
       ]
      },
      {
       "output_type": "stream",
       "stream": "stdout",
       "text": [
        "\n",
        "D:\\Data\\GPCP_tif_clip_clip//gpcp_1dd_v1.2_p1d.20090215.tif"
       ]
      },
      {
       "output_type": "stream",
       "stream": "stdout",
       "text": [
        "\n",
        "D:\\Data\\GPCP_tif_clip_clip//gpcp_1dd_v1.2_p1d.20090216.tif"
       ]
      },
      {
       "output_type": "stream",
       "stream": "stdout",
       "text": [
        "\n",
        "D:\\Data\\GPCP_tif_clip_clip//gpcp_1dd_v1.2_p1d.20090217.tif"
       ]
      },
      {
       "output_type": "stream",
       "stream": "stdout",
       "text": [
        "\n",
        "D:\\Data\\GPCP_tif_clip_clip//gpcp_1dd_v1.2_p1d.20090218.tif"
       ]
      },
      {
       "output_type": "stream",
       "stream": "stdout",
       "text": [
        "\n",
        "D:\\Data\\GPCP_tif_clip_clip//gpcp_1dd_v1.2_p1d.20090219.tif"
       ]
      },
      {
       "output_type": "stream",
       "stream": "stdout",
       "text": [
        "\n",
        "D:\\Data\\GPCP_tif_clip_clip//gpcp_1dd_v1.2_p1d.20090220.tif"
       ]
      },
      {
       "output_type": "stream",
       "stream": "stdout",
       "text": [
        "\n",
        "D:\\Data\\GPCP_tif_clip_clip//gpcp_1dd_v1.2_p1d.20090221.tif"
       ]
      },
      {
       "output_type": "stream",
       "stream": "stdout",
       "text": [
        "\n",
        "D:\\Data\\GPCP_tif_clip_clip//gpcp_1dd_v1.2_p1d.20090222.tif"
       ]
      },
      {
       "output_type": "stream",
       "stream": "stdout",
       "text": [
        "\n",
        "D:\\Data\\GPCP_tif_clip_clip//gpcp_1dd_v1.2_p1d.20090223.tif"
       ]
      },
      {
       "output_type": "stream",
       "stream": "stdout",
       "text": [
        "\n",
        "D:\\Data\\GPCP_tif_clip_clip//gpcp_1dd_v1.2_p1d.20090224.tif"
       ]
      },
      {
       "output_type": "stream",
       "stream": "stdout",
       "text": [
        "\n",
        "D:\\Data\\GPCP_tif_clip_clip//gpcp_1dd_v1.2_p1d.20090225.tif"
       ]
      },
      {
       "output_type": "stream",
       "stream": "stdout",
       "text": [
        "\n",
        "D:\\Data\\GPCP_tif_clip_clip//gpcp_1dd_v1.2_p1d.20090226.tif"
       ]
      },
      {
       "output_type": "stream",
       "stream": "stdout",
       "text": [
        "\n",
        "D:\\Data\\GPCP_tif_clip_clip//gpcp_1dd_v1.2_p1d.20090227.tif"
       ]
      },
      {
       "output_type": "stream",
       "stream": "stdout",
       "text": [
        "\n",
        "D:\\Data\\GPCP_tif_clip_clip//gpcp_1dd_v1.2_p1d.20090300.tif"
       ]
      },
      {
       "output_type": "stream",
       "stream": "stdout",
       "text": [
        "\n",
        "D:\\Data\\GPCP_tif_clip_clip//gpcp_1dd_v1.2_p1d.20090301.tif"
       ]
      },
      {
       "output_type": "stream",
       "stream": "stdout",
       "text": [
        "\n",
        "D:\\Data\\GPCP_tif_clip_clip//gpcp_1dd_v1.2_p1d.20090302.tif"
       ]
      },
      {
       "output_type": "stream",
       "stream": "stdout",
       "text": [
        "\n",
        "D:\\Data\\GPCP_tif_clip_clip//gpcp_1dd_v1.2_p1d.20090303.tif"
       ]
      },
      {
       "output_type": "stream",
       "stream": "stdout",
       "text": [
        "\n",
        "D:\\Data\\GPCP_tif_clip_clip//gpcp_1dd_v1.2_p1d.20090304.tif"
       ]
      },
      {
       "output_type": "stream",
       "stream": "stdout",
       "text": [
        "\n",
        "D:\\Data\\GPCP_tif_clip_clip//gpcp_1dd_v1.2_p1d.20090305.tif"
       ]
      },
      {
       "output_type": "stream",
       "stream": "stdout",
       "text": [
        "\n",
        "D:\\Data\\GPCP_tif_clip_clip//gpcp_1dd_v1.2_p1d.20090306.tif"
       ]
      },
      {
       "output_type": "stream",
       "stream": "stdout",
       "text": [
        "\n",
        "D:\\Data\\GPCP_tif_clip_clip//gpcp_1dd_v1.2_p1d.20090307.tif"
       ]
      },
      {
       "output_type": "stream",
       "stream": "stdout",
       "text": [
        "\n",
        "D:\\Data\\GPCP_tif_clip_clip//gpcp_1dd_v1.2_p1d.20090308.tif"
       ]
      },
      {
       "output_type": "stream",
       "stream": "stdout",
       "text": [
        "\n",
        "D:\\Data\\GPCP_tif_clip_clip//gpcp_1dd_v1.2_p1d.20090309.tif"
       ]
      },
      {
       "output_type": "stream",
       "stream": "stdout",
       "text": [
        "\n",
        "D:\\Data\\GPCP_tif_clip_clip//gpcp_1dd_v1.2_p1d.20090310.tif"
       ]
      },
      {
       "output_type": "stream",
       "stream": "stdout",
       "text": [
        "\n",
        "D:\\Data\\GPCP_tif_clip_clip//gpcp_1dd_v1.2_p1d.20090311.tif"
       ]
      },
      {
       "output_type": "stream",
       "stream": "stdout",
       "text": [
        "\n",
        "D:\\Data\\GPCP_tif_clip_clip//gpcp_1dd_v1.2_p1d.20090312.tif"
       ]
      },
      {
       "output_type": "stream",
       "stream": "stdout",
       "text": [
        "\n",
        "D:\\Data\\GPCP_tif_clip_clip//gpcp_1dd_v1.2_p1d.20090313.tif"
       ]
      },
      {
       "output_type": "stream",
       "stream": "stdout",
       "text": [
        "\n",
        "D:\\Data\\GPCP_tif_clip_clip//gpcp_1dd_v1.2_p1d.20090314.tif"
       ]
      },
      {
       "output_type": "stream",
       "stream": "stdout",
       "text": [
        "\n",
        "D:\\Data\\GPCP_tif_clip_clip//gpcp_1dd_v1.2_p1d.20090315.tif"
       ]
      },
      {
       "output_type": "stream",
       "stream": "stdout",
       "text": [
        "\n",
        "D:\\Data\\GPCP_tif_clip_clip//gpcp_1dd_v1.2_p1d.20090316.tif"
       ]
      },
      {
       "output_type": "stream",
       "stream": "stdout",
       "text": [
        "\n",
        "D:\\Data\\GPCP_tif_clip_clip//gpcp_1dd_v1.2_p1d.20090317.tif"
       ]
      },
      {
       "output_type": "stream",
       "stream": "stdout",
       "text": [
        "\n",
        "D:\\Data\\GPCP_tif_clip_clip//gpcp_1dd_v1.2_p1d.20090318.tif"
       ]
      },
      {
       "output_type": "stream",
       "stream": "stdout",
       "text": [
        "\n",
        "D:\\Data\\GPCP_tif_clip_clip//gpcp_1dd_v1.2_p1d.20090319.tif"
       ]
      },
      {
       "output_type": "stream",
       "stream": "stdout",
       "text": [
        "\n",
        "D:\\Data\\GPCP_tif_clip_clip//gpcp_1dd_v1.2_p1d.20090320.tif"
       ]
      },
      {
       "output_type": "stream",
       "stream": "stdout",
       "text": [
        "\n",
        "D:\\Data\\GPCP_tif_clip_clip//gpcp_1dd_v1.2_p1d.20090321.tif"
       ]
      },
      {
       "output_type": "stream",
       "stream": "stdout",
       "text": [
        "\n",
        "D:\\Data\\GPCP_tif_clip_clip//gpcp_1dd_v1.2_p1d.20090322.tif"
       ]
      },
      {
       "output_type": "stream",
       "stream": "stdout",
       "text": [
        "\n",
        "D:\\Data\\GPCP_tif_clip_clip//gpcp_1dd_v1.2_p1d.20090323.tif"
       ]
      },
      {
       "output_type": "stream",
       "stream": "stdout",
       "text": [
        "\n",
        "D:\\Data\\GPCP_tif_clip_clip//gpcp_1dd_v1.2_p1d.20090324.tif"
       ]
      },
      {
       "output_type": "stream",
       "stream": "stdout",
       "text": [
        "\n",
        "D:\\Data\\GPCP_tif_clip_clip//gpcp_1dd_v1.2_p1d.20090325.tif"
       ]
      },
      {
       "output_type": "stream",
       "stream": "stdout",
       "text": [
        "\n",
        "D:\\Data\\GPCP_tif_clip_clip//gpcp_1dd_v1.2_p1d.20090326.tif"
       ]
      },
      {
       "output_type": "stream",
       "stream": "stdout",
       "text": [
        "\n",
        "D:\\Data\\GPCP_tif_clip_clip//gpcp_1dd_v1.2_p1d.20090327.tif"
       ]
      },
      {
       "output_type": "stream",
       "stream": "stdout",
       "text": [
        "\n",
        "D:\\Data\\GPCP_tif_clip_clip//gpcp_1dd_v1.2_p1d.20090328.tif"
       ]
      },
      {
       "output_type": "stream",
       "stream": "stdout",
       "text": [
        "\n",
        "D:\\Data\\GPCP_tif_clip_clip//gpcp_1dd_v1.2_p1d.20090329.tif"
       ]
      },
      {
       "output_type": "stream",
       "stream": "stdout",
       "text": [
        "\n",
        "D:\\Data\\GPCP_tif_clip_clip//gpcp_1dd_v1.2_p1d.20090330.tif"
       ]
      },
      {
       "output_type": "stream",
       "stream": "stdout",
       "text": [
        "\n",
        "D:\\Data\\GPCP_tif_clip_clip//gpcp_1dd_v1.2_p1d.20090400.tif"
       ]
      },
      {
       "output_type": "stream",
       "stream": "stdout",
       "text": [
        "\n",
        "D:\\Data\\GPCP_tif_clip_clip//gpcp_1dd_v1.2_p1d.20090401.tif"
       ]
      },
      {
       "output_type": "stream",
       "stream": "stdout",
       "text": [
        "\n",
        "D:\\Data\\GPCP_tif_clip_clip//gpcp_1dd_v1.2_p1d.20090402.tif"
       ]
      },
      {
       "output_type": "stream",
       "stream": "stdout",
       "text": [
        "\n",
        "D:\\Data\\GPCP_tif_clip_clip//gpcp_1dd_v1.2_p1d.20090403.tif"
       ]
      },
      {
       "output_type": "stream",
       "stream": "stdout",
       "text": [
        "\n",
        "D:\\Data\\GPCP_tif_clip_clip//gpcp_1dd_v1.2_p1d.20090404.tif"
       ]
      },
      {
       "output_type": "stream",
       "stream": "stdout",
       "text": [
        "\n",
        "D:\\Data\\GPCP_tif_clip_clip//gpcp_1dd_v1.2_p1d.20090405.tif"
       ]
      },
      {
       "output_type": "stream",
       "stream": "stdout",
       "text": [
        "\n",
        "D:\\Data\\GPCP_tif_clip_clip//gpcp_1dd_v1.2_p1d.20090406.tif"
       ]
      },
      {
       "output_type": "stream",
       "stream": "stdout",
       "text": [
        "\n",
        "D:\\Data\\GPCP_tif_clip_clip//gpcp_1dd_v1.2_p1d.20090407.tif"
       ]
      },
      {
       "output_type": "stream",
       "stream": "stdout",
       "text": [
        "\n",
        "D:\\Data\\GPCP_tif_clip_clip//gpcp_1dd_v1.2_p1d.20090408.tif"
       ]
      },
      {
       "output_type": "stream",
       "stream": "stdout",
       "text": [
        "\n",
        "D:\\Data\\GPCP_tif_clip_clip//gpcp_1dd_v1.2_p1d.20090409.tif"
       ]
      },
      {
       "output_type": "stream",
       "stream": "stdout",
       "text": [
        "\n",
        "D:\\Data\\GPCP_tif_clip_clip//gpcp_1dd_v1.2_p1d.20090410.tif"
       ]
      },
      {
       "output_type": "stream",
       "stream": "stdout",
       "text": [
        "\n",
        "D:\\Data\\GPCP_tif_clip_clip//gpcp_1dd_v1.2_p1d.20090411.tif"
       ]
      },
      {
       "output_type": "stream",
       "stream": "stdout",
       "text": [
        "\n",
        "D:\\Data\\GPCP_tif_clip_clip//gpcp_1dd_v1.2_p1d.20090412.tif"
       ]
      },
      {
       "output_type": "stream",
       "stream": "stdout",
       "text": [
        "\n",
        "D:\\Data\\GPCP_tif_clip_clip//gpcp_1dd_v1.2_p1d.20090413.tif"
       ]
      },
      {
       "output_type": "stream",
       "stream": "stdout",
       "text": [
        "\n",
        "D:\\Data\\GPCP_tif_clip_clip//gpcp_1dd_v1.2_p1d.20090414.tif"
       ]
      },
      {
       "output_type": "stream",
       "stream": "stdout",
       "text": [
        "\n",
        "D:\\Data\\GPCP_tif_clip_clip//gpcp_1dd_v1.2_p1d.20090415.tif"
       ]
      },
      {
       "output_type": "stream",
       "stream": "stdout",
       "text": [
        "\n",
        "D:\\Data\\GPCP_tif_clip_clip//gpcp_1dd_v1.2_p1d.20090416.tif"
       ]
      },
      {
       "output_type": "stream",
       "stream": "stdout",
       "text": [
        "\n",
        "D:\\Data\\GPCP_tif_clip_clip//gpcp_1dd_v1.2_p1d.20090417.tif"
       ]
      },
      {
       "output_type": "stream",
       "stream": "stdout",
       "text": [
        "\n",
        "D:\\Data\\GPCP_tif_clip_clip//gpcp_1dd_v1.2_p1d.20090418.tif"
       ]
      },
      {
       "output_type": "stream",
       "stream": "stdout",
       "text": [
        "\n",
        "D:\\Data\\GPCP_tif_clip_clip//gpcp_1dd_v1.2_p1d.20090419.tif"
       ]
      },
      {
       "output_type": "stream",
       "stream": "stdout",
       "text": [
        "\n",
        "D:\\Data\\GPCP_tif_clip_clip//gpcp_1dd_v1.2_p1d.20090420.tif"
       ]
      },
      {
       "output_type": "stream",
       "stream": "stdout",
       "text": [
        "\n",
        "D:\\Data\\GPCP_tif_clip_clip//gpcp_1dd_v1.2_p1d.20090421.tif"
       ]
      },
      {
       "output_type": "stream",
       "stream": "stdout",
       "text": [
        "\n",
        "D:\\Data\\GPCP_tif_clip_clip//gpcp_1dd_v1.2_p1d.20090422.tif"
       ]
      },
      {
       "output_type": "stream",
       "stream": "stdout",
       "text": [
        "\n",
        "D:\\Data\\GPCP_tif_clip_clip//gpcp_1dd_v1.2_p1d.20090423.tif"
       ]
      },
      {
       "output_type": "stream",
       "stream": "stdout",
       "text": [
        "\n",
        "D:\\Data\\GPCP_tif_clip_clip//gpcp_1dd_v1.2_p1d.20090424.tif"
       ]
      },
      {
       "output_type": "stream",
       "stream": "stdout",
       "text": [
        "\n",
        "D:\\Data\\GPCP_tif_clip_clip//gpcp_1dd_v1.2_p1d.20090425.tif"
       ]
      },
      {
       "output_type": "stream",
       "stream": "stdout",
       "text": [
        "\n",
        "D:\\Data\\GPCP_tif_clip_clip//gpcp_1dd_v1.2_p1d.20090426.tif"
       ]
      },
      {
       "output_type": "stream",
       "stream": "stdout",
       "text": [
        "\n",
        "D:\\Data\\GPCP_tif_clip_clip//gpcp_1dd_v1.2_p1d.20090427.tif"
       ]
      },
      {
       "output_type": "stream",
       "stream": "stdout",
       "text": [
        "\n",
        "D:\\Data\\GPCP_tif_clip_clip//gpcp_1dd_v1.2_p1d.20090428.tif"
       ]
      },
      {
       "output_type": "stream",
       "stream": "stdout",
       "text": [
        "\n",
        "D:\\Data\\GPCP_tif_clip_clip//gpcp_1dd_v1.2_p1d.20090429.tif"
       ]
      },
      {
       "output_type": "stream",
       "stream": "stdout",
       "text": [
        "\n",
        "D:\\Data\\GPCP_tif_clip_clip//gpcp_1dd_v1.2_p1d.20090500.tif"
       ]
      },
      {
       "output_type": "stream",
       "stream": "stdout",
       "text": [
        "\n",
        "D:\\Data\\GPCP_tif_clip_clip//gpcp_1dd_v1.2_p1d.20090501.tif"
       ]
      },
      {
       "output_type": "stream",
       "stream": "stdout",
       "text": [
        "\n",
        "D:\\Data\\GPCP_tif_clip_clip//gpcp_1dd_v1.2_p1d.20090502.tif"
       ]
      },
      {
       "output_type": "stream",
       "stream": "stdout",
       "text": [
        "\n",
        "D:\\Data\\GPCP_tif_clip_clip//gpcp_1dd_v1.2_p1d.20090503.tif"
       ]
      },
      {
       "output_type": "stream",
       "stream": "stdout",
       "text": [
        "\n",
        "D:\\Data\\GPCP_tif_clip_clip//gpcp_1dd_v1.2_p1d.20090504.tif"
       ]
      },
      {
       "output_type": "stream",
       "stream": "stdout",
       "text": [
        "\n",
        "D:\\Data\\GPCP_tif_clip_clip//gpcp_1dd_v1.2_p1d.20090505.tif"
       ]
      },
      {
       "output_type": "stream",
       "stream": "stdout",
       "text": [
        "\n",
        "D:\\Data\\GPCP_tif_clip_clip//gpcp_1dd_v1.2_p1d.20090506.tif"
       ]
      },
      {
       "output_type": "stream",
       "stream": "stdout",
       "text": [
        "\n",
        "D:\\Data\\GPCP_tif_clip_clip//gpcp_1dd_v1.2_p1d.20090507.tif"
       ]
      },
      {
       "output_type": "stream",
       "stream": "stdout",
       "text": [
        "\n",
        "D:\\Data\\GPCP_tif_clip_clip//gpcp_1dd_v1.2_p1d.20090508.tif"
       ]
      },
      {
       "output_type": "stream",
       "stream": "stdout",
       "text": [
        "\n",
        "D:\\Data\\GPCP_tif_clip_clip//gpcp_1dd_v1.2_p1d.20090509.tif"
       ]
      },
      {
       "output_type": "stream",
       "stream": "stdout",
       "text": [
        "\n",
        "D:\\Data\\GPCP_tif_clip_clip//gpcp_1dd_v1.2_p1d.20090510.tif"
       ]
      },
      {
       "output_type": "stream",
       "stream": "stdout",
       "text": [
        "\n",
        "D:\\Data\\GPCP_tif_clip_clip//gpcp_1dd_v1.2_p1d.20090511.tif"
       ]
      },
      {
       "output_type": "stream",
       "stream": "stdout",
       "text": [
        "\n",
        "D:\\Data\\GPCP_tif_clip_clip//gpcp_1dd_v1.2_p1d.20090512.tif"
       ]
      },
      {
       "output_type": "stream",
       "stream": "stdout",
       "text": [
        "\n",
        "D:\\Data\\GPCP_tif_clip_clip//gpcp_1dd_v1.2_p1d.20090513.tif"
       ]
      },
      {
       "output_type": "stream",
       "stream": "stdout",
       "text": [
        "\n",
        "D:\\Data\\GPCP_tif_clip_clip//gpcp_1dd_v1.2_p1d.20090514.tif"
       ]
      },
      {
       "output_type": "stream",
       "stream": "stdout",
       "text": [
        "\n",
        "D:\\Data\\GPCP_tif_clip_clip//gpcp_1dd_v1.2_p1d.20090515.tif"
       ]
      },
      {
       "output_type": "stream",
       "stream": "stdout",
       "text": [
        "\n",
        "D:\\Data\\GPCP_tif_clip_clip//gpcp_1dd_v1.2_p1d.20090516.tif"
       ]
      },
      {
       "output_type": "stream",
       "stream": "stdout",
       "text": [
        "\n",
        "D:\\Data\\GPCP_tif_clip_clip//gpcp_1dd_v1.2_p1d.20090517.tif"
       ]
      },
      {
       "output_type": "stream",
       "stream": "stdout",
       "text": [
        "\n",
        "D:\\Data\\GPCP_tif_clip_clip//gpcp_1dd_v1.2_p1d.20090518.tif"
       ]
      },
      {
       "output_type": "stream",
       "stream": "stdout",
       "text": [
        "\n",
        "D:\\Data\\GPCP_tif_clip_clip//gpcp_1dd_v1.2_p1d.20090519.tif"
       ]
      },
      {
       "output_type": "stream",
       "stream": "stdout",
       "text": [
        "\n",
        "D:\\Data\\GPCP_tif_clip_clip//gpcp_1dd_v1.2_p1d.20090520.tif"
       ]
      },
      {
       "output_type": "stream",
       "stream": "stdout",
       "text": [
        "\n",
        "D:\\Data\\GPCP_tif_clip_clip//gpcp_1dd_v1.2_p1d.20090521.tif"
       ]
      },
      {
       "output_type": "stream",
       "stream": "stdout",
       "text": [
        "\n",
        "D:\\Data\\GPCP_tif_clip_clip//gpcp_1dd_v1.2_p1d.20090522.tif"
       ]
      },
      {
       "output_type": "stream",
       "stream": "stdout",
       "text": [
        "\n",
        "D:\\Data\\GPCP_tif_clip_clip//gpcp_1dd_v1.2_p1d.20090523.tif"
       ]
      },
      {
       "output_type": "stream",
       "stream": "stdout",
       "text": [
        "\n",
        "D:\\Data\\GPCP_tif_clip_clip//gpcp_1dd_v1.2_p1d.20090524.tif"
       ]
      },
      {
       "output_type": "stream",
       "stream": "stdout",
       "text": [
        "\n",
        "D:\\Data\\GPCP_tif_clip_clip//gpcp_1dd_v1.2_p1d.20090525.tif"
       ]
      },
      {
       "output_type": "stream",
       "stream": "stdout",
       "text": [
        "\n",
        "D:\\Data\\GPCP_tif_clip_clip//gpcp_1dd_v1.2_p1d.20090526.tif"
       ]
      },
      {
       "output_type": "stream",
       "stream": "stdout",
       "text": [
        "\n",
        "D:\\Data\\GPCP_tif_clip_clip//gpcp_1dd_v1.2_p1d.20090527.tif"
       ]
      },
      {
       "output_type": "stream",
       "stream": "stdout",
       "text": [
        "\n",
        "D:\\Data\\GPCP_tif_clip_clip//gpcp_1dd_v1.2_p1d.20090528.tif"
       ]
      },
      {
       "output_type": "stream",
       "stream": "stdout",
       "text": [
        "\n",
        "D:\\Data\\GPCP_tif_clip_clip//gpcp_1dd_v1.2_p1d.20090529.tif"
       ]
      },
      {
       "output_type": "stream",
       "stream": "stdout",
       "text": [
        "\n",
        "D:\\Data\\GPCP_tif_clip_clip//gpcp_1dd_v1.2_p1d.20090530.tif"
       ]
      },
      {
       "output_type": "stream",
       "stream": "stdout",
       "text": [
        "\n",
        "D:\\Data\\GPCP_tif_clip_clip//gpcp_1dd_v1.2_p1d.20090600.tif"
       ]
      },
      {
       "output_type": "stream",
       "stream": "stdout",
       "text": [
        "\n",
        "D:\\Data\\GPCP_tif_clip_clip//gpcp_1dd_v1.2_p1d.20090601.tif"
       ]
      },
      {
       "output_type": "stream",
       "stream": "stdout",
       "text": [
        "\n",
        "D:\\Data\\GPCP_tif_clip_clip//gpcp_1dd_v1.2_p1d.20090602.tif"
       ]
      },
      {
       "output_type": "stream",
       "stream": "stdout",
       "text": [
        "\n",
        "D:\\Data\\GPCP_tif_clip_clip//gpcp_1dd_v1.2_p1d.20090603.tif"
       ]
      },
      {
       "output_type": "stream",
       "stream": "stdout",
       "text": [
        "\n",
        "D:\\Data\\GPCP_tif_clip_clip//gpcp_1dd_v1.2_p1d.20090604.tif"
       ]
      },
      {
       "output_type": "stream",
       "stream": "stdout",
       "text": [
        "\n",
        "D:\\Data\\GPCP_tif_clip_clip//gpcp_1dd_v1.2_p1d.20090605.tif"
       ]
      },
      {
       "output_type": "stream",
       "stream": "stdout",
       "text": [
        "\n",
        "D:\\Data\\GPCP_tif_clip_clip//gpcp_1dd_v1.2_p1d.20090606.tif"
       ]
      },
      {
       "output_type": "stream",
       "stream": "stdout",
       "text": [
        "\n",
        "D:\\Data\\GPCP_tif_clip_clip//gpcp_1dd_v1.2_p1d.20090607.tif"
       ]
      },
      {
       "output_type": "stream",
       "stream": "stdout",
       "text": [
        "\n",
        "D:\\Data\\GPCP_tif_clip_clip//gpcp_1dd_v1.2_p1d.20090608.tif"
       ]
      },
      {
       "output_type": "stream",
       "stream": "stdout",
       "text": [
        "\n",
        "D:\\Data\\GPCP_tif_clip_clip//gpcp_1dd_v1.2_p1d.20090609.tif"
       ]
      },
      {
       "output_type": "stream",
       "stream": "stdout",
       "text": [
        "\n",
        "D:\\Data\\GPCP_tif_clip_clip//gpcp_1dd_v1.2_p1d.20090610.tif"
       ]
      },
      {
       "output_type": "stream",
       "stream": "stdout",
       "text": [
        "\n",
        "D:\\Data\\GPCP_tif_clip_clip//gpcp_1dd_v1.2_p1d.20090611.tif"
       ]
      },
      {
       "output_type": "stream",
       "stream": "stdout",
       "text": [
        "\n",
        "D:\\Data\\GPCP_tif_clip_clip//gpcp_1dd_v1.2_p1d.20090612.tif"
       ]
      },
      {
       "output_type": "stream",
       "stream": "stdout",
       "text": [
        "\n",
        "D:\\Data\\GPCP_tif_clip_clip//gpcp_1dd_v1.2_p1d.20090613.tif"
       ]
      },
      {
       "output_type": "stream",
       "stream": "stdout",
       "text": [
        "\n",
        "D:\\Data\\GPCP_tif_clip_clip//gpcp_1dd_v1.2_p1d.20090614.tif"
       ]
      },
      {
       "output_type": "stream",
       "stream": "stdout",
       "text": [
        "\n",
        "D:\\Data\\GPCP_tif_clip_clip//gpcp_1dd_v1.2_p1d.20090615.tif"
       ]
      },
      {
       "output_type": "stream",
       "stream": "stdout",
       "text": [
        "\n",
        "D:\\Data\\GPCP_tif_clip_clip//gpcp_1dd_v1.2_p1d.20090616.tif"
       ]
      },
      {
       "output_type": "stream",
       "stream": "stdout",
       "text": [
        "\n",
        "D:\\Data\\GPCP_tif_clip_clip//gpcp_1dd_v1.2_p1d.20090617.tif"
       ]
      },
      {
       "output_type": "stream",
       "stream": "stdout",
       "text": [
        "\n",
        "D:\\Data\\GPCP_tif_clip_clip//gpcp_1dd_v1.2_p1d.20090618.tif"
       ]
      },
      {
       "output_type": "stream",
       "stream": "stdout",
       "text": [
        "\n",
        "D:\\Data\\GPCP_tif_clip_clip//gpcp_1dd_v1.2_p1d.20090619.tif"
       ]
      },
      {
       "output_type": "stream",
       "stream": "stdout",
       "text": [
        "\n",
        "D:\\Data\\GPCP_tif_clip_clip//gpcp_1dd_v1.2_p1d.20090620.tif"
       ]
      },
      {
       "output_type": "stream",
       "stream": "stdout",
       "text": [
        "\n",
        "D:\\Data\\GPCP_tif_clip_clip//gpcp_1dd_v1.2_p1d.20090621.tif"
       ]
      },
      {
       "output_type": "stream",
       "stream": "stdout",
       "text": [
        "\n",
        "D:\\Data\\GPCP_tif_clip_clip//gpcp_1dd_v1.2_p1d.20090622.tif"
       ]
      },
      {
       "output_type": "stream",
       "stream": "stdout",
       "text": [
        "\n",
        "D:\\Data\\GPCP_tif_clip_clip//gpcp_1dd_v1.2_p1d.20090623.tif"
       ]
      },
      {
       "output_type": "stream",
       "stream": "stdout",
       "text": [
        "\n",
        "D:\\Data\\GPCP_tif_clip_clip//gpcp_1dd_v1.2_p1d.20090624.tif"
       ]
      },
      {
       "output_type": "stream",
       "stream": "stdout",
       "text": [
        "\n",
        "D:\\Data\\GPCP_tif_clip_clip//gpcp_1dd_v1.2_p1d.20090625.tif"
       ]
      },
      {
       "output_type": "stream",
       "stream": "stdout",
       "text": [
        "\n",
        "D:\\Data\\GPCP_tif_clip_clip//gpcp_1dd_v1.2_p1d.20090626.tif"
       ]
      },
      {
       "output_type": "stream",
       "stream": "stdout",
       "text": [
        "\n",
        "D:\\Data\\GPCP_tif_clip_clip//gpcp_1dd_v1.2_p1d.20090627.tif"
       ]
      },
      {
       "output_type": "stream",
       "stream": "stdout",
       "text": [
        "\n",
        "D:\\Data\\GPCP_tif_clip_clip//gpcp_1dd_v1.2_p1d.20090628.tif"
       ]
      },
      {
       "output_type": "stream",
       "stream": "stdout",
       "text": [
        "\n",
        "D:\\Data\\GPCP_tif_clip_clip//gpcp_1dd_v1.2_p1d.20090629.tif"
       ]
      },
      {
       "output_type": "stream",
       "stream": "stdout",
       "text": [
        "\n",
        "D:\\Data\\GPCP_tif_clip_clip//gpcp_1dd_v1.2_p1d.20090700.tif"
       ]
      },
      {
       "output_type": "stream",
       "stream": "stdout",
       "text": [
        "\n",
        "D:\\Data\\GPCP_tif_clip_clip//gpcp_1dd_v1.2_p1d.20090701.tif"
       ]
      },
      {
       "output_type": "stream",
       "stream": "stdout",
       "text": [
        "\n",
        "D:\\Data\\GPCP_tif_clip_clip//gpcp_1dd_v1.2_p1d.20090702.tif"
       ]
      },
      {
       "output_type": "stream",
       "stream": "stdout",
       "text": [
        "\n",
        "D:\\Data\\GPCP_tif_clip_clip//gpcp_1dd_v1.2_p1d.20090703.tif"
       ]
      },
      {
       "output_type": "stream",
       "stream": "stdout",
       "text": [
        "\n",
        "D:\\Data\\GPCP_tif_clip_clip//gpcp_1dd_v1.2_p1d.20090704.tif"
       ]
      },
      {
       "output_type": "stream",
       "stream": "stdout",
       "text": [
        "\n",
        "D:\\Data\\GPCP_tif_clip_clip//gpcp_1dd_v1.2_p1d.20090705.tif"
       ]
      },
      {
       "output_type": "stream",
       "stream": "stdout",
       "text": [
        "\n",
        "D:\\Data\\GPCP_tif_clip_clip//gpcp_1dd_v1.2_p1d.20090706.tif"
       ]
      },
      {
       "output_type": "stream",
       "stream": "stdout",
       "text": [
        "\n",
        "D:\\Data\\GPCP_tif_clip_clip//gpcp_1dd_v1.2_p1d.20090707.tif"
       ]
      },
      {
       "output_type": "stream",
       "stream": "stdout",
       "text": [
        "\n",
        "D:\\Data\\GPCP_tif_clip_clip//gpcp_1dd_v1.2_p1d.20090708.tif"
       ]
      },
      {
       "output_type": "stream",
       "stream": "stdout",
       "text": [
        "\n",
        "D:\\Data\\GPCP_tif_clip_clip//gpcp_1dd_v1.2_p1d.20090709.tif"
       ]
      },
      {
       "output_type": "stream",
       "stream": "stdout",
       "text": [
        "\n",
        "D:\\Data\\GPCP_tif_clip_clip//gpcp_1dd_v1.2_p1d.20090710.tif"
       ]
      },
      {
       "output_type": "stream",
       "stream": "stdout",
       "text": [
        "\n",
        "D:\\Data\\GPCP_tif_clip_clip//gpcp_1dd_v1.2_p1d.20090711.tif"
       ]
      },
      {
       "output_type": "stream",
       "stream": "stdout",
       "text": [
        "\n",
        "D:\\Data\\GPCP_tif_clip_clip//gpcp_1dd_v1.2_p1d.20090712.tif"
       ]
      },
      {
       "output_type": "stream",
       "stream": "stdout",
       "text": [
        "\n",
        "D:\\Data\\GPCP_tif_clip_clip//gpcp_1dd_v1.2_p1d.20090713.tif"
       ]
      },
      {
       "output_type": "stream",
       "stream": "stdout",
       "text": [
        "\n",
        "D:\\Data\\GPCP_tif_clip_clip//gpcp_1dd_v1.2_p1d.20090714.tif"
       ]
      },
      {
       "output_type": "stream",
       "stream": "stdout",
       "text": [
        "\n",
        "D:\\Data\\GPCP_tif_clip_clip//gpcp_1dd_v1.2_p1d.20090715.tif"
       ]
      },
      {
       "output_type": "stream",
       "stream": "stdout",
       "text": [
        "\n",
        "D:\\Data\\GPCP_tif_clip_clip//gpcp_1dd_v1.2_p1d.20090716.tif"
       ]
      },
      {
       "output_type": "stream",
       "stream": "stdout",
       "text": [
        "\n",
        "D:\\Data\\GPCP_tif_clip_clip//gpcp_1dd_v1.2_p1d.20090717.tif"
       ]
      },
      {
       "output_type": "stream",
       "stream": "stdout",
       "text": [
        "\n",
        "D:\\Data\\GPCP_tif_clip_clip//gpcp_1dd_v1.2_p1d.20090718.tif"
       ]
      },
      {
       "output_type": "stream",
       "stream": "stdout",
       "text": [
        "\n",
        "D:\\Data\\GPCP_tif_clip_clip//gpcp_1dd_v1.2_p1d.20090719.tif"
       ]
      },
      {
       "output_type": "stream",
       "stream": "stdout",
       "text": [
        "\n",
        "D:\\Data\\GPCP_tif_clip_clip//gpcp_1dd_v1.2_p1d.20090720.tif"
       ]
      },
      {
       "output_type": "stream",
       "stream": "stdout",
       "text": [
        "\n",
        "D:\\Data\\GPCP_tif_clip_clip//gpcp_1dd_v1.2_p1d.20090721.tif"
       ]
      },
      {
       "output_type": "stream",
       "stream": "stdout",
       "text": [
        "\n",
        "D:\\Data\\GPCP_tif_clip_clip//gpcp_1dd_v1.2_p1d.20090722.tif"
       ]
      },
      {
       "output_type": "stream",
       "stream": "stdout",
       "text": [
        "\n",
        "D:\\Data\\GPCP_tif_clip_clip//gpcp_1dd_v1.2_p1d.20090723.tif"
       ]
      },
      {
       "output_type": "stream",
       "stream": "stdout",
       "text": [
        "\n",
        "D:\\Data\\GPCP_tif_clip_clip//gpcp_1dd_v1.2_p1d.20090724.tif"
       ]
      },
      {
       "output_type": "stream",
       "stream": "stdout",
       "text": [
        "\n",
        "D:\\Data\\GPCP_tif_clip_clip//gpcp_1dd_v1.2_p1d.20090725.tif"
       ]
      },
      {
       "output_type": "stream",
       "stream": "stdout",
       "text": [
        "\n",
        "D:\\Data\\GPCP_tif_clip_clip//gpcp_1dd_v1.2_p1d.20090726.tif"
       ]
      },
      {
       "output_type": "stream",
       "stream": "stdout",
       "text": [
        "\n",
        "D:\\Data\\GPCP_tif_clip_clip//gpcp_1dd_v1.2_p1d.20090727.tif"
       ]
      },
      {
       "output_type": "stream",
       "stream": "stdout",
       "text": [
        "\n",
        "D:\\Data\\GPCP_tif_clip_clip//gpcp_1dd_v1.2_p1d.20090728.tif"
       ]
      },
      {
       "output_type": "stream",
       "stream": "stdout",
       "text": [
        "\n",
        "D:\\Data\\GPCP_tif_clip_clip//gpcp_1dd_v1.2_p1d.20090729.tif"
       ]
      },
      {
       "output_type": "stream",
       "stream": "stdout",
       "text": [
        "\n",
        "D:\\Data\\GPCP_tif_clip_clip//gpcp_1dd_v1.2_p1d.20090730.tif"
       ]
      },
      {
       "output_type": "stream",
       "stream": "stdout",
       "text": [
        "\n",
        "D:\\Data\\GPCP_tif_clip_clip//gpcp_1dd_v1.2_p1d.20090800.tif"
       ]
      },
      {
       "output_type": "stream",
       "stream": "stdout",
       "text": [
        "\n",
        "D:\\Data\\GPCP_tif_clip_clip//gpcp_1dd_v1.2_p1d.20090801.tif"
       ]
      },
      {
       "output_type": "stream",
       "stream": "stdout",
       "text": [
        "\n",
        "D:\\Data\\GPCP_tif_clip_clip//gpcp_1dd_v1.2_p1d.20090802.tif"
       ]
      },
      {
       "output_type": "stream",
       "stream": "stdout",
       "text": [
        "\n",
        "D:\\Data\\GPCP_tif_clip_clip//gpcp_1dd_v1.2_p1d.20090803.tif"
       ]
      },
      {
       "output_type": "stream",
       "stream": "stdout",
       "text": [
        "\n",
        "D:\\Data\\GPCP_tif_clip_clip//gpcp_1dd_v1.2_p1d.20090804.tif"
       ]
      },
      {
       "output_type": "stream",
       "stream": "stdout",
       "text": [
        "\n",
        "D:\\Data\\GPCP_tif_clip_clip//gpcp_1dd_v1.2_p1d.20090805.tif"
       ]
      },
      {
       "output_type": "stream",
       "stream": "stdout",
       "text": [
        "\n",
        "D:\\Data\\GPCP_tif_clip_clip//gpcp_1dd_v1.2_p1d.20090806.tif"
       ]
      },
      {
       "output_type": "stream",
       "stream": "stdout",
       "text": [
        "\n",
        "D:\\Data\\GPCP_tif_clip_clip//gpcp_1dd_v1.2_p1d.20090807.tif"
       ]
      },
      {
       "output_type": "stream",
       "stream": "stdout",
       "text": [
        "\n",
        "D:\\Data\\GPCP_tif_clip_clip//gpcp_1dd_v1.2_p1d.20090808.tif"
       ]
      },
      {
       "output_type": "stream",
       "stream": "stdout",
       "text": [
        "\n",
        "D:\\Data\\GPCP_tif_clip_clip//gpcp_1dd_v1.2_p1d.20090809.tif"
       ]
      },
      {
       "output_type": "stream",
       "stream": "stdout",
       "text": [
        "\n",
        "D:\\Data\\GPCP_tif_clip_clip//gpcp_1dd_v1.2_p1d.20090810.tif"
       ]
      },
      {
       "output_type": "stream",
       "stream": "stdout",
       "text": [
        "\n",
        "D:\\Data\\GPCP_tif_clip_clip//gpcp_1dd_v1.2_p1d.20090811.tif"
       ]
      },
      {
       "output_type": "stream",
       "stream": "stdout",
       "text": [
        "\n",
        "D:\\Data\\GPCP_tif_clip_clip//gpcp_1dd_v1.2_p1d.20090812.tif"
       ]
      },
      {
       "output_type": "stream",
       "stream": "stdout",
       "text": [
        "\n",
        "D:\\Data\\GPCP_tif_clip_clip//gpcp_1dd_v1.2_p1d.20090813.tif"
       ]
      },
      {
       "output_type": "stream",
       "stream": "stdout",
       "text": [
        "\n",
        "D:\\Data\\GPCP_tif_clip_clip//gpcp_1dd_v1.2_p1d.20090814.tif"
       ]
      },
      {
       "output_type": "stream",
       "stream": "stdout",
       "text": [
        "\n",
        "D:\\Data\\GPCP_tif_clip_clip//gpcp_1dd_v1.2_p1d.20090815.tif"
       ]
      },
      {
       "output_type": "stream",
       "stream": "stdout",
       "text": [
        "\n",
        "D:\\Data\\GPCP_tif_clip_clip//gpcp_1dd_v1.2_p1d.20090816.tif"
       ]
      },
      {
       "output_type": "stream",
       "stream": "stdout",
       "text": [
        "\n",
        "D:\\Data\\GPCP_tif_clip_clip//gpcp_1dd_v1.2_p1d.20090817.tif"
       ]
      },
      {
       "output_type": "stream",
       "stream": "stdout",
       "text": [
        "\n",
        "D:\\Data\\GPCP_tif_clip_clip//gpcp_1dd_v1.2_p1d.20090818.tif"
       ]
      },
      {
       "output_type": "stream",
       "stream": "stdout",
       "text": [
        "\n",
        "D:\\Data\\GPCP_tif_clip_clip//gpcp_1dd_v1.2_p1d.20090819.tif"
       ]
      },
      {
       "output_type": "stream",
       "stream": "stdout",
       "text": [
        "\n",
        "D:\\Data\\GPCP_tif_clip_clip//gpcp_1dd_v1.2_p1d.20090820.tif"
       ]
      },
      {
       "output_type": "stream",
       "stream": "stdout",
       "text": [
        "\n",
        "D:\\Data\\GPCP_tif_clip_clip//gpcp_1dd_v1.2_p1d.20090821.tif"
       ]
      },
      {
       "output_type": "stream",
       "stream": "stdout",
       "text": [
        "\n",
        "D:\\Data\\GPCP_tif_clip_clip//gpcp_1dd_v1.2_p1d.20090822.tif"
       ]
      },
      {
       "output_type": "stream",
       "stream": "stdout",
       "text": [
        "\n",
        "D:\\Data\\GPCP_tif_clip_clip//gpcp_1dd_v1.2_p1d.20090823.tif"
       ]
      },
      {
       "output_type": "stream",
       "stream": "stdout",
       "text": [
        "\n",
        "D:\\Data\\GPCP_tif_clip_clip//gpcp_1dd_v1.2_p1d.20090824.tif"
       ]
      },
      {
       "output_type": "stream",
       "stream": "stdout",
       "text": [
        "\n",
        "D:\\Data\\GPCP_tif_clip_clip//gpcp_1dd_v1.2_p1d.20090825.tif"
       ]
      },
      {
       "output_type": "stream",
       "stream": "stdout",
       "text": [
        "\n",
        "D:\\Data\\GPCP_tif_clip_clip//gpcp_1dd_v1.2_p1d.20090826.tif"
       ]
      },
      {
       "output_type": "stream",
       "stream": "stdout",
       "text": [
        "\n",
        "D:\\Data\\GPCP_tif_clip_clip//gpcp_1dd_v1.2_p1d.20090827.tif"
       ]
      },
      {
       "output_type": "stream",
       "stream": "stdout",
       "text": [
        "\n",
        "D:\\Data\\GPCP_tif_clip_clip//gpcp_1dd_v1.2_p1d.20090828.tif"
       ]
      },
      {
       "output_type": "stream",
       "stream": "stdout",
       "text": [
        "\n",
        "D:\\Data\\GPCP_tif_clip_clip//gpcp_1dd_v1.2_p1d.20090829.tif"
       ]
      },
      {
       "output_type": "stream",
       "stream": "stdout",
       "text": [
        "\n",
        "D:\\Data\\GPCP_tif_clip_clip//gpcp_1dd_v1.2_p1d.20090830.tif"
       ]
      },
      {
       "output_type": "stream",
       "stream": "stdout",
       "text": [
        "\n",
        "D:\\Data\\GPCP_tif_clip_clip//gpcp_1dd_v1.2_p1d.20090900.tif"
       ]
      },
      {
       "output_type": "stream",
       "stream": "stdout",
       "text": [
        "\n",
        "D:\\Data\\GPCP_tif_clip_clip//gpcp_1dd_v1.2_p1d.20090901.tif"
       ]
      },
      {
       "output_type": "stream",
       "stream": "stdout",
       "text": [
        "\n",
        "D:\\Data\\GPCP_tif_clip_clip//gpcp_1dd_v1.2_p1d.20090902.tif"
       ]
      },
      {
       "output_type": "stream",
       "stream": "stdout",
       "text": [
        "\n",
        "D:\\Data\\GPCP_tif_clip_clip//gpcp_1dd_v1.2_p1d.20090903.tif"
       ]
      },
      {
       "output_type": "stream",
       "stream": "stdout",
       "text": [
        "\n",
        "D:\\Data\\GPCP_tif_clip_clip//gpcp_1dd_v1.2_p1d.20090904.tif"
       ]
      },
      {
       "output_type": "stream",
       "stream": "stdout",
       "text": [
        "\n",
        "D:\\Data\\GPCP_tif_clip_clip//gpcp_1dd_v1.2_p1d.20090905.tif"
       ]
      },
      {
       "output_type": "stream",
       "stream": "stdout",
       "text": [
        "\n",
        "D:\\Data\\GPCP_tif_clip_clip//gpcp_1dd_v1.2_p1d.20090906.tif"
       ]
      },
      {
       "output_type": "stream",
       "stream": "stdout",
       "text": [
        "\n",
        "D:\\Data\\GPCP_tif_clip_clip//gpcp_1dd_v1.2_p1d.20090907.tif"
       ]
      },
      {
       "output_type": "stream",
       "stream": "stdout",
       "text": [
        "\n",
        "D:\\Data\\GPCP_tif_clip_clip//gpcp_1dd_v1.2_p1d.20090908.tif"
       ]
      },
      {
       "output_type": "stream",
       "stream": "stdout",
       "text": [
        "\n",
        "D:\\Data\\GPCP_tif_clip_clip//gpcp_1dd_v1.2_p1d.20090909.tif"
       ]
      },
      {
       "output_type": "stream",
       "stream": "stdout",
       "text": [
        "\n",
        "D:\\Data\\GPCP_tif_clip_clip//gpcp_1dd_v1.2_p1d.20090910.tif"
       ]
      },
      {
       "output_type": "stream",
       "stream": "stdout",
       "text": [
        "\n",
        "D:\\Data\\GPCP_tif_clip_clip//gpcp_1dd_v1.2_p1d.20090911.tif"
       ]
      },
      {
       "output_type": "stream",
       "stream": "stdout",
       "text": [
        "\n",
        "D:\\Data\\GPCP_tif_clip_clip//gpcp_1dd_v1.2_p1d.20090912.tif"
       ]
      },
      {
       "output_type": "stream",
       "stream": "stdout",
       "text": [
        "\n",
        "D:\\Data\\GPCP_tif_clip_clip//gpcp_1dd_v1.2_p1d.20090913.tif"
       ]
      },
      {
       "output_type": "stream",
       "stream": "stdout",
       "text": [
        "\n",
        "D:\\Data\\GPCP_tif_clip_clip//gpcp_1dd_v1.2_p1d.20090914.tif"
       ]
      },
      {
       "output_type": "stream",
       "stream": "stdout",
       "text": [
        "\n",
        "D:\\Data\\GPCP_tif_clip_clip//gpcp_1dd_v1.2_p1d.20090915.tif"
       ]
      },
      {
       "output_type": "stream",
       "stream": "stdout",
       "text": [
        "\n",
        "D:\\Data\\GPCP_tif_clip_clip//gpcp_1dd_v1.2_p1d.20090916.tif"
       ]
      },
      {
       "output_type": "stream",
       "stream": "stdout",
       "text": [
        "\n",
        "D:\\Data\\GPCP_tif_clip_clip//gpcp_1dd_v1.2_p1d.20090917.tif"
       ]
      },
      {
       "output_type": "stream",
       "stream": "stdout",
       "text": [
        "\n",
        "D:\\Data\\GPCP_tif_clip_clip//gpcp_1dd_v1.2_p1d.20090918.tif"
       ]
      },
      {
       "output_type": "stream",
       "stream": "stdout",
       "text": [
        "\n",
        "D:\\Data\\GPCP_tif_clip_clip//gpcp_1dd_v1.2_p1d.20090919.tif"
       ]
      },
      {
       "output_type": "stream",
       "stream": "stdout",
       "text": [
        "\n",
        "D:\\Data\\GPCP_tif_clip_clip//gpcp_1dd_v1.2_p1d.20090920.tif"
       ]
      },
      {
       "output_type": "stream",
       "stream": "stdout",
       "text": [
        "\n",
        "D:\\Data\\GPCP_tif_clip_clip//gpcp_1dd_v1.2_p1d.20090921.tif"
       ]
      },
      {
       "output_type": "stream",
       "stream": "stdout",
       "text": [
        "\n",
        "D:\\Data\\GPCP_tif_clip_clip//gpcp_1dd_v1.2_p1d.20090922.tif"
       ]
      },
      {
       "output_type": "stream",
       "stream": "stdout",
       "text": [
        "\n",
        "D:\\Data\\GPCP_tif_clip_clip//gpcp_1dd_v1.2_p1d.20090923.tif"
       ]
      },
      {
       "output_type": "stream",
       "stream": "stdout",
       "text": [
        "\n",
        "D:\\Data\\GPCP_tif_clip_clip//gpcp_1dd_v1.2_p1d.20090924.tif"
       ]
      },
      {
       "output_type": "stream",
       "stream": "stdout",
       "text": [
        "\n",
        "D:\\Data\\GPCP_tif_clip_clip//gpcp_1dd_v1.2_p1d.20090925.tif"
       ]
      },
      {
       "output_type": "stream",
       "stream": "stdout",
       "text": [
        "\n",
        "D:\\Data\\GPCP_tif_clip_clip//gpcp_1dd_v1.2_p1d.20090926.tif"
       ]
      },
      {
       "output_type": "stream",
       "stream": "stdout",
       "text": [
        "\n",
        "D:\\Data\\GPCP_tif_clip_clip//gpcp_1dd_v1.2_p1d.20090927.tif"
       ]
      },
      {
       "output_type": "stream",
       "stream": "stdout",
       "text": [
        "\n",
        "D:\\Data\\GPCP_tif_clip_clip//gpcp_1dd_v1.2_p1d.20090928.tif"
       ]
      },
      {
       "output_type": "stream",
       "stream": "stdout",
       "text": [
        "\n",
        "D:\\Data\\GPCP_tif_clip_clip//gpcp_1dd_v1.2_p1d.20090929.tif"
       ]
      },
      {
       "output_type": "stream",
       "stream": "stdout",
       "text": [
        "\n",
        "D:\\Data\\GPCP_tif_clip_clip//gpcp_1dd_v1.2_p1d.20091000.tif"
       ]
      },
      {
       "output_type": "stream",
       "stream": "stdout",
       "text": [
        "\n",
        "D:\\Data\\GPCP_tif_clip_clip//gpcp_1dd_v1.2_p1d.20091001.tif"
       ]
      },
      {
       "output_type": "stream",
       "stream": "stdout",
       "text": [
        "\n",
        "D:\\Data\\GPCP_tif_clip_clip//gpcp_1dd_v1.2_p1d.20091002.tif"
       ]
      },
      {
       "output_type": "stream",
       "stream": "stdout",
       "text": [
        "\n",
        "D:\\Data\\GPCP_tif_clip_clip//gpcp_1dd_v1.2_p1d.20091003.tif"
       ]
      },
      {
       "output_type": "stream",
       "stream": "stdout",
       "text": [
        "\n",
        "D:\\Data\\GPCP_tif_clip_clip//gpcp_1dd_v1.2_p1d.20091004.tif"
       ]
      },
      {
       "output_type": "stream",
       "stream": "stdout",
       "text": [
        "\n",
        "D:\\Data\\GPCP_tif_clip_clip//gpcp_1dd_v1.2_p1d.20091005.tif"
       ]
      },
      {
       "output_type": "stream",
       "stream": "stdout",
       "text": [
        "\n",
        "D:\\Data\\GPCP_tif_clip_clip//gpcp_1dd_v1.2_p1d.20091006.tif"
       ]
      },
      {
       "output_type": "stream",
       "stream": "stdout",
       "text": [
        "\n",
        "D:\\Data\\GPCP_tif_clip_clip//gpcp_1dd_v1.2_p1d.20091007.tif"
       ]
      },
      {
       "output_type": "stream",
       "stream": "stdout",
       "text": [
        "\n",
        "D:\\Data\\GPCP_tif_clip_clip//gpcp_1dd_v1.2_p1d.20091008.tif"
       ]
      },
      {
       "output_type": "stream",
       "stream": "stdout",
       "text": [
        "\n",
        "D:\\Data\\GPCP_tif_clip_clip//gpcp_1dd_v1.2_p1d.20091009.tif"
       ]
      },
      {
       "output_type": "stream",
       "stream": "stdout",
       "text": [
        "\n",
        "D:\\Data\\GPCP_tif_clip_clip//gpcp_1dd_v1.2_p1d.20091010.tif"
       ]
      },
      {
       "output_type": "stream",
       "stream": "stdout",
       "text": [
        "\n",
        "D:\\Data\\GPCP_tif_clip_clip//gpcp_1dd_v1.2_p1d.20091011.tif"
       ]
      },
      {
       "output_type": "stream",
       "stream": "stdout",
       "text": [
        "\n",
        "D:\\Data\\GPCP_tif_clip_clip//gpcp_1dd_v1.2_p1d.20091012.tif"
       ]
      },
      {
       "output_type": "stream",
       "stream": "stdout",
       "text": [
        "\n",
        "D:\\Data\\GPCP_tif_clip_clip//gpcp_1dd_v1.2_p1d.20091013.tif"
       ]
      },
      {
       "output_type": "stream",
       "stream": "stdout",
       "text": [
        "\n",
        "D:\\Data\\GPCP_tif_clip_clip//gpcp_1dd_v1.2_p1d.20091014.tif"
       ]
      },
      {
       "output_type": "stream",
       "stream": "stdout",
       "text": [
        "\n",
        "D:\\Data\\GPCP_tif_clip_clip//gpcp_1dd_v1.2_p1d.20091015.tif"
       ]
      },
      {
       "output_type": "stream",
       "stream": "stdout",
       "text": [
        "\n",
        "D:\\Data\\GPCP_tif_clip_clip//gpcp_1dd_v1.2_p1d.20091016.tif"
       ]
      },
      {
       "output_type": "stream",
       "stream": "stdout",
       "text": [
        "\n",
        "D:\\Data\\GPCP_tif_clip_clip//gpcp_1dd_v1.2_p1d.20091017.tif"
       ]
      },
      {
       "output_type": "stream",
       "stream": "stdout",
       "text": [
        "\n",
        "D:\\Data\\GPCP_tif_clip_clip//gpcp_1dd_v1.2_p1d.20091018.tif"
       ]
      },
      {
       "output_type": "stream",
       "stream": "stdout",
       "text": [
        "\n",
        "D:\\Data\\GPCP_tif_clip_clip//gpcp_1dd_v1.2_p1d.20091019.tif"
       ]
      },
      {
       "output_type": "stream",
       "stream": "stdout",
       "text": [
        "\n",
        "D:\\Data\\GPCP_tif_clip_clip//gpcp_1dd_v1.2_p1d.20091020.tif"
       ]
      },
      {
       "output_type": "stream",
       "stream": "stdout",
       "text": [
        "\n",
        "D:\\Data\\GPCP_tif_clip_clip//gpcp_1dd_v1.2_p1d.20091021.tif"
       ]
      },
      {
       "output_type": "stream",
       "stream": "stdout",
       "text": [
        "\n",
        "D:\\Data\\GPCP_tif_clip_clip//gpcp_1dd_v1.2_p1d.20091022.tif"
       ]
      },
      {
       "output_type": "stream",
       "stream": "stdout",
       "text": [
        "\n",
        "D:\\Data\\GPCP_tif_clip_clip//gpcp_1dd_v1.2_p1d.20091023.tif"
       ]
      },
      {
       "output_type": "stream",
       "stream": "stdout",
       "text": [
        "\n",
        "D:\\Data\\GPCP_tif_clip_clip//gpcp_1dd_v1.2_p1d.20091024.tif"
       ]
      },
      {
       "output_type": "stream",
       "stream": "stdout",
       "text": [
        "\n",
        "D:\\Data\\GPCP_tif_clip_clip//gpcp_1dd_v1.2_p1d.20091025.tif"
       ]
      },
      {
       "output_type": "stream",
       "stream": "stdout",
       "text": [
        "\n",
        "D:\\Data\\GPCP_tif_clip_clip//gpcp_1dd_v1.2_p1d.20091026.tif"
       ]
      },
      {
       "output_type": "stream",
       "stream": "stdout",
       "text": [
        "\n",
        "D:\\Data\\GPCP_tif_clip_clip//gpcp_1dd_v1.2_p1d.20091027.tif"
       ]
      },
      {
       "output_type": "stream",
       "stream": "stdout",
       "text": [
        "\n",
        "D:\\Data\\GPCP_tif_clip_clip//gpcp_1dd_v1.2_p1d.20091028.tif"
       ]
      },
      {
       "output_type": "stream",
       "stream": "stdout",
       "text": [
        "\n",
        "D:\\Data\\GPCP_tif_clip_clip//gpcp_1dd_v1.2_p1d.20091029.tif"
       ]
      },
      {
       "output_type": "stream",
       "stream": "stdout",
       "text": [
        "\n",
        "D:\\Data\\GPCP_tif_clip_clip//gpcp_1dd_v1.2_p1d.20091030.tif"
       ]
      },
      {
       "output_type": "stream",
       "stream": "stdout",
       "text": [
        "\n",
        "D:\\Data\\GPCP_tif_clip_clip//gpcp_1dd_v1.2_p1d.20091100.tif"
       ]
      },
      {
       "output_type": "stream",
       "stream": "stdout",
       "text": [
        "\n",
        "D:\\Data\\GPCP_tif_clip_clip//gpcp_1dd_v1.2_p1d.20091101.tif"
       ]
      },
      {
       "output_type": "stream",
       "stream": "stdout",
       "text": [
        "\n",
        "D:\\Data\\GPCP_tif_clip_clip//gpcp_1dd_v1.2_p1d.20091102.tif"
       ]
      },
      {
       "output_type": "stream",
       "stream": "stdout",
       "text": [
        "\n",
        "D:\\Data\\GPCP_tif_clip_clip//gpcp_1dd_v1.2_p1d.20091103.tif"
       ]
      },
      {
       "output_type": "stream",
       "stream": "stdout",
       "text": [
        "\n",
        "D:\\Data\\GPCP_tif_clip_clip//gpcp_1dd_v1.2_p1d.20091104.tif"
       ]
      },
      {
       "output_type": "stream",
       "stream": "stdout",
       "text": [
        "\n",
        "D:\\Data\\GPCP_tif_clip_clip//gpcp_1dd_v1.2_p1d.20091105.tif"
       ]
      },
      {
       "output_type": "stream",
       "stream": "stdout",
       "text": [
        "\n",
        "D:\\Data\\GPCP_tif_clip_clip//gpcp_1dd_v1.2_p1d.20091106.tif"
       ]
      },
      {
       "output_type": "stream",
       "stream": "stdout",
       "text": [
        "\n",
        "D:\\Data\\GPCP_tif_clip_clip//gpcp_1dd_v1.2_p1d.20091107.tif"
       ]
      },
      {
       "output_type": "stream",
       "stream": "stdout",
       "text": [
        "\n",
        "D:\\Data\\GPCP_tif_clip_clip//gpcp_1dd_v1.2_p1d.20091108.tif"
       ]
      },
      {
       "output_type": "stream",
       "stream": "stdout",
       "text": [
        "\n",
        "D:\\Data\\GPCP_tif_clip_clip//gpcp_1dd_v1.2_p1d.20091109.tif"
       ]
      },
      {
       "output_type": "stream",
       "stream": "stdout",
       "text": [
        "\n",
        "D:\\Data\\GPCP_tif_clip_clip//gpcp_1dd_v1.2_p1d.20091110.tif"
       ]
      },
      {
       "output_type": "stream",
       "stream": "stdout",
       "text": [
        "\n",
        "D:\\Data\\GPCP_tif_clip_clip//gpcp_1dd_v1.2_p1d.20091111.tif"
       ]
      },
      {
       "output_type": "stream",
       "stream": "stdout",
       "text": [
        "\n",
        "D:\\Data\\GPCP_tif_clip_clip//gpcp_1dd_v1.2_p1d.20091112.tif"
       ]
      },
      {
       "output_type": "stream",
       "stream": "stdout",
       "text": [
        "\n",
        "D:\\Data\\GPCP_tif_clip_clip//gpcp_1dd_v1.2_p1d.20091113.tif"
       ]
      },
      {
       "output_type": "stream",
       "stream": "stdout",
       "text": [
        "\n",
        "D:\\Data\\GPCP_tif_clip_clip//gpcp_1dd_v1.2_p1d.20091114.tif"
       ]
      },
      {
       "output_type": "stream",
       "stream": "stdout",
       "text": [
        "\n",
        "D:\\Data\\GPCP_tif_clip_clip//gpcp_1dd_v1.2_p1d.20091115.tif"
       ]
      },
      {
       "output_type": "stream",
       "stream": "stdout",
       "text": [
        "\n",
        "D:\\Data\\GPCP_tif_clip_clip//gpcp_1dd_v1.2_p1d.20091116.tif"
       ]
      },
      {
       "output_type": "stream",
       "stream": "stdout",
       "text": [
        "\n",
        "D:\\Data\\GPCP_tif_clip_clip//gpcp_1dd_v1.2_p1d.20091117.tif"
       ]
      },
      {
       "output_type": "stream",
       "stream": "stdout",
       "text": [
        "\n",
        "D:\\Data\\GPCP_tif_clip_clip//gpcp_1dd_v1.2_p1d.20091118.tif"
       ]
      },
      {
       "output_type": "stream",
       "stream": "stdout",
       "text": [
        "\n",
        "D:\\Data\\GPCP_tif_clip_clip//gpcp_1dd_v1.2_p1d.20091119.tif"
       ]
      },
      {
       "output_type": "stream",
       "stream": "stdout",
       "text": [
        "\n",
        "D:\\Data\\GPCP_tif_clip_clip//gpcp_1dd_v1.2_p1d.20091120.tif"
       ]
      },
      {
       "output_type": "stream",
       "stream": "stdout",
       "text": [
        "\n",
        "D:\\Data\\GPCP_tif_clip_clip//gpcp_1dd_v1.2_p1d.20091121.tif"
       ]
      },
      {
       "output_type": "stream",
       "stream": "stdout",
       "text": [
        "\n",
        "D:\\Data\\GPCP_tif_clip_clip//gpcp_1dd_v1.2_p1d.20091122.tif"
       ]
      },
      {
       "output_type": "stream",
       "stream": "stdout",
       "text": [
        "\n",
        "D:\\Data\\GPCP_tif_clip_clip//gpcp_1dd_v1.2_p1d.20091123.tif"
       ]
      },
      {
       "output_type": "stream",
       "stream": "stdout",
       "text": [
        "\n",
        "D:\\Data\\GPCP_tif_clip_clip//gpcp_1dd_v1.2_p1d.20091124.tif"
       ]
      },
      {
       "output_type": "stream",
       "stream": "stdout",
       "text": [
        "\n",
        "D:\\Data\\GPCP_tif_clip_clip//gpcp_1dd_v1.2_p1d.20091125.tif"
       ]
      },
      {
       "output_type": "stream",
       "stream": "stdout",
       "text": [
        "\n",
        "D:\\Data\\GPCP_tif_clip_clip//gpcp_1dd_v1.2_p1d.20091126.tif"
       ]
      },
      {
       "output_type": "stream",
       "stream": "stdout",
       "text": [
        "\n",
        "D:\\Data\\GPCP_tif_clip_clip//gpcp_1dd_v1.2_p1d.20091127.tif"
       ]
      },
      {
       "output_type": "stream",
       "stream": "stdout",
       "text": [
        "\n",
        "D:\\Data\\GPCP_tif_clip_clip//gpcp_1dd_v1.2_p1d.20091128.tif"
       ]
      },
      {
       "output_type": "stream",
       "stream": "stdout",
       "text": [
        "\n",
        "D:\\Data\\GPCP_tif_clip_clip//gpcp_1dd_v1.2_p1d.20091129.tif"
       ]
      },
      {
       "output_type": "stream",
       "stream": "stdout",
       "text": [
        "\n",
        "D:\\Data\\GPCP_tif_clip_clip//gpcp_1dd_v1.2_p1d.20091200.tif"
       ]
      },
      {
       "output_type": "stream",
       "stream": "stdout",
       "text": [
        "\n",
        "D:\\Data\\GPCP_tif_clip_clip//gpcp_1dd_v1.2_p1d.20091201.tif"
       ]
      },
      {
       "output_type": "stream",
       "stream": "stdout",
       "text": [
        "\n",
        "D:\\Data\\GPCP_tif_clip_clip//gpcp_1dd_v1.2_p1d.20091202.tif"
       ]
      },
      {
       "output_type": "stream",
       "stream": "stdout",
       "text": [
        "\n",
        "D:\\Data\\GPCP_tif_clip_clip//gpcp_1dd_v1.2_p1d.20091203.tif"
       ]
      },
      {
       "output_type": "stream",
       "stream": "stdout",
       "text": [
        "\n",
        "D:\\Data\\GPCP_tif_clip_clip//gpcp_1dd_v1.2_p1d.20091204.tif"
       ]
      },
      {
       "output_type": "stream",
       "stream": "stdout",
       "text": [
        "\n",
        "D:\\Data\\GPCP_tif_clip_clip//gpcp_1dd_v1.2_p1d.20091205.tif"
       ]
      },
      {
       "output_type": "stream",
       "stream": "stdout",
       "text": [
        "\n",
        "D:\\Data\\GPCP_tif_clip_clip//gpcp_1dd_v1.2_p1d.20091206.tif"
       ]
      },
      {
       "output_type": "stream",
       "stream": "stdout",
       "text": [
        "\n",
        "D:\\Data\\GPCP_tif_clip_clip//gpcp_1dd_v1.2_p1d.20091207.tif"
       ]
      },
      {
       "output_type": "stream",
       "stream": "stdout",
       "text": [
        "\n",
        "D:\\Data\\GPCP_tif_clip_clip//gpcp_1dd_v1.2_p1d.20091208.tif"
       ]
      },
      {
       "output_type": "stream",
       "stream": "stdout",
       "text": [
        "\n",
        "D:\\Data\\GPCP_tif_clip_clip//gpcp_1dd_v1.2_p1d.20091209.tif"
       ]
      },
      {
       "output_type": "stream",
       "stream": "stdout",
       "text": [
        "\n",
        "D:\\Data\\GPCP_tif_clip_clip//gpcp_1dd_v1.2_p1d.20091210.tif"
       ]
      },
      {
       "output_type": "stream",
       "stream": "stdout",
       "text": [
        "\n",
        "D:\\Data\\GPCP_tif_clip_clip//gpcp_1dd_v1.2_p1d.20091211.tif"
       ]
      },
      {
       "output_type": "stream",
       "stream": "stdout",
       "text": [
        "\n",
        "D:\\Data\\GPCP_tif_clip_clip//gpcp_1dd_v1.2_p1d.20091212.tif"
       ]
      },
      {
       "output_type": "stream",
       "stream": "stdout",
       "text": [
        "\n",
        "D:\\Data\\GPCP_tif_clip_clip//gpcp_1dd_v1.2_p1d.20091213.tif"
       ]
      },
      {
       "output_type": "stream",
       "stream": "stdout",
       "text": [
        "\n",
        "D:\\Data\\GPCP_tif_clip_clip//gpcp_1dd_v1.2_p1d.20091214.tif"
       ]
      },
      {
       "output_type": "stream",
       "stream": "stdout",
       "text": [
        "\n",
        "D:\\Data\\GPCP_tif_clip_clip//gpcp_1dd_v1.2_p1d.20091215.tif"
       ]
      },
      {
       "output_type": "stream",
       "stream": "stdout",
       "text": [
        "\n",
        "D:\\Data\\GPCP_tif_clip_clip//gpcp_1dd_v1.2_p1d.20091216.tif"
       ]
      },
      {
       "output_type": "stream",
       "stream": "stdout",
       "text": [
        "\n",
        "D:\\Data\\GPCP_tif_clip_clip//gpcp_1dd_v1.2_p1d.20091217.tif"
       ]
      },
      {
       "output_type": "stream",
       "stream": "stdout",
       "text": [
        "\n",
        "D:\\Data\\GPCP_tif_clip_clip//gpcp_1dd_v1.2_p1d.20091218.tif"
       ]
      },
      {
       "output_type": "stream",
       "stream": "stdout",
       "text": [
        "\n",
        "D:\\Data\\GPCP_tif_clip_clip//gpcp_1dd_v1.2_p1d.20091219.tif"
       ]
      },
      {
       "output_type": "stream",
       "stream": "stdout",
       "text": [
        "\n",
        "D:\\Data\\GPCP_tif_clip_clip//gpcp_1dd_v1.2_p1d.20091220.tif"
       ]
      },
      {
       "output_type": "stream",
       "stream": "stdout",
       "text": [
        "\n",
        "D:\\Data\\GPCP_tif_clip_clip//gpcp_1dd_v1.2_p1d.20091221.tif"
       ]
      },
      {
       "output_type": "stream",
       "stream": "stdout",
       "text": [
        "\n",
        "D:\\Data\\GPCP_tif_clip_clip//gpcp_1dd_v1.2_p1d.20091222.tif"
       ]
      },
      {
       "output_type": "stream",
       "stream": "stdout",
       "text": [
        "\n",
        "D:\\Data\\GPCP_tif_clip_clip//gpcp_1dd_v1.2_p1d.20091223.tif"
       ]
      },
      {
       "output_type": "stream",
       "stream": "stdout",
       "text": [
        "\n",
        "D:\\Data\\GPCP_tif_clip_clip//gpcp_1dd_v1.2_p1d.20091224.tif"
       ]
      },
      {
       "output_type": "stream",
       "stream": "stdout",
       "text": [
        "\n",
        "D:\\Data\\GPCP_tif_clip_clip//gpcp_1dd_v1.2_p1d.20091225.tif"
       ]
      },
      {
       "output_type": "stream",
       "stream": "stdout",
       "text": [
        "\n",
        "D:\\Data\\GPCP_tif_clip_clip//gpcp_1dd_v1.2_p1d.20091226.tif"
       ]
      },
      {
       "output_type": "stream",
       "stream": "stdout",
       "text": [
        "\n",
        "D:\\Data\\GPCP_tif_clip_clip//gpcp_1dd_v1.2_p1d.20091227.tif"
       ]
      },
      {
       "output_type": "stream",
       "stream": "stdout",
       "text": [
        "\n",
        "D:\\Data\\GPCP_tif_clip_clip//gpcp_1dd_v1.2_p1d.20091228.tif"
       ]
      },
      {
       "output_type": "stream",
       "stream": "stdout",
       "text": [
        "\n",
        "D:\\Data\\GPCP_tif_clip_clip//gpcp_1dd_v1.2_p1d.20091229.tif"
       ]
      },
      {
       "output_type": "stream",
       "stream": "stdout",
       "text": [
        "\n",
        "D:\\Data\\GPCP_tif_clip_clip//gpcp_1dd_v1.2_p1d.20091230.tif"
       ]
      },
      {
       "output_type": "stream",
       "stream": "stdout",
       "text": [
        "\n",
        "D:\\Data\\GPCP_tif_clip_clip//gpcp_1dd_v1.2_p1d.20100100.tif"
       ]
      },
      {
       "output_type": "stream",
       "stream": "stdout",
       "text": [
        "\n",
        "D:\\Data\\GPCP_tif_clip_clip//gpcp_1dd_v1.2_p1d.20100101.tif"
       ]
      },
      {
       "output_type": "stream",
       "stream": "stdout",
       "text": [
        "\n",
        "D:\\Data\\GPCP_tif_clip_clip//gpcp_1dd_v1.2_p1d.20100102.tif"
       ]
      },
      {
       "output_type": "stream",
       "stream": "stdout",
       "text": [
        "\n",
        "D:\\Data\\GPCP_tif_clip_clip//gpcp_1dd_v1.2_p1d.20100103.tif"
       ]
      },
      {
       "output_type": "stream",
       "stream": "stdout",
       "text": [
        "\n",
        "D:\\Data\\GPCP_tif_clip_clip//gpcp_1dd_v1.2_p1d.20100104.tif"
       ]
      },
      {
       "output_type": "stream",
       "stream": "stdout",
       "text": [
        "\n",
        "D:\\Data\\GPCP_tif_clip_clip//gpcp_1dd_v1.2_p1d.20100105.tif"
       ]
      },
      {
       "output_type": "stream",
       "stream": "stdout",
       "text": [
        "\n",
        "D:\\Data\\GPCP_tif_clip_clip//gpcp_1dd_v1.2_p1d.20100106.tif"
       ]
      },
      {
       "output_type": "stream",
       "stream": "stdout",
       "text": [
        "\n",
        "D:\\Data\\GPCP_tif_clip_clip//gpcp_1dd_v1.2_p1d.20100107.tif"
       ]
      },
      {
       "output_type": "stream",
       "stream": "stdout",
       "text": [
        "\n",
        "D:\\Data\\GPCP_tif_clip_clip//gpcp_1dd_v1.2_p1d.20100108.tif"
       ]
      },
      {
       "output_type": "stream",
       "stream": "stdout",
       "text": [
        "\n",
        "D:\\Data\\GPCP_tif_clip_clip//gpcp_1dd_v1.2_p1d.20100109.tif"
       ]
      },
      {
       "output_type": "stream",
       "stream": "stdout",
       "text": [
        "\n",
        "D:\\Data\\GPCP_tif_clip_clip//gpcp_1dd_v1.2_p1d.20100110.tif"
       ]
      },
      {
       "output_type": "stream",
       "stream": "stdout",
       "text": [
        "\n",
        "D:\\Data\\GPCP_tif_clip_clip//gpcp_1dd_v1.2_p1d.20100111.tif"
       ]
      },
      {
       "output_type": "stream",
       "stream": "stdout",
       "text": [
        "\n",
        "D:\\Data\\GPCP_tif_clip_clip//gpcp_1dd_v1.2_p1d.20100112.tif"
       ]
      },
      {
       "output_type": "stream",
       "stream": "stdout",
       "text": [
        "\n",
        "D:\\Data\\GPCP_tif_clip_clip//gpcp_1dd_v1.2_p1d.20100113.tif"
       ]
      },
      {
       "output_type": "stream",
       "stream": "stdout",
       "text": [
        "\n",
        "D:\\Data\\GPCP_tif_clip_clip//gpcp_1dd_v1.2_p1d.20100114.tif"
       ]
      },
      {
       "output_type": "stream",
       "stream": "stdout",
       "text": [
        "\n",
        "D:\\Data\\GPCP_tif_clip_clip//gpcp_1dd_v1.2_p1d.20100115.tif"
       ]
      },
      {
       "output_type": "stream",
       "stream": "stdout",
       "text": [
        "\n",
        "D:\\Data\\GPCP_tif_clip_clip//gpcp_1dd_v1.2_p1d.20100116.tif"
       ]
      },
      {
       "output_type": "stream",
       "stream": "stdout",
       "text": [
        "\n",
        "D:\\Data\\GPCP_tif_clip_clip//gpcp_1dd_v1.2_p1d.20100117.tif"
       ]
      },
      {
       "output_type": "stream",
       "stream": "stdout",
       "text": [
        "\n",
        "D:\\Data\\GPCP_tif_clip_clip//gpcp_1dd_v1.2_p1d.20100118.tif"
       ]
      },
      {
       "output_type": "stream",
       "stream": "stdout",
       "text": [
        "\n",
        "D:\\Data\\GPCP_tif_clip_clip//gpcp_1dd_v1.2_p1d.20100119.tif"
       ]
      },
      {
       "output_type": "stream",
       "stream": "stdout",
       "text": [
        "\n",
        "D:\\Data\\GPCP_tif_clip_clip//gpcp_1dd_v1.2_p1d.20100120.tif"
       ]
      },
      {
       "output_type": "stream",
       "stream": "stdout",
       "text": [
        "\n",
        "D:\\Data\\GPCP_tif_clip_clip//gpcp_1dd_v1.2_p1d.20100121.tif"
       ]
      },
      {
       "output_type": "stream",
       "stream": "stdout",
       "text": [
        "\n",
        "D:\\Data\\GPCP_tif_clip_clip//gpcp_1dd_v1.2_p1d.20100122.tif"
       ]
      },
      {
       "output_type": "stream",
       "stream": "stdout",
       "text": [
        "\n",
        "D:\\Data\\GPCP_tif_clip_clip//gpcp_1dd_v1.2_p1d.20100123.tif"
       ]
      },
      {
       "output_type": "stream",
       "stream": "stdout",
       "text": [
        "\n",
        "D:\\Data\\GPCP_tif_clip_clip//gpcp_1dd_v1.2_p1d.20100124.tif"
       ]
      },
      {
       "output_type": "stream",
       "stream": "stdout",
       "text": [
        "\n",
        "D:\\Data\\GPCP_tif_clip_clip//gpcp_1dd_v1.2_p1d.20100125.tif"
       ]
      },
      {
       "output_type": "stream",
       "stream": "stdout",
       "text": [
        "\n",
        "D:\\Data\\GPCP_tif_clip_clip//gpcp_1dd_v1.2_p1d.20100126.tif"
       ]
      },
      {
       "output_type": "stream",
       "stream": "stdout",
       "text": [
        "\n",
        "D:\\Data\\GPCP_tif_clip_clip//gpcp_1dd_v1.2_p1d.20100127.tif"
       ]
      },
      {
       "output_type": "stream",
       "stream": "stdout",
       "text": [
        "\n",
        "D:\\Data\\GPCP_tif_clip_clip//gpcp_1dd_v1.2_p1d.20100128.tif"
       ]
      },
      {
       "output_type": "stream",
       "stream": "stdout",
       "text": [
        "\n",
        "D:\\Data\\GPCP_tif_clip_clip//gpcp_1dd_v1.2_p1d.20100129.tif"
       ]
      },
      {
       "output_type": "stream",
       "stream": "stdout",
       "text": [
        "\n",
        "D:\\Data\\GPCP_tif_clip_clip//gpcp_1dd_v1.2_p1d.20100130.tif"
       ]
      },
      {
       "output_type": "stream",
       "stream": "stdout",
       "text": [
        "\n",
        "D:\\Data\\GPCP_tif_clip_clip//gpcp_1dd_v1.2_p1d.20100200.tif"
       ]
      },
      {
       "output_type": "stream",
       "stream": "stdout",
       "text": [
        "\n",
        "D:\\Data\\GPCP_tif_clip_clip//gpcp_1dd_v1.2_p1d.20100201.tif"
       ]
      },
      {
       "output_type": "stream",
       "stream": "stdout",
       "text": [
        "\n",
        "D:\\Data\\GPCP_tif_clip_clip//gpcp_1dd_v1.2_p1d.20100202.tif"
       ]
      },
      {
       "output_type": "stream",
       "stream": "stdout",
       "text": [
        "\n",
        "D:\\Data\\GPCP_tif_clip_clip//gpcp_1dd_v1.2_p1d.20100203.tif"
       ]
      },
      {
       "output_type": "stream",
       "stream": "stdout",
       "text": [
        "\n",
        "D:\\Data\\GPCP_tif_clip_clip//gpcp_1dd_v1.2_p1d.20100204.tif"
       ]
      },
      {
       "output_type": "stream",
       "stream": "stdout",
       "text": [
        "\n",
        "D:\\Data\\GPCP_tif_clip_clip//gpcp_1dd_v1.2_p1d.20100205.tif"
       ]
      },
      {
       "output_type": "stream",
       "stream": "stdout",
       "text": [
        "\n",
        "D:\\Data\\GPCP_tif_clip_clip//gpcp_1dd_v1.2_p1d.20100206.tif"
       ]
      },
      {
       "output_type": "stream",
       "stream": "stdout",
       "text": [
        "\n",
        "D:\\Data\\GPCP_tif_clip_clip//gpcp_1dd_v1.2_p1d.20100207.tif"
       ]
      },
      {
       "output_type": "stream",
       "stream": "stdout",
       "text": [
        "\n",
        "D:\\Data\\GPCP_tif_clip_clip//gpcp_1dd_v1.2_p1d.20100208.tif"
       ]
      },
      {
       "output_type": "stream",
       "stream": "stdout",
       "text": [
        "\n",
        "D:\\Data\\GPCP_tif_clip_clip//gpcp_1dd_v1.2_p1d.20100209.tif"
       ]
      },
      {
       "output_type": "stream",
       "stream": "stdout",
       "text": [
        "\n",
        "D:\\Data\\GPCP_tif_clip_clip//gpcp_1dd_v1.2_p1d.20100210.tif"
       ]
      },
      {
       "output_type": "stream",
       "stream": "stdout",
       "text": [
        "\n",
        "D:\\Data\\GPCP_tif_clip_clip//gpcp_1dd_v1.2_p1d.20100211.tif"
       ]
      },
      {
       "output_type": "stream",
       "stream": "stdout",
       "text": [
        "\n",
        "D:\\Data\\GPCP_tif_clip_clip//gpcp_1dd_v1.2_p1d.20100212.tif"
       ]
      },
      {
       "output_type": "stream",
       "stream": "stdout",
       "text": [
        "\n",
        "D:\\Data\\GPCP_tif_clip_clip//gpcp_1dd_v1.2_p1d.20100213.tif"
       ]
      },
      {
       "output_type": "stream",
       "stream": "stdout",
       "text": [
        "\n",
        "D:\\Data\\GPCP_tif_clip_clip//gpcp_1dd_v1.2_p1d.20100214.tif"
       ]
      },
      {
       "output_type": "stream",
       "stream": "stdout",
       "text": [
        "\n",
        "D:\\Data\\GPCP_tif_clip_clip//gpcp_1dd_v1.2_p1d.20100215.tif"
       ]
      },
      {
       "output_type": "stream",
       "stream": "stdout",
       "text": [
        "\n",
        "D:\\Data\\GPCP_tif_clip_clip//gpcp_1dd_v1.2_p1d.20100216.tif"
       ]
      },
      {
       "output_type": "stream",
       "stream": "stdout",
       "text": [
        "\n",
        "D:\\Data\\GPCP_tif_clip_clip//gpcp_1dd_v1.2_p1d.20100217.tif"
       ]
      },
      {
       "output_type": "stream",
       "stream": "stdout",
       "text": [
        "\n",
        "D:\\Data\\GPCP_tif_clip_clip//gpcp_1dd_v1.2_p1d.20100218.tif"
       ]
      },
      {
       "output_type": "stream",
       "stream": "stdout",
       "text": [
        "\n",
        "D:\\Data\\GPCP_tif_clip_clip//gpcp_1dd_v1.2_p1d.20100219.tif"
       ]
      },
      {
       "output_type": "stream",
       "stream": "stdout",
       "text": [
        "\n",
        "D:\\Data\\GPCP_tif_clip_clip//gpcp_1dd_v1.2_p1d.20100220.tif"
       ]
      },
      {
       "output_type": "stream",
       "stream": "stdout",
       "text": [
        "\n",
        "D:\\Data\\GPCP_tif_clip_clip//gpcp_1dd_v1.2_p1d.20100221.tif"
       ]
      },
      {
       "output_type": "stream",
       "stream": "stdout",
       "text": [
        "\n",
        "D:\\Data\\GPCP_tif_clip_clip//gpcp_1dd_v1.2_p1d.20100222.tif"
       ]
      },
      {
       "output_type": "stream",
       "stream": "stdout",
       "text": [
        "\n",
        "D:\\Data\\GPCP_tif_clip_clip//gpcp_1dd_v1.2_p1d.20100223.tif"
       ]
      },
      {
       "output_type": "stream",
       "stream": "stdout",
       "text": [
        "\n",
        "D:\\Data\\GPCP_tif_clip_clip//gpcp_1dd_v1.2_p1d.20100224.tif"
       ]
      },
      {
       "output_type": "stream",
       "stream": "stdout",
       "text": [
        "\n",
        "D:\\Data\\GPCP_tif_clip_clip//gpcp_1dd_v1.2_p1d.20100225.tif"
       ]
      },
      {
       "output_type": "stream",
       "stream": "stdout",
       "text": [
        "\n",
        "D:\\Data\\GPCP_tif_clip_clip//gpcp_1dd_v1.2_p1d.20100226.tif"
       ]
      },
      {
       "output_type": "stream",
       "stream": "stdout",
       "text": [
        "\n",
        "D:\\Data\\GPCP_tif_clip_clip//gpcp_1dd_v1.2_p1d.20100227.tif"
       ]
      },
      {
       "output_type": "stream",
       "stream": "stdout",
       "text": [
        "\n",
        "D:\\Data\\GPCP_tif_clip_clip//gpcp_1dd_v1.2_p1d.20100300.tif"
       ]
      },
      {
       "output_type": "stream",
       "stream": "stdout",
       "text": [
        "\n",
        "D:\\Data\\GPCP_tif_clip_clip//gpcp_1dd_v1.2_p1d.20100301.tif"
       ]
      },
      {
       "output_type": "stream",
       "stream": "stdout",
       "text": [
        "\n",
        "D:\\Data\\GPCP_tif_clip_clip//gpcp_1dd_v1.2_p1d.20100302.tif"
       ]
      },
      {
       "output_type": "stream",
       "stream": "stdout",
       "text": [
        "\n",
        "D:\\Data\\GPCP_tif_clip_clip//gpcp_1dd_v1.2_p1d.20100303.tif"
       ]
      },
      {
       "output_type": "stream",
       "stream": "stdout",
       "text": [
        "\n",
        "D:\\Data\\GPCP_tif_clip_clip//gpcp_1dd_v1.2_p1d.20100304.tif"
       ]
      },
      {
       "output_type": "stream",
       "stream": "stdout",
       "text": [
        "\n",
        "D:\\Data\\GPCP_tif_clip_clip//gpcp_1dd_v1.2_p1d.20100305.tif"
       ]
      },
      {
       "output_type": "stream",
       "stream": "stdout",
       "text": [
        "\n",
        "D:\\Data\\GPCP_tif_clip_clip//gpcp_1dd_v1.2_p1d.20100306.tif"
       ]
      },
      {
       "output_type": "stream",
       "stream": "stdout",
       "text": [
        "\n",
        "D:\\Data\\GPCP_tif_clip_clip//gpcp_1dd_v1.2_p1d.20100307.tif"
       ]
      },
      {
       "output_type": "stream",
       "stream": "stdout",
       "text": [
        "\n",
        "D:\\Data\\GPCP_tif_clip_clip//gpcp_1dd_v1.2_p1d.20100308.tif"
       ]
      },
      {
       "output_type": "stream",
       "stream": "stdout",
       "text": [
        "\n",
        "D:\\Data\\GPCP_tif_clip_clip//gpcp_1dd_v1.2_p1d.20100309.tif"
       ]
      },
      {
       "output_type": "stream",
       "stream": "stdout",
       "text": [
        "\n",
        "D:\\Data\\GPCP_tif_clip_clip//gpcp_1dd_v1.2_p1d.20100310.tif"
       ]
      },
      {
       "output_type": "stream",
       "stream": "stdout",
       "text": [
        "\n",
        "D:\\Data\\GPCP_tif_clip_clip//gpcp_1dd_v1.2_p1d.20100311.tif"
       ]
      },
      {
       "output_type": "stream",
       "stream": "stdout",
       "text": [
        "\n",
        "D:\\Data\\GPCP_tif_clip_clip//gpcp_1dd_v1.2_p1d.20100312.tif"
       ]
      },
      {
       "output_type": "stream",
       "stream": "stdout",
       "text": [
        "\n",
        "D:\\Data\\GPCP_tif_clip_clip//gpcp_1dd_v1.2_p1d.20100313.tif"
       ]
      },
      {
       "output_type": "stream",
       "stream": "stdout",
       "text": [
        "\n",
        "D:\\Data\\GPCP_tif_clip_clip//gpcp_1dd_v1.2_p1d.20100314.tif"
       ]
      },
      {
       "output_type": "stream",
       "stream": "stdout",
       "text": [
        "\n",
        "D:\\Data\\GPCP_tif_clip_clip//gpcp_1dd_v1.2_p1d.20100315.tif"
       ]
      },
      {
       "output_type": "stream",
       "stream": "stdout",
       "text": [
        "\n",
        "D:\\Data\\GPCP_tif_clip_clip//gpcp_1dd_v1.2_p1d.20100316.tif"
       ]
      },
      {
       "output_type": "stream",
       "stream": "stdout",
       "text": [
        "\n",
        "D:\\Data\\GPCP_tif_clip_clip//gpcp_1dd_v1.2_p1d.20100317.tif"
       ]
      },
      {
       "output_type": "stream",
       "stream": "stdout",
       "text": [
        "\n",
        "D:\\Data\\GPCP_tif_clip_clip//gpcp_1dd_v1.2_p1d.20100318.tif"
       ]
      },
      {
       "output_type": "stream",
       "stream": "stdout",
       "text": [
        "\n",
        "D:\\Data\\GPCP_tif_clip_clip//gpcp_1dd_v1.2_p1d.20100319.tif"
       ]
      },
      {
       "output_type": "stream",
       "stream": "stdout",
       "text": [
        "\n",
        "D:\\Data\\GPCP_tif_clip_clip//gpcp_1dd_v1.2_p1d.20100320.tif"
       ]
      },
      {
       "output_type": "stream",
       "stream": "stdout",
       "text": [
        "\n",
        "D:\\Data\\GPCP_tif_clip_clip//gpcp_1dd_v1.2_p1d.20100321.tif"
       ]
      },
      {
       "output_type": "stream",
       "stream": "stdout",
       "text": [
        "\n",
        "D:\\Data\\GPCP_tif_clip_clip//gpcp_1dd_v1.2_p1d.20100322.tif"
       ]
      },
      {
       "output_type": "stream",
       "stream": "stdout",
       "text": [
        "\n",
        "D:\\Data\\GPCP_tif_clip_clip//gpcp_1dd_v1.2_p1d.20100323.tif"
       ]
      },
      {
       "output_type": "stream",
       "stream": "stdout",
       "text": [
        "\n",
        "D:\\Data\\GPCP_tif_clip_clip//gpcp_1dd_v1.2_p1d.20100324.tif"
       ]
      },
      {
       "output_type": "stream",
       "stream": "stdout",
       "text": [
        "\n",
        "D:\\Data\\GPCP_tif_clip_clip//gpcp_1dd_v1.2_p1d.20100325.tif"
       ]
      },
      {
       "output_type": "stream",
       "stream": "stdout",
       "text": [
        "\n",
        "D:\\Data\\GPCP_tif_clip_clip//gpcp_1dd_v1.2_p1d.20100326.tif"
       ]
      },
      {
       "output_type": "stream",
       "stream": "stdout",
       "text": [
        "\n",
        "D:\\Data\\GPCP_tif_clip_clip//gpcp_1dd_v1.2_p1d.20100327.tif"
       ]
      },
      {
       "output_type": "stream",
       "stream": "stdout",
       "text": [
        "\n",
        "D:\\Data\\GPCP_tif_clip_clip//gpcp_1dd_v1.2_p1d.20100328.tif"
       ]
      },
      {
       "output_type": "stream",
       "stream": "stdout",
       "text": [
        "\n",
        "D:\\Data\\GPCP_tif_clip_clip//gpcp_1dd_v1.2_p1d.20100329.tif"
       ]
      },
      {
       "output_type": "stream",
       "stream": "stdout",
       "text": [
        "\n",
        "D:\\Data\\GPCP_tif_clip_clip//gpcp_1dd_v1.2_p1d.20100330.tif"
       ]
      },
      {
       "output_type": "stream",
       "stream": "stdout",
       "text": [
        "\n",
        "D:\\Data\\GPCP_tif_clip_clip//gpcp_1dd_v1.2_p1d.20100400.tif"
       ]
      },
      {
       "output_type": "stream",
       "stream": "stdout",
       "text": [
        "\n",
        "D:\\Data\\GPCP_tif_clip_clip//gpcp_1dd_v1.2_p1d.20100401.tif"
       ]
      },
      {
       "output_type": "stream",
       "stream": "stdout",
       "text": [
        "\n",
        "D:\\Data\\GPCP_tif_clip_clip//gpcp_1dd_v1.2_p1d.20100402.tif"
       ]
      },
      {
       "output_type": "stream",
       "stream": "stdout",
       "text": [
        "\n",
        "D:\\Data\\GPCP_tif_clip_clip//gpcp_1dd_v1.2_p1d.20100403.tif"
       ]
      },
      {
       "output_type": "stream",
       "stream": "stdout",
       "text": [
        "\n",
        "D:\\Data\\GPCP_tif_clip_clip//gpcp_1dd_v1.2_p1d.20100404.tif"
       ]
      },
      {
       "output_type": "stream",
       "stream": "stdout",
       "text": [
        "\n",
        "D:\\Data\\GPCP_tif_clip_clip//gpcp_1dd_v1.2_p1d.20100405.tif"
       ]
      },
      {
       "output_type": "stream",
       "stream": "stdout",
       "text": [
        "\n",
        "D:\\Data\\GPCP_tif_clip_clip//gpcp_1dd_v1.2_p1d.20100406.tif"
       ]
      },
      {
       "output_type": "stream",
       "stream": "stdout",
       "text": [
        "\n",
        "D:\\Data\\GPCP_tif_clip_clip//gpcp_1dd_v1.2_p1d.20100407.tif"
       ]
      },
      {
       "output_type": "stream",
       "stream": "stdout",
       "text": [
        "\n",
        "D:\\Data\\GPCP_tif_clip_clip//gpcp_1dd_v1.2_p1d.20100408.tif"
       ]
      },
      {
       "output_type": "stream",
       "stream": "stdout",
       "text": [
        "\n",
        "D:\\Data\\GPCP_tif_clip_clip//gpcp_1dd_v1.2_p1d.20100409.tif"
       ]
      },
      {
       "output_type": "stream",
       "stream": "stdout",
       "text": [
        "\n",
        "D:\\Data\\GPCP_tif_clip_clip//gpcp_1dd_v1.2_p1d.20100410.tif"
       ]
      },
      {
       "output_type": "stream",
       "stream": "stdout",
       "text": [
        "\n",
        "D:\\Data\\GPCP_tif_clip_clip//gpcp_1dd_v1.2_p1d.20100411.tif"
       ]
      },
      {
       "output_type": "stream",
       "stream": "stdout",
       "text": [
        "\n",
        "D:\\Data\\GPCP_tif_clip_clip//gpcp_1dd_v1.2_p1d.20100412.tif"
       ]
      },
      {
       "output_type": "stream",
       "stream": "stdout",
       "text": [
        "\n",
        "D:\\Data\\GPCP_tif_clip_clip//gpcp_1dd_v1.2_p1d.20100413.tif"
       ]
      },
      {
       "output_type": "stream",
       "stream": "stdout",
       "text": [
        "\n",
        "D:\\Data\\GPCP_tif_clip_clip//gpcp_1dd_v1.2_p1d.20100414.tif"
       ]
      },
      {
       "output_type": "stream",
       "stream": "stdout",
       "text": [
        "\n",
        "D:\\Data\\GPCP_tif_clip_clip//gpcp_1dd_v1.2_p1d.20100415.tif"
       ]
      },
      {
       "output_type": "stream",
       "stream": "stdout",
       "text": [
        "\n",
        "D:\\Data\\GPCP_tif_clip_clip//gpcp_1dd_v1.2_p1d.20100416.tif"
       ]
      },
      {
       "output_type": "stream",
       "stream": "stdout",
       "text": [
        "\n",
        "D:\\Data\\GPCP_tif_clip_clip//gpcp_1dd_v1.2_p1d.20100417.tif"
       ]
      },
      {
       "output_type": "stream",
       "stream": "stdout",
       "text": [
        "\n",
        "D:\\Data\\GPCP_tif_clip_clip//gpcp_1dd_v1.2_p1d.20100418.tif"
       ]
      },
      {
       "output_type": "stream",
       "stream": "stdout",
       "text": [
        "\n",
        "D:\\Data\\GPCP_tif_clip_clip//gpcp_1dd_v1.2_p1d.20100419.tif"
       ]
      },
      {
       "output_type": "stream",
       "stream": "stdout",
       "text": [
        "\n",
        "D:\\Data\\GPCP_tif_clip_clip//gpcp_1dd_v1.2_p1d.20100420.tif"
       ]
      },
      {
       "output_type": "stream",
       "stream": "stdout",
       "text": [
        "\n",
        "D:\\Data\\GPCP_tif_clip_clip//gpcp_1dd_v1.2_p1d.20100421.tif"
       ]
      },
      {
       "output_type": "stream",
       "stream": "stdout",
       "text": [
        "\n",
        "D:\\Data\\GPCP_tif_clip_clip//gpcp_1dd_v1.2_p1d.20100422.tif"
       ]
      },
      {
       "output_type": "stream",
       "stream": "stdout",
       "text": [
        "\n",
        "D:\\Data\\GPCP_tif_clip_clip//gpcp_1dd_v1.2_p1d.20100423.tif"
       ]
      },
      {
       "output_type": "stream",
       "stream": "stdout",
       "text": [
        "\n",
        "D:\\Data\\GPCP_tif_clip_clip//gpcp_1dd_v1.2_p1d.20100424.tif"
       ]
      },
      {
       "output_type": "stream",
       "stream": "stdout",
       "text": [
        "\n",
        "D:\\Data\\GPCP_tif_clip_clip//gpcp_1dd_v1.2_p1d.20100425.tif"
       ]
      },
      {
       "output_type": "stream",
       "stream": "stdout",
       "text": [
        "\n",
        "D:\\Data\\GPCP_tif_clip_clip//gpcp_1dd_v1.2_p1d.20100426.tif"
       ]
      },
      {
       "output_type": "stream",
       "stream": "stdout",
       "text": [
        "\n",
        "D:\\Data\\GPCP_tif_clip_clip//gpcp_1dd_v1.2_p1d.20100427.tif"
       ]
      },
      {
       "output_type": "stream",
       "stream": "stdout",
       "text": [
        "\n",
        "D:\\Data\\GPCP_tif_clip_clip//gpcp_1dd_v1.2_p1d.20100428.tif"
       ]
      },
      {
       "output_type": "stream",
       "stream": "stdout",
       "text": [
        "\n",
        "D:\\Data\\GPCP_tif_clip_clip//gpcp_1dd_v1.2_p1d.20100429.tif"
       ]
      },
      {
       "output_type": "stream",
       "stream": "stdout",
       "text": [
        "\n",
        "D:\\Data\\GPCP_tif_clip_clip//gpcp_1dd_v1.2_p1d.20100500.tif"
       ]
      },
      {
       "output_type": "stream",
       "stream": "stdout",
       "text": [
        "\n",
        "D:\\Data\\GPCP_tif_clip_clip//gpcp_1dd_v1.2_p1d.20100501.tif"
       ]
      },
      {
       "output_type": "stream",
       "stream": "stdout",
       "text": [
        "\n",
        "D:\\Data\\GPCP_tif_clip_clip//gpcp_1dd_v1.2_p1d.20100502.tif"
       ]
      },
      {
       "output_type": "stream",
       "stream": "stdout",
       "text": [
        "\n",
        "D:\\Data\\GPCP_tif_clip_clip//gpcp_1dd_v1.2_p1d.20100503.tif"
       ]
      },
      {
       "output_type": "stream",
       "stream": "stdout",
       "text": [
        "\n",
        "D:\\Data\\GPCP_tif_clip_clip//gpcp_1dd_v1.2_p1d.20100504.tif"
       ]
      },
      {
       "output_type": "stream",
       "stream": "stdout",
       "text": [
        "\n",
        "D:\\Data\\GPCP_tif_clip_clip//gpcp_1dd_v1.2_p1d.20100505.tif"
       ]
      },
      {
       "output_type": "stream",
       "stream": "stdout",
       "text": [
        "\n",
        "D:\\Data\\GPCP_tif_clip_clip//gpcp_1dd_v1.2_p1d.20100506.tif"
       ]
      },
      {
       "output_type": "stream",
       "stream": "stdout",
       "text": [
        "\n",
        "D:\\Data\\GPCP_tif_clip_clip//gpcp_1dd_v1.2_p1d.20100507.tif"
       ]
      },
      {
       "output_type": "stream",
       "stream": "stdout",
       "text": [
        "\n",
        "D:\\Data\\GPCP_tif_clip_clip//gpcp_1dd_v1.2_p1d.20100508.tif"
       ]
      },
      {
       "output_type": "stream",
       "stream": "stdout",
       "text": [
        "\n",
        "D:\\Data\\GPCP_tif_clip_clip//gpcp_1dd_v1.2_p1d.20100509.tif"
       ]
      },
      {
       "output_type": "stream",
       "stream": "stdout",
       "text": [
        "\n",
        "D:\\Data\\GPCP_tif_clip_clip//gpcp_1dd_v1.2_p1d.20100510.tif"
       ]
      },
      {
       "output_type": "stream",
       "stream": "stdout",
       "text": [
        "\n",
        "D:\\Data\\GPCP_tif_clip_clip//gpcp_1dd_v1.2_p1d.20100511.tif"
       ]
      },
      {
       "output_type": "stream",
       "stream": "stdout",
       "text": [
        "\n",
        "D:\\Data\\GPCP_tif_clip_clip//gpcp_1dd_v1.2_p1d.20100512.tif"
       ]
      },
      {
       "output_type": "stream",
       "stream": "stdout",
       "text": [
        "\n",
        "D:\\Data\\GPCP_tif_clip_clip//gpcp_1dd_v1.2_p1d.20100513.tif"
       ]
      },
      {
       "output_type": "stream",
       "stream": "stdout",
       "text": [
        "\n",
        "D:\\Data\\GPCP_tif_clip_clip//gpcp_1dd_v1.2_p1d.20100514.tif"
       ]
      },
      {
       "output_type": "stream",
       "stream": "stdout",
       "text": [
        "\n",
        "D:\\Data\\GPCP_tif_clip_clip//gpcp_1dd_v1.2_p1d.20100515.tif"
       ]
      },
      {
       "output_type": "stream",
       "stream": "stdout",
       "text": [
        "\n",
        "D:\\Data\\GPCP_tif_clip_clip//gpcp_1dd_v1.2_p1d.20100516.tif"
       ]
      },
      {
       "output_type": "stream",
       "stream": "stdout",
       "text": [
        "\n",
        "D:\\Data\\GPCP_tif_clip_clip//gpcp_1dd_v1.2_p1d.20100517.tif"
       ]
      },
      {
       "output_type": "stream",
       "stream": "stdout",
       "text": [
        "\n",
        "D:\\Data\\GPCP_tif_clip_clip//gpcp_1dd_v1.2_p1d.20100518.tif"
       ]
      },
      {
       "output_type": "stream",
       "stream": "stdout",
       "text": [
        "\n",
        "D:\\Data\\GPCP_tif_clip_clip//gpcp_1dd_v1.2_p1d.20100519.tif"
       ]
      },
      {
       "output_type": "stream",
       "stream": "stdout",
       "text": [
        "\n",
        "D:\\Data\\GPCP_tif_clip_clip//gpcp_1dd_v1.2_p1d.20100520.tif"
       ]
      },
      {
       "output_type": "stream",
       "stream": "stdout",
       "text": [
        "\n",
        "D:\\Data\\GPCP_tif_clip_clip//gpcp_1dd_v1.2_p1d.20100521.tif"
       ]
      },
      {
       "output_type": "stream",
       "stream": "stdout",
       "text": [
        "\n",
        "D:\\Data\\GPCP_tif_clip_clip//gpcp_1dd_v1.2_p1d.20100522.tif"
       ]
      },
      {
       "output_type": "stream",
       "stream": "stdout",
       "text": [
        "\n",
        "D:\\Data\\GPCP_tif_clip_clip//gpcp_1dd_v1.2_p1d.20100523.tif"
       ]
      },
      {
       "output_type": "stream",
       "stream": "stdout",
       "text": [
        "\n",
        "D:\\Data\\GPCP_tif_clip_clip//gpcp_1dd_v1.2_p1d.20100524.tif"
       ]
      },
      {
       "output_type": "stream",
       "stream": "stdout",
       "text": [
        "\n",
        "D:\\Data\\GPCP_tif_clip_clip//gpcp_1dd_v1.2_p1d.20100525.tif"
       ]
      },
      {
       "output_type": "stream",
       "stream": "stdout",
       "text": [
        "\n",
        "D:\\Data\\GPCP_tif_clip_clip//gpcp_1dd_v1.2_p1d.20100526.tif"
       ]
      },
      {
       "output_type": "stream",
       "stream": "stdout",
       "text": [
        "\n",
        "D:\\Data\\GPCP_tif_clip_clip//gpcp_1dd_v1.2_p1d.20100527.tif"
       ]
      },
      {
       "output_type": "stream",
       "stream": "stdout",
       "text": [
        "\n",
        "D:\\Data\\GPCP_tif_clip_clip//gpcp_1dd_v1.2_p1d.20100528.tif"
       ]
      },
      {
       "output_type": "stream",
       "stream": "stdout",
       "text": [
        "\n",
        "D:\\Data\\GPCP_tif_clip_clip//gpcp_1dd_v1.2_p1d.20100529.tif"
       ]
      },
      {
       "output_type": "stream",
       "stream": "stdout",
       "text": [
        "\n",
        "D:\\Data\\GPCP_tif_clip_clip//gpcp_1dd_v1.2_p1d.20100530.tif"
       ]
      },
      {
       "output_type": "stream",
       "stream": "stdout",
       "text": [
        "\n",
        "D:\\Data\\GPCP_tif_clip_clip//gpcp_1dd_v1.2_p1d.20100600.tif"
       ]
      },
      {
       "output_type": "stream",
       "stream": "stdout",
       "text": [
        "\n",
        "D:\\Data\\GPCP_tif_clip_clip//gpcp_1dd_v1.2_p1d.20100601.tif"
       ]
      },
      {
       "output_type": "stream",
       "stream": "stdout",
       "text": [
        "\n",
        "D:\\Data\\GPCP_tif_clip_clip//gpcp_1dd_v1.2_p1d.20100602.tif"
       ]
      },
      {
       "output_type": "stream",
       "stream": "stdout",
       "text": [
        "\n",
        "D:\\Data\\GPCP_tif_clip_clip//gpcp_1dd_v1.2_p1d.20100603.tif"
       ]
      },
      {
       "output_type": "stream",
       "stream": "stdout",
       "text": [
        "\n",
        "D:\\Data\\GPCP_tif_clip_clip//gpcp_1dd_v1.2_p1d.20100604.tif"
       ]
      },
      {
       "output_type": "stream",
       "stream": "stdout",
       "text": [
        "\n",
        "D:\\Data\\GPCP_tif_clip_clip//gpcp_1dd_v1.2_p1d.20100605.tif"
       ]
      },
      {
       "output_type": "stream",
       "stream": "stdout",
       "text": [
        "\n",
        "D:\\Data\\GPCP_tif_clip_clip//gpcp_1dd_v1.2_p1d.20100606.tif"
       ]
      },
      {
       "output_type": "stream",
       "stream": "stdout",
       "text": [
        "\n",
        "D:\\Data\\GPCP_tif_clip_clip//gpcp_1dd_v1.2_p1d.20100607.tif"
       ]
      },
      {
       "output_type": "stream",
       "stream": "stdout",
       "text": [
        "\n",
        "D:\\Data\\GPCP_tif_clip_clip//gpcp_1dd_v1.2_p1d.20100608.tif"
       ]
      },
      {
       "output_type": "stream",
       "stream": "stdout",
       "text": [
        "\n",
        "D:\\Data\\GPCP_tif_clip_clip//gpcp_1dd_v1.2_p1d.20100609.tif"
       ]
      },
      {
       "output_type": "stream",
       "stream": "stdout",
       "text": [
        "\n",
        "D:\\Data\\GPCP_tif_clip_clip//gpcp_1dd_v1.2_p1d.20100610.tif"
       ]
      },
      {
       "output_type": "stream",
       "stream": "stdout",
       "text": [
        "\n",
        "D:\\Data\\GPCP_tif_clip_clip//gpcp_1dd_v1.2_p1d.20100611.tif"
       ]
      },
      {
       "output_type": "stream",
       "stream": "stdout",
       "text": [
        "\n",
        "D:\\Data\\GPCP_tif_clip_clip//gpcp_1dd_v1.2_p1d.20100612.tif"
       ]
      },
      {
       "output_type": "stream",
       "stream": "stdout",
       "text": [
        "\n",
        "D:\\Data\\GPCP_tif_clip_clip//gpcp_1dd_v1.2_p1d.20100613.tif"
       ]
      },
      {
       "output_type": "stream",
       "stream": "stdout",
       "text": [
        "\n",
        "D:\\Data\\GPCP_tif_clip_clip//gpcp_1dd_v1.2_p1d.20100614.tif"
       ]
      },
      {
       "output_type": "stream",
       "stream": "stdout",
       "text": [
        "\n",
        "D:\\Data\\GPCP_tif_clip_clip//gpcp_1dd_v1.2_p1d.20100615.tif"
       ]
      },
      {
       "output_type": "stream",
       "stream": "stdout",
       "text": [
        "\n",
        "D:\\Data\\GPCP_tif_clip_clip//gpcp_1dd_v1.2_p1d.20100616.tif"
       ]
      },
      {
       "output_type": "stream",
       "stream": "stdout",
       "text": [
        "\n",
        "D:\\Data\\GPCP_tif_clip_clip//gpcp_1dd_v1.2_p1d.20100617.tif"
       ]
      },
      {
       "output_type": "stream",
       "stream": "stdout",
       "text": [
        "\n",
        "D:\\Data\\GPCP_tif_clip_clip//gpcp_1dd_v1.2_p1d.20100618.tif"
       ]
      },
      {
       "output_type": "stream",
       "stream": "stdout",
       "text": [
        "\n",
        "D:\\Data\\GPCP_tif_clip_clip//gpcp_1dd_v1.2_p1d.20100619.tif"
       ]
      },
      {
       "output_type": "stream",
       "stream": "stdout",
       "text": [
        "\n",
        "D:\\Data\\GPCP_tif_clip_clip//gpcp_1dd_v1.2_p1d.20100620.tif"
       ]
      },
      {
       "output_type": "stream",
       "stream": "stdout",
       "text": [
        "\n",
        "D:\\Data\\GPCP_tif_clip_clip//gpcp_1dd_v1.2_p1d.20100621.tif"
       ]
      },
      {
       "output_type": "stream",
       "stream": "stdout",
       "text": [
        "\n",
        "D:\\Data\\GPCP_tif_clip_clip//gpcp_1dd_v1.2_p1d.20100622.tif"
       ]
      },
      {
       "output_type": "stream",
       "stream": "stdout",
       "text": [
        "\n",
        "D:\\Data\\GPCP_tif_clip_clip//gpcp_1dd_v1.2_p1d.20100623.tif"
       ]
      },
      {
       "output_type": "stream",
       "stream": "stdout",
       "text": [
        "\n",
        "D:\\Data\\GPCP_tif_clip_clip//gpcp_1dd_v1.2_p1d.20100624.tif"
       ]
      },
      {
       "output_type": "stream",
       "stream": "stdout",
       "text": [
        "\n",
        "D:\\Data\\GPCP_tif_clip_clip//gpcp_1dd_v1.2_p1d.20100625.tif"
       ]
      },
      {
       "output_type": "stream",
       "stream": "stdout",
       "text": [
        "\n",
        "D:\\Data\\GPCP_tif_clip_clip//gpcp_1dd_v1.2_p1d.20100626.tif"
       ]
      },
      {
       "output_type": "stream",
       "stream": "stdout",
       "text": [
        "\n",
        "D:\\Data\\GPCP_tif_clip_clip//gpcp_1dd_v1.2_p1d.20100627.tif"
       ]
      },
      {
       "output_type": "stream",
       "stream": "stdout",
       "text": [
        "\n",
        "D:\\Data\\GPCP_tif_clip_clip//gpcp_1dd_v1.2_p1d.20100628.tif"
       ]
      },
      {
       "output_type": "stream",
       "stream": "stdout",
       "text": [
        "\n",
        "D:\\Data\\GPCP_tif_clip_clip//gpcp_1dd_v1.2_p1d.20100629.tif"
       ]
      },
      {
       "output_type": "stream",
       "stream": "stdout",
       "text": [
        "\n",
        "D:\\Data\\GPCP_tif_clip_clip//gpcp_1dd_v1.2_p1d.20100700.tif"
       ]
      },
      {
       "output_type": "stream",
       "stream": "stdout",
       "text": [
        "\n",
        "D:\\Data\\GPCP_tif_clip_clip//gpcp_1dd_v1.2_p1d.20100701.tif"
       ]
      },
      {
       "output_type": "stream",
       "stream": "stdout",
       "text": [
        "\n",
        "D:\\Data\\GPCP_tif_clip_clip//gpcp_1dd_v1.2_p1d.20100702.tif"
       ]
      },
      {
       "output_type": "stream",
       "stream": "stdout",
       "text": [
        "\n",
        "D:\\Data\\GPCP_tif_clip_clip//gpcp_1dd_v1.2_p1d.20100703.tif"
       ]
      },
      {
       "output_type": "stream",
       "stream": "stdout",
       "text": [
        "\n",
        "D:\\Data\\GPCP_tif_clip_clip//gpcp_1dd_v1.2_p1d.20100704.tif"
       ]
      },
      {
       "output_type": "stream",
       "stream": "stdout",
       "text": [
        "\n",
        "D:\\Data\\GPCP_tif_clip_clip//gpcp_1dd_v1.2_p1d.20100705.tif"
       ]
      },
      {
       "output_type": "stream",
       "stream": "stdout",
       "text": [
        "\n",
        "D:\\Data\\GPCP_tif_clip_clip//gpcp_1dd_v1.2_p1d.20100706.tif"
       ]
      },
      {
       "output_type": "stream",
       "stream": "stdout",
       "text": [
        "\n",
        "D:\\Data\\GPCP_tif_clip_clip//gpcp_1dd_v1.2_p1d.20100707.tif"
       ]
      },
      {
       "output_type": "stream",
       "stream": "stdout",
       "text": [
        "\n",
        "D:\\Data\\GPCP_tif_clip_clip//gpcp_1dd_v1.2_p1d.20100708.tif"
       ]
      },
      {
       "output_type": "stream",
       "stream": "stdout",
       "text": [
        "\n",
        "D:\\Data\\GPCP_tif_clip_clip//gpcp_1dd_v1.2_p1d.20100709.tif"
       ]
      },
      {
       "output_type": "stream",
       "stream": "stdout",
       "text": [
        "\n",
        "D:\\Data\\GPCP_tif_clip_clip//gpcp_1dd_v1.2_p1d.20100710.tif"
       ]
      },
      {
       "output_type": "stream",
       "stream": "stdout",
       "text": [
        "\n",
        "D:\\Data\\GPCP_tif_clip_clip//gpcp_1dd_v1.2_p1d.20100711.tif"
       ]
      },
      {
       "output_type": "stream",
       "stream": "stdout",
       "text": [
        "\n",
        "D:\\Data\\GPCP_tif_clip_clip//gpcp_1dd_v1.2_p1d.20100712.tif"
       ]
      },
      {
       "output_type": "stream",
       "stream": "stdout",
       "text": [
        "\n",
        "D:\\Data\\GPCP_tif_clip_clip//gpcp_1dd_v1.2_p1d.20100713.tif"
       ]
      },
      {
       "output_type": "stream",
       "stream": "stdout",
       "text": [
        "\n",
        "D:\\Data\\GPCP_tif_clip_clip//gpcp_1dd_v1.2_p1d.20100714.tif"
       ]
      },
      {
       "output_type": "stream",
       "stream": "stdout",
       "text": [
        "\n",
        "D:\\Data\\GPCP_tif_clip_clip//gpcp_1dd_v1.2_p1d.20100715.tif"
       ]
      },
      {
       "output_type": "stream",
       "stream": "stdout",
       "text": [
        "\n",
        "D:\\Data\\GPCP_tif_clip_clip//gpcp_1dd_v1.2_p1d.20100716.tif"
       ]
      },
      {
       "output_type": "stream",
       "stream": "stdout",
       "text": [
        "\n",
        "D:\\Data\\GPCP_tif_clip_clip//gpcp_1dd_v1.2_p1d.20100717.tif"
       ]
      },
      {
       "output_type": "stream",
       "stream": "stdout",
       "text": [
        "\n",
        "D:\\Data\\GPCP_tif_clip_clip//gpcp_1dd_v1.2_p1d.20100718.tif"
       ]
      },
      {
       "output_type": "stream",
       "stream": "stdout",
       "text": [
        "\n",
        "D:\\Data\\GPCP_tif_clip_clip//gpcp_1dd_v1.2_p1d.20100719.tif"
       ]
      },
      {
       "output_type": "stream",
       "stream": "stdout",
       "text": [
        "\n",
        "D:\\Data\\GPCP_tif_clip_clip//gpcp_1dd_v1.2_p1d.20100720.tif"
       ]
      },
      {
       "output_type": "stream",
       "stream": "stdout",
       "text": [
        "\n",
        "D:\\Data\\GPCP_tif_clip_clip//gpcp_1dd_v1.2_p1d.20100721.tif"
       ]
      },
      {
       "output_type": "stream",
       "stream": "stdout",
       "text": [
        "\n",
        "D:\\Data\\GPCP_tif_clip_clip//gpcp_1dd_v1.2_p1d.20100722.tif"
       ]
      },
      {
       "output_type": "stream",
       "stream": "stdout",
       "text": [
        "\n",
        "D:\\Data\\GPCP_tif_clip_clip//gpcp_1dd_v1.2_p1d.20100723.tif"
       ]
      },
      {
       "output_type": "stream",
       "stream": "stdout",
       "text": [
        "\n",
        "D:\\Data\\GPCP_tif_clip_clip//gpcp_1dd_v1.2_p1d.20100724.tif"
       ]
      },
      {
       "output_type": "stream",
       "stream": "stdout",
       "text": [
        "\n",
        "D:\\Data\\GPCP_tif_clip_clip//gpcp_1dd_v1.2_p1d.20100725.tif"
       ]
      },
      {
       "output_type": "stream",
       "stream": "stdout",
       "text": [
        "\n",
        "D:\\Data\\GPCP_tif_clip_clip//gpcp_1dd_v1.2_p1d.20100726.tif"
       ]
      },
      {
       "output_type": "stream",
       "stream": "stdout",
       "text": [
        "\n",
        "D:\\Data\\GPCP_tif_clip_clip//gpcp_1dd_v1.2_p1d.20100727.tif"
       ]
      },
      {
       "output_type": "stream",
       "stream": "stdout",
       "text": [
        "\n",
        "D:\\Data\\GPCP_tif_clip_clip//gpcp_1dd_v1.2_p1d.20100728.tif"
       ]
      },
      {
       "output_type": "stream",
       "stream": "stdout",
       "text": [
        "\n",
        "D:\\Data\\GPCP_tif_clip_clip//gpcp_1dd_v1.2_p1d.20100729.tif"
       ]
      },
      {
       "output_type": "stream",
       "stream": "stdout",
       "text": [
        "\n",
        "D:\\Data\\GPCP_tif_clip_clip//gpcp_1dd_v1.2_p1d.20100730.tif"
       ]
      },
      {
       "output_type": "stream",
       "stream": "stdout",
       "text": [
        "\n",
        "D:\\Data\\GPCP_tif_clip_clip//gpcp_1dd_v1.2_p1d.20100800.tif"
       ]
      },
      {
       "output_type": "stream",
       "stream": "stdout",
       "text": [
        "\n",
        "D:\\Data\\GPCP_tif_clip_clip//gpcp_1dd_v1.2_p1d.20100801.tif"
       ]
      },
      {
       "output_type": "stream",
       "stream": "stdout",
       "text": [
        "\n",
        "D:\\Data\\GPCP_tif_clip_clip//gpcp_1dd_v1.2_p1d.20100802.tif"
       ]
      },
      {
       "output_type": "stream",
       "stream": "stdout",
       "text": [
        "\n",
        "D:\\Data\\GPCP_tif_clip_clip//gpcp_1dd_v1.2_p1d.20100803.tif"
       ]
      },
      {
       "output_type": "stream",
       "stream": "stdout",
       "text": [
        "\n",
        "D:\\Data\\GPCP_tif_clip_clip//gpcp_1dd_v1.2_p1d.20100804.tif"
       ]
      },
      {
       "output_type": "stream",
       "stream": "stdout",
       "text": [
        "\n",
        "D:\\Data\\GPCP_tif_clip_clip//gpcp_1dd_v1.2_p1d.20100805.tif"
       ]
      },
      {
       "output_type": "stream",
       "stream": "stdout",
       "text": [
        "\n",
        "D:\\Data\\GPCP_tif_clip_clip//gpcp_1dd_v1.2_p1d.20100806.tif"
       ]
      },
      {
       "output_type": "stream",
       "stream": "stdout",
       "text": [
        "\n",
        "D:\\Data\\GPCP_tif_clip_clip//gpcp_1dd_v1.2_p1d.20100807.tif"
       ]
      },
      {
       "output_type": "stream",
       "stream": "stdout",
       "text": [
        "\n",
        "D:\\Data\\GPCP_tif_clip_clip//gpcp_1dd_v1.2_p1d.20100808.tif"
       ]
      },
      {
       "output_type": "stream",
       "stream": "stdout",
       "text": [
        "\n",
        "D:\\Data\\GPCP_tif_clip_clip//gpcp_1dd_v1.2_p1d.20100809.tif"
       ]
      },
      {
       "output_type": "stream",
       "stream": "stdout",
       "text": [
        "\n",
        "D:\\Data\\GPCP_tif_clip_clip//gpcp_1dd_v1.2_p1d.20100810.tif"
       ]
      },
      {
       "output_type": "stream",
       "stream": "stdout",
       "text": [
        "\n",
        "D:\\Data\\GPCP_tif_clip_clip//gpcp_1dd_v1.2_p1d.20100811.tif"
       ]
      },
      {
       "output_type": "stream",
       "stream": "stdout",
       "text": [
        "\n",
        "D:\\Data\\GPCP_tif_clip_clip//gpcp_1dd_v1.2_p1d.20100812.tif"
       ]
      },
      {
       "output_type": "stream",
       "stream": "stdout",
       "text": [
        "\n",
        "D:\\Data\\GPCP_tif_clip_clip//gpcp_1dd_v1.2_p1d.20100813.tif"
       ]
      },
      {
       "output_type": "stream",
       "stream": "stdout",
       "text": [
        "\n",
        "D:\\Data\\GPCP_tif_clip_clip//gpcp_1dd_v1.2_p1d.20100814.tif"
       ]
      },
      {
       "output_type": "stream",
       "stream": "stdout",
       "text": [
        "\n",
        "D:\\Data\\GPCP_tif_clip_clip//gpcp_1dd_v1.2_p1d.20100815.tif"
       ]
      },
      {
       "output_type": "stream",
       "stream": "stdout",
       "text": [
        "\n",
        "D:\\Data\\GPCP_tif_clip_clip//gpcp_1dd_v1.2_p1d.20100816.tif"
       ]
      },
      {
       "output_type": "stream",
       "stream": "stdout",
       "text": [
        "\n",
        "D:\\Data\\GPCP_tif_clip_clip//gpcp_1dd_v1.2_p1d.20100817.tif"
       ]
      },
      {
       "output_type": "stream",
       "stream": "stdout",
       "text": [
        "\n",
        "D:\\Data\\GPCP_tif_clip_clip//gpcp_1dd_v1.2_p1d.20100818.tif"
       ]
      },
      {
       "output_type": "stream",
       "stream": "stdout",
       "text": [
        "\n",
        "D:\\Data\\GPCP_tif_clip_clip//gpcp_1dd_v1.2_p1d.20100819.tif"
       ]
      },
      {
       "output_type": "stream",
       "stream": "stdout",
       "text": [
        "\n",
        "D:\\Data\\GPCP_tif_clip_clip//gpcp_1dd_v1.2_p1d.20100820.tif"
       ]
      },
      {
       "output_type": "stream",
       "stream": "stdout",
       "text": [
        "\n",
        "D:\\Data\\GPCP_tif_clip_clip//gpcp_1dd_v1.2_p1d.20100821.tif"
       ]
      },
      {
       "output_type": "stream",
       "stream": "stdout",
       "text": [
        "\n",
        "D:\\Data\\GPCP_tif_clip_clip//gpcp_1dd_v1.2_p1d.20100822.tif"
       ]
      },
      {
       "output_type": "stream",
       "stream": "stdout",
       "text": [
        "\n",
        "D:\\Data\\GPCP_tif_clip_clip//gpcp_1dd_v1.2_p1d.20100823.tif"
       ]
      },
      {
       "output_type": "stream",
       "stream": "stdout",
       "text": [
        "\n",
        "D:\\Data\\GPCP_tif_clip_clip//gpcp_1dd_v1.2_p1d.20100824.tif"
       ]
      },
      {
       "output_type": "stream",
       "stream": "stdout",
       "text": [
        "\n",
        "D:\\Data\\GPCP_tif_clip_clip//gpcp_1dd_v1.2_p1d.20100825.tif"
       ]
      },
      {
       "output_type": "stream",
       "stream": "stdout",
       "text": [
        "\n",
        "D:\\Data\\GPCP_tif_clip_clip//gpcp_1dd_v1.2_p1d.20100826.tif"
       ]
      },
      {
       "output_type": "stream",
       "stream": "stdout",
       "text": [
        "\n",
        "D:\\Data\\GPCP_tif_clip_clip//gpcp_1dd_v1.2_p1d.20100827.tif"
       ]
      },
      {
       "output_type": "stream",
       "stream": "stdout",
       "text": [
        "\n",
        "D:\\Data\\GPCP_tif_clip_clip//gpcp_1dd_v1.2_p1d.20100828.tif"
       ]
      },
      {
       "output_type": "stream",
       "stream": "stdout",
       "text": [
        "\n",
        "D:\\Data\\GPCP_tif_clip_clip//gpcp_1dd_v1.2_p1d.20100829.tif"
       ]
      },
      {
       "output_type": "stream",
       "stream": "stdout",
       "text": [
        "\n",
        "D:\\Data\\GPCP_tif_clip_clip//gpcp_1dd_v1.2_p1d.20100830.tif"
       ]
      },
      {
       "output_type": "stream",
       "stream": "stdout",
       "text": [
        "\n",
        "D:\\Data\\GPCP_tif_clip_clip//gpcp_1dd_v1.2_p1d.20100900.tif"
       ]
      },
      {
       "output_type": "stream",
       "stream": "stdout",
       "text": [
        "\n",
        "D:\\Data\\GPCP_tif_clip_clip//gpcp_1dd_v1.2_p1d.20100901.tif"
       ]
      },
      {
       "output_type": "stream",
       "stream": "stdout",
       "text": [
        "\n",
        "D:\\Data\\GPCP_tif_clip_clip//gpcp_1dd_v1.2_p1d.20100902.tif"
       ]
      },
      {
       "output_type": "stream",
       "stream": "stdout",
       "text": [
        "\n",
        "D:\\Data\\GPCP_tif_clip_clip//gpcp_1dd_v1.2_p1d.20100903.tif"
       ]
      },
      {
       "output_type": "stream",
       "stream": "stdout",
       "text": [
        "\n",
        "D:\\Data\\GPCP_tif_clip_clip//gpcp_1dd_v1.2_p1d.20100904.tif"
       ]
      },
      {
       "output_type": "stream",
       "stream": "stdout",
       "text": [
        "\n",
        "D:\\Data\\GPCP_tif_clip_clip//gpcp_1dd_v1.2_p1d.20100905.tif"
       ]
      },
      {
       "output_type": "stream",
       "stream": "stdout",
       "text": [
        "\n",
        "D:\\Data\\GPCP_tif_clip_clip//gpcp_1dd_v1.2_p1d.20100906.tif"
       ]
      },
      {
       "output_type": "stream",
       "stream": "stdout",
       "text": [
        "\n",
        "D:\\Data\\GPCP_tif_clip_clip//gpcp_1dd_v1.2_p1d.20100907.tif"
       ]
      },
      {
       "output_type": "stream",
       "stream": "stdout",
       "text": [
        "\n",
        "D:\\Data\\GPCP_tif_clip_clip//gpcp_1dd_v1.2_p1d.20100908.tif"
       ]
      },
      {
       "output_type": "stream",
       "stream": "stdout",
       "text": [
        "\n",
        "D:\\Data\\GPCP_tif_clip_clip//gpcp_1dd_v1.2_p1d.20100909.tif"
       ]
      },
      {
       "output_type": "stream",
       "stream": "stdout",
       "text": [
        "\n",
        "D:\\Data\\GPCP_tif_clip_clip//gpcp_1dd_v1.2_p1d.20100910.tif"
       ]
      },
      {
       "output_type": "stream",
       "stream": "stdout",
       "text": [
        "\n",
        "D:\\Data\\GPCP_tif_clip_clip//gpcp_1dd_v1.2_p1d.20100911.tif"
       ]
      },
      {
       "output_type": "stream",
       "stream": "stdout",
       "text": [
        "\n",
        "D:\\Data\\GPCP_tif_clip_clip//gpcp_1dd_v1.2_p1d.20100912.tif"
       ]
      },
      {
       "output_type": "stream",
       "stream": "stdout",
       "text": [
        "\n",
        "D:\\Data\\GPCP_tif_clip_clip//gpcp_1dd_v1.2_p1d.20100913.tif"
       ]
      },
      {
       "output_type": "stream",
       "stream": "stdout",
       "text": [
        "\n",
        "D:\\Data\\GPCP_tif_clip_clip//gpcp_1dd_v1.2_p1d.20100914.tif"
       ]
      },
      {
       "output_type": "stream",
       "stream": "stdout",
       "text": [
        "\n",
        "D:\\Data\\GPCP_tif_clip_clip//gpcp_1dd_v1.2_p1d.20100915.tif"
       ]
      },
      {
       "output_type": "stream",
       "stream": "stdout",
       "text": [
        "\n",
        "D:\\Data\\GPCP_tif_clip_clip//gpcp_1dd_v1.2_p1d.20100916.tif"
       ]
      },
      {
       "output_type": "stream",
       "stream": "stdout",
       "text": [
        "\n",
        "D:\\Data\\GPCP_tif_clip_clip//gpcp_1dd_v1.2_p1d.20100917.tif"
       ]
      },
      {
       "output_type": "stream",
       "stream": "stdout",
       "text": [
        "\n",
        "D:\\Data\\GPCP_tif_clip_clip//gpcp_1dd_v1.2_p1d.20100918.tif"
       ]
      },
      {
       "output_type": "stream",
       "stream": "stdout",
       "text": [
        "\n",
        "D:\\Data\\GPCP_tif_clip_clip//gpcp_1dd_v1.2_p1d.20100919.tif"
       ]
      },
      {
       "output_type": "stream",
       "stream": "stdout",
       "text": [
        "\n",
        "D:\\Data\\GPCP_tif_clip_clip//gpcp_1dd_v1.2_p1d.20100920.tif"
       ]
      },
      {
       "output_type": "stream",
       "stream": "stdout",
       "text": [
        "\n",
        "D:\\Data\\GPCP_tif_clip_clip//gpcp_1dd_v1.2_p1d.20100921.tif"
       ]
      },
      {
       "output_type": "stream",
       "stream": "stdout",
       "text": [
        "\n",
        "D:\\Data\\GPCP_tif_clip_clip//gpcp_1dd_v1.2_p1d.20100922.tif"
       ]
      },
      {
       "output_type": "stream",
       "stream": "stdout",
       "text": [
        "\n",
        "D:\\Data\\GPCP_tif_clip_clip//gpcp_1dd_v1.2_p1d.20100923.tif"
       ]
      },
      {
       "output_type": "stream",
       "stream": "stdout",
       "text": [
        "\n",
        "D:\\Data\\GPCP_tif_clip_clip//gpcp_1dd_v1.2_p1d.20100924.tif"
       ]
      },
      {
       "output_type": "stream",
       "stream": "stdout",
       "text": [
        "\n",
        "D:\\Data\\GPCP_tif_clip_clip//gpcp_1dd_v1.2_p1d.20100925.tif"
       ]
      },
      {
       "output_type": "stream",
       "stream": "stdout",
       "text": [
        "\n",
        "D:\\Data\\GPCP_tif_clip_clip//gpcp_1dd_v1.2_p1d.20100926.tif"
       ]
      },
      {
       "output_type": "stream",
       "stream": "stdout",
       "text": [
        "\n",
        "D:\\Data\\GPCP_tif_clip_clip//gpcp_1dd_v1.2_p1d.20100927.tif"
       ]
      },
      {
       "output_type": "stream",
       "stream": "stdout",
       "text": [
        "\n",
        "D:\\Data\\GPCP_tif_clip_clip//gpcp_1dd_v1.2_p1d.20100928.tif"
       ]
      },
      {
       "output_type": "stream",
       "stream": "stdout",
       "text": [
        "\n",
        "D:\\Data\\GPCP_tif_clip_clip//gpcp_1dd_v1.2_p1d.20100929.tif"
       ]
      },
      {
       "output_type": "stream",
       "stream": "stdout",
       "text": [
        "\n",
        "D:\\Data\\GPCP_tif_clip_clip//gpcp_1dd_v1.2_p1d.20101000.tif"
       ]
      },
      {
       "output_type": "stream",
       "stream": "stdout",
       "text": [
        "\n",
        "D:\\Data\\GPCP_tif_clip_clip//gpcp_1dd_v1.2_p1d.20101001.tif"
       ]
      },
      {
       "output_type": "stream",
       "stream": "stdout",
       "text": [
        "\n",
        "D:\\Data\\GPCP_tif_clip_clip//gpcp_1dd_v1.2_p1d.20101002.tif"
       ]
      },
      {
       "output_type": "stream",
       "stream": "stdout",
       "text": [
        "\n",
        "D:\\Data\\GPCP_tif_clip_clip//gpcp_1dd_v1.2_p1d.20101003.tif"
       ]
      },
      {
       "output_type": "stream",
       "stream": "stdout",
       "text": [
        "\n",
        "D:\\Data\\GPCP_tif_clip_clip//gpcp_1dd_v1.2_p1d.20101004.tif"
       ]
      },
      {
       "output_type": "stream",
       "stream": "stdout",
       "text": [
        "\n",
        "D:\\Data\\GPCP_tif_clip_clip//gpcp_1dd_v1.2_p1d.20101005.tif"
       ]
      },
      {
       "output_type": "stream",
       "stream": "stdout",
       "text": [
        "\n",
        "D:\\Data\\GPCP_tif_clip_clip//gpcp_1dd_v1.2_p1d.20101006.tif"
       ]
      },
      {
       "output_type": "stream",
       "stream": "stdout",
       "text": [
        "\n",
        "D:\\Data\\GPCP_tif_clip_clip//gpcp_1dd_v1.2_p1d.20101007.tif"
       ]
      },
      {
       "output_type": "stream",
       "stream": "stdout",
       "text": [
        "\n",
        "D:\\Data\\GPCP_tif_clip_clip//gpcp_1dd_v1.2_p1d.20101008.tif"
       ]
      },
      {
       "output_type": "stream",
       "stream": "stdout",
       "text": [
        "\n",
        "D:\\Data\\GPCP_tif_clip_clip//gpcp_1dd_v1.2_p1d.20101009.tif"
       ]
      },
      {
       "output_type": "stream",
       "stream": "stdout",
       "text": [
        "\n",
        "D:\\Data\\GPCP_tif_clip_clip//gpcp_1dd_v1.2_p1d.20101010.tif"
       ]
      },
      {
       "output_type": "stream",
       "stream": "stdout",
       "text": [
        "\n",
        "D:\\Data\\GPCP_tif_clip_clip//gpcp_1dd_v1.2_p1d.20101011.tif"
       ]
      },
      {
       "output_type": "stream",
       "stream": "stdout",
       "text": [
        "\n",
        "D:\\Data\\GPCP_tif_clip_clip//gpcp_1dd_v1.2_p1d.20101012.tif"
       ]
      },
      {
       "output_type": "stream",
       "stream": "stdout",
       "text": [
        "\n",
        "D:\\Data\\GPCP_tif_clip_clip//gpcp_1dd_v1.2_p1d.20101013.tif"
       ]
      },
      {
       "output_type": "stream",
       "stream": "stdout",
       "text": [
        "\n",
        "D:\\Data\\GPCP_tif_clip_clip//gpcp_1dd_v1.2_p1d.20101014.tif"
       ]
      },
      {
       "output_type": "stream",
       "stream": "stdout",
       "text": [
        "\n",
        "D:\\Data\\GPCP_tif_clip_clip//gpcp_1dd_v1.2_p1d.20101015.tif"
       ]
      },
      {
       "output_type": "stream",
       "stream": "stdout",
       "text": [
        "\n",
        "D:\\Data\\GPCP_tif_clip_clip//gpcp_1dd_v1.2_p1d.20101016.tif"
       ]
      },
      {
       "output_type": "stream",
       "stream": "stdout",
       "text": [
        "\n",
        "D:\\Data\\GPCP_tif_clip_clip//gpcp_1dd_v1.2_p1d.20101017.tif"
       ]
      },
      {
       "output_type": "stream",
       "stream": "stdout",
       "text": [
        "\n",
        "D:\\Data\\GPCP_tif_clip_clip//gpcp_1dd_v1.2_p1d.20101018.tif"
       ]
      },
      {
       "output_type": "stream",
       "stream": "stdout",
       "text": [
        "\n",
        "D:\\Data\\GPCP_tif_clip_clip//gpcp_1dd_v1.2_p1d.20101019.tif"
       ]
      },
      {
       "output_type": "stream",
       "stream": "stdout",
       "text": [
        "\n",
        "D:\\Data\\GPCP_tif_clip_clip//gpcp_1dd_v1.2_p1d.20101020.tif"
       ]
      },
      {
       "output_type": "stream",
       "stream": "stdout",
       "text": [
        "\n",
        "D:\\Data\\GPCP_tif_clip_clip//gpcp_1dd_v1.2_p1d.20101021.tif"
       ]
      },
      {
       "output_type": "stream",
       "stream": "stdout",
       "text": [
        "\n",
        "D:\\Data\\GPCP_tif_clip_clip//gpcp_1dd_v1.2_p1d.20101022.tif"
       ]
      },
      {
       "output_type": "stream",
       "stream": "stdout",
       "text": [
        "\n",
        "D:\\Data\\GPCP_tif_clip_clip//gpcp_1dd_v1.2_p1d.20101023.tif"
       ]
      },
      {
       "output_type": "stream",
       "stream": "stdout",
       "text": [
        "\n",
        "D:\\Data\\GPCP_tif_clip_clip//gpcp_1dd_v1.2_p1d.20101024.tif"
       ]
      },
      {
       "output_type": "stream",
       "stream": "stdout",
       "text": [
        "\n",
        "D:\\Data\\GPCP_tif_clip_clip//gpcp_1dd_v1.2_p1d.20101025.tif"
       ]
      },
      {
       "output_type": "stream",
       "stream": "stdout",
       "text": [
        "\n",
        "D:\\Data\\GPCP_tif_clip_clip//gpcp_1dd_v1.2_p1d.20101026.tif"
       ]
      },
      {
       "output_type": "stream",
       "stream": "stdout",
       "text": [
        "\n",
        "D:\\Data\\GPCP_tif_clip_clip//gpcp_1dd_v1.2_p1d.20101027.tif"
       ]
      },
      {
       "output_type": "stream",
       "stream": "stdout",
       "text": [
        "\n",
        "D:\\Data\\GPCP_tif_clip_clip//gpcp_1dd_v1.2_p1d.20101028.tif"
       ]
      },
      {
       "output_type": "stream",
       "stream": "stdout",
       "text": [
        "\n",
        "D:\\Data\\GPCP_tif_clip_clip//gpcp_1dd_v1.2_p1d.20101029.tif"
       ]
      },
      {
       "output_type": "stream",
       "stream": "stdout",
       "text": [
        "\n",
        "D:\\Data\\GPCP_tif_clip_clip//gpcp_1dd_v1.2_p1d.20101030.tif"
       ]
      },
      {
       "output_type": "stream",
       "stream": "stdout",
       "text": [
        "\n",
        "D:\\Data\\GPCP_tif_clip_clip//gpcp_1dd_v1.2_p1d.20101100.tif"
       ]
      },
      {
       "output_type": "stream",
       "stream": "stdout",
       "text": [
        "\n",
        "D:\\Data\\GPCP_tif_clip_clip//gpcp_1dd_v1.2_p1d.20101101.tif"
       ]
      },
      {
       "output_type": "stream",
       "stream": "stdout",
       "text": [
        "\n",
        "D:\\Data\\GPCP_tif_clip_clip//gpcp_1dd_v1.2_p1d.20101102.tif"
       ]
      },
      {
       "output_type": "stream",
       "stream": "stdout",
       "text": [
        "\n",
        "D:\\Data\\GPCP_tif_clip_clip//gpcp_1dd_v1.2_p1d.20101103.tif"
       ]
      },
      {
       "output_type": "stream",
       "stream": "stdout",
       "text": [
        "\n",
        "D:\\Data\\GPCP_tif_clip_clip//gpcp_1dd_v1.2_p1d.20101104.tif"
       ]
      },
      {
       "output_type": "stream",
       "stream": "stdout",
       "text": [
        "\n",
        "D:\\Data\\GPCP_tif_clip_clip//gpcp_1dd_v1.2_p1d.20101105.tif"
       ]
      },
      {
       "output_type": "stream",
       "stream": "stdout",
       "text": [
        "\n",
        "D:\\Data\\GPCP_tif_clip_clip//gpcp_1dd_v1.2_p1d.20101106.tif"
       ]
      },
      {
       "output_type": "stream",
       "stream": "stdout",
       "text": [
        "\n",
        "D:\\Data\\GPCP_tif_clip_clip//gpcp_1dd_v1.2_p1d.20101107.tif"
       ]
      },
      {
       "output_type": "stream",
       "stream": "stdout",
       "text": [
        "\n",
        "D:\\Data\\GPCP_tif_clip_clip//gpcp_1dd_v1.2_p1d.20101108.tif"
       ]
      },
      {
       "output_type": "stream",
       "stream": "stdout",
       "text": [
        "\n",
        "D:\\Data\\GPCP_tif_clip_clip//gpcp_1dd_v1.2_p1d.20101109.tif"
       ]
      },
      {
       "output_type": "stream",
       "stream": "stdout",
       "text": [
        "\n",
        "D:\\Data\\GPCP_tif_clip_clip//gpcp_1dd_v1.2_p1d.20101110.tif"
       ]
      },
      {
       "output_type": "stream",
       "stream": "stdout",
       "text": [
        "\n",
        "D:\\Data\\GPCP_tif_clip_clip//gpcp_1dd_v1.2_p1d.20101111.tif"
       ]
      },
      {
       "output_type": "stream",
       "stream": "stdout",
       "text": [
        "\n",
        "D:\\Data\\GPCP_tif_clip_clip//gpcp_1dd_v1.2_p1d.20101112.tif"
       ]
      },
      {
       "output_type": "stream",
       "stream": "stdout",
       "text": [
        "\n",
        "D:\\Data\\GPCP_tif_clip_clip//gpcp_1dd_v1.2_p1d.20101113.tif"
       ]
      },
      {
       "output_type": "stream",
       "stream": "stdout",
       "text": [
        "\n",
        "D:\\Data\\GPCP_tif_clip_clip//gpcp_1dd_v1.2_p1d.20101114.tif"
       ]
      },
      {
       "output_type": "stream",
       "stream": "stdout",
       "text": [
        "\n",
        "D:\\Data\\GPCP_tif_clip_clip//gpcp_1dd_v1.2_p1d.20101115.tif"
       ]
      },
      {
       "output_type": "stream",
       "stream": "stdout",
       "text": [
        "\n",
        "D:\\Data\\GPCP_tif_clip_clip//gpcp_1dd_v1.2_p1d.20101116.tif"
       ]
      },
      {
       "output_type": "stream",
       "stream": "stdout",
       "text": [
        "\n",
        "D:\\Data\\GPCP_tif_clip_clip//gpcp_1dd_v1.2_p1d.20101117.tif"
       ]
      },
      {
       "output_type": "stream",
       "stream": "stdout",
       "text": [
        "\n",
        "D:\\Data\\GPCP_tif_clip_clip//gpcp_1dd_v1.2_p1d.20101118.tif"
       ]
      },
      {
       "output_type": "stream",
       "stream": "stdout",
       "text": [
        "\n",
        "D:\\Data\\GPCP_tif_clip_clip//gpcp_1dd_v1.2_p1d.20101119.tif"
       ]
      },
      {
       "output_type": "stream",
       "stream": "stdout",
       "text": [
        "\n",
        "D:\\Data\\GPCP_tif_clip_clip//gpcp_1dd_v1.2_p1d.20101120.tif"
       ]
      },
      {
       "output_type": "stream",
       "stream": "stdout",
       "text": [
        "\n",
        "D:\\Data\\GPCP_tif_clip_clip//gpcp_1dd_v1.2_p1d.20101121.tif"
       ]
      },
      {
       "output_type": "stream",
       "stream": "stdout",
       "text": [
        "\n",
        "D:\\Data\\GPCP_tif_clip_clip//gpcp_1dd_v1.2_p1d.20101122.tif"
       ]
      },
      {
       "output_type": "stream",
       "stream": "stdout",
       "text": [
        "\n",
        "D:\\Data\\GPCP_tif_clip_clip//gpcp_1dd_v1.2_p1d.20101123.tif"
       ]
      },
      {
       "output_type": "stream",
       "stream": "stdout",
       "text": [
        "\n",
        "D:\\Data\\GPCP_tif_clip_clip//gpcp_1dd_v1.2_p1d.20101124.tif"
       ]
      },
      {
       "output_type": "stream",
       "stream": "stdout",
       "text": [
        "\n",
        "D:\\Data\\GPCP_tif_clip_clip//gpcp_1dd_v1.2_p1d.20101125.tif"
       ]
      },
      {
       "output_type": "stream",
       "stream": "stdout",
       "text": [
        "\n",
        "D:\\Data\\GPCP_tif_clip_clip//gpcp_1dd_v1.2_p1d.20101126.tif"
       ]
      },
      {
       "output_type": "stream",
       "stream": "stdout",
       "text": [
        "\n",
        "D:\\Data\\GPCP_tif_clip_clip//gpcp_1dd_v1.2_p1d.20101127.tif"
       ]
      },
      {
       "output_type": "stream",
       "stream": "stdout",
       "text": [
        "\n",
        "D:\\Data\\GPCP_tif_clip_clip//gpcp_1dd_v1.2_p1d.20101128.tif"
       ]
      },
      {
       "output_type": "stream",
       "stream": "stdout",
       "text": [
        "\n",
        "D:\\Data\\GPCP_tif_clip_clip//gpcp_1dd_v1.2_p1d.20101129.tif"
       ]
      },
      {
       "output_type": "stream",
       "stream": "stdout",
       "text": [
        "\n",
        "D:\\Data\\GPCP_tif_clip_clip//gpcp_1dd_v1.2_p1d.20101200.tif"
       ]
      },
      {
       "output_type": "stream",
       "stream": "stdout",
       "text": [
        "\n",
        "D:\\Data\\GPCP_tif_clip_clip//gpcp_1dd_v1.2_p1d.20101201.tif"
       ]
      },
      {
       "output_type": "stream",
       "stream": "stdout",
       "text": [
        "\n",
        "D:\\Data\\GPCP_tif_clip_clip//gpcp_1dd_v1.2_p1d.20101202.tif"
       ]
      },
      {
       "output_type": "stream",
       "stream": "stdout",
       "text": [
        "\n",
        "D:\\Data\\GPCP_tif_clip_clip//gpcp_1dd_v1.2_p1d.20101203.tif"
       ]
      },
      {
       "output_type": "stream",
       "stream": "stdout",
       "text": [
        "\n",
        "D:\\Data\\GPCP_tif_clip_clip//gpcp_1dd_v1.2_p1d.20101204.tif"
       ]
      },
      {
       "output_type": "stream",
       "stream": "stdout",
       "text": [
        "\n",
        "D:\\Data\\GPCP_tif_clip_clip//gpcp_1dd_v1.2_p1d.20101205.tif"
       ]
      },
      {
       "output_type": "stream",
       "stream": "stdout",
       "text": [
        "\n",
        "D:\\Data\\GPCP_tif_clip_clip//gpcp_1dd_v1.2_p1d.20101206.tif"
       ]
      },
      {
       "output_type": "stream",
       "stream": "stdout",
       "text": [
        "\n",
        "D:\\Data\\GPCP_tif_clip_clip//gpcp_1dd_v1.2_p1d.20101207.tif"
       ]
      },
      {
       "output_type": "stream",
       "stream": "stdout",
       "text": [
        "\n",
        "D:\\Data\\GPCP_tif_clip_clip//gpcp_1dd_v1.2_p1d.20101208.tif"
       ]
      },
      {
       "output_type": "stream",
       "stream": "stdout",
       "text": [
        "\n",
        "D:\\Data\\GPCP_tif_clip_clip//gpcp_1dd_v1.2_p1d.20101209.tif"
       ]
      },
      {
       "output_type": "stream",
       "stream": "stdout",
       "text": [
        "\n",
        "D:\\Data\\GPCP_tif_clip_clip//gpcp_1dd_v1.2_p1d.20101210.tif"
       ]
      },
      {
       "output_type": "stream",
       "stream": "stdout",
       "text": [
        "\n",
        "D:\\Data\\GPCP_tif_clip_clip//gpcp_1dd_v1.2_p1d.20101211.tif"
       ]
      },
      {
       "output_type": "stream",
       "stream": "stdout",
       "text": [
        "\n",
        "D:\\Data\\GPCP_tif_clip_clip//gpcp_1dd_v1.2_p1d.20101212.tif"
       ]
      },
      {
       "output_type": "stream",
       "stream": "stdout",
       "text": [
        "\n",
        "D:\\Data\\GPCP_tif_clip_clip//gpcp_1dd_v1.2_p1d.20101213.tif"
       ]
      },
      {
       "output_type": "stream",
       "stream": "stdout",
       "text": [
        "\n",
        "D:\\Data\\GPCP_tif_clip_clip//gpcp_1dd_v1.2_p1d.20101214.tif"
       ]
      },
      {
       "output_type": "stream",
       "stream": "stdout",
       "text": [
        "\n",
        "D:\\Data\\GPCP_tif_clip_clip//gpcp_1dd_v1.2_p1d.20101215.tif"
       ]
      },
      {
       "output_type": "stream",
       "stream": "stdout",
       "text": [
        "\n",
        "D:\\Data\\GPCP_tif_clip_clip//gpcp_1dd_v1.2_p1d.20101216.tif"
       ]
      },
      {
       "output_type": "stream",
       "stream": "stdout",
       "text": [
        "\n",
        "D:\\Data\\GPCP_tif_clip_clip//gpcp_1dd_v1.2_p1d.20101217.tif"
       ]
      },
      {
       "output_type": "stream",
       "stream": "stdout",
       "text": [
        "\n",
        "D:\\Data\\GPCP_tif_clip_clip//gpcp_1dd_v1.2_p1d.20101218.tif"
       ]
      },
      {
       "output_type": "stream",
       "stream": "stdout",
       "text": [
        "\n",
        "D:\\Data\\GPCP_tif_clip_clip//gpcp_1dd_v1.2_p1d.20101219.tif"
       ]
      },
      {
       "output_type": "stream",
       "stream": "stdout",
       "text": [
        "\n",
        "D:\\Data\\GPCP_tif_clip_clip//gpcp_1dd_v1.2_p1d.20101220.tif"
       ]
      },
      {
       "output_type": "stream",
       "stream": "stdout",
       "text": [
        "\n",
        "D:\\Data\\GPCP_tif_clip_clip//gpcp_1dd_v1.2_p1d.20101221.tif"
       ]
      },
      {
       "output_type": "stream",
       "stream": "stdout",
       "text": [
        "\n",
        "D:\\Data\\GPCP_tif_clip_clip//gpcp_1dd_v1.2_p1d.20101222.tif"
       ]
      },
      {
       "output_type": "stream",
       "stream": "stdout",
       "text": [
        "\n",
        "D:\\Data\\GPCP_tif_clip_clip//gpcp_1dd_v1.2_p1d.20101223.tif"
       ]
      },
      {
       "output_type": "stream",
       "stream": "stdout",
       "text": [
        "\n",
        "D:\\Data\\GPCP_tif_clip_clip//gpcp_1dd_v1.2_p1d.20101224.tif"
       ]
      },
      {
       "output_type": "stream",
       "stream": "stdout",
       "text": [
        "\n",
        "D:\\Data\\GPCP_tif_clip_clip//gpcp_1dd_v1.2_p1d.20101225.tif"
       ]
      },
      {
       "output_type": "stream",
       "stream": "stdout",
       "text": [
        "\n",
        "D:\\Data\\GPCP_tif_clip_clip//gpcp_1dd_v1.2_p1d.20101226.tif"
       ]
      },
      {
       "output_type": "stream",
       "stream": "stdout",
       "text": [
        "\n",
        "D:\\Data\\GPCP_tif_clip_clip//gpcp_1dd_v1.2_p1d.20101227.tif"
       ]
      },
      {
       "output_type": "stream",
       "stream": "stdout",
       "text": [
        "\n",
        "D:\\Data\\GPCP_tif_clip_clip//gpcp_1dd_v1.2_p1d.20101228.tif"
       ]
      },
      {
       "output_type": "stream",
       "stream": "stdout",
       "text": [
        "\n",
        "D:\\Data\\GPCP_tif_clip_clip//gpcp_1dd_v1.2_p1d.20101229.tif"
       ]
      },
      {
       "output_type": "stream",
       "stream": "stdout",
       "text": [
        "\n",
        "D:\\Data\\GPCP_tif_clip_clip//gpcp_1dd_v1.2_p1d.20101230.tif"
       ]
      },
      {
       "output_type": "stream",
       "stream": "stdout",
       "text": [
        "\n",
        "D:\\Data\\GPCP_tif_clip_clip//gpcp_1dd_v1.2_p1d.20110100.tif"
       ]
      },
      {
       "output_type": "stream",
       "stream": "stdout",
       "text": [
        "\n",
        "D:\\Data\\GPCP_tif_clip_clip//gpcp_1dd_v1.2_p1d.20110101.tif"
       ]
      },
      {
       "output_type": "stream",
       "stream": "stdout",
       "text": [
        "\n",
        "D:\\Data\\GPCP_tif_clip_clip//gpcp_1dd_v1.2_p1d.20110102.tif"
       ]
      },
      {
       "output_type": "stream",
       "stream": "stdout",
       "text": [
        "\n",
        "D:\\Data\\GPCP_tif_clip_clip//gpcp_1dd_v1.2_p1d.20110103.tif"
       ]
      },
      {
       "output_type": "stream",
       "stream": "stdout",
       "text": [
        "\n",
        "D:\\Data\\GPCP_tif_clip_clip//gpcp_1dd_v1.2_p1d.20110104.tif"
       ]
      },
      {
       "output_type": "stream",
       "stream": "stdout",
       "text": [
        "\n",
        "D:\\Data\\GPCP_tif_clip_clip//gpcp_1dd_v1.2_p1d.20110105.tif"
       ]
      },
      {
       "output_type": "stream",
       "stream": "stdout",
       "text": [
        "\n",
        "D:\\Data\\GPCP_tif_clip_clip//gpcp_1dd_v1.2_p1d.20110106.tif"
       ]
      },
      {
       "output_type": "stream",
       "stream": "stdout",
       "text": [
        "\n",
        "D:\\Data\\GPCP_tif_clip_clip//gpcp_1dd_v1.2_p1d.20110107.tif"
       ]
      },
      {
       "output_type": "stream",
       "stream": "stdout",
       "text": [
        "\n",
        "D:\\Data\\GPCP_tif_clip_clip//gpcp_1dd_v1.2_p1d.20110108.tif"
       ]
      },
      {
       "output_type": "stream",
       "stream": "stdout",
       "text": [
        "\n",
        "D:\\Data\\GPCP_tif_clip_clip//gpcp_1dd_v1.2_p1d.20110109.tif"
       ]
      },
      {
       "output_type": "stream",
       "stream": "stdout",
       "text": [
        "\n",
        "D:\\Data\\GPCP_tif_clip_clip//gpcp_1dd_v1.2_p1d.20110110.tif"
       ]
      },
      {
       "output_type": "stream",
       "stream": "stdout",
       "text": [
        "\n",
        "D:\\Data\\GPCP_tif_clip_clip//gpcp_1dd_v1.2_p1d.20110111.tif"
       ]
      },
      {
       "output_type": "stream",
       "stream": "stdout",
       "text": [
        "\n",
        "D:\\Data\\GPCP_tif_clip_clip//gpcp_1dd_v1.2_p1d.20110112.tif"
       ]
      },
      {
       "output_type": "stream",
       "stream": "stdout",
       "text": [
        "\n",
        "D:\\Data\\GPCP_tif_clip_clip//gpcp_1dd_v1.2_p1d.20110113.tif"
       ]
      },
      {
       "output_type": "stream",
       "stream": "stdout",
       "text": [
        "\n",
        "D:\\Data\\GPCP_tif_clip_clip//gpcp_1dd_v1.2_p1d.20110114.tif"
       ]
      },
      {
       "output_type": "stream",
       "stream": "stdout",
       "text": [
        "\n",
        "D:\\Data\\GPCP_tif_clip_clip//gpcp_1dd_v1.2_p1d.20110115.tif"
       ]
      },
      {
       "output_type": "stream",
       "stream": "stdout",
       "text": [
        "\n",
        "D:\\Data\\GPCP_tif_clip_clip//gpcp_1dd_v1.2_p1d.20110116.tif"
       ]
      },
      {
       "output_type": "stream",
       "stream": "stdout",
       "text": [
        "\n",
        "D:\\Data\\GPCP_tif_clip_clip//gpcp_1dd_v1.2_p1d.20110117.tif"
       ]
      },
      {
       "output_type": "stream",
       "stream": "stdout",
       "text": [
        "\n",
        "D:\\Data\\GPCP_tif_clip_clip//gpcp_1dd_v1.2_p1d.20110118.tif"
       ]
      },
      {
       "output_type": "stream",
       "stream": "stdout",
       "text": [
        "\n",
        "D:\\Data\\GPCP_tif_clip_clip//gpcp_1dd_v1.2_p1d.20110119.tif"
       ]
      },
      {
       "output_type": "stream",
       "stream": "stdout",
       "text": [
        "\n",
        "D:\\Data\\GPCP_tif_clip_clip//gpcp_1dd_v1.2_p1d.20110120.tif"
       ]
      },
      {
       "output_type": "stream",
       "stream": "stdout",
       "text": [
        "\n",
        "D:\\Data\\GPCP_tif_clip_clip//gpcp_1dd_v1.2_p1d.20110121.tif"
       ]
      },
      {
       "output_type": "stream",
       "stream": "stdout",
       "text": [
        "\n",
        "D:\\Data\\GPCP_tif_clip_clip//gpcp_1dd_v1.2_p1d.20110122.tif"
       ]
      },
      {
       "output_type": "stream",
       "stream": "stdout",
       "text": [
        "\n",
        "D:\\Data\\GPCP_tif_clip_clip//gpcp_1dd_v1.2_p1d.20110123.tif"
       ]
      },
      {
       "output_type": "stream",
       "stream": "stdout",
       "text": [
        "\n",
        "D:\\Data\\GPCP_tif_clip_clip//gpcp_1dd_v1.2_p1d.20110124.tif"
       ]
      },
      {
       "output_type": "stream",
       "stream": "stdout",
       "text": [
        "\n",
        "D:\\Data\\GPCP_tif_clip_clip//gpcp_1dd_v1.2_p1d.20110125.tif"
       ]
      },
      {
       "output_type": "stream",
       "stream": "stdout",
       "text": [
        "\n",
        "D:\\Data\\GPCP_tif_clip_clip//gpcp_1dd_v1.2_p1d.20110126.tif"
       ]
      },
      {
       "output_type": "stream",
       "stream": "stdout",
       "text": [
        "\n",
        "D:\\Data\\GPCP_tif_clip_clip//gpcp_1dd_v1.2_p1d.20110127.tif"
       ]
      },
      {
       "output_type": "stream",
       "stream": "stdout",
       "text": [
        "\n",
        "D:\\Data\\GPCP_tif_clip_clip//gpcp_1dd_v1.2_p1d.20110128.tif"
       ]
      },
      {
       "output_type": "stream",
       "stream": "stdout",
       "text": [
        "\n",
        "D:\\Data\\GPCP_tif_clip_clip//gpcp_1dd_v1.2_p1d.20110129.tif"
       ]
      },
      {
       "output_type": "stream",
       "stream": "stdout",
       "text": [
        "\n",
        "D:\\Data\\GPCP_tif_clip_clip//gpcp_1dd_v1.2_p1d.20110130.tif"
       ]
      },
      {
       "output_type": "stream",
       "stream": "stdout",
       "text": [
        "\n",
        "D:\\Data\\GPCP_tif_clip_clip//gpcp_1dd_v1.2_p1d.20110200.tif"
       ]
      },
      {
       "output_type": "stream",
       "stream": "stdout",
       "text": [
        "\n",
        "D:\\Data\\GPCP_tif_clip_clip//gpcp_1dd_v1.2_p1d.20110201.tif"
       ]
      },
      {
       "output_type": "stream",
       "stream": "stdout",
       "text": [
        "\n",
        "D:\\Data\\GPCP_tif_clip_clip//gpcp_1dd_v1.2_p1d.20110202.tif"
       ]
      },
      {
       "output_type": "stream",
       "stream": "stdout",
       "text": [
        "\n",
        "D:\\Data\\GPCP_tif_clip_clip//gpcp_1dd_v1.2_p1d.20110203.tif"
       ]
      },
      {
       "output_type": "stream",
       "stream": "stdout",
       "text": [
        "\n",
        "D:\\Data\\GPCP_tif_clip_clip//gpcp_1dd_v1.2_p1d.20110204.tif"
       ]
      },
      {
       "output_type": "stream",
       "stream": "stdout",
       "text": [
        "\n",
        "D:\\Data\\GPCP_tif_clip_clip//gpcp_1dd_v1.2_p1d.20110205.tif"
       ]
      },
      {
       "output_type": "stream",
       "stream": "stdout",
       "text": [
        "\n",
        "D:\\Data\\GPCP_tif_clip_clip//gpcp_1dd_v1.2_p1d.20110206.tif"
       ]
      },
      {
       "output_type": "stream",
       "stream": "stdout",
       "text": [
        "\n",
        "D:\\Data\\GPCP_tif_clip_clip//gpcp_1dd_v1.2_p1d.20110207.tif"
       ]
      },
      {
       "output_type": "stream",
       "stream": "stdout",
       "text": [
        "\n",
        "D:\\Data\\GPCP_tif_clip_clip//gpcp_1dd_v1.2_p1d.20110208.tif"
       ]
      },
      {
       "output_type": "stream",
       "stream": "stdout",
       "text": [
        "\n",
        "D:\\Data\\GPCP_tif_clip_clip//gpcp_1dd_v1.2_p1d.20110209.tif"
       ]
      },
      {
       "output_type": "stream",
       "stream": "stdout",
       "text": [
        "\n",
        "D:\\Data\\GPCP_tif_clip_clip//gpcp_1dd_v1.2_p1d.20110210.tif"
       ]
      },
      {
       "output_type": "stream",
       "stream": "stdout",
       "text": [
        "\n",
        "D:\\Data\\GPCP_tif_clip_clip//gpcp_1dd_v1.2_p1d.20110211.tif"
       ]
      },
      {
       "output_type": "stream",
       "stream": "stdout",
       "text": [
        "\n",
        "D:\\Data\\GPCP_tif_clip_clip//gpcp_1dd_v1.2_p1d.20110212.tif"
       ]
      },
      {
       "output_type": "stream",
       "stream": "stdout",
       "text": [
        "\n",
        "D:\\Data\\GPCP_tif_clip_clip//gpcp_1dd_v1.2_p1d.20110213.tif"
       ]
      },
      {
       "output_type": "stream",
       "stream": "stdout",
       "text": [
        "\n",
        "D:\\Data\\GPCP_tif_clip_clip//gpcp_1dd_v1.2_p1d.20110214.tif"
       ]
      },
      {
       "output_type": "stream",
       "stream": "stdout",
       "text": [
        "\n",
        "D:\\Data\\GPCP_tif_clip_clip//gpcp_1dd_v1.2_p1d.20110215.tif"
       ]
      },
      {
       "output_type": "stream",
       "stream": "stdout",
       "text": [
        "\n",
        "D:\\Data\\GPCP_tif_clip_clip//gpcp_1dd_v1.2_p1d.20110216.tif"
       ]
      },
      {
       "output_type": "stream",
       "stream": "stdout",
       "text": [
        "\n",
        "D:\\Data\\GPCP_tif_clip_clip//gpcp_1dd_v1.2_p1d.20110217.tif"
       ]
      },
      {
       "output_type": "stream",
       "stream": "stdout",
       "text": [
        "\n",
        "D:\\Data\\GPCP_tif_clip_clip//gpcp_1dd_v1.2_p1d.20110218.tif"
       ]
      },
      {
       "output_type": "stream",
       "stream": "stdout",
       "text": [
        "\n",
        "D:\\Data\\GPCP_tif_clip_clip//gpcp_1dd_v1.2_p1d.20110219.tif"
       ]
      },
      {
       "output_type": "stream",
       "stream": "stdout",
       "text": [
        "\n",
        "D:\\Data\\GPCP_tif_clip_clip//gpcp_1dd_v1.2_p1d.20110220.tif"
       ]
      },
      {
       "output_type": "stream",
       "stream": "stdout",
       "text": [
        "\n",
        "D:\\Data\\GPCP_tif_clip_clip//gpcp_1dd_v1.2_p1d.20110221.tif"
       ]
      },
      {
       "output_type": "stream",
       "stream": "stdout",
       "text": [
        "\n",
        "D:\\Data\\GPCP_tif_clip_clip//gpcp_1dd_v1.2_p1d.20110222.tif"
       ]
      },
      {
       "output_type": "stream",
       "stream": "stdout",
       "text": [
        "\n",
        "D:\\Data\\GPCP_tif_clip_clip//gpcp_1dd_v1.2_p1d.20110223.tif"
       ]
      },
      {
       "output_type": "stream",
       "stream": "stdout",
       "text": [
        "\n",
        "D:\\Data\\GPCP_tif_clip_clip//gpcp_1dd_v1.2_p1d.20110224.tif"
       ]
      },
      {
       "output_type": "stream",
       "stream": "stdout",
       "text": [
        "\n",
        "D:\\Data\\GPCP_tif_clip_clip//gpcp_1dd_v1.2_p1d.20110225.tif"
       ]
      },
      {
       "output_type": "stream",
       "stream": "stdout",
       "text": [
        "\n",
        "D:\\Data\\GPCP_tif_clip_clip//gpcp_1dd_v1.2_p1d.20110226.tif"
       ]
      },
      {
       "output_type": "stream",
       "stream": "stdout",
       "text": [
        "\n",
        "D:\\Data\\GPCP_tif_clip_clip//gpcp_1dd_v1.2_p1d.20110227.tif"
       ]
      },
      {
       "output_type": "stream",
       "stream": "stdout",
       "text": [
        "\n",
        "D:\\Data\\GPCP_tif_clip_clip//gpcp_1dd_v1.2_p1d.20110300.tif"
       ]
      },
      {
       "output_type": "stream",
       "stream": "stdout",
       "text": [
        "\n",
        "D:\\Data\\GPCP_tif_clip_clip//gpcp_1dd_v1.2_p1d.20110301.tif"
       ]
      },
      {
       "output_type": "stream",
       "stream": "stdout",
       "text": [
        "\n",
        "D:\\Data\\GPCP_tif_clip_clip//gpcp_1dd_v1.2_p1d.20110302.tif"
       ]
      },
      {
       "output_type": "stream",
       "stream": "stdout",
       "text": [
        "\n",
        "D:\\Data\\GPCP_tif_clip_clip//gpcp_1dd_v1.2_p1d.20110303.tif"
       ]
      },
      {
       "output_type": "stream",
       "stream": "stdout",
       "text": [
        "\n",
        "D:\\Data\\GPCP_tif_clip_clip//gpcp_1dd_v1.2_p1d.20110304.tif"
       ]
      },
      {
       "output_type": "stream",
       "stream": "stdout",
       "text": [
        "\n",
        "D:\\Data\\GPCP_tif_clip_clip//gpcp_1dd_v1.2_p1d.20110305.tif"
       ]
      },
      {
       "output_type": "stream",
       "stream": "stdout",
       "text": [
        "\n",
        "D:\\Data\\GPCP_tif_clip_clip//gpcp_1dd_v1.2_p1d.20110306.tif"
       ]
      },
      {
       "output_type": "stream",
       "stream": "stdout",
       "text": [
        "\n",
        "D:\\Data\\GPCP_tif_clip_clip//gpcp_1dd_v1.2_p1d.20110307.tif"
       ]
      },
      {
       "output_type": "stream",
       "stream": "stdout",
       "text": [
        "\n",
        "D:\\Data\\GPCP_tif_clip_clip//gpcp_1dd_v1.2_p1d.20110308.tif"
       ]
      },
      {
       "output_type": "stream",
       "stream": "stdout",
       "text": [
        "\n",
        "D:\\Data\\GPCP_tif_clip_clip//gpcp_1dd_v1.2_p1d.20110309.tif"
       ]
      },
      {
       "output_type": "stream",
       "stream": "stdout",
       "text": [
        "\n",
        "D:\\Data\\GPCP_tif_clip_clip//gpcp_1dd_v1.2_p1d.20110310.tif"
       ]
      },
      {
       "output_type": "stream",
       "stream": "stdout",
       "text": [
        "\n",
        "D:\\Data\\GPCP_tif_clip_clip//gpcp_1dd_v1.2_p1d.20110311.tif"
       ]
      },
      {
       "output_type": "stream",
       "stream": "stdout",
       "text": [
        "\n",
        "D:\\Data\\GPCP_tif_clip_clip//gpcp_1dd_v1.2_p1d.20110312.tif"
       ]
      },
      {
       "output_type": "stream",
       "stream": "stdout",
       "text": [
        "\n",
        "D:\\Data\\GPCP_tif_clip_clip//gpcp_1dd_v1.2_p1d.20110313.tif"
       ]
      },
      {
       "output_type": "stream",
       "stream": "stdout",
       "text": [
        "\n",
        "D:\\Data\\GPCP_tif_clip_clip//gpcp_1dd_v1.2_p1d.20110314.tif"
       ]
      },
      {
       "output_type": "stream",
       "stream": "stdout",
       "text": [
        "\n",
        "D:\\Data\\GPCP_tif_clip_clip//gpcp_1dd_v1.2_p1d.20110315.tif"
       ]
      },
      {
       "output_type": "stream",
       "stream": "stdout",
       "text": [
        "\n",
        "D:\\Data\\GPCP_tif_clip_clip//gpcp_1dd_v1.2_p1d.20110316.tif"
       ]
      },
      {
       "output_type": "stream",
       "stream": "stdout",
       "text": [
        "\n",
        "D:\\Data\\GPCP_tif_clip_clip//gpcp_1dd_v1.2_p1d.20110317.tif"
       ]
      },
      {
       "output_type": "stream",
       "stream": "stdout",
       "text": [
        "\n",
        "D:\\Data\\GPCP_tif_clip_clip//gpcp_1dd_v1.2_p1d.20110318.tif"
       ]
      },
      {
       "output_type": "stream",
       "stream": "stdout",
       "text": [
        "\n",
        "D:\\Data\\GPCP_tif_clip_clip//gpcp_1dd_v1.2_p1d.20110319.tif"
       ]
      },
      {
       "output_type": "stream",
       "stream": "stdout",
       "text": [
        "\n",
        "D:\\Data\\GPCP_tif_clip_clip//gpcp_1dd_v1.2_p1d.20110320.tif"
       ]
      },
      {
       "output_type": "stream",
       "stream": "stdout",
       "text": [
        "\n",
        "D:\\Data\\GPCP_tif_clip_clip//gpcp_1dd_v1.2_p1d.20110321.tif"
       ]
      },
      {
       "output_type": "stream",
       "stream": "stdout",
       "text": [
        "\n",
        "D:\\Data\\GPCP_tif_clip_clip//gpcp_1dd_v1.2_p1d.20110322.tif"
       ]
      },
      {
       "output_type": "stream",
       "stream": "stdout",
       "text": [
        "\n",
        "D:\\Data\\GPCP_tif_clip_clip//gpcp_1dd_v1.2_p1d.20110323.tif"
       ]
      },
      {
       "output_type": "stream",
       "stream": "stdout",
       "text": [
        "\n",
        "D:\\Data\\GPCP_tif_clip_clip//gpcp_1dd_v1.2_p1d.20110324.tif"
       ]
      },
      {
       "output_type": "stream",
       "stream": "stdout",
       "text": [
        "\n",
        "D:\\Data\\GPCP_tif_clip_clip//gpcp_1dd_v1.2_p1d.20110325.tif"
       ]
      },
      {
       "output_type": "stream",
       "stream": "stdout",
       "text": [
        "\n",
        "D:\\Data\\GPCP_tif_clip_clip//gpcp_1dd_v1.2_p1d.20110326.tif"
       ]
      },
      {
       "output_type": "stream",
       "stream": "stdout",
       "text": [
        "\n",
        "D:\\Data\\GPCP_tif_clip_clip//gpcp_1dd_v1.2_p1d.20110327.tif"
       ]
      },
      {
       "output_type": "stream",
       "stream": "stdout",
       "text": [
        "\n",
        "D:\\Data\\GPCP_tif_clip_clip//gpcp_1dd_v1.2_p1d.20110328.tif"
       ]
      },
      {
       "output_type": "stream",
       "stream": "stdout",
       "text": [
        "\n",
        "D:\\Data\\GPCP_tif_clip_clip//gpcp_1dd_v1.2_p1d.20110329.tif"
       ]
      },
      {
       "output_type": "stream",
       "stream": "stdout",
       "text": [
        "\n",
        "D:\\Data\\GPCP_tif_clip_clip//gpcp_1dd_v1.2_p1d.20110330.tif"
       ]
      },
      {
       "output_type": "stream",
       "stream": "stdout",
       "text": [
        "\n",
        "D:\\Data\\GPCP_tif_clip_clip//gpcp_1dd_v1.2_p1d.20110400.tif"
       ]
      },
      {
       "output_type": "stream",
       "stream": "stdout",
       "text": [
        "\n",
        "D:\\Data\\GPCP_tif_clip_clip//gpcp_1dd_v1.2_p1d.20110401.tif"
       ]
      },
      {
       "output_type": "stream",
       "stream": "stdout",
       "text": [
        "\n",
        "D:\\Data\\GPCP_tif_clip_clip//gpcp_1dd_v1.2_p1d.20110402.tif"
       ]
      },
      {
       "output_type": "stream",
       "stream": "stdout",
       "text": [
        "\n",
        "D:\\Data\\GPCP_tif_clip_clip//gpcp_1dd_v1.2_p1d.20110403.tif"
       ]
      },
      {
       "output_type": "stream",
       "stream": "stdout",
       "text": [
        "\n",
        "D:\\Data\\GPCP_tif_clip_clip//gpcp_1dd_v1.2_p1d.20110404.tif"
       ]
      },
      {
       "output_type": "stream",
       "stream": "stdout",
       "text": [
        "\n",
        "D:\\Data\\GPCP_tif_clip_clip//gpcp_1dd_v1.2_p1d.20110405.tif"
       ]
      },
      {
       "output_type": "stream",
       "stream": "stdout",
       "text": [
        "\n",
        "D:\\Data\\GPCP_tif_clip_clip//gpcp_1dd_v1.2_p1d.20110406.tif"
       ]
      },
      {
       "output_type": "stream",
       "stream": "stdout",
       "text": [
        "\n",
        "D:\\Data\\GPCP_tif_clip_clip//gpcp_1dd_v1.2_p1d.20110407.tif"
       ]
      },
      {
       "output_type": "stream",
       "stream": "stdout",
       "text": [
        "\n",
        "D:\\Data\\GPCP_tif_clip_clip//gpcp_1dd_v1.2_p1d.20110408.tif"
       ]
      },
      {
       "output_type": "stream",
       "stream": "stdout",
       "text": [
        "\n",
        "D:\\Data\\GPCP_tif_clip_clip//gpcp_1dd_v1.2_p1d.20110409.tif"
       ]
      },
      {
       "output_type": "stream",
       "stream": "stdout",
       "text": [
        "\n",
        "D:\\Data\\GPCP_tif_clip_clip//gpcp_1dd_v1.2_p1d.20110410.tif"
       ]
      },
      {
       "output_type": "stream",
       "stream": "stdout",
       "text": [
        "\n",
        "D:\\Data\\GPCP_tif_clip_clip//gpcp_1dd_v1.2_p1d.20110411.tif"
       ]
      },
      {
       "output_type": "stream",
       "stream": "stdout",
       "text": [
        "\n",
        "D:\\Data\\GPCP_tif_clip_clip//gpcp_1dd_v1.2_p1d.20110412.tif"
       ]
      },
      {
       "output_type": "stream",
       "stream": "stdout",
       "text": [
        "\n",
        "D:\\Data\\GPCP_tif_clip_clip//gpcp_1dd_v1.2_p1d.20110413.tif"
       ]
      },
      {
       "output_type": "stream",
       "stream": "stdout",
       "text": [
        "\n",
        "D:\\Data\\GPCP_tif_clip_clip//gpcp_1dd_v1.2_p1d.20110414.tif"
       ]
      },
      {
       "output_type": "stream",
       "stream": "stdout",
       "text": [
        "\n",
        "D:\\Data\\GPCP_tif_clip_clip//gpcp_1dd_v1.2_p1d.20110415.tif"
       ]
      },
      {
       "output_type": "stream",
       "stream": "stdout",
       "text": [
        "\n",
        "D:\\Data\\GPCP_tif_clip_clip//gpcp_1dd_v1.2_p1d.20110416.tif"
       ]
      },
      {
       "output_type": "stream",
       "stream": "stdout",
       "text": [
        "\n",
        "D:\\Data\\GPCP_tif_clip_clip//gpcp_1dd_v1.2_p1d.20110417.tif"
       ]
      },
      {
       "output_type": "stream",
       "stream": "stdout",
       "text": [
        "\n",
        "D:\\Data\\GPCP_tif_clip_clip//gpcp_1dd_v1.2_p1d.20110418.tif"
       ]
      },
      {
       "output_type": "stream",
       "stream": "stdout",
       "text": [
        "\n",
        "D:\\Data\\GPCP_tif_clip_clip//gpcp_1dd_v1.2_p1d.20110419.tif"
       ]
      },
      {
       "output_type": "stream",
       "stream": "stdout",
       "text": [
        "\n",
        "D:\\Data\\GPCP_tif_clip_clip//gpcp_1dd_v1.2_p1d.20110420.tif"
       ]
      },
      {
       "output_type": "stream",
       "stream": "stdout",
       "text": [
        "\n",
        "D:\\Data\\GPCP_tif_clip_clip//gpcp_1dd_v1.2_p1d.20110421.tif"
       ]
      },
      {
       "output_type": "stream",
       "stream": "stdout",
       "text": [
        "\n",
        "D:\\Data\\GPCP_tif_clip_clip//gpcp_1dd_v1.2_p1d.20110422.tif"
       ]
      },
      {
       "output_type": "stream",
       "stream": "stdout",
       "text": [
        "\n",
        "D:\\Data\\GPCP_tif_clip_clip//gpcp_1dd_v1.2_p1d.20110423.tif"
       ]
      },
      {
       "output_type": "stream",
       "stream": "stdout",
       "text": [
        "\n",
        "D:\\Data\\GPCP_tif_clip_clip//gpcp_1dd_v1.2_p1d.20110424.tif"
       ]
      },
      {
       "output_type": "stream",
       "stream": "stdout",
       "text": [
        "\n",
        "D:\\Data\\GPCP_tif_clip_clip//gpcp_1dd_v1.2_p1d.20110425.tif"
       ]
      },
      {
       "output_type": "stream",
       "stream": "stdout",
       "text": [
        "\n",
        "D:\\Data\\GPCP_tif_clip_clip//gpcp_1dd_v1.2_p1d.20110426.tif"
       ]
      },
      {
       "output_type": "stream",
       "stream": "stdout",
       "text": [
        "\n",
        "D:\\Data\\GPCP_tif_clip_clip//gpcp_1dd_v1.2_p1d.20110427.tif"
       ]
      },
      {
       "output_type": "stream",
       "stream": "stdout",
       "text": [
        "\n",
        "D:\\Data\\GPCP_tif_clip_clip//gpcp_1dd_v1.2_p1d.20110428.tif"
       ]
      },
      {
       "output_type": "stream",
       "stream": "stdout",
       "text": [
        "\n",
        "D:\\Data\\GPCP_tif_clip_clip//gpcp_1dd_v1.2_p1d.20110429.tif"
       ]
      },
      {
       "output_type": "stream",
       "stream": "stdout",
       "text": [
        "\n",
        "D:\\Data\\GPCP_tif_clip_clip//gpcp_1dd_v1.2_p1d.20110500.tif"
       ]
      },
      {
       "output_type": "stream",
       "stream": "stdout",
       "text": [
        "\n",
        "D:\\Data\\GPCP_tif_clip_clip//gpcp_1dd_v1.2_p1d.20110501.tif"
       ]
      },
      {
       "output_type": "stream",
       "stream": "stdout",
       "text": [
        "\n",
        "D:\\Data\\GPCP_tif_clip_clip//gpcp_1dd_v1.2_p1d.20110502.tif"
       ]
      },
      {
       "output_type": "stream",
       "stream": "stdout",
       "text": [
        "\n",
        "D:\\Data\\GPCP_tif_clip_clip//gpcp_1dd_v1.2_p1d.20110503.tif"
       ]
      },
      {
       "output_type": "stream",
       "stream": "stdout",
       "text": [
        "\n",
        "D:\\Data\\GPCP_tif_clip_clip//gpcp_1dd_v1.2_p1d.20110504.tif"
       ]
      },
      {
       "output_type": "stream",
       "stream": "stdout",
       "text": [
        "\n",
        "D:\\Data\\GPCP_tif_clip_clip//gpcp_1dd_v1.2_p1d.20110505.tif"
       ]
      },
      {
       "output_type": "stream",
       "stream": "stdout",
       "text": [
        "\n",
        "D:\\Data\\GPCP_tif_clip_clip//gpcp_1dd_v1.2_p1d.20110506.tif"
       ]
      },
      {
       "output_type": "stream",
       "stream": "stdout",
       "text": [
        "\n",
        "D:\\Data\\GPCP_tif_clip_clip//gpcp_1dd_v1.2_p1d.20110507.tif"
       ]
      },
      {
       "output_type": "stream",
       "stream": "stdout",
       "text": [
        "\n",
        "D:\\Data\\GPCP_tif_clip_clip//gpcp_1dd_v1.2_p1d.20110508.tif"
       ]
      },
      {
       "output_type": "stream",
       "stream": "stdout",
       "text": [
        "\n",
        "D:\\Data\\GPCP_tif_clip_clip//gpcp_1dd_v1.2_p1d.20110509.tif"
       ]
      },
      {
       "output_type": "stream",
       "stream": "stdout",
       "text": [
        "\n",
        "D:\\Data\\GPCP_tif_clip_clip//gpcp_1dd_v1.2_p1d.20110510.tif"
       ]
      },
      {
       "output_type": "stream",
       "stream": "stdout",
       "text": [
        "\n",
        "D:\\Data\\GPCP_tif_clip_clip//gpcp_1dd_v1.2_p1d.20110511.tif"
       ]
      },
      {
       "output_type": "stream",
       "stream": "stdout",
       "text": [
        "\n",
        "D:\\Data\\GPCP_tif_clip_clip//gpcp_1dd_v1.2_p1d.20110512.tif"
       ]
      },
      {
       "output_type": "stream",
       "stream": "stdout",
       "text": [
        "\n",
        "D:\\Data\\GPCP_tif_clip_clip//gpcp_1dd_v1.2_p1d.20110513.tif"
       ]
      },
      {
       "output_type": "stream",
       "stream": "stdout",
       "text": [
        "\n",
        "D:\\Data\\GPCP_tif_clip_clip//gpcp_1dd_v1.2_p1d.20110514.tif"
       ]
      },
      {
       "output_type": "stream",
       "stream": "stdout",
       "text": [
        "\n",
        "D:\\Data\\GPCP_tif_clip_clip//gpcp_1dd_v1.2_p1d.20110515.tif"
       ]
      },
      {
       "output_type": "stream",
       "stream": "stdout",
       "text": [
        "\n",
        "D:\\Data\\GPCP_tif_clip_clip//gpcp_1dd_v1.2_p1d.20110516.tif"
       ]
      },
      {
       "output_type": "stream",
       "stream": "stdout",
       "text": [
        "\n",
        "D:\\Data\\GPCP_tif_clip_clip//gpcp_1dd_v1.2_p1d.20110517.tif"
       ]
      },
      {
       "output_type": "stream",
       "stream": "stdout",
       "text": [
        "\n",
        "D:\\Data\\GPCP_tif_clip_clip//gpcp_1dd_v1.2_p1d.20110518.tif"
       ]
      },
      {
       "output_type": "stream",
       "stream": "stdout",
       "text": [
        "\n",
        "D:\\Data\\GPCP_tif_clip_clip//gpcp_1dd_v1.2_p1d.20110519.tif"
       ]
      },
      {
       "output_type": "stream",
       "stream": "stdout",
       "text": [
        "\n",
        "D:\\Data\\GPCP_tif_clip_clip//gpcp_1dd_v1.2_p1d.20110520.tif"
       ]
      },
      {
       "output_type": "stream",
       "stream": "stdout",
       "text": [
        "\n",
        "D:\\Data\\GPCP_tif_clip_clip//gpcp_1dd_v1.2_p1d.20110521.tif"
       ]
      },
      {
       "output_type": "stream",
       "stream": "stdout",
       "text": [
        "\n",
        "D:\\Data\\GPCP_tif_clip_clip//gpcp_1dd_v1.2_p1d.20110522.tif"
       ]
      },
      {
       "output_type": "stream",
       "stream": "stdout",
       "text": [
        "\n",
        "D:\\Data\\GPCP_tif_clip_clip//gpcp_1dd_v1.2_p1d.20110523.tif"
       ]
      },
      {
       "output_type": "stream",
       "stream": "stdout",
       "text": [
        "\n",
        "D:\\Data\\GPCP_tif_clip_clip//gpcp_1dd_v1.2_p1d.20110524.tif"
       ]
      },
      {
       "output_type": "stream",
       "stream": "stdout",
       "text": [
        "\n",
        "D:\\Data\\GPCP_tif_clip_clip//gpcp_1dd_v1.2_p1d.20110525.tif"
       ]
      },
      {
       "output_type": "stream",
       "stream": "stdout",
       "text": [
        "\n",
        "D:\\Data\\GPCP_tif_clip_clip//gpcp_1dd_v1.2_p1d.20110526.tif"
       ]
      },
      {
       "output_type": "stream",
       "stream": "stdout",
       "text": [
        "\n",
        "D:\\Data\\GPCP_tif_clip_clip//gpcp_1dd_v1.2_p1d.20110527.tif"
       ]
      },
      {
       "output_type": "stream",
       "stream": "stdout",
       "text": [
        "\n",
        "D:\\Data\\GPCP_tif_clip_clip//gpcp_1dd_v1.2_p1d.20110528.tif"
       ]
      },
      {
       "output_type": "stream",
       "stream": "stdout",
       "text": [
        "\n",
        "D:\\Data\\GPCP_tif_clip_clip//gpcp_1dd_v1.2_p1d.20110529.tif"
       ]
      },
      {
       "output_type": "stream",
       "stream": "stdout",
       "text": [
        "\n",
        "D:\\Data\\GPCP_tif_clip_clip//gpcp_1dd_v1.2_p1d.20110530.tif"
       ]
      },
      {
       "output_type": "stream",
       "stream": "stdout",
       "text": [
        "\n",
        "D:\\Data\\GPCP_tif_clip_clip//gpcp_1dd_v1.2_p1d.20110600.tif"
       ]
      },
      {
       "output_type": "stream",
       "stream": "stdout",
       "text": [
        "\n",
        "D:\\Data\\GPCP_tif_clip_clip//gpcp_1dd_v1.2_p1d.20110601.tif"
       ]
      },
      {
       "output_type": "stream",
       "stream": "stdout",
       "text": [
        "\n",
        "D:\\Data\\GPCP_tif_clip_clip//gpcp_1dd_v1.2_p1d.20110602.tif"
       ]
      },
      {
       "output_type": "stream",
       "stream": "stdout",
       "text": [
        "\n",
        "D:\\Data\\GPCP_tif_clip_clip//gpcp_1dd_v1.2_p1d.20110603.tif"
       ]
      },
      {
       "output_type": "stream",
       "stream": "stdout",
       "text": [
        "\n",
        "D:\\Data\\GPCP_tif_clip_clip//gpcp_1dd_v1.2_p1d.20110604.tif"
       ]
      },
      {
       "output_type": "stream",
       "stream": "stdout",
       "text": [
        "\n",
        "D:\\Data\\GPCP_tif_clip_clip//gpcp_1dd_v1.2_p1d.20110605.tif"
       ]
      },
      {
       "output_type": "stream",
       "stream": "stdout",
       "text": [
        "\n",
        "D:\\Data\\GPCP_tif_clip_clip//gpcp_1dd_v1.2_p1d.20110606.tif"
       ]
      },
      {
       "output_type": "stream",
       "stream": "stdout",
       "text": [
        "\n",
        "D:\\Data\\GPCP_tif_clip_clip//gpcp_1dd_v1.2_p1d.20110607.tif"
       ]
      },
      {
       "output_type": "stream",
       "stream": "stdout",
       "text": [
        "\n",
        "D:\\Data\\GPCP_tif_clip_clip//gpcp_1dd_v1.2_p1d.20110608.tif"
       ]
      },
      {
       "output_type": "stream",
       "stream": "stdout",
       "text": [
        "\n",
        "D:\\Data\\GPCP_tif_clip_clip//gpcp_1dd_v1.2_p1d.20110609.tif"
       ]
      },
      {
       "output_type": "stream",
       "stream": "stdout",
       "text": [
        "\n",
        "D:\\Data\\GPCP_tif_clip_clip//gpcp_1dd_v1.2_p1d.20110610.tif"
       ]
      },
      {
       "output_type": "stream",
       "stream": "stdout",
       "text": [
        "\n",
        "D:\\Data\\GPCP_tif_clip_clip//gpcp_1dd_v1.2_p1d.20110611.tif"
       ]
      },
      {
       "output_type": "stream",
       "stream": "stdout",
       "text": [
        "\n",
        "D:\\Data\\GPCP_tif_clip_clip//gpcp_1dd_v1.2_p1d.20110612.tif"
       ]
      },
      {
       "output_type": "stream",
       "stream": "stdout",
       "text": [
        "\n",
        "D:\\Data\\GPCP_tif_clip_clip//gpcp_1dd_v1.2_p1d.20110613.tif"
       ]
      },
      {
       "output_type": "stream",
       "stream": "stdout",
       "text": [
        "\n",
        "D:\\Data\\GPCP_tif_clip_clip//gpcp_1dd_v1.2_p1d.20110614.tif"
       ]
      },
      {
       "output_type": "stream",
       "stream": "stdout",
       "text": [
        "\n",
        "D:\\Data\\GPCP_tif_clip_clip//gpcp_1dd_v1.2_p1d.20110615.tif"
       ]
      },
      {
       "output_type": "stream",
       "stream": "stdout",
       "text": [
        "\n",
        "D:\\Data\\GPCP_tif_clip_clip//gpcp_1dd_v1.2_p1d.20110616.tif"
       ]
      },
      {
       "output_type": "stream",
       "stream": "stdout",
       "text": [
        "\n",
        "D:\\Data\\GPCP_tif_clip_clip//gpcp_1dd_v1.2_p1d.20110617.tif"
       ]
      },
      {
       "output_type": "stream",
       "stream": "stdout",
       "text": [
        "\n",
        "D:\\Data\\GPCP_tif_clip_clip//gpcp_1dd_v1.2_p1d.20110618.tif"
       ]
      },
      {
       "output_type": "stream",
       "stream": "stdout",
       "text": [
        "\n",
        "D:\\Data\\GPCP_tif_clip_clip//gpcp_1dd_v1.2_p1d.20110619.tif"
       ]
      },
      {
       "output_type": "stream",
       "stream": "stdout",
       "text": [
        "\n",
        "D:\\Data\\GPCP_tif_clip_clip//gpcp_1dd_v1.2_p1d.20110620.tif"
       ]
      },
      {
       "output_type": "stream",
       "stream": "stdout",
       "text": [
        "\n",
        "D:\\Data\\GPCP_tif_clip_clip//gpcp_1dd_v1.2_p1d.20110621.tif"
       ]
      },
      {
       "output_type": "stream",
       "stream": "stdout",
       "text": [
        "\n",
        "D:\\Data\\GPCP_tif_clip_clip//gpcp_1dd_v1.2_p1d.20110622.tif"
       ]
      },
      {
       "output_type": "stream",
       "stream": "stdout",
       "text": [
        "\n",
        "D:\\Data\\GPCP_tif_clip_clip//gpcp_1dd_v1.2_p1d.20110623.tif"
       ]
      },
      {
       "output_type": "stream",
       "stream": "stdout",
       "text": [
        "\n",
        "D:\\Data\\GPCP_tif_clip_clip//gpcp_1dd_v1.2_p1d.20110624.tif"
       ]
      },
      {
       "output_type": "stream",
       "stream": "stdout",
       "text": [
        "\n",
        "D:\\Data\\GPCP_tif_clip_clip//gpcp_1dd_v1.2_p1d.20110625.tif"
       ]
      },
      {
       "output_type": "stream",
       "stream": "stdout",
       "text": [
        "\n",
        "D:\\Data\\GPCP_tif_clip_clip//gpcp_1dd_v1.2_p1d.20110626.tif"
       ]
      },
      {
       "output_type": "stream",
       "stream": "stdout",
       "text": [
        "\n",
        "D:\\Data\\GPCP_tif_clip_clip//gpcp_1dd_v1.2_p1d.20110627.tif"
       ]
      },
      {
       "output_type": "stream",
       "stream": "stdout",
       "text": [
        "\n",
        "D:\\Data\\GPCP_tif_clip_clip//gpcp_1dd_v1.2_p1d.20110628.tif"
       ]
      },
      {
       "output_type": "stream",
       "stream": "stdout",
       "text": [
        "\n",
        "D:\\Data\\GPCP_tif_clip_clip//gpcp_1dd_v1.2_p1d.20110629.tif"
       ]
      },
      {
       "output_type": "stream",
       "stream": "stdout",
       "text": [
        "\n",
        "D:\\Data\\GPCP_tif_clip_clip//gpcp_1dd_v1.2_p1d.20110700.tif"
       ]
      },
      {
       "output_type": "stream",
       "stream": "stdout",
       "text": [
        "\n",
        "D:\\Data\\GPCP_tif_clip_clip//gpcp_1dd_v1.2_p1d.20110701.tif"
       ]
      },
      {
       "output_type": "stream",
       "stream": "stdout",
       "text": [
        "\n",
        "D:\\Data\\GPCP_tif_clip_clip//gpcp_1dd_v1.2_p1d.20110702.tif"
       ]
      },
      {
       "output_type": "stream",
       "stream": "stdout",
       "text": [
        "\n",
        "D:\\Data\\GPCP_tif_clip_clip//gpcp_1dd_v1.2_p1d.20110703.tif"
       ]
      },
      {
       "output_type": "stream",
       "stream": "stdout",
       "text": [
        "\n",
        "D:\\Data\\GPCP_tif_clip_clip//gpcp_1dd_v1.2_p1d.20110704.tif"
       ]
      },
      {
       "output_type": "stream",
       "stream": "stdout",
       "text": [
        "\n",
        "D:\\Data\\GPCP_tif_clip_clip//gpcp_1dd_v1.2_p1d.20110705.tif"
       ]
      },
      {
       "output_type": "stream",
       "stream": "stdout",
       "text": [
        "\n",
        "D:\\Data\\GPCP_tif_clip_clip//gpcp_1dd_v1.2_p1d.20110706.tif"
       ]
      },
      {
       "output_type": "stream",
       "stream": "stdout",
       "text": [
        "\n",
        "D:\\Data\\GPCP_tif_clip_clip//gpcp_1dd_v1.2_p1d.20110707.tif"
       ]
      },
      {
       "output_type": "stream",
       "stream": "stdout",
       "text": [
        "\n",
        "D:\\Data\\GPCP_tif_clip_clip//gpcp_1dd_v1.2_p1d.20110708.tif"
       ]
      },
      {
       "output_type": "stream",
       "stream": "stdout",
       "text": [
        "\n",
        "D:\\Data\\GPCP_tif_clip_clip//gpcp_1dd_v1.2_p1d.20110709.tif"
       ]
      },
      {
       "output_type": "stream",
       "stream": "stdout",
       "text": [
        "\n",
        "D:\\Data\\GPCP_tif_clip_clip//gpcp_1dd_v1.2_p1d.20110710.tif"
       ]
      },
      {
       "output_type": "stream",
       "stream": "stdout",
       "text": [
        "\n",
        "D:\\Data\\GPCP_tif_clip_clip//gpcp_1dd_v1.2_p1d.20110711.tif"
       ]
      },
      {
       "output_type": "stream",
       "stream": "stdout",
       "text": [
        "\n",
        "D:\\Data\\GPCP_tif_clip_clip//gpcp_1dd_v1.2_p1d.20110712.tif"
       ]
      },
      {
       "output_type": "stream",
       "stream": "stdout",
       "text": [
        "\n",
        "D:\\Data\\GPCP_tif_clip_clip//gpcp_1dd_v1.2_p1d.20110713.tif"
       ]
      },
      {
       "output_type": "stream",
       "stream": "stdout",
       "text": [
        "\n",
        "D:\\Data\\GPCP_tif_clip_clip//gpcp_1dd_v1.2_p1d.20110714.tif"
       ]
      },
      {
       "output_type": "stream",
       "stream": "stdout",
       "text": [
        "\n",
        "D:\\Data\\GPCP_tif_clip_clip//gpcp_1dd_v1.2_p1d.20110715.tif"
       ]
      },
      {
       "output_type": "stream",
       "stream": "stdout",
       "text": [
        "\n",
        "D:\\Data\\GPCP_tif_clip_clip//gpcp_1dd_v1.2_p1d.20110716.tif"
       ]
      },
      {
       "output_type": "stream",
       "stream": "stdout",
       "text": [
        "\n",
        "D:\\Data\\GPCP_tif_clip_clip//gpcp_1dd_v1.2_p1d.20110717.tif"
       ]
      },
      {
       "output_type": "stream",
       "stream": "stdout",
       "text": [
        "\n",
        "D:\\Data\\GPCP_tif_clip_clip//gpcp_1dd_v1.2_p1d.20110718.tif"
       ]
      },
      {
       "output_type": "stream",
       "stream": "stdout",
       "text": [
        "\n",
        "D:\\Data\\GPCP_tif_clip_clip//gpcp_1dd_v1.2_p1d.20110719.tif"
       ]
      },
      {
       "output_type": "stream",
       "stream": "stdout",
       "text": [
        "\n",
        "D:\\Data\\GPCP_tif_clip_clip//gpcp_1dd_v1.2_p1d.20110720.tif"
       ]
      },
      {
       "output_type": "stream",
       "stream": "stdout",
       "text": [
        "\n",
        "D:\\Data\\GPCP_tif_clip_clip//gpcp_1dd_v1.2_p1d.20110721.tif"
       ]
      },
      {
       "output_type": "stream",
       "stream": "stdout",
       "text": [
        "\n",
        "D:\\Data\\GPCP_tif_clip_clip//gpcp_1dd_v1.2_p1d.20110722.tif"
       ]
      },
      {
       "output_type": "stream",
       "stream": "stdout",
       "text": [
        "\n",
        "D:\\Data\\GPCP_tif_clip_clip//gpcp_1dd_v1.2_p1d.20110723.tif"
       ]
      },
      {
       "output_type": "stream",
       "stream": "stdout",
       "text": [
        "\n",
        "D:\\Data\\GPCP_tif_clip_clip//gpcp_1dd_v1.2_p1d.20110724.tif"
       ]
      },
      {
       "output_type": "stream",
       "stream": "stdout",
       "text": [
        "\n",
        "D:\\Data\\GPCP_tif_clip_clip//gpcp_1dd_v1.2_p1d.20110725.tif"
       ]
      },
      {
       "output_type": "stream",
       "stream": "stdout",
       "text": [
        "\n",
        "D:\\Data\\GPCP_tif_clip_clip//gpcp_1dd_v1.2_p1d.20110726.tif"
       ]
      },
      {
       "output_type": "stream",
       "stream": "stdout",
       "text": [
        "\n",
        "D:\\Data\\GPCP_tif_clip_clip//gpcp_1dd_v1.2_p1d.20110727.tif"
       ]
      },
      {
       "output_type": "stream",
       "stream": "stdout",
       "text": [
        "\n",
        "D:\\Data\\GPCP_tif_clip_clip//gpcp_1dd_v1.2_p1d.20110728.tif"
       ]
      },
      {
       "output_type": "stream",
       "stream": "stdout",
       "text": [
        "\n",
        "D:\\Data\\GPCP_tif_clip_clip//gpcp_1dd_v1.2_p1d.20110729.tif"
       ]
      },
      {
       "output_type": "stream",
       "stream": "stdout",
       "text": [
        "\n",
        "D:\\Data\\GPCP_tif_clip_clip//gpcp_1dd_v1.2_p1d.20110730.tif"
       ]
      },
      {
       "output_type": "stream",
       "stream": "stdout",
       "text": [
        "\n",
        "D:\\Data\\GPCP_tif_clip_clip//gpcp_1dd_v1.2_p1d.20110800.tif"
       ]
      },
      {
       "output_type": "stream",
       "stream": "stdout",
       "text": [
        "\n",
        "D:\\Data\\GPCP_tif_clip_clip//gpcp_1dd_v1.2_p1d.20110801.tif"
       ]
      },
      {
       "output_type": "stream",
       "stream": "stdout",
       "text": [
        "\n",
        "D:\\Data\\GPCP_tif_clip_clip//gpcp_1dd_v1.2_p1d.20110802.tif"
       ]
      },
      {
       "output_type": "stream",
       "stream": "stdout",
       "text": [
        "\n",
        "D:\\Data\\GPCP_tif_clip_clip//gpcp_1dd_v1.2_p1d.20110803.tif"
       ]
      },
      {
       "output_type": "stream",
       "stream": "stdout",
       "text": [
        "\n",
        "D:\\Data\\GPCP_tif_clip_clip//gpcp_1dd_v1.2_p1d.20110804.tif"
       ]
      },
      {
       "output_type": "stream",
       "stream": "stdout",
       "text": [
        "\n",
        "D:\\Data\\GPCP_tif_clip_clip//gpcp_1dd_v1.2_p1d.20110805.tif"
       ]
      },
      {
       "output_type": "stream",
       "stream": "stdout",
       "text": [
        "\n",
        "D:\\Data\\GPCP_tif_clip_clip//gpcp_1dd_v1.2_p1d.20110806.tif"
       ]
      },
      {
       "output_type": "stream",
       "stream": "stdout",
       "text": [
        "\n",
        "D:\\Data\\GPCP_tif_clip_clip//gpcp_1dd_v1.2_p1d.20110807.tif"
       ]
      },
      {
       "output_type": "stream",
       "stream": "stdout",
       "text": [
        "\n",
        "D:\\Data\\GPCP_tif_clip_clip//gpcp_1dd_v1.2_p1d.20110808.tif"
       ]
      },
      {
       "output_type": "stream",
       "stream": "stdout",
       "text": [
        "\n",
        "D:\\Data\\GPCP_tif_clip_clip//gpcp_1dd_v1.2_p1d.20110809.tif"
       ]
      },
      {
       "output_type": "stream",
       "stream": "stdout",
       "text": [
        "\n",
        "D:\\Data\\GPCP_tif_clip_clip//gpcp_1dd_v1.2_p1d.20110810.tif"
       ]
      },
      {
       "output_type": "stream",
       "stream": "stdout",
       "text": [
        "\n",
        "D:\\Data\\GPCP_tif_clip_clip//gpcp_1dd_v1.2_p1d.20110811.tif"
       ]
      },
      {
       "output_type": "stream",
       "stream": "stdout",
       "text": [
        "\n",
        "D:\\Data\\GPCP_tif_clip_clip//gpcp_1dd_v1.2_p1d.20110812.tif"
       ]
      },
      {
       "output_type": "stream",
       "stream": "stdout",
       "text": [
        "\n",
        "D:\\Data\\GPCP_tif_clip_clip//gpcp_1dd_v1.2_p1d.20110813.tif"
       ]
      },
      {
       "output_type": "stream",
       "stream": "stdout",
       "text": [
        "\n",
        "D:\\Data\\GPCP_tif_clip_clip//gpcp_1dd_v1.2_p1d.20110814.tif"
       ]
      },
      {
       "output_type": "stream",
       "stream": "stdout",
       "text": [
        "\n",
        "D:\\Data\\GPCP_tif_clip_clip//gpcp_1dd_v1.2_p1d.20110815.tif"
       ]
      },
      {
       "output_type": "stream",
       "stream": "stdout",
       "text": [
        "\n",
        "D:\\Data\\GPCP_tif_clip_clip//gpcp_1dd_v1.2_p1d.20110816.tif"
       ]
      },
      {
       "output_type": "stream",
       "stream": "stdout",
       "text": [
        "\n",
        "D:\\Data\\GPCP_tif_clip_clip//gpcp_1dd_v1.2_p1d.20110817.tif"
       ]
      },
      {
       "output_type": "stream",
       "stream": "stdout",
       "text": [
        "\n",
        "D:\\Data\\GPCP_tif_clip_clip//gpcp_1dd_v1.2_p1d.20110818.tif"
       ]
      },
      {
       "output_type": "stream",
       "stream": "stdout",
       "text": [
        "\n",
        "D:\\Data\\GPCP_tif_clip_clip//gpcp_1dd_v1.2_p1d.20110819.tif"
       ]
      },
      {
       "output_type": "stream",
       "stream": "stdout",
       "text": [
        "\n",
        "D:\\Data\\GPCP_tif_clip_clip//gpcp_1dd_v1.2_p1d.20110820.tif"
       ]
      },
      {
       "output_type": "stream",
       "stream": "stdout",
       "text": [
        "\n",
        "D:\\Data\\GPCP_tif_clip_clip//gpcp_1dd_v1.2_p1d.20110821.tif"
       ]
      },
      {
       "output_type": "stream",
       "stream": "stdout",
       "text": [
        "\n",
        "D:\\Data\\GPCP_tif_clip_clip//gpcp_1dd_v1.2_p1d.20110822.tif"
       ]
      },
      {
       "output_type": "stream",
       "stream": "stdout",
       "text": [
        "\n",
        "D:\\Data\\GPCP_tif_clip_clip//gpcp_1dd_v1.2_p1d.20110823.tif"
       ]
      },
      {
       "output_type": "stream",
       "stream": "stdout",
       "text": [
        "\n",
        "D:\\Data\\GPCP_tif_clip_clip//gpcp_1dd_v1.2_p1d.20110824.tif"
       ]
      },
      {
       "output_type": "stream",
       "stream": "stdout",
       "text": [
        "\n",
        "D:\\Data\\GPCP_tif_clip_clip//gpcp_1dd_v1.2_p1d.20110825.tif"
       ]
      },
      {
       "output_type": "stream",
       "stream": "stdout",
       "text": [
        "\n",
        "D:\\Data\\GPCP_tif_clip_clip//gpcp_1dd_v1.2_p1d.20110826.tif"
       ]
      },
      {
       "output_type": "stream",
       "stream": "stdout",
       "text": [
        "\n",
        "D:\\Data\\GPCP_tif_clip_clip//gpcp_1dd_v1.2_p1d.20110827.tif"
       ]
      },
      {
       "output_type": "stream",
       "stream": "stdout",
       "text": [
        "\n",
        "D:\\Data\\GPCP_tif_clip_clip//gpcp_1dd_v1.2_p1d.20110828.tif"
       ]
      },
      {
       "output_type": "stream",
       "stream": "stdout",
       "text": [
        "\n",
        "D:\\Data\\GPCP_tif_clip_clip//gpcp_1dd_v1.2_p1d.20110829.tif"
       ]
      },
      {
       "output_type": "stream",
       "stream": "stdout",
       "text": [
        "\n",
        "D:\\Data\\GPCP_tif_clip_clip//gpcp_1dd_v1.2_p1d.20110830.tif"
       ]
      },
      {
       "output_type": "stream",
       "stream": "stdout",
       "text": [
        "\n",
        "D:\\Data\\GPCP_tif_clip_clip//gpcp_1dd_v1.2_p1d.20110900.tif"
       ]
      },
      {
       "output_type": "stream",
       "stream": "stdout",
       "text": [
        "\n",
        "D:\\Data\\GPCP_tif_clip_clip//gpcp_1dd_v1.2_p1d.20110901.tif"
       ]
      },
      {
       "output_type": "stream",
       "stream": "stdout",
       "text": [
        "\n",
        "D:\\Data\\GPCP_tif_clip_clip//gpcp_1dd_v1.2_p1d.20110902.tif"
       ]
      },
      {
       "output_type": "stream",
       "stream": "stdout",
       "text": [
        "\n",
        "D:\\Data\\GPCP_tif_clip_clip//gpcp_1dd_v1.2_p1d.20110903.tif"
       ]
      },
      {
       "output_type": "stream",
       "stream": "stdout",
       "text": [
        "\n",
        "D:\\Data\\GPCP_tif_clip_clip//gpcp_1dd_v1.2_p1d.20110904.tif"
       ]
      },
      {
       "output_type": "stream",
       "stream": "stdout",
       "text": [
        "\n",
        "D:\\Data\\GPCP_tif_clip_clip//gpcp_1dd_v1.2_p1d.20110905.tif"
       ]
      },
      {
       "output_type": "stream",
       "stream": "stdout",
       "text": [
        "\n",
        "D:\\Data\\GPCP_tif_clip_clip//gpcp_1dd_v1.2_p1d.20110906.tif"
       ]
      },
      {
       "output_type": "stream",
       "stream": "stdout",
       "text": [
        "\n",
        "D:\\Data\\GPCP_tif_clip_clip//gpcp_1dd_v1.2_p1d.20110907.tif"
       ]
      },
      {
       "output_type": "stream",
       "stream": "stdout",
       "text": [
        "\n",
        "D:\\Data\\GPCP_tif_clip_clip//gpcp_1dd_v1.2_p1d.20110908.tif"
       ]
      },
      {
       "output_type": "stream",
       "stream": "stdout",
       "text": [
        "\n",
        "D:\\Data\\GPCP_tif_clip_clip//gpcp_1dd_v1.2_p1d.20110909.tif"
       ]
      },
      {
       "output_type": "stream",
       "stream": "stdout",
       "text": [
        "\n",
        "D:\\Data\\GPCP_tif_clip_clip//gpcp_1dd_v1.2_p1d.20110910.tif"
       ]
      },
      {
       "output_type": "stream",
       "stream": "stdout",
       "text": [
        "\n",
        "D:\\Data\\GPCP_tif_clip_clip//gpcp_1dd_v1.2_p1d.20110911.tif"
       ]
      },
      {
       "output_type": "stream",
       "stream": "stdout",
       "text": [
        "\n",
        "D:\\Data\\GPCP_tif_clip_clip//gpcp_1dd_v1.2_p1d.20110912.tif"
       ]
      },
      {
       "output_type": "stream",
       "stream": "stdout",
       "text": [
        "\n",
        "D:\\Data\\GPCP_tif_clip_clip//gpcp_1dd_v1.2_p1d.20110913.tif"
       ]
      },
      {
       "output_type": "stream",
       "stream": "stdout",
       "text": [
        "\n",
        "D:\\Data\\GPCP_tif_clip_clip//gpcp_1dd_v1.2_p1d.20110914.tif"
       ]
      },
      {
       "output_type": "stream",
       "stream": "stdout",
       "text": [
        "\n",
        "D:\\Data\\GPCP_tif_clip_clip//gpcp_1dd_v1.2_p1d.20110915.tif"
       ]
      },
      {
       "output_type": "stream",
       "stream": "stdout",
       "text": [
        "\n",
        "D:\\Data\\GPCP_tif_clip_clip//gpcp_1dd_v1.2_p1d.20110916.tif"
       ]
      },
      {
       "output_type": "stream",
       "stream": "stdout",
       "text": [
        "\n",
        "D:\\Data\\GPCP_tif_clip_clip//gpcp_1dd_v1.2_p1d.20110917.tif"
       ]
      },
      {
       "output_type": "stream",
       "stream": "stdout",
       "text": [
        "\n",
        "D:\\Data\\GPCP_tif_clip_clip//gpcp_1dd_v1.2_p1d.20110918.tif"
       ]
      },
      {
       "output_type": "stream",
       "stream": "stdout",
       "text": [
        "\n",
        "D:\\Data\\GPCP_tif_clip_clip//gpcp_1dd_v1.2_p1d.20110919.tif"
       ]
      },
      {
       "output_type": "stream",
       "stream": "stdout",
       "text": [
        "\n",
        "D:\\Data\\GPCP_tif_clip_clip//gpcp_1dd_v1.2_p1d.20110920.tif"
       ]
      },
      {
       "output_type": "stream",
       "stream": "stdout",
       "text": [
        "\n",
        "D:\\Data\\GPCP_tif_clip_clip//gpcp_1dd_v1.2_p1d.20110921.tif"
       ]
      },
      {
       "output_type": "stream",
       "stream": "stdout",
       "text": [
        "\n",
        "D:\\Data\\GPCP_tif_clip_clip//gpcp_1dd_v1.2_p1d.20110922.tif"
       ]
      },
      {
       "output_type": "stream",
       "stream": "stdout",
       "text": [
        "\n",
        "D:\\Data\\GPCP_tif_clip_clip//gpcp_1dd_v1.2_p1d.20110923.tif"
       ]
      },
      {
       "output_type": "stream",
       "stream": "stdout",
       "text": [
        "\n",
        "D:\\Data\\GPCP_tif_clip_clip//gpcp_1dd_v1.2_p1d.20110924.tif"
       ]
      },
      {
       "output_type": "stream",
       "stream": "stdout",
       "text": [
        "\n",
        "D:\\Data\\GPCP_tif_clip_clip//gpcp_1dd_v1.2_p1d.20110925.tif"
       ]
      },
      {
       "output_type": "stream",
       "stream": "stdout",
       "text": [
        "\n",
        "D:\\Data\\GPCP_tif_clip_clip//gpcp_1dd_v1.2_p1d.20110926.tif"
       ]
      },
      {
       "output_type": "stream",
       "stream": "stdout",
       "text": [
        "\n",
        "D:\\Data\\GPCP_tif_clip_clip//gpcp_1dd_v1.2_p1d.20110927.tif"
       ]
      },
      {
       "output_type": "stream",
       "stream": "stdout",
       "text": [
        "\n",
        "D:\\Data\\GPCP_tif_clip_clip//gpcp_1dd_v1.2_p1d.20110928.tif"
       ]
      },
      {
       "output_type": "stream",
       "stream": "stdout",
       "text": [
        "\n",
        "D:\\Data\\GPCP_tif_clip_clip//gpcp_1dd_v1.2_p1d.20110929.tif"
       ]
      },
      {
       "output_type": "stream",
       "stream": "stdout",
       "text": [
        "\n",
        "D:\\Data\\GPCP_tif_clip_clip//gpcp_1dd_v1.2_p1d.20111000.tif"
       ]
      },
      {
       "output_type": "stream",
       "stream": "stdout",
       "text": [
        "\n",
        "D:\\Data\\GPCP_tif_clip_clip//gpcp_1dd_v1.2_p1d.20111001.tif"
       ]
      },
      {
       "output_type": "stream",
       "stream": "stdout",
       "text": [
        "\n",
        "D:\\Data\\GPCP_tif_clip_clip//gpcp_1dd_v1.2_p1d.20111002.tif"
       ]
      },
      {
       "output_type": "stream",
       "stream": "stdout",
       "text": [
        "\n",
        "D:\\Data\\GPCP_tif_clip_clip//gpcp_1dd_v1.2_p1d.20111003.tif"
       ]
      },
      {
       "output_type": "stream",
       "stream": "stdout",
       "text": [
        "\n",
        "D:\\Data\\GPCP_tif_clip_clip//gpcp_1dd_v1.2_p1d.20111004.tif"
       ]
      },
      {
       "output_type": "stream",
       "stream": "stdout",
       "text": [
        "\n",
        "D:\\Data\\GPCP_tif_clip_clip//gpcp_1dd_v1.2_p1d.20111005.tif"
       ]
      },
      {
       "output_type": "stream",
       "stream": "stdout",
       "text": [
        "\n",
        "D:\\Data\\GPCP_tif_clip_clip//gpcp_1dd_v1.2_p1d.20111006.tif"
       ]
      },
      {
       "output_type": "stream",
       "stream": "stdout",
       "text": [
        "\n",
        "D:\\Data\\GPCP_tif_clip_clip//gpcp_1dd_v1.2_p1d.20111007.tif"
       ]
      },
      {
       "output_type": "stream",
       "stream": "stdout",
       "text": [
        "\n",
        "D:\\Data\\GPCP_tif_clip_clip//gpcp_1dd_v1.2_p1d.20111008.tif"
       ]
      },
      {
       "output_type": "stream",
       "stream": "stdout",
       "text": [
        "\n",
        "D:\\Data\\GPCP_tif_clip_clip//gpcp_1dd_v1.2_p1d.20111009.tif"
       ]
      },
      {
       "output_type": "stream",
       "stream": "stdout",
       "text": [
        "\n",
        "D:\\Data\\GPCP_tif_clip_clip//gpcp_1dd_v1.2_p1d.20111010.tif"
       ]
      },
      {
       "output_type": "stream",
       "stream": "stdout",
       "text": [
        "\n",
        "D:\\Data\\GPCP_tif_clip_clip//gpcp_1dd_v1.2_p1d.20111011.tif"
       ]
      },
      {
       "output_type": "stream",
       "stream": "stdout",
       "text": [
        "\n",
        "D:\\Data\\GPCP_tif_clip_clip//gpcp_1dd_v1.2_p1d.20111012.tif"
       ]
      },
      {
       "output_type": "stream",
       "stream": "stdout",
       "text": [
        "\n",
        "D:\\Data\\GPCP_tif_clip_clip//gpcp_1dd_v1.2_p1d.20111013.tif"
       ]
      },
      {
       "output_type": "stream",
       "stream": "stdout",
       "text": [
        "\n",
        "D:\\Data\\GPCP_tif_clip_clip//gpcp_1dd_v1.2_p1d.20111014.tif"
       ]
      },
      {
       "output_type": "stream",
       "stream": "stdout",
       "text": [
        "\n",
        "D:\\Data\\GPCP_tif_clip_clip//gpcp_1dd_v1.2_p1d.20111015.tif"
       ]
      },
      {
       "output_type": "stream",
       "stream": "stdout",
       "text": [
        "\n",
        "D:\\Data\\GPCP_tif_clip_clip//gpcp_1dd_v1.2_p1d.20111016.tif"
       ]
      },
      {
       "output_type": "stream",
       "stream": "stdout",
       "text": [
        "\n",
        "D:\\Data\\GPCP_tif_clip_clip//gpcp_1dd_v1.2_p1d.20111017.tif"
       ]
      },
      {
       "output_type": "stream",
       "stream": "stdout",
       "text": [
        "\n",
        "D:\\Data\\GPCP_tif_clip_clip//gpcp_1dd_v1.2_p1d.20111018.tif"
       ]
      },
      {
       "output_type": "stream",
       "stream": "stdout",
       "text": [
        "\n",
        "D:\\Data\\GPCP_tif_clip_clip//gpcp_1dd_v1.2_p1d.20111019.tif"
       ]
      },
      {
       "output_type": "stream",
       "stream": "stdout",
       "text": [
        "\n",
        "D:\\Data\\GPCP_tif_clip_clip//gpcp_1dd_v1.2_p1d.20111020.tif"
       ]
      },
      {
       "output_type": "stream",
       "stream": "stdout",
       "text": [
        "\n",
        "D:\\Data\\GPCP_tif_clip_clip//gpcp_1dd_v1.2_p1d.20111021.tif"
       ]
      },
      {
       "output_type": "stream",
       "stream": "stdout",
       "text": [
        "\n",
        "D:\\Data\\GPCP_tif_clip_clip//gpcp_1dd_v1.2_p1d.20111022.tif"
       ]
      },
      {
       "output_type": "stream",
       "stream": "stdout",
       "text": [
        "\n",
        "D:\\Data\\GPCP_tif_clip_clip//gpcp_1dd_v1.2_p1d.20111023.tif"
       ]
      },
      {
       "output_type": "stream",
       "stream": "stdout",
       "text": [
        "\n",
        "D:\\Data\\GPCP_tif_clip_clip//gpcp_1dd_v1.2_p1d.20111024.tif"
       ]
      },
      {
       "output_type": "stream",
       "stream": "stdout",
       "text": [
        "\n",
        "D:\\Data\\GPCP_tif_clip_clip//gpcp_1dd_v1.2_p1d.20111025.tif"
       ]
      },
      {
       "output_type": "stream",
       "stream": "stdout",
       "text": [
        "\n",
        "D:\\Data\\GPCP_tif_clip_clip//gpcp_1dd_v1.2_p1d.20111026.tif"
       ]
      },
      {
       "output_type": "stream",
       "stream": "stdout",
       "text": [
        "\n",
        "D:\\Data\\GPCP_tif_clip_clip//gpcp_1dd_v1.2_p1d.20111027.tif"
       ]
      },
      {
       "output_type": "stream",
       "stream": "stdout",
       "text": [
        "\n",
        "D:\\Data\\GPCP_tif_clip_clip//gpcp_1dd_v1.2_p1d.20111028.tif"
       ]
      },
      {
       "output_type": "stream",
       "stream": "stdout",
       "text": [
        "\n",
        "D:\\Data\\GPCP_tif_clip_clip//gpcp_1dd_v1.2_p1d.20111029.tif"
       ]
      },
      {
       "output_type": "stream",
       "stream": "stdout",
       "text": [
        "\n",
        "D:\\Data\\GPCP_tif_clip_clip//gpcp_1dd_v1.2_p1d.20111030.tif"
       ]
      },
      {
       "output_type": "stream",
       "stream": "stdout",
       "text": [
        "\n",
        "D:\\Data\\GPCP_tif_clip_clip//gpcp_1dd_v1.2_p1d.20111100.tif"
       ]
      },
      {
       "output_type": "stream",
       "stream": "stdout",
       "text": [
        "\n",
        "D:\\Data\\GPCP_tif_clip_clip//gpcp_1dd_v1.2_p1d.20111101.tif"
       ]
      },
      {
       "output_type": "stream",
       "stream": "stdout",
       "text": [
        "\n",
        "D:\\Data\\GPCP_tif_clip_clip//gpcp_1dd_v1.2_p1d.20111102.tif"
       ]
      },
      {
       "output_type": "stream",
       "stream": "stdout",
       "text": [
        "\n",
        "D:\\Data\\GPCP_tif_clip_clip//gpcp_1dd_v1.2_p1d.20111103.tif"
       ]
      },
      {
       "output_type": "stream",
       "stream": "stdout",
       "text": [
        "\n",
        "D:\\Data\\GPCP_tif_clip_clip//gpcp_1dd_v1.2_p1d.20111104.tif"
       ]
      },
      {
       "output_type": "stream",
       "stream": "stdout",
       "text": [
        "\n",
        "D:\\Data\\GPCP_tif_clip_clip//gpcp_1dd_v1.2_p1d.20111105.tif"
       ]
      },
      {
       "output_type": "stream",
       "stream": "stdout",
       "text": [
        "\n",
        "D:\\Data\\GPCP_tif_clip_clip//gpcp_1dd_v1.2_p1d.20111106.tif"
       ]
      },
      {
       "output_type": "stream",
       "stream": "stdout",
       "text": [
        "\n",
        "D:\\Data\\GPCP_tif_clip_clip//gpcp_1dd_v1.2_p1d.20111107.tif"
       ]
      },
      {
       "output_type": "stream",
       "stream": "stdout",
       "text": [
        "\n",
        "D:\\Data\\GPCP_tif_clip_clip//gpcp_1dd_v1.2_p1d.20111108.tif"
       ]
      },
      {
       "output_type": "stream",
       "stream": "stdout",
       "text": [
        "\n",
        "D:\\Data\\GPCP_tif_clip_clip//gpcp_1dd_v1.2_p1d.20111109.tif"
       ]
      },
      {
       "output_type": "stream",
       "stream": "stdout",
       "text": [
        "\n",
        "D:\\Data\\GPCP_tif_clip_clip//gpcp_1dd_v1.2_p1d.20111110.tif"
       ]
      },
      {
       "output_type": "stream",
       "stream": "stdout",
       "text": [
        "\n",
        "D:\\Data\\GPCP_tif_clip_clip//gpcp_1dd_v1.2_p1d.20111111.tif"
       ]
      },
      {
       "output_type": "stream",
       "stream": "stdout",
       "text": [
        "\n",
        "D:\\Data\\GPCP_tif_clip_clip//gpcp_1dd_v1.2_p1d.20111112.tif"
       ]
      },
      {
       "output_type": "stream",
       "stream": "stdout",
       "text": [
        "\n",
        "D:\\Data\\GPCP_tif_clip_clip//gpcp_1dd_v1.2_p1d.20111113.tif"
       ]
      },
      {
       "output_type": "stream",
       "stream": "stdout",
       "text": [
        "\n",
        "D:\\Data\\GPCP_tif_clip_clip//gpcp_1dd_v1.2_p1d.20111114.tif"
       ]
      },
      {
       "output_type": "stream",
       "stream": "stdout",
       "text": [
        "\n",
        "D:\\Data\\GPCP_tif_clip_clip//gpcp_1dd_v1.2_p1d.20111115.tif"
       ]
      },
      {
       "output_type": "stream",
       "stream": "stdout",
       "text": [
        "\n",
        "D:\\Data\\GPCP_tif_clip_clip//gpcp_1dd_v1.2_p1d.20111116.tif"
       ]
      },
      {
       "output_type": "stream",
       "stream": "stdout",
       "text": [
        "\n",
        "D:\\Data\\GPCP_tif_clip_clip//gpcp_1dd_v1.2_p1d.20111117.tif"
       ]
      },
      {
       "output_type": "stream",
       "stream": "stdout",
       "text": [
        "\n",
        "D:\\Data\\GPCP_tif_clip_clip//gpcp_1dd_v1.2_p1d.20111118.tif"
       ]
      },
      {
       "output_type": "stream",
       "stream": "stdout",
       "text": [
        "\n",
        "D:\\Data\\GPCP_tif_clip_clip//gpcp_1dd_v1.2_p1d.20111119.tif"
       ]
      },
      {
       "output_type": "stream",
       "stream": "stdout",
       "text": [
        "\n",
        "D:\\Data\\GPCP_tif_clip_clip//gpcp_1dd_v1.2_p1d.20111120.tif"
       ]
      },
      {
       "output_type": "stream",
       "stream": "stdout",
       "text": [
        "\n",
        "D:\\Data\\GPCP_tif_clip_clip//gpcp_1dd_v1.2_p1d.20111121.tif"
       ]
      },
      {
       "output_type": "stream",
       "stream": "stdout",
       "text": [
        "\n",
        "D:\\Data\\GPCP_tif_clip_clip//gpcp_1dd_v1.2_p1d.20111122.tif"
       ]
      },
      {
       "output_type": "stream",
       "stream": "stdout",
       "text": [
        "\n",
        "D:\\Data\\GPCP_tif_clip_clip//gpcp_1dd_v1.2_p1d.20111123.tif"
       ]
      },
      {
       "output_type": "stream",
       "stream": "stdout",
       "text": [
        "\n",
        "D:\\Data\\GPCP_tif_clip_clip//gpcp_1dd_v1.2_p1d.20111124.tif"
       ]
      },
      {
       "output_type": "stream",
       "stream": "stdout",
       "text": [
        "\n",
        "D:\\Data\\GPCP_tif_clip_clip//gpcp_1dd_v1.2_p1d.20111125.tif"
       ]
      },
      {
       "output_type": "stream",
       "stream": "stdout",
       "text": [
        "\n",
        "D:\\Data\\GPCP_tif_clip_clip//gpcp_1dd_v1.2_p1d.20111126.tif"
       ]
      },
      {
       "output_type": "stream",
       "stream": "stdout",
       "text": [
        "\n",
        "D:\\Data\\GPCP_tif_clip_clip//gpcp_1dd_v1.2_p1d.20111127.tif"
       ]
      },
      {
       "output_type": "stream",
       "stream": "stdout",
       "text": [
        "\n",
        "D:\\Data\\GPCP_tif_clip_clip//gpcp_1dd_v1.2_p1d.20111128.tif"
       ]
      },
      {
       "output_type": "stream",
       "stream": "stdout",
       "text": [
        "\n",
        "D:\\Data\\GPCP_tif_clip_clip//gpcp_1dd_v1.2_p1d.20111129.tif"
       ]
      },
      {
       "output_type": "stream",
       "stream": "stdout",
       "text": [
        "\n",
        "D:\\Data\\GPCP_tif_clip_clip//gpcp_1dd_v1.2_p1d.20111200.tif"
       ]
      },
      {
       "output_type": "stream",
       "stream": "stdout",
       "text": [
        "\n",
        "D:\\Data\\GPCP_tif_clip_clip//gpcp_1dd_v1.2_p1d.20111201.tif"
       ]
      },
      {
       "output_type": "stream",
       "stream": "stdout",
       "text": [
        "\n",
        "D:\\Data\\GPCP_tif_clip_clip//gpcp_1dd_v1.2_p1d.20111202.tif"
       ]
      },
      {
       "output_type": "stream",
       "stream": "stdout",
       "text": [
        "\n",
        "D:\\Data\\GPCP_tif_clip_clip//gpcp_1dd_v1.2_p1d.20111203.tif"
       ]
      },
      {
       "output_type": "stream",
       "stream": "stdout",
       "text": [
        "\n",
        "D:\\Data\\GPCP_tif_clip_clip//gpcp_1dd_v1.2_p1d.20111204.tif"
       ]
      },
      {
       "output_type": "stream",
       "stream": "stdout",
       "text": [
        "\n",
        "D:\\Data\\GPCP_tif_clip_clip//gpcp_1dd_v1.2_p1d.20111205.tif"
       ]
      },
      {
       "output_type": "stream",
       "stream": "stdout",
       "text": [
        "\n",
        "D:\\Data\\GPCP_tif_clip_clip//gpcp_1dd_v1.2_p1d.20111206.tif"
       ]
      },
      {
       "output_type": "stream",
       "stream": "stdout",
       "text": [
        "\n",
        "D:\\Data\\GPCP_tif_clip_clip//gpcp_1dd_v1.2_p1d.20111207.tif"
       ]
      },
      {
       "output_type": "stream",
       "stream": "stdout",
       "text": [
        "\n",
        "D:\\Data\\GPCP_tif_clip_clip//gpcp_1dd_v1.2_p1d.20111208.tif"
       ]
      },
      {
       "output_type": "stream",
       "stream": "stdout",
       "text": [
        "\n",
        "D:\\Data\\GPCP_tif_clip_clip//gpcp_1dd_v1.2_p1d.20111209.tif"
       ]
      },
      {
       "output_type": "stream",
       "stream": "stdout",
       "text": [
        "\n",
        "D:\\Data\\GPCP_tif_clip_clip//gpcp_1dd_v1.2_p1d.20111210.tif"
       ]
      },
      {
       "output_type": "stream",
       "stream": "stdout",
       "text": [
        "\n",
        "D:\\Data\\GPCP_tif_clip_clip//gpcp_1dd_v1.2_p1d.20111211.tif"
       ]
      },
      {
       "output_type": "stream",
       "stream": "stdout",
       "text": [
        "\n",
        "D:\\Data\\GPCP_tif_clip_clip//gpcp_1dd_v1.2_p1d.20111212.tif"
       ]
      },
      {
       "output_type": "stream",
       "stream": "stdout",
       "text": [
        "\n",
        "D:\\Data\\GPCP_tif_clip_clip//gpcp_1dd_v1.2_p1d.20111213.tif"
       ]
      },
      {
       "output_type": "stream",
       "stream": "stdout",
       "text": [
        "\n",
        "D:\\Data\\GPCP_tif_clip_clip//gpcp_1dd_v1.2_p1d.20111214.tif"
       ]
      },
      {
       "output_type": "stream",
       "stream": "stdout",
       "text": [
        "\n",
        "D:\\Data\\GPCP_tif_clip_clip//gpcp_1dd_v1.2_p1d.20111215.tif"
       ]
      },
      {
       "output_type": "stream",
       "stream": "stdout",
       "text": [
        "\n",
        "D:\\Data\\GPCP_tif_clip_clip//gpcp_1dd_v1.2_p1d.20111216.tif"
       ]
      },
      {
       "output_type": "stream",
       "stream": "stdout",
       "text": [
        "\n",
        "D:\\Data\\GPCP_tif_clip_clip//gpcp_1dd_v1.2_p1d.20111217.tif"
       ]
      },
      {
       "output_type": "stream",
       "stream": "stdout",
       "text": [
        "\n",
        "D:\\Data\\GPCP_tif_clip_clip//gpcp_1dd_v1.2_p1d.20111218.tif"
       ]
      },
      {
       "output_type": "stream",
       "stream": "stdout",
       "text": [
        "\n",
        "D:\\Data\\GPCP_tif_clip_clip//gpcp_1dd_v1.2_p1d.20111219.tif"
       ]
      },
      {
       "output_type": "stream",
       "stream": "stdout",
       "text": [
        "\n",
        "D:\\Data\\GPCP_tif_clip_clip//gpcp_1dd_v1.2_p1d.20111220.tif"
       ]
      },
      {
       "output_type": "stream",
       "stream": "stdout",
       "text": [
        "\n",
        "D:\\Data\\GPCP_tif_clip_clip//gpcp_1dd_v1.2_p1d.20111221.tif"
       ]
      },
      {
       "output_type": "stream",
       "stream": "stdout",
       "text": [
        "\n",
        "D:\\Data\\GPCP_tif_clip_clip//gpcp_1dd_v1.2_p1d.20111222.tif"
       ]
      },
      {
       "output_type": "stream",
       "stream": "stdout",
       "text": [
        "\n",
        "D:\\Data\\GPCP_tif_clip_clip//gpcp_1dd_v1.2_p1d.20111223.tif"
       ]
      },
      {
       "output_type": "stream",
       "stream": "stdout",
       "text": [
        "\n",
        "D:\\Data\\GPCP_tif_clip_clip//gpcp_1dd_v1.2_p1d.20111224.tif"
       ]
      },
      {
       "output_type": "stream",
       "stream": "stdout",
       "text": [
        "\n",
        "D:\\Data\\GPCP_tif_clip_clip//gpcp_1dd_v1.2_p1d.20111225.tif"
       ]
      },
      {
       "output_type": "stream",
       "stream": "stdout",
       "text": [
        "\n",
        "D:\\Data\\GPCP_tif_clip_clip//gpcp_1dd_v1.2_p1d.20111226.tif"
       ]
      },
      {
       "output_type": "stream",
       "stream": "stdout",
       "text": [
        "\n",
        "D:\\Data\\GPCP_tif_clip_clip//gpcp_1dd_v1.2_p1d.20111227.tif"
       ]
      },
      {
       "output_type": "stream",
       "stream": "stdout",
       "text": [
        "\n",
        "D:\\Data\\GPCP_tif_clip_clip//gpcp_1dd_v1.2_p1d.20111228.tif"
       ]
      },
      {
       "output_type": "stream",
       "stream": "stdout",
       "text": [
        "\n",
        "D:\\Data\\GPCP_tif_clip_clip//gpcp_1dd_v1.2_p1d.20111229.tif"
       ]
      },
      {
       "output_type": "stream",
       "stream": "stdout",
       "text": [
        "\n",
        "D:\\Data\\GPCP_tif_clip_clip//gpcp_1dd_v1.2_p1d.20111230.tif"
       ]
      },
      {
       "output_type": "stream",
       "stream": "stdout",
       "text": [
        "\n",
        "D:\\Data\\GPCP_tif_clip_clip//gpcp_1dd_v1.2_p1d.20120100.tif"
       ]
      },
      {
       "output_type": "stream",
       "stream": "stdout",
       "text": [
        "\n",
        "D:\\Data\\GPCP_tif_clip_clip//gpcp_1dd_v1.2_p1d.20120101.tif"
       ]
      },
      {
       "output_type": "stream",
       "stream": "stdout",
       "text": [
        "\n",
        "D:\\Data\\GPCP_tif_clip_clip//gpcp_1dd_v1.2_p1d.20120102.tif"
       ]
      },
      {
       "output_type": "stream",
       "stream": "stdout",
       "text": [
        "\n",
        "D:\\Data\\GPCP_tif_clip_clip//gpcp_1dd_v1.2_p1d.20120103.tif"
       ]
      },
      {
       "output_type": "stream",
       "stream": "stdout",
       "text": [
        "\n",
        "D:\\Data\\GPCP_tif_clip_clip//gpcp_1dd_v1.2_p1d.20120104.tif"
       ]
      },
      {
       "output_type": "stream",
       "stream": "stdout",
       "text": [
        "\n",
        "D:\\Data\\GPCP_tif_clip_clip//gpcp_1dd_v1.2_p1d.20120105.tif"
       ]
      },
      {
       "output_type": "stream",
       "stream": "stdout",
       "text": [
        "\n",
        "D:\\Data\\GPCP_tif_clip_clip//gpcp_1dd_v1.2_p1d.20120106.tif"
       ]
      },
      {
       "output_type": "stream",
       "stream": "stdout",
       "text": [
        "\n",
        "D:\\Data\\GPCP_tif_clip_clip//gpcp_1dd_v1.2_p1d.20120107.tif"
       ]
      },
      {
       "output_type": "stream",
       "stream": "stdout",
       "text": [
        "\n",
        "D:\\Data\\GPCP_tif_clip_clip//gpcp_1dd_v1.2_p1d.20120108.tif"
       ]
      },
      {
       "output_type": "stream",
       "stream": "stdout",
       "text": [
        "\n",
        "D:\\Data\\GPCP_tif_clip_clip//gpcp_1dd_v1.2_p1d.20120109.tif"
       ]
      },
      {
       "output_type": "stream",
       "stream": "stdout",
       "text": [
        "\n",
        "D:\\Data\\GPCP_tif_clip_clip//gpcp_1dd_v1.2_p1d.20120110.tif"
       ]
      },
      {
       "output_type": "stream",
       "stream": "stdout",
       "text": [
        "\n",
        "D:\\Data\\GPCP_tif_clip_clip//gpcp_1dd_v1.2_p1d.20120111.tif"
       ]
      },
      {
       "output_type": "stream",
       "stream": "stdout",
       "text": [
        "\n",
        "D:\\Data\\GPCP_tif_clip_clip//gpcp_1dd_v1.2_p1d.20120112.tif"
       ]
      },
      {
       "output_type": "stream",
       "stream": "stdout",
       "text": [
        "\n",
        "D:\\Data\\GPCP_tif_clip_clip//gpcp_1dd_v1.2_p1d.20120113.tif"
       ]
      },
      {
       "output_type": "stream",
       "stream": "stdout",
       "text": [
        "\n",
        "D:\\Data\\GPCP_tif_clip_clip//gpcp_1dd_v1.2_p1d.20120114.tif"
       ]
      },
      {
       "output_type": "stream",
       "stream": "stdout",
       "text": [
        "\n",
        "D:\\Data\\GPCP_tif_clip_clip//gpcp_1dd_v1.2_p1d.20120115.tif"
       ]
      },
      {
       "output_type": "stream",
       "stream": "stdout",
       "text": [
        "\n",
        "D:\\Data\\GPCP_tif_clip_clip//gpcp_1dd_v1.2_p1d.20120116.tif"
       ]
      },
      {
       "output_type": "stream",
       "stream": "stdout",
       "text": [
        "\n",
        "D:\\Data\\GPCP_tif_clip_clip//gpcp_1dd_v1.2_p1d.20120117.tif"
       ]
      },
      {
       "output_type": "stream",
       "stream": "stdout",
       "text": [
        "\n",
        "D:\\Data\\GPCP_tif_clip_clip//gpcp_1dd_v1.2_p1d.20120118.tif"
       ]
      },
      {
       "output_type": "stream",
       "stream": "stdout",
       "text": [
        "\n",
        "D:\\Data\\GPCP_tif_clip_clip//gpcp_1dd_v1.2_p1d.20120119.tif"
       ]
      },
      {
       "output_type": "stream",
       "stream": "stdout",
       "text": [
        "\n",
        "D:\\Data\\GPCP_tif_clip_clip//gpcp_1dd_v1.2_p1d.20120120.tif"
       ]
      },
      {
       "output_type": "stream",
       "stream": "stdout",
       "text": [
        "\n",
        "D:\\Data\\GPCP_tif_clip_clip//gpcp_1dd_v1.2_p1d.20120121.tif"
       ]
      },
      {
       "output_type": "stream",
       "stream": "stdout",
       "text": [
        "\n",
        "D:\\Data\\GPCP_tif_clip_clip//gpcp_1dd_v1.2_p1d.20120122.tif"
       ]
      },
      {
       "output_type": "stream",
       "stream": "stdout",
       "text": [
        "\n",
        "D:\\Data\\GPCP_tif_clip_clip//gpcp_1dd_v1.2_p1d.20120123.tif"
       ]
      },
      {
       "output_type": "stream",
       "stream": "stdout",
       "text": [
        "\n",
        "D:\\Data\\GPCP_tif_clip_clip//gpcp_1dd_v1.2_p1d.20120124.tif"
       ]
      },
      {
       "output_type": "stream",
       "stream": "stdout",
       "text": [
        "\n",
        "D:\\Data\\GPCP_tif_clip_clip//gpcp_1dd_v1.2_p1d.20120125.tif"
       ]
      },
      {
       "output_type": "stream",
       "stream": "stdout",
       "text": [
        "\n",
        "D:\\Data\\GPCP_tif_clip_clip//gpcp_1dd_v1.2_p1d.20120126.tif"
       ]
      },
      {
       "output_type": "stream",
       "stream": "stdout",
       "text": [
        "\n",
        "D:\\Data\\GPCP_tif_clip_clip//gpcp_1dd_v1.2_p1d.20120127.tif"
       ]
      },
      {
       "output_type": "stream",
       "stream": "stdout",
       "text": [
        "\n",
        "D:\\Data\\GPCP_tif_clip_clip//gpcp_1dd_v1.2_p1d.20120128.tif"
       ]
      },
      {
       "output_type": "stream",
       "stream": "stdout",
       "text": [
        "\n",
        "D:\\Data\\GPCP_tif_clip_clip//gpcp_1dd_v1.2_p1d.20120129.tif"
       ]
      },
      {
       "output_type": "stream",
       "stream": "stdout",
       "text": [
        "\n",
        "D:\\Data\\GPCP_tif_clip_clip//gpcp_1dd_v1.2_p1d.20120130.tif"
       ]
      },
      {
       "output_type": "stream",
       "stream": "stdout",
       "text": [
        "\n",
        "D:\\Data\\GPCP_tif_clip_clip//gpcp_1dd_v1.2_p1d.20120200.tif"
       ]
      },
      {
       "output_type": "stream",
       "stream": "stdout",
       "text": [
        "\n",
        "D:\\Data\\GPCP_tif_clip_clip//gpcp_1dd_v1.2_p1d.20120201.tif"
       ]
      },
      {
       "output_type": "stream",
       "stream": "stdout",
       "text": [
        "\n",
        "D:\\Data\\GPCP_tif_clip_clip//gpcp_1dd_v1.2_p1d.20120202.tif"
       ]
      },
      {
       "output_type": "stream",
       "stream": "stdout",
       "text": [
        "\n",
        "D:\\Data\\GPCP_tif_clip_clip//gpcp_1dd_v1.2_p1d.20120203.tif"
       ]
      },
      {
       "output_type": "stream",
       "stream": "stdout",
       "text": [
        "\n",
        "D:\\Data\\GPCP_tif_clip_clip//gpcp_1dd_v1.2_p1d.20120204.tif"
       ]
      },
      {
       "output_type": "stream",
       "stream": "stdout",
       "text": [
        "\n",
        "D:\\Data\\GPCP_tif_clip_clip//gpcp_1dd_v1.2_p1d.20120205.tif"
       ]
      },
      {
       "output_type": "stream",
       "stream": "stdout",
       "text": [
        "\n",
        "D:\\Data\\GPCP_tif_clip_clip//gpcp_1dd_v1.2_p1d.20120206.tif"
       ]
      },
      {
       "output_type": "stream",
       "stream": "stdout",
       "text": [
        "\n",
        "D:\\Data\\GPCP_tif_clip_clip//gpcp_1dd_v1.2_p1d.20120207.tif"
       ]
      },
      {
       "output_type": "stream",
       "stream": "stdout",
       "text": [
        "\n",
        "D:\\Data\\GPCP_tif_clip_clip//gpcp_1dd_v1.2_p1d.20120208.tif"
       ]
      },
      {
       "output_type": "stream",
       "stream": "stdout",
       "text": [
        "\n",
        "D:\\Data\\GPCP_tif_clip_clip//gpcp_1dd_v1.2_p1d.20120209.tif"
       ]
      },
      {
       "output_type": "stream",
       "stream": "stdout",
       "text": [
        "\n",
        "D:\\Data\\GPCP_tif_clip_clip//gpcp_1dd_v1.2_p1d.20120210.tif"
       ]
      },
      {
       "output_type": "stream",
       "stream": "stdout",
       "text": [
        "\n",
        "D:\\Data\\GPCP_tif_clip_clip//gpcp_1dd_v1.2_p1d.20120211.tif"
       ]
      },
      {
       "output_type": "stream",
       "stream": "stdout",
       "text": [
        "\n",
        "D:\\Data\\GPCP_tif_clip_clip//gpcp_1dd_v1.2_p1d.20120212.tif"
       ]
      },
      {
       "output_type": "stream",
       "stream": "stdout",
       "text": [
        "\n",
        "D:\\Data\\GPCP_tif_clip_clip//gpcp_1dd_v1.2_p1d.20120213.tif"
       ]
      },
      {
       "output_type": "stream",
       "stream": "stdout",
       "text": [
        "\n",
        "D:\\Data\\GPCP_tif_clip_clip//gpcp_1dd_v1.2_p1d.20120214.tif"
       ]
      },
      {
       "output_type": "stream",
       "stream": "stdout",
       "text": [
        "\n",
        "D:\\Data\\GPCP_tif_clip_clip//gpcp_1dd_v1.2_p1d.20120215.tif"
       ]
      },
      {
       "output_type": "stream",
       "stream": "stdout",
       "text": [
        "\n",
        "D:\\Data\\GPCP_tif_clip_clip//gpcp_1dd_v1.2_p1d.20120216.tif"
       ]
      },
      {
       "output_type": "stream",
       "stream": "stdout",
       "text": [
        "\n",
        "D:\\Data\\GPCP_tif_clip_clip//gpcp_1dd_v1.2_p1d.20120217.tif"
       ]
      },
      {
       "output_type": "stream",
       "stream": "stdout",
       "text": [
        "\n",
        "D:\\Data\\GPCP_tif_clip_clip//gpcp_1dd_v1.2_p1d.20120218.tif"
       ]
      },
      {
       "output_type": "stream",
       "stream": "stdout",
       "text": [
        "\n",
        "D:\\Data\\GPCP_tif_clip_clip//gpcp_1dd_v1.2_p1d.20120219.tif"
       ]
      },
      {
       "output_type": "stream",
       "stream": "stdout",
       "text": [
        "\n",
        "D:\\Data\\GPCP_tif_clip_clip//gpcp_1dd_v1.2_p1d.20120220.tif"
       ]
      },
      {
       "output_type": "stream",
       "stream": "stdout",
       "text": [
        "\n",
        "D:\\Data\\GPCP_tif_clip_clip//gpcp_1dd_v1.2_p1d.20120221.tif"
       ]
      },
      {
       "output_type": "stream",
       "stream": "stdout",
       "text": [
        "\n",
        "D:\\Data\\GPCP_tif_clip_clip//gpcp_1dd_v1.2_p1d.20120222.tif"
       ]
      },
      {
       "output_type": "stream",
       "stream": "stdout",
       "text": [
        "\n",
        "D:\\Data\\GPCP_tif_clip_clip//gpcp_1dd_v1.2_p1d.20120223.tif"
       ]
      },
      {
       "output_type": "stream",
       "stream": "stdout",
       "text": [
        "\n",
        "D:\\Data\\GPCP_tif_clip_clip//gpcp_1dd_v1.2_p1d.20120224.tif"
       ]
      },
      {
       "output_type": "stream",
       "stream": "stdout",
       "text": [
        "\n",
        "D:\\Data\\GPCP_tif_clip_clip//gpcp_1dd_v1.2_p1d.20120225.tif"
       ]
      },
      {
       "output_type": "stream",
       "stream": "stdout",
       "text": [
        "\n",
        "D:\\Data\\GPCP_tif_clip_clip//gpcp_1dd_v1.2_p1d.20120226.tif"
       ]
      },
      {
       "output_type": "stream",
       "stream": "stdout",
       "text": [
        "\n",
        "D:\\Data\\GPCP_tif_clip_clip//gpcp_1dd_v1.2_p1d.20120227.tif"
       ]
      },
      {
       "output_type": "stream",
       "stream": "stdout",
       "text": [
        "\n",
        "D:\\Data\\GPCP_tif_clip_clip//gpcp_1dd_v1.2_p1d.20120228.tif"
       ]
      },
      {
       "output_type": "stream",
       "stream": "stdout",
       "text": [
        "\n",
        "D:\\Data\\GPCP_tif_clip_clip//gpcp_1dd_v1.2_p1d.20120300.tif"
       ]
      },
      {
       "output_type": "stream",
       "stream": "stdout",
       "text": [
        "\n",
        "D:\\Data\\GPCP_tif_clip_clip//gpcp_1dd_v1.2_p1d.20120301.tif"
       ]
      },
      {
       "output_type": "stream",
       "stream": "stdout",
       "text": [
        "\n",
        "D:\\Data\\GPCP_tif_clip_clip//gpcp_1dd_v1.2_p1d.20120302.tif"
       ]
      },
      {
       "output_type": "stream",
       "stream": "stdout",
       "text": [
        "\n",
        "D:\\Data\\GPCP_tif_clip_clip//gpcp_1dd_v1.2_p1d.20120303.tif"
       ]
      },
      {
       "output_type": "stream",
       "stream": "stdout",
       "text": [
        "\n",
        "D:\\Data\\GPCP_tif_clip_clip//gpcp_1dd_v1.2_p1d.20120304.tif"
       ]
      },
      {
       "output_type": "stream",
       "stream": "stdout",
       "text": [
        "\n",
        "D:\\Data\\GPCP_tif_clip_clip//gpcp_1dd_v1.2_p1d.20120305.tif"
       ]
      },
      {
       "output_type": "stream",
       "stream": "stdout",
       "text": [
        "\n",
        "D:\\Data\\GPCP_tif_clip_clip//gpcp_1dd_v1.2_p1d.20120306.tif"
       ]
      },
      {
       "output_type": "stream",
       "stream": "stdout",
       "text": [
        "\n",
        "D:\\Data\\GPCP_tif_clip_clip//gpcp_1dd_v1.2_p1d.20120307.tif"
       ]
      },
      {
       "output_type": "stream",
       "stream": "stdout",
       "text": [
        "\n",
        "D:\\Data\\GPCP_tif_clip_clip//gpcp_1dd_v1.2_p1d.20120308.tif"
       ]
      },
      {
       "output_type": "stream",
       "stream": "stdout",
       "text": [
        "\n",
        "D:\\Data\\GPCP_tif_clip_clip//gpcp_1dd_v1.2_p1d.20120309.tif"
       ]
      },
      {
       "output_type": "stream",
       "stream": "stdout",
       "text": [
        "\n",
        "D:\\Data\\GPCP_tif_clip_clip//gpcp_1dd_v1.2_p1d.20120310.tif"
       ]
      },
      {
       "output_type": "stream",
       "stream": "stdout",
       "text": [
        "\n",
        "D:\\Data\\GPCP_tif_clip_clip//gpcp_1dd_v1.2_p1d.20120311.tif"
       ]
      },
      {
       "output_type": "stream",
       "stream": "stdout",
       "text": [
        "\n",
        "D:\\Data\\GPCP_tif_clip_clip//gpcp_1dd_v1.2_p1d.20120312.tif"
       ]
      },
      {
       "output_type": "stream",
       "stream": "stdout",
       "text": [
        "\n",
        "D:\\Data\\GPCP_tif_clip_clip//gpcp_1dd_v1.2_p1d.20120313.tif"
       ]
      },
      {
       "output_type": "stream",
       "stream": "stdout",
       "text": [
        "\n",
        "D:\\Data\\GPCP_tif_clip_clip//gpcp_1dd_v1.2_p1d.20120314.tif"
       ]
      },
      {
       "output_type": "stream",
       "stream": "stdout",
       "text": [
        "\n",
        "D:\\Data\\GPCP_tif_clip_clip//gpcp_1dd_v1.2_p1d.20120315.tif"
       ]
      },
      {
       "output_type": "stream",
       "stream": "stdout",
       "text": [
        "\n",
        "D:\\Data\\GPCP_tif_clip_clip//gpcp_1dd_v1.2_p1d.20120316.tif"
       ]
      },
      {
       "output_type": "stream",
       "stream": "stdout",
       "text": [
        "\n",
        "D:\\Data\\GPCP_tif_clip_clip//gpcp_1dd_v1.2_p1d.20120317.tif"
       ]
      },
      {
       "output_type": "stream",
       "stream": "stdout",
       "text": [
        "\n",
        "D:\\Data\\GPCP_tif_clip_clip//gpcp_1dd_v1.2_p1d.20120318.tif"
       ]
      },
      {
       "output_type": "stream",
       "stream": "stdout",
       "text": [
        "\n",
        "D:\\Data\\GPCP_tif_clip_clip//gpcp_1dd_v1.2_p1d.20120319.tif"
       ]
      },
      {
       "output_type": "stream",
       "stream": "stdout",
       "text": [
        "\n",
        "D:\\Data\\GPCP_tif_clip_clip//gpcp_1dd_v1.2_p1d.20120320.tif"
       ]
      },
      {
       "output_type": "stream",
       "stream": "stdout",
       "text": [
        "\n",
        "D:\\Data\\GPCP_tif_clip_clip//gpcp_1dd_v1.2_p1d.20120321.tif"
       ]
      },
      {
       "output_type": "stream",
       "stream": "stdout",
       "text": [
        "\n",
        "D:\\Data\\GPCP_tif_clip_clip//gpcp_1dd_v1.2_p1d.20120322.tif"
       ]
      },
      {
       "output_type": "stream",
       "stream": "stdout",
       "text": [
        "\n",
        "D:\\Data\\GPCP_tif_clip_clip//gpcp_1dd_v1.2_p1d.20120323.tif"
       ]
      },
      {
       "output_type": "stream",
       "stream": "stdout",
       "text": [
        "\n",
        "D:\\Data\\GPCP_tif_clip_clip//gpcp_1dd_v1.2_p1d.20120324.tif"
       ]
      },
      {
       "output_type": "stream",
       "stream": "stdout",
       "text": [
        "\n",
        "D:\\Data\\GPCP_tif_clip_clip//gpcp_1dd_v1.2_p1d.20120325.tif"
       ]
      },
      {
       "output_type": "stream",
       "stream": "stdout",
       "text": [
        "\n",
        "D:\\Data\\GPCP_tif_clip_clip//gpcp_1dd_v1.2_p1d.20120326.tif"
       ]
      },
      {
       "output_type": "stream",
       "stream": "stdout",
       "text": [
        "\n",
        "D:\\Data\\GPCP_tif_clip_clip//gpcp_1dd_v1.2_p1d.20120327.tif"
       ]
      },
      {
       "output_type": "stream",
       "stream": "stdout",
       "text": [
        "\n",
        "D:\\Data\\GPCP_tif_clip_clip//gpcp_1dd_v1.2_p1d.20120328.tif"
       ]
      },
      {
       "output_type": "stream",
       "stream": "stdout",
       "text": [
        "\n",
        "D:\\Data\\GPCP_tif_clip_clip//gpcp_1dd_v1.2_p1d.20120329.tif"
       ]
      },
      {
       "output_type": "stream",
       "stream": "stdout",
       "text": [
        "\n",
        "D:\\Data\\GPCP_tif_clip_clip//gpcp_1dd_v1.2_p1d.20120330.tif"
       ]
      },
      {
       "output_type": "stream",
       "stream": "stdout",
       "text": [
        "\n",
        "D:\\Data\\GPCP_tif_clip_clip//gpcp_1dd_v1.2_p1d.20120400.tif"
       ]
      },
      {
       "output_type": "stream",
       "stream": "stdout",
       "text": [
        "\n",
        "D:\\Data\\GPCP_tif_clip_clip//gpcp_1dd_v1.2_p1d.20120401.tif"
       ]
      },
      {
       "output_type": "stream",
       "stream": "stdout",
       "text": [
        "\n",
        "D:\\Data\\GPCP_tif_clip_clip//gpcp_1dd_v1.2_p1d.20120402.tif"
       ]
      },
      {
       "output_type": "stream",
       "stream": "stdout",
       "text": [
        "\n",
        "D:\\Data\\GPCP_tif_clip_clip//gpcp_1dd_v1.2_p1d.20120403.tif"
       ]
      },
      {
       "output_type": "stream",
       "stream": "stdout",
       "text": [
        "\n",
        "D:\\Data\\GPCP_tif_clip_clip//gpcp_1dd_v1.2_p1d.20120404.tif"
       ]
      },
      {
       "output_type": "stream",
       "stream": "stdout",
       "text": [
        "\n",
        "D:\\Data\\GPCP_tif_clip_clip//gpcp_1dd_v1.2_p1d.20120405.tif"
       ]
      },
      {
       "output_type": "stream",
       "stream": "stdout",
       "text": [
        "\n",
        "D:\\Data\\GPCP_tif_clip_clip//gpcp_1dd_v1.2_p1d.20120406.tif"
       ]
      },
      {
       "output_type": "stream",
       "stream": "stdout",
       "text": [
        "\n",
        "D:\\Data\\GPCP_tif_clip_clip//gpcp_1dd_v1.2_p1d.20120407.tif"
       ]
      },
      {
       "output_type": "stream",
       "stream": "stdout",
       "text": [
        "\n",
        "D:\\Data\\GPCP_tif_clip_clip//gpcp_1dd_v1.2_p1d.20120408.tif"
       ]
      },
      {
       "output_type": "stream",
       "stream": "stdout",
       "text": [
        "\n",
        "D:\\Data\\GPCP_tif_clip_clip//gpcp_1dd_v1.2_p1d.20120409.tif"
       ]
      },
      {
       "output_type": "stream",
       "stream": "stdout",
       "text": [
        "\n",
        "D:\\Data\\GPCP_tif_clip_clip//gpcp_1dd_v1.2_p1d.20120410.tif"
       ]
      },
      {
       "output_type": "stream",
       "stream": "stdout",
       "text": [
        "\n",
        "D:\\Data\\GPCP_tif_clip_clip//gpcp_1dd_v1.2_p1d.20120411.tif"
       ]
      },
      {
       "output_type": "stream",
       "stream": "stdout",
       "text": [
        "\n",
        "D:\\Data\\GPCP_tif_clip_clip//gpcp_1dd_v1.2_p1d.20120412.tif"
       ]
      },
      {
       "output_type": "stream",
       "stream": "stdout",
       "text": [
        "\n",
        "D:\\Data\\GPCP_tif_clip_clip//gpcp_1dd_v1.2_p1d.20120413.tif"
       ]
      },
      {
       "output_type": "stream",
       "stream": "stdout",
       "text": [
        "\n",
        "D:\\Data\\GPCP_tif_clip_clip//gpcp_1dd_v1.2_p1d.20120414.tif"
       ]
      },
      {
       "output_type": "stream",
       "stream": "stdout",
       "text": [
        "\n",
        "D:\\Data\\GPCP_tif_clip_clip//gpcp_1dd_v1.2_p1d.20120415.tif"
       ]
      },
      {
       "output_type": "stream",
       "stream": "stdout",
       "text": [
        "\n",
        "D:\\Data\\GPCP_tif_clip_clip//gpcp_1dd_v1.2_p1d.20120416.tif"
       ]
      },
      {
       "output_type": "stream",
       "stream": "stdout",
       "text": [
        "\n",
        "D:\\Data\\GPCP_tif_clip_clip//gpcp_1dd_v1.2_p1d.20120417.tif"
       ]
      },
      {
       "output_type": "stream",
       "stream": "stdout",
       "text": [
        "\n",
        "D:\\Data\\GPCP_tif_clip_clip//gpcp_1dd_v1.2_p1d.20120418.tif"
       ]
      },
      {
       "output_type": "stream",
       "stream": "stdout",
       "text": [
        "\n",
        "D:\\Data\\GPCP_tif_clip_clip//gpcp_1dd_v1.2_p1d.20120419.tif"
       ]
      },
      {
       "output_type": "stream",
       "stream": "stdout",
       "text": [
        "\n",
        "D:\\Data\\GPCP_tif_clip_clip//gpcp_1dd_v1.2_p1d.20120420.tif"
       ]
      },
      {
       "output_type": "stream",
       "stream": "stdout",
       "text": [
        "\n",
        "D:\\Data\\GPCP_tif_clip_clip//gpcp_1dd_v1.2_p1d.20120421.tif"
       ]
      },
      {
       "output_type": "stream",
       "stream": "stdout",
       "text": [
        "\n",
        "D:\\Data\\GPCP_tif_clip_clip//gpcp_1dd_v1.2_p1d.20120422.tif"
       ]
      },
      {
       "output_type": "stream",
       "stream": "stdout",
       "text": [
        "\n",
        "D:\\Data\\GPCP_tif_clip_clip//gpcp_1dd_v1.2_p1d.20120423.tif"
       ]
      },
      {
       "output_type": "stream",
       "stream": "stdout",
       "text": [
        "\n",
        "D:\\Data\\GPCP_tif_clip_clip//gpcp_1dd_v1.2_p1d.20120424.tif"
       ]
      },
      {
       "output_type": "stream",
       "stream": "stdout",
       "text": [
        "\n",
        "D:\\Data\\GPCP_tif_clip_clip//gpcp_1dd_v1.2_p1d.20120425.tif"
       ]
      },
      {
       "output_type": "stream",
       "stream": "stdout",
       "text": [
        "\n",
        "D:\\Data\\GPCP_tif_clip_clip//gpcp_1dd_v1.2_p1d.20120426.tif"
       ]
      },
      {
       "output_type": "stream",
       "stream": "stdout",
       "text": [
        "\n",
        "D:\\Data\\GPCP_tif_clip_clip//gpcp_1dd_v1.2_p1d.20120427.tif"
       ]
      },
      {
       "output_type": "stream",
       "stream": "stdout",
       "text": [
        "\n",
        "D:\\Data\\GPCP_tif_clip_clip//gpcp_1dd_v1.2_p1d.20120428.tif"
       ]
      },
      {
       "output_type": "stream",
       "stream": "stdout",
       "text": [
        "\n",
        "D:\\Data\\GPCP_tif_clip_clip//gpcp_1dd_v1.2_p1d.20120429.tif"
       ]
      },
      {
       "output_type": "stream",
       "stream": "stdout",
       "text": [
        "\n",
        "D:\\Data\\GPCP_tif_clip_clip//gpcp_1dd_v1.2_p1d.20120500.tif"
       ]
      },
      {
       "output_type": "stream",
       "stream": "stdout",
       "text": [
        "\n",
        "D:\\Data\\GPCP_tif_clip_clip//gpcp_1dd_v1.2_p1d.20120501.tif"
       ]
      },
      {
       "output_type": "stream",
       "stream": "stdout",
       "text": [
        "\n",
        "D:\\Data\\GPCP_tif_clip_clip//gpcp_1dd_v1.2_p1d.20120502.tif"
       ]
      },
      {
       "output_type": "stream",
       "stream": "stdout",
       "text": [
        "\n",
        "D:\\Data\\GPCP_tif_clip_clip//gpcp_1dd_v1.2_p1d.20120503.tif"
       ]
      },
      {
       "output_type": "stream",
       "stream": "stdout",
       "text": [
        "\n",
        "D:\\Data\\GPCP_tif_clip_clip//gpcp_1dd_v1.2_p1d.20120504.tif"
       ]
      },
      {
       "output_type": "stream",
       "stream": "stdout",
       "text": [
        "\n",
        "D:\\Data\\GPCP_tif_clip_clip//gpcp_1dd_v1.2_p1d.20120505.tif"
       ]
      },
      {
       "output_type": "stream",
       "stream": "stdout",
       "text": [
        "\n",
        "D:\\Data\\GPCP_tif_clip_clip//gpcp_1dd_v1.2_p1d.20120506.tif"
       ]
      },
      {
       "output_type": "stream",
       "stream": "stdout",
       "text": [
        "\n",
        "D:\\Data\\GPCP_tif_clip_clip//gpcp_1dd_v1.2_p1d.20120507.tif"
       ]
      },
      {
       "output_type": "stream",
       "stream": "stdout",
       "text": [
        "\n",
        "D:\\Data\\GPCP_tif_clip_clip//gpcp_1dd_v1.2_p1d.20120508.tif"
       ]
      },
      {
       "output_type": "stream",
       "stream": "stdout",
       "text": [
        "\n",
        "D:\\Data\\GPCP_tif_clip_clip//gpcp_1dd_v1.2_p1d.20120509.tif"
       ]
      },
      {
       "output_type": "stream",
       "stream": "stdout",
       "text": [
        "\n",
        "D:\\Data\\GPCP_tif_clip_clip//gpcp_1dd_v1.2_p1d.20120510.tif"
       ]
      },
      {
       "output_type": "stream",
       "stream": "stdout",
       "text": [
        "\n",
        "D:\\Data\\GPCP_tif_clip_clip//gpcp_1dd_v1.2_p1d.20120511.tif"
       ]
      },
      {
       "output_type": "stream",
       "stream": "stdout",
       "text": [
        "\n",
        "D:\\Data\\GPCP_tif_clip_clip//gpcp_1dd_v1.2_p1d.20120512.tif"
       ]
      },
      {
       "output_type": "stream",
       "stream": "stdout",
       "text": [
        "\n",
        "D:\\Data\\GPCP_tif_clip_clip//gpcp_1dd_v1.2_p1d.20120513.tif"
       ]
      },
      {
       "output_type": "stream",
       "stream": "stdout",
       "text": [
        "\n",
        "D:\\Data\\GPCP_tif_clip_clip//gpcp_1dd_v1.2_p1d.20120514.tif"
       ]
      },
      {
       "output_type": "stream",
       "stream": "stdout",
       "text": [
        "\n",
        "D:\\Data\\GPCP_tif_clip_clip//gpcp_1dd_v1.2_p1d.20120515.tif"
       ]
      },
      {
       "output_type": "stream",
       "stream": "stdout",
       "text": [
        "\n",
        "D:\\Data\\GPCP_tif_clip_clip//gpcp_1dd_v1.2_p1d.20120516.tif"
       ]
      },
      {
       "output_type": "stream",
       "stream": "stdout",
       "text": [
        "\n",
        "D:\\Data\\GPCP_tif_clip_clip//gpcp_1dd_v1.2_p1d.20120517.tif"
       ]
      },
      {
       "output_type": "stream",
       "stream": "stdout",
       "text": [
        "\n",
        "D:\\Data\\GPCP_tif_clip_clip//gpcp_1dd_v1.2_p1d.20120518.tif"
       ]
      },
      {
       "output_type": "stream",
       "stream": "stdout",
       "text": [
        "\n",
        "D:\\Data\\GPCP_tif_clip_clip//gpcp_1dd_v1.2_p1d.20120519.tif"
       ]
      },
      {
       "output_type": "stream",
       "stream": "stdout",
       "text": [
        "\n",
        "D:\\Data\\GPCP_tif_clip_clip//gpcp_1dd_v1.2_p1d.20120520.tif"
       ]
      },
      {
       "output_type": "stream",
       "stream": "stdout",
       "text": [
        "\n",
        "D:\\Data\\GPCP_tif_clip_clip//gpcp_1dd_v1.2_p1d.20120521.tif"
       ]
      },
      {
       "output_type": "stream",
       "stream": "stdout",
       "text": [
        "\n",
        "D:\\Data\\GPCP_tif_clip_clip//gpcp_1dd_v1.2_p1d.20120522.tif"
       ]
      },
      {
       "output_type": "stream",
       "stream": "stdout",
       "text": [
        "\n",
        "D:\\Data\\GPCP_tif_clip_clip//gpcp_1dd_v1.2_p1d.20120523.tif"
       ]
      },
      {
       "output_type": "stream",
       "stream": "stdout",
       "text": [
        "\n",
        "D:\\Data\\GPCP_tif_clip_clip//gpcp_1dd_v1.2_p1d.20120524.tif"
       ]
      },
      {
       "output_type": "stream",
       "stream": "stdout",
       "text": [
        "\n",
        "D:\\Data\\GPCP_tif_clip_clip//gpcp_1dd_v1.2_p1d.20120525.tif"
       ]
      },
      {
       "output_type": "stream",
       "stream": "stdout",
       "text": [
        "\n",
        "D:\\Data\\GPCP_tif_clip_clip//gpcp_1dd_v1.2_p1d.20120526.tif"
       ]
      },
      {
       "output_type": "stream",
       "stream": "stdout",
       "text": [
        "\n",
        "D:\\Data\\GPCP_tif_clip_clip//gpcp_1dd_v1.2_p1d.20120527.tif"
       ]
      },
      {
       "output_type": "stream",
       "stream": "stdout",
       "text": [
        "\n",
        "D:\\Data\\GPCP_tif_clip_clip//gpcp_1dd_v1.2_p1d.20120528.tif"
       ]
      },
      {
       "output_type": "stream",
       "stream": "stdout",
       "text": [
        "\n",
        "D:\\Data\\GPCP_tif_clip_clip//gpcp_1dd_v1.2_p1d.20120529.tif"
       ]
      },
      {
       "output_type": "stream",
       "stream": "stdout",
       "text": [
        "\n",
        "D:\\Data\\GPCP_tif_clip_clip//gpcp_1dd_v1.2_p1d.20120530.tif"
       ]
      },
      {
       "output_type": "stream",
       "stream": "stdout",
       "text": [
        "\n",
        "D:\\Data\\GPCP_tif_clip_clip//gpcp_1dd_v1.2_p1d.20120600.tif"
       ]
      },
      {
       "output_type": "stream",
       "stream": "stdout",
       "text": [
        "\n",
        "D:\\Data\\GPCP_tif_clip_clip//gpcp_1dd_v1.2_p1d.20120601.tif"
       ]
      },
      {
       "output_type": "stream",
       "stream": "stdout",
       "text": [
        "\n",
        "D:\\Data\\GPCP_tif_clip_clip//gpcp_1dd_v1.2_p1d.20120602.tif"
       ]
      },
      {
       "output_type": "stream",
       "stream": "stdout",
       "text": [
        "\n",
        "D:\\Data\\GPCP_tif_clip_clip//gpcp_1dd_v1.2_p1d.20120603.tif"
       ]
      },
      {
       "output_type": "stream",
       "stream": "stdout",
       "text": [
        "\n",
        "D:\\Data\\GPCP_tif_clip_clip//gpcp_1dd_v1.2_p1d.20120604.tif"
       ]
      },
      {
       "output_type": "stream",
       "stream": "stdout",
       "text": [
        "\n",
        "D:\\Data\\GPCP_tif_clip_clip//gpcp_1dd_v1.2_p1d.20120605.tif"
       ]
      },
      {
       "output_type": "stream",
       "stream": "stdout",
       "text": [
        "\n",
        "D:\\Data\\GPCP_tif_clip_clip//gpcp_1dd_v1.2_p1d.20120606.tif"
       ]
      },
      {
       "output_type": "stream",
       "stream": "stdout",
       "text": [
        "\n",
        "D:\\Data\\GPCP_tif_clip_clip//gpcp_1dd_v1.2_p1d.20120607.tif"
       ]
      },
      {
       "output_type": "stream",
       "stream": "stdout",
       "text": [
        "\n",
        "D:\\Data\\GPCP_tif_clip_clip//gpcp_1dd_v1.2_p1d.20120608.tif"
       ]
      },
      {
       "output_type": "stream",
       "stream": "stdout",
       "text": [
        "\n",
        "D:\\Data\\GPCP_tif_clip_clip//gpcp_1dd_v1.2_p1d.20120609.tif"
       ]
      },
      {
       "output_type": "stream",
       "stream": "stdout",
       "text": [
        "\n",
        "D:\\Data\\GPCP_tif_clip_clip//gpcp_1dd_v1.2_p1d.20120610.tif"
       ]
      },
      {
       "output_type": "stream",
       "stream": "stdout",
       "text": [
        "\n",
        "D:\\Data\\GPCP_tif_clip_clip//gpcp_1dd_v1.2_p1d.20120611.tif"
       ]
      },
      {
       "output_type": "stream",
       "stream": "stdout",
       "text": [
        "\n",
        "D:\\Data\\GPCP_tif_clip_clip//gpcp_1dd_v1.2_p1d.20120612.tif"
       ]
      },
      {
       "output_type": "stream",
       "stream": "stdout",
       "text": [
        "\n",
        "D:\\Data\\GPCP_tif_clip_clip//gpcp_1dd_v1.2_p1d.20120613.tif"
       ]
      },
      {
       "output_type": "stream",
       "stream": "stdout",
       "text": [
        "\n",
        "D:\\Data\\GPCP_tif_clip_clip//gpcp_1dd_v1.2_p1d.20120614.tif"
       ]
      },
      {
       "output_type": "stream",
       "stream": "stdout",
       "text": [
        "\n",
        "D:\\Data\\GPCP_tif_clip_clip//gpcp_1dd_v1.2_p1d.20120615.tif"
       ]
      },
      {
       "output_type": "stream",
       "stream": "stdout",
       "text": [
        "\n",
        "D:\\Data\\GPCP_tif_clip_clip//gpcp_1dd_v1.2_p1d.20120616.tif"
       ]
      },
      {
       "output_type": "stream",
       "stream": "stdout",
       "text": [
        "\n",
        "D:\\Data\\GPCP_tif_clip_clip//gpcp_1dd_v1.2_p1d.20120617.tif"
       ]
      },
      {
       "output_type": "stream",
       "stream": "stdout",
       "text": [
        "\n",
        "D:\\Data\\GPCP_tif_clip_clip//gpcp_1dd_v1.2_p1d.20120618.tif"
       ]
      },
      {
       "output_type": "stream",
       "stream": "stdout",
       "text": [
        "\n",
        "D:\\Data\\GPCP_tif_clip_clip//gpcp_1dd_v1.2_p1d.20120619.tif"
       ]
      },
      {
       "output_type": "stream",
       "stream": "stdout",
       "text": [
        "\n",
        "D:\\Data\\GPCP_tif_clip_clip//gpcp_1dd_v1.2_p1d.20120620.tif"
       ]
      },
      {
       "output_type": "stream",
       "stream": "stdout",
       "text": [
        "\n",
        "D:\\Data\\GPCP_tif_clip_clip//gpcp_1dd_v1.2_p1d.20120621.tif"
       ]
      },
      {
       "output_type": "stream",
       "stream": "stdout",
       "text": [
        "\n",
        "D:\\Data\\GPCP_tif_clip_clip//gpcp_1dd_v1.2_p1d.20120622.tif"
       ]
      },
      {
       "output_type": "stream",
       "stream": "stdout",
       "text": [
        "\n",
        "D:\\Data\\GPCP_tif_clip_clip//gpcp_1dd_v1.2_p1d.20120623.tif"
       ]
      },
      {
       "output_type": "stream",
       "stream": "stdout",
       "text": [
        "\n",
        "D:\\Data\\GPCP_tif_clip_clip//gpcp_1dd_v1.2_p1d.20120624.tif"
       ]
      },
      {
       "output_type": "stream",
       "stream": "stdout",
       "text": [
        "\n",
        "D:\\Data\\GPCP_tif_clip_clip//gpcp_1dd_v1.2_p1d.20120625.tif"
       ]
      },
      {
       "output_type": "stream",
       "stream": "stdout",
       "text": [
        "\n",
        "D:\\Data\\GPCP_tif_clip_clip//gpcp_1dd_v1.2_p1d.20120626.tif"
       ]
      },
      {
       "output_type": "stream",
       "stream": "stdout",
       "text": [
        "\n",
        "D:\\Data\\GPCP_tif_clip_clip//gpcp_1dd_v1.2_p1d.20120627.tif"
       ]
      },
      {
       "output_type": "stream",
       "stream": "stdout",
       "text": [
        "\n",
        "D:\\Data\\GPCP_tif_clip_clip//gpcp_1dd_v1.2_p1d.20120628.tif"
       ]
      },
      {
       "output_type": "stream",
       "stream": "stdout",
       "text": [
        "\n",
        "D:\\Data\\GPCP_tif_clip_clip//gpcp_1dd_v1.2_p1d.20120629.tif"
       ]
      },
      {
       "output_type": "stream",
       "stream": "stdout",
       "text": [
        "\n",
        "D:\\Data\\GPCP_tif_clip_clip//gpcp_1dd_v1.2_p1d.20120700.tif"
       ]
      },
      {
       "output_type": "stream",
       "stream": "stdout",
       "text": [
        "\n",
        "D:\\Data\\GPCP_tif_clip_clip//gpcp_1dd_v1.2_p1d.20120701.tif"
       ]
      },
      {
       "output_type": "stream",
       "stream": "stdout",
       "text": [
        "\n",
        "D:\\Data\\GPCP_tif_clip_clip//gpcp_1dd_v1.2_p1d.20120702.tif"
       ]
      },
      {
       "output_type": "stream",
       "stream": "stdout",
       "text": [
        "\n",
        "D:\\Data\\GPCP_tif_clip_clip//gpcp_1dd_v1.2_p1d.20120703.tif"
       ]
      },
      {
       "output_type": "stream",
       "stream": "stdout",
       "text": [
        "\n",
        "D:\\Data\\GPCP_tif_clip_clip//gpcp_1dd_v1.2_p1d.20120704.tif"
       ]
      },
      {
       "output_type": "stream",
       "stream": "stdout",
       "text": [
        "\n",
        "D:\\Data\\GPCP_tif_clip_clip//gpcp_1dd_v1.2_p1d.20120705.tif"
       ]
      },
      {
       "output_type": "stream",
       "stream": "stdout",
       "text": [
        "\n",
        "D:\\Data\\GPCP_tif_clip_clip//gpcp_1dd_v1.2_p1d.20120706.tif"
       ]
      },
      {
       "output_type": "stream",
       "stream": "stdout",
       "text": [
        "\n",
        "D:\\Data\\GPCP_tif_clip_clip//gpcp_1dd_v1.2_p1d.20120707.tif"
       ]
      },
      {
       "output_type": "stream",
       "stream": "stdout",
       "text": [
        "\n",
        "D:\\Data\\GPCP_tif_clip_clip//gpcp_1dd_v1.2_p1d.20120708.tif"
       ]
      },
      {
       "output_type": "stream",
       "stream": "stdout",
       "text": [
        "\n",
        "D:\\Data\\GPCP_tif_clip_clip//gpcp_1dd_v1.2_p1d.20120709.tif"
       ]
      },
      {
       "output_type": "stream",
       "stream": "stdout",
       "text": [
        "\n",
        "D:\\Data\\GPCP_tif_clip_clip//gpcp_1dd_v1.2_p1d.20120710.tif"
       ]
      },
      {
       "output_type": "stream",
       "stream": "stdout",
       "text": [
        "\n",
        "D:\\Data\\GPCP_tif_clip_clip//gpcp_1dd_v1.2_p1d.20120711.tif"
       ]
      },
      {
       "output_type": "stream",
       "stream": "stdout",
       "text": [
        "\n",
        "D:\\Data\\GPCP_tif_clip_clip//gpcp_1dd_v1.2_p1d.20120712.tif"
       ]
      },
      {
       "output_type": "stream",
       "stream": "stdout",
       "text": [
        "\n",
        "D:\\Data\\GPCP_tif_clip_clip//gpcp_1dd_v1.2_p1d.20120713.tif"
       ]
      },
      {
       "output_type": "stream",
       "stream": "stdout",
       "text": [
        "\n",
        "D:\\Data\\GPCP_tif_clip_clip//gpcp_1dd_v1.2_p1d.20120714.tif"
       ]
      },
      {
       "output_type": "stream",
       "stream": "stdout",
       "text": [
        "\n",
        "D:\\Data\\GPCP_tif_clip_clip//gpcp_1dd_v1.2_p1d.20120715.tif"
       ]
      },
      {
       "output_type": "stream",
       "stream": "stdout",
       "text": [
        "\n",
        "D:\\Data\\GPCP_tif_clip_clip//gpcp_1dd_v1.2_p1d.20120716.tif"
       ]
      },
      {
       "output_type": "stream",
       "stream": "stdout",
       "text": [
        "\n",
        "D:\\Data\\GPCP_tif_clip_clip//gpcp_1dd_v1.2_p1d.20120717.tif"
       ]
      },
      {
       "output_type": "stream",
       "stream": "stdout",
       "text": [
        "\n",
        "D:\\Data\\GPCP_tif_clip_clip//gpcp_1dd_v1.2_p1d.20120718.tif"
       ]
      },
      {
       "output_type": "stream",
       "stream": "stdout",
       "text": [
        "\n",
        "D:\\Data\\GPCP_tif_clip_clip//gpcp_1dd_v1.2_p1d.20120719.tif"
       ]
      },
      {
       "output_type": "stream",
       "stream": "stdout",
       "text": [
        "\n",
        "D:\\Data\\GPCP_tif_clip_clip//gpcp_1dd_v1.2_p1d.20120720.tif"
       ]
      },
      {
       "output_type": "stream",
       "stream": "stdout",
       "text": [
        "\n",
        "D:\\Data\\GPCP_tif_clip_clip//gpcp_1dd_v1.2_p1d.20120721.tif"
       ]
      },
      {
       "output_type": "stream",
       "stream": "stdout",
       "text": [
        "\n",
        "D:\\Data\\GPCP_tif_clip_clip//gpcp_1dd_v1.2_p1d.20120722.tif"
       ]
      },
      {
       "output_type": "stream",
       "stream": "stdout",
       "text": [
        "\n",
        "D:\\Data\\GPCP_tif_clip_clip//gpcp_1dd_v1.2_p1d.20120723.tif"
       ]
      },
      {
       "output_type": "stream",
       "stream": "stdout",
       "text": [
        "\n",
        "D:\\Data\\GPCP_tif_clip_clip//gpcp_1dd_v1.2_p1d.20120724.tif"
       ]
      },
      {
       "output_type": "stream",
       "stream": "stdout",
       "text": [
        "\n",
        "D:\\Data\\GPCP_tif_clip_clip//gpcp_1dd_v1.2_p1d.20120725.tif"
       ]
      },
      {
       "output_type": "stream",
       "stream": "stdout",
       "text": [
        "\n",
        "D:\\Data\\GPCP_tif_clip_clip//gpcp_1dd_v1.2_p1d.20120726.tif"
       ]
      },
      {
       "output_type": "stream",
       "stream": "stdout",
       "text": [
        "\n",
        "D:\\Data\\GPCP_tif_clip_clip//gpcp_1dd_v1.2_p1d.20120727.tif"
       ]
      },
      {
       "output_type": "stream",
       "stream": "stdout",
       "text": [
        "\n",
        "D:\\Data\\GPCP_tif_clip_clip//gpcp_1dd_v1.2_p1d.20120728.tif"
       ]
      },
      {
       "output_type": "stream",
       "stream": "stdout",
       "text": [
        "\n",
        "D:\\Data\\GPCP_tif_clip_clip//gpcp_1dd_v1.2_p1d.20120729.tif"
       ]
      },
      {
       "output_type": "stream",
       "stream": "stdout",
       "text": [
        "\n",
        "D:\\Data\\GPCP_tif_clip_clip//gpcp_1dd_v1.2_p1d.20120730.tif"
       ]
      },
      {
       "output_type": "stream",
       "stream": "stdout",
       "text": [
        "\n",
        "D:\\Data\\GPCP_tif_clip_clip//gpcp_1dd_v1.2_p1d.20120800.tif"
       ]
      },
      {
       "output_type": "stream",
       "stream": "stdout",
       "text": [
        "\n",
        "D:\\Data\\GPCP_tif_clip_clip//gpcp_1dd_v1.2_p1d.20120801.tif"
       ]
      },
      {
       "output_type": "stream",
       "stream": "stdout",
       "text": [
        "\n",
        "D:\\Data\\GPCP_tif_clip_clip//gpcp_1dd_v1.2_p1d.20120802.tif"
       ]
      },
      {
       "output_type": "stream",
       "stream": "stdout",
       "text": [
        "\n",
        "D:\\Data\\GPCP_tif_clip_clip//gpcp_1dd_v1.2_p1d.20120803.tif"
       ]
      },
      {
       "output_type": "stream",
       "stream": "stdout",
       "text": [
        "\n",
        "D:\\Data\\GPCP_tif_clip_clip//gpcp_1dd_v1.2_p1d.20120804.tif"
       ]
      },
      {
       "output_type": "stream",
       "stream": "stdout",
       "text": [
        "\n",
        "D:\\Data\\GPCP_tif_clip_clip//gpcp_1dd_v1.2_p1d.20120805.tif"
       ]
      },
      {
       "output_type": "stream",
       "stream": "stdout",
       "text": [
        "\n",
        "D:\\Data\\GPCP_tif_clip_clip//gpcp_1dd_v1.2_p1d.20120806.tif"
       ]
      },
      {
       "output_type": "stream",
       "stream": "stdout",
       "text": [
        "\n",
        "D:\\Data\\GPCP_tif_clip_clip//gpcp_1dd_v1.2_p1d.20120807.tif"
       ]
      },
      {
       "output_type": "stream",
       "stream": "stdout",
       "text": [
        "\n",
        "D:\\Data\\GPCP_tif_clip_clip//gpcp_1dd_v1.2_p1d.20120808.tif"
       ]
      },
      {
       "output_type": "stream",
       "stream": "stdout",
       "text": [
        "\n",
        "D:\\Data\\GPCP_tif_clip_clip//gpcp_1dd_v1.2_p1d.20120809.tif"
       ]
      },
      {
       "output_type": "stream",
       "stream": "stdout",
       "text": [
        "\n",
        "D:\\Data\\GPCP_tif_clip_clip//gpcp_1dd_v1.2_p1d.20120810.tif"
       ]
      },
      {
       "output_type": "stream",
       "stream": "stdout",
       "text": [
        "\n",
        "D:\\Data\\GPCP_tif_clip_clip//gpcp_1dd_v1.2_p1d.20120811.tif"
       ]
      },
      {
       "output_type": "stream",
       "stream": "stdout",
       "text": [
        "\n",
        "D:\\Data\\GPCP_tif_clip_clip//gpcp_1dd_v1.2_p1d.20120812.tif"
       ]
      },
      {
       "output_type": "stream",
       "stream": "stdout",
       "text": [
        "\n",
        "D:\\Data\\GPCP_tif_clip_clip//gpcp_1dd_v1.2_p1d.20120813.tif"
       ]
      },
      {
       "output_type": "stream",
       "stream": "stdout",
       "text": [
        "\n",
        "D:\\Data\\GPCP_tif_clip_clip//gpcp_1dd_v1.2_p1d.20120814.tif"
       ]
      },
      {
       "output_type": "stream",
       "stream": "stdout",
       "text": [
        "\n",
        "D:\\Data\\GPCP_tif_clip_clip//gpcp_1dd_v1.2_p1d.20120815.tif"
       ]
      },
      {
       "output_type": "stream",
       "stream": "stdout",
       "text": [
        "\n",
        "D:\\Data\\GPCP_tif_clip_clip//gpcp_1dd_v1.2_p1d.20120816.tif"
       ]
      },
      {
       "output_type": "stream",
       "stream": "stdout",
       "text": [
        "\n",
        "D:\\Data\\GPCP_tif_clip_clip//gpcp_1dd_v1.2_p1d.20120817.tif"
       ]
      },
      {
       "output_type": "stream",
       "stream": "stdout",
       "text": [
        "\n",
        "D:\\Data\\GPCP_tif_clip_clip//gpcp_1dd_v1.2_p1d.20120818.tif"
       ]
      },
      {
       "output_type": "stream",
       "stream": "stdout",
       "text": [
        "\n",
        "D:\\Data\\GPCP_tif_clip_clip//gpcp_1dd_v1.2_p1d.20120819.tif"
       ]
      },
      {
       "output_type": "stream",
       "stream": "stdout",
       "text": [
        "\n",
        "D:\\Data\\GPCP_tif_clip_clip//gpcp_1dd_v1.2_p1d.20120820.tif"
       ]
      },
      {
       "output_type": "stream",
       "stream": "stdout",
       "text": [
        "\n",
        "D:\\Data\\GPCP_tif_clip_clip//gpcp_1dd_v1.2_p1d.20120821.tif"
       ]
      },
      {
       "output_type": "stream",
       "stream": "stdout",
       "text": [
        "\n",
        "D:\\Data\\GPCP_tif_clip_clip//gpcp_1dd_v1.2_p1d.20120822.tif"
       ]
      },
      {
       "output_type": "stream",
       "stream": "stdout",
       "text": [
        "\n",
        "D:\\Data\\GPCP_tif_clip_clip//gpcp_1dd_v1.2_p1d.20120823.tif"
       ]
      },
      {
       "output_type": "stream",
       "stream": "stdout",
       "text": [
        "\n",
        "D:\\Data\\GPCP_tif_clip_clip//gpcp_1dd_v1.2_p1d.20120824.tif"
       ]
      },
      {
       "output_type": "stream",
       "stream": "stdout",
       "text": [
        "\n",
        "D:\\Data\\GPCP_tif_clip_clip//gpcp_1dd_v1.2_p1d.20120825.tif"
       ]
      },
      {
       "output_type": "stream",
       "stream": "stdout",
       "text": [
        "\n",
        "D:\\Data\\GPCP_tif_clip_clip//gpcp_1dd_v1.2_p1d.20120826.tif"
       ]
      },
      {
       "output_type": "stream",
       "stream": "stdout",
       "text": [
        "\n",
        "D:\\Data\\GPCP_tif_clip_clip//gpcp_1dd_v1.2_p1d.20120827.tif"
       ]
      },
      {
       "output_type": "stream",
       "stream": "stdout",
       "text": [
        "\n",
        "D:\\Data\\GPCP_tif_clip_clip//gpcp_1dd_v1.2_p1d.20120828.tif"
       ]
      },
      {
       "output_type": "stream",
       "stream": "stdout",
       "text": [
        "\n",
        "D:\\Data\\GPCP_tif_clip_clip//gpcp_1dd_v1.2_p1d.20120829.tif"
       ]
      },
      {
       "output_type": "stream",
       "stream": "stdout",
       "text": [
        "\n",
        "D:\\Data\\GPCP_tif_clip_clip//gpcp_1dd_v1.2_p1d.20120830.tif"
       ]
      },
      {
       "output_type": "stream",
       "stream": "stdout",
       "text": [
        "\n",
        "D:\\Data\\GPCP_tif_clip_clip//gpcp_1dd_v1.2_p1d.20120900.tif"
       ]
      },
      {
       "output_type": "stream",
       "stream": "stdout",
       "text": [
        "\n",
        "D:\\Data\\GPCP_tif_clip_clip//gpcp_1dd_v1.2_p1d.20120901.tif"
       ]
      },
      {
       "output_type": "stream",
       "stream": "stdout",
       "text": [
        "\n",
        "D:\\Data\\GPCP_tif_clip_clip//gpcp_1dd_v1.2_p1d.20120902.tif"
       ]
      },
      {
       "output_type": "stream",
       "stream": "stdout",
       "text": [
        "\n",
        "D:\\Data\\GPCP_tif_clip_clip//gpcp_1dd_v1.2_p1d.20120903.tif"
       ]
      },
      {
       "output_type": "stream",
       "stream": "stdout",
       "text": [
        "\n",
        "D:\\Data\\GPCP_tif_clip_clip//gpcp_1dd_v1.2_p1d.20120904.tif"
       ]
      },
      {
       "output_type": "stream",
       "stream": "stdout",
       "text": [
        "\n",
        "D:\\Data\\GPCP_tif_clip_clip//gpcp_1dd_v1.2_p1d.20120905.tif"
       ]
      },
      {
       "output_type": "stream",
       "stream": "stdout",
       "text": [
        "\n",
        "D:\\Data\\GPCP_tif_clip_clip//gpcp_1dd_v1.2_p1d.20120906.tif"
       ]
      },
      {
       "output_type": "stream",
       "stream": "stdout",
       "text": [
        "\n",
        "D:\\Data\\GPCP_tif_clip_clip//gpcp_1dd_v1.2_p1d.20120907.tif"
       ]
      },
      {
       "output_type": "stream",
       "stream": "stdout",
       "text": [
        "\n",
        "D:\\Data\\GPCP_tif_clip_clip//gpcp_1dd_v1.2_p1d.20120908.tif"
       ]
      },
      {
       "output_type": "stream",
       "stream": "stdout",
       "text": [
        "\n",
        "D:\\Data\\GPCP_tif_clip_clip//gpcp_1dd_v1.2_p1d.20120909.tif"
       ]
      },
      {
       "output_type": "stream",
       "stream": "stdout",
       "text": [
        "\n",
        "D:\\Data\\GPCP_tif_clip_clip//gpcp_1dd_v1.2_p1d.20120910.tif"
       ]
      },
      {
       "output_type": "stream",
       "stream": "stdout",
       "text": [
        "\n",
        "D:\\Data\\GPCP_tif_clip_clip//gpcp_1dd_v1.2_p1d.20120911.tif"
       ]
      },
      {
       "output_type": "stream",
       "stream": "stdout",
       "text": [
        "\n",
        "D:\\Data\\GPCP_tif_clip_clip//gpcp_1dd_v1.2_p1d.20120912.tif"
       ]
      },
      {
       "output_type": "stream",
       "stream": "stdout",
       "text": [
        "\n",
        "D:\\Data\\GPCP_tif_clip_clip//gpcp_1dd_v1.2_p1d.20120913.tif"
       ]
      },
      {
       "output_type": "stream",
       "stream": "stdout",
       "text": [
        "\n",
        "D:\\Data\\GPCP_tif_clip_clip//gpcp_1dd_v1.2_p1d.20120914.tif"
       ]
      },
      {
       "output_type": "stream",
       "stream": "stdout",
       "text": [
        "\n",
        "D:\\Data\\GPCP_tif_clip_clip//gpcp_1dd_v1.2_p1d.20120915.tif"
       ]
      },
      {
       "output_type": "stream",
       "stream": "stdout",
       "text": [
        "\n",
        "D:\\Data\\GPCP_tif_clip_clip//gpcp_1dd_v1.2_p1d.20120916.tif"
       ]
      },
      {
       "output_type": "stream",
       "stream": "stdout",
       "text": [
        "\n",
        "D:\\Data\\GPCP_tif_clip_clip//gpcp_1dd_v1.2_p1d.20120917.tif"
       ]
      },
      {
       "output_type": "stream",
       "stream": "stdout",
       "text": [
        "\n",
        "D:\\Data\\GPCP_tif_clip_clip//gpcp_1dd_v1.2_p1d.20120918.tif"
       ]
      },
      {
       "output_type": "stream",
       "stream": "stdout",
       "text": [
        "\n",
        "D:\\Data\\GPCP_tif_clip_clip//gpcp_1dd_v1.2_p1d.20120919.tif"
       ]
      },
      {
       "output_type": "stream",
       "stream": "stdout",
       "text": [
        "\n",
        "D:\\Data\\GPCP_tif_clip_clip//gpcp_1dd_v1.2_p1d.20120920.tif"
       ]
      },
      {
       "output_type": "stream",
       "stream": "stdout",
       "text": [
        "\n",
        "D:\\Data\\GPCP_tif_clip_clip//gpcp_1dd_v1.2_p1d.20120921.tif"
       ]
      },
      {
       "output_type": "stream",
       "stream": "stdout",
       "text": [
        "\n",
        "D:\\Data\\GPCP_tif_clip_clip//gpcp_1dd_v1.2_p1d.20120922.tif"
       ]
      },
      {
       "output_type": "stream",
       "stream": "stdout",
       "text": [
        "\n",
        "D:\\Data\\GPCP_tif_clip_clip//gpcp_1dd_v1.2_p1d.20120923.tif"
       ]
      },
      {
       "output_type": "stream",
       "stream": "stdout",
       "text": [
        "\n",
        "D:\\Data\\GPCP_tif_clip_clip//gpcp_1dd_v1.2_p1d.20120924.tif"
       ]
      },
      {
       "output_type": "stream",
       "stream": "stdout",
       "text": [
        "\n",
        "D:\\Data\\GPCP_tif_clip_clip//gpcp_1dd_v1.2_p1d.20120925.tif"
       ]
      },
      {
       "output_type": "stream",
       "stream": "stdout",
       "text": [
        "\n",
        "D:\\Data\\GPCP_tif_clip_clip//gpcp_1dd_v1.2_p1d.20120926.tif"
       ]
      },
      {
       "output_type": "stream",
       "stream": "stdout",
       "text": [
        "\n",
        "D:\\Data\\GPCP_tif_clip_clip//gpcp_1dd_v1.2_p1d.20120927.tif"
       ]
      },
      {
       "output_type": "stream",
       "stream": "stdout",
       "text": [
        "\n",
        "D:\\Data\\GPCP_tif_clip_clip//gpcp_1dd_v1.2_p1d.20120928.tif"
       ]
      },
      {
       "output_type": "stream",
       "stream": "stdout",
       "text": [
        "\n",
        "D:\\Data\\GPCP_tif_clip_clip//gpcp_1dd_v1.2_p1d.20120929.tif"
       ]
      },
      {
       "output_type": "stream",
       "stream": "stdout",
       "text": [
        "\n",
        "D:\\Data\\GPCP_tif_clip_clip//gpcp_1dd_v1.2_p1d.20121000.tif"
       ]
      },
      {
       "output_type": "stream",
       "stream": "stdout",
       "text": [
        "\n",
        "D:\\Data\\GPCP_tif_clip_clip//gpcp_1dd_v1.2_p1d.20121001.tif"
       ]
      },
      {
       "output_type": "stream",
       "stream": "stdout",
       "text": [
        "\n",
        "D:\\Data\\GPCP_tif_clip_clip//gpcp_1dd_v1.2_p1d.20121002.tif"
       ]
      },
      {
       "output_type": "stream",
       "stream": "stdout",
       "text": [
        "\n",
        "D:\\Data\\GPCP_tif_clip_clip//gpcp_1dd_v1.2_p1d.20121003.tif"
       ]
      },
      {
       "output_type": "stream",
       "stream": "stdout",
       "text": [
        "\n",
        "D:\\Data\\GPCP_tif_clip_clip//gpcp_1dd_v1.2_p1d.20121004.tif"
       ]
      },
      {
       "output_type": "stream",
       "stream": "stdout",
       "text": [
        "\n",
        "D:\\Data\\GPCP_tif_clip_clip//gpcp_1dd_v1.2_p1d.20121005.tif"
       ]
      },
      {
       "output_type": "stream",
       "stream": "stdout",
       "text": [
        "\n",
        "D:\\Data\\GPCP_tif_clip_clip//gpcp_1dd_v1.2_p1d.20121006.tif"
       ]
      },
      {
       "output_type": "stream",
       "stream": "stdout",
       "text": [
        "\n",
        "D:\\Data\\GPCP_tif_clip_clip//gpcp_1dd_v1.2_p1d.20121007.tif"
       ]
      },
      {
       "output_type": "stream",
       "stream": "stdout",
       "text": [
        "\n",
        "D:\\Data\\GPCP_tif_clip_clip//gpcp_1dd_v1.2_p1d.20121008.tif"
       ]
      },
      {
       "output_type": "stream",
       "stream": "stdout",
       "text": [
        "\n",
        "D:\\Data\\GPCP_tif_clip_clip//gpcp_1dd_v1.2_p1d.20121009.tif"
       ]
      },
      {
       "output_type": "stream",
       "stream": "stdout",
       "text": [
        "\n",
        "D:\\Data\\GPCP_tif_clip_clip//gpcp_1dd_v1.2_p1d.20121010.tif"
       ]
      },
      {
       "output_type": "stream",
       "stream": "stdout",
       "text": [
        "\n",
        "D:\\Data\\GPCP_tif_clip_clip//gpcp_1dd_v1.2_p1d.20121011.tif"
       ]
      },
      {
       "output_type": "stream",
       "stream": "stdout",
       "text": [
        "\n",
        "D:\\Data\\GPCP_tif_clip_clip//gpcp_1dd_v1.2_p1d.20121012.tif"
       ]
      },
      {
       "output_type": "stream",
       "stream": "stdout",
       "text": [
        "\n",
        "D:\\Data\\GPCP_tif_clip_clip//gpcp_1dd_v1.2_p1d.20121013.tif"
       ]
      },
      {
       "output_type": "stream",
       "stream": "stdout",
       "text": [
        "\n",
        "D:\\Data\\GPCP_tif_clip_clip//gpcp_1dd_v1.2_p1d.20121014.tif"
       ]
      },
      {
       "output_type": "stream",
       "stream": "stdout",
       "text": [
        "\n",
        "D:\\Data\\GPCP_tif_clip_clip//gpcp_1dd_v1.2_p1d.20121015.tif"
       ]
      },
      {
       "output_type": "stream",
       "stream": "stdout",
       "text": [
        "\n",
        "D:\\Data\\GPCP_tif_clip_clip//gpcp_1dd_v1.2_p1d.20121016.tif"
       ]
      },
      {
       "output_type": "stream",
       "stream": "stdout",
       "text": [
        "\n",
        "D:\\Data\\GPCP_tif_clip_clip//gpcp_1dd_v1.2_p1d.20121017.tif"
       ]
      },
      {
       "output_type": "stream",
       "stream": "stdout",
       "text": [
        "\n",
        "D:\\Data\\GPCP_tif_clip_clip//gpcp_1dd_v1.2_p1d.20121018.tif"
       ]
      },
      {
       "output_type": "stream",
       "stream": "stdout",
       "text": [
        "\n",
        "D:\\Data\\GPCP_tif_clip_clip//gpcp_1dd_v1.2_p1d.20121019.tif"
       ]
      },
      {
       "output_type": "stream",
       "stream": "stdout",
       "text": [
        "\n",
        "D:\\Data\\GPCP_tif_clip_clip//gpcp_1dd_v1.2_p1d.20121020.tif"
       ]
      },
      {
       "output_type": "stream",
       "stream": "stdout",
       "text": [
        "\n",
        "D:\\Data\\GPCP_tif_clip_clip//gpcp_1dd_v1.2_p1d.20121021.tif"
       ]
      },
      {
       "output_type": "stream",
       "stream": "stdout",
       "text": [
        "\n",
        "D:\\Data\\GPCP_tif_clip_clip//gpcp_1dd_v1.2_p1d.20121022.tif"
       ]
      },
      {
       "output_type": "stream",
       "stream": "stdout",
       "text": [
        "\n",
        "D:\\Data\\GPCP_tif_clip_clip//gpcp_1dd_v1.2_p1d.20121023.tif"
       ]
      },
      {
       "output_type": "stream",
       "stream": "stdout",
       "text": [
        "\n",
        "D:\\Data\\GPCP_tif_clip_clip//gpcp_1dd_v1.2_p1d.20121024.tif"
       ]
      },
      {
       "output_type": "stream",
       "stream": "stdout",
       "text": [
        "\n",
        "D:\\Data\\GPCP_tif_clip_clip//gpcp_1dd_v1.2_p1d.20121025.tif"
       ]
      },
      {
       "output_type": "stream",
       "stream": "stdout",
       "text": [
        "\n",
        "D:\\Data\\GPCP_tif_clip_clip//gpcp_1dd_v1.2_p1d.20121026.tif"
       ]
      },
      {
       "output_type": "stream",
       "stream": "stdout",
       "text": [
        "\n",
        "D:\\Data\\GPCP_tif_clip_clip//gpcp_1dd_v1.2_p1d.20121027.tif"
       ]
      },
      {
       "output_type": "stream",
       "stream": "stdout",
       "text": [
        "\n",
        "D:\\Data\\GPCP_tif_clip_clip//gpcp_1dd_v1.2_p1d.20121028.tif"
       ]
      },
      {
       "output_type": "stream",
       "stream": "stdout",
       "text": [
        "\n",
        "D:\\Data\\GPCP_tif_clip_clip//gpcp_1dd_v1.2_p1d.20121029.tif"
       ]
      },
      {
       "output_type": "stream",
       "stream": "stdout",
       "text": [
        "\n",
        "D:\\Data\\GPCP_tif_clip_clip//gpcp_1dd_v1.2_p1d.20121030.tif"
       ]
      },
      {
       "output_type": "stream",
       "stream": "stdout",
       "text": [
        "\n",
        "D:\\Data\\GPCP_tif_clip_clip//gpcp_1dd_v1.2_p1d.20121100.tif"
       ]
      },
      {
       "output_type": "stream",
       "stream": "stdout",
       "text": [
        "\n",
        "D:\\Data\\GPCP_tif_clip_clip//gpcp_1dd_v1.2_p1d.20121101.tif"
       ]
      },
      {
       "output_type": "stream",
       "stream": "stdout",
       "text": [
        "\n",
        "D:\\Data\\GPCP_tif_clip_clip//gpcp_1dd_v1.2_p1d.20121102.tif"
       ]
      },
      {
       "output_type": "stream",
       "stream": "stdout",
       "text": [
        "\n",
        "D:\\Data\\GPCP_tif_clip_clip//gpcp_1dd_v1.2_p1d.20121103.tif"
       ]
      },
      {
       "output_type": "stream",
       "stream": "stdout",
       "text": [
        "\n",
        "D:\\Data\\GPCP_tif_clip_clip//gpcp_1dd_v1.2_p1d.20121104.tif"
       ]
      },
      {
       "output_type": "stream",
       "stream": "stdout",
       "text": [
        "\n",
        "D:\\Data\\GPCP_tif_clip_clip//gpcp_1dd_v1.2_p1d.20121105.tif"
       ]
      },
      {
       "output_type": "stream",
       "stream": "stdout",
       "text": [
        "\n",
        "D:\\Data\\GPCP_tif_clip_clip//gpcp_1dd_v1.2_p1d.20121106.tif"
       ]
      },
      {
       "output_type": "stream",
       "stream": "stdout",
       "text": [
        "\n",
        "D:\\Data\\GPCP_tif_clip_clip//gpcp_1dd_v1.2_p1d.20121107.tif"
       ]
      },
      {
       "output_type": "stream",
       "stream": "stdout",
       "text": [
        "\n",
        "D:\\Data\\GPCP_tif_clip_clip//gpcp_1dd_v1.2_p1d.20121108.tif"
       ]
      },
      {
       "output_type": "stream",
       "stream": "stdout",
       "text": [
        "\n",
        "D:\\Data\\GPCP_tif_clip_clip//gpcp_1dd_v1.2_p1d.20121109.tif"
       ]
      },
      {
       "output_type": "stream",
       "stream": "stdout",
       "text": [
        "\n",
        "D:\\Data\\GPCP_tif_clip_clip//gpcp_1dd_v1.2_p1d.20121110.tif"
       ]
      },
      {
       "output_type": "stream",
       "stream": "stdout",
       "text": [
        "\n",
        "D:\\Data\\GPCP_tif_clip_clip//gpcp_1dd_v1.2_p1d.20121111.tif"
       ]
      },
      {
       "output_type": "stream",
       "stream": "stdout",
       "text": [
        "\n",
        "D:\\Data\\GPCP_tif_clip_clip//gpcp_1dd_v1.2_p1d.20121112.tif"
       ]
      },
      {
       "output_type": "stream",
       "stream": "stdout",
       "text": [
        "\n",
        "D:\\Data\\GPCP_tif_clip_clip//gpcp_1dd_v1.2_p1d.20121113.tif"
       ]
      },
      {
       "output_type": "stream",
       "stream": "stdout",
       "text": [
        "\n",
        "D:\\Data\\GPCP_tif_clip_clip//gpcp_1dd_v1.2_p1d.20121114.tif"
       ]
      },
      {
       "output_type": "stream",
       "stream": "stdout",
       "text": [
        "\n",
        "D:\\Data\\GPCP_tif_clip_clip//gpcp_1dd_v1.2_p1d.20121115.tif"
       ]
      },
      {
       "output_type": "stream",
       "stream": "stdout",
       "text": [
        "\n",
        "D:\\Data\\GPCP_tif_clip_clip//gpcp_1dd_v1.2_p1d.20121116.tif"
       ]
      },
      {
       "output_type": "stream",
       "stream": "stdout",
       "text": [
        "\n",
        "D:\\Data\\GPCP_tif_clip_clip//gpcp_1dd_v1.2_p1d.20121117.tif"
       ]
      },
      {
       "output_type": "stream",
       "stream": "stdout",
       "text": [
        "\n",
        "D:\\Data\\GPCP_tif_clip_clip//gpcp_1dd_v1.2_p1d.20121118.tif"
       ]
      },
      {
       "output_type": "stream",
       "stream": "stdout",
       "text": [
        "\n",
        "D:\\Data\\GPCP_tif_clip_clip//gpcp_1dd_v1.2_p1d.20121119.tif"
       ]
      },
      {
       "output_type": "stream",
       "stream": "stdout",
       "text": [
        "\n",
        "D:\\Data\\GPCP_tif_clip_clip//gpcp_1dd_v1.2_p1d.20121120.tif"
       ]
      },
      {
       "output_type": "stream",
       "stream": "stdout",
       "text": [
        "\n",
        "D:\\Data\\GPCP_tif_clip_clip//gpcp_1dd_v1.2_p1d.20121121.tif"
       ]
      },
      {
       "output_type": "stream",
       "stream": "stdout",
       "text": [
        "\n",
        "D:\\Data\\GPCP_tif_clip_clip//gpcp_1dd_v1.2_p1d.20121122.tif"
       ]
      },
      {
       "output_type": "stream",
       "stream": "stdout",
       "text": [
        "\n",
        "D:\\Data\\GPCP_tif_clip_clip//gpcp_1dd_v1.2_p1d.20121123.tif"
       ]
      },
      {
       "output_type": "stream",
       "stream": "stdout",
       "text": [
        "\n",
        "D:\\Data\\GPCP_tif_clip_clip//gpcp_1dd_v1.2_p1d.20121124.tif"
       ]
      },
      {
       "output_type": "stream",
       "stream": "stdout",
       "text": [
        "\n",
        "D:\\Data\\GPCP_tif_clip_clip//gpcp_1dd_v1.2_p1d.20121125.tif"
       ]
      },
      {
       "output_type": "stream",
       "stream": "stdout",
       "text": [
        "\n",
        "D:\\Data\\GPCP_tif_clip_clip//gpcp_1dd_v1.2_p1d.20121126.tif"
       ]
      },
      {
       "output_type": "stream",
       "stream": "stdout",
       "text": [
        "\n",
        "D:\\Data\\GPCP_tif_clip_clip//gpcp_1dd_v1.2_p1d.20121127.tif"
       ]
      },
      {
       "output_type": "stream",
       "stream": "stdout",
       "text": [
        "\n",
        "D:\\Data\\GPCP_tif_clip_clip//gpcp_1dd_v1.2_p1d.20121128.tif"
       ]
      },
      {
       "output_type": "stream",
       "stream": "stdout",
       "text": [
        "\n",
        "D:\\Data\\GPCP_tif_clip_clip//gpcp_1dd_v1.2_p1d.20121129.tif"
       ]
      },
      {
       "output_type": "stream",
       "stream": "stdout",
       "text": [
        "\n",
        "D:\\Data\\GPCP_tif_clip_clip//gpcp_1dd_v1.2_p1d.20121200.tif"
       ]
      },
      {
       "output_type": "stream",
       "stream": "stdout",
       "text": [
        "\n",
        "D:\\Data\\GPCP_tif_clip_clip//gpcp_1dd_v1.2_p1d.20121201.tif"
       ]
      },
      {
       "output_type": "stream",
       "stream": "stdout",
       "text": [
        "\n",
        "D:\\Data\\GPCP_tif_clip_clip//gpcp_1dd_v1.2_p1d.20121202.tif"
       ]
      },
      {
       "output_type": "stream",
       "stream": "stdout",
       "text": [
        "\n",
        "D:\\Data\\GPCP_tif_clip_clip//gpcp_1dd_v1.2_p1d.20121203.tif"
       ]
      },
      {
       "output_type": "stream",
       "stream": "stdout",
       "text": [
        "\n",
        "D:\\Data\\GPCP_tif_clip_clip//gpcp_1dd_v1.2_p1d.20121204.tif"
       ]
      },
      {
       "output_type": "stream",
       "stream": "stdout",
       "text": [
        "\n",
        "D:\\Data\\GPCP_tif_clip_clip//gpcp_1dd_v1.2_p1d.20121205.tif"
       ]
      },
      {
       "output_type": "stream",
       "stream": "stdout",
       "text": [
        "\n",
        "D:\\Data\\GPCP_tif_clip_clip//gpcp_1dd_v1.2_p1d.20121206.tif"
       ]
      },
      {
       "output_type": "stream",
       "stream": "stdout",
       "text": [
        "\n",
        "D:\\Data\\GPCP_tif_clip_clip//gpcp_1dd_v1.2_p1d.20121207.tif"
       ]
      },
      {
       "output_type": "stream",
       "stream": "stdout",
       "text": [
        "\n",
        "D:\\Data\\GPCP_tif_clip_clip//gpcp_1dd_v1.2_p1d.20121208.tif"
       ]
      },
      {
       "output_type": "stream",
       "stream": "stdout",
       "text": [
        "\n",
        "D:\\Data\\GPCP_tif_clip_clip//gpcp_1dd_v1.2_p1d.20121209.tif"
       ]
      },
      {
       "output_type": "stream",
       "stream": "stdout",
       "text": [
        "\n",
        "D:\\Data\\GPCP_tif_clip_clip//gpcp_1dd_v1.2_p1d.20121210.tif"
       ]
      },
      {
       "output_type": "stream",
       "stream": "stdout",
       "text": [
        "\n",
        "D:\\Data\\GPCP_tif_clip_clip//gpcp_1dd_v1.2_p1d.20121211.tif"
       ]
      },
      {
       "output_type": "stream",
       "stream": "stdout",
       "text": [
        "\n",
        "D:\\Data\\GPCP_tif_clip_clip//gpcp_1dd_v1.2_p1d.20121212.tif"
       ]
      },
      {
       "output_type": "stream",
       "stream": "stdout",
       "text": [
        "\n",
        "D:\\Data\\GPCP_tif_clip_clip//gpcp_1dd_v1.2_p1d.20121213.tif"
       ]
      },
      {
       "output_type": "stream",
       "stream": "stdout",
       "text": [
        "\n",
        "D:\\Data\\GPCP_tif_clip_clip//gpcp_1dd_v1.2_p1d.20121214.tif"
       ]
      },
      {
       "output_type": "stream",
       "stream": "stdout",
       "text": [
        "\n",
        "D:\\Data\\GPCP_tif_clip_clip//gpcp_1dd_v1.2_p1d.20121215.tif"
       ]
      },
      {
       "output_type": "stream",
       "stream": "stdout",
       "text": [
        "\n",
        "D:\\Data\\GPCP_tif_clip_clip//gpcp_1dd_v1.2_p1d.20121216.tif"
       ]
      },
      {
       "output_type": "stream",
       "stream": "stdout",
       "text": [
        "\n",
        "D:\\Data\\GPCP_tif_clip_clip//gpcp_1dd_v1.2_p1d.20121217.tif"
       ]
      },
      {
       "output_type": "stream",
       "stream": "stdout",
       "text": [
        "\n",
        "D:\\Data\\GPCP_tif_clip_clip//gpcp_1dd_v1.2_p1d.20121218.tif"
       ]
      },
      {
       "output_type": "stream",
       "stream": "stdout",
       "text": [
        "\n",
        "D:\\Data\\GPCP_tif_clip_clip//gpcp_1dd_v1.2_p1d.20121219.tif"
       ]
      },
      {
       "output_type": "stream",
       "stream": "stdout",
       "text": [
        "\n",
        "D:\\Data\\GPCP_tif_clip_clip//gpcp_1dd_v1.2_p1d.20121220.tif"
       ]
      },
      {
       "output_type": "stream",
       "stream": "stdout",
       "text": [
        "\n",
        "D:\\Data\\GPCP_tif_clip_clip//gpcp_1dd_v1.2_p1d.20121221.tif"
       ]
      },
      {
       "output_type": "stream",
       "stream": "stdout",
       "text": [
        "\n",
        "D:\\Data\\GPCP_tif_clip_clip//gpcp_1dd_v1.2_p1d.20121222.tif"
       ]
      },
      {
       "output_type": "stream",
       "stream": "stdout",
       "text": [
        "\n",
        "D:\\Data\\GPCP_tif_clip_clip//gpcp_1dd_v1.2_p1d.20121223.tif"
       ]
      },
      {
       "output_type": "stream",
       "stream": "stdout",
       "text": [
        "\n",
        "D:\\Data\\GPCP_tif_clip_clip//gpcp_1dd_v1.2_p1d.20121224.tif"
       ]
      },
      {
       "output_type": "stream",
       "stream": "stdout",
       "text": [
        "\n",
        "D:\\Data\\GPCP_tif_clip_clip//gpcp_1dd_v1.2_p1d.20121225.tif"
       ]
      },
      {
       "output_type": "stream",
       "stream": "stdout",
       "text": [
        "\n",
        "D:\\Data\\GPCP_tif_clip_clip//gpcp_1dd_v1.2_p1d.20121226.tif"
       ]
      },
      {
       "output_type": "stream",
       "stream": "stdout",
       "text": [
        "\n",
        "D:\\Data\\GPCP_tif_clip_clip//gpcp_1dd_v1.2_p1d.20121227.tif"
       ]
      },
      {
       "output_type": "stream",
       "stream": "stdout",
       "text": [
        "\n",
        "D:\\Data\\GPCP_tif_clip_clip//gpcp_1dd_v1.2_p1d.20121228.tif"
       ]
      },
      {
       "output_type": "stream",
       "stream": "stdout",
       "text": [
        "\n",
        "D:\\Data\\GPCP_tif_clip_clip//gpcp_1dd_v1.2_p1d.20121229.tif"
       ]
      },
      {
       "output_type": "stream",
       "stream": "stdout",
       "text": [
        "\n",
        "D:\\Data\\GPCP_tif_clip_clip//gpcp_1dd_v1.2_p1d.20121230.tif"
       ]
      },
      {
       "output_type": "stream",
       "stream": "stdout",
       "text": [
        "\n",
        "D:\\Data\\GPCP_tif_clip_clip//gpcp_1dd_v1.2_p1d.20130100.tif"
       ]
      },
      {
       "output_type": "stream",
       "stream": "stdout",
       "text": [
        "\n",
        "D:\\Data\\GPCP_tif_clip_clip//gpcp_1dd_v1.2_p1d.20130101.tif"
       ]
      },
      {
       "output_type": "stream",
       "stream": "stdout",
       "text": [
        "\n",
        "D:\\Data\\GPCP_tif_clip_clip//gpcp_1dd_v1.2_p1d.20130102.tif"
       ]
      },
      {
       "output_type": "stream",
       "stream": "stdout",
       "text": [
        "\n",
        "D:\\Data\\GPCP_tif_clip_clip//gpcp_1dd_v1.2_p1d.20130103.tif"
       ]
      },
      {
       "output_type": "stream",
       "stream": "stdout",
       "text": [
        "\n",
        "D:\\Data\\GPCP_tif_clip_clip//gpcp_1dd_v1.2_p1d.20130104.tif"
       ]
      },
      {
       "output_type": "stream",
       "stream": "stdout",
       "text": [
        "\n",
        "D:\\Data\\GPCP_tif_clip_clip//gpcp_1dd_v1.2_p1d.20130105.tif"
       ]
      },
      {
       "output_type": "stream",
       "stream": "stdout",
       "text": [
        "\n",
        "D:\\Data\\GPCP_tif_clip_clip//gpcp_1dd_v1.2_p1d.20130106.tif"
       ]
      },
      {
       "output_type": "stream",
       "stream": "stdout",
       "text": [
        "\n",
        "D:\\Data\\GPCP_tif_clip_clip//gpcp_1dd_v1.2_p1d.20130107.tif"
       ]
      },
      {
       "output_type": "stream",
       "stream": "stdout",
       "text": [
        "\n",
        "D:\\Data\\GPCP_tif_clip_clip//gpcp_1dd_v1.2_p1d.20130108.tif"
       ]
      },
      {
       "output_type": "stream",
       "stream": "stdout",
       "text": [
        "\n",
        "D:\\Data\\GPCP_tif_clip_clip//gpcp_1dd_v1.2_p1d.20130109.tif"
       ]
      },
      {
       "output_type": "stream",
       "stream": "stdout",
       "text": [
        "\n",
        "D:\\Data\\GPCP_tif_clip_clip//gpcp_1dd_v1.2_p1d.20130110.tif"
       ]
      },
      {
       "output_type": "stream",
       "stream": "stdout",
       "text": [
        "\n",
        "D:\\Data\\GPCP_tif_clip_clip//gpcp_1dd_v1.2_p1d.20130111.tif"
       ]
      },
      {
       "output_type": "stream",
       "stream": "stdout",
       "text": [
        "\n",
        "D:\\Data\\GPCP_tif_clip_clip//gpcp_1dd_v1.2_p1d.20130112.tif"
       ]
      },
      {
       "output_type": "stream",
       "stream": "stdout",
       "text": [
        "\n",
        "D:\\Data\\GPCP_tif_clip_clip//gpcp_1dd_v1.2_p1d.20130113.tif"
       ]
      },
      {
       "output_type": "stream",
       "stream": "stdout",
       "text": [
        "\n",
        "D:\\Data\\GPCP_tif_clip_clip//gpcp_1dd_v1.2_p1d.20130114.tif"
       ]
      },
      {
       "output_type": "stream",
       "stream": "stdout",
       "text": [
        "\n",
        "D:\\Data\\GPCP_tif_clip_clip//gpcp_1dd_v1.2_p1d.20130115.tif"
       ]
      },
      {
       "output_type": "stream",
       "stream": "stdout",
       "text": [
        "\n",
        "D:\\Data\\GPCP_tif_clip_clip//gpcp_1dd_v1.2_p1d.20130116.tif"
       ]
      },
      {
       "output_type": "stream",
       "stream": "stdout",
       "text": [
        "\n",
        "D:\\Data\\GPCP_tif_clip_clip//gpcp_1dd_v1.2_p1d.20130117.tif"
       ]
      },
      {
       "output_type": "stream",
       "stream": "stdout",
       "text": [
        "\n",
        "D:\\Data\\GPCP_tif_clip_clip//gpcp_1dd_v1.2_p1d.20130118.tif"
       ]
      },
      {
       "output_type": "stream",
       "stream": "stdout",
       "text": [
        "\n",
        "D:\\Data\\GPCP_tif_clip_clip//gpcp_1dd_v1.2_p1d.20130119.tif"
       ]
      },
      {
       "output_type": "stream",
       "stream": "stdout",
       "text": [
        "\n",
        "D:\\Data\\GPCP_tif_clip_clip//gpcp_1dd_v1.2_p1d.20130120.tif"
       ]
      },
      {
       "output_type": "stream",
       "stream": "stdout",
       "text": [
        "\n",
        "D:\\Data\\GPCP_tif_clip_clip//gpcp_1dd_v1.2_p1d.20130121.tif"
       ]
      },
      {
       "output_type": "stream",
       "stream": "stdout",
       "text": [
        "\n",
        "D:\\Data\\GPCP_tif_clip_clip//gpcp_1dd_v1.2_p1d.20130122.tif"
       ]
      },
      {
       "output_type": "stream",
       "stream": "stdout",
       "text": [
        "\n",
        "D:\\Data\\GPCP_tif_clip_clip//gpcp_1dd_v1.2_p1d.20130123.tif"
       ]
      },
      {
       "output_type": "stream",
       "stream": "stdout",
       "text": [
        "\n",
        "D:\\Data\\GPCP_tif_clip_clip//gpcp_1dd_v1.2_p1d.20130124.tif"
       ]
      },
      {
       "output_type": "stream",
       "stream": "stdout",
       "text": [
        "\n",
        "D:\\Data\\GPCP_tif_clip_clip//gpcp_1dd_v1.2_p1d.20130125.tif"
       ]
      },
      {
       "output_type": "stream",
       "stream": "stdout",
       "text": [
        "\n",
        "D:\\Data\\GPCP_tif_clip_clip//gpcp_1dd_v1.2_p1d.20130126.tif"
       ]
      },
      {
       "output_type": "stream",
       "stream": "stdout",
       "text": [
        "\n",
        "D:\\Data\\GPCP_tif_clip_clip//gpcp_1dd_v1.2_p1d.20130127.tif"
       ]
      },
      {
       "output_type": "stream",
       "stream": "stdout",
       "text": [
        "\n",
        "D:\\Data\\GPCP_tif_clip_clip//gpcp_1dd_v1.2_p1d.20130128.tif"
       ]
      },
      {
       "output_type": "stream",
       "stream": "stdout",
       "text": [
        "\n",
        "D:\\Data\\GPCP_tif_clip_clip//gpcp_1dd_v1.2_p1d.20130129.tif"
       ]
      },
      {
       "output_type": "stream",
       "stream": "stdout",
       "text": [
        "\n",
        "D:\\Data\\GPCP_tif_clip_clip//gpcp_1dd_v1.2_p1d.20130130.tif"
       ]
      },
      {
       "output_type": "stream",
       "stream": "stdout",
       "text": [
        "\n",
        "D:\\Data\\GPCP_tif_clip_clip//gpcp_1dd_v1.2_p1d.20130200.tif"
       ]
      },
      {
       "output_type": "stream",
       "stream": "stdout",
       "text": [
        "\n",
        "D:\\Data\\GPCP_tif_clip_clip//gpcp_1dd_v1.2_p1d.20130201.tif"
       ]
      },
      {
       "output_type": "stream",
       "stream": "stdout",
       "text": [
        "\n",
        "D:\\Data\\GPCP_tif_clip_clip//gpcp_1dd_v1.2_p1d.20130202.tif"
       ]
      },
      {
       "output_type": "stream",
       "stream": "stdout",
       "text": [
        "\n",
        "D:\\Data\\GPCP_tif_clip_clip//gpcp_1dd_v1.2_p1d.20130203.tif"
       ]
      },
      {
       "output_type": "stream",
       "stream": "stdout",
       "text": [
        "\n",
        "D:\\Data\\GPCP_tif_clip_clip//gpcp_1dd_v1.2_p1d.20130204.tif"
       ]
      },
      {
       "output_type": "stream",
       "stream": "stdout",
       "text": [
        "\n",
        "D:\\Data\\GPCP_tif_clip_clip//gpcp_1dd_v1.2_p1d.20130205.tif"
       ]
      },
      {
       "output_type": "stream",
       "stream": "stdout",
       "text": [
        "\n",
        "D:\\Data\\GPCP_tif_clip_clip//gpcp_1dd_v1.2_p1d.20130206.tif"
       ]
      },
      {
       "output_type": "stream",
       "stream": "stdout",
       "text": [
        "\n",
        "D:\\Data\\GPCP_tif_clip_clip//gpcp_1dd_v1.2_p1d.20130207.tif"
       ]
      },
      {
       "output_type": "stream",
       "stream": "stdout",
       "text": [
        "\n",
        "D:\\Data\\GPCP_tif_clip_clip//gpcp_1dd_v1.2_p1d.20130208.tif"
       ]
      },
      {
       "output_type": "stream",
       "stream": "stdout",
       "text": [
        "\n",
        "D:\\Data\\GPCP_tif_clip_clip//gpcp_1dd_v1.2_p1d.20130209.tif"
       ]
      },
      {
       "output_type": "stream",
       "stream": "stdout",
       "text": [
        "\n",
        "D:\\Data\\GPCP_tif_clip_clip//gpcp_1dd_v1.2_p1d.20130210.tif"
       ]
      },
      {
       "output_type": "stream",
       "stream": "stdout",
       "text": [
        "\n",
        "D:\\Data\\GPCP_tif_clip_clip//gpcp_1dd_v1.2_p1d.20130211.tif"
       ]
      },
      {
       "output_type": "stream",
       "stream": "stdout",
       "text": [
        "\n",
        "D:\\Data\\GPCP_tif_clip_clip//gpcp_1dd_v1.2_p1d.20130212.tif"
       ]
      },
      {
       "output_type": "stream",
       "stream": "stdout",
       "text": [
        "\n",
        "D:\\Data\\GPCP_tif_clip_clip//gpcp_1dd_v1.2_p1d.20130213.tif"
       ]
      },
      {
       "output_type": "stream",
       "stream": "stdout",
       "text": [
        "\n",
        "D:\\Data\\GPCP_tif_clip_clip//gpcp_1dd_v1.2_p1d.20130214.tif"
       ]
      },
      {
       "output_type": "stream",
       "stream": "stdout",
       "text": [
        "\n",
        "D:\\Data\\GPCP_tif_clip_clip//gpcp_1dd_v1.2_p1d.20130215.tif"
       ]
      },
      {
       "output_type": "stream",
       "stream": "stdout",
       "text": [
        "\n",
        "D:\\Data\\GPCP_tif_clip_clip//gpcp_1dd_v1.2_p1d.20130216.tif"
       ]
      },
      {
       "output_type": "stream",
       "stream": "stdout",
       "text": [
        "\n",
        "D:\\Data\\GPCP_tif_clip_clip//gpcp_1dd_v1.2_p1d.20130217.tif"
       ]
      },
      {
       "output_type": "stream",
       "stream": "stdout",
       "text": [
        "\n",
        "D:\\Data\\GPCP_tif_clip_clip//gpcp_1dd_v1.2_p1d.20130218.tif"
       ]
      },
      {
       "output_type": "stream",
       "stream": "stdout",
       "text": [
        "\n",
        "D:\\Data\\GPCP_tif_clip_clip//gpcp_1dd_v1.2_p1d.20130219.tif"
       ]
      },
      {
       "output_type": "stream",
       "stream": "stdout",
       "text": [
        "\n",
        "D:\\Data\\GPCP_tif_clip_clip//gpcp_1dd_v1.2_p1d.20130220.tif"
       ]
      },
      {
       "output_type": "stream",
       "stream": "stdout",
       "text": [
        "\n",
        "D:\\Data\\GPCP_tif_clip_clip//gpcp_1dd_v1.2_p1d.20130221.tif"
       ]
      },
      {
       "output_type": "stream",
       "stream": "stdout",
       "text": [
        "\n",
        "D:\\Data\\GPCP_tif_clip_clip//gpcp_1dd_v1.2_p1d.20130222.tif"
       ]
      },
      {
       "output_type": "stream",
       "stream": "stdout",
       "text": [
        "\n",
        "D:\\Data\\GPCP_tif_clip_clip//gpcp_1dd_v1.2_p1d.20130223.tif"
       ]
      },
      {
       "output_type": "stream",
       "stream": "stdout",
       "text": [
        "\n",
        "D:\\Data\\GPCP_tif_clip_clip//gpcp_1dd_v1.2_p1d.20130224.tif"
       ]
      },
      {
       "output_type": "stream",
       "stream": "stdout",
       "text": [
        "\n",
        "D:\\Data\\GPCP_tif_clip_clip//gpcp_1dd_v1.2_p1d.20130225.tif"
       ]
      },
      {
       "output_type": "stream",
       "stream": "stdout",
       "text": [
        "\n",
        "D:\\Data\\GPCP_tif_clip_clip//gpcp_1dd_v1.2_p1d.20130226.tif"
       ]
      },
      {
       "output_type": "stream",
       "stream": "stdout",
       "text": [
        "\n",
        "D:\\Data\\GPCP_tif_clip_clip//gpcp_1dd_v1.2_p1d.20130227.tif"
       ]
      },
      {
       "output_type": "stream",
       "stream": "stdout",
       "text": [
        "\n",
        "D:\\Data\\GPCP_tif_clip_clip//gpcp_1dd_v1.2_p1d.20130300.tif"
       ]
      },
      {
       "output_type": "stream",
       "stream": "stdout",
       "text": [
        "\n",
        "D:\\Data\\GPCP_tif_clip_clip//gpcp_1dd_v1.2_p1d.20130301.tif"
       ]
      },
      {
       "output_type": "stream",
       "stream": "stdout",
       "text": [
        "\n",
        "D:\\Data\\GPCP_tif_clip_clip//gpcp_1dd_v1.2_p1d.20130302.tif"
       ]
      },
      {
       "output_type": "stream",
       "stream": "stdout",
       "text": [
        "\n",
        "D:\\Data\\GPCP_tif_clip_clip//gpcp_1dd_v1.2_p1d.20130303.tif"
       ]
      },
      {
       "output_type": "stream",
       "stream": "stdout",
       "text": [
        "\n",
        "D:\\Data\\GPCP_tif_clip_clip//gpcp_1dd_v1.2_p1d.20130304.tif"
       ]
      },
      {
       "output_type": "stream",
       "stream": "stdout",
       "text": [
        "\n",
        "D:\\Data\\GPCP_tif_clip_clip//gpcp_1dd_v1.2_p1d.20130305.tif"
       ]
      },
      {
       "output_type": "stream",
       "stream": "stdout",
       "text": [
        "\n",
        "D:\\Data\\GPCP_tif_clip_clip//gpcp_1dd_v1.2_p1d.20130306.tif"
       ]
      },
      {
       "output_type": "stream",
       "stream": "stdout",
       "text": [
        "\n",
        "D:\\Data\\GPCP_tif_clip_clip//gpcp_1dd_v1.2_p1d.20130307.tif"
       ]
      },
      {
       "output_type": "stream",
       "stream": "stdout",
       "text": [
        "\n",
        "D:\\Data\\GPCP_tif_clip_clip//gpcp_1dd_v1.2_p1d.20130308.tif"
       ]
      },
      {
       "output_type": "stream",
       "stream": "stdout",
       "text": [
        "\n",
        "D:\\Data\\GPCP_tif_clip_clip//gpcp_1dd_v1.2_p1d.20130309.tif"
       ]
      },
      {
       "output_type": "stream",
       "stream": "stdout",
       "text": [
        "\n",
        "D:\\Data\\GPCP_tif_clip_clip//gpcp_1dd_v1.2_p1d.20130310.tif"
       ]
      },
      {
       "output_type": "stream",
       "stream": "stdout",
       "text": [
        "\n",
        "D:\\Data\\GPCP_tif_clip_clip//gpcp_1dd_v1.2_p1d.20130311.tif"
       ]
      },
      {
       "output_type": "stream",
       "stream": "stdout",
       "text": [
        "\n",
        "D:\\Data\\GPCP_tif_clip_clip//gpcp_1dd_v1.2_p1d.20130312.tif"
       ]
      },
      {
       "output_type": "stream",
       "stream": "stdout",
       "text": [
        "\n",
        "D:\\Data\\GPCP_tif_clip_clip//gpcp_1dd_v1.2_p1d.20130313.tif"
       ]
      },
      {
       "output_type": "stream",
       "stream": "stdout",
       "text": [
        "\n",
        "D:\\Data\\GPCP_tif_clip_clip//gpcp_1dd_v1.2_p1d.20130314.tif"
       ]
      },
      {
       "output_type": "stream",
       "stream": "stdout",
       "text": [
        "\n",
        "D:\\Data\\GPCP_tif_clip_clip//gpcp_1dd_v1.2_p1d.20130315.tif"
       ]
      },
      {
       "output_type": "stream",
       "stream": "stdout",
       "text": [
        "\n",
        "D:\\Data\\GPCP_tif_clip_clip//gpcp_1dd_v1.2_p1d.20130316.tif"
       ]
      },
      {
       "output_type": "stream",
       "stream": "stdout",
       "text": [
        "\n",
        "D:\\Data\\GPCP_tif_clip_clip//gpcp_1dd_v1.2_p1d.20130317.tif"
       ]
      },
      {
       "output_type": "stream",
       "stream": "stdout",
       "text": [
        "\n",
        "D:\\Data\\GPCP_tif_clip_clip//gpcp_1dd_v1.2_p1d.20130318.tif"
       ]
      },
      {
       "output_type": "stream",
       "stream": "stdout",
       "text": [
        "\n",
        "D:\\Data\\GPCP_tif_clip_clip//gpcp_1dd_v1.2_p1d.20130319.tif"
       ]
      },
      {
       "output_type": "stream",
       "stream": "stdout",
       "text": [
        "\n",
        "D:\\Data\\GPCP_tif_clip_clip//gpcp_1dd_v1.2_p1d.20130320.tif"
       ]
      },
      {
       "output_type": "stream",
       "stream": "stdout",
       "text": [
        "\n",
        "D:\\Data\\GPCP_tif_clip_clip//gpcp_1dd_v1.2_p1d.20130321.tif"
       ]
      },
      {
       "output_type": "stream",
       "stream": "stdout",
       "text": [
        "\n",
        "D:\\Data\\GPCP_tif_clip_clip//gpcp_1dd_v1.2_p1d.20130322.tif"
       ]
      },
      {
       "output_type": "stream",
       "stream": "stdout",
       "text": [
        "\n",
        "D:\\Data\\GPCP_tif_clip_clip//gpcp_1dd_v1.2_p1d.20130323.tif"
       ]
      },
      {
       "output_type": "stream",
       "stream": "stdout",
       "text": [
        "\n",
        "D:\\Data\\GPCP_tif_clip_clip//gpcp_1dd_v1.2_p1d.20130324.tif"
       ]
      },
      {
       "output_type": "stream",
       "stream": "stdout",
       "text": [
        "\n",
        "D:\\Data\\GPCP_tif_clip_clip//gpcp_1dd_v1.2_p1d.20130325.tif"
       ]
      },
      {
       "output_type": "stream",
       "stream": "stdout",
       "text": [
        "\n",
        "D:\\Data\\GPCP_tif_clip_clip//gpcp_1dd_v1.2_p1d.20130326.tif"
       ]
      },
      {
       "output_type": "stream",
       "stream": "stdout",
       "text": [
        "\n",
        "D:\\Data\\GPCP_tif_clip_clip//gpcp_1dd_v1.2_p1d.20130327.tif"
       ]
      },
      {
       "output_type": "stream",
       "stream": "stdout",
       "text": [
        "\n",
        "D:\\Data\\GPCP_tif_clip_clip//gpcp_1dd_v1.2_p1d.20130328.tif"
       ]
      },
      {
       "output_type": "stream",
       "stream": "stdout",
       "text": [
        "\n",
        "D:\\Data\\GPCP_tif_clip_clip//gpcp_1dd_v1.2_p1d.20130329.tif"
       ]
      },
      {
       "output_type": "stream",
       "stream": "stdout",
       "text": [
        "\n",
        "D:\\Data\\GPCP_tif_clip_clip//gpcp_1dd_v1.2_p1d.20130330.tif"
       ]
      },
      {
       "output_type": "stream",
       "stream": "stdout",
       "text": [
        "\n",
        "D:\\Data\\GPCP_tif_clip_clip//gpcp_1dd_v1.2_p1d.20130400.tif"
       ]
      },
      {
       "output_type": "stream",
       "stream": "stdout",
       "text": [
        "\n",
        "D:\\Data\\GPCP_tif_clip_clip//gpcp_1dd_v1.2_p1d.20130401.tif"
       ]
      },
      {
       "output_type": "stream",
       "stream": "stdout",
       "text": [
        "\n",
        "D:\\Data\\GPCP_tif_clip_clip//gpcp_1dd_v1.2_p1d.20130402.tif"
       ]
      },
      {
       "output_type": "stream",
       "stream": "stdout",
       "text": [
        "\n",
        "D:\\Data\\GPCP_tif_clip_clip//gpcp_1dd_v1.2_p1d.20130403.tif"
       ]
      },
      {
       "output_type": "stream",
       "stream": "stdout",
       "text": [
        "\n",
        "D:\\Data\\GPCP_tif_clip_clip//gpcp_1dd_v1.2_p1d.20130404.tif"
       ]
      },
      {
       "output_type": "stream",
       "stream": "stdout",
       "text": [
        "\n",
        "D:\\Data\\GPCP_tif_clip_clip//gpcp_1dd_v1.2_p1d.20130405.tif"
       ]
      },
      {
       "output_type": "stream",
       "stream": "stdout",
       "text": [
        "\n",
        "D:\\Data\\GPCP_tif_clip_clip//gpcp_1dd_v1.2_p1d.20130406.tif"
       ]
      },
      {
       "output_type": "stream",
       "stream": "stdout",
       "text": [
        "\n",
        "D:\\Data\\GPCP_tif_clip_clip//gpcp_1dd_v1.2_p1d.20130407.tif"
       ]
      },
      {
       "output_type": "stream",
       "stream": "stdout",
       "text": [
        "\n",
        "D:\\Data\\GPCP_tif_clip_clip//gpcp_1dd_v1.2_p1d.20130408.tif"
       ]
      },
      {
       "output_type": "stream",
       "stream": "stdout",
       "text": [
        "\n",
        "D:\\Data\\GPCP_tif_clip_clip//gpcp_1dd_v1.2_p1d.20130409.tif"
       ]
      },
      {
       "output_type": "stream",
       "stream": "stdout",
       "text": [
        "\n",
        "D:\\Data\\GPCP_tif_clip_clip//gpcp_1dd_v1.2_p1d.20130410.tif"
       ]
      },
      {
       "output_type": "stream",
       "stream": "stdout",
       "text": [
        "\n",
        "D:\\Data\\GPCP_tif_clip_clip//gpcp_1dd_v1.2_p1d.20130411.tif"
       ]
      },
      {
       "output_type": "stream",
       "stream": "stdout",
       "text": [
        "\n",
        "D:\\Data\\GPCP_tif_clip_clip//gpcp_1dd_v1.2_p1d.20130412.tif"
       ]
      },
      {
       "output_type": "stream",
       "stream": "stdout",
       "text": [
        "\n",
        "D:\\Data\\GPCP_tif_clip_clip//gpcp_1dd_v1.2_p1d.20130413.tif"
       ]
      },
      {
       "output_type": "stream",
       "stream": "stdout",
       "text": [
        "\n",
        "D:\\Data\\GPCP_tif_clip_clip//gpcp_1dd_v1.2_p1d.20130414.tif"
       ]
      },
      {
       "output_type": "stream",
       "stream": "stdout",
       "text": [
        "\n",
        "D:\\Data\\GPCP_tif_clip_clip//gpcp_1dd_v1.2_p1d.20130415.tif"
       ]
      },
      {
       "output_type": "stream",
       "stream": "stdout",
       "text": [
        "\n",
        "D:\\Data\\GPCP_tif_clip_clip//gpcp_1dd_v1.2_p1d.20130416.tif"
       ]
      },
      {
       "output_type": "stream",
       "stream": "stdout",
       "text": [
        "\n",
        "D:\\Data\\GPCP_tif_clip_clip//gpcp_1dd_v1.2_p1d.20130417.tif"
       ]
      },
      {
       "output_type": "stream",
       "stream": "stdout",
       "text": [
        "\n",
        "D:\\Data\\GPCP_tif_clip_clip//gpcp_1dd_v1.2_p1d.20130418.tif"
       ]
      },
      {
       "output_type": "stream",
       "stream": "stdout",
       "text": [
        "\n",
        "D:\\Data\\GPCP_tif_clip_clip//gpcp_1dd_v1.2_p1d.20130419.tif"
       ]
      },
      {
       "output_type": "stream",
       "stream": "stdout",
       "text": [
        "\n",
        "D:\\Data\\GPCP_tif_clip_clip//gpcp_1dd_v1.2_p1d.20130420.tif"
       ]
      },
      {
       "output_type": "stream",
       "stream": "stdout",
       "text": [
        "\n",
        "D:\\Data\\GPCP_tif_clip_clip//gpcp_1dd_v1.2_p1d.20130421.tif"
       ]
      },
      {
       "output_type": "stream",
       "stream": "stdout",
       "text": [
        "\n",
        "D:\\Data\\GPCP_tif_clip_clip//gpcp_1dd_v1.2_p1d.20130422.tif"
       ]
      },
      {
       "output_type": "stream",
       "stream": "stdout",
       "text": [
        "\n",
        "D:\\Data\\GPCP_tif_clip_clip//gpcp_1dd_v1.2_p1d.20130423.tif"
       ]
      },
      {
       "output_type": "stream",
       "stream": "stdout",
       "text": [
        "\n",
        "D:\\Data\\GPCP_tif_clip_clip//gpcp_1dd_v1.2_p1d.20130424.tif"
       ]
      },
      {
       "output_type": "stream",
       "stream": "stdout",
       "text": [
        "\n",
        "D:\\Data\\GPCP_tif_clip_clip//gpcp_1dd_v1.2_p1d.20130425.tif"
       ]
      },
      {
       "output_type": "stream",
       "stream": "stdout",
       "text": [
        "\n",
        "D:\\Data\\GPCP_tif_clip_clip//gpcp_1dd_v1.2_p1d.20130426.tif"
       ]
      },
      {
       "output_type": "stream",
       "stream": "stdout",
       "text": [
        "\n",
        "D:\\Data\\GPCP_tif_clip_clip//gpcp_1dd_v1.2_p1d.20130427.tif"
       ]
      },
      {
       "output_type": "stream",
       "stream": "stdout",
       "text": [
        "\n",
        "D:\\Data\\GPCP_tif_clip_clip//gpcp_1dd_v1.2_p1d.20130428.tif"
       ]
      },
      {
       "output_type": "stream",
       "stream": "stdout",
       "text": [
        "\n",
        "D:\\Data\\GPCP_tif_clip_clip//gpcp_1dd_v1.2_p1d.20130429.tif"
       ]
      },
      {
       "output_type": "stream",
       "stream": "stdout",
       "text": [
        "\n",
        "D:\\Data\\GPCP_tif_clip_clip//gpcp_1dd_v1.2_p1d.20130500.tif"
       ]
      },
      {
       "output_type": "stream",
       "stream": "stdout",
       "text": [
        "\n",
        "D:\\Data\\GPCP_tif_clip_clip//gpcp_1dd_v1.2_p1d.20130501.tif"
       ]
      },
      {
       "output_type": "stream",
       "stream": "stdout",
       "text": [
        "\n",
        "D:\\Data\\GPCP_tif_clip_clip//gpcp_1dd_v1.2_p1d.20130502.tif"
       ]
      },
      {
       "output_type": "stream",
       "stream": "stdout",
       "text": [
        "\n",
        "D:\\Data\\GPCP_tif_clip_clip//gpcp_1dd_v1.2_p1d.20130503.tif"
       ]
      },
      {
       "output_type": "stream",
       "stream": "stdout",
       "text": [
        "\n",
        "D:\\Data\\GPCP_tif_clip_clip//gpcp_1dd_v1.2_p1d.20130504.tif"
       ]
      },
      {
       "output_type": "stream",
       "stream": "stdout",
       "text": [
        "\n",
        "D:\\Data\\GPCP_tif_clip_clip//gpcp_1dd_v1.2_p1d.20130505.tif"
       ]
      },
      {
       "output_type": "stream",
       "stream": "stdout",
       "text": [
        "\n",
        "D:\\Data\\GPCP_tif_clip_clip//gpcp_1dd_v1.2_p1d.20130506.tif"
       ]
      },
      {
       "output_type": "stream",
       "stream": "stdout",
       "text": [
        "\n",
        "D:\\Data\\GPCP_tif_clip_clip//gpcp_1dd_v1.2_p1d.20130507.tif"
       ]
      },
      {
       "output_type": "stream",
       "stream": "stdout",
       "text": [
        "\n",
        "D:\\Data\\GPCP_tif_clip_clip//gpcp_1dd_v1.2_p1d.20130508.tif"
       ]
      },
      {
       "output_type": "stream",
       "stream": "stdout",
       "text": [
        "\n",
        "D:\\Data\\GPCP_tif_clip_clip//gpcp_1dd_v1.2_p1d.20130509.tif"
       ]
      },
      {
       "output_type": "stream",
       "stream": "stdout",
       "text": [
        "\n",
        "D:\\Data\\GPCP_tif_clip_clip//gpcp_1dd_v1.2_p1d.20130510.tif"
       ]
      },
      {
       "output_type": "stream",
       "stream": "stdout",
       "text": [
        "\n",
        "D:\\Data\\GPCP_tif_clip_clip//gpcp_1dd_v1.2_p1d.20130511.tif"
       ]
      },
      {
       "output_type": "stream",
       "stream": "stdout",
       "text": [
        "\n",
        "D:\\Data\\GPCP_tif_clip_clip//gpcp_1dd_v1.2_p1d.20130512.tif"
       ]
      },
      {
       "output_type": "stream",
       "stream": "stdout",
       "text": [
        "\n",
        "D:\\Data\\GPCP_tif_clip_clip//gpcp_1dd_v1.2_p1d.20130513.tif"
       ]
      },
      {
       "output_type": "stream",
       "stream": "stdout",
       "text": [
        "\n",
        "D:\\Data\\GPCP_tif_clip_clip//gpcp_1dd_v1.2_p1d.20130514.tif"
       ]
      },
      {
       "output_type": "stream",
       "stream": "stdout",
       "text": [
        "\n",
        "D:\\Data\\GPCP_tif_clip_clip//gpcp_1dd_v1.2_p1d.20130515.tif"
       ]
      },
      {
       "output_type": "stream",
       "stream": "stdout",
       "text": [
        "\n",
        "D:\\Data\\GPCP_tif_clip_clip//gpcp_1dd_v1.2_p1d.20130516.tif"
       ]
      },
      {
       "output_type": "stream",
       "stream": "stdout",
       "text": [
        "\n",
        "D:\\Data\\GPCP_tif_clip_clip//gpcp_1dd_v1.2_p1d.20130517.tif"
       ]
      },
      {
       "output_type": "stream",
       "stream": "stdout",
       "text": [
        "\n",
        "D:\\Data\\GPCP_tif_clip_clip//gpcp_1dd_v1.2_p1d.20130518.tif"
       ]
      },
      {
       "output_type": "stream",
       "stream": "stdout",
       "text": [
        "\n",
        "D:\\Data\\GPCP_tif_clip_clip//gpcp_1dd_v1.2_p1d.20130519.tif"
       ]
      },
      {
       "output_type": "stream",
       "stream": "stdout",
       "text": [
        "\n",
        "D:\\Data\\GPCP_tif_clip_clip//gpcp_1dd_v1.2_p1d.20130520.tif"
       ]
      },
      {
       "output_type": "stream",
       "stream": "stdout",
       "text": [
        "\n",
        "D:\\Data\\GPCP_tif_clip_clip//gpcp_1dd_v1.2_p1d.20130521.tif"
       ]
      },
      {
       "output_type": "stream",
       "stream": "stdout",
       "text": [
        "\n",
        "D:\\Data\\GPCP_tif_clip_clip//gpcp_1dd_v1.2_p1d.20130522.tif"
       ]
      },
      {
       "output_type": "stream",
       "stream": "stdout",
       "text": [
        "\n",
        "D:\\Data\\GPCP_tif_clip_clip//gpcp_1dd_v1.2_p1d.20130523.tif"
       ]
      },
      {
       "output_type": "stream",
       "stream": "stdout",
       "text": [
        "\n",
        "D:\\Data\\GPCP_tif_clip_clip//gpcp_1dd_v1.2_p1d.20130524.tif"
       ]
      },
      {
       "output_type": "stream",
       "stream": "stdout",
       "text": [
        "\n",
        "D:\\Data\\GPCP_tif_clip_clip//gpcp_1dd_v1.2_p1d.20130525.tif"
       ]
      },
      {
       "output_type": "stream",
       "stream": "stdout",
       "text": [
        "\n",
        "D:\\Data\\GPCP_tif_clip_clip//gpcp_1dd_v1.2_p1d.20130526.tif"
       ]
      },
      {
       "output_type": "stream",
       "stream": "stdout",
       "text": [
        "\n",
        "D:\\Data\\GPCP_tif_clip_clip//gpcp_1dd_v1.2_p1d.20130527.tif"
       ]
      },
      {
       "output_type": "stream",
       "stream": "stdout",
       "text": [
        "\n",
        "D:\\Data\\GPCP_tif_clip_clip//gpcp_1dd_v1.2_p1d.20130528.tif"
       ]
      },
      {
       "output_type": "stream",
       "stream": "stdout",
       "text": [
        "\n",
        "D:\\Data\\GPCP_tif_clip_clip//gpcp_1dd_v1.2_p1d.20130529.tif"
       ]
      },
      {
       "output_type": "stream",
       "stream": "stdout",
       "text": [
        "\n",
        "D:\\Data\\GPCP_tif_clip_clip//gpcp_1dd_v1.2_p1d.20130530.tif"
       ]
      },
      {
       "output_type": "stream",
       "stream": "stdout",
       "text": [
        "\n"
       ]
      }
     ],
     "prompt_number": 4
    },
    {
     "cell_type": "code",
     "collapsed": false,
     "input": [],
     "language": "python",
     "metadata": {},
     "outputs": []
    }
   ],
   "metadata": {}
  }
 ]
}