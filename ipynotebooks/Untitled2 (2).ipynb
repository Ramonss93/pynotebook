{
 "metadata": {
  "name": ""
 },
 "nbformat": 3,
 "nbformat_minor": 0,
 "worksheets": [
  {
   "cells": [
    {
     "cell_type": "code",
     "collapsed": false,
     "input": [
      "from mattijn import dikkelul\n",
      "import sys\n",
      "import subprocess as sp\n",
      "from osgeo import gdal, osr\n",
      "import numpy as np"
     ],
     "language": "python",
     "metadata": {},
     "outputs": [],
     "prompt_number": 1
    },
    {
     "cell_type": "code",
     "collapsed": false,
     "input": [
      "files2 = dikkelul.FilesFolder(r'D:\\Data\\GPCP_extent', '.tif')\n",
      "outfolder = r'D:\\Data\\outfolder//'\n",
      "prefix = 'gpcp_1dd_'\n",
      "ds = gdal.Open(files2[0])\n",
      "array_base = ds.ReadAsArray()"
     ],
     "language": "python",
     "metadata": {},
     "outputs": [],
     "prompt_number": 8
    },
    {
     "cell_type": "code",
     "collapsed": false,
     "input": [
      "for i in range(0,len(files2),1):\n",
      "    start = i\n",
      "    end = i+8\n",
      "    array_new = np.empty_like(array_base)\n",
      "    k = 0\n",
      "    out_from = files2[i][-12:-4]\n",
      "    for j in range(start,end):\n",
      "        g = files2[j]\n",
      "        print (g)\n",
      "        ds2 = gdal.Open(g)\n",
      "        array = ds2.ReadAsArray()\n",
      "        array_new += array        \n",
      "    out_to = files2[j][-12:-4]    \n",
      "    outpath = outfolder+prefix+out_from+'_'+out_to+'.tif'\n",
      "    print (outpath)\n",
      "    dikkelul.saveRaster(outpath, array_new, ds, 6)"
     ],
     "language": "python",
     "metadata": {},
     "outputs": [
      {
       "output_type": "stream",
       "stream": "stdout",
       "text": [
        "D:\\Data\\GPCP_extent\\gpcp_1dd_v1.2_p1d.20000100.tif\n",
        "D:\\Data\\GPCP_extent\\gpcp_1dd_v1.2_p1d.20000101.tif"
       ]
      },
      {
       "output_type": "stream",
       "stream": "stdout",
       "text": [
        "\n",
        "D:\\Data\\GPCP_extent\\gpcp_1dd_v1.2_p1d.20000102.tif"
       ]
      },
      {
       "output_type": "stream",
       "stream": "stdout",
       "text": [
        "\n",
        "D:\\Data\\GPCP_extent\\gpcp_1dd_v1.2_p1d.20000103.tif"
       ]
      },
      {
       "output_type": "stream",
       "stream": "stdout",
       "text": [
        "\n",
        "D:\\Data\\GPCP_extent\\gpcp_1dd_v1.2_p1d.20000104.tif"
       ]
      },
      {
       "output_type": "stream",
       "stream": "stdout",
       "text": [
        "\n",
        "D:\\Data\\GPCP_extent\\gpcp_1dd_v1.2_p1d.20000105.tif"
       ]
      },
      {
       "output_type": "stream",
       "stream": "stdout",
       "text": [
        "\n",
        "D:\\Data\\GPCP_extent\\gpcp_1dd_v1.2_p1d.20000106.tif"
       ]
      },
      {
       "output_type": "stream",
       "stream": "stdout",
       "text": [
        "\n",
        "D:\\Data\\GPCP_extent\\gpcp_1dd_v1.2_p1d.20000107.tif"
       ]
      }
     ],
     "prompt_number": "*"
    },
    {
     "cell_type": "code",
     "collapsed": false,
     "input": [],
     "language": "python",
     "metadata": {},
     "outputs": []
    }
   ],
   "metadata": {}
  }
 ]
}