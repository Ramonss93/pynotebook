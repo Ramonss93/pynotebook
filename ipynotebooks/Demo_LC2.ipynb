{
 "metadata": {
  "name": "Demo_LC2"
 },
 "nbformat": 3,
 "nbformat_minor": 0,
 "worksheets": [
  {
   "cells": [
    {
     "cell_type": "heading",
     "level": 4,
     "metadata": {},
     "source": [
      "Demonstration of my code developed so far to prepare multiple remote sensing time series for kohonen network analysis.\n",
      "\n",
      "First import libraries"
     ]
    },
    {
     "cell_type": "code",
     "collapsed": false,
     "input": [
      "import os\n",
      "import pandas as pd\n",
      "from pandas import HDFStore\n",
      "import gdal\n",
      "import osr\n",
      "import matplotlib.pyplot as plt\n",
      "from mpl_toolkits.basemap import Basemap\n",
      "import numpy as np\n",
      "import numpy.ma as ma\n",
      "import decimal\n",
      "import subprocess as sp\n",
      "import numexpr\n",
      "import bottleneck\n",
      "import time"
     ],
     "language": "python",
     "metadata": {},
     "outputs": [],
     "prompt_number": 1
    },
    {
     "cell_type": "heading",
     "level": 4,
     "metadata": {},
     "source": [
      "Function to create lists of all raster inputs as Strings.\n",
      "Search subfolders to create List of input"
     ]
    },
    {
     "cell_type": "code",
     "collapsed": false,
     "input": [
      "def rasterList(varpath, endwith, namefile):\n",
      "    # 1 - Precipitation\n",
      "    input_folder = varpath\n",
      "    varList = [os.path.join(root, name)\n",
      "                 for root, dirs, files in os.walk(input_folder)\n",
      "                 for name in files\n",
      "                 if name.endswith((endwith))]\n",
      "    print namefile + \" files : \"  + str(len(varList))\n",
      "    return varList"
     ],
     "language": "python",
     "metadata": {},
     "outputs": [],
     "prompt_number": 2
    },
    {
     "cell_type": "heading",
     "level": 4,
     "metadata": {},
     "source": [
      "For each variable create a list with the input raster files.\n",
      "Print one list for checking purposes"
     ]
    },
    {
     "cell_type": "code",
     "collapsed": false,
     "input": [
      "prcpList = rasterList('I:/Data/TEST/prcp', \".tif\", \"Precipitation\")\n",
      "tmaxList = rasterList('I:/Data/TEST/tmax', \".tif\", \"Temp Max\")\n",
      "tminList = rasterList('I:/Data/TEST/tmin', \".tif\", \"Temp Min\")\n",
      "ndviList = rasterList('I:/Data/TEST/ndvi', \".tif\", \"NDVI\")\n",
      "lstmList = rasterList('I:/Data/TEST/lst', \".tif\", \"Land surface temp\")\n",
      "evtmList = rasterList('I:/Data/TEST/evtm', \".tif\", \"Evaporation\")\n",
      "print prcpList"
     ],
     "language": "python",
     "metadata": {},
     "outputs": [
      {
       "output_type": "stream",
       "stream": "stdout",
       "text": [
        "Precipitation files : 7\n",
        "Temp Max files : 7\n",
        "Temp Min files : 7\n",
        "NDVI files : 7\n",
        "Land surface temp files : 7\n",
        "Evaporation files : 7\n",
        "['I:/Data/TEST/prcp\\\\2006257.tif', 'I:/Data/TEST/prcp\\\\2006273.tif', 'I:/Data/TEST/prcp\\\\2006289.tif', 'I:/Data/TEST/prcp\\\\2006305.tif', 'I:/Data/TEST/prcp\\\\2006321.tif', 'I:/Data/TEST/prcp\\\\2006337.tif', 'I:/Data/TEST/prcp\\\\2006353.tif']\n"
       ]
      }
     ],
     "prompt_number": 3
    },
    {
     "cell_type": "heading",
     "level": 4,
     "metadata": {},
     "source": [
      "Function to open raster image by providing filepath used to define the \n",
      "subsets for the grouping of variables"
     ]
    },
    {
     "cell_type": "code",
     "collapsed": false,
     "input": [
      "def SubsetImg(nameras):\n",
      "    # Open landcover image\n",
      "    a = gdal.Open(nameras, gdal.GA_ReadOnly)\n",
      "    b = a.GetRasterBand(1)\n",
      "    InRas = b.ReadAsArray()\n",
      "    return InRas"
     ],
     "language": "python",
     "metadata": {},
     "outputs": [],
     "prompt_number": 4
    },
    {
     "cell_type": "heading",
     "level": 4,
     "metadata": {},
     "source": [
      "Define a function that can visualise the output of the selected parts\n",
      "of the landcover map by using basemap library."
     ]
    },
    {
     "cell_type": "code",
     "collapsed": false,
     "input": [
      "def plot_gdal_file ( input_dataset, x, vmin=0, vmax=100 ):\n",
      "    # Need to get the geotransform (ie, corners)\n",
      "    geo = input_dataset.GetGeoTransform()\n",
      "    data = x\n",
      "\n",
      "    # We need to flip the raster upside down\n",
      "    data = np.flipud( data )\n",
      "\n",
      "    # Define a cylindrical projection\n",
      "    projection_opts={'projection':'cyl','resolution':'h'}\n",
      "\n",
      "    # These are the extents in the native raster coordinates\n",
      "    extent = [ geo[0],  geo[0] + input_dataset.RasterXSize*geo[1], \\\n",
      "        geo[3], geo[3] + input_dataset.RasterYSize*geo[5]]\n",
      "    map = Basemap( llcrnrlon=extent[0], llcrnrlat=extent[3], \\\n",
      "                 urcrnrlon=extent[1],urcrnrlat=extent[2],  ** projection_opts)\n",
      "\n",
      "    # Set up some variables of the map presentation\n",
      "    cmap = plt.cm.gist_rainbow\n",
      "    cmap.set_under ('0.8' )\n",
      "    cmap.set_bad('0.8' )\n",
      "    cmap.set_over ('0.8')\n",
      "\n",
      "    # Set range colourbar, draw country borders\n",
      "    map.imshow( data, vmin=vmin, vmax=vmax, cmap=cmap, interpolation='nearest')\n",
      "    map.drawcoastlines (linewidth=0.5, color='k')\n",
      "    map.drawcountries(linewidth=0.5, color='k')\n",
      "    map.drawmeridians( np.arange(0,360,5), color='k')\n",
      "    map.drawparallels( np.arange(-90,90,5), color='k')\n",
      "    map.drawmapboundary()\n",
      "\n",
      "    cb = plt.colorbar( orientation='horizontal', fraction=0.10, shrink=0.8)\n",
      "\n",
      "    # Add custom title to map\n",
      "    plt.title('Landcovertype '+str(i)+' (subset contains: '+str(z)+' values)')\n",
      "    plt.show()"
     ],
     "language": "python",
     "metadata": {},
     "outputs": [],
     "prompt_number": 5
    },
    {
     "cell_type": "heading",
     "level": 4,
     "metadata": {},
     "source": [
      "Load the landcover raster map and create raster file with shape of Landcover\n",
      "raster map to be able to plot the subsets. Further plot original image."
     ]
    },
    {
     "cell_type": "code",
     "collapsed": false,
     "input": [
      "nameras = r'I:/Data/landcover/raw_all_lc_resample.tif'\n",
      "InRas = SubsetImg(nameras)\n",
      "a = gdal.Open(nameras, gdal.GA_ReadOnly)\n",
      "x = np.empty(InRas.shape); x[:] = 127\n",
      "i = '0 - 16'\n",
      "z = InRas.shape[0]*InRas.shape[1]\n",
      "plot_gdal_file(a,InRas,vmin=0,vmax=17) # Return landcover dataset"
     ],
     "language": "python",
     "metadata": {},
     "outputs": [
      {
       "output_type": "display_data",
       "png": "[encoded data removed]"
      }
     ],
     "prompt_number": 6
    },
    {
     "cell_type": "heading",
     "level": 4,
     "metadata": {},
     "source": [
      "Function raster2hdf: input listvar = list: name of raster for the\n",
      "specific variable, namevar = 'string': name of column for HDF5 table"
     ]
    },
    {
     "cell_type": "code",
     "collapsed": false,
     "input": [
      "def raster2hdf(listvar, namevar):\n",
      "    for raster in listvar:\n",
      "\n",
      "        c = gdal.Open(raster, gdal.GA_ReadOnly)\n",
      "        d = c.GetRasterBand(1)\n",
      "        r_data = d.ReadAsArray()\n",
      "        root, ext = os.path.splitext(raster)\n",
      "        name = int(decimal.Decimal(os.path.basename(root)))\n",
      "\n",
      "        # Extract real values from array by compressing the masked items\n",
      "        # Convert numpy array to DataFrame and append to HDF5 table\n",
      "        Arr_df = pd.DataFrame(dict(x=indices[0],\n",
      "                                   y=indices[1],\n",
      "                                   date=name,\n",
      "                                   value=r_data[indices].astype('float'))\n",
      "                              ).set_index(['x','y','date'])\n",
      "        Arr_df.rename(index=None, columns={'value':namevar}, inplace=True)\n",
      "        store.append(namevar,Arr_df)\n",
      "\n",
      "        # Clean up my dirt\n",
      "        c = None\n",
      "        d = None\n",
      "        r_data = None\n",
      "        Arr_extr = None\n",
      "        Arr_df = None\n",
      "        Arr_x = None\n",
      "        Arr_y = None\n",
      "\n",
      "    return store"
     ],
     "language": "python",
     "metadata": {},
     "outputs": [],
     "prompt_number": 7
    },
    {
     "cell_type": "heading",
     "level": 4,
     "metadata": {},
     "source": [
      "Iterate over the different landcover types and extract the area of the\n",
      "Different remote sensing products equal to the landcover type. Store both\n",
      "values as indices in HDFStore."
     ]
    },
    {
     "cell_type": "code",
     "collapsed": false,
     "input": [
      "for i in range(2,3):\n",
      "    # Create HDF5 store files\n",
      "    outFile ='I:/Data/output/demo2\\\\'+str(i)+'.h5'\n",
      "    print outFile\n",
      "    store = HDFStore(outFile, mode='a')\n",
      "\n",
      "    # Mask everything what is not equal to the current landcover type\n",
      "    # Return number of elements of unmasked items for dimensions numpy array\n",
      "    indices = np.where(InRas==i)\n",
      "\n",
      "    x[indices] = i\n",
      "    z = np.sum(x==i)\n",
      "    plot_gdal_file(a,x,vmin=0,vmax=17) # Return plot to visualise mask\n",
      "    x[:] = 127\n",
      "\n",
      "    # 1 - Precipitation\n",
      "    print \"Precipitation................ OK\"\n",
      "    raster2hdf(prcpList,'prcp')\n",
      "    # 2 - Temperature Maximum\n",
      "    print \"TMax......................... OK\"\n",
      "    raster2hdf(tmaxList,'tmax')\n",
      "    # 3 - Temperature Minimum\n",
      "    print \"TMin......................... OK\"\n",
      "    raster2hdf(tminList,'tmin')\n",
      "    # 4 - NDVI\n",
      "    print \"NDVI......................... OK\"\n",
      "    raster2hdf(ndviList,'ndvi')\n",
      "    # 5 - Land surface temperature\n",
      "    print \"Land surface temp............ OK\"\n",
      "    raster2hdf(lstmList,'lstm')\n",
      "    # 6 - Evapotranspiration\n",
      "    print \"Evapotranspiration........... OK\"\n",
      "    raster2hdf(evtmList,'evtm')\n",
      "    print store"
     ],
     "language": "python",
     "metadata": {},
     "outputs": [
      {
       "output_type": "stream",
       "stream": "stdout",
       "text": [
        "I:/Data/output/demo2\\2.h5\n"
       ]
      },
      {
       "output_type": "display_data",
       "png": "[encoded data removed]"
      },
      {
       "output_type": "stream",
       "stream": "stdout",
       "text": [
        "Precipitation................ OK\n",
        "TMax......................... OK"
       ]
      },
      {
       "output_type": "stream",
       "stream": "stdout",
       "text": [
        "\n",
        "TMin......................... OK"
       ]
      },
      {
       "output_type": "stream",
       "stream": "stdout",
       "text": [
        "\n",
        "NDVI......................... OK"
       ]
      },
      {
       "output_type": "stream",
       "stream": "stdout",
       "text": [
        "\n",
        "Land surface temp............ OK"
       ]
      },
      {
       "output_type": "stream",
       "stream": "stdout",
       "text": [
        "\n",
        "Evapotranspiration........... OK"
       ]
      },
      {
       "output_type": "stream",
       "stream": "stdout",
       "text": [
        "\n",
        "<class 'pandas.io.pytables.HDFStore'>\n",
        "File path: I:/Data/output/demo2\\2.h5\n",
        "/evtm            frame_table  (shape->203)\n",
        "/lstm            frame_table  (shape->203)\n",
        "/ndvi            frame_table  (shape->203)\n",
        "/prcp            frame_table  (shape->203)\n",
        "/tmax            frame_table  (shape->203)\n",
        "/tmin            frame_table  (shape->203)"
       ]
      },
      {
       "output_type": "stream",
       "stream": "stdout",
       "text": [
        "\n"
       ]
      }
     ],
     "prompt_number": 8
    },
    {
     "cell_type": "heading",
     "level": 4,
     "metadata": {},
     "source": [
      "Next few lines of code returns the head of the different nodes saved in the\n",
      "HDFStore"
     ]
    },
    {
     "cell_type": "code",
     "collapsed": false,
     "input": [
      "print store['evtm'].head(2)\n",
      "print store['lstm'].head(2)\n",
      "print store['ndvi'].head(2)\n",
      "print store['prcp'].head(2)\n",
      "print store['tmax'].head(2)\n",
      "print store['tmin'].head(2)"
     ],
     "language": "python",
     "metadata": {},
     "outputs": [
      {
       "output_type": "stream",
       "stream": "stdout",
       "text": [
        "                 evtm\n",
        "x   y   date         \n",
        "928 310 2006257   133\n",
        "932 400 2006257   236\n",
        "                  lstm\n",
        "x   y   date          \n",
        "928 310 2006257  14987\n",
        "932 400 2006257  14894\n",
        "                 ndvi\n",
        "x   y   date         \n",
        "928 310 2006257  7045\n",
        "932 400 2006257  7698\n",
        "                      prcp\n",
        "x   y   date              \n",
        "928 310 2006257  18.278536\n",
        "932 400 2006257  13.157849"
       ]
      },
      {
       "output_type": "stream",
       "stream": "stdout",
       "text": [
        "\n",
        "                       tmax\n",
        "x   y   date               \n",
        "928 310 2006257  240.233765\n",
        "932 400 2006257  245.468414\n",
        "                       tmin\n",
        "x   y   date               \n",
        "928 310 2006257  171.506714\n",
        "932 400 2006257  167.717743\n"
       ]
      }
     ],
     "prompt_number": 9
    },
    {
     "cell_type": "heading",
     "level": 4,
     "metadata": {},
     "source": [
      "Now we've converted and appended the data of the remote sensing products into\n",
      "Different HDFStores. But next step is to do an inner merge on the data values\n",
      "to obtain a new node to be used as input for the kohonen analysis. Let's\n",
      "start with creating a list of the .h5 files in the folder used for conversion."
     ]
    },
    {
     "cell_type": "code",
     "collapsed": false,
     "input": [
      "hdfList = rasterList('I:/Data/output/demo2', '.h5','HDFStore')\n",
      "A = store"
     ],
     "language": "python",
     "metadata": {},
     "outputs": [
      {
       "output_type": "stream",
       "stream": "stdout",
       "text": [
        "HDFStore files : 1\n"
       ]
      }
     ],
     "prompt_number": 10
    },
    {
     "cell_type": "heading",
     "level": 4,
     "metadata": {},
     "source": [
      "We will only demonstrate the code for the file instead of using a for loop.\n",
      "Firstly create a link to the store containing the data and create a\n",
      "temporarily HDFStore."
     ]
    },
    {
     "cell_type": "code",
     "collapsed": false,
     "input": [
      "h5 = hdfList[0]\n",
      "h5temp = h5.replace('.h5','temp.h5')\n",
      "A = HDFStore(h5)\n",
      "Atemp = HDFStore(h5temp)\n",
      "print A\n",
      "print Atemp"
     ],
     "language": "python",
     "metadata": {},
     "outputs": [
      {
       "output_type": "stream",
       "stream": "stdout",
       "text": [
        "<class 'pandas.io.pytables.HDFStore'>\n",
        "File path: I:/Data/output/demo2\\2.h5\n",
        "/evtm            frame_table  (shape->203)\n",
        "/lstm            frame_table  (shape->203)\n",
        "/ndvi            frame_table  (shape->203)\n",
        "/prcp            frame_table  (shape->203)\n",
        "/tmax            frame_table  (shape->203)\n",
        "/tmin            frame_table  (shape->203)\n",
        "<class 'pandas.io.pytables.HDFStore'>\n",
        "File path: I:/Data/output/demo2\\2temp.h5\n",
        "Empty\n"
       ]
      }
     ],
     "prompt_number": 11
    },
    {
     "cell_type": "heading",
     "level": 4,
     "metadata": {},
     "source": [
      "Then we set the chunk size and get the number of rows of the two nodes to be\n",
      "able to decide the start and stop moments of each chunk"
     ]
    },
    {
     "cell_type": "code",
     "collapsed": false,
     "input": [
      "nrows_a = A.get_storer('evtm').nrows\n",
      "nrows_b = A.get_storer('lstm').nrows\n",
      "a_chunk_size = 100\n",
      "b_chunk_size = 100"
     ],
     "language": "python",
     "metadata": {},
     "outputs": [],
     "prompt_number": 12
    },
    {
     "cell_type": "heading",
     "level": 4,
     "metadata": {},
     "source": [
      "Now we can merge the two nodes together with the following code. The merged\n",
      "nodes will be stored in the temporarily store Atemp."
     ]
    },
    {
     "cell_type": "code",
     "collapsed": false,
     "input": [
      "for a in xrange(int(nrows_a / a_chunk_size) + 1):\n",
      "    a_start_i = a * a_chunk_size\n",
      "    a_stop_i  = min((a + 1) * a_chunk_size, nrows_a)\n",
      "    print '** evtm rows '+str(a_start_i)+' - '+str(a_stop_i)+' **'\n",
      "    a = A.select('evtm', start = a_start_i, stop = a_stop_i)\n",
      "    for b in xrange(int(nrows_b / b_chunk_size) + 1):\n",
      "        b_start_i = b * b_chunk_size\n",
      "        b_stop_i = min((b + 1) * b_chunk_size, nrows_b)\n",
      "        print 'lstm rows '+str(b_start_i)+' - '+str(b_stop_i)\n",
      "        b = A.select('lstm', start = b_start_i, stop = b_stop_i)\n",
      "        try:\n",
      "            df = pd.merge(a, b , left_index=True, right_index=True,how='inner')\n",
      "        except Exception as err:\n",
      "            print \"no merge possible between rows, but let's continue\"\n",
      "            df = []\n",
      "        if len(df):\n",
      "            Atemp.append('el', df)"
     ],
     "language": "python",
     "metadata": {},
     "outputs": [
      {
       "output_type": "stream",
       "stream": "stdout",
       "text": [
        "** evtm rows 0 - 100 **\n",
        "lstm rows 0 - 100\n",
        "lstm rows 100 - 200\n",
        "lstm rows 200 - 203\n",
        "** evtm rows 100 - 200 **\n",
        "lstm rows 0 - 100"
       ]
      },
      {
       "output_type": "stream",
       "stream": "stdout",
       "text": [
        "\n",
        "lstm rows 100 - 200\n",
        "lstm rows 200 - 203\n",
        "** evtm rows 200 - 203 **\n",
        "lstm rows 0 - 100\n",
        "lstm rows 100 - 200\n",
        "lstm rows 200 - 203\n"
       ]
      }
     ],
     "prompt_number": 13
    },
    {
     "cell_type": "heading",
     "level": 4,
     "metadata": {},
     "source": [
      "Since we want to merge all the different remote sensing products set up a\n",
      "function which assist us."
     ]
    },
    {
     "cell_type": "code",
     "collapsed": false,
     "input": [
      "def mergeVarAAtemp(col_in1,col_in2,col_out):\n",
      "    print 'merging '+col_in1+' with '+col_in2+' to '+col_out\n",
      "    nrows_a = A.get_storer(col_in1).nrows\n",
      "    nrows_b = Atemp.get_storer(col_in2).nrows\n",
      "    a_chunk_size = 100\n",
      "    b_chunk_size = 100\n",
      "\n",
      "    for a in xrange(int(nrows_a / a_chunk_size) + 1):\n",
      "        a_start_i = a * a_chunk_size\n",
      "        a_stop_i  = min((a + 1) * a_chunk_size, nrows_a)\n",
      "        print '* '+str(col_in1)+' rows '+str(a_start_i)+' - '+str(a_stop_i)+' *'\n",
      "        a = A.select(col_in1, start = a_start_i, stop = a_stop_i)\n",
      "        for b in xrange(int(nrows_b / b_chunk_size) + 1):\n",
      "            b_start_i = b * b_chunk_size\n",
      "            b_stop_i = min((b + 1) * b_chunk_size, nrows_b)\n",
      "            print str(col_in2)+' rows '+str(b_start_i)+' - '+str(b_stop_i)\n",
      "            b = Atemp.select(col_in2, start = b_start_i, stop = b_stop_i)\n",
      "            try:\n",
      "                df = pd.merge(a, b , left_index=True, right_index=True,\n",
      "                              how='inner')\n",
      "            except Exception as err:\n",
      "                print \"no merge possible between rows, but let's continue\"\n",
      "                ##df = pd.merge(a, b , left_index=True, right_index=True, how='outer').dropna()\n",
      "                df = []\n",
      "            if len(df):\n",
      "                Atemp.append(col_out, df)\n",
      "    return\n",
      "\n",
      "mergeVarAAtemp('ndvi','el','eln')\n",
      "del Atemp['el']\n",
      "mergeVarAAtemp('prcp','eln','elnp')\n",
      "del Atemp['eln']\n",
      "mergeVarAAtemp('tmax','elnp','elnpt')\n",
      "del Atemp['elnp']\n",
      "mergeVarAAtemp('tmin','elnpt','elnptt')\n",
      "del Atemp['elnpt']\n",
      "print \"Merging data columns......... OK\""
     ],
     "language": "python",
     "metadata": {},
     "outputs": [
      {
       "output_type": "stream",
       "stream": "stdout",
       "text": [
        "merging ndvi with el to eln\n",
        "* ndvi rows 0 - 100 *\n",
        "el rows 0 - 100\n",
        "el rows 100 - 200\n",
        "el rows 200 - 203\n",
        "* ndvi rows 100 - 200 *\n",
        "el rows 0 - 100\n",
        "el rows 100 - 200"
       ]
      },
      {
       "output_type": "stream",
       "stream": "stdout",
       "text": [
        "\n",
        "el rows 200 - 203\n",
        "* ndvi rows 200 - 203 *\n",
        "el rows 0 - 100\n",
        "el rows 100 - 200\n",
        "el rows 200 - 203\n",
        "merging prcp with eln to elnp\n",
        "* prcp rows 0 - 100 *\n",
        "eln rows 0 - 100\n",
        "eln rows 100 - 200"
       ]
      },
      {
       "output_type": "stream",
       "stream": "stdout",
       "text": [
        "\n",
        "eln rows 200 - 203\n",
        "* prcp rows 100 - 200 *\n",
        "eln rows 0 - 100\n",
        "eln rows 100 - 200\n",
        "eln rows 200 - 203\n",
        "* prcp rows 200 - 203 *\n",
        "eln rows 0 - 100\n",
        "eln rows 100 - 200\n",
        "eln rows 200 - 203\n",
        "merging tmax with elnp to elnpt"
       ]
      },
      {
       "output_type": "stream",
       "stream": "stdout",
       "text": [
        "\n",
        "* tmax rows 0 - 100 *\n",
        "elnp rows 0 - 100\n",
        "elnp rows 100 - 200\n",
        "elnp rows 200 - 203\n",
        "* tmax rows 100 - 200 *\n",
        "elnp rows 0 - 100\n",
        "elnp rows 100 - 200"
       ]
      },
      {
       "output_type": "stream",
       "stream": "stdout",
       "text": [
        "\n",
        "elnp rows 200 - 203\n",
        "* tmax rows 200 - 203 *\n",
        "elnp rows 0 - 100\n",
        "elnp rows 100 - 200\n",
        "elnp rows 200 - 203\n",
        "merging tmin with elnpt to elnptt\n",
        "* tmin rows 0 - 100 *\n",
        "elnpt rows 0 - 100\n",
        "elnpt rows 100 - 200"
       ]
      },
      {
       "output_type": "stream",
       "stream": "stdout",
       "text": [
        "\n",
        "elnpt rows 200 - 203\n",
        "* tmin rows 100 - 200 *\n",
        "elnpt rows 0 - 100\n",
        "elnpt rows 100 - 200\n",
        "elnpt rows 200 - 203\n",
        "* tmin rows 200 - 203 *\n",
        "elnpt rows 0 - 100\n",
        "elnpt rows 100 - 200\n",
        "elnpt rows 200 - 203\n",
        "Merging data columns......... OK"
       ]
      },
      {
       "output_type": "stream",
       "stream": "stdout",
       "text": [
        "\n"
       ]
      }
     ],
     "prompt_number": 14
    },
    {
     "cell_type": "heading",
     "level": 4,
     "metadata": {},
     "source": [
      "First an overview of the head of the inner merged nodes."
     ]
    },
    {
     "cell_type": "code",
     "collapsed": false,
     "input": [
      "print Atemp['elnptt'].head()\n",
      "print Atemp['elnptt'].dtypes"
     ],
     "language": "python",
     "metadata": {},
     "outputs": [
      {
       "output_type": "stream",
       "stream": "stdout",
       "text": [
        "                       tmin        tmax       prcp  ndvi  evtm   lstm\n",
        "x   y   date                                                         \n",
        "928 310 2006257  171.506714  240.233765  18.278536  7045   133  14987\n",
        "932 400 2006257  167.717743  245.468414  13.157849  7698   236  14894\n",
        "939 311 2006257  170.904999  240.035980  19.102280  7536   253  14849\n",
        "941 312 2006257  170.657303  239.983673  19.242897  7558   152  14857\n",
        "942 283 2006257  173.565048  240.756378  19.599014  4347    68  15078\n",
        "tmin    float64\n",
        "tmax    float64\n",
        "prcp    float64\n",
        "ndvi    float64\n",
        "evtm    float64\n",
        "lstm    float64\n",
        "dtype: object\n"
       ]
      }
     ],
     "prompt_number": 15
    },
    {
     "cell_type": "heading",
     "level": 4,
     "metadata": {},
     "source": [
      "Need to further massage the data to add a index on the right starting with\n",
      "one. Since the HDFStore is row-oriented it's not possible to add columns to\n",
      "existing nodes. Furthermore the index should be created lazily to avoid a\n",
      "Memory Error (which does'nt work with big datasets, need something different). The index created is based on the selection that is merged.\n",
      "Final product is stored in the original HDFStore and the temporarily HDFStore\n",
      "will be deleted."
     ]
    },
    {
     "cell_type": "code",
     "collapsed": false,
     "input": [
      "print \"Reset index.................. OK\"\n",
      "for chunk in Atemp.select('elnptt', chunksize=100):\n",
      "    df = chunk.reset_index()\n",
      "    try:\n",
      "        nrows = Atemp.get_storer('elnpttnoin').nrows\n",
      "    except:\n",
      "        nrows = 0\n",
      "    df.index = pd.Series(df.index) + nrows\n",
      "    Atemp.append('elnpttnoin',df)\n",
      "\n",
      "del Atemp['elnptt']\n",
      "\n",
      "print \"Add right index.............. OK\"\n",
      "Atemp.append('data_column', pd.DataFrame(pd.Series(xrange(1,\n",
      "         len(Atemp.root.elnpttnoin.table)+1),\n",
      "         dtype='int32'),columns=['indx']), data_column=True)\n",
      "\n",
      "\n",
      "print \"Multiple node select......... OK\"\n",
      "for chunk in Atemp.select_as_multiple(['elnpttnoin','data_column'],\n",
      "                                      chunksize=100):\n",
      "    Atemp.append('elnpttnoindc',chunk)\n",
      "del Atemp['data_column']\n",
      "del Atemp['elnpttnoin']\n",
      "\n",
      "\n",
      "print \"Set index.................... OK\"\n",
      "print \"From temp to original store.. OK\"\n",
      "for chunk in Atemp.select('elnpttnoindc', chunksize=100):\n",
      "    chunk[['tmin','tmax','prcp']] = chunk[['tmin','tmax','prcp']].astype(float)\n",
      "    chunk[['ndvi','evtm','lstm']] = chunk[['ndvi','evtm','lstm']].astype(int)\n",
      "    A.append('data_index', chunk.set_index(['x','y','date']))\n",
      "del Atemp['elnpttnoindc']\n",
      "\n",
      "print \"Remove temporarily store..... OK\"\n",
      "print Atemp\n",
      "Atemp.close()\n",
      "os.remove(h5temp)\n",
      "print A['data_index']"
     ],
     "language": "python",
     "metadata": {},
     "outputs": [
      {
       "output_type": "stream",
       "stream": "stdout",
       "text": [
        "Reset index.................. OK\n",
        "Add right index.............. OK"
       ]
      },
      {
       "output_type": "stream",
       "stream": "stdout",
       "text": [
        "\n",
        "Multiple node select......... OK\n",
        "Set index.................... OK\n",
        "From temp to original store.. OK\n",
        "Remove temporarily store..... OK"
       ]
      },
      {
       "output_type": "stream",
       "stream": "stdout",
       "text": [
        "\n",
        "<class 'pandas.io.pytables.HDFStore'>\n",
        "File path: I:/Data/output/demo2\\2temp.h5\n",
        "Empty\n",
        "<class 'pandas.core.frame.DataFrame'>\n",
        "MultiIndex: 203 entries, (928, 310, 2006257) to (1000, 238, 2006353)\n",
        "Data columns (total 7 columns):\n",
        "tmin    203  non-null values\n",
        "tmax    203  non-null values\n",
        "prcp    203  non-null values\n",
        "ndvi    203  non-null values\n",
        "evtm    203  non-null values\n",
        "lstm    203  non-null values\n",
        "indx    203  non-null values\n",
        "dtypes: float64(3), int32(4)"
       ]
      },
      {
       "output_type": "stream",
       "stream": "stdout",
       "text": [
        "\n"
       ]
      }
     ],
     "prompt_number": 16
    },
    {
     "cell_type": "heading",
     "level": 4,
     "metadata": {},
     "source": [
      "Finally we've to create a .vec file that has a header containing some general\n",
      "information."
     ]
    },
    {
     "cell_type": "code",
     "collapsed": false,
     "input": [
      "outVec = h5.replace('.h5','.vec')\n",
      "a = np.asarray([['$TYPE vec'],\n",
      "                ['$XDIM '+str(len(A.root.data_index.table))],\n",
      "                ['$YDIM 1'],\n",
      "                ['$VEC_DIM 6']\n",
      "               ])\n",
      "np.savetxt(outVec,a, fmt='%s')"
     ],
     "language": "python",
     "metadata": {},
     "outputs": [],
     "prompt_number": 17
    },
    {
     "cell_type": "heading",
     "level": 4,
     "metadata": {},
     "source": [
      "And accordingly we append the data chunk by chunk to the .vec file and close\n",
      "the door behind us."
     ]
    },
    {
     "cell_type": "code",
     "collapsed": false,
     "input": [
      "for chunk in A.select('data_index', chunksize=100):\n",
      "    chunk.to_csv(outVec, sep=' ', header=False, index=False, mode='ab')\n",
      "A.close()\n",
      "print \"Converting 2 vec file........ OK\""
     ],
     "language": "python",
     "metadata": {},
     "outputs": [
      {
       "output_type": "stream",
       "stream": "stdout",
       "text": [
        "Converting 2 vec file........ OK\n"
       ]
      }
     ],
     "prompt_number": 18
    },
    {
     "cell_type": "heading",
     "level": 4,
     "metadata": {},
     "source": [
      "Next step is to normalise the values based on the standard deviation and to\n",
      "train the values as a unsupervised neural network mdoel also known as the\n",
      "Self-Organising Map. We use the software Java SOMToolbox developed at the\n",
      "Institute of Software Technology and Interactive System at the Vienna\n",
      "University of Technology."
     ]
    },
    {
     "cell_type": "code",
     "collapsed": false,
     "input": [
      "# Normalisation of the data\n",
      "outVecNorm = outVec.replace('.vec','_norm.vec')\n",
      "bat = r\"C:\\Program Files\\SOMToolbox\\somtoolbox.bat\"\n",
      "paramsnorm = [bat, \"SOMLibVectorNormalization\", \"-m\", \"STANDARD_SCORE\",\n",
      "              outVec, outVecNorm]\n",
      "print sp.list2cmdline(paramsnorm)\n",
      "norm = sp.Popen(sp.list2cmdline(paramsnorm))\n",
      "print \"Data normalisation........... OK\""
     ],
     "language": "python",
     "metadata": {},
     "outputs": [
      {
       "output_type": "stream",
       "stream": "stdout",
       "text": [
        "\"C:\\Program Files\\SOMToolbox\\somtoolbox.bat\" SOMLibVectorNormalization -m STANDARD_SCORE I:/Data/output/demo2\\2.vec I:/Data/output/demo2\\2_norm.vec\n",
        "Data normalisation........... OK"
       ]
      },
      {
       "output_type": "stream",
       "stream": "stdout",
       "text": [
        "\n"
       ]
      }
     ],
     "prompt_number": 19
    },
    {
     "cell_type": "heading",
     "level": 4,
     "metadata": {},
     "source": [
      "Training of the data if files exist"
     ]
    },
    {
     "cell_type": "code",
     "collapsed": false,
     "input": [
      "def train():\n",
      "    paramstrain = [bat, \"GrowingSOM\", r\"I:\\Data\\output\\demo2\\som.prop\"]\n",
      "    print sp.list2cmdline(paramstrain)\n",
      "    train = sp.Popen(sp.list2cmdline(paramstrain))\n",
      "    print \"Data training................ OK\"\n",
      "\n",
      "if os.path.isfile(outVecNorm):\n",
      "    train()\n",
      "else:\n",
      "    print 'no files to train'"
     ],
     "language": "python",
     "metadata": {},
     "outputs": [
      {
       "output_type": "stream",
       "stream": "stdout",
       "text": [
        "\"C:\\Program Files\\SOMToolbox\\somtoolbox.bat\" GrowingSOM I:\\Data\\output\\demo2\\som.prop\n",
        "Data training................ OK\n",
        "\"C:\\Program Files\\SOMToolbox\\somtoolbox.bat\" GrowingSOM I:\\Data\\output\\demo2\\som.prop\n",
        "Data training................ OK\n"
       ]
      }
     ],
     "prompt_number": 22
    },
    {
     "cell_type": "heading",
     "level": 4,
     "metadata": {},
     "source": [
      "Viewing of the data"
     ]
    },
    {
     "cell_type": "code",
     "collapsed": false,
     "input": [
      "def view():\n",
      "    paramsview = [bat, \"SOMViewer\", '-u',\n",
      "                  r\"I:\\Data\\output\\demo2\\SOM\\demo.unit.gz\", '-w',\n",
      "                  r\"I:\\Data\\output\\demo2\\SOM\\demo.wgt.gz\",'--dw',\n",
      "                  r\"I:\\Data\\output\\demo2\\SOM\\demo.dwm.gz\"]\n",
      "    print sp.list2cmdline(paramsview)\n",
      "    view = sp.Popen(sp.list2cmdline(paramsview))\n",
      "    print \"Trying to view data.......... OK\"\n",
      "\n",
      "print 'training of data is in progress..'\n",
      "\n",
      "time.sleep(3)\n",
      "\n",
      "if os.path.isfile(r\"I:\\Data\\output\\demo2\\SOM\\demo.dwm.gz\"):\n",
      "    view()\n",
      "else:\n",
      "    print 'no files to view'"
     ],
     "language": "python",
     "metadata": {},
     "outputs": [
      {
       "output_type": "stream",
       "stream": "stdout",
       "text": [
        "training of data is in progress..\n",
        "\"C:\\Program Files\\SOMToolbox\\somtoolbox.bat\" SOMViewer -u I:\\Data\\output\\demo2\\SOM\\demo.unit.gz -w I:\\Data\\output\\demo2\\SOM\\demo.wgt.gz --dw I:\\Data\\output\\demo2\\SOM\\demo.dwm.gz"
       ]
      },
      {
       "output_type": "stream",
       "stream": "stdout",
       "text": [
        "\n",
        "Trying to view data.......... OK\n"
       ]
      }
     ],
     "prompt_number": 23
    },
    {
     "cell_type": "heading",
     "level": 4,
     "metadata": {},
     "source": [
      "Several different concept visualisation outputs for illustration purposes only. It's just testing of the different possibilties. Images are from today 24/7/2013. Different clusters are cleary visible. In the image with overview of all 6 variables gives nice overview. Even though it's not reliable since evtm file contains some very high values for urban areas, which should be filtered, for this reason the normalisation is biased and this results in a predominantly red map for the 'normal' values, with the biased high values as blue in the bottom left corner. Last six maps are the different component planes individually, with different colours. No labels are given but they are from left to right, top to bottom, tmin, tmax, prcp, ndvi, evtm, and lstm"
     ]
    },
    {
     "cell_type": "markdown",
     "metadata": {},
     "source": [
      "<img src=\"files/1.png\">\n",
      "<img src=\"files/2.png\">\n",
      "<img src=\"files/3.png\">\n",
      "<img src=\"files/4.png\">\n",
      "<img src=\"files/5.png\">\n",
      "<img src=\"files/6.png\">\n",
      "<img src=\"files/7tmin.png\">\n",
      "<img src=\"files/8tmax.png\">\n",
      "<img src=\"files/9prcp.png\">\n",
      "<img src=\"files/10ndvi.png\">\n",
      "<img src=\"files/11evtm.png\">\n",
      "<img src=\"files/12lstm.png\">"
     ]
    },
    {
     "cell_type": "code",
     "collapsed": false,
     "input": [],
     "language": "python",
     "metadata": {},
     "outputs": [],
     "prompt_number": 21
    },
    {
     "cell_type": "code",
     "collapsed": false,
     "input": [],
     "language": "python",
     "metadata": {},
     "outputs": [],
     "prompt_number": 21
    }
   ],
   "metadata": {}
  }
 ]
}