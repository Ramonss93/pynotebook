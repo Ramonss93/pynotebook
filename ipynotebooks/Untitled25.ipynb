{
 "metadata": {
  "name": ""
 },
 "nbformat": 3,
 "nbformat_minor": 0,
 "worksheets": [
  {
   "cells": [
    {
     "cell_type": "code",
     "collapsed": false,
     "input": [
      "%connect_info"
     ],
     "language": "python",
     "metadata": {},
     "outputs": [
      {
       "output_type": "stream",
       "stream": "stdout",
       "text": [
        "{\n",
        "  \"iopub_port\": 57032, \n",
        "  \"signature_scheme\": \"hmac-sha256\", \n",
        "  \"ip\": \"127.0.0.1\", \n",
        "  \"hb_port\": 57035, \n",
        "  \"key\": \"83a9be28-c9ef-42a4-95fb-bb346105e297\", \n",
        "  \"control_port\": 57034, \n",
        "  \"stdin_port\": 57033, \n",
        "  \"transport\": \"tcp\", \n",
        "  \"shell_port\": 57031\n",
        "}\n",
        "\n",
        "Paste the above JSON into a file, and connect with:\n",
        "    $> ipython <app> --existing <file>\n",
        "or, if you are local, you can connect with just:\n",
        "    $> ipython <app> --existing kernel-8e7c625d-a69e-4120-ba55-144923c75b2b.json \n",
        "or even just:\n",
        "    $> ipython <app> --existing \n",
        "if this is the most recent IPython session you have started.\n"
       ]
      }
     ],
     "prompt_number": 1
    },
    {
     "cell_type": "code",
     "collapsed": false,
     "input": [],
     "language": "python",
     "metadata": {},
     "outputs": []
    }
   ],
   "metadata": {}
  }
 ]
}