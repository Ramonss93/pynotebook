{
 "metadata": {
  "name": "Interpolation Solar Radiation_CHINA"
 },
 "nbformat": 3,
 "nbformat_minor": 0,
 "worksheets": [
  {
   "cells": [
    {
     "cell_type": "code",
     "collapsed": false,
     "input": [
      "import pandas as pd\n",
      "import os\n",
      "from datetime import datetime\n",
      "import numpy as np\n",
      "from __future__ import division\n",
      "from osgeo import gdal\n",
      "from scipy.spatial import cKDTree as KDTree\n",
      "from scipy.spatial.distance import cdist\n",
      "import statsmodels.api as sm"
     ],
     "language": "python",
     "metadata": {},
     "outputs": [],
     "prompt_number": 1
    },
    {
     "cell_type": "code",
     "collapsed": false,
     "input": [
      "def Raster(inpath):\n",
      "    raster = gdal.Open(inpath, gdal.GA_ReadOnly)\n",
      "    band = raster.GetRasterBand(1)\n",
      "    dem = band.ReadAsArray()\n",
      "    extent = raster.GetGeoTransform()\n",
      "    return raster, dem, extent"
     ],
     "language": "python",
     "metadata": {},
     "outputs": [],
     "prompt_number": 2
    },
    {
     "cell_type": "code",
     "collapsed": false,
     "input": [
      "def saveRaster(path, array, datatype=6, formatraster=\"GTiff\"):\n",
      "    # Set Driver\n",
      "    format_ = formatraster #save as format\n",
      "    driver = gdal.GetDriverByName( format_ )\n",
      "    driver.Register()\n",
      "    \n",
      "    # Set Metadata for Raster output\n",
      "    cols = raster.RasterXSize\n",
      "    rows = raster.RasterYSize\n",
      "    bands = raster.RasterCount\n",
      "    datatype = 6#band.DataType\n",
      "    \n",
      "    # Set Projection for Raster\n",
      "    outDataset = driver.Create(outFilename, cols, rows, bands, datatype)\n",
      "    geoTransform = raster.GetGeoTransform()\n",
      "    outDataset.SetGeoTransform(geoTransform)\n",
      "    proj = raster.GetProjection()\n",
      "    outDataset.SetProjection(proj)\n",
      "    \n",
      "    # Write output to band 1 of new Raster\n",
      "    outBand = outDataset.GetRasterBand(1)\n",
      "    outBand.WriteArray(array) #save input array\n",
      "    #outBand.WriteArray(dem)\n",
      "    \n",
      "    # Close and finalise newly created Raster\n",
      "    #F_M01 = None\n",
      "    outBand = None\n",
      "    proj = None\n",
      "    geoTransform = None\n",
      "    outDataset = None\n",
      "    driver = None\n",
      "    datatype = None\n",
      "    bands = None\n",
      "    rows = None\n",
      "    cols = None\n",
      "    driver = None\n",
      "    array = None"
     ],
     "language": "python",
     "metadata": {},
     "outputs": [],
     "prompt_number": 3
    },
    {
     "cell_type": "code",
     "collapsed": false,
     "input": [
      "def IDWKDtree(x,y):    \n",
      "    x_y = [(x,y)] # for kd_tree that starts counting at bottom left with 0,0    \n",
      "        \n",
      "    dist_tree, ix_tree = tree.query(x_y, k=8, eps=0, p=1) # returns distance and index\n",
      "    dist_tree = dist_tree.flatten()\n",
      "    ix_tree  = ix_tree.flatten()\n",
      "    df_selection = sel_merge.ix[ix_tree.ravel()] # select 8 neighbours\n",
      "    c = df_selection.ix[:,4]\n",
      "    \n",
      "    if dist_tree[0] < 1e-10:\n",
      "        wz = c.ix[ix_tree[0]]\n",
      "    else:\n",
      "        w = 1 / dist_tree**2\n",
      "    w /= np.sum(w)\n",
      "    wz = np.dot(w, c.ix[ix_tree])\n",
      "    return wz"
     ],
     "language": "python",
     "metadata": {},
     "outputs": [],
     "prompt_number": 4
    },
    {
     "cell_type": "code",
     "collapsed": false,
     "input": [
      "def GIDS(x,y):    \n",
      "    x_y = [(x,y)] # for kd_tree that starts counting at bottom left with 0,0\n",
      "    #print x_y\n",
      "    x_ = (x*extent[1]+extent[0]+extent[1]/2) # longitude aalbers projection (meters)\n",
      "    y_ = (y*extent[5]+extent[3]+extent[5]/2) # latitude aalbers projection (meters)\n",
      "    long_lat = np.array([[x_,y_]])\n",
      "    \n",
      "    #print long_lat\n",
      "    \n",
      "    dem_1 = dem[y,x] # elevation x_y coordinate\n",
      "    dist_tree, ix_tree = tree.query(x_y, k=8, eps=0, p=1) # returns distance and index\n",
      "    df_selection = sel_merge.ix[ix_tree.ravel()]\n",
      "    \n",
      "    #print 'elevation from x_y -', dem_1\n",
      "    #print '\\n10 nearest neighbours\\n', df_selection\n",
      "    \n",
      "    Longi = df_selection.ix[:,9] # POINT_X\n",
      "    Lati = df_selection.ix[:,8] # POINT_Y\n",
      "    hi = df_selection.ix[:,7]\n",
      "    #print 'longi\\n',Longi\n",
      "    #print 'latgi\\n',Lati\n",
      "    #print 'hi\\n',hi    \n",
      "    ##TEMP\n",
      "    ti = df_selection.ix[:,4]\n",
      "    #print 'value\\n',ti\n",
      "    \n",
      "    pr_var = zip(Longi,Lati,hi) # combines predictor variables as tuples\n",
      "    y = zip(ti) # dependent variable\n",
      "    X = sm.add_constant(pr_var, prepend=True) # multiple linear regression\n",
      "    \n",
      "    #fit the model\n",
      "    mlr = sm.OLS(y,X).fit()\n",
      "    b0,b1,b2,b3 = mlr.params\n",
      "    #print mlr.summary()\n",
      "    \n",
      "    long_lat_stations = df_selection.as_matrix(columns=['POINT_X','POINT_Y'])\n",
      "                                 \n",
      "    di = cdist(long_lat_stations, long_lat, 'euclidean') # Returns Eucleadian distance in meters between grid cell and selected weather-stations\n",
      "    \n",
      "    # prepare datasets as flattened numpy array or as single values\n",
      "    Hi = df_selection.as_matrix(columns=['Elevation']).flatten()\n",
      "    Ti = df_selection.as_matrix(columns=['Value']).flatten() # column with values of solar radiation\n",
      "    \n",
      "    di_ = di.flatten()\n",
      "    long_lat_ = long_lat.flatten()\n",
      "    Longi_ = df_selection.as_matrix(columns=['POINT_X',]).flatten()\n",
      "    Lati_ = df_selection.as_matrix(columns=['POINT_Y',]).flatten()\n",
      "    #print 'hi\\n',Hi\n",
      "    #print 'valuei\\n',Ti\n",
      "    #print 'di\\n',di\n",
      "    #print 'long_lat\\n',long_lat\n",
      "    #print 'longi\\n',Longi_\n",
      "    #print 'lati\\n',Lati_\n",
      "    \n",
      "    top =    sum( (1/di_)**2 )**-1\n",
      "    long_f = b1*(long_lat_[0]-Longi_)\n",
      "    lat_f =  b2*(long_lat_[1]-Lati_)\n",
      "    h_f =    b3*(dem_1-Hi)\n",
      "    middle = Ti + long_f + lat_f + h_f\n",
      "    end = (1/di_)**2 \n",
      "    comb = top * sum( middle * end )\n",
      "    #print comb\n",
      "    return comb"
     ],
     "language": "python",
     "metadata": {},
     "outputs": [],
     "prompt_number": 10
    },
    {
     "cell_type": "code",
     "collapsed": false,
     "input": [
      "data = r'C:\\Users\\MATTIJN\\Desktop//2010_radiation.txt'\n",
      "stations = r'I:\\Documents\\Klusjes\\SolarRadiation//stations.csv'\n",
      "dempath = r'I:\\Documents\\Klusjes\\SolarRadiation//dem25km.tif'\n",
      "outFolder = r'I:\\Documents\\Klusjes\\SolarRadiation\\tif_interpolation//'\n",
      "prefix = 'SRgids'\n",
      "\n",
      "df_d = pd.read_csv(data, sep=',', header=None)\n",
      "df_d.columns = ['Station', 'Year', 'Month', 'Day', 'Value']\n",
      "df_d.Value *= 0.01\n",
      "df_d = df_d.groupby(['Year','Month','Day']).reset_index(drop=True)\n",
      "df_d.Value = df_d.Value.astype(float).replace(32766, np.nan).replace(0,np.nan)\n",
      "df_d = df_d.dropna()\n",
      "print len(df_d)\n",
      "\n",
      "df_s = pd.read_csv(stations, sep=',')# delim_whitespace=True)#, header=None, skiprows=1)\n",
      "\n",
      "df_d.head()"
     ],
     "language": "python",
     "metadata": {},
     "outputs": [
      {
       "output_type": "stream",
       "stream": "stdout",
       "text": [
        "28754\n"
       ]
      },
      {
       "html": [
        "<div style=\"max-height:1000px;max-width:1500px;overflow:auto;\">\n",
        "<table border=\"1\" class=\"dataframe\">\n",
        "  <thead>\n",
        "    <tr style=\"text-align: right;\">\n",
        "      <th></th>\n",
        "      <th></th>\n",
        "      <th></th>\n",
        "      <th></th>\n",
        "      <th>Station</th>\n",
        "      <th>Year</th>\n",
        "      <th>Month</th>\n",
        "      <th>Day</th>\n",
        "      <th>Value</th>\n",
        "    </tr>\n",
        "    <tr>\n",
        "      <th>Year</th>\n",
        "      <th>Month</th>\n",
        "      <th>Day</th>\n",
        "      <th></th>\n",
        "      <th></th>\n",
        "      <th></th>\n",
        "      <th></th>\n",
        "      <th></th>\n",
        "      <th></th>\n",
        "    </tr>\n",
        "  </thead>\n",
        "  <tbody>\n",
        "    <tr>\n",
        "      <th rowspan=\"5\" valign=\"top\">2010</th>\n",
        "      <th rowspan=\"5\" valign=\"top\">1</th>\n",
        "      <th rowspan=\"5\" valign=\"top\">1</th>\n",
        "      <th>0</th>\n",
        "      <td> 51431</td>\n",
        "      <td> 2010</td>\n",
        "      <td> 1</td>\n",
        "      <td> 1</td>\n",
        "      <td> 2.48</td>\n",
        "    </tr>\n",
        "    <tr>\n",
        "      <th>1</th>\n",
        "      <td> 51463</td>\n",
        "      <td> 2010</td>\n",
        "      <td> 1</td>\n",
        "      <td> 1</td>\n",
        "      <td> 4.24</td>\n",
        "    </tr>\n",
        "    <tr>\n",
        "      <th>2</th>\n",
        "      <td> 51567</td>\n",
        "      <td> 2010</td>\n",
        "      <td> 1</td>\n",
        "      <td> 1</td>\n",
        "      <td> 4.97</td>\n",
        "    </tr>\n",
        "    <tr>\n",
        "      <th>3</th>\n",
        "      <td> 51573</td>\n",
        "      <td> 2010</td>\n",
        "      <td> 1</td>\n",
        "      <td> 1</td>\n",
        "      <td> 4.11</td>\n",
        "    </tr>\n",
        "    <tr>\n",
        "      <th>4</th>\n",
        "      <td> 51628</td>\n",
        "      <td> 2010</td>\n",
        "      <td> 1</td>\n",
        "      <td> 1</td>\n",
        "      <td> 8.19</td>\n",
        "    </tr>\n",
        "  </tbody>\n",
        "</table>\n",
        "</div>"
       ],
       "output_type": "pyout",
       "prompt_number": 11,
       "text": [
        "                  Station  Year  Month  Day  Value\n",
        "Year Month Day                                    \n",
        "2010 1     1   0    51431  2010      1    1   2.48\n",
        "               1    51463  2010      1    1   4.24\n",
        "               2    51567  2010      1    1   4.97\n",
        "               3    51573  2010      1    1   4.11\n",
        "               4    51628  2010      1    1   8.19"
       ]
      }
     ],
     "prompt_number": 11
    },
    {
     "cell_type": "code",
     "collapsed": false,
     "input": [
      "raster, dem, extent = Raster(dempath)\n",
      "df_s['Y_LAT'] = (df_s.POINT_Y - extent[3])/(extent[5])\n",
      "df_s['X_LONG'] = (df_s.POINT_X - extent[0])/(extent[1])\n",
      "\n",
      "for x in xrange(1,8):\n",
      "    sel = df_d.xs((2010,7,x),level=('Year','Month','Day'))\n",
      "    sel_merge = pd.merge(sel, df_s, on='Station', how='inner')\n",
      "    #print sel_merge.head()\n",
      "    \n",
      "    longsc = sel_merge.ix[:,11]\n",
      "    latsc = sel_merge.ix[:,10]    \n",
      "    #print longsc, latsc\n",
      "    \n",
      "    tree = KDTree(zip(longsc,latsc), leafsize=11)\n",
      "    #print tree\n",
      "    \n",
      "    tp = np.zeros([dem.shape[1], dem.shape[0]])\n",
      "    \n",
      "    #x=20\n",
      "    #y=19\n",
      "    #GIDS(x,y)   \n",
      "    \n",
      "    for x in range(0, dem.shape[1]):\n",
      "        for y in range(0, dem.shape[0]):\n",
      "    #        tp[x][y] = IDWKDtree(x,y)\n",
      "            tp[x][y] = GIDS(x,y)\n",
      "    tp = tp.T        \n",
      "    \n",
      "    #save output as raster\n",
      "    date = str(sel_merge.Year[0])+str(sel_merge.Month[0]).zfill(2)+str(sel_merge.Day[0]).zfill(2)\n",
      "    \n",
      "    outFilename = outFolder+prefix+date+'.tif'\n",
      "    print outFilename\n",
      "    saveRaster(outFilename, tp)\n",
      "    outFilename = None\n",
      "    tp = None"
     ],
     "language": "python",
     "metadata": {},
     "outputs": [
      {
       "output_type": "stream",
       "stream": "stdout",
       "text": [
        "I:\\Documents\\Klusjes\\SolarRadiation\\tif_interpolation//SRgids20100701.tif\n",
        "I:\\Documents\\Klusjes\\SolarRadiation\\tif_interpolation//SRgids20100702.tif"
       ]
      },
      {
       "output_type": "stream",
       "stream": "stdout",
       "text": [
        "\n",
        "I:\\Documents\\Klusjes\\SolarRadiation\\tif_interpolation//SRgids20100703.tif"
       ]
      },
      {
       "output_type": "stream",
       "stream": "stdout",
       "text": [
        "\n",
        "I:\\Documents\\Klusjes\\SolarRadiation\\tif_interpolation//SRgids20100704.tif"
       ]
      },
      {
       "output_type": "stream",
       "stream": "stdout",
       "text": [
        "\n",
        "I:\\Documents\\Klusjes\\SolarRadiation\\tif_interpolation//SRgids20100705.tif"
       ]
      },
      {
       "output_type": "stream",
       "stream": "stdout",
       "text": [
        "\n",
        "I:\\Documents\\Klusjes\\SolarRadiation\\tif_interpolation//SRgids20100706.tif"
       ]
      },
      {
       "output_type": "stream",
       "stream": "stdout",
       "text": [
        "\n",
        "I:\\Documents\\Klusjes\\SolarRadiation\\tif_interpolation//SRgids20100707.tif"
       ]
      },
      {
       "output_type": "stream",
       "stream": "stdout",
       "text": [
        "\n"
       ]
      }
     ],
     "prompt_number": 12
    },
    {
     "cell_type": "code",
     "collapsed": false,
     "input": [
      "\n",
      "sel_merge"
     ],
     "language": "python",
     "metadata": {},
     "outputs": []
    },
    {
     "cell_type": "code",
     "collapsed": false,
     "input": [],
     "language": "python",
     "metadata": {},
     "outputs": []
    },
    {
     "cell_type": "code",
     "collapsed": false,
     "input": [
      "print len(pd_s)\n",
      "#unq = pd.DataFrame(pd_d[0].unique())\n",
      "unq = pd_d.drop_duplicates([0])\n",
      "unq.columns = ['Station', 'Year', 'Month', 'Day', 'Value']\n",
      "sta = pd.merge(unq, pd_s, on='Station', how='inner')\n",
      "#sta.dropna().head(50)\n",
      "sta.Elevation /= 10#len(sta)\n",
      "sta.Lat /= 100 \n",
      "sta.Lon /= 100\n",
      "sta.head()\n",
      "sta.to_csv(r'I:\\Data\\SolarRadiation2012_world//stations.csv')"
     ],
     "language": "python",
     "metadata": {},
     "outputs": []
    },
    {
     "cell_type": "code",
     "collapsed": false,
     "input": [
      "def funcFiles(infolder):\n",
      "    files_ = [os.path.join(root, name)\n",
      "              for root, dirs, files in os.walk(infolder)\n",
      "              for name in files\n",
      "              if name.endswith('.tab')]\n",
      "    return files_"
     ],
     "language": "python",
     "metadata": {},
     "outputs": []
    },
    {
     "cell_type": "code",
     "collapsed": false,
     "input": [
      "folderpath = r'I:\\Documents\\Klusjes\\SolarRadiation\\stationdata'\n",
      "files = funcFiles(folderpath)\n",
      "\n",
      "rng = pd.date_range(start='7/1/2012', end='7/2/2012', freq='3H')\n",
      "rng = np.delete(rng, [248])\n",
      "\n",
      "for date_rng in rng:\n",
      "    df_sel = pd.DataFrame()\n",
      "    print date_rng\n",
      "    for file_x in files:\n",
      "        df = pd.read_csv(file_x, sep='\\t', parse_dates=[0], index_col=[0]).resample('3H', how='mean')\n",
      "        #df.plot(y='SWD [W/m**2]')\n",
      "        for date_df in df.index:\n",
      "            if date_df == date_rng:\n",
      "                df_sel = df_sel.append(df[df.index==date_df])\n",
      "                break"
     ],
     "language": "python",
     "metadata": {},
     "outputs": []
    },
    {
     "cell_type": "code",
     "collapsed": false,
     "input": [
      "len(rng)"
     ],
     "language": "python",
     "metadata": {},
     "outputs": []
    },
    {
     "cell_type": "code",
     "collapsed": false,
     "input": [],
     "language": "python",
     "metadata": {},
     "outputs": []
    }
   ],
   "metadata": {}
  }
 ]
}