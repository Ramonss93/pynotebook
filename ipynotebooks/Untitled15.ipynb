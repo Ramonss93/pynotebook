{
 "metadata": {
  "name": ""
 },
 "nbformat": 3,
 "nbformat_minor": 0,
 "worksheets": [
  {
   "cells": [
    {
     "cell_type": "code",
     "collapsed": false,
     "input": [
      "import SendKeys"
     ],
     "language": "python",
     "metadata": {},
     "outputs": [
      {
       "ename": "ImportError",
       "evalue": "No module named SendKeys",
       "output_type": "pyerr",
       "traceback": [
        "\u001b[1;31m---------------------------------------------------------------------------\u001b[0m\n\u001b[1;31mImportError\u001b[0m                               Traceback (most recent call last)",
        "\u001b[1;32m<ipython-input-5-c8a2fa469587>\u001b[0m in \u001b[0;36m<module>\u001b[1;34m()\u001b[0m\n\u001b[1;32m----> 1\u001b[1;33m \u001b[1;32mimport\u001b[0m \u001b[0mSendKeys\u001b[0m\u001b[1;33m\u001b[0m\u001b[0m\n\u001b[0m",
        "\u001b[1;31mImportError\u001b[0m: No module named SendKeys"
       ]
      }
     ],
     "prompt_number": 5
    },
    {
     "cell_type": "code",
     "collapsed": false,
     "input": [
      "#\n",
      "# BaseMap example by geophysique.be\n",
      "# tutorial 10\n",
      " \n",
      "import numpy as np\n",
      "import matplotlib.pyplot as plt\n",
      "from mpl_toolkits.basemap import Basemap\n",
      " \n",
      "### PARAMETERS FOR MATPLOTLIB :\n",
      "import matplotlib as mpl\n",
      "mpl.rcParams['font.size'] = 10.\n",
      "mpl.rcParams['font.family'] = 'Comic Sans MS'\n",
      "mpl.rcParams['axes.labelsize'] = 8.\n",
      "mpl.rcParams['xtick.labelsize'] = 6.\n",
      "mpl.rcParams['ytick.labelsize'] = 6.\n",
      " \n",
      "fig = plt.figure(figsize=(11.7,8.3))\n",
      "#Custom adjust of the subplots\n",
      "plt.subplots_adjust(left=0.05,right=0.95,top=0.90,bottom=0.05,wspace=0.15,hspace=0.05)\n",
      "ax = plt.subplot(111)\n",
      "#Let's create a basemap of Europe\n",
      "x1 = -5.0\n",
      "x2 = 15.\n",
      "y1 = 45.\n",
      "y2 = 54.\n",
      " \n",
      "m = Basemap(resolution='i',projection='merc', llcrnrlat=y1,urcrnrlat=y2,llcrnrlon=x1,urcrnrlon=x2,lat_ts=(x1+x2)/2)\n",
      "m.drawcountries(linewidth=0.5)\n",
      "m.drawcoastlines(linewidth=0.5)\n",
      "m.drawparallels(np.arange(y1,y2,2.),labels=[1,0,0,0],color='black',dashes=[1,0],labelstyle='+/-',linewidth=0.2) # draw parallels\n",
      "m.drawmeridians(np.arange(x1,x2,2.),labels=[0,0,0,1],color='black',dashes=[1,0],labelstyle='+/-',linewidth=0.2) # draw meridians\n",
      " \n",
      "from matplotlib.collections import LineCollection\n",
      "from matplotlib import cm\n",
      "import shapefile\n",
      " \n",
      "r = shapefile.Reader(r\"D:\\Downloads\\Linana@Mattijn\\test//belgium.shp\")\n",
      "shapes = r.shapes()\n",
      "records = r.records()\n",
      " \n",
      "for record, shape in zip(records,shapes):\n",
      "    lons,lats = zip(*shape.points)\n",
      "    data = np.array(m(lons, lats)).T\n",
      " \n",
      "    if len(shape.parts) == 1:\n",
      "        segs = [data,]\n",
      "    else:\n",
      "        segs = []\n",
      "        for i in range(1,len(shape.parts)):\n",
      "            index = shape.parts[i-1]\n",
      "            index2 = shape.parts[i]\n",
      "            segs.append(data[index:index2])\n",
      "        segs.append(data[index2:])\n",
      " \n",
      "    lines = LineCollection(segs,antialiaseds=(1,))\n",
      "    lines.set_facecolors(cm.jet(np.random.rand(1)))\n",
      "    lines.set_edgecolors('k')\n",
      "    lines.set_linewidth(0.1)\n",
      "    ax.add_collection(lines)\n",
      " \n",
      "plt.savefig('tutorial10.png',dpi=300)\n",
      "plt.show()"
     ],
     "language": "python",
     "metadata": {},
     "outputs": [
      {
       "ename": "ImportError",
       "evalue": "No module named shapefile",
       "output_type": "pyerr",
       "traceback": [
        "\u001b[1;31m---------------------------------------------------------------------------\u001b[0m\n\u001b[1;31mImportError\u001b[0m                               Traceback (most recent call last)",
        "\u001b[1;32m<ipython-input-2-98bdd4d8b84c>\u001b[0m in \u001b[0;36m<module>\u001b[1;34m()\u001b[0m\n\u001b[0;32m     33\u001b[0m \u001b[1;32mfrom\u001b[0m \u001b[0mmatplotlib\u001b[0m\u001b[1;33m.\u001b[0m\u001b[0mcollections\u001b[0m \u001b[1;32mimport\u001b[0m \u001b[0mLineCollection\u001b[0m\u001b[1;33m\u001b[0m\u001b[0m\n\u001b[0;32m     34\u001b[0m \u001b[1;32mfrom\u001b[0m \u001b[0mmatplotlib\u001b[0m \u001b[1;32mimport\u001b[0m \u001b[0mcm\u001b[0m\u001b[1;33m\u001b[0m\u001b[0m\n\u001b[1;32m---> 35\u001b[1;33m \u001b[1;32mimport\u001b[0m \u001b[0mshapefile\u001b[0m\u001b[1;33m\u001b[0m\u001b[0m\n\u001b[0m\u001b[0;32m     36\u001b[0m \u001b[1;33m\u001b[0m\u001b[0m\n\u001b[0;32m     37\u001b[0m \u001b[0mr\u001b[0m \u001b[1;33m=\u001b[0m \u001b[0mshapefile\u001b[0m\u001b[1;33m.\u001b[0m\u001b[0mReader\u001b[0m\u001b[1;33m(\u001b[0m\u001b[1;34mr\"D:\\Downloads\\Linana@Mattijn\\test//belgium.shp\"\u001b[0m\u001b[1;33m)\u001b[0m\u001b[1;33m\u001b[0m\u001b[0m\n",
        "\u001b[1;31mImportError\u001b[0m: No module named shapefile"
       ]
      }
     ],
     "prompt_number": 2
    },
    {
     "cell_type": "code",
     "collapsed": false,
     "input": [],
     "language": "python",
     "metadata": {},
     "outputs": []
    }
   ],
   "metadata": {}
  }
 ]
}