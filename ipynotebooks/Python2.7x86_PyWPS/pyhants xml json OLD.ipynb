{
 "metadata": {
  "name": "",
  "signature": "sha256:596eae00137f28c02680bd31d1da416ace5396e7603fa7fe48d9cb0b18de1015"
 },
 "nbformat": 3,
 "nbformat_minor": 0,
 "worksheets": [
  {
   "cells": [
    {
     "cell_type": "code",
     "collapsed": false,
     "input": [
      "from pywps.Process import WPSProcess  \n",
      "from types import FloatType\n",
      "import numpy as np\n",
      "import json\n",
      "import cStringIO"
     ],
     "language": "python",
     "metadata": {},
     "outputs": [],
     "prompt_number": 1
    },
    {
     "cell_type": "code",
     "collapsed": false,
     "input": [
      "# --------*-*-*-*-*-*--------  WPSProcess  --------*-*-*-*-*-*--------  WPSProcess  --------*-*-*-*-*-*-----\n",
      "# Computing diagonal for each row of a 2d array. See: http://stackoverflow.com/q/27214027/2459096\n",
      "def makediag3d(M):\n",
      "    b = np.zeros((M.shape[0], M.shape[1] * M.shape[1]))\n",
      "    b[:, ::M.shape[1] + 1] = M\n",
      "    return b.reshape(M.shape[0], M.shape[1], M.shape[1]) \n",
      "\n",
      "def get_starter_matrix(base_period_len, sample_count, frequencies_considered_count):\n",
      "    nr = min(2 * frequencies_considered_count + 1,\n",
      "                  sample_count)  # number of 2*+1 frequencies, or number of input images\n",
      "    mat = np.zeros(shape=(nr, sample_count))\n",
      "    mat[0, :] = 1\n",
      "    ang = 2 * np.pi * np.arange(base_period_len) / base_period_len\n",
      "    cs = np.cos(ang)\n",
      "    sn = np.sin(ang)\n",
      "    # create some standard sinus and cosinus functions and put in matrix\n",
      "    i = np.arange(1, frequencies_considered_count + 1)\n",
      "    ts = np.arange(sample_count)\n",
      "    for column in xrange(sample_count):\n",
      "        index = np.mod(i * ts[column], base_period_len)\n",
      "        # index looks like 000, 123, 246, etc, until it wraps around (for len(i)==3)\n",
      "        mat[2 * i - 1, column] = cs.take(index)\n",
      "        mat[2 * i, column] = sn.take(index)\n",
      "\n",
      "    return mat        \n",
      "\n",
      "def HANTS(sample_count, inputs,\n",
      "          frequencies_considered_count=3,\n",
      "          outliers_to_reject='Hi',\n",
      "          low=0., high=255,\n",
      "          fit_error_tolerance=5,\n",
      "          delta=0.1):\n",
      "    \"\"\"\n",
      "    Function to apply the Harmonic analysis of time series applied to arrays\n",
      "\n",
      "    sample_count    = nr. of images (total number of actual samples of the time series)\n",
      "    base_period_len    = length of the base period, measured in virtual samples\n",
      "            (days, dekads, months, etc.)\n",
      "    frequencies_considered_count    = number of frequencies to be considered above the zero frequency\n",
      "    inputs     = array of input sample values (e.g. NDVI values)\n",
      "    ts    = array of size sample_count of time sample indicators\n",
      "            (indicates virtual sample number relative to the base period);\n",
      "            numbers in array ts maybe greater than base_period_len\n",
      "            If no aux file is used (no time samples), we assume ts(i)= i,\n",
      "            where i=1, ..., sample_count\n",
      "    outliers_to_reject  = 2-character string indicating rejection of high or low outliers\n",
      "            select from 'Hi', 'Lo' or 'None'\n",
      "    low   = valid range minimum\n",
      "    high  = valid range maximum (values outside the valid range are rejeced\n",
      "            right away)\n",
      "    fit_error_tolerance   = fit error tolerance (points deviating more than fit_error_tolerance from curve\n",
      "            fit are rejected)\n",
      "    dod   = degree of overdeterminedness (iteration stops if number of\n",
      "            points reaches the minimum required for curve fitting, plus\n",
      "            dod). This is a safety measure\n",
      "    delta = small positive number (e.g. 0.1) to suppress high amplitudes\n",
      "    \"\"\"\n",
      "\n",
      "    # define some parameters\n",
      "    base_period_len = sample_count  #\n",
      "\n",
      "    # check which setting to set for outlier filtering\n",
      "    if outliers_to_reject == 'Hi':\n",
      "        sHiLo = -1\n",
      "    elif outliers_to_reject == 'Lo':\n",
      "        sHiLo = 1\n",
      "    else:\n",
      "        sHiLo = 0\n",
      "\n",
      "    nr = min(2 * frequencies_considered_count + 1,\n",
      "             sample_count)  # number of 2*+1 frequencies, or number of input images\n",
      "\n",
      "    # create empty arrays to fill\n",
      "    outputs = np.zeros(shape=(inputs.shape[0], sample_count))\n",
      "\n",
      "    mat = get_starter_matrix(base_period_len, sample_count, frequencies_considered_count)\n",
      "\n",
      "    # repeat the mat array over the number of arrays in inputs\n",
      "    # and create arrays with ones with shape inputs where high and low values are set to 0\n",
      "    mat = np.tile(mat[None].T, (1, inputs.shape[0])).T\n",
      "    p = np.ones_like(inputs)\n",
      "    p[(low >= inputs) | (inputs > high)] = 0\n",
      "    nout = np.sum(p == 0, axis=-1)  # count the outliers for each timeseries\n",
      "\n",
      "    # prepare for while loop\n",
      "    ready = np.zeros((inputs.shape[0]), dtype=bool)  # all timeseries set to false\n",
      "\n",
      "    dod = 1  # (2*frequencies_considered_count-1)  # Um, no it isn't :/\n",
      "    noutmax = sample_count - nr - dod\n",
      "    # prepare to add delta to suppress high amplitudes but not for [0,0]\n",
      "    Adelta = np.tile(np.diag(np.ones(nr))[None].T, (1, inputs.shape[0])).T * delta\n",
      "    Adelta[:, 0, 0] -= delta\n",
      "    \n",
      "    for _ in xrange(sample_count):\n",
      "        if ready.all():\n",
      "            break\n",
      "        # print '--------*-*-*-*',it.value, '*-*-*-*--------'\n",
      "        # multiply outliers with timeseries\n",
      "        za = np.einsum('ijk,ik->ij', mat, p * inputs)\n",
      "\n",
      "        # multiply mat with the multiplication of multiply diagonal of p with transpose of mat\n",
      "        diag = makediag3d(p)\n",
      "        A = np.einsum('ajk,aki->aji', mat, np.einsum('aij,jka->ajk', diag, mat.T))\n",
      "        # add delta to suppress high amplitudes but not for [0,0]\n",
      "        A += Adelta\n",
      "        #A[:, 0, 0] = A[:, 0, 0] - delta\n",
      "\n",
      "        # solve linear matrix equation and define reconstructed timeseries\n",
      "        zr = np.linalg.solve(A, za)\n",
      "        outputs = np.einsum('ijk,kj->ki', mat.T, zr)\n",
      "\n",
      "        # calculate error and sort err by index\n",
      "        err = p * (sHiLo * (outputs - inputs))\n",
      "        rankVec = np.argsort(err, axis=1, )\n",
      "\n",
      "        # select maximum error and compute new ready status\n",
      "        maxerr = np.max(err, axis=-1)\n",
      "        #maxerr = np.diag(err.take(rankVec[:, sample_count - 1], axis=-1))\n",
      "        ready = (maxerr <= fit_error_tolerance) | (nout == noutmax)\n",
      "\n",
      "        # if ready is still false\n",
      "        if not ready.all():\n",
      "            j = rankVec.take(sample_count - 1, axis=-1)\n",
      "\n",
      "            p.T[j.T, np.indices(j.shape)] = p.T[j.T, np.indices(j.shape)] * ready.astype(\n",
      "                int)  #*check\n",
      "            nout += 1\n",
      "\n",
      "    return outputs\n",
      "\n",
      "# Compute semi-random time series array with numb standing for number of timeseries\n",
      "def array_in(numb):\n",
      "    y = np.array([5.0, 2.0, 10.0, 12.0, 18.0, 23.0, 27.0, 40.0, 60.0, 70.0, 90.0, 160.0, 190.0,\n",
      "                  210.0, 104.0, 90.0, 170.0, 50.0, 120.0, 60.0, 40.0, 30.0, 28.0, 24.0, 15.0,\n",
      "                  10.0])\n",
      "    y = np.tile(y[None].T, (1, numb)).T\n",
      "    kl = (np.random.randint(2, size=(numb, 26)) *\n",
      "          np.random.randint(2, size=(numb, 26)) + 1)\n",
      "    kl[kl == 2] = 0\n",
      "    y = y * kl\n",
      "    return y"
     ],
     "language": "python",
     "metadata": {},
     "outputs": [],
     "prompt_number": 2
    },
    {
     "cell_type": "code",
     "collapsed": false,
     "input": [
      "with open(\"http://localhost/pywps/input_ts_string\", \"r\") as myfile:\n",
      "    data=myfile.read().replace('\\n', '')"
     ],
     "language": "python",
     "metadata": {},
     "outputs": [
      {
       "ename": "IOError",
       "evalue": "[Errno 22] invalid mode ('r') or filename: 'http://localhost/pywps/input_ts_string'",
       "output_type": "pyerr",
       "traceback": [
        "\u001b[1;31m---------------------------------------------------------------------------\u001b[0m\n\u001b[1;31mIOError\u001b[0m                                   Traceback (most recent call last)",
        "\u001b[1;32m<ipython-input-5-1fa6dd1abd94>\u001b[0m in \u001b[0;36m<module>\u001b[1;34m()\u001b[0m\n\u001b[1;32m----> 1\u001b[1;33m \u001b[1;32mwith\u001b[0m \u001b[0mopen\u001b[0m\u001b[1;33m(\u001b[0m\u001b[1;34m\"http://localhost/pywps/input_ts_string\"\u001b[0m\u001b[1;33m,\u001b[0m \u001b[1;34m\"r\"\u001b[0m\u001b[1;33m)\u001b[0m \u001b[1;32mas\u001b[0m \u001b[0mmyfile\u001b[0m\u001b[1;33m:\u001b[0m\u001b[1;33m\u001b[0m\u001b[0m\n\u001b[0m\u001b[0;32m      2\u001b[0m     \u001b[0mdata\u001b[0m\u001b[1;33m=\u001b[0m\u001b[0mmyfile\u001b[0m\u001b[1;33m.\u001b[0m\u001b[0mread\u001b[0m\u001b[1;33m(\u001b[0m\u001b[1;33m)\u001b[0m\u001b[1;33m.\u001b[0m\u001b[0mreplace\u001b[0m\u001b[1;33m(\u001b[0m\u001b[1;34m'\\n'\u001b[0m\u001b[1;33m,\u001b[0m \u001b[1;34m''\u001b[0m\u001b[1;33m)\u001b[0m\u001b[1;33m\u001b[0m\u001b[0m\n",
        "\u001b[1;31mIOError\u001b[0m: [Errno 22] invalid mode ('r') or filename: 'http://localhost/pywps/input_ts_string'"
       ]
      }
     ],
     "prompt_number": 5
    },
    {
     "cell_type": "code",
     "collapsed": false,
     "input": [
      "in_f = cStringIO.StringIO(r'http://localhost/pywps/input_ts_string')\n",
      "#np.loadtxt(in_f, dtype=delimiter=',')"
     ],
     "language": "python",
     "metadata": {},
     "outputs": [],
     "prompt_number": 48
    },
    {
     "cell_type": "code",
     "collapsed": false,
     "input": [
      "y = np.genfromtxt(r'http://localhost/pywps/input_ts_string',delimiter=',')"
     ],
     "language": "python",
     "metadata": {},
     "outputs": [],
     "prompt_number": 57
    },
    {
     "cell_type": "code",
     "collapsed": false,
     "input": [
      "HANTS(26,y)"
     ],
     "language": "python",
     "metadata": {},
     "outputs": [
      {
       "metadata": {},
       "output_type": "pyout",
       "prompt_number": 58,
       "text": [
        "array([[   5.1468927 ,    4.98910914,    7.9155216 ,   12.46164129,\n",
        "          17.38806458,   22.5550408 ,   29.09590639,   38.74139941,\n",
        "          52.61536065,   70.13657559,   88.6526015 ,  104.0937149 ,\n",
        "         112.43138924,  111.30693147,  101.07554101,   84.75709427,\n",
        "          66.88403371,   51.74880449,   41.82987169,   37.08251488,\n",
        "          35.36512472,   33.73762762,   29.97572075,   23.57975517,\n",
        "          15.8428946 ,    9.02871413],\n",
        "       [   7.65469846,    7.8199933 ,    9.86260291,   13.08745212,\n",
        "          17.1905967 ,   22.58292964,   30.24646875,   41.14448075,\n",
        "          55.46050732,   72.06430667,   88.52477793,  101.7421076 ,\n",
        "         108.97199716,  108.81147822,  101.71180263,   89.78606341,\n",
        "          75.99344163,   63.05883087,   52.59452061,   44.7804219 ,\n",
        "          38.68775943,   33.03214386,   26.95982116,   20.48925784,\n",
        "          14.43169987,    9.89122838],\n",
        "       [   7.89770489,    7.4732942 ,    9.17776124,   12.41404332,\n",
        "          16.82125435,   22.63583508,   30.6369446 ,   41.65242715,\n",
        "          55.85386437,   72.21356059,   88.45170601,  101.58250891,\n",
        "         108.8778881 ,  108.84956543,  101.81600798,   89.7921858 ,\n",
        "          75.73920149,   62.49591727,   51.85013026,   44.12945252,\n",
        "          38.44179625,   33.39503903,   27.91964967,   21.80197444,\n",
        "          15.70932729,   10.75743275]])"
       ]
      }
     ],
     "prompt_number": 58
    },
    {
     "cell_type": "code",
     "collapsed": false,
     "input": [
      "localhost = urllib2.urlopen(\"http://localhost/pywps/input_ts_string\")\n",
      "in_arr = localhost.read()\n",
      "in_arr"
     ],
     "language": "python",
     "metadata": {},
     "outputs": [
      {
       "metadata": {},
       "output_type": "pyout",
       "prompt_number": 40,
       "text": [
        "'4.828958194835108131e+00,4.669960915518192479e+00,7.618884239152912130e+00,1.219997407560418523e+01,1.716429292977536392e+01,2.237101512464174746e+01,2.896219506423243928e+01,3.868188418341068768e+01,5.266256820586824716e+01,7.031856171515420328e+01,8.897701859374184608e+01,1.045369097895727890e+02,1.129387200852487325e+02,1.118056126453940777e+02,1.014955191837594413e+02,8.505154593278712127e+01,6.704100028798340816e+01,5.178934622765147822e+01,4.179411394871871011e+01,3.701023899961325014e+01,3.527963815253785640e+01,3.363962183961290009e+01,2.984877722620337082e+01,2.340361191094850213e+01,1.560723703486612735e+01,8.740639787014401918e+00\\r\\n7.341811115961279555e+00,7.508377451468884800e+00,9.566699446291233144e+00,1.281635519013968505e+01,1.695106242160291288e+01,2.238487484051680454e+01,3.010736425469184496e+01,4.108920711740006482e+01,5.551535696287460553e+01,7.224687784914740973e+01,8.883396811515540037e+01,1.021529695593319929e+02,1.094384736523113872e+02,1.092767199528072979e+02,1.021224314651129106e+02,9.010495578993031529e+01,7.620623692490596568e+01,6.317212915738981138e+01,5.262732420095295538e+01,4.475311704399420876e+01,3.861358793971621139e+01,3.291446762803644077e+01,2.679543475683762921e+01,2.027509787727423429e+01,1.417094330760811793e+01,9.595545106585317896e+00\\r\\n7.586152776374820661e+00,7.158477384634574392e+00,8.876055709824177242e+00,1.213723226711227809e+01,1.657834492245196856e+01,2.243765319972212069e+01,3.050030971125239887e+01,4.160052674970764741e+01,5.591120579482215192e+01,7.239674583149772502e+01,8.875980005690450980e+01,1.019916091308622867e+02,1.093431066209977587e+02,1.093145660861519559e+02,1.022269043468783423e+02,9.011059123099668966e+01,7.594950704554652532e+01,6.260435140405994758e+01,5.187667372543391053e+01,4.409660615697799102e+01,3.836519868473488515e+01,3.327962025852036732e+01,2.776211251615699993e+01,2.159737824096556480e+01,1.545786457561069049e+01,1.046787854578001919e+01\\r\\n'"
       ]
      }
     ],
     "prompt_number": 40
    },
    {
     "cell_type": "code",
     "collapsed": false,
     "input": [
      "np.loadtxt(in_arr, delimiter=',')"
     ],
     "language": "python",
     "metadata": {},
     "outputs": [
      {
       "ename": "IOError",
       "evalue": "[Errno 2] No such file or directory: '4.828958194835108131e+00,4.669960915518192479e+00,7.618884239152912130e+00,1.219997407560418523e+01,1.716429292977536392e+01,2.237101512464174746e+01,2.896219506423243928e+01,3.868188418341068768e+01,5.266256820586824716e+01,7.031856171515420328e+01,8.897701859374184608e+01,1.045369097895727890e+02,1.129387200852487325e+02,1.118056126453940777e+02,1.014955191837594413e+02,8.505154593278712127e+01,6.704100028798340816e+01,5.178934622765147822e+01,4.179411394871871011e+01,3.701023899961325014e+01,3.527963815253785640e+01,3.363962183961290009e+01,2.984877722620337082e+01,2.340361191094850213e+01,1.560723703486612735e+01,8.740639787014401918e+00\\r\\n7.341811115961279555e+00,7.508377451468884800e+00,9.566699446291233144e+00,1.281635519013968505e+01,1.695106242160291288e+01,2.238487484051680454e+01,3.010736425469184496e+01,4.108920711740006482e+01,5.551535696287460553e+01,7.224687784914740973e+01,8.883396811515540037e+01,1.021529695593319929e+02,1.094384736523113872e+02,1.092767199528072979e+02,1.021224314651129106e+02,9.010495578993031529e+01,7.620623692490596568e+01,6.317212915738981138e+01,5.262732420095295538e+01,4.475311704399420876e+01,3.861358793971621139e+01,3.291446762803644077e+01,2.679543475683762921e+01,2.027509787727423429e+01,1.417094330760811793e+01,9.595545106585317896e+00\\r\\n7.586152776374820661e+00,7.158477384634574392e+00,8.876055709824177242e+00,1.213723226711227809e+01,1.657834492245196856e+01,2.243765319972212069e+01,3.050030971125239887e+01,4.160052674970764741e+01,5.591120579482215192e+01,7.239674583149772502e+01,8.875980005690450980e+01,1.019916091308622867e+02,1.093431066209977587e+02,1.093145660861519559e+02,1.022269043468783423e+02,9.011059123099668966e+01,7.594950704554652532e+01,6.260435140405994758e+01,5.187667372543391053e+01,4.409660615697799102e+01,3.836519868473488515e+01,3.327962025852036732e+01,2.776211251615699993e+01,2.159737824096556480e+01,1.545786457561069049e+01,1.046787854578001919e+01\\r\\n'",
       "output_type": "pyerr",
       "traceback": [
        "\u001b[1;31m---------------------------------------------------------------------------\u001b[0m\n\u001b[1;31mIOError\u001b[0m                                   Traceback (most recent call last)",
        "\u001b[1;32m<ipython-input-42-b2620824b20a>\u001b[0m in \u001b[0;36m<module>\u001b[1;34m()\u001b[0m\n\u001b[1;32m----> 1\u001b[1;33m \u001b[0mnp\u001b[0m\u001b[1;33m.\u001b[0m\u001b[0mloadtxt\u001b[0m\u001b[1;33m(\u001b[0m\u001b[0min_arr\u001b[0m\u001b[1;33m,\u001b[0m \u001b[0mdelimiter\u001b[0m\u001b[1;33m=\u001b[0m\u001b[1;34m','\u001b[0m\u001b[1;33m)\u001b[0m\u001b[1;33m\u001b[0m\u001b[0m\n\u001b[0m",
        "\u001b[1;32mC:\\Python27x86\\lib\\site-packages\\numpy\\lib\\npyio.pyc\u001b[0m in \u001b[0;36mloadtxt\u001b[1;34m(fname, dtype, comments, delimiter, converters, skiprows, usecols, unpack, ndmin)\u001b[0m\n\u001b[0;32m    732\u001b[0m                 \u001b[0mfh\u001b[0m \u001b[1;33m=\u001b[0m \u001b[0miter\u001b[0m\u001b[1;33m(\u001b[0m\u001b[0mbz2\u001b[0m\u001b[1;33m.\u001b[0m\u001b[0mBZ2File\u001b[0m\u001b[1;33m(\u001b[0m\u001b[0mfname\u001b[0m\u001b[1;33m)\u001b[0m\u001b[1;33m)\u001b[0m\u001b[1;33m\u001b[0m\u001b[0m\n\u001b[0;32m    733\u001b[0m             \u001b[1;32melif\u001b[0m \u001b[0msys\u001b[0m\u001b[1;33m.\u001b[0m\u001b[0mversion_info\u001b[0m\u001b[1;33m[\u001b[0m\u001b[1;36m0\u001b[0m\u001b[1;33m]\u001b[0m \u001b[1;33m==\u001b[0m \u001b[1;36m2\u001b[0m\u001b[1;33m:\u001b[0m\u001b[1;33m\u001b[0m\u001b[0m\n\u001b[1;32m--> 734\u001b[1;33m                 \u001b[0mfh\u001b[0m \u001b[1;33m=\u001b[0m \u001b[0miter\u001b[0m\u001b[1;33m(\u001b[0m\u001b[0mopen\u001b[0m\u001b[1;33m(\u001b[0m\u001b[0mfname\u001b[0m\u001b[1;33m,\u001b[0m \u001b[1;34m'U'\u001b[0m\u001b[1;33m)\u001b[0m\u001b[1;33m)\u001b[0m\u001b[1;33m\u001b[0m\u001b[0m\n\u001b[0m\u001b[0;32m    735\u001b[0m             \u001b[1;32melse\u001b[0m\u001b[1;33m:\u001b[0m\u001b[1;33m\u001b[0m\u001b[0m\n\u001b[0;32m    736\u001b[0m                 \u001b[0mfh\u001b[0m \u001b[1;33m=\u001b[0m \u001b[0miter\u001b[0m\u001b[1;33m(\u001b[0m\u001b[0mopen\u001b[0m\u001b[1;33m(\u001b[0m\u001b[0mfname\u001b[0m\u001b[1;33m)\u001b[0m\u001b[1;33m)\u001b[0m\u001b[1;33m\u001b[0m\u001b[0m\n",
        "\u001b[1;31mIOError\u001b[0m: [Errno 2] No such file or directory: '4.828958194835108131e+00,4.669960915518192479e+00,7.618884239152912130e+00,1.219997407560418523e+01,1.716429292977536392e+01,2.237101512464174746e+01,2.896219506423243928e+01,3.868188418341068768e+01,5.266256820586824716e+01,7.031856171515420328e+01,8.897701859374184608e+01,1.045369097895727890e+02,1.129387200852487325e+02,1.118056126453940777e+02,1.014955191837594413e+02,8.505154593278712127e+01,6.704100028798340816e+01,5.178934622765147822e+01,4.179411394871871011e+01,3.701023899961325014e+01,3.527963815253785640e+01,3.363962183961290009e+01,2.984877722620337082e+01,2.340361191094850213e+01,1.560723703486612735e+01,8.740639787014401918e+00\\r\\n7.341811115961279555e+00,7.508377451468884800e+00,9.566699446291233144e+00,1.281635519013968505e+01,1.695106242160291288e+01,2.238487484051680454e+01,3.010736425469184496e+01,4.108920711740006482e+01,5.551535696287460553e+01,7.224687784914740973e+01,8.883396811515540037e+01,1.021529695593319929e+02,1.094384736523113872e+02,1.092767199528072979e+02,1.021224314651129106e+02,9.010495578993031529e+01,7.620623692490596568e+01,6.317212915738981138e+01,5.262732420095295538e+01,4.475311704399420876e+01,3.861358793971621139e+01,3.291446762803644077e+01,2.679543475683762921e+01,2.027509787727423429e+01,1.417094330760811793e+01,9.595545106585317896e+00\\r\\n7.586152776374820661e+00,7.158477384634574392e+00,8.876055709824177242e+00,1.213723226711227809e+01,1.657834492245196856e+01,2.243765319972212069e+01,3.050030971125239887e+01,4.160052674970764741e+01,5.591120579482215192e+01,7.239674583149772502e+01,8.875980005690450980e+01,1.019916091308622867e+02,1.093431066209977587e+02,1.093145660861519559e+02,1.022269043468783423e+02,9.011059123099668966e+01,7.594950704554652532e+01,6.260435140405994758e+01,5.187667372543391053e+01,4.409660615697799102e+01,3.836519868473488515e+01,3.327962025852036732e+01,2.776211251615699993e+01,2.159737824096556480e+01,1.545786457561069049e+01,1.046787854578001919e+01\\r\\n'"
       ]
      }
     ],
     "prompt_number": 42
    },
    {
     "cell_type": "code",
     "collapsed": false,
     "input": [
      "in_f = cStringIO.StringIO(localhost.read())\n",
      "#np.loadtxt(localhost.read(), delimiter=',')"
     ],
     "language": "python",
     "metadata": {},
     "outputs": [],
     "prompt_number": 23
    },
    {
     "cell_type": "code",
     "collapsed": false,
     "input": [
      "in_f.getvalue()"
     ],
     "language": "python",
     "metadata": {},
     "outputs": [
      {
       "metadata": {},
       "output_type": "pyout",
       "prompt_number": 26,
       "text": [
        "''"
       ]
      }
     ],
     "prompt_number": 26
    },
    {
     "cell_type": "code",
     "collapsed": false,
     "input": [
      ">>> import cStringIO\n",
      ">>> a = np.array([[ 0.99845902, -0.70780512, 0.26981375, -0.6077122, 0.09639695], [ 0.61856711, -0.74684913, 0.20099992, 0.99725171, -0.41826754], [ 0.79964397, 0.56620812, -0.64055346, -0.50572793, -0.50100635]])\n",
      ">>> out_f = cStringIO.StringIO()\n",
      ">>> np.savetxt(out_f, a, delimiter=',')\n",
      ">>> out_f.getvalue()"
     ],
     "language": "python",
     "metadata": {},
     "outputs": [
      {
       "metadata": {},
       "output_type": "pyout",
       "prompt_number": 36,
       "text": [
        "'9.984590199999999749e-01,-7.078051199999999543e-01,2.698137500000000188e-01,-6.077122000000000357e-01,9.639694999999999514e-02\\n6.185671099999999756e-01,-7.468491299999999722e-01,2.009999199999999986e-01,9.972517100000000134e-01,-4.182675399999999932e-01\\n7.996439699999999817e-01,5.662081199999999814e-01,-6.405534600000000189e-01,-5.057279300000000477e-01,-5.010063500000000447e-01\\n'"
       ]
      }
     ],
     "prompt_number": 36
    },
    {
     "cell_type": "code",
     "collapsed": false,
     "input": [
      ">>> in_f = cStringIO.StringIO(out_f.getvalue())\n",
      ">>> np.loadtxt(in_f, delimiter=',')"
     ],
     "language": "python",
     "metadata": {},
     "outputs": [
      {
       "metadata": {},
       "output_type": "pyout",
       "prompt_number": 37,
       "text": [
        "array([[ 0.99845902, -0.70780512,  0.26981375, -0.6077122 ,  0.09639695],\n",
        "       [ 0.61856711, -0.74684913,  0.20099992,  0.99725171, -0.41826754],\n",
        "       [ 0.79964397,  0.56620812, -0.64055346, -0.50572793, -0.50100635]])"
       ]
      }
     ],
     "prompt_number": 37
    },
    {
     "cell_type": "code",
     "collapsed": false,
     "input": [
      ">>> import cStringIO\n",
      ">>> a = np.array([[ 0.99845902, -0.70780512, 0.26981375, -0.6077122, 0.09639695], [ 0.61856711, -0.74684913, 0.20099992, 0.99725171, -0.41826754], [ 0.79964397, 0.56620812, -0.64055346, -0.50572793, -0.50100635]])\n",
      ">>> out_f = cStringIO.StringIO()\n",
      ">>> np.savetxt(out_f, a, delimiter=',')\n",
      ">>> out_f.getvalue()"
     ],
     "language": "python",
     "metadata": {},
     "outputs": [
      {
       "metadata": {},
       "output_type": "pyout",
       "prompt_number": 34,
       "text": [
        "'9.984590199999999749e-01,-7.078051199999999543e-01,2.698137500000000188e-01,-6.077122000000000357e-01,9.639694999999999514e-02\\n6.185671099999999756e-01,-7.468491299999999722e-01,2.009999199999999986e-01,9.972517100000000134e-01,-4.182675399999999932e-01\\n7.996439699999999817e-01,5.662081199999999814e-01,-6.405534600000000189e-01,-5.057279300000000477e-01,-5.010063500000000447e-01\\n'"
       ]
      }
     ],
     "prompt_number": 34
    },
    {
     "cell_type": "code",
     "collapsed": false,
     "input": [],
     "language": "python",
     "metadata": {},
     "outputs": []
    }
   ],
   "metadata": {}
  }
 ]
}