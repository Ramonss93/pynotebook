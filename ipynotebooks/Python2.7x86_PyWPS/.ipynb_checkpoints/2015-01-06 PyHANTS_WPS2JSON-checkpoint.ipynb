{
 "metadata": {
  "name": "",
  "signature": "sha256:9c07900a6877be0cf06e6aad1ddecd4e39c5fe495f2123b34d693e50560f19c3"
 },
 "nbformat": 3,
 "nbformat_minor": 0,
 "worksheets": [
  {
   "cells": [
    {
     "cell_type": "code",
     "collapsed": false,
     "input": [
      "from pywps.Process import WPSProcess  \n",
      "from types import FloatType\n",
      "import xml.etree.cElementTree as etree\n",
      "import jdcal\n",
      "import numpy as np\n",
      "import cStringIO\n",
      "import pandas as pd\n",
      "import json\n",
      "import datetime\n",
      "import logging"
     ],
     "language": "python",
     "metadata": {},
     "outputs": [],
     "prompt_number": 1
    },
    {
     "cell_type": "code",
     "collapsed": false,
     "input": [
      "# --------*-*-*-*-*-*--------  WPSProcess  --------*-*-*-*-*-*--------  WPSProcess  --------*-*-*-*-*-*-----\n",
      "# Computing diagonal for each row of a 2d array. See: http://stackoverflow.com/q/27214027/2459096\n",
      "def makediag3d(M):\n",
      "    b = np.zeros((M.shape[0], M.shape[1] * M.shape[1]))\n",
      "    b[:, ::M.shape[1] + 1] = M\n",
      "    \n",
      "    logging.info('function `makediag3d` complete')    \n",
      "    return b.reshape(M.shape[0], M.shape[1], M.shape[1]) "
     ],
     "language": "python",
     "metadata": {},
     "outputs": [],
     "prompt_number": 2
    },
    {
     "cell_type": "code",
     "collapsed": false,
     "input": [
      "def get_starter_matrix(base_period_len, sample_count, frequencies_considered_count):\n",
      "    nr = min(2 * frequencies_considered_count + 1,\n",
      "                  sample_count)  # number of 2*+1 frequencies, or number of input images\n",
      "    mat = np.zeros(shape=(nr, sample_count))\n",
      "    mat[0, :] = 1\n",
      "    ang = 2 * np.pi * np.arange(base_period_len) / base_period_len\n",
      "    cs = np.cos(ang)\n",
      "    sn = np.sin(ang)\n",
      "    # create some standard sinus and cosinus functions and put in matrix\n",
      "    i = np.arange(1, frequencies_considered_count + 1)\n",
      "    ts = np.arange(sample_count)\n",
      "    for column in xrange(sample_count):\n",
      "        index = np.mod(i * ts[column], base_period_len)\n",
      "        # index looks like 000, 123, 246, etc, until it wraps around (for len(i)==3)\n",
      "        mat[2 * i - 1, column] = cs.take(index)\n",
      "        mat[2 * i, column] = sn.take(index)\n",
      "\n",
      "    logging.info('function `get_starter_matrix` complete')\n",
      "    return mat"
     ],
     "language": "python",
     "metadata": {},
     "outputs": [],
     "prompt_number": 3
    },
    {
     "cell_type": "code",
     "collapsed": false,
     "input": [
      "def HANTS(sample_count, inputs,\n",
      "          frequencies_considered_count=3,\n",
      "          outliers_to_reject='Lo',\n",
      "          low=0., high=255,\n",
      "          fit_error_tolerance=5,\n",
      "          delta=0.1):\n",
      "    \"\"\"\n",
      "    Function to apply the Harmonic analysis of time series applied to arrays\n",
      "\n",
      "    sample_count    = nr. of images (total number of actual samples of the time series)\n",
      "    base_period_len    = length of the base period, measured in virtual samples\n",
      "            (days, dekads, months, etc.)\n",
      "    frequencies_considered_count    = number of frequencies to be considered above the zero frequency\n",
      "    inputs     = array of input sample values (e.g. NDVI values)\n",
      "    ts    = array of size sample_count of time sample indicators\n",
      "            (indicates virtual sample number relative to the base period);\n",
      "            numbers in array ts maybe greater than base_period_len\n",
      "            If no aux file is used (no time samples), we assume ts(i)= i,\n",
      "            where i=1, ..., sample_count\n",
      "    outliers_to_reject  = 2-character string indicating rejection of high or low outliers\n",
      "            select from 'Hi', 'Lo' or 'None'\n",
      "    low   = valid range minimum\n",
      "    high  = valid range maximum (values outside the valid range are rejeced\n",
      "            right away)\n",
      "    fit_error_tolerance   = fit error tolerance (points deviating more than fit_error_tolerance from curve\n",
      "            fit are rejected)\n",
      "    dod   = degree of overdeterminedness (iteration stops if number of\n",
      "            points reaches the minimum required for curve fitting, plus\n",
      "            dod). This is a safety measure\n",
      "    delta = small positive number (e.g. 0.1) to suppress high amplitudes\n",
      "    \"\"\"\n",
      "\n",
      "    # define some parameters\n",
      "    base_period_len = sample_count  #\n",
      "\n",
      "    # check which setting to set for outlier filtering\n",
      "    if outliers_to_reject == 'Hi':\n",
      "        sHiLo = -1\n",
      "    elif outliers_to_reject == 'Lo':\n",
      "        sHiLo = 1\n",
      "    else:\n",
      "        sHiLo = 0\n",
      "\n",
      "    nr = min(2 * frequencies_considered_count + 1,\n",
      "             sample_count)  # number of 2*+1 frequencies, or number of input images\n",
      "\n",
      "    # create empty arrays to fill\n",
      "    outputs = np.zeros(shape=(inputs.shape[0], sample_count))\n",
      "\n",
      "    mat = get_starter_matrix(base_period_len, sample_count, frequencies_considered_count)\n",
      "\n",
      "    # repeat the mat array over the number of arrays in inputs\n",
      "    # and create arrays with ones with shape inputs where high and low values are set to 0\n",
      "    mat = np.tile(mat[None].T, (1, inputs.shape[0])).T\n",
      "    p = np.ones_like(inputs)\n",
      "    p[(low >= inputs) | (inputs > high)] = 0\n",
      "    nout = np.sum(p == 0, axis=-1)  # count the outliers for each timeseries\n",
      "\n",
      "    # prepare for while loop\n",
      "    ready = np.zeros((inputs.shape[0]), dtype=bool)  # all timeseries set to false\n",
      "\n",
      "    dod = 1  # (2*frequencies_considered_count-1)  # Um, no it isn't :/\n",
      "    noutmax = sample_count - nr - dod\n",
      "    # prepare to add delta to suppress high amplitudes but not for [0,0]\n",
      "    Adelta = np.tile(np.diag(np.ones(nr))[None].T, (1, inputs.shape[0])).T * delta\n",
      "    Adelta[:, 0, 0] -= delta\n",
      "    \n",
      "    for _ in xrange(sample_count):\n",
      "        if ready.all():\n",
      "            break\n",
      "        logging.info(_)\n",
      "        \n",
      "        # multiply outliers with timeseries\n",
      "        za = np.einsum('ijk,ik->ij', mat, p * inputs)\n",
      "        #print za\n",
      "\n",
      "        # multiply mat with the multiplication of multiply diagonal of p with transpose of mat\n",
      "        diag = makediag3d(p)\n",
      "        #print diag\n",
      "        \n",
      "        A = np.einsum('ajk,aki->aji', mat, np.einsum('aij,jka->ajk', diag, mat.T))\n",
      "        # add delta to suppress high amplitudes but not for [0,0]\n",
      "        A += Adelta\n",
      "        #A[:, 0, 0] = A[:, 0, 0] - delta\n",
      "        #print A\n",
      "\n",
      "        # solve linear matrix equation and define reconstructed timeseries\n",
      "        zr = np.linalg.solve(A, za)\n",
      "        #print zr\n",
      "        \n",
      "        outputs = np.einsum('ijk,kj->ki', mat.T, zr)\n",
      "        #print outputs\n",
      "\n",
      "        # calculate error and sort err by index\n",
      "        err = p * (sHiLo * (outputs - inputs))\n",
      "        rankVec = np.argsort(err, axis=1, )\n",
      "\n",
      "        # select maximum error and compute new ready status\n",
      "        maxerr = np.max(err, axis=-1)\n",
      "        #maxerr = np.diag(err.take(rankVec[:, sample_count - 1], axis=-1))\n",
      "        ready = (maxerr <= fit_error_tolerance) | (nout == noutmax)\n",
      "        logging.info(ready)\n",
      "\n",
      "        # if ready is still false\n",
      "        if not ready.all():\n",
      "            j = rankVec.take(sample_count - 1, axis=-1)\n",
      "\n",
      "            p.T[j.T, np.indices(j.shape)] = p.T[j.T, np.indices(j.shape)] * ready.astype(\n",
      "                int)  #*check\n",
      "            nout += 1\n",
      "\n",
      "    logging.info('function `HANTS` complete')\n",
      "    return outputs"
     ],
     "language": "python",
     "metadata": {},
     "outputs": [],
     "prompt_number": 4
    },
    {
     "cell_type": "code",
     "collapsed": false,
     "input": [
      "def convert_ansi_date(date, offset=0.5):\n",
      "    logging.info('function `convert_ansi_date` complete')\n",
      "    return jdcal.jd2gcal(2305812.5, date + offset) # 0.5 offset is to adjust from night to noon"
     ],
     "language": "python",
     "metadata": {},
     "outputs": [],
     "prompt_number": 5
    },
    {
     "cell_type": "code",
     "collapsed": false,
     "input": [
      "convert_ansi_date(150847)"
     ],
     "language": "python",
     "metadata": {},
     "outputs": [
      {
       "metadata": {},
       "output_type": "pyout",
       "prompt_number": 6,
       "text": [
        "(2014, 1, 2, 0.5)"
       ]
      }
     ],
     "prompt_number": 6
    },
    {
     "cell_type": "code",
     "collapsed": false,
     "input": [
      " def unix_time(dt):\n",
      "    epoch = datetime.datetime.utcfromtimestamp(0)\n",
      "    delta = dt - epoch\n",
      "    logging.info('function `unix_time` complete')\n",
      "    return delta.total_seconds()"
     ],
     "language": "python",
     "metadata": {},
     "outputs": [],
     "prompt_number": 7
    },
    {
     "cell_type": "code",
     "collapsed": false,
     "input": [
      " def unix_time_millis(dt):\n",
      "    logging.info('function `unix_time_millis` complete')\n",
      "    return int(unix_time(dt) * 1000)"
     ],
     "language": "python",
     "metadata": {},
     "outputs": [],
     "prompt_number": 8
    },
    {
     "cell_type": "code",
     "collapsed": false,
     "input": [
      "# parse XML into Python\n",
      "parser= etree.XMLParser(encoding=\"utf-8\")\n",
      "\n",
      "link1 = r'D:\\SharedFolderUbuntu_Archive\\2015-02-02//pywps_ras_singletimeseries.xml'\n",
      "link2 = r'D:\\SharedFolderUbuntu_Archive\\2015-02-02//2015_01_06_rasdaman_output.xml'\n",
      "\n",
      "tree = etree.parse(link2, parser = parser)\n",
      "root = tree.getroot()\n",
      "\n",
      "# read grid envelope of domain set\n",
      "xml_low_env = cStringIO.StringIO(root[1][0][0][0][0].text)\n",
      "xml_high_env = cStringIO.StringIO(root[1][0][0][0][1].text)\n",
      "\n",
      "# load grid envelope as numpy array\n",
      "low_env = np.loadtxt(xml_low_env, dtype='int', delimiter=' ')\n",
      "high_env = np.loadtxt(xml_high_env, dtype='int', delimiter=' ')\n",
      "ts_shape = high_env - low_env + 1\n",
      "\n",
      "easting = ts_shape[0]\n",
      "northing = ts_shape[1]\n",
      "time = ts_shape[2]\n",
      "\n",
      "## extract the dates\n",
      "#sd = ansi_date_to_greg_date(low_env[2]+140734)\n",
      "#ed = ansi_date_to_greg_date(high_env[2]+140734)\n",
      "\n",
      "# extract the values we need from the parsed XML\n",
      "sta_date_ansi = np.loadtxt(cStringIO.StringIO(root[0][0][0].text))[2] # 150116\n",
      "end_date_ansi = np.loadtxt(cStringIO.StringIO(root[0][0][1].text))[2] # 150852\n",
      "sta_date_rasd = np.loadtxt(cStringIO.StringIO(root[1][0][0][0][0].text))[2] # 9382\n",
      "end_date_rasd = np.loadtxt(cStringIO.StringIO(root[1][0][0][0][1].text))[2] # 9427\n",
      "timestep_date = np.loadtxt(cStringIO.StringIO(root[1][0][5].text))[2] # 16\n",
      "\n",
      "# compute the start and end-date\n",
      "dif_date_anra = sta_date_ansi - sta_date_rasd\n",
      "dif_date_rasd = end_date_rasd - sta_date_rasd + 1\n",
      "end_date_anra = dif_date_rasd * timestep_date + sta_date_rasd + dif_date_anra\n",
      "\n",
      "sd = convert_ansi_date(sta_date_ansi) # (2012, 1, 2, 0.5)\n",
      "ed = convert_ansi_date(end_date_anra) # (2014, 1, 7, 0.5)\n",
      "\n",
      "# convert dates to pandas date_range\n",
      "str_date = str(sd[1])+'.'+str(sd[2])+'.'+str(sd[0])+'.'+str(int(np.round(sd[3]*24)))+':00'\n",
      "end_date = str(ed[1])+'.'+str(ed[2])+'.'+str(ed[0])+'.'+str(int(np.round(ed[3]*24)))+':00'\n",
      "freq_date = str(int(timestep_date))+'D'\n",
      "dates = pd.date_range(str_date,end_date, freq=freq_date)\n",
      "dates = dates[:-1]\n",
      "\n",
      "logging.info('start date in ANSI', sta_date_ansi, 'is equal to ISO 8601', dates[0])\n",
      "logging.info('end date in ANSI', end_date_anra, 'is equal to ISO 8601', dates[-1])\n",
      "logging.info('number of timesteps', time)\n",
      "\n",
      "# read data block of range set\n",
      "xml_ts = cStringIO.StringIO(root[2][0][1].text)\n",
      "\n",
      "# load data block as numpy array\n",
      "ts = np.loadtxt(xml_ts, dtype='float', delimiter=',')\n",
      "ts_reshape = ts.reshape((easting*northing,time)) #Easting = ts_shape[0], Northing = ts_shape[1], time = ts_shape[2]\n",
      "\n",
      "# compute HANTS\n",
      "pyhants = HANTS(time, ts_reshape/100)\n",
      "pyhants *= 100\n",
      "df = pd.DataFrame(pyhants.flatten(),dates)\n",
      "df_org = pd.DataFrame(ts_reshape.flatten(),dates)\n",
      "\n",
      "# data preparation for HighCharts: Output need to be in JSON format with time \n",
      "# in Unix milliseconds\n",
      "dthandler = lambda obj: (\n",
      " unix_time_millis(obj)\n",
      " if isinstance(obj, datetime.datetime)\n",
      " or isinstance(obj, datetime.date)\n",
      " else None)\n",
      "\n",
      "output1 = cStringIO.StringIO()\n",
      "output2 = cStringIO.StringIO()   \n",
      "\n",
      "logging.info('ready to dump files to JSON')\n",
      "# np.savetxt(output, pyhants, delimiter=',')\n",
      "out1 = json.dump(df.reset_index().as_matrix().tolist(), output1, default=dthandler)\n",
      "out2 = json.dump(df_org.reset_index().as_matrix().tolist(), output2, default=dthandler)         "
     ],
     "language": "python",
     "metadata": {},
     "outputs": [],
     "prompt_number": 9
    },
    {
     "cell_type": "code",
     "collapsed": false,
     "input": [
      "# parse XML into Python\n",
      "parser= etree.XMLParser(encoding=\"utf-8\")\n",
      "\n",
      "link1 = r'D:\\SharedFolderUbuntu_Archive\\2015-02-02//pywps_ras_singletimeseries.xml'\n",
      "link2 = r'D:\\SharedFolderUbuntu_Archive\\2015-02-02//2015_01_06_rasdaman_output.xml'\n",
      "\n",
      "tree = etree.parse(link2, parser = parser)\n",
      "root = tree.getroot()"
     ],
     "language": "python",
     "metadata": {},
     "outputs": [],
     "prompt_number": 10
    },
    {
     "cell_type": "code",
     "collapsed": false,
     "input": [
      "# read grid envelope of domain set\n",
      "xml_low_env = cStringIO.StringIO(root[1][0][0][0][0].text)\n",
      "xml_high_env = cStringIO.StringIO(root[1][0][0][0][1].text)\n",
      "\n",
      "# load grid envelope as numpy array\n",
      "low_env = np.loadtxt(xml_low_env, dtype='int', delimiter=' ')\n",
      "high_env = np.loadtxt(xml_high_env, dtype='int', delimiter=' ')\n",
      "ts_shape = high_env - low_env + 1\n",
      "\n",
      "easting = ts_shape[0]"
     ],
     "language": "python",
     "metadata": {},
     "outputs": [],
     "prompt_number": 16
    },
    {
     "cell_type": "code",
     "collapsed": false,
     "input": [
      "easting"
     ],
     "language": "python",
     "metadata": {},
     "outputs": [
      {
       "metadata": {},
       "output_type": "pyout",
       "prompt_number": 17,
       "text": [
        "1"
       ]
      }
     ],
     "prompt_number": 17
    },
    {
     "cell_type": "code",
     "collapsed": false,
     "input": [],
     "language": "python",
     "metadata": {},
     "outputs": []
    },
    {
     "cell_type": "code",
     "collapsed": false,
     "input": [
      "df.plot()\n",
      "df_org.plot()"
     ],
     "language": "python",
     "metadata": {},
     "outputs": [
      {
       "metadata": {},
       "output_type": "pyout",
       "prompt_number": 9,
       "text": [
        "<matplotlib.axes._subplots.AxesSubplot at 0x964adb0>"
       ]
      },
      {
       "metadata": {},
       "output_type": "display_data",
       "png": "[encoded data removed]",
       "text": [
        "<matplotlib.figure.Figure at 0x9425550>"
       ]
      },
      {
       "metadata": {},
       "output_type": "display_data",
       "png": "[encoded data removed]",
       "text": [
        "<matplotlib.figure.Figure at 0x9617cf0>"
       ]
      }
     ],
     "prompt_number": 9
    },
    {
     "cell_type": "code",
     "collapsed": false,
     "input": [],
     "language": "python",
     "metadata": {},
     "outputs": []
    }
   ],
   "metadata": {}
  }
 ]
}