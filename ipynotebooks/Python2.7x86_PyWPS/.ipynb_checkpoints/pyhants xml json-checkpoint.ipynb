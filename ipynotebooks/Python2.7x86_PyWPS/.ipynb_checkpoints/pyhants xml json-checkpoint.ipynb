{
 "metadata": {
  "name": "",
  "signature": "sha256:f1083807763e9d2166ecca8084acc54470b8ad1b1936217e702131151e569473"
 },
 "nbformat": 3,
 "nbformat_minor": 0,
 "worksheets": [
  {
   "cells": [
    {
     "cell_type": "code",
     "collapsed": false,
     "input": [
      "import xml.etree.cElementTree as etree\n",
      "import cStringIO\n",
      "import jdcal\n",
      "from pywps.Process import WPSProcess  \n",
      "from types import FloatType\n",
      "import numpy as np\n",
      "import pandas as pd"
     ],
     "language": "python",
     "metadata": {},
     "outputs": [],
     "prompt_number": 1
    },
    {
     "cell_type": "code",
     "collapsed": false,
     "input": [
      "def ansi_date_to_greg_date(date=146828,offset=0.5):\n",
      "    # see Julian_day - Variants ANSI date = floor (JD \u2212 2305812.5)\n",
      "    return jdcal.jd2gcal(2305812.5, date + offset) # 0.5 is to adjust from night to noon"
     ],
     "language": "python",
     "metadata": {},
     "outputs": [],
     "prompt_number": 2
    },
    {
     "cell_type": "code",
     "collapsed": false,
     "input": [
      "# --------*-*-*-*-*-*--------  WPSProcess  --------*-*-*-*-*-*--------  WPSProcess  --------*-*-*-*-*-*-----\n",
      "# Computing diagonal for each row of a 2d array. See: http://stackoverflow.com/q/27214027/2459096\n",
      "def makediag3d(M):\n",
      "    b = np.zeros((M.shape[0], M.shape[1] * M.shape[1]))\n",
      "    b[:, ::M.shape[1] + 1] = M\n",
      "    return b.reshape(M.shape[0], M.shape[1], M.shape[1]) \n",
      "\n",
      "def get_starter_matrix(base_period_len, sample_count, frequencies_considered_count):\n",
      "    nr = min(2 * frequencies_considered_count + 1,\n",
      "                  sample_count)  # number of 2*+1 frequencies, or number of input images\n",
      "    mat = np.zeros(shape=(nr, sample_count))\n",
      "    mat[0, :] = 1\n",
      "    ang = 2 * np.pi * np.arange(base_period_len) / base_period_len\n",
      "    cs = np.cos(ang)\n",
      "    sn = np.sin(ang)\n",
      "    # create some standard sinus and cosinus functions and put in matrix\n",
      "    i = np.arange(1, frequencies_considered_count + 1)\n",
      "    ts = np.arange(sample_count)\n",
      "    for column in xrange(sample_count):\n",
      "        index = np.mod(i * ts[column], base_period_len)\n",
      "        # index looks like 000, 123, 246, etc, until it wraps around (for len(i)==3)\n",
      "        mat[2 * i - 1, column] = cs.take(index)\n",
      "        mat[2 * i, column] = sn.take(index)\n",
      "\n",
      "    return mat        \n",
      "\n",
      "def HANTS(sample_count, inputs,\n",
      "          frequencies_considered_count=3,\n",
      "          outliers_to_reject='Hi',\n",
      "          low=0., high=255,\n",
      "          fit_error_tolerance=5,\n",
      "          delta=0.1):\n",
      "    \"\"\"\n",
      "    Function to apply the Harmonic analysis of time series applied to arrays\n",
      "\n",
      "    sample_count    = nr. of images (total number of actual samples of the time series)\n",
      "    base_period_len    = length of the base period, measured in virtual samples\n",
      "            (days, dekads, months, etc.)\n",
      "    frequencies_considered_count    = number of frequencies to be considered above the zero frequency\n",
      "    inputs     = array of input sample values (e.g. NDVI values)\n",
      "    ts    = array of size sample_count of time sample indicators\n",
      "            (indicates virtual sample number relative to the base period);\n",
      "            numbers in array ts maybe greater than base_period_len\n",
      "            If no aux file is used (no time samples), we assume ts(i)= i,\n",
      "            where i=1, ..., sample_count\n",
      "    outliers_to_reject  = 2-character string indicating rejection of high or low outliers\n",
      "            select from 'Hi', 'Lo' or 'None'\n",
      "    low   = valid range minimum\n",
      "    high  = valid range maximum (values outside the valid range are rejeced\n",
      "            right away)\n",
      "    fit_error_tolerance   = fit error tolerance (points deviating more than fit_error_tolerance from curve\n",
      "            fit are rejected)\n",
      "    dod   = degree of overdeterminedness (iteration stops if number of\n",
      "            points reaches the minimum required for curve fitting, plus\n",
      "            dod). This is a safety measure\n",
      "    delta = small positive number (e.g. 0.1) to suppress high amplitudes\n",
      "    \"\"\"\n",
      "\n",
      "    # define some parameters\n",
      "    base_period_len = sample_count  #\n",
      "\n",
      "    # check which setting to set for outlier filtering\n",
      "    if outliers_to_reject == 'Hi':\n",
      "        sHiLo = -1\n",
      "    elif outliers_to_reject == 'Lo':\n",
      "        sHiLo = 1\n",
      "    else:\n",
      "        sHiLo = 0\n",
      "\n",
      "    nr = min(2 * frequencies_considered_count + 1,\n",
      "             sample_count)  # number of 2*+1 frequencies, or number of input images\n",
      "\n",
      "    # create empty arrays to fill\n",
      "    outputs = np.zeros(shape=(inputs.shape[0], sample_count))\n",
      "\n",
      "    mat = get_starter_matrix(base_period_len, sample_count, frequencies_considered_count)\n",
      "\n",
      "    # repeat the mat array over the number of arrays in inputs\n",
      "    # and create arrays with ones with shape inputs where high and low values are set to 0\n",
      "    mat = np.tile(mat[None].T, (1, inputs.shape[0])).T\n",
      "    p = np.ones_like(inputs)\n",
      "    p[(low >= inputs) | (inputs > high)] = 0\n",
      "    nout = np.sum(p == 0, axis=-1)  # count the outliers for each timeseries\n",
      "\n",
      "    # prepare for while loop\n",
      "    ready = np.zeros((inputs.shape[0]), dtype=bool)  # all timeseries set to false\n",
      "\n",
      "    dod = 1  # (2*frequencies_considered_count-1)  # Um, no it isn't :/\n",
      "    noutmax = sample_count - nr - dod\n",
      "    # prepare to add delta to suppress high amplitudes but not for [0,0]\n",
      "    Adelta = np.tile(np.diag(np.ones(nr))[None].T, (1, inputs.shape[0])).T * delta\n",
      "    Adelta[:, 0, 0] -= delta\n",
      "    \n",
      "    for _ in xrange(sample_count):\n",
      "        if ready.all():\n",
      "            break\n",
      "        # print '--------*-*-*-*',it.value, '*-*-*-*--------'\n",
      "        # multiply outliers with timeseries\n",
      "        za = np.einsum('ijk,ik->ij', mat, p * inputs)\n",
      "\n",
      "        # multiply mat with the multiplication of multiply diagonal of p with transpose of mat\n",
      "        diag = makediag3d(p)\n",
      "        A = np.einsum('ajk,aki->aji', mat, np.einsum('aij,jka->ajk', diag, mat.T))\n",
      "        # add delta to suppress high amplitudes but not for [0,0]\n",
      "        A += Adelta\n",
      "        #A[:, 0, 0] = A[:, 0, 0] - delta\n",
      "\n",
      "        # solve linear matrix equation and define reconstructed timeseries\n",
      "        zr = np.linalg.solve(A, za)\n",
      "        outputs = np.einsum('ijk,kj->ki', mat.T, zr)\n",
      "\n",
      "        # calculate error and sort err by index\n",
      "        err = p * (sHiLo * (outputs - inputs))\n",
      "        rankVec = np.argsort(err, axis=1, )\n",
      "\n",
      "        # select maximum error and compute new ready status\n",
      "        maxerr = np.max(err, axis=-1)\n",
      "        #maxerr = np.diag(err.take(rankVec[:, sample_count - 1], axis=-1))\n",
      "        ready = (maxerr <= fit_error_tolerance) | (nout == noutmax)\n",
      "\n",
      "        # if ready is still false\n",
      "        if not ready.all():\n",
      "            j = rankVec.take(sample_count - 1, axis=-1)\n",
      "\n",
      "            p.T[j.T, np.indices(j.shape)] = p.T[j.T, np.indices(j.shape)] * ready.astype(\n",
      "                int)  #*check\n",
      "            nout += 1\n",
      "\n",
      "    return outputs\n",
      "# --------*-*-*-*-*-*--------  WPSProcess  --------*-*-*-*-*-*--------  WPSProcess  --------*-*-*-*-*-*-----"
     ],
     "language": "python",
     "metadata": {},
     "outputs": [],
     "prompt_number": 3
    },
    {
     "cell_type": "code",
     "collapsed": false,
     "input": [
      "parser= etree.XMLParser(encoding=\"utf-8\")\n",
      "tree = etree.parse(r'D:\\SharedFolderUbuntu//pywps_ras_singletimeseries.xml', parser = parser)\n",
      "root = tree.getroot()"
     ],
     "language": "python",
     "metadata": {},
     "outputs": [],
     "prompt_number": 4
    },
    {
     "cell_type": "code",
     "collapsed": false,
     "input": [
      "tree.getroot()"
     ],
     "language": "python",
     "metadata": {},
     "outputs": [
      {
       "metadata": {},
       "output_type": "pyout",
       "prompt_number": 5,
       "text": [
        "<Element '{http://www.opengis.net/gmlcov/1.0}RectifiedGridCoverage' at 0x09AF71E8>"
       ]
      }
     ],
     "prompt_number": 5
    },
    {
     "cell_type": "code",
     "collapsed": false,
     "input": [
      "root.attrib"
     ],
     "language": "python",
     "metadata": {},
     "outputs": [
      {
       "metadata": {},
       "output_type": "pyout",
       "prompt_number": 6,
       "text": [
        "{'{http://www.opengis.net/gml/3.2}id': 'NDVI_coverage2',\n",
        " '{http://www.w3.org/2001/XMLSchema-instance}schemaLocation': 'http://www.opengis.net/wcs/2.0 http://schemas.opengis.net/wcs/2.0/wcsAll.xsd'}"
       ]
      }
     ],
     "prompt_number": 6
    },
    {
     "cell_type": "code",
     "collapsed": false,
     "input": [
      "for child in root: \n",
      "    print child.tag, child.attrib"
     ],
     "language": "python",
     "metadata": {},
     "outputs": [
      {
       "output_type": "stream",
       "stream": "stdout",
       "text": [
        "{http://www.opengis.net/gml/3.2}boundedBy {}\n",
        "{http://www.opengis.net/gml/3.2}domainSet {}\n",
        "{http://www.opengis.net/gml/3.2}rangeSet {}\n",
        "{http://www.opengis.net/gml/3.2}coverageFunction {}\n",
        "{http://www.opengis.net/gmlcov/1.0}rangeType {}\n"
       ]
      }
     ],
     "prompt_number": 7
    },
    {
     "cell_type": "code",
     "collapsed": false,
     "input": [
      "# parse XML into Python\n",
      "parser= etree.XMLParser(encoding=\"utf-8\")\n",
      "tree = etree.parse(r'D:\\SharedFolderUbuntu//pywps_ras_singletimeseries.xml', parser = parser)\n",
      "root = tree.getroot()\n",
      "\n",
      "# read grid envelope of domain set\n",
      "xml_low_env = cStringIO.StringIO(root[1][0][0][0][0].text)\n",
      "xml_high_env = cStringIO.StringIO(root[1][0][0][0][1].text)\n",
      "\n",
      "# load grid envelope as numpy array\n",
      "low_env = np.loadtxt(xml_low_env, dtype='int', delimiter=' ')\n",
      "high_env = np.loadtxt(xml_high_env, dtype='int', delimiter=' ')\n",
      "ts_shape = high_env - low_env + 1\n",
      "\n",
      "easting = ts_shape[0]\n",
      "northing = ts_shape[1]\n",
      "time = ts_shape[2]\n",
      "\n",
      "# extract the dates\n",
      "sd = ansi_date_to_greg_date(low_env[2])\n",
      "ed = ansi_date_to_greg_date(high_env[2])\n",
      "\n",
      "# read data block of range set\n",
      "xml_ts = cStringIO.StringIO(root[2][0][1].text)\n",
      "\n",
      "# load data block as numpy array\n",
      "ts = np.loadtxt(xml_ts, dtype='float', delimiter=',')\n",
      "ts_reshape = ts.reshape((easting*northing,time)) #Easting = ts_shape[0], Northing = ts_shape[1], time = ts_shape[2]\n",
      "\n",
      "# compute HANTS\n",
      "pyhants = HANTS(time, ts_reshape)\n",
      "\n",
      "# save as string\n",
      "output = cStringIO.StringIO()\n",
      "np.savetxt(output, pyhants, delimiter=',')"
     ],
     "language": "python",
     "metadata": {},
     "outputs": [],
     "prompt_number": 25
    },
    {
     "cell_type": "code",
     "collapsed": false,
     "input": [
      "str_date = str(sd[1])+'.'+str(sd[2])+'.'+str(sd[0])+'.'+str(int(np.round(sd[3]*24)))+':00'\n",
      "end_date = str(ed[1])+'.'+str(ed[2])+'.'+str(ed[0])+'.'+str(int(np.round(ed[3]*24)))+':00'\n",
      "dates = pd.date_range(str_date,end_date)\n",
      "dates[-1]"
     ],
     "language": "python",
     "metadata": {},
     "outputs": [
      {
       "metadata": {},
       "output_type": "pyout",
       "prompt_number": 45,
       "text": [
        "Timestamp('2003-01-31 12:00:00', offset='D')"
       ]
      }
     ],
     "prompt_number": 45
    },
    {
     "cell_type": "code",
     "collapsed": false,
     "input": [
      "dates = pd.date_range('1.2.2012.12:00','1.30.2012.12:00')\n",
      "dates[-1]"
     ],
     "language": "python",
     "metadata": {},
     "outputs": [
      {
       "metadata": {},
       "output_type": "pyout",
       "prompt_number": 41,
       "text": [
        "Timestamp('2012-01-30 12:00:00', offset='D')"
       ]
      }
     ],
     "prompt_number": 41
    },
    {
     "cell_type": "code",
     "collapsed": false,
     "input": [
      "import json\n",
      "df = pd.DataFrame(pyhants.flatten(),dates)\n",
      "df.plot()\n",
      "urlout_json = r'D:\\GoogleChromeDownloads\\Highstock-2.0.4\\examples\\basic-line/singe_timeseries.json'\n",
      "urlout_csv = r'D:\\GoogleChromeDownloads\\Highstock-2.0.4\\examples\\basic-line/singe_timeseries.csv'\n",
      "#df.to_json(urlout_json, date_format='epoch',date_unit='ms',)"
     ],
     "language": "python",
     "metadata": {},
     "outputs": [
      {
       "metadata": {},
       "output_type": "display_data",
       "png": "[encoded data removed]",
       "text": [
        "<matplotlib.figure.Figure at 0xbbecbd0>"
       ]
      }
     ],
     "prompt_number": 63
    },
    {
     "cell_type": "code",
     "collapsed": false,
     "input": [
      "dthandler = lambda obj: (\n",
      "    obj.isoformat()\n",
      "    if isinstance(obj, datetime.datetime)\n",
      "    or isinstance(obj, datetime.date)\n",
      "    else None)\n",
      "        \n",
      "print json.dumps(df.reset_index().as_matrix().tolist(), default=dthandler)"
     ],
     "language": "python",
     "metadata": {},
     "outputs": [
      {
       "output_type": "stream",
       "stream": "stdout",
       "text": [
        "[[\"2003-01-01T12:00:00\", 0.14177388369632749], [\"2003-01-02T12:00:00\", 0.1357159616848933], [\"2003-01-03T12:00:00\", 0.13122455274465478], [\"2003-01-04T12:00:00\", 0.12892193956326223], [\"2003-01-05T12:00:00\", 0.12884908904609355], [\"2003-01-06T12:00:00\", 0.13050278821879896], [\"2003-01-07T12:00:00\", 0.133037134621374], [\"2003-01-08T12:00:00\", 0.13555638055647576], [\"2003-01-09T12:00:00\", 0.13739794311273412], [\"2003-01-10T12:00:00\", 0.13831177738599065], [\"2003-01-11T12:00:00\", 0.13848202137552426], [\"2003-01-12T12:00:00\", 0.13839423561089972], [\"2003-01-13T12:00:00\", 0.1386059851271944], [\"2003-01-14T12:00:00\", 0.1395106159115903], [\"2003-01-15T12:00:00\", 0.1411827948105556], [\"2003-01-16T12:00:00\", 0.14336080076885938], [\"2003-01-17T12:00:00\", 0.14556742931067934], [\"2003-01-18T12:00:00\", 0.14731842947472126], [\"2003-01-19T12:00:00\", 0.14833415244537662], [\"2003-01-20T12:00:00\", 0.14866877927029215], [\"2003-01-21T12:00:00\", 0.14870260962914086], [\"2003-01-22T12:00:00\", 0.14899502258647743], [\"2003-01-23T12:00:00\", 0.15004967418671467], [\"2003-01-24T12:00:00\", 0.15207926955559464], [\"2003-01-25T12:00:00\", 0.15486129620561215], [\"2003-01-26T12:00:00\", 0.15774632332118865], [\"2003-01-27T12:00:00\", 0.15982704985172397], [\"2003-01-28T12:00:00\", 0.16021813786948869], [\"2003-01-29T12:00:00\", 0.158354895632032], [\"2003-01-30T12:00:00\", 0.15420845975394493], [\"2003-01-31T12:00:00\", 0.1483405666717841]]\n"
       ]
      }
     ],
     "prompt_number": 71
    },
    {
     "cell_type": "code",
     "collapsed": false,
     "input": [
      "import datetime\n",
      "\n",
      "def unix_time(dt):\n",
      "    epoch = datetime.datetime.utcfromtimestamp(0)\n",
      "    delta = dt - epoch\n",
      "    return delta.total_seconds()\n",
      "\n",
      "def unix_time_millis(dt):\n",
      "    return int(unix_time(dt) * 1000)\n",
      "\n",
      "dthandler2 = lambda obj: (\n",
      "    unix_time_millis(obj)\n",
      "    if isinstance(obj, datetime.datetime)\n",
      "    or isinstance(obj, datetime.date)\n",
      "    else None)"
     ],
     "language": "python",
     "metadata": {},
     "outputs": [],
     "prompt_number": 104
    },
    {
     "cell_type": "code",
     "collapsed": false,
     "input": [
      "print json.dumps(df.reset_index().as_matrix().tolist(), default=dthandler2)"
     ],
     "language": "python",
     "metadata": {},
     "outputs": [
      {
       "output_type": "stream",
       "stream": "stdout",
       "text": [
        "[[1041422400000, 0.14177388369632749], [1041508800000, 0.1357159616848933], [1041595200000, 0.13122455274465478], [1041681600000, 0.12892193956326223], [1041768000000, 0.12884908904609355], [1041854400000, 0.13050278821879896], [1041940800000, 0.133037134621374], [1042027200000, 0.13555638055647576], [1042113600000, 0.13739794311273412], [1042200000000, 0.13831177738599065], [1042286400000, 0.13848202137552426], [1042372800000, 0.13839423561089972], [1042459200000, 0.1386059851271944], [1042545600000, 0.1395106159115903], [1042632000000, 0.1411827948105556], [1042718400000, 0.14336080076885938], [1042804800000, 0.14556742931067934], [1042891200000, 0.14731842947472126], [1042977600000, 0.14833415244537662], [1043064000000, 0.14866877927029215], [1043150400000, 0.14870260962914086], [1043236800000, 0.14899502258647743], [1043323200000, 0.15004967418671467], [1043409600000, 0.15207926955559464], [1043496000000, 0.15486129620561215], [1043582400000, 0.15774632332118865], [1043668800000, 0.15982704985172397], [1043755200000, 0.16021813786948869], [1043841600000, 0.158354895632032], [1043928000000, 0.15420845975394493], [1044014400000, 0.1483405666717841]]\n"
       ]
      }
     ],
     "prompt_number": 105
    },
    {
     "cell_type": "code",
     "collapsed": false,
     "input": [
      "df.reset_index()['index'][0].utcfromtimestamp()"
     ],
     "language": "python",
     "metadata": {},
     "outputs": [
      {
       "ename": "TypeError",
       "evalue": "utcfromtimestamp() takes exactly 1 argument (0 given)",
       "output_type": "pyerr",
       "traceback": [
        "\u001b[1;31m---------------------------------------------------------------------------\u001b[0m\n\u001b[1;31mTypeError\u001b[0m                                 Traceback (most recent call last)",
        "\u001b[1;32m<ipython-input-91-5497868af4d2>\u001b[0m in \u001b[0;36m<module>\u001b[1;34m()\u001b[0m\n\u001b[1;32m----> 1\u001b[1;33m \u001b[0mdf\u001b[0m\u001b[1;33m.\u001b[0m\u001b[0mreset_index\u001b[0m\u001b[1;33m(\u001b[0m\u001b[1;33m)\u001b[0m\u001b[1;33m[\u001b[0m\u001b[1;34m'index'\u001b[0m\u001b[1;33m]\u001b[0m\u001b[1;33m[\u001b[0m\u001b[1;36m0\u001b[0m\u001b[1;33m]\u001b[0m\u001b[1;33m.\u001b[0m\u001b[0mutcfromtimestamp\u001b[0m\u001b[1;33m(\u001b[0m\u001b[1;33m)\u001b[0m\u001b[1;33m\u001b[0m\u001b[0m\n\u001b[0m",
        "\u001b[1;31mTypeError\u001b[0m: utcfromtimestamp() takes exactly 1 argument (0 given)"
       ]
      }
     ],
     "prompt_number": 91
    },
    {
     "cell_type": "code",
     "collapsed": false,
     "input": [
      "output = cStringIO.StringIO()\n",
      "json.dump(df.reset_index().as_matrix().tolist(), output, default=dthandler)"
     ],
     "language": "python",
     "metadata": {},
     "outputs": [],
     "prompt_number": 92
    },
    {
     "cell_type": "code",
     "collapsed": false,
     "input": [
      "output.seek(0)\n",
      "output.read()"
     ],
     "language": "python",
     "metadata": {},
     "outputs": [
      {
       "metadata": {},
       "output_type": "pyout",
       "prompt_number": 99,
       "text": [
        "'[[\"2003-01-01T12:00:00\", 0.14177388369632749], [\"2003-01-02T12:00:00\", 0.1357159616848933], [\"2003-01-03T12:00:00\", 0.13122455274465478], [\"2003-01-04T12:00:00\", 0.12892193956326223], [\"2003-01-05T12:00:00\", 0.12884908904609355], [\"2003-01-06T12:00:00\", 0.13050278821879896], [\"2003-01-07T12:00:00\", 0.133037134621374], [\"2003-01-08T12:00:00\", 0.13555638055647576], [\"2003-01-09T12:00:00\", 0.13739794311273412], [\"2003-01-10T12:00:00\", 0.13831177738599065], [\"2003-01-11T12:00:00\", 0.13848202137552426], [\"2003-01-12T12:00:00\", 0.13839423561089972], [\"2003-01-13T12:00:00\", 0.1386059851271944], [\"2003-01-14T12:00:00\", 0.1395106159115903], [\"2003-01-15T12:00:00\", 0.1411827948105556], [\"2003-01-16T12:00:00\", 0.14336080076885938], [\"2003-01-17T12:00:00\", 0.14556742931067934], [\"2003-01-18T12:00:00\", 0.14731842947472126], [\"2003-01-19T12:00:00\", 0.14833415244537662], [\"2003-01-20T12:00:00\", 0.14866877927029215], [\"2003-01-21T12:00:00\", 0.14870260962914086], [\"2003-01-22T12:00:00\", 0.14899502258647743], [\"2003-01-23T12:00:00\", 0.15004967418671467], [\"2003-01-24T12:00:00\", 0.15207926955559464], [\"2003-01-25T12:00:00\", 0.15486129620561215], [\"2003-01-26T12:00:00\", 0.15774632332118865], [\"2003-01-27T12:00:00\", 0.15982704985172397], [\"2003-01-28T12:00:00\", 0.16021813786948869], [\"2003-01-29T12:00:00\", 0.158354895632032], [\"2003-01-30T12:00:00\", 0.15420845975394493], [\"2003-01-31T12:00:00\", 0.1483405666717841]]'"
       ]
      }
     ],
     "prompt_number": 99
    },
    {
     "cell_type": "code",
     "collapsed": false,
     "input": [],
     "language": "python",
     "metadata": {},
     "outputs": [],
     "prompt_number": 79
    },
    {
     "cell_type": "code",
     "collapsed": false,
     "input": [
      "unix_time_millis(df.reset_index()['index'][0])"
     ],
     "language": "python",
     "metadata": {},
     "outputs": [
      {
       "metadata": {},
       "output_type": "pyout",
       "prompt_number": 81,
       "text": [
        "1041422400000.0"
       ]
      }
     ],
     "prompt_number": 81
    },
    {
     "cell_type": "code",
     "collapsed": false,
     "input": [
      "from pywps.Process import WPSProcess\n",
      "import jdcal\n",
      "import xml.etree.ElementTree as ET\n",
      "from types import FloatType\n",
      "import numpy as np\n",
      "import cStringIO\n",
      "\n",
      "# --------*-*-*-*-*-*--------  WPSProcess  --------*-*-*-*-*-*--------  WPSProcess  --------*-*-*-*-*-*-----\n",
      "# Computing diagonal for each row of a 2d array. See: http://stackoverflow.com/q/27214027/2459096\n",
      "def ansi_date_to_greg_date(date=146828,offset=0.5):\n",
      "    # see http://www.wikiwand.com/en/Julian_day#Variants ANSI date = floor (JD \u2212 2305812.5)\n",
      "    return jdcal.jd2gcal(2305812.5, date + offset) # +0.5 is to adjust from night to noon\n",
      "    \n",
      "def makediag3d(M):\n",
      "    b = np.zeros((M.shape[0], M.shape[1] * M.shape[1]))\n",
      "    b[:, ::M.shape[1] + 1] = M\n",
      "    return b.reshape(M.shape[0], M.shape[1], M.shape[1]) \n",
      "\n",
      "def get_starter_matrix(base_period_len, sample_count, frequencies_considered_count):\n",
      "    nr = min(2 * frequencies_considered_count + 1,\n",
      "                  sample_count)  # number of 2*+1 frequencies, or number of input images\n",
      "    mat = np.zeros(shape=(nr, sample_count))\n",
      "    mat[0, :] = 1\n",
      "    ang = 2 * np.pi * np.arange(base_period_len) / base_period_len\n",
      "    cs = np.cos(ang)\n",
      "    sn = np.sin(ang)\n",
      "    # create some standard sinus and cosinus functions and put in matrix\n",
      "    i = np.arange(1, frequencies_considered_count + 1)\n",
      "    ts = np.arange(sample_count)\n",
      "    for column in xrange(sample_count):\n",
      "        index = np.mod(i * ts[column], base_period_len)\n",
      "        # index looks like 000, 123, 246, etc, until it wraps around (for len(i)==3)\n",
      "        mat[2 * i - 1, column] = cs.take(index)\n",
      "        mat[2 * i, column] = sn.take(index)\n",
      "\n",
      "    return mat        \n",
      "\n",
      "def HANTS(sample_count, inputs,\n",
      "          frequencies_considered_count=3,\n",
      "          outliers_to_reject='Hi',\n",
      "          low=0., high=255,\n",
      "          fit_error_tolerance=5,\n",
      "          delta=0.1):\n",
      "    \"\"\"\n",
      "    Function to apply the Harmonic analysis of time series applied to arrays\n",
      "\n",
      "    sample_count    = nr. of images (total number of actual samples of the time series)\n",
      "    base_period_len    = length of the base period, measured in virtual samples\n",
      "            (days, dekads, months, etc.)\n",
      "    frequencies_considered_count    = number of frequencies to be considered above the zero frequency\n",
      "    inputs     = array of input sample values (e.g. NDVI values)\n",
      "    ts    = array of size sample_count of time sample indicators\n",
      "            (indicates virtual sample number relative to the base period);\n",
      "            numbers in array ts maybe greater than base_period_len\n",
      "            If no aux file is used (no time samples), we assume ts(i)= i,\n",
      "            where i=1, ..., sample_count\n",
      "    outliers_to_reject  = 2-character string indicating rejection of high or low outliers\n",
      "            select from 'Hi', 'Lo' or 'None'\n",
      "    low   = valid range minimum\n",
      "    high  = valid range maximum (values outside the valid range are rejeced\n",
      "            right away)\n",
      "    fit_error_tolerance   = fit error tolerance (points deviating more than fit_error_tolerance from curve\n",
      "            fit are rejected)\n",
      "    dod   = degree of overdeterminedness (iteration stops if number of\n",
      "            points reaches the minimum required for curve fitting, plus\n",
      "            dod). This is a safety measure\n",
      "    delta = small positive number (e.g. 0.1) to suppress high amplitudes\n",
      "    \"\"\"\n",
      "\n",
      "    # define some parameters\n",
      "    base_period_len = sample_count  #\n",
      "\n",
      "    # check which setting to set for outlier filtering\n",
      "    if outliers_to_reject == 'Hi':\n",
      "        sHiLo = -1\n",
      "    elif outliers_to_reject == 'Lo':\n",
      "        sHiLo = 1\n",
      "    else:\n",
      "        sHiLo = 0\n",
      "\n",
      "    nr = min(2 * frequencies_considered_count + 1,\n",
      "             sample_count)  # number of 2*+1 frequencies, or number of input images\n",
      "\n",
      "    # create empty arrays to fill\n",
      "    outputs = np.zeros(shape=(inputs.shape[0], sample_count))\n",
      "\n",
      "    mat = get_starter_matrix(base_period_len, sample_count, frequencies_considered_count)\n",
      "\n",
      "    # repeat the mat array over the number of arrays in inputs\n",
      "    # and create arrays with ones with shape inputs where high and low values are set to 0\n",
      "    mat = np.tile(mat[None].T, (1, inputs.shape[0])).T\n",
      "    p = np.ones_like(inputs)\n",
      "    p[(low >= inputs) | (inputs > high)] = 0\n",
      "    nout = np.sum(p == 0, axis=-1)  # count the outliers for each timeseries\n",
      "\n",
      "    # prepare for while loop\n",
      "    ready = np.zeros((inputs.shape[0]), dtype=bool)  # all timeseries set to false\n",
      "\n",
      "    dod = 1  # (2*frequencies_considered_count-1)  # Um, no it isn't :/\n",
      "    noutmax = sample_count - nr - dod\n",
      "    # prepare to add delta to suppress high amplitudes but not for [0,0]\n",
      "    Adelta = np.tile(np.diag(np.ones(nr))[None].T, (1, inputs.shape[0])).T * delta\n",
      "    Adelta[:, 0, 0] -= delta\n",
      "    \n",
      "    for _ in xrange(sample_count):\n",
      "        if ready.all():\n",
      "            break\n",
      "        # print '--------*-*-*-*',it.value, '*-*-*-*--------'\n",
      "        # multiply outliers with timeseries\n",
      "        za = np.einsum('ijk,ik->ij', mat, p * inputs)\n",
      "\n",
      "        # multiply mat with the multiplication of multiply diagonal of p with transpose of mat\n",
      "        diag = makediag3d(p)\n",
      "        A = np.einsum('ajk,aki->aji', mat, np.einsum('aij,jka->ajk', diag, mat.T))\n",
      "        # add delta to suppress high amplitudes but not for [0,0]\n",
      "        A += Adelta\n",
      "        #A[:, 0, 0] = A[:, 0, 0] - delta\n",
      "\n",
      "        # solve linear matrix equation and define reconstructed timeseries\n",
      "        zr = np.linalg.solve(A, za)\n",
      "        outputs = np.einsum('ijk,kj->ki', mat.T, zr)\n",
      "\n",
      "        # calculate error and sort err by index\n",
      "        err = p * (sHiLo * (outputs - inputs))\n",
      "        rankVec = np.argsort(err, axis=1, )\n",
      "\n",
      "        # select maximum error and compute new ready status\n",
      "        maxerr = np.max(err, axis=-1)\n",
      "        #maxerr = np.diag(err.take(rankVec[:, sample_count - 1], axis=-1))\n",
      "        ready = (maxerr <= fit_error_tolerance) | (nout == noutmax)\n",
      "\n",
      "        # if ready is still false\n",
      "        if not ready.all():\n",
      "            j = rankVec.take(sample_count - 1, axis=-1)\n",
      "\n",
      "            p.T[j.T, np.indices(j.shape)] = p.T[j.T, np.indices(j.shape)] * ready.astype(\n",
      "                int)  #*check\n",
      "            nout += 1\n",
      "\n",
      "    return outputs\n",
      "\n",
      "# Compute semi-random time series array with numb standing for number of timeseries\n",
      "def array_in(numb):\n",
      "    y = np.array([5.0, 2.0, 10.0, 12.0, 18.0, 23.0, 27.0, 40.0, 60.0, 70.0, 90.0, 160.0, 190.0,\n",
      "                  210.0, 104.0, 90.0, 170.0, 50.0, 120.0, 60.0, 40.0, 30.0, 28.0, 24.0, 15.0,\n",
      "                  10.0])\n",
      "    y = np.tile(y[None].T, (1, numb)).T\n",
      "    kl = (np.random.randint(2, size=(numb, 26)) *\n",
      "          np.random.randint(2, size=(numb, 26)) + 1)\n",
      "    kl[kl == 2] = 0\n",
      "    y = y * kl\n",
      "    return y\n",
      "\n",
      "\n",
      "from pywps.Process import WPSProcess  \n",
      "from types import FloatType\n",
      " \n",
      "class Process(WPSProcess):\n",
      "     def __init__(self):\n",
      "         \n",
      "         WPSProcess.__init__(self,\n",
      "              identifier       = \"pyhants_2\", \n",
      "              title            = \"***---*** PyHANTS Time series reconstruction ***---***\",\n",
      "              version          = \"1\",\n",
      "              storeSupported   = \"true\",\n",
      "              statusSupported  = \"false\",\n",
      "              abstract         = \"This service provide access to the Harmonic Analysis of Time Series for Python. It include features as high/low outlier filtering and the number of freqiencies\")\n",
      "              \n",
      "         #self.input  = self.addLiteralInput(identifier  = \"input_ts\",\n",
      "         #                                   title       = \"Input time series to reconstruct\",\n",
      "         #                                   type        = FloatType)\n",
      "         self.input  = self.addComplexInput(identifier  = \"input_ts\",\n",
      "                                            title       = \"Input time series to reconstruct\",\n",
      "                                            formats     = [{'mimeType':'text/xml'}])\n",
      " \n",
      "\n",
      " \n",
      "         self.result = self.addComplexOutput(identifier = \"output_ts\", \n",
      "                                            title       = \"Output PyHANTS Time series reconstruction\",\n",
      "                                            formats     = [{'mimeType':'text/xml'}]) #xml/application\n",
      "\n",
      "     def execute(self):\n",
      "         # Input\n",
      "         # input = self.input.getValue()\n",
      "         root = ET.fromstring(self.input.getValue())\n",
      "         #y = np.genfromtxt(self.input.getValue(),delimiter=',')\n",
      "         #y = cStringIO.StringIO(self.input.getValue())\n",
      "         #np.loadtxt(y, delimiter=',')\n",
      "         \n",
      " \n",
      "         # Process\n",
      "         # read grid envelope of domain set\n",
      "         xml_low_env = cStringIO.StringIO(root[1][0][0][0][0].text)\n",
      "         xml_high_env = cStringIO.StringIO(root[1][0][0][0][1].text)\n",
      "\n",
      "         # load grid envelope as numpy array\n",
      "         low_env = np.loadtxt(xml_low_env, dtype='int', delimiter=' ')\n",
      "         high_env = np.loadtxt(xml_high_env, dtype='int', delimiter=' ')\n",
      "         ts_shape = high_env - low_env + 1\n",
      "\n",
      "         easting = ts_shape[0]\n",
      "         northing = ts_shape[1]\n",
      "         time = ts_shape[2]\n",
      "\n",
      "         # extract the dates\n",
      "         start_date = ansi_date_to_greg_date(low_env[2])\n",
      "         end_date = ansi_date_to_greg_date(high_env[2])\n",
      "\n",
      "         # read data block of range set\n",
      "         xml_ts = cStringIO.StringIO(root[2][0][1].text)\n",
      "\n",
      "         # load data block as numpy array\n",
      "         ts = np.loadtxt(xml_ts, dtype='float', delimiter=',')\n",
      "         ts_reshape = ts.reshape((easting*northing,time)) #Easting = ts_shape[0], Northing = ts_shape[1], time = ts_shape[2]\n",
      "\n",
      "         # compute HANTS\n",
      "         pyhants = HANTS(time, ts_reshape)\n",
      "\n",
      "         # save as string\n",
      "         output = cStringIO.StringIO()\n",
      "         np.savetxt(output, pyhants, delimiter=',')\n",
      "         \n",
      " \n",
      "         # Output\n",
      "         self.result.setValue(output)\n",
      "         return        "
     ],
     "language": "python",
     "metadata": {},
     "outputs": []
    },
    {
     "cell_type": "code",
     "collapsed": false,
     "input": [],
     "language": "python",
     "metadata": {},
     "outputs": []
    }
   ],
   "metadata": {}
  }
 ]
}