{
 "metadata": {
  "name": ""
 },
 "nbformat": 3,
 "nbformat_minor": 0,
 "worksheets": [
  {
   "cells": [
    {
     "cell_type": "markdown",
     "metadata": {},
     "source": [
      "Downlad the toy example data <a href=\"https://github.com/mattijn/pynotebook/blob/master/idata/yeah.zip\">here</a>"
     ]
    },
    {
     "cell_type": "markdown",
     "metadata": {},
     "source": [
      "Load some modules"
     ]
    },
    {
     "cell_type": "code",
     "collapsed": false,
     "input": [
      "import numpy as np\n",
      "import pandas as pd\n",
      "from scipy.spatial import cKDTree as KDTree"
     ],
     "language": "python",
     "metadata": {},
     "outputs": [],
     "prompt_number": 1
    },
    {
     "cell_type": "markdown",
     "metadata": {},
     "source": [
      "Load elevation data, load coordinates (in meters), load some information of station data nearby. Create a KDTree with the coordinates of the station and create an empty output array for the results"
     ]
    },
    {
     "cell_type": "code",
     "collapsed": false,
     "input": [
      "# Load data\n",
      "dem = np.load(r'D:\\GitHub\\pynotebook\\idata//dem.npy')\n",
      "xy = np.load(r'D:\\GitHub\\pynotebook\\idata//xy.npy')\n",
      "df = pd.read_csv(r'D:\\GitHub\\pynotebook\\idata//stationdata.csv')\n",
      "\n",
      "# Create KDTree\n",
      "tree = KDTree(df.ix[:,3:5], leafsize=11)\n",
      "outarr = np.empty(dem.shape)\n",
      "\n",
      "print ('xy values\\n',xy)\n",
      "print ('z values\\n',dem)\n",
      "df.head()"
     ],
     "language": "python",
     "metadata": {},
     "outputs": [
      {
       "output_type": "stream",
       "stream": "stdout",
       "text": [
        "xy values\n",
        " [[ 5050000.  2550000.]\n",
        " [ 5150000.  2600000.]\n",
        " [ 5250000.  2650000.]\n",
        " [ 5350000.  2700000.]\n",
        " [ 5450000.  2750000.]\n",
        " [ 5550000.  2800000.]\n",
        " [ 5650000.  2850000.]\n",
        " [ 5750000.  2900000.]\n",
        " [ 5850000.  2950000.]\n",
        " [ 5950000.  3000000.]]\n",
        "z values\n",
        " [-455. -490. -466. -532. -436. -275. -937. -290. -396. -459.]\n"
       ]
      },
      {
       "html": [
        "<div style=\"max-height:1000px;max-width:1500px;overflow:auto;\">\n",
        "<table border=\"1\" class=\"dataframe\">\n",
        "  <thead>\n",
        "    <tr style=\"text-align: right;\">\n",
        "      <th></th>\n",
        "      <th>Station</th>\n",
        "      <th>TEMP</th>\n",
        "      <th>Elev</th>\n",
        "      <th>POINT_X</th>\n",
        "      <th>POINT_Y</th>\n",
        "    </tr>\n",
        "  </thead>\n",
        "  <tbody>\n",
        "    <tr>\n",
        "      <th>0</th>\n",
        "      <td> 50136</td>\n",
        "      <td>-1045.000000</td>\n",
        "      <td> 433.0</td>\n",
        "      <td> 5473928.503</td>\n",
        "      <td> 3209653.795</td>\n",
        "    </tr>\n",
        "    <tr>\n",
        "      <th>1</th>\n",
        "      <td> 50246</td>\n",
        "      <td> -940.416667</td>\n",
        "      <td> 361.9</td>\n",
        "      <td> 5621191.187</td>\n",
        "      <td> 3199563.174</td>\n",
        "    </tr>\n",
        "    <tr>\n",
        "      <th>2</th>\n",
        "      <td> 50349</td>\n",
        "      <td>-1003.750000</td>\n",
        "      <td> 494.6</td>\n",
        "      <td> 5626513.511</td>\n",
        "      <td> 3108424.145</td>\n",
        "    </tr>\n",
        "    <tr>\n",
        "      <th>3</th>\n",
        "      <td> 50353</td>\n",
        "      <td> -863.333333</td>\n",
        "      <td> 177.4</td>\n",
        "      <td> 5770514.642</td>\n",
        "      <td> 3144551.515</td>\n",
        "    </tr>\n",
        "    <tr>\n",
        "      <th>4</th>\n",
        "      <td> 50425</td>\n",
        "      <td> -441.250000</td>\n",
        "      <td> 581.4</td>\n",
        "      <td> 5382630.523</td>\n",
        "      <td> 2908127.877</td>\n",
        "    </tr>\n",
        "  </tbody>\n",
        "</table>\n",
        "</div>"
       ],
       "metadata": {},
       "output_type": "pyout",
       "prompt_number": 2,
       "text": [
        "   Station         TEMP   Elev      POINT_X      POINT_Y\n",
        "0    50136 -1045.000000  433.0  5473928.503  3209653.795\n",
        "1    50246  -940.416667  361.9  5621191.187  3199563.174\n",
        "2    50349 -1003.750000  494.6  5626513.511  3108424.145\n",
        "3    50353  -863.333333  177.4  5770514.642  3144551.515\n",
        "4    50425  -441.250000  581.4  5382630.523  2908127.877"
       ]
      }
     ],
     "prompt_number": 2
    },
    {
     "cell_type": "markdown",
     "metadata": {},
     "source": [
      "Function selects 8 nearest neighbours for each coordinate. Fits a multiple linear regression using the x, y and z as predictior variables and the desired variable as the dependent variable. Then apply a inverse-distance-squared weights to calculate the desired variable where the coefficients adjust each predictor variable. The model can be expressed as follows:"
     ]
    },
    {
     "cell_type": "markdown",
     "metadata": {},
     "source": [
      "\\begin{equation*}DV_p =  \\sum_{i=1}^n (1/d_i)^2)^{-1} * \\sum_{i=1}^n((DV_i + b_1(Long_p - Long_i)+b_2(Lat_p-Lat_i)+b_3(h_p-h_i)) *(1/d_i)^2)\\end{equation*}"
     ]
    },
    {
     "cell_type": "code",
     "collapsed": false,
     "input": [
      "def func(xy_coord):\n",
      "    # Apply a KDTree search to select 8 nearest stations\n",
      "    dist_tree_real, ix_tree_real = tree.query(xy_coord, k=8, eps=0, p=1)\n",
      "    df_sel = df.ix[ix_tree_real]\n",
      "    \n",
      "    # Solve multi-linear regression\n",
      "    M = np.vstack((np.ones(len(df_sel['POINT_X'])),df_sel['POINT_X'], df_sel['POINT_Y'],df_sel['Elev'])).T\n",
      "    b1,b2,b3 = np.linalg.lstsq(M,df_sel['TEMP'])[0][1:4]\n",
      "    \n",
      "    # Compute formula\n",
      "    return sum( (1/dist_tree_real)**2)**-1 * sum((df_sel['TEMP'] + (b1*(xy_coord[0] - df_sel['POINT_X'])) + \n",
      "                                                  (b2*(xy_coord[1]-df_sel['POINT_Y'])) + (b3*(dem[index]-df_sel['Elev']))) * \n",
      "                                                 (1/dist_tree_real)**2)"
     ],
     "language": "python",
     "metadata": {},
     "outputs": [],
     "prompt_number": 3
    },
    {
     "cell_type": "markdown",
     "metadata": {},
     "source": [
      "By using enumeration compute the interpolated value for each of the values based on the coordinates array"
     ]
    },
    {
     "cell_type": "code",
     "collapsed": false,
     "input": [
      "for index, coord in enumerate(xy):    \n",
      "    outarr[index] = func(coord)"
     ],
     "language": "python",
     "metadata": {},
     "outputs": [],
     "prompt_number": 4
    },
    {
     "cell_type": "markdown",
     "metadata": {},
     "source": [
      "Output example"
     ]
    },
    {
     "cell_type": "code",
     "collapsed": false,
     "input": [
      "outarr"
     ],
     "language": "python",
     "metadata": {},
     "outputs": [
      {
       "metadata": {},
       "output_type": "pyout",
       "prompt_number": 5,
       "text": [
        "array([ -499.24287422,  -540.28111668,  -512.43789349,  -589.75389439,\n",
        "        -411.65598912,  -233.1779803 , -1249.63803291,  -232.4924416 ,\n",
        "        -273.3978919 ,  -289.35240473])"
       ]
      }
     ],
     "prompt_number": 5
    }
   ],
   "metadata": {}
  }
 ]
}