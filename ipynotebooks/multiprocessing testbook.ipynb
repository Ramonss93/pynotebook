{
 "metadata": {
  "name": ""
 },
 "nbformat": 3,
 "nbformat_minor": 0,
 "worksheets": [
  {
   "cells": [
    {
     "cell_type": "code",
     "collapsed": false,
     "input": [
      "from IPython.parallel import Client\n",
      "import numpy as np\n",
      "import itertools"
     ],
     "language": "python",
     "metadata": {},
     "outputs": [],
     "prompt_number": 1
    },
    {
     "cell_type": "code",
     "collapsed": false,
     "input": [
      "c = Client()\n",
      "lview = c.load_balanced_view()"
     ],
     "language": "python",
     "metadata": {},
     "outputs": [],
     "prompt_number": 2
    },
    {
     "cell_type": "code",
     "collapsed": false,
     "input": [
      "zeniths = range(0,500)\n",
      "azimuths = range(0,800)\n",
      "\n",
      "allzeniths, allazimuths = zip(*itertools.product(zeniths, azimuths))\n",
      "#print (allzeniths, allazimuths)"
     ],
     "language": "python",
     "metadata": {},
     "outputs": [],
     "prompt_number": 20
    },
    {
     "cell_type": "code",
     "collapsed": false,
     "input": [
      "def f(z,a):\n",
      "    return z*a"
     ],
     "language": "python",
     "metadata": {},
     "outputs": [],
     "prompt_number": 24
    },
    {
     "cell_type": "code",
     "collapsed": false,
     "input": [
      "pll = lview.map(f, allzeniths,allazimuths)\n",
      "pll.result"
     ],
     "language": "python",
     "metadata": {},
     "outputs": []
    },
    {
     "cell_type": "code",
     "collapsed": false,
     "input": [
      "%timeit lview.map(f, allzeniths,allazimuths)"
     ],
     "language": "python",
     "metadata": {},
     "outputs": [],
     "prompt_number": "*"
    },
    {
     "cell_type": "code",
     "collapsed": false,
     "input": [
      "tp = np.zeros([len(zeniths),len(azimuths)])\n",
      "azi = tp.shape[1]\n",
      "zen = tp.shape[0]"
     ],
     "language": "python",
     "metadata": {},
     "outputs": [],
     "prompt_number": 21
    },
    {
     "cell_type": "code",
     "collapsed": false,
     "input": [
      "def sing(azi,zen):\n",
      "    for x in range(azi):\n",
      "        for y in range(zen):            \n",
      "            #print (x,y)\n",
      "            tp[y,x] = f(y,x)"
     ],
     "language": "python",
     "metadata": {},
     "outputs": [],
     "prompt_number": 22
    },
    {
     "cell_type": "code",
     "collapsed": false,
     "input": [
      "%timeit sing(azi,zen)"
     ],
     "language": "python",
     "metadata": {},
     "outputs": [
      {
       "output_type": "stream",
       "stream": "stdout",
       "text": [
        "10 loops, best of 3: 170 ms per loop\n"
       ]
      }
     ],
     "prompt_number": 23
    },
    {
     "cell_type": "code",
     "collapsed": false,
     "input": [
      "tp"
     ],
     "language": "python",
     "metadata": {},
     "outputs": [
      {
       "metadata": {},
       "output_type": "pyout",
       "prompt_number": 17,
       "text": [
        "array([[  0.,   0.,   0.,   0.,   0.,   0.,   0.,   0.],\n",
        "       [  0.,   1.,   2.,   3.,   4.,   5.,   6.,   7.],\n",
        "       [  0.,   2.,   4.,   6.,   8.,  10.,  12.,  14.],\n",
        "       [  0.,   3.,   6.,   9.,  12.,  15.,  18.,  21.],\n",
        "       [  0.,   4.,   8.,  12.,  16.,  20.,  24.,  28.]])"
       ]
      }
     ],
     "prompt_number": 17
    },
    {
     "cell_type": "code",
     "collapsed": false,
     "input": [
      "# The standard imports\n",
      "import numpy as np\n",
      "import pandas as pd\n",
      "\n",
      "# For the statistic\n",
      "from statsmodels.formula.api import ols\n",
      "\n",
      "def generatedata():\n",
      "    ''' Generate and show the data '''\n",
      "    x = np.linspace(-5,5,101)\n",
      "    (X,Y) = np.meshgrid(x,x)\n",
      "\n",
      "    # To get reproducable values, I provide a seed value\n",
      "    np.random.seed(987654321)   \n",
      "\n",
      "    Z = -5 + 3*X-0.5*Y+np.random.randn(np.shape(X)[0], np.shape(X)[1])\n",
      "\n",
      "    return (X.flatten(),Y.flatten(),Z.flatten())\n",
      "\n",
      "def regressionmodel(X,Y,Z):\n",
      "    '''Multilinear regression model, calculating fit, P-values, confidence intervals etc.'''\n",
      "\n",
      "    # Convert the data into a Pandas DataFrame\n",
      "    df = pd.DataFrame({'x':X, 'y':Y, 'z':Z})\n",
      "\n",
      "    # Fit the model\n",
      "    model = ols(\"z ~ x + y\", df).fit()\n",
      "\n",
      "    # Print the summary\n",
      "    print(model.summary())\n",
      "\n",
      "    return model._results.params  # should be array([-4.99754526,  3.00250049, -0.50514907])\n",
      "\n",
      "def linearmodel(X,Y,Z):\n",
      "    '''Just fit the plane'''\n",
      "\n",
      "    M = np.vstack((np.ones(len(X)), X, Y)).T\n",
      "    bestfit = np.linalg.lstsq(M,Z)[0]\n",
      "    print('Best fit plane:', bestfit)\n",
      "\n",
      "    return bestfit\n",
      "\n",
      "if __name__ == '__main__':\n",
      "    (X,Y,Z) = generatedata()    \n",
      "    regressionmodel(X,Y,Z)    \n",
      "    linearmodel(X,Y,Z)"
     ],
     "language": "python",
     "metadata": {},
     "outputs": [
      {
       "output_type": "stream",
       "stream": "stdout",
       "text": [
        "                            OLS Regression Results                            \n",
        "==============================================================================\n",
        "Dep. Variable:                      z   R-squared:                       0.987\n",
        "Model:                            OLS   Adj. R-squared:                  0.987\n",
        "Method:                 Least Squares   F-statistic:                 3.997e+05\n",
        "Date:                Tue, 03 Dec 2013   Prob (F-statistic):               0.00\n",
        "Time:                        16:36:37   Log-Likelihood:                -14501.\n",
        "No. Observations:               10201   AIC:                         2.901e+04\n",
        "Df Residuals:                   10198   BIC:                         2.903e+04\n",
        "Df Model:                           2                                         \n",
        "==============================================================================\n",
        "                 coef    std err          t      P>|t|      [95.0% Conf. Int.]\n",
        "------------------------------------------------------------------------------\n",
        "Intercept     -4.9975      0.010   -503.369      0.000        -5.017    -4.978\n",
        "x              3.0025      0.003    881.703      0.000         2.996     3.009\n",
        "y             -0.5051      0.003   -148.340      0.000        -0.512    -0.498\n",
        "==============================================================================\n",
        "Omnibus:                        3.692   Durbin-Watson:                   1.970\n",
        "Prob(Omnibus):                  0.158   Jarque-Bera (JB):                3.511\n",
        "Skew:                           0.012   Prob(JB):                        0.173\n",
        "Kurtosis:                       2.912   Cond. No.                         2.92\n",
        "==============================================================================\n",
        "Best fit plane: [-4.99754526  3.00250049 -0.50514907]\n"
       ]
      }
     ],
     "prompt_number": 1
    },
    {
     "cell_type": "code",
     "collapsed": false,
     "input": [
      "M"
     ],
     "language": "python",
     "metadata": {},
     "outputs": [
      {
       "ename": "NameError",
       "evalue": "name 'M' is not defined",
       "output_type": "pyerr",
       "traceback": [
        "\u001b[1;31m---------------------------------------------------------------------------\u001b[0m\n\u001b[1;31mNameError\u001b[0m                                 Traceback (most recent call last)",
        "\u001b[1;32m<ipython-input-2-370751da74d8>\u001b[0m in \u001b[0;36m<module>\u001b[1;34m()\u001b[0m\n\u001b[1;32m----> 1\u001b[1;33m \u001b[0mM\u001b[0m\u001b[1;33m\u001b[0m\u001b[0m\n\u001b[0m",
        "\u001b[1;31mNameError\u001b[0m: name 'M' is not defined"
       ]
      }
     ],
     "prompt_number": 2
    },
    {
     "cell_type": "code",
     "collapsed": false,
     "input": [
      "M = np.vstack((np.ones(len(X)), X, Y)).T\n",
      "bestfit = np.linalg.lstsq(M,Z)[0]\n",
      "print('Best fit plane:', bestfit)"
     ],
     "language": "python",
     "metadata": {},
     "outputs": [
      {
       "output_type": "stream",
       "stream": "stdout",
       "text": [
        "Best fit plane: [-4.99754526  3.00250049 -0.50514907]\n"
       ]
      }
     ],
     "prompt_number": 3
    },
    {
     "cell_type": "code",
     "collapsed": false,
     "input": [
      "Z"
     ],
     "language": "python",
     "metadata": {},
     "outputs": [
      {
       "metadata": {},
       "output_type": "pyout",
       "prompt_number": 7,
       "text": [
        "array([-15.25344919, -17.84591822, -18.08357699, ...,   6.33209192,\n",
        "         7.73093668,   6.93390058])"
       ]
      }
     ],
     "prompt_number": 7
    },
    {
     "cell_type": "code",
     "collapsed": false,
     "input": [
      "Y"
     ],
     "language": "python",
     "metadata": {},
     "outputs": [
      {
       "metadata": {},
       "output_type": "pyout",
       "prompt_number": 6,
       "text": [
        "array([-5., -5., -5., ...,  5.,  5.,  5.])"
       ]
      }
     ],
     "prompt_number": 6
    },
    {
     "cell_type": "code",
     "collapsed": false,
     "input": [],
     "language": "python",
     "metadata": {},
     "outputs": []
    }
   ],
   "metadata": {}
  }
 ]
}