{
 "metadata": {
  "name": "",
  "signature": "sha256:75c8a226d2b54c39a0ea9de8bd1476d957946a9f4c9192bb5178d1f30d459f91"
 },
 "nbformat": 3,
 "nbformat_minor": 0,
 "worksheets": [
  {
   "cells": [
    {
     "cell_type": "code",
     "collapsed": false,
     "input": [
      "#!/usr/local/env python\n",
      "import numpy as np\n",
      "\n",
      "# Computing diagonal for each row of a 2d array. See: http://stackoverflow.com/q/27214027/2459096\n",
      "def makediag3d(M):\n",
      "    b = np.zeros((M.shape[0], M.shape[1] * M.shape[1]))\n",
      "    b[:, ::M.shape[1] + 1] = M\n",
      "    return b.reshape(M.shape[0], M.shape[1], M.shape[1])\n",
      "\n",
      "\n",
      "def get_starter_matrix(base_period_len, sample_count, frequencies_considered_count):\n",
      "    nr = min(2 * frequencies_considered_count + 1,\n",
      "                  sample_count)  # number of 2*+1 frequencies, or number of input images\n",
      "    mat = np.zeros(shape=(nr, sample_count))\n",
      "    mat[0, :] = 1\n",
      "    ang = 2 * np.pi * np.arange(base_period_len) / base_period_len\n",
      "    cs = np.cos(ang)\n",
      "    sn = np.sin(ang)\n",
      "    # create some standard sinus and cosinus functions and put in matrix\n",
      "    i = np.arange(1, frequencies_considered_count + 1)\n",
      "    ts = np.arange(sample_count)\n",
      "    for column in range(sample_count):\n",
      "        index = np.mod(i * ts[column], base_period_len)\n",
      "        # index looks like 000, 123, 246, etc, until it wraps around (for len(i)==3)\n",
      "        mat[2 * i - 1, column] = cs.take(index)\n",
      "        mat[2 * i, column] = sn.take(index)\n",
      "\n",
      "    return mat\n",
      "\n",
      "\n",
      "# import profilehooks\n",
      "# @profilehooks.profile(sort='time')\n",
      "def HANTS(sample_count, inputs,\n",
      "          frequencies_considered_count=3,\n",
      "          outliers_to_reject='Hi',\n",
      "          low=0., high=255,\n",
      "          fit_error_tolerance=5,\n",
      "          delta=0.1):\n",
      "    \"\"\"\n",
      "    Function to apply the Harmonic analysis of time series applied to arrays\n",
      "\n",
      "    sample_count    = nr. of images (total number of actual samples of the time series)\n",
      "    base_period_len    = length of the base period, measured in virtual samples\n",
      "            (days, dekads, months, etc.)\n",
      "    frequencies_considered_count    = number of frequencies to be considered above the zero frequency\n",
      "    inputs     = array of input sample values (e.g. NDVI values)\n",
      "    ts    = array of size sample_count of time sample indicators\n",
      "            (indicates virtual sample number relative to the base period);\n",
      "            numbers in array ts maybe greater than base_period_len\n",
      "            If no aux file is used (no time samples), we assume ts(i)= i,\n",
      "            where i=1, ..., sample_count\n",
      "    outliers_to_reject  = 2-character string indicating rejection of high or low outliers\n",
      "            select from 'Hi', 'Lo' or 'None'\n",
      "    low   = valid range minimum\n",
      "    high  = valid range maximum (values outside the valid range are rejeced\n",
      "            right away)\n",
      "    fit_error_tolerance   = fit error tolerance (points deviating more than fit_error_tolerance from curve\n",
      "            fit are rejected)\n",
      "    dod   = degree of overdeterminedness (iteration stops if number of\n",
      "            points reaches the minimum required for curve fitting, plus\n",
      "            dod). This is a safety measure\n",
      "    delta = small positive number (e.g. 0.1) to suppress high amplitudes\n",
      "    \"\"\"\n",
      "\n",
      "    # define some parameters\n",
      "    base_period_len = sample_count  #\n",
      "\n",
      "    # check which setting to set for outlier filtering\n",
      "    if outliers_to_reject == 'Hi':\n",
      "        sHiLo = -1\n",
      "    elif outliers_to_reject == 'Lo':\n",
      "        sHiLo = 1\n",
      "    else:\n",
      "        sHiLo = 0\n",
      "\n",
      "    nr = min(2 * frequencies_considered_count + 1,\n",
      "             sample_count)  # number of 2*+1 frequencies, or number of input images\n",
      "\n",
      "    # create empty arrays to fill\n",
      "    outputs = np.zeros(shape=(inputs.shape[0], sample_count))\n",
      "\n",
      "    mat = get_starter_matrix(base_period_len, sample_count, frequencies_considered_count)\n",
      "\n",
      "    # repeat the mat array over the number of arrays in inputs\n",
      "    # and create arrays with ones with shape inputs where high and low values are set to 0\n",
      "    mat = np.tile(mat[None].T, (1, inputs.shape[0])).T\n",
      "    p = np.ones_like(inputs)\n",
      "    p[(low >= inputs) | (inputs > high)] = 0\n",
      "    nout = np.sum(p == 0, axis=-1)  # count the outliers for each timeseries\n",
      "\n",
      "    # prepare for while loop\n",
      "    ready = np.zeros((inputs.shape[0]), dtype=bool)  # all timeseries set to false\n",
      "\n",
      "    dod = 1  # (2*frequencies_considered_count-1)  # Um, no it isn't :/\n",
      "    noutmax = sample_count - nr - dod\n",
      "    for _ in range(sample_count):\n",
      "        if ready.all():\n",
      "            break\n",
      "        # print '--------*-*-*-*',it.value, '*-*-*-*--------'\n",
      "        # multiply outliers with timeseries\n",
      "        za = np.einsum('ijk,ik->ij', mat, p * inputs)\n",
      "\n",
      "        # multiply mat with the multiplication of multiply diagonal of p with transpose of mat\n",
      "        diag = makediag3d(p)\n",
      "        A = np.einsum('ajk,aki->aji', mat, np.einsum('aij,jka->ajk', diag, mat.T))\n",
      "        # add delta to suppress high amplitudes but not for [0,0]\n",
      "        A = A + np.tile(np.diag(np.ones(nr))[None].T, (1, inputs.shape[0])).T * delta\n",
      "        A[:, 0, 0] = A[:, 0, 0] - delta\n",
      "\n",
      "        # solve linear matrix equation and define reconstructed timeseries\n",
      "        zr = np.linalg.solve(A, za)\n",
      "        outputs = np.einsum('ijk,kj->ki', mat.T, zr)\n",
      "\n",
      "        # calculate error and sort err by index\n",
      "        err = p * (sHiLo * (outputs - inputs))\n",
      "        rankVec = np.argsort(err, axis=1, )\n",
      "\n",
      "        # select maximum error and compute new ready status\n",
      "        maxerr = np.diag(err.take(rankVec[:, sample_count - 1], axis=-1))\n",
      "        ready = (maxerr <= fit_error_tolerance) | (nout == noutmax)\n",
      "\n",
      "        # if ready is still false\n",
      "        if not ready.all():\n",
      "            j = rankVec.take(sample_count - 1, axis=-1)\n",
      "\n",
      "            p.T[j.T, np.indices(j.shape)] = p.T[j.T, np.indices(j.shape)] * ready.astype(\n",
      "                int)  #*check\n",
      "            nout += 1\n",
      "\n",
      "    return outputs\n",
      "\n",
      "\n",
      "# Compute semi-random time series array with numb standing for number of timeseries\n",
      "def array_in(numb):\n",
      "    y = np.array([5.0, 2.0, 10.0, 12.0, 18.0, 23.0, 27.0, 40.0, 60.0, 70.0, 90.0, 160.0, 190.0,\n",
      "                  210.0, 104.0, 90.0, 170.0, 50.0, 120.0, 60.0, 40.0, 30.0, 28.0, 24.0, 15.0,\n",
      "                  10.0])\n",
      "    y = np.tile(y[None].T, (1, numb)).T\n",
      "    kl = (np.random.randint(2, size=(numb, 26)) *\n",
      "          np.random.randint(2, size=(numb, 26)) + 1)\n",
      "    kl[kl == 2] = 0\n",
      "    y = y * kl\n",
      "    return y"
     ],
     "language": "python",
     "metadata": {},
     "outputs": [],
     "prompt_number": 5
    },
    {
     "cell_type": "code",
     "collapsed": false,
     "input": [
      "y = array_in(10000)\n",
      "HANTS(sample_count=26, inputs=y, frequencies_considered_count=3, outliers_to_reject='Lo')"
     ],
     "language": "python",
     "metadata": {},
     "outputs": [
      {
       "metadata": {},
       "output_type": "pyout",
       "prompt_number": 6,
       "text": [
        "array([[  6.57312948,   5.17916977,   7.284149  , ...,  21.83217116,\n",
        "         16.5935216 ,  10.94525097],\n",
        "       [  6.07441895,   7.53913488,  11.21403898, ...,  26.84542293,\n",
        "         15.71675828,   8.58748569],\n",
        "       [ 10.14923038,  11.72149796,  14.16954892, ...,  22.0329189 ,\n",
        "         14.65665441,  10.81212448],\n",
        "       ..., \n",
        "       [  3.87505047,   4.59584172,   8.90081563, ...,  32.58584959,\n",
        "         18.64367156,   8.54014358],\n",
        "       [  3.99401378,   5.05016823,   9.64835543, ...,  32.53702609,\n",
        "         18.46564098,   8.41870548],\n",
        "       [  4.64570345,   5.94977349,   9.64747312, ...,  27.18833318,\n",
        "         15.23096739,   7.51271368]])"
       ]
      }
     ],
     "prompt_number": 6
    },
    {
     "cell_type": "code",
     "collapsed": false,
     "input": [
      "%time"
     ],
     "language": "python",
     "metadata": {},
     "outputs": [
      {
       "output_type": "stream",
       "stream": "stdout",
       "text": [
        "Wall time: 0 ns\n"
       ]
      }
     ],
     "prompt_number": 10
    },
    {
     "cell_type": "code",
     "collapsed": false,
     "input": [
      "%timeit"
     ],
     "language": "python",
     "metadata": {},
     "outputs": [],
     "prompt_number": 11
    },
    {
     "cell_type": "code",
     "collapsed": false,
     "input": [
      "%mprun"
     ],
     "language": "python",
     "metadata": {},
     "outputs": [
      {
       "output_type": "stream",
       "stream": "stderr",
       "text": [
        "ERROR: Line magic function `%mprun` not found.\n"
       ]
      }
     ],
     "prompt_number": 15
    },
    {
     "cell_type": "code",
     "collapsed": false,
     "input": [],
     "language": "python",
     "metadata": {},
     "outputs": []
    }
   ],
   "metadata": {}
  }
 ]
}