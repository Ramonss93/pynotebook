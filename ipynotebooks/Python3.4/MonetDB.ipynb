{
 "metadata": {
  "name": "",
  "signature": "sha256:c15fafb6c766df7512feaaf8d0c51dee30ae83709398ef9d092039e05a63eb82"
 },
 "nbformat": 3,
 "nbformat_minor": 0,
 "worksheets": [
  {
   "cells": [
    {
     "cell_type": "code",
     "collapsed": false,
     "input": [
      "from monetdb import mapi"
     ],
     "language": "python",
     "metadata": {},
     "outputs": [],
     "prompt_number": 5
    },
    {
     "cell_type": "code",
     "collapsed": false,
     "input": [
      "import re"
     ],
     "language": "python",
     "metadata": {},
     "outputs": [],
     "prompt_number": 6
    },
    {
     "cell_type": "code",
     "collapsed": false,
     "input": [
      "server = mapi.Server()"
     ],
     "language": "python",
     "metadata": {},
     "outputs": [],
     "prompt_number": 7
    },
    {
     "cell_type": "code",
     "collapsed": false,
     "input": [
      "server.connect(hostname=\"localhost\", port=50000, username=\"monetdb\", password=\"monetdb\", database=\"demo\", language=\"sql\")"
     ],
     "language": "python",
     "metadata": {},
     "outputs": [
      {
       "ename": "TypeError",
       "evalue": "connect() got an unexpected keyword argument 'autocommit'",
       "output_type": "pyerr",
       "traceback": [
        "\u001b[1;31m---------------------------------------------------------------------------\u001b[0m\n\u001b[1;31mTypeError\u001b[0m                                 Traceback (most recent call last)",
        "\u001b[1;32m<ipython-input-12-47e70d61c8b9>\u001b[0m in \u001b[0;36m<module>\u001b[1;34m()\u001b[0m\n\u001b[1;32m----> 1\u001b[1;33m \u001b[0mserver\u001b[0m\u001b[1;33m.\u001b[0m\u001b[0mconnect\u001b[0m\u001b[1;33m(\u001b[0m\u001b[0mhostname\u001b[0m\u001b[1;33m=\u001b[0m\u001b[1;34m\"localhost\"\u001b[0m\u001b[1;33m,\u001b[0m \u001b[0mport\u001b[0m\u001b[1;33m=\u001b[0m\u001b[1;36m50000\u001b[0m\u001b[1;33m,\u001b[0m \u001b[0musername\u001b[0m\u001b[1;33m=\u001b[0m\u001b[1;34m\"monetdb\"\u001b[0m\u001b[1;33m,\u001b[0m \u001b[0mpassword\u001b[0m\u001b[1;33m=\u001b[0m\u001b[1;34m\"monetdb\"\u001b[0m\u001b[1;33m,\u001b[0m \u001b[0mdatabase\u001b[0m\u001b[1;33m=\u001b[0m\u001b[1;34m\"demo\"\u001b[0m\u001b[1;33m,\u001b[0m \u001b[0mlanguage\u001b[0m\u001b[1;33m=\u001b[0m\u001b[1;34m\"sql\"\u001b[0m\u001b[1;33m,\u001b[0m \u001b[0mautocommit\u001b[0m\u001b[1;33m=\u001b[0m\u001b[1;32mTrue\u001b[0m\u001b[1;33m)\u001b[0m\u001b[1;33m\u001b[0m\u001b[0m\n\u001b[0m",
        "\u001b[1;31mTypeError\u001b[0m: connect() got an unexpected keyword argument 'autocommit'"
       ]
      }
     ],
     "prompt_number": 12
    },
    {
     "cell_type": "code",
     "collapsed": false,
     "input": [
      "import monetdb"
     ],
     "language": "python",
     "metadata": {},
     "outputs": [],
     "prompt_number": 13
    },
    {
     "cell_type": "code",
     "collapsed": false,
     "input": [
      "connection = monetdb.sql.connect(database=\"demo\", hostname=\"localhost\", autocommit=True)"
     ],
     "language": "python",
     "metadata": {},
     "outputs": [],
     "prompt_number": 15
    },
    {
     "cell_type": "code",
     "collapsed": false,
     "input": [
      "cursor = connection.cursor()"
     ],
     "language": "python",
     "metadata": {},
     "outputs": [],
     "prompt_number": 16
    },
    {
     "cell_type": "code",
     "collapsed": false,
     "input": [
      "cursor.arraysize = 100"
     ],
     "language": "python",
     "metadata": {},
     "outputs": [],
     "prompt_number": 19
    },
    {
     "cell_type": "code",
     "collapsed": false,
     "input": [
      "cursor.execute('SELECT * FROM tables')"
     ],
     "language": "python",
     "metadata": {},
     "outputs": [
      {
       "metadata": {},
       "output_type": "pyout",
       "prompt_number": 20,
       "text": [
        "51"
       ]
      }
     ],
     "prompt_number": 20
    },
    {
     "cell_type": "code",
     "collapsed": false,
     "input": [
      "cursor.fetchall()"
     ],
     "language": "python",
     "metadata": {},
     "outputs": [
      {
       "metadata": {},
       "output_type": "pyout",
       "prompt_number": 25,
       "text": [
        "[(2006, 'types', 2000, None, 0, True, 0, False, 0),\n",
        " (2015, 'functions', 2000, None, 0, True, 0, False, 0),\n",
        " (2024, 'args', 2000, None, 0, True, 0, False, 0),\n",
        " (2032, 'sequences', 2000, None, 0, True, 0, False, 0),\n",
        " (2042, 'dependencies', 2000, None, 0, True, 0, False, 0),\n",
        " (2046, 'connections', 2000, None, 0, True, 0, False, 0),\n",
        " (2055, '_tables', 2000, None, 0, True, 0, False, 0),\n",
        " (2064, '_columns', 2000, None, 0, True, 0, False, 0),\n",
        " (2075, 'keys', 2000, None, 0, True, 0, False, 0),\n",
        " (2082, 'idxs', 2000, None, 0, True, 0, False, 0),\n",
        " (2087, 'triggers', 2000, None, 0, True, 0, False, 0),\n",
        " (2098, 'objects', 2000, None, 0, True, 0, False, 0),\n",
        " (2103, '_tables', 2102, None, 0, True, 2, False, 0),\n",
        " (2112, '_columns', 2102, None, 0, True, 2, False, 0),\n",
        " (2123, 'keys', 2102, None, 0, True, 2, False, 0),\n",
        " (2130, 'idxs', 2102, None, 0, True, 2, False, 0),\n",
        " (2135, 'triggers', 2102, None, 0, True, 2, False, 0),\n",
        " (2146, 'objects', 2102, None, 0, True, 2, False, 0),\n",
        " (5077,\n",
        "  'tables',\n",
        "  2000,\n",
        "  'SELECT * FROM (SELECT p.*, 0 AS \"temporary\" FROM \"sys\".\"_tables\" AS p UNION ALL SELECT t.*, 1 AS \"temporary\" FROM \"tmp\".\"_tables\" AS t) AS tables where tables.type <> 2;',\n",
        "  1,\n",
        "  True,\n",
        "  0,\n",
        "  False,\n",
        "  0),\n",
        " (5087,\n",
        "  'columns',\n",
        "  2000,\n",
        "  'SELECT * FROM (SELECT p.* FROM \"sys\".\"_columns\" AS p UNION ALL SELECT t.* FROM \"tmp\".\"_columns\" AS t) AS columns;',\n",
        "  1,\n",
        "  True,\n",
        "  0,\n",
        "  False,\n",
        "  0),\n",
        " (5107, 'db_user_info', 2000, None, 0, True, 0, False, 0),\n",
        " (5115,\n",
        "  'users',\n",
        "  2000,\n",
        "  'SELECT u.\"name\" AS \"name\", ui.\"fullname\", ui.\"default_schema\" FROM db_users() AS u LEFT JOIN \"sys\".\"db_user_info\" AS ui ON u.\"name\" = ui.\"name\" ;',\n",
        "  1,\n",
        "  True,\n",
        "  0,\n",
        "  False,\n",
        "  0),\n",
        " (5119, 'user_role', 2000, None, 0, True, 0, False, 0),\n",
        " (5122, 'auths', 2000, None, 0, True, 0, False, 0),\n",
        " (5126, 'privileges', 2000, None, 0, True, 0, False, 0),\n",
        " (5303,\n",
        "  'querylog_catalog',\n",
        "  2000,\n",
        "  '-- create table views for convenience\\ncreate view sys.querylog_catalog as select * from sys.querylog_catalog();',\n",
        "  1,\n",
        "  True,\n",
        "  0,\n",
        "  False,\n",
        "  0),\n",
        " (5315,\n",
        "  'querylog_calls',\n",
        "  2000,\n",
        "  'create view sys.querylog_calls as select * from sys.querylog_calls();',\n",
        "  1,\n",
        "  True,\n",
        "  0,\n",
        "  False,\n",
        "  0),\n",
        " (5333,\n",
        "  'querylog_history',\n",
        "  2000,\n",
        "  'create view sys.querylog_history as\\nselect qd.*, ql.\"start\",ql.\"stop\", ql.arguments, ql.tuples, ql.run, ql.ship, ql.cpu, ql.space, ql.io \\nfrom sys.querylog_catalog() qd, sys.querylog_calls() ql\\nwhere qd.id = ql.id and qd.owner = user;',\n",
        "  1,\n",
        "  True,\n",
        "  0,\n",
        "  False,\n",
        "  0),\n",
        " (5372,\n",
        "  'tracelog',\n",
        "  2000,\n",
        "  'create view sys.tracelog as select * from sys.tracelog();',\n",
        "  1,\n",
        "  True,\n",
        "  0,\n",
        "  False,\n",
        "  0),\n",
        " (5559,\n",
        "  'sessions',\n",
        "  2000,\n",
        "  'create view sys.sessions as select * from sys.sessions();',\n",
        "  1,\n",
        "  True,\n",
        "  0,\n",
        "  False,\n",
        "  0),\n",
        " (5645,\n",
        "  'optimizers',\n",
        "  2000,\n",
        "  'create view sys.optimizers as select * from sys.optimizers();',\n",
        "  1,\n",
        "  True,\n",
        "  0,\n",
        "  False,\n",
        "  0),\n",
        " (5655,\n",
        "  'environment',\n",
        "  2000,\n",
        "  'create view sys.environment as select * from sys.environment();',\n",
        "  1,\n",
        "  True,\n",
        "  0,\n",
        "  False,\n",
        "  0),\n",
        " (5697,\n",
        "  'queue',\n",
        "  2000,\n",
        "  'create view sys.queue as select * from sys.queue();',\n",
        "  1,\n",
        "  True,\n",
        "  0,\n",
        "  False,\n",
        "  0),\n",
        " (6237,\n",
        "  'storage',\n",
        "  2000,\n",
        "  'create view sys.storage as select * from sys.storage();',\n",
        "  1,\n",
        "  True,\n",
        "  0,\n",
        "  False,\n",
        "  0),\n",
        " (6249, 'storagemodelinput', 2000, None, 0, True, 0, False, 0),\n",
        " (6292,\n",
        "  'storagemodel',\n",
        "  2000,\n",
        "  'create view sys.storagemodel as select * from sys.storagemodel();',\n",
        "  1,\n",
        "  True,\n",
        "  0,\n",
        "  False,\n",
        "  0),\n",
        " (6301,\n",
        "  'tablestoragemodel',\n",
        "  2000,\n",
        "  '-- A summary of the table storage requirement is is available as a table view.\\n-- The auxillary column denotes the maximum space if all non-sorted columns\\n-- would be augmented with a hash (rare situation)\\ncreate view sys.tablestoragemodel\\nas select \"schema\",\"table\",max(count) as \"count\",\\n\\tsum(columnsize) as columnsize,\\n\\tsum(heapsize) as heapsize,\\n\\tsum(indices) as indices,\\n\\tsum(case when sorted = false then 8 * count else 0 end) as auxillary\\nfrom sys.storagemodel() group by \"schema\",\"table\";',\n",
        "  1,\n",
        "  True,\n",
        "  0,\n",
        "  False,\n",
        "  0),\n",
        " (6316, 'statistics', 2000, None, 0, True, 0, False, 0),\n",
        " (6370, 'systemfunctions', 2000, None, 0, True, 0, False, 0),\n",
        " (6394, 'voyages', 2000, None, 0, False, 0, False, 0),\n",
        " (6406, 'craftsmen', 2000, None, 0, False, 0, False, 0),\n",
        " (6418, 'impotenten', 2000, None, 0, False, 0, False, 0),\n",
        " (6426, 'invoices', 2000, None, 0, False, 0, False, 0),\n",
        " (6438, 'passengers', 2000, None, 0, False, 0, False, 0),\n",
        " (6450, 'seafarers', 2000, None, 0, False, 0, False, 0),\n",
        " (6462, 'soldiers', 2000, None, 0, False, 0, False, 0),\n",
        " (6474, 'total', 2000, None, 0, False, 0, False, 0),\n",
        " (6531,\n",
        "  'onboard_people',\n",
        "  2000,\n",
        "  \"create view onboard_people as\\nselect * from (\\nselect 'craftsmen' as type, craftsmen.* from craftsmen\\nunion all\\nselect 'impotenten' as type, impotenten.* from impotenten\\nunion all\\nselect 'passengers' as type, passengers.* from passengers\\nunion all\\nselect 'seafarers' as type, seafarers.* from seafarers\\nunion all\\nselect 'soldiers' as type, soldiers.* from soldiers\\nunion all\\nselect 'total' as type, total.* from total\\n) as onboard_people_table;\",\n",
        "  1,\n",
        "  False,\n",
        "  0,\n",
        "  False,\n",
        "  0),\n",
        " (6544,\n",
        "  'extended_onboard',\n",
        "  2000,\n",
        "  'create view extended_onboard as\\nselect number, number_sup, trip, trip_sup,\\n    onboard_at_departure, death_at_cape,\\n    left_at_cape, onboard_at_cape,\\n    death_during_voyage, onboard_at_arrival,\\n    death_during_voyage - left_at_cape as death_at_arrival\\nfrom onboard_people;',\n",
        "  1,\n",
        "  False,\n",
        "  0,\n",
        "  False,\n",
        "  0),\n",
        " (6548, 'test', 2000, None, 0, False, 0, False, 0)]"
       ]
      }
     ],
     "prompt_number": 25
    },
    {
     "cell_type": "code",
     "collapsed": false,
     "input": [
      "cursor.description"
     ],
     "language": "python",
     "metadata": {},
     "outputs": [
      {
       "metadata": {},
       "output_type": "pyout",
       "prompt_number": 24,
       "text": [
        "[('id', 'int', None, 32, None, None, None),\n",
        " ('name', 'varchar', None, 1024, None, None, None),\n",
        " ('schema_id', 'int', None, 32, None, None, None),\n",
        " ('query', 'varchar', None, 2048, None, None, None),\n",
        " ('type', 'smallint', None, 16, None, None, None),\n",
        " ('system', 'boolean', None, 1, None, None, None),\n",
        " ('commit_action', 'smallint', None, 16, None, None, None),\n",
        " ('readonly', 'boolean', None, 1, None, None, None),\n",
        " ('temporary', 'tinyint', None, 8, None, None, None)]"
       ]
      }
     ],
     "prompt_number": 24
    },
    {
     "cell_type": "code",
     "collapsed": false,
     "input": [
      "!gdalinfo"
     ],
     "language": "python",
     "metadata": {},
     "outputs": [
      {
       "output_type": "stream",
       "stream": "stdout",
       "text": [
        "Usage: gdalinfo [--help-general] [-mm] [-stats] [-hist] [-nogcp] [-nomd]\n",
        "                [-norat] [-noct] [-nofl] [-checksum] [-proj4] [-mdd domain]*\n",
        "                [-sd subdataset] datasetname\n"
       ]
      }
     ],
     "prompt_number": 26
    },
    {
     "cell_type": "code",
     "collapsed": false,
     "input": [],
     "language": "python",
     "metadata": {},
     "outputs": []
    }
   ],
   "metadata": {}
  }
 ]
}