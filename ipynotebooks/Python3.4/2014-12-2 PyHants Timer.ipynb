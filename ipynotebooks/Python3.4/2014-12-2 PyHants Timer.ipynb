{
 "metadata": {
  "name": "",
  "signature": "sha256:befd43c74b4f79b852e46f7b5a7736f8b3ac39e75755d7867e7315162a8a328c"
 },
 "nbformat": 3,
 "nbformat_minor": 0,
 "worksheets": [
  {
   "cells": [
    {
     "cell_type": "code",
     "collapsed": false,
     "input": [
      "%matplotlib inline\n",
      "import numpy as np\n",
      "from matplotlib import pyplot as plt\n",
      "from timeit import Timer, timeit, repeat\n",
      "class InputError( Exception ): pass"
     ],
     "language": "python",
     "metadata": {},
     "outputs": [],
     "prompt_number": 16
    },
    {
     "cell_type": "code",
     "collapsed": false,
     "input": [
      "# Computing diagonal for each row of a 2d array\n",
      "def makediag3d(M):\n",
      "    b = np.zeros((M.shape[0], M.shape[1]*M.shape[1]))\n",
      "    b[:, ::M.shape[1]+1] = M\n",
      "    return b.reshape(M.shape[0], M.shape[1], M.shape[1])"
     ],
     "language": "python",
     "metadata": {},
     "outputs": [],
     "prompt_number": 17
    },
    {
     "cell_type": "code",
     "collapsed": false,
     "input": [
      "def HANTS(ni,y,nf=3,HiLo='Hi',low=0.,high=255,fet=5,delta=0.1):\n",
      "    \"\"\"\n",
      "    ni    = nr. of images (total number of actual samples of the time series)\n",
      "    nb    = length of the base period, measured in virtual samples \n",
      "            (days, dekads, months, etc.)        \n",
      "    nf    = number of frequencies to be considered above the zero frequency\n",
      "    y     = array of input sample values (e.g. NDVI values)\n",
      "    ts    = array of size ni of time sample indicators \n",
      "            (indicates virtual sample number relative to the base period); \n",
      "            numbers in array ts maybe greater than nb\n",
      "            If no aux file is used (no time samples), we assume ts(i)= i, \n",
      "            where i=1, ..., ni         \n",
      "    HiLo  = 2-character string indicating rejection of high or low outliers\n",
      "            select from 'Hi', 'Lo' or 'None'    \n",
      "    low   = valid range minimum\n",
      "    high  = valid range maximum (values outside the valid range are rejeced\n",
      "            right away)    \n",
      "    fet   = fit error tolerance (points deviating more than fet from curve \n",
      "            fit are rejected)\n",
      "    dod   = degree of overdeterminedness (iteration stops if number of \n",
      "            points reaches the minimum required for curve fitting, plus \n",
      "            dod). This is a safety measure            \n",
      "    delta = small positive number (e.g. 0.1) to suppress high amplitudes                  \n",
      "    \"\"\"\n",
      "    \n",
      "    # define some parameters\n",
      "    nb= ni # \n",
      "    ts=np.arange(ni)\n",
      "    dod=1# (2*nf-1)\n",
      "    \n",
      "    # create empty arrays to fill\n",
      "    mat = np.zeros(shape=(min(2*nf+1,ni),ni))\n",
      "    \n",
      "    yr = np.zeros(shape=(y.shape[0],ni))\n",
      "    \n",
      "    # check which setting to set for outlier filtering\n",
      "    if HiLo == 'Hi':\n",
      "        sHiLo = -1\n",
      "    elif HiLo == 'Lo':\n",
      "        sHiLo = 1\n",
      "    else:\n",
      "        sHiLo = 0\n",
      "    \n",
      "    # initiate parameters\n",
      "    nr = min(2*nf+1,ni) # number of 2*+1 frequecies, or number of input images    \n",
      "    noutmax = ni-nr-dod # number of input images - number of 2*+1 frequencies - degree of overdeterminedness\n",
      "    # dg = 180./np.pi # for data compression\n",
      "    mat[0,:] = 1    \n",
      "    ang = 2*np.pi*np.arange(nb)/nb\n",
      "    cs = np.cos(ang)\n",
      "    sn = np.sin(ang)        \n",
      "    \n",
      "    # create some standard sinus and cosinus functions and put in matrix\n",
      "    i = np.arange(1,nf+1)\n",
      "    for j in np.arange(ni):    \n",
      "        index = np.mod(i*ts[j],nb)\n",
      "        mat[2 * i-1,j] =cs.take(index)\n",
      "        mat[2 * i ,j] = sn.take(index)\n",
      "    \n",
      "    # repeat the mat array over the number of arrays in y\n",
      "    # and create arrays with ones with shape y where high and low values are set to 0\n",
      "    mat = np.tile(mat[None].T, (1,y.shape[0])).T \n",
      "    p = np.ones_like(y) \n",
      "    p[(low >= y) | (y > high)] = 0\n",
      "    nout = np.sum(p==0,axis=-1) # count the outliers for each timeseries      \n",
      "    \n",
      "    # prepare for while loop\n",
      "    ready = np.zeros((y.shape[0]), dtype=bool) # all timeseries set to false\n",
      "    a = np.arange(ni)\n",
      "    it = np.nditer(a)\n",
      "    \n",
      "    while ((not it.finished) & (not ready.all())):\n",
      "        \n",
      "        #print '--------*-*-*-*',it.value, '*-*-*-*--------'        \n",
      "        # multipy outliers with timeseries\n",
      "        za = np.einsum('ijk,ik->ij', mat, p*y)\n",
      "                \n",
      "        # multiply mat with the multiplication of multiply diagonal of p with transpose of mat\n",
      "        diag = makediag3d(p)\n",
      "        A = np.einsum('ajk,aki->aji',mat,np.einsum('aij,jka->ajk', diag, mat.T))         \n",
      "        # add delta to supress high amplitudes but not for [0,0]\n",
      "        A = A + np.tile(np.diag(np.ones(nr))[None].T,(1,y.shape[0])).T * delta        \n",
      "        A[:,0,0] = A[:,0,0] - delta \n",
      "        \n",
      "        # solve linear matrix equation and define reconstructed timeseries\n",
      "        zr = np.linalg.solve(A, za)\n",
      "        yr = np.einsum('ijk,kj->ki',mat.T, zr)\n",
      "                \n",
      "        # calculate error and sort err by index\n",
      "        err = p * (sHiLo * (yr - y))\n",
      "        rankVec = np.argsort(err, axis=1, )\n",
      "        \n",
      "        # select maximum error and compute new ready status        \n",
      "        maxerr = np.diag(err.take(rankVec[:,ni-1], axis=-1))\n",
      "        ready = (maxerr <= fet) | (nout == noutmax) \n",
      "        \n",
      "        # if ready is still false \n",
      "        if (not all(ready)):\n",
      "            i = ni # i is number of input images\n",
      "            j = rankVec.take(i-1, axis=-1)\n",
      "            \n",
      "            p.T[j.T, np.indices(j.shape)] = p.T[j.T, np.indices(j.shape)]*ready.astype(int)#*check\n",
      "            nout += 1\n",
      "            i -= 1\n",
      "        \n",
      "        it.iternext()\n",
      "    return yr"
     ],
     "language": "python",
     "metadata": {},
     "outputs": [],
     "prompt_number": 18
    },
    {
     "cell_type": "code",
     "collapsed": false,
     "input": [
      "def array_in(numb):\n",
      "    y= np.array([5.0,  2.0,  10.0, 12.0, 18.0, 23.0, 27.0, \n",
      "                 40.0, 60.0, 70.0, 90.0,160.0,190.0,\n",
      "                 210.0,104.0,90.0,170.0, 50.0,120.0, \n",
      "                 60.0, 40.0, 30.0, 28.0, 24.0, 15.0, 10.0 ])\n",
      "    y = np.tile(y[None].T, (1,numb)).T\n",
      "    kl = (np.random.randint(2, size=(numb, 26)) * \n",
      "          np.random.randint(2, size=(numb, 26)) + 1)\n",
      "    kl[kl==2] = 0\n",
      "    y=y*kl\n",
      "    return y"
     ],
     "language": "python",
     "metadata": {},
     "outputs": [],
     "prompt_number": 19
    },
    {
     "cell_type": "code",
     "collapsed": false,
     "input": [
      "y = array_in(10000)\n",
      "%timeit HANTS(ni=26, y=y, nf=3, HiLo='Lo')"
     ],
     "language": "python",
     "metadata": {},
     "outputs": [
      {
       "output_type": "stream",
       "stream": "stdout",
       "text": [
        "1 loops, best of 3: 13.5 s per loop\n"
       ]
      }
     ],
     "prompt_number": 33
    },
    {
     "cell_type": "code",
     "collapsed": false,
     "input": [
      "acg = HANTS(ni=26, y=y, nf=3, HiLo='Lo')"
     ],
     "language": "python",
     "metadata": {},
     "outputs": [],
     "prompt_number": 31
    },
    {
     "cell_type": "code",
     "collapsed": false,
     "input": [
      "plt.plot(acg.T)\n",
      "plt.plot(y[0])"
     ],
     "language": "python",
     "metadata": {},
     "outputs": [
      {
       "metadata": {},
       "output_type": "pyout",
       "prompt_number": 32,
       "text": [
        "[<matplotlib.lines.Line2D at 0x5c2b2e8>]"
       ]
      },
      {
       "metadata": {},
       "output_type": "display_data",
       "png": "[encoded data removed]",
       "text": [
        "<matplotlib.figure.Figure at 0x5c2bd30>"
       ]
      }
     ],
     "prompt_number": 32
    },
    {
     "cell_type": "code",
     "collapsed": false,
     "input": [
      "arrlen = [10,100,1000,10000]\n",
      "rep_num = 5"
     ],
     "language": "python",
     "metadata": {},
     "outputs": [],
     "prompt_number": 6
    },
    {
     "cell_type": "code",
     "collapsed": false,
     "input": [
      "arrlen = np.asarray(arrlen)\n",
      "result = np.zeros((arrlen.shape[0],rep_num))\n",
      "\n",
      "for i in range(len(arrlen)):\n",
      "    y = array_in(arrlen[i])\n",
      "    result[i] = repeat(\"HANTS(ni=36, y=y, nf=6, HiLo='Lo')\", setup=\"from __main__ import HANTS, y\", repeat=rep_num, number=1)\n",
      "               \n",
      "    print (arrlen[i],np.min(result[i]))\n",
      "    \n",
      "plt.plot(arrlen,np.min((result.T/arrlen).T,axis=-1))\n",
      "plt.scatter(arrlen,np.min((result.T/arrlen).T,axis=-1))\n",
      "plt.xlabel('size of array')\n",
      "plt.ylabel('time in s for a single array')\n",
      "plt.grid()\n",
      "plt.tight_layout()\n",
      "plt.title('test of HANTS array size')\n",
      "plt.show()"
     ],
     "language": "python",
     "metadata": {},
     "outputs": [
      {
       "output_type": "stream",
       "stream": "stdout",
       "text": [
        "1 0.00254391851515\n",
        "2 0.00287167480484\n",
        "4 0.00410059535771\n",
        "8"
       ]
      },
      {
       "output_type": "stream",
       "stream": "stdout",
       "text": [
        " 0.00539473610156\n",
        "16"
       ]
      },
      {
       "output_type": "stream",
       "stream": "stdout",
       "text": [
        " 0.0106782337048\n",
        "32"
       ]
      },
      {
       "output_type": "stream",
       "stream": "stdout",
       "text": [
        " 0.0159690147811\n",
        "64"
       ]
      },
      {
       "output_type": "stream",
       "stream": "stdout",
       "text": [
        " 0.0283717762769\n",
        "128"
       ]
      },
      {
       "output_type": "stream",
       "stream": "stdout",
       "text": [
        " 0.0710112142311\n",
        "256"
       ]
      },
      {
       "output_type": "stream",
       "stream": "stdout",
       "text": [
        " 0.143341730295\n",
        "512"
       ]
      },
      {
       "output_type": "stream",
       "stream": "stdout",
       "text": [
        " 0.443277470198\n",
        "1024"
       ]
      },
      {
       "output_type": "stream",
       "stream": "stdout",
       "text": [
        " 0.936197768807\n",
        "2048"
       ]
      },
      {
       "output_type": "stream",
       "stream": "stdout",
       "text": [
        " 2.03893314335\n",
        "4096"
       ]
      },
      {
       "output_type": "stream",
       "stream": "stdout",
       "text": [
        " 5.57940194078\n"
       ]
      },
      {
       "metadata": {},
       "output_type": "display_data",
       "png": "[encoded data removed]",
       "text": [
        "<matplotlib.figure.Figure at 0x71caef0>"
       ]
      }
     ],
     "prompt_number": 7
    },
    {
     "cell_type": "code",
     "collapsed": false,
     "input": [],
     "language": "python",
     "metadata": {},
     "outputs": []
    }
   ],
   "metadata": {}
  }
 ]
}