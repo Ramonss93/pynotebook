{
 "metadata": {
  "name": ""
 },
 "nbformat": 3,
 "nbformat_minor": 0,
 "worksheets": [
  {
   "cells": [
    {
     "cell_type": "code",
     "collapsed": false,
     "input": [
      "filepath = r'E:\\Data\\WangKun@Mattijn\\Atmospheric data_hourly\\2011\\201101'\n",
      "#filepath = r'E:\\Data\\WangKun@Mattijn\\2010_2012_daily_radiation'\n",
      "filestations = r'E:\\Data\\WangKun@Mattijn\\Radiation_hourly\\AWS_stations_Aalbers02.csv'\n",
      "#folderDEM = r'E:\\Data\\WangKun@Mattijn\\DEM_TIL04'\n",
      "#folderDEM = r'E:\\Data\\WangKun@Mattijn'\n",
      "folderDEM = r'E:\\Data\\WangKun@Mattijn\\dem.tif'\n",
      "#r'D:\\Downloads\\Hu@Mattijn\\SRTM_DEM_China_1km\\SRTM_DEM_China_1km//DEM_China.tif'\n",
      "#folderMSK = r'E:\\Data\\WangKun@Mattijn\\DEM_MA01'\n",
      "prefix = 'temp'\n",
      "outFolder = r'E:\\Data\\WangKun@Mattijn\\outfolder\\2011\\lolo//'\n",
      "start = '01/1/2011'\n",
      "end = '01/31/2011'\n",
      "param = 'TEMP'\n",
      "#month = 19 #12 ~ m1 // 21 ~ m10 // 22 ~ m11 // 23 ~ m12"
     ],
     "language": "python",
     "metadata": {},
     "outputs": [],
     "prompt_number": 1
    },
    {
     "cell_type": "code",
     "collapsed": false,
     "input": [
      "from scipy import stats\n",
      "from scipy.spatial.distance import cdist\n",
      "from scipy.spatial import cKDTree as KDTree\n",
      "import statsmodels.api as sm\n",
      "import numpy as np\n",
      "import pandas as pd\n",
      "from osgeo import gdal, osr\n",
      "import os\n",
      "import datetime\n",
      "from datetime import datetime\n",
      "from mattijn import dikkelul\n",
      "#from __future__ import division"
     ],
     "language": "python",
     "metadata": {},
     "outputs": [],
     "prompt_number": 2
    },
    {
     "cell_type": "code",
     "collapsed": false,
     "input": [
      "# select meteorological data file\n",
      "file_ = dikkelul.FilesFolder(filepath, format_end='.TXT')\n",
      "f = file_[0]\n",
      "print (f)\n",
      "\n",
      "# create range of dates\n",
      "rng = pd.date_range(start, end, freq='1D')\n",
      "print (rng)"
     ],
     "language": "python",
     "metadata": {},
     "outputs": [
      {
       "output_type": "stream",
       "stream": "stdout",
       "text": [
        "E:\\Data\\WangKun@Mattijn\\Atmospheric data_hourly\\2011\\201101\\SURF_CLI_CHN_MUL_FTM-201101.TXT\n",
        "<class 'pandas.tseries.index.DatetimeIndex'>\n",
        "[2011-01-01 00:00:00, ..., 2011-01-31 00:00:00]\n",
        "Length: 31, Freq: D, Timezone: None\n"
       ]
      }
     ],
     "prompt_number": 3
    },
    {
     "cell_type": "code",
     "collapsed": false,
     "input": [
      "# read file and parse the dates correctly\n",
      "df = pd.read_csv(f, sep='\\t', header=None,  \n",
      "                 parse_dates={'datetime': [1,2,3,4]}, \n",
      "                 date_parser=lambda x: pd.datetime.strptime(x, '%Y %m %d %H'))\n",
      "\n",
      "# set name of columns\n",
      "columns_df = ['datetime','Station','STP','a','TEMP','b','c','d','REHU','e','f','g','PRCP','h','i','WDSP','j','k','l','m','n','o', \\\n",
      "              'p','q','r','s','t']\n",
      "df.columns = columns_df\n",
      "\n",
      "# set date-time as index and select the variables needed\n",
      "df.set_index('datetime', inplace=True)\n",
      "df_sel = df[['Station', 'TEMP']]#'STP','TEMP','REHU','PRCP','WDSP']]\n",
      "\n",
      "# replace missing, blank and values for snow as NaN\n",
      "df_sel.replace(32766, np.nan, inplace=True)\n",
      "df_sel.replace(32744, np.nan, inplace=True)\n",
      "df_sel.replace(32700, np.nan, inplace=True)\n",
      "\n",
      "# make appropriate concersions to right unit\n",
      "#df_sel.STP *= 0.1\n",
      "df_sel.TEMP *= 10\n",
      "#df_sel.PRCP *= 0.1\n",
      "#df_sel.STP *= 0.1\n",
      "\n",
      "# group by Station ID and resample to daily values\n",
      "df_selDay = df_sel.groupby('Station').resample('1D')\n",
      "df_selDay = df_selDay.drop('Station',1)\n",
      "df_selDay = df_selDay.reset_index()\n",
      "df_selDay = df_selDay.set_index('datetime')\n",
      "print (df_selDay.head())"
     ],
     "language": "python",
     "metadata": {},
     "outputs": [
      {
       "output_type": "stream",
       "stream": "stdout",
       "text": [
        "            Station         TEMP\n",
        "datetime                        \n",
        "2011-01-01    50136 -3110.416667\n",
        "2011-01-02    50136 -2915.833333\n",
        "2011-01-03    50136 -2992.500000\n",
        "2011-01-04    50136 -2160.416667\n",
        "2011-01-05    50136 -1476.250000\n"
       ]
      }
     ],
     "prompt_number": 4
    },
    {
     "cell_type": "code",
     "collapsed": false,
     "input": [
      "df_selDay.max()"
     ],
     "language": "python",
     "metadata": {},
     "outputs": [
      {
       "metadata": {},
       "output_type": "pyout",
       "prompt_number": 5,
       "text": [
        "Station    59981\n",
        "TEMP        2515\n",
        "dtype: float64"
       ]
      }
     ],
     "prompt_number": 5
    },
    {
     "cell_type": "code",
     "collapsed": false,
     "input": [
      "rsters = dikkelul.FilesFolder(folderDEM, format_end='.tif')\n",
      "df_stations = pd.read_csv(filestations)  \n",
      "rster = folderDEM\n",
      "#rster = rsters[0]\n",
      "#i = rng[0]\n",
      "\n",
      "max_base = len(rster) \n",
      "\n",
      "#st_wmo = GSODfiles(folderGSOD)\n",
      "print ('rster',rster)    \n",
      "raster, dem, extent = dikkelul.OpenRaster(rster)\n",
      "raster = gdal.Open(rster, gdal.GA_ReadOnly)\n",
      "\n",
      "band = raster.GetRasterBand(1)\n",
      "proj = raster.GetProjection()\n",
      "\n",
      "cols = raster.RasterXSize\n",
      "rows = raster.RasterYSize"
     ],
     "language": "python",
     "metadata": {},
     "outputs": [
      {
       "output_type": "stream",
       "stream": "stdout",
       "text": [
        "rster E:\\Data\\WangKun@Mattijn\\dem.tif\n"
       ]
      }
     ],
     "prompt_number": 6
    },
    {
     "cell_type": "code",
     "collapsed": false,
     "input": [
      "x_steps = np.arange(dem.shape[1]) * extent[1]\n",
      "y_steps = np.arange(dem.shape[0]) * extent[-1]        \n",
      "x_coords = extent[0] + x_steps + extent[1]/2\n",
      "y_coords = extent[3] + y_steps + extent[-1]/2\n",
      "\n",
      "xy = dikkelul.cartesian([x_coords, y_coords])\n",
      "\n",
      "dem = dem.T\n",
      "dem_rshp = dem.reshape(-1)"
     ],
     "language": "python",
     "metadata": {},
     "outputs": [],
     "prompt_number": 7
    },
    {
     "cell_type": "code",
     "collapsed": false,
     "input": [
      "xy"
     ],
     "language": "python",
     "metadata": {},
     "outputs": [
      {
       "metadata": {},
       "output_type": "pyout",
       "prompt_number": 8,
       "text": [
        "array([[ 1850500.,  3386500.],\n",
        "       [ 1850500.,  3385500.],\n",
        "       [ 1850500.,  3384500.],\n",
        "       ..., \n",
        "       [ 6449500.,  -910500.],\n",
        "       [ 6449500.,  -911500.],\n",
        "       [ 6449500.,  -912500.]])"
       ]
      }
     ],
     "prompt_number": 8
    },
    {
     "cell_type": "code",
     "collapsed": false,
     "input": [
      "# Some code to reproject from wgs to albers, might be useful one day\n",
      "# Create the projection objects for the conversion\n",
      "# original (WGS84-degrees)\n",
      "inproj = osr.SpatialReference()\n",
      "inproj.ImportFromWkt(proj)\n",
      "\n",
      "# output (Albers)\n",
      "Raalbers = \"\"\"\n",
      "PROJCS[\"LUnits_meters\",\n",
      "    GEOGCS[\"WGS 84\",\n",
      "        DATUM[\"WGS_1984\",\n",
      "            SPHEROID[\"WGS 84\",6378137,298.257223563,\n",
      "                AUTHORITY[\"EPSG\",\"7030\"]],\n",
      "            AUTHORITY[\"EPSG\",\"6326\"]],\n",
      "        PRIMEM[\"Greenwich\",0],\n",
      "        UNIT[\"degree\",0.0174532925199433],\n",
      "        AUTHORITY[\"EPSG\",\"4326\"]],\n",
      "    PROJECTION[\"Albers_Conic_Equal_Area\"],\n",
      "    PARAMETER[\"standard_parallel_1\",15],\n",
      "    PARAMETER[\"standard_parallel_2\",55],\n",
      "    PARAMETER[\"latitude_of_center\",35],\n",
      "    PARAMETER[\"longitude_of_center\",100],\n",
      "    PARAMETER[\"false_easting\",4000000],\n",
      "    PARAMETER[\"false_northing\",1000000],\n",
      "    UNIT[\"metre\",1,\n",
      "        AUTHORITY[\"EPSG\",\"9001\"]]]\"\"\"\n",
      "outproj = osr.SpatialReference()\n",
      "outproj.ImportFromWkt(Raalbers)\n",
      "\n",
      "ct = osr.CoordinateTransformation(inproj, outproj)\n",
      "xy = np.array(ct.TransformPoints(xy))\n",
      "xy = xy[:,0:2]"
     ],
     "language": "python",
     "metadata": {},
     "outputs": []
    },
    {
     "cell_type": "code",
     "collapsed": false,
     "input": [
      "for i in rng[0:1]:\n",
      "    \n",
      "    print (i)\n",
      "    newArray = np.empty(dem_rshp.shape)\n",
      "    print (newArray.shape)\n",
      "    data_left = df_selDay.ix[i]    \n",
      "    sel_merge = pd.merge(data_left, df_stations, on='Station', how='inner', )\n",
      "    \n",
      "    ##TEMP\n",
      "    df = sel_merge[pd.notnull(sel_merge[param])]\n",
      "    df.reset_index(drop=True, inplace=True)\n",
      "    \n",
      "    tree = KDTree(df.ix[:,5:7], leafsize=11)    \n",
      "    \n",
      "    for l in range(0,xy.shape[0],cols):#range(30725600,30730400,1000):\n",
      "        fr = l\n",
      "        to = l + cols\n",
      "        print (str(fr)+' - '+str(to))\n",
      "        #print ('coord', xy_target[fr:to].shape)\n",
      "        xy_part = xy[fr:to]\n",
      "                \n",
      "        # For GIDS\n",
      "        #print ('demva', dem_rshp[fr:to].shape)\n",
      "        dem_part = dem_rshp[fr:to]\n",
      "\n",
      "        #dist, idx = tree.query(xy_part, k=8, eps=0, p=1)\n",
      "        #columns = [\"TotalRadiation\"]\n",
      "        #tmp = df[columns].values.T[:, idx, None]\n",
      "        #tmp = np.squeeze(tmp)        \n",
      "        #weights = (1/dist)**2        \n",
      "        #q = np.sum(weights, axis=1)\n",
      "        #q = q[:,None]        \n",
      "        #weightsq =  weights / q        \n",
      "        #wz = np.einsum(\"ij,ij->i\", weightsq, tmp)\n",
      "\n",
      "        dist, idx = tree.query(xy_part, k=8, eps=0, p=1)\n",
      "        columns = [\"POINT_X\", \"POINT_Y\", \"Elev\", \"TEMP\"]\n",
      "        px, py, elev, tmp = df[columns].values.T[:, idx, None]\n",
      "        tmp = np.squeeze(tmp)\n",
      "        one = np.ones_like(px)\n",
      "        \n",
      "        m = np.concatenate((one, px, py, elev), axis=-1)\n",
      "        mtm = np.einsum(\"ijx,ijy->ixy\", m, m)\n",
      "        mty = np.einsum(\"ijx,ij->ix\", m, tmp)\n",
      "        b1,b2,b3 = np.linalg.solve(mtm, mty)[:, 1:].T\n",
      "        \n",
      "        px, py, elev = px.squeeze(), py.squeeze(), elev.squeeze()\n",
      "        \n",
      "        b1 = b1[:,None]\n",
      "        b2 = b2[:,None]\n",
      "        b3 = b3[:,None]\n",
      "        \n",
      "        rdist = (1/dist)**2\n",
      "        t0 = tmp + b1*(xy_part[:,0,None]-px) + b2*(xy_part[:,1,None]-py) + b3*(dem_part[:,None]-elev)\n",
      "        outarr = (t0*rdist).sum(1) / rdist.sum(1)\n",
      "\n",
      "        \n",
      "        newArray[fr:to] = outarr\n",
      "        #print('newArray\\n',newArray[fr:to])\n",
      "        \n",
      "    \n",
      "    outArray = newArray.reshape([dem.shape[0],dem.shape[1]]).T\n",
      "    #print (outArray)\n",
      "    #save output as raster    \n",
      "        \n",
      "    date = str(i.year)+str(i.month).zfill(2)+str(i.day).zfill(2)\n",
      "    outFilename = outFolder+prefix+str(date)+'endeze.tif'\n",
      "    print(outFilename)\n",
      "    \n",
      "    dikkelul.saveRaster(outFilename, outArray, raster, datatype=3)\n",
      "    outFilename = None    "
     ],
     "language": "python",
     "metadata": {},
     "outputs": [
      {
       "output_type": "stream",
       "stream": "stdout",
       "text": [
        "2011-01-01 00:00:00\n",
        "(19780000,)\n",
        "0 - 4600\n",
        "4600 - 9200"
       ]
      },
      {
       "output_type": "stream",
       "stream": "stdout",
       "text": [
        "\n",
        "9200 - 13800\n",
        "13800 - 18400\n",
        "18400 - 23000"
       ]
      },
      {
       "output_type": "stream",
       "stream": "stdout",
       "text": [
        "\n",
        "23000 - 27600\n",
        "27600 - 32200\n",
        "32200 - 36800"
       ]
      },
      {
       "output_type": "stream",
       "stream": "stdout",
       "text": [
        "\n",
        "36800 - 41400\n",
        "41400 - 46000\n",
        "46000 - 50600"
       ]
      },
      {
       "output_type": "stream",
       "stream": "stdout",
       "text": [
        "\n",
        "50600 - 55200\n",
        "55200 - 59800\n",
        "59800 - 64400"
       ]
      },
      {
       "output_type": "stream",
       "stream": "stdout",
       "text": [
        "\n",
        "64400 - 69000\n",
        "69000 - 73600\n",
        "73600 - 78200"
       ]
      },
      {
       "output_type": "stream",
       "stream": "stdout",
       "text": [
        "\n",
        "78200 - 82800\n",
        "82800 - 87400\n",
        "87400 - 92000"
       ]
      },
      {
       "output_type": "stream",
       "stream": "stdout",
       "text": [
        "\n",
        "92000 - 96600\n",
        "96600 - 101200\n",
        "101200 - 105800"
       ]
      },
      {
       "output_type": "stream",
       "stream": "stdout",
       "text": [
        "\n",
        "105800 - 110400\n",
        "110400 - 115000\n",
        "115000 - 119600"
       ]
      },
      {
       "output_type": "stream",
       "stream": "stdout",
       "text": [
        "\n",
        "119600 - 124200\n",
        "124200 - 128800\n",
        "128800 - 133400"
       ]
      },
      {
       "output_type": "stream",
       "stream": "stdout",
       "text": [
        "\n",
        "133400 - 138000\n",
        "138000 - 142600\n",
        "142600 - 147200"
       ]
      },
      {
       "output_type": "stream",
       "stream": "stdout",
       "text": [
        "\n",
        "147200 - 151800\n",
        "151800 - 156400\n",
        "156400 - 161000"
       ]
      },
      {
       "output_type": "stream",
       "stream": "stdout",
       "text": [
        "\n",
        "161000 - 165600\n",
        "165600 - 170200\n",
        "170200 - 174800"
       ]
      },
      {
       "output_type": "stream",
       "stream": "stdout",
       "text": [
        "\n",
        "174800 - 179400\n",
        "179400 - 184000\n",
        "184000 - 188600"
       ]
      },
      {
       "output_type": "stream",
       "stream": "stdout",
       "text": [
        "\n",
        "188600 - 193200\n",
        "193200 - 197800\n",
        "197800 - 202400"
       ]
      },
      {
       "output_type": "stream",
       "stream": "stdout",
       "text": [
        "\n",
        "202400 - 207000\n",
        "207000 - 211600\n",
        "211600 - 216200"
       ]
      },
      {
       "output_type": "stream",
       "stream": "stdout",
       "text": [
        "\n",
        "216200 - 220800\n",
        "220800 - 225400\n",
        "225400 - 230000"
       ]
      },
      {
       "output_type": "stream",
       "stream": "stdout",
       "text": [
        "\n",
        "230000 - 234600\n",
        "234600 - 239200\n",
        "239200 - 243800"
       ]
      },
      {
       "output_type": "stream",
       "stream": "stdout",
       "text": [
        "\n",
        "243800 - 248400\n",
        "248400 - 253000\n",
        "253000 - 257600"
       ]
      },
      {
       "output_type": "stream",
       "stream": "stdout",
       "text": [
        "\n",
        "257600 - 262200\n",
        "262200 - 266800\n",
        "266800 - 271400"
       ]
      },
      {
       "output_type": "stream",
       "stream": "stdout",
       "text": [
        "\n",
        "271400 - 276000\n",
        "276000 - 280600\n",
        "280600 - 285200"
       ]
      },
      {
       "output_type": "stream",
       "stream": "stdout",
       "text": [
        "\n",
        "285200 - 289800\n",
        "289800 - 294400\n",
        "294400 - 299000"
       ]
      },
      {
       "output_type": "stream",
       "stream": "stdout",
       "text": [
        "\n",
        "299000 - 303600\n",
        "303600 - 308200\n",
        "308200 - 312800"
       ]
      },
      {
       "output_type": "stream",
       "stream": "stdout",
       "text": [
        "\n",
        "312800 - 317400\n",
        "317400 - 322000\n",
        "322000 - 326600"
       ]
      },
      {
       "output_type": "stream",
       "stream": "stdout",
       "text": [
        "\n",
        "326600 - 331200\n",
        "331200 - 335800\n",
        "335800 - 340400"
       ]
      },
      {
       "output_type": "stream",
       "stream": "stdout",
       "text": [
        "\n",
        "340400 - 345000\n",
        "345000 - 349600\n",
        "349600 - 354200"
       ]
      },
      {
       "output_type": "stream",
       "stream": "stdout",
       "text": [
        "\n",
        "354200 - 358800\n",
        "358800 - 363400\n",
        "363400 - 368000"
       ]
      },
      {
       "output_type": "stream",
       "stream": "stdout",
       "text": [
        "\n",
        "368000 - 372600\n",
        "372600 - 377200\n",
        "377200 - 381800"
       ]
      },
      {
       "output_type": "stream",
       "stream": "stdout",
       "text": [
        "\n",
        "381800 - 386400\n",
        "386400 - 391000\n",
        "391000 - 395600"
       ]
      },
      {
       "output_type": "stream",
       "stream": "stdout",
       "text": [
        "\n",
        "395600 - 400200\n",
        "400200 - 404800\n",
        "404800 - 409400"
       ]
      },
      {
       "output_type": "stream",
       "stream": "stdout",
       "text": [
        "\n",
        "409400 - 414000\n",
        "414000 - 418600\n",
        "418600 - 423200"
       ]
      },
      {
       "output_type": "stream",
       "stream": "stdout",
       "text": [
        "\n",
        "423200 - 427800\n",
        "427800 - 432400\n",
        "432400 - 437000"
       ]
      },
      {
       "output_type": "stream",
       "stream": "stdout",
       "text": [
        "\n",
        "437000 - 441600\n",
        "441600 - 446200\n",
        "446200 - 450800"
       ]
      },
      {
       "output_type": "stream",
       "stream": "stdout",
       "text": [
        "\n",
        "450800 - 455400\n",
        "455400 - 460000\n",
        "460000 - 464600"
       ]
      },
      {
       "output_type": "stream",
       "stream": "stdout",
       "text": [
        "\n",
        "464600 - 469200\n",
        "469200 - 473800\n",
        "473800 - 478400"
       ]
      },
      {
       "output_type": "stream",
       "stream": "stdout",
       "text": [
        "\n",
        "478400 - 483000\n",
        "483000 - 487600\n",
        "487600 - 492200"
       ]
      },
      {
       "output_type": "stream",
       "stream": "stdout",
       "text": [
        "\n",
        "492200 - 496800\n",
        "496800 - 501400\n",
        "501400 - 506000"
       ]
      },
      {
       "output_type": "stream",
       "stream": "stdout",
       "text": [
        "\n",
        "506000 - 510600\n",
        "510600 - 515200\n",
        "515200 - 519800"
       ]
      },
      {
       "output_type": "stream",
       "stream": "stdout",
       "text": [
        "\n",
        "519800 - 524400\n",
        "524400 - 529000\n",
        "529000 - 533600"
       ]
      },
      {
       "output_type": "stream",
       "stream": "stdout",
       "text": [
        "\n",
        "533600 - 538200\n",
        "538200 - 542800\n",
        "542800 - 547400"
       ]
      },
      {
       "output_type": "stream",
       "stream": "stdout",
       "text": [
        "\n",
        "547400 - 552000\n",
        "552000 - 556600\n",
        "556600 - 561200"
       ]
      },
      {
       "output_type": "stream",
       "stream": "stdout",
       "text": [
        "\n",
        "561200 - 565800\n",
        "565800 - 570400\n",
        "570400 - 575000"
       ]
      },
      {
       "output_type": "stream",
       "stream": "stdout",
       "text": [
        "\n",
        "575000 - 579600\n",
        "579600 - 584200\n",
        "584200 - 588800"
       ]
      },
      {
       "output_type": "stream",
       "stream": "stdout",
       "text": [
        "\n",
        "588800 - 593400\n",
        "593400 - 598000\n",
        "598000 - 602600"
       ]
      },
      {
       "output_type": "stream",
       "stream": "stdout",
       "text": [
        "\n",
        "602600 - 607200\n",
        "607200 - 611800\n",
        "611800 - 616400"
       ]
      },
      {
       "output_type": "stream",
       "stream": "stdout",
       "text": [
        "\n",
        "616400 - 621000\n",
        "621000 - 625600\n",
        "625600 - 630200"
       ]
      },
      {
       "output_type": "stream",
       "stream": "stdout",
       "text": [
        "\n",
        "630200 - 634800\n",
        "634800 - 639400\n",
        "639400 - 644000"
       ]
      },
      {
       "output_type": "stream",
       "stream": "stdout",
       "text": [
        "\n",
        "644000 - 648600\n",
        "648600 - 653200\n",
        "653200 - 657800"
       ]
      },
      {
       "output_type": "stream",
       "stream": "stdout",
       "text": [
        "\n",
        "657800 - 662400\n",
        "662400 - 667000\n",
        "667000 - 671600"
       ]
      },
      {
       "output_type": "stream",
       "stream": "stdout",
       "text": [
        "\n",
        "671600 - 676200\n",
        "676200 - 680800\n",
        "680800 - 685400"
       ]
      },
      {
       "output_type": "stream",
       "stream": "stdout",
       "text": [
        "\n",
        "685400 - 690000\n",
        "690000 - 694600\n",
        "694600 - 699200"
       ]
      },
      {
       "output_type": "stream",
       "stream": "stdout",
       "text": [
        "\n",
        "699200 - 703800\n",
        "703800 - 708400\n",
        "708400 - 713000"
       ]
      },
      {
       "output_type": "stream",
       "stream": "stdout",
       "text": [
        "\n",
        "713000 - 717600\n",
        "717600 - 722200\n",
        "722200 - 726800"
       ]
      },
      {
       "output_type": "stream",
       "stream": "stdout",
       "text": [
        "\n",
        "726800 - 731400\n",
        "731400 - 736000\n",
        "736000 - 740600"
       ]
      },
      {
       "output_type": "stream",
       "stream": "stdout",
       "text": [
        "\n",
        "740600 - 745200\n",
        "745200 - 749800\n",
        "749800 - 754400"
       ]
      },
      {
       "output_type": "stream",
       "stream": "stdout",
       "text": [
        "\n",
        "754400 - 759000\n",
        "759000 - 763600\n",
        "763600 - 768200"
       ]
      },
      {
       "output_type": "stream",
       "stream": "stdout",
       "text": [
        "\n",
        "768200 - 772800\n",
        "772800 - 777400\n",
        "777400 - 782000"
       ]
      },
      {
       "output_type": "stream",
       "stream": "stdout",
       "text": [
        "\n",
        "782000 - 786600\n",
        "786600 - 791200\n",
        "791200 - 795800"
       ]
      },
      {
       "output_type": "stream",
       "stream": "stdout",
       "text": [
        "\n",
        "795800 - 800400\n",
        "800400 - 805000\n",
        "805000 - 809600"
       ]
      },
      {
       "output_type": "stream",
       "stream": "stdout",
       "text": [
        "\n",
        "809600 - 814200\n",
        "814200 - 818800\n",
        "818800 - 823400"
       ]
      },
      {
       "output_type": "stream",
       "stream": "stdout",
       "text": [
        "\n",
        "823400 - 828000\n",
        "828000 - 832600\n",
        "832600 - 837200"
       ]
      },
      {
       "output_type": "stream",
       "stream": "stdout",
       "text": [
        "\n",
        "837200 - 841800\n",
        "841800 - 846400\n",
        "846400 - 851000"
       ]
      },
      {
       "output_type": "stream",
       "stream": "stdout",
       "text": [
        "\n",
        "851000 - 855600\n",
        "855600 - 860200\n",
        "860200 - 864800"
       ]
      },
      {
       "output_type": "stream",
       "stream": "stdout",
       "text": [
        "\n",
        "864800 - 869400\n",
        "869400 - 874000\n",
        "874000 - 878600"
       ]
      },
      {
       "output_type": "stream",
       "stream": "stdout",
       "text": [
        "\n",
        "878600 - 883200\n",
        "883200 - 887800\n",
        "887800 - 892400"
       ]
      },
      {
       "output_type": "stream",
       "stream": "stdout",
       "text": [
        "\n",
        "892400 - 897000\n",
        "897000 - 901600\n",
        "901600 - 906200"
       ]
      },
      {
       "output_type": "stream",
       "stream": "stdout",
       "text": [
        "\n",
        "906200 - 910800\n",
        "910800 - 915400\n",
        "915400 - 920000"
       ]
      },
      {
       "output_type": "stream",
       "stream": "stdout",
       "text": [
        "\n",
        "920000 - 924600\n",
        "924600 - 929200\n",
        "929200 - 933800"
       ]
      },
      {
       "output_type": "stream",
       "stream": "stdout",
       "text": [
        "\n",
        "933800 - 938400\n",
        "938400 - 943000\n",
        "943000 - 947600"
       ]
      },
      {
       "output_type": "stream",
       "stream": "stdout",
       "text": [
        "\n",
        "947600 - 952200\n",
        "952200 - 956800\n",
        "956800 - 961400"
       ]
      },
      {
       "output_type": "stream",
       "stream": "stdout",
       "text": [
        "\n",
        "961400 - 966000\n",
        "966000 - 970600\n",
        "970600 - 975200"
       ]
      },
      {
       "output_type": "stream",
       "stream": "stdout",
       "text": [
        "\n",
        "975200 - 979800\n",
        "979800 - 984400\n",
        "984400 - 989000"
       ]
      },
      {
       "output_type": "stream",
       "stream": "stdout",
       "text": [
        "\n",
        "989000 - 993600\n",
        "993600 - 998200\n",
        "998200 - 1002800"
       ]
      },
      {
       "output_type": "stream",
       "stream": "stdout",
       "text": [
        "\n",
        "1002800 - 1007400\n",
        "1007400 - 1012000\n",
        "1012000 - 1016600"
       ]
      },
      {
       "output_type": "stream",
       "stream": "stdout",
       "text": [
        "\n",
        "1016600 - 1021200\n",
        "1021200 - 1025800\n",
        "1025800 - 1030400"
       ]
      },
      {
       "output_type": "stream",
       "stream": "stdout",
       "text": [
        "\n",
        "1030400 - 1035000\n",
        "1035000 - 1039600\n",
        "1039600 - 1044200"
       ]
      },
      {
       "output_type": "stream",
       "stream": "stdout",
       "text": [
        "\n",
        "1044200 - 1048800\n",
        "1048800 - 1053400\n",
        "1053400 - 1058000"
       ]
      },
      {
       "output_type": "stream",
       "stream": "stdout",
       "text": [
        "\n",
        "1058000 - 1062600\n",
        "1062600 - 1067200\n",
        "1067200 - 1071800"
       ]
      },
      {
       "output_type": "stream",
       "stream": "stdout",
       "text": [
        "\n",
        "1071800 - 1076400\n",
        "1076400 - 1081000\n",
        "1081000 - 1085600"
       ]
      },
      {
       "output_type": "stream",
       "stream": "stdout",
       "text": [
        "\n",
        "1085600 - 1090200\n",
        "1090200 - 1094800\n",
        "1094800 - 1099400"
       ]
      },
      {
       "output_type": "stream",
       "stream": "stdout",
       "text": [
        "\n",
        "1099400 - 1104000\n",
        "1104000 - 1108600\n",
        "1108600 - 1113200"
       ]
      },
      {
       "output_type": "stream",
       "stream": "stdout",
       "text": [
        "\n",
        "1113200 - 1117800\n",
        "1117800 - 1122400\n",
        "1122400 - 1127000"
       ]
      },
      {
       "output_type": "stream",
       "stream": "stdout",
       "text": [
        "\n",
        "1127000 - 1131600\n",
        "1131600 - 1136200\n",
        "1136200 - 1140800"
       ]
      },
      {
       "output_type": "stream",
       "stream": "stdout",
       "text": [
        "\n",
        "1140800 - 1145400\n",
        "1145400 - 1150000\n",
        "1150000 - 1154600"
       ]
      },
      {
       "output_type": "stream",
       "stream": "stdout",
       "text": [
        "\n",
        "1154600 - 1159200\n",
        "1159200 - 1163800\n",
        "1163800 - 1168400"
       ]
      },
      {
       "output_type": "stream",
       "stream": "stdout",
       "text": [
        "\n",
        "1168400 - 1173000\n",
        "1173000 - 1177600\n",
        "1177600 - 1182200"
       ]
      },
      {
       "output_type": "stream",
       "stream": "stdout",
       "text": [
        "\n",
        "1182200 - 1186800\n",
        "1186800 - 1191400\n",
        "1191400 - 1196000"
       ]
      },
      {
       "output_type": "stream",
       "stream": "stdout",
       "text": [
        "\n",
        "1196000 - 1200600\n",
        "1200600 - 1205200\n",
        "1205200 - 1209800"
       ]
      },
      {
       "output_type": "stream",
       "stream": "stdout",
       "text": [
        "\n",
        "1209800 - 1214400\n",
        "1214400 - 1219000\n",
        "1219000 - 1223600"
       ]
      },
      {
       "output_type": "stream",
       "stream": "stdout",
       "text": [
        "\n",
        "1223600 - 1228200\n",
        "1228200 - 1232800\n",
        "1232800 - 1237400"
       ]
      },
      {
       "output_type": "stream",
       "stream": "stdout",
       "text": [
        "\n",
        "1237400 - 1242000\n",
        "1242000 - 1246600\n",
        "1246600 - 1251200"
       ]
      },
      {
       "output_type": "stream",
       "stream": "stdout",
       "text": [
        "\n",
        "1251200 - 1255800\n",
        "1255800 - 1260400\n",
        "1260400 - 1265000"
       ]
      },
      {
       "output_type": "stream",
       "stream": "stdout",
       "text": [
        "\n",
        "1265000 - 1269600\n",
        "1269600 - 1274200\n",
        "1274200 - 1278800"
       ]
      },
      {
       "output_type": "stream",
       "stream": "stdout",
       "text": [
        "\n",
        "1278800 - 1283400\n",
        "1283400 - 1288000\n",
        "1288000 - 1292600"
       ]
      },
      {
       "output_type": "stream",
       "stream": "stdout",
       "text": [
        "\n",
        "1292600 - 1297200\n",
        "1297200 - 1301800\n",
        "1301800 - 1306400"
       ]
      },
      {
       "output_type": "stream",
       "stream": "stdout",
       "text": [
        "\n",
        "1306400 - 1311000\n",
        "1311000 - 1315600\n",
        "1315600 - 1320200"
       ]
      },
      {
       "output_type": "stream",
       "stream": "stdout",
       "text": [
        "\n",
        "1320200 - 1324800\n",
        "1324800 - 1329400\n",
        "1329400 - 1334000"
       ]
      },
      {
       "output_type": "stream",
       "stream": "stdout",
       "text": [
        "\n",
        "1334000 - 1338600\n",
        "1338600 - 1343200\n",
        "1343200 - 1347800"
       ]
      },
      {
       "output_type": "stream",
       "stream": "stdout",
       "text": [
        "\n",
        "1347800 - 1352400\n",
        "1352400 - 1357000\n",
        "1357000 - 1361600"
       ]
      },
      {
       "output_type": "stream",
       "stream": "stdout",
       "text": [
        "\n",
        "1361600 - 1366200\n",
        "1366200 - 1370800\n",
        "1370800 - 1375400"
       ]
      },
      {
       "output_type": "stream",
       "stream": "stdout",
       "text": [
        "\n",
        "1375400 - 1380000\n",
        "1380000 - 1384600\n",
        "1384600 - 1389200"
       ]
      },
      {
       "output_type": "stream",
       "stream": "stdout",
       "text": [
        "\n",
        "1389200 - 1393800\n",
        "1393800 - 1398400\n",
        "1398400 - 1403000"
       ]
      },
      {
       "output_type": "stream",
       "stream": "stdout",
       "text": [
        "\n",
        "1403000 - 1407600\n",
        "1407600 - 1412200\n",
        "1412200 - 1416800"
       ]
      },
      {
       "output_type": "stream",
       "stream": "stdout",
       "text": [
        "\n",
        "1416800 - 1421400\n",
        "1421400 - 1426000\n",
        "1426000 - 1430600"
       ]
      },
      {
       "output_type": "stream",
       "stream": "stdout",
       "text": [
        "\n",
        "1430600 - 1435200\n",
        "1435200 - 1439800\n",
        "1439800 - 1444400"
       ]
      },
      {
       "output_type": "stream",
       "stream": "stdout",
       "text": [
        "\n",
        "1444400 - 1449000\n",
        "1449000 - 1453600\n",
        "1453600 - 1458200"
       ]
      },
      {
       "output_type": "stream",
       "stream": "stdout",
       "text": [
        "\n",
        "1458200 - 1462800\n",
        "1462800 - 1467400\n",
        "1467400 - 1472000"
       ]
      },
      {
       "output_type": "stream",
       "stream": "stdout",
       "text": [
        "\n",
        "1472000 - 1476600\n",
        "1476600 - 1481200\n",
        "1481200 - 1485800"
       ]
      },
      {
       "output_type": "stream",
       "stream": "stdout",
       "text": [
        "\n",
        "1485800 - 1490400\n",
        "1490400 - 1495000\n",
        "1495000 - 1499600"
       ]
      },
      {
       "output_type": "stream",
       "stream": "stdout",
       "text": [
        "\n",
        "1499600 - 1504200\n",
        "1504200 - 1508800\n",
        "1508800 - 1513400"
       ]
      },
      {
       "output_type": "stream",
       "stream": "stdout",
       "text": [
        "\n",
        "1513400 - 1518000\n",
        "1518000 - 1522600\n",
        "1522600 - 1527200"
       ]
      },
      {
       "output_type": "stream",
       "stream": "stdout",
       "text": [
        "\n",
        "1527200 - 1531800\n",
        "1531800 - 1536400\n",
        "1536400 - 1541000"
       ]
      },
      {
       "output_type": "stream",
       "stream": "stdout",
       "text": [
        "\n",
        "1541000 - 1545600\n",
        "1545600 - 1550200\n",
        "1550200 - 1554800"
       ]
      },
      {
       "output_type": "stream",
       "stream": "stdout",
       "text": [
        "\n",
        "1554800 - 1559400\n",
        "1559400 - 1564000\n",
        "1564000 - 1568600"
       ]
      },
      {
       "output_type": "stream",
       "stream": "stdout",
       "text": [
        "\n",
        "1568600 - 1573200\n",
        "1573200 - 1577800\n",
        "1577800 - 1582400"
       ]
      },
      {
       "output_type": "stream",
       "stream": "stdout",
       "text": [
        "\n",
        "1582400 - 1587000\n",
        "1587000 - 1591600\n",
        "1591600 - 1596200"
       ]
      },
      {
       "output_type": "stream",
       "stream": "stdout",
       "text": [
        "\n",
        "1596200 - 1600800\n",
        "1600800 - 1605400\n",
        "1605400 - 1610000"
       ]
      },
      {
       "output_type": "stream",
       "stream": "stdout",
       "text": [
        "\n",
        "1610000 - 1614600\n",
        "1614600 - 1619200\n",
        "1619200 - 1623800"
       ]
      },
      {
       "output_type": "stream",
       "stream": "stdout",
       "text": [
        "\n",
        "1623800 - 1628400\n",
        "1628400 - 1633000\n",
        "1633000 - 1637600"
       ]
      },
      {
       "output_type": "stream",
       "stream": "stdout",
       "text": [
        "\n",
        "1637600 - 1642200\n",
        "1642200 - 1646800\n",
        "1646800 - 1651400"
       ]
      },
      {
       "output_type": "stream",
       "stream": "stdout",
       "text": [
        "\n",
        "1651400 - 1656000\n",
        "1656000 - 1660600\n",
        "1660600 - 1665200"
       ]
      },
      {
       "output_type": "stream",
       "stream": "stdout",
       "text": [
        "\n",
        "1665200 - 1669800\n",
        "1669800 - 1674400\n",
        "1674400 - 1679000"
       ]
      },
      {
       "output_type": "stream",
       "stream": "stdout",
       "text": [
        "\n",
        "1679000 - 1683600\n",
        "1683600 - 1688200\n",
        "1688200 - 1692800"
       ]
      },
      {
       "output_type": "stream",
       "stream": "stdout",
       "text": [
        "\n",
        "1692800 - 1697400\n",
        "1697400 - 1702000\n",
        "1702000 - 1706600"
       ]
      },
      {
       "output_type": "stream",
       "stream": "stdout",
       "text": [
        "\n",
        "1706600 - 1711200\n",
        "1711200 - 1715800\n",
        "1715800 - 1720400"
       ]
      },
      {
       "output_type": "stream",
       "stream": "stdout",
       "text": [
        "\n",
        "1720400 - 1725000\n",
        "1725000 - 1729600\n",
        "1729600 - 1734200"
       ]
      },
      {
       "output_type": "stream",
       "stream": "stdout",
       "text": [
        "\n",
        "1734200 - 1738800\n",
        "1738800 - 1743400\n",
        "1743400 - 1748000"
       ]
      },
      {
       "output_type": "stream",
       "stream": "stdout",
       "text": [
        "\n",
        "1748000 - 1752600\n",
        "1752600 - 1757200\n",
        "1757200 - 1761800"
       ]
      },
      {
       "output_type": "stream",
       "stream": "stdout",
       "text": [
        "\n",
        "1761800 - 1766400\n",
        "1766400 - 1771000\n",
        "1771000 - 1775600"
       ]
      },
      {
       "output_type": "stream",
       "stream": "stdout",
       "text": [
        "\n",
        "1775600 - 1780200\n",
        "1780200 - 1784800\n",
        "1784800 - 1789400"
       ]
      },
      {
       "output_type": "stream",
       "stream": "stdout",
       "text": [
        "\n",
        "1789400 - 1794000\n",
        "1794000 - 1798600\n",
        "1798600 - 1803200"
       ]
      },
      {
       "output_type": "stream",
       "stream": "stdout",
       "text": [
        "\n",
        "1803200 - 1807800\n",
        "1807800 - 1812400\n",
        "1812400 - 1817000"
       ]
      },
      {
       "output_type": "stream",
       "stream": "stdout",
       "text": [
        "\n",
        "1817000 - 1821600\n",
        "1821600 - 1826200\n",
        "1826200 - 1830800"
       ]
      },
      {
       "output_type": "stream",
       "stream": "stdout",
       "text": [
        "\n",
        "1830800 - 1835400\n",
        "1835400 - 1840000\n",
        "1840000 - 1844600"
       ]
      },
      {
       "output_type": "stream",
       "stream": "stdout",
       "text": [
        "\n",
        "1844600 - 1849200\n",
        "1849200 - 1853800\n",
        "1853800 - 1858400"
       ]
      },
      {
       "output_type": "stream",
       "stream": "stdout",
       "text": [
        "\n",
        "1858400 - 1863000\n",
        "1863000 - 1867600\n",
        "1867600 - 1872200"
       ]
      },
      {
       "output_type": "stream",
       "stream": "stdout",
       "text": [
        "\n",
        "1872200 - 1876800\n",
        "1876800 - 1881400\n",
        "1881400 - 1886000"
       ]
      },
      {
       "output_type": "stream",
       "stream": "stdout",
       "text": [
        "\n",
        "1886000 - 1890600\n",
        "1890600 - 1895200\n",
        "1895200 - 1899800"
       ]
      },
      {
       "output_type": "stream",
       "stream": "stdout",
       "text": [
        "\n",
        "1899800 - 1904400\n",
        "1904400 - 1909000\n",
        "1909000 - 1913600"
       ]
      },
      {
       "output_type": "stream",
       "stream": "stdout",
       "text": [
        "\n",
        "1913600 - 1918200\n",
        "1918200 - 1922800\n",
        "1922800 - 1927400"
       ]
      },
      {
       "output_type": "stream",
       "stream": "stdout",
       "text": [
        "\n",
        "1927400 - 1932000\n",
        "1932000 - 1936600\n",
        "1936600 - 1941200"
       ]
      },
      {
       "output_type": "stream",
       "stream": "stdout",
       "text": [
        "\n",
        "1941200 - 1945800\n",
        "1945800 - 1950400\n",
        "1950400 - 1955000"
       ]
      },
      {
       "output_type": "stream",
       "stream": "stdout",
       "text": [
        "\n",
        "1955000 - 1959600\n",
        "1959600 - 1964200\n",
        "1964200 - 1968800"
       ]
      },
      {
       "output_type": "stream",
       "stream": "stdout",
       "text": [
        "\n",
        "1968800 - 1973400\n",
        "1973400 - 1978000\n",
        "1978000 - 1982600"
       ]
      },
      {
       "output_type": "stream",
       "stream": "stdout",
       "text": [
        "\n",
        "1982600 - 1987200\n",
        "1987200 - 1991800\n",
        "1991800 - 1996400"
       ]
      },
      {
       "output_type": "stream",
       "stream": "stdout",
       "text": [
        "\n",
        "1996400 - 2001000\n",
        "2001000 - 2005600\n",
        "2005600 - 2010200"
       ]
      },
      {
       "output_type": "stream",
       "stream": "stdout",
       "text": [
        "\n",
        "2010200 - 2014800\n",
        "2014800 - 2019400\n",
        "2019400 - 2024000"
       ]
      },
      {
       "output_type": "stream",
       "stream": "stdout",
       "text": [
        "\n",
        "2024000 - 2028600\n",
        "2028600 - 2033200\n",
        "2033200 - 2037800"
       ]
      },
      {
       "output_type": "stream",
       "stream": "stdout",
       "text": [
        "\n",
        "2037800 - 2042400\n",
        "2042400 - 2047000\n",
        "2047000 - 2051600"
       ]
      },
      {
       "output_type": "stream",
       "stream": "stdout",
       "text": [
        "\n",
        "2051600 - 2056200\n",
        "2056200 - 2060800\n",
        "2060800 - 2065400"
       ]
      },
      {
       "output_type": "stream",
       "stream": "stdout",
       "text": [
        "\n",
        "2065400 - 2070000\n",
        "2070000 - 2074600\n",
        "2074600 - 2079200"
       ]
      },
      {
       "output_type": "stream",
       "stream": "stdout",
       "text": [
        "\n",
        "2079200 - 2083800\n",
        "2083800 - 2088400\n",
        "2088400 - 2093000"
       ]
      },
      {
       "output_type": "stream",
       "stream": "stdout",
       "text": [
        "\n",
        "2093000 - 2097600\n",
        "2097600 - 2102200\n",
        "2102200 - 2106800"
       ]
      },
      {
       "output_type": "stream",
       "stream": "stdout",
       "text": [
        "\n",
        "2106800 - 2111400\n",
        "2111400 - 2116000\n",
        "2116000 - 2120600"
       ]
      },
      {
       "output_type": "stream",
       "stream": "stdout",
       "text": [
        "\n",
        "2120600 - 2125200\n",
        "2125200 - 2129800\n",
        "2129800 - 2134400"
       ]
      },
      {
       "output_type": "stream",
       "stream": "stdout",
       "text": [
        "\n",
        "2134400 - 2139000\n",
        "2139000 - 2143600\n",
        "2143600 - 2148200"
       ]
      },
      {
       "output_type": "stream",
       "stream": "stdout",
       "text": [
        "\n",
        "2148200 - 2152800\n",
        "2152800 - 2157400\n",
        "2157400 - 2162000"
       ]
      },
      {
       "output_type": "stream",
       "stream": "stdout",
       "text": [
        "\n",
        "2162000 - 2166600\n",
        "2166600 - 2171200\n",
        "2171200 - 2175800"
       ]
      },
      {
       "output_type": "stream",
       "stream": "stdout",
       "text": [
        "\n",
        "2175800 - 2180400\n",
        "2180400 - 2185000\n",
        "2185000 - 2189600"
       ]
      },
      {
       "output_type": "stream",
       "stream": "stdout",
       "text": [
        "\n",
        "2189600 - 2194200\n",
        "2194200 - 2198800\n",
        "2198800 - 2203400"
       ]
      },
      {
       "output_type": "stream",
       "stream": "stdout",
       "text": [
        "\n",
        "2203400 - 2208000\n",
        "2208000 - 2212600\n",
        "2212600 - 2217200"
       ]
      },
      {
       "output_type": "stream",
       "stream": "stdout",
       "text": [
        "\n",
        "2217200 - 2221800\n",
        "2221800 - 2226400\n",
        "2226400 - 2231000"
       ]
      },
      {
       "output_type": "stream",
       "stream": "stdout",
       "text": [
        "\n",
        "2231000 - 2235600\n",
        "2235600 - 2240200\n",
        "2240200 - 2244800"
       ]
      },
      {
       "output_type": "stream",
       "stream": "stdout",
       "text": [
        "\n",
        "2244800 - 2249400\n",
        "2249400 - 2254000\n",
        "2254000 - 2258600"
       ]
      },
      {
       "output_type": "stream",
       "stream": "stdout",
       "text": [
        "\n",
        "2258600 - 2263200\n",
        "2263200 - 2267800\n",
        "2267800 - 2272400"
       ]
      },
      {
       "output_type": "stream",
       "stream": "stdout",
       "text": [
        "\n",
        "2272400 - 2277000\n",
        "2277000 - 2281600\n",
        "2281600 - 2286200"
       ]
      },
      {
       "output_type": "stream",
       "stream": "stdout",
       "text": [
        "\n",
        "2286200 - 2290800\n",
        "2290800 - 2295400\n",
        "2295400 - 2300000"
       ]
      },
      {
       "output_type": "stream",
       "stream": "stdout",
       "text": [
        "\n",
        "2300000 - 2304600\n",
        "2304600 - 2309200\n",
        "2309200 - 2313800"
       ]
      },
      {
       "output_type": "stream",
       "stream": "stdout",
       "text": [
        "\n",
        "2313800 - 2318400\n",
        "2318400 - 2323000\n",
        "2323000 - 2327600"
       ]
      },
      {
       "output_type": "stream",
       "stream": "stdout",
       "text": [
        "\n",
        "2327600 - 2332200\n",
        "2332200 - 2336800\n",
        "2336800 - 2341400"
       ]
      },
      {
       "output_type": "stream",
       "stream": "stdout",
       "text": [
        "\n",
        "2341400 - 2346000\n",
        "2346000 - 2350600\n",
        "2350600 - 2355200"
       ]
      },
      {
       "output_type": "stream",
       "stream": "stdout",
       "text": [
        "\n",
        "2355200 - 2359800\n",
        "2359800 - 2364400\n",
        "2364400 - 2369000"
       ]
      },
      {
       "output_type": "stream",
       "stream": "stdout",
       "text": [
        "\n",
        "2369000 - 2373600\n",
        "2373600 - 2378200\n",
        "2378200 - 2382800"
       ]
      },
      {
       "output_type": "stream",
       "stream": "stdout",
       "text": [
        "\n",
        "2382800 - 2387400\n",
        "2387400 - 2392000\n",
        "2392000 - 2396600"
       ]
      },
      {
       "output_type": "stream",
       "stream": "stdout",
       "text": [
        "\n",
        "2396600 - 2401200\n",
        "2401200 - 2405800\n",
        "2405800 - 2410400"
       ]
      },
      {
       "output_type": "stream",
       "stream": "stdout",
       "text": [
        "\n",
        "2410400 - 2415000\n",
        "2415000 - 2419600\n",
        "2419600 - 2424200"
       ]
      },
      {
       "output_type": "stream",
       "stream": "stdout",
       "text": [
        "\n",
        "2424200 - 2428800\n",
        "2428800 - 2433400\n",
        "2433400 - 2438000"
       ]
      },
      {
       "output_type": "stream",
       "stream": "stdout",
       "text": [
        "\n",
        "2438000 - 2442600\n",
        "2442600 - 2447200\n",
        "2447200 - 2451800"
       ]
      },
      {
       "output_type": "stream",
       "stream": "stdout",
       "text": [
        "\n",
        "2451800 - 2456400\n",
        "2456400 - 2461000\n",
        "2461000 - 2465600"
       ]
      },
      {
       "output_type": "stream",
       "stream": "stdout",
       "text": [
        "\n",
        "2465600 - 2470200\n",
        "2470200 - 2474800\n",
        "2474800 - 2479400"
       ]
      },
      {
       "output_type": "stream",
       "stream": "stdout",
       "text": [
        "\n",
        "2479400 - 2484000\n",
        "2484000 - 2488600\n",
        "2488600 - 2493200"
       ]
      },
      {
       "output_type": "stream",
       "stream": "stdout",
       "text": [
        "\n",
        "2493200 - 2497800\n",
        "2497800 - 2502400\n",
        "2502400 - 2507000"
       ]
      },
      {
       "output_type": "stream",
       "stream": "stdout",
       "text": [
        "\n",
        "2507000 - 2511600\n",
        "2511600 - 2516200\n",
        "2516200 - 2520800"
       ]
      },
      {
       "output_type": "stream",
       "stream": "stdout",
       "text": [
        "\n",
        "2520800 - 2525400\n",
        "2525400 - 2530000\n",
        "2530000 - 2534600"
       ]
      },
      {
       "output_type": "stream",
       "stream": "stdout",
       "text": [
        "\n",
        "2534600 - 2539200\n",
        "2539200 - 2543800\n",
        "2543800 - 2548400"
       ]
      },
      {
       "output_type": "stream",
       "stream": "stdout",
       "text": [
        "\n",
        "2548400 - 2553000\n",
        "2553000 - 2557600\n",
        "2557600 - 2562200"
       ]
      },
      {
       "output_type": "stream",
       "stream": "stdout",
       "text": [
        "\n",
        "2562200 - 2566800\n",
        "2566800 - 2571400\n",
        "2571400 - 2576000"
       ]
      },
      {
       "output_type": "stream",
       "stream": "stdout",
       "text": [
        "\n",
        "2576000 - 2580600\n",
        "2580600 - 2585200\n",
        "2585200 - 2589800"
       ]
      },
      {
       "output_type": "stream",
       "stream": "stdout",
       "text": [
        "\n",
        "2589800 - 2594400\n",
        "2594400 - 2599000\n",
        "2599000 - 2603600"
       ]
      },
      {
       "output_type": "stream",
       "stream": "stdout",
       "text": [
        "\n",
        "2603600 - 2608200\n",
        "2608200 - 2612800\n",
        "2612800 - 2617400"
       ]
      },
      {
       "output_type": "stream",
       "stream": "stdout",
       "text": [
        "\n",
        "2617400 - 2622000\n",
        "2622000 - 2626600\n",
        "2626600 - 2631200"
       ]
      },
      {
       "output_type": "stream",
       "stream": "stdout",
       "text": [
        "\n",
        "2631200 - 2635800\n",
        "2635800 - 2640400\n",
        "2640400 - 2645000"
       ]
      },
      {
       "output_type": "stream",
       "stream": "stdout",
       "text": [
        "\n",
        "2645000 - 2649600\n",
        "2649600 - 2654200\n",
        "2654200 - 2658800"
       ]
      },
      {
       "output_type": "stream",
       "stream": "stdout",
       "text": [
        "\n",
        "2658800 - 2663400\n",
        "2663400 - 2668000\n",
        "2668000 - 2672600"
       ]
      },
      {
       "output_type": "stream",
       "stream": "stdout",
       "text": [
        "\n",
        "2672600 - 2677200\n",
        "2677200 - 2681800\n",
        "2681800 - 2686400"
       ]
      },
      {
       "output_type": "stream",
       "stream": "stdout",
       "text": [
        "\n",
        "2686400 - 2691000\n",
        "2691000 - 2695600\n",
        "2695600 - 2700200"
       ]
      },
      {
       "output_type": "stream",
       "stream": "stdout",
       "text": [
        "\n",
        "2700200 - 2704800\n",
        "2704800 - 2709400\n",
        "2709400 - 2714000"
       ]
      },
      {
       "output_type": "stream",
       "stream": "stdout",
       "text": [
        "\n",
        "2714000 - 2718600\n",
        "2718600 - 2723200\n",
        "2723200 - 2727800"
       ]
      },
      {
       "output_type": "stream",
       "stream": "stdout",
       "text": [
        "\n",
        "2727800 - 2732400\n",
        "2732400 - 2737000\n",
        "2737000 - 2741600"
       ]
      },
      {
       "output_type": "stream",
       "stream": "stdout",
       "text": [
        "\n",
        "2741600 - 2746200\n",
        "2746200 - 2750800\n",
        "2750800 - 2755400"
       ]
      },
      {
       "output_type": "stream",
       "stream": "stdout",
       "text": [
        "\n",
        "2755400 - 2760000\n",
        "2760000 - 2764600\n",
        "2764600 - 2769200"
       ]
      },
      {
       "output_type": "stream",
       "stream": "stdout",
       "text": [
        "\n",
        "2769200 - 2773800\n",
        "2773800 - 2778400\n",
        "2778400 - 2783000"
       ]
      },
      {
       "output_type": "stream",
       "stream": "stdout",
       "text": [
        "\n",
        "2783000 - 2787600\n",
        "2787600 - 2792200\n",
        "2792200 - 2796800"
       ]
      },
      {
       "output_type": "stream",
       "stream": "stdout",
       "text": [
        "\n",
        "2796800 - 2801400\n",
        "2801400 - 2806000\n",
        "2806000 - 2810600"
       ]
      },
      {
       "output_type": "stream",
       "stream": "stdout",
       "text": [
        "\n",
        "2810600 - 2815200\n",
        "2815200 - 2819800\n",
        "2819800 - 2824400"
       ]
      },
      {
       "output_type": "stream",
       "stream": "stdout",
       "text": [
        "\n",
        "2824400 - 2829000\n",
        "2829000 - 2833600\n",
        "2833600 - 2838200"
       ]
      },
      {
       "output_type": "stream",
       "stream": "stdout",
       "text": [
        "\n",
        "2838200 - 2842800\n",
        "2842800 - 2847400\n",
        "2847400 - 2852000"
       ]
      },
      {
       "output_type": "stream",
       "stream": "stdout",
       "text": [
        "\n",
        "2852000 - 2856600\n",
        "2856600 - 2861200\n",
        "2861200 - 2865800"
       ]
      },
      {
       "output_type": "stream",
       "stream": "stdout",
       "text": [
        "\n",
        "2865800 - 2870400\n",
        "2870400 - 2875000\n",
        "2875000 - 2879600"
       ]
      },
      {
       "output_type": "stream",
       "stream": "stdout",
       "text": [
        "\n",
        "2879600 - 2884200\n",
        "2884200 - 2888800\n",
        "2888800 - 2893400"
       ]
      },
      {
       "output_type": "stream",
       "stream": "stdout",
       "text": [
        "\n",
        "2893400 - 2898000\n",
        "2898000 - 2902600\n",
        "2902600 - 2907200"
       ]
      },
      {
       "output_type": "stream",
       "stream": "stdout",
       "text": [
        "\n",
        "2907200 - 2911800\n",
        "2911800 - 2916400\n",
        "2916400 - 2921000"
       ]
      },
      {
       "output_type": "stream",
       "stream": "stdout",
       "text": [
        "\n",
        "2921000 - 2925600\n",
        "2925600 - 2930200\n",
        "2930200 - 2934800"
       ]
      },
      {
       "output_type": "stream",
       "stream": "stdout",
       "text": [
        "\n",
        "2934800 - 2939400\n",
        "2939400 - 2944000\n",
        "2944000 - 2948600"
       ]
      },
      {
       "output_type": "stream",
       "stream": "stdout",
       "text": [
        "\n",
        "2948600 - 2953200\n",
        "2953200 - 2957800\n",
        "2957800 - 2962400"
       ]
      },
      {
       "output_type": "stream",
       "stream": "stdout",
       "text": [
        "\n",
        "2962400 - 2967000\n",
        "2967000 - 2971600\n",
        "2971600 - 2976200"
       ]
      },
      {
       "output_type": "stream",
       "stream": "stdout",
       "text": [
        "\n",
        "2976200 - 2980800\n",
        "2980800 - 2985400\n",
        "2985400 - 2990000"
       ]
      },
      {
       "output_type": "stream",
       "stream": "stdout",
       "text": [
        "\n",
        "2990000 - 2994600\n",
        "2994600 - 2999200\n",
        "2999200 - 3003800"
       ]
      },
      {
       "output_type": "stream",
       "stream": "stdout",
       "text": [
        "\n",
        "3003800 - 3008400\n",
        "3008400 - 3013000\n",
        "3013000 - 3017600"
       ]
      },
      {
       "output_type": "stream",
       "stream": "stdout",
       "text": [
        "\n",
        "3017600 - 3022200\n",
        "3022200 - 3026800\n",
        "3026800 - 3031400"
       ]
      },
      {
       "output_type": "stream",
       "stream": "stdout",
       "text": [
        "\n",
        "3031400 - 3036000\n",
        "3036000 - 3040600\n",
        "3040600 - 3045200"
       ]
      },
      {
       "output_type": "stream",
       "stream": "stdout",
       "text": [
        "\n",
        "3045200 - 3049800\n",
        "3049800 - 3054400\n",
        "3054400 - 3059000"
       ]
      },
      {
       "output_type": "stream",
       "stream": "stdout",
       "text": [
        "\n",
        "3059000 - 3063600\n",
        "3063600 - 3068200\n",
        "3068200 - 3072800"
       ]
      },
      {
       "output_type": "stream",
       "stream": "stdout",
       "text": [
        "\n",
        "3072800 - 3077400\n",
        "3077400 - 3082000\n",
        "3082000 - 3086600"
       ]
      },
      {
       "output_type": "stream",
       "stream": "stdout",
       "text": [
        "\n",
        "3086600 - 3091200\n",
        "3091200 - 3095800\n",
        "3095800 - 3100400"
       ]
      },
      {
       "output_type": "stream",
       "stream": "stdout",
       "text": [
        "\n",
        "3100400 - 3105000\n",
        "3105000 - 3109600\n",
        "3109600 - 3114200"
       ]
      },
      {
       "output_type": "stream",
       "stream": "stdout",
       "text": [
        "\n",
        "3114200 - 3118800\n",
        "3118800 - 3123400\n",
        "3123400 - 3128000"
       ]
      },
      {
       "output_type": "stream",
       "stream": "stdout",
       "text": [
        "\n",
        "3128000 - 3132600\n",
        "3132600 - 3137200\n",
        "3137200 - 3141800"
       ]
      },
      {
       "output_type": "stream",
       "stream": "stdout",
       "text": [
        "\n",
        "3141800 - 3146400\n",
        "3146400 - 3151000\n",
        "3151000 - 3155600"
       ]
      },
      {
       "output_type": "stream",
       "stream": "stdout",
       "text": [
        "\n",
        "3155600 - 3160200\n",
        "3160200 - 3164800\n",
        "3164800 - 3169400"
       ]
      },
      {
       "output_type": "stream",
       "stream": "stdout",
       "text": [
        "\n",
        "3169400 - 3174000\n",
        "3174000 - 3178600\n",
        "3178600 - 3183200"
       ]
      },
      {
       "output_type": "stream",
       "stream": "stdout",
       "text": [
        "\n",
        "3183200 - 3187800\n",
        "3187800 - 3192400\n",
        "3192400 - 3197000"
       ]
      },
      {
       "output_type": "stream",
       "stream": "stdout",
       "text": [
        "\n",
        "3197000 - 3201600\n",
        "3201600 - 3206200\n",
        "3206200 - 3210800"
       ]
      },
      {
       "output_type": "stream",
       "stream": "stdout",
       "text": [
        "\n",
        "3210800 - 3215400\n",
        "3215400 - 3220000\n",
        "3220000 - 3224600"
       ]
      },
      {
       "output_type": "stream",
       "stream": "stdout",
       "text": [
        "\n",
        "3224600 - 3229200\n",
        "3229200 - 3233800\n",
        "3233800 - 3238400"
       ]
      },
      {
       "output_type": "stream",
       "stream": "stdout",
       "text": [
        "\n",
        "3238400 - 3243000\n",
        "3243000 - 3247600\n",
        "3247600 - 3252200"
       ]
      },
      {
       "output_type": "stream",
       "stream": "stdout",
       "text": [
        "\n",
        "3252200 - 3256800\n",
        "3256800 - 3261400\n",
        "3261400 - 3266000"
       ]
      },
      {
       "output_type": "stream",
       "stream": "stdout",
       "text": [
        "\n",
        "3266000 - 3270600\n",
        "3270600 - 3275200\n",
        "3275200 - 3279800"
       ]
      },
      {
       "output_type": "stream",
       "stream": "stdout",
       "text": [
        "\n",
        "3279800 - 3284400\n",
        "3284400 - 3289000\n",
        "3289000 - 3293600"
       ]
      },
      {
       "output_type": "stream",
       "stream": "stdout",
       "text": [
        "\n",
        "3293600 - 3298200\n",
        "3298200 - 3302800\n",
        "3302800 - 3307400"
       ]
      },
      {
       "output_type": "stream",
       "stream": "stdout",
       "text": [
        "\n",
        "3307400 - 3312000\n",
        "3312000 - 3316600\n",
        "3316600 - 3321200"
       ]
      },
      {
       "output_type": "stream",
       "stream": "stdout",
       "text": [
        "\n",
        "3321200 - 3325800\n",
        "3325800 - 3330400\n",
        "3330400 - 3335000"
       ]
      },
      {
       "output_type": "stream",
       "stream": "stdout",
       "text": [
        "\n",
        "3335000 - 3339600\n",
        "3339600 - 3344200\n",
        "3344200 - 3348800"
       ]
      },
      {
       "output_type": "stream",
       "stream": "stdout",
       "text": [
        "\n",
        "3348800 - 3353400\n",
        "3353400 - 3358000\n",
        "3358000 - 3362600"
       ]
      },
      {
       "output_type": "stream",
       "stream": "stdout",
       "text": [
        "\n",
        "3362600 - 3367200\n",
        "3367200 - 3371800\n",
        "3371800 - 3376400"
       ]
      },
      {
       "output_type": "stream",
       "stream": "stdout",
       "text": [
        "\n",
        "3376400 - 3381000\n",
        "3381000 - 3385600\n",
        "3385600 - 3390200"
       ]
      },
      {
       "output_type": "stream",
       "stream": "stdout",
       "text": [
        "\n",
        "3390200 - 3394800\n",
        "3394800 - 3399400\n",
        "3399400 - 3404000"
       ]
      },
      {
       "output_type": "stream",
       "stream": "stdout",
       "text": [
        "\n",
        "3404000 - 3408600\n",
        "3408600 - 3413200\n",
        "3413200 - 3417800"
       ]
      },
      {
       "output_type": "stream",
       "stream": "stdout",
       "text": [
        "\n",
        "3417800 - 3422400\n",
        "3422400 - 3427000\n",
        "3427000 - 3431600"
       ]
      },
      {
       "output_type": "stream",
       "stream": "stdout",
       "text": [
        "\n",
        "3431600 - 3436200\n",
        "3436200 - 3440800\n",
        "3440800 - 3445400"
       ]
      },
      {
       "output_type": "stream",
       "stream": "stdout",
       "text": [
        "\n",
        "3445400 - 3450000\n",
        "3450000 - 3454600\n",
        "3454600 - 3459200"
       ]
      },
      {
       "output_type": "stream",
       "stream": "stdout",
       "text": [
        "\n",
        "3459200 - 3463800\n",
        "3463800 - 3468400\n",
        "3468400 - 3473000"
       ]
      },
      {
       "output_type": "stream",
       "stream": "stdout",
       "text": [
        "\n",
        "3473000 - 3477600\n",
        "3477600 - 3482200\n",
        "3482200 - 3486800"
       ]
      },
      {
       "output_type": "stream",
       "stream": "stdout",
       "text": [
        "\n",
        "3486800 - 3491400\n",
        "3491400 - 3496000\n",
        "3496000 - 3500600"
       ]
      },
      {
       "output_type": "stream",
       "stream": "stdout",
       "text": [
        "\n",
        "3500600 - 3505200\n",
        "3505200 - 3509800\n",
        "3509800 - 3514400"
       ]
      },
      {
       "output_type": "stream",
       "stream": "stdout",
       "text": [
        "\n",
        "3514400 - 3519000\n",
        "3519000 - 3523600\n",
        "3523600 - 3528200"
       ]
      },
      {
       "output_type": "stream",
       "stream": "stdout",
       "text": [
        "\n",
        "3528200 - 3532800\n",
        "3532800 - 3537400\n",
        "3537400 - 3542000"
       ]
      },
      {
       "output_type": "stream",
       "stream": "stdout",
       "text": [
        "\n",
        "3542000 - 3546600\n",
        "3546600 - 3551200\n",
        "3551200 - 3555800"
       ]
      },
      {
       "output_type": "stream",
       "stream": "stdout",
       "text": [
        "\n",
        "3555800 - 3560400\n",
        "3560400 - 3565000\n",
        "3565000 - 3569600"
       ]
      },
      {
       "output_type": "stream",
       "stream": "stdout",
       "text": [
        "\n",
        "3569600 - 3574200\n",
        "3574200 - 3578800\n",
        "3578800 - 3583400"
       ]
      },
      {
       "output_type": "stream",
       "stream": "stdout",
       "text": [
        "\n",
        "3583400 - 3588000\n",
        "3588000 - 3592600\n",
        "3592600 - 3597200"
       ]
      },
      {
       "output_type": "stream",
       "stream": "stdout",
       "text": [
        "\n",
        "3597200 - 3601800\n",
        "3601800 - 3606400\n",
        "3606400 - 3611000"
       ]
      },
      {
       "output_type": "stream",
       "stream": "stdout",
       "text": [
        "\n",
        "3611000 - 3615600\n",
        "3615600 - 3620200\n",
        "3620200 - 3624800"
       ]
      },
      {
       "output_type": "stream",
       "stream": "stdout",
       "text": [
        "\n",
        "3624800 - 3629400\n",
        "3629400 - 3634000\n",
        "3634000 - 3638600"
       ]
      },
      {
       "output_type": "stream",
       "stream": "stdout",
       "text": [
        "\n",
        "3638600 - 3643200\n",
        "3643200 - 3647800\n",
        "3647800 - 3652400"
       ]
      },
      {
       "output_type": "stream",
       "stream": "stdout",
       "text": [
        "\n",
        "3652400 - 3657000\n",
        "3657000 - 3661600\n",
        "3661600 - 3666200"
       ]
      },
      {
       "output_type": "stream",
       "stream": "stdout",
       "text": [
        "\n",
        "3666200 - 3670800\n",
        "3670800 - 3675400\n",
        "3675400 - 3680000"
       ]
      },
      {
       "output_type": "stream",
       "stream": "stdout",
       "text": [
        "\n",
        "3680000 - 3684600\n",
        "3684600 - 3689200\n",
        "3689200 - 3693800"
       ]
      },
      {
       "output_type": "stream",
       "stream": "stdout",
       "text": [
        "\n",
        "3693800 - 3698400\n",
        "3698400 - 3703000\n",
        "3703000 - 3707600"
       ]
      },
      {
       "output_type": "stream",
       "stream": "stdout",
       "text": [
        "\n",
        "3707600 - 3712200\n",
        "3712200 - 3716800\n",
        "3716800 - 3721400"
       ]
      },
      {
       "output_type": "stream",
       "stream": "stdout",
       "text": [
        "\n",
        "3721400 - 3726000\n",
        "3726000 - 3730600\n",
        "3730600 - 3735200"
       ]
      },
      {
       "output_type": "stream",
       "stream": "stdout",
       "text": [
        "\n",
        "3735200 - 3739800\n",
        "3739800 - 3744400\n",
        "3744400 - 3749000"
       ]
      },
      {
       "output_type": "stream",
       "stream": "stdout",
       "text": [
        "\n",
        "3749000 - 3753600\n",
        "3753600 - 3758200\n",
        "3758200 - 3762800"
       ]
      },
      {
       "output_type": "stream",
       "stream": "stdout",
       "text": [
        "\n",
        "3762800 - 3767400\n",
        "3767400 - 3772000\n",
        "3772000 - 3776600"
       ]
      },
      {
       "output_type": "stream",
       "stream": "stdout",
       "text": [
        "\n",
        "3776600 - 3781200\n",
        "3781200 - 3785800\n",
        "3785800 - 3790400"
       ]
      },
      {
       "output_type": "stream",
       "stream": "stdout",
       "text": [
        "\n",
        "3790400 - 3795000\n",
        "3795000 - 3799600\n",
        "3799600 - 3804200"
       ]
      },
      {
       "output_type": "stream",
       "stream": "stdout",
       "text": [
        "\n",
        "3804200 - 3808800\n",
        "3808800 - 3813400\n",
        "3813400 - 3818000"
       ]
      },
      {
       "output_type": "stream",
       "stream": "stdout",
       "text": [
        "\n",
        "3818000 - 3822600\n",
        "3822600 - 3827200\n",
        "3827200 - 3831800"
       ]
      },
      {
       "output_type": "stream",
       "stream": "stdout",
       "text": [
        "\n",
        "3831800 - 3836400\n",
        "3836400 - 3841000\n",
        "3841000 - 3845600"
       ]
      },
      {
       "output_type": "stream",
       "stream": "stdout",
       "text": [
        "\n",
        "3845600 - 3850200\n",
        "3850200 - 3854800\n",
        "3854800 - 3859400"
       ]
      },
      {
       "output_type": "stream",
       "stream": "stdout",
       "text": [
        "\n",
        "3859400 - 3864000\n",
        "3864000 - 3868600\n",
        "3868600 - 3873200"
       ]
      },
      {
       "output_type": "stream",
       "stream": "stdout",
       "text": [
        "\n",
        "3873200 - 3877800\n",
        "3877800 - 3882400\n",
        "3882400 - 3887000"
       ]
      },
      {
       "output_type": "stream",
       "stream": "stdout",
       "text": [
        "\n",
        "3887000 - 3891600\n",
        "3891600 - 3896200\n",
        "3896200 - 3900800"
       ]
      },
      {
       "output_type": "stream",
       "stream": "stdout",
       "text": [
        "\n",
        "3900800 - 3905400\n",
        "3905400 - 3910000\n",
        "3910000 - 3914600"
       ]
      },
      {
       "output_type": "stream",
       "stream": "stdout",
       "text": [
        "\n",
        "3914600 - 3919200\n",
        "3919200 - 3923800\n",
        "3923800 - 3928400"
       ]
      },
      {
       "output_type": "stream",
       "stream": "stdout",
       "text": [
        "\n",
        "3928400 - 3933000\n",
        "3933000 - 3937600\n",
        "3937600 - 3942200"
       ]
      },
      {
       "output_type": "stream",
       "stream": "stdout",
       "text": [
        "\n",
        "3942200 - 3946800\n",
        "3946800 - 3951400\n",
        "3951400 - 3956000"
       ]
      },
      {
       "output_type": "stream",
       "stream": "stdout",
       "text": [
        "\n",
        "3956000 - 3960600\n",
        "3960600 - 3965200\n",
        "3965200 - 3969800"
       ]
      },
      {
       "output_type": "stream",
       "stream": "stdout",
       "text": [
        "\n",
        "3969800 - 3974400\n",
        "3974400 - 3979000\n",
        "3979000 - 3983600"
       ]
      },
      {
       "output_type": "stream",
       "stream": "stdout",
       "text": [
        "\n",
        "3983600 - 3988200\n",
        "3988200 - 3992800\n",
        "3992800 - 3997400"
       ]
      },
      {
       "output_type": "stream",
       "stream": "stdout",
       "text": [
        "\n",
        "3997400 - 4002000\n",
        "4002000 - 4006600\n",
        "4006600 - 4011200"
       ]
      },
      {
       "output_type": "stream",
       "stream": "stdout",
       "text": [
        "\n",
        "4011200 - 4015800\n",
        "4015800 - 4020400\n",
        "4020400 - 4025000"
       ]
      },
      {
       "output_type": "stream",
       "stream": "stdout",
       "text": [
        "\n",
        "4025000 - 4029600\n",
        "4029600 - 4034200\n",
        "4034200 - 4038800"
       ]
      },
      {
       "output_type": "stream",
       "stream": "stdout",
       "text": [
        "\n",
        "4038800 - 4043400\n",
        "4043400 - 4048000\n",
        "4048000 - 4052600"
       ]
      },
      {
       "output_type": "stream",
       "stream": "stdout",
       "text": [
        "\n",
        "4052600 - 4057200\n",
        "4057200 - 4061800\n",
        "4061800 - 4066400"
       ]
      },
      {
       "output_type": "stream",
       "stream": "stdout",
       "text": [
        "\n",
        "4066400 - 4071000\n",
        "4071000 - 4075600\n",
        "4075600 - 4080200"
       ]
      },
      {
       "output_type": "stream",
       "stream": "stdout",
       "text": [
        "\n",
        "4080200 - 4084800\n",
        "4084800 - 4089400\n",
        "4089400 - 4094000"
       ]
      },
      {
       "output_type": "stream",
       "stream": "stdout",
       "text": [
        "\n",
        "4094000 - 4098600\n",
        "4098600 - 4103200\n",
        "4103200 - 4107800"
       ]
      },
      {
       "output_type": "stream",
       "stream": "stdout",
       "text": [
        "\n",
        "4107800 - 4112400\n",
        "4112400 - 4117000\n",
        "4117000 - 4121600"
       ]
      },
      {
       "output_type": "stream",
       "stream": "stdout",
       "text": [
        "\n",
        "4121600 - 4126200\n",
        "4126200 - 4130800\n",
        "4130800 - 4135400"
       ]
      },
      {
       "output_type": "stream",
       "stream": "stdout",
       "text": [
        "\n",
        "4135400 - 4140000\n",
        "4140000 - 4144600\n",
        "4144600 - 4149200"
       ]
      },
      {
       "output_type": "stream",
       "stream": "stdout",
       "text": [
        "\n",
        "4149200 - 4153800\n",
        "4153800 - 4158400\n",
        "4158400 - 4163000"
       ]
      },
      {
       "output_type": "stream",
       "stream": "stdout",
       "text": [
        "\n",
        "4163000 - 4167600\n",
        "4167600 - 4172200\n",
        "4172200 - 4176800"
       ]
      },
      {
       "output_type": "stream",
       "stream": "stdout",
       "text": [
        "\n",
        "4176800 - 4181400\n",
        "4181400 - 4186000\n",
        "4186000 - 4190600"
       ]
      },
      {
       "output_type": "stream",
       "stream": "stdout",
       "text": [
        "\n",
        "4190600 - 4195200\n",
        "4195200 - 4199800\n",
        "4199800 - 4204400"
       ]
      },
      {
       "output_type": "stream",
       "stream": "stdout",
       "text": [
        "\n",
        "4204400 - 4209000\n",
        "4209000 - 4213600\n",
        "4213600 - 4218200"
       ]
      },
      {
       "output_type": "stream",
       "stream": "stdout",
       "text": [
        "\n",
        "4218200 - 4222800\n",
        "4222800 - 4227400\n",
        "4227400 - 4232000"
       ]
      },
      {
       "output_type": "stream",
       "stream": "stdout",
       "text": [
        "\n",
        "4232000 - 4236600\n",
        "4236600 - 4241200\n",
        "4241200 - 4245800"
       ]
      },
      {
       "output_type": "stream",
       "stream": "stdout",
       "text": [
        "\n",
        "4245800 - 4250400\n",
        "4250400 - 4255000\n",
        "4255000 - 4259600"
       ]
      },
      {
       "output_type": "stream",
       "stream": "stdout",
       "text": [
        "\n",
        "4259600 - 4264200\n",
        "4264200 - 4268800\n",
        "4268800 - 4273400"
       ]
      },
      {
       "output_type": "stream",
       "stream": "stdout",
       "text": [
        "\n",
        "4273400 - 4278000\n",
        "4278000 - 4282600\n",
        "4282600 - 4287200"
       ]
      },
      {
       "output_type": "stream",
       "stream": "stdout",
       "text": [
        "\n",
        "4287200 - 4291800\n",
        "4291800 - 4296400\n",
        "4296400 - 4301000"
       ]
      },
      {
       "output_type": "stream",
       "stream": "stdout",
       "text": [
        "\n",
        "4301000 - 4305600\n",
        "4305600 - 4310200\n",
        "4310200 - 4314800"
       ]
      },
      {
       "output_type": "stream",
       "stream": "stdout",
       "text": [
        "\n",
        "4314800 - 4319400\n",
        "4319400 - 4324000\n",
        "4324000 - 4328600"
       ]
      },
      {
       "output_type": "stream",
       "stream": "stdout",
       "text": [
        "\n",
        "4328600 - 4333200\n",
        "4333200 - 4337800\n",
        "4337800 - 4342400"
       ]
      },
      {
       "output_type": "stream",
       "stream": "stdout",
       "text": [
        "\n",
        "4342400 - 4347000\n",
        "4347000 - 4351600\n",
        "4351600 - 4356200"
       ]
      },
      {
       "output_type": "stream",
       "stream": "stdout",
       "text": [
        "\n",
        "4356200 - 4360800\n",
        "4360800 - 4365400\n",
        "4365400 - 4370000"
       ]
      },
      {
       "output_type": "stream",
       "stream": "stdout",
       "text": [
        "\n",
        "4370000 - 4374600\n",
        "4374600 - 4379200\n",
        "4379200 - 4383800"
       ]
      },
      {
       "output_type": "stream",
       "stream": "stdout",
       "text": [
        "\n",
        "4383800 - 4388400\n",
        "4388400 - 4393000\n",
        "4393000 - 4397600"
       ]
      },
      {
       "output_type": "stream",
       "stream": "stdout",
       "text": [
        "\n",
        "4397600 - 4402200\n",
        "4402200 - 4406800\n",
        "4406800 - 4411400"
       ]
      },
      {
       "output_type": "stream",
       "stream": "stdout",
       "text": [
        "\n",
        "4411400 - 4416000\n",
        "4416000 - 4420600\n",
        "4420600 - 4425200"
       ]
      },
      {
       "output_type": "stream",
       "stream": "stdout",
       "text": [
        "\n",
        "4425200 - 4429800\n",
        "4429800 - 4434400\n",
        "4434400 - 4439000"
       ]
      },
      {
       "output_type": "stream",
       "stream": "stdout",
       "text": [
        "\n",
        "4439000 - 4443600\n",
        "4443600 - 4448200\n",
        "4448200 - 4452800"
       ]
      },
      {
       "output_type": "stream",
       "stream": "stdout",
       "text": [
        "\n",
        "4452800 - 4457400\n",
        "4457400 - 4462000\n",
        "4462000 - 4466600"
       ]
      },
      {
       "output_type": "stream",
       "stream": "stdout",
       "text": [
        "\n",
        "4466600 - 4471200\n",
        "4471200 - 4475800\n",
        "4475800 - 4480400"
       ]
      },
      {
       "output_type": "stream",
       "stream": "stdout",
       "text": [
        "\n",
        "4480400 - 4485000\n",
        "4485000 - 4489600\n",
        "4489600 - 4494200"
       ]
      },
      {
       "output_type": "stream",
       "stream": "stdout",
       "text": [
        "\n",
        "4494200 - 4498800\n",
        "4498800 - 4503400\n",
        "4503400 - 4508000"
       ]
      },
      {
       "output_type": "stream",
       "stream": "stdout",
       "text": [
        "\n",
        "4508000 - 4512600\n",
        "4512600 - 4517200\n",
        "4517200 - 4521800"
       ]
      },
      {
       "output_type": "stream",
       "stream": "stdout",
       "text": [
        "\n",
        "4521800 - 4526400\n",
        "4526400 - 4531000\n",
        "4531000 - 4535600"
       ]
      },
      {
       "output_type": "stream",
       "stream": "stdout",
       "text": [
        "\n",
        "4535600 - 4540200\n",
        "4540200 - 4544800\n",
        "4544800 - 4549400"
       ]
      },
      {
       "output_type": "stream",
       "stream": "stdout",
       "text": [
        "\n",
        "4549400 - 4554000\n",
        "4554000 - 4558600\n",
        "4558600 - 4563200"
       ]
      },
      {
       "output_type": "stream",
       "stream": "stdout",
       "text": [
        "\n",
        "4563200 - 4567800\n",
        "4567800 - 4572400\n",
        "4572400 - 4577000"
       ]
      },
      {
       "output_type": "stream",
       "stream": "stdout",
       "text": [
        "\n",
        "4577000 - 4581600\n",
        "4581600 - 4586200\n",
        "4586200 - 4590800"
       ]
      },
      {
       "output_type": "stream",
       "stream": "stdout",
       "text": [
        "\n",
        "4590800 - 4595400\n",
        "4595400 - 4600000\n",
        "4600000 - 4604600"
       ]
      },
      {
       "output_type": "stream",
       "stream": "stdout",
       "text": [
        "\n",
        "4604600 - 4609200\n",
        "4609200 - 4613800\n",
        "4613800 - 4618400"
       ]
      },
      {
       "output_type": "stream",
       "stream": "stdout",
       "text": [
        "\n",
        "4618400 - 4623000\n",
        "4623000 - 4627600\n",
        "4627600 - 4632200"
       ]
      },
      {
       "output_type": "stream",
       "stream": "stdout",
       "text": [
        "\n",
        "4632200 - 4636800\n",
        "4636800 - 4641400\n",
        "4641400 - 4646000"
       ]
      },
      {
       "output_type": "stream",
       "stream": "stdout",
       "text": [
        "\n",
        "4646000 - 4650600\n",
        "4650600 - 4655200\n",
        "4655200 - 4659800"
       ]
      },
      {
       "output_type": "stream",
       "stream": "stdout",
       "text": [
        "\n",
        "4659800 - 4664400\n",
        "4664400 - 4669000\n",
        "4669000 - 4673600"
       ]
      },
      {
       "output_type": "stream",
       "stream": "stdout",
       "text": [
        "\n",
        "4673600 - 4678200\n",
        "4678200 - 4682800\n",
        "4682800 - 4687400"
       ]
      },
      {
       "output_type": "stream",
       "stream": "stdout",
       "text": [
        "\n",
        "4687400 - 4692000\n",
        "4692000 - 4696600\n",
        "4696600 - 4701200"
       ]
      },
      {
       "output_type": "stream",
       "stream": "stdout",
       "text": [
        "\n",
        "4701200 - 4705800\n",
        "4705800 - 4710400\n",
        "4710400 - 4715000"
       ]
      },
      {
       "output_type": "stream",
       "stream": "stdout",
       "text": [
        "\n",
        "4715000 - 4719600\n",
        "4719600 - 4724200\n",
        "4724200 - 4728800"
       ]
      },
      {
       "output_type": "stream",
       "stream": "stdout",
       "text": [
        "\n",
        "4728800 - 4733400\n",
        "4733400 - 4738000\n",
        "4738000 - 4742600"
       ]
      },
      {
       "output_type": "stream",
       "stream": "stdout",
       "text": [
        "\n",
        "4742600 - 4747200\n",
        "4747200 - 4751800\n",
        "4751800 - 4756400"
       ]
      },
      {
       "output_type": "stream",
       "stream": "stdout",
       "text": [
        "\n",
        "4756400 - 4761000\n",
        "4761000 - 4765600\n",
        "4765600 - 4770200"
       ]
      },
      {
       "output_type": "stream",
       "stream": "stdout",
       "text": [
        "\n",
        "4770200 - 4774800\n",
        "4774800 - 4779400\n",
        "4779400 - 4784000"
       ]
      },
      {
       "output_type": "stream",
       "stream": "stdout",
       "text": [
        "\n",
        "4784000 - 4788600\n",
        "4788600 - 4793200\n",
        "4793200 - 4797800"
       ]
      },
      {
       "output_type": "stream",
       "stream": "stdout",
       "text": [
        "\n",
        "4797800 - 4802400\n",
        "4802400 - 4807000\n",
        "4807000 - 4811600"
       ]
      },
      {
       "output_type": "stream",
       "stream": "stdout",
       "text": [
        "\n",
        "4811600 - 4816200\n",
        "4816200 - 4820800\n",
        "4820800 - 4825400"
       ]
      },
      {
       "output_type": "stream",
       "stream": "stdout",
       "text": [
        "\n",
        "4825400 - 4830000\n",
        "4830000 - 4834600\n",
        "4834600 - 4839200"
       ]
      },
      {
       "output_type": "stream",
       "stream": "stdout",
       "text": [
        "\n",
        "4839200 - 4843800\n",
        "4843800 - 4848400\n",
        "4848400 - 4853000"
       ]
      },
      {
       "output_type": "stream",
       "stream": "stdout",
       "text": [
        "\n",
        "4853000 - 4857600\n",
        "4857600 - 4862200\n",
        "4862200 - 4866800"
       ]
      },
      {
       "output_type": "stream",
       "stream": "stdout",
       "text": [
        "\n",
        "4866800 - 4871400\n",
        "4871400 - 4876000\n",
        "4876000 - 4880600"
       ]
      },
      {
       "output_type": "stream",
       "stream": "stdout",
       "text": [
        "\n",
        "4880600 - 4885200\n",
        "4885200 - 4889800\n",
        "4889800 - 4894400"
       ]
      },
      {
       "output_type": "stream",
       "stream": "stdout",
       "text": [
        "\n",
        "4894400 - 4899000\n",
        "4899000 - 4903600\n",
        "4903600 - 4908200"
       ]
      },
      {
       "output_type": "stream",
       "stream": "stdout",
       "text": [
        "\n",
        "4908200 - 4912800\n",
        "4912800 - 4917400\n",
        "4917400 - 4922000"
       ]
      },
      {
       "output_type": "stream",
       "stream": "stdout",
       "text": [
        "\n",
        "4922000 - 4926600\n",
        "4926600 - 4931200\n",
        "4931200 - 4935800"
       ]
      },
      {
       "output_type": "stream",
       "stream": "stdout",
       "text": [
        "\n",
        "4935800 - 4940400\n",
        "4940400 - 4945000\n",
        "4945000 - 4949600"
       ]
      },
      {
       "output_type": "stream",
       "stream": "stdout",
       "text": [
        "\n",
        "4949600 - 4954200\n",
        "4954200 - 4958800\n",
        "4958800 - 4963400"
       ]
      },
      {
       "output_type": "stream",
       "stream": "stdout",
       "text": [
        "\n",
        "4963400 - 4968000\n",
        "4968000 - 4972600\n",
        "4972600 - 4977200"
       ]
      },
      {
       "output_type": "stream",
       "stream": "stdout",
       "text": [
        "\n",
        "4977200 - 4981800\n",
        "4981800 - 4986400\n",
        "4986400 - 4991000"
       ]
      },
      {
       "output_type": "stream",
       "stream": "stdout",
       "text": [
        "\n",
        "4991000 - 4995600\n",
        "4995600 - 5000200\n",
        "5000200 - 5004800"
       ]
      },
      {
       "output_type": "stream",
       "stream": "stdout",
       "text": [
        "\n",
        "5004800 - 5009400\n",
        "5009400 - 5014000\n",
        "5014000 - 5018600"
       ]
      },
      {
       "output_type": "stream",
       "stream": "stdout",
       "text": [
        "\n",
        "5018600 - 5023200\n",
        "5023200 - 5027800\n",
        "5027800 - 5032400"
       ]
      },
      {
       "output_type": "stream",
       "stream": "stdout",
       "text": [
        "\n",
        "5032400 - 5037000\n",
        "5037000 - 5041600\n",
        "5041600 - 5046200"
       ]
      },
      {
       "output_type": "stream",
       "stream": "stdout",
       "text": [
        "\n",
        "5046200 - 5050800\n",
        "5050800 - 5055400\n",
        "5055400 - 5060000"
       ]
      },
      {
       "output_type": "stream",
       "stream": "stdout",
       "text": [
        "\n",
        "5060000 - 5064600\n",
        "5064600 - 5069200\n",
        "5069200 - 5073800"
       ]
      },
      {
       "output_type": "stream",
       "stream": "stdout",
       "text": [
        "\n",
        "5073800 - 5078400\n",
        "5078400 - 5083000\n",
        "5083000 - 5087600"
       ]
      },
      {
       "output_type": "stream",
       "stream": "stdout",
       "text": [
        "\n",
        "5087600 - 5092200\n",
        "5092200 - 5096800\n",
        "5096800 - 5101400"
       ]
      },
      {
       "output_type": "stream",
       "stream": "stdout",
       "text": [
        "\n",
        "5101400 - 5106000\n",
        "5106000 - 5110600"
       ]
      },
      {
       "output_type": "stream",
       "stream": "stdout",
       "text": [
        "\n",
        "5110600 - 5115200\n",
        "5115200 - 5119800\n",
        "5119800 - 5124400"
       ]
      },
      {
       "output_type": "stream",
       "stream": "stdout",
       "text": [
        "\n",
        "5124400 - 5129000\n",
        "5129000 - 5133600\n",
        "5133600 - 5138200"
       ]
      },
      {
       "output_type": "stream",
       "stream": "stdout",
       "text": [
        "\n",
        "5138200 - 5142800\n",
        "5142800 - 5147400\n",
        "5147400 - 5152000"
       ]
      },
      {
       "output_type": "stream",
       "stream": "stdout",
       "text": [
        "\n",
        "5152000 - 5156600\n",
        "5156600 - 5161200\n",
        "5161200 - 5165800"
       ]
      },
      {
       "output_type": "stream",
       "stream": "stdout",
       "text": [
        "\n",
        "5165800 - 5170400\n",
        "5170400 - 5175000\n",
        "5175000 - 5179600"
       ]
      },
      {
       "output_type": "stream",
       "stream": "stdout",
       "text": [
        "\n",
        "5179600 - 5184200\n",
        "5184200 - 5188800\n",
        "5188800 - 5193400"
       ]
      },
      {
       "output_type": "stream",
       "stream": "stdout",
       "text": [
        "\n",
        "5193400 - 5198000\n",
        "5198000 - 5202600\n",
        "5202600 - 5207200"
       ]
      },
      {
       "output_type": "stream",
       "stream": "stdout",
       "text": [
        "\n",
        "5207200 - 5211800\n",
        "5211800 - 5216400\n",
        "5216400 - 5221000"
       ]
      },
      {
       "output_type": "stream",
       "stream": "stdout",
       "text": [
        "\n",
        "5221000 - 5225600\n",
        "5225600 - 5230200\n",
        "5230200 - 5234800"
       ]
      },
      {
       "output_type": "stream",
       "stream": "stdout",
       "text": [
        "\n",
        "5234800 - 5239400\n",
        "5239400 - 5244000"
       ]
      },
      {
       "output_type": "stream",
       "stream": "stdout",
       "text": [
        "\n",
        "5244000 - 5248600\n",
        "5248600 - 5253200"
       ]
      },
      {
       "output_type": "stream",
       "stream": "stdout",
       "text": [
        "\n",
        "5253200 - 5257800\n",
        "5257800 - 5262400"
       ]
      },
      {
       "output_type": "stream",
       "stream": "stdout",
       "text": [
        "\n",
        "5262400 - 5267000\n",
        "5267000 - 5271600\n",
        "5271600 - 5276200"
       ]
      },
      {
       "output_type": "stream",
       "stream": "stdout",
       "text": [
        "\n",
        "5276200 - 5280800\n",
        "5280800 - 5285400\n",
        "5285400 - 5290000"
       ]
      },
      {
       "output_type": "stream",
       "stream": "stdout",
       "text": [
        "\n",
        "5290000 - 5294600\n",
        "5294600 - 5299200\n",
        "5299200 - 5303800"
       ]
      },
      {
       "output_type": "stream",
       "stream": "stdout",
       "text": [
        "\n",
        "5303800 - 5308400\n",
        "5308400 - 5313000"
       ]
      },
      {
       "output_type": "stream",
       "stream": "stdout",
       "text": [
        "\n",
        "5313000 - 5317600\n",
        "5317600 - 5322200\n",
        "5322200 - 5326800"
       ]
      },
      {
       "output_type": "stream",
       "stream": "stdout",
       "text": [
        "\n",
        "5326800 - 5331400\n",
        "5331400 - 5336000\n",
        "5336000 - 5340600"
       ]
      },
      {
       "output_type": "stream",
       "stream": "stdout",
       "text": [
        "\n",
        "5340600 - 5345200\n",
        "5345200 - 5349800\n",
        "5349800 - 5354400"
       ]
      },
      {
       "output_type": "stream",
       "stream": "stdout",
       "text": [
        "\n",
        "5354400 - 5359000\n",
        "5359000 - 5363600\n",
        "5363600 - 5368200"
       ]
      },
      {
       "output_type": "stream",
       "stream": "stdout",
       "text": [
        "\n",
        "5368200 - 5372800\n",
        "5372800 - 5377400\n",
        "5377400 - 5382000"
       ]
      },
      {
       "output_type": "stream",
       "stream": "stdout",
       "text": [
        "\n",
        "5382000 - 5386600\n",
        "5386600 - 5391200\n",
        "5391200 - 5395800"
       ]
      },
      {
       "output_type": "stream",
       "stream": "stdout",
       "text": [
        "\n",
        "5395800 - 5400400\n",
        "5400400 - 5405000\n",
        "5405000 - 5409600"
       ]
      },
      {
       "output_type": "stream",
       "stream": "stdout",
       "text": [
        "\n",
        "5409600 - 5414200\n",
        "5414200 - 5418800\n",
        "5418800 - 5423400"
       ]
      },
      {
       "output_type": "stream",
       "stream": "stdout",
       "text": [
        "\n",
        "5423400 - 5428000\n",
        "5428000 - 5432600\n",
        "5432600 - 5437200"
       ]
      },
      {
       "output_type": "stream",
       "stream": "stdout",
       "text": [
        "\n",
        "5437200 - 5441800\n",
        "5441800 - 5446400"
       ]
      },
      {
       "output_type": "stream",
       "stream": "stdout",
       "text": [
        "\n",
        "5446400 - 5451000\n",
        "5451000 - 5455600"
       ]
      },
      {
       "output_type": "stream",
       "stream": "stdout",
       "text": [
        "\n",
        "5455600 - 5460200\n",
        "5460200 - 5464800"
       ]
      },
      {
       "output_type": "stream",
       "stream": "stdout",
       "text": [
        "\n",
        "5464800 - 5469400\n",
        "5469400 - 5474000"
       ]
      },
      {
       "output_type": "stream",
       "stream": "stdout",
       "text": [
        "\n",
        "5474000 - 5478600\n",
        "5478600 - 5483200\n",
        "5483200 - 5487800"
       ]
      },
      {
       "output_type": "stream",
       "stream": "stdout",
       "text": [
        "\n",
        "5487800 - 5492400\n",
        "5492400 - 5497000\n",
        "5497000 - 5501600"
       ]
      },
      {
       "output_type": "stream",
       "stream": "stdout",
       "text": [
        "\n",
        "5501600 - 5506200\n",
        "5506200 - 5510800\n",
        "5510800 - 5515400"
       ]
      },
      {
       "output_type": "stream",
       "stream": "stdout",
       "text": [
        "\n",
        "5515400 - 5520000\n",
        "5520000 - 5524600\n",
        "5524600 - 5529200"
       ]
      },
      {
       "output_type": "stream",
       "stream": "stdout",
       "text": [
        "\n",
        "5529200 - 5533800\n",
        "5533800 - 5538400\n",
        "5538400 - 5543000"
       ]
      },
      {
       "output_type": "stream",
       "stream": "stdout",
       "text": [
        "\n",
        "5543000 - 5547600\n",
        "5547600 - 5552200\n",
        "5552200 - 5556800"
       ]
      },
      {
       "output_type": "stream",
       "stream": "stdout",
       "text": [
        "\n",
        "5556800 - 5561400\n",
        "5561400 - 5566000\n",
        "5566000 - 5570600"
       ]
      },
      {
       "output_type": "stream",
       "stream": "stdout",
       "text": [
        "\n",
        "5570600 - 5575200\n",
        "5575200 - 5579800"
       ]
      },
      {
       "output_type": "stream",
       "stream": "stdout",
       "text": [
        "\n",
        "5579800 - 5584400\n",
        "5584400 - 5589000\n",
        "5589000 - 5593600"
       ]
      },
      {
       "output_type": "stream",
       "stream": "stdout",
       "text": [
        "\n",
        "5593600 - 5598200\n",
        "5598200 - 5602800\n",
        "5602800 - 5607400"
       ]
      },
      {
       "output_type": "stream",
       "stream": "stdout",
       "text": [
        "\n",
        "5607400 - 5612000\n",
        "5612000 - 5616600\n",
        "5616600 - 5621200"
       ]
      },
      {
       "output_type": "stream",
       "stream": "stdout",
       "text": [
        "\n",
        "5621200 - 5625800\n",
        "5625800 - 5630400\n",
        "5630400 - 5635000"
       ]
      },
      {
       "output_type": "stream",
       "stream": "stdout",
       "text": [
        "\n",
        "5635000 - 5639600\n",
        "5639600 - 5644200\n",
        "5644200 - 5648800"
       ]
      },
      {
       "output_type": "stream",
       "stream": "stdout",
       "text": [
        "\n",
        "5648800 - 5653400\n",
        "5653400 - 5658000\n",
        "5658000 - 5662600"
       ]
      },
      {
       "output_type": "stream",
       "stream": "stdout",
       "text": [
        "\n",
        "5662600 - 5667200\n",
        "5667200 - 5671800\n",
        "5671800 - 5676400"
       ]
      },
      {
       "output_type": "stream",
       "stream": "stdout",
       "text": [
        "\n",
        "5676400 - 5681000\n",
        "5681000 - 5685600\n",
        "5685600 - 5690200"
       ]
      },
      {
       "output_type": "stream",
       "stream": "stdout",
       "text": [
        "\n",
        "5690200 - 5694800\n",
        "5694800 - 5699400\n",
        "5699400 - 5704000"
       ]
      },
      {
       "output_type": "stream",
       "stream": "stdout",
       "text": [
        "\n",
        "5704000 - 5708600\n",
        "5708600 - 5713200"
       ]
      },
      {
       "output_type": "stream",
       "stream": "stdout",
       "text": [
        "\n",
        "5713200 - 5717800\n",
        "5717800 - 5722400\n",
        "5722400 - 5727000"
       ]
      },
      {
       "output_type": "stream",
       "stream": "stdout",
       "text": [
        "\n",
        "5727000 - 5731600\n",
        "5731600 - 5736200\n",
        "5736200 - 5740800"
       ]
      },
      {
       "output_type": "stream",
       "stream": "stdout",
       "text": [
        "\n",
        "5740800 - 5745400\n",
        "5745400 - 5750000\n",
        "5750000 - 5754600"
       ]
      },
      {
       "output_type": "stream",
       "stream": "stdout",
       "text": [
        "\n",
        "5754600 - 5759200\n",
        "5759200 - 5763800\n",
        "5763800 - 5768400"
       ]
      },
      {
       "output_type": "stream",
       "stream": "stdout",
       "text": [
        "\n",
        "5768400 - 5773000\n",
        "5773000 - 5777600\n",
        "5777600 - 5782200"
       ]
      },
      {
       "output_type": "stream",
       "stream": "stdout",
       "text": [
        "\n",
        "5782200 - 5786800\n",
        "5786800 - 5791400\n",
        "5791400 - 5796000"
       ]
      },
      {
       "output_type": "stream",
       "stream": "stdout",
       "text": [
        "\n",
        "5796000 - 5800600\n",
        "5800600 - 5805200\n",
        "5805200 - 5809800"
       ]
      },
      {
       "output_type": "stream",
       "stream": "stdout",
       "text": [
        "\n",
        "5809800 - 5814400\n",
        "5814400 - 5819000\n",
        "5819000 - 5823600"
       ]
      },
      {
       "output_type": "stream",
       "stream": "stdout",
       "text": [
        "\n",
        "5823600 - 5828200\n",
        "5828200 - 5832800\n",
        "5832800 - 5837400"
       ]
      },
      {
       "output_type": "stream",
       "stream": "stdout",
       "text": [
        "\n",
        "5837400 - 5842000\n",
        "5842000 - 5846600\n",
        "5846600 - 5851200"
       ]
      },
      {
       "output_type": "stream",
       "stream": "stdout",
       "text": [
        "\n",
        "5851200 - 5855800\n",
        "5855800 - 5860400\n",
        "5860400 - 5865000"
       ]
      },
      {
       "output_type": "stream",
       "stream": "stdout",
       "text": [
        "\n",
        "5865000 - 5869600\n",
        "5869600 - 5874200\n",
        "5874200 - 5878800"
       ]
      },
      {
       "output_type": "stream",
       "stream": "stdout",
       "text": [
        "\n",
        "5878800 - 5883400\n",
        "5883400 - 5888000"
       ]
      },
      {
       "output_type": "stream",
       "stream": "stdout",
       "text": [
        "\n",
        "5888000 - 5892600\n",
        "5892600 - 5897200\n",
        "5897200 - 5901800"
       ]
      },
      {
       "output_type": "stream",
       "stream": "stdout",
       "text": [
        "\n",
        "5901800 - 5906400\n",
        "5906400 - 5911000\n",
        "5911000 - 5915600"
       ]
      },
      {
       "output_type": "stream",
       "stream": "stdout",
       "text": [
        "\n",
        "5915600 - 5920200\n",
        "5920200 - 5924800\n",
        "5924800 - 5929400"
       ]
      },
      {
       "output_type": "stream",
       "stream": "stdout",
       "text": [
        "\n",
        "5929400 - 5934000\n",
        "5934000 - 5938600\n",
        "5938600 - 5943200"
       ]
      },
      {
       "output_type": "stream",
       "stream": "stdout",
       "text": [
        "\n",
        "5943200 - 5947800\n",
        "5947800 - 5952400\n",
        "5952400 - 5957000"
       ]
      },
      {
       "output_type": "stream",
       "stream": "stdout",
       "text": [
        "\n",
        "5957000 - 5961600\n",
        "5961600 - 5966200\n",
        "5966200 - 5970800"
       ]
      },
      {
       "output_type": "stream",
       "stream": "stdout",
       "text": [
        "\n",
        "5970800 - 5975400\n",
        "5975400 - 5980000\n",
        "5980000 - 5984600"
       ]
      },
      {
       "output_type": "stream",
       "stream": "stdout",
       "text": [
        "\n",
        "5984600 - 5989200\n",
        "5989200 - 5993800\n",
        "5993800 - 5998400"
       ]
      },
      {
       "output_type": "stream",
       "stream": "stdout",
       "text": [
        "\n",
        "5998400 - 6003000\n",
        "6003000 - 6007600\n",
        "6007600 - 6012200"
       ]
      },
      {
       "output_type": "stream",
       "stream": "stdout",
       "text": [
        "\n",
        "6012200 - 6016800\n",
        "6016800 - 6021400\n",
        "6021400 - 6026000"
       ]
      },
      {
       "output_type": "stream",
       "stream": "stdout",
       "text": [
        "\n",
        "6026000 - 6030600\n",
        "6030600 - 6035200\n",
        "6035200 - 6039800"
       ]
      },
      {
       "output_type": "stream",
       "stream": "stdout",
       "text": [
        "\n",
        "6039800 - 6044400\n",
        "6044400 - 6049000\n",
        "6049000 - 6053600"
       ]
      },
      {
       "output_type": "stream",
       "stream": "stdout",
       "text": [
        "\n",
        "6053600 - 6058200\n",
        "6058200 - 6062800"
       ]
      },
      {
       "output_type": "stream",
       "stream": "stdout",
       "text": [
        "\n",
        "6062800 - 6067400\n",
        "6067400 - 6072000\n",
        "6072000 - 6076600"
       ]
      },
      {
       "output_type": "stream",
       "stream": "stdout",
       "text": [
        "\n",
        "6076600 - 6081200\n",
        "6081200 - 6085800\n",
        "6085800 - 6090400"
       ]
      },
      {
       "output_type": "stream",
       "stream": "stdout",
       "text": [
        "\n",
        "6090400 - 6095000\n",
        "6095000 - 6099600\n",
        "6099600 - 6104200"
       ]
      },
      {
       "output_type": "stream",
       "stream": "stdout",
       "text": [
        "\n",
        "6104200 - 6108800\n",
        "6108800 - 6113400\n",
        "6113400 - 6118000"
       ]
      },
      {
       "output_type": "stream",
       "stream": "stdout",
       "text": [
        "\n",
        "6118000 - 6122600\n",
        "6122600 - 6127200\n",
        "6127200 - 6131800"
       ]
      },
      {
       "output_type": "stream",
       "stream": "stdout",
       "text": [
        "\n",
        "6131800 - 6136400\n",
        "6136400 - 6141000\n",
        "6141000 - 6145600"
       ]
      },
      {
       "output_type": "stream",
       "stream": "stdout",
       "text": [
        "\n",
        "6145600 - 6150200\n",
        "6150200 - 6154800\n",
        "6154800 - 6159400"
       ]
      },
      {
       "output_type": "stream",
       "stream": "stdout",
       "text": [
        "\n",
        "6159400 - 6164000\n",
        "6164000 - 6168600\n",
        "6168600 - 6173200"
       ]
      },
      {
       "output_type": "stream",
       "stream": "stdout",
       "text": [
        "\n",
        "6173200 - 6177800\n",
        "6177800 - 6182400\n",
        "6182400 - 6187000"
       ]
      },
      {
       "output_type": "stream",
       "stream": "stdout",
       "text": [
        "\n",
        "6187000 - 6191600\n",
        "6191600 - 6196200\n",
        "6196200 - 6200800"
       ]
      },
      {
       "output_type": "stream",
       "stream": "stdout",
       "text": [
        "\n",
        "6200800 - 6205400\n",
        "6205400 - 6210000"
       ]
      },
      {
       "output_type": "stream",
       "stream": "stdout",
       "text": [
        "\n",
        "6210000 - 6214600\n",
        "6214600 - 6219200"
       ]
      },
      {
       "output_type": "stream",
       "stream": "stdout",
       "text": [
        "\n",
        "6219200 - 6223800\n",
        "6223800 - 6228400\n",
        "6228400 - 6233000"
       ]
      },
      {
       "output_type": "stream",
       "stream": "stdout",
       "text": [
        "\n",
        "6233000 - 6237600\n",
        "6237600 - 6242200\n",
        "6242200 - 6246800"
       ]
      },
      {
       "output_type": "stream",
       "stream": "stdout",
       "text": [
        "\n",
        "6246800 - 6251400\n",
        "6251400 - 6256000\n",
        "6256000 - 6260600"
       ]
      },
      {
       "output_type": "stream",
       "stream": "stdout",
       "text": [
        "\n",
        "6260600 - 6265200\n",
        "6265200 - 6269800\n",
        "6269800 - 6274400"
       ]
      },
      {
       "output_type": "stream",
       "stream": "stdout",
       "text": [
        "\n",
        "6274400 - 6279000\n",
        "6279000 - 6283600\n",
        "6283600 - 6288200"
       ]
      },
      {
       "output_type": "stream",
       "stream": "stdout",
       "text": [
        "\n",
        "6288200 - 6292800\n",
        "6292800 - 6297400"
       ]
      },
      {
       "output_type": "stream",
       "stream": "stdout",
       "text": [
        "\n",
        "6297400 - 6302000\n",
        "6302000 - 6306600\n",
        "6306600 - 6311200"
       ]
      },
      {
       "output_type": "stream",
       "stream": "stdout",
       "text": [
        "\n",
        "6311200 - 6315800\n",
        "6315800 - 6320400\n",
        "6320400 - 6325000"
       ]
      },
      {
       "output_type": "stream",
       "stream": "stdout",
       "text": [
        "\n",
        "6325000 - 6329600\n",
        "6329600 - 6334200\n",
        "6334200 - 6338800"
       ]
      },
      {
       "output_type": "stream",
       "stream": "stdout",
       "text": [
        "\n",
        "6338800 - 6343400\n",
        "6343400 - 6348000\n",
        "6348000 - 6352600"
       ]
      },
      {
       "output_type": "stream",
       "stream": "stdout",
       "text": [
        "\n",
        "6352600 - 6357200\n",
        "6357200 - 6361800"
       ]
      },
      {
       "output_type": "stream",
       "stream": "stdout",
       "text": [
        "\n",
        "6361800 - 6366400\n",
        "6366400 - 6371000"
       ]
      },
      {
       "output_type": "stream",
       "stream": "stdout",
       "text": [
        "\n",
        "6371000 - 6375600\n",
        "6375600 - 6380200\n",
        "6380200 - 6384800"
       ]
      },
      {
       "output_type": "stream",
       "stream": "stdout",
       "text": [
        "\n",
        "6384800 - 6389400\n",
        "6389400 - 6394000"
       ]
      },
      {
       "output_type": "stream",
       "stream": "stdout",
       "text": [
        "\n",
        "6394000 - 6398600\n",
        "6398600 - 6403200"
       ]
      },
      {
       "output_type": "stream",
       "stream": "stdout",
       "text": [
        "\n",
        "6403200 - 6407800\n",
        "6407800 - 6412400"
       ]
      },
      {
       "output_type": "stream",
       "stream": "stdout",
       "text": [
        "\n",
        "6412400 - 6417000\n",
        "6417000 - 6421600\n",
        "6421600 - 6426200"
       ]
      },
      {
       "output_type": "stream",
       "stream": "stdout",
       "text": [
        "\n",
        "6426200 - 6430800\n",
        "6430800 - 6435400"
       ]
      },
      {
       "output_type": "stream",
       "stream": "stdout",
       "text": [
        "\n",
        "6435400 - 6440000\n",
        "6440000 - 6444600"
       ]
      },
      {
       "output_type": "stream",
       "stream": "stdout",
       "text": [
        "\n",
        "6444600 - 6449200\n",
        "6449200 - 6453800"
       ]
      },
      {
       "output_type": "stream",
       "stream": "stdout",
       "text": [
        "\n",
        "6453800 - 6458400\n",
        "6458400 - 6463000"
       ]
      },
      {
       "output_type": "stream",
       "stream": "stdout",
       "text": [
        "\n",
        "6463000 - 6467600\n",
        "6467600 - 6472200\n",
        "6472200 - 6476800"
       ]
      },
      {
       "output_type": "stream",
       "stream": "stdout",
       "text": [
        "\n",
        "6476800 - 6481400\n",
        "6481400 - 6486000"
       ]
      },
      {
       "output_type": "stream",
       "stream": "stdout",
       "text": [
        "\n",
        "6486000 - 6490600\n",
        "6490600 - 6495200"
       ]
      },
      {
       "output_type": "stream",
       "stream": "stdout",
       "text": [
        "\n",
        "6495200 - 6499800\n",
        "6499800 - 6504400"
       ]
      },
      {
       "output_type": "stream",
       "stream": "stdout",
       "text": [
        "\n",
        "6504400 - 6509000\n",
        "6509000 - 6513600"
       ]
      },
      {
       "output_type": "stream",
       "stream": "stdout",
       "text": [
        "\n",
        "6513600 - 6518200\n",
        "6518200 - 6522800"
       ]
      },
      {
       "output_type": "stream",
       "stream": "stdout",
       "text": [
        "\n",
        "6522800 - 6527400\n",
        "6527400 - 6532000"
       ]
      },
      {
       "output_type": "stream",
       "stream": "stdout",
       "text": [
        "\n",
        "6532000 - 6536600\n",
        "6536600 - 6541200"
       ]
      },
      {
       "output_type": "stream",
       "stream": "stdout",
       "text": [
        "\n",
        "6541200 - 6545800\n",
        "6545800 - 6550400"
       ]
      },
      {
       "output_type": "stream",
       "stream": "stdout",
       "text": [
        "\n",
        "6550400 - 6555000\n",
        "6555000 - 6559600"
       ]
      },
      {
       "output_type": "stream",
       "stream": "stdout",
       "text": [
        "\n",
        "6559600 - 6564200\n",
        "6564200 - 6568800"
       ]
      },
      {
       "output_type": "stream",
       "stream": "stdout",
       "text": [
        "\n",
        "6568800 - 6573400\n",
        "6573400 - 6578000"
       ]
      },
      {
       "output_type": "stream",
       "stream": "stdout",
       "text": [
        "\n",
        "6578000 - 6582600\n",
        "6582600 - 6587200\n",
        "6587200 - 6591800"
       ]
      },
      {
       "output_type": "stream",
       "stream": "stdout",
       "text": [
        "\n",
        "6591800 - 6596400\n",
        "6596400 - 6601000"
       ]
      },
      {
       "output_type": "stream",
       "stream": "stdout",
       "text": [
        "\n",
        "6601000 - 6605600\n",
        "6605600 - 6610200"
       ]
      },
      {
       "output_type": "stream",
       "stream": "stdout",
       "text": [
        "\n",
        "6610200 - 6614800\n",
        "6614800 - 6619400"
       ]
      },
      {
       "output_type": "stream",
       "stream": "stdout",
       "text": [
        "\n",
        "6619400 - 6624000\n",
        "6624000 - 6628600"
       ]
      },
      {
       "output_type": "stream",
       "stream": "stdout",
       "text": [
        "\n",
        "6628600 - 6633200\n",
        "6633200 - 6637800"
       ]
      },
      {
       "output_type": "stream",
       "stream": "stdout",
       "text": [
        "\n",
        "6637800 - 6642400\n",
        "6642400 - 6647000"
       ]
      },
      {
       "output_type": "stream",
       "stream": "stdout",
       "text": [
        "\n",
        "6647000 - 6651600\n",
        "6651600 - 6656200"
       ]
      },
      {
       "output_type": "stream",
       "stream": "stdout",
       "text": [
        "\n",
        "6656200 - 6660800\n",
        "6660800 - 6665400"
       ]
      },
      {
       "output_type": "stream",
       "stream": "stdout",
       "text": [
        "\n",
        "6665400 - 6670000\n",
        "6670000 - 6674600"
       ]
      },
      {
       "output_type": "stream",
       "stream": "stdout",
       "text": [
        "\n",
        "6674600 - 6679200\n",
        "6679200 - 6683800"
       ]
      },
      {
       "output_type": "stream",
       "stream": "stdout",
       "text": [
        "\n",
        "6683800 - 6688400\n",
        "6688400 - 6693000"
       ]
      },
      {
       "output_type": "stream",
       "stream": "stdout",
       "text": [
        "\n",
        "6693000 - 6697600\n",
        "6697600 - 6702200"
       ]
      },
      {
       "output_type": "stream",
       "stream": "stdout",
       "text": [
        "\n",
        "6702200 - 6706800\n",
        "6706800 - 6711400"
       ]
      },
      {
       "output_type": "stream",
       "stream": "stdout",
       "text": [
        "\n",
        "6711400 - 6716000\n",
        "6716000 - 6720600"
       ]
      },
      {
       "output_type": "stream",
       "stream": "stdout",
       "text": [
        "\n",
        "6720600 - 6725200\n",
        "6725200 - 6729800"
       ]
      },
      {
       "output_type": "stream",
       "stream": "stdout",
       "text": [
        "\n",
        "6729800 - 6734400\n",
        "6734400 - 6739000"
       ]
      },
      {
       "output_type": "stream",
       "stream": "stdout",
       "text": [
        "\n",
        "6739000 - 6743600\n",
        "6743600 - 6748200"
       ]
      },
      {
       "output_type": "stream",
       "stream": "stdout",
       "text": [
        "\n",
        "6748200 - 6752800\n",
        "6752800 - 6757400"
       ]
      },
      {
       "output_type": "stream",
       "stream": "stdout",
       "text": [
        "\n",
        "6757400 - 6762000\n",
        "6762000 - 6766600"
       ]
      },
      {
       "output_type": "stream",
       "stream": "stdout",
       "text": [
        "\n",
        "6766600 - 6771200\n",
        "6771200 - 6775800"
       ]
      },
      {
       "output_type": "stream",
       "stream": "stdout",
       "text": [
        "\n",
        "6775800 - 6780400\n",
        "6780400 - 6785000"
       ]
      },
      {
       "output_type": "stream",
       "stream": "stdout",
       "text": [
        "\n",
        "6785000 - 6789600\n",
        "6789600 - 6794200"
       ]
      },
      {
       "output_type": "stream",
       "stream": "stdout",
       "text": [
        "\n",
        "6794200 - 6798800\n",
        "6798800 - 6803400\n",
        "6803400 - 6808000"
       ]
      },
      {
       "output_type": "stream",
       "stream": "stdout",
       "text": [
        "\n",
        "6808000 - 6812600\n",
        "6812600 - 6817200\n",
        "6817200 - 6821800"
       ]
      },
      {
       "output_type": "stream",
       "stream": "stdout",
       "text": [
        "\n",
        "6821800 - 6826400\n",
        "6826400 - 6831000\n",
        "6831000 - 6835600"
       ]
      },
      {
       "output_type": "stream",
       "stream": "stdout",
       "text": [
        "\n",
        "6835600 - 6840200\n",
        "6840200 - 6844800"
       ]
      },
      {
       "output_type": "stream",
       "stream": "stdout",
       "text": [
        "\n",
        "6844800 - 6849400\n",
        "6849400 - 6854000"
       ]
      },
      {
       "output_type": "stream",
       "stream": "stdout",
       "text": [
        "\n",
        "6854000 - 6858600\n",
        "6858600 - 6863200\n",
        "6863200 - 6867800"
       ]
      },
      {
       "output_type": "stream",
       "stream": "stdout",
       "text": [
        "\n",
        "6867800 - 6872400\n",
        "6872400 - 6877000\n",
        "6877000 - 6881600"
       ]
      },
      {
       "output_type": "stream",
       "stream": "stdout",
       "text": [
        "\n",
        "6881600 - 6886200\n",
        "6886200 - 6890800"
       ]
      },
      {
       "output_type": "stream",
       "stream": "stdout",
       "text": [
        "\n",
        "6890800 - 6895400\n",
        "6895400 - 6900000\n",
        "6900000 - 6904600"
       ]
      },
      {
       "output_type": "stream",
       "stream": "stdout",
       "text": [
        "\n",
        "6904600 - 6909200\n",
        "6909200 - 6913800\n",
        "6913800 - 6918400"
       ]
      },
      {
       "output_type": "stream",
       "stream": "stdout",
       "text": [
        "\n",
        "6918400 - 6923000\n",
        "6923000 - 6927600"
       ]
      },
      {
       "output_type": "stream",
       "stream": "stdout",
       "text": [
        "\n",
        "6927600 - 6932200\n",
        "6932200 - 6936800\n",
        "6936800 - 6941400"
       ]
      },
      {
       "output_type": "stream",
       "stream": "stdout",
       "text": [
        "\n",
        "6941400 - 6946000\n",
        "6946000 - 6950600"
       ]
      },
      {
       "output_type": "stream",
       "stream": "stdout",
       "text": [
        "\n",
        "6950600 - 6955200\n",
        "6955200 - 6959800"
       ]
      },
      {
       "output_type": "stream",
       "stream": "stdout",
       "text": [
        "\n",
        "6959800 - 6964400\n",
        "6964400 - 6969000"
       ]
      },
      {
       "output_type": "stream",
       "stream": "stdout",
       "text": [
        "\n",
        "6969000 - 6973600\n",
        "6973600 - 6978200\n",
        "6978200 - 6982800"
       ]
      },
      {
       "output_type": "stream",
       "stream": "stdout",
       "text": [
        "\n",
        "6982800 - 6987400\n",
        "6987400 - 6992000"
       ]
      },
      {
       "output_type": "stream",
       "stream": "stdout",
       "text": [
        "\n",
        "6992000 - 6996600\n",
        "6996600 - 7001200"
       ]
      },
      {
       "output_type": "stream",
       "stream": "stdout",
       "text": [
        "\n",
        "7001200 - 7005800\n",
        "7005800 - 7010400"
       ]
      },
      {
       "output_type": "stream",
       "stream": "stdout",
       "text": [
        "\n",
        "7010400 - 7015000\n",
        "7015000 - 7019600"
       ]
      },
      {
       "output_type": "stream",
       "stream": "stdout",
       "text": [
        "\n",
        "7019600 - 7024200\n",
        "7024200 - 7028800"
       ]
      },
      {
       "output_type": "stream",
       "stream": "stdout",
       "text": [
        "\n",
        "7028800 - 7033400\n",
        "7033400 - 7038000"
       ]
      },
      {
       "output_type": "stream",
       "stream": "stdout",
       "text": [
        "\n",
        "7038000 - 7042600\n",
        "7042600 - 7047200"
       ]
      },
      {
       "output_type": "stream",
       "stream": "stdout",
       "text": [
        "\n",
        "7047200 - 7051800\n",
        "7051800 - 7056400"
       ]
      },
      {
       "output_type": "stream",
       "stream": "stdout",
       "text": [
        "\n",
        "7056400 - 7061000\n",
        "7061000 - 7065600\n",
        "7065600 - 7070200"
       ]
      },
      {
       "output_type": "stream",
       "stream": "stdout",
       "text": [
        "\n",
        "7070200 - 7074800\n",
        "7074800 - 7079400\n",
        "7079400 - 7084000"
       ]
      },
      {
       "output_type": "stream",
       "stream": "stdout",
       "text": [
        "\n",
        "7084000 - 7088600\n",
        "7088600 - 7093200\n",
        "7093200 - 7097800"
       ]
      },
      {
       "output_type": "stream",
       "stream": "stdout",
       "text": [
        "\n",
        "7097800 - 7102400\n",
        "7102400 - 7107000\n",
        "7107000 - 7111600"
       ]
      },
      {
       "output_type": "stream",
       "stream": "stdout",
       "text": [
        "\n",
        "7111600 - 7116200\n",
        "7116200 - 7120800"
       ]
      },
      {
       "output_type": "stream",
       "stream": "stdout",
       "text": [
        "\n",
        "7120800 - 7125400\n",
        "7125400 - 7130000\n",
        "7130000 - 7134600"
       ]
      },
      {
       "output_type": "stream",
       "stream": "stdout",
       "text": [
        "\n",
        "7134600 - 7139200\n",
        "7139200 - 7143800"
       ]
      },
      {
       "output_type": "stream",
       "stream": "stdout",
       "text": [
        "\n",
        "7143800 - 7148400\n",
        "7148400 - 7153000\n",
        "7153000 - 7157600"
       ]
      },
      {
       "output_type": "stream",
       "stream": "stdout",
       "text": [
        "\n",
        "7157600 - 7162200\n",
        "7162200 - 7166800"
       ]
      },
      {
       "output_type": "stream",
       "stream": "stdout",
       "text": [
        "\n",
        "7166800 - 7171400\n",
        "7171400 - 7176000"
       ]
      },
      {
       "output_type": "stream",
       "stream": "stdout",
       "text": [
        "\n",
        "7176000 - 7180600\n",
        "7180600 - 7185200"
       ]
      },
      {
       "output_type": "stream",
       "stream": "stdout",
       "text": [
        "\n",
        "7185200 - 7189800\n",
        "7189800 - 7194400"
       ]
      },
      {
       "output_type": "stream",
       "stream": "stdout",
       "text": [
        "\n",
        "7194400 - 7199000\n",
        "7199000 - 7203600"
       ]
      },
      {
       "output_type": "stream",
       "stream": "stdout",
       "text": [
        "\n",
        "7203600 - 7208200\n",
        "7208200 - 7212800"
       ]
      },
      {
       "output_type": "stream",
       "stream": "stdout",
       "text": [
        "\n",
        "7212800 - 7217400\n",
        "7217400 - 7222000"
       ]
      },
      {
       "output_type": "stream",
       "stream": "stdout",
       "text": [
        "\n",
        "7222000 - 7226600\n",
        "7226600 - 7231200"
       ]
      },
      {
       "output_type": "stream",
       "stream": "stdout",
       "text": [
        "\n",
        "7231200 - 7235800\n",
        "7235800 - 7240400"
       ]
      },
      {
       "output_type": "stream",
       "stream": "stdout",
       "text": [
        "\n",
        "7240400 - 7245000\n",
        "7245000 - 7249600"
       ]
      },
      {
       "output_type": "stream",
       "stream": "stdout",
       "text": [
        "\n",
        "7249600 - 7254200\n",
        "7254200 - 7258800"
       ]
      },
      {
       "output_type": "stream",
       "stream": "stdout",
       "text": [
        "\n",
        "7258800 - 7263400\n",
        "7263400 - 7268000"
       ]
      },
      {
       "output_type": "stream",
       "stream": "stdout",
       "text": [
        "\n",
        "7268000 - 7272600\n",
        "7272600 - 7277200"
       ]
      },
      {
       "output_type": "stream",
       "stream": "stdout",
       "text": [
        "\n",
        "7277200 - 7281800\n",
        "7281800 - 7286400"
       ]
      },
      {
       "output_type": "stream",
       "stream": "stdout",
       "text": [
        "\n",
        "7286400 - 7291000\n",
        "7291000 - 7295600"
       ]
      },
      {
       "output_type": "stream",
       "stream": "stdout",
       "text": [
        "\n",
        "7295600 - 7300200\n",
        "7300200 - 7304800"
       ]
      },
      {
       "output_type": "stream",
       "stream": "stdout",
       "text": [
        "\n",
        "7304800 - 7309400\n",
        "7309400 - 7314000"
       ]
      },
      {
       "output_type": "stream",
       "stream": "stdout",
       "text": [
        "\n",
        "7314000 - 7318600\n",
        "7318600 - 7323200"
       ]
      },
      {
       "output_type": "stream",
       "stream": "stdout",
       "text": [
        "\n",
        "7323200 - 7327800\n",
        "7327800 - 7332400"
       ]
      },
      {
       "output_type": "stream",
       "stream": "stdout",
       "text": [
        "\n",
        "7332400 - 7337000\n",
        "7337000 - 7341600"
       ]
      },
      {
       "output_type": "stream",
       "stream": "stdout",
       "text": [
        "\n",
        "7341600 - 7346200\n",
        "7346200 - 7350800"
       ]
      },
      {
       "output_type": "stream",
       "stream": "stdout",
       "text": [
        "\n",
        "7350800 - 7355400\n",
        "7355400 - 7360000"
       ]
      },
      {
       "output_type": "stream",
       "stream": "stdout",
       "text": [
        "\n",
        "7360000 - 7364600\n",
        "7364600 - 7369200"
       ]
      },
      {
       "output_type": "stream",
       "stream": "stdout",
       "text": [
        "\n",
        "7369200 - 7373800\n",
        "7373800 - 7378400"
       ]
      },
      {
       "output_type": "stream",
       "stream": "stdout",
       "text": [
        "\n",
        "7378400 - 7383000\n",
        "7383000 - 7387600"
       ]
      },
      {
       "output_type": "stream",
       "stream": "stdout",
       "text": [
        "\n",
        "7387600 - 7392200\n",
        "7392200 - 7396800"
       ]
      },
      {
       "output_type": "stream",
       "stream": "stdout",
       "text": [
        "\n",
        "7396800 - 7401400\n",
        "7401400 - 7406000"
       ]
      },
      {
       "output_type": "stream",
       "stream": "stdout",
       "text": [
        "\n",
        "7406000 - 7410600\n",
        "7410600 - 7415200"
       ]
      },
      {
       "output_type": "stream",
       "stream": "stdout",
       "text": [
        "\n",
        "7415200 - 7419800\n",
        "7419800 - 7424400"
       ]
      },
      {
       "output_type": "stream",
       "stream": "stdout",
       "text": [
        "\n",
        "7424400 - 7429000\n",
        "7429000 - 7433600"
       ]
      },
      {
       "output_type": "stream",
       "stream": "stdout",
       "text": [
        "\n",
        "7433600 - 7438200\n",
        "7438200 - 7442800"
       ]
      },
      {
       "output_type": "stream",
       "stream": "stdout",
       "text": [
        "\n",
        "7442800 - 7447400\n",
        "7447400 - 7452000"
       ]
      },
      {
       "output_type": "stream",
       "stream": "stdout",
       "text": [
        "\n",
        "7452000 - 7456600\n",
        "7456600 - 7461200"
       ]
      },
      {
       "output_type": "stream",
       "stream": "stdout",
       "text": [
        "\n",
        "7461200 - 7465800\n",
        "7465800 - 7470400\n",
        "7470400 - 7475000"
       ]
      },
      {
       "output_type": "stream",
       "stream": "stdout",
       "text": [
        "\n",
        "7475000 - 7479600\n",
        "7479600 - 7484200"
       ]
      },
      {
       "output_type": "stream",
       "stream": "stdout",
       "text": [
        "\n",
        "7484200 - 7488800\n",
        "7488800 - 7493400"
       ]
      },
      {
       "output_type": "stream",
       "stream": "stdout",
       "text": [
        "\n",
        "7493400 - 7498000\n",
        "7498000 - 7502600"
       ]
      },
      {
       "output_type": "stream",
       "stream": "stdout",
       "text": [
        "\n",
        "7502600 - 7507200\n",
        "7507200 - 7511800"
       ]
      },
      {
       "output_type": "stream",
       "stream": "stdout",
       "text": [
        "\n",
        "7511800 - 7516400\n",
        "7516400 - 7521000"
       ]
      },
      {
       "output_type": "stream",
       "stream": "stdout",
       "text": [
        "\n",
        "7521000 - 7525600\n",
        "7525600 - 7530200"
       ]
      },
      {
       "output_type": "stream",
       "stream": "stdout",
       "text": [
        "\n",
        "7530200 - 7534800\n",
        "7534800 - 7539400"
       ]
      },
      {
       "output_type": "stream",
       "stream": "stdout",
       "text": [
        "\n",
        "7539400 - 7544000\n",
        "7544000 - 7548600"
       ]
      },
      {
       "output_type": "stream",
       "stream": "stdout",
       "text": [
        "\n",
        "7548600 - 7553200\n",
        "7553200 - 7557800"
       ]
      },
      {
       "output_type": "stream",
       "stream": "stdout",
       "text": [
        "\n",
        "7557800 - 7562400\n",
        "7562400 - 7567000"
       ]
      },
      {
       "output_type": "stream",
       "stream": "stdout",
       "text": [
        "\n",
        "7567000 - 7571600\n",
        "7571600 - 7576200"
       ]
      },
      {
       "output_type": "stream",
       "stream": "stdout",
       "text": [
        "\n",
        "7576200 - 7580800\n",
        "7580800 - 7585400"
       ]
      },
      {
       "output_type": "stream",
       "stream": "stdout",
       "text": [
        "\n",
        "7585400 - 7590000\n",
        "7590000 - 7594600"
       ]
      },
      {
       "output_type": "stream",
       "stream": "stdout",
       "text": [
        "\n",
        "7594600 - 7599200\n",
        "7599200 - 7603800"
       ]
      },
      {
       "output_type": "stream",
       "stream": "stdout",
       "text": [
        "\n",
        "7603800 - 7608400\n",
        "7608400 - 7613000"
       ]
      },
      {
       "output_type": "stream",
       "stream": "stdout",
       "text": [
        "\n",
        "7613000 - 7617600\n",
        "7617600 - 7622200"
       ]
      },
      {
       "output_type": "stream",
       "stream": "stdout",
       "text": [
        "\n",
        "7622200 - 7626800\n",
        "7626800 - 7631400"
       ]
      },
      {
       "output_type": "stream",
       "stream": "stdout",
       "text": [
        "\n",
        "7631400 - 7636000\n",
        "7636000 - 7640600"
       ]
      },
      {
       "output_type": "stream",
       "stream": "stdout",
       "text": [
        "\n",
        "7640600 - 7645200\n",
        "7645200 - 7649800"
       ]
      },
      {
       "output_type": "stream",
       "stream": "stdout",
       "text": [
        "\n",
        "7649800 - 7654400\n",
        "7654400 - 7659000"
       ]
      },
      {
       "output_type": "stream",
       "stream": "stdout",
       "text": [
        "\n",
        "7659000 - 7663600\n",
        "7663600 - 7668200"
       ]
      },
      {
       "output_type": "stream",
       "stream": "stdout",
       "text": [
        "\n",
        "7668200 - 7672800\n",
        "7672800 - 7677400"
       ]
      },
      {
       "output_type": "stream",
       "stream": "stdout",
       "text": [
        "\n",
        "7677400 - 7682000\n",
        "7682000 - 7686600"
       ]
      },
      {
       "output_type": "stream",
       "stream": "stdout",
       "text": [
        "\n",
        "7686600 - 7691200\n",
        "7691200 - 7695800"
       ]
      },
      {
       "output_type": "stream",
       "stream": "stdout",
       "text": [
        "\n",
        "7695800 - 7700400\n",
        "7700400 - 7705000"
       ]
      },
      {
       "output_type": "stream",
       "stream": "stdout",
       "text": [
        "\n",
        "7705000 - 7709600\n",
        "7709600 - 7714200\n",
        "7714200 - 7718800"
       ]
      },
      {
       "output_type": "stream",
       "stream": "stdout",
       "text": [
        "\n",
        "7718800 - 7723400\n",
        "7723400 - 7728000"
       ]
      },
      {
       "output_type": "stream",
       "stream": "stdout",
       "text": [
        "\n",
        "7728000 - 7732600\n",
        "7732600 - 7737200"
       ]
      },
      {
       "output_type": "stream",
       "stream": "stdout",
       "text": [
        "\n",
        "7737200 - 7741800\n",
        "7741800 - 7746400"
       ]
      },
      {
       "output_type": "stream",
       "stream": "stdout",
       "text": [
        "\n",
        "7746400 - 7751000\n",
        "7751000 - 7755600"
       ]
      },
      {
       "output_type": "stream",
       "stream": "stdout",
       "text": [
        "\n",
        "7755600 - 7760200\n",
        "7760200 - 7764800\n",
        "7764800 - 7769400"
       ]
      },
      {
       "output_type": "stream",
       "stream": "stdout",
       "text": [
        "\n",
        "7769400 - 7774000\n",
        "7774000 - 7778600"
       ]
      },
      {
       "output_type": "stream",
       "stream": "stdout",
       "text": [
        "\n",
        "7778600 - 7783200\n",
        "7783200 - 7787800"
       ]
      },
      {
       "output_type": "stream",
       "stream": "stdout",
       "text": [
        "\n",
        "7787800 - 7792400\n",
        "7792400 - 7797000\n",
        "7797000 - 7801600"
       ]
      },
      {
       "output_type": "stream",
       "stream": "stdout",
       "text": [
        "\n",
        "7801600 - 7806200\n",
        "7806200 - 7810800\n",
        "7810800 - 7815400"
       ]
      },
      {
       "output_type": "stream",
       "stream": "stdout",
       "text": [
        "\n",
        "7815400 - 7820000\n",
        "7820000 - 7824600"
       ]
      },
      {
       "output_type": "stream",
       "stream": "stdout",
       "text": [
        "\n",
        "7824600 - 7829200\n",
        "7829200 - 7833800\n",
        "7833800 - 7838400"
       ]
      },
      {
       "output_type": "stream",
       "stream": "stdout",
       "text": [
        "\n",
        "7838400 - 7843000\n",
        "7843000 - 7847600"
       ]
      },
      {
       "output_type": "stream",
       "stream": "stdout",
       "text": [
        "\n",
        "7847600 - 7852200\n",
        "7852200 - 7856800"
       ]
      },
      {
       "output_type": "stream",
       "stream": "stdout",
       "text": [
        "\n",
        "7856800 - 7861400\n",
        "7861400 - 7866000"
       ]
      },
      {
       "output_type": "stream",
       "stream": "stdout",
       "text": [
        "\n",
        "7866000 - 7870600\n",
        "7870600 - 7875200"
       ]
      },
      {
       "output_type": "stream",
       "stream": "stdout",
       "text": [
        "\n",
        "7875200 - 7879800\n",
        "7879800 - 7884400"
       ]
      },
      {
       "output_type": "stream",
       "stream": "stdout",
       "text": [
        "\n",
        "7884400 - 7889000\n",
        "7889000 - 7893600\n",
        "7893600 - 7898200"
       ]
      },
      {
       "output_type": "stream",
       "stream": "stdout",
       "text": [
        "\n",
        "7898200 - 7902800\n",
        "7902800 - 7907400\n",
        "7907400 - 7912000"
       ]
      },
      {
       "output_type": "stream",
       "stream": "stdout",
       "text": [
        "\n",
        "7912000 - 7916600\n",
        "7916600 - 7921200\n",
        "7921200 - 7925800"
       ]
      },
      {
       "output_type": "stream",
       "stream": "stdout",
       "text": [
        "\n",
        "7925800 - 7930400\n",
        "7930400 - 7935000\n",
        "7935000 - 7939600"
       ]
      },
      {
       "output_type": "stream",
       "stream": "stdout",
       "text": [
        "\n",
        "7939600 - 7944200\n",
        "7944200 - 7948800"
       ]
      },
      {
       "output_type": "stream",
       "stream": "stdout",
       "text": [
        "\n",
        "7948800 - 7953400\n",
        "7953400 - 7958000\n",
        "7958000 - 7962600"
       ]
      },
      {
       "output_type": "stream",
       "stream": "stdout",
       "text": [
        "\n",
        "7962600 - 7967200\n",
        "7967200 - 7971800"
       ]
      },
      {
       "output_type": "stream",
       "stream": "stdout",
       "text": [
        "\n",
        "7971800 - 7976400\n",
        "7976400 - 7981000\n",
        "7981000 - 7985600"
       ]
      },
      {
       "output_type": "stream",
       "stream": "stdout",
       "text": [
        "\n",
        "7985600 - 7990200\n",
        "7990200 - 7994800"
       ]
      },
      {
       "output_type": "stream",
       "stream": "stdout",
       "text": [
        "\n",
        "7994800 - 7999400\n",
        "7999400 - 8004000\n",
        "8004000 - 8008600"
       ]
      },
      {
       "output_type": "stream",
       "stream": "stdout",
       "text": [
        "\n",
        "8008600 - 8013200\n",
        "8013200 - 8017800\n",
        "8017800 - 8022400"
       ]
      },
      {
       "output_type": "stream",
       "stream": "stdout",
       "text": [
        "\n",
        "8022400 - 8027000\n",
        "8027000 - 8031600"
       ]
      },
      {
       "output_type": "stream",
       "stream": "stdout",
       "text": [
        "\n",
        "8031600 - 8036200\n",
        "8036200 - 8040800"
       ]
      },
      {
       "output_type": "stream",
       "stream": "stdout",
       "text": [
        "\n",
        "8040800 - 8045400\n",
        "8045400 - 8050000"
       ]
      },
      {
       "output_type": "stream",
       "stream": "stdout",
       "text": [
        "\n",
        "8050000 - 8054600\n",
        "8054600 - 8059200"
       ]
      },
      {
       "output_type": "stream",
       "stream": "stdout",
       "text": [
        "\n",
        "8059200 - 8063800\n",
        "8063800 - 8068400"
       ]
      },
      {
       "output_type": "stream",
       "stream": "stdout",
       "text": [
        "\n",
        "8068400 - 8073000\n",
        "8073000 - 8077600"
       ]
      },
      {
       "output_type": "stream",
       "stream": "stdout",
       "text": [
        "\n",
        "8077600 - 8082200\n",
        "8082200 - 8086800\n",
        "8086800 - 8091400"
       ]
      },
      {
       "output_type": "stream",
       "stream": "stdout",
       "text": [
        "\n",
        "8091400 - 8096000\n",
        "8096000 - 8100600"
       ]
      },
      {
       "output_type": "stream",
       "stream": "stdout",
       "text": [
        "\n",
        "8100600 - 8105200\n",
        "8105200 - 8109800"
       ]
      },
      {
       "output_type": "stream",
       "stream": "stdout",
       "text": [
        "\n",
        "8109800 - 8114400\n",
        "8114400 - 8119000\n",
        "8119000 - 8123600"
       ]
      },
      {
       "output_type": "stream",
       "stream": "stdout",
       "text": [
        "\n",
        "8123600 - 8128200\n",
        "8128200 - 8132800\n",
        "8132800 - 8137400"
       ]
      },
      {
       "output_type": "stream",
       "stream": "stdout",
       "text": [
        "\n",
        "8137400 - 8142000\n",
        "8142000 - 8146600\n",
        "8146600 - 8151200"
       ]
      },
      {
       "output_type": "stream",
       "stream": "stdout",
       "text": [
        "\n",
        "8151200 - 8155800\n",
        "8155800 - 8160400\n",
        "8160400 - 8165000"
       ]
      },
      {
       "output_type": "stream",
       "stream": "stdout",
       "text": [
        "\n",
        "8165000 - 8169600\n",
        "8169600 - 8174200\n",
        "8174200 - 8178800"
       ]
      },
      {
       "output_type": "stream",
       "stream": "stdout",
       "text": [
        "\n",
        "8178800 - 8183400\n",
        "8183400 - 8188000"
       ]
      },
      {
       "output_type": "stream",
       "stream": "stdout",
       "text": [
        "\n",
        "8188000 - 8192600\n",
        "8192600 - 8197200"
       ]
      },
      {
       "output_type": "stream",
       "stream": "stdout",
       "text": [
        "\n",
        "8197200 - 8201800\n",
        "8201800 - 8206400"
       ]
      },
      {
       "output_type": "stream",
       "stream": "stdout",
       "text": [
        "\n",
        "8206400 - 8211000\n",
        "8211000 - 8215600"
       ]
      },
      {
       "output_type": "stream",
       "stream": "stdout",
       "text": [
        "\n",
        "8215600 - 8220200\n",
        "8220200 - 8224800\n",
        "8224800 - 8229400"
       ]
      },
      {
       "output_type": "stream",
       "stream": "stdout",
       "text": [
        "\n",
        "8229400 - 8234000\n",
        "8234000 - 8238600\n",
        "8238600 - 8243200"
       ]
      },
      {
       "output_type": "stream",
       "stream": "stdout",
       "text": [
        "\n",
        "8243200 - 8247800\n",
        "8247800 - 8252400\n",
        "8252400 - 8257000"
       ]
      },
      {
       "output_type": "stream",
       "stream": "stdout",
       "text": [
        "\n",
        "8257000 - 8261600\n",
        "8261600 - 8266200\n",
        "8266200 - 8270800"
       ]
      },
      {
       "output_type": "stream",
       "stream": "stdout",
       "text": [
        "\n",
        "8270800 - 8275400\n",
        "8275400 - 8280000\n",
        "8280000 - 8284600"
       ]
      },
      {
       "output_type": "stream",
       "stream": "stdout",
       "text": [
        "\n",
        "8284600 - 8289200\n",
        "8289200 - 8293800\n",
        "8293800 - 8298400"
       ]
      },
      {
       "output_type": "stream",
       "stream": "stdout",
       "text": [
        "\n",
        "8298400 - 8303000\n",
        "8303000 - 8307600\n",
        "8307600 - 8312200"
       ]
      },
      {
       "output_type": "stream",
       "stream": "stdout",
       "text": [
        "\n",
        "8312200 - 8316800\n",
        "8316800 - 8321400\n",
        "8321400 - 8326000"
       ]
      },
      {
       "output_type": "stream",
       "stream": "stdout",
       "text": [
        "\n",
        "8326000 - 8330600\n",
        "8330600 - 8335200\n",
        "8335200 - 8339800"
       ]
      },
      {
       "output_type": "stream",
       "stream": "stdout",
       "text": [
        "\n",
        "8339800 - 8344400\n",
        "8344400 - 8349000"
       ]
      },
      {
       "output_type": "stream",
       "stream": "stdout",
       "text": [
        "\n",
        "8349000 - 8353600\n",
        "8353600 - 8358200"
       ]
      },
      {
       "output_type": "stream",
       "stream": "stdout",
       "text": [
        "\n",
        "8358200 - 8362800\n",
        "8362800 - 8367400"
       ]
      },
      {
       "output_type": "stream",
       "stream": "stdout",
       "text": [
        "\n",
        "8367400 - 8372000\n",
        "8372000 - 8376600\n",
        "8376600 - 8381200"
       ]
      },
      {
       "output_type": "stream",
       "stream": "stdout",
       "text": [
        "\n",
        "8381200 - 8385800\n",
        "8385800 - 8390400"
       ]
      },
      {
       "output_type": "stream",
       "stream": "stdout",
       "text": [
        "\n",
        "8390400 - 8395000\n",
        "8395000 - 8399600"
       ]
      },
      {
       "output_type": "stream",
       "stream": "stdout",
       "text": [
        "\n",
        "8399600 - 8404200\n",
        "8404200 - 8408800"
       ]
      },
      {
       "output_type": "stream",
       "stream": "stdout",
       "text": [
        "\n",
        "8408800 - 8413400\n",
        "8413400 - 8418000"
       ]
      },
      {
       "output_type": "stream",
       "stream": "stdout",
       "text": [
        "\n",
        "8418000 - 8422600\n",
        "8422600 - 8427200"
       ]
      },
      {
       "output_type": "stream",
       "stream": "stdout",
       "text": [
        "\n",
        "8427200 - 8431800\n",
        "8431800 - 8436400"
       ]
      },
      {
       "output_type": "stream",
       "stream": "stdout",
       "text": [
        "\n",
        "8436400 - 8441000\n",
        "8441000 - 8445600"
       ]
      },
      {
       "output_type": "stream",
       "stream": "stdout",
       "text": [
        "\n",
        "8445600 - 8450200\n",
        "8450200 - 8454800"
       ]
      },
      {
       "output_type": "stream",
       "stream": "stdout",
       "text": [
        "\n",
        "8454800 - 8459400\n",
        "8459400 - 8464000"
       ]
      },
      {
       "output_type": "stream",
       "stream": "stdout",
       "text": [
        "\n",
        "8464000 - 8468600\n",
        "8468600 - 8473200"
       ]
      },
      {
       "output_type": "stream",
       "stream": "stdout",
       "text": [
        "\n",
        "8473200 - 8477800\n",
        "8477800 - 8482400"
       ]
      },
      {
       "output_type": "stream",
       "stream": "stdout",
       "text": [
        "\n",
        "8482400 - 8487000\n",
        "8487000 - 8491600"
       ]
      },
      {
       "output_type": "stream",
       "stream": "stdout",
       "text": [
        "\n",
        "8491600 - 8496200\n",
        "8496200 - 8500800"
       ]
      },
      {
       "output_type": "stream",
       "stream": "stdout",
       "text": [
        "\n",
        "8500800 - 8505400\n",
        "8505400 - 8510000"
       ]
      },
      {
       "output_type": "stream",
       "stream": "stdout",
       "text": [
        "\n",
        "8510000 - 8514600\n",
        "8514600 - 8519200"
       ]
      },
      {
       "output_type": "stream",
       "stream": "stdout",
       "text": [
        "\n",
        "8519200 - 8523800\n",
        "8523800 - 8528400\n",
        "8528400 - 8533000"
       ]
      },
      {
       "output_type": "stream",
       "stream": "stdout",
       "text": [
        "\n",
        "8533000 - 8537600\n",
        "8537600 - 8542200"
       ]
      },
      {
       "output_type": "stream",
       "stream": "stdout",
       "text": [
        "\n",
        "8542200 - 8546800\n",
        "8546800 - 8551400"
       ]
      },
      {
       "output_type": "stream",
       "stream": "stdout",
       "text": [
        "\n",
        "8551400 - 8556000\n",
        "8556000 - 8560600"
       ]
      },
      {
       "output_type": "stream",
       "stream": "stdout",
       "text": [
        "\n",
        "8560600 - 8565200\n",
        "8565200 - 8569800"
       ]
      },
      {
       "output_type": "stream",
       "stream": "stdout",
       "text": [
        "\n",
        "8569800 - 8574400\n",
        "8574400 - 8579000"
       ]
      },
      {
       "output_type": "stream",
       "stream": "stdout",
       "text": [
        "\n",
        "8579000 - 8583600\n",
        "8583600 - 8588200"
       ]
      },
      {
       "output_type": "stream",
       "stream": "stdout",
       "text": [
        "\n",
        "8588200 - 8592800\n",
        "8592800 - 8597400"
       ]
      },
      {
       "output_type": "stream",
       "stream": "stdout",
       "text": [
        "\n",
        "8597400 - 8602000\n",
        "8602000 - 8606600\n",
        "8606600 - 8611200"
       ]
      },
      {
       "output_type": "stream",
       "stream": "stdout",
       "text": [
        "\n",
        "8611200 - 8615800\n",
        "8615800 - 8620400\n",
        "8620400 - 8625000"
       ]
      },
      {
       "output_type": "stream",
       "stream": "stdout",
       "text": [
        "\n",
        "8625000 - 8629600\n",
        "8629600 - 8634200\n",
        "8634200 - 8638800"
       ]
      },
      {
       "output_type": "stream",
       "stream": "stdout",
       "text": [
        "\n",
        "8638800 - 8643400\n",
        "8643400 - 8648000\n",
        "8648000 - 8652600"
       ]
      },
      {
       "output_type": "stream",
       "stream": "stdout",
       "text": [
        "\n",
        "8652600 - 8657200\n",
        "8657200 - 8661800"
       ]
      },
      {
       "output_type": "stream",
       "stream": "stdout",
       "text": [
        "\n",
        "8661800 - 8666400\n",
        "8666400 - 8671000"
       ]
      },
      {
       "output_type": "stream",
       "stream": "stdout",
       "text": [
        "\n",
        "8671000 - 8675600\n",
        "8675600 - 8680200"
       ]
      },
      {
       "output_type": "stream",
       "stream": "stdout",
       "text": [
        "\n",
        "8680200 - 8684800\n",
        "8684800 - 8689400"
       ]
      },
      {
       "output_type": "stream",
       "stream": "stdout",
       "text": [
        "\n",
        "8689400 - 8694000\n",
        "8694000 - 8698600"
       ]
      },
      {
       "output_type": "stream",
       "stream": "stdout",
       "text": [
        "\n",
        "8698600 - 8703200\n",
        "8703200 - 8707800"
       ]
      },
      {
       "output_type": "stream",
       "stream": "stdout",
       "text": [
        "\n",
        "8707800 - 8712400\n",
        "8712400 - 8717000"
       ]
      },
      {
       "output_type": "stream",
       "stream": "stdout",
       "text": [
        "\n",
        "8717000 - 8721600\n",
        "8721600 - 8726200"
       ]
      },
      {
       "output_type": "stream",
       "stream": "stdout",
       "text": [
        "\n",
        "8726200 - 8730800\n",
        "8730800 - 8735400"
       ]
      },
      {
       "output_type": "stream",
       "stream": "stdout",
       "text": [
        "\n",
        "8735400 - 8740000\n",
        "8740000 - 8744600\n",
        "8744600 - 8749200"
       ]
      },
      {
       "output_type": "stream",
       "stream": "stdout",
       "text": [
        "\n",
        "8749200 - 8753800\n",
        "8753800 - 8758400\n",
        "8758400 - 8763000"
       ]
      },
      {
       "output_type": "stream",
       "stream": "stdout",
       "text": [
        "\n",
        "8763000 - 8767600\n",
        "8767600 - 8772200"
       ]
      },
      {
       "output_type": "stream",
       "stream": "stdout",
       "text": [
        "\n",
        "8772200 - 8776800\n",
        "8776800 - 8781400"
       ]
      },
      {
       "output_type": "stream",
       "stream": "stdout",
       "text": [
        "\n",
        "8781400 - 8786000\n",
        "8786000 - 8790600"
       ]
      },
      {
       "output_type": "stream",
       "stream": "stdout",
       "text": [
        "\n",
        "8790600 - 8795200\n",
        "8795200 - 8799800\n",
        "8799800 - 8804400"
       ]
      },
      {
       "output_type": "stream",
       "stream": "stdout",
       "text": [
        "\n",
        "8804400 - 8809000\n",
        "8809000 - 8813600"
       ]
      },
      {
       "output_type": "stream",
       "stream": "stdout",
       "text": [
        "\n",
        "8813600 - 8818200\n",
        "8818200 - 8822800\n",
        "8822800 - 8827400"
       ]
      },
      {
       "output_type": "stream",
       "stream": "stdout",
       "text": [
        "\n",
        "8827400 - 8832000\n",
        "8832000 - 8836600"
       ]
      },
      {
       "output_type": "stream",
       "stream": "stdout",
       "text": [
        "\n",
        "8836600 - 8841200\n",
        "8841200 - 8845800"
       ]
      },
      {
       "output_type": "stream",
       "stream": "stdout",
       "text": [
        "\n",
        "8845800 - 8850400\n",
        "8850400 - 8855000"
       ]
      },
      {
       "output_type": "stream",
       "stream": "stdout",
       "text": [
        "\n",
        "8855000 - 8859600\n",
        "8859600 - 8864200"
       ]
      },
      {
       "output_type": "stream",
       "stream": "stdout",
       "text": [
        "\n",
        "8864200 - 8868800\n",
        "8868800 - 8873400"
       ]
      },
      {
       "output_type": "stream",
       "stream": "stdout",
       "text": [
        "\n",
        "8873400 - 8878000\n",
        "8878000 - 8882600"
       ]
      },
      {
       "output_type": "stream",
       "stream": "stdout",
       "text": [
        "\n",
        "8882600 - 8887200\n",
        "8887200 - 8891800"
       ]
      },
      {
       "output_type": "stream",
       "stream": "stdout",
       "text": [
        "\n",
        "8891800 - 8896400\n",
        "8896400 - 8901000"
       ]
      },
      {
       "output_type": "stream",
       "stream": "stdout",
       "text": [
        "\n",
        "8901000 - 8905600\n",
        "8905600 - 8910200"
       ]
      },
      {
       "output_type": "stream",
       "stream": "stdout",
       "text": [
        "\n",
        "8910200 - 8914800\n",
        "8914800 - 8919400"
       ]
      },
      {
       "output_type": "stream",
       "stream": "stdout",
       "text": [
        "\n",
        "8919400 - 8924000\n",
        "8924000 - 8928600"
       ]
      },
      {
       "output_type": "stream",
       "stream": "stdout",
       "text": [
        "\n",
        "8928600 - 8933200\n",
        "8933200 - 8937800"
       ]
      },
      {
       "output_type": "stream",
       "stream": "stdout",
       "text": [
        "\n",
        "8937800 - 8942400\n",
        "8942400 - 8947000"
       ]
      },
      {
       "output_type": "stream",
       "stream": "stdout",
       "text": [
        "\n",
        "8947000 - 8951600\n",
        "8951600 - 8956200"
       ]
      },
      {
       "output_type": "stream",
       "stream": "stdout",
       "text": [
        "\n",
        "8956200 - 8960800\n",
        "8960800 - 8965400"
       ]
      },
      {
       "output_type": "stream",
       "stream": "stdout",
       "text": [
        "\n",
        "8965400 - 8970000\n",
        "8970000 - 8974600"
       ]
      },
      {
       "output_type": "stream",
       "stream": "stdout",
       "text": [
        "\n",
        "8974600 - 8979200\n",
        "8979200 - 8983800"
       ]
      },
      {
       "output_type": "stream",
       "stream": "stdout",
       "text": [
        "\n",
        "8983800 - 8988400\n",
        "8988400 - 8993000"
       ]
      },
      {
       "output_type": "stream",
       "stream": "stdout",
       "text": [
        "\n",
        "8993000 - 8997600\n",
        "8997600 - 9002200"
       ]
      },
      {
       "output_type": "stream",
       "stream": "stdout",
       "text": [
        "\n",
        "9002200 - 9006800\n",
        "9006800 - 9011400"
       ]
      },
      {
       "output_type": "stream",
       "stream": "stdout",
       "text": [
        "\n",
        "9011400 - 9016000\n",
        "9016000 - 9020600"
       ]
      },
      {
       "output_type": "stream",
       "stream": "stdout",
       "text": [
        "\n",
        "9020600 - 9025200\n",
        "9025200 - 9029800"
       ]
      },
      {
       "output_type": "stream",
       "stream": "stdout",
       "text": [
        "\n",
        "9029800 - 9034400\n",
        "9034400 - 9039000"
       ]
      },
      {
       "output_type": "stream",
       "stream": "stdout",
       "text": [
        "\n",
        "9039000 - 9043600\n",
        "9043600 - 9048200"
       ]
      },
      {
       "output_type": "stream",
       "stream": "stdout",
       "text": [
        "\n",
        "9048200 - 9052800\n",
        "9052800 - 9057400"
       ]
      },
      {
       "output_type": "stream",
       "stream": "stdout",
       "text": [
        "\n",
        "9057400 - 9062000\n",
        "9062000 - 9066600"
       ]
      },
      {
       "output_type": "stream",
       "stream": "stdout",
       "text": [
        "\n",
        "9066600 - 9071200\n",
        "9071200 - 9075800"
       ]
      },
      {
       "output_type": "stream",
       "stream": "stdout",
       "text": [
        "\n",
        "9075800 - 9080400\n",
        "9080400 - 9085000"
       ]
      },
      {
       "output_type": "stream",
       "stream": "stdout",
       "text": [
        "\n",
        "9085000 - 9089600\n",
        "9089600 - 9094200"
       ]
      },
      {
       "output_type": "stream",
       "stream": "stdout",
       "text": [
        "\n",
        "9094200 - 9098800\n",
        "9098800 - 9103400"
       ]
      },
      {
       "output_type": "stream",
       "stream": "stdout",
       "text": [
        "\n",
        "9103400 - 9108000\n",
        "9108000 - 9112600"
       ]
      },
      {
       "output_type": "stream",
       "stream": "stdout",
       "text": [
        "\n",
        "9112600 - 9117200\n",
        "9117200 - 9121800"
       ]
      },
      {
       "output_type": "stream",
       "stream": "stdout",
       "text": [
        "\n",
        "9121800 - 9126400\n",
        "9126400 - 9131000"
       ]
      },
      {
       "output_type": "stream",
       "stream": "stdout",
       "text": [
        "\n",
        "9131000 - 9135600\n",
        "9135600 - 9140200"
       ]
      },
      {
       "output_type": "stream",
       "stream": "stdout",
       "text": [
        "\n",
        "9140200 - 9144800\n",
        "9144800 - 9149400"
       ]
      },
      {
       "output_type": "stream",
       "stream": "stdout",
       "text": [
        "\n",
        "9149400 - 9154000\n",
        "9154000 - 9158600"
       ]
      },
      {
       "output_type": "stream",
       "stream": "stdout",
       "text": [
        "\n",
        "9158600 - 9163200\n",
        "9163200 - 9167800"
       ]
      },
      {
       "output_type": "stream",
       "stream": "stdout",
       "text": [
        "\n",
        "9167800 - 9172400\n",
        "9172400 - 9177000"
       ]
      },
      {
       "output_type": "stream",
       "stream": "stdout",
       "text": [
        "\n",
        "9177000 - 9181600\n",
        "9181600 - 9186200"
       ]
      },
      {
       "output_type": "stream",
       "stream": "stdout",
       "text": [
        "\n",
        "9186200 - 9190800\n",
        "9190800 - 9195400"
       ]
      },
      {
       "output_type": "stream",
       "stream": "stdout",
       "text": [
        "\n",
        "9195400 - 9200000\n",
        "9200000 - 9204600"
       ]
      },
      {
       "output_type": "stream",
       "stream": "stdout",
       "text": [
        "\n",
        "9204600 - 9209200\n",
        "9209200 - 9213800"
       ]
      },
      {
       "output_type": "stream",
       "stream": "stdout",
       "text": [
        "\n",
        "9213800 - 9218400\n",
        "9218400 - 9223000"
       ]
      },
      {
       "output_type": "stream",
       "stream": "stdout",
       "text": [
        "\n",
        "9223000 - 9227600\n",
        "9227600 - 9232200"
       ]
      },
      {
       "output_type": "stream",
       "stream": "stdout",
       "text": [
        "\n",
        "9232200 - 9236800\n",
        "9236800 - 9241400"
       ]
      },
      {
       "output_type": "stream",
       "stream": "stdout",
       "text": [
        "\n",
        "9241400 - 9246000\n",
        "9246000 - 9250600"
       ]
      },
      {
       "output_type": "stream",
       "stream": "stdout",
       "text": [
        "\n",
        "9250600 - 9255200\n",
        "9255200 - 9259800"
       ]
      },
      {
       "output_type": "stream",
       "stream": "stdout",
       "text": [
        "\n",
        "9259800 - 9264400\n",
        "9264400 - 9269000"
       ]
      },
      {
       "output_type": "stream",
       "stream": "stdout",
       "text": [
        "\n",
        "9269000 - 9273600\n",
        "9273600 - 9278200"
       ]
      },
      {
       "output_type": "stream",
       "stream": "stdout",
       "text": [
        "\n",
        "9278200 - 9282800\n",
        "9282800 - 9287400"
       ]
      },
      {
       "output_type": "stream",
       "stream": "stdout",
       "text": [
        "\n",
        "9287400 - 9292000\n",
        "9292000 - 9296600"
       ]
      },
      {
       "output_type": "stream",
       "stream": "stdout",
       "text": [
        "\n",
        "9296600 - 9301200\n",
        "9301200 - 9305800"
       ]
      },
      {
       "output_type": "stream",
       "stream": "stdout",
       "text": [
        "\n",
        "9305800 - 9310400\n",
        "9310400 - 9315000"
       ]
      },
      {
       "output_type": "stream",
       "stream": "stdout",
       "text": [
        "\n",
        "9315000 - 9319600\n",
        "9319600 - 9324200"
       ]
      },
      {
       "output_type": "stream",
       "stream": "stdout",
       "text": [
        "\n",
        "9324200 - 9328800\n",
        "9328800 - 9333400"
       ]
      },
      {
       "output_type": "stream",
       "stream": "stdout",
       "text": [
        "\n",
        "9333400 - 9338000\n",
        "9338000 - 9342600"
       ]
      },
      {
       "output_type": "stream",
       "stream": "stdout",
       "text": [
        "\n",
        "9342600 - 9347200\n",
        "9347200 - 9351800"
       ]
      },
      {
       "output_type": "stream",
       "stream": "stdout",
       "text": [
        "\n",
        "9351800 - 9356400\n",
        "9356400 - 9361000"
       ]
      },
      {
       "output_type": "stream",
       "stream": "stdout",
       "text": [
        "\n",
        "9361000 - 9365600\n",
        "9365600 - 9370200"
       ]
      },
      {
       "output_type": "stream",
       "stream": "stdout",
       "text": [
        "\n",
        "9370200 - 9374800\n",
        "9374800 - 9379400"
       ]
      },
      {
       "output_type": "stream",
       "stream": "stdout",
       "text": [
        "\n",
        "9379400 - 9384000\n",
        "9384000 - 9388600"
       ]
      },
      {
       "output_type": "stream",
       "stream": "stdout",
       "text": [
        "\n",
        "9388600 - 9393200\n",
        "9393200 - 9397800"
       ]
      },
      {
       "output_type": "stream",
       "stream": "stdout",
       "text": [
        "\n",
        "9397800 - 9402400\n",
        "9402400 - 9407000"
       ]
      },
      {
       "output_type": "stream",
       "stream": "stdout",
       "text": [
        "\n",
        "9407000 - 9411600\n",
        "9411600 - 9416200"
       ]
      },
      {
       "output_type": "stream",
       "stream": "stdout",
       "text": [
        "\n",
        "9416200 - 9420800\n",
        "9420800 - 9425400"
       ]
      },
      {
       "output_type": "stream",
       "stream": "stdout",
       "text": [
        "\n",
        "9425400 - 9430000\n",
        "9430000 - 9434600"
       ]
      },
      {
       "output_type": "stream",
       "stream": "stdout",
       "text": [
        "\n",
        "9434600 - 9439200\n",
        "9439200 - 9443800"
       ]
      },
      {
       "output_type": "stream",
       "stream": "stdout",
       "text": [
        "\n",
        "9443800 - 9448400\n",
        "9448400 - 9453000"
       ]
      },
      {
       "output_type": "stream",
       "stream": "stdout",
       "text": [
        "\n",
        "9453000 - 9457600\n",
        "9457600 - 9462200"
       ]
      },
      {
       "output_type": "stream",
       "stream": "stdout",
       "text": [
        "\n",
        "9462200 - 9466800\n",
        "9466800 - 9471400"
       ]
      },
      {
       "output_type": "stream",
       "stream": "stdout",
       "text": [
        "\n",
        "9471400 - 9476000\n",
        "9476000 - 9480600"
       ]
      },
      {
       "output_type": "stream",
       "stream": "stdout",
       "text": [
        "\n",
        "9480600 - 9485200\n",
        "9485200 - 9489800"
       ]
      },
      {
       "output_type": "stream",
       "stream": "stdout",
       "text": [
        "\n",
        "9489800 - 9494400\n",
        "9494400 - 9499000"
       ]
      },
      {
       "output_type": "stream",
       "stream": "stdout",
       "text": [
        "\n",
        "9499000 - 9503600\n",
        "9503600 - 9508200"
       ]
      },
      {
       "output_type": "stream",
       "stream": "stdout",
       "text": [
        "\n",
        "9508200 - 9512800\n",
        "9512800 - 9517400"
       ]
      },
      {
       "output_type": "stream",
       "stream": "stdout",
       "text": [
        "\n",
        "9517400 - 9522000\n",
        "9522000 - 9526600"
       ]
      },
      {
       "output_type": "stream",
       "stream": "stdout",
       "text": [
        "\n",
        "9526600 - 9531200\n",
        "9531200 - 9535800"
       ]
      },
      {
       "output_type": "stream",
       "stream": "stdout",
       "text": [
        "\n",
        "9535800 - 9540400\n",
        "9540400 - 9545000"
       ]
      },
      {
       "output_type": "stream",
       "stream": "stdout",
       "text": [
        "\n",
        "9545000 - 9549600\n",
        "9549600 - 9554200"
       ]
      },
      {
       "output_type": "stream",
       "stream": "stdout",
       "text": [
        "\n",
        "9554200 - 9558800\n",
        "9558800 - 9563400"
       ]
      },
      {
       "output_type": "stream",
       "stream": "stdout",
       "text": [
        "\n",
        "9563400 - 9568000\n",
        "9568000 - 9572600"
       ]
      },
      {
       "output_type": "stream",
       "stream": "stdout",
       "text": [
        "\n",
        "9572600 - 9577200\n",
        "9577200 - 9581800"
       ]
      },
      {
       "output_type": "stream",
       "stream": "stdout",
       "text": [
        "\n",
        "9581800 - 9586400\n",
        "9586400 - 9591000"
       ]
      },
      {
       "output_type": "stream",
       "stream": "stdout",
       "text": [
        "\n",
        "9591000 - 9595600\n",
        "9595600 - 9600200"
       ]
      },
      {
       "output_type": "stream",
       "stream": "stdout",
       "text": [
        "\n",
        "9600200 - 9604800\n",
        "9604800 - 9609400"
       ]
      },
      {
       "output_type": "stream",
       "stream": "stdout",
       "text": [
        "\n",
        "9609400 - 9614000\n",
        "9614000 - 9618600"
       ]
      },
      {
       "output_type": "stream",
       "stream": "stdout",
       "text": [
        "\n",
        "9618600 - 9623200\n",
        "9623200 - 9627800"
       ]
      },
      {
       "output_type": "stream",
       "stream": "stdout",
       "text": [
        "\n",
        "9627800 - 9632400\n",
        "9632400 - 9637000"
       ]
      },
      {
       "output_type": "stream",
       "stream": "stdout",
       "text": [
        "\n",
        "9637000 - 9641600\n",
        "9641600 - 9646200"
       ]
      },
      {
       "output_type": "stream",
       "stream": "stdout",
       "text": [
        "\n",
        "9646200 - 9650800\n",
        "9650800 - 9655400"
       ]
      },
      {
       "output_type": "stream",
       "stream": "stdout",
       "text": [
        "\n",
        "9655400 - 9660000\n",
        "9660000 - 9664600"
       ]
      },
      {
       "output_type": "stream",
       "stream": "stdout",
       "text": [
        "\n",
        "9664600 - 9669200\n",
        "9669200 - 9673800"
       ]
      },
      {
       "output_type": "stream",
       "stream": "stdout",
       "text": [
        "\n",
        "9673800 - 9678400\n",
        "9678400 - 9683000"
       ]
      },
      {
       "output_type": "stream",
       "stream": "stdout",
       "text": [
        "\n",
        "9683000 - 9687600\n",
        "9687600 - 9692200"
       ]
      },
      {
       "output_type": "stream",
       "stream": "stdout",
       "text": [
        "\n",
        "9692200 - 9696800\n",
        "9696800 - 9701400"
       ]
      },
      {
       "output_type": "stream",
       "stream": "stdout",
       "text": [
        "\n",
        "9701400 - 9706000\n",
        "9706000 - 9710600"
       ]
      },
      {
       "output_type": "stream",
       "stream": "stdout",
       "text": [
        "\n",
        "9710600 - 9715200\n",
        "9715200 - 9719800"
       ]
      },
      {
       "output_type": "stream",
       "stream": "stdout",
       "text": [
        "\n",
        "9719800 - 9724400\n",
        "9724400 - 9729000"
       ]
      },
      {
       "output_type": "stream",
       "stream": "stdout",
       "text": [
        "\n",
        "9729000 - 9733600\n",
        "9733600 - 9738200"
       ]
      },
      {
       "output_type": "stream",
       "stream": "stdout",
       "text": [
        "\n",
        "9738200 - 9742800\n",
        "9742800 - 9747400"
       ]
      },
      {
       "output_type": "stream",
       "stream": "stdout",
       "text": [
        "\n",
        "9747400 - 9752000\n",
        "9752000 - 9756600"
       ]
      },
      {
       "output_type": "stream",
       "stream": "stdout",
       "text": [
        "\n",
        "9756600 - 9761200\n",
        "9761200 - 9765800"
       ]
      },
      {
       "output_type": "stream",
       "stream": "stdout",
       "text": [
        "\n",
        "9765800 - 9770400\n",
        "9770400 - 9775000"
       ]
      },
      {
       "output_type": "stream",
       "stream": "stdout",
       "text": [
        "\n",
        "9775000 - 9779600\n",
        "9779600 - 9784200"
       ]
      },
      {
       "output_type": "stream",
       "stream": "stdout",
       "text": [
        "\n",
        "9784200 - 9788800\n",
        "9788800 - 9793400"
       ]
      },
      {
       "output_type": "stream",
       "stream": "stdout",
       "text": [
        "\n",
        "9793400 - 9798000\n",
        "9798000 - 9802600"
       ]
      },
      {
       "output_type": "stream",
       "stream": "stdout",
       "text": [
        "\n",
        "9802600 - 9807200\n",
        "9807200 - 9811800"
       ]
      },
      {
       "output_type": "stream",
       "stream": "stdout",
       "text": [
        "\n",
        "9811800 - 9816400\n",
        "9816400 - 9821000"
       ]
      },
      {
       "output_type": "stream",
       "stream": "stdout",
       "text": [
        "\n",
        "9821000 - 9825600\n",
        "9825600 - 9830200"
       ]
      },
      {
       "output_type": "stream",
       "stream": "stdout",
       "text": [
        "\n",
        "9830200 - 9834800\n",
        "9834800 - 9839400"
       ]
      },
      {
       "output_type": "stream",
       "stream": "stdout",
       "text": [
        "\n",
        "9839400 - 9844000\n",
        "9844000 - 9848600"
       ]
      },
      {
       "output_type": "stream",
       "stream": "stdout",
       "text": [
        "\n",
        "9848600 - 9853200\n",
        "9853200 - 9857800"
       ]
      },
      {
       "output_type": "stream",
       "stream": "stdout",
       "text": [
        "\n",
        "9857800 - 9862400\n",
        "9862400 - 9867000"
       ]
      },
      {
       "output_type": "stream",
       "stream": "stdout",
       "text": [
        "\n",
        "9867000 - 9871600\n",
        "9871600 - 9876200"
       ]
      },
      {
       "output_type": "stream",
       "stream": "stdout",
       "text": [
        "\n",
        "9876200 - 9880800\n",
        "9880800 - 9885400"
       ]
      },
      {
       "output_type": "stream",
       "stream": "stdout",
       "text": [
        "\n",
        "9885400 - 9890000\n",
        "9890000 - 9894600"
       ]
      },
      {
       "output_type": "stream",
       "stream": "stdout",
       "text": [
        "\n",
        "9894600 - 9899200\n",
        "9899200 - 9903800"
       ]
      },
      {
       "output_type": "stream",
       "stream": "stdout",
       "text": [
        "\n",
        "9903800 - 9908400\n",
        "9908400 - 9913000"
       ]
      },
      {
       "output_type": "stream",
       "stream": "stdout",
       "text": [
        "\n",
        "9913000 - 9917600\n",
        "9917600 - 9922200"
       ]
      },
      {
       "output_type": "stream",
       "stream": "stdout",
       "text": [
        "\n",
        "9922200 - 9926800\n",
        "9926800 - 9931400"
       ]
      },
      {
       "output_type": "stream",
       "stream": "stdout",
       "text": [
        "\n",
        "9931400 - 9936000\n",
        "9936000 - 9940600"
       ]
      },
      {
       "output_type": "stream",
       "stream": "stdout",
       "text": [
        "\n",
        "9940600 - 9945200\n",
        "9945200 - 9949800"
       ]
      },
      {
       "output_type": "stream",
       "stream": "stdout",
       "text": [
        "\n",
        "9949800 - 9954400\n",
        "9954400 - 9959000"
       ]
      },
      {
       "output_type": "stream",
       "stream": "stdout",
       "text": [
        "\n",
        "9959000 - 9963600\n",
        "9963600 - 9968200"
       ]
      },
      {
       "output_type": "stream",
       "stream": "stdout",
       "text": [
        "\n",
        "9968200 - 9972800\n",
        "9972800 - 9977400"
       ]
      },
      {
       "output_type": "stream",
       "stream": "stdout",
       "text": [
        "\n",
        "9977400 - 9982000\n",
        "9982000 - 9986600"
       ]
      },
      {
       "output_type": "stream",
       "stream": "stdout",
       "text": [
        "\n",
        "9986600 - 9991200\n",
        "9991200 - 9995800"
       ]
      },
      {
       "output_type": "stream",
       "stream": "stdout",
       "text": [
        "\n",
        "9995800 - 10000400\n",
        "10000400 - 10005000"
       ]
      },
      {
       "output_type": "stream",
       "stream": "stdout",
       "text": [
        "\n",
        "10005000 - 10009600\n",
        "10009600 - 10014200"
       ]
      },
      {
       "output_type": "stream",
       "stream": "stdout",
       "text": [
        "\n",
        "10014200 - 10018800\n",
        "10018800 - 10023400"
       ]
      },
      {
       "output_type": "stream",
       "stream": "stdout",
       "text": [
        "\n",
        "10023400 - 10028000\n",
        "10028000 - 10032600"
       ]
      },
      {
       "output_type": "stream",
       "stream": "stdout",
       "text": [
        "\n",
        "10032600 - 10037200\n",
        "10037200 - 10041800"
       ]
      },
      {
       "output_type": "stream",
       "stream": "stdout",
       "text": [
        "\n",
        "10041800 - 10046400\n",
        "10046400 - 10051000"
       ]
      },
      {
       "output_type": "stream",
       "stream": "stdout",
       "text": [
        "\n",
        "10051000 - 10055600\n",
        "10055600 - 10060200"
       ]
      },
      {
       "output_type": "stream",
       "stream": "stdout",
       "text": [
        "\n",
        "10060200 - 10064800\n",
        "10064800 - 10069400"
       ]
      },
      {
       "output_type": "stream",
       "stream": "stdout",
       "text": [
        "\n",
        "10069400 - 10074000\n",
        "10074000 - 10078600"
       ]
      },
      {
       "output_type": "stream",
       "stream": "stdout",
       "text": [
        "\n",
        "10078600 - 10083200\n",
        "10083200 - 10087800"
       ]
      },
      {
       "output_type": "stream",
       "stream": "stdout",
       "text": [
        "\n",
        "10087800 - 10092400\n",
        "10092400 - 10097000"
       ]
      },
      {
       "output_type": "stream",
       "stream": "stdout",
       "text": [
        "\n",
        "10097000 - 10101600\n",
        "10101600 - 10106200"
       ]
      },
      {
       "output_type": "stream",
       "stream": "stdout",
       "text": [
        "\n",
        "10106200 - 10110800\n",
        "10110800 - 10115400"
       ]
      },
      {
       "output_type": "stream",
       "stream": "stdout",
       "text": [
        "\n",
        "10115400 - 10120000\n",
        "10120000 - 10124600"
       ]
      },
      {
       "output_type": "stream",
       "stream": "stdout",
       "text": [
        "\n",
        "10124600 - 10129200\n",
        "10129200 - 10133800"
       ]
      },
      {
       "output_type": "stream",
       "stream": "stdout",
       "text": [
        "\n",
        "10133800 - 10138400\n",
        "10138400 - 10143000"
       ]
      },
      {
       "output_type": "stream",
       "stream": "stdout",
       "text": [
        "\n",
        "10143000 - 10147600\n",
        "10147600 - 10152200"
       ]
      },
      {
       "output_type": "stream",
       "stream": "stdout",
       "text": [
        "\n",
        "10152200 - 10156800\n",
        "10156800 - 10161400"
       ]
      },
      {
       "output_type": "stream",
       "stream": "stdout",
       "text": [
        "\n",
        "10161400 - 10166000\n",
        "10166000 - 10170600"
       ]
      },
      {
       "output_type": "stream",
       "stream": "stdout",
       "text": [
        "\n",
        "10170600 - 10175200\n",
        "10175200 - 10179800"
       ]
      },
      {
       "output_type": "stream",
       "stream": "stdout",
       "text": [
        "\n",
        "10179800 - 10184400\n",
        "10184400 - 10189000"
       ]
      },
      {
       "output_type": "stream",
       "stream": "stdout",
       "text": [
        "\n",
        "10189000 - 10193600\n",
        "10193600 - 10198200"
       ]
      },
      {
       "output_type": "stream",
       "stream": "stdout",
       "text": [
        "\n",
        "10198200 - 10202800\n",
        "10202800 - 10207400"
       ]
      },
      {
       "output_type": "stream",
       "stream": "stdout",
       "text": [
        "\n",
        "10207400 - 10212000\n",
        "10212000 - 10216600"
       ]
      },
      {
       "output_type": "stream",
       "stream": "stdout",
       "text": [
        "\n",
        "10216600 - 10221200\n",
        "10221200 - 10225800"
       ]
      },
      {
       "output_type": "stream",
       "stream": "stdout",
       "text": [
        "\n",
        "10225800 - 10230400\n",
        "10230400 - 10235000"
       ]
      },
      {
       "output_type": "stream",
       "stream": "stdout",
       "text": [
        "\n",
        "10235000 - 10239600\n",
        "10239600 - 10244200"
       ]
      },
      {
       "output_type": "stream",
       "stream": "stdout",
       "text": [
        "\n",
        "10244200 - 10248800\n",
        "10248800 - 10253400"
       ]
      },
      {
       "output_type": "stream",
       "stream": "stdout",
       "text": [
        "\n",
        "10253400 - 10258000\n",
        "10258000 - 10262600"
       ]
      },
      {
       "output_type": "stream",
       "stream": "stdout",
       "text": [
        "\n",
        "10262600 - 10267200\n",
        "10267200 - 10271800"
       ]
      },
      {
       "output_type": "stream",
       "stream": "stdout",
       "text": [
        "\n",
        "10271800 - 10276400\n",
        "10276400 - 10281000"
       ]
      },
      {
       "output_type": "stream",
       "stream": "stdout",
       "text": [
        "\n",
        "10281000 - 10285600\n",
        "10285600 - 10290200"
       ]
      },
      {
       "output_type": "stream",
       "stream": "stdout",
       "text": [
        "\n",
        "10290200 - 10294800\n",
        "10294800 - 10299400"
       ]
      },
      {
       "output_type": "stream",
       "stream": "stdout",
       "text": [
        "\n",
        "10299400 - 10304000\n",
        "10304000 - 10308600"
       ]
      },
      {
       "output_type": "stream",
       "stream": "stdout",
       "text": [
        "\n",
        "10308600 - 10313200\n",
        "10313200 - 10317800"
       ]
      },
      {
       "output_type": "stream",
       "stream": "stdout",
       "text": [
        "\n",
        "10317800 - 10322400\n",
        "10322400 - 10327000"
       ]
      },
      {
       "output_type": "stream",
       "stream": "stdout",
       "text": [
        "\n",
        "10327000 - 10331600\n",
        "10331600 - 10336200"
       ]
      },
      {
       "output_type": "stream",
       "stream": "stdout",
       "text": [
        "\n",
        "10336200 - 10340800\n",
        "10340800 - 10345400"
       ]
      },
      {
       "output_type": "stream",
       "stream": "stdout",
       "text": [
        "\n",
        "10345400 - 10350000\n",
        "10350000 - 10354600"
       ]
      },
      {
       "output_type": "stream",
       "stream": "stdout",
       "text": [
        "\n",
        "10354600 - 10359200\n",
        "10359200 - 10363800"
       ]
      },
      {
       "output_type": "stream",
       "stream": "stdout",
       "text": [
        "\n",
        "10363800 - 10368400\n",
        "10368400 - 10373000"
       ]
      },
      {
       "output_type": "stream",
       "stream": "stdout",
       "text": [
        "\n",
        "10373000 - 10377600\n",
        "10377600 - 10382200"
       ]
      },
      {
       "output_type": "stream",
       "stream": "stdout",
       "text": [
        "\n",
        "10382200 - 10386800\n",
        "10386800 - 10391400"
       ]
      },
      {
       "output_type": "stream",
       "stream": "stdout",
       "text": [
        "\n",
        "10391400 - 10396000\n",
        "10396000 - 10400600"
       ]
      },
      {
       "output_type": "stream",
       "stream": "stdout",
       "text": [
        "\n",
        "10400600 - 10405200\n",
        "10405200 - 10409800"
       ]
      },
      {
       "output_type": "stream",
       "stream": "stdout",
       "text": [
        "\n",
        "10409800 - 10414400\n",
        "10414400 - 10419000"
       ]
      },
      {
       "output_type": "stream",
       "stream": "stdout",
       "text": [
        "\n",
        "10419000 - 10423600\n",
        "10423600 - 10428200"
       ]
      },
      {
       "output_type": "stream",
       "stream": "stdout",
       "text": [
        "\n",
        "10428200 - 10432800\n",
        "10432800 - 10437400"
       ]
      },
      {
       "output_type": "stream",
       "stream": "stdout",
       "text": [
        "\n",
        "10437400 - 10442000\n",
        "10442000 - 10446600"
       ]
      },
      {
       "output_type": "stream",
       "stream": "stdout",
       "text": [
        "\n",
        "10446600 - 10451200\n",
        "10451200 - 10455800"
       ]
      },
      {
       "output_type": "stream",
       "stream": "stdout",
       "text": [
        "\n",
        "10455800 - 10460400\n",
        "10460400 - 10465000"
       ]
      },
      {
       "output_type": "stream",
       "stream": "stdout",
       "text": [
        "\n",
        "10465000 - 10469600\n",
        "10469600 - 10474200"
       ]
      },
      {
       "output_type": "stream",
       "stream": "stdout",
       "text": [
        "\n",
        "10474200 - 10478800\n",
        "10478800 - 10483400"
       ]
      },
      {
       "output_type": "stream",
       "stream": "stdout",
       "text": [
        "\n",
        "10483400 - 10488000\n",
        "10488000 - 10492600"
       ]
      },
      {
       "output_type": "stream",
       "stream": "stdout",
       "text": [
        "\n",
        "10492600 - 10497200\n",
        "10497200 - 10501800"
       ]
      },
      {
       "output_type": "stream",
       "stream": "stdout",
       "text": [
        "\n",
        "10501800 - 10506400\n",
        "10506400 - 10511000"
       ]
      },
      {
       "output_type": "stream",
       "stream": "stdout",
       "text": [
        "\n",
        "10511000 - 10515600\n",
        "10515600 - 10520200"
       ]
      },
      {
       "output_type": "stream",
       "stream": "stdout",
       "text": [
        "\n",
        "10520200 - 10524800\n",
        "10524800 - 10529400"
       ]
      },
      {
       "output_type": "stream",
       "stream": "stdout",
       "text": [
        "\n",
        "10529400 - 10534000\n",
        "10534000 - 10538600"
       ]
      },
      {
       "output_type": "stream",
       "stream": "stdout",
       "text": [
        "\n",
        "10538600 - 10543200\n",
        "10543200 - 10547800"
       ]
      },
      {
       "output_type": "stream",
       "stream": "stdout",
       "text": [
        "\n",
        "10547800 - 10552400\n",
        "10552400 - 10557000"
       ]
      },
      {
       "output_type": "stream",
       "stream": "stdout",
       "text": [
        "\n",
        "10557000 - 10561600\n",
        "10561600 - 10566200"
       ]
      },
      {
       "output_type": "stream",
       "stream": "stdout",
       "text": [
        "\n",
        "10566200 - 10570800\n",
        "10570800 - 10575400"
       ]
      },
      {
       "output_type": "stream",
       "stream": "stdout",
       "text": [
        "\n",
        "10575400 - 10580000\n",
        "10580000 - 10584600"
       ]
      },
      {
       "output_type": "stream",
       "stream": "stdout",
       "text": [
        "\n",
        "10584600 - 10589200\n",
        "10589200 - 10593800"
       ]
      },
      {
       "output_type": "stream",
       "stream": "stdout",
       "text": [
        "\n",
        "10593800 - 10598400\n",
        "10598400 - 10603000"
       ]
      },
      {
       "output_type": "stream",
       "stream": "stdout",
       "text": [
        "\n",
        "10603000 - 10607600\n",
        "10607600 - 10612200"
       ]
      },
      {
       "output_type": "stream",
       "stream": "stdout",
       "text": [
        "\n",
        "10612200 - 10616800\n",
        "10616800 - 10621400"
       ]
      },
      {
       "output_type": "stream",
       "stream": "stdout",
       "text": [
        "\n",
        "10621400 - 10626000\n",
        "10626000 - 10630600"
       ]
      },
      {
       "output_type": "stream",
       "stream": "stdout",
       "text": [
        "\n",
        "10630600 - 10635200\n",
        "10635200 - 10639800"
       ]
      },
      {
       "output_type": "stream",
       "stream": "stdout",
       "text": [
        "\n",
        "10639800 - 10644400\n",
        "10644400 - 10649000"
       ]
      },
      {
       "output_type": "stream",
       "stream": "stdout",
       "text": [
        "\n",
        "10649000 - 10653600\n",
        "10653600 - 10658200"
       ]
      },
      {
       "output_type": "stream",
       "stream": "stdout",
       "text": [
        "\n",
        "10658200 - 10662800\n",
        "10662800 - 10667400"
       ]
      },
      {
       "output_type": "stream",
       "stream": "stdout",
       "text": [
        "\n",
        "10667400 - 10672000\n",
        "10672000 - 10676600"
       ]
      },
      {
       "output_type": "stream",
       "stream": "stdout",
       "text": [
        "\n",
        "10676600 - 10681200\n",
        "10681200 - 10685800"
       ]
      },
      {
       "output_type": "stream",
       "stream": "stdout",
       "text": [
        "\n",
        "10685800 - 10690400\n",
        "10690400 - 10695000"
       ]
      },
      {
       "output_type": "stream",
       "stream": "stdout",
       "text": [
        "\n",
        "10695000 - 10699600\n",
        "10699600 - 10704200"
       ]
      },
      {
       "output_type": "stream",
       "stream": "stdout",
       "text": [
        "\n",
        "10704200 - 10708800\n",
        "10708800 - 10713400"
       ]
      },
      {
       "output_type": "stream",
       "stream": "stdout",
       "text": [
        "\n",
        "10713400 - 10718000\n",
        "10718000 - 10722600"
       ]
      },
      {
       "output_type": "stream",
       "stream": "stdout",
       "text": [
        "\n",
        "10722600 - 10727200\n",
        "10727200 - 10731800"
       ]
      },
      {
       "output_type": "stream",
       "stream": "stdout",
       "text": [
        "\n",
        "10731800 - 10736400\n",
        "10736400 - 10741000"
       ]
      },
      {
       "output_type": "stream",
       "stream": "stdout",
       "text": [
        "\n",
        "10741000 - 10745600\n",
        "10745600 - 10750200"
       ]
      },
      {
       "output_type": "stream",
       "stream": "stdout",
       "text": [
        "\n",
        "10750200 - 10754800\n",
        "10754800 - 10759400"
       ]
      },
      {
       "output_type": "stream",
       "stream": "stdout",
       "text": [
        "\n",
        "10759400 - 10764000\n",
        "10764000 - 10768600"
       ]
      },
      {
       "output_type": "stream",
       "stream": "stdout",
       "text": [
        "\n",
        "10768600 - 10773200\n",
        "10773200 - 10777800"
       ]
      },
      {
       "output_type": "stream",
       "stream": "stdout",
       "text": [
        "\n",
        "10777800 - 10782400\n",
        "10782400 - 10787000"
       ]
      },
      {
       "output_type": "stream",
       "stream": "stdout",
       "text": [
        "\n",
        "10787000 - 10791600\n",
        "10791600 - 10796200"
       ]
      },
      {
       "output_type": "stream",
       "stream": "stdout",
       "text": [
        "\n",
        "10796200 - 10800800\n",
        "10800800 - 10805400"
       ]
      },
      {
       "output_type": "stream",
       "stream": "stdout",
       "text": [
        "\n",
        "10805400 - 10810000\n",
        "10810000 - 10814600"
       ]
      },
      {
       "output_type": "stream",
       "stream": "stdout",
       "text": [
        "\n",
        "10814600 - 10819200\n",
        "10819200 - 10823800"
       ]
      },
      {
       "output_type": "stream",
       "stream": "stdout",
       "text": [
        "\n",
        "10823800 - 10828400\n",
        "10828400 - 10833000"
       ]
      },
      {
       "output_type": "stream",
       "stream": "stdout",
       "text": [
        "\n",
        "10833000 - 10837600\n",
        "10837600 - 10842200"
       ]
      },
      {
       "output_type": "stream",
       "stream": "stdout",
       "text": [
        "\n",
        "10842200 - 10846800\n",
        "10846800 - 10851400"
       ]
      },
      {
       "output_type": "stream",
       "stream": "stdout",
       "text": [
        "\n",
        "10851400 - 10856000\n",
        "10856000 - 10860600"
       ]
      },
      {
       "output_type": "stream",
       "stream": "stdout",
       "text": [
        "\n",
        "10860600 - 10865200\n",
        "10865200 - 10869800"
       ]
      },
      {
       "output_type": "stream",
       "stream": "stdout",
       "text": [
        "\n",
        "10869800 - 10874400\n",
        "10874400 - 10879000"
       ]
      },
      {
       "output_type": "stream",
       "stream": "stdout",
       "text": [
        "\n",
        "10879000 - 10883600\n",
        "10883600 - 10888200"
       ]
      },
      {
       "output_type": "stream",
       "stream": "stdout",
       "text": [
        "\n",
        "10888200 - 10892800\n",
        "10892800 - 10897400"
       ]
      },
      {
       "output_type": "stream",
       "stream": "stdout",
       "text": [
        "\n",
        "10897400 - 10902000\n",
        "10902000 - 10906600"
       ]
      },
      {
       "output_type": "stream",
       "stream": "stdout",
       "text": [
        "\n",
        "10906600 - 10911200\n",
        "10911200 - 10915800"
       ]
      },
      {
       "output_type": "stream",
       "stream": "stdout",
       "text": [
        "\n",
        "10915800 - 10920400\n",
        "10920400 - 10925000"
       ]
      },
      {
       "output_type": "stream",
       "stream": "stdout",
       "text": [
        "\n",
        "10925000 - 10929600\n",
        "10929600 - 10934200"
       ]
      },
      {
       "output_type": "stream",
       "stream": "stdout",
       "text": [
        "\n",
        "10934200 - 10938800\n",
        "10938800 - 10943400"
       ]
      },
      {
       "output_type": "stream",
       "stream": "stdout",
       "text": [
        "\n",
        "10943400 - 10948000\n",
        "10948000 - 10952600"
       ]
      },
      {
       "output_type": "stream",
       "stream": "stdout",
       "text": [
        "\n",
        "10952600 - 10957200\n",
        "10957200 - 10961800"
       ]
      },
      {
       "output_type": "stream",
       "stream": "stdout",
       "text": [
        "\n",
        "10961800 - 10966400\n",
        "10966400 - 10971000"
       ]
      },
      {
       "output_type": "stream",
       "stream": "stdout",
       "text": [
        "\n",
        "10971000 - 10975600\n",
        "10975600 - 10980200"
       ]
      },
      {
       "output_type": "stream",
       "stream": "stdout",
       "text": [
        "\n",
        "10980200 - 10984800\n",
        "10984800 - 10989400"
       ]
      },
      {
       "output_type": "stream",
       "stream": "stdout",
       "text": [
        "\n",
        "10989400 - 10994000\n",
        "10994000 - 10998600"
       ]
      },
      {
       "output_type": "stream",
       "stream": "stdout",
       "text": [
        "\n",
        "10998600 - 11003200\n",
        "11003200 - 11007800"
       ]
      },
      {
       "output_type": "stream",
       "stream": "stdout",
       "text": [
        "\n",
        "11007800 - 11012400\n",
        "11012400 - 11017000"
       ]
      },
      {
       "output_type": "stream",
       "stream": "stdout",
       "text": [
        "\n",
        "11017000 - 11021600\n",
        "11021600 - 11026200"
       ]
      },
      {
       "output_type": "stream",
       "stream": "stdout",
       "text": [
        "\n",
        "11026200 - 11030800\n",
        "11030800 - 11035400"
       ]
      },
      {
       "output_type": "stream",
       "stream": "stdout",
       "text": [
        "\n",
        "11035400 - 11040000\n",
        "11040000 - 11044600"
       ]
      },
      {
       "output_type": "stream",
       "stream": "stdout",
       "text": [
        "\n",
        "11044600 - 11049200\n",
        "11049200 - 11053800"
       ]
      },
      {
       "output_type": "stream",
       "stream": "stdout",
       "text": [
        "\n",
        "11053800 - 11058400\n",
        "11058400 - 11063000"
       ]
      },
      {
       "output_type": "stream",
       "stream": "stdout",
       "text": [
        "\n",
        "11063000 - 11067600\n",
        "11067600 - 11072200"
       ]
      },
      {
       "output_type": "stream",
       "stream": "stdout",
       "text": [
        "\n",
        "11072200 - 11076800\n",
        "11076800 - 11081400"
       ]
      },
      {
       "output_type": "stream",
       "stream": "stdout",
       "text": [
        "\n",
        "11081400 - 11086000\n",
        "11086000 - 11090600"
       ]
      },
      {
       "output_type": "stream",
       "stream": "stdout",
       "text": [
        "\n",
        "11090600 - 11095200\n",
        "11095200 - 11099800"
       ]
      },
      {
       "output_type": "stream",
       "stream": "stdout",
       "text": [
        "\n",
        "11099800 - 11104400\n",
        "11104400 - 11109000"
       ]
      },
      {
       "output_type": "stream",
       "stream": "stdout",
       "text": [
        "\n",
        "11109000 - 11113600\n",
        "11113600 - 11118200"
       ]
      },
      {
       "output_type": "stream",
       "stream": "stdout",
       "text": [
        "\n",
        "11118200 - 11122800\n",
        "11122800 - 11127400"
       ]
      },
      {
       "output_type": "stream",
       "stream": "stdout",
       "text": [
        "\n",
        "11127400 - 11132000\n",
        "11132000 - 11136600"
       ]
      },
      {
       "output_type": "stream",
       "stream": "stdout",
       "text": [
        "\n",
        "11136600 - 11141200\n",
        "11141200 - 11145800"
       ]
      },
      {
       "output_type": "stream",
       "stream": "stdout",
       "text": [
        "\n",
        "11145800 - 11150400\n",
        "11150400 - 11155000"
       ]
      },
      {
       "output_type": "stream",
       "stream": "stdout",
       "text": [
        "\n",
        "11155000 - 11159600\n",
        "11159600 - 11164200"
       ]
      },
      {
       "output_type": "stream",
       "stream": "stdout",
       "text": [
        "\n",
        "11164200 - 11168800\n",
        "11168800 - 11173400"
       ]
      },
      {
       "output_type": "stream",
       "stream": "stdout",
       "text": [
        "\n",
        "11173400 - 11178000\n",
        "11178000 - 11182600"
       ]
      },
      {
       "output_type": "stream",
       "stream": "stdout",
       "text": [
        "\n",
        "11182600 - 11187200\n",
        "11187200 - 11191800"
       ]
      },
      {
       "output_type": "stream",
       "stream": "stdout",
       "text": [
        "\n",
        "11191800 - 11196400\n",
        "11196400 - 11201000"
       ]
      },
      {
       "output_type": "stream",
       "stream": "stdout",
       "text": [
        "\n",
        "11201000 - 11205600\n",
        "11205600 - 11210200"
       ]
      },
      {
       "output_type": "stream",
       "stream": "stdout",
       "text": [
        "\n",
        "11210200 - 11214800\n",
        "11214800 - 11219400"
       ]
      },
      {
       "output_type": "stream",
       "stream": "stdout",
       "text": [
        "\n",
        "11219400 - 11224000\n",
        "11224000 - 11228600"
       ]
      },
      {
       "output_type": "stream",
       "stream": "stdout",
       "text": [
        "\n",
        "11228600 - 11233200\n",
        "11233200 - 11237800"
       ]
      },
      {
       "output_type": "stream",
       "stream": "stdout",
       "text": [
        "\n",
        "11237800 - 11242400\n",
        "11242400 - 11247000"
       ]
      },
      {
       "output_type": "stream",
       "stream": "stdout",
       "text": [
        "\n",
        "11247000 - 11251600\n",
        "11251600 - 11256200"
       ]
      },
      {
       "output_type": "stream",
       "stream": "stdout",
       "text": [
        "\n",
        "11256200 - 11260800\n",
        "11260800 - 11265400"
       ]
      },
      {
       "output_type": "stream",
       "stream": "stdout",
       "text": [
        "\n",
        "11265400 - 11270000\n",
        "11270000 - 11274600"
       ]
      },
      {
       "output_type": "stream",
       "stream": "stdout",
       "text": [
        "\n",
        "11274600 - 11279200\n",
        "11279200 - 11283800"
       ]
      },
      {
       "output_type": "stream",
       "stream": "stdout",
       "text": [
        "\n",
        "11283800 - 11288400\n",
        "11288400 - 11293000"
       ]
      },
      {
       "output_type": "stream",
       "stream": "stdout",
       "text": [
        "\n",
        "11293000 - 11297600\n",
        "11297600 - 11302200"
       ]
      },
      {
       "output_type": "stream",
       "stream": "stdout",
       "text": [
        "\n",
        "11302200 - 11306800\n",
        "11306800 - 11311400"
       ]
      },
      {
       "output_type": "stream",
       "stream": "stdout",
       "text": [
        "\n",
        "11311400 - 11316000\n",
        "11316000 - 11320600"
       ]
      },
      {
       "output_type": "stream",
       "stream": "stdout",
       "text": [
        "\n",
        "11320600 - 11325200\n",
        "11325200 - 11329800"
       ]
      },
      {
       "output_type": "stream",
       "stream": "stdout",
       "text": [
        "\n",
        "11329800 - 11334400\n",
        "11334400 - 11339000"
       ]
      },
      {
       "output_type": "stream",
       "stream": "stdout",
       "text": [
        "\n",
        "11339000 - 11343600\n",
        "11343600 - 11348200"
       ]
      },
      {
       "output_type": "stream",
       "stream": "stdout",
       "text": [
        "\n",
        "11348200 - 11352800\n",
        "11352800 - 11357400"
       ]
      },
      {
       "output_type": "stream",
       "stream": "stdout",
       "text": [
        "\n",
        "11357400 - 11362000\n",
        "11362000 - 11366600"
       ]
      },
      {
       "output_type": "stream",
       "stream": "stdout",
       "text": [
        "\n",
        "11366600 - 11371200\n",
        "11371200 - 11375800"
       ]
      },
      {
       "output_type": "stream",
       "stream": "stdout",
       "text": [
        "\n",
        "11375800 - 11380400\n",
        "11380400 - 11385000"
       ]
      },
      {
       "output_type": "stream",
       "stream": "stdout",
       "text": [
        "\n",
        "11385000 - 11389600\n",
        "11389600 - 11394200"
       ]
      },
      {
       "output_type": "stream",
       "stream": "stdout",
       "text": [
        "\n",
        "11394200 - 11398800\n",
        "11398800 - 11403400"
       ]
      },
      {
       "output_type": "stream",
       "stream": "stdout",
       "text": [
        "\n",
        "11403400 - 11408000\n",
        "11408000 - 11412600"
       ]
      },
      {
       "output_type": "stream",
       "stream": "stdout",
       "text": [
        "\n",
        "11412600 - 11417200\n",
        "11417200 - 11421800"
       ]
      },
      {
       "output_type": "stream",
       "stream": "stdout",
       "text": [
        "\n",
        "11421800 - 11426400\n",
        "11426400 - 11431000"
       ]
      },
      {
       "output_type": "stream",
       "stream": "stdout",
       "text": [
        "\n",
        "11431000 - 11435600\n",
        "11435600 - 11440200"
       ]
      },
      {
       "output_type": "stream",
       "stream": "stdout",
       "text": [
        "\n",
        "11440200 - 11444800\n",
        "11444800 - 11449400"
       ]
      },
      {
       "output_type": "stream",
       "stream": "stdout",
       "text": [
        "\n",
        "11449400 - 11454000\n",
        "11454000 - 11458600"
       ]
      },
      {
       "output_type": "stream",
       "stream": "stdout",
       "text": [
        "\n",
        "11458600 - 11463200\n",
        "11463200 - 11467800"
       ]
      },
      {
       "output_type": "stream",
       "stream": "stdout",
       "text": [
        "\n",
        "11467800 - 11472400\n",
        "11472400 - 11477000"
       ]
      },
      {
       "output_type": "stream",
       "stream": "stdout",
       "text": [
        "\n",
        "11477000 - 11481600\n",
        "11481600 - 11486200"
       ]
      },
      {
       "output_type": "stream",
       "stream": "stdout",
       "text": [
        "\n",
        "11486200 - 11490800\n",
        "11490800 - 11495400"
       ]
      },
      {
       "output_type": "stream",
       "stream": "stdout",
       "text": [
        "\n",
        "11495400 - 11500000\n",
        "11500000 - 11504600"
       ]
      },
      {
       "output_type": "stream",
       "stream": "stdout",
       "text": [
        "\n",
        "11504600 - 11509200\n",
        "11509200 - 11513800"
       ]
      },
      {
       "output_type": "stream",
       "stream": "stdout",
       "text": [
        "\n",
        "11513800 - 11518400\n",
        "11518400 - 11523000"
       ]
      },
      {
       "output_type": "stream",
       "stream": "stdout",
       "text": [
        "\n",
        "11523000 - 11527600\n",
        "11527600 - 11532200"
       ]
      },
      {
       "output_type": "stream",
       "stream": "stdout",
       "text": [
        "\n",
        "11532200 - 11536800\n",
        "11536800 - 11541400"
       ]
      },
      {
       "output_type": "stream",
       "stream": "stdout",
       "text": [
        "\n",
        "11541400 - 11546000\n",
        "11546000 - 11550600"
       ]
      },
      {
       "output_type": "stream",
       "stream": "stdout",
       "text": [
        "\n",
        "11550600 - 11555200\n",
        "11555200 - 11559800"
       ]
      },
      {
       "output_type": "stream",
       "stream": "stdout",
       "text": [
        "\n",
        "11559800 - 11564400\n",
        "11564400 - 11569000"
       ]
      },
      {
       "output_type": "stream",
       "stream": "stdout",
       "text": [
        "\n",
        "11569000 - 11573600\n",
        "11573600 - 11578200"
       ]
      },
      {
       "output_type": "stream",
       "stream": "stdout",
       "text": [
        "\n",
        "11578200 - 11582800\n",
        "11582800 - 11587400"
       ]
      },
      {
       "output_type": "stream",
       "stream": "stdout",
       "text": [
        "\n",
        "11587400 - 11592000\n",
        "11592000 - 11596600"
       ]
      },
      {
       "output_type": "stream",
       "stream": "stdout",
       "text": [
        "\n",
        "11596600 - 11601200\n",
        "11601200 - 11605800"
       ]
      },
      {
       "output_type": "stream",
       "stream": "stdout",
       "text": [
        "\n",
        "11605800 - 11610400\n",
        "11610400 - 11615000"
       ]
      },
      {
       "output_type": "stream",
       "stream": "stdout",
       "text": [
        "\n",
        "11615000 - 11619600\n",
        "11619600 - 11624200"
       ]
      },
      {
       "output_type": "stream",
       "stream": "stdout",
       "text": [
        "\n",
        "11624200 - 11628800\n",
        "11628800 - 11633400"
       ]
      },
      {
       "output_type": "stream",
       "stream": "stdout",
       "text": [
        "\n",
        "11633400 - 11638000\n",
        "11638000 - 11642600"
       ]
      },
      {
       "output_type": "stream",
       "stream": "stdout",
       "text": [
        "\n",
        "11642600 - 11647200\n",
        "11647200 - 11651800"
       ]
      },
      {
       "output_type": "stream",
       "stream": "stdout",
       "text": [
        "\n",
        "11651800 - 11656400\n",
        "11656400 - 11661000"
       ]
      },
      {
       "output_type": "stream",
       "stream": "stdout",
       "text": [
        "\n",
        "11661000 - 11665600\n",
        "11665600 - 11670200"
       ]
      },
      {
       "output_type": "stream",
       "stream": "stdout",
       "text": [
        "\n",
        "11670200 - 11674800\n",
        "11674800 - 11679400"
       ]
      },
      {
       "output_type": "stream",
       "stream": "stdout",
       "text": [
        "\n",
        "11679400 - 11684000\n",
        "11684000 - 11688600"
       ]
      },
      {
       "output_type": "stream",
       "stream": "stdout",
       "text": [
        "\n",
        "11688600 - 11693200\n",
        "11693200 - 11697800"
       ]
      },
      {
       "output_type": "stream",
       "stream": "stdout",
       "text": [
        "\n",
        "11697800 - 11702400\n",
        "11702400 - 11707000"
       ]
      },
      {
       "output_type": "stream",
       "stream": "stdout",
       "text": [
        "\n",
        "11707000 - 11711600\n",
        "11711600 - 11716200"
       ]
      },
      {
       "output_type": "stream",
       "stream": "stdout",
       "text": [
        "\n",
        "11716200 - 11720800\n",
        "11720800 - 11725400"
       ]
      },
      {
       "output_type": "stream",
       "stream": "stdout",
       "text": [
        "\n",
        "11725400 - 11730000\n",
        "11730000 - 11734600"
       ]
      },
      {
       "output_type": "stream",
       "stream": "stdout",
       "text": [
        "\n",
        "11734600 - 11739200\n",
        "11739200 - 11743800"
       ]
      },
      {
       "output_type": "stream",
       "stream": "stdout",
       "text": [
        "\n",
        "11743800 - 11748400\n",
        "11748400 - 11753000"
       ]
      },
      {
       "output_type": "stream",
       "stream": "stdout",
       "text": [
        "\n",
        "11753000 - 11757600\n",
        "11757600 - 11762200"
       ]
      },
      {
       "output_type": "stream",
       "stream": "stdout",
       "text": [
        "\n",
        "11762200 - 11766800\n",
        "11766800 - 11771400"
       ]
      },
      {
       "output_type": "stream",
       "stream": "stdout",
       "text": [
        "\n",
        "11771400 - 11776000\n",
        "11776000 - 11780600"
       ]
      },
      {
       "output_type": "stream",
       "stream": "stdout",
       "text": [
        "\n",
        "11780600 - 11785200\n",
        "11785200 - 11789800"
       ]
      },
      {
       "output_type": "stream",
       "stream": "stdout",
       "text": [
        "\n",
        "11789800 - 11794400\n",
        "11794400 - 11799000"
       ]
      },
      {
       "output_type": "stream",
       "stream": "stdout",
       "text": [
        "\n",
        "11799000 - 11803600\n",
        "11803600 - 11808200"
       ]
      },
      {
       "output_type": "stream",
       "stream": "stdout",
       "text": [
        "\n",
        "11808200 - 11812800\n",
        "11812800 - 11817400"
       ]
      },
      {
       "output_type": "stream",
       "stream": "stdout",
       "text": [
        "\n",
        "11817400 - 11822000\n",
        "11822000 - 11826600"
       ]
      },
      {
       "output_type": "stream",
       "stream": "stdout",
       "text": [
        "\n",
        "11826600 - 11831200\n",
        "11831200 - 11835800"
       ]
      },
      {
       "output_type": "stream",
       "stream": "stdout",
       "text": [
        "\n",
        "11835800 - 11840400\n",
        "11840400 - 11845000"
       ]
      },
      {
       "output_type": "stream",
       "stream": "stdout",
       "text": [
        "\n",
        "11845000 - 11849600\n",
        "11849600 - 11854200"
       ]
      },
      {
       "output_type": "stream",
       "stream": "stdout",
       "text": [
        "\n",
        "11854200 - 11858800\n",
        "11858800 - 11863400"
       ]
      },
      {
       "output_type": "stream",
       "stream": "stdout",
       "text": [
        "\n",
        "11863400 - 11868000\n",
        "11868000 - 11872600"
       ]
      },
      {
       "output_type": "stream",
       "stream": "stdout",
       "text": [
        "\n",
        "11872600 - 11877200\n",
        "11877200 - 11881800"
       ]
      },
      {
       "output_type": "stream",
       "stream": "stdout",
       "text": [
        "\n",
        "11881800 - 11886400\n",
        "11886400 - 11891000"
       ]
      },
      {
       "output_type": "stream",
       "stream": "stdout",
       "text": [
        "\n",
        "11891000 - 11895600\n",
        "11895600 - 11900200"
       ]
      },
      {
       "output_type": "stream",
       "stream": "stdout",
       "text": [
        "\n",
        "11900200 - 11904800\n",
        "11904800 - 11909400"
       ]
      },
      {
       "output_type": "stream",
       "stream": "stdout",
       "text": [
        "\n",
        "11909400 - 11914000\n",
        "11914000 - 11918600"
       ]
      },
      {
       "output_type": "stream",
       "stream": "stdout",
       "text": [
        "\n",
        "11918600 - 11923200\n",
        "11923200 - 11927800"
       ]
      },
      {
       "output_type": "stream",
       "stream": "stdout",
       "text": [
        "\n",
        "11927800 - 11932400\n",
        "11932400 - 11937000"
       ]
      },
      {
       "output_type": "stream",
       "stream": "stdout",
       "text": [
        "\n",
        "11937000 - 11941600\n",
        "11941600 - 11946200"
       ]
      },
      {
       "output_type": "stream",
       "stream": "stdout",
       "text": [
        "\n",
        "11946200 - 11950800\n",
        "11950800 - 11955400"
       ]
      },
      {
       "output_type": "stream",
       "stream": "stdout",
       "text": [
        "\n",
        "11955400 - 11960000\n",
        "11960000 - 11964600"
       ]
      },
      {
       "output_type": "stream",
       "stream": "stdout",
       "text": [
        "\n",
        "11964600 - 11969200\n",
        "11969200 - 11973800"
       ]
      },
      {
       "output_type": "stream",
       "stream": "stdout",
       "text": [
        "\n",
        "11973800 - 11978400\n",
        "11978400 - 11983000"
       ]
      },
      {
       "output_type": "stream",
       "stream": "stdout",
       "text": [
        "\n",
        "11983000 - 11987600\n",
        "11987600 - 11992200"
       ]
      },
      {
       "output_type": "stream",
       "stream": "stdout",
       "text": [
        "\n",
        "11992200 - 11996800\n",
        "11996800 - 12001400"
       ]
      },
      {
       "output_type": "stream",
       "stream": "stdout",
       "text": [
        "\n",
        "12001400 - 12006000\n",
        "12006000 - 12010600"
       ]
      },
      {
       "output_type": "stream",
       "stream": "stdout",
       "text": [
        "\n",
        "12010600 - 12015200\n",
        "12015200 - 12019800"
       ]
      },
      {
       "output_type": "stream",
       "stream": "stdout",
       "text": [
        "\n",
        "12019800 - 12024400\n",
        "12024400 - 12029000"
       ]
      },
      {
       "output_type": "stream",
       "stream": "stdout",
       "text": [
        "\n",
        "12029000 - 12033600\n",
        "12033600 - 12038200"
       ]
      },
      {
       "output_type": "stream",
       "stream": "stdout",
       "text": [
        "\n",
        "12038200 - 12042800\n",
        "12042800 - 12047400"
       ]
      },
      {
       "output_type": "stream",
       "stream": "stdout",
       "text": [
        "\n",
        "12047400 - 12052000\n",
        "12052000 - 12056600"
       ]
      },
      {
       "output_type": "stream",
       "stream": "stdout",
       "text": [
        "\n",
        "12056600 - 12061200\n",
        "12061200 - 12065800"
       ]
      },
      {
       "output_type": "stream",
       "stream": "stdout",
       "text": [
        "\n",
        "12065800 - 12070400\n",
        "12070400 - 12075000"
       ]
      },
      {
       "output_type": "stream",
       "stream": "stdout",
       "text": [
        "\n",
        "12075000 - 12079600\n",
        "12079600 - 12084200"
       ]
      },
      {
       "output_type": "stream",
       "stream": "stdout",
       "text": [
        "\n",
        "12084200 - 12088800\n",
        "12088800 - 12093400"
       ]
      },
      {
       "output_type": "stream",
       "stream": "stdout",
       "text": [
        "\n",
        "12093400 - 12098000\n",
        "12098000 - 12102600"
       ]
      },
      {
       "output_type": "stream",
       "stream": "stdout",
       "text": [
        "\n",
        "12102600 - 12107200\n",
        "12107200 - 12111800"
       ]
      },
      {
       "output_type": "stream",
       "stream": "stdout",
       "text": [
        "\n",
        "12111800 - 12116400\n",
        "12116400 - 12121000"
       ]
      },
      {
       "output_type": "stream",
       "stream": "stdout",
       "text": [
        "\n",
        "12121000 - 12125600\n",
        "12125600 - 12130200"
       ]
      },
      {
       "output_type": "stream",
       "stream": "stdout",
       "text": [
        "\n",
        "12130200 - 12134800\n",
        "12134800 - 12139400"
       ]
      },
      {
       "output_type": "stream",
       "stream": "stdout",
       "text": [
        "\n",
        "12139400 - 12144000\n",
        "12144000 - 12148600"
       ]
      },
      {
       "output_type": "stream",
       "stream": "stdout",
       "text": [
        "\n",
        "12148600 - 12153200\n",
        "12153200 - 12157800"
       ]
      },
      {
       "output_type": "stream",
       "stream": "stdout",
       "text": [
        "\n",
        "12157800 - 12162400\n",
        "12162400 - 12167000"
       ]
      },
      {
       "output_type": "stream",
       "stream": "stdout",
       "text": [
        "\n",
        "12167000 - 12171600\n",
        "12171600 - 12176200"
       ]
      },
      {
       "output_type": "stream",
       "stream": "stdout",
       "text": [
        "\n",
        "12176200 - 12180800\n",
        "12180800 - 12185400"
       ]
      },
      {
       "output_type": "stream",
       "stream": "stdout",
       "text": [
        "\n",
        "12185400 - 12190000\n",
        "12190000 - 12194600"
       ]
      },
      {
       "output_type": "stream",
       "stream": "stdout",
       "text": [
        "\n",
        "12194600 - 12199200\n",
        "12199200 - 12203800"
       ]
      },
      {
       "output_type": "stream",
       "stream": "stdout",
       "text": [
        "\n",
        "12203800 - 12208400\n",
        "12208400 - 12213000"
       ]
      },
      {
       "output_type": "stream",
       "stream": "stdout",
       "text": [
        "\n",
        "12213000 - 12217600\n",
        "12217600 - 12222200"
       ]
      },
      {
       "output_type": "stream",
       "stream": "stdout",
       "text": [
        "\n",
        "12222200 - 12226800\n",
        "12226800 - 12231400"
       ]
      },
      {
       "output_type": "stream",
       "stream": "stdout",
       "text": [
        "\n",
        "12231400 - 12236000\n",
        "12236000 - 12240600"
       ]
      },
      {
       "output_type": "stream",
       "stream": "stdout",
       "text": [
        "\n",
        "12240600 - 12245200\n",
        "12245200 - 12249800"
       ]
      },
      {
       "output_type": "stream",
       "stream": "stdout",
       "text": [
        "\n",
        "12249800 - 12254400\n",
        "12254400 - 12259000"
       ]
      },
      {
       "output_type": "stream",
       "stream": "stdout",
       "text": [
        "\n",
        "12259000 - 12263600\n",
        "12263600 - 12268200"
       ]
      },
      {
       "output_type": "stream",
       "stream": "stdout",
       "text": [
        "\n",
        "12268200 - 12272800\n",
        "12272800 - 12277400"
       ]
      },
      {
       "output_type": "stream",
       "stream": "stdout",
       "text": [
        "\n",
        "12277400 - 12282000\n",
        "12282000 - 12286600"
       ]
      },
      {
       "output_type": "stream",
       "stream": "stdout",
       "text": [
        "\n",
        "12286600 - 12291200\n",
        "12291200 - 12295800"
       ]
      },
      {
       "output_type": "stream",
       "stream": "stdout",
       "text": [
        "\n",
        "12295800 - 12300400\n",
        "12300400 - 12305000"
       ]
      },
      {
       "output_type": "stream",
       "stream": "stdout",
       "text": [
        "\n",
        "12305000 - 12309600\n",
        "12309600 - 12314200"
       ]
      },
      {
       "output_type": "stream",
       "stream": "stdout",
       "text": [
        "\n",
        "12314200 - 12318800\n",
        "12318800 - 12323400"
       ]
      },
      {
       "output_type": "stream",
       "stream": "stdout",
       "text": [
        "\n",
        "12323400 - 12328000\n",
        "12328000 - 12332600"
       ]
      },
      {
       "output_type": "stream",
       "stream": "stdout",
       "text": [
        "\n",
        "12332600 - 12337200\n",
        "12337200 - 12341800"
       ]
      },
      {
       "output_type": "stream",
       "stream": "stdout",
       "text": [
        "\n",
        "12341800 - 12346400\n",
        "12346400 - 12351000"
       ]
      },
      {
       "output_type": "stream",
       "stream": "stdout",
       "text": [
        "\n",
        "12351000 - 12355600\n",
        "12355600 - 12360200"
       ]
      },
      {
       "output_type": "stream",
       "stream": "stdout",
       "text": [
        "\n",
        "12360200 - 12364800\n",
        "12364800 - 12369400"
       ]
      },
      {
       "output_type": "stream",
       "stream": "stdout",
       "text": [
        "\n",
        "12369400 - 12374000\n",
        "12374000 - 12378600"
       ]
      },
      {
       "output_type": "stream",
       "stream": "stdout",
       "text": [
        "\n",
        "12378600 - 12383200\n",
        "12383200 - 12387800"
       ]
      },
      {
       "output_type": "stream",
       "stream": "stdout",
       "text": [
        "\n",
        "12387800 - 12392400\n",
        "12392400 - 12397000"
       ]
      },
      {
       "output_type": "stream",
       "stream": "stdout",
       "text": [
        "\n",
        "12397000 - 12401600\n",
        "12401600 - 12406200"
       ]
      },
      {
       "output_type": "stream",
       "stream": "stdout",
       "text": [
        "\n",
        "12406200 - 12410800\n",
        "12410800 - 12415400"
       ]
      },
      {
       "output_type": "stream",
       "stream": "stdout",
       "text": [
        "\n",
        "12415400 - 12420000\n",
        "12420000 - 12424600"
       ]
      },
      {
       "output_type": "stream",
       "stream": "stdout",
       "text": [
        "\n",
        "12424600 - 12429200\n",
        "12429200 - 12433800"
       ]
      },
      {
       "output_type": "stream",
       "stream": "stdout",
       "text": [
        "\n",
        "12433800 - 12438400\n",
        "12438400 - 12443000"
       ]
      },
      {
       "output_type": "stream",
       "stream": "stdout",
       "text": [
        "\n",
        "12443000 - 12447600\n",
        "12447600 - 12452200"
       ]
      },
      {
       "output_type": "stream",
       "stream": "stdout",
       "text": [
        "\n",
        "12452200 - 12456800\n",
        "12456800 - 12461400"
       ]
      },
      {
       "output_type": "stream",
       "stream": "stdout",
       "text": [
        "\n",
        "12461400 - 12466000\n",
        "12466000 - 12470600"
       ]
      },
      {
       "output_type": "stream",
       "stream": "stdout",
       "text": [
        "\n",
        "12470600 - 12475200\n",
        "12475200 - 12479800"
       ]
      },
      {
       "output_type": "stream",
       "stream": "stdout",
       "text": [
        "\n",
        "12479800 - 12484400\n",
        "12484400 - 12489000"
       ]
      },
      {
       "output_type": "stream",
       "stream": "stdout",
       "text": [
        "\n",
        "12489000 - 12493600\n",
        "12493600 - 12498200"
       ]
      },
      {
       "output_type": "stream",
       "stream": "stdout",
       "text": [
        "\n",
        "12498200 - 12502800\n",
        "12502800 - 12507400"
       ]
      },
      {
       "output_type": "stream",
       "stream": "stdout",
       "text": [
        "\n",
        "12507400 - 12512000\n",
        "12512000 - 12516600"
       ]
      },
      {
       "output_type": "stream",
       "stream": "stdout",
       "text": [
        "\n",
        "12516600 - 12521200\n",
        "12521200 - 12525800"
       ]
      },
      {
       "output_type": "stream",
       "stream": "stdout",
       "text": [
        "\n",
        "12525800 - 12530400\n",
        "12530400 - 12535000"
       ]
      },
      {
       "output_type": "stream",
       "stream": "stdout",
       "text": [
        "\n",
        "12535000 - 12539600\n",
        "12539600 - 12544200"
       ]
      },
      {
       "output_type": "stream",
       "stream": "stdout",
       "text": [
        "\n",
        "12544200 - 12548800\n",
        "12548800 - 12553400"
       ]
      },
      {
       "output_type": "stream",
       "stream": "stdout",
       "text": [
        "\n",
        "12553400 - 12558000\n",
        "12558000 - 12562600"
       ]
      },
      {
       "output_type": "stream",
       "stream": "stdout",
       "text": [
        "\n",
        "12562600 - 12567200\n",
        "12567200 - 12571800"
       ]
      },
      {
       "output_type": "stream",
       "stream": "stdout",
       "text": [
        "\n",
        "12571800 - 12576400\n",
        "12576400 - 12581000"
       ]
      },
      {
       "output_type": "stream",
       "stream": "stdout",
       "text": [
        "\n",
        "12581000 - 12585600\n",
        "12585600 - 12590200"
       ]
      },
      {
       "output_type": "stream",
       "stream": "stdout",
       "text": [
        "\n",
        "12590200 - 12594800\n",
        "12594800 - 12599400"
       ]
      },
      {
       "output_type": "stream",
       "stream": "stdout",
       "text": [
        "\n",
        "12599400 - 12604000\n",
        "12604000 - 12608600"
       ]
      },
      {
       "output_type": "stream",
       "stream": "stdout",
       "text": [
        "\n",
        "12608600 - 12613200\n",
        "12613200 - 12617800"
       ]
      },
      {
       "output_type": "stream",
       "stream": "stdout",
       "text": [
        "\n",
        "12617800 - 12622400\n",
        "12622400 - 12627000"
       ]
      },
      {
       "output_type": "stream",
       "stream": "stdout",
       "text": [
        "\n",
        "12627000 - 12631600\n",
        "12631600 - 12636200"
       ]
      },
      {
       "output_type": "stream",
       "stream": "stdout",
       "text": [
        "\n",
        "12636200 - 12640800\n",
        "12640800 - 12645400"
       ]
      },
      {
       "output_type": "stream",
       "stream": "stdout",
       "text": [
        "\n",
        "12645400 - 12650000\n",
        "12650000 - 12654600"
       ]
      },
      {
       "output_type": "stream",
       "stream": "stdout",
       "text": [
        "\n",
        "12654600 - 12659200\n",
        "12659200 - 12663800"
       ]
      },
      {
       "output_type": "stream",
       "stream": "stdout",
       "text": [
        "\n",
        "12663800 - 12668400\n",
        "12668400 - 12673000"
       ]
      },
      {
       "output_type": "stream",
       "stream": "stdout",
       "text": [
        "\n",
        "12673000 - 12677600\n",
        "12677600 - 12682200"
       ]
      },
      {
       "output_type": "stream",
       "stream": "stdout",
       "text": [
        "\n",
        "12682200 - 12686800\n",
        "12686800 - 12691400"
       ]
      },
      {
       "output_type": "stream",
       "stream": "stdout",
       "text": [
        "\n",
        "12691400 - 12696000\n",
        "12696000 - 12700600"
       ]
      },
      {
       "output_type": "stream",
       "stream": "stdout",
       "text": [
        "\n",
        "12700600 - 12705200\n",
        "12705200 - 12709800"
       ]
      },
      {
       "output_type": "stream",
       "stream": "stdout",
       "text": [
        "\n",
        "12709800 - 12714400\n",
        "12714400 - 12719000"
       ]
      },
      {
       "output_type": "stream",
       "stream": "stdout",
       "text": [
        "\n",
        "12719000 - 12723600\n",
        "12723600 - 12728200"
       ]
      },
      {
       "output_type": "stream",
       "stream": "stdout",
       "text": [
        "\n",
        "12728200 - 12732800\n",
        "12732800 - 12737400"
       ]
      },
      {
       "output_type": "stream",
       "stream": "stdout",
       "text": [
        "\n",
        "12737400 - 12742000\n",
        "12742000 - 12746600"
       ]
      },
      {
       "output_type": "stream",
       "stream": "stdout",
       "text": [
        "\n",
        "12746600 - 12751200\n",
        "12751200 - 12755800"
       ]
      },
      {
       "output_type": "stream",
       "stream": "stdout",
       "text": [
        "\n",
        "12755800 - 12760400\n",
        "12760400 - 12765000"
       ]
      },
      {
       "output_type": "stream",
       "stream": "stdout",
       "text": [
        "\n",
        "12765000 - 12769600\n",
        "12769600 - 12774200"
       ]
      },
      {
       "output_type": "stream",
       "stream": "stdout",
       "text": [
        "\n",
        "12774200 - 12778800\n",
        "12778800 - 12783400"
       ]
      },
      {
       "output_type": "stream",
       "stream": "stdout",
       "text": [
        "\n",
        "12783400 - 12788000\n",
        "12788000 - 12792600"
       ]
      },
      {
       "output_type": "stream",
       "stream": "stdout",
       "text": [
        "\n",
        "12792600 - 12797200\n",
        "12797200 - 12801800"
       ]
      },
      {
       "output_type": "stream",
       "stream": "stdout",
       "text": [
        "\n",
        "12801800 - 12806400\n",
        "12806400 - 12811000"
       ]
      },
      {
       "output_type": "stream",
       "stream": "stdout",
       "text": [
        "\n",
        "12811000 - 12815600\n",
        "12815600 - 12820200"
       ]
      },
      {
       "output_type": "stream",
       "stream": "stdout",
       "text": [
        "\n",
        "12820200 - 12824800\n",
        "12824800 - 12829400"
       ]
      },
      {
       "output_type": "stream",
       "stream": "stdout",
       "text": [
        "\n",
        "12829400 - 12834000\n",
        "12834000 - 12838600"
       ]
      },
      {
       "output_type": "stream",
       "stream": "stdout",
       "text": [
        "\n",
        "12838600 - 12843200\n",
        "12843200 - 12847800"
       ]
      },
      {
       "output_type": "stream",
       "stream": "stdout",
       "text": [
        "\n",
        "12847800 - 12852400\n",
        "12852400 - 12857000"
       ]
      },
      {
       "output_type": "stream",
       "stream": "stdout",
       "text": [
        "\n",
        "12857000 - 12861600\n",
        "12861600 - 12866200"
       ]
      },
      {
       "output_type": "stream",
       "stream": "stdout",
       "text": [
        "\n",
        "12866200 - 12870800\n",
        "12870800 - 12875400\n",
        "12875400 - 12880000"
       ]
      },
      {
       "output_type": "stream",
       "stream": "stdout",
       "text": [
        "\n",
        "12880000 - 12884600\n",
        "12884600 - 12889200\n",
        "12889200 - 12893800"
       ]
      },
      {
       "output_type": "stream",
       "stream": "stdout",
       "text": [
        "\n",
        "12893800 - 12898400\n",
        "12898400 - 12903000"
       ]
      },
      {
       "output_type": "stream",
       "stream": "stdout",
       "text": [
        "\n",
        "12903000 - 12907600\n",
        "12907600 - 12912200"
       ]
      },
      {
       "output_type": "stream",
       "stream": "stdout",
       "text": [
        "\n",
        "12912200 - 12916800\n",
        "12916800 - 12921400"
       ]
      },
      {
       "output_type": "stream",
       "stream": "stdout",
       "text": [
        "\n",
        "12921400 - 12926000\n",
        "12926000 - 12930600"
       ]
      },
      {
       "output_type": "stream",
       "stream": "stdout",
       "text": [
        "\n",
        "12930600 - 12935200\n",
        "12935200 - 12939800"
       ]
      },
      {
       "output_type": "stream",
       "stream": "stdout",
       "text": [
        "\n",
        "12939800 - 12944400\n",
        "12944400 - 12949000"
       ]
      },
      {
       "output_type": "stream",
       "stream": "stdout",
       "text": [
        "\n",
        "12949000 - 12953600\n",
        "12953600 - 12958200"
       ]
      },
      {
       "output_type": "stream",
       "stream": "stdout",
       "text": [
        "\n",
        "12958200 - 12962800\n",
        "12962800 - 12967400"
       ]
      },
      {
       "output_type": "stream",
       "stream": "stdout",
       "text": [
        "\n",
        "12967400 - 12972000\n",
        "12972000 - 12976600"
       ]
      },
      {
       "output_type": "stream",
       "stream": "stdout",
       "text": [
        "\n",
        "12976600 - 12981200\n",
        "12981200 - 12985800"
       ]
      },
      {
       "output_type": "stream",
       "stream": "stdout",
       "text": [
        "\n",
        "12985800 - 12990400\n",
        "12990400 - 12995000\n",
        "12995000 - 12999600"
       ]
      },
      {
       "output_type": "stream",
       "stream": "stdout",
       "text": [
        "\n",
        "12999600 - 13004200\n",
        "13004200 - 13008800"
       ]
      },
      {
       "output_type": "stream",
       "stream": "stdout",
       "text": [
        "\n",
        "13008800 - 13013400\n",
        "13013400 - 13018000\n",
        "13018000 - 13022600"
       ]
      },
      {
       "output_type": "stream",
       "stream": "stdout",
       "text": [
        "\n",
        "13022600 - 13027200\n",
        "13027200 - 13031800"
       ]
      },
      {
       "output_type": "stream",
       "stream": "stdout",
       "text": [
        "\n",
        "13031800 - 13036400\n",
        "13036400 - 13041000"
       ]
      },
      {
       "output_type": "stream",
       "stream": "stdout",
       "text": [
        "\n",
        "13041000 - 13045600\n",
        "13045600 - 13050200"
       ]
      },
      {
       "output_type": "stream",
       "stream": "stdout",
       "text": [
        "\n",
        "13050200 - 13054800\n",
        "13054800 - 13059400\n",
        "13059400 - 13064000"
       ]
      },
      {
       "output_type": "stream",
       "stream": "stdout",
       "text": [
        "\n",
        "13064000 - 13068600\n",
        "13068600 - 13073200\n",
        "13073200 - 13077800"
       ]
      },
      {
       "output_type": "stream",
       "stream": "stdout",
       "text": [
        "\n",
        "13077800 - 13082400\n",
        "13082400 - 13087000\n",
        "13087000 - 13091600"
       ]
      },
      {
       "output_type": "stream",
       "stream": "stdout",
       "text": [
        "\n",
        "13091600 - 13096200\n",
        "13096200 - 13100800\n",
        "13100800 - 13105400"
       ]
      },
      {
       "output_type": "stream",
       "stream": "stdout",
       "text": [
        "\n",
        "13105400 - 13110000\n",
        "13110000 - 13114600\n",
        "13114600 - 13119200"
       ]
      },
      {
       "output_type": "stream",
       "stream": "stdout",
       "text": [
        "\n",
        "13119200 - 13123800\n",
        "13123800 - 13128400\n",
        "13128400 - 13133000"
       ]
      },
      {
       "output_type": "stream",
       "stream": "stdout",
       "text": [
        "\n",
        "13133000 - 13137600\n",
        "13137600 - 13142200\n",
        "13142200 - 13146800"
       ]
      },
      {
       "output_type": "stream",
       "stream": "stdout",
       "text": [
        "\n",
        "13146800 - 13151400\n",
        "13151400 - 13156000\n",
        "13156000 - 13160600"
       ]
      },
      {
       "output_type": "stream",
       "stream": "stdout",
       "text": [
        "\n",
        "13160600 - 13165200\n",
        "13165200 - 13169800\n",
        "13169800 - 13174400"
       ]
      },
      {
       "output_type": "stream",
       "stream": "stdout",
       "text": [
        "\n",
        "13174400 - 13179000\n",
        "13179000 - 13183600\n",
        "13183600 - 13188200"
       ]
      },
      {
       "output_type": "stream",
       "stream": "stdout",
       "text": [
        "\n",
        "13188200 - 13192800\n",
        "13192800 - 13197400\n",
        "13197400 - 13202000"
       ]
      },
      {
       "output_type": "stream",
       "stream": "stdout",
       "text": [
        "\n",
        "13202000 - 13206600\n",
        "13206600 - 13211200\n",
        "13211200 - 13215800"
       ]
      },
      {
       "output_type": "stream",
       "stream": "stdout",
       "text": [
        "\n",
        "13215800 - 13220400\n",
        "13220400 - 13225000\n",
        "13225000 - 13229600"
       ]
      },
      {
       "output_type": "stream",
       "stream": "stdout",
       "text": [
        "\n",
        "13229600 - 13234200\n",
        "13234200 - 13238800\n",
        "13238800 - 13243400"
       ]
      },
      {
       "output_type": "stream",
       "stream": "stdout",
       "text": [
        "\n",
        "13243400 - 13248000\n",
        "13248000 - 13252600\n",
        "13252600 - 13257200"
       ]
      },
      {
       "output_type": "stream",
       "stream": "stdout",
       "text": [
        "\n",
        "13257200 - 13261800\n",
        "13261800 - 13266400\n",
        "13266400 - 13271000"
       ]
      },
      {
       "output_type": "stream",
       "stream": "stdout",
       "text": [
        "\n",
        "13271000 - 13275600\n",
        "13275600 - 13280200"
       ]
      },
      {
       "output_type": "stream",
       "stream": "stdout",
       "text": [
        "\n",
        "13280200 - 13284800\n",
        "13284800 - 13289400\n",
        "13289400 - 13294000"
       ]
      },
      {
       "output_type": "stream",
       "stream": "stdout",
       "text": [
        "\n",
        "13294000 - 13298600\n",
        "13298600 - 13303200\n",
        "13303200 - 13307800"
       ]
      },
      {
       "output_type": "stream",
       "stream": "stdout",
       "text": [
        "\n",
        "13307800 - 13312400\n",
        "13312400 - 13317000\n",
        "13317000 - 13321600"
       ]
      },
      {
       "output_type": "stream",
       "stream": "stdout",
       "text": [
        "\n",
        "13321600 - 13326200\n",
        "13326200 - 13330800\n",
        "13330800 - 13335400"
       ]
      },
      {
       "output_type": "stream",
       "stream": "stdout",
       "text": [
        "\n",
        "13335400 - 13340000\n",
        "13340000 - 13344600"
       ]
      },
      {
       "output_type": "stream",
       "stream": "stdout",
       "text": [
        "\n",
        "13344600 - 13349200\n",
        "13349200 - 13353800\n",
        "13353800 - 13358400"
       ]
      },
      {
       "output_type": "stream",
       "stream": "stdout",
       "text": [
        "\n",
        "13358400 - 13363000\n",
        "13363000 - 13367600\n",
        "13367600 - 13372200"
       ]
      },
      {
       "output_type": "stream",
       "stream": "stdout",
       "text": [
        "\n",
        "13372200 - 13376800\n",
        "13376800 - 13381400\n",
        "13381400 - 13386000"
       ]
      },
      {
       "output_type": "stream",
       "stream": "stdout",
       "text": [
        "\n",
        "13386000 - 13390600\n",
        "13390600 - 13395200\n",
        "13395200 - 13399800"
       ]
      },
      {
       "output_type": "stream",
       "stream": "stdout",
       "text": [
        "\n",
        "13399800 - 13404400\n",
        "13404400 - 13409000\n",
        "13409000 - 13413600"
       ]
      },
      {
       "output_type": "stream",
       "stream": "stdout",
       "text": [
        "\n",
        "13413600 - 13418200\n",
        "13418200 - 13422800\n",
        "13422800 - 13427400"
       ]
      },
      {
       "output_type": "stream",
       "stream": "stdout",
       "text": [
        "\n",
        "13427400 - 13432000\n",
        "13432000 - 13436600\n",
        "13436600 - 13441200"
       ]
      },
      {
       "output_type": "stream",
       "stream": "stdout",
       "text": [
        "\n",
        "13441200 - 13445800\n",
        "13445800 - 13450400\n",
        "13450400 - 13455000"
       ]
      },
      {
       "output_type": "stream",
       "stream": "stdout",
       "text": [
        "\n",
        "13455000 - 13459600\n",
        "13459600 - 13464200\n",
        "13464200 - 13468800"
       ]
      },
      {
       "output_type": "stream",
       "stream": "stdout",
       "text": [
        "\n",
        "13468800 - 13473400\n",
        "13473400 - 13478000\n",
        "13478000 - 13482600"
       ]
      },
      {
       "output_type": "stream",
       "stream": "stdout",
       "text": [
        "\n",
        "13482600 - 13487200\n",
        "13487200 - 13491800\n",
        "13491800 - 13496400"
       ]
      },
      {
       "output_type": "stream",
       "stream": "stdout",
       "text": [
        "\n",
        "13496400 - 13501000\n",
        "13501000 - 13505600\n",
        "13505600 - 13510200"
       ]
      },
      {
       "output_type": "stream",
       "stream": "stdout",
       "text": [
        "\n",
        "13510200 - 13514800\n",
        "13514800 - 13519400\n",
        "13519400 - 13524000"
       ]
      },
      {
       "output_type": "stream",
       "stream": "stdout",
       "text": [
        "\n",
        "13524000 - 13528600\n",
        "13528600 - 13533200\n",
        "13533200 - 13537800"
       ]
      },
      {
       "output_type": "stream",
       "stream": "stdout",
       "text": [
        "\n",
        "13537800 - 13542400\n",
        "13542400 - 13547000\n",
        "13547000 - 13551600"
       ]
      },
      {
       "output_type": "stream",
       "stream": "stdout",
       "text": [
        "\n",
        "13551600 - 13556200\n",
        "13556200 - 13560800\n",
        "13560800 - 13565400"
       ]
      },
      {
       "output_type": "stream",
       "stream": "stdout",
       "text": [
        "\n",
        "13565400 - 13570000\n",
        "13570000 - 13574600\n",
        "13574600 - 13579200"
       ]
      },
      {
       "output_type": "stream",
       "stream": "stdout",
       "text": [
        "\n",
        "13579200 - 13583800\n",
        "13583800 - 13588400\n",
        "13588400 - 13593000"
       ]
      },
      {
       "output_type": "stream",
       "stream": "stdout",
       "text": [
        "\n",
        "13593000 - 13597600\n",
        "13597600 - 13602200\n",
        "13602200 - 13606800"
       ]
      },
      {
       "output_type": "stream",
       "stream": "stdout",
       "text": [
        "\n",
        "13606800 - 13611400\n",
        "13611400 - 13616000\n",
        "13616000 - 13620600"
       ]
      },
      {
       "output_type": "stream",
       "stream": "stdout",
       "text": [
        "\n",
        "13620600 - 13625200\n",
        "13625200 - 13629800\n",
        "13629800 - 13634400"
       ]
      },
      {
       "output_type": "stream",
       "stream": "stdout",
       "text": [
        "\n",
        "13634400 - 13639000\n",
        "13639000 - 13643600\n",
        "13643600 - 13648200"
       ]
      },
      {
       "output_type": "stream",
       "stream": "stdout",
       "text": [
        "\n",
        "13648200 - 13652800\n",
        "13652800 - 13657400\n",
        "13657400 - 13662000"
       ]
      },
      {
       "output_type": "stream",
       "stream": "stdout",
       "text": [
        "\n",
        "13662000 - 13666600\n",
        "13666600 - 13671200\n",
        "13671200 - 13675800"
       ]
      },
      {
       "output_type": "stream",
       "stream": "stdout",
       "text": [
        "\n",
        "13675800 - 13680400\n",
        "13680400 - 13685000\n",
        "13685000 - 13689600"
       ]
      },
      {
       "output_type": "stream",
       "stream": "stdout",
       "text": [
        "\n",
        "13689600 - 13694200\n",
        "13694200 - 13698800\n",
        "13698800 - 13703400"
       ]
      },
      {
       "output_type": "stream",
       "stream": "stdout",
       "text": [
        "\n",
        "13703400 - 13708000\n",
        "13708000 - 13712600\n",
        "13712600 - 13717200"
       ]
      },
      {
       "output_type": "stream",
       "stream": "stdout",
       "text": [
        "\n",
        "13717200 - 13721800\n",
        "13721800 - 13726400\n",
        "13726400 - 13731000"
       ]
      },
      {
       "output_type": "stream",
       "stream": "stdout",
       "text": [
        "\n",
        "13731000 - 13735600\n",
        "13735600 - 13740200\n",
        "13740200 - 13744800"
       ]
      },
      {
       "output_type": "stream",
       "stream": "stdout",
       "text": [
        "\n",
        "13744800 - 13749400\n",
        "13749400 - 13754000\n",
        "13754000 - 13758600"
       ]
      },
      {
       "output_type": "stream",
       "stream": "stdout",
       "text": [
        "\n",
        "13758600 - 13763200\n",
        "13763200 - 13767800"
       ]
      },
      {
       "output_type": "stream",
       "stream": "stdout",
       "text": [
        "\n",
        "13767800 - 13772400\n",
        "13772400 - 13777000"
       ]
      },
      {
       "output_type": "stream",
       "stream": "stdout",
       "text": [
        "\n",
        "13777000 - 13781600\n",
        "13781600 - 13786200"
       ]
      },
      {
       "output_type": "stream",
       "stream": "stdout",
       "text": [
        "\n",
        "13786200 - 13790800\n",
        "13790800 - 13795400\n",
        "13795400 - 13800000"
       ]
      },
      {
       "output_type": "stream",
       "stream": "stdout",
       "text": [
        "\n",
        "13800000 - 13804600\n",
        "13804600 - 13809200\n",
        "13809200 - 13813800"
       ]
      },
      {
       "output_type": "stream",
       "stream": "stdout",
       "text": [
        "\n",
        "13813800 - 13818400\n",
        "13818400 - 13823000\n",
        "13823000 - 13827600"
       ]
      },
      {
       "output_type": "stream",
       "stream": "stdout",
       "text": [
        "\n",
        "13827600 - 13832200\n",
        "13832200 - 13836800\n",
        "13836800 - 13841400"
       ]
      },
      {
       "output_type": "stream",
       "stream": "stdout",
       "text": [
        "\n",
        "13841400 - 13846000\n",
        "13846000 - 13850600"
       ]
      },
      {
       "output_type": "stream",
       "stream": "stdout",
       "text": [
        "\n",
        "13850600 - 13855200\n",
        "13855200 - 13859800\n",
        "13859800 - 13864400"
       ]
      },
      {
       "output_type": "stream",
       "stream": "stdout",
       "text": [
        "\n",
        "13864400 - 13869000\n",
        "13869000 - 13873600\n"
       ]
      },
      {
       "output_type": "stream",
       "stream": "stdout",
       "text": [
        "13873600 - 13878200\n",
        "13878200 - 13882800\n",
        "13882800 - 13887400"
       ]
      },
      {
       "output_type": "stream",
       "stream": "stdout",
       "text": [
        "\n",
        "13887400 - 13892000\n",
        "13892000 - 13896600"
       ]
      },
      {
       "output_type": "stream",
       "stream": "stdout",
       "text": [
        "\n",
        "13896600 - 13901200\n",
        "13901200 - 13905800"
       ]
      },
      {
       "output_type": "stream",
       "stream": "stdout",
       "text": [
        "\n",
        "13905800 - 13910400\n",
        "13910400 - 13915000"
       ]
      },
      {
       "output_type": "stream",
       "stream": "stdout",
       "text": [
        "\n",
        "13915000 - 13919600\n",
        "13919600 - 13924200\n",
        "13924200 - 13928800"
       ]
      },
      {
       "output_type": "stream",
       "stream": "stdout",
       "text": [
        "\n",
        "13928800 - 13933400\n",
        "13933400 - 13938000"
       ]
      },
      {
       "output_type": "stream",
       "stream": "stdout",
       "text": [
        "\n",
        "13938000 - 13942600\n",
        "13942600 - 13947200"
       ]
      },
      {
       "output_type": "stream",
       "stream": "stdout",
       "text": [
        "\n",
        "13947200 - 13951800\n",
        "13951800 - 13956400"
       ]
      },
      {
       "output_type": "stream",
       "stream": "stdout",
       "text": [
        "\n",
        "13956400 - 13961000\n",
        "13961000 - 13965600"
       ]
      },
      {
       "output_type": "stream",
       "stream": "stdout",
       "text": [
        "\n",
        "13965600 - 13970200\n",
        "13970200 - 13974800"
       ]
      },
      {
       "output_type": "stream",
       "stream": "stdout",
       "text": [
        "\n",
        "13974800 - 13979400\n",
        "13979400 - 13984000\n",
        "13984000 - 13988600"
       ]
      },
      {
       "output_type": "stream",
       "stream": "stdout",
       "text": [
        "\n",
        "13988600 - 13993200\n",
        "13993200 - 13997800"
       ]
      },
      {
       "output_type": "stream",
       "stream": "stdout",
       "text": [
        "\n",
        "13997800 - 14002400\n",
        "14002400 - 14007000"
       ]
      },
      {
       "output_type": "stream",
       "stream": "stdout",
       "text": [
        "\n",
        "14007000 - 14011600\n",
        "14011600 - 14016200"
       ]
      },
      {
       "output_type": "stream",
       "stream": "stdout",
       "text": [
        "\n",
        "14016200 - 14020800\n",
        "14020800 - 14025400"
       ]
      },
      {
       "output_type": "stream",
       "stream": "stdout",
       "text": [
        "\n",
        "14025400 - 14030000\n",
        "14030000 - 14034600"
       ]
      },
      {
       "output_type": "stream",
       "stream": "stdout",
       "text": [
        "\n",
        "14034600 - 14039200\n",
        "14039200 - 14043800"
       ]
      },
      {
       "output_type": "stream",
       "stream": "stdout",
       "text": [
        "\n",
        "14043800 - 14048400\n",
        "14048400 - 14053000"
       ]
      },
      {
       "output_type": "stream",
       "stream": "stdout",
       "text": [
        "\n",
        "14053000 - 14057600\n",
        "14057600 - 14062200"
       ]
      },
      {
       "output_type": "stream",
       "stream": "stdout",
       "text": [
        "\n",
        "14062200 - 14066800\n",
        "14066800 - 14071400"
       ]
      },
      {
       "output_type": "stream",
       "stream": "stdout",
       "text": [
        "\n",
        "14071400 - 14076000\n",
        "14076000 - 14080600"
       ]
      },
      {
       "output_type": "stream",
       "stream": "stdout",
       "text": [
        "\n",
        "14080600 - 14085200\n",
        "14085200 - 14089800"
       ]
      },
      {
       "output_type": "stream",
       "stream": "stdout",
       "text": [
        "\n",
        "14089800 - 14094400\n",
        "14094400 - 14099000"
       ]
      },
      {
       "output_type": "stream",
       "stream": "stdout",
       "text": [
        "\n",
        "14099000 - 14103600\n",
        "14103600 - 14108200"
       ]
      },
      {
       "output_type": "stream",
       "stream": "stdout",
       "text": [
        "\n",
        "14108200 - 14112800\n",
        "14112800 - 14117400"
       ]
      },
      {
       "output_type": "stream",
       "stream": "stdout",
       "text": [
        "\n",
        "14117400 - 14122000\n",
        "14122000 - 14126600"
       ]
      },
      {
       "output_type": "stream",
       "stream": "stdout",
       "text": [
        "\n",
        "14126600 - 14131200\n",
        "14131200 - 14135800"
       ]
      },
      {
       "output_type": "stream",
       "stream": "stdout",
       "text": [
        "\n",
        "14135800 - 14140400\n",
        "14140400 - 14145000"
       ]
      },
      {
       "output_type": "stream",
       "stream": "stdout",
       "text": [
        "\n",
        "14145000 - 14149600\n",
        "14149600 - 14154200"
       ]
      },
      {
       "output_type": "stream",
       "stream": "stdout",
       "text": [
        "\n",
        "14154200 - 14158800\n",
        "14158800 - 14163400"
       ]
      },
      {
       "output_type": "stream",
       "stream": "stdout",
       "text": [
        "\n",
        "14163400 - 14168000\n",
        "14168000 - 14172600"
       ]
      },
      {
       "output_type": "stream",
       "stream": "stdout",
       "text": [
        "\n",
        "14172600 - 14177200\n",
        "14177200 - 14181800"
       ]
      },
      {
       "output_type": "stream",
       "stream": "stdout",
       "text": [
        "\n",
        "14181800 - 14186400\n",
        "14186400 - 14191000"
       ]
      },
      {
       "output_type": "stream",
       "stream": "stdout",
       "text": [
        "\n",
        "14191000 - 14195600\n",
        "14195600 - 14200200"
       ]
      },
      {
       "output_type": "stream",
       "stream": "stdout",
       "text": [
        "\n",
        "14200200 - 14204800\n",
        "14204800 - 14209400"
       ]
      },
      {
       "output_type": "stream",
       "stream": "stdout",
       "text": [
        "\n",
        "14209400 - 14214000\n",
        "14214000 - 14218600"
       ]
      },
      {
       "output_type": "stream",
       "stream": "stdout",
       "text": [
        "\n",
        "14218600 - 14223200\n",
        "14223200 - 14227800"
       ]
      },
      {
       "output_type": "stream",
       "stream": "stdout",
       "text": [
        "\n",
        "14227800 - 14232400\n",
        "14232400 - 14237000"
       ]
      },
      {
       "output_type": "stream",
       "stream": "stdout",
       "text": [
        "\n",
        "14237000 - 14241600\n",
        "14241600 - 14246200"
       ]
      },
      {
       "output_type": "stream",
       "stream": "stdout",
       "text": [
        "\n",
        "14246200 - 14250800\n",
        "14250800 - 14255400"
       ]
      },
      {
       "output_type": "stream",
       "stream": "stdout",
       "text": [
        "\n",
        "14255400 - 14260000\n",
        "14260000 - 14264600"
       ]
      },
      {
       "output_type": "stream",
       "stream": "stdout",
       "text": [
        "\n",
        "14264600 - 14269200\n",
        "14269200 - 14273800"
       ]
      },
      {
       "output_type": "stream",
       "stream": "stdout",
       "text": [
        "\n",
        "14273800 - 14278400\n",
        "14278400 - 14283000"
       ]
      },
      {
       "output_type": "stream",
       "stream": "stdout",
       "text": [
        "\n",
        "14283000 - 14287600\n",
        "14287600 - 14292200"
       ]
      },
      {
       "output_type": "stream",
       "stream": "stdout",
       "text": [
        "\n",
        "14292200 - 14296800\n",
        "14296800 - 14301400"
       ]
      },
      {
       "output_type": "stream",
       "stream": "stdout",
       "text": [
        "\n",
        "14301400 - 14306000\n",
        "14306000 - 14310600"
       ]
      },
      {
       "output_type": "stream",
       "stream": "stdout",
       "text": [
        "\n",
        "14310600 - 14315200\n",
        "14315200 - 14319800"
       ]
      },
      {
       "output_type": "stream",
       "stream": "stdout",
       "text": [
        "\n",
        "14319800 - 14324400\n",
        "14324400 - 14329000"
       ]
      },
      {
       "output_type": "stream",
       "stream": "stdout",
       "text": [
        "\n",
        "14329000 - 14333600\n",
        "14333600 - 14338200"
       ]
      },
      {
       "output_type": "stream",
       "stream": "stdout",
       "text": [
        "\n",
        "14338200 - 14342800\n",
        "14342800 - 14347400"
       ]
      },
      {
       "output_type": "stream",
       "stream": "stdout",
       "text": [
        "\n",
        "14347400 - 14352000\n",
        "14352000 - 14356600"
       ]
      },
      {
       "output_type": "stream",
       "stream": "stdout",
       "text": [
        "\n",
        "14356600 - 14361200\n",
        "14361200 - 14365800"
       ]
      },
      {
       "output_type": "stream",
       "stream": "stdout",
       "text": [
        "\n",
        "14365800 - 14370400\n",
        "14370400 - 14375000"
       ]
      },
      {
       "output_type": "stream",
       "stream": "stdout",
       "text": [
        "\n",
        "14375000 - 14379600\n",
        "14379600 - 14384200"
       ]
      },
      {
       "output_type": "stream",
       "stream": "stdout",
       "text": [
        "\n",
        "14384200 - 14388800\n",
        "14388800 - 14393400"
       ]
      },
      {
       "output_type": "stream",
       "stream": "stdout",
       "text": [
        "\n",
        "14393400 - 14398000\n",
        "14398000 - 14402600"
       ]
      },
      {
       "output_type": "stream",
       "stream": "stdout",
       "text": [
        "\n",
        "14402600 - 14407200\n",
        "14407200 - 14411800"
       ]
      },
      {
       "output_type": "stream",
       "stream": "stdout",
       "text": [
        "\n",
        "14411800 - 14416400\n",
        "14416400 - 14421000"
       ]
      },
      {
       "output_type": "stream",
       "stream": "stdout",
       "text": [
        "\n",
        "14421000 - 14425600\n",
        "14425600 - 14430200"
       ]
      },
      {
       "output_type": "stream",
       "stream": "stdout",
       "text": [
        "\n",
        "14430200 - 14434800\n",
        "14434800 - 14439400"
       ]
      },
      {
       "output_type": "stream",
       "stream": "stdout",
       "text": [
        "\n",
        "14439400 - 14444000\n",
        "14444000 - 14448600"
       ]
      },
      {
       "output_type": "stream",
       "stream": "stdout",
       "text": [
        "\n",
        "14448600 - 14453200\n",
        "14453200 - 14457800"
       ]
      },
      {
       "output_type": "stream",
       "stream": "stdout",
       "text": [
        "\n",
        "14457800 - 14462400\n",
        "14462400 - 14467000"
       ]
      },
      {
       "output_type": "stream",
       "stream": "stdout",
       "text": [
        "\n",
        "14467000 - 14471600\n",
        "14471600 - 14476200"
       ]
      },
      {
       "output_type": "stream",
       "stream": "stdout",
       "text": [
        "\n",
        "14476200 - 14480800\n",
        "14480800 - 14485400"
       ]
      },
      {
       "output_type": "stream",
       "stream": "stdout",
       "text": [
        "\n",
        "14485400 - 14490000\n",
        "14490000 - 14494600"
       ]
      },
      {
       "output_type": "stream",
       "stream": "stdout",
       "text": [
        "\n",
        "14494600 - 14499200\n",
        "14499200 - 14503800"
       ]
      },
      {
       "output_type": "stream",
       "stream": "stdout",
       "text": [
        "\n",
        "14503800 - 14508400\n",
        "14508400 - 14513000"
       ]
      },
      {
       "output_type": "stream",
       "stream": "stdout",
       "text": [
        "\n",
        "14513000 - 14517600\n",
        "14517600 - 14522200"
       ]
      },
      {
       "output_type": "stream",
       "stream": "stdout",
       "text": [
        "\n",
        "14522200 - 14526800\n",
        "14526800 - 14531400"
       ]
      },
      {
       "output_type": "stream",
       "stream": "stdout",
       "text": [
        "\n",
        "14531400 - 14536000\n",
        "14536000 - 14540600"
       ]
      },
      {
       "output_type": "stream",
       "stream": "stdout",
       "text": [
        "\n",
        "14540600 - 14545200\n",
        "14545200 - 14549800"
       ]
      },
      {
       "output_type": "stream",
       "stream": "stdout",
       "text": [
        "\n",
        "14549800 - 14554400\n",
        "14554400 - 14559000"
       ]
      },
      {
       "output_type": "stream",
       "stream": "stdout",
       "text": [
        "\n",
        "14559000 - 14563600\n",
        "14563600 - 14568200"
       ]
      },
      {
       "output_type": "stream",
       "stream": "stdout",
       "text": [
        "\n",
        "14568200 - 14572800\n",
        "14572800 - 14577400"
       ]
      },
      {
       "output_type": "stream",
       "stream": "stdout",
       "text": [
        "\n",
        "14577400 - 14582000\n",
        "14582000 - 14586600"
       ]
      },
      {
       "output_type": "stream",
       "stream": "stdout",
       "text": [
        "\n",
        "14586600 - 14591200\n",
        "14591200 - 14595800"
       ]
      },
      {
       "output_type": "stream",
       "stream": "stdout",
       "text": [
        "\n",
        "14595800 - 14600400\n",
        "14600400 - 14605000"
       ]
      },
      {
       "output_type": "stream",
       "stream": "stdout",
       "text": [
        "\n",
        "14605000 - 14609600\n",
        "14609600 - 14614200"
       ]
      },
      {
       "output_type": "stream",
       "stream": "stdout",
       "text": [
        "\n",
        "14614200 - 14618800\n",
        "14618800 - 14623400"
       ]
      },
      {
       "output_type": "stream",
       "stream": "stdout",
       "text": [
        "\n",
        "14623400 - 14628000\n",
        "14628000 - 14632600"
       ]
      },
      {
       "output_type": "stream",
       "stream": "stdout",
       "text": [
        "\n",
        "14632600 - 14637200\n",
        "14637200 - 14641800"
       ]
      },
      {
       "output_type": "stream",
       "stream": "stdout",
       "text": [
        "\n",
        "14641800 - 14646400\n",
        "14646400 - 14651000"
       ]
      },
      {
       "output_type": "stream",
       "stream": "stdout",
       "text": [
        "\n",
        "14651000 - 14655600\n",
        "14655600 - 14660200"
       ]
      },
      {
       "output_type": "stream",
       "stream": "stdout",
       "text": [
        "\n",
        "14660200 - 14664800\n",
        "14664800 - 14669400"
       ]
      },
      {
       "output_type": "stream",
       "stream": "stdout",
       "text": [
        "\n",
        "14669400 - 14674000\n",
        "14674000 - 14678600"
       ]
      },
      {
       "output_type": "stream",
       "stream": "stdout",
       "text": [
        "\n",
        "14678600 - 14683200\n",
        "14683200 - 14687800"
       ]
      },
      {
       "output_type": "stream",
       "stream": "stdout",
       "text": [
        "\n",
        "14687800 - 14692400\n",
        "14692400 - 14697000"
       ]
      },
      {
       "output_type": "stream",
       "stream": "stdout",
       "text": [
        "\n",
        "14697000 - 14701600\n",
        "14701600 - 14706200"
       ]
      },
      {
       "output_type": "stream",
       "stream": "stdout",
       "text": [
        "\n",
        "14706200 - 14710800\n",
        "14710800 - 14715400"
       ]
      },
      {
       "output_type": "stream",
       "stream": "stdout",
       "text": [
        "\n",
        "14715400 - 14720000\n",
        "14720000 - 14724600"
       ]
      },
      {
       "output_type": "stream",
       "stream": "stdout",
       "text": [
        "\n",
        "14724600 - 14729200\n",
        "14729200 - 14733800"
       ]
      },
      {
       "output_type": "stream",
       "stream": "stdout",
       "text": [
        "\n",
        "14733800 - 14738400\n",
        "14738400 - 14743000"
       ]
      },
      {
       "output_type": "stream",
       "stream": "stdout",
       "text": [
        "\n",
        "14743000 - 14747600\n",
        "14747600 - 14752200"
       ]
      },
      {
       "output_type": "stream",
       "stream": "stdout",
       "text": [
        "\n",
        "14752200 - 14756800\n",
        "14756800 - 14761400"
       ]
      },
      {
       "output_type": "stream",
       "stream": "stdout",
       "text": [
        "\n",
        "14761400 - 14766000\n",
        "14766000 - 14770600"
       ]
      },
      {
       "output_type": "stream",
       "stream": "stdout",
       "text": [
        "\n",
        "14770600 - 14775200\n",
        "14775200 - 14779800"
       ]
      },
      {
       "output_type": "stream",
       "stream": "stdout",
       "text": [
        "\n",
        "14779800 - 14784400\n",
        "14784400 - 14789000"
       ]
      },
      {
       "output_type": "stream",
       "stream": "stdout",
       "text": [
        "\n",
        "14789000 - 14793600\n",
        "14793600 - 14798200"
       ]
      },
      {
       "output_type": "stream",
       "stream": "stdout",
       "text": [
        "\n",
        "14798200 - 14802800\n",
        "14802800 - 14807400"
       ]
      },
      {
       "output_type": "stream",
       "stream": "stdout",
       "text": [
        "\n",
        "14807400 - 14812000\n",
        "14812000 - 14816600"
       ]
      },
      {
       "output_type": "stream",
       "stream": "stdout",
       "text": [
        "\n",
        "14816600 - 14821200\n",
        "14821200 - 14825800"
       ]
      },
      {
       "output_type": "stream",
       "stream": "stdout",
       "text": [
        "\n",
        "14825800 - 14830400\n",
        "14830400 - 14835000"
       ]
      },
      {
       "output_type": "stream",
       "stream": "stdout",
       "text": [
        "\n",
        "14835000 - 14839600\n",
        "14839600 - 14844200"
       ]
      },
      {
       "output_type": "stream",
       "stream": "stdout",
       "text": [
        "\n",
        "14844200 - 14848800\n",
        "14848800 - 14853400"
       ]
      },
      {
       "output_type": "stream",
       "stream": "stdout",
       "text": [
        "\n",
        "14853400 - 14858000\n",
        "14858000 - 14862600"
       ]
      },
      {
       "output_type": "stream",
       "stream": "stdout",
       "text": [
        "\n",
        "14862600 - 14867200\n",
        "14867200 - 14871800"
       ]
      },
      {
       "output_type": "stream",
       "stream": "stdout",
       "text": [
        "\n",
        "14871800 - 14876400\n",
        "14876400 - 14881000"
       ]
      },
      {
       "output_type": "stream",
       "stream": "stdout",
       "text": [
        "\n",
        "14881000 - 14885600\n",
        "14885600 - 14890200"
       ]
      },
      {
       "output_type": "stream",
       "stream": "stdout",
       "text": [
        "\n",
        "14890200 - 14894800\n",
        "14894800 - 14899400"
       ]
      },
      {
       "output_type": "stream",
       "stream": "stdout",
       "text": [
        "\n",
        "14899400 - 14904000\n",
        "14904000 - 14908600"
       ]
      },
      {
       "output_type": "stream",
       "stream": "stdout",
       "text": [
        "\n",
        "14908600 - 14913200\n",
        "14913200 - 14917800"
       ]
      },
      {
       "output_type": "stream",
       "stream": "stdout",
       "text": [
        "\n",
        "14917800 - 14922400\n",
        "14922400 - 14927000"
       ]
      },
      {
       "output_type": "stream",
       "stream": "stdout",
       "text": [
        "\n",
        "14927000 - 14931600\n",
        "14931600 - 14936200"
       ]
      },
      {
       "output_type": "stream",
       "stream": "stdout",
       "text": [
        "\n",
        "14936200 - 14940800\n",
        "14940800 - 14945400"
       ]
      },
      {
       "output_type": "stream",
       "stream": "stdout",
       "text": [
        "\n",
        "14945400 - 14950000\n",
        "14950000 - 14954600"
       ]
      },
      {
       "output_type": "stream",
       "stream": "stdout",
       "text": [
        "\n",
        "14954600 - 14959200\n",
        "14959200 - 14963800"
       ]
      },
      {
       "output_type": "stream",
       "stream": "stdout",
       "text": [
        "\n",
        "14963800 - 14968400\n",
        "14968400 - 14973000"
       ]
      },
      {
       "output_type": "stream",
       "stream": "stdout",
       "text": [
        "\n",
        "14973000 - 14977600\n",
        "14977600 - 14982200"
       ]
      },
      {
       "output_type": "stream",
       "stream": "stdout",
       "text": [
        "\n",
        "14982200 - 14986800\n",
        "14986800 - 14991400"
       ]
      },
      {
       "output_type": "stream",
       "stream": "stdout",
       "text": [
        "\n",
        "14991400 - 14996000\n",
        "14996000 - 15000600"
       ]
      },
      {
       "output_type": "stream",
       "stream": "stdout",
       "text": [
        "\n",
        "15000600 - 15005200\n",
        "15005200 - 15009800"
       ]
      },
      {
       "output_type": "stream",
       "stream": "stdout",
       "text": [
        "\n",
        "15009800 - 15014400\n",
        "15014400 - 15019000"
       ]
      },
      {
       "output_type": "stream",
       "stream": "stdout",
       "text": [
        "\n",
        "15019000 - 15023600\n",
        "15023600 - 15028200"
       ]
      },
      {
       "output_type": "stream",
       "stream": "stdout",
       "text": [
        "\n",
        "15028200 - 15032800\n",
        "15032800 - 15037400"
       ]
      },
      {
       "output_type": "stream",
       "stream": "stdout",
       "text": [
        "\n",
        "15037400 - 15042000\n",
        "15042000 - 15046600"
       ]
      },
      {
       "output_type": "stream",
       "stream": "stdout",
       "text": [
        "\n",
        "15046600 - 15051200\n",
        "15051200 - 15055800"
       ]
      },
      {
       "output_type": "stream",
       "stream": "stdout",
       "text": [
        "\n",
        "15055800 - 15060400\n",
        "15060400 - 15065000"
       ]
      },
      {
       "output_type": "stream",
       "stream": "stdout",
       "text": [
        "\n",
        "15065000 - 15069600\n",
        "15069600 - 15074200"
       ]
      },
      {
       "output_type": "stream",
       "stream": "stdout",
       "text": [
        "\n",
        "15074200 - 15078800\n",
        "15078800 - 15083400"
       ]
      },
      {
       "output_type": "stream",
       "stream": "stdout",
       "text": [
        "\n",
        "15083400 - 15088000\n",
        "15088000 - 15092600"
       ]
      },
      {
       "output_type": "stream",
       "stream": "stdout",
       "text": [
        "\n",
        "15092600 - 15097200\n",
        "15097200 - 15101800"
       ]
      },
      {
       "output_type": "stream",
       "stream": "stdout",
       "text": [
        "\n",
        "15101800 - 15106400\n",
        "15106400 - 15111000"
       ]
      },
      {
       "output_type": "stream",
       "stream": "stdout",
       "text": [
        "\n",
        "15111000 - 15115600\n",
        "15115600 - 15120200"
       ]
      },
      {
       "output_type": "stream",
       "stream": "stdout",
       "text": [
        "\n",
        "15120200 - 15124800\n",
        "15124800 - 15129400"
       ]
      },
      {
       "output_type": "stream",
       "stream": "stdout",
       "text": [
        "\n",
        "15129400 - 15134000\n",
        "15134000 - 15138600"
       ]
      },
      {
       "output_type": "stream",
       "stream": "stdout",
       "text": [
        "\n",
        "15138600 - 15143200\n",
        "15143200 - 15147800"
       ]
      },
      {
       "output_type": "stream",
       "stream": "stdout",
       "text": [
        "\n",
        "15147800 - 15152400\n",
        "15152400 - 15157000"
       ]
      },
      {
       "output_type": "stream",
       "stream": "stdout",
       "text": [
        "\n",
        "15157000 - 15161600\n",
        "15161600 - 15166200"
       ]
      },
      {
       "output_type": "stream",
       "stream": "stdout",
       "text": [
        "\n",
        "15166200 - 15170800\n",
        "15170800 - 15175400"
       ]
      },
      {
       "output_type": "stream",
       "stream": "stdout",
       "text": [
        "\n",
        "15175400 - 15180000\n",
        "15180000 - 15184600"
       ]
      },
      {
       "output_type": "stream",
       "stream": "stdout",
       "text": [
        "\n",
        "15184600 - 15189200\n",
        "15189200 - 15193800"
       ]
      },
      {
       "output_type": "stream",
       "stream": "stdout",
       "text": [
        "\n",
        "15193800 - 15198400\n",
        "15198400 - 15203000"
       ]
      },
      {
       "output_type": "stream",
       "stream": "stdout",
       "text": [
        "\n",
        "15203000 - 15207600\n",
        "15207600 - 15212200"
       ]
      },
      {
       "output_type": "stream",
       "stream": "stdout",
       "text": [
        "\n",
        "15212200 - 15216800\n",
        "15216800 - 15221400"
       ]
      },
      {
       "output_type": "stream",
       "stream": "stdout",
       "text": [
        "\n",
        "15221400 - 15226000\n",
        "15226000 - 15230600"
       ]
      },
      {
       "output_type": "stream",
       "stream": "stdout",
       "text": [
        "\n",
        "15230600 - 15235200\n",
        "15235200 - 15239800"
       ]
      },
      {
       "output_type": "stream",
       "stream": "stdout",
       "text": [
        "\n",
        "15239800 - 15244400\n",
        "15244400 - 15249000"
       ]
      },
      {
       "output_type": "stream",
       "stream": "stdout",
       "text": [
        "\n",
        "15249000 - 15253600\n",
        "15253600 - 15258200"
       ]
      },
      {
       "output_type": "stream",
       "stream": "stdout",
       "text": [
        "\n",
        "15258200 - 15262800\n",
        "15262800 - 15267400"
       ]
      },
      {
       "output_type": "stream",
       "stream": "stdout",
       "text": [
        "\n",
        "15267400 - 15272000\n",
        "15272000 - 15276600"
       ]
      },
      {
       "output_type": "stream",
       "stream": "stdout",
       "text": [
        "\n",
        "15276600 - 15281200\n",
        "15281200 - 15285800"
       ]
      },
      {
       "output_type": "stream",
       "stream": "stdout",
       "text": [
        "\n",
        "15285800 - 15290400\n",
        "15290400 - 15295000"
       ]
      },
      {
       "output_type": "stream",
       "stream": "stdout",
       "text": [
        "\n",
        "15295000 - 15299600\n",
        "15299600 - 15304200"
       ]
      },
      {
       "output_type": "stream",
       "stream": "stdout",
       "text": [
        "\n",
        "15304200 - 15308800\n",
        "15308800 - 15313400"
       ]
      },
      {
       "output_type": "stream",
       "stream": "stdout",
       "text": [
        "\n",
        "15313400 - 15318000\n",
        "15318000 - 15322600"
       ]
      },
      {
       "output_type": "stream",
       "stream": "stdout",
       "text": [
        "\n",
        "15322600 - 15327200\n",
        "15327200 - 15331800"
       ]
      },
      {
       "output_type": "stream",
       "stream": "stdout",
       "text": [
        "\n",
        "15331800 - 15336400\n",
        "15336400 - 15341000"
       ]
      },
      {
       "output_type": "stream",
       "stream": "stdout",
       "text": [
        "\n",
        "15341000 - 15345600\n",
        "15345600 - 15350200"
       ]
      },
      {
       "output_type": "stream",
       "stream": "stdout",
       "text": [
        "\n",
        "15350200 - 15354800\n",
        "15354800 - 15359400"
       ]
      },
      {
       "output_type": "stream",
       "stream": "stdout",
       "text": [
        "\n",
        "15359400 - 15364000\n",
        "15364000 - 15368600"
       ]
      },
      {
       "output_type": "stream",
       "stream": "stdout",
       "text": [
        "\n",
        "15368600 - 15373200\n",
        "15373200 - 15377800\n",
        "15377800 - 15382400"
       ]
      },
      {
       "output_type": "stream",
       "stream": "stdout",
       "text": [
        "\n",
        "15382400 - 15387000\n",
        "15387000 - 15391600"
       ]
      },
      {
       "output_type": "stream",
       "stream": "stdout",
       "text": [
        "\n",
        "15391600 - 15396200\n",
        "15396200 - 15400800"
       ]
      },
      {
       "output_type": "stream",
       "stream": "stdout",
       "text": [
        "\n",
        "15400800 - 15405400\n",
        "15405400 - 15410000"
       ]
      },
      {
       "output_type": "stream",
       "stream": "stdout",
       "text": [
        "\n",
        "15410000 - 15414600\n",
        "15414600 - 15419200"
       ]
      },
      {
       "output_type": "stream",
       "stream": "stdout",
       "text": [
        "\n",
        "15419200 - 15423800\n",
        "15423800 - 15428400"
       ]
      },
      {
       "output_type": "stream",
       "stream": "stdout",
       "text": [
        "\n",
        "15428400 - 15433000\n",
        "15433000 - 15437600"
       ]
      },
      {
       "output_type": "stream",
       "stream": "stdout",
       "text": [
        "\n",
        "15437600 - 15442200\n",
        "15442200 - 15446800"
       ]
      },
      {
       "output_type": "stream",
       "stream": "stdout",
       "text": [
        "\n",
        "15446800 - 15451400\n",
        "15451400 - 15456000"
       ]
      },
      {
       "output_type": "stream",
       "stream": "stdout",
       "text": [
        "\n",
        "15456000 - 15460600\n",
        "15460600 - 15465200"
       ]
      },
      {
       "output_type": "stream",
       "stream": "stdout",
       "text": [
        "\n",
        "15465200 - 15469800\n",
        "15469800 - 15474400"
       ]
      },
      {
       "output_type": "stream",
       "stream": "stdout",
       "text": [
        "\n",
        "15474400 - 15479000\n",
        "15479000 - 15483600"
       ]
      },
      {
       "output_type": "stream",
       "stream": "stdout",
       "text": [
        "\n",
        "15483600 - 15488200\n",
        "15488200 - 15492800"
       ]
      },
      {
       "output_type": "stream",
       "stream": "stdout",
       "text": [
        "\n",
        "15492800 - 15497400\n",
        "15497400 - 15502000"
       ]
      },
      {
       "output_type": "stream",
       "stream": "stdout",
       "text": [
        "\n",
        "15502000 - 15506600\n",
        "15506600 - 15511200"
       ]
      },
      {
       "output_type": "stream",
       "stream": "stdout",
       "text": [
        "\n",
        "15511200 - 15515800\n",
        "15515800 - 15520400"
       ]
      },
      {
       "output_type": "stream",
       "stream": "stdout",
       "text": [
        "\n",
        "15520400 - 15525000\n",
        "15525000 - 15529600"
       ]
      },
      {
       "output_type": "stream",
       "stream": "stdout",
       "text": [
        "\n",
        "15529600 - 15534200\n",
        "15534200 - 15538800"
       ]
      },
      {
       "output_type": "stream",
       "stream": "stdout",
       "text": [
        "\n",
        "15538800 - 15543400\n",
        "15543400 - 15548000"
       ]
      },
      {
       "output_type": "stream",
       "stream": "stdout",
       "text": [
        "\n",
        "15548000 - 15552600\n",
        "15552600 - 15557200"
       ]
      },
      {
       "output_type": "stream",
       "stream": "stdout",
       "text": [
        "\n",
        "15557200 - 15561800\n",
        "15561800 - 15566400"
       ]
      },
      {
       "output_type": "stream",
       "stream": "stdout",
       "text": [
        "\n",
        "15566400 - 15571000\n",
        "15571000 - 15575600"
       ]
      },
      {
       "output_type": "stream",
       "stream": "stdout",
       "text": [
        "\n",
        "15575600 - 15580200\n",
        "15580200 - 15584800"
       ]
      },
      {
       "output_type": "stream",
       "stream": "stdout",
       "text": [
        "\n",
        "15584800 - 15589400\n",
        "15589400 - 15594000"
       ]
      },
      {
       "output_type": "stream",
       "stream": "stdout",
       "text": [
        "\n",
        "15594000 - 15598600\n",
        "15598600 - 15603200"
       ]
      },
      {
       "output_type": "stream",
       "stream": "stdout",
       "text": [
        "\n",
        "15603200 - 15607800\n",
        "15607800 - 15612400"
       ]
      },
      {
       "output_type": "stream",
       "stream": "stdout",
       "text": [
        "\n",
        "15612400 - 15617000\n",
        "15617000 - 15621600"
       ]
      },
      {
       "output_type": "stream",
       "stream": "stdout",
       "text": [
        "\n",
        "15621600 - 15626200\n",
        "15626200 - 15630800"
       ]
      },
      {
       "output_type": "stream",
       "stream": "stdout",
       "text": [
        "\n",
        "15630800 - 15635400\n",
        "15635400 - 15640000"
       ]
      },
      {
       "output_type": "stream",
       "stream": "stdout",
       "text": [
        "\n",
        "15640000 - 15644600\n",
        "15644600 - 15649200"
       ]
      },
      {
       "output_type": "stream",
       "stream": "stdout",
       "text": [
        "\n",
        "15649200 - 15653800\n",
        "15653800 - 15658400\n",
        "15658400 - 15663000"
       ]
      },
      {
       "output_type": "stream",
       "stream": "stdout",
       "text": [
        "\n",
        "15663000 - 15667600\n",
        "15667600 - 15672200"
       ]
      },
      {
       "output_type": "stream",
       "stream": "stdout",
       "text": [
        "\n",
        "15672200 - 15676800\n",
        "15676800 - 15681400"
       ]
      },
      {
       "output_type": "stream",
       "stream": "stdout",
       "text": [
        "\n",
        "15681400 - 15686000\n",
        "15686000 - 15690600"
       ]
      },
      {
       "output_type": "stream",
       "stream": "stdout",
       "text": [
        "\n",
        "15690600 - 15695200\n",
        "15695200 - 15699800"
       ]
      },
      {
       "output_type": "stream",
       "stream": "stdout",
       "text": [
        "\n",
        "15699800 - 15704400\n",
        "15704400 - 15709000\n",
        "15709000 - 15713600"
       ]
      },
      {
       "output_type": "stream",
       "stream": "stdout",
       "text": [
        "\n",
        "15713600 - 15718200\n",
        "15718200 - 15722800"
       ]
      },
      {
       "output_type": "stream",
       "stream": "stdout",
       "text": [
        "\n",
        "15722800 - 15727400\n",
        "15727400 - 15732000\n",
        "15732000 - 15736600"
       ]
      },
      {
       "output_type": "stream",
       "stream": "stdout",
       "text": [
        "\n",
        "15736600 - 15741200\n",
        "15741200 - 15745800"
       ]
      },
      {
       "output_type": "stream",
       "stream": "stdout",
       "text": [
        "\n",
        "15745800 - 15750400\n",
        "15750400 - 15755000"
       ]
      },
      {
       "output_type": "stream",
       "stream": "stdout",
       "text": [
        "\n",
        "15755000 - 15759600\n",
        "15759600 - 15764200"
       ]
      },
      {
       "output_type": "stream",
       "stream": "stdout",
       "text": [
        "\n",
        "15764200 - 15768800\n",
        "15768800 - 15773400"
       ]
      },
      {
       "output_type": "stream",
       "stream": "stdout",
       "text": [
        "\n",
        "15773400 - 15778000\n",
        "15778000 - 15782600"
       ]
      },
      {
       "output_type": "stream",
       "stream": "stdout",
       "text": [
        "\n",
        "15782600 - 15787200\n",
        "15787200 - 15791800"
       ]
      },
      {
       "output_type": "stream",
       "stream": "stdout",
       "text": [
        "\n",
        "15791800 - 15796400\n",
        "15796400 - 15801000"
       ]
      },
      {
       "output_type": "stream",
       "stream": "stdout",
       "text": [
        "\n",
        "15801000 - 15805600\n",
        "15805600 - 15810200"
       ]
      },
      {
       "output_type": "stream",
       "stream": "stdout",
       "text": [
        "\n",
        "15810200 - 15814800\n",
        "15814800 - 15819400"
       ]
      },
      {
       "output_type": "stream",
       "stream": "stdout",
       "text": [
        "\n",
        "15819400 - 15824000\n",
        "15824000 - 15828600\n",
        "15828600 - 15833200"
       ]
      },
      {
       "output_type": "stream",
       "stream": "stdout",
       "text": [
        "\n",
        "15833200 - 15837800\n",
        "15837800 - 15842400"
       ]
      },
      {
       "output_type": "stream",
       "stream": "stdout",
       "text": [
        "\n",
        "15842400 - 15847000\n",
        "15847000 - 15851600"
       ]
      },
      {
       "output_type": "stream",
       "stream": "stdout",
       "text": [
        "\n",
        "15851600 - 15856200\n",
        "15856200 - 15860800"
       ]
      },
      {
       "output_type": "stream",
       "stream": "stdout",
       "text": [
        "\n",
        "15860800 - 15865400\n",
        "15865400 - 15870000"
       ]
      },
      {
       "output_type": "stream",
       "stream": "stdout",
       "text": [
        "\n",
        "15870000 - 15874600\n",
        "15874600 - 15879200"
       ]
      },
      {
       "output_type": "stream",
       "stream": "stdout",
       "text": [
        "\n",
        "15879200 - 15883800\n",
        "15883800 - 15888400\n",
        "15888400 - 15893000"
       ]
      },
      {
       "output_type": "stream",
       "stream": "stdout",
       "text": [
        "\n",
        "15893000 - 15897600\n",
        "15897600 - 15902200"
       ]
      },
      {
       "output_type": "stream",
       "stream": "stdout",
       "text": [
        "\n",
        "15902200 - 15906800\n",
        "15906800 - 15911400"
       ]
      },
      {
       "output_type": "stream",
       "stream": "stdout",
       "text": [
        "\n",
        "15911400 - 15916000\n",
        "15916000 - 15920600"
       ]
      },
      {
       "output_type": "stream",
       "stream": "stdout",
       "text": [
        "\n",
        "15920600 - 15925200\n",
        "15925200 - 15929800"
       ]
      },
      {
       "output_type": "stream",
       "stream": "stdout",
       "text": [
        "\n",
        "15929800 - 15934400\n",
        "15934400 - 15939000"
       ]
      },
      {
       "output_type": "stream",
       "stream": "stdout",
       "text": [
        "\n",
        "15939000 - 15943600\n",
        "15943600 - 15948200"
       ]
      },
      {
       "output_type": "stream",
       "stream": "stdout",
       "text": [
        "\n",
        "15948200 - 15952800\n",
        "15952800 - 15957400"
       ]
      },
      {
       "output_type": "stream",
       "stream": "stdout",
       "text": [
        "\n",
        "15957400 - 15962000\n",
        "15962000 - 15966600"
       ]
      },
      {
       "output_type": "stream",
       "stream": "stdout",
       "text": [
        "\n",
        "15966600 - 15971200\n",
        "15971200 - 15975800"
       ]
      },
      {
       "output_type": "stream",
       "stream": "stdout",
       "text": [
        "\n",
        "15975800 - 15980400\n",
        "15980400 - 15985000"
       ]
      },
      {
       "output_type": "stream",
       "stream": "stdout",
       "text": [
        "\n",
        "15985000 - 15989600\n",
        "15989600 - 15994200"
       ]
      },
      {
       "output_type": "stream",
       "stream": "stdout",
       "text": [
        "\n",
        "15994200 - 15998800\n",
        "15998800 - 16003400"
       ]
      },
      {
       "output_type": "stream",
       "stream": "stdout",
       "text": [
        "\n",
        "16003400 - 16008000\n",
        "16008000 - 16012600"
       ]
      },
      {
       "output_type": "stream",
       "stream": "stdout",
       "text": [
        "\n",
        "16012600 - 16017200\n",
        "16017200 - 16021800"
       ]
      },
      {
       "output_type": "stream",
       "stream": "stdout",
       "text": [
        "\n",
        "16021800 - 16026400\n",
        "16026400 - 16031000"
       ]
      },
      {
       "output_type": "stream",
       "stream": "stdout",
       "text": [
        "\n",
        "16031000 - 16035600\n",
        "16035600 - 16040200\n",
        "16040200 - 16044800"
       ]
      },
      {
       "output_type": "stream",
       "stream": "stdout",
       "text": [
        "\n",
        "16044800 - 16049400\n",
        "16049400 - 16054000"
       ]
      },
      {
       "output_type": "stream",
       "stream": "stdout",
       "text": [
        "\n",
        "16054000 - 16058600\n",
        "16058600 - 16063200"
       ]
      },
      {
       "output_type": "stream",
       "stream": "stdout",
       "text": [
        "\n",
        "16063200 - 16067800\n",
        "16067800 - 16072400"
       ]
      },
      {
       "output_type": "stream",
       "stream": "stdout",
       "text": [
        "\n",
        "16072400 - 16077000\n",
        "16077000 - 16081600"
       ]
      },
      {
       "output_type": "stream",
       "stream": "stdout",
       "text": [
        "\n",
        "16081600 - 16086200\n",
        "16086200 - 16090800\n",
        "16090800 - 16095400"
       ]
      },
      {
       "output_type": "stream",
       "stream": "stdout",
       "text": [
        "\n",
        "16095400 - 16100000\n",
        "16100000 - 16104600"
       ]
      },
      {
       "output_type": "stream",
       "stream": "stdout",
       "text": [
        "\n",
        "16104600 - 16109200\n",
        "16109200 - 16113800"
       ]
      },
      {
       "output_type": "stream",
       "stream": "stdout",
       "text": [
        "\n",
        "16113800 - 16118400\n",
        "16118400 - 16123000"
       ]
      },
      {
       "output_type": "stream",
       "stream": "stdout",
       "text": [
        "\n",
        "16123000 - 16127600\n",
        "16127600 - 16132200"
       ]
      },
      {
       "output_type": "stream",
       "stream": "stdout",
       "text": [
        "\n",
        "16132200 - 16136800\n",
        "16136800 - 16141400"
       ]
      },
      {
       "output_type": "stream",
       "stream": "stdout",
       "text": [
        "\n",
        "16141400 - 16146000\n",
        "16146000 - 16150600"
       ]
      },
      {
       "output_type": "stream",
       "stream": "stdout",
       "text": [
        "\n",
        "16150600 - 16155200\n",
        "16155200 - 16159800"
       ]
      },
      {
       "output_type": "stream",
       "stream": "stdout",
       "text": [
        "\n",
        "16159800 - 16164400\n",
        "16164400 - 16169000"
       ]
      },
      {
       "output_type": "stream",
       "stream": "stdout",
       "text": [
        "\n",
        "16169000 - 16173600\n",
        "16173600 - 16178200"
       ]
      },
      {
       "output_type": "stream",
       "stream": "stdout",
       "text": [
        "\n",
        "16178200 - 16182800\n",
        "16182800 - 16187400"
       ]
      },
      {
       "output_type": "stream",
       "stream": "stdout",
       "text": [
        "\n",
        "16187400 - 16192000\n",
        "16192000 - 16196600"
       ]
      },
      {
       "output_type": "stream",
       "stream": "stdout",
       "text": [
        "\n",
        "16196600 - 16201200\n",
        "16201200 - 16205800\n",
        "16205800 - 16210400"
       ]
      },
      {
       "output_type": "stream",
       "stream": "stdout",
       "text": [
        "\n",
        "16210400 - 16215000\n",
        "16215000 - 16219600"
       ]
      },
      {
       "output_type": "stream",
       "stream": "stdout",
       "text": [
        "\n",
        "16219600 - 16224200\n",
        "16224200 - 16228800"
       ]
      },
      {
       "output_type": "stream",
       "stream": "stdout",
       "text": [
        "\n",
        "16228800 - 16233400\n",
        "16233400 - 16238000\n",
        "16238000 - 16242600"
       ]
      },
      {
       "output_type": "stream",
       "stream": "stdout",
       "text": [
        "\n",
        "16242600 - 16247200\n",
        "16247200 - 16251800\n",
        "16251800 - 16256400"
       ]
      },
      {
       "output_type": "stream",
       "stream": "stdout",
       "text": [
        "\n",
        "16256400 - 16261000\n",
        "16261000 - 16265600"
       ]
      },
      {
       "output_type": "stream",
       "stream": "stdout",
       "text": [
        "\n",
        "16265600 - 16270200\n",
        "16270200 - 16274800"
       ]
      },
      {
       "output_type": "stream",
       "stream": "stdout",
       "text": [
        "\n",
        "16274800 - 16279400\n",
        "16279400 - 16284000\n",
        "16284000 - 16288600"
       ]
      },
      {
       "output_type": "stream",
       "stream": "stdout",
       "text": [
        "\n",
        "16288600 - 16293200\n",
        "16293200 - 16297800\n",
        "16297800 - 16302400"
       ]
      },
      {
       "output_type": "stream",
       "stream": "stdout",
       "text": [
        "\n",
        "16302400 - 16307000\n",
        "16307000 - 16311600"
       ]
      },
      {
       "output_type": "stream",
       "stream": "stdout",
       "text": [
        "\n",
        "16311600 - 16316200\n",
        "16316200 - 16320800"
       ]
      },
      {
       "output_type": "stream",
       "stream": "stdout",
       "text": [
        "\n",
        "16320800 - 16325400\n",
        "16325400 - 16330000"
       ]
      },
      {
       "output_type": "stream",
       "stream": "stdout",
       "text": [
        "\n",
        "16330000 - 16334600\n",
        "16334600 - 16339200"
       ]
      },
      {
       "output_type": "stream",
       "stream": "stdout",
       "text": [
        "\n",
        "16339200 - 16343800\n",
        "16343800 - 16348400"
       ]
      },
      {
       "output_type": "stream",
       "stream": "stdout",
       "text": [
        "\n",
        "16348400 - 16353000\n",
        "16353000 - 16357600"
       ]
      },
      {
       "output_type": "stream",
       "stream": "stdout",
       "text": [
        "\n",
        "16357600 - 16362200\n",
        "16362200 - 16366800\n",
        "16366800 - 16371400"
       ]
      },
      {
       "output_type": "stream",
       "stream": "stdout",
       "text": [
        "\n",
        "16371400 - 16376000\n",
        "16376000 - 16380600\n",
        "16380600 - 16385200"
       ]
      },
      {
       "output_type": "stream",
       "stream": "stdout",
       "text": [
        "\n",
        "16385200 - 16389800\n",
        "16389800 - 16394400"
       ]
      },
      {
       "output_type": "stream",
       "stream": "stdout",
       "text": [
        "\n",
        "16394400 - 16399000\n",
        "16399000 - 16403600"
       ]
      },
      {
       "output_type": "stream",
       "stream": "stdout",
       "text": [
        "\n",
        "16403600 - 16408200\n",
        "16408200 - 16412800\n",
        "16412800 - 16417400"
       ]
      },
      {
       "output_type": "stream",
       "stream": "stdout",
       "text": [
        "\n",
        "16417400 - 16422000\n",
        "16422000 - 16426600\n",
        "16426600 - 16431200"
       ]
      },
      {
       "output_type": "stream",
       "stream": "stdout",
       "text": [
        "\n",
        "16431200 - 16435800\n",
        "16435800 - 16440400\n",
        "16440400 - 16445000"
       ]
      },
      {
       "output_type": "stream",
       "stream": "stdout",
       "text": [
        "\n",
        "16445000 - 16449600\n",
        "16449600 - 16454200"
       ]
      },
      {
       "output_type": "stream",
       "stream": "stdout",
       "text": [
        "\n",
        "16454200 - 16458800\n",
        "16458800 - 16463400"
       ]
      },
      {
       "output_type": "stream",
       "stream": "stdout",
       "text": [
        "\n",
        "16463400 - 16468000\n",
        "16468000 - 16472600"
       ]
      },
      {
       "output_type": "stream",
       "stream": "stdout",
       "text": [
        "\n",
        "16472600 - 16477200\n",
        "16477200 - 16481800\n",
        "16481800 - 16486400"
       ]
      },
      {
       "output_type": "stream",
       "stream": "stdout",
       "text": [
        "\n",
        "16486400 - 16491000\n",
        "16491000 - 16495600\n",
        "16495600 - 16500200"
       ]
      },
      {
       "output_type": "stream",
       "stream": "stdout",
       "text": [
        "\n",
        "16500200 - 16504800\n",
        "16504800 - 16509400\n",
        "16509400 - 16514000"
       ]
      },
      {
       "output_type": "stream",
       "stream": "stdout",
       "text": [
        "\n",
        "16514000 - 16518600\n",
        "16518600 - 16523200\n",
        "16523200 - 16527800"
       ]
      },
      {
       "output_type": "stream",
       "stream": "stdout",
       "text": [
        "\n",
        "16527800 - 16532400\n",
        "16532400 - 16537000\n",
        "16537000 - 16541600"
       ]
      },
      {
       "output_type": "stream",
       "stream": "stdout",
       "text": [
        "\n",
        "16541600 - 16546200\n",
        "16546200 - 16550800\n",
        "16550800 - 16555400"
       ]
      },
      {
       "output_type": "stream",
       "stream": "stdout",
       "text": [
        "\n",
        "16555400 - 16560000\n",
        "16560000 - 16564600\n",
        "16564600 - 16569200"
       ]
      },
      {
       "output_type": "stream",
       "stream": "stdout",
       "text": [
        "\n",
        "16569200 - 16573800\n",
        "16573800 - 16578400"
       ]
      },
      {
       "output_type": "stream",
       "stream": "stdout",
       "text": [
        "\n",
        "16578400 - 16583000\n",
        "16583000 - 16587600\n",
        "16587600 - 16592200"
       ]
      },
      {
       "output_type": "stream",
       "stream": "stdout",
       "text": [
        "\n",
        "16592200 - 16596800\n",
        "16596800 - 16601400\n",
        "16601400 - 16606000"
       ]
      },
      {
       "output_type": "stream",
       "stream": "stdout",
       "text": [
        "\n",
        "16606000 - 16610600\n",
        "16610600 - 16615200"
       ]
      },
      {
       "output_type": "stream",
       "stream": "stdout",
       "text": [
        "\n",
        "16615200 - 16619800\n",
        "16619800 - 16624400"
       ]
      },
      {
       "output_type": "stream",
       "stream": "stdout",
       "text": [
        "\n",
        "16624400 - 16629000\n",
        "16629000 - 16633600"
       ]
      },
      {
       "output_type": "stream",
       "stream": "stdout",
       "text": [
        "\n",
        "16633600 - 16638200\n",
        "16638200 - 16642800"
       ]
      },
      {
       "output_type": "stream",
       "stream": "stdout",
       "text": [
        "\n",
        "16642800 - 16647400\n",
        "16647400 - 16652000\n",
        "16652000 - 16656600"
       ]
      },
      {
       "output_type": "stream",
       "stream": "stdout",
       "text": [
        "\n",
        "16656600 - 16661200\n",
        "16661200 - 16665800"
       ]
      },
      {
       "output_type": "stream",
       "stream": "stdout",
       "text": [
        "\n",
        "16665800 - 16670400\n",
        "16670400 - 16675000\n",
        "16675000 - 16679600"
       ]
      },
      {
       "output_type": "stream",
       "stream": "stdout",
       "text": [
        "\n",
        "16679600 - 16684200\n",
        "16684200 - 16688800\n",
        "16688800 - 16693400"
       ]
      },
      {
       "output_type": "stream",
       "stream": "stdout",
       "text": [
        "\n",
        "16693400 - 16698000\n",
        "16698000 - 16702600\n",
        "16702600 - 16707200"
       ]
      },
      {
       "output_type": "stream",
       "stream": "stdout",
       "text": [
        "\n",
        "16707200 - 16711800\n",
        "16711800 - 16716400\n",
        "16716400 - 16721000"
       ]
      },
      {
       "output_type": "stream",
       "stream": "stdout",
       "text": [
        "\n",
        "16721000 - 16725600\n",
        "16725600 - 16730200\n",
        "16730200 - 16734800"
       ]
      },
      {
       "output_type": "stream",
       "stream": "stdout",
       "text": [
        "\n",
        "16734800 - 16739400\n",
        "16739400 - 16744000\n",
        "16744000 - 16748600"
       ]
      },
      {
       "output_type": "stream",
       "stream": "stdout",
       "text": [
        "\n",
        "16748600 - 16753200\n",
        "16753200 - 16757800\n",
        "16757800 - 16762400"
       ]
      },
      {
       "output_type": "stream",
       "stream": "stdout",
       "text": [
        "\n",
        "16762400 - 16767000\n",
        "16767000 - 16771600"
       ]
      },
      {
       "output_type": "stream",
       "stream": "stdout",
       "text": [
        "\n",
        "16771600 - 16776200\n",
        "16776200 - 16780800"
       ]
      },
      {
       "output_type": "stream",
       "stream": "stdout",
       "text": [
        "\n",
        "16780800 - 16785400\n",
        "16785400 - 16790000"
       ]
      },
      {
       "output_type": "stream",
       "stream": "stdout",
       "text": [
        "\n",
        "16790000 - 16794600\n",
        "16794600 - 16799200\n",
        "16799200 - 16803800"
       ]
      },
      {
       "output_type": "stream",
       "stream": "stdout",
       "text": [
        "\n",
        "16803800 - 16808400\n",
        "16808400 - 16813000\n",
        "16813000 - 16817600"
       ]
      },
      {
       "output_type": "stream",
       "stream": "stdout",
       "text": [
        "\n",
        "16817600 - 16822200\n",
        "16822200 - 16826800\n",
        "16826800 - 16831400"
       ]
      },
      {
       "output_type": "stream",
       "stream": "stdout",
       "text": [
        "\n",
        "16831400 - 16836000\n",
        "16836000 - 16840600\n",
        "16840600 - 16845200"
       ]
      },
      {
       "output_type": "stream",
       "stream": "stdout",
       "text": [
        "\n",
        "16845200 - 16849800\n",
        "16849800 - 16854400\n",
        "16854400 - 16859000"
       ]
      },
      {
       "output_type": "stream",
       "stream": "stdout",
       "text": [
        "\n",
        "16859000 - 16863600\n",
        "16863600 - 16868200\n",
        "16868200 - 16872800"
       ]
      },
      {
       "output_type": "stream",
       "stream": "stdout",
       "text": [
        "\n",
        "16872800 - 16877400\n",
        "16877400 - 16882000\n",
        "16882000 - 16886600"
       ]
      },
      {
       "output_type": "stream",
       "stream": "stdout",
       "text": [
        "\n",
        "16886600 - 16891200\n",
        "16891200 - 16895800"
       ]
      },
      {
       "output_type": "stream",
       "stream": "stdout",
       "text": [
        "\n",
        "16895800 - 16900400\n",
        "16900400 - 16905000"
       ]
      },
      {
       "output_type": "stream",
       "stream": "stdout",
       "text": [
        "\n",
        "16905000 - 16909600\n",
        "16909600 - 16914200\n",
        "16914200 - 16918800"
       ]
      },
      {
       "output_type": "stream",
       "stream": "stdout",
       "text": [
        "\n",
        "16918800 - 16923400\n",
        "16923400 - 16928000\n",
        "16928000 - 16932600"
       ]
      },
      {
       "output_type": "stream",
       "stream": "stdout",
       "text": [
        "\n",
        "16932600 - 16937200\n",
        "16937200 - 16941800\n",
        "16941800 - 16946400"
       ]
      },
      {
       "output_type": "stream",
       "stream": "stdout",
       "text": [
        "\n",
        "16946400 - 16951000\n",
        "16951000 - 16955600\n",
        "16955600 - 16960200"
       ]
      },
      {
       "output_type": "stream",
       "stream": "stdout",
       "text": [
        "\n",
        "16960200 - 16964800\n",
        "16964800 - 16969400\n",
        "16969400 - 16974000"
       ]
      },
      {
       "output_type": "stream",
       "stream": "stdout",
       "text": [
        "\n",
        "16974000 - 16978600\n",
        "16978600 - 16983200\n",
        "16983200 - 16987800"
       ]
      },
      {
       "output_type": "stream",
       "stream": "stdout",
       "text": [
        "\n",
        "16987800 - 16992400\n",
        "16992400 - 16997000"
       ]
      },
      {
       "output_type": "stream",
       "stream": "stdout",
       "text": [
        "\n",
        "16997000 - 17001600\n",
        "17001600 - 17006200"
       ]
      },
      {
       "output_type": "stream",
       "stream": "stdout",
       "text": [
        "\n",
        "17006200 - 17010800\n",
        "17010800 - 17015400\n",
        "17015400 - 17020000"
       ]
      },
      {
       "output_type": "stream",
       "stream": "stdout",
       "text": [
        "\n",
        "17020000 - 17024600\n",
        "17024600 - 17029200\n",
        "17029200 - 17033800"
       ]
      },
      {
       "output_type": "stream",
       "stream": "stdout",
       "text": [
        "\n",
        "17033800 - 17038400\n",
        "17038400 - 17043000"
       ]
      },
      {
       "output_type": "stream",
       "stream": "stdout",
       "text": [
        "\n",
        "17043000 - 17047600\n",
        "17047600 - 17052200"
       ]
      },
      {
       "output_type": "stream",
       "stream": "stdout",
       "text": [
        "\n",
        "17052200 - 17056800\n",
        "17056800 - 17061400"
       ]
      },
      {
       "output_type": "stream",
       "stream": "stdout",
       "text": [
        "\n",
        "17061400 - 17066000\n",
        "17066000 - 17070600"
       ]
      },
      {
       "output_type": "stream",
       "stream": "stdout",
       "text": [
        "\n",
        "17070600 - 17075200\n",
        "17075200 - 17079800"
       ]
      },
      {
       "output_type": "stream",
       "stream": "stdout",
       "text": [
        "\n",
        "17079800 - 17084400\n",
        "17084400 - 17089000"
       ]
      },
      {
       "output_type": "stream",
       "stream": "stdout",
       "text": [
        "\n",
        "17089000 - 17093600\n",
        "17093600 - 17098200"
       ]
      },
      {
       "output_type": "stream",
       "stream": "stdout",
       "text": [
        "\n",
        "17098200 - 17102800\n",
        "17102800 - 17107400"
       ]
      },
      {
       "output_type": "stream",
       "stream": "stdout",
       "text": [
        "\n",
        "17107400 - 17112000\n",
        "17112000 - 17116600"
       ]
      },
      {
       "output_type": "stream",
       "stream": "stdout",
       "text": [
        "\n",
        "17116600 - 17121200\n",
        "17121200 - 17125800"
       ]
      },
      {
       "output_type": "stream",
       "stream": "stdout",
       "text": [
        "\n",
        "17125800 - 17130400\n",
        "17130400 - 17135000"
       ]
      },
      {
       "output_type": "stream",
       "stream": "stdout",
       "text": [
        "\n",
        "17135000 - 17139600\n",
        "17139600 - 17144200"
       ]
      },
      {
       "output_type": "stream",
       "stream": "stdout",
       "text": [
        "\n",
        "17144200 - 17148800\n",
        "17148800 - 17153400"
       ]
      },
      {
       "output_type": "stream",
       "stream": "stdout",
       "text": [
        "\n",
        "17153400 - 17158000\n",
        "17158000 - 17162600"
       ]
      },
      {
       "output_type": "stream",
       "stream": "stdout",
       "text": [
        "\n",
        "17162600 - 17167200\n",
        "17167200 - 17171800"
       ]
      },
      {
       "output_type": "stream",
       "stream": "stdout",
       "text": [
        "\n",
        "17171800 - 17176400\n",
        "17176400 - 17181000"
       ]
      },
      {
       "output_type": "stream",
       "stream": "stdout",
       "text": [
        "\n",
        "17181000 - 17185600\n",
        "17185600 - 17190200"
       ]
      },
      {
       "output_type": "stream",
       "stream": "stdout",
       "text": [
        "\n",
        "17190200 - 17194800\n",
        "17194800 - 17199400"
       ]
      },
      {
       "output_type": "stream",
       "stream": "stdout",
       "text": [
        "\n",
        "17199400 - 17204000\n",
        "17204000 - 17208600"
       ]
      },
      {
       "output_type": "stream",
       "stream": "stdout",
       "text": [
        "\n",
        "17208600 - 17213200\n",
        "17213200 - 17217800"
       ]
      },
      {
       "output_type": "stream",
       "stream": "stdout",
       "text": [
        "\n",
        "17217800 - 17222400\n",
        "17222400 - 17227000"
       ]
      },
      {
       "output_type": "stream",
       "stream": "stdout",
       "text": [
        "\n",
        "17227000 - 17231600\n",
        "17231600 - 17236200"
       ]
      },
      {
       "output_type": "stream",
       "stream": "stdout",
       "text": [
        "\n",
        "17236200 - 17240800\n",
        "17240800 - 17245400"
       ]
      },
      {
       "output_type": "stream",
       "stream": "stdout",
       "text": [
        "\n",
        "17245400 - 17250000\n",
        "17250000 - 17254600"
       ]
      },
      {
       "output_type": "stream",
       "stream": "stdout",
       "text": [
        "\n",
        "17254600 - 17259200\n",
        "17259200 - 17263800"
       ]
      },
      {
       "output_type": "stream",
       "stream": "stdout",
       "text": [
        "\n",
        "17263800 - 17268400\n",
        "17268400 - 17273000"
       ]
      },
      {
       "output_type": "stream",
       "stream": "stdout",
       "text": [
        "\n",
        "17273000 - 17277600\n",
        "17277600 - 17282200"
       ]
      },
      {
       "output_type": "stream",
       "stream": "stdout",
       "text": [
        "\n",
        "17282200 - 17286800\n",
        "17286800 - 17291400"
       ]
      },
      {
       "output_type": "stream",
       "stream": "stdout",
       "text": [
        "\n",
        "17291400 - 17296000\n",
        "17296000 - 17300600\n",
        "17300600 - 17305200"
       ]
      },
      {
       "output_type": "stream",
       "stream": "stdout",
       "text": [
        "\n",
        "17305200 - 17309800\n",
        "17309800 - 17314400"
       ]
      },
      {
       "output_type": "stream",
       "stream": "stdout",
       "text": [
        "\n",
        "17314400 - 17319000\n",
        "17319000 - 17323600"
       ]
      },
      {
       "output_type": "stream",
       "stream": "stdout",
       "text": [
        "\n",
        "17323600 - 17328200\n",
        "17328200 - 17332800"
       ]
      },
      {
       "output_type": "stream",
       "stream": "stdout",
       "text": [
        "\n",
        "17332800 - 17337400\n",
        "17337400 - 17342000"
       ]
      },
      {
       "output_type": "stream",
       "stream": "stdout",
       "text": [
        "\n",
        "17342000 - 17346600\n",
        "17346600 - 17351200"
       ]
      },
      {
       "output_type": "stream",
       "stream": "stdout",
       "text": [
        "\n",
        "17351200 - 17355800\n",
        "17355800 - 17360400"
       ]
      },
      {
       "output_type": "stream",
       "stream": "stdout",
       "text": [
        "\n",
        "17360400 - 17365000\n",
        "17365000 - 17369600"
       ]
      },
      {
       "output_type": "stream",
       "stream": "stdout",
       "text": [
        "\n",
        "17369600 - 17374200\n",
        "17374200 - 17378800"
       ]
      },
      {
       "output_type": "stream",
       "stream": "stdout",
       "text": [
        "\n",
        "17378800 - 17383400\n",
        "17383400 - 17388000"
       ]
      },
      {
       "output_type": "stream",
       "stream": "stdout",
       "text": [
        "\n",
        "17388000 - 17392600\n",
        "17392600 - 17397200"
       ]
      },
      {
       "output_type": "stream",
       "stream": "stdout",
       "text": [
        "\n",
        "17397200 - 17401800\n",
        "17401800 - 17406400"
       ]
      },
      {
       "output_type": "stream",
       "stream": "stdout",
       "text": [
        "\n",
        "17406400 - 17411000\n",
        "17411000 - 17415600"
       ]
      },
      {
       "output_type": "stream",
       "stream": "stdout",
       "text": [
        "\n",
        "17415600 - 17420200\n",
        "17420200 - 17424800"
       ]
      },
      {
       "output_type": "stream",
       "stream": "stdout",
       "text": [
        "\n",
        "17424800 - 17429400\n",
        "17429400 - 17434000"
       ]
      },
      {
       "output_type": "stream",
       "stream": "stdout",
       "text": [
        "\n",
        "17434000 - 17438600\n",
        "17438600 - 17443200\n",
        "17443200 - 17447800"
       ]
      },
      {
       "output_type": "stream",
       "stream": "stdout",
       "text": [
        "\n",
        "17447800 - 17452400\n",
        "17452400 - 17457000"
       ]
      },
      {
       "output_type": "stream",
       "stream": "stdout",
       "text": [
        "\n",
        "17457000 - 17461600\n",
        "17461600 - 17466200"
       ]
      },
      {
       "output_type": "stream",
       "stream": "stdout",
       "text": [
        "\n",
        "17466200 - 17470800\n",
        "17470800 - 17475400\n",
        "17475400 - 17480000"
       ]
      },
      {
       "output_type": "stream",
       "stream": "stdout",
       "text": [
        "\n",
        "17480000 - 17484600\n",
        "17484600 - 17489200"
       ]
      },
      {
       "output_type": "stream",
       "stream": "stdout",
       "text": [
        "\n",
        "17489200 - 17493800\n",
        "17493800 - 17498400"
       ]
      },
      {
       "output_type": "stream",
       "stream": "stdout",
       "text": [
        "\n",
        "17498400 - 17503000\n",
        "17503000 - 17507600"
       ]
      },
      {
       "output_type": "stream",
       "stream": "stdout",
       "text": [
        "\n",
        "17507600 - 17512200\n",
        "17512200 - 17516800"
       ]
      },
      {
       "output_type": "stream",
       "stream": "stdout",
       "text": [
        "\n",
        "17516800 - 17521400\n",
        "17521400 - 17526000\n",
        "17526000 - 17530600"
       ]
      },
      {
       "output_type": "stream",
       "stream": "stdout",
       "text": [
        "\n",
        "17530600 - 17535200\n",
        "17535200 - 17539800"
       ]
      },
      {
       "output_type": "stream",
       "stream": "stdout",
       "text": [
        "\n",
        "17539800 - 17544400\n",
        "17544400 - 17549000"
       ]
      },
      {
       "output_type": "stream",
       "stream": "stdout",
       "text": [
        "\n",
        "17549000 - 17553600\n",
        "17553600 - 17558200\n",
        "17558200 - 17562800"
       ]
      },
      {
       "output_type": "stream",
       "stream": "stdout",
       "text": [
        "\n",
        "17562800 - 17567400\n",
        "17567400 - 17572000\n",
        "17572000 - 17576600"
       ]
      },
      {
       "output_type": "stream",
       "stream": "stdout",
       "text": [
        "\n",
        "17576600 - 17581200\n",
        "17581200 - 17585800"
       ]
      },
      {
       "output_type": "stream",
       "stream": "stdout",
       "text": [
        "\n",
        "17585800 - 17590400\n",
        "17590400 - 17595000"
       ]
      },
      {
       "output_type": "stream",
       "stream": "stdout",
       "text": [
        "\n",
        "17595000 - 17599600\n",
        "17599600 - 17604200\n",
        "17604200 - 17608800"
       ]
      },
      {
       "output_type": "stream",
       "stream": "stdout",
       "text": [
        "\n",
        "17608800 - 17613400\n",
        "17613400 - 17618000\n",
        "17618000 - 17622600"
       ]
      },
      {
       "output_type": "stream",
       "stream": "stdout",
       "text": [
        "\n",
        "17622600 - 17627200\n",
        "17627200 - 17631800"
       ]
      },
      {
       "output_type": "stream",
       "stream": "stdout",
       "text": [
        "\n",
        "17631800 - 17636400\n",
        "17636400 - 17641000"
       ]
      },
      {
       "output_type": "stream",
       "stream": "stdout",
       "text": [
        "\n",
        "17641000 - 17645600\n",
        "17645600 - 17650200"
       ]
      },
      {
       "output_type": "stream",
       "stream": "stdout",
       "text": [
        "\n",
        "17650200 - 17654800\n",
        "17654800 - 17659400\n",
        "17659400 - 17664000"
       ]
      },
      {
       "output_type": "stream",
       "stream": "stdout",
       "text": [
        "\n",
        "17664000 - 17668600\n",
        "17668600 - 17673200"
       ]
      },
      {
       "output_type": "stream",
       "stream": "stdout",
       "text": [
        "\n",
        "17673200 - 17677800\n",
        "17677800 - 17682400\n",
        "17682400 - 17687000"
       ]
      },
      {
       "output_type": "stream",
       "stream": "stdout",
       "text": [
        "\n",
        "17687000 - 17691600\n",
        "17691600 - 17696200"
       ]
      },
      {
       "output_type": "stream",
       "stream": "stdout",
       "text": [
        "\n",
        "17696200 - 17700800\n",
        "17700800 - 17705400\n",
        "17705400 - 17710000"
       ]
      },
      {
       "output_type": "stream",
       "stream": "stdout",
       "text": [
        "\n",
        "17710000 - 17714600\n",
        "17714600 - 17719200\n",
        "17719200 - 17723800"
       ]
      },
      {
       "output_type": "stream",
       "stream": "stdout",
       "text": [
        "\n",
        "17723800 - 17728400\n",
        "17728400 - 17733000"
       ]
      },
      {
       "output_type": "stream",
       "stream": "stdout",
       "text": [
        "\n",
        "17733000 - 17737600\n",
        "17737600 - 17742200\n",
        "17742200 - 17746800"
       ]
      },
      {
       "output_type": "stream",
       "stream": "stdout",
       "text": [
        "\n",
        "17746800 - 17751400\n",
        "17751400 - 17756000\n",
        "17756000 - 17760600"
       ]
      },
      {
       "output_type": "stream",
       "stream": "stdout",
       "text": [
        "\n",
        "17760600 - 17765200\n",
        "17765200 - 17769800\n",
        "17769800 - 17774400"
       ]
      },
      {
       "output_type": "stream",
       "stream": "stdout",
       "text": [
        "\n",
        "17774400 - 17779000\n",
        "17779000 - 17783600\n",
        "17783600 - 17788200"
       ]
      },
      {
       "output_type": "stream",
       "stream": "stdout",
       "text": [
        "\n",
        "17788200 - 17792800\n",
        "17792800 - 17797400\n",
        "17797400 - 17802000"
       ]
      },
      {
       "output_type": "stream",
       "stream": "stdout",
       "text": [
        "\n",
        "17802000 - 17806600\n",
        "17806600 - 17811200\n",
        "17811200 - 17815800"
       ]
      },
      {
       "output_type": "stream",
       "stream": "stdout",
       "text": [
        "\n",
        "17815800 - 17820400\n",
        "17820400 - 17825000\n",
        "17825000 - 17829600"
       ]
      },
      {
       "output_type": "stream",
       "stream": "stdout",
       "text": [
        "\n",
        "17829600 - 17834200\n",
        "17834200 - 17838800\n",
        "17838800 - 17843400"
       ]
      },
      {
       "output_type": "stream",
       "stream": "stdout",
       "text": [
        "\n",
        "17843400 - 17848000\n",
        "17848000 - 17852600"
       ]
      },
      {
       "output_type": "stream",
       "stream": "stdout",
       "text": [
        "\n",
        "17852600 - 17857200\n",
        "17857200 - 17861800\n",
        "17861800 - 17866400"
       ]
      },
      {
       "output_type": "stream",
       "stream": "stdout",
       "text": [
        "\n",
        "17866400 - 17871000\n",
        "17871000 - 17875600\n",
        "17875600 - 17880200"
       ]
      },
      {
       "output_type": "stream",
       "stream": "stdout",
       "text": [
        "\n",
        "17880200 - 17884800\n",
        "17884800 - 17889400\n",
        "17889400 - 17894000"
       ]
      },
      {
       "output_type": "stream",
       "stream": "stdout",
       "text": [
        "\n",
        "17894000 - 17898600\n",
        "17898600 - 17903200\n",
        "17903200 - 17907800"
       ]
      },
      {
       "output_type": "stream",
       "stream": "stdout",
       "text": [
        "\n",
        "17907800 - 17912400\n",
        "17912400 - 17917000\n",
        "17917000 - 17921600"
       ]
      },
      {
       "output_type": "stream",
       "stream": "stdout",
       "text": [
        "\n",
        "17921600 - 17926200\n",
        "17926200 - 17930800\n",
        "17930800 - 17935400"
       ]
      },
      {
       "output_type": "stream",
       "stream": "stdout",
       "text": [
        "\n",
        "17935400 - 17940000\n",
        "17940000 - 17944600\n",
        "17944600 - 17949200"
       ]
      },
      {
       "output_type": "stream",
       "stream": "stdout",
       "text": [
        "\n",
        "17949200 - 17953800\n",
        "17953800 - 17958400\n",
        "17958400 - 17963000"
       ]
      },
      {
       "output_type": "stream",
       "stream": "stdout",
       "text": [
        "\n",
        "17963000 - 17967600\n",
        "17967600 - 17972200\n",
        "17972200 - 17976800"
       ]
      },
      {
       "output_type": "stream",
       "stream": "stdout",
       "text": [
        "\n",
        "17976800 - 17981400\n",
        "17981400 - 17986000\n",
        "17986000 - 17990600"
       ]
      },
      {
       "output_type": "stream",
       "stream": "stdout",
       "text": [
        "\n",
        "17990600 - 17995200\n",
        "17995200 - 17999800"
       ]
      },
      {
       "output_type": "stream",
       "stream": "stdout",
       "text": [
        "\n",
        "17999800 - 18004400\n",
        "18004400 - 18009000\n",
        "18009000 - 18013600"
       ]
      },
      {
       "output_type": "stream",
       "stream": "stdout",
       "text": [
        "\n",
        "18013600 - 18018200\n",
        "18018200 - 18022800"
       ]
      },
      {
       "output_type": "stream",
       "stream": "stdout",
       "text": [
        "\n",
        "18022800 - 18027400\n",
        "18027400 - 18032000"
       ]
      },
      {
       "output_type": "stream",
       "stream": "stdout",
       "text": [
        "\n",
        "18032000 - 18036600\n",
        "18036600 - 18041200"
       ]
      },
      {
       "output_type": "stream",
       "stream": "stdout",
       "text": [
        "\n",
        "18041200 - 18045800\n",
        "18045800 - 18050400\n",
        "18050400 - 18055000"
       ]
      },
      {
       "output_type": "stream",
       "stream": "stdout",
       "text": [
        "\n",
        "18055000 - 18059600\n",
        "18059600 - 18064200"
       ]
      },
      {
       "output_type": "stream",
       "stream": "stdout",
       "text": [
        "\n",
        "18064200 - 18068800\n",
        "18068800 - 18073400"
       ]
      },
      {
       "output_type": "stream",
       "stream": "stdout",
       "text": [
        "\n",
        "18073400 - 18078000\n",
        "18078000 - 18082600"
       ]
      },
      {
       "output_type": "stream",
       "stream": "stdout",
       "text": [
        "\n",
        "18082600 - 18087200\n",
        "18087200 - 18091800"
       ]
      },
      {
       "output_type": "stream",
       "stream": "stdout",
       "text": [
        "\n",
        "18091800 - 18096400\n",
        "18096400 - 18101000"
       ]
      },
      {
       "output_type": "stream",
       "stream": "stdout",
       "text": [
        "\n",
        "18101000 - 18105600\n",
        "18105600 - 18110200\n",
        "18110200 - 18114800"
       ]
      },
      {
       "output_type": "stream",
       "stream": "stdout",
       "text": [
        "\n",
        "18114800 - 18119400\n",
        "18119400 - 18124000\n",
        "18124000 - 18128600"
       ]
      },
      {
       "output_type": "stream",
       "stream": "stdout",
       "text": [
        "\n",
        "18128600 - 18133200\n",
        "18133200 - 18137800"
       ]
      },
      {
       "output_type": "stream",
       "stream": "stdout",
       "text": [
        "\n",
        "18137800 - 18142400\n",
        "18142400 - 18147000"
       ]
      },
      {
       "output_type": "stream",
       "stream": "stdout",
       "text": [
        "\n",
        "18147000 - 18151600\n",
        "18151600 - 18156200"
       ]
      },
      {
       "output_type": "stream",
       "stream": "stdout",
       "text": [
        "\n",
        "18156200 - 18160800\n",
        "18160800 - 18165400"
       ]
      },
      {
       "output_type": "stream",
       "stream": "stdout",
       "text": [
        "\n",
        "18165400 - 18170000\n",
        "18170000 - 18174600"
       ]
      },
      {
       "output_type": "stream",
       "stream": "stdout",
       "text": [
        "\n",
        "18174600 - 18179200\n",
        "18179200 - 18183800\n",
        "18183800 - 18188400"
       ]
      },
      {
       "output_type": "stream",
       "stream": "stdout",
       "text": [
        "\n",
        "18188400 - 18193000\n",
        "18193000 - 18197600"
       ]
      },
      {
       "output_type": "stream",
       "stream": "stdout",
       "text": [
        "\n",
        "18197600 - 18202200\n",
        "18202200 - 18206800"
       ]
      },
      {
       "output_type": "stream",
       "stream": "stdout",
       "text": [
        "\n",
        "18206800 - 18211400\n",
        "18211400 - 18216000"
       ]
      },
      {
       "output_type": "stream",
       "stream": "stdout",
       "text": [
        "\n",
        "18216000 - 18220600\n",
        "18220600 - 18225200\n",
        "18225200 - 18229800"
       ]
      },
      {
       "output_type": "stream",
       "stream": "stdout",
       "text": [
        "\n",
        "18229800 - 18234400\n",
        "18234400 - 18239000"
       ]
      },
      {
       "output_type": "stream",
       "stream": "stdout",
       "text": [
        "\n",
        "18239000 - 18243600\n",
        "18243600 - 18248200\n",
        "18248200 - 18252800"
       ]
      },
      {
       "output_type": "stream",
       "stream": "stdout",
       "text": [
        "\n",
        "18252800 - 18257400\n",
        "18257400 - 18262000"
       ]
      },
      {
       "output_type": "stream",
       "stream": "stdout",
       "text": [
        "\n",
        "18262000 - 18266600\n",
        "18266600 - 18271200"
       ]
      },
      {
       "output_type": "stream",
       "stream": "stdout",
       "text": [
        "\n",
        "18271200 - 18275800\n",
        "18275800 - 18280400\n",
        "18280400 - 18285000"
       ]
      },
      {
       "output_type": "stream",
       "stream": "stdout",
       "text": [
        "\n",
        "18285000 - 18289600\n",
        "18289600 - 18294200"
       ]
      },
      {
       "output_type": "stream",
       "stream": "stdout",
       "text": [
        "\n",
        "18294200 - 18298800\n",
        "18298800 - 18303400"
       ]
      },
      {
       "output_type": "stream",
       "stream": "stdout",
       "text": [
        "\n",
        "18303400 - 18308000\n",
        "18308000 - 18312600\n",
        "18312600 - 18317200"
       ]
      },
      {
       "output_type": "stream",
       "stream": "stdout",
       "text": [
        "\n",
        "18317200 - 18321800\n",
        "18321800 - 18326400"
       ]
      },
      {
       "output_type": "stream",
       "stream": "stdout",
       "text": [
        "\n",
        "18326400 - 18331000\n",
        "18331000 - 18335600"
       ]
      },
      {
       "output_type": "stream",
       "stream": "stdout",
       "text": [
        "\n",
        "18335600 - 18340200\n",
        "18340200 - 18344800\n",
        "18344800 - 18349400"
       ]
      },
      {
       "output_type": "stream",
       "stream": "stdout",
       "text": [
        "\n",
        "18349400 - 18354000\n",
        "18354000 - 18358600\n",
        "18358600 - 18363200"
       ]
      },
      {
       "output_type": "stream",
       "stream": "stdout",
       "text": [
        "\n",
        "18363200 - 18367800\n",
        "18367800 - 18372400"
       ]
      },
      {
       "output_type": "stream",
       "stream": "stdout",
       "text": [
        "\n",
        "18372400 - 18377000\n",
        "18377000 - 18381600\n",
        "18381600 - 18386200"
       ]
      },
      {
       "output_type": "stream",
       "stream": "stdout",
       "text": [
        "\n",
        "18386200 - 18390800\n",
        "18390800 - 18395400\n",
        "18395400 - 18400000"
       ]
      },
      {
       "output_type": "stream",
       "stream": "stdout",
       "text": [
        "\n",
        "18400000 - 18404600\n",
        "18404600 - 18409200\n",
        "18409200 - 18413800"
       ]
      },
      {
       "output_type": "stream",
       "stream": "stdout",
       "text": [
        "\n",
        "18413800 - 18418400\n",
        "18418400 - 18423000\n",
        "18423000 - 18427600"
       ]
      },
      {
       "output_type": "stream",
       "stream": "stdout",
       "text": [
        "\n",
        "18427600 - 18432200\n",
        "18432200 - 18436800\n",
        "18436800 - 18441400"
       ]
      },
      {
       "output_type": "stream",
       "stream": "stdout",
       "text": [
        "\n",
        "18441400 - 18446000\n",
        "18446000 - 18450600"
       ]
      },
      {
       "output_type": "stream",
       "stream": "stdout",
       "text": [
        "\n",
        "18450600 - 18455200\n",
        "18455200 - 18459800"
       ]
      },
      {
       "output_type": "stream",
       "stream": "stdout",
       "text": [
        "\n",
        "18459800 - 18464400\n",
        "18464400 - 18469000\n",
        "18469000 - 18473600"
       ]
      },
      {
       "output_type": "stream",
       "stream": "stdout",
       "text": [
        "\n",
        "18473600 - 18478200\n",
        "18478200 - 18482800"
       ]
      },
      {
       "output_type": "stream",
       "stream": "stdout",
       "text": [
        "\n",
        "18482800 - 18487400\n",
        "18487400 - 18492000"
       ]
      },
      {
       "output_type": "stream",
       "stream": "stdout",
       "text": [
        "\n",
        "18492000 - 18496600\n",
        "18496600 - 18501200"
       ]
      },
      {
       "output_type": "stream",
       "stream": "stdout",
       "text": [
        "\n",
        "18501200 - 18505800\n",
        "18505800 - 18510400\n",
        "18510400 - 18515000"
       ]
      },
      {
       "output_type": "stream",
       "stream": "stdout",
       "text": [
        "\n",
        "18515000 - 18519600\n",
        "18519600 - 18524200"
       ]
      },
      {
       "output_type": "stream",
       "stream": "stdout",
       "text": [
        "\n",
        "18524200 - 18528800\n",
        "18528800 - 18533400"
       ]
      },
      {
       "output_type": "stream",
       "stream": "stdout",
       "text": [
        "\n",
        "18533400 - 18538000\n",
        "18538000 - 18542600"
       ]
      },
      {
       "output_type": "stream",
       "stream": "stdout",
       "text": [
        "\n",
        "18542600 - 18547200\n",
        "18547200 - 18551800"
       ]
      },
      {
       "output_type": "stream",
       "stream": "stdout",
       "text": [
        "\n",
        "18551800 - 18556400\n",
        "18556400 - 18561000\n",
        "18561000 - 18565600"
       ]
      },
      {
       "output_type": "stream",
       "stream": "stdout",
       "text": [
        "\n",
        "18565600 - 18570200\n",
        "18570200 - 18574800\n",
        "18574800 - 18579400"
       ]
      },
      {
       "output_type": "stream",
       "stream": "stdout",
       "text": [
        "\n",
        "18579400 - 18584000\n",
        "18584000 - 18588600"
       ]
      },
      {
       "output_type": "stream",
       "stream": "stdout",
       "text": [
        "\n",
        "18588600 - 18593200\n",
        "18593200 - 18597800\n",
        "18597800 - 18602400"
       ]
      },
      {
       "output_type": "stream",
       "stream": "stdout",
       "text": [
        "\n",
        "18602400 - 18607000\n",
        "18607000 - 18611600"
       ]
      },
      {
       "output_type": "stream",
       "stream": "stdout",
       "text": [
        "\n",
        "18611600 - 18616200\n",
        "18616200 - 18620800"
       ]
      },
      {
       "output_type": "stream",
       "stream": "stdout",
       "text": [
        "\n",
        "18620800 - 18625400\n",
        "18625400 - 18630000\n",
        "18630000 - 18634600"
       ]
      },
      {
       "output_type": "stream",
       "stream": "stdout",
       "text": [
        "\n",
        "18634600 - 18639200\n",
        "18639200 - 18643800"
       ]
      },
      {
       "output_type": "stream",
       "stream": "stdout",
       "text": [
        "\n",
        "18643800 - 18648400\n",
        "18648400 - 18653000"
       ]
      },
      {
       "output_type": "stream",
       "stream": "stdout",
       "text": [
        "\n",
        "18653000 - 18657600\n",
        "18657600 - 18662200"
       ]
      },
      {
       "output_type": "stream",
       "stream": "stdout",
       "text": [
        "\n",
        "18662200 - 18666800\n",
        "18666800 - 18671400"
       ]
      },
      {
       "output_type": "stream",
       "stream": "stdout",
       "text": [
        "\n",
        "18671400 - 18676000\n",
        "18676000 - 18680600\n",
        "18680600 - 18685200"
       ]
      },
      {
       "output_type": "stream",
       "stream": "stdout",
       "text": [
        "\n",
        "18685200 - 18689800\n",
        "18689800 - 18694400\n",
        "18694400 - 18699000"
       ]
      },
      {
       "output_type": "stream",
       "stream": "stdout",
       "text": [
        "\n",
        "18699000 - 18703600\n",
        "18703600 - 18708200"
       ]
      },
      {
       "output_type": "stream",
       "stream": "stdout",
       "text": [
        "\n",
        "18708200 - 18712800\n",
        "18712800 - 18717400"
       ]
      },
      {
       "output_type": "stream",
       "stream": "stdout",
       "text": [
        "\n",
        "18717400 - 18722000\n",
        "18722000 - 18726600"
       ]
      },
      {
       "output_type": "stream",
       "stream": "stdout",
       "text": [
        "\n",
        "18726600 - 18731200\n",
        "18731200 - 18735800"
       ]
      },
      {
       "output_type": "stream",
       "stream": "stdout",
       "text": [
        "\n",
        "18735800 - 18740400\n",
        "18740400 - 18745000"
       ]
      },
      {
       "output_type": "stream",
       "stream": "stdout",
       "text": [
        "\n",
        "18745000 - 18749600\n",
        "18749600 - 18754200"
       ]
      },
      {
       "output_type": "stream",
       "stream": "stdout",
       "text": [
        "\n",
        "18754200 - 18758800\n",
        "18758800 - 18763400"
       ]
      },
      {
       "output_type": "stream",
       "stream": "stdout",
       "text": [
        "\n",
        "18763400 - 18768000\n",
        "18768000 - 18772600"
       ]
      },
      {
       "output_type": "stream",
       "stream": "stdout",
       "text": [
        "\n",
        "18772600 - 18777200\n",
        "18777200 - 18781800"
       ]
      },
      {
       "output_type": "stream",
       "stream": "stdout",
       "text": [
        "\n",
        "18781800 - 18786400\n",
        "18786400 - 18791000"
       ]
      },
      {
       "output_type": "stream",
       "stream": "stdout",
       "text": [
        "\n",
        "18791000 - 18795600\n",
        "18795600 - 18800200\n",
        "18800200 - 18804800"
       ]
      },
      {
       "output_type": "stream",
       "stream": "stdout",
       "text": [
        "\n",
        "18804800 - 18809400\n",
        "18809400 - 18814000\n",
        "18814000 - 18818600"
       ]
      },
      {
       "output_type": "stream",
       "stream": "stdout",
       "text": [
        "\n",
        "18818600 - 18823200\n",
        "18823200 - 18827800"
       ]
      },
      {
       "output_type": "stream",
       "stream": "stdout",
       "text": [
        "\n",
        "18827800 - 18832400\n",
        "18832400 - 18837000"
       ]
      },
      {
       "output_type": "stream",
       "stream": "stdout",
       "text": [
        "\n",
        "18837000 - 18841600\n",
        "18841600 - 18846200\n",
        "18846200 - 18850800"
       ]
      },
      {
       "output_type": "stream",
       "stream": "stdout",
       "text": [
        "\n",
        "18850800 - 18855400\n",
        "18855400 - 18860000"
       ]
      },
      {
       "output_type": "stream",
       "stream": "stdout",
       "text": [
        "\n",
        "18860000 - 18864600\n",
        "18864600 - 18869200"
       ]
      },
      {
       "output_type": "stream",
       "stream": "stdout",
       "text": [
        "\n",
        "18869200 - 18873800\n",
        "18873800 - 18878400\n",
        "18878400 - 18883000"
       ]
      },
      {
       "output_type": "stream",
       "stream": "stdout",
       "text": [
        "\n",
        "18883000 - 18887600\n",
        "18887600 - 18892200"
       ]
      },
      {
       "output_type": "stream",
       "stream": "stdout",
       "text": [
        "\n",
        "18892200 - 18896800\n",
        "18896800 - 18901400\n",
        "18901400 - 18906000"
       ]
      },
      {
       "output_type": "stream",
       "stream": "stdout",
       "text": [
        "\n",
        "18906000 - 18910600\n",
        "18910600 - 18915200"
       ]
      },
      {
       "output_type": "stream",
       "stream": "stdout",
       "text": [
        "\n",
        "18915200 - 18919800\n",
        "18919800 - 18924400"
       ]
      },
      {
       "output_type": "stream",
       "stream": "stdout",
       "text": [
        "\n",
        "18924400 - 18929000\n",
        "18929000 - 18933600"
       ]
      },
      {
       "output_type": "stream",
       "stream": "stdout",
       "text": [
        "\n",
        "18933600 - 18938200\n",
        "18938200 - 18942800"
       ]
      },
      {
       "output_type": "stream",
       "stream": "stdout",
       "text": [
        "\n",
        "18942800 - 18947400\n",
        "18947400 - 18952000\n",
        "18952000 - 18956600"
       ]
      },
      {
       "output_type": "stream",
       "stream": "stdout",
       "text": [
        "\n",
        "18956600 - 18961200\n",
        "18961200 - 18965800\n"
       ]
      },
      {
       "output_type": "stream",
       "stream": "stdout",
       "text": [
        "18965800 - 18970400\n",
        "18970400 - 18975000\n",
        "18975000 - 18979600\n",
        "18979600 - 18984200"
       ]
      },
      {
       "output_type": "stream",
       "stream": "stdout",
       "text": [
        "\n",
        "18984200 - 18988800\n",
        "18988800 - 18993400\n",
        "18993400 - 18998000"
       ]
      },
      {
       "output_type": "stream",
       "stream": "stdout",
       "text": [
        "\n",
        "18998000 - 19002600\n",
        "19002600 - 19007200"
       ]
      },
      {
       "output_type": "stream",
       "stream": "stdout",
       "text": [
        "\n",
        "19007200 - 19011800\n",
        "19011800 - 19016400"
       ]
      },
      {
       "output_type": "stream",
       "stream": "stdout",
       "text": [
        "\n",
        "19016400 - 19021000\n",
        "19021000 - 19025600"
       ]
      },
      {
       "output_type": "stream",
       "stream": "stdout",
       "text": [
        "\n",
        "19025600 - 19030200\n",
        "19030200 - 19034800"
       ]
      },
      {
       "output_type": "stream",
       "stream": "stdout",
       "text": [
        "\n",
        "19034800 - 19039400\n",
        "19039400 - 19044000\n",
        "19044000 - 19048600"
       ]
      },
      {
       "output_type": "stream",
       "stream": "stdout",
       "text": [
        "\n",
        "19048600 - 19053200\n",
        "19053200 - 19057800"
       ]
      },
      {
       "output_type": "stream",
       "stream": "stdout",
       "text": [
        "\n",
        "19057800 - 19062400\n",
        "19062400 - 19067000\n",
        "19067000 - 19071600"
       ]
      },
      {
       "output_type": "stream",
       "stream": "stdout",
       "text": [
        "\n",
        "19071600 - 19076200\n",
        "19076200 - 19080800"
       ]
      },
      {
       "output_type": "stream",
       "stream": "stdout",
       "text": [
        "\n",
        "19080800 - 19085400\n",
        "19085400 - 19090000"
       ]
      },
      {
       "output_type": "stream",
       "stream": "stdout",
       "text": [
        "\n",
        "19090000 - 19094600\n",
        "19094600 - 19099200"
       ]
      },
      {
       "output_type": "stream",
       "stream": "stdout",
       "text": [
        "\n",
        "19099200 - 19103800\n",
        "19103800 - 19108400\n",
        "19108400 - 19113000"
       ]
      },
      {
       "output_type": "stream",
       "stream": "stdout",
       "text": [
        "\n",
        "19113000 - 19117600\n",
        "19117600 - 19122200"
       ]
      },
      {
       "output_type": "stream",
       "stream": "stdout",
       "text": [
        "\n",
        "19122200 - 19126800\n",
        "19126800 - 19131400"
       ]
      },
      {
       "output_type": "stream",
       "stream": "stdout",
       "text": [
        "\n",
        "19131400 - 19136000\n",
        "19136000 - 19140600\n",
        "19140600 - 19145200"
       ]
      },
      {
       "output_type": "stream",
       "stream": "stdout",
       "text": [
        "\n",
        "19145200 - 19149800\n",
        "19149800 - 19154400"
       ]
      },
      {
       "output_type": "stream",
       "stream": "stdout",
       "text": [
        "\n",
        "19154400 - 19159000\n",
        "19159000 - 19163600"
       ]
      },
      {
       "output_type": "stream",
       "stream": "stdout",
       "text": [
        "\n",
        "19163600 - 19168200\n",
        "19168200 - 19172800"
       ]
      },
      {
       "output_type": "stream",
       "stream": "stdout",
       "text": [
        "\n",
        "19172800 - 19177400\n",
        "19177400 - 19182000\n",
        "19182000 - 19186600"
       ]
      },
      {
       "output_type": "stream",
       "stream": "stdout",
       "text": [
        "\n",
        "19186600 - 19191200\n",
        "19191200 - 19195800"
       ]
      },
      {
       "output_type": "stream",
       "stream": "stdout",
       "text": [
        "\n",
        "19195800 - 19200400\n",
        "19200400 - 19205000"
       ]
      },
      {
       "output_type": "stream",
       "stream": "stdout",
       "text": [
        "\n",
        "19205000 - 19209600\n",
        "19209600 - 19214200"
       ]
      },
      {
       "output_type": "stream",
       "stream": "stdout",
       "text": [
        "\n",
        "19214200 - 19218800\n",
        "19218800 - 19223400"
       ]
      },
      {
       "output_type": "stream",
       "stream": "stdout",
       "text": [
        "\n",
        "19223400 - 19228000\n",
        "19228000 - 19232600"
       ]
      },
      {
       "output_type": "stream",
       "stream": "stdout",
       "text": [
        "\n",
        "19232600 - 19237200\n",
        "19237200 - 19241800"
       ]
      },
      {
       "output_type": "stream",
       "stream": "stdout",
       "text": [
        "\n",
        "19241800 - 19246400\n",
        "19246400 - 19251000"
       ]
      },
      {
       "output_type": "stream",
       "stream": "stdout",
       "text": [
        "\n",
        "19251000 - 19255600\n",
        "19255600 - 19260200"
       ]
      },
      {
       "output_type": "stream",
       "stream": "stdout",
       "text": [
        "\n",
        "19260200 - 19264800\n",
        "19264800 - 19269400\n",
        "19269400 - 19274000"
       ]
      },
      {
       "output_type": "stream",
       "stream": "stdout",
       "text": [
        "\n",
        "19274000 - 19278600\n",
        "19278600 - 19283200"
       ]
      },
      {
       "output_type": "stream",
       "stream": "stdout",
       "text": [
        "\n",
        "19283200 - 19287800\n",
        "19287800 - 19292400"
       ]
      },
      {
       "output_type": "stream",
       "stream": "stdout",
       "text": [
        "\n",
        "19292400 - 19297000\n",
        "19297000 - 19301600"
       ]
      },
      {
       "output_type": "stream",
       "stream": "stdout",
       "text": [
        "\n",
        "19301600 - 19306200\n",
        "19306200 - 19310800"
       ]
      },
      {
       "output_type": "stream",
       "stream": "stdout",
       "text": [
        "\n",
        "19310800 - 19315400\n",
        "19315400 - 19320000"
       ]
      },
      {
       "output_type": "stream",
       "stream": "stdout",
       "text": [
        "\n",
        "19320000 - 19324600\n",
        "19324600 - 19329200"
       ]
      },
      {
       "output_type": "stream",
       "stream": "stdout",
       "text": [
        "\n",
        "19329200 - 19333800\n",
        "19333800 - 19338400\n",
        "19338400 - 19343000"
       ]
      },
      {
       "output_type": "stream",
       "stream": "stdout",
       "text": [
        "\n",
        "19343000 - 19347600\n",
        "19347600 - 19352200"
       ]
      },
      {
       "output_type": "stream",
       "stream": "stdout",
       "text": [
        "\n",
        "19352200 - 19356800\n",
        "19356800 - 19361400"
       ]
      },
      {
       "output_type": "stream",
       "stream": "stdout",
       "text": [
        "\n",
        "19361400 - 19366000\n",
        "19366000 - 19370600"
       ]
      },
      {
       "output_type": "stream",
       "stream": "stdout",
       "text": [
        "\n",
        "19370600 - 19375200\n",
        "19375200 - 19379800"
       ]
      },
      {
       "output_type": "stream",
       "stream": "stdout",
       "text": [
        "\n",
        "19379800 - 19384400\n",
        "19384400 - 19389000\n",
        "19389000 - 19393600"
       ]
      },
      {
       "output_type": "stream",
       "stream": "stdout",
       "text": [
        "\n",
        "19393600 - 19398200\n",
        "19398200 - 19402800"
       ]
      },
      {
       "output_type": "stream",
       "stream": "stdout",
       "text": [
        "\n",
        "19402800 - 19407400\n",
        "19407400 - 19412000"
       ]
      },
      {
       "output_type": "stream",
       "stream": "stdout",
       "text": [
        "\n",
        "19412000 - 19416600\n",
        "19416600 - 19421200"
       ]
      },
      {
       "output_type": "stream",
       "stream": "stdout",
       "text": [
        "\n",
        "19421200 - 19425800\n",
        "19425800 - 19430400"
       ]
      },
      {
       "output_type": "stream",
       "stream": "stdout",
       "text": [
        "\n",
        "19430400 - 19435000\n",
        "19435000 - 19439600"
       ]
      },
      {
       "output_type": "stream",
       "stream": "stdout",
       "text": [
        "\n",
        "19439600 - 19444200\n",
        "19444200 - 19448800"
       ]
      },
      {
       "output_type": "stream",
       "stream": "stdout",
       "text": [
        "\n",
        "19448800 - 19453400\n",
        "19453400 - 19458000"
       ]
      },
      {
       "output_type": "stream",
       "stream": "stdout",
       "text": [
        "\n",
        "19458000 - 19462600\n",
        "19462600 - 19467200"
       ]
      },
      {
       "output_type": "stream",
       "stream": "stdout",
       "text": [
        "\n",
        "19467200 - 19471800\n",
        "19471800 - 19476400\n",
        "19476400 - 19481000"
       ]
      },
      {
       "output_type": "stream",
       "stream": "stdout",
       "text": [
        "\n",
        "19481000 - 19485600\n",
        "19485600 - 19490200"
       ]
      },
      {
       "output_type": "stream",
       "stream": "stdout",
       "text": [
        "\n",
        "19490200 - 19494800\n",
        "19494800 - 19499400"
       ]
      },
      {
       "output_type": "stream",
       "stream": "stdout",
       "text": [
        "\n",
        "19499400 - 19504000\n",
        "19504000 - 19508600"
       ]
      },
      {
       "output_type": "stream",
       "stream": "stdout",
       "text": [
        "\n",
        "19508600 - 19513200\n",
        "19513200 - 19517800"
       ]
      },
      {
       "output_type": "stream",
       "stream": "stdout",
       "text": [
        "\n",
        "19517800 - 19522400\n",
        "19522400 - 19527000"
       ]
      },
      {
       "output_type": "stream",
       "stream": "stdout",
       "text": [
        "\n",
        "19527000 - 19531600\n",
        "19531600 - 19536200"
       ]
      },
      {
       "output_type": "stream",
       "stream": "stdout",
       "text": [
        "\n",
        "19536200 - 19540800\n",
        "19540800 - 19545400"
       ]
      },
      {
       "output_type": "stream",
       "stream": "stdout",
       "text": [
        "\n",
        "19545400 - 19550000\n",
        "19550000 - 19554600"
       ]
      },
      {
       "output_type": "stream",
       "stream": "stdout",
       "text": [
        "\n",
        "19554600 - 19559200\n",
        "19559200 - 19563800"
       ]
      },
      {
       "output_type": "stream",
       "stream": "stdout",
       "text": [
        "\n",
        "19563800 - 19568400\n",
        "19568400 - 19573000"
       ]
      },
      {
       "output_type": "stream",
       "stream": "stdout",
       "text": [
        "\n",
        "19573000 - 19577600\n",
        "19577600 - 19582200"
       ]
      },
      {
       "output_type": "stream",
       "stream": "stdout",
       "text": [
        "\n",
        "19582200 - 19586800\n",
        "19586800 - 19591400\n",
        "19591400 - 19596000"
       ]
      },
      {
       "output_type": "stream",
       "stream": "stdout",
       "text": [
        "\n",
        "19596000 - 19600600\n",
        "19600600 - 19605200"
       ]
      },
      {
       "output_type": "stream",
       "stream": "stdout",
       "text": [
        "\n",
        "19605200 - 19609800\n",
        "19609800 - 19614400"
       ]
      },
      {
       "output_type": "stream",
       "stream": "stdout",
       "text": [
        "\n",
        "19614400 - 19619000\n",
        "19619000 - 19623600"
       ]
      },
      {
       "output_type": "stream",
       "stream": "stdout",
       "text": [
        "\n",
        "19623600 - 19628200\n",
        "19628200 - 19632800"
       ]
      },
      {
       "output_type": "stream",
       "stream": "stdout",
       "text": [
        "\n",
        "19632800 - 19637400\n",
        "19637400 - 19642000"
       ]
      },
      {
       "output_type": "stream",
       "stream": "stdout",
       "text": [
        "\n",
        "19642000 - 19646600\n",
        "19646600 - 19651200\n"
       ]
      },
      {
       "output_type": "stream",
       "stream": "stdout",
       "text": [
        "19651200 - 19655800\n",
        "19655800 - 19660400\n",
        "19660400 - 19665000"
       ]
      },
      {
       "output_type": "stream",
       "stream": "stdout",
       "text": [
        "\n",
        "19665000 - 19669600\n",
        "19669600 - 19674200\n",
        "19674200 - 19678800"
       ]
      },
      {
       "output_type": "stream",
       "stream": "stdout",
       "text": [
        "\n",
        "19678800 - 19683400\n",
        "19683400 - 19688000"
       ]
      },
      {
       "output_type": "stream",
       "stream": "stdout",
       "text": [
        "\n",
        "19688000 - 19692600\n",
        "19692600 - 19697200\n",
        "19697200 - 19701800"
       ]
      },
      {
       "output_type": "stream",
       "stream": "stdout",
       "text": [
        "\n",
        "19701800 - 19706400\n",
        "19706400 - 19711000"
       ]
      },
      {
       "output_type": "stream",
       "stream": "stdout",
       "text": [
        "\n",
        "19711000 - 19715600\n",
        "19715600 - 19720200"
       ]
      },
      {
       "output_type": "stream",
       "stream": "stdout",
       "text": [
        "\n",
        "19720200 - 19724800\n",
        "19724800 - 19729400"
       ]
      },
      {
       "output_type": "stream",
       "stream": "stdout",
       "text": [
        "\n",
        "19729400 - 19734000\n",
        "19734000 - 19738600"
       ]
      },
      {
       "output_type": "stream",
       "stream": "stdout",
       "text": [
        "\n",
        "19738600 - 19743200\n",
        "19743200 - 19747800"
       ]
      },
      {
       "output_type": "stream",
       "stream": "stdout",
       "text": [
        "\n",
        "19747800 - 19752400\n",
        "19752400 - 19757000"
       ]
      },
      {
       "output_type": "stream",
       "stream": "stdout",
       "text": [
        "\n",
        "19757000 - 19761600\n",
        "19761600 - 19766200\n",
        "19766200 - 19770800"
       ]
      },
      {
       "output_type": "stream",
       "stream": "stdout",
       "text": [
        "\n",
        "19770800 - 19775400\n",
        "19775400 - 19780000"
       ]
      },
      {
       "output_type": "stream",
       "stream": "stdout",
       "text": [
        "\n",
        "E:\\Data\\WangKun@Mattijn\\outfolder\\2011\\lolo//temp20110101endeze.tif\n"
       ]
      }
     ],
     "prompt_number": 9
    },
    {
     "cell_type": "code",
     "collapsed": false,
     "input": [
      "import sys\n",
      "import subprocess as sp\n",
      "def DEMfiles(inGSODFolder):\n",
      "    st_wmo = [os.path.join(root, name)\n",
      "               for root, dirs, files in os.walk(inGSODFolder)\n",
      "                 for name in files\n",
      "                 if name.endswith('.tif')]\n",
      "    return st_wmo\n",
      "\n",
      "outFolder = r'E:\\Data\\WangKun@Mattijn\\outfolder\\2011\\NEWsrad12'\n",
      "gdal_merge = r'C:\\Program Files\\GDAL\\gdal_merge.py'\n",
      "mergeFolder = r'E:\\Data\\WangKun@Mattijn\\outfolder\\2011\\NEWsrad_merge\\\\'\n",
      "thisfile = r\"E:/Data/WangKun@Mattijn/outfolder/2011/NEWsrad_merge/merge_t.txt\"\n",
      "files = DEMfiles(outFolder)\n",
      "#print (files)\n",
      "#newlist = []\n",
      "#for file_ in files:    \n",
      "#    #print file_[23:25]\n",
      "#    if file_[-16:-15] == 'srad':\n",
      "#        newlist.append(file_)\n",
      "#print newlist\n",
      "\n",
      "for x in range(1,32):\n",
      "    thefile = open(r'E:\\Data\\WangKun@Mattijn\\outfolder\\2011/NEWsrad_merge//merge_t.txt', 'w')\n",
      "    new2 = []\n",
      "    #print x\n",
      "    for new in files:\n",
      "        if int(new[-9:-7]) == x:\n",
      "            new2.append(new)\n",
      "            date = new[-19:-7]\n",
      "            #print( date)\n",
      "    for item in new2:\n",
      "        #print (item)\n",
      "        thefile.write(\"%s\\n\" % item)\n",
      "    thefile.close()\n",
      "    #print (date)\n",
      "    outfile = mergeFolder+date+'.tif'\n",
      "    #print (outfile)\n",
      "    paramsnorm = [gdal_merge, \"-o\", outfile, \"-q\", \"-v\", \"--optfile\", thisfile]\n",
      "    print (sp.list2cmdline(paramsnorm))\n",
      "    norm = sp.Popen(sp.list2cmdline(paramsnorm), shell=True)     \n",
      "    norm.communicate()"
     ],
     "language": "python",
     "metadata": {},
     "outputs": []
    },
    {
     "cell_type": "code",
     "collapsed": false,
     "input": [
      "files"
     ],
     "language": "python",
     "metadata": {},
     "outputs": []
    },
    {
     "cell_type": "code",
     "collapsed": false,
     "input": [],
     "language": "python",
     "metadata": {},
     "outputs": []
    }
   ],
   "metadata": {}
  }
 ]
}