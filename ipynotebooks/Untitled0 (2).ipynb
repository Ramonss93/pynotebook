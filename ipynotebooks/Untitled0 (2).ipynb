{
 "metadata": {
  "name": ""
 },
 "nbformat": 3,
 "nbformat_minor": 0,
 "worksheets": [
  {
   "cells": [
    {
     "cell_type": "code",
     "collapsed": false,
     "input": [
      "from mattijn import dikkelul\n",
      "import sys\n",
      "import subprocess as sp\n",
      "from osgeo import gdal, osr\n",
      "import numpy as np"
     ],
     "language": "python",
     "metadata": {},
     "outputs": [],
     "prompt_number": 25
    },
    {
     "cell_type": "code",
     "collapsed": false,
     "input": [
      "files = dikkelul.FilesFolder(r'D:\\Data\\GPCP_tif_clip_clip', '.tif')\n",
      "gdal_translate = r'D:\\Python33\\Lib\\site-packages\\osgeo//gdal_translate'"
     ],
     "language": "python",
     "metadata": {},
     "outputs": [],
     "prompt_number": 22
    },
    {
     "cell_type": "code",
     "collapsed": false,
     "input": [
      "outfolderresample = r'D:\\Data\\gpcp_extent//'\n",
      "for j in files:\n",
      "    out = j[-30::]\n",
      "    path = outfolderresample+out\n",
      "    paramsnorm = [gdal_translate, \"-projwin\", \"73.436933\", \"54.573241\", \"135.066933\", \"18.203241\", j, path]\n",
      "    print (path)\n",
      "    #print (sp.list2cmdline(paramsnorm))\n",
      "    norm = sp.Popen(sp.list2cmdline(paramsnorm), shell=True)     \n",
      "    norm.communicate()"
     ],
     "language": "python",
     "metadata": {},
     "outputs": [
      {
       "output_type": "stream",
       "stream": "stdout",
       "text": [
        "D:\\Data\\gpcp_extent//gpcp_1dd_v1.2_p1d.20000100.tif\n",
        "D:\\Data\\gpcp_extent//gpcp_1dd_v1.2_p1d.20000101.tif"
       ]
      },
      {
       "output_type": "stream",
       "stream": "stdout",
       "text": [
        "\n",
        "D:\\Data\\gpcp_extent//gpcp_1dd_v1.2_p1d.20000102.tif"
       ]
      },
      {
       "output_type": "stream",
       "stream": "stdout",
       "text": [
        "\n",
        "D:\\Data\\gpcp_extent//gpcp_1dd_v1.2_p1d.20000103.tif"
       ]
      },
      {
       "output_type": "stream",
       "stream": "stdout",
       "text": [
        "\n",
        "D:\\Data\\gpcp_extent//gpcp_1dd_v1.2_p1d.20000104.tif"
       ]
      },
      {
       "output_type": "stream",
       "stream": "stdout",
       "text": [
        "\n",
        "D:\\Data\\gpcp_extent//gpcp_1dd_v1.2_p1d.20000105.tif"
       ]
      },
      {
       "output_type": "stream",
       "stream": "stdout",
       "text": [
        "\n",
        "D:\\Data\\gpcp_extent//gpcp_1dd_v1.2_p1d.20000106.tif"
       ]
      },
      {
       "output_type": "stream",
       "stream": "stdout",
       "text": [
        "\n",
        "D:\\Data\\gpcp_extent//gpcp_1dd_v1.2_p1d.20000107.tif"
       ]
      },
      {
       "output_type": "stream",
       "stream": "stdout",
       "text": [
        "\n",
        "D:\\Data\\gpcp_extent//gpcp_1dd_v1.2_p1d.20000108.tif"
       ]
      },
      {
       "output_type": "stream",
       "stream": "stdout",
       "text": [
        "\n",
        "D:\\Data\\gpcp_extent//gpcp_1dd_v1.2_p1d.20000109.tif"
       ]
      },
      {
       "output_type": "stream",
       "stream": "stdout",
       "text": [
        "\n",
        "D:\\Data\\gpcp_extent//gpcp_1dd_v1.2_p1d.20000110.tif"
       ]
      },
      {
       "output_type": "stream",
       "stream": "stdout",
       "text": [
        "\n",
        "D:\\Data\\gpcp_extent//gpcp_1dd_v1.2_p1d.20000111.tif"
       ]
      },
      {
       "output_type": "stream",
       "stream": "stdout",
       "text": [
        "\n",
        "D:\\Data\\gpcp_extent//gpcp_1dd_v1.2_p1d.20000112.tif"
       ]
      },
      {
       "output_type": "stream",
       "stream": "stdout",
       "text": [
        "\n",
        "D:\\Data\\gpcp_extent//gpcp_1dd_v1.2_p1d.20000113.tif"
       ]
      },
      {
       "output_type": "stream",
       "stream": "stdout",
       "text": [
        "\n",
        "D:\\Data\\gpcp_extent//gpcp_1dd_v1.2_p1d.20000114.tif"
       ]
      },
      {
       "output_type": "stream",
       "stream": "stdout",
       "text": [
        "\n",
        "D:\\Data\\gpcp_extent//gpcp_1dd_v1.2_p1d.20000115.tif"
       ]
      },
      {
       "output_type": "stream",
       "stream": "stdout",
       "text": [
        "\n",
        "D:\\Data\\gpcp_extent//gpcp_1dd_v1.2_p1d.20000116.tif"
       ]
      },
      {
       "output_type": "stream",
       "stream": "stdout",
       "text": [
        "\n",
        "D:\\Data\\gpcp_extent//gpcp_1dd_v1.2_p1d.20000117.tif"
       ]
      },
      {
       "output_type": "stream",
       "stream": "stdout",
       "text": [
        "\n",
        "D:\\Data\\gpcp_extent//gpcp_1dd_v1.2_p1d.20000118.tif"
       ]
      },
      {
       "output_type": "stream",
       "stream": "stdout",
       "text": [
        "\n",
        "D:\\Data\\gpcp_extent//gpcp_1dd_v1.2_p1d.20000119.tif"
       ]
      },
      {
       "output_type": "stream",
       "stream": "stdout",
       "text": [
        "\n",
        "D:\\Data\\gpcp_extent//gpcp_1dd_v1.2_p1d.20000120.tif"
       ]
      },
      {
       "output_type": "stream",
       "stream": "stdout",
       "text": [
        "\n",
        "D:\\Data\\gpcp_extent//gpcp_1dd_v1.2_p1d.20000121.tif"
       ]
      },
      {
       "output_type": "stream",
       "stream": "stdout",
       "text": [
        "\n",
        "D:\\Data\\gpcp_extent//gpcp_1dd_v1.2_p1d.20000122.tif"
       ]
      },
      {
       "output_type": "stream",
       "stream": "stdout",
       "text": [
        "\n",
        "D:\\Data\\gpcp_extent//gpcp_1dd_v1.2_p1d.20000123.tif"
       ]
      },
      {
       "output_type": "stream",
       "stream": "stdout",
       "text": [
        "\n",
        "D:\\Data\\gpcp_extent//gpcp_1dd_v1.2_p1d.20000124.tif"
       ]
      },
      {
       "output_type": "stream",
       "stream": "stdout",
       "text": [
        "\n",
        "D:\\Data\\gpcp_extent//gpcp_1dd_v1.2_p1d.20000125.tif"
       ]
      },
      {
       "output_type": "stream",
       "stream": "stdout",
       "text": [
        "\n",
        "D:\\Data\\gpcp_extent//gpcp_1dd_v1.2_p1d.20000126.tif"
       ]
      },
      {
       "output_type": "stream",
       "stream": "stdout",
       "text": [
        "\n",
        "D:\\Data\\gpcp_extent//gpcp_1dd_v1.2_p1d.20000127.tif"
       ]
      },
      {
       "output_type": "stream",
       "stream": "stdout",
       "text": [
        "\n",
        "D:\\Data\\gpcp_extent//gpcp_1dd_v1.2_p1d.20000128.tif"
       ]
      },
      {
       "output_type": "stream",
       "stream": "stdout",
       "text": [
        "\n",
        "D:\\Data\\gpcp_extent//gpcp_1dd_v1.2_p1d.20000129.tif"
       ]
      },
      {
       "output_type": "stream",
       "stream": "stdout",
       "text": [
        "\n",
        "D:\\Data\\gpcp_extent//gpcp_1dd_v1.2_p1d.20000130.tif"
       ]
      },
      {
       "output_type": "stream",
       "stream": "stdout",
       "text": [
        "\n",
        "D:\\Data\\gpcp_extent//gpcp_1dd_v1.2_p1d.20000200.tif"
       ]
      },
      {
       "output_type": "stream",
       "stream": "stdout",
       "text": [
        "\n",
        "D:\\Data\\gpcp_extent//gpcp_1dd_v1.2_p1d.20000201.tif"
       ]
      },
      {
       "output_type": "stream",
       "stream": "stdout",
       "text": [
        "\n",
        "D:\\Data\\gpcp_extent//gpcp_1dd_v1.2_p1d.20000202.tif"
       ]
      },
      {
       "output_type": "stream",
       "stream": "stdout",
       "text": [
        "\n",
        "D:\\Data\\gpcp_extent//gpcp_1dd_v1.2_p1d.20000203.tif"
       ]
      },
      {
       "output_type": "stream",
       "stream": "stdout",
       "text": [
        "\n",
        "D:\\Data\\gpcp_extent//gpcp_1dd_v1.2_p1d.20000204.tif"
       ]
      },
      {
       "output_type": "stream",
       "stream": "stdout",
       "text": [
        "\n",
        "D:\\Data\\gpcp_extent//gpcp_1dd_v1.2_p1d.20000205.tif"
       ]
      },
      {
       "output_type": "stream",
       "stream": "stdout",
       "text": [
        "\n",
        "D:\\Data\\gpcp_extent//gpcp_1dd_v1.2_p1d.20000206.tif"
       ]
      },
      {
       "output_type": "stream",
       "stream": "stdout",
       "text": [
        "\n",
        "D:\\Data\\gpcp_extent//gpcp_1dd_v1.2_p1d.20000207.tif"
       ]
      },
      {
       "output_type": "stream",
       "stream": "stdout",
       "text": [
        "\n",
        "D:\\Data\\gpcp_extent//gpcp_1dd_v1.2_p1d.20000208.tif"
       ]
      },
      {
       "output_type": "stream",
       "stream": "stdout",
       "text": [
        "\n",
        "D:\\Data\\gpcp_extent//gpcp_1dd_v1.2_p1d.20000209.tif"
       ]
      },
      {
       "output_type": "stream",
       "stream": "stdout",
       "text": [
        "\n",
        "D:\\Data\\gpcp_extent//gpcp_1dd_v1.2_p1d.20000210.tif"
       ]
      },
      {
       "output_type": "stream",
       "stream": "stdout",
       "text": [
        "\n",
        "D:\\Data\\gpcp_extent//gpcp_1dd_v1.2_p1d.20000211.tif"
       ]
      },
      {
       "output_type": "stream",
       "stream": "stdout",
       "text": [
        "\n",
        "D:\\Data\\gpcp_extent//gpcp_1dd_v1.2_p1d.20000212.tif"
       ]
      },
      {
       "output_type": "stream",
       "stream": "stdout",
       "text": [
        "\n",
        "D:\\Data\\gpcp_extent//gpcp_1dd_v1.2_p1d.20000213.tif"
       ]
      },
      {
       "output_type": "stream",
       "stream": "stdout",
       "text": [
        "\n",
        "D:\\Data\\gpcp_extent//gpcp_1dd_v1.2_p1d.20000214.tif"
       ]
      },
      {
       "output_type": "stream",
       "stream": "stdout",
       "text": [
        "\n",
        "D:\\Data\\gpcp_extent//gpcp_1dd_v1.2_p1d.20000215.tif"
       ]
      },
      {
       "output_type": "stream",
       "stream": "stdout",
       "text": [
        "\n",
        "D:\\Data\\gpcp_extent//gpcp_1dd_v1.2_p1d.20000216.tif"
       ]
      },
      {
       "output_type": "stream",
       "stream": "stdout",
       "text": [
        "\n",
        "D:\\Data\\gpcp_extent//gpcp_1dd_v1.2_p1d.20000217.tif"
       ]
      },
      {
       "output_type": "stream",
       "stream": "stdout",
       "text": [
        "\n",
        "D:\\Data\\gpcp_extent//gpcp_1dd_v1.2_p1d.20000218.tif"
       ]
      },
      {
       "output_type": "stream",
       "stream": "stdout",
       "text": [
        "\n",
        "D:\\Data\\gpcp_extent//gpcp_1dd_v1.2_p1d.20000219.tif"
       ]
      },
      {
       "output_type": "stream",
       "stream": "stdout",
       "text": [
        "\n",
        "D:\\Data\\gpcp_extent//gpcp_1dd_v1.2_p1d.20000220.tif"
       ]
      },
      {
       "output_type": "stream",
       "stream": "stdout",
       "text": [
        "\n",
        "D:\\Data\\gpcp_extent//gpcp_1dd_v1.2_p1d.20000221.tif"
       ]
      },
      {
       "output_type": "stream",
       "stream": "stdout",
       "text": [
        "\n",
        "D:\\Data\\gpcp_extent//gpcp_1dd_v1.2_p1d.20000222.tif"
       ]
      },
      {
       "output_type": "stream",
       "stream": "stdout",
       "text": [
        "\n",
        "D:\\Data\\gpcp_extent//gpcp_1dd_v1.2_p1d.20000223.tif"
       ]
      },
      {
       "output_type": "stream",
       "stream": "stdout",
       "text": [
        "\n",
        "D:\\Data\\gpcp_extent//gpcp_1dd_v1.2_p1d.20000224.tif"
       ]
      },
      {
       "output_type": "stream",
       "stream": "stdout",
       "text": [
        "\n",
        "D:\\Data\\gpcp_extent//gpcp_1dd_v1.2_p1d.20000225.tif"
       ]
      },
      {
       "output_type": "stream",
       "stream": "stdout",
       "text": [
        "\n",
        "D:\\Data\\gpcp_extent//gpcp_1dd_v1.2_p1d.20000226.tif"
       ]
      },
      {
       "output_type": "stream",
       "stream": "stdout",
       "text": [
        "\n",
        "D:\\Data\\gpcp_extent//gpcp_1dd_v1.2_p1d.20000227.tif"
       ]
      },
      {
       "output_type": "stream",
       "stream": "stdout",
       "text": [
        "\n",
        "D:\\Data\\gpcp_extent//gpcp_1dd_v1.2_p1d.20000228.tif"
       ]
      },
      {
       "output_type": "stream",
       "stream": "stdout",
       "text": [
        "\n",
        "D:\\Data\\gpcp_extent//gpcp_1dd_v1.2_p1d.20000300.tif"
       ]
      },
      {
       "output_type": "stream",
       "stream": "stdout",
       "text": [
        "\n",
        "D:\\Data\\gpcp_extent//gpcp_1dd_v1.2_p1d.20000301.tif"
       ]
      },
      {
       "output_type": "stream",
       "stream": "stdout",
       "text": [
        "\n",
        "D:\\Data\\gpcp_extent//gpcp_1dd_v1.2_p1d.20000302.tif"
       ]
      },
      {
       "output_type": "stream",
       "stream": "stdout",
       "text": [
        "\n",
        "D:\\Data\\gpcp_extent//gpcp_1dd_v1.2_p1d.20000303.tif"
       ]
      },
      {
       "output_type": "stream",
       "stream": "stdout",
       "text": [
        "\n",
        "D:\\Data\\gpcp_extent//gpcp_1dd_v1.2_p1d.20000304.tif"
       ]
      },
      {
       "output_type": "stream",
       "stream": "stdout",
       "text": [
        "\n",
        "D:\\Data\\gpcp_extent//gpcp_1dd_v1.2_p1d.20000305.tif"
       ]
      },
      {
       "output_type": "stream",
       "stream": "stdout",
       "text": [
        "\n",
        "D:\\Data\\gpcp_extent//gpcp_1dd_v1.2_p1d.20000306.tif"
       ]
      },
      {
       "output_type": "stream",
       "stream": "stdout",
       "text": [
        "\n",
        "D:\\Data\\gpcp_extent//gpcp_1dd_v1.2_p1d.20000307.tif"
       ]
      },
      {
       "output_type": "stream",
       "stream": "stdout",
       "text": [
        "\n",
        "D:\\Data\\gpcp_extent//gpcp_1dd_v1.2_p1d.20000308.tif"
       ]
      },
      {
       "output_type": "stream",
       "stream": "stdout",
       "text": [
        "\n",
        "D:\\Data\\gpcp_extent//gpcp_1dd_v1.2_p1d.20000309.tif"
       ]
      },
      {
       "output_type": "stream",
       "stream": "stdout",
       "text": [
        "\n",
        "D:\\Data\\gpcp_extent//gpcp_1dd_v1.2_p1d.20000310.tif"
       ]
      },
      {
       "output_type": "stream",
       "stream": "stdout",
       "text": [
        "\n",
        "D:\\Data\\gpcp_extent//gpcp_1dd_v1.2_p1d.20000311.tif"
       ]
      },
      {
       "output_type": "stream",
       "stream": "stdout",
       "text": [
        "\n",
        "D:\\Data\\gpcp_extent//gpcp_1dd_v1.2_p1d.20000312.tif"
       ]
      },
      {
       "output_type": "stream",
       "stream": "stdout",
       "text": [
        "\n",
        "D:\\Data\\gpcp_extent//gpcp_1dd_v1.2_p1d.20000313.tif"
       ]
      },
      {
       "output_type": "stream",
       "stream": "stdout",
       "text": [
        "\n",
        "D:\\Data\\gpcp_extent//gpcp_1dd_v1.2_p1d.20000314.tif"
       ]
      },
      {
       "output_type": "stream",
       "stream": "stdout",
       "text": [
        "\n",
        "D:\\Data\\gpcp_extent//gpcp_1dd_v1.2_p1d.20000315.tif"
       ]
      },
      {
       "output_type": "stream",
       "stream": "stdout",
       "text": [
        "\n",
        "D:\\Data\\gpcp_extent//gpcp_1dd_v1.2_p1d.20000316.tif"
       ]
      },
      {
       "output_type": "stream",
       "stream": "stdout",
       "text": [
        "\n",
        "D:\\Data\\gpcp_extent//gpcp_1dd_v1.2_p1d.20000317.tif"
       ]
      },
      {
       "output_type": "stream",
       "stream": "stdout",
       "text": [
        "\n",
        "D:\\Data\\gpcp_extent//gpcp_1dd_v1.2_p1d.20000318.tif"
       ]
      },
      {
       "output_type": "stream",
       "stream": "stdout",
       "text": [
        "\n",
        "D:\\Data\\gpcp_extent//gpcp_1dd_v1.2_p1d.20000319.tif"
       ]
      },
      {
       "output_type": "stream",
       "stream": "stdout",
       "text": [
        "\n",
        "D:\\Data\\gpcp_extent//gpcp_1dd_v1.2_p1d.20000320.tif"
       ]
      },
      {
       "output_type": "stream",
       "stream": "stdout",
       "text": [
        "\n",
        "D:\\Data\\gpcp_extent//gpcp_1dd_v1.2_p1d.20000321.tif"
       ]
      },
      {
       "output_type": "stream",
       "stream": "stdout",
       "text": [
        "\n",
        "D:\\Data\\gpcp_extent//gpcp_1dd_v1.2_p1d.20000322.tif"
       ]
      },
      {
       "output_type": "stream",
       "stream": "stdout",
       "text": [
        "\n",
        "D:\\Data\\gpcp_extent//gpcp_1dd_v1.2_p1d.20000323.tif"
       ]
      },
      {
       "output_type": "stream",
       "stream": "stdout",
       "text": [
        "\n",
        "D:\\Data\\gpcp_extent//gpcp_1dd_v1.2_p1d.20000324.tif"
       ]
      },
      {
       "output_type": "stream",
       "stream": "stdout",
       "text": [
        "\n",
        "D:\\Data\\gpcp_extent//gpcp_1dd_v1.2_p1d.20000325.tif"
       ]
      },
      {
       "output_type": "stream",
       "stream": "stdout",
       "text": [
        "\n",
        "D:\\Data\\gpcp_extent//gpcp_1dd_v1.2_p1d.20000326.tif"
       ]
      },
      {
       "output_type": "stream",
       "stream": "stdout",
       "text": [
        "\n",
        "D:\\Data\\gpcp_extent//gpcp_1dd_v1.2_p1d.20000327.tif"
       ]
      },
      {
       "output_type": "stream",
       "stream": "stdout",
       "text": [
        "\n",
        "D:\\Data\\gpcp_extent//gpcp_1dd_v1.2_p1d.20000328.tif"
       ]
      },
      {
       "output_type": "stream",
       "stream": "stdout",
       "text": [
        "\n",
        "D:\\Data\\gpcp_extent//gpcp_1dd_v1.2_p1d.20000329.tif"
       ]
      },
      {
       "output_type": "stream",
       "stream": "stdout",
       "text": [
        "\n",
        "D:\\Data\\gpcp_extent//gpcp_1dd_v1.2_p1d.20000330.tif"
       ]
      },
      {
       "output_type": "stream",
       "stream": "stdout",
       "text": [
        "\n",
        "D:\\Data\\gpcp_extent//gpcp_1dd_v1.2_p1d.20000400.tif"
       ]
      },
      {
       "output_type": "stream",
       "stream": "stdout",
       "text": [
        "\n",
        "D:\\Data\\gpcp_extent//gpcp_1dd_v1.2_p1d.20000401.tif"
       ]
      },
      {
       "output_type": "stream",
       "stream": "stdout",
       "text": [
        "\n",
        "D:\\Data\\gpcp_extent//gpcp_1dd_v1.2_p1d.20000402.tif"
       ]
      },
      {
       "output_type": "stream",
       "stream": "stdout",
       "text": [
        "\n",
        "D:\\Data\\gpcp_extent//gpcp_1dd_v1.2_p1d.20000403.tif"
       ]
      },
      {
       "output_type": "stream",
       "stream": "stdout",
       "text": [
        "\n",
        "D:\\Data\\gpcp_extent//gpcp_1dd_v1.2_p1d.20000404.tif"
       ]
      },
      {
       "output_type": "stream",
       "stream": "stdout",
       "text": [
        "\n",
        "D:\\Data\\gpcp_extent//gpcp_1dd_v1.2_p1d.20000405.tif"
       ]
      },
      {
       "output_type": "stream",
       "stream": "stdout",
       "text": [
        "\n",
        "D:\\Data\\gpcp_extent//gpcp_1dd_v1.2_p1d.20000406.tif"
       ]
      },
      {
       "output_type": "stream",
       "stream": "stdout",
       "text": [
        "\n",
        "D:\\Data\\gpcp_extent//gpcp_1dd_v1.2_p1d.20000407.tif"
       ]
      },
      {
       "output_type": "stream",
       "stream": "stdout",
       "text": [
        "\n",
        "D:\\Data\\gpcp_extent//gpcp_1dd_v1.2_p1d.20000408.tif"
       ]
      },
      {
       "output_type": "stream",
       "stream": "stdout",
       "text": [
        "\n",
        "D:\\Data\\gpcp_extent//gpcp_1dd_v1.2_p1d.20000409.tif"
       ]
      },
      {
       "output_type": "stream",
       "stream": "stdout",
       "text": [
        "\n",
        "D:\\Data\\gpcp_extent//gpcp_1dd_v1.2_p1d.20000410.tif"
       ]
      },
      {
       "output_type": "stream",
       "stream": "stdout",
       "text": [
        "\n",
        "D:\\Data\\gpcp_extent//gpcp_1dd_v1.2_p1d.20000411.tif"
       ]
      },
      {
       "output_type": "stream",
       "stream": "stdout",
       "text": [
        "\n",
        "D:\\Data\\gpcp_extent//gpcp_1dd_v1.2_p1d.20000412.tif"
       ]
      },
      {
       "output_type": "stream",
       "stream": "stdout",
       "text": [
        "\n",
        "D:\\Data\\gpcp_extent//gpcp_1dd_v1.2_p1d.20000413.tif"
       ]
      },
      {
       "output_type": "stream",
       "stream": "stdout",
       "text": [
        "\n",
        "D:\\Data\\gpcp_extent//gpcp_1dd_v1.2_p1d.20000414.tif"
       ]
      },
      {
       "output_type": "stream",
       "stream": "stdout",
       "text": [
        "\n",
        "D:\\Data\\gpcp_extent//gpcp_1dd_v1.2_p1d.20000415.tif"
       ]
      },
      {
       "output_type": "stream",
       "stream": "stdout",
       "text": [
        "\n",
        "D:\\Data\\gpcp_extent//gpcp_1dd_v1.2_p1d.20000416.tif"
       ]
      },
      {
       "output_type": "stream",
       "stream": "stdout",
       "text": [
        "\n",
        "D:\\Data\\gpcp_extent//gpcp_1dd_v1.2_p1d.20000417.tif"
       ]
      },
      {
       "output_type": "stream",
       "stream": "stdout",
       "text": [
        "\n",
        "D:\\Data\\gpcp_extent//gpcp_1dd_v1.2_p1d.20000418.tif"
       ]
      },
      {
       "output_type": "stream",
       "stream": "stdout",
       "text": [
        "\n",
        "D:\\Data\\gpcp_extent//gpcp_1dd_v1.2_p1d.20000419.tif"
       ]
      },
      {
       "output_type": "stream",
       "stream": "stdout",
       "text": [
        "\n",
        "D:\\Data\\gpcp_extent//gpcp_1dd_v1.2_p1d.20000420.tif"
       ]
      },
      {
       "output_type": "stream",
       "stream": "stdout",
       "text": [
        "\n",
        "D:\\Data\\gpcp_extent//gpcp_1dd_v1.2_p1d.20000421.tif"
       ]
      },
      {
       "output_type": "stream",
       "stream": "stdout",
       "text": [
        "\n",
        "D:\\Data\\gpcp_extent//gpcp_1dd_v1.2_p1d.20000422.tif"
       ]
      },
      {
       "output_type": "stream",
       "stream": "stdout",
       "text": [
        "\n",
        "D:\\Data\\gpcp_extent//gpcp_1dd_v1.2_p1d.20000423.tif"
       ]
      },
      {
       "output_type": "stream",
       "stream": "stdout",
       "text": [
        "\n",
        "D:\\Data\\gpcp_extent//gpcp_1dd_v1.2_p1d.20000424.tif"
       ]
      },
      {
       "output_type": "stream",
       "stream": "stdout",
       "text": [
        "\n",
        "D:\\Data\\gpcp_extent//gpcp_1dd_v1.2_p1d.20000425.tif"
       ]
      },
      {
       "output_type": "stream",
       "stream": "stdout",
       "text": [
        "\n",
        "D:\\Data\\gpcp_extent//gpcp_1dd_v1.2_p1d.20000426.tif"
       ]
      },
      {
       "output_type": "stream",
       "stream": "stdout",
       "text": [
        "\n",
        "D:\\Data\\gpcp_extent//gpcp_1dd_v1.2_p1d.20000427.tif"
       ]
      },
      {
       "output_type": "stream",
       "stream": "stdout",
       "text": [
        "\n",
        "D:\\Data\\gpcp_extent//gpcp_1dd_v1.2_p1d.20000428.tif"
       ]
      },
      {
       "output_type": "stream",
       "stream": "stdout",
       "text": [
        "\n",
        "D:\\Data\\gpcp_extent//gpcp_1dd_v1.2_p1d.20000429.tif"
       ]
      },
      {
       "output_type": "stream",
       "stream": "stdout",
       "text": [
        "\n",
        "D:\\Data\\gpcp_extent//gpcp_1dd_v1.2_p1d.20000500.tif"
       ]
      },
      {
       "output_type": "stream",
       "stream": "stdout",
       "text": [
        "\n",
        "D:\\Data\\gpcp_extent//gpcp_1dd_v1.2_p1d.20000501.tif"
       ]
      },
      {
       "output_type": "stream",
       "stream": "stdout",
       "text": [
        "\n",
        "D:\\Data\\gpcp_extent//gpcp_1dd_v1.2_p1d.20000502.tif"
       ]
      },
      {
       "output_type": "stream",
       "stream": "stdout",
       "text": [
        "\n",
        "D:\\Data\\gpcp_extent//gpcp_1dd_v1.2_p1d.20000503.tif"
       ]
      },
      {
       "output_type": "stream",
       "stream": "stdout",
       "text": [
        "\n",
        "D:\\Data\\gpcp_extent//gpcp_1dd_v1.2_p1d.20000504.tif"
       ]
      },
      {
       "output_type": "stream",
       "stream": "stdout",
       "text": [
        "\n",
        "D:\\Data\\gpcp_extent//gpcp_1dd_v1.2_p1d.20000505.tif"
       ]
      },
      {
       "output_type": "stream",
       "stream": "stdout",
       "text": [
        "\n",
        "D:\\Data\\gpcp_extent//gpcp_1dd_v1.2_p1d.20000506.tif"
       ]
      },
      {
       "output_type": "stream",
       "stream": "stdout",
       "text": [
        "\n",
        "D:\\Data\\gpcp_extent//gpcp_1dd_v1.2_p1d.20000507.tif"
       ]
      },
      {
       "output_type": "stream",
       "stream": "stdout",
       "text": [
        "\n",
        "D:\\Data\\gpcp_extent//gpcp_1dd_v1.2_p1d.20000508.tif"
       ]
      },
      {
       "output_type": "stream",
       "stream": "stdout",
       "text": [
        "\n",
        "D:\\Data\\gpcp_extent//gpcp_1dd_v1.2_p1d.20000509.tif"
       ]
      },
      {
       "output_type": "stream",
       "stream": "stdout",
       "text": [
        "\n",
        "D:\\Data\\gpcp_extent//gpcp_1dd_v1.2_p1d.20000510.tif"
       ]
      },
      {
       "output_type": "stream",
       "stream": "stdout",
       "text": [
        "\n",
        "D:\\Data\\gpcp_extent//gpcp_1dd_v1.2_p1d.20000511.tif"
       ]
      },
      {
       "output_type": "stream",
       "stream": "stdout",
       "text": [
        "\n",
        "D:\\Data\\gpcp_extent//gpcp_1dd_v1.2_p1d.20000512.tif"
       ]
      },
      {
       "output_type": "stream",
       "stream": "stdout",
       "text": [
        "\n",
        "D:\\Data\\gpcp_extent//gpcp_1dd_v1.2_p1d.20000513.tif"
       ]
      },
      {
       "output_type": "stream",
       "stream": "stdout",
       "text": [
        "\n",
        "D:\\Data\\gpcp_extent//gpcp_1dd_v1.2_p1d.20000514.tif"
       ]
      },
      {
       "output_type": "stream",
       "stream": "stdout",
       "text": [
        "\n",
        "D:\\Data\\gpcp_extent//gpcp_1dd_v1.2_p1d.20000515.tif"
       ]
      },
      {
       "output_type": "stream",
       "stream": "stdout",
       "text": [
        "\n",
        "D:\\Data\\gpcp_extent//gpcp_1dd_v1.2_p1d.20000516.tif"
       ]
      },
      {
       "output_type": "stream",
       "stream": "stdout",
       "text": [
        "\n",
        "D:\\Data\\gpcp_extent//gpcp_1dd_v1.2_p1d.20000517.tif"
       ]
      },
      {
       "output_type": "stream",
       "stream": "stdout",
       "text": [
        "\n",
        "D:\\Data\\gpcp_extent//gpcp_1dd_v1.2_p1d.20000518.tif"
       ]
      },
      {
       "output_type": "stream",
       "stream": "stdout",
       "text": [
        "\n",
        "D:\\Data\\gpcp_extent//gpcp_1dd_v1.2_p1d.20000519.tif"
       ]
      },
      {
       "output_type": "stream",
       "stream": "stdout",
       "text": [
        "\n",
        "D:\\Data\\gpcp_extent//gpcp_1dd_v1.2_p1d.20000520.tif"
       ]
      },
      {
       "output_type": "stream",
       "stream": "stdout",
       "text": [
        "\n",
        "D:\\Data\\gpcp_extent//gpcp_1dd_v1.2_p1d.20000521.tif"
       ]
      },
      {
       "output_type": "stream",
       "stream": "stdout",
       "text": [
        "\n",
        "D:\\Data\\gpcp_extent//gpcp_1dd_v1.2_p1d.20000522.tif"
       ]
      },
      {
       "output_type": "stream",
       "stream": "stdout",
       "text": [
        "\n",
        "D:\\Data\\gpcp_extent//gpcp_1dd_v1.2_p1d.20000523.tif"
       ]
      },
      {
       "output_type": "stream",
       "stream": "stdout",
       "text": [
        "\n",
        "D:\\Data\\gpcp_extent//gpcp_1dd_v1.2_p1d.20000524.tif"
       ]
      },
      {
       "output_type": "stream",
       "stream": "stdout",
       "text": [
        "\n",
        "D:\\Data\\gpcp_extent//gpcp_1dd_v1.2_p1d.20000525.tif"
       ]
      },
      {
       "output_type": "stream",
       "stream": "stdout",
       "text": [
        "\n",
        "D:\\Data\\gpcp_extent//gpcp_1dd_v1.2_p1d.20000526.tif"
       ]
      },
      {
       "output_type": "stream",
       "stream": "stdout",
       "text": [
        "\n",
        "D:\\Data\\gpcp_extent//gpcp_1dd_v1.2_p1d.20000527.tif"
       ]
      },
      {
       "output_type": "stream",
       "stream": "stdout",
       "text": [
        "\n",
        "D:\\Data\\gpcp_extent//gpcp_1dd_v1.2_p1d.20000528.tif"
       ]
      },
      {
       "output_type": "stream",
       "stream": "stdout",
       "text": [
        "\n",
        "D:\\Data\\gpcp_extent//gpcp_1dd_v1.2_p1d.20000529.tif"
       ]
      },
      {
       "output_type": "stream",
       "stream": "stdout",
       "text": [
        "\n",
        "D:\\Data\\gpcp_extent//gpcp_1dd_v1.2_p1d.20000530.tif"
       ]
      },
      {
       "output_type": "stream",
       "stream": "stdout",
       "text": [
        "\n",
        "D:\\Data\\gpcp_extent//gpcp_1dd_v1.2_p1d.20000600.tif"
       ]
      },
      {
       "output_type": "stream",
       "stream": "stdout",
       "text": [
        "\n",
        "D:\\Data\\gpcp_extent//gpcp_1dd_v1.2_p1d.20000601.tif"
       ]
      },
      {
       "output_type": "stream",
       "stream": "stdout",
       "text": [
        "\n",
        "D:\\Data\\gpcp_extent//gpcp_1dd_v1.2_p1d.20000602.tif"
       ]
      },
      {
       "output_type": "stream",
       "stream": "stdout",
       "text": [
        "\n",
        "D:\\Data\\gpcp_extent//gpcp_1dd_v1.2_p1d.20000603.tif"
       ]
      },
      {
       "output_type": "stream",
       "stream": "stdout",
       "text": [
        "\n",
        "D:\\Data\\gpcp_extent//gpcp_1dd_v1.2_p1d.20000604.tif"
       ]
      },
      {
       "output_type": "stream",
       "stream": "stdout",
       "text": [
        "\n",
        "D:\\Data\\gpcp_extent//gpcp_1dd_v1.2_p1d.20000605.tif"
       ]
      },
      {
       "output_type": "stream",
       "stream": "stdout",
       "text": [
        "\n",
        "D:\\Data\\gpcp_extent//gpcp_1dd_v1.2_p1d.20000606.tif"
       ]
      },
      {
       "output_type": "stream",
       "stream": "stdout",
       "text": [
        "\n",
        "D:\\Data\\gpcp_extent//gpcp_1dd_v1.2_p1d.20000607.tif"
       ]
      },
      {
       "output_type": "stream",
       "stream": "stdout",
       "text": [
        "\n",
        "D:\\Data\\gpcp_extent//gpcp_1dd_v1.2_p1d.20000608.tif"
       ]
      },
      {
       "output_type": "stream",
       "stream": "stdout",
       "text": [
        "\n",
        "D:\\Data\\gpcp_extent//gpcp_1dd_v1.2_p1d.20000609.tif"
       ]
      },
      {
       "output_type": "stream",
       "stream": "stdout",
       "text": [
        "\n",
        "D:\\Data\\gpcp_extent//gpcp_1dd_v1.2_p1d.20000610.tif"
       ]
      },
      {
       "output_type": "stream",
       "stream": "stdout",
       "text": [
        "\n",
        "D:\\Data\\gpcp_extent//gpcp_1dd_v1.2_p1d.20000611.tif"
       ]
      },
      {
       "output_type": "stream",
       "stream": "stdout",
       "text": [
        "\n",
        "D:\\Data\\gpcp_extent//gpcp_1dd_v1.2_p1d.20000612.tif"
       ]
      },
      {
       "output_type": "stream",
       "stream": "stdout",
       "text": [
        "\n",
        "D:\\Data\\gpcp_extent//gpcp_1dd_v1.2_p1d.20000613.tif"
       ]
      },
      {
       "output_type": "stream",
       "stream": "stdout",
       "text": [
        "\n",
        "D:\\Data\\gpcp_extent//gpcp_1dd_v1.2_p1d.20000614.tif"
       ]
      },
      {
       "output_type": "stream",
       "stream": "stdout",
       "text": [
        "\n",
        "D:\\Data\\gpcp_extent//gpcp_1dd_v1.2_p1d.20000615.tif"
       ]
      },
      {
       "output_type": "stream",
       "stream": "stdout",
       "text": [
        "\n",
        "D:\\Data\\gpcp_extent//gpcp_1dd_v1.2_p1d.20000616.tif"
       ]
      },
      {
       "output_type": "stream",
       "stream": "stdout",
       "text": [
        "\n",
        "D:\\Data\\gpcp_extent//gpcp_1dd_v1.2_p1d.20000617.tif"
       ]
      },
      {
       "output_type": "stream",
       "stream": "stdout",
       "text": [
        "\n",
        "D:\\Data\\gpcp_extent//gpcp_1dd_v1.2_p1d.20000618.tif"
       ]
      },
      {
       "output_type": "stream",
       "stream": "stdout",
       "text": [
        "\n",
        "D:\\Data\\gpcp_extent//gpcp_1dd_v1.2_p1d.20000619.tif"
       ]
      },
      {
       "output_type": "stream",
       "stream": "stdout",
       "text": [
        "\n",
        "D:\\Data\\gpcp_extent//gpcp_1dd_v1.2_p1d.20000620.tif"
       ]
      },
      {
       "output_type": "stream",
       "stream": "stdout",
       "text": [
        "\n",
        "D:\\Data\\gpcp_extent//gpcp_1dd_v1.2_p1d.20000621.tif"
       ]
      },
      {
       "output_type": "stream",
       "stream": "stdout",
       "text": [
        "\n",
        "D:\\Data\\gpcp_extent//gpcp_1dd_v1.2_p1d.20000622.tif"
       ]
      },
      {
       "output_type": "stream",
       "stream": "stdout",
       "text": [
        "\n",
        "D:\\Data\\gpcp_extent//gpcp_1dd_v1.2_p1d.20000623.tif"
       ]
      },
      {
       "output_type": "stream",
       "stream": "stdout",
       "text": [
        "\n",
        "D:\\Data\\gpcp_extent//gpcp_1dd_v1.2_p1d.20000624.tif"
       ]
      },
      {
       "output_type": "stream",
       "stream": "stdout",
       "text": [
        "\n",
        "D:\\Data\\gpcp_extent//gpcp_1dd_v1.2_p1d.20000625.tif"
       ]
      },
      {
       "output_type": "stream",
       "stream": "stdout",
       "text": [
        "\n",
        "D:\\Data\\gpcp_extent//gpcp_1dd_v1.2_p1d.20000626.tif"
       ]
      },
      {
       "output_type": "stream",
       "stream": "stdout",
       "text": [
        "\n",
        "D:\\Data\\gpcp_extent//gpcp_1dd_v1.2_p1d.20000627.tif"
       ]
      },
      {
       "output_type": "stream",
       "stream": "stdout",
       "text": [
        "\n",
        "D:\\Data\\gpcp_extent//gpcp_1dd_v1.2_p1d.20000628.tif"
       ]
      },
      {
       "output_type": "stream",
       "stream": "stdout",
       "text": [
        "\n",
        "D:\\Data\\gpcp_extent//gpcp_1dd_v1.2_p1d.20000629.tif"
       ]
      },
      {
       "output_type": "stream",
       "stream": "stdout",
       "text": [
        "\n",
        "D:\\Data\\gpcp_extent//gpcp_1dd_v1.2_p1d.20000700.tif"
       ]
      },
      {
       "output_type": "stream",
       "stream": "stdout",
       "text": [
        "\n",
        "D:\\Data\\gpcp_extent//gpcp_1dd_v1.2_p1d.20000701.tif"
       ]
      },
      {
       "output_type": "stream",
       "stream": "stdout",
       "text": [
        "\n",
        "D:\\Data\\gpcp_extent//gpcp_1dd_v1.2_p1d.20000702.tif"
       ]
      },
      {
       "output_type": "stream",
       "stream": "stdout",
       "text": [
        "\n",
        "D:\\Data\\gpcp_extent//gpcp_1dd_v1.2_p1d.20000703.tif"
       ]
      },
      {
       "output_type": "stream",
       "stream": "stdout",
       "text": [
        "\n",
        "D:\\Data\\gpcp_extent//gpcp_1dd_v1.2_p1d.20000704.tif"
       ]
      },
      {
       "output_type": "stream",
       "stream": "stdout",
       "text": [
        "\n",
        "D:\\Data\\gpcp_extent//gpcp_1dd_v1.2_p1d.20000705.tif"
       ]
      },
      {
       "output_type": "stream",
       "stream": "stdout",
       "text": [
        "\n",
        "D:\\Data\\gpcp_extent//gpcp_1dd_v1.2_p1d.20000706.tif"
       ]
      },
      {
       "output_type": "stream",
       "stream": "stdout",
       "text": [
        "\n",
        "D:\\Data\\gpcp_extent//gpcp_1dd_v1.2_p1d.20000707.tif"
       ]
      },
      {
       "output_type": "stream",
       "stream": "stdout",
       "text": [
        "\n",
        "D:\\Data\\gpcp_extent//gpcp_1dd_v1.2_p1d.20000708.tif"
       ]
      },
      {
       "output_type": "stream",
       "stream": "stdout",
       "text": [
        "\n",
        "D:\\Data\\gpcp_extent//gpcp_1dd_v1.2_p1d.20000709.tif"
       ]
      },
      {
       "output_type": "stream",
       "stream": "stdout",
       "text": [
        "\n",
        "D:\\Data\\gpcp_extent//gpcp_1dd_v1.2_p1d.20000710.tif"
       ]
      },
      {
       "output_type": "stream",
       "stream": "stdout",
       "text": [
        "\n",
        "D:\\Data\\gpcp_extent//gpcp_1dd_v1.2_p1d.20000711.tif"
       ]
      },
      {
       "output_type": "stream",
       "stream": "stdout",
       "text": [
        "\n",
        "D:\\Data\\gpcp_extent//gpcp_1dd_v1.2_p1d.20000712.tif"
       ]
      },
      {
       "output_type": "stream",
       "stream": "stdout",
       "text": [
        "\n",
        "D:\\Data\\gpcp_extent//gpcp_1dd_v1.2_p1d.20000713.tif"
       ]
      },
      {
       "output_type": "stream",
       "stream": "stdout",
       "text": [
        "\n",
        "D:\\Data\\gpcp_extent//gpcp_1dd_v1.2_p1d.20000714.tif"
       ]
      },
      {
       "output_type": "stream",
       "stream": "stdout",
       "text": [
        "\n",
        "D:\\Data\\gpcp_extent//gpcp_1dd_v1.2_p1d.20000715.tif"
       ]
      },
      {
       "output_type": "stream",
       "stream": "stdout",
       "text": [
        "\n",
        "D:\\Data\\gpcp_extent//gpcp_1dd_v1.2_p1d.20000716.tif"
       ]
      },
      {
       "output_type": "stream",
       "stream": "stdout",
       "text": [
        "\n",
        "D:\\Data\\gpcp_extent//gpcp_1dd_v1.2_p1d.20000717.tif"
       ]
      },
      {
       "output_type": "stream",
       "stream": "stdout",
       "text": [
        "\n",
        "D:\\Data\\gpcp_extent//gpcp_1dd_v1.2_p1d.20000718.tif"
       ]
      },
      {
       "output_type": "stream",
       "stream": "stdout",
       "text": [
        "\n",
        "D:\\Data\\gpcp_extent//gpcp_1dd_v1.2_p1d.20000719.tif"
       ]
      },
      {
       "output_type": "stream",
       "stream": "stdout",
       "text": [
        "\n",
        "D:\\Data\\gpcp_extent//gpcp_1dd_v1.2_p1d.20000720.tif"
       ]
      },
      {
       "output_type": "stream",
       "stream": "stdout",
       "text": [
        "\n",
        "D:\\Data\\gpcp_extent//gpcp_1dd_v1.2_p1d.20000721.tif"
       ]
      },
      {
       "output_type": "stream",
       "stream": "stdout",
       "text": [
        "\n",
        "D:\\Data\\gpcp_extent//gpcp_1dd_v1.2_p1d.20000722.tif"
       ]
      },
      {
       "output_type": "stream",
       "stream": "stdout",
       "text": [
        "\n",
        "D:\\Data\\gpcp_extent//gpcp_1dd_v1.2_p1d.20000723.tif"
       ]
      },
      {
       "output_type": "stream",
       "stream": "stdout",
       "text": [
        "\n",
        "D:\\Data\\gpcp_extent//gpcp_1dd_v1.2_p1d.20000724.tif"
       ]
      },
      {
       "output_type": "stream",
       "stream": "stdout",
       "text": [
        "\n",
        "D:\\Data\\gpcp_extent//gpcp_1dd_v1.2_p1d.20000725.tif"
       ]
      },
      {
       "output_type": "stream",
       "stream": "stdout",
       "text": [
        "\n",
        "D:\\Data\\gpcp_extent//gpcp_1dd_v1.2_p1d.20000726.tif"
       ]
      },
      {
       "output_type": "stream",
       "stream": "stdout",
       "text": [
        "\n",
        "D:\\Data\\gpcp_extent//gpcp_1dd_v1.2_p1d.20000727.tif"
       ]
      },
      {
       "output_type": "stream",
       "stream": "stdout",
       "text": [
        "\n",
        "D:\\Data\\gpcp_extent//gpcp_1dd_v1.2_p1d.20000728.tif"
       ]
      },
      {
       "output_type": "stream",
       "stream": "stdout",
       "text": [
        "\n",
        "D:\\Data\\gpcp_extent//gpcp_1dd_v1.2_p1d.20000729.tif"
       ]
      },
      {
       "output_type": "stream",
       "stream": "stdout",
       "text": [
        "\n",
        "D:\\Data\\gpcp_extent//gpcp_1dd_v1.2_p1d.20000730.tif"
       ]
      },
      {
       "output_type": "stream",
       "stream": "stdout",
       "text": [
        "\n",
        "D:\\Data\\gpcp_extent//gpcp_1dd_v1.2_p1d.20000800.tif"
       ]
      },
      {
       "output_type": "stream",
       "stream": "stdout",
       "text": [
        "\n",
        "D:\\Data\\gpcp_extent//gpcp_1dd_v1.2_p1d.20000801.tif"
       ]
      },
      {
       "output_type": "stream",
       "stream": "stdout",
       "text": [
        "\n",
        "D:\\Data\\gpcp_extent//gpcp_1dd_v1.2_p1d.20000802.tif"
       ]
      },
      {
       "output_type": "stream",
       "stream": "stdout",
       "text": [
        "\n",
        "D:\\Data\\gpcp_extent//gpcp_1dd_v1.2_p1d.20000803.tif"
       ]
      },
      {
       "output_type": "stream",
       "stream": "stdout",
       "text": [
        "\n",
        "D:\\Data\\gpcp_extent//gpcp_1dd_v1.2_p1d.20000804.tif"
       ]
      },
      {
       "output_type": "stream",
       "stream": "stdout",
       "text": [
        "\n",
        "D:\\Data\\gpcp_extent//gpcp_1dd_v1.2_p1d.20000805.tif"
       ]
      },
      {
       "output_type": "stream",
       "stream": "stdout",
       "text": [
        "\n",
        "D:\\Data\\gpcp_extent//gpcp_1dd_v1.2_p1d.20000806.tif"
       ]
      },
      {
       "output_type": "stream",
       "stream": "stdout",
       "text": [
        "\n",
        "D:\\Data\\gpcp_extent//gpcp_1dd_v1.2_p1d.20000807.tif"
       ]
      },
      {
       "output_type": "stream",
       "stream": "stdout",
       "text": [
        "\n",
        "D:\\Data\\gpcp_extent//gpcp_1dd_v1.2_p1d.20000808.tif"
       ]
      },
      {
       "output_type": "stream",
       "stream": "stdout",
       "text": [
        "\n",
        "D:\\Data\\gpcp_extent//gpcp_1dd_v1.2_p1d.20000809.tif"
       ]
      },
      {
       "output_type": "stream",
       "stream": "stdout",
       "text": [
        "\n",
        "D:\\Data\\gpcp_extent//gpcp_1dd_v1.2_p1d.20000810.tif"
       ]
      },
      {
       "output_type": "stream",
       "stream": "stdout",
       "text": [
        "\n",
        "D:\\Data\\gpcp_extent//gpcp_1dd_v1.2_p1d.20000811.tif"
       ]
      },
      {
       "output_type": "stream",
       "stream": "stdout",
       "text": [
        "\n",
        "D:\\Data\\gpcp_extent//gpcp_1dd_v1.2_p1d.20000812.tif"
       ]
      },
      {
       "output_type": "stream",
       "stream": "stdout",
       "text": [
        "\n",
        "D:\\Data\\gpcp_extent//gpcp_1dd_v1.2_p1d.20000813.tif"
       ]
      },
      {
       "output_type": "stream",
       "stream": "stdout",
       "text": [
        "\n",
        "D:\\Data\\gpcp_extent//gpcp_1dd_v1.2_p1d.20000814.tif"
       ]
      },
      {
       "output_type": "stream",
       "stream": "stdout",
       "text": [
        "\n",
        "D:\\Data\\gpcp_extent//gpcp_1dd_v1.2_p1d.20000815.tif"
       ]
      },
      {
       "output_type": "stream",
       "stream": "stdout",
       "text": [
        "\n",
        "D:\\Data\\gpcp_extent//gpcp_1dd_v1.2_p1d.20000816.tif"
       ]
      },
      {
       "output_type": "stream",
       "stream": "stdout",
       "text": [
        "\n",
        "D:\\Data\\gpcp_extent//gpcp_1dd_v1.2_p1d.20000817.tif"
       ]
      },
      {
       "output_type": "stream",
       "stream": "stdout",
       "text": [
        "\n",
        "D:\\Data\\gpcp_extent//gpcp_1dd_v1.2_p1d.20000818.tif"
       ]
      },
      {
       "output_type": "stream",
       "stream": "stdout",
       "text": [
        "\n",
        "D:\\Data\\gpcp_extent//gpcp_1dd_v1.2_p1d.20000819.tif"
       ]
      },
      {
       "output_type": "stream",
       "stream": "stdout",
       "text": [
        "\n",
        "D:\\Data\\gpcp_extent//gpcp_1dd_v1.2_p1d.20000820.tif"
       ]
      },
      {
       "output_type": "stream",
       "stream": "stdout",
       "text": [
        "\n",
        "D:\\Data\\gpcp_extent//gpcp_1dd_v1.2_p1d.20000821.tif"
       ]
      },
      {
       "output_type": "stream",
       "stream": "stdout",
       "text": [
        "\n",
        "D:\\Data\\gpcp_extent//gpcp_1dd_v1.2_p1d.20000822.tif"
       ]
      },
      {
       "output_type": "stream",
       "stream": "stdout",
       "text": [
        "\n",
        "D:\\Data\\gpcp_extent//gpcp_1dd_v1.2_p1d.20000823.tif"
       ]
      },
      {
       "output_type": "stream",
       "stream": "stdout",
       "text": [
        "\n",
        "D:\\Data\\gpcp_extent//gpcp_1dd_v1.2_p1d.20000824.tif"
       ]
      },
      {
       "output_type": "stream",
       "stream": "stdout",
       "text": [
        "\n",
        "D:\\Data\\gpcp_extent//gpcp_1dd_v1.2_p1d.20000825.tif"
       ]
      },
      {
       "output_type": "stream",
       "stream": "stdout",
       "text": [
        "\n",
        "D:\\Data\\gpcp_extent//gpcp_1dd_v1.2_p1d.20000826.tif"
       ]
      },
      {
       "output_type": "stream",
       "stream": "stdout",
       "text": [
        "\n",
        "D:\\Data\\gpcp_extent//gpcp_1dd_v1.2_p1d.20000827.tif"
       ]
      },
      {
       "output_type": "stream",
       "stream": "stdout",
       "text": [
        "\n",
        "D:\\Data\\gpcp_extent//gpcp_1dd_v1.2_p1d.20000828.tif"
       ]
      },
      {
       "output_type": "stream",
       "stream": "stdout",
       "text": [
        "\n",
        "D:\\Data\\gpcp_extent//gpcp_1dd_v1.2_p1d.20000829.tif"
       ]
      },
      {
       "output_type": "stream",
       "stream": "stdout",
       "text": [
        "\n",
        "D:\\Data\\gpcp_extent//gpcp_1dd_v1.2_p1d.20000830.tif"
       ]
      },
      {
       "output_type": "stream",
       "stream": "stdout",
       "text": [
        "\n",
        "D:\\Data\\gpcp_extent//gpcp_1dd_v1.2_p1d.20000900.tif"
       ]
      },
      {
       "output_type": "stream",
       "stream": "stdout",
       "text": [
        "\n",
        "D:\\Data\\gpcp_extent//gpcp_1dd_v1.2_p1d.20000901.tif"
       ]
      },
      {
       "output_type": "stream",
       "stream": "stdout",
       "text": [
        "\n",
        "D:\\Data\\gpcp_extent//gpcp_1dd_v1.2_p1d.20000902.tif"
       ]
      },
      {
       "output_type": "stream",
       "stream": "stdout",
       "text": [
        "\n",
        "D:\\Data\\gpcp_extent//gpcp_1dd_v1.2_p1d.20000903.tif"
       ]
      },
      {
       "output_type": "stream",
       "stream": "stdout",
       "text": [
        "\n",
        "D:\\Data\\gpcp_extent//gpcp_1dd_v1.2_p1d.20000904.tif"
       ]
      },
      {
       "output_type": "stream",
       "stream": "stdout",
       "text": [
        "\n",
        "D:\\Data\\gpcp_extent//gpcp_1dd_v1.2_p1d.20000905.tif"
       ]
      },
      {
       "output_type": "stream",
       "stream": "stdout",
       "text": [
        "\n",
        "D:\\Data\\gpcp_extent//gpcp_1dd_v1.2_p1d.20000906.tif"
       ]
      },
      {
       "output_type": "stream",
       "stream": "stdout",
       "text": [
        "\n",
        "D:\\Data\\gpcp_extent//gpcp_1dd_v1.2_p1d.20000907.tif"
       ]
      },
      {
       "output_type": "stream",
       "stream": "stdout",
       "text": [
        "\n",
        "D:\\Data\\gpcp_extent//gpcp_1dd_v1.2_p1d.20000908.tif"
       ]
      },
      {
       "output_type": "stream",
       "stream": "stdout",
       "text": [
        "\n",
        "D:\\Data\\gpcp_extent//gpcp_1dd_v1.2_p1d.20000909.tif"
       ]
      },
      {
       "output_type": "stream",
       "stream": "stdout",
       "text": [
        "\n",
        "D:\\Data\\gpcp_extent//gpcp_1dd_v1.2_p1d.20000910.tif"
       ]
      },
      {
       "output_type": "stream",
       "stream": "stdout",
       "text": [
        "\n",
        "D:\\Data\\gpcp_extent//gpcp_1dd_v1.2_p1d.20000911.tif"
       ]
      },
      {
       "output_type": "stream",
       "stream": "stdout",
       "text": [
        "\n",
        "D:\\Data\\gpcp_extent//gpcp_1dd_v1.2_p1d.20000912.tif"
       ]
      },
      {
       "output_type": "stream",
       "stream": "stdout",
       "text": [
        "\n",
        "D:\\Data\\gpcp_extent//gpcp_1dd_v1.2_p1d.20000913.tif"
       ]
      },
      {
       "output_type": "stream",
       "stream": "stdout",
       "text": [
        "\n",
        "D:\\Data\\gpcp_extent//gpcp_1dd_v1.2_p1d.20000914.tif"
       ]
      },
      {
       "output_type": "stream",
       "stream": "stdout",
       "text": [
        "\n",
        "D:\\Data\\gpcp_extent//gpcp_1dd_v1.2_p1d.20000915.tif"
       ]
      },
      {
       "output_type": "stream",
       "stream": "stdout",
       "text": [
        "\n",
        "D:\\Data\\gpcp_extent//gpcp_1dd_v1.2_p1d.20000916.tif"
       ]
      },
      {
       "output_type": "stream",
       "stream": "stdout",
       "text": [
        "\n",
        "D:\\Data\\gpcp_extent//gpcp_1dd_v1.2_p1d.20000917.tif"
       ]
      },
      {
       "output_type": "stream",
       "stream": "stdout",
       "text": [
        "\n",
        "D:\\Data\\gpcp_extent//gpcp_1dd_v1.2_p1d.20000918.tif"
       ]
      },
      {
       "output_type": "stream",
       "stream": "stdout",
       "text": [
        "\n",
        "D:\\Data\\gpcp_extent//gpcp_1dd_v1.2_p1d.20000919.tif"
       ]
      },
      {
       "output_type": "stream",
       "stream": "stdout",
       "text": [
        "\n",
        "D:\\Data\\gpcp_extent//gpcp_1dd_v1.2_p1d.20000920.tif"
       ]
      },
      {
       "output_type": "stream",
       "stream": "stdout",
       "text": [
        "\n",
        "D:\\Data\\gpcp_extent//gpcp_1dd_v1.2_p1d.20000921.tif"
       ]
      },
      {
       "output_type": "stream",
       "stream": "stdout",
       "text": [
        "\n",
        "D:\\Data\\gpcp_extent//gpcp_1dd_v1.2_p1d.20000922.tif"
       ]
      },
      {
       "output_type": "stream",
       "stream": "stdout",
       "text": [
        "\n",
        "D:\\Data\\gpcp_extent//gpcp_1dd_v1.2_p1d.20000923.tif"
       ]
      },
      {
       "output_type": "stream",
       "stream": "stdout",
       "text": [
        "\n",
        "D:\\Data\\gpcp_extent//gpcp_1dd_v1.2_p1d.20000924.tif"
       ]
      },
      {
       "output_type": "stream",
       "stream": "stdout",
       "text": [
        "\n",
        "D:\\Data\\gpcp_extent//gpcp_1dd_v1.2_p1d.20000925.tif"
       ]
      },
      {
       "output_type": "stream",
       "stream": "stdout",
       "text": [
        "\n",
        "D:\\Data\\gpcp_extent//gpcp_1dd_v1.2_p1d.20000926.tif"
       ]
      },
      {
       "output_type": "stream",
       "stream": "stdout",
       "text": [
        "\n",
        "D:\\Data\\gpcp_extent//gpcp_1dd_v1.2_p1d.20000927.tif"
       ]
      },
      {
       "output_type": "stream",
       "stream": "stdout",
       "text": [
        "\n",
        "D:\\Data\\gpcp_extent//gpcp_1dd_v1.2_p1d.20000928.tif"
       ]
      },
      {
       "output_type": "stream",
       "stream": "stdout",
       "text": [
        "\n",
        "D:\\Data\\gpcp_extent//gpcp_1dd_v1.2_p1d.20000929.tif"
       ]
      },
      {
       "output_type": "stream",
       "stream": "stdout",
       "text": [
        "\n",
        "D:\\Data\\gpcp_extent//gpcp_1dd_v1.2_p1d.20001000.tif"
       ]
      },
      {
       "output_type": "stream",
       "stream": "stdout",
       "text": [
        "\n",
        "D:\\Data\\gpcp_extent//gpcp_1dd_v1.2_p1d.20001001.tif"
       ]
      },
      {
       "output_type": "stream",
       "stream": "stdout",
       "text": [
        "\n",
        "D:\\Data\\gpcp_extent//gpcp_1dd_v1.2_p1d.20001002.tif"
       ]
      },
      {
       "output_type": "stream",
       "stream": "stdout",
       "text": [
        "\n",
        "D:\\Data\\gpcp_extent//gpcp_1dd_v1.2_p1d.20001003.tif"
       ]
      },
      {
       "output_type": "stream",
       "stream": "stdout",
       "text": [
        "\n",
        "D:\\Data\\gpcp_extent//gpcp_1dd_v1.2_p1d.20001004.tif"
       ]
      },
      {
       "output_type": "stream",
       "stream": "stdout",
       "text": [
        "\n",
        "D:\\Data\\gpcp_extent//gpcp_1dd_v1.2_p1d.20001005.tif"
       ]
      },
      {
       "output_type": "stream",
       "stream": "stdout",
       "text": [
        "\n",
        "D:\\Data\\gpcp_extent//gpcp_1dd_v1.2_p1d.20001006.tif"
       ]
      },
      {
       "output_type": "stream",
       "stream": "stdout",
       "text": [
        "\n",
        "D:\\Data\\gpcp_extent//gpcp_1dd_v1.2_p1d.20001007.tif"
       ]
      },
      {
       "output_type": "stream",
       "stream": "stdout",
       "text": [
        "\n",
        "D:\\Data\\gpcp_extent//gpcp_1dd_v1.2_p1d.20001008.tif"
       ]
      },
      {
       "output_type": "stream",
       "stream": "stdout",
       "text": [
        "\n",
        "D:\\Data\\gpcp_extent//gpcp_1dd_v1.2_p1d.20001009.tif"
       ]
      },
      {
       "output_type": "stream",
       "stream": "stdout",
       "text": [
        "\n",
        "D:\\Data\\gpcp_extent//gpcp_1dd_v1.2_p1d.20001010.tif"
       ]
      },
      {
       "output_type": "stream",
       "stream": "stdout",
       "text": [
        "\n",
        "D:\\Data\\gpcp_extent//gpcp_1dd_v1.2_p1d.20001011.tif"
       ]
      },
      {
       "output_type": "stream",
       "stream": "stdout",
       "text": [
        "\n",
        "D:\\Data\\gpcp_extent//gpcp_1dd_v1.2_p1d.20001012.tif"
       ]
      },
      {
       "output_type": "stream",
       "stream": "stdout",
       "text": [
        "\n",
        "D:\\Data\\gpcp_extent//gpcp_1dd_v1.2_p1d.20001013.tif"
       ]
      },
      {
       "output_type": "stream",
       "stream": "stdout",
       "text": [
        "\n",
        "D:\\Data\\gpcp_extent//gpcp_1dd_v1.2_p1d.20001014.tif"
       ]
      },
      {
       "output_type": "stream",
       "stream": "stdout",
       "text": [
        "\n",
        "D:\\Data\\gpcp_extent//gpcp_1dd_v1.2_p1d.20001015.tif"
       ]
      },
      {
       "output_type": "stream",
       "stream": "stdout",
       "text": [
        "\n",
        "D:\\Data\\gpcp_extent//gpcp_1dd_v1.2_p1d.20001016.tif"
       ]
      },
      {
       "output_type": "stream",
       "stream": "stdout",
       "text": [
        "\n",
        "D:\\Data\\gpcp_extent//gpcp_1dd_v1.2_p1d.20001017.tif"
       ]
      },
      {
       "output_type": "stream",
       "stream": "stdout",
       "text": [
        "\n",
        "D:\\Data\\gpcp_extent//gpcp_1dd_v1.2_p1d.20001018.tif"
       ]
      },
      {
       "output_type": "stream",
       "stream": "stdout",
       "text": [
        "\n",
        "D:\\Data\\gpcp_extent//gpcp_1dd_v1.2_p1d.20001019.tif"
       ]
      },
      {
       "output_type": "stream",
       "stream": "stdout",
       "text": [
        "\n",
        "D:\\Data\\gpcp_extent//gpcp_1dd_v1.2_p1d.20001020.tif"
       ]
      },
      {
       "output_type": "stream",
       "stream": "stdout",
       "text": [
        "\n",
        "D:\\Data\\gpcp_extent//gpcp_1dd_v1.2_p1d.20001021.tif"
       ]
      },
      {
       "output_type": "stream",
       "stream": "stdout",
       "text": [
        "\n",
        "D:\\Data\\gpcp_extent//gpcp_1dd_v1.2_p1d.20001022.tif"
       ]
      },
      {
       "output_type": "stream",
       "stream": "stdout",
       "text": [
        "\n",
        "D:\\Data\\gpcp_extent//gpcp_1dd_v1.2_p1d.20001023.tif"
       ]
      },
      {
       "output_type": "stream",
       "stream": "stdout",
       "text": [
        "\n",
        "D:\\Data\\gpcp_extent//gpcp_1dd_v1.2_p1d.20001024.tif"
       ]
      },
      {
       "output_type": "stream",
       "stream": "stdout",
       "text": [
        "\n",
        "D:\\Data\\gpcp_extent//gpcp_1dd_v1.2_p1d.20001025.tif"
       ]
      },
      {
       "output_type": "stream",
       "stream": "stdout",
       "text": [
        "\n",
        "D:\\Data\\gpcp_extent//gpcp_1dd_v1.2_p1d.20001026.tif"
       ]
      },
      {
       "output_type": "stream",
       "stream": "stdout",
       "text": [
        "\n",
        "D:\\Data\\gpcp_extent//gpcp_1dd_v1.2_p1d.20001027.tif"
       ]
      },
      {
       "output_type": "stream",
       "stream": "stdout",
       "text": [
        "\n",
        "D:\\Data\\gpcp_extent//gpcp_1dd_v1.2_p1d.20001028.tif"
       ]
      },
      {
       "output_type": "stream",
       "stream": "stdout",
       "text": [
        "\n",
        "D:\\Data\\gpcp_extent//gpcp_1dd_v1.2_p1d.20001029.tif"
       ]
      },
      {
       "output_type": "stream",
       "stream": "stdout",
       "text": [
        "\n",
        "D:\\Data\\gpcp_extent//gpcp_1dd_v1.2_p1d.20001030.tif"
       ]
      },
      {
       "output_type": "stream",
       "stream": "stdout",
       "text": [
        "\n",
        "D:\\Data\\gpcp_extent//gpcp_1dd_v1.2_p1d.20001100.tif"
       ]
      },
      {
       "output_type": "stream",
       "stream": "stdout",
       "text": [
        "\n",
        "D:\\Data\\gpcp_extent//gpcp_1dd_v1.2_p1d.20001101.tif"
       ]
      },
      {
       "output_type": "stream",
       "stream": "stdout",
       "text": [
        "\n",
        "D:\\Data\\gpcp_extent//gpcp_1dd_v1.2_p1d.20001102.tif"
       ]
      },
      {
       "output_type": "stream",
       "stream": "stdout",
       "text": [
        "\n",
        "D:\\Data\\gpcp_extent//gpcp_1dd_v1.2_p1d.20001103.tif"
       ]
      },
      {
       "output_type": "stream",
       "stream": "stdout",
       "text": [
        "\n",
        "D:\\Data\\gpcp_extent//gpcp_1dd_v1.2_p1d.20001104.tif"
       ]
      },
      {
       "output_type": "stream",
       "stream": "stdout",
       "text": [
        "\n",
        "D:\\Data\\gpcp_extent//gpcp_1dd_v1.2_p1d.20001105.tif"
       ]
      },
      {
       "output_type": "stream",
       "stream": "stdout",
       "text": [
        "\n",
        "D:\\Data\\gpcp_extent//gpcp_1dd_v1.2_p1d.20001106.tif"
       ]
      },
      {
       "output_type": "stream",
       "stream": "stdout",
       "text": [
        "\n",
        "D:\\Data\\gpcp_extent//gpcp_1dd_v1.2_p1d.20001107.tif"
       ]
      },
      {
       "output_type": "stream",
       "stream": "stdout",
       "text": [
        "\n",
        "D:\\Data\\gpcp_extent//gpcp_1dd_v1.2_p1d.20001108.tif"
       ]
      },
      {
       "output_type": "stream",
       "stream": "stdout",
       "text": [
        "\n",
        "D:\\Data\\gpcp_extent//gpcp_1dd_v1.2_p1d.20001109.tif"
       ]
      },
      {
       "output_type": "stream",
       "stream": "stdout",
       "text": [
        "\n",
        "D:\\Data\\gpcp_extent//gpcp_1dd_v1.2_p1d.20001110.tif"
       ]
      },
      {
       "output_type": "stream",
       "stream": "stdout",
       "text": [
        "\n",
        "D:\\Data\\gpcp_extent//gpcp_1dd_v1.2_p1d.20001111.tif"
       ]
      },
      {
       "output_type": "stream",
       "stream": "stdout",
       "text": [
        "\n",
        "D:\\Data\\gpcp_extent//gpcp_1dd_v1.2_p1d.20001112.tif"
       ]
      },
      {
       "output_type": "stream",
       "stream": "stdout",
       "text": [
        "\n",
        "D:\\Data\\gpcp_extent//gpcp_1dd_v1.2_p1d.20001113.tif"
       ]
      },
      {
       "output_type": "stream",
       "stream": "stdout",
       "text": [
        "\n",
        "D:\\Data\\gpcp_extent//gpcp_1dd_v1.2_p1d.20001114.tif"
       ]
      },
      {
       "output_type": "stream",
       "stream": "stdout",
       "text": [
        "\n",
        "D:\\Data\\gpcp_extent//gpcp_1dd_v1.2_p1d.20001115.tif"
       ]
      },
      {
       "output_type": "stream",
       "stream": "stdout",
       "text": [
        "\n",
        "D:\\Data\\gpcp_extent//gpcp_1dd_v1.2_p1d.20001116.tif"
       ]
      },
      {
       "output_type": "stream",
       "stream": "stdout",
       "text": [
        "\n",
        "D:\\Data\\gpcp_extent//gpcp_1dd_v1.2_p1d.20001117.tif"
       ]
      },
      {
       "output_type": "stream",
       "stream": "stdout",
       "text": [
        "\n",
        "D:\\Data\\gpcp_extent//gpcp_1dd_v1.2_p1d.20001118.tif"
       ]
      },
      {
       "output_type": "stream",
       "stream": "stdout",
       "text": [
        "\n",
        "D:\\Data\\gpcp_extent//gpcp_1dd_v1.2_p1d.20001119.tif"
       ]
      },
      {
       "output_type": "stream",
       "stream": "stdout",
       "text": [
        "\n",
        "D:\\Data\\gpcp_extent//gpcp_1dd_v1.2_p1d.20001120.tif"
       ]
      },
      {
       "output_type": "stream",
       "stream": "stdout",
       "text": [
        "\n",
        "D:\\Data\\gpcp_extent//gpcp_1dd_v1.2_p1d.20001121.tif"
       ]
      },
      {
       "output_type": "stream",
       "stream": "stdout",
       "text": [
        "\n",
        "D:\\Data\\gpcp_extent//gpcp_1dd_v1.2_p1d.20001122.tif"
       ]
      },
      {
       "output_type": "stream",
       "stream": "stdout",
       "text": [
        "\n",
        "D:\\Data\\gpcp_extent//gpcp_1dd_v1.2_p1d.20001123.tif"
       ]
      },
      {
       "output_type": "stream",
       "stream": "stdout",
       "text": [
        "\n",
        "D:\\Data\\gpcp_extent//gpcp_1dd_v1.2_p1d.20001124.tif"
       ]
      },
      {
       "output_type": "stream",
       "stream": "stdout",
       "text": [
        "\n",
        "D:\\Data\\gpcp_extent//gpcp_1dd_v1.2_p1d.20001125.tif"
       ]
      },
      {
       "output_type": "stream",
       "stream": "stdout",
       "text": [
        "\n",
        "D:\\Data\\gpcp_extent//gpcp_1dd_v1.2_p1d.20001126.tif"
       ]
      },
      {
       "output_type": "stream",
       "stream": "stdout",
       "text": [
        "\n",
        "D:\\Data\\gpcp_extent//gpcp_1dd_v1.2_p1d.20001127.tif"
       ]
      },
      {
       "output_type": "stream",
       "stream": "stdout",
       "text": [
        "\n",
        "D:\\Data\\gpcp_extent//gpcp_1dd_v1.2_p1d.20001128.tif"
       ]
      },
      {
       "output_type": "stream",
       "stream": "stdout",
       "text": [
        "\n",
        "D:\\Data\\gpcp_extent//gpcp_1dd_v1.2_p1d.20001129.tif"
       ]
      },
      {
       "output_type": "stream",
       "stream": "stdout",
       "text": [
        "\n",
        "D:\\Data\\gpcp_extent//gpcp_1dd_v1.2_p1d.20001200.tif"
       ]
      },
      {
       "output_type": "stream",
       "stream": "stdout",
       "text": [
        "\n",
        "D:\\Data\\gpcp_extent//gpcp_1dd_v1.2_p1d.20001201.tif"
       ]
      },
      {
       "output_type": "stream",
       "stream": "stdout",
       "text": [
        "\n",
        "D:\\Data\\gpcp_extent//gpcp_1dd_v1.2_p1d.20001202.tif"
       ]
      },
      {
       "output_type": "stream",
       "stream": "stdout",
       "text": [
        "\n",
        "D:\\Data\\gpcp_extent//gpcp_1dd_v1.2_p1d.20001203.tif"
       ]
      },
      {
       "output_type": "stream",
       "stream": "stdout",
       "text": [
        "\n",
        "D:\\Data\\gpcp_extent//gpcp_1dd_v1.2_p1d.20001204.tif"
       ]
      },
      {
       "output_type": "stream",
       "stream": "stdout",
       "text": [
        "\n",
        "D:\\Data\\gpcp_extent//gpcp_1dd_v1.2_p1d.20001205.tif"
       ]
      },
      {
       "output_type": "stream",
       "stream": "stdout",
       "text": [
        "\n",
        "D:\\Data\\gpcp_extent//gpcp_1dd_v1.2_p1d.20001206.tif"
       ]
      },
      {
       "output_type": "stream",
       "stream": "stdout",
       "text": [
        "\n",
        "D:\\Data\\gpcp_extent//gpcp_1dd_v1.2_p1d.20001207.tif"
       ]
      },
      {
       "output_type": "stream",
       "stream": "stdout",
       "text": [
        "\n",
        "D:\\Data\\gpcp_extent//gpcp_1dd_v1.2_p1d.20001208.tif"
       ]
      },
      {
       "output_type": "stream",
       "stream": "stdout",
       "text": [
        "\n",
        "D:\\Data\\gpcp_extent//gpcp_1dd_v1.2_p1d.20001209.tif"
       ]
      },
      {
       "output_type": "stream",
       "stream": "stdout",
       "text": [
        "\n",
        "D:\\Data\\gpcp_extent//gpcp_1dd_v1.2_p1d.20001210.tif"
       ]
      },
      {
       "output_type": "stream",
       "stream": "stdout",
       "text": [
        "\n",
        "D:\\Data\\gpcp_extent//gpcp_1dd_v1.2_p1d.20001211.tif"
       ]
      },
      {
       "output_type": "stream",
       "stream": "stdout",
       "text": [
        "\n",
        "D:\\Data\\gpcp_extent//gpcp_1dd_v1.2_p1d.20001212.tif"
       ]
      },
      {
       "output_type": "stream",
       "stream": "stdout",
       "text": [
        "\n",
        "D:\\Data\\gpcp_extent//gpcp_1dd_v1.2_p1d.20001213.tif"
       ]
      },
      {
       "output_type": "stream",
       "stream": "stdout",
       "text": [
        "\n",
        "D:\\Data\\gpcp_extent//gpcp_1dd_v1.2_p1d.20001214.tif"
       ]
      },
      {
       "output_type": "stream",
       "stream": "stdout",
       "text": [
        "\n",
        "D:\\Data\\gpcp_extent//gpcp_1dd_v1.2_p1d.20001215.tif"
       ]
      },
      {
       "output_type": "stream",
       "stream": "stdout",
       "text": [
        "\n",
        "D:\\Data\\gpcp_extent//gpcp_1dd_v1.2_p1d.20001216.tif"
       ]
      },
      {
       "output_type": "stream",
       "stream": "stdout",
       "text": [
        "\n",
        "D:\\Data\\gpcp_extent//gpcp_1dd_v1.2_p1d.20001217.tif"
       ]
      },
      {
       "output_type": "stream",
       "stream": "stdout",
       "text": [
        "\n",
        "D:\\Data\\gpcp_extent//gpcp_1dd_v1.2_p1d.20001218.tif"
       ]
      },
      {
       "output_type": "stream",
       "stream": "stdout",
       "text": [
        "\n",
        "D:\\Data\\gpcp_extent//gpcp_1dd_v1.2_p1d.20001219.tif"
       ]
      },
      {
       "output_type": "stream",
       "stream": "stdout",
       "text": [
        "\n",
        "D:\\Data\\gpcp_extent//gpcp_1dd_v1.2_p1d.20001220.tif"
       ]
      },
      {
       "output_type": "stream",
       "stream": "stdout",
       "text": [
        "\n",
        "D:\\Data\\gpcp_extent//gpcp_1dd_v1.2_p1d.20001221.tif"
       ]
      },
      {
       "output_type": "stream",
       "stream": "stdout",
       "text": [
        "\n",
        "D:\\Data\\gpcp_extent//gpcp_1dd_v1.2_p1d.20001222.tif"
       ]
      },
      {
       "output_type": "stream",
       "stream": "stdout",
       "text": [
        "\n",
        "D:\\Data\\gpcp_extent//gpcp_1dd_v1.2_p1d.20001223.tif"
       ]
      },
      {
       "output_type": "stream",
       "stream": "stdout",
       "text": [
        "\n",
        "D:\\Data\\gpcp_extent//gpcp_1dd_v1.2_p1d.20001224.tif"
       ]
      },
      {
       "output_type": "stream",
       "stream": "stdout",
       "text": [
        "\n",
        "D:\\Data\\gpcp_extent//gpcp_1dd_v1.2_p1d.20001225.tif"
       ]
      },
      {
       "output_type": "stream",
       "stream": "stdout",
       "text": [
        "\n",
        "D:\\Data\\gpcp_extent//gpcp_1dd_v1.2_p1d.20001226.tif"
       ]
      },
      {
       "output_type": "stream",
       "stream": "stdout",
       "text": [
        "\n",
        "D:\\Data\\gpcp_extent//gpcp_1dd_v1.2_p1d.20001227.tif"
       ]
      },
      {
       "output_type": "stream",
       "stream": "stdout",
       "text": [
        "\n",
        "D:\\Data\\gpcp_extent//gpcp_1dd_v1.2_p1d.20001228.tif"
       ]
      },
      {
       "output_type": "stream",
       "stream": "stdout",
       "text": [
        "\n",
        "D:\\Data\\gpcp_extent//gpcp_1dd_v1.2_p1d.20001229.tif"
       ]
      },
      {
       "output_type": "stream",
       "stream": "stdout",
       "text": [
        "\n",
        "D:\\Data\\gpcp_extent//gpcp_1dd_v1.2_p1d.20001230.tif"
       ]
      },
      {
       "output_type": "stream",
       "stream": "stdout",
       "text": [
        "\n",
        "D:\\Data\\gpcp_extent//gpcp_1dd_v1.2_p1d.20010100.tif"
       ]
      },
      {
       "output_type": "stream",
       "stream": "stdout",
       "text": [
        "\n",
        "D:\\Data\\gpcp_extent//gpcp_1dd_v1.2_p1d.20010101.tif"
       ]
      },
      {
       "output_type": "stream",
       "stream": "stdout",
       "text": [
        "\n",
        "D:\\Data\\gpcp_extent//gpcp_1dd_v1.2_p1d.20010102.tif"
       ]
      },
      {
       "output_type": "stream",
       "stream": "stdout",
       "text": [
        "\n",
        "D:\\Data\\gpcp_extent//gpcp_1dd_v1.2_p1d.20010103.tif"
       ]
      },
      {
       "output_type": "stream",
       "stream": "stdout",
       "text": [
        "\n",
        "D:\\Data\\gpcp_extent//gpcp_1dd_v1.2_p1d.20010104.tif"
       ]
      },
      {
       "output_type": "stream",
       "stream": "stdout",
       "text": [
        "\n",
        "D:\\Data\\gpcp_extent//gpcp_1dd_v1.2_p1d.20010105.tif"
       ]
      },
      {
       "output_type": "stream",
       "stream": "stdout",
       "text": [
        "\n",
        "D:\\Data\\gpcp_extent//gpcp_1dd_v1.2_p1d.20010106.tif"
       ]
      },
      {
       "output_type": "stream",
       "stream": "stdout",
       "text": [
        "\n",
        "D:\\Data\\gpcp_extent//gpcp_1dd_v1.2_p1d.20010107.tif"
       ]
      },
      {
       "output_type": "stream",
       "stream": "stdout",
       "text": [
        "\n",
        "D:\\Data\\gpcp_extent//gpcp_1dd_v1.2_p1d.20010108.tif"
       ]
      },
      {
       "output_type": "stream",
       "stream": "stdout",
       "text": [
        "\n",
        "D:\\Data\\gpcp_extent//gpcp_1dd_v1.2_p1d.20010109.tif"
       ]
      },
      {
       "output_type": "stream",
       "stream": "stdout",
       "text": [
        "\n",
        "D:\\Data\\gpcp_extent//gpcp_1dd_v1.2_p1d.20010110.tif"
       ]
      },
      {
       "output_type": "stream",
       "stream": "stdout",
       "text": [
        "\n",
        "D:\\Data\\gpcp_extent//gpcp_1dd_v1.2_p1d.20010111.tif"
       ]
      },
      {
       "output_type": "stream",
       "stream": "stdout",
       "text": [
        "\n",
        "D:\\Data\\gpcp_extent//gpcp_1dd_v1.2_p1d.20010112.tif"
       ]
      },
      {
       "output_type": "stream",
       "stream": "stdout",
       "text": [
        "\n",
        "D:\\Data\\gpcp_extent//gpcp_1dd_v1.2_p1d.20010113.tif"
       ]
      },
      {
       "output_type": "stream",
       "stream": "stdout",
       "text": [
        "\n",
        "D:\\Data\\gpcp_extent//gpcp_1dd_v1.2_p1d.20010114.tif"
       ]
      },
      {
       "output_type": "stream",
       "stream": "stdout",
       "text": [
        "\n",
        "D:\\Data\\gpcp_extent//gpcp_1dd_v1.2_p1d.20010115.tif"
       ]
      },
      {
       "output_type": "stream",
       "stream": "stdout",
       "text": [
        "\n",
        "D:\\Data\\gpcp_extent//gpcp_1dd_v1.2_p1d.20010116.tif"
       ]
      },
      {
       "output_type": "stream",
       "stream": "stdout",
       "text": [
        "\n",
        "D:\\Data\\gpcp_extent//gpcp_1dd_v1.2_p1d.20010117.tif"
       ]
      },
      {
       "output_type": "stream",
       "stream": "stdout",
       "text": [
        "\n",
        "D:\\Data\\gpcp_extent//gpcp_1dd_v1.2_p1d.20010118.tif"
       ]
      },
      {
       "output_type": "stream",
       "stream": "stdout",
       "text": [
        "\n",
        "D:\\Data\\gpcp_extent//gpcp_1dd_v1.2_p1d.20010119.tif"
       ]
      },
      {
       "output_type": "stream",
       "stream": "stdout",
       "text": [
        "\n",
        "D:\\Data\\gpcp_extent//gpcp_1dd_v1.2_p1d.20010120.tif"
       ]
      },
      {
       "output_type": "stream",
       "stream": "stdout",
       "text": [
        "\n",
        "D:\\Data\\gpcp_extent//gpcp_1dd_v1.2_p1d.20010121.tif"
       ]
      },
      {
       "output_type": "stream",
       "stream": "stdout",
       "text": [
        "\n",
        "D:\\Data\\gpcp_extent//gpcp_1dd_v1.2_p1d.20010122.tif"
       ]
      },
      {
       "output_type": "stream",
       "stream": "stdout",
       "text": [
        "\n",
        "D:\\Data\\gpcp_extent//gpcp_1dd_v1.2_p1d.20010123.tif"
       ]
      },
      {
       "output_type": "stream",
       "stream": "stdout",
       "text": [
        "\n",
        "D:\\Data\\gpcp_extent//gpcp_1dd_v1.2_p1d.20010124.tif"
       ]
      },
      {
       "output_type": "stream",
       "stream": "stdout",
       "text": [
        "\n",
        "D:\\Data\\gpcp_extent//gpcp_1dd_v1.2_p1d.20010125.tif"
       ]
      },
      {
       "output_type": "stream",
       "stream": "stdout",
       "text": [
        "\n",
        "D:\\Data\\gpcp_extent//gpcp_1dd_v1.2_p1d.20010126.tif"
       ]
      },
      {
       "output_type": "stream",
       "stream": "stdout",
       "text": [
        "\n",
        "D:\\Data\\gpcp_extent//gpcp_1dd_v1.2_p1d.20010127.tif"
       ]
      },
      {
       "output_type": "stream",
       "stream": "stdout",
       "text": [
        "\n",
        "D:\\Data\\gpcp_extent//gpcp_1dd_v1.2_p1d.20010128.tif"
       ]
      },
      {
       "output_type": "stream",
       "stream": "stdout",
       "text": [
        "\n",
        "D:\\Data\\gpcp_extent//gpcp_1dd_v1.2_p1d.20010129.tif"
       ]
      },
      {
       "output_type": "stream",
       "stream": "stdout",
       "text": [
        "\n",
        "D:\\Data\\gpcp_extent//gpcp_1dd_v1.2_p1d.20010130.tif"
       ]
      },
      {
       "output_type": "stream",
       "stream": "stdout",
       "text": [
        "\n",
        "D:\\Data\\gpcp_extent//gpcp_1dd_v1.2_p1d.20010200.tif"
       ]
      },
      {
       "output_type": "stream",
       "stream": "stdout",
       "text": [
        "\n",
        "D:\\Data\\gpcp_extent//gpcp_1dd_v1.2_p1d.20010201.tif"
       ]
      },
      {
       "output_type": "stream",
       "stream": "stdout",
       "text": [
        "\n",
        "D:\\Data\\gpcp_extent//gpcp_1dd_v1.2_p1d.20010202.tif"
       ]
      },
      {
       "output_type": "stream",
       "stream": "stdout",
       "text": [
        "\n",
        "D:\\Data\\gpcp_extent//gpcp_1dd_v1.2_p1d.20010203.tif"
       ]
      },
      {
       "output_type": "stream",
       "stream": "stdout",
       "text": [
        "\n",
        "D:\\Data\\gpcp_extent//gpcp_1dd_v1.2_p1d.20010204.tif"
       ]
      },
      {
       "output_type": "stream",
       "stream": "stdout",
       "text": [
        "\n",
        "D:\\Data\\gpcp_extent//gpcp_1dd_v1.2_p1d.20010205.tif"
       ]
      },
      {
       "output_type": "stream",
       "stream": "stdout",
       "text": [
        "\n",
        "D:\\Data\\gpcp_extent//gpcp_1dd_v1.2_p1d.20010206.tif"
       ]
      },
      {
       "output_type": "stream",
       "stream": "stdout",
       "text": [
        "\n",
        "D:\\Data\\gpcp_extent//gpcp_1dd_v1.2_p1d.20010207.tif"
       ]
      },
      {
       "output_type": "stream",
       "stream": "stdout",
       "text": [
        "\n",
        "D:\\Data\\gpcp_extent//gpcp_1dd_v1.2_p1d.20010208.tif"
       ]
      },
      {
       "output_type": "stream",
       "stream": "stdout",
       "text": [
        "\n",
        "D:\\Data\\gpcp_extent//gpcp_1dd_v1.2_p1d.20010209.tif"
       ]
      },
      {
       "output_type": "stream",
       "stream": "stdout",
       "text": [
        "\n",
        "D:\\Data\\gpcp_extent//gpcp_1dd_v1.2_p1d.20010210.tif"
       ]
      },
      {
       "output_type": "stream",
       "stream": "stdout",
       "text": [
        "\n",
        "D:\\Data\\gpcp_extent//gpcp_1dd_v1.2_p1d.20010211.tif"
       ]
      },
      {
       "output_type": "stream",
       "stream": "stdout",
       "text": [
        "\n",
        "D:\\Data\\gpcp_extent//gpcp_1dd_v1.2_p1d.20010212.tif"
       ]
      },
      {
       "output_type": "stream",
       "stream": "stdout",
       "text": [
        "\n",
        "D:\\Data\\gpcp_extent//gpcp_1dd_v1.2_p1d.20010213.tif"
       ]
      },
      {
       "output_type": "stream",
       "stream": "stdout",
       "text": [
        "\n",
        "D:\\Data\\gpcp_extent//gpcp_1dd_v1.2_p1d.20010214.tif"
       ]
      },
      {
       "output_type": "stream",
       "stream": "stdout",
       "text": [
        "\n",
        "D:\\Data\\gpcp_extent//gpcp_1dd_v1.2_p1d.20010215.tif"
       ]
      },
      {
       "output_type": "stream",
       "stream": "stdout",
       "text": [
        "\n",
        "D:\\Data\\gpcp_extent//gpcp_1dd_v1.2_p1d.20010216.tif"
       ]
      },
      {
       "output_type": "stream",
       "stream": "stdout",
       "text": [
        "\n",
        "D:\\Data\\gpcp_extent//gpcp_1dd_v1.2_p1d.20010217.tif"
       ]
      },
      {
       "output_type": "stream",
       "stream": "stdout",
       "text": [
        "\n",
        "D:\\Data\\gpcp_extent//gpcp_1dd_v1.2_p1d.20010218.tif"
       ]
      },
      {
       "output_type": "stream",
       "stream": "stdout",
       "text": [
        "\n",
        "D:\\Data\\gpcp_extent//gpcp_1dd_v1.2_p1d.20010219.tif"
       ]
      },
      {
       "output_type": "stream",
       "stream": "stdout",
       "text": [
        "\n",
        "D:\\Data\\gpcp_extent//gpcp_1dd_v1.2_p1d.20010220.tif"
       ]
      },
      {
       "output_type": "stream",
       "stream": "stdout",
       "text": [
        "\n",
        "D:\\Data\\gpcp_extent//gpcp_1dd_v1.2_p1d.20010221.tif"
       ]
      },
      {
       "output_type": "stream",
       "stream": "stdout",
       "text": [
        "\n",
        "D:\\Data\\gpcp_extent//gpcp_1dd_v1.2_p1d.20010222.tif"
       ]
      },
      {
       "output_type": "stream",
       "stream": "stdout",
       "text": [
        "\n",
        "D:\\Data\\gpcp_extent//gpcp_1dd_v1.2_p1d.20010223.tif"
       ]
      },
      {
       "output_type": "stream",
       "stream": "stdout",
       "text": [
        "\n",
        "D:\\Data\\gpcp_extent//gpcp_1dd_v1.2_p1d.20010224.tif"
       ]
      },
      {
       "output_type": "stream",
       "stream": "stdout",
       "text": [
        "\n",
        "D:\\Data\\gpcp_extent//gpcp_1dd_v1.2_p1d.20010225.tif"
       ]
      },
      {
       "output_type": "stream",
       "stream": "stdout",
       "text": [
        "\n",
        "D:\\Data\\gpcp_extent//gpcp_1dd_v1.2_p1d.20010226.tif"
       ]
      },
      {
       "output_type": "stream",
       "stream": "stdout",
       "text": [
        "\n",
        "D:\\Data\\gpcp_extent//gpcp_1dd_v1.2_p1d.20010227.tif"
       ]
      },
      {
       "output_type": "stream",
       "stream": "stdout",
       "text": [
        "\n",
        "D:\\Data\\gpcp_extent//gpcp_1dd_v1.2_p1d.20010300.tif"
       ]
      },
      {
       "output_type": "stream",
       "stream": "stdout",
       "text": [
        "\n",
        "D:\\Data\\gpcp_extent//gpcp_1dd_v1.2_p1d.20010301.tif"
       ]
      },
      {
       "output_type": "stream",
       "stream": "stdout",
       "text": [
        "\n",
        "D:\\Data\\gpcp_extent//gpcp_1dd_v1.2_p1d.20010302.tif"
       ]
      },
      {
       "output_type": "stream",
       "stream": "stdout",
       "text": [
        "\n",
        "D:\\Data\\gpcp_extent//gpcp_1dd_v1.2_p1d.20010303.tif"
       ]
      },
      {
       "output_type": "stream",
       "stream": "stdout",
       "text": [
        "\n",
        "D:\\Data\\gpcp_extent//gpcp_1dd_v1.2_p1d.20010304.tif"
       ]
      },
      {
       "output_type": "stream",
       "stream": "stdout",
       "text": [
        "\n",
        "D:\\Data\\gpcp_extent//gpcp_1dd_v1.2_p1d.20010305.tif"
       ]
      },
      {
       "output_type": "stream",
       "stream": "stdout",
       "text": [
        "\n",
        "D:\\Data\\gpcp_extent//gpcp_1dd_v1.2_p1d.20010306.tif"
       ]
      },
      {
       "output_type": "stream",
       "stream": "stdout",
       "text": [
        "\n",
        "D:\\Data\\gpcp_extent//gpcp_1dd_v1.2_p1d.20010307.tif"
       ]
      },
      {
       "output_type": "stream",
       "stream": "stdout",
       "text": [
        "\n",
        "D:\\Data\\gpcp_extent//gpcp_1dd_v1.2_p1d.20010308.tif"
       ]
      },
      {
       "output_type": "stream",
       "stream": "stdout",
       "text": [
        "\n",
        "D:\\Data\\gpcp_extent//gpcp_1dd_v1.2_p1d.20010309.tif"
       ]
      },
      {
       "output_type": "stream",
       "stream": "stdout",
       "text": [
        "\n",
        "D:\\Data\\gpcp_extent//gpcp_1dd_v1.2_p1d.20010310.tif"
       ]
      },
      {
       "output_type": "stream",
       "stream": "stdout",
       "text": [
        "\n",
        "D:\\Data\\gpcp_extent//gpcp_1dd_v1.2_p1d.20010311.tif"
       ]
      },
      {
       "output_type": "stream",
       "stream": "stdout",
       "text": [
        "\n",
        "D:\\Data\\gpcp_extent//gpcp_1dd_v1.2_p1d.20010312.tif"
       ]
      },
      {
       "output_type": "stream",
       "stream": "stdout",
       "text": [
        "\n",
        "D:\\Data\\gpcp_extent//gpcp_1dd_v1.2_p1d.20010313.tif"
       ]
      },
      {
       "output_type": "stream",
       "stream": "stdout",
       "text": [
        "\n",
        "D:\\Data\\gpcp_extent//gpcp_1dd_v1.2_p1d.20010314.tif"
       ]
      },
      {
       "output_type": "stream",
       "stream": "stdout",
       "text": [
        "\n",
        "D:\\Data\\gpcp_extent//gpcp_1dd_v1.2_p1d.20010315.tif"
       ]
      },
      {
       "output_type": "stream",
       "stream": "stdout",
       "text": [
        "\n",
        "D:\\Data\\gpcp_extent//gpcp_1dd_v1.2_p1d.20010316.tif"
       ]
      },
      {
       "output_type": "stream",
       "stream": "stdout",
       "text": [
        "\n",
        "D:\\Data\\gpcp_extent//gpcp_1dd_v1.2_p1d.20010317.tif"
       ]
      },
      {
       "output_type": "stream",
       "stream": "stdout",
       "text": [
        "\n",
        "D:\\Data\\gpcp_extent//gpcp_1dd_v1.2_p1d.20010318.tif"
       ]
      },
      {
       "output_type": "stream",
       "stream": "stdout",
       "text": [
        "\n",
        "D:\\Data\\gpcp_extent//gpcp_1dd_v1.2_p1d.20010319.tif"
       ]
      },
      {
       "output_type": "stream",
       "stream": "stdout",
       "text": [
        "\n",
        "D:\\Data\\gpcp_extent//gpcp_1dd_v1.2_p1d.20010320.tif"
       ]
      },
      {
       "output_type": "stream",
       "stream": "stdout",
       "text": [
        "\n",
        "D:\\Data\\gpcp_extent//gpcp_1dd_v1.2_p1d.20010321.tif"
       ]
      },
      {
       "output_type": "stream",
       "stream": "stdout",
       "text": [
        "\n",
        "D:\\Data\\gpcp_extent//gpcp_1dd_v1.2_p1d.20010322.tif"
       ]
      },
      {
       "output_type": "stream",
       "stream": "stdout",
       "text": [
        "\n",
        "D:\\Data\\gpcp_extent//gpcp_1dd_v1.2_p1d.20010323.tif"
       ]
      },
      {
       "output_type": "stream",
       "stream": "stdout",
       "text": [
        "\n",
        "D:\\Data\\gpcp_extent//gpcp_1dd_v1.2_p1d.20010324.tif"
       ]
      },
      {
       "output_type": "stream",
       "stream": "stdout",
       "text": [
        "\n",
        "D:\\Data\\gpcp_extent//gpcp_1dd_v1.2_p1d.20010325.tif"
       ]
      },
      {
       "output_type": "stream",
       "stream": "stdout",
       "text": [
        "\n",
        "D:\\Data\\gpcp_extent//gpcp_1dd_v1.2_p1d.20010326.tif"
       ]
      },
      {
       "output_type": "stream",
       "stream": "stdout",
       "text": [
        "\n",
        "D:\\Data\\gpcp_extent//gpcp_1dd_v1.2_p1d.20010327.tif"
       ]
      },
      {
       "output_type": "stream",
       "stream": "stdout",
       "text": [
        "\n",
        "D:\\Data\\gpcp_extent//gpcp_1dd_v1.2_p1d.20010328.tif"
       ]
      },
      {
       "output_type": "stream",
       "stream": "stdout",
       "text": [
        "\n",
        "D:\\Data\\gpcp_extent//gpcp_1dd_v1.2_p1d.20010329.tif"
       ]
      },
      {
       "output_type": "stream",
       "stream": "stdout",
       "text": [
        "\n",
        "D:\\Data\\gpcp_extent//gpcp_1dd_v1.2_p1d.20010330.tif"
       ]
      },
      {
       "output_type": "stream",
       "stream": "stdout",
       "text": [
        "\n",
        "D:\\Data\\gpcp_extent//gpcp_1dd_v1.2_p1d.20010400.tif"
       ]
      },
      {
       "output_type": "stream",
       "stream": "stdout",
       "text": [
        "\n",
        "D:\\Data\\gpcp_extent//gpcp_1dd_v1.2_p1d.20010401.tif"
       ]
      },
      {
       "output_type": "stream",
       "stream": "stdout",
       "text": [
        "\n",
        "D:\\Data\\gpcp_extent//gpcp_1dd_v1.2_p1d.20010402.tif"
       ]
      },
      {
       "output_type": "stream",
       "stream": "stdout",
       "text": [
        "\n",
        "D:\\Data\\gpcp_extent//gpcp_1dd_v1.2_p1d.20010403.tif"
       ]
      },
      {
       "output_type": "stream",
       "stream": "stdout",
       "text": [
        "\n",
        "D:\\Data\\gpcp_extent//gpcp_1dd_v1.2_p1d.20010404.tif"
       ]
      },
      {
       "output_type": "stream",
       "stream": "stdout",
       "text": [
        "\n",
        "D:\\Data\\gpcp_extent//gpcp_1dd_v1.2_p1d.20010405.tif"
       ]
      },
      {
       "output_type": "stream",
       "stream": "stdout",
       "text": [
        "\n",
        "D:\\Data\\gpcp_extent//gpcp_1dd_v1.2_p1d.20010406.tif"
       ]
      },
      {
       "output_type": "stream",
       "stream": "stdout",
       "text": [
        "\n",
        "D:\\Data\\gpcp_extent//gpcp_1dd_v1.2_p1d.20010407.tif"
       ]
      },
      {
       "output_type": "stream",
       "stream": "stdout",
       "text": [
        "\n",
        "D:\\Data\\gpcp_extent//gpcp_1dd_v1.2_p1d.20010408.tif"
       ]
      },
      {
       "output_type": "stream",
       "stream": "stdout",
       "text": [
        "\n",
        "D:\\Data\\gpcp_extent//gpcp_1dd_v1.2_p1d.20010409.tif"
       ]
      },
      {
       "output_type": "stream",
       "stream": "stdout",
       "text": [
        "\n",
        "D:\\Data\\gpcp_extent//gpcp_1dd_v1.2_p1d.20010410.tif"
       ]
      },
      {
       "output_type": "stream",
       "stream": "stdout",
       "text": [
        "\n",
        "D:\\Data\\gpcp_extent//gpcp_1dd_v1.2_p1d.20010411.tif"
       ]
      },
      {
       "output_type": "stream",
       "stream": "stdout",
       "text": [
        "\n",
        "D:\\Data\\gpcp_extent//gpcp_1dd_v1.2_p1d.20010412.tif"
       ]
      },
      {
       "output_type": "stream",
       "stream": "stdout",
       "text": [
        "\n",
        "D:\\Data\\gpcp_extent//gpcp_1dd_v1.2_p1d.20010413.tif"
       ]
      },
      {
       "output_type": "stream",
       "stream": "stdout",
       "text": [
        "\n",
        "D:\\Data\\gpcp_extent//gpcp_1dd_v1.2_p1d.20010414.tif"
       ]
      },
      {
       "output_type": "stream",
       "stream": "stdout",
       "text": [
        "\n",
        "D:\\Data\\gpcp_extent//gpcp_1dd_v1.2_p1d.20010415.tif"
       ]
      },
      {
       "output_type": "stream",
       "stream": "stdout",
       "text": [
        "\n",
        "D:\\Data\\gpcp_extent//gpcp_1dd_v1.2_p1d.20010416.tif"
       ]
      },
      {
       "output_type": "stream",
       "stream": "stdout",
       "text": [
        "\n",
        "D:\\Data\\gpcp_extent//gpcp_1dd_v1.2_p1d.20010417.tif"
       ]
      },
      {
       "output_type": "stream",
       "stream": "stdout",
       "text": [
        "\n",
        "D:\\Data\\gpcp_extent//gpcp_1dd_v1.2_p1d.20010418.tif"
       ]
      },
      {
       "output_type": "stream",
       "stream": "stdout",
       "text": [
        "\n",
        "D:\\Data\\gpcp_extent//gpcp_1dd_v1.2_p1d.20010419.tif"
       ]
      },
      {
       "output_type": "stream",
       "stream": "stdout",
       "text": [
        "\n",
        "D:\\Data\\gpcp_extent//gpcp_1dd_v1.2_p1d.20010420.tif"
       ]
      },
      {
       "output_type": "stream",
       "stream": "stdout",
       "text": [
        "\n",
        "D:\\Data\\gpcp_extent//gpcp_1dd_v1.2_p1d.20010421.tif"
       ]
      },
      {
       "output_type": "stream",
       "stream": "stdout",
       "text": [
        "\n",
        "D:\\Data\\gpcp_extent//gpcp_1dd_v1.2_p1d.20010422.tif"
       ]
      },
      {
       "output_type": "stream",
       "stream": "stdout",
       "text": [
        "\n",
        "D:\\Data\\gpcp_extent//gpcp_1dd_v1.2_p1d.20010423.tif"
       ]
      },
      {
       "output_type": "stream",
       "stream": "stdout",
       "text": [
        "\n",
        "D:\\Data\\gpcp_extent//gpcp_1dd_v1.2_p1d.20010424.tif"
       ]
      },
      {
       "output_type": "stream",
       "stream": "stdout",
       "text": [
        "\n",
        "D:\\Data\\gpcp_extent//gpcp_1dd_v1.2_p1d.20010425.tif"
       ]
      },
      {
       "output_type": "stream",
       "stream": "stdout",
       "text": [
        "\n",
        "D:\\Data\\gpcp_extent//gpcp_1dd_v1.2_p1d.20010426.tif"
       ]
      },
      {
       "output_type": "stream",
       "stream": "stdout",
       "text": [
        "\n",
        "D:\\Data\\gpcp_extent//gpcp_1dd_v1.2_p1d.20010427.tif"
       ]
      },
      {
       "output_type": "stream",
       "stream": "stdout",
       "text": [
        "\n",
        "D:\\Data\\gpcp_extent//gpcp_1dd_v1.2_p1d.20010428.tif"
       ]
      },
      {
       "output_type": "stream",
       "stream": "stdout",
       "text": [
        "\n",
        "D:\\Data\\gpcp_extent//gpcp_1dd_v1.2_p1d.20010429.tif"
       ]
      },
      {
       "output_type": "stream",
       "stream": "stdout",
       "text": [
        "\n",
        "D:\\Data\\gpcp_extent//gpcp_1dd_v1.2_p1d.20010500.tif"
       ]
      },
      {
       "output_type": "stream",
       "stream": "stdout",
       "text": [
        "\n",
        "D:\\Data\\gpcp_extent//gpcp_1dd_v1.2_p1d.20010501.tif"
       ]
      },
      {
       "output_type": "stream",
       "stream": "stdout",
       "text": [
        "\n",
        "D:\\Data\\gpcp_extent//gpcp_1dd_v1.2_p1d.20010502.tif"
       ]
      },
      {
       "output_type": "stream",
       "stream": "stdout",
       "text": [
        "\n",
        "D:\\Data\\gpcp_extent//gpcp_1dd_v1.2_p1d.20010503.tif"
       ]
      },
      {
       "output_type": "stream",
       "stream": "stdout",
       "text": [
        "\n",
        "D:\\Data\\gpcp_extent//gpcp_1dd_v1.2_p1d.20010504.tif"
       ]
      },
      {
       "output_type": "stream",
       "stream": "stdout",
       "text": [
        "\n",
        "D:\\Data\\gpcp_extent//gpcp_1dd_v1.2_p1d.20010505.tif"
       ]
      },
      {
       "output_type": "stream",
       "stream": "stdout",
       "text": [
        "\n",
        "D:\\Data\\gpcp_extent//gpcp_1dd_v1.2_p1d.20010506.tif"
       ]
      },
      {
       "output_type": "stream",
       "stream": "stdout",
       "text": [
        "\n",
        "D:\\Data\\gpcp_extent//gpcp_1dd_v1.2_p1d.20010507.tif"
       ]
      },
      {
       "output_type": "stream",
       "stream": "stdout",
       "text": [
        "\n",
        "D:\\Data\\gpcp_extent//gpcp_1dd_v1.2_p1d.20010508.tif"
       ]
      },
      {
       "output_type": "stream",
       "stream": "stdout",
       "text": [
        "\n",
        "D:\\Data\\gpcp_extent//gpcp_1dd_v1.2_p1d.20010509.tif"
       ]
      },
      {
       "output_type": "stream",
       "stream": "stdout",
       "text": [
        "\n",
        "D:\\Data\\gpcp_extent//gpcp_1dd_v1.2_p1d.20010510.tif"
       ]
      },
      {
       "output_type": "stream",
       "stream": "stdout",
       "text": [
        "\n",
        "D:\\Data\\gpcp_extent//gpcp_1dd_v1.2_p1d.20010511.tif"
       ]
      },
      {
       "output_type": "stream",
       "stream": "stdout",
       "text": [
        "\n",
        "D:\\Data\\gpcp_extent//gpcp_1dd_v1.2_p1d.20010512.tif"
       ]
      },
      {
       "output_type": "stream",
       "stream": "stdout",
       "text": [
        "\n",
        "D:\\Data\\gpcp_extent//gpcp_1dd_v1.2_p1d.20010513.tif"
       ]
      },
      {
       "output_type": "stream",
       "stream": "stdout",
       "text": [
        "\n",
        "D:\\Data\\gpcp_extent//gpcp_1dd_v1.2_p1d.20010514.tif"
       ]
      },
      {
       "output_type": "stream",
       "stream": "stdout",
       "text": [
        "\n",
        "D:\\Data\\gpcp_extent//gpcp_1dd_v1.2_p1d.20010515.tif"
       ]
      },
      {
       "output_type": "stream",
       "stream": "stdout",
       "text": [
        "\n",
        "D:\\Data\\gpcp_extent//gpcp_1dd_v1.2_p1d.20010516.tif"
       ]
      },
      {
       "output_type": "stream",
       "stream": "stdout",
       "text": [
        "\n",
        "D:\\Data\\gpcp_extent//gpcp_1dd_v1.2_p1d.20010517.tif"
       ]
      },
      {
       "output_type": "stream",
       "stream": "stdout",
       "text": [
        "\n",
        "D:\\Data\\gpcp_extent//gpcp_1dd_v1.2_p1d.20010518.tif"
       ]
      },
      {
       "output_type": "stream",
       "stream": "stdout",
       "text": [
        "\n",
        "D:\\Data\\gpcp_extent//gpcp_1dd_v1.2_p1d.20010519.tif"
       ]
      },
      {
       "output_type": "stream",
       "stream": "stdout",
       "text": [
        "\n",
        "D:\\Data\\gpcp_extent//gpcp_1dd_v1.2_p1d.20010520.tif"
       ]
      },
      {
       "output_type": "stream",
       "stream": "stdout",
       "text": [
        "\n",
        "D:\\Data\\gpcp_extent//gpcp_1dd_v1.2_p1d.20010521.tif"
       ]
      },
      {
       "output_type": "stream",
       "stream": "stdout",
       "text": [
        "\n",
        "D:\\Data\\gpcp_extent//gpcp_1dd_v1.2_p1d.20010522.tif"
       ]
      },
      {
       "output_type": "stream",
       "stream": "stdout",
       "text": [
        "\n",
        "D:\\Data\\gpcp_extent//gpcp_1dd_v1.2_p1d.20010523.tif"
       ]
      },
      {
       "output_type": "stream",
       "stream": "stdout",
       "text": [
        "\n",
        "D:\\Data\\gpcp_extent//gpcp_1dd_v1.2_p1d.20010524.tif"
       ]
      },
      {
       "output_type": "stream",
       "stream": "stdout",
       "text": [
        "\n",
        "D:\\Data\\gpcp_extent//gpcp_1dd_v1.2_p1d.20010525.tif"
       ]
      },
      {
       "output_type": "stream",
       "stream": "stdout",
       "text": [
        "\n",
        "D:\\Data\\gpcp_extent//gpcp_1dd_v1.2_p1d.20010526.tif"
       ]
      },
      {
       "output_type": "stream",
       "stream": "stdout",
       "text": [
        "\n",
        "D:\\Data\\gpcp_extent//gpcp_1dd_v1.2_p1d.20010527.tif"
       ]
      },
      {
       "output_type": "stream",
       "stream": "stdout",
       "text": [
        "\n",
        "D:\\Data\\gpcp_extent//gpcp_1dd_v1.2_p1d.20010528.tif"
       ]
      },
      {
       "output_type": "stream",
       "stream": "stdout",
       "text": [
        "\n",
        "D:\\Data\\gpcp_extent//gpcp_1dd_v1.2_p1d.20010529.tif"
       ]
      },
      {
       "output_type": "stream",
       "stream": "stdout",
       "text": [
        "\n",
        "D:\\Data\\gpcp_extent//gpcp_1dd_v1.2_p1d.20010530.tif"
       ]
      },
      {
       "output_type": "stream",
       "stream": "stdout",
       "text": [
        "\n",
        "D:\\Data\\gpcp_extent//gpcp_1dd_v1.2_p1d.20010600.tif"
       ]
      },
      {
       "output_type": "stream",
       "stream": "stdout",
       "text": [
        "\n",
        "D:\\Data\\gpcp_extent//gpcp_1dd_v1.2_p1d.20010601.tif"
       ]
      },
      {
       "output_type": "stream",
       "stream": "stdout",
       "text": [
        "\n",
        "D:\\Data\\gpcp_extent//gpcp_1dd_v1.2_p1d.20010602.tif"
       ]
      },
      {
       "output_type": "stream",
       "stream": "stdout",
       "text": [
        "\n",
        "D:\\Data\\gpcp_extent//gpcp_1dd_v1.2_p1d.20010603.tif"
       ]
      },
      {
       "output_type": "stream",
       "stream": "stdout",
       "text": [
        "\n",
        "D:\\Data\\gpcp_extent//gpcp_1dd_v1.2_p1d.20010604.tif"
       ]
      },
      {
       "output_type": "stream",
       "stream": "stdout",
       "text": [
        "\n",
        "D:\\Data\\gpcp_extent//gpcp_1dd_v1.2_p1d.20010605.tif"
       ]
      },
      {
       "output_type": "stream",
       "stream": "stdout",
       "text": [
        "\n",
        "D:\\Data\\gpcp_extent//gpcp_1dd_v1.2_p1d.20010606.tif"
       ]
      },
      {
       "output_type": "stream",
       "stream": "stdout",
       "text": [
        "\n",
        "D:\\Data\\gpcp_extent//gpcp_1dd_v1.2_p1d.20010607.tif"
       ]
      },
      {
       "output_type": "stream",
       "stream": "stdout",
       "text": [
        "\n",
        "D:\\Data\\gpcp_extent//gpcp_1dd_v1.2_p1d.20010608.tif"
       ]
      },
      {
       "output_type": "stream",
       "stream": "stdout",
       "text": [
        "\n",
        "D:\\Data\\gpcp_extent//gpcp_1dd_v1.2_p1d.20010609.tif"
       ]
      },
      {
       "output_type": "stream",
       "stream": "stdout",
       "text": [
        "\n",
        "D:\\Data\\gpcp_extent//gpcp_1dd_v1.2_p1d.20010610.tif"
       ]
      },
      {
       "output_type": "stream",
       "stream": "stdout",
       "text": [
        "\n",
        "D:\\Data\\gpcp_extent//gpcp_1dd_v1.2_p1d.20010611.tif"
       ]
      },
      {
       "output_type": "stream",
       "stream": "stdout",
       "text": [
        "\n",
        "D:\\Data\\gpcp_extent//gpcp_1dd_v1.2_p1d.20010612.tif"
       ]
      },
      {
       "output_type": "stream",
       "stream": "stdout",
       "text": [
        "\n",
        "D:\\Data\\gpcp_extent//gpcp_1dd_v1.2_p1d.20010613.tif"
       ]
      },
      {
       "output_type": "stream",
       "stream": "stdout",
       "text": [
        "\n",
        "D:\\Data\\gpcp_extent//gpcp_1dd_v1.2_p1d.20010614.tif"
       ]
      },
      {
       "output_type": "stream",
       "stream": "stdout",
       "text": [
        "\n",
        "D:\\Data\\gpcp_extent//gpcp_1dd_v1.2_p1d.20010615.tif"
       ]
      },
      {
       "output_type": "stream",
       "stream": "stdout",
       "text": [
        "\n",
        "D:\\Data\\gpcp_extent//gpcp_1dd_v1.2_p1d.20010616.tif"
       ]
      },
      {
       "output_type": "stream",
       "stream": "stdout",
       "text": [
        "\n",
        "D:\\Data\\gpcp_extent//gpcp_1dd_v1.2_p1d.20010617.tif"
       ]
      },
      {
       "output_type": "stream",
       "stream": "stdout",
       "text": [
        "\n",
        "D:\\Data\\gpcp_extent//gpcp_1dd_v1.2_p1d.20010618.tif"
       ]
      },
      {
       "output_type": "stream",
       "stream": "stdout",
       "text": [
        "\n",
        "D:\\Data\\gpcp_extent//gpcp_1dd_v1.2_p1d.20010619.tif"
       ]
      },
      {
       "output_type": "stream",
       "stream": "stdout",
       "text": [
        "\n",
        "D:\\Data\\gpcp_extent//gpcp_1dd_v1.2_p1d.20010620.tif"
       ]
      },
      {
       "output_type": "stream",
       "stream": "stdout",
       "text": [
        "\n",
        "D:\\Data\\gpcp_extent//gpcp_1dd_v1.2_p1d.20010621.tif"
       ]
      },
      {
       "output_type": "stream",
       "stream": "stdout",
       "text": [
        "\n",
        "D:\\Data\\gpcp_extent//gpcp_1dd_v1.2_p1d.20010622.tif"
       ]
      },
      {
       "output_type": "stream",
       "stream": "stdout",
       "text": [
        "\n",
        "D:\\Data\\gpcp_extent//gpcp_1dd_v1.2_p1d.20010623.tif"
       ]
      },
      {
       "output_type": "stream",
       "stream": "stdout",
       "text": [
        "\n",
        "D:\\Data\\gpcp_extent//gpcp_1dd_v1.2_p1d.20010624.tif"
       ]
      },
      {
       "output_type": "stream",
       "stream": "stdout",
       "text": [
        "\n",
        "D:\\Data\\gpcp_extent//gpcp_1dd_v1.2_p1d.20010625.tif"
       ]
      },
      {
       "output_type": "stream",
       "stream": "stdout",
       "text": [
        "\n",
        "D:\\Data\\gpcp_extent//gpcp_1dd_v1.2_p1d.20010626.tif"
       ]
      },
      {
       "output_type": "stream",
       "stream": "stdout",
       "text": [
        "\n",
        "D:\\Data\\gpcp_extent//gpcp_1dd_v1.2_p1d.20010627.tif"
       ]
      },
      {
       "output_type": "stream",
       "stream": "stdout",
       "text": [
        "\n",
        "D:\\Data\\gpcp_extent//gpcp_1dd_v1.2_p1d.20010628.tif"
       ]
      },
      {
       "output_type": "stream",
       "stream": "stdout",
       "text": [
        "\n",
        "D:\\Data\\gpcp_extent//gpcp_1dd_v1.2_p1d.20010629.tif"
       ]
      },
      {
       "output_type": "stream",
       "stream": "stdout",
       "text": [
        "\n",
        "D:\\Data\\gpcp_extent//gpcp_1dd_v1.2_p1d.20010700.tif"
       ]
      },
      {
       "output_type": "stream",
       "stream": "stdout",
       "text": [
        "\n",
        "D:\\Data\\gpcp_extent//gpcp_1dd_v1.2_p1d.20010701.tif"
       ]
      },
      {
       "output_type": "stream",
       "stream": "stdout",
       "text": [
        "\n",
        "D:\\Data\\gpcp_extent//gpcp_1dd_v1.2_p1d.20010702.tif"
       ]
      },
      {
       "output_type": "stream",
       "stream": "stdout",
       "text": [
        "\n",
        "D:\\Data\\gpcp_extent//gpcp_1dd_v1.2_p1d.20010703.tif"
       ]
      },
      {
       "output_type": "stream",
       "stream": "stdout",
       "text": [
        "\n",
        "D:\\Data\\gpcp_extent//gpcp_1dd_v1.2_p1d.20010704.tif"
       ]
      },
      {
       "output_type": "stream",
       "stream": "stdout",
       "text": [
        "\n",
        "D:\\Data\\gpcp_extent//gpcp_1dd_v1.2_p1d.20010705.tif"
       ]
      },
      {
       "output_type": "stream",
       "stream": "stdout",
       "text": [
        "\n",
        "D:\\Data\\gpcp_extent//gpcp_1dd_v1.2_p1d.20010706.tif"
       ]
      },
      {
       "output_type": "stream",
       "stream": "stdout",
       "text": [
        "\n",
        "D:\\Data\\gpcp_extent//gpcp_1dd_v1.2_p1d.20010707.tif"
       ]
      },
      {
       "output_type": "stream",
       "stream": "stdout",
       "text": [
        "\n",
        "D:\\Data\\gpcp_extent//gpcp_1dd_v1.2_p1d.20010708.tif"
       ]
      },
      {
       "output_type": "stream",
       "stream": "stdout",
       "text": [
        "\n",
        "D:\\Data\\gpcp_extent//gpcp_1dd_v1.2_p1d.20010709.tif"
       ]
      },
      {
       "output_type": "stream",
       "stream": "stdout",
       "text": [
        "\n",
        "D:\\Data\\gpcp_extent//gpcp_1dd_v1.2_p1d.20010710.tif"
       ]
      },
      {
       "output_type": "stream",
       "stream": "stdout",
       "text": [
        "\n",
        "D:\\Data\\gpcp_extent//gpcp_1dd_v1.2_p1d.20010711.tif"
       ]
      },
      {
       "output_type": "stream",
       "stream": "stdout",
       "text": [
        "\n",
        "D:\\Data\\gpcp_extent//gpcp_1dd_v1.2_p1d.20010712.tif"
       ]
      },
      {
       "output_type": "stream",
       "stream": "stdout",
       "text": [
        "\n",
        "D:\\Data\\gpcp_extent//gpcp_1dd_v1.2_p1d.20010713.tif"
       ]
      },
      {
       "output_type": "stream",
       "stream": "stdout",
       "text": [
        "\n",
        "D:\\Data\\gpcp_extent//gpcp_1dd_v1.2_p1d.20010714.tif"
       ]
      },
      {
       "output_type": "stream",
       "stream": "stdout",
       "text": [
        "\n",
        "D:\\Data\\gpcp_extent//gpcp_1dd_v1.2_p1d.20010715.tif"
       ]
      },
      {
       "output_type": "stream",
       "stream": "stdout",
       "text": [
        "\n",
        "D:\\Data\\gpcp_extent//gpcp_1dd_v1.2_p1d.20010716.tif"
       ]
      },
      {
       "output_type": "stream",
       "stream": "stdout",
       "text": [
        "\n",
        "D:\\Data\\gpcp_extent//gpcp_1dd_v1.2_p1d.20010717.tif"
       ]
      },
      {
       "output_type": "stream",
       "stream": "stdout",
       "text": [
        "\n",
        "D:\\Data\\gpcp_extent//gpcp_1dd_v1.2_p1d.20010718.tif"
       ]
      },
      {
       "output_type": "stream",
       "stream": "stdout",
       "text": [
        "\n",
        "D:\\Data\\gpcp_extent//gpcp_1dd_v1.2_p1d.20010719.tif"
       ]
      },
      {
       "output_type": "stream",
       "stream": "stdout",
       "text": [
        "\n",
        "D:\\Data\\gpcp_extent//gpcp_1dd_v1.2_p1d.20010720.tif"
       ]
      },
      {
       "output_type": "stream",
       "stream": "stdout",
       "text": [
        "\n",
        "D:\\Data\\gpcp_extent//gpcp_1dd_v1.2_p1d.20010721.tif"
       ]
      },
      {
       "output_type": "stream",
       "stream": "stdout",
       "text": [
        "\n",
        "D:\\Data\\gpcp_extent//gpcp_1dd_v1.2_p1d.20010722.tif"
       ]
      },
      {
       "output_type": "stream",
       "stream": "stdout",
       "text": [
        "\n",
        "D:\\Data\\gpcp_extent//gpcp_1dd_v1.2_p1d.20010723.tif"
       ]
      },
      {
       "output_type": "stream",
       "stream": "stdout",
       "text": [
        "\n",
        "D:\\Data\\gpcp_extent//gpcp_1dd_v1.2_p1d.20010724.tif"
       ]
      },
      {
       "output_type": "stream",
       "stream": "stdout",
       "text": [
        "\n",
        "D:\\Data\\gpcp_extent//gpcp_1dd_v1.2_p1d.20010725.tif"
       ]
      },
      {
       "output_type": "stream",
       "stream": "stdout",
       "text": [
        "\n",
        "D:\\Data\\gpcp_extent//gpcp_1dd_v1.2_p1d.20010726.tif"
       ]
      },
      {
       "output_type": "stream",
       "stream": "stdout",
       "text": [
        "\n",
        "D:\\Data\\gpcp_extent//gpcp_1dd_v1.2_p1d.20010727.tif"
       ]
      },
      {
       "output_type": "stream",
       "stream": "stdout",
       "text": [
        "\n",
        "D:\\Data\\gpcp_extent//gpcp_1dd_v1.2_p1d.20010728.tif"
       ]
      },
      {
       "output_type": "stream",
       "stream": "stdout",
       "text": [
        "\n",
        "D:\\Data\\gpcp_extent//gpcp_1dd_v1.2_p1d.20010729.tif"
       ]
      },
      {
       "output_type": "stream",
       "stream": "stdout",
       "text": [
        "\n",
        "D:\\Data\\gpcp_extent//gpcp_1dd_v1.2_p1d.20010730.tif"
       ]
      },
      {
       "output_type": "stream",
       "stream": "stdout",
       "text": [
        "\n",
        "D:\\Data\\gpcp_extent//gpcp_1dd_v1.2_p1d.20010800.tif"
       ]
      },
      {
       "output_type": "stream",
       "stream": "stdout",
       "text": [
        "\n",
        "D:\\Data\\gpcp_extent//gpcp_1dd_v1.2_p1d.20010801.tif"
       ]
      },
      {
       "output_type": "stream",
       "stream": "stdout",
       "text": [
        "\n",
        "D:\\Data\\gpcp_extent//gpcp_1dd_v1.2_p1d.20010802.tif"
       ]
      },
      {
       "output_type": "stream",
       "stream": "stdout",
       "text": [
        "\n",
        "D:\\Data\\gpcp_extent//gpcp_1dd_v1.2_p1d.20010803.tif"
       ]
      },
      {
       "output_type": "stream",
       "stream": "stdout",
       "text": [
        "\n",
        "D:\\Data\\gpcp_extent//gpcp_1dd_v1.2_p1d.20010804.tif"
       ]
      },
      {
       "output_type": "stream",
       "stream": "stdout",
       "text": [
        "\n",
        "D:\\Data\\gpcp_extent//gpcp_1dd_v1.2_p1d.20010805.tif"
       ]
      },
      {
       "output_type": "stream",
       "stream": "stdout",
       "text": [
        "\n",
        "D:\\Data\\gpcp_extent//gpcp_1dd_v1.2_p1d.20010806.tif"
       ]
      },
      {
       "output_type": "stream",
       "stream": "stdout",
       "text": [
        "\n",
        "D:\\Data\\gpcp_extent//gpcp_1dd_v1.2_p1d.20010807.tif"
       ]
      },
      {
       "output_type": "stream",
       "stream": "stdout",
       "text": [
        "\n",
        "D:\\Data\\gpcp_extent//gpcp_1dd_v1.2_p1d.20010808.tif"
       ]
      },
      {
       "output_type": "stream",
       "stream": "stdout",
       "text": [
        "\n",
        "D:\\Data\\gpcp_extent//gpcp_1dd_v1.2_p1d.20010809.tif"
       ]
      },
      {
       "output_type": "stream",
       "stream": "stdout",
       "text": [
        "\n",
        "D:\\Data\\gpcp_extent//gpcp_1dd_v1.2_p1d.20010810.tif"
       ]
      },
      {
       "output_type": "stream",
       "stream": "stdout",
       "text": [
        "\n",
        "D:\\Data\\gpcp_extent//gpcp_1dd_v1.2_p1d.20010811.tif"
       ]
      },
      {
       "output_type": "stream",
       "stream": "stdout",
       "text": [
        "\n",
        "D:\\Data\\gpcp_extent//gpcp_1dd_v1.2_p1d.20010812.tif"
       ]
      },
      {
       "output_type": "stream",
       "stream": "stdout",
       "text": [
        "\n",
        "D:\\Data\\gpcp_extent//gpcp_1dd_v1.2_p1d.20010813.tif"
       ]
      },
      {
       "output_type": "stream",
       "stream": "stdout",
       "text": [
        "\n",
        "D:\\Data\\gpcp_extent//gpcp_1dd_v1.2_p1d.20010814.tif"
       ]
      },
      {
       "output_type": "stream",
       "stream": "stdout",
       "text": [
        "\n",
        "D:\\Data\\gpcp_extent//gpcp_1dd_v1.2_p1d.20010815.tif"
       ]
      },
      {
       "output_type": "stream",
       "stream": "stdout",
       "text": [
        "\n",
        "D:\\Data\\gpcp_extent//gpcp_1dd_v1.2_p1d.20010816.tif"
       ]
      },
      {
       "output_type": "stream",
       "stream": "stdout",
       "text": [
        "\n",
        "D:\\Data\\gpcp_extent//gpcp_1dd_v1.2_p1d.20010817.tif"
       ]
      },
      {
       "output_type": "stream",
       "stream": "stdout",
       "text": [
        "\n",
        "D:\\Data\\gpcp_extent//gpcp_1dd_v1.2_p1d.20010818.tif"
       ]
      },
      {
       "output_type": "stream",
       "stream": "stdout",
       "text": [
        "\n",
        "D:\\Data\\gpcp_extent//gpcp_1dd_v1.2_p1d.20010819.tif"
       ]
      },
      {
       "output_type": "stream",
       "stream": "stdout",
       "text": [
        "\n",
        "D:\\Data\\gpcp_extent//gpcp_1dd_v1.2_p1d.20010820.tif"
       ]
      },
      {
       "output_type": "stream",
       "stream": "stdout",
       "text": [
        "\n",
        "D:\\Data\\gpcp_extent//gpcp_1dd_v1.2_p1d.20010821.tif"
       ]
      },
      {
       "output_type": "stream",
       "stream": "stdout",
       "text": [
        "\n",
        "D:\\Data\\gpcp_extent//gpcp_1dd_v1.2_p1d.20010822.tif"
       ]
      },
      {
       "output_type": "stream",
       "stream": "stdout",
       "text": [
        "\n",
        "D:\\Data\\gpcp_extent//gpcp_1dd_v1.2_p1d.20010823.tif"
       ]
      },
      {
       "output_type": "stream",
       "stream": "stdout",
       "text": [
        "\n",
        "D:\\Data\\gpcp_extent//gpcp_1dd_v1.2_p1d.20010824.tif"
       ]
      },
      {
       "output_type": "stream",
       "stream": "stdout",
       "text": [
        "\n",
        "D:\\Data\\gpcp_extent//gpcp_1dd_v1.2_p1d.20010825.tif"
       ]
      },
      {
       "output_type": "stream",
       "stream": "stdout",
       "text": [
        "\n",
        "D:\\Data\\gpcp_extent//gpcp_1dd_v1.2_p1d.20010826.tif"
       ]
      },
      {
       "output_type": "stream",
       "stream": "stdout",
       "text": [
        "\n",
        "D:\\Data\\gpcp_extent//gpcp_1dd_v1.2_p1d.20010827.tif"
       ]
      },
      {
       "output_type": "stream",
       "stream": "stdout",
       "text": [
        "\n",
        "D:\\Data\\gpcp_extent//gpcp_1dd_v1.2_p1d.20010828.tif"
       ]
      },
      {
       "output_type": "stream",
       "stream": "stdout",
       "text": [
        "\n",
        "D:\\Data\\gpcp_extent//gpcp_1dd_v1.2_p1d.20010829.tif"
       ]
      },
      {
       "output_type": "stream",
       "stream": "stdout",
       "text": [
        "\n",
        "D:\\Data\\gpcp_extent//gpcp_1dd_v1.2_p1d.20010830.tif"
       ]
      },
      {
       "output_type": "stream",
       "stream": "stdout",
       "text": [
        "\n",
        "D:\\Data\\gpcp_extent//gpcp_1dd_v1.2_p1d.20010900.tif"
       ]
      },
      {
       "output_type": "stream",
       "stream": "stdout",
       "text": [
        "\n",
        "D:\\Data\\gpcp_extent//gpcp_1dd_v1.2_p1d.20010901.tif"
       ]
      },
      {
       "output_type": "stream",
       "stream": "stdout",
       "text": [
        "\n",
        "D:\\Data\\gpcp_extent//gpcp_1dd_v1.2_p1d.20010902.tif"
       ]
      },
      {
       "output_type": "stream",
       "stream": "stdout",
       "text": [
        "\n",
        "D:\\Data\\gpcp_extent//gpcp_1dd_v1.2_p1d.20010903.tif"
       ]
      },
      {
       "output_type": "stream",
       "stream": "stdout",
       "text": [
        "\n",
        "D:\\Data\\gpcp_extent//gpcp_1dd_v1.2_p1d.20010904.tif"
       ]
      },
      {
       "output_type": "stream",
       "stream": "stdout",
       "text": [
        "\n",
        "D:\\Data\\gpcp_extent//gpcp_1dd_v1.2_p1d.20010905.tif"
       ]
      },
      {
       "output_type": "stream",
       "stream": "stdout",
       "text": [
        "\n",
        "D:\\Data\\gpcp_extent//gpcp_1dd_v1.2_p1d.20010906.tif"
       ]
      },
      {
       "output_type": "stream",
       "stream": "stdout",
       "text": [
        "\n",
        "D:\\Data\\gpcp_extent//gpcp_1dd_v1.2_p1d.20010907.tif"
       ]
      },
      {
       "output_type": "stream",
       "stream": "stdout",
       "text": [
        "\n",
        "D:\\Data\\gpcp_extent//gpcp_1dd_v1.2_p1d.20010908.tif"
       ]
      },
      {
       "output_type": "stream",
       "stream": "stdout",
       "text": [
        "\n",
        "D:\\Data\\gpcp_extent//gpcp_1dd_v1.2_p1d.20010909.tif"
       ]
      },
      {
       "output_type": "stream",
       "stream": "stdout",
       "text": [
        "\n",
        "D:\\Data\\gpcp_extent//gpcp_1dd_v1.2_p1d.20010910.tif"
       ]
      },
      {
       "output_type": "stream",
       "stream": "stdout",
       "text": [
        "\n",
        "D:\\Data\\gpcp_extent//gpcp_1dd_v1.2_p1d.20010911.tif"
       ]
      },
      {
       "output_type": "stream",
       "stream": "stdout",
       "text": [
        "\n",
        "D:\\Data\\gpcp_extent//gpcp_1dd_v1.2_p1d.20010912.tif"
       ]
      },
      {
       "output_type": "stream",
       "stream": "stdout",
       "text": [
        "\n",
        "D:\\Data\\gpcp_extent//gpcp_1dd_v1.2_p1d.20010913.tif"
       ]
      },
      {
       "output_type": "stream",
       "stream": "stdout",
       "text": [
        "\n",
        "D:\\Data\\gpcp_extent//gpcp_1dd_v1.2_p1d.20010914.tif"
       ]
      },
      {
       "output_type": "stream",
       "stream": "stdout",
       "text": [
        "\n",
        "D:\\Data\\gpcp_extent//gpcp_1dd_v1.2_p1d.20010915.tif"
       ]
      },
      {
       "output_type": "stream",
       "stream": "stdout",
       "text": [
        "\n",
        "D:\\Data\\gpcp_extent//gpcp_1dd_v1.2_p1d.20010916.tif"
       ]
      },
      {
       "output_type": "stream",
       "stream": "stdout",
       "text": [
        "\n",
        "D:\\Data\\gpcp_extent//gpcp_1dd_v1.2_p1d.20010917.tif"
       ]
      },
      {
       "output_type": "stream",
       "stream": "stdout",
       "text": [
        "\n",
        "D:\\Data\\gpcp_extent//gpcp_1dd_v1.2_p1d.20010918.tif"
       ]
      },
      {
       "output_type": "stream",
       "stream": "stdout",
       "text": [
        "\n",
        "D:\\Data\\gpcp_extent//gpcp_1dd_v1.2_p1d.20010919.tif"
       ]
      },
      {
       "output_type": "stream",
       "stream": "stdout",
       "text": [
        "\n",
        "D:\\Data\\gpcp_extent//gpcp_1dd_v1.2_p1d.20010920.tif"
       ]
      },
      {
       "output_type": "stream",
       "stream": "stdout",
       "text": [
        "\n",
        "D:\\Data\\gpcp_extent//gpcp_1dd_v1.2_p1d.20010921.tif"
       ]
      },
      {
       "output_type": "stream",
       "stream": "stdout",
       "text": [
        "\n",
        "D:\\Data\\gpcp_extent//gpcp_1dd_v1.2_p1d.20010922.tif"
       ]
      },
      {
       "output_type": "stream",
       "stream": "stdout",
       "text": [
        "\n",
        "D:\\Data\\gpcp_extent//gpcp_1dd_v1.2_p1d.20010923.tif"
       ]
      },
      {
       "output_type": "stream",
       "stream": "stdout",
       "text": [
        "\n",
        "D:\\Data\\gpcp_extent//gpcp_1dd_v1.2_p1d.20010924.tif"
       ]
      },
      {
       "output_type": "stream",
       "stream": "stdout",
       "text": [
        "\n",
        "D:\\Data\\gpcp_extent//gpcp_1dd_v1.2_p1d.20010925.tif"
       ]
      },
      {
       "output_type": "stream",
       "stream": "stdout",
       "text": [
        "\n",
        "D:\\Data\\gpcp_extent//gpcp_1dd_v1.2_p1d.20010926.tif"
       ]
      },
      {
       "output_type": "stream",
       "stream": "stdout",
       "text": [
        "\n",
        "D:\\Data\\gpcp_extent//gpcp_1dd_v1.2_p1d.20010927.tif"
       ]
      },
      {
       "output_type": "stream",
       "stream": "stdout",
       "text": [
        "\n",
        "D:\\Data\\gpcp_extent//gpcp_1dd_v1.2_p1d.20010928.tif"
       ]
      },
      {
       "output_type": "stream",
       "stream": "stdout",
       "text": [
        "\n",
        "D:\\Data\\gpcp_extent//gpcp_1dd_v1.2_p1d.20010929.tif"
       ]
      },
      {
       "output_type": "stream",
       "stream": "stdout",
       "text": [
        "\n",
        "D:\\Data\\gpcp_extent//gpcp_1dd_v1.2_p1d.20011000.tif"
       ]
      },
      {
       "output_type": "stream",
       "stream": "stdout",
       "text": [
        "\n",
        "D:\\Data\\gpcp_extent//gpcp_1dd_v1.2_p1d.20011001.tif"
       ]
      },
      {
       "output_type": "stream",
       "stream": "stdout",
       "text": [
        "\n",
        "D:\\Data\\gpcp_extent//gpcp_1dd_v1.2_p1d.20011002.tif"
       ]
      },
      {
       "output_type": "stream",
       "stream": "stdout",
       "text": [
        "\n",
        "D:\\Data\\gpcp_extent//gpcp_1dd_v1.2_p1d.20011003.tif"
       ]
      },
      {
       "output_type": "stream",
       "stream": "stdout",
       "text": [
        "\n",
        "D:\\Data\\gpcp_extent//gpcp_1dd_v1.2_p1d.20011004.tif"
       ]
      },
      {
       "output_type": "stream",
       "stream": "stdout",
       "text": [
        "\n",
        "D:\\Data\\gpcp_extent//gpcp_1dd_v1.2_p1d.20011005.tif"
       ]
      },
      {
       "output_type": "stream",
       "stream": "stdout",
       "text": [
        "\n",
        "D:\\Data\\gpcp_extent//gpcp_1dd_v1.2_p1d.20011006.tif"
       ]
      },
      {
       "output_type": "stream",
       "stream": "stdout",
       "text": [
        "\n",
        "D:\\Data\\gpcp_extent//gpcp_1dd_v1.2_p1d.20011007.tif"
       ]
      },
      {
       "output_type": "stream",
       "stream": "stdout",
       "text": [
        "\n",
        "D:\\Data\\gpcp_extent//gpcp_1dd_v1.2_p1d.20011008.tif"
       ]
      },
      {
       "output_type": "stream",
       "stream": "stdout",
       "text": [
        "\n",
        "D:\\Data\\gpcp_extent//gpcp_1dd_v1.2_p1d.20011009.tif"
       ]
      },
      {
       "output_type": "stream",
       "stream": "stdout",
       "text": [
        "\n",
        "D:\\Data\\gpcp_extent//gpcp_1dd_v1.2_p1d.20011010.tif"
       ]
      },
      {
       "output_type": "stream",
       "stream": "stdout",
       "text": [
        "\n",
        "D:\\Data\\gpcp_extent//gpcp_1dd_v1.2_p1d.20011011.tif"
       ]
      },
      {
       "output_type": "stream",
       "stream": "stdout",
       "text": [
        "\n",
        "D:\\Data\\gpcp_extent//gpcp_1dd_v1.2_p1d.20011012.tif"
       ]
      },
      {
       "output_type": "stream",
       "stream": "stdout",
       "text": [
        "\n",
        "D:\\Data\\gpcp_extent//gpcp_1dd_v1.2_p1d.20011013.tif"
       ]
      },
      {
       "output_type": "stream",
       "stream": "stdout",
       "text": [
        "\n",
        "D:\\Data\\gpcp_extent//gpcp_1dd_v1.2_p1d.20011014.tif"
       ]
      },
      {
       "output_type": "stream",
       "stream": "stdout",
       "text": [
        "\n",
        "D:\\Data\\gpcp_extent//gpcp_1dd_v1.2_p1d.20011015.tif"
       ]
      },
      {
       "output_type": "stream",
       "stream": "stdout",
       "text": [
        "\n",
        "D:\\Data\\gpcp_extent//gpcp_1dd_v1.2_p1d.20011016.tif"
       ]
      },
      {
       "output_type": "stream",
       "stream": "stdout",
       "text": [
        "\n",
        "D:\\Data\\gpcp_extent//gpcp_1dd_v1.2_p1d.20011017.tif"
       ]
      },
      {
       "output_type": "stream",
       "stream": "stdout",
       "text": [
        "\n",
        "D:\\Data\\gpcp_extent//gpcp_1dd_v1.2_p1d.20011018.tif"
       ]
      },
      {
       "output_type": "stream",
       "stream": "stdout",
       "text": [
        "\n",
        "D:\\Data\\gpcp_extent//gpcp_1dd_v1.2_p1d.20011019.tif"
       ]
      },
      {
       "output_type": "stream",
       "stream": "stdout",
       "text": [
        "\n",
        "D:\\Data\\gpcp_extent//gpcp_1dd_v1.2_p1d.20011020.tif"
       ]
      },
      {
       "output_type": "stream",
       "stream": "stdout",
       "text": [
        "\n",
        "D:\\Data\\gpcp_extent//gpcp_1dd_v1.2_p1d.20011021.tif"
       ]
      },
      {
       "output_type": "stream",
       "stream": "stdout",
       "text": [
        "\n",
        "D:\\Data\\gpcp_extent//gpcp_1dd_v1.2_p1d.20011022.tif"
       ]
      },
      {
       "output_type": "stream",
       "stream": "stdout",
       "text": [
        "\n",
        "D:\\Data\\gpcp_extent//gpcp_1dd_v1.2_p1d.20011023.tif"
       ]
      },
      {
       "output_type": "stream",
       "stream": "stdout",
       "text": [
        "\n",
        "D:\\Data\\gpcp_extent//gpcp_1dd_v1.2_p1d.20011024.tif"
       ]
      },
      {
       "output_type": "stream",
       "stream": "stdout",
       "text": [
        "\n",
        "D:\\Data\\gpcp_extent//gpcp_1dd_v1.2_p1d.20011025.tif"
       ]
      },
      {
       "output_type": "stream",
       "stream": "stdout",
       "text": [
        "\n",
        "D:\\Data\\gpcp_extent//gpcp_1dd_v1.2_p1d.20011026.tif"
       ]
      },
      {
       "output_type": "stream",
       "stream": "stdout",
       "text": [
        "\n",
        "D:\\Data\\gpcp_extent//gpcp_1dd_v1.2_p1d.20011027.tif"
       ]
      },
      {
       "output_type": "stream",
       "stream": "stdout",
       "text": [
        "\n",
        "D:\\Data\\gpcp_extent//gpcp_1dd_v1.2_p1d.20011028.tif"
       ]
      },
      {
       "output_type": "stream",
       "stream": "stdout",
       "text": [
        "\n",
        "D:\\Data\\gpcp_extent//gpcp_1dd_v1.2_p1d.20011029.tif"
       ]
      },
      {
       "output_type": "stream",
       "stream": "stdout",
       "text": [
        "\n",
        "D:\\Data\\gpcp_extent//gpcp_1dd_v1.2_p1d.20011030.tif"
       ]
      },
      {
       "output_type": "stream",
       "stream": "stdout",
       "text": [
        "\n",
        "D:\\Data\\gpcp_extent//gpcp_1dd_v1.2_p1d.20011100.tif"
       ]
      },
      {
       "output_type": "stream",
       "stream": "stdout",
       "text": [
        "\n",
        "D:\\Data\\gpcp_extent//gpcp_1dd_v1.2_p1d.20011101.tif"
       ]
      },
      {
       "output_type": "stream",
       "stream": "stdout",
       "text": [
        "\n",
        "D:\\Data\\gpcp_extent//gpcp_1dd_v1.2_p1d.20011102.tif"
       ]
      },
      {
       "output_type": "stream",
       "stream": "stdout",
       "text": [
        "\n",
        "D:\\Data\\gpcp_extent//gpcp_1dd_v1.2_p1d.20011103.tif"
       ]
      },
      {
       "output_type": "stream",
       "stream": "stdout",
       "text": [
        "\n",
        "D:\\Data\\gpcp_extent//gpcp_1dd_v1.2_p1d.20011104.tif"
       ]
      },
      {
       "output_type": "stream",
       "stream": "stdout",
       "text": [
        "\n",
        "D:\\Data\\gpcp_extent//gpcp_1dd_v1.2_p1d.20011105.tif"
       ]
      },
      {
       "output_type": "stream",
       "stream": "stdout",
       "text": [
        "\n",
        "D:\\Data\\gpcp_extent//gpcp_1dd_v1.2_p1d.20011106.tif"
       ]
      },
      {
       "output_type": "stream",
       "stream": "stdout",
       "text": [
        "\n",
        "D:\\Data\\gpcp_extent//gpcp_1dd_v1.2_p1d.20011107.tif"
       ]
      },
      {
       "output_type": "stream",
       "stream": "stdout",
       "text": [
        "\n",
        "D:\\Data\\gpcp_extent//gpcp_1dd_v1.2_p1d.20011108.tif"
       ]
      },
      {
       "output_type": "stream",
       "stream": "stdout",
       "text": [
        "\n",
        "D:\\Data\\gpcp_extent//gpcp_1dd_v1.2_p1d.20011109.tif"
       ]
      },
      {
       "output_type": "stream",
       "stream": "stdout",
       "text": [
        "\n",
        "D:\\Data\\gpcp_extent//gpcp_1dd_v1.2_p1d.20011110.tif"
       ]
      },
      {
       "output_type": "stream",
       "stream": "stdout",
       "text": [
        "\n",
        "D:\\Data\\gpcp_extent//gpcp_1dd_v1.2_p1d.20011111.tif"
       ]
      },
      {
       "output_type": "stream",
       "stream": "stdout",
       "text": [
        "\n",
        "D:\\Data\\gpcp_extent//gpcp_1dd_v1.2_p1d.20011112.tif"
       ]
      },
      {
       "output_type": "stream",
       "stream": "stdout",
       "text": [
        "\n",
        "D:\\Data\\gpcp_extent//gpcp_1dd_v1.2_p1d.20011113.tif"
       ]
      },
      {
       "output_type": "stream",
       "stream": "stdout",
       "text": [
        "\n",
        "D:\\Data\\gpcp_extent//gpcp_1dd_v1.2_p1d.20011114.tif"
       ]
      },
      {
       "output_type": "stream",
       "stream": "stdout",
       "text": [
        "\n",
        "D:\\Data\\gpcp_extent//gpcp_1dd_v1.2_p1d.20011115.tif"
       ]
      },
      {
       "output_type": "stream",
       "stream": "stdout",
       "text": [
        "\n",
        "D:\\Data\\gpcp_extent//gpcp_1dd_v1.2_p1d.20011116.tif"
       ]
      },
      {
       "output_type": "stream",
       "stream": "stdout",
       "text": [
        "\n",
        "D:\\Data\\gpcp_extent//gpcp_1dd_v1.2_p1d.20011117.tif"
       ]
      },
      {
       "output_type": "stream",
       "stream": "stdout",
       "text": [
        "\n",
        "D:\\Data\\gpcp_extent//gpcp_1dd_v1.2_p1d.20011118.tif"
       ]
      },
      {
       "output_type": "stream",
       "stream": "stdout",
       "text": [
        "\n",
        "D:\\Data\\gpcp_extent//gpcp_1dd_v1.2_p1d.20011119.tif"
       ]
      },
      {
       "output_type": "stream",
       "stream": "stdout",
       "text": [
        "\n",
        "D:\\Data\\gpcp_extent//gpcp_1dd_v1.2_p1d.20011120.tif"
       ]
      },
      {
       "output_type": "stream",
       "stream": "stdout",
       "text": [
        "\n",
        "D:\\Data\\gpcp_extent//gpcp_1dd_v1.2_p1d.20011121.tif"
       ]
      },
      {
       "output_type": "stream",
       "stream": "stdout",
       "text": [
        "\n",
        "D:\\Data\\gpcp_extent//gpcp_1dd_v1.2_p1d.20011122.tif"
       ]
      },
      {
       "output_type": "stream",
       "stream": "stdout",
       "text": [
        "\n",
        "D:\\Data\\gpcp_extent//gpcp_1dd_v1.2_p1d.20011123.tif"
       ]
      },
      {
       "output_type": "stream",
       "stream": "stdout",
       "text": [
        "\n",
        "D:\\Data\\gpcp_extent//gpcp_1dd_v1.2_p1d.20011124.tif"
       ]
      },
      {
       "output_type": "stream",
       "stream": "stdout",
       "text": [
        "\n",
        "D:\\Data\\gpcp_extent//gpcp_1dd_v1.2_p1d.20011125.tif"
       ]
      },
      {
       "output_type": "stream",
       "stream": "stdout",
       "text": [
        "\n",
        "D:\\Data\\gpcp_extent//gpcp_1dd_v1.2_p1d.20011126.tif"
       ]
      },
      {
       "output_type": "stream",
       "stream": "stdout",
       "text": [
        "\n",
        "D:\\Data\\gpcp_extent//gpcp_1dd_v1.2_p1d.20011127.tif"
       ]
      },
      {
       "output_type": "stream",
       "stream": "stdout",
       "text": [
        "\n",
        "D:\\Data\\gpcp_extent//gpcp_1dd_v1.2_p1d.20011128.tif"
       ]
      },
      {
       "output_type": "stream",
       "stream": "stdout",
       "text": [
        "\n",
        "D:\\Data\\gpcp_extent//gpcp_1dd_v1.2_p1d.20011129.tif"
       ]
      },
      {
       "output_type": "stream",
       "stream": "stdout",
       "text": [
        "\n",
        "D:\\Data\\gpcp_extent//gpcp_1dd_v1.2_p1d.20011200.tif"
       ]
      },
      {
       "output_type": "stream",
       "stream": "stdout",
       "text": [
        "\n",
        "D:\\Data\\gpcp_extent//gpcp_1dd_v1.2_p1d.20011201.tif"
       ]
      },
      {
       "output_type": "stream",
       "stream": "stdout",
       "text": [
        "\n",
        "D:\\Data\\gpcp_extent//gpcp_1dd_v1.2_p1d.20011202.tif"
       ]
      },
      {
       "output_type": "stream",
       "stream": "stdout",
       "text": [
        "\n",
        "D:\\Data\\gpcp_extent//gpcp_1dd_v1.2_p1d.20011203.tif"
       ]
      },
      {
       "output_type": "stream",
       "stream": "stdout",
       "text": [
        "\n",
        "D:\\Data\\gpcp_extent//gpcp_1dd_v1.2_p1d.20011204.tif"
       ]
      },
      {
       "output_type": "stream",
       "stream": "stdout",
       "text": [
        "\n",
        "D:\\Data\\gpcp_extent//gpcp_1dd_v1.2_p1d.20011205.tif"
       ]
      },
      {
       "output_type": "stream",
       "stream": "stdout",
       "text": [
        "\n",
        "D:\\Data\\gpcp_extent//gpcp_1dd_v1.2_p1d.20011206.tif"
       ]
      },
      {
       "output_type": "stream",
       "stream": "stdout",
       "text": [
        "\n",
        "D:\\Data\\gpcp_extent//gpcp_1dd_v1.2_p1d.20011207.tif"
       ]
      },
      {
       "output_type": "stream",
       "stream": "stdout",
       "text": [
        "\n",
        "D:\\Data\\gpcp_extent//gpcp_1dd_v1.2_p1d.20011208.tif"
       ]
      },
      {
       "output_type": "stream",
       "stream": "stdout",
       "text": [
        "\n",
        "D:\\Data\\gpcp_extent//gpcp_1dd_v1.2_p1d.20011209.tif"
       ]
      },
      {
       "output_type": "stream",
       "stream": "stdout",
       "text": [
        "\n",
        "D:\\Data\\gpcp_extent//gpcp_1dd_v1.2_p1d.20011210.tif"
       ]
      },
      {
       "output_type": "stream",
       "stream": "stdout",
       "text": [
        "\n",
        "D:\\Data\\gpcp_extent//gpcp_1dd_v1.2_p1d.20011211.tif"
       ]
      },
      {
       "output_type": "stream",
       "stream": "stdout",
       "text": [
        "\n",
        "D:\\Data\\gpcp_extent//gpcp_1dd_v1.2_p1d.20011212.tif"
       ]
      },
      {
       "output_type": "stream",
       "stream": "stdout",
       "text": [
        "\n",
        "D:\\Data\\gpcp_extent//gpcp_1dd_v1.2_p1d.20011213.tif"
       ]
      },
      {
       "output_type": "stream",
       "stream": "stdout",
       "text": [
        "\n",
        "D:\\Data\\gpcp_extent//gpcp_1dd_v1.2_p1d.20011214.tif"
       ]
      },
      {
       "output_type": "stream",
       "stream": "stdout",
       "text": [
        "\n",
        "D:\\Data\\gpcp_extent//gpcp_1dd_v1.2_p1d.20011215.tif"
       ]
      },
      {
       "output_type": "stream",
       "stream": "stdout",
       "text": [
        "\n",
        "D:\\Data\\gpcp_extent//gpcp_1dd_v1.2_p1d.20011216.tif"
       ]
      },
      {
       "output_type": "stream",
       "stream": "stdout",
       "text": [
        "\n",
        "D:\\Data\\gpcp_extent//gpcp_1dd_v1.2_p1d.20011217.tif"
       ]
      },
      {
       "output_type": "stream",
       "stream": "stdout",
       "text": [
        "\n",
        "D:\\Data\\gpcp_extent//gpcp_1dd_v1.2_p1d.20011218.tif"
       ]
      },
      {
       "output_type": "stream",
       "stream": "stdout",
       "text": [
        "\n",
        "D:\\Data\\gpcp_extent//gpcp_1dd_v1.2_p1d.20011219.tif"
       ]
      },
      {
       "output_type": "stream",
       "stream": "stdout",
       "text": [
        "\n",
        "D:\\Data\\gpcp_extent//gpcp_1dd_v1.2_p1d.20011220.tif"
       ]
      },
      {
       "output_type": "stream",
       "stream": "stdout",
       "text": [
        "\n",
        "D:\\Data\\gpcp_extent//gpcp_1dd_v1.2_p1d.20011221.tif"
       ]
      },
      {
       "output_type": "stream",
       "stream": "stdout",
       "text": [
        "\n",
        "D:\\Data\\gpcp_extent//gpcp_1dd_v1.2_p1d.20011222.tif"
       ]
      },
      {
       "output_type": "stream",
       "stream": "stdout",
       "text": [
        "\n",
        "D:\\Data\\gpcp_extent//gpcp_1dd_v1.2_p1d.20011223.tif"
       ]
      },
      {
       "output_type": "stream",
       "stream": "stdout",
       "text": [
        "\n",
        "D:\\Data\\gpcp_extent//gpcp_1dd_v1.2_p1d.20011224.tif"
       ]
      },
      {
       "output_type": "stream",
       "stream": "stdout",
       "text": [
        "\n",
        "D:\\Data\\gpcp_extent//gpcp_1dd_v1.2_p1d.20011225.tif"
       ]
      },
      {
       "output_type": "stream",
       "stream": "stdout",
       "text": [
        "\n",
        "D:\\Data\\gpcp_extent//gpcp_1dd_v1.2_p1d.20011226.tif"
       ]
      },
      {
       "output_type": "stream",
       "stream": "stdout",
       "text": [
        "\n",
        "D:\\Data\\gpcp_extent//gpcp_1dd_v1.2_p1d.20011227.tif"
       ]
      },
      {
       "output_type": "stream",
       "stream": "stdout",
       "text": [
        "\n",
        "D:\\Data\\gpcp_extent//gpcp_1dd_v1.2_p1d.20011228.tif"
       ]
      },
      {
       "output_type": "stream",
       "stream": "stdout",
       "text": [
        "\n",
        "D:\\Data\\gpcp_extent//gpcp_1dd_v1.2_p1d.20011229.tif"
       ]
      },
      {
       "output_type": "stream",
       "stream": "stdout",
       "text": [
        "\n",
        "D:\\Data\\gpcp_extent//gpcp_1dd_v1.2_p1d.20011230.tif"
       ]
      },
      {
       "output_type": "stream",
       "stream": "stdout",
       "text": [
        "\n",
        "D:\\Data\\gpcp_extent//gpcp_1dd_v1.2_p1d.20020100.tif"
       ]
      },
      {
       "output_type": "stream",
       "stream": "stdout",
       "text": [
        "\n",
        "D:\\Data\\gpcp_extent//gpcp_1dd_v1.2_p1d.20020101.tif"
       ]
      },
      {
       "output_type": "stream",
       "stream": "stdout",
       "text": [
        "\n",
        "D:\\Data\\gpcp_extent//gpcp_1dd_v1.2_p1d.20020102.tif"
       ]
      },
      {
       "output_type": "stream",
       "stream": "stdout",
       "text": [
        "\n",
        "D:\\Data\\gpcp_extent//gpcp_1dd_v1.2_p1d.20020103.tif"
       ]
      },
      {
       "output_type": "stream",
       "stream": "stdout",
       "text": [
        "\n",
        "D:\\Data\\gpcp_extent//gpcp_1dd_v1.2_p1d.20020104.tif"
       ]
      },
      {
       "output_type": "stream",
       "stream": "stdout",
       "text": [
        "\n",
        "D:\\Data\\gpcp_extent//gpcp_1dd_v1.2_p1d.20020105.tif"
       ]
      },
      {
       "output_type": "stream",
       "stream": "stdout",
       "text": [
        "\n",
        "D:\\Data\\gpcp_extent//gpcp_1dd_v1.2_p1d.20020106.tif"
       ]
      },
      {
       "output_type": "stream",
       "stream": "stdout",
       "text": [
        "\n",
        "D:\\Data\\gpcp_extent//gpcp_1dd_v1.2_p1d.20020107.tif"
       ]
      },
      {
       "output_type": "stream",
       "stream": "stdout",
       "text": [
        "\n",
        "D:\\Data\\gpcp_extent//gpcp_1dd_v1.2_p1d.20020108.tif"
       ]
      },
      {
       "output_type": "stream",
       "stream": "stdout",
       "text": [
        "\n",
        "D:\\Data\\gpcp_extent//gpcp_1dd_v1.2_p1d.20020109.tif"
       ]
      },
      {
       "output_type": "stream",
       "stream": "stdout",
       "text": [
        "\n",
        "D:\\Data\\gpcp_extent//gpcp_1dd_v1.2_p1d.20020110.tif"
       ]
      },
      {
       "output_type": "stream",
       "stream": "stdout",
       "text": [
        "\n",
        "D:\\Data\\gpcp_extent//gpcp_1dd_v1.2_p1d.20020111.tif"
       ]
      },
      {
       "output_type": "stream",
       "stream": "stdout",
       "text": [
        "\n",
        "D:\\Data\\gpcp_extent//gpcp_1dd_v1.2_p1d.20020112.tif"
       ]
      },
      {
       "output_type": "stream",
       "stream": "stdout",
       "text": [
        "\n",
        "D:\\Data\\gpcp_extent//gpcp_1dd_v1.2_p1d.20020113.tif"
       ]
      },
      {
       "output_type": "stream",
       "stream": "stdout",
       "text": [
        "\n",
        "D:\\Data\\gpcp_extent//gpcp_1dd_v1.2_p1d.20020114.tif"
       ]
      },
      {
       "output_type": "stream",
       "stream": "stdout",
       "text": [
        "\n",
        "D:\\Data\\gpcp_extent//gpcp_1dd_v1.2_p1d.20020115.tif"
       ]
      },
      {
       "output_type": "stream",
       "stream": "stdout",
       "text": [
        "\n",
        "D:\\Data\\gpcp_extent//gpcp_1dd_v1.2_p1d.20020116.tif"
       ]
      },
      {
       "output_type": "stream",
       "stream": "stdout",
       "text": [
        "\n",
        "D:\\Data\\gpcp_extent//gpcp_1dd_v1.2_p1d.20020117.tif"
       ]
      },
      {
       "output_type": "stream",
       "stream": "stdout",
       "text": [
        "\n",
        "D:\\Data\\gpcp_extent//gpcp_1dd_v1.2_p1d.20020118.tif"
       ]
      },
      {
       "output_type": "stream",
       "stream": "stdout",
       "text": [
        "\n",
        "D:\\Data\\gpcp_extent//gpcp_1dd_v1.2_p1d.20020119.tif"
       ]
      },
      {
       "output_type": "stream",
       "stream": "stdout",
       "text": [
        "\n",
        "D:\\Data\\gpcp_extent//gpcp_1dd_v1.2_p1d.20020120.tif"
       ]
      },
      {
       "output_type": "stream",
       "stream": "stdout",
       "text": [
        "\n",
        "D:\\Data\\gpcp_extent//gpcp_1dd_v1.2_p1d.20020121.tif"
       ]
      },
      {
       "output_type": "stream",
       "stream": "stdout",
       "text": [
        "\n",
        "D:\\Data\\gpcp_extent//gpcp_1dd_v1.2_p1d.20020122.tif"
       ]
      },
      {
       "output_type": "stream",
       "stream": "stdout",
       "text": [
        "\n",
        "D:\\Data\\gpcp_extent//gpcp_1dd_v1.2_p1d.20020123.tif"
       ]
      },
      {
       "output_type": "stream",
       "stream": "stdout",
       "text": [
        "\n",
        "D:\\Data\\gpcp_extent//gpcp_1dd_v1.2_p1d.20020124.tif"
       ]
      },
      {
       "output_type": "stream",
       "stream": "stdout",
       "text": [
        "\n",
        "D:\\Data\\gpcp_extent//gpcp_1dd_v1.2_p1d.20020125.tif"
       ]
      },
      {
       "output_type": "stream",
       "stream": "stdout",
       "text": [
        "\n",
        "D:\\Data\\gpcp_extent//gpcp_1dd_v1.2_p1d.20020126.tif"
       ]
      },
      {
       "output_type": "stream",
       "stream": "stdout",
       "text": [
        "\n",
        "D:\\Data\\gpcp_extent//gpcp_1dd_v1.2_p1d.20020127.tif"
       ]
      },
      {
       "output_type": "stream",
       "stream": "stdout",
       "text": [
        "\n",
        "D:\\Data\\gpcp_extent//gpcp_1dd_v1.2_p1d.20020128.tif"
       ]
      },
      {
       "output_type": "stream",
       "stream": "stdout",
       "text": [
        "\n",
        "D:\\Data\\gpcp_extent//gpcp_1dd_v1.2_p1d.20020129.tif"
       ]
      },
      {
       "output_type": "stream",
       "stream": "stdout",
       "text": [
        "\n",
        "D:\\Data\\gpcp_extent//gpcp_1dd_v1.2_p1d.20020130.tif"
       ]
      },
      {
       "output_type": "stream",
       "stream": "stdout",
       "text": [
        "\n",
        "D:\\Data\\gpcp_extent//gpcp_1dd_v1.2_p1d.20020200.tif"
       ]
      },
      {
       "output_type": "stream",
       "stream": "stdout",
       "text": [
        "\n",
        "D:\\Data\\gpcp_extent//gpcp_1dd_v1.2_p1d.20020201.tif"
       ]
      },
      {
       "output_type": "stream",
       "stream": "stdout",
       "text": [
        "\n",
        "D:\\Data\\gpcp_extent//gpcp_1dd_v1.2_p1d.20020202.tif"
       ]
      },
      {
       "output_type": "stream",
       "stream": "stdout",
       "text": [
        "\n",
        "D:\\Data\\gpcp_extent//gpcp_1dd_v1.2_p1d.20020203.tif"
       ]
      },
      {
       "output_type": "stream",
       "stream": "stdout",
       "text": [
        "\n",
        "D:\\Data\\gpcp_extent//gpcp_1dd_v1.2_p1d.20020204.tif"
       ]
      },
      {
       "output_type": "stream",
       "stream": "stdout",
       "text": [
        "\n",
        "D:\\Data\\gpcp_extent//gpcp_1dd_v1.2_p1d.20020205.tif"
       ]
      },
      {
       "output_type": "stream",
       "stream": "stdout",
       "text": [
        "\n",
        "D:\\Data\\gpcp_extent//gpcp_1dd_v1.2_p1d.20020206.tif"
       ]
      },
      {
       "output_type": "stream",
       "stream": "stdout",
       "text": [
        "\n",
        "D:\\Data\\gpcp_extent//gpcp_1dd_v1.2_p1d.20020207.tif"
       ]
      },
      {
       "output_type": "stream",
       "stream": "stdout",
       "text": [
        "\n",
        "D:\\Data\\gpcp_extent//gpcp_1dd_v1.2_p1d.20020208.tif"
       ]
      },
      {
       "output_type": "stream",
       "stream": "stdout",
       "text": [
        "\n",
        "D:\\Data\\gpcp_extent//gpcp_1dd_v1.2_p1d.20020209.tif"
       ]
      },
      {
       "output_type": "stream",
       "stream": "stdout",
       "text": [
        "\n",
        "D:\\Data\\gpcp_extent//gpcp_1dd_v1.2_p1d.20020210.tif"
       ]
      },
      {
       "output_type": "stream",
       "stream": "stdout",
       "text": [
        "\n",
        "D:\\Data\\gpcp_extent//gpcp_1dd_v1.2_p1d.20020211.tif"
       ]
      },
      {
       "output_type": "stream",
       "stream": "stdout",
       "text": [
        "\n",
        "D:\\Data\\gpcp_extent//gpcp_1dd_v1.2_p1d.20020212.tif"
       ]
      },
      {
       "output_type": "stream",
       "stream": "stdout",
       "text": [
        "\n",
        "D:\\Data\\gpcp_extent//gpcp_1dd_v1.2_p1d.20020213.tif"
       ]
      },
      {
       "output_type": "stream",
       "stream": "stdout",
       "text": [
        "\n",
        "D:\\Data\\gpcp_extent//gpcp_1dd_v1.2_p1d.20020214.tif"
       ]
      },
      {
       "output_type": "stream",
       "stream": "stdout",
       "text": [
        "\n",
        "D:\\Data\\gpcp_extent//gpcp_1dd_v1.2_p1d.20020215.tif"
       ]
      },
      {
       "output_type": "stream",
       "stream": "stdout",
       "text": [
        "\n",
        "D:\\Data\\gpcp_extent//gpcp_1dd_v1.2_p1d.20020216.tif"
       ]
      },
      {
       "output_type": "stream",
       "stream": "stdout",
       "text": [
        "\n",
        "D:\\Data\\gpcp_extent//gpcp_1dd_v1.2_p1d.20020217.tif"
       ]
      },
      {
       "output_type": "stream",
       "stream": "stdout",
       "text": [
        "\n",
        "D:\\Data\\gpcp_extent//gpcp_1dd_v1.2_p1d.20020218.tif"
       ]
      },
      {
       "output_type": "stream",
       "stream": "stdout",
       "text": [
        "\n",
        "D:\\Data\\gpcp_extent//gpcp_1dd_v1.2_p1d.20020219.tif"
       ]
      },
      {
       "output_type": "stream",
       "stream": "stdout",
       "text": [
        "\n",
        "D:\\Data\\gpcp_extent//gpcp_1dd_v1.2_p1d.20020220.tif"
       ]
      },
      {
       "output_type": "stream",
       "stream": "stdout",
       "text": [
        "\n",
        "D:\\Data\\gpcp_extent//gpcp_1dd_v1.2_p1d.20020221.tif"
       ]
      },
      {
       "output_type": "stream",
       "stream": "stdout",
       "text": [
        "\n",
        "D:\\Data\\gpcp_extent//gpcp_1dd_v1.2_p1d.20020222.tif"
       ]
      },
      {
       "output_type": "stream",
       "stream": "stdout",
       "text": [
        "\n",
        "D:\\Data\\gpcp_extent//gpcp_1dd_v1.2_p1d.20020223.tif"
       ]
      },
      {
       "output_type": "stream",
       "stream": "stdout",
       "text": [
        "\n",
        "D:\\Data\\gpcp_extent//gpcp_1dd_v1.2_p1d.20020224.tif"
       ]
      },
      {
       "output_type": "stream",
       "stream": "stdout",
       "text": [
        "\n",
        "D:\\Data\\gpcp_extent//gpcp_1dd_v1.2_p1d.20020225.tif"
       ]
      },
      {
       "output_type": "stream",
       "stream": "stdout",
       "text": [
        "\n",
        "D:\\Data\\gpcp_extent//gpcp_1dd_v1.2_p1d.20020226.tif"
       ]
      },
      {
       "output_type": "stream",
       "stream": "stdout",
       "text": [
        "\n",
        "D:\\Data\\gpcp_extent//gpcp_1dd_v1.2_p1d.20020227.tif"
       ]
      },
      {
       "output_type": "stream",
       "stream": "stdout",
       "text": [
        "\n",
        "D:\\Data\\gpcp_extent//gpcp_1dd_v1.2_p1d.20020300.tif"
       ]
      },
      {
       "output_type": "stream",
       "stream": "stdout",
       "text": [
        "\n",
        "D:\\Data\\gpcp_extent//gpcp_1dd_v1.2_p1d.20020301.tif"
       ]
      },
      {
       "output_type": "stream",
       "stream": "stdout",
       "text": [
        "\n",
        "D:\\Data\\gpcp_extent//gpcp_1dd_v1.2_p1d.20020302.tif"
       ]
      },
      {
       "output_type": "stream",
       "stream": "stdout",
       "text": [
        "\n",
        "D:\\Data\\gpcp_extent//gpcp_1dd_v1.2_p1d.20020303.tif"
       ]
      },
      {
       "output_type": "stream",
       "stream": "stdout",
       "text": [
        "\n",
        "D:\\Data\\gpcp_extent//gpcp_1dd_v1.2_p1d.20020304.tif"
       ]
      },
      {
       "output_type": "stream",
       "stream": "stdout",
       "text": [
        "\n",
        "D:\\Data\\gpcp_extent//gpcp_1dd_v1.2_p1d.20020305.tif"
       ]
      },
      {
       "output_type": "stream",
       "stream": "stdout",
       "text": [
        "\n",
        "D:\\Data\\gpcp_extent//gpcp_1dd_v1.2_p1d.20020306.tif"
       ]
      },
      {
       "output_type": "stream",
       "stream": "stdout",
       "text": [
        "\n",
        "D:\\Data\\gpcp_extent//gpcp_1dd_v1.2_p1d.20020307.tif"
       ]
      },
      {
       "output_type": "stream",
       "stream": "stdout",
       "text": [
        "\n",
        "D:\\Data\\gpcp_extent//gpcp_1dd_v1.2_p1d.20020308.tif"
       ]
      },
      {
       "output_type": "stream",
       "stream": "stdout",
       "text": [
        "\n",
        "D:\\Data\\gpcp_extent//gpcp_1dd_v1.2_p1d.20020309.tif"
       ]
      },
      {
       "output_type": "stream",
       "stream": "stdout",
       "text": [
        "\n",
        "D:\\Data\\gpcp_extent//gpcp_1dd_v1.2_p1d.20020310.tif"
       ]
      },
      {
       "output_type": "stream",
       "stream": "stdout",
       "text": [
        "\n",
        "D:\\Data\\gpcp_extent//gpcp_1dd_v1.2_p1d.20020311.tif"
       ]
      },
      {
       "output_type": "stream",
       "stream": "stdout",
       "text": [
        "\n",
        "D:\\Data\\gpcp_extent//gpcp_1dd_v1.2_p1d.20020312.tif"
       ]
      },
      {
       "output_type": "stream",
       "stream": "stdout",
       "text": [
        "\n",
        "D:\\Data\\gpcp_extent//gpcp_1dd_v1.2_p1d.20020313.tif"
       ]
      },
      {
       "output_type": "stream",
       "stream": "stdout",
       "text": [
        "\n",
        "D:\\Data\\gpcp_extent//gpcp_1dd_v1.2_p1d.20020314.tif"
       ]
      },
      {
       "output_type": "stream",
       "stream": "stdout",
       "text": [
        "\n",
        "D:\\Data\\gpcp_extent//gpcp_1dd_v1.2_p1d.20020315.tif"
       ]
      },
      {
       "output_type": "stream",
       "stream": "stdout",
       "text": [
        "\n",
        "D:\\Data\\gpcp_extent//gpcp_1dd_v1.2_p1d.20020316.tif"
       ]
      },
      {
       "output_type": "stream",
       "stream": "stdout",
       "text": [
        "\n",
        "D:\\Data\\gpcp_extent//gpcp_1dd_v1.2_p1d.20020317.tif"
       ]
      },
      {
       "output_type": "stream",
       "stream": "stdout",
       "text": [
        "\n",
        "D:\\Data\\gpcp_extent//gpcp_1dd_v1.2_p1d.20020318.tif"
       ]
      },
      {
       "output_type": "stream",
       "stream": "stdout",
       "text": [
        "\n",
        "D:\\Data\\gpcp_extent//gpcp_1dd_v1.2_p1d.20020319.tif"
       ]
      },
      {
       "output_type": "stream",
       "stream": "stdout",
       "text": [
        "\n",
        "D:\\Data\\gpcp_extent//gpcp_1dd_v1.2_p1d.20020320.tif"
       ]
      },
      {
       "output_type": "stream",
       "stream": "stdout",
       "text": [
        "\n",
        "D:\\Data\\gpcp_extent//gpcp_1dd_v1.2_p1d.20020321.tif"
       ]
      },
      {
       "output_type": "stream",
       "stream": "stdout",
       "text": [
        "\n",
        "D:\\Data\\gpcp_extent//gpcp_1dd_v1.2_p1d.20020322.tif"
       ]
      },
      {
       "output_type": "stream",
       "stream": "stdout",
       "text": [
        "\n",
        "D:\\Data\\gpcp_extent//gpcp_1dd_v1.2_p1d.20020323.tif"
       ]
      },
      {
       "output_type": "stream",
       "stream": "stdout",
       "text": [
        "\n",
        "D:\\Data\\gpcp_extent//gpcp_1dd_v1.2_p1d.20020324.tif"
       ]
      },
      {
       "output_type": "stream",
       "stream": "stdout",
       "text": [
        "\n",
        "D:\\Data\\gpcp_extent//gpcp_1dd_v1.2_p1d.20020325.tif"
       ]
      },
      {
       "output_type": "stream",
       "stream": "stdout",
       "text": [
        "\n",
        "D:\\Data\\gpcp_extent//gpcp_1dd_v1.2_p1d.20020326.tif"
       ]
      },
      {
       "output_type": "stream",
       "stream": "stdout",
       "text": [
        "\n",
        "D:\\Data\\gpcp_extent//gpcp_1dd_v1.2_p1d.20020327.tif"
       ]
      },
      {
       "output_type": "stream",
       "stream": "stdout",
       "text": [
        "\n",
        "D:\\Data\\gpcp_extent//gpcp_1dd_v1.2_p1d.20020328.tif"
       ]
      },
      {
       "output_type": "stream",
       "stream": "stdout",
       "text": [
        "\n",
        "D:\\Data\\gpcp_extent//gpcp_1dd_v1.2_p1d.20020329.tif"
       ]
      },
      {
       "output_type": "stream",
       "stream": "stdout",
       "text": [
        "\n",
        "D:\\Data\\gpcp_extent//gpcp_1dd_v1.2_p1d.20020330.tif"
       ]
      },
      {
       "output_type": "stream",
       "stream": "stdout",
       "text": [
        "\n",
        "D:\\Data\\gpcp_extent//gpcp_1dd_v1.2_p1d.20020400.tif"
       ]
      },
      {
       "output_type": "stream",
       "stream": "stdout",
       "text": [
        "\n",
        "D:\\Data\\gpcp_extent//gpcp_1dd_v1.2_p1d.20020401.tif"
       ]
      },
      {
       "output_type": "stream",
       "stream": "stdout",
       "text": [
        "\n",
        "D:\\Data\\gpcp_extent//gpcp_1dd_v1.2_p1d.20020402.tif"
       ]
      },
      {
       "output_type": "stream",
       "stream": "stdout",
       "text": [
        "\n",
        "D:\\Data\\gpcp_extent//gpcp_1dd_v1.2_p1d.20020403.tif"
       ]
      },
      {
       "output_type": "stream",
       "stream": "stdout",
       "text": [
        "\n",
        "D:\\Data\\gpcp_extent//gpcp_1dd_v1.2_p1d.20020404.tif"
       ]
      },
      {
       "output_type": "stream",
       "stream": "stdout",
       "text": [
        "\n",
        "D:\\Data\\gpcp_extent//gpcp_1dd_v1.2_p1d.20020405.tif"
       ]
      },
      {
       "output_type": "stream",
       "stream": "stdout",
       "text": [
        "\n",
        "D:\\Data\\gpcp_extent//gpcp_1dd_v1.2_p1d.20020406.tif"
       ]
      },
      {
       "output_type": "stream",
       "stream": "stdout",
       "text": [
        "\n",
        "D:\\Data\\gpcp_extent//gpcp_1dd_v1.2_p1d.20020407.tif"
       ]
      },
      {
       "output_type": "stream",
       "stream": "stdout",
       "text": [
        "\n",
        "D:\\Data\\gpcp_extent//gpcp_1dd_v1.2_p1d.20020408.tif"
       ]
      },
      {
       "output_type": "stream",
       "stream": "stdout",
       "text": [
        "\n",
        "D:\\Data\\gpcp_extent//gpcp_1dd_v1.2_p1d.20020409.tif"
       ]
      },
      {
       "output_type": "stream",
       "stream": "stdout",
       "text": [
        "\n",
        "D:\\Data\\gpcp_extent//gpcp_1dd_v1.2_p1d.20020410.tif"
       ]
      },
      {
       "output_type": "stream",
       "stream": "stdout",
       "text": [
        "\n",
        "D:\\Data\\gpcp_extent//gpcp_1dd_v1.2_p1d.20020411.tif"
       ]
      },
      {
       "output_type": "stream",
       "stream": "stdout",
       "text": [
        "\n",
        "D:\\Data\\gpcp_extent//gpcp_1dd_v1.2_p1d.20020412.tif"
       ]
      },
      {
       "output_type": "stream",
       "stream": "stdout",
       "text": [
        "\n",
        "D:\\Data\\gpcp_extent//gpcp_1dd_v1.2_p1d.20020413.tif"
       ]
      },
      {
       "output_type": "stream",
       "stream": "stdout",
       "text": [
        "\n",
        "D:\\Data\\gpcp_extent//gpcp_1dd_v1.2_p1d.20020414.tif"
       ]
      },
      {
       "output_type": "stream",
       "stream": "stdout",
       "text": [
        "\n",
        "D:\\Data\\gpcp_extent//gpcp_1dd_v1.2_p1d.20020415.tif"
       ]
      },
      {
       "output_type": "stream",
       "stream": "stdout",
       "text": [
        "\n",
        "D:\\Data\\gpcp_extent//gpcp_1dd_v1.2_p1d.20020416.tif"
       ]
      },
      {
       "output_type": "stream",
       "stream": "stdout",
       "text": [
        "\n",
        "D:\\Data\\gpcp_extent//gpcp_1dd_v1.2_p1d.20020417.tif"
       ]
      },
      {
       "output_type": "stream",
       "stream": "stdout",
       "text": [
        "\n",
        "D:\\Data\\gpcp_extent//gpcp_1dd_v1.2_p1d.20020418.tif"
       ]
      },
      {
       "output_type": "stream",
       "stream": "stdout",
       "text": [
        "\n",
        "D:\\Data\\gpcp_extent//gpcp_1dd_v1.2_p1d.20020419.tif"
       ]
      },
      {
       "output_type": "stream",
       "stream": "stdout",
       "text": [
        "\n",
        "D:\\Data\\gpcp_extent//gpcp_1dd_v1.2_p1d.20020420.tif"
       ]
      },
      {
       "output_type": "stream",
       "stream": "stdout",
       "text": [
        "\n",
        "D:\\Data\\gpcp_extent//gpcp_1dd_v1.2_p1d.20020421.tif"
       ]
      },
      {
       "output_type": "stream",
       "stream": "stdout",
       "text": [
        "\n",
        "D:\\Data\\gpcp_extent//gpcp_1dd_v1.2_p1d.20020422.tif"
       ]
      },
      {
       "output_type": "stream",
       "stream": "stdout",
       "text": [
        "\n",
        "D:\\Data\\gpcp_extent//gpcp_1dd_v1.2_p1d.20020423.tif"
       ]
      },
      {
       "output_type": "stream",
       "stream": "stdout",
       "text": [
        "\n",
        "D:\\Data\\gpcp_extent//gpcp_1dd_v1.2_p1d.20020424.tif"
       ]
      },
      {
       "output_type": "stream",
       "stream": "stdout",
       "text": [
        "\n",
        "D:\\Data\\gpcp_extent//gpcp_1dd_v1.2_p1d.20020425.tif"
       ]
      },
      {
       "output_type": "stream",
       "stream": "stdout",
       "text": [
        "\n",
        "D:\\Data\\gpcp_extent//gpcp_1dd_v1.2_p1d.20020426.tif"
       ]
      },
      {
       "output_type": "stream",
       "stream": "stdout",
       "text": [
        "\n",
        "D:\\Data\\gpcp_extent//gpcp_1dd_v1.2_p1d.20020427.tif"
       ]
      },
      {
       "output_type": "stream",
       "stream": "stdout",
       "text": [
        "\n",
        "D:\\Data\\gpcp_extent//gpcp_1dd_v1.2_p1d.20020428.tif"
       ]
      },
      {
       "output_type": "stream",
       "stream": "stdout",
       "text": [
        "\n",
        "D:\\Data\\gpcp_extent//gpcp_1dd_v1.2_p1d.20020429.tif"
       ]
      },
      {
       "output_type": "stream",
       "stream": "stdout",
       "text": [
        "\n",
        "D:\\Data\\gpcp_extent//gpcp_1dd_v1.2_p1d.20020500.tif"
       ]
      },
      {
       "output_type": "stream",
       "stream": "stdout",
       "text": [
        "\n",
        "D:\\Data\\gpcp_extent//gpcp_1dd_v1.2_p1d.20020501.tif"
       ]
      },
      {
       "output_type": "stream",
       "stream": "stdout",
       "text": [
        "\n",
        "D:\\Data\\gpcp_extent//gpcp_1dd_v1.2_p1d.20020502.tif"
       ]
      },
      {
       "output_type": "stream",
       "stream": "stdout",
       "text": [
        "\n",
        "D:\\Data\\gpcp_extent//gpcp_1dd_v1.2_p1d.20020503.tif"
       ]
      },
      {
       "output_type": "stream",
       "stream": "stdout",
       "text": [
        "\n",
        "D:\\Data\\gpcp_extent//gpcp_1dd_v1.2_p1d.20020504.tif"
       ]
      },
      {
       "output_type": "stream",
       "stream": "stdout",
       "text": [
        "\n",
        "D:\\Data\\gpcp_extent//gpcp_1dd_v1.2_p1d.20020505.tif"
       ]
      },
      {
       "output_type": "stream",
       "stream": "stdout",
       "text": [
        "\n",
        "D:\\Data\\gpcp_extent//gpcp_1dd_v1.2_p1d.20020506.tif"
       ]
      },
      {
       "output_type": "stream",
       "stream": "stdout",
       "text": [
        "\n",
        "D:\\Data\\gpcp_extent//gpcp_1dd_v1.2_p1d.20020507.tif"
       ]
      },
      {
       "output_type": "stream",
       "stream": "stdout",
       "text": [
        "\n",
        "D:\\Data\\gpcp_extent//gpcp_1dd_v1.2_p1d.20020508.tif"
       ]
      },
      {
       "output_type": "stream",
       "stream": "stdout",
       "text": [
        "\n",
        "D:\\Data\\gpcp_extent//gpcp_1dd_v1.2_p1d.20020509.tif"
       ]
      },
      {
       "output_type": "stream",
       "stream": "stdout",
       "text": [
        "\n",
        "D:\\Data\\gpcp_extent//gpcp_1dd_v1.2_p1d.20020510.tif"
       ]
      },
      {
       "output_type": "stream",
       "stream": "stdout",
       "text": [
        "\n",
        "D:\\Data\\gpcp_extent//gpcp_1dd_v1.2_p1d.20020511.tif"
       ]
      },
      {
       "output_type": "stream",
       "stream": "stdout",
       "text": [
        "\n",
        "D:\\Data\\gpcp_extent//gpcp_1dd_v1.2_p1d.20020512.tif"
       ]
      },
      {
       "output_type": "stream",
       "stream": "stdout",
       "text": [
        "\n",
        "D:\\Data\\gpcp_extent//gpcp_1dd_v1.2_p1d.20020513.tif"
       ]
      },
      {
       "output_type": "stream",
       "stream": "stdout",
       "text": [
        "\n",
        "D:\\Data\\gpcp_extent//gpcp_1dd_v1.2_p1d.20020514.tif"
       ]
      },
      {
       "output_type": "stream",
       "stream": "stdout",
       "text": [
        "\n",
        "D:\\Data\\gpcp_extent//gpcp_1dd_v1.2_p1d.20020515.tif"
       ]
      },
      {
       "output_type": "stream",
       "stream": "stdout",
       "text": [
        "\n",
        "D:\\Data\\gpcp_extent//gpcp_1dd_v1.2_p1d.20020516.tif"
       ]
      },
      {
       "output_type": "stream",
       "stream": "stdout",
       "text": [
        "\n",
        "D:\\Data\\gpcp_extent//gpcp_1dd_v1.2_p1d.20020517.tif"
       ]
      },
      {
       "output_type": "stream",
       "stream": "stdout",
       "text": [
        "\n",
        "D:\\Data\\gpcp_extent//gpcp_1dd_v1.2_p1d.20020518.tif"
       ]
      },
      {
       "output_type": "stream",
       "stream": "stdout",
       "text": [
        "\n",
        "D:\\Data\\gpcp_extent//gpcp_1dd_v1.2_p1d.20020519.tif"
       ]
      },
      {
       "output_type": "stream",
       "stream": "stdout",
       "text": [
        "\n",
        "D:\\Data\\gpcp_extent//gpcp_1dd_v1.2_p1d.20020520.tif"
       ]
      },
      {
       "output_type": "stream",
       "stream": "stdout",
       "text": [
        "\n",
        "D:\\Data\\gpcp_extent//gpcp_1dd_v1.2_p1d.20020521.tif"
       ]
      },
      {
       "output_type": "stream",
       "stream": "stdout",
       "text": [
        "\n",
        "D:\\Data\\gpcp_extent//gpcp_1dd_v1.2_p1d.20020522.tif"
       ]
      },
      {
       "output_type": "stream",
       "stream": "stdout",
       "text": [
        "\n",
        "D:\\Data\\gpcp_extent//gpcp_1dd_v1.2_p1d.20020523.tif"
       ]
      },
      {
       "output_type": "stream",
       "stream": "stdout",
       "text": [
        "\n",
        "D:\\Data\\gpcp_extent//gpcp_1dd_v1.2_p1d.20020524.tif"
       ]
      },
      {
       "output_type": "stream",
       "stream": "stdout",
       "text": [
        "\n",
        "D:\\Data\\gpcp_extent//gpcp_1dd_v1.2_p1d.20020525.tif"
       ]
      },
      {
       "output_type": "stream",
       "stream": "stdout",
       "text": [
        "\n",
        "D:\\Data\\gpcp_extent//gpcp_1dd_v1.2_p1d.20020526.tif"
       ]
      },
      {
       "output_type": "stream",
       "stream": "stdout",
       "text": [
        "\n",
        "D:\\Data\\gpcp_extent//gpcp_1dd_v1.2_p1d.20020527.tif"
       ]
      },
      {
       "output_type": "stream",
       "stream": "stdout",
       "text": [
        "\n",
        "D:\\Data\\gpcp_extent//gpcp_1dd_v1.2_p1d.20020528.tif"
       ]
      },
      {
       "output_type": "stream",
       "stream": "stdout",
       "text": [
        "\n",
        "D:\\Data\\gpcp_extent//gpcp_1dd_v1.2_p1d.20020529.tif"
       ]
      },
      {
       "output_type": "stream",
       "stream": "stdout",
       "text": [
        "\n",
        "D:\\Data\\gpcp_extent//gpcp_1dd_v1.2_p1d.20020530.tif"
       ]
      },
      {
       "output_type": "stream",
       "stream": "stdout",
       "text": [
        "\n",
        "D:\\Data\\gpcp_extent//gpcp_1dd_v1.2_p1d.20020600.tif"
       ]
      },
      {
       "output_type": "stream",
       "stream": "stdout",
       "text": [
        "\n",
        "D:\\Data\\gpcp_extent//gpcp_1dd_v1.2_p1d.20020601.tif"
       ]
      },
      {
       "output_type": "stream",
       "stream": "stdout",
       "text": [
        "\n",
        "D:\\Data\\gpcp_extent//gpcp_1dd_v1.2_p1d.20020602.tif"
       ]
      },
      {
       "output_type": "stream",
       "stream": "stdout",
       "text": [
        "\n",
        "D:\\Data\\gpcp_extent//gpcp_1dd_v1.2_p1d.20020603.tif"
       ]
      },
      {
       "output_type": "stream",
       "stream": "stdout",
       "text": [
        "\n",
        "D:\\Data\\gpcp_extent//gpcp_1dd_v1.2_p1d.20020604.tif"
       ]
      },
      {
       "output_type": "stream",
       "stream": "stdout",
       "text": [
        "\n",
        "D:\\Data\\gpcp_extent//gpcp_1dd_v1.2_p1d.20020605.tif"
       ]
      },
      {
       "output_type": "stream",
       "stream": "stdout",
       "text": [
        "\n",
        "D:\\Data\\gpcp_extent//gpcp_1dd_v1.2_p1d.20020606.tif"
       ]
      },
      {
       "output_type": "stream",
       "stream": "stdout",
       "text": [
        "\n",
        "D:\\Data\\gpcp_extent//gpcp_1dd_v1.2_p1d.20020607.tif"
       ]
      },
      {
       "output_type": "stream",
       "stream": "stdout",
       "text": [
        "\n",
        "D:\\Data\\gpcp_extent//gpcp_1dd_v1.2_p1d.20020608.tif"
       ]
      },
      {
       "output_type": "stream",
       "stream": "stdout",
       "text": [
        "\n",
        "D:\\Data\\gpcp_extent//gpcp_1dd_v1.2_p1d.20020609.tif"
       ]
      },
      {
       "output_type": "stream",
       "stream": "stdout",
       "text": [
        "\n",
        "D:\\Data\\gpcp_extent//gpcp_1dd_v1.2_p1d.20020610.tif"
       ]
      },
      {
       "output_type": "stream",
       "stream": "stdout",
       "text": [
        "\n",
        "D:\\Data\\gpcp_extent//gpcp_1dd_v1.2_p1d.20020611.tif"
       ]
      },
      {
       "output_type": "stream",
       "stream": "stdout",
       "text": [
        "\n",
        "D:\\Data\\gpcp_extent//gpcp_1dd_v1.2_p1d.20020612.tif"
       ]
      },
      {
       "output_type": "stream",
       "stream": "stdout",
       "text": [
        "\n",
        "D:\\Data\\gpcp_extent//gpcp_1dd_v1.2_p1d.20020613.tif"
       ]
      },
      {
       "output_type": "stream",
       "stream": "stdout",
       "text": [
        "\n",
        "D:\\Data\\gpcp_extent//gpcp_1dd_v1.2_p1d.20020614.tif"
       ]
      },
      {
       "output_type": "stream",
       "stream": "stdout",
       "text": [
        "\n",
        "D:\\Data\\gpcp_extent//gpcp_1dd_v1.2_p1d.20020615.tif"
       ]
      },
      {
       "output_type": "stream",
       "stream": "stdout",
       "text": [
        "\n",
        "D:\\Data\\gpcp_extent//gpcp_1dd_v1.2_p1d.20020616.tif"
       ]
      },
      {
       "output_type": "stream",
       "stream": "stdout",
       "text": [
        "\n",
        "D:\\Data\\gpcp_extent//gpcp_1dd_v1.2_p1d.20020617.tif"
       ]
      },
      {
       "output_type": "stream",
       "stream": "stdout",
       "text": [
        "\n",
        "D:\\Data\\gpcp_extent//gpcp_1dd_v1.2_p1d.20020618.tif"
       ]
      },
      {
       "output_type": "stream",
       "stream": "stdout",
       "text": [
        "\n",
        "D:\\Data\\gpcp_extent//gpcp_1dd_v1.2_p1d.20020619.tif"
       ]
      },
      {
       "output_type": "stream",
       "stream": "stdout",
       "text": [
        "\n",
        "D:\\Data\\gpcp_extent//gpcp_1dd_v1.2_p1d.20020620.tif"
       ]
      },
      {
       "output_type": "stream",
       "stream": "stdout",
       "text": [
        "\n",
        "D:\\Data\\gpcp_extent//gpcp_1dd_v1.2_p1d.20020621.tif"
       ]
      },
      {
       "output_type": "stream",
       "stream": "stdout",
       "text": [
        "\n",
        "D:\\Data\\gpcp_extent//gpcp_1dd_v1.2_p1d.20020622.tif"
       ]
      },
      {
       "output_type": "stream",
       "stream": "stdout",
       "text": [
        "\n",
        "D:\\Data\\gpcp_extent//gpcp_1dd_v1.2_p1d.20020623.tif"
       ]
      },
      {
       "output_type": "stream",
       "stream": "stdout",
       "text": [
        "\n",
        "D:\\Data\\gpcp_extent//gpcp_1dd_v1.2_p1d.20020624.tif"
       ]
      },
      {
       "output_type": "stream",
       "stream": "stdout",
       "text": [
        "\n",
        "D:\\Data\\gpcp_extent//gpcp_1dd_v1.2_p1d.20020625.tif"
       ]
      },
      {
       "output_type": "stream",
       "stream": "stdout",
       "text": [
        "\n",
        "D:\\Data\\gpcp_extent//gpcp_1dd_v1.2_p1d.20020626.tif"
       ]
      },
      {
       "output_type": "stream",
       "stream": "stdout",
       "text": [
        "\n",
        "D:\\Data\\gpcp_extent//gpcp_1dd_v1.2_p1d.20020627.tif"
       ]
      },
      {
       "output_type": "stream",
       "stream": "stdout",
       "text": [
        "\n",
        "D:\\Data\\gpcp_extent//gpcp_1dd_v1.2_p1d.20020628.tif"
       ]
      },
      {
       "output_type": "stream",
       "stream": "stdout",
       "text": [
        "\n",
        "D:\\Data\\gpcp_extent//gpcp_1dd_v1.2_p1d.20020629.tif"
       ]
      },
      {
       "output_type": "stream",
       "stream": "stdout",
       "text": [
        "\n",
        "D:\\Data\\gpcp_extent//gpcp_1dd_v1.2_p1d.20020700.tif"
       ]
      },
      {
       "output_type": "stream",
       "stream": "stdout",
       "text": [
        "\n",
        "D:\\Data\\gpcp_extent//gpcp_1dd_v1.2_p1d.20020701.tif"
       ]
      },
      {
       "output_type": "stream",
       "stream": "stdout",
       "text": [
        "\n",
        "D:\\Data\\gpcp_extent//gpcp_1dd_v1.2_p1d.20020702.tif"
       ]
      },
      {
       "output_type": "stream",
       "stream": "stdout",
       "text": [
        "\n",
        "D:\\Data\\gpcp_extent//gpcp_1dd_v1.2_p1d.20020703.tif"
       ]
      },
      {
       "output_type": "stream",
       "stream": "stdout",
       "text": [
        "\n",
        "D:\\Data\\gpcp_extent//gpcp_1dd_v1.2_p1d.20020704.tif"
       ]
      },
      {
       "output_type": "stream",
       "stream": "stdout",
       "text": [
        "\n",
        "D:\\Data\\gpcp_extent//gpcp_1dd_v1.2_p1d.20020705.tif"
       ]
      },
      {
       "output_type": "stream",
       "stream": "stdout",
       "text": [
        "\n",
        "D:\\Data\\gpcp_extent//gpcp_1dd_v1.2_p1d.20020706.tif"
       ]
      },
      {
       "output_type": "stream",
       "stream": "stdout",
       "text": [
        "\n",
        "D:\\Data\\gpcp_extent//gpcp_1dd_v1.2_p1d.20020707.tif"
       ]
      },
      {
       "output_type": "stream",
       "stream": "stdout",
       "text": [
        "\n",
        "D:\\Data\\gpcp_extent//gpcp_1dd_v1.2_p1d.20020708.tif"
       ]
      },
      {
       "output_type": "stream",
       "stream": "stdout",
       "text": [
        "\n",
        "D:\\Data\\gpcp_extent//gpcp_1dd_v1.2_p1d.20020709.tif"
       ]
      },
      {
       "output_type": "stream",
       "stream": "stdout",
       "text": [
        "\n",
        "D:\\Data\\gpcp_extent//gpcp_1dd_v1.2_p1d.20020710.tif"
       ]
      },
      {
       "output_type": "stream",
       "stream": "stdout",
       "text": [
        "\n",
        "D:\\Data\\gpcp_extent//gpcp_1dd_v1.2_p1d.20020711.tif"
       ]
      },
      {
       "output_type": "stream",
       "stream": "stdout",
       "text": [
        "\n",
        "D:\\Data\\gpcp_extent//gpcp_1dd_v1.2_p1d.20020712.tif"
       ]
      },
      {
       "output_type": "stream",
       "stream": "stdout",
       "text": [
        "\n",
        "D:\\Data\\gpcp_extent//gpcp_1dd_v1.2_p1d.20020713.tif"
       ]
      },
      {
       "output_type": "stream",
       "stream": "stdout",
       "text": [
        "\n",
        "D:\\Data\\gpcp_extent//gpcp_1dd_v1.2_p1d.20020714.tif"
       ]
      },
      {
       "output_type": "stream",
       "stream": "stdout",
       "text": [
        "\n",
        "D:\\Data\\gpcp_extent//gpcp_1dd_v1.2_p1d.20020715.tif"
       ]
      },
      {
       "output_type": "stream",
       "stream": "stdout",
       "text": [
        "\n",
        "D:\\Data\\gpcp_extent//gpcp_1dd_v1.2_p1d.20020716.tif"
       ]
      },
      {
       "output_type": "stream",
       "stream": "stdout",
       "text": [
        "\n",
        "D:\\Data\\gpcp_extent//gpcp_1dd_v1.2_p1d.20020717.tif"
       ]
      },
      {
       "output_type": "stream",
       "stream": "stdout",
       "text": [
        "\n",
        "D:\\Data\\gpcp_extent//gpcp_1dd_v1.2_p1d.20020718.tif"
       ]
      },
      {
       "output_type": "stream",
       "stream": "stdout",
       "text": [
        "\n",
        "D:\\Data\\gpcp_extent//gpcp_1dd_v1.2_p1d.20020719.tif"
       ]
      },
      {
       "output_type": "stream",
       "stream": "stdout",
       "text": [
        "\n",
        "D:\\Data\\gpcp_extent//gpcp_1dd_v1.2_p1d.20020720.tif"
       ]
      },
      {
       "output_type": "stream",
       "stream": "stdout",
       "text": [
        "\n",
        "D:\\Data\\gpcp_extent//gpcp_1dd_v1.2_p1d.20020721.tif"
       ]
      },
      {
       "output_type": "stream",
       "stream": "stdout",
       "text": [
        "\n",
        "D:\\Data\\gpcp_extent//gpcp_1dd_v1.2_p1d.20020722.tif"
       ]
      },
      {
       "output_type": "stream",
       "stream": "stdout",
       "text": [
        "\n",
        "D:\\Data\\gpcp_extent//gpcp_1dd_v1.2_p1d.20020723.tif"
       ]
      },
      {
       "output_type": "stream",
       "stream": "stdout",
       "text": [
        "\n",
        "D:\\Data\\gpcp_extent//gpcp_1dd_v1.2_p1d.20020724.tif"
       ]
      },
      {
       "output_type": "stream",
       "stream": "stdout",
       "text": [
        "\n",
        "D:\\Data\\gpcp_extent//gpcp_1dd_v1.2_p1d.20020725.tif"
       ]
      },
      {
       "output_type": "stream",
       "stream": "stdout",
       "text": [
        "\n",
        "D:\\Data\\gpcp_extent//gpcp_1dd_v1.2_p1d.20020726.tif"
       ]
      },
      {
       "output_type": "stream",
       "stream": "stdout",
       "text": [
        "\n",
        "D:\\Data\\gpcp_extent//gpcp_1dd_v1.2_p1d.20020727.tif"
       ]
      },
      {
       "output_type": "stream",
       "stream": "stdout",
       "text": [
        "\n",
        "D:\\Data\\gpcp_extent//gpcp_1dd_v1.2_p1d.20020728.tif"
       ]
      },
      {
       "output_type": "stream",
       "stream": "stdout",
       "text": [
        "\n",
        "D:\\Data\\gpcp_extent//gpcp_1dd_v1.2_p1d.20020729.tif"
       ]
      },
      {
       "output_type": "stream",
       "stream": "stdout",
       "text": [
        "\n",
        "D:\\Data\\gpcp_extent//gpcp_1dd_v1.2_p1d.20020730.tif"
       ]
      },
      {
       "output_type": "stream",
       "stream": "stdout",
       "text": [
        "\n",
        "D:\\Data\\gpcp_extent//gpcp_1dd_v1.2_p1d.20020800.tif"
       ]
      },
      {
       "output_type": "stream",
       "stream": "stdout",
       "text": [
        "\n",
        "D:\\Data\\gpcp_extent//gpcp_1dd_v1.2_p1d.20020801.tif"
       ]
      },
      {
       "output_type": "stream",
       "stream": "stdout",
       "text": [
        "\n",
        "D:\\Data\\gpcp_extent//gpcp_1dd_v1.2_p1d.20020802.tif"
       ]
      },
      {
       "output_type": "stream",
       "stream": "stdout",
       "text": [
        "\n",
        "D:\\Data\\gpcp_extent//gpcp_1dd_v1.2_p1d.20020803.tif"
       ]
      },
      {
       "output_type": "stream",
       "stream": "stdout",
       "text": [
        "\n",
        "D:\\Data\\gpcp_extent//gpcp_1dd_v1.2_p1d.20020804.tif"
       ]
      },
      {
       "output_type": "stream",
       "stream": "stdout",
       "text": [
        "\n",
        "D:\\Data\\gpcp_extent//gpcp_1dd_v1.2_p1d.20020805.tif"
       ]
      },
      {
       "output_type": "stream",
       "stream": "stdout",
       "text": [
        "\n",
        "D:\\Data\\gpcp_extent//gpcp_1dd_v1.2_p1d.20020806.tif"
       ]
      },
      {
       "output_type": "stream",
       "stream": "stdout",
       "text": [
        "\n",
        "D:\\Data\\gpcp_extent//gpcp_1dd_v1.2_p1d.20020807.tif"
       ]
      },
      {
       "output_type": "stream",
       "stream": "stdout",
       "text": [
        "\n",
        "D:\\Data\\gpcp_extent//gpcp_1dd_v1.2_p1d.20020808.tif"
       ]
      },
      {
       "output_type": "stream",
       "stream": "stdout",
       "text": [
        "\n",
        "D:\\Data\\gpcp_extent//gpcp_1dd_v1.2_p1d.20020809.tif"
       ]
      },
      {
       "output_type": "stream",
       "stream": "stdout",
       "text": [
        "\n",
        "D:\\Data\\gpcp_extent//gpcp_1dd_v1.2_p1d.20020810.tif"
       ]
      },
      {
       "output_type": "stream",
       "stream": "stdout",
       "text": [
        "\n",
        "D:\\Data\\gpcp_extent//gpcp_1dd_v1.2_p1d.20020811.tif"
       ]
      },
      {
       "output_type": "stream",
       "stream": "stdout",
       "text": [
        "\n",
        "D:\\Data\\gpcp_extent//gpcp_1dd_v1.2_p1d.20020812.tif"
       ]
      },
      {
       "output_type": "stream",
       "stream": "stdout",
       "text": [
        "\n",
        "D:\\Data\\gpcp_extent//gpcp_1dd_v1.2_p1d.20020813.tif"
       ]
      },
      {
       "output_type": "stream",
       "stream": "stdout",
       "text": [
        "\n",
        "D:\\Data\\gpcp_extent//gpcp_1dd_v1.2_p1d.20020814.tif"
       ]
      },
      {
       "output_type": "stream",
       "stream": "stdout",
       "text": [
        "\n",
        "D:\\Data\\gpcp_extent//gpcp_1dd_v1.2_p1d.20020815.tif"
       ]
      },
      {
       "output_type": "stream",
       "stream": "stdout",
       "text": [
        "\n",
        "D:\\Data\\gpcp_extent//gpcp_1dd_v1.2_p1d.20020816.tif"
       ]
      },
      {
       "output_type": "stream",
       "stream": "stdout",
       "text": [
        "\n",
        "D:\\Data\\gpcp_extent//gpcp_1dd_v1.2_p1d.20020817.tif"
       ]
      },
      {
       "output_type": "stream",
       "stream": "stdout",
       "text": [
        "\n",
        "D:\\Data\\gpcp_extent//gpcp_1dd_v1.2_p1d.20020818.tif"
       ]
      },
      {
       "output_type": "stream",
       "stream": "stdout",
       "text": [
        "\n",
        "D:\\Data\\gpcp_extent//gpcp_1dd_v1.2_p1d.20020819.tif"
       ]
      },
      {
       "output_type": "stream",
       "stream": "stdout",
       "text": [
        "\n",
        "D:\\Data\\gpcp_extent//gpcp_1dd_v1.2_p1d.20020820.tif"
       ]
      },
      {
       "output_type": "stream",
       "stream": "stdout",
       "text": [
        "\n",
        "D:\\Data\\gpcp_extent//gpcp_1dd_v1.2_p1d.20020821.tif"
       ]
      },
      {
       "output_type": "stream",
       "stream": "stdout",
       "text": [
        "\n",
        "D:\\Data\\gpcp_extent//gpcp_1dd_v1.2_p1d.20020822.tif"
       ]
      },
      {
       "output_type": "stream",
       "stream": "stdout",
       "text": [
        "\n",
        "D:\\Data\\gpcp_extent//gpcp_1dd_v1.2_p1d.20020823.tif"
       ]
      },
      {
       "output_type": "stream",
       "stream": "stdout",
       "text": [
        "\n",
        "D:\\Data\\gpcp_extent//gpcp_1dd_v1.2_p1d.20020824.tif"
       ]
      },
      {
       "output_type": "stream",
       "stream": "stdout",
       "text": [
        "\n",
        "D:\\Data\\gpcp_extent//gpcp_1dd_v1.2_p1d.20020825.tif"
       ]
      },
      {
       "output_type": "stream",
       "stream": "stdout",
       "text": [
        "\n",
        "D:\\Data\\gpcp_extent//gpcp_1dd_v1.2_p1d.20020826.tif"
       ]
      },
      {
       "output_type": "stream",
       "stream": "stdout",
       "text": [
        "\n",
        "D:\\Data\\gpcp_extent//gpcp_1dd_v1.2_p1d.20020827.tif"
       ]
      },
      {
       "output_type": "stream",
       "stream": "stdout",
       "text": [
        "\n",
        "D:\\Data\\gpcp_extent//gpcp_1dd_v1.2_p1d.20020828.tif"
       ]
      },
      {
       "output_type": "stream",
       "stream": "stdout",
       "text": [
        "\n",
        "D:\\Data\\gpcp_extent//gpcp_1dd_v1.2_p1d.20020829.tif"
       ]
      },
      {
       "output_type": "stream",
       "stream": "stdout",
       "text": [
        "\n",
        "D:\\Data\\gpcp_extent//gpcp_1dd_v1.2_p1d.20020830.tif"
       ]
      },
      {
       "output_type": "stream",
       "stream": "stdout",
       "text": [
        "\n",
        "D:\\Data\\gpcp_extent//gpcp_1dd_v1.2_p1d.20020900.tif"
       ]
      },
      {
       "output_type": "stream",
       "stream": "stdout",
       "text": [
        "\n",
        "D:\\Data\\gpcp_extent//gpcp_1dd_v1.2_p1d.20020901.tif"
       ]
      },
      {
       "output_type": "stream",
       "stream": "stdout",
       "text": [
        "\n",
        "D:\\Data\\gpcp_extent//gpcp_1dd_v1.2_p1d.20020902.tif"
       ]
      },
      {
       "output_type": "stream",
       "stream": "stdout",
       "text": [
        "\n",
        "D:\\Data\\gpcp_extent//gpcp_1dd_v1.2_p1d.20020903.tif"
       ]
      },
      {
       "output_type": "stream",
       "stream": "stdout",
       "text": [
        "\n",
        "D:\\Data\\gpcp_extent//gpcp_1dd_v1.2_p1d.20020904.tif"
       ]
      },
      {
       "output_type": "stream",
       "stream": "stdout",
       "text": [
        "\n",
        "D:\\Data\\gpcp_extent//gpcp_1dd_v1.2_p1d.20020905.tif"
       ]
      },
      {
       "output_type": "stream",
       "stream": "stdout",
       "text": [
        "\n",
        "D:\\Data\\gpcp_extent//gpcp_1dd_v1.2_p1d.20020906.tif"
       ]
      },
      {
       "output_type": "stream",
       "stream": "stdout",
       "text": [
        "\n",
        "D:\\Data\\gpcp_extent//gpcp_1dd_v1.2_p1d.20020907.tif"
       ]
      },
      {
       "output_type": "stream",
       "stream": "stdout",
       "text": [
        "\n",
        "D:\\Data\\gpcp_extent//gpcp_1dd_v1.2_p1d.20020908.tif"
       ]
      },
      {
       "output_type": "stream",
       "stream": "stdout",
       "text": [
        "\n",
        "D:\\Data\\gpcp_extent//gpcp_1dd_v1.2_p1d.20020909.tif"
       ]
      },
      {
       "output_type": "stream",
       "stream": "stdout",
       "text": [
        "\n",
        "D:\\Data\\gpcp_extent//gpcp_1dd_v1.2_p1d.20020910.tif"
       ]
      },
      {
       "output_type": "stream",
       "stream": "stdout",
       "text": [
        "\n",
        "D:\\Data\\gpcp_extent//gpcp_1dd_v1.2_p1d.20020911.tif"
       ]
      },
      {
       "output_type": "stream",
       "stream": "stdout",
       "text": [
        "\n",
        "D:\\Data\\gpcp_extent//gpcp_1dd_v1.2_p1d.20020912.tif"
       ]
      },
      {
       "output_type": "stream",
       "stream": "stdout",
       "text": [
        "\n",
        "D:\\Data\\gpcp_extent//gpcp_1dd_v1.2_p1d.20020913.tif"
       ]
      },
      {
       "output_type": "stream",
       "stream": "stdout",
       "text": [
        "\n",
        "D:\\Data\\gpcp_extent//gpcp_1dd_v1.2_p1d.20020914.tif"
       ]
      },
      {
       "output_type": "stream",
       "stream": "stdout",
       "text": [
        "\n",
        "D:\\Data\\gpcp_extent//gpcp_1dd_v1.2_p1d.20020915.tif"
       ]
      },
      {
       "output_type": "stream",
       "stream": "stdout",
       "text": [
        "\n",
        "D:\\Data\\gpcp_extent//gpcp_1dd_v1.2_p1d.20020916.tif"
       ]
      },
      {
       "output_type": "stream",
       "stream": "stdout",
       "text": [
        "\n",
        "D:\\Data\\gpcp_extent//gpcp_1dd_v1.2_p1d.20020917.tif"
       ]
      },
      {
       "output_type": "stream",
       "stream": "stdout",
       "text": [
        "\n",
        "D:\\Data\\gpcp_extent//gpcp_1dd_v1.2_p1d.20020918.tif"
       ]
      },
      {
       "output_type": "stream",
       "stream": "stdout",
       "text": [
        "\n",
        "D:\\Data\\gpcp_extent//gpcp_1dd_v1.2_p1d.20020919.tif"
       ]
      },
      {
       "output_type": "stream",
       "stream": "stdout",
       "text": [
        "\n",
        "D:\\Data\\gpcp_extent//gpcp_1dd_v1.2_p1d.20020920.tif"
       ]
      },
      {
       "output_type": "stream",
       "stream": "stdout",
       "text": [
        "\n",
        "D:\\Data\\gpcp_extent//gpcp_1dd_v1.2_p1d.20020921.tif"
       ]
      },
      {
       "output_type": "stream",
       "stream": "stdout",
       "text": [
        "\n",
        "D:\\Data\\gpcp_extent//gpcp_1dd_v1.2_p1d.20020922.tif"
       ]
      },
      {
       "output_type": "stream",
       "stream": "stdout",
       "text": [
        "\n",
        "D:\\Data\\gpcp_extent//gpcp_1dd_v1.2_p1d.20020923.tif"
       ]
      },
      {
       "output_type": "stream",
       "stream": "stdout",
       "text": [
        "\n",
        "D:\\Data\\gpcp_extent//gpcp_1dd_v1.2_p1d.20020924.tif"
       ]
      },
      {
       "output_type": "stream",
       "stream": "stdout",
       "text": [
        "\n",
        "D:\\Data\\gpcp_extent//gpcp_1dd_v1.2_p1d.20020925.tif"
       ]
      },
      {
       "output_type": "stream",
       "stream": "stdout",
       "text": [
        "\n",
        "D:\\Data\\gpcp_extent//gpcp_1dd_v1.2_p1d.20020926.tif"
       ]
      },
      {
       "output_type": "stream",
       "stream": "stdout",
       "text": [
        "\n",
        "D:\\Data\\gpcp_extent//gpcp_1dd_v1.2_p1d.20020927.tif"
       ]
      },
      {
       "output_type": "stream",
       "stream": "stdout",
       "text": [
        "\n",
        "D:\\Data\\gpcp_extent//gpcp_1dd_v1.2_p1d.20020928.tif"
       ]
      },
      {
       "output_type": "stream",
       "stream": "stdout",
       "text": [
        "\n",
        "D:\\Data\\gpcp_extent//gpcp_1dd_v1.2_p1d.20020929.tif"
       ]
      },
      {
       "output_type": "stream",
       "stream": "stdout",
       "text": [
        "\n",
        "D:\\Data\\gpcp_extent//gpcp_1dd_v1.2_p1d.20021000.tif"
       ]
      },
      {
       "output_type": "stream",
       "stream": "stdout",
       "text": [
        "\n",
        "D:\\Data\\gpcp_extent//gpcp_1dd_v1.2_p1d.20021001.tif"
       ]
      },
      {
       "output_type": "stream",
       "stream": "stdout",
       "text": [
        "\n",
        "D:\\Data\\gpcp_extent//gpcp_1dd_v1.2_p1d.20021002.tif"
       ]
      },
      {
       "output_type": "stream",
       "stream": "stdout",
       "text": [
        "\n",
        "D:\\Data\\gpcp_extent//gpcp_1dd_v1.2_p1d.20021003.tif"
       ]
      },
      {
       "output_type": "stream",
       "stream": "stdout",
       "text": [
        "\n",
        "D:\\Data\\gpcp_extent//gpcp_1dd_v1.2_p1d.20021004.tif"
       ]
      },
      {
       "output_type": "stream",
       "stream": "stdout",
       "text": [
        "\n",
        "D:\\Data\\gpcp_extent//gpcp_1dd_v1.2_p1d.20021005.tif"
       ]
      },
      {
       "output_type": "stream",
       "stream": "stdout",
       "text": [
        "\n",
        "D:\\Data\\gpcp_extent//gpcp_1dd_v1.2_p1d.20021006.tif"
       ]
      },
      {
       "output_type": "stream",
       "stream": "stdout",
       "text": [
        "\n",
        "D:\\Data\\gpcp_extent//gpcp_1dd_v1.2_p1d.20021007.tif"
       ]
      },
      {
       "output_type": "stream",
       "stream": "stdout",
       "text": [
        "\n",
        "D:\\Data\\gpcp_extent//gpcp_1dd_v1.2_p1d.20021008.tif"
       ]
      },
      {
       "output_type": "stream",
       "stream": "stdout",
       "text": [
        "\n",
        "D:\\Data\\gpcp_extent//gpcp_1dd_v1.2_p1d.20021009.tif"
       ]
      },
      {
       "output_type": "stream",
       "stream": "stdout",
       "text": [
        "\n",
        "D:\\Data\\gpcp_extent//gpcp_1dd_v1.2_p1d.20021010.tif"
       ]
      },
      {
       "output_type": "stream",
       "stream": "stdout",
       "text": [
        "\n",
        "D:\\Data\\gpcp_extent//gpcp_1dd_v1.2_p1d.20021011.tif"
       ]
      },
      {
       "output_type": "stream",
       "stream": "stdout",
       "text": [
        "\n",
        "D:\\Data\\gpcp_extent//gpcp_1dd_v1.2_p1d.20021012.tif"
       ]
      },
      {
       "output_type": "stream",
       "stream": "stdout",
       "text": [
        "\n",
        "D:\\Data\\gpcp_extent//gpcp_1dd_v1.2_p1d.20021013.tif"
       ]
      },
      {
       "output_type": "stream",
       "stream": "stdout",
       "text": [
        "\n",
        "D:\\Data\\gpcp_extent//gpcp_1dd_v1.2_p1d.20021014.tif"
       ]
      },
      {
       "output_type": "stream",
       "stream": "stdout",
       "text": [
        "\n",
        "D:\\Data\\gpcp_extent//gpcp_1dd_v1.2_p1d.20021015.tif"
       ]
      },
      {
       "output_type": "stream",
       "stream": "stdout",
       "text": [
        "\n",
        "D:\\Data\\gpcp_extent//gpcp_1dd_v1.2_p1d.20021016.tif"
       ]
      },
      {
       "output_type": "stream",
       "stream": "stdout",
       "text": [
        "\n",
        "D:\\Data\\gpcp_extent//gpcp_1dd_v1.2_p1d.20021017.tif"
       ]
      },
      {
       "output_type": "stream",
       "stream": "stdout",
       "text": [
        "\n",
        "D:\\Data\\gpcp_extent//gpcp_1dd_v1.2_p1d.20021018.tif"
       ]
      },
      {
       "output_type": "stream",
       "stream": "stdout",
       "text": [
        "\n",
        "D:\\Data\\gpcp_extent//gpcp_1dd_v1.2_p1d.20021019.tif"
       ]
      },
      {
       "output_type": "stream",
       "stream": "stdout",
       "text": [
        "\n",
        "D:\\Data\\gpcp_extent//gpcp_1dd_v1.2_p1d.20021020.tif"
       ]
      },
      {
       "output_type": "stream",
       "stream": "stdout",
       "text": [
        "\n",
        "D:\\Data\\gpcp_extent//gpcp_1dd_v1.2_p1d.20021021.tif"
       ]
      },
      {
       "output_type": "stream",
       "stream": "stdout",
       "text": [
        "\n",
        "D:\\Data\\gpcp_extent//gpcp_1dd_v1.2_p1d.20021022.tif"
       ]
      },
      {
       "output_type": "stream",
       "stream": "stdout",
       "text": [
        "\n",
        "D:\\Data\\gpcp_extent//gpcp_1dd_v1.2_p1d.20021023.tif"
       ]
      },
      {
       "output_type": "stream",
       "stream": "stdout",
       "text": [
        "\n",
        "D:\\Data\\gpcp_extent//gpcp_1dd_v1.2_p1d.20021024.tif"
       ]
      },
      {
       "output_type": "stream",
       "stream": "stdout",
       "text": [
        "\n",
        "D:\\Data\\gpcp_extent//gpcp_1dd_v1.2_p1d.20021025.tif"
       ]
      },
      {
       "output_type": "stream",
       "stream": "stdout",
       "text": [
        "\n",
        "D:\\Data\\gpcp_extent//gpcp_1dd_v1.2_p1d.20021026.tif"
       ]
      },
      {
       "output_type": "stream",
       "stream": "stdout",
       "text": [
        "\n",
        "D:\\Data\\gpcp_extent//gpcp_1dd_v1.2_p1d.20021027.tif"
       ]
      },
      {
       "output_type": "stream",
       "stream": "stdout",
       "text": [
        "\n",
        "D:\\Data\\gpcp_extent//gpcp_1dd_v1.2_p1d.20021028.tif"
       ]
      },
      {
       "output_type": "stream",
       "stream": "stdout",
       "text": [
        "\n",
        "D:\\Data\\gpcp_extent//gpcp_1dd_v1.2_p1d.20021029.tif"
       ]
      },
      {
       "output_type": "stream",
       "stream": "stdout",
       "text": [
        "\n",
        "D:\\Data\\gpcp_extent//gpcp_1dd_v1.2_p1d.20021030.tif"
       ]
      },
      {
       "output_type": "stream",
       "stream": "stdout",
       "text": [
        "\n",
        "D:\\Data\\gpcp_extent//gpcp_1dd_v1.2_p1d.20021100.tif"
       ]
      },
      {
       "output_type": "stream",
       "stream": "stdout",
       "text": [
        "\n",
        "D:\\Data\\gpcp_extent//gpcp_1dd_v1.2_p1d.20021101.tif"
       ]
      },
      {
       "output_type": "stream",
       "stream": "stdout",
       "text": [
        "\n",
        "D:\\Data\\gpcp_extent//gpcp_1dd_v1.2_p1d.20021102.tif"
       ]
      },
      {
       "output_type": "stream",
       "stream": "stdout",
       "text": [
        "\n",
        "D:\\Data\\gpcp_extent//gpcp_1dd_v1.2_p1d.20021103.tif"
       ]
      },
      {
       "output_type": "stream",
       "stream": "stdout",
       "text": [
        "\n",
        "D:\\Data\\gpcp_extent//gpcp_1dd_v1.2_p1d.20021104.tif"
       ]
      },
      {
       "output_type": "stream",
       "stream": "stdout",
       "text": [
        "\n",
        "D:\\Data\\gpcp_extent//gpcp_1dd_v1.2_p1d.20021105.tif"
       ]
      },
      {
       "output_type": "stream",
       "stream": "stdout",
       "text": [
        "\n",
        "D:\\Data\\gpcp_extent//gpcp_1dd_v1.2_p1d.20021106.tif"
       ]
      },
      {
       "output_type": "stream",
       "stream": "stdout",
       "text": [
        "\n",
        "D:\\Data\\gpcp_extent//gpcp_1dd_v1.2_p1d.20021107.tif"
       ]
      },
      {
       "output_type": "stream",
       "stream": "stdout",
       "text": [
        "\n",
        "D:\\Data\\gpcp_extent//gpcp_1dd_v1.2_p1d.20021108.tif"
       ]
      },
      {
       "output_type": "stream",
       "stream": "stdout",
       "text": [
        "\n",
        "D:\\Data\\gpcp_extent//gpcp_1dd_v1.2_p1d.20021109.tif"
       ]
      },
      {
       "output_type": "stream",
       "stream": "stdout",
       "text": [
        "\n",
        "D:\\Data\\gpcp_extent//gpcp_1dd_v1.2_p1d.20021110.tif"
       ]
      },
      {
       "output_type": "stream",
       "stream": "stdout",
       "text": [
        "\n",
        "D:\\Data\\gpcp_extent//gpcp_1dd_v1.2_p1d.20021111.tif"
       ]
      },
      {
       "output_type": "stream",
       "stream": "stdout",
       "text": [
        "\n",
        "D:\\Data\\gpcp_extent//gpcp_1dd_v1.2_p1d.20021112.tif"
       ]
      },
      {
       "output_type": "stream",
       "stream": "stdout",
       "text": [
        "\n",
        "D:\\Data\\gpcp_extent//gpcp_1dd_v1.2_p1d.20021113.tif"
       ]
      },
      {
       "output_type": "stream",
       "stream": "stdout",
       "text": [
        "\n",
        "D:\\Data\\gpcp_extent//gpcp_1dd_v1.2_p1d.20021114.tif"
       ]
      },
      {
       "output_type": "stream",
       "stream": "stdout",
       "text": [
        "\n",
        "D:\\Data\\gpcp_extent//gpcp_1dd_v1.2_p1d.20021115.tif"
       ]
      },
      {
       "output_type": "stream",
       "stream": "stdout",
       "text": [
        "\n",
        "D:\\Data\\gpcp_extent//gpcp_1dd_v1.2_p1d.20021116.tif"
       ]
      },
      {
       "output_type": "stream",
       "stream": "stdout",
       "text": [
        "\n",
        "D:\\Data\\gpcp_extent//gpcp_1dd_v1.2_p1d.20021117.tif"
       ]
      },
      {
       "output_type": "stream",
       "stream": "stdout",
       "text": [
        "\n",
        "D:\\Data\\gpcp_extent//gpcp_1dd_v1.2_p1d.20021118.tif"
       ]
      },
      {
       "output_type": "stream",
       "stream": "stdout",
       "text": [
        "\n",
        "D:\\Data\\gpcp_extent//gpcp_1dd_v1.2_p1d.20021119.tif"
       ]
      },
      {
       "output_type": "stream",
       "stream": "stdout",
       "text": [
        "\n",
        "D:\\Data\\gpcp_extent//gpcp_1dd_v1.2_p1d.20021120.tif"
       ]
      },
      {
       "output_type": "stream",
       "stream": "stdout",
       "text": [
        "\n",
        "D:\\Data\\gpcp_extent//gpcp_1dd_v1.2_p1d.20021121.tif"
       ]
      },
      {
       "output_type": "stream",
       "stream": "stdout",
       "text": [
        "\n",
        "D:\\Data\\gpcp_extent//gpcp_1dd_v1.2_p1d.20021122.tif"
       ]
      },
      {
       "output_type": "stream",
       "stream": "stdout",
       "text": [
        "\n",
        "D:\\Data\\gpcp_extent//gpcp_1dd_v1.2_p1d.20021123.tif"
       ]
      },
      {
       "output_type": "stream",
       "stream": "stdout",
       "text": [
        "\n",
        "D:\\Data\\gpcp_extent//gpcp_1dd_v1.2_p1d.20021124.tif"
       ]
      },
      {
       "output_type": "stream",
       "stream": "stdout",
       "text": [
        "\n",
        "D:\\Data\\gpcp_extent//gpcp_1dd_v1.2_p1d.20021125.tif"
       ]
      },
      {
       "output_type": "stream",
       "stream": "stdout",
       "text": [
        "\n",
        "D:\\Data\\gpcp_extent//gpcp_1dd_v1.2_p1d.20021126.tif"
       ]
      },
      {
       "output_type": "stream",
       "stream": "stdout",
       "text": [
        "\n",
        "D:\\Data\\gpcp_extent//gpcp_1dd_v1.2_p1d.20021127.tif"
       ]
      },
      {
       "output_type": "stream",
       "stream": "stdout",
       "text": [
        "\n",
        "D:\\Data\\gpcp_extent//gpcp_1dd_v1.2_p1d.20021128.tif"
       ]
      },
      {
       "output_type": "stream",
       "stream": "stdout",
       "text": [
        "\n",
        "D:\\Data\\gpcp_extent//gpcp_1dd_v1.2_p1d.20021129.tif"
       ]
      },
      {
       "output_type": "stream",
       "stream": "stdout",
       "text": [
        "\n",
        "D:\\Data\\gpcp_extent//gpcp_1dd_v1.2_p1d.20021200.tif"
       ]
      },
      {
       "output_type": "stream",
       "stream": "stdout",
       "text": [
        "\n",
        "D:\\Data\\gpcp_extent//gpcp_1dd_v1.2_p1d.20021201.tif"
       ]
      },
      {
       "output_type": "stream",
       "stream": "stdout",
       "text": [
        "\n",
        "D:\\Data\\gpcp_extent//gpcp_1dd_v1.2_p1d.20021202.tif"
       ]
      },
      {
       "output_type": "stream",
       "stream": "stdout",
       "text": [
        "\n",
        "D:\\Data\\gpcp_extent//gpcp_1dd_v1.2_p1d.20021203.tif"
       ]
      },
      {
       "output_type": "stream",
       "stream": "stdout",
       "text": [
        "\n",
        "D:\\Data\\gpcp_extent//gpcp_1dd_v1.2_p1d.20021204.tif"
       ]
      },
      {
       "output_type": "stream",
       "stream": "stdout",
       "text": [
        "\n",
        "D:\\Data\\gpcp_extent//gpcp_1dd_v1.2_p1d.20021205.tif"
       ]
      },
      {
       "output_type": "stream",
       "stream": "stdout",
       "text": [
        "\n",
        "D:\\Data\\gpcp_extent//gpcp_1dd_v1.2_p1d.20021206.tif"
       ]
      },
      {
       "output_type": "stream",
       "stream": "stdout",
       "text": [
        "\n",
        "D:\\Data\\gpcp_extent//gpcp_1dd_v1.2_p1d.20021207.tif"
       ]
      },
      {
       "output_type": "stream",
       "stream": "stdout",
       "text": [
        "\n",
        "D:\\Data\\gpcp_extent//gpcp_1dd_v1.2_p1d.20021208.tif"
       ]
      },
      {
       "output_type": "stream",
       "stream": "stdout",
       "text": [
        "\n",
        "D:\\Data\\gpcp_extent//gpcp_1dd_v1.2_p1d.20021209.tif"
       ]
      },
      {
       "output_type": "stream",
       "stream": "stdout",
       "text": [
        "\n",
        "D:\\Data\\gpcp_extent//gpcp_1dd_v1.2_p1d.20021210.tif"
       ]
      },
      {
       "output_type": "stream",
       "stream": "stdout",
       "text": [
        "\n",
        "D:\\Data\\gpcp_extent//gpcp_1dd_v1.2_p1d.20021211.tif"
       ]
      },
      {
       "output_type": "stream",
       "stream": "stdout",
       "text": [
        "\n",
        "D:\\Data\\gpcp_extent//gpcp_1dd_v1.2_p1d.20021212.tif"
       ]
      },
      {
       "output_type": "stream",
       "stream": "stdout",
       "text": [
        "\n",
        "D:\\Data\\gpcp_extent//gpcp_1dd_v1.2_p1d.20021213.tif"
       ]
      },
      {
       "output_type": "stream",
       "stream": "stdout",
       "text": [
        "\n",
        "D:\\Data\\gpcp_extent//gpcp_1dd_v1.2_p1d.20021214.tif"
       ]
      },
      {
       "output_type": "stream",
       "stream": "stdout",
       "text": [
        "\n",
        "D:\\Data\\gpcp_extent//gpcp_1dd_v1.2_p1d.20021215.tif"
       ]
      },
      {
       "output_type": "stream",
       "stream": "stdout",
       "text": [
        "\n",
        "D:\\Data\\gpcp_extent//gpcp_1dd_v1.2_p1d.20021216.tif"
       ]
      },
      {
       "output_type": "stream",
       "stream": "stdout",
       "text": [
        "\n",
        "D:\\Data\\gpcp_extent//gpcp_1dd_v1.2_p1d.20021217.tif"
       ]
      },
      {
       "output_type": "stream",
       "stream": "stdout",
       "text": [
        "\n",
        "D:\\Data\\gpcp_extent//gpcp_1dd_v1.2_p1d.20021218.tif"
       ]
      },
      {
       "output_type": "stream",
       "stream": "stdout",
       "text": [
        "\n",
        "D:\\Data\\gpcp_extent//gpcp_1dd_v1.2_p1d.20021219.tif"
       ]
      },
      {
       "output_type": "stream",
       "stream": "stdout",
       "text": [
        "\n",
        "D:\\Data\\gpcp_extent//gpcp_1dd_v1.2_p1d.20021220.tif"
       ]
      },
      {
       "output_type": "stream",
       "stream": "stdout",
       "text": [
        "\n",
        "D:\\Data\\gpcp_extent//gpcp_1dd_v1.2_p1d.20021221.tif"
       ]
      },
      {
       "output_type": "stream",
       "stream": "stdout",
       "text": [
        "\n",
        "D:\\Data\\gpcp_extent//gpcp_1dd_v1.2_p1d.20021222.tif"
       ]
      },
      {
       "output_type": "stream",
       "stream": "stdout",
       "text": [
        "\n",
        "D:\\Data\\gpcp_extent//gpcp_1dd_v1.2_p1d.20021223.tif"
       ]
      },
      {
       "output_type": "stream",
       "stream": "stdout",
       "text": [
        "\n",
        "D:\\Data\\gpcp_extent//gpcp_1dd_v1.2_p1d.20021224.tif"
       ]
      },
      {
       "output_type": "stream",
       "stream": "stdout",
       "text": [
        "\n",
        "D:\\Data\\gpcp_extent//gpcp_1dd_v1.2_p1d.20021225.tif"
       ]
      },
      {
       "output_type": "stream",
       "stream": "stdout",
       "text": [
        "\n",
        "D:\\Data\\gpcp_extent//gpcp_1dd_v1.2_p1d.20021226.tif"
       ]
      },
      {
       "output_type": "stream",
       "stream": "stdout",
       "text": [
        "\n",
        "D:\\Data\\gpcp_extent//gpcp_1dd_v1.2_p1d.20021227.tif"
       ]
      },
      {
       "output_type": "stream",
       "stream": "stdout",
       "text": [
        "\n",
        "D:\\Data\\gpcp_extent//gpcp_1dd_v1.2_p1d.20021228.tif"
       ]
      },
      {
       "output_type": "stream",
       "stream": "stdout",
       "text": [
        "\n",
        "D:\\Data\\gpcp_extent//gpcp_1dd_v1.2_p1d.20021229.tif"
       ]
      },
      {
       "output_type": "stream",
       "stream": "stdout",
       "text": [
        "\n",
        "D:\\Data\\gpcp_extent//gpcp_1dd_v1.2_p1d.20021230.tif"
       ]
      },
      {
       "output_type": "stream",
       "stream": "stdout",
       "text": [
        "\n",
        "D:\\Data\\gpcp_extent//gpcp_1dd_v1.2_p1d.20030100.tif"
       ]
      },
      {
       "output_type": "stream",
       "stream": "stdout",
       "text": [
        "\n",
        "D:\\Data\\gpcp_extent//gpcp_1dd_v1.2_p1d.20030101.tif"
       ]
      },
      {
       "output_type": "stream",
       "stream": "stdout",
       "text": [
        "\n",
        "D:\\Data\\gpcp_extent//gpcp_1dd_v1.2_p1d.20030102.tif"
       ]
      },
      {
       "output_type": "stream",
       "stream": "stdout",
       "text": [
        "\n",
        "D:\\Data\\gpcp_extent//gpcp_1dd_v1.2_p1d.20030103.tif"
       ]
      },
      {
       "output_type": "stream",
       "stream": "stdout",
       "text": [
        "\n",
        "D:\\Data\\gpcp_extent//gpcp_1dd_v1.2_p1d.20030104.tif"
       ]
      },
      {
       "output_type": "stream",
       "stream": "stdout",
       "text": [
        "\n",
        "D:\\Data\\gpcp_extent//gpcp_1dd_v1.2_p1d.20030105.tif"
       ]
      },
      {
       "output_type": "stream",
       "stream": "stdout",
       "text": [
        "\n",
        "D:\\Data\\gpcp_extent//gpcp_1dd_v1.2_p1d.20030106.tif"
       ]
      },
      {
       "output_type": "stream",
       "stream": "stdout",
       "text": [
        "\n",
        "D:\\Data\\gpcp_extent//gpcp_1dd_v1.2_p1d.20030107.tif"
       ]
      },
      {
       "output_type": "stream",
       "stream": "stdout",
       "text": [
        "\n",
        "D:\\Data\\gpcp_extent//gpcp_1dd_v1.2_p1d.20030108.tif"
       ]
      },
      {
       "output_type": "stream",
       "stream": "stdout",
       "text": [
        "\n",
        "D:\\Data\\gpcp_extent//gpcp_1dd_v1.2_p1d.20030109.tif"
       ]
      },
      {
       "output_type": "stream",
       "stream": "stdout",
       "text": [
        "\n",
        "D:\\Data\\gpcp_extent//gpcp_1dd_v1.2_p1d.20030110.tif"
       ]
      },
      {
       "output_type": "stream",
       "stream": "stdout",
       "text": [
        "\n",
        "D:\\Data\\gpcp_extent//gpcp_1dd_v1.2_p1d.20030111.tif"
       ]
      },
      {
       "output_type": "stream",
       "stream": "stdout",
       "text": [
        "\n",
        "D:\\Data\\gpcp_extent//gpcp_1dd_v1.2_p1d.20030112.tif"
       ]
      },
      {
       "output_type": "stream",
       "stream": "stdout",
       "text": [
        "\n",
        "D:\\Data\\gpcp_extent//gpcp_1dd_v1.2_p1d.20030113.tif"
       ]
      },
      {
       "output_type": "stream",
       "stream": "stdout",
       "text": [
        "\n",
        "D:\\Data\\gpcp_extent//gpcp_1dd_v1.2_p1d.20030114.tif"
       ]
      },
      {
       "output_type": "stream",
       "stream": "stdout",
       "text": [
        "\n",
        "D:\\Data\\gpcp_extent//gpcp_1dd_v1.2_p1d.20030115.tif"
       ]
      },
      {
       "output_type": "stream",
       "stream": "stdout",
       "text": [
        "\n",
        "D:\\Data\\gpcp_extent//gpcp_1dd_v1.2_p1d.20030116.tif"
       ]
      },
      {
       "output_type": "stream",
       "stream": "stdout",
       "text": [
        "\n",
        "D:\\Data\\gpcp_extent//gpcp_1dd_v1.2_p1d.20030117.tif"
       ]
      },
      {
       "output_type": "stream",
       "stream": "stdout",
       "text": [
        "\n",
        "D:\\Data\\gpcp_extent//gpcp_1dd_v1.2_p1d.20030118.tif"
       ]
      },
      {
       "output_type": "stream",
       "stream": "stdout",
       "text": [
        "\n",
        "D:\\Data\\gpcp_extent//gpcp_1dd_v1.2_p1d.20030119.tif"
       ]
      },
      {
       "output_type": "stream",
       "stream": "stdout",
       "text": [
        "\n",
        "D:\\Data\\gpcp_extent//gpcp_1dd_v1.2_p1d.20030120.tif"
       ]
      },
      {
       "output_type": "stream",
       "stream": "stdout",
       "text": [
        "\n",
        "D:\\Data\\gpcp_extent//gpcp_1dd_v1.2_p1d.20030121.tif"
       ]
      },
      {
       "output_type": "stream",
       "stream": "stdout",
       "text": [
        "\n",
        "D:\\Data\\gpcp_extent//gpcp_1dd_v1.2_p1d.20030122.tif"
       ]
      },
      {
       "output_type": "stream",
       "stream": "stdout",
       "text": [
        "\n",
        "D:\\Data\\gpcp_extent//gpcp_1dd_v1.2_p1d.20030123.tif"
       ]
      },
      {
       "output_type": "stream",
       "stream": "stdout",
       "text": [
        "\n",
        "D:\\Data\\gpcp_extent//gpcp_1dd_v1.2_p1d.20030124.tif"
       ]
      },
      {
       "output_type": "stream",
       "stream": "stdout",
       "text": [
        "\n",
        "D:\\Data\\gpcp_extent//gpcp_1dd_v1.2_p1d.20030125.tif"
       ]
      },
      {
       "output_type": "stream",
       "stream": "stdout",
       "text": [
        "\n",
        "D:\\Data\\gpcp_extent//gpcp_1dd_v1.2_p1d.20030126.tif"
       ]
      },
      {
       "output_type": "stream",
       "stream": "stdout",
       "text": [
        "\n",
        "D:\\Data\\gpcp_extent//gpcp_1dd_v1.2_p1d.20030127.tif"
       ]
      },
      {
       "output_type": "stream",
       "stream": "stdout",
       "text": [
        "\n",
        "D:\\Data\\gpcp_extent//gpcp_1dd_v1.2_p1d.20030128.tif"
       ]
      },
      {
       "output_type": "stream",
       "stream": "stdout",
       "text": [
        "\n",
        "D:\\Data\\gpcp_extent//gpcp_1dd_v1.2_p1d.20030129.tif"
       ]
      },
      {
       "output_type": "stream",
       "stream": "stdout",
       "text": [
        "\n",
        "D:\\Data\\gpcp_extent//gpcp_1dd_v1.2_p1d.20030130.tif"
       ]
      },
      {
       "output_type": "stream",
       "stream": "stdout",
       "text": [
        "\n",
        "D:\\Data\\gpcp_extent//gpcp_1dd_v1.2_p1d.20030200.tif"
       ]
      },
      {
       "output_type": "stream",
       "stream": "stdout",
       "text": [
        "\n",
        "D:\\Data\\gpcp_extent//gpcp_1dd_v1.2_p1d.20030201.tif"
       ]
      },
      {
       "output_type": "stream",
       "stream": "stdout",
       "text": [
        "\n",
        "D:\\Data\\gpcp_extent//gpcp_1dd_v1.2_p1d.20030202.tif"
       ]
      },
      {
       "output_type": "stream",
       "stream": "stdout",
       "text": [
        "\n",
        "D:\\Data\\gpcp_extent//gpcp_1dd_v1.2_p1d.20030203.tif"
       ]
      },
      {
       "output_type": "stream",
       "stream": "stdout",
       "text": [
        "\n",
        "D:\\Data\\gpcp_extent//gpcp_1dd_v1.2_p1d.20030204.tif"
       ]
      },
      {
       "output_type": "stream",
       "stream": "stdout",
       "text": [
        "\n",
        "D:\\Data\\gpcp_extent//gpcp_1dd_v1.2_p1d.20030205.tif"
       ]
      },
      {
       "output_type": "stream",
       "stream": "stdout",
       "text": [
        "\n",
        "D:\\Data\\gpcp_extent//gpcp_1dd_v1.2_p1d.20030206.tif"
       ]
      },
      {
       "output_type": "stream",
       "stream": "stdout",
       "text": [
        "\n",
        "D:\\Data\\gpcp_extent//gpcp_1dd_v1.2_p1d.20030207.tif"
       ]
      },
      {
       "output_type": "stream",
       "stream": "stdout",
       "text": [
        "\n",
        "D:\\Data\\gpcp_extent//gpcp_1dd_v1.2_p1d.20030208.tif"
       ]
      },
      {
       "output_type": "stream",
       "stream": "stdout",
       "text": [
        "\n",
        "D:\\Data\\gpcp_extent//gpcp_1dd_v1.2_p1d.20030209.tif"
       ]
      },
      {
       "output_type": "stream",
       "stream": "stdout",
       "text": [
        "\n",
        "D:\\Data\\gpcp_extent//gpcp_1dd_v1.2_p1d.20030210.tif"
       ]
      },
      {
       "output_type": "stream",
       "stream": "stdout",
       "text": [
        "\n",
        "D:\\Data\\gpcp_extent//gpcp_1dd_v1.2_p1d.20030211.tif"
       ]
      },
      {
       "output_type": "stream",
       "stream": "stdout",
       "text": [
        "\n",
        "D:\\Data\\gpcp_extent//gpcp_1dd_v1.2_p1d.20030212.tif"
       ]
      },
      {
       "output_type": "stream",
       "stream": "stdout",
       "text": [
        "\n",
        "D:\\Data\\gpcp_extent//gpcp_1dd_v1.2_p1d.20030213.tif"
       ]
      },
      {
       "output_type": "stream",
       "stream": "stdout",
       "text": [
        "\n",
        "D:\\Data\\gpcp_extent//gpcp_1dd_v1.2_p1d.20030214.tif"
       ]
      },
      {
       "output_type": "stream",
       "stream": "stdout",
       "text": [
        "\n",
        "D:\\Data\\gpcp_extent//gpcp_1dd_v1.2_p1d.20030215.tif"
       ]
      },
      {
       "output_type": "stream",
       "stream": "stdout",
       "text": [
        "\n",
        "D:\\Data\\gpcp_extent//gpcp_1dd_v1.2_p1d.20030216.tif"
       ]
      },
      {
       "output_type": "stream",
       "stream": "stdout",
       "text": [
        "\n",
        "D:\\Data\\gpcp_extent//gpcp_1dd_v1.2_p1d.20030217.tif"
       ]
      },
      {
       "output_type": "stream",
       "stream": "stdout",
       "text": [
        "\n",
        "D:\\Data\\gpcp_extent//gpcp_1dd_v1.2_p1d.20030218.tif"
       ]
      },
      {
       "output_type": "stream",
       "stream": "stdout",
       "text": [
        "\n",
        "D:\\Data\\gpcp_extent//gpcp_1dd_v1.2_p1d.20030219.tif"
       ]
      },
      {
       "output_type": "stream",
       "stream": "stdout",
       "text": [
        "\n",
        "D:\\Data\\gpcp_extent//gpcp_1dd_v1.2_p1d.20030220.tif"
       ]
      },
      {
       "output_type": "stream",
       "stream": "stdout",
       "text": [
        "\n",
        "D:\\Data\\gpcp_extent//gpcp_1dd_v1.2_p1d.20030221.tif"
       ]
      },
      {
       "output_type": "stream",
       "stream": "stdout",
       "text": [
        "\n",
        "D:\\Data\\gpcp_extent//gpcp_1dd_v1.2_p1d.20030222.tif"
       ]
      },
      {
       "output_type": "stream",
       "stream": "stdout",
       "text": [
        "\n",
        "D:\\Data\\gpcp_extent//gpcp_1dd_v1.2_p1d.20030223.tif"
       ]
      },
      {
       "output_type": "stream",
       "stream": "stdout",
       "text": [
        "\n",
        "D:\\Data\\gpcp_extent//gpcp_1dd_v1.2_p1d.20030224.tif"
       ]
      },
      {
       "output_type": "stream",
       "stream": "stdout",
       "text": [
        "\n",
        "D:\\Data\\gpcp_extent//gpcp_1dd_v1.2_p1d.20030225.tif"
       ]
      },
      {
       "output_type": "stream",
       "stream": "stdout",
       "text": [
        "\n",
        "D:\\Data\\gpcp_extent//gpcp_1dd_v1.2_p1d.20030226.tif"
       ]
      },
      {
       "output_type": "stream",
       "stream": "stdout",
       "text": [
        "\n",
        "D:\\Data\\gpcp_extent//gpcp_1dd_v1.2_p1d.20030227.tif"
       ]
      },
      {
       "output_type": "stream",
       "stream": "stdout",
       "text": [
        "\n",
        "D:\\Data\\gpcp_extent//gpcp_1dd_v1.2_p1d.20030300.tif"
       ]
      },
      {
       "output_type": "stream",
       "stream": "stdout",
       "text": [
        "\n",
        "D:\\Data\\gpcp_extent//gpcp_1dd_v1.2_p1d.20030301.tif"
       ]
      },
      {
       "output_type": "stream",
       "stream": "stdout",
       "text": [
        "\n",
        "D:\\Data\\gpcp_extent//gpcp_1dd_v1.2_p1d.20030302.tif"
       ]
      },
      {
       "output_type": "stream",
       "stream": "stdout",
       "text": [
        "\n",
        "D:\\Data\\gpcp_extent//gpcp_1dd_v1.2_p1d.20030303.tif"
       ]
      },
      {
       "output_type": "stream",
       "stream": "stdout",
       "text": [
        "\n",
        "D:\\Data\\gpcp_extent//gpcp_1dd_v1.2_p1d.20030304.tif"
       ]
      },
      {
       "output_type": "stream",
       "stream": "stdout",
       "text": [
        "\n",
        "D:\\Data\\gpcp_extent//gpcp_1dd_v1.2_p1d.20030305.tif"
       ]
      },
      {
       "output_type": "stream",
       "stream": "stdout",
       "text": [
        "\n",
        "D:\\Data\\gpcp_extent//gpcp_1dd_v1.2_p1d.20030306.tif"
       ]
      },
      {
       "output_type": "stream",
       "stream": "stdout",
       "text": [
        "\n",
        "D:\\Data\\gpcp_extent//gpcp_1dd_v1.2_p1d.20030307.tif"
       ]
      },
      {
       "output_type": "stream",
       "stream": "stdout",
       "text": [
        "\n",
        "D:\\Data\\gpcp_extent//gpcp_1dd_v1.2_p1d.20030308.tif"
       ]
      },
      {
       "output_type": "stream",
       "stream": "stdout",
       "text": [
        "\n",
        "D:\\Data\\gpcp_extent//gpcp_1dd_v1.2_p1d.20030309.tif"
       ]
      },
      {
       "output_type": "stream",
       "stream": "stdout",
       "text": [
        "\n",
        "D:\\Data\\gpcp_extent//gpcp_1dd_v1.2_p1d.20030310.tif"
       ]
      },
      {
       "output_type": "stream",
       "stream": "stdout",
       "text": [
        "\n",
        "D:\\Data\\gpcp_extent//gpcp_1dd_v1.2_p1d.20030311.tif"
       ]
      },
      {
       "output_type": "stream",
       "stream": "stdout",
       "text": [
        "\n",
        "D:\\Data\\gpcp_extent//gpcp_1dd_v1.2_p1d.20030312.tif"
       ]
      },
      {
       "output_type": "stream",
       "stream": "stdout",
       "text": [
        "\n",
        "D:\\Data\\gpcp_extent//gpcp_1dd_v1.2_p1d.20030313.tif"
       ]
      },
      {
       "output_type": "stream",
       "stream": "stdout",
       "text": [
        "\n",
        "D:\\Data\\gpcp_extent//gpcp_1dd_v1.2_p1d.20030314.tif"
       ]
      },
      {
       "output_type": "stream",
       "stream": "stdout",
       "text": [
        "\n",
        "D:\\Data\\gpcp_extent//gpcp_1dd_v1.2_p1d.20030315.tif"
       ]
      },
      {
       "output_type": "stream",
       "stream": "stdout",
       "text": [
        "\n",
        "D:\\Data\\gpcp_extent//gpcp_1dd_v1.2_p1d.20030316.tif"
       ]
      },
      {
       "output_type": "stream",
       "stream": "stdout",
       "text": [
        "\n",
        "D:\\Data\\gpcp_extent//gpcp_1dd_v1.2_p1d.20030317.tif"
       ]
      },
      {
       "output_type": "stream",
       "stream": "stdout",
       "text": [
        "\n",
        "D:\\Data\\gpcp_extent//gpcp_1dd_v1.2_p1d.20030318.tif"
       ]
      },
      {
       "output_type": "stream",
       "stream": "stdout",
       "text": [
        "\n",
        "D:\\Data\\gpcp_extent//gpcp_1dd_v1.2_p1d.20030319.tif"
       ]
      },
      {
       "output_type": "stream",
       "stream": "stdout",
       "text": [
        "\n",
        "D:\\Data\\gpcp_extent//gpcp_1dd_v1.2_p1d.20030320.tif"
       ]
      },
      {
       "output_type": "stream",
       "stream": "stdout",
       "text": [
        "\n",
        "D:\\Data\\gpcp_extent//gpcp_1dd_v1.2_p1d.20030321.tif"
       ]
      },
      {
       "output_type": "stream",
       "stream": "stdout",
       "text": [
        "\n",
        "D:\\Data\\gpcp_extent//gpcp_1dd_v1.2_p1d.20030322.tif"
       ]
      },
      {
       "output_type": "stream",
       "stream": "stdout",
       "text": [
        "\n",
        "D:\\Data\\gpcp_extent//gpcp_1dd_v1.2_p1d.20030323.tif"
       ]
      },
      {
       "output_type": "stream",
       "stream": "stdout",
       "text": [
        "\n",
        "D:\\Data\\gpcp_extent//gpcp_1dd_v1.2_p1d.20030324.tif"
       ]
      },
      {
       "output_type": "stream",
       "stream": "stdout",
       "text": [
        "\n",
        "D:\\Data\\gpcp_extent//gpcp_1dd_v1.2_p1d.20030325.tif"
       ]
      },
      {
       "output_type": "stream",
       "stream": "stdout",
       "text": [
        "\n",
        "D:\\Data\\gpcp_extent//gpcp_1dd_v1.2_p1d.20030326.tif"
       ]
      },
      {
       "output_type": "stream",
       "stream": "stdout",
       "text": [
        "\n",
        "D:\\Data\\gpcp_extent//gpcp_1dd_v1.2_p1d.20030327.tif"
       ]
      },
      {
       "output_type": "stream",
       "stream": "stdout",
       "text": [
        "\n",
        "D:\\Data\\gpcp_extent//gpcp_1dd_v1.2_p1d.20030328.tif"
       ]
      },
      {
       "output_type": "stream",
       "stream": "stdout",
       "text": [
        "\n",
        "D:\\Data\\gpcp_extent//gpcp_1dd_v1.2_p1d.20030329.tif"
       ]
      },
      {
       "output_type": "stream",
       "stream": "stdout",
       "text": [
        "\n",
        "D:\\Data\\gpcp_extent//gpcp_1dd_v1.2_p1d.20030330.tif"
       ]
      },
      {
       "output_type": "stream",
       "stream": "stdout",
       "text": [
        "\n",
        "D:\\Data\\gpcp_extent//gpcp_1dd_v1.2_p1d.20030400.tif"
       ]
      },
      {
       "output_type": "stream",
       "stream": "stdout",
       "text": [
        "\n",
        "D:\\Data\\gpcp_extent//gpcp_1dd_v1.2_p1d.20030401.tif"
       ]
      },
      {
       "output_type": "stream",
       "stream": "stdout",
       "text": [
        "\n",
        "D:\\Data\\gpcp_extent//gpcp_1dd_v1.2_p1d.20030402.tif"
       ]
      },
      {
       "output_type": "stream",
       "stream": "stdout",
       "text": [
        "\n",
        "D:\\Data\\gpcp_extent//gpcp_1dd_v1.2_p1d.20030403.tif"
       ]
      },
      {
       "output_type": "stream",
       "stream": "stdout",
       "text": [
        "\n",
        "D:\\Data\\gpcp_extent//gpcp_1dd_v1.2_p1d.20030404.tif"
       ]
      },
      {
       "output_type": "stream",
       "stream": "stdout",
       "text": [
        "\n",
        "D:\\Data\\gpcp_extent//gpcp_1dd_v1.2_p1d.20030405.tif"
       ]
      },
      {
       "output_type": "stream",
       "stream": "stdout",
       "text": [
        "\n",
        "D:\\Data\\gpcp_extent//gpcp_1dd_v1.2_p1d.20030406.tif"
       ]
      },
      {
       "output_type": "stream",
       "stream": "stdout",
       "text": [
        "\n",
        "D:\\Data\\gpcp_extent//gpcp_1dd_v1.2_p1d.20030407.tif"
       ]
      },
      {
       "output_type": "stream",
       "stream": "stdout",
       "text": [
        "\n",
        "D:\\Data\\gpcp_extent//gpcp_1dd_v1.2_p1d.20030408.tif"
       ]
      },
      {
       "output_type": "stream",
       "stream": "stdout",
       "text": [
        "\n",
        "D:\\Data\\gpcp_extent//gpcp_1dd_v1.2_p1d.20030409.tif"
       ]
      },
      {
       "output_type": "stream",
       "stream": "stdout",
       "text": [
        "\n",
        "D:\\Data\\gpcp_extent//gpcp_1dd_v1.2_p1d.20030410.tif"
       ]
      },
      {
       "output_type": "stream",
       "stream": "stdout",
       "text": [
        "\n",
        "D:\\Data\\gpcp_extent//gpcp_1dd_v1.2_p1d.20030411.tif"
       ]
      },
      {
       "output_type": "stream",
       "stream": "stdout",
       "text": [
        "\n",
        "D:\\Data\\gpcp_extent//gpcp_1dd_v1.2_p1d.20030412.tif"
       ]
      },
      {
       "output_type": "stream",
       "stream": "stdout",
       "text": [
        "\n",
        "D:\\Data\\gpcp_extent//gpcp_1dd_v1.2_p1d.20030413.tif"
       ]
      },
      {
       "output_type": "stream",
       "stream": "stdout",
       "text": [
        "\n",
        "D:\\Data\\gpcp_extent//gpcp_1dd_v1.2_p1d.20030414.tif"
       ]
      },
      {
       "output_type": "stream",
       "stream": "stdout",
       "text": [
        "\n",
        "D:\\Data\\gpcp_extent//gpcp_1dd_v1.2_p1d.20030415.tif"
       ]
      },
      {
       "output_type": "stream",
       "stream": "stdout",
       "text": [
        "\n",
        "D:\\Data\\gpcp_extent//gpcp_1dd_v1.2_p1d.20030416.tif"
       ]
      },
      {
       "output_type": "stream",
       "stream": "stdout",
       "text": [
        "\n",
        "D:\\Data\\gpcp_extent//gpcp_1dd_v1.2_p1d.20030417.tif"
       ]
      },
      {
       "output_type": "stream",
       "stream": "stdout",
       "text": [
        "\n",
        "D:\\Data\\gpcp_extent//gpcp_1dd_v1.2_p1d.20030418.tif"
       ]
      },
      {
       "output_type": "stream",
       "stream": "stdout",
       "text": [
        "\n",
        "D:\\Data\\gpcp_extent//gpcp_1dd_v1.2_p1d.20030419.tif"
       ]
      },
      {
       "output_type": "stream",
       "stream": "stdout",
       "text": [
        "\n",
        "D:\\Data\\gpcp_extent//gpcp_1dd_v1.2_p1d.20030420.tif"
       ]
      },
      {
       "output_type": "stream",
       "stream": "stdout",
       "text": [
        "\n",
        "D:\\Data\\gpcp_extent//gpcp_1dd_v1.2_p1d.20030421.tif"
       ]
      },
      {
       "output_type": "stream",
       "stream": "stdout",
       "text": [
        "\n",
        "D:\\Data\\gpcp_extent//gpcp_1dd_v1.2_p1d.20030422.tif"
       ]
      },
      {
       "output_type": "stream",
       "stream": "stdout",
       "text": [
        "\n",
        "D:\\Data\\gpcp_extent//gpcp_1dd_v1.2_p1d.20030423.tif"
       ]
      },
      {
       "output_type": "stream",
       "stream": "stdout",
       "text": [
        "\n",
        "D:\\Data\\gpcp_extent//gpcp_1dd_v1.2_p1d.20030424.tif"
       ]
      },
      {
       "output_type": "stream",
       "stream": "stdout",
       "text": [
        "\n",
        "D:\\Data\\gpcp_extent//gpcp_1dd_v1.2_p1d.20030425.tif"
       ]
      },
      {
       "output_type": "stream",
       "stream": "stdout",
       "text": [
        "\n",
        "D:\\Data\\gpcp_extent//gpcp_1dd_v1.2_p1d.20030426.tif"
       ]
      },
      {
       "output_type": "stream",
       "stream": "stdout",
       "text": [
        "\n",
        "D:\\Data\\gpcp_extent//gpcp_1dd_v1.2_p1d.20030427.tif"
       ]
      },
      {
       "output_type": "stream",
       "stream": "stdout",
       "text": [
        "\n",
        "D:\\Data\\gpcp_extent//gpcp_1dd_v1.2_p1d.20030428.tif"
       ]
      },
      {
       "output_type": "stream",
       "stream": "stdout",
       "text": [
        "\n",
        "D:\\Data\\gpcp_extent//gpcp_1dd_v1.2_p1d.20030429.tif"
       ]
      },
      {
       "output_type": "stream",
       "stream": "stdout",
       "text": [
        "\n",
        "D:\\Data\\gpcp_extent//gpcp_1dd_v1.2_p1d.20030500.tif"
       ]
      },
      {
       "output_type": "stream",
       "stream": "stdout",
       "text": [
        "\n",
        "D:\\Data\\gpcp_extent//gpcp_1dd_v1.2_p1d.20030501.tif"
       ]
      },
      {
       "output_type": "stream",
       "stream": "stdout",
       "text": [
        "\n",
        "D:\\Data\\gpcp_extent//gpcp_1dd_v1.2_p1d.20030502.tif"
       ]
      },
      {
       "output_type": "stream",
       "stream": "stdout",
       "text": [
        "\n",
        "D:\\Data\\gpcp_extent//gpcp_1dd_v1.2_p1d.20030503.tif"
       ]
      },
      {
       "output_type": "stream",
       "stream": "stdout",
       "text": [
        "\n",
        "D:\\Data\\gpcp_extent//gpcp_1dd_v1.2_p1d.20030504.tif"
       ]
      },
      {
       "output_type": "stream",
       "stream": "stdout",
       "text": [
        "\n",
        "D:\\Data\\gpcp_extent//gpcp_1dd_v1.2_p1d.20030505.tif"
       ]
      },
      {
       "output_type": "stream",
       "stream": "stdout",
       "text": [
        "\n",
        "D:\\Data\\gpcp_extent//gpcp_1dd_v1.2_p1d.20030506.tif"
       ]
      },
      {
       "output_type": "stream",
       "stream": "stdout",
       "text": [
        "\n",
        "D:\\Data\\gpcp_extent//gpcp_1dd_v1.2_p1d.20030507.tif"
       ]
      },
      {
       "output_type": "stream",
       "stream": "stdout",
       "text": [
        "\n",
        "D:\\Data\\gpcp_extent//gpcp_1dd_v1.2_p1d.20030508.tif"
       ]
      },
      {
       "output_type": "stream",
       "stream": "stdout",
       "text": [
        "\n",
        "D:\\Data\\gpcp_extent//gpcp_1dd_v1.2_p1d.20030509.tif"
       ]
      },
      {
       "output_type": "stream",
       "stream": "stdout",
       "text": [
        "\n",
        "D:\\Data\\gpcp_extent//gpcp_1dd_v1.2_p1d.20030510.tif"
       ]
      },
      {
       "output_type": "stream",
       "stream": "stdout",
       "text": [
        "\n",
        "D:\\Data\\gpcp_extent//gpcp_1dd_v1.2_p1d.20030511.tif"
       ]
      },
      {
       "output_type": "stream",
       "stream": "stdout",
       "text": [
        "\n",
        "D:\\Data\\gpcp_extent//gpcp_1dd_v1.2_p1d.20030512.tif"
       ]
      },
      {
       "output_type": "stream",
       "stream": "stdout",
       "text": [
        "\n",
        "D:\\Data\\gpcp_extent//gpcp_1dd_v1.2_p1d.20030513.tif"
       ]
      },
      {
       "output_type": "stream",
       "stream": "stdout",
       "text": [
        "\n",
        "D:\\Data\\gpcp_extent//gpcp_1dd_v1.2_p1d.20030514.tif"
       ]
      },
      {
       "output_type": "stream",
       "stream": "stdout",
       "text": [
        "\n",
        "D:\\Data\\gpcp_extent//gpcp_1dd_v1.2_p1d.20030515.tif"
       ]
      },
      {
       "output_type": "stream",
       "stream": "stdout",
       "text": [
        "\n",
        "D:\\Data\\gpcp_extent//gpcp_1dd_v1.2_p1d.20030516.tif"
       ]
      },
      {
       "output_type": "stream",
       "stream": "stdout",
       "text": [
        "\n",
        "D:\\Data\\gpcp_extent//gpcp_1dd_v1.2_p1d.20030517.tif"
       ]
      },
      {
       "output_type": "stream",
       "stream": "stdout",
       "text": [
        "\n",
        "D:\\Data\\gpcp_extent//gpcp_1dd_v1.2_p1d.20030518.tif"
       ]
      },
      {
       "output_type": "stream",
       "stream": "stdout",
       "text": [
        "\n",
        "D:\\Data\\gpcp_extent//gpcp_1dd_v1.2_p1d.20030519.tif"
       ]
      },
      {
       "output_type": "stream",
       "stream": "stdout",
       "text": [
        "\n",
        "D:\\Data\\gpcp_extent//gpcp_1dd_v1.2_p1d.20030520.tif"
       ]
      },
      {
       "output_type": "stream",
       "stream": "stdout",
       "text": [
        "\n",
        "D:\\Data\\gpcp_extent//gpcp_1dd_v1.2_p1d.20030521.tif"
       ]
      },
      {
       "output_type": "stream",
       "stream": "stdout",
       "text": [
        "\n",
        "D:\\Data\\gpcp_extent//gpcp_1dd_v1.2_p1d.20030522.tif"
       ]
      },
      {
       "output_type": "stream",
       "stream": "stdout",
       "text": [
        "\n",
        "D:\\Data\\gpcp_extent//gpcp_1dd_v1.2_p1d.20030523.tif"
       ]
      },
      {
       "output_type": "stream",
       "stream": "stdout",
       "text": [
        "\n",
        "D:\\Data\\gpcp_extent//gpcp_1dd_v1.2_p1d.20030524.tif"
       ]
      },
      {
       "output_type": "stream",
       "stream": "stdout",
       "text": [
        "\n",
        "D:\\Data\\gpcp_extent//gpcp_1dd_v1.2_p1d.20030525.tif"
       ]
      },
      {
       "output_type": "stream",
       "stream": "stdout",
       "text": [
        "\n",
        "D:\\Data\\gpcp_extent//gpcp_1dd_v1.2_p1d.20030526.tif"
       ]
      },
      {
       "output_type": "stream",
       "stream": "stdout",
       "text": [
        "\n",
        "D:\\Data\\gpcp_extent//gpcp_1dd_v1.2_p1d.20030527.tif"
       ]
      },
      {
       "output_type": "stream",
       "stream": "stdout",
       "text": [
        "\n",
        "D:\\Data\\gpcp_extent//gpcp_1dd_v1.2_p1d.20030528.tif"
       ]
      },
      {
       "output_type": "stream",
       "stream": "stdout",
       "text": [
        "\n",
        "D:\\Data\\gpcp_extent//gpcp_1dd_v1.2_p1d.20030529.tif"
       ]
      },
      {
       "output_type": "stream",
       "stream": "stdout",
       "text": [
        "\n",
        "D:\\Data\\gpcp_extent//gpcp_1dd_v1.2_p1d.20030530.tif"
       ]
      },
      {
       "output_type": "stream",
       "stream": "stdout",
       "text": [
        "\n",
        "D:\\Data\\gpcp_extent//gpcp_1dd_v1.2_p1d.20030600.tif"
       ]
      },
      {
       "output_type": "stream",
       "stream": "stdout",
       "text": [
        "\n",
        "D:\\Data\\gpcp_extent//gpcp_1dd_v1.2_p1d.20030601.tif"
       ]
      },
      {
       "output_type": "stream",
       "stream": "stdout",
       "text": [
        "\n",
        "D:\\Data\\gpcp_extent//gpcp_1dd_v1.2_p1d.20030602.tif"
       ]
      },
      {
       "output_type": "stream",
       "stream": "stdout",
       "text": [
        "\n",
        "D:\\Data\\gpcp_extent//gpcp_1dd_v1.2_p1d.20030603.tif"
       ]
      },
      {
       "output_type": "stream",
       "stream": "stdout",
       "text": [
        "\n",
        "D:\\Data\\gpcp_extent//gpcp_1dd_v1.2_p1d.20030604.tif"
       ]
      },
      {
       "output_type": "stream",
       "stream": "stdout",
       "text": [
        "\n",
        "D:\\Data\\gpcp_extent//gpcp_1dd_v1.2_p1d.20030605.tif"
       ]
      },
      {
       "output_type": "stream",
       "stream": "stdout",
       "text": [
        "\n",
        "D:\\Data\\gpcp_extent//gpcp_1dd_v1.2_p1d.20030606.tif"
       ]
      },
      {
       "output_type": "stream",
       "stream": "stdout",
       "text": [
        "\n",
        "D:\\Data\\gpcp_extent//gpcp_1dd_v1.2_p1d.20030607.tif"
       ]
      },
      {
       "output_type": "stream",
       "stream": "stdout",
       "text": [
        "\n",
        "D:\\Data\\gpcp_extent//gpcp_1dd_v1.2_p1d.20030608.tif"
       ]
      },
      {
       "output_type": "stream",
       "stream": "stdout",
       "text": [
        "\n",
        "D:\\Data\\gpcp_extent//gpcp_1dd_v1.2_p1d.20030609.tif"
       ]
      },
      {
       "output_type": "stream",
       "stream": "stdout",
       "text": [
        "\n",
        "D:\\Data\\gpcp_extent//gpcp_1dd_v1.2_p1d.20030610.tif"
       ]
      },
      {
       "output_type": "stream",
       "stream": "stdout",
       "text": [
        "\n",
        "D:\\Data\\gpcp_extent//gpcp_1dd_v1.2_p1d.20030611.tif"
       ]
      },
      {
       "output_type": "stream",
       "stream": "stdout",
       "text": [
        "\n",
        "D:\\Data\\gpcp_extent//gpcp_1dd_v1.2_p1d.20030612.tif"
       ]
      },
      {
       "output_type": "stream",
       "stream": "stdout",
       "text": [
        "\n",
        "D:\\Data\\gpcp_extent//gpcp_1dd_v1.2_p1d.20030613.tif"
       ]
      },
      {
       "output_type": "stream",
       "stream": "stdout",
       "text": [
        "\n",
        "D:\\Data\\gpcp_extent//gpcp_1dd_v1.2_p1d.20030614.tif"
       ]
      },
      {
       "output_type": "stream",
       "stream": "stdout",
       "text": [
        "\n",
        "D:\\Data\\gpcp_extent//gpcp_1dd_v1.2_p1d.20030615.tif"
       ]
      },
      {
       "output_type": "stream",
       "stream": "stdout",
       "text": [
        "\n",
        "D:\\Data\\gpcp_extent//gpcp_1dd_v1.2_p1d.20030616.tif"
       ]
      },
      {
       "output_type": "stream",
       "stream": "stdout",
       "text": [
        "\n",
        "D:\\Data\\gpcp_extent//gpcp_1dd_v1.2_p1d.20030617.tif"
       ]
      },
      {
       "output_type": "stream",
       "stream": "stdout",
       "text": [
        "\n",
        "D:\\Data\\gpcp_extent//gpcp_1dd_v1.2_p1d.20030618.tif"
       ]
      },
      {
       "output_type": "stream",
       "stream": "stdout",
       "text": [
        "\n",
        "D:\\Data\\gpcp_extent//gpcp_1dd_v1.2_p1d.20030619.tif"
       ]
      },
      {
       "output_type": "stream",
       "stream": "stdout",
       "text": [
        "\n",
        "D:\\Data\\gpcp_extent//gpcp_1dd_v1.2_p1d.20030620.tif"
       ]
      },
      {
       "output_type": "stream",
       "stream": "stdout",
       "text": [
        "\n",
        "D:\\Data\\gpcp_extent//gpcp_1dd_v1.2_p1d.20030621.tif"
       ]
      },
      {
       "output_type": "stream",
       "stream": "stdout",
       "text": [
        "\n",
        "D:\\Data\\gpcp_extent//gpcp_1dd_v1.2_p1d.20030622.tif"
       ]
      },
      {
       "output_type": "stream",
       "stream": "stdout",
       "text": [
        "\n",
        "D:\\Data\\gpcp_extent//gpcp_1dd_v1.2_p1d.20030623.tif"
       ]
      },
      {
       "output_type": "stream",
       "stream": "stdout",
       "text": [
        "\n",
        "D:\\Data\\gpcp_extent//gpcp_1dd_v1.2_p1d.20030624.tif"
       ]
      },
      {
       "output_type": "stream",
       "stream": "stdout",
       "text": [
        "\n",
        "D:\\Data\\gpcp_extent//gpcp_1dd_v1.2_p1d.20030625.tif"
       ]
      },
      {
       "output_type": "stream",
       "stream": "stdout",
       "text": [
        "\n",
        "D:\\Data\\gpcp_extent//gpcp_1dd_v1.2_p1d.20030626.tif"
       ]
      },
      {
       "output_type": "stream",
       "stream": "stdout",
       "text": [
        "\n",
        "D:\\Data\\gpcp_extent//gpcp_1dd_v1.2_p1d.20030627.tif"
       ]
      },
      {
       "output_type": "stream",
       "stream": "stdout",
       "text": [
        "\n",
        "D:\\Data\\gpcp_extent//gpcp_1dd_v1.2_p1d.20030628.tif"
       ]
      },
      {
       "output_type": "stream",
       "stream": "stdout",
       "text": [
        "\n",
        "D:\\Data\\gpcp_extent//gpcp_1dd_v1.2_p1d.20030629.tif"
       ]
      },
      {
       "output_type": "stream",
       "stream": "stdout",
       "text": [
        "\n",
        "D:\\Data\\gpcp_extent//gpcp_1dd_v1.2_p1d.20030700.tif"
       ]
      },
      {
       "output_type": "stream",
       "stream": "stdout",
       "text": [
        "\n",
        "D:\\Data\\gpcp_extent//gpcp_1dd_v1.2_p1d.20030701.tif"
       ]
      },
      {
       "output_type": "stream",
       "stream": "stdout",
       "text": [
        "\n",
        "D:\\Data\\gpcp_extent//gpcp_1dd_v1.2_p1d.20030702.tif"
       ]
      },
      {
       "output_type": "stream",
       "stream": "stdout",
       "text": [
        "\n",
        "D:\\Data\\gpcp_extent//gpcp_1dd_v1.2_p1d.20030703.tif"
       ]
      },
      {
       "output_type": "stream",
       "stream": "stdout",
       "text": [
        "\n",
        "D:\\Data\\gpcp_extent//gpcp_1dd_v1.2_p1d.20030704.tif"
       ]
      },
      {
       "output_type": "stream",
       "stream": "stdout",
       "text": [
        "\n",
        "D:\\Data\\gpcp_extent//gpcp_1dd_v1.2_p1d.20030705.tif"
       ]
      },
      {
       "output_type": "stream",
       "stream": "stdout",
       "text": [
        "\n",
        "D:\\Data\\gpcp_extent//gpcp_1dd_v1.2_p1d.20030706.tif"
       ]
      },
      {
       "output_type": "stream",
       "stream": "stdout",
       "text": [
        "\n",
        "D:\\Data\\gpcp_extent//gpcp_1dd_v1.2_p1d.20030707.tif"
       ]
      },
      {
       "output_type": "stream",
       "stream": "stdout",
       "text": [
        "\n",
        "D:\\Data\\gpcp_extent//gpcp_1dd_v1.2_p1d.20030708.tif"
       ]
      },
      {
       "output_type": "stream",
       "stream": "stdout",
       "text": [
        "\n",
        "D:\\Data\\gpcp_extent//gpcp_1dd_v1.2_p1d.20030709.tif"
       ]
      },
      {
       "output_type": "stream",
       "stream": "stdout",
       "text": [
        "\n",
        "D:\\Data\\gpcp_extent//gpcp_1dd_v1.2_p1d.20030710.tif"
       ]
      },
      {
       "output_type": "stream",
       "stream": "stdout",
       "text": [
        "\n",
        "D:\\Data\\gpcp_extent//gpcp_1dd_v1.2_p1d.20030711.tif"
       ]
      },
      {
       "output_type": "stream",
       "stream": "stdout",
       "text": [
        "\n",
        "D:\\Data\\gpcp_extent//gpcp_1dd_v1.2_p1d.20030712.tif"
       ]
      },
      {
       "output_type": "stream",
       "stream": "stdout",
       "text": [
        "\n",
        "D:\\Data\\gpcp_extent//gpcp_1dd_v1.2_p1d.20030713.tif"
       ]
      },
      {
       "output_type": "stream",
       "stream": "stdout",
       "text": [
        "\n",
        "D:\\Data\\gpcp_extent//gpcp_1dd_v1.2_p1d.20030714.tif"
       ]
      },
      {
       "output_type": "stream",
       "stream": "stdout",
       "text": [
        "\n",
        "D:\\Data\\gpcp_extent//gpcp_1dd_v1.2_p1d.20030715.tif"
       ]
      },
      {
       "output_type": "stream",
       "stream": "stdout",
       "text": [
        "\n",
        "D:\\Data\\gpcp_extent//gpcp_1dd_v1.2_p1d.20030716.tif"
       ]
      },
      {
       "output_type": "stream",
       "stream": "stdout",
       "text": [
        "\n",
        "D:\\Data\\gpcp_extent//gpcp_1dd_v1.2_p1d.20030717.tif"
       ]
      },
      {
       "output_type": "stream",
       "stream": "stdout",
       "text": [
        "\n",
        "D:\\Data\\gpcp_extent//gpcp_1dd_v1.2_p1d.20030718.tif"
       ]
      },
      {
       "output_type": "stream",
       "stream": "stdout",
       "text": [
        "\n",
        "D:\\Data\\gpcp_extent//gpcp_1dd_v1.2_p1d.20030719.tif"
       ]
      },
      {
       "output_type": "stream",
       "stream": "stdout",
       "text": [
        "\n",
        "D:\\Data\\gpcp_extent//gpcp_1dd_v1.2_p1d.20030720.tif"
       ]
      },
      {
       "output_type": "stream",
       "stream": "stdout",
       "text": [
        "\n",
        "D:\\Data\\gpcp_extent//gpcp_1dd_v1.2_p1d.20030721.tif"
       ]
      },
      {
       "output_type": "stream",
       "stream": "stdout",
       "text": [
        "\n",
        "D:\\Data\\gpcp_extent//gpcp_1dd_v1.2_p1d.20030722.tif"
       ]
      },
      {
       "output_type": "stream",
       "stream": "stdout",
       "text": [
        "\n",
        "D:\\Data\\gpcp_extent//gpcp_1dd_v1.2_p1d.20030723.tif"
       ]
      },
      {
       "output_type": "stream",
       "stream": "stdout",
       "text": [
        "\n",
        "D:\\Data\\gpcp_extent//gpcp_1dd_v1.2_p1d.20030724.tif"
       ]
      },
      {
       "output_type": "stream",
       "stream": "stdout",
       "text": [
        "\n",
        "D:\\Data\\gpcp_extent//gpcp_1dd_v1.2_p1d.20030725.tif"
       ]
      },
      {
       "output_type": "stream",
       "stream": "stdout",
       "text": [
        "\n",
        "D:\\Data\\gpcp_extent//gpcp_1dd_v1.2_p1d.20030726.tif"
       ]
      },
      {
       "output_type": "stream",
       "stream": "stdout",
       "text": [
        "\n",
        "D:\\Data\\gpcp_extent//gpcp_1dd_v1.2_p1d.20030727.tif"
       ]
      },
      {
       "output_type": "stream",
       "stream": "stdout",
       "text": [
        "\n",
        "D:\\Data\\gpcp_extent//gpcp_1dd_v1.2_p1d.20030728.tif"
       ]
      },
      {
       "output_type": "stream",
       "stream": "stdout",
       "text": [
        "\n",
        "D:\\Data\\gpcp_extent//gpcp_1dd_v1.2_p1d.20030729.tif"
       ]
      },
      {
       "output_type": "stream",
       "stream": "stdout",
       "text": [
        "\n",
        "D:\\Data\\gpcp_extent//gpcp_1dd_v1.2_p1d.20030730.tif"
       ]
      },
      {
       "output_type": "stream",
       "stream": "stdout",
       "text": [
        "\n",
        "D:\\Data\\gpcp_extent//gpcp_1dd_v1.2_p1d.20030800.tif"
       ]
      },
      {
       "output_type": "stream",
       "stream": "stdout",
       "text": [
        "\n",
        "D:\\Data\\gpcp_extent//gpcp_1dd_v1.2_p1d.20030801.tif"
       ]
      },
      {
       "output_type": "stream",
       "stream": "stdout",
       "text": [
        "\n",
        "D:\\Data\\gpcp_extent//gpcp_1dd_v1.2_p1d.20030802.tif"
       ]
      },
      {
       "output_type": "stream",
       "stream": "stdout",
       "text": [
        "\n",
        "D:\\Data\\gpcp_extent//gpcp_1dd_v1.2_p1d.20030803.tif"
       ]
      },
      {
       "output_type": "stream",
       "stream": "stdout",
       "text": [
        "\n",
        "D:\\Data\\gpcp_extent//gpcp_1dd_v1.2_p1d.20030804.tif"
       ]
      },
      {
       "output_type": "stream",
       "stream": "stdout",
       "text": [
        "\n",
        "D:\\Data\\gpcp_extent//gpcp_1dd_v1.2_p1d.20030805.tif"
       ]
      },
      {
       "output_type": "stream",
       "stream": "stdout",
       "text": [
        "\n",
        "D:\\Data\\gpcp_extent//gpcp_1dd_v1.2_p1d.20030806.tif"
       ]
      },
      {
       "output_type": "stream",
       "stream": "stdout",
       "text": [
        "\n",
        "D:\\Data\\gpcp_extent//gpcp_1dd_v1.2_p1d.20030807.tif"
       ]
      },
      {
       "output_type": "stream",
       "stream": "stdout",
       "text": [
        "\n",
        "D:\\Data\\gpcp_extent//gpcp_1dd_v1.2_p1d.20030808.tif"
       ]
      },
      {
       "output_type": "stream",
       "stream": "stdout",
       "text": [
        "\n",
        "D:\\Data\\gpcp_extent//gpcp_1dd_v1.2_p1d.20030809.tif"
       ]
      },
      {
       "output_type": "stream",
       "stream": "stdout",
       "text": [
        "\n",
        "D:\\Data\\gpcp_extent//gpcp_1dd_v1.2_p1d.20030810.tif"
       ]
      },
      {
       "output_type": "stream",
       "stream": "stdout",
       "text": [
        "\n",
        "D:\\Data\\gpcp_extent//gpcp_1dd_v1.2_p1d.20030811.tif"
       ]
      },
      {
       "output_type": "stream",
       "stream": "stdout",
       "text": [
        "\n",
        "D:\\Data\\gpcp_extent//gpcp_1dd_v1.2_p1d.20030812.tif"
       ]
      },
      {
       "output_type": "stream",
       "stream": "stdout",
       "text": [
        "\n",
        "D:\\Data\\gpcp_extent//gpcp_1dd_v1.2_p1d.20030813.tif"
       ]
      },
      {
       "output_type": "stream",
       "stream": "stdout",
       "text": [
        "\n",
        "D:\\Data\\gpcp_extent//gpcp_1dd_v1.2_p1d.20030814.tif"
       ]
      },
      {
       "output_type": "stream",
       "stream": "stdout",
       "text": [
        "\n",
        "D:\\Data\\gpcp_extent//gpcp_1dd_v1.2_p1d.20030815.tif"
       ]
      },
      {
       "output_type": "stream",
       "stream": "stdout",
       "text": [
        "\n",
        "D:\\Data\\gpcp_extent//gpcp_1dd_v1.2_p1d.20030816.tif"
       ]
      },
      {
       "output_type": "stream",
       "stream": "stdout",
       "text": [
        "\n",
        "D:\\Data\\gpcp_extent//gpcp_1dd_v1.2_p1d.20030817.tif"
       ]
      },
      {
       "output_type": "stream",
       "stream": "stdout",
       "text": [
        "\n",
        "D:\\Data\\gpcp_extent//gpcp_1dd_v1.2_p1d.20030818.tif"
       ]
      },
      {
       "output_type": "stream",
       "stream": "stdout",
       "text": [
        "\n",
        "D:\\Data\\gpcp_extent//gpcp_1dd_v1.2_p1d.20030819.tif"
       ]
      },
      {
       "output_type": "stream",
       "stream": "stdout",
       "text": [
        "\n",
        "D:\\Data\\gpcp_extent//gpcp_1dd_v1.2_p1d.20030820.tif"
       ]
      },
      {
       "output_type": "stream",
       "stream": "stdout",
       "text": [
        "\n",
        "D:\\Data\\gpcp_extent//gpcp_1dd_v1.2_p1d.20030821.tif"
       ]
      },
      {
       "output_type": "stream",
       "stream": "stdout",
       "text": [
        "\n",
        "D:\\Data\\gpcp_extent//gpcp_1dd_v1.2_p1d.20030822.tif"
       ]
      },
      {
       "output_type": "stream",
       "stream": "stdout",
       "text": [
        "\n",
        "D:\\Data\\gpcp_extent//gpcp_1dd_v1.2_p1d.20030823.tif"
       ]
      },
      {
       "output_type": "stream",
       "stream": "stdout",
       "text": [
        "\n",
        "D:\\Data\\gpcp_extent//gpcp_1dd_v1.2_p1d.20030824.tif"
       ]
      },
      {
       "output_type": "stream",
       "stream": "stdout",
       "text": [
        "\n",
        "D:\\Data\\gpcp_extent//gpcp_1dd_v1.2_p1d.20030825.tif"
       ]
      },
      {
       "output_type": "stream",
       "stream": "stdout",
       "text": [
        "\n",
        "D:\\Data\\gpcp_extent//gpcp_1dd_v1.2_p1d.20030826.tif"
       ]
      },
      {
       "output_type": "stream",
       "stream": "stdout",
       "text": [
        "\n",
        "D:\\Data\\gpcp_extent//gpcp_1dd_v1.2_p1d.20030827.tif"
       ]
      },
      {
       "output_type": "stream",
       "stream": "stdout",
       "text": [
        "\n",
        "D:\\Data\\gpcp_extent//gpcp_1dd_v1.2_p1d.20030828.tif"
       ]
      },
      {
       "output_type": "stream",
       "stream": "stdout",
       "text": [
        "\n",
        "D:\\Data\\gpcp_extent//gpcp_1dd_v1.2_p1d.20030829.tif"
       ]
      },
      {
       "output_type": "stream",
       "stream": "stdout",
       "text": [
        "\n",
        "D:\\Data\\gpcp_extent//gpcp_1dd_v1.2_p1d.20030830.tif"
       ]
      },
      {
       "output_type": "stream",
       "stream": "stdout",
       "text": [
        "\n",
        "D:\\Data\\gpcp_extent//gpcp_1dd_v1.2_p1d.20030900.tif"
       ]
      },
      {
       "output_type": "stream",
       "stream": "stdout",
       "text": [
        "\n",
        "D:\\Data\\gpcp_extent//gpcp_1dd_v1.2_p1d.20030901.tif"
       ]
      },
      {
       "output_type": "stream",
       "stream": "stdout",
       "text": [
        "\n",
        "D:\\Data\\gpcp_extent//gpcp_1dd_v1.2_p1d.20030902.tif"
       ]
      },
      {
       "output_type": "stream",
       "stream": "stdout",
       "text": [
        "\n",
        "D:\\Data\\gpcp_extent//gpcp_1dd_v1.2_p1d.20030903.tif"
       ]
      },
      {
       "output_type": "stream",
       "stream": "stdout",
       "text": [
        "\n",
        "D:\\Data\\gpcp_extent//gpcp_1dd_v1.2_p1d.20030904.tif"
       ]
      },
      {
       "output_type": "stream",
       "stream": "stdout",
       "text": [
        "\n",
        "D:\\Data\\gpcp_extent//gpcp_1dd_v1.2_p1d.20030905.tif"
       ]
      },
      {
       "output_type": "stream",
       "stream": "stdout",
       "text": [
        "\n",
        "D:\\Data\\gpcp_extent//gpcp_1dd_v1.2_p1d.20030906.tif"
       ]
      },
      {
       "output_type": "stream",
       "stream": "stdout",
       "text": [
        "\n",
        "D:\\Data\\gpcp_extent//gpcp_1dd_v1.2_p1d.20030907.tif"
       ]
      },
      {
       "output_type": "stream",
       "stream": "stdout",
       "text": [
        "\n",
        "D:\\Data\\gpcp_extent//gpcp_1dd_v1.2_p1d.20030908.tif"
       ]
      },
      {
       "output_type": "stream",
       "stream": "stdout",
       "text": [
        "\n",
        "D:\\Data\\gpcp_extent//gpcp_1dd_v1.2_p1d.20030909.tif"
       ]
      },
      {
       "output_type": "stream",
       "stream": "stdout",
       "text": [
        "\n",
        "D:\\Data\\gpcp_extent//gpcp_1dd_v1.2_p1d.20030910.tif"
       ]
      },
      {
       "output_type": "stream",
       "stream": "stdout",
       "text": [
        "\n",
        "D:\\Data\\gpcp_extent//gpcp_1dd_v1.2_p1d.20030911.tif"
       ]
      },
      {
       "output_type": "stream",
       "stream": "stdout",
       "text": [
        "\n",
        "D:\\Data\\gpcp_extent//gpcp_1dd_v1.2_p1d.20030912.tif"
       ]
      },
      {
       "output_type": "stream",
       "stream": "stdout",
       "text": [
        "\n",
        "D:\\Data\\gpcp_extent//gpcp_1dd_v1.2_p1d.20030913.tif"
       ]
      },
      {
       "output_type": "stream",
       "stream": "stdout",
       "text": [
        "\n",
        "D:\\Data\\gpcp_extent//gpcp_1dd_v1.2_p1d.20030914.tif"
       ]
      },
      {
       "output_type": "stream",
       "stream": "stdout",
       "text": [
        "\n",
        "D:\\Data\\gpcp_extent//gpcp_1dd_v1.2_p1d.20030915.tif"
       ]
      },
      {
       "output_type": "stream",
       "stream": "stdout",
       "text": [
        "\n",
        "D:\\Data\\gpcp_extent//gpcp_1dd_v1.2_p1d.20030916.tif"
       ]
      },
      {
       "output_type": "stream",
       "stream": "stdout",
       "text": [
        "\n",
        "D:\\Data\\gpcp_extent//gpcp_1dd_v1.2_p1d.20030917.tif"
       ]
      },
      {
       "output_type": "stream",
       "stream": "stdout",
       "text": [
        "\n",
        "D:\\Data\\gpcp_extent//gpcp_1dd_v1.2_p1d.20030918.tif"
       ]
      },
      {
       "output_type": "stream",
       "stream": "stdout",
       "text": [
        "\n",
        "D:\\Data\\gpcp_extent//gpcp_1dd_v1.2_p1d.20030919.tif"
       ]
      },
      {
       "output_type": "stream",
       "stream": "stdout",
       "text": [
        "\n",
        "D:\\Data\\gpcp_extent//gpcp_1dd_v1.2_p1d.20030920.tif"
       ]
      },
      {
       "output_type": "stream",
       "stream": "stdout",
       "text": [
        "\n",
        "D:\\Data\\gpcp_extent//gpcp_1dd_v1.2_p1d.20030921.tif"
       ]
      },
      {
       "output_type": "stream",
       "stream": "stdout",
       "text": [
        "\n",
        "D:\\Data\\gpcp_extent//gpcp_1dd_v1.2_p1d.20030922.tif"
       ]
      },
      {
       "output_type": "stream",
       "stream": "stdout",
       "text": [
        "\n",
        "D:\\Data\\gpcp_extent//gpcp_1dd_v1.2_p1d.20030923.tif"
       ]
      },
      {
       "output_type": "stream",
       "stream": "stdout",
       "text": [
        "\n",
        "D:\\Data\\gpcp_extent//gpcp_1dd_v1.2_p1d.20030924.tif"
       ]
      },
      {
       "output_type": "stream",
       "stream": "stdout",
       "text": [
        "\n",
        "D:\\Data\\gpcp_extent//gpcp_1dd_v1.2_p1d.20030925.tif"
       ]
      },
      {
       "output_type": "stream",
       "stream": "stdout",
       "text": [
        "\n",
        "D:\\Data\\gpcp_extent//gpcp_1dd_v1.2_p1d.20030926.tif"
       ]
      },
      {
       "output_type": "stream",
       "stream": "stdout",
       "text": [
        "\n",
        "D:\\Data\\gpcp_extent//gpcp_1dd_v1.2_p1d.20030927.tif"
       ]
      },
      {
       "output_type": "stream",
       "stream": "stdout",
       "text": [
        "\n",
        "D:\\Data\\gpcp_extent//gpcp_1dd_v1.2_p1d.20030928.tif"
       ]
      },
      {
       "output_type": "stream",
       "stream": "stdout",
       "text": [
        "\n",
        "D:\\Data\\gpcp_extent//gpcp_1dd_v1.2_p1d.20030929.tif"
       ]
      },
      {
       "output_type": "stream",
       "stream": "stdout",
       "text": [
        "\n",
        "D:\\Data\\gpcp_extent//gpcp_1dd_v1.2_p1d.20031000.tif"
       ]
      },
      {
       "output_type": "stream",
       "stream": "stdout",
       "text": [
        "\n",
        "D:\\Data\\gpcp_extent//gpcp_1dd_v1.2_p1d.20031001.tif"
       ]
      },
      {
       "output_type": "stream",
       "stream": "stdout",
       "text": [
        "\n",
        "D:\\Data\\gpcp_extent//gpcp_1dd_v1.2_p1d.20031002.tif"
       ]
      },
      {
       "output_type": "stream",
       "stream": "stdout",
       "text": [
        "\n",
        "D:\\Data\\gpcp_extent//gpcp_1dd_v1.2_p1d.20031003.tif"
       ]
      },
      {
       "output_type": "stream",
       "stream": "stdout",
       "text": [
        "\n",
        "D:\\Data\\gpcp_extent//gpcp_1dd_v1.2_p1d.20031004.tif"
       ]
      },
      {
       "output_type": "stream",
       "stream": "stdout",
       "text": [
        "\n",
        "D:\\Data\\gpcp_extent//gpcp_1dd_v1.2_p1d.20031005.tif"
       ]
      },
      {
       "output_type": "stream",
       "stream": "stdout",
       "text": [
        "\n",
        "D:\\Data\\gpcp_extent//gpcp_1dd_v1.2_p1d.20031006.tif"
       ]
      },
      {
       "output_type": "stream",
       "stream": "stdout",
       "text": [
        "\n",
        "D:\\Data\\gpcp_extent//gpcp_1dd_v1.2_p1d.20031007.tif"
       ]
      },
      {
       "output_type": "stream",
       "stream": "stdout",
       "text": [
        "\n",
        "D:\\Data\\gpcp_extent//gpcp_1dd_v1.2_p1d.20031008.tif"
       ]
      },
      {
       "output_type": "stream",
       "stream": "stdout",
       "text": [
        "\n",
        "D:\\Data\\gpcp_extent//gpcp_1dd_v1.2_p1d.20031009.tif"
       ]
      },
      {
       "output_type": "stream",
       "stream": "stdout",
       "text": [
        "\n",
        "D:\\Data\\gpcp_extent//gpcp_1dd_v1.2_p1d.20031010.tif"
       ]
      },
      {
       "output_type": "stream",
       "stream": "stdout",
       "text": [
        "\n",
        "D:\\Data\\gpcp_extent//gpcp_1dd_v1.2_p1d.20031011.tif"
       ]
      },
      {
       "output_type": "stream",
       "stream": "stdout",
       "text": [
        "\n",
        "D:\\Data\\gpcp_extent//gpcp_1dd_v1.2_p1d.20031012.tif"
       ]
      },
      {
       "output_type": "stream",
       "stream": "stdout",
       "text": [
        "\n",
        "D:\\Data\\gpcp_extent//gpcp_1dd_v1.2_p1d.20031013.tif"
       ]
      },
      {
       "output_type": "stream",
       "stream": "stdout",
       "text": [
        "\n",
        "D:\\Data\\gpcp_extent//gpcp_1dd_v1.2_p1d.20031014.tif"
       ]
      },
      {
       "output_type": "stream",
       "stream": "stdout",
       "text": [
        "\n",
        "D:\\Data\\gpcp_extent//gpcp_1dd_v1.2_p1d.20031015.tif"
       ]
      },
      {
       "output_type": "stream",
       "stream": "stdout",
       "text": [
        "\n",
        "D:\\Data\\gpcp_extent//gpcp_1dd_v1.2_p1d.20031016.tif"
       ]
      },
      {
       "output_type": "stream",
       "stream": "stdout",
       "text": [
        "\n",
        "D:\\Data\\gpcp_extent//gpcp_1dd_v1.2_p1d.20031017.tif"
       ]
      },
      {
       "output_type": "stream",
       "stream": "stdout",
       "text": [
        "\n",
        "D:\\Data\\gpcp_extent//gpcp_1dd_v1.2_p1d.20031018.tif"
       ]
      },
      {
       "output_type": "stream",
       "stream": "stdout",
       "text": [
        "\n",
        "D:\\Data\\gpcp_extent//gpcp_1dd_v1.2_p1d.20031019.tif"
       ]
      },
      {
       "output_type": "stream",
       "stream": "stdout",
       "text": [
        "\n",
        "D:\\Data\\gpcp_extent//gpcp_1dd_v1.2_p1d.20031020.tif"
       ]
      },
      {
       "output_type": "stream",
       "stream": "stdout",
       "text": [
        "\n",
        "D:\\Data\\gpcp_extent//gpcp_1dd_v1.2_p1d.20031021.tif"
       ]
      },
      {
       "output_type": "stream",
       "stream": "stdout",
       "text": [
        "\n",
        "D:\\Data\\gpcp_extent//gpcp_1dd_v1.2_p1d.20031022.tif"
       ]
      },
      {
       "output_type": "stream",
       "stream": "stdout",
       "text": [
        "\n",
        "D:\\Data\\gpcp_extent//gpcp_1dd_v1.2_p1d.20031023.tif"
       ]
      },
      {
       "output_type": "stream",
       "stream": "stdout",
       "text": [
        "\n",
        "D:\\Data\\gpcp_extent//gpcp_1dd_v1.2_p1d.20031024.tif"
       ]
      },
      {
       "output_type": "stream",
       "stream": "stdout",
       "text": [
        "\n",
        "D:\\Data\\gpcp_extent//gpcp_1dd_v1.2_p1d.20031025.tif"
       ]
      },
      {
       "output_type": "stream",
       "stream": "stdout",
       "text": [
        "\n",
        "D:\\Data\\gpcp_extent//gpcp_1dd_v1.2_p1d.20031026.tif"
       ]
      },
      {
       "output_type": "stream",
       "stream": "stdout",
       "text": [
        "\n",
        "D:\\Data\\gpcp_extent//gpcp_1dd_v1.2_p1d.20031027.tif"
       ]
      },
      {
       "output_type": "stream",
       "stream": "stdout",
       "text": [
        "\n",
        "D:\\Data\\gpcp_extent//gpcp_1dd_v1.2_p1d.20031028.tif"
       ]
      },
      {
       "output_type": "stream",
       "stream": "stdout",
       "text": [
        "\n",
        "D:\\Data\\gpcp_extent//gpcp_1dd_v1.2_p1d.20031029.tif"
       ]
      },
      {
       "output_type": "stream",
       "stream": "stdout",
       "text": [
        "\n",
        "D:\\Data\\gpcp_extent//gpcp_1dd_v1.2_p1d.20031030.tif"
       ]
      },
      {
       "output_type": "stream",
       "stream": "stdout",
       "text": [
        "\n",
        "D:\\Data\\gpcp_extent//gpcp_1dd_v1.2_p1d.20031100.tif"
       ]
      },
      {
       "output_type": "stream",
       "stream": "stdout",
       "text": [
        "\n",
        "D:\\Data\\gpcp_extent//gpcp_1dd_v1.2_p1d.20031101.tif"
       ]
      },
      {
       "output_type": "stream",
       "stream": "stdout",
       "text": [
        "\n",
        "D:\\Data\\gpcp_extent//gpcp_1dd_v1.2_p1d.20031102.tif"
       ]
      },
      {
       "output_type": "stream",
       "stream": "stdout",
       "text": [
        "\n",
        "D:\\Data\\gpcp_extent//gpcp_1dd_v1.2_p1d.20031103.tif"
       ]
      },
      {
       "output_type": "stream",
       "stream": "stdout",
       "text": [
        "\n",
        "D:\\Data\\gpcp_extent//gpcp_1dd_v1.2_p1d.20031104.tif"
       ]
      },
      {
       "output_type": "stream",
       "stream": "stdout",
       "text": [
        "\n",
        "D:\\Data\\gpcp_extent//gpcp_1dd_v1.2_p1d.20031105.tif"
       ]
      },
      {
       "output_type": "stream",
       "stream": "stdout",
       "text": [
        "\n",
        "D:\\Data\\gpcp_extent//gpcp_1dd_v1.2_p1d.20031106.tif"
       ]
      },
      {
       "output_type": "stream",
       "stream": "stdout",
       "text": [
        "\n",
        "D:\\Data\\gpcp_extent//gpcp_1dd_v1.2_p1d.20031107.tif"
       ]
      },
      {
       "output_type": "stream",
       "stream": "stdout",
       "text": [
        "\n",
        "D:\\Data\\gpcp_extent//gpcp_1dd_v1.2_p1d.20031108.tif"
       ]
      },
      {
       "output_type": "stream",
       "stream": "stdout",
       "text": [
        "\n",
        "D:\\Data\\gpcp_extent//gpcp_1dd_v1.2_p1d.20031109.tif"
       ]
      },
      {
       "output_type": "stream",
       "stream": "stdout",
       "text": [
        "\n",
        "D:\\Data\\gpcp_extent//gpcp_1dd_v1.2_p1d.20031110.tif"
       ]
      },
      {
       "output_type": "stream",
       "stream": "stdout",
       "text": [
        "\n",
        "D:\\Data\\gpcp_extent//gpcp_1dd_v1.2_p1d.20031111.tif"
       ]
      },
      {
       "output_type": "stream",
       "stream": "stdout",
       "text": [
        "\n",
        "D:\\Data\\gpcp_extent//gpcp_1dd_v1.2_p1d.20031112.tif"
       ]
      },
      {
       "output_type": "stream",
       "stream": "stdout",
       "text": [
        "\n",
        "D:\\Data\\gpcp_extent//gpcp_1dd_v1.2_p1d.20031113.tif"
       ]
      },
      {
       "output_type": "stream",
       "stream": "stdout",
       "text": [
        "\n",
        "D:\\Data\\gpcp_extent//gpcp_1dd_v1.2_p1d.20031114.tif"
       ]
      },
      {
       "output_type": "stream",
       "stream": "stdout",
       "text": [
        "\n",
        "D:\\Data\\gpcp_extent//gpcp_1dd_v1.2_p1d.20031115.tif"
       ]
      },
      {
       "output_type": "stream",
       "stream": "stdout",
       "text": [
        "\n",
        "D:\\Data\\gpcp_extent//gpcp_1dd_v1.2_p1d.20031116.tif"
       ]
      },
      {
       "output_type": "stream",
       "stream": "stdout",
       "text": [
        "\n",
        "D:\\Data\\gpcp_extent//gpcp_1dd_v1.2_p1d.20031117.tif"
       ]
      },
      {
       "output_type": "stream",
       "stream": "stdout",
       "text": [
        "\n",
        "D:\\Data\\gpcp_extent//gpcp_1dd_v1.2_p1d.20031118.tif"
       ]
      },
      {
       "output_type": "stream",
       "stream": "stdout",
       "text": [
        "\n",
        "D:\\Data\\gpcp_extent//gpcp_1dd_v1.2_p1d.20031119.tif"
       ]
      },
      {
       "output_type": "stream",
       "stream": "stdout",
       "text": [
        "\n",
        "D:\\Data\\gpcp_extent//gpcp_1dd_v1.2_p1d.20031120.tif"
       ]
      },
      {
       "output_type": "stream",
       "stream": "stdout",
       "text": [
        "\n",
        "D:\\Data\\gpcp_extent//gpcp_1dd_v1.2_p1d.20031121.tif"
       ]
      },
      {
       "output_type": "stream",
       "stream": "stdout",
       "text": [
        "\n",
        "D:\\Data\\gpcp_extent//gpcp_1dd_v1.2_p1d.20031122.tif"
       ]
      },
      {
       "output_type": "stream",
       "stream": "stdout",
       "text": [
        "\n",
        "D:\\Data\\gpcp_extent//gpcp_1dd_v1.2_p1d.20031123.tif"
       ]
      },
      {
       "output_type": "stream",
       "stream": "stdout",
       "text": [
        "\n",
        "D:\\Data\\gpcp_extent//gpcp_1dd_v1.2_p1d.20031124.tif"
       ]
      },
      {
       "output_type": "stream",
       "stream": "stdout",
       "text": [
        "\n",
        "D:\\Data\\gpcp_extent//gpcp_1dd_v1.2_p1d.20031125.tif"
       ]
      },
      {
       "output_type": "stream",
       "stream": "stdout",
       "text": [
        "\n",
        "D:\\Data\\gpcp_extent//gpcp_1dd_v1.2_p1d.20031126.tif"
       ]
      },
      {
       "output_type": "stream",
       "stream": "stdout",
       "text": [
        "\n",
        "D:\\Data\\gpcp_extent//gpcp_1dd_v1.2_p1d.20031127.tif"
       ]
      },
      {
       "output_type": "stream",
       "stream": "stdout",
       "text": [
        "\n",
        "D:\\Data\\gpcp_extent//gpcp_1dd_v1.2_p1d.20031128.tif"
       ]
      },
      {
       "output_type": "stream",
       "stream": "stdout",
       "text": [
        "\n",
        "D:\\Data\\gpcp_extent//gpcp_1dd_v1.2_p1d.20031129.tif"
       ]
      },
      {
       "output_type": "stream",
       "stream": "stdout",
       "text": [
        "\n",
        "D:\\Data\\gpcp_extent//gpcp_1dd_v1.2_p1d.20031200.tif"
       ]
      },
      {
       "output_type": "stream",
       "stream": "stdout",
       "text": [
        "\n",
        "D:\\Data\\gpcp_extent//gpcp_1dd_v1.2_p1d.20031201.tif"
       ]
      },
      {
       "output_type": "stream",
       "stream": "stdout",
       "text": [
        "\n",
        "D:\\Data\\gpcp_extent//gpcp_1dd_v1.2_p1d.20031202.tif"
       ]
      },
      {
       "output_type": "stream",
       "stream": "stdout",
       "text": [
        "\n",
        "D:\\Data\\gpcp_extent//gpcp_1dd_v1.2_p1d.20031203.tif"
       ]
      },
      {
       "output_type": "stream",
       "stream": "stdout",
       "text": [
        "\n",
        "D:\\Data\\gpcp_extent//gpcp_1dd_v1.2_p1d.20031204.tif"
       ]
      },
      {
       "output_type": "stream",
       "stream": "stdout",
       "text": [
        "\n",
        "D:\\Data\\gpcp_extent//gpcp_1dd_v1.2_p1d.20031205.tif"
       ]
      },
      {
       "output_type": "stream",
       "stream": "stdout",
       "text": [
        "\n",
        "D:\\Data\\gpcp_extent//gpcp_1dd_v1.2_p1d.20031206.tif"
       ]
      },
      {
       "output_type": "stream",
       "stream": "stdout",
       "text": [
        "\n",
        "D:\\Data\\gpcp_extent//gpcp_1dd_v1.2_p1d.20031207.tif"
       ]
      },
      {
       "output_type": "stream",
       "stream": "stdout",
       "text": [
        "\n",
        "D:\\Data\\gpcp_extent//gpcp_1dd_v1.2_p1d.20031208.tif"
       ]
      },
      {
       "output_type": "stream",
       "stream": "stdout",
       "text": [
        "\n",
        "D:\\Data\\gpcp_extent//gpcp_1dd_v1.2_p1d.20031209.tif"
       ]
      },
      {
       "output_type": "stream",
       "stream": "stdout",
       "text": [
        "\n",
        "D:\\Data\\gpcp_extent//gpcp_1dd_v1.2_p1d.20031210.tif"
       ]
      },
      {
       "output_type": "stream",
       "stream": "stdout",
       "text": [
        "\n",
        "D:\\Data\\gpcp_extent//gpcp_1dd_v1.2_p1d.20031211.tif"
       ]
      },
      {
       "output_type": "stream",
       "stream": "stdout",
       "text": [
        "\n",
        "D:\\Data\\gpcp_extent//gpcp_1dd_v1.2_p1d.20031212.tif"
       ]
      },
      {
       "output_type": "stream",
       "stream": "stdout",
       "text": [
        "\n",
        "D:\\Data\\gpcp_extent//gpcp_1dd_v1.2_p1d.20031213.tif"
       ]
      },
      {
       "output_type": "stream",
       "stream": "stdout",
       "text": [
        "\n",
        "D:\\Data\\gpcp_extent//gpcp_1dd_v1.2_p1d.20031214.tif"
       ]
      },
      {
       "output_type": "stream",
       "stream": "stdout",
       "text": [
        "\n",
        "D:\\Data\\gpcp_extent//gpcp_1dd_v1.2_p1d.20031215.tif"
       ]
      },
      {
       "output_type": "stream",
       "stream": "stdout",
       "text": [
        "\n",
        "D:\\Data\\gpcp_extent//gpcp_1dd_v1.2_p1d.20031216.tif"
       ]
      },
      {
       "output_type": "stream",
       "stream": "stdout",
       "text": [
        "\n",
        "D:\\Data\\gpcp_extent//gpcp_1dd_v1.2_p1d.20031217.tif"
       ]
      },
      {
       "output_type": "stream",
       "stream": "stdout",
       "text": [
        "\n",
        "D:\\Data\\gpcp_extent//gpcp_1dd_v1.2_p1d.20031218.tif"
       ]
      },
      {
       "output_type": "stream",
       "stream": "stdout",
       "text": [
        "\n",
        "D:\\Data\\gpcp_extent//gpcp_1dd_v1.2_p1d.20031219.tif"
       ]
      },
      {
       "output_type": "stream",
       "stream": "stdout",
       "text": [
        "\n",
        "D:\\Data\\gpcp_extent//gpcp_1dd_v1.2_p1d.20031220.tif"
       ]
      },
      {
       "output_type": "stream",
       "stream": "stdout",
       "text": [
        "\n",
        "D:\\Data\\gpcp_extent//gpcp_1dd_v1.2_p1d.20031221.tif"
       ]
      },
      {
       "output_type": "stream",
       "stream": "stdout",
       "text": [
        "\n",
        "D:\\Data\\gpcp_extent//gpcp_1dd_v1.2_p1d.20031222.tif"
       ]
      },
      {
       "output_type": "stream",
       "stream": "stdout",
       "text": [
        "\n",
        "D:\\Data\\gpcp_extent//gpcp_1dd_v1.2_p1d.20031223.tif"
       ]
      },
      {
       "output_type": "stream",
       "stream": "stdout",
       "text": [
        "\n",
        "D:\\Data\\gpcp_extent//gpcp_1dd_v1.2_p1d.20031224.tif"
       ]
      },
      {
       "output_type": "stream",
       "stream": "stdout",
       "text": [
        "\n",
        "D:\\Data\\gpcp_extent//gpcp_1dd_v1.2_p1d.20031225.tif"
       ]
      },
      {
       "output_type": "stream",
       "stream": "stdout",
       "text": [
        "\n",
        "D:\\Data\\gpcp_extent//gpcp_1dd_v1.2_p1d.20031226.tif"
       ]
      },
      {
       "output_type": "stream",
       "stream": "stdout",
       "text": [
        "\n",
        "D:\\Data\\gpcp_extent//gpcp_1dd_v1.2_p1d.20031227.tif"
       ]
      },
      {
       "output_type": "stream",
       "stream": "stdout",
       "text": [
        "\n",
        "D:\\Data\\gpcp_extent//gpcp_1dd_v1.2_p1d.20031228.tif"
       ]
      },
      {
       "output_type": "stream",
       "stream": "stdout",
       "text": [
        "\n",
        "D:\\Data\\gpcp_extent//gpcp_1dd_v1.2_p1d.20031229.tif"
       ]
      },
      {
       "output_type": "stream",
       "stream": "stdout",
       "text": [
        "\n",
        "D:\\Data\\gpcp_extent//gpcp_1dd_v1.2_p1d.20031230.tif"
       ]
      },
      {
       "output_type": "stream",
       "stream": "stdout",
       "text": [
        "\n",
        "D:\\Data\\gpcp_extent//gpcp_1dd_v1.2_p1d.20040100.tif"
       ]
      },
      {
       "output_type": "stream",
       "stream": "stdout",
       "text": [
        "\n",
        "D:\\Data\\gpcp_extent//gpcp_1dd_v1.2_p1d.20040101.tif"
       ]
      },
      {
       "output_type": "stream",
       "stream": "stdout",
       "text": [
        "\n",
        "D:\\Data\\gpcp_extent//gpcp_1dd_v1.2_p1d.20040102.tif"
       ]
      },
      {
       "output_type": "stream",
       "stream": "stdout",
       "text": [
        "\n",
        "D:\\Data\\gpcp_extent//gpcp_1dd_v1.2_p1d.20040103.tif"
       ]
      },
      {
       "output_type": "stream",
       "stream": "stdout",
       "text": [
        "\n",
        "D:\\Data\\gpcp_extent//gpcp_1dd_v1.2_p1d.20040104.tif"
       ]
      },
      {
       "output_type": "stream",
       "stream": "stdout",
       "text": [
        "\n",
        "D:\\Data\\gpcp_extent//gpcp_1dd_v1.2_p1d.20040105.tif"
       ]
      },
      {
       "output_type": "stream",
       "stream": "stdout",
       "text": [
        "\n",
        "D:\\Data\\gpcp_extent//gpcp_1dd_v1.2_p1d.20040106.tif"
       ]
      },
      {
       "output_type": "stream",
       "stream": "stdout",
       "text": [
        "\n",
        "D:\\Data\\gpcp_extent//gpcp_1dd_v1.2_p1d.20040107.tif"
       ]
      },
      {
       "output_type": "stream",
       "stream": "stdout",
       "text": [
        "\n",
        "D:\\Data\\gpcp_extent//gpcp_1dd_v1.2_p1d.20040108.tif"
       ]
      },
      {
       "output_type": "stream",
       "stream": "stdout",
       "text": [
        "\n",
        "D:\\Data\\gpcp_extent//gpcp_1dd_v1.2_p1d.20040109.tif"
       ]
      },
      {
       "output_type": "stream",
       "stream": "stdout",
       "text": [
        "\n",
        "D:\\Data\\gpcp_extent//gpcp_1dd_v1.2_p1d.20040110.tif"
       ]
      },
      {
       "output_type": "stream",
       "stream": "stdout",
       "text": [
        "\n",
        "D:\\Data\\gpcp_extent//gpcp_1dd_v1.2_p1d.20040111.tif"
       ]
      },
      {
       "output_type": "stream",
       "stream": "stdout",
       "text": [
        "\n",
        "D:\\Data\\gpcp_extent//gpcp_1dd_v1.2_p1d.20040112.tif"
       ]
      },
      {
       "output_type": "stream",
       "stream": "stdout",
       "text": [
        "\n",
        "D:\\Data\\gpcp_extent//gpcp_1dd_v1.2_p1d.20040113.tif"
       ]
      },
      {
       "output_type": "stream",
       "stream": "stdout",
       "text": [
        "\n",
        "D:\\Data\\gpcp_extent//gpcp_1dd_v1.2_p1d.20040114.tif"
       ]
      },
      {
       "output_type": "stream",
       "stream": "stdout",
       "text": [
        "\n",
        "D:\\Data\\gpcp_extent//gpcp_1dd_v1.2_p1d.20040115.tif"
       ]
      },
      {
       "output_type": "stream",
       "stream": "stdout",
       "text": [
        "\n",
        "D:\\Data\\gpcp_extent//gpcp_1dd_v1.2_p1d.20040116.tif"
       ]
      },
      {
       "output_type": "stream",
       "stream": "stdout",
       "text": [
        "\n",
        "D:\\Data\\gpcp_extent//gpcp_1dd_v1.2_p1d.20040117.tif"
       ]
      },
      {
       "output_type": "stream",
       "stream": "stdout",
       "text": [
        "\n",
        "D:\\Data\\gpcp_extent//gpcp_1dd_v1.2_p1d.20040118.tif"
       ]
      },
      {
       "output_type": "stream",
       "stream": "stdout",
       "text": [
        "\n",
        "D:\\Data\\gpcp_extent//gpcp_1dd_v1.2_p1d.20040119.tif"
       ]
      },
      {
       "output_type": "stream",
       "stream": "stdout",
       "text": [
        "\n",
        "D:\\Data\\gpcp_extent//gpcp_1dd_v1.2_p1d.20040120.tif"
       ]
      },
      {
       "output_type": "stream",
       "stream": "stdout",
       "text": [
        "\n",
        "D:\\Data\\gpcp_extent//gpcp_1dd_v1.2_p1d.20040121.tif"
       ]
      },
      {
       "output_type": "stream",
       "stream": "stdout",
       "text": [
        "\n",
        "D:\\Data\\gpcp_extent//gpcp_1dd_v1.2_p1d.20040122.tif"
       ]
      },
      {
       "output_type": "stream",
       "stream": "stdout",
       "text": [
        "\n",
        "D:\\Data\\gpcp_extent//gpcp_1dd_v1.2_p1d.20040123.tif"
       ]
      },
      {
       "output_type": "stream",
       "stream": "stdout",
       "text": [
        "\n",
        "D:\\Data\\gpcp_extent//gpcp_1dd_v1.2_p1d.20040124.tif"
       ]
      },
      {
       "output_type": "stream",
       "stream": "stdout",
       "text": [
        "\n",
        "D:\\Data\\gpcp_extent//gpcp_1dd_v1.2_p1d.20040125.tif"
       ]
      },
      {
       "output_type": "stream",
       "stream": "stdout",
       "text": [
        "\n",
        "D:\\Data\\gpcp_extent//gpcp_1dd_v1.2_p1d.20040126.tif"
       ]
      },
      {
       "output_type": "stream",
       "stream": "stdout",
       "text": [
        "\n",
        "D:\\Data\\gpcp_extent//gpcp_1dd_v1.2_p1d.20040127.tif"
       ]
      },
      {
       "output_type": "stream",
       "stream": "stdout",
       "text": [
        "\n",
        "D:\\Data\\gpcp_extent//gpcp_1dd_v1.2_p1d.20040128.tif"
       ]
      },
      {
       "output_type": "stream",
       "stream": "stdout",
       "text": [
        "\n",
        "D:\\Data\\gpcp_extent//gpcp_1dd_v1.2_p1d.20040129.tif"
       ]
      },
      {
       "output_type": "stream",
       "stream": "stdout",
       "text": [
        "\n",
        "D:\\Data\\gpcp_extent//gpcp_1dd_v1.2_p1d.20040130.tif"
       ]
      },
      {
       "output_type": "stream",
       "stream": "stdout",
       "text": [
        "\n",
        "D:\\Data\\gpcp_extent//gpcp_1dd_v1.2_p1d.20040200.tif"
       ]
      },
      {
       "output_type": "stream",
       "stream": "stdout",
       "text": [
        "\n",
        "D:\\Data\\gpcp_extent//gpcp_1dd_v1.2_p1d.20040201.tif"
       ]
      },
      {
       "output_type": "stream",
       "stream": "stdout",
       "text": [
        "\n",
        "D:\\Data\\gpcp_extent//gpcp_1dd_v1.2_p1d.20040202.tif"
       ]
      },
      {
       "output_type": "stream",
       "stream": "stdout",
       "text": [
        "\n",
        "D:\\Data\\gpcp_extent//gpcp_1dd_v1.2_p1d.20040203.tif"
       ]
      },
      {
       "output_type": "stream",
       "stream": "stdout",
       "text": [
        "\n",
        "D:\\Data\\gpcp_extent//gpcp_1dd_v1.2_p1d.20040204.tif"
       ]
      },
      {
       "output_type": "stream",
       "stream": "stdout",
       "text": [
        "\n",
        "D:\\Data\\gpcp_extent//gpcp_1dd_v1.2_p1d.20040205.tif"
       ]
      },
      {
       "output_type": "stream",
       "stream": "stdout",
       "text": [
        "\n",
        "D:\\Data\\gpcp_extent//gpcp_1dd_v1.2_p1d.20040206.tif"
       ]
      },
      {
       "output_type": "stream",
       "stream": "stdout",
       "text": [
        "\n",
        "D:\\Data\\gpcp_extent//gpcp_1dd_v1.2_p1d.20040207.tif"
       ]
      },
      {
       "output_type": "stream",
       "stream": "stdout",
       "text": [
        "\n",
        "D:\\Data\\gpcp_extent//gpcp_1dd_v1.2_p1d.20040208.tif"
       ]
      },
      {
       "output_type": "stream",
       "stream": "stdout",
       "text": [
        "\n",
        "D:\\Data\\gpcp_extent//gpcp_1dd_v1.2_p1d.20040209.tif"
       ]
      },
      {
       "output_type": "stream",
       "stream": "stdout",
       "text": [
        "\n",
        "D:\\Data\\gpcp_extent//gpcp_1dd_v1.2_p1d.20040210.tif"
       ]
      },
      {
       "output_type": "stream",
       "stream": "stdout",
       "text": [
        "\n",
        "D:\\Data\\gpcp_extent//gpcp_1dd_v1.2_p1d.20040211.tif"
       ]
      },
      {
       "output_type": "stream",
       "stream": "stdout",
       "text": [
        "\n",
        "D:\\Data\\gpcp_extent//gpcp_1dd_v1.2_p1d.20040212.tif"
       ]
      },
      {
       "output_type": "stream",
       "stream": "stdout",
       "text": [
        "\n",
        "D:\\Data\\gpcp_extent//gpcp_1dd_v1.2_p1d.20040213.tif"
       ]
      },
      {
       "output_type": "stream",
       "stream": "stdout",
       "text": [
        "\n",
        "D:\\Data\\gpcp_extent//gpcp_1dd_v1.2_p1d.20040214.tif"
       ]
      },
      {
       "output_type": "stream",
       "stream": "stdout",
       "text": [
        "\n",
        "D:\\Data\\gpcp_extent//gpcp_1dd_v1.2_p1d.20040215.tif"
       ]
      },
      {
       "output_type": "stream",
       "stream": "stdout",
       "text": [
        "\n",
        "D:\\Data\\gpcp_extent//gpcp_1dd_v1.2_p1d.20040216.tif"
       ]
      },
      {
       "output_type": "stream",
       "stream": "stdout",
       "text": [
        "\n",
        "D:\\Data\\gpcp_extent//gpcp_1dd_v1.2_p1d.20040217.tif"
       ]
      },
      {
       "output_type": "stream",
       "stream": "stdout",
       "text": [
        "\n",
        "D:\\Data\\gpcp_extent//gpcp_1dd_v1.2_p1d.20040218.tif"
       ]
      },
      {
       "output_type": "stream",
       "stream": "stdout",
       "text": [
        "\n",
        "D:\\Data\\gpcp_extent//gpcp_1dd_v1.2_p1d.20040219.tif"
       ]
      },
      {
       "output_type": "stream",
       "stream": "stdout",
       "text": [
        "\n",
        "D:\\Data\\gpcp_extent//gpcp_1dd_v1.2_p1d.20040220.tif"
       ]
      },
      {
       "output_type": "stream",
       "stream": "stdout",
       "text": [
        "\n",
        "D:\\Data\\gpcp_extent//gpcp_1dd_v1.2_p1d.20040221.tif"
       ]
      },
      {
       "output_type": "stream",
       "stream": "stdout",
       "text": [
        "\n",
        "D:\\Data\\gpcp_extent//gpcp_1dd_v1.2_p1d.20040222.tif"
       ]
      },
      {
       "output_type": "stream",
       "stream": "stdout",
       "text": [
        "\n",
        "D:\\Data\\gpcp_extent//gpcp_1dd_v1.2_p1d.20040223.tif"
       ]
      },
      {
       "output_type": "stream",
       "stream": "stdout",
       "text": [
        "\n",
        "D:\\Data\\gpcp_extent//gpcp_1dd_v1.2_p1d.20040224.tif"
       ]
      },
      {
       "output_type": "stream",
       "stream": "stdout",
       "text": [
        "\n",
        "D:\\Data\\gpcp_extent//gpcp_1dd_v1.2_p1d.20040225.tif"
       ]
      },
      {
       "output_type": "stream",
       "stream": "stdout",
       "text": [
        "\n",
        "D:\\Data\\gpcp_extent//gpcp_1dd_v1.2_p1d.20040226.tif"
       ]
      },
      {
       "output_type": "stream",
       "stream": "stdout",
       "text": [
        "\n",
        "D:\\Data\\gpcp_extent//gpcp_1dd_v1.2_p1d.20040227.tif"
       ]
      },
      {
       "output_type": "stream",
       "stream": "stdout",
       "text": [
        "\n",
        "D:\\Data\\gpcp_extent//gpcp_1dd_v1.2_p1d.20040228.tif"
       ]
      },
      {
       "output_type": "stream",
       "stream": "stdout",
       "text": [
        "\n",
        "D:\\Data\\gpcp_extent//gpcp_1dd_v1.2_p1d.20040300.tif"
       ]
      },
      {
       "output_type": "stream",
       "stream": "stdout",
       "text": [
        "\n",
        "D:\\Data\\gpcp_extent//gpcp_1dd_v1.2_p1d.20040301.tif"
       ]
      },
      {
       "output_type": "stream",
       "stream": "stdout",
       "text": [
        "\n",
        "D:\\Data\\gpcp_extent//gpcp_1dd_v1.2_p1d.20040302.tif"
       ]
      },
      {
       "output_type": "stream",
       "stream": "stdout",
       "text": [
        "\n",
        "D:\\Data\\gpcp_extent//gpcp_1dd_v1.2_p1d.20040303.tif"
       ]
      },
      {
       "output_type": "stream",
       "stream": "stdout",
       "text": [
        "\n",
        "D:\\Data\\gpcp_extent//gpcp_1dd_v1.2_p1d.20040304.tif"
       ]
      },
      {
       "output_type": "stream",
       "stream": "stdout",
       "text": [
        "\n",
        "D:\\Data\\gpcp_extent//gpcp_1dd_v1.2_p1d.20040305.tif"
       ]
      },
      {
       "output_type": "stream",
       "stream": "stdout",
       "text": [
        "\n",
        "D:\\Data\\gpcp_extent//gpcp_1dd_v1.2_p1d.20040306.tif"
       ]
      },
      {
       "output_type": "stream",
       "stream": "stdout",
       "text": [
        "\n",
        "D:\\Data\\gpcp_extent//gpcp_1dd_v1.2_p1d.20040307.tif"
       ]
      },
      {
       "output_type": "stream",
       "stream": "stdout",
       "text": [
        "\n",
        "D:\\Data\\gpcp_extent//gpcp_1dd_v1.2_p1d.20040308.tif"
       ]
      },
      {
       "output_type": "stream",
       "stream": "stdout",
       "text": [
        "\n",
        "D:\\Data\\gpcp_extent//gpcp_1dd_v1.2_p1d.20040309.tif"
       ]
      },
      {
       "output_type": "stream",
       "stream": "stdout",
       "text": [
        "\n",
        "D:\\Data\\gpcp_extent//gpcp_1dd_v1.2_p1d.20040310.tif"
       ]
      },
      {
       "output_type": "stream",
       "stream": "stdout",
       "text": [
        "\n",
        "D:\\Data\\gpcp_extent//gpcp_1dd_v1.2_p1d.20040311.tif"
       ]
      },
      {
       "output_type": "stream",
       "stream": "stdout",
       "text": [
        "\n",
        "D:\\Data\\gpcp_extent//gpcp_1dd_v1.2_p1d.20040312.tif"
       ]
      },
      {
       "output_type": "stream",
       "stream": "stdout",
       "text": [
        "\n",
        "D:\\Data\\gpcp_extent//gpcp_1dd_v1.2_p1d.20040313.tif"
       ]
      },
      {
       "output_type": "stream",
       "stream": "stdout",
       "text": [
        "\n",
        "D:\\Data\\gpcp_extent//gpcp_1dd_v1.2_p1d.20040314.tif"
       ]
      },
      {
       "output_type": "stream",
       "stream": "stdout",
       "text": [
        "\n",
        "D:\\Data\\gpcp_extent//gpcp_1dd_v1.2_p1d.20040315.tif"
       ]
      },
      {
       "output_type": "stream",
       "stream": "stdout",
       "text": [
        "\n",
        "D:\\Data\\gpcp_extent//gpcp_1dd_v1.2_p1d.20040316.tif"
       ]
      },
      {
       "output_type": "stream",
       "stream": "stdout",
       "text": [
        "\n",
        "D:\\Data\\gpcp_extent//gpcp_1dd_v1.2_p1d.20040317.tif"
       ]
      },
      {
       "output_type": "stream",
       "stream": "stdout",
       "text": [
        "\n",
        "D:\\Data\\gpcp_extent//gpcp_1dd_v1.2_p1d.20040318.tif"
       ]
      },
      {
       "output_type": "stream",
       "stream": "stdout",
       "text": [
        "\n",
        "D:\\Data\\gpcp_extent//gpcp_1dd_v1.2_p1d.20040319.tif"
       ]
      },
      {
       "output_type": "stream",
       "stream": "stdout",
       "text": [
        "\n",
        "D:\\Data\\gpcp_extent//gpcp_1dd_v1.2_p1d.20040320.tif"
       ]
      },
      {
       "output_type": "stream",
       "stream": "stdout",
       "text": [
        "\n",
        "D:\\Data\\gpcp_extent//gpcp_1dd_v1.2_p1d.20040321.tif"
       ]
      },
      {
       "output_type": "stream",
       "stream": "stdout",
       "text": [
        "\n",
        "D:\\Data\\gpcp_extent//gpcp_1dd_v1.2_p1d.20040322.tif"
       ]
      },
      {
       "output_type": "stream",
       "stream": "stdout",
       "text": [
        "\n",
        "D:\\Data\\gpcp_extent//gpcp_1dd_v1.2_p1d.20040323.tif"
       ]
      },
      {
       "output_type": "stream",
       "stream": "stdout",
       "text": [
        "\n",
        "D:\\Data\\gpcp_extent//gpcp_1dd_v1.2_p1d.20040324.tif"
       ]
      },
      {
       "output_type": "stream",
       "stream": "stdout",
       "text": [
        "\n",
        "D:\\Data\\gpcp_extent//gpcp_1dd_v1.2_p1d.20040325.tif"
       ]
      },
      {
       "output_type": "stream",
       "stream": "stdout",
       "text": [
        "\n",
        "D:\\Data\\gpcp_extent//gpcp_1dd_v1.2_p1d.20040326.tif"
       ]
      },
      {
       "output_type": "stream",
       "stream": "stdout",
       "text": [
        "\n",
        "D:\\Data\\gpcp_extent//gpcp_1dd_v1.2_p1d.20040327.tif"
       ]
      },
      {
       "output_type": "stream",
       "stream": "stdout",
       "text": [
        "\n",
        "D:\\Data\\gpcp_extent//gpcp_1dd_v1.2_p1d.20040328.tif"
       ]
      },
      {
       "output_type": "stream",
       "stream": "stdout",
       "text": [
        "\n",
        "D:\\Data\\gpcp_extent//gpcp_1dd_v1.2_p1d.20040329.tif"
       ]
      },
      {
       "output_type": "stream",
       "stream": "stdout",
       "text": [
        "\n",
        "D:\\Data\\gpcp_extent//gpcp_1dd_v1.2_p1d.20040330.tif"
       ]
      },
      {
       "output_type": "stream",
       "stream": "stdout",
       "text": [
        "\n",
        "D:\\Data\\gpcp_extent//gpcp_1dd_v1.2_p1d.20040400.tif"
       ]
      },
      {
       "output_type": "stream",
       "stream": "stdout",
       "text": [
        "\n",
        "D:\\Data\\gpcp_extent//gpcp_1dd_v1.2_p1d.20040401.tif"
       ]
      },
      {
       "output_type": "stream",
       "stream": "stdout",
       "text": [
        "\n",
        "D:\\Data\\gpcp_extent//gpcp_1dd_v1.2_p1d.20040402.tif"
       ]
      },
      {
       "output_type": "stream",
       "stream": "stdout",
       "text": [
        "\n",
        "D:\\Data\\gpcp_extent//gpcp_1dd_v1.2_p1d.20040403.tif"
       ]
      },
      {
       "output_type": "stream",
       "stream": "stdout",
       "text": [
        "\n",
        "D:\\Data\\gpcp_extent//gpcp_1dd_v1.2_p1d.20040404.tif"
       ]
      },
      {
       "output_type": "stream",
       "stream": "stdout",
       "text": [
        "\n",
        "D:\\Data\\gpcp_extent//gpcp_1dd_v1.2_p1d.20040405.tif"
       ]
      },
      {
       "output_type": "stream",
       "stream": "stdout",
       "text": [
        "\n",
        "D:\\Data\\gpcp_extent//gpcp_1dd_v1.2_p1d.20040406.tif"
       ]
      },
      {
       "output_type": "stream",
       "stream": "stdout",
       "text": [
        "\n",
        "D:\\Data\\gpcp_extent//gpcp_1dd_v1.2_p1d.20040407.tif"
       ]
      },
      {
       "output_type": "stream",
       "stream": "stdout",
       "text": [
        "\n",
        "D:\\Data\\gpcp_extent//gpcp_1dd_v1.2_p1d.20040408.tif"
       ]
      },
      {
       "output_type": "stream",
       "stream": "stdout",
       "text": [
        "\n",
        "D:\\Data\\gpcp_extent//gpcp_1dd_v1.2_p1d.20040409.tif"
       ]
      },
      {
       "output_type": "stream",
       "stream": "stdout",
       "text": [
        "\n",
        "D:\\Data\\gpcp_extent//gpcp_1dd_v1.2_p1d.20040410.tif"
       ]
      },
      {
       "output_type": "stream",
       "stream": "stdout",
       "text": [
        "\n",
        "D:\\Data\\gpcp_extent//gpcp_1dd_v1.2_p1d.20040411.tif"
       ]
      },
      {
       "output_type": "stream",
       "stream": "stdout",
       "text": [
        "\n",
        "D:\\Data\\gpcp_extent//gpcp_1dd_v1.2_p1d.20040412.tif"
       ]
      },
      {
       "output_type": "stream",
       "stream": "stdout",
       "text": [
        "\n",
        "D:\\Data\\gpcp_extent//gpcp_1dd_v1.2_p1d.20040413.tif"
       ]
      },
      {
       "output_type": "stream",
       "stream": "stdout",
       "text": [
        "\n",
        "D:\\Data\\gpcp_extent//gpcp_1dd_v1.2_p1d.20040414.tif"
       ]
      },
      {
       "output_type": "stream",
       "stream": "stdout",
       "text": [
        "\n",
        "D:\\Data\\gpcp_extent//gpcp_1dd_v1.2_p1d.20040415.tif"
       ]
      },
      {
       "output_type": "stream",
       "stream": "stdout",
       "text": [
        "\n",
        "D:\\Data\\gpcp_extent//gpcp_1dd_v1.2_p1d.20040416.tif"
       ]
      },
      {
       "output_type": "stream",
       "stream": "stdout",
       "text": [
        "\n",
        "D:\\Data\\gpcp_extent//gpcp_1dd_v1.2_p1d.20040417.tif"
       ]
      },
      {
       "output_type": "stream",
       "stream": "stdout",
       "text": [
        "\n",
        "D:\\Data\\gpcp_extent//gpcp_1dd_v1.2_p1d.20040418.tif"
       ]
      },
      {
       "output_type": "stream",
       "stream": "stdout",
       "text": [
        "\n",
        "D:\\Data\\gpcp_extent//gpcp_1dd_v1.2_p1d.20040419.tif"
       ]
      },
      {
       "output_type": "stream",
       "stream": "stdout",
       "text": [
        "\n",
        "D:\\Data\\gpcp_extent//gpcp_1dd_v1.2_p1d.20040420.tif"
       ]
      },
      {
       "output_type": "stream",
       "stream": "stdout",
       "text": [
        "\n",
        "D:\\Data\\gpcp_extent//gpcp_1dd_v1.2_p1d.20040421.tif"
       ]
      },
      {
       "output_type": "stream",
       "stream": "stdout",
       "text": [
        "\n",
        "D:\\Data\\gpcp_extent//gpcp_1dd_v1.2_p1d.20040422.tif"
       ]
      },
      {
       "output_type": "stream",
       "stream": "stdout",
       "text": [
        "\n",
        "D:\\Data\\gpcp_extent//gpcp_1dd_v1.2_p1d.20040423.tif"
       ]
      },
      {
       "output_type": "stream",
       "stream": "stdout",
       "text": [
        "\n",
        "D:\\Data\\gpcp_extent//gpcp_1dd_v1.2_p1d.20040424.tif"
       ]
      },
      {
       "output_type": "stream",
       "stream": "stdout",
       "text": [
        "\n",
        "D:\\Data\\gpcp_extent//gpcp_1dd_v1.2_p1d.20040425.tif"
       ]
      },
      {
       "output_type": "stream",
       "stream": "stdout",
       "text": [
        "\n",
        "D:\\Data\\gpcp_extent//gpcp_1dd_v1.2_p1d.20040426.tif"
       ]
      },
      {
       "output_type": "stream",
       "stream": "stdout",
       "text": [
        "\n",
        "D:\\Data\\gpcp_extent//gpcp_1dd_v1.2_p1d.20040427.tif"
       ]
      },
      {
       "output_type": "stream",
       "stream": "stdout",
       "text": [
        "\n",
        "D:\\Data\\gpcp_extent//gpcp_1dd_v1.2_p1d.20040428.tif"
       ]
      },
      {
       "output_type": "stream",
       "stream": "stdout",
       "text": [
        "\n",
        "D:\\Data\\gpcp_extent//gpcp_1dd_v1.2_p1d.20040429.tif"
       ]
      },
      {
       "output_type": "stream",
       "stream": "stdout",
       "text": [
        "\n",
        "D:\\Data\\gpcp_extent//gpcp_1dd_v1.2_p1d.20040500.tif"
       ]
      },
      {
       "output_type": "stream",
       "stream": "stdout",
       "text": [
        "\n",
        "D:\\Data\\gpcp_extent//gpcp_1dd_v1.2_p1d.20040501.tif"
       ]
      },
      {
       "output_type": "stream",
       "stream": "stdout",
       "text": [
        "\n",
        "D:\\Data\\gpcp_extent//gpcp_1dd_v1.2_p1d.20040502.tif"
       ]
      },
      {
       "output_type": "stream",
       "stream": "stdout",
       "text": [
        "\n",
        "D:\\Data\\gpcp_extent//gpcp_1dd_v1.2_p1d.20040503.tif"
       ]
      },
      {
       "output_type": "stream",
       "stream": "stdout",
       "text": [
        "\n",
        "D:\\Data\\gpcp_extent//gpcp_1dd_v1.2_p1d.20040504.tif"
       ]
      },
      {
       "output_type": "stream",
       "stream": "stdout",
       "text": [
        "\n",
        "D:\\Data\\gpcp_extent//gpcp_1dd_v1.2_p1d.20040505.tif"
       ]
      },
      {
       "output_type": "stream",
       "stream": "stdout",
       "text": [
        "\n",
        "D:\\Data\\gpcp_extent//gpcp_1dd_v1.2_p1d.20040506.tif"
       ]
      },
      {
       "output_type": "stream",
       "stream": "stdout",
       "text": [
        "\n",
        "D:\\Data\\gpcp_extent//gpcp_1dd_v1.2_p1d.20040507.tif"
       ]
      },
      {
       "output_type": "stream",
       "stream": "stdout",
       "text": [
        "\n",
        "D:\\Data\\gpcp_extent//gpcp_1dd_v1.2_p1d.20040508.tif"
       ]
      },
      {
       "output_type": "stream",
       "stream": "stdout",
       "text": [
        "\n",
        "D:\\Data\\gpcp_extent//gpcp_1dd_v1.2_p1d.20040509.tif"
       ]
      },
      {
       "output_type": "stream",
       "stream": "stdout",
       "text": [
        "\n",
        "D:\\Data\\gpcp_extent//gpcp_1dd_v1.2_p1d.20040510.tif"
       ]
      },
      {
       "output_type": "stream",
       "stream": "stdout",
       "text": [
        "\n",
        "D:\\Data\\gpcp_extent//gpcp_1dd_v1.2_p1d.20040511.tif"
       ]
      },
      {
       "output_type": "stream",
       "stream": "stdout",
       "text": [
        "\n",
        "D:\\Data\\gpcp_extent//gpcp_1dd_v1.2_p1d.20040512.tif"
       ]
      },
      {
       "output_type": "stream",
       "stream": "stdout",
       "text": [
        "\n",
        "D:\\Data\\gpcp_extent//gpcp_1dd_v1.2_p1d.20040513.tif"
       ]
      },
      {
       "output_type": "stream",
       "stream": "stdout",
       "text": [
        "\n",
        "D:\\Data\\gpcp_extent//gpcp_1dd_v1.2_p1d.20040514.tif"
       ]
      },
      {
       "output_type": "stream",
       "stream": "stdout",
       "text": [
        "\n",
        "D:\\Data\\gpcp_extent//gpcp_1dd_v1.2_p1d.20040515.tif"
       ]
      },
      {
       "output_type": "stream",
       "stream": "stdout",
       "text": [
        "\n",
        "D:\\Data\\gpcp_extent//gpcp_1dd_v1.2_p1d.20040516.tif"
       ]
      },
      {
       "output_type": "stream",
       "stream": "stdout",
       "text": [
        "\n",
        "D:\\Data\\gpcp_extent//gpcp_1dd_v1.2_p1d.20040517.tif"
       ]
      },
      {
       "output_type": "stream",
       "stream": "stdout",
       "text": [
        "\n",
        "D:\\Data\\gpcp_extent//gpcp_1dd_v1.2_p1d.20040518.tif"
       ]
      },
      {
       "output_type": "stream",
       "stream": "stdout",
       "text": [
        "\n",
        "D:\\Data\\gpcp_extent//gpcp_1dd_v1.2_p1d.20040519.tif"
       ]
      },
      {
       "output_type": "stream",
       "stream": "stdout",
       "text": [
        "\n",
        "D:\\Data\\gpcp_extent//gpcp_1dd_v1.2_p1d.20040520.tif"
       ]
      },
      {
       "output_type": "stream",
       "stream": "stdout",
       "text": [
        "\n",
        "D:\\Data\\gpcp_extent//gpcp_1dd_v1.2_p1d.20040521.tif"
       ]
      },
      {
       "output_type": "stream",
       "stream": "stdout",
       "text": [
        "\n",
        "D:\\Data\\gpcp_extent//gpcp_1dd_v1.2_p1d.20040522.tif"
       ]
      },
      {
       "output_type": "stream",
       "stream": "stdout",
       "text": [
        "\n",
        "D:\\Data\\gpcp_extent//gpcp_1dd_v1.2_p1d.20040523.tif"
       ]
      },
      {
       "output_type": "stream",
       "stream": "stdout",
       "text": [
        "\n",
        "D:\\Data\\gpcp_extent//gpcp_1dd_v1.2_p1d.20040524.tif"
       ]
      },
      {
       "output_type": "stream",
       "stream": "stdout",
       "text": [
        "\n",
        "D:\\Data\\gpcp_extent//gpcp_1dd_v1.2_p1d.20040525.tif"
       ]
      },
      {
       "output_type": "stream",
       "stream": "stdout",
       "text": [
        "\n",
        "D:\\Data\\gpcp_extent//gpcp_1dd_v1.2_p1d.20040526.tif"
       ]
      },
      {
       "output_type": "stream",
       "stream": "stdout",
       "text": [
        "\n",
        "D:\\Data\\gpcp_extent//gpcp_1dd_v1.2_p1d.20040527.tif"
       ]
      },
      {
       "output_type": "stream",
       "stream": "stdout",
       "text": [
        "\n",
        "D:\\Data\\gpcp_extent//gpcp_1dd_v1.2_p1d.20040528.tif"
       ]
      },
      {
       "output_type": "stream",
       "stream": "stdout",
       "text": [
        "\n",
        "D:\\Data\\gpcp_extent//gpcp_1dd_v1.2_p1d.20040529.tif"
       ]
      },
      {
       "output_type": "stream",
       "stream": "stdout",
       "text": [
        "\n",
        "D:\\Data\\gpcp_extent//gpcp_1dd_v1.2_p1d.20040530.tif"
       ]
      },
      {
       "output_type": "stream",
       "stream": "stdout",
       "text": [
        "\n",
        "D:\\Data\\gpcp_extent//gpcp_1dd_v1.2_p1d.20040600.tif"
       ]
      },
      {
       "output_type": "stream",
       "stream": "stdout",
       "text": [
        "\n",
        "D:\\Data\\gpcp_extent//gpcp_1dd_v1.2_p1d.20040601.tif"
       ]
      },
      {
       "output_type": "stream",
       "stream": "stdout",
       "text": [
        "\n",
        "D:\\Data\\gpcp_extent//gpcp_1dd_v1.2_p1d.20040602.tif"
       ]
      },
      {
       "output_type": "stream",
       "stream": "stdout",
       "text": [
        "\n",
        "D:\\Data\\gpcp_extent//gpcp_1dd_v1.2_p1d.20040603.tif"
       ]
      },
      {
       "output_type": "stream",
       "stream": "stdout",
       "text": [
        "\n",
        "D:\\Data\\gpcp_extent//gpcp_1dd_v1.2_p1d.20040604.tif"
       ]
      },
      {
       "output_type": "stream",
       "stream": "stdout",
       "text": [
        "\n",
        "D:\\Data\\gpcp_extent//gpcp_1dd_v1.2_p1d.20040605.tif"
       ]
      },
      {
       "output_type": "stream",
       "stream": "stdout",
       "text": [
        "\n",
        "D:\\Data\\gpcp_extent//gpcp_1dd_v1.2_p1d.20040606.tif"
       ]
      },
      {
       "output_type": "stream",
       "stream": "stdout",
       "text": [
        "\n",
        "D:\\Data\\gpcp_extent//gpcp_1dd_v1.2_p1d.20040607.tif"
       ]
      },
      {
       "output_type": "stream",
       "stream": "stdout",
       "text": [
        "\n",
        "D:\\Data\\gpcp_extent//gpcp_1dd_v1.2_p1d.20040608.tif"
       ]
      },
      {
       "output_type": "stream",
       "stream": "stdout",
       "text": [
        "\n",
        "D:\\Data\\gpcp_extent//gpcp_1dd_v1.2_p1d.20040609.tif"
       ]
      },
      {
       "output_type": "stream",
       "stream": "stdout",
       "text": [
        "\n",
        "D:\\Data\\gpcp_extent//gpcp_1dd_v1.2_p1d.20040610.tif"
       ]
      },
      {
       "output_type": "stream",
       "stream": "stdout",
       "text": [
        "\n",
        "D:\\Data\\gpcp_extent//gpcp_1dd_v1.2_p1d.20040611.tif"
       ]
      },
      {
       "output_type": "stream",
       "stream": "stdout",
       "text": [
        "\n",
        "D:\\Data\\gpcp_extent//gpcp_1dd_v1.2_p1d.20040612.tif"
       ]
      },
      {
       "output_type": "stream",
       "stream": "stdout",
       "text": [
        "\n",
        "D:\\Data\\gpcp_extent//gpcp_1dd_v1.2_p1d.20040613.tif"
       ]
      },
      {
       "output_type": "stream",
       "stream": "stdout",
       "text": [
        "\n",
        "D:\\Data\\gpcp_extent//gpcp_1dd_v1.2_p1d.20040614.tif"
       ]
      },
      {
       "output_type": "stream",
       "stream": "stdout",
       "text": [
        "\n",
        "D:\\Data\\gpcp_extent//gpcp_1dd_v1.2_p1d.20040615.tif"
       ]
      },
      {
       "output_type": "stream",
       "stream": "stdout",
       "text": [
        "\n",
        "D:\\Data\\gpcp_extent//gpcp_1dd_v1.2_p1d.20040616.tif"
       ]
      },
      {
       "output_type": "stream",
       "stream": "stdout",
       "text": [
        "\n",
        "D:\\Data\\gpcp_extent//gpcp_1dd_v1.2_p1d.20040617.tif"
       ]
      },
      {
       "output_type": "stream",
       "stream": "stdout",
       "text": [
        "\n",
        "D:\\Data\\gpcp_extent//gpcp_1dd_v1.2_p1d.20040618.tif"
       ]
      },
      {
       "output_type": "stream",
       "stream": "stdout",
       "text": [
        "\n",
        "D:\\Data\\gpcp_extent//gpcp_1dd_v1.2_p1d.20040619.tif"
       ]
      },
      {
       "output_type": "stream",
       "stream": "stdout",
       "text": [
        "\n",
        "D:\\Data\\gpcp_extent//gpcp_1dd_v1.2_p1d.20040620.tif"
       ]
      },
      {
       "output_type": "stream",
       "stream": "stdout",
       "text": [
        "\n",
        "D:\\Data\\gpcp_extent//gpcp_1dd_v1.2_p1d.20040621.tif"
       ]
      },
      {
       "output_type": "stream",
       "stream": "stdout",
       "text": [
        "\n",
        "D:\\Data\\gpcp_extent//gpcp_1dd_v1.2_p1d.20040622.tif"
       ]
      },
      {
       "output_type": "stream",
       "stream": "stdout",
       "text": [
        "\n",
        "D:\\Data\\gpcp_extent//gpcp_1dd_v1.2_p1d.20040623.tif"
       ]
      },
      {
       "output_type": "stream",
       "stream": "stdout",
       "text": [
        "\n",
        "D:\\Data\\gpcp_extent//gpcp_1dd_v1.2_p1d.20040624.tif"
       ]
      },
      {
       "output_type": "stream",
       "stream": "stdout",
       "text": [
        "\n",
        "D:\\Data\\gpcp_extent//gpcp_1dd_v1.2_p1d.20040625.tif"
       ]
      },
      {
       "output_type": "stream",
       "stream": "stdout",
       "text": [
        "\n",
        "D:\\Data\\gpcp_extent//gpcp_1dd_v1.2_p1d.20040626.tif"
       ]
      },
      {
       "output_type": "stream",
       "stream": "stdout",
       "text": [
        "\n",
        "D:\\Data\\gpcp_extent//gpcp_1dd_v1.2_p1d.20040627.tif"
       ]
      },
      {
       "output_type": "stream",
       "stream": "stdout",
       "text": [
        "\n",
        "D:\\Data\\gpcp_extent//gpcp_1dd_v1.2_p1d.20040628.tif"
       ]
      },
      {
       "output_type": "stream",
       "stream": "stdout",
       "text": [
        "\n",
        "D:\\Data\\gpcp_extent//gpcp_1dd_v1.2_p1d.20040629.tif"
       ]
      },
      {
       "output_type": "stream",
       "stream": "stdout",
       "text": [
        "\n",
        "D:\\Data\\gpcp_extent//gpcp_1dd_v1.2_p1d.20040700.tif"
       ]
      },
      {
       "output_type": "stream",
       "stream": "stdout",
       "text": [
        "\n",
        "D:\\Data\\gpcp_extent//gpcp_1dd_v1.2_p1d.20040701.tif"
       ]
      },
      {
       "output_type": "stream",
       "stream": "stdout",
       "text": [
        "\n",
        "D:\\Data\\gpcp_extent//gpcp_1dd_v1.2_p1d.20040702.tif"
       ]
      },
      {
       "output_type": "stream",
       "stream": "stdout",
       "text": [
        "\n",
        "D:\\Data\\gpcp_extent//gpcp_1dd_v1.2_p1d.20040703.tif"
       ]
      },
      {
       "output_type": "stream",
       "stream": "stdout",
       "text": [
        "\n",
        "D:\\Data\\gpcp_extent//gpcp_1dd_v1.2_p1d.20040704.tif"
       ]
      },
      {
       "output_type": "stream",
       "stream": "stdout",
       "text": [
        "\n",
        "D:\\Data\\gpcp_extent//gpcp_1dd_v1.2_p1d.20040705.tif"
       ]
      },
      {
       "output_type": "stream",
       "stream": "stdout",
       "text": [
        "\n",
        "D:\\Data\\gpcp_extent//gpcp_1dd_v1.2_p1d.20040706.tif"
       ]
      },
      {
       "output_type": "stream",
       "stream": "stdout",
       "text": [
        "\n",
        "D:\\Data\\gpcp_extent//gpcp_1dd_v1.2_p1d.20040707.tif"
       ]
      },
      {
       "output_type": "stream",
       "stream": "stdout",
       "text": [
        "\n",
        "D:\\Data\\gpcp_extent//gpcp_1dd_v1.2_p1d.20040708.tif"
       ]
      },
      {
       "output_type": "stream",
       "stream": "stdout",
       "text": [
        "\n",
        "D:\\Data\\gpcp_extent//gpcp_1dd_v1.2_p1d.20040709.tif"
       ]
      },
      {
       "output_type": "stream",
       "stream": "stdout",
       "text": [
        "\n",
        "D:\\Data\\gpcp_extent//gpcp_1dd_v1.2_p1d.20040710.tif"
       ]
      },
      {
       "output_type": "stream",
       "stream": "stdout",
       "text": [
        "\n",
        "D:\\Data\\gpcp_extent//gpcp_1dd_v1.2_p1d.20040711.tif"
       ]
      },
      {
       "output_type": "stream",
       "stream": "stdout",
       "text": [
        "\n",
        "D:\\Data\\gpcp_extent//gpcp_1dd_v1.2_p1d.20040712.tif"
       ]
      },
      {
       "output_type": "stream",
       "stream": "stdout",
       "text": [
        "\n",
        "D:\\Data\\gpcp_extent//gpcp_1dd_v1.2_p1d.20040713.tif"
       ]
      },
      {
       "output_type": "stream",
       "stream": "stdout",
       "text": [
        "\n",
        "D:\\Data\\gpcp_extent//gpcp_1dd_v1.2_p1d.20040714.tif"
       ]
      },
      {
       "output_type": "stream",
       "stream": "stdout",
       "text": [
        "\n",
        "D:\\Data\\gpcp_extent//gpcp_1dd_v1.2_p1d.20040715.tif"
       ]
      },
      {
       "output_type": "stream",
       "stream": "stdout",
       "text": [
        "\n",
        "D:\\Data\\gpcp_extent//gpcp_1dd_v1.2_p1d.20040716.tif"
       ]
      },
      {
       "output_type": "stream",
       "stream": "stdout",
       "text": [
        "\n",
        "D:\\Data\\gpcp_extent//gpcp_1dd_v1.2_p1d.20040717.tif"
       ]
      },
      {
       "output_type": "stream",
       "stream": "stdout",
       "text": [
        "\n",
        "D:\\Data\\gpcp_extent//gpcp_1dd_v1.2_p1d.20040718.tif"
       ]
      },
      {
       "output_type": "stream",
       "stream": "stdout",
       "text": [
        "\n",
        "D:\\Data\\gpcp_extent//gpcp_1dd_v1.2_p1d.20040719.tif"
       ]
      },
      {
       "output_type": "stream",
       "stream": "stdout",
       "text": [
        "\n",
        "D:\\Data\\gpcp_extent//gpcp_1dd_v1.2_p1d.20040720.tif"
       ]
      },
      {
       "output_type": "stream",
       "stream": "stdout",
       "text": [
        "\n",
        "D:\\Data\\gpcp_extent//gpcp_1dd_v1.2_p1d.20040721.tif"
       ]
      },
      {
       "output_type": "stream",
       "stream": "stdout",
       "text": [
        "\n",
        "D:\\Data\\gpcp_extent//gpcp_1dd_v1.2_p1d.20040722.tif"
       ]
      },
      {
       "output_type": "stream",
       "stream": "stdout",
       "text": [
        "\n",
        "D:\\Data\\gpcp_extent//gpcp_1dd_v1.2_p1d.20040723.tif"
       ]
      },
      {
       "output_type": "stream",
       "stream": "stdout",
       "text": [
        "\n",
        "D:\\Data\\gpcp_extent//gpcp_1dd_v1.2_p1d.20040724.tif"
       ]
      },
      {
       "output_type": "stream",
       "stream": "stdout",
       "text": [
        "\n",
        "D:\\Data\\gpcp_extent//gpcp_1dd_v1.2_p1d.20040725.tif"
       ]
      },
      {
       "output_type": "stream",
       "stream": "stdout",
       "text": [
        "\n",
        "D:\\Data\\gpcp_extent//gpcp_1dd_v1.2_p1d.20040726.tif"
       ]
      },
      {
       "output_type": "stream",
       "stream": "stdout",
       "text": [
        "\n",
        "D:\\Data\\gpcp_extent//gpcp_1dd_v1.2_p1d.20040727.tif"
       ]
      },
      {
       "output_type": "stream",
       "stream": "stdout",
       "text": [
        "\n",
        "D:\\Data\\gpcp_extent//gpcp_1dd_v1.2_p1d.20040728.tif"
       ]
      },
      {
       "output_type": "stream",
       "stream": "stdout",
       "text": [
        "\n",
        "D:\\Data\\gpcp_extent//gpcp_1dd_v1.2_p1d.20040729.tif"
       ]
      },
      {
       "output_type": "stream",
       "stream": "stdout",
       "text": [
        "\n",
        "D:\\Data\\gpcp_extent//gpcp_1dd_v1.2_p1d.20040730.tif"
       ]
      },
      {
       "output_type": "stream",
       "stream": "stdout",
       "text": [
        "\n",
        "D:\\Data\\gpcp_extent//gpcp_1dd_v1.2_p1d.20040800.tif"
       ]
      },
      {
       "output_type": "stream",
       "stream": "stdout",
       "text": [
        "\n",
        "D:\\Data\\gpcp_extent//gpcp_1dd_v1.2_p1d.20040801.tif"
       ]
      },
      {
       "output_type": "stream",
       "stream": "stdout",
       "text": [
        "\n",
        "D:\\Data\\gpcp_extent//gpcp_1dd_v1.2_p1d.20040802.tif"
       ]
      },
      {
       "output_type": "stream",
       "stream": "stdout",
       "text": [
        "\n",
        "D:\\Data\\gpcp_extent//gpcp_1dd_v1.2_p1d.20040803.tif"
       ]
      },
      {
       "output_type": "stream",
       "stream": "stdout",
       "text": [
        "\n",
        "D:\\Data\\gpcp_extent//gpcp_1dd_v1.2_p1d.20040804.tif"
       ]
      },
      {
       "output_type": "stream",
       "stream": "stdout",
       "text": [
        "\n",
        "D:\\Data\\gpcp_extent//gpcp_1dd_v1.2_p1d.20040805.tif"
       ]
      },
      {
       "output_type": "stream",
       "stream": "stdout",
       "text": [
        "\n",
        "D:\\Data\\gpcp_extent//gpcp_1dd_v1.2_p1d.20040806.tif"
       ]
      },
      {
       "output_type": "stream",
       "stream": "stdout",
       "text": [
        "\n",
        "D:\\Data\\gpcp_extent//gpcp_1dd_v1.2_p1d.20040807.tif"
       ]
      },
      {
       "output_type": "stream",
       "stream": "stdout",
       "text": [
        "\n",
        "D:\\Data\\gpcp_extent//gpcp_1dd_v1.2_p1d.20040808.tif"
       ]
      },
      {
       "output_type": "stream",
       "stream": "stdout",
       "text": [
        "\n",
        "D:\\Data\\gpcp_extent//gpcp_1dd_v1.2_p1d.20040809.tif"
       ]
      },
      {
       "output_type": "stream",
       "stream": "stdout",
       "text": [
        "\n",
        "D:\\Data\\gpcp_extent//gpcp_1dd_v1.2_p1d.20040810.tif"
       ]
      },
      {
       "output_type": "stream",
       "stream": "stdout",
       "text": [
        "\n",
        "D:\\Data\\gpcp_extent//gpcp_1dd_v1.2_p1d.20040811.tif"
       ]
      },
      {
       "output_type": "stream",
       "stream": "stdout",
       "text": [
        "\n",
        "D:\\Data\\gpcp_extent//gpcp_1dd_v1.2_p1d.20040812.tif"
       ]
      },
      {
       "output_type": "stream",
       "stream": "stdout",
       "text": [
        "\n",
        "D:\\Data\\gpcp_extent//gpcp_1dd_v1.2_p1d.20040813.tif"
       ]
      },
      {
       "output_type": "stream",
       "stream": "stdout",
       "text": [
        "\n",
        "D:\\Data\\gpcp_extent//gpcp_1dd_v1.2_p1d.20040814.tif"
       ]
      },
      {
       "output_type": "stream",
       "stream": "stdout",
       "text": [
        "\n",
        "D:\\Data\\gpcp_extent//gpcp_1dd_v1.2_p1d.20040815.tif"
       ]
      },
      {
       "output_type": "stream",
       "stream": "stdout",
       "text": [
        "\n",
        "D:\\Data\\gpcp_extent//gpcp_1dd_v1.2_p1d.20040816.tif"
       ]
      },
      {
       "output_type": "stream",
       "stream": "stdout",
       "text": [
        "\n",
        "D:\\Data\\gpcp_extent//gpcp_1dd_v1.2_p1d.20040817.tif"
       ]
      },
      {
       "output_type": "stream",
       "stream": "stdout",
       "text": [
        "\n",
        "D:\\Data\\gpcp_extent//gpcp_1dd_v1.2_p1d.20040818.tif"
       ]
      },
      {
       "output_type": "stream",
       "stream": "stdout",
       "text": [
        "\n",
        "D:\\Data\\gpcp_extent//gpcp_1dd_v1.2_p1d.20040819.tif"
       ]
      },
      {
       "output_type": "stream",
       "stream": "stdout",
       "text": [
        "\n",
        "D:\\Data\\gpcp_extent//gpcp_1dd_v1.2_p1d.20040820.tif"
       ]
      },
      {
       "output_type": "stream",
       "stream": "stdout",
       "text": [
        "\n",
        "D:\\Data\\gpcp_extent//gpcp_1dd_v1.2_p1d.20040821.tif"
       ]
      },
      {
       "output_type": "stream",
       "stream": "stdout",
       "text": [
        "\n",
        "D:\\Data\\gpcp_extent//gpcp_1dd_v1.2_p1d.20040822.tif"
       ]
      },
      {
       "output_type": "stream",
       "stream": "stdout",
       "text": [
        "\n",
        "D:\\Data\\gpcp_extent//gpcp_1dd_v1.2_p1d.20040823.tif"
       ]
      },
      {
       "output_type": "stream",
       "stream": "stdout",
       "text": [
        "\n",
        "D:\\Data\\gpcp_extent//gpcp_1dd_v1.2_p1d.20040824.tif"
       ]
      },
      {
       "output_type": "stream",
       "stream": "stdout",
       "text": [
        "\n",
        "D:\\Data\\gpcp_extent//gpcp_1dd_v1.2_p1d.20040825.tif"
       ]
      },
      {
       "output_type": "stream",
       "stream": "stdout",
       "text": [
        "\n",
        "D:\\Data\\gpcp_extent//gpcp_1dd_v1.2_p1d.20040826.tif"
       ]
      },
      {
       "output_type": "stream",
       "stream": "stdout",
       "text": [
        "\n",
        "D:\\Data\\gpcp_extent//gpcp_1dd_v1.2_p1d.20040827.tif"
       ]
      },
      {
       "output_type": "stream",
       "stream": "stdout",
       "text": [
        "\n",
        "D:\\Data\\gpcp_extent//gpcp_1dd_v1.2_p1d.20040828.tif"
       ]
      },
      {
       "output_type": "stream",
       "stream": "stdout",
       "text": [
        "\n",
        "D:\\Data\\gpcp_extent//gpcp_1dd_v1.2_p1d.20040829.tif"
       ]
      },
      {
       "output_type": "stream",
       "stream": "stdout",
       "text": [
        "\n",
        "D:\\Data\\gpcp_extent//gpcp_1dd_v1.2_p1d.20040830.tif"
       ]
      },
      {
       "output_type": "stream",
       "stream": "stdout",
       "text": [
        "\n",
        "D:\\Data\\gpcp_extent//gpcp_1dd_v1.2_p1d.20040900.tif"
       ]
      },
      {
       "output_type": "stream",
       "stream": "stdout",
       "text": [
        "\n",
        "D:\\Data\\gpcp_extent//gpcp_1dd_v1.2_p1d.20040901.tif"
       ]
      },
      {
       "output_type": "stream",
       "stream": "stdout",
       "text": [
        "\n",
        "D:\\Data\\gpcp_extent//gpcp_1dd_v1.2_p1d.20040902.tif"
       ]
      },
      {
       "output_type": "stream",
       "stream": "stdout",
       "text": [
        "\n",
        "D:\\Data\\gpcp_extent//gpcp_1dd_v1.2_p1d.20040903.tif"
       ]
      },
      {
       "output_type": "stream",
       "stream": "stdout",
       "text": [
        "\n",
        "D:\\Data\\gpcp_extent//gpcp_1dd_v1.2_p1d.20040904.tif"
       ]
      },
      {
       "output_type": "stream",
       "stream": "stdout",
       "text": [
        "\n",
        "D:\\Data\\gpcp_extent//gpcp_1dd_v1.2_p1d.20040905.tif"
       ]
      },
      {
       "output_type": "stream",
       "stream": "stdout",
       "text": [
        "\n",
        "D:\\Data\\gpcp_extent//gpcp_1dd_v1.2_p1d.20040906.tif"
       ]
      },
      {
       "output_type": "stream",
       "stream": "stdout",
       "text": [
        "\n",
        "D:\\Data\\gpcp_extent//gpcp_1dd_v1.2_p1d.20040907.tif"
       ]
      },
      {
       "output_type": "stream",
       "stream": "stdout",
       "text": [
        "\n",
        "D:\\Data\\gpcp_extent//gpcp_1dd_v1.2_p1d.20040908.tif"
       ]
      },
      {
       "output_type": "stream",
       "stream": "stdout",
       "text": [
        "\n",
        "D:\\Data\\gpcp_extent//gpcp_1dd_v1.2_p1d.20040909.tif"
       ]
      },
      {
       "output_type": "stream",
       "stream": "stdout",
       "text": [
        "\n",
        "D:\\Data\\gpcp_extent//gpcp_1dd_v1.2_p1d.20040910.tif"
       ]
      },
      {
       "output_type": "stream",
       "stream": "stdout",
       "text": [
        "\n",
        "D:\\Data\\gpcp_extent//gpcp_1dd_v1.2_p1d.20040911.tif"
       ]
      },
      {
       "output_type": "stream",
       "stream": "stdout",
       "text": [
        "\n",
        "D:\\Data\\gpcp_extent//gpcp_1dd_v1.2_p1d.20040912.tif"
       ]
      },
      {
       "output_type": "stream",
       "stream": "stdout",
       "text": [
        "\n",
        "D:\\Data\\gpcp_extent//gpcp_1dd_v1.2_p1d.20040913.tif"
       ]
      },
      {
       "output_type": "stream",
       "stream": "stdout",
       "text": [
        "\n",
        "D:\\Data\\gpcp_extent//gpcp_1dd_v1.2_p1d.20040914.tif"
       ]
      },
      {
       "output_type": "stream",
       "stream": "stdout",
       "text": [
        "\n",
        "D:\\Data\\gpcp_extent//gpcp_1dd_v1.2_p1d.20040915.tif"
       ]
      },
      {
       "output_type": "stream",
       "stream": "stdout",
       "text": [
        "\n",
        "D:\\Data\\gpcp_extent//gpcp_1dd_v1.2_p1d.20040916.tif"
       ]
      },
      {
       "output_type": "stream",
       "stream": "stdout",
       "text": [
        "\n",
        "D:\\Data\\gpcp_extent//gpcp_1dd_v1.2_p1d.20040917.tif"
       ]
      },
      {
       "output_type": "stream",
       "stream": "stdout",
       "text": [
        "\n",
        "D:\\Data\\gpcp_extent//gpcp_1dd_v1.2_p1d.20040918.tif"
       ]
      },
      {
       "output_type": "stream",
       "stream": "stdout",
       "text": [
        "\n",
        "D:\\Data\\gpcp_extent//gpcp_1dd_v1.2_p1d.20040919.tif"
       ]
      },
      {
       "output_type": "stream",
       "stream": "stdout",
       "text": [
        "\n",
        "D:\\Data\\gpcp_extent//gpcp_1dd_v1.2_p1d.20040920.tif"
       ]
      },
      {
       "output_type": "stream",
       "stream": "stdout",
       "text": [
        "\n",
        "D:\\Data\\gpcp_extent//gpcp_1dd_v1.2_p1d.20040921.tif"
       ]
      },
      {
       "output_type": "stream",
       "stream": "stdout",
       "text": [
        "\n",
        "D:\\Data\\gpcp_extent//gpcp_1dd_v1.2_p1d.20040922.tif"
       ]
      },
      {
       "output_type": "stream",
       "stream": "stdout",
       "text": [
        "\n",
        "D:\\Data\\gpcp_extent//gpcp_1dd_v1.2_p1d.20040923.tif"
       ]
      },
      {
       "output_type": "stream",
       "stream": "stdout",
       "text": [
        "\n",
        "D:\\Data\\gpcp_extent//gpcp_1dd_v1.2_p1d.20040924.tif"
       ]
      },
      {
       "output_type": "stream",
       "stream": "stdout",
       "text": [
        "\n",
        "D:\\Data\\gpcp_extent//gpcp_1dd_v1.2_p1d.20040925.tif"
       ]
      },
      {
       "output_type": "stream",
       "stream": "stdout",
       "text": [
        "\n",
        "D:\\Data\\gpcp_extent//gpcp_1dd_v1.2_p1d.20040926.tif"
       ]
      },
      {
       "output_type": "stream",
       "stream": "stdout",
       "text": [
        "\n",
        "D:\\Data\\gpcp_extent//gpcp_1dd_v1.2_p1d.20040927.tif"
       ]
      },
      {
       "output_type": "stream",
       "stream": "stdout",
       "text": [
        "\n",
        "D:\\Data\\gpcp_extent//gpcp_1dd_v1.2_p1d.20040928.tif"
       ]
      },
      {
       "output_type": "stream",
       "stream": "stdout",
       "text": [
        "\n",
        "D:\\Data\\gpcp_extent//gpcp_1dd_v1.2_p1d.20040929.tif"
       ]
      },
      {
       "output_type": "stream",
       "stream": "stdout",
       "text": [
        "\n",
        "D:\\Data\\gpcp_extent//gpcp_1dd_v1.2_p1d.20041000.tif"
       ]
      },
      {
       "output_type": "stream",
       "stream": "stdout",
       "text": [
        "\n",
        "D:\\Data\\gpcp_extent//gpcp_1dd_v1.2_p1d.20041001.tif"
       ]
      },
      {
       "output_type": "stream",
       "stream": "stdout",
       "text": [
        "\n",
        "D:\\Data\\gpcp_extent//gpcp_1dd_v1.2_p1d.20041002.tif"
       ]
      },
      {
       "output_type": "stream",
       "stream": "stdout",
       "text": [
        "\n",
        "D:\\Data\\gpcp_extent//gpcp_1dd_v1.2_p1d.20041003.tif"
       ]
      },
      {
       "output_type": "stream",
       "stream": "stdout",
       "text": [
        "\n",
        "D:\\Data\\gpcp_extent//gpcp_1dd_v1.2_p1d.20041004.tif"
       ]
      },
      {
       "output_type": "stream",
       "stream": "stdout",
       "text": [
        "\n",
        "D:\\Data\\gpcp_extent//gpcp_1dd_v1.2_p1d.20041005.tif"
       ]
      },
      {
       "output_type": "stream",
       "stream": "stdout",
       "text": [
        "\n",
        "D:\\Data\\gpcp_extent//gpcp_1dd_v1.2_p1d.20041006.tif"
       ]
      },
      {
       "output_type": "stream",
       "stream": "stdout",
       "text": [
        "\n",
        "D:\\Data\\gpcp_extent//gpcp_1dd_v1.2_p1d.20041007.tif"
       ]
      },
      {
       "output_type": "stream",
       "stream": "stdout",
       "text": [
        "\n",
        "D:\\Data\\gpcp_extent//gpcp_1dd_v1.2_p1d.20041008.tif"
       ]
      },
      {
       "output_type": "stream",
       "stream": "stdout",
       "text": [
        "\n",
        "D:\\Data\\gpcp_extent//gpcp_1dd_v1.2_p1d.20041009.tif"
       ]
      },
      {
       "output_type": "stream",
       "stream": "stdout",
       "text": [
        "\n",
        "D:\\Data\\gpcp_extent//gpcp_1dd_v1.2_p1d.20041010.tif"
       ]
      },
      {
       "output_type": "stream",
       "stream": "stdout",
       "text": [
        "\n",
        "D:\\Data\\gpcp_extent//gpcp_1dd_v1.2_p1d.20041011.tif"
       ]
      },
      {
       "output_type": "stream",
       "stream": "stdout",
       "text": [
        "\n",
        "D:\\Data\\gpcp_extent//gpcp_1dd_v1.2_p1d.20041012.tif"
       ]
      },
      {
       "output_type": "stream",
       "stream": "stdout",
       "text": [
        "\n",
        "D:\\Data\\gpcp_extent//gpcp_1dd_v1.2_p1d.20041013.tif"
       ]
      },
      {
       "output_type": "stream",
       "stream": "stdout",
       "text": [
        "\n",
        "D:\\Data\\gpcp_extent//gpcp_1dd_v1.2_p1d.20041014.tif"
       ]
      },
      {
       "output_type": "stream",
       "stream": "stdout",
       "text": [
        "\n",
        "D:\\Data\\gpcp_extent//gpcp_1dd_v1.2_p1d.20041015.tif"
       ]
      },
      {
       "output_type": "stream",
       "stream": "stdout",
       "text": [
        "\n",
        "D:\\Data\\gpcp_extent//gpcp_1dd_v1.2_p1d.20041016.tif"
       ]
      },
      {
       "output_type": "stream",
       "stream": "stdout",
       "text": [
        "\n",
        "D:\\Data\\gpcp_extent//gpcp_1dd_v1.2_p1d.20041017.tif"
       ]
      },
      {
       "output_type": "stream",
       "stream": "stdout",
       "text": [
        "\n",
        "D:\\Data\\gpcp_extent//gpcp_1dd_v1.2_p1d.20041018.tif"
       ]
      },
      {
       "output_type": "stream",
       "stream": "stdout",
       "text": [
        "\n",
        "D:\\Data\\gpcp_extent//gpcp_1dd_v1.2_p1d.20041019.tif"
       ]
      },
      {
       "output_type": "stream",
       "stream": "stdout",
       "text": [
        "\n",
        "D:\\Data\\gpcp_extent//gpcp_1dd_v1.2_p1d.20041020.tif"
       ]
      },
      {
       "output_type": "stream",
       "stream": "stdout",
       "text": [
        "\n",
        "D:\\Data\\gpcp_extent//gpcp_1dd_v1.2_p1d.20041021.tif"
       ]
      },
      {
       "output_type": "stream",
       "stream": "stdout",
       "text": [
        "\n",
        "D:\\Data\\gpcp_extent//gpcp_1dd_v1.2_p1d.20041022.tif"
       ]
      },
      {
       "output_type": "stream",
       "stream": "stdout",
       "text": [
        "\n",
        "D:\\Data\\gpcp_extent//gpcp_1dd_v1.2_p1d.20041023.tif"
       ]
      },
      {
       "output_type": "stream",
       "stream": "stdout",
       "text": [
        "\n",
        "D:\\Data\\gpcp_extent//gpcp_1dd_v1.2_p1d.20041024.tif"
       ]
      },
      {
       "output_type": "stream",
       "stream": "stdout",
       "text": [
        "\n",
        "D:\\Data\\gpcp_extent//gpcp_1dd_v1.2_p1d.20041025.tif"
       ]
      },
      {
       "output_type": "stream",
       "stream": "stdout",
       "text": [
        "\n",
        "D:\\Data\\gpcp_extent//gpcp_1dd_v1.2_p1d.20041026.tif"
       ]
      },
      {
       "output_type": "stream",
       "stream": "stdout",
       "text": [
        "\n",
        "D:\\Data\\gpcp_extent//gpcp_1dd_v1.2_p1d.20041027.tif"
       ]
      },
      {
       "output_type": "stream",
       "stream": "stdout",
       "text": [
        "\n",
        "D:\\Data\\gpcp_extent//gpcp_1dd_v1.2_p1d.20041028.tif"
       ]
      },
      {
       "output_type": "stream",
       "stream": "stdout",
       "text": [
        "\n",
        "D:\\Data\\gpcp_extent//gpcp_1dd_v1.2_p1d.20041029.tif"
       ]
      },
      {
       "output_type": "stream",
       "stream": "stdout",
       "text": [
        "\n",
        "D:\\Data\\gpcp_extent//gpcp_1dd_v1.2_p1d.20041030.tif"
       ]
      },
      {
       "output_type": "stream",
       "stream": "stdout",
       "text": [
        "\n",
        "D:\\Data\\gpcp_extent//gpcp_1dd_v1.2_p1d.20041100.tif"
       ]
      },
      {
       "output_type": "stream",
       "stream": "stdout",
       "text": [
        "\n",
        "D:\\Data\\gpcp_extent//gpcp_1dd_v1.2_p1d.20041101.tif"
       ]
      },
      {
       "output_type": "stream",
       "stream": "stdout",
       "text": [
        "\n",
        "D:\\Data\\gpcp_extent//gpcp_1dd_v1.2_p1d.20041102.tif"
       ]
      },
      {
       "output_type": "stream",
       "stream": "stdout",
       "text": [
        "\n",
        "D:\\Data\\gpcp_extent//gpcp_1dd_v1.2_p1d.20041103.tif"
       ]
      },
      {
       "output_type": "stream",
       "stream": "stdout",
       "text": [
        "\n",
        "D:\\Data\\gpcp_extent//gpcp_1dd_v1.2_p1d.20041104.tif"
       ]
      },
      {
       "output_type": "stream",
       "stream": "stdout",
       "text": [
        "\n",
        "D:\\Data\\gpcp_extent//gpcp_1dd_v1.2_p1d.20041105.tif"
       ]
      },
      {
       "output_type": "stream",
       "stream": "stdout",
       "text": [
        "\n",
        "D:\\Data\\gpcp_extent//gpcp_1dd_v1.2_p1d.20041106.tif"
       ]
      },
      {
       "output_type": "stream",
       "stream": "stdout",
       "text": [
        "\n",
        "D:\\Data\\gpcp_extent//gpcp_1dd_v1.2_p1d.20041107.tif"
       ]
      },
      {
       "output_type": "stream",
       "stream": "stdout",
       "text": [
        "\n",
        "D:\\Data\\gpcp_extent//gpcp_1dd_v1.2_p1d.20041108.tif"
       ]
      },
      {
       "output_type": "stream",
       "stream": "stdout",
       "text": [
        "\n",
        "D:\\Data\\gpcp_extent//gpcp_1dd_v1.2_p1d.20041109.tif"
       ]
      },
      {
       "output_type": "stream",
       "stream": "stdout",
       "text": [
        "\n",
        "D:\\Data\\gpcp_extent//gpcp_1dd_v1.2_p1d.20041110.tif"
       ]
      },
      {
       "output_type": "stream",
       "stream": "stdout",
       "text": [
        "\n",
        "D:\\Data\\gpcp_extent//gpcp_1dd_v1.2_p1d.20041111.tif"
       ]
      },
      {
       "output_type": "stream",
       "stream": "stdout",
       "text": [
        "\n",
        "D:\\Data\\gpcp_extent//gpcp_1dd_v1.2_p1d.20041112.tif"
       ]
      },
      {
       "output_type": "stream",
       "stream": "stdout",
       "text": [
        "\n",
        "D:\\Data\\gpcp_extent//gpcp_1dd_v1.2_p1d.20041113.tif"
       ]
      },
      {
       "output_type": "stream",
       "stream": "stdout",
       "text": [
        "\n",
        "D:\\Data\\gpcp_extent//gpcp_1dd_v1.2_p1d.20041114.tif"
       ]
      },
      {
       "output_type": "stream",
       "stream": "stdout",
       "text": [
        "\n",
        "D:\\Data\\gpcp_extent//gpcp_1dd_v1.2_p1d.20041115.tif"
       ]
      },
      {
       "output_type": "stream",
       "stream": "stdout",
       "text": [
        "\n",
        "D:\\Data\\gpcp_extent//gpcp_1dd_v1.2_p1d.20041116.tif"
       ]
      },
      {
       "output_type": "stream",
       "stream": "stdout",
       "text": [
        "\n",
        "D:\\Data\\gpcp_extent//gpcp_1dd_v1.2_p1d.20041117.tif"
       ]
      },
      {
       "output_type": "stream",
       "stream": "stdout",
       "text": [
        "\n",
        "D:\\Data\\gpcp_extent//gpcp_1dd_v1.2_p1d.20041118.tif"
       ]
      },
      {
       "output_type": "stream",
       "stream": "stdout",
       "text": [
        "\n",
        "D:\\Data\\gpcp_extent//gpcp_1dd_v1.2_p1d.20041119.tif"
       ]
      },
      {
       "output_type": "stream",
       "stream": "stdout",
       "text": [
        "\n",
        "D:\\Data\\gpcp_extent//gpcp_1dd_v1.2_p1d.20041120.tif"
       ]
      },
      {
       "output_type": "stream",
       "stream": "stdout",
       "text": [
        "\n",
        "D:\\Data\\gpcp_extent//gpcp_1dd_v1.2_p1d.20041121.tif"
       ]
      },
      {
       "output_type": "stream",
       "stream": "stdout",
       "text": [
        "\n",
        "D:\\Data\\gpcp_extent//gpcp_1dd_v1.2_p1d.20041122.tif"
       ]
      },
      {
       "output_type": "stream",
       "stream": "stdout",
       "text": [
        "\n",
        "D:\\Data\\gpcp_extent//gpcp_1dd_v1.2_p1d.20041123.tif"
       ]
      },
      {
       "output_type": "stream",
       "stream": "stdout",
       "text": [
        "\n",
        "D:\\Data\\gpcp_extent//gpcp_1dd_v1.2_p1d.20041124.tif"
       ]
      },
      {
       "output_type": "stream",
       "stream": "stdout",
       "text": [
        "\n",
        "D:\\Data\\gpcp_extent//gpcp_1dd_v1.2_p1d.20041125.tif"
       ]
      },
      {
       "output_type": "stream",
       "stream": "stdout",
       "text": [
        "\n",
        "D:\\Data\\gpcp_extent//gpcp_1dd_v1.2_p1d.20041126.tif"
       ]
      },
      {
       "output_type": "stream",
       "stream": "stdout",
       "text": [
        "\n",
        "D:\\Data\\gpcp_extent//gpcp_1dd_v1.2_p1d.20041127.tif"
       ]
      },
      {
       "output_type": "stream",
       "stream": "stdout",
       "text": [
        "\n",
        "D:\\Data\\gpcp_extent//gpcp_1dd_v1.2_p1d.20041128.tif"
       ]
      },
      {
       "output_type": "stream",
       "stream": "stdout",
       "text": [
        "\n",
        "D:\\Data\\gpcp_extent//gpcp_1dd_v1.2_p1d.20041129.tif"
       ]
      },
      {
       "output_type": "stream",
       "stream": "stdout",
       "text": [
        "\n",
        "D:\\Data\\gpcp_extent//gpcp_1dd_v1.2_p1d.20041200.tif"
       ]
      },
      {
       "output_type": "stream",
       "stream": "stdout",
       "text": [
        "\n",
        "D:\\Data\\gpcp_extent//gpcp_1dd_v1.2_p1d.20041201.tif"
       ]
      },
      {
       "output_type": "stream",
       "stream": "stdout",
       "text": [
        "\n",
        "D:\\Data\\gpcp_extent//gpcp_1dd_v1.2_p1d.20041202.tif"
       ]
      },
      {
       "output_type": "stream",
       "stream": "stdout",
       "text": [
        "\n",
        "D:\\Data\\gpcp_extent//gpcp_1dd_v1.2_p1d.20041203.tif"
       ]
      },
      {
       "output_type": "stream",
       "stream": "stdout",
       "text": [
        "\n",
        "D:\\Data\\gpcp_extent//gpcp_1dd_v1.2_p1d.20041204.tif"
       ]
      },
      {
       "output_type": "stream",
       "stream": "stdout",
       "text": [
        "\n",
        "D:\\Data\\gpcp_extent//gpcp_1dd_v1.2_p1d.20041205.tif"
       ]
      },
      {
       "output_type": "stream",
       "stream": "stdout",
       "text": [
        "\n",
        "D:\\Data\\gpcp_extent//gpcp_1dd_v1.2_p1d.20041206.tif"
       ]
      },
      {
       "output_type": "stream",
       "stream": "stdout",
       "text": [
        "\n",
        "D:\\Data\\gpcp_extent//gpcp_1dd_v1.2_p1d.20041207.tif"
       ]
      },
      {
       "output_type": "stream",
       "stream": "stdout",
       "text": [
        "\n",
        "D:\\Data\\gpcp_extent//gpcp_1dd_v1.2_p1d.20041208.tif"
       ]
      },
      {
       "output_type": "stream",
       "stream": "stdout",
       "text": [
        "\n",
        "D:\\Data\\gpcp_extent//gpcp_1dd_v1.2_p1d.20041209.tif"
       ]
      },
      {
       "output_type": "stream",
       "stream": "stdout",
       "text": [
        "\n",
        "D:\\Data\\gpcp_extent//gpcp_1dd_v1.2_p1d.20041210.tif"
       ]
      },
      {
       "output_type": "stream",
       "stream": "stdout",
       "text": [
        "\n",
        "D:\\Data\\gpcp_extent//gpcp_1dd_v1.2_p1d.20041211.tif"
       ]
      },
      {
       "output_type": "stream",
       "stream": "stdout",
       "text": [
        "\n",
        "D:\\Data\\gpcp_extent//gpcp_1dd_v1.2_p1d.20041212.tif"
       ]
      },
      {
       "output_type": "stream",
       "stream": "stdout",
       "text": [
        "\n",
        "D:\\Data\\gpcp_extent//gpcp_1dd_v1.2_p1d.20041213.tif"
       ]
      },
      {
       "output_type": "stream",
       "stream": "stdout",
       "text": [
        "\n",
        "D:\\Data\\gpcp_extent//gpcp_1dd_v1.2_p1d.20041214.tif"
       ]
      },
      {
       "output_type": "stream",
       "stream": "stdout",
       "text": [
        "\n",
        "D:\\Data\\gpcp_extent//gpcp_1dd_v1.2_p1d.20041215.tif"
       ]
      },
      {
       "output_type": "stream",
       "stream": "stdout",
       "text": [
        "\n",
        "D:\\Data\\gpcp_extent//gpcp_1dd_v1.2_p1d.20041216.tif"
       ]
      },
      {
       "output_type": "stream",
       "stream": "stdout",
       "text": [
        "\n",
        "D:\\Data\\gpcp_extent//gpcp_1dd_v1.2_p1d.20041217.tif"
       ]
      },
      {
       "output_type": "stream",
       "stream": "stdout",
       "text": [
        "\n",
        "D:\\Data\\gpcp_extent//gpcp_1dd_v1.2_p1d.20041218.tif"
       ]
      },
      {
       "output_type": "stream",
       "stream": "stdout",
       "text": [
        "\n",
        "D:\\Data\\gpcp_extent//gpcp_1dd_v1.2_p1d.20041219.tif"
       ]
      },
      {
       "output_type": "stream",
       "stream": "stdout",
       "text": [
        "\n",
        "D:\\Data\\gpcp_extent//gpcp_1dd_v1.2_p1d.20041220.tif"
       ]
      },
      {
       "output_type": "stream",
       "stream": "stdout",
       "text": [
        "\n",
        "D:\\Data\\gpcp_extent//gpcp_1dd_v1.2_p1d.20041221.tif"
       ]
      },
      {
       "output_type": "stream",
       "stream": "stdout",
       "text": [
        "\n",
        "D:\\Data\\gpcp_extent//gpcp_1dd_v1.2_p1d.20041222.tif"
       ]
      },
      {
       "output_type": "stream",
       "stream": "stdout",
       "text": [
        "\n",
        "D:\\Data\\gpcp_extent//gpcp_1dd_v1.2_p1d.20041223.tif"
       ]
      },
      {
       "output_type": "stream",
       "stream": "stdout",
       "text": [
        "\n",
        "D:\\Data\\gpcp_extent//gpcp_1dd_v1.2_p1d.20041224.tif"
       ]
      },
      {
       "output_type": "stream",
       "stream": "stdout",
       "text": [
        "\n",
        "D:\\Data\\gpcp_extent//gpcp_1dd_v1.2_p1d.20041225.tif"
       ]
      },
      {
       "output_type": "stream",
       "stream": "stdout",
       "text": [
        "\n",
        "D:\\Data\\gpcp_extent//gpcp_1dd_v1.2_p1d.20041226.tif"
       ]
      },
      {
       "output_type": "stream",
       "stream": "stdout",
       "text": [
        "\n",
        "D:\\Data\\gpcp_extent//gpcp_1dd_v1.2_p1d.20041227.tif"
       ]
      },
      {
       "output_type": "stream",
       "stream": "stdout",
       "text": [
        "\n",
        "D:\\Data\\gpcp_extent//gpcp_1dd_v1.2_p1d.20041228.tif"
       ]
      },
      {
       "output_type": "stream",
       "stream": "stdout",
       "text": [
        "\n",
        "D:\\Data\\gpcp_extent//gpcp_1dd_v1.2_p1d.20041229.tif"
       ]
      },
      {
       "output_type": "stream",
       "stream": "stdout",
       "text": [
        "\n",
        "D:\\Data\\gpcp_extent//gpcp_1dd_v1.2_p1d.20041230.tif"
       ]
      },
      {
       "output_type": "stream",
       "stream": "stdout",
       "text": [
        "\n",
        "D:\\Data\\gpcp_extent//gpcp_1dd_v1.2_p1d.20050100.tif"
       ]
      },
      {
       "output_type": "stream",
       "stream": "stdout",
       "text": [
        "\n",
        "D:\\Data\\gpcp_extent//gpcp_1dd_v1.2_p1d.20050101.tif"
       ]
      },
      {
       "output_type": "stream",
       "stream": "stdout",
       "text": [
        "\n",
        "D:\\Data\\gpcp_extent//gpcp_1dd_v1.2_p1d.20050102.tif"
       ]
      },
      {
       "output_type": "stream",
       "stream": "stdout",
       "text": [
        "\n",
        "D:\\Data\\gpcp_extent//gpcp_1dd_v1.2_p1d.20050103.tif"
       ]
      },
      {
       "output_type": "stream",
       "stream": "stdout",
       "text": [
        "\n",
        "D:\\Data\\gpcp_extent//gpcp_1dd_v1.2_p1d.20050104.tif"
       ]
      },
      {
       "output_type": "stream",
       "stream": "stdout",
       "text": [
        "\n",
        "D:\\Data\\gpcp_extent//gpcp_1dd_v1.2_p1d.20050105.tif"
       ]
      },
      {
       "output_type": "stream",
       "stream": "stdout",
       "text": [
        "\n",
        "D:\\Data\\gpcp_extent//gpcp_1dd_v1.2_p1d.20050106.tif"
       ]
      },
      {
       "output_type": "stream",
       "stream": "stdout",
       "text": [
        "\n",
        "D:\\Data\\gpcp_extent//gpcp_1dd_v1.2_p1d.20050107.tif"
       ]
      },
      {
       "output_type": "stream",
       "stream": "stdout",
       "text": [
        "\n",
        "D:\\Data\\gpcp_extent//gpcp_1dd_v1.2_p1d.20050108.tif"
       ]
      },
      {
       "output_type": "stream",
       "stream": "stdout",
       "text": [
        "\n",
        "D:\\Data\\gpcp_extent//gpcp_1dd_v1.2_p1d.20050109.tif"
       ]
      },
      {
       "output_type": "stream",
       "stream": "stdout",
       "text": [
        "\n",
        "D:\\Data\\gpcp_extent//gpcp_1dd_v1.2_p1d.20050110.tif"
       ]
      },
      {
       "output_type": "stream",
       "stream": "stdout",
       "text": [
        "\n",
        "D:\\Data\\gpcp_extent//gpcp_1dd_v1.2_p1d.20050111.tif"
       ]
      },
      {
       "output_type": "stream",
       "stream": "stdout",
       "text": [
        "\n",
        "D:\\Data\\gpcp_extent//gpcp_1dd_v1.2_p1d.20050112.tif"
       ]
      },
      {
       "output_type": "stream",
       "stream": "stdout",
       "text": [
        "\n",
        "D:\\Data\\gpcp_extent//gpcp_1dd_v1.2_p1d.20050113.tif"
       ]
      },
      {
       "output_type": "stream",
       "stream": "stdout",
       "text": [
        "\n",
        "D:\\Data\\gpcp_extent//gpcp_1dd_v1.2_p1d.20050114.tif"
       ]
      },
      {
       "output_type": "stream",
       "stream": "stdout",
       "text": [
        "\n",
        "D:\\Data\\gpcp_extent//gpcp_1dd_v1.2_p1d.20050115.tif"
       ]
      },
      {
       "output_type": "stream",
       "stream": "stdout",
       "text": [
        "\n",
        "D:\\Data\\gpcp_extent//gpcp_1dd_v1.2_p1d.20050116.tif"
       ]
      },
      {
       "output_type": "stream",
       "stream": "stdout",
       "text": [
        "\n",
        "D:\\Data\\gpcp_extent//gpcp_1dd_v1.2_p1d.20050117.tif"
       ]
      },
      {
       "output_type": "stream",
       "stream": "stdout",
       "text": [
        "\n",
        "D:\\Data\\gpcp_extent//gpcp_1dd_v1.2_p1d.20050118.tif"
       ]
      },
      {
       "output_type": "stream",
       "stream": "stdout",
       "text": [
        "\n",
        "D:\\Data\\gpcp_extent//gpcp_1dd_v1.2_p1d.20050119.tif"
       ]
      },
      {
       "output_type": "stream",
       "stream": "stdout",
       "text": [
        "\n",
        "D:\\Data\\gpcp_extent//gpcp_1dd_v1.2_p1d.20050120.tif"
       ]
      },
      {
       "output_type": "stream",
       "stream": "stdout",
       "text": [
        "\n",
        "D:\\Data\\gpcp_extent//gpcp_1dd_v1.2_p1d.20050121.tif"
       ]
      },
      {
       "output_type": "stream",
       "stream": "stdout",
       "text": [
        "\n",
        "D:\\Data\\gpcp_extent//gpcp_1dd_v1.2_p1d.20050122.tif"
       ]
      },
      {
       "output_type": "stream",
       "stream": "stdout",
       "text": [
        "\n",
        "D:\\Data\\gpcp_extent//gpcp_1dd_v1.2_p1d.20050123.tif"
       ]
      },
      {
       "output_type": "stream",
       "stream": "stdout",
       "text": [
        "\n",
        "D:\\Data\\gpcp_extent//gpcp_1dd_v1.2_p1d.20050124.tif"
       ]
      },
      {
       "output_type": "stream",
       "stream": "stdout",
       "text": [
        "\n",
        "D:\\Data\\gpcp_extent//gpcp_1dd_v1.2_p1d.20050125.tif"
       ]
      },
      {
       "output_type": "stream",
       "stream": "stdout",
       "text": [
        "\n",
        "D:\\Data\\gpcp_extent//gpcp_1dd_v1.2_p1d.20050126.tif"
       ]
      },
      {
       "output_type": "stream",
       "stream": "stdout",
       "text": [
        "\n",
        "D:\\Data\\gpcp_extent//gpcp_1dd_v1.2_p1d.20050127.tif"
       ]
      },
      {
       "output_type": "stream",
       "stream": "stdout",
       "text": [
        "\n",
        "D:\\Data\\gpcp_extent//gpcp_1dd_v1.2_p1d.20050128.tif"
       ]
      },
      {
       "output_type": "stream",
       "stream": "stdout",
       "text": [
        "\n",
        "D:\\Data\\gpcp_extent//gpcp_1dd_v1.2_p1d.20050129.tif"
       ]
      },
      {
       "output_type": "stream",
       "stream": "stdout",
       "text": [
        "\n",
        "D:\\Data\\gpcp_extent//gpcp_1dd_v1.2_p1d.20050130.tif"
       ]
      },
      {
       "output_type": "stream",
       "stream": "stdout",
       "text": [
        "\n",
        "D:\\Data\\gpcp_extent//gpcp_1dd_v1.2_p1d.20050200.tif"
       ]
      },
      {
       "output_type": "stream",
       "stream": "stdout",
       "text": [
        "\n",
        "D:\\Data\\gpcp_extent//gpcp_1dd_v1.2_p1d.20050201.tif"
       ]
      },
      {
       "output_type": "stream",
       "stream": "stdout",
       "text": [
        "\n",
        "D:\\Data\\gpcp_extent//gpcp_1dd_v1.2_p1d.20050202.tif"
       ]
      },
      {
       "output_type": "stream",
       "stream": "stdout",
       "text": [
        "\n",
        "D:\\Data\\gpcp_extent//gpcp_1dd_v1.2_p1d.20050203.tif"
       ]
      },
      {
       "output_type": "stream",
       "stream": "stdout",
       "text": [
        "\n",
        "D:\\Data\\gpcp_extent//gpcp_1dd_v1.2_p1d.20050204.tif"
       ]
      },
      {
       "output_type": "stream",
       "stream": "stdout",
       "text": [
        "\n",
        "D:\\Data\\gpcp_extent//gpcp_1dd_v1.2_p1d.20050205.tif"
       ]
      },
      {
       "output_type": "stream",
       "stream": "stdout",
       "text": [
        "\n",
        "D:\\Data\\gpcp_extent//gpcp_1dd_v1.2_p1d.20050206.tif"
       ]
      },
      {
       "output_type": "stream",
       "stream": "stdout",
       "text": [
        "\n",
        "D:\\Data\\gpcp_extent//gpcp_1dd_v1.2_p1d.20050207.tif"
       ]
      },
      {
       "output_type": "stream",
       "stream": "stdout",
       "text": [
        "\n",
        "D:\\Data\\gpcp_extent//gpcp_1dd_v1.2_p1d.20050208.tif"
       ]
      },
      {
       "output_type": "stream",
       "stream": "stdout",
       "text": [
        "\n",
        "D:\\Data\\gpcp_extent//gpcp_1dd_v1.2_p1d.20050209.tif"
       ]
      },
      {
       "output_type": "stream",
       "stream": "stdout",
       "text": [
        "\n",
        "D:\\Data\\gpcp_extent//gpcp_1dd_v1.2_p1d.20050210.tif"
       ]
      },
      {
       "output_type": "stream",
       "stream": "stdout",
       "text": [
        "\n",
        "D:\\Data\\gpcp_extent//gpcp_1dd_v1.2_p1d.20050211.tif"
       ]
      },
      {
       "output_type": "stream",
       "stream": "stdout",
       "text": [
        "\n",
        "D:\\Data\\gpcp_extent//gpcp_1dd_v1.2_p1d.20050212.tif"
       ]
      },
      {
       "output_type": "stream",
       "stream": "stdout",
       "text": [
        "\n",
        "D:\\Data\\gpcp_extent//gpcp_1dd_v1.2_p1d.20050213.tif"
       ]
      },
      {
       "output_type": "stream",
       "stream": "stdout",
       "text": [
        "\n",
        "D:\\Data\\gpcp_extent//gpcp_1dd_v1.2_p1d.20050214.tif"
       ]
      },
      {
       "output_type": "stream",
       "stream": "stdout",
       "text": [
        "\n",
        "D:\\Data\\gpcp_extent//gpcp_1dd_v1.2_p1d.20050215.tif"
       ]
      },
      {
       "output_type": "stream",
       "stream": "stdout",
       "text": [
        "\n",
        "D:\\Data\\gpcp_extent//gpcp_1dd_v1.2_p1d.20050216.tif"
       ]
      },
      {
       "output_type": "stream",
       "stream": "stdout",
       "text": [
        "\n",
        "D:\\Data\\gpcp_extent//gpcp_1dd_v1.2_p1d.20050217.tif"
       ]
      },
      {
       "output_type": "stream",
       "stream": "stdout",
       "text": [
        "\n",
        "D:\\Data\\gpcp_extent//gpcp_1dd_v1.2_p1d.20050218.tif"
       ]
      },
      {
       "output_type": "stream",
       "stream": "stdout",
       "text": [
        "\n",
        "D:\\Data\\gpcp_extent//gpcp_1dd_v1.2_p1d.20050219.tif"
       ]
      },
      {
       "output_type": "stream",
       "stream": "stdout",
       "text": [
        "\n",
        "D:\\Data\\gpcp_extent//gpcp_1dd_v1.2_p1d.20050220.tif"
       ]
      },
      {
       "output_type": "stream",
       "stream": "stdout",
       "text": [
        "\n",
        "D:\\Data\\gpcp_extent//gpcp_1dd_v1.2_p1d.20050221.tif"
       ]
      },
      {
       "output_type": "stream",
       "stream": "stdout",
       "text": [
        "\n",
        "D:\\Data\\gpcp_extent//gpcp_1dd_v1.2_p1d.20050222.tif"
       ]
      },
      {
       "output_type": "stream",
       "stream": "stdout",
       "text": [
        "\n",
        "D:\\Data\\gpcp_extent//gpcp_1dd_v1.2_p1d.20050223.tif"
       ]
      },
      {
       "output_type": "stream",
       "stream": "stdout",
       "text": [
        "\n",
        "D:\\Data\\gpcp_extent//gpcp_1dd_v1.2_p1d.20050224.tif"
       ]
      },
      {
       "output_type": "stream",
       "stream": "stdout",
       "text": [
        "\n",
        "D:\\Data\\gpcp_extent//gpcp_1dd_v1.2_p1d.20050225.tif"
       ]
      },
      {
       "output_type": "stream",
       "stream": "stdout",
       "text": [
        "\n",
        "D:\\Data\\gpcp_extent//gpcp_1dd_v1.2_p1d.20050226.tif"
       ]
      },
      {
       "output_type": "stream",
       "stream": "stdout",
       "text": [
        "\n",
        "D:\\Data\\gpcp_extent//gpcp_1dd_v1.2_p1d.20050227.tif"
       ]
      },
      {
       "output_type": "stream",
       "stream": "stdout",
       "text": [
        "\n",
        "D:\\Data\\gpcp_extent//gpcp_1dd_v1.2_p1d.20050300.tif"
       ]
      },
      {
       "output_type": "stream",
       "stream": "stdout",
       "text": [
        "\n",
        "D:\\Data\\gpcp_extent//gpcp_1dd_v1.2_p1d.20050301.tif"
       ]
      },
      {
       "output_type": "stream",
       "stream": "stdout",
       "text": [
        "\n",
        "D:\\Data\\gpcp_extent//gpcp_1dd_v1.2_p1d.20050302.tif"
       ]
      },
      {
       "output_type": "stream",
       "stream": "stdout",
       "text": [
        "\n",
        "D:\\Data\\gpcp_extent//gpcp_1dd_v1.2_p1d.20050303.tif"
       ]
      },
      {
       "output_type": "stream",
       "stream": "stdout",
       "text": [
        "\n",
        "D:\\Data\\gpcp_extent//gpcp_1dd_v1.2_p1d.20050304.tif"
       ]
      },
      {
       "output_type": "stream",
       "stream": "stdout",
       "text": [
        "\n",
        "D:\\Data\\gpcp_extent//gpcp_1dd_v1.2_p1d.20050305.tif"
       ]
      },
      {
       "output_type": "stream",
       "stream": "stdout",
       "text": [
        "\n",
        "D:\\Data\\gpcp_extent//gpcp_1dd_v1.2_p1d.20050306.tif"
       ]
      },
      {
       "output_type": "stream",
       "stream": "stdout",
       "text": [
        "\n",
        "D:\\Data\\gpcp_extent//gpcp_1dd_v1.2_p1d.20050307.tif"
       ]
      },
      {
       "output_type": "stream",
       "stream": "stdout",
       "text": [
        "\n",
        "D:\\Data\\gpcp_extent//gpcp_1dd_v1.2_p1d.20050308.tif"
       ]
      },
      {
       "output_type": "stream",
       "stream": "stdout",
       "text": [
        "\n",
        "D:\\Data\\gpcp_extent//gpcp_1dd_v1.2_p1d.20050309.tif"
       ]
      },
      {
       "output_type": "stream",
       "stream": "stdout",
       "text": [
        "\n",
        "D:\\Data\\gpcp_extent//gpcp_1dd_v1.2_p1d.20050310.tif"
       ]
      },
      {
       "output_type": "stream",
       "stream": "stdout",
       "text": [
        "\n",
        "D:\\Data\\gpcp_extent//gpcp_1dd_v1.2_p1d.20050311.tif"
       ]
      },
      {
       "output_type": "stream",
       "stream": "stdout",
       "text": [
        "\n",
        "D:\\Data\\gpcp_extent//gpcp_1dd_v1.2_p1d.20050312.tif"
       ]
      },
      {
       "output_type": "stream",
       "stream": "stdout",
       "text": [
        "\n",
        "D:\\Data\\gpcp_extent//gpcp_1dd_v1.2_p1d.20050313.tif"
       ]
      },
      {
       "output_type": "stream",
       "stream": "stdout",
       "text": [
        "\n",
        "D:\\Data\\gpcp_extent//gpcp_1dd_v1.2_p1d.20050314.tif"
       ]
      },
      {
       "output_type": "stream",
       "stream": "stdout",
       "text": [
        "\n",
        "D:\\Data\\gpcp_extent//gpcp_1dd_v1.2_p1d.20050315.tif"
       ]
      },
      {
       "output_type": "stream",
       "stream": "stdout",
       "text": [
        "\n",
        "D:\\Data\\gpcp_extent//gpcp_1dd_v1.2_p1d.20050316.tif"
       ]
      },
      {
       "output_type": "stream",
       "stream": "stdout",
       "text": [
        "\n",
        "D:\\Data\\gpcp_extent//gpcp_1dd_v1.2_p1d.20050317.tif"
       ]
      },
      {
       "output_type": "stream",
       "stream": "stdout",
       "text": [
        "\n",
        "D:\\Data\\gpcp_extent//gpcp_1dd_v1.2_p1d.20050318.tif"
       ]
      },
      {
       "output_type": "stream",
       "stream": "stdout",
       "text": [
        "\n",
        "D:\\Data\\gpcp_extent//gpcp_1dd_v1.2_p1d.20050319.tif"
       ]
      },
      {
       "output_type": "stream",
       "stream": "stdout",
       "text": [
        "\n",
        "D:\\Data\\gpcp_extent//gpcp_1dd_v1.2_p1d.20050320.tif"
       ]
      },
      {
       "output_type": "stream",
       "stream": "stdout",
       "text": [
        "\n",
        "D:\\Data\\gpcp_extent//gpcp_1dd_v1.2_p1d.20050321.tif"
       ]
      },
      {
       "output_type": "stream",
       "stream": "stdout",
       "text": [
        "\n",
        "D:\\Data\\gpcp_extent//gpcp_1dd_v1.2_p1d.20050322.tif"
       ]
      },
      {
       "output_type": "stream",
       "stream": "stdout",
       "text": [
        "\n",
        "D:\\Data\\gpcp_extent//gpcp_1dd_v1.2_p1d.20050323.tif"
       ]
      },
      {
       "output_type": "stream",
       "stream": "stdout",
       "text": [
        "\n",
        "D:\\Data\\gpcp_extent//gpcp_1dd_v1.2_p1d.20050324.tif"
       ]
      },
      {
       "output_type": "stream",
       "stream": "stdout",
       "text": [
        "\n",
        "D:\\Data\\gpcp_extent//gpcp_1dd_v1.2_p1d.20050325.tif"
       ]
      },
      {
       "output_type": "stream",
       "stream": "stdout",
       "text": [
        "\n",
        "D:\\Data\\gpcp_extent//gpcp_1dd_v1.2_p1d.20050326.tif"
       ]
      },
      {
       "output_type": "stream",
       "stream": "stdout",
       "text": [
        "\n",
        "D:\\Data\\gpcp_extent//gpcp_1dd_v1.2_p1d.20050327.tif"
       ]
      },
      {
       "output_type": "stream",
       "stream": "stdout",
       "text": [
        "\n",
        "D:\\Data\\gpcp_extent//gpcp_1dd_v1.2_p1d.20050328.tif"
       ]
      },
      {
       "output_type": "stream",
       "stream": "stdout",
       "text": [
        "\n",
        "D:\\Data\\gpcp_extent//gpcp_1dd_v1.2_p1d.20050329.tif"
       ]
      },
      {
       "output_type": "stream",
       "stream": "stdout",
       "text": [
        "\n",
        "D:\\Data\\gpcp_extent//gpcp_1dd_v1.2_p1d.20050330.tif"
       ]
      },
      {
       "output_type": "stream",
       "stream": "stdout",
       "text": [
        "\n",
        "D:\\Data\\gpcp_extent//gpcp_1dd_v1.2_p1d.20050400.tif"
       ]
      },
      {
       "output_type": "stream",
       "stream": "stdout",
       "text": [
        "\n",
        "D:\\Data\\gpcp_extent//gpcp_1dd_v1.2_p1d.20050401.tif"
       ]
      },
      {
       "output_type": "stream",
       "stream": "stdout",
       "text": [
        "\n",
        "D:\\Data\\gpcp_extent//gpcp_1dd_v1.2_p1d.20050402.tif"
       ]
      },
      {
       "output_type": "stream",
       "stream": "stdout",
       "text": [
        "\n",
        "D:\\Data\\gpcp_extent//gpcp_1dd_v1.2_p1d.20050403.tif"
       ]
      },
      {
       "output_type": "stream",
       "stream": "stdout",
       "text": [
        "\n",
        "D:\\Data\\gpcp_extent//gpcp_1dd_v1.2_p1d.20050404.tif"
       ]
      },
      {
       "output_type": "stream",
       "stream": "stdout",
       "text": [
        "\n",
        "D:\\Data\\gpcp_extent//gpcp_1dd_v1.2_p1d.20050405.tif"
       ]
      },
      {
       "output_type": "stream",
       "stream": "stdout",
       "text": [
        "\n",
        "D:\\Data\\gpcp_extent//gpcp_1dd_v1.2_p1d.20050406.tif"
       ]
      },
      {
       "output_type": "stream",
       "stream": "stdout",
       "text": [
        "\n",
        "D:\\Data\\gpcp_extent//gpcp_1dd_v1.2_p1d.20050407.tif"
       ]
      },
      {
       "output_type": "stream",
       "stream": "stdout",
       "text": [
        "\n",
        "D:\\Data\\gpcp_extent//gpcp_1dd_v1.2_p1d.20050408.tif"
       ]
      },
      {
       "output_type": "stream",
       "stream": "stdout",
       "text": [
        "\n",
        "D:\\Data\\gpcp_extent//gpcp_1dd_v1.2_p1d.20050409.tif"
       ]
      },
      {
       "output_type": "stream",
       "stream": "stdout",
       "text": [
        "\n",
        "D:\\Data\\gpcp_extent//gpcp_1dd_v1.2_p1d.20050410.tif"
       ]
      },
      {
       "output_type": "stream",
       "stream": "stdout",
       "text": [
        "\n",
        "D:\\Data\\gpcp_extent//gpcp_1dd_v1.2_p1d.20050411.tif"
       ]
      },
      {
       "output_type": "stream",
       "stream": "stdout",
       "text": [
        "\n",
        "D:\\Data\\gpcp_extent//gpcp_1dd_v1.2_p1d.20050412.tif"
       ]
      },
      {
       "output_type": "stream",
       "stream": "stdout",
       "text": [
        "\n",
        "D:\\Data\\gpcp_extent//gpcp_1dd_v1.2_p1d.20050413.tif"
       ]
      },
      {
       "output_type": "stream",
       "stream": "stdout",
       "text": [
        "\n",
        "D:\\Data\\gpcp_extent//gpcp_1dd_v1.2_p1d.20050414.tif"
       ]
      },
      {
       "output_type": "stream",
       "stream": "stdout",
       "text": [
        "\n",
        "D:\\Data\\gpcp_extent//gpcp_1dd_v1.2_p1d.20050415.tif"
       ]
      },
      {
       "output_type": "stream",
       "stream": "stdout",
       "text": [
        "\n",
        "D:\\Data\\gpcp_extent//gpcp_1dd_v1.2_p1d.20050416.tif"
       ]
      },
      {
       "output_type": "stream",
       "stream": "stdout",
       "text": [
        "\n",
        "D:\\Data\\gpcp_extent//gpcp_1dd_v1.2_p1d.20050417.tif"
       ]
      },
      {
       "output_type": "stream",
       "stream": "stdout",
       "text": [
        "\n",
        "D:\\Data\\gpcp_extent//gpcp_1dd_v1.2_p1d.20050418.tif"
       ]
      },
      {
       "output_type": "stream",
       "stream": "stdout",
       "text": [
        "\n",
        "D:\\Data\\gpcp_extent//gpcp_1dd_v1.2_p1d.20050419.tif"
       ]
      },
      {
       "output_type": "stream",
       "stream": "stdout",
       "text": [
        "\n",
        "D:\\Data\\gpcp_extent//gpcp_1dd_v1.2_p1d.20050420.tif"
       ]
      },
      {
       "output_type": "stream",
       "stream": "stdout",
       "text": [
        "\n",
        "D:\\Data\\gpcp_extent//gpcp_1dd_v1.2_p1d.20050421.tif"
       ]
      },
      {
       "output_type": "stream",
       "stream": "stdout",
       "text": [
        "\n",
        "D:\\Data\\gpcp_extent//gpcp_1dd_v1.2_p1d.20050422.tif"
       ]
      },
      {
       "output_type": "stream",
       "stream": "stdout",
       "text": [
        "\n",
        "D:\\Data\\gpcp_extent//gpcp_1dd_v1.2_p1d.20050423.tif"
       ]
      },
      {
       "output_type": "stream",
       "stream": "stdout",
       "text": [
        "\n",
        "D:\\Data\\gpcp_extent//gpcp_1dd_v1.2_p1d.20050424.tif"
       ]
      },
      {
       "output_type": "stream",
       "stream": "stdout",
       "text": [
        "\n",
        "D:\\Data\\gpcp_extent//gpcp_1dd_v1.2_p1d.20050425.tif"
       ]
      },
      {
       "output_type": "stream",
       "stream": "stdout",
       "text": [
        "\n",
        "D:\\Data\\gpcp_extent//gpcp_1dd_v1.2_p1d.20050426.tif"
       ]
      },
      {
       "output_type": "stream",
       "stream": "stdout",
       "text": [
        "\n",
        "D:\\Data\\gpcp_extent//gpcp_1dd_v1.2_p1d.20050427.tif"
       ]
      },
      {
       "output_type": "stream",
       "stream": "stdout",
       "text": [
        "\n",
        "D:\\Data\\gpcp_extent//gpcp_1dd_v1.2_p1d.20050428.tif"
       ]
      },
      {
       "output_type": "stream",
       "stream": "stdout",
       "text": [
        "\n",
        "D:\\Data\\gpcp_extent//gpcp_1dd_v1.2_p1d.20050429.tif"
       ]
      },
      {
       "output_type": "stream",
       "stream": "stdout",
       "text": [
        "\n",
        "D:\\Data\\gpcp_extent//gpcp_1dd_v1.2_p1d.20050500.tif"
       ]
      },
      {
       "output_type": "stream",
       "stream": "stdout",
       "text": [
        "\n",
        "D:\\Data\\gpcp_extent//gpcp_1dd_v1.2_p1d.20050501.tif"
       ]
      },
      {
       "output_type": "stream",
       "stream": "stdout",
       "text": [
        "\n",
        "D:\\Data\\gpcp_extent//gpcp_1dd_v1.2_p1d.20050502.tif"
       ]
      },
      {
       "output_type": "stream",
       "stream": "stdout",
       "text": [
        "\n",
        "D:\\Data\\gpcp_extent//gpcp_1dd_v1.2_p1d.20050503.tif"
       ]
      },
      {
       "output_type": "stream",
       "stream": "stdout",
       "text": [
        "\n",
        "D:\\Data\\gpcp_extent//gpcp_1dd_v1.2_p1d.20050504.tif"
       ]
      },
      {
       "output_type": "stream",
       "stream": "stdout",
       "text": [
        "\n",
        "D:\\Data\\gpcp_extent//gpcp_1dd_v1.2_p1d.20050505.tif"
       ]
      },
      {
       "output_type": "stream",
       "stream": "stdout",
       "text": [
        "\n",
        "D:\\Data\\gpcp_extent//gpcp_1dd_v1.2_p1d.20050506.tif"
       ]
      },
      {
       "output_type": "stream",
       "stream": "stdout",
       "text": [
        "\n",
        "D:\\Data\\gpcp_extent//gpcp_1dd_v1.2_p1d.20050507.tif"
       ]
      },
      {
       "output_type": "stream",
       "stream": "stdout",
       "text": [
        "\n",
        "D:\\Data\\gpcp_extent//gpcp_1dd_v1.2_p1d.20050508.tif"
       ]
      },
      {
       "output_type": "stream",
       "stream": "stdout",
       "text": [
        "\n",
        "D:\\Data\\gpcp_extent//gpcp_1dd_v1.2_p1d.20050509.tif"
       ]
      },
      {
       "output_type": "stream",
       "stream": "stdout",
       "text": [
        "\n",
        "D:\\Data\\gpcp_extent//gpcp_1dd_v1.2_p1d.20050510.tif"
       ]
      },
      {
       "output_type": "stream",
       "stream": "stdout",
       "text": [
        "\n",
        "D:\\Data\\gpcp_extent//gpcp_1dd_v1.2_p1d.20050511.tif"
       ]
      },
      {
       "output_type": "stream",
       "stream": "stdout",
       "text": [
        "\n",
        "D:\\Data\\gpcp_extent//gpcp_1dd_v1.2_p1d.20050512.tif"
       ]
      },
      {
       "output_type": "stream",
       "stream": "stdout",
       "text": [
        "\n",
        "D:\\Data\\gpcp_extent//gpcp_1dd_v1.2_p1d.20050513.tif"
       ]
      },
      {
       "output_type": "stream",
       "stream": "stdout",
       "text": [
        "\n",
        "D:\\Data\\gpcp_extent//gpcp_1dd_v1.2_p1d.20050514.tif"
       ]
      },
      {
       "output_type": "stream",
       "stream": "stdout",
       "text": [
        "\n",
        "D:\\Data\\gpcp_extent//gpcp_1dd_v1.2_p1d.20050515.tif"
       ]
      },
      {
       "output_type": "stream",
       "stream": "stdout",
       "text": [
        "\n",
        "D:\\Data\\gpcp_extent//gpcp_1dd_v1.2_p1d.20050516.tif"
       ]
      },
      {
       "output_type": "stream",
       "stream": "stdout",
       "text": [
        "\n",
        "D:\\Data\\gpcp_extent//gpcp_1dd_v1.2_p1d.20050517.tif"
       ]
      },
      {
       "output_type": "stream",
       "stream": "stdout",
       "text": [
        "\n",
        "D:\\Data\\gpcp_extent//gpcp_1dd_v1.2_p1d.20050518.tif"
       ]
      },
      {
       "output_type": "stream",
       "stream": "stdout",
       "text": [
        "\n",
        "D:\\Data\\gpcp_extent//gpcp_1dd_v1.2_p1d.20050519.tif"
       ]
      },
      {
       "output_type": "stream",
       "stream": "stdout",
       "text": [
        "\n",
        "D:\\Data\\gpcp_extent//gpcp_1dd_v1.2_p1d.20050520.tif"
       ]
      },
      {
       "output_type": "stream",
       "stream": "stdout",
       "text": [
        "\n",
        "D:\\Data\\gpcp_extent//gpcp_1dd_v1.2_p1d.20050521.tif"
       ]
      },
      {
       "output_type": "stream",
       "stream": "stdout",
       "text": [
        "\n",
        "D:\\Data\\gpcp_extent//gpcp_1dd_v1.2_p1d.20050522.tif"
       ]
      },
      {
       "output_type": "stream",
       "stream": "stdout",
       "text": [
        "\n",
        "D:\\Data\\gpcp_extent//gpcp_1dd_v1.2_p1d.20050523.tif"
       ]
      },
      {
       "output_type": "stream",
       "stream": "stdout",
       "text": [
        "\n",
        "D:\\Data\\gpcp_extent//gpcp_1dd_v1.2_p1d.20050524.tif"
       ]
      },
      {
       "output_type": "stream",
       "stream": "stdout",
       "text": [
        "\n",
        "D:\\Data\\gpcp_extent//gpcp_1dd_v1.2_p1d.20050525.tif"
       ]
      },
      {
       "output_type": "stream",
       "stream": "stdout",
       "text": [
        "\n",
        "D:\\Data\\gpcp_extent//gpcp_1dd_v1.2_p1d.20050526.tif"
       ]
      },
      {
       "output_type": "stream",
       "stream": "stdout",
       "text": [
        "\n",
        "D:\\Data\\gpcp_extent//gpcp_1dd_v1.2_p1d.20050527.tif"
       ]
      },
      {
       "output_type": "stream",
       "stream": "stdout",
       "text": [
        "\n",
        "D:\\Data\\gpcp_extent//gpcp_1dd_v1.2_p1d.20050528.tif"
       ]
      },
      {
       "output_type": "stream",
       "stream": "stdout",
       "text": [
        "\n",
        "D:\\Data\\gpcp_extent//gpcp_1dd_v1.2_p1d.20050529.tif"
       ]
      },
      {
       "output_type": "stream",
       "stream": "stdout",
       "text": [
        "\n",
        "D:\\Data\\gpcp_extent//gpcp_1dd_v1.2_p1d.20050530.tif"
       ]
      },
      {
       "output_type": "stream",
       "stream": "stdout",
       "text": [
        "\n",
        "D:\\Data\\gpcp_extent//gpcp_1dd_v1.2_p1d.20050600.tif"
       ]
      },
      {
       "output_type": "stream",
       "stream": "stdout",
       "text": [
        "\n",
        "D:\\Data\\gpcp_extent//gpcp_1dd_v1.2_p1d.20050601.tif"
       ]
      },
      {
       "output_type": "stream",
       "stream": "stdout",
       "text": [
        "\n",
        "D:\\Data\\gpcp_extent//gpcp_1dd_v1.2_p1d.20050602.tif"
       ]
      },
      {
       "output_type": "stream",
       "stream": "stdout",
       "text": [
        "\n",
        "D:\\Data\\gpcp_extent//gpcp_1dd_v1.2_p1d.20050603.tif"
       ]
      },
      {
       "output_type": "stream",
       "stream": "stdout",
       "text": [
        "\n",
        "D:\\Data\\gpcp_extent//gpcp_1dd_v1.2_p1d.20050604.tif"
       ]
      },
      {
       "output_type": "stream",
       "stream": "stdout",
       "text": [
        "\n",
        "D:\\Data\\gpcp_extent//gpcp_1dd_v1.2_p1d.20050605.tif"
       ]
      },
      {
       "output_type": "stream",
       "stream": "stdout",
       "text": [
        "\n",
        "D:\\Data\\gpcp_extent//gpcp_1dd_v1.2_p1d.20050606.tif"
       ]
      },
      {
       "output_type": "stream",
       "stream": "stdout",
       "text": [
        "\n",
        "D:\\Data\\gpcp_extent//gpcp_1dd_v1.2_p1d.20050607.tif"
       ]
      },
      {
       "output_type": "stream",
       "stream": "stdout",
       "text": [
        "\n",
        "D:\\Data\\gpcp_extent//gpcp_1dd_v1.2_p1d.20050608.tif"
       ]
      },
      {
       "output_type": "stream",
       "stream": "stdout",
       "text": [
        "\n",
        "D:\\Data\\gpcp_extent//gpcp_1dd_v1.2_p1d.20050609.tif"
       ]
      },
      {
       "output_type": "stream",
       "stream": "stdout",
       "text": [
        "\n",
        "D:\\Data\\gpcp_extent//gpcp_1dd_v1.2_p1d.20050610.tif"
       ]
      },
      {
       "output_type": "stream",
       "stream": "stdout",
       "text": [
        "\n",
        "D:\\Data\\gpcp_extent//gpcp_1dd_v1.2_p1d.20050611.tif"
       ]
      },
      {
       "output_type": "stream",
       "stream": "stdout",
       "text": [
        "\n",
        "D:\\Data\\gpcp_extent//gpcp_1dd_v1.2_p1d.20050612.tif"
       ]
      },
      {
       "output_type": "stream",
       "stream": "stdout",
       "text": [
        "\n",
        "D:\\Data\\gpcp_extent//gpcp_1dd_v1.2_p1d.20050613.tif"
       ]
      },
      {
       "output_type": "stream",
       "stream": "stdout",
       "text": [
        "\n",
        "D:\\Data\\gpcp_extent//gpcp_1dd_v1.2_p1d.20050614.tif"
       ]
      },
      {
       "output_type": "stream",
       "stream": "stdout",
       "text": [
        "\n",
        "D:\\Data\\gpcp_extent//gpcp_1dd_v1.2_p1d.20050615.tif"
       ]
      },
      {
       "output_type": "stream",
       "stream": "stdout",
       "text": [
        "\n",
        "D:\\Data\\gpcp_extent//gpcp_1dd_v1.2_p1d.20050616.tif"
       ]
      },
      {
       "output_type": "stream",
       "stream": "stdout",
       "text": [
        "\n",
        "D:\\Data\\gpcp_extent//gpcp_1dd_v1.2_p1d.20050617.tif"
       ]
      },
      {
       "output_type": "stream",
       "stream": "stdout",
       "text": [
        "\n",
        "D:\\Data\\gpcp_extent//gpcp_1dd_v1.2_p1d.20050618.tif"
       ]
      },
      {
       "output_type": "stream",
       "stream": "stdout",
       "text": [
        "\n",
        "D:\\Data\\gpcp_extent//gpcp_1dd_v1.2_p1d.20050619.tif"
       ]
      },
      {
       "output_type": "stream",
       "stream": "stdout",
       "text": [
        "\n",
        "D:\\Data\\gpcp_extent//gpcp_1dd_v1.2_p1d.20050620.tif"
       ]
      },
      {
       "output_type": "stream",
       "stream": "stdout",
       "text": [
        "\n",
        "D:\\Data\\gpcp_extent//gpcp_1dd_v1.2_p1d.20050621.tif"
       ]
      },
      {
       "output_type": "stream",
       "stream": "stdout",
       "text": [
        "\n",
        "D:\\Data\\gpcp_extent//gpcp_1dd_v1.2_p1d.20050622.tif"
       ]
      },
      {
       "output_type": "stream",
       "stream": "stdout",
       "text": [
        "\n",
        "D:\\Data\\gpcp_extent//gpcp_1dd_v1.2_p1d.20050623.tif"
       ]
      },
      {
       "output_type": "stream",
       "stream": "stdout",
       "text": [
        "\n",
        "D:\\Data\\gpcp_extent//gpcp_1dd_v1.2_p1d.20050624.tif"
       ]
      },
      {
       "output_type": "stream",
       "stream": "stdout",
       "text": [
        "\n",
        "D:\\Data\\gpcp_extent//gpcp_1dd_v1.2_p1d.20050625.tif"
       ]
      },
      {
       "output_type": "stream",
       "stream": "stdout",
       "text": [
        "\n",
        "D:\\Data\\gpcp_extent//gpcp_1dd_v1.2_p1d.20050626.tif"
       ]
      },
      {
       "output_type": "stream",
       "stream": "stdout",
       "text": [
        "\n",
        "D:\\Data\\gpcp_extent//gpcp_1dd_v1.2_p1d.20050627.tif"
       ]
      },
      {
       "output_type": "stream",
       "stream": "stdout",
       "text": [
        "\n",
        "D:\\Data\\gpcp_extent//gpcp_1dd_v1.2_p1d.20050628.tif"
       ]
      },
      {
       "output_type": "stream",
       "stream": "stdout",
       "text": [
        "\n",
        "D:\\Data\\gpcp_extent//gpcp_1dd_v1.2_p1d.20050629.tif"
       ]
      },
      {
       "output_type": "stream",
       "stream": "stdout",
       "text": [
        "\n",
        "D:\\Data\\gpcp_extent//gpcp_1dd_v1.2_p1d.20050700.tif"
       ]
      },
      {
       "output_type": "stream",
       "stream": "stdout",
       "text": [
        "\n",
        "D:\\Data\\gpcp_extent//gpcp_1dd_v1.2_p1d.20050701.tif"
       ]
      },
      {
       "output_type": "stream",
       "stream": "stdout",
       "text": [
        "\n",
        "D:\\Data\\gpcp_extent//gpcp_1dd_v1.2_p1d.20050702.tif"
       ]
      },
      {
       "output_type": "stream",
       "stream": "stdout",
       "text": [
        "\n",
        "D:\\Data\\gpcp_extent//gpcp_1dd_v1.2_p1d.20050703.tif"
       ]
      },
      {
       "output_type": "stream",
       "stream": "stdout",
       "text": [
        "\n",
        "D:\\Data\\gpcp_extent//gpcp_1dd_v1.2_p1d.20050704.tif"
       ]
      },
      {
       "output_type": "stream",
       "stream": "stdout",
       "text": [
        "\n",
        "D:\\Data\\gpcp_extent//gpcp_1dd_v1.2_p1d.20050705.tif"
       ]
      },
      {
       "output_type": "stream",
       "stream": "stdout",
       "text": [
        "\n",
        "D:\\Data\\gpcp_extent//gpcp_1dd_v1.2_p1d.20050706.tif"
       ]
      },
      {
       "output_type": "stream",
       "stream": "stdout",
       "text": [
        "\n",
        "D:\\Data\\gpcp_extent//gpcp_1dd_v1.2_p1d.20050707.tif"
       ]
      },
      {
       "output_type": "stream",
       "stream": "stdout",
       "text": [
        "\n",
        "D:\\Data\\gpcp_extent//gpcp_1dd_v1.2_p1d.20050708.tif"
       ]
      },
      {
       "output_type": "stream",
       "stream": "stdout",
       "text": [
        "\n",
        "D:\\Data\\gpcp_extent//gpcp_1dd_v1.2_p1d.20050709.tif"
       ]
      },
      {
       "output_type": "stream",
       "stream": "stdout",
       "text": [
        "\n",
        "D:\\Data\\gpcp_extent//gpcp_1dd_v1.2_p1d.20050710.tif"
       ]
      },
      {
       "output_type": "stream",
       "stream": "stdout",
       "text": [
        "\n",
        "D:\\Data\\gpcp_extent//gpcp_1dd_v1.2_p1d.20050711.tif"
       ]
      },
      {
       "output_type": "stream",
       "stream": "stdout",
       "text": [
        "\n",
        "D:\\Data\\gpcp_extent//gpcp_1dd_v1.2_p1d.20050712.tif"
       ]
      },
      {
       "output_type": "stream",
       "stream": "stdout",
       "text": [
        "\n",
        "D:\\Data\\gpcp_extent//gpcp_1dd_v1.2_p1d.20050713.tif"
       ]
      },
      {
       "output_type": "stream",
       "stream": "stdout",
       "text": [
        "\n",
        "D:\\Data\\gpcp_extent//gpcp_1dd_v1.2_p1d.20050714.tif"
       ]
      },
      {
       "output_type": "stream",
       "stream": "stdout",
       "text": [
        "\n",
        "D:\\Data\\gpcp_extent//gpcp_1dd_v1.2_p1d.20050715.tif"
       ]
      },
      {
       "output_type": "stream",
       "stream": "stdout",
       "text": [
        "\n",
        "D:\\Data\\gpcp_extent//gpcp_1dd_v1.2_p1d.20050716.tif"
       ]
      },
      {
       "output_type": "stream",
       "stream": "stdout",
       "text": [
        "\n",
        "D:\\Data\\gpcp_extent//gpcp_1dd_v1.2_p1d.20050717.tif"
       ]
      },
      {
       "output_type": "stream",
       "stream": "stdout",
       "text": [
        "\n",
        "D:\\Data\\gpcp_extent//gpcp_1dd_v1.2_p1d.20050718.tif"
       ]
      },
      {
       "output_type": "stream",
       "stream": "stdout",
       "text": [
        "\n",
        "D:\\Data\\gpcp_extent//gpcp_1dd_v1.2_p1d.20050719.tif"
       ]
      },
      {
       "output_type": "stream",
       "stream": "stdout",
       "text": [
        "\n",
        "D:\\Data\\gpcp_extent//gpcp_1dd_v1.2_p1d.20050720.tif"
       ]
      },
      {
       "output_type": "stream",
       "stream": "stdout",
       "text": [
        "\n",
        "D:\\Data\\gpcp_extent//gpcp_1dd_v1.2_p1d.20050721.tif"
       ]
      },
      {
       "output_type": "stream",
       "stream": "stdout",
       "text": [
        "\n",
        "D:\\Data\\gpcp_extent//gpcp_1dd_v1.2_p1d.20050722.tif"
       ]
      },
      {
       "output_type": "stream",
       "stream": "stdout",
       "text": [
        "\n",
        "D:\\Data\\gpcp_extent//gpcp_1dd_v1.2_p1d.20050723.tif"
       ]
      },
      {
       "output_type": "stream",
       "stream": "stdout",
       "text": [
        "\n",
        "D:\\Data\\gpcp_extent//gpcp_1dd_v1.2_p1d.20050724.tif"
       ]
      },
      {
       "output_type": "stream",
       "stream": "stdout",
       "text": [
        "\n",
        "D:\\Data\\gpcp_extent//gpcp_1dd_v1.2_p1d.20050725.tif"
       ]
      },
      {
       "output_type": "stream",
       "stream": "stdout",
       "text": [
        "\n",
        "D:\\Data\\gpcp_extent//gpcp_1dd_v1.2_p1d.20050726.tif"
       ]
      },
      {
       "output_type": "stream",
       "stream": "stdout",
       "text": [
        "\n",
        "D:\\Data\\gpcp_extent//gpcp_1dd_v1.2_p1d.20050727.tif"
       ]
      },
      {
       "output_type": "stream",
       "stream": "stdout",
       "text": [
        "\n",
        "D:\\Data\\gpcp_extent//gpcp_1dd_v1.2_p1d.20050728.tif"
       ]
      },
      {
       "output_type": "stream",
       "stream": "stdout",
       "text": [
        "\n",
        "D:\\Data\\gpcp_extent//gpcp_1dd_v1.2_p1d.20050729.tif"
       ]
      },
      {
       "output_type": "stream",
       "stream": "stdout",
       "text": [
        "\n",
        "D:\\Data\\gpcp_extent//gpcp_1dd_v1.2_p1d.20050730.tif"
       ]
      },
      {
       "output_type": "stream",
       "stream": "stdout",
       "text": [
        "\n",
        "D:\\Data\\gpcp_extent//gpcp_1dd_v1.2_p1d.20050800.tif"
       ]
      },
      {
       "output_type": "stream",
       "stream": "stdout",
       "text": [
        "\n",
        "D:\\Data\\gpcp_extent//gpcp_1dd_v1.2_p1d.20050801.tif"
       ]
      },
      {
       "output_type": "stream",
       "stream": "stdout",
       "text": [
        "\n",
        "D:\\Data\\gpcp_extent//gpcp_1dd_v1.2_p1d.20050802.tif"
       ]
      },
      {
       "output_type": "stream",
       "stream": "stdout",
       "text": [
        "\n",
        "D:\\Data\\gpcp_extent//gpcp_1dd_v1.2_p1d.20050803.tif"
       ]
      },
      {
       "output_type": "stream",
       "stream": "stdout",
       "text": [
        "\n",
        "D:\\Data\\gpcp_extent//gpcp_1dd_v1.2_p1d.20050804.tif"
       ]
      },
      {
       "output_type": "stream",
       "stream": "stdout",
       "text": [
        "\n",
        "D:\\Data\\gpcp_extent//gpcp_1dd_v1.2_p1d.20050805.tif"
       ]
      },
      {
       "output_type": "stream",
       "stream": "stdout",
       "text": [
        "\n",
        "D:\\Data\\gpcp_extent//gpcp_1dd_v1.2_p1d.20050806.tif"
       ]
      },
      {
       "output_type": "stream",
       "stream": "stdout",
       "text": [
        "\n",
        "D:\\Data\\gpcp_extent//gpcp_1dd_v1.2_p1d.20050807.tif"
       ]
      },
      {
       "output_type": "stream",
       "stream": "stdout",
       "text": [
        "\n",
        "D:\\Data\\gpcp_extent//gpcp_1dd_v1.2_p1d.20050808.tif"
       ]
      },
      {
       "output_type": "stream",
       "stream": "stdout",
       "text": [
        "\n",
        "D:\\Data\\gpcp_extent//gpcp_1dd_v1.2_p1d.20050809.tif"
       ]
      },
      {
       "output_type": "stream",
       "stream": "stdout",
       "text": [
        "\n",
        "D:\\Data\\gpcp_extent//gpcp_1dd_v1.2_p1d.20050810.tif"
       ]
      },
      {
       "output_type": "stream",
       "stream": "stdout",
       "text": [
        "\n",
        "D:\\Data\\gpcp_extent//gpcp_1dd_v1.2_p1d.20050811.tif"
       ]
      },
      {
       "output_type": "stream",
       "stream": "stdout",
       "text": [
        "\n",
        "D:\\Data\\gpcp_extent//gpcp_1dd_v1.2_p1d.20050812.tif"
       ]
      },
      {
       "output_type": "stream",
       "stream": "stdout",
       "text": [
        "\n",
        "D:\\Data\\gpcp_extent//gpcp_1dd_v1.2_p1d.20050813.tif"
       ]
      },
      {
       "output_type": "stream",
       "stream": "stdout",
       "text": [
        "\n",
        "D:\\Data\\gpcp_extent//gpcp_1dd_v1.2_p1d.20050814.tif"
       ]
      },
      {
       "output_type": "stream",
       "stream": "stdout",
       "text": [
        "\n",
        "D:\\Data\\gpcp_extent//gpcp_1dd_v1.2_p1d.20050815.tif"
       ]
      },
      {
       "output_type": "stream",
       "stream": "stdout",
       "text": [
        "\n",
        "D:\\Data\\gpcp_extent//gpcp_1dd_v1.2_p1d.20050816.tif"
       ]
      },
      {
       "output_type": "stream",
       "stream": "stdout",
       "text": [
        "\n",
        "D:\\Data\\gpcp_extent//gpcp_1dd_v1.2_p1d.20050817.tif"
       ]
      },
      {
       "output_type": "stream",
       "stream": "stdout",
       "text": [
        "\n",
        "D:\\Data\\gpcp_extent//gpcp_1dd_v1.2_p1d.20050818.tif"
       ]
      },
      {
       "output_type": "stream",
       "stream": "stdout",
       "text": [
        "\n",
        "D:\\Data\\gpcp_extent//gpcp_1dd_v1.2_p1d.20050819.tif"
       ]
      },
      {
       "output_type": "stream",
       "stream": "stdout",
       "text": [
        "\n",
        "D:\\Data\\gpcp_extent//gpcp_1dd_v1.2_p1d.20050820.tif"
       ]
      },
      {
       "output_type": "stream",
       "stream": "stdout",
       "text": [
        "\n",
        "D:\\Data\\gpcp_extent//gpcp_1dd_v1.2_p1d.20050821.tif"
       ]
      },
      {
       "output_type": "stream",
       "stream": "stdout",
       "text": [
        "\n",
        "D:\\Data\\gpcp_extent//gpcp_1dd_v1.2_p1d.20050822.tif"
       ]
      },
      {
       "output_type": "stream",
       "stream": "stdout",
       "text": [
        "\n",
        "D:\\Data\\gpcp_extent//gpcp_1dd_v1.2_p1d.20050823.tif"
       ]
      },
      {
       "output_type": "stream",
       "stream": "stdout",
       "text": [
        "\n",
        "D:\\Data\\gpcp_extent//gpcp_1dd_v1.2_p1d.20050824.tif"
       ]
      },
      {
       "output_type": "stream",
       "stream": "stdout",
       "text": [
        "\n",
        "D:\\Data\\gpcp_extent//gpcp_1dd_v1.2_p1d.20050825.tif"
       ]
      },
      {
       "output_type": "stream",
       "stream": "stdout",
       "text": [
        "\n",
        "D:\\Data\\gpcp_extent//gpcp_1dd_v1.2_p1d.20050826.tif"
       ]
      },
      {
       "output_type": "stream",
       "stream": "stdout",
       "text": [
        "\n",
        "D:\\Data\\gpcp_extent//gpcp_1dd_v1.2_p1d.20050827.tif"
       ]
      },
      {
       "output_type": "stream",
       "stream": "stdout",
       "text": [
        "\n",
        "D:\\Data\\gpcp_extent//gpcp_1dd_v1.2_p1d.20050828.tif"
       ]
      },
      {
       "output_type": "stream",
       "stream": "stdout",
       "text": [
        "\n",
        "D:\\Data\\gpcp_extent//gpcp_1dd_v1.2_p1d.20050829.tif"
       ]
      },
      {
       "output_type": "stream",
       "stream": "stdout",
       "text": [
        "\n",
        "D:\\Data\\gpcp_extent//gpcp_1dd_v1.2_p1d.20050830.tif"
       ]
      },
      {
       "output_type": "stream",
       "stream": "stdout",
       "text": [
        "\n",
        "D:\\Data\\gpcp_extent//gpcp_1dd_v1.2_p1d.20050900.tif"
       ]
      },
      {
       "output_type": "stream",
       "stream": "stdout",
       "text": [
        "\n",
        "D:\\Data\\gpcp_extent//gpcp_1dd_v1.2_p1d.20050901.tif"
       ]
      },
      {
       "output_type": "stream",
       "stream": "stdout",
       "text": [
        "\n",
        "D:\\Data\\gpcp_extent//gpcp_1dd_v1.2_p1d.20050902.tif"
       ]
      },
      {
       "output_type": "stream",
       "stream": "stdout",
       "text": [
        "\n",
        "D:\\Data\\gpcp_extent//gpcp_1dd_v1.2_p1d.20050903.tif"
       ]
      },
      {
       "output_type": "stream",
       "stream": "stdout",
       "text": [
        "\n",
        "D:\\Data\\gpcp_extent//gpcp_1dd_v1.2_p1d.20050904.tif"
       ]
      },
      {
       "output_type": "stream",
       "stream": "stdout",
       "text": [
        "\n",
        "D:\\Data\\gpcp_extent//gpcp_1dd_v1.2_p1d.20050905.tif"
       ]
      },
      {
       "output_type": "stream",
       "stream": "stdout",
       "text": [
        "\n",
        "D:\\Data\\gpcp_extent//gpcp_1dd_v1.2_p1d.20050906.tif"
       ]
      },
      {
       "output_type": "stream",
       "stream": "stdout",
       "text": [
        "\n",
        "D:\\Data\\gpcp_extent//gpcp_1dd_v1.2_p1d.20050907.tif"
       ]
      },
      {
       "output_type": "stream",
       "stream": "stdout",
       "text": [
        "\n",
        "D:\\Data\\gpcp_extent//gpcp_1dd_v1.2_p1d.20050908.tif"
       ]
      },
      {
       "output_type": "stream",
       "stream": "stdout",
       "text": [
        "\n",
        "D:\\Data\\gpcp_extent//gpcp_1dd_v1.2_p1d.20050909.tif"
       ]
      },
      {
       "output_type": "stream",
       "stream": "stdout",
       "text": [
        "\n",
        "D:\\Data\\gpcp_extent//gpcp_1dd_v1.2_p1d.20050910.tif"
       ]
      },
      {
       "output_type": "stream",
       "stream": "stdout",
       "text": [
        "\n",
        "D:\\Data\\gpcp_extent//gpcp_1dd_v1.2_p1d.20050911.tif"
       ]
      },
      {
       "output_type": "stream",
       "stream": "stdout",
       "text": [
        "\n",
        "D:\\Data\\gpcp_extent//gpcp_1dd_v1.2_p1d.20050912.tif"
       ]
      },
      {
       "output_type": "stream",
       "stream": "stdout",
       "text": [
        "\n",
        "D:\\Data\\gpcp_extent//gpcp_1dd_v1.2_p1d.20050913.tif"
       ]
      },
      {
       "output_type": "stream",
       "stream": "stdout",
       "text": [
        "\n",
        "D:\\Data\\gpcp_extent//gpcp_1dd_v1.2_p1d.20050914.tif"
       ]
      },
      {
       "output_type": "stream",
       "stream": "stdout",
       "text": [
        "\n",
        "D:\\Data\\gpcp_extent//gpcp_1dd_v1.2_p1d.20050915.tif"
       ]
      },
      {
       "output_type": "stream",
       "stream": "stdout",
       "text": [
        "\n",
        "D:\\Data\\gpcp_extent//gpcp_1dd_v1.2_p1d.20050916.tif"
       ]
      },
      {
       "output_type": "stream",
       "stream": "stdout",
       "text": [
        "\n",
        "D:\\Data\\gpcp_extent//gpcp_1dd_v1.2_p1d.20050917.tif"
       ]
      },
      {
       "output_type": "stream",
       "stream": "stdout",
       "text": [
        "\n",
        "D:\\Data\\gpcp_extent//gpcp_1dd_v1.2_p1d.20050918.tif"
       ]
      },
      {
       "output_type": "stream",
       "stream": "stdout",
       "text": [
        "\n",
        "D:\\Data\\gpcp_extent//gpcp_1dd_v1.2_p1d.20050919.tif"
       ]
      },
      {
       "output_type": "stream",
       "stream": "stdout",
       "text": [
        "\n",
        "D:\\Data\\gpcp_extent//gpcp_1dd_v1.2_p1d.20050920.tif"
       ]
      },
      {
       "output_type": "stream",
       "stream": "stdout",
       "text": [
        "\n",
        "D:\\Data\\gpcp_extent//gpcp_1dd_v1.2_p1d.20050921.tif"
       ]
      },
      {
       "output_type": "stream",
       "stream": "stdout",
       "text": [
        "\n",
        "D:\\Data\\gpcp_extent//gpcp_1dd_v1.2_p1d.20050922.tif"
       ]
      },
      {
       "output_type": "stream",
       "stream": "stdout",
       "text": [
        "\n",
        "D:\\Data\\gpcp_extent//gpcp_1dd_v1.2_p1d.20050923.tif"
       ]
      },
      {
       "output_type": "stream",
       "stream": "stdout",
       "text": [
        "\n",
        "D:\\Data\\gpcp_extent//gpcp_1dd_v1.2_p1d.20050924.tif"
       ]
      },
      {
       "output_type": "stream",
       "stream": "stdout",
       "text": [
        "\n",
        "D:\\Data\\gpcp_extent//gpcp_1dd_v1.2_p1d.20050925.tif"
       ]
      },
      {
       "output_type": "stream",
       "stream": "stdout",
       "text": [
        "\n",
        "D:\\Data\\gpcp_extent//gpcp_1dd_v1.2_p1d.20050926.tif"
       ]
      },
      {
       "output_type": "stream",
       "stream": "stdout",
       "text": [
        "\n",
        "D:\\Data\\gpcp_extent//gpcp_1dd_v1.2_p1d.20050927.tif"
       ]
      },
      {
       "output_type": "stream",
       "stream": "stdout",
       "text": [
        "\n",
        "D:\\Data\\gpcp_extent//gpcp_1dd_v1.2_p1d.20050928.tif"
       ]
      },
      {
       "output_type": "stream",
       "stream": "stdout",
       "text": [
        "\n",
        "D:\\Data\\gpcp_extent//gpcp_1dd_v1.2_p1d.20050929.tif"
       ]
      },
      {
       "output_type": "stream",
       "stream": "stdout",
       "text": [
        "\n",
        "D:\\Data\\gpcp_extent//gpcp_1dd_v1.2_p1d.20051000.tif"
       ]
      },
      {
       "output_type": "stream",
       "stream": "stdout",
       "text": [
        "\n",
        "D:\\Data\\gpcp_extent//gpcp_1dd_v1.2_p1d.20051001.tif"
       ]
      },
      {
       "output_type": "stream",
       "stream": "stdout",
       "text": [
        "\n",
        "D:\\Data\\gpcp_extent//gpcp_1dd_v1.2_p1d.20051002.tif"
       ]
      },
      {
       "output_type": "stream",
       "stream": "stdout",
       "text": [
        "\n",
        "D:\\Data\\gpcp_extent//gpcp_1dd_v1.2_p1d.20051003.tif"
       ]
      },
      {
       "output_type": "stream",
       "stream": "stdout",
       "text": [
        "\n",
        "D:\\Data\\gpcp_extent//gpcp_1dd_v1.2_p1d.20051004.tif"
       ]
      },
      {
       "output_type": "stream",
       "stream": "stdout",
       "text": [
        "\n",
        "D:\\Data\\gpcp_extent//gpcp_1dd_v1.2_p1d.20051005.tif"
       ]
      },
      {
       "output_type": "stream",
       "stream": "stdout",
       "text": [
        "\n",
        "D:\\Data\\gpcp_extent//gpcp_1dd_v1.2_p1d.20051006.tif"
       ]
      },
      {
       "output_type": "stream",
       "stream": "stdout",
       "text": [
        "\n",
        "D:\\Data\\gpcp_extent//gpcp_1dd_v1.2_p1d.20051007.tif"
       ]
      },
      {
       "output_type": "stream",
       "stream": "stdout",
       "text": [
        "\n",
        "D:\\Data\\gpcp_extent//gpcp_1dd_v1.2_p1d.20051008.tif"
       ]
      },
      {
       "output_type": "stream",
       "stream": "stdout",
       "text": [
        "\n",
        "D:\\Data\\gpcp_extent//gpcp_1dd_v1.2_p1d.20051009.tif"
       ]
      },
      {
       "output_type": "stream",
       "stream": "stdout",
       "text": [
        "\n",
        "D:\\Data\\gpcp_extent//gpcp_1dd_v1.2_p1d.20051010.tif"
       ]
      },
      {
       "output_type": "stream",
       "stream": "stdout",
       "text": [
        "\n",
        "D:\\Data\\gpcp_extent//gpcp_1dd_v1.2_p1d.20051011.tif"
       ]
      },
      {
       "output_type": "stream",
       "stream": "stdout",
       "text": [
        "\n",
        "D:\\Data\\gpcp_extent//gpcp_1dd_v1.2_p1d.20051012.tif"
       ]
      },
      {
       "output_type": "stream",
       "stream": "stdout",
       "text": [
        "\n",
        "D:\\Data\\gpcp_extent//gpcp_1dd_v1.2_p1d.20051013.tif"
       ]
      },
      {
       "output_type": "stream",
       "stream": "stdout",
       "text": [
        "\n",
        "D:\\Data\\gpcp_extent//gpcp_1dd_v1.2_p1d.20051014.tif"
       ]
      },
      {
       "output_type": "stream",
       "stream": "stdout",
       "text": [
        "\n",
        "D:\\Data\\gpcp_extent//gpcp_1dd_v1.2_p1d.20051015.tif"
       ]
      },
      {
       "output_type": "stream",
       "stream": "stdout",
       "text": [
        "\n",
        "D:\\Data\\gpcp_extent//gpcp_1dd_v1.2_p1d.20051016.tif"
       ]
      },
      {
       "output_type": "stream",
       "stream": "stdout",
       "text": [
        "\n",
        "D:\\Data\\gpcp_extent//gpcp_1dd_v1.2_p1d.20051017.tif"
       ]
      },
      {
       "output_type": "stream",
       "stream": "stdout",
       "text": [
        "\n",
        "D:\\Data\\gpcp_extent//gpcp_1dd_v1.2_p1d.20051018.tif"
       ]
      },
      {
       "output_type": "stream",
       "stream": "stdout",
       "text": [
        "\n",
        "D:\\Data\\gpcp_extent//gpcp_1dd_v1.2_p1d.20051019.tif"
       ]
      },
      {
       "output_type": "stream",
       "stream": "stdout",
       "text": [
        "\n",
        "D:\\Data\\gpcp_extent//gpcp_1dd_v1.2_p1d.20051020.tif"
       ]
      },
      {
       "output_type": "stream",
       "stream": "stdout",
       "text": [
        "\n",
        "D:\\Data\\gpcp_extent//gpcp_1dd_v1.2_p1d.20051021.tif"
       ]
      },
      {
       "output_type": "stream",
       "stream": "stdout",
       "text": [
        "\n",
        "D:\\Data\\gpcp_extent//gpcp_1dd_v1.2_p1d.20051022.tif"
       ]
      },
      {
       "output_type": "stream",
       "stream": "stdout",
       "text": [
        "\n",
        "D:\\Data\\gpcp_extent//gpcp_1dd_v1.2_p1d.20051023.tif"
       ]
      },
      {
       "output_type": "stream",
       "stream": "stdout",
       "text": [
        "\n",
        "D:\\Data\\gpcp_extent//gpcp_1dd_v1.2_p1d.20051024.tif"
       ]
      },
      {
       "output_type": "stream",
       "stream": "stdout",
       "text": [
        "\n",
        "D:\\Data\\gpcp_extent//gpcp_1dd_v1.2_p1d.20051025.tif"
       ]
      },
      {
       "output_type": "stream",
       "stream": "stdout",
       "text": [
        "\n",
        "D:\\Data\\gpcp_extent//gpcp_1dd_v1.2_p1d.20051026.tif"
       ]
      },
      {
       "output_type": "stream",
       "stream": "stdout",
       "text": [
        "\n",
        "D:\\Data\\gpcp_extent//gpcp_1dd_v1.2_p1d.20051027.tif"
       ]
      },
      {
       "output_type": "stream",
       "stream": "stdout",
       "text": [
        "\n",
        "D:\\Data\\gpcp_extent//gpcp_1dd_v1.2_p1d.20051028.tif"
       ]
      },
      {
       "output_type": "stream",
       "stream": "stdout",
       "text": [
        "\n",
        "D:\\Data\\gpcp_extent//gpcp_1dd_v1.2_p1d.20051029.tif"
       ]
      },
      {
       "output_type": "stream",
       "stream": "stdout",
       "text": [
        "\n",
        "D:\\Data\\gpcp_extent//gpcp_1dd_v1.2_p1d.20051030.tif"
       ]
      },
      {
       "output_type": "stream",
       "stream": "stdout",
       "text": [
        "\n",
        "D:\\Data\\gpcp_extent//gpcp_1dd_v1.2_p1d.20051100.tif"
       ]
      },
      {
       "output_type": "stream",
       "stream": "stdout",
       "text": [
        "\n",
        "D:\\Data\\gpcp_extent//gpcp_1dd_v1.2_p1d.20051101.tif"
       ]
      },
      {
       "output_type": "stream",
       "stream": "stdout",
       "text": [
        "\n",
        "D:\\Data\\gpcp_extent//gpcp_1dd_v1.2_p1d.20051102.tif"
       ]
      },
      {
       "output_type": "stream",
       "stream": "stdout",
       "text": [
        "\n",
        "D:\\Data\\gpcp_extent//gpcp_1dd_v1.2_p1d.20051103.tif"
       ]
      },
      {
       "output_type": "stream",
       "stream": "stdout",
       "text": [
        "\n",
        "D:\\Data\\gpcp_extent//gpcp_1dd_v1.2_p1d.20051104.tif"
       ]
      },
      {
       "output_type": "stream",
       "stream": "stdout",
       "text": [
        "\n",
        "D:\\Data\\gpcp_extent//gpcp_1dd_v1.2_p1d.20051105.tif"
       ]
      },
      {
       "output_type": "stream",
       "stream": "stdout",
       "text": [
        "\n",
        "D:\\Data\\gpcp_extent//gpcp_1dd_v1.2_p1d.20051106.tif"
       ]
      },
      {
       "output_type": "stream",
       "stream": "stdout",
       "text": [
        "\n",
        "D:\\Data\\gpcp_extent//gpcp_1dd_v1.2_p1d.20051107.tif"
       ]
      },
      {
       "output_type": "stream",
       "stream": "stdout",
       "text": [
        "\n",
        "D:\\Data\\gpcp_extent//gpcp_1dd_v1.2_p1d.20051108.tif"
       ]
      },
      {
       "output_type": "stream",
       "stream": "stdout",
       "text": [
        "\n",
        "D:\\Data\\gpcp_extent//gpcp_1dd_v1.2_p1d.20051109.tif"
       ]
      },
      {
       "output_type": "stream",
       "stream": "stdout",
       "text": [
        "\n",
        "D:\\Data\\gpcp_extent//gpcp_1dd_v1.2_p1d.20051110.tif"
       ]
      },
      {
       "output_type": "stream",
       "stream": "stdout",
       "text": [
        "\n",
        "D:\\Data\\gpcp_extent//gpcp_1dd_v1.2_p1d.20051111.tif"
       ]
      },
      {
       "output_type": "stream",
       "stream": "stdout",
       "text": [
        "\n",
        "D:\\Data\\gpcp_extent//gpcp_1dd_v1.2_p1d.20051112.tif"
       ]
      },
      {
       "output_type": "stream",
       "stream": "stdout",
       "text": [
        "\n",
        "D:\\Data\\gpcp_extent//gpcp_1dd_v1.2_p1d.20051113.tif"
       ]
      },
      {
       "output_type": "stream",
       "stream": "stdout",
       "text": [
        "\n",
        "D:\\Data\\gpcp_extent//gpcp_1dd_v1.2_p1d.20051114.tif"
       ]
      },
      {
       "output_type": "stream",
       "stream": "stdout",
       "text": [
        "\n",
        "D:\\Data\\gpcp_extent//gpcp_1dd_v1.2_p1d.20051115.tif"
       ]
      },
      {
       "output_type": "stream",
       "stream": "stdout",
       "text": [
        "\n",
        "D:\\Data\\gpcp_extent//gpcp_1dd_v1.2_p1d.20051116.tif"
       ]
      },
      {
       "output_type": "stream",
       "stream": "stdout",
       "text": [
        "\n",
        "D:\\Data\\gpcp_extent//gpcp_1dd_v1.2_p1d.20051117.tif"
       ]
      },
      {
       "output_type": "stream",
       "stream": "stdout",
       "text": [
        "\n",
        "D:\\Data\\gpcp_extent//gpcp_1dd_v1.2_p1d.20051118.tif"
       ]
      },
      {
       "output_type": "stream",
       "stream": "stdout",
       "text": [
        "\n",
        "D:\\Data\\gpcp_extent//gpcp_1dd_v1.2_p1d.20051119.tif"
       ]
      },
      {
       "output_type": "stream",
       "stream": "stdout",
       "text": [
        "\n",
        "D:\\Data\\gpcp_extent//gpcp_1dd_v1.2_p1d.20051120.tif"
       ]
      },
      {
       "output_type": "stream",
       "stream": "stdout",
       "text": [
        "\n",
        "D:\\Data\\gpcp_extent//gpcp_1dd_v1.2_p1d.20051121.tif"
       ]
      },
      {
       "output_type": "stream",
       "stream": "stdout",
       "text": [
        "\n",
        "D:\\Data\\gpcp_extent//gpcp_1dd_v1.2_p1d.20051122.tif"
       ]
      },
      {
       "output_type": "stream",
       "stream": "stdout",
       "text": [
        "\n",
        "D:\\Data\\gpcp_extent//gpcp_1dd_v1.2_p1d.20051123.tif"
       ]
      },
      {
       "output_type": "stream",
       "stream": "stdout",
       "text": [
        "\n",
        "D:\\Data\\gpcp_extent//gpcp_1dd_v1.2_p1d.20051124.tif"
       ]
      },
      {
       "output_type": "stream",
       "stream": "stdout",
       "text": [
        "\n",
        "D:\\Data\\gpcp_extent//gpcp_1dd_v1.2_p1d.20051125.tif"
       ]
      },
      {
       "output_type": "stream",
       "stream": "stdout",
       "text": [
        "\n",
        "D:\\Data\\gpcp_extent//gpcp_1dd_v1.2_p1d.20051126.tif"
       ]
      },
      {
       "output_type": "stream",
       "stream": "stdout",
       "text": [
        "\n",
        "D:\\Data\\gpcp_extent//gpcp_1dd_v1.2_p1d.20051127.tif"
       ]
      },
      {
       "output_type": "stream",
       "stream": "stdout",
       "text": [
        "\n",
        "D:\\Data\\gpcp_extent//gpcp_1dd_v1.2_p1d.20051128.tif"
       ]
      },
      {
       "output_type": "stream",
       "stream": "stdout",
       "text": [
        "\n",
        "D:\\Data\\gpcp_extent//gpcp_1dd_v1.2_p1d.20051129.tif"
       ]
      },
      {
       "output_type": "stream",
       "stream": "stdout",
       "text": [
        "\n",
        "D:\\Data\\gpcp_extent//gpcp_1dd_v1.2_p1d.20051200.tif"
       ]
      },
      {
       "output_type": "stream",
       "stream": "stdout",
       "text": [
        "\n",
        "D:\\Data\\gpcp_extent//gpcp_1dd_v1.2_p1d.20051201.tif"
       ]
      },
      {
       "output_type": "stream",
       "stream": "stdout",
       "text": [
        "\n",
        "D:\\Data\\gpcp_extent//gpcp_1dd_v1.2_p1d.20051202.tif"
       ]
      },
      {
       "output_type": "stream",
       "stream": "stdout",
       "text": [
        "\n",
        "D:\\Data\\gpcp_extent//gpcp_1dd_v1.2_p1d.20051203.tif"
       ]
      },
      {
       "output_type": "stream",
       "stream": "stdout",
       "text": [
        "\n",
        "D:\\Data\\gpcp_extent//gpcp_1dd_v1.2_p1d.20051204.tif"
       ]
      },
      {
       "output_type": "stream",
       "stream": "stdout",
       "text": [
        "\n",
        "D:\\Data\\gpcp_extent//gpcp_1dd_v1.2_p1d.20051205.tif"
       ]
      },
      {
       "output_type": "stream",
       "stream": "stdout",
       "text": [
        "\n",
        "D:\\Data\\gpcp_extent//gpcp_1dd_v1.2_p1d.20051206.tif"
       ]
      },
      {
       "output_type": "stream",
       "stream": "stdout",
       "text": [
        "\n",
        "D:\\Data\\gpcp_extent//gpcp_1dd_v1.2_p1d.20051207.tif"
       ]
      },
      {
       "output_type": "stream",
       "stream": "stdout",
       "text": [
        "\n",
        "D:\\Data\\gpcp_extent//gpcp_1dd_v1.2_p1d.20051208.tif"
       ]
      },
      {
       "output_type": "stream",
       "stream": "stdout",
       "text": [
        "\n",
        "D:\\Data\\gpcp_extent//gpcp_1dd_v1.2_p1d.20051209.tif"
       ]
      },
      {
       "output_type": "stream",
       "stream": "stdout",
       "text": [
        "\n",
        "D:\\Data\\gpcp_extent//gpcp_1dd_v1.2_p1d.20051210.tif"
       ]
      },
      {
       "output_type": "stream",
       "stream": "stdout",
       "text": [
        "\n",
        "D:\\Data\\gpcp_extent//gpcp_1dd_v1.2_p1d.20051211.tif"
       ]
      },
      {
       "output_type": "stream",
       "stream": "stdout",
       "text": [
        "\n",
        "D:\\Data\\gpcp_extent//gpcp_1dd_v1.2_p1d.20051212.tif"
       ]
      },
      {
       "output_type": "stream",
       "stream": "stdout",
       "text": [
        "\n",
        "D:\\Data\\gpcp_extent//gpcp_1dd_v1.2_p1d.20051213.tif"
       ]
      },
      {
       "output_type": "stream",
       "stream": "stdout",
       "text": [
        "\n",
        "D:\\Data\\gpcp_extent//gpcp_1dd_v1.2_p1d.20051214.tif"
       ]
      },
      {
       "output_type": "stream",
       "stream": "stdout",
       "text": [
        "\n",
        "D:\\Data\\gpcp_extent//gpcp_1dd_v1.2_p1d.20051215.tif"
       ]
      },
      {
       "output_type": "stream",
       "stream": "stdout",
       "text": [
        "\n",
        "D:\\Data\\gpcp_extent//gpcp_1dd_v1.2_p1d.20051216.tif"
       ]
      },
      {
       "output_type": "stream",
       "stream": "stdout",
       "text": [
        "\n",
        "D:\\Data\\gpcp_extent//gpcp_1dd_v1.2_p1d.20051217.tif"
       ]
      },
      {
       "output_type": "stream",
       "stream": "stdout",
       "text": [
        "\n",
        "D:\\Data\\gpcp_extent//gpcp_1dd_v1.2_p1d.20051218.tif"
       ]
      },
      {
       "output_type": "stream",
       "stream": "stdout",
       "text": [
        "\n",
        "D:\\Data\\gpcp_extent//gpcp_1dd_v1.2_p1d.20051219.tif"
       ]
      },
      {
       "output_type": "stream",
       "stream": "stdout",
       "text": [
        "\n",
        "D:\\Data\\gpcp_extent//gpcp_1dd_v1.2_p1d.20051220.tif"
       ]
      },
      {
       "output_type": "stream",
       "stream": "stdout",
       "text": [
        "\n",
        "D:\\Data\\gpcp_extent//gpcp_1dd_v1.2_p1d.20051221.tif"
       ]
      },
      {
       "output_type": "stream",
       "stream": "stdout",
       "text": [
        "\n",
        "D:\\Data\\gpcp_extent//gpcp_1dd_v1.2_p1d.20051222.tif"
       ]
      },
      {
       "output_type": "stream",
       "stream": "stdout",
       "text": [
        "\n",
        "D:\\Data\\gpcp_extent//gpcp_1dd_v1.2_p1d.20051223.tif"
       ]
      },
      {
       "output_type": "stream",
       "stream": "stdout",
       "text": [
        "\n",
        "D:\\Data\\gpcp_extent//gpcp_1dd_v1.2_p1d.20051224.tif"
       ]
      },
      {
       "output_type": "stream",
       "stream": "stdout",
       "text": [
        "\n",
        "D:\\Data\\gpcp_extent//gpcp_1dd_v1.2_p1d.20051225.tif"
       ]
      },
      {
       "output_type": "stream",
       "stream": "stdout",
       "text": [
        "\n",
        "D:\\Data\\gpcp_extent//gpcp_1dd_v1.2_p1d.20051226.tif"
       ]
      },
      {
       "output_type": "stream",
       "stream": "stdout",
       "text": [
        "\n",
        "D:\\Data\\gpcp_extent//gpcp_1dd_v1.2_p1d.20051227.tif"
       ]
      },
      {
       "output_type": "stream",
       "stream": "stdout",
       "text": [
        "\n",
        "D:\\Data\\gpcp_extent//gpcp_1dd_v1.2_p1d.20051228.tif"
       ]
      },
      {
       "output_type": "stream",
       "stream": "stdout",
       "text": [
        "\n",
        "D:\\Data\\gpcp_extent//gpcp_1dd_v1.2_p1d.20051229.tif"
       ]
      },
      {
       "output_type": "stream",
       "stream": "stdout",
       "text": [
        "\n",
        "D:\\Data\\gpcp_extent//gpcp_1dd_v1.2_p1d.20051230.tif"
       ]
      },
      {
       "output_type": "stream",
       "stream": "stdout",
       "text": [
        "\n",
        "D:\\Data\\gpcp_extent//gpcp_1dd_v1.2_p1d.20060100.tif"
       ]
      },
      {
       "output_type": "stream",
       "stream": "stdout",
       "text": [
        "\n",
        "D:\\Data\\gpcp_extent//gpcp_1dd_v1.2_p1d.20060101.tif"
       ]
      },
      {
       "output_type": "stream",
       "stream": "stdout",
       "text": [
        "\n",
        "D:\\Data\\gpcp_extent//gpcp_1dd_v1.2_p1d.20060102.tif"
       ]
      },
      {
       "output_type": "stream",
       "stream": "stdout",
       "text": [
        "\n",
        "D:\\Data\\gpcp_extent//gpcp_1dd_v1.2_p1d.20060103.tif"
       ]
      },
      {
       "output_type": "stream",
       "stream": "stdout",
       "text": [
        "\n",
        "D:\\Data\\gpcp_extent//gpcp_1dd_v1.2_p1d.20060104.tif"
       ]
      },
      {
       "output_type": "stream",
       "stream": "stdout",
       "text": [
        "\n",
        "D:\\Data\\gpcp_extent//gpcp_1dd_v1.2_p1d.20060105.tif"
       ]
      },
      {
       "output_type": "stream",
       "stream": "stdout",
       "text": [
        "\n",
        "D:\\Data\\gpcp_extent//gpcp_1dd_v1.2_p1d.20060106.tif"
       ]
      },
      {
       "output_type": "stream",
       "stream": "stdout",
       "text": [
        "\n",
        "D:\\Data\\gpcp_extent//gpcp_1dd_v1.2_p1d.20060107.tif"
       ]
      },
      {
       "output_type": "stream",
       "stream": "stdout",
       "text": [
        "\n",
        "D:\\Data\\gpcp_extent//gpcp_1dd_v1.2_p1d.20060108.tif"
       ]
      },
      {
       "output_type": "stream",
       "stream": "stdout",
       "text": [
        "\n",
        "D:\\Data\\gpcp_extent//gpcp_1dd_v1.2_p1d.20060109.tif"
       ]
      },
      {
       "output_type": "stream",
       "stream": "stdout",
       "text": [
        "\n",
        "D:\\Data\\gpcp_extent//gpcp_1dd_v1.2_p1d.20060110.tif"
       ]
      },
      {
       "output_type": "stream",
       "stream": "stdout",
       "text": [
        "\n",
        "D:\\Data\\gpcp_extent//gpcp_1dd_v1.2_p1d.20060111.tif"
       ]
      },
      {
       "output_type": "stream",
       "stream": "stdout",
       "text": [
        "\n",
        "D:\\Data\\gpcp_extent//gpcp_1dd_v1.2_p1d.20060112.tif"
       ]
      },
      {
       "output_type": "stream",
       "stream": "stdout",
       "text": [
        "\n",
        "D:\\Data\\gpcp_extent//gpcp_1dd_v1.2_p1d.20060113.tif"
       ]
      },
      {
       "output_type": "stream",
       "stream": "stdout",
       "text": [
        "\n",
        "D:\\Data\\gpcp_extent//gpcp_1dd_v1.2_p1d.20060114.tif"
       ]
      },
      {
       "output_type": "stream",
       "stream": "stdout",
       "text": [
        "\n",
        "D:\\Data\\gpcp_extent//gpcp_1dd_v1.2_p1d.20060115.tif"
       ]
      },
      {
       "output_type": "stream",
       "stream": "stdout",
       "text": [
        "\n",
        "D:\\Data\\gpcp_extent//gpcp_1dd_v1.2_p1d.20060116.tif"
       ]
      },
      {
       "output_type": "stream",
       "stream": "stdout",
       "text": [
        "\n",
        "D:\\Data\\gpcp_extent//gpcp_1dd_v1.2_p1d.20060117.tif"
       ]
      },
      {
       "output_type": "stream",
       "stream": "stdout",
       "text": [
        "\n",
        "D:\\Data\\gpcp_extent//gpcp_1dd_v1.2_p1d.20060118.tif"
       ]
      },
      {
       "output_type": "stream",
       "stream": "stdout",
       "text": [
        "\n",
        "D:\\Data\\gpcp_extent//gpcp_1dd_v1.2_p1d.20060119.tif"
       ]
      },
      {
       "output_type": "stream",
       "stream": "stdout",
       "text": [
        "\n",
        "D:\\Data\\gpcp_extent//gpcp_1dd_v1.2_p1d.20060120.tif"
       ]
      },
      {
       "output_type": "stream",
       "stream": "stdout",
       "text": [
        "\n",
        "D:\\Data\\gpcp_extent//gpcp_1dd_v1.2_p1d.20060121.tif"
       ]
      },
      {
       "output_type": "stream",
       "stream": "stdout",
       "text": [
        "\n",
        "D:\\Data\\gpcp_extent//gpcp_1dd_v1.2_p1d.20060122.tif"
       ]
      },
      {
       "output_type": "stream",
       "stream": "stdout",
       "text": [
        "\n",
        "D:\\Data\\gpcp_extent//gpcp_1dd_v1.2_p1d.20060123.tif"
       ]
      },
      {
       "output_type": "stream",
       "stream": "stdout",
       "text": [
        "\n",
        "D:\\Data\\gpcp_extent//gpcp_1dd_v1.2_p1d.20060124.tif"
       ]
      },
      {
       "output_type": "stream",
       "stream": "stdout",
       "text": [
        "\n",
        "D:\\Data\\gpcp_extent//gpcp_1dd_v1.2_p1d.20060125.tif"
       ]
      },
      {
       "output_type": "stream",
       "stream": "stdout",
       "text": [
        "\n",
        "D:\\Data\\gpcp_extent//gpcp_1dd_v1.2_p1d.20060126.tif"
       ]
      },
      {
       "output_type": "stream",
       "stream": "stdout",
       "text": [
        "\n",
        "D:\\Data\\gpcp_extent//gpcp_1dd_v1.2_p1d.20060127.tif"
       ]
      },
      {
       "output_type": "stream",
       "stream": "stdout",
       "text": [
        "\n",
        "D:\\Data\\gpcp_extent//gpcp_1dd_v1.2_p1d.20060128.tif"
       ]
      },
      {
       "output_type": "stream",
       "stream": "stdout",
       "text": [
        "\n",
        "D:\\Data\\gpcp_extent//gpcp_1dd_v1.2_p1d.20060129.tif"
       ]
      },
      {
       "output_type": "stream",
       "stream": "stdout",
       "text": [
        "\n",
        "D:\\Data\\gpcp_extent//gpcp_1dd_v1.2_p1d.20060130.tif"
       ]
      },
      {
       "output_type": "stream",
       "stream": "stdout",
       "text": [
        "\n",
        "D:\\Data\\gpcp_extent//gpcp_1dd_v1.2_p1d.20060200.tif"
       ]
      },
      {
       "output_type": "stream",
       "stream": "stdout",
       "text": [
        "\n",
        "D:\\Data\\gpcp_extent//gpcp_1dd_v1.2_p1d.20060201.tif"
       ]
      },
      {
       "output_type": "stream",
       "stream": "stdout",
       "text": [
        "\n",
        "D:\\Data\\gpcp_extent//gpcp_1dd_v1.2_p1d.20060202.tif"
       ]
      },
      {
       "output_type": "stream",
       "stream": "stdout",
       "text": [
        "\n",
        "D:\\Data\\gpcp_extent//gpcp_1dd_v1.2_p1d.20060203.tif"
       ]
      },
      {
       "output_type": "stream",
       "stream": "stdout",
       "text": [
        "\n",
        "D:\\Data\\gpcp_extent//gpcp_1dd_v1.2_p1d.20060204.tif"
       ]
      },
      {
       "output_type": "stream",
       "stream": "stdout",
       "text": [
        "\n",
        "D:\\Data\\gpcp_extent//gpcp_1dd_v1.2_p1d.20060205.tif"
       ]
      },
      {
       "output_type": "stream",
       "stream": "stdout",
       "text": [
        "\n",
        "D:\\Data\\gpcp_extent//gpcp_1dd_v1.2_p1d.20060206.tif"
       ]
      },
      {
       "output_type": "stream",
       "stream": "stdout",
       "text": [
        "\n",
        "D:\\Data\\gpcp_extent//gpcp_1dd_v1.2_p1d.20060207.tif"
       ]
      },
      {
       "output_type": "stream",
       "stream": "stdout",
       "text": [
        "\n",
        "D:\\Data\\gpcp_extent//gpcp_1dd_v1.2_p1d.20060208.tif"
       ]
      },
      {
       "output_type": "stream",
       "stream": "stdout",
       "text": [
        "\n",
        "D:\\Data\\gpcp_extent//gpcp_1dd_v1.2_p1d.20060209.tif"
       ]
      },
      {
       "output_type": "stream",
       "stream": "stdout",
       "text": [
        "\n",
        "D:\\Data\\gpcp_extent//gpcp_1dd_v1.2_p1d.20060210.tif"
       ]
      },
      {
       "output_type": "stream",
       "stream": "stdout",
       "text": [
        "\n",
        "D:\\Data\\gpcp_extent//gpcp_1dd_v1.2_p1d.20060211.tif"
       ]
      },
      {
       "output_type": "stream",
       "stream": "stdout",
       "text": [
        "\n",
        "D:\\Data\\gpcp_extent//gpcp_1dd_v1.2_p1d.20060212.tif"
       ]
      },
      {
       "output_type": "stream",
       "stream": "stdout",
       "text": [
        "\n",
        "D:\\Data\\gpcp_extent//gpcp_1dd_v1.2_p1d.20060213.tif"
       ]
      },
      {
       "output_type": "stream",
       "stream": "stdout",
       "text": [
        "\n",
        "D:\\Data\\gpcp_extent//gpcp_1dd_v1.2_p1d.20060214.tif"
       ]
      },
      {
       "output_type": "stream",
       "stream": "stdout",
       "text": [
        "\n",
        "D:\\Data\\gpcp_extent//gpcp_1dd_v1.2_p1d.20060215.tif"
       ]
      },
      {
       "output_type": "stream",
       "stream": "stdout",
       "text": [
        "\n",
        "D:\\Data\\gpcp_extent//gpcp_1dd_v1.2_p1d.20060216.tif"
       ]
      },
      {
       "output_type": "stream",
       "stream": "stdout",
       "text": [
        "\n",
        "D:\\Data\\gpcp_extent//gpcp_1dd_v1.2_p1d.20060217.tif"
       ]
      },
      {
       "output_type": "stream",
       "stream": "stdout",
       "text": [
        "\n",
        "D:\\Data\\gpcp_extent//gpcp_1dd_v1.2_p1d.20060218.tif"
       ]
      },
      {
       "output_type": "stream",
       "stream": "stdout",
       "text": [
        "\n",
        "D:\\Data\\gpcp_extent//gpcp_1dd_v1.2_p1d.20060219.tif"
       ]
      },
      {
       "output_type": "stream",
       "stream": "stdout",
       "text": [
        "\n",
        "D:\\Data\\gpcp_extent//gpcp_1dd_v1.2_p1d.20060220.tif"
       ]
      },
      {
       "output_type": "stream",
       "stream": "stdout",
       "text": [
        "\n",
        "D:\\Data\\gpcp_extent//gpcp_1dd_v1.2_p1d.20060221.tif"
       ]
      },
      {
       "output_type": "stream",
       "stream": "stdout",
       "text": [
        "\n",
        "D:\\Data\\gpcp_extent//gpcp_1dd_v1.2_p1d.20060222.tif"
       ]
      },
      {
       "output_type": "stream",
       "stream": "stdout",
       "text": [
        "\n",
        "D:\\Data\\gpcp_extent//gpcp_1dd_v1.2_p1d.20060223.tif"
       ]
      },
      {
       "output_type": "stream",
       "stream": "stdout",
       "text": [
        "\n",
        "D:\\Data\\gpcp_extent//gpcp_1dd_v1.2_p1d.20060224.tif"
       ]
      },
      {
       "output_type": "stream",
       "stream": "stdout",
       "text": [
        "\n",
        "D:\\Data\\gpcp_extent//gpcp_1dd_v1.2_p1d.20060225.tif"
       ]
      },
      {
       "output_type": "stream",
       "stream": "stdout",
       "text": [
        "\n",
        "D:\\Data\\gpcp_extent//gpcp_1dd_v1.2_p1d.20060226.tif"
       ]
      },
      {
       "output_type": "stream",
       "stream": "stdout",
       "text": [
        "\n",
        "D:\\Data\\gpcp_extent//gpcp_1dd_v1.2_p1d.20060227.tif"
       ]
      },
      {
       "output_type": "stream",
       "stream": "stdout",
       "text": [
        "\n",
        "D:\\Data\\gpcp_extent//gpcp_1dd_v1.2_p1d.20060300.tif"
       ]
      },
      {
       "output_type": "stream",
       "stream": "stdout",
       "text": [
        "\n",
        "D:\\Data\\gpcp_extent//gpcp_1dd_v1.2_p1d.20060301.tif"
       ]
      },
      {
       "output_type": "stream",
       "stream": "stdout",
       "text": [
        "\n",
        "D:\\Data\\gpcp_extent//gpcp_1dd_v1.2_p1d.20060302.tif"
       ]
      },
      {
       "output_type": "stream",
       "stream": "stdout",
       "text": [
        "\n",
        "D:\\Data\\gpcp_extent//gpcp_1dd_v1.2_p1d.20060303.tif"
       ]
      },
      {
       "output_type": "stream",
       "stream": "stdout",
       "text": [
        "\n",
        "D:\\Data\\gpcp_extent//gpcp_1dd_v1.2_p1d.20060304.tif"
       ]
      },
      {
       "output_type": "stream",
       "stream": "stdout",
       "text": [
        "\n",
        "D:\\Data\\gpcp_extent//gpcp_1dd_v1.2_p1d.20060305.tif"
       ]
      },
      {
       "output_type": "stream",
       "stream": "stdout",
       "text": [
        "\n",
        "D:\\Data\\gpcp_extent//gpcp_1dd_v1.2_p1d.20060306.tif"
       ]
      },
      {
       "output_type": "stream",
       "stream": "stdout",
       "text": [
        "\n",
        "D:\\Data\\gpcp_extent//gpcp_1dd_v1.2_p1d.20060307.tif"
       ]
      },
      {
       "output_type": "stream",
       "stream": "stdout",
       "text": [
        "\n",
        "D:\\Data\\gpcp_extent//gpcp_1dd_v1.2_p1d.20060308.tif"
       ]
      },
      {
       "output_type": "stream",
       "stream": "stdout",
       "text": [
        "\n",
        "D:\\Data\\gpcp_extent//gpcp_1dd_v1.2_p1d.20060309.tif"
       ]
      },
      {
       "output_type": "stream",
       "stream": "stdout",
       "text": [
        "\n",
        "D:\\Data\\gpcp_extent//gpcp_1dd_v1.2_p1d.20060310.tif"
       ]
      },
      {
       "output_type": "stream",
       "stream": "stdout",
       "text": [
        "\n",
        "D:\\Data\\gpcp_extent//gpcp_1dd_v1.2_p1d.20060311.tif"
       ]
      },
      {
       "output_type": "stream",
       "stream": "stdout",
       "text": [
        "\n",
        "D:\\Data\\gpcp_extent//gpcp_1dd_v1.2_p1d.20060312.tif"
       ]
      },
      {
       "output_type": "stream",
       "stream": "stdout",
       "text": [
        "\n",
        "D:\\Data\\gpcp_extent//gpcp_1dd_v1.2_p1d.20060313.tif"
       ]
      },
      {
       "output_type": "stream",
       "stream": "stdout",
       "text": [
        "\n",
        "D:\\Data\\gpcp_extent//gpcp_1dd_v1.2_p1d.20060314.tif"
       ]
      },
      {
       "output_type": "stream",
       "stream": "stdout",
       "text": [
        "\n",
        "D:\\Data\\gpcp_extent//gpcp_1dd_v1.2_p1d.20060315.tif"
       ]
      },
      {
       "output_type": "stream",
       "stream": "stdout",
       "text": [
        "\n",
        "D:\\Data\\gpcp_extent//gpcp_1dd_v1.2_p1d.20060316.tif"
       ]
      },
      {
       "output_type": "stream",
       "stream": "stdout",
       "text": [
        "\n",
        "D:\\Data\\gpcp_extent//gpcp_1dd_v1.2_p1d.20060317.tif"
       ]
      },
      {
       "output_type": "stream",
       "stream": "stdout",
       "text": [
        "\n",
        "D:\\Data\\gpcp_extent//gpcp_1dd_v1.2_p1d.20060318.tif"
       ]
      },
      {
       "output_type": "stream",
       "stream": "stdout",
       "text": [
        "\n",
        "D:\\Data\\gpcp_extent//gpcp_1dd_v1.2_p1d.20060319.tif"
       ]
      },
      {
       "output_type": "stream",
       "stream": "stdout",
       "text": [
        "\n",
        "D:\\Data\\gpcp_extent//gpcp_1dd_v1.2_p1d.20060320.tif"
       ]
      },
      {
       "output_type": "stream",
       "stream": "stdout",
       "text": [
        "\n",
        "D:\\Data\\gpcp_extent//gpcp_1dd_v1.2_p1d.20060321.tif"
       ]
      },
      {
       "output_type": "stream",
       "stream": "stdout",
       "text": [
        "\n",
        "D:\\Data\\gpcp_extent//gpcp_1dd_v1.2_p1d.20060322.tif"
       ]
      },
      {
       "output_type": "stream",
       "stream": "stdout",
       "text": [
        "\n",
        "D:\\Data\\gpcp_extent//gpcp_1dd_v1.2_p1d.20060323.tif"
       ]
      },
      {
       "output_type": "stream",
       "stream": "stdout",
       "text": [
        "\n",
        "D:\\Data\\gpcp_extent//gpcp_1dd_v1.2_p1d.20060324.tif"
       ]
      },
      {
       "output_type": "stream",
       "stream": "stdout",
       "text": [
        "\n",
        "D:\\Data\\gpcp_extent//gpcp_1dd_v1.2_p1d.20060325.tif"
       ]
      },
      {
       "output_type": "stream",
       "stream": "stdout",
       "text": [
        "\n",
        "D:\\Data\\gpcp_extent//gpcp_1dd_v1.2_p1d.20060326.tif"
       ]
      },
      {
       "output_type": "stream",
       "stream": "stdout",
       "text": [
        "\n",
        "D:\\Data\\gpcp_extent//gpcp_1dd_v1.2_p1d.20060327.tif"
       ]
      },
      {
       "output_type": "stream",
       "stream": "stdout",
       "text": [
        "\n",
        "D:\\Data\\gpcp_extent//gpcp_1dd_v1.2_p1d.20060328.tif"
       ]
      },
      {
       "output_type": "stream",
       "stream": "stdout",
       "text": [
        "\n",
        "D:\\Data\\gpcp_extent//gpcp_1dd_v1.2_p1d.20060329.tif"
       ]
      },
      {
       "output_type": "stream",
       "stream": "stdout",
       "text": [
        "\n",
        "D:\\Data\\gpcp_extent//gpcp_1dd_v1.2_p1d.20060330.tif"
       ]
      },
      {
       "output_type": "stream",
       "stream": "stdout",
       "text": [
        "\n",
        "D:\\Data\\gpcp_extent//gpcp_1dd_v1.2_p1d.20060400.tif"
       ]
      },
      {
       "output_type": "stream",
       "stream": "stdout",
       "text": [
        "\n",
        "D:\\Data\\gpcp_extent//gpcp_1dd_v1.2_p1d.20060401.tif"
       ]
      },
      {
       "output_type": "stream",
       "stream": "stdout",
       "text": [
        "\n",
        "D:\\Data\\gpcp_extent//gpcp_1dd_v1.2_p1d.20060402.tif"
       ]
      },
      {
       "output_type": "stream",
       "stream": "stdout",
       "text": [
        "\n",
        "D:\\Data\\gpcp_extent//gpcp_1dd_v1.2_p1d.20060403.tif"
       ]
      },
      {
       "output_type": "stream",
       "stream": "stdout",
       "text": [
        "\n",
        "D:\\Data\\gpcp_extent//gpcp_1dd_v1.2_p1d.20060404.tif"
       ]
      },
      {
       "output_type": "stream",
       "stream": "stdout",
       "text": [
        "\n",
        "D:\\Data\\gpcp_extent//gpcp_1dd_v1.2_p1d.20060405.tif"
       ]
      },
      {
       "output_type": "stream",
       "stream": "stdout",
       "text": [
        "\n",
        "D:\\Data\\gpcp_extent//gpcp_1dd_v1.2_p1d.20060406.tif"
       ]
      },
      {
       "output_type": "stream",
       "stream": "stdout",
       "text": [
        "\n",
        "D:\\Data\\gpcp_extent//gpcp_1dd_v1.2_p1d.20060407.tif"
       ]
      },
      {
       "output_type": "stream",
       "stream": "stdout",
       "text": [
        "\n",
        "D:\\Data\\gpcp_extent//gpcp_1dd_v1.2_p1d.20060408.tif"
       ]
      },
      {
       "output_type": "stream",
       "stream": "stdout",
       "text": [
        "\n",
        "D:\\Data\\gpcp_extent//gpcp_1dd_v1.2_p1d.20060409.tif"
       ]
      },
      {
       "output_type": "stream",
       "stream": "stdout",
       "text": [
        "\n",
        "D:\\Data\\gpcp_extent//gpcp_1dd_v1.2_p1d.20060410.tif"
       ]
      },
      {
       "output_type": "stream",
       "stream": "stdout",
       "text": [
        "\n",
        "D:\\Data\\gpcp_extent//gpcp_1dd_v1.2_p1d.20060411.tif"
       ]
      },
      {
       "output_type": "stream",
       "stream": "stdout",
       "text": [
        "\n",
        "D:\\Data\\gpcp_extent//gpcp_1dd_v1.2_p1d.20060412.tif"
       ]
      },
      {
       "output_type": "stream",
       "stream": "stdout",
       "text": [
        "\n",
        "D:\\Data\\gpcp_extent//gpcp_1dd_v1.2_p1d.20060413.tif"
       ]
      },
      {
       "output_type": "stream",
       "stream": "stdout",
       "text": [
        "\n",
        "D:\\Data\\gpcp_extent//gpcp_1dd_v1.2_p1d.20060414.tif"
       ]
      },
      {
       "output_type": "stream",
       "stream": "stdout",
       "text": [
        "\n",
        "D:\\Data\\gpcp_extent//gpcp_1dd_v1.2_p1d.20060415.tif"
       ]
      },
      {
       "output_type": "stream",
       "stream": "stdout",
       "text": [
        "\n",
        "D:\\Data\\gpcp_extent//gpcp_1dd_v1.2_p1d.20060416.tif"
       ]
      },
      {
       "output_type": "stream",
       "stream": "stdout",
       "text": [
        "\n",
        "D:\\Data\\gpcp_extent//gpcp_1dd_v1.2_p1d.20060417.tif"
       ]
      },
      {
       "output_type": "stream",
       "stream": "stdout",
       "text": [
        "\n",
        "D:\\Data\\gpcp_extent//gpcp_1dd_v1.2_p1d.20060418.tif"
       ]
      },
      {
       "output_type": "stream",
       "stream": "stdout",
       "text": [
        "\n",
        "D:\\Data\\gpcp_extent//gpcp_1dd_v1.2_p1d.20060419.tif"
       ]
      },
      {
       "output_type": "stream",
       "stream": "stdout",
       "text": [
        "\n",
        "D:\\Data\\gpcp_extent//gpcp_1dd_v1.2_p1d.20060420.tif"
       ]
      },
      {
       "output_type": "stream",
       "stream": "stdout",
       "text": [
        "\n",
        "D:\\Data\\gpcp_extent//gpcp_1dd_v1.2_p1d.20060421.tif"
       ]
      },
      {
       "output_type": "stream",
       "stream": "stdout",
       "text": [
        "\n",
        "D:\\Data\\gpcp_extent//gpcp_1dd_v1.2_p1d.20060422.tif"
       ]
      },
      {
       "output_type": "stream",
       "stream": "stdout",
       "text": [
        "\n",
        "D:\\Data\\gpcp_extent//gpcp_1dd_v1.2_p1d.20060423.tif"
       ]
      },
      {
       "output_type": "stream",
       "stream": "stdout",
       "text": [
        "\n",
        "D:\\Data\\gpcp_extent//gpcp_1dd_v1.2_p1d.20060424.tif"
       ]
      },
      {
       "output_type": "stream",
       "stream": "stdout",
       "text": [
        "\n",
        "D:\\Data\\gpcp_extent//gpcp_1dd_v1.2_p1d.20060425.tif"
       ]
      },
      {
       "output_type": "stream",
       "stream": "stdout",
       "text": [
        "\n",
        "D:\\Data\\gpcp_extent//gpcp_1dd_v1.2_p1d.20060426.tif"
       ]
      },
      {
       "output_type": "stream",
       "stream": "stdout",
       "text": [
        "\n",
        "D:\\Data\\gpcp_extent//gpcp_1dd_v1.2_p1d.20060427.tif"
       ]
      },
      {
       "output_type": "stream",
       "stream": "stdout",
       "text": [
        "\n",
        "D:\\Data\\gpcp_extent//gpcp_1dd_v1.2_p1d.20060428.tif"
       ]
      },
      {
       "output_type": "stream",
       "stream": "stdout",
       "text": [
        "\n",
        "D:\\Data\\gpcp_extent//gpcp_1dd_v1.2_p1d.20060429.tif"
       ]
      },
      {
       "output_type": "stream",
       "stream": "stdout",
       "text": [
        "\n",
        "D:\\Data\\gpcp_extent//gpcp_1dd_v1.2_p1d.20060500.tif"
       ]
      },
      {
       "output_type": "stream",
       "stream": "stdout",
       "text": [
        "\n",
        "D:\\Data\\gpcp_extent//gpcp_1dd_v1.2_p1d.20060501.tif"
       ]
      },
      {
       "output_type": "stream",
       "stream": "stdout",
       "text": [
        "\n",
        "D:\\Data\\gpcp_extent//gpcp_1dd_v1.2_p1d.20060502.tif"
       ]
      },
      {
       "output_type": "stream",
       "stream": "stdout",
       "text": [
        "\n",
        "D:\\Data\\gpcp_extent//gpcp_1dd_v1.2_p1d.20060503.tif"
       ]
      },
      {
       "output_type": "stream",
       "stream": "stdout",
       "text": [
        "\n",
        "D:\\Data\\gpcp_extent//gpcp_1dd_v1.2_p1d.20060504.tif"
       ]
      },
      {
       "output_type": "stream",
       "stream": "stdout",
       "text": [
        "\n",
        "D:\\Data\\gpcp_extent//gpcp_1dd_v1.2_p1d.20060505.tif"
       ]
      },
      {
       "output_type": "stream",
       "stream": "stdout",
       "text": [
        "\n",
        "D:\\Data\\gpcp_extent//gpcp_1dd_v1.2_p1d.20060506.tif"
       ]
      },
      {
       "output_type": "stream",
       "stream": "stdout",
       "text": [
        "\n",
        "D:\\Data\\gpcp_extent//gpcp_1dd_v1.2_p1d.20060507.tif"
       ]
      },
      {
       "output_type": "stream",
       "stream": "stdout",
       "text": [
        "\n",
        "D:\\Data\\gpcp_extent//gpcp_1dd_v1.2_p1d.20060508.tif"
       ]
      },
      {
       "output_type": "stream",
       "stream": "stdout",
       "text": [
        "\n",
        "D:\\Data\\gpcp_extent//gpcp_1dd_v1.2_p1d.20060509.tif"
       ]
      },
      {
       "output_type": "stream",
       "stream": "stdout",
       "text": [
        "\n",
        "D:\\Data\\gpcp_extent//gpcp_1dd_v1.2_p1d.20060510.tif"
       ]
      },
      {
       "output_type": "stream",
       "stream": "stdout",
       "text": [
        "\n",
        "D:\\Data\\gpcp_extent//gpcp_1dd_v1.2_p1d.20060511.tif"
       ]
      },
      {
       "output_type": "stream",
       "stream": "stdout",
       "text": [
        "\n",
        "D:\\Data\\gpcp_extent//gpcp_1dd_v1.2_p1d.20060512.tif"
       ]
      },
      {
       "output_type": "stream",
       "stream": "stdout",
       "text": [
        "\n",
        "D:\\Data\\gpcp_extent//gpcp_1dd_v1.2_p1d.20060513.tif"
       ]
      },
      {
       "output_type": "stream",
       "stream": "stdout",
       "text": [
        "\n",
        "D:\\Data\\gpcp_extent//gpcp_1dd_v1.2_p1d.20060514.tif"
       ]
      },
      {
       "output_type": "stream",
       "stream": "stdout",
       "text": [
        "\n",
        "D:\\Data\\gpcp_extent//gpcp_1dd_v1.2_p1d.20060515.tif"
       ]
      },
      {
       "output_type": "stream",
       "stream": "stdout",
       "text": [
        "\n",
        "D:\\Data\\gpcp_extent//gpcp_1dd_v1.2_p1d.20060516.tif"
       ]
      },
      {
       "output_type": "stream",
       "stream": "stdout",
       "text": [
        "\n",
        "D:\\Data\\gpcp_extent//gpcp_1dd_v1.2_p1d.20060517.tif"
       ]
      },
      {
       "output_type": "stream",
       "stream": "stdout",
       "text": [
        "\n",
        "D:\\Data\\gpcp_extent//gpcp_1dd_v1.2_p1d.20060518.tif"
       ]
      },
      {
       "output_type": "stream",
       "stream": "stdout",
       "text": [
        "\n",
        "D:\\Data\\gpcp_extent//gpcp_1dd_v1.2_p1d.20060519.tif"
       ]
      },
      {
       "output_type": "stream",
       "stream": "stdout",
       "text": [
        "\n",
        "D:\\Data\\gpcp_extent//gpcp_1dd_v1.2_p1d.20060520.tif"
       ]
      },
      {
       "output_type": "stream",
       "stream": "stdout",
       "text": [
        "\n",
        "D:\\Data\\gpcp_extent//gpcp_1dd_v1.2_p1d.20060521.tif"
       ]
      },
      {
       "output_type": "stream",
       "stream": "stdout",
       "text": [
        "\n",
        "D:\\Data\\gpcp_extent//gpcp_1dd_v1.2_p1d.20060522.tif"
       ]
      },
      {
       "output_type": "stream",
       "stream": "stdout",
       "text": [
        "\n",
        "D:\\Data\\gpcp_extent//gpcp_1dd_v1.2_p1d.20060523.tif"
       ]
      },
      {
       "output_type": "stream",
       "stream": "stdout",
       "text": [
        "\n",
        "D:\\Data\\gpcp_extent//gpcp_1dd_v1.2_p1d.20060524.tif"
       ]
      },
      {
       "output_type": "stream",
       "stream": "stdout",
       "text": [
        "\n",
        "D:\\Data\\gpcp_extent//gpcp_1dd_v1.2_p1d.20060525.tif"
       ]
      },
      {
       "output_type": "stream",
       "stream": "stdout",
       "text": [
        "\n",
        "D:\\Data\\gpcp_extent//gpcp_1dd_v1.2_p1d.20060526.tif"
       ]
      },
      {
       "output_type": "stream",
       "stream": "stdout",
       "text": [
        "\n",
        "D:\\Data\\gpcp_extent//gpcp_1dd_v1.2_p1d.20060527.tif"
       ]
      },
      {
       "output_type": "stream",
       "stream": "stdout",
       "text": [
        "\n",
        "D:\\Data\\gpcp_extent//gpcp_1dd_v1.2_p1d.20060528.tif"
       ]
      },
      {
       "output_type": "stream",
       "stream": "stdout",
       "text": [
        "\n",
        "D:\\Data\\gpcp_extent//gpcp_1dd_v1.2_p1d.20060529.tif"
       ]
      },
      {
       "output_type": "stream",
       "stream": "stdout",
       "text": [
        "\n",
        "D:\\Data\\gpcp_extent//gpcp_1dd_v1.2_p1d.20060530.tif"
       ]
      },
      {
       "output_type": "stream",
       "stream": "stdout",
       "text": [
        "\n",
        "D:\\Data\\gpcp_extent//gpcp_1dd_v1.2_p1d.20060600.tif"
       ]
      },
      {
       "output_type": "stream",
       "stream": "stdout",
       "text": [
        "\n",
        "D:\\Data\\gpcp_extent//gpcp_1dd_v1.2_p1d.20060601.tif"
       ]
      },
      {
       "output_type": "stream",
       "stream": "stdout",
       "text": [
        "\n",
        "D:\\Data\\gpcp_extent//gpcp_1dd_v1.2_p1d.20060602.tif"
       ]
      },
      {
       "output_type": "stream",
       "stream": "stdout",
       "text": [
        "\n",
        "D:\\Data\\gpcp_extent//gpcp_1dd_v1.2_p1d.20060603.tif"
       ]
      },
      {
       "output_type": "stream",
       "stream": "stdout",
       "text": [
        "\n",
        "D:\\Data\\gpcp_extent//gpcp_1dd_v1.2_p1d.20060604.tif"
       ]
      },
      {
       "output_type": "stream",
       "stream": "stdout",
       "text": [
        "\n",
        "D:\\Data\\gpcp_extent//gpcp_1dd_v1.2_p1d.20060605.tif"
       ]
      },
      {
       "output_type": "stream",
       "stream": "stdout",
       "text": [
        "\n",
        "D:\\Data\\gpcp_extent//gpcp_1dd_v1.2_p1d.20060606.tif"
       ]
      },
      {
       "output_type": "stream",
       "stream": "stdout",
       "text": [
        "\n",
        "D:\\Data\\gpcp_extent//gpcp_1dd_v1.2_p1d.20060607.tif"
       ]
      },
      {
       "output_type": "stream",
       "stream": "stdout",
       "text": [
        "\n",
        "D:\\Data\\gpcp_extent//gpcp_1dd_v1.2_p1d.20060608.tif"
       ]
      },
      {
       "output_type": "stream",
       "stream": "stdout",
       "text": [
        "\n",
        "D:\\Data\\gpcp_extent//gpcp_1dd_v1.2_p1d.20060609.tif"
       ]
      },
      {
       "output_type": "stream",
       "stream": "stdout",
       "text": [
        "\n",
        "D:\\Data\\gpcp_extent//gpcp_1dd_v1.2_p1d.20060610.tif"
       ]
      },
      {
       "output_type": "stream",
       "stream": "stdout",
       "text": [
        "\n",
        "D:\\Data\\gpcp_extent//gpcp_1dd_v1.2_p1d.20060611.tif"
       ]
      },
      {
       "output_type": "stream",
       "stream": "stdout",
       "text": [
        "\n",
        "D:\\Data\\gpcp_extent//gpcp_1dd_v1.2_p1d.20060612.tif"
       ]
      },
      {
       "output_type": "stream",
       "stream": "stdout",
       "text": [
        "\n",
        "D:\\Data\\gpcp_extent//gpcp_1dd_v1.2_p1d.20060613.tif"
       ]
      },
      {
       "output_type": "stream",
       "stream": "stdout",
       "text": [
        "\n",
        "D:\\Data\\gpcp_extent//gpcp_1dd_v1.2_p1d.20060614.tif"
       ]
      },
      {
       "output_type": "stream",
       "stream": "stdout",
       "text": [
        "\n",
        "D:\\Data\\gpcp_extent//gpcp_1dd_v1.2_p1d.20060615.tif"
       ]
      },
      {
       "output_type": "stream",
       "stream": "stdout",
       "text": [
        "\n",
        "D:\\Data\\gpcp_extent//gpcp_1dd_v1.2_p1d.20060616.tif"
       ]
      },
      {
       "output_type": "stream",
       "stream": "stdout",
       "text": [
        "\n",
        "D:\\Data\\gpcp_extent//gpcp_1dd_v1.2_p1d.20060617.tif"
       ]
      },
      {
       "output_type": "stream",
       "stream": "stdout",
       "text": [
        "\n",
        "D:\\Data\\gpcp_extent//gpcp_1dd_v1.2_p1d.20060618.tif"
       ]
      },
      {
       "output_type": "stream",
       "stream": "stdout",
       "text": [
        "\n",
        "D:\\Data\\gpcp_extent//gpcp_1dd_v1.2_p1d.20060619.tif"
       ]
      },
      {
       "output_type": "stream",
       "stream": "stdout",
       "text": [
        "\n",
        "D:\\Data\\gpcp_extent//gpcp_1dd_v1.2_p1d.20060620.tif"
       ]
      },
      {
       "output_type": "stream",
       "stream": "stdout",
       "text": [
        "\n",
        "D:\\Data\\gpcp_extent//gpcp_1dd_v1.2_p1d.20060621.tif"
       ]
      },
      {
       "output_type": "stream",
       "stream": "stdout",
       "text": [
        "\n",
        "D:\\Data\\gpcp_extent//gpcp_1dd_v1.2_p1d.20060622.tif"
       ]
      },
      {
       "output_type": "stream",
       "stream": "stdout",
       "text": [
        "\n",
        "D:\\Data\\gpcp_extent//gpcp_1dd_v1.2_p1d.20060623.tif"
       ]
      },
      {
       "output_type": "stream",
       "stream": "stdout",
       "text": [
        "\n",
        "D:\\Data\\gpcp_extent//gpcp_1dd_v1.2_p1d.20060624.tif"
       ]
      },
      {
       "output_type": "stream",
       "stream": "stdout",
       "text": [
        "\n",
        "D:\\Data\\gpcp_extent//gpcp_1dd_v1.2_p1d.20060625.tif"
       ]
      },
      {
       "output_type": "stream",
       "stream": "stdout",
       "text": [
        "\n",
        "D:\\Data\\gpcp_extent//gpcp_1dd_v1.2_p1d.20060626.tif"
       ]
      },
      {
       "output_type": "stream",
       "stream": "stdout",
       "text": [
        "\n",
        "D:\\Data\\gpcp_extent//gpcp_1dd_v1.2_p1d.20060627.tif"
       ]
      },
      {
       "output_type": "stream",
       "stream": "stdout",
       "text": [
        "\n",
        "D:\\Data\\gpcp_extent//gpcp_1dd_v1.2_p1d.20060628.tif"
       ]
      },
      {
       "output_type": "stream",
       "stream": "stdout",
       "text": [
        "\n",
        "D:\\Data\\gpcp_extent//gpcp_1dd_v1.2_p1d.20060629.tif"
       ]
      },
      {
       "output_type": "stream",
       "stream": "stdout",
       "text": [
        "\n",
        "D:\\Data\\gpcp_extent//gpcp_1dd_v1.2_p1d.20060700.tif"
       ]
      },
      {
       "output_type": "stream",
       "stream": "stdout",
       "text": [
        "\n",
        "D:\\Data\\gpcp_extent//gpcp_1dd_v1.2_p1d.20060701.tif"
       ]
      },
      {
       "output_type": "stream",
       "stream": "stdout",
       "text": [
        "\n",
        "D:\\Data\\gpcp_extent//gpcp_1dd_v1.2_p1d.20060702.tif"
       ]
      },
      {
       "output_type": "stream",
       "stream": "stdout",
       "text": [
        "\n",
        "D:\\Data\\gpcp_extent//gpcp_1dd_v1.2_p1d.20060703.tif"
       ]
      },
      {
       "output_type": "stream",
       "stream": "stdout",
       "text": [
        "\n",
        "D:\\Data\\gpcp_extent//gpcp_1dd_v1.2_p1d.20060704.tif"
       ]
      },
      {
       "output_type": "stream",
       "stream": "stdout",
       "text": [
        "\n",
        "D:\\Data\\gpcp_extent//gpcp_1dd_v1.2_p1d.20060705.tif"
       ]
      },
      {
       "output_type": "stream",
       "stream": "stdout",
       "text": [
        "\n",
        "D:\\Data\\gpcp_extent//gpcp_1dd_v1.2_p1d.20060706.tif"
       ]
      },
      {
       "output_type": "stream",
       "stream": "stdout",
       "text": [
        "\n",
        "D:\\Data\\gpcp_extent//gpcp_1dd_v1.2_p1d.20060707.tif"
       ]
      },
      {
       "output_type": "stream",
       "stream": "stdout",
       "text": [
        "\n",
        "D:\\Data\\gpcp_extent//gpcp_1dd_v1.2_p1d.20060708.tif"
       ]
      },
      {
       "output_type": "stream",
       "stream": "stdout",
       "text": [
        "\n",
        "D:\\Data\\gpcp_extent//gpcp_1dd_v1.2_p1d.20060709.tif"
       ]
      },
      {
       "output_type": "stream",
       "stream": "stdout",
       "text": [
        "\n",
        "D:\\Data\\gpcp_extent//gpcp_1dd_v1.2_p1d.20060710.tif"
       ]
      },
      {
       "output_type": "stream",
       "stream": "stdout",
       "text": [
        "\n",
        "D:\\Data\\gpcp_extent//gpcp_1dd_v1.2_p1d.20060711.tif"
       ]
      },
      {
       "output_type": "stream",
       "stream": "stdout",
       "text": [
        "\n",
        "D:\\Data\\gpcp_extent//gpcp_1dd_v1.2_p1d.20060712.tif"
       ]
      },
      {
       "output_type": "stream",
       "stream": "stdout",
       "text": [
        "\n",
        "D:\\Data\\gpcp_extent//gpcp_1dd_v1.2_p1d.20060713.tif"
       ]
      },
      {
       "output_type": "stream",
       "stream": "stdout",
       "text": [
        "\n",
        "D:\\Data\\gpcp_extent//gpcp_1dd_v1.2_p1d.20060714.tif"
       ]
      },
      {
       "output_type": "stream",
       "stream": "stdout",
       "text": [
        "\n",
        "D:\\Data\\gpcp_extent//gpcp_1dd_v1.2_p1d.20060715.tif"
       ]
      },
      {
       "output_type": "stream",
       "stream": "stdout",
       "text": [
        "\n",
        "D:\\Data\\gpcp_extent//gpcp_1dd_v1.2_p1d.20060716.tif"
       ]
      },
      {
       "output_type": "stream",
       "stream": "stdout",
       "text": [
        "\n",
        "D:\\Data\\gpcp_extent//gpcp_1dd_v1.2_p1d.20060717.tif"
       ]
      },
      {
       "output_type": "stream",
       "stream": "stdout",
       "text": [
        "\n",
        "D:\\Data\\gpcp_extent//gpcp_1dd_v1.2_p1d.20060718.tif"
       ]
      },
      {
       "output_type": "stream",
       "stream": "stdout",
       "text": [
        "\n",
        "D:\\Data\\gpcp_extent//gpcp_1dd_v1.2_p1d.20060719.tif"
       ]
      },
      {
       "output_type": "stream",
       "stream": "stdout",
       "text": [
        "\n",
        "D:\\Data\\gpcp_extent//gpcp_1dd_v1.2_p1d.20060720.tif"
       ]
      },
      {
       "output_type": "stream",
       "stream": "stdout",
       "text": [
        "\n",
        "D:\\Data\\gpcp_extent//gpcp_1dd_v1.2_p1d.20060721.tif"
       ]
      },
      {
       "output_type": "stream",
       "stream": "stdout",
       "text": [
        "\n",
        "D:\\Data\\gpcp_extent//gpcp_1dd_v1.2_p1d.20060722.tif"
       ]
      },
      {
       "output_type": "stream",
       "stream": "stdout",
       "text": [
        "\n",
        "D:\\Data\\gpcp_extent//gpcp_1dd_v1.2_p1d.20060723.tif"
       ]
      },
      {
       "output_type": "stream",
       "stream": "stdout",
       "text": [
        "\n",
        "D:\\Data\\gpcp_extent//gpcp_1dd_v1.2_p1d.20060724.tif"
       ]
      },
      {
       "output_type": "stream",
       "stream": "stdout",
       "text": [
        "\n",
        "D:\\Data\\gpcp_extent//gpcp_1dd_v1.2_p1d.20060725.tif"
       ]
      },
      {
       "output_type": "stream",
       "stream": "stdout",
       "text": [
        "\n",
        "D:\\Data\\gpcp_extent//gpcp_1dd_v1.2_p1d.20060726.tif"
       ]
      },
      {
       "output_type": "stream",
       "stream": "stdout",
       "text": [
        "\n",
        "D:\\Data\\gpcp_extent//gpcp_1dd_v1.2_p1d.20060727.tif"
       ]
      },
      {
       "output_type": "stream",
       "stream": "stdout",
       "text": [
        "\n",
        "D:\\Data\\gpcp_extent//gpcp_1dd_v1.2_p1d.20060728.tif"
       ]
      },
      {
       "output_type": "stream",
       "stream": "stdout",
       "text": [
        "\n",
        "D:\\Data\\gpcp_extent//gpcp_1dd_v1.2_p1d.20060729.tif"
       ]
      },
      {
       "output_type": "stream",
       "stream": "stdout",
       "text": [
        "\n",
        "D:\\Data\\gpcp_extent//gpcp_1dd_v1.2_p1d.20060730.tif"
       ]
      },
      {
       "output_type": "stream",
       "stream": "stdout",
       "text": [
        "\n",
        "D:\\Data\\gpcp_extent//gpcp_1dd_v1.2_p1d.20060800.tif"
       ]
      },
      {
       "output_type": "stream",
       "stream": "stdout",
       "text": [
        "\n",
        "D:\\Data\\gpcp_extent//gpcp_1dd_v1.2_p1d.20060801.tif"
       ]
      },
      {
       "output_type": "stream",
       "stream": "stdout",
       "text": [
        "\n",
        "D:\\Data\\gpcp_extent//gpcp_1dd_v1.2_p1d.20060802.tif"
       ]
      },
      {
       "output_type": "stream",
       "stream": "stdout",
       "text": [
        "\n",
        "D:\\Data\\gpcp_extent//gpcp_1dd_v1.2_p1d.20060803.tif"
       ]
      },
      {
       "output_type": "stream",
       "stream": "stdout",
       "text": [
        "\n",
        "D:\\Data\\gpcp_extent//gpcp_1dd_v1.2_p1d.20060804.tif"
       ]
      },
      {
       "output_type": "stream",
       "stream": "stdout",
       "text": [
        "\n",
        "D:\\Data\\gpcp_extent//gpcp_1dd_v1.2_p1d.20060805.tif"
       ]
      },
      {
       "output_type": "stream",
       "stream": "stdout",
       "text": [
        "\n",
        "D:\\Data\\gpcp_extent//gpcp_1dd_v1.2_p1d.20060806.tif"
       ]
      },
      {
       "output_type": "stream",
       "stream": "stdout",
       "text": [
        "\n",
        "D:\\Data\\gpcp_extent//gpcp_1dd_v1.2_p1d.20060807.tif"
       ]
      },
      {
       "output_type": "stream",
       "stream": "stdout",
       "text": [
        "\n",
        "D:\\Data\\gpcp_extent//gpcp_1dd_v1.2_p1d.20060808.tif"
       ]
      },
      {
       "output_type": "stream",
       "stream": "stdout",
       "text": [
        "\n",
        "D:\\Data\\gpcp_extent//gpcp_1dd_v1.2_p1d.20060809.tif"
       ]
      },
      {
       "output_type": "stream",
       "stream": "stdout",
       "text": [
        "\n",
        "D:\\Data\\gpcp_extent//gpcp_1dd_v1.2_p1d.20060810.tif"
       ]
      },
      {
       "output_type": "stream",
       "stream": "stdout",
       "text": [
        "\n",
        "D:\\Data\\gpcp_extent//gpcp_1dd_v1.2_p1d.20060811.tif"
       ]
      },
      {
       "output_type": "stream",
       "stream": "stdout",
       "text": [
        "\n",
        "D:\\Data\\gpcp_extent//gpcp_1dd_v1.2_p1d.20060812.tif"
       ]
      },
      {
       "output_type": "stream",
       "stream": "stdout",
       "text": [
        "\n",
        "D:\\Data\\gpcp_extent//gpcp_1dd_v1.2_p1d.20060813.tif"
       ]
      },
      {
       "output_type": "stream",
       "stream": "stdout",
       "text": [
        "\n",
        "D:\\Data\\gpcp_extent//gpcp_1dd_v1.2_p1d.20060814.tif"
       ]
      },
      {
       "output_type": "stream",
       "stream": "stdout",
       "text": [
        "\n",
        "D:\\Data\\gpcp_extent//gpcp_1dd_v1.2_p1d.20060815.tif"
       ]
      },
      {
       "output_type": "stream",
       "stream": "stdout",
       "text": [
        "\n",
        "D:\\Data\\gpcp_extent//gpcp_1dd_v1.2_p1d.20060816.tif"
       ]
      },
      {
       "output_type": "stream",
       "stream": "stdout",
       "text": [
        "\n",
        "D:\\Data\\gpcp_extent//gpcp_1dd_v1.2_p1d.20060817.tif"
       ]
      },
      {
       "output_type": "stream",
       "stream": "stdout",
       "text": [
        "\n",
        "D:\\Data\\gpcp_extent//gpcp_1dd_v1.2_p1d.20060818.tif"
       ]
      },
      {
       "output_type": "stream",
       "stream": "stdout",
       "text": [
        "\n",
        "D:\\Data\\gpcp_extent//gpcp_1dd_v1.2_p1d.20060819.tif"
       ]
      },
      {
       "output_type": "stream",
       "stream": "stdout",
       "text": [
        "\n",
        "D:\\Data\\gpcp_extent//gpcp_1dd_v1.2_p1d.20060820.tif"
       ]
      },
      {
       "output_type": "stream",
       "stream": "stdout",
       "text": [
        "\n",
        "D:\\Data\\gpcp_extent//gpcp_1dd_v1.2_p1d.20060821.tif"
       ]
      },
      {
       "output_type": "stream",
       "stream": "stdout",
       "text": [
        "\n",
        "D:\\Data\\gpcp_extent//gpcp_1dd_v1.2_p1d.20060822.tif"
       ]
      },
      {
       "output_type": "stream",
       "stream": "stdout",
       "text": [
        "\n",
        "D:\\Data\\gpcp_extent//gpcp_1dd_v1.2_p1d.20060823.tif"
       ]
      },
      {
       "output_type": "stream",
       "stream": "stdout",
       "text": [
        "\n",
        "D:\\Data\\gpcp_extent//gpcp_1dd_v1.2_p1d.20060824.tif"
       ]
      },
      {
       "output_type": "stream",
       "stream": "stdout",
       "text": [
        "\n",
        "D:\\Data\\gpcp_extent//gpcp_1dd_v1.2_p1d.20060825.tif"
       ]
      },
      {
       "output_type": "stream",
       "stream": "stdout",
       "text": [
        "\n",
        "D:\\Data\\gpcp_extent//gpcp_1dd_v1.2_p1d.20060826.tif"
       ]
      },
      {
       "output_type": "stream",
       "stream": "stdout",
       "text": [
        "\n",
        "D:\\Data\\gpcp_extent//gpcp_1dd_v1.2_p1d.20060827.tif"
       ]
      },
      {
       "output_type": "stream",
       "stream": "stdout",
       "text": [
        "\n",
        "D:\\Data\\gpcp_extent//gpcp_1dd_v1.2_p1d.20060828.tif"
       ]
      },
      {
       "output_type": "stream",
       "stream": "stdout",
       "text": [
        "\n",
        "D:\\Data\\gpcp_extent//gpcp_1dd_v1.2_p1d.20060829.tif"
       ]
      },
      {
       "output_type": "stream",
       "stream": "stdout",
       "text": [
        "\n",
        "D:\\Data\\gpcp_extent//gpcp_1dd_v1.2_p1d.20060830.tif"
       ]
      },
      {
       "output_type": "stream",
       "stream": "stdout",
       "text": [
        "\n",
        "D:\\Data\\gpcp_extent//gpcp_1dd_v1.2_p1d.20060900.tif"
       ]
      },
      {
       "output_type": "stream",
       "stream": "stdout",
       "text": [
        "\n",
        "D:\\Data\\gpcp_extent//gpcp_1dd_v1.2_p1d.20060901.tif"
       ]
      },
      {
       "output_type": "stream",
       "stream": "stdout",
       "text": [
        "\n",
        "D:\\Data\\gpcp_extent//gpcp_1dd_v1.2_p1d.20060902.tif"
       ]
      },
      {
       "output_type": "stream",
       "stream": "stdout",
       "text": [
        "\n",
        "D:\\Data\\gpcp_extent//gpcp_1dd_v1.2_p1d.20060903.tif"
       ]
      },
      {
       "output_type": "stream",
       "stream": "stdout",
       "text": [
        "\n",
        "D:\\Data\\gpcp_extent//gpcp_1dd_v1.2_p1d.20060904.tif"
       ]
      },
      {
       "output_type": "stream",
       "stream": "stdout",
       "text": [
        "\n",
        "D:\\Data\\gpcp_extent//gpcp_1dd_v1.2_p1d.20060905.tif"
       ]
      },
      {
       "output_type": "stream",
       "stream": "stdout",
       "text": [
        "\n",
        "D:\\Data\\gpcp_extent//gpcp_1dd_v1.2_p1d.20060906.tif"
       ]
      },
      {
       "output_type": "stream",
       "stream": "stdout",
       "text": [
        "\n",
        "D:\\Data\\gpcp_extent//gpcp_1dd_v1.2_p1d.20060907.tif"
       ]
      },
      {
       "output_type": "stream",
       "stream": "stdout",
       "text": [
        "\n",
        "D:\\Data\\gpcp_extent//gpcp_1dd_v1.2_p1d.20060908.tif"
       ]
      },
      {
       "output_type": "stream",
       "stream": "stdout",
       "text": [
        "\n",
        "D:\\Data\\gpcp_extent//gpcp_1dd_v1.2_p1d.20060909.tif"
       ]
      },
      {
       "output_type": "stream",
       "stream": "stdout",
       "text": [
        "\n",
        "D:\\Data\\gpcp_extent//gpcp_1dd_v1.2_p1d.20060910.tif"
       ]
      },
      {
       "output_type": "stream",
       "stream": "stdout",
       "text": [
        "\n",
        "D:\\Data\\gpcp_extent//gpcp_1dd_v1.2_p1d.20060911.tif"
       ]
      },
      {
       "output_type": "stream",
       "stream": "stdout",
       "text": [
        "\n",
        "D:\\Data\\gpcp_extent//gpcp_1dd_v1.2_p1d.20060912.tif"
       ]
      },
      {
       "output_type": "stream",
       "stream": "stdout",
       "text": [
        "\n",
        "D:\\Data\\gpcp_extent//gpcp_1dd_v1.2_p1d.20060913.tif"
       ]
      },
      {
       "output_type": "stream",
       "stream": "stdout",
       "text": [
        "\n",
        "D:\\Data\\gpcp_extent//gpcp_1dd_v1.2_p1d.20060914.tif"
       ]
      },
      {
       "output_type": "stream",
       "stream": "stdout",
       "text": [
        "\n",
        "D:\\Data\\gpcp_extent//gpcp_1dd_v1.2_p1d.20060915.tif"
       ]
      },
      {
       "output_type": "stream",
       "stream": "stdout",
       "text": [
        "\n",
        "D:\\Data\\gpcp_extent//gpcp_1dd_v1.2_p1d.20060916.tif"
       ]
      },
      {
       "output_type": "stream",
       "stream": "stdout",
       "text": [
        "\n",
        "D:\\Data\\gpcp_extent//gpcp_1dd_v1.2_p1d.20060917.tif"
       ]
      },
      {
       "output_type": "stream",
       "stream": "stdout",
       "text": [
        "\n",
        "D:\\Data\\gpcp_extent//gpcp_1dd_v1.2_p1d.20060918.tif"
       ]
      },
      {
       "output_type": "stream",
       "stream": "stdout",
       "text": [
        "\n",
        "D:\\Data\\gpcp_extent//gpcp_1dd_v1.2_p1d.20060919.tif"
       ]
      },
      {
       "output_type": "stream",
       "stream": "stdout",
       "text": [
        "\n",
        "D:\\Data\\gpcp_extent//gpcp_1dd_v1.2_p1d.20060920.tif"
       ]
      },
      {
       "output_type": "stream",
       "stream": "stdout",
       "text": [
        "\n",
        "D:\\Data\\gpcp_extent//gpcp_1dd_v1.2_p1d.20060921.tif"
       ]
      },
      {
       "output_type": "stream",
       "stream": "stdout",
       "text": [
        "\n",
        "D:\\Data\\gpcp_extent//gpcp_1dd_v1.2_p1d.20060922.tif"
       ]
      },
      {
       "output_type": "stream",
       "stream": "stdout",
       "text": [
        "\n",
        "D:\\Data\\gpcp_extent//gpcp_1dd_v1.2_p1d.20060923.tif"
       ]
      },
      {
       "output_type": "stream",
       "stream": "stdout",
       "text": [
        "\n",
        "D:\\Data\\gpcp_extent//gpcp_1dd_v1.2_p1d.20060924.tif"
       ]
      },
      {
       "output_type": "stream",
       "stream": "stdout",
       "text": [
        "\n",
        "D:\\Data\\gpcp_extent//gpcp_1dd_v1.2_p1d.20060925.tif"
       ]
      },
      {
       "output_type": "stream",
       "stream": "stdout",
       "text": [
        "\n",
        "D:\\Data\\gpcp_extent//gpcp_1dd_v1.2_p1d.20060926.tif"
       ]
      },
      {
       "output_type": "stream",
       "stream": "stdout",
       "text": [
        "\n",
        "D:\\Data\\gpcp_extent//gpcp_1dd_v1.2_p1d.20060927.tif"
       ]
      },
      {
       "output_type": "stream",
       "stream": "stdout",
       "text": [
        "\n",
        "D:\\Data\\gpcp_extent//gpcp_1dd_v1.2_p1d.20060928.tif"
       ]
      },
      {
       "output_type": "stream",
       "stream": "stdout",
       "text": [
        "\n",
        "D:\\Data\\gpcp_extent//gpcp_1dd_v1.2_p1d.20060929.tif"
       ]
      },
      {
       "output_type": "stream",
       "stream": "stdout",
       "text": [
        "\n",
        "D:\\Data\\gpcp_extent//gpcp_1dd_v1.2_p1d.20061000.tif"
       ]
      },
      {
       "output_type": "stream",
       "stream": "stdout",
       "text": [
        "\n",
        "D:\\Data\\gpcp_extent//gpcp_1dd_v1.2_p1d.20061001.tif"
       ]
      },
      {
       "output_type": "stream",
       "stream": "stdout",
       "text": [
        "\n",
        "D:\\Data\\gpcp_extent//gpcp_1dd_v1.2_p1d.20061002.tif"
       ]
      },
      {
       "output_type": "stream",
       "stream": "stdout",
       "text": [
        "\n",
        "D:\\Data\\gpcp_extent//gpcp_1dd_v1.2_p1d.20061003.tif"
       ]
      },
      {
       "output_type": "stream",
       "stream": "stdout",
       "text": [
        "\n",
        "D:\\Data\\gpcp_extent//gpcp_1dd_v1.2_p1d.20061004.tif"
       ]
      },
      {
       "output_type": "stream",
       "stream": "stdout",
       "text": [
        "\n",
        "D:\\Data\\gpcp_extent//gpcp_1dd_v1.2_p1d.20061005.tif"
       ]
      },
      {
       "output_type": "stream",
       "stream": "stdout",
       "text": [
        "\n",
        "D:\\Data\\gpcp_extent//gpcp_1dd_v1.2_p1d.20061006.tif"
       ]
      },
      {
       "output_type": "stream",
       "stream": "stdout",
       "text": [
        "\n",
        "D:\\Data\\gpcp_extent//gpcp_1dd_v1.2_p1d.20061007.tif"
       ]
      },
      {
       "output_type": "stream",
       "stream": "stdout",
       "text": [
        "\n",
        "D:\\Data\\gpcp_extent//gpcp_1dd_v1.2_p1d.20061008.tif"
       ]
      },
      {
       "output_type": "stream",
       "stream": "stdout",
       "text": [
        "\n",
        "D:\\Data\\gpcp_extent//gpcp_1dd_v1.2_p1d.20061009.tif"
       ]
      },
      {
       "output_type": "stream",
       "stream": "stdout",
       "text": [
        "\n",
        "D:\\Data\\gpcp_extent//gpcp_1dd_v1.2_p1d.20061010.tif"
       ]
      },
      {
       "output_type": "stream",
       "stream": "stdout",
       "text": [
        "\n",
        "D:\\Data\\gpcp_extent//gpcp_1dd_v1.2_p1d.20061011.tif"
       ]
      },
      {
       "output_type": "stream",
       "stream": "stdout",
       "text": [
        "\n",
        "D:\\Data\\gpcp_extent//gpcp_1dd_v1.2_p1d.20061012.tif"
       ]
      },
      {
       "output_type": "stream",
       "stream": "stdout",
       "text": [
        "\n",
        "D:\\Data\\gpcp_extent//gpcp_1dd_v1.2_p1d.20061013.tif"
       ]
      },
      {
       "output_type": "stream",
       "stream": "stdout",
       "text": [
        "\n",
        "D:\\Data\\gpcp_extent//gpcp_1dd_v1.2_p1d.20061014.tif"
       ]
      },
      {
       "output_type": "stream",
       "stream": "stdout",
       "text": [
        "\n",
        "D:\\Data\\gpcp_extent//gpcp_1dd_v1.2_p1d.20061015.tif"
       ]
      },
      {
       "output_type": "stream",
       "stream": "stdout",
       "text": [
        "\n",
        "D:\\Data\\gpcp_extent//gpcp_1dd_v1.2_p1d.20061016.tif"
       ]
      },
      {
       "output_type": "stream",
       "stream": "stdout",
       "text": [
        "\n",
        "D:\\Data\\gpcp_extent//gpcp_1dd_v1.2_p1d.20061017.tif"
       ]
      },
      {
       "output_type": "stream",
       "stream": "stdout",
       "text": [
        "\n",
        "D:\\Data\\gpcp_extent//gpcp_1dd_v1.2_p1d.20061018.tif"
       ]
      },
      {
       "output_type": "stream",
       "stream": "stdout",
       "text": [
        "\n",
        "D:\\Data\\gpcp_extent//gpcp_1dd_v1.2_p1d.20061019.tif"
       ]
      },
      {
       "output_type": "stream",
       "stream": "stdout",
       "text": [
        "\n",
        "D:\\Data\\gpcp_extent//gpcp_1dd_v1.2_p1d.20061020.tif"
       ]
      },
      {
       "output_type": "stream",
       "stream": "stdout",
       "text": [
        "\n",
        "D:\\Data\\gpcp_extent//gpcp_1dd_v1.2_p1d.20061021.tif"
       ]
      },
      {
       "output_type": "stream",
       "stream": "stdout",
       "text": [
        "\n",
        "D:\\Data\\gpcp_extent//gpcp_1dd_v1.2_p1d.20061022.tif"
       ]
      },
      {
       "output_type": "stream",
       "stream": "stdout",
       "text": [
        "\n",
        "D:\\Data\\gpcp_extent//gpcp_1dd_v1.2_p1d.20061023.tif"
       ]
      },
      {
       "output_type": "stream",
       "stream": "stdout",
       "text": [
        "\n",
        "D:\\Data\\gpcp_extent//gpcp_1dd_v1.2_p1d.20061024.tif"
       ]
      },
      {
       "output_type": "stream",
       "stream": "stdout",
       "text": [
        "\n",
        "D:\\Data\\gpcp_extent//gpcp_1dd_v1.2_p1d.20061025.tif"
       ]
      },
      {
       "output_type": "stream",
       "stream": "stdout",
       "text": [
        "\n",
        "D:\\Data\\gpcp_extent//gpcp_1dd_v1.2_p1d.20061026.tif"
       ]
      },
      {
       "output_type": "stream",
       "stream": "stdout",
       "text": [
        "\n",
        "D:\\Data\\gpcp_extent//gpcp_1dd_v1.2_p1d.20061027.tif"
       ]
      },
      {
       "output_type": "stream",
       "stream": "stdout",
       "text": [
        "\n",
        "D:\\Data\\gpcp_extent//gpcp_1dd_v1.2_p1d.20061028.tif"
       ]
      },
      {
       "output_type": "stream",
       "stream": "stdout",
       "text": [
        "\n",
        "D:\\Data\\gpcp_extent//gpcp_1dd_v1.2_p1d.20061029.tif"
       ]
      },
      {
       "output_type": "stream",
       "stream": "stdout",
       "text": [
        "\n",
        "D:\\Data\\gpcp_extent//gpcp_1dd_v1.2_p1d.20061030.tif"
       ]
      },
      {
       "output_type": "stream",
       "stream": "stdout",
       "text": [
        "\n",
        "D:\\Data\\gpcp_extent//gpcp_1dd_v1.2_p1d.20061100.tif"
       ]
      },
      {
       "output_type": "stream",
       "stream": "stdout",
       "text": [
        "\n",
        "D:\\Data\\gpcp_extent//gpcp_1dd_v1.2_p1d.20061101.tif"
       ]
      },
      {
       "output_type": "stream",
       "stream": "stdout",
       "text": [
        "\n",
        "D:\\Data\\gpcp_extent//gpcp_1dd_v1.2_p1d.20061102.tif"
       ]
      },
      {
       "output_type": "stream",
       "stream": "stdout",
       "text": [
        "\n",
        "D:\\Data\\gpcp_extent//gpcp_1dd_v1.2_p1d.20061103.tif"
       ]
      },
      {
       "output_type": "stream",
       "stream": "stdout",
       "text": [
        "\n",
        "D:\\Data\\gpcp_extent//gpcp_1dd_v1.2_p1d.20061104.tif"
       ]
      },
      {
       "output_type": "stream",
       "stream": "stdout",
       "text": [
        "\n",
        "D:\\Data\\gpcp_extent//gpcp_1dd_v1.2_p1d.20061105.tif"
       ]
      },
      {
       "output_type": "stream",
       "stream": "stdout",
       "text": [
        "\n",
        "D:\\Data\\gpcp_extent//gpcp_1dd_v1.2_p1d.20061106.tif"
       ]
      },
      {
       "output_type": "stream",
       "stream": "stdout",
       "text": [
        "\n",
        "D:\\Data\\gpcp_extent//gpcp_1dd_v1.2_p1d.20061107.tif"
       ]
      },
      {
       "output_type": "stream",
       "stream": "stdout",
       "text": [
        "\n",
        "D:\\Data\\gpcp_extent//gpcp_1dd_v1.2_p1d.20061108.tif"
       ]
      },
      {
       "output_type": "stream",
       "stream": "stdout",
       "text": [
        "\n",
        "D:\\Data\\gpcp_extent//gpcp_1dd_v1.2_p1d.20061109.tif"
       ]
      },
      {
       "output_type": "stream",
       "stream": "stdout",
       "text": [
        "\n",
        "D:\\Data\\gpcp_extent//gpcp_1dd_v1.2_p1d.20061110.tif"
       ]
      },
      {
       "output_type": "stream",
       "stream": "stdout",
       "text": [
        "\n",
        "D:\\Data\\gpcp_extent//gpcp_1dd_v1.2_p1d.20061111.tif"
       ]
      },
      {
       "output_type": "stream",
       "stream": "stdout",
       "text": [
        "\n",
        "D:\\Data\\gpcp_extent//gpcp_1dd_v1.2_p1d.20061112.tif"
       ]
      },
      {
       "output_type": "stream",
       "stream": "stdout",
       "text": [
        "\n",
        "D:\\Data\\gpcp_extent//gpcp_1dd_v1.2_p1d.20061113.tif"
       ]
      },
      {
       "output_type": "stream",
       "stream": "stdout",
       "text": [
        "\n",
        "D:\\Data\\gpcp_extent//gpcp_1dd_v1.2_p1d.20061114.tif"
       ]
      },
      {
       "output_type": "stream",
       "stream": "stdout",
       "text": [
        "\n",
        "D:\\Data\\gpcp_extent//gpcp_1dd_v1.2_p1d.20061115.tif"
       ]
      },
      {
       "output_type": "stream",
       "stream": "stdout",
       "text": [
        "\n",
        "D:\\Data\\gpcp_extent//gpcp_1dd_v1.2_p1d.20061116.tif"
       ]
      },
      {
       "output_type": "stream",
       "stream": "stdout",
       "text": [
        "\n",
        "D:\\Data\\gpcp_extent//gpcp_1dd_v1.2_p1d.20061117.tif"
       ]
      },
      {
       "output_type": "stream",
       "stream": "stdout",
       "text": [
        "\n",
        "D:\\Data\\gpcp_extent//gpcp_1dd_v1.2_p1d.20061118.tif"
       ]
      },
      {
       "output_type": "stream",
       "stream": "stdout",
       "text": [
        "\n",
        "D:\\Data\\gpcp_extent//gpcp_1dd_v1.2_p1d.20061119.tif"
       ]
      },
      {
       "output_type": "stream",
       "stream": "stdout",
       "text": [
        "\n",
        "D:\\Data\\gpcp_extent//gpcp_1dd_v1.2_p1d.20061120.tif"
       ]
      },
      {
       "output_type": "stream",
       "stream": "stdout",
       "text": [
        "\n",
        "D:\\Data\\gpcp_extent//gpcp_1dd_v1.2_p1d.20061121.tif"
       ]
      },
      {
       "output_type": "stream",
       "stream": "stdout",
       "text": [
        "\n",
        "D:\\Data\\gpcp_extent//gpcp_1dd_v1.2_p1d.20061122.tif"
       ]
      },
      {
       "output_type": "stream",
       "stream": "stdout",
       "text": [
        "\n",
        "D:\\Data\\gpcp_extent//gpcp_1dd_v1.2_p1d.20061123.tif"
       ]
      },
      {
       "output_type": "stream",
       "stream": "stdout",
       "text": [
        "\n",
        "D:\\Data\\gpcp_extent//gpcp_1dd_v1.2_p1d.20061124.tif"
       ]
      },
      {
       "output_type": "stream",
       "stream": "stdout",
       "text": [
        "\n",
        "D:\\Data\\gpcp_extent//gpcp_1dd_v1.2_p1d.20061125.tif"
       ]
      },
      {
       "output_type": "stream",
       "stream": "stdout",
       "text": [
        "\n",
        "D:\\Data\\gpcp_extent//gpcp_1dd_v1.2_p1d.20061126.tif"
       ]
      },
      {
       "output_type": "stream",
       "stream": "stdout",
       "text": [
        "\n",
        "D:\\Data\\gpcp_extent//gpcp_1dd_v1.2_p1d.20061127.tif"
       ]
      },
      {
       "output_type": "stream",
       "stream": "stdout",
       "text": [
        "\n",
        "D:\\Data\\gpcp_extent//gpcp_1dd_v1.2_p1d.20061128.tif"
       ]
      },
      {
       "output_type": "stream",
       "stream": "stdout",
       "text": [
        "\n",
        "D:\\Data\\gpcp_extent//gpcp_1dd_v1.2_p1d.20061129.tif"
       ]
      },
      {
       "output_type": "stream",
       "stream": "stdout",
       "text": [
        "\n",
        "D:\\Data\\gpcp_extent//gpcp_1dd_v1.2_p1d.20061200.tif"
       ]
      },
      {
       "output_type": "stream",
       "stream": "stdout",
       "text": [
        "\n",
        "D:\\Data\\gpcp_extent//gpcp_1dd_v1.2_p1d.20061201.tif"
       ]
      },
      {
       "output_type": "stream",
       "stream": "stdout",
       "text": [
        "\n",
        "D:\\Data\\gpcp_extent//gpcp_1dd_v1.2_p1d.20061202.tif"
       ]
      },
      {
       "output_type": "stream",
       "stream": "stdout",
       "text": [
        "\n",
        "D:\\Data\\gpcp_extent//gpcp_1dd_v1.2_p1d.20061203.tif"
       ]
      },
      {
       "output_type": "stream",
       "stream": "stdout",
       "text": [
        "\n",
        "D:\\Data\\gpcp_extent//gpcp_1dd_v1.2_p1d.20061204.tif"
       ]
      },
      {
       "output_type": "stream",
       "stream": "stdout",
       "text": [
        "\n",
        "D:\\Data\\gpcp_extent//gpcp_1dd_v1.2_p1d.20061205.tif"
       ]
      },
      {
       "output_type": "stream",
       "stream": "stdout",
       "text": [
        "\n",
        "D:\\Data\\gpcp_extent//gpcp_1dd_v1.2_p1d.20061206.tif"
       ]
      },
      {
       "output_type": "stream",
       "stream": "stdout",
       "text": [
        "\n",
        "D:\\Data\\gpcp_extent//gpcp_1dd_v1.2_p1d.20061207.tif"
       ]
      },
      {
       "output_type": "stream",
       "stream": "stdout",
       "text": [
        "\n",
        "D:\\Data\\gpcp_extent//gpcp_1dd_v1.2_p1d.20061208.tif"
       ]
      },
      {
       "output_type": "stream",
       "stream": "stdout",
       "text": [
        "\n",
        "D:\\Data\\gpcp_extent//gpcp_1dd_v1.2_p1d.20061209.tif"
       ]
      },
      {
       "output_type": "stream",
       "stream": "stdout",
       "text": [
        "\n",
        "D:\\Data\\gpcp_extent//gpcp_1dd_v1.2_p1d.20061210.tif"
       ]
      },
      {
       "output_type": "stream",
       "stream": "stdout",
       "text": [
        "\n",
        "D:\\Data\\gpcp_extent//gpcp_1dd_v1.2_p1d.20061211.tif"
       ]
      },
      {
       "output_type": "stream",
       "stream": "stdout",
       "text": [
        "\n",
        "D:\\Data\\gpcp_extent//gpcp_1dd_v1.2_p1d.20061212.tif"
       ]
      },
      {
       "output_type": "stream",
       "stream": "stdout",
       "text": [
        "\n",
        "D:\\Data\\gpcp_extent//gpcp_1dd_v1.2_p1d.20061213.tif"
       ]
      },
      {
       "output_type": "stream",
       "stream": "stdout",
       "text": [
        "\n",
        "D:\\Data\\gpcp_extent//gpcp_1dd_v1.2_p1d.20061214.tif"
       ]
      },
      {
       "output_type": "stream",
       "stream": "stdout",
       "text": [
        "\n",
        "D:\\Data\\gpcp_extent//gpcp_1dd_v1.2_p1d.20061215.tif"
       ]
      },
      {
       "output_type": "stream",
       "stream": "stdout",
       "text": [
        "\n",
        "D:\\Data\\gpcp_extent//gpcp_1dd_v1.2_p1d.20061216.tif"
       ]
      },
      {
       "output_type": "stream",
       "stream": "stdout",
       "text": [
        "\n",
        "D:\\Data\\gpcp_extent//gpcp_1dd_v1.2_p1d.20061217.tif"
       ]
      },
      {
       "output_type": "stream",
       "stream": "stdout",
       "text": [
        "\n",
        "D:\\Data\\gpcp_extent//gpcp_1dd_v1.2_p1d.20061218.tif"
       ]
      },
      {
       "output_type": "stream",
       "stream": "stdout",
       "text": [
        "\n",
        "D:\\Data\\gpcp_extent//gpcp_1dd_v1.2_p1d.20061219.tif"
       ]
      },
      {
       "output_type": "stream",
       "stream": "stdout",
       "text": [
        "\n",
        "D:\\Data\\gpcp_extent//gpcp_1dd_v1.2_p1d.20061220.tif"
       ]
      },
      {
       "output_type": "stream",
       "stream": "stdout",
       "text": [
        "\n",
        "D:\\Data\\gpcp_extent//gpcp_1dd_v1.2_p1d.20061221.tif"
       ]
      },
      {
       "output_type": "stream",
       "stream": "stdout",
       "text": [
        "\n",
        "D:\\Data\\gpcp_extent//gpcp_1dd_v1.2_p1d.20061222.tif"
       ]
      },
      {
       "output_type": "stream",
       "stream": "stdout",
       "text": [
        "\n",
        "D:\\Data\\gpcp_extent//gpcp_1dd_v1.2_p1d.20061223.tif"
       ]
      },
      {
       "output_type": "stream",
       "stream": "stdout",
       "text": [
        "\n",
        "D:\\Data\\gpcp_extent//gpcp_1dd_v1.2_p1d.20061224.tif"
       ]
      },
      {
       "output_type": "stream",
       "stream": "stdout",
       "text": [
        "\n",
        "D:\\Data\\gpcp_extent//gpcp_1dd_v1.2_p1d.20061225.tif"
       ]
      },
      {
       "output_type": "stream",
       "stream": "stdout",
       "text": [
        "\n",
        "D:\\Data\\gpcp_extent//gpcp_1dd_v1.2_p1d.20061226.tif"
       ]
      },
      {
       "output_type": "stream",
       "stream": "stdout",
       "text": [
        "\n",
        "D:\\Data\\gpcp_extent//gpcp_1dd_v1.2_p1d.20061227.tif"
       ]
      },
      {
       "output_type": "stream",
       "stream": "stdout",
       "text": [
        "\n",
        "D:\\Data\\gpcp_extent//gpcp_1dd_v1.2_p1d.20061228.tif"
       ]
      },
      {
       "output_type": "stream",
       "stream": "stdout",
       "text": [
        "\n",
        "D:\\Data\\gpcp_extent//gpcp_1dd_v1.2_p1d.20061229.tif"
       ]
      },
      {
       "output_type": "stream",
       "stream": "stdout",
       "text": [
        "\n",
        "D:\\Data\\gpcp_extent//gpcp_1dd_v1.2_p1d.20061230.tif"
       ]
      },
      {
       "output_type": "stream",
       "stream": "stdout",
       "text": [
        "\n",
        "D:\\Data\\gpcp_extent//gpcp_1dd_v1.2_p1d.20070100.tif"
       ]
      },
      {
       "output_type": "stream",
       "stream": "stdout",
       "text": [
        "\n",
        "D:\\Data\\gpcp_extent//gpcp_1dd_v1.2_p1d.20070101.tif"
       ]
      },
      {
       "output_type": "stream",
       "stream": "stdout",
       "text": [
        "\n",
        "D:\\Data\\gpcp_extent//gpcp_1dd_v1.2_p1d.20070102.tif"
       ]
      },
      {
       "output_type": "stream",
       "stream": "stdout",
       "text": [
        "\n",
        "D:\\Data\\gpcp_extent//gpcp_1dd_v1.2_p1d.20070103.tif"
       ]
      },
      {
       "output_type": "stream",
       "stream": "stdout",
       "text": [
        "\n",
        "D:\\Data\\gpcp_extent//gpcp_1dd_v1.2_p1d.20070104.tif"
       ]
      },
      {
       "output_type": "stream",
       "stream": "stdout",
       "text": [
        "\n",
        "D:\\Data\\gpcp_extent//gpcp_1dd_v1.2_p1d.20070105.tif"
       ]
      },
      {
       "output_type": "stream",
       "stream": "stdout",
       "text": [
        "\n",
        "D:\\Data\\gpcp_extent//gpcp_1dd_v1.2_p1d.20070106.tif"
       ]
      },
      {
       "output_type": "stream",
       "stream": "stdout",
       "text": [
        "\n",
        "D:\\Data\\gpcp_extent//gpcp_1dd_v1.2_p1d.20070107.tif"
       ]
      },
      {
       "output_type": "stream",
       "stream": "stdout",
       "text": [
        "\n",
        "D:\\Data\\gpcp_extent//gpcp_1dd_v1.2_p1d.20070108.tif"
       ]
      },
      {
       "output_type": "stream",
       "stream": "stdout",
       "text": [
        "\n",
        "D:\\Data\\gpcp_extent//gpcp_1dd_v1.2_p1d.20070109.tif"
       ]
      },
      {
       "output_type": "stream",
       "stream": "stdout",
       "text": [
        "\n",
        "D:\\Data\\gpcp_extent//gpcp_1dd_v1.2_p1d.20070110.tif"
       ]
      },
      {
       "output_type": "stream",
       "stream": "stdout",
       "text": [
        "\n",
        "D:\\Data\\gpcp_extent//gpcp_1dd_v1.2_p1d.20070111.tif"
       ]
      },
      {
       "output_type": "stream",
       "stream": "stdout",
       "text": [
        "\n",
        "D:\\Data\\gpcp_extent//gpcp_1dd_v1.2_p1d.20070112.tif"
       ]
      },
      {
       "output_type": "stream",
       "stream": "stdout",
       "text": [
        "\n",
        "D:\\Data\\gpcp_extent//gpcp_1dd_v1.2_p1d.20070113.tif"
       ]
      },
      {
       "output_type": "stream",
       "stream": "stdout",
       "text": [
        "\n",
        "D:\\Data\\gpcp_extent//gpcp_1dd_v1.2_p1d.20070114.tif"
       ]
      },
      {
       "output_type": "stream",
       "stream": "stdout",
       "text": [
        "\n",
        "D:\\Data\\gpcp_extent//gpcp_1dd_v1.2_p1d.20070115.tif"
       ]
      },
      {
       "output_type": "stream",
       "stream": "stdout",
       "text": [
        "\n",
        "D:\\Data\\gpcp_extent//gpcp_1dd_v1.2_p1d.20070116.tif"
       ]
      },
      {
       "output_type": "stream",
       "stream": "stdout",
       "text": [
        "\n",
        "D:\\Data\\gpcp_extent//gpcp_1dd_v1.2_p1d.20070117.tif"
       ]
      },
      {
       "output_type": "stream",
       "stream": "stdout",
       "text": [
        "\n",
        "D:\\Data\\gpcp_extent//gpcp_1dd_v1.2_p1d.20070118.tif"
       ]
      },
      {
       "output_type": "stream",
       "stream": "stdout",
       "text": [
        "\n",
        "D:\\Data\\gpcp_extent//gpcp_1dd_v1.2_p1d.20070119.tif"
       ]
      },
      {
       "output_type": "stream",
       "stream": "stdout",
       "text": [
        "\n",
        "D:\\Data\\gpcp_extent//gpcp_1dd_v1.2_p1d.20070120.tif"
       ]
      },
      {
       "output_type": "stream",
       "stream": "stdout",
       "text": [
        "\n",
        "D:\\Data\\gpcp_extent//gpcp_1dd_v1.2_p1d.20070121.tif"
       ]
      },
      {
       "output_type": "stream",
       "stream": "stdout",
       "text": [
        "\n",
        "D:\\Data\\gpcp_extent//gpcp_1dd_v1.2_p1d.20070122.tif"
       ]
      },
      {
       "output_type": "stream",
       "stream": "stdout",
       "text": [
        "\n",
        "D:\\Data\\gpcp_extent//gpcp_1dd_v1.2_p1d.20070123.tif"
       ]
      },
      {
       "output_type": "stream",
       "stream": "stdout",
       "text": [
        "\n",
        "D:\\Data\\gpcp_extent//gpcp_1dd_v1.2_p1d.20070124.tif"
       ]
      },
      {
       "output_type": "stream",
       "stream": "stdout",
       "text": [
        "\n",
        "D:\\Data\\gpcp_extent//gpcp_1dd_v1.2_p1d.20070125.tif"
       ]
      },
      {
       "output_type": "stream",
       "stream": "stdout",
       "text": [
        "\n",
        "D:\\Data\\gpcp_extent//gpcp_1dd_v1.2_p1d.20070126.tif"
       ]
      },
      {
       "output_type": "stream",
       "stream": "stdout",
       "text": [
        "\n",
        "D:\\Data\\gpcp_extent//gpcp_1dd_v1.2_p1d.20070127.tif"
       ]
      },
      {
       "output_type": "stream",
       "stream": "stdout",
       "text": [
        "\n",
        "D:\\Data\\gpcp_extent//gpcp_1dd_v1.2_p1d.20070128.tif"
       ]
      },
      {
       "output_type": "stream",
       "stream": "stdout",
       "text": [
        "\n",
        "D:\\Data\\gpcp_extent//gpcp_1dd_v1.2_p1d.20070129.tif"
       ]
      },
      {
       "output_type": "stream",
       "stream": "stdout",
       "text": [
        "\n",
        "D:\\Data\\gpcp_extent//gpcp_1dd_v1.2_p1d.20070130.tif"
       ]
      },
      {
       "output_type": "stream",
       "stream": "stdout",
       "text": [
        "\n",
        "D:\\Data\\gpcp_extent//gpcp_1dd_v1.2_p1d.20070200.tif"
       ]
      },
      {
       "output_type": "stream",
       "stream": "stdout",
       "text": [
        "\n",
        "D:\\Data\\gpcp_extent//gpcp_1dd_v1.2_p1d.20070201.tif"
       ]
      },
      {
       "output_type": "stream",
       "stream": "stdout",
       "text": [
        "\n",
        "D:\\Data\\gpcp_extent//gpcp_1dd_v1.2_p1d.20070202.tif"
       ]
      },
      {
       "output_type": "stream",
       "stream": "stdout",
       "text": [
        "\n",
        "D:\\Data\\gpcp_extent//gpcp_1dd_v1.2_p1d.20070203.tif"
       ]
      },
      {
       "output_type": "stream",
       "stream": "stdout",
       "text": [
        "\n",
        "D:\\Data\\gpcp_extent//gpcp_1dd_v1.2_p1d.20070204.tif"
       ]
      },
      {
       "output_type": "stream",
       "stream": "stdout",
       "text": [
        "\n",
        "D:\\Data\\gpcp_extent//gpcp_1dd_v1.2_p1d.20070205.tif"
       ]
      },
      {
       "output_type": "stream",
       "stream": "stdout",
       "text": [
        "\n",
        "D:\\Data\\gpcp_extent//gpcp_1dd_v1.2_p1d.20070206.tif"
       ]
      },
      {
       "output_type": "stream",
       "stream": "stdout",
       "text": [
        "\n",
        "D:\\Data\\gpcp_extent//gpcp_1dd_v1.2_p1d.20070207.tif"
       ]
      },
      {
       "output_type": "stream",
       "stream": "stdout",
       "text": [
        "\n",
        "D:\\Data\\gpcp_extent//gpcp_1dd_v1.2_p1d.20070208.tif"
       ]
      },
      {
       "output_type": "stream",
       "stream": "stdout",
       "text": [
        "\n",
        "D:\\Data\\gpcp_extent//gpcp_1dd_v1.2_p1d.20070209.tif"
       ]
      },
      {
       "output_type": "stream",
       "stream": "stdout",
       "text": [
        "\n",
        "D:\\Data\\gpcp_extent//gpcp_1dd_v1.2_p1d.20070210.tif"
       ]
      },
      {
       "output_type": "stream",
       "stream": "stdout",
       "text": [
        "\n",
        "D:\\Data\\gpcp_extent//gpcp_1dd_v1.2_p1d.20070211.tif"
       ]
      },
      {
       "output_type": "stream",
       "stream": "stdout",
       "text": [
        "\n",
        "D:\\Data\\gpcp_extent//gpcp_1dd_v1.2_p1d.20070212.tif"
       ]
      },
      {
       "output_type": "stream",
       "stream": "stdout",
       "text": [
        "\n",
        "D:\\Data\\gpcp_extent//gpcp_1dd_v1.2_p1d.20070213.tif"
       ]
      },
      {
       "output_type": "stream",
       "stream": "stdout",
       "text": [
        "\n",
        "D:\\Data\\gpcp_extent//gpcp_1dd_v1.2_p1d.20070214.tif"
       ]
      },
      {
       "output_type": "stream",
       "stream": "stdout",
       "text": [
        "\n",
        "D:\\Data\\gpcp_extent//gpcp_1dd_v1.2_p1d.20070215.tif"
       ]
      },
      {
       "output_type": "stream",
       "stream": "stdout",
       "text": [
        "\n",
        "D:\\Data\\gpcp_extent//gpcp_1dd_v1.2_p1d.20070216.tif"
       ]
      },
      {
       "output_type": "stream",
       "stream": "stdout",
       "text": [
        "\n",
        "D:\\Data\\gpcp_extent//gpcp_1dd_v1.2_p1d.20070217.tif"
       ]
      },
      {
       "output_type": "stream",
       "stream": "stdout",
       "text": [
        "\n",
        "D:\\Data\\gpcp_extent//gpcp_1dd_v1.2_p1d.20070218.tif"
       ]
      },
      {
       "output_type": "stream",
       "stream": "stdout",
       "text": [
        "\n",
        "D:\\Data\\gpcp_extent//gpcp_1dd_v1.2_p1d.20070219.tif"
       ]
      },
      {
       "output_type": "stream",
       "stream": "stdout",
       "text": [
        "\n",
        "D:\\Data\\gpcp_extent//gpcp_1dd_v1.2_p1d.20070220.tif"
       ]
      },
      {
       "output_type": "stream",
       "stream": "stdout",
       "text": [
        "\n",
        "D:\\Data\\gpcp_extent//gpcp_1dd_v1.2_p1d.20070221.tif"
       ]
      },
      {
       "output_type": "stream",
       "stream": "stdout",
       "text": [
        "\n",
        "D:\\Data\\gpcp_extent//gpcp_1dd_v1.2_p1d.20070222.tif"
       ]
      },
      {
       "output_type": "stream",
       "stream": "stdout",
       "text": [
        "\n",
        "D:\\Data\\gpcp_extent//gpcp_1dd_v1.2_p1d.20070223.tif"
       ]
      },
      {
       "output_type": "stream",
       "stream": "stdout",
       "text": [
        "\n",
        "D:\\Data\\gpcp_extent//gpcp_1dd_v1.2_p1d.20070224.tif"
       ]
      },
      {
       "output_type": "stream",
       "stream": "stdout",
       "text": [
        "\n",
        "D:\\Data\\gpcp_extent//gpcp_1dd_v1.2_p1d.20070225.tif"
       ]
      },
      {
       "output_type": "stream",
       "stream": "stdout",
       "text": [
        "\n",
        "D:\\Data\\gpcp_extent//gpcp_1dd_v1.2_p1d.20070226.tif"
       ]
      },
      {
       "output_type": "stream",
       "stream": "stdout",
       "text": [
        "\n",
        "D:\\Data\\gpcp_extent//gpcp_1dd_v1.2_p1d.20070227.tif"
       ]
      },
      {
       "output_type": "stream",
       "stream": "stdout",
       "text": [
        "\n",
        "D:\\Data\\gpcp_extent//gpcp_1dd_v1.2_p1d.20070300.tif"
       ]
      },
      {
       "output_type": "stream",
       "stream": "stdout",
       "text": [
        "\n",
        "D:\\Data\\gpcp_extent//gpcp_1dd_v1.2_p1d.20070301.tif"
       ]
      },
      {
       "output_type": "stream",
       "stream": "stdout",
       "text": [
        "\n",
        "D:\\Data\\gpcp_extent//gpcp_1dd_v1.2_p1d.20070302.tif"
       ]
      },
      {
       "output_type": "stream",
       "stream": "stdout",
       "text": [
        "\n",
        "D:\\Data\\gpcp_extent//gpcp_1dd_v1.2_p1d.20070303.tif"
       ]
      },
      {
       "output_type": "stream",
       "stream": "stdout",
       "text": [
        "\n",
        "D:\\Data\\gpcp_extent//gpcp_1dd_v1.2_p1d.20070304.tif"
       ]
      },
      {
       "output_type": "stream",
       "stream": "stdout",
       "text": [
        "\n",
        "D:\\Data\\gpcp_extent//gpcp_1dd_v1.2_p1d.20070305.tif"
       ]
      },
      {
       "output_type": "stream",
       "stream": "stdout",
       "text": [
        "\n",
        "D:\\Data\\gpcp_extent//gpcp_1dd_v1.2_p1d.20070306.tif"
       ]
      },
      {
       "output_type": "stream",
       "stream": "stdout",
       "text": [
        "\n",
        "D:\\Data\\gpcp_extent//gpcp_1dd_v1.2_p1d.20070307.tif"
       ]
      },
      {
       "output_type": "stream",
       "stream": "stdout",
       "text": [
        "\n",
        "D:\\Data\\gpcp_extent//gpcp_1dd_v1.2_p1d.20070308.tif"
       ]
      },
      {
       "output_type": "stream",
       "stream": "stdout",
       "text": [
        "\n",
        "D:\\Data\\gpcp_extent//gpcp_1dd_v1.2_p1d.20070309.tif"
       ]
      },
      {
       "output_type": "stream",
       "stream": "stdout",
       "text": [
        "\n",
        "D:\\Data\\gpcp_extent//gpcp_1dd_v1.2_p1d.20070310.tif"
       ]
      },
      {
       "output_type": "stream",
       "stream": "stdout",
       "text": [
        "\n",
        "D:\\Data\\gpcp_extent//gpcp_1dd_v1.2_p1d.20070311.tif"
       ]
      },
      {
       "output_type": "stream",
       "stream": "stdout",
       "text": [
        "\n",
        "D:\\Data\\gpcp_extent//gpcp_1dd_v1.2_p1d.20070312.tif"
       ]
      },
      {
       "output_type": "stream",
       "stream": "stdout",
       "text": [
        "\n",
        "D:\\Data\\gpcp_extent//gpcp_1dd_v1.2_p1d.20070313.tif"
       ]
      },
      {
       "output_type": "stream",
       "stream": "stdout",
       "text": [
        "\n",
        "D:\\Data\\gpcp_extent//gpcp_1dd_v1.2_p1d.20070314.tif"
       ]
      },
      {
       "output_type": "stream",
       "stream": "stdout",
       "text": [
        "\n",
        "D:\\Data\\gpcp_extent//gpcp_1dd_v1.2_p1d.20070315.tif"
       ]
      },
      {
       "output_type": "stream",
       "stream": "stdout",
       "text": [
        "\n",
        "D:\\Data\\gpcp_extent//gpcp_1dd_v1.2_p1d.20070316.tif"
       ]
      },
      {
       "output_type": "stream",
       "stream": "stdout",
       "text": [
        "\n",
        "D:\\Data\\gpcp_extent//gpcp_1dd_v1.2_p1d.20070317.tif"
       ]
      },
      {
       "output_type": "stream",
       "stream": "stdout",
       "text": [
        "\n",
        "D:\\Data\\gpcp_extent//gpcp_1dd_v1.2_p1d.20070318.tif"
       ]
      },
      {
       "output_type": "stream",
       "stream": "stdout",
       "text": [
        "\n",
        "D:\\Data\\gpcp_extent//gpcp_1dd_v1.2_p1d.20070319.tif"
       ]
      },
      {
       "output_type": "stream",
       "stream": "stdout",
       "text": [
        "\n",
        "D:\\Data\\gpcp_extent//gpcp_1dd_v1.2_p1d.20070320.tif"
       ]
      },
      {
       "output_type": "stream",
       "stream": "stdout",
       "text": [
        "\n",
        "D:\\Data\\gpcp_extent//gpcp_1dd_v1.2_p1d.20070321.tif"
       ]
      },
      {
       "output_type": "stream",
       "stream": "stdout",
       "text": [
        "\n",
        "D:\\Data\\gpcp_extent//gpcp_1dd_v1.2_p1d.20070322.tif"
       ]
      },
      {
       "output_type": "stream",
       "stream": "stdout",
       "text": [
        "\n",
        "D:\\Data\\gpcp_extent//gpcp_1dd_v1.2_p1d.20070323.tif"
       ]
      },
      {
       "output_type": "stream",
       "stream": "stdout",
       "text": [
        "\n",
        "D:\\Data\\gpcp_extent//gpcp_1dd_v1.2_p1d.20070324.tif"
       ]
      },
      {
       "output_type": "stream",
       "stream": "stdout",
       "text": [
        "\n",
        "D:\\Data\\gpcp_extent//gpcp_1dd_v1.2_p1d.20070325.tif"
       ]
      },
      {
       "output_type": "stream",
       "stream": "stdout",
       "text": [
        "\n",
        "D:\\Data\\gpcp_extent//gpcp_1dd_v1.2_p1d.20070326.tif"
       ]
      },
      {
       "output_type": "stream",
       "stream": "stdout",
       "text": [
        "\n",
        "D:\\Data\\gpcp_extent//gpcp_1dd_v1.2_p1d.20070327.tif"
       ]
      },
      {
       "output_type": "stream",
       "stream": "stdout",
       "text": [
        "\n",
        "D:\\Data\\gpcp_extent//gpcp_1dd_v1.2_p1d.20070328.tif"
       ]
      },
      {
       "output_type": "stream",
       "stream": "stdout",
       "text": [
        "\n",
        "D:\\Data\\gpcp_extent//gpcp_1dd_v1.2_p1d.20070329.tif"
       ]
      },
      {
       "output_type": "stream",
       "stream": "stdout",
       "text": [
        "\n",
        "D:\\Data\\gpcp_extent//gpcp_1dd_v1.2_p1d.20070330.tif"
       ]
      },
      {
       "output_type": "stream",
       "stream": "stdout",
       "text": [
        "\n",
        "D:\\Data\\gpcp_extent//gpcp_1dd_v1.2_p1d.20070400.tif"
       ]
      },
      {
       "output_type": "stream",
       "stream": "stdout",
       "text": [
        "\n",
        "D:\\Data\\gpcp_extent//gpcp_1dd_v1.2_p1d.20070401.tif"
       ]
      },
      {
       "output_type": "stream",
       "stream": "stdout",
       "text": [
        "\n",
        "D:\\Data\\gpcp_extent//gpcp_1dd_v1.2_p1d.20070402.tif"
       ]
      },
      {
       "output_type": "stream",
       "stream": "stdout",
       "text": [
        "\n",
        "D:\\Data\\gpcp_extent//gpcp_1dd_v1.2_p1d.20070403.tif"
       ]
      },
      {
       "output_type": "stream",
       "stream": "stdout",
       "text": [
        "\n",
        "D:\\Data\\gpcp_extent//gpcp_1dd_v1.2_p1d.20070404.tif"
       ]
      },
      {
       "output_type": "stream",
       "stream": "stdout",
       "text": [
        "\n",
        "D:\\Data\\gpcp_extent//gpcp_1dd_v1.2_p1d.20070405.tif"
       ]
      },
      {
       "output_type": "stream",
       "stream": "stdout",
       "text": [
        "\n",
        "D:\\Data\\gpcp_extent//gpcp_1dd_v1.2_p1d.20070406.tif"
       ]
      },
      {
       "output_type": "stream",
       "stream": "stdout",
       "text": [
        "\n",
        "D:\\Data\\gpcp_extent//gpcp_1dd_v1.2_p1d.20070407.tif"
       ]
      },
      {
       "output_type": "stream",
       "stream": "stdout",
       "text": [
        "\n",
        "D:\\Data\\gpcp_extent//gpcp_1dd_v1.2_p1d.20070408.tif"
       ]
      },
      {
       "output_type": "stream",
       "stream": "stdout",
       "text": [
        "\n",
        "D:\\Data\\gpcp_extent//gpcp_1dd_v1.2_p1d.20070409.tif"
       ]
      },
      {
       "output_type": "stream",
       "stream": "stdout",
       "text": [
        "\n",
        "D:\\Data\\gpcp_extent//gpcp_1dd_v1.2_p1d.20070410.tif"
       ]
      },
      {
       "output_type": "stream",
       "stream": "stdout",
       "text": [
        "\n",
        "D:\\Data\\gpcp_extent//gpcp_1dd_v1.2_p1d.20070411.tif"
       ]
      },
      {
       "output_type": "stream",
       "stream": "stdout",
       "text": [
        "\n",
        "D:\\Data\\gpcp_extent//gpcp_1dd_v1.2_p1d.20070412.tif"
       ]
      },
      {
       "output_type": "stream",
       "stream": "stdout",
       "text": [
        "\n",
        "D:\\Data\\gpcp_extent//gpcp_1dd_v1.2_p1d.20070413.tif"
       ]
      },
      {
       "output_type": "stream",
       "stream": "stdout",
       "text": [
        "\n",
        "D:\\Data\\gpcp_extent//gpcp_1dd_v1.2_p1d.20070414.tif"
       ]
      },
      {
       "output_type": "stream",
       "stream": "stdout",
       "text": [
        "\n",
        "D:\\Data\\gpcp_extent//gpcp_1dd_v1.2_p1d.20070415.tif"
       ]
      },
      {
       "output_type": "stream",
       "stream": "stdout",
       "text": [
        "\n",
        "D:\\Data\\gpcp_extent//gpcp_1dd_v1.2_p1d.20070416.tif"
       ]
      },
      {
       "output_type": "stream",
       "stream": "stdout",
       "text": [
        "\n",
        "D:\\Data\\gpcp_extent//gpcp_1dd_v1.2_p1d.20070417.tif"
       ]
      },
      {
       "output_type": "stream",
       "stream": "stdout",
       "text": [
        "\n",
        "D:\\Data\\gpcp_extent//gpcp_1dd_v1.2_p1d.20070418.tif"
       ]
      },
      {
       "output_type": "stream",
       "stream": "stdout",
       "text": [
        "\n",
        "D:\\Data\\gpcp_extent//gpcp_1dd_v1.2_p1d.20070419.tif"
       ]
      },
      {
       "output_type": "stream",
       "stream": "stdout",
       "text": [
        "\n",
        "D:\\Data\\gpcp_extent//gpcp_1dd_v1.2_p1d.20070420.tif"
       ]
      },
      {
       "output_type": "stream",
       "stream": "stdout",
       "text": [
        "\n",
        "D:\\Data\\gpcp_extent//gpcp_1dd_v1.2_p1d.20070421.tif"
       ]
      },
      {
       "output_type": "stream",
       "stream": "stdout",
       "text": [
        "\n",
        "D:\\Data\\gpcp_extent//gpcp_1dd_v1.2_p1d.20070422.tif"
       ]
      },
      {
       "output_type": "stream",
       "stream": "stdout",
       "text": [
        "\n",
        "D:\\Data\\gpcp_extent//gpcp_1dd_v1.2_p1d.20070423.tif"
       ]
      },
      {
       "output_type": "stream",
       "stream": "stdout",
       "text": [
        "\n",
        "D:\\Data\\gpcp_extent//gpcp_1dd_v1.2_p1d.20070424.tif"
       ]
      },
      {
       "output_type": "stream",
       "stream": "stdout",
       "text": [
        "\n",
        "D:\\Data\\gpcp_extent//gpcp_1dd_v1.2_p1d.20070425.tif"
       ]
      },
      {
       "output_type": "stream",
       "stream": "stdout",
       "text": [
        "\n",
        "D:\\Data\\gpcp_extent//gpcp_1dd_v1.2_p1d.20070426.tif"
       ]
      },
      {
       "output_type": "stream",
       "stream": "stdout",
       "text": [
        "\n",
        "D:\\Data\\gpcp_extent//gpcp_1dd_v1.2_p1d.20070427.tif"
       ]
      },
      {
       "output_type": "stream",
       "stream": "stdout",
       "text": [
        "\n",
        "D:\\Data\\gpcp_extent//gpcp_1dd_v1.2_p1d.20070428.tif"
       ]
      },
      {
       "output_type": "stream",
       "stream": "stdout",
       "text": [
        "\n",
        "D:\\Data\\gpcp_extent//gpcp_1dd_v1.2_p1d.20070429.tif"
       ]
      },
      {
       "output_type": "stream",
       "stream": "stdout",
       "text": [
        "\n",
        "D:\\Data\\gpcp_extent//gpcp_1dd_v1.2_p1d.20070500.tif"
       ]
      },
      {
       "output_type": "stream",
       "stream": "stdout",
       "text": [
        "\n",
        "D:\\Data\\gpcp_extent//gpcp_1dd_v1.2_p1d.20070501.tif"
       ]
      },
      {
       "output_type": "stream",
       "stream": "stdout",
       "text": [
        "\n",
        "D:\\Data\\gpcp_extent//gpcp_1dd_v1.2_p1d.20070502.tif"
       ]
      },
      {
       "output_type": "stream",
       "stream": "stdout",
       "text": [
        "\n",
        "D:\\Data\\gpcp_extent//gpcp_1dd_v1.2_p1d.20070503.tif"
       ]
      },
      {
       "output_type": "stream",
       "stream": "stdout",
       "text": [
        "\n",
        "D:\\Data\\gpcp_extent//gpcp_1dd_v1.2_p1d.20070504.tif"
       ]
      },
      {
       "output_type": "stream",
       "stream": "stdout",
       "text": [
        "\n",
        "D:\\Data\\gpcp_extent//gpcp_1dd_v1.2_p1d.20070505.tif"
       ]
      },
      {
       "output_type": "stream",
       "stream": "stdout",
       "text": [
        "\n",
        "D:\\Data\\gpcp_extent//gpcp_1dd_v1.2_p1d.20070506.tif"
       ]
      },
      {
       "output_type": "stream",
       "stream": "stdout",
       "text": [
        "\n",
        "D:\\Data\\gpcp_extent//gpcp_1dd_v1.2_p1d.20070507.tif"
       ]
      },
      {
       "output_type": "stream",
       "stream": "stdout",
       "text": [
        "\n",
        "D:\\Data\\gpcp_extent//gpcp_1dd_v1.2_p1d.20070508.tif"
       ]
      },
      {
       "output_type": "stream",
       "stream": "stdout",
       "text": [
        "\n",
        "D:\\Data\\gpcp_extent//gpcp_1dd_v1.2_p1d.20070509.tif"
       ]
      },
      {
       "output_type": "stream",
       "stream": "stdout",
       "text": [
        "\n",
        "D:\\Data\\gpcp_extent//gpcp_1dd_v1.2_p1d.20070510.tif"
       ]
      },
      {
       "output_type": "stream",
       "stream": "stdout",
       "text": [
        "\n",
        "D:\\Data\\gpcp_extent//gpcp_1dd_v1.2_p1d.20070511.tif"
       ]
      },
      {
       "output_type": "stream",
       "stream": "stdout",
       "text": [
        "\n",
        "D:\\Data\\gpcp_extent//gpcp_1dd_v1.2_p1d.20070512.tif"
       ]
      },
      {
       "output_type": "stream",
       "stream": "stdout",
       "text": [
        "\n",
        "D:\\Data\\gpcp_extent//gpcp_1dd_v1.2_p1d.20070513.tif"
       ]
      },
      {
       "output_type": "stream",
       "stream": "stdout",
       "text": [
        "\n",
        "D:\\Data\\gpcp_extent//gpcp_1dd_v1.2_p1d.20070514.tif"
       ]
      },
      {
       "output_type": "stream",
       "stream": "stdout",
       "text": [
        "\n",
        "D:\\Data\\gpcp_extent//gpcp_1dd_v1.2_p1d.20070515.tif"
       ]
      },
      {
       "output_type": "stream",
       "stream": "stdout",
       "text": [
        "\n",
        "D:\\Data\\gpcp_extent//gpcp_1dd_v1.2_p1d.20070516.tif"
       ]
      },
      {
       "output_type": "stream",
       "stream": "stdout",
       "text": [
        "\n",
        "D:\\Data\\gpcp_extent//gpcp_1dd_v1.2_p1d.20070517.tif"
       ]
      },
      {
       "output_type": "stream",
       "stream": "stdout",
       "text": [
        "\n",
        "D:\\Data\\gpcp_extent//gpcp_1dd_v1.2_p1d.20070518.tif"
       ]
      },
      {
       "output_type": "stream",
       "stream": "stdout",
       "text": [
        "\n",
        "D:\\Data\\gpcp_extent//gpcp_1dd_v1.2_p1d.20070519.tif"
       ]
      },
      {
       "output_type": "stream",
       "stream": "stdout",
       "text": [
        "\n",
        "D:\\Data\\gpcp_extent//gpcp_1dd_v1.2_p1d.20070520.tif"
       ]
      },
      {
       "output_type": "stream",
       "stream": "stdout",
       "text": [
        "\n",
        "D:\\Data\\gpcp_extent//gpcp_1dd_v1.2_p1d.20070521.tif"
       ]
      },
      {
       "output_type": "stream",
       "stream": "stdout",
       "text": [
        "\n",
        "D:\\Data\\gpcp_extent//gpcp_1dd_v1.2_p1d.20070522.tif"
       ]
      },
      {
       "output_type": "stream",
       "stream": "stdout",
       "text": [
        "\n",
        "D:\\Data\\gpcp_extent//gpcp_1dd_v1.2_p1d.20070523.tif"
       ]
      },
      {
       "output_type": "stream",
       "stream": "stdout",
       "text": [
        "\n",
        "D:\\Data\\gpcp_extent//gpcp_1dd_v1.2_p1d.20070524.tif"
       ]
      },
      {
       "output_type": "stream",
       "stream": "stdout",
       "text": [
        "\n",
        "D:\\Data\\gpcp_extent//gpcp_1dd_v1.2_p1d.20070525.tif"
       ]
      },
      {
       "output_type": "stream",
       "stream": "stdout",
       "text": [
        "\n",
        "D:\\Data\\gpcp_extent//gpcp_1dd_v1.2_p1d.20070526.tif"
       ]
      },
      {
       "output_type": "stream",
       "stream": "stdout",
       "text": [
        "\n",
        "D:\\Data\\gpcp_extent//gpcp_1dd_v1.2_p1d.20070527.tif"
       ]
      },
      {
       "output_type": "stream",
       "stream": "stdout",
       "text": [
        "\n",
        "D:\\Data\\gpcp_extent//gpcp_1dd_v1.2_p1d.20070528.tif"
       ]
      },
      {
       "output_type": "stream",
       "stream": "stdout",
       "text": [
        "\n",
        "D:\\Data\\gpcp_extent//gpcp_1dd_v1.2_p1d.20070529.tif"
       ]
      },
      {
       "output_type": "stream",
       "stream": "stdout",
       "text": [
        "\n",
        "D:\\Data\\gpcp_extent//gpcp_1dd_v1.2_p1d.20070530.tif"
       ]
      },
      {
       "output_type": "stream",
       "stream": "stdout",
       "text": [
        "\n",
        "D:\\Data\\gpcp_extent//gpcp_1dd_v1.2_p1d.20070600.tif"
       ]
      },
      {
       "output_type": "stream",
       "stream": "stdout",
       "text": [
        "\n",
        "D:\\Data\\gpcp_extent//gpcp_1dd_v1.2_p1d.20070601.tif"
       ]
      },
      {
       "output_type": "stream",
       "stream": "stdout",
       "text": [
        "\n",
        "D:\\Data\\gpcp_extent//gpcp_1dd_v1.2_p1d.20070602.tif"
       ]
      },
      {
       "output_type": "stream",
       "stream": "stdout",
       "text": [
        "\n",
        "D:\\Data\\gpcp_extent//gpcp_1dd_v1.2_p1d.20070603.tif"
       ]
      },
      {
       "output_type": "stream",
       "stream": "stdout",
       "text": [
        "\n",
        "D:\\Data\\gpcp_extent//gpcp_1dd_v1.2_p1d.20070604.tif"
       ]
      },
      {
       "output_type": "stream",
       "stream": "stdout",
       "text": [
        "\n",
        "D:\\Data\\gpcp_extent//gpcp_1dd_v1.2_p1d.20070605.tif"
       ]
      },
      {
       "output_type": "stream",
       "stream": "stdout",
       "text": [
        "\n",
        "D:\\Data\\gpcp_extent//gpcp_1dd_v1.2_p1d.20070606.tif"
       ]
      },
      {
       "output_type": "stream",
       "stream": "stdout",
       "text": [
        "\n",
        "D:\\Data\\gpcp_extent//gpcp_1dd_v1.2_p1d.20070607.tif"
       ]
      },
      {
       "output_type": "stream",
       "stream": "stdout",
       "text": [
        "\n",
        "D:\\Data\\gpcp_extent//gpcp_1dd_v1.2_p1d.20070608.tif"
       ]
      },
      {
       "output_type": "stream",
       "stream": "stdout",
       "text": [
        "\n",
        "D:\\Data\\gpcp_extent//gpcp_1dd_v1.2_p1d.20070609.tif"
       ]
      },
      {
       "output_type": "stream",
       "stream": "stdout",
       "text": [
        "\n",
        "D:\\Data\\gpcp_extent//gpcp_1dd_v1.2_p1d.20070610.tif"
       ]
      },
      {
       "output_type": "stream",
       "stream": "stdout",
       "text": [
        "\n",
        "D:\\Data\\gpcp_extent//gpcp_1dd_v1.2_p1d.20070611.tif"
       ]
      },
      {
       "output_type": "stream",
       "stream": "stdout",
       "text": [
        "\n",
        "D:\\Data\\gpcp_extent//gpcp_1dd_v1.2_p1d.20070612.tif"
       ]
      },
      {
       "output_type": "stream",
       "stream": "stdout",
       "text": [
        "\n",
        "D:\\Data\\gpcp_extent//gpcp_1dd_v1.2_p1d.20070613.tif"
       ]
      },
      {
       "output_type": "stream",
       "stream": "stdout",
       "text": [
        "\n",
        "D:\\Data\\gpcp_extent//gpcp_1dd_v1.2_p1d.20070614.tif"
       ]
      },
      {
       "output_type": "stream",
       "stream": "stdout",
       "text": [
        "\n",
        "D:\\Data\\gpcp_extent//gpcp_1dd_v1.2_p1d.20070615.tif"
       ]
      },
      {
       "output_type": "stream",
       "stream": "stdout",
       "text": [
        "\n",
        "D:\\Data\\gpcp_extent//gpcp_1dd_v1.2_p1d.20070616.tif"
       ]
      },
      {
       "output_type": "stream",
       "stream": "stdout",
       "text": [
        "\n",
        "D:\\Data\\gpcp_extent//gpcp_1dd_v1.2_p1d.20070617.tif"
       ]
      },
      {
       "output_type": "stream",
       "stream": "stdout",
       "text": [
        "\n",
        "D:\\Data\\gpcp_extent//gpcp_1dd_v1.2_p1d.20070618.tif"
       ]
      },
      {
       "output_type": "stream",
       "stream": "stdout",
       "text": [
        "\n",
        "D:\\Data\\gpcp_extent//gpcp_1dd_v1.2_p1d.20070619.tif"
       ]
      },
      {
       "output_type": "stream",
       "stream": "stdout",
       "text": [
        "\n",
        "D:\\Data\\gpcp_extent//gpcp_1dd_v1.2_p1d.20070620.tif"
       ]
      },
      {
       "output_type": "stream",
       "stream": "stdout",
       "text": [
        "\n",
        "D:\\Data\\gpcp_extent//gpcp_1dd_v1.2_p1d.20070621.tif"
       ]
      },
      {
       "output_type": "stream",
       "stream": "stdout",
       "text": [
        "\n",
        "D:\\Data\\gpcp_extent//gpcp_1dd_v1.2_p1d.20070622.tif"
       ]
      },
      {
       "output_type": "stream",
       "stream": "stdout",
       "text": [
        "\n",
        "D:\\Data\\gpcp_extent//gpcp_1dd_v1.2_p1d.20070623.tif"
       ]
      },
      {
       "output_type": "stream",
       "stream": "stdout",
       "text": [
        "\n",
        "D:\\Data\\gpcp_extent//gpcp_1dd_v1.2_p1d.20070624.tif"
       ]
      },
      {
       "output_type": "stream",
       "stream": "stdout",
       "text": [
        "\n",
        "D:\\Data\\gpcp_extent//gpcp_1dd_v1.2_p1d.20070625.tif"
       ]
      },
      {
       "output_type": "stream",
       "stream": "stdout",
       "text": [
        "\n",
        "D:\\Data\\gpcp_extent//gpcp_1dd_v1.2_p1d.20070626.tif"
       ]
      },
      {
       "output_type": "stream",
       "stream": "stdout",
       "text": [
        "\n",
        "D:\\Data\\gpcp_extent//gpcp_1dd_v1.2_p1d.20070627.tif"
       ]
      },
      {
       "output_type": "stream",
       "stream": "stdout",
       "text": [
        "\n",
        "D:\\Data\\gpcp_extent//gpcp_1dd_v1.2_p1d.20070628.tif"
       ]
      },
      {
       "output_type": "stream",
       "stream": "stdout",
       "text": [
        "\n",
        "D:\\Data\\gpcp_extent//gpcp_1dd_v1.2_p1d.20070629.tif"
       ]
      },
      {
       "output_type": "stream",
       "stream": "stdout",
       "text": [
        "\n",
        "D:\\Data\\gpcp_extent//gpcp_1dd_v1.2_p1d.20070700.tif"
       ]
      },
      {
       "output_type": "stream",
       "stream": "stdout",
       "text": [
        "\n",
        "D:\\Data\\gpcp_extent//gpcp_1dd_v1.2_p1d.20070701.tif"
       ]
      },
      {
       "output_type": "stream",
       "stream": "stdout",
       "text": [
        "\n",
        "D:\\Data\\gpcp_extent//gpcp_1dd_v1.2_p1d.20070702.tif"
       ]
      },
      {
       "output_type": "stream",
       "stream": "stdout",
       "text": [
        "\n",
        "D:\\Data\\gpcp_extent//gpcp_1dd_v1.2_p1d.20070703.tif"
       ]
      },
      {
       "output_type": "stream",
       "stream": "stdout",
       "text": [
        "\n",
        "D:\\Data\\gpcp_extent//gpcp_1dd_v1.2_p1d.20070704.tif"
       ]
      },
      {
       "output_type": "stream",
       "stream": "stdout",
       "text": [
        "\n",
        "D:\\Data\\gpcp_extent//gpcp_1dd_v1.2_p1d.20070705.tif"
       ]
      },
      {
       "output_type": "stream",
       "stream": "stdout",
       "text": [
        "\n",
        "D:\\Data\\gpcp_extent//gpcp_1dd_v1.2_p1d.20070706.tif"
       ]
      },
      {
       "output_type": "stream",
       "stream": "stdout",
       "text": [
        "\n",
        "D:\\Data\\gpcp_extent//gpcp_1dd_v1.2_p1d.20070707.tif"
       ]
      },
      {
       "output_type": "stream",
       "stream": "stdout",
       "text": [
        "\n",
        "D:\\Data\\gpcp_extent//gpcp_1dd_v1.2_p1d.20070708.tif"
       ]
      },
      {
       "output_type": "stream",
       "stream": "stdout",
       "text": [
        "\n",
        "D:\\Data\\gpcp_extent//gpcp_1dd_v1.2_p1d.20070709.tif"
       ]
      },
      {
       "output_type": "stream",
       "stream": "stdout",
       "text": [
        "\n",
        "D:\\Data\\gpcp_extent//gpcp_1dd_v1.2_p1d.20070710.tif"
       ]
      },
      {
       "output_type": "stream",
       "stream": "stdout",
       "text": [
        "\n",
        "D:\\Data\\gpcp_extent//gpcp_1dd_v1.2_p1d.20070711.tif"
       ]
      },
      {
       "output_type": "stream",
       "stream": "stdout",
       "text": [
        "\n",
        "D:\\Data\\gpcp_extent//gpcp_1dd_v1.2_p1d.20070712.tif"
       ]
      },
      {
       "output_type": "stream",
       "stream": "stdout",
       "text": [
        "\n",
        "D:\\Data\\gpcp_extent//gpcp_1dd_v1.2_p1d.20070713.tif"
       ]
      },
      {
       "output_type": "stream",
       "stream": "stdout",
       "text": [
        "\n",
        "D:\\Data\\gpcp_extent//gpcp_1dd_v1.2_p1d.20070714.tif"
       ]
      },
      {
       "output_type": "stream",
       "stream": "stdout",
       "text": [
        "\n",
        "D:\\Data\\gpcp_extent//gpcp_1dd_v1.2_p1d.20070715.tif"
       ]
      },
      {
       "output_type": "stream",
       "stream": "stdout",
       "text": [
        "\n",
        "D:\\Data\\gpcp_extent//gpcp_1dd_v1.2_p1d.20070716.tif"
       ]
      },
      {
       "output_type": "stream",
       "stream": "stdout",
       "text": [
        "\n",
        "D:\\Data\\gpcp_extent//gpcp_1dd_v1.2_p1d.20070717.tif"
       ]
      },
      {
       "output_type": "stream",
       "stream": "stdout",
       "text": [
        "\n",
        "D:\\Data\\gpcp_extent//gpcp_1dd_v1.2_p1d.20070718.tif"
       ]
      },
      {
       "output_type": "stream",
       "stream": "stdout",
       "text": [
        "\n",
        "D:\\Data\\gpcp_extent//gpcp_1dd_v1.2_p1d.20070719.tif"
       ]
      },
      {
       "output_type": "stream",
       "stream": "stdout",
       "text": [
        "\n",
        "D:\\Data\\gpcp_extent//gpcp_1dd_v1.2_p1d.20070720.tif"
       ]
      },
      {
       "output_type": "stream",
       "stream": "stdout",
       "text": [
        "\n",
        "D:\\Data\\gpcp_extent//gpcp_1dd_v1.2_p1d.20070721.tif"
       ]
      },
      {
       "output_type": "stream",
       "stream": "stdout",
       "text": [
        "\n",
        "D:\\Data\\gpcp_extent//gpcp_1dd_v1.2_p1d.20070722.tif"
       ]
      },
      {
       "output_type": "stream",
       "stream": "stdout",
       "text": [
        "\n",
        "D:\\Data\\gpcp_extent//gpcp_1dd_v1.2_p1d.20070723.tif"
       ]
      },
      {
       "output_type": "stream",
       "stream": "stdout",
       "text": [
        "\n",
        "D:\\Data\\gpcp_extent//gpcp_1dd_v1.2_p1d.20070724.tif"
       ]
      },
      {
       "output_type": "stream",
       "stream": "stdout",
       "text": [
        "\n",
        "D:\\Data\\gpcp_extent//gpcp_1dd_v1.2_p1d.20070725.tif"
       ]
      },
      {
       "output_type": "stream",
       "stream": "stdout",
       "text": [
        "\n",
        "D:\\Data\\gpcp_extent//gpcp_1dd_v1.2_p1d.20070726.tif"
       ]
      },
      {
       "output_type": "stream",
       "stream": "stdout",
       "text": [
        "\n",
        "D:\\Data\\gpcp_extent//gpcp_1dd_v1.2_p1d.20070727.tif"
       ]
      },
      {
       "output_type": "stream",
       "stream": "stdout",
       "text": [
        "\n",
        "D:\\Data\\gpcp_extent//gpcp_1dd_v1.2_p1d.20070728.tif"
       ]
      },
      {
       "output_type": "stream",
       "stream": "stdout",
       "text": [
        "\n",
        "D:\\Data\\gpcp_extent//gpcp_1dd_v1.2_p1d.20070729.tif"
       ]
      },
      {
       "output_type": "stream",
       "stream": "stdout",
       "text": [
        "\n",
        "D:\\Data\\gpcp_extent//gpcp_1dd_v1.2_p1d.20070730.tif"
       ]
      },
      {
       "output_type": "stream",
       "stream": "stdout",
       "text": [
        "\n",
        "D:\\Data\\gpcp_extent//gpcp_1dd_v1.2_p1d.20070800.tif"
       ]
      },
      {
       "output_type": "stream",
       "stream": "stdout",
       "text": [
        "\n",
        "D:\\Data\\gpcp_extent//gpcp_1dd_v1.2_p1d.20070801.tif"
       ]
      },
      {
       "output_type": "stream",
       "stream": "stdout",
       "text": [
        "\n",
        "D:\\Data\\gpcp_extent//gpcp_1dd_v1.2_p1d.20070802.tif"
       ]
      },
      {
       "output_type": "stream",
       "stream": "stdout",
       "text": [
        "\n",
        "D:\\Data\\gpcp_extent//gpcp_1dd_v1.2_p1d.20070803.tif"
       ]
      },
      {
       "output_type": "stream",
       "stream": "stdout",
       "text": [
        "\n",
        "D:\\Data\\gpcp_extent//gpcp_1dd_v1.2_p1d.20070804.tif"
       ]
      },
      {
       "output_type": "stream",
       "stream": "stdout",
       "text": [
        "\n",
        "D:\\Data\\gpcp_extent//gpcp_1dd_v1.2_p1d.20070805.tif"
       ]
      },
      {
       "output_type": "stream",
       "stream": "stdout",
       "text": [
        "\n",
        "D:\\Data\\gpcp_extent//gpcp_1dd_v1.2_p1d.20070806.tif"
       ]
      },
      {
       "output_type": "stream",
       "stream": "stdout",
       "text": [
        "\n",
        "D:\\Data\\gpcp_extent//gpcp_1dd_v1.2_p1d.20070807.tif"
       ]
      },
      {
       "output_type": "stream",
       "stream": "stdout",
       "text": [
        "\n",
        "D:\\Data\\gpcp_extent//gpcp_1dd_v1.2_p1d.20070808.tif"
       ]
      },
      {
       "output_type": "stream",
       "stream": "stdout",
       "text": [
        "\n",
        "D:\\Data\\gpcp_extent//gpcp_1dd_v1.2_p1d.20070809.tif"
       ]
      },
      {
       "output_type": "stream",
       "stream": "stdout",
       "text": [
        "\n",
        "D:\\Data\\gpcp_extent//gpcp_1dd_v1.2_p1d.20070810.tif"
       ]
      },
      {
       "output_type": "stream",
       "stream": "stdout",
       "text": [
        "\n",
        "D:\\Data\\gpcp_extent//gpcp_1dd_v1.2_p1d.20070811.tif"
       ]
      },
      {
       "output_type": "stream",
       "stream": "stdout",
       "text": [
        "\n",
        "D:\\Data\\gpcp_extent//gpcp_1dd_v1.2_p1d.20070812.tif"
       ]
      },
      {
       "output_type": "stream",
       "stream": "stdout",
       "text": [
        "\n",
        "D:\\Data\\gpcp_extent//gpcp_1dd_v1.2_p1d.20070813.tif"
       ]
      },
      {
       "output_type": "stream",
       "stream": "stdout",
       "text": [
        "\n",
        "D:\\Data\\gpcp_extent//gpcp_1dd_v1.2_p1d.20070814.tif"
       ]
      },
      {
       "output_type": "stream",
       "stream": "stdout",
       "text": [
        "\n",
        "D:\\Data\\gpcp_extent//gpcp_1dd_v1.2_p1d.20070815.tif"
       ]
      },
      {
       "output_type": "stream",
       "stream": "stdout",
       "text": [
        "\n",
        "D:\\Data\\gpcp_extent//gpcp_1dd_v1.2_p1d.20070816.tif"
       ]
      },
      {
       "output_type": "stream",
       "stream": "stdout",
       "text": [
        "\n",
        "D:\\Data\\gpcp_extent//gpcp_1dd_v1.2_p1d.20070817.tif"
       ]
      },
      {
       "output_type": "stream",
       "stream": "stdout",
       "text": [
        "\n",
        "D:\\Data\\gpcp_extent//gpcp_1dd_v1.2_p1d.20070818.tif"
       ]
      },
      {
       "output_type": "stream",
       "stream": "stdout",
       "text": [
        "\n",
        "D:\\Data\\gpcp_extent//gpcp_1dd_v1.2_p1d.20070819.tif"
       ]
      },
      {
       "output_type": "stream",
       "stream": "stdout",
       "text": [
        "\n",
        "D:\\Data\\gpcp_extent//gpcp_1dd_v1.2_p1d.20070820.tif"
       ]
      },
      {
       "output_type": "stream",
       "stream": "stdout",
       "text": [
        "\n",
        "D:\\Data\\gpcp_extent//gpcp_1dd_v1.2_p1d.20070821.tif"
       ]
      },
      {
       "output_type": "stream",
       "stream": "stdout",
       "text": [
        "\n",
        "D:\\Data\\gpcp_extent//gpcp_1dd_v1.2_p1d.20070822.tif"
       ]
      },
      {
       "output_type": "stream",
       "stream": "stdout",
       "text": [
        "\n",
        "D:\\Data\\gpcp_extent//gpcp_1dd_v1.2_p1d.20070823.tif"
       ]
      },
      {
       "output_type": "stream",
       "stream": "stdout",
       "text": [
        "\n",
        "D:\\Data\\gpcp_extent//gpcp_1dd_v1.2_p1d.20070824.tif"
       ]
      },
      {
       "output_type": "stream",
       "stream": "stdout",
       "text": [
        "\n",
        "D:\\Data\\gpcp_extent//gpcp_1dd_v1.2_p1d.20070825.tif"
       ]
      },
      {
       "output_type": "stream",
       "stream": "stdout",
       "text": [
        "\n",
        "D:\\Data\\gpcp_extent//gpcp_1dd_v1.2_p1d.20070826.tif"
       ]
      },
      {
       "output_type": "stream",
       "stream": "stdout",
       "text": [
        "\n",
        "D:\\Data\\gpcp_extent//gpcp_1dd_v1.2_p1d.20070827.tif"
       ]
      },
      {
       "output_type": "stream",
       "stream": "stdout",
       "text": [
        "\n",
        "D:\\Data\\gpcp_extent//gpcp_1dd_v1.2_p1d.20070828.tif"
       ]
      },
      {
       "output_type": "stream",
       "stream": "stdout",
       "text": [
        "\n",
        "D:\\Data\\gpcp_extent//gpcp_1dd_v1.2_p1d.20070829.tif"
       ]
      },
      {
       "output_type": "stream",
       "stream": "stdout",
       "text": [
        "\n",
        "D:\\Data\\gpcp_extent//gpcp_1dd_v1.2_p1d.20070830.tif"
       ]
      },
      {
       "output_type": "stream",
       "stream": "stdout",
       "text": [
        "\n",
        "D:\\Data\\gpcp_extent//gpcp_1dd_v1.2_p1d.20070900.tif"
       ]
      },
      {
       "output_type": "stream",
       "stream": "stdout",
       "text": [
        "\n",
        "D:\\Data\\gpcp_extent//gpcp_1dd_v1.2_p1d.20070901.tif"
       ]
      },
      {
       "output_type": "stream",
       "stream": "stdout",
       "text": [
        "\n",
        "D:\\Data\\gpcp_extent//gpcp_1dd_v1.2_p1d.20070902.tif"
       ]
      },
      {
       "output_type": "stream",
       "stream": "stdout",
       "text": [
        "\n",
        "D:\\Data\\gpcp_extent//gpcp_1dd_v1.2_p1d.20070903.tif"
       ]
      },
      {
       "output_type": "stream",
       "stream": "stdout",
       "text": [
        "\n",
        "D:\\Data\\gpcp_extent//gpcp_1dd_v1.2_p1d.20070904.tif"
       ]
      },
      {
       "output_type": "stream",
       "stream": "stdout",
       "text": [
        "\n",
        "D:\\Data\\gpcp_extent//gpcp_1dd_v1.2_p1d.20070905.tif"
       ]
      },
      {
       "output_type": "stream",
       "stream": "stdout",
       "text": [
        "\n",
        "D:\\Data\\gpcp_extent//gpcp_1dd_v1.2_p1d.20070906.tif"
       ]
      },
      {
       "output_type": "stream",
       "stream": "stdout",
       "text": [
        "\n",
        "D:\\Data\\gpcp_extent//gpcp_1dd_v1.2_p1d.20070907.tif"
       ]
      },
      {
       "output_type": "stream",
       "stream": "stdout",
       "text": [
        "\n",
        "D:\\Data\\gpcp_extent//gpcp_1dd_v1.2_p1d.20070908.tif"
       ]
      },
      {
       "output_type": "stream",
       "stream": "stdout",
       "text": [
        "\n",
        "D:\\Data\\gpcp_extent//gpcp_1dd_v1.2_p1d.20070909.tif"
       ]
      },
      {
       "output_type": "stream",
       "stream": "stdout",
       "text": [
        "\n",
        "D:\\Data\\gpcp_extent//gpcp_1dd_v1.2_p1d.20070910.tif"
       ]
      },
      {
       "output_type": "stream",
       "stream": "stdout",
       "text": [
        "\n",
        "D:\\Data\\gpcp_extent//gpcp_1dd_v1.2_p1d.20070911.tif"
       ]
      },
      {
       "output_type": "stream",
       "stream": "stdout",
       "text": [
        "\n",
        "D:\\Data\\gpcp_extent//gpcp_1dd_v1.2_p1d.20070912.tif"
       ]
      },
      {
       "output_type": "stream",
       "stream": "stdout",
       "text": [
        "\n",
        "D:\\Data\\gpcp_extent//gpcp_1dd_v1.2_p1d.20070913.tif"
       ]
      },
      {
       "output_type": "stream",
       "stream": "stdout",
       "text": [
        "\n",
        "D:\\Data\\gpcp_extent//gpcp_1dd_v1.2_p1d.20070914.tif"
       ]
      },
      {
       "output_type": "stream",
       "stream": "stdout",
       "text": [
        "\n",
        "D:\\Data\\gpcp_extent//gpcp_1dd_v1.2_p1d.20070915.tif"
       ]
      },
      {
       "output_type": "stream",
       "stream": "stdout",
       "text": [
        "\n",
        "D:\\Data\\gpcp_extent//gpcp_1dd_v1.2_p1d.20070916.tif"
       ]
      },
      {
       "output_type": "stream",
       "stream": "stdout",
       "text": [
        "\n",
        "D:\\Data\\gpcp_extent//gpcp_1dd_v1.2_p1d.20070917.tif"
       ]
      },
      {
       "output_type": "stream",
       "stream": "stdout",
       "text": [
        "\n",
        "D:\\Data\\gpcp_extent//gpcp_1dd_v1.2_p1d.20070918.tif"
       ]
      },
      {
       "output_type": "stream",
       "stream": "stdout",
       "text": [
        "\n",
        "D:\\Data\\gpcp_extent//gpcp_1dd_v1.2_p1d.20070919.tif"
       ]
      },
      {
       "output_type": "stream",
       "stream": "stdout",
       "text": [
        "\n",
        "D:\\Data\\gpcp_extent//gpcp_1dd_v1.2_p1d.20070920.tif"
       ]
      },
      {
       "output_type": "stream",
       "stream": "stdout",
       "text": [
        "\n",
        "D:\\Data\\gpcp_extent//gpcp_1dd_v1.2_p1d.20070921.tif"
       ]
      },
      {
       "output_type": "stream",
       "stream": "stdout",
       "text": [
        "\n",
        "D:\\Data\\gpcp_extent//gpcp_1dd_v1.2_p1d.20070922.tif"
       ]
      },
      {
       "output_type": "stream",
       "stream": "stdout",
       "text": [
        "\n",
        "D:\\Data\\gpcp_extent//gpcp_1dd_v1.2_p1d.20070923.tif"
       ]
      },
      {
       "output_type": "stream",
       "stream": "stdout",
       "text": [
        "\n",
        "D:\\Data\\gpcp_extent//gpcp_1dd_v1.2_p1d.20070924.tif"
       ]
      },
      {
       "output_type": "stream",
       "stream": "stdout",
       "text": [
        "\n",
        "D:\\Data\\gpcp_extent//gpcp_1dd_v1.2_p1d.20070925.tif"
       ]
      },
      {
       "output_type": "stream",
       "stream": "stdout",
       "text": [
        "\n",
        "D:\\Data\\gpcp_extent//gpcp_1dd_v1.2_p1d.20070926.tif"
       ]
      },
      {
       "output_type": "stream",
       "stream": "stdout",
       "text": [
        "\n",
        "D:\\Data\\gpcp_extent//gpcp_1dd_v1.2_p1d.20070927.tif"
       ]
      },
      {
       "output_type": "stream",
       "stream": "stdout",
       "text": [
        "\n",
        "D:\\Data\\gpcp_extent//gpcp_1dd_v1.2_p1d.20070928.tif"
       ]
      },
      {
       "output_type": "stream",
       "stream": "stdout",
       "text": [
        "\n",
        "D:\\Data\\gpcp_extent//gpcp_1dd_v1.2_p1d.20070929.tif"
       ]
      },
      {
       "output_type": "stream",
       "stream": "stdout",
       "text": [
        "\n",
        "D:\\Data\\gpcp_extent//gpcp_1dd_v1.2_p1d.20071000.tif"
       ]
      },
      {
       "output_type": "stream",
       "stream": "stdout",
       "text": [
        "\n",
        "D:\\Data\\gpcp_extent//gpcp_1dd_v1.2_p1d.20071001.tif"
       ]
      },
      {
       "output_type": "stream",
       "stream": "stdout",
       "text": [
        "\n",
        "D:\\Data\\gpcp_extent//gpcp_1dd_v1.2_p1d.20071002.tif"
       ]
      },
      {
       "output_type": "stream",
       "stream": "stdout",
       "text": [
        "\n",
        "D:\\Data\\gpcp_extent//gpcp_1dd_v1.2_p1d.20071003.tif"
       ]
      },
      {
       "output_type": "stream",
       "stream": "stdout",
       "text": [
        "\n",
        "D:\\Data\\gpcp_extent//gpcp_1dd_v1.2_p1d.20071004.tif"
       ]
      },
      {
       "output_type": "stream",
       "stream": "stdout",
       "text": [
        "\n",
        "D:\\Data\\gpcp_extent//gpcp_1dd_v1.2_p1d.20071005.tif"
       ]
      },
      {
       "output_type": "stream",
       "stream": "stdout",
       "text": [
        "\n",
        "D:\\Data\\gpcp_extent//gpcp_1dd_v1.2_p1d.20071006.tif"
       ]
      },
      {
       "output_type": "stream",
       "stream": "stdout",
       "text": [
        "\n",
        "D:\\Data\\gpcp_extent//gpcp_1dd_v1.2_p1d.20071007.tif"
       ]
      },
      {
       "output_type": "stream",
       "stream": "stdout",
       "text": [
        "\n",
        "D:\\Data\\gpcp_extent//gpcp_1dd_v1.2_p1d.20071008.tif"
       ]
      },
      {
       "output_type": "stream",
       "stream": "stdout",
       "text": [
        "\n",
        "D:\\Data\\gpcp_extent//gpcp_1dd_v1.2_p1d.20071009.tif"
       ]
      },
      {
       "output_type": "stream",
       "stream": "stdout",
       "text": [
        "\n",
        "D:\\Data\\gpcp_extent//gpcp_1dd_v1.2_p1d.20071010.tif"
       ]
      },
      {
       "output_type": "stream",
       "stream": "stdout",
       "text": [
        "\n",
        "D:\\Data\\gpcp_extent//gpcp_1dd_v1.2_p1d.20071011.tif"
       ]
      },
      {
       "output_type": "stream",
       "stream": "stdout",
       "text": [
        "\n",
        "D:\\Data\\gpcp_extent//gpcp_1dd_v1.2_p1d.20071012.tif"
       ]
      },
      {
       "output_type": "stream",
       "stream": "stdout",
       "text": [
        "\n",
        "D:\\Data\\gpcp_extent//gpcp_1dd_v1.2_p1d.20071013.tif"
       ]
      },
      {
       "output_type": "stream",
       "stream": "stdout",
       "text": [
        "\n",
        "D:\\Data\\gpcp_extent//gpcp_1dd_v1.2_p1d.20071014.tif"
       ]
      },
      {
       "output_type": "stream",
       "stream": "stdout",
       "text": [
        "\n",
        "D:\\Data\\gpcp_extent//gpcp_1dd_v1.2_p1d.20071015.tif"
       ]
      },
      {
       "output_type": "stream",
       "stream": "stdout",
       "text": [
        "\n",
        "D:\\Data\\gpcp_extent//gpcp_1dd_v1.2_p1d.20071016.tif"
       ]
      },
      {
       "output_type": "stream",
       "stream": "stdout",
       "text": [
        "\n",
        "D:\\Data\\gpcp_extent//gpcp_1dd_v1.2_p1d.20071017.tif"
       ]
      },
      {
       "output_type": "stream",
       "stream": "stdout",
       "text": [
        "\n",
        "D:\\Data\\gpcp_extent//gpcp_1dd_v1.2_p1d.20071018.tif"
       ]
      },
      {
       "output_type": "stream",
       "stream": "stdout",
       "text": [
        "\n",
        "D:\\Data\\gpcp_extent//gpcp_1dd_v1.2_p1d.20071019.tif"
       ]
      },
      {
       "output_type": "stream",
       "stream": "stdout",
       "text": [
        "\n",
        "D:\\Data\\gpcp_extent//gpcp_1dd_v1.2_p1d.20071020.tif"
       ]
      },
      {
       "output_type": "stream",
       "stream": "stdout",
       "text": [
        "\n",
        "D:\\Data\\gpcp_extent//gpcp_1dd_v1.2_p1d.20071021.tif"
       ]
      },
      {
       "output_type": "stream",
       "stream": "stdout",
       "text": [
        "\n",
        "D:\\Data\\gpcp_extent//gpcp_1dd_v1.2_p1d.20071022.tif"
       ]
      },
      {
       "output_type": "stream",
       "stream": "stdout",
       "text": [
        "\n",
        "D:\\Data\\gpcp_extent//gpcp_1dd_v1.2_p1d.20071023.tif"
       ]
      },
      {
       "output_type": "stream",
       "stream": "stdout",
       "text": [
        "\n",
        "D:\\Data\\gpcp_extent//gpcp_1dd_v1.2_p1d.20071024.tif"
       ]
      },
      {
       "output_type": "stream",
       "stream": "stdout",
       "text": [
        "\n",
        "D:\\Data\\gpcp_extent//gpcp_1dd_v1.2_p1d.20071025.tif"
       ]
      },
      {
       "output_type": "stream",
       "stream": "stdout",
       "text": [
        "\n",
        "D:\\Data\\gpcp_extent//gpcp_1dd_v1.2_p1d.20071026.tif"
       ]
      },
      {
       "output_type": "stream",
       "stream": "stdout",
       "text": [
        "\n",
        "D:\\Data\\gpcp_extent//gpcp_1dd_v1.2_p1d.20071027.tif"
       ]
      },
      {
       "output_type": "stream",
       "stream": "stdout",
       "text": [
        "\n",
        "D:\\Data\\gpcp_extent//gpcp_1dd_v1.2_p1d.20071028.tif"
       ]
      },
      {
       "output_type": "stream",
       "stream": "stdout",
       "text": [
        "\n",
        "D:\\Data\\gpcp_extent//gpcp_1dd_v1.2_p1d.20071029.tif"
       ]
      },
      {
       "output_type": "stream",
       "stream": "stdout",
       "text": [
        "\n",
        "D:\\Data\\gpcp_extent//gpcp_1dd_v1.2_p1d.20071030.tif"
       ]
      },
      {
       "output_type": "stream",
       "stream": "stdout",
       "text": [
        "\n",
        "D:\\Data\\gpcp_extent//gpcp_1dd_v1.2_p1d.20071100.tif"
       ]
      },
      {
       "output_type": "stream",
       "stream": "stdout",
       "text": [
        "\n",
        "D:\\Data\\gpcp_extent//gpcp_1dd_v1.2_p1d.20071101.tif"
       ]
      },
      {
       "output_type": "stream",
       "stream": "stdout",
       "text": [
        "\n",
        "D:\\Data\\gpcp_extent//gpcp_1dd_v1.2_p1d.20071102.tif"
       ]
      },
      {
       "output_type": "stream",
       "stream": "stdout",
       "text": [
        "\n",
        "D:\\Data\\gpcp_extent//gpcp_1dd_v1.2_p1d.20071103.tif"
       ]
      },
      {
       "output_type": "stream",
       "stream": "stdout",
       "text": [
        "\n",
        "D:\\Data\\gpcp_extent//gpcp_1dd_v1.2_p1d.20071104.tif"
       ]
      },
      {
       "output_type": "stream",
       "stream": "stdout",
       "text": [
        "\n",
        "D:\\Data\\gpcp_extent//gpcp_1dd_v1.2_p1d.20071105.tif"
       ]
      },
      {
       "output_type": "stream",
       "stream": "stdout",
       "text": [
        "\n",
        "D:\\Data\\gpcp_extent//gpcp_1dd_v1.2_p1d.20071106.tif"
       ]
      },
      {
       "output_type": "stream",
       "stream": "stdout",
       "text": [
        "\n",
        "D:\\Data\\gpcp_extent//gpcp_1dd_v1.2_p1d.20071107.tif"
       ]
      },
      {
       "output_type": "stream",
       "stream": "stdout",
       "text": [
        "\n",
        "D:\\Data\\gpcp_extent//gpcp_1dd_v1.2_p1d.20071108.tif"
       ]
      },
      {
       "output_type": "stream",
       "stream": "stdout",
       "text": [
        "\n",
        "D:\\Data\\gpcp_extent//gpcp_1dd_v1.2_p1d.20071109.tif"
       ]
      },
      {
       "output_type": "stream",
       "stream": "stdout",
       "text": [
        "\n",
        "D:\\Data\\gpcp_extent//gpcp_1dd_v1.2_p1d.20071110.tif"
       ]
      },
      {
       "output_type": "stream",
       "stream": "stdout",
       "text": [
        "\n",
        "D:\\Data\\gpcp_extent//gpcp_1dd_v1.2_p1d.20071111.tif"
       ]
      },
      {
       "output_type": "stream",
       "stream": "stdout",
       "text": [
        "\n",
        "D:\\Data\\gpcp_extent//gpcp_1dd_v1.2_p1d.20071112.tif"
       ]
      },
      {
       "output_type": "stream",
       "stream": "stdout",
       "text": [
        "\n",
        "D:\\Data\\gpcp_extent//gpcp_1dd_v1.2_p1d.20071113.tif"
       ]
      },
      {
       "output_type": "stream",
       "stream": "stdout",
       "text": [
        "\n",
        "D:\\Data\\gpcp_extent//gpcp_1dd_v1.2_p1d.20071114.tif"
       ]
      },
      {
       "output_type": "stream",
       "stream": "stdout",
       "text": [
        "\n",
        "D:\\Data\\gpcp_extent//gpcp_1dd_v1.2_p1d.20071115.tif"
       ]
      },
      {
       "output_type": "stream",
       "stream": "stdout",
       "text": [
        "\n",
        "D:\\Data\\gpcp_extent//gpcp_1dd_v1.2_p1d.20071116.tif"
       ]
      },
      {
       "output_type": "stream",
       "stream": "stdout",
       "text": [
        "\n",
        "D:\\Data\\gpcp_extent//gpcp_1dd_v1.2_p1d.20071117.tif"
       ]
      },
      {
       "output_type": "stream",
       "stream": "stdout",
       "text": [
        "\n",
        "D:\\Data\\gpcp_extent//gpcp_1dd_v1.2_p1d.20071118.tif"
       ]
      },
      {
       "output_type": "stream",
       "stream": "stdout",
       "text": [
        "\n",
        "D:\\Data\\gpcp_extent//gpcp_1dd_v1.2_p1d.20071119.tif"
       ]
      },
      {
       "output_type": "stream",
       "stream": "stdout",
       "text": [
        "\n",
        "D:\\Data\\gpcp_extent//gpcp_1dd_v1.2_p1d.20071120.tif"
       ]
      },
      {
       "output_type": "stream",
       "stream": "stdout",
       "text": [
        "\n",
        "D:\\Data\\gpcp_extent//gpcp_1dd_v1.2_p1d.20071121.tif"
       ]
      },
      {
       "output_type": "stream",
       "stream": "stdout",
       "text": [
        "\n",
        "D:\\Data\\gpcp_extent//gpcp_1dd_v1.2_p1d.20071122.tif"
       ]
      },
      {
       "output_type": "stream",
       "stream": "stdout",
       "text": [
        "\n",
        "D:\\Data\\gpcp_extent//gpcp_1dd_v1.2_p1d.20071123.tif"
       ]
      },
      {
       "output_type": "stream",
       "stream": "stdout",
       "text": [
        "\n",
        "D:\\Data\\gpcp_extent//gpcp_1dd_v1.2_p1d.20071124.tif"
       ]
      },
      {
       "output_type": "stream",
       "stream": "stdout",
       "text": [
        "\n",
        "D:\\Data\\gpcp_extent//gpcp_1dd_v1.2_p1d.20071125.tif"
       ]
      },
      {
       "output_type": "stream",
       "stream": "stdout",
       "text": [
        "\n",
        "D:\\Data\\gpcp_extent//gpcp_1dd_v1.2_p1d.20071126.tif"
       ]
      },
      {
       "output_type": "stream",
       "stream": "stdout",
       "text": [
        "\n",
        "D:\\Data\\gpcp_extent//gpcp_1dd_v1.2_p1d.20071127.tif"
       ]
      },
      {
       "output_type": "stream",
       "stream": "stdout",
       "text": [
        "\n",
        "D:\\Data\\gpcp_extent//gpcp_1dd_v1.2_p1d.20071128.tif"
       ]
      },
      {
       "output_type": "stream",
       "stream": "stdout",
       "text": [
        "\n",
        "D:\\Data\\gpcp_extent//gpcp_1dd_v1.2_p1d.20071129.tif"
       ]
      },
      {
       "output_type": "stream",
       "stream": "stdout",
       "text": [
        "\n",
        "D:\\Data\\gpcp_extent//gpcp_1dd_v1.2_p1d.20071200.tif"
       ]
      },
      {
       "output_type": "stream",
       "stream": "stdout",
       "text": [
        "\n",
        "D:\\Data\\gpcp_extent//gpcp_1dd_v1.2_p1d.20071201.tif"
       ]
      },
      {
       "output_type": "stream",
       "stream": "stdout",
       "text": [
        "\n",
        "D:\\Data\\gpcp_extent//gpcp_1dd_v1.2_p1d.20071202.tif"
       ]
      },
      {
       "output_type": "stream",
       "stream": "stdout",
       "text": [
        "\n",
        "D:\\Data\\gpcp_extent//gpcp_1dd_v1.2_p1d.20071203.tif"
       ]
      },
      {
       "output_type": "stream",
       "stream": "stdout",
       "text": [
        "\n",
        "D:\\Data\\gpcp_extent//gpcp_1dd_v1.2_p1d.20071204.tif"
       ]
      },
      {
       "output_type": "stream",
       "stream": "stdout",
       "text": [
        "\n",
        "D:\\Data\\gpcp_extent//gpcp_1dd_v1.2_p1d.20071205.tif"
       ]
      },
      {
       "output_type": "stream",
       "stream": "stdout",
       "text": [
        "\n",
        "D:\\Data\\gpcp_extent//gpcp_1dd_v1.2_p1d.20071206.tif"
       ]
      },
      {
       "output_type": "stream",
       "stream": "stdout",
       "text": [
        "\n",
        "D:\\Data\\gpcp_extent//gpcp_1dd_v1.2_p1d.20071207.tif"
       ]
      },
      {
       "output_type": "stream",
       "stream": "stdout",
       "text": [
        "\n",
        "D:\\Data\\gpcp_extent//gpcp_1dd_v1.2_p1d.20071208.tif"
       ]
      },
      {
       "output_type": "stream",
       "stream": "stdout",
       "text": [
        "\n",
        "D:\\Data\\gpcp_extent//gpcp_1dd_v1.2_p1d.20071209.tif"
       ]
      },
      {
       "output_type": "stream",
       "stream": "stdout",
       "text": [
        "\n",
        "D:\\Data\\gpcp_extent//gpcp_1dd_v1.2_p1d.20071210.tif"
       ]
      },
      {
       "output_type": "stream",
       "stream": "stdout",
       "text": [
        "\n",
        "D:\\Data\\gpcp_extent//gpcp_1dd_v1.2_p1d.20071211.tif"
       ]
      },
      {
       "output_type": "stream",
       "stream": "stdout",
       "text": [
        "\n",
        "D:\\Data\\gpcp_extent//gpcp_1dd_v1.2_p1d.20071212.tif"
       ]
      },
      {
       "output_type": "stream",
       "stream": "stdout",
       "text": [
        "\n",
        "D:\\Data\\gpcp_extent//gpcp_1dd_v1.2_p1d.20071213.tif"
       ]
      },
      {
       "output_type": "stream",
       "stream": "stdout",
       "text": [
        "\n",
        "D:\\Data\\gpcp_extent//gpcp_1dd_v1.2_p1d.20071214.tif"
       ]
      },
      {
       "output_type": "stream",
       "stream": "stdout",
       "text": [
        "\n",
        "D:\\Data\\gpcp_extent//gpcp_1dd_v1.2_p1d.20071215.tif"
       ]
      },
      {
       "output_type": "stream",
       "stream": "stdout",
       "text": [
        "\n",
        "D:\\Data\\gpcp_extent//gpcp_1dd_v1.2_p1d.20071216.tif"
       ]
      },
      {
       "output_type": "stream",
       "stream": "stdout",
       "text": [
        "\n",
        "D:\\Data\\gpcp_extent//gpcp_1dd_v1.2_p1d.20071217.tif"
       ]
      },
      {
       "output_type": "stream",
       "stream": "stdout",
       "text": [
        "\n",
        "D:\\Data\\gpcp_extent//gpcp_1dd_v1.2_p1d.20071218.tif"
       ]
      },
      {
       "output_type": "stream",
       "stream": "stdout",
       "text": [
        "\n",
        "D:\\Data\\gpcp_extent//gpcp_1dd_v1.2_p1d.20071219.tif"
       ]
      },
      {
       "output_type": "stream",
       "stream": "stdout",
       "text": [
        "\n",
        "D:\\Data\\gpcp_extent//gpcp_1dd_v1.2_p1d.20071220.tif"
       ]
      },
      {
       "output_type": "stream",
       "stream": "stdout",
       "text": [
        "\n",
        "D:\\Data\\gpcp_extent//gpcp_1dd_v1.2_p1d.20071221.tif"
       ]
      },
      {
       "output_type": "stream",
       "stream": "stdout",
       "text": [
        "\n",
        "D:\\Data\\gpcp_extent//gpcp_1dd_v1.2_p1d.20071222.tif"
       ]
      },
      {
       "output_type": "stream",
       "stream": "stdout",
       "text": [
        "\n",
        "D:\\Data\\gpcp_extent//gpcp_1dd_v1.2_p1d.20071223.tif"
       ]
      },
      {
       "output_type": "stream",
       "stream": "stdout",
       "text": [
        "\n",
        "D:\\Data\\gpcp_extent//gpcp_1dd_v1.2_p1d.20071224.tif"
       ]
      },
      {
       "output_type": "stream",
       "stream": "stdout",
       "text": [
        "\n",
        "D:\\Data\\gpcp_extent//gpcp_1dd_v1.2_p1d.20071225.tif"
       ]
      },
      {
       "output_type": "stream",
       "stream": "stdout",
       "text": [
        "\n",
        "D:\\Data\\gpcp_extent//gpcp_1dd_v1.2_p1d.20071226.tif"
       ]
      },
      {
       "output_type": "stream",
       "stream": "stdout",
       "text": [
        "\n",
        "D:\\Data\\gpcp_extent//gpcp_1dd_v1.2_p1d.20071227.tif"
       ]
      },
      {
       "output_type": "stream",
       "stream": "stdout",
       "text": [
        "\n",
        "D:\\Data\\gpcp_extent//gpcp_1dd_v1.2_p1d.20071228.tif"
       ]
      },
      {
       "output_type": "stream",
       "stream": "stdout",
       "text": [
        "\n",
        "D:\\Data\\gpcp_extent//gpcp_1dd_v1.2_p1d.20071229.tif"
       ]
      },
      {
       "output_type": "stream",
       "stream": "stdout",
       "text": [
        "\n",
        "D:\\Data\\gpcp_extent//gpcp_1dd_v1.2_p1d.20071230.tif"
       ]
      },
      {
       "output_type": "stream",
       "stream": "stdout",
       "text": [
        "\n",
        "D:\\Data\\gpcp_extent//gpcp_1dd_v1.2_p1d.20080100.tif"
       ]
      },
      {
       "output_type": "stream",
       "stream": "stdout",
       "text": [
        "\n",
        "D:\\Data\\gpcp_extent//gpcp_1dd_v1.2_p1d.20080101.tif"
       ]
      },
      {
       "output_type": "stream",
       "stream": "stdout",
       "text": [
        "\n",
        "D:\\Data\\gpcp_extent//gpcp_1dd_v1.2_p1d.20080102.tif"
       ]
      },
      {
       "output_type": "stream",
       "stream": "stdout",
       "text": [
        "\n",
        "D:\\Data\\gpcp_extent//gpcp_1dd_v1.2_p1d.20080103.tif"
       ]
      },
      {
       "output_type": "stream",
       "stream": "stdout",
       "text": [
        "\n",
        "D:\\Data\\gpcp_extent//gpcp_1dd_v1.2_p1d.20080104.tif"
       ]
      },
      {
       "output_type": "stream",
       "stream": "stdout",
       "text": [
        "\n",
        "D:\\Data\\gpcp_extent//gpcp_1dd_v1.2_p1d.20080105.tif"
       ]
      },
      {
       "output_type": "stream",
       "stream": "stdout",
       "text": [
        "\n",
        "D:\\Data\\gpcp_extent//gpcp_1dd_v1.2_p1d.20080106.tif"
       ]
      },
      {
       "output_type": "stream",
       "stream": "stdout",
       "text": [
        "\n",
        "D:\\Data\\gpcp_extent//gpcp_1dd_v1.2_p1d.20080107.tif"
       ]
      },
      {
       "output_type": "stream",
       "stream": "stdout",
       "text": [
        "\n",
        "D:\\Data\\gpcp_extent//gpcp_1dd_v1.2_p1d.20080108.tif"
       ]
      },
      {
       "output_type": "stream",
       "stream": "stdout",
       "text": [
        "\n",
        "D:\\Data\\gpcp_extent//gpcp_1dd_v1.2_p1d.20080109.tif"
       ]
      },
      {
       "output_type": "stream",
       "stream": "stdout",
       "text": [
        "\n",
        "D:\\Data\\gpcp_extent//gpcp_1dd_v1.2_p1d.20080110.tif"
       ]
      },
      {
       "output_type": "stream",
       "stream": "stdout",
       "text": [
        "\n",
        "D:\\Data\\gpcp_extent//gpcp_1dd_v1.2_p1d.20080111.tif"
       ]
      },
      {
       "output_type": "stream",
       "stream": "stdout",
       "text": [
        "\n",
        "D:\\Data\\gpcp_extent//gpcp_1dd_v1.2_p1d.20080112.tif"
       ]
      },
      {
       "output_type": "stream",
       "stream": "stdout",
       "text": [
        "\n",
        "D:\\Data\\gpcp_extent//gpcp_1dd_v1.2_p1d.20080113.tif"
       ]
      },
      {
       "output_type": "stream",
       "stream": "stdout",
       "text": [
        "\n",
        "D:\\Data\\gpcp_extent//gpcp_1dd_v1.2_p1d.20080114.tif"
       ]
      },
      {
       "output_type": "stream",
       "stream": "stdout",
       "text": [
        "\n",
        "D:\\Data\\gpcp_extent//gpcp_1dd_v1.2_p1d.20080115.tif"
       ]
      },
      {
       "output_type": "stream",
       "stream": "stdout",
       "text": [
        "\n",
        "D:\\Data\\gpcp_extent//gpcp_1dd_v1.2_p1d.20080116.tif"
       ]
      },
      {
       "output_type": "stream",
       "stream": "stdout",
       "text": [
        "\n",
        "D:\\Data\\gpcp_extent//gpcp_1dd_v1.2_p1d.20080117.tif"
       ]
      },
      {
       "output_type": "stream",
       "stream": "stdout",
       "text": [
        "\n",
        "D:\\Data\\gpcp_extent//gpcp_1dd_v1.2_p1d.20080118.tif"
       ]
      },
      {
       "output_type": "stream",
       "stream": "stdout",
       "text": [
        "\n",
        "D:\\Data\\gpcp_extent//gpcp_1dd_v1.2_p1d.20080119.tif"
       ]
      },
      {
       "output_type": "stream",
       "stream": "stdout",
       "text": [
        "\n",
        "D:\\Data\\gpcp_extent//gpcp_1dd_v1.2_p1d.20080120.tif"
       ]
      },
      {
       "output_type": "stream",
       "stream": "stdout",
       "text": [
        "\n",
        "D:\\Data\\gpcp_extent//gpcp_1dd_v1.2_p1d.20080121.tif"
       ]
      },
      {
       "output_type": "stream",
       "stream": "stdout",
       "text": [
        "\n",
        "D:\\Data\\gpcp_extent//gpcp_1dd_v1.2_p1d.20080122.tif"
       ]
      },
      {
       "output_type": "stream",
       "stream": "stdout",
       "text": [
        "\n",
        "D:\\Data\\gpcp_extent//gpcp_1dd_v1.2_p1d.20080123.tif"
       ]
      },
      {
       "output_type": "stream",
       "stream": "stdout",
       "text": [
        "\n",
        "D:\\Data\\gpcp_extent//gpcp_1dd_v1.2_p1d.20080124.tif"
       ]
      },
      {
       "output_type": "stream",
       "stream": "stdout",
       "text": [
        "\n",
        "D:\\Data\\gpcp_extent//gpcp_1dd_v1.2_p1d.20080125.tif"
       ]
      },
      {
       "output_type": "stream",
       "stream": "stdout",
       "text": [
        "\n",
        "D:\\Data\\gpcp_extent//gpcp_1dd_v1.2_p1d.20080126.tif"
       ]
      },
      {
       "output_type": "stream",
       "stream": "stdout",
       "text": [
        "\n",
        "D:\\Data\\gpcp_extent//gpcp_1dd_v1.2_p1d.20080127.tif"
       ]
      },
      {
       "output_type": "stream",
       "stream": "stdout",
       "text": [
        "\n",
        "D:\\Data\\gpcp_extent//gpcp_1dd_v1.2_p1d.20080128.tif"
       ]
      },
      {
       "output_type": "stream",
       "stream": "stdout",
       "text": [
        "\n",
        "D:\\Data\\gpcp_extent//gpcp_1dd_v1.2_p1d.20080129.tif"
       ]
      },
      {
       "output_type": "stream",
       "stream": "stdout",
       "text": [
        "\n",
        "D:\\Data\\gpcp_extent//gpcp_1dd_v1.2_p1d.20080130.tif"
       ]
      },
      {
       "output_type": "stream",
       "stream": "stdout",
       "text": [
        "\n",
        "D:\\Data\\gpcp_extent//gpcp_1dd_v1.2_p1d.20080200.tif"
       ]
      },
      {
       "output_type": "stream",
       "stream": "stdout",
       "text": [
        "\n",
        "D:\\Data\\gpcp_extent//gpcp_1dd_v1.2_p1d.20080201.tif"
       ]
      },
      {
       "output_type": "stream",
       "stream": "stdout",
       "text": [
        "\n",
        "D:\\Data\\gpcp_extent//gpcp_1dd_v1.2_p1d.20080202.tif"
       ]
      },
      {
       "output_type": "stream",
       "stream": "stdout",
       "text": [
        "\n",
        "D:\\Data\\gpcp_extent//gpcp_1dd_v1.2_p1d.20080203.tif"
       ]
      },
      {
       "output_type": "stream",
       "stream": "stdout",
       "text": [
        "\n",
        "D:\\Data\\gpcp_extent//gpcp_1dd_v1.2_p1d.20080204.tif"
       ]
      },
      {
       "output_type": "stream",
       "stream": "stdout",
       "text": [
        "\n",
        "D:\\Data\\gpcp_extent//gpcp_1dd_v1.2_p1d.20080205.tif"
       ]
      },
      {
       "output_type": "stream",
       "stream": "stdout",
       "text": [
        "\n",
        "D:\\Data\\gpcp_extent//gpcp_1dd_v1.2_p1d.20080206.tif"
       ]
      },
      {
       "output_type": "stream",
       "stream": "stdout",
       "text": [
        "\n",
        "D:\\Data\\gpcp_extent//gpcp_1dd_v1.2_p1d.20080207.tif"
       ]
      },
      {
       "output_type": "stream",
       "stream": "stdout",
       "text": [
        "\n",
        "D:\\Data\\gpcp_extent//gpcp_1dd_v1.2_p1d.20080208.tif"
       ]
      },
      {
       "output_type": "stream",
       "stream": "stdout",
       "text": [
        "\n",
        "D:\\Data\\gpcp_extent//gpcp_1dd_v1.2_p1d.20080209.tif"
       ]
      },
      {
       "output_type": "stream",
       "stream": "stdout",
       "text": [
        "\n",
        "D:\\Data\\gpcp_extent//gpcp_1dd_v1.2_p1d.20080210.tif"
       ]
      },
      {
       "output_type": "stream",
       "stream": "stdout",
       "text": [
        "\n",
        "D:\\Data\\gpcp_extent//gpcp_1dd_v1.2_p1d.20080211.tif"
       ]
      },
      {
       "output_type": "stream",
       "stream": "stdout",
       "text": [
        "\n",
        "D:\\Data\\gpcp_extent//gpcp_1dd_v1.2_p1d.20080212.tif"
       ]
      },
      {
       "output_type": "stream",
       "stream": "stdout",
       "text": [
        "\n",
        "D:\\Data\\gpcp_extent//gpcp_1dd_v1.2_p1d.20080213.tif"
       ]
      },
      {
       "output_type": "stream",
       "stream": "stdout",
       "text": [
        "\n",
        "D:\\Data\\gpcp_extent//gpcp_1dd_v1.2_p1d.20080214.tif"
       ]
      },
      {
       "output_type": "stream",
       "stream": "stdout",
       "text": [
        "\n",
        "D:\\Data\\gpcp_extent//gpcp_1dd_v1.2_p1d.20080215.tif"
       ]
      },
      {
       "output_type": "stream",
       "stream": "stdout",
       "text": [
        "\n",
        "D:\\Data\\gpcp_extent//gpcp_1dd_v1.2_p1d.20080216.tif"
       ]
      },
      {
       "output_type": "stream",
       "stream": "stdout",
       "text": [
        "\n",
        "D:\\Data\\gpcp_extent//gpcp_1dd_v1.2_p1d.20080217.tif"
       ]
      },
      {
       "output_type": "stream",
       "stream": "stdout",
       "text": [
        "\n",
        "D:\\Data\\gpcp_extent//gpcp_1dd_v1.2_p1d.20080218.tif"
       ]
      },
      {
       "output_type": "stream",
       "stream": "stdout",
       "text": [
        "\n",
        "D:\\Data\\gpcp_extent//gpcp_1dd_v1.2_p1d.20080219.tif"
       ]
      },
      {
       "output_type": "stream",
       "stream": "stdout",
       "text": [
        "\n",
        "D:\\Data\\gpcp_extent//gpcp_1dd_v1.2_p1d.20080220.tif"
       ]
      },
      {
       "output_type": "stream",
       "stream": "stdout",
       "text": [
        "\n",
        "D:\\Data\\gpcp_extent//gpcp_1dd_v1.2_p1d.20080221.tif"
       ]
      },
      {
       "output_type": "stream",
       "stream": "stdout",
       "text": [
        "\n",
        "D:\\Data\\gpcp_extent//gpcp_1dd_v1.2_p1d.20080222.tif"
       ]
      },
      {
       "output_type": "stream",
       "stream": "stdout",
       "text": [
        "\n",
        "D:\\Data\\gpcp_extent//gpcp_1dd_v1.2_p1d.20080223.tif"
       ]
      },
      {
       "output_type": "stream",
       "stream": "stdout",
       "text": [
        "\n",
        "D:\\Data\\gpcp_extent//gpcp_1dd_v1.2_p1d.20080224.tif"
       ]
      },
      {
       "output_type": "stream",
       "stream": "stdout",
       "text": [
        "\n",
        "D:\\Data\\gpcp_extent//gpcp_1dd_v1.2_p1d.20080225.tif"
       ]
      },
      {
       "output_type": "stream",
       "stream": "stdout",
       "text": [
        "\n",
        "D:\\Data\\gpcp_extent//gpcp_1dd_v1.2_p1d.20080226.tif"
       ]
      },
      {
       "output_type": "stream",
       "stream": "stdout",
       "text": [
        "\n",
        "D:\\Data\\gpcp_extent//gpcp_1dd_v1.2_p1d.20080227.tif"
       ]
      },
      {
       "output_type": "stream",
       "stream": "stdout",
       "text": [
        "\n",
        "D:\\Data\\gpcp_extent//gpcp_1dd_v1.2_p1d.20080228.tif"
       ]
      },
      {
       "output_type": "stream",
       "stream": "stdout",
       "text": [
        "\n",
        "D:\\Data\\gpcp_extent//gpcp_1dd_v1.2_p1d.20080300.tif"
       ]
      },
      {
       "output_type": "stream",
       "stream": "stdout",
       "text": [
        "\n",
        "D:\\Data\\gpcp_extent//gpcp_1dd_v1.2_p1d.20080301.tif"
       ]
      },
      {
       "output_type": "stream",
       "stream": "stdout",
       "text": [
        "\n",
        "D:\\Data\\gpcp_extent//gpcp_1dd_v1.2_p1d.20080302.tif"
       ]
      },
      {
       "output_type": "stream",
       "stream": "stdout",
       "text": [
        "\n",
        "D:\\Data\\gpcp_extent//gpcp_1dd_v1.2_p1d.20080303.tif"
       ]
      },
      {
       "output_type": "stream",
       "stream": "stdout",
       "text": [
        "\n",
        "D:\\Data\\gpcp_extent//gpcp_1dd_v1.2_p1d.20080304.tif"
       ]
      },
      {
       "output_type": "stream",
       "stream": "stdout",
       "text": [
        "\n",
        "D:\\Data\\gpcp_extent//gpcp_1dd_v1.2_p1d.20080305.tif"
       ]
      },
      {
       "output_type": "stream",
       "stream": "stdout",
       "text": [
        "\n",
        "D:\\Data\\gpcp_extent//gpcp_1dd_v1.2_p1d.20080306.tif"
       ]
      },
      {
       "output_type": "stream",
       "stream": "stdout",
       "text": [
        "\n",
        "D:\\Data\\gpcp_extent//gpcp_1dd_v1.2_p1d.20080307.tif"
       ]
      },
      {
       "output_type": "stream",
       "stream": "stdout",
       "text": [
        "\n",
        "D:\\Data\\gpcp_extent//gpcp_1dd_v1.2_p1d.20080308.tif"
       ]
      },
      {
       "output_type": "stream",
       "stream": "stdout",
       "text": [
        "\n",
        "D:\\Data\\gpcp_extent//gpcp_1dd_v1.2_p1d.20080309.tif"
       ]
      },
      {
       "output_type": "stream",
       "stream": "stdout",
       "text": [
        "\n",
        "D:\\Data\\gpcp_extent//gpcp_1dd_v1.2_p1d.20080310.tif"
       ]
      },
      {
       "output_type": "stream",
       "stream": "stdout",
       "text": [
        "\n",
        "D:\\Data\\gpcp_extent//gpcp_1dd_v1.2_p1d.20080311.tif"
       ]
      },
      {
       "output_type": "stream",
       "stream": "stdout",
       "text": [
        "\n",
        "D:\\Data\\gpcp_extent//gpcp_1dd_v1.2_p1d.20080312.tif"
       ]
      },
      {
       "output_type": "stream",
       "stream": "stdout",
       "text": [
        "\n",
        "D:\\Data\\gpcp_extent//gpcp_1dd_v1.2_p1d.20080313.tif"
       ]
      },
      {
       "output_type": "stream",
       "stream": "stdout",
       "text": [
        "\n",
        "D:\\Data\\gpcp_extent//gpcp_1dd_v1.2_p1d.20080314.tif"
       ]
      },
      {
       "output_type": "stream",
       "stream": "stdout",
       "text": [
        "\n",
        "D:\\Data\\gpcp_extent//gpcp_1dd_v1.2_p1d.20080315.tif"
       ]
      },
      {
       "output_type": "stream",
       "stream": "stdout",
       "text": [
        "\n",
        "D:\\Data\\gpcp_extent//gpcp_1dd_v1.2_p1d.20080316.tif"
       ]
      },
      {
       "output_type": "stream",
       "stream": "stdout",
       "text": [
        "\n",
        "D:\\Data\\gpcp_extent//gpcp_1dd_v1.2_p1d.20080317.tif"
       ]
      },
      {
       "output_type": "stream",
       "stream": "stdout",
       "text": [
        "\n",
        "D:\\Data\\gpcp_extent//gpcp_1dd_v1.2_p1d.20080318.tif"
       ]
      },
      {
       "output_type": "stream",
       "stream": "stdout",
       "text": [
        "\n",
        "D:\\Data\\gpcp_extent//gpcp_1dd_v1.2_p1d.20080319.tif"
       ]
      },
      {
       "output_type": "stream",
       "stream": "stdout",
       "text": [
        "\n",
        "D:\\Data\\gpcp_extent//gpcp_1dd_v1.2_p1d.20080320.tif"
       ]
      },
      {
       "output_type": "stream",
       "stream": "stdout",
       "text": [
        "\n",
        "D:\\Data\\gpcp_extent//gpcp_1dd_v1.2_p1d.20080321.tif"
       ]
      },
      {
       "output_type": "stream",
       "stream": "stdout",
       "text": [
        "\n",
        "D:\\Data\\gpcp_extent//gpcp_1dd_v1.2_p1d.20080322.tif"
       ]
      },
      {
       "output_type": "stream",
       "stream": "stdout",
       "text": [
        "\n",
        "D:\\Data\\gpcp_extent//gpcp_1dd_v1.2_p1d.20080323.tif"
       ]
      },
      {
       "output_type": "stream",
       "stream": "stdout",
       "text": [
        "\n",
        "D:\\Data\\gpcp_extent//gpcp_1dd_v1.2_p1d.20080324.tif"
       ]
      },
      {
       "output_type": "stream",
       "stream": "stdout",
       "text": [
        "\n",
        "D:\\Data\\gpcp_extent//gpcp_1dd_v1.2_p1d.20080325.tif"
       ]
      },
      {
       "output_type": "stream",
       "stream": "stdout",
       "text": [
        "\n",
        "D:\\Data\\gpcp_extent//gpcp_1dd_v1.2_p1d.20080326.tif"
       ]
      },
      {
       "output_type": "stream",
       "stream": "stdout",
       "text": [
        "\n",
        "D:\\Data\\gpcp_extent//gpcp_1dd_v1.2_p1d.20080327.tif"
       ]
      },
      {
       "output_type": "stream",
       "stream": "stdout",
       "text": [
        "\n",
        "D:\\Data\\gpcp_extent//gpcp_1dd_v1.2_p1d.20080328.tif"
       ]
      },
      {
       "output_type": "stream",
       "stream": "stdout",
       "text": [
        "\n",
        "D:\\Data\\gpcp_extent//gpcp_1dd_v1.2_p1d.20080329.tif"
       ]
      },
      {
       "output_type": "stream",
       "stream": "stdout",
       "text": [
        "\n",
        "D:\\Data\\gpcp_extent//gpcp_1dd_v1.2_p1d.20080330.tif"
       ]
      },
      {
       "output_type": "stream",
       "stream": "stdout",
       "text": [
        "\n",
        "D:\\Data\\gpcp_extent//gpcp_1dd_v1.2_p1d.20080400.tif"
       ]
      },
      {
       "output_type": "stream",
       "stream": "stdout",
       "text": [
        "\n",
        "D:\\Data\\gpcp_extent//gpcp_1dd_v1.2_p1d.20080401.tif"
       ]
      },
      {
       "output_type": "stream",
       "stream": "stdout",
       "text": [
        "\n",
        "D:\\Data\\gpcp_extent//gpcp_1dd_v1.2_p1d.20080402.tif"
       ]
      },
      {
       "output_type": "stream",
       "stream": "stdout",
       "text": [
        "\n",
        "D:\\Data\\gpcp_extent//gpcp_1dd_v1.2_p1d.20080403.tif"
       ]
      },
      {
       "output_type": "stream",
       "stream": "stdout",
       "text": [
        "\n",
        "D:\\Data\\gpcp_extent//gpcp_1dd_v1.2_p1d.20080404.tif"
       ]
      },
      {
       "output_type": "stream",
       "stream": "stdout",
       "text": [
        "\n",
        "D:\\Data\\gpcp_extent//gpcp_1dd_v1.2_p1d.20080405.tif"
       ]
      },
      {
       "output_type": "stream",
       "stream": "stdout",
       "text": [
        "\n",
        "D:\\Data\\gpcp_extent//gpcp_1dd_v1.2_p1d.20080406.tif"
       ]
      },
      {
       "output_type": "stream",
       "stream": "stdout",
       "text": [
        "\n",
        "D:\\Data\\gpcp_extent//gpcp_1dd_v1.2_p1d.20080407.tif"
       ]
      },
      {
       "output_type": "stream",
       "stream": "stdout",
       "text": [
        "\n",
        "D:\\Data\\gpcp_extent//gpcp_1dd_v1.2_p1d.20080408.tif"
       ]
      },
      {
       "output_type": "stream",
       "stream": "stdout",
       "text": [
        "\n",
        "D:\\Data\\gpcp_extent//gpcp_1dd_v1.2_p1d.20080409.tif"
       ]
      },
      {
       "output_type": "stream",
       "stream": "stdout",
       "text": [
        "\n",
        "D:\\Data\\gpcp_extent//gpcp_1dd_v1.2_p1d.20080410.tif"
       ]
      },
      {
       "output_type": "stream",
       "stream": "stdout",
       "text": [
        "\n",
        "D:\\Data\\gpcp_extent//gpcp_1dd_v1.2_p1d.20080411.tif"
       ]
      },
      {
       "output_type": "stream",
       "stream": "stdout",
       "text": [
        "\n",
        "D:\\Data\\gpcp_extent//gpcp_1dd_v1.2_p1d.20080412.tif"
       ]
      },
      {
       "output_type": "stream",
       "stream": "stdout",
       "text": [
        "\n",
        "D:\\Data\\gpcp_extent//gpcp_1dd_v1.2_p1d.20080413.tif"
       ]
      },
      {
       "output_type": "stream",
       "stream": "stdout",
       "text": [
        "\n",
        "D:\\Data\\gpcp_extent//gpcp_1dd_v1.2_p1d.20080414.tif"
       ]
      },
      {
       "output_type": "stream",
       "stream": "stdout",
       "text": [
        "\n",
        "D:\\Data\\gpcp_extent//gpcp_1dd_v1.2_p1d.20080415.tif"
       ]
      },
      {
       "output_type": "stream",
       "stream": "stdout",
       "text": [
        "\n",
        "D:\\Data\\gpcp_extent//gpcp_1dd_v1.2_p1d.20080416.tif"
       ]
      },
      {
       "output_type": "stream",
       "stream": "stdout",
       "text": [
        "\n",
        "D:\\Data\\gpcp_extent//gpcp_1dd_v1.2_p1d.20080417.tif"
       ]
      },
      {
       "output_type": "stream",
       "stream": "stdout",
       "text": [
        "\n",
        "D:\\Data\\gpcp_extent//gpcp_1dd_v1.2_p1d.20080418.tif"
       ]
      },
      {
       "output_type": "stream",
       "stream": "stdout",
       "text": [
        "\n",
        "D:\\Data\\gpcp_extent//gpcp_1dd_v1.2_p1d.20080419.tif"
       ]
      },
      {
       "output_type": "stream",
       "stream": "stdout",
       "text": [
        "\n",
        "D:\\Data\\gpcp_extent//gpcp_1dd_v1.2_p1d.20080420.tif"
       ]
      },
      {
       "output_type": "stream",
       "stream": "stdout",
       "text": [
        "\n",
        "D:\\Data\\gpcp_extent//gpcp_1dd_v1.2_p1d.20080421.tif"
       ]
      },
      {
       "output_type": "stream",
       "stream": "stdout",
       "text": [
        "\n",
        "D:\\Data\\gpcp_extent//gpcp_1dd_v1.2_p1d.20080422.tif"
       ]
      },
      {
       "output_type": "stream",
       "stream": "stdout",
       "text": [
        "\n",
        "D:\\Data\\gpcp_extent//gpcp_1dd_v1.2_p1d.20080423.tif"
       ]
      },
      {
       "output_type": "stream",
       "stream": "stdout",
       "text": [
        "\n",
        "D:\\Data\\gpcp_extent//gpcp_1dd_v1.2_p1d.20080424.tif"
       ]
      },
      {
       "output_type": "stream",
       "stream": "stdout",
       "text": [
        "\n",
        "D:\\Data\\gpcp_extent//gpcp_1dd_v1.2_p1d.20080425.tif"
       ]
      },
      {
       "output_type": "stream",
       "stream": "stdout",
       "text": [
        "\n",
        "D:\\Data\\gpcp_extent//gpcp_1dd_v1.2_p1d.20080426.tif"
       ]
      },
      {
       "output_type": "stream",
       "stream": "stdout",
       "text": [
        "\n",
        "D:\\Data\\gpcp_extent//gpcp_1dd_v1.2_p1d.20080427.tif"
       ]
      },
      {
       "output_type": "stream",
       "stream": "stdout",
       "text": [
        "\n",
        "D:\\Data\\gpcp_extent//gpcp_1dd_v1.2_p1d.20080428.tif"
       ]
      },
      {
       "output_type": "stream",
       "stream": "stdout",
       "text": [
        "\n",
        "D:\\Data\\gpcp_extent//gpcp_1dd_v1.2_p1d.20080429.tif"
       ]
      },
      {
       "output_type": "stream",
       "stream": "stdout",
       "text": [
        "\n",
        "D:\\Data\\gpcp_extent//gpcp_1dd_v1.2_p1d.20080500.tif"
       ]
      },
      {
       "output_type": "stream",
       "stream": "stdout",
       "text": [
        "\n",
        "D:\\Data\\gpcp_extent//gpcp_1dd_v1.2_p1d.20080501.tif"
       ]
      },
      {
       "output_type": "stream",
       "stream": "stdout",
       "text": [
        "\n",
        "D:\\Data\\gpcp_extent//gpcp_1dd_v1.2_p1d.20080502.tif"
       ]
      },
      {
       "output_type": "stream",
       "stream": "stdout",
       "text": [
        "\n",
        "D:\\Data\\gpcp_extent//gpcp_1dd_v1.2_p1d.20080503.tif"
       ]
      },
      {
       "output_type": "stream",
       "stream": "stdout",
       "text": [
        "\n",
        "D:\\Data\\gpcp_extent//gpcp_1dd_v1.2_p1d.20080504.tif"
       ]
      },
      {
       "output_type": "stream",
       "stream": "stdout",
       "text": [
        "\n",
        "D:\\Data\\gpcp_extent//gpcp_1dd_v1.2_p1d.20080505.tif"
       ]
      },
      {
       "output_type": "stream",
       "stream": "stdout",
       "text": [
        "\n",
        "D:\\Data\\gpcp_extent//gpcp_1dd_v1.2_p1d.20080506.tif"
       ]
      },
      {
       "output_type": "stream",
       "stream": "stdout",
       "text": [
        "\n",
        "D:\\Data\\gpcp_extent//gpcp_1dd_v1.2_p1d.20080507.tif"
       ]
      },
      {
       "output_type": "stream",
       "stream": "stdout",
       "text": [
        "\n",
        "D:\\Data\\gpcp_extent//gpcp_1dd_v1.2_p1d.20080508.tif"
       ]
      },
      {
       "output_type": "stream",
       "stream": "stdout",
       "text": [
        "\n",
        "D:\\Data\\gpcp_extent//gpcp_1dd_v1.2_p1d.20080509.tif"
       ]
      },
      {
       "output_type": "stream",
       "stream": "stdout",
       "text": [
        "\n",
        "D:\\Data\\gpcp_extent//gpcp_1dd_v1.2_p1d.20080510.tif"
       ]
      },
      {
       "output_type": "stream",
       "stream": "stdout",
       "text": [
        "\n",
        "D:\\Data\\gpcp_extent//gpcp_1dd_v1.2_p1d.20080511.tif"
       ]
      },
      {
       "output_type": "stream",
       "stream": "stdout",
       "text": [
        "\n",
        "D:\\Data\\gpcp_extent//gpcp_1dd_v1.2_p1d.20080512.tif"
       ]
      },
      {
       "output_type": "stream",
       "stream": "stdout",
       "text": [
        "\n",
        "D:\\Data\\gpcp_extent//gpcp_1dd_v1.2_p1d.20080513.tif"
       ]
      },
      {
       "output_type": "stream",
       "stream": "stdout",
       "text": [
        "\n",
        "D:\\Data\\gpcp_extent//gpcp_1dd_v1.2_p1d.20080514.tif"
       ]
      },
      {
       "output_type": "stream",
       "stream": "stdout",
       "text": [
        "\n",
        "D:\\Data\\gpcp_extent//gpcp_1dd_v1.2_p1d.20080515.tif"
       ]
      },
      {
       "output_type": "stream",
       "stream": "stdout",
       "text": [
        "\n",
        "D:\\Data\\gpcp_extent//gpcp_1dd_v1.2_p1d.20080516.tif"
       ]
      },
      {
       "output_type": "stream",
       "stream": "stdout",
       "text": [
        "\n",
        "D:\\Data\\gpcp_extent//gpcp_1dd_v1.2_p1d.20080517.tif"
       ]
      },
      {
       "output_type": "stream",
       "stream": "stdout",
       "text": [
        "\n",
        "D:\\Data\\gpcp_extent//gpcp_1dd_v1.2_p1d.20080518.tif"
       ]
      },
      {
       "output_type": "stream",
       "stream": "stdout",
       "text": [
        "\n",
        "D:\\Data\\gpcp_extent//gpcp_1dd_v1.2_p1d.20080519.tif"
       ]
      },
      {
       "output_type": "stream",
       "stream": "stdout",
       "text": [
        "\n",
        "D:\\Data\\gpcp_extent//gpcp_1dd_v1.2_p1d.20080520.tif"
       ]
      },
      {
       "output_type": "stream",
       "stream": "stdout",
       "text": [
        "\n",
        "D:\\Data\\gpcp_extent//gpcp_1dd_v1.2_p1d.20080521.tif"
       ]
      },
      {
       "output_type": "stream",
       "stream": "stdout",
       "text": [
        "\n",
        "D:\\Data\\gpcp_extent//gpcp_1dd_v1.2_p1d.20080522.tif"
       ]
      },
      {
       "output_type": "stream",
       "stream": "stdout",
       "text": [
        "\n",
        "D:\\Data\\gpcp_extent//gpcp_1dd_v1.2_p1d.20080523.tif"
       ]
      },
      {
       "output_type": "stream",
       "stream": "stdout",
       "text": [
        "\n",
        "D:\\Data\\gpcp_extent//gpcp_1dd_v1.2_p1d.20080524.tif"
       ]
      },
      {
       "output_type": "stream",
       "stream": "stdout",
       "text": [
        "\n",
        "D:\\Data\\gpcp_extent//gpcp_1dd_v1.2_p1d.20080525.tif"
       ]
      },
      {
       "output_type": "stream",
       "stream": "stdout",
       "text": [
        "\n",
        "D:\\Data\\gpcp_extent//gpcp_1dd_v1.2_p1d.20080526.tif"
       ]
      },
      {
       "output_type": "stream",
       "stream": "stdout",
       "text": [
        "\n",
        "D:\\Data\\gpcp_extent//gpcp_1dd_v1.2_p1d.20080527.tif"
       ]
      },
      {
       "output_type": "stream",
       "stream": "stdout",
       "text": [
        "\n",
        "D:\\Data\\gpcp_extent//gpcp_1dd_v1.2_p1d.20080528.tif"
       ]
      },
      {
       "output_type": "stream",
       "stream": "stdout",
       "text": [
        "\n",
        "D:\\Data\\gpcp_extent//gpcp_1dd_v1.2_p1d.20080529.tif"
       ]
      },
      {
       "output_type": "stream",
       "stream": "stdout",
       "text": [
        "\n",
        "D:\\Data\\gpcp_extent//gpcp_1dd_v1.2_p1d.20080530.tif"
       ]
      },
      {
       "output_type": "stream",
       "stream": "stdout",
       "text": [
        "\n",
        "D:\\Data\\gpcp_extent//gpcp_1dd_v1.2_p1d.20080600.tif"
       ]
      },
      {
       "output_type": "stream",
       "stream": "stdout",
       "text": [
        "\n",
        "D:\\Data\\gpcp_extent//gpcp_1dd_v1.2_p1d.20080601.tif"
       ]
      },
      {
       "output_type": "stream",
       "stream": "stdout",
       "text": [
        "\n",
        "D:\\Data\\gpcp_extent//gpcp_1dd_v1.2_p1d.20080602.tif"
       ]
      },
      {
       "output_type": "stream",
       "stream": "stdout",
       "text": [
        "\n",
        "D:\\Data\\gpcp_extent//gpcp_1dd_v1.2_p1d.20080603.tif"
       ]
      },
      {
       "output_type": "stream",
       "stream": "stdout",
       "text": [
        "\n",
        "D:\\Data\\gpcp_extent//gpcp_1dd_v1.2_p1d.20080604.tif"
       ]
      },
      {
       "output_type": "stream",
       "stream": "stdout",
       "text": [
        "\n",
        "D:\\Data\\gpcp_extent//gpcp_1dd_v1.2_p1d.20080605.tif"
       ]
      },
      {
       "output_type": "stream",
       "stream": "stdout",
       "text": [
        "\n",
        "D:\\Data\\gpcp_extent//gpcp_1dd_v1.2_p1d.20080606.tif"
       ]
      },
      {
       "output_type": "stream",
       "stream": "stdout",
       "text": [
        "\n",
        "D:\\Data\\gpcp_extent//gpcp_1dd_v1.2_p1d.20080607.tif"
       ]
      },
      {
       "output_type": "stream",
       "stream": "stdout",
       "text": [
        "\n",
        "D:\\Data\\gpcp_extent//gpcp_1dd_v1.2_p1d.20080608.tif"
       ]
      },
      {
       "output_type": "stream",
       "stream": "stdout",
       "text": [
        "\n",
        "D:\\Data\\gpcp_extent//gpcp_1dd_v1.2_p1d.20080609.tif"
       ]
      },
      {
       "output_type": "stream",
       "stream": "stdout",
       "text": [
        "\n",
        "D:\\Data\\gpcp_extent//gpcp_1dd_v1.2_p1d.20080610.tif"
       ]
      },
      {
       "output_type": "stream",
       "stream": "stdout",
       "text": [
        "\n",
        "D:\\Data\\gpcp_extent//gpcp_1dd_v1.2_p1d.20080611.tif"
       ]
      },
      {
       "output_type": "stream",
       "stream": "stdout",
       "text": [
        "\n",
        "D:\\Data\\gpcp_extent//gpcp_1dd_v1.2_p1d.20080612.tif"
       ]
      },
      {
       "output_type": "stream",
       "stream": "stdout",
       "text": [
        "\n",
        "D:\\Data\\gpcp_extent//gpcp_1dd_v1.2_p1d.20080613.tif"
       ]
      },
      {
       "output_type": "stream",
       "stream": "stdout",
       "text": [
        "\n",
        "D:\\Data\\gpcp_extent//gpcp_1dd_v1.2_p1d.20080614.tif"
       ]
      },
      {
       "output_type": "stream",
       "stream": "stdout",
       "text": [
        "\n",
        "D:\\Data\\gpcp_extent//gpcp_1dd_v1.2_p1d.20080615.tif"
       ]
      },
      {
       "output_type": "stream",
       "stream": "stdout",
       "text": [
        "\n",
        "D:\\Data\\gpcp_extent//gpcp_1dd_v1.2_p1d.20080616.tif"
       ]
      },
      {
       "output_type": "stream",
       "stream": "stdout",
       "text": [
        "\n",
        "D:\\Data\\gpcp_extent//gpcp_1dd_v1.2_p1d.20080617.tif"
       ]
      },
      {
       "output_type": "stream",
       "stream": "stdout",
       "text": [
        "\n",
        "D:\\Data\\gpcp_extent//gpcp_1dd_v1.2_p1d.20080618.tif"
       ]
      },
      {
       "output_type": "stream",
       "stream": "stdout",
       "text": [
        "\n",
        "D:\\Data\\gpcp_extent//gpcp_1dd_v1.2_p1d.20080619.tif"
       ]
      },
      {
       "output_type": "stream",
       "stream": "stdout",
       "text": [
        "\n",
        "D:\\Data\\gpcp_extent//gpcp_1dd_v1.2_p1d.20080620.tif"
       ]
      },
      {
       "output_type": "stream",
       "stream": "stdout",
       "text": [
        "\n",
        "D:\\Data\\gpcp_extent//gpcp_1dd_v1.2_p1d.20080621.tif"
       ]
      },
      {
       "output_type": "stream",
       "stream": "stdout",
       "text": [
        "\n",
        "D:\\Data\\gpcp_extent//gpcp_1dd_v1.2_p1d.20080622.tif"
       ]
      },
      {
       "output_type": "stream",
       "stream": "stdout",
       "text": [
        "\n",
        "D:\\Data\\gpcp_extent//gpcp_1dd_v1.2_p1d.20080623.tif"
       ]
      },
      {
       "output_type": "stream",
       "stream": "stdout",
       "text": [
        "\n",
        "D:\\Data\\gpcp_extent//gpcp_1dd_v1.2_p1d.20080624.tif"
       ]
      },
      {
       "output_type": "stream",
       "stream": "stdout",
       "text": [
        "\n",
        "D:\\Data\\gpcp_extent//gpcp_1dd_v1.2_p1d.20080625.tif"
       ]
      },
      {
       "output_type": "stream",
       "stream": "stdout",
       "text": [
        "\n",
        "D:\\Data\\gpcp_extent//gpcp_1dd_v1.2_p1d.20080626.tif"
       ]
      },
      {
       "output_type": "stream",
       "stream": "stdout",
       "text": [
        "\n",
        "D:\\Data\\gpcp_extent//gpcp_1dd_v1.2_p1d.20080627.tif"
       ]
      },
      {
       "output_type": "stream",
       "stream": "stdout",
       "text": [
        "\n",
        "D:\\Data\\gpcp_extent//gpcp_1dd_v1.2_p1d.20080628.tif"
       ]
      },
      {
       "output_type": "stream",
       "stream": "stdout",
       "text": [
        "\n",
        "D:\\Data\\gpcp_extent//gpcp_1dd_v1.2_p1d.20080629.tif"
       ]
      },
      {
       "output_type": "stream",
       "stream": "stdout",
       "text": [
        "\n",
        "D:\\Data\\gpcp_extent//gpcp_1dd_v1.2_p1d.20080700.tif"
       ]
      },
      {
       "output_type": "stream",
       "stream": "stdout",
       "text": [
        "\n",
        "D:\\Data\\gpcp_extent//gpcp_1dd_v1.2_p1d.20080701.tif"
       ]
      },
      {
       "output_type": "stream",
       "stream": "stdout",
       "text": [
        "\n",
        "D:\\Data\\gpcp_extent//gpcp_1dd_v1.2_p1d.20080702.tif"
       ]
      },
      {
       "output_type": "stream",
       "stream": "stdout",
       "text": [
        "\n",
        "D:\\Data\\gpcp_extent//gpcp_1dd_v1.2_p1d.20080703.tif"
       ]
      },
      {
       "output_type": "stream",
       "stream": "stdout",
       "text": [
        "\n",
        "D:\\Data\\gpcp_extent//gpcp_1dd_v1.2_p1d.20080704.tif"
       ]
      },
      {
       "output_type": "stream",
       "stream": "stdout",
       "text": [
        "\n",
        "D:\\Data\\gpcp_extent//gpcp_1dd_v1.2_p1d.20080705.tif"
       ]
      },
      {
       "output_type": "stream",
       "stream": "stdout",
       "text": [
        "\n",
        "D:\\Data\\gpcp_extent//gpcp_1dd_v1.2_p1d.20080706.tif"
       ]
      },
      {
       "output_type": "stream",
       "stream": "stdout",
       "text": [
        "\n",
        "D:\\Data\\gpcp_extent//gpcp_1dd_v1.2_p1d.20080707.tif"
       ]
      },
      {
       "output_type": "stream",
       "stream": "stdout",
       "text": [
        "\n",
        "D:\\Data\\gpcp_extent//gpcp_1dd_v1.2_p1d.20080708.tif"
       ]
      },
      {
       "output_type": "stream",
       "stream": "stdout",
       "text": [
        "\n",
        "D:\\Data\\gpcp_extent//gpcp_1dd_v1.2_p1d.20080709.tif"
       ]
      },
      {
       "output_type": "stream",
       "stream": "stdout",
       "text": [
        "\n",
        "D:\\Data\\gpcp_extent//gpcp_1dd_v1.2_p1d.20080710.tif"
       ]
      },
      {
       "output_type": "stream",
       "stream": "stdout",
       "text": [
        "\n",
        "D:\\Data\\gpcp_extent//gpcp_1dd_v1.2_p1d.20080711.tif"
       ]
      },
      {
       "output_type": "stream",
       "stream": "stdout",
       "text": [
        "\n",
        "D:\\Data\\gpcp_extent//gpcp_1dd_v1.2_p1d.20080712.tif"
       ]
      },
      {
       "output_type": "stream",
       "stream": "stdout",
       "text": [
        "\n",
        "D:\\Data\\gpcp_extent//gpcp_1dd_v1.2_p1d.20080713.tif"
       ]
      },
      {
       "output_type": "stream",
       "stream": "stdout",
       "text": [
        "\n",
        "D:\\Data\\gpcp_extent//gpcp_1dd_v1.2_p1d.20080714.tif"
       ]
      },
      {
       "output_type": "stream",
       "stream": "stdout",
       "text": [
        "\n",
        "D:\\Data\\gpcp_extent//gpcp_1dd_v1.2_p1d.20080715.tif"
       ]
      },
      {
       "output_type": "stream",
       "stream": "stdout",
       "text": [
        "\n",
        "D:\\Data\\gpcp_extent//gpcp_1dd_v1.2_p1d.20080716.tif"
       ]
      },
      {
       "output_type": "stream",
       "stream": "stdout",
       "text": [
        "\n",
        "D:\\Data\\gpcp_extent//gpcp_1dd_v1.2_p1d.20080717.tif"
       ]
      },
      {
       "output_type": "stream",
       "stream": "stdout",
       "text": [
        "\n",
        "D:\\Data\\gpcp_extent//gpcp_1dd_v1.2_p1d.20080718.tif"
       ]
      },
      {
       "output_type": "stream",
       "stream": "stdout",
       "text": [
        "\n",
        "D:\\Data\\gpcp_extent//gpcp_1dd_v1.2_p1d.20080719.tif"
       ]
      },
      {
       "output_type": "stream",
       "stream": "stdout",
       "text": [
        "\n",
        "D:\\Data\\gpcp_extent//gpcp_1dd_v1.2_p1d.20080720.tif"
       ]
      },
      {
       "output_type": "stream",
       "stream": "stdout",
       "text": [
        "\n",
        "D:\\Data\\gpcp_extent//gpcp_1dd_v1.2_p1d.20080721.tif"
       ]
      },
      {
       "output_type": "stream",
       "stream": "stdout",
       "text": [
        "\n",
        "D:\\Data\\gpcp_extent//gpcp_1dd_v1.2_p1d.20080722.tif"
       ]
      },
      {
       "output_type": "stream",
       "stream": "stdout",
       "text": [
        "\n",
        "D:\\Data\\gpcp_extent//gpcp_1dd_v1.2_p1d.20080723.tif"
       ]
      },
      {
       "output_type": "stream",
       "stream": "stdout",
       "text": [
        "\n",
        "D:\\Data\\gpcp_extent//gpcp_1dd_v1.2_p1d.20080724.tif"
       ]
      },
      {
       "output_type": "stream",
       "stream": "stdout",
       "text": [
        "\n",
        "D:\\Data\\gpcp_extent//gpcp_1dd_v1.2_p1d.20080725.tif"
       ]
      },
      {
       "output_type": "stream",
       "stream": "stdout",
       "text": [
        "\n",
        "D:\\Data\\gpcp_extent//gpcp_1dd_v1.2_p1d.20080726.tif"
       ]
      },
      {
       "output_type": "stream",
       "stream": "stdout",
       "text": [
        "\n",
        "D:\\Data\\gpcp_extent//gpcp_1dd_v1.2_p1d.20080727.tif"
       ]
      },
      {
       "output_type": "stream",
       "stream": "stdout",
       "text": [
        "\n",
        "D:\\Data\\gpcp_extent//gpcp_1dd_v1.2_p1d.20080728.tif"
       ]
      },
      {
       "output_type": "stream",
       "stream": "stdout",
       "text": [
        "\n",
        "D:\\Data\\gpcp_extent//gpcp_1dd_v1.2_p1d.20080729.tif"
       ]
      },
      {
       "output_type": "stream",
       "stream": "stdout",
       "text": [
        "\n",
        "D:\\Data\\gpcp_extent//gpcp_1dd_v1.2_p1d.20080730.tif"
       ]
      },
      {
       "output_type": "stream",
       "stream": "stdout",
       "text": [
        "\n",
        "D:\\Data\\gpcp_extent//gpcp_1dd_v1.2_p1d.20080800.tif"
       ]
      },
      {
       "output_type": "stream",
       "stream": "stdout",
       "text": [
        "\n",
        "D:\\Data\\gpcp_extent//gpcp_1dd_v1.2_p1d.20080801.tif"
       ]
      },
      {
       "output_type": "stream",
       "stream": "stdout",
       "text": [
        "\n",
        "D:\\Data\\gpcp_extent//gpcp_1dd_v1.2_p1d.20080802.tif"
       ]
      },
      {
       "output_type": "stream",
       "stream": "stdout",
       "text": [
        "\n",
        "D:\\Data\\gpcp_extent//gpcp_1dd_v1.2_p1d.20080803.tif"
       ]
      },
      {
       "output_type": "stream",
       "stream": "stdout",
       "text": [
        "\n",
        "D:\\Data\\gpcp_extent//gpcp_1dd_v1.2_p1d.20080804.tif"
       ]
      },
      {
       "output_type": "stream",
       "stream": "stdout",
       "text": [
        "\n",
        "D:\\Data\\gpcp_extent//gpcp_1dd_v1.2_p1d.20080805.tif"
       ]
      },
      {
       "output_type": "stream",
       "stream": "stdout",
       "text": [
        "\n",
        "D:\\Data\\gpcp_extent//gpcp_1dd_v1.2_p1d.20080806.tif"
       ]
      },
      {
       "output_type": "stream",
       "stream": "stdout",
       "text": [
        "\n",
        "D:\\Data\\gpcp_extent//gpcp_1dd_v1.2_p1d.20080807.tif"
       ]
      },
      {
       "output_type": "stream",
       "stream": "stdout",
       "text": [
        "\n",
        "D:\\Data\\gpcp_extent//gpcp_1dd_v1.2_p1d.20080808.tif"
       ]
      },
      {
       "output_type": "stream",
       "stream": "stdout",
       "text": [
        "\n",
        "D:\\Data\\gpcp_extent//gpcp_1dd_v1.2_p1d.20080809.tif"
       ]
      },
      {
       "output_type": "stream",
       "stream": "stdout",
       "text": [
        "\n",
        "D:\\Data\\gpcp_extent//gpcp_1dd_v1.2_p1d.20080810.tif"
       ]
      },
      {
       "output_type": "stream",
       "stream": "stdout",
       "text": [
        "\n",
        "D:\\Data\\gpcp_extent//gpcp_1dd_v1.2_p1d.20080811.tif"
       ]
      },
      {
       "output_type": "stream",
       "stream": "stdout",
       "text": [
        "\n",
        "D:\\Data\\gpcp_extent//gpcp_1dd_v1.2_p1d.20080812.tif"
       ]
      },
      {
       "output_type": "stream",
       "stream": "stdout",
       "text": [
        "\n",
        "D:\\Data\\gpcp_extent//gpcp_1dd_v1.2_p1d.20080813.tif"
       ]
      },
      {
       "output_type": "stream",
       "stream": "stdout",
       "text": [
        "\n",
        "D:\\Data\\gpcp_extent//gpcp_1dd_v1.2_p1d.20080814.tif"
       ]
      },
      {
       "output_type": "stream",
       "stream": "stdout",
       "text": [
        "\n",
        "D:\\Data\\gpcp_extent//gpcp_1dd_v1.2_p1d.20080815.tif"
       ]
      },
      {
       "output_type": "stream",
       "stream": "stdout",
       "text": [
        "\n",
        "D:\\Data\\gpcp_extent//gpcp_1dd_v1.2_p1d.20080816.tif"
       ]
      },
      {
       "output_type": "stream",
       "stream": "stdout",
       "text": [
        "\n",
        "D:\\Data\\gpcp_extent//gpcp_1dd_v1.2_p1d.20080817.tif"
       ]
      },
      {
       "output_type": "stream",
       "stream": "stdout",
       "text": [
        "\n",
        "D:\\Data\\gpcp_extent//gpcp_1dd_v1.2_p1d.20080818.tif"
       ]
      },
      {
       "output_type": "stream",
       "stream": "stdout",
       "text": [
        "\n",
        "D:\\Data\\gpcp_extent//gpcp_1dd_v1.2_p1d.20080819.tif"
       ]
      },
      {
       "output_type": "stream",
       "stream": "stdout",
       "text": [
        "\n",
        "D:\\Data\\gpcp_extent//gpcp_1dd_v1.2_p1d.20080820.tif"
       ]
      },
      {
       "output_type": "stream",
       "stream": "stdout",
       "text": [
        "\n",
        "D:\\Data\\gpcp_extent//gpcp_1dd_v1.2_p1d.20080821.tif"
       ]
      },
      {
       "output_type": "stream",
       "stream": "stdout",
       "text": [
        "\n",
        "D:\\Data\\gpcp_extent//gpcp_1dd_v1.2_p1d.20080822.tif"
       ]
      },
      {
       "output_type": "stream",
       "stream": "stdout",
       "text": [
        "\n",
        "D:\\Data\\gpcp_extent//gpcp_1dd_v1.2_p1d.20080823.tif"
       ]
      },
      {
       "output_type": "stream",
       "stream": "stdout",
       "text": [
        "\n",
        "D:\\Data\\gpcp_extent//gpcp_1dd_v1.2_p1d.20080824.tif"
       ]
      },
      {
       "output_type": "stream",
       "stream": "stdout",
       "text": [
        "\n",
        "D:\\Data\\gpcp_extent//gpcp_1dd_v1.2_p1d.20080825.tif"
       ]
      },
      {
       "output_type": "stream",
       "stream": "stdout",
       "text": [
        "\n",
        "D:\\Data\\gpcp_extent//gpcp_1dd_v1.2_p1d.20080826.tif"
       ]
      },
      {
       "output_type": "stream",
       "stream": "stdout",
       "text": [
        "\n",
        "D:\\Data\\gpcp_extent//gpcp_1dd_v1.2_p1d.20080827.tif"
       ]
      },
      {
       "output_type": "stream",
       "stream": "stdout",
       "text": [
        "\n",
        "D:\\Data\\gpcp_extent//gpcp_1dd_v1.2_p1d.20080828.tif"
       ]
      },
      {
       "output_type": "stream",
       "stream": "stdout",
       "text": [
        "\n",
        "D:\\Data\\gpcp_extent//gpcp_1dd_v1.2_p1d.20080829.tif"
       ]
      },
      {
       "output_type": "stream",
       "stream": "stdout",
       "text": [
        "\n",
        "D:\\Data\\gpcp_extent//gpcp_1dd_v1.2_p1d.20080830.tif"
       ]
      },
      {
       "output_type": "stream",
       "stream": "stdout",
       "text": [
        "\n",
        "D:\\Data\\gpcp_extent//gpcp_1dd_v1.2_p1d.20080900.tif"
       ]
      },
      {
       "output_type": "stream",
       "stream": "stdout",
       "text": [
        "\n",
        "D:\\Data\\gpcp_extent//gpcp_1dd_v1.2_p1d.20080901.tif"
       ]
      },
      {
       "output_type": "stream",
       "stream": "stdout",
       "text": [
        "\n",
        "D:\\Data\\gpcp_extent//gpcp_1dd_v1.2_p1d.20080902.tif"
       ]
      },
      {
       "output_type": "stream",
       "stream": "stdout",
       "text": [
        "\n",
        "D:\\Data\\gpcp_extent//gpcp_1dd_v1.2_p1d.20080903.tif"
       ]
      },
      {
       "output_type": "stream",
       "stream": "stdout",
       "text": [
        "\n",
        "D:\\Data\\gpcp_extent//gpcp_1dd_v1.2_p1d.20080904.tif"
       ]
      },
      {
       "output_type": "stream",
       "stream": "stdout",
       "text": [
        "\n",
        "D:\\Data\\gpcp_extent//gpcp_1dd_v1.2_p1d.20080905.tif"
       ]
      },
      {
       "output_type": "stream",
       "stream": "stdout",
       "text": [
        "\n",
        "D:\\Data\\gpcp_extent//gpcp_1dd_v1.2_p1d.20080906.tif"
       ]
      },
      {
       "output_type": "stream",
       "stream": "stdout",
       "text": [
        "\n",
        "D:\\Data\\gpcp_extent//gpcp_1dd_v1.2_p1d.20080907.tif"
       ]
      },
      {
       "output_type": "stream",
       "stream": "stdout",
       "text": [
        "\n",
        "D:\\Data\\gpcp_extent//gpcp_1dd_v1.2_p1d.20080908.tif"
       ]
      },
      {
       "output_type": "stream",
       "stream": "stdout",
       "text": [
        "\n",
        "D:\\Data\\gpcp_extent//gpcp_1dd_v1.2_p1d.20080909.tif"
       ]
      },
      {
       "output_type": "stream",
       "stream": "stdout",
       "text": [
        "\n",
        "D:\\Data\\gpcp_extent//gpcp_1dd_v1.2_p1d.20080910.tif"
       ]
      },
      {
       "output_type": "stream",
       "stream": "stdout",
       "text": [
        "\n",
        "D:\\Data\\gpcp_extent//gpcp_1dd_v1.2_p1d.20080911.tif"
       ]
      },
      {
       "output_type": "stream",
       "stream": "stdout",
       "text": [
        "\n",
        "D:\\Data\\gpcp_extent//gpcp_1dd_v1.2_p1d.20080912.tif"
       ]
      },
      {
       "output_type": "stream",
       "stream": "stdout",
       "text": [
        "\n",
        "D:\\Data\\gpcp_extent//gpcp_1dd_v1.2_p1d.20080913.tif"
       ]
      },
      {
       "output_type": "stream",
       "stream": "stdout",
       "text": [
        "\n",
        "D:\\Data\\gpcp_extent//gpcp_1dd_v1.2_p1d.20080914.tif"
       ]
      },
      {
       "output_type": "stream",
       "stream": "stdout",
       "text": [
        "\n",
        "D:\\Data\\gpcp_extent//gpcp_1dd_v1.2_p1d.20080915.tif"
       ]
      },
      {
       "output_type": "stream",
       "stream": "stdout",
       "text": [
        "\n",
        "D:\\Data\\gpcp_extent//gpcp_1dd_v1.2_p1d.20080916.tif"
       ]
      },
      {
       "output_type": "stream",
       "stream": "stdout",
       "text": [
        "\n",
        "D:\\Data\\gpcp_extent//gpcp_1dd_v1.2_p1d.20080917.tif"
       ]
      },
      {
       "output_type": "stream",
       "stream": "stdout",
       "text": [
        "\n",
        "D:\\Data\\gpcp_extent//gpcp_1dd_v1.2_p1d.20080918.tif"
       ]
      },
      {
       "output_type": "stream",
       "stream": "stdout",
       "text": [
        "\n",
        "D:\\Data\\gpcp_extent//gpcp_1dd_v1.2_p1d.20080919.tif"
       ]
      },
      {
       "output_type": "stream",
       "stream": "stdout",
       "text": [
        "\n",
        "D:\\Data\\gpcp_extent//gpcp_1dd_v1.2_p1d.20080920.tif"
       ]
      },
      {
       "output_type": "stream",
       "stream": "stdout",
       "text": [
        "\n",
        "D:\\Data\\gpcp_extent//gpcp_1dd_v1.2_p1d.20080921.tif"
       ]
      },
      {
       "output_type": "stream",
       "stream": "stdout",
       "text": [
        "\n",
        "D:\\Data\\gpcp_extent//gpcp_1dd_v1.2_p1d.20080922.tif"
       ]
      },
      {
       "output_type": "stream",
       "stream": "stdout",
       "text": [
        "\n",
        "D:\\Data\\gpcp_extent//gpcp_1dd_v1.2_p1d.20080923.tif"
       ]
      },
      {
       "output_type": "stream",
       "stream": "stdout",
       "text": [
        "\n",
        "D:\\Data\\gpcp_extent//gpcp_1dd_v1.2_p1d.20080924.tif"
       ]
      },
      {
       "output_type": "stream",
       "stream": "stdout",
       "text": [
        "\n",
        "D:\\Data\\gpcp_extent//gpcp_1dd_v1.2_p1d.20080925.tif"
       ]
      },
      {
       "output_type": "stream",
       "stream": "stdout",
       "text": [
        "\n",
        "D:\\Data\\gpcp_extent//gpcp_1dd_v1.2_p1d.20080926.tif"
       ]
      },
      {
       "output_type": "stream",
       "stream": "stdout",
       "text": [
        "\n",
        "D:\\Data\\gpcp_extent//gpcp_1dd_v1.2_p1d.20080927.tif"
       ]
      },
      {
       "output_type": "stream",
       "stream": "stdout",
       "text": [
        "\n",
        "D:\\Data\\gpcp_extent//gpcp_1dd_v1.2_p1d.20080928.tif"
       ]
      },
      {
       "output_type": "stream",
       "stream": "stdout",
       "text": [
        "\n",
        "D:\\Data\\gpcp_extent//gpcp_1dd_v1.2_p1d.20080929.tif"
       ]
      },
      {
       "output_type": "stream",
       "stream": "stdout",
       "text": [
        "\n",
        "D:\\Data\\gpcp_extent//gpcp_1dd_v1.2_p1d.20081000.tif"
       ]
      },
      {
       "output_type": "stream",
       "stream": "stdout",
       "text": [
        "\n",
        "D:\\Data\\gpcp_extent//gpcp_1dd_v1.2_p1d.20081001.tif"
       ]
      },
      {
       "output_type": "stream",
       "stream": "stdout",
       "text": [
        "\n",
        "D:\\Data\\gpcp_extent//gpcp_1dd_v1.2_p1d.20081002.tif"
       ]
      },
      {
       "output_type": "stream",
       "stream": "stdout",
       "text": [
        "\n",
        "D:\\Data\\gpcp_extent//gpcp_1dd_v1.2_p1d.20081003.tif"
       ]
      },
      {
       "output_type": "stream",
       "stream": "stdout",
       "text": [
        "\n",
        "D:\\Data\\gpcp_extent//gpcp_1dd_v1.2_p1d.20081004.tif"
       ]
      },
      {
       "output_type": "stream",
       "stream": "stdout",
       "text": [
        "\n",
        "D:\\Data\\gpcp_extent//gpcp_1dd_v1.2_p1d.20081005.tif"
       ]
      },
      {
       "output_type": "stream",
       "stream": "stdout",
       "text": [
        "\n",
        "D:\\Data\\gpcp_extent//gpcp_1dd_v1.2_p1d.20081006.tif"
       ]
      },
      {
       "output_type": "stream",
       "stream": "stdout",
       "text": [
        "\n",
        "D:\\Data\\gpcp_extent//gpcp_1dd_v1.2_p1d.20081007.tif"
       ]
      },
      {
       "output_type": "stream",
       "stream": "stdout",
       "text": [
        "\n",
        "D:\\Data\\gpcp_extent//gpcp_1dd_v1.2_p1d.20081008.tif"
       ]
      },
      {
       "output_type": "stream",
       "stream": "stdout",
       "text": [
        "\n",
        "D:\\Data\\gpcp_extent//gpcp_1dd_v1.2_p1d.20081009.tif"
       ]
      },
      {
       "output_type": "stream",
       "stream": "stdout",
       "text": [
        "\n",
        "D:\\Data\\gpcp_extent//gpcp_1dd_v1.2_p1d.20081010.tif"
       ]
      },
      {
       "output_type": "stream",
       "stream": "stdout",
       "text": [
        "\n",
        "D:\\Data\\gpcp_extent//gpcp_1dd_v1.2_p1d.20081011.tif"
       ]
      },
      {
       "output_type": "stream",
       "stream": "stdout",
       "text": [
        "\n",
        "D:\\Data\\gpcp_extent//gpcp_1dd_v1.2_p1d.20081012.tif"
       ]
      },
      {
       "output_type": "stream",
       "stream": "stdout",
       "text": [
        "\n",
        "D:\\Data\\gpcp_extent//gpcp_1dd_v1.2_p1d.20081013.tif"
       ]
      },
      {
       "output_type": "stream",
       "stream": "stdout",
       "text": [
        "\n",
        "D:\\Data\\gpcp_extent//gpcp_1dd_v1.2_p1d.20081014.tif"
       ]
      },
      {
       "output_type": "stream",
       "stream": "stdout",
       "text": [
        "\n",
        "D:\\Data\\gpcp_extent//gpcp_1dd_v1.2_p1d.20081015.tif"
       ]
      },
      {
       "output_type": "stream",
       "stream": "stdout",
       "text": [
        "\n",
        "D:\\Data\\gpcp_extent//gpcp_1dd_v1.2_p1d.20081016.tif"
       ]
      },
      {
       "output_type": "stream",
       "stream": "stdout",
       "text": [
        "\n",
        "D:\\Data\\gpcp_extent//gpcp_1dd_v1.2_p1d.20081017.tif"
       ]
      },
      {
       "output_type": "stream",
       "stream": "stdout",
       "text": [
        "\n",
        "D:\\Data\\gpcp_extent//gpcp_1dd_v1.2_p1d.20081018.tif"
       ]
      },
      {
       "output_type": "stream",
       "stream": "stdout",
       "text": [
        "\n",
        "D:\\Data\\gpcp_extent//gpcp_1dd_v1.2_p1d.20081019.tif"
       ]
      },
      {
       "output_type": "stream",
       "stream": "stdout",
       "text": [
        "\n",
        "D:\\Data\\gpcp_extent//gpcp_1dd_v1.2_p1d.20081020.tif"
       ]
      },
      {
       "output_type": "stream",
       "stream": "stdout",
       "text": [
        "\n",
        "D:\\Data\\gpcp_extent//gpcp_1dd_v1.2_p1d.20081021.tif"
       ]
      },
      {
       "output_type": "stream",
       "stream": "stdout",
       "text": [
        "\n",
        "D:\\Data\\gpcp_extent//gpcp_1dd_v1.2_p1d.20081022.tif"
       ]
      },
      {
       "output_type": "stream",
       "stream": "stdout",
       "text": [
        "\n",
        "D:\\Data\\gpcp_extent//gpcp_1dd_v1.2_p1d.20081023.tif"
       ]
      },
      {
       "output_type": "stream",
       "stream": "stdout",
       "text": [
        "\n",
        "D:\\Data\\gpcp_extent//gpcp_1dd_v1.2_p1d.20081024.tif"
       ]
      },
      {
       "output_type": "stream",
       "stream": "stdout",
       "text": [
        "\n",
        "D:\\Data\\gpcp_extent//gpcp_1dd_v1.2_p1d.20081025.tif"
       ]
      },
      {
       "output_type": "stream",
       "stream": "stdout",
       "text": [
        "\n",
        "D:\\Data\\gpcp_extent//gpcp_1dd_v1.2_p1d.20081026.tif"
       ]
      },
      {
       "output_type": "stream",
       "stream": "stdout",
       "text": [
        "\n",
        "D:\\Data\\gpcp_extent//gpcp_1dd_v1.2_p1d.20081027.tif"
       ]
      },
      {
       "output_type": "stream",
       "stream": "stdout",
       "text": [
        "\n",
        "D:\\Data\\gpcp_extent//gpcp_1dd_v1.2_p1d.20081028.tif"
       ]
      },
      {
       "output_type": "stream",
       "stream": "stdout",
       "text": [
        "\n",
        "D:\\Data\\gpcp_extent//gpcp_1dd_v1.2_p1d.20081029.tif"
       ]
      },
      {
       "output_type": "stream",
       "stream": "stdout",
       "text": [
        "\n",
        "D:\\Data\\gpcp_extent//gpcp_1dd_v1.2_p1d.20081030.tif"
       ]
      },
      {
       "output_type": "stream",
       "stream": "stdout",
       "text": [
        "\n",
        "D:\\Data\\gpcp_extent//gpcp_1dd_v1.2_p1d.20081100.tif"
       ]
      },
      {
       "output_type": "stream",
       "stream": "stdout",
       "text": [
        "\n",
        "D:\\Data\\gpcp_extent//gpcp_1dd_v1.2_p1d.20081101.tif"
       ]
      },
      {
       "output_type": "stream",
       "stream": "stdout",
       "text": [
        "\n",
        "D:\\Data\\gpcp_extent//gpcp_1dd_v1.2_p1d.20081102.tif"
       ]
      },
      {
       "output_type": "stream",
       "stream": "stdout",
       "text": [
        "\n",
        "D:\\Data\\gpcp_extent//gpcp_1dd_v1.2_p1d.20081103.tif"
       ]
      },
      {
       "output_type": "stream",
       "stream": "stdout",
       "text": [
        "\n",
        "D:\\Data\\gpcp_extent//gpcp_1dd_v1.2_p1d.20081104.tif"
       ]
      },
      {
       "output_type": "stream",
       "stream": "stdout",
       "text": [
        "\n",
        "D:\\Data\\gpcp_extent//gpcp_1dd_v1.2_p1d.20081105.tif"
       ]
      },
      {
       "output_type": "stream",
       "stream": "stdout",
       "text": [
        "\n",
        "D:\\Data\\gpcp_extent//gpcp_1dd_v1.2_p1d.20081106.tif"
       ]
      },
      {
       "output_type": "stream",
       "stream": "stdout",
       "text": [
        "\n",
        "D:\\Data\\gpcp_extent//gpcp_1dd_v1.2_p1d.20081107.tif"
       ]
      },
      {
       "output_type": "stream",
       "stream": "stdout",
       "text": [
        "\n",
        "D:\\Data\\gpcp_extent//gpcp_1dd_v1.2_p1d.20081108.tif"
       ]
      },
      {
       "output_type": "stream",
       "stream": "stdout",
       "text": [
        "\n",
        "D:\\Data\\gpcp_extent//gpcp_1dd_v1.2_p1d.20081109.tif"
       ]
      },
      {
       "output_type": "stream",
       "stream": "stdout",
       "text": [
        "\n",
        "D:\\Data\\gpcp_extent//gpcp_1dd_v1.2_p1d.20081110.tif"
       ]
      },
      {
       "output_type": "stream",
       "stream": "stdout",
       "text": [
        "\n",
        "D:\\Data\\gpcp_extent//gpcp_1dd_v1.2_p1d.20081111.tif"
       ]
      },
      {
       "output_type": "stream",
       "stream": "stdout",
       "text": [
        "\n",
        "D:\\Data\\gpcp_extent//gpcp_1dd_v1.2_p1d.20081112.tif"
       ]
      },
      {
       "output_type": "stream",
       "stream": "stdout",
       "text": [
        "\n",
        "D:\\Data\\gpcp_extent//gpcp_1dd_v1.2_p1d.20081113.tif"
       ]
      },
      {
       "output_type": "stream",
       "stream": "stdout",
       "text": [
        "\n",
        "D:\\Data\\gpcp_extent//gpcp_1dd_v1.2_p1d.20081114.tif"
       ]
      },
      {
       "output_type": "stream",
       "stream": "stdout",
       "text": [
        "\n",
        "D:\\Data\\gpcp_extent//gpcp_1dd_v1.2_p1d.20081115.tif"
       ]
      },
      {
       "output_type": "stream",
       "stream": "stdout",
       "text": [
        "\n",
        "D:\\Data\\gpcp_extent//gpcp_1dd_v1.2_p1d.20081116.tif"
       ]
      },
      {
       "output_type": "stream",
       "stream": "stdout",
       "text": [
        "\n",
        "D:\\Data\\gpcp_extent//gpcp_1dd_v1.2_p1d.20081117.tif"
       ]
      },
      {
       "output_type": "stream",
       "stream": "stdout",
       "text": [
        "\n",
        "D:\\Data\\gpcp_extent//gpcp_1dd_v1.2_p1d.20081118.tif"
       ]
      },
      {
       "output_type": "stream",
       "stream": "stdout",
       "text": [
        "\n",
        "D:\\Data\\gpcp_extent//gpcp_1dd_v1.2_p1d.20081119.tif"
       ]
      },
      {
       "output_type": "stream",
       "stream": "stdout",
       "text": [
        "\n",
        "D:\\Data\\gpcp_extent//gpcp_1dd_v1.2_p1d.20081120.tif"
       ]
      },
      {
       "output_type": "stream",
       "stream": "stdout",
       "text": [
        "\n",
        "D:\\Data\\gpcp_extent//gpcp_1dd_v1.2_p1d.20081121.tif"
       ]
      },
      {
       "output_type": "stream",
       "stream": "stdout",
       "text": [
        "\n",
        "D:\\Data\\gpcp_extent//gpcp_1dd_v1.2_p1d.20081122.tif"
       ]
      },
      {
       "output_type": "stream",
       "stream": "stdout",
       "text": [
        "\n",
        "D:\\Data\\gpcp_extent//gpcp_1dd_v1.2_p1d.20081123.tif"
       ]
      },
      {
       "output_type": "stream",
       "stream": "stdout",
       "text": [
        "\n",
        "D:\\Data\\gpcp_extent//gpcp_1dd_v1.2_p1d.20081124.tif"
       ]
      },
      {
       "output_type": "stream",
       "stream": "stdout",
       "text": [
        "\n",
        "D:\\Data\\gpcp_extent//gpcp_1dd_v1.2_p1d.20081125.tif"
       ]
      },
      {
       "output_type": "stream",
       "stream": "stdout",
       "text": [
        "\n",
        "D:\\Data\\gpcp_extent//gpcp_1dd_v1.2_p1d.20081126.tif"
       ]
      },
      {
       "output_type": "stream",
       "stream": "stdout",
       "text": [
        "\n",
        "D:\\Data\\gpcp_extent//gpcp_1dd_v1.2_p1d.20081127.tif"
       ]
      },
      {
       "output_type": "stream",
       "stream": "stdout",
       "text": [
        "\n",
        "D:\\Data\\gpcp_extent//gpcp_1dd_v1.2_p1d.20081128.tif"
       ]
      },
      {
       "output_type": "stream",
       "stream": "stdout",
       "text": [
        "\n",
        "D:\\Data\\gpcp_extent//gpcp_1dd_v1.2_p1d.20081129.tif"
       ]
      },
      {
       "output_type": "stream",
       "stream": "stdout",
       "text": [
        "\n",
        "D:\\Data\\gpcp_extent//gpcp_1dd_v1.2_p1d.20081200.tif"
       ]
      },
      {
       "output_type": "stream",
       "stream": "stdout",
       "text": [
        "\n",
        "D:\\Data\\gpcp_extent//gpcp_1dd_v1.2_p1d.20081201.tif"
       ]
      },
      {
       "output_type": "stream",
       "stream": "stdout",
       "text": [
        "\n",
        "D:\\Data\\gpcp_extent//gpcp_1dd_v1.2_p1d.20081202.tif"
       ]
      },
      {
       "output_type": "stream",
       "stream": "stdout",
       "text": [
        "\n",
        "D:\\Data\\gpcp_extent//gpcp_1dd_v1.2_p1d.20081203.tif"
       ]
      },
      {
       "output_type": "stream",
       "stream": "stdout",
       "text": [
        "\n",
        "D:\\Data\\gpcp_extent//gpcp_1dd_v1.2_p1d.20081204.tif"
       ]
      },
      {
       "output_type": "stream",
       "stream": "stdout",
       "text": [
        "\n",
        "D:\\Data\\gpcp_extent//gpcp_1dd_v1.2_p1d.20081205.tif"
       ]
      },
      {
       "output_type": "stream",
       "stream": "stdout",
       "text": [
        "\n",
        "D:\\Data\\gpcp_extent//gpcp_1dd_v1.2_p1d.20081206.tif"
       ]
      },
      {
       "output_type": "stream",
       "stream": "stdout",
       "text": [
        "\n",
        "D:\\Data\\gpcp_extent//gpcp_1dd_v1.2_p1d.20081207.tif"
       ]
      },
      {
       "output_type": "stream",
       "stream": "stdout",
       "text": [
        "\n",
        "D:\\Data\\gpcp_extent//gpcp_1dd_v1.2_p1d.20081208.tif"
       ]
      },
      {
       "output_type": "stream",
       "stream": "stdout",
       "text": [
        "\n",
        "D:\\Data\\gpcp_extent//gpcp_1dd_v1.2_p1d.20081209.tif"
       ]
      },
      {
       "output_type": "stream",
       "stream": "stdout",
       "text": [
        "\n",
        "D:\\Data\\gpcp_extent//gpcp_1dd_v1.2_p1d.20081210.tif"
       ]
      },
      {
       "output_type": "stream",
       "stream": "stdout",
       "text": [
        "\n",
        "D:\\Data\\gpcp_extent//gpcp_1dd_v1.2_p1d.20081211.tif"
       ]
      },
      {
       "output_type": "stream",
       "stream": "stdout",
       "text": [
        "\n",
        "D:\\Data\\gpcp_extent//gpcp_1dd_v1.2_p1d.20081212.tif"
       ]
      },
      {
       "output_type": "stream",
       "stream": "stdout",
       "text": [
        "\n",
        "D:\\Data\\gpcp_extent//gpcp_1dd_v1.2_p1d.20081213.tif"
       ]
      },
      {
       "output_type": "stream",
       "stream": "stdout",
       "text": [
        "\n",
        "D:\\Data\\gpcp_extent//gpcp_1dd_v1.2_p1d.20081214.tif"
       ]
      },
      {
       "output_type": "stream",
       "stream": "stdout",
       "text": [
        "\n",
        "D:\\Data\\gpcp_extent//gpcp_1dd_v1.2_p1d.20081215.tif"
       ]
      },
      {
       "output_type": "stream",
       "stream": "stdout",
       "text": [
        "\n",
        "D:\\Data\\gpcp_extent//gpcp_1dd_v1.2_p1d.20081216.tif"
       ]
      },
      {
       "output_type": "stream",
       "stream": "stdout",
       "text": [
        "\n",
        "D:\\Data\\gpcp_extent//gpcp_1dd_v1.2_p1d.20081217.tif"
       ]
      },
      {
       "output_type": "stream",
       "stream": "stdout",
       "text": [
        "\n",
        "D:\\Data\\gpcp_extent//gpcp_1dd_v1.2_p1d.20081218.tif"
       ]
      },
      {
       "output_type": "stream",
       "stream": "stdout",
       "text": [
        "\n",
        "D:\\Data\\gpcp_extent//gpcp_1dd_v1.2_p1d.20081219.tif"
       ]
      },
      {
       "output_type": "stream",
       "stream": "stdout",
       "text": [
        "\n",
        "D:\\Data\\gpcp_extent//gpcp_1dd_v1.2_p1d.20081220.tif"
       ]
      },
      {
       "output_type": "stream",
       "stream": "stdout",
       "text": [
        "\n",
        "D:\\Data\\gpcp_extent//gpcp_1dd_v1.2_p1d.20081221.tif"
       ]
      },
      {
       "output_type": "stream",
       "stream": "stdout",
       "text": [
        "\n",
        "D:\\Data\\gpcp_extent//gpcp_1dd_v1.2_p1d.20081222.tif"
       ]
      },
      {
       "output_type": "stream",
       "stream": "stdout",
       "text": [
        "\n",
        "D:\\Data\\gpcp_extent//gpcp_1dd_v1.2_p1d.20081223.tif"
       ]
      },
      {
       "output_type": "stream",
       "stream": "stdout",
       "text": [
        "\n",
        "D:\\Data\\gpcp_extent//gpcp_1dd_v1.2_p1d.20081224.tif"
       ]
      },
      {
       "output_type": "stream",
       "stream": "stdout",
       "text": [
        "\n",
        "D:\\Data\\gpcp_extent//gpcp_1dd_v1.2_p1d.20081225.tif"
       ]
      },
      {
       "output_type": "stream",
       "stream": "stdout",
       "text": [
        "\n",
        "D:\\Data\\gpcp_extent//gpcp_1dd_v1.2_p1d.20081226.tif"
       ]
      },
      {
       "output_type": "stream",
       "stream": "stdout",
       "text": [
        "\n",
        "D:\\Data\\gpcp_extent//gpcp_1dd_v1.2_p1d.20081227.tif"
       ]
      },
      {
       "output_type": "stream",
       "stream": "stdout",
       "text": [
        "\n",
        "D:\\Data\\gpcp_extent//gpcp_1dd_v1.2_p1d.20081228.tif"
       ]
      },
      {
       "output_type": "stream",
       "stream": "stdout",
       "text": [
        "\n",
        "D:\\Data\\gpcp_extent//gpcp_1dd_v1.2_p1d.20081229.tif"
       ]
      },
      {
       "output_type": "stream",
       "stream": "stdout",
       "text": [
        "\n",
        "D:\\Data\\gpcp_extent//gpcp_1dd_v1.2_p1d.20081230.tif"
       ]
      },
      {
       "output_type": "stream",
       "stream": "stdout",
       "text": [
        "\n",
        "D:\\Data\\gpcp_extent//gpcp_1dd_v1.2_p1d.20090100.tif"
       ]
      },
      {
       "output_type": "stream",
       "stream": "stdout",
       "text": [
        "\n",
        "D:\\Data\\gpcp_extent//gpcp_1dd_v1.2_p1d.20090101.tif"
       ]
      },
      {
       "output_type": "stream",
       "stream": "stdout",
       "text": [
        "\n",
        "D:\\Data\\gpcp_extent//gpcp_1dd_v1.2_p1d.20090102.tif"
       ]
      },
      {
       "output_type": "stream",
       "stream": "stdout",
       "text": [
        "\n",
        "D:\\Data\\gpcp_extent//gpcp_1dd_v1.2_p1d.20090103.tif"
       ]
      },
      {
       "output_type": "stream",
       "stream": "stdout",
       "text": [
        "\n",
        "D:\\Data\\gpcp_extent//gpcp_1dd_v1.2_p1d.20090104.tif"
       ]
      },
      {
       "output_type": "stream",
       "stream": "stdout",
       "text": [
        "\n",
        "D:\\Data\\gpcp_extent//gpcp_1dd_v1.2_p1d.20090105.tif"
       ]
      },
      {
       "output_type": "stream",
       "stream": "stdout",
       "text": [
        "\n",
        "D:\\Data\\gpcp_extent//gpcp_1dd_v1.2_p1d.20090106.tif"
       ]
      },
      {
       "output_type": "stream",
       "stream": "stdout",
       "text": [
        "\n",
        "D:\\Data\\gpcp_extent//gpcp_1dd_v1.2_p1d.20090107.tif"
       ]
      },
      {
       "output_type": "stream",
       "stream": "stdout",
       "text": [
        "\n",
        "D:\\Data\\gpcp_extent//gpcp_1dd_v1.2_p1d.20090108.tif"
       ]
      },
      {
       "output_type": "stream",
       "stream": "stdout",
       "text": [
        "\n",
        "D:\\Data\\gpcp_extent//gpcp_1dd_v1.2_p1d.20090109.tif"
       ]
      },
      {
       "output_type": "stream",
       "stream": "stdout",
       "text": [
        "\n",
        "D:\\Data\\gpcp_extent//gpcp_1dd_v1.2_p1d.20090110.tif"
       ]
      },
      {
       "output_type": "stream",
       "stream": "stdout",
       "text": [
        "\n",
        "D:\\Data\\gpcp_extent//gpcp_1dd_v1.2_p1d.20090111.tif"
       ]
      },
      {
       "output_type": "stream",
       "stream": "stdout",
       "text": [
        "\n",
        "D:\\Data\\gpcp_extent//gpcp_1dd_v1.2_p1d.20090112.tif"
       ]
      },
      {
       "output_type": "stream",
       "stream": "stdout",
       "text": [
        "\n",
        "D:\\Data\\gpcp_extent//gpcp_1dd_v1.2_p1d.20090113.tif"
       ]
      },
      {
       "output_type": "stream",
       "stream": "stdout",
       "text": [
        "\n",
        "D:\\Data\\gpcp_extent//gpcp_1dd_v1.2_p1d.20090114.tif"
       ]
      },
      {
       "output_type": "stream",
       "stream": "stdout",
       "text": [
        "\n",
        "D:\\Data\\gpcp_extent//gpcp_1dd_v1.2_p1d.20090115.tif"
       ]
      },
      {
       "output_type": "stream",
       "stream": "stdout",
       "text": [
        "\n",
        "D:\\Data\\gpcp_extent//gpcp_1dd_v1.2_p1d.20090116.tif"
       ]
      },
      {
       "output_type": "stream",
       "stream": "stdout",
       "text": [
        "\n",
        "D:\\Data\\gpcp_extent//gpcp_1dd_v1.2_p1d.20090117.tif"
       ]
      },
      {
       "output_type": "stream",
       "stream": "stdout",
       "text": [
        "\n",
        "D:\\Data\\gpcp_extent//gpcp_1dd_v1.2_p1d.20090118.tif"
       ]
      },
      {
       "output_type": "stream",
       "stream": "stdout",
       "text": [
        "\n",
        "D:\\Data\\gpcp_extent//gpcp_1dd_v1.2_p1d.20090119.tif"
       ]
      },
      {
       "output_type": "stream",
       "stream": "stdout",
       "text": [
        "\n",
        "D:\\Data\\gpcp_extent//gpcp_1dd_v1.2_p1d.20090120.tif"
       ]
      },
      {
       "output_type": "stream",
       "stream": "stdout",
       "text": [
        "\n",
        "D:\\Data\\gpcp_extent//gpcp_1dd_v1.2_p1d.20090121.tif"
       ]
      },
      {
       "output_type": "stream",
       "stream": "stdout",
       "text": [
        "\n",
        "D:\\Data\\gpcp_extent//gpcp_1dd_v1.2_p1d.20090122.tif"
       ]
      },
      {
       "output_type": "stream",
       "stream": "stdout",
       "text": [
        "\n",
        "D:\\Data\\gpcp_extent//gpcp_1dd_v1.2_p1d.20090123.tif"
       ]
      },
      {
       "output_type": "stream",
       "stream": "stdout",
       "text": [
        "\n",
        "D:\\Data\\gpcp_extent//gpcp_1dd_v1.2_p1d.20090124.tif"
       ]
      },
      {
       "output_type": "stream",
       "stream": "stdout",
       "text": [
        "\n",
        "D:\\Data\\gpcp_extent//gpcp_1dd_v1.2_p1d.20090125.tif"
       ]
      },
      {
       "output_type": "stream",
       "stream": "stdout",
       "text": [
        "\n",
        "D:\\Data\\gpcp_extent//gpcp_1dd_v1.2_p1d.20090126.tif"
       ]
      },
      {
       "output_type": "stream",
       "stream": "stdout",
       "text": [
        "\n",
        "D:\\Data\\gpcp_extent//gpcp_1dd_v1.2_p1d.20090127.tif"
       ]
      },
      {
       "output_type": "stream",
       "stream": "stdout",
       "text": [
        "\n",
        "D:\\Data\\gpcp_extent//gpcp_1dd_v1.2_p1d.20090128.tif"
       ]
      },
      {
       "output_type": "stream",
       "stream": "stdout",
       "text": [
        "\n",
        "D:\\Data\\gpcp_extent//gpcp_1dd_v1.2_p1d.20090129.tif"
       ]
      },
      {
       "output_type": "stream",
       "stream": "stdout",
       "text": [
        "\n",
        "D:\\Data\\gpcp_extent//gpcp_1dd_v1.2_p1d.20090130.tif"
       ]
      },
      {
       "output_type": "stream",
       "stream": "stdout",
       "text": [
        "\n",
        "D:\\Data\\gpcp_extent//gpcp_1dd_v1.2_p1d.20090200.tif"
       ]
      },
      {
       "output_type": "stream",
       "stream": "stdout",
       "text": [
        "\n",
        "D:\\Data\\gpcp_extent//gpcp_1dd_v1.2_p1d.20090201.tif"
       ]
      },
      {
       "output_type": "stream",
       "stream": "stdout",
       "text": [
        "\n",
        "D:\\Data\\gpcp_extent//gpcp_1dd_v1.2_p1d.20090202.tif"
       ]
      },
      {
       "output_type": "stream",
       "stream": "stdout",
       "text": [
        "\n",
        "D:\\Data\\gpcp_extent//gpcp_1dd_v1.2_p1d.20090203.tif"
       ]
      },
      {
       "output_type": "stream",
       "stream": "stdout",
       "text": [
        "\n",
        "D:\\Data\\gpcp_extent//gpcp_1dd_v1.2_p1d.20090204.tif"
       ]
      },
      {
       "output_type": "stream",
       "stream": "stdout",
       "text": [
        "\n",
        "D:\\Data\\gpcp_extent//gpcp_1dd_v1.2_p1d.20090205.tif"
       ]
      },
      {
       "output_type": "stream",
       "stream": "stdout",
       "text": [
        "\n",
        "D:\\Data\\gpcp_extent//gpcp_1dd_v1.2_p1d.20090206.tif"
       ]
      },
      {
       "output_type": "stream",
       "stream": "stdout",
       "text": [
        "\n",
        "D:\\Data\\gpcp_extent//gpcp_1dd_v1.2_p1d.20090207.tif"
       ]
      },
      {
       "output_type": "stream",
       "stream": "stdout",
       "text": [
        "\n",
        "D:\\Data\\gpcp_extent//gpcp_1dd_v1.2_p1d.20090208.tif"
       ]
      },
      {
       "output_type": "stream",
       "stream": "stdout",
       "text": [
        "\n",
        "D:\\Data\\gpcp_extent//gpcp_1dd_v1.2_p1d.20090209.tif"
       ]
      },
      {
       "output_type": "stream",
       "stream": "stdout",
       "text": [
        "\n",
        "D:\\Data\\gpcp_extent//gpcp_1dd_v1.2_p1d.20090210.tif"
       ]
      },
      {
       "output_type": "stream",
       "stream": "stdout",
       "text": [
        "\n",
        "D:\\Data\\gpcp_extent//gpcp_1dd_v1.2_p1d.20090211.tif"
       ]
      },
      {
       "output_type": "stream",
       "stream": "stdout",
       "text": [
        "\n",
        "D:\\Data\\gpcp_extent//gpcp_1dd_v1.2_p1d.20090212.tif"
       ]
      },
      {
       "output_type": "stream",
       "stream": "stdout",
       "text": [
        "\n",
        "D:\\Data\\gpcp_extent//gpcp_1dd_v1.2_p1d.20090213.tif"
       ]
      },
      {
       "output_type": "stream",
       "stream": "stdout",
       "text": [
        "\n",
        "D:\\Data\\gpcp_extent//gpcp_1dd_v1.2_p1d.20090214.tif"
       ]
      },
      {
       "output_type": "stream",
       "stream": "stdout",
       "text": [
        "\n",
        "D:\\Data\\gpcp_extent//gpcp_1dd_v1.2_p1d.20090215.tif"
       ]
      },
      {
       "output_type": "stream",
       "stream": "stdout",
       "text": [
        "\n",
        "D:\\Data\\gpcp_extent//gpcp_1dd_v1.2_p1d.20090216.tif"
       ]
      },
      {
       "output_type": "stream",
       "stream": "stdout",
       "text": [
        "\n",
        "D:\\Data\\gpcp_extent//gpcp_1dd_v1.2_p1d.20090217.tif"
       ]
      },
      {
       "output_type": "stream",
       "stream": "stdout",
       "text": [
        "\n",
        "D:\\Data\\gpcp_extent//gpcp_1dd_v1.2_p1d.20090218.tif"
       ]
      },
      {
       "output_type": "stream",
       "stream": "stdout",
       "text": [
        "\n",
        "D:\\Data\\gpcp_extent//gpcp_1dd_v1.2_p1d.20090219.tif"
       ]
      },
      {
       "output_type": "stream",
       "stream": "stdout",
       "text": [
        "\n",
        "D:\\Data\\gpcp_extent//gpcp_1dd_v1.2_p1d.20090220.tif"
       ]
      },
      {
       "output_type": "stream",
       "stream": "stdout",
       "text": [
        "\n",
        "D:\\Data\\gpcp_extent//gpcp_1dd_v1.2_p1d.20090221.tif"
       ]
      },
      {
       "output_type": "stream",
       "stream": "stdout",
       "text": [
        "\n",
        "D:\\Data\\gpcp_extent//gpcp_1dd_v1.2_p1d.20090222.tif"
       ]
      },
      {
       "output_type": "stream",
       "stream": "stdout",
       "text": [
        "\n",
        "D:\\Data\\gpcp_extent//gpcp_1dd_v1.2_p1d.20090223.tif"
       ]
      },
      {
       "output_type": "stream",
       "stream": "stdout",
       "text": [
        "\n",
        "D:\\Data\\gpcp_extent//gpcp_1dd_v1.2_p1d.20090224.tif"
       ]
      },
      {
       "output_type": "stream",
       "stream": "stdout",
       "text": [
        "\n",
        "D:\\Data\\gpcp_extent//gpcp_1dd_v1.2_p1d.20090225.tif"
       ]
      },
      {
       "output_type": "stream",
       "stream": "stdout",
       "text": [
        "\n",
        "D:\\Data\\gpcp_extent//gpcp_1dd_v1.2_p1d.20090226.tif"
       ]
      },
      {
       "output_type": "stream",
       "stream": "stdout",
       "text": [
        "\n",
        "D:\\Data\\gpcp_extent//gpcp_1dd_v1.2_p1d.20090227.tif"
       ]
      },
      {
       "output_type": "stream",
       "stream": "stdout",
       "text": [
        "\n",
        "D:\\Data\\gpcp_extent//gpcp_1dd_v1.2_p1d.20090300.tif"
       ]
      },
      {
       "output_type": "stream",
       "stream": "stdout",
       "text": [
        "\n",
        "D:\\Data\\gpcp_extent//gpcp_1dd_v1.2_p1d.20090301.tif"
       ]
      },
      {
       "output_type": "stream",
       "stream": "stdout",
       "text": [
        "\n",
        "D:\\Data\\gpcp_extent//gpcp_1dd_v1.2_p1d.20090302.tif"
       ]
      },
      {
       "output_type": "stream",
       "stream": "stdout",
       "text": [
        "\n",
        "D:\\Data\\gpcp_extent//gpcp_1dd_v1.2_p1d.20090303.tif"
       ]
      },
      {
       "output_type": "stream",
       "stream": "stdout",
       "text": [
        "\n",
        "D:\\Data\\gpcp_extent//gpcp_1dd_v1.2_p1d.20090304.tif"
       ]
      },
      {
       "output_type": "stream",
       "stream": "stdout",
       "text": [
        "\n",
        "D:\\Data\\gpcp_extent//gpcp_1dd_v1.2_p1d.20090305.tif"
       ]
      },
      {
       "output_type": "stream",
       "stream": "stdout",
       "text": [
        "\n",
        "D:\\Data\\gpcp_extent//gpcp_1dd_v1.2_p1d.20090306.tif"
       ]
      },
      {
       "output_type": "stream",
       "stream": "stdout",
       "text": [
        "\n",
        "D:\\Data\\gpcp_extent//gpcp_1dd_v1.2_p1d.20090307.tif"
       ]
      },
      {
       "output_type": "stream",
       "stream": "stdout",
       "text": [
        "\n",
        "D:\\Data\\gpcp_extent//gpcp_1dd_v1.2_p1d.20090308.tif"
       ]
      },
      {
       "output_type": "stream",
       "stream": "stdout",
       "text": [
        "\n",
        "D:\\Data\\gpcp_extent//gpcp_1dd_v1.2_p1d.20090309.tif"
       ]
      },
      {
       "output_type": "stream",
       "stream": "stdout",
       "text": [
        "\n",
        "D:\\Data\\gpcp_extent//gpcp_1dd_v1.2_p1d.20090310.tif"
       ]
      },
      {
       "output_type": "stream",
       "stream": "stdout",
       "text": [
        "\n",
        "D:\\Data\\gpcp_extent//gpcp_1dd_v1.2_p1d.20090311.tif"
       ]
      },
      {
       "output_type": "stream",
       "stream": "stdout",
       "text": [
        "\n",
        "D:\\Data\\gpcp_extent//gpcp_1dd_v1.2_p1d.20090312.tif"
       ]
      },
      {
       "output_type": "stream",
       "stream": "stdout",
       "text": [
        "\n",
        "D:\\Data\\gpcp_extent//gpcp_1dd_v1.2_p1d.20090313.tif"
       ]
      },
      {
       "output_type": "stream",
       "stream": "stdout",
       "text": [
        "\n",
        "D:\\Data\\gpcp_extent//gpcp_1dd_v1.2_p1d.20090314.tif"
       ]
      },
      {
       "output_type": "stream",
       "stream": "stdout",
       "text": [
        "\n",
        "D:\\Data\\gpcp_extent//gpcp_1dd_v1.2_p1d.20090315.tif"
       ]
      },
      {
       "output_type": "stream",
       "stream": "stdout",
       "text": [
        "\n",
        "D:\\Data\\gpcp_extent//gpcp_1dd_v1.2_p1d.20090316.tif"
       ]
      },
      {
       "output_type": "stream",
       "stream": "stdout",
       "text": [
        "\n",
        "D:\\Data\\gpcp_extent//gpcp_1dd_v1.2_p1d.20090317.tif"
       ]
      },
      {
       "output_type": "stream",
       "stream": "stdout",
       "text": [
        "\n",
        "D:\\Data\\gpcp_extent//gpcp_1dd_v1.2_p1d.20090318.tif"
       ]
      },
      {
       "output_type": "stream",
       "stream": "stdout",
       "text": [
        "\n",
        "D:\\Data\\gpcp_extent//gpcp_1dd_v1.2_p1d.20090319.tif"
       ]
      },
      {
       "output_type": "stream",
       "stream": "stdout",
       "text": [
        "\n",
        "D:\\Data\\gpcp_extent//gpcp_1dd_v1.2_p1d.20090320.tif"
       ]
      },
      {
       "output_type": "stream",
       "stream": "stdout",
       "text": [
        "\n",
        "D:\\Data\\gpcp_extent//gpcp_1dd_v1.2_p1d.20090321.tif"
       ]
      },
      {
       "output_type": "stream",
       "stream": "stdout",
       "text": [
        "\n",
        "D:\\Data\\gpcp_extent//gpcp_1dd_v1.2_p1d.20090322.tif"
       ]
      },
      {
       "output_type": "stream",
       "stream": "stdout",
       "text": [
        "\n",
        "D:\\Data\\gpcp_extent//gpcp_1dd_v1.2_p1d.20090323.tif"
       ]
      },
      {
       "output_type": "stream",
       "stream": "stdout",
       "text": [
        "\n",
        "D:\\Data\\gpcp_extent//gpcp_1dd_v1.2_p1d.20090324.tif"
       ]
      },
      {
       "output_type": "stream",
       "stream": "stdout",
       "text": [
        "\n",
        "D:\\Data\\gpcp_extent//gpcp_1dd_v1.2_p1d.20090325.tif"
       ]
      },
      {
       "output_type": "stream",
       "stream": "stdout",
       "text": [
        "\n",
        "D:\\Data\\gpcp_extent//gpcp_1dd_v1.2_p1d.20090326.tif"
       ]
      },
      {
       "output_type": "stream",
       "stream": "stdout",
       "text": [
        "\n",
        "D:\\Data\\gpcp_extent//gpcp_1dd_v1.2_p1d.20090327.tif"
       ]
      },
      {
       "output_type": "stream",
       "stream": "stdout",
       "text": [
        "\n",
        "D:\\Data\\gpcp_extent//gpcp_1dd_v1.2_p1d.20090328.tif"
       ]
      },
      {
       "output_type": "stream",
       "stream": "stdout",
       "text": [
        "\n",
        "D:\\Data\\gpcp_extent//gpcp_1dd_v1.2_p1d.20090329.tif"
       ]
      },
      {
       "output_type": "stream",
       "stream": "stdout",
       "text": [
        "\n",
        "D:\\Data\\gpcp_extent//gpcp_1dd_v1.2_p1d.20090330.tif"
       ]
      },
      {
       "output_type": "stream",
       "stream": "stdout",
       "text": [
        "\n",
        "D:\\Data\\gpcp_extent//gpcp_1dd_v1.2_p1d.20090400.tif"
       ]
      },
      {
       "output_type": "stream",
       "stream": "stdout",
       "text": [
        "\n",
        "D:\\Data\\gpcp_extent//gpcp_1dd_v1.2_p1d.20090401.tif"
       ]
      },
      {
       "output_type": "stream",
       "stream": "stdout",
       "text": [
        "\n",
        "D:\\Data\\gpcp_extent//gpcp_1dd_v1.2_p1d.20090402.tif"
       ]
      },
      {
       "output_type": "stream",
       "stream": "stdout",
       "text": [
        "\n",
        "D:\\Data\\gpcp_extent//gpcp_1dd_v1.2_p1d.20090403.tif"
       ]
      },
      {
       "output_type": "stream",
       "stream": "stdout",
       "text": [
        "\n",
        "D:\\Data\\gpcp_extent//gpcp_1dd_v1.2_p1d.20090404.tif"
       ]
      },
      {
       "output_type": "stream",
       "stream": "stdout",
       "text": [
        "\n",
        "D:\\Data\\gpcp_extent//gpcp_1dd_v1.2_p1d.20090405.tif"
       ]
      },
      {
       "output_type": "stream",
       "stream": "stdout",
       "text": [
        "\n",
        "D:\\Data\\gpcp_extent//gpcp_1dd_v1.2_p1d.20090406.tif"
       ]
      },
      {
       "output_type": "stream",
       "stream": "stdout",
       "text": [
        "\n",
        "D:\\Data\\gpcp_extent//gpcp_1dd_v1.2_p1d.20090407.tif"
       ]
      },
      {
       "output_type": "stream",
       "stream": "stdout",
       "text": [
        "\n",
        "D:\\Data\\gpcp_extent//gpcp_1dd_v1.2_p1d.20090408.tif"
       ]
      },
      {
       "output_type": "stream",
       "stream": "stdout",
       "text": [
        "\n",
        "D:\\Data\\gpcp_extent//gpcp_1dd_v1.2_p1d.20090409.tif"
       ]
      },
      {
       "output_type": "stream",
       "stream": "stdout",
       "text": [
        "\n",
        "D:\\Data\\gpcp_extent//gpcp_1dd_v1.2_p1d.20090410.tif"
       ]
      },
      {
       "output_type": "stream",
       "stream": "stdout",
       "text": [
        "\n",
        "D:\\Data\\gpcp_extent//gpcp_1dd_v1.2_p1d.20090411.tif"
       ]
      },
      {
       "output_type": "stream",
       "stream": "stdout",
       "text": [
        "\n",
        "D:\\Data\\gpcp_extent//gpcp_1dd_v1.2_p1d.20090412.tif"
       ]
      },
      {
       "output_type": "stream",
       "stream": "stdout",
       "text": [
        "\n",
        "D:\\Data\\gpcp_extent//gpcp_1dd_v1.2_p1d.20090413.tif"
       ]
      },
      {
       "output_type": "stream",
       "stream": "stdout",
       "text": [
        "\n",
        "D:\\Data\\gpcp_extent//gpcp_1dd_v1.2_p1d.20090414.tif"
       ]
      },
      {
       "output_type": "stream",
       "stream": "stdout",
       "text": [
        "\n",
        "D:\\Data\\gpcp_extent//gpcp_1dd_v1.2_p1d.20090415.tif"
       ]
      },
      {
       "output_type": "stream",
       "stream": "stdout",
       "text": [
        "\n",
        "D:\\Data\\gpcp_extent//gpcp_1dd_v1.2_p1d.20090416.tif"
       ]
      },
      {
       "output_type": "stream",
       "stream": "stdout",
       "text": [
        "\n",
        "D:\\Data\\gpcp_extent//gpcp_1dd_v1.2_p1d.20090417.tif"
       ]
      },
      {
       "output_type": "stream",
       "stream": "stdout",
       "text": [
        "\n",
        "D:\\Data\\gpcp_extent//gpcp_1dd_v1.2_p1d.20090418.tif"
       ]
      },
      {
       "output_type": "stream",
       "stream": "stdout",
       "text": [
        "\n",
        "D:\\Data\\gpcp_extent//gpcp_1dd_v1.2_p1d.20090419.tif"
       ]
      },
      {
       "output_type": "stream",
       "stream": "stdout",
       "text": [
        "\n",
        "D:\\Data\\gpcp_extent//gpcp_1dd_v1.2_p1d.20090420.tif"
       ]
      },
      {
       "output_type": "stream",
       "stream": "stdout",
       "text": [
        "\n",
        "D:\\Data\\gpcp_extent//gpcp_1dd_v1.2_p1d.20090421.tif"
       ]
      },
      {
       "output_type": "stream",
       "stream": "stdout",
       "text": [
        "\n",
        "D:\\Data\\gpcp_extent//gpcp_1dd_v1.2_p1d.20090422.tif"
       ]
      },
      {
       "output_type": "stream",
       "stream": "stdout",
       "text": [
        "\n",
        "D:\\Data\\gpcp_extent//gpcp_1dd_v1.2_p1d.20090423.tif"
       ]
      },
      {
       "output_type": "stream",
       "stream": "stdout",
       "text": [
        "\n",
        "D:\\Data\\gpcp_extent//gpcp_1dd_v1.2_p1d.20090424.tif"
       ]
      },
      {
       "output_type": "stream",
       "stream": "stdout",
       "text": [
        "\n",
        "D:\\Data\\gpcp_extent//gpcp_1dd_v1.2_p1d.20090425.tif"
       ]
      },
      {
       "output_type": "stream",
       "stream": "stdout",
       "text": [
        "\n",
        "D:\\Data\\gpcp_extent//gpcp_1dd_v1.2_p1d.20090426.tif"
       ]
      },
      {
       "output_type": "stream",
       "stream": "stdout",
       "text": [
        "\n",
        "D:\\Data\\gpcp_extent//gpcp_1dd_v1.2_p1d.20090427.tif"
       ]
      },
      {
       "output_type": "stream",
       "stream": "stdout",
       "text": [
        "\n",
        "D:\\Data\\gpcp_extent//gpcp_1dd_v1.2_p1d.20090428.tif"
       ]
      },
      {
       "output_type": "stream",
       "stream": "stdout",
       "text": [
        "\n",
        "D:\\Data\\gpcp_extent//gpcp_1dd_v1.2_p1d.20090429.tif"
       ]
      },
      {
       "output_type": "stream",
       "stream": "stdout",
       "text": [
        "\n",
        "D:\\Data\\gpcp_extent//gpcp_1dd_v1.2_p1d.20090500.tif"
       ]
      },
      {
       "output_type": "stream",
       "stream": "stdout",
       "text": [
        "\n",
        "D:\\Data\\gpcp_extent//gpcp_1dd_v1.2_p1d.20090501.tif"
       ]
      },
      {
       "output_type": "stream",
       "stream": "stdout",
       "text": [
        "\n",
        "D:\\Data\\gpcp_extent//gpcp_1dd_v1.2_p1d.20090502.tif"
       ]
      },
      {
       "output_type": "stream",
       "stream": "stdout",
       "text": [
        "\n",
        "D:\\Data\\gpcp_extent//gpcp_1dd_v1.2_p1d.20090503.tif"
       ]
      },
      {
       "output_type": "stream",
       "stream": "stdout",
       "text": [
        "\n",
        "D:\\Data\\gpcp_extent//gpcp_1dd_v1.2_p1d.20090504.tif"
       ]
      },
      {
       "output_type": "stream",
       "stream": "stdout",
       "text": [
        "\n",
        "D:\\Data\\gpcp_extent//gpcp_1dd_v1.2_p1d.20090505.tif"
       ]
      },
      {
       "output_type": "stream",
       "stream": "stdout",
       "text": [
        "\n",
        "D:\\Data\\gpcp_extent//gpcp_1dd_v1.2_p1d.20090506.tif"
       ]
      },
      {
       "output_type": "stream",
       "stream": "stdout",
       "text": [
        "\n",
        "D:\\Data\\gpcp_extent//gpcp_1dd_v1.2_p1d.20090507.tif"
       ]
      },
      {
       "output_type": "stream",
       "stream": "stdout",
       "text": [
        "\n",
        "D:\\Data\\gpcp_extent//gpcp_1dd_v1.2_p1d.20090508.tif"
       ]
      },
      {
       "output_type": "stream",
       "stream": "stdout",
       "text": [
        "\n",
        "D:\\Data\\gpcp_extent//gpcp_1dd_v1.2_p1d.20090509.tif"
       ]
      },
      {
       "output_type": "stream",
       "stream": "stdout",
       "text": [
        "\n",
        "D:\\Data\\gpcp_extent//gpcp_1dd_v1.2_p1d.20090510.tif"
       ]
      },
      {
       "output_type": "stream",
       "stream": "stdout",
       "text": [
        "\n",
        "D:\\Data\\gpcp_extent//gpcp_1dd_v1.2_p1d.20090511.tif"
       ]
      },
      {
       "output_type": "stream",
       "stream": "stdout",
       "text": [
        "\n",
        "D:\\Data\\gpcp_extent//gpcp_1dd_v1.2_p1d.20090512.tif"
       ]
      },
      {
       "output_type": "stream",
       "stream": "stdout",
       "text": [
        "\n",
        "D:\\Data\\gpcp_extent//gpcp_1dd_v1.2_p1d.20090513.tif"
       ]
      },
      {
       "output_type": "stream",
       "stream": "stdout",
       "text": [
        "\n",
        "D:\\Data\\gpcp_extent//gpcp_1dd_v1.2_p1d.20090514.tif"
       ]
      },
      {
       "output_type": "stream",
       "stream": "stdout",
       "text": [
        "\n",
        "D:\\Data\\gpcp_extent//gpcp_1dd_v1.2_p1d.20090515.tif"
       ]
      },
      {
       "output_type": "stream",
       "stream": "stdout",
       "text": [
        "\n",
        "D:\\Data\\gpcp_extent//gpcp_1dd_v1.2_p1d.20090516.tif"
       ]
      },
      {
       "output_type": "stream",
       "stream": "stdout",
       "text": [
        "\n",
        "D:\\Data\\gpcp_extent//gpcp_1dd_v1.2_p1d.20090517.tif"
       ]
      },
      {
       "output_type": "stream",
       "stream": "stdout",
       "text": [
        "\n",
        "D:\\Data\\gpcp_extent//gpcp_1dd_v1.2_p1d.20090518.tif"
       ]
      },
      {
       "output_type": "stream",
       "stream": "stdout",
       "text": [
        "\n",
        "D:\\Data\\gpcp_extent//gpcp_1dd_v1.2_p1d.20090519.tif"
       ]
      },
      {
       "output_type": "stream",
       "stream": "stdout",
       "text": [
        "\n",
        "D:\\Data\\gpcp_extent//gpcp_1dd_v1.2_p1d.20090520.tif"
       ]
      },
      {
       "output_type": "stream",
       "stream": "stdout",
       "text": [
        "\n",
        "D:\\Data\\gpcp_extent//gpcp_1dd_v1.2_p1d.20090521.tif"
       ]
      },
      {
       "output_type": "stream",
       "stream": "stdout",
       "text": [
        "\n",
        "D:\\Data\\gpcp_extent//gpcp_1dd_v1.2_p1d.20090522.tif"
       ]
      },
      {
       "output_type": "stream",
       "stream": "stdout",
       "text": [
        "\n",
        "D:\\Data\\gpcp_extent//gpcp_1dd_v1.2_p1d.20090523.tif"
       ]
      },
      {
       "output_type": "stream",
       "stream": "stdout",
       "text": [
        "\n",
        "D:\\Data\\gpcp_extent//gpcp_1dd_v1.2_p1d.20090524.tif"
       ]
      },
      {
       "output_type": "stream",
       "stream": "stdout",
       "text": [
        "\n",
        "D:\\Data\\gpcp_extent//gpcp_1dd_v1.2_p1d.20090525.tif"
       ]
      },
      {
       "output_type": "stream",
       "stream": "stdout",
       "text": [
        "\n",
        "D:\\Data\\gpcp_extent//gpcp_1dd_v1.2_p1d.20090526.tif"
       ]
      },
      {
       "output_type": "stream",
       "stream": "stdout",
       "text": [
        "\n",
        "D:\\Data\\gpcp_extent//gpcp_1dd_v1.2_p1d.20090527.tif"
       ]
      },
      {
       "output_type": "stream",
       "stream": "stdout",
       "text": [
        "\n",
        "D:\\Data\\gpcp_extent//gpcp_1dd_v1.2_p1d.20090528.tif"
       ]
      },
      {
       "output_type": "stream",
       "stream": "stdout",
       "text": [
        "\n",
        "D:\\Data\\gpcp_extent//gpcp_1dd_v1.2_p1d.20090529.tif"
       ]
      },
      {
       "output_type": "stream",
       "stream": "stdout",
       "text": [
        "\n",
        "D:\\Data\\gpcp_extent//gpcp_1dd_v1.2_p1d.20090530.tif"
       ]
      },
      {
       "output_type": "stream",
       "stream": "stdout",
       "text": [
        "\n",
        "D:\\Data\\gpcp_extent//gpcp_1dd_v1.2_p1d.20090600.tif"
       ]
      },
      {
       "output_type": "stream",
       "stream": "stdout",
       "text": [
        "\n",
        "D:\\Data\\gpcp_extent//gpcp_1dd_v1.2_p1d.20090601.tif"
       ]
      },
      {
       "output_type": "stream",
       "stream": "stdout",
       "text": [
        "\n",
        "D:\\Data\\gpcp_extent//gpcp_1dd_v1.2_p1d.20090602.tif"
       ]
      },
      {
       "output_type": "stream",
       "stream": "stdout",
       "text": [
        "\n",
        "D:\\Data\\gpcp_extent//gpcp_1dd_v1.2_p1d.20090603.tif"
       ]
      },
      {
       "output_type": "stream",
       "stream": "stdout",
       "text": [
        "\n",
        "D:\\Data\\gpcp_extent//gpcp_1dd_v1.2_p1d.20090604.tif"
       ]
      },
      {
       "output_type": "stream",
       "stream": "stdout",
       "text": [
        "\n",
        "D:\\Data\\gpcp_extent//gpcp_1dd_v1.2_p1d.20090605.tif"
       ]
      },
      {
       "output_type": "stream",
       "stream": "stdout",
       "text": [
        "\n",
        "D:\\Data\\gpcp_extent//gpcp_1dd_v1.2_p1d.20090606.tif"
       ]
      },
      {
       "output_type": "stream",
       "stream": "stdout",
       "text": [
        "\n",
        "D:\\Data\\gpcp_extent//gpcp_1dd_v1.2_p1d.20090607.tif"
       ]
      },
      {
       "output_type": "stream",
       "stream": "stdout",
       "text": [
        "\n",
        "D:\\Data\\gpcp_extent//gpcp_1dd_v1.2_p1d.20090608.tif"
       ]
      },
      {
       "output_type": "stream",
       "stream": "stdout",
       "text": [
        "\n",
        "D:\\Data\\gpcp_extent//gpcp_1dd_v1.2_p1d.20090609.tif"
       ]
      },
      {
       "output_type": "stream",
       "stream": "stdout",
       "text": [
        "\n",
        "D:\\Data\\gpcp_extent//gpcp_1dd_v1.2_p1d.20090610.tif"
       ]
      },
      {
       "output_type": "stream",
       "stream": "stdout",
       "text": [
        "\n",
        "D:\\Data\\gpcp_extent//gpcp_1dd_v1.2_p1d.20090611.tif"
       ]
      },
      {
       "output_type": "stream",
       "stream": "stdout",
       "text": [
        "\n",
        "D:\\Data\\gpcp_extent//gpcp_1dd_v1.2_p1d.20090612.tif"
       ]
      },
      {
       "output_type": "stream",
       "stream": "stdout",
       "text": [
        "\n",
        "D:\\Data\\gpcp_extent//gpcp_1dd_v1.2_p1d.20090613.tif"
       ]
      },
      {
       "output_type": "stream",
       "stream": "stdout",
       "text": [
        "\n",
        "D:\\Data\\gpcp_extent//gpcp_1dd_v1.2_p1d.20090614.tif"
       ]
      },
      {
       "output_type": "stream",
       "stream": "stdout",
       "text": [
        "\n",
        "D:\\Data\\gpcp_extent//gpcp_1dd_v1.2_p1d.20090615.tif"
       ]
      },
      {
       "output_type": "stream",
       "stream": "stdout",
       "text": [
        "\n",
        "D:\\Data\\gpcp_extent//gpcp_1dd_v1.2_p1d.20090616.tif"
       ]
      },
      {
       "output_type": "stream",
       "stream": "stdout",
       "text": [
        "\n",
        "D:\\Data\\gpcp_extent//gpcp_1dd_v1.2_p1d.20090617.tif"
       ]
      },
      {
       "output_type": "stream",
       "stream": "stdout",
       "text": [
        "\n",
        "D:\\Data\\gpcp_extent//gpcp_1dd_v1.2_p1d.20090618.tif"
       ]
      },
      {
       "output_type": "stream",
       "stream": "stdout",
       "text": [
        "\n",
        "D:\\Data\\gpcp_extent//gpcp_1dd_v1.2_p1d.20090619.tif"
       ]
      },
      {
       "output_type": "stream",
       "stream": "stdout",
       "text": [
        "\n",
        "D:\\Data\\gpcp_extent//gpcp_1dd_v1.2_p1d.20090620.tif"
       ]
      },
      {
       "output_type": "stream",
       "stream": "stdout",
       "text": [
        "\n",
        "D:\\Data\\gpcp_extent//gpcp_1dd_v1.2_p1d.20090621.tif"
       ]
      },
      {
       "output_type": "stream",
       "stream": "stdout",
       "text": [
        "\n",
        "D:\\Data\\gpcp_extent//gpcp_1dd_v1.2_p1d.20090622.tif"
       ]
      },
      {
       "output_type": "stream",
       "stream": "stdout",
       "text": [
        "\n",
        "D:\\Data\\gpcp_extent//gpcp_1dd_v1.2_p1d.20090623.tif"
       ]
      },
      {
       "output_type": "stream",
       "stream": "stdout",
       "text": [
        "\n",
        "D:\\Data\\gpcp_extent//gpcp_1dd_v1.2_p1d.20090624.tif"
       ]
      },
      {
       "output_type": "stream",
       "stream": "stdout",
       "text": [
        "\n",
        "D:\\Data\\gpcp_extent//gpcp_1dd_v1.2_p1d.20090625.tif"
       ]
      },
      {
       "output_type": "stream",
       "stream": "stdout",
       "text": [
        "\n",
        "D:\\Data\\gpcp_extent//gpcp_1dd_v1.2_p1d.20090626.tif"
       ]
      },
      {
       "output_type": "stream",
       "stream": "stdout",
       "text": [
        "\n",
        "D:\\Data\\gpcp_extent//gpcp_1dd_v1.2_p1d.20090627.tif"
       ]
      },
      {
       "output_type": "stream",
       "stream": "stdout",
       "text": [
        "\n",
        "D:\\Data\\gpcp_extent//gpcp_1dd_v1.2_p1d.20090628.tif"
       ]
      },
      {
       "output_type": "stream",
       "stream": "stdout",
       "text": [
        "\n",
        "D:\\Data\\gpcp_extent//gpcp_1dd_v1.2_p1d.20090629.tif"
       ]
      },
      {
       "output_type": "stream",
       "stream": "stdout",
       "text": [
        "\n",
        "D:\\Data\\gpcp_extent//gpcp_1dd_v1.2_p1d.20090700.tif"
       ]
      },
      {
       "output_type": "stream",
       "stream": "stdout",
       "text": [
        "\n",
        "D:\\Data\\gpcp_extent//gpcp_1dd_v1.2_p1d.20090701.tif"
       ]
      },
      {
       "output_type": "stream",
       "stream": "stdout",
       "text": [
        "\n",
        "D:\\Data\\gpcp_extent//gpcp_1dd_v1.2_p1d.20090702.tif"
       ]
      },
      {
       "output_type": "stream",
       "stream": "stdout",
       "text": [
        "\n",
        "D:\\Data\\gpcp_extent//gpcp_1dd_v1.2_p1d.20090703.tif"
       ]
      },
      {
       "output_type": "stream",
       "stream": "stdout",
       "text": [
        "\n",
        "D:\\Data\\gpcp_extent//gpcp_1dd_v1.2_p1d.20090704.tif"
       ]
      },
      {
       "output_type": "stream",
       "stream": "stdout",
       "text": [
        "\n",
        "D:\\Data\\gpcp_extent//gpcp_1dd_v1.2_p1d.20090705.tif"
       ]
      },
      {
       "output_type": "stream",
       "stream": "stdout",
       "text": [
        "\n",
        "D:\\Data\\gpcp_extent//gpcp_1dd_v1.2_p1d.20090706.tif"
       ]
      },
      {
       "output_type": "stream",
       "stream": "stdout",
       "text": [
        "\n",
        "D:\\Data\\gpcp_extent//gpcp_1dd_v1.2_p1d.20090707.tif"
       ]
      },
      {
       "output_type": "stream",
       "stream": "stdout",
       "text": [
        "\n",
        "D:\\Data\\gpcp_extent//gpcp_1dd_v1.2_p1d.20090708.tif"
       ]
      },
      {
       "output_type": "stream",
       "stream": "stdout",
       "text": [
        "\n",
        "D:\\Data\\gpcp_extent//gpcp_1dd_v1.2_p1d.20090709.tif"
       ]
      },
      {
       "output_type": "stream",
       "stream": "stdout",
       "text": [
        "\n",
        "D:\\Data\\gpcp_extent//gpcp_1dd_v1.2_p1d.20090710.tif"
       ]
      },
      {
       "output_type": "stream",
       "stream": "stdout",
       "text": [
        "\n",
        "D:\\Data\\gpcp_extent//gpcp_1dd_v1.2_p1d.20090711.tif"
       ]
      },
      {
       "output_type": "stream",
       "stream": "stdout",
       "text": [
        "\n",
        "D:\\Data\\gpcp_extent//gpcp_1dd_v1.2_p1d.20090712.tif"
       ]
      },
      {
       "output_type": "stream",
       "stream": "stdout",
       "text": [
        "\n",
        "D:\\Data\\gpcp_extent//gpcp_1dd_v1.2_p1d.20090713.tif"
       ]
      },
      {
       "output_type": "stream",
       "stream": "stdout",
       "text": [
        "\n",
        "D:\\Data\\gpcp_extent//gpcp_1dd_v1.2_p1d.20090714.tif"
       ]
      },
      {
       "output_type": "stream",
       "stream": "stdout",
       "text": [
        "\n",
        "D:\\Data\\gpcp_extent//gpcp_1dd_v1.2_p1d.20090715.tif"
       ]
      },
      {
       "output_type": "stream",
       "stream": "stdout",
       "text": [
        "\n",
        "D:\\Data\\gpcp_extent//gpcp_1dd_v1.2_p1d.20090716.tif"
       ]
      },
      {
       "output_type": "stream",
       "stream": "stdout",
       "text": [
        "\n",
        "D:\\Data\\gpcp_extent//gpcp_1dd_v1.2_p1d.20090717.tif"
       ]
      },
      {
       "output_type": "stream",
       "stream": "stdout",
       "text": [
        "\n",
        "D:\\Data\\gpcp_extent//gpcp_1dd_v1.2_p1d.20090718.tif"
       ]
      },
      {
       "output_type": "stream",
       "stream": "stdout",
       "text": [
        "\n",
        "D:\\Data\\gpcp_extent//gpcp_1dd_v1.2_p1d.20090719.tif"
       ]
      },
      {
       "output_type": "stream",
       "stream": "stdout",
       "text": [
        "\n",
        "D:\\Data\\gpcp_extent//gpcp_1dd_v1.2_p1d.20090720.tif"
       ]
      },
      {
       "output_type": "stream",
       "stream": "stdout",
       "text": [
        "\n",
        "D:\\Data\\gpcp_extent//gpcp_1dd_v1.2_p1d.20090721.tif"
       ]
      },
      {
       "output_type": "stream",
       "stream": "stdout",
       "text": [
        "\n",
        "D:\\Data\\gpcp_extent//gpcp_1dd_v1.2_p1d.20090722.tif"
       ]
      },
      {
       "output_type": "stream",
       "stream": "stdout",
       "text": [
        "\n",
        "D:\\Data\\gpcp_extent//gpcp_1dd_v1.2_p1d.20090723.tif"
       ]
      },
      {
       "output_type": "stream",
       "stream": "stdout",
       "text": [
        "\n",
        "D:\\Data\\gpcp_extent//gpcp_1dd_v1.2_p1d.20090724.tif"
       ]
      },
      {
       "output_type": "stream",
       "stream": "stdout",
       "text": [
        "\n",
        "D:\\Data\\gpcp_extent//gpcp_1dd_v1.2_p1d.20090725.tif"
       ]
      },
      {
       "output_type": "stream",
       "stream": "stdout",
       "text": [
        "\n",
        "D:\\Data\\gpcp_extent//gpcp_1dd_v1.2_p1d.20090726.tif"
       ]
      },
      {
       "output_type": "stream",
       "stream": "stdout",
       "text": [
        "\n",
        "D:\\Data\\gpcp_extent//gpcp_1dd_v1.2_p1d.20090727.tif"
       ]
      },
      {
       "output_type": "stream",
       "stream": "stdout",
       "text": [
        "\n",
        "D:\\Data\\gpcp_extent//gpcp_1dd_v1.2_p1d.20090728.tif"
       ]
      },
      {
       "output_type": "stream",
       "stream": "stdout",
       "text": [
        "\n",
        "D:\\Data\\gpcp_extent//gpcp_1dd_v1.2_p1d.20090729.tif"
       ]
      },
      {
       "output_type": "stream",
       "stream": "stdout",
       "text": [
        "\n",
        "D:\\Data\\gpcp_extent//gpcp_1dd_v1.2_p1d.20090730.tif"
       ]
      },
      {
       "output_type": "stream",
       "stream": "stdout",
       "text": [
        "\n",
        "D:\\Data\\gpcp_extent//gpcp_1dd_v1.2_p1d.20090800.tif"
       ]
      },
      {
       "output_type": "stream",
       "stream": "stdout",
       "text": [
        "\n",
        "D:\\Data\\gpcp_extent//gpcp_1dd_v1.2_p1d.20090801.tif"
       ]
      },
      {
       "output_type": "stream",
       "stream": "stdout",
       "text": [
        "\n",
        "D:\\Data\\gpcp_extent//gpcp_1dd_v1.2_p1d.20090802.tif"
       ]
      },
      {
       "output_type": "stream",
       "stream": "stdout",
       "text": [
        "\n",
        "D:\\Data\\gpcp_extent//gpcp_1dd_v1.2_p1d.20090803.tif"
       ]
      },
      {
       "output_type": "stream",
       "stream": "stdout",
       "text": [
        "\n",
        "D:\\Data\\gpcp_extent//gpcp_1dd_v1.2_p1d.20090804.tif"
       ]
      },
      {
       "output_type": "stream",
       "stream": "stdout",
       "text": [
        "\n",
        "D:\\Data\\gpcp_extent//gpcp_1dd_v1.2_p1d.20090805.tif"
       ]
      },
      {
       "output_type": "stream",
       "stream": "stdout",
       "text": [
        "\n",
        "D:\\Data\\gpcp_extent//gpcp_1dd_v1.2_p1d.20090806.tif"
       ]
      },
      {
       "output_type": "stream",
       "stream": "stdout",
       "text": [
        "\n",
        "D:\\Data\\gpcp_extent//gpcp_1dd_v1.2_p1d.20090807.tif"
       ]
      },
      {
       "output_type": "stream",
       "stream": "stdout",
       "text": [
        "\n",
        "D:\\Data\\gpcp_extent//gpcp_1dd_v1.2_p1d.20090808.tif"
       ]
      },
      {
       "output_type": "stream",
       "stream": "stdout",
       "text": [
        "\n",
        "D:\\Data\\gpcp_extent//gpcp_1dd_v1.2_p1d.20090809.tif"
       ]
      },
      {
       "output_type": "stream",
       "stream": "stdout",
       "text": [
        "\n",
        "D:\\Data\\gpcp_extent//gpcp_1dd_v1.2_p1d.20090810.tif"
       ]
      },
      {
       "output_type": "stream",
       "stream": "stdout",
       "text": [
        "\n",
        "D:\\Data\\gpcp_extent//gpcp_1dd_v1.2_p1d.20090811.tif"
       ]
      },
      {
       "output_type": "stream",
       "stream": "stdout",
       "text": [
        "\n",
        "D:\\Data\\gpcp_extent//gpcp_1dd_v1.2_p1d.20090812.tif"
       ]
      },
      {
       "output_type": "stream",
       "stream": "stdout",
       "text": [
        "\n",
        "D:\\Data\\gpcp_extent//gpcp_1dd_v1.2_p1d.20090813.tif"
       ]
      },
      {
       "output_type": "stream",
       "stream": "stdout",
       "text": [
        "\n",
        "D:\\Data\\gpcp_extent//gpcp_1dd_v1.2_p1d.20090814.tif"
       ]
      },
      {
       "output_type": "stream",
       "stream": "stdout",
       "text": [
        "\n",
        "D:\\Data\\gpcp_extent//gpcp_1dd_v1.2_p1d.20090815.tif"
       ]
      },
      {
       "output_type": "stream",
       "stream": "stdout",
       "text": [
        "\n",
        "D:\\Data\\gpcp_extent//gpcp_1dd_v1.2_p1d.20090816.tif"
       ]
      },
      {
       "output_type": "stream",
       "stream": "stdout",
       "text": [
        "\n",
        "D:\\Data\\gpcp_extent//gpcp_1dd_v1.2_p1d.20090817.tif"
       ]
      },
      {
       "output_type": "stream",
       "stream": "stdout",
       "text": [
        "\n",
        "D:\\Data\\gpcp_extent//gpcp_1dd_v1.2_p1d.20090818.tif"
       ]
      },
      {
       "output_type": "stream",
       "stream": "stdout",
       "text": [
        "\n",
        "D:\\Data\\gpcp_extent//gpcp_1dd_v1.2_p1d.20090819.tif"
       ]
      },
      {
       "output_type": "stream",
       "stream": "stdout",
       "text": [
        "\n",
        "D:\\Data\\gpcp_extent//gpcp_1dd_v1.2_p1d.20090820.tif"
       ]
      },
      {
       "output_type": "stream",
       "stream": "stdout",
       "text": [
        "\n",
        "D:\\Data\\gpcp_extent//gpcp_1dd_v1.2_p1d.20090821.tif"
       ]
      },
      {
       "output_type": "stream",
       "stream": "stdout",
       "text": [
        "\n",
        "D:\\Data\\gpcp_extent//gpcp_1dd_v1.2_p1d.20090822.tif"
       ]
      },
      {
       "output_type": "stream",
       "stream": "stdout",
       "text": [
        "\n",
        "D:\\Data\\gpcp_extent//gpcp_1dd_v1.2_p1d.20090823.tif"
       ]
      },
      {
       "output_type": "stream",
       "stream": "stdout",
       "text": [
        "\n",
        "D:\\Data\\gpcp_extent//gpcp_1dd_v1.2_p1d.20090824.tif"
       ]
      },
      {
       "output_type": "stream",
       "stream": "stdout",
       "text": [
        "\n",
        "D:\\Data\\gpcp_extent//gpcp_1dd_v1.2_p1d.20090825.tif"
       ]
      },
      {
       "output_type": "stream",
       "stream": "stdout",
       "text": [
        "\n",
        "D:\\Data\\gpcp_extent//gpcp_1dd_v1.2_p1d.20090826.tif"
       ]
      },
      {
       "output_type": "stream",
       "stream": "stdout",
       "text": [
        "\n",
        "D:\\Data\\gpcp_extent//gpcp_1dd_v1.2_p1d.20090827.tif"
       ]
      },
      {
       "output_type": "stream",
       "stream": "stdout",
       "text": [
        "\n",
        "D:\\Data\\gpcp_extent//gpcp_1dd_v1.2_p1d.20090828.tif"
       ]
      },
      {
       "output_type": "stream",
       "stream": "stdout",
       "text": [
        "\n",
        "D:\\Data\\gpcp_extent//gpcp_1dd_v1.2_p1d.20090829.tif"
       ]
      },
      {
       "output_type": "stream",
       "stream": "stdout",
       "text": [
        "\n",
        "D:\\Data\\gpcp_extent//gpcp_1dd_v1.2_p1d.20090830.tif"
       ]
      },
      {
       "output_type": "stream",
       "stream": "stdout",
       "text": [
        "\n",
        "D:\\Data\\gpcp_extent//gpcp_1dd_v1.2_p1d.20090900.tif"
       ]
      },
      {
       "output_type": "stream",
       "stream": "stdout",
       "text": [
        "\n",
        "D:\\Data\\gpcp_extent//gpcp_1dd_v1.2_p1d.20090901.tif"
       ]
      },
      {
       "output_type": "stream",
       "stream": "stdout",
       "text": [
        "\n",
        "D:\\Data\\gpcp_extent//gpcp_1dd_v1.2_p1d.20090902.tif"
       ]
      },
      {
       "output_type": "stream",
       "stream": "stdout",
       "text": [
        "\n",
        "D:\\Data\\gpcp_extent//gpcp_1dd_v1.2_p1d.20090903.tif"
       ]
      },
      {
       "output_type": "stream",
       "stream": "stdout",
       "text": [
        "\n",
        "D:\\Data\\gpcp_extent//gpcp_1dd_v1.2_p1d.20090904.tif"
       ]
      },
      {
       "output_type": "stream",
       "stream": "stdout",
       "text": [
        "\n",
        "D:\\Data\\gpcp_extent//gpcp_1dd_v1.2_p1d.20090905.tif"
       ]
      },
      {
       "output_type": "stream",
       "stream": "stdout",
       "text": [
        "\n",
        "D:\\Data\\gpcp_extent//gpcp_1dd_v1.2_p1d.20090906.tif"
       ]
      },
      {
       "output_type": "stream",
       "stream": "stdout",
       "text": [
        "\n",
        "D:\\Data\\gpcp_extent//gpcp_1dd_v1.2_p1d.20090907.tif"
       ]
      },
      {
       "output_type": "stream",
       "stream": "stdout",
       "text": [
        "\n",
        "D:\\Data\\gpcp_extent//gpcp_1dd_v1.2_p1d.20090908.tif"
       ]
      },
      {
       "output_type": "stream",
       "stream": "stdout",
       "text": [
        "\n",
        "D:\\Data\\gpcp_extent//gpcp_1dd_v1.2_p1d.20090909.tif"
       ]
      },
      {
       "output_type": "stream",
       "stream": "stdout",
       "text": [
        "\n",
        "D:\\Data\\gpcp_extent//gpcp_1dd_v1.2_p1d.20090910.tif"
       ]
      },
      {
       "output_type": "stream",
       "stream": "stdout",
       "text": [
        "\n",
        "D:\\Data\\gpcp_extent//gpcp_1dd_v1.2_p1d.20090911.tif"
       ]
      },
      {
       "output_type": "stream",
       "stream": "stdout",
       "text": [
        "\n",
        "D:\\Data\\gpcp_extent//gpcp_1dd_v1.2_p1d.20090912.tif"
       ]
      },
      {
       "output_type": "stream",
       "stream": "stdout",
       "text": [
        "\n",
        "D:\\Data\\gpcp_extent//gpcp_1dd_v1.2_p1d.20090913.tif"
       ]
      },
      {
       "output_type": "stream",
       "stream": "stdout",
       "text": [
        "\n",
        "D:\\Data\\gpcp_extent//gpcp_1dd_v1.2_p1d.20090914.tif"
       ]
      },
      {
       "output_type": "stream",
       "stream": "stdout",
       "text": [
        "\n",
        "D:\\Data\\gpcp_extent//gpcp_1dd_v1.2_p1d.20090915.tif"
       ]
      },
      {
       "output_type": "stream",
       "stream": "stdout",
       "text": [
        "\n",
        "D:\\Data\\gpcp_extent//gpcp_1dd_v1.2_p1d.20090916.tif"
       ]
      },
      {
       "output_type": "stream",
       "stream": "stdout",
       "text": [
        "\n",
        "D:\\Data\\gpcp_extent//gpcp_1dd_v1.2_p1d.20090917.tif"
       ]
      },
      {
       "output_type": "stream",
       "stream": "stdout",
       "text": [
        "\n",
        "D:\\Data\\gpcp_extent//gpcp_1dd_v1.2_p1d.20090918.tif"
       ]
      },
      {
       "output_type": "stream",
       "stream": "stdout",
       "text": [
        "\n",
        "D:\\Data\\gpcp_extent//gpcp_1dd_v1.2_p1d.20090919.tif"
       ]
      },
      {
       "output_type": "stream",
       "stream": "stdout",
       "text": [
        "\n",
        "D:\\Data\\gpcp_extent//gpcp_1dd_v1.2_p1d.20090920.tif"
       ]
      },
      {
       "output_type": "stream",
       "stream": "stdout",
       "text": [
        "\n",
        "D:\\Data\\gpcp_extent//gpcp_1dd_v1.2_p1d.20090921.tif"
       ]
      },
      {
       "output_type": "stream",
       "stream": "stdout",
       "text": [
        "\n",
        "D:\\Data\\gpcp_extent//gpcp_1dd_v1.2_p1d.20090922.tif"
       ]
      },
      {
       "output_type": "stream",
       "stream": "stdout",
       "text": [
        "\n",
        "D:\\Data\\gpcp_extent//gpcp_1dd_v1.2_p1d.20090923.tif"
       ]
      },
      {
       "output_type": "stream",
       "stream": "stdout",
       "text": [
        "\n",
        "D:\\Data\\gpcp_extent//gpcp_1dd_v1.2_p1d.20090924.tif"
       ]
      },
      {
       "output_type": "stream",
       "stream": "stdout",
       "text": [
        "\n",
        "D:\\Data\\gpcp_extent//gpcp_1dd_v1.2_p1d.20090925.tif"
       ]
      },
      {
       "output_type": "stream",
       "stream": "stdout",
       "text": [
        "\n",
        "D:\\Data\\gpcp_extent//gpcp_1dd_v1.2_p1d.20090926.tif"
       ]
      },
      {
       "output_type": "stream",
       "stream": "stdout",
       "text": [
        "\n",
        "D:\\Data\\gpcp_extent//gpcp_1dd_v1.2_p1d.20090927.tif"
       ]
      },
      {
       "output_type": "stream",
       "stream": "stdout",
       "text": [
        "\n",
        "D:\\Data\\gpcp_extent//gpcp_1dd_v1.2_p1d.20090928.tif"
       ]
      },
      {
       "output_type": "stream",
       "stream": "stdout",
       "text": [
        "\n",
        "D:\\Data\\gpcp_extent//gpcp_1dd_v1.2_p1d.20090929.tif"
       ]
      },
      {
       "output_type": "stream",
       "stream": "stdout",
       "text": [
        "\n",
        "D:\\Data\\gpcp_extent//gpcp_1dd_v1.2_p1d.20091000.tif"
       ]
      },
      {
       "output_type": "stream",
       "stream": "stdout",
       "text": [
        "\n",
        "D:\\Data\\gpcp_extent//gpcp_1dd_v1.2_p1d.20091001.tif"
       ]
      },
      {
       "output_type": "stream",
       "stream": "stdout",
       "text": [
        "\n",
        "D:\\Data\\gpcp_extent//gpcp_1dd_v1.2_p1d.20091002.tif"
       ]
      },
      {
       "output_type": "stream",
       "stream": "stdout",
       "text": [
        "\n",
        "D:\\Data\\gpcp_extent//gpcp_1dd_v1.2_p1d.20091003.tif"
       ]
      },
      {
       "output_type": "stream",
       "stream": "stdout",
       "text": [
        "\n",
        "D:\\Data\\gpcp_extent//gpcp_1dd_v1.2_p1d.20091004.tif"
       ]
      },
      {
       "output_type": "stream",
       "stream": "stdout",
       "text": [
        "\n",
        "D:\\Data\\gpcp_extent//gpcp_1dd_v1.2_p1d.20091005.tif"
       ]
      },
      {
       "output_type": "stream",
       "stream": "stdout",
       "text": [
        "\n",
        "D:\\Data\\gpcp_extent//gpcp_1dd_v1.2_p1d.20091006.tif"
       ]
      },
      {
       "output_type": "stream",
       "stream": "stdout",
       "text": [
        "\n",
        "D:\\Data\\gpcp_extent//gpcp_1dd_v1.2_p1d.20091007.tif"
       ]
      },
      {
       "output_type": "stream",
       "stream": "stdout",
       "text": [
        "\n",
        "D:\\Data\\gpcp_extent//gpcp_1dd_v1.2_p1d.20091008.tif"
       ]
      },
      {
       "output_type": "stream",
       "stream": "stdout",
       "text": [
        "\n",
        "D:\\Data\\gpcp_extent//gpcp_1dd_v1.2_p1d.20091009.tif"
       ]
      },
      {
       "output_type": "stream",
       "stream": "stdout",
       "text": [
        "\n",
        "D:\\Data\\gpcp_extent//gpcp_1dd_v1.2_p1d.20091010.tif"
       ]
      },
      {
       "output_type": "stream",
       "stream": "stdout",
       "text": [
        "\n",
        "D:\\Data\\gpcp_extent//gpcp_1dd_v1.2_p1d.20091011.tif"
       ]
      },
      {
       "output_type": "stream",
       "stream": "stdout",
       "text": [
        "\n",
        "D:\\Data\\gpcp_extent//gpcp_1dd_v1.2_p1d.20091012.tif"
       ]
      },
      {
       "output_type": "stream",
       "stream": "stdout",
       "text": [
        "\n",
        "D:\\Data\\gpcp_extent//gpcp_1dd_v1.2_p1d.20091013.tif"
       ]
      },
      {
       "output_type": "stream",
       "stream": "stdout",
       "text": [
        "\n",
        "D:\\Data\\gpcp_extent//gpcp_1dd_v1.2_p1d.20091014.tif"
       ]
      },
      {
       "output_type": "stream",
       "stream": "stdout",
       "text": [
        "\n",
        "D:\\Data\\gpcp_extent//gpcp_1dd_v1.2_p1d.20091015.tif"
       ]
      },
      {
       "output_type": "stream",
       "stream": "stdout",
       "text": [
        "\n",
        "D:\\Data\\gpcp_extent//gpcp_1dd_v1.2_p1d.20091016.tif"
       ]
      },
      {
       "output_type": "stream",
       "stream": "stdout",
       "text": [
        "\n",
        "D:\\Data\\gpcp_extent//gpcp_1dd_v1.2_p1d.20091017.tif"
       ]
      },
      {
       "output_type": "stream",
       "stream": "stdout",
       "text": [
        "\n",
        "D:\\Data\\gpcp_extent//gpcp_1dd_v1.2_p1d.20091018.tif"
       ]
      },
      {
       "output_type": "stream",
       "stream": "stdout",
       "text": [
        "\n",
        "D:\\Data\\gpcp_extent//gpcp_1dd_v1.2_p1d.20091019.tif"
       ]
      },
      {
       "output_type": "stream",
       "stream": "stdout",
       "text": [
        "\n",
        "D:\\Data\\gpcp_extent//gpcp_1dd_v1.2_p1d.20091020.tif"
       ]
      },
      {
       "output_type": "stream",
       "stream": "stdout",
       "text": [
        "\n",
        "D:\\Data\\gpcp_extent//gpcp_1dd_v1.2_p1d.20091021.tif"
       ]
      },
      {
       "output_type": "stream",
       "stream": "stdout",
       "text": [
        "\n",
        "D:\\Data\\gpcp_extent//gpcp_1dd_v1.2_p1d.20091022.tif"
       ]
      },
      {
       "output_type": "stream",
       "stream": "stdout",
       "text": [
        "\n",
        "D:\\Data\\gpcp_extent//gpcp_1dd_v1.2_p1d.20091023.tif"
       ]
      },
      {
       "output_type": "stream",
       "stream": "stdout",
       "text": [
        "\n",
        "D:\\Data\\gpcp_extent//gpcp_1dd_v1.2_p1d.20091024.tif"
       ]
      },
      {
       "output_type": "stream",
       "stream": "stdout",
       "text": [
        "\n",
        "D:\\Data\\gpcp_extent//gpcp_1dd_v1.2_p1d.20091025.tif"
       ]
      },
      {
       "output_type": "stream",
       "stream": "stdout",
       "text": [
        "\n",
        "D:\\Data\\gpcp_extent//gpcp_1dd_v1.2_p1d.20091026.tif"
       ]
      },
      {
       "output_type": "stream",
       "stream": "stdout",
       "text": [
        "\n",
        "D:\\Data\\gpcp_extent//gpcp_1dd_v1.2_p1d.20091027.tif"
       ]
      },
      {
       "output_type": "stream",
       "stream": "stdout",
       "text": [
        "\n",
        "D:\\Data\\gpcp_extent//gpcp_1dd_v1.2_p1d.20091028.tif"
       ]
      },
      {
       "output_type": "stream",
       "stream": "stdout",
       "text": [
        "\n",
        "D:\\Data\\gpcp_extent//gpcp_1dd_v1.2_p1d.20091029.tif"
       ]
      },
      {
       "output_type": "stream",
       "stream": "stdout",
       "text": [
        "\n",
        "D:\\Data\\gpcp_extent//gpcp_1dd_v1.2_p1d.20091030.tif"
       ]
      },
      {
       "output_type": "stream",
       "stream": "stdout",
       "text": [
        "\n",
        "D:\\Data\\gpcp_extent//gpcp_1dd_v1.2_p1d.20091100.tif"
       ]
      },
      {
       "output_type": "stream",
       "stream": "stdout",
       "text": [
        "\n",
        "D:\\Data\\gpcp_extent//gpcp_1dd_v1.2_p1d.20091101.tif"
       ]
      },
      {
       "output_type": "stream",
       "stream": "stdout",
       "text": [
        "\n",
        "D:\\Data\\gpcp_extent//gpcp_1dd_v1.2_p1d.20091102.tif"
       ]
      },
      {
       "output_type": "stream",
       "stream": "stdout",
       "text": [
        "\n",
        "D:\\Data\\gpcp_extent//gpcp_1dd_v1.2_p1d.20091103.tif"
       ]
      },
      {
       "output_type": "stream",
       "stream": "stdout",
       "text": [
        "\n",
        "D:\\Data\\gpcp_extent//gpcp_1dd_v1.2_p1d.20091104.tif"
       ]
      },
      {
       "output_type": "stream",
       "stream": "stdout",
       "text": [
        "\n",
        "D:\\Data\\gpcp_extent//gpcp_1dd_v1.2_p1d.20091105.tif"
       ]
      },
      {
       "output_type": "stream",
       "stream": "stdout",
       "text": [
        "\n",
        "D:\\Data\\gpcp_extent//gpcp_1dd_v1.2_p1d.20091106.tif"
       ]
      },
      {
       "output_type": "stream",
       "stream": "stdout",
       "text": [
        "\n",
        "D:\\Data\\gpcp_extent//gpcp_1dd_v1.2_p1d.20091107.tif"
       ]
      },
      {
       "output_type": "stream",
       "stream": "stdout",
       "text": [
        "\n",
        "D:\\Data\\gpcp_extent//gpcp_1dd_v1.2_p1d.20091108.tif"
       ]
      },
      {
       "output_type": "stream",
       "stream": "stdout",
       "text": [
        "\n",
        "D:\\Data\\gpcp_extent//gpcp_1dd_v1.2_p1d.20091109.tif"
       ]
      },
      {
       "output_type": "stream",
       "stream": "stdout",
       "text": [
        "\n",
        "D:\\Data\\gpcp_extent//gpcp_1dd_v1.2_p1d.20091110.tif"
       ]
      },
      {
       "output_type": "stream",
       "stream": "stdout",
       "text": [
        "\n",
        "D:\\Data\\gpcp_extent//gpcp_1dd_v1.2_p1d.20091111.tif"
       ]
      },
      {
       "output_type": "stream",
       "stream": "stdout",
       "text": [
        "\n",
        "D:\\Data\\gpcp_extent//gpcp_1dd_v1.2_p1d.20091112.tif"
       ]
      },
      {
       "output_type": "stream",
       "stream": "stdout",
       "text": [
        "\n",
        "D:\\Data\\gpcp_extent//gpcp_1dd_v1.2_p1d.20091113.tif"
       ]
      },
      {
       "output_type": "stream",
       "stream": "stdout",
       "text": [
        "\n",
        "D:\\Data\\gpcp_extent//gpcp_1dd_v1.2_p1d.20091114.tif"
       ]
      },
      {
       "output_type": "stream",
       "stream": "stdout",
       "text": [
        "\n",
        "D:\\Data\\gpcp_extent//gpcp_1dd_v1.2_p1d.20091115.tif"
       ]
      },
      {
       "output_type": "stream",
       "stream": "stdout",
       "text": [
        "\n",
        "D:\\Data\\gpcp_extent//gpcp_1dd_v1.2_p1d.20091116.tif"
       ]
      },
      {
       "output_type": "stream",
       "stream": "stdout",
       "text": [
        "\n",
        "D:\\Data\\gpcp_extent//gpcp_1dd_v1.2_p1d.20091117.tif"
       ]
      },
      {
       "output_type": "stream",
       "stream": "stdout",
       "text": [
        "\n",
        "D:\\Data\\gpcp_extent//gpcp_1dd_v1.2_p1d.20091118.tif"
       ]
      },
      {
       "output_type": "stream",
       "stream": "stdout",
       "text": [
        "\n",
        "D:\\Data\\gpcp_extent//gpcp_1dd_v1.2_p1d.20091119.tif"
       ]
      },
      {
       "output_type": "stream",
       "stream": "stdout",
       "text": [
        "\n",
        "D:\\Data\\gpcp_extent//gpcp_1dd_v1.2_p1d.20091120.tif"
       ]
      },
      {
       "output_type": "stream",
       "stream": "stdout",
       "text": [
        "\n",
        "D:\\Data\\gpcp_extent//gpcp_1dd_v1.2_p1d.20091121.tif"
       ]
      },
      {
       "output_type": "stream",
       "stream": "stdout",
       "text": [
        "\n",
        "D:\\Data\\gpcp_extent//gpcp_1dd_v1.2_p1d.20091122.tif"
       ]
      },
      {
       "output_type": "stream",
       "stream": "stdout",
       "text": [
        "\n",
        "D:\\Data\\gpcp_extent//gpcp_1dd_v1.2_p1d.20091123.tif"
       ]
      },
      {
       "output_type": "stream",
       "stream": "stdout",
       "text": [
        "\n",
        "D:\\Data\\gpcp_extent//gpcp_1dd_v1.2_p1d.20091124.tif"
       ]
      },
      {
       "output_type": "stream",
       "stream": "stdout",
       "text": [
        "\n",
        "D:\\Data\\gpcp_extent//gpcp_1dd_v1.2_p1d.20091125.tif"
       ]
      },
      {
       "output_type": "stream",
       "stream": "stdout",
       "text": [
        "\n",
        "D:\\Data\\gpcp_extent//gpcp_1dd_v1.2_p1d.20091126.tif"
       ]
      },
      {
       "output_type": "stream",
       "stream": "stdout",
       "text": [
        "\n",
        "D:\\Data\\gpcp_extent//gpcp_1dd_v1.2_p1d.20091127.tif"
       ]
      },
      {
       "output_type": "stream",
       "stream": "stdout",
       "text": [
        "\n",
        "D:\\Data\\gpcp_extent//gpcp_1dd_v1.2_p1d.20091128.tif"
       ]
      },
      {
       "output_type": "stream",
       "stream": "stdout",
       "text": [
        "\n",
        "D:\\Data\\gpcp_extent//gpcp_1dd_v1.2_p1d.20091129.tif"
       ]
      },
      {
       "output_type": "stream",
       "stream": "stdout",
       "text": [
        "\n",
        "D:\\Data\\gpcp_extent//gpcp_1dd_v1.2_p1d.20091200.tif"
       ]
      },
      {
       "output_type": "stream",
       "stream": "stdout",
       "text": [
        "\n",
        "D:\\Data\\gpcp_extent//gpcp_1dd_v1.2_p1d.20091201.tif"
       ]
      },
      {
       "output_type": "stream",
       "stream": "stdout",
       "text": [
        "\n",
        "D:\\Data\\gpcp_extent//gpcp_1dd_v1.2_p1d.20091202.tif"
       ]
      },
      {
       "output_type": "stream",
       "stream": "stdout",
       "text": [
        "\n",
        "D:\\Data\\gpcp_extent//gpcp_1dd_v1.2_p1d.20091203.tif"
       ]
      },
      {
       "output_type": "stream",
       "stream": "stdout",
       "text": [
        "\n",
        "D:\\Data\\gpcp_extent//gpcp_1dd_v1.2_p1d.20091204.tif"
       ]
      },
      {
       "output_type": "stream",
       "stream": "stdout",
       "text": [
        "\n",
        "D:\\Data\\gpcp_extent//gpcp_1dd_v1.2_p1d.20091205.tif"
       ]
      },
      {
       "output_type": "stream",
       "stream": "stdout",
       "text": [
        "\n",
        "D:\\Data\\gpcp_extent//gpcp_1dd_v1.2_p1d.20091206.tif"
       ]
      },
      {
       "output_type": "stream",
       "stream": "stdout",
       "text": [
        "\n",
        "D:\\Data\\gpcp_extent//gpcp_1dd_v1.2_p1d.20091207.tif"
       ]
      },
      {
       "output_type": "stream",
       "stream": "stdout",
       "text": [
        "\n",
        "D:\\Data\\gpcp_extent//gpcp_1dd_v1.2_p1d.20091208.tif"
       ]
      },
      {
       "output_type": "stream",
       "stream": "stdout",
       "text": [
        "\n",
        "D:\\Data\\gpcp_extent//gpcp_1dd_v1.2_p1d.20091209.tif"
       ]
      },
      {
       "output_type": "stream",
       "stream": "stdout",
       "text": [
        "\n",
        "D:\\Data\\gpcp_extent//gpcp_1dd_v1.2_p1d.20091210.tif"
       ]
      },
      {
       "output_type": "stream",
       "stream": "stdout",
       "text": [
        "\n",
        "D:\\Data\\gpcp_extent//gpcp_1dd_v1.2_p1d.20091211.tif"
       ]
      },
      {
       "output_type": "stream",
       "stream": "stdout",
       "text": [
        "\n",
        "D:\\Data\\gpcp_extent//gpcp_1dd_v1.2_p1d.20091212.tif"
       ]
      },
      {
       "output_type": "stream",
       "stream": "stdout",
       "text": [
        "\n",
        "D:\\Data\\gpcp_extent//gpcp_1dd_v1.2_p1d.20091213.tif"
       ]
      },
      {
       "output_type": "stream",
       "stream": "stdout",
       "text": [
        "\n",
        "D:\\Data\\gpcp_extent//gpcp_1dd_v1.2_p1d.20091214.tif"
       ]
      },
      {
       "output_type": "stream",
       "stream": "stdout",
       "text": [
        "\n",
        "D:\\Data\\gpcp_extent//gpcp_1dd_v1.2_p1d.20091215.tif"
       ]
      },
      {
       "output_type": "stream",
       "stream": "stdout",
       "text": [
        "\n",
        "D:\\Data\\gpcp_extent//gpcp_1dd_v1.2_p1d.20091216.tif"
       ]
      },
      {
       "output_type": "stream",
       "stream": "stdout",
       "text": [
        "\n",
        "D:\\Data\\gpcp_extent//gpcp_1dd_v1.2_p1d.20091217.tif"
       ]
      },
      {
       "output_type": "stream",
       "stream": "stdout",
       "text": [
        "\n",
        "D:\\Data\\gpcp_extent//gpcp_1dd_v1.2_p1d.20091218.tif"
       ]
      },
      {
       "output_type": "stream",
       "stream": "stdout",
       "text": [
        "\n",
        "D:\\Data\\gpcp_extent//gpcp_1dd_v1.2_p1d.20091219.tif"
       ]
      },
      {
       "output_type": "stream",
       "stream": "stdout",
       "text": [
        "\n",
        "D:\\Data\\gpcp_extent//gpcp_1dd_v1.2_p1d.20091220.tif"
       ]
      },
      {
       "output_type": "stream",
       "stream": "stdout",
       "text": [
        "\n",
        "D:\\Data\\gpcp_extent//gpcp_1dd_v1.2_p1d.20091221.tif"
       ]
      },
      {
       "output_type": "stream",
       "stream": "stdout",
       "text": [
        "\n",
        "D:\\Data\\gpcp_extent//gpcp_1dd_v1.2_p1d.20091222.tif"
       ]
      },
      {
       "output_type": "stream",
       "stream": "stdout",
       "text": [
        "\n",
        "D:\\Data\\gpcp_extent//gpcp_1dd_v1.2_p1d.20091223.tif"
       ]
      },
      {
       "output_type": "stream",
       "stream": "stdout",
       "text": [
        "\n",
        "D:\\Data\\gpcp_extent//gpcp_1dd_v1.2_p1d.20091224.tif"
       ]
      },
      {
       "output_type": "stream",
       "stream": "stdout",
       "text": [
        "\n",
        "D:\\Data\\gpcp_extent//gpcp_1dd_v1.2_p1d.20091225.tif"
       ]
      },
      {
       "output_type": "stream",
       "stream": "stdout",
       "text": [
        "\n",
        "D:\\Data\\gpcp_extent//gpcp_1dd_v1.2_p1d.20091226.tif"
       ]
      },
      {
       "output_type": "stream",
       "stream": "stdout",
       "text": [
        "\n",
        "D:\\Data\\gpcp_extent//gpcp_1dd_v1.2_p1d.20091227.tif"
       ]
      },
      {
       "output_type": "stream",
       "stream": "stdout",
       "text": [
        "\n",
        "D:\\Data\\gpcp_extent//gpcp_1dd_v1.2_p1d.20091228.tif"
       ]
      },
      {
       "output_type": "stream",
       "stream": "stdout",
       "text": [
        "\n",
        "D:\\Data\\gpcp_extent//gpcp_1dd_v1.2_p1d.20091229.tif"
       ]
      },
      {
       "output_type": "stream",
       "stream": "stdout",
       "text": [
        "\n",
        "D:\\Data\\gpcp_extent//gpcp_1dd_v1.2_p1d.20091230.tif"
       ]
      },
      {
       "output_type": "stream",
       "stream": "stdout",
       "text": [
        "\n",
        "D:\\Data\\gpcp_extent//gpcp_1dd_v1.2_p1d.20100100.tif"
       ]
      },
      {
       "output_type": "stream",
       "stream": "stdout",
       "text": [
        "\n",
        "D:\\Data\\gpcp_extent//gpcp_1dd_v1.2_p1d.20100101.tif"
       ]
      },
      {
       "output_type": "stream",
       "stream": "stdout",
       "text": [
        "\n",
        "D:\\Data\\gpcp_extent//gpcp_1dd_v1.2_p1d.20100102.tif"
       ]
      },
      {
       "output_type": "stream",
       "stream": "stdout",
       "text": [
        "\n",
        "D:\\Data\\gpcp_extent//gpcp_1dd_v1.2_p1d.20100103.tif"
       ]
      },
      {
       "output_type": "stream",
       "stream": "stdout",
       "text": [
        "\n",
        "D:\\Data\\gpcp_extent//gpcp_1dd_v1.2_p1d.20100104.tif"
       ]
      },
      {
       "output_type": "stream",
       "stream": "stdout",
       "text": [
        "\n",
        "D:\\Data\\gpcp_extent//gpcp_1dd_v1.2_p1d.20100105.tif"
       ]
      },
      {
       "output_type": "stream",
       "stream": "stdout",
       "text": [
        "\n",
        "D:\\Data\\gpcp_extent//gpcp_1dd_v1.2_p1d.20100106.tif"
       ]
      },
      {
       "output_type": "stream",
       "stream": "stdout",
       "text": [
        "\n",
        "D:\\Data\\gpcp_extent//gpcp_1dd_v1.2_p1d.20100107.tif"
       ]
      },
      {
       "output_type": "stream",
       "stream": "stdout",
       "text": [
        "\n",
        "D:\\Data\\gpcp_extent//gpcp_1dd_v1.2_p1d.20100108.tif"
       ]
      },
      {
       "output_type": "stream",
       "stream": "stdout",
       "text": [
        "\n",
        "D:\\Data\\gpcp_extent//gpcp_1dd_v1.2_p1d.20100109.tif"
       ]
      },
      {
       "output_type": "stream",
       "stream": "stdout",
       "text": [
        "\n",
        "D:\\Data\\gpcp_extent//gpcp_1dd_v1.2_p1d.20100110.tif"
       ]
      },
      {
       "output_type": "stream",
       "stream": "stdout",
       "text": [
        "\n",
        "D:\\Data\\gpcp_extent//gpcp_1dd_v1.2_p1d.20100111.tif"
       ]
      },
      {
       "output_type": "stream",
       "stream": "stdout",
       "text": [
        "\n",
        "D:\\Data\\gpcp_extent//gpcp_1dd_v1.2_p1d.20100112.tif"
       ]
      },
      {
       "output_type": "stream",
       "stream": "stdout",
       "text": [
        "\n",
        "D:\\Data\\gpcp_extent//gpcp_1dd_v1.2_p1d.20100113.tif"
       ]
      },
      {
       "output_type": "stream",
       "stream": "stdout",
       "text": [
        "\n",
        "D:\\Data\\gpcp_extent//gpcp_1dd_v1.2_p1d.20100114.tif"
       ]
      },
      {
       "output_type": "stream",
       "stream": "stdout",
       "text": [
        "\n",
        "D:\\Data\\gpcp_extent//gpcp_1dd_v1.2_p1d.20100115.tif"
       ]
      },
      {
       "output_type": "stream",
       "stream": "stdout",
       "text": [
        "\n",
        "D:\\Data\\gpcp_extent//gpcp_1dd_v1.2_p1d.20100116.tif"
       ]
      },
      {
       "output_type": "stream",
       "stream": "stdout",
       "text": [
        "\n",
        "D:\\Data\\gpcp_extent//gpcp_1dd_v1.2_p1d.20100117.tif"
       ]
      },
      {
       "output_type": "stream",
       "stream": "stdout",
       "text": [
        "\n",
        "D:\\Data\\gpcp_extent//gpcp_1dd_v1.2_p1d.20100118.tif"
       ]
      },
      {
       "output_type": "stream",
       "stream": "stdout",
       "text": [
        "\n",
        "D:\\Data\\gpcp_extent//gpcp_1dd_v1.2_p1d.20100119.tif"
       ]
      },
      {
       "output_type": "stream",
       "stream": "stdout",
       "text": [
        "\n",
        "D:\\Data\\gpcp_extent//gpcp_1dd_v1.2_p1d.20100120.tif"
       ]
      },
      {
       "output_type": "stream",
       "stream": "stdout",
       "text": [
        "\n",
        "D:\\Data\\gpcp_extent//gpcp_1dd_v1.2_p1d.20100121.tif"
       ]
      },
      {
       "output_type": "stream",
       "stream": "stdout",
       "text": [
        "\n",
        "D:\\Data\\gpcp_extent//gpcp_1dd_v1.2_p1d.20100122.tif"
       ]
      },
      {
       "output_type": "stream",
       "stream": "stdout",
       "text": [
        "\n",
        "D:\\Data\\gpcp_extent//gpcp_1dd_v1.2_p1d.20100123.tif"
       ]
      },
      {
       "output_type": "stream",
       "stream": "stdout",
       "text": [
        "\n",
        "D:\\Data\\gpcp_extent//gpcp_1dd_v1.2_p1d.20100124.tif"
       ]
      },
      {
       "output_type": "stream",
       "stream": "stdout",
       "text": [
        "\n",
        "D:\\Data\\gpcp_extent//gpcp_1dd_v1.2_p1d.20100125.tif"
       ]
      },
      {
       "output_type": "stream",
       "stream": "stdout",
       "text": [
        "\n",
        "D:\\Data\\gpcp_extent//gpcp_1dd_v1.2_p1d.20100126.tif"
       ]
      },
      {
       "output_type": "stream",
       "stream": "stdout",
       "text": [
        "\n",
        "D:\\Data\\gpcp_extent//gpcp_1dd_v1.2_p1d.20100127.tif"
       ]
      },
      {
       "output_type": "stream",
       "stream": "stdout",
       "text": [
        "\n",
        "D:\\Data\\gpcp_extent//gpcp_1dd_v1.2_p1d.20100128.tif"
       ]
      },
      {
       "output_type": "stream",
       "stream": "stdout",
       "text": [
        "\n",
        "D:\\Data\\gpcp_extent//gpcp_1dd_v1.2_p1d.20100129.tif"
       ]
      },
      {
       "output_type": "stream",
       "stream": "stdout",
       "text": [
        "\n",
        "D:\\Data\\gpcp_extent//gpcp_1dd_v1.2_p1d.20100130.tif"
       ]
      },
      {
       "output_type": "stream",
       "stream": "stdout",
       "text": [
        "\n",
        "D:\\Data\\gpcp_extent//gpcp_1dd_v1.2_p1d.20100200.tif"
       ]
      },
      {
       "output_type": "stream",
       "stream": "stdout",
       "text": [
        "\n",
        "D:\\Data\\gpcp_extent//gpcp_1dd_v1.2_p1d.20100201.tif"
       ]
      },
      {
       "output_type": "stream",
       "stream": "stdout",
       "text": [
        "\n",
        "D:\\Data\\gpcp_extent//gpcp_1dd_v1.2_p1d.20100202.tif"
       ]
      },
      {
       "output_type": "stream",
       "stream": "stdout",
       "text": [
        "\n",
        "D:\\Data\\gpcp_extent//gpcp_1dd_v1.2_p1d.20100203.tif"
       ]
      },
      {
       "output_type": "stream",
       "stream": "stdout",
       "text": [
        "\n",
        "D:\\Data\\gpcp_extent//gpcp_1dd_v1.2_p1d.20100204.tif"
       ]
      },
      {
       "output_type": "stream",
       "stream": "stdout",
       "text": [
        "\n",
        "D:\\Data\\gpcp_extent//gpcp_1dd_v1.2_p1d.20100205.tif"
       ]
      },
      {
       "output_type": "stream",
       "stream": "stdout",
       "text": [
        "\n",
        "D:\\Data\\gpcp_extent//gpcp_1dd_v1.2_p1d.20100206.tif"
       ]
      },
      {
       "output_type": "stream",
       "stream": "stdout",
       "text": [
        "\n",
        "D:\\Data\\gpcp_extent//gpcp_1dd_v1.2_p1d.20100207.tif"
       ]
      },
      {
       "output_type": "stream",
       "stream": "stdout",
       "text": [
        "\n",
        "D:\\Data\\gpcp_extent//gpcp_1dd_v1.2_p1d.20100208.tif"
       ]
      },
      {
       "output_type": "stream",
       "stream": "stdout",
       "text": [
        "\n",
        "D:\\Data\\gpcp_extent//gpcp_1dd_v1.2_p1d.20100209.tif"
       ]
      },
      {
       "output_type": "stream",
       "stream": "stdout",
       "text": [
        "\n",
        "D:\\Data\\gpcp_extent//gpcp_1dd_v1.2_p1d.20100210.tif"
       ]
      },
      {
       "output_type": "stream",
       "stream": "stdout",
       "text": [
        "\n",
        "D:\\Data\\gpcp_extent//gpcp_1dd_v1.2_p1d.20100211.tif"
       ]
      },
      {
       "output_type": "stream",
       "stream": "stdout",
       "text": [
        "\n",
        "D:\\Data\\gpcp_extent//gpcp_1dd_v1.2_p1d.20100212.tif"
       ]
      },
      {
       "output_type": "stream",
       "stream": "stdout",
       "text": [
        "\n",
        "D:\\Data\\gpcp_extent//gpcp_1dd_v1.2_p1d.20100213.tif"
       ]
      },
      {
       "output_type": "stream",
       "stream": "stdout",
       "text": [
        "\n",
        "D:\\Data\\gpcp_extent//gpcp_1dd_v1.2_p1d.20100214.tif"
       ]
      },
      {
       "output_type": "stream",
       "stream": "stdout",
       "text": [
        "\n",
        "D:\\Data\\gpcp_extent//gpcp_1dd_v1.2_p1d.20100215.tif"
       ]
      },
      {
       "output_type": "stream",
       "stream": "stdout",
       "text": [
        "\n",
        "D:\\Data\\gpcp_extent//gpcp_1dd_v1.2_p1d.20100216.tif"
       ]
      },
      {
       "output_type": "stream",
       "stream": "stdout",
       "text": [
        "\n",
        "D:\\Data\\gpcp_extent//gpcp_1dd_v1.2_p1d.20100217.tif"
       ]
      },
      {
       "output_type": "stream",
       "stream": "stdout",
       "text": [
        "\n",
        "D:\\Data\\gpcp_extent//gpcp_1dd_v1.2_p1d.20100218.tif"
       ]
      },
      {
       "output_type": "stream",
       "stream": "stdout",
       "text": [
        "\n",
        "D:\\Data\\gpcp_extent//gpcp_1dd_v1.2_p1d.20100219.tif"
       ]
      },
      {
       "output_type": "stream",
       "stream": "stdout",
       "text": [
        "\n",
        "D:\\Data\\gpcp_extent//gpcp_1dd_v1.2_p1d.20100220.tif"
       ]
      },
      {
       "output_type": "stream",
       "stream": "stdout",
       "text": [
        "\n",
        "D:\\Data\\gpcp_extent//gpcp_1dd_v1.2_p1d.20100221.tif"
       ]
      },
      {
       "output_type": "stream",
       "stream": "stdout",
       "text": [
        "\n",
        "D:\\Data\\gpcp_extent//gpcp_1dd_v1.2_p1d.20100222.tif"
       ]
      },
      {
       "output_type": "stream",
       "stream": "stdout",
       "text": [
        "\n",
        "D:\\Data\\gpcp_extent//gpcp_1dd_v1.2_p1d.20100223.tif"
       ]
      },
      {
       "output_type": "stream",
       "stream": "stdout",
       "text": [
        "\n",
        "D:\\Data\\gpcp_extent//gpcp_1dd_v1.2_p1d.20100224.tif"
       ]
      },
      {
       "output_type": "stream",
       "stream": "stdout",
       "text": [
        "\n",
        "D:\\Data\\gpcp_extent//gpcp_1dd_v1.2_p1d.20100225.tif"
       ]
      },
      {
       "output_type": "stream",
       "stream": "stdout",
       "text": [
        "\n",
        "D:\\Data\\gpcp_extent//gpcp_1dd_v1.2_p1d.20100226.tif"
       ]
      },
      {
       "output_type": "stream",
       "stream": "stdout",
       "text": [
        "\n",
        "D:\\Data\\gpcp_extent//gpcp_1dd_v1.2_p1d.20100227.tif"
       ]
      },
      {
       "output_type": "stream",
       "stream": "stdout",
       "text": [
        "\n",
        "D:\\Data\\gpcp_extent//gpcp_1dd_v1.2_p1d.20100300.tif"
       ]
      },
      {
       "output_type": "stream",
       "stream": "stdout",
       "text": [
        "\n",
        "D:\\Data\\gpcp_extent//gpcp_1dd_v1.2_p1d.20100301.tif"
       ]
      },
      {
       "output_type": "stream",
       "stream": "stdout",
       "text": [
        "\n",
        "D:\\Data\\gpcp_extent//gpcp_1dd_v1.2_p1d.20100302.tif"
       ]
      },
      {
       "output_type": "stream",
       "stream": "stdout",
       "text": [
        "\n",
        "D:\\Data\\gpcp_extent//gpcp_1dd_v1.2_p1d.20100303.tif"
       ]
      },
      {
       "output_type": "stream",
       "stream": "stdout",
       "text": [
        "\n",
        "D:\\Data\\gpcp_extent//gpcp_1dd_v1.2_p1d.20100304.tif"
       ]
      },
      {
       "output_type": "stream",
       "stream": "stdout",
       "text": [
        "\n",
        "D:\\Data\\gpcp_extent//gpcp_1dd_v1.2_p1d.20100305.tif"
       ]
      },
      {
       "output_type": "stream",
       "stream": "stdout",
       "text": [
        "\n",
        "D:\\Data\\gpcp_extent//gpcp_1dd_v1.2_p1d.20100306.tif"
       ]
      },
      {
       "output_type": "stream",
       "stream": "stdout",
       "text": [
        "\n",
        "D:\\Data\\gpcp_extent//gpcp_1dd_v1.2_p1d.20100307.tif"
       ]
      },
      {
       "output_type": "stream",
       "stream": "stdout",
       "text": [
        "\n",
        "D:\\Data\\gpcp_extent//gpcp_1dd_v1.2_p1d.20100308.tif"
       ]
      },
      {
       "output_type": "stream",
       "stream": "stdout",
       "text": [
        "\n",
        "D:\\Data\\gpcp_extent//gpcp_1dd_v1.2_p1d.20100309.tif"
       ]
      },
      {
       "output_type": "stream",
       "stream": "stdout",
       "text": [
        "\n",
        "D:\\Data\\gpcp_extent//gpcp_1dd_v1.2_p1d.20100310.tif"
       ]
      },
      {
       "output_type": "stream",
       "stream": "stdout",
       "text": [
        "\n",
        "D:\\Data\\gpcp_extent//gpcp_1dd_v1.2_p1d.20100311.tif"
       ]
      },
      {
       "output_type": "stream",
       "stream": "stdout",
       "text": [
        "\n",
        "D:\\Data\\gpcp_extent//gpcp_1dd_v1.2_p1d.20100312.tif"
       ]
      },
      {
       "output_type": "stream",
       "stream": "stdout",
       "text": [
        "\n",
        "D:\\Data\\gpcp_extent//gpcp_1dd_v1.2_p1d.20100313.tif"
       ]
      },
      {
       "output_type": "stream",
       "stream": "stdout",
       "text": [
        "\n",
        "D:\\Data\\gpcp_extent//gpcp_1dd_v1.2_p1d.20100314.tif"
       ]
      },
      {
       "output_type": "stream",
       "stream": "stdout",
       "text": [
        "\n",
        "D:\\Data\\gpcp_extent//gpcp_1dd_v1.2_p1d.20100315.tif"
       ]
      },
      {
       "output_type": "stream",
       "stream": "stdout",
       "text": [
        "\n",
        "D:\\Data\\gpcp_extent//gpcp_1dd_v1.2_p1d.20100316.tif"
       ]
      },
      {
       "output_type": "stream",
       "stream": "stdout",
       "text": [
        "\n",
        "D:\\Data\\gpcp_extent//gpcp_1dd_v1.2_p1d.20100317.tif"
       ]
      },
      {
       "output_type": "stream",
       "stream": "stdout",
       "text": [
        "\n",
        "D:\\Data\\gpcp_extent//gpcp_1dd_v1.2_p1d.20100318.tif"
       ]
      },
      {
       "output_type": "stream",
       "stream": "stdout",
       "text": [
        "\n",
        "D:\\Data\\gpcp_extent//gpcp_1dd_v1.2_p1d.20100319.tif"
       ]
      },
      {
       "output_type": "stream",
       "stream": "stdout",
       "text": [
        "\n",
        "D:\\Data\\gpcp_extent//gpcp_1dd_v1.2_p1d.20100320.tif"
       ]
      },
      {
       "output_type": "stream",
       "stream": "stdout",
       "text": [
        "\n",
        "D:\\Data\\gpcp_extent//gpcp_1dd_v1.2_p1d.20100321.tif"
       ]
      },
      {
       "output_type": "stream",
       "stream": "stdout",
       "text": [
        "\n",
        "D:\\Data\\gpcp_extent//gpcp_1dd_v1.2_p1d.20100322.tif"
       ]
      },
      {
       "output_type": "stream",
       "stream": "stdout",
       "text": [
        "\n",
        "D:\\Data\\gpcp_extent//gpcp_1dd_v1.2_p1d.20100323.tif"
       ]
      },
      {
       "output_type": "stream",
       "stream": "stdout",
       "text": [
        "\n",
        "D:\\Data\\gpcp_extent//gpcp_1dd_v1.2_p1d.20100324.tif"
       ]
      },
      {
       "output_type": "stream",
       "stream": "stdout",
       "text": [
        "\n",
        "D:\\Data\\gpcp_extent//gpcp_1dd_v1.2_p1d.20100325.tif"
       ]
      },
      {
       "output_type": "stream",
       "stream": "stdout",
       "text": [
        "\n",
        "D:\\Data\\gpcp_extent//gpcp_1dd_v1.2_p1d.20100326.tif"
       ]
      },
      {
       "output_type": "stream",
       "stream": "stdout",
       "text": [
        "\n",
        "D:\\Data\\gpcp_extent//gpcp_1dd_v1.2_p1d.20100327.tif"
       ]
      },
      {
       "output_type": "stream",
       "stream": "stdout",
       "text": [
        "\n",
        "D:\\Data\\gpcp_extent//gpcp_1dd_v1.2_p1d.20100328.tif"
       ]
      },
      {
       "output_type": "stream",
       "stream": "stdout",
       "text": [
        "\n",
        "D:\\Data\\gpcp_extent//gpcp_1dd_v1.2_p1d.20100329.tif"
       ]
      },
      {
       "output_type": "stream",
       "stream": "stdout",
       "text": [
        "\n",
        "D:\\Data\\gpcp_extent//gpcp_1dd_v1.2_p1d.20100330.tif"
       ]
      },
      {
       "output_type": "stream",
       "stream": "stdout",
       "text": [
        "\n",
        "D:\\Data\\gpcp_extent//gpcp_1dd_v1.2_p1d.20100400.tif"
       ]
      },
      {
       "output_type": "stream",
       "stream": "stdout",
       "text": [
        "\n",
        "D:\\Data\\gpcp_extent//gpcp_1dd_v1.2_p1d.20100401.tif"
       ]
      },
      {
       "output_type": "stream",
       "stream": "stdout",
       "text": [
        "\n",
        "D:\\Data\\gpcp_extent//gpcp_1dd_v1.2_p1d.20100402.tif"
       ]
      },
      {
       "output_type": "stream",
       "stream": "stdout",
       "text": [
        "\n",
        "D:\\Data\\gpcp_extent//gpcp_1dd_v1.2_p1d.20100403.tif"
       ]
      },
      {
       "output_type": "stream",
       "stream": "stdout",
       "text": [
        "\n",
        "D:\\Data\\gpcp_extent//gpcp_1dd_v1.2_p1d.20100404.tif"
       ]
      },
      {
       "output_type": "stream",
       "stream": "stdout",
       "text": [
        "\n",
        "D:\\Data\\gpcp_extent//gpcp_1dd_v1.2_p1d.20100405.tif"
       ]
      },
      {
       "output_type": "stream",
       "stream": "stdout",
       "text": [
        "\n",
        "D:\\Data\\gpcp_extent//gpcp_1dd_v1.2_p1d.20100406.tif"
       ]
      },
      {
       "output_type": "stream",
       "stream": "stdout",
       "text": [
        "\n",
        "D:\\Data\\gpcp_extent//gpcp_1dd_v1.2_p1d.20100407.tif"
       ]
      },
      {
       "output_type": "stream",
       "stream": "stdout",
       "text": [
        "\n",
        "D:\\Data\\gpcp_extent//gpcp_1dd_v1.2_p1d.20100408.tif"
       ]
      },
      {
       "output_type": "stream",
       "stream": "stdout",
       "text": [
        "\n",
        "D:\\Data\\gpcp_extent//gpcp_1dd_v1.2_p1d.20100409.tif"
       ]
      },
      {
       "output_type": "stream",
       "stream": "stdout",
       "text": [
        "\n",
        "D:\\Data\\gpcp_extent//gpcp_1dd_v1.2_p1d.20100410.tif"
       ]
      },
      {
       "output_type": "stream",
       "stream": "stdout",
       "text": [
        "\n",
        "D:\\Data\\gpcp_extent//gpcp_1dd_v1.2_p1d.20100411.tif"
       ]
      },
      {
       "output_type": "stream",
       "stream": "stdout",
       "text": [
        "\n",
        "D:\\Data\\gpcp_extent//gpcp_1dd_v1.2_p1d.20100412.tif"
       ]
      },
      {
       "output_type": "stream",
       "stream": "stdout",
       "text": [
        "\n",
        "D:\\Data\\gpcp_extent//gpcp_1dd_v1.2_p1d.20100413.tif"
       ]
      },
      {
       "output_type": "stream",
       "stream": "stdout",
       "text": [
        "\n",
        "D:\\Data\\gpcp_extent//gpcp_1dd_v1.2_p1d.20100414.tif"
       ]
      },
      {
       "output_type": "stream",
       "stream": "stdout",
       "text": [
        "\n",
        "D:\\Data\\gpcp_extent//gpcp_1dd_v1.2_p1d.20100415.tif"
       ]
      },
      {
       "output_type": "stream",
       "stream": "stdout",
       "text": [
        "\n",
        "D:\\Data\\gpcp_extent//gpcp_1dd_v1.2_p1d.20100416.tif"
       ]
      },
      {
       "output_type": "stream",
       "stream": "stdout",
       "text": [
        "\n",
        "D:\\Data\\gpcp_extent//gpcp_1dd_v1.2_p1d.20100417.tif"
       ]
      },
      {
       "output_type": "stream",
       "stream": "stdout",
       "text": [
        "\n",
        "D:\\Data\\gpcp_extent//gpcp_1dd_v1.2_p1d.20100418.tif"
       ]
      },
      {
       "output_type": "stream",
       "stream": "stdout",
       "text": [
        "\n",
        "D:\\Data\\gpcp_extent//gpcp_1dd_v1.2_p1d.20100419.tif"
       ]
      },
      {
       "output_type": "stream",
       "stream": "stdout",
       "text": [
        "\n",
        "D:\\Data\\gpcp_extent//gpcp_1dd_v1.2_p1d.20100420.tif"
       ]
      },
      {
       "output_type": "stream",
       "stream": "stdout",
       "text": [
        "\n",
        "D:\\Data\\gpcp_extent//gpcp_1dd_v1.2_p1d.20100421.tif"
       ]
      },
      {
       "output_type": "stream",
       "stream": "stdout",
       "text": [
        "\n",
        "D:\\Data\\gpcp_extent//gpcp_1dd_v1.2_p1d.20100422.tif"
       ]
      },
      {
       "output_type": "stream",
       "stream": "stdout",
       "text": [
        "\n",
        "D:\\Data\\gpcp_extent//gpcp_1dd_v1.2_p1d.20100423.tif"
       ]
      },
      {
       "output_type": "stream",
       "stream": "stdout",
       "text": [
        "\n",
        "D:\\Data\\gpcp_extent//gpcp_1dd_v1.2_p1d.20100424.tif"
       ]
      },
      {
       "output_type": "stream",
       "stream": "stdout",
       "text": [
        "\n",
        "D:\\Data\\gpcp_extent//gpcp_1dd_v1.2_p1d.20100425.tif"
       ]
      },
      {
       "output_type": "stream",
       "stream": "stdout",
       "text": [
        "\n",
        "D:\\Data\\gpcp_extent//gpcp_1dd_v1.2_p1d.20100426.tif"
       ]
      },
      {
       "output_type": "stream",
       "stream": "stdout",
       "text": [
        "\n",
        "D:\\Data\\gpcp_extent//gpcp_1dd_v1.2_p1d.20100427.tif"
       ]
      },
      {
       "output_type": "stream",
       "stream": "stdout",
       "text": [
        "\n",
        "D:\\Data\\gpcp_extent//gpcp_1dd_v1.2_p1d.20100428.tif"
       ]
      },
      {
       "output_type": "stream",
       "stream": "stdout",
       "text": [
        "\n",
        "D:\\Data\\gpcp_extent//gpcp_1dd_v1.2_p1d.20100429.tif"
       ]
      },
      {
       "output_type": "stream",
       "stream": "stdout",
       "text": [
        "\n",
        "D:\\Data\\gpcp_extent//gpcp_1dd_v1.2_p1d.20100500.tif"
       ]
      },
      {
       "output_type": "stream",
       "stream": "stdout",
       "text": [
        "\n",
        "D:\\Data\\gpcp_extent//gpcp_1dd_v1.2_p1d.20100501.tif"
       ]
      },
      {
       "output_type": "stream",
       "stream": "stdout",
       "text": [
        "\n",
        "D:\\Data\\gpcp_extent//gpcp_1dd_v1.2_p1d.20100502.tif"
       ]
      },
      {
       "output_type": "stream",
       "stream": "stdout",
       "text": [
        "\n",
        "D:\\Data\\gpcp_extent//gpcp_1dd_v1.2_p1d.20100503.tif"
       ]
      },
      {
       "output_type": "stream",
       "stream": "stdout",
       "text": [
        "\n",
        "D:\\Data\\gpcp_extent//gpcp_1dd_v1.2_p1d.20100504.tif"
       ]
      },
      {
       "output_type": "stream",
       "stream": "stdout",
       "text": [
        "\n",
        "D:\\Data\\gpcp_extent//gpcp_1dd_v1.2_p1d.20100505.tif"
       ]
      },
      {
       "output_type": "stream",
       "stream": "stdout",
       "text": [
        "\n",
        "D:\\Data\\gpcp_extent//gpcp_1dd_v1.2_p1d.20100506.tif"
       ]
      },
      {
       "output_type": "stream",
       "stream": "stdout",
       "text": [
        "\n",
        "D:\\Data\\gpcp_extent//gpcp_1dd_v1.2_p1d.20100507.tif"
       ]
      },
      {
       "output_type": "stream",
       "stream": "stdout",
       "text": [
        "\n",
        "D:\\Data\\gpcp_extent//gpcp_1dd_v1.2_p1d.20100508.tif"
       ]
      },
      {
       "output_type": "stream",
       "stream": "stdout",
       "text": [
        "\n",
        "D:\\Data\\gpcp_extent//gpcp_1dd_v1.2_p1d.20100509.tif"
       ]
      },
      {
       "output_type": "stream",
       "stream": "stdout",
       "text": [
        "\n",
        "D:\\Data\\gpcp_extent//gpcp_1dd_v1.2_p1d.20100510.tif"
       ]
      },
      {
       "output_type": "stream",
       "stream": "stdout",
       "text": [
        "\n",
        "D:\\Data\\gpcp_extent//gpcp_1dd_v1.2_p1d.20100511.tif"
       ]
      },
      {
       "output_type": "stream",
       "stream": "stdout",
       "text": [
        "\n",
        "D:\\Data\\gpcp_extent//gpcp_1dd_v1.2_p1d.20100512.tif"
       ]
      },
      {
       "output_type": "stream",
       "stream": "stdout",
       "text": [
        "\n",
        "D:\\Data\\gpcp_extent//gpcp_1dd_v1.2_p1d.20100513.tif"
       ]
      },
      {
       "output_type": "stream",
       "stream": "stdout",
       "text": [
        "\n",
        "D:\\Data\\gpcp_extent//gpcp_1dd_v1.2_p1d.20100514.tif"
       ]
      },
      {
       "output_type": "stream",
       "stream": "stdout",
       "text": [
        "\n",
        "D:\\Data\\gpcp_extent//gpcp_1dd_v1.2_p1d.20100515.tif"
       ]
      },
      {
       "output_type": "stream",
       "stream": "stdout",
       "text": [
        "\n",
        "D:\\Data\\gpcp_extent//gpcp_1dd_v1.2_p1d.20100516.tif"
       ]
      },
      {
       "output_type": "stream",
       "stream": "stdout",
       "text": [
        "\n",
        "D:\\Data\\gpcp_extent//gpcp_1dd_v1.2_p1d.20100517.tif"
       ]
      },
      {
       "output_type": "stream",
       "stream": "stdout",
       "text": [
        "\n",
        "D:\\Data\\gpcp_extent//gpcp_1dd_v1.2_p1d.20100518.tif"
       ]
      },
      {
       "output_type": "stream",
       "stream": "stdout",
       "text": [
        "\n",
        "D:\\Data\\gpcp_extent//gpcp_1dd_v1.2_p1d.20100519.tif"
       ]
      },
      {
       "output_type": "stream",
       "stream": "stdout",
       "text": [
        "\n",
        "D:\\Data\\gpcp_extent//gpcp_1dd_v1.2_p1d.20100520.tif"
       ]
      },
      {
       "output_type": "stream",
       "stream": "stdout",
       "text": [
        "\n",
        "D:\\Data\\gpcp_extent//gpcp_1dd_v1.2_p1d.20100521.tif"
       ]
      },
      {
       "output_type": "stream",
       "stream": "stdout",
       "text": [
        "\n",
        "D:\\Data\\gpcp_extent//gpcp_1dd_v1.2_p1d.20100522.tif"
       ]
      },
      {
       "output_type": "stream",
       "stream": "stdout",
       "text": [
        "\n",
        "D:\\Data\\gpcp_extent//gpcp_1dd_v1.2_p1d.20100523.tif"
       ]
      },
      {
       "output_type": "stream",
       "stream": "stdout",
       "text": [
        "\n",
        "D:\\Data\\gpcp_extent//gpcp_1dd_v1.2_p1d.20100524.tif"
       ]
      },
      {
       "output_type": "stream",
       "stream": "stdout",
       "text": [
        "\n",
        "D:\\Data\\gpcp_extent//gpcp_1dd_v1.2_p1d.20100525.tif"
       ]
      },
      {
       "output_type": "stream",
       "stream": "stdout",
       "text": [
        "\n",
        "D:\\Data\\gpcp_extent//gpcp_1dd_v1.2_p1d.20100526.tif"
       ]
      },
      {
       "output_type": "stream",
       "stream": "stdout",
       "text": [
        "\n",
        "D:\\Data\\gpcp_extent//gpcp_1dd_v1.2_p1d.20100527.tif"
       ]
      },
      {
       "output_type": "stream",
       "stream": "stdout",
       "text": [
        "\n",
        "D:\\Data\\gpcp_extent//gpcp_1dd_v1.2_p1d.20100528.tif"
       ]
      },
      {
       "output_type": "stream",
       "stream": "stdout",
       "text": [
        "\n",
        "D:\\Data\\gpcp_extent//gpcp_1dd_v1.2_p1d.20100529.tif"
       ]
      },
      {
       "output_type": "stream",
       "stream": "stdout",
       "text": [
        "\n",
        "D:\\Data\\gpcp_extent//gpcp_1dd_v1.2_p1d.20100530.tif"
       ]
      },
      {
       "output_type": "stream",
       "stream": "stdout",
       "text": [
        "\n",
        "D:\\Data\\gpcp_extent//gpcp_1dd_v1.2_p1d.20100600.tif"
       ]
      },
      {
       "output_type": "stream",
       "stream": "stdout",
       "text": [
        "\n",
        "D:\\Data\\gpcp_extent//gpcp_1dd_v1.2_p1d.20100601.tif"
       ]
      },
      {
       "output_type": "stream",
       "stream": "stdout",
       "text": [
        "\n",
        "D:\\Data\\gpcp_extent//gpcp_1dd_v1.2_p1d.20100602.tif"
       ]
      },
      {
       "output_type": "stream",
       "stream": "stdout",
       "text": [
        "\n",
        "D:\\Data\\gpcp_extent//gpcp_1dd_v1.2_p1d.20100603.tif"
       ]
      },
      {
       "output_type": "stream",
       "stream": "stdout",
       "text": [
        "\n",
        "D:\\Data\\gpcp_extent//gpcp_1dd_v1.2_p1d.20100604.tif"
       ]
      },
      {
       "output_type": "stream",
       "stream": "stdout",
       "text": [
        "\n",
        "D:\\Data\\gpcp_extent//gpcp_1dd_v1.2_p1d.20100605.tif"
       ]
      },
      {
       "output_type": "stream",
       "stream": "stdout",
       "text": [
        "\n",
        "D:\\Data\\gpcp_extent//gpcp_1dd_v1.2_p1d.20100606.tif"
       ]
      },
      {
       "output_type": "stream",
       "stream": "stdout",
       "text": [
        "\n",
        "D:\\Data\\gpcp_extent//gpcp_1dd_v1.2_p1d.20100607.tif"
       ]
      },
      {
       "output_type": "stream",
       "stream": "stdout",
       "text": [
        "\n",
        "D:\\Data\\gpcp_extent//gpcp_1dd_v1.2_p1d.20100608.tif"
       ]
      },
      {
       "output_type": "stream",
       "stream": "stdout",
       "text": [
        "\n",
        "D:\\Data\\gpcp_extent//gpcp_1dd_v1.2_p1d.20100609.tif"
       ]
      },
      {
       "output_type": "stream",
       "stream": "stdout",
       "text": [
        "\n",
        "D:\\Data\\gpcp_extent//gpcp_1dd_v1.2_p1d.20100610.tif"
       ]
      },
      {
       "output_type": "stream",
       "stream": "stdout",
       "text": [
        "\n",
        "D:\\Data\\gpcp_extent//gpcp_1dd_v1.2_p1d.20100611.tif"
       ]
      },
      {
       "output_type": "stream",
       "stream": "stdout",
       "text": [
        "\n",
        "D:\\Data\\gpcp_extent//gpcp_1dd_v1.2_p1d.20100612.tif"
       ]
      },
      {
       "output_type": "stream",
       "stream": "stdout",
       "text": [
        "\n",
        "D:\\Data\\gpcp_extent//gpcp_1dd_v1.2_p1d.20100613.tif"
       ]
      },
      {
       "output_type": "stream",
       "stream": "stdout",
       "text": [
        "\n",
        "D:\\Data\\gpcp_extent//gpcp_1dd_v1.2_p1d.20100614.tif"
       ]
      },
      {
       "output_type": "stream",
       "stream": "stdout",
       "text": [
        "\n",
        "D:\\Data\\gpcp_extent//gpcp_1dd_v1.2_p1d.20100615.tif"
       ]
      },
      {
       "output_type": "stream",
       "stream": "stdout",
       "text": [
        "\n",
        "D:\\Data\\gpcp_extent//gpcp_1dd_v1.2_p1d.20100616.tif"
       ]
      },
      {
       "output_type": "stream",
       "stream": "stdout",
       "text": [
        "\n",
        "D:\\Data\\gpcp_extent//gpcp_1dd_v1.2_p1d.20100617.tif"
       ]
      },
      {
       "output_type": "stream",
       "stream": "stdout",
       "text": [
        "\n",
        "D:\\Data\\gpcp_extent//gpcp_1dd_v1.2_p1d.20100618.tif"
       ]
      },
      {
       "output_type": "stream",
       "stream": "stdout",
       "text": [
        "\n",
        "D:\\Data\\gpcp_extent//gpcp_1dd_v1.2_p1d.20100619.tif"
       ]
      },
      {
       "output_type": "stream",
       "stream": "stdout",
       "text": [
        "\n",
        "D:\\Data\\gpcp_extent//gpcp_1dd_v1.2_p1d.20100620.tif"
       ]
      },
      {
       "output_type": "stream",
       "stream": "stdout",
       "text": [
        "\n",
        "D:\\Data\\gpcp_extent//gpcp_1dd_v1.2_p1d.20100621.tif"
       ]
      },
      {
       "output_type": "stream",
       "stream": "stdout",
       "text": [
        "\n",
        "D:\\Data\\gpcp_extent//gpcp_1dd_v1.2_p1d.20100622.tif"
       ]
      },
      {
       "output_type": "stream",
       "stream": "stdout",
       "text": [
        "\n",
        "D:\\Data\\gpcp_extent//gpcp_1dd_v1.2_p1d.20100623.tif"
       ]
      },
      {
       "output_type": "stream",
       "stream": "stdout",
       "text": [
        "\n",
        "D:\\Data\\gpcp_extent//gpcp_1dd_v1.2_p1d.20100624.tif"
       ]
      },
      {
       "output_type": "stream",
       "stream": "stdout",
       "text": [
        "\n",
        "D:\\Data\\gpcp_extent//gpcp_1dd_v1.2_p1d.20100625.tif"
       ]
      },
      {
       "output_type": "stream",
       "stream": "stdout",
       "text": [
        "\n",
        "D:\\Data\\gpcp_extent//gpcp_1dd_v1.2_p1d.20100626.tif"
       ]
      },
      {
       "output_type": "stream",
       "stream": "stdout",
       "text": [
        "\n",
        "D:\\Data\\gpcp_extent//gpcp_1dd_v1.2_p1d.20100627.tif"
       ]
      },
      {
       "output_type": "stream",
       "stream": "stdout",
       "text": [
        "\n",
        "D:\\Data\\gpcp_extent//gpcp_1dd_v1.2_p1d.20100628.tif"
       ]
      },
      {
       "output_type": "stream",
       "stream": "stdout",
       "text": [
        "\n",
        "D:\\Data\\gpcp_extent//gpcp_1dd_v1.2_p1d.20100629.tif"
       ]
      },
      {
       "output_type": "stream",
       "stream": "stdout",
       "text": [
        "\n",
        "D:\\Data\\gpcp_extent//gpcp_1dd_v1.2_p1d.20100700.tif"
       ]
      },
      {
       "output_type": "stream",
       "stream": "stdout",
       "text": [
        "\n",
        "D:\\Data\\gpcp_extent//gpcp_1dd_v1.2_p1d.20100701.tif"
       ]
      },
      {
       "output_type": "stream",
       "stream": "stdout",
       "text": [
        "\n",
        "D:\\Data\\gpcp_extent//gpcp_1dd_v1.2_p1d.20100702.tif"
       ]
      },
      {
       "output_type": "stream",
       "stream": "stdout",
       "text": [
        "\n",
        "D:\\Data\\gpcp_extent//gpcp_1dd_v1.2_p1d.20100703.tif"
       ]
      },
      {
       "output_type": "stream",
       "stream": "stdout",
       "text": [
        "\n",
        "D:\\Data\\gpcp_extent//gpcp_1dd_v1.2_p1d.20100704.tif"
       ]
      },
      {
       "output_type": "stream",
       "stream": "stdout",
       "text": [
        "\n",
        "D:\\Data\\gpcp_extent//gpcp_1dd_v1.2_p1d.20100705.tif"
       ]
      },
      {
       "output_type": "stream",
       "stream": "stdout",
       "text": [
        "\n",
        "D:\\Data\\gpcp_extent//gpcp_1dd_v1.2_p1d.20100706.tif"
       ]
      },
      {
       "output_type": "stream",
       "stream": "stdout",
       "text": [
        "\n",
        "D:\\Data\\gpcp_extent//gpcp_1dd_v1.2_p1d.20100707.tif"
       ]
      },
      {
       "output_type": "stream",
       "stream": "stdout",
       "text": [
        "\n",
        "D:\\Data\\gpcp_extent//gpcp_1dd_v1.2_p1d.20100708.tif"
       ]
      },
      {
       "output_type": "stream",
       "stream": "stdout",
       "text": [
        "\n",
        "D:\\Data\\gpcp_extent//gpcp_1dd_v1.2_p1d.20100709.tif"
       ]
      },
      {
       "output_type": "stream",
       "stream": "stdout",
       "text": [
        "\n",
        "D:\\Data\\gpcp_extent//gpcp_1dd_v1.2_p1d.20100710.tif"
       ]
      },
      {
       "output_type": "stream",
       "stream": "stdout",
       "text": [
        "\n",
        "D:\\Data\\gpcp_extent//gpcp_1dd_v1.2_p1d.20100711.tif"
       ]
      },
      {
       "output_type": "stream",
       "stream": "stdout",
       "text": [
        "\n",
        "D:\\Data\\gpcp_extent//gpcp_1dd_v1.2_p1d.20100712.tif"
       ]
      },
      {
       "output_type": "stream",
       "stream": "stdout",
       "text": [
        "\n",
        "D:\\Data\\gpcp_extent//gpcp_1dd_v1.2_p1d.20100713.tif"
       ]
      },
      {
       "output_type": "stream",
       "stream": "stdout",
       "text": [
        "\n",
        "D:\\Data\\gpcp_extent//gpcp_1dd_v1.2_p1d.20100714.tif"
       ]
      },
      {
       "output_type": "stream",
       "stream": "stdout",
       "text": [
        "\n",
        "D:\\Data\\gpcp_extent//gpcp_1dd_v1.2_p1d.20100715.tif"
       ]
      },
      {
       "output_type": "stream",
       "stream": "stdout",
       "text": [
        "\n",
        "D:\\Data\\gpcp_extent//gpcp_1dd_v1.2_p1d.20100716.tif"
       ]
      },
      {
       "output_type": "stream",
       "stream": "stdout",
       "text": [
        "\n",
        "D:\\Data\\gpcp_extent//gpcp_1dd_v1.2_p1d.20100717.tif"
       ]
      },
      {
       "output_type": "stream",
       "stream": "stdout",
       "text": [
        "\n",
        "D:\\Data\\gpcp_extent//gpcp_1dd_v1.2_p1d.20100718.tif"
       ]
      },
      {
       "output_type": "stream",
       "stream": "stdout",
       "text": [
        "\n",
        "D:\\Data\\gpcp_extent//gpcp_1dd_v1.2_p1d.20100719.tif"
       ]
      },
      {
       "output_type": "stream",
       "stream": "stdout",
       "text": [
        "\n",
        "D:\\Data\\gpcp_extent//gpcp_1dd_v1.2_p1d.20100720.tif"
       ]
      },
      {
       "output_type": "stream",
       "stream": "stdout",
       "text": [
        "\n",
        "D:\\Data\\gpcp_extent//gpcp_1dd_v1.2_p1d.20100721.tif"
       ]
      },
      {
       "output_type": "stream",
       "stream": "stdout",
       "text": [
        "\n",
        "D:\\Data\\gpcp_extent//gpcp_1dd_v1.2_p1d.20100722.tif"
       ]
      },
      {
       "output_type": "stream",
       "stream": "stdout",
       "text": [
        "\n",
        "D:\\Data\\gpcp_extent//gpcp_1dd_v1.2_p1d.20100723.tif"
       ]
      },
      {
       "output_type": "stream",
       "stream": "stdout",
       "text": [
        "\n",
        "D:\\Data\\gpcp_extent//gpcp_1dd_v1.2_p1d.20100724.tif"
       ]
      },
      {
       "output_type": "stream",
       "stream": "stdout",
       "text": [
        "\n",
        "D:\\Data\\gpcp_extent//gpcp_1dd_v1.2_p1d.20100725.tif"
       ]
      },
      {
       "output_type": "stream",
       "stream": "stdout",
       "text": [
        "\n",
        "D:\\Data\\gpcp_extent//gpcp_1dd_v1.2_p1d.20100726.tif"
       ]
      },
      {
       "output_type": "stream",
       "stream": "stdout",
       "text": [
        "\n",
        "D:\\Data\\gpcp_extent//gpcp_1dd_v1.2_p1d.20100727.tif"
       ]
      },
      {
       "output_type": "stream",
       "stream": "stdout",
       "text": [
        "\n",
        "D:\\Data\\gpcp_extent//gpcp_1dd_v1.2_p1d.20100728.tif"
       ]
      },
      {
       "output_type": "stream",
       "stream": "stdout",
       "text": [
        "\n",
        "D:\\Data\\gpcp_extent//gpcp_1dd_v1.2_p1d.20100729.tif"
       ]
      },
      {
       "output_type": "stream",
       "stream": "stdout",
       "text": [
        "\n",
        "D:\\Data\\gpcp_extent//gpcp_1dd_v1.2_p1d.20100730.tif"
       ]
      },
      {
       "output_type": "stream",
       "stream": "stdout",
       "text": [
        "\n",
        "D:\\Data\\gpcp_extent//gpcp_1dd_v1.2_p1d.20100800.tif"
       ]
      },
      {
       "output_type": "stream",
       "stream": "stdout",
       "text": [
        "\n",
        "D:\\Data\\gpcp_extent//gpcp_1dd_v1.2_p1d.20100801.tif"
       ]
      },
      {
       "output_type": "stream",
       "stream": "stdout",
       "text": [
        "\n",
        "D:\\Data\\gpcp_extent//gpcp_1dd_v1.2_p1d.20100802.tif"
       ]
      },
      {
       "output_type": "stream",
       "stream": "stdout",
       "text": [
        "\n",
        "D:\\Data\\gpcp_extent//gpcp_1dd_v1.2_p1d.20100803.tif"
       ]
      },
      {
       "output_type": "stream",
       "stream": "stdout",
       "text": [
        "\n",
        "D:\\Data\\gpcp_extent//gpcp_1dd_v1.2_p1d.20100804.tif"
       ]
      },
      {
       "output_type": "stream",
       "stream": "stdout",
       "text": [
        "\n",
        "D:\\Data\\gpcp_extent//gpcp_1dd_v1.2_p1d.20100805.tif"
       ]
      },
      {
       "output_type": "stream",
       "stream": "stdout",
       "text": [
        "\n",
        "D:\\Data\\gpcp_extent//gpcp_1dd_v1.2_p1d.20100806.tif"
       ]
      },
      {
       "output_type": "stream",
       "stream": "stdout",
       "text": [
        "\n",
        "D:\\Data\\gpcp_extent//gpcp_1dd_v1.2_p1d.20100807.tif"
       ]
      },
      {
       "output_type": "stream",
       "stream": "stdout",
       "text": [
        "\n",
        "D:\\Data\\gpcp_extent//gpcp_1dd_v1.2_p1d.20100808.tif"
       ]
      },
      {
       "output_type": "stream",
       "stream": "stdout",
       "text": [
        "\n",
        "D:\\Data\\gpcp_extent//gpcp_1dd_v1.2_p1d.20100809.tif"
       ]
      },
      {
       "output_type": "stream",
       "stream": "stdout",
       "text": [
        "\n",
        "D:\\Data\\gpcp_extent//gpcp_1dd_v1.2_p1d.20100810.tif"
       ]
      },
      {
       "output_type": "stream",
       "stream": "stdout",
       "text": [
        "\n",
        "D:\\Data\\gpcp_extent//gpcp_1dd_v1.2_p1d.20100811.tif"
       ]
      },
      {
       "output_type": "stream",
       "stream": "stdout",
       "text": [
        "\n",
        "D:\\Data\\gpcp_extent//gpcp_1dd_v1.2_p1d.20100812.tif"
       ]
      },
      {
       "output_type": "stream",
       "stream": "stdout",
       "text": [
        "\n",
        "D:\\Data\\gpcp_extent//gpcp_1dd_v1.2_p1d.20100813.tif"
       ]
      },
      {
       "output_type": "stream",
       "stream": "stdout",
       "text": [
        "\n",
        "D:\\Data\\gpcp_extent//gpcp_1dd_v1.2_p1d.20100814.tif"
       ]
      },
      {
       "output_type": "stream",
       "stream": "stdout",
       "text": [
        "\n",
        "D:\\Data\\gpcp_extent//gpcp_1dd_v1.2_p1d.20100815.tif"
       ]
      },
      {
       "output_type": "stream",
       "stream": "stdout",
       "text": [
        "\n",
        "D:\\Data\\gpcp_extent//gpcp_1dd_v1.2_p1d.20100816.tif"
       ]
      },
      {
       "output_type": "stream",
       "stream": "stdout",
       "text": [
        "\n",
        "D:\\Data\\gpcp_extent//gpcp_1dd_v1.2_p1d.20100817.tif"
       ]
      },
      {
       "output_type": "stream",
       "stream": "stdout",
       "text": [
        "\n",
        "D:\\Data\\gpcp_extent//gpcp_1dd_v1.2_p1d.20100818.tif"
       ]
      },
      {
       "output_type": "stream",
       "stream": "stdout",
       "text": [
        "\n",
        "D:\\Data\\gpcp_extent//gpcp_1dd_v1.2_p1d.20100819.tif"
       ]
      },
      {
       "output_type": "stream",
       "stream": "stdout",
       "text": [
        "\n",
        "D:\\Data\\gpcp_extent//gpcp_1dd_v1.2_p1d.20100820.tif"
       ]
      },
      {
       "output_type": "stream",
       "stream": "stdout",
       "text": [
        "\n",
        "D:\\Data\\gpcp_extent//gpcp_1dd_v1.2_p1d.20100821.tif"
       ]
      },
      {
       "output_type": "stream",
       "stream": "stdout",
       "text": [
        "\n",
        "D:\\Data\\gpcp_extent//gpcp_1dd_v1.2_p1d.20100822.tif"
       ]
      },
      {
       "output_type": "stream",
       "stream": "stdout",
       "text": [
        "\n",
        "D:\\Data\\gpcp_extent//gpcp_1dd_v1.2_p1d.20100823.tif"
       ]
      },
      {
       "output_type": "stream",
       "stream": "stdout",
       "text": [
        "\n",
        "D:\\Data\\gpcp_extent//gpcp_1dd_v1.2_p1d.20100824.tif"
       ]
      },
      {
       "output_type": "stream",
       "stream": "stdout",
       "text": [
        "\n",
        "D:\\Data\\gpcp_extent//gpcp_1dd_v1.2_p1d.20100825.tif"
       ]
      },
      {
       "output_type": "stream",
       "stream": "stdout",
       "text": [
        "\n",
        "D:\\Data\\gpcp_extent//gpcp_1dd_v1.2_p1d.20100826.tif"
       ]
      },
      {
       "output_type": "stream",
       "stream": "stdout",
       "text": [
        "\n",
        "D:\\Data\\gpcp_extent//gpcp_1dd_v1.2_p1d.20100827.tif"
       ]
      },
      {
       "output_type": "stream",
       "stream": "stdout",
       "text": [
        "\n",
        "D:\\Data\\gpcp_extent//gpcp_1dd_v1.2_p1d.20100828.tif"
       ]
      },
      {
       "output_type": "stream",
       "stream": "stdout",
       "text": [
        "\n",
        "D:\\Data\\gpcp_extent//gpcp_1dd_v1.2_p1d.20100829.tif"
       ]
      },
      {
       "output_type": "stream",
       "stream": "stdout",
       "text": [
        "\n",
        "D:\\Data\\gpcp_extent//gpcp_1dd_v1.2_p1d.20100830.tif"
       ]
      },
      {
       "output_type": "stream",
       "stream": "stdout",
       "text": [
        "\n",
        "D:\\Data\\gpcp_extent//gpcp_1dd_v1.2_p1d.20100900.tif"
       ]
      },
      {
       "output_type": "stream",
       "stream": "stdout",
       "text": [
        "\n",
        "D:\\Data\\gpcp_extent//gpcp_1dd_v1.2_p1d.20100901.tif"
       ]
      },
      {
       "output_type": "stream",
       "stream": "stdout",
       "text": [
        "\n",
        "D:\\Data\\gpcp_extent//gpcp_1dd_v1.2_p1d.20100902.tif"
       ]
      },
      {
       "output_type": "stream",
       "stream": "stdout",
       "text": [
        "\n",
        "D:\\Data\\gpcp_extent//gpcp_1dd_v1.2_p1d.20100903.tif"
       ]
      },
      {
       "output_type": "stream",
       "stream": "stdout",
       "text": [
        "\n",
        "D:\\Data\\gpcp_extent//gpcp_1dd_v1.2_p1d.20100904.tif"
       ]
      },
      {
       "output_type": "stream",
       "stream": "stdout",
       "text": [
        "\n",
        "D:\\Data\\gpcp_extent//gpcp_1dd_v1.2_p1d.20100905.tif"
       ]
      },
      {
       "output_type": "stream",
       "stream": "stdout",
       "text": [
        "\n",
        "D:\\Data\\gpcp_extent//gpcp_1dd_v1.2_p1d.20100906.tif"
       ]
      },
      {
       "output_type": "stream",
       "stream": "stdout",
       "text": [
        "\n",
        "D:\\Data\\gpcp_extent//gpcp_1dd_v1.2_p1d.20100907.tif"
       ]
      },
      {
       "output_type": "stream",
       "stream": "stdout",
       "text": [
        "\n",
        "D:\\Data\\gpcp_extent//gpcp_1dd_v1.2_p1d.20100908.tif"
       ]
      },
      {
       "output_type": "stream",
       "stream": "stdout",
       "text": [
        "\n",
        "D:\\Data\\gpcp_extent//gpcp_1dd_v1.2_p1d.20100909.tif"
       ]
      },
      {
       "output_type": "stream",
       "stream": "stdout",
       "text": [
        "\n",
        "D:\\Data\\gpcp_extent//gpcp_1dd_v1.2_p1d.20100910.tif"
       ]
      },
      {
       "output_type": "stream",
       "stream": "stdout",
       "text": [
        "\n",
        "D:\\Data\\gpcp_extent//gpcp_1dd_v1.2_p1d.20100911.tif"
       ]
      },
      {
       "output_type": "stream",
       "stream": "stdout",
       "text": [
        "\n",
        "D:\\Data\\gpcp_extent//gpcp_1dd_v1.2_p1d.20100912.tif"
       ]
      },
      {
       "output_type": "stream",
       "stream": "stdout",
       "text": [
        "\n",
        "D:\\Data\\gpcp_extent//gpcp_1dd_v1.2_p1d.20100913.tif"
       ]
      },
      {
       "output_type": "stream",
       "stream": "stdout",
       "text": [
        "\n",
        "D:\\Data\\gpcp_extent//gpcp_1dd_v1.2_p1d.20100914.tif"
       ]
      },
      {
       "output_type": "stream",
       "stream": "stdout",
       "text": [
        "\n",
        "D:\\Data\\gpcp_extent//gpcp_1dd_v1.2_p1d.20100915.tif"
       ]
      },
      {
       "output_type": "stream",
       "stream": "stdout",
       "text": [
        "\n",
        "D:\\Data\\gpcp_extent//gpcp_1dd_v1.2_p1d.20100916.tif"
       ]
      },
      {
       "output_type": "stream",
       "stream": "stdout",
       "text": [
        "\n",
        "D:\\Data\\gpcp_extent//gpcp_1dd_v1.2_p1d.20100917.tif"
       ]
      },
      {
       "output_type": "stream",
       "stream": "stdout",
       "text": [
        "\n",
        "D:\\Data\\gpcp_extent//gpcp_1dd_v1.2_p1d.20100918.tif"
       ]
      },
      {
       "output_type": "stream",
       "stream": "stdout",
       "text": [
        "\n",
        "D:\\Data\\gpcp_extent//gpcp_1dd_v1.2_p1d.20100919.tif"
       ]
      },
      {
       "output_type": "stream",
       "stream": "stdout",
       "text": [
        "\n",
        "D:\\Data\\gpcp_extent//gpcp_1dd_v1.2_p1d.20100920.tif"
       ]
      },
      {
       "output_type": "stream",
       "stream": "stdout",
       "text": [
        "\n",
        "D:\\Data\\gpcp_extent//gpcp_1dd_v1.2_p1d.20100921.tif"
       ]
      },
      {
       "output_type": "stream",
       "stream": "stdout",
       "text": [
        "\n",
        "D:\\Data\\gpcp_extent//gpcp_1dd_v1.2_p1d.20100922.tif"
       ]
      },
      {
       "output_type": "stream",
       "stream": "stdout",
       "text": [
        "\n",
        "D:\\Data\\gpcp_extent//gpcp_1dd_v1.2_p1d.20100923.tif"
       ]
      },
      {
       "output_type": "stream",
       "stream": "stdout",
       "text": [
        "\n",
        "D:\\Data\\gpcp_extent//gpcp_1dd_v1.2_p1d.20100924.tif"
       ]
      },
      {
       "output_type": "stream",
       "stream": "stdout",
       "text": [
        "\n",
        "D:\\Data\\gpcp_extent//gpcp_1dd_v1.2_p1d.20100925.tif"
       ]
      },
      {
       "output_type": "stream",
       "stream": "stdout",
       "text": [
        "\n",
        "D:\\Data\\gpcp_extent//gpcp_1dd_v1.2_p1d.20100926.tif"
       ]
      },
      {
       "output_type": "stream",
       "stream": "stdout",
       "text": [
        "\n",
        "D:\\Data\\gpcp_extent//gpcp_1dd_v1.2_p1d.20100927.tif"
       ]
      },
      {
       "output_type": "stream",
       "stream": "stdout",
       "text": [
        "\n",
        "D:\\Data\\gpcp_extent//gpcp_1dd_v1.2_p1d.20100928.tif"
       ]
      },
      {
       "output_type": "stream",
       "stream": "stdout",
       "text": [
        "\n",
        "D:\\Data\\gpcp_extent//gpcp_1dd_v1.2_p1d.20100929.tif"
       ]
      },
      {
       "output_type": "stream",
       "stream": "stdout",
       "text": [
        "\n",
        "D:\\Data\\gpcp_extent//gpcp_1dd_v1.2_p1d.20101000.tif"
       ]
      },
      {
       "output_type": "stream",
       "stream": "stdout",
       "text": [
        "\n",
        "D:\\Data\\gpcp_extent//gpcp_1dd_v1.2_p1d.20101001.tif"
       ]
      },
      {
       "output_type": "stream",
       "stream": "stdout",
       "text": [
        "\n",
        "D:\\Data\\gpcp_extent//gpcp_1dd_v1.2_p1d.20101002.tif"
       ]
      },
      {
       "output_type": "stream",
       "stream": "stdout",
       "text": [
        "\n",
        "D:\\Data\\gpcp_extent//gpcp_1dd_v1.2_p1d.20101003.tif"
       ]
      },
      {
       "output_type": "stream",
       "stream": "stdout",
       "text": [
        "\n",
        "D:\\Data\\gpcp_extent//gpcp_1dd_v1.2_p1d.20101004.tif"
       ]
      },
      {
       "output_type": "stream",
       "stream": "stdout",
       "text": [
        "\n",
        "D:\\Data\\gpcp_extent//gpcp_1dd_v1.2_p1d.20101005.tif"
       ]
      },
      {
       "output_type": "stream",
       "stream": "stdout",
       "text": [
        "\n",
        "D:\\Data\\gpcp_extent//gpcp_1dd_v1.2_p1d.20101006.tif"
       ]
      },
      {
       "output_type": "stream",
       "stream": "stdout",
       "text": [
        "\n",
        "D:\\Data\\gpcp_extent//gpcp_1dd_v1.2_p1d.20101007.tif"
       ]
      },
      {
       "output_type": "stream",
       "stream": "stdout",
       "text": [
        "\n",
        "D:\\Data\\gpcp_extent//gpcp_1dd_v1.2_p1d.20101008.tif"
       ]
      },
      {
       "output_type": "stream",
       "stream": "stdout",
       "text": [
        "\n",
        "D:\\Data\\gpcp_extent//gpcp_1dd_v1.2_p1d.20101009.tif"
       ]
      },
      {
       "output_type": "stream",
       "stream": "stdout",
       "text": [
        "\n",
        "D:\\Data\\gpcp_extent//gpcp_1dd_v1.2_p1d.20101010.tif"
       ]
      },
      {
       "output_type": "stream",
       "stream": "stdout",
       "text": [
        "\n",
        "D:\\Data\\gpcp_extent//gpcp_1dd_v1.2_p1d.20101011.tif"
       ]
      },
      {
       "output_type": "stream",
       "stream": "stdout",
       "text": [
        "\n",
        "D:\\Data\\gpcp_extent//gpcp_1dd_v1.2_p1d.20101012.tif"
       ]
      },
      {
       "output_type": "stream",
       "stream": "stdout",
       "text": [
        "\n",
        "D:\\Data\\gpcp_extent//gpcp_1dd_v1.2_p1d.20101013.tif"
       ]
      },
      {
       "output_type": "stream",
       "stream": "stdout",
       "text": [
        "\n",
        "D:\\Data\\gpcp_extent//gpcp_1dd_v1.2_p1d.20101014.tif"
       ]
      },
      {
       "output_type": "stream",
       "stream": "stdout",
       "text": [
        "\n",
        "D:\\Data\\gpcp_extent//gpcp_1dd_v1.2_p1d.20101015.tif"
       ]
      },
      {
       "output_type": "stream",
       "stream": "stdout",
       "text": [
        "\n",
        "D:\\Data\\gpcp_extent//gpcp_1dd_v1.2_p1d.20101016.tif"
       ]
      },
      {
       "output_type": "stream",
       "stream": "stdout",
       "text": [
        "\n",
        "D:\\Data\\gpcp_extent//gpcp_1dd_v1.2_p1d.20101017.tif"
       ]
      },
      {
       "output_type": "stream",
       "stream": "stdout",
       "text": [
        "\n",
        "D:\\Data\\gpcp_extent//gpcp_1dd_v1.2_p1d.20101018.tif"
       ]
      },
      {
       "output_type": "stream",
       "stream": "stdout",
       "text": [
        "\n",
        "D:\\Data\\gpcp_extent//gpcp_1dd_v1.2_p1d.20101019.tif"
       ]
      },
      {
       "output_type": "stream",
       "stream": "stdout",
       "text": [
        "\n",
        "D:\\Data\\gpcp_extent//gpcp_1dd_v1.2_p1d.20101020.tif"
       ]
      },
      {
       "output_type": "stream",
       "stream": "stdout",
       "text": [
        "\n",
        "D:\\Data\\gpcp_extent//gpcp_1dd_v1.2_p1d.20101021.tif"
       ]
      },
      {
       "output_type": "stream",
       "stream": "stdout",
       "text": [
        "\n",
        "D:\\Data\\gpcp_extent//gpcp_1dd_v1.2_p1d.20101022.tif"
       ]
      },
      {
       "output_type": "stream",
       "stream": "stdout",
       "text": [
        "\n",
        "D:\\Data\\gpcp_extent//gpcp_1dd_v1.2_p1d.20101023.tif"
       ]
      },
      {
       "output_type": "stream",
       "stream": "stdout",
       "text": [
        "\n",
        "D:\\Data\\gpcp_extent//gpcp_1dd_v1.2_p1d.20101024.tif"
       ]
      },
      {
       "output_type": "stream",
       "stream": "stdout",
       "text": [
        "\n",
        "D:\\Data\\gpcp_extent//gpcp_1dd_v1.2_p1d.20101025.tif"
       ]
      },
      {
       "output_type": "stream",
       "stream": "stdout",
       "text": [
        "\n",
        "D:\\Data\\gpcp_extent//gpcp_1dd_v1.2_p1d.20101026.tif"
       ]
      },
      {
       "output_type": "stream",
       "stream": "stdout",
       "text": [
        "\n",
        "D:\\Data\\gpcp_extent//gpcp_1dd_v1.2_p1d.20101027.tif"
       ]
      },
      {
       "output_type": "stream",
       "stream": "stdout",
       "text": [
        "\n",
        "D:\\Data\\gpcp_extent//gpcp_1dd_v1.2_p1d.20101028.tif"
       ]
      },
      {
       "output_type": "stream",
       "stream": "stdout",
       "text": [
        "\n",
        "D:\\Data\\gpcp_extent//gpcp_1dd_v1.2_p1d.20101029.tif"
       ]
      },
      {
       "output_type": "stream",
       "stream": "stdout",
       "text": [
        "\n",
        "D:\\Data\\gpcp_extent//gpcp_1dd_v1.2_p1d.20101030.tif"
       ]
      },
      {
       "output_type": "stream",
       "stream": "stdout",
       "text": [
        "\n",
        "D:\\Data\\gpcp_extent//gpcp_1dd_v1.2_p1d.20101100.tif"
       ]
      },
      {
       "output_type": "stream",
       "stream": "stdout",
       "text": [
        "\n",
        "D:\\Data\\gpcp_extent//gpcp_1dd_v1.2_p1d.20101101.tif"
       ]
      },
      {
       "output_type": "stream",
       "stream": "stdout",
       "text": [
        "\n",
        "D:\\Data\\gpcp_extent//gpcp_1dd_v1.2_p1d.20101102.tif"
       ]
      },
      {
       "output_type": "stream",
       "stream": "stdout",
       "text": [
        "\n",
        "D:\\Data\\gpcp_extent//gpcp_1dd_v1.2_p1d.20101103.tif"
       ]
      },
      {
       "output_type": "stream",
       "stream": "stdout",
       "text": [
        "\n",
        "D:\\Data\\gpcp_extent//gpcp_1dd_v1.2_p1d.20101104.tif"
       ]
      },
      {
       "output_type": "stream",
       "stream": "stdout",
       "text": [
        "\n",
        "D:\\Data\\gpcp_extent//gpcp_1dd_v1.2_p1d.20101105.tif"
       ]
      },
      {
       "output_type": "stream",
       "stream": "stdout",
       "text": [
        "\n",
        "D:\\Data\\gpcp_extent//gpcp_1dd_v1.2_p1d.20101106.tif"
       ]
      },
      {
       "output_type": "stream",
       "stream": "stdout",
       "text": [
        "\n",
        "D:\\Data\\gpcp_extent//gpcp_1dd_v1.2_p1d.20101107.tif"
       ]
      },
      {
       "output_type": "stream",
       "stream": "stdout",
       "text": [
        "\n",
        "D:\\Data\\gpcp_extent//gpcp_1dd_v1.2_p1d.20101108.tif"
       ]
      },
      {
       "output_type": "stream",
       "stream": "stdout",
       "text": [
        "\n",
        "D:\\Data\\gpcp_extent//gpcp_1dd_v1.2_p1d.20101109.tif"
       ]
      },
      {
       "output_type": "stream",
       "stream": "stdout",
       "text": [
        "\n",
        "D:\\Data\\gpcp_extent//gpcp_1dd_v1.2_p1d.20101110.tif"
       ]
      },
      {
       "output_type": "stream",
       "stream": "stdout",
       "text": [
        "\n",
        "D:\\Data\\gpcp_extent//gpcp_1dd_v1.2_p1d.20101111.tif"
       ]
      },
      {
       "output_type": "stream",
       "stream": "stdout",
       "text": [
        "\n",
        "D:\\Data\\gpcp_extent//gpcp_1dd_v1.2_p1d.20101112.tif"
       ]
      },
      {
       "output_type": "stream",
       "stream": "stdout",
       "text": [
        "\n",
        "D:\\Data\\gpcp_extent//gpcp_1dd_v1.2_p1d.20101113.tif"
       ]
      },
      {
       "output_type": "stream",
       "stream": "stdout",
       "text": [
        "\n",
        "D:\\Data\\gpcp_extent//gpcp_1dd_v1.2_p1d.20101114.tif"
       ]
      },
      {
       "output_type": "stream",
       "stream": "stdout",
       "text": [
        "\n",
        "D:\\Data\\gpcp_extent//gpcp_1dd_v1.2_p1d.20101115.tif"
       ]
      },
      {
       "output_type": "stream",
       "stream": "stdout",
       "text": [
        "\n",
        "D:\\Data\\gpcp_extent//gpcp_1dd_v1.2_p1d.20101116.tif"
       ]
      },
      {
       "output_type": "stream",
       "stream": "stdout",
       "text": [
        "\n",
        "D:\\Data\\gpcp_extent//gpcp_1dd_v1.2_p1d.20101117.tif"
       ]
      },
      {
       "output_type": "stream",
       "stream": "stdout",
       "text": [
        "\n",
        "D:\\Data\\gpcp_extent//gpcp_1dd_v1.2_p1d.20101118.tif"
       ]
      },
      {
       "output_type": "stream",
       "stream": "stdout",
       "text": [
        "\n",
        "D:\\Data\\gpcp_extent//gpcp_1dd_v1.2_p1d.20101119.tif"
       ]
      },
      {
       "output_type": "stream",
       "stream": "stdout",
       "text": [
        "\n",
        "D:\\Data\\gpcp_extent//gpcp_1dd_v1.2_p1d.20101120.tif"
       ]
      },
      {
       "output_type": "stream",
       "stream": "stdout",
       "text": [
        "\n",
        "D:\\Data\\gpcp_extent//gpcp_1dd_v1.2_p1d.20101121.tif"
       ]
      },
      {
       "output_type": "stream",
       "stream": "stdout",
       "text": [
        "\n",
        "D:\\Data\\gpcp_extent//gpcp_1dd_v1.2_p1d.20101122.tif"
       ]
      },
      {
       "output_type": "stream",
       "stream": "stdout",
       "text": [
        "\n",
        "D:\\Data\\gpcp_extent//gpcp_1dd_v1.2_p1d.20101123.tif"
       ]
      },
      {
       "output_type": "stream",
       "stream": "stdout",
       "text": [
        "\n",
        "D:\\Data\\gpcp_extent//gpcp_1dd_v1.2_p1d.20101124.tif"
       ]
      },
      {
       "output_type": "stream",
       "stream": "stdout",
       "text": [
        "\n",
        "D:\\Data\\gpcp_extent//gpcp_1dd_v1.2_p1d.20101125.tif"
       ]
      },
      {
       "output_type": "stream",
       "stream": "stdout",
       "text": [
        "\n",
        "D:\\Data\\gpcp_extent//gpcp_1dd_v1.2_p1d.20101126.tif"
       ]
      },
      {
       "output_type": "stream",
       "stream": "stdout",
       "text": [
        "\n",
        "D:\\Data\\gpcp_extent//gpcp_1dd_v1.2_p1d.20101127.tif"
       ]
      },
      {
       "output_type": "stream",
       "stream": "stdout",
       "text": [
        "\n",
        "D:\\Data\\gpcp_extent//gpcp_1dd_v1.2_p1d.20101128.tif"
       ]
      },
      {
       "output_type": "stream",
       "stream": "stdout",
       "text": [
        "\n",
        "D:\\Data\\gpcp_extent//gpcp_1dd_v1.2_p1d.20101129.tif"
       ]
      },
      {
       "output_type": "stream",
       "stream": "stdout",
       "text": [
        "\n",
        "D:\\Data\\gpcp_extent//gpcp_1dd_v1.2_p1d.20101200.tif"
       ]
      },
      {
       "output_type": "stream",
       "stream": "stdout",
       "text": [
        "\n",
        "D:\\Data\\gpcp_extent//gpcp_1dd_v1.2_p1d.20101201.tif"
       ]
      },
      {
       "output_type": "stream",
       "stream": "stdout",
       "text": [
        "\n",
        "D:\\Data\\gpcp_extent//gpcp_1dd_v1.2_p1d.20101202.tif"
       ]
      },
      {
       "output_type": "stream",
       "stream": "stdout",
       "text": [
        "\n",
        "D:\\Data\\gpcp_extent//gpcp_1dd_v1.2_p1d.20101203.tif"
       ]
      },
      {
       "output_type": "stream",
       "stream": "stdout",
       "text": [
        "\n",
        "D:\\Data\\gpcp_extent//gpcp_1dd_v1.2_p1d.20101204.tif"
       ]
      },
      {
       "output_type": "stream",
       "stream": "stdout",
       "text": [
        "\n",
        "D:\\Data\\gpcp_extent//gpcp_1dd_v1.2_p1d.20101205.tif"
       ]
      },
      {
       "output_type": "stream",
       "stream": "stdout",
       "text": [
        "\n",
        "D:\\Data\\gpcp_extent//gpcp_1dd_v1.2_p1d.20101206.tif"
       ]
      },
      {
       "output_type": "stream",
       "stream": "stdout",
       "text": [
        "\n",
        "D:\\Data\\gpcp_extent//gpcp_1dd_v1.2_p1d.20101207.tif"
       ]
      },
      {
       "output_type": "stream",
       "stream": "stdout",
       "text": [
        "\n",
        "D:\\Data\\gpcp_extent//gpcp_1dd_v1.2_p1d.20101208.tif"
       ]
      },
      {
       "output_type": "stream",
       "stream": "stdout",
       "text": [
        "\n",
        "D:\\Data\\gpcp_extent//gpcp_1dd_v1.2_p1d.20101209.tif"
       ]
      },
      {
       "output_type": "stream",
       "stream": "stdout",
       "text": [
        "\n",
        "D:\\Data\\gpcp_extent//gpcp_1dd_v1.2_p1d.20101210.tif"
       ]
      },
      {
       "output_type": "stream",
       "stream": "stdout",
       "text": [
        "\n",
        "D:\\Data\\gpcp_extent//gpcp_1dd_v1.2_p1d.20101211.tif"
       ]
      },
      {
       "output_type": "stream",
       "stream": "stdout",
       "text": [
        "\n",
        "D:\\Data\\gpcp_extent//gpcp_1dd_v1.2_p1d.20101212.tif"
       ]
      },
      {
       "output_type": "stream",
       "stream": "stdout",
       "text": [
        "\n",
        "D:\\Data\\gpcp_extent//gpcp_1dd_v1.2_p1d.20101213.tif"
       ]
      },
      {
       "output_type": "stream",
       "stream": "stdout",
       "text": [
        "\n",
        "D:\\Data\\gpcp_extent//gpcp_1dd_v1.2_p1d.20101214.tif"
       ]
      },
      {
       "output_type": "stream",
       "stream": "stdout",
       "text": [
        "\n",
        "D:\\Data\\gpcp_extent//gpcp_1dd_v1.2_p1d.20101215.tif"
       ]
      },
      {
       "output_type": "stream",
       "stream": "stdout",
       "text": [
        "\n",
        "D:\\Data\\gpcp_extent//gpcp_1dd_v1.2_p1d.20101216.tif"
       ]
      },
      {
       "output_type": "stream",
       "stream": "stdout",
       "text": [
        "\n",
        "D:\\Data\\gpcp_extent//gpcp_1dd_v1.2_p1d.20101217.tif"
       ]
      },
      {
       "output_type": "stream",
       "stream": "stdout",
       "text": [
        "\n",
        "D:\\Data\\gpcp_extent//gpcp_1dd_v1.2_p1d.20101218.tif"
       ]
      },
      {
       "output_type": "stream",
       "stream": "stdout",
       "text": [
        "\n",
        "D:\\Data\\gpcp_extent//gpcp_1dd_v1.2_p1d.20101219.tif"
       ]
      },
      {
       "output_type": "stream",
       "stream": "stdout",
       "text": [
        "\n",
        "D:\\Data\\gpcp_extent//gpcp_1dd_v1.2_p1d.20101220.tif"
       ]
      },
      {
       "output_type": "stream",
       "stream": "stdout",
       "text": [
        "\n",
        "D:\\Data\\gpcp_extent//gpcp_1dd_v1.2_p1d.20101221.tif"
       ]
      },
      {
       "output_type": "stream",
       "stream": "stdout",
       "text": [
        "\n",
        "D:\\Data\\gpcp_extent//gpcp_1dd_v1.2_p1d.20101222.tif"
       ]
      },
      {
       "output_type": "stream",
       "stream": "stdout",
       "text": [
        "\n",
        "D:\\Data\\gpcp_extent//gpcp_1dd_v1.2_p1d.20101223.tif"
       ]
      },
      {
       "output_type": "stream",
       "stream": "stdout",
       "text": [
        "\n",
        "D:\\Data\\gpcp_extent//gpcp_1dd_v1.2_p1d.20101224.tif"
       ]
      },
      {
       "output_type": "stream",
       "stream": "stdout",
       "text": [
        "\n",
        "D:\\Data\\gpcp_extent//gpcp_1dd_v1.2_p1d.20101225.tif"
       ]
      },
      {
       "output_type": "stream",
       "stream": "stdout",
       "text": [
        "\n",
        "D:\\Data\\gpcp_extent//gpcp_1dd_v1.2_p1d.20101226.tif"
       ]
      },
      {
       "output_type": "stream",
       "stream": "stdout",
       "text": [
        "\n",
        "D:\\Data\\gpcp_extent//gpcp_1dd_v1.2_p1d.20101227.tif"
       ]
      },
      {
       "output_type": "stream",
       "stream": "stdout",
       "text": [
        "\n",
        "D:\\Data\\gpcp_extent//gpcp_1dd_v1.2_p1d.20101228.tif"
       ]
      },
      {
       "output_type": "stream",
       "stream": "stdout",
       "text": [
        "\n",
        "D:\\Data\\gpcp_extent//gpcp_1dd_v1.2_p1d.20101229.tif"
       ]
      },
      {
       "output_type": "stream",
       "stream": "stdout",
       "text": [
        "\n",
        "D:\\Data\\gpcp_extent//gpcp_1dd_v1.2_p1d.20101230.tif"
       ]
      },
      {
       "output_type": "stream",
       "stream": "stdout",
       "text": [
        "\n",
        "D:\\Data\\gpcp_extent//gpcp_1dd_v1.2_p1d.20110100.tif"
       ]
      },
      {
       "output_type": "stream",
       "stream": "stdout",
       "text": [
        "\n",
        "D:\\Data\\gpcp_extent//gpcp_1dd_v1.2_p1d.20110101.tif"
       ]
      },
      {
       "output_type": "stream",
       "stream": "stdout",
       "text": [
        "\n",
        "D:\\Data\\gpcp_extent//gpcp_1dd_v1.2_p1d.20110102.tif"
       ]
      },
      {
       "output_type": "stream",
       "stream": "stdout",
       "text": [
        "\n",
        "D:\\Data\\gpcp_extent//gpcp_1dd_v1.2_p1d.20110103.tif"
       ]
      },
      {
       "output_type": "stream",
       "stream": "stdout",
       "text": [
        "\n",
        "D:\\Data\\gpcp_extent//gpcp_1dd_v1.2_p1d.20110104.tif"
       ]
      },
      {
       "output_type": "stream",
       "stream": "stdout",
       "text": [
        "\n",
        "D:\\Data\\gpcp_extent//gpcp_1dd_v1.2_p1d.20110105.tif"
       ]
      },
      {
       "output_type": "stream",
       "stream": "stdout",
       "text": [
        "\n",
        "D:\\Data\\gpcp_extent//gpcp_1dd_v1.2_p1d.20110106.tif"
       ]
      },
      {
       "output_type": "stream",
       "stream": "stdout",
       "text": [
        "\n",
        "D:\\Data\\gpcp_extent//gpcp_1dd_v1.2_p1d.20110107.tif"
       ]
      },
      {
       "output_type": "stream",
       "stream": "stdout",
       "text": [
        "\n",
        "D:\\Data\\gpcp_extent//gpcp_1dd_v1.2_p1d.20110108.tif"
       ]
      },
      {
       "output_type": "stream",
       "stream": "stdout",
       "text": [
        "\n",
        "D:\\Data\\gpcp_extent//gpcp_1dd_v1.2_p1d.20110109.tif"
       ]
      },
      {
       "output_type": "stream",
       "stream": "stdout",
       "text": [
        "\n",
        "D:\\Data\\gpcp_extent//gpcp_1dd_v1.2_p1d.20110110.tif"
       ]
      },
      {
       "output_type": "stream",
       "stream": "stdout",
       "text": [
        "\n",
        "D:\\Data\\gpcp_extent//gpcp_1dd_v1.2_p1d.20110111.tif"
       ]
      },
      {
       "output_type": "stream",
       "stream": "stdout",
       "text": [
        "\n",
        "D:\\Data\\gpcp_extent//gpcp_1dd_v1.2_p1d.20110112.tif"
       ]
      },
      {
       "output_type": "stream",
       "stream": "stdout",
       "text": [
        "\n",
        "D:\\Data\\gpcp_extent//gpcp_1dd_v1.2_p1d.20110113.tif"
       ]
      },
      {
       "output_type": "stream",
       "stream": "stdout",
       "text": [
        "\n",
        "D:\\Data\\gpcp_extent//gpcp_1dd_v1.2_p1d.20110114.tif"
       ]
      },
      {
       "output_type": "stream",
       "stream": "stdout",
       "text": [
        "\n",
        "D:\\Data\\gpcp_extent//gpcp_1dd_v1.2_p1d.20110115.tif"
       ]
      },
      {
       "output_type": "stream",
       "stream": "stdout",
       "text": [
        "\n",
        "D:\\Data\\gpcp_extent//gpcp_1dd_v1.2_p1d.20110116.tif"
       ]
      },
      {
       "output_type": "stream",
       "stream": "stdout",
       "text": [
        "\n",
        "D:\\Data\\gpcp_extent//gpcp_1dd_v1.2_p1d.20110117.tif"
       ]
      },
      {
       "output_type": "stream",
       "stream": "stdout",
       "text": [
        "\n",
        "D:\\Data\\gpcp_extent//gpcp_1dd_v1.2_p1d.20110118.tif"
       ]
      },
      {
       "output_type": "stream",
       "stream": "stdout",
       "text": [
        "\n",
        "D:\\Data\\gpcp_extent//gpcp_1dd_v1.2_p1d.20110119.tif"
       ]
      },
      {
       "output_type": "stream",
       "stream": "stdout",
       "text": [
        "\n",
        "D:\\Data\\gpcp_extent//gpcp_1dd_v1.2_p1d.20110120.tif"
       ]
      },
      {
       "output_type": "stream",
       "stream": "stdout",
       "text": [
        "\n",
        "D:\\Data\\gpcp_extent//gpcp_1dd_v1.2_p1d.20110121.tif"
       ]
      },
      {
       "output_type": "stream",
       "stream": "stdout",
       "text": [
        "\n",
        "D:\\Data\\gpcp_extent//gpcp_1dd_v1.2_p1d.20110122.tif"
       ]
      },
      {
       "output_type": "stream",
       "stream": "stdout",
       "text": [
        "\n",
        "D:\\Data\\gpcp_extent//gpcp_1dd_v1.2_p1d.20110123.tif"
       ]
      },
      {
       "output_type": "stream",
       "stream": "stdout",
       "text": [
        "\n",
        "D:\\Data\\gpcp_extent//gpcp_1dd_v1.2_p1d.20110124.tif"
       ]
      },
      {
       "output_type": "stream",
       "stream": "stdout",
       "text": [
        "\n",
        "D:\\Data\\gpcp_extent//gpcp_1dd_v1.2_p1d.20110125.tif"
       ]
      },
      {
       "output_type": "stream",
       "stream": "stdout",
       "text": [
        "\n",
        "D:\\Data\\gpcp_extent//gpcp_1dd_v1.2_p1d.20110126.tif"
       ]
      },
      {
       "output_type": "stream",
       "stream": "stdout",
       "text": [
        "\n",
        "D:\\Data\\gpcp_extent//gpcp_1dd_v1.2_p1d.20110127.tif"
       ]
      },
      {
       "output_type": "stream",
       "stream": "stdout",
       "text": [
        "\n",
        "D:\\Data\\gpcp_extent//gpcp_1dd_v1.2_p1d.20110128.tif"
       ]
      },
      {
       "output_type": "stream",
       "stream": "stdout",
       "text": [
        "\n",
        "D:\\Data\\gpcp_extent//gpcp_1dd_v1.2_p1d.20110129.tif"
       ]
      },
      {
       "output_type": "stream",
       "stream": "stdout",
       "text": [
        "\n",
        "D:\\Data\\gpcp_extent//gpcp_1dd_v1.2_p1d.20110130.tif"
       ]
      },
      {
       "output_type": "stream",
       "stream": "stdout",
       "text": [
        "\n",
        "D:\\Data\\gpcp_extent//gpcp_1dd_v1.2_p1d.20110200.tif"
       ]
      },
      {
       "output_type": "stream",
       "stream": "stdout",
       "text": [
        "\n",
        "D:\\Data\\gpcp_extent//gpcp_1dd_v1.2_p1d.20110201.tif"
       ]
      },
      {
       "output_type": "stream",
       "stream": "stdout",
       "text": [
        "\n",
        "D:\\Data\\gpcp_extent//gpcp_1dd_v1.2_p1d.20110202.tif"
       ]
      },
      {
       "output_type": "stream",
       "stream": "stdout",
       "text": [
        "\n",
        "D:\\Data\\gpcp_extent//gpcp_1dd_v1.2_p1d.20110203.tif"
       ]
      },
      {
       "output_type": "stream",
       "stream": "stdout",
       "text": [
        "\n",
        "D:\\Data\\gpcp_extent//gpcp_1dd_v1.2_p1d.20110204.tif"
       ]
      },
      {
       "output_type": "stream",
       "stream": "stdout",
       "text": [
        "\n",
        "D:\\Data\\gpcp_extent//gpcp_1dd_v1.2_p1d.20110205.tif"
       ]
      },
      {
       "output_type": "stream",
       "stream": "stdout",
       "text": [
        "\n",
        "D:\\Data\\gpcp_extent//gpcp_1dd_v1.2_p1d.20110206.tif"
       ]
      },
      {
       "output_type": "stream",
       "stream": "stdout",
       "text": [
        "\n",
        "D:\\Data\\gpcp_extent//gpcp_1dd_v1.2_p1d.20110207.tif"
       ]
      },
      {
       "output_type": "stream",
       "stream": "stdout",
       "text": [
        "\n",
        "D:\\Data\\gpcp_extent//gpcp_1dd_v1.2_p1d.20110208.tif"
       ]
      },
      {
       "output_type": "stream",
       "stream": "stdout",
       "text": [
        "\n",
        "D:\\Data\\gpcp_extent//gpcp_1dd_v1.2_p1d.20110209.tif"
       ]
      },
      {
       "output_type": "stream",
       "stream": "stdout",
       "text": [
        "\n",
        "D:\\Data\\gpcp_extent//gpcp_1dd_v1.2_p1d.20110210.tif"
       ]
      },
      {
       "output_type": "stream",
       "stream": "stdout",
       "text": [
        "\n",
        "D:\\Data\\gpcp_extent//gpcp_1dd_v1.2_p1d.20110211.tif"
       ]
      },
      {
       "output_type": "stream",
       "stream": "stdout",
       "text": [
        "\n",
        "D:\\Data\\gpcp_extent//gpcp_1dd_v1.2_p1d.20110212.tif"
       ]
      },
      {
       "output_type": "stream",
       "stream": "stdout",
       "text": [
        "\n",
        "D:\\Data\\gpcp_extent//gpcp_1dd_v1.2_p1d.20110213.tif"
       ]
      },
      {
       "output_type": "stream",
       "stream": "stdout",
       "text": [
        "\n",
        "D:\\Data\\gpcp_extent//gpcp_1dd_v1.2_p1d.20110214.tif"
       ]
      },
      {
       "output_type": "stream",
       "stream": "stdout",
       "text": [
        "\n",
        "D:\\Data\\gpcp_extent//gpcp_1dd_v1.2_p1d.20110215.tif"
       ]
      },
      {
       "output_type": "stream",
       "stream": "stdout",
       "text": [
        "\n",
        "D:\\Data\\gpcp_extent//gpcp_1dd_v1.2_p1d.20110216.tif"
       ]
      },
      {
       "output_type": "stream",
       "stream": "stdout",
       "text": [
        "\n",
        "D:\\Data\\gpcp_extent//gpcp_1dd_v1.2_p1d.20110217.tif"
       ]
      },
      {
       "output_type": "stream",
       "stream": "stdout",
       "text": [
        "\n",
        "D:\\Data\\gpcp_extent//gpcp_1dd_v1.2_p1d.20110218.tif"
       ]
      },
      {
       "output_type": "stream",
       "stream": "stdout",
       "text": [
        "\n",
        "D:\\Data\\gpcp_extent//gpcp_1dd_v1.2_p1d.20110219.tif"
       ]
      },
      {
       "output_type": "stream",
       "stream": "stdout",
       "text": [
        "\n",
        "D:\\Data\\gpcp_extent//gpcp_1dd_v1.2_p1d.20110220.tif"
       ]
      },
      {
       "output_type": "stream",
       "stream": "stdout",
       "text": [
        "\n",
        "D:\\Data\\gpcp_extent//gpcp_1dd_v1.2_p1d.20110221.tif"
       ]
      },
      {
       "output_type": "stream",
       "stream": "stdout",
       "text": [
        "\n",
        "D:\\Data\\gpcp_extent//gpcp_1dd_v1.2_p1d.20110222.tif"
       ]
      },
      {
       "output_type": "stream",
       "stream": "stdout",
       "text": [
        "\n",
        "D:\\Data\\gpcp_extent//gpcp_1dd_v1.2_p1d.20110223.tif"
       ]
      },
      {
       "output_type": "stream",
       "stream": "stdout",
       "text": [
        "\n",
        "D:\\Data\\gpcp_extent//gpcp_1dd_v1.2_p1d.20110224.tif"
       ]
      },
      {
       "output_type": "stream",
       "stream": "stdout",
       "text": [
        "\n",
        "D:\\Data\\gpcp_extent//gpcp_1dd_v1.2_p1d.20110225.tif"
       ]
      },
      {
       "output_type": "stream",
       "stream": "stdout",
       "text": [
        "\n",
        "D:\\Data\\gpcp_extent//gpcp_1dd_v1.2_p1d.20110226.tif"
       ]
      },
      {
       "output_type": "stream",
       "stream": "stdout",
       "text": [
        "\n",
        "D:\\Data\\gpcp_extent//gpcp_1dd_v1.2_p1d.20110227.tif"
       ]
      },
      {
       "output_type": "stream",
       "stream": "stdout",
       "text": [
        "\n",
        "D:\\Data\\gpcp_extent//gpcp_1dd_v1.2_p1d.20110300.tif"
       ]
      },
      {
       "output_type": "stream",
       "stream": "stdout",
       "text": [
        "\n",
        "D:\\Data\\gpcp_extent//gpcp_1dd_v1.2_p1d.20110301.tif"
       ]
      },
      {
       "output_type": "stream",
       "stream": "stdout",
       "text": [
        "\n",
        "D:\\Data\\gpcp_extent//gpcp_1dd_v1.2_p1d.20110302.tif"
       ]
      },
      {
       "output_type": "stream",
       "stream": "stdout",
       "text": [
        "\n",
        "D:\\Data\\gpcp_extent//gpcp_1dd_v1.2_p1d.20110303.tif"
       ]
      },
      {
       "output_type": "stream",
       "stream": "stdout",
       "text": [
        "\n",
        "D:\\Data\\gpcp_extent//gpcp_1dd_v1.2_p1d.20110304.tif"
       ]
      },
      {
       "output_type": "stream",
       "stream": "stdout",
       "text": [
        "\n",
        "D:\\Data\\gpcp_extent//gpcp_1dd_v1.2_p1d.20110305.tif"
       ]
      },
      {
       "output_type": "stream",
       "stream": "stdout",
       "text": [
        "\n",
        "D:\\Data\\gpcp_extent//gpcp_1dd_v1.2_p1d.20110306.tif"
       ]
      },
      {
       "output_type": "stream",
       "stream": "stdout",
       "text": [
        "\n",
        "D:\\Data\\gpcp_extent//gpcp_1dd_v1.2_p1d.20110307.tif"
       ]
      },
      {
       "output_type": "stream",
       "stream": "stdout",
       "text": [
        "\n",
        "D:\\Data\\gpcp_extent//gpcp_1dd_v1.2_p1d.20110308.tif"
       ]
      },
      {
       "output_type": "stream",
       "stream": "stdout",
       "text": [
        "\n",
        "D:\\Data\\gpcp_extent//gpcp_1dd_v1.2_p1d.20110309.tif"
       ]
      },
      {
       "output_type": "stream",
       "stream": "stdout",
       "text": [
        "\n",
        "D:\\Data\\gpcp_extent//gpcp_1dd_v1.2_p1d.20110310.tif"
       ]
      },
      {
       "output_type": "stream",
       "stream": "stdout",
       "text": [
        "\n",
        "D:\\Data\\gpcp_extent//gpcp_1dd_v1.2_p1d.20110311.tif"
       ]
      },
      {
       "output_type": "stream",
       "stream": "stdout",
       "text": [
        "\n",
        "D:\\Data\\gpcp_extent//gpcp_1dd_v1.2_p1d.20110312.tif"
       ]
      },
      {
       "output_type": "stream",
       "stream": "stdout",
       "text": [
        "\n",
        "D:\\Data\\gpcp_extent//gpcp_1dd_v1.2_p1d.20110313.tif"
       ]
      },
      {
       "output_type": "stream",
       "stream": "stdout",
       "text": [
        "\n",
        "D:\\Data\\gpcp_extent//gpcp_1dd_v1.2_p1d.20110314.tif"
       ]
      },
      {
       "output_type": "stream",
       "stream": "stdout",
       "text": [
        "\n",
        "D:\\Data\\gpcp_extent//gpcp_1dd_v1.2_p1d.20110315.tif"
       ]
      },
      {
       "output_type": "stream",
       "stream": "stdout",
       "text": [
        "\n",
        "D:\\Data\\gpcp_extent//gpcp_1dd_v1.2_p1d.20110316.tif"
       ]
      },
      {
       "output_type": "stream",
       "stream": "stdout",
       "text": [
        "\n",
        "D:\\Data\\gpcp_extent//gpcp_1dd_v1.2_p1d.20110317.tif"
       ]
      },
      {
       "output_type": "stream",
       "stream": "stdout",
       "text": [
        "\n",
        "D:\\Data\\gpcp_extent//gpcp_1dd_v1.2_p1d.20110318.tif"
       ]
      },
      {
       "output_type": "stream",
       "stream": "stdout",
       "text": [
        "\n",
        "D:\\Data\\gpcp_extent//gpcp_1dd_v1.2_p1d.20110319.tif"
       ]
      },
      {
       "output_type": "stream",
       "stream": "stdout",
       "text": [
        "\n",
        "D:\\Data\\gpcp_extent//gpcp_1dd_v1.2_p1d.20110320.tif"
       ]
      },
      {
       "output_type": "stream",
       "stream": "stdout",
       "text": [
        "\n",
        "D:\\Data\\gpcp_extent//gpcp_1dd_v1.2_p1d.20110321.tif"
       ]
      },
      {
       "output_type": "stream",
       "stream": "stdout",
       "text": [
        "\n",
        "D:\\Data\\gpcp_extent//gpcp_1dd_v1.2_p1d.20110322.tif"
       ]
      },
      {
       "output_type": "stream",
       "stream": "stdout",
       "text": [
        "\n",
        "D:\\Data\\gpcp_extent//gpcp_1dd_v1.2_p1d.20110323.tif"
       ]
      },
      {
       "output_type": "stream",
       "stream": "stdout",
       "text": [
        "\n",
        "D:\\Data\\gpcp_extent//gpcp_1dd_v1.2_p1d.20110324.tif"
       ]
      },
      {
       "output_type": "stream",
       "stream": "stdout",
       "text": [
        "\n",
        "D:\\Data\\gpcp_extent//gpcp_1dd_v1.2_p1d.20110325.tif"
       ]
      },
      {
       "output_type": "stream",
       "stream": "stdout",
       "text": [
        "\n",
        "D:\\Data\\gpcp_extent//gpcp_1dd_v1.2_p1d.20110326.tif"
       ]
      },
      {
       "output_type": "stream",
       "stream": "stdout",
       "text": [
        "\n",
        "D:\\Data\\gpcp_extent//gpcp_1dd_v1.2_p1d.20110327.tif"
       ]
      },
      {
       "output_type": "stream",
       "stream": "stdout",
       "text": [
        "\n",
        "D:\\Data\\gpcp_extent//gpcp_1dd_v1.2_p1d.20110328.tif"
       ]
      },
      {
       "output_type": "stream",
       "stream": "stdout",
       "text": [
        "\n",
        "D:\\Data\\gpcp_extent//gpcp_1dd_v1.2_p1d.20110329.tif"
       ]
      },
      {
       "output_type": "stream",
       "stream": "stdout",
       "text": [
        "\n",
        "D:\\Data\\gpcp_extent//gpcp_1dd_v1.2_p1d.20110330.tif"
       ]
      },
      {
       "output_type": "stream",
       "stream": "stdout",
       "text": [
        "\n",
        "D:\\Data\\gpcp_extent//gpcp_1dd_v1.2_p1d.20110400.tif"
       ]
      },
      {
       "output_type": "stream",
       "stream": "stdout",
       "text": [
        "\n",
        "D:\\Data\\gpcp_extent//gpcp_1dd_v1.2_p1d.20110401.tif"
       ]
      },
      {
       "output_type": "stream",
       "stream": "stdout",
       "text": [
        "\n",
        "D:\\Data\\gpcp_extent//gpcp_1dd_v1.2_p1d.20110402.tif"
       ]
      },
      {
       "output_type": "stream",
       "stream": "stdout",
       "text": [
        "\n",
        "D:\\Data\\gpcp_extent//gpcp_1dd_v1.2_p1d.20110403.tif"
       ]
      },
      {
       "output_type": "stream",
       "stream": "stdout",
       "text": [
        "\n",
        "D:\\Data\\gpcp_extent//gpcp_1dd_v1.2_p1d.20110404.tif"
       ]
      },
      {
       "output_type": "stream",
       "stream": "stdout",
       "text": [
        "\n",
        "D:\\Data\\gpcp_extent//gpcp_1dd_v1.2_p1d.20110405.tif"
       ]
      },
      {
       "output_type": "stream",
       "stream": "stdout",
       "text": [
        "\n",
        "D:\\Data\\gpcp_extent//gpcp_1dd_v1.2_p1d.20110406.tif"
       ]
      },
      {
       "output_type": "stream",
       "stream": "stdout",
       "text": [
        "\n",
        "D:\\Data\\gpcp_extent//gpcp_1dd_v1.2_p1d.20110407.tif"
       ]
      },
      {
       "output_type": "stream",
       "stream": "stdout",
       "text": [
        "\n",
        "D:\\Data\\gpcp_extent//gpcp_1dd_v1.2_p1d.20110408.tif"
       ]
      },
      {
       "output_type": "stream",
       "stream": "stdout",
       "text": [
        "\n",
        "D:\\Data\\gpcp_extent//gpcp_1dd_v1.2_p1d.20110409.tif"
       ]
      },
      {
       "output_type": "stream",
       "stream": "stdout",
       "text": [
        "\n",
        "D:\\Data\\gpcp_extent//gpcp_1dd_v1.2_p1d.20110410.tif"
       ]
      },
      {
       "output_type": "stream",
       "stream": "stdout",
       "text": [
        "\n",
        "D:\\Data\\gpcp_extent//gpcp_1dd_v1.2_p1d.20110411.tif"
       ]
      },
      {
       "output_type": "stream",
       "stream": "stdout",
       "text": [
        "\n",
        "D:\\Data\\gpcp_extent//gpcp_1dd_v1.2_p1d.20110412.tif"
       ]
      },
      {
       "output_type": "stream",
       "stream": "stdout",
       "text": [
        "\n",
        "D:\\Data\\gpcp_extent//gpcp_1dd_v1.2_p1d.20110413.tif"
       ]
      },
      {
       "output_type": "stream",
       "stream": "stdout",
       "text": [
        "\n",
        "D:\\Data\\gpcp_extent//gpcp_1dd_v1.2_p1d.20110414.tif"
       ]
      },
      {
       "output_type": "stream",
       "stream": "stdout",
       "text": [
        "\n",
        "D:\\Data\\gpcp_extent//gpcp_1dd_v1.2_p1d.20110415.tif"
       ]
      },
      {
       "output_type": "stream",
       "stream": "stdout",
       "text": [
        "\n",
        "D:\\Data\\gpcp_extent//gpcp_1dd_v1.2_p1d.20110416.tif"
       ]
      },
      {
       "output_type": "stream",
       "stream": "stdout",
       "text": [
        "\n",
        "D:\\Data\\gpcp_extent//gpcp_1dd_v1.2_p1d.20110417.tif"
       ]
      },
      {
       "output_type": "stream",
       "stream": "stdout",
       "text": [
        "\n",
        "D:\\Data\\gpcp_extent//gpcp_1dd_v1.2_p1d.20110418.tif"
       ]
      },
      {
       "output_type": "stream",
       "stream": "stdout",
       "text": [
        "\n",
        "D:\\Data\\gpcp_extent//gpcp_1dd_v1.2_p1d.20110419.tif"
       ]
      },
      {
       "output_type": "stream",
       "stream": "stdout",
       "text": [
        "\n",
        "D:\\Data\\gpcp_extent//gpcp_1dd_v1.2_p1d.20110420.tif"
       ]
      },
      {
       "output_type": "stream",
       "stream": "stdout",
       "text": [
        "\n",
        "D:\\Data\\gpcp_extent//gpcp_1dd_v1.2_p1d.20110421.tif"
       ]
      },
      {
       "output_type": "stream",
       "stream": "stdout",
       "text": [
        "\n",
        "D:\\Data\\gpcp_extent//gpcp_1dd_v1.2_p1d.20110422.tif"
       ]
      },
      {
       "output_type": "stream",
       "stream": "stdout",
       "text": [
        "\n",
        "D:\\Data\\gpcp_extent//gpcp_1dd_v1.2_p1d.20110423.tif"
       ]
      },
      {
       "output_type": "stream",
       "stream": "stdout",
       "text": [
        "\n",
        "D:\\Data\\gpcp_extent//gpcp_1dd_v1.2_p1d.20110424.tif"
       ]
      },
      {
       "output_type": "stream",
       "stream": "stdout",
       "text": [
        "\n",
        "D:\\Data\\gpcp_extent//gpcp_1dd_v1.2_p1d.20110425.tif"
       ]
      },
      {
       "output_type": "stream",
       "stream": "stdout",
       "text": [
        "\n",
        "D:\\Data\\gpcp_extent//gpcp_1dd_v1.2_p1d.20110426.tif"
       ]
      },
      {
       "output_type": "stream",
       "stream": "stdout",
       "text": [
        "\n",
        "D:\\Data\\gpcp_extent//gpcp_1dd_v1.2_p1d.20110427.tif"
       ]
      },
      {
       "output_type": "stream",
       "stream": "stdout",
       "text": [
        "\n",
        "D:\\Data\\gpcp_extent//gpcp_1dd_v1.2_p1d.20110428.tif"
       ]
      },
      {
       "output_type": "stream",
       "stream": "stdout",
       "text": [
        "\n",
        "D:\\Data\\gpcp_extent//gpcp_1dd_v1.2_p1d.20110429.tif"
       ]
      },
      {
       "output_type": "stream",
       "stream": "stdout",
       "text": [
        "\n",
        "D:\\Data\\gpcp_extent//gpcp_1dd_v1.2_p1d.20110500.tif"
       ]
      },
      {
       "output_type": "stream",
       "stream": "stdout",
       "text": [
        "\n",
        "D:\\Data\\gpcp_extent//gpcp_1dd_v1.2_p1d.20110501.tif"
       ]
      },
      {
       "output_type": "stream",
       "stream": "stdout",
       "text": [
        "\n",
        "D:\\Data\\gpcp_extent//gpcp_1dd_v1.2_p1d.20110502.tif"
       ]
      },
      {
       "output_type": "stream",
       "stream": "stdout",
       "text": [
        "\n",
        "D:\\Data\\gpcp_extent//gpcp_1dd_v1.2_p1d.20110503.tif"
       ]
      },
      {
       "output_type": "stream",
       "stream": "stdout",
       "text": [
        "\n",
        "D:\\Data\\gpcp_extent//gpcp_1dd_v1.2_p1d.20110504.tif"
       ]
      },
      {
       "output_type": "stream",
       "stream": "stdout",
       "text": [
        "\n",
        "D:\\Data\\gpcp_extent//gpcp_1dd_v1.2_p1d.20110505.tif"
       ]
      },
      {
       "output_type": "stream",
       "stream": "stdout",
       "text": [
        "\n",
        "D:\\Data\\gpcp_extent//gpcp_1dd_v1.2_p1d.20110506.tif"
       ]
      },
      {
       "output_type": "stream",
       "stream": "stdout",
       "text": [
        "\n",
        "D:\\Data\\gpcp_extent//gpcp_1dd_v1.2_p1d.20110507.tif"
       ]
      },
      {
       "output_type": "stream",
       "stream": "stdout",
       "text": [
        "\n",
        "D:\\Data\\gpcp_extent//gpcp_1dd_v1.2_p1d.20110508.tif"
       ]
      },
      {
       "output_type": "stream",
       "stream": "stdout",
       "text": [
        "\n",
        "D:\\Data\\gpcp_extent//gpcp_1dd_v1.2_p1d.20110509.tif"
       ]
      },
      {
       "output_type": "stream",
       "stream": "stdout",
       "text": [
        "\n",
        "D:\\Data\\gpcp_extent//gpcp_1dd_v1.2_p1d.20110510.tif"
       ]
      },
      {
       "output_type": "stream",
       "stream": "stdout",
       "text": [
        "\n",
        "D:\\Data\\gpcp_extent//gpcp_1dd_v1.2_p1d.20110511.tif"
       ]
      },
      {
       "output_type": "stream",
       "stream": "stdout",
       "text": [
        "\n",
        "D:\\Data\\gpcp_extent//gpcp_1dd_v1.2_p1d.20110512.tif"
       ]
      },
      {
       "output_type": "stream",
       "stream": "stdout",
       "text": [
        "\n",
        "D:\\Data\\gpcp_extent//gpcp_1dd_v1.2_p1d.20110513.tif"
       ]
      },
      {
       "output_type": "stream",
       "stream": "stdout",
       "text": [
        "\n",
        "D:\\Data\\gpcp_extent//gpcp_1dd_v1.2_p1d.20110514.tif"
       ]
      },
      {
       "output_type": "stream",
       "stream": "stdout",
       "text": [
        "\n",
        "D:\\Data\\gpcp_extent//gpcp_1dd_v1.2_p1d.20110515.tif"
       ]
      },
      {
       "output_type": "stream",
       "stream": "stdout",
       "text": [
        "\n",
        "D:\\Data\\gpcp_extent//gpcp_1dd_v1.2_p1d.20110516.tif"
       ]
      },
      {
       "output_type": "stream",
       "stream": "stdout",
       "text": [
        "\n",
        "D:\\Data\\gpcp_extent//gpcp_1dd_v1.2_p1d.20110517.tif"
       ]
      },
      {
       "output_type": "stream",
       "stream": "stdout",
       "text": [
        "\n",
        "D:\\Data\\gpcp_extent//gpcp_1dd_v1.2_p1d.20110518.tif"
       ]
      },
      {
       "output_type": "stream",
       "stream": "stdout",
       "text": [
        "\n",
        "D:\\Data\\gpcp_extent//gpcp_1dd_v1.2_p1d.20110519.tif"
       ]
      },
      {
       "output_type": "stream",
       "stream": "stdout",
       "text": [
        "\n",
        "D:\\Data\\gpcp_extent//gpcp_1dd_v1.2_p1d.20110520.tif"
       ]
      },
      {
       "output_type": "stream",
       "stream": "stdout",
       "text": [
        "\n",
        "D:\\Data\\gpcp_extent//gpcp_1dd_v1.2_p1d.20110521.tif"
       ]
      },
      {
       "output_type": "stream",
       "stream": "stdout",
       "text": [
        "\n",
        "D:\\Data\\gpcp_extent//gpcp_1dd_v1.2_p1d.20110522.tif"
       ]
      },
      {
       "output_type": "stream",
       "stream": "stdout",
       "text": [
        "\n",
        "D:\\Data\\gpcp_extent//gpcp_1dd_v1.2_p1d.20110523.tif"
       ]
      },
      {
       "output_type": "stream",
       "stream": "stdout",
       "text": [
        "\n",
        "D:\\Data\\gpcp_extent//gpcp_1dd_v1.2_p1d.20110524.tif"
       ]
      },
      {
       "output_type": "stream",
       "stream": "stdout",
       "text": [
        "\n",
        "D:\\Data\\gpcp_extent//gpcp_1dd_v1.2_p1d.20110525.tif"
       ]
      },
      {
       "output_type": "stream",
       "stream": "stdout",
       "text": [
        "\n",
        "D:\\Data\\gpcp_extent//gpcp_1dd_v1.2_p1d.20110526.tif"
       ]
      },
      {
       "output_type": "stream",
       "stream": "stdout",
       "text": [
        "\n",
        "D:\\Data\\gpcp_extent//gpcp_1dd_v1.2_p1d.20110527.tif"
       ]
      },
      {
       "output_type": "stream",
       "stream": "stdout",
       "text": [
        "\n",
        "D:\\Data\\gpcp_extent//gpcp_1dd_v1.2_p1d.20110528.tif"
       ]
      },
      {
       "output_type": "stream",
       "stream": "stdout",
       "text": [
        "\n",
        "D:\\Data\\gpcp_extent//gpcp_1dd_v1.2_p1d.20110529.tif"
       ]
      },
      {
       "output_type": "stream",
       "stream": "stdout",
       "text": [
        "\n",
        "D:\\Data\\gpcp_extent//gpcp_1dd_v1.2_p1d.20110530.tif"
       ]
      },
      {
       "output_type": "stream",
       "stream": "stdout",
       "text": [
        "\n",
        "D:\\Data\\gpcp_extent//gpcp_1dd_v1.2_p1d.20110600.tif"
       ]
      },
      {
       "output_type": "stream",
       "stream": "stdout",
       "text": [
        "\n",
        "D:\\Data\\gpcp_extent//gpcp_1dd_v1.2_p1d.20110601.tif"
       ]
      },
      {
       "output_type": "stream",
       "stream": "stdout",
       "text": [
        "\n",
        "D:\\Data\\gpcp_extent//gpcp_1dd_v1.2_p1d.20110602.tif"
       ]
      },
      {
       "output_type": "stream",
       "stream": "stdout",
       "text": [
        "\n",
        "D:\\Data\\gpcp_extent//gpcp_1dd_v1.2_p1d.20110603.tif"
       ]
      },
      {
       "output_type": "stream",
       "stream": "stdout",
       "text": [
        "\n",
        "D:\\Data\\gpcp_extent//gpcp_1dd_v1.2_p1d.20110604.tif"
       ]
      },
      {
       "output_type": "stream",
       "stream": "stdout",
       "text": [
        "\n",
        "D:\\Data\\gpcp_extent//gpcp_1dd_v1.2_p1d.20110605.tif"
       ]
      },
      {
       "output_type": "stream",
       "stream": "stdout",
       "text": [
        "\n",
        "D:\\Data\\gpcp_extent//gpcp_1dd_v1.2_p1d.20110606.tif"
       ]
      },
      {
       "output_type": "stream",
       "stream": "stdout",
       "text": [
        "\n",
        "D:\\Data\\gpcp_extent//gpcp_1dd_v1.2_p1d.20110607.tif"
       ]
      },
      {
       "output_type": "stream",
       "stream": "stdout",
       "text": [
        "\n",
        "D:\\Data\\gpcp_extent//gpcp_1dd_v1.2_p1d.20110608.tif"
       ]
      },
      {
       "output_type": "stream",
       "stream": "stdout",
       "text": [
        "\n",
        "D:\\Data\\gpcp_extent//gpcp_1dd_v1.2_p1d.20110609.tif"
       ]
      },
      {
       "output_type": "stream",
       "stream": "stdout",
       "text": [
        "\n",
        "D:\\Data\\gpcp_extent//gpcp_1dd_v1.2_p1d.20110610.tif"
       ]
      },
      {
       "output_type": "stream",
       "stream": "stdout",
       "text": [
        "\n",
        "D:\\Data\\gpcp_extent//gpcp_1dd_v1.2_p1d.20110611.tif"
       ]
      },
      {
       "output_type": "stream",
       "stream": "stdout",
       "text": [
        "\n",
        "D:\\Data\\gpcp_extent//gpcp_1dd_v1.2_p1d.20110612.tif"
       ]
      },
      {
       "output_type": "stream",
       "stream": "stdout",
       "text": [
        "\n",
        "D:\\Data\\gpcp_extent//gpcp_1dd_v1.2_p1d.20110613.tif"
       ]
      },
      {
       "output_type": "stream",
       "stream": "stdout",
       "text": [
        "\n",
        "D:\\Data\\gpcp_extent//gpcp_1dd_v1.2_p1d.20110614.tif"
       ]
      },
      {
       "output_type": "stream",
       "stream": "stdout",
       "text": [
        "\n",
        "D:\\Data\\gpcp_extent//gpcp_1dd_v1.2_p1d.20110615.tif"
       ]
      },
      {
       "output_type": "stream",
       "stream": "stdout",
       "text": [
        "\n",
        "D:\\Data\\gpcp_extent//gpcp_1dd_v1.2_p1d.20110616.tif"
       ]
      },
      {
       "output_type": "stream",
       "stream": "stdout",
       "text": [
        "\n",
        "D:\\Data\\gpcp_extent//gpcp_1dd_v1.2_p1d.20110617.tif"
       ]
      },
      {
       "output_type": "stream",
       "stream": "stdout",
       "text": [
        "\n",
        "D:\\Data\\gpcp_extent//gpcp_1dd_v1.2_p1d.20110618.tif"
       ]
      },
      {
       "output_type": "stream",
       "stream": "stdout",
       "text": [
        "\n",
        "D:\\Data\\gpcp_extent//gpcp_1dd_v1.2_p1d.20110619.tif"
       ]
      },
      {
       "output_type": "stream",
       "stream": "stdout",
       "text": [
        "\n",
        "D:\\Data\\gpcp_extent//gpcp_1dd_v1.2_p1d.20110620.tif"
       ]
      },
      {
       "output_type": "stream",
       "stream": "stdout",
       "text": [
        "\n",
        "D:\\Data\\gpcp_extent//gpcp_1dd_v1.2_p1d.20110621.tif"
       ]
      },
      {
       "output_type": "stream",
       "stream": "stdout",
       "text": [
        "\n",
        "D:\\Data\\gpcp_extent//gpcp_1dd_v1.2_p1d.20110622.tif"
       ]
      },
      {
       "output_type": "stream",
       "stream": "stdout",
       "text": [
        "\n",
        "D:\\Data\\gpcp_extent//gpcp_1dd_v1.2_p1d.20110623.tif"
       ]
      },
      {
       "output_type": "stream",
       "stream": "stdout",
       "text": [
        "\n",
        "D:\\Data\\gpcp_extent//gpcp_1dd_v1.2_p1d.20110624.tif"
       ]
      },
      {
       "output_type": "stream",
       "stream": "stdout",
       "text": [
        "\n",
        "D:\\Data\\gpcp_extent//gpcp_1dd_v1.2_p1d.20110625.tif"
       ]
      },
      {
       "output_type": "stream",
       "stream": "stdout",
       "text": [
        "\n",
        "D:\\Data\\gpcp_extent//gpcp_1dd_v1.2_p1d.20110626.tif"
       ]
      },
      {
       "output_type": "stream",
       "stream": "stdout",
       "text": [
        "\n",
        "D:\\Data\\gpcp_extent//gpcp_1dd_v1.2_p1d.20110627.tif"
       ]
      },
      {
       "output_type": "stream",
       "stream": "stdout",
       "text": [
        "\n",
        "D:\\Data\\gpcp_extent//gpcp_1dd_v1.2_p1d.20110628.tif"
       ]
      },
      {
       "output_type": "stream",
       "stream": "stdout",
       "text": [
        "\n",
        "D:\\Data\\gpcp_extent//gpcp_1dd_v1.2_p1d.20110629.tif"
       ]
      },
      {
       "output_type": "stream",
       "stream": "stdout",
       "text": [
        "\n",
        "D:\\Data\\gpcp_extent//gpcp_1dd_v1.2_p1d.20110700.tif"
       ]
      },
      {
       "output_type": "stream",
       "stream": "stdout",
       "text": [
        "\n",
        "D:\\Data\\gpcp_extent//gpcp_1dd_v1.2_p1d.20110701.tif"
       ]
      },
      {
       "output_type": "stream",
       "stream": "stdout",
       "text": [
        "\n",
        "D:\\Data\\gpcp_extent//gpcp_1dd_v1.2_p1d.20110702.tif"
       ]
      },
      {
       "output_type": "stream",
       "stream": "stdout",
       "text": [
        "\n",
        "D:\\Data\\gpcp_extent//gpcp_1dd_v1.2_p1d.20110703.tif"
       ]
      },
      {
       "output_type": "stream",
       "stream": "stdout",
       "text": [
        "\n",
        "D:\\Data\\gpcp_extent//gpcp_1dd_v1.2_p1d.20110704.tif"
       ]
      },
      {
       "output_type": "stream",
       "stream": "stdout",
       "text": [
        "\n",
        "D:\\Data\\gpcp_extent//gpcp_1dd_v1.2_p1d.20110705.tif"
       ]
      },
      {
       "output_type": "stream",
       "stream": "stdout",
       "text": [
        "\n",
        "D:\\Data\\gpcp_extent//gpcp_1dd_v1.2_p1d.20110706.tif"
       ]
      },
      {
       "output_type": "stream",
       "stream": "stdout",
       "text": [
        "\n",
        "D:\\Data\\gpcp_extent//gpcp_1dd_v1.2_p1d.20110707.tif"
       ]
      },
      {
       "output_type": "stream",
       "stream": "stdout",
       "text": [
        "\n",
        "D:\\Data\\gpcp_extent//gpcp_1dd_v1.2_p1d.20110708.tif"
       ]
      },
      {
       "output_type": "stream",
       "stream": "stdout",
       "text": [
        "\n",
        "D:\\Data\\gpcp_extent//gpcp_1dd_v1.2_p1d.20110709.tif"
       ]
      },
      {
       "output_type": "stream",
       "stream": "stdout",
       "text": [
        "\n",
        "D:\\Data\\gpcp_extent//gpcp_1dd_v1.2_p1d.20110710.tif"
       ]
      },
      {
       "output_type": "stream",
       "stream": "stdout",
       "text": [
        "\n",
        "D:\\Data\\gpcp_extent//gpcp_1dd_v1.2_p1d.20110711.tif"
       ]
      },
      {
       "output_type": "stream",
       "stream": "stdout",
       "text": [
        "\n",
        "D:\\Data\\gpcp_extent//gpcp_1dd_v1.2_p1d.20110712.tif"
       ]
      },
      {
       "output_type": "stream",
       "stream": "stdout",
       "text": [
        "\n",
        "D:\\Data\\gpcp_extent//gpcp_1dd_v1.2_p1d.20110713.tif"
       ]
      },
      {
       "output_type": "stream",
       "stream": "stdout",
       "text": [
        "\n",
        "D:\\Data\\gpcp_extent//gpcp_1dd_v1.2_p1d.20110714.tif"
       ]
      },
      {
       "output_type": "stream",
       "stream": "stdout",
       "text": [
        "\n",
        "D:\\Data\\gpcp_extent//gpcp_1dd_v1.2_p1d.20110715.tif"
       ]
      },
      {
       "output_type": "stream",
       "stream": "stdout",
       "text": [
        "\n",
        "D:\\Data\\gpcp_extent//gpcp_1dd_v1.2_p1d.20110716.tif"
       ]
      },
      {
       "output_type": "stream",
       "stream": "stdout",
       "text": [
        "\n",
        "D:\\Data\\gpcp_extent//gpcp_1dd_v1.2_p1d.20110717.tif"
       ]
      },
      {
       "output_type": "stream",
       "stream": "stdout",
       "text": [
        "\n",
        "D:\\Data\\gpcp_extent//gpcp_1dd_v1.2_p1d.20110718.tif"
       ]
      },
      {
       "output_type": "stream",
       "stream": "stdout",
       "text": [
        "\n",
        "D:\\Data\\gpcp_extent//gpcp_1dd_v1.2_p1d.20110719.tif"
       ]
      },
      {
       "output_type": "stream",
       "stream": "stdout",
       "text": [
        "\n",
        "D:\\Data\\gpcp_extent//gpcp_1dd_v1.2_p1d.20110720.tif"
       ]
      },
      {
       "output_type": "stream",
       "stream": "stdout",
       "text": [
        "\n",
        "D:\\Data\\gpcp_extent//gpcp_1dd_v1.2_p1d.20110721.tif"
       ]
      },
      {
       "output_type": "stream",
       "stream": "stdout",
       "text": [
        "\n",
        "D:\\Data\\gpcp_extent//gpcp_1dd_v1.2_p1d.20110722.tif"
       ]
      },
      {
       "output_type": "stream",
       "stream": "stdout",
       "text": [
        "\n",
        "D:\\Data\\gpcp_extent//gpcp_1dd_v1.2_p1d.20110723.tif"
       ]
      },
      {
       "output_type": "stream",
       "stream": "stdout",
       "text": [
        "\n",
        "D:\\Data\\gpcp_extent//gpcp_1dd_v1.2_p1d.20110724.tif"
       ]
      },
      {
       "output_type": "stream",
       "stream": "stdout",
       "text": [
        "\n",
        "D:\\Data\\gpcp_extent//gpcp_1dd_v1.2_p1d.20110725.tif"
       ]
      },
      {
       "output_type": "stream",
       "stream": "stdout",
       "text": [
        "\n",
        "D:\\Data\\gpcp_extent//gpcp_1dd_v1.2_p1d.20110726.tif"
       ]
      },
      {
       "output_type": "stream",
       "stream": "stdout",
       "text": [
        "\n",
        "D:\\Data\\gpcp_extent//gpcp_1dd_v1.2_p1d.20110727.tif"
       ]
      },
      {
       "output_type": "stream",
       "stream": "stdout",
       "text": [
        "\n",
        "D:\\Data\\gpcp_extent//gpcp_1dd_v1.2_p1d.20110728.tif"
       ]
      },
      {
       "output_type": "stream",
       "stream": "stdout",
       "text": [
        "\n",
        "D:\\Data\\gpcp_extent//gpcp_1dd_v1.2_p1d.20110729.tif"
       ]
      },
      {
       "output_type": "stream",
       "stream": "stdout",
       "text": [
        "\n",
        "D:\\Data\\gpcp_extent//gpcp_1dd_v1.2_p1d.20110730.tif"
       ]
      },
      {
       "output_type": "stream",
       "stream": "stdout",
       "text": [
        "\n",
        "D:\\Data\\gpcp_extent//gpcp_1dd_v1.2_p1d.20110800.tif"
       ]
      },
      {
       "output_type": "stream",
       "stream": "stdout",
       "text": [
        "\n",
        "D:\\Data\\gpcp_extent//gpcp_1dd_v1.2_p1d.20110801.tif"
       ]
      },
      {
       "output_type": "stream",
       "stream": "stdout",
       "text": [
        "\n",
        "D:\\Data\\gpcp_extent//gpcp_1dd_v1.2_p1d.20110802.tif"
       ]
      },
      {
       "output_type": "stream",
       "stream": "stdout",
       "text": [
        "\n",
        "D:\\Data\\gpcp_extent//gpcp_1dd_v1.2_p1d.20110803.tif"
       ]
      },
      {
       "output_type": "stream",
       "stream": "stdout",
       "text": [
        "\n",
        "D:\\Data\\gpcp_extent//gpcp_1dd_v1.2_p1d.20110804.tif"
       ]
      },
      {
       "output_type": "stream",
       "stream": "stdout",
       "text": [
        "\n",
        "D:\\Data\\gpcp_extent//gpcp_1dd_v1.2_p1d.20110805.tif"
       ]
      },
      {
       "output_type": "stream",
       "stream": "stdout",
       "text": [
        "\n",
        "D:\\Data\\gpcp_extent//gpcp_1dd_v1.2_p1d.20110806.tif"
       ]
      },
      {
       "output_type": "stream",
       "stream": "stdout",
       "text": [
        "\n",
        "D:\\Data\\gpcp_extent//gpcp_1dd_v1.2_p1d.20110807.tif"
       ]
      },
      {
       "output_type": "stream",
       "stream": "stdout",
       "text": [
        "\n",
        "D:\\Data\\gpcp_extent//gpcp_1dd_v1.2_p1d.20110808.tif"
       ]
      },
      {
       "output_type": "stream",
       "stream": "stdout",
       "text": [
        "\n",
        "D:\\Data\\gpcp_extent//gpcp_1dd_v1.2_p1d.20110809.tif"
       ]
      },
      {
       "output_type": "stream",
       "stream": "stdout",
       "text": [
        "\n",
        "D:\\Data\\gpcp_extent//gpcp_1dd_v1.2_p1d.20110810.tif"
       ]
      },
      {
       "output_type": "stream",
       "stream": "stdout",
       "text": [
        "\n",
        "D:\\Data\\gpcp_extent//gpcp_1dd_v1.2_p1d.20110811.tif"
       ]
      },
      {
       "output_type": "stream",
       "stream": "stdout",
       "text": [
        "\n",
        "D:\\Data\\gpcp_extent//gpcp_1dd_v1.2_p1d.20110812.tif"
       ]
      },
      {
       "output_type": "stream",
       "stream": "stdout",
       "text": [
        "\n",
        "D:\\Data\\gpcp_extent//gpcp_1dd_v1.2_p1d.20110813.tif"
       ]
      },
      {
       "output_type": "stream",
       "stream": "stdout",
       "text": [
        "\n",
        "D:\\Data\\gpcp_extent//gpcp_1dd_v1.2_p1d.20110814.tif"
       ]
      },
      {
       "output_type": "stream",
       "stream": "stdout",
       "text": [
        "\n",
        "D:\\Data\\gpcp_extent//gpcp_1dd_v1.2_p1d.20110815.tif"
       ]
      },
      {
       "output_type": "stream",
       "stream": "stdout",
       "text": [
        "\n",
        "D:\\Data\\gpcp_extent//gpcp_1dd_v1.2_p1d.20110816.tif"
       ]
      },
      {
       "output_type": "stream",
       "stream": "stdout",
       "text": [
        "\n",
        "D:\\Data\\gpcp_extent//gpcp_1dd_v1.2_p1d.20110817.tif"
       ]
      },
      {
       "output_type": "stream",
       "stream": "stdout",
       "text": [
        "\n",
        "D:\\Data\\gpcp_extent//gpcp_1dd_v1.2_p1d.20110818.tif"
       ]
      },
      {
       "output_type": "stream",
       "stream": "stdout",
       "text": [
        "\n",
        "D:\\Data\\gpcp_extent//gpcp_1dd_v1.2_p1d.20110819.tif"
       ]
      },
      {
       "output_type": "stream",
       "stream": "stdout",
       "text": [
        "\n",
        "D:\\Data\\gpcp_extent//gpcp_1dd_v1.2_p1d.20110820.tif"
       ]
      },
      {
       "output_type": "stream",
       "stream": "stdout",
       "text": [
        "\n",
        "D:\\Data\\gpcp_extent//gpcp_1dd_v1.2_p1d.20110821.tif"
       ]
      },
      {
       "output_type": "stream",
       "stream": "stdout",
       "text": [
        "\n",
        "D:\\Data\\gpcp_extent//gpcp_1dd_v1.2_p1d.20110822.tif"
       ]
      },
      {
       "output_type": "stream",
       "stream": "stdout",
       "text": [
        "\n",
        "D:\\Data\\gpcp_extent//gpcp_1dd_v1.2_p1d.20110823.tif"
       ]
      },
      {
       "output_type": "stream",
       "stream": "stdout",
       "text": [
        "\n",
        "D:\\Data\\gpcp_extent//gpcp_1dd_v1.2_p1d.20110824.tif"
       ]
      },
      {
       "output_type": "stream",
       "stream": "stdout",
       "text": [
        "\n",
        "D:\\Data\\gpcp_extent//gpcp_1dd_v1.2_p1d.20110825.tif"
       ]
      },
      {
       "output_type": "stream",
       "stream": "stdout",
       "text": [
        "\n",
        "D:\\Data\\gpcp_extent//gpcp_1dd_v1.2_p1d.20110826.tif"
       ]
      },
      {
       "output_type": "stream",
       "stream": "stdout",
       "text": [
        "\n",
        "D:\\Data\\gpcp_extent//gpcp_1dd_v1.2_p1d.20110827.tif"
       ]
      },
      {
       "output_type": "stream",
       "stream": "stdout",
       "text": [
        "\n",
        "D:\\Data\\gpcp_extent//gpcp_1dd_v1.2_p1d.20110828.tif"
       ]
      },
      {
       "output_type": "stream",
       "stream": "stdout",
       "text": [
        "\n",
        "D:\\Data\\gpcp_extent//gpcp_1dd_v1.2_p1d.20110829.tif"
       ]
      },
      {
       "output_type": "stream",
       "stream": "stdout",
       "text": [
        "\n",
        "D:\\Data\\gpcp_extent//gpcp_1dd_v1.2_p1d.20110830.tif"
       ]
      },
      {
       "output_type": "stream",
       "stream": "stdout",
       "text": [
        "\n",
        "D:\\Data\\gpcp_extent//gpcp_1dd_v1.2_p1d.20110900.tif"
       ]
      },
      {
       "output_type": "stream",
       "stream": "stdout",
       "text": [
        "\n",
        "D:\\Data\\gpcp_extent//gpcp_1dd_v1.2_p1d.20110901.tif"
       ]
      },
      {
       "output_type": "stream",
       "stream": "stdout",
       "text": [
        "\n",
        "D:\\Data\\gpcp_extent//gpcp_1dd_v1.2_p1d.20110902.tif"
       ]
      },
      {
       "output_type": "stream",
       "stream": "stdout",
       "text": [
        "\n",
        "D:\\Data\\gpcp_extent//gpcp_1dd_v1.2_p1d.20110903.tif"
       ]
      },
      {
       "output_type": "stream",
       "stream": "stdout",
       "text": [
        "\n",
        "D:\\Data\\gpcp_extent//gpcp_1dd_v1.2_p1d.20110904.tif"
       ]
      },
      {
       "output_type": "stream",
       "stream": "stdout",
       "text": [
        "\n",
        "D:\\Data\\gpcp_extent//gpcp_1dd_v1.2_p1d.20110905.tif"
       ]
      },
      {
       "output_type": "stream",
       "stream": "stdout",
       "text": [
        "\n",
        "D:\\Data\\gpcp_extent//gpcp_1dd_v1.2_p1d.20110906.tif"
       ]
      },
      {
       "output_type": "stream",
       "stream": "stdout",
       "text": [
        "\n",
        "D:\\Data\\gpcp_extent//gpcp_1dd_v1.2_p1d.20110907.tif"
       ]
      },
      {
       "output_type": "stream",
       "stream": "stdout",
       "text": [
        "\n",
        "D:\\Data\\gpcp_extent//gpcp_1dd_v1.2_p1d.20110908.tif"
       ]
      },
      {
       "output_type": "stream",
       "stream": "stdout",
       "text": [
        "\n",
        "D:\\Data\\gpcp_extent//gpcp_1dd_v1.2_p1d.20110909.tif"
       ]
      },
      {
       "output_type": "stream",
       "stream": "stdout",
       "text": [
        "\n",
        "D:\\Data\\gpcp_extent//gpcp_1dd_v1.2_p1d.20110910.tif"
       ]
      },
      {
       "output_type": "stream",
       "stream": "stdout",
       "text": [
        "\n",
        "D:\\Data\\gpcp_extent//gpcp_1dd_v1.2_p1d.20110911.tif"
       ]
      },
      {
       "output_type": "stream",
       "stream": "stdout",
       "text": [
        "\n",
        "D:\\Data\\gpcp_extent//gpcp_1dd_v1.2_p1d.20110912.tif"
       ]
      },
      {
       "output_type": "stream",
       "stream": "stdout",
       "text": [
        "\n",
        "D:\\Data\\gpcp_extent//gpcp_1dd_v1.2_p1d.20110913.tif"
       ]
      },
      {
       "output_type": "stream",
       "stream": "stdout",
       "text": [
        "\n",
        "D:\\Data\\gpcp_extent//gpcp_1dd_v1.2_p1d.20110914.tif"
       ]
      },
      {
       "output_type": "stream",
       "stream": "stdout",
       "text": [
        "\n",
        "D:\\Data\\gpcp_extent//gpcp_1dd_v1.2_p1d.20110915.tif"
       ]
      },
      {
       "output_type": "stream",
       "stream": "stdout",
       "text": [
        "\n",
        "D:\\Data\\gpcp_extent//gpcp_1dd_v1.2_p1d.20110916.tif"
       ]
      },
      {
       "output_type": "stream",
       "stream": "stdout",
       "text": [
        "\n",
        "D:\\Data\\gpcp_extent//gpcp_1dd_v1.2_p1d.20110917.tif"
       ]
      },
      {
       "output_type": "stream",
       "stream": "stdout",
       "text": [
        "\n",
        "D:\\Data\\gpcp_extent//gpcp_1dd_v1.2_p1d.20110918.tif"
       ]
      },
      {
       "output_type": "stream",
       "stream": "stdout",
       "text": [
        "\n",
        "D:\\Data\\gpcp_extent//gpcp_1dd_v1.2_p1d.20110919.tif"
       ]
      },
      {
       "output_type": "stream",
       "stream": "stdout",
       "text": [
        "\n",
        "D:\\Data\\gpcp_extent//gpcp_1dd_v1.2_p1d.20110920.tif"
       ]
      },
      {
       "output_type": "stream",
       "stream": "stdout",
       "text": [
        "\n",
        "D:\\Data\\gpcp_extent//gpcp_1dd_v1.2_p1d.20110921.tif"
       ]
      },
      {
       "output_type": "stream",
       "stream": "stdout",
       "text": [
        "\n",
        "D:\\Data\\gpcp_extent//gpcp_1dd_v1.2_p1d.20110922.tif"
       ]
      },
      {
       "output_type": "stream",
       "stream": "stdout",
       "text": [
        "\n",
        "D:\\Data\\gpcp_extent//gpcp_1dd_v1.2_p1d.20110923.tif"
       ]
      },
      {
       "output_type": "stream",
       "stream": "stdout",
       "text": [
        "\n",
        "D:\\Data\\gpcp_extent//gpcp_1dd_v1.2_p1d.20110924.tif"
       ]
      },
      {
       "output_type": "stream",
       "stream": "stdout",
       "text": [
        "\n",
        "D:\\Data\\gpcp_extent//gpcp_1dd_v1.2_p1d.20110925.tif"
       ]
      },
      {
       "output_type": "stream",
       "stream": "stdout",
       "text": [
        "\n",
        "D:\\Data\\gpcp_extent//gpcp_1dd_v1.2_p1d.20110926.tif"
       ]
      },
      {
       "output_type": "stream",
       "stream": "stdout",
       "text": [
        "\n",
        "D:\\Data\\gpcp_extent//gpcp_1dd_v1.2_p1d.20110927.tif"
       ]
      },
      {
       "output_type": "stream",
       "stream": "stdout",
       "text": [
        "\n",
        "D:\\Data\\gpcp_extent//gpcp_1dd_v1.2_p1d.20110928.tif"
       ]
      },
      {
       "output_type": "stream",
       "stream": "stdout",
       "text": [
        "\n",
        "D:\\Data\\gpcp_extent//gpcp_1dd_v1.2_p1d.20110929.tif"
       ]
      },
      {
       "output_type": "stream",
       "stream": "stdout",
       "text": [
        "\n",
        "D:\\Data\\gpcp_extent//gpcp_1dd_v1.2_p1d.20111000.tif"
       ]
      },
      {
       "output_type": "stream",
       "stream": "stdout",
       "text": [
        "\n",
        "D:\\Data\\gpcp_extent//gpcp_1dd_v1.2_p1d.20111001.tif"
       ]
      },
      {
       "output_type": "stream",
       "stream": "stdout",
       "text": [
        "\n",
        "D:\\Data\\gpcp_extent//gpcp_1dd_v1.2_p1d.20111002.tif"
       ]
      },
      {
       "output_type": "stream",
       "stream": "stdout",
       "text": [
        "\n",
        "D:\\Data\\gpcp_extent//gpcp_1dd_v1.2_p1d.20111003.tif"
       ]
      },
      {
       "output_type": "stream",
       "stream": "stdout",
       "text": [
        "\n",
        "D:\\Data\\gpcp_extent//gpcp_1dd_v1.2_p1d.20111004.tif"
       ]
      },
      {
       "output_type": "stream",
       "stream": "stdout",
       "text": [
        "\n",
        "D:\\Data\\gpcp_extent//gpcp_1dd_v1.2_p1d.20111005.tif"
       ]
      },
      {
       "output_type": "stream",
       "stream": "stdout",
       "text": [
        "\n",
        "D:\\Data\\gpcp_extent//gpcp_1dd_v1.2_p1d.20111006.tif"
       ]
      },
      {
       "output_type": "stream",
       "stream": "stdout",
       "text": [
        "\n",
        "D:\\Data\\gpcp_extent//gpcp_1dd_v1.2_p1d.20111007.tif"
       ]
      },
      {
       "output_type": "stream",
       "stream": "stdout",
       "text": [
        "\n",
        "D:\\Data\\gpcp_extent//gpcp_1dd_v1.2_p1d.20111008.tif"
       ]
      },
      {
       "output_type": "stream",
       "stream": "stdout",
       "text": [
        "\n",
        "D:\\Data\\gpcp_extent//gpcp_1dd_v1.2_p1d.20111009.tif"
       ]
      },
      {
       "output_type": "stream",
       "stream": "stdout",
       "text": [
        "\n",
        "D:\\Data\\gpcp_extent//gpcp_1dd_v1.2_p1d.20111010.tif"
       ]
      },
      {
       "output_type": "stream",
       "stream": "stdout",
       "text": [
        "\n",
        "D:\\Data\\gpcp_extent//gpcp_1dd_v1.2_p1d.20111011.tif"
       ]
      },
      {
       "output_type": "stream",
       "stream": "stdout",
       "text": [
        "\n",
        "D:\\Data\\gpcp_extent//gpcp_1dd_v1.2_p1d.20111012.tif"
       ]
      },
      {
       "output_type": "stream",
       "stream": "stdout",
       "text": [
        "\n",
        "D:\\Data\\gpcp_extent//gpcp_1dd_v1.2_p1d.20111013.tif"
       ]
      },
      {
       "output_type": "stream",
       "stream": "stdout",
       "text": [
        "\n",
        "D:\\Data\\gpcp_extent//gpcp_1dd_v1.2_p1d.20111014.tif"
       ]
      },
      {
       "output_type": "stream",
       "stream": "stdout",
       "text": [
        "\n",
        "D:\\Data\\gpcp_extent//gpcp_1dd_v1.2_p1d.20111015.tif"
       ]
      },
      {
       "output_type": "stream",
       "stream": "stdout",
       "text": [
        "\n",
        "D:\\Data\\gpcp_extent//gpcp_1dd_v1.2_p1d.20111016.tif"
       ]
      },
      {
       "output_type": "stream",
       "stream": "stdout",
       "text": [
        "\n",
        "D:\\Data\\gpcp_extent//gpcp_1dd_v1.2_p1d.20111017.tif"
       ]
      },
      {
       "output_type": "stream",
       "stream": "stdout",
       "text": [
        "\n",
        "D:\\Data\\gpcp_extent//gpcp_1dd_v1.2_p1d.20111018.tif"
       ]
      },
      {
       "output_type": "stream",
       "stream": "stdout",
       "text": [
        "\n",
        "D:\\Data\\gpcp_extent//gpcp_1dd_v1.2_p1d.20111019.tif"
       ]
      },
      {
       "output_type": "stream",
       "stream": "stdout",
       "text": [
        "\n",
        "D:\\Data\\gpcp_extent//gpcp_1dd_v1.2_p1d.20111020.tif"
       ]
      },
      {
       "output_type": "stream",
       "stream": "stdout",
       "text": [
        "\n",
        "D:\\Data\\gpcp_extent//gpcp_1dd_v1.2_p1d.20111021.tif"
       ]
      },
      {
       "output_type": "stream",
       "stream": "stdout",
       "text": [
        "\n",
        "D:\\Data\\gpcp_extent//gpcp_1dd_v1.2_p1d.20111022.tif"
       ]
      },
      {
       "output_type": "stream",
       "stream": "stdout",
       "text": [
        "\n",
        "D:\\Data\\gpcp_extent//gpcp_1dd_v1.2_p1d.20111023.tif"
       ]
      },
      {
       "output_type": "stream",
       "stream": "stdout",
       "text": [
        "\n",
        "D:\\Data\\gpcp_extent//gpcp_1dd_v1.2_p1d.20111024.tif"
       ]
      },
      {
       "output_type": "stream",
       "stream": "stdout",
       "text": [
        "\n",
        "D:\\Data\\gpcp_extent//gpcp_1dd_v1.2_p1d.20111025.tif"
       ]
      },
      {
       "output_type": "stream",
       "stream": "stdout",
       "text": [
        "\n",
        "D:\\Data\\gpcp_extent//gpcp_1dd_v1.2_p1d.20111026.tif"
       ]
      },
      {
       "output_type": "stream",
       "stream": "stdout",
       "text": [
        "\n",
        "D:\\Data\\gpcp_extent//gpcp_1dd_v1.2_p1d.20111027.tif"
       ]
      },
      {
       "output_type": "stream",
       "stream": "stdout",
       "text": [
        "\n",
        "D:\\Data\\gpcp_extent//gpcp_1dd_v1.2_p1d.20111028.tif"
       ]
      },
      {
       "output_type": "stream",
       "stream": "stdout",
       "text": [
        "\n",
        "D:\\Data\\gpcp_extent//gpcp_1dd_v1.2_p1d.20111029.tif"
       ]
      },
      {
       "output_type": "stream",
       "stream": "stdout",
       "text": [
        "\n",
        "D:\\Data\\gpcp_extent//gpcp_1dd_v1.2_p1d.20111030.tif"
       ]
      },
      {
       "output_type": "stream",
       "stream": "stdout",
       "text": [
        "\n",
        "D:\\Data\\gpcp_extent//gpcp_1dd_v1.2_p1d.20111100.tif"
       ]
      },
      {
       "output_type": "stream",
       "stream": "stdout",
       "text": [
        "\n",
        "D:\\Data\\gpcp_extent//gpcp_1dd_v1.2_p1d.20111101.tif"
       ]
      },
      {
       "output_type": "stream",
       "stream": "stdout",
       "text": [
        "\n",
        "D:\\Data\\gpcp_extent//gpcp_1dd_v1.2_p1d.20111102.tif"
       ]
      },
      {
       "output_type": "stream",
       "stream": "stdout",
       "text": [
        "\n",
        "D:\\Data\\gpcp_extent//gpcp_1dd_v1.2_p1d.20111103.tif"
       ]
      },
      {
       "output_type": "stream",
       "stream": "stdout",
       "text": [
        "\n",
        "D:\\Data\\gpcp_extent//gpcp_1dd_v1.2_p1d.20111104.tif"
       ]
      },
      {
       "output_type": "stream",
       "stream": "stdout",
       "text": [
        "\n",
        "D:\\Data\\gpcp_extent//gpcp_1dd_v1.2_p1d.20111105.tif"
       ]
      },
      {
       "output_type": "stream",
       "stream": "stdout",
       "text": [
        "\n",
        "D:\\Data\\gpcp_extent//gpcp_1dd_v1.2_p1d.20111106.tif"
       ]
      },
      {
       "output_type": "stream",
       "stream": "stdout",
       "text": [
        "\n",
        "D:\\Data\\gpcp_extent//gpcp_1dd_v1.2_p1d.20111107.tif"
       ]
      },
      {
       "output_type": "stream",
       "stream": "stdout",
       "text": [
        "\n",
        "D:\\Data\\gpcp_extent//gpcp_1dd_v1.2_p1d.20111108.tif"
       ]
      },
      {
       "output_type": "stream",
       "stream": "stdout",
       "text": [
        "\n",
        "D:\\Data\\gpcp_extent//gpcp_1dd_v1.2_p1d.20111109.tif"
       ]
      },
      {
       "output_type": "stream",
       "stream": "stdout",
       "text": [
        "\n",
        "D:\\Data\\gpcp_extent//gpcp_1dd_v1.2_p1d.20111110.tif"
       ]
      },
      {
       "output_type": "stream",
       "stream": "stdout",
       "text": [
        "\n",
        "D:\\Data\\gpcp_extent//gpcp_1dd_v1.2_p1d.20111111.tif"
       ]
      },
      {
       "output_type": "stream",
       "stream": "stdout",
       "text": [
        "\n",
        "D:\\Data\\gpcp_extent//gpcp_1dd_v1.2_p1d.20111112.tif"
       ]
      },
      {
       "output_type": "stream",
       "stream": "stdout",
       "text": [
        "\n",
        "D:\\Data\\gpcp_extent//gpcp_1dd_v1.2_p1d.20111113.tif"
       ]
      },
      {
       "output_type": "stream",
       "stream": "stdout",
       "text": [
        "\n",
        "D:\\Data\\gpcp_extent//gpcp_1dd_v1.2_p1d.20111114.tif"
       ]
      },
      {
       "output_type": "stream",
       "stream": "stdout",
       "text": [
        "\n",
        "D:\\Data\\gpcp_extent//gpcp_1dd_v1.2_p1d.20111115.tif"
       ]
      },
      {
       "output_type": "stream",
       "stream": "stdout",
       "text": [
        "\n",
        "D:\\Data\\gpcp_extent//gpcp_1dd_v1.2_p1d.20111116.tif"
       ]
      },
      {
       "output_type": "stream",
       "stream": "stdout",
       "text": [
        "\n",
        "D:\\Data\\gpcp_extent//gpcp_1dd_v1.2_p1d.20111117.tif"
       ]
      },
      {
       "output_type": "stream",
       "stream": "stdout",
       "text": [
        "\n",
        "D:\\Data\\gpcp_extent//gpcp_1dd_v1.2_p1d.20111118.tif"
       ]
      },
      {
       "output_type": "stream",
       "stream": "stdout",
       "text": [
        "\n",
        "D:\\Data\\gpcp_extent//gpcp_1dd_v1.2_p1d.20111119.tif"
       ]
      },
      {
       "output_type": "stream",
       "stream": "stdout",
       "text": [
        "\n",
        "D:\\Data\\gpcp_extent//gpcp_1dd_v1.2_p1d.20111120.tif"
       ]
      },
      {
       "output_type": "stream",
       "stream": "stdout",
       "text": [
        "\n",
        "D:\\Data\\gpcp_extent//gpcp_1dd_v1.2_p1d.20111121.tif"
       ]
      },
      {
       "output_type": "stream",
       "stream": "stdout",
       "text": [
        "\n",
        "D:\\Data\\gpcp_extent//gpcp_1dd_v1.2_p1d.20111122.tif"
       ]
      },
      {
       "output_type": "stream",
       "stream": "stdout",
       "text": [
        "\n",
        "D:\\Data\\gpcp_extent//gpcp_1dd_v1.2_p1d.20111123.tif"
       ]
      },
      {
       "output_type": "stream",
       "stream": "stdout",
       "text": [
        "\n",
        "D:\\Data\\gpcp_extent//gpcp_1dd_v1.2_p1d.20111124.tif"
       ]
      },
      {
       "output_type": "stream",
       "stream": "stdout",
       "text": [
        "\n",
        "D:\\Data\\gpcp_extent//gpcp_1dd_v1.2_p1d.20111125.tif"
       ]
      },
      {
       "output_type": "stream",
       "stream": "stdout",
       "text": [
        "\n",
        "D:\\Data\\gpcp_extent//gpcp_1dd_v1.2_p1d.20111126.tif"
       ]
      },
      {
       "output_type": "stream",
       "stream": "stdout",
       "text": [
        "\n",
        "D:\\Data\\gpcp_extent//gpcp_1dd_v1.2_p1d.20111127.tif"
       ]
      },
      {
       "output_type": "stream",
       "stream": "stdout",
       "text": [
        "\n",
        "D:\\Data\\gpcp_extent//gpcp_1dd_v1.2_p1d.20111128.tif"
       ]
      },
      {
       "output_type": "stream",
       "stream": "stdout",
       "text": [
        "\n",
        "D:\\Data\\gpcp_extent//gpcp_1dd_v1.2_p1d.20111129.tif"
       ]
      },
      {
       "output_type": "stream",
       "stream": "stdout",
       "text": [
        "\n",
        "D:\\Data\\gpcp_extent//gpcp_1dd_v1.2_p1d.20111200.tif"
       ]
      },
      {
       "output_type": "stream",
       "stream": "stdout",
       "text": [
        "\n",
        "D:\\Data\\gpcp_extent//gpcp_1dd_v1.2_p1d.20111201.tif"
       ]
      },
      {
       "output_type": "stream",
       "stream": "stdout",
       "text": [
        "\n",
        "D:\\Data\\gpcp_extent//gpcp_1dd_v1.2_p1d.20111202.tif"
       ]
      },
      {
       "output_type": "stream",
       "stream": "stdout",
       "text": [
        "\n",
        "D:\\Data\\gpcp_extent//gpcp_1dd_v1.2_p1d.20111203.tif"
       ]
      },
      {
       "output_type": "stream",
       "stream": "stdout",
       "text": [
        "\n",
        "D:\\Data\\gpcp_extent//gpcp_1dd_v1.2_p1d.20111204.tif"
       ]
      },
      {
       "output_type": "stream",
       "stream": "stdout",
       "text": [
        "\n",
        "D:\\Data\\gpcp_extent//gpcp_1dd_v1.2_p1d.20111205.tif"
       ]
      },
      {
       "output_type": "stream",
       "stream": "stdout",
       "text": [
        "\n",
        "D:\\Data\\gpcp_extent//gpcp_1dd_v1.2_p1d.20111206.tif"
       ]
      },
      {
       "output_type": "stream",
       "stream": "stdout",
       "text": [
        "\n",
        "D:\\Data\\gpcp_extent//gpcp_1dd_v1.2_p1d.20111207.tif"
       ]
      },
      {
       "output_type": "stream",
       "stream": "stdout",
       "text": [
        "\n",
        "D:\\Data\\gpcp_extent//gpcp_1dd_v1.2_p1d.20111208.tif"
       ]
      },
      {
       "output_type": "stream",
       "stream": "stdout",
       "text": [
        "\n",
        "D:\\Data\\gpcp_extent//gpcp_1dd_v1.2_p1d.20111209.tif"
       ]
      },
      {
       "output_type": "stream",
       "stream": "stdout",
       "text": [
        "\n",
        "D:\\Data\\gpcp_extent//gpcp_1dd_v1.2_p1d.20111210.tif"
       ]
      },
      {
       "output_type": "stream",
       "stream": "stdout",
       "text": [
        "\n",
        "D:\\Data\\gpcp_extent//gpcp_1dd_v1.2_p1d.20111211.tif"
       ]
      },
      {
       "output_type": "stream",
       "stream": "stdout",
       "text": [
        "\n",
        "D:\\Data\\gpcp_extent//gpcp_1dd_v1.2_p1d.20111212.tif"
       ]
      },
      {
       "output_type": "stream",
       "stream": "stdout",
       "text": [
        "\n",
        "D:\\Data\\gpcp_extent//gpcp_1dd_v1.2_p1d.20111213.tif"
       ]
      },
      {
       "output_type": "stream",
       "stream": "stdout",
       "text": [
        "\n",
        "D:\\Data\\gpcp_extent//gpcp_1dd_v1.2_p1d.20111214.tif"
       ]
      },
      {
       "output_type": "stream",
       "stream": "stdout",
       "text": [
        "\n",
        "D:\\Data\\gpcp_extent//gpcp_1dd_v1.2_p1d.20111215.tif"
       ]
      },
      {
       "output_type": "stream",
       "stream": "stdout",
       "text": [
        "\n",
        "D:\\Data\\gpcp_extent//gpcp_1dd_v1.2_p1d.20111216.tif"
       ]
      },
      {
       "output_type": "stream",
       "stream": "stdout",
       "text": [
        "\n",
        "D:\\Data\\gpcp_extent//gpcp_1dd_v1.2_p1d.20111217.tif"
       ]
      },
      {
       "output_type": "stream",
       "stream": "stdout",
       "text": [
        "\n",
        "D:\\Data\\gpcp_extent//gpcp_1dd_v1.2_p1d.20111218.tif"
       ]
      },
      {
       "output_type": "stream",
       "stream": "stdout",
       "text": [
        "\n",
        "D:\\Data\\gpcp_extent//gpcp_1dd_v1.2_p1d.20111219.tif"
       ]
      },
      {
       "output_type": "stream",
       "stream": "stdout",
       "text": [
        "\n",
        "D:\\Data\\gpcp_extent//gpcp_1dd_v1.2_p1d.20111220.tif"
       ]
      },
      {
       "output_type": "stream",
       "stream": "stdout",
       "text": [
        "\n",
        "D:\\Data\\gpcp_extent//gpcp_1dd_v1.2_p1d.20111221.tif"
       ]
      },
      {
       "output_type": "stream",
       "stream": "stdout",
       "text": [
        "\n",
        "D:\\Data\\gpcp_extent//gpcp_1dd_v1.2_p1d.20111222.tif"
       ]
      },
      {
       "output_type": "stream",
       "stream": "stdout",
       "text": [
        "\n",
        "D:\\Data\\gpcp_extent//gpcp_1dd_v1.2_p1d.20111223.tif"
       ]
      },
      {
       "output_type": "stream",
       "stream": "stdout",
       "text": [
        "\n",
        "D:\\Data\\gpcp_extent//gpcp_1dd_v1.2_p1d.20111224.tif"
       ]
      },
      {
       "output_type": "stream",
       "stream": "stdout",
       "text": [
        "\n",
        "D:\\Data\\gpcp_extent//gpcp_1dd_v1.2_p1d.20111225.tif"
       ]
      },
      {
       "output_type": "stream",
       "stream": "stdout",
       "text": [
        "\n",
        "D:\\Data\\gpcp_extent//gpcp_1dd_v1.2_p1d.20111226.tif"
       ]
      },
      {
       "output_type": "stream",
       "stream": "stdout",
       "text": [
        "\n",
        "D:\\Data\\gpcp_extent//gpcp_1dd_v1.2_p1d.20111227.tif"
       ]
      },
      {
       "output_type": "stream",
       "stream": "stdout",
       "text": [
        "\n",
        "D:\\Data\\gpcp_extent//gpcp_1dd_v1.2_p1d.20111228.tif"
       ]
      },
      {
       "output_type": "stream",
       "stream": "stdout",
       "text": [
        "\n",
        "D:\\Data\\gpcp_extent//gpcp_1dd_v1.2_p1d.20111229.tif"
       ]
      },
      {
       "output_type": "stream",
       "stream": "stdout",
       "text": [
        "\n",
        "D:\\Data\\gpcp_extent//gpcp_1dd_v1.2_p1d.20111230.tif"
       ]
      },
      {
       "output_type": "stream",
       "stream": "stdout",
       "text": [
        "\n",
        "D:\\Data\\gpcp_extent//gpcp_1dd_v1.2_p1d.20120100.tif"
       ]
      },
      {
       "output_type": "stream",
       "stream": "stdout",
       "text": [
        "\n",
        "D:\\Data\\gpcp_extent//gpcp_1dd_v1.2_p1d.20120101.tif"
       ]
      },
      {
       "output_type": "stream",
       "stream": "stdout",
       "text": [
        "\n",
        "D:\\Data\\gpcp_extent//gpcp_1dd_v1.2_p1d.20120102.tif"
       ]
      },
      {
       "output_type": "stream",
       "stream": "stdout",
       "text": [
        "\n",
        "D:\\Data\\gpcp_extent//gpcp_1dd_v1.2_p1d.20120103.tif"
       ]
      },
      {
       "output_type": "stream",
       "stream": "stdout",
       "text": [
        "\n",
        "D:\\Data\\gpcp_extent//gpcp_1dd_v1.2_p1d.20120104.tif"
       ]
      },
      {
       "output_type": "stream",
       "stream": "stdout",
       "text": [
        "\n",
        "D:\\Data\\gpcp_extent//gpcp_1dd_v1.2_p1d.20120105.tif"
       ]
      },
      {
       "output_type": "stream",
       "stream": "stdout",
       "text": [
        "\n",
        "D:\\Data\\gpcp_extent//gpcp_1dd_v1.2_p1d.20120106.tif"
       ]
      },
      {
       "output_type": "stream",
       "stream": "stdout",
       "text": [
        "\n",
        "D:\\Data\\gpcp_extent//gpcp_1dd_v1.2_p1d.20120107.tif"
       ]
      },
      {
       "output_type": "stream",
       "stream": "stdout",
       "text": [
        "\n",
        "D:\\Data\\gpcp_extent//gpcp_1dd_v1.2_p1d.20120108.tif"
       ]
      },
      {
       "output_type": "stream",
       "stream": "stdout",
       "text": [
        "\n",
        "D:\\Data\\gpcp_extent//gpcp_1dd_v1.2_p1d.20120109.tif"
       ]
      },
      {
       "output_type": "stream",
       "stream": "stdout",
       "text": [
        "\n",
        "D:\\Data\\gpcp_extent//gpcp_1dd_v1.2_p1d.20120110.tif"
       ]
      },
      {
       "output_type": "stream",
       "stream": "stdout",
       "text": [
        "\n",
        "D:\\Data\\gpcp_extent//gpcp_1dd_v1.2_p1d.20120111.tif"
       ]
      },
      {
       "output_type": "stream",
       "stream": "stdout",
       "text": [
        "\n",
        "D:\\Data\\gpcp_extent//gpcp_1dd_v1.2_p1d.20120112.tif"
       ]
      },
      {
       "output_type": "stream",
       "stream": "stdout",
       "text": [
        "\n",
        "D:\\Data\\gpcp_extent//gpcp_1dd_v1.2_p1d.20120113.tif"
       ]
      },
      {
       "output_type": "stream",
       "stream": "stdout",
       "text": [
        "\n",
        "D:\\Data\\gpcp_extent//gpcp_1dd_v1.2_p1d.20120114.tif"
       ]
      },
      {
       "output_type": "stream",
       "stream": "stdout",
       "text": [
        "\n",
        "D:\\Data\\gpcp_extent//gpcp_1dd_v1.2_p1d.20120115.tif"
       ]
      },
      {
       "output_type": "stream",
       "stream": "stdout",
       "text": [
        "\n",
        "D:\\Data\\gpcp_extent//gpcp_1dd_v1.2_p1d.20120116.tif"
       ]
      },
      {
       "output_type": "stream",
       "stream": "stdout",
       "text": [
        "\n",
        "D:\\Data\\gpcp_extent//gpcp_1dd_v1.2_p1d.20120117.tif"
       ]
      },
      {
       "output_type": "stream",
       "stream": "stdout",
       "text": [
        "\n",
        "D:\\Data\\gpcp_extent//gpcp_1dd_v1.2_p1d.20120118.tif"
       ]
      },
      {
       "output_type": "stream",
       "stream": "stdout",
       "text": [
        "\n",
        "D:\\Data\\gpcp_extent//gpcp_1dd_v1.2_p1d.20120119.tif"
       ]
      },
      {
       "output_type": "stream",
       "stream": "stdout",
       "text": [
        "\n",
        "D:\\Data\\gpcp_extent//gpcp_1dd_v1.2_p1d.20120120.tif"
       ]
      },
      {
       "output_type": "stream",
       "stream": "stdout",
       "text": [
        "\n",
        "D:\\Data\\gpcp_extent//gpcp_1dd_v1.2_p1d.20120121.tif"
       ]
      },
      {
       "output_type": "stream",
       "stream": "stdout",
       "text": [
        "\n",
        "D:\\Data\\gpcp_extent//gpcp_1dd_v1.2_p1d.20120122.tif"
       ]
      },
      {
       "output_type": "stream",
       "stream": "stdout",
       "text": [
        "\n",
        "D:\\Data\\gpcp_extent//gpcp_1dd_v1.2_p1d.20120123.tif"
       ]
      },
      {
       "output_type": "stream",
       "stream": "stdout",
       "text": [
        "\n",
        "D:\\Data\\gpcp_extent//gpcp_1dd_v1.2_p1d.20120124.tif"
       ]
      },
      {
       "output_type": "stream",
       "stream": "stdout",
       "text": [
        "\n",
        "D:\\Data\\gpcp_extent//gpcp_1dd_v1.2_p1d.20120125.tif"
       ]
      },
      {
       "output_type": "stream",
       "stream": "stdout",
       "text": [
        "\n",
        "D:\\Data\\gpcp_extent//gpcp_1dd_v1.2_p1d.20120126.tif"
       ]
      },
      {
       "output_type": "stream",
       "stream": "stdout",
       "text": [
        "\n",
        "D:\\Data\\gpcp_extent//gpcp_1dd_v1.2_p1d.20120127.tif"
       ]
      },
      {
       "output_type": "stream",
       "stream": "stdout",
       "text": [
        "\n",
        "D:\\Data\\gpcp_extent//gpcp_1dd_v1.2_p1d.20120128.tif"
       ]
      },
      {
       "output_type": "stream",
       "stream": "stdout",
       "text": [
        "\n",
        "D:\\Data\\gpcp_extent//gpcp_1dd_v1.2_p1d.20120129.tif"
       ]
      },
      {
       "output_type": "stream",
       "stream": "stdout",
       "text": [
        "\n",
        "D:\\Data\\gpcp_extent//gpcp_1dd_v1.2_p1d.20120130.tif"
       ]
      },
      {
       "output_type": "stream",
       "stream": "stdout",
       "text": [
        "\n",
        "D:\\Data\\gpcp_extent//gpcp_1dd_v1.2_p1d.20120200.tif"
       ]
      },
      {
       "output_type": "stream",
       "stream": "stdout",
       "text": [
        "\n",
        "D:\\Data\\gpcp_extent//gpcp_1dd_v1.2_p1d.20120201.tif"
       ]
      },
      {
       "output_type": "stream",
       "stream": "stdout",
       "text": [
        "\n",
        "D:\\Data\\gpcp_extent//gpcp_1dd_v1.2_p1d.20120202.tif"
       ]
      },
      {
       "output_type": "stream",
       "stream": "stdout",
       "text": [
        "\n",
        "D:\\Data\\gpcp_extent//gpcp_1dd_v1.2_p1d.20120203.tif"
       ]
      },
      {
       "output_type": "stream",
       "stream": "stdout",
       "text": [
        "\n",
        "D:\\Data\\gpcp_extent//gpcp_1dd_v1.2_p1d.20120204.tif"
       ]
      },
      {
       "output_type": "stream",
       "stream": "stdout",
       "text": [
        "\n",
        "D:\\Data\\gpcp_extent//gpcp_1dd_v1.2_p1d.20120205.tif"
       ]
      },
      {
       "output_type": "stream",
       "stream": "stdout",
       "text": [
        "\n",
        "D:\\Data\\gpcp_extent//gpcp_1dd_v1.2_p1d.20120206.tif"
       ]
      },
      {
       "output_type": "stream",
       "stream": "stdout",
       "text": [
        "\n",
        "D:\\Data\\gpcp_extent//gpcp_1dd_v1.2_p1d.20120207.tif"
       ]
      },
      {
       "output_type": "stream",
       "stream": "stdout",
       "text": [
        "\n",
        "D:\\Data\\gpcp_extent//gpcp_1dd_v1.2_p1d.20120208.tif"
       ]
      },
      {
       "output_type": "stream",
       "stream": "stdout",
       "text": [
        "\n",
        "D:\\Data\\gpcp_extent//gpcp_1dd_v1.2_p1d.20120209.tif"
       ]
      },
      {
       "output_type": "stream",
       "stream": "stdout",
       "text": [
        "\n",
        "D:\\Data\\gpcp_extent//gpcp_1dd_v1.2_p1d.20120210.tif"
       ]
      },
      {
       "output_type": "stream",
       "stream": "stdout",
       "text": [
        "\n",
        "D:\\Data\\gpcp_extent//gpcp_1dd_v1.2_p1d.20120211.tif"
       ]
      },
      {
       "output_type": "stream",
       "stream": "stdout",
       "text": [
        "\n",
        "D:\\Data\\gpcp_extent//gpcp_1dd_v1.2_p1d.20120212.tif"
       ]
      },
      {
       "output_type": "stream",
       "stream": "stdout",
       "text": [
        "\n",
        "D:\\Data\\gpcp_extent//gpcp_1dd_v1.2_p1d.20120213.tif"
       ]
      },
      {
       "output_type": "stream",
       "stream": "stdout",
       "text": [
        "\n",
        "D:\\Data\\gpcp_extent//gpcp_1dd_v1.2_p1d.20120214.tif"
       ]
      },
      {
       "output_type": "stream",
       "stream": "stdout",
       "text": [
        "\n",
        "D:\\Data\\gpcp_extent//gpcp_1dd_v1.2_p1d.20120215.tif"
       ]
      },
      {
       "output_type": "stream",
       "stream": "stdout",
       "text": [
        "\n",
        "D:\\Data\\gpcp_extent//gpcp_1dd_v1.2_p1d.20120216.tif"
       ]
      },
      {
       "output_type": "stream",
       "stream": "stdout",
       "text": [
        "\n",
        "D:\\Data\\gpcp_extent//gpcp_1dd_v1.2_p1d.20120217.tif"
       ]
      },
      {
       "output_type": "stream",
       "stream": "stdout",
       "text": [
        "\n",
        "D:\\Data\\gpcp_extent//gpcp_1dd_v1.2_p1d.20120218.tif"
       ]
      },
      {
       "output_type": "stream",
       "stream": "stdout",
       "text": [
        "\n",
        "D:\\Data\\gpcp_extent//gpcp_1dd_v1.2_p1d.20120219.tif"
       ]
      },
      {
       "output_type": "stream",
       "stream": "stdout",
       "text": [
        "\n",
        "D:\\Data\\gpcp_extent//gpcp_1dd_v1.2_p1d.20120220.tif"
       ]
      },
      {
       "output_type": "stream",
       "stream": "stdout",
       "text": [
        "\n",
        "D:\\Data\\gpcp_extent//gpcp_1dd_v1.2_p1d.20120221.tif"
       ]
      },
      {
       "output_type": "stream",
       "stream": "stdout",
       "text": [
        "\n",
        "D:\\Data\\gpcp_extent//gpcp_1dd_v1.2_p1d.20120222.tif"
       ]
      },
      {
       "output_type": "stream",
       "stream": "stdout",
       "text": [
        "\n",
        "D:\\Data\\gpcp_extent//gpcp_1dd_v1.2_p1d.20120223.tif"
       ]
      },
      {
       "output_type": "stream",
       "stream": "stdout",
       "text": [
        "\n",
        "D:\\Data\\gpcp_extent//gpcp_1dd_v1.2_p1d.20120224.tif"
       ]
      },
      {
       "output_type": "stream",
       "stream": "stdout",
       "text": [
        "\n",
        "D:\\Data\\gpcp_extent//gpcp_1dd_v1.2_p1d.20120225.tif"
       ]
      },
      {
       "output_type": "stream",
       "stream": "stdout",
       "text": [
        "\n",
        "D:\\Data\\gpcp_extent//gpcp_1dd_v1.2_p1d.20120226.tif"
       ]
      },
      {
       "output_type": "stream",
       "stream": "stdout",
       "text": [
        "\n",
        "D:\\Data\\gpcp_extent//gpcp_1dd_v1.2_p1d.20120227.tif"
       ]
      },
      {
       "output_type": "stream",
       "stream": "stdout",
       "text": [
        "\n",
        "D:\\Data\\gpcp_extent//gpcp_1dd_v1.2_p1d.20120228.tif"
       ]
      },
      {
       "output_type": "stream",
       "stream": "stdout",
       "text": [
        "\n",
        "D:\\Data\\gpcp_extent//gpcp_1dd_v1.2_p1d.20120300.tif"
       ]
      },
      {
       "output_type": "stream",
       "stream": "stdout",
       "text": [
        "\n",
        "D:\\Data\\gpcp_extent//gpcp_1dd_v1.2_p1d.20120301.tif"
       ]
      },
      {
       "output_type": "stream",
       "stream": "stdout",
       "text": [
        "\n",
        "D:\\Data\\gpcp_extent//gpcp_1dd_v1.2_p1d.20120302.tif"
       ]
      },
      {
       "output_type": "stream",
       "stream": "stdout",
       "text": [
        "\n",
        "D:\\Data\\gpcp_extent//gpcp_1dd_v1.2_p1d.20120303.tif"
       ]
      },
      {
       "output_type": "stream",
       "stream": "stdout",
       "text": [
        "\n",
        "D:\\Data\\gpcp_extent//gpcp_1dd_v1.2_p1d.20120304.tif"
       ]
      },
      {
       "output_type": "stream",
       "stream": "stdout",
       "text": [
        "\n",
        "D:\\Data\\gpcp_extent//gpcp_1dd_v1.2_p1d.20120305.tif"
       ]
      },
      {
       "output_type": "stream",
       "stream": "stdout",
       "text": [
        "\n",
        "D:\\Data\\gpcp_extent//gpcp_1dd_v1.2_p1d.20120306.tif"
       ]
      },
      {
       "output_type": "stream",
       "stream": "stdout",
       "text": [
        "\n",
        "D:\\Data\\gpcp_extent//gpcp_1dd_v1.2_p1d.20120307.tif"
       ]
      },
      {
       "output_type": "stream",
       "stream": "stdout",
       "text": [
        "\n",
        "D:\\Data\\gpcp_extent//gpcp_1dd_v1.2_p1d.20120308.tif"
       ]
      },
      {
       "output_type": "stream",
       "stream": "stdout",
       "text": [
        "\n",
        "D:\\Data\\gpcp_extent//gpcp_1dd_v1.2_p1d.20120309.tif"
       ]
      },
      {
       "output_type": "stream",
       "stream": "stdout",
       "text": [
        "\n",
        "D:\\Data\\gpcp_extent//gpcp_1dd_v1.2_p1d.20120310.tif"
       ]
      },
      {
       "output_type": "stream",
       "stream": "stdout",
       "text": [
        "\n",
        "D:\\Data\\gpcp_extent//gpcp_1dd_v1.2_p1d.20120311.tif"
       ]
      },
      {
       "output_type": "stream",
       "stream": "stdout",
       "text": [
        "\n",
        "D:\\Data\\gpcp_extent//gpcp_1dd_v1.2_p1d.20120312.tif"
       ]
      },
      {
       "output_type": "stream",
       "stream": "stdout",
       "text": [
        "\n",
        "D:\\Data\\gpcp_extent//gpcp_1dd_v1.2_p1d.20120313.tif"
       ]
      },
      {
       "output_type": "stream",
       "stream": "stdout",
       "text": [
        "\n",
        "D:\\Data\\gpcp_extent//gpcp_1dd_v1.2_p1d.20120314.tif"
       ]
      },
      {
       "output_type": "stream",
       "stream": "stdout",
       "text": [
        "\n",
        "D:\\Data\\gpcp_extent//gpcp_1dd_v1.2_p1d.20120315.tif"
       ]
      },
      {
       "output_type": "stream",
       "stream": "stdout",
       "text": [
        "\n",
        "D:\\Data\\gpcp_extent//gpcp_1dd_v1.2_p1d.20120316.tif"
       ]
      },
      {
       "output_type": "stream",
       "stream": "stdout",
       "text": [
        "\n",
        "D:\\Data\\gpcp_extent//gpcp_1dd_v1.2_p1d.20120317.tif"
       ]
      },
      {
       "output_type": "stream",
       "stream": "stdout",
       "text": [
        "\n",
        "D:\\Data\\gpcp_extent//gpcp_1dd_v1.2_p1d.20120318.tif"
       ]
      },
      {
       "output_type": "stream",
       "stream": "stdout",
       "text": [
        "\n",
        "D:\\Data\\gpcp_extent//gpcp_1dd_v1.2_p1d.20120319.tif"
       ]
      },
      {
       "output_type": "stream",
       "stream": "stdout",
       "text": [
        "\n",
        "D:\\Data\\gpcp_extent//gpcp_1dd_v1.2_p1d.20120320.tif"
       ]
      },
      {
       "output_type": "stream",
       "stream": "stdout",
       "text": [
        "\n",
        "D:\\Data\\gpcp_extent//gpcp_1dd_v1.2_p1d.20120321.tif"
       ]
      },
      {
       "output_type": "stream",
       "stream": "stdout",
       "text": [
        "\n",
        "D:\\Data\\gpcp_extent//gpcp_1dd_v1.2_p1d.20120322.tif"
       ]
      },
      {
       "output_type": "stream",
       "stream": "stdout",
       "text": [
        "\n",
        "D:\\Data\\gpcp_extent//gpcp_1dd_v1.2_p1d.20120323.tif"
       ]
      },
      {
       "output_type": "stream",
       "stream": "stdout",
       "text": [
        "\n",
        "D:\\Data\\gpcp_extent//gpcp_1dd_v1.2_p1d.20120324.tif"
       ]
      },
      {
       "output_type": "stream",
       "stream": "stdout",
       "text": [
        "\n",
        "D:\\Data\\gpcp_extent//gpcp_1dd_v1.2_p1d.20120325.tif"
       ]
      },
      {
       "output_type": "stream",
       "stream": "stdout",
       "text": [
        "\n",
        "D:\\Data\\gpcp_extent//gpcp_1dd_v1.2_p1d.20120326.tif"
       ]
      },
      {
       "output_type": "stream",
       "stream": "stdout",
       "text": [
        "\n",
        "D:\\Data\\gpcp_extent//gpcp_1dd_v1.2_p1d.20120327.tif"
       ]
      },
      {
       "output_type": "stream",
       "stream": "stdout",
       "text": [
        "\n",
        "D:\\Data\\gpcp_extent//gpcp_1dd_v1.2_p1d.20120328.tif"
       ]
      },
      {
       "output_type": "stream",
       "stream": "stdout",
       "text": [
        "\n",
        "D:\\Data\\gpcp_extent//gpcp_1dd_v1.2_p1d.20120329.tif"
       ]
      },
      {
       "output_type": "stream",
       "stream": "stdout",
       "text": [
        "\n",
        "D:\\Data\\gpcp_extent//gpcp_1dd_v1.2_p1d.20120330.tif"
       ]
      },
      {
       "output_type": "stream",
       "stream": "stdout",
       "text": [
        "\n",
        "D:\\Data\\gpcp_extent//gpcp_1dd_v1.2_p1d.20120400.tif"
       ]
      },
      {
       "output_type": "stream",
       "stream": "stdout",
       "text": [
        "\n",
        "D:\\Data\\gpcp_extent//gpcp_1dd_v1.2_p1d.20120401.tif"
       ]
      },
      {
       "output_type": "stream",
       "stream": "stdout",
       "text": [
        "\n",
        "D:\\Data\\gpcp_extent//gpcp_1dd_v1.2_p1d.20120402.tif"
       ]
      },
      {
       "output_type": "stream",
       "stream": "stdout",
       "text": [
        "\n",
        "D:\\Data\\gpcp_extent//gpcp_1dd_v1.2_p1d.20120403.tif"
       ]
      },
      {
       "output_type": "stream",
       "stream": "stdout",
       "text": [
        "\n",
        "D:\\Data\\gpcp_extent//gpcp_1dd_v1.2_p1d.20120404.tif"
       ]
      },
      {
       "output_type": "stream",
       "stream": "stdout",
       "text": [
        "\n",
        "D:\\Data\\gpcp_extent//gpcp_1dd_v1.2_p1d.20120405.tif"
       ]
      },
      {
       "output_type": "stream",
       "stream": "stdout",
       "text": [
        "\n",
        "D:\\Data\\gpcp_extent//gpcp_1dd_v1.2_p1d.20120406.tif"
       ]
      },
      {
       "output_type": "stream",
       "stream": "stdout",
       "text": [
        "\n",
        "D:\\Data\\gpcp_extent//gpcp_1dd_v1.2_p1d.20120407.tif"
       ]
      },
      {
       "output_type": "stream",
       "stream": "stdout",
       "text": [
        "\n",
        "D:\\Data\\gpcp_extent//gpcp_1dd_v1.2_p1d.20120408.tif"
       ]
      },
      {
       "output_type": "stream",
       "stream": "stdout",
       "text": [
        "\n",
        "D:\\Data\\gpcp_extent//gpcp_1dd_v1.2_p1d.20120409.tif"
       ]
      },
      {
       "output_type": "stream",
       "stream": "stdout",
       "text": [
        "\n",
        "D:\\Data\\gpcp_extent//gpcp_1dd_v1.2_p1d.20120410.tif"
       ]
      },
      {
       "output_type": "stream",
       "stream": "stdout",
       "text": [
        "\n",
        "D:\\Data\\gpcp_extent//gpcp_1dd_v1.2_p1d.20120411.tif"
       ]
      },
      {
       "output_type": "stream",
       "stream": "stdout",
       "text": [
        "\n",
        "D:\\Data\\gpcp_extent//gpcp_1dd_v1.2_p1d.20120412.tif"
       ]
      },
      {
       "output_type": "stream",
       "stream": "stdout",
       "text": [
        "\n",
        "D:\\Data\\gpcp_extent//gpcp_1dd_v1.2_p1d.20120413.tif"
       ]
      },
      {
       "output_type": "stream",
       "stream": "stdout",
       "text": [
        "\n",
        "D:\\Data\\gpcp_extent//gpcp_1dd_v1.2_p1d.20120414.tif"
       ]
      },
      {
       "output_type": "stream",
       "stream": "stdout",
       "text": [
        "\n",
        "D:\\Data\\gpcp_extent//gpcp_1dd_v1.2_p1d.20120415.tif"
       ]
      },
      {
       "output_type": "stream",
       "stream": "stdout",
       "text": [
        "\n",
        "D:\\Data\\gpcp_extent//gpcp_1dd_v1.2_p1d.20120416.tif"
       ]
      },
      {
       "output_type": "stream",
       "stream": "stdout",
       "text": [
        "\n",
        "D:\\Data\\gpcp_extent//gpcp_1dd_v1.2_p1d.20120417.tif"
       ]
      },
      {
       "output_type": "stream",
       "stream": "stdout",
       "text": [
        "\n",
        "D:\\Data\\gpcp_extent//gpcp_1dd_v1.2_p1d.20120418.tif"
       ]
      },
      {
       "output_type": "stream",
       "stream": "stdout",
       "text": [
        "\n",
        "D:\\Data\\gpcp_extent//gpcp_1dd_v1.2_p1d.20120419.tif"
       ]
      },
      {
       "output_type": "stream",
       "stream": "stdout",
       "text": [
        "\n",
        "D:\\Data\\gpcp_extent//gpcp_1dd_v1.2_p1d.20120420.tif"
       ]
      },
      {
       "output_type": "stream",
       "stream": "stdout",
       "text": [
        "\n",
        "D:\\Data\\gpcp_extent//gpcp_1dd_v1.2_p1d.20120421.tif"
       ]
      },
      {
       "output_type": "stream",
       "stream": "stdout",
       "text": [
        "\n",
        "D:\\Data\\gpcp_extent//gpcp_1dd_v1.2_p1d.20120422.tif"
       ]
      },
      {
       "output_type": "stream",
       "stream": "stdout",
       "text": [
        "\n",
        "D:\\Data\\gpcp_extent//gpcp_1dd_v1.2_p1d.20120423.tif"
       ]
      },
      {
       "output_type": "stream",
       "stream": "stdout",
       "text": [
        "\n",
        "D:\\Data\\gpcp_extent//gpcp_1dd_v1.2_p1d.20120424.tif"
       ]
      },
      {
       "output_type": "stream",
       "stream": "stdout",
       "text": [
        "\n",
        "D:\\Data\\gpcp_extent//gpcp_1dd_v1.2_p1d.20120425.tif"
       ]
      },
      {
       "output_type": "stream",
       "stream": "stdout",
       "text": [
        "\n",
        "D:\\Data\\gpcp_extent//gpcp_1dd_v1.2_p1d.20120426.tif"
       ]
      },
      {
       "output_type": "stream",
       "stream": "stdout",
       "text": [
        "\n",
        "D:\\Data\\gpcp_extent//gpcp_1dd_v1.2_p1d.20120427.tif"
       ]
      },
      {
       "output_type": "stream",
       "stream": "stdout",
       "text": [
        "\n",
        "D:\\Data\\gpcp_extent//gpcp_1dd_v1.2_p1d.20120428.tif"
       ]
      },
      {
       "output_type": "stream",
       "stream": "stdout",
       "text": [
        "\n",
        "D:\\Data\\gpcp_extent//gpcp_1dd_v1.2_p1d.20120429.tif"
       ]
      },
      {
       "output_type": "stream",
       "stream": "stdout",
       "text": [
        "\n",
        "D:\\Data\\gpcp_extent//gpcp_1dd_v1.2_p1d.20120500.tif"
       ]
      },
      {
       "output_type": "stream",
       "stream": "stdout",
       "text": [
        "\n",
        "D:\\Data\\gpcp_extent//gpcp_1dd_v1.2_p1d.20120501.tif"
       ]
      },
      {
       "output_type": "stream",
       "stream": "stdout",
       "text": [
        "\n",
        "D:\\Data\\gpcp_extent//gpcp_1dd_v1.2_p1d.20120502.tif"
       ]
      },
      {
       "output_type": "stream",
       "stream": "stdout",
       "text": [
        "\n",
        "D:\\Data\\gpcp_extent//gpcp_1dd_v1.2_p1d.20120503.tif"
       ]
      },
      {
       "output_type": "stream",
       "stream": "stdout",
       "text": [
        "\n",
        "D:\\Data\\gpcp_extent//gpcp_1dd_v1.2_p1d.20120504.tif"
       ]
      },
      {
       "output_type": "stream",
       "stream": "stdout",
       "text": [
        "\n",
        "D:\\Data\\gpcp_extent//gpcp_1dd_v1.2_p1d.20120505.tif"
       ]
      },
      {
       "output_type": "stream",
       "stream": "stdout",
       "text": [
        "\n",
        "D:\\Data\\gpcp_extent//gpcp_1dd_v1.2_p1d.20120506.tif"
       ]
      },
      {
       "output_type": "stream",
       "stream": "stdout",
       "text": [
        "\n",
        "D:\\Data\\gpcp_extent//gpcp_1dd_v1.2_p1d.20120507.tif"
       ]
      },
      {
       "output_type": "stream",
       "stream": "stdout",
       "text": [
        "\n",
        "D:\\Data\\gpcp_extent//gpcp_1dd_v1.2_p1d.20120508.tif"
       ]
      },
      {
       "output_type": "stream",
       "stream": "stdout",
       "text": [
        "\n",
        "D:\\Data\\gpcp_extent//gpcp_1dd_v1.2_p1d.20120509.tif"
       ]
      },
      {
       "output_type": "stream",
       "stream": "stdout",
       "text": [
        "\n",
        "D:\\Data\\gpcp_extent//gpcp_1dd_v1.2_p1d.20120510.tif"
       ]
      },
      {
       "output_type": "stream",
       "stream": "stdout",
       "text": [
        "\n",
        "D:\\Data\\gpcp_extent//gpcp_1dd_v1.2_p1d.20120511.tif"
       ]
      },
      {
       "output_type": "stream",
       "stream": "stdout",
       "text": [
        "\n",
        "D:\\Data\\gpcp_extent//gpcp_1dd_v1.2_p1d.20120512.tif"
       ]
      },
      {
       "output_type": "stream",
       "stream": "stdout",
       "text": [
        "\n",
        "D:\\Data\\gpcp_extent//gpcp_1dd_v1.2_p1d.20120513.tif"
       ]
      },
      {
       "output_type": "stream",
       "stream": "stdout",
       "text": [
        "\n",
        "D:\\Data\\gpcp_extent//gpcp_1dd_v1.2_p1d.20120514.tif"
       ]
      },
      {
       "output_type": "stream",
       "stream": "stdout",
       "text": [
        "\n",
        "D:\\Data\\gpcp_extent//gpcp_1dd_v1.2_p1d.20120515.tif"
       ]
      },
      {
       "output_type": "stream",
       "stream": "stdout",
       "text": [
        "\n",
        "D:\\Data\\gpcp_extent//gpcp_1dd_v1.2_p1d.20120516.tif"
       ]
      },
      {
       "output_type": "stream",
       "stream": "stdout",
       "text": [
        "\n",
        "D:\\Data\\gpcp_extent//gpcp_1dd_v1.2_p1d.20120517.tif"
       ]
      },
      {
       "output_type": "stream",
       "stream": "stdout",
       "text": [
        "\n",
        "D:\\Data\\gpcp_extent//gpcp_1dd_v1.2_p1d.20120518.tif"
       ]
      },
      {
       "output_type": "stream",
       "stream": "stdout",
       "text": [
        "\n",
        "D:\\Data\\gpcp_extent//gpcp_1dd_v1.2_p1d.20120519.tif"
       ]
      },
      {
       "output_type": "stream",
       "stream": "stdout",
       "text": [
        "\n",
        "D:\\Data\\gpcp_extent//gpcp_1dd_v1.2_p1d.20120520.tif"
       ]
      },
      {
       "output_type": "stream",
       "stream": "stdout",
       "text": [
        "\n",
        "D:\\Data\\gpcp_extent//gpcp_1dd_v1.2_p1d.20120521.tif"
       ]
      },
      {
       "output_type": "stream",
       "stream": "stdout",
       "text": [
        "\n",
        "D:\\Data\\gpcp_extent//gpcp_1dd_v1.2_p1d.20120522.tif"
       ]
      },
      {
       "output_type": "stream",
       "stream": "stdout",
       "text": [
        "\n",
        "D:\\Data\\gpcp_extent//gpcp_1dd_v1.2_p1d.20120523.tif"
       ]
      },
      {
       "output_type": "stream",
       "stream": "stdout",
       "text": [
        "\n",
        "D:\\Data\\gpcp_extent//gpcp_1dd_v1.2_p1d.20120524.tif"
       ]
      },
      {
       "output_type": "stream",
       "stream": "stdout",
       "text": [
        "\n",
        "D:\\Data\\gpcp_extent//gpcp_1dd_v1.2_p1d.20120525.tif"
       ]
      },
      {
       "output_type": "stream",
       "stream": "stdout",
       "text": [
        "\n",
        "D:\\Data\\gpcp_extent//gpcp_1dd_v1.2_p1d.20120526.tif"
       ]
      },
      {
       "output_type": "stream",
       "stream": "stdout",
       "text": [
        "\n",
        "D:\\Data\\gpcp_extent//gpcp_1dd_v1.2_p1d.20120527.tif"
       ]
      },
      {
       "output_type": "stream",
       "stream": "stdout",
       "text": [
        "\n",
        "D:\\Data\\gpcp_extent//gpcp_1dd_v1.2_p1d.20120528.tif"
       ]
      },
      {
       "output_type": "stream",
       "stream": "stdout",
       "text": [
        "\n",
        "D:\\Data\\gpcp_extent//gpcp_1dd_v1.2_p1d.20120529.tif"
       ]
      },
      {
       "output_type": "stream",
       "stream": "stdout",
       "text": [
        "\n",
        "D:\\Data\\gpcp_extent//gpcp_1dd_v1.2_p1d.20120530.tif"
       ]
      },
      {
       "output_type": "stream",
       "stream": "stdout",
       "text": [
        "\n",
        "D:\\Data\\gpcp_extent//gpcp_1dd_v1.2_p1d.20120600.tif"
       ]
      },
      {
       "output_type": "stream",
       "stream": "stdout",
       "text": [
        "\n",
        "D:\\Data\\gpcp_extent//gpcp_1dd_v1.2_p1d.20120601.tif"
       ]
      },
      {
       "output_type": "stream",
       "stream": "stdout",
       "text": [
        "\n",
        "D:\\Data\\gpcp_extent//gpcp_1dd_v1.2_p1d.20120602.tif"
       ]
      },
      {
       "output_type": "stream",
       "stream": "stdout",
       "text": [
        "\n",
        "D:\\Data\\gpcp_extent//gpcp_1dd_v1.2_p1d.20120603.tif"
       ]
      },
      {
       "output_type": "stream",
       "stream": "stdout",
       "text": [
        "\n",
        "D:\\Data\\gpcp_extent//gpcp_1dd_v1.2_p1d.20120604.tif"
       ]
      },
      {
       "output_type": "stream",
       "stream": "stdout",
       "text": [
        "\n",
        "D:\\Data\\gpcp_extent//gpcp_1dd_v1.2_p1d.20120605.tif"
       ]
      },
      {
       "output_type": "stream",
       "stream": "stdout",
       "text": [
        "\n",
        "D:\\Data\\gpcp_extent//gpcp_1dd_v1.2_p1d.20120606.tif"
       ]
      },
      {
       "output_type": "stream",
       "stream": "stdout",
       "text": [
        "\n",
        "D:\\Data\\gpcp_extent//gpcp_1dd_v1.2_p1d.20120607.tif"
       ]
      },
      {
       "output_type": "stream",
       "stream": "stdout",
       "text": [
        "\n",
        "D:\\Data\\gpcp_extent//gpcp_1dd_v1.2_p1d.20120608.tif"
       ]
      },
      {
       "output_type": "stream",
       "stream": "stdout",
       "text": [
        "\n",
        "D:\\Data\\gpcp_extent//gpcp_1dd_v1.2_p1d.20120609.tif"
       ]
      },
      {
       "output_type": "stream",
       "stream": "stdout",
       "text": [
        "\n",
        "D:\\Data\\gpcp_extent//gpcp_1dd_v1.2_p1d.20120610.tif"
       ]
      },
      {
       "output_type": "stream",
       "stream": "stdout",
       "text": [
        "\n",
        "D:\\Data\\gpcp_extent//gpcp_1dd_v1.2_p1d.20120611.tif"
       ]
      },
      {
       "output_type": "stream",
       "stream": "stdout",
       "text": [
        "\n",
        "D:\\Data\\gpcp_extent//gpcp_1dd_v1.2_p1d.20120612.tif"
       ]
      },
      {
       "output_type": "stream",
       "stream": "stdout",
       "text": [
        "\n",
        "D:\\Data\\gpcp_extent//gpcp_1dd_v1.2_p1d.20120613.tif"
       ]
      },
      {
       "output_type": "stream",
       "stream": "stdout",
       "text": [
        "\n",
        "D:\\Data\\gpcp_extent//gpcp_1dd_v1.2_p1d.20120614.tif"
       ]
      },
      {
       "output_type": "stream",
       "stream": "stdout",
       "text": [
        "\n",
        "D:\\Data\\gpcp_extent//gpcp_1dd_v1.2_p1d.20120615.tif"
       ]
      },
      {
       "output_type": "stream",
       "stream": "stdout",
       "text": [
        "\n",
        "D:\\Data\\gpcp_extent//gpcp_1dd_v1.2_p1d.20120616.tif"
       ]
      },
      {
       "output_type": "stream",
       "stream": "stdout",
       "text": [
        "\n",
        "D:\\Data\\gpcp_extent//gpcp_1dd_v1.2_p1d.20120617.tif"
       ]
      },
      {
       "output_type": "stream",
       "stream": "stdout",
       "text": [
        "\n",
        "D:\\Data\\gpcp_extent//gpcp_1dd_v1.2_p1d.20120618.tif"
       ]
      },
      {
       "output_type": "stream",
       "stream": "stdout",
       "text": [
        "\n",
        "D:\\Data\\gpcp_extent//gpcp_1dd_v1.2_p1d.20120619.tif"
       ]
      },
      {
       "output_type": "stream",
       "stream": "stdout",
       "text": [
        "\n",
        "D:\\Data\\gpcp_extent//gpcp_1dd_v1.2_p1d.20120620.tif"
       ]
      },
      {
       "output_type": "stream",
       "stream": "stdout",
       "text": [
        "\n",
        "D:\\Data\\gpcp_extent//gpcp_1dd_v1.2_p1d.20120621.tif"
       ]
      },
      {
       "output_type": "stream",
       "stream": "stdout",
       "text": [
        "\n",
        "D:\\Data\\gpcp_extent//gpcp_1dd_v1.2_p1d.20120622.tif"
       ]
      },
      {
       "output_type": "stream",
       "stream": "stdout",
       "text": [
        "\n",
        "D:\\Data\\gpcp_extent//gpcp_1dd_v1.2_p1d.20120623.tif"
       ]
      },
      {
       "output_type": "stream",
       "stream": "stdout",
       "text": [
        "\n",
        "D:\\Data\\gpcp_extent//gpcp_1dd_v1.2_p1d.20120624.tif"
       ]
      },
      {
       "output_type": "stream",
       "stream": "stdout",
       "text": [
        "\n",
        "D:\\Data\\gpcp_extent//gpcp_1dd_v1.2_p1d.20120625.tif"
       ]
      },
      {
       "output_type": "stream",
       "stream": "stdout",
       "text": [
        "\n",
        "D:\\Data\\gpcp_extent//gpcp_1dd_v1.2_p1d.20120626.tif"
       ]
      },
      {
       "output_type": "stream",
       "stream": "stdout",
       "text": [
        "\n",
        "D:\\Data\\gpcp_extent//gpcp_1dd_v1.2_p1d.20120627.tif"
       ]
      },
      {
       "output_type": "stream",
       "stream": "stdout",
       "text": [
        "\n",
        "D:\\Data\\gpcp_extent//gpcp_1dd_v1.2_p1d.20120628.tif"
       ]
      },
      {
       "output_type": "stream",
       "stream": "stdout",
       "text": [
        "\n",
        "D:\\Data\\gpcp_extent//gpcp_1dd_v1.2_p1d.20120629.tif"
       ]
      },
      {
       "output_type": "stream",
       "stream": "stdout",
       "text": [
        "\n",
        "D:\\Data\\gpcp_extent//gpcp_1dd_v1.2_p1d.20120700.tif"
       ]
      },
      {
       "output_type": "stream",
       "stream": "stdout",
       "text": [
        "\n",
        "D:\\Data\\gpcp_extent//gpcp_1dd_v1.2_p1d.20120701.tif"
       ]
      },
      {
       "output_type": "stream",
       "stream": "stdout",
       "text": [
        "\n",
        "D:\\Data\\gpcp_extent//gpcp_1dd_v1.2_p1d.20120702.tif"
       ]
      },
      {
       "output_type": "stream",
       "stream": "stdout",
       "text": [
        "\n",
        "D:\\Data\\gpcp_extent//gpcp_1dd_v1.2_p1d.20120703.tif"
       ]
      },
      {
       "output_type": "stream",
       "stream": "stdout",
       "text": [
        "\n",
        "D:\\Data\\gpcp_extent//gpcp_1dd_v1.2_p1d.20120704.tif"
       ]
      },
      {
       "output_type": "stream",
       "stream": "stdout",
       "text": [
        "\n",
        "D:\\Data\\gpcp_extent//gpcp_1dd_v1.2_p1d.20120705.tif"
       ]
      },
      {
       "output_type": "stream",
       "stream": "stdout",
       "text": [
        "\n",
        "D:\\Data\\gpcp_extent//gpcp_1dd_v1.2_p1d.20120706.tif"
       ]
      },
      {
       "output_type": "stream",
       "stream": "stdout",
       "text": [
        "\n",
        "D:\\Data\\gpcp_extent//gpcp_1dd_v1.2_p1d.20120707.tif"
       ]
      },
      {
       "output_type": "stream",
       "stream": "stdout",
       "text": [
        "\n",
        "D:\\Data\\gpcp_extent//gpcp_1dd_v1.2_p1d.20120708.tif"
       ]
      },
      {
       "output_type": "stream",
       "stream": "stdout",
       "text": [
        "\n",
        "D:\\Data\\gpcp_extent//gpcp_1dd_v1.2_p1d.20120709.tif"
       ]
      },
      {
       "output_type": "stream",
       "stream": "stdout",
       "text": [
        "\n",
        "D:\\Data\\gpcp_extent//gpcp_1dd_v1.2_p1d.20120710.tif"
       ]
      },
      {
       "output_type": "stream",
       "stream": "stdout",
       "text": [
        "\n",
        "D:\\Data\\gpcp_extent//gpcp_1dd_v1.2_p1d.20120711.tif"
       ]
      },
      {
       "output_type": "stream",
       "stream": "stdout",
       "text": [
        "\n",
        "D:\\Data\\gpcp_extent//gpcp_1dd_v1.2_p1d.20120712.tif"
       ]
      },
      {
       "output_type": "stream",
       "stream": "stdout",
       "text": [
        "\n",
        "D:\\Data\\gpcp_extent//gpcp_1dd_v1.2_p1d.20120713.tif"
       ]
      },
      {
       "output_type": "stream",
       "stream": "stdout",
       "text": [
        "\n",
        "D:\\Data\\gpcp_extent//gpcp_1dd_v1.2_p1d.20120714.tif"
       ]
      },
      {
       "output_type": "stream",
       "stream": "stdout",
       "text": [
        "\n",
        "D:\\Data\\gpcp_extent//gpcp_1dd_v1.2_p1d.20120715.tif"
       ]
      },
      {
       "output_type": "stream",
       "stream": "stdout",
       "text": [
        "\n",
        "D:\\Data\\gpcp_extent//gpcp_1dd_v1.2_p1d.20120716.tif"
       ]
      },
      {
       "output_type": "stream",
       "stream": "stdout",
       "text": [
        "\n",
        "D:\\Data\\gpcp_extent//gpcp_1dd_v1.2_p1d.20120717.tif"
       ]
      },
      {
       "output_type": "stream",
       "stream": "stdout",
       "text": [
        "\n",
        "D:\\Data\\gpcp_extent//gpcp_1dd_v1.2_p1d.20120718.tif"
       ]
      },
      {
       "output_type": "stream",
       "stream": "stdout",
       "text": [
        "\n",
        "D:\\Data\\gpcp_extent//gpcp_1dd_v1.2_p1d.20120719.tif"
       ]
      },
      {
       "output_type": "stream",
       "stream": "stdout",
       "text": [
        "\n",
        "D:\\Data\\gpcp_extent//gpcp_1dd_v1.2_p1d.20120720.tif"
       ]
      },
      {
       "output_type": "stream",
       "stream": "stdout",
       "text": [
        "\n",
        "D:\\Data\\gpcp_extent//gpcp_1dd_v1.2_p1d.20120721.tif"
       ]
      },
      {
       "output_type": "stream",
       "stream": "stdout",
       "text": [
        "\n",
        "D:\\Data\\gpcp_extent//gpcp_1dd_v1.2_p1d.20120722.tif"
       ]
      },
      {
       "output_type": "stream",
       "stream": "stdout",
       "text": [
        "\n",
        "D:\\Data\\gpcp_extent//gpcp_1dd_v1.2_p1d.20120723.tif"
       ]
      },
      {
       "output_type": "stream",
       "stream": "stdout",
       "text": [
        "\n",
        "D:\\Data\\gpcp_extent//gpcp_1dd_v1.2_p1d.20120724.tif"
       ]
      },
      {
       "output_type": "stream",
       "stream": "stdout",
       "text": [
        "\n",
        "D:\\Data\\gpcp_extent//gpcp_1dd_v1.2_p1d.20120725.tif"
       ]
      },
      {
       "output_type": "stream",
       "stream": "stdout",
       "text": [
        "\n",
        "D:\\Data\\gpcp_extent//gpcp_1dd_v1.2_p1d.20120726.tif"
       ]
      },
      {
       "output_type": "stream",
       "stream": "stdout",
       "text": [
        "\n",
        "D:\\Data\\gpcp_extent//gpcp_1dd_v1.2_p1d.20120727.tif"
       ]
      },
      {
       "output_type": "stream",
       "stream": "stdout",
       "text": [
        "\n",
        "D:\\Data\\gpcp_extent//gpcp_1dd_v1.2_p1d.20120728.tif"
       ]
      },
      {
       "output_type": "stream",
       "stream": "stdout",
       "text": [
        "\n",
        "D:\\Data\\gpcp_extent//gpcp_1dd_v1.2_p1d.20120729.tif"
       ]
      },
      {
       "output_type": "stream",
       "stream": "stdout",
       "text": [
        "\n",
        "D:\\Data\\gpcp_extent//gpcp_1dd_v1.2_p1d.20120730.tif"
       ]
      },
      {
       "output_type": "stream",
       "stream": "stdout",
       "text": [
        "\n",
        "D:\\Data\\gpcp_extent//gpcp_1dd_v1.2_p1d.20120800.tif"
       ]
      },
      {
       "output_type": "stream",
       "stream": "stdout",
       "text": [
        "\n",
        "D:\\Data\\gpcp_extent//gpcp_1dd_v1.2_p1d.20120801.tif"
       ]
      },
      {
       "output_type": "stream",
       "stream": "stdout",
       "text": [
        "\n",
        "D:\\Data\\gpcp_extent//gpcp_1dd_v1.2_p1d.20120802.tif"
       ]
      },
      {
       "output_type": "stream",
       "stream": "stdout",
       "text": [
        "\n",
        "D:\\Data\\gpcp_extent//gpcp_1dd_v1.2_p1d.20120803.tif"
       ]
      },
      {
       "output_type": "stream",
       "stream": "stdout",
       "text": [
        "\n",
        "D:\\Data\\gpcp_extent//gpcp_1dd_v1.2_p1d.20120804.tif"
       ]
      },
      {
       "output_type": "stream",
       "stream": "stdout",
       "text": [
        "\n",
        "D:\\Data\\gpcp_extent//gpcp_1dd_v1.2_p1d.20120805.tif"
       ]
      },
      {
       "output_type": "stream",
       "stream": "stdout",
       "text": [
        "\n",
        "D:\\Data\\gpcp_extent//gpcp_1dd_v1.2_p1d.20120806.tif"
       ]
      },
      {
       "output_type": "stream",
       "stream": "stdout",
       "text": [
        "\n",
        "D:\\Data\\gpcp_extent//gpcp_1dd_v1.2_p1d.20120807.tif"
       ]
      },
      {
       "output_type": "stream",
       "stream": "stdout",
       "text": [
        "\n",
        "D:\\Data\\gpcp_extent//gpcp_1dd_v1.2_p1d.20120808.tif"
       ]
      },
      {
       "output_type": "stream",
       "stream": "stdout",
       "text": [
        "\n",
        "D:\\Data\\gpcp_extent//gpcp_1dd_v1.2_p1d.20120809.tif"
       ]
      },
      {
       "output_type": "stream",
       "stream": "stdout",
       "text": [
        "\n",
        "D:\\Data\\gpcp_extent//gpcp_1dd_v1.2_p1d.20120810.tif"
       ]
      },
      {
       "output_type": "stream",
       "stream": "stdout",
       "text": [
        "\n",
        "D:\\Data\\gpcp_extent//gpcp_1dd_v1.2_p1d.20120811.tif"
       ]
      },
      {
       "output_type": "stream",
       "stream": "stdout",
       "text": [
        "\n",
        "D:\\Data\\gpcp_extent//gpcp_1dd_v1.2_p1d.20120812.tif"
       ]
      },
      {
       "output_type": "stream",
       "stream": "stdout",
       "text": [
        "\n",
        "D:\\Data\\gpcp_extent//gpcp_1dd_v1.2_p1d.20120813.tif"
       ]
      },
      {
       "output_type": "stream",
       "stream": "stdout",
       "text": [
        "\n",
        "D:\\Data\\gpcp_extent//gpcp_1dd_v1.2_p1d.20120814.tif"
       ]
      },
      {
       "output_type": "stream",
       "stream": "stdout",
       "text": [
        "\n",
        "D:\\Data\\gpcp_extent//gpcp_1dd_v1.2_p1d.20120815.tif"
       ]
      },
      {
       "output_type": "stream",
       "stream": "stdout",
       "text": [
        "\n",
        "D:\\Data\\gpcp_extent//gpcp_1dd_v1.2_p1d.20120816.tif"
       ]
      },
      {
       "output_type": "stream",
       "stream": "stdout",
       "text": [
        "\n",
        "D:\\Data\\gpcp_extent//gpcp_1dd_v1.2_p1d.20120817.tif"
       ]
      },
      {
       "output_type": "stream",
       "stream": "stdout",
       "text": [
        "\n",
        "D:\\Data\\gpcp_extent//gpcp_1dd_v1.2_p1d.20120818.tif"
       ]
      },
      {
       "output_type": "stream",
       "stream": "stdout",
       "text": [
        "\n",
        "D:\\Data\\gpcp_extent//gpcp_1dd_v1.2_p1d.20120819.tif"
       ]
      },
      {
       "output_type": "stream",
       "stream": "stdout",
       "text": [
        "\n",
        "D:\\Data\\gpcp_extent//gpcp_1dd_v1.2_p1d.20120820.tif"
       ]
      },
      {
       "output_type": "stream",
       "stream": "stdout",
       "text": [
        "\n",
        "D:\\Data\\gpcp_extent//gpcp_1dd_v1.2_p1d.20120821.tif"
       ]
      },
      {
       "output_type": "stream",
       "stream": "stdout",
       "text": [
        "\n",
        "D:\\Data\\gpcp_extent//gpcp_1dd_v1.2_p1d.20120822.tif"
       ]
      },
      {
       "output_type": "stream",
       "stream": "stdout",
       "text": [
        "\n",
        "D:\\Data\\gpcp_extent//gpcp_1dd_v1.2_p1d.20120823.tif"
       ]
      },
      {
       "output_type": "stream",
       "stream": "stdout",
       "text": [
        "\n",
        "D:\\Data\\gpcp_extent//gpcp_1dd_v1.2_p1d.20120824.tif"
       ]
      },
      {
       "output_type": "stream",
       "stream": "stdout",
       "text": [
        "\n",
        "D:\\Data\\gpcp_extent//gpcp_1dd_v1.2_p1d.20120825.tif"
       ]
      },
      {
       "output_type": "stream",
       "stream": "stdout",
       "text": [
        "\n",
        "D:\\Data\\gpcp_extent//gpcp_1dd_v1.2_p1d.20120826.tif"
       ]
      },
      {
       "output_type": "stream",
       "stream": "stdout",
       "text": [
        "\n",
        "D:\\Data\\gpcp_extent//gpcp_1dd_v1.2_p1d.20120827.tif"
       ]
      },
      {
       "output_type": "stream",
       "stream": "stdout",
       "text": [
        "\n",
        "D:\\Data\\gpcp_extent//gpcp_1dd_v1.2_p1d.20120828.tif"
       ]
      },
      {
       "output_type": "stream",
       "stream": "stdout",
       "text": [
        "\n",
        "D:\\Data\\gpcp_extent//gpcp_1dd_v1.2_p1d.20120829.tif"
       ]
      },
      {
       "output_type": "stream",
       "stream": "stdout",
       "text": [
        "\n",
        "D:\\Data\\gpcp_extent//gpcp_1dd_v1.2_p1d.20120830.tif"
       ]
      },
      {
       "output_type": "stream",
       "stream": "stdout",
       "text": [
        "\n",
        "D:\\Data\\gpcp_extent//gpcp_1dd_v1.2_p1d.20120900.tif"
       ]
      },
      {
       "output_type": "stream",
       "stream": "stdout",
       "text": [
        "\n",
        "D:\\Data\\gpcp_extent//gpcp_1dd_v1.2_p1d.20120901.tif"
       ]
      },
      {
       "output_type": "stream",
       "stream": "stdout",
       "text": [
        "\n",
        "D:\\Data\\gpcp_extent//gpcp_1dd_v1.2_p1d.20120902.tif"
       ]
      },
      {
       "output_type": "stream",
       "stream": "stdout",
       "text": [
        "\n",
        "D:\\Data\\gpcp_extent//gpcp_1dd_v1.2_p1d.20120903.tif"
       ]
      },
      {
       "output_type": "stream",
       "stream": "stdout",
       "text": [
        "\n",
        "D:\\Data\\gpcp_extent//gpcp_1dd_v1.2_p1d.20120904.tif"
       ]
      },
      {
       "output_type": "stream",
       "stream": "stdout",
       "text": [
        "\n",
        "D:\\Data\\gpcp_extent//gpcp_1dd_v1.2_p1d.20120905.tif"
       ]
      },
      {
       "output_type": "stream",
       "stream": "stdout",
       "text": [
        "\n",
        "D:\\Data\\gpcp_extent//gpcp_1dd_v1.2_p1d.20120906.tif"
       ]
      },
      {
       "output_type": "stream",
       "stream": "stdout",
       "text": [
        "\n",
        "D:\\Data\\gpcp_extent//gpcp_1dd_v1.2_p1d.20120907.tif"
       ]
      },
      {
       "output_type": "stream",
       "stream": "stdout",
       "text": [
        "\n",
        "D:\\Data\\gpcp_extent//gpcp_1dd_v1.2_p1d.20120908.tif"
       ]
      },
      {
       "output_type": "stream",
       "stream": "stdout",
       "text": [
        "\n",
        "D:\\Data\\gpcp_extent//gpcp_1dd_v1.2_p1d.20120909.tif"
       ]
      },
      {
       "output_type": "stream",
       "stream": "stdout",
       "text": [
        "\n",
        "D:\\Data\\gpcp_extent//gpcp_1dd_v1.2_p1d.20120910.tif"
       ]
      },
      {
       "output_type": "stream",
       "stream": "stdout",
       "text": [
        "\n",
        "D:\\Data\\gpcp_extent//gpcp_1dd_v1.2_p1d.20120911.tif"
       ]
      },
      {
       "output_type": "stream",
       "stream": "stdout",
       "text": [
        "\n",
        "D:\\Data\\gpcp_extent//gpcp_1dd_v1.2_p1d.20120912.tif"
       ]
      },
      {
       "output_type": "stream",
       "stream": "stdout",
       "text": [
        "\n",
        "D:\\Data\\gpcp_extent//gpcp_1dd_v1.2_p1d.20120913.tif"
       ]
      },
      {
       "output_type": "stream",
       "stream": "stdout",
       "text": [
        "\n",
        "D:\\Data\\gpcp_extent//gpcp_1dd_v1.2_p1d.20120914.tif"
       ]
      },
      {
       "output_type": "stream",
       "stream": "stdout",
       "text": [
        "\n",
        "D:\\Data\\gpcp_extent//gpcp_1dd_v1.2_p1d.20120915.tif"
       ]
      },
      {
       "output_type": "stream",
       "stream": "stdout",
       "text": [
        "\n",
        "D:\\Data\\gpcp_extent//gpcp_1dd_v1.2_p1d.20120916.tif"
       ]
      },
      {
       "output_type": "stream",
       "stream": "stdout",
       "text": [
        "\n",
        "D:\\Data\\gpcp_extent//gpcp_1dd_v1.2_p1d.20120917.tif"
       ]
      },
      {
       "output_type": "stream",
       "stream": "stdout",
       "text": [
        "\n",
        "D:\\Data\\gpcp_extent//gpcp_1dd_v1.2_p1d.20120918.tif"
       ]
      },
      {
       "output_type": "stream",
       "stream": "stdout",
       "text": [
        "\n",
        "D:\\Data\\gpcp_extent//gpcp_1dd_v1.2_p1d.20120919.tif"
       ]
      },
      {
       "output_type": "stream",
       "stream": "stdout",
       "text": [
        "\n",
        "D:\\Data\\gpcp_extent//gpcp_1dd_v1.2_p1d.20120920.tif"
       ]
      },
      {
       "output_type": "stream",
       "stream": "stdout",
       "text": [
        "\n",
        "D:\\Data\\gpcp_extent//gpcp_1dd_v1.2_p1d.20120921.tif"
       ]
      },
      {
       "output_type": "stream",
       "stream": "stdout",
       "text": [
        "\n",
        "D:\\Data\\gpcp_extent//gpcp_1dd_v1.2_p1d.20120922.tif"
       ]
      },
      {
       "output_type": "stream",
       "stream": "stdout",
       "text": [
        "\n",
        "D:\\Data\\gpcp_extent//gpcp_1dd_v1.2_p1d.20120923.tif"
       ]
      },
      {
       "output_type": "stream",
       "stream": "stdout",
       "text": [
        "\n",
        "D:\\Data\\gpcp_extent//gpcp_1dd_v1.2_p1d.20120924.tif"
       ]
      },
      {
       "output_type": "stream",
       "stream": "stdout",
       "text": [
        "\n",
        "D:\\Data\\gpcp_extent//gpcp_1dd_v1.2_p1d.20120925.tif"
       ]
      },
      {
       "output_type": "stream",
       "stream": "stdout",
       "text": [
        "\n",
        "D:\\Data\\gpcp_extent//gpcp_1dd_v1.2_p1d.20120926.tif"
       ]
      },
      {
       "output_type": "stream",
       "stream": "stdout",
       "text": [
        "\n",
        "D:\\Data\\gpcp_extent//gpcp_1dd_v1.2_p1d.20120927.tif"
       ]
      },
      {
       "output_type": "stream",
       "stream": "stdout",
       "text": [
        "\n",
        "D:\\Data\\gpcp_extent//gpcp_1dd_v1.2_p1d.20120928.tif"
       ]
      },
      {
       "output_type": "stream",
       "stream": "stdout",
       "text": [
        "\n",
        "D:\\Data\\gpcp_extent//gpcp_1dd_v1.2_p1d.20120929.tif"
       ]
      },
      {
       "output_type": "stream",
       "stream": "stdout",
       "text": [
        "\n",
        "D:\\Data\\gpcp_extent//gpcp_1dd_v1.2_p1d.20121000.tif"
       ]
      },
      {
       "output_type": "stream",
       "stream": "stdout",
       "text": [
        "\n",
        "D:\\Data\\gpcp_extent//gpcp_1dd_v1.2_p1d.20121001.tif"
       ]
      },
      {
       "output_type": "stream",
       "stream": "stdout",
       "text": [
        "\n",
        "D:\\Data\\gpcp_extent//gpcp_1dd_v1.2_p1d.20121002.tif"
       ]
      },
      {
       "output_type": "stream",
       "stream": "stdout",
       "text": [
        "\n",
        "D:\\Data\\gpcp_extent//gpcp_1dd_v1.2_p1d.20121003.tif"
       ]
      },
      {
       "output_type": "stream",
       "stream": "stdout",
       "text": [
        "\n",
        "D:\\Data\\gpcp_extent//gpcp_1dd_v1.2_p1d.20121004.tif"
       ]
      },
      {
       "output_type": "stream",
       "stream": "stdout",
       "text": [
        "\n",
        "D:\\Data\\gpcp_extent//gpcp_1dd_v1.2_p1d.20121005.tif"
       ]
      },
      {
       "output_type": "stream",
       "stream": "stdout",
       "text": [
        "\n",
        "D:\\Data\\gpcp_extent//gpcp_1dd_v1.2_p1d.20121006.tif"
       ]
      },
      {
       "output_type": "stream",
       "stream": "stdout",
       "text": [
        "\n",
        "D:\\Data\\gpcp_extent//gpcp_1dd_v1.2_p1d.20121007.tif"
       ]
      },
      {
       "output_type": "stream",
       "stream": "stdout",
       "text": [
        "\n",
        "D:\\Data\\gpcp_extent//gpcp_1dd_v1.2_p1d.20121008.tif"
       ]
      },
      {
       "output_type": "stream",
       "stream": "stdout",
       "text": [
        "\n",
        "D:\\Data\\gpcp_extent//gpcp_1dd_v1.2_p1d.20121009.tif"
       ]
      },
      {
       "output_type": "stream",
       "stream": "stdout",
       "text": [
        "\n",
        "D:\\Data\\gpcp_extent//gpcp_1dd_v1.2_p1d.20121010.tif"
       ]
      },
      {
       "output_type": "stream",
       "stream": "stdout",
       "text": [
        "\n",
        "D:\\Data\\gpcp_extent//gpcp_1dd_v1.2_p1d.20121011.tif"
       ]
      },
      {
       "output_type": "stream",
       "stream": "stdout",
       "text": [
        "\n",
        "D:\\Data\\gpcp_extent//gpcp_1dd_v1.2_p1d.20121012.tif"
       ]
      },
      {
       "output_type": "stream",
       "stream": "stdout",
       "text": [
        "\n",
        "D:\\Data\\gpcp_extent//gpcp_1dd_v1.2_p1d.20121013.tif"
       ]
      },
      {
       "output_type": "stream",
       "stream": "stdout",
       "text": [
        "\n",
        "D:\\Data\\gpcp_extent//gpcp_1dd_v1.2_p1d.20121014.tif"
       ]
      },
      {
       "output_type": "stream",
       "stream": "stdout",
       "text": [
        "\n",
        "D:\\Data\\gpcp_extent//gpcp_1dd_v1.2_p1d.20121015.tif"
       ]
      },
      {
       "output_type": "stream",
       "stream": "stdout",
       "text": [
        "\n",
        "D:\\Data\\gpcp_extent//gpcp_1dd_v1.2_p1d.20121016.tif"
       ]
      },
      {
       "output_type": "stream",
       "stream": "stdout",
       "text": [
        "\n",
        "D:\\Data\\gpcp_extent//gpcp_1dd_v1.2_p1d.20121017.tif"
       ]
      },
      {
       "output_type": "stream",
       "stream": "stdout",
       "text": [
        "\n",
        "D:\\Data\\gpcp_extent//gpcp_1dd_v1.2_p1d.20121018.tif"
       ]
      },
      {
       "output_type": "stream",
       "stream": "stdout",
       "text": [
        "\n",
        "D:\\Data\\gpcp_extent//gpcp_1dd_v1.2_p1d.20121019.tif"
       ]
      },
      {
       "output_type": "stream",
       "stream": "stdout",
       "text": [
        "\n",
        "D:\\Data\\gpcp_extent//gpcp_1dd_v1.2_p1d.20121020.tif"
       ]
      },
      {
       "output_type": "stream",
       "stream": "stdout",
       "text": [
        "\n",
        "D:\\Data\\gpcp_extent//gpcp_1dd_v1.2_p1d.20121021.tif"
       ]
      },
      {
       "output_type": "stream",
       "stream": "stdout",
       "text": [
        "\n",
        "D:\\Data\\gpcp_extent//gpcp_1dd_v1.2_p1d.20121022.tif"
       ]
      },
      {
       "output_type": "stream",
       "stream": "stdout",
       "text": [
        "\n",
        "D:\\Data\\gpcp_extent//gpcp_1dd_v1.2_p1d.20121023.tif"
       ]
      },
      {
       "output_type": "stream",
       "stream": "stdout",
       "text": [
        "\n",
        "D:\\Data\\gpcp_extent//gpcp_1dd_v1.2_p1d.20121024.tif"
       ]
      },
      {
       "output_type": "stream",
       "stream": "stdout",
       "text": [
        "\n",
        "D:\\Data\\gpcp_extent//gpcp_1dd_v1.2_p1d.20121025.tif"
       ]
      },
      {
       "output_type": "stream",
       "stream": "stdout",
       "text": [
        "\n",
        "D:\\Data\\gpcp_extent//gpcp_1dd_v1.2_p1d.20121026.tif"
       ]
      },
      {
       "output_type": "stream",
       "stream": "stdout",
       "text": [
        "\n",
        "D:\\Data\\gpcp_extent//gpcp_1dd_v1.2_p1d.20121027.tif"
       ]
      },
      {
       "output_type": "stream",
       "stream": "stdout",
       "text": [
        "\n",
        "D:\\Data\\gpcp_extent//gpcp_1dd_v1.2_p1d.20121028.tif"
       ]
      },
      {
       "output_type": "stream",
       "stream": "stdout",
       "text": [
        "\n",
        "D:\\Data\\gpcp_extent//gpcp_1dd_v1.2_p1d.20121029.tif"
       ]
      },
      {
       "output_type": "stream",
       "stream": "stdout",
       "text": [
        "\n",
        "D:\\Data\\gpcp_extent//gpcp_1dd_v1.2_p1d.20121030.tif"
       ]
      },
      {
       "output_type": "stream",
       "stream": "stdout",
       "text": [
        "\n",
        "D:\\Data\\gpcp_extent//gpcp_1dd_v1.2_p1d.20121100.tif"
       ]
      },
      {
       "output_type": "stream",
       "stream": "stdout",
       "text": [
        "\n",
        "D:\\Data\\gpcp_extent//gpcp_1dd_v1.2_p1d.20121101.tif"
       ]
      },
      {
       "output_type": "stream",
       "stream": "stdout",
       "text": [
        "\n",
        "D:\\Data\\gpcp_extent//gpcp_1dd_v1.2_p1d.20121102.tif"
       ]
      },
      {
       "output_type": "stream",
       "stream": "stdout",
       "text": [
        "\n",
        "D:\\Data\\gpcp_extent//gpcp_1dd_v1.2_p1d.20121103.tif"
       ]
      },
      {
       "output_type": "stream",
       "stream": "stdout",
       "text": [
        "\n",
        "D:\\Data\\gpcp_extent//gpcp_1dd_v1.2_p1d.20121104.tif"
       ]
      },
      {
       "output_type": "stream",
       "stream": "stdout",
       "text": [
        "\n",
        "D:\\Data\\gpcp_extent//gpcp_1dd_v1.2_p1d.20121105.tif"
       ]
      },
      {
       "output_type": "stream",
       "stream": "stdout",
       "text": [
        "\n",
        "D:\\Data\\gpcp_extent//gpcp_1dd_v1.2_p1d.20121106.tif"
       ]
      },
      {
       "output_type": "stream",
       "stream": "stdout",
       "text": [
        "\n",
        "D:\\Data\\gpcp_extent//gpcp_1dd_v1.2_p1d.20121107.tif"
       ]
      },
      {
       "output_type": "stream",
       "stream": "stdout",
       "text": [
        "\n",
        "D:\\Data\\gpcp_extent//gpcp_1dd_v1.2_p1d.20121108.tif"
       ]
      },
      {
       "output_type": "stream",
       "stream": "stdout",
       "text": [
        "\n",
        "D:\\Data\\gpcp_extent//gpcp_1dd_v1.2_p1d.20121109.tif"
       ]
      },
      {
       "output_type": "stream",
       "stream": "stdout",
       "text": [
        "\n",
        "D:\\Data\\gpcp_extent//gpcp_1dd_v1.2_p1d.20121110.tif"
       ]
      },
      {
       "output_type": "stream",
       "stream": "stdout",
       "text": [
        "\n",
        "D:\\Data\\gpcp_extent//gpcp_1dd_v1.2_p1d.20121111.tif"
       ]
      },
      {
       "output_type": "stream",
       "stream": "stdout",
       "text": [
        "\n",
        "D:\\Data\\gpcp_extent//gpcp_1dd_v1.2_p1d.20121112.tif"
       ]
      },
      {
       "output_type": "stream",
       "stream": "stdout",
       "text": [
        "\n",
        "D:\\Data\\gpcp_extent//gpcp_1dd_v1.2_p1d.20121113.tif"
       ]
      },
      {
       "output_type": "stream",
       "stream": "stdout",
       "text": [
        "\n",
        "D:\\Data\\gpcp_extent//gpcp_1dd_v1.2_p1d.20121114.tif"
       ]
      },
      {
       "output_type": "stream",
       "stream": "stdout",
       "text": [
        "\n",
        "D:\\Data\\gpcp_extent//gpcp_1dd_v1.2_p1d.20121115.tif"
       ]
      },
      {
       "output_type": "stream",
       "stream": "stdout",
       "text": [
        "\n",
        "D:\\Data\\gpcp_extent//gpcp_1dd_v1.2_p1d.20121116.tif"
       ]
      },
      {
       "output_type": "stream",
       "stream": "stdout",
       "text": [
        "\n",
        "D:\\Data\\gpcp_extent//gpcp_1dd_v1.2_p1d.20121117.tif"
       ]
      },
      {
       "output_type": "stream",
       "stream": "stdout",
       "text": [
        "\n",
        "D:\\Data\\gpcp_extent//gpcp_1dd_v1.2_p1d.20121118.tif"
       ]
      },
      {
       "output_type": "stream",
       "stream": "stdout",
       "text": [
        "\n",
        "D:\\Data\\gpcp_extent//gpcp_1dd_v1.2_p1d.20121119.tif"
       ]
      },
      {
       "output_type": "stream",
       "stream": "stdout",
       "text": [
        "\n",
        "D:\\Data\\gpcp_extent//gpcp_1dd_v1.2_p1d.20121120.tif"
       ]
      },
      {
       "output_type": "stream",
       "stream": "stdout",
       "text": [
        "\n",
        "D:\\Data\\gpcp_extent//gpcp_1dd_v1.2_p1d.20121121.tif"
       ]
      },
      {
       "output_type": "stream",
       "stream": "stdout",
       "text": [
        "\n",
        "D:\\Data\\gpcp_extent//gpcp_1dd_v1.2_p1d.20121122.tif"
       ]
      },
      {
       "output_type": "stream",
       "stream": "stdout",
       "text": [
        "\n",
        "D:\\Data\\gpcp_extent//gpcp_1dd_v1.2_p1d.20121123.tif"
       ]
      },
      {
       "output_type": "stream",
       "stream": "stdout",
       "text": [
        "\n",
        "D:\\Data\\gpcp_extent//gpcp_1dd_v1.2_p1d.20121124.tif"
       ]
      },
      {
       "output_type": "stream",
       "stream": "stdout",
       "text": [
        "\n",
        "D:\\Data\\gpcp_extent//gpcp_1dd_v1.2_p1d.20121125.tif"
       ]
      },
      {
       "output_type": "stream",
       "stream": "stdout",
       "text": [
        "\n",
        "D:\\Data\\gpcp_extent//gpcp_1dd_v1.2_p1d.20121126.tif"
       ]
      },
      {
       "output_type": "stream",
       "stream": "stdout",
       "text": [
        "\n",
        "D:\\Data\\gpcp_extent//gpcp_1dd_v1.2_p1d.20121127.tif"
       ]
      },
      {
       "output_type": "stream",
       "stream": "stdout",
       "text": [
        "\n",
        "D:\\Data\\gpcp_extent//gpcp_1dd_v1.2_p1d.20121128.tif"
       ]
      },
      {
       "output_type": "stream",
       "stream": "stdout",
       "text": [
        "\n",
        "D:\\Data\\gpcp_extent//gpcp_1dd_v1.2_p1d.20121129.tif"
       ]
      },
      {
       "output_type": "stream",
       "stream": "stdout",
       "text": [
        "\n",
        "D:\\Data\\gpcp_extent//gpcp_1dd_v1.2_p1d.20121200.tif"
       ]
      },
      {
       "output_type": "stream",
       "stream": "stdout",
       "text": [
        "\n",
        "D:\\Data\\gpcp_extent//gpcp_1dd_v1.2_p1d.20121201.tif"
       ]
      },
      {
       "output_type": "stream",
       "stream": "stdout",
       "text": [
        "\n",
        "D:\\Data\\gpcp_extent//gpcp_1dd_v1.2_p1d.20121202.tif"
       ]
      },
      {
       "output_type": "stream",
       "stream": "stdout",
       "text": [
        "\n",
        "D:\\Data\\gpcp_extent//gpcp_1dd_v1.2_p1d.20121203.tif"
       ]
      },
      {
       "output_type": "stream",
       "stream": "stdout",
       "text": [
        "\n",
        "D:\\Data\\gpcp_extent//gpcp_1dd_v1.2_p1d.20121204.tif"
       ]
      },
      {
       "output_type": "stream",
       "stream": "stdout",
       "text": [
        "\n",
        "D:\\Data\\gpcp_extent//gpcp_1dd_v1.2_p1d.20121205.tif"
       ]
      },
      {
       "output_type": "stream",
       "stream": "stdout",
       "text": [
        "\n",
        "D:\\Data\\gpcp_extent//gpcp_1dd_v1.2_p1d.20121206.tif"
       ]
      },
      {
       "output_type": "stream",
       "stream": "stdout",
       "text": [
        "\n",
        "D:\\Data\\gpcp_extent//gpcp_1dd_v1.2_p1d.20121207.tif"
       ]
      },
      {
       "output_type": "stream",
       "stream": "stdout",
       "text": [
        "\n",
        "D:\\Data\\gpcp_extent//gpcp_1dd_v1.2_p1d.20121208.tif"
       ]
      },
      {
       "output_type": "stream",
       "stream": "stdout",
       "text": [
        "\n",
        "D:\\Data\\gpcp_extent//gpcp_1dd_v1.2_p1d.20121209.tif"
       ]
      },
      {
       "output_type": "stream",
       "stream": "stdout",
       "text": [
        "\n",
        "D:\\Data\\gpcp_extent//gpcp_1dd_v1.2_p1d.20121210.tif"
       ]
      },
      {
       "output_type": "stream",
       "stream": "stdout",
       "text": [
        "\n",
        "D:\\Data\\gpcp_extent//gpcp_1dd_v1.2_p1d.20121211.tif"
       ]
      },
      {
       "output_type": "stream",
       "stream": "stdout",
       "text": [
        "\n",
        "D:\\Data\\gpcp_extent//gpcp_1dd_v1.2_p1d.20121212.tif"
       ]
      },
      {
       "output_type": "stream",
       "stream": "stdout",
       "text": [
        "\n",
        "D:\\Data\\gpcp_extent//gpcp_1dd_v1.2_p1d.20121213.tif"
       ]
      },
      {
       "output_type": "stream",
       "stream": "stdout",
       "text": [
        "\n",
        "D:\\Data\\gpcp_extent//gpcp_1dd_v1.2_p1d.20121214.tif"
       ]
      },
      {
       "output_type": "stream",
       "stream": "stdout",
       "text": [
        "\n",
        "D:\\Data\\gpcp_extent//gpcp_1dd_v1.2_p1d.20121215.tif"
       ]
      },
      {
       "output_type": "stream",
       "stream": "stdout",
       "text": [
        "\n",
        "D:\\Data\\gpcp_extent//gpcp_1dd_v1.2_p1d.20121216.tif"
       ]
      },
      {
       "output_type": "stream",
       "stream": "stdout",
       "text": [
        "\n",
        "D:\\Data\\gpcp_extent//gpcp_1dd_v1.2_p1d.20121217.tif"
       ]
      },
      {
       "output_type": "stream",
       "stream": "stdout",
       "text": [
        "\n",
        "D:\\Data\\gpcp_extent//gpcp_1dd_v1.2_p1d.20121218.tif"
       ]
      },
      {
       "output_type": "stream",
       "stream": "stdout",
       "text": [
        "\n",
        "D:\\Data\\gpcp_extent//gpcp_1dd_v1.2_p1d.20121219.tif"
       ]
      },
      {
       "output_type": "stream",
       "stream": "stdout",
       "text": [
        "\n",
        "D:\\Data\\gpcp_extent//gpcp_1dd_v1.2_p1d.20121220.tif"
       ]
      },
      {
       "output_type": "stream",
       "stream": "stdout",
       "text": [
        "\n",
        "D:\\Data\\gpcp_extent//gpcp_1dd_v1.2_p1d.20121221.tif"
       ]
      },
      {
       "output_type": "stream",
       "stream": "stdout",
       "text": [
        "\n",
        "D:\\Data\\gpcp_extent//gpcp_1dd_v1.2_p1d.20121222.tif"
       ]
      },
      {
       "output_type": "stream",
       "stream": "stdout",
       "text": [
        "\n",
        "D:\\Data\\gpcp_extent//gpcp_1dd_v1.2_p1d.20121223.tif"
       ]
      },
      {
       "output_type": "stream",
       "stream": "stdout",
       "text": [
        "\n",
        "D:\\Data\\gpcp_extent//gpcp_1dd_v1.2_p1d.20121224.tif"
       ]
      },
      {
       "output_type": "stream",
       "stream": "stdout",
       "text": [
        "\n",
        "D:\\Data\\gpcp_extent//gpcp_1dd_v1.2_p1d.20121225.tif"
       ]
      },
      {
       "output_type": "stream",
       "stream": "stdout",
       "text": [
        "\n",
        "D:\\Data\\gpcp_extent//gpcp_1dd_v1.2_p1d.20121226.tif"
       ]
      },
      {
       "output_type": "stream",
       "stream": "stdout",
       "text": [
        "\n",
        "D:\\Data\\gpcp_extent//gpcp_1dd_v1.2_p1d.20121227.tif"
       ]
      },
      {
       "output_type": "stream",
       "stream": "stdout",
       "text": [
        "\n",
        "D:\\Data\\gpcp_extent//gpcp_1dd_v1.2_p1d.20121228.tif"
       ]
      },
      {
       "output_type": "stream",
       "stream": "stdout",
       "text": [
        "\n",
        "D:\\Data\\gpcp_extent//gpcp_1dd_v1.2_p1d.20121229.tif"
       ]
      },
      {
       "output_type": "stream",
       "stream": "stdout",
       "text": [
        "\n",
        "D:\\Data\\gpcp_extent//gpcp_1dd_v1.2_p1d.20121230.tif"
       ]
      },
      {
       "output_type": "stream",
       "stream": "stdout",
       "text": [
        "\n",
        "D:\\Data\\gpcp_extent//gpcp_1dd_v1.2_p1d.20130100.tif"
       ]
      },
      {
       "output_type": "stream",
       "stream": "stdout",
       "text": [
        "\n",
        "D:\\Data\\gpcp_extent//gpcp_1dd_v1.2_p1d.20130101.tif"
       ]
      },
      {
       "output_type": "stream",
       "stream": "stdout",
       "text": [
        "\n",
        "D:\\Data\\gpcp_extent//gpcp_1dd_v1.2_p1d.20130102.tif"
       ]
      },
      {
       "output_type": "stream",
       "stream": "stdout",
       "text": [
        "\n",
        "D:\\Data\\gpcp_extent//gpcp_1dd_v1.2_p1d.20130103.tif"
       ]
      },
      {
       "output_type": "stream",
       "stream": "stdout",
       "text": [
        "\n",
        "D:\\Data\\gpcp_extent//gpcp_1dd_v1.2_p1d.20130104.tif"
       ]
      },
      {
       "output_type": "stream",
       "stream": "stdout",
       "text": [
        "\n",
        "D:\\Data\\gpcp_extent//gpcp_1dd_v1.2_p1d.20130105.tif"
       ]
      },
      {
       "output_type": "stream",
       "stream": "stdout",
       "text": [
        "\n",
        "D:\\Data\\gpcp_extent//gpcp_1dd_v1.2_p1d.20130106.tif"
       ]
      },
      {
       "output_type": "stream",
       "stream": "stdout",
       "text": [
        "\n",
        "D:\\Data\\gpcp_extent//gpcp_1dd_v1.2_p1d.20130107.tif"
       ]
      },
      {
       "output_type": "stream",
       "stream": "stdout",
       "text": [
        "\n",
        "D:\\Data\\gpcp_extent//gpcp_1dd_v1.2_p1d.20130108.tif"
       ]
      },
      {
       "output_type": "stream",
       "stream": "stdout",
       "text": [
        "\n",
        "D:\\Data\\gpcp_extent//gpcp_1dd_v1.2_p1d.20130109.tif"
       ]
      },
      {
       "output_type": "stream",
       "stream": "stdout",
       "text": [
        "\n",
        "D:\\Data\\gpcp_extent//gpcp_1dd_v1.2_p1d.20130110.tif"
       ]
      },
      {
       "output_type": "stream",
       "stream": "stdout",
       "text": [
        "\n",
        "D:\\Data\\gpcp_extent//gpcp_1dd_v1.2_p1d.20130111.tif"
       ]
      },
      {
       "output_type": "stream",
       "stream": "stdout",
       "text": [
        "\n",
        "D:\\Data\\gpcp_extent//gpcp_1dd_v1.2_p1d.20130112.tif"
       ]
      },
      {
       "output_type": "stream",
       "stream": "stdout",
       "text": [
        "\n",
        "D:\\Data\\gpcp_extent//gpcp_1dd_v1.2_p1d.20130113.tif"
       ]
      },
      {
       "output_type": "stream",
       "stream": "stdout",
       "text": [
        "\n",
        "D:\\Data\\gpcp_extent//gpcp_1dd_v1.2_p1d.20130114.tif"
       ]
      },
      {
       "output_type": "stream",
       "stream": "stdout",
       "text": [
        "\n",
        "D:\\Data\\gpcp_extent//gpcp_1dd_v1.2_p1d.20130115.tif"
       ]
      },
      {
       "output_type": "stream",
       "stream": "stdout",
       "text": [
        "\n",
        "D:\\Data\\gpcp_extent//gpcp_1dd_v1.2_p1d.20130116.tif"
       ]
      },
      {
       "output_type": "stream",
       "stream": "stdout",
       "text": [
        "\n",
        "D:\\Data\\gpcp_extent//gpcp_1dd_v1.2_p1d.20130117.tif"
       ]
      },
      {
       "output_type": "stream",
       "stream": "stdout",
       "text": [
        "\n",
        "D:\\Data\\gpcp_extent//gpcp_1dd_v1.2_p1d.20130118.tif"
       ]
      },
      {
       "output_type": "stream",
       "stream": "stdout",
       "text": [
        "\n",
        "D:\\Data\\gpcp_extent//gpcp_1dd_v1.2_p1d.20130119.tif"
       ]
      },
      {
       "output_type": "stream",
       "stream": "stdout",
       "text": [
        "\n",
        "D:\\Data\\gpcp_extent//gpcp_1dd_v1.2_p1d.20130120.tif"
       ]
      },
      {
       "output_type": "stream",
       "stream": "stdout",
       "text": [
        "\n",
        "D:\\Data\\gpcp_extent//gpcp_1dd_v1.2_p1d.20130121.tif"
       ]
      },
      {
       "output_type": "stream",
       "stream": "stdout",
       "text": [
        "\n",
        "D:\\Data\\gpcp_extent//gpcp_1dd_v1.2_p1d.20130122.tif"
       ]
      },
      {
       "output_type": "stream",
       "stream": "stdout",
       "text": [
        "\n",
        "D:\\Data\\gpcp_extent//gpcp_1dd_v1.2_p1d.20130123.tif"
       ]
      },
      {
       "output_type": "stream",
       "stream": "stdout",
       "text": [
        "\n",
        "D:\\Data\\gpcp_extent//gpcp_1dd_v1.2_p1d.20130124.tif"
       ]
      },
      {
       "output_type": "stream",
       "stream": "stdout",
       "text": [
        "\n",
        "D:\\Data\\gpcp_extent//gpcp_1dd_v1.2_p1d.20130125.tif"
       ]
      },
      {
       "output_type": "stream",
       "stream": "stdout",
       "text": [
        "\n",
        "D:\\Data\\gpcp_extent//gpcp_1dd_v1.2_p1d.20130126.tif"
       ]
      },
      {
       "output_type": "stream",
       "stream": "stdout",
       "text": [
        "\n",
        "D:\\Data\\gpcp_extent//gpcp_1dd_v1.2_p1d.20130127.tif"
       ]
      },
      {
       "output_type": "stream",
       "stream": "stdout",
       "text": [
        "\n",
        "D:\\Data\\gpcp_extent//gpcp_1dd_v1.2_p1d.20130128.tif"
       ]
      },
      {
       "output_type": "stream",
       "stream": "stdout",
       "text": [
        "\n",
        "D:\\Data\\gpcp_extent//gpcp_1dd_v1.2_p1d.20130129.tif"
       ]
      },
      {
       "output_type": "stream",
       "stream": "stdout",
       "text": [
        "\n",
        "D:\\Data\\gpcp_extent//gpcp_1dd_v1.2_p1d.20130130.tif"
       ]
      },
      {
       "output_type": "stream",
       "stream": "stdout",
       "text": [
        "\n",
        "D:\\Data\\gpcp_extent//gpcp_1dd_v1.2_p1d.20130200.tif"
       ]
      },
      {
       "output_type": "stream",
       "stream": "stdout",
       "text": [
        "\n",
        "D:\\Data\\gpcp_extent//gpcp_1dd_v1.2_p1d.20130201.tif"
       ]
      },
      {
       "output_type": "stream",
       "stream": "stdout",
       "text": [
        "\n",
        "D:\\Data\\gpcp_extent//gpcp_1dd_v1.2_p1d.20130202.tif"
       ]
      },
      {
       "output_type": "stream",
       "stream": "stdout",
       "text": [
        "\n",
        "D:\\Data\\gpcp_extent//gpcp_1dd_v1.2_p1d.20130203.tif"
       ]
      },
      {
       "output_type": "stream",
       "stream": "stdout",
       "text": [
        "\n",
        "D:\\Data\\gpcp_extent//gpcp_1dd_v1.2_p1d.20130204.tif"
       ]
      },
      {
       "output_type": "stream",
       "stream": "stdout",
       "text": [
        "\n",
        "D:\\Data\\gpcp_extent//gpcp_1dd_v1.2_p1d.20130205.tif"
       ]
      },
      {
       "output_type": "stream",
       "stream": "stdout",
       "text": [
        "\n",
        "D:\\Data\\gpcp_extent//gpcp_1dd_v1.2_p1d.20130206.tif"
       ]
      },
      {
       "output_type": "stream",
       "stream": "stdout",
       "text": [
        "\n",
        "D:\\Data\\gpcp_extent//gpcp_1dd_v1.2_p1d.20130207.tif"
       ]
      },
      {
       "output_type": "stream",
       "stream": "stdout",
       "text": [
        "\n",
        "D:\\Data\\gpcp_extent//gpcp_1dd_v1.2_p1d.20130208.tif"
       ]
      },
      {
       "output_type": "stream",
       "stream": "stdout",
       "text": [
        "\n",
        "D:\\Data\\gpcp_extent//gpcp_1dd_v1.2_p1d.20130209.tif"
       ]
      },
      {
       "output_type": "stream",
       "stream": "stdout",
       "text": [
        "\n",
        "D:\\Data\\gpcp_extent//gpcp_1dd_v1.2_p1d.20130210.tif"
       ]
      },
      {
       "output_type": "stream",
       "stream": "stdout",
       "text": [
        "\n",
        "D:\\Data\\gpcp_extent//gpcp_1dd_v1.2_p1d.20130211.tif"
       ]
      },
      {
       "output_type": "stream",
       "stream": "stdout",
       "text": [
        "\n",
        "D:\\Data\\gpcp_extent//gpcp_1dd_v1.2_p1d.20130212.tif"
       ]
      },
      {
       "output_type": "stream",
       "stream": "stdout",
       "text": [
        "\n",
        "D:\\Data\\gpcp_extent//gpcp_1dd_v1.2_p1d.20130213.tif"
       ]
      },
      {
       "output_type": "stream",
       "stream": "stdout",
       "text": [
        "\n",
        "D:\\Data\\gpcp_extent//gpcp_1dd_v1.2_p1d.20130214.tif"
       ]
      },
      {
       "output_type": "stream",
       "stream": "stdout",
       "text": [
        "\n",
        "D:\\Data\\gpcp_extent//gpcp_1dd_v1.2_p1d.20130215.tif"
       ]
      },
      {
       "output_type": "stream",
       "stream": "stdout",
       "text": [
        "\n",
        "D:\\Data\\gpcp_extent//gpcp_1dd_v1.2_p1d.20130216.tif"
       ]
      },
      {
       "output_type": "stream",
       "stream": "stdout",
       "text": [
        "\n",
        "D:\\Data\\gpcp_extent//gpcp_1dd_v1.2_p1d.20130217.tif"
       ]
      },
      {
       "output_type": "stream",
       "stream": "stdout",
       "text": [
        "\n",
        "D:\\Data\\gpcp_extent//gpcp_1dd_v1.2_p1d.20130218.tif"
       ]
      },
      {
       "output_type": "stream",
       "stream": "stdout",
       "text": [
        "\n",
        "D:\\Data\\gpcp_extent//gpcp_1dd_v1.2_p1d.20130219.tif"
       ]
      },
      {
       "output_type": "stream",
       "stream": "stdout",
       "text": [
        "\n",
        "D:\\Data\\gpcp_extent//gpcp_1dd_v1.2_p1d.20130220.tif"
       ]
      },
      {
       "output_type": "stream",
       "stream": "stdout",
       "text": [
        "\n",
        "D:\\Data\\gpcp_extent//gpcp_1dd_v1.2_p1d.20130221.tif"
       ]
      },
      {
       "output_type": "stream",
       "stream": "stdout",
       "text": [
        "\n",
        "D:\\Data\\gpcp_extent//gpcp_1dd_v1.2_p1d.20130222.tif"
       ]
      },
      {
       "output_type": "stream",
       "stream": "stdout",
       "text": [
        "\n",
        "D:\\Data\\gpcp_extent//gpcp_1dd_v1.2_p1d.20130223.tif"
       ]
      },
      {
       "output_type": "stream",
       "stream": "stdout",
       "text": [
        "\n",
        "D:\\Data\\gpcp_extent//gpcp_1dd_v1.2_p1d.20130224.tif"
       ]
      },
      {
       "output_type": "stream",
       "stream": "stdout",
       "text": [
        "\n",
        "D:\\Data\\gpcp_extent//gpcp_1dd_v1.2_p1d.20130225.tif"
       ]
      },
      {
       "output_type": "stream",
       "stream": "stdout",
       "text": [
        "\n",
        "D:\\Data\\gpcp_extent//gpcp_1dd_v1.2_p1d.20130226.tif"
       ]
      },
      {
       "output_type": "stream",
       "stream": "stdout",
       "text": [
        "\n",
        "D:\\Data\\gpcp_extent//gpcp_1dd_v1.2_p1d.20130227.tif"
       ]
      },
      {
       "output_type": "stream",
       "stream": "stdout",
       "text": [
        "\n",
        "D:\\Data\\gpcp_extent//gpcp_1dd_v1.2_p1d.20130300.tif"
       ]
      },
      {
       "output_type": "stream",
       "stream": "stdout",
       "text": [
        "\n",
        "D:\\Data\\gpcp_extent//gpcp_1dd_v1.2_p1d.20130301.tif"
       ]
      },
      {
       "output_type": "stream",
       "stream": "stdout",
       "text": [
        "\n",
        "D:\\Data\\gpcp_extent//gpcp_1dd_v1.2_p1d.20130302.tif"
       ]
      },
      {
       "output_type": "stream",
       "stream": "stdout",
       "text": [
        "\n",
        "D:\\Data\\gpcp_extent//gpcp_1dd_v1.2_p1d.20130303.tif"
       ]
      },
      {
       "output_type": "stream",
       "stream": "stdout",
       "text": [
        "\n",
        "D:\\Data\\gpcp_extent//gpcp_1dd_v1.2_p1d.20130304.tif"
       ]
      },
      {
       "output_type": "stream",
       "stream": "stdout",
       "text": [
        "\n",
        "D:\\Data\\gpcp_extent//gpcp_1dd_v1.2_p1d.20130305.tif"
       ]
      },
      {
       "output_type": "stream",
       "stream": "stdout",
       "text": [
        "\n",
        "D:\\Data\\gpcp_extent//gpcp_1dd_v1.2_p1d.20130306.tif"
       ]
      },
      {
       "output_type": "stream",
       "stream": "stdout",
       "text": [
        "\n",
        "D:\\Data\\gpcp_extent//gpcp_1dd_v1.2_p1d.20130307.tif"
       ]
      },
      {
       "output_type": "stream",
       "stream": "stdout",
       "text": [
        "\n",
        "D:\\Data\\gpcp_extent//gpcp_1dd_v1.2_p1d.20130308.tif"
       ]
      },
      {
       "output_type": "stream",
       "stream": "stdout",
       "text": [
        "\n",
        "D:\\Data\\gpcp_extent//gpcp_1dd_v1.2_p1d.20130309.tif"
       ]
      },
      {
       "output_type": "stream",
       "stream": "stdout",
       "text": [
        "\n",
        "D:\\Data\\gpcp_extent//gpcp_1dd_v1.2_p1d.20130310.tif"
       ]
      },
      {
       "output_type": "stream",
       "stream": "stdout",
       "text": [
        "\n",
        "D:\\Data\\gpcp_extent//gpcp_1dd_v1.2_p1d.20130311.tif"
       ]
      },
      {
       "output_type": "stream",
       "stream": "stdout",
       "text": [
        "\n",
        "D:\\Data\\gpcp_extent//gpcp_1dd_v1.2_p1d.20130312.tif"
       ]
      },
      {
       "output_type": "stream",
       "stream": "stdout",
       "text": [
        "\n",
        "D:\\Data\\gpcp_extent//gpcp_1dd_v1.2_p1d.20130313.tif"
       ]
      },
      {
       "output_type": "stream",
       "stream": "stdout",
       "text": [
        "\n",
        "D:\\Data\\gpcp_extent//gpcp_1dd_v1.2_p1d.20130314.tif"
       ]
      },
      {
       "output_type": "stream",
       "stream": "stdout",
       "text": [
        "\n",
        "D:\\Data\\gpcp_extent//gpcp_1dd_v1.2_p1d.20130315.tif"
       ]
      },
      {
       "output_type": "stream",
       "stream": "stdout",
       "text": [
        "\n",
        "D:\\Data\\gpcp_extent//gpcp_1dd_v1.2_p1d.20130316.tif"
       ]
      },
      {
       "output_type": "stream",
       "stream": "stdout",
       "text": [
        "\n",
        "D:\\Data\\gpcp_extent//gpcp_1dd_v1.2_p1d.20130317.tif"
       ]
      },
      {
       "output_type": "stream",
       "stream": "stdout",
       "text": [
        "\n",
        "D:\\Data\\gpcp_extent//gpcp_1dd_v1.2_p1d.20130318.tif"
       ]
      },
      {
       "output_type": "stream",
       "stream": "stdout",
       "text": [
        "\n",
        "D:\\Data\\gpcp_extent//gpcp_1dd_v1.2_p1d.20130319.tif"
       ]
      },
      {
       "output_type": "stream",
       "stream": "stdout",
       "text": [
        "\n",
        "D:\\Data\\gpcp_extent//gpcp_1dd_v1.2_p1d.20130320.tif"
       ]
      },
      {
       "output_type": "stream",
       "stream": "stdout",
       "text": [
        "\n",
        "D:\\Data\\gpcp_extent//gpcp_1dd_v1.2_p1d.20130321.tif"
       ]
      },
      {
       "output_type": "stream",
       "stream": "stdout",
       "text": [
        "\n",
        "D:\\Data\\gpcp_extent//gpcp_1dd_v1.2_p1d.20130322.tif"
       ]
      },
      {
       "output_type": "stream",
       "stream": "stdout",
       "text": [
        "\n",
        "D:\\Data\\gpcp_extent//gpcp_1dd_v1.2_p1d.20130323.tif"
       ]
      },
      {
       "output_type": "stream",
       "stream": "stdout",
       "text": [
        "\n",
        "D:\\Data\\gpcp_extent//gpcp_1dd_v1.2_p1d.20130324.tif"
       ]
      },
      {
       "output_type": "stream",
       "stream": "stdout",
       "text": [
        "\n",
        "D:\\Data\\gpcp_extent//gpcp_1dd_v1.2_p1d.20130325.tif"
       ]
      },
      {
       "output_type": "stream",
       "stream": "stdout",
       "text": [
        "\n",
        "D:\\Data\\gpcp_extent//gpcp_1dd_v1.2_p1d.20130326.tif"
       ]
      },
      {
       "output_type": "stream",
       "stream": "stdout",
       "text": [
        "\n",
        "D:\\Data\\gpcp_extent//gpcp_1dd_v1.2_p1d.20130327.tif"
       ]
      },
      {
       "output_type": "stream",
       "stream": "stdout",
       "text": [
        "\n",
        "D:\\Data\\gpcp_extent//gpcp_1dd_v1.2_p1d.20130328.tif"
       ]
      },
      {
       "output_type": "stream",
       "stream": "stdout",
       "text": [
        "\n",
        "D:\\Data\\gpcp_extent//gpcp_1dd_v1.2_p1d.20130329.tif"
       ]
      },
      {
       "output_type": "stream",
       "stream": "stdout",
       "text": [
        "\n",
        "D:\\Data\\gpcp_extent//gpcp_1dd_v1.2_p1d.20130330.tif"
       ]
      },
      {
       "output_type": "stream",
       "stream": "stdout",
       "text": [
        "\n",
        "D:\\Data\\gpcp_extent//gpcp_1dd_v1.2_p1d.20130400.tif"
       ]
      },
      {
       "output_type": "stream",
       "stream": "stdout",
       "text": [
        "\n",
        "D:\\Data\\gpcp_extent//gpcp_1dd_v1.2_p1d.20130401.tif"
       ]
      },
      {
       "output_type": "stream",
       "stream": "stdout",
       "text": [
        "\n",
        "D:\\Data\\gpcp_extent//gpcp_1dd_v1.2_p1d.20130402.tif"
       ]
      },
      {
       "output_type": "stream",
       "stream": "stdout",
       "text": [
        "\n",
        "D:\\Data\\gpcp_extent//gpcp_1dd_v1.2_p1d.20130403.tif"
       ]
      },
      {
       "output_type": "stream",
       "stream": "stdout",
       "text": [
        "\n",
        "D:\\Data\\gpcp_extent//gpcp_1dd_v1.2_p1d.20130404.tif"
       ]
      },
      {
       "output_type": "stream",
       "stream": "stdout",
       "text": [
        "\n",
        "D:\\Data\\gpcp_extent//gpcp_1dd_v1.2_p1d.20130405.tif"
       ]
      },
      {
       "output_type": "stream",
       "stream": "stdout",
       "text": [
        "\n",
        "D:\\Data\\gpcp_extent//gpcp_1dd_v1.2_p1d.20130406.tif"
       ]
      },
      {
       "output_type": "stream",
       "stream": "stdout",
       "text": [
        "\n",
        "D:\\Data\\gpcp_extent//gpcp_1dd_v1.2_p1d.20130407.tif"
       ]
      },
      {
       "output_type": "stream",
       "stream": "stdout",
       "text": [
        "\n",
        "D:\\Data\\gpcp_extent//gpcp_1dd_v1.2_p1d.20130408.tif"
       ]
      },
      {
       "output_type": "stream",
       "stream": "stdout",
       "text": [
        "\n",
        "D:\\Data\\gpcp_extent//gpcp_1dd_v1.2_p1d.20130409.tif"
       ]
      },
      {
       "output_type": "stream",
       "stream": "stdout",
       "text": [
        "\n",
        "D:\\Data\\gpcp_extent//gpcp_1dd_v1.2_p1d.20130410.tif"
       ]
      },
      {
       "output_type": "stream",
       "stream": "stdout",
       "text": [
        "\n",
        "D:\\Data\\gpcp_extent//gpcp_1dd_v1.2_p1d.20130411.tif"
       ]
      },
      {
       "output_type": "stream",
       "stream": "stdout",
       "text": [
        "\n",
        "D:\\Data\\gpcp_extent//gpcp_1dd_v1.2_p1d.20130412.tif"
       ]
      },
      {
       "output_type": "stream",
       "stream": "stdout",
       "text": [
        "\n",
        "D:\\Data\\gpcp_extent//gpcp_1dd_v1.2_p1d.20130413.tif"
       ]
      },
      {
       "output_type": "stream",
       "stream": "stdout",
       "text": [
        "\n",
        "D:\\Data\\gpcp_extent//gpcp_1dd_v1.2_p1d.20130414.tif"
       ]
      },
      {
       "output_type": "stream",
       "stream": "stdout",
       "text": [
        "\n",
        "D:\\Data\\gpcp_extent//gpcp_1dd_v1.2_p1d.20130415.tif"
       ]
      },
      {
       "output_type": "stream",
       "stream": "stdout",
       "text": [
        "\n",
        "D:\\Data\\gpcp_extent//gpcp_1dd_v1.2_p1d.20130416.tif"
       ]
      },
      {
       "output_type": "stream",
       "stream": "stdout",
       "text": [
        "\n",
        "D:\\Data\\gpcp_extent//gpcp_1dd_v1.2_p1d.20130417.tif"
       ]
      },
      {
       "output_type": "stream",
       "stream": "stdout",
       "text": [
        "\n",
        "D:\\Data\\gpcp_extent//gpcp_1dd_v1.2_p1d.20130418.tif"
       ]
      },
      {
       "output_type": "stream",
       "stream": "stdout",
       "text": [
        "\n",
        "D:\\Data\\gpcp_extent//gpcp_1dd_v1.2_p1d.20130419.tif"
       ]
      },
      {
       "output_type": "stream",
       "stream": "stdout",
       "text": [
        "\n",
        "D:\\Data\\gpcp_extent//gpcp_1dd_v1.2_p1d.20130420.tif"
       ]
      },
      {
       "output_type": "stream",
       "stream": "stdout",
       "text": [
        "\n",
        "D:\\Data\\gpcp_extent//gpcp_1dd_v1.2_p1d.20130421.tif"
       ]
      },
      {
       "output_type": "stream",
       "stream": "stdout",
       "text": [
        "\n",
        "D:\\Data\\gpcp_extent//gpcp_1dd_v1.2_p1d.20130422.tif"
       ]
      },
      {
       "output_type": "stream",
       "stream": "stdout",
       "text": [
        "\n",
        "D:\\Data\\gpcp_extent//gpcp_1dd_v1.2_p1d.20130423.tif"
       ]
      },
      {
       "output_type": "stream",
       "stream": "stdout",
       "text": [
        "\n",
        "D:\\Data\\gpcp_extent//gpcp_1dd_v1.2_p1d.20130424.tif"
       ]
      },
      {
       "output_type": "stream",
       "stream": "stdout",
       "text": [
        "\n",
        "D:\\Data\\gpcp_extent//gpcp_1dd_v1.2_p1d.20130425.tif"
       ]
      },
      {
       "output_type": "stream",
       "stream": "stdout",
       "text": [
        "\n",
        "D:\\Data\\gpcp_extent//gpcp_1dd_v1.2_p1d.20130426.tif"
       ]
      },
      {
       "output_type": "stream",
       "stream": "stdout",
       "text": [
        "\n",
        "D:\\Data\\gpcp_extent//gpcp_1dd_v1.2_p1d.20130427.tif"
       ]
      },
      {
       "output_type": "stream",
       "stream": "stdout",
       "text": [
        "\n",
        "D:\\Data\\gpcp_extent//gpcp_1dd_v1.2_p1d.20130428.tif"
       ]
      },
      {
       "output_type": "stream",
       "stream": "stdout",
       "text": [
        "\n",
        "D:\\Data\\gpcp_extent//gpcp_1dd_v1.2_p1d.20130429.tif"
       ]
      },
      {
       "output_type": "stream",
       "stream": "stdout",
       "text": [
        "\n",
        "D:\\Data\\gpcp_extent//gpcp_1dd_v1.2_p1d.20130500.tif"
       ]
      },
      {
       "output_type": "stream",
       "stream": "stdout",
       "text": [
        "\n",
        "D:\\Data\\gpcp_extent//gpcp_1dd_v1.2_p1d.20130501.tif"
       ]
      },
      {
       "output_type": "stream",
       "stream": "stdout",
       "text": [
        "\n",
        "D:\\Data\\gpcp_extent//gpcp_1dd_v1.2_p1d.20130502.tif"
       ]
      },
      {
       "output_type": "stream",
       "stream": "stdout",
       "text": [
        "\n",
        "D:\\Data\\gpcp_extent//gpcp_1dd_v1.2_p1d.20130503.tif"
       ]
      },
      {
       "output_type": "stream",
       "stream": "stdout",
       "text": [
        "\n",
        "D:\\Data\\gpcp_extent//gpcp_1dd_v1.2_p1d.20130504.tif"
       ]
      },
      {
       "output_type": "stream",
       "stream": "stdout",
       "text": [
        "\n",
        "D:\\Data\\gpcp_extent//gpcp_1dd_v1.2_p1d.20130505.tif"
       ]
      },
      {
       "output_type": "stream",
       "stream": "stdout",
       "text": [
        "\n",
        "D:\\Data\\gpcp_extent//gpcp_1dd_v1.2_p1d.20130506.tif"
       ]
      },
      {
       "output_type": "stream",
       "stream": "stdout",
       "text": [
        "\n",
        "D:\\Data\\gpcp_extent//gpcp_1dd_v1.2_p1d.20130507.tif"
       ]
      },
      {
       "output_type": "stream",
       "stream": "stdout",
       "text": [
        "\n",
        "D:\\Data\\gpcp_extent//gpcp_1dd_v1.2_p1d.20130508.tif"
       ]
      },
      {
       "output_type": "stream",
       "stream": "stdout",
       "text": [
        "\n",
        "D:\\Data\\gpcp_extent//gpcp_1dd_v1.2_p1d.20130509.tif"
       ]
      },
      {
       "output_type": "stream",
       "stream": "stdout",
       "text": [
        "\n",
        "D:\\Data\\gpcp_extent//gpcp_1dd_v1.2_p1d.20130510.tif"
       ]
      },
      {
       "output_type": "stream",
       "stream": "stdout",
       "text": [
        "\n",
        "D:\\Data\\gpcp_extent//gpcp_1dd_v1.2_p1d.20130511.tif"
       ]
      },
      {
       "output_type": "stream",
       "stream": "stdout",
       "text": [
        "\n",
        "D:\\Data\\gpcp_extent//gpcp_1dd_v1.2_p1d.20130512.tif"
       ]
      },
      {
       "output_type": "stream",
       "stream": "stdout",
       "text": [
        "\n",
        "D:\\Data\\gpcp_extent//gpcp_1dd_v1.2_p1d.20130513.tif"
       ]
      },
      {
       "output_type": "stream",
       "stream": "stdout",
       "text": [
        "\n",
        "D:\\Data\\gpcp_extent//gpcp_1dd_v1.2_p1d.20130514.tif"
       ]
      },
      {
       "output_type": "stream",
       "stream": "stdout",
       "text": [
        "\n",
        "D:\\Data\\gpcp_extent//gpcp_1dd_v1.2_p1d.20130515.tif"
       ]
      },
      {
       "output_type": "stream",
       "stream": "stdout",
       "text": [
        "\n",
        "D:\\Data\\gpcp_extent//gpcp_1dd_v1.2_p1d.20130516.tif"
       ]
      },
      {
       "output_type": "stream",
       "stream": "stdout",
       "text": [
        "\n",
        "D:\\Data\\gpcp_extent//gpcp_1dd_v1.2_p1d.20130517.tif"
       ]
      },
      {
       "output_type": "stream",
       "stream": "stdout",
       "text": [
        "\n",
        "D:\\Data\\gpcp_extent//gpcp_1dd_v1.2_p1d.20130518.tif"
       ]
      },
      {
       "output_type": "stream",
       "stream": "stdout",
       "text": [
        "\n",
        "D:\\Data\\gpcp_extent//gpcp_1dd_v1.2_p1d.20130519.tif"
       ]
      },
      {
       "output_type": "stream",
       "stream": "stdout",
       "text": [
        "\n",
        "D:\\Data\\gpcp_extent//gpcp_1dd_v1.2_p1d.20130520.tif"
       ]
      },
      {
       "output_type": "stream",
       "stream": "stdout",
       "text": [
        "\n",
        "D:\\Data\\gpcp_extent//gpcp_1dd_v1.2_p1d.20130521.tif"
       ]
      },
      {
       "output_type": "stream",
       "stream": "stdout",
       "text": [
        "\n",
        "D:\\Data\\gpcp_extent//gpcp_1dd_v1.2_p1d.20130522.tif"
       ]
      },
      {
       "output_type": "stream",
       "stream": "stdout",
       "text": [
        "\n",
        "D:\\Data\\gpcp_extent//gpcp_1dd_v1.2_p1d.20130523.tif"
       ]
      },
      {
       "output_type": "stream",
       "stream": "stdout",
       "text": [
        "\n",
        "D:\\Data\\gpcp_extent//gpcp_1dd_v1.2_p1d.20130524.tif"
       ]
      },
      {
       "output_type": "stream",
       "stream": "stdout",
       "text": [
        "\n",
        "D:\\Data\\gpcp_extent//gpcp_1dd_v1.2_p1d.20130525.tif"
       ]
      },
      {
       "output_type": "stream",
       "stream": "stdout",
       "text": [
        "\n",
        "D:\\Data\\gpcp_extent//gpcp_1dd_v1.2_p1d.20130526.tif"
       ]
      },
      {
       "output_type": "stream",
       "stream": "stdout",
       "text": [
        "\n",
        "D:\\Data\\gpcp_extent//gpcp_1dd_v1.2_p1d.20130527.tif"
       ]
      },
      {
       "output_type": "stream",
       "stream": "stdout",
       "text": [
        "\n",
        "D:\\Data\\gpcp_extent//gpcp_1dd_v1.2_p1d.20130528.tif"
       ]
      },
      {
       "output_type": "stream",
       "stream": "stdout",
       "text": [
        "\n",
        "D:\\Data\\gpcp_extent//gpcp_1dd_v1.2_p1d.20130529.tif"
       ]
      },
      {
       "output_type": "stream",
       "stream": "stdout",
       "text": [
        "\n",
        "D:\\Data\\gpcp_extent//gpcp_1dd_v1.2_p1d.20130530.tif"
       ]
      },
      {
       "output_type": "stream",
       "stream": "stdout",
       "text": [
        "\n"
       ]
      }
     ],
     "prompt_number": 23
    },
    {
     "cell_type": "code",
     "collapsed": false,
     "input": [
      "files2 = dikkelul.FilesFolder(r'D:\\Data\\GPCP_extent', '.tif')\n",
      "outfolder = r'D:\\Data\\outfolder//'\n",
      "prefix = 'gpcp_1dd_'\n",
      "ds = gdal.Open(files2[0])\n",
      "array_base = ds.ReadAsArray()"
     ],
     "language": "python",
     "metadata": {},
     "outputs": [],
     "prompt_number": 26
    },
    {
     "cell_type": "code",
     "collapsed": false,
     "input": [
      "for i in range(0,len(files),1):\n",
      "    start = i\n",
      "    end = i+8\n",
      "    array_new = np.empty_like(array_base)\n",
      "    k = 0\n",
      "    out_from = files[i][-12:-4]\n",
      "    for j in range(start,end):\n",
      "        g = files[j]\n",
      "        print (g)\n",
      "        ds = gdal.Open(g, gdal.GA_ReadOnly())\n",
      "        array = ds.ReadAsArray()\n",
      "        array_new += array        \n",
      "    out_to = files[j][-12:-4]\n",
      "    array_new /= k\n",
      "    outpath = outfolder+prefix+out_from+out_to+'.tif'\n",
      "    dikkelul.saveRaster(outpath, ds, 6)"
     ],
     "language": "python",
     "metadata": {},
     "outputs": []
    }
   ],
   "metadata": {}
  }
 ]
}