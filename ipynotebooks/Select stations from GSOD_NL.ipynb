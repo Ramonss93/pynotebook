{
 "metadata": {
  "name": "Select stations from GSOD_NL"
 },
 "nbformat": 3,
 "nbformat_minor": 0,
 "worksheets": [
  {
   "cells": [
    {
     "cell_type": "code",
     "collapsed": false,
     "input": [
      "from IPython.external import mathjax; mathjax.install_mathjax()"
     ],
     "language": "python",
     "metadata": {},
     "outputs": [
      {
       "output_type": "stream",
       "stream": "stdout",
       "text": [
        "Downloading mathjax source...\n",
        "done"
       ]
      },
      {
       "output_type": "stream",
       "stream": "stdout",
       "text": [
        "\n",
        "Extracting to D:\\Python27\\lib\\site-packages\\IPython\\frontend\\html\\notebook\\static\\mathjax"
       ]
      },
      {
       "output_type": "stream",
       "stream": "stdout",
       "text": [
        "\n"
       ]
      }
     ],
     "prompt_number": 1
    },
    {
     "cell_type": "code",
     "collapsed": false,
     "input": [
      "import os\n",
      "from decimal import Decimal\n",
      "import pandas\n",
      "from shutil import copyfile\n",
      "import numpy as np"
     ],
     "language": "python",
     "metadata": {},
     "outputs": [],
     "prompt_number": 2
    },
    {
     "cell_type": "code",
     "collapsed": false,
     "input": [
      "df = pandas.read_csv(r'I:\\Documents\\Klusjes\\GIDS Interpolation Air Temperature\\GSOD//AALBERS_STAIONS_NL.csv')\n",
      "out = r'I:\\Documents\\Klusjes\\GIDS Interpolation Air Temperature\\GSOD2009\\selection_nl'"
     ],
     "language": "python",
     "metadata": {},
     "outputs": [],
     "prompt_number": 3
    },
    {
     "cell_type": "code",
     "collapsed": false,
     "input": [
      "df.head(5)"
     ],
     "language": "python",
     "metadata": {},
     "outputs": [
      {
       "html": [
        "<div style=\"max-height:1000px;max-width:1500px;overflow:auto;\">\n",
        "<table border=\"1\" class=\"dataframe\">\n",
        "  <thead>\n",
        "    <tr style=\"text-align: right;\">\n",
        "      <th></th>\n",
        "      <th>OBJECTID_1</th>\n",
        "      <th>OBJECTID</th>\n",
        "      <th>USAF</th>\n",
        "      <th>ELEV1M</th>\n",
        "      <th>Elev_scaled</th>\n",
        "      <th>BEGIN_</th>\n",
        "      <th>END_</th>\n",
        "      <th>LAT_D</th>\n",
        "      <th>LON_D</th>\n",
        "      <th>POINT_X</th>\n",
        "      <th>POINT_Y</th>\n",
        "      <th>SCALED_X_LON</th>\n",
        "      <th>SCALED_Y_LAT</th>\n",
        "    </tr>\n",
        "  </thead>\n",
        "  <tbody>\n",
        "    <tr>\n",
        "      <th>0</th>\n",
        "      <td>  49</td>\n",
        "      <td> 2299</td>\n",
        "      <td> 62400</td>\n",
        "      <td>-40</td>\n",
        "      <td>-4</td>\n",
        "      <td> 19320503</td>\n",
        "      <td> 20130705</td>\n",
        "      <td> 52.30</td>\n",
        "      <td> 4.767</td>\n",
        "      <td>-1547428.582</td>\n",
        "      <td> 5690267.875</td>\n",
        "      <td>  9.185083</td>\n",
        "      <td> 8.384645</td>\n",
        "    </tr>\n",
        "    <tr>\n",
        "      <th>1</th>\n",
        "      <td> 104</td>\n",
        "      <td> 2360</td>\n",
        "      <td> 63440</td>\n",
        "      <td>-40</td>\n",
        "      <td>-4</td>\n",
        "      <td> 19570101</td>\n",
        "      <td> 20130705</td>\n",
        "      <td> 51.95</td>\n",
        "      <td> 4.450</td>\n",
        "      <td>-1591786.744</td>\n",
        "      <td> 5682095.146</td>\n",
        "      <td>  7.410757</td>\n",
        "      <td> 8.711554</td>\n",
        "    </tr>\n",
        "    <tr>\n",
        "      <th>2</th>\n",
        "      <td>  55</td>\n",
        "      <td> 2306</td>\n",
        "      <td> 62490</td>\n",
        "      <td>-30</td>\n",
        "      <td>-3</td>\n",
        "      <td> 20010701</td>\n",
        "      <td> 20130705</td>\n",
        "      <td> 52.65</td>\n",
        "      <td> 4.983</td>\n",
        "      <td>-1507443.590</td>\n",
        "      <td> 5703844.447</td>\n",
        "      <td> 10.784483</td>\n",
        "      <td> 7.841582</td>\n",
        "    </tr>\n",
        "    <tr>\n",
        "      <th>3</th>\n",
        "      <td>  66</td>\n",
        "      <td> 2319</td>\n",
        "      <td> 62690</td>\n",
        "      <td>-30</td>\n",
        "      <td>-3</td>\n",
        "      <td> 19940901</td>\n",
        "      <td> 20130705</td>\n",
        "      <td> 52.45</td>\n",
        "      <td> 5.533</td>\n",
        "      <td>-1502091.029</td>\n",
        "      <td> 5661105.993</td>\n",
        "      <td> 10.998585</td>\n",
        "      <td> 9.551121</td>\n",
        "    </tr>\n",
        "    <tr>\n",
        "      <th>4</th>\n",
        "      <td>  75</td>\n",
        "      <td> 2331</td>\n",
        "      <td> 62730</td>\n",
        "      <td>-30</td>\n",
        "      <td>-3</td>\n",
        "      <td> 19940901</td>\n",
        "      <td> 20130705</td>\n",
        "      <td> 52.70</td>\n",
        "      <td> 5.883</td>\n",
        "      <td>-1465408.922</td>\n",
        "      <td> 5660925.141</td>\n",
        "      <td> 12.465870</td>\n",
        "      <td> 9.558355</td>\n",
        "    </tr>\n",
        "  </tbody>\n",
        "</table>\n",
        "</div>"
       ],
       "output_type": "pyout",
       "prompt_number": 4,
       "text": [
        "   OBJECTID_1  OBJECTID   USAF  ELEV1M  Elev_scaled    BEGIN_      END_  \\\n",
        "0          49      2299  62400     -40           -4  19320503  20130705   \n",
        "1         104      2360  63440     -40           -4  19570101  20130705   \n",
        "2          55      2306  62490     -30           -3  20010701  20130705   \n",
        "3          66      2319  62690     -30           -3  19940901  20130705   \n",
        "4          75      2331  62730     -30           -3  19940901  20130705   \n",
        "\n",
        "   LAT_D  LON_D      POINT_X      POINT_Y  SCALED_X_LON  SCALED_Y_LAT  \n",
        "0  52.30  4.767 -1547428.582  5690267.875      9.185083      8.384645  \n",
        "1  51.95  4.450 -1591786.744  5682095.146      7.410757      8.711554  \n",
        "2  52.65  4.983 -1507443.590  5703844.447     10.784483      7.841582  \n",
        "3  52.45  5.533 -1502091.029  5661105.993     10.998585      9.551121  \n",
        "4  52.70  5.883 -1465408.922  5660925.141     12.465870      9.558355  "
       ]
      }
     ],
     "prompt_number": 4
    },
    {
     "cell_type": "code",
     "collapsed": false,
     "input": [
      "folder = [os.path.join(root, name)\n",
      "           for root, dirs, files in os.walk(r'I:\\Documents\\Klusjes\\GIDS Interpolation Air Temperature\\GSOD2009\\gsod_2012')\n",
      "             for name in files]"
     ],
     "language": "python",
     "metadata": {},
     "outputs": [],
     "prompt_number": 5
    },
    {
     "cell_type": "code",
     "collapsed": false,
     "input": [
      "for file in folder: \n",
      "    name = int(Decimal(os.path.basename(file)[:6]))\n",
      "    for x in df.ix[:,2]:\n",
      "        if str(x) == \"%05i\" % name:            \n",
      "            copyfile(file,out+\"\\\\\"+str(name)+os.path.basename(file)[6:])"
     ],
     "language": "python",
     "metadata": {},
     "outputs": [],
     "prompt_number": 28
    },
    {
     "cell_type": "code",
     "collapsed": false,
     "input": [
      "st_wmo = [os.path.join(root, name)\n",
      "           for root, dirs, files in os.walk(r'I:\\Data\\raw\\gsod_2009\\2009\\selection')\n",
      "             for name in files]"
     ],
     "language": "python",
     "metadata": {},
     "outputs": [],
     "prompt_number": 10
    },
    {
     "cell_type": "code",
     "collapsed": false,
     "input": [
      "def slices(s, *args):\n",
      "    position = 0\n",
      "    for length in args:\n",
      "        yield s[position:position + length]\n",
      "        position += length"
     ],
     "language": "python",
     "metadata": {},
     "outputs": [],
     "prompt_number": 9
    },
    {
     "cell_type": "code",
     "collapsed": false,
     "input": [
      "st_wmo[0]"
     ],
     "language": "python",
     "metadata": {},
     "outputs": [
      {
       "output_type": "pyout",
       "prompt_number": 11,
       "text": [
        "'I:\\\\Data\\\\raw\\\\gsod_2009\\\\2009\\\\selection\\\\450070-99999-2009.op'"
       ]
      }
     ],
     "prompt_number": 11
    },
    {
     "cell_type": "code",
     "collapsed": false,
     "input": [],
     "language": "python",
     "metadata": {},
     "outputs": []
    },
    {
     "cell_type": "code",
     "collapsed": false,
     "input": [],
     "language": "python",
     "metadata": {},
     "outputs": []
    },
    {
     "cell_type": "code",
     "collapsed": false,
     "input": [],
     "language": "python",
     "metadata": {},
     "outputs": []
    },
    {
     "cell_type": "code",
     "collapsed": false,
     "input": [
      "dg = df.set_index([0])"
     ],
     "language": "python",
     "metadata": {},
     "outputs": []
    },
    {
     "cell_type": "code",
     "collapsed": false,
     "input": [
      "a = pandas.DataFrame(np.zeros(0,dtype=[('USAF', np.int32),('STATION NAME', np.str),('LAT', float),('LON',float),('ELEV',np.int32)]))\n",
      "for station in df[0]:\n",
      "    for st in st_wmo:\n",
      "        name = int(Decimal(os.path.basename(st)[:6]))\n",
      "        #station = station\n",
      "        if station == name:\n",
      "            #print str(name)+' and '+str(station)+' match'\n",
      "            e = dg.xs(station)\n",
      "            a = a.append({'USAF':station,'STATION NAME':e[1],'LAT':e[2],'LON':e[3],'ELEV':e[4]},ignore_index=True)        \n",
      "print a.head()"
     ],
     "language": "python",
     "metadata": {},
     "outputs": []
    },
    {
     "cell_type": "code",
     "collapsed": false,
     "input": [
      "a.to_csv(r'C:\\Program Files\\ITT\\IDL\\IDL80\\resource\\ImageLook\\InputData\\china_1508_3.csv',index=False, header=True)"
     ],
     "language": "python",
     "metadata": {},
     "outputs": []
    },
    {
     "cell_type": "code",
     "collapsed": false,
     "input": [
      "import geopy"
     ],
     "language": "python",
     "metadata": {},
     "outputs": []
    },
    {
     "cell_type": "code",
     "collapsed": false,
     "input": [
      "loc = pandas.read_csv(r'C:\\Program Files\\ITT\\IDL\\IDL80\\resource\\ImageLook\\InputData\\china_15082013.csv')"
     ],
     "language": "python",
     "metadata": {},
     "outputs": []
    },
    {
     "cell_type": "code",
     "collapsed": false,
     "input": [
      "loc.head()"
     ],
     "language": "python",
     "metadata": {},
     "outputs": []
    },
    {
     "cell_type": "code",
     "collapsed": false,
     "input": [
      "loc.shape\n",
      "from geopy import distance as di\n",
      "from geopy import Point"
     ],
     "language": "python",
     "metadata": {},
     "outputs": []
    },
    {
     "cell_type": "code",
     "collapsed": false,
     "input": [
      "i = 0\n",
      "j = 1\n",
      "a = Point(loc.LAT[i],loc.LON[i])\n",
      "b = Point(loc.LAT[j],loc.LON[j])\n",
      "calc_dist = distance.distance(a,b).kilometers\n",
      "init_distance = 300\n",
      "if init_distance > calc_dist:\n",
      "    init_distance = calc_dist\n",
      "print a,b,calc_dist,init_distance"
     ],
     "language": "python",
     "metadata": {},
     "outputs": []
    },
    {
     "cell_type": "code",
     "collapsed": false,
     "input": [
      "q = pandas.Series()\n",
      "for i in range(391):    \n",
      "    init_distance = 300\n",
      "    print 'i is ', str(i)\n",
      "    a = Point((loc.LAT[i]/100),(loc.LON[i]/100))\n",
      "    for j in range(391):\n",
      "        print 'j is ', str(j)        \n",
      "        if i == j:\n",
      "            print j, i, 'is equal'            \n",
      "        else:\n",
      "            print j, i, 'is not equal'\n",
      "            b = Point((loc.LAT[j]/100),(loc.LON[j]/100))\n",
      "            calc_dist = di.distance(a,b).kilometers\n",
      "            if init_distance > calc_dist:\n",
      "                init_distance = calc_dist\n",
      "                print 'distance changed, new distance:', init_distance\n",
      "            else:\n",
      "                print 'distance is still:', init_distance\n",
      "    q = q.append(pandas.Series(init_distance, index=[i]))        "
     ],
     "language": "python",
     "metadata": {},
     "outputs": []
    },
    {
     "cell_type": "code",
     "collapsed": false,
     "input": [
      "z=q\n"
     ],
     "language": "python",
     "metadata": {},
     "outputs": []
    },
    {
     "cell_type": "code",
     "collapsed": false,
     "input": [
      "print z.sort"
     ],
     "language": "python",
     "metadata": {},
     "outputs": []
    },
    {
     "cell_type": "code",
     "collapsed": false,
     "input": [
      "print b"
     ],
     "language": "python",
     "metadata": {},
     "outputs": []
    },
    {
     "cell_type": "code",
     "collapsed": false,
     "input": [
      "loc.head(50)"
     ],
     "language": "python",
     "metadata": {},
     "outputs": []
    },
    {
     "cell_type": "code",
     "collapsed": false,
     "input": [],
     "language": "python",
     "metadata": {},
     "outputs": []
    }
   ],
   "metadata": {}
  }
 ]
}