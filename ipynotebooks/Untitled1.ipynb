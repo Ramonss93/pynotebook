{
 "metadata": {
  "name": "Untitled1"
 },
 "nbformat": 3,
 "nbformat_minor": 0,
 "worksheets": [
  {
   "cells": [
    {
     "cell_type": "code",
     "collapsed": false,
     "input": [
      "import os\n",
      "import pandas as pd\n",
      "import gdal\n",
      "import numpy as np\n",
      "import numpy.ma as ma\n",
      "import datetime\n",
      "from gdalconst import *"
     ],
     "language": "python",
     "metadata": {},
     "outputs": [],
     "prompt_number": 1
    },
    {
     "cell_type": "code",
     "collapsed": false,
     "input": [
      "prcpFiles = r'I:\\Data\\AirTemp'\n",
      "outFilename = r'I:\\Data\\AirTemp\\8Day_Interval_Avg\\2009001.tif'\n",
      "def rasterList(varpath, endwith, namefile):\n",
      "    # 1 - Precipitation\n",
      "    input_folder = varpath\n",
      "    varList = [os.path.join(root, name)\n",
      "                 for root, dirs, files in os.walk(input_folder)\n",
      "                 for name in files\n",
      "                 if name.endswith((endwith))]\n",
      "    print namefile + \" files : \"  + str(len(varList))\n",
      "    return varList\n",
      "prcpList = rasterList(prcpFiles, \".tif\", \"AirTemp\")"
     ],
     "language": "python",
     "metadata": {},
     "outputs": [
      {
       "output_type": "stream",
       "stream": "stdout",
       "text": [
        "AirTemp files : 366\n"
       ]
      }
     ],
     "prompt_number": 2
    },
    {
     "cell_type": "code",
     "collapsed": false,
     "input": [
      "a = prcpList[0:8]\n",
      "a"
     ],
     "language": "python",
     "metadata": {},
     "outputs": []
    },
    {
     "cell_type": "code",
     "collapsed": false,
     "input": [
      "for i in xrange(0,365,8):\n",
      "    j = i + 8\n",
      "    a = prcpList[i:j]\n",
      "    "
     ],
     "language": "python",
     "metadata": {},
     "outputs": [
      {
       "output_type": "stream",
       "stream": "stdout",
       "text": [
        "['I:\\\\Data\\\\AirTemp\\\\20090101.tif', 'I:\\\\Data\\\\AirTemp\\\\20090102.tif', 'I:\\\\Data\\\\AirTemp\\\\20090103.tif', 'I:\\\\Data\\\\AirTemp\\\\20090104.tif', 'I:\\\\Data\\\\AirTemp\\\\20090105.tif', 'I:\\\\Data\\\\AirTemp\\\\20090106.tif', 'I:\\\\Data\\\\AirTemp\\\\20090107.tif', 'I:\\\\Data\\\\AirTemp\\\\20090108.tif']\n",
        "['I:\\\\Data\\\\AirTemp\\\\20090109.tif', 'I:\\\\Data\\\\AirTemp\\\\20090110.tif', 'I:\\\\Data\\\\AirTemp\\\\20090111.tif', 'I:\\\\Data\\\\AirTemp\\\\20090112.tif', 'I:\\\\Data\\\\AirTemp\\\\20090113.tif', 'I:\\\\Data\\\\AirTemp\\\\20090114.tif', 'I:\\\\Data\\\\AirTemp\\\\20090115.tif', 'I:\\\\Data\\\\AirTemp\\\\20090116.tif']\n",
        "['I:\\\\Data\\\\AirTemp\\\\20090117.tif', 'I:\\\\Data\\\\AirTemp\\\\20090118.tif', 'I:\\\\Data\\\\AirTemp\\\\20090119.tif', 'I:\\\\Data\\\\AirTemp\\\\20090120.tif', 'I:\\\\Data\\\\AirTemp\\\\20090121.tif', 'I:\\\\Data\\\\AirTemp\\\\20090122.tif', 'I:\\\\Data\\\\AirTemp\\\\20090123.tif', 'I:\\\\Data\\\\AirTemp\\\\20090124.tif']\n",
        "['I:\\\\Data\\\\AirTemp\\\\20090125.tif', 'I:\\\\Data\\\\AirTemp\\\\20090126.tif', 'I:\\\\Data\\\\AirTemp\\\\20090127.tif', 'I:\\\\Data\\\\AirTemp\\\\20090128.tif', 'I:\\\\Data\\\\AirTemp\\\\20090129.tif', 'I:\\\\Data\\\\AirTemp\\\\20090130.tif', 'I:\\\\Data\\\\AirTemp\\\\20090131.tif', 'I:\\\\Data\\\\AirTemp\\\\20090201.tif']\n",
        "['I:\\\\Data\\\\AirTemp\\\\20090202.tif', 'I:\\\\Data\\\\AirTemp\\\\20090203.tif', 'I:\\\\Data\\\\AirTemp\\\\20090204.tif', 'I:\\\\Data\\\\AirTemp\\\\20090205.tif', 'I:\\\\Data\\\\AirTemp\\\\20090206.tif', 'I:\\\\Data\\\\AirTemp\\\\20090207.tif', 'I:\\\\Data\\\\AirTemp\\\\20090208.tif', 'I:\\\\Data\\\\AirTemp\\\\20090209.tif']\n",
        "['I:\\\\Data\\\\AirTemp\\\\20090210.tif', 'I:\\\\Data\\\\AirTemp\\\\20090211.tif', 'I:\\\\Data\\\\AirTemp\\\\20090212.tif', 'I:\\\\Data\\\\AirTemp\\\\20090213.tif', 'I:\\\\Data\\\\AirTemp\\\\20090214.tif', 'I:\\\\Data\\\\AirTemp\\\\20090215.tif', 'I:\\\\Data\\\\AirTemp\\\\20090216.tif', 'I:\\\\Data\\\\AirTemp\\\\20090217.tif']\n",
        "['I:\\\\Data\\\\AirTemp\\\\20090218.tif', 'I:\\\\Data\\\\AirTemp\\\\20090219.tif', 'I:\\\\Data\\\\AirTemp\\\\20090220.tif', 'I:\\\\Data\\\\AirTemp\\\\20090221.tif', 'I:\\\\Data\\\\AirTemp\\\\20090222.tif', 'I:\\\\Data\\\\AirTemp\\\\20090223.tif', 'I:\\\\Data\\\\AirTemp\\\\20090224.tif', 'I:\\\\Data\\\\AirTemp\\\\20090225.tif']\n",
        "['I:\\\\Data\\\\AirTemp\\\\20090226.tif', 'I:\\\\Data\\\\AirTemp\\\\20090227.tif', 'I:\\\\Data\\\\AirTemp\\\\20090228.tif', 'I:\\\\Data\\\\AirTemp\\\\20090301.tif', 'I:\\\\Data\\\\AirTemp\\\\20090302.tif', 'I:\\\\Data\\\\AirTemp\\\\20090303.tif', 'I:\\\\Data\\\\AirTemp\\\\20090304.tif', 'I:\\\\Data\\\\AirTemp\\\\20090305.tif']\n",
        "['I:\\\\Data\\\\AirTemp\\\\20090306.tif', 'I:\\\\Data\\\\AirTemp\\\\20090307.tif', 'I:\\\\Data\\\\AirTemp\\\\20090308.tif', 'I:\\\\Data\\\\AirTemp\\\\20090309.tif', 'I:\\\\Data\\\\AirTemp\\\\20090310.tif', 'I:\\\\Data\\\\AirTemp\\\\20090311.tif', 'I:\\\\Data\\\\AirTemp\\\\20090312.tif', 'I:\\\\Data\\\\AirTemp\\\\20090313.tif']\n",
        "['I:\\\\Data\\\\AirTemp\\\\20090314.tif', 'I:\\\\Data\\\\AirTemp\\\\20090315.tif', 'I:\\\\Data\\\\AirTemp\\\\20090316.tif', 'I:\\\\Data\\\\AirTemp\\\\20090317.tif', 'I:\\\\Data\\\\AirTemp\\\\20090318.tif', 'I:\\\\Data\\\\AirTemp\\\\20090319.tif', 'I:\\\\Data\\\\AirTemp\\\\20090320.tif', 'I:\\\\Data\\\\AirTemp\\\\20090321.tif']\n",
        "['I:\\\\Data\\\\AirTemp\\\\20090322.tif', 'I:\\\\Data\\\\AirTemp\\\\20090323.tif', 'I:\\\\Data\\\\AirTemp\\\\20090324.tif', 'I:\\\\Data\\\\AirTemp\\\\20090325.tif', 'I:\\\\Data\\\\AirTemp\\\\20090326.tif', 'I:\\\\Data\\\\AirTemp\\\\20090327.tif', 'I:\\\\Data\\\\AirTemp\\\\20090328.tif', 'I:\\\\Data\\\\AirTemp\\\\20090329.tif']\n",
        "['I:\\\\Data\\\\AirTemp\\\\20090330.tif', 'I:\\\\Data\\\\AirTemp\\\\20090331.tif', 'I:\\\\Data\\\\AirTemp\\\\20090401.tif', 'I:\\\\Data\\\\AirTemp\\\\20090402.tif', 'I:\\\\Data\\\\AirTemp\\\\20090403.tif', 'I:\\\\Data\\\\AirTemp\\\\20090404.tif', 'I:\\\\Data\\\\AirTemp\\\\20090405.tif', 'I:\\\\Data\\\\AirTemp\\\\20090406.tif']\n",
        "['I:\\\\Data\\\\AirTemp\\\\20090407.tif', 'I:\\\\Data\\\\AirTemp\\\\20090408.tif', 'I:\\\\Data\\\\AirTemp\\\\20090409.tif', 'I:\\\\Data\\\\AirTemp\\\\20090410.tif', 'I:\\\\Data\\\\AirTemp\\\\20090411.tif', 'I:\\\\Data\\\\AirTemp\\\\20090412.tif', 'I:\\\\Data\\\\AirTemp\\\\20090413.tif', 'I:\\\\Data\\\\AirTemp\\\\20090414.tif']\n",
        "['I:\\\\Data\\\\AirTemp\\\\20090415.tif', 'I:\\\\Data\\\\AirTemp\\\\20090416.tif', 'I:\\\\Data\\\\AirTemp\\\\20090417.tif', 'I:\\\\Data\\\\AirTemp\\\\20090418.tif', 'I:\\\\Data\\\\AirTemp\\\\20090419.tif', 'I:\\\\Data\\\\AirTemp\\\\20090420.tif', 'I:\\\\Data\\\\AirTemp\\\\20090421.tif', 'I:\\\\Data\\\\AirTemp\\\\20090422.tif']\n",
        "['I:\\\\Data\\\\AirTemp\\\\20090423.tif', 'I:\\\\Data\\\\AirTemp\\\\20090424.tif', 'I:\\\\Data\\\\AirTemp\\\\20090425.tif', 'I:\\\\Data\\\\AirTemp\\\\20090426.tif', 'I:\\\\Data\\\\AirTemp\\\\20090427.tif', 'I:\\\\Data\\\\AirTemp\\\\20090428.tif', 'I:\\\\Data\\\\AirTemp\\\\20090429.tif', 'I:\\\\Data\\\\AirTemp\\\\20090430.tif']\n",
        "['I:\\\\Data\\\\AirTemp\\\\20090501.tif', 'I:\\\\Data\\\\AirTemp\\\\20090502.tif', 'I:\\\\Data\\\\AirTemp\\\\20090503.tif', 'I:\\\\Data\\\\AirTemp\\\\20090504.tif', 'I:\\\\Data\\\\AirTemp\\\\20090505.tif', 'I:\\\\Data\\\\AirTemp\\\\20090506.tif', 'I:\\\\Data\\\\AirTemp\\\\20090507.tif', 'I:\\\\Data\\\\AirTemp\\\\20090508.tif']\n",
        "['I:\\\\Data\\\\AirTemp\\\\20090509.tif', 'I:\\\\Data\\\\AirTemp\\\\20090510.tif', 'I:\\\\Data\\\\AirTemp\\\\20090511.tif', 'I:\\\\Data\\\\AirTemp\\\\20090512.tif', 'I:\\\\Data\\\\AirTemp\\\\20090513.tif', 'I:\\\\Data\\\\AirTemp\\\\20090514.tif', 'I:\\\\Data\\\\AirTemp\\\\20090515.tif', 'I:\\\\Data\\\\AirTemp\\\\20090516.tif']\n",
        "['I:\\\\Data\\\\AirTemp\\\\20090517.tif', 'I:\\\\Data\\\\AirTemp\\\\20090518.tif', 'I:\\\\Data\\\\AirTemp\\\\20090519.tif', 'I:\\\\Data\\\\AirTemp\\\\20090520.tif', 'I:\\\\Data\\\\AirTemp\\\\20090521.tif', 'I:\\\\Data\\\\AirTemp\\\\20090522.tif', 'I:\\\\Data\\\\AirTemp\\\\20090523.tif', 'I:\\\\Data\\\\AirTemp\\\\20090524.tif']\n",
        "['I:\\\\Data\\\\AirTemp\\\\20090525.tif', 'I:\\\\Data\\\\AirTemp\\\\20090526.tif', 'I:\\\\Data\\\\AirTemp\\\\20090527.tif', 'I:\\\\Data\\\\AirTemp\\\\20090528.tif', 'I:\\\\Data\\\\AirTemp\\\\20090529.tif', 'I:\\\\Data\\\\AirTemp\\\\20090530.tif', 'I:\\\\Data\\\\AirTemp\\\\20090531.tif', 'I:\\\\Data\\\\AirTemp\\\\20090601.tif']\n",
        "['I:\\\\Data\\\\AirTemp\\\\20090602.tif', 'I:\\\\Data\\\\AirTemp\\\\20090603.tif', 'I:\\\\Data\\\\AirTemp\\\\20090604.tif', 'I:\\\\Data\\\\AirTemp\\\\20090605.tif', 'I:\\\\Data\\\\AirTemp\\\\20090606.tif', 'I:\\\\Data\\\\AirTemp\\\\20090607.tif', 'I:\\\\Data\\\\AirTemp\\\\20090608.tif', 'I:\\\\Data\\\\AirTemp\\\\20090609.tif']\n",
        "['I:\\\\Data\\\\AirTemp\\\\20090610.tif', 'I:\\\\Data\\\\AirTemp\\\\20090611.tif', 'I:\\\\Data\\\\AirTemp\\\\20090612.tif', 'I:\\\\Data\\\\AirTemp\\\\20090613.tif', 'I:\\\\Data\\\\AirTemp\\\\20090614.tif', 'I:\\\\Data\\\\AirTemp\\\\20090615.tif', 'I:\\\\Data\\\\AirTemp\\\\20090616.tif', 'I:\\\\Data\\\\AirTemp\\\\20090617.tif']\n",
        "['I:\\\\Data\\\\AirTemp\\\\20090618.tif', 'I:\\\\Data\\\\AirTemp\\\\20090619.tif', 'I:\\\\Data\\\\AirTemp\\\\20090620.tif', 'I:\\\\Data\\\\AirTemp\\\\20090621.tif', 'I:\\\\Data\\\\AirTemp\\\\20090622.tif', 'I:\\\\Data\\\\AirTemp\\\\20090623.tif', 'I:\\\\Data\\\\AirTemp\\\\20090624.tif', 'I:\\\\Data\\\\AirTemp\\\\20090625.tif']\n",
        "['I:\\\\Data\\\\AirTemp\\\\20090626.tif', 'I:\\\\Data\\\\AirTemp\\\\20090627.tif', 'I:\\\\Data\\\\AirTemp\\\\20090628.tif', 'I:\\\\Data\\\\AirTemp\\\\20090629.tif', 'I:\\\\Data\\\\AirTemp\\\\20090630.tif', 'I:\\\\Data\\\\AirTemp\\\\20090701.tif', 'I:\\\\Data\\\\AirTemp\\\\20090702.tif', 'I:\\\\Data\\\\AirTemp\\\\20090703.tif']\n",
        "['I:\\\\Data\\\\AirTemp\\\\20090704.tif', 'I:\\\\Data\\\\AirTemp\\\\20090705.tif', 'I:\\\\Data\\\\AirTemp\\\\20090706.tif', 'I:\\\\Data\\\\AirTemp\\\\20090707.tif', 'I:\\\\Data\\\\AirTemp\\\\20090708.tif', 'I:\\\\Data\\\\AirTemp\\\\20090709.tif', 'I:\\\\Data\\\\AirTemp\\\\20090710.tif', 'I:\\\\Data\\\\AirTemp\\\\20090711.tif']\n",
        "['I:\\\\Data\\\\AirTemp\\\\20090712.tif', 'I:\\\\Data\\\\AirTemp\\\\20090713.tif', 'I:\\\\Data\\\\AirTemp\\\\20090714.tif', 'I:\\\\Data\\\\AirTemp\\\\20090715.tif', 'I:\\\\Data\\\\AirTemp\\\\20090716.tif', 'I:\\\\Data\\\\AirTemp\\\\20090717.tif', 'I:\\\\Data\\\\AirTemp\\\\20090718.tif', 'I:\\\\Data\\\\AirTemp\\\\20090719.tif']\n",
        "['I:\\\\Data\\\\AirTemp\\\\20090720.tif', 'I:\\\\Data\\\\AirTemp\\\\20090721.tif', 'I:\\\\Data\\\\AirTemp\\\\20090722.tif', 'I:\\\\Data\\\\AirTemp\\\\20090723.tif', 'I:\\\\Data\\\\AirTemp\\\\20090724.tif', 'I:\\\\Data\\\\AirTemp\\\\20090725.tif', 'I:\\\\Data\\\\AirTemp\\\\20090726.tif', 'I:\\\\Data\\\\AirTemp\\\\20090727.tif']\n",
        "['I:\\\\Data\\\\AirTemp\\\\20090728.tif', 'I:\\\\Data\\\\AirTemp\\\\20090729.tif', 'I:\\\\Data\\\\AirTemp\\\\20090730.tif', 'I:\\\\Data\\\\AirTemp\\\\20090731.tif', 'I:\\\\Data\\\\AirTemp\\\\20090801.tif', 'I:\\\\Data\\\\AirTemp\\\\20090802.tif', 'I:\\\\Data\\\\AirTemp\\\\20090803.tif', 'I:\\\\Data\\\\AirTemp\\\\20090804.tif']\n",
        "['I:\\\\Data\\\\AirTemp\\\\20090805.tif', 'I:\\\\Data\\\\AirTemp\\\\20090806.tif', 'I:\\\\Data\\\\AirTemp\\\\20090807.tif', 'I:\\\\Data\\\\AirTemp\\\\20090808.tif', 'I:\\\\Data\\\\AirTemp\\\\20090809.tif', 'I:\\\\Data\\\\AirTemp\\\\20090810.tif', 'I:\\\\Data\\\\AirTemp\\\\20090811.tif', 'I:\\\\Data\\\\AirTemp\\\\20090812.tif']\n",
        "['I:\\\\Data\\\\AirTemp\\\\20090813.tif', 'I:\\\\Data\\\\AirTemp\\\\20090814.tif', 'I:\\\\Data\\\\AirTemp\\\\20090815.tif', 'I:\\\\Data\\\\AirTemp\\\\20090816.tif', 'I:\\\\Data\\\\AirTemp\\\\20090817.tif', 'I:\\\\Data\\\\AirTemp\\\\20090818.tif', 'I:\\\\Data\\\\AirTemp\\\\20090819.tif', 'I:\\\\Data\\\\AirTemp\\\\20090820.tif']\n",
        "['I:\\\\Data\\\\AirTemp\\\\20090821.tif', 'I:\\\\Data\\\\AirTemp\\\\20090822.tif', 'I:\\\\Data\\\\AirTemp\\\\20090823.tif', 'I:\\\\Data\\\\AirTemp\\\\20090824.tif', 'I:\\\\Data\\\\AirTemp\\\\20090825.tif', 'I:\\\\Data\\\\AirTemp\\\\20090826.tif', 'I:\\\\Data\\\\AirTemp\\\\20090827.tif', 'I:\\\\Data\\\\AirTemp\\\\20090828.tif']\n",
        "['I:\\\\Data\\\\AirTemp\\\\20090829.tif', 'I:\\\\Data\\\\AirTemp\\\\20090830.tif', 'I:\\\\Data\\\\AirTemp\\\\20090831.tif', 'I:\\\\Data\\\\AirTemp\\\\20090901.tif', 'I:\\\\Data\\\\AirTemp\\\\20090902.tif', 'I:\\\\Data\\\\AirTemp\\\\20090903.tif', 'I:\\\\Data\\\\AirTemp\\\\20090904.tif', 'I:\\\\Data\\\\AirTemp\\\\20090905.tif']\n",
        "['I:\\\\Data\\\\AirTemp\\\\20090906.tif', 'I:\\\\Data\\\\AirTemp\\\\20090907.tif', 'I:\\\\Data\\\\AirTemp\\\\20090908.tif', 'I:\\\\Data\\\\AirTemp\\\\20090909.tif', 'I:\\\\Data\\\\AirTemp\\\\20090910.tif', 'I:\\\\Data\\\\AirTemp\\\\20090911.tif', 'I:\\\\Data\\\\AirTemp\\\\20090912.tif', 'I:\\\\Data\\\\AirTemp\\\\20090913.tif']\n",
        "['I:\\\\Data\\\\AirTemp\\\\20090914.tif', 'I:\\\\Data\\\\AirTemp\\\\20090915.tif', 'I:\\\\Data\\\\AirTemp\\\\20090916.tif', 'I:\\\\Data\\\\AirTemp\\\\20090917.tif', 'I:\\\\Data\\\\AirTemp\\\\20090918.tif', 'I:\\\\Data\\\\AirTemp\\\\20090919.tif', 'I:\\\\Data\\\\AirTemp\\\\20090920.tif', 'I:\\\\Data\\\\AirTemp\\\\20090921.tif']\n",
        "['I:\\\\Data\\\\AirTemp\\\\20090922.tif', 'I:\\\\Data\\\\AirTemp\\\\20090923.tif', 'I:\\\\Data\\\\AirTemp\\\\20090924.tif', 'I:\\\\Data\\\\AirTemp\\\\20090925.tif', 'I:\\\\Data\\\\AirTemp\\\\20090926.tif', 'I:\\\\Data\\\\AirTemp\\\\20090927.tif', 'I:\\\\Data\\\\AirTemp\\\\20090928.tif', 'I:\\\\Data\\\\AirTemp\\\\20090929.tif']\n",
        "['I:\\\\Data\\\\AirTemp\\\\20090930.tif', 'I:\\\\Data\\\\AirTemp\\\\20091001.tif', 'I:\\\\Data\\\\AirTemp\\\\20091002.tif', 'I:\\\\Data\\\\AirTemp\\\\20091003.tif', 'I:\\\\Data\\\\AirTemp\\\\20091004.tif', 'I:\\\\Data\\\\AirTemp\\\\20091005.tif', 'I:\\\\Data\\\\AirTemp\\\\20091006.tif', 'I:\\\\Data\\\\AirTemp\\\\20091007.tif']\n",
        "['I:\\\\Data\\\\AirTemp\\\\20091008.tif', 'I:\\\\Data\\\\AirTemp\\\\20091009.tif', 'I:\\\\Data\\\\AirTemp\\\\20091010.tif', 'I:\\\\Data\\\\AirTemp\\\\20091011.tif', 'I:\\\\Data\\\\AirTemp\\\\20091012.tif', 'I:\\\\Data\\\\AirTemp\\\\20091013.tif', 'I:\\\\Data\\\\AirTemp\\\\20091014.tif', 'I:\\\\Data\\\\AirTemp\\\\20091015.tif']\n",
        "['I:\\\\Data\\\\AirTemp\\\\20091016.tif', 'I:\\\\Data\\\\AirTemp\\\\20091017.tif', 'I:\\\\Data\\\\AirTemp\\\\20091018.tif', 'I:\\\\Data\\\\AirTemp\\\\20091019.tif', 'I:\\\\Data\\\\AirTemp\\\\20091020.tif', 'I:\\\\Data\\\\AirTemp\\\\20091021.tif', 'I:\\\\Data\\\\AirTemp\\\\20091022.tif', 'I:\\\\Data\\\\AirTemp\\\\20091023.tif']\n",
        "['I:\\\\Data\\\\AirTemp\\\\20091024.tif', 'I:\\\\Data\\\\AirTemp\\\\20091025.tif', 'I:\\\\Data\\\\AirTemp\\\\20091026.tif', 'I:\\\\Data\\\\AirTemp\\\\20091027.tif', 'I:\\\\Data\\\\AirTemp\\\\20091028.tif', 'I:\\\\Data\\\\AirTemp\\\\20091029.tif', 'I:\\\\Data\\\\AirTemp\\\\20091030.tif', 'I:\\\\Data\\\\AirTemp\\\\20091031.tif']\n",
        "['I:\\\\Data\\\\AirTemp\\\\20091101.tif', 'I:\\\\Data\\\\AirTemp\\\\20091102.tif', 'I:\\\\Data\\\\AirTemp\\\\20091103.tif', 'I:\\\\Data\\\\AirTemp\\\\20091104.tif', 'I:\\\\Data\\\\AirTemp\\\\20091105.tif', 'I:\\\\Data\\\\AirTemp\\\\20091106.tif', 'I:\\\\Data\\\\AirTemp\\\\20091107.tif', 'I:\\\\Data\\\\AirTemp\\\\20091108.tif']\n",
        "['I:\\\\Data\\\\AirTemp\\\\20091109.tif', 'I:\\\\Data\\\\AirTemp\\\\20091110.tif', 'I:\\\\Data\\\\AirTemp\\\\20091111.tif', 'I:\\\\Data\\\\AirTemp\\\\20091112.tif', 'I:\\\\Data\\\\AirTemp\\\\20091113.tif', 'I:\\\\Data\\\\AirTemp\\\\20091114.tif', 'I:\\\\Data\\\\AirTemp\\\\20091115.tif', 'I:\\\\Data\\\\AirTemp\\\\20091116.tif']\n",
        "['I:\\\\Data\\\\AirTemp\\\\20091117.tif', 'I:\\\\Data\\\\AirTemp\\\\20091118.tif', 'I:\\\\Data\\\\AirTemp\\\\20091119.tif', 'I:\\\\Data\\\\AirTemp\\\\20091120.tif', 'I:\\\\Data\\\\AirTemp\\\\20091121.tif', 'I:\\\\Data\\\\AirTemp\\\\20091122.tif', 'I:\\\\Data\\\\AirTemp\\\\20091123.tif', 'I:\\\\Data\\\\AirTemp\\\\20091124.tif']\n",
        "['I:\\\\Data\\\\AirTemp\\\\20091125.tif', 'I:\\\\Data\\\\AirTemp\\\\20091126.tif', 'I:\\\\Data\\\\AirTemp\\\\20091127.tif', 'I:\\\\Data\\\\AirTemp\\\\20091128.tif', 'I:\\\\Data\\\\AirTemp\\\\20091129.tif', 'I:\\\\Data\\\\AirTemp\\\\20091130.tif', 'I:\\\\Data\\\\AirTemp\\\\20091201.tif', 'I:\\\\Data\\\\AirTemp\\\\20091202.tif']\n",
        "['I:\\\\Data\\\\AirTemp\\\\20091203.tif', 'I:\\\\Data\\\\AirTemp\\\\20091204.tif', 'I:\\\\Data\\\\AirTemp\\\\20091205.tif', 'I:\\\\Data\\\\AirTemp\\\\20091206.tif', 'I:\\\\Data\\\\AirTemp\\\\20091207.tif', 'I:\\\\Data\\\\AirTemp\\\\20091208.tif', 'I:\\\\Data\\\\AirTemp\\\\20091209.tif', 'I:\\\\Data\\\\AirTemp\\\\20091210.tif']\n",
        "['I:\\\\Data\\\\AirTemp\\\\20091211.tif', 'I:\\\\Data\\\\AirTemp\\\\20091212.tif', 'I:\\\\Data\\\\AirTemp\\\\20091213.tif', 'I:\\\\Data\\\\AirTemp\\\\20091214.tif', 'I:\\\\Data\\\\AirTemp\\\\20091215.tif', 'I:\\\\Data\\\\AirTemp\\\\20091216.tif', 'I:\\\\Data\\\\AirTemp\\\\20091217.tif', 'I:\\\\Data\\\\AirTemp\\\\20091218.tif']\n",
        "['I:\\\\Data\\\\AirTemp\\\\20091219.tif', 'I:\\\\Data\\\\AirTemp\\\\20091220.tif', 'I:\\\\Data\\\\AirTemp\\\\20091221.tif', 'I:\\\\Data\\\\AirTemp\\\\20091222.tif', 'I:\\\\Data\\\\AirTemp\\\\20091223.tif', 'I:\\\\Data\\\\AirTemp\\\\20091224.tif', 'I:\\\\Data\\\\AirTemp\\\\20091225.tif', 'I:\\\\Data\\\\AirTemp\\\\20091226.tif']\n",
        "['I:\\\\Data\\\\AirTemp\\\\20091227.tif', 'I:\\\\Data\\\\AirTemp\\\\20091228.tif', 'I:\\\\Data\\\\AirTemp\\\\20091229.tif', 'I:\\\\Data\\\\AirTemp\\\\20091230.tif', 'I:\\\\Data\\\\AirTemp\\\\20091231.tif', 'I:\\\\Data\\\\AirTemp\\\\8Day_Interval_Avg\\\\2009001.tif']\n"
       ]
      }
     ],
     "prompt_number": 28
    },
    {
     "cell_type": "code",
     "collapsed": false,
     "input": [
      "gdal."
     ],
     "language": "python",
     "metadata": {},
     "outputs": [
      {
       "output_type": "stream",
       "stream": "stdout",
       "text": [
        "[[0, 1, 2, 3, 4, 5, 6, 7],\n",
        " [8, 9, 10, 11, 12, 13, 14, 15],\n",
        " [16, 17, 18, 19, 20, 21, 22, 23],\n",
        " [24, 25, 26, 27, 28, 29, 30, 31],\n",
        " [32, 33, 34, 35, 36, 37, 38, 39],\n",
        " [40, 41, 42, 43, 44, 45, 46, 47],\n",
        " [48, 49, 50, 51, 52, 53, 54, 55],\n",
        " [56, 57, 58, 59, 60, 61, 62, 63],\n",
        " [64, 65, 66, 67, 68, 69, 70, 71],\n",
        " [72, 73, 74, 75, 76, 77, 78, 79],\n",
        " [80, 81, 82, 83, 84, 85, 86, 87],\n",
        " [88, 89, 90, 91, 92, 93, 94, 95],\n",
        " [96, 97, 98, 99, 100, 101, 102, 103],\n",
        " [104, 105, 106, 107, 108, 109, 110, 111],\n",
        " [112, 113, 114, 115, 116, 117, 118, 119],\n",
        " [120, 121, 122, 123, 124, 125, 126, 127],\n",
        " [128, 129, 130, 131, 132, 133, 134, 135],\n",
        " [136, 137, 138, 139, 140, 141, 142, 143],\n",
        " [144, 145, 146, 147, 148, 149, 150, 151],\n",
        " [152, 153, 154, 155, 156, 157, 158, 159],\n",
        " [160, 161, 162, 163, 164, 165, 166, 167],\n",
        " [168, 169, 170, 171, 172, 173, 174, 175],\n",
        " [176, 177, 178, 179, 180, 181, 182, 183],\n",
        " [184, 185, 186, 187, 188, 189, 190, 191],\n",
        " [192, 193, 194, 195, 196, 197, 198, 199],\n",
        " [200, 201, 202, 203, 204, 205, 206, 207],\n",
        " [208, 209, 210, 211, 212, 213, 214, 215],\n",
        " [216, 217, 218, 219, 220, 221, 222, 223],\n",
        " [224, 225, 226, 227, 228, 229, 230, 231],\n",
        " [232, 233, 234, 235, 236, 237, 238, 239],\n",
        " [240, 241, 242, 243, 244, 245, 246, 247],\n",
        " [248, 249, 250, 251, 252, 253, 254, 255],\n",
        " [256, 257, 258, 259, 260, 261, 262, 263],\n",
        " [264, 265, 266, 267, 268, 269, 270, 271],\n",
        " [272, 273, 274, 275, 276, 277, 278, 279],\n",
        " [280, 281, 282, 283, 284, 285, 286, 287],\n",
        " [288, 289, 290, 291, 292, 293, 294, 295],\n",
        " [296, 297, 298, 299, 300, 301, 302, 303],\n",
        " [304, 305, 306, 307, 308, 309, 310, 311],\n",
        " [312, 313, 314, 315, 316, 317, 318, 319],\n",
        " [320, 321, 322, 323, 324, 325, 326, 327],\n",
        " [328, 329, 330, 331, 332, 333, 334, 335],\n",
        " [336, 337, 338, 339, 340, 341, 342, 343],\n",
        " [344, 345, 346, 347, 348, 349, 350, 351],\n",
        " [352, 353, 354, 355, 356, 357, 358, 359],\n",
        " [360, 361, 362, 363, 364]]\n"
       ]
      }
     ],
     "prompt_number": 25
    },
    {
     "cell_type": "code",
     "collapsed": false,
     "input": [
      "filein = r'I:/NVAI_20132091.tif'\n",
      "ds0 = gdal.Open(filein, GA_Update)\n",
      "band0 = ds0.GetRasterBand(1)\n",
      "data0 = band0.ReadAsArray()\n",
      "NA0 = band0.GetNoDataValue()"
     ],
     "language": "python",
     "metadata": {},
     "outputs": [],
     "prompt_number": 35
    },
    {
     "cell_type": "code",
     "collapsed": false,
     "input": [
      "NA0"
     ],
     "language": "python",
     "metadata": {},
     "outputs": [
      {
       "output_type": "pyout",
       "prompt_number": 36,
       "text": [
        "-3.4028234663852886e+38"
       ]
      }
     ],
     "prompt_number": 36
    },
    {
     "cell_type": "code",
     "collapsed": false,
     "input": [
      "band0.SetNoDataValue(float(-1))"
     ],
     "language": "python",
     "metadata": {},
     "outputs": [
      {
       "output_type": "pyout",
       "prompt_number": 34,
       "text": [
        "0"
       ]
      }
     ],
     "prompt_number": 34
    },
    {
     "cell_type": "code",
     "collapsed": false,
     "input": [
      "data0"
     ],
     "language": "python",
     "metadata": {},
     "outputs": [
      {
       "output_type": "pyout",
       "prompt_number": 37,
       "text": [
        "array([[ nan,  nan,  nan, ...,  nan,  nan,  nan],\n",
        "       [ nan,  nan,  nan, ...,  nan,  nan,  nan],\n",
        "       [ nan,  nan,  nan, ...,  nan,  nan,  nan],\n",
        "       ..., \n",
        "       [ nan,  nan,  nan, ...,  nan,  nan,  nan],\n",
        "       [ nan,  nan,  nan, ...,  nan,  nan,  nan],\n",
        "       [ nan,  nan,  nan, ...,  nan,  nan,  nan]], dtype=float32)"
       ]
      }
     ],
     "prompt_number": 37
    },
    {
     "cell_type": "code",
     "collapsed": false,
     "input": [
      "mylist = set(data0)"
     ],
     "language": "python",
     "metadata": {},
     "outputs": [
      {
       "ename": "TypeError",
       "evalue": "unhashable type: 'numpy.ndarray'",
       "output_type": "pyerr",
       "traceback": [
        "\u001b[1;31m---------------------------------------------------------------------------\u001b[0m\n\u001b[1;31mTypeError\u001b[0m                                 Traceback (most recent call last)",
        "\u001b[1;32m<ipython-input-38-e281b1136c41>\u001b[0m in \u001b[0;36m<module>\u001b[1;34m()\u001b[0m\n\u001b[1;32m----> 1\u001b[1;33m \u001b[0mmylist\u001b[0m \u001b[1;33m=\u001b[0m \u001b[0mset\u001b[0m\u001b[1;33m(\u001b[0m\u001b[0mdata0\u001b[0m\u001b[1;33m)\u001b[0m\u001b[1;33m\u001b[0m\u001b[0m\n\u001b[0m",
        "\u001b[1;31mTypeError\u001b[0m: unhashable type: 'numpy.ndarray'"
       ]
      }
     ],
     "prompt_number": 38
    },
    {
     "cell_type": "code",
     "collapsed": false,
     "input": [
      "mylist = data0.tolist()"
     ],
     "language": "python",
     "metadata": {},
     "outputs": [],
     "prompt_number": 42
    },
    {
     "cell_type": "code",
     "collapsed": false,
     "input": [
      "myset = set(mylist)"
     ],
     "language": "python",
     "metadata": {},
     "outputs": [
      {
       "ename": "TypeError",
       "evalue": "'builtin_function_or_method' object is not iterable",
       "output_type": "pyerr",
       "traceback": [
        "\u001b[1;31m---------------------------------------------------------------------------\u001b[0m\n\u001b[1;31mTypeError\u001b[0m                                 Traceback (most recent call last)",
        "\u001b[1;32m<ipython-input-43-5e32a3cdb8db>\u001b[0m in \u001b[0;36m<module>\u001b[1;34m()\u001b[0m\n\u001b[1;32m----> 1\u001b[1;33m \u001b[0mmyset\u001b[0m \u001b[1;33m=\u001b[0m \u001b[0mset\u001b[0m\u001b[1;33m(\u001b[0m\u001b[0mmylist\u001b[0m\u001b[1;33m)\u001b[0m\u001b[1;33m\u001b[0m\u001b[0m\n\u001b[0m",
        "\u001b[1;31mTypeError\u001b[0m: 'builtin_function_or_method' object is not iterable"
       ]
      }
     ],
     "prompt_number": 43
    },
    {
     "cell_type": "code",
     "collapsed": false,
     "input": [
      "myarray = data0.reshape(-1)"
     ],
     "language": "python",
     "metadata": {},
     "outputs": [],
     "prompt_number": 50
    },
    {
     "cell_type": "code",
     "collapsed": false,
     "input": [
      "data0.shape"
     ],
     "language": "python",
     "metadata": {},
     "outputs": [
      {
       "output_type": "pyout",
       "prompt_number": 51,
       "text": [
        "(3600, 7200)"
       ]
      }
     ],
     "prompt_number": 51
    },
    {
     "cell_type": "code",
     "collapsed": false,
     "input": [
      "mylist = myarray.tolist()"
     ],
     "language": "python",
     "metadata": {},
     "outputs": [],
     "prompt_number": 53
    },
    {
     "cell_type": "code",
     "collapsed": false,
     "input": [
      "myset = set(mylist)"
     ],
     "language": "python",
     "metadata": {},
     "outputs": [],
     "prompt_number": "*"
    },
    {
     "cell_type": "code",
     "collapsed": false,
     "input": [
      "import math\n",
      "from gdalconst import *\n",
      "import gdal"
     ],
     "language": "python",
     "metadata": {},
     "outputs": [],
     "prompt_number": 13
    },
    {
     "cell_type": "code",
     "collapsed": false,
     "input": [
      "filein = r'C:\\Users\\MATTIJN\\Desktop\\NVAI_2013209.tif'\n",
      "ds0 = gdal.Open(filein, GA_Update)\n",
      "band0 = ds0.GetRasterBand(1)\n",
      "data0 = band0.ReadAsArray()\n",
      "NA0 = band0.GetNoDataValue()"
     ],
     "language": "python",
     "metadata": {},
     "outputs": [],
     "prompt_number": 25
    },
    {
     "cell_type": "code",
     "collapsed": false,
     "input": [
      "data0[data0 == -1] = -99"
     ],
     "language": "python",
     "metadata": {},
     "outputs": [],
     "prompt_number": 32
    },
    {
     "cell_type": "code",
     "collapsed": false,
     "input": [
      "data0.shape"
     ],
     "language": "python",
     "metadata": {},
     "outputs": [
      {
       "output_type": "pyout",
       "prompt_number": 38,
       "text": [
        "(3600, 7200)"
       ]
      }
     ],
     "prompt_number": 38
    },
    {
     "cell_type": "code",
     "collapsed": false,
     "input": [
      "myarray = data0.reshape(-1)"
     ],
     "language": "python",
     "metadata": {},
     "outputs": [],
     "prompt_number": 39
    },
    {
     "cell_type": "code",
     "collapsed": false,
     "input": [
      "myarray.shape"
     ],
     "language": "python",
     "metadata": {},
     "outputs": [
      {
       "output_type": "pyout",
       "prompt_number": 40,
       "text": [
        "(25920000,)"
       ]
      }
     ],
     "prompt_number": 40
    },
    {
     "cell_type": "code",
     "collapsed": false,
     "input": [
      "abovez = myarray[myarray>0.999]"
     ],
     "language": "python",
     "metadata": {},
     "outputs": [],
     "prompt_number": 68
    },
    {
     "cell_type": "code",
     "collapsed": false,
     "input": [
      "nan = np.isnan(data0)"
     ],
     "language": "python",
     "metadata": {},
     "outputs": [],
     "prompt_number": 74
    },
    {
     "cell_type": "code",
     "collapsed": false,
     "input": [
      "wherenan = np.isnan(data0)\n",
      "data0[wherenan] = -99"
     ],
     "language": "python",
     "metadata": {},
     "outputs": [],
     "prompt_number": 76
    },
    {
     "cell_type": "code",
     "collapsed": false,
     "input": [
      "data0"
     ],
     "language": "python",
     "metadata": {},
     "outputs": [
      {
       "output_type": "pyout",
       "prompt_number": 77,
       "text": [
        "array([[-99., -99., -99., ..., -99., -99., -99.],\n",
        "       [-99., -99., -99., ..., -99., -99., -99.],\n",
        "       [-99., -99., -99., ..., -99., -99., -99.],\n",
        "       ..., \n",
        "       [-99., -99., -99., ..., -99., -99., -99.],\n",
        "       [-99., -99., -99., ..., -99., -99., -99.],\n",
        "       [-99., -99., -99., ..., -99., -99., -99.]], dtype=float32)"
       ]
      }
     ],
     "prompt_number": 77
    },
    {
     "cell_type": "code",
     "collapsed": false,
     "input": [
      "import math\n",
      "from gdalconst import *\n",
      "import gdal\n",
      "\n",
      "filein = r'I:\\Documents\\Klusjes\\MODISNOdata\\NVAI_2013209.tif'\n",
      "ds1 = gdal.Open(filein, GA_Update)\n",
      "band1 = ds1.GetRasterBand(1)\n",
      "data1 = band1.ReadAsArray()\n",
      "NA1 = band1.GetNoDataValue()\n",
      "\n",
      "# Set Driver\n",
      "format = \"GTiff\"\n",
      "driver = gdal.GetDriverByName( format )\n",
      "driver.Register()\n",
      "\n",
      "# Set Metadata for Raster output\n",
      "cols = ds1.RasterXSize\n",
      "rows = ds1.RasterYSize\n",
      "bands = ds1.RasterCount\n",
      "datatype = band1.DataType\n",
      "\n",
      "# Set Projection for Raster\n",
      "outDataset = driver.Create(r'I:/NVAI_20132091nan43.tif', cols, rows, bands, datatype)\n",
      "geoTransform = ds1.GetGeoTransform()\n",
      "outDataset.SetGeoTransform(geoTransform)\n",
      "proj = ds1.GetProjection()\n",
      "outDataset.SetProjection(proj)\n",
      "\n",
      "# Write output to band 1 of new Raster\n",
      "outBand = outDataset.GetRasterBand(1)\n",
      "outBand.WriteArray(data1,0,0)\n",
      "\n",
      "# Close and finalise newly created Raster\n",
      "outBand = None\n",
      "outDataset = None\n",
      "driver = None\n",
      "geTransform = None\n",
      "proj = None\n",
      "cols = None\n",
      "rows = None\n",
      "bands = None\n",
      "datatype = None\n",
      "\n",
      "ds1 = None\n",
      "band1 = None\n",
      "data1 = None"
     ],
     "language": "python",
     "metadata": {},
     "outputs": [],
     "prompt_number": 84
    },
    {
     "cell_type": "code",
     "collapsed": false,
     "input": [
      "filein = r'I:\\Documents\\Klusjes\\MODISNOdata\\NVAI_2013209.tif'\n",
      "ds1 = gdal.Open(filein, GA_Update)\n",
      "band1 = ds1.GetRasterBand(1)\n",
      "data1 = band1.ReadAsArray()\n",
      "NA1 = band1.GetNoDataValue()"
     ],
     "language": "python",
     "metadata": {},
     "outputs": [],
     "prompt_number": 89
    },
    {
     "cell_type": "code",
     "collapsed": false,
     "input": [
      "data1"
     ],
     "language": "python",
     "metadata": {},
     "outputs": [
      {
       "output_type": "pyout",
       "prompt_number": 91,
       "text": [
        "array([[ nan,  nan,  nan, ...,  nan,  nan,  nan],\n",
        "       [ nan,  nan,  nan, ...,  nan,  nan,  nan],\n",
        "       [ nan,  nan,  nan, ...,  nan,  nan,  nan],\n",
        "       ..., \n",
        "       [ nan,  nan,  nan, ...,  nan,  nan,  nan],\n",
        "       [ nan,  nan,  nan, ...,  nan,  nan,  nan],\n",
        "       [ nan,  nan,  nan, ...,  nan,  nan,  nan]], dtype=float32)"
       ]
      }
     ],
     "prompt_number": 91
    },
    {
     "cell_type": "code",
     "collapsed": false,
     "input": [
      "band1.SetNoDataValue(float(-99))"
     ],
     "language": "python",
     "metadata": {},
     "outputs": [
      {
       "output_type": "pyout",
       "prompt_number": 92,
       "text": [
        "0"
       ]
      }
     ],
     "prompt_number": 92
    },
    {
     "cell_type": "code",
     "collapsed": false,
     "input": [
      "data2"
     ],
     "language": "python",
     "metadata": {},
     "outputs": [
      {
       "output_type": "pyout",
       "prompt_number": 82,
       "text": [
        "nan"
       ]
      }
     ],
     "prompt_number": 82
    },
    {
     "cell_type": "code",
     "collapsed": false,
     "input": [
      "data1"
     ],
     "language": "python",
     "metadata": {},
     "outputs": [
      {
       "output_type": "pyout",
       "prompt_number": 83,
       "text": [
        "array([[ nan,  nan,  nan, ...,  nan,  nan,  nan],\n",
        "       [ nan,  nan,  nan, ...,  nan,  nan,  nan],\n",
        "       [ nan,  nan,  nan, ...,  nan,  nan,  nan],\n",
        "       ..., \n",
        "       [ nan,  nan,  nan, ...,  nan,  nan,  nan],\n",
        "       [ nan,  nan,  nan, ...,  nan,  nan,  nan],\n",
        "       [ nan,  nan,  nan, ...,  nan,  nan,  nan]], dtype=float32)"
       ]
      }
     ],
     "prompt_number": 83
    },
    {
     "cell_type": "code",
     "collapsed": false,
     "input": [],
     "language": "python",
     "metadata": {},
     "outputs": []
    }
   ],
   "metadata": {}
  }
 ]
}