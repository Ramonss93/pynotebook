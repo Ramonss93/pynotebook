{
 "metadata": {
  "name": "",
  "signature": "sha256:ac94579af52b2f6985a3fce5245533c3a8290a1b590e65a55ee6ffb065c9db17"
 },
 "nbformat": 3,
 "nbformat_minor": 0,
 "worksheets": [
  {
   "cells": [
    {
     "cell_type": "heading",
     "level": 1,
     "metadata": {},
     "source": [
      "Spatial interpolation of daily air temperature for China with complex topography and highly variable station density"
     ]
    },
    {
     "cell_type": "markdown",
     "metadata": {},
     "source": [
      "I used this paper from Stahl et al. (2006) where they compare different spatial interpolation methods for the same problem in Canada. I used Model 12: Gradient-plus-inverse-distance squared (GIDS). See pdf for article:"
     ]
    },
    {
     "cell_type": "code",
     "collapsed": false,
     "input": [
      "from IPython.display import HTML\n",
      "HTML('<iframe src=http://ibis.geog.ubc.ca/~ian/Comparison%20of%20approaches%20for%20spatial%20interpolation%20of%20daily%20air%20temperature%20in%20a%20large%20region%20with%20complex%20topography%20and%20highly%20variable%20station%20density.pdf width=700 height=350></iframe>')"
     ],
     "language": "python",
     "metadata": {},
     "outputs": [
      {
       "html": [
        "<iframe src=http://ibis.geog.ubc.ca/~ian/Comparison%20of%20approaches%20for%20spatial%20interpolation%20of%20daily%20air%20temperature%20in%20a%20large%20region%20with%20complex%20topography%20and%20highly%20variable%20station%20density.pdf width=700 height=350></iframe>"
       ],
       "metadata": {},
       "output_type": "pyout",
       "prompt_number": 1,
       "text": [
        "<IPython.core.display.HTML at 0x4586f28>"
       ]
      }
     ],
     "prompt_number": 1
    },
    {
     "cell_type": "markdown",
     "metadata": {},
     "source": [
      "As input I've (1) hourly climate variables of all weathers stations of China for June 2012, (2) locations of all stations in Aalbers projection and (3) the DEM of China with 1km resolution, also in Aalbers projection. From the climate variables available I use in this notebook only the air temperature."
     ]
    },
    {
     "cell_type": "markdown",
     "metadata": {},
     "source": [
      "This GIDS model selects 8 nearest neighbours for each coordinate (corresponding to a DEM pixel). Fits a multiple linear regression using the x, y and z as predictior variables and the desired variable as the dependent variable. Then apply a inverse-distance-squared weights to calculate the desired variable where the coefficients adjust each predictor variable. The model can be expressed as follows:"
     ]
    },
    {
     "cell_type": "markdown",
     "metadata": {},
     "source": [
      "\\begin{equation*}DV_p =  \\sum_{i=1}^n (1/d_i)^2)^{-1} * \\sum_{i=1}^n((DV_i + b_1(Long_p - Long_i)+b_2(Lat_p-Lat_i)+b_3(h_p-h_i)) *(1/d_i)^2)\\end{equation*}"
     ]
    },
    {
     "cell_type": "code",
     "collapsed": false,
     "input": [
      "# Athmospheric data location\n",
      "filepath = r'D:\\TEMP\\GIDS_ZHOU\\CMA_201206'\n",
      "\n",
      "# Station data location\n",
      "filestations = r'D:\\TEMP\\GIDS_ZHOU\\AWS_stations_Aalbers.csv'\n",
      "\n",
      "# DEM location\n",
      "folderDEM = r'D:\\TEMP\\GIDS_ZHOU\\China_DEM//dem.tif'\n",
      "#folderMSK = r'E:\\Data\\WangKun@Mattijn\\DEM_MA01'\n",
      "\n",
      "# Out folder location\n",
      "outFolder = r'D:\\TEMP\\GIDS_ZHOU\\out_201206//'\n",
      "\n",
      "# Start and end date of the month\n",
      "start = '06/1/2012'\n",
      "end = '06/30/2012'\n",
      "\n",
      "# Parameter to interpolate and prefix to use\n",
      "param = 'TEMP'\n",
      "prefix = 't'"
     ],
     "language": "python",
     "metadata": {},
     "outputs": [],
     "prompt_number": 2
    },
    {
     "cell_type": "markdown",
     "metadata": {},
     "source": [
      "Import some modules that we are going to use"
     ]
    },
    {
     "cell_type": "code",
     "collapsed": false,
     "input": [
      "from scipy import stats\n",
      "from scipy.spatial.distance import cdist\n",
      "from scipy.spatial import cKDTree as KDTree\n",
      "import statsmodels.api as sm\n",
      "import numpy as np\n",
      "import pandas as pd\n",
      "from osgeo import gdal\n",
      "import os\n",
      "import datetime\n",
      "from datetime import datetime\n",
      "\n",
      "# from __future__ import division # apply when using python2.7"
     ],
     "language": "python",
     "metadata": {},
     "outputs": [],
     "prompt_number": 3
    },
    {
     "cell_type": "markdown",
     "metadata": {},
     "source": [
      "Some defined functions to iterate files in folder and to open and save raster files"
     ]
    },
    {
     "cell_type": "code",
     "collapsed": false,
     "input": [
      "def FilesFolder(inGSODFolder, format_end=''):\n",
      "    \"\"\"\n",
      "    Iterate through folder to find files.\n",
      "\n",
      "    Parameters\n",
      "    ----------\n",
      "    inGSODFolder : folder\n",
      "        folder to use for iteration.\n",
      "    format_end : string\n",
      "        Similar use as wildmark.\n",
      "\n",
      "    Returns\n",
      "    -------\n",
      "    st_wmo : list\n",
      "        list with files in folder specified by wildmark\n",
      "\n",
      "    \"\"\"    \n",
      "    st_wmo = [os.path.join(root, name)\n",
      "               for root, dirs, files in os.walk(inGSODFolder)\n",
      "                 for name in files                 \n",
      "                 if name.endswith(format_end)]\n",
      "    return st_wmo"
     ],
     "language": "python",
     "metadata": {},
     "outputs": [],
     "prompt_number": 4
    },
    {
     "cell_type": "code",
     "collapsed": false,
     "input": [
      "def OpenRaster(fileDEM):\n",
      "    \"\"\"\n",
      "    Read and opens array of first band of raster image.\n",
      "\n",
      "    Parameters\n",
      "    ----------\n",
      "    fileDEM : string\n",
      "        path to raster file.\n",
      "\n",
      "    Returns\n",
      "    -------\n",
      "    raster : list\n",
      "        metadata for raster file (x/y and CRI)\n",
      "    dem : ndarray\n",
      "        ndarray of the raster file\n",
      "    extent: ndarray\n",
      "        extent of the raster file\n",
      "\n",
      "    \"\"\"     \n",
      "    raster = gdal.Open(fileDEM, gdal.GA_ReadOnly)\n",
      "    band = raster.GetRasterBand(1)\n",
      "    dem = band.ReadAsArray()\n",
      "    extent = raster.GetGeoTransform()\n",
      "    return raster, dem, extent"
     ],
     "language": "python",
     "metadata": {},
     "outputs": [],
     "prompt_number": 5
    },
    {
     "cell_type": "code",
     "collapsed": false,
     "input": [
      "def saveRaster(path, array, raster, datatype=3, formatraster=\"GTiff\"): # float32 = 6, signed int = 3\n",
      "    \"\"\"\n",
      "    Save ndarray to specified format using GDAL\n",
      "\n",
      "    Parameters\n",
      "    ----------\n",
      "    path : string\n",
      "        path to output.\n",
      "    array : ndarray\n",
      "        ndarray to write\n",
      "    raster: raster datasource \n",
      "        metadata for x/y and CRI\n",
      "    datatype: int\n",
      "        which datatype to store (6 = float 32, 3 = signed int)\n",
      "        default = 3\n",
      "    formatraster: string\n",
      "        specify the format to output\n",
      "        default = geotiff\n",
      "\n",
      "    \"\"\"      \n",
      "    # Set Driver\n",
      "    format_ = formatraster #save as format\n",
      "    driver = gdal.GetDriverByName( format_ )\n",
      "    driver.Register()\n",
      "    \n",
      "    # Set Metadata for Raster output\n",
      "    cols = raster.RasterXSize\n",
      "    rows = raster.RasterYSize\n",
      "    bands = raster.RasterCount\n",
      "    datatype = 6#band.DataType\n",
      "    \n",
      "    # Set Projection for Raster\n",
      "    outDataset = driver.Create(path, cols, rows, bands, datatype)\n",
      "    geoTransform = raster.GetGeoTransform()\n",
      "    outDataset.SetGeoTransform(geoTransform)\n",
      "    proj = raster.GetProjection()\n",
      "    outDataset.SetProjection(proj)\n",
      "    \n",
      "    # Write output to band 1 of new Raster\n",
      "    outBand = outDataset.GetRasterBand(1)\n",
      "    outBand.WriteArray(array) #save input array\n",
      "    #outBand.WriteArray(dem)\n",
      "    \n",
      "    # Close and finalise newly created Raster\n",
      "    #F_M01 = None\n",
      "    outBand = None\n",
      "    proj = None\n",
      "    geoTransform = None\n",
      "    outDataset = None\n",
      "    driver = None\n",
      "    datatype = None\n",
      "    bands = None\n",
      "    rows = None\n",
      "    cols = None\n",
      "    driver = None\n",
      "    array = None"
     ],
     "language": "python",
     "metadata": {},
     "outputs": [],
     "prompt_number": 6
    },
    {
     "cell_type": "markdown",
     "metadata": {},
     "source": [
      "The following function compute the [Cartesian product](http://www.wikiwand.com/en/Cartesian_product). I use this to create an array with all coordinates in Aalbers projection of all pixels in DEM file."
     ]
    },
    {
     "cell_type": "code",
     "collapsed": false,
     "input": [
      "def cartesian(arrays, out=None):\n",
      "    \"\"\"\n",
      "    Generate a cartesian product of input arrays.\n",
      "\n",
      "    Parameters\n",
      "    ----------\n",
      "    arrays : list of array-like\n",
      "        1-D arrays to form the cartesian product of.\n",
      "    out : ndarray\n",
      "        Array to place the cartesian product in.\n",
      "\n",
      "    Returns\n",
      "    -------\n",
      "    out : ndarray\n",
      "        2-D array of shape (M, len(arrays)) containing cartesian products\n",
      "        formed of input arrays.\n",
      "\n",
      "    Examples\n",
      "    --------\n",
      "    >>> cartesian(([1, 2, 3], [4, 5], [6, 7]))\n",
      "    array([[1, 4, 6],\n",
      "           [1, 4, 7],\n",
      "           [1, 5, 6],\n",
      "           [1, 5, 7],\n",
      "           [2, 4, 6],\n",
      "           [2, 4, 7],\n",
      "           [2, 5, 6],\n",
      "           [2, 5, 7],\n",
      "           [3, 4, 6],\n",
      "           [3, 4, 7],\n",
      "           [3, 5, 6],\n",
      "           [3, 5, 7]])\n",
      "\n",
      "    \"\"\"\n",
      "\n",
      "    arrays = [np.asarray(x) for x in arrays]\n",
      "    dtype = arrays[0].dtype\n",
      "\n",
      "    n = np.prod([x.size for x in arrays])\n",
      "    if out is None:\n",
      "        out = np.zeros([n, len(arrays)], dtype=dtype)\n",
      "\n",
      "    m = n / arrays[0].size\n",
      "    out[:,0] = np.repeat(arrays[0], m)\n",
      "    if arrays[1:]:\n",
      "        cartesian(arrays[1:], out=out[0:m,1:])\n",
      "        for j in range(1, arrays[0].size):\n",
      "            out[j*m:(j+1)*m,1:] = out[0:m,1:]\n",
      "    return out"
     ],
     "language": "python",
     "metadata": {},
     "outputs": [],
     "prompt_number": 7
    },
    {
     "cell_type": "markdown",
     "metadata": {},
     "source": [
      "I've loaded the modules and defined some functions to use, now let's start with loading the CMA meteorological data file and make a range of available dates in the month of interest."
     ]
    },
    {
     "cell_type": "code",
     "collapsed": false,
     "input": [
      "# select meteorological data file\n",
      "file_ = FilesFolder(filepath, format_end='.TXT')\n",
      "f = file_[0]\n",
      "print (f)\n",
      "\n",
      "# create range of dates\n",
      "rng = pd.date_range(start, end, freq='1D')\n",
      "print (rng)"
     ],
     "language": "python",
     "metadata": {},
     "outputs": [
      {
       "output_type": "stream",
       "stream": "stdout",
       "text": [
        "D:\\TEMP\\GIDS_ZHOU\\CMA_201206\\SURF_CLI_CHN_MUL_FTM-201206.TXT\n",
        "<class 'pandas.tseries.index.DatetimeIndex'>\n",
        "[2012-06-01, ..., 2012-06-30]\n",
        "Length: 30, Freq: D, Timezone: None\n"
       ]
      }
     ],
     "prompt_number": 8
    },
    {
     "cell_type": "markdown",
     "metadata": {},
     "source": [
      "Next read the file into a pandas dataframe, set the datetime as index, select only the column of interest (TEMP in this case). As the values are hourly, let pandas resample to daily values."
     ]
    },
    {
     "cell_type": "code",
     "collapsed": false,
     "input": [
      "# read file and parse the dates correctly\n",
      "df = pd.read_csv(f, sep='\\t', header=None,  \n",
      "                 parse_dates={'datetime': [1,2,3,4]}, \n",
      "                 date_parser=lambda x: pd.datetime.strptime(x, '%Y %m %d %H'))\n",
      "\n",
      "# set name of columns\n",
      "columns_df = ['datetime','Station','STP','a','TEMP','b','c','d','REHU','e','f','g','PRCP','h','i','WDSP','j','k','l','m','n','o', \\\n",
      "              'p','q','r','s','t']\n",
      "df.columns = columns_df\n",
      "\n",
      "# set date-time as index and select the variables needed\n",
      "df.set_index('datetime', inplace=True)\n",
      "df_sel = df[['Station', 'TEMP']]#'STP','TEMP','REHU','PRCP','WDSP']]\n",
      "\n",
      "# replace missing, blank and values for snow as NaN (based on metadata)\n",
      "df_sel.replace(32766, np.nan, inplace=True)\n",
      "df_sel.replace(32744, np.nan, inplace=True)\n",
      "df_sel.replace(32700, np.nan, inplace=True)\n",
      "\n",
      "# make appropriate conversions to right unit (based on metadata)\n",
      "#df_sel.STP *= 0.1\n",
      "df_sel.TEMP *= 10\n",
      "#df_sel.PRCP *= 0.1\n",
      "#df_sel.STP *= 0.1\n",
      "\n",
      "# group by Station ID and resample to daily values\n",
      "df_selDay = df_sel.groupby('Station').resample('1D')\n",
      "df_selDay = df_selDay.reset_index()\n",
      "df_selDay = df_selDay.set_index('datetime')\n",
      "\n",
      "print (df_selDay.head()) # shows the first five values of the table\n",
      "print ('\\n',df_selDay.max()) # print the maximum value of all stations"
     ],
     "language": "python",
     "metadata": {},
     "outputs": [
      {
       "output_type": "stream",
       "stream": "stdout",
       "text": [
        "            Station         TEMP\n",
        "datetime                        \n",
        "2012-06-01    50136  1388.750000\n",
        "2012-06-02    50136  1571.666667\n",
        "2012-06-03    50136  1571.250000\n",
        "2012-06-04    50136  1461.250000\n",
        "2012-06-05    50136  1673.750000\n",
        "\n",
        " Station    59985.00\n",
        "TEMP        3681.25\n",
        "dtype: float64\n"
       ]
      }
     ],
     "prompt_number": 10
    },
    {
     "cell_type": "markdown",
     "metadata": {},
     "source": [
      "Next step is loading the DEM and location information of the weather stations"
     ]
    },
    {
     "cell_type": "code",
     "collapsed": false,
     "input": [
      "# read DEM\n",
      "raster, dem, extent = OpenRaster(folderDEM)\n",
      "\n",
      "# Get some metadata from the raster file\n",
      "band = raster.GetRasterBand(1)\n",
      "proj = raster.GetProjection()\n",
      "\n",
      "cols = raster.RasterXSize\n",
      "rows = raster.RasterYSize\n",
      "\n",
      "# read station locations \n",
      "df_stations = pd.read_csv(filestations)  \n",
      "\n",
      "print (proj, '\\n Numer of columns',cols, '\\n Number of rows',rows)\n",
      "print ('\\n',df_stations.head())"
     ],
     "language": "python",
     "metadata": {},
     "outputs": [
      {
       "output_type": "stream",
       "stream": "stdout",
       "text": [
        "PROJCS[\"IMAGINE GeoTIFF Support\n",
        "ERDAS IMAGINE 9.3 Service Pack 1 GeoTIFF support\n",
        "Projection = Albers Conical Equal Area\",GEOGCS[\"WGS 84\",DATUM[\"WGS_1984\",SPHEROID[\"WGS 84\",6378137,298.257223563,AUTHORITY[\"EPSG\",\"7030\"]],AUTHORITY[\"EPSG\",\"6326\"]],PRIMEM[\"Greenwich\",0],UNIT[\"degree\",0.0174532925199433],AUTHORITY[\"EPSG\",\"4326\"]],PROJECTION[\"Albers_Conic_Equal_Area\"],PARAMETER[\"standard_parallel_1\",15],PARAMETER[\"standard_parallel_2\",55],PARAMETER[\"latitude_of_center\",35],PARAMETER[\"longitude_of_center\",100],PARAMETER[\"false_easting\",4000000],PARAMETER[\"false_northing\",1000000],UNIT[\"meters\",1]] \n",
        " Numer of columns 4600 \n",
        " Number of rows 4300\n",
        "\n",
        "    Station   Elev      Long_x      Lat_y      POINT_X      POINT_Y\n",
        "0    50136  433.0  122.309997  52.580001  5473928.503  3209653.795\n",
        "1    50246  361.9  124.430000  52.209999  5621191.187  3199563.174\n",
        "2    50349  494.6  124.199996  51.419998  5626513.511  3108424.145\n",
        "3    50353  177.4  126.389999  51.430000  5770514.642  3144551.515\n",
        "4    50425  581.4  120.110000  50.150001  5382630.523  2908127.877\n"
       ]
      }
     ],
     "prompt_number": 11
    },
    {
     "cell_type": "markdown",
     "metadata": {},
     "source": [
      "Calculate the x and y steps in Aalbers projection to apply a Cartesian product"
     ]
    },
    {
     "cell_type": "code",
     "collapsed": false,
     "input": [
      "x_steps = np.arange(dem.shape[1]) * extent[1]\n",
      "y_steps = np.arange(dem.shape[0]) * extent[-1]        \n",
      "x_coords = extent[0] + x_steps + extent[1]/2\n",
      "y_coords = extent[3] + y_steps + extent[-1]/2\n",
      "\n",
      "xy = cartesian([x_coords, y_coords])\n",
      "\n",
      "# transpose and reshape the DEM to a 1D ndarray\n",
      "dem = dem.T\n",
      "dem_rshp = dem.reshape(-1)\n",
      "\n",
      "# print first and last coordinates of x, y and the Cartesian product\n",
      "print ('x-coords\\n',x_coords[0],x_coords[-1], '\\ny-coords\\n', y_coords[0], y_coords[-1], '\\nxy-coords\\n',xy[0], xy[-1])"
     ],
     "language": "python",
     "metadata": {},
     "outputs": [
      {
       "output_type": "stream",
       "stream": "stdout",
       "text": [
        "x-coords\n",
        " 1850500.0 6449500.0 \n",
        "y-coords\n",
        " 3386500.0 -912500.0 \n",
        "xy-coords\n",
        " [ 1850500.  3386500.] [ 6449500.  -912500.]\n"
       ]
      }
     ],
     "prompt_number": 12
    },
    {
     "cell_type": "markdown",
     "metadata": {},
     "source": [
      "Now all data is loaded in the right format the next step is to apply the algorithm. The idea is to select for each day the weather stations that contain useful information. Then make use of a so-called [KD-tree](http://docs.scipy.org/doc/scipy-0.14.0/reference/generated/scipy.spatial.KDTree.html) to select the nearest neighbours of a certain pixel. Using this we can select the 8th nearest weather station of any pixel. As this method accepts arrays, I iterate over the rows of the raster, so for each iteration it computes the 8 nearest neighbours for all pixels in one row. Having this, the next step is to use clever indexing to select the corresponding parameters and do some smart tricks with [NumPy Einstein summations](http://stackoverflow.com/a/14759341/2459096) to do some multi-dimensional\n",
      "array operations to solve this linear matrix equation. Having done all this the last bit to compute the actual algorithm is then done in a flash."
     ]
    },
    {
     "cell_type": "code",
     "collapsed": false,
     "input": [
      "for i in rng[0:1]:\n",
      "    \n",
      "    print (i)\n",
      "    newArray = np.empty(dem_rshp.shape)\n",
      "    print (newArray.shape)\n",
      "    data_left = df_selDay.ix[i]    \n",
      "    sel_merge = pd.merge(data_left, df_stations, on='Station', how='inner', )\n",
      "    \n",
      "    ##TEMP\n",
      "    df = sel_merge[pd.notnull(sel_merge[param])]\n",
      "    df.reset_index(drop=True, inplace=True)\n",
      "    \n",
      "    tree = KDTree(df.ix[:,5:7], leafsize=11)    \n",
      "    \n",
      "    for l in range(0,xy.shape[0],(cols*10)):#range(30725600,30730400,1000):\n",
      "        fr = l\n",
      "        to = l + (cols*10)\n",
      "        print (str(fr)+' - '+str(to))\n",
      "        #print ('coord', xy_target[fr:to].shape)\n",
      "        xy_part = xy[fr:to]\n",
      "                \n",
      "        # For GIDS\n",
      "        #print ('demva', dem_rshp[fr:to].shape)\n",
      "        dem_part = dem_rshp[fr:to]\n",
      "        \n",
      "    \n",
      "        # standard IDW based on 8 nearest stations\n",
      "        #dist, idx = tree.query(xy_part, k=8, eps=0, p=1)\n",
      "        #columns = [\"TotalRadiation\"]\n",
      "        #tmp = df[columns].values.T[:, idx, None]\n",
      "        #tmp = np.squeeze(tmp)        \n",
      "        #weights = (1/dist)**2        \n",
      "        #q = np.sum(weights, axis=1)\n",
      "        #q = q[:,None]        \n",
      "        #weightsq =  weights / q        \n",
      "        #wz = np.einsum(\"ij,ij->i\", weightsq, tmp)\n",
      "        \n",
      "        # select 8 nearest weather stations and select corresponding climate data\n",
      "        dist, idx = tree.query(xy_part, k=8, eps=0, p=1)\n",
      "        columns = [\"POINT_X\", \"POINT_Y\", \"Elev\", \"TEMP\"]\n",
      "        px, py, elev, tmp = df[columns].values.T[:, idx, None]\n",
      "        tmp = np.squeeze(tmp)\n",
      "        one = np.ones_like(px)\n",
      "        \n",
      "        # create a new numpy array with all related data concatenated\n",
      "        # and solve linear matrix equation\n",
      "        m = np.concatenate((one, px, py, elev), axis=-1)\n",
      "        mtm = np.einsum(\"ijx,ijy->ixy\", m, m)\n",
      "        mty = np.einsum(\"ijx,ij->ix\", m, tmp)\n",
      "        b1,b2,b3 = np.linalg.solve(mtm, mty)[:, 1:].T\n",
      "        \n",
      "        # transform data arrays so the final computation can be computed\n",
      "        # make sure all arrays are having similar dimensions.\n",
      "        px, py, elev = px.squeeze(), py.squeeze(), elev.squeeze()\n",
      "        \n",
      "        b1 = b1[:,None]\n",
      "        b2 = b2[:,None]\n",
      "        b3 = b3[:,None]\n",
      "        \n",
      "        rdist = (1/dist)**2\n",
      "        t0 = tmp + b1*(xy_part[:,0,None]-px) + b2*(xy_part[:,1,None]-py) + b3*(dem_part[:,None]-elev)\n",
      "        outarr = (t0*rdist).sum(1) / rdist.sum(1)\n",
      "        \n",
      "        newArray[fr:to] = outarr\n",
      "        #print('newArray\\n',newArray[fr:to])\n",
      "        \n",
      "    \n",
      "    outArray = newArray.reshape([dem.shape[0],dem.shape[1]]).T\n",
      "    #print (outArray)\n",
      "    #save output as raster    \n",
      "        \n",
      "    date = str(i.year)+str(i.month).zfill(2)+str(i.day).zfill(2)\n",
      "    outFilename = outFolder+prefix+str(date)+'end.tif'\n",
      "    print(outFilename)\n",
      "    \n",
      "    saveRaster(outFilename, outArray, raster, datatype=3)\n",
      "    outFilename = None    "
     ],
     "language": "python",
     "metadata": {},
     "outputs": [
      {
       "output_type": "stream",
       "stream": "stdout",
       "text": [
        "2012-06-01 00:00:00\n",
        "(19780000,)\n",
        "0 - 46000\n",
        "46000 - 92000"
       ]
      },
      {
       "output_type": "stream",
       "stream": "stdout",
       "text": [
        "\n",
        "92000 - 138000"
       ]
      },
      {
       "output_type": "stream",
       "stream": "stdout",
       "text": [
        "\n",
        "138000 - 184000"
       ]
      },
      {
       "output_type": "stream",
       "stream": "stdout",
       "text": [
        "\n",
        "184000 - 230000"
       ]
      },
      {
       "output_type": "stream",
       "stream": "stdout",
       "text": [
        "\n",
        "230000 - 276000"
       ]
      },
      {
       "output_type": "stream",
       "stream": "stdout",
       "text": [
        "\n",
        "276000 - 322000"
       ]
      },
      {
       "output_type": "stream",
       "stream": "stdout",
       "text": [
        "\n",
        "322000 - 368000"
       ]
      },
      {
       "output_type": "stream",
       "stream": "stdout",
       "text": [
        "\n",
        "368000 - 414000"
       ]
      },
      {
       "output_type": "stream",
       "stream": "stdout",
       "text": [
        "\n",
        "414000 - 460000"
       ]
      },
      {
       "output_type": "stream",
       "stream": "stdout",
       "text": [
        "\n",
        "460000 - 506000"
       ]
      },
      {
       "output_type": "stream",
       "stream": "stdout",
       "text": [
        "\n",
        "506000 - 552000"
       ]
      },
      {
       "output_type": "stream",
       "stream": "stdout",
       "text": [
        "\n",
        "552000 - 598000"
       ]
      },
      {
       "output_type": "stream",
       "stream": "stdout",
       "text": [
        "\n",
        "598000 - 644000"
       ]
      },
      {
       "output_type": "stream",
       "stream": "stdout",
       "text": [
        "\n",
        "644000 - 690000"
       ]
      },
      {
       "output_type": "stream",
       "stream": "stdout",
       "text": [
        "\n",
        "690000 - 736000"
       ]
      },
      {
       "output_type": "stream",
       "stream": "stdout",
       "text": [
        "\n",
        "736000 - 782000"
       ]
      },
      {
       "output_type": "stream",
       "stream": "stdout",
       "text": [
        "\n",
        "782000 - 828000"
       ]
      },
      {
       "output_type": "stream",
       "stream": "stdout",
       "text": [
        "\n",
        "828000 - 874000"
       ]
      },
      {
       "output_type": "stream",
       "stream": "stdout",
       "text": [
        "\n",
        "874000 - 920000"
       ]
      },
      {
       "output_type": "stream",
       "stream": "stdout",
       "text": [
        "\n",
        "920000 - 966000"
       ]
      },
      {
       "output_type": "stream",
       "stream": "stdout",
       "text": [
        "\n",
        "966000 - 1012000"
       ]
      },
      {
       "output_type": "stream",
       "stream": "stdout",
       "text": [
        "\n",
        "1012000 - 1058000"
       ]
      },
      {
       "output_type": "stream",
       "stream": "stdout",
       "text": [
        "\n",
        "1058000 - 1104000"
       ]
      },
      {
       "output_type": "stream",
       "stream": "stdout",
       "text": [
        "\n",
        "1104000 - 1150000"
       ]
      },
      {
       "output_type": "stream",
       "stream": "stdout",
       "text": [
        "\n",
        "1150000 - 1196000"
       ]
      },
      {
       "output_type": "stream",
       "stream": "stdout",
       "text": [
        "\n",
        "1196000 - 1242000"
       ]
      },
      {
       "output_type": "stream",
       "stream": "stdout",
       "text": [
        "\n",
        "1242000 - 1288000"
       ]
      },
      {
       "output_type": "stream",
       "stream": "stdout",
       "text": [
        "\n",
        "1288000 - 1334000"
       ]
      },
      {
       "output_type": "stream",
       "stream": "stdout",
       "text": [
        "\n",
        "1334000 - 1380000"
       ]
      },
      {
       "output_type": "stream",
       "stream": "stdout",
       "text": [
        "\n",
        "1380000 - 1426000"
       ]
      },
      {
       "output_type": "stream",
       "stream": "stdout",
       "text": [
        "\n",
        "1426000 - 1472000"
       ]
      },
      {
       "output_type": "stream",
       "stream": "stdout",
       "text": [
        "\n",
        "1472000 - 1518000"
       ]
      },
      {
       "output_type": "stream",
       "stream": "stdout",
       "text": [
        "\n",
        "1518000 - 1564000"
       ]
      },
      {
       "output_type": "stream",
       "stream": "stdout",
       "text": [
        "\n",
        "1564000 - 1610000"
       ]
      },
      {
       "output_type": "stream",
       "stream": "stdout",
       "text": [
        "\n",
        "1610000 - 1656000"
       ]
      },
      {
       "output_type": "stream",
       "stream": "stdout",
       "text": [
        "\n",
        "1656000 - 1702000"
       ]
      },
      {
       "output_type": "stream",
       "stream": "stdout",
       "text": [
        "\n",
        "1702000 - 1748000"
       ]
      },
      {
       "output_type": "stream",
       "stream": "stdout",
       "text": [
        "\n",
        "1748000 - 1794000"
       ]
      },
      {
       "output_type": "stream",
       "stream": "stdout",
       "text": [
        "\n",
        "1794000 - 1840000"
       ]
      },
      {
       "output_type": "stream",
       "stream": "stdout",
       "text": [
        "\n",
        "1840000 - 1886000"
       ]
      },
      {
       "output_type": "stream",
       "stream": "stdout",
       "text": [
        "\n",
        "1886000 - 1932000"
       ]
      },
      {
       "output_type": "stream",
       "stream": "stdout",
       "text": [
        "\n",
        "1932000 - 1978000"
       ]
      },
      {
       "output_type": "stream",
       "stream": "stdout",
       "text": [
        "\n",
        "1978000 - 2024000"
       ]
      },
      {
       "output_type": "stream",
       "stream": "stdout",
       "text": [
        "\n",
        "2024000 - 2070000"
       ]
      },
      {
       "output_type": "stream",
       "stream": "stdout",
       "text": [
        "\n",
        "2070000 - 2116000"
       ]
      },
      {
       "output_type": "stream",
       "stream": "stdout",
       "text": [
        "\n",
        "2116000 - 2162000"
       ]
      },
      {
       "output_type": "stream",
       "stream": "stdout",
       "text": [
        "\n",
        "2162000 - 2208000"
       ]
      },
      {
       "output_type": "stream",
       "stream": "stdout",
       "text": [
        "\n",
        "2208000 - 2254000"
       ]
      },
      {
       "output_type": "stream",
       "stream": "stdout",
       "text": [
        "\n",
        "2254000 - 2300000"
       ]
      },
      {
       "output_type": "stream",
       "stream": "stdout",
       "text": [
        "\n",
        "2300000 - 2346000"
       ]
      },
      {
       "output_type": "stream",
       "stream": "stdout",
       "text": [
        "\n",
        "2346000 - 2392000"
       ]
      },
      {
       "output_type": "stream",
       "stream": "stdout",
       "text": [
        "\n",
        "2392000 - 2438000"
       ]
      },
      {
       "output_type": "stream",
       "stream": "stdout",
       "text": [
        "\n",
        "2438000 - 2484000"
       ]
      },
      {
       "output_type": "stream",
       "stream": "stdout",
       "text": [
        "\n",
        "2484000 - 2530000"
       ]
      },
      {
       "output_type": "stream",
       "stream": "stdout",
       "text": [
        "\n",
        "2530000 - 2576000"
       ]
      },
      {
       "output_type": "stream",
       "stream": "stdout",
       "text": [
        "\n",
        "2576000 - 2622000"
       ]
      },
      {
       "output_type": "stream",
       "stream": "stdout",
       "text": [
        "\n",
        "2622000 - 2668000"
       ]
      },
      {
       "output_type": "stream",
       "stream": "stdout",
       "text": [
        "\n",
        "2668000 - 2714000"
       ]
      },
      {
       "output_type": "stream",
       "stream": "stdout",
       "text": [
        "\n",
        "2714000 - 2760000"
       ]
      },
      {
       "output_type": "stream",
       "stream": "stdout",
       "text": [
        "\n",
        "2760000 - 2806000"
       ]
      },
      {
       "output_type": "stream",
       "stream": "stdout",
       "text": [
        "\n",
        "2806000 - 2852000"
       ]
      },
      {
       "output_type": "stream",
       "stream": "stdout",
       "text": [
        "\n",
        "2852000 - 2898000"
       ]
      },
      {
       "output_type": "stream",
       "stream": "stdout",
       "text": [
        "\n",
        "2898000 - 2944000"
       ]
      },
      {
       "output_type": "stream",
       "stream": "stdout",
       "text": [
        "\n",
        "2944000 - 2990000"
       ]
      },
      {
       "output_type": "stream",
       "stream": "stdout",
       "text": [
        "\n",
        "2990000 - 3036000"
       ]
      },
      {
       "output_type": "stream",
       "stream": "stdout",
       "text": [
        "\n",
        "3036000 - 3082000"
       ]
      },
      {
       "output_type": "stream",
       "stream": "stdout",
       "text": [
        "\n",
        "3082000 - 3128000"
       ]
      },
      {
       "output_type": "stream",
       "stream": "stdout",
       "text": [
        "\n",
        "3128000 - 3174000"
       ]
      },
      {
       "output_type": "stream",
       "stream": "stdout",
       "text": [
        "\n",
        "3174000 - 3220000"
       ]
      },
      {
       "output_type": "stream",
       "stream": "stdout",
       "text": [
        "\n",
        "3220000 - 3266000"
       ]
      },
      {
       "output_type": "stream",
       "stream": "stdout",
       "text": [
        "\n",
        "3266000 - 3312000"
       ]
      },
      {
       "output_type": "stream",
       "stream": "stdout",
       "text": [
        "\n",
        "3312000 - 3358000"
       ]
      },
      {
       "output_type": "stream",
       "stream": "stdout",
       "text": [
        "\n",
        "3358000 - 3404000"
       ]
      },
      {
       "output_type": "stream",
       "stream": "stdout",
       "text": [
        "\n",
        "3404000 - 3450000"
       ]
      },
      {
       "output_type": "stream",
       "stream": "stdout",
       "text": [
        "\n",
        "3450000 - 3496000"
       ]
      },
      {
       "output_type": "stream",
       "stream": "stdout",
       "text": [
        "\n",
        "3496000 - 3542000"
       ]
      },
      {
       "output_type": "stream",
       "stream": "stdout",
       "text": [
        "\n",
        "3542000 - 3588000"
       ]
      },
      {
       "output_type": "stream",
       "stream": "stdout",
       "text": [
        "\n",
        "3588000 - 3634000"
       ]
      },
      {
       "output_type": "stream",
       "stream": "stdout",
       "text": [
        "\n",
        "3634000 - 3680000"
       ]
      },
      {
       "output_type": "stream",
       "stream": "stdout",
       "text": [
        "\n",
        "3680000 - 3726000"
       ]
      },
      {
       "output_type": "stream",
       "stream": "stdout",
       "text": [
        "\n",
        "3726000 - 3772000"
       ]
      },
      {
       "output_type": "stream",
       "stream": "stdout",
       "text": [
        "\n",
        "3772000 - 3818000"
       ]
      },
      {
       "output_type": "stream",
       "stream": "stdout",
       "text": [
        "\n",
        "3818000 - 3864000"
       ]
      },
      {
       "output_type": "stream",
       "stream": "stdout",
       "text": [
        "\n",
        "3864000 - 3910000"
       ]
      },
      {
       "output_type": "stream",
       "stream": "stdout",
       "text": [
        "\n",
        "3910000 - 3956000"
       ]
      },
      {
       "output_type": "stream",
       "stream": "stdout",
       "text": [
        "\n",
        "3956000 - 4002000"
       ]
      },
      {
       "output_type": "stream",
       "stream": "stdout",
       "text": [
        "\n",
        "4002000 - 4048000"
       ]
      },
      {
       "output_type": "stream",
       "stream": "stdout",
       "text": [
        "\n",
        "4048000 - 4094000"
       ]
      },
      {
       "output_type": "stream",
       "stream": "stdout",
       "text": [
        "\n",
        "4094000 - 4140000"
       ]
      },
      {
       "output_type": "stream",
       "stream": "stdout",
       "text": [
        "\n",
        "4140000 - 4186000"
       ]
      },
      {
       "output_type": "stream",
       "stream": "stdout",
       "text": [
        "\n",
        "4186000 - 4232000"
       ]
      },
      {
       "output_type": "stream",
       "stream": "stdout",
       "text": [
        "\n",
        "4232000 - 4278000"
       ]
      },
      {
       "output_type": "stream",
       "stream": "stdout",
       "text": [
        "\n",
        "4278000 - 4324000"
       ]
      },
      {
       "output_type": "stream",
       "stream": "stdout",
       "text": [
        "\n",
        "4324000 - 4370000"
       ]
      },
      {
       "output_type": "stream",
       "stream": "stdout",
       "text": [
        "\n",
        "4370000 - 4416000"
       ]
      },
      {
       "output_type": "stream",
       "stream": "stdout",
       "text": [
        "\n",
        "4416000 - 4462000"
       ]
      },
      {
       "output_type": "stream",
       "stream": "stdout",
       "text": [
        "\n",
        "4462000 - 4508000"
       ]
      },
      {
       "output_type": "stream",
       "stream": "stdout",
       "text": [
        "\n",
        "4508000 - 4554000"
       ]
      },
      {
       "output_type": "stream",
       "stream": "stdout",
       "text": [
        "\n",
        "4554000 - 4600000"
       ]
      },
      {
       "output_type": "stream",
       "stream": "stdout",
       "text": [
        "\n",
        "4600000 - 4646000"
       ]
      },
      {
       "output_type": "stream",
       "stream": "stdout",
       "text": [
        "\n",
        "4646000 - 4692000"
       ]
      },
      {
       "output_type": "stream",
       "stream": "stdout",
       "text": [
        "\n",
        "4692000 - 4738000"
       ]
      },
      {
       "output_type": "stream",
       "stream": "stdout",
       "text": [
        "\n",
        "4738000 - 4784000"
       ]
      },
      {
       "output_type": "stream",
       "stream": "stdout",
       "text": [
        "\n",
        "4784000 - 4830000"
       ]
      },
      {
       "output_type": "stream",
       "stream": "stdout",
       "text": [
        "\n",
        "4830000 - 4876000"
       ]
      },
      {
       "output_type": "stream",
       "stream": "stdout",
       "text": [
        "\n",
        "4876000 - 4922000"
       ]
      },
      {
       "output_type": "stream",
       "stream": "stdout",
       "text": [
        "\n",
        "4922000 - 4968000"
       ]
      },
      {
       "output_type": "stream",
       "stream": "stdout",
       "text": [
        "\n",
        "4968000 - 5014000"
       ]
      },
      {
       "output_type": "stream",
       "stream": "stdout",
       "text": [
        "\n",
        "5014000 - 5060000"
       ]
      },
      {
       "output_type": "stream",
       "stream": "stdout",
       "text": [
        "\n",
        "5060000 - 5106000"
       ]
      },
      {
       "output_type": "stream",
       "stream": "stdout",
       "text": [
        "\n",
        "5106000 - 5152000"
       ]
      },
      {
       "output_type": "stream",
       "stream": "stdout",
       "text": [
        "\n",
        "5152000 - 5198000"
       ]
      },
      {
       "output_type": "stream",
       "stream": "stdout",
       "text": [
        "\n",
        "5198000 - 5244000"
       ]
      },
      {
       "output_type": "stream",
       "stream": "stdout",
       "text": [
        "\n",
        "5244000 - 5290000"
       ]
      },
      {
       "output_type": "stream",
       "stream": "stdout",
       "text": [
        "\n",
        "5290000 - 5336000"
       ]
      },
      {
       "output_type": "stream",
       "stream": "stdout",
       "text": [
        "\n",
        "5336000 - 5382000"
       ]
      },
      {
       "output_type": "stream",
       "stream": "stdout",
       "text": [
        "\n",
        "5382000 - 5428000"
       ]
      },
      {
       "output_type": "stream",
       "stream": "stdout",
       "text": [
        "\n",
        "5428000 - 5474000"
       ]
      },
      {
       "output_type": "stream",
       "stream": "stdout",
       "text": [
        "\n",
        "5474000 - 5520000"
       ]
      },
      {
       "output_type": "stream",
       "stream": "stdout",
       "text": [
        "\n",
        "5520000 - 5566000"
       ]
      },
      {
       "output_type": "stream",
       "stream": "stdout",
       "text": [
        "\n",
        "5566000 - 5612000"
       ]
      },
      {
       "output_type": "stream",
       "stream": "stdout",
       "text": [
        "\n",
        "5612000 - 5658000"
       ]
      },
      {
       "output_type": "stream",
       "stream": "stdout",
       "text": [
        "\n",
        "5658000 - 5704000"
       ]
      },
      {
       "output_type": "stream",
       "stream": "stdout",
       "text": [
        "\n",
        "5704000 - 5750000"
       ]
      },
      {
       "output_type": "stream",
       "stream": "stdout",
       "text": [
        "\n",
        "5750000 - 5796000"
       ]
      },
      {
       "output_type": "stream",
       "stream": "stdout",
       "text": [
        "\n",
        "5796000 - 5842000"
       ]
      },
      {
       "output_type": "stream",
       "stream": "stdout",
       "text": [
        "\n",
        "5842000 - 5888000"
       ]
      },
      {
       "output_type": "stream",
       "stream": "stdout",
       "text": [
        "\n",
        "5888000 - 5934000"
       ]
      },
      {
       "output_type": "stream",
       "stream": "stdout",
       "text": [
        "\n",
        "5934000 - 5980000"
       ]
      },
      {
       "output_type": "stream",
       "stream": "stdout",
       "text": [
        "\n",
        "5980000 - 6026000"
       ]
      },
      {
       "output_type": "stream",
       "stream": "stdout",
       "text": [
        "\n",
        "6026000 - 6072000"
       ]
      },
      {
       "output_type": "stream",
       "stream": "stdout",
       "text": [
        "\n",
        "6072000 - 6118000"
       ]
      },
      {
       "output_type": "stream",
       "stream": "stdout",
       "text": [
        "\n",
        "6118000 - 6164000"
       ]
      },
      {
       "output_type": "stream",
       "stream": "stdout",
       "text": [
        "\n",
        "6164000 - 6210000"
       ]
      },
      {
       "output_type": "stream",
       "stream": "stdout",
       "text": [
        "\n",
        "6210000 - 6256000"
       ]
      },
      {
       "output_type": "stream",
       "stream": "stdout",
       "text": [
        "\n",
        "6256000 - 6302000"
       ]
      },
      {
       "output_type": "stream",
       "stream": "stdout",
       "text": [
        "\n",
        "6302000 - 6348000"
       ]
      },
      {
       "output_type": "stream",
       "stream": "stdout",
       "text": [
        "\n",
        "6348000 - 6394000"
       ]
      },
      {
       "output_type": "stream",
       "stream": "stdout",
       "text": [
        "\n",
        "6394000 - 6440000"
       ]
      },
      {
       "output_type": "stream",
       "stream": "stdout",
       "text": [
        "\n",
        "6440000 - 6486000"
       ]
      },
      {
       "output_type": "stream",
       "stream": "stdout",
       "text": [
        "\n",
        "6486000 - 6532000"
       ]
      },
      {
       "output_type": "stream",
       "stream": "stdout",
       "text": [
        "\n",
        "6532000 - 6578000"
       ]
      },
      {
       "output_type": "stream",
       "stream": "stdout",
       "text": [
        "\n",
        "6578000 - 6624000"
       ]
      },
      {
       "output_type": "stream",
       "stream": "stdout",
       "text": [
        "\n",
        "6624000 - 6670000"
       ]
      },
      {
       "output_type": "stream",
       "stream": "stdout",
       "text": [
        "\n",
        "6670000 - 6716000"
       ]
      },
      {
       "output_type": "stream",
       "stream": "stdout",
       "text": [
        "\n",
        "6716000 - 6762000"
       ]
      },
      {
       "output_type": "stream",
       "stream": "stdout",
       "text": [
        "\n",
        "6762000 - 6808000"
       ]
      },
      {
       "output_type": "stream",
       "stream": "stdout",
       "text": [
        "\n",
        "6808000 - 6854000"
       ]
      },
      {
       "output_type": "stream",
       "stream": "stdout",
       "text": [
        "\n",
        "6854000 - 6900000"
       ]
      },
      {
       "output_type": "stream",
       "stream": "stdout",
       "text": [
        "\n",
        "6900000 - 6946000"
       ]
      },
      {
       "output_type": "stream",
       "stream": "stdout",
       "text": [
        "\n",
        "6946000 - 6992000"
       ]
      },
      {
       "output_type": "stream",
       "stream": "stdout",
       "text": [
        "\n",
        "6992000 - 7038000"
       ]
      },
      {
       "output_type": "stream",
       "stream": "stdout",
       "text": [
        "\n",
        "7038000 - 7084000"
       ]
      },
      {
       "output_type": "stream",
       "stream": "stdout",
       "text": [
        "\n",
        "7084000 - 7130000"
       ]
      },
      {
       "output_type": "stream",
       "stream": "stdout",
       "text": [
        "\n",
        "7130000 - 7176000"
       ]
      },
      {
       "output_type": "stream",
       "stream": "stdout",
       "text": [
        "\n",
        "7176000 - 7222000"
       ]
      },
      {
       "output_type": "stream",
       "stream": "stdout",
       "text": [
        "\n",
        "7222000 - 7268000"
       ]
      },
      {
       "output_type": "stream",
       "stream": "stdout",
       "text": [
        "\n",
        "7268000 - 7314000"
       ]
      },
      {
       "output_type": "stream",
       "stream": "stdout",
       "text": [
        "\n",
        "7314000 - 7360000"
       ]
      },
      {
       "output_type": "stream",
       "stream": "stdout",
       "text": [
        "\n",
        "7360000 - 7406000"
       ]
      },
      {
       "output_type": "stream",
       "stream": "stdout",
       "text": [
        "\n",
        "7406000 - 7452000"
       ]
      },
      {
       "output_type": "stream",
       "stream": "stdout",
       "text": [
        "\n",
        "7452000 - 7498000"
       ]
      },
      {
       "output_type": "stream",
       "stream": "stdout",
       "text": [
        "\n",
        "7498000 - 7544000"
       ]
      },
      {
       "output_type": "stream",
       "stream": "stdout",
       "text": [
        "\n",
        "7544000 - 7590000"
       ]
      },
      {
       "output_type": "stream",
       "stream": "stdout",
       "text": [
        "\n",
        "7590000 - 7636000"
       ]
      },
      {
       "output_type": "stream",
       "stream": "stdout",
       "text": [
        "\n",
        "7636000 - 7682000"
       ]
      },
      {
       "output_type": "stream",
       "stream": "stdout",
       "text": [
        "\n",
        "7682000 - 7728000"
       ]
      },
      {
       "output_type": "stream",
       "stream": "stdout",
       "text": [
        "\n",
        "7728000 - 7774000"
       ]
      },
      {
       "output_type": "stream",
       "stream": "stdout",
       "text": [
        "\n",
        "7774000 - 7820000"
       ]
      },
      {
       "output_type": "stream",
       "stream": "stdout",
       "text": [
        "\n",
        "7820000 - 7866000"
       ]
      },
      {
       "output_type": "stream",
       "stream": "stdout",
       "text": [
        "\n",
        "7866000 - 7912000"
       ]
      },
      {
       "output_type": "stream",
       "stream": "stdout",
       "text": [
        "\n",
        "7912000 - 7958000"
       ]
      },
      {
       "output_type": "stream",
       "stream": "stdout",
       "text": [
        "\n",
        "7958000 - 8004000"
       ]
      },
      {
       "output_type": "stream",
       "stream": "stdout",
       "text": [
        "\n",
        "8004000 - 8050000"
       ]
      },
      {
       "output_type": "stream",
       "stream": "stdout",
       "text": [
        "\n",
        "8050000 - 8096000"
       ]
      },
      {
       "output_type": "stream",
       "stream": "stdout",
       "text": [
        "\n",
        "8096000 - 8142000"
       ]
      },
      {
       "output_type": "stream",
       "stream": "stdout",
       "text": [
        "\n",
        "8142000 - 8188000"
       ]
      },
      {
       "output_type": "stream",
       "stream": "stdout",
       "text": [
        "\n",
        "8188000 - 8234000"
       ]
      },
      {
       "output_type": "stream",
       "stream": "stdout",
       "text": [
        "\n",
        "8234000 - 8280000"
       ]
      },
      {
       "output_type": "stream",
       "stream": "stdout",
       "text": [
        "\n",
        "8280000 - 8326000"
       ]
      },
      {
       "output_type": "stream",
       "stream": "stdout",
       "text": [
        "\n",
        "8326000 - 8372000"
       ]
      },
      {
       "output_type": "stream",
       "stream": "stdout",
       "text": [
        "\n",
        "8372000 - 8418000"
       ]
      },
      {
       "output_type": "stream",
       "stream": "stdout",
       "text": [
        "\n",
        "8418000 - 8464000"
       ]
      },
      {
       "output_type": "stream",
       "stream": "stdout",
       "text": [
        "\n",
        "8464000 - 8510000"
       ]
      },
      {
       "output_type": "stream",
       "stream": "stdout",
       "text": [
        "\n",
        "8510000 - 8556000"
       ]
      },
      {
       "output_type": "stream",
       "stream": "stdout",
       "text": [
        "\n",
        "8556000 - 8602000"
       ]
      },
      {
       "output_type": "stream",
       "stream": "stdout",
       "text": [
        "\n",
        "8602000 - 8648000"
       ]
      },
      {
       "output_type": "stream",
       "stream": "stdout",
       "text": [
        "\n",
        "8648000 - 8694000"
       ]
      },
      {
       "output_type": "stream",
       "stream": "stdout",
       "text": [
        "\n",
        "8694000 - 8740000"
       ]
      },
      {
       "output_type": "stream",
       "stream": "stdout",
       "text": [
        "\n",
        "8740000 - 8786000"
       ]
      },
      {
       "output_type": "stream",
       "stream": "stdout",
       "text": [
        "\n",
        "8786000 - 8832000"
       ]
      },
      {
       "output_type": "stream",
       "stream": "stdout",
       "text": [
        "\n",
        "8832000 - 8878000"
       ]
      },
      {
       "output_type": "stream",
       "stream": "stdout",
       "text": [
        "\n",
        "8878000 - 8924000"
       ]
      },
      {
       "output_type": "stream",
       "stream": "stdout",
       "text": [
        "\n",
        "8924000 - 8970000"
       ]
      },
      {
       "output_type": "stream",
       "stream": "stdout",
       "text": [
        "\n",
        "8970000 - 9016000"
       ]
      },
      {
       "output_type": "stream",
       "stream": "stdout",
       "text": [
        "\n",
        "9016000 - 9062000"
       ]
      },
      {
       "output_type": "stream",
       "stream": "stdout",
       "text": [
        "\n",
        "9062000 - 9108000"
       ]
      },
      {
       "output_type": "stream",
       "stream": "stdout",
       "text": [
        "\n",
        "9108000 - 9154000"
       ]
      },
      {
       "output_type": "stream",
       "stream": "stdout",
       "text": [
        "\n",
        "9154000 - 9200000"
       ]
      },
      {
       "output_type": "stream",
       "stream": "stdout",
       "text": [
        "\n",
        "9200000 - 9246000"
       ]
      },
      {
       "output_type": "stream",
       "stream": "stdout",
       "text": [
        "\n",
        "9246000 - 9292000"
       ]
      },
      {
       "output_type": "stream",
       "stream": "stdout",
       "text": [
        "\n",
        "9292000 - 9338000"
       ]
      },
      {
       "output_type": "stream",
       "stream": "stdout",
       "text": [
        "\n",
        "9338000 - 9384000"
       ]
      },
      {
       "output_type": "stream",
       "stream": "stdout",
       "text": [
        "\n",
        "9384000 - 9430000"
       ]
      },
      {
       "output_type": "stream",
       "stream": "stdout",
       "text": [
        "\n",
        "9430000 - 9476000"
       ]
      },
      {
       "output_type": "stream",
       "stream": "stdout",
       "text": [
        "\n",
        "9476000 - 9522000"
       ]
      },
      {
       "output_type": "stream",
       "stream": "stdout",
       "text": [
        "\n",
        "9522000 - 9568000"
       ]
      },
      {
       "output_type": "stream",
       "stream": "stdout",
       "text": [
        "\n",
        "9568000 - 9614000"
       ]
      },
      {
       "output_type": "stream",
       "stream": "stdout",
       "text": [
        "\n",
        "9614000 - 9660000"
       ]
      },
      {
       "output_type": "stream",
       "stream": "stdout",
       "text": [
        "\n",
        "9660000 - 9706000"
       ]
      },
      {
       "output_type": "stream",
       "stream": "stdout",
       "text": [
        "\n",
        "9706000 - 9752000"
       ]
      },
      {
       "output_type": "stream",
       "stream": "stdout",
       "text": [
        "\n",
        "9752000 - 9798000"
       ]
      },
      {
       "output_type": "stream",
       "stream": "stdout",
       "text": [
        "\n",
        "9798000 - 9844000"
       ]
      },
      {
       "output_type": "stream",
       "stream": "stdout",
       "text": [
        "\n",
        "9844000 - 9890000"
       ]
      },
      {
       "output_type": "stream",
       "stream": "stdout",
       "text": [
        "\n",
        "9890000 - 9936000"
       ]
      },
      {
       "output_type": "stream",
       "stream": "stdout",
       "text": [
        "\n",
        "9936000 - 9982000"
       ]
      },
      {
       "output_type": "stream",
       "stream": "stdout",
       "text": [
        "\n",
        "9982000 - 10028000"
       ]
      },
      {
       "output_type": "stream",
       "stream": "stdout",
       "text": [
        "\n",
        "10028000 - 10074000"
       ]
      },
      {
       "output_type": "stream",
       "stream": "stdout",
       "text": [
        "\n",
        "10074000 - 10120000"
       ]
      },
      {
       "output_type": "stream",
       "stream": "stdout",
       "text": [
        "\n",
        "10120000 - 10166000"
       ]
      },
      {
       "output_type": "stream",
       "stream": "stdout",
       "text": [
        "\n",
        "10166000 - 10212000"
       ]
      },
      {
       "output_type": "stream",
       "stream": "stdout",
       "text": [
        "\n",
        "10212000 - 10258000"
       ]
      },
      {
       "output_type": "stream",
       "stream": "stdout",
       "text": [
        "\n",
        "10258000 - 10304000"
       ]
      },
      {
       "output_type": "stream",
       "stream": "stdout",
       "text": [
        "\n",
        "10304000 - 10350000"
       ]
      },
      {
       "output_type": "stream",
       "stream": "stdout",
       "text": [
        "\n",
        "10350000 - 10396000"
       ]
      },
      {
       "output_type": "stream",
       "stream": "stdout",
       "text": [
        "\n",
        "10396000 - 10442000"
       ]
      },
      {
       "output_type": "stream",
       "stream": "stdout",
       "text": [
        "\n",
        "10442000 - 10488000"
       ]
      },
      {
       "output_type": "stream",
       "stream": "stdout",
       "text": [
        "\n",
        "10488000 - 10534000"
       ]
      },
      {
       "output_type": "stream",
       "stream": "stdout",
       "text": [
        "\n",
        "10534000 - 10580000"
       ]
      },
      {
       "output_type": "stream",
       "stream": "stdout",
       "text": [
        "\n",
        "10580000 - 10626000"
       ]
      },
      {
       "output_type": "stream",
       "stream": "stdout",
       "text": [
        "\n",
        "10626000 - 10672000"
       ]
      },
      {
       "output_type": "stream",
       "stream": "stdout",
       "text": [
        "\n",
        "10672000 - 10718000"
       ]
      },
      {
       "output_type": "stream",
       "stream": "stdout",
       "text": [
        "\n",
        "10718000 - 10764000"
       ]
      },
      {
       "output_type": "stream",
       "stream": "stdout",
       "text": [
        "\n",
        "10764000 - 10810000"
       ]
      },
      {
       "output_type": "stream",
       "stream": "stdout",
       "text": [
        "\n",
        "10810000 - 10856000"
       ]
      },
      {
       "output_type": "stream",
       "stream": "stdout",
       "text": [
        "\n",
        "10856000 - 10902000"
       ]
      },
      {
       "output_type": "stream",
       "stream": "stdout",
       "text": [
        "\n",
        "10902000 - 10948000"
       ]
      },
      {
       "output_type": "stream",
       "stream": "stdout",
       "text": [
        "\n",
        "10948000 - 10994000"
       ]
      },
      {
       "output_type": "stream",
       "stream": "stdout",
       "text": [
        "\n",
        "10994000 - 11040000"
       ]
      },
      {
       "output_type": "stream",
       "stream": "stdout",
       "text": [
        "\n",
        "11040000 - 11086000"
       ]
      },
      {
       "output_type": "stream",
       "stream": "stdout",
       "text": [
        "\n",
        "11086000 - 11132000"
       ]
      },
      {
       "output_type": "stream",
       "stream": "stdout",
       "text": [
        "\n",
        "11132000 - 11178000"
       ]
      },
      {
       "output_type": "stream",
       "stream": "stdout",
       "text": [
        "\n",
        "11178000 - 11224000"
       ]
      },
      {
       "output_type": "stream",
       "stream": "stdout",
       "text": [
        "\n",
        "11224000 - 11270000"
       ]
      },
      {
       "output_type": "stream",
       "stream": "stdout",
       "text": [
        "\n",
        "11270000 - 11316000"
       ]
      },
      {
       "output_type": "stream",
       "stream": "stdout",
       "text": [
        "\n",
        "11316000 - 11362000"
       ]
      },
      {
       "output_type": "stream",
       "stream": "stdout",
       "text": [
        "\n",
        "11362000 - 11408000"
       ]
      },
      {
       "output_type": "stream",
       "stream": "stdout",
       "text": [
        "\n",
        "11408000 - 11454000"
       ]
      },
      {
       "output_type": "stream",
       "stream": "stdout",
       "text": [
        "\n",
        "11454000 - 11500000"
       ]
      },
      {
       "output_type": "stream",
       "stream": "stdout",
       "text": [
        "\n",
        "11500000 - 11546000"
       ]
      },
      {
       "output_type": "stream",
       "stream": "stdout",
       "text": [
        "\n",
        "11546000 - 11592000"
       ]
      },
      {
       "output_type": "stream",
       "stream": "stdout",
       "text": [
        "\n",
        "11592000 - 11638000"
       ]
      },
      {
       "output_type": "stream",
       "stream": "stdout",
       "text": [
        "\n",
        "11638000 - 11684000"
       ]
      },
      {
       "output_type": "stream",
       "stream": "stdout",
       "text": [
        "\n",
        "11684000 - 11730000"
       ]
      },
      {
       "output_type": "stream",
       "stream": "stdout",
       "text": [
        "\n",
        "11730000 - 11776000"
       ]
      },
      {
       "output_type": "stream",
       "stream": "stdout",
       "text": [
        "\n",
        "11776000 - 11822000"
       ]
      },
      {
       "output_type": "stream",
       "stream": "stdout",
       "text": [
        "\n",
        "11822000 - 11868000"
       ]
      },
      {
       "output_type": "stream",
       "stream": "stdout",
       "text": [
        "\n",
        "11868000 - 11914000"
       ]
      },
      {
       "output_type": "stream",
       "stream": "stdout",
       "text": [
        "\n",
        "11914000 - 11960000"
       ]
      },
      {
       "output_type": "stream",
       "stream": "stdout",
       "text": [
        "\n",
        "11960000 - 12006000"
       ]
      },
      {
       "output_type": "stream",
       "stream": "stdout",
       "text": [
        "\n",
        "12006000 - 12052000"
       ]
      },
      {
       "output_type": "stream",
       "stream": "stdout",
       "text": [
        "\n",
        "12052000 - 12098000"
       ]
      },
      {
       "output_type": "stream",
       "stream": "stdout",
       "text": [
        "\n",
        "12098000 - 12144000"
       ]
      },
      {
       "output_type": "stream",
       "stream": "stdout",
       "text": [
        "\n",
        "12144000 - 12190000"
       ]
      },
      {
       "output_type": "stream",
       "stream": "stdout",
       "text": [
        "\n",
        "12190000 - 12236000"
       ]
      },
      {
       "output_type": "stream",
       "stream": "stdout",
       "text": [
        "\n",
        "12236000 - 12282000"
       ]
      },
      {
       "output_type": "stream",
       "stream": "stdout",
       "text": [
        "\n",
        "12282000 - 12328000"
       ]
      },
      {
       "output_type": "stream",
       "stream": "stdout",
       "text": [
        "\n",
        "12328000 - 12374000"
       ]
      },
      {
       "output_type": "stream",
       "stream": "stdout",
       "text": [
        "\n",
        "12374000 - 12420000"
       ]
      },
      {
       "output_type": "stream",
       "stream": "stdout",
       "text": [
        "\n",
        "12420000 - 12466000"
       ]
      },
      {
       "output_type": "stream",
       "stream": "stdout",
       "text": [
        "\n",
        "12466000 - 12512000"
       ]
      },
      {
       "output_type": "stream",
       "stream": "stdout",
       "text": [
        "\n",
        "12512000 - 12558000"
       ]
      },
      {
       "output_type": "stream",
       "stream": "stdout",
       "text": [
        "\n",
        "12558000 - 12604000"
       ]
      },
      {
       "output_type": "stream",
       "stream": "stdout",
       "text": [
        "\n",
        "12604000 - 12650000"
       ]
      },
      {
       "output_type": "stream",
       "stream": "stdout",
       "text": [
        "\n",
        "12650000 - 12696000"
       ]
      },
      {
       "output_type": "stream",
       "stream": "stdout",
       "text": [
        "\n",
        "12696000 - 12742000"
       ]
      },
      {
       "output_type": "stream",
       "stream": "stdout",
       "text": [
        "\n",
        "12742000 - 12788000"
       ]
      },
      {
       "output_type": "stream",
       "stream": "stdout",
       "text": [
        "\n",
        "12788000 - 12834000"
       ]
      },
      {
       "output_type": "stream",
       "stream": "stdout",
       "text": [
        "\n",
        "12834000 - 12880000"
       ]
      },
      {
       "output_type": "stream",
       "stream": "stdout",
       "text": [
        "\n",
        "12880000 - 12926000"
       ]
      },
      {
       "output_type": "stream",
       "stream": "stdout",
       "text": [
        "\n",
        "12926000 - 12972000"
       ]
      },
      {
       "output_type": "stream",
       "stream": "stdout",
       "text": [
        "\n",
        "12972000 - 13018000"
       ]
      },
      {
       "output_type": "stream",
       "stream": "stdout",
       "text": [
        "\n",
        "13018000 - 13064000"
       ]
      },
      {
       "output_type": "stream",
       "stream": "stdout",
       "text": [
        "\n",
        "13064000 - 13110000"
       ]
      },
      {
       "output_type": "stream",
       "stream": "stdout",
       "text": [
        "\n",
        "13110000 - 13156000"
       ]
      },
      {
       "output_type": "stream",
       "stream": "stdout",
       "text": [
        "\n",
        "13156000 - 13202000"
       ]
      },
      {
       "output_type": "stream",
       "stream": "stdout",
       "text": [
        "\n",
        "13202000 - 13248000"
       ]
      },
      {
       "output_type": "stream",
       "stream": "stdout",
       "text": [
        "\n",
        "13248000 - 13294000"
       ]
      },
      {
       "output_type": "stream",
       "stream": "stdout",
       "text": [
        "\n",
        "13294000 - 13340000"
       ]
      },
      {
       "output_type": "stream",
       "stream": "stdout",
       "text": [
        "\n",
        "13340000 - 13386000"
       ]
      },
      {
       "output_type": "stream",
       "stream": "stdout",
       "text": [
        "\n",
        "13386000 - 13432000"
       ]
      },
      {
       "output_type": "stream",
       "stream": "stdout",
       "text": [
        "\n",
        "13432000 - 13478000"
       ]
      },
      {
       "output_type": "stream",
       "stream": "stdout",
       "text": [
        "\n",
        "13478000 - 13524000"
       ]
      },
      {
       "output_type": "stream",
       "stream": "stdout",
       "text": [
        "\n",
        "13524000 - 13570000"
       ]
      },
      {
       "output_type": "stream",
       "stream": "stdout",
       "text": [
        "\n",
        "13570000 - 13616000"
       ]
      },
      {
       "output_type": "stream",
       "stream": "stdout",
       "text": [
        "\n",
        "13616000 - 13662000"
       ]
      },
      {
       "output_type": "stream",
       "stream": "stdout",
       "text": [
        "\n",
        "13662000 - 13708000"
       ]
      },
      {
       "output_type": "stream",
       "stream": "stdout",
       "text": [
        "\n",
        "13708000 - 13754000"
       ]
      },
      {
       "output_type": "stream",
       "stream": "stdout",
       "text": [
        "\n",
        "13754000 - 13800000"
       ]
      },
      {
       "output_type": "stream",
       "stream": "stdout",
       "text": [
        "\n",
        "13800000 - 13846000"
       ]
      },
      {
       "output_type": "stream",
       "stream": "stdout",
       "text": [
        "\n",
        "13846000 - 13892000"
       ]
      },
      {
       "output_type": "stream",
       "stream": "stdout",
       "text": [
        "\n",
        "13892000 - 13938000"
       ]
      },
      {
       "output_type": "stream",
       "stream": "stdout",
       "text": [
        "\n",
        "13938000 - 13984000"
       ]
      },
      {
       "output_type": "stream",
       "stream": "stdout",
       "text": [
        "\n",
        "13984000 - 14030000"
       ]
      },
      {
       "output_type": "stream",
       "stream": "stdout",
       "text": [
        "\n",
        "14030000 - 14076000"
       ]
      },
      {
       "output_type": "stream",
       "stream": "stdout",
       "text": [
        "\n",
        "14076000 - 14122000"
       ]
      },
      {
       "output_type": "stream",
       "stream": "stdout",
       "text": [
        "\n",
        "14122000 - 14168000"
       ]
      },
      {
       "output_type": "stream",
       "stream": "stdout",
       "text": [
        "\n",
        "14168000 - 14214000"
       ]
      },
      {
       "output_type": "stream",
       "stream": "stdout",
       "text": [
        "\n",
        "14214000 - 14260000"
       ]
      },
      {
       "output_type": "stream",
       "stream": "stdout",
       "text": [
        "\n",
        "14260000 - 14306000"
       ]
      },
      {
       "output_type": "stream",
       "stream": "stdout",
       "text": [
        "\n",
        "14306000 - 14352000"
       ]
      },
      {
       "output_type": "stream",
       "stream": "stdout",
       "text": [
        "\n",
        "14352000 - 14398000"
       ]
      },
      {
       "output_type": "stream",
       "stream": "stdout",
       "text": [
        "\n",
        "14398000 - 14444000"
       ]
      },
      {
       "output_type": "stream",
       "stream": "stdout",
       "text": [
        "\n",
        "14444000 - 14490000"
       ]
      },
      {
       "output_type": "stream",
       "stream": "stdout",
       "text": [
        "\n",
        "14490000 - 14536000"
       ]
      },
      {
       "output_type": "stream",
       "stream": "stdout",
       "text": [
        "\n",
        "14536000 - 14582000"
       ]
      },
      {
       "output_type": "stream",
       "stream": "stdout",
       "text": [
        "\n",
        "14582000 - 14628000"
       ]
      },
      {
       "output_type": "stream",
       "stream": "stdout",
       "text": [
        "\n",
        "14628000 - 14674000"
       ]
      },
      {
       "output_type": "stream",
       "stream": "stdout",
       "text": [
        "\n",
        "14674000 - 14720000"
       ]
      },
      {
       "output_type": "stream",
       "stream": "stdout",
       "text": [
        "\n",
        "14720000 - 14766000"
       ]
      },
      {
       "output_type": "stream",
       "stream": "stdout",
       "text": [
        "\n",
        "14766000 - 14812000"
       ]
      },
      {
       "output_type": "stream",
       "stream": "stdout",
       "text": [
        "\n",
        "14812000 - 14858000"
       ]
      },
      {
       "output_type": "stream",
       "stream": "stdout",
       "text": [
        "\n",
        "14858000 - 14904000"
       ]
      },
      {
       "output_type": "stream",
       "stream": "stdout",
       "text": [
        "\n",
        "14904000 - 14950000"
       ]
      },
      {
       "output_type": "stream",
       "stream": "stdout",
       "text": [
        "\n",
        "14950000 - 14996000"
       ]
      },
      {
       "output_type": "stream",
       "stream": "stdout",
       "text": [
        "\n",
        "14996000 - 15042000"
       ]
      },
      {
       "output_type": "stream",
       "stream": "stdout",
       "text": [
        "\n",
        "15042000 - 15088000"
       ]
      },
      {
       "output_type": "stream",
       "stream": "stdout",
       "text": [
        "\n",
        "15088000 - 15134000"
       ]
      },
      {
       "output_type": "stream",
       "stream": "stdout",
       "text": [
        "\n",
        "15134000 - 15180000"
       ]
      },
      {
       "output_type": "stream",
       "stream": "stdout",
       "text": [
        "\n",
        "15180000 - 15226000"
       ]
      },
      {
       "output_type": "stream",
       "stream": "stdout",
       "text": [
        "\n",
        "15226000 - 15272000"
       ]
      },
      {
       "output_type": "stream",
       "stream": "stdout",
       "text": [
        "\n",
        "15272000 - 15318000"
       ]
      },
      {
       "output_type": "stream",
       "stream": "stdout",
       "text": [
        "\n",
        "15318000 - 15364000"
       ]
      },
      {
       "output_type": "stream",
       "stream": "stdout",
       "text": [
        "\n",
        "15364000 - 15410000"
       ]
      },
      {
       "output_type": "stream",
       "stream": "stdout",
       "text": [
        "\n",
        "15410000 - 15456000"
       ]
      },
      {
       "output_type": "stream",
       "stream": "stdout",
       "text": [
        "\n",
        "15456000 - 15502000"
       ]
      },
      {
       "output_type": "stream",
       "stream": "stdout",
       "text": [
        "\n",
        "15502000 - 15548000"
       ]
      },
      {
       "output_type": "stream",
       "stream": "stdout",
       "text": [
        "\n",
        "15548000 - 15594000"
       ]
      },
      {
       "output_type": "stream",
       "stream": "stdout",
       "text": [
        "\n",
        "15594000 - 15640000"
       ]
      },
      {
       "output_type": "stream",
       "stream": "stdout",
       "text": [
        "\n",
        "15640000 - 15686000"
       ]
      },
      {
       "output_type": "stream",
       "stream": "stdout",
       "text": [
        "\n",
        "15686000 - 15732000"
       ]
      },
      {
       "output_type": "stream",
       "stream": "stdout",
       "text": [
        "\n",
        "15732000 - 15778000"
       ]
      },
      {
       "output_type": "stream",
       "stream": "stdout",
       "text": [
        "\n",
        "15778000 - 15824000"
       ]
      },
      {
       "output_type": "stream",
       "stream": "stdout",
       "text": [
        "\n",
        "15824000 - 15870000"
       ]
      },
      {
       "output_type": "stream",
       "stream": "stdout",
       "text": [
        "\n",
        "15870000 - 15916000"
       ]
      },
      {
       "output_type": "stream",
       "stream": "stdout",
       "text": [
        "\n",
        "15916000 - 15962000"
       ]
      },
      {
       "output_type": "stream",
       "stream": "stdout",
       "text": [
        "\n",
        "15962000 - 16008000"
       ]
      },
      {
       "output_type": "stream",
       "stream": "stdout",
       "text": [
        "\n",
        "16008000 - 16054000"
       ]
      },
      {
       "output_type": "stream",
       "stream": "stdout",
       "text": [
        "\n",
        "16054000 - 16100000"
       ]
      },
      {
       "output_type": "stream",
       "stream": "stdout",
       "text": [
        "\n",
        "16100000 - 16146000"
       ]
      },
      {
       "output_type": "stream",
       "stream": "stdout",
       "text": [
        "\n",
        "16146000 - 16192000"
       ]
      },
      {
       "output_type": "stream",
       "stream": "stdout",
       "text": [
        "\n",
        "16192000 - 16238000"
       ]
      },
      {
       "output_type": "stream",
       "stream": "stdout",
       "text": [
        "\n",
        "16238000 - 16284000"
       ]
      },
      {
       "output_type": "stream",
       "stream": "stdout",
       "text": [
        "\n",
        "16284000 - 16330000"
       ]
      },
      {
       "output_type": "stream",
       "stream": "stdout",
       "text": [
        "\n",
        "16330000 - 16376000"
       ]
      },
      {
       "output_type": "stream",
       "stream": "stdout",
       "text": [
        "\n",
        "16376000 - 16422000"
       ]
      },
      {
       "output_type": "stream",
       "stream": "stdout",
       "text": [
        "\n",
        "16422000 - 16468000"
       ]
      },
      {
       "output_type": "stream",
       "stream": "stdout",
       "text": [
        "\n",
        "16468000 - 16514000"
       ]
      },
      {
       "output_type": "stream",
       "stream": "stdout",
       "text": [
        "\n",
        "16514000 - 16560000"
       ]
      },
      {
       "output_type": "stream",
       "stream": "stdout",
       "text": [
        "\n",
        "16560000 - 16606000"
       ]
      },
      {
       "output_type": "stream",
       "stream": "stdout",
       "text": [
        "\n",
        "16606000 - 16652000"
       ]
      },
      {
       "output_type": "stream",
       "stream": "stdout",
       "text": [
        "\n",
        "16652000 - 16698000"
       ]
      },
      {
       "output_type": "stream",
       "stream": "stdout",
       "text": [
        "\n",
        "16698000 - 16744000"
       ]
      },
      {
       "output_type": "stream",
       "stream": "stdout",
       "text": [
        "\n",
        "16744000 - 16790000"
       ]
      },
      {
       "output_type": "stream",
       "stream": "stdout",
       "text": [
        "\n",
        "16790000 - 16836000"
       ]
      },
      {
       "output_type": "stream",
       "stream": "stdout",
       "text": [
        "\n",
        "16836000 - 16882000"
       ]
      },
      {
       "output_type": "stream",
       "stream": "stdout",
       "text": [
        "\n",
        "16882000 - 16928000"
       ]
      },
      {
       "output_type": "stream",
       "stream": "stdout",
       "text": [
        "\n",
        "16928000 - 16974000"
       ]
      },
      {
       "output_type": "stream",
       "stream": "stdout",
       "text": [
        "\n",
        "16974000 - 17020000"
       ]
      },
      {
       "output_type": "stream",
       "stream": "stdout",
       "text": [
        "\n",
        "17020000 - 17066000"
       ]
      },
      {
       "output_type": "stream",
       "stream": "stdout",
       "text": [
        "\n",
        "17066000 - 17112000"
       ]
      },
      {
       "output_type": "stream",
       "stream": "stdout",
       "text": [
        "\n",
        "17112000 - 17158000"
       ]
      },
      {
       "output_type": "stream",
       "stream": "stdout",
       "text": [
        "\n",
        "17158000 - 17204000"
       ]
      },
      {
       "output_type": "stream",
       "stream": "stdout",
       "text": [
        "\n",
        "17204000 - 17250000"
       ]
      },
      {
       "output_type": "stream",
       "stream": "stdout",
       "text": [
        "\n",
        "17250000 - 17296000"
       ]
      },
      {
       "output_type": "stream",
       "stream": "stdout",
       "text": [
        "\n",
        "17296000 - 17342000"
       ]
      },
      {
       "output_type": "stream",
       "stream": "stdout",
       "text": [
        "\n",
        "17342000 - 17388000"
       ]
      },
      {
       "output_type": "stream",
       "stream": "stdout",
       "text": [
        "\n",
        "17388000 - 17434000"
       ]
      },
      {
       "output_type": "stream",
       "stream": "stdout",
       "text": [
        "\n",
        "17434000 - 17480000"
       ]
      },
      {
       "output_type": "stream",
       "stream": "stdout",
       "text": [
        "\n",
        "17480000 - 17526000"
       ]
      },
      {
       "output_type": "stream",
       "stream": "stdout",
       "text": [
        "\n",
        "17526000 - 17572000"
       ]
      },
      {
       "output_type": "stream",
       "stream": "stdout",
       "text": [
        "\n",
        "17572000 - 17618000"
       ]
      },
      {
       "output_type": "stream",
       "stream": "stdout",
       "text": [
        "\n",
        "17618000 - 17664000"
       ]
      },
      {
       "output_type": "stream",
       "stream": "stdout",
       "text": [
        "\n",
        "17664000 - 17710000"
       ]
      },
      {
       "output_type": "stream",
       "stream": "stdout",
       "text": [
        "\n",
        "17710000 - 17756000"
       ]
      },
      {
       "output_type": "stream",
       "stream": "stdout",
       "text": [
        "\n",
        "17756000 - 17802000"
       ]
      },
      {
       "output_type": "stream",
       "stream": "stdout",
       "text": [
        "\n",
        "17802000 - 17848000"
       ]
      },
      {
       "output_type": "stream",
       "stream": "stdout",
       "text": [
        "\n",
        "17848000 - 17894000"
       ]
      },
      {
       "output_type": "stream",
       "stream": "stdout",
       "text": [
        "\n",
        "17894000 - 17940000"
       ]
      },
      {
       "output_type": "stream",
       "stream": "stdout",
       "text": [
        "\n",
        "17940000 - 17986000"
       ]
      },
      {
       "output_type": "stream",
       "stream": "stdout",
       "text": [
        "\n",
        "17986000 - 18032000"
       ]
      },
      {
       "output_type": "stream",
       "stream": "stdout",
       "text": [
        "\n",
        "18032000 - 18078000"
       ]
      },
      {
       "output_type": "stream",
       "stream": "stdout",
       "text": [
        "\n",
        "18078000 - 18124000"
       ]
      },
      {
       "output_type": "stream",
       "stream": "stdout",
       "text": [
        "\n",
        "18124000 - 18170000"
       ]
      },
      {
       "output_type": "stream",
       "stream": "stdout",
       "text": [
        "\n",
        "18170000 - 18216000"
       ]
      },
      {
       "output_type": "stream",
       "stream": "stdout",
       "text": [
        "\n",
        "18216000 - 18262000"
       ]
      },
      {
       "output_type": "stream",
       "stream": "stdout",
       "text": [
        "\n",
        "18262000 - 18308000"
       ]
      },
      {
       "output_type": "stream",
       "stream": "stdout",
       "text": [
        "\n",
        "18308000 - 18354000"
       ]
      },
      {
       "output_type": "stream",
       "stream": "stdout",
       "text": [
        "\n",
        "18354000 - 18400000"
       ]
      },
      {
       "output_type": "stream",
       "stream": "stdout",
       "text": [
        "\n",
        "18400000 - 18446000"
       ]
      },
      {
       "output_type": "stream",
       "stream": "stdout",
       "text": [
        "\n",
        "18446000 - 18492000"
       ]
      },
      {
       "output_type": "stream",
       "stream": "stdout",
       "text": [
        "\n",
        "18492000 - 18538000"
       ]
      },
      {
       "output_type": "stream",
       "stream": "stdout",
       "text": [
        "\n",
        "18538000 - 18584000"
       ]
      },
      {
       "output_type": "stream",
       "stream": "stdout",
       "text": [
        "\n",
        "18584000 - 18630000"
       ]
      },
      {
       "output_type": "stream",
       "stream": "stdout",
       "text": [
        "\n",
        "18630000 - 18676000"
       ]
      },
      {
       "output_type": "stream",
       "stream": "stdout",
       "text": [
        "\n",
        "18676000 - 18722000"
       ]
      },
      {
       "output_type": "stream",
       "stream": "stdout",
       "text": [
        "\n",
        "18722000 - 18768000"
       ]
      },
      {
       "output_type": "stream",
       "stream": "stdout",
       "text": [
        "\n",
        "18768000 - 18814000"
       ]
      },
      {
       "output_type": "stream",
       "stream": "stdout",
       "text": [
        "\n",
        "18814000 - 18860000"
       ]
      },
      {
       "output_type": "stream",
       "stream": "stdout",
       "text": [
        "\n",
        "18860000 - 18906000"
       ]
      },
      {
       "output_type": "stream",
       "stream": "stdout",
       "text": [
        "\n",
        "18906000 - 18952000"
       ]
      },
      {
       "output_type": "stream",
       "stream": "stdout",
       "text": [
        "\n",
        "18952000 - 18998000"
       ]
      },
      {
       "output_type": "stream",
       "stream": "stdout",
       "text": [
        "\n",
        "18998000 - 19044000"
       ]
      },
      {
       "output_type": "stream",
       "stream": "stdout",
       "text": [
        "\n",
        "19044000 - 19090000"
       ]
      },
      {
       "output_type": "stream",
       "stream": "stdout",
       "text": [
        "\n",
        "19090000 - 19136000"
       ]
      },
      {
       "output_type": "stream",
       "stream": "stdout",
       "text": [
        "\n",
        "19136000 - 19182000"
       ]
      },
      {
       "output_type": "stream",
       "stream": "stdout",
       "text": [
        "\n",
        "19182000 - 19228000"
       ]
      },
      {
       "output_type": "stream",
       "stream": "stdout",
       "text": [
        "\n",
        "19228000 - 19274000"
       ]
      },
      {
       "output_type": "stream",
       "stream": "stdout",
       "text": [
        "\n",
        "19274000 - 19320000"
       ]
      },
      {
       "output_type": "stream",
       "stream": "stdout",
       "text": [
        "\n",
        "19320000 - 19366000"
       ]
      },
      {
       "output_type": "stream",
       "stream": "stdout",
       "text": [
        "\n",
        "19366000 - 19412000"
       ]
      },
      {
       "output_type": "stream",
       "stream": "stdout",
       "text": [
        "\n",
        "19412000 - 19458000"
       ]
      },
      {
       "output_type": "stream",
       "stream": "stdout",
       "text": [
        "\n",
        "19458000 - 19504000"
       ]
      },
      {
       "output_type": "stream",
       "stream": "stdout",
       "text": [
        "\n",
        "19504000 - 19550000"
       ]
      },
      {
       "output_type": "stream",
       "stream": "stdout",
       "text": [
        "\n",
        "19550000 - 19596000"
       ]
      },
      {
       "output_type": "stream",
       "stream": "stdout",
       "text": [
        "\n",
        "19596000 - 19642000"
       ]
      },
      {
       "output_type": "stream",
       "stream": "stdout",
       "text": [
        "\n",
        "19642000 - 19688000"
       ]
      },
      {
       "output_type": "stream",
       "stream": "stdout",
       "text": [
        "\n",
        "19688000 - 19734000"
       ]
      },
      {
       "output_type": "stream",
       "stream": "stdout",
       "text": [
        "\n",
        "19734000 - 19780000"
       ]
      },
      {
       "output_type": "stream",
       "stream": "stdout",
       "text": [
        "\n",
        "D:\\TEMP\\GIDS_ZHOU\\out_201206//t20120601end.tif"
       ]
      },
      {
       "output_type": "stream",
       "stream": "stdout",
       "text": [
        "\n"
       ]
      }
     ],
     "prompt_number": 13
    },
    {
     "cell_type": "code",
     "collapsed": false,
     "input": [],
     "language": "python",
     "metadata": {},
     "outputs": []
    }
   ],
   "metadata": {}
  }
 ]
}