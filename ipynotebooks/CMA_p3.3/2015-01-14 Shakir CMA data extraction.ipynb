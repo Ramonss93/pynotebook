{
 "metadata": {
  "name": "",
  "signature": "sha256:2f9a9d18ad53f9798892184e560cffdb820f22bf1d081a2ae6365e2fdbcf461f"
 },
 "nbformat": 3,
 "nbformat_minor": 0,
 "worksheets": [
  {
   "cells": [
    {
     "cell_type": "markdown",
     "metadata": {},
     "source": [
      "Import some modules that we are going to use"
     ]
    },
    {
     "cell_type": "code",
     "collapsed": false,
     "input": [
      "import numpy as np\n",
      "import pandas as pd\n",
      "import os\n",
      "import datetime\n",
      "from datetime import datetime\n",
      "import sys\n",
      "\n",
      "# from __future__ import division # apply when using python2.7"
     ],
     "language": "python",
     "metadata": {},
     "outputs": [],
     "prompt_number": 1
    },
    {
     "cell_type": "markdown",
     "metadata": {},
     "source": [
      "Some defined functions to iterate files in folder and to open and save raster files"
     ]
    },
    {
     "cell_type": "markdown",
     "metadata": {},
     "source": [
      "Next read the file into a pandas dataframe, set the datetime as index, select only the column of interest (TEMP in this case). As the values are hourly, let pandas resample to daily values."
     ]
    },
    {
     "cell_type": "code",
     "collapsed": false,
     "input": [
      "def FilesFolder(inGSODFolder, format_end=''):\n",
      "    \"\"\"\n",
      "    Iterate through folder to find files.\n",
      "\n",
      "    Parameters\n",
      "    ----------\n",
      "    inGSODFolder : folder\n",
      "        folder to use for iteration.\n",
      "    format_end : string\n",
      "        Similar use as wildmark.\n",
      "\n",
      "    Returns\n",
      "    -------\n",
      "    st_wmo : list\n",
      "        list with files in folder specified by wildmark\n",
      "\n",
      "    \"\"\"    \n",
      "    st_wmo = [os.path.join(root, name)\n",
      "               for root, dirs, files in os.walk(inGSODFolder)\n",
      "                 for name in files                 \n",
      "                 if name.endswith(format_end)]\n",
      "    return st_wmo\n",
      "\n",
      "def shakir_data_extraction(folder_in, excel_sheet_out, station_number):\n",
      "    \n",
      "    file_ = FilesFolder(folder_in, format_end='.TXT')    \n",
      "    print ('files are read from folder')\n",
      "    print (file_)   \n",
      "    \n",
      "    print ('initiate empty base dataframe')\n",
      "    df_base = pd.DataFrame()\n",
      "\n",
      "    for f in file_:\n",
      "        print (f)\n",
      "        print ('start reading the file')\n",
      "        # read file and parse the dates correctly\n",
      "        df = pd.read_csv(f, sep='\\t', header=None,  \n",
      "                         parse_dates={'datetime': [1,2,3,4]}, \n",
      "                         date_parser=lambda x: pd.datetime.strptime(x, '%Y %m %d %H'))\n",
      "        print ('file in cache')\n",
      "        # set name of columns\n",
      "        columns_df = ['datetime','Station','StationPressure','col-7','Temperature','col-9','col-10','col-11','RelativeHumidity','col-13','col-14','col-15','Precipitation','col-17','col-18','Windspeed','col-20','col-21','col-22','col-23','col-24','col-25', \\\n",
      "                      'col-26','col-27','col-28','col-29','col-30']\n",
      "        df.columns = columns_df\n",
      "\n",
      "        # set date-time as index and select the variables needed\n",
      "        df.set_index('datetime', inplace=True)\n",
      "        df_sel = df[['Station', 'StationPressure','Temperature','RelativeHumidity','Precipitation','Windspeed']]\n",
      "\n",
      "        # replace missing, blank and values for snow as NaN (based on metadata)\n",
      "        df_sel.replace(32766, np.nan, inplace=True) # missing\n",
      "        df_sel.replace(32744, np.nan, inplace=True) # blank\n",
      "        df_sel.replace(32700, np.nan, inplace=True) # snow\n",
      "\n",
      "        # make appropriate conversions to right unit (based on metadata)\n",
      "        print ('apply conversions')\n",
      "        df_sel.StationPressure *= 0.1\n",
      "        df_sel.Temperature *= 0.1\n",
      "        df_sel.RelativeHumidity *= 1\n",
      "        df_sel.Precipitation *= 0.1\n",
      "        df_sel.Windspeed *= 0.1    \n",
      "\n",
      "        # group by Station ID and resample to daily values\n",
      "        print ('resample to daily values')\n",
      "        df_selDay = df_sel.groupby('Station').resample('1D')\n",
      "        df_selDay = df_selDay.reset_index()\n",
      "        df_selDay = df_selDay.set_index('datetime')\n",
      "\n",
      "        # query for station number\n",
      "        print ('select station number')        \n",
      "        query_set = 'Station == '+str(station_number)\n",
      "        print (query_set)\n",
      "        df_selDay_query = df_selDay.query(query_set)\n",
      "\n",
      "        print (df_selDay_query.head()) # shows the first five values of the table    \n",
      "        print ('concatenate dataframes')\n",
      "        df_base = pd.concat([df_base,df_selDay_query])\n",
      "\n",
      "    print ('finished reading files, save as excel sheet')\n",
      "    return df_base.to_excel(excel_sheet_out)"
     ],
     "language": "python",
     "metadata": {},
     "outputs": [],
     "prompt_number": 10
    },
    {
     "cell_type": "code",
     "collapsed": false,
     "input": [
      "folder_in = sys.argv[-3] #r'E:\\Data\\WangKun@Mattijn\\Atmospheric data_hourly\\2012\\201201'\n",
      "excel_sheet_out = sys.argv[-2] #r'C:\\Users\\lenovo\\AppData\\Roaming\\Skype\\My Skype Received Files//month2.xlsx'\n",
      "station_number = sys.argv[-1] # 51642\n",
      "print ('folder_in',folder_in)\n",
      "print ('excel_sheet_out',excel_sheet_out)\n",
      "print ('station_number',station_number)\n",
      "\n",
      "shakir_data_extraction(folder_in, excel_sheet_out, station_number)"
     ],
     "language": "python",
     "metadata": {},
     "outputs": [
      {
       "output_type": "stream",
       "stream": "stdout",
       "text": [
        "files are read from folder\n",
        "['E:\\\\Data\\\\WangKun@Mattijn\\\\Atmospheric data_hourly\\\\2012\\\\201201\\\\SURF_CLI_CHN_MUL_FTM-201201.TXT', 'E:\\\\Data\\\\WangKun@Mattijn\\\\Atmospheric data_hourly\\\\2012\\\\201201\\\\SURF_CLI_CHN_MUL_FTM-201202.TXT']\n",
        "initiate empty base dataframe\n",
        "E:\\Data\\WangKun@Mattijn\\Atmospheric data_hourly\\2012\\201201\\SURF_CLI_CHN_MUL_FTM-201201.TXT\n",
        "start reading the file\n",
        "file in cache"
       ]
      },
      {
       "output_type": "stream",
       "stream": "stdout",
       "text": [
        "\n",
        "apply conversions"
       ]
      },
      {
       "output_type": "stream",
       "stream": "stdout",
       "text": [
        "\n",
        "resample to daily values"
       ]
      },
      {
       "output_type": "stream",
       "stream": "stdout",
       "text": [
        "\n",
        "select station number"
       ]
      },
      {
       "output_type": "stream",
       "stream": "stdout",
       "text": [
        "\n",
        "Station == 51642\n",
        "            Station  Precipitation  RelativeHumidity  StationPressure  \\\n",
        "datetime                                                                \n",
        "2012-01-01    51642              0         72.958333       921.245833   \n",
        "2012-01-02    51642              0         73.458333       917.695833   \n",
        "2012-01-03    51642              0         72.083333       917.037500   \n",
        "2012-01-04    51642              0         73.666667       912.812500   \n",
        "2012-01-05    51642              0         75.666667       909.854167   \n",
        "\n",
        "            Temperature  Windspeed  \n",
        "datetime                            \n",
        "2012-01-01    -9.729167   1.891667  \n",
        "2012-01-02   -10.083333   1.825000  \n",
        "2012-01-03    -9.950000   1.800000  \n",
        "2012-01-04   -10.695833   1.966667  \n",
        "2012-01-05   -11.004167   1.541667  \n",
        "concatenate dataframes\n",
        "E:\\Data\\WangKun@Mattijn\\Atmospheric data_hourly\\2012\\201201\\SURF_CLI_CHN_MUL_FTM-201202.TXT\n",
        "start reading the file\n",
        "file in cache"
       ]
      },
      {
       "output_type": "stream",
       "stream": "stdout",
       "text": [
        "\n",
        "apply conversions"
       ]
      },
      {
       "output_type": "stream",
       "stream": "stdout",
       "text": [
        "\n",
        "resample to daily values"
       ]
      },
      {
       "output_type": "stream",
       "stream": "stdout",
       "text": [
        "\n",
        "select station number"
       ]
      },
      {
       "output_type": "stream",
       "stream": "stdout",
       "text": [
        "\n",
        "Station == 51642\n",
        "            Station  Precipitation  RelativeHumidity  StationPressure  \\\n",
        "datetime                                                                \n",
        "2012-02-01    51642              0         69.750000       914.720833   \n",
        "2012-02-02    51642              0         70.875000       912.441667   \n",
        "2012-02-03    51642              0         75.625000       907.158333   \n",
        "2012-02-04    51642              0         74.250000       904.258333   \n",
        "2012-02-05    51642              0         70.166667       906.929167   \n",
        "\n",
        "            Temperature  Windspeed  \n",
        "datetime                            \n",
        "2012-02-01    -8.845833   2.258333  \n",
        "2012-02-02   -10.650000   2.250000  \n",
        "2012-02-03   -10.450000   1.891667  \n",
        "2012-02-04    -8.970833   1.912500  \n",
        "2012-02-05    -5.620833   2.212500  \n",
        "concatenate dataframes\n",
        "finished reading files, save as excel sheet\n"
       ]
      }
     ],
     "prompt_number": 11
    },
    {
     "cell_type": "markdown",
     "metadata": {},
     "source": [
      "Following code, can be used to extract and resample hourly radiation data"
     ]
    },
    {
     "cell_type": "code",
     "collapsed": false,
     "input": [
      "df = pd.read_csv(f, parse_dates={'datetime': [4,5,6,7]}, \n",
      "                 date_parser=lambda x: pd.datetime.strptime(x, '%Y %m %d %H'))\n",
      "\n",
      "# set name of columns\n",
      "columns_df = ['datetime','Station','lat','long','elevm','TotalRadiation','NetRadiation','DiffuseRadiation','ReflectedRadiation',\n",
      "              'VertDirectRad']\n",
      "df.columns = columns_df\n",
      "\n",
      "# set date-time as index and select the variables needed\n",
      "df.set_index('datetime', inplace=True)\n",
      "df_sel = df[['Station', param]]#'STP','TEMP','REHU','PRCP','WDSP']]\n",
      "\n",
      "# replace missing, blank and values for snow as NaN\n",
      "df_sel.replace(32766, np.nan, inplace=True)\n",
      "df_sel.replace(32744, np.nan, inplace=True)\n",
      "#df_sel.replace(32700, 0, inplace=True)\n",
      "\n",
      "# make appropriate concersions to right unit\n",
      "#df_sel.STP *= 0.1\n",
      "#df_sel.WDSP *= 10\n",
      "#df_sel.PRCP *= 10\n",
      "#df_sel.STP *= 0.1\n",
      "\n",
      "# group by Station ID and resample to daily values\n",
      "df_selDay = df_sel.groupby('Station').resample('1D', how='mean')\n",
      "df_selDay = df_selDay.drop('Station',1)\n",
      "df_selDay = df_selDay.reset_index()\n",
      "df_selDay = df_selDay.set_index('datetime')\n",
      "#print df_selDay.head()\n",
      "print(df_selDay.head())"
     ],
     "language": "python",
     "metadata": {},
     "outputs": []
    }
   ],
   "metadata": {}
  }
 ]
}