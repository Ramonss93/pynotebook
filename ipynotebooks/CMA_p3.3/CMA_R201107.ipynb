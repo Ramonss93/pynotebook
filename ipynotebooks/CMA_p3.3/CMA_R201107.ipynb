{
 "metadata": {
  "name": ""
 },
 "nbformat": 3,
 "nbformat_minor": 0,
 "worksheets": [
  {
   "cells": [
    {
     "cell_type": "code",
     "collapsed": false,
     "input": [
      "filepath = r'E:\\Data\\WangKun@Mattijn\\Atmospheric data_hourly\\2011\\201107'\n",
      "filestations = r'E:\\Data\\WangKun@Mattijn\\Radiation_hourly\\AWS_stations_Aalbers07.csv'\n",
      "folderDEM = r'E:\\Data\\WangKun@Mattijn\\DEM_TIL07'\n",
      "folderMSK = r'E:\\Data\\WangKun@Mattijn\\DEM_MA07'\n",
      "prefix = 'r'\n",
      "outFolder = r'E:\\Data\\WangKun@Mattijn\\outfolder\\r07//'\n",
      "start = '7/1/2011'\n",
      "end = '7/31/2011'\n",
      "param = 'PRCP'"
     ],
     "language": "python",
     "metadata": {},
     "outputs": [],
     "prompt_number": 1
    },
    {
     "cell_type": "code",
     "collapsed": false,
     "input": [
      "from scipy import stats\n",
      "from scipy.spatial.distance import cdist\n",
      "from scipy.spatial import cKDTree as KDTree\n",
      "import statsmodels.api as sm\n",
      "import numpy as np\n",
      "import pandas as pd\n",
      "from osgeo import gdal\n",
      "import os\n",
      "import datetime\n",
      "from datetime import datetime\n",
      "#from __future__ import division"
     ],
     "language": "python",
     "metadata": {},
     "outputs": [],
     "prompt_number": 2
    },
    {
     "cell_type": "code",
     "collapsed": false,
     "input": [
      "def FILES(inGSODFolder):\n",
      "    st_wmo = [os.path.join(root, name)\n",
      "               for root, dirs, files in os.walk(inGSODFolder)\n",
      "                 for name in files                 \n",
      "                 if name.endswith('')]\n",
      "    return st_wmo"
     ],
     "language": "python",
     "metadata": {},
     "outputs": [],
     "prompt_number": 3
    },
    {
     "cell_type": "code",
     "collapsed": false,
     "input": [
      "def DEMfiles(inDEMFolder):\n",
      "    dem_files = [os.path.join(root, name)\n",
      "               for root, dirs, files in os.walk(inDEMFolder)\n",
      "                 for name in files\n",
      "                 if name.endswith('.TIF')]\n",
      "    return dem_files"
     ],
     "language": "python",
     "metadata": {},
     "outputs": [],
     "prompt_number": 4
    },
    {
     "cell_type": "code",
     "collapsed": false,
     "input": [
      "def inRaster(fileDEM):\n",
      "    raster = gdal.Open(fileDEM, gdal.GA_ReadOnly)\n",
      "    band = raster.GetRasterBand(1)\n",
      "    dem = band.ReadAsArray()\n",
      "    extent = raster.GetGeoTransform()\n",
      "    return raster, dem, extent"
     ],
     "language": "python",
     "metadata": {},
     "outputs": [],
     "prompt_number": 5
    },
    {
     "cell_type": "code",
     "collapsed": false,
     "input": [
      "def saveRaster(path, array, datatype=3, formatraster=\"GTiff\"): # float32 = 6, signed int = 3\n",
      "    # Set Driver\n",
      "    format_ = formatraster #save as format\n",
      "    driver = gdal.GetDriverByName( format_ )\n",
      "    driver.Register()\n",
      "    \n",
      "    # Set Metadata for Raster output\n",
      "    cols = raster.RasterXSize\n",
      "    rows = raster.RasterYSize\n",
      "    bands = raster.RasterCount\n",
      "    datatype = 6#band.DataType\n",
      "    \n",
      "    # Set Projection for Raster\n",
      "    outDataset = driver.Create(outFilename, cols, rows, bands, datatype)\n",
      "    geoTransform = raster.GetGeoTransform()\n",
      "    outDataset.SetGeoTransform(geoTransform)\n",
      "    proj = raster.GetProjection()\n",
      "    outDataset.SetProjection(proj)\n",
      "    \n",
      "    # Write output to band 1 of new Raster\n",
      "    outBand = outDataset.GetRasterBand(1)\n",
      "    outBand.WriteArray(array) #save input array\n",
      "    #outBand.WriteArray(dem)\n",
      "    \n",
      "    # Close and finalise newly created Raster\n",
      "    #F_M01 = None\n",
      "    outBand = None\n",
      "    proj = None\n",
      "    geoTransform = None\n",
      "    outDataset = None\n",
      "    driver = None\n",
      "    datatype = None\n",
      "    bands = None\n",
      "    rows = None\n",
      "    cols = None\n",
      "    driver = None\n",
      "    array = None"
     ],
     "language": "python",
     "metadata": {},
     "outputs": [],
     "prompt_number": 6
    },
    {
     "cell_type": "code",
     "collapsed": false,
     "input": [
      "def IDWKDtree(x,y):\n",
      "    x_y = [(x,y)]\n",
      "    x_ = (x*extent[1]+extent[0]+extent[1]/2) # longitude aalbers projection (meters)\n",
      "    y_ = (y*extent[5]+extent[3]+extent[5]/2) # latitude aalbers projection ( meters)\n",
      "    \n",
      "    dem_1 = dem[y,x]\n",
      "    dist_tree, ix_tree = tree.query(x_y, k=8, eps=0, p=1) # returns distance and index\n",
      "    dist_tree = dist_tree.flatten()\n",
      "    ix_tree = ix_tree.flatten()\n",
      "    df_selection = df.ix[ix_tree.ravel()] # select 8 neighbours\n",
      "    c = df_selection.ix[:,1] # this one need to change\n",
      "    \n",
      "    #print('\\n supposedly this is the list\\n', c)\n",
      "    \n",
      "    if dist_tree[0] < 1e-10:\n",
      "        wz = c.ix[ix_tree[0]]\n",
      "        print ('hier zit het', wz)\n",
      "    else:\n",
      "        w = 1 / dist_tree**2\n",
      "    w /= np.sum(w)\n",
      "    wz = np.dot(w, c.ix[ix_tree])\n",
      "        \n",
      "    return wz"
     ],
     "language": "python",
     "metadata": {},
     "outputs": [],
     "prompt_number": 7
    },
    {
     "cell_type": "code",
     "collapsed": false,
     "input": [
      "# select meteorological data file\n",
      "file_ = FILES(filepath)\n",
      "f = file_[0]\n",
      "print (f)\n",
      "\n",
      "# create range of dates\n",
      "rng = pd.date_range(start, end, freq='D')\n",
      "print (rng)"
     ],
     "language": "python",
     "metadata": {},
     "outputs": [
      {
       "output_type": "stream",
       "stream": "stdout",
       "text": [
        "E:\\Data\\WangKun@Mattijn\\Atmospheric data_hourly\\2011\\201107\\SURF_CLI_CHN_MUL_FTM-201107.TXT\n",
        "<class 'pandas.tseries.index.DatetimeIndex'>\n",
        "[2011-07-01 00:00:00, ..., 2011-07-31 00:00:00]\n",
        "Length: 31, Freq: D, Timezone: None\n"
       ]
      }
     ],
     "prompt_number": 8
    },
    {
     "cell_type": "code",
     "collapsed": false,
     "input": [
      "# read file and parse the dates correctly\n",
      "df = pd.read_csv(f, sep='\\t', header=None,  \n",
      "                 parse_dates={'datetime': [1,2,3,4]}, \n",
      "                 date_parser=lambda x: pd.datetime.strptime(x, '%Y %m %d %H'))\n",
      "\n",
      "# set name of columns\n",
      "columns_df = ['datetime','Station','STP','a','TEMP','b','c','d','REHU','e','f','g','PRCP','h','i','WDSP','j','k','l','m','n','o', \\\n",
      "              'p','q','r','s','t']\n",
      "df.columns = columns_df\n",
      "\n",
      "# set date-time as index and select the variables needed\n",
      "df.set_index('datetime', inplace=True)\n",
      "df_sel = df[['Station', param]]#'STP','TEMP','REHU','PRCP','WDSP']]\n",
      "\n",
      "# replace missing, blank and values for snow as NaN\n",
      "df_sel.replace(32766, 0, inplace=True)\n",
      "df_sel.replace(32744, 0, inplace=True)\n",
      "df_sel.replace(32700, 0, inplace=True)\n",
      "\n",
      "# make appropriate concersions to right unit\n",
      "#df_sel.STP *= 0.1\n",
      "#df_sel.WDSP *= 10\n",
      "df_sel.PRCP *= 10\n",
      "#df_sel.STP *= 0.1\n",
      "\n",
      "# group by Station ID and resample to daily values\n",
      "df_selDay = df_sel.groupby('Station').resample('1D', how='sum')\n",
      "df_selDay = df_selDay.drop('Station',1)\n",
      "df_selDay = df_selDay.reset_index()\n",
      "df_selDay = df_selDay.set_index('datetime')\n",
      "#print df_selDay.head()\n",
      "print(df_selDay.head())"
     ],
     "language": "python",
     "metadata": {},
     "outputs": [
      {
       "output_type": "stream",
       "stream": "stdout",
       "text": [
        "            Station  PRCP\n",
        "datetime                 \n",
        "2011-07-01    50136     0\n",
        "2011-07-02    50136     0\n",
        "2011-07-03    50136     0\n",
        "2011-07-04    50136   560\n",
        "2011-07-05    50136    10\n"
       ]
      }
     ],
     "prompt_number": 9
    },
    {
     "cell_type": "code",
     "collapsed": false,
     "input": [
      "rsters = DEMfiles(folderDEM)\n",
      "#print (len(rsters))\n",
      "masks = DEMfiles(folderMSK)\n",
      "\n",
      "max_base = 0\n",
      "for rster in rsters:    \n",
      "    if len(rster) > max_base:\n",
      "        max_base = len(rster)\n",
      "max_one = max_base - 1\n",
      "max_two = max_base - 2\n",
      "\n",
      "#st_wmo = GSODfiles(folderGSOD)\n",
      "for rster in rsters:    \n",
      "    raster, dem, extent = inRaster(rster)    \n",
      "    for mask in masks:\n",
      "        if len(rster) == max_base and len(mask)==max_one:\n",
      "            if int(mask[-6:-4]) == int(rster[-6:-4]):\n",
      "                mskpth = mask                \n",
      "        elif len(rster) == max_one and len(mask)==max_two:\n",
      "            if int(mask[-5:-4]) == int(rster[-5:-4]):\n",
      "                mskpth = mask\n",
      "    m_raster, m_dem, m_extent = inRaster(mskpth)\n",
      "    #print raster.GetDescription()\n",
      "    #print m_raster.GetDescription()\n",
      "    #for date in date_all:\n",
      "    for i in rng:\n",
      "        \n",
      "        # read station file\n",
      "        df_stations = pd.read_csv(filestations)        \n",
      "        \n",
      "        df_stations['Y_LAT'] = (df_stations.POINT_Y-extent[3])/extent[5]\n",
      "        df_stations['X_LON'] = (df_stations.POINT_X-extent[0])/extent[1]\n",
      "        \n",
      "        #print ('\\ndate of range\\n', i)\n",
      "        data_left = df_selDay.ix[i]    \n",
      "        sel_merge = pd.merge(data_left, df_stations, on='Station', how='inner', )\n",
      "        #print '\\nInner merge on station and data frame\\n', sel_merge.head()\n",
      "        \n",
      "        #TEMP\n",
      "        df = sel_merge[pd.notnull(sel_merge[param])]\n",
      "        df.reset_index(drop=True, inplace=True)\n",
      "        \n",
      "        #df.TEMP =df.TEMP.astype(int)\n",
      "        #print ('\\nDrop not null and reset index\\n', df.head())\n",
      "\n",
      "        Longscaled = df.ix[:,8]\n",
      "        #print '\\nlongscaled\\n', Longscaled\n",
      "        Latscaled = df.ix[:,7]\n",
      "        #print '\\nlatscaled\\n', Latscaled\n",
      "        #tree = KDTree(zip(Longscaled,Latscaled), leafsize=11)\n",
      "        tree = KDTree(list(zip(Longscaled,Latscaled)), leafsize=11)\n",
      "        \n",
      "        tp = np.zeros([dem.shape[1],dem.shape[0]])\n",
      "        \n",
      "        #x = 0\n",
      "        #y = 0\n",
      "        #IDWKDtree(x,y)\n",
      "        dem_j = m_dem.shape[1]\n",
      "        dem_i = m_dem.shape[0]\n",
      "        for x in range(0,dem_j):\n",
      "            for y in range(0,dem_i):\n",
      "        #        print x, y, m_dem[y,x]\n",
      "                if m_dem[y,x] == 1:\n",
      "                    tp[x][y] = IDWKDtree(x,y)\n",
      "                else:\n",
      "                    tp[x][y] = 32677        \n",
      "        \n",
      "#        for x in range(0,dem.shape[1],1):\n",
      "#            for y in range(0,dem.shape[0],1):\n",
      "#                tp[x][y] = GIDS(x,y)\n",
      "        tp = tp.T\n",
      "        \n",
      "        #save output as raster\n",
      "        if len(raster.GetDescription()) == max_base: # fixed code to check the length of the path\n",
      "            add = raster.GetDescription()[-6:-4]\n",
      "        else:\n",
      "            add = raster.GetDescription()[-5:-4]\n",
      "            \n",
      "        date = str(i.year)+str(i.month).zfill(2)+str(i.day).zfill(2)\n",
      "        outFilename = outFolder+prefix+str(date)+'_'+str(add.zfill(2))+'.tif'\n",
      "        print(outFilename)\n",
      "        \n",
      "        saveRaster(outFilename, tp)\n",
      "        outFilename = None\n",
      "        tp = None"
     ],
     "language": "python",
     "metadata": {},
     "outputs": [
      {
       "output_type": "stream",
       "stream": "stdout",
       "text": [
        "E:\\Data\\WangKun@Mattijn\\outfolder\\r07//r20110701_00.tif\n",
        "E:\\Data\\WangKun@Mattijn\\outfolder\\r07//r20110702_00.tif"
       ]
      },
      {
       "output_type": "stream",
       "stream": "stdout",
       "text": [
        "\n",
        "E:\\Data\\WangKun@Mattijn\\outfolder\\r07//r20110703_00.tif"
       ]
      },
      {
       "output_type": "stream",
       "stream": "stdout",
       "text": [
        "\n",
        "E:\\Data\\WangKun@Mattijn\\outfolder\\r07//r20110704_00.tif"
       ]
      },
      {
       "output_type": "stream",
       "stream": "stdout",
       "text": [
        "\n",
        "E:\\Data\\WangKun@Mattijn\\outfolder\\r07//r20110705_00.tif"
       ]
      },
      {
       "output_type": "stream",
       "stream": "stdout",
       "text": [
        "\n",
        "E:\\Data\\WangKun@Mattijn\\outfolder\\r07//r20110706_00.tif"
       ]
      },
      {
       "output_type": "stream",
       "stream": "stdout",
       "text": [
        "\n",
        "E:\\Data\\WangKun@Mattijn\\outfolder\\r07//r20110707_00.tif"
       ]
      },
      {
       "output_type": "stream",
       "stream": "stdout",
       "text": [
        "\n",
        "E:\\Data\\WangKun@Mattijn\\outfolder\\r07//r20110708_00.tif"
       ]
      },
      {
       "output_type": "stream",
       "stream": "stdout",
       "text": [
        "\n",
        "E:\\Data\\WangKun@Mattijn\\outfolder\\r07//r20110709_00.tif"
       ]
      },
      {
       "output_type": "stream",
       "stream": "stdout",
       "text": [
        "\n",
        "E:\\Data\\WangKun@Mattijn\\outfolder\\r07//r20110710_00.tif"
       ]
      },
      {
       "output_type": "stream",
       "stream": "stdout",
       "text": [
        "\n",
        "E:\\Data\\WangKun@Mattijn\\outfolder\\r07//r20110711_00.tif"
       ]
      },
      {
       "output_type": "stream",
       "stream": "stdout",
       "text": [
        "\n",
        "E:\\Data\\WangKun@Mattijn\\outfolder\\r07//r20110712_00.tif"
       ]
      },
      {
       "output_type": "stream",
       "stream": "stdout",
       "text": [
        "\n",
        "E:\\Data\\WangKun@Mattijn\\outfolder\\r07//r20110713_00.tif"
       ]
      },
      {
       "output_type": "stream",
       "stream": "stdout",
       "text": [
        "\n",
        "E:\\Data\\WangKun@Mattijn\\outfolder\\r07//r20110714_00.tif"
       ]
      },
      {
       "output_type": "stream",
       "stream": "stdout",
       "text": [
        "\n",
        "E:\\Data\\WangKun@Mattijn\\outfolder\\r07//r20110715_00.tif"
       ]
      },
      {
       "output_type": "stream",
       "stream": "stdout",
       "text": [
        "\n",
        "E:\\Data\\WangKun@Mattijn\\outfolder\\r07//r20110716_00.tif"
       ]
      },
      {
       "output_type": "stream",
       "stream": "stdout",
       "text": [
        "\n",
        "E:\\Data\\WangKun@Mattijn\\outfolder\\r07//r20110717_00.tif"
       ]
      },
      {
       "output_type": "stream",
       "stream": "stdout",
       "text": [
        "\n",
        "E:\\Data\\WangKun@Mattijn\\outfolder\\r07//r20110718_00.tif"
       ]
      },
      {
       "output_type": "stream",
       "stream": "stdout",
       "text": [
        "\n",
        "E:\\Data\\WangKun@Mattijn\\outfolder\\r07//r20110719_00.tif"
       ]
      },
      {
       "output_type": "stream",
       "stream": "stdout",
       "text": [
        "\n",
        "E:\\Data\\WangKun@Mattijn\\outfolder\\r07//r20110720_00.tif"
       ]
      },
      {
       "output_type": "stream",
       "stream": "stdout",
       "text": [
        "\n",
        "E:\\Data\\WangKun@Mattijn\\outfolder\\r07//r20110721_00.tif"
       ]
      },
      {
       "output_type": "stream",
       "stream": "stdout",
       "text": [
        "\n",
        "E:\\Data\\WangKun@Mattijn\\outfolder\\r07//r20110722_00.tif"
       ]
      },
      {
       "output_type": "stream",
       "stream": "stdout",
       "text": [
        "\n",
        "E:\\Data\\WangKun@Mattijn\\outfolder\\r07//r20110723_00.tif"
       ]
      },
      {
       "output_type": "stream",
       "stream": "stdout",
       "text": [
        "\n",
        "E:\\Data\\WangKun@Mattijn\\outfolder\\r07//r20110724_00.tif"
       ]
      },
      {
       "output_type": "stream",
       "stream": "stdout",
       "text": [
        "\n",
        "E:\\Data\\WangKun@Mattijn\\outfolder\\r07//r20110725_00.tif"
       ]
      },
      {
       "output_type": "stream",
       "stream": "stdout",
       "text": [
        "\n",
        "E:\\Data\\WangKun@Mattijn\\outfolder\\r07//r20110726_00.tif"
       ]
      },
      {
       "output_type": "stream",
       "stream": "stdout",
       "text": [
        "\n",
        "E:\\Data\\WangKun@Mattijn\\outfolder\\r07//r20110727_00.tif"
       ]
      },
      {
       "output_type": "stream",
       "stream": "stdout",
       "text": [
        "\n",
        "E:\\Data\\WangKun@Mattijn\\outfolder\\r07//r20110728_00.tif"
       ]
      },
      {
       "output_type": "stream",
       "stream": "stdout",
       "text": [
        "\n",
        "E:\\Data\\WangKun@Mattijn\\outfolder\\r07//r20110729_00.tif"
       ]
      },
      {
       "output_type": "stream",
       "stream": "stdout",
       "text": [
        "\n",
        "E:\\Data\\WangKun@Mattijn\\outfolder\\r07//r20110730_00.tif"
       ]
      },
      {
       "output_type": "stream",
       "stream": "stdout",
       "text": [
        "\n",
        "E:\\Data\\WangKun@Mattijn\\outfolder\\r07//r20110731_00.tif"
       ]
      },
      {
       "output_type": "stream",
       "stream": "stdout",
       "text": [
        "\n",
        "E:\\Data\\WangKun@Mattijn\\outfolder\\r07//r20110701_01.tif"
       ]
      },
      {
       "output_type": "stream",
       "stream": "stdout",
       "text": [
        "\n",
        "E:\\Data\\WangKun@Mattijn\\outfolder\\r07//r20110702_01.tif"
       ]
      },
      {
       "output_type": "stream",
       "stream": "stdout",
       "text": [
        "\n",
        "E:\\Data\\WangKun@Mattijn\\outfolder\\r07//r20110703_01.tif"
       ]
      },
      {
       "output_type": "stream",
       "stream": "stdout",
       "text": [
        "\n",
        "E:\\Data\\WangKun@Mattijn\\outfolder\\r07//r20110704_01.tif"
       ]
      },
      {
       "output_type": "stream",
       "stream": "stdout",
       "text": [
        "\n",
        "E:\\Data\\WangKun@Mattijn\\outfolder\\r07//r20110705_01.tif"
       ]
      },
      {
       "output_type": "stream",
       "stream": "stdout",
       "text": [
        "\n",
        "E:\\Data\\WangKun@Mattijn\\outfolder\\r07//r20110706_01.tif"
       ]
      },
      {
       "output_type": "stream",
       "stream": "stdout",
       "text": [
        "\n",
        "E:\\Data\\WangKun@Mattijn\\outfolder\\r07//r20110707_01.tif"
       ]
      },
      {
       "output_type": "stream",
       "stream": "stdout",
       "text": [
        "\n",
        "E:\\Data\\WangKun@Mattijn\\outfolder\\r07//r20110708_01.tif"
       ]
      },
      {
       "output_type": "stream",
       "stream": "stdout",
       "text": [
        "\n",
        "E:\\Data\\WangKun@Mattijn\\outfolder\\r07//r20110709_01.tif"
       ]
      },
      {
       "output_type": "stream",
       "stream": "stdout",
       "text": [
        "\n",
        "E:\\Data\\WangKun@Mattijn\\outfolder\\r07//r20110710_01.tif"
       ]
      },
      {
       "output_type": "stream",
       "stream": "stdout",
       "text": [
        "\n",
        "E:\\Data\\WangKun@Mattijn\\outfolder\\r07//r20110711_01.tif"
       ]
      },
      {
       "output_type": "stream",
       "stream": "stdout",
       "text": [
        "\n",
        "E:\\Data\\WangKun@Mattijn\\outfolder\\r07//r20110712_01.tif"
       ]
      },
      {
       "output_type": "stream",
       "stream": "stdout",
       "text": [
        "\n",
        "E:\\Data\\WangKun@Mattijn\\outfolder\\r07//r20110713_01.tif"
       ]
      },
      {
       "output_type": "stream",
       "stream": "stdout",
       "text": [
        "\n",
        "E:\\Data\\WangKun@Mattijn\\outfolder\\r07//r20110714_01.tif"
       ]
      },
      {
       "output_type": "stream",
       "stream": "stdout",
       "text": [
        "\n",
        "E:\\Data\\WangKun@Mattijn\\outfolder\\r07//r20110715_01.tif"
       ]
      },
      {
       "output_type": "stream",
       "stream": "stdout",
       "text": [
        "\n",
        "E:\\Data\\WangKun@Mattijn\\outfolder\\r07//r20110716_01.tif"
       ]
      },
      {
       "output_type": "stream",
       "stream": "stdout",
       "text": [
        "\n",
        "E:\\Data\\WangKun@Mattijn\\outfolder\\r07//r20110717_01.tif"
       ]
      },
      {
       "output_type": "stream",
       "stream": "stdout",
       "text": [
        "\n",
        "E:\\Data\\WangKun@Mattijn\\outfolder\\r07//r20110718_01.tif"
       ]
      },
      {
       "output_type": "stream",
       "stream": "stdout",
       "text": [
        "\n",
        "E:\\Data\\WangKun@Mattijn\\outfolder\\r07//r20110719_01.tif"
       ]
      },
      {
       "output_type": "stream",
       "stream": "stdout",
       "text": [
        "\n",
        "E:\\Data\\WangKun@Mattijn\\outfolder\\r07//r20110720_01.tif"
       ]
      },
      {
       "output_type": "stream",
       "stream": "stdout",
       "text": [
        "\n",
        "E:\\Data\\WangKun@Mattijn\\outfolder\\r07//r20110721_01.tif"
       ]
      },
      {
       "output_type": "stream",
       "stream": "stdout",
       "text": [
        "\n",
        "E:\\Data\\WangKun@Mattijn\\outfolder\\r07//r20110722_01.tif"
       ]
      },
      {
       "output_type": "stream",
       "stream": "stdout",
       "text": [
        "\n",
        "E:\\Data\\WangKun@Mattijn\\outfolder\\r07//r20110723_01.tif"
       ]
      },
      {
       "output_type": "stream",
       "stream": "stdout",
       "text": [
        "\n",
        "E:\\Data\\WangKun@Mattijn\\outfolder\\r07//r20110724_01.tif"
       ]
      },
      {
       "output_type": "stream",
       "stream": "stdout",
       "text": [
        "\n",
        "E:\\Data\\WangKun@Mattijn\\outfolder\\r07//r20110725_01.tif"
       ]
      },
      {
       "output_type": "stream",
       "stream": "stdout",
       "text": [
        "\n",
        "E:\\Data\\WangKun@Mattijn\\outfolder\\r07//r20110726_01.tif"
       ]
      },
      {
       "output_type": "stream",
       "stream": "stdout",
       "text": [
        "\n",
        "E:\\Data\\WangKun@Mattijn\\outfolder\\r07//r20110727_01.tif"
       ]
      },
      {
       "output_type": "stream",
       "stream": "stdout",
       "text": [
        "\n",
        "E:\\Data\\WangKun@Mattijn\\outfolder\\r07//r20110728_01.tif"
       ]
      },
      {
       "output_type": "stream",
       "stream": "stdout",
       "text": [
        "\n",
        "E:\\Data\\WangKun@Mattijn\\outfolder\\r07//r20110729_01.tif"
       ]
      },
      {
       "output_type": "stream",
       "stream": "stdout",
       "text": [
        "\n",
        "E:\\Data\\WangKun@Mattijn\\outfolder\\r07//r20110730_01.tif"
       ]
      },
      {
       "output_type": "stream",
       "stream": "stdout",
       "text": [
        "\n",
        "E:\\Data\\WangKun@Mattijn\\outfolder\\r07//r20110731_01.tif"
       ]
      },
      {
       "output_type": "stream",
       "stream": "stdout",
       "text": [
        "\n",
        "E:\\Data\\WangKun@Mattijn\\outfolder\\r07//r20110701_10.tif"
       ]
      },
      {
       "output_type": "stream",
       "stream": "stdout",
       "text": [
        "\n",
        "E:\\Data\\WangKun@Mattijn\\outfolder\\r07//r20110702_10.tif"
       ]
      },
      {
       "output_type": "stream",
       "stream": "stdout",
       "text": [
        "\n",
        "E:\\Data\\WangKun@Mattijn\\outfolder\\r07//r20110703_10.tif"
       ]
      },
      {
       "output_type": "stream",
       "stream": "stdout",
       "text": [
        "\n",
        "E:\\Data\\WangKun@Mattijn\\outfolder\\r07//r20110704_10.tif"
       ]
      },
      {
       "output_type": "stream",
       "stream": "stdout",
       "text": [
        "\n",
        "E:\\Data\\WangKun@Mattijn\\outfolder\\r07//r20110705_10.tif"
       ]
      },
      {
       "output_type": "stream",
       "stream": "stdout",
       "text": [
        "\n",
        "E:\\Data\\WangKun@Mattijn\\outfolder\\r07//r20110706_10.tif"
       ]
      },
      {
       "output_type": "stream",
       "stream": "stdout",
       "text": [
        "\n",
        "E:\\Data\\WangKun@Mattijn\\outfolder\\r07//r20110707_10.tif"
       ]
      },
      {
       "output_type": "stream",
       "stream": "stdout",
       "text": [
        "\n",
        "E:\\Data\\WangKun@Mattijn\\outfolder\\r07//r20110708_10.tif"
       ]
      },
      {
       "output_type": "stream",
       "stream": "stdout",
       "text": [
        "\n",
        "E:\\Data\\WangKun@Mattijn\\outfolder\\r07//r20110709_10.tif"
       ]
      },
      {
       "output_type": "stream",
       "stream": "stdout",
       "text": [
        "\n",
        "E:\\Data\\WangKun@Mattijn\\outfolder\\r07//r20110710_10.tif"
       ]
      },
      {
       "output_type": "stream",
       "stream": "stdout",
       "text": [
        "\n",
        "E:\\Data\\WangKun@Mattijn\\outfolder\\r07//r20110711_10.tif"
       ]
      },
      {
       "output_type": "stream",
       "stream": "stdout",
       "text": [
        "\n",
        "E:\\Data\\WangKun@Mattijn\\outfolder\\r07//r20110712_10.tif"
       ]
      },
      {
       "output_type": "stream",
       "stream": "stdout",
       "text": [
        "\n",
        "E:\\Data\\WangKun@Mattijn\\outfolder\\r07//r20110713_10.tif"
       ]
      },
      {
       "output_type": "stream",
       "stream": "stdout",
       "text": [
        "\n",
        "E:\\Data\\WangKun@Mattijn\\outfolder\\r07//r20110714_10.tif"
       ]
      },
      {
       "output_type": "stream",
       "stream": "stdout",
       "text": [
        "\n",
        "E:\\Data\\WangKun@Mattijn\\outfolder\\r07//r20110715_10.tif"
       ]
      },
      {
       "output_type": "stream",
       "stream": "stdout",
       "text": [
        "\n",
        "E:\\Data\\WangKun@Mattijn\\outfolder\\r07//r20110716_10.tif"
       ]
      },
      {
       "output_type": "stream",
       "stream": "stdout",
       "text": [
        "\n",
        "E:\\Data\\WangKun@Mattijn\\outfolder\\r07//r20110717_10.tif"
       ]
      },
      {
       "output_type": "stream",
       "stream": "stdout",
       "text": [
        "\n",
        "E:\\Data\\WangKun@Mattijn\\outfolder\\r07//r20110718_10.tif"
       ]
      },
      {
       "output_type": "stream",
       "stream": "stdout",
       "text": [
        "\n",
        "E:\\Data\\WangKun@Mattijn\\outfolder\\r07//r20110719_10.tif"
       ]
      },
      {
       "output_type": "stream",
       "stream": "stdout",
       "text": [
        "\n",
        "E:\\Data\\WangKun@Mattijn\\outfolder\\r07//r20110720_10.tif"
       ]
      },
      {
       "output_type": "stream",
       "stream": "stdout",
       "text": [
        "\n",
        "E:\\Data\\WangKun@Mattijn\\outfolder\\r07//r20110721_10.tif"
       ]
      },
      {
       "output_type": "stream",
       "stream": "stdout",
       "text": [
        "\n",
        "E:\\Data\\WangKun@Mattijn\\outfolder\\r07//r20110722_10.tif"
       ]
      },
      {
       "output_type": "stream",
       "stream": "stdout",
       "text": [
        "\n",
        "E:\\Data\\WangKun@Mattijn\\outfolder\\r07//r20110723_10.tif"
       ]
      },
      {
       "output_type": "stream",
       "stream": "stdout",
       "text": [
        "\n",
        "E:\\Data\\WangKun@Mattijn\\outfolder\\r07//r20110724_10.tif"
       ]
      },
      {
       "output_type": "stream",
       "stream": "stdout",
       "text": [
        "\n",
        "E:\\Data\\WangKun@Mattijn\\outfolder\\r07//r20110725_10.tif"
       ]
      },
      {
       "output_type": "stream",
       "stream": "stdout",
       "text": [
        "\n",
        "E:\\Data\\WangKun@Mattijn\\outfolder\\r07//r20110726_10.tif"
       ]
      },
      {
       "output_type": "stream",
       "stream": "stdout",
       "text": [
        "\n",
        "E:\\Data\\WangKun@Mattijn\\outfolder\\r07//r20110727_10.tif"
       ]
      },
      {
       "output_type": "stream",
       "stream": "stdout",
       "text": [
        "\n",
        "E:\\Data\\WangKun@Mattijn\\outfolder\\r07//r20110728_10.tif"
       ]
      },
      {
       "output_type": "stream",
       "stream": "stdout",
       "text": [
        "\n",
        "E:\\Data\\WangKun@Mattijn\\outfolder\\r07//r20110729_10.tif"
       ]
      },
      {
       "output_type": "stream",
       "stream": "stdout",
       "text": [
        "\n",
        "E:\\Data\\WangKun@Mattijn\\outfolder\\r07//r20110730_10.tif"
       ]
      },
      {
       "output_type": "stream",
       "stream": "stdout",
       "text": [
        "\n",
        "E:\\Data\\WangKun@Mattijn\\outfolder\\r07//r20110731_10.tif"
       ]
      },
      {
       "output_type": "stream",
       "stream": "stdout",
       "text": [
        "\n",
        "E:\\Data\\WangKun@Mattijn\\outfolder\\r07//r20110701_11.tif"
       ]
      },
      {
       "output_type": "stream",
       "stream": "stdout",
       "text": [
        "\n",
        "E:\\Data\\WangKun@Mattijn\\outfolder\\r07//r20110702_11.tif"
       ]
      },
      {
       "output_type": "stream",
       "stream": "stdout",
       "text": [
        "\n",
        "E:\\Data\\WangKun@Mattijn\\outfolder\\r07//r20110703_11.tif"
       ]
      },
      {
       "output_type": "stream",
       "stream": "stdout",
       "text": [
        "\n",
        "E:\\Data\\WangKun@Mattijn\\outfolder\\r07//r20110704_11.tif"
       ]
      },
      {
       "output_type": "stream",
       "stream": "stdout",
       "text": [
        "\n",
        "E:\\Data\\WangKun@Mattijn\\outfolder\\r07//r20110705_11.tif"
       ]
      },
      {
       "output_type": "stream",
       "stream": "stdout",
       "text": [
        "\n",
        "E:\\Data\\WangKun@Mattijn\\outfolder\\r07//r20110706_11.tif"
       ]
      },
      {
       "output_type": "stream",
       "stream": "stdout",
       "text": [
        "\n",
        "E:\\Data\\WangKun@Mattijn\\outfolder\\r07//r20110707_11.tif"
       ]
      },
      {
       "output_type": "stream",
       "stream": "stdout",
       "text": [
        "\n",
        "E:\\Data\\WangKun@Mattijn\\outfolder\\r07//r20110708_11.tif"
       ]
      },
      {
       "output_type": "stream",
       "stream": "stdout",
       "text": [
        "\n",
        "E:\\Data\\WangKun@Mattijn\\outfolder\\r07//r20110709_11.tif"
       ]
      },
      {
       "output_type": "stream",
       "stream": "stdout",
       "text": [
        "\n",
        "E:\\Data\\WangKun@Mattijn\\outfolder\\r07//r20110710_11.tif"
       ]
      },
      {
       "output_type": "stream",
       "stream": "stdout",
       "text": [
        "\n",
        "E:\\Data\\WangKun@Mattijn\\outfolder\\r07//r20110711_11.tif"
       ]
      },
      {
       "output_type": "stream",
       "stream": "stdout",
       "text": [
        "\n",
        "E:\\Data\\WangKun@Mattijn\\outfolder\\r07//r20110712_11.tif"
       ]
      },
      {
       "output_type": "stream",
       "stream": "stdout",
       "text": [
        "\n",
        "E:\\Data\\WangKun@Mattijn\\outfolder\\r07//r20110713_11.tif"
       ]
      },
      {
       "output_type": "stream",
       "stream": "stdout",
       "text": [
        "\n",
        "E:\\Data\\WangKun@Mattijn\\outfolder\\r07//r20110714_11.tif"
       ]
      },
      {
       "output_type": "stream",
       "stream": "stdout",
       "text": [
        "\n",
        "E:\\Data\\WangKun@Mattijn\\outfolder\\r07//r20110715_11.tif"
       ]
      },
      {
       "output_type": "stream",
       "stream": "stdout",
       "text": [
        "\n",
        "E:\\Data\\WangKun@Mattijn\\outfolder\\r07//r20110716_11.tif"
       ]
      },
      {
       "output_type": "stream",
       "stream": "stdout",
       "text": [
        "\n",
        "E:\\Data\\WangKun@Mattijn\\outfolder\\r07//r20110717_11.tif"
       ]
      },
      {
       "output_type": "stream",
       "stream": "stdout",
       "text": [
        "\n",
        "E:\\Data\\WangKun@Mattijn\\outfolder\\r07//r20110718_11.tif"
       ]
      },
      {
       "output_type": "stream",
       "stream": "stdout",
       "text": [
        "\n",
        "E:\\Data\\WangKun@Mattijn\\outfolder\\r07//r20110719_11.tif"
       ]
      },
      {
       "output_type": "stream",
       "stream": "stdout",
       "text": [
        "\n",
        "E:\\Data\\WangKun@Mattijn\\outfolder\\r07//r20110720_11.tif"
       ]
      },
      {
       "output_type": "stream",
       "stream": "stdout",
       "text": [
        "\n",
        "E:\\Data\\WangKun@Mattijn\\outfolder\\r07//r20110721_11.tif"
       ]
      },
      {
       "output_type": "stream",
       "stream": "stdout",
       "text": [
        "\n",
        "E:\\Data\\WangKun@Mattijn\\outfolder\\r07//r20110722_11.tif"
       ]
      },
      {
       "output_type": "stream",
       "stream": "stdout",
       "text": [
        "\n",
        "E:\\Data\\WangKun@Mattijn\\outfolder\\r07//r20110723_11.tif"
       ]
      },
      {
       "output_type": "stream",
       "stream": "stdout",
       "text": [
        "\n",
        "E:\\Data\\WangKun@Mattijn\\outfolder\\r07//r20110724_11.tif"
       ]
      },
      {
       "output_type": "stream",
       "stream": "stdout",
       "text": [
        "\n",
        "E:\\Data\\WangKun@Mattijn\\outfolder\\r07//r20110725_11.tif"
       ]
      },
      {
       "output_type": "stream",
       "stream": "stdout",
       "text": [
        "\n",
        "E:\\Data\\WangKun@Mattijn\\outfolder\\r07//r20110726_11.tif"
       ]
      },
      {
       "output_type": "stream",
       "stream": "stdout",
       "text": [
        "\n",
        "E:\\Data\\WangKun@Mattijn\\outfolder\\r07//r20110727_11.tif"
       ]
      },
      {
       "output_type": "stream",
       "stream": "stdout",
       "text": [
        "\n",
        "E:\\Data\\WangKun@Mattijn\\outfolder\\r07//r20110728_11.tif"
       ]
      },
      {
       "output_type": "stream",
       "stream": "stdout",
       "text": [
        "\n",
        "E:\\Data\\WangKun@Mattijn\\outfolder\\r07//r20110729_11.tif"
       ]
      },
      {
       "output_type": "stream",
       "stream": "stdout",
       "text": [
        "\n",
        "E:\\Data\\WangKun@Mattijn\\outfolder\\r07//r20110730_11.tif"
       ]
      },
      {
       "output_type": "stream",
       "stream": "stdout",
       "text": [
        "\n",
        "E:\\Data\\WangKun@Mattijn\\outfolder\\r07//r20110731_11.tif"
       ]
      },
      {
       "output_type": "stream",
       "stream": "stdout",
       "text": [
        "\n",
        "E:\\Data\\WangKun@Mattijn\\outfolder\\r07//r20110701_12.tif"
       ]
      },
      {
       "output_type": "stream",
       "stream": "stdout",
       "text": [
        "\n",
        "E:\\Data\\WangKun@Mattijn\\outfolder\\r07//r20110702_12.tif"
       ]
      },
      {
       "output_type": "stream",
       "stream": "stdout",
       "text": [
        "\n",
        "E:\\Data\\WangKun@Mattijn\\outfolder\\r07//r20110703_12.tif"
       ]
      },
      {
       "output_type": "stream",
       "stream": "stdout",
       "text": [
        "\n",
        "E:\\Data\\WangKun@Mattijn\\outfolder\\r07//r20110704_12.tif"
       ]
      },
      {
       "output_type": "stream",
       "stream": "stdout",
       "text": [
        "\n",
        "E:\\Data\\WangKun@Mattijn\\outfolder\\r07//r20110705_12.tif"
       ]
      },
      {
       "output_type": "stream",
       "stream": "stdout",
       "text": [
        "\n",
        "E:\\Data\\WangKun@Mattijn\\outfolder\\r07//r20110706_12.tif"
       ]
      },
      {
       "output_type": "stream",
       "stream": "stdout",
       "text": [
        "\n",
        "E:\\Data\\WangKun@Mattijn\\outfolder\\r07//r20110707_12.tif"
       ]
      },
      {
       "output_type": "stream",
       "stream": "stdout",
       "text": [
        "\n",
        "E:\\Data\\WangKun@Mattijn\\outfolder\\r07//r20110708_12.tif"
       ]
      },
      {
       "output_type": "stream",
       "stream": "stdout",
       "text": [
        "\n",
        "E:\\Data\\WangKun@Mattijn\\outfolder\\r07//r20110709_12.tif"
       ]
      },
      {
       "output_type": "stream",
       "stream": "stdout",
       "text": [
        "\n",
        "E:\\Data\\WangKun@Mattijn\\outfolder\\r07//r20110710_12.tif"
       ]
      },
      {
       "output_type": "stream",
       "stream": "stdout",
       "text": [
        "\n",
        "E:\\Data\\WangKun@Mattijn\\outfolder\\r07//r20110711_12.tif"
       ]
      },
      {
       "output_type": "stream",
       "stream": "stdout",
       "text": [
        "\n",
        "E:\\Data\\WangKun@Mattijn\\outfolder\\r07//r20110712_12.tif"
       ]
      },
      {
       "output_type": "stream",
       "stream": "stdout",
       "text": [
        "\n",
        "E:\\Data\\WangKun@Mattijn\\outfolder\\r07//r20110713_12.tif"
       ]
      },
      {
       "output_type": "stream",
       "stream": "stdout",
       "text": [
        "\n",
        "E:\\Data\\WangKun@Mattijn\\outfolder\\r07//r20110714_12.tif"
       ]
      },
      {
       "output_type": "stream",
       "stream": "stdout",
       "text": [
        "\n",
        "E:\\Data\\WangKun@Mattijn\\outfolder\\r07//r20110715_12.tif"
       ]
      },
      {
       "output_type": "stream",
       "stream": "stdout",
       "text": [
        "\n",
        "E:\\Data\\WangKun@Mattijn\\outfolder\\r07//r20110716_12.tif"
       ]
      },
      {
       "output_type": "stream",
       "stream": "stdout",
       "text": [
        "\n",
        "E:\\Data\\WangKun@Mattijn\\outfolder\\r07//r20110717_12.tif"
       ]
      },
      {
       "output_type": "stream",
       "stream": "stdout",
       "text": [
        "\n",
        "E:\\Data\\WangKun@Mattijn\\outfolder\\r07//r20110718_12.tif"
       ]
      },
      {
       "output_type": "stream",
       "stream": "stdout",
       "text": [
        "\n",
        "E:\\Data\\WangKun@Mattijn\\outfolder\\r07//r20110719_12.tif"
       ]
      },
      {
       "output_type": "stream",
       "stream": "stdout",
       "text": [
        "\n",
        "E:\\Data\\WangKun@Mattijn\\outfolder\\r07//r20110720_12.tif"
       ]
      },
      {
       "output_type": "stream",
       "stream": "stdout",
       "text": [
        "\n",
        "E:\\Data\\WangKun@Mattijn\\outfolder\\r07//r20110721_12.tif"
       ]
      },
      {
       "output_type": "stream",
       "stream": "stdout",
       "text": [
        "\n",
        "E:\\Data\\WangKun@Mattijn\\outfolder\\r07//r20110722_12.tif"
       ]
      },
      {
       "output_type": "stream",
       "stream": "stdout",
       "text": [
        "\n",
        "E:\\Data\\WangKun@Mattijn\\outfolder\\r07//r20110723_12.tif"
       ]
      },
      {
       "output_type": "stream",
       "stream": "stdout",
       "text": [
        "\n",
        "E:\\Data\\WangKun@Mattijn\\outfolder\\r07//r20110724_12.tif"
       ]
      },
      {
       "output_type": "stream",
       "stream": "stdout",
       "text": [
        "\n",
        "E:\\Data\\WangKun@Mattijn\\outfolder\\r07//r20110725_12.tif"
       ]
      },
      {
       "output_type": "stream",
       "stream": "stdout",
       "text": [
        "\n",
        "E:\\Data\\WangKun@Mattijn\\outfolder\\r07//r20110726_12.tif"
       ]
      },
      {
       "output_type": "stream",
       "stream": "stdout",
       "text": [
        "\n",
        "E:\\Data\\WangKun@Mattijn\\outfolder\\r07//r20110727_12.tif"
       ]
      },
      {
       "output_type": "stream",
       "stream": "stdout",
       "text": [
        "\n",
        "E:\\Data\\WangKun@Mattijn\\outfolder\\r07//r20110728_12.tif"
       ]
      },
      {
       "output_type": "stream",
       "stream": "stdout",
       "text": [
        "\n",
        "E:\\Data\\WangKun@Mattijn\\outfolder\\r07//r20110729_12.tif"
       ]
      },
      {
       "output_type": "stream",
       "stream": "stdout",
       "text": [
        "\n",
        "E:\\Data\\WangKun@Mattijn\\outfolder\\r07//r20110730_12.tif"
       ]
      },
      {
       "output_type": "stream",
       "stream": "stdout",
       "text": [
        "\n",
        "E:\\Data\\WangKun@Mattijn\\outfolder\\r07//r20110731_12.tif"
       ]
      },
      {
       "output_type": "stream",
       "stream": "stdout",
       "text": [
        "\n",
        "E:\\Data\\WangKun@Mattijn\\outfolder\\r07//r20110701_13.tif"
       ]
      },
      {
       "output_type": "stream",
       "stream": "stdout",
       "text": [
        "\n",
        "E:\\Data\\WangKun@Mattijn\\outfolder\\r07//r20110702_13.tif"
       ]
      },
      {
       "output_type": "stream",
       "stream": "stdout",
       "text": [
        "\n",
        "E:\\Data\\WangKun@Mattijn\\outfolder\\r07//r20110703_13.tif"
       ]
      },
      {
       "output_type": "stream",
       "stream": "stdout",
       "text": [
        "\n",
        "E:\\Data\\WangKun@Mattijn\\outfolder\\r07//r20110704_13.tif"
       ]
      },
      {
       "output_type": "stream",
       "stream": "stdout",
       "text": [
        "\n",
        "E:\\Data\\WangKun@Mattijn\\outfolder\\r07//r20110705_13.tif"
       ]
      },
      {
       "output_type": "stream",
       "stream": "stdout",
       "text": [
        "\n",
        "E:\\Data\\WangKun@Mattijn\\outfolder\\r07//r20110706_13.tif"
       ]
      },
      {
       "output_type": "stream",
       "stream": "stdout",
       "text": [
        "\n",
        "E:\\Data\\WangKun@Mattijn\\outfolder\\r07//r20110707_13.tif"
       ]
      },
      {
       "output_type": "stream",
       "stream": "stdout",
       "text": [
        "\n",
        "E:\\Data\\WangKun@Mattijn\\outfolder\\r07//r20110708_13.tif"
       ]
      },
      {
       "output_type": "stream",
       "stream": "stdout",
       "text": [
        "\n",
        "E:\\Data\\WangKun@Mattijn\\outfolder\\r07//r20110709_13.tif"
       ]
      },
      {
       "output_type": "stream",
       "stream": "stdout",
       "text": [
        "\n",
        "E:\\Data\\WangKun@Mattijn\\outfolder\\r07//r20110710_13.tif"
       ]
      },
      {
       "output_type": "stream",
       "stream": "stdout",
       "text": [
        "\n",
        "E:\\Data\\WangKun@Mattijn\\outfolder\\r07//r20110711_13.tif"
       ]
      },
      {
       "output_type": "stream",
       "stream": "stdout",
       "text": [
        "\n",
        "E:\\Data\\WangKun@Mattijn\\outfolder\\r07//r20110712_13.tif"
       ]
      },
      {
       "output_type": "stream",
       "stream": "stdout",
       "text": [
        "\n",
        "E:\\Data\\WangKun@Mattijn\\outfolder\\r07//r20110713_13.tif"
       ]
      },
      {
       "output_type": "stream",
       "stream": "stdout",
       "text": [
        "\n",
        "E:\\Data\\WangKun@Mattijn\\outfolder\\r07//r20110714_13.tif"
       ]
      },
      {
       "output_type": "stream",
       "stream": "stdout",
       "text": [
        "\n",
        "E:\\Data\\WangKun@Mattijn\\outfolder\\r07//r20110715_13.tif"
       ]
      },
      {
       "output_type": "stream",
       "stream": "stdout",
       "text": [
        "\n",
        "E:\\Data\\WangKun@Mattijn\\outfolder\\r07//r20110716_13.tif"
       ]
      },
      {
       "output_type": "stream",
       "stream": "stdout",
       "text": [
        "\n",
        "E:\\Data\\WangKun@Mattijn\\outfolder\\r07//r20110717_13.tif"
       ]
      },
      {
       "output_type": "stream",
       "stream": "stdout",
       "text": [
        "\n",
        "E:\\Data\\WangKun@Mattijn\\outfolder\\r07//r20110718_13.tif"
       ]
      },
      {
       "output_type": "stream",
       "stream": "stdout",
       "text": [
        "\n",
        "E:\\Data\\WangKun@Mattijn\\outfolder\\r07//r20110719_13.tif"
       ]
      },
      {
       "output_type": "stream",
       "stream": "stdout",
       "text": [
        "\n",
        "E:\\Data\\WangKun@Mattijn\\outfolder\\r07//r20110720_13.tif"
       ]
      },
      {
       "output_type": "stream",
       "stream": "stdout",
       "text": [
        "\n",
        "E:\\Data\\WangKun@Mattijn\\outfolder\\r07//r20110721_13.tif"
       ]
      },
      {
       "output_type": "stream",
       "stream": "stdout",
       "text": [
        "\n",
        "E:\\Data\\WangKun@Mattijn\\outfolder\\r07//r20110722_13.tif"
       ]
      },
      {
       "output_type": "stream",
       "stream": "stdout",
       "text": [
        "\n",
        "E:\\Data\\WangKun@Mattijn\\outfolder\\r07//r20110723_13.tif"
       ]
      },
      {
       "output_type": "stream",
       "stream": "stdout",
       "text": [
        "\n",
        "E:\\Data\\WangKun@Mattijn\\outfolder\\r07//r20110724_13.tif"
       ]
      },
      {
       "output_type": "stream",
       "stream": "stdout",
       "text": [
        "\n",
        "E:\\Data\\WangKun@Mattijn\\outfolder\\r07//r20110725_13.tif"
       ]
      },
      {
       "output_type": "stream",
       "stream": "stdout",
       "text": [
        "\n",
        "E:\\Data\\WangKun@Mattijn\\outfolder\\r07//r20110726_13.tif"
       ]
      },
      {
       "output_type": "stream",
       "stream": "stdout",
       "text": [
        "\n",
        "E:\\Data\\WangKun@Mattijn\\outfolder\\r07//r20110727_13.tif"
       ]
      },
      {
       "output_type": "stream",
       "stream": "stdout",
       "text": [
        "\n",
        "E:\\Data\\WangKun@Mattijn\\outfolder\\r07//r20110728_13.tif"
       ]
      },
      {
       "output_type": "stream",
       "stream": "stdout",
       "text": [
        "\n",
        "E:\\Data\\WangKun@Mattijn\\outfolder\\r07//r20110729_13.tif"
       ]
      },
      {
       "output_type": "stream",
       "stream": "stdout",
       "text": [
        "\n",
        "E:\\Data\\WangKun@Mattijn\\outfolder\\r07//r20110730_13.tif"
       ]
      },
      {
       "output_type": "stream",
       "stream": "stdout",
       "text": [
        "\n",
        "E:\\Data\\WangKun@Mattijn\\outfolder\\r07//r20110731_13.tif"
       ]
      },
      {
       "output_type": "stream",
       "stream": "stdout",
       "text": [
        "\n",
        "E:\\Data\\WangKun@Mattijn\\outfolder\\r07//r20110701_14.tif"
       ]
      },
      {
       "output_type": "stream",
       "stream": "stdout",
       "text": [
        "\n",
        "E:\\Data\\WangKun@Mattijn\\outfolder\\r07//r20110702_14.tif"
       ]
      },
      {
       "output_type": "stream",
       "stream": "stdout",
       "text": [
        "\n",
        "E:\\Data\\WangKun@Mattijn\\outfolder\\r07//r20110703_14.tif"
       ]
      },
      {
       "output_type": "stream",
       "stream": "stdout",
       "text": [
        "\n",
        "E:\\Data\\WangKun@Mattijn\\outfolder\\r07//r20110704_14.tif"
       ]
      },
      {
       "output_type": "stream",
       "stream": "stdout",
       "text": [
        "\n",
        "E:\\Data\\WangKun@Mattijn\\outfolder\\r07//r20110705_14.tif"
       ]
      },
      {
       "output_type": "stream",
       "stream": "stdout",
       "text": [
        "\n",
        "E:\\Data\\WangKun@Mattijn\\outfolder\\r07//r20110706_14.tif"
       ]
      },
      {
       "output_type": "stream",
       "stream": "stdout",
       "text": [
        "\n",
        "E:\\Data\\WangKun@Mattijn\\outfolder\\r07//r20110707_14.tif"
       ]
      },
      {
       "output_type": "stream",
       "stream": "stdout",
       "text": [
        "\n",
        "E:\\Data\\WangKun@Mattijn\\outfolder\\r07//r20110708_14.tif"
       ]
      },
      {
       "output_type": "stream",
       "stream": "stdout",
       "text": [
        "\n",
        "E:\\Data\\WangKun@Mattijn\\outfolder\\r07//r20110709_14.tif"
       ]
      },
      {
       "output_type": "stream",
       "stream": "stdout",
       "text": [
        "\n",
        "E:\\Data\\WangKun@Mattijn\\outfolder\\r07//r20110710_14.tif"
       ]
      },
      {
       "output_type": "stream",
       "stream": "stdout",
       "text": [
        "\n",
        "E:\\Data\\WangKun@Mattijn\\outfolder\\r07//r20110711_14.tif"
       ]
      },
      {
       "output_type": "stream",
       "stream": "stdout",
       "text": [
        "\n",
        "E:\\Data\\WangKun@Mattijn\\outfolder\\r07//r20110712_14.tif"
       ]
      },
      {
       "output_type": "stream",
       "stream": "stdout",
       "text": [
        "\n",
        "E:\\Data\\WangKun@Mattijn\\outfolder\\r07//r20110713_14.tif"
       ]
      },
      {
       "output_type": "stream",
       "stream": "stdout",
       "text": [
        "\n",
        "E:\\Data\\WangKun@Mattijn\\outfolder\\r07//r20110714_14.tif"
       ]
      },
      {
       "output_type": "stream",
       "stream": "stdout",
       "text": [
        "\n",
        "E:\\Data\\WangKun@Mattijn\\outfolder\\r07//r20110715_14.tif"
       ]
      },
      {
       "output_type": "stream",
       "stream": "stdout",
       "text": [
        "\n",
        "E:\\Data\\WangKun@Mattijn\\outfolder\\r07//r20110716_14.tif"
       ]
      },
      {
       "output_type": "stream",
       "stream": "stdout",
       "text": [
        "\n",
        "E:\\Data\\WangKun@Mattijn\\outfolder\\r07//r20110717_14.tif"
       ]
      },
      {
       "output_type": "stream",
       "stream": "stdout",
       "text": [
        "\n",
        "E:\\Data\\WangKun@Mattijn\\outfolder\\r07//r20110718_14.tif"
       ]
      },
      {
       "output_type": "stream",
       "stream": "stdout",
       "text": [
        "\n",
        "E:\\Data\\WangKun@Mattijn\\outfolder\\r07//r20110719_14.tif"
       ]
      },
      {
       "output_type": "stream",
       "stream": "stdout",
       "text": [
        "\n",
        "E:\\Data\\WangKun@Mattijn\\outfolder\\r07//r20110720_14.tif"
       ]
      },
      {
       "output_type": "stream",
       "stream": "stdout",
       "text": [
        "\n",
        "E:\\Data\\WangKun@Mattijn\\outfolder\\r07//r20110721_14.tif"
       ]
      },
      {
       "output_type": "stream",
       "stream": "stdout",
       "text": [
        "\n",
        "E:\\Data\\WangKun@Mattijn\\outfolder\\r07//r20110722_14.tif"
       ]
      },
      {
       "output_type": "stream",
       "stream": "stdout",
       "text": [
        "\n",
        "E:\\Data\\WangKun@Mattijn\\outfolder\\r07//r20110723_14.tif"
       ]
      },
      {
       "output_type": "stream",
       "stream": "stdout",
       "text": [
        "\n",
        "E:\\Data\\WangKun@Mattijn\\outfolder\\r07//r20110724_14.tif"
       ]
      },
      {
       "output_type": "stream",
       "stream": "stdout",
       "text": [
        "\n",
        "E:\\Data\\WangKun@Mattijn\\outfolder\\r07//r20110725_14.tif"
       ]
      },
      {
       "output_type": "stream",
       "stream": "stdout",
       "text": [
        "\n",
        "E:\\Data\\WangKun@Mattijn\\outfolder\\r07//r20110726_14.tif"
       ]
      },
      {
       "output_type": "stream",
       "stream": "stdout",
       "text": [
        "\n",
        "E:\\Data\\WangKun@Mattijn\\outfolder\\r07//r20110727_14.tif"
       ]
      },
      {
       "output_type": "stream",
       "stream": "stdout",
       "text": [
        "\n",
        "E:\\Data\\WangKun@Mattijn\\outfolder\\r07//r20110728_14.tif"
       ]
      },
      {
       "output_type": "stream",
       "stream": "stdout",
       "text": [
        "\n",
        "E:\\Data\\WangKun@Mattijn\\outfolder\\r07//r20110729_14.tif"
       ]
      },
      {
       "output_type": "stream",
       "stream": "stdout",
       "text": [
        "\n",
        "E:\\Data\\WangKun@Mattijn\\outfolder\\r07//r20110730_14.tif"
       ]
      },
      {
       "output_type": "stream",
       "stream": "stdout",
       "text": [
        "\n",
        "E:\\Data\\WangKun@Mattijn\\outfolder\\r07//r20110731_14.tif"
       ]
      },
      {
       "output_type": "stream",
       "stream": "stdout",
       "text": [
        "\n",
        "E:\\Data\\WangKun@Mattijn\\outfolder\\r07//r20110701_15.tif"
       ]
      },
      {
       "output_type": "stream",
       "stream": "stdout",
       "text": [
        "\n",
        "E:\\Data\\WangKun@Mattijn\\outfolder\\r07//r20110702_15.tif"
       ]
      },
      {
       "output_type": "stream",
       "stream": "stdout",
       "text": [
        "\n",
        "E:\\Data\\WangKun@Mattijn\\outfolder\\r07//r20110703_15.tif"
       ]
      },
      {
       "output_type": "stream",
       "stream": "stdout",
       "text": [
        "\n",
        "E:\\Data\\WangKun@Mattijn\\outfolder\\r07//r20110704_15.tif"
       ]
      },
      {
       "output_type": "stream",
       "stream": "stdout",
       "text": [
        "\n",
        "E:\\Data\\WangKun@Mattijn\\outfolder\\r07//r20110705_15.tif"
       ]
      },
      {
       "output_type": "stream",
       "stream": "stdout",
       "text": [
        "\n",
        "E:\\Data\\WangKun@Mattijn\\outfolder\\r07//r20110706_15.tif"
       ]
      },
      {
       "output_type": "stream",
       "stream": "stdout",
       "text": [
        "\n",
        "E:\\Data\\WangKun@Mattijn\\outfolder\\r07//r20110707_15.tif"
       ]
      },
      {
       "output_type": "stream",
       "stream": "stdout",
       "text": [
        "\n",
        "E:\\Data\\WangKun@Mattijn\\outfolder\\r07//r20110708_15.tif"
       ]
      },
      {
       "output_type": "stream",
       "stream": "stdout",
       "text": [
        "\n",
        "E:\\Data\\WangKun@Mattijn\\outfolder\\r07//r20110709_15.tif"
       ]
      },
      {
       "output_type": "stream",
       "stream": "stdout",
       "text": [
        "\n",
        "E:\\Data\\WangKun@Mattijn\\outfolder\\r07//r20110710_15.tif"
       ]
      },
      {
       "output_type": "stream",
       "stream": "stdout",
       "text": [
        "\n",
        "E:\\Data\\WangKun@Mattijn\\outfolder\\r07//r20110711_15.tif"
       ]
      },
      {
       "output_type": "stream",
       "stream": "stdout",
       "text": [
        "\n",
        "E:\\Data\\WangKun@Mattijn\\outfolder\\r07//r20110712_15.tif"
       ]
      },
      {
       "output_type": "stream",
       "stream": "stdout",
       "text": [
        "\n",
        "E:\\Data\\WangKun@Mattijn\\outfolder\\r07//r20110713_15.tif"
       ]
      },
      {
       "output_type": "stream",
       "stream": "stdout",
       "text": [
        "\n",
        "E:\\Data\\WangKun@Mattijn\\outfolder\\r07//r20110714_15.tif"
       ]
      },
      {
       "output_type": "stream",
       "stream": "stdout",
       "text": [
        "\n",
        "E:\\Data\\WangKun@Mattijn\\outfolder\\r07//r20110715_15.tif"
       ]
      },
      {
       "output_type": "stream",
       "stream": "stdout",
       "text": [
        "\n",
        "E:\\Data\\WangKun@Mattijn\\outfolder\\r07//r20110716_15.tif"
       ]
      },
      {
       "output_type": "stream",
       "stream": "stdout",
       "text": [
        "\n",
        "E:\\Data\\WangKun@Mattijn\\outfolder\\r07//r20110717_15.tif"
       ]
      },
      {
       "output_type": "stream",
       "stream": "stdout",
       "text": [
        "\n",
        "E:\\Data\\WangKun@Mattijn\\outfolder\\r07//r20110718_15.tif"
       ]
      },
      {
       "output_type": "stream",
       "stream": "stdout",
       "text": [
        "\n",
        "E:\\Data\\WangKun@Mattijn\\outfolder\\r07//r20110719_15.tif"
       ]
      },
      {
       "output_type": "stream",
       "stream": "stdout",
       "text": [
        "\n",
        "E:\\Data\\WangKun@Mattijn\\outfolder\\r07//r20110720_15.tif"
       ]
      },
      {
       "output_type": "stream",
       "stream": "stdout",
       "text": [
        "\n",
        "E:\\Data\\WangKun@Mattijn\\outfolder\\r07//r20110721_15.tif"
       ]
      },
      {
       "output_type": "stream",
       "stream": "stdout",
       "text": [
        "\n",
        "E:\\Data\\WangKun@Mattijn\\outfolder\\r07//r20110722_15.tif"
       ]
      },
      {
       "output_type": "stream",
       "stream": "stdout",
       "text": [
        "\n",
        "E:\\Data\\WangKun@Mattijn\\outfolder\\r07//r20110723_15.tif"
       ]
      },
      {
       "output_type": "stream",
       "stream": "stdout",
       "text": [
        "\n",
        "E:\\Data\\WangKun@Mattijn\\outfolder\\r07//r20110724_15.tif"
       ]
      },
      {
       "output_type": "stream",
       "stream": "stdout",
       "text": [
        "\n",
        "E:\\Data\\WangKun@Mattijn\\outfolder\\r07//r20110725_15.tif"
       ]
      },
      {
       "output_type": "stream",
       "stream": "stdout",
       "text": [
        "\n",
        "E:\\Data\\WangKun@Mattijn\\outfolder\\r07//r20110726_15.tif"
       ]
      },
      {
       "output_type": "stream",
       "stream": "stdout",
       "text": [
        "\n",
        "E:\\Data\\WangKun@Mattijn\\outfolder\\r07//r20110727_15.tif"
       ]
      },
      {
       "output_type": "stream",
       "stream": "stdout",
       "text": [
        "\n",
        "E:\\Data\\WangKun@Mattijn\\outfolder\\r07//r20110728_15.tif"
       ]
      },
      {
       "output_type": "stream",
       "stream": "stdout",
       "text": [
        "\n",
        "E:\\Data\\WangKun@Mattijn\\outfolder\\r07//r20110729_15.tif"
       ]
      },
      {
       "output_type": "stream",
       "stream": "stdout",
       "text": [
        "\n",
        "E:\\Data\\WangKun@Mattijn\\outfolder\\r07//r20110730_15.tif"
       ]
      },
      {
       "output_type": "stream",
       "stream": "stdout",
       "text": [
        "\n",
        "E:\\Data\\WangKun@Mattijn\\outfolder\\r07//r20110731_15.tif"
       ]
      },
      {
       "output_type": "stream",
       "stream": "stdout",
       "text": [
        "\n",
        "E:\\Data\\WangKun@Mattijn\\outfolder\\r07//r20110701_16.tif"
       ]
      },
      {
       "output_type": "stream",
       "stream": "stdout",
       "text": [
        "\n",
        "E:\\Data\\WangKun@Mattijn\\outfolder\\r07//r20110702_16.tif"
       ]
      },
      {
       "output_type": "stream",
       "stream": "stdout",
       "text": [
        "\n",
        "E:\\Data\\WangKun@Mattijn\\outfolder\\r07//r20110703_16.tif"
       ]
      },
      {
       "output_type": "stream",
       "stream": "stdout",
       "text": [
        "\n",
        "E:\\Data\\WangKun@Mattijn\\outfolder\\r07//r20110704_16.tif"
       ]
      },
      {
       "output_type": "stream",
       "stream": "stdout",
       "text": [
        "\n",
        "E:\\Data\\WangKun@Mattijn\\outfolder\\r07//r20110705_16.tif"
       ]
      },
      {
       "output_type": "stream",
       "stream": "stdout",
       "text": [
        "\n",
        "E:\\Data\\WangKun@Mattijn\\outfolder\\r07//r20110706_16.tif"
       ]
      },
      {
       "output_type": "stream",
       "stream": "stdout",
       "text": [
        "\n",
        "E:\\Data\\WangKun@Mattijn\\outfolder\\r07//r20110707_16.tif"
       ]
      },
      {
       "output_type": "stream",
       "stream": "stdout",
       "text": [
        "\n",
        "E:\\Data\\WangKun@Mattijn\\outfolder\\r07//r20110708_16.tif"
       ]
      },
      {
       "output_type": "stream",
       "stream": "stdout",
       "text": [
        "\n",
        "E:\\Data\\WangKun@Mattijn\\outfolder\\r07//r20110709_16.tif"
       ]
      },
      {
       "output_type": "stream",
       "stream": "stdout",
       "text": [
        "\n",
        "E:\\Data\\WangKun@Mattijn\\outfolder\\r07//r20110710_16.tif"
       ]
      },
      {
       "output_type": "stream",
       "stream": "stdout",
       "text": [
        "\n",
        "E:\\Data\\WangKun@Mattijn\\outfolder\\r07//r20110711_16.tif"
       ]
      },
      {
       "output_type": "stream",
       "stream": "stdout",
       "text": [
        "\n",
        "E:\\Data\\WangKun@Mattijn\\outfolder\\r07//r20110712_16.tif"
       ]
      },
      {
       "output_type": "stream",
       "stream": "stdout",
       "text": [
        "\n",
        "E:\\Data\\WangKun@Mattijn\\outfolder\\r07//r20110713_16.tif"
       ]
      },
      {
       "output_type": "stream",
       "stream": "stdout",
       "text": [
        "\n",
        "E:\\Data\\WangKun@Mattijn\\outfolder\\r07//r20110714_16.tif"
       ]
      },
      {
       "output_type": "stream",
       "stream": "stdout",
       "text": [
        "\n",
        "E:\\Data\\WangKun@Mattijn\\outfolder\\r07//r20110715_16.tif"
       ]
      },
      {
       "output_type": "stream",
       "stream": "stdout",
       "text": [
        "\n",
        "E:\\Data\\WangKun@Mattijn\\outfolder\\r07//r20110716_16.tif"
       ]
      },
      {
       "output_type": "stream",
       "stream": "stdout",
       "text": [
        "\n",
        "E:\\Data\\WangKun@Mattijn\\outfolder\\r07//r20110717_16.tif"
       ]
      },
      {
       "output_type": "stream",
       "stream": "stdout",
       "text": [
        "\n",
        "E:\\Data\\WangKun@Mattijn\\outfolder\\r07//r20110718_16.tif"
       ]
      },
      {
       "output_type": "stream",
       "stream": "stdout",
       "text": [
        "\n",
        "E:\\Data\\WangKun@Mattijn\\outfolder\\r07//r20110719_16.tif"
       ]
      },
      {
       "output_type": "stream",
       "stream": "stdout",
       "text": [
        "\n",
        "E:\\Data\\WangKun@Mattijn\\outfolder\\r07//r20110720_16.tif"
       ]
      },
      {
       "output_type": "stream",
       "stream": "stdout",
       "text": [
        "\n",
        "E:\\Data\\WangKun@Mattijn\\outfolder\\r07//r20110721_16.tif"
       ]
      },
      {
       "output_type": "stream",
       "stream": "stdout",
       "text": [
        "\n",
        "E:\\Data\\WangKun@Mattijn\\outfolder\\r07//r20110722_16.tif"
       ]
      },
      {
       "output_type": "stream",
       "stream": "stdout",
       "text": [
        "\n",
        "E:\\Data\\WangKun@Mattijn\\outfolder\\r07//r20110723_16.tif"
       ]
      },
      {
       "output_type": "stream",
       "stream": "stdout",
       "text": [
        "\n",
        "E:\\Data\\WangKun@Mattijn\\outfolder\\r07//r20110724_16.tif"
       ]
      },
      {
       "output_type": "stream",
       "stream": "stdout",
       "text": [
        "\n",
        "E:\\Data\\WangKun@Mattijn\\outfolder\\r07//r20110725_16.tif"
       ]
      },
      {
       "output_type": "stream",
       "stream": "stdout",
       "text": [
        "\n",
        "E:\\Data\\WangKun@Mattijn\\outfolder\\r07//r20110726_16.tif"
       ]
      },
      {
       "output_type": "stream",
       "stream": "stdout",
       "text": [
        "\n",
        "E:\\Data\\WangKun@Mattijn\\outfolder\\r07//r20110727_16.tif"
       ]
      },
      {
       "output_type": "stream",
       "stream": "stdout",
       "text": [
        "\n",
        "E:\\Data\\WangKun@Mattijn\\outfolder\\r07//r20110728_16.tif"
       ]
      },
      {
       "output_type": "stream",
       "stream": "stdout",
       "text": [
        "\n",
        "E:\\Data\\WangKun@Mattijn\\outfolder\\r07//r20110729_16.tif"
       ]
      },
      {
       "output_type": "stream",
       "stream": "stdout",
       "text": [
        "\n",
        "E:\\Data\\WangKun@Mattijn\\outfolder\\r07//r20110730_16.tif"
       ]
      },
      {
       "output_type": "stream",
       "stream": "stdout",
       "text": [
        "\n",
        "E:\\Data\\WangKun@Mattijn\\outfolder\\r07//r20110731_16.tif"
       ]
      },
      {
       "output_type": "stream",
       "stream": "stdout",
       "text": [
        "\n",
        "E:\\Data\\WangKun@Mattijn\\outfolder\\r07//r20110701_17.tif"
       ]
      },
      {
       "output_type": "stream",
       "stream": "stdout",
       "text": [
        "\n",
        "E:\\Data\\WangKun@Mattijn\\outfolder\\r07//r20110702_17.tif"
       ]
      },
      {
       "output_type": "stream",
       "stream": "stdout",
       "text": [
        "\n",
        "E:\\Data\\WangKun@Mattijn\\outfolder\\r07//r20110703_17.tif"
       ]
      },
      {
       "output_type": "stream",
       "stream": "stdout",
       "text": [
        "\n",
        "E:\\Data\\WangKun@Mattijn\\outfolder\\r07//r20110704_17.tif"
       ]
      },
      {
       "output_type": "stream",
       "stream": "stdout",
       "text": [
        "\n",
        "E:\\Data\\WangKun@Mattijn\\outfolder\\r07//r20110705_17.tif"
       ]
      },
      {
       "output_type": "stream",
       "stream": "stdout",
       "text": [
        "\n",
        "E:\\Data\\WangKun@Mattijn\\outfolder\\r07//r20110706_17.tif"
       ]
      },
      {
       "output_type": "stream",
       "stream": "stdout",
       "text": [
        "\n",
        "E:\\Data\\WangKun@Mattijn\\outfolder\\r07//r20110707_17.tif"
       ]
      },
      {
       "output_type": "stream",
       "stream": "stdout",
       "text": [
        "\n",
        "E:\\Data\\WangKun@Mattijn\\outfolder\\r07//r20110708_17.tif"
       ]
      },
      {
       "output_type": "stream",
       "stream": "stdout",
       "text": [
        "\n",
        "E:\\Data\\WangKun@Mattijn\\outfolder\\r07//r20110709_17.tif"
       ]
      },
      {
       "output_type": "stream",
       "stream": "stdout",
       "text": [
        "\n",
        "E:\\Data\\WangKun@Mattijn\\outfolder\\r07//r20110710_17.tif"
       ]
      },
      {
       "output_type": "stream",
       "stream": "stdout",
       "text": [
        "\n",
        "E:\\Data\\WangKun@Mattijn\\outfolder\\r07//r20110711_17.tif"
       ]
      },
      {
       "output_type": "stream",
       "stream": "stdout",
       "text": [
        "\n",
        "E:\\Data\\WangKun@Mattijn\\outfolder\\r07//r20110712_17.tif"
       ]
      },
      {
       "output_type": "stream",
       "stream": "stdout",
       "text": [
        "\n",
        "E:\\Data\\WangKun@Mattijn\\outfolder\\r07//r20110713_17.tif"
       ]
      },
      {
       "output_type": "stream",
       "stream": "stdout",
       "text": [
        "\n",
        "E:\\Data\\WangKun@Mattijn\\outfolder\\r07//r20110714_17.tif"
       ]
      },
      {
       "output_type": "stream",
       "stream": "stdout",
       "text": [
        "\n",
        "E:\\Data\\WangKun@Mattijn\\outfolder\\r07//r20110715_17.tif"
       ]
      },
      {
       "output_type": "stream",
       "stream": "stdout",
       "text": [
        "\n",
        "E:\\Data\\WangKun@Mattijn\\outfolder\\r07//r20110716_17.tif"
       ]
      },
      {
       "output_type": "stream",
       "stream": "stdout",
       "text": [
        "\n",
        "E:\\Data\\WangKun@Mattijn\\outfolder\\r07//r20110717_17.tif"
       ]
      },
      {
       "output_type": "stream",
       "stream": "stdout",
       "text": [
        "\n",
        "E:\\Data\\WangKun@Mattijn\\outfolder\\r07//r20110718_17.tif"
       ]
      },
      {
       "output_type": "stream",
       "stream": "stdout",
       "text": [
        "\n",
        "E:\\Data\\WangKun@Mattijn\\outfolder\\r07//r20110719_17.tif"
       ]
      },
      {
       "output_type": "stream",
       "stream": "stdout",
       "text": [
        "\n",
        "E:\\Data\\WangKun@Mattijn\\outfolder\\r07//r20110720_17.tif"
       ]
      },
      {
       "output_type": "stream",
       "stream": "stdout",
       "text": [
        "\n",
        "E:\\Data\\WangKun@Mattijn\\outfolder\\r07//r20110721_17.tif"
       ]
      },
      {
       "output_type": "stream",
       "stream": "stdout",
       "text": [
        "\n",
        "E:\\Data\\WangKun@Mattijn\\outfolder\\r07//r20110722_17.tif"
       ]
      },
      {
       "output_type": "stream",
       "stream": "stdout",
       "text": [
        "\n",
        "E:\\Data\\WangKun@Mattijn\\outfolder\\r07//r20110723_17.tif"
       ]
      },
      {
       "output_type": "stream",
       "stream": "stdout",
       "text": [
        "\n",
        "E:\\Data\\WangKun@Mattijn\\outfolder\\r07//r20110724_17.tif"
       ]
      },
      {
       "output_type": "stream",
       "stream": "stdout",
       "text": [
        "\n",
        "E:\\Data\\WangKun@Mattijn\\outfolder\\r07//r20110725_17.tif"
       ]
      },
      {
       "output_type": "stream",
       "stream": "stdout",
       "text": [
        "\n",
        "E:\\Data\\WangKun@Mattijn\\outfolder\\r07//r20110726_17.tif"
       ]
      },
      {
       "output_type": "stream",
       "stream": "stdout",
       "text": [
        "\n",
        "E:\\Data\\WangKun@Mattijn\\outfolder\\r07//r20110727_17.tif"
       ]
      },
      {
       "output_type": "stream",
       "stream": "stdout",
       "text": [
        "\n",
        "E:\\Data\\WangKun@Mattijn\\outfolder\\r07//r20110728_17.tif"
       ]
      },
      {
       "output_type": "stream",
       "stream": "stdout",
       "text": [
        "\n",
        "E:\\Data\\WangKun@Mattijn\\outfolder\\r07//r20110729_17.tif"
       ]
      },
      {
       "output_type": "stream",
       "stream": "stdout",
       "text": [
        "\n",
        "E:\\Data\\WangKun@Mattijn\\outfolder\\r07//r20110730_17.tif"
       ]
      },
      {
       "output_type": "stream",
       "stream": "stdout",
       "text": [
        "\n",
        "E:\\Data\\WangKun@Mattijn\\outfolder\\r07//r20110731_17.tif"
       ]
      },
      {
       "output_type": "stream",
       "stream": "stdout",
       "text": [
        "\n",
        "E:\\Data\\WangKun@Mattijn\\outfolder\\r07//r20110701_18.tif"
       ]
      },
      {
       "output_type": "stream",
       "stream": "stdout",
       "text": [
        "\n",
        "E:\\Data\\WangKun@Mattijn\\outfolder\\r07//r20110702_18.tif"
       ]
      },
      {
       "output_type": "stream",
       "stream": "stdout",
       "text": [
        "\n",
        "E:\\Data\\WangKun@Mattijn\\outfolder\\r07//r20110703_18.tif"
       ]
      },
      {
       "output_type": "stream",
       "stream": "stdout",
       "text": [
        "\n",
        "E:\\Data\\WangKun@Mattijn\\outfolder\\r07//r20110704_18.tif"
       ]
      },
      {
       "output_type": "stream",
       "stream": "stdout",
       "text": [
        "\n",
        "E:\\Data\\WangKun@Mattijn\\outfolder\\r07//r20110705_18.tif"
       ]
      },
      {
       "output_type": "stream",
       "stream": "stdout",
       "text": [
        "\n",
        "E:\\Data\\WangKun@Mattijn\\outfolder\\r07//r20110706_18.tif"
       ]
      },
      {
       "output_type": "stream",
       "stream": "stdout",
       "text": [
        "\n",
        "E:\\Data\\WangKun@Mattijn\\outfolder\\r07//r20110707_18.tif"
       ]
      },
      {
       "output_type": "stream",
       "stream": "stdout",
       "text": [
        "\n",
        "E:\\Data\\WangKun@Mattijn\\outfolder\\r07//r20110708_18.tif"
       ]
      },
      {
       "output_type": "stream",
       "stream": "stdout",
       "text": [
        "\n",
        "E:\\Data\\WangKun@Mattijn\\outfolder\\r07//r20110709_18.tif"
       ]
      },
      {
       "output_type": "stream",
       "stream": "stdout",
       "text": [
        "\n",
        "E:\\Data\\WangKun@Mattijn\\outfolder\\r07//r20110710_18.tif"
       ]
      },
      {
       "output_type": "stream",
       "stream": "stdout",
       "text": [
        "\n",
        "E:\\Data\\WangKun@Mattijn\\outfolder\\r07//r20110711_18.tif"
       ]
      },
      {
       "output_type": "stream",
       "stream": "stdout",
       "text": [
        "\n",
        "E:\\Data\\WangKun@Mattijn\\outfolder\\r07//r20110712_18.tif"
       ]
      },
      {
       "output_type": "stream",
       "stream": "stdout",
       "text": [
        "\n",
        "E:\\Data\\WangKun@Mattijn\\outfolder\\r07//r20110713_18.tif"
       ]
      },
      {
       "output_type": "stream",
       "stream": "stdout",
       "text": [
        "\n",
        "E:\\Data\\WangKun@Mattijn\\outfolder\\r07//r20110714_18.tif"
       ]
      },
      {
       "output_type": "stream",
       "stream": "stdout",
       "text": [
        "\n",
        "E:\\Data\\WangKun@Mattijn\\outfolder\\r07//r20110715_18.tif"
       ]
      },
      {
       "output_type": "stream",
       "stream": "stdout",
       "text": [
        "\n",
        "E:\\Data\\WangKun@Mattijn\\outfolder\\r07//r20110716_18.tif"
       ]
      },
      {
       "output_type": "stream",
       "stream": "stdout",
       "text": [
        "\n",
        "E:\\Data\\WangKun@Mattijn\\outfolder\\r07//r20110717_18.tif"
       ]
      },
      {
       "output_type": "stream",
       "stream": "stdout",
       "text": [
        "\n",
        "E:\\Data\\WangKun@Mattijn\\outfolder\\r07//r20110718_18.tif"
       ]
      },
      {
       "output_type": "stream",
       "stream": "stdout",
       "text": [
        "\n",
        "E:\\Data\\WangKun@Mattijn\\outfolder\\r07//r20110719_18.tif"
       ]
      },
      {
       "output_type": "stream",
       "stream": "stdout",
       "text": [
        "\n",
        "E:\\Data\\WangKun@Mattijn\\outfolder\\r07//r20110720_18.tif"
       ]
      },
      {
       "output_type": "stream",
       "stream": "stdout",
       "text": [
        "\n",
        "E:\\Data\\WangKun@Mattijn\\outfolder\\r07//r20110721_18.tif"
       ]
      },
      {
       "output_type": "stream",
       "stream": "stdout",
       "text": [
        "\n",
        "E:\\Data\\WangKun@Mattijn\\outfolder\\r07//r20110722_18.tif"
       ]
      },
      {
       "output_type": "stream",
       "stream": "stdout",
       "text": [
        "\n",
        "E:\\Data\\WangKun@Mattijn\\outfolder\\r07//r20110723_18.tif"
       ]
      },
      {
       "output_type": "stream",
       "stream": "stdout",
       "text": [
        "\n",
        "E:\\Data\\WangKun@Mattijn\\outfolder\\r07//r20110724_18.tif"
       ]
      },
      {
       "output_type": "stream",
       "stream": "stdout",
       "text": [
        "\n",
        "E:\\Data\\WangKun@Mattijn\\outfolder\\r07//r20110725_18.tif"
       ]
      },
      {
       "output_type": "stream",
       "stream": "stdout",
       "text": [
        "\n",
        "E:\\Data\\WangKun@Mattijn\\outfolder\\r07//r20110726_18.tif"
       ]
      },
      {
       "output_type": "stream",
       "stream": "stdout",
       "text": [
        "\n",
        "E:\\Data\\WangKun@Mattijn\\outfolder\\r07//r20110727_18.tif"
       ]
      },
      {
       "output_type": "stream",
       "stream": "stdout",
       "text": [
        "\n",
        "E:\\Data\\WangKun@Mattijn\\outfolder\\r07//r20110728_18.tif"
       ]
      },
      {
       "output_type": "stream",
       "stream": "stdout",
       "text": [
        "\n",
        "E:\\Data\\WangKun@Mattijn\\outfolder\\r07//r20110729_18.tif"
       ]
      },
      {
       "output_type": "stream",
       "stream": "stdout",
       "text": [
        "\n",
        "E:\\Data\\WangKun@Mattijn\\outfolder\\r07//r20110730_18.tif"
       ]
      },
      {
       "output_type": "stream",
       "stream": "stdout",
       "text": [
        "\n",
        "E:\\Data\\WangKun@Mattijn\\outfolder\\r07//r20110731_18.tif"
       ]
      },
      {
       "output_type": "stream",
       "stream": "stdout",
       "text": [
        "\n",
        "E:\\Data\\WangKun@Mattijn\\outfolder\\r07//r20110701_19.tif"
       ]
      },
      {
       "output_type": "stream",
       "stream": "stdout",
       "text": [
        "\n",
        "E:\\Data\\WangKun@Mattijn\\outfolder\\r07//r20110702_19.tif"
       ]
      },
      {
       "output_type": "stream",
       "stream": "stdout",
       "text": [
        "\n",
        "E:\\Data\\WangKun@Mattijn\\outfolder\\r07//r20110703_19.tif"
       ]
      },
      {
       "output_type": "stream",
       "stream": "stdout",
       "text": [
        "\n",
        "E:\\Data\\WangKun@Mattijn\\outfolder\\r07//r20110704_19.tif"
       ]
      },
      {
       "output_type": "stream",
       "stream": "stdout",
       "text": [
        "\n",
        "E:\\Data\\WangKun@Mattijn\\outfolder\\r07//r20110705_19.tif"
       ]
      },
      {
       "output_type": "stream",
       "stream": "stdout",
       "text": [
        "\n",
        "E:\\Data\\WangKun@Mattijn\\outfolder\\r07//r20110706_19.tif"
       ]
      },
      {
       "output_type": "stream",
       "stream": "stdout",
       "text": [
        "\n",
        "E:\\Data\\WangKun@Mattijn\\outfolder\\r07//r20110707_19.tif"
       ]
      },
      {
       "output_type": "stream",
       "stream": "stdout",
       "text": [
        "\n",
        "E:\\Data\\WangKun@Mattijn\\outfolder\\r07//r20110708_19.tif"
       ]
      },
      {
       "output_type": "stream",
       "stream": "stdout",
       "text": [
        "\n",
        "E:\\Data\\WangKun@Mattijn\\outfolder\\r07//r20110709_19.tif"
       ]
      },
      {
       "output_type": "stream",
       "stream": "stdout",
       "text": [
        "\n",
        "E:\\Data\\WangKun@Mattijn\\outfolder\\r07//r20110710_19.tif"
       ]
      },
      {
       "output_type": "stream",
       "stream": "stdout",
       "text": [
        "\n",
        "E:\\Data\\WangKun@Mattijn\\outfolder\\r07//r20110711_19.tif"
       ]
      },
      {
       "output_type": "stream",
       "stream": "stdout",
       "text": [
        "\n",
        "E:\\Data\\WangKun@Mattijn\\outfolder\\r07//r20110712_19.tif"
       ]
      },
      {
       "output_type": "stream",
       "stream": "stdout",
       "text": [
        "\n",
        "E:\\Data\\WangKun@Mattijn\\outfolder\\r07//r20110713_19.tif"
       ]
      },
      {
       "output_type": "stream",
       "stream": "stdout",
       "text": [
        "\n",
        "E:\\Data\\WangKun@Mattijn\\outfolder\\r07//r20110714_19.tif"
       ]
      },
      {
       "output_type": "stream",
       "stream": "stdout",
       "text": [
        "\n",
        "E:\\Data\\WangKun@Mattijn\\outfolder\\r07//r20110715_19.tif"
       ]
      },
      {
       "output_type": "stream",
       "stream": "stdout",
       "text": [
        "\n",
        "E:\\Data\\WangKun@Mattijn\\outfolder\\r07//r20110716_19.tif"
       ]
      },
      {
       "output_type": "stream",
       "stream": "stdout",
       "text": [
        "\n",
        "E:\\Data\\WangKun@Mattijn\\outfolder\\r07//r20110717_19.tif"
       ]
      },
      {
       "output_type": "stream",
       "stream": "stdout",
       "text": [
        "\n",
        "E:\\Data\\WangKun@Mattijn\\outfolder\\r07//r20110718_19.tif"
       ]
      },
      {
       "output_type": "stream",
       "stream": "stdout",
       "text": [
        "\n",
        "E:\\Data\\WangKun@Mattijn\\outfolder\\r07//r20110719_19.tif"
       ]
      },
      {
       "output_type": "stream",
       "stream": "stdout",
       "text": [
        "\n",
        "E:\\Data\\WangKun@Mattijn\\outfolder\\r07//r20110720_19.tif"
       ]
      },
      {
       "output_type": "stream",
       "stream": "stdout",
       "text": [
        "\n",
        "E:\\Data\\WangKun@Mattijn\\outfolder\\r07//r20110721_19.tif"
       ]
      },
      {
       "output_type": "stream",
       "stream": "stdout",
       "text": [
        "\n",
        "E:\\Data\\WangKun@Mattijn\\outfolder\\r07//r20110722_19.tif"
       ]
      },
      {
       "output_type": "stream",
       "stream": "stdout",
       "text": [
        "\n",
        "E:\\Data\\WangKun@Mattijn\\outfolder\\r07//r20110723_19.tif"
       ]
      },
      {
       "output_type": "stream",
       "stream": "stdout",
       "text": [
        "\n",
        "E:\\Data\\WangKun@Mattijn\\outfolder\\r07//r20110724_19.tif"
       ]
      },
      {
       "output_type": "stream",
       "stream": "stdout",
       "text": [
        "\n",
        "E:\\Data\\WangKun@Mattijn\\outfolder\\r07//r20110725_19.tif"
       ]
      },
      {
       "output_type": "stream",
       "stream": "stdout",
       "text": [
        "\n",
        "E:\\Data\\WangKun@Mattijn\\outfolder\\r07//r20110726_19.tif"
       ]
      },
      {
       "output_type": "stream",
       "stream": "stdout",
       "text": [
        "\n",
        "E:\\Data\\WangKun@Mattijn\\outfolder\\r07//r20110727_19.tif"
       ]
      },
      {
       "output_type": "stream",
       "stream": "stdout",
       "text": [
        "\n",
        "E:\\Data\\WangKun@Mattijn\\outfolder\\r07//r20110728_19.tif"
       ]
      },
      {
       "output_type": "stream",
       "stream": "stdout",
       "text": [
        "\n",
        "E:\\Data\\WangKun@Mattijn\\outfolder\\r07//r20110729_19.tif"
       ]
      },
      {
       "output_type": "stream",
       "stream": "stdout",
       "text": [
        "\n",
        "E:\\Data\\WangKun@Mattijn\\outfolder\\r07//r20110730_19.tif"
       ]
      },
      {
       "output_type": "stream",
       "stream": "stdout",
       "text": [
        "\n",
        "E:\\Data\\WangKun@Mattijn\\outfolder\\r07//r20110731_19.tif"
       ]
      },
      {
       "output_type": "stream",
       "stream": "stdout",
       "text": [
        "\n",
        "E:\\Data\\WangKun@Mattijn\\outfolder\\r07//r20110701_02.tif"
       ]
      },
      {
       "output_type": "stream",
       "stream": "stdout",
       "text": [
        "\n",
        "E:\\Data\\WangKun@Mattijn\\outfolder\\r07//r20110702_02.tif"
       ]
      },
      {
       "output_type": "stream",
       "stream": "stdout",
       "text": [
        "\n",
        "E:\\Data\\WangKun@Mattijn\\outfolder\\r07//r20110703_02.tif"
       ]
      },
      {
       "output_type": "stream",
       "stream": "stdout",
       "text": [
        "\n",
        "E:\\Data\\WangKun@Mattijn\\outfolder\\r07//r20110704_02.tif"
       ]
      },
      {
       "output_type": "stream",
       "stream": "stdout",
       "text": [
        "\n",
        "E:\\Data\\WangKun@Mattijn\\outfolder\\r07//r20110705_02.tif"
       ]
      },
      {
       "output_type": "stream",
       "stream": "stdout",
       "text": [
        "\n",
        "E:\\Data\\WangKun@Mattijn\\outfolder\\r07//r20110706_02.tif"
       ]
      },
      {
       "output_type": "stream",
       "stream": "stdout",
       "text": [
        "\n",
        "E:\\Data\\WangKun@Mattijn\\outfolder\\r07//r20110707_02.tif"
       ]
      },
      {
       "output_type": "stream",
       "stream": "stdout",
       "text": [
        "\n",
        "E:\\Data\\WangKun@Mattijn\\outfolder\\r07//r20110708_02.tif"
       ]
      },
      {
       "output_type": "stream",
       "stream": "stdout",
       "text": [
        "\n",
        "E:\\Data\\WangKun@Mattijn\\outfolder\\r07//r20110709_02.tif"
       ]
      },
      {
       "output_type": "stream",
       "stream": "stdout",
       "text": [
        "\n",
        "E:\\Data\\WangKun@Mattijn\\outfolder\\r07//r20110710_02.tif"
       ]
      },
      {
       "output_type": "stream",
       "stream": "stdout",
       "text": [
        "\n",
        "E:\\Data\\WangKun@Mattijn\\outfolder\\r07//r20110711_02.tif"
       ]
      },
      {
       "output_type": "stream",
       "stream": "stdout",
       "text": [
        "\n",
        "E:\\Data\\WangKun@Mattijn\\outfolder\\r07//r20110712_02.tif"
       ]
      },
      {
       "output_type": "stream",
       "stream": "stdout",
       "text": [
        "\n",
        "E:\\Data\\WangKun@Mattijn\\outfolder\\r07//r20110713_02.tif"
       ]
      },
      {
       "output_type": "stream",
       "stream": "stdout",
       "text": [
        "\n",
        "E:\\Data\\WangKun@Mattijn\\outfolder\\r07//r20110714_02.tif"
       ]
      },
      {
       "output_type": "stream",
       "stream": "stdout",
       "text": [
        "\n",
        "E:\\Data\\WangKun@Mattijn\\outfolder\\r07//r20110715_02.tif"
       ]
      },
      {
       "output_type": "stream",
       "stream": "stdout",
       "text": [
        "\n",
        "E:\\Data\\WangKun@Mattijn\\outfolder\\r07//r20110716_02.tif"
       ]
      },
      {
       "output_type": "stream",
       "stream": "stdout",
       "text": [
        "\n",
        "E:\\Data\\WangKun@Mattijn\\outfolder\\r07//r20110717_02.tif"
       ]
      },
      {
       "output_type": "stream",
       "stream": "stdout",
       "text": [
        "\n",
        "E:\\Data\\WangKun@Mattijn\\outfolder\\r07//r20110718_02.tif"
       ]
      },
      {
       "output_type": "stream",
       "stream": "stdout",
       "text": [
        "\n",
        "E:\\Data\\WangKun@Mattijn\\outfolder\\r07//r20110719_02.tif"
       ]
      },
      {
       "output_type": "stream",
       "stream": "stdout",
       "text": [
        "\n",
        "E:\\Data\\WangKun@Mattijn\\outfolder\\r07//r20110720_02.tif"
       ]
      },
      {
       "output_type": "stream",
       "stream": "stdout",
       "text": [
        "\n",
        "E:\\Data\\WangKun@Mattijn\\outfolder\\r07//r20110721_02.tif"
       ]
      },
      {
       "output_type": "stream",
       "stream": "stdout",
       "text": [
        "\n",
        "E:\\Data\\WangKun@Mattijn\\outfolder\\r07//r20110722_02.tif"
       ]
      },
      {
       "output_type": "stream",
       "stream": "stdout",
       "text": [
        "\n",
        "E:\\Data\\WangKun@Mattijn\\outfolder\\r07//r20110723_02.tif"
       ]
      },
      {
       "output_type": "stream",
       "stream": "stdout",
       "text": [
        "\n",
        "E:\\Data\\WangKun@Mattijn\\outfolder\\r07//r20110724_02.tif"
       ]
      },
      {
       "output_type": "stream",
       "stream": "stdout",
       "text": [
        "\n",
        "E:\\Data\\WangKun@Mattijn\\outfolder\\r07//r20110725_02.tif"
       ]
      },
      {
       "output_type": "stream",
       "stream": "stdout",
       "text": [
        "\n",
        "E:\\Data\\WangKun@Mattijn\\outfolder\\r07//r20110726_02.tif"
       ]
      },
      {
       "output_type": "stream",
       "stream": "stdout",
       "text": [
        "\n",
        "E:\\Data\\WangKun@Mattijn\\outfolder\\r07//r20110727_02.tif"
       ]
      },
      {
       "output_type": "stream",
       "stream": "stdout",
       "text": [
        "\n",
        "E:\\Data\\WangKun@Mattijn\\outfolder\\r07//r20110728_02.tif"
       ]
      },
      {
       "output_type": "stream",
       "stream": "stdout",
       "text": [
        "\n",
        "E:\\Data\\WangKun@Mattijn\\outfolder\\r07//r20110729_02.tif"
       ]
      },
      {
       "output_type": "stream",
       "stream": "stdout",
       "text": [
        "\n",
        "E:\\Data\\WangKun@Mattijn\\outfolder\\r07//r20110730_02.tif"
       ]
      },
      {
       "output_type": "stream",
       "stream": "stdout",
       "text": [
        "\n",
        "E:\\Data\\WangKun@Mattijn\\outfolder\\r07//r20110731_02.tif"
       ]
      },
      {
       "output_type": "stream",
       "stream": "stdout",
       "text": [
        "\n",
        "E:\\Data\\WangKun@Mattijn\\outfolder\\r07//r20110701_20.tif"
       ]
      },
      {
       "output_type": "stream",
       "stream": "stdout",
       "text": [
        "\n",
        "E:\\Data\\WangKun@Mattijn\\outfolder\\r07//r20110702_20.tif"
       ]
      },
      {
       "output_type": "stream",
       "stream": "stdout",
       "text": [
        "\n",
        "E:\\Data\\WangKun@Mattijn\\outfolder\\r07//r20110703_20.tif"
       ]
      },
      {
       "output_type": "stream",
       "stream": "stdout",
       "text": [
        "\n",
        "E:\\Data\\WangKun@Mattijn\\outfolder\\r07//r20110704_20.tif"
       ]
      },
      {
       "output_type": "stream",
       "stream": "stdout",
       "text": [
        "\n",
        "E:\\Data\\WangKun@Mattijn\\outfolder\\r07//r20110705_20.tif"
       ]
      },
      {
       "output_type": "stream",
       "stream": "stdout",
       "text": [
        "\n",
        "E:\\Data\\WangKun@Mattijn\\outfolder\\r07//r20110706_20.tif"
       ]
      },
      {
       "output_type": "stream",
       "stream": "stdout",
       "text": [
        "\n",
        "E:\\Data\\WangKun@Mattijn\\outfolder\\r07//r20110707_20.tif"
       ]
      },
      {
       "output_type": "stream",
       "stream": "stdout",
       "text": [
        "\n",
        "E:\\Data\\WangKun@Mattijn\\outfolder\\r07//r20110708_20.tif"
       ]
      },
      {
       "output_type": "stream",
       "stream": "stdout",
       "text": [
        "\n",
        "E:\\Data\\WangKun@Mattijn\\outfolder\\r07//r20110709_20.tif"
       ]
      },
      {
       "output_type": "stream",
       "stream": "stdout",
       "text": [
        "\n",
        "E:\\Data\\WangKun@Mattijn\\outfolder\\r07//r20110710_20.tif"
       ]
      },
      {
       "output_type": "stream",
       "stream": "stdout",
       "text": [
        "\n",
        "E:\\Data\\WangKun@Mattijn\\outfolder\\r07//r20110711_20.tif"
       ]
      },
      {
       "output_type": "stream",
       "stream": "stdout",
       "text": [
        "\n",
        "E:\\Data\\WangKun@Mattijn\\outfolder\\r07//r20110712_20.tif"
       ]
      },
      {
       "output_type": "stream",
       "stream": "stdout",
       "text": [
        "\n",
        "E:\\Data\\WangKun@Mattijn\\outfolder\\r07//r20110713_20.tif"
       ]
      },
      {
       "output_type": "stream",
       "stream": "stdout",
       "text": [
        "\n",
        "E:\\Data\\WangKun@Mattijn\\outfolder\\r07//r20110714_20.tif"
       ]
      },
      {
       "output_type": "stream",
       "stream": "stdout",
       "text": [
        "\n",
        "E:\\Data\\WangKun@Mattijn\\outfolder\\r07//r20110715_20.tif"
       ]
      },
      {
       "output_type": "stream",
       "stream": "stdout",
       "text": [
        "\n",
        "E:\\Data\\WangKun@Mattijn\\outfolder\\r07//r20110716_20.tif"
       ]
      },
      {
       "output_type": "stream",
       "stream": "stdout",
       "text": [
        "\n",
        "E:\\Data\\WangKun@Mattijn\\outfolder\\r07//r20110717_20.tif"
       ]
      },
      {
       "output_type": "stream",
       "stream": "stdout",
       "text": [
        "\n",
        "E:\\Data\\WangKun@Mattijn\\outfolder\\r07//r20110718_20.tif"
       ]
      },
      {
       "output_type": "stream",
       "stream": "stdout",
       "text": [
        "\n",
        "E:\\Data\\WangKun@Mattijn\\outfolder\\r07//r20110719_20.tif"
       ]
      },
      {
       "output_type": "stream",
       "stream": "stdout",
       "text": [
        "\n",
        "E:\\Data\\WangKun@Mattijn\\outfolder\\r07//r20110720_20.tif"
       ]
      },
      {
       "output_type": "stream",
       "stream": "stdout",
       "text": [
        "\n",
        "E:\\Data\\WangKun@Mattijn\\outfolder\\r07//r20110721_20.tif"
       ]
      },
      {
       "output_type": "stream",
       "stream": "stdout",
       "text": [
        "\n",
        "E:\\Data\\WangKun@Mattijn\\outfolder\\r07//r20110722_20.tif"
       ]
      },
      {
       "output_type": "stream",
       "stream": "stdout",
       "text": [
        "\n",
        "E:\\Data\\WangKun@Mattijn\\outfolder\\r07//r20110723_20.tif"
       ]
      },
      {
       "output_type": "stream",
       "stream": "stdout",
       "text": [
        "\n",
        "E:\\Data\\WangKun@Mattijn\\outfolder\\r07//r20110724_20.tif"
       ]
      },
      {
       "output_type": "stream",
       "stream": "stdout",
       "text": [
        "\n",
        "E:\\Data\\WangKun@Mattijn\\outfolder\\r07//r20110725_20.tif"
       ]
      },
      {
       "output_type": "stream",
       "stream": "stdout",
       "text": [
        "\n",
        "E:\\Data\\WangKun@Mattijn\\outfolder\\r07//r20110726_20.tif"
       ]
      },
      {
       "output_type": "stream",
       "stream": "stdout",
       "text": [
        "\n",
        "E:\\Data\\WangKun@Mattijn\\outfolder\\r07//r20110727_20.tif"
       ]
      },
      {
       "output_type": "stream",
       "stream": "stdout",
       "text": [
        "\n",
        "E:\\Data\\WangKun@Mattijn\\outfolder\\r07//r20110728_20.tif"
       ]
      },
      {
       "output_type": "stream",
       "stream": "stdout",
       "text": [
        "\n",
        "E:\\Data\\WangKun@Mattijn\\outfolder\\r07//r20110729_20.tif"
       ]
      },
      {
       "output_type": "stream",
       "stream": "stdout",
       "text": [
        "\n",
        "E:\\Data\\WangKun@Mattijn\\outfolder\\r07//r20110730_20.tif"
       ]
      },
      {
       "output_type": "stream",
       "stream": "stdout",
       "text": [
        "\n",
        "E:\\Data\\WangKun@Mattijn\\outfolder\\r07//r20110731_20.tif"
       ]
      },
      {
       "output_type": "stream",
       "stream": "stdout",
       "text": [
        "\n",
        "E:\\Data\\WangKun@Mattijn\\outfolder\\r07//r20110701_21.tif"
       ]
      },
      {
       "output_type": "stream",
       "stream": "stdout",
       "text": [
        "\n",
        "E:\\Data\\WangKun@Mattijn\\outfolder\\r07//r20110702_21.tif"
       ]
      },
      {
       "output_type": "stream",
       "stream": "stdout",
       "text": [
        "\n",
        "E:\\Data\\WangKun@Mattijn\\outfolder\\r07//r20110703_21.tif"
       ]
      },
      {
       "output_type": "stream",
       "stream": "stdout",
       "text": [
        "\n",
        "E:\\Data\\WangKun@Mattijn\\outfolder\\r07//r20110704_21.tif"
       ]
      },
      {
       "output_type": "stream",
       "stream": "stdout",
       "text": [
        "\n",
        "E:\\Data\\WangKun@Mattijn\\outfolder\\r07//r20110705_21.tif"
       ]
      },
      {
       "output_type": "stream",
       "stream": "stdout",
       "text": [
        "\n",
        "E:\\Data\\WangKun@Mattijn\\outfolder\\r07//r20110706_21.tif"
       ]
      },
      {
       "output_type": "stream",
       "stream": "stdout",
       "text": [
        "\n",
        "E:\\Data\\WangKun@Mattijn\\outfolder\\r07//r20110707_21.tif"
       ]
      },
      {
       "output_type": "stream",
       "stream": "stdout",
       "text": [
        "\n",
        "E:\\Data\\WangKun@Mattijn\\outfolder\\r07//r20110708_21.tif"
       ]
      },
      {
       "output_type": "stream",
       "stream": "stdout",
       "text": [
        "\n",
        "E:\\Data\\WangKun@Mattijn\\outfolder\\r07//r20110709_21.tif"
       ]
      },
      {
       "output_type": "stream",
       "stream": "stdout",
       "text": [
        "\n",
        "E:\\Data\\WangKun@Mattijn\\outfolder\\r07//r20110710_21.tif"
       ]
      },
      {
       "output_type": "stream",
       "stream": "stdout",
       "text": [
        "\n",
        "E:\\Data\\WangKun@Mattijn\\outfolder\\r07//r20110711_21.tif"
       ]
      },
      {
       "output_type": "stream",
       "stream": "stdout",
       "text": [
        "\n",
        "E:\\Data\\WangKun@Mattijn\\outfolder\\r07//r20110712_21.tif"
       ]
      },
      {
       "output_type": "stream",
       "stream": "stdout",
       "text": [
        "\n",
        "E:\\Data\\WangKun@Mattijn\\outfolder\\r07//r20110713_21.tif"
       ]
      },
      {
       "output_type": "stream",
       "stream": "stdout",
       "text": [
        "\n",
        "E:\\Data\\WangKun@Mattijn\\outfolder\\r07//r20110714_21.tif"
       ]
      },
      {
       "output_type": "stream",
       "stream": "stdout",
       "text": [
        "\n",
        "E:\\Data\\WangKun@Mattijn\\outfolder\\r07//r20110715_21.tif"
       ]
      },
      {
       "output_type": "stream",
       "stream": "stdout",
       "text": [
        "\n",
        "E:\\Data\\WangKun@Mattijn\\outfolder\\r07//r20110716_21.tif"
       ]
      },
      {
       "output_type": "stream",
       "stream": "stdout",
       "text": [
        "\n",
        "E:\\Data\\WangKun@Mattijn\\outfolder\\r07//r20110717_21.tif"
       ]
      },
      {
       "output_type": "stream",
       "stream": "stdout",
       "text": [
        "\n",
        "E:\\Data\\WangKun@Mattijn\\outfolder\\r07//r20110718_21.tif"
       ]
      },
      {
       "output_type": "stream",
       "stream": "stdout",
       "text": [
        "\n",
        "E:\\Data\\WangKun@Mattijn\\outfolder\\r07//r20110719_21.tif"
       ]
      },
      {
       "output_type": "stream",
       "stream": "stdout",
       "text": [
        "\n",
        "E:\\Data\\WangKun@Mattijn\\outfolder\\r07//r20110720_21.tif"
       ]
      },
      {
       "output_type": "stream",
       "stream": "stdout",
       "text": [
        "\n",
        "E:\\Data\\WangKun@Mattijn\\outfolder\\r07//r20110721_21.tif"
       ]
      },
      {
       "output_type": "stream",
       "stream": "stdout",
       "text": [
        "\n",
        "E:\\Data\\WangKun@Mattijn\\outfolder\\r07//r20110722_21.tif"
       ]
      },
      {
       "output_type": "stream",
       "stream": "stdout",
       "text": [
        "\n",
        "E:\\Data\\WangKun@Mattijn\\outfolder\\r07//r20110723_21.tif"
       ]
      },
      {
       "output_type": "stream",
       "stream": "stdout",
       "text": [
        "\n",
        "E:\\Data\\WangKun@Mattijn\\outfolder\\r07//r20110724_21.tif"
       ]
      },
      {
       "output_type": "stream",
       "stream": "stdout",
       "text": [
        "\n",
        "E:\\Data\\WangKun@Mattijn\\outfolder\\r07//r20110725_21.tif"
       ]
      },
      {
       "output_type": "stream",
       "stream": "stdout",
       "text": [
        "\n",
        "E:\\Data\\WangKun@Mattijn\\outfolder\\r07//r20110726_21.tif"
       ]
      },
      {
       "output_type": "stream",
       "stream": "stdout",
       "text": [
        "\n",
        "E:\\Data\\WangKun@Mattijn\\outfolder\\r07//r20110727_21.tif"
       ]
      },
      {
       "output_type": "stream",
       "stream": "stdout",
       "text": [
        "\n",
        "E:\\Data\\WangKun@Mattijn\\outfolder\\r07//r20110728_21.tif"
       ]
      },
      {
       "output_type": "stream",
       "stream": "stdout",
       "text": [
        "\n",
        "E:\\Data\\WangKun@Mattijn\\outfolder\\r07//r20110729_21.tif"
       ]
      },
      {
       "output_type": "stream",
       "stream": "stdout",
       "text": [
        "\n",
        "E:\\Data\\WangKun@Mattijn\\outfolder\\r07//r20110730_21.tif"
       ]
      },
      {
       "output_type": "stream",
       "stream": "stdout",
       "text": [
        "\n",
        "E:\\Data\\WangKun@Mattijn\\outfolder\\r07//r20110731_21.tif"
       ]
      },
      {
       "output_type": "stream",
       "stream": "stdout",
       "text": [
        "\n",
        "E:\\Data\\WangKun@Mattijn\\outfolder\\r07//r20110701_22.tif"
       ]
      },
      {
       "output_type": "stream",
       "stream": "stdout",
       "text": [
        "\n",
        "E:\\Data\\WangKun@Mattijn\\outfolder\\r07//r20110702_22.tif"
       ]
      },
      {
       "output_type": "stream",
       "stream": "stdout",
       "text": [
        "\n",
        "E:\\Data\\WangKun@Mattijn\\outfolder\\r07//r20110703_22.tif"
       ]
      },
      {
       "output_type": "stream",
       "stream": "stdout",
       "text": [
        "\n",
        "E:\\Data\\WangKun@Mattijn\\outfolder\\r07//r20110704_22.tif"
       ]
      },
      {
       "output_type": "stream",
       "stream": "stdout",
       "text": [
        "\n",
        "E:\\Data\\WangKun@Mattijn\\outfolder\\r07//r20110705_22.tif"
       ]
      },
      {
       "output_type": "stream",
       "stream": "stdout",
       "text": [
        "\n",
        "E:\\Data\\WangKun@Mattijn\\outfolder\\r07//r20110706_22.tif"
       ]
      },
      {
       "output_type": "stream",
       "stream": "stdout",
       "text": [
        "\n",
        "E:\\Data\\WangKun@Mattijn\\outfolder\\r07//r20110707_22.tif"
       ]
      },
      {
       "output_type": "stream",
       "stream": "stdout",
       "text": [
        "\n",
        "E:\\Data\\WangKun@Mattijn\\outfolder\\r07//r20110708_22.tif"
       ]
      },
      {
       "output_type": "stream",
       "stream": "stdout",
       "text": [
        "\n",
        "E:\\Data\\WangKun@Mattijn\\outfolder\\r07//r20110709_22.tif"
       ]
      },
      {
       "output_type": "stream",
       "stream": "stdout",
       "text": [
        "\n",
        "E:\\Data\\WangKun@Mattijn\\outfolder\\r07//r20110710_22.tif"
       ]
      },
      {
       "output_type": "stream",
       "stream": "stdout",
       "text": [
        "\n",
        "E:\\Data\\WangKun@Mattijn\\outfolder\\r07//r20110711_22.tif"
       ]
      },
      {
       "output_type": "stream",
       "stream": "stdout",
       "text": [
        "\n",
        "E:\\Data\\WangKun@Mattijn\\outfolder\\r07//r20110712_22.tif"
       ]
      },
      {
       "output_type": "stream",
       "stream": "stdout",
       "text": [
        "\n",
        "E:\\Data\\WangKun@Mattijn\\outfolder\\r07//r20110713_22.tif"
       ]
      },
      {
       "output_type": "stream",
       "stream": "stdout",
       "text": [
        "\n",
        "E:\\Data\\WangKun@Mattijn\\outfolder\\r07//r20110714_22.tif"
       ]
      },
      {
       "output_type": "stream",
       "stream": "stdout",
       "text": [
        "\n",
        "E:\\Data\\WangKun@Mattijn\\outfolder\\r07//r20110715_22.tif"
       ]
      },
      {
       "output_type": "stream",
       "stream": "stdout",
       "text": [
        "\n",
        "E:\\Data\\WangKun@Mattijn\\outfolder\\r07//r20110716_22.tif"
       ]
      },
      {
       "output_type": "stream",
       "stream": "stdout",
       "text": [
        "\n",
        "E:\\Data\\WangKun@Mattijn\\outfolder\\r07//r20110717_22.tif"
       ]
      },
      {
       "output_type": "stream",
       "stream": "stdout",
       "text": [
        "\n",
        "E:\\Data\\WangKun@Mattijn\\outfolder\\r07//r20110718_22.tif"
       ]
      },
      {
       "output_type": "stream",
       "stream": "stdout",
       "text": [
        "\n",
        "E:\\Data\\WangKun@Mattijn\\outfolder\\r07//r20110719_22.tif"
       ]
      },
      {
       "output_type": "stream",
       "stream": "stdout",
       "text": [
        "\n",
        "E:\\Data\\WangKun@Mattijn\\outfolder\\r07//r20110720_22.tif"
       ]
      },
      {
       "output_type": "stream",
       "stream": "stdout",
       "text": [
        "\n",
        "E:\\Data\\WangKun@Mattijn\\outfolder\\r07//r20110721_22.tif"
       ]
      },
      {
       "output_type": "stream",
       "stream": "stdout",
       "text": [
        "\n",
        "E:\\Data\\WangKun@Mattijn\\outfolder\\r07//r20110722_22.tif"
       ]
      },
      {
       "output_type": "stream",
       "stream": "stdout",
       "text": [
        "\n",
        "E:\\Data\\WangKun@Mattijn\\outfolder\\r07//r20110723_22.tif"
       ]
      },
      {
       "output_type": "stream",
       "stream": "stdout",
       "text": [
        "\n",
        "E:\\Data\\WangKun@Mattijn\\outfolder\\r07//r20110724_22.tif"
       ]
      },
      {
       "output_type": "stream",
       "stream": "stdout",
       "text": [
        "\n",
        "E:\\Data\\WangKun@Mattijn\\outfolder\\r07//r20110725_22.tif"
       ]
      },
      {
       "output_type": "stream",
       "stream": "stdout",
       "text": [
        "\n",
        "E:\\Data\\WangKun@Mattijn\\outfolder\\r07//r20110726_22.tif"
       ]
      },
      {
       "output_type": "stream",
       "stream": "stdout",
       "text": [
        "\n",
        "E:\\Data\\WangKun@Mattijn\\outfolder\\r07//r20110727_22.tif"
       ]
      },
      {
       "output_type": "stream",
       "stream": "stdout",
       "text": [
        "\n",
        "E:\\Data\\WangKun@Mattijn\\outfolder\\r07//r20110728_22.tif"
       ]
      },
      {
       "output_type": "stream",
       "stream": "stdout",
       "text": [
        "\n",
        "E:\\Data\\WangKun@Mattijn\\outfolder\\r07//r20110729_22.tif"
       ]
      },
      {
       "output_type": "stream",
       "stream": "stdout",
       "text": [
        "\n",
        "E:\\Data\\WangKun@Mattijn\\outfolder\\r07//r20110730_22.tif"
       ]
      },
      {
       "output_type": "stream",
       "stream": "stdout",
       "text": [
        "\n",
        "E:\\Data\\WangKun@Mattijn\\outfolder\\r07//r20110731_22.tif"
       ]
      },
      {
       "output_type": "stream",
       "stream": "stdout",
       "text": [
        "\n",
        "E:\\Data\\WangKun@Mattijn\\outfolder\\r07//r20110701_23.tif"
       ]
      },
      {
       "output_type": "stream",
       "stream": "stdout",
       "text": [
        "\n",
        "E:\\Data\\WangKun@Mattijn\\outfolder\\r07//r20110702_23.tif"
       ]
      },
      {
       "output_type": "stream",
       "stream": "stdout",
       "text": [
        "\n",
        "E:\\Data\\WangKun@Mattijn\\outfolder\\r07//r20110703_23.tif"
       ]
      },
      {
       "output_type": "stream",
       "stream": "stdout",
       "text": [
        "\n",
        "E:\\Data\\WangKun@Mattijn\\outfolder\\r07//r20110704_23.tif"
       ]
      },
      {
       "output_type": "stream",
       "stream": "stdout",
       "text": [
        "\n",
        "E:\\Data\\WangKun@Mattijn\\outfolder\\r07//r20110705_23.tif"
       ]
      },
      {
       "output_type": "stream",
       "stream": "stdout",
       "text": [
        "\n",
        "E:\\Data\\WangKun@Mattijn\\outfolder\\r07//r20110706_23.tif"
       ]
      },
      {
       "output_type": "stream",
       "stream": "stdout",
       "text": [
        "\n",
        "E:\\Data\\WangKun@Mattijn\\outfolder\\r07//r20110707_23.tif"
       ]
      },
      {
       "output_type": "stream",
       "stream": "stdout",
       "text": [
        "\n",
        "E:\\Data\\WangKun@Mattijn\\outfolder\\r07//r20110708_23.tif"
       ]
      },
      {
       "output_type": "stream",
       "stream": "stdout",
       "text": [
        "\n",
        "E:\\Data\\WangKun@Mattijn\\outfolder\\r07//r20110709_23.tif"
       ]
      },
      {
       "output_type": "stream",
       "stream": "stdout",
       "text": [
        "\n",
        "E:\\Data\\WangKun@Mattijn\\outfolder\\r07//r20110710_23.tif"
       ]
      },
      {
       "output_type": "stream",
       "stream": "stdout",
       "text": [
        "\n",
        "E:\\Data\\WangKun@Mattijn\\outfolder\\r07//r20110711_23.tif"
       ]
      },
      {
       "output_type": "stream",
       "stream": "stdout",
       "text": [
        "\n",
        "E:\\Data\\WangKun@Mattijn\\outfolder\\r07//r20110712_23.tif"
       ]
      },
      {
       "output_type": "stream",
       "stream": "stdout",
       "text": [
        "\n",
        "E:\\Data\\WangKun@Mattijn\\outfolder\\r07//r20110713_23.tif"
       ]
      },
      {
       "output_type": "stream",
       "stream": "stdout",
       "text": [
        "\n",
        "E:\\Data\\WangKun@Mattijn\\outfolder\\r07//r20110714_23.tif"
       ]
      },
      {
       "output_type": "stream",
       "stream": "stdout",
       "text": [
        "\n",
        "E:\\Data\\WangKun@Mattijn\\outfolder\\r07//r20110715_23.tif"
       ]
      },
      {
       "output_type": "stream",
       "stream": "stdout",
       "text": [
        "\n",
        "E:\\Data\\WangKun@Mattijn\\outfolder\\r07//r20110716_23.tif"
       ]
      },
      {
       "output_type": "stream",
       "stream": "stdout",
       "text": [
        "\n",
        "E:\\Data\\WangKun@Mattijn\\outfolder\\r07//r20110717_23.tif"
       ]
      },
      {
       "output_type": "stream",
       "stream": "stdout",
       "text": [
        "\n",
        "E:\\Data\\WangKun@Mattijn\\outfolder\\r07//r20110718_23.tif"
       ]
      },
      {
       "output_type": "stream",
       "stream": "stdout",
       "text": [
        "\n",
        "E:\\Data\\WangKun@Mattijn\\outfolder\\r07//r20110719_23.tif"
       ]
      },
      {
       "output_type": "stream",
       "stream": "stdout",
       "text": [
        "\n",
        "E:\\Data\\WangKun@Mattijn\\outfolder\\r07//r20110720_23.tif"
       ]
      },
      {
       "output_type": "stream",
       "stream": "stdout",
       "text": [
        "\n",
        "E:\\Data\\WangKun@Mattijn\\outfolder\\r07//r20110721_23.tif"
       ]
      },
      {
       "output_type": "stream",
       "stream": "stdout",
       "text": [
        "\n",
        "E:\\Data\\WangKun@Mattijn\\outfolder\\r07//r20110722_23.tif"
       ]
      },
      {
       "output_type": "stream",
       "stream": "stdout",
       "text": [
        "\n",
        "E:\\Data\\WangKun@Mattijn\\outfolder\\r07//r20110723_23.tif"
       ]
      },
      {
       "output_type": "stream",
       "stream": "stdout",
       "text": [
        "\n",
        "E:\\Data\\WangKun@Mattijn\\outfolder\\r07//r20110724_23.tif"
       ]
      },
      {
       "output_type": "stream",
       "stream": "stdout",
       "text": [
        "\n",
        "E:\\Data\\WangKun@Mattijn\\outfolder\\r07//r20110725_23.tif"
       ]
      },
      {
       "output_type": "stream",
       "stream": "stdout",
       "text": [
        "\n",
        "E:\\Data\\WangKun@Mattijn\\outfolder\\r07//r20110726_23.tif"
       ]
      },
      {
       "output_type": "stream",
       "stream": "stdout",
       "text": [
        "\n",
        "E:\\Data\\WangKun@Mattijn\\outfolder\\r07//r20110727_23.tif"
       ]
      },
      {
       "output_type": "stream",
       "stream": "stdout",
       "text": [
        "\n",
        "E:\\Data\\WangKun@Mattijn\\outfolder\\r07//r20110728_23.tif"
       ]
      },
      {
       "output_type": "stream",
       "stream": "stdout",
       "text": [
        "\n",
        "E:\\Data\\WangKun@Mattijn\\outfolder\\r07//r20110729_23.tif"
       ]
      },
      {
       "output_type": "stream",
       "stream": "stdout",
       "text": [
        "\n",
        "E:\\Data\\WangKun@Mattijn\\outfolder\\r07//r20110730_23.tif"
       ]
      },
      {
       "output_type": "stream",
       "stream": "stdout",
       "text": [
        "\n",
        "E:\\Data\\WangKun@Mattijn\\outfolder\\r07//r20110731_23.tif"
       ]
      },
      {
       "output_type": "stream",
       "stream": "stdout",
       "text": [
        "\n",
        "E:\\Data\\WangKun@Mattijn\\outfolder\\r07//r20110701_24.tif"
       ]
      },
      {
       "output_type": "stream",
       "stream": "stdout",
       "text": [
        "\n",
        "E:\\Data\\WangKun@Mattijn\\outfolder\\r07//r20110702_24.tif"
       ]
      },
      {
       "output_type": "stream",
       "stream": "stdout",
       "text": [
        "\n",
        "E:\\Data\\WangKun@Mattijn\\outfolder\\r07//r20110703_24.tif"
       ]
      },
      {
       "output_type": "stream",
       "stream": "stdout",
       "text": [
        "\n",
        "E:\\Data\\WangKun@Mattijn\\outfolder\\r07//r20110704_24.tif"
       ]
      },
      {
       "output_type": "stream",
       "stream": "stdout",
       "text": [
        "\n",
        "E:\\Data\\WangKun@Mattijn\\outfolder\\r07//r20110705_24.tif"
       ]
      },
      {
       "output_type": "stream",
       "stream": "stdout",
       "text": [
        "\n",
        "E:\\Data\\WangKun@Mattijn\\outfolder\\r07//r20110706_24.tif"
       ]
      },
      {
       "output_type": "stream",
       "stream": "stdout",
       "text": [
        "\n",
        "E:\\Data\\WangKun@Mattijn\\outfolder\\r07//r20110707_24.tif"
       ]
      },
      {
       "output_type": "stream",
       "stream": "stdout",
       "text": [
        "\n",
        "E:\\Data\\WangKun@Mattijn\\outfolder\\r07//r20110708_24.tif"
       ]
      },
      {
       "output_type": "stream",
       "stream": "stdout",
       "text": [
        "\n",
        "E:\\Data\\WangKun@Mattijn\\outfolder\\r07//r20110709_24.tif"
       ]
      },
      {
       "output_type": "stream",
       "stream": "stdout",
       "text": [
        "\n",
        "E:\\Data\\WangKun@Mattijn\\outfolder\\r07//r20110710_24.tif"
       ]
      },
      {
       "output_type": "stream",
       "stream": "stdout",
       "text": [
        "\n",
        "E:\\Data\\WangKun@Mattijn\\outfolder\\r07//r20110711_24.tif"
       ]
      },
      {
       "output_type": "stream",
       "stream": "stdout",
       "text": [
        "\n",
        "E:\\Data\\WangKun@Mattijn\\outfolder\\r07//r20110712_24.tif"
       ]
      },
      {
       "output_type": "stream",
       "stream": "stdout",
       "text": [
        "\n",
        "E:\\Data\\WangKun@Mattijn\\outfolder\\r07//r20110713_24.tif"
       ]
      },
      {
       "output_type": "stream",
       "stream": "stdout",
       "text": [
        "\n",
        "E:\\Data\\WangKun@Mattijn\\outfolder\\r07//r20110714_24.tif"
       ]
      },
      {
       "output_type": "stream",
       "stream": "stdout",
       "text": [
        "\n",
        "E:\\Data\\WangKun@Mattijn\\outfolder\\r07//r20110715_24.tif"
       ]
      },
      {
       "output_type": "stream",
       "stream": "stdout",
       "text": [
        "\n",
        "E:\\Data\\WangKun@Mattijn\\outfolder\\r07//r20110716_24.tif"
       ]
      },
      {
       "output_type": "stream",
       "stream": "stdout",
       "text": [
        "\n",
        "E:\\Data\\WangKun@Mattijn\\outfolder\\r07//r20110717_24.tif"
       ]
      },
      {
       "output_type": "stream",
       "stream": "stdout",
       "text": [
        "\n",
        "E:\\Data\\WangKun@Mattijn\\outfolder\\r07//r20110718_24.tif"
       ]
      },
      {
       "output_type": "stream",
       "stream": "stdout",
       "text": [
        "\n",
        "E:\\Data\\WangKun@Mattijn\\outfolder\\r07//r20110719_24.tif"
       ]
      },
      {
       "output_type": "stream",
       "stream": "stdout",
       "text": [
        "\n",
        "E:\\Data\\WangKun@Mattijn\\outfolder\\r07//r20110720_24.tif"
       ]
      },
      {
       "output_type": "stream",
       "stream": "stdout",
       "text": [
        "\n",
        "E:\\Data\\WangKun@Mattijn\\outfolder\\r07//r20110721_24.tif"
       ]
      },
      {
       "output_type": "stream",
       "stream": "stdout",
       "text": [
        "\n",
        "E:\\Data\\WangKun@Mattijn\\outfolder\\r07//r20110722_24.tif"
       ]
      },
      {
       "output_type": "stream",
       "stream": "stdout",
       "text": [
        "\n",
        "E:\\Data\\WangKun@Mattijn\\outfolder\\r07//r20110723_24.tif"
       ]
      },
      {
       "output_type": "stream",
       "stream": "stdout",
       "text": [
        "\n",
        "E:\\Data\\WangKun@Mattijn\\outfolder\\r07//r20110724_24.tif"
       ]
      },
      {
       "output_type": "stream",
       "stream": "stdout",
       "text": [
        "\n",
        "E:\\Data\\WangKun@Mattijn\\outfolder\\r07//r20110725_24.tif"
       ]
      },
      {
       "output_type": "stream",
       "stream": "stdout",
       "text": [
        "\n",
        "E:\\Data\\WangKun@Mattijn\\outfolder\\r07//r20110726_24.tif"
       ]
      },
      {
       "output_type": "stream",
       "stream": "stdout",
       "text": [
        "\n",
        "E:\\Data\\WangKun@Mattijn\\outfolder\\r07//r20110727_24.tif"
       ]
      },
      {
       "output_type": "stream",
       "stream": "stdout",
       "text": [
        "\n",
        "E:\\Data\\WangKun@Mattijn\\outfolder\\r07//r20110728_24.tif"
       ]
      },
      {
       "output_type": "stream",
       "stream": "stdout",
       "text": [
        "\n",
        "E:\\Data\\WangKun@Mattijn\\outfolder\\r07//r20110729_24.tif"
       ]
      },
      {
       "output_type": "stream",
       "stream": "stdout",
       "text": [
        "\n",
        "E:\\Data\\WangKun@Mattijn\\outfolder\\r07//r20110730_24.tif"
       ]
      },
      {
       "output_type": "stream",
       "stream": "stdout",
       "text": [
        "\n",
        "E:\\Data\\WangKun@Mattijn\\outfolder\\r07//r20110731_24.tif"
       ]
      },
      {
       "output_type": "stream",
       "stream": "stdout",
       "text": [
        "\n",
        "E:\\Data\\WangKun@Mattijn\\outfolder\\r07//r20110701_03.tif"
       ]
      },
      {
       "output_type": "stream",
       "stream": "stdout",
       "text": [
        "\n",
        "E:\\Data\\WangKun@Mattijn\\outfolder\\r07//r20110702_03.tif"
       ]
      },
      {
       "output_type": "stream",
       "stream": "stdout",
       "text": [
        "\n",
        "E:\\Data\\WangKun@Mattijn\\outfolder\\r07//r20110703_03.tif"
       ]
      },
      {
       "output_type": "stream",
       "stream": "stdout",
       "text": [
        "\n",
        "E:\\Data\\WangKun@Mattijn\\outfolder\\r07//r20110704_03.tif"
       ]
      },
      {
       "output_type": "stream",
       "stream": "stdout",
       "text": [
        "\n",
        "E:\\Data\\WangKun@Mattijn\\outfolder\\r07//r20110705_03.tif"
       ]
      },
      {
       "output_type": "stream",
       "stream": "stdout",
       "text": [
        "\n",
        "E:\\Data\\WangKun@Mattijn\\outfolder\\r07//r20110706_03.tif"
       ]
      },
      {
       "output_type": "stream",
       "stream": "stdout",
       "text": [
        "\n",
        "E:\\Data\\WangKun@Mattijn\\outfolder\\r07//r20110707_03.tif"
       ]
      },
      {
       "output_type": "stream",
       "stream": "stdout",
       "text": [
        "\n",
        "E:\\Data\\WangKun@Mattijn\\outfolder\\r07//r20110708_03.tif"
       ]
      },
      {
       "output_type": "stream",
       "stream": "stdout",
       "text": [
        "\n",
        "E:\\Data\\WangKun@Mattijn\\outfolder\\r07//r20110709_03.tif"
       ]
      },
      {
       "output_type": "stream",
       "stream": "stdout",
       "text": [
        "\n",
        "E:\\Data\\WangKun@Mattijn\\outfolder\\r07//r20110710_03.tif"
       ]
      },
      {
       "output_type": "stream",
       "stream": "stdout",
       "text": [
        "\n",
        "E:\\Data\\WangKun@Mattijn\\outfolder\\r07//r20110711_03.tif"
       ]
      },
      {
       "output_type": "stream",
       "stream": "stdout",
       "text": [
        "\n",
        "E:\\Data\\WangKun@Mattijn\\outfolder\\r07//r20110712_03.tif"
       ]
      },
      {
       "output_type": "stream",
       "stream": "stdout",
       "text": [
        "\n",
        "E:\\Data\\WangKun@Mattijn\\outfolder\\r07//r20110713_03.tif"
       ]
      },
      {
       "output_type": "stream",
       "stream": "stdout",
       "text": [
        "\n",
        "E:\\Data\\WangKun@Mattijn\\outfolder\\r07//r20110714_03.tif"
       ]
      },
      {
       "output_type": "stream",
       "stream": "stdout",
       "text": [
        "\n",
        "E:\\Data\\WangKun@Mattijn\\outfolder\\r07//r20110715_03.tif"
       ]
      },
      {
       "output_type": "stream",
       "stream": "stdout",
       "text": [
        "\n",
        "E:\\Data\\WangKun@Mattijn\\outfolder\\r07//r20110716_03.tif"
       ]
      },
      {
       "output_type": "stream",
       "stream": "stdout",
       "text": [
        "\n",
        "E:\\Data\\WangKun@Mattijn\\outfolder\\r07//r20110717_03.tif"
       ]
      },
      {
       "output_type": "stream",
       "stream": "stdout",
       "text": [
        "\n",
        "E:\\Data\\WangKun@Mattijn\\outfolder\\r07//r20110718_03.tif"
       ]
      },
      {
       "output_type": "stream",
       "stream": "stdout",
       "text": [
        "\n",
        "E:\\Data\\WangKun@Mattijn\\outfolder\\r07//r20110719_03.tif"
       ]
      },
      {
       "output_type": "stream",
       "stream": "stdout",
       "text": [
        "\n",
        "E:\\Data\\WangKun@Mattijn\\outfolder\\r07//r20110720_03.tif"
       ]
      },
      {
       "output_type": "stream",
       "stream": "stdout",
       "text": [
        "\n",
        "E:\\Data\\WangKun@Mattijn\\outfolder\\r07//r20110721_03.tif"
       ]
      },
      {
       "output_type": "stream",
       "stream": "stdout",
       "text": [
        "\n",
        "E:\\Data\\WangKun@Mattijn\\outfolder\\r07//r20110722_03.tif"
       ]
      },
      {
       "output_type": "stream",
       "stream": "stdout",
       "text": [
        "\n",
        "E:\\Data\\WangKun@Mattijn\\outfolder\\r07//r20110723_03.tif"
       ]
      },
      {
       "output_type": "stream",
       "stream": "stdout",
       "text": [
        "\n",
        "E:\\Data\\WangKun@Mattijn\\outfolder\\r07//r20110724_03.tif"
       ]
      },
      {
       "output_type": "stream",
       "stream": "stdout",
       "text": [
        "\n",
        "E:\\Data\\WangKun@Mattijn\\outfolder\\r07//r20110725_03.tif"
       ]
      },
      {
       "output_type": "stream",
       "stream": "stdout",
       "text": [
        "\n",
        "E:\\Data\\WangKun@Mattijn\\outfolder\\r07//r20110726_03.tif"
       ]
      },
      {
       "output_type": "stream",
       "stream": "stdout",
       "text": [
        "\n",
        "E:\\Data\\WangKun@Mattijn\\outfolder\\r07//r20110727_03.tif"
       ]
      },
      {
       "output_type": "stream",
       "stream": "stdout",
       "text": [
        "\n",
        "E:\\Data\\WangKun@Mattijn\\outfolder\\r07//r20110728_03.tif"
       ]
      },
      {
       "output_type": "stream",
       "stream": "stdout",
       "text": [
        "\n",
        "E:\\Data\\WangKun@Mattijn\\outfolder\\r07//r20110729_03.tif"
       ]
      },
      {
       "output_type": "stream",
       "stream": "stdout",
       "text": [
        "\n",
        "E:\\Data\\WangKun@Mattijn\\outfolder\\r07//r20110730_03.tif"
       ]
      },
      {
       "output_type": "stream",
       "stream": "stdout",
       "text": [
        "\n",
        "E:\\Data\\WangKun@Mattijn\\outfolder\\r07//r20110731_03.tif"
       ]
      },
      {
       "output_type": "stream",
       "stream": "stdout",
       "text": [
        "\n",
        "E:\\Data\\WangKun@Mattijn\\outfolder\\r07//r20110701_04.tif"
       ]
      },
      {
       "output_type": "stream",
       "stream": "stdout",
       "text": [
        "\n",
        "E:\\Data\\WangKun@Mattijn\\outfolder\\r07//r20110702_04.tif"
       ]
      },
      {
       "output_type": "stream",
       "stream": "stdout",
       "text": [
        "\n",
        "E:\\Data\\WangKun@Mattijn\\outfolder\\r07//r20110703_04.tif"
       ]
      },
      {
       "output_type": "stream",
       "stream": "stdout",
       "text": [
        "\n",
        "E:\\Data\\WangKun@Mattijn\\outfolder\\r07//r20110704_04.tif"
       ]
      },
      {
       "output_type": "stream",
       "stream": "stdout",
       "text": [
        "\n",
        "E:\\Data\\WangKun@Mattijn\\outfolder\\r07//r20110705_04.tif"
       ]
      },
      {
       "output_type": "stream",
       "stream": "stdout",
       "text": [
        "\n",
        "E:\\Data\\WangKun@Mattijn\\outfolder\\r07//r20110706_04.tif"
       ]
      },
      {
       "output_type": "stream",
       "stream": "stdout",
       "text": [
        "\n",
        "E:\\Data\\WangKun@Mattijn\\outfolder\\r07//r20110707_04.tif"
       ]
      },
      {
       "output_type": "stream",
       "stream": "stdout",
       "text": [
        "\n",
        "E:\\Data\\WangKun@Mattijn\\outfolder\\r07//r20110708_04.tif"
       ]
      },
      {
       "output_type": "stream",
       "stream": "stdout",
       "text": [
        "\n",
        "E:\\Data\\WangKun@Mattijn\\outfolder\\r07//r20110709_04.tif"
       ]
      },
      {
       "output_type": "stream",
       "stream": "stdout",
       "text": [
        "\n",
        "E:\\Data\\WangKun@Mattijn\\outfolder\\r07//r20110710_04.tif"
       ]
      },
      {
       "output_type": "stream",
       "stream": "stdout",
       "text": [
        "\n",
        "E:\\Data\\WangKun@Mattijn\\outfolder\\r07//r20110711_04.tif"
       ]
      },
      {
       "output_type": "stream",
       "stream": "stdout",
       "text": [
        "\n",
        "E:\\Data\\WangKun@Mattijn\\outfolder\\r07//r20110712_04.tif"
       ]
      },
      {
       "output_type": "stream",
       "stream": "stdout",
       "text": [
        "\n",
        "E:\\Data\\WangKun@Mattijn\\outfolder\\r07//r20110713_04.tif"
       ]
      },
      {
       "output_type": "stream",
       "stream": "stdout",
       "text": [
        "\n",
        "E:\\Data\\WangKun@Mattijn\\outfolder\\r07//r20110714_04.tif"
       ]
      },
      {
       "output_type": "stream",
       "stream": "stdout",
       "text": [
        "\n",
        "E:\\Data\\WangKun@Mattijn\\outfolder\\r07//r20110715_04.tif"
       ]
      },
      {
       "output_type": "stream",
       "stream": "stdout",
       "text": [
        "\n",
        "E:\\Data\\WangKun@Mattijn\\outfolder\\r07//r20110716_04.tif"
       ]
      },
      {
       "output_type": "stream",
       "stream": "stdout",
       "text": [
        "\n",
        "E:\\Data\\WangKun@Mattijn\\outfolder\\r07//r20110717_04.tif"
       ]
      },
      {
       "output_type": "stream",
       "stream": "stdout",
       "text": [
        "\n",
        "E:\\Data\\WangKun@Mattijn\\outfolder\\r07//r20110718_04.tif"
       ]
      },
      {
       "output_type": "stream",
       "stream": "stdout",
       "text": [
        "\n",
        "E:\\Data\\WangKun@Mattijn\\outfolder\\r07//r20110719_04.tif"
       ]
      },
      {
       "output_type": "stream",
       "stream": "stdout",
       "text": [
        "\n",
        "E:\\Data\\WangKun@Mattijn\\outfolder\\r07//r20110720_04.tif"
       ]
      },
      {
       "output_type": "stream",
       "stream": "stdout",
       "text": [
        "\n",
        "E:\\Data\\WangKun@Mattijn\\outfolder\\r07//r20110721_04.tif"
       ]
      },
      {
       "output_type": "stream",
       "stream": "stdout",
       "text": [
        "\n",
        "E:\\Data\\WangKun@Mattijn\\outfolder\\r07//r20110722_04.tif"
       ]
      },
      {
       "output_type": "stream",
       "stream": "stdout",
       "text": [
        "\n",
        "E:\\Data\\WangKun@Mattijn\\outfolder\\r07//r20110723_04.tif"
       ]
      },
      {
       "output_type": "stream",
       "stream": "stdout",
       "text": [
        "\n",
        "E:\\Data\\WangKun@Mattijn\\outfolder\\r07//r20110724_04.tif"
       ]
      },
      {
       "output_type": "stream",
       "stream": "stdout",
       "text": [
        "\n",
        "E:\\Data\\WangKun@Mattijn\\outfolder\\r07//r20110725_04.tif"
       ]
      },
      {
       "output_type": "stream",
       "stream": "stdout",
       "text": [
        "\n",
        "E:\\Data\\WangKun@Mattijn\\outfolder\\r07//r20110726_04.tif"
       ]
      },
      {
       "output_type": "stream",
       "stream": "stdout",
       "text": [
        "\n",
        "E:\\Data\\WangKun@Mattijn\\outfolder\\r07//r20110727_04.tif"
       ]
      },
      {
       "output_type": "stream",
       "stream": "stdout",
       "text": [
        "\n",
        "E:\\Data\\WangKun@Mattijn\\outfolder\\r07//r20110728_04.tif"
       ]
      },
      {
       "output_type": "stream",
       "stream": "stdout",
       "text": [
        "\n",
        "E:\\Data\\WangKun@Mattijn\\outfolder\\r07//r20110729_04.tif"
       ]
      },
      {
       "output_type": "stream",
       "stream": "stdout",
       "text": [
        "\n",
        "E:\\Data\\WangKun@Mattijn\\outfolder\\r07//r20110730_04.tif"
       ]
      },
      {
       "output_type": "stream",
       "stream": "stdout",
       "text": [
        "\n",
        "E:\\Data\\WangKun@Mattijn\\outfolder\\r07//r20110731_04.tif"
       ]
      },
      {
       "output_type": "stream",
       "stream": "stdout",
       "text": [
        "\n",
        "E:\\Data\\WangKun@Mattijn\\outfolder\\r07//r20110701_05.tif"
       ]
      },
      {
       "output_type": "stream",
       "stream": "stdout",
       "text": [
        "\n",
        "E:\\Data\\WangKun@Mattijn\\outfolder\\r07//r20110702_05.tif"
       ]
      },
      {
       "output_type": "stream",
       "stream": "stdout",
       "text": [
        "\n",
        "E:\\Data\\WangKun@Mattijn\\outfolder\\r07//r20110703_05.tif"
       ]
      },
      {
       "output_type": "stream",
       "stream": "stdout",
       "text": [
        "\n",
        "E:\\Data\\WangKun@Mattijn\\outfolder\\r07//r20110704_05.tif"
       ]
      },
      {
       "output_type": "stream",
       "stream": "stdout",
       "text": [
        "\n",
        "E:\\Data\\WangKun@Mattijn\\outfolder\\r07//r20110705_05.tif"
       ]
      },
      {
       "output_type": "stream",
       "stream": "stdout",
       "text": [
        "\n",
        "E:\\Data\\WangKun@Mattijn\\outfolder\\r07//r20110706_05.tif"
       ]
      },
      {
       "output_type": "stream",
       "stream": "stdout",
       "text": [
        "\n",
        "E:\\Data\\WangKun@Mattijn\\outfolder\\r07//r20110707_05.tif"
       ]
      },
      {
       "output_type": "stream",
       "stream": "stdout",
       "text": [
        "\n",
        "E:\\Data\\WangKun@Mattijn\\outfolder\\r07//r20110708_05.tif"
       ]
      },
      {
       "output_type": "stream",
       "stream": "stdout",
       "text": [
        "\n",
        "E:\\Data\\WangKun@Mattijn\\outfolder\\r07//r20110709_05.tif"
       ]
      },
      {
       "output_type": "stream",
       "stream": "stdout",
       "text": [
        "\n",
        "E:\\Data\\WangKun@Mattijn\\outfolder\\r07//r20110710_05.tif"
       ]
      },
      {
       "output_type": "stream",
       "stream": "stdout",
       "text": [
        "\n",
        "E:\\Data\\WangKun@Mattijn\\outfolder\\r07//r20110711_05.tif"
       ]
      },
      {
       "output_type": "stream",
       "stream": "stdout",
       "text": [
        "\n",
        "E:\\Data\\WangKun@Mattijn\\outfolder\\r07//r20110712_05.tif"
       ]
      },
      {
       "output_type": "stream",
       "stream": "stdout",
       "text": [
        "\n",
        "E:\\Data\\WangKun@Mattijn\\outfolder\\r07//r20110713_05.tif"
       ]
      },
      {
       "output_type": "stream",
       "stream": "stdout",
       "text": [
        "\n",
        "E:\\Data\\WangKun@Mattijn\\outfolder\\r07//r20110714_05.tif"
       ]
      },
      {
       "output_type": "stream",
       "stream": "stdout",
       "text": [
        "\n",
        "E:\\Data\\WangKun@Mattijn\\outfolder\\r07//r20110715_05.tif"
       ]
      },
      {
       "output_type": "stream",
       "stream": "stdout",
       "text": [
        "\n",
        "E:\\Data\\WangKun@Mattijn\\outfolder\\r07//r20110716_05.tif"
       ]
      },
      {
       "output_type": "stream",
       "stream": "stdout",
       "text": [
        "\n",
        "E:\\Data\\WangKun@Mattijn\\outfolder\\r07//r20110717_05.tif"
       ]
      },
      {
       "output_type": "stream",
       "stream": "stdout",
       "text": [
        "\n",
        "E:\\Data\\WangKun@Mattijn\\outfolder\\r07//r20110718_05.tif"
       ]
      },
      {
       "output_type": "stream",
       "stream": "stdout",
       "text": [
        "\n",
        "E:\\Data\\WangKun@Mattijn\\outfolder\\r07//r20110719_05.tif"
       ]
      },
      {
       "output_type": "stream",
       "stream": "stdout",
       "text": [
        "\n",
        "E:\\Data\\WangKun@Mattijn\\outfolder\\r07//r20110720_05.tif"
       ]
      },
      {
       "output_type": "stream",
       "stream": "stdout",
       "text": [
        "\n",
        "E:\\Data\\WangKun@Mattijn\\outfolder\\r07//r20110721_05.tif"
       ]
      },
      {
       "output_type": "stream",
       "stream": "stdout",
       "text": [
        "\n",
        "E:\\Data\\WangKun@Mattijn\\outfolder\\r07//r20110722_05.tif"
       ]
      },
      {
       "output_type": "stream",
       "stream": "stdout",
       "text": [
        "\n",
        "E:\\Data\\WangKun@Mattijn\\outfolder\\r07//r20110723_05.tif"
       ]
      },
      {
       "output_type": "stream",
       "stream": "stdout",
       "text": [
        "\n",
        "E:\\Data\\WangKun@Mattijn\\outfolder\\r07//r20110724_05.tif"
       ]
      },
      {
       "output_type": "stream",
       "stream": "stdout",
       "text": [
        "\n",
        "E:\\Data\\WangKun@Mattijn\\outfolder\\r07//r20110725_05.tif"
       ]
      },
      {
       "output_type": "stream",
       "stream": "stdout",
       "text": [
        "\n",
        "E:\\Data\\WangKun@Mattijn\\outfolder\\r07//r20110726_05.tif"
       ]
      },
      {
       "output_type": "stream",
       "stream": "stdout",
       "text": [
        "\n",
        "E:\\Data\\WangKun@Mattijn\\outfolder\\r07//r20110727_05.tif"
       ]
      },
      {
       "output_type": "stream",
       "stream": "stdout",
       "text": [
        "\n",
        "E:\\Data\\WangKun@Mattijn\\outfolder\\r07//r20110728_05.tif"
       ]
      },
      {
       "output_type": "stream",
       "stream": "stdout",
       "text": [
        "\n",
        "E:\\Data\\WangKun@Mattijn\\outfolder\\r07//r20110729_05.tif"
       ]
      },
      {
       "output_type": "stream",
       "stream": "stdout",
       "text": [
        "\n",
        "E:\\Data\\WangKun@Mattijn\\outfolder\\r07//r20110730_05.tif"
       ]
      },
      {
       "output_type": "stream",
       "stream": "stdout",
       "text": [
        "\n",
        "E:\\Data\\WangKun@Mattijn\\outfolder\\r07//r20110731_05.tif"
       ]
      },
      {
       "output_type": "stream",
       "stream": "stdout",
       "text": [
        "\n",
        "E:\\Data\\WangKun@Mattijn\\outfolder\\r07//r20110701_06.tif"
       ]
      },
      {
       "output_type": "stream",
       "stream": "stdout",
       "text": [
        "\n",
        "E:\\Data\\WangKun@Mattijn\\outfolder\\r07//r20110702_06.tif"
       ]
      },
      {
       "output_type": "stream",
       "stream": "stdout",
       "text": [
        "\n",
        "E:\\Data\\WangKun@Mattijn\\outfolder\\r07//r20110703_06.tif"
       ]
      },
      {
       "output_type": "stream",
       "stream": "stdout",
       "text": [
        "\n",
        "E:\\Data\\WangKun@Mattijn\\outfolder\\r07//r20110704_06.tif"
       ]
      },
      {
       "output_type": "stream",
       "stream": "stdout",
       "text": [
        "\n",
        "E:\\Data\\WangKun@Mattijn\\outfolder\\r07//r20110705_06.tif"
       ]
      },
      {
       "output_type": "stream",
       "stream": "stdout",
       "text": [
        "\n",
        "E:\\Data\\WangKun@Mattijn\\outfolder\\r07//r20110706_06.tif"
       ]
      },
      {
       "output_type": "stream",
       "stream": "stdout",
       "text": [
        "\n",
        "E:\\Data\\WangKun@Mattijn\\outfolder\\r07//r20110707_06.tif"
       ]
      },
      {
       "output_type": "stream",
       "stream": "stdout",
       "text": [
        "\n",
        "E:\\Data\\WangKun@Mattijn\\outfolder\\r07//r20110708_06.tif"
       ]
      },
      {
       "output_type": "stream",
       "stream": "stdout",
       "text": [
        "\n",
        "E:\\Data\\WangKun@Mattijn\\outfolder\\r07//r20110709_06.tif"
       ]
      },
      {
       "output_type": "stream",
       "stream": "stdout",
       "text": [
        "\n",
        "E:\\Data\\WangKun@Mattijn\\outfolder\\r07//r20110710_06.tif"
       ]
      },
      {
       "output_type": "stream",
       "stream": "stdout",
       "text": [
        "\n",
        "E:\\Data\\WangKun@Mattijn\\outfolder\\r07//r20110711_06.tif"
       ]
      },
      {
       "output_type": "stream",
       "stream": "stdout",
       "text": [
        "\n",
        "E:\\Data\\WangKun@Mattijn\\outfolder\\r07//r20110712_06.tif"
       ]
      },
      {
       "output_type": "stream",
       "stream": "stdout",
       "text": [
        "\n",
        "E:\\Data\\WangKun@Mattijn\\outfolder\\r07//r20110713_06.tif"
       ]
      },
      {
       "output_type": "stream",
       "stream": "stdout",
       "text": [
        "\n",
        "E:\\Data\\WangKun@Mattijn\\outfolder\\r07//r20110714_06.tif"
       ]
      },
      {
       "output_type": "stream",
       "stream": "stdout",
       "text": [
        "\n",
        "E:\\Data\\WangKun@Mattijn\\outfolder\\r07//r20110715_06.tif"
       ]
      },
      {
       "output_type": "stream",
       "stream": "stdout",
       "text": [
        "\n",
        "E:\\Data\\WangKun@Mattijn\\outfolder\\r07//r20110716_06.tif"
       ]
      },
      {
       "output_type": "stream",
       "stream": "stdout",
       "text": [
        "\n",
        "E:\\Data\\WangKun@Mattijn\\outfolder\\r07//r20110717_06.tif"
       ]
      },
      {
       "output_type": "stream",
       "stream": "stdout",
       "text": [
        "\n",
        "E:\\Data\\WangKun@Mattijn\\outfolder\\r07//r20110718_06.tif"
       ]
      },
      {
       "output_type": "stream",
       "stream": "stdout",
       "text": [
        "\n",
        "E:\\Data\\WangKun@Mattijn\\outfolder\\r07//r20110719_06.tif"
       ]
      },
      {
       "output_type": "stream",
       "stream": "stdout",
       "text": [
        "\n",
        "E:\\Data\\WangKun@Mattijn\\outfolder\\r07//r20110720_06.tif"
       ]
      },
      {
       "output_type": "stream",
       "stream": "stdout",
       "text": [
        "\n",
        "E:\\Data\\WangKun@Mattijn\\outfolder\\r07//r20110721_06.tif"
       ]
      },
      {
       "output_type": "stream",
       "stream": "stdout",
       "text": [
        "\n",
        "E:\\Data\\WangKun@Mattijn\\outfolder\\r07//r20110722_06.tif"
       ]
      },
      {
       "output_type": "stream",
       "stream": "stdout",
       "text": [
        "\n",
        "E:\\Data\\WangKun@Mattijn\\outfolder\\r07//r20110723_06.tif"
       ]
      },
      {
       "output_type": "stream",
       "stream": "stdout",
       "text": [
        "\n",
        "E:\\Data\\WangKun@Mattijn\\outfolder\\r07//r20110724_06.tif"
       ]
      },
      {
       "output_type": "stream",
       "stream": "stdout",
       "text": [
        "\n",
        "E:\\Data\\WangKun@Mattijn\\outfolder\\r07//r20110725_06.tif"
       ]
      },
      {
       "output_type": "stream",
       "stream": "stdout",
       "text": [
        "\n",
        "E:\\Data\\WangKun@Mattijn\\outfolder\\r07//r20110726_06.tif"
       ]
      },
      {
       "output_type": "stream",
       "stream": "stdout",
       "text": [
        "\n",
        "E:\\Data\\WangKun@Mattijn\\outfolder\\r07//r20110727_06.tif"
       ]
      },
      {
       "output_type": "stream",
       "stream": "stdout",
       "text": [
        "\n",
        "E:\\Data\\WangKun@Mattijn\\outfolder\\r07//r20110728_06.tif"
       ]
      },
      {
       "output_type": "stream",
       "stream": "stdout",
       "text": [
        "\n",
        "E:\\Data\\WangKun@Mattijn\\outfolder\\r07//r20110729_06.tif"
       ]
      },
      {
       "output_type": "stream",
       "stream": "stdout",
       "text": [
        "\n",
        "E:\\Data\\WangKun@Mattijn\\outfolder\\r07//r20110730_06.tif"
       ]
      },
      {
       "output_type": "stream",
       "stream": "stdout",
       "text": [
        "\n",
        "E:\\Data\\WangKun@Mattijn\\outfolder\\r07//r20110731_06.tif"
       ]
      },
      {
       "output_type": "stream",
       "stream": "stdout",
       "text": [
        "\n",
        "E:\\Data\\WangKun@Mattijn\\outfolder\\r07//r20110701_07.tif"
       ]
      },
      {
       "output_type": "stream",
       "stream": "stdout",
       "text": [
        "\n",
        "E:\\Data\\WangKun@Mattijn\\outfolder\\r07//r20110702_07.tif"
       ]
      },
      {
       "output_type": "stream",
       "stream": "stdout",
       "text": [
        "\n",
        "E:\\Data\\WangKun@Mattijn\\outfolder\\r07//r20110703_07.tif"
       ]
      },
      {
       "output_type": "stream",
       "stream": "stdout",
       "text": [
        "\n",
        "E:\\Data\\WangKun@Mattijn\\outfolder\\r07//r20110704_07.tif"
       ]
      },
      {
       "output_type": "stream",
       "stream": "stdout",
       "text": [
        "\n",
        "E:\\Data\\WangKun@Mattijn\\outfolder\\r07//r20110705_07.tif"
       ]
      },
      {
       "output_type": "stream",
       "stream": "stdout",
       "text": [
        "\n",
        "E:\\Data\\WangKun@Mattijn\\outfolder\\r07//r20110706_07.tif"
       ]
      },
      {
       "output_type": "stream",
       "stream": "stdout",
       "text": [
        "\n",
        "E:\\Data\\WangKun@Mattijn\\outfolder\\r07//r20110707_07.tif"
       ]
      },
      {
       "output_type": "stream",
       "stream": "stdout",
       "text": [
        "\n",
        "E:\\Data\\WangKun@Mattijn\\outfolder\\r07//r20110708_07.tif"
       ]
      },
      {
       "output_type": "stream",
       "stream": "stdout",
       "text": [
        "\n",
        "E:\\Data\\WangKun@Mattijn\\outfolder\\r07//r20110709_07.tif"
       ]
      },
      {
       "output_type": "stream",
       "stream": "stdout",
       "text": [
        "\n",
        "E:\\Data\\WangKun@Mattijn\\outfolder\\r07//r20110710_07.tif"
       ]
      },
      {
       "output_type": "stream",
       "stream": "stdout",
       "text": [
        "\n",
        "E:\\Data\\WangKun@Mattijn\\outfolder\\r07//r20110711_07.tif"
       ]
      },
      {
       "output_type": "stream",
       "stream": "stdout",
       "text": [
        "\n",
        "E:\\Data\\WangKun@Mattijn\\outfolder\\r07//r20110712_07.tif"
       ]
      },
      {
       "output_type": "stream",
       "stream": "stdout",
       "text": [
        "\n",
        "E:\\Data\\WangKun@Mattijn\\outfolder\\r07//r20110713_07.tif"
       ]
      },
      {
       "output_type": "stream",
       "stream": "stdout",
       "text": [
        "\n",
        "E:\\Data\\WangKun@Mattijn\\outfolder\\r07//r20110714_07.tif"
       ]
      },
      {
       "output_type": "stream",
       "stream": "stdout",
       "text": [
        "\n",
        "E:\\Data\\WangKun@Mattijn\\outfolder\\r07//r20110715_07.tif"
       ]
      },
      {
       "output_type": "stream",
       "stream": "stdout",
       "text": [
        "\n",
        "E:\\Data\\WangKun@Mattijn\\outfolder\\r07//r20110716_07.tif"
       ]
      },
      {
       "output_type": "stream",
       "stream": "stdout",
       "text": [
        "\n",
        "E:\\Data\\WangKun@Mattijn\\outfolder\\r07//r20110717_07.tif"
       ]
      },
      {
       "output_type": "stream",
       "stream": "stdout",
       "text": [
        "\n",
        "E:\\Data\\WangKun@Mattijn\\outfolder\\r07//r20110718_07.tif"
       ]
      },
      {
       "output_type": "stream",
       "stream": "stdout",
       "text": [
        "\n",
        "E:\\Data\\WangKun@Mattijn\\outfolder\\r07//r20110719_07.tif"
       ]
      },
      {
       "output_type": "stream",
       "stream": "stdout",
       "text": [
        "\n",
        "E:\\Data\\WangKun@Mattijn\\outfolder\\r07//r20110720_07.tif"
       ]
      },
      {
       "output_type": "stream",
       "stream": "stdout",
       "text": [
        "\n",
        "E:\\Data\\WangKun@Mattijn\\outfolder\\r07//r20110721_07.tif"
       ]
      },
      {
       "output_type": "stream",
       "stream": "stdout",
       "text": [
        "\n",
        "E:\\Data\\WangKun@Mattijn\\outfolder\\r07//r20110722_07.tif"
       ]
      },
      {
       "output_type": "stream",
       "stream": "stdout",
       "text": [
        "\n",
        "E:\\Data\\WangKun@Mattijn\\outfolder\\r07//r20110723_07.tif"
       ]
      },
      {
       "output_type": "stream",
       "stream": "stdout",
       "text": [
        "\n",
        "E:\\Data\\WangKun@Mattijn\\outfolder\\r07//r20110724_07.tif"
       ]
      },
      {
       "output_type": "stream",
       "stream": "stdout",
       "text": [
        "\n",
        "E:\\Data\\WangKun@Mattijn\\outfolder\\r07//r20110725_07.tif"
       ]
      },
      {
       "output_type": "stream",
       "stream": "stdout",
       "text": [
        "\n",
        "E:\\Data\\WangKun@Mattijn\\outfolder\\r07//r20110726_07.tif"
       ]
      },
      {
       "output_type": "stream",
       "stream": "stdout",
       "text": [
        "\n",
        "E:\\Data\\WangKun@Mattijn\\outfolder\\r07//r20110727_07.tif"
       ]
      },
      {
       "output_type": "stream",
       "stream": "stdout",
       "text": [
        "\n",
        "E:\\Data\\WangKun@Mattijn\\outfolder\\r07//r20110728_07.tif"
       ]
      },
      {
       "output_type": "stream",
       "stream": "stdout",
       "text": [
        "\n",
        "E:\\Data\\WangKun@Mattijn\\outfolder\\r07//r20110729_07.tif"
       ]
      },
      {
       "output_type": "stream",
       "stream": "stdout",
       "text": [
        "\n",
        "E:\\Data\\WangKun@Mattijn\\outfolder\\r07//r20110730_07.tif"
       ]
      },
      {
       "output_type": "stream",
       "stream": "stdout",
       "text": [
        "\n",
        "E:\\Data\\WangKun@Mattijn\\outfolder\\r07//r20110731_07.tif"
       ]
      },
      {
       "output_type": "stream",
       "stream": "stdout",
       "text": [
        "\n",
        "E:\\Data\\WangKun@Mattijn\\outfolder\\r07//r20110701_08.tif"
       ]
      },
      {
       "output_type": "stream",
       "stream": "stdout",
       "text": [
        "\n",
        "E:\\Data\\WangKun@Mattijn\\outfolder\\r07//r20110702_08.tif"
       ]
      },
      {
       "output_type": "stream",
       "stream": "stdout",
       "text": [
        "\n",
        "E:\\Data\\WangKun@Mattijn\\outfolder\\r07//r20110703_08.tif"
       ]
      },
      {
       "output_type": "stream",
       "stream": "stdout",
       "text": [
        "\n",
        "E:\\Data\\WangKun@Mattijn\\outfolder\\r07//r20110704_08.tif"
       ]
      },
      {
       "output_type": "stream",
       "stream": "stdout",
       "text": [
        "\n",
        "E:\\Data\\WangKun@Mattijn\\outfolder\\r07//r20110705_08.tif"
       ]
      },
      {
       "output_type": "stream",
       "stream": "stdout",
       "text": [
        "\n",
        "E:\\Data\\WangKun@Mattijn\\outfolder\\r07//r20110706_08.tif"
       ]
      },
      {
       "output_type": "stream",
       "stream": "stdout",
       "text": [
        "\n",
        "E:\\Data\\WangKun@Mattijn\\outfolder\\r07//r20110707_08.tif"
       ]
      },
      {
       "output_type": "stream",
       "stream": "stdout",
       "text": [
        "\n",
        "E:\\Data\\WangKun@Mattijn\\outfolder\\r07//r20110708_08.tif"
       ]
      },
      {
       "output_type": "stream",
       "stream": "stdout",
       "text": [
        "\n",
        "E:\\Data\\WangKun@Mattijn\\outfolder\\r07//r20110709_08.tif"
       ]
      },
      {
       "output_type": "stream",
       "stream": "stdout",
       "text": [
        "\n",
        "E:\\Data\\WangKun@Mattijn\\outfolder\\r07//r20110710_08.tif"
       ]
      },
      {
       "output_type": "stream",
       "stream": "stdout",
       "text": [
        "\n",
        "E:\\Data\\WangKun@Mattijn\\outfolder\\r07//r20110711_08.tif"
       ]
      },
      {
       "output_type": "stream",
       "stream": "stdout",
       "text": [
        "\n",
        "E:\\Data\\WangKun@Mattijn\\outfolder\\r07//r20110712_08.tif"
       ]
      },
      {
       "output_type": "stream",
       "stream": "stdout",
       "text": [
        "\n",
        "E:\\Data\\WangKun@Mattijn\\outfolder\\r07//r20110713_08.tif"
       ]
      },
      {
       "output_type": "stream",
       "stream": "stdout",
       "text": [
        "\n",
        "E:\\Data\\WangKun@Mattijn\\outfolder\\r07//r20110714_08.tif"
       ]
      },
      {
       "output_type": "stream",
       "stream": "stdout",
       "text": [
        "\n",
        "E:\\Data\\WangKun@Mattijn\\outfolder\\r07//r20110715_08.tif"
       ]
      },
      {
       "output_type": "stream",
       "stream": "stdout",
       "text": [
        "\n",
        "E:\\Data\\WangKun@Mattijn\\outfolder\\r07//r20110716_08.tif"
       ]
      },
      {
       "output_type": "stream",
       "stream": "stdout",
       "text": [
        "\n",
        "E:\\Data\\WangKun@Mattijn\\outfolder\\r07//r20110717_08.tif"
       ]
      },
      {
       "output_type": "stream",
       "stream": "stdout",
       "text": [
        "\n",
        "E:\\Data\\WangKun@Mattijn\\outfolder\\r07//r20110718_08.tif"
       ]
      },
      {
       "output_type": "stream",
       "stream": "stdout",
       "text": [
        "\n",
        "E:\\Data\\WangKun@Mattijn\\outfolder\\r07//r20110719_08.tif"
       ]
      },
      {
       "output_type": "stream",
       "stream": "stdout",
       "text": [
        "\n",
        "E:\\Data\\WangKun@Mattijn\\outfolder\\r07//r20110720_08.tif"
       ]
      },
      {
       "output_type": "stream",
       "stream": "stdout",
       "text": [
        "\n",
        "E:\\Data\\WangKun@Mattijn\\outfolder\\r07//r20110721_08.tif"
       ]
      },
      {
       "output_type": "stream",
       "stream": "stdout",
       "text": [
        "\n",
        "E:\\Data\\WangKun@Mattijn\\outfolder\\r07//r20110722_08.tif"
       ]
      },
      {
       "output_type": "stream",
       "stream": "stdout",
       "text": [
        "\n",
        "E:\\Data\\WangKun@Mattijn\\outfolder\\r07//r20110723_08.tif"
       ]
      },
      {
       "output_type": "stream",
       "stream": "stdout",
       "text": [
        "\n",
        "E:\\Data\\WangKun@Mattijn\\outfolder\\r07//r20110724_08.tif"
       ]
      },
      {
       "output_type": "stream",
       "stream": "stdout",
       "text": [
        "\n",
        "E:\\Data\\WangKun@Mattijn\\outfolder\\r07//r20110725_08.tif"
       ]
      },
      {
       "output_type": "stream",
       "stream": "stdout",
       "text": [
        "\n",
        "E:\\Data\\WangKun@Mattijn\\outfolder\\r07//r20110726_08.tif"
       ]
      },
      {
       "output_type": "stream",
       "stream": "stdout",
       "text": [
        "\n",
        "E:\\Data\\WangKun@Mattijn\\outfolder\\r07//r20110727_08.tif"
       ]
      },
      {
       "output_type": "stream",
       "stream": "stdout",
       "text": [
        "\n",
        "E:\\Data\\WangKun@Mattijn\\outfolder\\r07//r20110728_08.tif"
       ]
      },
      {
       "output_type": "stream",
       "stream": "stdout",
       "text": [
        "\n",
        "E:\\Data\\WangKun@Mattijn\\outfolder\\r07//r20110729_08.tif"
       ]
      },
      {
       "output_type": "stream",
       "stream": "stdout",
       "text": [
        "\n",
        "E:\\Data\\WangKun@Mattijn\\outfolder\\r07//r20110730_08.tif"
       ]
      },
      {
       "output_type": "stream",
       "stream": "stdout",
       "text": [
        "\n",
        "E:\\Data\\WangKun@Mattijn\\outfolder\\r07//r20110731_08.tif"
       ]
      },
      {
       "output_type": "stream",
       "stream": "stdout",
       "text": [
        "\n",
        "E:\\Data\\WangKun@Mattijn\\outfolder\\r07//r20110701_09.tif"
       ]
      },
      {
       "output_type": "stream",
       "stream": "stdout",
       "text": [
        "\n",
        "E:\\Data\\WangKun@Mattijn\\outfolder\\r07//r20110702_09.tif"
       ]
      },
      {
       "output_type": "stream",
       "stream": "stdout",
       "text": [
        "\n",
        "E:\\Data\\WangKun@Mattijn\\outfolder\\r07//r20110703_09.tif"
       ]
      },
      {
       "output_type": "stream",
       "stream": "stdout",
       "text": [
        "\n",
        "E:\\Data\\WangKun@Mattijn\\outfolder\\r07//r20110704_09.tif"
       ]
      },
      {
       "output_type": "stream",
       "stream": "stdout",
       "text": [
        "\n",
        "E:\\Data\\WangKun@Mattijn\\outfolder\\r07//r20110705_09.tif"
       ]
      },
      {
       "output_type": "stream",
       "stream": "stdout",
       "text": [
        "\n",
        "E:\\Data\\WangKun@Mattijn\\outfolder\\r07//r20110706_09.tif"
       ]
      },
      {
       "output_type": "stream",
       "stream": "stdout",
       "text": [
        "\n",
        "E:\\Data\\WangKun@Mattijn\\outfolder\\r07//r20110707_09.tif"
       ]
      },
      {
       "output_type": "stream",
       "stream": "stdout",
       "text": [
        "\n",
        "E:\\Data\\WangKun@Mattijn\\outfolder\\r07//r20110708_09.tif"
       ]
      },
      {
       "output_type": "stream",
       "stream": "stdout",
       "text": [
        "\n",
        "E:\\Data\\WangKun@Mattijn\\outfolder\\r07//r20110709_09.tif"
       ]
      },
      {
       "output_type": "stream",
       "stream": "stdout",
       "text": [
        "\n",
        "E:\\Data\\WangKun@Mattijn\\outfolder\\r07//r20110710_09.tif"
       ]
      },
      {
       "output_type": "stream",
       "stream": "stdout",
       "text": [
        "\n",
        "E:\\Data\\WangKun@Mattijn\\outfolder\\r07//r20110711_09.tif"
       ]
      },
      {
       "output_type": "stream",
       "stream": "stdout",
       "text": [
        "\n",
        "E:\\Data\\WangKun@Mattijn\\outfolder\\r07//r20110712_09.tif"
       ]
      },
      {
       "output_type": "stream",
       "stream": "stdout",
       "text": [
        "\n",
        "E:\\Data\\WangKun@Mattijn\\outfolder\\r07//r20110713_09.tif"
       ]
      },
      {
       "output_type": "stream",
       "stream": "stdout",
       "text": [
        "\n",
        "E:\\Data\\WangKun@Mattijn\\outfolder\\r07//r20110714_09.tif"
       ]
      },
      {
       "output_type": "stream",
       "stream": "stdout",
       "text": [
        "\n",
        "E:\\Data\\WangKun@Mattijn\\outfolder\\r07//r20110715_09.tif"
       ]
      },
      {
       "output_type": "stream",
       "stream": "stdout",
       "text": [
        "\n",
        "E:\\Data\\WangKun@Mattijn\\outfolder\\r07//r20110716_09.tif"
       ]
      },
      {
       "output_type": "stream",
       "stream": "stdout",
       "text": [
        "\n",
        "E:\\Data\\WangKun@Mattijn\\outfolder\\r07//r20110717_09.tif"
       ]
      },
      {
       "output_type": "stream",
       "stream": "stdout",
       "text": [
        "\n",
        "E:\\Data\\WangKun@Mattijn\\outfolder\\r07//r20110718_09.tif"
       ]
      },
      {
       "output_type": "stream",
       "stream": "stdout",
       "text": [
        "\n",
        "E:\\Data\\WangKun@Mattijn\\outfolder\\r07//r20110719_09.tif"
       ]
      },
      {
       "output_type": "stream",
       "stream": "stdout",
       "text": [
        "\n",
        "E:\\Data\\WangKun@Mattijn\\outfolder\\r07//r20110720_09.tif"
       ]
      },
      {
       "output_type": "stream",
       "stream": "stdout",
       "text": [
        "\n",
        "E:\\Data\\WangKun@Mattijn\\outfolder\\r07//r20110721_09.tif"
       ]
      },
      {
       "output_type": "stream",
       "stream": "stdout",
       "text": [
        "\n",
        "E:\\Data\\WangKun@Mattijn\\outfolder\\r07//r20110722_09.tif"
       ]
      },
      {
       "output_type": "stream",
       "stream": "stdout",
       "text": [
        "\n",
        "E:\\Data\\WangKun@Mattijn\\outfolder\\r07//r20110723_09.tif"
       ]
      },
      {
       "output_type": "stream",
       "stream": "stdout",
       "text": [
        "\n",
        "E:\\Data\\WangKun@Mattijn\\outfolder\\r07//r20110724_09.tif"
       ]
      },
      {
       "output_type": "stream",
       "stream": "stdout",
       "text": [
        "\n",
        "E:\\Data\\WangKun@Mattijn\\outfolder\\r07//r20110725_09.tif"
       ]
      },
      {
       "output_type": "stream",
       "stream": "stdout",
       "text": [
        "\n",
        "E:\\Data\\WangKun@Mattijn\\outfolder\\r07//r20110726_09.tif"
       ]
      },
      {
       "output_type": "stream",
       "stream": "stdout",
       "text": [
        "\n",
        "E:\\Data\\WangKun@Mattijn\\outfolder\\r07//r20110727_09.tif"
       ]
      },
      {
       "output_type": "stream",
       "stream": "stdout",
       "text": [
        "\n",
        "E:\\Data\\WangKun@Mattijn\\outfolder\\r07//r20110728_09.tif"
       ]
      },
      {
       "output_type": "stream",
       "stream": "stdout",
       "text": [
        "\n",
        "E:\\Data\\WangKun@Mattijn\\outfolder\\r07//r20110729_09.tif"
       ]
      },
      {
       "output_type": "stream",
       "stream": "stdout",
       "text": [
        "\n",
        "E:\\Data\\WangKun@Mattijn\\outfolder\\r07//r20110730_09.tif"
       ]
      },
      {
       "output_type": "stream",
       "stream": "stdout",
       "text": [
        "\n",
        "E:\\Data\\WangKun@Mattijn\\outfolder\\r07//r20110731_09.tif"
       ]
      },
      {
       "output_type": "stream",
       "stream": "stdout",
       "text": [
        "\n"
       ]
      }
     ],
     "prompt_number": 10
    },
    {
     "cell_type": "code",
     "collapsed": false,
     "input": [],
     "language": "python",
     "metadata": {},
     "outputs": [],
     "prompt_number": 10
    }
   ],
   "metadata": {}
  }
 ]
}