{
 "metadata": {
  "name": ""
 },
 "nbformat": 3,
 "nbformat_minor": 0,
 "worksheets": [
  {
   "cells": [
    {
     "cell_type": "code",
     "collapsed": false,
     "input": [
      "filepath = r'E:\\Data\\WangKun@Mattijn\\Radiation_hourly\\2011'\n",
      "filestations = r'E:\\Data\\WangKun@Mattijn\\Radiation_hourly\\AWS_stations_Aalbers01.csv'\n",
      "folderDEM = r'E:\\Data\\WangKun@Mattijn\\DEM_TIL01'\n",
      "folderMSK = r'E:\\Data\\WangKun@Mattijn\\DEM_MA01'\n",
      "prefix = 'srad'\n",
      "outFolder = r'E:\\Data\\WangKun@Mattijn\\outfolder\\srad02//'\n",
      "start = '2/1/2011'\n",
      "end = '2/28/2011'\n",
      "param = 'TotalRadiation'"
     ],
     "language": "python",
     "metadata": {},
     "outputs": [],
     "prompt_number": 16
    },
    {
     "cell_type": "code",
     "collapsed": false,
     "input": [
      "from scipy import stats\n",
      "from scipy.spatial.distance import cdist\n",
      "from scipy.spatial import cKDTree as KDTree\n",
      "import statsmodels.api as sm\n",
      "import numpy as np\n",
      "import pandas as pd\n",
      "from osgeo import gdal\n",
      "import os\n",
      "import datetime\n",
      "from datetime import datetime\n",
      "#from __future__ import division"
     ],
     "language": "python",
     "metadata": {},
     "outputs": [],
     "prompt_number": 2
    },
    {
     "cell_type": "code",
     "collapsed": false,
     "input": [
      "def FILES(inGSODFolder):\n",
      "    st_wmo = [os.path.join(root, name)\n",
      "               for root, dirs, files in os.walk(inGSODFolder)\n",
      "                 for name in files                 \n",
      "                 if name.endswith('.csv')]\n",
      "    return st_wmo"
     ],
     "language": "python",
     "metadata": {},
     "outputs": [],
     "prompt_number": 8
    },
    {
     "cell_type": "code",
     "collapsed": false,
     "input": [
      "def DEMfiles(inDEMFolder):\n",
      "    dem_files = [os.path.join(root, name)\n",
      "               for root, dirs, files in os.walk(inDEMFolder)\n",
      "                 for name in files\n",
      "                 if name.endswith('.TIF')]\n",
      "    return dem_files"
     ],
     "language": "python",
     "metadata": {},
     "outputs": [],
     "prompt_number": 4
    },
    {
     "cell_type": "code",
     "collapsed": false,
     "input": [
      "def inRaster(fileDEM):\n",
      "    raster = gdal.Open(fileDEM, gdal.GA_ReadOnly)\n",
      "    band = raster.GetRasterBand(1)\n",
      "    dem = band.ReadAsArray()\n",
      "    extent = raster.GetGeoTransform()\n",
      "    return raster, dem, extent"
     ],
     "language": "python",
     "metadata": {},
     "outputs": [],
     "prompt_number": 5
    },
    {
     "cell_type": "code",
     "collapsed": false,
     "input": [
      "def saveRaster(path, array, datatype=3, formatraster=\"GTiff\"): # float32 = 6, signed int = 3\n",
      "    # Set Driver\n",
      "    format_ = formatraster #save as format\n",
      "    driver = gdal.GetDriverByName( format_ )\n",
      "    driver.Register()\n",
      "    \n",
      "    # Set Metadata for Raster output\n",
      "    cols = raster.RasterXSize\n",
      "    rows = raster.RasterYSize\n",
      "    bands = raster.RasterCount\n",
      "    datatype = 6#band.DataType\n",
      "    \n",
      "    # Set Projection for Raster\n",
      "    outDataset = driver.Create(outFilename, cols, rows, bands, datatype)\n",
      "    geoTransform = raster.GetGeoTransform()\n",
      "    outDataset.SetGeoTransform(geoTransform)\n",
      "    proj = raster.GetProjection()\n",
      "    outDataset.SetProjection(proj)\n",
      "    \n",
      "    # Write output to band 1 of new Raster\n",
      "    outBand = outDataset.GetRasterBand(1)\n",
      "    outBand.WriteArray(array) #save input array\n",
      "    #outBand.WriteArray(dem)\n",
      "    \n",
      "    # Close and finalise newly created Raster\n",
      "    #F_M01 = None\n",
      "    outBand = None\n",
      "    proj = None\n",
      "    geoTransform = None\n",
      "    outDataset = None\n",
      "    driver = None\n",
      "    datatype = None\n",
      "    bands = None\n",
      "    rows = None\n",
      "    cols = None\n",
      "    driver = None\n",
      "    array = None"
     ],
     "language": "python",
     "metadata": {},
     "outputs": [],
     "prompt_number": 6
    },
    {
     "cell_type": "code",
     "collapsed": false,
     "input": [
      "def IDWKDtree(x,y):\n",
      "    x_y = [(x,y)]\n",
      "    x_ = (x*extent[1]+extent[0]+extent[1]/2) # longitude aalbers projection (meters)\n",
      "    y_ = (y*extent[5]+extent[3]+extent[5]/2) # latitude aalbers projection ( meters)\n",
      "    \n",
      "    dem_1 = dem[y,x]\n",
      "    dist_tree, ix_tree = tree.query(x_y, k=8, eps=0, p=1) # returns distance and index\n",
      "    dist_tree = dist_tree.flatten()\n",
      "    ix_tree = ix_tree.flatten()\n",
      "    df_selection = df.ix[ix_tree.ravel()] # select 8 neighbours\n",
      "    c = df_selection.ix[:,1] # this one need to change\n",
      "    \n",
      "    #print('\\n supposedly this is the list\\n', c)\n",
      "    \n",
      "    if dist_tree[0] < 1e-10:\n",
      "        wz = c.ix[ix_tree[0]]\n",
      "        print ('hier zit het', wz)\n",
      "    else:\n",
      "        w = 1 / dist_tree**2\n",
      "    w /= np.sum(w)\n",
      "    wz = np.dot(w, c.ix[ix_tree])\n",
      "        \n",
      "    return wz"
     ],
     "language": "python",
     "metadata": {},
     "outputs": [],
     "prompt_number": 7
    },
    {
     "cell_type": "code",
     "collapsed": false,
     "input": [
      "# select meteorological data file\n",
      "file_ = FILES(filepath)\n",
      "f = file_[2]\n",
      "print (f)\n",
      "\n",
      "# create range of dates\n",
      "rng = pd.date_range(start, end, freq='D')\n",
      "print (rng)"
     ],
     "language": "python",
     "metadata": {},
     "outputs": [
      {
       "output_type": "stream",
       "stream": "stdout",
       "text": [
        "E:\\Data\\WangKun@Mattijn\\Radiation_hourly\\2011\\201102.csv\n",
        "<class 'pandas.tseries.index.DatetimeIndex'>\n",
        "[2011-02-01 00:00:00, ..., 2011-02-28 00:00:00]\n",
        "Length: 28, Freq: D, Timezone: None\n"
       ]
      }
     ],
     "prompt_number": 18
    },
    {
     "cell_type": "code",
     "collapsed": false,
     "input": [
      "df = pd.read_csv(f, parse_dates={'datetime': [4,5,6,7]}, \n",
      "                 date_parser=lambda x: pd.datetime.strptime(x, '%Y %m %d %H'))\n",
      "\n",
      "# set name of columns\n",
      "columns_df = ['datetime','Station','lat','long','elevm','TotalRadiation','NetRadiation','DiffuseRadiation','ReflectedRadiation',\n",
      "              'VertDirectRad']\n",
      "df.columns = columns_df\n",
      "\n",
      "# set date-time as index and select the variables needed\n",
      "df.set_index('datetime', inplace=True)\n",
      "df_sel = df[['Station', param]]#'STP','TEMP','REHU','PRCP','WDSP']]\n",
      "\n",
      "# replace missing, blank and values for snow as NaN\n",
      "df_sel.replace(32766, np.nan, inplace=True)\n",
      "df_sel.replace(32744, np.nan, inplace=True)\n",
      "#df_sel.replace(32700, 0, inplace=True)\n",
      "\n",
      "# make appropriate concersions to right unit\n",
      "#df_sel.STP *= 0.1\n",
      "#df_sel.WDSP *= 10\n",
      "#df_sel.PRCP *= 10\n",
      "#df_sel.STP *= 0.1\n",
      "\n",
      "# group by Station ID and resample to daily values\n",
      "df_selDay = df_sel.groupby('Station').resample('1D', how='mean')\n",
      "df_selDay = df_selDay.drop('Station',1)\n",
      "df_selDay = df_selDay.reset_index()\n",
      "df_selDay = df_selDay.set_index('datetime')\n",
      "#print df_selDay.head()\n",
      "print(df_selDay.head())"
     ],
     "language": "python",
     "metadata": {},
     "outputs": [
      {
       "output_type": "stream",
       "stream": "stdout",
       "text": [
        "            Station  TotalRadiation\n",
        "datetime                           \n",
        "2011-02-01    50136            63.9\n",
        "2011-02-02    50136            67.9\n",
        "2011-02-03    50136            51.6\n",
        "2011-02-04    50136            77.1\n",
        "2011-02-05    50136            33.5\n"
       ]
      }
     ],
     "prompt_number": 15
    },
    {
     "cell_type": "code",
     "collapsed": false,
     "input": [
      "rsters = DEMfiles(folderDEM)\n",
      "#print (len(rsters))\n",
      "masks = DEMfiles(folderMSK)\n",
      "\n",
      "max_base = 0\n",
      "for rster in rsters:    \n",
      "    if len(rster) > max_base:\n",
      "        max_base = len(rster)\n",
      "max_one = max_base - 1\n",
      "max_two = max_base - 2\n",
      "\n",
      "#st_wmo = GSODfiles(folderGSOD)\n",
      "for rster in rsters:    \n",
      "    raster, dem, extent = inRaster(rster)    \n",
      "    for mask in masks:\n",
      "        if len(rster) == max_base and len(mask)==max_one:\n",
      "            if int(mask[-6:-4]) == int(rster[-6:-4]):\n",
      "                mskpth = mask                \n",
      "        elif len(rster) == max_one and len(mask)==max_two:\n",
      "            if int(mask[-5:-4]) == int(rster[-5:-4]):\n",
      "                mskpth = mask\n",
      "    m_raster, m_dem, m_extent = inRaster(mskpth)\n",
      "    #print raster.GetDescription()\n",
      "    #print m_raster.GetDescription()\n",
      "    #for date in date_all:\n",
      "    for i in rng:\n",
      "        \n",
      "        # read station file\n",
      "        df_stations = pd.read_csv(filestations)        \n",
      "        \n",
      "        df_stations['Y_LAT'] = (df_stations.POINT_Y-extent[3])/extent[5]\n",
      "        df_stations['X_LON'] = (df_stations.POINT_X-extent[0])/extent[1]\n",
      "        \n",
      "        #print ('\\ndate of range\\n', i)\n",
      "        data_left = df_selDay.ix[i]    \n",
      "        sel_merge = pd.merge(data_left, df_stations, on='Station', how='inner', )\n",
      "        #print '\\nInner merge on station and data frame\\n', sel_merge.head()\n",
      "        \n",
      "        #TEMP\n",
      "        df = sel_merge[pd.notnull(sel_merge[param])]\n",
      "        df.reset_index(drop=True, inplace=True)\n",
      "        \n",
      "        #df.TEMP =df.TEMP.astype(int)\n",
      "        #print ('\\nDrop not null and reset index\\n', df.head())\n",
      "\n",
      "        Longscaled = df.ix[:,8]\n",
      "        #print '\\nlongscaled\\n', Longscaled\n",
      "        Latscaled = df.ix[:,7]\n",
      "        #print '\\nlatscaled\\n', Latscaled\n",
      "        #tree = KDTree(zip(Longscaled,Latscaled), leafsize=11)\n",
      "        tree = KDTree(list(zip(Longscaled,Latscaled)), leafsize=11)\n",
      "        \n",
      "        tp = np.zeros([dem.shape[1],dem.shape[0]])\n",
      "        \n",
      "        #x = 0\n",
      "        #y = 0\n",
      "        #IDWKDtree(x,y)\n",
      "        dem_j = m_dem.shape[1]\n",
      "        dem_i = m_dem.shape[0]\n",
      "        for x in range(0,dem_j):\n",
      "            for y in range(0,dem_i):\n",
      "        #        print x, y, m_dem[y,x]\n",
      "                if m_dem[y,x] == 1:\n",
      "                    tp[x][y] = IDWKDtree(x,y)\n",
      "                else:\n",
      "                    tp[x][y] = 32677        \n",
      "        \n",
      "#        for x in range(0,dem.shape[1],1):\n",
      "#            for y in range(0,dem.shape[0],1):\n",
      "#                tp[x][y] = GIDS(x,y)\n",
      "        tp = tp.T\n",
      "        \n",
      "        #save output as raster\n",
      "        if len(raster.GetDescription()) == max_base: # fixed code to check the length of the path\n",
      "            add = raster.GetDescription()[-6:-4]\n",
      "        else:\n",
      "            add = raster.GetDescription()[-5:-4]\n",
      "            \n",
      "        date = str(i.year)+str(i.month).zfill(2)+str(i.day).zfill(2)\n",
      "        outFilename = outFolder+prefix+str(date)+'_'+str(add.zfill(2))+'.tif'\n",
      "        print(outFilename)\n",
      "        \n",
      "        saveRaster(outFilename, tp)\n",
      "        outFilename = None\n",
      "        tp = None"
     ],
     "language": "python",
     "metadata": {},
     "outputs": [
      {
       "output_type": "stream",
       "stream": "stdout",
       "text": [
        "E:\\Data\\WangKun@Mattijn\\outfolder\\srad02//srad20110201_00.tif\n",
        "E:\\Data\\WangKun@Mattijn\\outfolder\\srad02//srad20110202_00.tif"
       ]
      },
      {
       "output_type": "stream",
       "stream": "stdout",
       "text": [
        "\n",
        "E:\\Data\\WangKun@Mattijn\\outfolder\\srad02//srad20110203_00.tif"
       ]
      },
      {
       "output_type": "stream",
       "stream": "stdout",
       "text": [
        "\n",
        "E:\\Data\\WangKun@Mattijn\\outfolder\\srad02//srad20110204_00.tif"
       ]
      },
      {
       "output_type": "stream",
       "stream": "stdout",
       "text": [
        "\n",
        "E:\\Data\\WangKun@Mattijn\\outfolder\\srad02//srad20110205_00.tif"
       ]
      },
      {
       "output_type": "stream",
       "stream": "stdout",
       "text": [
        "\n",
        "E:\\Data\\WangKun@Mattijn\\outfolder\\srad02//srad20110206_00.tif"
       ]
      },
      {
       "output_type": "stream",
       "stream": "stdout",
       "text": [
        "\n",
        "E:\\Data\\WangKun@Mattijn\\outfolder\\srad02//srad20110207_00.tif"
       ]
      },
      {
       "output_type": "stream",
       "stream": "stdout",
       "text": [
        "\n",
        "E:\\Data\\WangKun@Mattijn\\outfolder\\srad02//srad20110208_00.tif"
       ]
      },
      {
       "output_type": "stream",
       "stream": "stdout",
       "text": [
        "\n",
        "E:\\Data\\WangKun@Mattijn\\outfolder\\srad02//srad20110209_00.tif"
       ]
      },
      {
       "output_type": "stream",
       "stream": "stdout",
       "text": [
        "\n",
        "E:\\Data\\WangKun@Mattijn\\outfolder\\srad02//srad20110210_00.tif"
       ]
      },
      {
       "output_type": "stream",
       "stream": "stdout",
       "text": [
        "\n",
        "E:\\Data\\WangKun@Mattijn\\outfolder\\srad02//srad20110211_00.tif"
       ]
      },
      {
       "output_type": "stream",
       "stream": "stdout",
       "text": [
        "\n",
        "E:\\Data\\WangKun@Mattijn\\outfolder\\srad02//srad20110212_00.tif"
       ]
      },
      {
       "output_type": "stream",
       "stream": "stdout",
       "text": [
        "\n",
        "E:\\Data\\WangKun@Mattijn\\outfolder\\srad02//srad20110213_00.tif"
       ]
      },
      {
       "output_type": "stream",
       "stream": "stdout",
       "text": [
        "\n",
        "E:\\Data\\WangKun@Mattijn\\outfolder\\srad02//srad20110214_00.tif"
       ]
      },
      {
       "output_type": "stream",
       "stream": "stdout",
       "text": [
        "\n",
        "E:\\Data\\WangKun@Mattijn\\outfolder\\srad02//srad20110215_00.tif"
       ]
      },
      {
       "output_type": "stream",
       "stream": "stdout",
       "text": [
        "\n",
        "E:\\Data\\WangKun@Mattijn\\outfolder\\srad02//srad20110216_00.tif"
       ]
      },
      {
       "output_type": "stream",
       "stream": "stdout",
       "text": [
        "\n",
        "E:\\Data\\WangKun@Mattijn\\outfolder\\srad02//srad20110217_00.tif"
       ]
      },
      {
       "output_type": "stream",
       "stream": "stdout",
       "text": [
        "\n",
        "E:\\Data\\WangKun@Mattijn\\outfolder\\srad02//srad20110218_00.tif"
       ]
      },
      {
       "output_type": "stream",
       "stream": "stdout",
       "text": [
        "\n",
        "E:\\Data\\WangKun@Mattijn\\outfolder\\srad02//srad20110219_00.tif"
       ]
      },
      {
       "output_type": "stream",
       "stream": "stdout",
       "text": [
        "\n",
        "E:\\Data\\WangKun@Mattijn\\outfolder\\srad02//srad20110220_00.tif"
       ]
      },
      {
       "output_type": "stream",
       "stream": "stdout",
       "text": [
        "\n",
        "E:\\Data\\WangKun@Mattijn\\outfolder\\srad02//srad20110221_00.tif"
       ]
      },
      {
       "output_type": "stream",
       "stream": "stdout",
       "text": [
        "\n",
        "E:\\Data\\WangKun@Mattijn\\outfolder\\srad02//srad20110222_00.tif"
       ]
      },
      {
       "output_type": "stream",
       "stream": "stdout",
       "text": [
        "\n",
        "E:\\Data\\WangKun@Mattijn\\outfolder\\srad02//srad20110223_00.tif"
       ]
      },
      {
       "output_type": "stream",
       "stream": "stdout",
       "text": [
        "\n",
        "E:\\Data\\WangKun@Mattijn\\outfolder\\srad02//srad20110224_00.tif"
       ]
      },
      {
       "output_type": "stream",
       "stream": "stdout",
       "text": [
        "\n",
        "E:\\Data\\WangKun@Mattijn\\outfolder\\srad02//srad20110225_00.tif"
       ]
      },
      {
       "output_type": "stream",
       "stream": "stdout",
       "text": [
        "\n",
        "E:\\Data\\WangKun@Mattijn\\outfolder\\srad02//srad20110226_00.tif"
       ]
      },
      {
       "output_type": "stream",
       "stream": "stdout",
       "text": [
        "\n",
        "E:\\Data\\WangKun@Mattijn\\outfolder\\srad02//srad20110227_00.tif"
       ]
      },
      {
       "output_type": "stream",
       "stream": "stdout",
       "text": [
        "\n",
        "E:\\Data\\WangKun@Mattijn\\outfolder\\srad02//srad20110228_00.tif"
       ]
      },
      {
       "output_type": "stream",
       "stream": "stdout",
       "text": [
        "\n",
        "E:\\Data\\WangKun@Mattijn\\outfolder\\srad02//srad20110201_01.tif"
       ]
      },
      {
       "output_type": "stream",
       "stream": "stdout",
       "text": [
        "\n",
        "E:\\Data\\WangKun@Mattijn\\outfolder\\srad02//srad20110202_01.tif"
       ]
      },
      {
       "output_type": "stream",
       "stream": "stdout",
       "text": [
        "\n",
        "E:\\Data\\WangKun@Mattijn\\outfolder\\srad02//srad20110203_01.tif"
       ]
      },
      {
       "output_type": "stream",
       "stream": "stdout",
       "text": [
        "\n",
        "E:\\Data\\WangKun@Mattijn\\outfolder\\srad02//srad20110204_01.tif"
       ]
      },
      {
       "output_type": "stream",
       "stream": "stdout",
       "text": [
        "\n",
        "E:\\Data\\WangKun@Mattijn\\outfolder\\srad02//srad20110205_01.tif"
       ]
      },
      {
       "output_type": "stream",
       "stream": "stdout",
       "text": [
        "\n",
        "E:\\Data\\WangKun@Mattijn\\outfolder\\srad02//srad20110206_01.tif"
       ]
      },
      {
       "output_type": "stream",
       "stream": "stdout",
       "text": [
        "\n",
        "E:\\Data\\WangKun@Mattijn\\outfolder\\srad02//srad20110207_01.tif"
       ]
      },
      {
       "output_type": "stream",
       "stream": "stdout",
       "text": [
        "\n",
        "E:\\Data\\WangKun@Mattijn\\outfolder\\srad02//srad20110208_01.tif"
       ]
      },
      {
       "output_type": "stream",
       "stream": "stdout",
       "text": [
        "\n",
        "E:\\Data\\WangKun@Mattijn\\outfolder\\srad02//srad20110209_01.tif"
       ]
      },
      {
       "output_type": "stream",
       "stream": "stdout",
       "text": [
        "\n",
        "E:\\Data\\WangKun@Mattijn\\outfolder\\srad02//srad20110210_01.tif"
       ]
      },
      {
       "output_type": "stream",
       "stream": "stdout",
       "text": [
        "\n",
        "E:\\Data\\WangKun@Mattijn\\outfolder\\srad02//srad20110211_01.tif"
       ]
      },
      {
       "output_type": "stream",
       "stream": "stdout",
       "text": [
        "\n",
        "E:\\Data\\WangKun@Mattijn\\outfolder\\srad02//srad20110212_01.tif"
       ]
      },
      {
       "output_type": "stream",
       "stream": "stdout",
       "text": [
        "\n",
        "E:\\Data\\WangKun@Mattijn\\outfolder\\srad02//srad20110213_01.tif"
       ]
      },
      {
       "output_type": "stream",
       "stream": "stdout",
       "text": [
        "\n",
        "E:\\Data\\WangKun@Mattijn\\outfolder\\srad02//srad20110214_01.tif"
       ]
      },
      {
       "output_type": "stream",
       "stream": "stdout",
       "text": [
        "\n",
        "E:\\Data\\WangKun@Mattijn\\outfolder\\srad02//srad20110215_01.tif"
       ]
      },
      {
       "output_type": "stream",
       "stream": "stdout",
       "text": [
        "\n",
        "E:\\Data\\WangKun@Mattijn\\outfolder\\srad02//srad20110216_01.tif"
       ]
      },
      {
       "output_type": "stream",
       "stream": "stdout",
       "text": [
        "\n",
        "E:\\Data\\WangKun@Mattijn\\outfolder\\srad02//srad20110217_01.tif"
       ]
      },
      {
       "output_type": "stream",
       "stream": "stdout",
       "text": [
        "\n",
        "E:\\Data\\WangKun@Mattijn\\outfolder\\srad02//srad20110218_01.tif"
       ]
      },
      {
       "output_type": "stream",
       "stream": "stdout",
       "text": [
        "\n",
        "E:\\Data\\WangKun@Mattijn\\outfolder\\srad02//srad20110219_01.tif"
       ]
      },
      {
       "output_type": "stream",
       "stream": "stdout",
       "text": [
        "\n",
        "E:\\Data\\WangKun@Mattijn\\outfolder\\srad02//srad20110220_01.tif"
       ]
      },
      {
       "output_type": "stream",
       "stream": "stdout",
       "text": [
        "\n",
        "E:\\Data\\WangKun@Mattijn\\outfolder\\srad02//srad20110221_01.tif"
       ]
      },
      {
       "output_type": "stream",
       "stream": "stdout",
       "text": [
        "\n",
        "E:\\Data\\WangKun@Mattijn\\outfolder\\srad02//srad20110222_01.tif"
       ]
      },
      {
       "output_type": "stream",
       "stream": "stdout",
       "text": [
        "\n",
        "E:\\Data\\WangKun@Mattijn\\outfolder\\srad02//srad20110223_01.tif"
       ]
      },
      {
       "output_type": "stream",
       "stream": "stdout",
       "text": [
        "\n",
        "E:\\Data\\WangKun@Mattijn\\outfolder\\srad02//srad20110224_01.tif"
       ]
      },
      {
       "output_type": "stream",
       "stream": "stdout",
       "text": [
        "\n",
        "E:\\Data\\WangKun@Mattijn\\outfolder\\srad02//srad20110225_01.tif"
       ]
      },
      {
       "output_type": "stream",
       "stream": "stdout",
       "text": [
        "\n",
        "E:\\Data\\WangKun@Mattijn\\outfolder\\srad02//srad20110226_01.tif"
       ]
      },
      {
       "output_type": "stream",
       "stream": "stdout",
       "text": [
        "\n",
        "E:\\Data\\WangKun@Mattijn\\outfolder\\srad02//srad20110227_01.tif"
       ]
      },
      {
       "output_type": "stream",
       "stream": "stdout",
       "text": [
        "\n",
        "E:\\Data\\WangKun@Mattijn\\outfolder\\srad02//srad20110228_01.tif"
       ]
      },
      {
       "output_type": "stream",
       "stream": "stdout",
       "text": [
        "\n",
        "E:\\Data\\WangKun@Mattijn\\outfolder\\srad02//srad20110201_10.tif"
       ]
      },
      {
       "output_type": "stream",
       "stream": "stdout",
       "text": [
        "\n",
        "E:\\Data\\WangKun@Mattijn\\outfolder\\srad02//srad20110202_10.tif"
       ]
      },
      {
       "output_type": "stream",
       "stream": "stdout",
       "text": [
        "\n",
        "E:\\Data\\WangKun@Mattijn\\outfolder\\srad02//srad20110203_10.tif"
       ]
      },
      {
       "output_type": "stream",
       "stream": "stdout",
       "text": [
        "\n",
        "E:\\Data\\WangKun@Mattijn\\outfolder\\srad02//srad20110204_10.tif"
       ]
      },
      {
       "output_type": "stream",
       "stream": "stdout",
       "text": [
        "\n",
        "E:\\Data\\WangKun@Mattijn\\outfolder\\srad02//srad20110205_10.tif"
       ]
      },
      {
       "output_type": "stream",
       "stream": "stdout",
       "text": [
        "\n",
        "E:\\Data\\WangKun@Mattijn\\outfolder\\srad02//srad20110206_10.tif"
       ]
      },
      {
       "output_type": "stream",
       "stream": "stdout",
       "text": [
        "\n",
        "E:\\Data\\WangKun@Mattijn\\outfolder\\srad02//srad20110207_10.tif"
       ]
      },
      {
       "output_type": "stream",
       "stream": "stdout",
       "text": [
        "\n",
        "E:\\Data\\WangKun@Mattijn\\outfolder\\srad02//srad20110208_10.tif"
       ]
      },
      {
       "output_type": "stream",
       "stream": "stdout",
       "text": [
        "\n",
        "E:\\Data\\WangKun@Mattijn\\outfolder\\srad02//srad20110209_10.tif"
       ]
      },
      {
       "output_type": "stream",
       "stream": "stdout",
       "text": [
        "\n",
        "E:\\Data\\WangKun@Mattijn\\outfolder\\srad02//srad20110210_10.tif"
       ]
      },
      {
       "output_type": "stream",
       "stream": "stdout",
       "text": [
        "\n",
        "E:\\Data\\WangKun@Mattijn\\outfolder\\srad02//srad20110211_10.tif"
       ]
      },
      {
       "output_type": "stream",
       "stream": "stdout",
       "text": [
        "\n",
        "E:\\Data\\WangKun@Mattijn\\outfolder\\srad02//srad20110212_10.tif"
       ]
      },
      {
       "output_type": "stream",
       "stream": "stdout",
       "text": [
        "\n",
        "E:\\Data\\WangKun@Mattijn\\outfolder\\srad02//srad20110213_10.tif"
       ]
      },
      {
       "output_type": "stream",
       "stream": "stdout",
       "text": [
        "\n",
        "E:\\Data\\WangKun@Mattijn\\outfolder\\srad02//srad20110214_10.tif"
       ]
      },
      {
       "output_type": "stream",
       "stream": "stdout",
       "text": [
        "\n",
        "E:\\Data\\WangKun@Mattijn\\outfolder\\srad02//srad20110215_10.tif"
       ]
      },
      {
       "output_type": "stream",
       "stream": "stdout",
       "text": [
        "\n",
        "E:\\Data\\WangKun@Mattijn\\outfolder\\srad02//srad20110216_10.tif"
       ]
      },
      {
       "output_type": "stream",
       "stream": "stdout",
       "text": [
        "\n",
        "E:\\Data\\WangKun@Mattijn\\outfolder\\srad02//srad20110217_10.tif"
       ]
      },
      {
       "output_type": "stream",
       "stream": "stdout",
       "text": [
        "\n",
        "E:\\Data\\WangKun@Mattijn\\outfolder\\srad02//srad20110218_10.tif"
       ]
      },
      {
       "output_type": "stream",
       "stream": "stdout",
       "text": [
        "\n",
        "E:\\Data\\WangKun@Mattijn\\outfolder\\srad02//srad20110219_10.tif"
       ]
      },
      {
       "output_type": "stream",
       "stream": "stdout",
       "text": [
        "\n",
        "E:\\Data\\WangKun@Mattijn\\outfolder\\srad02//srad20110220_10.tif"
       ]
      },
      {
       "output_type": "stream",
       "stream": "stdout",
       "text": [
        "\n",
        "E:\\Data\\WangKun@Mattijn\\outfolder\\srad02//srad20110221_10.tif"
       ]
      },
      {
       "output_type": "stream",
       "stream": "stdout",
       "text": [
        "\n",
        "E:\\Data\\WangKun@Mattijn\\outfolder\\srad02//srad20110222_10.tif"
       ]
      },
      {
       "output_type": "stream",
       "stream": "stdout",
       "text": [
        "\n",
        "E:\\Data\\WangKun@Mattijn\\outfolder\\srad02//srad20110223_10.tif"
       ]
      },
      {
       "output_type": "stream",
       "stream": "stdout",
       "text": [
        "\n",
        "E:\\Data\\WangKun@Mattijn\\outfolder\\srad02//srad20110224_10.tif"
       ]
      },
      {
       "output_type": "stream",
       "stream": "stdout",
       "text": [
        "\n",
        "E:\\Data\\WangKun@Mattijn\\outfolder\\srad02//srad20110225_10.tif"
       ]
      },
      {
       "output_type": "stream",
       "stream": "stdout",
       "text": [
        "\n",
        "E:\\Data\\WangKun@Mattijn\\outfolder\\srad02//srad20110226_10.tif"
       ]
      },
      {
       "output_type": "stream",
       "stream": "stdout",
       "text": [
        "\n",
        "E:\\Data\\WangKun@Mattijn\\outfolder\\srad02//srad20110227_10.tif"
       ]
      },
      {
       "output_type": "stream",
       "stream": "stdout",
       "text": [
        "\n",
        "E:\\Data\\WangKun@Mattijn\\outfolder\\srad02//srad20110228_10.tif"
       ]
      },
      {
       "output_type": "stream",
       "stream": "stdout",
       "text": [
        "\n",
        "E:\\Data\\WangKun@Mattijn\\outfolder\\srad02//srad20110201_11.tif"
       ]
      },
      {
       "output_type": "stream",
       "stream": "stdout",
       "text": [
        "\n",
        "E:\\Data\\WangKun@Mattijn\\outfolder\\srad02//srad20110202_11.tif"
       ]
      },
      {
       "output_type": "stream",
       "stream": "stdout",
       "text": [
        "\n",
        "E:\\Data\\WangKun@Mattijn\\outfolder\\srad02//srad20110203_11.tif"
       ]
      },
      {
       "output_type": "stream",
       "stream": "stdout",
       "text": [
        "\n",
        "E:\\Data\\WangKun@Mattijn\\outfolder\\srad02//srad20110204_11.tif"
       ]
      },
      {
       "output_type": "stream",
       "stream": "stdout",
       "text": [
        "\n",
        "E:\\Data\\WangKun@Mattijn\\outfolder\\srad02//srad20110205_11.tif"
       ]
      },
      {
       "output_type": "stream",
       "stream": "stdout",
       "text": [
        "\n",
        "E:\\Data\\WangKun@Mattijn\\outfolder\\srad02//srad20110206_11.tif"
       ]
      },
      {
       "output_type": "stream",
       "stream": "stdout",
       "text": [
        "\n",
        "E:\\Data\\WangKun@Mattijn\\outfolder\\srad02//srad20110207_11.tif"
       ]
      },
      {
       "output_type": "stream",
       "stream": "stdout",
       "text": [
        "\n",
        "E:\\Data\\WangKun@Mattijn\\outfolder\\srad02//srad20110208_11.tif"
       ]
      },
      {
       "output_type": "stream",
       "stream": "stdout",
       "text": [
        "\n",
        "E:\\Data\\WangKun@Mattijn\\outfolder\\srad02//srad20110209_11.tif"
       ]
      },
      {
       "output_type": "stream",
       "stream": "stdout",
       "text": [
        "\n",
        "E:\\Data\\WangKun@Mattijn\\outfolder\\srad02//srad20110210_11.tif"
       ]
      },
      {
       "output_type": "stream",
       "stream": "stdout",
       "text": [
        "\n",
        "E:\\Data\\WangKun@Mattijn\\outfolder\\srad02//srad20110211_11.tif"
       ]
      },
      {
       "output_type": "stream",
       "stream": "stdout",
       "text": [
        "\n",
        "E:\\Data\\WangKun@Mattijn\\outfolder\\srad02//srad20110212_11.tif"
       ]
      },
      {
       "output_type": "stream",
       "stream": "stdout",
       "text": [
        "\n",
        "E:\\Data\\WangKun@Mattijn\\outfolder\\srad02//srad20110213_11.tif"
       ]
      },
      {
       "output_type": "stream",
       "stream": "stdout",
       "text": [
        "\n",
        "E:\\Data\\WangKun@Mattijn\\outfolder\\srad02//srad20110214_11.tif"
       ]
      },
      {
       "output_type": "stream",
       "stream": "stdout",
       "text": [
        "\n",
        "E:\\Data\\WangKun@Mattijn\\outfolder\\srad02//srad20110215_11.tif"
       ]
      },
      {
       "output_type": "stream",
       "stream": "stdout",
       "text": [
        "\n",
        "E:\\Data\\WangKun@Mattijn\\outfolder\\srad02//srad20110216_11.tif"
       ]
      },
      {
       "output_type": "stream",
       "stream": "stdout",
       "text": [
        "\n",
        "E:\\Data\\WangKun@Mattijn\\outfolder\\srad02//srad20110217_11.tif"
       ]
      },
      {
       "output_type": "stream",
       "stream": "stdout",
       "text": [
        "\n",
        "E:\\Data\\WangKun@Mattijn\\outfolder\\srad02//srad20110218_11.tif"
       ]
      },
      {
       "output_type": "stream",
       "stream": "stdout",
       "text": [
        "\n",
        "E:\\Data\\WangKun@Mattijn\\outfolder\\srad02//srad20110219_11.tif"
       ]
      },
      {
       "output_type": "stream",
       "stream": "stdout",
       "text": [
        "\n",
        "E:\\Data\\WangKun@Mattijn\\outfolder\\srad02//srad20110220_11.tif"
       ]
      },
      {
       "output_type": "stream",
       "stream": "stdout",
       "text": [
        "\n",
        "E:\\Data\\WangKun@Mattijn\\outfolder\\srad02//srad20110221_11.tif"
       ]
      },
      {
       "output_type": "stream",
       "stream": "stdout",
       "text": [
        "\n",
        "E:\\Data\\WangKun@Mattijn\\outfolder\\srad02//srad20110222_11.tif"
       ]
      },
      {
       "output_type": "stream",
       "stream": "stdout",
       "text": [
        "\n",
        "E:\\Data\\WangKun@Mattijn\\outfolder\\srad02//srad20110223_11.tif"
       ]
      },
      {
       "output_type": "stream",
       "stream": "stdout",
       "text": [
        "\n",
        "E:\\Data\\WangKun@Mattijn\\outfolder\\srad02//srad20110224_11.tif"
       ]
      },
      {
       "output_type": "stream",
       "stream": "stdout",
       "text": [
        "\n",
        "E:\\Data\\WangKun@Mattijn\\outfolder\\srad02//srad20110225_11.tif"
       ]
      },
      {
       "output_type": "stream",
       "stream": "stdout",
       "text": [
        "\n",
        "E:\\Data\\WangKun@Mattijn\\outfolder\\srad02//srad20110226_11.tif"
       ]
      },
      {
       "output_type": "stream",
       "stream": "stdout",
       "text": [
        "\n",
        "E:\\Data\\WangKun@Mattijn\\outfolder\\srad02//srad20110227_11.tif"
       ]
      },
      {
       "output_type": "stream",
       "stream": "stdout",
       "text": [
        "\n",
        "E:\\Data\\WangKun@Mattijn\\outfolder\\srad02//srad20110228_11.tif"
       ]
      },
      {
       "output_type": "stream",
       "stream": "stdout",
       "text": [
        "\n",
        "E:\\Data\\WangKun@Mattijn\\outfolder\\srad02//srad20110201_12.tif"
       ]
      },
      {
       "output_type": "stream",
       "stream": "stdout",
       "text": [
        "\n",
        "E:\\Data\\WangKun@Mattijn\\outfolder\\srad02//srad20110202_12.tif"
       ]
      },
      {
       "output_type": "stream",
       "stream": "stdout",
       "text": [
        "\n",
        "E:\\Data\\WangKun@Mattijn\\outfolder\\srad02//srad20110203_12.tif"
       ]
      },
      {
       "output_type": "stream",
       "stream": "stdout",
       "text": [
        "\n",
        "E:\\Data\\WangKun@Mattijn\\outfolder\\srad02//srad20110204_12.tif"
       ]
      },
      {
       "output_type": "stream",
       "stream": "stdout",
       "text": [
        "\n",
        "E:\\Data\\WangKun@Mattijn\\outfolder\\srad02//srad20110205_12.tif"
       ]
      },
      {
       "output_type": "stream",
       "stream": "stdout",
       "text": [
        "\n",
        "E:\\Data\\WangKun@Mattijn\\outfolder\\srad02//srad20110206_12.tif"
       ]
      },
      {
       "output_type": "stream",
       "stream": "stdout",
       "text": [
        "\n",
        "E:\\Data\\WangKun@Mattijn\\outfolder\\srad02//srad20110207_12.tif"
       ]
      },
      {
       "output_type": "stream",
       "stream": "stdout",
       "text": [
        "\n",
        "E:\\Data\\WangKun@Mattijn\\outfolder\\srad02//srad20110208_12.tif"
       ]
      },
      {
       "output_type": "stream",
       "stream": "stdout",
       "text": [
        "\n",
        "E:\\Data\\WangKun@Mattijn\\outfolder\\srad02//srad20110209_12.tif"
       ]
      },
      {
       "output_type": "stream",
       "stream": "stdout",
       "text": [
        "\n",
        "E:\\Data\\WangKun@Mattijn\\outfolder\\srad02//srad20110210_12.tif"
       ]
      },
      {
       "output_type": "stream",
       "stream": "stdout",
       "text": [
        "\n",
        "E:\\Data\\WangKun@Mattijn\\outfolder\\srad02//srad20110211_12.tif"
       ]
      },
      {
       "output_type": "stream",
       "stream": "stdout",
       "text": [
        "\n",
        "E:\\Data\\WangKun@Mattijn\\outfolder\\srad02//srad20110212_12.tif"
       ]
      },
      {
       "output_type": "stream",
       "stream": "stdout",
       "text": [
        "\n",
        "E:\\Data\\WangKun@Mattijn\\outfolder\\srad02//srad20110213_12.tif"
       ]
      },
      {
       "output_type": "stream",
       "stream": "stdout",
       "text": [
        "\n",
        "E:\\Data\\WangKun@Mattijn\\outfolder\\srad02//srad20110214_12.tif"
       ]
      },
      {
       "output_type": "stream",
       "stream": "stdout",
       "text": [
        "\n",
        "E:\\Data\\WangKun@Mattijn\\outfolder\\srad02//srad20110215_12.tif"
       ]
      },
      {
       "output_type": "stream",
       "stream": "stdout",
       "text": [
        "\n",
        "E:\\Data\\WangKun@Mattijn\\outfolder\\srad02//srad20110216_12.tif"
       ]
      },
      {
       "output_type": "stream",
       "stream": "stdout",
       "text": [
        "\n",
        "E:\\Data\\WangKun@Mattijn\\outfolder\\srad02//srad20110217_12.tif"
       ]
      },
      {
       "output_type": "stream",
       "stream": "stdout",
       "text": [
        "\n",
        "E:\\Data\\WangKun@Mattijn\\outfolder\\srad02//srad20110218_12.tif"
       ]
      },
      {
       "output_type": "stream",
       "stream": "stdout",
       "text": [
        "\n",
        "E:\\Data\\WangKun@Mattijn\\outfolder\\srad02//srad20110219_12.tif"
       ]
      },
      {
       "output_type": "stream",
       "stream": "stdout",
       "text": [
        "\n",
        "E:\\Data\\WangKun@Mattijn\\outfolder\\srad02//srad20110220_12.tif"
       ]
      },
      {
       "output_type": "stream",
       "stream": "stdout",
       "text": [
        "\n",
        "E:\\Data\\WangKun@Mattijn\\outfolder\\srad02//srad20110221_12.tif"
       ]
      },
      {
       "output_type": "stream",
       "stream": "stdout",
       "text": [
        "\n",
        "E:\\Data\\WangKun@Mattijn\\outfolder\\srad02//srad20110222_12.tif"
       ]
      },
      {
       "output_type": "stream",
       "stream": "stdout",
       "text": [
        "\n",
        "E:\\Data\\WangKun@Mattijn\\outfolder\\srad02//srad20110223_12.tif"
       ]
      },
      {
       "output_type": "stream",
       "stream": "stdout",
       "text": [
        "\n",
        "E:\\Data\\WangKun@Mattijn\\outfolder\\srad02//srad20110224_12.tif"
       ]
      },
      {
       "output_type": "stream",
       "stream": "stdout",
       "text": [
        "\n",
        "E:\\Data\\WangKun@Mattijn\\outfolder\\srad02//srad20110225_12.tif"
       ]
      },
      {
       "output_type": "stream",
       "stream": "stdout",
       "text": [
        "\n",
        "E:\\Data\\WangKun@Mattijn\\outfolder\\srad02//srad20110226_12.tif"
       ]
      },
      {
       "output_type": "stream",
       "stream": "stdout",
       "text": [
        "\n",
        "E:\\Data\\WangKun@Mattijn\\outfolder\\srad02//srad20110227_12.tif"
       ]
      },
      {
       "output_type": "stream",
       "stream": "stdout",
       "text": [
        "\n",
        "E:\\Data\\WangKun@Mattijn\\outfolder\\srad02//srad20110228_12.tif"
       ]
      },
      {
       "output_type": "stream",
       "stream": "stdout",
       "text": [
        "\n",
        "E:\\Data\\WangKun@Mattijn\\outfolder\\srad02//srad20110201_13.tif"
       ]
      },
      {
       "output_type": "stream",
       "stream": "stdout",
       "text": [
        "\n",
        "E:\\Data\\WangKun@Mattijn\\outfolder\\srad02//srad20110202_13.tif"
       ]
      },
      {
       "output_type": "stream",
       "stream": "stdout",
       "text": [
        "\n",
        "E:\\Data\\WangKun@Mattijn\\outfolder\\srad02//srad20110203_13.tif"
       ]
      },
      {
       "output_type": "stream",
       "stream": "stdout",
       "text": [
        "\n",
        "E:\\Data\\WangKun@Mattijn\\outfolder\\srad02//srad20110204_13.tif"
       ]
      },
      {
       "output_type": "stream",
       "stream": "stdout",
       "text": [
        "\n",
        "E:\\Data\\WangKun@Mattijn\\outfolder\\srad02//srad20110205_13.tif"
       ]
      },
      {
       "output_type": "stream",
       "stream": "stdout",
       "text": [
        "\n",
        "E:\\Data\\WangKun@Mattijn\\outfolder\\srad02//srad20110206_13.tif"
       ]
      },
      {
       "output_type": "stream",
       "stream": "stdout",
       "text": [
        "\n",
        "E:\\Data\\WangKun@Mattijn\\outfolder\\srad02//srad20110207_13.tif"
       ]
      },
      {
       "output_type": "stream",
       "stream": "stdout",
       "text": [
        "\n",
        "E:\\Data\\WangKun@Mattijn\\outfolder\\srad02//srad20110208_13.tif"
       ]
      },
      {
       "output_type": "stream",
       "stream": "stdout",
       "text": [
        "\n",
        "E:\\Data\\WangKun@Mattijn\\outfolder\\srad02//srad20110209_13.tif"
       ]
      },
      {
       "output_type": "stream",
       "stream": "stdout",
       "text": [
        "\n",
        "E:\\Data\\WangKun@Mattijn\\outfolder\\srad02//srad20110210_13.tif"
       ]
      },
      {
       "output_type": "stream",
       "stream": "stdout",
       "text": [
        "\n",
        "E:\\Data\\WangKun@Mattijn\\outfolder\\srad02//srad20110211_13.tif"
       ]
      },
      {
       "output_type": "stream",
       "stream": "stdout",
       "text": [
        "\n",
        "E:\\Data\\WangKun@Mattijn\\outfolder\\srad02//srad20110212_13.tif"
       ]
      },
      {
       "output_type": "stream",
       "stream": "stdout",
       "text": [
        "\n",
        "E:\\Data\\WangKun@Mattijn\\outfolder\\srad02//srad20110213_13.tif"
       ]
      },
      {
       "output_type": "stream",
       "stream": "stdout",
       "text": [
        "\n",
        "E:\\Data\\WangKun@Mattijn\\outfolder\\srad02//srad20110214_13.tif"
       ]
      },
      {
       "output_type": "stream",
       "stream": "stdout",
       "text": [
        "\n",
        "E:\\Data\\WangKun@Mattijn\\outfolder\\srad02//srad20110215_13.tif"
       ]
      },
      {
       "output_type": "stream",
       "stream": "stdout",
       "text": [
        "\n",
        "E:\\Data\\WangKun@Mattijn\\outfolder\\srad02//srad20110216_13.tif"
       ]
      },
      {
       "output_type": "stream",
       "stream": "stdout",
       "text": [
        "\n",
        "E:\\Data\\WangKun@Mattijn\\outfolder\\srad02//srad20110217_13.tif"
       ]
      },
      {
       "output_type": "stream",
       "stream": "stdout",
       "text": [
        "\n",
        "E:\\Data\\WangKun@Mattijn\\outfolder\\srad02//srad20110218_13.tif"
       ]
      },
      {
       "output_type": "stream",
       "stream": "stdout",
       "text": [
        "\n",
        "E:\\Data\\WangKun@Mattijn\\outfolder\\srad02//srad20110219_13.tif"
       ]
      },
      {
       "output_type": "stream",
       "stream": "stdout",
       "text": [
        "\n",
        "E:\\Data\\WangKun@Mattijn\\outfolder\\srad02//srad20110220_13.tif"
       ]
      },
      {
       "output_type": "stream",
       "stream": "stdout",
       "text": [
        "\n",
        "E:\\Data\\WangKun@Mattijn\\outfolder\\srad02//srad20110221_13.tif"
       ]
      },
      {
       "output_type": "stream",
       "stream": "stdout",
       "text": [
        "\n",
        "E:\\Data\\WangKun@Mattijn\\outfolder\\srad02//srad20110222_13.tif"
       ]
      },
      {
       "output_type": "stream",
       "stream": "stdout",
       "text": [
        "\n",
        "E:\\Data\\WangKun@Mattijn\\outfolder\\srad02//srad20110223_13.tif"
       ]
      },
      {
       "output_type": "stream",
       "stream": "stdout",
       "text": [
        "\n",
        "E:\\Data\\WangKun@Mattijn\\outfolder\\srad02//srad20110224_13.tif"
       ]
      },
      {
       "output_type": "stream",
       "stream": "stdout",
       "text": [
        "\n",
        "E:\\Data\\WangKun@Mattijn\\outfolder\\srad02//srad20110225_13.tif"
       ]
      },
      {
       "output_type": "stream",
       "stream": "stdout",
       "text": [
        "\n",
        "E:\\Data\\WangKun@Mattijn\\outfolder\\srad02//srad20110226_13.tif"
       ]
      },
      {
       "output_type": "stream",
       "stream": "stdout",
       "text": [
        "\n",
        "E:\\Data\\WangKun@Mattijn\\outfolder\\srad02//srad20110227_13.tif"
       ]
      },
      {
       "output_type": "stream",
       "stream": "stdout",
       "text": [
        "\n",
        "E:\\Data\\WangKun@Mattijn\\outfolder\\srad02//srad20110228_13.tif"
       ]
      },
      {
       "output_type": "stream",
       "stream": "stdout",
       "text": [
        "\n",
        "E:\\Data\\WangKun@Mattijn\\outfolder\\srad02//srad20110201_14.tif"
       ]
      },
      {
       "output_type": "stream",
       "stream": "stdout",
       "text": [
        "\n",
        "E:\\Data\\WangKun@Mattijn\\outfolder\\srad02//srad20110202_14.tif"
       ]
      },
      {
       "output_type": "stream",
       "stream": "stdout",
       "text": [
        "\n",
        "E:\\Data\\WangKun@Mattijn\\outfolder\\srad02//srad20110203_14.tif"
       ]
      },
      {
       "output_type": "stream",
       "stream": "stdout",
       "text": [
        "\n",
        "E:\\Data\\WangKun@Mattijn\\outfolder\\srad02//srad20110204_14.tif"
       ]
      },
      {
       "output_type": "stream",
       "stream": "stdout",
       "text": [
        "\n",
        "E:\\Data\\WangKun@Mattijn\\outfolder\\srad02//srad20110205_14.tif"
       ]
      },
      {
       "output_type": "stream",
       "stream": "stdout",
       "text": [
        "\n",
        "E:\\Data\\WangKun@Mattijn\\outfolder\\srad02//srad20110206_14.tif"
       ]
      },
      {
       "output_type": "stream",
       "stream": "stdout",
       "text": [
        "\n",
        "E:\\Data\\WangKun@Mattijn\\outfolder\\srad02//srad20110207_14.tif"
       ]
      },
      {
       "output_type": "stream",
       "stream": "stdout",
       "text": [
        "\n",
        "E:\\Data\\WangKun@Mattijn\\outfolder\\srad02//srad20110208_14.tif"
       ]
      },
      {
       "output_type": "stream",
       "stream": "stdout",
       "text": [
        "\n",
        "E:\\Data\\WangKun@Mattijn\\outfolder\\srad02//srad20110209_14.tif"
       ]
      },
      {
       "output_type": "stream",
       "stream": "stdout",
       "text": [
        "\n",
        "E:\\Data\\WangKun@Mattijn\\outfolder\\srad02//srad20110210_14.tif"
       ]
      },
      {
       "output_type": "stream",
       "stream": "stdout",
       "text": [
        "\n",
        "E:\\Data\\WangKun@Mattijn\\outfolder\\srad02//srad20110211_14.tif"
       ]
      },
      {
       "output_type": "stream",
       "stream": "stdout",
       "text": [
        "\n",
        "E:\\Data\\WangKun@Mattijn\\outfolder\\srad02//srad20110212_14.tif"
       ]
      },
      {
       "output_type": "stream",
       "stream": "stdout",
       "text": [
        "\n",
        "E:\\Data\\WangKun@Mattijn\\outfolder\\srad02//srad20110213_14.tif"
       ]
      },
      {
       "output_type": "stream",
       "stream": "stdout",
       "text": [
        "\n",
        "E:\\Data\\WangKun@Mattijn\\outfolder\\srad02//srad20110214_14.tif"
       ]
      },
      {
       "output_type": "stream",
       "stream": "stdout",
       "text": [
        "\n",
        "E:\\Data\\WangKun@Mattijn\\outfolder\\srad02//srad20110215_14.tif"
       ]
      },
      {
       "output_type": "stream",
       "stream": "stdout",
       "text": [
        "\n",
        "E:\\Data\\WangKun@Mattijn\\outfolder\\srad02//srad20110216_14.tif"
       ]
      },
      {
       "output_type": "stream",
       "stream": "stdout",
       "text": [
        "\n",
        "E:\\Data\\WangKun@Mattijn\\outfolder\\srad02//srad20110217_14.tif"
       ]
      },
      {
       "output_type": "stream",
       "stream": "stdout",
       "text": [
        "\n",
        "E:\\Data\\WangKun@Mattijn\\outfolder\\srad02//srad20110218_14.tif"
       ]
      },
      {
       "output_type": "stream",
       "stream": "stdout",
       "text": [
        "\n",
        "E:\\Data\\WangKun@Mattijn\\outfolder\\srad02//srad20110219_14.tif"
       ]
      },
      {
       "output_type": "stream",
       "stream": "stdout",
       "text": [
        "\n",
        "E:\\Data\\WangKun@Mattijn\\outfolder\\srad02//srad20110220_14.tif"
       ]
      },
      {
       "output_type": "stream",
       "stream": "stdout",
       "text": [
        "\n",
        "E:\\Data\\WangKun@Mattijn\\outfolder\\srad02//srad20110221_14.tif"
       ]
      },
      {
       "output_type": "stream",
       "stream": "stdout",
       "text": [
        "\n",
        "E:\\Data\\WangKun@Mattijn\\outfolder\\srad02//srad20110222_14.tif"
       ]
      },
      {
       "output_type": "stream",
       "stream": "stdout",
       "text": [
        "\n",
        "E:\\Data\\WangKun@Mattijn\\outfolder\\srad02//srad20110223_14.tif"
       ]
      },
      {
       "output_type": "stream",
       "stream": "stdout",
       "text": [
        "\n",
        "E:\\Data\\WangKun@Mattijn\\outfolder\\srad02//srad20110224_14.tif"
       ]
      },
      {
       "output_type": "stream",
       "stream": "stdout",
       "text": [
        "\n",
        "E:\\Data\\WangKun@Mattijn\\outfolder\\srad02//srad20110225_14.tif"
       ]
      },
      {
       "output_type": "stream",
       "stream": "stdout",
       "text": [
        "\n",
        "E:\\Data\\WangKun@Mattijn\\outfolder\\srad02//srad20110226_14.tif"
       ]
      },
      {
       "output_type": "stream",
       "stream": "stdout",
       "text": [
        "\n",
        "E:\\Data\\WangKun@Mattijn\\outfolder\\srad02//srad20110227_14.tif"
       ]
      },
      {
       "output_type": "stream",
       "stream": "stdout",
       "text": [
        "\n",
        "E:\\Data\\WangKun@Mattijn\\outfolder\\srad02//srad20110228_14.tif"
       ]
      },
      {
       "output_type": "stream",
       "stream": "stdout",
       "text": [
        "\n",
        "E:\\Data\\WangKun@Mattijn\\outfolder\\srad02//srad20110201_15.tif"
       ]
      },
      {
       "output_type": "stream",
       "stream": "stdout",
       "text": [
        "\n",
        "E:\\Data\\WangKun@Mattijn\\outfolder\\srad02//srad20110202_15.tif"
       ]
      },
      {
       "output_type": "stream",
       "stream": "stdout",
       "text": [
        "\n",
        "E:\\Data\\WangKun@Mattijn\\outfolder\\srad02//srad20110203_15.tif"
       ]
      },
      {
       "output_type": "stream",
       "stream": "stdout",
       "text": [
        "\n",
        "E:\\Data\\WangKun@Mattijn\\outfolder\\srad02//srad20110204_15.tif"
       ]
      },
      {
       "output_type": "stream",
       "stream": "stdout",
       "text": [
        "\n",
        "E:\\Data\\WangKun@Mattijn\\outfolder\\srad02//srad20110205_15.tif"
       ]
      },
      {
       "output_type": "stream",
       "stream": "stdout",
       "text": [
        "\n",
        "E:\\Data\\WangKun@Mattijn\\outfolder\\srad02//srad20110206_15.tif"
       ]
      },
      {
       "output_type": "stream",
       "stream": "stdout",
       "text": [
        "\n",
        "E:\\Data\\WangKun@Mattijn\\outfolder\\srad02//srad20110207_15.tif"
       ]
      },
      {
       "output_type": "stream",
       "stream": "stdout",
       "text": [
        "\n",
        "E:\\Data\\WangKun@Mattijn\\outfolder\\srad02//srad20110208_15.tif"
       ]
      },
      {
       "output_type": "stream",
       "stream": "stdout",
       "text": [
        "\n",
        "E:\\Data\\WangKun@Mattijn\\outfolder\\srad02//srad20110209_15.tif"
       ]
      },
      {
       "output_type": "stream",
       "stream": "stdout",
       "text": [
        "\n",
        "E:\\Data\\WangKun@Mattijn\\outfolder\\srad02//srad20110210_15.tif"
       ]
      },
      {
       "output_type": "stream",
       "stream": "stdout",
       "text": [
        "\n",
        "E:\\Data\\WangKun@Mattijn\\outfolder\\srad02//srad20110211_15.tif"
       ]
      },
      {
       "output_type": "stream",
       "stream": "stdout",
       "text": [
        "\n",
        "E:\\Data\\WangKun@Mattijn\\outfolder\\srad02//srad20110212_15.tif"
       ]
      },
      {
       "output_type": "stream",
       "stream": "stdout",
       "text": [
        "\n",
        "E:\\Data\\WangKun@Mattijn\\outfolder\\srad02//srad20110213_15.tif"
       ]
      },
      {
       "output_type": "stream",
       "stream": "stdout",
       "text": [
        "\n",
        "E:\\Data\\WangKun@Mattijn\\outfolder\\srad02//srad20110214_15.tif"
       ]
      },
      {
       "output_type": "stream",
       "stream": "stdout",
       "text": [
        "\n",
        "E:\\Data\\WangKun@Mattijn\\outfolder\\srad02//srad20110215_15.tif"
       ]
      },
      {
       "output_type": "stream",
       "stream": "stdout",
       "text": [
        "\n",
        "E:\\Data\\WangKun@Mattijn\\outfolder\\srad02//srad20110216_15.tif"
       ]
      },
      {
       "output_type": "stream",
       "stream": "stdout",
       "text": [
        "\n",
        "E:\\Data\\WangKun@Mattijn\\outfolder\\srad02//srad20110217_15.tif"
       ]
      },
      {
       "output_type": "stream",
       "stream": "stdout",
       "text": [
        "\n",
        "E:\\Data\\WangKun@Mattijn\\outfolder\\srad02//srad20110218_15.tif"
       ]
      },
      {
       "output_type": "stream",
       "stream": "stdout",
       "text": [
        "\n",
        "E:\\Data\\WangKun@Mattijn\\outfolder\\srad02//srad20110219_15.tif"
       ]
      },
      {
       "output_type": "stream",
       "stream": "stdout",
       "text": [
        "\n",
        "E:\\Data\\WangKun@Mattijn\\outfolder\\srad02//srad20110220_15.tif"
       ]
      },
      {
       "output_type": "stream",
       "stream": "stdout",
       "text": [
        "\n",
        "E:\\Data\\WangKun@Mattijn\\outfolder\\srad02//srad20110221_15.tif"
       ]
      },
      {
       "output_type": "stream",
       "stream": "stdout",
       "text": [
        "\n",
        "E:\\Data\\WangKun@Mattijn\\outfolder\\srad02//srad20110222_15.tif"
       ]
      },
      {
       "output_type": "stream",
       "stream": "stdout",
       "text": [
        "\n",
        "E:\\Data\\WangKun@Mattijn\\outfolder\\srad02//srad20110223_15.tif"
       ]
      },
      {
       "output_type": "stream",
       "stream": "stdout",
       "text": [
        "\n",
        "E:\\Data\\WangKun@Mattijn\\outfolder\\srad02//srad20110224_15.tif"
       ]
      },
      {
       "output_type": "stream",
       "stream": "stdout",
       "text": [
        "\n",
        "E:\\Data\\WangKun@Mattijn\\outfolder\\srad02//srad20110225_15.tif"
       ]
      },
      {
       "output_type": "stream",
       "stream": "stdout",
       "text": [
        "\n",
        "E:\\Data\\WangKun@Mattijn\\outfolder\\srad02//srad20110226_15.tif"
       ]
      },
      {
       "output_type": "stream",
       "stream": "stdout",
       "text": [
        "\n",
        "E:\\Data\\WangKun@Mattijn\\outfolder\\srad02//srad20110227_15.tif"
       ]
      },
      {
       "output_type": "stream",
       "stream": "stdout",
       "text": [
        "\n",
        "E:\\Data\\WangKun@Mattijn\\outfolder\\srad02//srad20110228_15.tif"
       ]
      },
      {
       "output_type": "stream",
       "stream": "stdout",
       "text": [
        "\n",
        "E:\\Data\\WangKun@Mattijn\\outfolder\\srad02//srad20110201_16.tif"
       ]
      },
      {
       "output_type": "stream",
       "stream": "stdout",
       "text": [
        "\n",
        "E:\\Data\\WangKun@Mattijn\\outfolder\\srad02//srad20110202_16.tif"
       ]
      },
      {
       "output_type": "stream",
       "stream": "stdout",
       "text": [
        "\n",
        "E:\\Data\\WangKun@Mattijn\\outfolder\\srad02//srad20110203_16.tif"
       ]
      },
      {
       "output_type": "stream",
       "stream": "stdout",
       "text": [
        "\n",
        "E:\\Data\\WangKun@Mattijn\\outfolder\\srad02//srad20110204_16.tif"
       ]
      },
      {
       "output_type": "stream",
       "stream": "stdout",
       "text": [
        "\n",
        "E:\\Data\\WangKun@Mattijn\\outfolder\\srad02//srad20110205_16.tif"
       ]
      },
      {
       "output_type": "stream",
       "stream": "stdout",
       "text": [
        "\n",
        "E:\\Data\\WangKun@Mattijn\\outfolder\\srad02//srad20110206_16.tif"
       ]
      },
      {
       "output_type": "stream",
       "stream": "stdout",
       "text": [
        "\n",
        "E:\\Data\\WangKun@Mattijn\\outfolder\\srad02//srad20110207_16.tif"
       ]
      },
      {
       "output_type": "stream",
       "stream": "stdout",
       "text": [
        "\n",
        "E:\\Data\\WangKun@Mattijn\\outfolder\\srad02//srad20110208_16.tif"
       ]
      },
      {
       "output_type": "stream",
       "stream": "stdout",
       "text": [
        "\n",
        "E:\\Data\\WangKun@Mattijn\\outfolder\\srad02//srad20110209_16.tif"
       ]
      },
      {
       "output_type": "stream",
       "stream": "stdout",
       "text": [
        "\n",
        "E:\\Data\\WangKun@Mattijn\\outfolder\\srad02//srad20110210_16.tif"
       ]
      },
      {
       "output_type": "stream",
       "stream": "stdout",
       "text": [
        "\n",
        "E:\\Data\\WangKun@Mattijn\\outfolder\\srad02//srad20110211_16.tif"
       ]
      },
      {
       "output_type": "stream",
       "stream": "stdout",
       "text": [
        "\n",
        "E:\\Data\\WangKun@Mattijn\\outfolder\\srad02//srad20110212_16.tif"
       ]
      },
      {
       "output_type": "stream",
       "stream": "stdout",
       "text": [
        "\n",
        "E:\\Data\\WangKun@Mattijn\\outfolder\\srad02//srad20110213_16.tif"
       ]
      },
      {
       "output_type": "stream",
       "stream": "stdout",
       "text": [
        "\n",
        "E:\\Data\\WangKun@Mattijn\\outfolder\\srad02//srad20110214_16.tif"
       ]
      },
      {
       "output_type": "stream",
       "stream": "stdout",
       "text": [
        "\n",
        "E:\\Data\\WangKun@Mattijn\\outfolder\\srad02//srad20110215_16.tif"
       ]
      },
      {
       "output_type": "stream",
       "stream": "stdout",
       "text": [
        "\n",
        "E:\\Data\\WangKun@Mattijn\\outfolder\\srad02//srad20110216_16.tif"
       ]
      },
      {
       "output_type": "stream",
       "stream": "stdout",
       "text": [
        "\n",
        "E:\\Data\\WangKun@Mattijn\\outfolder\\srad02//srad20110217_16.tif"
       ]
      },
      {
       "output_type": "stream",
       "stream": "stdout",
       "text": [
        "\n",
        "E:\\Data\\WangKun@Mattijn\\outfolder\\srad02//srad20110218_16.tif"
       ]
      },
      {
       "output_type": "stream",
       "stream": "stdout",
       "text": [
        "\n",
        "E:\\Data\\WangKun@Mattijn\\outfolder\\srad02//srad20110219_16.tif"
       ]
      },
      {
       "output_type": "stream",
       "stream": "stdout",
       "text": [
        "\n",
        "E:\\Data\\WangKun@Mattijn\\outfolder\\srad02//srad20110220_16.tif"
       ]
      },
      {
       "output_type": "stream",
       "stream": "stdout",
       "text": [
        "\n",
        "E:\\Data\\WangKun@Mattijn\\outfolder\\srad02//srad20110221_16.tif"
       ]
      },
      {
       "output_type": "stream",
       "stream": "stdout",
       "text": [
        "\n",
        "E:\\Data\\WangKun@Mattijn\\outfolder\\srad02//srad20110222_16.tif"
       ]
      },
      {
       "output_type": "stream",
       "stream": "stdout",
       "text": [
        "\n",
        "E:\\Data\\WangKun@Mattijn\\outfolder\\srad02//srad20110223_16.tif"
       ]
      },
      {
       "output_type": "stream",
       "stream": "stdout",
       "text": [
        "\n",
        "E:\\Data\\WangKun@Mattijn\\outfolder\\srad02//srad20110224_16.tif"
       ]
      },
      {
       "output_type": "stream",
       "stream": "stdout",
       "text": [
        "\n",
        "E:\\Data\\WangKun@Mattijn\\outfolder\\srad02//srad20110225_16.tif"
       ]
      },
      {
       "output_type": "stream",
       "stream": "stdout",
       "text": [
        "\n",
        "E:\\Data\\WangKun@Mattijn\\outfolder\\srad02//srad20110226_16.tif"
       ]
      },
      {
       "output_type": "stream",
       "stream": "stdout",
       "text": [
        "\n",
        "E:\\Data\\WangKun@Mattijn\\outfolder\\srad02//srad20110227_16.tif"
       ]
      },
      {
       "output_type": "stream",
       "stream": "stdout",
       "text": [
        "\n",
        "E:\\Data\\WangKun@Mattijn\\outfolder\\srad02//srad20110228_16.tif"
       ]
      },
      {
       "output_type": "stream",
       "stream": "stdout",
       "text": [
        "\n",
        "E:\\Data\\WangKun@Mattijn\\outfolder\\srad02//srad20110201_17.tif"
       ]
      },
      {
       "output_type": "stream",
       "stream": "stdout",
       "text": [
        "\n",
        "E:\\Data\\WangKun@Mattijn\\outfolder\\srad02//srad20110202_17.tif"
       ]
      },
      {
       "output_type": "stream",
       "stream": "stdout",
       "text": [
        "\n",
        "E:\\Data\\WangKun@Mattijn\\outfolder\\srad02//srad20110203_17.tif"
       ]
      },
      {
       "output_type": "stream",
       "stream": "stdout",
       "text": [
        "\n",
        "E:\\Data\\WangKun@Mattijn\\outfolder\\srad02//srad20110204_17.tif"
       ]
      },
      {
       "output_type": "stream",
       "stream": "stdout",
       "text": [
        "\n",
        "E:\\Data\\WangKun@Mattijn\\outfolder\\srad02//srad20110205_17.tif"
       ]
      },
      {
       "output_type": "stream",
       "stream": "stdout",
       "text": [
        "\n",
        "E:\\Data\\WangKun@Mattijn\\outfolder\\srad02//srad20110206_17.tif"
       ]
      },
      {
       "output_type": "stream",
       "stream": "stdout",
       "text": [
        "\n",
        "E:\\Data\\WangKun@Mattijn\\outfolder\\srad02//srad20110207_17.tif"
       ]
      },
      {
       "output_type": "stream",
       "stream": "stdout",
       "text": [
        "\n",
        "E:\\Data\\WangKun@Mattijn\\outfolder\\srad02//srad20110208_17.tif"
       ]
      },
      {
       "output_type": "stream",
       "stream": "stdout",
       "text": [
        "\n",
        "E:\\Data\\WangKun@Mattijn\\outfolder\\srad02//srad20110209_17.tif"
       ]
      },
      {
       "output_type": "stream",
       "stream": "stdout",
       "text": [
        "\n",
        "E:\\Data\\WangKun@Mattijn\\outfolder\\srad02//srad20110210_17.tif"
       ]
      },
      {
       "output_type": "stream",
       "stream": "stdout",
       "text": [
        "\n",
        "E:\\Data\\WangKun@Mattijn\\outfolder\\srad02//srad20110211_17.tif"
       ]
      },
      {
       "output_type": "stream",
       "stream": "stdout",
       "text": [
        "\n",
        "E:\\Data\\WangKun@Mattijn\\outfolder\\srad02//srad20110212_17.tif"
       ]
      },
      {
       "output_type": "stream",
       "stream": "stdout",
       "text": [
        "\n",
        "E:\\Data\\WangKun@Mattijn\\outfolder\\srad02//srad20110213_17.tif"
       ]
      },
      {
       "output_type": "stream",
       "stream": "stdout",
       "text": [
        "\n",
        "E:\\Data\\WangKun@Mattijn\\outfolder\\srad02//srad20110214_17.tif"
       ]
      },
      {
       "output_type": "stream",
       "stream": "stdout",
       "text": [
        "\n",
        "E:\\Data\\WangKun@Mattijn\\outfolder\\srad02//srad20110215_17.tif"
       ]
      },
      {
       "output_type": "stream",
       "stream": "stdout",
       "text": [
        "\n",
        "E:\\Data\\WangKun@Mattijn\\outfolder\\srad02//srad20110216_17.tif"
       ]
      },
      {
       "output_type": "stream",
       "stream": "stdout",
       "text": [
        "\n",
        "E:\\Data\\WangKun@Mattijn\\outfolder\\srad02//srad20110217_17.tif"
       ]
      },
      {
       "output_type": "stream",
       "stream": "stdout",
       "text": [
        "\n",
        "E:\\Data\\WangKun@Mattijn\\outfolder\\srad02//srad20110218_17.tif"
       ]
      },
      {
       "output_type": "stream",
       "stream": "stdout",
       "text": [
        "\n",
        "E:\\Data\\WangKun@Mattijn\\outfolder\\srad02//srad20110219_17.tif"
       ]
      },
      {
       "output_type": "stream",
       "stream": "stdout",
       "text": [
        "\n",
        "E:\\Data\\WangKun@Mattijn\\outfolder\\srad02//srad20110220_17.tif"
       ]
      },
      {
       "output_type": "stream",
       "stream": "stdout",
       "text": [
        "\n",
        "E:\\Data\\WangKun@Mattijn\\outfolder\\srad02//srad20110221_17.tif"
       ]
      },
      {
       "output_type": "stream",
       "stream": "stdout",
       "text": [
        "\n",
        "E:\\Data\\WangKun@Mattijn\\outfolder\\srad02//srad20110222_17.tif"
       ]
      },
      {
       "output_type": "stream",
       "stream": "stdout",
       "text": [
        "\n",
        "E:\\Data\\WangKun@Mattijn\\outfolder\\srad02//srad20110223_17.tif"
       ]
      },
      {
       "output_type": "stream",
       "stream": "stdout",
       "text": [
        "\n",
        "E:\\Data\\WangKun@Mattijn\\outfolder\\srad02//srad20110224_17.tif"
       ]
      },
      {
       "output_type": "stream",
       "stream": "stdout",
       "text": [
        "\n",
        "E:\\Data\\WangKun@Mattijn\\outfolder\\srad02//srad20110225_17.tif"
       ]
      },
      {
       "output_type": "stream",
       "stream": "stdout",
       "text": [
        "\n",
        "E:\\Data\\WangKun@Mattijn\\outfolder\\srad02//srad20110226_17.tif"
       ]
      },
      {
       "output_type": "stream",
       "stream": "stdout",
       "text": [
        "\n",
        "E:\\Data\\WangKun@Mattijn\\outfolder\\srad02//srad20110227_17.tif"
       ]
      },
      {
       "output_type": "stream",
       "stream": "stdout",
       "text": [
        "\n",
        "E:\\Data\\WangKun@Mattijn\\outfolder\\srad02//srad20110228_17.tif"
       ]
      },
      {
       "output_type": "stream",
       "stream": "stdout",
       "text": [
        "\n",
        "E:\\Data\\WangKun@Mattijn\\outfolder\\srad02//srad20110201_18.tif"
       ]
      },
      {
       "output_type": "stream",
       "stream": "stdout",
       "text": [
        "\n",
        "E:\\Data\\WangKun@Mattijn\\outfolder\\srad02//srad20110202_18.tif"
       ]
      },
      {
       "output_type": "stream",
       "stream": "stdout",
       "text": [
        "\n",
        "E:\\Data\\WangKun@Mattijn\\outfolder\\srad02//srad20110203_18.tif"
       ]
      },
      {
       "output_type": "stream",
       "stream": "stdout",
       "text": [
        "\n",
        "E:\\Data\\WangKun@Mattijn\\outfolder\\srad02//srad20110204_18.tif"
       ]
      },
      {
       "output_type": "stream",
       "stream": "stdout",
       "text": [
        "\n",
        "E:\\Data\\WangKun@Mattijn\\outfolder\\srad02//srad20110205_18.tif"
       ]
      },
      {
       "output_type": "stream",
       "stream": "stdout",
       "text": [
        "\n",
        "E:\\Data\\WangKun@Mattijn\\outfolder\\srad02//srad20110206_18.tif"
       ]
      },
      {
       "output_type": "stream",
       "stream": "stdout",
       "text": [
        "\n",
        "E:\\Data\\WangKun@Mattijn\\outfolder\\srad02//srad20110207_18.tif"
       ]
      },
      {
       "output_type": "stream",
       "stream": "stdout",
       "text": [
        "\n",
        "E:\\Data\\WangKun@Mattijn\\outfolder\\srad02//srad20110208_18.tif"
       ]
      },
      {
       "output_type": "stream",
       "stream": "stdout",
       "text": [
        "\n",
        "E:\\Data\\WangKun@Mattijn\\outfolder\\srad02//srad20110209_18.tif"
       ]
      },
      {
       "output_type": "stream",
       "stream": "stdout",
       "text": [
        "\n",
        "E:\\Data\\WangKun@Mattijn\\outfolder\\srad02//srad20110210_18.tif"
       ]
      },
      {
       "output_type": "stream",
       "stream": "stdout",
       "text": [
        "\n",
        "E:\\Data\\WangKun@Mattijn\\outfolder\\srad02//srad20110211_18.tif"
       ]
      },
      {
       "output_type": "stream",
       "stream": "stdout",
       "text": [
        "\n",
        "E:\\Data\\WangKun@Mattijn\\outfolder\\srad02//srad20110212_18.tif"
       ]
      },
      {
       "output_type": "stream",
       "stream": "stdout",
       "text": [
        "\n",
        "E:\\Data\\WangKun@Mattijn\\outfolder\\srad02//srad20110213_18.tif"
       ]
      },
      {
       "output_type": "stream",
       "stream": "stdout",
       "text": [
        "\n",
        "E:\\Data\\WangKun@Mattijn\\outfolder\\srad02//srad20110214_18.tif"
       ]
      },
      {
       "output_type": "stream",
       "stream": "stdout",
       "text": [
        "\n",
        "E:\\Data\\WangKun@Mattijn\\outfolder\\srad02//srad20110215_18.tif"
       ]
      },
      {
       "output_type": "stream",
       "stream": "stdout",
       "text": [
        "\n",
        "E:\\Data\\WangKun@Mattijn\\outfolder\\srad02//srad20110216_18.tif"
       ]
      },
      {
       "output_type": "stream",
       "stream": "stdout",
       "text": [
        "\n",
        "E:\\Data\\WangKun@Mattijn\\outfolder\\srad02//srad20110217_18.tif"
       ]
      },
      {
       "output_type": "stream",
       "stream": "stdout",
       "text": [
        "\n",
        "E:\\Data\\WangKun@Mattijn\\outfolder\\srad02//srad20110218_18.tif"
       ]
      },
      {
       "output_type": "stream",
       "stream": "stdout",
       "text": [
        "\n",
        "E:\\Data\\WangKun@Mattijn\\outfolder\\srad02//srad20110219_18.tif"
       ]
      },
      {
       "output_type": "stream",
       "stream": "stdout",
       "text": [
        "\n",
        "E:\\Data\\WangKun@Mattijn\\outfolder\\srad02//srad20110220_18.tif"
       ]
      },
      {
       "output_type": "stream",
       "stream": "stdout",
       "text": [
        "\n",
        "E:\\Data\\WangKun@Mattijn\\outfolder\\srad02//srad20110221_18.tif"
       ]
      },
      {
       "output_type": "stream",
       "stream": "stdout",
       "text": [
        "\n",
        "E:\\Data\\WangKun@Mattijn\\outfolder\\srad02//srad20110222_18.tif"
       ]
      },
      {
       "output_type": "stream",
       "stream": "stdout",
       "text": [
        "\n",
        "E:\\Data\\WangKun@Mattijn\\outfolder\\srad02//srad20110223_18.tif"
       ]
      },
      {
       "output_type": "stream",
       "stream": "stdout",
       "text": [
        "\n",
        "E:\\Data\\WangKun@Mattijn\\outfolder\\srad02//srad20110224_18.tif"
       ]
      },
      {
       "output_type": "stream",
       "stream": "stdout",
       "text": [
        "\n",
        "E:\\Data\\WangKun@Mattijn\\outfolder\\srad02//srad20110225_18.tif"
       ]
      },
      {
       "output_type": "stream",
       "stream": "stdout",
       "text": [
        "\n",
        "E:\\Data\\WangKun@Mattijn\\outfolder\\srad02//srad20110226_18.tif"
       ]
      },
      {
       "output_type": "stream",
       "stream": "stdout",
       "text": [
        "\n",
        "E:\\Data\\WangKun@Mattijn\\outfolder\\srad02//srad20110227_18.tif"
       ]
      },
      {
       "output_type": "stream",
       "stream": "stdout",
       "text": [
        "\n",
        "E:\\Data\\WangKun@Mattijn\\outfolder\\srad02//srad20110228_18.tif"
       ]
      },
      {
       "output_type": "stream",
       "stream": "stdout",
       "text": [
        "\n",
        "E:\\Data\\WangKun@Mattijn\\outfolder\\srad02//srad20110201_19.tif"
       ]
      },
      {
       "output_type": "stream",
       "stream": "stdout",
       "text": [
        "\n",
        "E:\\Data\\WangKun@Mattijn\\outfolder\\srad02//srad20110202_19.tif"
       ]
      },
      {
       "output_type": "stream",
       "stream": "stdout",
       "text": [
        "\n",
        "E:\\Data\\WangKun@Mattijn\\outfolder\\srad02//srad20110203_19.tif"
       ]
      },
      {
       "output_type": "stream",
       "stream": "stdout",
       "text": [
        "\n",
        "E:\\Data\\WangKun@Mattijn\\outfolder\\srad02//srad20110204_19.tif"
       ]
      },
      {
       "output_type": "stream",
       "stream": "stdout",
       "text": [
        "\n",
        "E:\\Data\\WangKun@Mattijn\\outfolder\\srad02//srad20110205_19.tif"
       ]
      },
      {
       "output_type": "stream",
       "stream": "stdout",
       "text": [
        "\n",
        "E:\\Data\\WangKun@Mattijn\\outfolder\\srad02//srad20110206_19.tif"
       ]
      },
      {
       "output_type": "stream",
       "stream": "stdout",
       "text": [
        "\n",
        "E:\\Data\\WangKun@Mattijn\\outfolder\\srad02//srad20110207_19.tif"
       ]
      },
      {
       "output_type": "stream",
       "stream": "stdout",
       "text": [
        "\n",
        "E:\\Data\\WangKun@Mattijn\\outfolder\\srad02//srad20110208_19.tif"
       ]
      },
      {
       "output_type": "stream",
       "stream": "stdout",
       "text": [
        "\n",
        "E:\\Data\\WangKun@Mattijn\\outfolder\\srad02//srad20110209_19.tif"
       ]
      },
      {
       "output_type": "stream",
       "stream": "stdout",
       "text": [
        "\n",
        "E:\\Data\\WangKun@Mattijn\\outfolder\\srad02//srad20110210_19.tif"
       ]
      },
      {
       "output_type": "stream",
       "stream": "stdout",
       "text": [
        "\n",
        "E:\\Data\\WangKun@Mattijn\\outfolder\\srad02//srad20110211_19.tif"
       ]
      },
      {
       "output_type": "stream",
       "stream": "stdout",
       "text": [
        "\n",
        "E:\\Data\\WangKun@Mattijn\\outfolder\\srad02//srad20110212_19.tif"
       ]
      },
      {
       "output_type": "stream",
       "stream": "stdout",
       "text": [
        "\n",
        "E:\\Data\\WangKun@Mattijn\\outfolder\\srad02//srad20110213_19.tif"
       ]
      },
      {
       "output_type": "stream",
       "stream": "stdout",
       "text": [
        "\n",
        "E:\\Data\\WangKun@Mattijn\\outfolder\\srad02//srad20110214_19.tif"
       ]
      },
      {
       "output_type": "stream",
       "stream": "stdout",
       "text": [
        "\n",
        "E:\\Data\\WangKun@Mattijn\\outfolder\\srad02//srad20110215_19.tif"
       ]
      },
      {
       "output_type": "stream",
       "stream": "stdout",
       "text": [
        "\n",
        "E:\\Data\\WangKun@Mattijn\\outfolder\\srad02//srad20110216_19.tif"
       ]
      },
      {
       "output_type": "stream",
       "stream": "stdout",
       "text": [
        "\n",
        "E:\\Data\\WangKun@Mattijn\\outfolder\\srad02//srad20110217_19.tif"
       ]
      },
      {
       "output_type": "stream",
       "stream": "stdout",
       "text": [
        "\n",
        "E:\\Data\\WangKun@Mattijn\\outfolder\\srad02//srad20110218_19.tif"
       ]
      },
      {
       "output_type": "stream",
       "stream": "stdout",
       "text": [
        "\n",
        "E:\\Data\\WangKun@Mattijn\\outfolder\\srad02//srad20110219_19.tif"
       ]
      },
      {
       "output_type": "stream",
       "stream": "stdout",
       "text": [
        "\n",
        "E:\\Data\\WangKun@Mattijn\\outfolder\\srad02//srad20110220_19.tif"
       ]
      },
      {
       "output_type": "stream",
       "stream": "stdout",
       "text": [
        "\n",
        "E:\\Data\\WangKun@Mattijn\\outfolder\\srad02//srad20110221_19.tif"
       ]
      },
      {
       "output_type": "stream",
       "stream": "stdout",
       "text": [
        "\n",
        "E:\\Data\\WangKun@Mattijn\\outfolder\\srad02//srad20110222_19.tif"
       ]
      },
      {
       "output_type": "stream",
       "stream": "stdout",
       "text": [
        "\n",
        "E:\\Data\\WangKun@Mattijn\\outfolder\\srad02//srad20110223_19.tif"
       ]
      },
      {
       "output_type": "stream",
       "stream": "stdout",
       "text": [
        "\n",
        "E:\\Data\\WangKun@Mattijn\\outfolder\\srad02//srad20110224_19.tif"
       ]
      },
      {
       "output_type": "stream",
       "stream": "stdout",
       "text": [
        "\n",
        "E:\\Data\\WangKun@Mattijn\\outfolder\\srad02//srad20110225_19.tif"
       ]
      },
      {
       "output_type": "stream",
       "stream": "stdout",
       "text": [
        "\n",
        "E:\\Data\\WangKun@Mattijn\\outfolder\\srad02//srad20110226_19.tif"
       ]
      },
      {
       "output_type": "stream",
       "stream": "stdout",
       "text": [
        "\n",
        "E:\\Data\\WangKun@Mattijn\\outfolder\\srad02//srad20110227_19.tif"
       ]
      },
      {
       "output_type": "stream",
       "stream": "stdout",
       "text": [
        "\n",
        "E:\\Data\\WangKun@Mattijn\\outfolder\\srad02//srad20110228_19.tif"
       ]
      },
      {
       "output_type": "stream",
       "stream": "stdout",
       "text": [
        "\n",
        "E:\\Data\\WangKun@Mattijn\\outfolder\\srad02//srad20110201_02.tif"
       ]
      },
      {
       "output_type": "stream",
       "stream": "stdout",
       "text": [
        "\n",
        "E:\\Data\\WangKun@Mattijn\\outfolder\\srad02//srad20110202_02.tif"
       ]
      },
      {
       "output_type": "stream",
       "stream": "stdout",
       "text": [
        "\n",
        "E:\\Data\\WangKun@Mattijn\\outfolder\\srad02//srad20110203_02.tif"
       ]
      },
      {
       "output_type": "stream",
       "stream": "stdout",
       "text": [
        "\n",
        "E:\\Data\\WangKun@Mattijn\\outfolder\\srad02//srad20110204_02.tif"
       ]
      },
      {
       "output_type": "stream",
       "stream": "stdout",
       "text": [
        "\n",
        "E:\\Data\\WangKun@Mattijn\\outfolder\\srad02//srad20110205_02.tif"
       ]
      },
      {
       "output_type": "stream",
       "stream": "stdout",
       "text": [
        "\n",
        "E:\\Data\\WangKun@Mattijn\\outfolder\\srad02//srad20110206_02.tif"
       ]
      },
      {
       "output_type": "stream",
       "stream": "stdout",
       "text": [
        "\n",
        "E:\\Data\\WangKun@Mattijn\\outfolder\\srad02//srad20110207_02.tif"
       ]
      },
      {
       "output_type": "stream",
       "stream": "stdout",
       "text": [
        "\n",
        "E:\\Data\\WangKun@Mattijn\\outfolder\\srad02//srad20110208_02.tif"
       ]
      },
      {
       "output_type": "stream",
       "stream": "stdout",
       "text": [
        "\n",
        "E:\\Data\\WangKun@Mattijn\\outfolder\\srad02//srad20110209_02.tif"
       ]
      },
      {
       "output_type": "stream",
       "stream": "stdout",
       "text": [
        "\n",
        "E:\\Data\\WangKun@Mattijn\\outfolder\\srad02//srad20110210_02.tif"
       ]
      },
      {
       "output_type": "stream",
       "stream": "stdout",
       "text": [
        "\n",
        "E:\\Data\\WangKun@Mattijn\\outfolder\\srad02//srad20110211_02.tif"
       ]
      },
      {
       "output_type": "stream",
       "stream": "stdout",
       "text": [
        "\n",
        "E:\\Data\\WangKun@Mattijn\\outfolder\\srad02//srad20110212_02.tif"
       ]
      },
      {
       "output_type": "stream",
       "stream": "stdout",
       "text": [
        "\n",
        "E:\\Data\\WangKun@Mattijn\\outfolder\\srad02//srad20110213_02.tif"
       ]
      },
      {
       "output_type": "stream",
       "stream": "stdout",
       "text": [
        "\n",
        "E:\\Data\\WangKun@Mattijn\\outfolder\\srad02//srad20110214_02.tif"
       ]
      },
      {
       "output_type": "stream",
       "stream": "stdout",
       "text": [
        "\n",
        "E:\\Data\\WangKun@Mattijn\\outfolder\\srad02//srad20110215_02.tif"
       ]
      },
      {
       "output_type": "stream",
       "stream": "stdout",
       "text": [
        "\n",
        "E:\\Data\\WangKun@Mattijn\\outfolder\\srad02//srad20110216_02.tif"
       ]
      },
      {
       "output_type": "stream",
       "stream": "stdout",
       "text": [
        "\n",
        "E:\\Data\\WangKun@Mattijn\\outfolder\\srad02//srad20110217_02.tif"
       ]
      },
      {
       "output_type": "stream",
       "stream": "stdout",
       "text": [
        "\n",
        "E:\\Data\\WangKun@Mattijn\\outfolder\\srad02//srad20110218_02.tif"
       ]
      },
      {
       "output_type": "stream",
       "stream": "stdout",
       "text": [
        "\n",
        "E:\\Data\\WangKun@Mattijn\\outfolder\\srad02//srad20110219_02.tif"
       ]
      },
      {
       "output_type": "stream",
       "stream": "stdout",
       "text": [
        "\n",
        "E:\\Data\\WangKun@Mattijn\\outfolder\\srad02//srad20110220_02.tif"
       ]
      },
      {
       "output_type": "stream",
       "stream": "stdout",
       "text": [
        "\n",
        "E:\\Data\\WangKun@Mattijn\\outfolder\\srad02//srad20110221_02.tif"
       ]
      },
      {
       "output_type": "stream",
       "stream": "stdout",
       "text": [
        "\n",
        "E:\\Data\\WangKun@Mattijn\\outfolder\\srad02//srad20110222_02.tif"
       ]
      },
      {
       "output_type": "stream",
       "stream": "stdout",
       "text": [
        "\n",
        "E:\\Data\\WangKun@Mattijn\\outfolder\\srad02//srad20110223_02.tif"
       ]
      },
      {
       "output_type": "stream",
       "stream": "stdout",
       "text": [
        "\n",
        "E:\\Data\\WangKun@Mattijn\\outfolder\\srad02//srad20110224_02.tif"
       ]
      },
      {
       "output_type": "stream",
       "stream": "stdout",
       "text": [
        "\n",
        "E:\\Data\\WangKun@Mattijn\\outfolder\\srad02//srad20110225_02.tif"
       ]
      },
      {
       "output_type": "stream",
       "stream": "stdout",
       "text": [
        "\n",
        "E:\\Data\\WangKun@Mattijn\\outfolder\\srad02//srad20110226_02.tif"
       ]
      },
      {
       "output_type": "stream",
       "stream": "stdout",
       "text": [
        "\n",
        "E:\\Data\\WangKun@Mattijn\\outfolder\\srad02//srad20110227_02.tif"
       ]
      },
      {
       "output_type": "stream",
       "stream": "stdout",
       "text": [
        "\n",
        "E:\\Data\\WangKun@Mattijn\\outfolder\\srad02//srad20110228_02.tif"
       ]
      },
      {
       "output_type": "stream",
       "stream": "stdout",
       "text": [
        "\n",
        "E:\\Data\\WangKun@Mattijn\\outfolder\\srad02//srad20110201_20.tif"
       ]
      },
      {
       "output_type": "stream",
       "stream": "stdout",
       "text": [
        "\n",
        "E:\\Data\\WangKun@Mattijn\\outfolder\\srad02//srad20110202_20.tif"
       ]
      },
      {
       "output_type": "stream",
       "stream": "stdout",
       "text": [
        "\n",
        "E:\\Data\\WangKun@Mattijn\\outfolder\\srad02//srad20110203_20.tif"
       ]
      },
      {
       "output_type": "stream",
       "stream": "stdout",
       "text": [
        "\n",
        "E:\\Data\\WangKun@Mattijn\\outfolder\\srad02//srad20110204_20.tif"
       ]
      },
      {
       "output_type": "stream",
       "stream": "stdout",
       "text": [
        "\n",
        "E:\\Data\\WangKun@Mattijn\\outfolder\\srad02//srad20110205_20.tif"
       ]
      },
      {
       "output_type": "stream",
       "stream": "stdout",
       "text": [
        "\n",
        "E:\\Data\\WangKun@Mattijn\\outfolder\\srad02//srad20110206_20.tif"
       ]
      },
      {
       "output_type": "stream",
       "stream": "stdout",
       "text": [
        "\n",
        "E:\\Data\\WangKun@Mattijn\\outfolder\\srad02//srad20110207_20.tif"
       ]
      },
      {
       "output_type": "stream",
       "stream": "stdout",
       "text": [
        "\n",
        "E:\\Data\\WangKun@Mattijn\\outfolder\\srad02//srad20110208_20.tif"
       ]
      },
      {
       "output_type": "stream",
       "stream": "stdout",
       "text": [
        "\n",
        "E:\\Data\\WangKun@Mattijn\\outfolder\\srad02//srad20110209_20.tif"
       ]
      },
      {
       "output_type": "stream",
       "stream": "stdout",
       "text": [
        "\n",
        "E:\\Data\\WangKun@Mattijn\\outfolder\\srad02//srad20110210_20.tif"
       ]
      },
      {
       "output_type": "stream",
       "stream": "stdout",
       "text": [
        "\n",
        "E:\\Data\\WangKun@Mattijn\\outfolder\\srad02//srad20110211_20.tif"
       ]
      },
      {
       "output_type": "stream",
       "stream": "stdout",
       "text": [
        "\n",
        "E:\\Data\\WangKun@Mattijn\\outfolder\\srad02//srad20110212_20.tif"
       ]
      },
      {
       "output_type": "stream",
       "stream": "stdout",
       "text": [
        "\n",
        "E:\\Data\\WangKun@Mattijn\\outfolder\\srad02//srad20110213_20.tif"
       ]
      },
      {
       "output_type": "stream",
       "stream": "stdout",
       "text": [
        "\n",
        "E:\\Data\\WangKun@Mattijn\\outfolder\\srad02//srad20110214_20.tif"
       ]
      },
      {
       "output_type": "stream",
       "stream": "stdout",
       "text": [
        "\n",
        "E:\\Data\\WangKun@Mattijn\\outfolder\\srad02//srad20110215_20.tif"
       ]
      },
      {
       "output_type": "stream",
       "stream": "stdout",
       "text": [
        "\n",
        "E:\\Data\\WangKun@Mattijn\\outfolder\\srad02//srad20110216_20.tif"
       ]
      },
      {
       "output_type": "stream",
       "stream": "stdout",
       "text": [
        "\n",
        "E:\\Data\\WangKun@Mattijn\\outfolder\\srad02//srad20110217_20.tif"
       ]
      },
      {
       "output_type": "stream",
       "stream": "stdout",
       "text": [
        "\n",
        "E:\\Data\\WangKun@Mattijn\\outfolder\\srad02//srad20110218_20.tif"
       ]
      },
      {
       "output_type": "stream",
       "stream": "stdout",
       "text": [
        "\n",
        "E:\\Data\\WangKun@Mattijn\\outfolder\\srad02//srad20110219_20.tif"
       ]
      },
      {
       "output_type": "stream",
       "stream": "stdout",
       "text": [
        "\n",
        "E:\\Data\\WangKun@Mattijn\\outfolder\\srad02//srad20110220_20.tif"
       ]
      },
      {
       "output_type": "stream",
       "stream": "stdout",
       "text": [
        "\n",
        "E:\\Data\\WangKun@Mattijn\\outfolder\\srad02//srad20110221_20.tif"
       ]
      },
      {
       "output_type": "stream",
       "stream": "stdout",
       "text": [
        "\n",
        "E:\\Data\\WangKun@Mattijn\\outfolder\\srad02//srad20110222_20.tif"
       ]
      },
      {
       "output_type": "stream",
       "stream": "stdout",
       "text": [
        "\n",
        "E:\\Data\\WangKun@Mattijn\\outfolder\\srad02//srad20110223_20.tif"
       ]
      },
      {
       "output_type": "stream",
       "stream": "stdout",
       "text": [
        "\n",
        "E:\\Data\\WangKun@Mattijn\\outfolder\\srad02//srad20110224_20.tif"
       ]
      },
      {
       "output_type": "stream",
       "stream": "stdout",
       "text": [
        "\n",
        "E:\\Data\\WangKun@Mattijn\\outfolder\\srad02//srad20110225_20.tif"
       ]
      },
      {
       "output_type": "stream",
       "stream": "stdout",
       "text": [
        "\n",
        "E:\\Data\\WangKun@Mattijn\\outfolder\\srad02//srad20110226_20.tif"
       ]
      },
      {
       "output_type": "stream",
       "stream": "stdout",
       "text": [
        "\n",
        "E:\\Data\\WangKun@Mattijn\\outfolder\\srad02//srad20110227_20.tif"
       ]
      },
      {
       "output_type": "stream",
       "stream": "stdout",
       "text": [
        "\n",
        "E:\\Data\\WangKun@Mattijn\\outfolder\\srad02//srad20110228_20.tif"
       ]
      },
      {
       "output_type": "stream",
       "stream": "stdout",
       "text": [
        "\n",
        "E:\\Data\\WangKun@Mattijn\\outfolder\\srad02//srad20110201_21.tif"
       ]
      },
      {
       "output_type": "stream",
       "stream": "stdout",
       "text": [
        "\n",
        "E:\\Data\\WangKun@Mattijn\\outfolder\\srad02//srad20110202_21.tif"
       ]
      },
      {
       "output_type": "stream",
       "stream": "stdout",
       "text": [
        "\n",
        "E:\\Data\\WangKun@Mattijn\\outfolder\\srad02//srad20110203_21.tif"
       ]
      },
      {
       "output_type": "stream",
       "stream": "stdout",
       "text": [
        "\n",
        "E:\\Data\\WangKun@Mattijn\\outfolder\\srad02//srad20110204_21.tif"
       ]
      },
      {
       "output_type": "stream",
       "stream": "stdout",
       "text": [
        "\n",
        "E:\\Data\\WangKun@Mattijn\\outfolder\\srad02//srad20110205_21.tif"
       ]
      },
      {
       "output_type": "stream",
       "stream": "stdout",
       "text": [
        "\n",
        "E:\\Data\\WangKun@Mattijn\\outfolder\\srad02//srad20110206_21.tif"
       ]
      },
      {
       "output_type": "stream",
       "stream": "stdout",
       "text": [
        "\n",
        "E:\\Data\\WangKun@Mattijn\\outfolder\\srad02//srad20110207_21.tif"
       ]
      },
      {
       "output_type": "stream",
       "stream": "stdout",
       "text": [
        "\n",
        "E:\\Data\\WangKun@Mattijn\\outfolder\\srad02//srad20110208_21.tif"
       ]
      },
      {
       "output_type": "stream",
       "stream": "stdout",
       "text": [
        "\n",
        "E:\\Data\\WangKun@Mattijn\\outfolder\\srad02//srad20110209_21.tif"
       ]
      },
      {
       "output_type": "stream",
       "stream": "stdout",
       "text": [
        "\n",
        "E:\\Data\\WangKun@Mattijn\\outfolder\\srad02//srad20110210_21.tif"
       ]
      },
      {
       "output_type": "stream",
       "stream": "stdout",
       "text": [
        "\n",
        "E:\\Data\\WangKun@Mattijn\\outfolder\\srad02//srad20110211_21.tif"
       ]
      },
      {
       "output_type": "stream",
       "stream": "stdout",
       "text": [
        "\n",
        "E:\\Data\\WangKun@Mattijn\\outfolder\\srad02//srad20110212_21.tif"
       ]
      },
      {
       "output_type": "stream",
       "stream": "stdout",
       "text": [
        "\n",
        "E:\\Data\\WangKun@Mattijn\\outfolder\\srad02//srad20110213_21.tif"
       ]
      },
      {
       "output_type": "stream",
       "stream": "stdout",
       "text": [
        "\n",
        "E:\\Data\\WangKun@Mattijn\\outfolder\\srad02//srad20110214_21.tif"
       ]
      },
      {
       "output_type": "stream",
       "stream": "stdout",
       "text": [
        "\n",
        "E:\\Data\\WangKun@Mattijn\\outfolder\\srad02//srad20110215_21.tif"
       ]
      },
      {
       "output_type": "stream",
       "stream": "stdout",
       "text": [
        "\n",
        "E:\\Data\\WangKun@Mattijn\\outfolder\\srad02//srad20110216_21.tif"
       ]
      },
      {
       "output_type": "stream",
       "stream": "stdout",
       "text": [
        "\n",
        "E:\\Data\\WangKun@Mattijn\\outfolder\\srad02//srad20110217_21.tif"
       ]
      },
      {
       "output_type": "stream",
       "stream": "stdout",
       "text": [
        "\n",
        "E:\\Data\\WangKun@Mattijn\\outfolder\\srad02//srad20110218_21.tif"
       ]
      },
      {
       "output_type": "stream",
       "stream": "stdout",
       "text": [
        "\n",
        "E:\\Data\\WangKun@Mattijn\\outfolder\\srad02//srad20110219_21.tif"
       ]
      },
      {
       "output_type": "stream",
       "stream": "stdout",
       "text": [
        "\n",
        "E:\\Data\\WangKun@Mattijn\\outfolder\\srad02//srad20110220_21.tif"
       ]
      },
      {
       "output_type": "stream",
       "stream": "stdout",
       "text": [
        "\n",
        "E:\\Data\\WangKun@Mattijn\\outfolder\\srad02//srad20110221_21.tif"
       ]
      },
      {
       "output_type": "stream",
       "stream": "stdout",
       "text": [
        "\n",
        "E:\\Data\\WangKun@Mattijn\\outfolder\\srad02//srad20110222_21.tif"
       ]
      },
      {
       "output_type": "stream",
       "stream": "stdout",
       "text": [
        "\n",
        "E:\\Data\\WangKun@Mattijn\\outfolder\\srad02//srad20110223_21.tif"
       ]
      },
      {
       "output_type": "stream",
       "stream": "stdout",
       "text": [
        "\n",
        "E:\\Data\\WangKun@Mattijn\\outfolder\\srad02//srad20110224_21.tif"
       ]
      },
      {
       "output_type": "stream",
       "stream": "stdout",
       "text": [
        "\n",
        "E:\\Data\\WangKun@Mattijn\\outfolder\\srad02//srad20110225_21.tif"
       ]
      },
      {
       "output_type": "stream",
       "stream": "stdout",
       "text": [
        "\n",
        "E:\\Data\\WangKun@Mattijn\\outfolder\\srad02//srad20110226_21.tif"
       ]
      },
      {
       "output_type": "stream",
       "stream": "stdout",
       "text": [
        "\n",
        "E:\\Data\\WangKun@Mattijn\\outfolder\\srad02//srad20110227_21.tif"
       ]
      },
      {
       "output_type": "stream",
       "stream": "stdout",
       "text": [
        "\n",
        "E:\\Data\\WangKun@Mattijn\\outfolder\\srad02//srad20110228_21.tif"
       ]
      },
      {
       "output_type": "stream",
       "stream": "stdout",
       "text": [
        "\n",
        "E:\\Data\\WangKun@Mattijn\\outfolder\\srad02//srad20110201_22.tif"
       ]
      },
      {
       "output_type": "stream",
       "stream": "stdout",
       "text": [
        "\n",
        "E:\\Data\\WangKun@Mattijn\\outfolder\\srad02//srad20110202_22.tif"
       ]
      },
      {
       "output_type": "stream",
       "stream": "stdout",
       "text": [
        "\n",
        "E:\\Data\\WangKun@Mattijn\\outfolder\\srad02//srad20110203_22.tif"
       ]
      },
      {
       "output_type": "stream",
       "stream": "stdout",
       "text": [
        "\n",
        "E:\\Data\\WangKun@Mattijn\\outfolder\\srad02//srad20110204_22.tif"
       ]
      },
      {
       "output_type": "stream",
       "stream": "stdout",
       "text": [
        "\n",
        "E:\\Data\\WangKun@Mattijn\\outfolder\\srad02//srad20110205_22.tif"
       ]
      },
      {
       "output_type": "stream",
       "stream": "stdout",
       "text": [
        "\n",
        "E:\\Data\\WangKun@Mattijn\\outfolder\\srad02//srad20110206_22.tif"
       ]
      },
      {
       "output_type": "stream",
       "stream": "stdout",
       "text": [
        "\n",
        "E:\\Data\\WangKun@Mattijn\\outfolder\\srad02//srad20110207_22.tif"
       ]
      },
      {
       "output_type": "stream",
       "stream": "stdout",
       "text": [
        "\n",
        "E:\\Data\\WangKun@Mattijn\\outfolder\\srad02//srad20110208_22.tif"
       ]
      },
      {
       "output_type": "stream",
       "stream": "stdout",
       "text": [
        "\n",
        "E:\\Data\\WangKun@Mattijn\\outfolder\\srad02//srad20110209_22.tif"
       ]
      },
      {
       "output_type": "stream",
       "stream": "stdout",
       "text": [
        "\n",
        "E:\\Data\\WangKun@Mattijn\\outfolder\\srad02//srad20110210_22.tif"
       ]
      },
      {
       "output_type": "stream",
       "stream": "stdout",
       "text": [
        "\n",
        "E:\\Data\\WangKun@Mattijn\\outfolder\\srad02//srad20110211_22.tif"
       ]
      },
      {
       "output_type": "stream",
       "stream": "stdout",
       "text": [
        "\n",
        "E:\\Data\\WangKun@Mattijn\\outfolder\\srad02//srad20110212_22.tif"
       ]
      },
      {
       "output_type": "stream",
       "stream": "stdout",
       "text": [
        "\n",
        "E:\\Data\\WangKun@Mattijn\\outfolder\\srad02//srad20110213_22.tif"
       ]
      },
      {
       "output_type": "stream",
       "stream": "stdout",
       "text": [
        "\n",
        "E:\\Data\\WangKun@Mattijn\\outfolder\\srad02//srad20110214_22.tif"
       ]
      },
      {
       "output_type": "stream",
       "stream": "stdout",
       "text": [
        "\n",
        "E:\\Data\\WangKun@Mattijn\\outfolder\\srad02//srad20110215_22.tif"
       ]
      },
      {
       "output_type": "stream",
       "stream": "stdout",
       "text": [
        "\n",
        "E:\\Data\\WangKun@Mattijn\\outfolder\\srad02//srad20110216_22.tif"
       ]
      },
      {
       "output_type": "stream",
       "stream": "stdout",
       "text": [
        "\n",
        "E:\\Data\\WangKun@Mattijn\\outfolder\\srad02//srad20110217_22.tif"
       ]
      },
      {
       "output_type": "stream",
       "stream": "stdout",
       "text": [
        "\n",
        "E:\\Data\\WangKun@Mattijn\\outfolder\\srad02//srad20110218_22.tif"
       ]
      },
      {
       "output_type": "stream",
       "stream": "stdout",
       "text": [
        "\n",
        "E:\\Data\\WangKun@Mattijn\\outfolder\\srad02//srad20110219_22.tif"
       ]
      },
      {
       "output_type": "stream",
       "stream": "stdout",
       "text": [
        "\n",
        "E:\\Data\\WangKun@Mattijn\\outfolder\\srad02//srad20110220_22.tif"
       ]
      },
      {
       "output_type": "stream",
       "stream": "stdout",
       "text": [
        "\n",
        "E:\\Data\\WangKun@Mattijn\\outfolder\\srad02//srad20110221_22.tif"
       ]
      },
      {
       "output_type": "stream",
       "stream": "stdout",
       "text": [
        "\n",
        "E:\\Data\\WangKun@Mattijn\\outfolder\\srad02//srad20110222_22.tif"
       ]
      },
      {
       "output_type": "stream",
       "stream": "stdout",
       "text": [
        "\n",
        "E:\\Data\\WangKun@Mattijn\\outfolder\\srad02//srad20110223_22.tif"
       ]
      },
      {
       "output_type": "stream",
       "stream": "stdout",
       "text": [
        "\n",
        "E:\\Data\\WangKun@Mattijn\\outfolder\\srad02//srad20110224_22.tif"
       ]
      },
      {
       "output_type": "stream",
       "stream": "stdout",
       "text": [
        "\n",
        "E:\\Data\\WangKun@Mattijn\\outfolder\\srad02//srad20110225_22.tif"
       ]
      },
      {
       "output_type": "stream",
       "stream": "stdout",
       "text": [
        "\n",
        "E:\\Data\\WangKun@Mattijn\\outfolder\\srad02//srad20110226_22.tif"
       ]
      },
      {
       "output_type": "stream",
       "stream": "stdout",
       "text": [
        "\n",
        "E:\\Data\\WangKun@Mattijn\\outfolder\\srad02//srad20110227_22.tif"
       ]
      },
      {
       "output_type": "stream",
       "stream": "stdout",
       "text": [
        "\n",
        "E:\\Data\\WangKun@Mattijn\\outfolder\\srad02//srad20110228_22.tif"
       ]
      },
      {
       "output_type": "stream",
       "stream": "stdout",
       "text": [
        "\n",
        "E:\\Data\\WangKun@Mattijn\\outfolder\\srad02//srad20110201_23.tif"
       ]
      },
      {
       "output_type": "stream",
       "stream": "stdout",
       "text": [
        "\n",
        "E:\\Data\\WangKun@Mattijn\\outfolder\\srad02//srad20110202_23.tif"
       ]
      },
      {
       "output_type": "stream",
       "stream": "stdout",
       "text": [
        "\n",
        "E:\\Data\\WangKun@Mattijn\\outfolder\\srad02//srad20110203_23.tif"
       ]
      },
      {
       "output_type": "stream",
       "stream": "stdout",
       "text": [
        "\n",
        "E:\\Data\\WangKun@Mattijn\\outfolder\\srad02//srad20110204_23.tif"
       ]
      },
      {
       "output_type": "stream",
       "stream": "stdout",
       "text": [
        "\n",
        "E:\\Data\\WangKun@Mattijn\\outfolder\\srad02//srad20110205_23.tif"
       ]
      },
      {
       "output_type": "stream",
       "stream": "stdout",
       "text": [
        "\n",
        "E:\\Data\\WangKun@Mattijn\\outfolder\\srad02//srad20110206_23.tif"
       ]
      },
      {
       "output_type": "stream",
       "stream": "stdout",
       "text": [
        "\n",
        "E:\\Data\\WangKun@Mattijn\\outfolder\\srad02//srad20110207_23.tif"
       ]
      },
      {
       "output_type": "stream",
       "stream": "stdout",
       "text": [
        "\n",
        "E:\\Data\\WangKun@Mattijn\\outfolder\\srad02//srad20110208_23.tif"
       ]
      },
      {
       "output_type": "stream",
       "stream": "stdout",
       "text": [
        "\n",
        "E:\\Data\\WangKun@Mattijn\\outfolder\\srad02//srad20110209_23.tif"
       ]
      },
      {
       "output_type": "stream",
       "stream": "stdout",
       "text": [
        "\n",
        "E:\\Data\\WangKun@Mattijn\\outfolder\\srad02//srad20110210_23.tif"
       ]
      },
      {
       "output_type": "stream",
       "stream": "stdout",
       "text": [
        "\n",
        "E:\\Data\\WangKun@Mattijn\\outfolder\\srad02//srad20110211_23.tif"
       ]
      },
      {
       "output_type": "stream",
       "stream": "stdout",
       "text": [
        "\n",
        "E:\\Data\\WangKun@Mattijn\\outfolder\\srad02//srad20110212_23.tif"
       ]
      },
      {
       "output_type": "stream",
       "stream": "stdout",
       "text": [
        "\n",
        "E:\\Data\\WangKun@Mattijn\\outfolder\\srad02//srad20110213_23.tif"
       ]
      },
      {
       "output_type": "stream",
       "stream": "stdout",
       "text": [
        "\n",
        "E:\\Data\\WangKun@Mattijn\\outfolder\\srad02//srad20110214_23.tif"
       ]
      },
      {
       "output_type": "stream",
       "stream": "stdout",
       "text": [
        "\n",
        "E:\\Data\\WangKun@Mattijn\\outfolder\\srad02//srad20110215_23.tif"
       ]
      },
      {
       "output_type": "stream",
       "stream": "stdout",
       "text": [
        "\n",
        "E:\\Data\\WangKun@Mattijn\\outfolder\\srad02//srad20110216_23.tif"
       ]
      },
      {
       "output_type": "stream",
       "stream": "stdout",
       "text": [
        "\n",
        "E:\\Data\\WangKun@Mattijn\\outfolder\\srad02//srad20110217_23.tif"
       ]
      },
      {
       "output_type": "stream",
       "stream": "stdout",
       "text": [
        "\n",
        "E:\\Data\\WangKun@Mattijn\\outfolder\\srad02//srad20110218_23.tif"
       ]
      },
      {
       "output_type": "stream",
       "stream": "stdout",
       "text": [
        "\n",
        "E:\\Data\\WangKun@Mattijn\\outfolder\\srad02//srad20110219_23.tif"
       ]
      },
      {
       "output_type": "stream",
       "stream": "stdout",
       "text": [
        "\n",
        "E:\\Data\\WangKun@Mattijn\\outfolder\\srad02//srad20110220_23.tif"
       ]
      },
      {
       "output_type": "stream",
       "stream": "stdout",
       "text": [
        "\n",
        "E:\\Data\\WangKun@Mattijn\\outfolder\\srad02//srad20110221_23.tif"
       ]
      },
      {
       "output_type": "stream",
       "stream": "stdout",
       "text": [
        "\n",
        "E:\\Data\\WangKun@Mattijn\\outfolder\\srad02//srad20110222_23.tif"
       ]
      },
      {
       "output_type": "stream",
       "stream": "stdout",
       "text": [
        "\n",
        "E:\\Data\\WangKun@Mattijn\\outfolder\\srad02//srad20110223_23.tif"
       ]
      },
      {
       "output_type": "stream",
       "stream": "stdout",
       "text": [
        "\n",
        "E:\\Data\\WangKun@Mattijn\\outfolder\\srad02//srad20110224_23.tif"
       ]
      },
      {
       "output_type": "stream",
       "stream": "stdout",
       "text": [
        "\n",
        "E:\\Data\\WangKun@Mattijn\\outfolder\\srad02//srad20110225_23.tif"
       ]
      },
      {
       "output_type": "stream",
       "stream": "stdout",
       "text": [
        "\n",
        "E:\\Data\\WangKun@Mattijn\\outfolder\\srad02//srad20110226_23.tif"
       ]
      },
      {
       "output_type": "stream",
       "stream": "stdout",
       "text": [
        "\n",
        "E:\\Data\\WangKun@Mattijn\\outfolder\\srad02//srad20110227_23.tif"
       ]
      },
      {
       "output_type": "stream",
       "stream": "stdout",
       "text": [
        "\n",
        "E:\\Data\\WangKun@Mattijn\\outfolder\\srad02//srad20110228_23.tif"
       ]
      },
      {
       "output_type": "stream",
       "stream": "stdout",
       "text": [
        "\n",
        "E:\\Data\\WangKun@Mattijn\\outfolder\\srad02//srad20110201_24.tif"
       ]
      },
      {
       "output_type": "stream",
       "stream": "stdout",
       "text": [
        "\n",
        "E:\\Data\\WangKun@Mattijn\\outfolder\\srad02//srad20110202_24.tif"
       ]
      },
      {
       "output_type": "stream",
       "stream": "stdout",
       "text": [
        "\n",
        "E:\\Data\\WangKun@Mattijn\\outfolder\\srad02//srad20110203_24.tif"
       ]
      },
      {
       "output_type": "stream",
       "stream": "stdout",
       "text": [
        "\n",
        "E:\\Data\\WangKun@Mattijn\\outfolder\\srad02//srad20110204_24.tif"
       ]
      },
      {
       "output_type": "stream",
       "stream": "stdout",
       "text": [
        "\n",
        "E:\\Data\\WangKun@Mattijn\\outfolder\\srad02//srad20110205_24.tif"
       ]
      },
      {
       "output_type": "stream",
       "stream": "stdout",
       "text": [
        "\n",
        "E:\\Data\\WangKun@Mattijn\\outfolder\\srad02//srad20110206_24.tif"
       ]
      },
      {
       "output_type": "stream",
       "stream": "stdout",
       "text": [
        "\n",
        "E:\\Data\\WangKun@Mattijn\\outfolder\\srad02//srad20110207_24.tif"
       ]
      },
      {
       "output_type": "stream",
       "stream": "stdout",
       "text": [
        "\n",
        "E:\\Data\\WangKun@Mattijn\\outfolder\\srad02//srad20110208_24.tif"
       ]
      },
      {
       "output_type": "stream",
       "stream": "stdout",
       "text": [
        "\n",
        "E:\\Data\\WangKun@Mattijn\\outfolder\\srad02//srad20110209_24.tif"
       ]
      },
      {
       "output_type": "stream",
       "stream": "stdout",
       "text": [
        "\n",
        "E:\\Data\\WangKun@Mattijn\\outfolder\\srad02//srad20110210_24.tif"
       ]
      },
      {
       "output_type": "stream",
       "stream": "stdout",
       "text": [
        "\n",
        "E:\\Data\\WangKun@Mattijn\\outfolder\\srad02//srad20110211_24.tif"
       ]
      },
      {
       "output_type": "stream",
       "stream": "stdout",
       "text": [
        "\n",
        "E:\\Data\\WangKun@Mattijn\\outfolder\\srad02//srad20110212_24.tif"
       ]
      },
      {
       "output_type": "stream",
       "stream": "stdout",
       "text": [
        "\n",
        "E:\\Data\\WangKun@Mattijn\\outfolder\\srad02//srad20110213_24.tif"
       ]
      },
      {
       "output_type": "stream",
       "stream": "stdout",
       "text": [
        "\n",
        "E:\\Data\\WangKun@Mattijn\\outfolder\\srad02//srad20110214_24.tif"
       ]
      },
      {
       "output_type": "stream",
       "stream": "stdout",
       "text": [
        "\n",
        "E:\\Data\\WangKun@Mattijn\\outfolder\\srad02//srad20110215_24.tif"
       ]
      },
      {
       "output_type": "stream",
       "stream": "stdout",
       "text": [
        "\n",
        "E:\\Data\\WangKun@Mattijn\\outfolder\\srad02//srad20110216_24.tif"
       ]
      },
      {
       "output_type": "stream",
       "stream": "stdout",
       "text": [
        "\n",
        "E:\\Data\\WangKun@Mattijn\\outfolder\\srad02//srad20110217_24.tif"
       ]
      },
      {
       "output_type": "stream",
       "stream": "stdout",
       "text": [
        "\n",
        "E:\\Data\\WangKun@Mattijn\\outfolder\\srad02//srad20110218_24.tif"
       ]
      },
      {
       "output_type": "stream",
       "stream": "stdout",
       "text": [
        "\n",
        "E:\\Data\\WangKun@Mattijn\\outfolder\\srad02//srad20110219_24.tif"
       ]
      },
      {
       "output_type": "stream",
       "stream": "stdout",
       "text": [
        "\n",
        "E:\\Data\\WangKun@Mattijn\\outfolder\\srad02//srad20110220_24.tif"
       ]
      },
      {
       "output_type": "stream",
       "stream": "stdout",
       "text": [
        "\n",
        "E:\\Data\\WangKun@Mattijn\\outfolder\\srad02//srad20110221_24.tif"
       ]
      },
      {
       "output_type": "stream",
       "stream": "stdout",
       "text": [
        "\n",
        "E:\\Data\\WangKun@Mattijn\\outfolder\\srad02//srad20110222_24.tif"
       ]
      },
      {
       "output_type": "stream",
       "stream": "stdout",
       "text": [
        "\n",
        "E:\\Data\\WangKun@Mattijn\\outfolder\\srad02//srad20110223_24.tif"
       ]
      },
      {
       "output_type": "stream",
       "stream": "stdout",
       "text": [
        "\n",
        "E:\\Data\\WangKun@Mattijn\\outfolder\\srad02//srad20110224_24.tif"
       ]
      },
      {
       "output_type": "stream",
       "stream": "stdout",
       "text": [
        "\n",
        "E:\\Data\\WangKun@Mattijn\\outfolder\\srad02//srad20110225_24.tif"
       ]
      },
      {
       "output_type": "stream",
       "stream": "stdout",
       "text": [
        "\n",
        "E:\\Data\\WangKun@Mattijn\\outfolder\\srad02//srad20110226_24.tif"
       ]
      },
      {
       "output_type": "stream",
       "stream": "stdout",
       "text": [
        "\n",
        "E:\\Data\\WangKun@Mattijn\\outfolder\\srad02//srad20110227_24.tif"
       ]
      },
      {
       "output_type": "stream",
       "stream": "stdout",
       "text": [
        "\n",
        "E:\\Data\\WangKun@Mattijn\\outfolder\\srad02//srad20110228_24.tif"
       ]
      },
      {
       "output_type": "stream",
       "stream": "stdout",
       "text": [
        "\n",
        "E:\\Data\\WangKun@Mattijn\\outfolder\\srad02//srad20110201_03.tif"
       ]
      },
      {
       "output_type": "stream",
       "stream": "stdout",
       "text": [
        "\n",
        "E:\\Data\\WangKun@Mattijn\\outfolder\\srad02//srad20110202_03.tif"
       ]
      },
      {
       "output_type": "stream",
       "stream": "stdout",
       "text": [
        "\n",
        "E:\\Data\\WangKun@Mattijn\\outfolder\\srad02//srad20110203_03.tif"
       ]
      },
      {
       "output_type": "stream",
       "stream": "stdout",
       "text": [
        "\n",
        "E:\\Data\\WangKun@Mattijn\\outfolder\\srad02//srad20110204_03.tif"
       ]
      },
      {
       "output_type": "stream",
       "stream": "stdout",
       "text": [
        "\n",
        "E:\\Data\\WangKun@Mattijn\\outfolder\\srad02//srad20110205_03.tif"
       ]
      },
      {
       "output_type": "stream",
       "stream": "stdout",
       "text": [
        "\n",
        "E:\\Data\\WangKun@Mattijn\\outfolder\\srad02//srad20110206_03.tif"
       ]
      },
      {
       "output_type": "stream",
       "stream": "stdout",
       "text": [
        "\n",
        "E:\\Data\\WangKun@Mattijn\\outfolder\\srad02//srad20110207_03.tif"
       ]
      },
      {
       "output_type": "stream",
       "stream": "stdout",
       "text": [
        "\n",
        "E:\\Data\\WangKun@Mattijn\\outfolder\\srad02//srad20110208_03.tif"
       ]
      },
      {
       "output_type": "stream",
       "stream": "stdout",
       "text": [
        "\n",
        "E:\\Data\\WangKun@Mattijn\\outfolder\\srad02//srad20110209_03.tif"
       ]
      },
      {
       "output_type": "stream",
       "stream": "stdout",
       "text": [
        "\n",
        "E:\\Data\\WangKun@Mattijn\\outfolder\\srad02//srad20110210_03.tif"
       ]
      },
      {
       "output_type": "stream",
       "stream": "stdout",
       "text": [
        "\n",
        "E:\\Data\\WangKun@Mattijn\\outfolder\\srad02//srad20110211_03.tif"
       ]
      },
      {
       "output_type": "stream",
       "stream": "stdout",
       "text": [
        "\n",
        "E:\\Data\\WangKun@Mattijn\\outfolder\\srad02//srad20110212_03.tif"
       ]
      },
      {
       "output_type": "stream",
       "stream": "stdout",
       "text": [
        "\n",
        "E:\\Data\\WangKun@Mattijn\\outfolder\\srad02//srad20110213_03.tif"
       ]
      },
      {
       "output_type": "stream",
       "stream": "stdout",
       "text": [
        "\n",
        "E:\\Data\\WangKun@Mattijn\\outfolder\\srad02//srad20110214_03.tif"
       ]
      },
      {
       "output_type": "stream",
       "stream": "stdout",
       "text": [
        "\n",
        "E:\\Data\\WangKun@Mattijn\\outfolder\\srad02//srad20110215_03.tif"
       ]
      },
      {
       "output_type": "stream",
       "stream": "stdout",
       "text": [
        "\n",
        "E:\\Data\\WangKun@Mattijn\\outfolder\\srad02//srad20110216_03.tif"
       ]
      },
      {
       "output_type": "stream",
       "stream": "stdout",
       "text": [
        "\n",
        "E:\\Data\\WangKun@Mattijn\\outfolder\\srad02//srad20110217_03.tif"
       ]
      },
      {
       "output_type": "stream",
       "stream": "stdout",
       "text": [
        "\n",
        "E:\\Data\\WangKun@Mattijn\\outfolder\\srad02//srad20110218_03.tif"
       ]
      },
      {
       "output_type": "stream",
       "stream": "stdout",
       "text": [
        "\n",
        "E:\\Data\\WangKun@Mattijn\\outfolder\\srad02//srad20110219_03.tif"
       ]
      },
      {
       "output_type": "stream",
       "stream": "stdout",
       "text": [
        "\n",
        "E:\\Data\\WangKun@Mattijn\\outfolder\\srad02//srad20110220_03.tif"
       ]
      },
      {
       "output_type": "stream",
       "stream": "stdout",
       "text": [
        "\n",
        "E:\\Data\\WangKun@Mattijn\\outfolder\\srad02//srad20110221_03.tif"
       ]
      },
      {
       "output_type": "stream",
       "stream": "stdout",
       "text": [
        "\n",
        "E:\\Data\\WangKun@Mattijn\\outfolder\\srad02//srad20110222_03.tif"
       ]
      },
      {
       "output_type": "stream",
       "stream": "stdout",
       "text": [
        "\n",
        "E:\\Data\\WangKun@Mattijn\\outfolder\\srad02//srad20110223_03.tif"
       ]
      },
      {
       "output_type": "stream",
       "stream": "stdout",
       "text": [
        "\n",
        "E:\\Data\\WangKun@Mattijn\\outfolder\\srad02//srad20110224_03.tif"
       ]
      },
      {
       "output_type": "stream",
       "stream": "stdout",
       "text": [
        "\n",
        "E:\\Data\\WangKun@Mattijn\\outfolder\\srad02//srad20110225_03.tif"
       ]
      },
      {
       "output_type": "stream",
       "stream": "stdout",
       "text": [
        "\n",
        "E:\\Data\\WangKun@Mattijn\\outfolder\\srad02//srad20110226_03.tif"
       ]
      },
      {
       "output_type": "stream",
       "stream": "stdout",
       "text": [
        "\n",
        "E:\\Data\\WangKun@Mattijn\\outfolder\\srad02//srad20110227_03.tif"
       ]
      },
      {
       "output_type": "stream",
       "stream": "stdout",
       "text": [
        "\n",
        "E:\\Data\\WangKun@Mattijn\\outfolder\\srad02//srad20110228_03.tif"
       ]
      },
      {
       "output_type": "stream",
       "stream": "stdout",
       "text": [
        "\n",
        "E:\\Data\\WangKun@Mattijn\\outfolder\\srad02//srad20110201_04.tif"
       ]
      },
      {
       "output_type": "stream",
       "stream": "stdout",
       "text": [
        "\n",
        "E:\\Data\\WangKun@Mattijn\\outfolder\\srad02//srad20110202_04.tif"
       ]
      },
      {
       "output_type": "stream",
       "stream": "stdout",
       "text": [
        "\n",
        "E:\\Data\\WangKun@Mattijn\\outfolder\\srad02//srad20110203_04.tif"
       ]
      },
      {
       "output_type": "stream",
       "stream": "stdout",
       "text": [
        "\n",
        "E:\\Data\\WangKun@Mattijn\\outfolder\\srad02//srad20110204_04.tif"
       ]
      },
      {
       "output_type": "stream",
       "stream": "stdout",
       "text": [
        "\n",
        "E:\\Data\\WangKun@Mattijn\\outfolder\\srad02//srad20110205_04.tif"
       ]
      },
      {
       "output_type": "stream",
       "stream": "stdout",
       "text": [
        "\n",
        "E:\\Data\\WangKun@Mattijn\\outfolder\\srad02//srad20110206_04.tif"
       ]
      },
      {
       "output_type": "stream",
       "stream": "stdout",
       "text": [
        "\n",
        "E:\\Data\\WangKun@Mattijn\\outfolder\\srad02//srad20110207_04.tif"
       ]
      },
      {
       "output_type": "stream",
       "stream": "stdout",
       "text": [
        "\n",
        "E:\\Data\\WangKun@Mattijn\\outfolder\\srad02//srad20110208_04.tif"
       ]
      },
      {
       "output_type": "stream",
       "stream": "stdout",
       "text": [
        "\n",
        "E:\\Data\\WangKun@Mattijn\\outfolder\\srad02//srad20110209_04.tif"
       ]
      },
      {
       "output_type": "stream",
       "stream": "stdout",
       "text": [
        "\n",
        "E:\\Data\\WangKun@Mattijn\\outfolder\\srad02//srad20110210_04.tif"
       ]
      },
      {
       "output_type": "stream",
       "stream": "stdout",
       "text": [
        "\n",
        "E:\\Data\\WangKun@Mattijn\\outfolder\\srad02//srad20110211_04.tif"
       ]
      },
      {
       "output_type": "stream",
       "stream": "stdout",
       "text": [
        "\n",
        "E:\\Data\\WangKun@Mattijn\\outfolder\\srad02//srad20110212_04.tif"
       ]
      },
      {
       "output_type": "stream",
       "stream": "stdout",
       "text": [
        "\n",
        "E:\\Data\\WangKun@Mattijn\\outfolder\\srad02//srad20110213_04.tif"
       ]
      },
      {
       "output_type": "stream",
       "stream": "stdout",
       "text": [
        "\n",
        "E:\\Data\\WangKun@Mattijn\\outfolder\\srad02//srad20110214_04.tif"
       ]
      },
      {
       "output_type": "stream",
       "stream": "stdout",
       "text": [
        "\n",
        "E:\\Data\\WangKun@Mattijn\\outfolder\\srad02//srad20110215_04.tif"
       ]
      },
      {
       "output_type": "stream",
       "stream": "stdout",
       "text": [
        "\n",
        "E:\\Data\\WangKun@Mattijn\\outfolder\\srad02//srad20110216_04.tif"
       ]
      },
      {
       "output_type": "stream",
       "stream": "stdout",
       "text": [
        "\n",
        "E:\\Data\\WangKun@Mattijn\\outfolder\\srad02//srad20110217_04.tif"
       ]
      },
      {
       "output_type": "stream",
       "stream": "stdout",
       "text": [
        "\n",
        "E:\\Data\\WangKun@Mattijn\\outfolder\\srad02//srad20110218_04.tif"
       ]
      },
      {
       "output_type": "stream",
       "stream": "stdout",
       "text": [
        "\n",
        "E:\\Data\\WangKun@Mattijn\\outfolder\\srad02//srad20110219_04.tif"
       ]
      },
      {
       "output_type": "stream",
       "stream": "stdout",
       "text": [
        "\n",
        "E:\\Data\\WangKun@Mattijn\\outfolder\\srad02//srad20110220_04.tif"
       ]
      },
      {
       "output_type": "stream",
       "stream": "stdout",
       "text": [
        "\n",
        "E:\\Data\\WangKun@Mattijn\\outfolder\\srad02//srad20110221_04.tif"
       ]
      },
      {
       "output_type": "stream",
       "stream": "stdout",
       "text": [
        "\n",
        "E:\\Data\\WangKun@Mattijn\\outfolder\\srad02//srad20110222_04.tif"
       ]
      },
      {
       "output_type": "stream",
       "stream": "stdout",
       "text": [
        "\n",
        "E:\\Data\\WangKun@Mattijn\\outfolder\\srad02//srad20110223_04.tif"
       ]
      },
      {
       "output_type": "stream",
       "stream": "stdout",
       "text": [
        "\n",
        "E:\\Data\\WangKun@Mattijn\\outfolder\\srad02//srad20110224_04.tif"
       ]
      },
      {
       "output_type": "stream",
       "stream": "stdout",
       "text": [
        "\n",
        "E:\\Data\\WangKun@Mattijn\\outfolder\\srad02//srad20110225_04.tif"
       ]
      },
      {
       "output_type": "stream",
       "stream": "stdout",
       "text": [
        "\n",
        "E:\\Data\\WangKun@Mattijn\\outfolder\\srad02//srad20110226_04.tif"
       ]
      },
      {
       "output_type": "stream",
       "stream": "stdout",
       "text": [
        "\n",
        "E:\\Data\\WangKun@Mattijn\\outfolder\\srad02//srad20110227_04.tif"
       ]
      },
      {
       "output_type": "stream",
       "stream": "stdout",
       "text": [
        "\n",
        "E:\\Data\\WangKun@Mattijn\\outfolder\\srad02//srad20110228_04.tif"
       ]
      },
      {
       "output_type": "stream",
       "stream": "stdout",
       "text": [
        "\n",
        "E:\\Data\\WangKun@Mattijn\\outfolder\\srad02//srad20110201_05.tif"
       ]
      },
      {
       "output_type": "stream",
       "stream": "stdout",
       "text": [
        "\n",
        "E:\\Data\\WangKun@Mattijn\\outfolder\\srad02//srad20110202_05.tif"
       ]
      },
      {
       "output_type": "stream",
       "stream": "stdout",
       "text": [
        "\n",
        "E:\\Data\\WangKun@Mattijn\\outfolder\\srad02//srad20110203_05.tif"
       ]
      },
      {
       "output_type": "stream",
       "stream": "stdout",
       "text": [
        "\n",
        "E:\\Data\\WangKun@Mattijn\\outfolder\\srad02//srad20110204_05.tif"
       ]
      },
      {
       "output_type": "stream",
       "stream": "stdout",
       "text": [
        "\n",
        "E:\\Data\\WangKun@Mattijn\\outfolder\\srad02//srad20110205_05.tif"
       ]
      },
      {
       "output_type": "stream",
       "stream": "stdout",
       "text": [
        "\n",
        "E:\\Data\\WangKun@Mattijn\\outfolder\\srad02//srad20110206_05.tif"
       ]
      },
      {
       "output_type": "stream",
       "stream": "stdout",
       "text": [
        "\n",
        "E:\\Data\\WangKun@Mattijn\\outfolder\\srad02//srad20110207_05.tif"
       ]
      },
      {
       "output_type": "stream",
       "stream": "stdout",
       "text": [
        "\n",
        "E:\\Data\\WangKun@Mattijn\\outfolder\\srad02//srad20110208_05.tif"
       ]
      },
      {
       "output_type": "stream",
       "stream": "stdout",
       "text": [
        "\n",
        "E:\\Data\\WangKun@Mattijn\\outfolder\\srad02//srad20110209_05.tif"
       ]
      },
      {
       "output_type": "stream",
       "stream": "stdout",
       "text": [
        "\n",
        "E:\\Data\\WangKun@Mattijn\\outfolder\\srad02//srad20110210_05.tif"
       ]
      },
      {
       "output_type": "stream",
       "stream": "stdout",
       "text": [
        "\n",
        "E:\\Data\\WangKun@Mattijn\\outfolder\\srad02//srad20110211_05.tif"
       ]
      },
      {
       "output_type": "stream",
       "stream": "stdout",
       "text": [
        "\n",
        "E:\\Data\\WangKun@Mattijn\\outfolder\\srad02//srad20110212_05.tif"
       ]
      },
      {
       "output_type": "stream",
       "stream": "stdout",
       "text": [
        "\n",
        "E:\\Data\\WangKun@Mattijn\\outfolder\\srad02//srad20110213_05.tif"
       ]
      },
      {
       "output_type": "stream",
       "stream": "stdout",
       "text": [
        "\n",
        "E:\\Data\\WangKun@Mattijn\\outfolder\\srad02//srad20110214_05.tif"
       ]
      },
      {
       "output_type": "stream",
       "stream": "stdout",
       "text": [
        "\n",
        "E:\\Data\\WangKun@Mattijn\\outfolder\\srad02//srad20110215_05.tif"
       ]
      },
      {
       "output_type": "stream",
       "stream": "stdout",
       "text": [
        "\n",
        "E:\\Data\\WangKun@Mattijn\\outfolder\\srad02//srad20110216_05.tif"
       ]
      },
      {
       "output_type": "stream",
       "stream": "stdout",
       "text": [
        "\n",
        "E:\\Data\\WangKun@Mattijn\\outfolder\\srad02//srad20110217_05.tif"
       ]
      },
      {
       "output_type": "stream",
       "stream": "stdout",
       "text": [
        "\n",
        "E:\\Data\\WangKun@Mattijn\\outfolder\\srad02//srad20110218_05.tif"
       ]
      },
      {
       "output_type": "stream",
       "stream": "stdout",
       "text": [
        "\n",
        "E:\\Data\\WangKun@Mattijn\\outfolder\\srad02//srad20110219_05.tif"
       ]
      },
      {
       "output_type": "stream",
       "stream": "stdout",
       "text": [
        "\n",
        "E:\\Data\\WangKun@Mattijn\\outfolder\\srad02//srad20110220_05.tif"
       ]
      },
      {
       "output_type": "stream",
       "stream": "stdout",
       "text": [
        "\n",
        "E:\\Data\\WangKun@Mattijn\\outfolder\\srad02//srad20110221_05.tif"
       ]
      },
      {
       "output_type": "stream",
       "stream": "stdout",
       "text": [
        "\n",
        "E:\\Data\\WangKun@Mattijn\\outfolder\\srad02//srad20110222_05.tif"
       ]
      },
      {
       "output_type": "stream",
       "stream": "stdout",
       "text": [
        "\n",
        "E:\\Data\\WangKun@Mattijn\\outfolder\\srad02//srad20110223_05.tif"
       ]
      },
      {
       "output_type": "stream",
       "stream": "stdout",
       "text": [
        "\n",
        "E:\\Data\\WangKun@Mattijn\\outfolder\\srad02//srad20110224_05.tif"
       ]
      },
      {
       "output_type": "stream",
       "stream": "stdout",
       "text": [
        "\n",
        "E:\\Data\\WangKun@Mattijn\\outfolder\\srad02//srad20110225_05.tif"
       ]
      },
      {
       "output_type": "stream",
       "stream": "stdout",
       "text": [
        "\n",
        "E:\\Data\\WangKun@Mattijn\\outfolder\\srad02//srad20110226_05.tif"
       ]
      },
      {
       "output_type": "stream",
       "stream": "stdout",
       "text": [
        "\n",
        "E:\\Data\\WangKun@Mattijn\\outfolder\\srad02//srad20110227_05.tif"
       ]
      },
      {
       "output_type": "stream",
       "stream": "stdout",
       "text": [
        "\n",
        "E:\\Data\\WangKun@Mattijn\\outfolder\\srad02//srad20110228_05.tif"
       ]
      },
      {
       "output_type": "stream",
       "stream": "stdout",
       "text": [
        "\n",
        "E:\\Data\\WangKun@Mattijn\\outfolder\\srad02//srad20110201_06.tif"
       ]
      },
      {
       "output_type": "stream",
       "stream": "stdout",
       "text": [
        "\n",
        "E:\\Data\\WangKun@Mattijn\\outfolder\\srad02//srad20110202_06.tif"
       ]
      },
      {
       "output_type": "stream",
       "stream": "stdout",
       "text": [
        "\n",
        "E:\\Data\\WangKun@Mattijn\\outfolder\\srad02//srad20110203_06.tif"
       ]
      },
      {
       "output_type": "stream",
       "stream": "stdout",
       "text": [
        "\n",
        "E:\\Data\\WangKun@Mattijn\\outfolder\\srad02//srad20110204_06.tif"
       ]
      },
      {
       "output_type": "stream",
       "stream": "stdout",
       "text": [
        "\n",
        "E:\\Data\\WangKun@Mattijn\\outfolder\\srad02//srad20110205_06.tif"
       ]
      },
      {
       "output_type": "stream",
       "stream": "stdout",
       "text": [
        "\n",
        "E:\\Data\\WangKun@Mattijn\\outfolder\\srad02//srad20110206_06.tif"
       ]
      },
      {
       "output_type": "stream",
       "stream": "stdout",
       "text": [
        "\n",
        "E:\\Data\\WangKun@Mattijn\\outfolder\\srad02//srad20110207_06.tif"
       ]
      },
      {
       "output_type": "stream",
       "stream": "stdout",
       "text": [
        "\n",
        "E:\\Data\\WangKun@Mattijn\\outfolder\\srad02//srad20110208_06.tif"
       ]
      },
      {
       "output_type": "stream",
       "stream": "stdout",
       "text": [
        "\n",
        "E:\\Data\\WangKun@Mattijn\\outfolder\\srad02//srad20110209_06.tif"
       ]
      },
      {
       "output_type": "stream",
       "stream": "stdout",
       "text": [
        "\n",
        "E:\\Data\\WangKun@Mattijn\\outfolder\\srad02//srad20110210_06.tif"
       ]
      },
      {
       "output_type": "stream",
       "stream": "stdout",
       "text": [
        "\n",
        "E:\\Data\\WangKun@Mattijn\\outfolder\\srad02//srad20110211_06.tif"
       ]
      },
      {
       "output_type": "stream",
       "stream": "stdout",
       "text": [
        "\n",
        "E:\\Data\\WangKun@Mattijn\\outfolder\\srad02//srad20110212_06.tif"
       ]
      },
      {
       "output_type": "stream",
       "stream": "stdout",
       "text": [
        "\n",
        "E:\\Data\\WangKun@Mattijn\\outfolder\\srad02//srad20110213_06.tif"
       ]
      },
      {
       "output_type": "stream",
       "stream": "stdout",
       "text": [
        "\n",
        "E:\\Data\\WangKun@Mattijn\\outfolder\\srad02//srad20110214_06.tif"
       ]
      },
      {
       "output_type": "stream",
       "stream": "stdout",
       "text": [
        "\n",
        "E:\\Data\\WangKun@Mattijn\\outfolder\\srad02//srad20110215_06.tif"
       ]
      },
      {
       "output_type": "stream",
       "stream": "stdout",
       "text": [
        "\n",
        "E:\\Data\\WangKun@Mattijn\\outfolder\\srad02//srad20110216_06.tif"
       ]
      },
      {
       "output_type": "stream",
       "stream": "stdout",
       "text": [
        "\n",
        "E:\\Data\\WangKun@Mattijn\\outfolder\\srad02//srad20110217_06.tif"
       ]
      },
      {
       "output_type": "stream",
       "stream": "stdout",
       "text": [
        "\n",
        "E:\\Data\\WangKun@Mattijn\\outfolder\\srad02//srad20110218_06.tif"
       ]
      },
      {
       "output_type": "stream",
       "stream": "stdout",
       "text": [
        "\n",
        "E:\\Data\\WangKun@Mattijn\\outfolder\\srad02//srad20110219_06.tif"
       ]
      },
      {
       "output_type": "stream",
       "stream": "stdout",
       "text": [
        "\n",
        "E:\\Data\\WangKun@Mattijn\\outfolder\\srad02//srad20110220_06.tif"
       ]
      },
      {
       "output_type": "stream",
       "stream": "stdout",
       "text": [
        "\n",
        "E:\\Data\\WangKun@Mattijn\\outfolder\\srad02//srad20110221_06.tif"
       ]
      },
      {
       "output_type": "stream",
       "stream": "stdout",
       "text": [
        "\n",
        "E:\\Data\\WangKun@Mattijn\\outfolder\\srad02//srad20110222_06.tif"
       ]
      },
      {
       "output_type": "stream",
       "stream": "stdout",
       "text": [
        "\n",
        "E:\\Data\\WangKun@Mattijn\\outfolder\\srad02//srad20110223_06.tif"
       ]
      },
      {
       "output_type": "stream",
       "stream": "stdout",
       "text": [
        "\n",
        "E:\\Data\\WangKun@Mattijn\\outfolder\\srad02//srad20110224_06.tif"
       ]
      },
      {
       "output_type": "stream",
       "stream": "stdout",
       "text": [
        "\n",
        "E:\\Data\\WangKun@Mattijn\\outfolder\\srad02//srad20110225_06.tif"
       ]
      },
      {
       "output_type": "stream",
       "stream": "stdout",
       "text": [
        "\n",
        "E:\\Data\\WangKun@Mattijn\\outfolder\\srad02//srad20110226_06.tif"
       ]
      },
      {
       "output_type": "stream",
       "stream": "stdout",
       "text": [
        "\n",
        "E:\\Data\\WangKun@Mattijn\\outfolder\\srad02//srad20110227_06.tif"
       ]
      },
      {
       "output_type": "stream",
       "stream": "stdout",
       "text": [
        "\n",
        "E:\\Data\\WangKun@Mattijn\\outfolder\\srad02//srad20110228_06.tif"
       ]
      },
      {
       "output_type": "stream",
       "stream": "stdout",
       "text": [
        "\n",
        "E:\\Data\\WangKun@Mattijn\\outfolder\\srad02//srad20110201_07.tif"
       ]
      },
      {
       "output_type": "stream",
       "stream": "stdout",
       "text": [
        "\n",
        "E:\\Data\\WangKun@Mattijn\\outfolder\\srad02//srad20110202_07.tif"
       ]
      },
      {
       "output_type": "stream",
       "stream": "stdout",
       "text": [
        "\n",
        "E:\\Data\\WangKun@Mattijn\\outfolder\\srad02//srad20110203_07.tif"
       ]
      },
      {
       "output_type": "stream",
       "stream": "stdout",
       "text": [
        "\n",
        "E:\\Data\\WangKun@Mattijn\\outfolder\\srad02//srad20110204_07.tif"
       ]
      },
      {
       "output_type": "stream",
       "stream": "stdout",
       "text": [
        "\n",
        "E:\\Data\\WangKun@Mattijn\\outfolder\\srad02//srad20110205_07.tif"
       ]
      },
      {
       "output_type": "stream",
       "stream": "stdout",
       "text": [
        "\n",
        "E:\\Data\\WangKun@Mattijn\\outfolder\\srad02//srad20110206_07.tif"
       ]
      },
      {
       "output_type": "stream",
       "stream": "stdout",
       "text": [
        "\n",
        "E:\\Data\\WangKun@Mattijn\\outfolder\\srad02//srad20110207_07.tif"
       ]
      },
      {
       "output_type": "stream",
       "stream": "stdout",
       "text": [
        "\n",
        "E:\\Data\\WangKun@Mattijn\\outfolder\\srad02//srad20110208_07.tif"
       ]
      },
      {
       "output_type": "stream",
       "stream": "stdout",
       "text": [
        "\n",
        "E:\\Data\\WangKun@Mattijn\\outfolder\\srad02//srad20110209_07.tif"
       ]
      },
      {
       "output_type": "stream",
       "stream": "stdout",
       "text": [
        "\n",
        "E:\\Data\\WangKun@Mattijn\\outfolder\\srad02//srad20110210_07.tif"
       ]
      },
      {
       "output_type": "stream",
       "stream": "stdout",
       "text": [
        "\n",
        "E:\\Data\\WangKun@Mattijn\\outfolder\\srad02//srad20110211_07.tif"
       ]
      },
      {
       "output_type": "stream",
       "stream": "stdout",
       "text": [
        "\n",
        "E:\\Data\\WangKun@Mattijn\\outfolder\\srad02//srad20110212_07.tif"
       ]
      },
      {
       "output_type": "stream",
       "stream": "stdout",
       "text": [
        "\n",
        "E:\\Data\\WangKun@Mattijn\\outfolder\\srad02//srad20110213_07.tif"
       ]
      },
      {
       "output_type": "stream",
       "stream": "stdout",
       "text": [
        "\n",
        "E:\\Data\\WangKun@Mattijn\\outfolder\\srad02//srad20110214_07.tif"
       ]
      },
      {
       "output_type": "stream",
       "stream": "stdout",
       "text": [
        "\n",
        "E:\\Data\\WangKun@Mattijn\\outfolder\\srad02//srad20110215_07.tif"
       ]
      },
      {
       "output_type": "stream",
       "stream": "stdout",
       "text": [
        "\n",
        "E:\\Data\\WangKun@Mattijn\\outfolder\\srad02//srad20110216_07.tif"
       ]
      },
      {
       "output_type": "stream",
       "stream": "stdout",
       "text": [
        "\n",
        "E:\\Data\\WangKun@Mattijn\\outfolder\\srad02//srad20110217_07.tif"
       ]
      },
      {
       "output_type": "stream",
       "stream": "stdout",
       "text": [
        "\n",
        "E:\\Data\\WangKun@Mattijn\\outfolder\\srad02//srad20110218_07.tif"
       ]
      },
      {
       "output_type": "stream",
       "stream": "stdout",
       "text": [
        "\n",
        "E:\\Data\\WangKun@Mattijn\\outfolder\\srad02//srad20110219_07.tif"
       ]
      },
      {
       "output_type": "stream",
       "stream": "stdout",
       "text": [
        "\n",
        "E:\\Data\\WangKun@Mattijn\\outfolder\\srad02//srad20110220_07.tif"
       ]
      },
      {
       "output_type": "stream",
       "stream": "stdout",
       "text": [
        "\n",
        "E:\\Data\\WangKun@Mattijn\\outfolder\\srad02//srad20110221_07.tif"
       ]
      },
      {
       "output_type": "stream",
       "stream": "stdout",
       "text": [
        "\n",
        "E:\\Data\\WangKun@Mattijn\\outfolder\\srad02//srad20110222_07.tif"
       ]
      },
      {
       "output_type": "stream",
       "stream": "stdout",
       "text": [
        "\n",
        "E:\\Data\\WangKun@Mattijn\\outfolder\\srad02//srad20110223_07.tif"
       ]
      },
      {
       "output_type": "stream",
       "stream": "stdout",
       "text": [
        "\n",
        "E:\\Data\\WangKun@Mattijn\\outfolder\\srad02//srad20110224_07.tif"
       ]
      },
      {
       "output_type": "stream",
       "stream": "stdout",
       "text": [
        "\n",
        "E:\\Data\\WangKun@Mattijn\\outfolder\\srad02//srad20110225_07.tif"
       ]
      },
      {
       "output_type": "stream",
       "stream": "stdout",
       "text": [
        "\n",
        "E:\\Data\\WangKun@Mattijn\\outfolder\\srad02//srad20110226_07.tif"
       ]
      },
      {
       "output_type": "stream",
       "stream": "stdout",
       "text": [
        "\n",
        "E:\\Data\\WangKun@Mattijn\\outfolder\\srad02//srad20110227_07.tif"
       ]
      },
      {
       "output_type": "stream",
       "stream": "stdout",
       "text": [
        "\n",
        "E:\\Data\\WangKun@Mattijn\\outfolder\\srad02//srad20110228_07.tif"
       ]
      },
      {
       "output_type": "stream",
       "stream": "stdout",
       "text": [
        "\n",
        "E:\\Data\\WangKun@Mattijn\\outfolder\\srad02//srad20110201_08.tif"
       ]
      },
      {
       "output_type": "stream",
       "stream": "stdout",
       "text": [
        "\n",
        "E:\\Data\\WangKun@Mattijn\\outfolder\\srad02//srad20110202_08.tif"
       ]
      },
      {
       "output_type": "stream",
       "stream": "stdout",
       "text": [
        "\n",
        "E:\\Data\\WangKun@Mattijn\\outfolder\\srad02//srad20110203_08.tif"
       ]
      },
      {
       "output_type": "stream",
       "stream": "stdout",
       "text": [
        "\n",
        "E:\\Data\\WangKun@Mattijn\\outfolder\\srad02//srad20110204_08.tif"
       ]
      },
      {
       "output_type": "stream",
       "stream": "stdout",
       "text": [
        "\n",
        "E:\\Data\\WangKun@Mattijn\\outfolder\\srad02//srad20110205_08.tif"
       ]
      },
      {
       "output_type": "stream",
       "stream": "stdout",
       "text": [
        "\n",
        "E:\\Data\\WangKun@Mattijn\\outfolder\\srad02//srad20110206_08.tif"
       ]
      },
      {
       "output_type": "stream",
       "stream": "stdout",
       "text": [
        "\n",
        "E:\\Data\\WangKun@Mattijn\\outfolder\\srad02//srad20110207_08.tif"
       ]
      },
      {
       "output_type": "stream",
       "stream": "stdout",
       "text": [
        "\n",
        "E:\\Data\\WangKun@Mattijn\\outfolder\\srad02//srad20110208_08.tif"
       ]
      },
      {
       "output_type": "stream",
       "stream": "stdout",
       "text": [
        "\n",
        "E:\\Data\\WangKun@Mattijn\\outfolder\\srad02//srad20110209_08.tif"
       ]
      },
      {
       "output_type": "stream",
       "stream": "stdout",
       "text": [
        "\n",
        "E:\\Data\\WangKun@Mattijn\\outfolder\\srad02//srad20110210_08.tif"
       ]
      },
      {
       "output_type": "stream",
       "stream": "stdout",
       "text": [
        "\n",
        "E:\\Data\\WangKun@Mattijn\\outfolder\\srad02//srad20110211_08.tif"
       ]
      },
      {
       "output_type": "stream",
       "stream": "stdout",
       "text": [
        "\n",
        "E:\\Data\\WangKun@Mattijn\\outfolder\\srad02//srad20110212_08.tif"
       ]
      },
      {
       "output_type": "stream",
       "stream": "stdout",
       "text": [
        "\n",
        "E:\\Data\\WangKun@Mattijn\\outfolder\\srad02//srad20110213_08.tif"
       ]
      },
      {
       "output_type": "stream",
       "stream": "stdout",
       "text": [
        "\n",
        "E:\\Data\\WangKun@Mattijn\\outfolder\\srad02//srad20110214_08.tif"
       ]
      },
      {
       "output_type": "stream",
       "stream": "stdout",
       "text": [
        "\n",
        "E:\\Data\\WangKun@Mattijn\\outfolder\\srad02//srad20110215_08.tif"
       ]
      },
      {
       "output_type": "stream",
       "stream": "stdout",
       "text": [
        "\n",
        "E:\\Data\\WangKun@Mattijn\\outfolder\\srad02//srad20110216_08.tif"
       ]
      },
      {
       "output_type": "stream",
       "stream": "stdout",
       "text": [
        "\n",
        "E:\\Data\\WangKun@Mattijn\\outfolder\\srad02//srad20110217_08.tif"
       ]
      },
      {
       "output_type": "stream",
       "stream": "stdout",
       "text": [
        "\n",
        "E:\\Data\\WangKun@Mattijn\\outfolder\\srad02//srad20110218_08.tif"
       ]
      },
      {
       "output_type": "stream",
       "stream": "stdout",
       "text": [
        "\n",
        "E:\\Data\\WangKun@Mattijn\\outfolder\\srad02//srad20110219_08.tif"
       ]
      },
      {
       "output_type": "stream",
       "stream": "stdout",
       "text": [
        "\n",
        "E:\\Data\\WangKun@Mattijn\\outfolder\\srad02//srad20110220_08.tif"
       ]
      },
      {
       "output_type": "stream",
       "stream": "stdout",
       "text": [
        "\n",
        "E:\\Data\\WangKun@Mattijn\\outfolder\\srad02//srad20110221_08.tif"
       ]
      },
      {
       "output_type": "stream",
       "stream": "stdout",
       "text": [
        "\n",
        "E:\\Data\\WangKun@Mattijn\\outfolder\\srad02//srad20110222_08.tif"
       ]
      },
      {
       "output_type": "stream",
       "stream": "stdout",
       "text": [
        "\n",
        "E:\\Data\\WangKun@Mattijn\\outfolder\\srad02//srad20110223_08.tif"
       ]
      },
      {
       "output_type": "stream",
       "stream": "stdout",
       "text": [
        "\n",
        "E:\\Data\\WangKun@Mattijn\\outfolder\\srad02//srad20110224_08.tif"
       ]
      },
      {
       "output_type": "stream",
       "stream": "stdout",
       "text": [
        "\n",
        "E:\\Data\\WangKun@Mattijn\\outfolder\\srad02//srad20110225_08.tif"
       ]
      },
      {
       "output_type": "stream",
       "stream": "stdout",
       "text": [
        "\n",
        "E:\\Data\\WangKun@Mattijn\\outfolder\\srad02//srad20110226_08.tif"
       ]
      },
      {
       "output_type": "stream",
       "stream": "stdout",
       "text": [
        "\n",
        "E:\\Data\\WangKun@Mattijn\\outfolder\\srad02//srad20110227_08.tif"
       ]
      },
      {
       "output_type": "stream",
       "stream": "stdout",
       "text": [
        "\n",
        "E:\\Data\\WangKun@Mattijn\\outfolder\\srad02//srad20110228_08.tif"
       ]
      },
      {
       "output_type": "stream",
       "stream": "stdout",
       "text": [
        "\n",
        "E:\\Data\\WangKun@Mattijn\\outfolder\\srad02//srad20110201_09.tif"
       ]
      },
      {
       "output_type": "stream",
       "stream": "stdout",
       "text": [
        "\n",
        "E:\\Data\\WangKun@Mattijn\\outfolder\\srad02//srad20110202_09.tif"
       ]
      },
      {
       "output_type": "stream",
       "stream": "stdout",
       "text": [
        "\n",
        "E:\\Data\\WangKun@Mattijn\\outfolder\\srad02//srad20110203_09.tif"
       ]
      },
      {
       "output_type": "stream",
       "stream": "stdout",
       "text": [
        "\n",
        "E:\\Data\\WangKun@Mattijn\\outfolder\\srad02//srad20110204_09.tif"
       ]
      },
      {
       "output_type": "stream",
       "stream": "stdout",
       "text": [
        "\n",
        "E:\\Data\\WangKun@Mattijn\\outfolder\\srad02//srad20110205_09.tif"
       ]
      },
      {
       "output_type": "stream",
       "stream": "stdout",
       "text": [
        "\n",
        "E:\\Data\\WangKun@Mattijn\\outfolder\\srad02//srad20110206_09.tif"
       ]
      },
      {
       "output_type": "stream",
       "stream": "stdout",
       "text": [
        "\n",
        "E:\\Data\\WangKun@Mattijn\\outfolder\\srad02//srad20110207_09.tif"
       ]
      },
      {
       "output_type": "stream",
       "stream": "stdout",
       "text": [
        "\n",
        "E:\\Data\\WangKun@Mattijn\\outfolder\\srad02//srad20110208_09.tif"
       ]
      },
      {
       "output_type": "stream",
       "stream": "stdout",
       "text": [
        "\n",
        "E:\\Data\\WangKun@Mattijn\\outfolder\\srad02//srad20110209_09.tif"
       ]
      },
      {
       "output_type": "stream",
       "stream": "stdout",
       "text": [
        "\n",
        "E:\\Data\\WangKun@Mattijn\\outfolder\\srad02//srad20110210_09.tif"
       ]
      },
      {
       "output_type": "stream",
       "stream": "stdout",
       "text": [
        "\n",
        "E:\\Data\\WangKun@Mattijn\\outfolder\\srad02//srad20110211_09.tif"
       ]
      },
      {
       "output_type": "stream",
       "stream": "stdout",
       "text": [
        "\n",
        "E:\\Data\\WangKun@Mattijn\\outfolder\\srad02//srad20110212_09.tif"
       ]
      },
      {
       "output_type": "stream",
       "stream": "stdout",
       "text": [
        "\n",
        "E:\\Data\\WangKun@Mattijn\\outfolder\\srad02//srad20110213_09.tif"
       ]
      },
      {
       "output_type": "stream",
       "stream": "stdout",
       "text": [
        "\n",
        "E:\\Data\\WangKun@Mattijn\\outfolder\\srad02//srad20110214_09.tif"
       ]
      },
      {
       "output_type": "stream",
       "stream": "stdout",
       "text": [
        "\n",
        "E:\\Data\\WangKun@Mattijn\\outfolder\\srad02//srad20110215_09.tif"
       ]
      },
      {
       "output_type": "stream",
       "stream": "stdout",
       "text": [
        "\n",
        "E:\\Data\\WangKun@Mattijn\\outfolder\\srad02//srad20110216_09.tif"
       ]
      },
      {
       "output_type": "stream",
       "stream": "stdout",
       "text": [
        "\n",
        "E:\\Data\\WangKun@Mattijn\\outfolder\\srad02//srad20110217_09.tif"
       ]
      },
      {
       "output_type": "stream",
       "stream": "stdout",
       "text": [
        "\n",
        "E:\\Data\\WangKun@Mattijn\\outfolder\\srad02//srad20110218_09.tif"
       ]
      },
      {
       "output_type": "stream",
       "stream": "stdout",
       "text": [
        "\n",
        "E:\\Data\\WangKun@Mattijn\\outfolder\\srad02//srad20110219_09.tif"
       ]
      },
      {
       "output_type": "stream",
       "stream": "stdout",
       "text": [
        "\n",
        "E:\\Data\\WangKun@Mattijn\\outfolder\\srad02//srad20110220_09.tif"
       ]
      },
      {
       "output_type": "stream",
       "stream": "stdout",
       "text": [
        "\n",
        "E:\\Data\\WangKun@Mattijn\\outfolder\\srad02//srad20110221_09.tif"
       ]
      },
      {
       "output_type": "stream",
       "stream": "stdout",
       "text": [
        "\n",
        "E:\\Data\\WangKun@Mattijn\\outfolder\\srad02//srad20110222_09.tif"
       ]
      },
      {
       "output_type": "stream",
       "stream": "stdout",
       "text": [
        "\n",
        "E:\\Data\\WangKun@Mattijn\\outfolder\\srad02//srad20110223_09.tif"
       ]
      },
      {
       "output_type": "stream",
       "stream": "stdout",
       "text": [
        "\n",
        "E:\\Data\\WangKun@Mattijn\\outfolder\\srad02//srad20110224_09.tif"
       ]
      },
      {
       "output_type": "stream",
       "stream": "stdout",
       "text": [
        "\n",
        "E:\\Data\\WangKun@Mattijn\\outfolder\\srad02//srad20110225_09.tif"
       ]
      },
      {
       "output_type": "stream",
       "stream": "stdout",
       "text": [
        "\n",
        "E:\\Data\\WangKun@Mattijn\\outfolder\\srad02//srad20110226_09.tif"
       ]
      },
      {
       "output_type": "stream",
       "stream": "stdout",
       "text": [
        "\n",
        "E:\\Data\\WangKun@Mattijn\\outfolder\\srad02//srad20110227_09.tif"
       ]
      },
      {
       "output_type": "stream",
       "stream": "stdout",
       "text": [
        "\n",
        "E:\\Data\\WangKun@Mattijn\\outfolder\\srad02//srad20110228_09.tif"
       ]
      },
      {
       "output_type": "stream",
       "stream": "stdout",
       "text": [
        "\n"
       ]
      }
     ],
     "prompt_number": 19
    },
    {
     "cell_type": "code",
     "collapsed": false,
     "input": [],
     "language": "python",
     "metadata": {},
     "outputs": []
    }
   ],
   "metadata": {}
  }
 ]
}