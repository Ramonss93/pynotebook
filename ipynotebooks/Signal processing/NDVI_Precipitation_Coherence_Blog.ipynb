{
 "metadata": {
  "name": ""
 },
 "nbformat": 3,
 "nbformat_minor": 0,
 "worksheets": [
  {
   "cells": [
    {
     "cell_type": "heading",
     "level": 1,
     "metadata": {},
     "source": [
      "Calculation and estimation of the shared phase between the NDVI and precipitation anomaly for drought monitoring"
     ]
    },
    {
     "cell_type": "markdown",
     "metadata": {},
     "source": [
      "Let me try to explain briefly my progress over the last period of time to come up with some results. I'm not sure if these results are very rich and significant, but its in my opinion a decent step in the good direction.\n",
      "\n",
      "This story is a kind of blog, with my results added as images, but for each image or set of images I've added a link to the corresponding IPython Notebook which contain all the code and algortithms necessary to produce the images. The IPython Notebook is also the environment that where I'm used to write my codes. Anyway.\n",
      "\n",
      "This page has the following order:\n",
      "1. Coherence and phase lag calculations example\n",
      "2. Preprocessing NDVI data\n",
      "3. Preprocessing precipitation data\n",
      "4. Coherence and phase lag calculatations of the precipitation and NDVI anomaly"
     ]
    },
    {
     "cell_type": "heading",
     "level": 2,
     "metadata": {},
     "source": [
      "Coherence and phase lag calculatations example"
     ]
    },
    {
     "cell_type": "markdown",
     "metadata": {},
     "source": [
      "Before I start with any satelitte imagery of both precipitation or NDVI let me first give an example of the kind of analysis that I would like to do.\n",
      "The toy example is about two signals which contain causaltiy. That means that there is a relationship between the two signals, a cause and an effect. The goal is to determine the coherence and phase lag function for these two signals. Image 1 shows the whole the time-series on the left and a zoom of the time-series on the right. It's clearly visible that the blue signal follows the green signal."
     ]
    },
    {
     "cell_type": "markdown",
     "metadata": {},
     "source": [
      "(This <a href=\"http://nbviewer.ipython.org/github/mattijn/pynotebook/blob/master/ipynotebooks/Python2.7/Test%20coherence%20and%20phase%20lag.ipynb?create=1\">IPython Notebook</a> contains the code for the coherence and phase lag calculations of the following plots)"
     ]
    },
    {
     "cell_type": "markdown",
     "metadata": {},
     "source": [
      "![caption](http://mattijnvanhoek.files.wordpress.com/2014/02/series_zoom.png?w=800)"
     ]
    },
    {
     "cell_type": "markdown",
     "metadata": {},
     "source": [
      "The power spectral density plot of the two signals describes how the power of the signal/time series is distributed over the different frequencies. The power spectral density is the Fourier transform of the autocorrelation or autocovariance function. Image 2 shows the PSD plots of the two signals and even though the frequency representation are different for the two plots, we can observe that the two signals have around 0.05 and 0.1 shared frequencies."
     ]
    },
    {
     "cell_type": "markdown",
     "metadata": {},
     "source": [
      "![caption](http://mattijnvanhoek.files.wordpress.com/2014/02/psw_s1_s2.png?w=800)"
     ]
    },
    {
     "cell_type": "markdown",
     "metadata": {},
     "source": [
      "Then we can plot the cross-spectral density (CSD) between the two signals. The CSD is the Fourier transform of the cross-correlation function. As already observed in both of the PSD plot, the two peaks at the shared frequencies are still apparent."
     ]
    },
    {
     "cell_type": "markdown",
     "metadata": {},
     "source": [
      "![caption](http://mattijnvanhoek.files.wordpress.com/2014/02/csd1.png?w=400)"
     ]
    },
    {
     "cell_type": "markdown",
     "metadata": {},
     "source": [
      "Then we can plot the coherence and the phase of the shared frequencies. The coherence can be used to estimate the causility between the input and output. Its calculated by taking the square of the absolute values of the CSD devided by the product of the autospectral densities of two signals. On the right the cross spectrum phase is plotted and it indicates the frequencies with significant coherence between the two times. The cross spectrum phase is calculated using the CSD, since the phase shift is destroyed by taking the modulus to calculate the coherence."
     ]
    },
    {
     "cell_type": "markdown",
     "metadata": {},
     "source": [
      "![caption](http://mattijnvanhoek.files.wordpress.com/2014/02/coherencephase_2plot.png?w=800)"
     ]
    },
    {
     "cell_type": "markdown",
     "metadata": {},
     "source": [
      "By taking cross spectrum phases with a significant confidence level of 95% and combining it with the coherence plot we get the following plot. Were the peak in the coherence and the cross spectrum phase clearly overlap"
     ]
    },
    {
     "cell_type": "markdown",
     "metadata": {},
     "source": [
      "![caption](http://mattijnvanhoek.files.wordpress.com/2014/02/coherencephase_singleplot.png?w=400)"
     ]
    },
    {
     "cell_type": "markdown",
     "metadata": {},
     "source": [
      "The coherence squared has 2 prominent peaks that rise above the 95% confidence level: one at a frequency corresponding to a 10 minute period and another with slightly lower coherence near 0.045 cph (22 minute period). Assuming the measurements are taken every minute\n",
      "\n",
      "The phase of the 2 most coherent peaks are -70 degrees (x lags y) at the 10 min period and +30 degrees (x leads y) at a period near 22 minutes.\n",
      "\n",
      "\n",
      "Ok, this similar approach I want to apply between the anomaly signals of precipitation and NDVI. The two next steps are about the preprocessing steps of NDVI and precipitation and the comparison of two algorithms for creating an anomaly index."
     ]
    },
    {
     "cell_type": "heading",
     "level": 2,
     "metadata": {},
     "source": [
      "Preprocessing NDVI"
     ]
    },
    {
     "cell_type": "markdown",
     "metadata": {},
     "source": [
      "I use the MOD11 NDVI data prodcut. This has a 1km spatial resolution and a temporal resolution of 8 days. To compute the anomaly we can use different algorithms. I show here the calculation of two algortihms that I apply to both NDVI and precipitation\n",
      "\n",
      "The two algorithms for anomaly calculations are based on the normalized vegetation anomaly index and the standardized vegetation index. The first is calculated by \n",
      "\n",
      "$(NDVI-NDVI_mean) / (NDVI_max - NDVI_min)$\n",
      "\n",
      "and the latter by \n",
      "\n",
      "$(NDVI-NDVI_mean) / NDVI_std$\n",
      "\n",
      "Since the standardized vegetation index is based on the variance can it be normalized by dividing it by $(NDVI_max - NDVI_min)$ to get a normalized product to make comparisons possible with diferent parameters such as the precipitation.\n",
      "\n",
      "The steps applied are as follow:\n",
      "1. Calculate long-term mean and standard deviation of all available years\n",
      "2. Compute the historical minimum and maximum of the NDVI\n",
      "3. Determine the anomaly using the NDVI and long term NDVI mean\n",
      "4. Use the two algorithms to calculate the two different anomaly indici"
     ]
    },
    {
     "cell_type": "markdown",
     "metadata": {},
     "source": [
      "<a href=\"http://nbviewer.ipython.org/github/mattijn/pynotebook/blob/master/ipynotebooks/NDVI%20NVAI/THE%20BIG%20NDVI_AGG%20IPY%20NOTEBOOK%2C%20FROM%20RAW%20TO%20END%20PRODUCT-Copy0.ipynb?create=1\">IPython Notebook</a> for the code of the NDVI calculations"
     ]
    },
    {
     "cell_type": "markdown",
     "metadata": {},
     "source": [
      "The following image shows the time-series of one pixel of the area in Inner-Monogolia that experienced severe drought in 2007 and 2009. We plot the time series by using both of the algorithms. Not only the time series, but also the autocorrelation, the frequency representation and the power spectral density. On the left we see the Normalized vegetation anomaly index and on the right we see the standardized vegetation index"
     ]
    },
    {
     "cell_type": "markdown",
     "metadata": {},
     "source": [
      "![caption](http://mattijnvanhoek.files.wordpress.com/2014/02/nvai_vs_svi.png?w=900)"
     ]
    },
    {
     "cell_type": "markdown",
     "metadata": {},
     "source": [
      "Both the indices shows a similar pattern in the time-domain, but the amplitude of the standardized precipiation index is stronger. In the corresponding frequency-domain we see again similar patterns and no big differences.\n",
      "\n",
      "And the following shows the same charts, but only for the growing season between March and October. Which results in a knock off effect of the annual boundaries, and an increase of a specific signal of both the autocorrelation and the power spectral denisty in the frequency domain."
     ]
    },
    {
     "cell_type": "markdown",
     "metadata": {},
     "source": [
      "![caption](http://mattijnvanhoek.files.wordpress.com/2014/02/nvai_vs_svi_mar_nov.png?w=900)"
     ]
    },
    {
     "cell_type": "markdown",
     "metadata": {},
     "source": [
      "To conclude two animated charts of both the NVAI and the SVI. Some little differences are visible, like the stronger amplitude of the SVI, but in general the animated plots are very much similar.\n",
      "\n",
      "First animated plot is the normalized vegetation anomaly index and the second animated plot is the standardized vegetation index."
     ]
    },
    {
     "cell_type": "markdown",
     "metadata": {},
     "source": [
      "![caption](http://mattijnvanhoek.files.wordpress.com/2014/02/nvai_annual.gif)"
     ]
    },
    {
     "cell_type": "markdown",
     "metadata": {},
     "source": [
      "And the standardized vegetation index"
     ]
    },
    {
     "cell_type": "markdown",
     "metadata": {},
     "source": [
      "![caption](http://mattijnvanhoek.files.wordpress.com/2014/02/svi_all.gif)"
     ]
    },
    {
     "cell_type": "heading",
     "level": 2,
     "metadata": {},
     "source": [
      "Preprocessing precipitation "
     ]
    },
    {
     "cell_type": "markdown",
     "metadata": {},
     "source": [
      "I've decided to use the precipitation data from the Global Precipitation Climatology Project (GPCP) developed by GEWEX. The original data product is a global product which has a spatial resolution of 1 degree and a temporal resolution of 1 day.\n",
      "\n",
      "The goal is to develop a precipitation anomaly dataset to be compared with the anomaly dataset of NDVI. Since I would like to make a comparison I prefer to have two anomaly datasets that are consistent and comparable by being created with the similar algorithm. \n",
      "\n",
      "To calculate the precipitation anomaly there is chosen for a 1 month (30 days) time scale. The calculation steps are as follow:\n",
      "1. Read raw GPCP data into python, include some byte-swapping from big-endian system to little-endian system\n",
      "2. Calculate octad data files by taking the mean for each 8 days\n",
      "\n",
      "See image for the global data product with the octad files of the multi year average:"
     ]
    },
    {
     "cell_type": "markdown",
     "metadata": {},
     "source": [
      "![caption](http://mattijnvanhoek.files.wordpress.com/2014/01/gpcp_annual.gif)"
     ]
    },
    {
     "cell_type": "markdown",
     "metadata": {},
     "source": [
      "Continuing:\n",
      "3. Take a rolling mean of a 30-day window with a 8 day stepsize, so each window contains 4 measurements.\n",
      "4. Calculate the annual mean and standard deviation of the 30-day moving window (mean and std of DOY001-032 of all available  years etc.)\n",
      "5. Determine the anomaly for the 30-day moving window using the mean of step 4\n",
      "6. Find the historical maximum and minimum of files created by step 3\n",
      "7. Calculate the normalized vegetation anomaly index and the standardized vegetation index."
     ]
    },
    {
     "cell_type": "markdown",
     "metadata": {},
     "source": [
      "<a href=\"http://nbviewer.ipython.org/github/mattijn/pynotebook/blob/master/ipynotebooks/GPCP/THE%20BIG%20GPCP%20IPY%20NOTEBOOK%2C%20FROM%20SAV%201DD%20TO%20END%20PRODUCT.ipynb?create=1\">IPython Notebook</a> with the calculations for GPCP Precipitation data"
     ]
    },
    {
     "cell_type": "markdown",
     "metadata": {},
     "source": [
      "The following image shows the time-series of one pixel of the area in Inner-Monogolia that experienced severe drought in 2007 and 2009. We plot the time series by using both of the algorithms. Not only the time series, but also the autocorrelation, the frequency representation and the power spectral density. On the left we see the Normalized preciptation anomaly index and on the right we see the standardized precipitation index"
     ]
    },
    {
     "cell_type": "markdown",
     "metadata": {},
     "source": [
      "![caption](http://mattijnvanhoek.files.wordpress.com/2014/02/npai_vs_spi_2.png?w=900)"
     ]
    },
    {
     "cell_type": "markdown",
     "metadata": {},
     "source": [
      "We see that the normalized precipitation anomaly index is mourh rough, it captures the different drought anomalies, but looking to the autocorrelation we see a signal near zero and furthermore more or less zero, which is indicative of a random signal also in frequency representation and the power spectral density estimate shows no pattern or peaks. The standardized precipitation index is less rough, more smooth, the autocorrelation returns a certrain osciliatory signal which comes back in the frequency representation and the power spectral density estimate plot.\n",
      "\n",
      "By using the standardized precipitation index for the annual accumulated precipitation we also observe the different drought events over the years:"
     ]
    },
    {
     "cell_type": "markdown",
     "metadata": {},
     "source": [
      "![caption](http://mattijnvanhoek.files.wordpress.com/2014/02/gpcp_r10c44.png?w=900)"
     ]
    },
    {
     "cell_type": "markdown",
     "metadata": {},
     "source": [
      "<a href=\"http://nbviewer.ipython.org/github/mattijn/pynotebook/blob/master/ipynotebooks/Python2.7/Charts%20Grid%20Anomaly%20Accumulation%20GPCP.ipynb?create=1\">IPython Notebook</a> for plot above"
     ]
    },
    {
     "cell_type": "markdown",
     "metadata": {},
     "source": [
      "And lastly an animated plot of the drought anomaly, standardized precipitation index for china region"
     ]
    },
    {
     "cell_type": "markdown",
     "metadata": {},
     "source": [
      "![caption](http://mattijnvanhoek.files.wordpress.com/2014/02/gpcpnorm.gif)"
     ]
    },
    {
     "cell_type": "markdown",
     "metadata": {},
     "source": [
      "And again the corresponding <a href=\"http://nbviewer.ipython.org/github/mattijn/pynotebook/blob/master/ipynotebooks/Python2.7/SubPlotsGPCP%20Normalised%20Anomaly%20Type%20II.ipynb?create=1\">Notebook</a> for the code"
     ]
    },
    {
     "cell_type": "heading",
     "level": 3,
     "metadata": {},
     "source": [
      "Coherence and phase lag calculatations of the precipitation and NDVI anomaly"
     ]
    },
    {
     "cell_type": "markdown",
     "metadata": {},
     "source": [
      "To make comparisons, possible I've aggregated the standardized vegetation index to have a similar spatial resolution as the precipitation data product. Now the spatial resolution for both the data products are 1 degrees as seen below in the plot, where the left image is the SPI with a 30-day-window period of year 2009 day of year 193 and on the right side the SVI of the corresponding year and DOY."
     ]
    },
    {
     "cell_type": "markdown",
     "metadata": {},
     "source": [
      "![caption](http://mattijnvanhoek.files.wordpress.com/2014/02/plot_svispi.png?w=900)"
     ]
    },
    {
     "cell_type": "markdown",
     "metadata": {},
     "source": [
      "Now having the standardized precipitation index and the standardized vegetation index and then we then can try to estimate the causility between these two time series/signals. I use the same pixel for calculations as above and firstly compare the two series with each other in the time- and frequency domain, for both the whole time-series.. "
     ]
    },
    {
     "cell_type": "markdown",
     "metadata": {},
     "source": [
      "![caption](http://mattijnvanhoek.files.wordpress.com/2014/02/spi_vs_svi.png?w=900)"
     ]
    },
    {
     "cell_type": "markdown",
     "metadata": {},
     "source": [
      "... and only for the growing season between March and October, with the winter season masked:"
     ]
    },
    {
     "cell_type": "markdown",
     "metadata": {},
     "source": [
      "![caption](http://mattijnvanhoek.files.wordpress.com/2014/02/spi_vs_svi_mar-nov1.png?w=900)"
     ]
    },
    {
     "cell_type": "markdown",
     "metadata": {},
     "source": [
      "The time-domain representation shows some similarities for the drought anomaly in both the precipitation as in the NDVI. But the frequency domain presents shows a different view. The autocorrelation gives a kind of similar signal, similar to a mexican hat, but the frequency representation and the power sepctral denisty estimates are different with few shared frequencies\n",
      "\n",
      "Since we are mainly concerned with the growing season, further analysis uses the time-series where the time-series from November till February are masked.\n",
      "\n",
      "Then we can plot the cross-spectral density (CSD) between the two signals of SPI and SVI. The CSD is the Fourier transform of the cross-correlation function. As already observed in both of the PSD plot, the two peaks at the shared frequencies are still apparent."
     ]
    },
    {
     "cell_type": "markdown",
     "metadata": {},
     "source": [
      "![caption](http://mattijnvanhoek.files.wordpress.com/2014/02/spi_svi_s1_s2.png?w=400)"
     ]
    },
    {
     "cell_type": "markdown",
     "metadata": {},
     "source": [
      "Then we can plot the coherence and the phase of the shared frequencies. The coherence can be used to estimate the causility between the input and output and is plotted on the left. Looking to this plot, we can observe shared frequencies in the low range of the fruquencies between 0 and 0.01 with a coherence above 0.8 and there are some shared frequencies between 0.035 and 0.043 that also have a coherence above 0.8. On the right the cross spectrum phase is plotted and it indicates the frequencies with significant coherence between the two drought anomalies SPI and SVI."
     ]
    },
    {
     "cell_type": "markdown",
     "metadata": {},
     "source": [
      "![caption](http://mattijnvanhoek.files.wordpress.com/2014/02/spi_svi_coherencephase_2plot.png?w=800)"
     ]
    },
    {
     "cell_type": "markdown",
     "metadata": {},
     "source": [
      "By combining both the coherence and the cross spectrum phase plot into a single plot, where we plot the coherence on the left axis and the cross spectrum phase only the phase values with a confidence level of 95% on the right axis, then we see that the following coherence include phase (>95%) between the standardized precipitation anomaly and the standardized vegetation anomaly:"
     ]
    },
    {
     "cell_type": "markdown",
     "metadata": {},
     "source": [
      "![caption](http://mattijnvanhoek.files.wordpress.com/2014/02/spi_svi_coherencephase_singleplot.png?w=400)"
     ]
    },
    {
     "cell_type": "markdown",
     "metadata": {},
     "source": [
      "The **coherence** has two prominent peaks that rise abouve the confidence level of 95%. One at a frequency of 0.038 cph, which is 210 * 8-days period and the second at a frequency of 0.001 cph, which correspond to a overwhelming 8192 8-days period\n",
      "\n",
      "The **phase** of the 2 most coherent peaks are +48.6 degrees (signal 1 (SPI) leads signal 2 (SVI)) at a 8192 8-day period and +81.4 degrees at a period near 210 8-days period"
     ]
    },
    {
     "cell_type": "markdown",
     "metadata": {},
     "source": [
      "Code for calculations and plots of the coherence and phase lag calculatations of the precipitation and NDVI anomaly in this [IPthon Notebook](http://nbviewer.ipython.org/github/mattijn/pynotebook/blob/master/ipynotebooks/Python2.7/Chart%20-%20GPCP%20Norm%20Type-II%20%26%20NDVI%20SVI%20-%20TEST%26PLAY.ipynb?create=1)"
     ]
    },
    {
     "cell_type": "markdown",
     "metadata": {},
     "source": [
      "Few points of consideration:\n",
      "- During testing I had some problems with the length of my time series, maybe an interval of 8 days over a period of 10 years is not enough to measure the coherence and phase?\n",
      "- Not sure if the anomalies shown present a significant oscillation to have multiple periodic components.\n",
      "- I run into problems by converting the frequency into a 8-day period, resulting in extremely big periods. Maybe my x-axis has the wrong scale?\n",
      "- I found this difficult\n",
      "\n",
      "And the big question, contain these preliminary outcomes rich results? I don't know..\n",
      "    "
     ]
    }
   ],
   "metadata": {}
  }
 ]
}