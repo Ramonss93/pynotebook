{
 "metadata": {
  "name": ""
 },
 "nbformat": 3,
 "nbformat_minor": 0,
 "worksheets": [
  {
   "cells": [
    {
     "cell_type": "markdown",
     "metadata": {},
     "source": [
      "Let me try to explain briefly my progress over the last period of time to come up with some results. I'm not sure if these results are very rich and significant, but its in my opinion a decent step in the good direction.\n",
      "\n",
      "This story is a kind of blog, with my results added as images, but for each image or set of images I've added a link to the corresponding IPython Notebook which contain all the code and algortithms necessary to produce the images. The IPython Notebook is also the environment that where I'm used to write my codes. Anyway.\n",
      "\n",
      "Before I start with any satelitte imagery of both precipitation or NDVI let me first give an example of the kind of analysis that I would like to do with an toy example.\n",
      "The toy example is about two signals which contain causaltiy. That means that there is a relationship between the two signals, a cause and an effect. Image 1 shows the whole the time-series on the left and a zoom of the time-series on the right. It's clearly visible that the two signals are similar but with a different phase."
     ]
    },
    {
     "cell_type": "markdown",
     "metadata": {},
     "source": [
      "![caption](http://mattijnvanhoek.files.wordpress.com/2014/02/series_zoom.png?w=900)"
     ]
    },
    {
     "cell_type": "markdown",
     "metadata": {},
     "source": [
      "![caption](http://mattijnvanhoek.files.wordpress.com/2014/02/spi_vs_svi_mar-nov1.png)"
     ]
    },
    {
     "cell_type": "code",
     "collapsed": false,
     "input": [],
     "language": "python",
     "metadata": {},
     "outputs": []
    },
    {
     "cell_type": "code",
     "collapsed": false,
     "input": [],
     "language": "python",
     "metadata": {},
     "outputs": []
    }
   ],
   "metadata": {}
  }
 ]
}