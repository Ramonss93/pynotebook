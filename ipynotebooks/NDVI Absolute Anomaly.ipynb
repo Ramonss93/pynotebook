{
 "metadata": {
  "name": ""
 },
 "nbformat": 3,
 "nbformat_minor": 0,
 "worksheets": [
  {
   "cells": [
    {
     "cell_type": "code",
     "collapsed": false,
     "input": [
      "%connect_info"
     ],
     "language": "python",
     "metadata": {},
     "outputs": []
    },
    {
     "cell_type": "code",
     "collapsed": false,
     "input": [
      "path = r'E:\\Data\\DataTimeSeries'\n",
      "\n",
      "namevarNDVI = 'NDVI'\n",
      "namevarSM = 'SM'"
     ],
     "language": "python",
     "metadata": {},
     "outputs": []
    },
    {
     "cell_type": "code",
     "collapsed": false,
     "input": [
      "from numpy import NaN, Inf, arange, isscalar, array\n",
      "from osgeo import gdal\n",
      "import datetime\n",
      "import numpy as np\n",
      "import os\n",
      "from matplotlib import pyplot as plt\n",
      "from mattijn import dikkelul"
     ],
     "language": "python",
     "metadata": {},
     "outputs": []
    },
    {
     "cell_type": "code",
     "collapsed": false,
     "input": [
      "def peakdet(v, delta, x = None):\n",
      "    \"\"\"\n",
      "    Converted from MATLAB script at http://billauer.co.il/peakdet.html\n",
      "    \n",
      "    Returns two arrays\n",
      "    \n",
      "    function [maxtab, mintab]=peakdet(v, delta, x)\n",
      "    %PEAKDET Detect peaks in a vector\n",
      "    %        [MAXTAB, MINTAB] = PEAKDET(V, DELTA) finds the local\n",
      "    %        maxima and minima (\"peaks\") in the vector V.\n",
      "    %        MAXTAB and MINTAB consists of two columns. Column 1\n",
      "    %        contains indices in V, and column 2 the found values.\n",
      "    %      \n",
      "    %        With [MAXTAB, MINTAB] = PEAKDET(V, DELTA, X) the indices\n",
      "    %        in MAXTAB and MINTAB are replaced with the corresponding\n",
      "    %        X-values.\n",
      "    %\n",
      "    %        A point is considered a maximum peak if it has the maximal\n",
      "    %        value, and was preceded (to the left) by a value lower by\n",
      "    %        DELTA.\n",
      "    \n",
      "    % Eli Billauer, 3.4.05 (Explicitly not copyrighted).\n",
      "    % This function is released to the public domain; Any use is allowed.\n",
      "    \n",
      "    \"\"\"\n",
      "    maxtab = []\n",
      "    mintab = []\n",
      "       \n",
      "    if x is None:\n",
      "        x = arange(len(v))\n",
      "    \n",
      "    v = asarray(v)\n",
      "    \n",
      "    if len(v) != len(x):\n",
      "        sys.exit('Input vectors v and x must have same length')\n",
      "    \n",
      "    if not isscalar(delta):\n",
      "        sys.exit('Input argument delta must be a scalar')\n",
      "    \n",
      "    if delta <= 0:\n",
      "        sys.exit('Input argument delta must be positive')\n",
      "    \n",
      "    mn, mx = Inf, -Inf\n",
      "    mnpos, mxpos = NaN, NaN\n",
      "    \n",
      "    lookformax = True\n",
      "    \n",
      "    for i in arange(len(v)):\n",
      "        this = v[i]\n",
      "        if this > mx:\n",
      "            mx = this\n",
      "            mxpos = x[i]\n",
      "        if this < mn:\n",
      "            mn = this\n",
      "            mnpos = x[i]\n",
      "        \n",
      "        if lookformax:\n",
      "            if this < mx-delta:\n",
      "                maxtab.append((mxpos, mx))\n",
      "                mn = this\n",
      "                mnpos = x[i]\n",
      "                lookformax = False\n",
      "        else:\n",
      "            if this > mn+delta:\n",
      "                mintab.append((mnpos, mn))\n",
      "                mx = this\n",
      "                mxpos = x[i]\n",
      "                lookformax = True\n",
      " \n",
      "    return array(maxtab), array(mintab)"
     ],
     "language": "python",
     "metadata": {},
     "outputs": []
    },
    {
     "cell_type": "code",
     "collapsed": false,
     "input": [
      "def correlate1(a, b):\n",
      "    c = np.empty_like(a)\n",
      "    for j in range(len(a)):\n",
      "        c[j] = np.correlate(a[j], b[j], 'same')\n",
      "    return c\n",
      "\n",
      "def correlate2(a, b):\n",
      "    n = a.shape[-1]\n",
      "    a_fft = np.fft.fft(a, n=2*n)\n",
      "    b_fft = np.fft.fft(b, n=2*n)\n",
      "    cc = np.fft.ifft(a_fft * b_fft.conj()).real\n",
      "    return np.concatenate((cc[..., -n//2:], cc[..., :(n-1)//2 + 1]), axis=-1)\n",
      "\n",
      "def peak(ccf,i):\n",
      "    _max, _min = peakdet(ccf[i],.003)\n",
      "    if len(_max) != 0: # check if ccf has values \n",
      "        if len(_max) == 1:\n",
      "            x = _max[0][0]\n",
      "        elif _max[0][0] != 0: # select first peak if peak is not at index[0] \n",
      "            x = _max[0][0]\n",
      "        else:\n",
      "            x = _max[0][0]\n",
      "    else:\n",
      "        x = np.nan \n",
      "    return x"
     ],
     "language": "python",
     "metadata": {},
     "outputs": []
    },
    {
     "cell_type": "code",
     "collapsed": false,
     "input": [
      "def listall(RootFolder, varname=''):\n",
      "    lists = [os.path.join(root, name)    \n",
      "                 for root, dirs, files in os.walk(RootFolder)\n",
      "                   for name in files\n",
      "                   if varname in name\n",
      "                     if name.endswith('.tif')]\n",
      "    return lists"
     ],
     "language": "python",
     "metadata": {},
     "outputs": []
    },
    {
     "cell_type": "code",
     "collapsed": false,
     "input": [
      "_ndvi_files = listall(path, varname=namevarNDVI)\n",
      "_sm_files = listall(path, varname=namevarSM)\n",
      "\n",
      "ndvi0 = _ndvi_files[0]\n",
      "sm0 = _sm_files[0]\n",
      "print (ndvi0, sm0)"
     ],
     "language": "python",
     "metadata": {},
     "outputs": []
    },
    {
     "cell_type": "code",
     "collapsed": false,
     "input": [
      "_ndvi_files[45:46]"
     ],
     "language": "python",
     "metadata": {},
     "outputs": []
    },
    {
     "cell_type": "code",
     "collapsed": false,
     "input": [
      "check_ds = gdal.Open(_ndvi_files[0], gdal.GA_ReadOnly)\n",
      "check_array = check_ds.ReadAsArray().astype(float)"
     ],
     "language": "python",
     "metadata": {},
     "outputs": []
    },
    {
     "cell_type": "code",
     "collapsed": false,
     "input": [
      "for i in _ndvi_files[0:46]:\n",
      "    all_days =[]    \n",
      "\n",
      "    for j in _ndvi_files:        \n",
      "        if int(i[-7:-4]) == int(j[-7:-4]):\n",
      "            all_days.append(j)\n",
      "    ln = len(all_days)\n",
      "    print (all_days[0])\n",
      "    barray = np.empty_like(check_array)\n",
      "    #print (barray.max())\n",
      "    \n",
      "    for k in all_days:\n",
      "        ds = gdal.Open(k, gdal.GA_ReadOnly)\n",
      "        array = ds.ReadAsArray().astype(float)\n",
      "        array = np.clip(array, -10000.0, 10000.0)\n",
      "        barray = barray + array\n",
      "    \n",
      "    barray /= ln\n",
      "    barray /= 10000\n",
      "\n",
      "    outPath = r'D:\\Data\\NDVIanomaly//NDVI_'+str(i[-7:-4])+'.tif'\n",
      "    print (outPath)\n",
      "    dikkelul.saveRaster(outPath, barray, ds, 6)\n",
      "    ds = None\n",
      "    array = None\n",
      "    barray = None"
     ],
     "language": "python",
     "metadata": {},
     "outputs": []
    },
    {
     "cell_type": "code",
     "collapsed": false,
     "input": [
      "path_ano = r'D:\\Data\\NDVIanomaly'\n",
      "ndvi_ano = listall(path_ano, varname='')\n",
      "#ndvi_ano"
     ],
     "language": "python",
     "metadata": {},
     "outputs": []
    },
    {
     "cell_type": "markdown",
     "metadata": {},
     "source": [
      "Convert NDVI raw to values beteen -1, 1, calculate absolute values accordingly"
     ]
    },
    {
     "cell_type": "code",
     "collapsed": false,
     "input": [
      "for i in _ndvi_files:\n",
      "    \n",
      "    ds = gdal.Open(i, gdal.GA_ReadOnly)\n",
      "    array = ds.ReadAsArray().astype(float)\n",
      "    array = np.clip(array, -10000.0, 10000.0)\n",
      "    array /= 10000.0\n",
      "    \n",
      "    for j in ndvi_ano:        \n",
      "        \n",
      "        if int(i[-7:-4]) == int(j[-7:-4]):\n",
      "            print (i,j)\n",
      "            ds_trend = gdal.Open(j, gdal.GA_ReadOnly)\n",
      "            array_trend = ds_trend.ReadAsArray().astype(float)\n",
      "            \n",
      "            out = array - array_trend # relative anomaly\n",
      "    \n",
      "            outPath = r'D:\\Data\\NDVIanomalytimeseries//abs_'+i[-16::]\n",
      "            print (outPath)\n",
      "            dikkelul.saveRaster(path=outPath, array=out, dsSource=ds_trend, datatype=6, formatraster='GTiff')\n",
      "            \n",
      "            ds_trend = None\n",
      "    ds = None"
     ],
     "language": "python",
     "metadata": {},
     "outputs": []
    },
    {
     "cell_type": "code",
     "collapsed": false,
     "input": [
      "out.max()"
     ],
     "language": "python",
     "metadata": {},
     "outputs": []
    },
    {
     "cell_type": "code",
     "collapsed": false,
     "input": [
      "ndvi_files = []\n",
      "sm_files = []\n",
      "for i in _ndvi_files:\n",
      "    for j in _sm_files:\n",
      "        if i[-11:-4] == j[-11:-4]:\n",
      "            ndvi_files.append(i)\n",
      "            sm_files.append(j)\n",
      "if len(ndvi_files) == len(sm_files):\n",
      "    print ('ok, next')"
     ],
     "language": "python",
     "metadata": {},
     "outputs": []
    },
    {
     "cell_type": "code",
     "collapsed": false,
     "input": [
      "outArray = np.empty([100, 6163])\n",
      "len(outArray)"
     ],
     "language": "python",
     "metadata": {},
     "outputs": []
    },
    {
     "cell_type": "code",
     "collapsed": false,
     "input": [
      "# Get info\n",
      "#rows = 2400\n",
      "raster = gdal.Open(ndvi0, gdal.GA_ReadOnly)\n",
      "XSize = raster.RasterXSize\n",
      "\n",
      "# Set arrays\n",
      "arr_NDVI = np.empty([len(ndvi_files),XSize])\n",
      "arr_SM = np.empty([len(sm_files),XSize])\n",
      "\n",
      "outArray = np.empty([3537, 6163])\n",
      "\n",
      "for row in range(len(outArray)):\n",
      "    print(row)\n",
      "    \n",
      "    for i in range(len(ndvi_files)):\n",
      "        #print (i)\n",
      "        path = ndvi_files[i]\n",
      "        #print (path)\n",
      "        raster = gdal.Open(path, gdal.GA_ReadOnly)\n",
      "        band = raster.GetRasterBand(1)\n",
      "        arr_NDVI[i] = band.ReadAsArray(0,row,XSize,1)\n",
      "        \n",
      "    for i in range(len(sm_files)):\n",
      "        #print (i)\n",
      "        path = sm_files[i]\n",
      "        #print (path)\n",
      "        raster = gdal.Open(path, gdal.GA_ReadOnly)\n",
      "        band = raster.GetRasterBand(1)\n",
      "        arr_SM[i] = band.ReadAsArray(0,row,XSize,1)\n",
      "    \n",
      "    arr_SM2 = arr_SM.T\n",
      "    meanSM = arr_SM2.mean(axis=1)\n",
      "    meanSM = meanSM[:,None]\n",
      "    stdSM = arr_SM2.std(axis=1)\n",
      "    stdSM = stdSM[:,None]\n",
      "    SMmean = arr_SM2 - meanSM\n",
      "    SMnorm = SMmean / stdSM\n",
      "    \n",
      "    arr_NDVI2 = arr_NDVI.T\n",
      "    meanNDVI = arr_NDVI2.mean(axis=1)\n",
      "    meanNDVI = meanNDVI[:,None]\n",
      "    stdNDVI = arr_NDVI2.std(axis=1)\n",
      "    stdNDVI = stdNDVI[:,None]\n",
      "    NDVImean = arr_NDVI2 - meanNDVI\n",
      "    NDVInorm = NDVImean / stdNDVI    \n",
      "    \n",
      "    xcorr = correlate1(SMnorm, NDVInorm)\n",
      "    \n",
      "    c = np.empty_like(xcorr[:,1])\n",
      "    for j in range (len(xcorr)):\n",
      "        #print (j)\n",
      "        c[j] = peak(xcorr,j)\n",
      "    \n",
      "    outArray[row] = c\n",
      "    #print (arrRow, ' finish')    "
     ],
     "language": "python",
     "metadata": {},
     "outputs": []
    },
    {
     "cell_type": "code",
     "collapsed": false,
     "input": [
      "figsize(24,10)\n",
      "plt.imshow(outArray)\n",
      "plt.colorbar()"
     ],
     "language": "python",
     "metadata": {},
     "outputs": []
    },
    {
     "cell_type": "code",
     "collapsed": false,
     "input": [
      "plt.imshow(outArray)\n",
      "plt.colorbar()"
     ],
     "language": "python",
     "metadata": {},
     "outputs": []
    },
    {
     "cell_type": "code",
     "collapsed": false,
     "input": [
      "print  (len(arr_NDVI))\n",
      "#arr_SM_2 = arr_SM[::2]\n",
      "column = 3400\n",
      "plt.plot(arr_SM[:,column])\n",
      "plt.plot(arr_NDVI[:,column])"
     ],
     "language": "python",
     "metadata": {},
     "outputs": []
    },
    {
     "cell_type": "code",
     "collapsed": false,
     "input": [
      "arr_SM2 = arr_SM.T\n",
      "meanSM = arr_SM2.mean(axis=1)\n",
      "meanSM = meanSM[:,None]\n",
      "stdSM = arr_SM2.std(axis=1)\n",
      "stdSM = stdSM[:,None]\n",
      "SMmean = arr_SM2 - meanSM\n",
      "SMnorm = SMmean / stdSM\n",
      "#SMnorm[5079]\n",
      "SMnorm.shape\n",
      "#plt.plot(SMnorm.T)"
     ],
     "language": "python",
     "metadata": {},
     "outputs": []
    },
    {
     "cell_type": "code",
     "collapsed": false,
     "input": [
      "arr_NDVI2 = arr_NDVI.T\n",
      "meanNDVI = arr_NDVI2.mean(axis=1)\n",
      "meanNDVI = meanNDVI[:,None]\n",
      "stdNDVI = arr_NDVI2.std(axis=1)\n",
      "stdNDVI = stdNDVI[:,None]\n",
      "NDVImean = arr_NDVI2 - meanNDVI\n",
      "NDVInorm = NDVImean / stdNDVI\n",
      "#NDVInorm[5079]\n",
      "NDVInorm.shape#len(NDVInorm)#plt.plot(NDVInorm.T)"
     ],
     "language": "python",
     "metadata": {},
     "outputs": []
    },
    {
     "cell_type": "code",
     "collapsed": false,
     "input": [
      "plt.plot(NDVInorm[column])\n",
      "plt.plot(SMnorm[column])         "
     ],
     "language": "python",
     "metadata": {},
     "outputs": []
    },
    {
     "cell_type": "code",
     "collapsed": false,
     "input": [
      "xcorr = np.correlate(SMnorm[column],NDVInorm[column], mode='same')\n",
      "plt.plot(xcorr)"
     ],
     "language": "python",
     "metadata": {},
     "outputs": []
    },
    {
     "cell_type": "code",
     "collapsed": false,
     "input": [
      "xcorr = correlate1(SMnorm, NDVInorm)"
     ],
     "language": "python",
     "metadata": {},
     "outputs": []
    },
    {
     "cell_type": "code",
     "collapsed": false,
     "input": [
      "c = np.empty_like(xcorr[:,1])\n",
      "for j in range (len(xcorr)):\n",
      "    #print (j)\n",
      "    c[j] = peak(xcorr,j)"
     ],
     "language": "python",
     "metadata": {},
     "outputs": []
    },
    {
     "cell_type": "code",
     "collapsed": false,
     "input": [
      "q = c[0:6150].reshape(123,50)\n",
      "\n",
      "plt.imshow(q)\n",
      "plt.colorbar()"
     ],
     "language": "python",
     "metadata": {},
     "outputs": []
    },
    {
     "cell_type": "code",
     "collapsed": false,
     "input": [
      "figsize(24,10)\n",
      "i = 3400\n",
      "v = xcorr\n",
      "\n",
      "def peak(ccf,i):\n",
      "    _max, _min = peakdet(ccf[i],0.003)\n",
      "    if len(_max) != 0: # check if ccf has values \n",
      "        if len(_max) == 1:\n",
      "            x = _max[0][0]\n",
      "        elif _max[0][0] != 0: # select first peak if peak is not at index[0] \n",
      "            x = _max[0][0]\n",
      "        else:\n",
      "            x = _max[4][0]\n",
      "    else:\n",
      "        x = np.nan \n",
      "    return x, _max\n",
      "\n",
      "x, q = peak(v,i)\n",
      "plt.plot(v[i]/40, ':')\n",
      "plt.plot(NDVInorm[i], '-')\n",
      "plt.plot(SMnorm[i], '--')\n",
      "\n",
      "# roll\n",
      "roll = NDVInorm[i]*100000\n",
      "roll = roll.astype(int)\n",
      "x = x.astype(int)\n",
      "shift = np.roll(roll, x)\n",
      "shift = shift.astype(float)\n",
      "shift /= 100000\n",
      "plt.plot(shift, 'm-')\n",
      "\n",
      "scatter(array(q)[:,0], array(q)[:,1]/40, color='red')\n",
      "plt.legend(['ccf','ndvi','sm','ndvi-shift','peaks'])\n",
      "#def jj(_max):    \n",
      "\n",
      "print (x)    "
     ],
     "language": "python",
     "metadata": {},
     "outputs": []
    },
    {
     "cell_type": "code",
     "collapsed": false,
     "input": [
      "nq = q.shape[-1]\n",
      "q_fft = np.fft.fft(q, )#n=2*nq)"
     ],
     "language": "python",
     "metadata": {},
     "outputs": []
    },
    {
     "cell_type": "code",
     "collapsed": false,
     "input": [
      "plt.plot(abs(q_fft.real)**2)"
     ],
     "language": "python",
     "metadata": {},
     "outputs": []
    },
    {
     "cell_type": "code",
     "collapsed": false,
     "input": [
      "shift"
     ],
     "language": "python",
     "metadata": {},
     "outputs": []
    },
    {
     "cell_type": "code",
     "collapsed": false,
     "input": [
      "#plt.plot(v)\n",
      "plt.plot(NDVInorm[i], '--')\n",
      "plt.plot(SMnorm[i])"
     ],
     "language": "python",
     "metadata": {},
     "outputs": []
    },
    {
     "cell_type": "code",
     "collapsed": false,
     "input": [
      "%timeit _max, _min = peakdet(v,.03)"
     ],
     "language": "python",
     "metadata": {},
     "outputs": []
    },
    {
     "cell_type": "code",
     "collapsed": false,
     "input": [
      "def jj(_max):    \n",
      "    if _max[0][0] != 0:\n",
      "        x = _max[0][0]\n",
      "    else:\n",
      "        x = _max[1][0]"
     ],
     "language": "python",
     "metadata": {},
     "outputs": []
    },
    {
     "cell_type": "code",
     "collapsed": false,
     "input": [
      "%timeit jj(_max)"
     ],
     "language": "python",
     "metadata": {},
     "outputs": []
    },
    {
     "cell_type": "code",
     "collapsed": false,
     "input": [
      "series = [0,0,0,2,0,0,0,-2,0,0,0,2,0,0,0,-2,0]\n",
      "maxtab, mintab = peakdet(series,.3)\n",
      "plot(series)\n",
      "scatter(array(maxtab)[:,0], array(maxtab)[:,1], color='blue')\n",
      "scatter(array(mintab)[:,0], array(mintab)[:,1], color='red')"
     ],
     "language": "python",
     "metadata": {},
     "outputs": []
    },
    {
     "cell_type": "code",
     "collapsed": false,
     "input": [],
     "language": "python",
     "metadata": {},
     "outputs": []
    }
   ],
   "metadata": {}
  }
 ]
}