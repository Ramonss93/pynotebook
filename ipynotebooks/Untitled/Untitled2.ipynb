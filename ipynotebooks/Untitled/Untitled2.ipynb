{
 "metadata": {
  "name": "Untitled2"
 },
 "nbformat": 3,
 "nbformat_minor": 0,
 "worksheets": [
  {
   "cells": [
    {
     "cell_type": "code",
     "collapsed": false,
     "input": [
      "import numpy as np\n",
      "import math\n",
      "from gdalconst import *\n",
      "import gdal"
     ],
     "language": "python",
     "metadata": {},
     "outputs": [],
     "prompt_number": 1
    },
    {
     "cell_type": "code",
     "collapsed": false,
     "input": [
      "filein = r'I:\\NVAI_20132091nan883.tif'\n",
      "ds1 = gdal.Open(filein, GA_ReadOnly)\n",
      "band1 = ds1.GetRasterBand(1)\n",
      "data1 = band1.ReadAsArray()\n",
      "NA1 = band1.GetNoDataValue()"
     ],
     "language": "python",
     "metadata": {},
     "outputs": [],
     "prompt_number": 105
    },
    {
     "cell_type": "code",
     "collapsed": false,
     "input": [
      "data1"
     ],
     "language": "python",
     "metadata": {},
     "outputs": [
      {
       "output_type": "pyout",
       "prompt_number": 106,
       "text": [
        "array([[-99., -99., -99., ..., -99., -99., -99.],\n",
        "       [-99., -99., -99., ..., -99., -99., -99.],\n",
        "       [-99., -99., -99., ..., -99., -99., -99.],\n",
        "       ..., \n",
        "       [-99., -99., -99., ..., -99., -99., -99.],\n",
        "       [-99., -99., -99., ..., -99., -99., -99.],\n",
        "       [-99., -99., -99., ..., -99., -99., -99.]], dtype=float32)"
       ]
      }
     ],
     "prompt_number": 106
    },
    {
     "cell_type": "code",
     "collapsed": false,
     "input": [
      "data1[data1==-99] = np.no"
     ],
     "language": "python",
     "metadata": {},
     "outputs": [],
     "prompt_number": 113
    },
    {
     "cell_type": "code",
     "collapsed": false,
     "input": [
      "data1"
     ],
     "language": "python",
     "metadata": {},
     "outputs": [
      {
       "output_type": "pyout",
       "prompt_number": 114,
       "text": [
        "array([[ nan,  nan,  nan, ...,  nan,  nan,  nan],\n",
        "       [ nan,  nan,  nan, ...,  nan,  nan,  nan],\n",
        "       [ nan,  nan,  nan, ...,  nan,  nan,  nan],\n",
        "       ..., \n",
        "       [ nan,  nan,  nan, ...,  nan,  nan,  nan],\n",
        "       [ nan,  nan,  nan, ...,  nan,  nan,  nan],\n",
        "       [ nan,  nan,  nan, ...,  nan,  nan,  nan]], dtype=float32)"
       ]
      }
     ],
     "prompt_number": 114
    },
    {
     "cell_type": "code",
     "collapsed": false,
     "input": [
      "data1"
     ],
     "language": "python",
     "metadata": {},
     "outputs": [
      {
       "output_type": "pyout",
       "prompt_number": 109,
       "text": [
        "array([[-99., -99., -99., ..., -99., -99., -99.],\n",
        "       [-99., -99., -99., ..., -99., -99., -99.],\n",
        "       [-99., -99., -99., ..., -99., -99., -99.],\n",
        "       ..., \n",
        "       [-99., -99., -99., ..., -99., -99., -99.],\n",
        "       [-99., -99., -99., ..., -99., -99., -99.],\n",
        "       [-99., -99., -99., ..., -99., -99., -99.]], dtype=float32)"
       ]
      }
     ],
     "prompt_number": 109
    },
    {
     "cell_type": "code",
     "collapsed": false,
     "input": [
      "np.sum([a>1])"
     ],
     "language": "python",
     "metadata": {},
     "outputs": [
      {
       "output_type": "pyout",
       "prompt_number": 82,
       "text": [
        "0"
       ]
      }
     ],
     "prompt_number": 82
    },
    {
     "cell_type": "code",
     "collapsed": false,
     "input": [
      "math.isnan(a[4940373])"
     ],
     "language": "python",
     "metadata": {},
     "outputs": [
      {
       "output_type": "pyout",
       "prompt_number": 84,
       "text": [
        "False"
       ]
      }
     ],
     "prompt_number": 84
    },
    {
     "cell_type": "code",
     "collapsed": false,
     "input": [
      "ind = np.where(~np.isnan(data1"
     ],
     "language": "python",
     "metadata": {},
     "outputs": []
    },
    {
     "cell_type": "code",
     "collapsed": false,
     "input": [],
     "language": "python",
     "metadata": {},
     "outputs": []
    },
    {
     "cell_type": "code",
     "collapsed": false,
     "input": [],
     "language": "python",
     "metadata": {},
     "outputs": []
    },
    {
     "cell_type": "code",
     "collapsed": false,
     "input": [],
     "language": "python",
     "metadata": {},
     "outputs": []
    },
    {
     "cell_type": "code",
     "collapsed": false,
     "input": [
      "# Set Driver\n",
      "format = \"GTiff\"\n",
      "driver = gdal.GetDriverByName( format )\n",
      "driver.Register()\n",
      "\n",
      "# Set Metadata for Raster output\n",
      "cols = ds1.RasterXSize\n",
      "rows = ds1.RasterYSize\n",
      "bands = ds1.RasterCount\n",
      "datatype = band1.DataType\n",
      "\n",
      "# Set Projection for Raster\n",
      "outDataset = driver.Create(r'I:/NVAI_20132091nan8834.tif', cols, rows, bands, datatype)\n",
      "geoTransform = ds1.GetGeoTransform()\n",
      "outDataset.SetGeoTransform(geoTransform)\n",
      "proj = ds1.GetProjection()\n",
      "outDataset.SetProjection(proj)\n",
      "\n",
      "# Write output to band 1 of new Raster\n",
      "outBand = outDataset.GetRasterBand(1)\n",
      "outBand.WriteArray(data1,0,0)\n",
      "\n",
      "# Close and finalise newly created Raster\n",
      "outBand = None\n",
      "outDataset = None\n",
      "driver = None\n",
      "geTransform = None\n",
      "proj = None\n",
      "cols = None\n",
      "rows = None\n",
      "bands = None\n",
      "datatype = None\n",
      "\n",
      "ds1 = None\n",
      "band1 = None\n",
      "data1 = None"
     ],
     "language": "python",
     "metadata": {},
     "outputs": [],
     "prompt_number": 115
    },
    {
     "cell_type": "code",
     "collapsed": false,
     "input": [
      "fh = gdal.Open ( r'I:\\Data\\MODIS16\\2009_h25h26h27v04\\MOD16A2.A2009017.h25v04.105.2013124050448.hdf')"
     ],
     "language": "python",
     "metadata": {},
     "outputs": [],
     "prompt_number": 119
    },
    {
     "cell_type": "code",
     "collapsed": false,
     "input": [
      "import gdal"
     ],
     "language": "python",
     "metadata": {},
     "outputs": [],
     "prompt_number": 121
    },
    {
     "cell_type": "code",
     "collapsed": false,
     "input": [
      "fh = gdal.Open (r'I:\\Data\\MODIS16\\2009_h25h26h27v04\\MOD16A2.A2009001.h25v04.105.2013124050442.hdf')"
     ],
     "language": "python",
     "metadata": {},
     "outputs": [],
     "prompt_number": 123
    },
    {
     "cell_type": "code",
     "collapsed": false,
     "input": [
      "fh"
     ],
     "language": "python",
     "metadata": {},
     "outputs": [],
     "prompt_number": 124
    },
    {
     "cell_type": "code",
     "collapsed": false,
     "input": [],
     "language": "python",
     "metadata": {},
     "outputs": []
    }
   ],
   "metadata": {}
  }
 ]
}