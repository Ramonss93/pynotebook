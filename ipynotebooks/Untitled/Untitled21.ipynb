{
 "metadata": {
  "name": ""
 },
 "nbformat": 3,
 "nbformat_minor": 0,
 "worksheets": [
  {
   "cells": [
    {
     "cell_type": "code",
     "collapsed": false,
     "input": [
      "from osgeo import osr, gdal\n",
      "\n",
      "# get the existing coordinate system\n",
      "folderDEM = r'E:\\Data\\WangKun@Mattijn\\dem.tif'\n",
      "path = r'D:\\Downloads\\Hu@Mattijn\\SRTM_DEM_China_1km\\SRTM_DEM_China_1km//DEM_China.tif'\n",
      "ds = gdal.Open(folderDEM)\n",
      "old_cs= osr.SpatialReference()\n",
      "old_cs.ImportFromWkt(ds.GetProjectionRef())\n",
      "\n",
      "# create the new coordinate system\n",
      "wgs84_wkt = \"\"\"\n",
      "GEOGCS[\"WGS 84\",\n",
      "    DATUM[\"WGS_1984\",\n",
      "        SPHEROID[\"WGS 84\",6378137,298.257223563,\n",
      "            AUTHORITY[\"EPSG\",\"7030\"]],\n",
      "        AUTHORITY[\"EPSG\",\"6326\"]],\n",
      "    PRIMEM[\"Greenwich\",0,\n",
      "        AUTHORITY[\"EPSG\",\"8901\"]],\n",
      "    UNIT[\"degree\",0.01745329251994328,\n",
      "        AUTHORITY[\"EPSG\",\"9122\"]],\n",
      "    AUTHORITY[\"EPSG\",\"4326\"]]\"\"\"\n",
      "new_cs = osr.SpatialReference()\n",
      "new_cs .ImportFromWkt(wgs84_wkt)\n",
      "\n",
      "# create a transform object to convert between coordinate systems\n",
      "transform = osr.CoordinateTransformation(old_cs,new_cs) \n",
      "\n",
      "#get the point to transform, pixel (0,0) in this case\n",
      "width = ds.RasterXSize\n",
      "height = ds.RasterYSize\n",
      "gt = ds.GetGeoTransform()\n",
      "minx = gt[0]\n",
      "maxx = gt[0] + height*gt[2] + width*gt[1]\n",
      "miny = gt[3] + width*gt[4] + height*gt[5]\n",
      "maxy = gt[3]\n",
      "\n",
      "#get the coordinates in lat long\n",
      "ll_latlong = transform.TransformPoint(minx,miny)\n",
      "ll_lat = ll_latlong[0]\n",
      "ll_lon = ll_latlong[1]\n",
      "\n",
      "ul_latlong = transform.TransformPoint(minx,maxy)\n",
      "ul_lat = ul_latlong[0]\n",
      "ul_lon = ul_latlong[1]\n",
      "\n",
      "lr_latlong = transform.TransformPoint(maxx,miny)\n",
      "lr_lat = lr_latlong[0]\n",
      "lr_lon = lr_latlong[1]\n",
      "\n",
      "ur_latlong = transform.TransformPoint(maxx,maxy)\n",
      "ur_lat = ur_latlong[0]\n",
      "ur_lon = ur_latlong[1]\n"
     ],
     "language": "python",
     "metadata": {},
     "outputs": [],
     "prompt_number": 74
    },
    {
     "cell_type": "code",
     "collapsed": false,
     "input": [
      "(ul_lon-ll_lon)/height"
     ],
     "language": "python",
     "metadata": {},
     "outputs": [
      {
       "metadata": {},
       "output_type": "pyout",
       "prompt_number": 77,
       "text": [
        "0.008358081484799414"
       ]
      }
     ],
     "prompt_number": 77
    },
    {
     "cell_type": "code",
     "collapsed": false,
     "input": [
      "(ur_lon-lr_lon)/height"
     ],
     "language": "python",
     "metadata": {},
     "outputs": [
      {
       "metadata": {},
       "output_type": "pyout",
       "prompt_number": 78,
       "text": [
        "0.008287562996644597"
       ]
      }
     ],
     "prompt_number": 78
    },
    {
     "cell_type": "code",
     "collapsed": false,
     "input": [
      "(lr_lat-ll_lat)/width"
     ],
     "language": "python",
     "metadata": {},
     "outputs": [
      {
       "metadata": {},
       "output_type": "pyout",
       "prompt_number": 72,
       "text": [
        "0.009487124609339287"
       ]
      }
     ],
     "prompt_number": 72
    },
    {
     "cell_type": "code",
     "collapsed": false,
     "input": [
      "(ur_lat-ul_lat)/width"
     ],
     "language": "python",
     "metadata": {},
     "outputs": [
      {
       "metadata": {},
       "output_type": "pyout",
       "prompt_number": 79,
       "text": [
        "0.015188125748705242"
       ]
      }
     ],
     "prompt_number": 79
    },
    {
     "cell_type": "code",
     "collapsed": false,
     "input": [
      "ll_lat=ll_latlong[0]\n",
      "ll_long = ll_latlong[1]"
     ],
     "language": "python",
     "metadata": {},
     "outputs": [],
     "prompt_number": 28
    },
    {
     "cell_type": "code",
     "collapsed": false,
     "input": [
      "ul_latlong = transform.TransformPoint(gt[0],gt[3])"
     ],
     "language": "python",
     "metadata": {},
     "outputs": [],
     "prompt_number": 18
    },
    {
     "cell_type": "code",
     "collapsed": false,
     "input": [
      "ul_lat=ul_latlong[0]\n",
      "ul_long=ul_latlong[1]#ll_latlong[0:2]"
     ],
     "language": "python",
     "metadata": {},
     "outputs": [],
     "prompt_number": 29
    },
    {
     "cell_type": "code",
     "collapsed": false,
     "input": [
      "(ul_long-ll_long)/height"
     ],
     "language": "python",
     "metadata": {},
     "outputs": [
      {
       "metadata": {},
       "output_type": "pyout",
       "prompt_number": 35,
       "text": [
        "0.008358081484799414"
       ]
      }
     ],
     "prompt_number": 35
    },
    {
     "cell_type": "code",
     "collapsed": false,
     "input": [
      "path = r'D:\\Downloads\\Hu@Mattijn\\SRTM_DEM_China_1km\\SRTM_DEM_China_1km//DEM_China.tif'\n"
     ],
     "language": "python",
     "metadata": {},
     "outputs": [],
     "prompt_number": 36
    },
    {
     "cell_type": "code",
     "collapsed": false,
     "input": [
      "ds = gdal.Open(path)\n",
      "print ('gt\\n',ds.GetGeoTransform(),'\\nwidth\\n',ds.RasterXSize,'\\nheight\\n',ds.RasterYSize)"
     ],
     "language": "python",
     "metadata": {},
     "outputs": [
      {
       "output_type": "stream",
       "stream": "stdout",
       "text": [
        "gt\n",
        " (60.0, 0.00833333, 0.0, 60.83333181, 0.0, -0.00833333) \n",
        "width\n",
        " 9601 \n",
        "height\n",
        " 6401\n"
       ]
      }
     ],
     "prompt_number": 44
    },
    {
     "cell_type": "code",
     "collapsed": false,
     "input": [],
     "language": "python",
     "metadata": {},
     "outputs": []
    }
   ],
   "metadata": {}
  }
 ]
}