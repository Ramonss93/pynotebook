{
 "metadata": {
  "name": ""
 },
 "nbformat": 3,
 "nbformat_minor": 0,
 "worksheets": [
  {
   "cells": [
    {
     "cell_type": "markdown",
     "metadata": {},
     "source": [
      "Downlad the toy example data <a href=\"https://github.com/mattijn/pynotebook/blob/master/idata/yeah.zip\">here</a>"
     ]
    },
    {
     "cell_type": "markdown",
     "metadata": {},
     "source": [
      "Load some modules"
     ]
    },
    {
     "cell_type": "code",
     "collapsed": false,
     "input": [
      "import numpy as np\n",
      "import pandas as pd\n",
      "from scipy.spatial import cKDTree as KDTree\n",
      "from scipy.interpolate import Rbf"
     ],
     "language": "python",
     "metadata": {},
     "outputs": [],
     "prompt_number": 1
    },
    {
     "cell_type": "markdown",
     "metadata": {},
     "source": [
      "Load elevation data, load coordinates (in meters), load some information of station data nearby. Create a KDTree with the coordinates of the station and create an empty output array for the results"
     ]
    },
    {
     "cell_type": "code",
     "collapsed": false,
     "input": [
      "# Load data\n",
      "dem = np.load(r'D:\\GitHub\\pynotebook\\idata//dem.npy')\n",
      "xy = np.load(r'D:\\GitHub\\pynotebook\\idata//xy.npy')\n",
      "df = pd.read_csv(r'D:\\GitHub\\pynotebook\\idata//stationdata.csv')\n",
      "\n",
      "# Create KDTree\n",
      "tree = KDTree(df.ix[:,3:5], leafsize=11)\n",
      "outarr = np.empty(dem.shape)\n",
      "#dem *= -1\n",
      "print ('xy values\\n',xy)\n",
      "print ('z values\\n',dem)\n",
      "df.head(20)"
     ],
     "language": "python",
     "metadata": {},
     "outputs": [
      {
       "output_type": "stream",
       "stream": "stdout",
       "text": [
        "xy values\n",
        " [[ 5050000.  2550000.]\n",
        " [ 5150000.  2600000.]\n",
        " [ 5250000.  2650000.]\n",
        " [ 5350000.  2700000.]\n",
        " [ 5450000.  2750000.]\n",
        " [ 5550000.  2800000.]\n",
        " [ 5650000.  2850000.]\n",
        " [ 5750000.  2900000.]\n",
        " [ 5850000.  2950000.]\n",
        " [ 5950000.  3000000.]]\n",
        "z values\n",
        " [-455. -490. -466. -532. -436. -275. -937. -290. -396. -459.]\n"
       ]
      },
      {
       "html": [
        "<div style=\"max-height:1000px;max-width:1500px;overflow:auto;\">\n",
        "<table border=\"1\" class=\"dataframe\">\n",
        "  <thead>\n",
        "    <tr style=\"text-align: right;\">\n",
        "      <th></th>\n",
        "      <th>Station</th>\n",
        "      <th>TEMP</th>\n",
        "      <th>Elev</th>\n",
        "      <th>POINT_X</th>\n",
        "      <th>POINT_Y</th>\n",
        "    </tr>\n",
        "  </thead>\n",
        "  <tbody>\n",
        "    <tr>\n",
        "      <th>0 </th>\n",
        "      <td> 50136</td>\n",
        "      <td>-1045.000000</td>\n",
        "      <td> 433.0</td>\n",
        "      <td> 5473928.503</td>\n",
        "      <td> 3209653.795</td>\n",
        "    </tr>\n",
        "    <tr>\n",
        "      <th>1 </th>\n",
        "      <td> 50246</td>\n",
        "      <td> -940.416667</td>\n",
        "      <td> 361.9</td>\n",
        "      <td> 5621191.187</td>\n",
        "      <td> 3199563.174</td>\n",
        "    </tr>\n",
        "    <tr>\n",
        "      <th>2 </th>\n",
        "      <td> 50349</td>\n",
        "      <td>-1003.750000</td>\n",
        "      <td> 494.6</td>\n",
        "      <td> 5626513.511</td>\n",
        "      <td> 3108424.145</td>\n",
        "    </tr>\n",
        "    <tr>\n",
        "      <th>3 </th>\n",
        "      <td> 50353</td>\n",
        "      <td> -863.333333</td>\n",
        "      <td> 177.4</td>\n",
        "      <td> 5770514.642</td>\n",
        "      <td> 3144551.515</td>\n",
        "    </tr>\n",
        "    <tr>\n",
        "      <th>4 </th>\n",
        "      <td> 50425</td>\n",
        "      <td> -441.250000</td>\n",
        "      <td> 581.4</td>\n",
        "      <td> 5382630.523</td>\n",
        "      <td> 2908127.877</td>\n",
        "    </tr>\n",
        "    <tr>\n",
        "      <th>5 </th>\n",
        "      <td> 50434</td>\n",
        "      <td> -777.500000</td>\n",
        "      <td> 732.6</td>\n",
        "      <td> 5467613.916</td>\n",
        "      <td> 2941348.606</td>\n",
        "    </tr>\n",
        "    <tr>\n",
        "      <th>6 </th>\n",
        "      <td> 50442</td>\n",
        "      <td> -844.583333</td>\n",
        "      <td> 371.7</td>\n",
        "      <td> 5648287.259</td>\n",
        "      <td> 2974749.295</td>\n",
        "    </tr>\n",
        "    <tr>\n",
        "      <th>7 </th>\n",
        "      <td> 50468</td>\n",
        "      <td> -717.083333</td>\n",
        "      <td> 166.4</td>\n",
        "      <td> 5865502.005</td>\n",
        "      <td> 3017634.508</td>\n",
        "    </tr>\n",
        "    <tr>\n",
        "      <th>8 </th>\n",
        "      <td> 50514</td>\n",
        "      <td> -806.250000</td>\n",
        "      <td> 661.7</td>\n",
        "      <td> 5203646.235</td>\n",
        "      <td> 2781576.216</td>\n",
        "    </tr>\n",
        "    <tr>\n",
        "      <th>9 </th>\n",
        "      <td> 50527</td>\n",
        "      <td> -408.333333</td>\n",
        "      <td> 610.2</td>\n",
        "      <td> 5359169.346</td>\n",
        "      <td> 2784110.946</td>\n",
        "    </tr>\n",
        "    <tr>\n",
        "      <th>10</th>\n",
        "      <td> 50548</td>\n",
        "      <td> -764.166667</td>\n",
        "      <td> 286.1</td>\n",
        "      <td> 5633412.356</td>\n",
        "      <td> 2839046.236</td>\n",
        "    </tr>\n",
        "    <tr>\n",
        "      <th>11</th>\n",
        "      <td> 50557</td>\n",
        "      <td> -477.500000</td>\n",
        "      <td> 242.2</td>\n",
        "      <td> 5751009.737</td>\n",
        "      <td> 2864036.782</td>\n",
        "    </tr>\n",
        "    <tr>\n",
        "      <th>12</th>\n",
        "      <td> 50564</td>\n",
        "      <td> -634.166667</td>\n",
        "      <td> 234.5</td>\n",
        "      <td> 5887461.864</td>\n",
        "      <td> 2917406.670</td>\n",
        "    </tr>\n",
        "    <tr>\n",
        "      <th>13</th>\n",
        "      <td> 50603</td>\n",
        "      <td> -405.833333</td>\n",
        "      <td> 554.2</td>\n",
        "      <td> 5167195.972</td>\n",
        "      <td> 2665659.939</td>\n",
        "    </tr>\n",
        "    <tr>\n",
        "      <th>14</th>\n",
        "      <td> 50618</td>\n",
        "      <td> -293.333333</td>\n",
        "      <td> 642.0</td>\n",
        "      <td> 5289627.033</td>\n",
        "      <td> 2654087.139</td>\n",
        "    </tr>\n",
        "    <tr>\n",
        "      <th>15</th>\n",
        "      <td> 50632</td>\n",
        "      <td> -660.416667</td>\n",
        "      <td> 739.7</td>\n",
        "      <td> 5519613.514</td>\n",
        "      <td> 2736504.101</td>\n",
        "    </tr>\n",
        "    <tr>\n",
        "      <th>16</th>\n",
        "      <td> 50639</td>\n",
        "      <td> -546.250000</td>\n",
        "      <td> 306.5</td>\n",
        "      <td> 5592637.469</td>\n",
        "      <td> 2697348.444</td>\n",
        "    </tr>\n",
        "    <tr>\n",
        "      <th>17</th>\n",
        "      <td> 50656</td>\n",
        "      <td> -277.083333</td>\n",
        "      <td> 269.7</td>\n",
        "      <td> 5857254.291</td>\n",
        "      <td> 2779403.828</td>\n",
        "    </tr>\n",
        "    <tr>\n",
        "      <th>18</th>\n",
        "      <td> 50658</td>\n",
        "      <td> -192.083333</td>\n",
        "      <td> 234.6</td>\n",
        "      <td> 5807139.622</td>\n",
        "      <td> 2750191.686</td>\n",
        "    </tr>\n",
        "    <tr>\n",
        "      <th>19</th>\n",
        "      <td> 50727</td>\n",
        "      <td> -187.500000</td>\n",
        "      <td> 997.2</td>\n",
        "      <td> 5409877.671</td>\n",
        "      <td> 2554057.420</td>\n",
        "    </tr>\n",
        "  </tbody>\n",
        "</table>\n",
        "</div>"
       ],
       "metadata": {},
       "output_type": "pyout",
       "prompt_number": 2,
       "text": [
        "    Station         TEMP   Elev      POINT_X      POINT_Y\n",
        "0     50136 -1045.000000  433.0  5473928.503  3209653.795\n",
        "1     50246  -940.416667  361.9  5621191.187  3199563.174\n",
        "2     50349 -1003.750000  494.6  5626513.511  3108424.145\n",
        "3     50353  -863.333333  177.4  5770514.642  3144551.515\n",
        "4     50425  -441.250000  581.4  5382630.523  2908127.877\n",
        "5     50434  -777.500000  732.6  5467613.916  2941348.606\n",
        "6     50442  -844.583333  371.7  5648287.259  2974749.295\n",
        "7     50468  -717.083333  166.4  5865502.005  3017634.508\n",
        "8     50514  -806.250000  661.7  5203646.235  2781576.216\n",
        "9     50527  -408.333333  610.2  5359169.346  2784110.946\n",
        "10    50548  -764.166667  286.1  5633412.356  2839046.236\n",
        "11    50557  -477.500000  242.2  5751009.737  2864036.782\n",
        "12    50564  -634.166667  234.5  5887461.864  2917406.670\n",
        "13    50603  -405.833333  554.2  5167195.972  2665659.939\n",
        "14    50618  -293.333333  642.0  5289627.033  2654087.139\n",
        "15    50632  -660.416667  739.7  5519613.514  2736504.101\n",
        "16    50639  -546.250000  306.5  5592637.469  2697348.444\n",
        "17    50656  -277.083333  269.7  5857254.291  2779403.828\n",
        "18    50658  -192.083333  234.6  5807139.622  2750191.686\n",
        "19    50727  -187.500000  997.2  5409877.671  2554057.420"
       ]
      }
     ],
     "prompt_number": 2
    },
    {
     "cell_type": "code",
     "collapsed": false,
     "input": [
      "# IDW KDTREE\n",
      "dist, idx = tree.query(xy, k=8, eps=0, p=1)\n",
      "columns = [\"TEMP\"]\n",
      "tmp = df[columns].values.T[:, idx, None]\n",
      "tmp = np.squeeze(tmp)\n",
      "weights = (1/dist)**2\n",
      "q = np.sum(weights, axis=1)\n",
      "q = q[:,None]\n",
      "weightsq =  weights / q\n",
      "wz = np.einsum(\"ij,ij->i\", weightsq, tmp)\n",
      "print ('tmp\\n',tmp[0],'\\nw\\n',weights[0],'\\nwq\\n',weightsq[0],'\\nwz\\n',wz[0])\n",
      "#zi = np.dot(weights.T, tmp)\n",
      "\n",
      "#rdist /= np.sum(rdist)\n",
      "#one = np.ones_like(px)\n",
      "#m = np.concatenate((one,px,py,elev), axis =-1)\n",
      "#mtm = np.einsum(\"ijx,ijy->ixy\", m, m)\n",
      "#mty = np.einsum(\"ijx,ij->ix\", m, tmp)\n",
      "#b1,b2,b3 = np.linalg.solve(mtm, mty)[:, 1:].T\n",
      "#px, py, elev = px.squeeze(), py.squeeze(), elev.squeeze()\n",
      "#b1 = b1[:,None]\n",
      "#b2 = b2[:,None]\n",
      "#b3 = b3[:,None]\n",
      "#rdist = (1/dist)**2\n",
      "#t0 = tmp + b1*(xy[:,0,None]-px) + b2*(xy[:,1,None]-py) + b3*(dem[:,None]-elev)\n",
      "#outarr = (t0*rdist).sum(1) / rdist.sum(1)"
     ],
     "language": "python",
     "metadata": {},
     "outputs": [
      {
       "output_type": "stream",
       "stream": "stdout",
       "text": [
        "tmp\n",
        " [-405.83333333 -293.33333333 -187.5        -806.25       -408.33333333\n",
        " -660.41666667 -546.25       -441.25      ] \n",
        "w\n",
        " [  1.84427410e-11   8.46457430e-12   7.55009010e-12   6.73871082e-12\n",
        "   3.38806784e-12   2.32293258e-12   2.10048484e-12   2.09578945e-12] \n",
        "wq\n",
        " [ 0.36089075  0.16563626  0.14774147  0.13186426  0.0662983   0.04545555\n",
        "  0.04110265  0.04101077] \n",
        "wz\n",
        " -426.704946789\n"
       ]
      }
     ],
     "prompt_number": 3
    },
    {
     "cell_type": "code",
     "collapsed": false,
     "input": [
      "weights / q "
     ],
     "language": "python",
     "metadata": {},
     "outputs": [
      {
       "metadata": {},
       "output_type": "pyout",
       "prompt_number": 250,
       "text": [
        "array([[ 0.36089075,  0.16563626,  0.14774147,  0.13186426,  0.0662983 ,\n",
        "         0.04545555,  0.04110265,  0.04101077],\n",
        "       [ 0.66727462,  0.12207558,  0.08279308,  0.04898004,  0.02961742,\n",
        "         0.01788334,  0.01571038,  0.01566553],\n",
        "       [ 0.7357836 ,  0.14502403,  0.04441159,  0.02375641,  0.02148448,\n",
        "         0.01108684,  0.00924478,  0.00920827],\n",
        "       [ 0.35370566,  0.27244013,  0.07265167,  0.07244219,  0.06527183,\n",
        "         0.05924052,  0.05309565,  0.05115235],\n",
        "       [ 0.44647667,  0.19755366,  0.08086182,  0.07062564,  0.06064797,\n",
        "         0.05533964,  0.04695156,  0.04154303],\n",
        "       [ 0.36397465,  0.21392465,  0.15197556,  0.07507159,  0.06408741,\n",
        "         0.04566623,  0.04303262,  0.0422673 ],\n",
        "       [ 0.85753913,  0.04914499,  0.04067297,  0.01474787,  0.01093617,\n",
        "         0.00985226,  0.00868094,  0.00842566],\n",
        "       [ 0.80184717,  0.04570183,  0.03520119,  0.03477448,  0.02559397,\n",
        "         0.02111349,  0.02016691,  0.01560096],\n",
        "       [ 0.43500552,  0.30888146,  0.06749404,  0.06240946,  0.04162791,\n",
        "         0.03625333,  0.02842873,  0.01989954],\n",
        "       [ 0.49629619,  0.24577954,  0.05272687,  0.04930376,  0.0484251 ,\n",
        "         0.04614237,  0.03357502,  0.02775116]])"
       ]
      }
     ],
     "prompt_number": 250
    },
    {
     "cell_type": "code",
     "collapsed": false,
     "input": [
      "q = np.sum(weights, axis=1)\n",
      "q = q[:,None]\n",
      "q"
     ],
     "language": "python",
     "metadata": {},
     "outputs": [
      {
       "metadata": {},
       "output_type": "pyout",
       "prompt_number": 249,
       "text": [
        "array([[  5.11033909e-11],\n",
        "       [  2.18297318e-10],\n",
        "       [  7.11222325e-10],\n",
        "       [  3.24921311e-10],\n",
        "       [  3.24265540e-10],\n",
        "       [  3.11717108e-10],\n",
        "       [  1.53735362e-09],\n",
        "       [  9.12305042e-10],\n",
        "       [  4.68408266e-10],\n",
        "       [  1.93166189e-10]])"
       ]
      }
     ],
     "prompt_number": 249
    },
    {
     "cell_type": "code",
     "collapsed": false,
     "input": [
      "dist_tree, idx = tree.query(xy, k=8, eps=0, p=1) # returns distance and index\n",
      "columns = ['TEMP']\n",
      "tmp = df[columns].values.T[:, idx, None]\n",
      "tmp = tmp.squeeze()\n",
      "w  = (1/ dist_tree)**2\n",
      "wsum = np.sum(w)\n",
      "wq = w/np.sum(w)\n",
      "wz = np.dot(wq,tmp)\n",
      "print('tmp\\n',tmp,'\\nw\\n',w,'\\nwsum\\n',wsum,'\\nwq\\n',wq,'\\nwz\\n',wz)"
     ],
     "language": "python",
     "metadata": {},
     "outputs": [
      {
       "ename": "ValueError",
       "evalue": "matrices are not aligned",
       "output_type": "pyerr",
       "traceback": [
        "\u001b[1;31m---------------------------------------------------------------------------\u001b[0m\n\u001b[1;31mValueError\u001b[0m                                Traceback (most recent call last)",
        "\u001b[1;32m<ipython-input-7-6e2191a3129a>\u001b[0m in \u001b[0;36m<module>\u001b[1;34m()\u001b[0m\n\u001b[0;32m      6\u001b[0m \u001b[0mwsum\u001b[0m \u001b[1;33m=\u001b[0m \u001b[0mnp\u001b[0m\u001b[1;33m.\u001b[0m\u001b[0msum\u001b[0m\u001b[1;33m(\u001b[0m\u001b[0mw\u001b[0m\u001b[1;33m)\u001b[0m\u001b[1;33m\u001b[0m\u001b[0m\n\u001b[0;32m      7\u001b[0m \u001b[0mwq\u001b[0m \u001b[1;33m=\u001b[0m \u001b[0mw\u001b[0m\u001b[1;33m/\u001b[0m\u001b[0mnp\u001b[0m\u001b[1;33m.\u001b[0m\u001b[0msum\u001b[0m\u001b[1;33m(\u001b[0m\u001b[0mw\u001b[0m\u001b[1;33m)\u001b[0m\u001b[1;33m\u001b[0m\u001b[0m\n\u001b[1;32m----> 8\u001b[1;33m \u001b[0mwz\u001b[0m \u001b[1;33m=\u001b[0m \u001b[0mnp\u001b[0m\u001b[1;33m.\u001b[0m\u001b[0mdot\u001b[0m\u001b[1;33m(\u001b[0m\u001b[0mwq\u001b[0m\u001b[1;33m,\u001b[0m\u001b[0mtmp\u001b[0m\u001b[1;33m)\u001b[0m\u001b[1;33m\u001b[0m\u001b[0m\n\u001b[0m\u001b[0;32m      9\u001b[0m \u001b[0mprint\u001b[0m\u001b[1;33m(\u001b[0m\u001b[1;34m'tmp\\n'\u001b[0m\u001b[1;33m,\u001b[0m\u001b[0mtmp\u001b[0m\u001b[1;33m,\u001b[0m\u001b[1;34m'\\nw\\n'\u001b[0m\u001b[1;33m,\u001b[0m\u001b[0mw\u001b[0m\u001b[1;33m,\u001b[0m\u001b[1;34m'\\nwsum\\n'\u001b[0m\u001b[1;33m,\u001b[0m\u001b[0mwsum\u001b[0m\u001b[1;33m,\u001b[0m\u001b[1;34m'\\nwq\\n'\u001b[0m\u001b[1;33m,\u001b[0m\u001b[0mwq\u001b[0m\u001b[1;33m,\u001b[0m\u001b[1;34m'\\nwz\\n'\u001b[0m\u001b[1;33m,\u001b[0m\u001b[0mwz\u001b[0m\u001b[1;33m)\u001b[0m\u001b[1;33m\u001b[0m\u001b[0m\n",
        "\u001b[1;31mValueError\u001b[0m: matrices are not aligned"
       ]
      }
     ],
     "prompt_number": 7
    },
    {
     "cell_type": "code",
     "collapsed": false,
     "input": [
      "np.einsum('ij',tmp) # weightings"
     ],
     "language": "python",
     "metadata": {},
     "outputs": [
      {
       "metadata": {},
       "output_type": "pyout",
       "prompt_number": 120,
       "text": [
        "array([[ -405.83333333,  -293.33333333,  -187.5       ,  -806.25      ,\n",
        "         -408.33333333,  -660.41666667,  -546.25      ,  -441.25      ],\n",
        "       [ -405.83333333,  -293.33333333,  -806.25      ,  -187.5       ,\n",
        "         -408.33333333,  -660.41666667,  -546.25      ,  -441.25      ],\n",
        "       [ -293.33333333,  -405.83333333,  -806.25      ,  -408.33333333,\n",
        "         -187.5       ,  -660.41666667,  -546.25      ,  -441.25      ],\n",
        "       [ -408.33333333,  -293.33333333,  -187.5       ,  -660.41666667,\n",
        "         -405.83333333,  -806.25      ,  -441.25      ,  -546.25      ],\n",
        "       [ -660.41666667,  -408.33333333,  -546.25      ,  -777.5       ,\n",
        "         -441.25      ,  -187.5       ,  -293.33333333,  -764.16666667],\n",
        "       [ -660.41666667,  -764.16666667,  -546.25      ,  -408.33333333,\n",
        "         -777.5       ,  -477.5       ,  -844.58333333,  -441.25      ],\n",
        "       [ -764.16666667,  -477.5       ,  -844.58333333,  -546.25      ,\n",
        "         -660.41666667,  -192.08333333,  -777.5       ,  -277.08333333],\n",
        "       [ -477.5       ,  -634.16666667,  -844.58333333,  -764.16666667,\n",
        "         -192.08333333,  -277.08333333,  -717.08333333,  -863.33333333],\n",
        "       [ -634.16666667,  -717.08333333,  -277.08333333,  -477.5       ,\n",
        "         -844.58333333,  -192.08333333,  -863.33333333,  -764.16666667],\n",
        "       [ -717.08333333,  -634.16666667,  -277.08333333,  -863.33333333,\n",
        "         -844.58333333,  -477.5       ,  -192.08333333, -1003.75      ]])"
       ]
      }
     ],
     "prompt_number": 120
    },
    {
     "cell_type": "code",
     "collapsed": false,
     "input": [
      "np.einsum('ij',weights)"
     ],
     "language": "python",
     "metadata": {},
     "outputs": [
      {
       "metadata": {},
       "output_type": "pyout",
       "prompt_number": 161,
       "text": [
        "array([[ 0.00540832,  0.01269186,  0.02595844,  0.03415081,  0.02185846,\n",
        "         0.01845896,  0.01917522,  0.02156177],\n",
        "       [ 0.0427159 ,  0.03995742,  0.06213965,  0.05418658,  0.04171219,\n",
        "         0.03102185,  0.03130804,  0.03518279],\n",
        "       [ 0.15345888,  0.15465557,  0.10859957,  0.08562692,  0.09858198,\n",
        "         0.06265904,  0.06002372,  0.06737832],\n",
        "       [ 0.03370208,  0.13273013,  0.08116152,  0.11928724,  0.13682685,\n",
        "         0.15295643,  0.15749175,  0.17099389],\n",
        "       [ 0.04245571,  0.09605193,  0.09015103,  0.11606129,  0.12687746,\n",
        "         0.14259615,  0.13898615,  0.13859125],\n",
        "       [ 0.03327119,  0.09998658,  0.16287737,  0.11859338,  0.12888451,\n",
        "         0.11311663,  0.12245574,  0.13555076],\n",
        "       [ 0.38660215,  0.11328522,  0.21498395,  0.11490194,  0.10846922,\n",
        "         0.1203595 ,  0.12183191,  0.13326453],\n",
        "       [ 0.21452021,  0.06251638,  0.11041391,  0.16077736,  0.15064169,\n",
        "         0.15306321,  0.16795778,  0.14642939],\n",
        "       [ 0.05975247,  0.21693849,  0.1086967 ,  0.14814916,  0.12579881,\n",
        "         0.13494076,  0.12156336,  0.09589686],\n",
        "       [ 0.02811309,  0.07118641,  0.03501785,  0.04826534,  0.06034884,\n",
        "         0.07082746,  0.05920633,  0.05515045]])"
       ]
      }
     ],
     "prompt_number": 161
    },
    {
     "cell_type": "code",
     "collapsed": false,
     "input": [
      "np.dot(w,tmp[0])"
     ],
     "language": "python",
     "metadata": {},
     "outputs": [
      {
       "metadata": {},
       "output_type": "pyout",
       "prompt_number": 102,
       "text": [
        "-426.704946789019"
       ]
      }
     ],
     "prompt_number": 102
    },
    {
     "cell_type": "code",
     "collapsed": false,
     "input": [
      "wz = np.dot(rdist, tmp)"
     ],
     "language": "python",
     "metadata": {},
     "outputs": []
    },
    {
     "cell_type": "code",
     "collapsed": false,
     "input": [
      "w = 1 / dist**2\n",
      "w /= w.sum(axis=0)\n",
      "wz = np.dot(w.T, tmp)#c.ix[idx])"
     ],
     "language": "python",
     "metadata": {},
     "outputs": []
    },
    {
     "cell_type": "code",
     "collapsed": false,
     "input": [
      "wz"
     ],
     "language": "python",
     "metadata": {},
     "outputs": []
    },
    {
     "cell_type": "code",
     "collapsed": false,
     "input": [],
     "language": "python",
     "metadata": {},
     "outputs": []
    },
    {
     "cell_type": "code",
     "collapsed": false,
     "input": [],
     "language": "python",
     "metadata": {},
     "outputs": []
    },
    {
     "cell_type": "code",
     "collapsed": false,
     "input": [
      "# ORGINAL NO CHANGE\n",
      "dist, idx = tree.query(xy, k=8, eps=0, p=1)\n",
      "columns = [\"POINT_X\", \"POINT_Y\", \"Elev\", \"TEMP\"]\n",
      "px, py, elev, tmp = df[columns].values.T[:, idx, None]\n",
      "tmp = np.squeeze(tmp)\n",
      "one = np.ones_like(px)\n",
      "m = np.concatenate((one,px,py,elev), axis =-1)\n",
      "mtm = np.einsum(\"ijx,ijy->ixy\", m, m)\n",
      "mty = np.einsum(\"ijx,ij->ix\", m, tmp)\n",
      "b1,b2,b3 = np.linalg.solve(mtm, mty)[:, 1:].T\n",
      "px, py, elev = px.squeeze(), py.squeeze(), elev.squeeze()\n",
      "b1 = b1[:,None]\n",
      "b2 = b2[:,None]\n",
      "b3 = b3[:,None]\n",
      "rdist = (1/dist)**2\n",
      "t0 = tmp + b1*(xy[:,0,None]-px) + b2*(xy[:,1,None]-py) + b3*(dem[:,None]-elev)\n",
      "outarr = (t0*rdist).sum(1) / rdist.sum(1)"
     ],
     "language": "python",
     "metadata": {},
     "outputs": []
    },
    {
     "cell_type": "code",
     "collapsed": false,
     "input": [
      "outarr"
     ],
     "language": "python",
     "metadata": {},
     "outputs": []
    },
    {
     "cell_type": "code",
     "collapsed": false,
     "input": [
      "def nextlevelshizzle(xy):\n",
      "    dist, idx = tree.query(xy, k=8, eps=0, p=1)\n",
      "    columns = [\"POINT_X\", \"POINT_Y\", \"Elev\", \"TEMP\"]\n",
      "    px, py, elev, tmp = df[columns].values.T[:, idx, None]\n",
      "    tmp = np.squeeze(tmp)\n",
      "    one = np.ones_like(px)\n",
      "    m = np.concatenate((one,px,py,elev), axis =-1)\n",
      "    mtm = np.einsum(\"ijx,ijy->ixy\", m, m)\n",
      "    mty = np.einsum(\"ijx,ij->ix\", m, tmp)\n",
      "    b1,b2,b3 = np.linalg.solve(mtm, mty)[:, 1:].T\n",
      "    px, py, elev = px.squeeze(), py.squeeze(), elev.squeeze()\n",
      "    b1 = b1[:,None]\n",
      "    b2 = b2[:,None]\n",
      "    b3 = b3[:,None]\n",
      "    rdist = (1/dist)**2\n",
      "    t0 = tmp + b1*(xy[:,0,None]-px) + b2*(xy[:,1,None]-py) + b3*(dem[:,None]-elev)\n",
      "    outarr = (t0*rdist).sum(1) / rdist.sum(1)"
     ],
     "language": "python",
     "metadata": {},
     "outputs": []
    },
    {
     "cell_type": "code",
     "collapsed": false,
     "input": [
      "%timeit nextlevelshizzle(xy)"
     ],
     "language": "python",
     "metadata": {},
     "outputs": []
    },
    {
     "cell_type": "code",
     "collapsed": false,
     "input": [
      "x = xy[:,0]\n",
      "y = xy[:,1]"
     ],
     "language": "python",
     "metadata": {},
     "outputs": []
    },
    {
     "cell_type": "code",
     "collapsed": false,
     "input": [
      "rbf = Rbf(df['POINT_X'],df['POINT_Y'],df['Elev'], df['TEMP'], )#x,y,dem)\n",
      "temp = rbf(x,y,dem)\n",
      "\n",
      "dist_tree_real, ix_tree_real = tree.query(xy, k=8, eps=0, p=1)"
     ],
     "language": "python",
     "metadata": {},
     "outputs": []
    },
    {
     "cell_type": "code",
     "collapsed": false,
     "input": [
      "temp"
     ],
     "language": "python",
     "metadata": {},
     "outputs": []
    },
    {
     "cell_type": "code",
     "collapsed": false,
     "input": [
      "[ix_tree_real]"
     ],
     "language": "python",
     "metadata": {},
     "outputs": []
    },
    {
     "cell_type": "code",
     "collapsed": false,
     "input": [],
     "language": "python",
     "metadata": {},
     "outputs": []
    },
    {
     "cell_type": "code",
     "collapsed": false,
     "input": [],
     "language": "python",
     "metadata": {},
     "outputs": []
    },
    {
     "cell_type": "code",
     "collapsed": false,
     "input": [],
     "language": "python",
     "metadata": {},
     "outputs": []
    },
    {
     "cell_type": "markdown",
     "metadata": {},
     "source": [
      "Function selects 8 nearest neighbours for each coordinate. Fits a multiple linear regression using the x, y and z as predictior variables and the desired variable as the dependent variable. Then apply a inverse-distance-squared weights to calculate the desired variable where the coefficients adjust each predictor variable. The model can be expressed as follows:"
     ]
    },
    {
     "cell_type": "markdown",
     "metadata": {},
     "source": [
      "\\begin{equation*}DV_p =  \\sum_{i=1}^n (1/d_i)^2)^{-1} * \\sum_{i=1}^n((DV_i + b_1(Long_p - Long_i)+b_2(Lat_p-Lat_i)+b_3(h_p-h_i)) *(1/d_i)^2)\\end{equation*}"
     ]
    },
    {
     "cell_type": "code",
     "collapsed": false,
     "input": [
      "def IDWKDtree(xy_coord):\n",
      "    dist_tree, ix_tree = tree.query(xy_coord, k=8, eps=0, p=1) # returns distance and index\n",
      "    df_sel = df.ix[ix_tree]\n",
      "    c = df_sel.ix[:,1] # this one need to change\n",
      "\n",
      "    w = 1 / dist_tree**2\n",
      "    w /= np.sum(w)\n",
      "    wz = np.dot(w, c.ix[ix_tree])\n",
      "        \n",
      "    return wz"
     ],
     "language": "python",
     "metadata": {},
     "outputs": [],
     "prompt_number": 78
    },
    {
     "cell_type": "code",
     "collapsed": false,
     "input": [
      "def func(xy_coord):\n",
      "    # Apply a KDTree search to select 8 nearest stations\n",
      "    dist_tree_real, ix_tree_real = tree.query(xy_coord, k=8, eps=0, p=1)\n",
      "    df_sel = df.ix[ix_tree_real]\n",
      "    \n",
      "    # Solve multi-linear regression\n",
      "    M = np.vstack((np.ones(len(df_sel['POINT_X'])),df_sel['POINT_X'], df_sel['POINT_Y'],df_sel['Elev'])).T\n",
      "    b1,b2,b3 = np.linalg.lstsq(M,df_sel['TEMP'])[0][1:4]\n",
      "    \n",
      "    # Compute formula\n",
      "    return sum( (1/dist_tree_real)**2)**-1 * sum((df_sel['TEMP'] + (b1*(xy_coord[0] - df_sel['POINT_X'])) + \n",
      "                                                  (b2*(xy_coord[1]-df_sel['POINT_Y'])) + (b3*(dem[index]-df_sel['Elev']))) * \n",
      "                                                 (1/dist_tree_real)**2)"
     ],
     "language": "python",
     "metadata": {},
     "outputs": []
    },
    {
     "cell_type": "code",
     "collapsed": false,
     "input": [
      "w"
     ],
     "language": "python",
     "metadata": {},
     "outputs": [
      {
       "metadata": {},
       "output_type": "pyout",
       "prompt_number": 81,
       "text": [
        "array([ 0.36089075,  0.16563626,  0.14774147,  0.13186426,  0.0662983 ,\n",
        "        0.04545555,  0.04110265,  0.04101077])"
       ]
      }
     ],
     "prompt_number": 81
    },
    {
     "cell_type": "code",
     "collapsed": false,
     "input": [
      "c"
     ],
     "language": "python",
     "metadata": {},
     "outputs": [
      {
       "metadata": {},
       "output_type": "pyout",
       "prompt_number": 82,
       "text": [
        "13   -405.833333\n",
        "14   -293.333333\n",
        "19   -187.500000\n",
        "8    -806.250000\n",
        "9    -408.333333\n",
        "15   -660.416667\n",
        "16   -546.250000\n",
        "4    -441.250000\n",
        "Name: TEMP, dtype: float64"
       ]
      }
     ],
     "prompt_number": 82
    },
    {
     "cell_type": "code",
     "collapsed": false,
     "input": [
      "a = np.arange(3*4*5*6).reshape((3,4,5,6))\n",
      "b = np.arange(3*4*5*6)[::-1].reshape((5,4,6,3))\n",
      "a,b"
     ],
     "language": "python",
     "metadata": {},
     "outputs": [
      {
       "metadata": {},
       "output_type": "pyout",
       "prompt_number": 83,
       "text": [
        "(array([[[[  0,   1,   2,   3,   4,   5],\n",
        "         [  6,   7,   8,   9,  10,  11],\n",
        "         [ 12,  13,  14,  15,  16,  17],\n",
        "         [ 18,  19,  20,  21,  22,  23],\n",
        "         [ 24,  25,  26,  27,  28,  29]],\n",
        "\n",
        "        [[ 30,  31,  32,  33,  34,  35],\n",
        "         [ 36,  37,  38,  39,  40,  41],\n",
        "         [ 42,  43,  44,  45,  46,  47],\n",
        "         [ 48,  49,  50,  51,  52,  53],\n",
        "         [ 54,  55,  56,  57,  58,  59]],\n",
        "\n",
        "        [[ 60,  61,  62,  63,  64,  65],\n",
        "         [ 66,  67,  68,  69,  70,  71],\n",
        "         [ 72,  73,  74,  75,  76,  77],\n",
        "         [ 78,  79,  80,  81,  82,  83],\n",
        "         [ 84,  85,  86,  87,  88,  89]],\n",
        "\n",
        "        [[ 90,  91,  92,  93,  94,  95],\n",
        "         [ 96,  97,  98,  99, 100, 101],\n",
        "         [102, 103, 104, 105, 106, 107],\n",
        "         [108, 109, 110, 111, 112, 113],\n",
        "         [114, 115, 116, 117, 118, 119]]],\n",
        "\n",
        "\n",
        "       [[[120, 121, 122, 123, 124, 125],\n",
        "         [126, 127, 128, 129, 130, 131],\n",
        "         [132, 133, 134, 135, 136, 137],\n",
        "         [138, 139, 140, 141, 142, 143],\n",
        "         [144, 145, 146, 147, 148, 149]],\n",
        "\n",
        "        [[150, 151, 152, 153, 154, 155],\n",
        "         [156, 157, 158, 159, 160, 161],\n",
        "         [162, 163, 164, 165, 166, 167],\n",
        "         [168, 169, 170, 171, 172, 173],\n",
        "         [174, 175, 176, 177, 178, 179]],\n",
        "\n",
        "        [[180, 181, 182, 183, 184, 185],\n",
        "         [186, 187, 188, 189, 190, 191],\n",
        "         [192, 193, 194, 195, 196, 197],\n",
        "         [198, 199, 200, 201, 202, 203],\n",
        "         [204, 205, 206, 207, 208, 209]],\n",
        "\n",
        "        [[210, 211, 212, 213, 214, 215],\n",
        "         [216, 217, 218, 219, 220, 221],\n",
        "         [222, 223, 224, 225, 226, 227],\n",
        "         [228, 229, 230, 231, 232, 233],\n",
        "         [234, 235, 236, 237, 238, 239]]],\n",
        "\n",
        "\n",
        "       [[[240, 241, 242, 243, 244, 245],\n",
        "         [246, 247, 248, 249, 250, 251],\n",
        "         [252, 253, 254, 255, 256, 257],\n",
        "         [258, 259, 260, 261, 262, 263],\n",
        "         [264, 265, 266, 267, 268, 269]],\n",
        "\n",
        "        [[270, 271, 272, 273, 274, 275],\n",
        "         [276, 277, 278, 279, 280, 281],\n",
        "         [282, 283, 284, 285, 286, 287],\n",
        "         [288, 289, 290, 291, 292, 293],\n",
        "         [294, 295, 296, 297, 298, 299]],\n",
        "\n",
        "        [[300, 301, 302, 303, 304, 305],\n",
        "         [306, 307, 308, 309, 310, 311],\n",
        "         [312, 313, 314, 315, 316, 317],\n",
        "         [318, 319, 320, 321, 322, 323],\n",
        "         [324, 325, 326, 327, 328, 329]],\n",
        "\n",
        "        [[330, 331, 332, 333, 334, 335],\n",
        "         [336, 337, 338, 339, 340, 341],\n",
        "         [342, 343, 344, 345, 346, 347],\n",
        "         [348, 349, 350, 351, 352, 353],\n",
        "         [354, 355, 356, 357, 358, 359]]]]),\n",
        " array([[[[359, 358, 357],\n",
        "         [356, 355, 354],\n",
        "         [353, 352, 351],\n",
        "         [350, 349, 348],\n",
        "         [347, 346, 345],\n",
        "         [344, 343, 342]],\n",
        "\n",
        "        [[341, 340, 339],\n",
        "         [338, 337, 336],\n",
        "         [335, 334, 333],\n",
        "         [332, 331, 330],\n",
        "         [329, 328, 327],\n",
        "         [326, 325, 324]],\n",
        "\n",
        "        [[323, 322, 321],\n",
        "         [320, 319, 318],\n",
        "         [317, 316, 315],\n",
        "         [314, 313, 312],\n",
        "         [311, 310, 309],\n",
        "         [308, 307, 306]],\n",
        "\n",
        "        [[305, 304, 303],\n",
        "         [302, 301, 300],\n",
        "         [299, 298, 297],\n",
        "         [296, 295, 294],\n",
        "         [293, 292, 291],\n",
        "         [290, 289, 288]]],\n",
        "\n",
        "\n",
        "       [[[287, 286, 285],\n",
        "         [284, 283, 282],\n",
        "         [281, 280, 279],\n",
        "         [278, 277, 276],\n",
        "         [275, 274, 273],\n",
        "         [272, 271, 270]],\n",
        "\n",
        "        [[269, 268, 267],\n",
        "         [266, 265, 264],\n",
        "         [263, 262, 261],\n",
        "         [260, 259, 258],\n",
        "         [257, 256, 255],\n",
        "         [254, 253, 252]],\n",
        "\n",
        "        [[251, 250, 249],\n",
        "         [248, 247, 246],\n",
        "         [245, 244, 243],\n",
        "         [242, 241, 240],\n",
        "         [239, 238, 237],\n",
        "         [236, 235, 234]],\n",
        "\n",
        "        [[233, 232, 231],\n",
        "         [230, 229, 228],\n",
        "         [227, 226, 225],\n",
        "         [224, 223, 222],\n",
        "         [221, 220, 219],\n",
        "         [218, 217, 216]]],\n",
        "\n",
        "\n",
        "       [[[215, 214, 213],\n",
        "         [212, 211, 210],\n",
        "         [209, 208, 207],\n",
        "         [206, 205, 204],\n",
        "         [203, 202, 201],\n",
        "         [200, 199, 198]],\n",
        "\n",
        "        [[197, 196, 195],\n",
        "         [194, 193, 192],\n",
        "         [191, 190, 189],\n",
        "         [188, 187, 186],\n",
        "         [185, 184, 183],\n",
        "         [182, 181, 180]],\n",
        "\n",
        "        [[179, 178, 177],\n",
        "         [176, 175, 174],\n",
        "         [173, 172, 171],\n",
        "         [170, 169, 168],\n",
        "         [167, 166, 165],\n",
        "         [164, 163, 162]],\n",
        "\n",
        "        [[161, 160, 159],\n",
        "         [158, 157, 156],\n",
        "         [155, 154, 153],\n",
        "         [152, 151, 150],\n",
        "         [149, 148, 147],\n",
        "         [146, 145, 144]]],\n",
        "\n",
        "\n",
        "       [[[143, 142, 141],\n",
        "         [140, 139, 138],\n",
        "         [137, 136, 135],\n",
        "         [134, 133, 132],\n",
        "         [131, 130, 129],\n",
        "         [128, 127, 126]],\n",
        "\n",
        "        [[125, 124, 123],\n",
        "         [122, 121, 120],\n",
        "         [119, 118, 117],\n",
        "         [116, 115, 114],\n",
        "         [113, 112, 111],\n",
        "         [110, 109, 108]],\n",
        "\n",
        "        [[107, 106, 105],\n",
        "         [104, 103, 102],\n",
        "         [101, 100,  99],\n",
        "         [ 98,  97,  96],\n",
        "         [ 95,  94,  93],\n",
        "         [ 92,  91,  90]],\n",
        "\n",
        "        [[ 89,  88,  87],\n",
        "         [ 86,  85,  84],\n",
        "         [ 83,  82,  81],\n",
        "         [ 80,  79,  78],\n",
        "         [ 77,  76,  75],\n",
        "         [ 74,  73,  72]]],\n",
        "\n",
        "\n",
        "       [[[ 71,  70,  69],\n",
        "         [ 68,  67,  66],\n",
        "         [ 65,  64,  63],\n",
        "         [ 62,  61,  60],\n",
        "         [ 59,  58,  57],\n",
        "         [ 56,  55,  54]],\n",
        "\n",
        "        [[ 53,  52,  51],\n",
        "         [ 50,  49,  48],\n",
        "         [ 47,  46,  45],\n",
        "         [ 44,  43,  42],\n",
        "         [ 41,  40,  39],\n",
        "         [ 38,  37,  36]],\n",
        "\n",
        "        [[ 35,  34,  33],\n",
        "         [ 32,  31,  30],\n",
        "         [ 29,  28,  27],\n",
        "         [ 26,  25,  24],\n",
        "         [ 23,  22,  21],\n",
        "         [ 20,  19,  18]],\n",
        "\n",
        "        [[ 17,  16,  15],\n",
        "         [ 14,  13,  12],\n",
        "         [ 11,  10,   9],\n",
        "         [  8,   7,   6],\n",
        "         [  5,   4,   3],\n",
        "         [  2,   1,   0]]]]))"
       ]
      }
     ],
     "prompt_number": 83
    },
    {
     "cell_type": "code",
     "collapsed": false,
     "input": [],
     "language": "python",
     "metadata": {},
     "outputs": []
    },
    {
     "cell_type": "markdown",
     "metadata": {},
     "source": [
      "By using enumeration compute the interpolated value for each of the values based on the coordinates array"
     ]
    },
    {
     "cell_type": "code",
     "collapsed": false,
     "input": [
      "for index, coord in enumerate(xy): \n",
      "    outarr[index] = func(coord)"
     ],
     "language": "python",
     "metadata": {},
     "outputs": []
    },
    {
     "cell_type": "code",
     "collapsed": false,
     "input": [
      "for index, coord in enumerate(xy): \n",
      "    outarr[index] = IDWKDtree(coord)"
     ],
     "language": "python",
     "metadata": {},
     "outputs": [],
     "prompt_number": 79
    },
    {
     "cell_type": "markdown",
     "metadata": {},
     "source": [
      "Output example"
     ]
    },
    {
     "cell_type": "code",
     "collapsed": false,
     "input": [
      "outarr"
     ],
     "language": "python",
     "metadata": {},
     "outputs": [
      {
       "metadata": {},
       "output_type": "pyout",
       "prompt_number": 80,
       "text": [
        "array([-426.70494679, -421.94525044, -340.65620582, -411.43238257,\n",
        "       -557.26594451, -644.14855474, -739.37621726, -506.86498989,\n",
        "       -627.73367639, -666.16266553])"
       ]
      }
     ],
     "prompt_number": 80
    },
    {
     "cell_type": "code",
     "collapsed": false,
     "input": [
      "dist_tree, idx = tree.query(xy[0], k=8, eps=0, p=1) # returns distance and index\n",
      "columns = ['TEMP']\n",
      "tmp = df[columns].values.T[:, idx, None]\n",
      "tmp = tmp.squeeze()\n",
      "w  = (1/ dist_tree)**2\n",
      "wq = w/np.sum(w)\n",
      "wz = np.dot(wq,tmp)\n",
      "print('tmp\\n',tmp,'\\nw\\n',w,'\\nwq\\n',wq,'\\nwz\\n',wz)"
     ],
     "language": "python",
     "metadata": {},
     "outputs": [
      {
       "output_type": "stream",
       "stream": "stdout",
       "text": [
        "tmp\n",
        " [-405.83333333 -293.33333333 -187.5        -806.25       -408.33333333\n",
        " -660.41666667 -546.25       -441.25      ] \n",
        "w\n",
        " [  1.84427410e-11   8.46457430e-12   7.55009010e-12   6.73871082e-12\n",
        "   3.38806784e-12   2.32293258e-12   2.10048484e-12   2.09578945e-12] \n",
        "wq\n",
        " [ 0.36089075  0.16563626  0.14774147  0.13186426  0.0662983   0.04545555\n",
        "  0.04110265  0.04101077] \n",
        "wz\n",
        " -426.704946789\n"
       ]
      }
     ],
     "prompt_number": 175
    },
    {
     "cell_type": "code",
     "collapsed": false,
     "input": [
      "print (wz)"
     ],
     "language": "python",
     "metadata": {},
     "outputs": [
      {
       "output_type": "stream",
       "stream": "stdout",
       "text": [
        "-426.704946789\n"
       ]
      }
     ],
     "prompt_number": 171
    },
    {
     "cell_type": "code",
     "collapsed": false,
     "input": [
      "w"
     ],
     "language": "python",
     "metadata": {},
     "outputs": [
      {
       "metadata": {},
       "output_type": "pyout",
       "prompt_number": 172,
       "text": [
        "array([  1.84427410e-11,   8.46457430e-12,   7.55009010e-12,\n",
        "         6.73871082e-12,   3.38806784e-12,   2.32293258e-12,\n",
        "         2.10048484e-12,   2.09578945e-12])"
       ]
      }
     ],
     "prompt_number": 172
    },
    {
     "cell_type": "code",
     "collapsed": false,
     "input": [
      "wq"
     ],
     "language": "python",
     "metadata": {},
     "outputs": [
      {
       "metadata": {},
       "output_type": "pyout",
       "prompt_number": 173,
       "text": [
        "array([ 0.36089075,  0.16563626,  0.14774147,  0.13186426,  0.0662983 ,\n",
        "        0.04545555,  0.04110265,  0.04101077])"
       ]
      }
     ],
     "prompt_number": 173
    },
    {
     "cell_type": "code",
     "collapsed": false,
     "input": [
      "w /= np.sum(w)"
     ],
     "language": "python",
     "metadata": {},
     "outputs": [],
     "prompt_number": 29
    },
    {
     "cell_type": "code",
     "collapsed": false,
     "input": [
      "w"
     ],
     "language": "python",
     "metadata": {},
     "outputs": [
      {
       "metadata": {},
       "output_type": "pyout",
       "prompt_number": 30,
       "text": [
        "array([ 0.36089075,  0.16563626,  0.14774147,  0.13186426,  0.0662983 ,\n",
        "        0.04545555,  0.04110265,  0.04101077])"
       ]
      }
     ],
     "prompt_number": 30
    },
    {
     "cell_type": "code",
     "collapsed": false,
     "input": [
      "wz = np.dot(w,tmp)"
     ],
     "language": "python",
     "metadata": {},
     "outputs": [],
     "prompt_number": 31
    },
    {
     "cell_type": "code",
     "collapsed": false,
     "input": [
      "wz"
     ],
     "language": "python",
     "metadata": {},
     "outputs": [
      {
       "metadata": {},
       "output_type": "pyout",
       "prompt_number": 32,
       "text": [
        "-426.704946789019"
       ]
      }
     ],
     "prompt_number": 32
    },
    {
     "cell_type": "code",
     "collapsed": false,
     "input": [],
     "language": "python",
     "metadata": {},
     "outputs": []
    }
   ],
   "metadata": {}
  }
 ]
}