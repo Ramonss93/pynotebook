{
 "metadata": {
  "name": ""
 },
 "nbformat": 3,
 "nbformat_minor": 0,
 "worksheets": [
  {
   "cells": [
    {
     "cell_type": "code",
     "collapsed": false,
     "input": [
      "from osgeo import gdal\n",
      "import numpy as np\n",
      "from mattijn import dikkelul"
     ],
     "language": "python",
     "metadata": {},
     "outputs": [],
     "prompt_number": 16
    },
    {
     "cell_type": "code",
     "collapsed": false,
     "input": [
      "def createCoordGrid(pathin, pathout):\n",
      "    \"\"\"\n",
      "    Creates two linspace of the RasterXSize and RasterYSize,\n",
      "    Than creates a meshgrid and concat the values of the two\n",
      "    meshgrids into one array\n",
      "    \n",
      "    In: raster path from which you like to have a coordinate grid\n",
      "    Out: output path of coordinate grid    \n",
      "    \"\"\"\n",
      "    ds = gdal.Open(pathin)\n",
      "    Xs = ds.RasterXSize\n",
      "    Ys = ds.RasterYSize\n",
      "\n",
      "    xcoord = np.linspace(0,Xs-1,Xs)\n",
      "    ycoord = np.linspace(0,Ys-1,Ys)\n",
      "\n",
      "    xx,yy = np.meshgrid(xcoord, ycoord)\n",
      "\n",
      "    digits = np.log10(yy).astype(np.int)+1\n",
      "\n",
      "    z = xx*(10**digits)+yy\n",
      "    z = z.astype(int)    \n",
      "    \n",
      "    dikkelul.saveRaster(pathout, z, ds, datatype=5)\n",
      "    \n",
      "    return print(z.shape, '\\n',z)"
     ],
     "language": "python",
     "metadata": {},
     "outputs": [],
     "prompt_number": 28
    },
    {
     "cell_type": "code",
     "collapsed": false,
     "input": [
      "pathin = r'D:\\Data\\GPCP_30acc_anomalyNormTypeII_clip//GPCP_2000001.tif'\n",
      "pathout = r'D:\\Data//gridclip.tif'\n",
      "createCoordGrid(pathin,pathout)"
     ],
     "language": "python",
     "metadata": {},
     "outputs": [
      {
       "output_type": "stream",
       "stream": "stdout",
       "text": [
        "(37, 63) \n",
        " [[   0    0    0 ...,    0    0    0]\n",
        " [   1   11   21 ...,  601  611  621]\n",
        " [   2   12   22 ...,  602  612  622]\n",
        " ..., \n",
        " [  34  134  234 ..., 6034 6134 6234]\n",
        " [  35  135  235 ..., 6035 6135 6235]\n",
        " [  36  136  236 ..., 6036 6136 6236]]\n"
       ]
      }
     ],
     "prompt_number": 30
    },
    {
     "cell_type": "code",
     "collapsed": false,
     "input": [],
     "language": "python",
     "metadata": {},
     "outputs": [],
     "prompt_number": 24
    }
   ],
   "metadata": {}
  }
 ]
}