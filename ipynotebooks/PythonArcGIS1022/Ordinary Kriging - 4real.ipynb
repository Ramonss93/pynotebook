{
 "metadata": {
  "name": "",
  "signature": "sha256:c3aed830bf2c7f3af78a23ea868a525824c92af3cd41037a3a0e119164302d8c"
 },
 "nbformat": 3,
 "nbformat_minor": 0,
 "worksheets": [
  {
   "cells": [
    {
     "cell_type": "code",
     "collapsed": false,
     "input": [
      "import arcpy\n",
      "import random\n",
      "import os\n",
      "arcpy.CheckOutExtension(\"GeoStats\")"
     ],
     "language": "python",
     "metadata": {},
     "outputs": [
      {
       "metadata": {},
       "output_type": "pyout",
       "prompt_number": 1,
       "text": [
        "u'CheckedOut'"
       ]
      }
     ],
     "prompt_number": 1
    },
    {
     "cell_type": "code",
     "collapsed": false,
     "input": [
      "for k in range(0,12):\n",
      "    l = str(k+1)\n",
      "    xml = \"C:\\\\Users\\\\lenovo\\\\Documents\\\\ArcGIS\\\\Model_Kriging16.xml\"\n",
      "    dataset = \"C:\\\\Users\\\\lenovo\\\\Documents\\\\ArcGIS\\\\Default.gdb\\\\Shiva\\\\trmm_\"+l+\"_12_16\"\n",
      "    GALayer = \"C:\\\\Users\\\\lenovo\\\\Documents\\\\ArcGIS\\\\Default.gdb\\\\Valid\"+l+\"_16_\"\n",
      "    OutLayer = \"C:\\\\Users\\\\lenovo\\\\Documents\\\\ArcGIS\\\\Default.gdb\\\\Inter\"+l+\"_16_\"\n",
      "    out_Table = \"C:\\\\Users\\\\lenovo\\\\Documents\\\\ArcGIS\\\\Default.gdb\\\\kriging_16_\"+l\n",
      "    Export_Output_2_TableToExcel_xls = \"C:\\\\Users\\\\lenovo\\\\Documents\\\\ArcGIS\\\\scratch\\\\Excel_16_\"+l+\"_300_\"+str(random.randint(0,100))+\".xls\"\n",
      "    Station = \"C:\\\\Users\\\\lenovo\\\\Documents\\\\ArcGIS\\\\Default.gdb\\\\Shiva\\\\stat_\"+l+\"_12_16\"\n",
      "    print Station\n",
      "\n",
      "    fieldList = arcpy.ListFields(Station)\n",
      "    fieldList = fieldList[3:-1]\n",
      "    #fieldList = fieldList[0:300]\n",
      "\n",
      "    for j in range(len(fieldList)):\n",
      "        print j\n",
      "        i = fieldList[j]\n",
      "        #print str(i.name) \n",
      "\n",
      "        GALayerToPoints4_View = \"GALayerToPoints4\"+str(j)+\"_\"+str(l)+\"_View\"\n",
      "        GALayerToPoints4_View__4_ = GALayerToPoints4_View\n",
      "\n",
      "        print str(i.name)\n",
      "        field = str(i.name)\n",
      "        ds_field = dataset+\" F1=\"+str(i.name)\n",
      "        print ds_field\n",
      "    #     EBK_xml.dataset1Field = field\n",
      "    #     print EBK_xml\n",
      "\n",
      "        outGALayer1 = OutLayer+str(i.name)+\"_\"+str(j)+str(l)\n",
      "        print '# Process: Create Geostatistical Layer'\n",
      "\n",
      "        # Process: Create Geostatistical Layer\n",
      "        try:\n",
      "            arcpy.GACreateGeostatisticalLayer_ga(in_ga_model_source=xml, in_datasets=ds_field, out_layer=outGALayer1)\n",
      "            print '# Process: GA Layer To Points'\n",
      "\n",
      "            # Process: GA Layer To Points\n",
      "            try:\n",
      "                GALayerToPoint = GALayer+str(i.name)+\"_\"+str(j)+str(l)\n",
      "                GALayerToPoint2 = GALayerToPoint\n",
      "                arcpy.GALayerToPoints_ga(outGALayer1, Station, str(i.name), GALayerToPoint, \"FID_ONLY\")\n",
      "                print '# Process: GA Layer To Points OK'\n",
      "\n",
      "            except arcpy.ExecuteError:\n",
      "                GALayerToPoint = GALayerToPoint+\"_F\"+str(j)+str(l)\n",
      "                GALayerToPoint2 = GALayerToPoint\n",
      "                arcpy.GALayerToPoints_ga(outGALayer1, Station, 'Y03M01D24', GALayerToPoint, \"FID_ONLY\")\n",
      "                print GALayerToPoint\n",
      "                print '# Process: GA Layer To Points FALSE'\n",
      "\n",
      "            # Process: Delete Field\n",
      "            print '# Process: Delete Field'\n",
      "            arcpy.DeleteField_management(GALayerToPoint, str(i.name))        \n",
      "\n",
      "            # Process: Make Table View\n",
      "            try:\n",
      "                print '# Process: Make Table View'\n",
      "                print GALayerToPoints4_View\n",
      "                arcpy.MakeTableView_management(GALayerToPoint2, GALayerToPoints4_View, \"\", \"\", \"OBJECTID OBJECTID VISIBLE NONE;Shape Shape VISIBLE NONE;Predicted Predicted VISIBLE NONE;Error Error VISIBLE NONE;StdError StdError VISIBLE NONE;Stdd_Error Stdd_Error VISIBLE NONE;Source_ID Source_ID VISIBLE NONE;Included Included VISIBLE NONE\")\n",
      "                #arcpy.MakeTableView_management(GALayerToPoint, GALayerToPoints4_View, \"\", \"\", \"Predicted Predicted VISIBLE NONE;StdError StdError VISIBLE NONE;Error Error VISIBLE NONE;Stdd_Error Stdd_Error VISIBLE NONE;NormValue NormValue VISIBLE NONE;Source_ID Source_ID VISIBLE NONE;Included Included VISIBLE NONE\")\n",
      "            except arcpy.ExecuteError:\n",
      "                print '# Process: Table is in View, let us continue'\n",
      "\n",
      "\n",
      "            # Process: Add Field\n",
      "            print '# Process: Add Field'\n",
      "            arcpy.AddField_management(GALayerToPoints4_View, \"Date\", \"TEXT\", \"\", \"\", \"10\", \"\", \"NULLABLE\", \"NON_REQUIRED\", \"\")\n",
      "\n",
      "            # Process: Calculate Field\n",
      "            print '# Process: Calculate Field'\n",
      "            field_new = r'\"'+str(i.name)+r'\"'\n",
      "            arcpy.CalculateField_management(GALayerToPoints4_View__4_, \"Date\", field_new, \"VB\", \"\")\n",
      "\n",
      "            # Process: Append\n",
      "            print '# Process: Append'\n",
      "            arcpy.Append_management(GALayerToPoints4_View, out_Table, \"NO_TEST\", \"\", \"\") #\"GALayerToPoints4_View\" \n",
      "\n",
      "            GALayerToPoints4_View = None\n",
      "            GALayerToPoints4_View__4_= None\n",
      "\n",
      "        except arcpy.ExecuteError:\n",
      "            GALayerToPoints4_View = None\n",
      "            GALayerToPoints4_View__4_= None\n",
      "            print '# Process: Create Geostatistical Layer FAILED, only zero values'\n",
      "            continue \n",
      "\n",
      "    # Process: Table To Excel\n",
      "    try:\n",
      "        print '# Process: Table To Excel'\n",
      "        arcpy.TableToExcel_conversion(out_Table, Export_Output_2_TableToExcel_xls, \"NAME\", \"CODE\")\n",
      "        print Export_Output_2_TableToExcel_xls\n",
      "    except arcpy.ExecuteError:\n",
      "        print '# Process: Excel file exist already, delete first'    \n",
      "        os.remove(Export_Output_2_TableToExcel_xls, )\n",
      "        print '# Process: Table To Excel, try again'    \n",
      "        arcpy.TableToExcel_conversion(out_Table, Export_Output_2_TableToExcel_xls, \"NAME\", \"CODE\")\n",
      "        print Export_Output_2_TableToExcel_xls\n",
      "\n",
      "    xml = None\n",
      "    dataset = None\n",
      "    GALayer = None\n",
      "    OutLayer = None\n",
      "    out_Table = None\n",
      "    Export_Output_2_TableToExcel_xls = None\n",
      "    Station = None\n",
      "    fieldList = None\n",
      "    GALayerToPoints4_View = None\n",
      "    GALayerToPoints4_View__4_ = None\n",
      "    field = None\n",
      "    ds_field = None\n",
      "    outGALayer1 = None\n",
      "    GALayerToPoint = None\n",
      "    GALayerToPoint2 = None    \n",
      "    "
     ],
     "language": "python",
     "metadata": {},
     "outputs": [
      {
       "output_type": "stream",
       "stream": "stdout",
       "text": [
        "C:\\Users\\lenovo\\Documents\\ArcGIS\\Default.gdb\\Shiva\\stat_1_12_16\n",
        "0"
       ]
      },
      {
       "output_type": "stream",
       "stream": "stdout",
       "text": [
        "\n",
        "Y03M01D01\n",
        "C:\\Users\\lenovo\\Documents\\ArcGIS\\Default.gdb\\Shiva\\trmm_1_12_16 F1=Y03M01D01\n",
        "# Process: Create Geostatistical Layer\n",
        "# Process: GA Layer To Points"
       ]
      },
      {
       "output_type": "stream",
       "stream": "stdout",
       "text": [
        "\n",
        "C:\\Users\\lenovo\\Documents\\ArcGIS\\Default.gdb\\Valid1_16_Y03M01D01_01_F01"
       ]
      },
      {
       "output_type": "stream",
       "stream": "stdout",
       "text": [
        "\n",
        "# Process: GA Layer To Points FALSE\n",
        "# Process: Delete Field\n",
        "# Process: Make Table View"
       ]
      },
      {
       "output_type": "stream",
       "stream": "stdout",
       "text": [
        "\n",
        "GALayerToPoints40_1_View\n",
        "# Process: Add Field"
       ]
      },
      {
       "output_type": "stream",
       "stream": "stdout",
       "text": [
        "\n",
        "# Process: Calculate Field"
       ]
      },
      {
       "output_type": "stream",
       "stream": "stdout",
       "text": [
        "\n",
        "# Process: Append"
       ]
      },
      {
       "output_type": "stream",
       "stream": "stdout",
       "text": [
        "\n",
        "1"
       ]
      },
      {
       "output_type": "stream",
       "stream": "stdout",
       "text": [
        "\n",
        "Y03M01D02\n",
        "C:\\Users\\lenovo\\Documents\\ArcGIS\\Default.gdb\\Shiva\\trmm_1_12_16 F1=Y03M01D02\n",
        "# Process: Create Geostatistical Layer\n",
        "# Process: GA Layer To Points"
       ]
      },
      {
       "output_type": "stream",
       "stream": "stdout",
       "text": [
        "\n",
        "C:\\Users\\lenovo\\Documents\\ArcGIS\\Default.gdb\\Valid1_16_Y03M01D02_11_F11"
       ]
      },
      {
       "output_type": "stream",
       "stream": "stdout",
       "text": [
        "\n",
        "# Process: GA Layer To Points FALSE\n",
        "# Process: Delete Field\n",
        "# Process: Make Table View"
       ]
      },
      {
       "output_type": "stream",
       "stream": "stdout",
       "text": [
        "\n",
        "GALayerToPoints41_1_View\n",
        "# Process: Add Field"
       ]
      },
      {
       "output_type": "stream",
       "stream": "stdout",
       "text": [
        "\n",
        "# Process: Calculate Field"
       ]
      },
      {
       "output_type": "stream",
       "stream": "stdout",
       "text": [
        "\n",
        "# Process: Append"
       ]
      },
      {
       "output_type": "stream",
       "stream": "stdout",
       "text": [
        "\n",
        "2"
       ]
      },
      {
       "output_type": "stream",
       "stream": "stdout",
       "text": [
        "\n",
        "Y03M01D03\n",
        "C:\\Users\\lenovo\\Documents\\ArcGIS\\Default.gdb\\Shiva\\trmm_1_12_16 F1=Y03M01D03\n",
        "# Process: Create Geostatistical Layer\n",
        "# Process: GA Layer To Points"
       ]
      },
      {
       "output_type": "stream",
       "stream": "stdout",
       "text": [
        "\n",
        "C:\\Users\\lenovo\\Documents\\ArcGIS\\Default.gdb\\Valid1_16_Y03M01D03_21_F21"
       ]
      },
      {
       "output_type": "stream",
       "stream": "stdout",
       "text": [
        "\n",
        "# Process: GA Layer To Points FALSE\n",
        "# Process: Delete Field\n",
        "# Process: Make Table View"
       ]
      },
      {
       "output_type": "stream",
       "stream": "stdout",
       "text": [
        "\n",
        "GALayerToPoints42_1_View\n",
        "# Process: Add Field"
       ]
      },
      {
       "output_type": "stream",
       "stream": "stdout",
       "text": [
        "\n",
        "# Process: Calculate Field"
       ]
      },
      {
       "output_type": "stream",
       "stream": "stdout",
       "text": [
        "\n",
        "# Process: Append"
       ]
      },
      {
       "output_type": "stream",
       "stream": "stdout",
       "text": [
        "\n",
        "3"
       ]
      },
      {
       "output_type": "stream",
       "stream": "stdout",
       "text": [
        "\n",
        "Y03M01D04\n",
        "C:\\Users\\lenovo\\Documents\\ArcGIS\\Default.gdb\\Shiva\\trmm_1_12_16 F1=Y03M01D04\n",
        "# Process: Create Geostatistical Layer\n",
        "# Process: GA Layer To Points"
       ]
      },
      {
       "output_type": "stream",
       "stream": "stdout",
       "text": [
        "\n",
        "C:\\Users\\lenovo\\Documents\\ArcGIS\\Default.gdb\\Valid1_16_Y03M01D04_31_F31"
       ]
      },
      {
       "output_type": "stream",
       "stream": "stdout",
       "text": [
        "\n",
        "# Process: GA Layer To Points FALSE\n",
        "# Process: Delete Field\n",
        "# Process: Make Table View"
       ]
      },
      {
       "output_type": "stream",
       "stream": "stdout",
       "text": [
        "\n",
        "GALayerToPoints43_1_View\n",
        "# Process: Add Field"
       ]
      },
      {
       "output_type": "stream",
       "stream": "stdout",
       "text": [
        "\n",
        "# Process: Calculate Field"
       ]
      },
      {
       "output_type": "stream",
       "stream": "stdout",
       "text": [
        "\n",
        "# Process: Append"
       ]
      },
      {
       "output_type": "stream",
       "stream": "stdout",
       "text": [
        "\n",
        "4"
       ]
      },
      {
       "output_type": "stream",
       "stream": "stdout",
       "text": [
        "\n",
        "Y03M01D05\n",
        "C:\\Users\\lenovo\\Documents\\ArcGIS\\Default.gdb\\Shiva\\trmm_1_12_16 F1=Y03M01D05\n",
        "# Process: Create Geostatistical Layer\n",
        "# Process: GA Layer To Points"
       ]
      },
      {
       "output_type": "stream",
       "stream": "stdout",
       "text": [
        "\n",
        "# Process: GA Layer To Points OK"
       ]
      },
      {
       "output_type": "stream",
       "stream": "stdout",
       "text": [
        "\n",
        "# Process: Delete Field\n",
        "# Process: Make Table View"
       ]
      },
      {
       "output_type": "stream",
       "stream": "stdout",
       "text": [
        "\n",
        "GALayerToPoints44_1_View\n",
        "# Process: Add Field"
       ]
      },
      {
       "output_type": "stream",
       "stream": "stdout",
       "text": [
        "\n",
        "# Process: Calculate Field"
       ]
      },
      {
       "output_type": "stream",
       "stream": "stdout",
       "text": [
        "\n",
        "# Process: Append"
       ]
      },
      {
       "output_type": "stream",
       "stream": "stdout",
       "text": [
        "\n",
        "5"
       ]
      },
      {
       "output_type": "stream",
       "stream": "stdout",
       "text": [
        "\n",
        "Y03M01D06\n",
        "C:\\Users\\lenovo\\Documents\\ArcGIS\\Default.gdb\\Shiva\\trmm_1_12_16 F1=Y03M01D06\n",
        "# Process: Create Geostatistical Layer\n",
        "# Process: GA Layer To Points"
       ]
      },
      {
       "output_type": "stream",
       "stream": "stdout",
       "text": [
        "\n",
        "C:\\Users\\lenovo\\Documents\\ArcGIS\\Default.gdb\\Valid1_16_Y03M01D06_51_F51"
       ]
      },
      {
       "output_type": "stream",
       "stream": "stdout",
       "text": [
        "\n",
        "# Process: GA Layer To Points FALSE\n",
        "# Process: Delete Field\n",
        "# Process: Make Table View"
       ]
      },
      {
       "output_type": "stream",
       "stream": "stdout",
       "text": [
        "\n",
        "GALayerToPoints45_1_View\n",
        "# Process: Add Field"
       ]
      },
      {
       "output_type": "stream",
       "stream": "stdout",
       "text": [
        "\n",
        "# Process: Calculate Field"
       ]
      },
      {
       "output_type": "stream",
       "stream": "stdout",
       "text": [
        "\n",
        "# Process: Append"
       ]
      },
      {
       "output_type": "stream",
       "stream": "stdout",
       "text": [
        "\n",
        "6"
       ]
      },
      {
       "output_type": "stream",
       "stream": "stdout",
       "text": [
        "\n",
        "Y03M01D07\n",
        "C:\\Users\\lenovo\\Documents\\ArcGIS\\Default.gdb\\Shiva\\trmm_1_12_16 F1=Y03M01D07\n",
        "# Process: Create Geostatistical Layer\n",
        "# Process: GA Layer To Points"
       ]
      },
      {
       "output_type": "stream",
       "stream": "stdout",
       "text": [
        "\n",
        "C:\\Users\\lenovo\\Documents\\ArcGIS\\Default.gdb\\Valid1_16_Y03M01D07_61_F61"
       ]
      },
      {
       "output_type": "stream",
       "stream": "stdout",
       "text": [
        "\n",
        "# Process: GA Layer To Points FALSE\n",
        "# Process: Delete Field\n",
        "# Process: Make Table View"
       ]
      },
      {
       "output_type": "stream",
       "stream": "stdout",
       "text": [
        "\n",
        "GALayerToPoints46_1_View\n",
        "# Process: Add Field"
       ]
      },
      {
       "output_type": "stream",
       "stream": "stdout",
       "text": [
        "\n",
        "# Process: Calculate Field"
       ]
      },
      {
       "output_type": "stream",
       "stream": "stdout",
       "text": [
        "\n",
        "# Process: Append"
       ]
      },
      {
       "output_type": "stream",
       "stream": "stdout",
       "text": [
        "\n",
        "7"
       ]
      },
      {
       "output_type": "stream",
       "stream": "stdout",
       "text": [
        "\n",
        "Y03M01D08\n",
        "C:\\Users\\lenovo\\Documents\\ArcGIS\\Default.gdb\\Shiva\\trmm_1_12_16 F1=Y03M01D08\n",
        "# Process: Create Geostatistical Layer\n",
        "# Process: GA Layer To Points"
       ]
      },
      {
       "output_type": "stream",
       "stream": "stdout",
       "text": [
        "\n",
        "C:\\Users\\lenovo\\Documents\\ArcGIS\\Default.gdb\\Valid1_16_Y03M01D08_71_F71"
       ]
      },
      {
       "output_type": "stream",
       "stream": "stdout",
       "text": [
        "\n",
        "# Process: GA Layer To Points FALSE\n",
        "# Process: Delete Field\n",
        "# Process: Make Table View"
       ]
      },
      {
       "output_type": "stream",
       "stream": "stdout",
       "text": [
        "\n",
        "GALayerToPoints47_1_View\n",
        "# Process: Add Field"
       ]
      },
      {
       "output_type": "stream",
       "stream": "stdout",
       "text": [
        "\n",
        "# Process: Calculate Field"
       ]
      },
      {
       "output_type": "stream",
       "stream": "stdout",
       "text": [
        "\n",
        "# Process: Append"
       ]
      },
      {
       "output_type": "stream",
       "stream": "stdout",
       "text": [
        "\n",
        "8"
       ]
      },
      {
       "output_type": "stream",
       "stream": "stdout",
       "text": [
        "\n",
        "Y03M01D09\n",
        "C:\\Users\\lenovo\\Documents\\ArcGIS\\Default.gdb\\Shiva\\trmm_1_12_16 F1=Y03M01D09\n",
        "# Process: Create Geostatistical Layer\n",
        "# Process: GA Layer To Points"
       ]
      }
     ]
    },
    {
     "cell_type": "code",
     "collapsed": false,
     "input": [
      "for k in range(0,12):\n",
      "    l = str(k+1)\n",
      "    xml = \"C:\\\\Users\\\\lenovo\\\\Documents\\\\ArcGIS\\\\Model_Kriging\"+l+\"_9.xml\"\n",
      "    dataset = \"C:\\\\Users\\\\lenovo\\\\Documents\\\\ArcGIS\\\\Default.gdb\\\\Shiva\\\\trmm_\"+l+\"_12_9\"\n",
      "    GALayer = \"C:\\\\Users\\\\lenovo\\\\Documents\\\\ArcGIS\\\\Default.gdb\\\\Valid\"+l+\"_9_\"\n",
      "    OutLayer = \"C:\\\\Users\\\\lenovo\\\\Documents\\\\ArcGIS\\\\Default.gdb\\\\Inter\"+l+\"_9_\"\n",
      "    out_Table = \"C:\\\\Users\\\\lenovo\\\\Documents\\\\ArcGIS\\\\Default.gdb\\\\kriging_9_\"+l\n",
      "    Export_Output_2_TableToExcel_xls = \"C:\\\\Users\\\\lenovo\\\\Documents\\\\ArcGIS\\\\scratch\\\\Excel_9_\"+l+\"_300_\"+str(random.randint(0,100))+\".xls\"\n",
      "    Station = \"C:\\\\Users\\\\lenovo\\\\Documents\\\\ArcGIS\\\\Default.gdb\\\\Shiva\\\\stat_\"+l+\"_12_16\"\n",
      "    print Station\n",
      "\n",
      "    fieldList = arcpy.ListFields(Station)\n",
      "    fieldList = fieldList[3:-1]\n",
      "    #fieldList = fieldList[0:300]\n",
      "\n",
      "    for j in range(len(fieldList)):\n",
      "        print j\n",
      "        i = fieldList[j]\n",
      "        #print str(i.name) \n",
      "\n",
      "        GALayerToPoints4_View = \"GALayerToPoints4\"+str(j)+\"_\"+str(l)+\"_View\"\n",
      "        GALayerToPoints4_View__4_ = GALayerToPoints4_View\n",
      "\n",
      "        print str(i.name)\n",
      "        field = str(i.name)\n",
      "        ds_field = dataset+\" F1=\"+str(i.name)\n",
      "        print ds_field\n",
      "    #     EBK_xml.dataset1Field = field\n",
      "    #     print EBK_xml\n",
      "\n",
      "        outGALayer1 = OutLayer+str(i.name)+\"_\"+str(j)+str(l)\n",
      "        print '# Process: Create Geostatistical Layer'\n",
      "\n",
      "        # Process: Create Geostatistical Layer\n",
      "        try:\n",
      "            arcpy.GACreateGeostatisticalLayer_ga(in_ga_model_source=xml, in_datasets=ds_field, out_layer=outGALayer1)\n",
      "            print '# Process: GA Layer To Points'\n",
      "\n",
      "            # Process: GA Layer To Points\n",
      "            try:\n",
      "                GALayerToPoint = GALayer+str(i.name)+\"_\"+str(j)+str(l)\n",
      "                GALayerToPoint2 = GALayerToPoint\n",
      "                arcpy.GALayerToPoints_ga(outGALayer1, Station, str(i.name), GALayerToPoint, \"FID_ONLY\")\n",
      "                print '# Process: GA Layer To Points OK'\n",
      "\n",
      "            except arcpy.ExecuteError:\n",
      "                GALayerToPoint = GALayerToPoint+\"_F\"+str(j)+str(l)\n",
      "                GALayerToPoint2 = GALayerToPoint\n",
      "                arcpy.GALayerToPoints_ga(outGALayer1, Station, 'Y03M01D24', GALayerToPoint, \"FID_ONLY\")\n",
      "                print GALayerToPoint\n",
      "                print '# Process: GA Layer To Points FALSE'\n",
      "\n",
      "            # Process: Delete Field\n",
      "            print '# Process: Delete Field'\n",
      "            arcpy.DeleteField_management(GALayerToPoint, str(i.name))        \n",
      "\n",
      "            # Process: Make Table View\n",
      "            try:\n",
      "                print '# Process: Make Table View'\n",
      "                print GALayerToPoints4_View\n",
      "                arcpy.MakeTableView_management(GALayerToPoint2, GALayerToPoints4_View, \"\", \"\", \"OBJECTID OBJECTID VISIBLE NONE;Shape Shape VISIBLE NONE;Predicted Predicted VISIBLE NONE;Error Error VISIBLE NONE;StdError StdError VISIBLE NONE;Stdd_Error Stdd_Error VISIBLE NONE;Source_ID Source_ID VISIBLE NONE;Included Included VISIBLE NONE\")\n",
      "                #arcpy.MakeTableView_management(GALayerToPoint, GALayerToPoints4_View, \"\", \"\", \"Predicted Predicted VISIBLE NONE;StdError StdError VISIBLE NONE;Error Error VISIBLE NONE;Stdd_Error Stdd_Error VISIBLE NONE;NormValue NormValue VISIBLE NONE;Source_ID Source_ID VISIBLE NONE;Included Included VISIBLE NONE\")\n",
      "            except arcpy.ExecuteError:\n",
      "                print '# Process: Table is in View, let us continue'\n",
      "\n",
      "\n",
      "            # Process: Add Field\n",
      "            print '# Process: Add Field'\n",
      "            arcpy.AddField_management(GALayerToPoints4_View, \"Date\", \"TEXT\", \"\", \"\", \"10\", \"\", \"NULLABLE\", \"NON_REQUIRED\", \"\")\n",
      "\n",
      "            # Process: Calculate Field\n",
      "            print '# Process: Calculate Field'\n",
      "            field_new = r'\"'+str(i.name)+r'\"'\n",
      "            arcpy.CalculateField_management(GALayerToPoints4_View__4_, \"Date\", field_new, \"VB\", \"\")\n",
      "\n",
      "            # Process: Append\n",
      "            print '# Process: Append'\n",
      "            arcpy.Append_management(GALayerToPoints4_View, out_Table, \"NO_TEST\", \"\", \"\") #\"GALayerToPoints4_View\" \n",
      "\n",
      "            GALayerToPoints4_View = None\n",
      "            GALayerToPoints4_View__4_= None\n",
      "\n",
      "        except arcpy.ExecuteError:\n",
      "            GALayerToPoints4_View = None\n",
      "            GALayerToPoints4_View__4_= None\n",
      "            print '# Process: Create Geostatistical Layer FAILED, only zero values'\n",
      "            continue \n",
      "\n",
      "    # Process: Table To Excel\n",
      "    try:\n",
      "        print '# Process: Table To Excel'\n",
      "        arcpy.TableToExcel_conversion(out_Table, Export_Output_2_TableToExcel_xls, \"NAME\", \"CODE\")\n",
      "        print Export_Output_2_TableToExcel_xls\n",
      "    except arcpy.ExecuteError:\n",
      "        print '# Process: Excel file exist already, delete first'    \n",
      "        os.remove(Export_Output_2_TableToExcel_xls, )\n",
      "        print '# Process: Table To Excel, try again'    \n",
      "        arcpy.TableToExcel_conversion(out_Table, Export_Output_2_TableToExcel_xls, \"NAME\", \"CODE\")\n",
      "        print Export_Output_2_TableToExcel_xls\n",
      "\n",
      "    xml = None\n",
      "    dataset = None\n",
      "    GALayer = None\n",
      "    OutLayer = None\n",
      "    out_Table = None\n",
      "    Export_Output_2_TableToExcel_xls = None\n",
      "    Station = None\n",
      "    fieldList = None\n",
      "    GALayerToPoints4_View = None\n",
      "    GALayerToPoints4_View__4_ = None\n",
      "    field = None\n",
      "    ds_field = None\n",
      "    outGALayer1 = None\n",
      "    GALayerToPoint = None\n",
      "    GALayerToPoint2 = None    \n",
      "    "
     ],
     "language": "python",
     "metadata": {},
     "outputs": []
    },
    {
     "cell_type": "code",
     "collapsed": false,
     "input": [
      "for k in range(0,12):\n",
      "    l = str(k+1)\n",
      "    xml = \"C:\\\\Users\\\\lenovo\\\\Documents\\\\ArcGIS\\\\Model_Kriging\"+l+\"_16.xml\"\n",
      "    dataset = \"C:\\\\Users\\\\lenovo\\\\Documents\\\\ArcGIS\\\\Default.gdb\\\\Shiva\\\\trmm_\"+l+\"_12_16\"\n",
      "    GALayer = \"C:\\\\Users\\\\lenovo\\\\Documents\\\\ArcGIS\\\\Default.gdb\\\\Valid\"+l+\"_16_\"\n",
      "    OutLayer = \"C:\\\\Users\\\\lenovo\\\\Documents\\\\ArcGIS\\\\Default.gdb\\\\Inter\"+l+\"_16_\"\n",
      "    out_Table = \"C:\\\\Users\\\\lenovo\\\\Documents\\\\ArcGIS\\\\Default.gdb\\\\kriging_16_\"+l\n",
      "    Export_Output_2_TableToExcel_xls = \"C:\\\\Users\\\\lenovo\\\\Documents\\\\ArcGIS\\\\scratch\\\\Excel_16_\"+l+\"_300_\"+str(random.randint(0,100))+\".xls\"\n",
      "    Station = \"C:\\\\Users\\\\lenovo\\\\Documents\\\\ArcGIS\\\\Default.gdb\\\\Shiva\\\\stat_\"+l+\"_12_16\"\n",
      "    print Station\n",
      "\n",
      "    fieldList = arcpy.ListFields(Station)\n",
      "    fieldList = fieldList[3:-1]\n",
      "    #fieldList = fieldList[0:300]\n",
      "\n",
      "    for j in range(len(fieldList)):\n",
      "        print j\n",
      "        i = fieldList[j]\n",
      "        #print str(i.name) \n",
      "\n",
      "        GALayerToPoints4_View = \"GALayerToPoints4\"+str(j)+\"_\"+str(l)+\"_View\"\n",
      "        GALayerToPoints4_View__4_ = GALayerToPoints4_View\n",
      "\n",
      "        print str(i.name)\n",
      "        field = str(i.name)\n",
      "        ds_field = dataset+\" F1=\"+str(i.name)\n",
      "        print ds_field\n",
      "    #     EBK_xml.dataset1Field = field\n",
      "    #     print EBK_xml\n",
      "\n",
      "        outGALayer1 = OutLayer+str(i.name)+\"_\"+str(j)+str(l)\n",
      "        print '# Process: Create Geostatistical Layer'\n",
      "\n",
      "        # Process: Create Geostatistical Layer\n",
      "        try:\n",
      "            arcpy.GACreateGeostatisticalLayer_ga(in_ga_model_source=xml, in_datasets=ds_field, out_layer=outGALayer1)\n",
      "            print '# Process: GA Layer To Points'\n",
      "\n",
      "            # Process: GA Layer To Points\n",
      "            try:\n",
      "                GALayerToPoint = GALayer+str(i.name)+\"_\"+str(j)+str(l)\n",
      "                GALayerToPoint2 = GALayerToPoint\n",
      "                arcpy.GALayerToPoints_ga(outGALayer1, Station, str(i.name), GALayerToPoint, \"FID_ONLY\")\n",
      "                print '# Process: GA Layer To Points OK'\n",
      "\n",
      "            except arcpy.ExecuteError:\n",
      "                GALayerToPoint = GALayerToPoint+\"_F\"+str(j)+str(l)\n",
      "                GALayerToPoint2 = GALayerToPoint\n",
      "                arcpy.GALayerToPoints_ga(outGALayer1, Station, 'Y03M01D24', GALayerToPoint, \"FID_ONLY\")\n",
      "                print GALayerToPoint\n",
      "                print '# Process: GA Layer To Points FALSE'\n",
      "\n",
      "            # Process: Delete Field\n",
      "            print '# Process: Delete Field'\n",
      "            arcpy.DeleteField_management(GALayerToPoint, str(i.name))        \n",
      "\n",
      "            # Process: Make Table View\n",
      "            try:\n",
      "                print '# Process: Make Table View'\n",
      "                print GALayerToPoints4_View\n",
      "                arcpy.MakeTableView_management(GALayerToPoint2, GALayerToPoints4_View, \"\", \"\", \"OBJECTID OBJECTID VISIBLE NONE;Shape Shape VISIBLE NONE;Predicted Predicted VISIBLE NONE;Error Error VISIBLE NONE;StdError StdError VISIBLE NONE;Stdd_Error Stdd_Error VISIBLE NONE;Source_ID Source_ID VISIBLE NONE;Included Included VISIBLE NONE\")\n",
      "                #arcpy.MakeTableView_management(GALayerToPoint, GALayerToPoints4_View, \"\", \"\", \"Predicted Predicted VISIBLE NONE;StdError StdError VISIBLE NONE;Error Error VISIBLE NONE;Stdd_Error Stdd_Error VISIBLE NONE;NormValue NormValue VISIBLE NONE;Source_ID Source_ID VISIBLE NONE;Included Included VISIBLE NONE\")\n",
      "            except arcpy.ExecuteError:\n",
      "                print '# Process: Table is in View, let us continue'\n",
      "\n",
      "\n",
      "            # Process: Add Field\n",
      "            print '# Process: Add Field'\n",
      "            arcpy.AddField_management(GALayerToPoints4_View, \"Date\", \"TEXT\", \"\", \"\", \"10\", \"\", \"NULLABLE\", \"NON_REQUIRED\", \"\")\n",
      "\n",
      "            # Process: Calculate Field\n",
      "            print '# Process: Calculate Field'\n",
      "            field_new = r'\"'+str(i.name)+r'\"'\n",
      "            arcpy.CalculateField_management(GALayerToPoints4_View__4_, \"Date\", field_new, \"VB\", \"\")\n",
      "\n",
      "            # Process: Append\n",
      "            print '# Process: Append'\n",
      "            arcpy.Append_management(GALayerToPoints4_View, out_Table, \"NO_TEST\", \"\", \"\") #\"GALayerToPoints4_View\" \n",
      "\n",
      "            GALayerToPoints4_View = None\n",
      "            GALayerToPoints4_View__4_= None\n",
      "\n",
      "        except arcpy.ExecuteError:\n",
      "            GALayerToPoints4_View = None\n",
      "            GALayerToPoints4_View__4_= None\n",
      "            print '# Process: Create Geostatistical Layer FAILED, only zero values'\n",
      "            continue \n",
      "\n",
      "    # Process: Table To Excel\n",
      "    try:\n",
      "        print '# Process: Table To Excel'\n",
      "        arcpy.TableToExcel_conversion(out_Table, Export_Output_2_TableToExcel_xls, \"NAME\", \"CODE\")\n",
      "        print Export_Output_2_TableToExcel_xls\n",
      "    except arcpy.ExecuteError:\n",
      "        print '# Process: Excel file exist already, delete first'    \n",
      "        os.remove(Export_Output_2_TableToExcel_xls, )\n",
      "        print '# Process: Table To Excel, try again'    \n",
      "        arcpy.TableToExcel_conversion(out_Table, Export_Output_2_TableToExcel_xls, \"NAME\", \"CODE\")\n",
      "        print Export_Output_2_TableToExcel_xls\n",
      "\n",
      "    xml = None\n",
      "    dataset = None\n",
      "    GALayer = None\n",
      "    OutLayer = None\n",
      "    out_Table = None\n",
      "    Export_Output_2_TableToExcel_xls = None\n",
      "    Station = None\n",
      "    fieldList = None\n",
      "    GALayerToPoints4_View = None\n",
      "    GALayerToPoints4_View__4_ = None\n",
      "    field = None\n",
      "    ds_field = None\n",
      "    outGALayer1 = None\n",
      "    GALayerToPoint = None\n",
      "    GALayerToPoint2 = None    \n",
      "    "
     ],
     "language": "python",
     "metadata": {},
     "outputs": []
    },
    {
     "cell_type": "code",
     "collapsed": false,
     "input": [],
     "language": "python",
     "metadata": {},
     "outputs": []
    },
    {
     "cell_type": "code",
     "collapsed": false,
     "input": [
      "\n",
      "\n",
      "# Local variables:\n",
      "xml = \"C:\\\\Users\\\\lenovo\\\\Documents\\\\ArcGIS\\\\Model_Kriging1_4.xml\"\n",
      "dataset = \"C:\\\\Users\\\\lenovo\\\\Documents\\\\ArcGIS\\\\Default.gdb\\\\Shiva\\\\trmm_1_12_4\"\n",
      "GALayer = \"C:\\\\Users\\\\lenovo\\\\Documents\\\\ArcGIS\\\\Default.gdb\\\\Valid1_4_\"\n",
      "OutLayer = \"C:\\\\Users\\\\lenovo\\\\Documents\\\\ArcGIS\\\\Default.gdb\\\\Inter1_4_\"\n",
      "out_Table = \"C:\\\\Users\\\\lenovo\\\\Documents\\\\ArcGIS\\\\Default.gdb\\\\kriging1_4\"\n",
      "Export_Output_2_TableToExcel_xls = \"C:\\\\Users\\\\lenovo\\\\Documents\\\\ArcGIS\\\\scratch\\\\Excel_4_0_300_\"+str(random.randint(0,100))+\".xls\"\n",
      "Station = \"C:\\\\Users\\\\lenovo\\\\Documents\\\\ArcGIS\\\\Default.gdb\\\\Shiva\\\\stat_1_12_16\"\n",
      "\n",
      "fieldList = arcpy.ListFields(Station)\n",
      "fieldList = fieldList[1:-1]\n",
      "#fieldList = fieldList[0:300]\n",
      "\n",
      "for j in range(len(fieldList)):\n",
      "    print j\n",
      "    i = fieldList[j]\n",
      "    print str(i.name) \n",
      "    \n",
      "    GALayerToPoints4_View = \"GALayerToPoints4\"+str(j)+\"_View\"\n",
      "    GALayerToPoints4_View__4_ = GALayerToPoints4_View\n",
      "    \n",
      "    print str(i.name)\n",
      "    field = str(i.name)\n",
      "    ds_field = dataset+\" F1=\"+str(i.name)\n",
      "    print ds_field\n",
      "#     EBK_xml.dataset1Field = field\n",
      "#     print EBK_xml\n",
      "    \n",
      "    outGALayer1 = OutLayer+str(i.name)+\"_\"+str(j)\n",
      "    print '# Process: Create Geostatistical Layer'\n",
      "\n",
      "    # Process: Create Geostatistical Layer\n",
      "    try:\n",
      "        arcpy.GACreateGeostatisticalLayer_ga(in_ga_model_source=xml, in_datasets=ds_field, out_layer=outGALayer1)\n",
      "        print '# Process: GA Layer To Points'\n",
      "\n",
      "        # Process: GA Layer To Points\n",
      "        try:\n",
      "            GALayerToPoint = GALayer+str(i.name)+\"_\"+str(j)\n",
      "            GALayerToPoint2 = GALayerToPoint\n",
      "            arcpy.GALayerToPoints_ga(outGALayer1, Station, str(i.name), GALayerToPoint, \"FID_ONLY\")\n",
      "            print '# Process: GA Layer To Points OK'\n",
      "\n",
      "        except arcpy.ExecuteError:\n",
      "            GALayerToPoint = GALayerToPoint+\"_F\"+str(j)\n",
      "            GALayerToPoint2 = GALayerToPoint\n",
      "            arcpy.GALayerToPoints_ga(outGALayer1, Station, 'Y03M01D24', GALayerToPoint, \"FID_ONLY\")\n",
      "            print GALayerToPoint\n",
      "            print '# Process: GA Layer To Points FALSE'\n",
      "\n",
      "        # Process: Delete Field\n",
      "        print '# Process: Delete Field'\n",
      "        arcpy.DeleteField_management(GALayerToPoint, str(i.name))        \n",
      "\n",
      "        # Process: Make Table View\n",
      "        try:\n",
      "            print '# Process: Make Table View'\n",
      "            print GALayerToPoints4_View\n",
      "            arcpy.MakeTableView_management(GALayerToPoint2, GALayerToPoints4_View, \"\", \"\", \"OBJECTID OBJECTID VISIBLE NONE;Shape Shape VISIBLE NONE;Predicted Predicted VISIBLE NONE;Error Error VISIBLE NONE;StdError StdError VISIBLE NONE;Stdd_Error Stdd_Error VISIBLE NONE;Source_ID Source_ID VISIBLE NONE;Included Included VISIBLE NONE\")\n",
      "            #arcpy.MakeTableView_management(GALayerToPoint, GALayerToPoints4_View, \"\", \"\", \"Predicted Predicted VISIBLE NONE;StdError StdError VISIBLE NONE;Error Error VISIBLE NONE;Stdd_Error Stdd_Error VISIBLE NONE;NormValue NormValue VISIBLE NONE;Source_ID Source_ID VISIBLE NONE;Included Included VISIBLE NONE\")\n",
      "        except arcpy.ExecuteError:\n",
      "            print '# Process: Table is in View, let us continue'\n",
      "\n",
      "\n",
      "        # Process: Add Field\n",
      "        print '# Process: Add Field'\n",
      "        arcpy.AddField_management(GALayerToPoints4_View, \"Date\", \"TEXT\", \"\", \"\", \"10\", \"\", \"NULLABLE\", \"NON_REQUIRED\", \"\")\n",
      "\n",
      "        # Process: Calculate Field\n",
      "        print '# Process: Calculate Field'\n",
      "        field_new = r'\"'+str(i.name)+r'\"'\n",
      "        arcpy.CalculateField_management(GALayerToPoints4_View__4_, \"Date\", field_new, \"VB\", \"\")\n",
      "\n",
      "        # Process: Append\n",
      "        print '# Process: Append'\n",
      "        arcpy.Append_management(GALayerToPoints4_View, out_Table, \"NO_TEST\", \"\", \"\") #\"GALayerToPoints4_View\" \n",
      "\n",
      "        GALayerToPoints4_View = None\n",
      "        GALayerToPoints4_View__4_= None\n",
      "\n",
      "    except arcpy.ExecuteError:\n",
      "        GALayerToPoints4_View = None\n",
      "        GALayerToPoints4_View__4_= None\n",
      "        print '# Process: Create Geostatistical Layer FAILED, only zero values'\n",
      "        continue \n",
      "        \n",
      "# Process: Table To Excel\n",
      "try:\n",
      "    print '# Process: Table To Excel'\n",
      "    arcpy.TableToExcel_conversion(out_Table, Export_Output_2_TableToExcel_xls, \"NAME\", \"CODE\")\n",
      "    print Export_Output_2_TableToExcel_xls\n",
      "except arcpy.ExecuteError:\n",
      "    print '# Process: Excel file exist already, delete first'    \n",
      "    os.remove(Export_Output_2_TableToExcel_xls, )\n",
      "    print '# Process: Table To Excel, try again'    \n",
      "    arcpy.TableToExcel_conversion(out_Table, Export_Output_2_TableToExcel_xls, \"NAME\", \"CODE\")\n",
      "    print Export_Output_2_TableToExcel_xls\n",
      "\n",
      "xml = None\n",
      "dataset = None\n",
      "GALayer = None\n",
      "OutLayer = None\n",
      "out_Table = None\n",
      "Export_Output_2_TableToExcel_xls = None\n",
      "Station = None\n",
      "fieldList = None\n",
      "GALayerToPoints4_View = None\n",
      "GALayerToPoints4_View__4_ = None\n",
      "field = None\n",
      "ds_field = None\n",
      "outGALayer1 = None\n",
      "GALayerToPoint = None\n",
      "GALayerToPoint2 = None\n",
      "\n",
      "\n",
      "# Local variables:\n",
      "xml = \"C:\\\\Users\\\\lenovo\\\\Documents\\\\ArcGIS\\\\Model_Kriging4.xml\"\n",
      "dataset = \"C:\\\\Users\\\\lenovo\\\\Documents\\\\ArcGIS\\\\Default.gdb\\\\Shiva\\\\trmm_1_12_4\"\n",
      "GALayer = \"C:\\\\Users\\\\lenovo\\\\Documents\\\\ArcGIS\\\\Default.gdb\\\\Valid1_4_\"\n",
      "OutLayer = \"C:\\\\Users\\\\lenovo\\\\Documents\\\\ArcGIS\\\\Default.gdb\\\\Inter1_4_\"\n",
      "out_Table = \"C:\\\\Users\\\\lenovo\\\\Documents\\\\ArcGIS\\\\Default.gdb\\\\kriging1_4\"\n",
      "Export_Output_2_TableToExcel_xls = \"C:\\\\Users\\\\lenovo\\\\Documents\\\\ArcGIS\\\\scratch\\\\Excel_4_0_300_\"+str(random.randint(0,100))+\".xls\"\n",
      "Station = \"C:\\\\Users\\\\lenovo\\\\Documents\\\\ArcGIS\\\\Default.gdb\\\\Shiva\\\\stat_1_12_16\"\n",
      "\n",
      "fieldList = arcpy.ListFields(Station)\n",
      "fieldList = fieldList[1:-1]\n",
      "#fieldList = fieldList[0:300]\n",
      "\n",
      "for j in range(len(fieldList)):\n",
      "    print j\n",
      "    i = fieldList[j]\n",
      "    print str(i.name) \n",
      "    \n",
      "    GALayerToPoints4_View = \"GALayerToPoints4\"+str(j)+\"_View\"\n",
      "    GALayerToPoints4_View__4_ = GALayerToPoints4_View\n",
      "    \n",
      "    print str(i.name)\n",
      "    field = str(i.name)\n",
      "    ds_field = dataset+\" F1=\"+str(i.name)\n",
      "    print ds_field\n",
      "#     EBK_xml.dataset1Field = field\n",
      "#     print EBK_xml\n",
      "    \n",
      "    outGALayer1 = OutLayer+str(i.name)+\"_\"+str(j)\n",
      "    print '# Process: Create Geostatistical Layer'\n",
      "\n",
      "    # Process: Create Geostatistical Layer\n",
      "    try:\n",
      "        arcpy.GACreateGeostatisticalLayer_ga(in_ga_model_source=xml, in_datasets=ds_field, out_layer=outGALayer1)\n",
      "        print '# Process: GA Layer To Points'\n",
      "\n",
      "        # Process: GA Layer To Points\n",
      "        try:\n",
      "            GALayerToPoint = GALayer+str(i.name)+\"_\"+str(j)\n",
      "            GALayerToPoint2 = GALayerToPoint\n",
      "            arcpy.GALayerToPoints_ga(outGALayer1, Station, str(i.name), GALayerToPoint, \"FID_ONLY\")\n",
      "            print '# Process: GA Layer To Points OK'\n",
      "\n",
      "        except arcpy.ExecuteError:\n",
      "            GALayerToPoint = GALayerToPoint+\"_F\"+str(j)\n",
      "            GALayerToPoint2 = GALayerToPoint\n",
      "            arcpy.GALayerToPoints_ga(outGALayer1, Station, 'Y03M01D24', GALayerToPoint, \"FID_ONLY\")\n",
      "            print GALayerToPoint\n",
      "            print '# Process: GA Layer To Points FALSE'\n",
      "\n",
      "        # Process: Delete Field\n",
      "        print '# Process: Delete Field'\n",
      "        arcpy.DeleteField_management(GALayerToPoint, str(i.name))        \n",
      "\n",
      "        # Process: Make Table View\n",
      "        try:\n",
      "            print '# Process: Make Table View'\n",
      "            print GALayerToPoints4_View\n",
      "            arcpy.MakeTableView_management(GALayerToPoint2, GALayerToPoints4_View, \"\", \"\", \"OBJECTID OBJECTID VISIBLE NONE;Shape Shape VISIBLE NONE;Predicted Predicted VISIBLE NONE;Error Error VISIBLE NONE;StdError StdError VISIBLE NONE;Stdd_Error Stdd_Error VISIBLE NONE;Source_ID Source_ID VISIBLE NONE;Included Included VISIBLE NONE\")\n",
      "            #arcpy.MakeTableView_management(GALayerToPoint, GALayerToPoints4_View, \"\", \"\", \"Predicted Predicted VISIBLE NONE;StdError StdError VISIBLE NONE;Error Error VISIBLE NONE;Stdd_Error Stdd_Error VISIBLE NONE;NormValue NormValue VISIBLE NONE;Source_ID Source_ID VISIBLE NONE;Included Included VISIBLE NONE\")\n",
      "        except arcpy.ExecuteError:\n",
      "            print '# Process: Table is in View, let us continue'\n",
      "\n",
      "\n",
      "        # Process: Add Field\n",
      "        print '# Process: Add Field'\n",
      "        arcpy.AddField_management(GALayerToPoints4_View, \"Date\", \"TEXT\", \"\", \"\", \"10\", \"\", \"NULLABLE\", \"NON_REQUIRED\", \"\")\n",
      "\n",
      "        # Process: Calculate Field\n",
      "        print '# Process: Calculate Field'\n",
      "        field_new = r'\"'+str(i.name)+r'\"'\n",
      "        arcpy.CalculateField_management(GALayerToPoints4_View__4_, \"Date\", field_new, \"VB\", \"\")\n",
      "\n",
      "        # Process: Append\n",
      "        print '# Process: Append'\n",
      "        arcpy.Append_management(GALayerToPoints4_View, out_Table, \"NO_TEST\", \"\", \"\") #\"GALayerToPoints4_View\" \n",
      "\n",
      "        GALayerToPoints4_View = None\n",
      "        GALayerToPoints4_View__4_= None\n",
      "\n",
      "    except arcpy.ExecuteError:\n",
      "        GALayerToPoints4_View = None\n",
      "        GALayerToPoints4_View__4_= None\n",
      "        print '# Process: Create Geostatistical Layer FAILED, only zero values'\n",
      "        continue \n",
      "        \n",
      "# Process: Table To Excel\n",
      "try:\n",
      "    print '# Process: Table To Excel'\n",
      "    arcpy.TableToExcel_conversion(out_Table, Export_Output_2_TableToExcel_xls, \"NAME\", \"CODE\")\n",
      "    print Export_Output_2_TableToExcel_xls\n",
      "except arcpy.ExecuteError:\n",
      "    print '# Process: Excel file exist already, delete first'    \n",
      "    os.remove(Export_Output_2_TableToExcel_xls, )\n",
      "    print '# Process: Table To Excel, try again'    \n",
      "    arcpy.TableToExcel_conversion(out_Table, Export_Output_2_TableToExcel_xls, \"NAME\", \"CODE\")\n",
      "    print Export_Output_2_TableToExcel_xls\n",
      "\n",
      "xml = None\n",
      "dataset = None\n",
      "GALayer = None\n",
      "OutLayer = None\n",
      "out_Table = None\n",
      "Export_Output_2_TableToExcel_xls = None\n",
      "Station = None\n",
      "fieldList = None\n",
      "GALayerToPoints4_View = None\n",
      "GALayerToPoints4_View__4_ = None\n",
      "field = None\n",
      "ds_field = None\n",
      "outGALayer1 = None\n",
      "GALayerToPoint = None\n",
      "GALayerToPoint2 = None"
     ],
     "language": "python",
     "metadata": {},
     "outputs": []
    }
   ],
   "metadata": {}
  }
 ]
}