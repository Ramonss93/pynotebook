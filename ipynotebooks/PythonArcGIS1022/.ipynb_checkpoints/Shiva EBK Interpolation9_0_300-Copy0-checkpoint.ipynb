{
 "metadata": {
  "name": "",
  "signature": "sha256:d2cfd61b6bb9176ebf3c558c7f9f008d0dad764333b2c10159d74703574ed8f9"
 },
 "nbformat": 3,
 "nbformat_minor": 0,
 "worksheets": [
  {
   "cells": [
    {
     "cell_type": "code",
     "collapsed": false,
     "input": [
      "import arcpy\n",
      "import random\n",
      "import os"
     ],
     "language": "python",
     "metadata": {},
     "outputs": [],
     "prompt_number": 1
    },
    {
     "cell_type": "code",
     "collapsed": false,
     "input": [
      "arcpy.CheckOutExtension(\"GeoStats\")"
     ],
     "language": "python",
     "metadata": {},
     "outputs": [
      {
       "metadata": {},
       "output_type": "pyout",
       "prompt_number": 2,
       "text": [
        "u'CheckedOut'"
       ]
      }
     ],
     "prompt_number": 2
    },
    {
     "cell_type": "code",
     "collapsed": false,
     "input": [
      "# Local variables:\n",
      "xml = \"C:\\\\Users\\\\lenovo\\\\Documents\\\\ArcGIS\\\\Model_Kriging4.xml\"\n",
      "#EBK_xml = arcpy.GeostatisticalDatasets(\"C:\\\\Users\\\\lenovo\\\\Documents\\\\EmpiricalBayesianKriging16.xml\")\n",
      "dataset = \"C:\\\\Users\\\\lenovo\\\\Documents\\\\ArcGIS\\\\Default.gdb\\\\Shiva\\\\TRMM_4\"\n",
      "#out_Table = \"C:\\\\Users\\\\lenovo\\\\Documents\\\\ArcGIS\\\\Default.gdb\\\\Out_pred_4_valid\"\n",
      "#EBK_xml.dataset1 = \"C:\\\\Users\\\\lenovo\\\\Documents\\\\ArcGIS\\\\Default.gdb\\\\Shiva\\\\TRMM_16\"\n",
      "GALayer = \"C:\\\\Users\\\\lenovo\\\\Documents\\\\ArcGIS\\\\Default.gdb\\\\Valid4_\"\n",
      "OutLayer = \"C:\\\\Users\\\\lenovo\\\\Documents\\\\ArcGIS\\\\Default.gdb\\\\Inter4_\"\n",
      "\n",
      "#GALayerToPoints4_View__2_ = \"GALayerToPoints4_View\"\n",
      "#GALayerToPoints4_View__5_ = \"GALayerToPoints4_View\"\n",
      "#GALayerToPoints4_View = \"GALayerToPoints4\"+str(random.randint(1,100))+\"_View\"\n",
      "#GALayerToPoints4_View__4_ = GALayerToPoints4_View\n",
      "out_Table = \"C:\\\\Users\\\\lenovo\\\\Documents\\\\ArcGIS\\\\Default.gdb\\\\kriging_4\"\n",
      "\n",
      "Export_Output_2_TableToExcel_xls = \"C:\\\\Users\\\\lenovo\\\\Documents\\\\ArcGIS\\\\scratch\\\\Excel_4_0_300_\"+str(random.randint(0,100))+\".xls\"\n",
      "\n",
      "Station = \"C:\\\\Users\\\\lenovo\\\\Documents\\\\ArcGIS\\\\Default.gdb\\\\Shiva\\\\Station_all\"\n",
      "fieldList = arcpy.ListFields(Station)\n",
      "fieldList = fieldList[1:-1]\n",
      "fieldList = fieldList[0:300]"
     ],
     "language": "python",
     "metadata": {},
     "outputs": [],
     "prompt_number": 3
    },
    {
     "cell_type": "code",
     "collapsed": false,
     "input": [
      "for j in range(len(fieldList)):\n",
      "    print j\n",
      "    i = fieldList[j]\n",
      "    print str(i.name) \n",
      "    \n",
      "    GALayerToPoints4_View = \"GALayerToPoints4\"+str(j)+\"_View\"\n",
      "    GALayerToPoints4_View__4_ = GALayerToPoints4_View\n",
      "    \n",
      "    print str(i.name)\n",
      "    field = str(i.name)\n",
      "    ds_field = dataset+\" F1=\"+str(i.name)\n",
      "    print ds_field\n",
      "#     EBK_xml.dataset1Field = field\n",
      "#     print EBK_xml\n",
      "    \n",
      "    outGALayer1 = OutLayer+str(i.name)+\"_\"+str(j)\n",
      "    print '# Process: Create Geostatistical Layer'\n",
      "\n",
      "    # Process: Create Geostatistical Layer\n",
      "    try:\n",
      "        arcpy.GACreateGeostatisticalLayer_ga(in_ga_model_source=xml, in_datasets=ds_field, out_layer=outGALayer1)\n",
      "        print '# Process: GA Layer To Points'\n",
      "\n",
      "        # Process: GA Layer To Points\n",
      "        try:\n",
      "            GALayerToPoint = GALayer+str(i.name)+\"_\"+str(j)\n",
      "            GALayerToPoint2 = GALayerToPoint\n",
      "            arcpy.GALayerToPoints_ga(outGALayer1, Station, str(i.name), GALayerToPoint, \"FID_ONLY\")\n",
      "            print '# Process: GA Layer To Points OK'\n",
      "\n",
      "        except arcpy.ExecuteError:\n",
      "            GALayerToPoint = GALayerToPoint+\"_F\"+str(j)\n",
      "            GALayerToPoint2 = GALayerToPoint\n",
      "            arcpy.GALayerToPoints_ga(outGALayer1, Station, 'Y03M01D24', GALayerToPoint, \"FID_ONLY\")\n",
      "            print GALayerToPoint\n",
      "            print '# Process: GA Layer To Points FALSE'\n",
      "\n",
      "        # Process: Delete Field\n",
      "        print '# Process: Delete Field'\n",
      "        arcpy.DeleteField_management(GALayerToPoint, str(i.name))        \n",
      "\n",
      "        # Process: Make Table View\n",
      "        try:\n",
      "            print '# Process: Make Table View'\n",
      "            print GALayerToPoints4_View\n",
      "            arcpy.MakeTableView_management(GALayerToPoint2, GALayerToPoints4_View, \"\", \"\", \"OBJECTID OBJECTID VISIBLE NONE;Shape Shape VISIBLE NONE;Predicted Predicted VISIBLE NONE;Error Error VISIBLE NONE;StdError StdError VISIBLE NONE;Stdd_Error Stdd_Error VISIBLE NONE;Source_ID Source_ID VISIBLE NONE;Included Included VISIBLE NONE\")\n",
      "            #arcpy.MakeTableView_management(GALayerToPoint, GALayerToPoints4_View, \"\", \"\", \"Predicted Predicted VISIBLE NONE;StdError StdError VISIBLE NONE;Error Error VISIBLE NONE;Stdd_Error Stdd_Error VISIBLE NONE;NormValue NormValue VISIBLE NONE;Source_ID Source_ID VISIBLE NONE;Included Included VISIBLE NONE\")\n",
      "        except arcpy.ExecuteError:\n",
      "            print '# Process: Table is in View, let us continue'\n",
      "\n",
      "\n",
      "        # Process: Add Field\n",
      "        print '# Process: Add Field'\n",
      "        arcpy.AddField_management(GALayerToPoints4_View, \"Date\", \"TEXT\", \"\", \"\", \"10\", \"\", \"NULLABLE\", \"NON_REQUIRED\", \"\")\n",
      "\n",
      "        # Process: Calculate Field\n",
      "        print '# Process: Calculate Field'\n",
      "        field_new = r'\"'+str(i.name)+r'\"'\n",
      "        arcpy.CalculateField_management(GALayerToPoints4_View__4_, \"Date\", field_new, \"VB\", \"\")\n",
      "\n",
      "        # Process: Append\n",
      "        print '# Process: Append'\n",
      "        arcpy.Append_management(GALayerToPoints4_View, out_Table, \"NO_TEST\", \"\", \"\") #\"GALayerToPoints4_View\" \n",
      "\n",
      "        GALayerToPoints4_View = None\n",
      "        GALayerToPoints4_View__4_= None\n",
      "\n",
      "    except arcpy.ExecuteError:\n",
      "        GALayerToPoints4_View = None\n",
      "        GALayerToPoints4_View__4_= None\n",
      "        print '# Process: Create Geostatistical Layer FAILED, only zero values'\n",
      "        continue \n",
      "\n",
      "\n",
      "\n",
      "# Process: Table To Excel\n",
      "try:\n",
      "    print '# Process: Table To Excel'\n",
      "    arcpy.TableToExcel_conversion(out_Table, Export_Output_2_TableToExcel_xls, \"NAME\", \"CODE\")\n",
      "    print Export_Output_2_TableToExcel_xls\n",
      "except arcpy.ExecuteError:\n",
      "    print '# Process: Excel file exist already, delete first'    \n",
      "    os.remove(Export_Output_2_TableToExcel_xls, )\n",
      "    print '# Process: Table To Excel, try again'    \n",
      "    arcpy.TableToExcel_conversion(out_Table, Export_Output_2_TableToExcel_xls, \"NAME\", \"CODE\")\n",
      "    print Export_Output_2_TableToExcel_xls\n"
     ],
     "language": "python",
     "metadata": {},
     "outputs": [
      {
       "output_type": "stream",
       "stream": "stdout",
       "text": [
        "0\n",
        "Y03M01D01\n",
        "Y03M01D01\n",
        "C:\\Users\\lenovo\\Documents\\ArcGIS\\Default.gdb\\Shiva\\TRMM_4 F1=Y03M01D01\n",
        "# Process: Create Geostatistical Layer\n",
        "# Process: GA Layer To Points"
       ]
      },
      {
       "output_type": "stream",
       "stream": "stdout",
       "text": [
        "\n",
        "# Process: Create Geostatistical Layer FAILED, only zero values"
       ]
      },
      {
       "output_type": "stream",
       "stream": "stdout",
       "text": [
        "\n",
        "1\n",
        "Y03M01D02\n",
        "Y03M01D02\n",
        "C:\\Users\\lenovo\\Documents\\ArcGIS\\Default.gdb\\Shiva\\TRMM_4 F1=Y03M01D02\n",
        "# Process: Create Geostatistical Layer\n",
        "# Process: GA Layer To Points"
       ]
      },
      {
       "output_type": "stream",
       "stream": "stdout",
       "text": [
        "\n",
        "# Process: Create Geostatistical Layer FAILED, only zero values"
       ]
      },
      {
       "output_type": "stream",
       "stream": "stdout",
       "text": [
        "\n",
        "2\n",
        "Y03M01D03\n",
        "Y03M01D03\n",
        "C:\\Users\\lenovo\\Documents\\ArcGIS\\Default.gdb\\Shiva\\TRMM_4 F1=Y03M01D03\n",
        "# Process: Create Geostatistical Layer\n",
        "# Process: GA Layer To Points"
       ]
      },
      {
       "output_type": "stream",
       "stream": "stdout",
       "text": [
        "\n",
        "# Process: Create Geostatistical Layer FAILED, only zero values"
       ]
      },
      {
       "output_type": "stream",
       "stream": "stdout",
       "text": [
        "\n",
        "3\n",
        "Y03M01D04\n",
        "Y03M01D04\n",
        "C:\\Users\\lenovo\\Documents\\ArcGIS\\Default.gdb\\Shiva\\TRMM_4 F1=Y03M01D04\n",
        "# Process: Create Geostatistical Layer\n",
        "# Process: GA Layer To Points"
       ]
      },
      {
       "output_type": "stream",
       "stream": "stdout",
       "text": [
        "\n",
        "# Process: Create Geostatistical Layer FAILED, only zero values"
       ]
      },
      {
       "output_type": "stream",
       "stream": "stdout",
       "text": [
        "\n",
        "4\n",
        "Y03M01D05\n",
        "Y03M01D05\n",
        "C:\\Users\\lenovo\\Documents\\ArcGIS\\Default.gdb\\Shiva\\TRMM_4 F1=Y03M01D05\n",
        "# Process: Create Geostatistical Layer\n",
        "# Process: GA Layer To Points"
       ]
      },
      {
       "output_type": "stream",
       "stream": "stdout",
       "text": [
        "\n",
        "# Process: Create Geostatistical Layer FAILED, only zero values"
       ]
      },
      {
       "output_type": "stream",
       "stream": "stdout",
       "text": [
        "\n",
        "5\n",
        "Y03M01D06\n",
        "Y03M01D06\n",
        "C:\\Users\\lenovo\\Documents\\ArcGIS\\Default.gdb\\Shiva\\TRMM_4 F1=Y03M01D06\n",
        "# Process: Create Geostatistical Layer\n",
        "# Process: GA Layer To Points"
       ]
      },
      {
       "output_type": "stream",
       "stream": "stdout",
       "text": [
        "\n",
        "# Process: Create Geostatistical Layer FAILED, only zero values"
       ]
      },
      {
       "output_type": "stream",
       "stream": "stdout",
       "text": [
        "\n",
        "6\n",
        "Y03M01D07\n",
        "Y03M01D07\n",
        "C:\\Users\\lenovo\\Documents\\ArcGIS\\Default.gdb\\Shiva\\TRMM_4 F1=Y03M01D07\n",
        "# Process: Create Geostatistical Layer\n",
        "# Process: GA Layer To Points"
       ]
      },
      {
       "output_type": "stream",
       "stream": "stdout",
       "text": [
        "\n",
        "# Process: Create Geostatistical Layer FAILED, only zero values"
       ]
      },
      {
       "output_type": "stream",
       "stream": "stdout",
       "text": [
        "\n",
        "7\n",
        "Y03M01D08\n",
        "Y03M01D08\n",
        "C:\\Users\\lenovo\\Documents\\ArcGIS\\Default.gdb\\Shiva\\TRMM_4 F1=Y03M01D08\n",
        "# Process: Create Geostatistical Layer\n",
        "# Process: GA Layer To Points"
       ]
      },
      {
       "output_type": "stream",
       "stream": "stdout",
       "text": [
        "\n",
        "# Process: Create Geostatistical Layer FAILED, only zero values"
       ]
      },
      {
       "output_type": "stream",
       "stream": "stdout",
       "text": [
        "\n",
        "8\n",
        "Y03M01D09\n",
        "Y03M01D09\n",
        "C:\\Users\\lenovo\\Documents\\ArcGIS\\Default.gdb\\Shiva\\TRMM_4 F1=Y03M01D09\n",
        "# Process: Create Geostatistical Layer\n",
        "# Process: GA Layer To Points"
       ]
      },
      {
       "output_type": "stream",
       "stream": "stdout",
       "text": [
        "\n",
        "# Process: Create Geostatistical Layer FAILED, only zero values"
       ]
      },
      {
       "output_type": "stream",
       "stream": "stdout",
       "text": [
        "\n",
        "9\n",
        "Y03M01D10\n",
        "Y03M01D10\n",
        "C:\\Users\\lenovo\\Documents\\ArcGIS\\Default.gdb\\Shiva\\TRMM_4 F1=Y03M01D10\n",
        "# Process: Create Geostatistical Layer\n",
        "# Process: GA Layer To Points"
       ]
      },
      {
       "output_type": "stream",
       "stream": "stdout",
       "text": [
        "\n",
        "# Process: Create Geostatistical Layer FAILED, only zero values"
       ]
      },
      {
       "output_type": "stream",
       "stream": "stdout",
       "text": [
        "\n",
        "10\n",
        "Y03M01D11\n",
        "Y03M01D11\n",
        "C:\\Users\\lenovo\\Documents\\ArcGIS\\Default.gdb\\Shiva\\TRMM_4 F1=Y03M01D11\n",
        "# Process: Create Geostatistical Layer\n",
        "# Process: Create Geostatistical Layer FAILED, only zero values"
       ]
      },
      {
       "output_type": "stream",
       "stream": "stdout",
       "text": [
        "\n",
        "11\n",
        "Y03M01D12\n",
        "Y03M01D12\n",
        "C:\\Users\\lenovo\\Documents\\ArcGIS\\Default.gdb\\Shiva\\TRMM_4 F1=Y03M01D12\n",
        "# Process: Create Geostatistical Layer\n",
        "# Process: GA Layer To Points"
       ]
      },
      {
       "output_type": "stream",
       "stream": "stdout",
       "text": [
        "\n"
       ]
      },
      {
       "ename": "KeyboardInterrupt",
       "evalue": "",
       "output_type": "pyerr",
       "traceback": [
        "\u001b[1;31m---------------------------------------------------------------------------\u001b[0m\n\u001b[1;31mKeyboardInterrupt\u001b[0m                         Traceback (most recent call last)",
        "\u001b[1;32m<ipython-input-4-ac8d352aab17>\u001b[0m in \u001b[0;36m<module>\u001b[1;34m()\u001b[0m\n\u001b[0;32m     34\u001b[0m             \u001b[0mGALayerToPoint\u001b[0m \u001b[1;33m=\u001b[0m \u001b[0mGALayerToPoint\u001b[0m\u001b[1;33m+\u001b[0m\u001b[1;34m\"_F\"\u001b[0m\u001b[1;33m+\u001b[0m\u001b[0mstr\u001b[0m\u001b[1;33m(\u001b[0m\u001b[0mj\u001b[0m\u001b[1;33m)\u001b[0m\u001b[1;33m\u001b[0m\u001b[0m\n\u001b[0;32m     35\u001b[0m             \u001b[0mGALayerToPoint2\u001b[0m \u001b[1;33m=\u001b[0m \u001b[0mGALayerToPoint\u001b[0m\u001b[1;33m\u001b[0m\u001b[0m\n\u001b[1;32m---> 36\u001b[1;33m             \u001b[0marcpy\u001b[0m\u001b[1;33m.\u001b[0m\u001b[0mGALayerToPoints_ga\u001b[0m\u001b[1;33m(\u001b[0m\u001b[0moutGALayer1\u001b[0m\u001b[1;33m,\u001b[0m \u001b[0mStation\u001b[0m\u001b[1;33m,\u001b[0m \u001b[1;34m'Y03M01D24'\u001b[0m\u001b[1;33m,\u001b[0m \u001b[0mGALayerToPoint\u001b[0m\u001b[1;33m,\u001b[0m \u001b[1;34m\"FID_ONLY\"\u001b[0m\u001b[1;33m)\u001b[0m\u001b[1;33m\u001b[0m\u001b[0m\n\u001b[0m\u001b[0;32m     37\u001b[0m             \u001b[1;32mprint\u001b[0m \u001b[0mGALayerToPoint\u001b[0m\u001b[1;33m\u001b[0m\u001b[0m\n\u001b[0;32m     38\u001b[0m             \u001b[1;32mprint\u001b[0m \u001b[1;34m'# Process: GA Layer To Points FALSE'\u001b[0m\u001b[1;33m\u001b[0m\u001b[0m\n",
        "\u001b[1;32mD:\\Program Files (x86)\\ArcGIS\\Desktop10.2\\arcpy\\arcpy\\ga.pyc\u001b[0m in \u001b[0;36mGALayerToPoints\u001b[1;34m(in_geostat_layer, in_locations, z_field, out_feature_class, append_all_fields)\u001b[0m\n\u001b[0;32m   1381\u001b[0m     \u001b[1;32mfrom\u001b[0m \u001b[0marcpy\u001b[0m\u001b[1;33m.\u001b[0m\u001b[0marcobjects\u001b[0m\u001b[1;33m.\u001b[0m\u001b[0marcobjectconversion\u001b[0m \u001b[1;32mimport\u001b[0m \u001b[0mconvertArcObjectToPythonObject\u001b[0m\u001b[1;33m\u001b[0m\u001b[0m\n\u001b[0;32m   1382\u001b[0m     \u001b[1;32mtry\u001b[0m\u001b[1;33m:\u001b[0m\u001b[1;33m\u001b[0m\u001b[0m\n\u001b[1;32m-> 1383\u001b[1;33m         \u001b[0mretval\u001b[0m \u001b[1;33m=\u001b[0m \u001b[0mconvertArcObjectToPythonObject\u001b[0m\u001b[1;33m(\u001b[0m\u001b[0mgp\u001b[0m\u001b[1;33m.\u001b[0m\u001b[0mGALayerToPoints_ga\u001b[0m\u001b[1;33m(\u001b[0m\u001b[1;33m*\u001b[0m\u001b[0mgp_fixargs\u001b[0m\u001b[1;33m(\u001b[0m\u001b[1;33m(\u001b[0m\u001b[0min_geostat_layer\u001b[0m\u001b[1;33m,\u001b[0m \u001b[0min_locations\u001b[0m\u001b[1;33m,\u001b[0m \u001b[0mz_field\u001b[0m\u001b[1;33m,\u001b[0m \u001b[0mout_feature_class\u001b[0m\u001b[1;33m,\u001b[0m \u001b[0mappend_all_fields\u001b[0m\u001b[1;33m)\u001b[0m\u001b[1;33m,\u001b[0m \u001b[0mTrue\u001b[0m\u001b[1;33m)\u001b[0m\u001b[1;33m)\u001b[0m\u001b[1;33m)\u001b[0m\u001b[1;33m\u001b[0m\u001b[0m\n\u001b[0m\u001b[0;32m   1384\u001b[0m         \u001b[1;32mreturn\u001b[0m \u001b[0mretval\u001b[0m\u001b[1;33m\u001b[0m\u001b[0m\n\u001b[0;32m   1385\u001b[0m     \u001b[1;32mexcept\u001b[0m \u001b[0mException\u001b[0m\u001b[1;33m,\u001b[0m \u001b[0me\u001b[0m\u001b[1;33m:\u001b[0m\u001b[1;33m\u001b[0m\u001b[0m\n",
        "\u001b[1;32mD:\\Program Files (x86)\\ArcGIS\\Desktop10.2\\arcpy\\arcpy\\geoprocessing\\_base.pyc\u001b[0m in \u001b[0;36mgp_fixargs\u001b[1;34m(args, strip_right_nones, string_results)\u001b[0m\n\u001b[0;32m     33\u001b[0m         \u001b[1;32melse\u001b[0m\u001b[1;33m:\u001b[0m\u001b[1;33m\u001b[0m\u001b[0m\n\u001b[0;32m     34\u001b[0m             \u001b[0mnew_args\u001b[0m\u001b[1;33m.\u001b[0m\u001b[0mappend\u001b[0m\u001b[1;33m(\u001b[0m\u001b[0marg\u001b[0m\u001b[1;33m)\u001b[0m\u001b[1;33m\u001b[0m\u001b[0m\n\u001b[1;32m---> 35\u001b[1;33m         \u001b[1;32mdel\u001b[0m \u001b[0marg\u001b[0m\u001b[1;33m\u001b[0m\u001b[0m\n\u001b[0m\u001b[0;32m     36\u001b[0m     \u001b[1;32mif\u001b[0m \u001b[0mstrip_right_nones\u001b[0m\u001b[1;33m:\u001b[0m\u001b[1;33m\u001b[0m\u001b[0m\n\u001b[0;32m     37\u001b[0m         \u001b[1;32mwhile\u001b[0m \u001b[0mnew_args\u001b[0m \u001b[1;32mand\u001b[0m \u001b[0mnew_args\u001b[0m\u001b[1;33m[\u001b[0m\u001b[1;33m-\u001b[0m\u001b[1;36m1\u001b[0m\u001b[1;33m]\u001b[0m \u001b[1;32mis\u001b[0m \u001b[0mNone\u001b[0m\u001b[1;33m:\u001b[0m\u001b[1;33m\u001b[0m\u001b[0m\n",
        "\u001b[1;31mKeyboardInterrupt\u001b[0m: "
       ]
      }
     ],
     "prompt_number": 4
    },
    {
     "cell_type": "code",
     "collapsed": false,
     "input": [
      "for i in fieldList[0:3]:\n",
      "    print str(i.name)"
     ],
     "language": "python",
     "metadata": {},
     "outputs": []
    },
    {
     "cell_type": "code",
     "collapsed": false,
     "input": [
      "r'\"'+str(i.name)+r'\"'"
     ],
     "language": "python",
     "metadata": {},
     "outputs": []
    },
    {
     "cell_type": "code",
     "collapsed": false,
     "input": [
      "Expression = \"\\\"Y03M01D03\\\"\""
     ],
     "language": "python",
     "metadata": {},
     "outputs": []
    },
    {
     "cell_type": "code",
     "collapsed": false,
     "input": [
      "Expression"
     ],
     "language": "python",
     "metadata": {},
     "outputs": []
    },
    {
     "cell_type": "code",
     "collapsed": false,
     "input": [
      "r'\"Y03M01D03\"'"
     ],
     "language": "python",
     "metadata": {},
     "outputs": []
    },
    {
     "cell_type": "code",
     "collapsed": false,
     "input": [
      "repr(\"Y03M01D03\")"
     ],
     "language": "python",
     "metadata": {},
     "outputs": []
    },
    {
     "cell_type": "code",
     "collapsed": false,
     "input": [
      "GALayerToPoints4_View = \"GALayerToPoints4\"+str(random.randint(1,100))+\"_View\"\n",
      "GALayerToPoints4_View"
     ],
     "language": "python",
     "metadata": {},
     "outputs": []
    },
    {
     "cell_type": "code",
     "collapsed": false,
     "input": [],
     "language": "python",
     "metadata": {},
     "outputs": []
    }
   ],
   "metadata": {}
  }
 ]
}