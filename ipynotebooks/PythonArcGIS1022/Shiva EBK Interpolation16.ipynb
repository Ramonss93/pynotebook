{
 "metadata": {
  "name": "",
  "signature": "sha256:924f5dc6bccab16afbcbfaa506955bdd423d33ebe9bd8861d84d9752d1d7ec61"
 },
 "nbformat": 3,
 "nbformat_minor": 0,
 "worksheets": [
  {
   "cells": [
    {
     "cell_type": "code",
     "collapsed": false,
     "input": [
      "import arcpy\n",
      "import random\n",
      "import os"
     ],
     "language": "python",
     "metadata": {},
     "outputs": [],
     "prompt_number": 1
    },
    {
     "cell_type": "code",
     "collapsed": false,
     "input": [
      "arcpy.CheckOutExtension(\"GeoStats\")"
     ],
     "language": "python",
     "metadata": {},
     "outputs": [
      {
       "metadata": {},
       "output_type": "pyout",
       "prompt_number": 2,
       "text": [
        "u'CheckedOut'"
       ]
      }
     ],
     "prompt_number": 2
    },
    {
     "cell_type": "code",
     "collapsed": false,
     "input": [
      "# Local variables:\n",
      "xml = \"C:\\\\Users\\\\lenovo\\\\Documents\\\\EmpiricalBayesianKriging16.xml\"\n",
      "#EBK_xml = arcpy.GeostatisticalDatasets(\"C:\\\\Users\\\\lenovo\\\\Documents\\\\EmpiricalBayesianKriging16.xml\")\n",
      "dataset = \"C:\\\\Users\\\\lenovo\\\\Documents\\\\ArcGIS\\\\Default.gdb\\\\Shiva\\\\TRMM_16\"\n",
      "out_Table = \"C:\\\\Users\\\\lenovo\\\\Documents\\\\ArcGIS\\\\Default.gdb\\\\Out_pred_valid\"\n",
      "#EBK_xml.dataset1 = \"C:\\\\Users\\\\lenovo\\\\Documents\\\\ArcGIS\\\\Default.gdb\\\\Shiva\\\\TRMM_16\"\n",
      "GALayer = \"C:\\\\Users\\\\lenovo\\\\Documents\\\\ArcGIS\\\\Default.gdb\\\\Valid_\"\n",
      "OutLayer = \"C:\\\\Users\\\\lenovo\\\\Documents\\\\ArcGIS\\\\Default.gdb\\\\Inter_\"\n",
      "\n",
      "#GALayerToPoints4_View__2_ = \"GALayerToPoints4_View\"\n",
      "#GALayerToPoints4_View__5_ = \"GALayerToPoints4_View\"\n",
      "#GALayerToPoints4_View = \"GALayerToPoints4\"+str(random.randint(1,100))+\"_View\"\n",
      "#GALayerToPoints4_View__4_ = GALayerToPoints4_View\n",
      "out_Table = \"C:\\\\Users\\\\lenovo\\\\Documents\\\\ArcGIS\\\\Default.gdb\\\\testTable2\"\n",
      "\n",
      "Export_Output_2_TableToExcel_xls = \"C:\\\\Users\\\\lenovo\\\\Documents\\\\ArcGIS\\\\scratch\\\\Excel_16_\"+str(random.randint(0,100))+\".xls\"\n",
      "\n",
      "Station = \"C:\\\\Users\\\\lenovo\\\\Documents\\\\ArcGIS\\\\Default.gdb\\\\Shiva\\\\Station_all\"\n",
      "fieldList = arcpy.ListFields(Station)\n",
      "fieldList = fieldList[1:-1]"
     ],
     "language": "python",
     "metadata": {},
     "outputs": [],
     "prompt_number": 3
    },
    {
     "cell_type": "code",
     "collapsed": false,
     "input": [
      "for i in fieldList[10:20]:    \n",
      "    GALayerToPoints4_View = \"GALayerToPoints4\"+str(random.randint(1,100))+\"_View\"\n",
      "    GALayerToPoints4_View__4_ = GALayerToPoints4_View\n",
      "    \n",
      "    print str(i.name)\n",
      "    field = str(i.name)\n",
      "    ds_field = dataset+\" F1=\"+str(i.name)\n",
      "    print ds_field\n",
      "#     EBK_xml.dataset1Field = field\n",
      "#     print EBK_xml\n",
      "    \n",
      "    outGALayer1 = OutLayer+str(i.name)+\"_\"+str(random.randint(0,100))\n",
      "    print '# Process: Create Geostatistical Layer'\n",
      "\n",
      "    # Process: Create Geostatistical Layer\n",
      "    try:\n",
      "        arcpy.GACreateGeostatisticalLayer_ga(in_ga_model_source=xml, \n",
      "                                                           in_datasets=ds_field, \n",
      "                                                           out_layer=outGALayer1)\n",
      "        print '# Process: GA Layer To Points'\n",
      "\n",
      "        # Process: GA Layer To Points\n",
      "\n",
      "\n",
      "        try:\n",
      "            GALayerToPoint = GALayer+str(i.name)+\"_\"+str(random.randint(0,100))\n",
      "            GALayerToPoint2 = GALayerToPoint\n",
      "            arcpy.GALayerToPoints_ga(outGALayer1, Station, str(i.name), GALayerToPoint, \"FID_ONLY\")\n",
      "            print '# Process: GA Layer To Points OK'\n",
      "\n",
      "        except arcpy.ExecuteError:\n",
      "            GALayerToPoint = GALayerToPoint+\"_F\"+str(random.randint(0,100))\n",
      "            GALayerToPoint2 = GALayerToPoint\n",
      "            arcpy.GALayerToPoints_ga(outGALayer1, Station, 'Y03M01D24', GALayerToPoint, \"FID_ONLY\")\n",
      "            print GALayerToPoint\n",
      "            print '# Process: GA Layer To Points FALSE'\n",
      "\n",
      "        # Process: Delete Field\n",
      "        print '# Process: Delete Field'\n",
      "        arcpy.DeleteField_management(GALayerToPoint, str(i.name))        \n",
      "\n",
      "        # Process: Make Table View\n",
      "        try:\n",
      "            print '# Process: Make Table View'\n",
      "            print GALayerToPoints4_View\n",
      "            arcpy.MakeTableView_management(GALayerToPoint2, GALayerToPoints4_View, \"\", \"\", \"OBJECTID OBJECTID VISIBLE NONE;Shape Shape VISIBLE NONE;Predicted Predicted VISIBLE NONE;Error Error VISIBLE NONE;StdError StdError VISIBLE NONE;Stdd_Error Stdd_Error VISIBLE NONE;Source_ID Source_ID VISIBLE NONE;Included Included VISIBLE NONE\")\n",
      "            #arcpy.MakeTableView_management(GALayerToPoint, GALayerToPoints4_View, \"\", \"\", \"Predicted Predicted VISIBLE NONE;StdError StdError VISIBLE NONE;Error Error VISIBLE NONE;Stdd_Error Stdd_Error VISIBLE NONE;NormValue NormValue VISIBLE NONE;Source_ID Source_ID VISIBLE NONE;Included Included VISIBLE NONE\")\n",
      "        except arcpy.ExecuteError:\n",
      "            print '# Process: Table is in View, let us continue'\n",
      "\n",
      "\n",
      "        # Process: Add Field\n",
      "        print '# Process: Add Field'\n",
      "        arcpy.AddField_management(GALayerToPoints4_View, \"Date\", \"TEXT\", \"\", \"\", \"10\", \"\", \"NULLABLE\", \"NON_REQUIRED\", \"\")\n",
      "\n",
      "        # Process: Calculate Field\n",
      "        print '# Process: Calculate Field'\n",
      "        field_new = r'\"'+str(i.name)+r'\"'\n",
      "        arcpy.CalculateField_management(GALayerToPoints4_View__4_, \"Date\", field_new, \"VB\", \"\")\n",
      "\n",
      "        # Process: Append\n",
      "        print '# Process: Append'\n",
      "        arcpy.Append_management(GALayerToPoints4_View, out_Table, \"NO_TEST\", \"\", \"\") #\"GALayerToPoints4_View\" \n",
      "\n",
      "        GALayerToPoints4_View = None\n",
      "        GALayerToPoints4_View__4_= None\n",
      "\n",
      "    except arcpy.ExecuteError:\n",
      "        GALayerToPoints4_View = None\n",
      "        GALayerToPoints4_View__4_= None\n",
      "        print '# Process: Create Geostatistical Layer FAILED, only zero values'\n",
      "        continue \n",
      "\n",
      "\n",
      "\n",
      "# Process: Table To Excel\n",
      "try:\n",
      "    print '# Process: Table To Excel'\n",
      "    arcpy.TableToExcel_conversion(out_Table, Export_Output_2_TableToExcel_xls, \"NAME\", \"CODE\")\n",
      "    print Export_Output_2_TableToExcel_xls\n",
      "except arcpy.ExecuteError:\n",
      "    print '# Process: Excel file exist already, delete first'    \n",
      "    os.remove(Export_Output_2_TableToExcel_xls, )\n",
      "    print '# Process: Table To Excel, try again'    \n",
      "    arcpy.TableToExcel_conversion(out_Table, Export_Output_2_TableToExcel_xls, \"NAME\", \"CODE\")\n",
      "    print Export_Output_2_TableToExcel_xls\n"
     ],
     "language": "python",
     "metadata": {},
     "outputs": [
      {
       "output_type": "stream",
       "stream": "stdout",
       "text": [
        "Y03M01D11\n",
        "C:\\Users\\lenovo\\Documents\\ArcGIS\\Default.gdb\\Shiva\\TRMM_16 F1=Y03M01D11\n",
        "# Process: Create Geostatistical Layer\n",
        "# Process: GA Layer To Points"
       ]
      },
      {
       "output_type": "stream",
       "stream": "stdout",
       "text": [
        "\n",
        "C:\\Users\\lenovo\\Documents\\ArcGIS\\Default.gdb\\Valid_Y03M01D11_21_F72"
       ]
      },
      {
       "output_type": "stream",
       "stream": "stdout",
       "text": [
        "\n",
        "# Process: GA Layer To Points FALSE\n",
        "# Process: Delete Field\n",
        "# Process: Make Table View"
       ]
      },
      {
       "output_type": "stream",
       "stream": "stdout",
       "text": [
        "\n",
        "GALayerToPoints492_View\n",
        "# Process: Add Field"
       ]
      },
      {
       "output_type": "stream",
       "stream": "stdout",
       "text": [
        "\n",
        "# Process: Calculate Field"
       ]
      },
      {
       "output_type": "stream",
       "stream": "stdout",
       "text": [
        "\n",
        "# Process: Append"
       ]
      },
      {
       "output_type": "stream",
       "stream": "stdout",
       "text": [
        "\n",
        "Y03M01D12"
       ]
      },
      {
       "output_type": "stream",
       "stream": "stdout",
       "text": [
        "\n",
        "C:\\Users\\lenovo\\Documents\\ArcGIS\\Default.gdb\\Shiva\\TRMM_16 F1=Y03M01D12\n",
        "# Process: Create Geostatistical Layer\n",
        "# Process: GA Layer To Points"
       ]
      },
      {
       "output_type": "stream",
       "stream": "stdout",
       "text": [
        "\n",
        "C:\\Users\\lenovo\\Documents\\ArcGIS\\Default.gdb\\Valid_Y03M01D12_12_F74"
       ]
      },
      {
       "output_type": "stream",
       "stream": "stdout",
       "text": [
        "\n",
        "# Process: GA Layer To Points FALSE\n",
        "# Process: Delete Field\n",
        "# Process: Make Table View"
       ]
      },
      {
       "output_type": "stream",
       "stream": "stdout",
       "text": [
        "\n",
        "GALayerToPoints436_View\n",
        "# Process: Add Field"
       ]
      },
      {
       "output_type": "stream",
       "stream": "stdout",
       "text": [
        "\n",
        "# Process: Calculate Field"
       ]
      },
      {
       "output_type": "stream",
       "stream": "stdout",
       "text": [
        "\n",
        "# Process: Append"
       ]
      },
      {
       "output_type": "stream",
       "stream": "stdout",
       "text": [
        "\n",
        "Y03M01D13"
       ]
      },
      {
       "output_type": "stream",
       "stream": "stdout",
       "text": [
        "\n",
        "C:\\Users\\lenovo\\Documents\\ArcGIS\\Default.gdb\\Shiva\\TRMM_16 F1=Y03M01D13\n",
        "# Process: Create Geostatistical Layer\n",
        "# Process: GA Layer To Points"
       ]
      },
      {
       "output_type": "stream",
       "stream": "stdout",
       "text": [
        "\n",
        "C:\\Users\\lenovo\\Documents\\ArcGIS\\Default.gdb\\Valid_Y03M01D13_51_F63"
       ]
      },
      {
       "output_type": "stream",
       "stream": "stdout",
       "text": [
        "\n",
        "# Process: GA Layer To Points FALSE\n",
        "# Process: Delete Field\n",
        "# Process: Make Table View"
       ]
      },
      {
       "output_type": "stream",
       "stream": "stdout",
       "text": [
        "\n",
        "GALayerToPoints459_View\n",
        "# Process: Add Field"
       ]
      },
      {
       "output_type": "stream",
       "stream": "stdout",
       "text": [
        "\n",
        "# Process: Calculate Field"
       ]
      },
      {
       "output_type": "stream",
       "stream": "stdout",
       "text": [
        "\n",
        "# Process: Append"
       ]
      },
      {
       "output_type": "stream",
       "stream": "stdout",
       "text": [
        "\n",
        "Y03M01D14"
       ]
      },
      {
       "output_type": "stream",
       "stream": "stdout",
       "text": [
        "\n",
        "C:\\Users\\lenovo\\Documents\\ArcGIS\\Default.gdb\\Shiva\\TRMM_16 F1=Y03M01D14\n",
        "# Process: Create Geostatistical Layer\n",
        "# Process: GA Layer To Points"
       ]
      },
      {
       "output_type": "stream",
       "stream": "stdout",
       "text": [
        "\n",
        "C:\\Users\\lenovo\\Documents\\ArcGIS\\Default.gdb\\Valid_Y03M01D14_74_F43"
       ]
      },
      {
       "output_type": "stream",
       "stream": "stdout",
       "text": [
        "\n",
        "# Process: GA Layer To Points FALSE\n",
        "# Process: Delete Field\n",
        "# Process: Make Table View"
       ]
      },
      {
       "output_type": "stream",
       "stream": "stdout",
       "text": [
        "\n",
        "GALayerToPoints443_View\n",
        "# Process: Add Field"
       ]
      },
      {
       "output_type": "stream",
       "stream": "stdout",
       "text": [
        "\n",
        "# Process: Calculate Field"
       ]
      },
      {
       "output_type": "stream",
       "stream": "stdout",
       "text": [
        "\n",
        "# Process: Append"
       ]
      },
      {
       "output_type": "stream",
       "stream": "stdout",
       "text": [
        "\n",
        "Y03M01D15"
       ]
      },
      {
       "output_type": "stream",
       "stream": "stdout",
       "text": [
        "\n",
        "C:\\Users\\lenovo\\Documents\\ArcGIS\\Default.gdb\\Shiva\\TRMM_16 F1=Y03M01D15\n",
        "# Process: Create Geostatistical Layer\n",
        "# Process: GA Layer To Points"
       ]
      },
      {
       "output_type": "stream",
       "stream": "stdout",
       "text": [
        "\n",
        "C:\\Users\\lenovo\\Documents\\ArcGIS\\Default.gdb\\Valid_Y03M01D15_61_F41"
       ]
      },
      {
       "output_type": "stream",
       "stream": "stdout",
       "text": [
        "\n",
        "# Process: GA Layer To Points FALSE\n",
        "# Process: Delete Field\n",
        "# Process: Make Table View"
       ]
      },
      {
       "output_type": "stream",
       "stream": "stdout",
       "text": [
        "\n",
        "GALayerToPoints424_View\n",
        "# Process: Add Field"
       ]
      },
      {
       "output_type": "stream",
       "stream": "stdout",
       "text": [
        "\n",
        "# Process: Calculate Field"
       ]
      },
      {
       "output_type": "stream",
       "stream": "stdout",
       "text": [
        "\n",
        "# Process: Append"
       ]
      },
      {
       "output_type": "stream",
       "stream": "stdout",
       "text": [
        "\n",
        "Y03M01D16"
       ]
      },
      {
       "output_type": "stream",
       "stream": "stdout",
       "text": [
        "\n",
        "C:\\Users\\lenovo\\Documents\\ArcGIS\\Default.gdb\\Shiva\\TRMM_16 F1=Y03M01D16\n",
        "# Process: Create Geostatistical Layer\n",
        "# Process: GA Layer To Points"
       ]
      },
      {
       "output_type": "stream",
       "stream": "stdout",
       "text": [
        "\n",
        "C:\\Users\\lenovo\\Documents\\ArcGIS\\Default.gdb\\Valid_Y03M01D16_22_F15"
       ]
      },
      {
       "output_type": "stream",
       "stream": "stdout",
       "text": [
        "\n",
        "# Process: GA Layer To Points FALSE\n",
        "# Process: Delete Field\n",
        "# Process: Make Table View"
       ]
      },
      {
       "output_type": "stream",
       "stream": "stdout",
       "text": [
        "\n",
        "GALayerToPoints495_View\n",
        "# Process: Add Field"
       ]
      },
      {
       "output_type": "stream",
       "stream": "stdout",
       "text": [
        "\n",
        "# Process: Calculate Field"
       ]
      },
      {
       "output_type": "stream",
       "stream": "stdout",
       "text": [
        "\n",
        "# Process: Append"
       ]
      },
      {
       "output_type": "stream",
       "stream": "stdout",
       "text": [
        "\n",
        "Y03M01D17"
       ]
      },
      {
       "output_type": "stream",
       "stream": "stdout",
       "text": [
        "\n",
        "C:\\Users\\lenovo\\Documents\\ArcGIS\\Default.gdb\\Shiva\\TRMM_16 F1=Y03M01D17\n",
        "# Process: Create Geostatistical Layer\n",
        "# Process: Create Geostatistical Layer FAILED, only zero values"
       ]
      },
      {
       "output_type": "stream",
       "stream": "stdout",
       "text": [
        "\n",
        "Y03M01D18\n",
        "C:\\Users\\lenovo\\Documents\\ArcGIS\\Default.gdb\\Shiva\\TRMM_16 F1=Y03M01D18\n",
        "# Process: Create Geostatistical Layer\n",
        "# Process: GA Layer To Points"
       ]
      },
      {
       "output_type": "stream",
       "stream": "stdout",
       "text": [
        "\n",
        "C:\\Users\\lenovo\\Documents\\ArcGIS\\Default.gdb\\Valid_Y03M01D18_9_F79"
       ]
      },
      {
       "output_type": "stream",
       "stream": "stdout",
       "text": [
        "\n",
        "# Process: GA Layer To Points FALSE\n",
        "# Process: Delete Field\n",
        "# Process: Make Table View"
       ]
      },
      {
       "output_type": "stream",
       "stream": "stdout",
       "text": [
        "\n",
        "GALayerToPoints45_View\n",
        "# Process: Add Field"
       ]
      },
      {
       "output_type": "stream",
       "stream": "stdout",
       "text": [
        "\n",
        "# Process: Calculate Field"
       ]
      },
      {
       "output_type": "stream",
       "stream": "stdout",
       "text": [
        "\n",
        "# Process: Append"
       ]
      },
      {
       "output_type": "stream",
       "stream": "stdout",
       "text": [
        "\n",
        "Y03M01D19"
       ]
      },
      {
       "output_type": "stream",
       "stream": "stdout",
       "text": [
        "\n",
        "C:\\Users\\lenovo\\Documents\\ArcGIS\\Default.gdb\\Shiva\\TRMM_16 F1=Y03M01D19\n",
        "# Process: Create Geostatistical Layer\n",
        "# Process: GA Layer To Points"
       ]
      },
      {
       "output_type": "stream",
       "stream": "stdout",
       "text": [
        "\n",
        "C:\\Users\\lenovo\\Documents\\ArcGIS\\Default.gdb\\Valid_Y03M01D19_98_F37"
       ]
      },
      {
       "output_type": "stream",
       "stream": "stdout",
       "text": [
        "\n",
        "# Process: GA Layer To Points FALSE\n",
        "# Process: Delete Field\n",
        "# Process: Make Table View"
       ]
      },
      {
       "output_type": "stream",
       "stream": "stdout",
       "text": [
        "\n",
        "GALayerToPoints463_View\n",
        "# Process: Add Field"
       ]
      },
      {
       "output_type": "stream",
       "stream": "stdout",
       "text": [
        "\n",
        "# Process: Calculate Field"
       ]
      },
      {
       "output_type": "stream",
       "stream": "stdout",
       "text": [
        "\n",
        "# Process: Append"
       ]
      },
      {
       "output_type": "stream",
       "stream": "stdout",
       "text": [
        "\n",
        "Y03M01D20"
       ]
      },
      {
       "output_type": "stream",
       "stream": "stdout",
       "text": [
        "\n",
        "C:\\Users\\lenovo\\Documents\\ArcGIS\\Default.gdb\\Shiva\\TRMM_16 F1=Y03M01D20\n",
        "# Process: Create Geostatistical Layer\n",
        "# Process: GA Layer To Points"
       ]
      },
      {
       "output_type": "stream",
       "stream": "stdout",
       "text": [
        "\n",
        "C:\\Users\\lenovo\\Documents\\ArcGIS\\Default.gdb\\Valid_Y03M01D20_62_F17"
       ]
      },
      {
       "output_type": "stream",
       "stream": "stdout",
       "text": [
        "\n",
        "# Process: GA Layer To Points FALSE\n",
        "# Process: Delete Field\n",
        "# Process: Make Table View"
       ]
      },
      {
       "output_type": "stream",
       "stream": "stdout",
       "text": [
        "\n",
        "GALayerToPoints473_View\n",
        "# Process: Add Field"
       ]
      },
      {
       "output_type": "stream",
       "stream": "stdout",
       "text": [
        "\n",
        "# Process: Calculate Field"
       ]
      },
      {
       "output_type": "stream",
       "stream": "stdout",
       "text": [
        "\n",
        "# Process: Append"
       ]
      },
      {
       "output_type": "stream",
       "stream": "stdout",
       "text": [
        "\n",
        "# Process: Table To Excel"
       ]
      },
      {
       "output_type": "stream",
       "stream": "stdout",
       "text": [
        "\n",
        "C:\\Users\\lenovo\\Documents\\ArcGIS\\scratch\\Export_Output_2_TableToExcel77.xls"
       ]
      }
     ]
    },
    {
     "cell_type": "code",
     "collapsed": false,
     "input": [
      "for i in fieldList[0:3]:\n",
      "    print str(i.name)"
     ],
     "language": "python",
     "metadata": {},
     "outputs": []
    },
    {
     "cell_type": "code",
     "collapsed": false,
     "input": [
      "r'\"'+str(i.name)+r'\"'"
     ],
     "language": "python",
     "metadata": {},
     "outputs": []
    },
    {
     "cell_type": "code",
     "collapsed": false,
     "input": [
      "Expression = \"\\\"Y03M01D03\\\"\""
     ],
     "language": "python",
     "metadata": {},
     "outputs": []
    },
    {
     "cell_type": "code",
     "collapsed": false,
     "input": [
      "Expression"
     ],
     "language": "python",
     "metadata": {},
     "outputs": []
    },
    {
     "cell_type": "code",
     "collapsed": false,
     "input": [
      "r'\"Y03M01D03\"'"
     ],
     "language": "python",
     "metadata": {},
     "outputs": []
    },
    {
     "cell_type": "code",
     "collapsed": false,
     "input": [
      "repr(\"Y03M01D03\")"
     ],
     "language": "python",
     "metadata": {},
     "outputs": []
    },
    {
     "cell_type": "code",
     "collapsed": false,
     "input": [
      "GALayerToPoints4_View = \"GALayerToPoints4\"+str(random.randint(1,100))+\"_View\"\n",
      "GALayerToPoints4_View"
     ],
     "language": "python",
     "metadata": {},
     "outputs": []
    },
    {
     "cell_type": "code",
     "collapsed": false,
     "input": [],
     "language": "python",
     "metadata": {},
     "outputs": []
    }
   ],
   "metadata": {}
  }
 ]
}