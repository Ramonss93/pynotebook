{
 "metadata": {
  "name": "",
  "signature": "sha256:aa6e5907cfde7bdbe00c24f4ae27218b908f1c41de9c2a7e7cff544ffb4b2ee1"
 },
 "nbformat": 3,
 "nbformat_minor": 0,
 "worksheets": [
  {
   "cells": [
    {
     "cell_type": "code",
     "collapsed": false,
     "input": [
      "import arcpy\n",
      "import random\n",
      "import os"
     ],
     "language": "python",
     "metadata": {},
     "outputs": [],
     "prompt_number": 1
    },
    {
     "cell_type": "code",
     "collapsed": false,
     "input": [
      "arcpy.CheckOutExtension(\"GeoStats\")"
     ],
     "language": "python",
     "metadata": {},
     "outputs": [
      {
       "metadata": {},
       "output_type": "pyout",
       "prompt_number": 2,
       "text": [
        "u'CheckedOut'"
       ]
      }
     ],
     "prompt_number": 2
    },
    {
     "cell_type": "code",
     "collapsed": false,
     "input": [
      "# Local variables:\n",
      "xml = \"C:\\\\Users\\\\lenovo\\\\Documents\\\\ArcGIS\\\\Model_Kriging9.xml\"\n",
      "#EBK_xml = arcpy.GeostatisticalDatasets(\"C:\\\\Users\\\\lenovo\\\\Documents\\\\EmpiricalBayesianKriging16.xml\")\n",
      "dataset = \"C:\\\\Users\\\\lenovo\\\\Documents\\\\ArcGIS\\\\Default.gdb\\\\Shiva\\\\TRMM_9\"\n",
      "#out_Table = \"C:\\\\Users\\\\lenovo\\\\Documents\\\\ArcGIS\\\\Default.gdb\\\\Out_pred_4_valid\"\n",
      "#EBK_xml.dataset1 = \"C:\\\\Users\\\\lenovo\\\\Documents\\\\ArcGIS\\\\Default.gdb\\\\Shiva\\\\TRMM_16\"\n",
      "GALayer = \"C:\\\\Users\\\\lenovo\\\\Documents\\\\ArcGIS\\\\Default.gdb\\\\Valid9_\"\n",
      "OutLayer = \"C:\\\\Users\\\\lenovo\\\\Documents\\\\ArcGIS\\\\Default.gdb\\\\Inter9_\"\n",
      "\n",
      "#GALayerToPoints4_View__2_ = \"GALayerToPoints4_View\"\n",
      "#GALayerToPoints4_View__5_ = \"GALayerToPoints4_View\"\n",
      "#GALayerToPoints4_View = \"GALayerToPoints4\"+str(random.randint(1,100))+\"_View\"\n",
      "#GALayerToPoints4_View__4_ = GALayerToPoints4_View\n",
      "out_Table = \"C:\\\\Users\\\\lenovo\\\\Documents\\\\ArcGIS\\\\Default.gdb\\\\kriging_9\"\n",
      "\n",
      "Export_Output_2_TableToExcel_xls = \"C:\\\\Users\\\\lenovo\\\\Documents\\\\ArcGIS\\\\scratch\\\\Excel_9_0_300_\"+str(random.randint(0,100))+\".xls\"\n",
      "\n",
      "Station = \"C:\\\\Users\\\\lenovo\\\\Documents\\\\ArcGIS\\\\Default.gdb\\\\Shiva\\\\Station_all\"\n",
      "fieldList = arcpy.ListFields(Station)\n",
      "fieldList = fieldList[1:-1]\n",
      "fieldList = fieldList[0:300]"
     ],
     "language": "python",
     "metadata": {},
     "outputs": [],
     "prompt_number": 3
    },
    {
     "cell_type": "code",
     "collapsed": false,
     "input": [
      "for j in range(len(fieldList)):\n",
      "    print j\n",
      "    i = fieldList[j]\n",
      "    print str(i.name) \n",
      "    \n",
      "    GALayerToPoints4_View = \"GALayerToPoints4\"+str(j)+\"_View\"\n",
      "    GALayerToPoints4_View__4_ = GALayerToPoints4_View\n",
      "    \n",
      "    print str(i.name)\n",
      "    field = str(i.name)\n",
      "    ds_field = dataset+\" F1=\"+str(i.name)\n",
      "    print ds_field\n",
      "#     EBK_xml.dataset1Field = field\n",
      "#     print EBK_xml\n",
      "    \n",
      "    outGALayer1 = OutLayer+str(i.name)+\"_\"+str(j)\n",
      "    print '# Process: Create Geostatistical Layer'\n",
      "\n",
      "    # Process: Create Geostatistical Layer\n",
      "    try:\n",
      "        arcpy.GACreateGeostatisticalLayer_ga(in_ga_model_source=xml, in_datasets=ds_field, out_layer=outGALayer1)\n",
      "        print '# Process: GA Layer To Points'\n",
      "\n",
      "        # Process: GA Layer To Points\n",
      "        try:\n",
      "            GALayerToPoint = GALayer+str(i.name)+\"_\"+str(j)\n",
      "            GALayerToPoint2 = GALayerToPoint\n",
      "            arcpy.GALayerToPoints_ga(outGALayer1, Station, str(i.name), GALayerToPoint, \"FID_ONLY\")\n",
      "            print '# Process: GA Layer To Points OK'\n",
      "\n",
      "        except arcpy.ExecuteError:\n",
      "            GALayerToPoint = GALayerToPoint+\"_F\"+str(j)\n",
      "            GALayerToPoint2 = GALayerToPoint\n",
      "            arcpy.GALayerToPoints_ga(outGALayer1, Station, 'Y03M01D24', GALayerToPoint, \"FID_ONLY\")\n",
      "            print GALayerToPoint\n",
      "            print '# Process: GA Layer To Points FALSE'\n",
      "\n",
      "        # Process: Delete Field\n",
      "        print '# Process: Delete Field'\n",
      "        arcpy.DeleteField_management(GALayerToPoint, str(i.name))        \n",
      "\n",
      "        # Process: Make Table View\n",
      "        try:\n",
      "            print '# Process: Make Table View'\n",
      "            print GALayerToPoints4_View\n",
      "            arcpy.MakeTableView_management(GALayerToPoint2, GALayerToPoints4_View, \"\", \"\", \"OBJECTID OBJECTID VISIBLE NONE;Shape Shape VISIBLE NONE;Predicted Predicted VISIBLE NONE;Error Error VISIBLE NONE;StdError StdError VISIBLE NONE;Stdd_Error Stdd_Error VISIBLE NONE;Source_ID Source_ID VISIBLE NONE;Included Included VISIBLE NONE\")\n",
      "            #arcpy.MakeTableView_management(GALayerToPoint, GALayerToPoints4_View, \"\", \"\", \"Predicted Predicted VISIBLE NONE;StdError StdError VISIBLE NONE;Error Error VISIBLE NONE;Stdd_Error Stdd_Error VISIBLE NONE;NormValue NormValue VISIBLE NONE;Source_ID Source_ID VISIBLE NONE;Included Included VISIBLE NONE\")\n",
      "        except arcpy.ExecuteError:\n",
      "            print '# Process: Table is in View, let us continue'\n",
      "\n",
      "\n",
      "        # Process: Add Field\n",
      "        print '# Process: Add Field'\n",
      "        arcpy.AddField_management(GALayerToPoints4_View, \"Date\", \"TEXT\", \"\", \"\", \"10\", \"\", \"NULLABLE\", \"NON_REQUIRED\", \"\")\n",
      "\n",
      "        # Process: Calculate Field\n",
      "        print '# Process: Calculate Field'\n",
      "        field_new = r'\"'+str(i.name)+r'\"'\n",
      "        arcpy.CalculateField_management(GALayerToPoints4_View__4_, \"Date\", field_new, \"VB\", \"\")\n",
      "\n",
      "        # Process: Append\n",
      "        print '# Process: Append'\n",
      "        arcpy.Append_management(GALayerToPoints4_View, out_Table, \"NO_TEST\", \"\", \"\") #\"GALayerToPoints4_View\" \n",
      "\n",
      "        GALayerToPoints4_View = None\n",
      "        GALayerToPoints4_View__4_= None\n",
      "\n",
      "    except arcpy.ExecuteError:\n",
      "        GALayerToPoints4_View = None\n",
      "        GALayerToPoints4_View__4_= None\n",
      "        print '# Process: Create Geostatistical Layer FAILED, only zero values'\n",
      "        continue \n",
      "\n",
      "\n",
      "\n",
      "# Process: Table To Excel\n",
      "try:\n",
      "    print '# Process: Table To Excel'\n",
      "    arcpy.TableToExcel_conversion(out_Table, Export_Output_2_TableToExcel_xls, \"NAME\", \"CODE\")\n",
      "    print Export_Output_2_TableToExcel_xls\n",
      "except arcpy.ExecuteError:\n",
      "    print '# Process: Excel file exist already, delete first'    \n",
      "    os.remove(Export_Output_2_TableToExcel_xls, )\n",
      "    print '# Process: Table To Excel, try again'    \n",
      "    arcpy.TableToExcel_conversion(out_Table, Export_Output_2_TableToExcel_xls, \"NAME\", \"CODE\")\n",
      "    print Export_Output_2_TableToExcel_xls\n"
     ],
     "language": "python",
     "metadata": {},
     "outputs": [
      {
       "output_type": "stream",
       "stream": "stdout",
       "text": [
        "0\n",
        "Y03M01D01\n",
        "Y03M01D01\n",
        "C:\\Users\\lenovo\\Documents\\ArcGIS\\Default.gdb\\Shiva\\TRMM_9 F1=Y03M01D01\n",
        "# Process: Create Geostatistical Layer\n",
        "# Process: GA Layer To Points"
       ]
      },
      {
       "output_type": "stream",
       "stream": "stdout",
       "text": [
        "\n",
        "C:\\Users\\lenovo\\Documents\\ArcGIS\\Default.gdb\\Valid9_Y03M01D01_0_F0"
       ]
      },
      {
       "output_type": "stream",
       "stream": "stdout",
       "text": [
        "\n",
        "# Process: GA Layer To Points FALSE\n",
        "# Process: Delete Field\n",
        "# Process: Make Table View"
       ]
      },
      {
       "output_type": "stream",
       "stream": "stdout",
       "text": [
        "\n",
        "GALayerToPoints40_View\n",
        "# Process: Add Field"
       ]
      },
      {
       "output_type": "stream",
       "stream": "stdout",
       "text": [
        "\n",
        "# Process: Calculate Field"
       ]
      },
      {
       "output_type": "stream",
       "stream": "stdout",
       "text": [
        "\n",
        "# Process: Append"
       ]
      },
      {
       "output_type": "stream",
       "stream": "stdout",
       "text": [
        "\n",
        "1"
       ]
      },
      {
       "output_type": "stream",
       "stream": "stdout",
       "text": [
        "\n",
        "Y03M01D02\n",
        "Y03M01D02\n",
        "C:\\Users\\lenovo\\Documents\\ArcGIS\\Default.gdb\\Shiva\\TRMM_9 F1=Y03M01D02\n",
        "# Process: Create Geostatistical Layer\n",
        "# Process: GA Layer To Points"
       ]
      },
      {
       "output_type": "stream",
       "stream": "stdout",
       "text": [
        "\n",
        "C:\\Users\\lenovo\\Documents\\ArcGIS\\Default.gdb\\Valid9_Y03M01D02_1_F1"
       ]
      },
      {
       "output_type": "stream",
       "stream": "stdout",
       "text": [
        "\n",
        "# Process: GA Layer To Points FALSE\n",
        "# Process: Delete Field\n",
        "# Process: Make Table View"
       ]
      },
      {
       "output_type": "stream",
       "stream": "stdout",
       "text": [
        "\n",
        "GALayerToPoints41_View\n",
        "# Process: Add Field"
       ]
      },
      {
       "output_type": "stream",
       "stream": "stdout",
       "text": [
        "\n",
        "# Process: Calculate Field"
       ]
      },
      {
       "output_type": "stream",
       "stream": "stdout",
       "text": [
        "\n",
        "# Process: Append"
       ]
      },
      {
       "output_type": "stream",
       "stream": "stdout",
       "text": [
        "\n",
        "2"
       ]
      },
      {
       "output_type": "stream",
       "stream": "stdout",
       "text": [
        "\n",
        "Y03M01D03\n",
        "Y03M01D03\n",
        "C:\\Users\\lenovo\\Documents\\ArcGIS\\Default.gdb\\Shiva\\TRMM_9 F1=Y03M01D03\n",
        "# Process: Create Geostatistical Layer\n",
        "# Process: GA Layer To Points"
       ]
      },
      {
       "output_type": "stream",
       "stream": "stdout",
       "text": [
        "\n",
        "C:\\Users\\lenovo\\Documents\\ArcGIS\\Default.gdb\\Valid9_Y03M01D03_2_F2"
       ]
      },
      {
       "output_type": "stream",
       "stream": "stdout",
       "text": [
        "\n",
        "# Process: GA Layer To Points FALSE\n",
        "# Process: Delete Field\n",
        "# Process: Make Table View"
       ]
      },
      {
       "output_type": "stream",
       "stream": "stdout",
       "text": [
        "\n",
        "GALayerToPoints42_View\n",
        "# Process: Add Field"
       ]
      },
      {
       "output_type": "stream",
       "stream": "stdout",
       "text": [
        "\n",
        "# Process: Calculate Field"
       ]
      },
      {
       "output_type": "stream",
       "stream": "stdout",
       "text": [
        "\n",
        "# Process: Append"
       ]
      },
      {
       "output_type": "stream",
       "stream": "stdout",
       "text": [
        "\n",
        "3"
       ]
      },
      {
       "output_type": "stream",
       "stream": "stdout",
       "text": [
        "\n",
        "Y03M01D04\n",
        "Y03M01D04\n",
        "C:\\Users\\lenovo\\Documents\\ArcGIS\\Default.gdb\\Shiva\\TRMM_9 F1=Y03M01D04\n",
        "# Process: Create Geostatistical Layer\n",
        "# Process: GA Layer To Points"
       ]
      },
      {
       "output_type": "stream",
       "stream": "stdout",
       "text": [
        "\n",
        "C:\\Users\\lenovo\\Documents\\ArcGIS\\Default.gdb\\Valid9_Y03M01D04_3_F3"
       ]
      },
      {
       "output_type": "stream",
       "stream": "stdout",
       "text": [
        "\n",
        "# Process: GA Layer To Points FALSE\n",
        "# Process: Delete Field\n",
        "# Process: Make Table View"
       ]
      },
      {
       "output_type": "stream",
       "stream": "stdout",
       "text": [
        "\n",
        "GALayerToPoints43_View\n",
        "# Process: Add Field"
       ]
      },
      {
       "output_type": "stream",
       "stream": "stdout",
       "text": [
        "\n",
        "# Process: Calculate Field"
       ]
      },
      {
       "output_type": "stream",
       "stream": "stdout",
       "text": [
        "\n",
        "# Process: Append"
       ]
      },
      {
       "output_type": "stream",
       "stream": "stdout",
       "text": [
        "\n",
        "4"
       ]
      },
      {
       "output_type": "stream",
       "stream": "stdout",
       "text": [
        "\n",
        "Y03M01D05\n",
        "Y03M01D05\n",
        "C:\\Users\\lenovo\\Documents\\ArcGIS\\Default.gdb\\Shiva\\TRMM_9 F1=Y03M01D05\n",
        "# Process: Create Geostatistical Layer\n",
        "# Process: GA Layer To Points"
       ]
      },
      {
       "output_type": "stream",
       "stream": "stdout",
       "text": [
        "\n",
        "# Process: GA Layer To Points OK"
       ]
      },
      {
       "output_type": "stream",
       "stream": "stdout",
       "text": [
        "\n",
        "# Process: Delete Field\n",
        "# Process: Make Table View"
       ]
      },
      {
       "output_type": "stream",
       "stream": "stdout",
       "text": [
        "\n",
        "GALayerToPoints44_View\n",
        "# Process: Add Field"
       ]
      },
      {
       "output_type": "stream",
       "stream": "stdout",
       "text": [
        "\n",
        "# Process: Calculate Field"
       ]
      },
      {
       "output_type": "stream",
       "stream": "stdout",
       "text": [
        "\n",
        "# Process: Append"
       ]
      },
      {
       "output_type": "stream",
       "stream": "stdout",
       "text": [
        "\n",
        "5"
       ]
      },
      {
       "output_type": "stream",
       "stream": "stdout",
       "text": [
        "\n",
        "Y03M01D06\n",
        "Y03M01D06\n",
        "C:\\Users\\lenovo\\Documents\\ArcGIS\\Default.gdb\\Shiva\\TRMM_9 F1=Y03M01D06\n",
        "# Process: Create Geostatistical Layer\n",
        "# Process: GA Layer To Points"
       ]
      },
      {
       "output_type": "stream",
       "stream": "stdout",
       "text": [
        "\n",
        "C:\\Users\\lenovo\\Documents\\ArcGIS\\Default.gdb\\Valid9_Y03M01D06_5_F5"
       ]
      },
      {
       "output_type": "stream",
       "stream": "stdout",
       "text": [
        "\n",
        "# Process: GA Layer To Points FALSE\n",
        "# Process: Delete Field\n",
        "# Process: Make Table View"
       ]
      },
      {
       "output_type": "stream",
       "stream": "stdout",
       "text": [
        "\n",
        "GALayerToPoints45_View\n",
        "# Process: Add Field"
       ]
      },
      {
       "output_type": "stream",
       "stream": "stdout",
       "text": [
        "\n",
        "# Process: Calculate Field"
       ]
      },
      {
       "output_type": "stream",
       "stream": "stdout",
       "text": [
        "\n",
        "# Process: Append"
       ]
      },
      {
       "output_type": "stream",
       "stream": "stdout",
       "text": [
        "\n",
        "6"
       ]
      },
      {
       "output_type": "stream",
       "stream": "stdout",
       "text": [
        "\n",
        "Y03M01D07\n",
        "Y03M01D07\n",
        "C:\\Users\\lenovo\\Documents\\ArcGIS\\Default.gdb\\Shiva\\TRMM_9 F1=Y03M01D07\n",
        "# Process: Create Geostatistical Layer\n",
        "# Process: GA Layer To Points"
       ]
      },
      {
       "output_type": "stream",
       "stream": "stdout",
       "text": [
        "\n",
        "C:\\Users\\lenovo\\Documents\\ArcGIS\\Default.gdb\\Valid9_Y03M01D07_6_F6"
       ]
      },
      {
       "output_type": "stream",
       "stream": "stdout",
       "text": [
        "\n",
        "# Process: GA Layer To Points FALSE\n",
        "# Process: Delete Field\n",
        "# Process: Make Table View"
       ]
      },
      {
       "output_type": "stream",
       "stream": "stdout",
       "text": [
        "\n",
        "GALayerToPoints46_View\n",
        "# Process: Add Field"
       ]
      },
      {
       "output_type": "stream",
       "stream": "stdout",
       "text": [
        "\n",
        "# Process: Calculate Field"
       ]
      },
      {
       "output_type": "stream",
       "stream": "stdout",
       "text": [
        "\n",
        "# Process: Append"
       ]
      },
      {
       "output_type": "stream",
       "stream": "stdout",
       "text": [
        "\n",
        "7"
       ]
      },
      {
       "output_type": "stream",
       "stream": "stdout",
       "text": [
        "\n",
        "Y03M01D08\n",
        "Y03M01D08\n",
        "C:\\Users\\lenovo\\Documents\\ArcGIS\\Default.gdb\\Shiva\\TRMM_9 F1=Y03M01D08\n",
        "# Process: Create Geostatistical Layer\n",
        "# Process: GA Layer To Points"
       ]
      },
      {
       "output_type": "stream",
       "stream": "stdout",
       "text": [
        "\n",
        "C:\\Users\\lenovo\\Documents\\ArcGIS\\Default.gdb\\Valid9_Y03M01D08_7_F7"
       ]
      },
      {
       "output_type": "stream",
       "stream": "stdout",
       "text": [
        "\n",
        "# Process: GA Layer To Points FALSE\n",
        "# Process: Delete Field\n",
        "# Process: Make Table View"
       ]
      },
      {
       "output_type": "stream",
       "stream": "stdout",
       "text": [
        "\n",
        "GALayerToPoints47_View\n",
        "# Process: Add Field"
       ]
      },
      {
       "output_type": "stream",
       "stream": "stdout",
       "text": [
        "\n",
        "# Process: Calculate Field"
       ]
      },
      {
       "output_type": "stream",
       "stream": "stdout",
       "text": [
        "\n",
        "# Process: Append"
       ]
      },
      {
       "output_type": "stream",
       "stream": "stdout",
       "text": [
        "\n",
        "8"
       ]
      },
      {
       "output_type": "stream",
       "stream": "stdout",
       "text": [
        "\n",
        "Y03M01D09\n",
        "Y03M01D09\n",
        "C:\\Users\\lenovo\\Documents\\ArcGIS\\Default.gdb\\Shiva\\TRMM_9 F1=Y03M01D09\n",
        "# Process: Create Geostatistical Layer\n",
        "# Process: GA Layer To Points"
       ]
      },
      {
       "output_type": "stream",
       "stream": "stdout",
       "text": [
        "\n",
        "C:\\Users\\lenovo\\Documents\\ArcGIS\\Default.gdb\\Valid9_Y03M01D09_8_F8"
       ]
      },
      {
       "output_type": "stream",
       "stream": "stdout",
       "text": [
        "\n",
        "# Process: GA Layer To Points FALSE\n",
        "# Process: Delete Field\n",
        "# Process: Make Table View"
       ]
      },
      {
       "output_type": "stream",
       "stream": "stdout",
       "text": [
        "\n",
        "GALayerToPoints48_View\n",
        "# Process: Add Field"
       ]
      },
      {
       "output_type": "stream",
       "stream": "stdout",
       "text": [
        "\n",
        "# Process: Calculate Field"
       ]
      },
      {
       "output_type": "stream",
       "stream": "stdout",
       "text": [
        "\n",
        "# Process: Append"
       ]
      },
      {
       "output_type": "stream",
       "stream": "stdout",
       "text": [
        "\n",
        "9"
       ]
      },
      {
       "output_type": "stream",
       "stream": "stdout",
       "text": [
        "\n",
        "Y03M01D10\n",
        "Y03M01D10\n",
        "C:\\Users\\lenovo\\Documents\\ArcGIS\\Default.gdb\\Shiva\\TRMM_9 F1=Y03M01D10\n",
        "# Process: Create Geostatistical Layer\n",
        "# Process: GA Layer To Points"
       ]
      },
      {
       "output_type": "stream",
       "stream": "stdout",
       "text": [
        "\n",
        "C:\\Users\\lenovo\\Documents\\ArcGIS\\Default.gdb\\Valid9_Y03M01D10_9_F9"
       ]
      },
      {
       "output_type": "stream",
       "stream": "stdout",
       "text": [
        "\n",
        "# Process: GA Layer To Points FALSE\n",
        "# Process: Delete Field\n",
        "# Process: Make Table View"
       ]
      },
      {
       "output_type": "stream",
       "stream": "stdout",
       "text": [
        "\n",
        "GALayerToPoints49_View\n",
        "# Process: Add Field"
       ]
      },
      {
       "output_type": "stream",
       "stream": "stdout",
       "text": [
        "\n",
        "# Process: Calculate Field"
       ]
      },
      {
       "output_type": "stream",
       "stream": "stdout",
       "text": [
        "\n",
        "# Process: Append"
       ]
      },
      {
       "output_type": "stream",
       "stream": "stdout",
       "text": [
        "\n",
        "10"
       ]
      },
      {
       "output_type": "stream",
       "stream": "stdout",
       "text": [
        "\n",
        "Y03M01D11\n",
        "Y03M01D11\n",
        "C:\\Users\\lenovo\\Documents\\ArcGIS\\Default.gdb\\Shiva\\TRMM_9 F1=Y03M01D11\n",
        "# Process: Create Geostatistical Layer\n",
        "# Process: GA Layer To Points"
       ]
      },
      {
       "output_type": "stream",
       "stream": "stdout",
       "text": [
        "\n",
        "C:\\Users\\lenovo\\Documents\\ArcGIS\\Default.gdb\\Valid9_Y03M01D11_10_F10"
       ]
      },
      {
       "output_type": "stream",
       "stream": "stdout",
       "text": [
        "\n",
        "# Process: GA Layer To Points FALSE\n",
        "# Process: Delete Field\n",
        "# Process: Make Table View"
       ]
      },
      {
       "output_type": "stream",
       "stream": "stdout",
       "text": [
        "\n",
        "GALayerToPoints410_View\n",
        "# Process: Add Field"
       ]
      },
      {
       "output_type": "stream",
       "stream": "stdout",
       "text": [
        "\n",
        "# Process: Calculate Field"
       ]
      },
      {
       "output_type": "stream",
       "stream": "stdout",
       "text": [
        "\n",
        "# Process: Append"
       ]
      },
      {
       "output_type": "stream",
       "stream": "stdout",
       "text": [
        "\n",
        "11"
       ]
      },
      {
       "output_type": "stream",
       "stream": "stdout",
       "text": [
        "\n",
        "Y03M01D12\n",
        "Y03M01D12\n",
        "C:\\Users\\lenovo\\Documents\\ArcGIS\\Default.gdb\\Shiva\\TRMM_9 F1=Y03M01D12\n",
        "# Process: Create Geostatistical Layer\n",
        "# Process: GA Layer To Points"
       ]
      },
      {
       "output_type": "stream",
       "stream": "stdout",
       "text": [
        "\n",
        "C:\\Users\\lenovo\\Documents\\ArcGIS\\Default.gdb\\Valid9_Y03M01D12_11_F11"
       ]
      },
      {
       "output_type": "stream",
       "stream": "stdout",
       "text": [
        "\n",
        "# Process: GA Layer To Points FALSE\n",
        "# Process: Delete Field\n",
        "# Process: Make Table View"
       ]
      },
      {
       "output_type": "stream",
       "stream": "stdout",
       "text": [
        "\n",
        "GALayerToPoints411_View\n",
        "# Process: Add Field"
       ]
      },
      {
       "output_type": "stream",
       "stream": "stdout",
       "text": [
        "\n",
        "# Process: Calculate Field"
       ]
      },
      {
       "output_type": "stream",
       "stream": "stdout",
       "text": [
        "\n",
        "# Process: Append"
       ]
      },
      {
       "output_type": "stream",
       "stream": "stdout",
       "text": [
        "\n",
        "12"
       ]
      },
      {
       "output_type": "stream",
       "stream": "stdout",
       "text": [
        "\n",
        "Y03M01D13\n",
        "Y03M01D13\n",
        "C:\\Users\\lenovo\\Documents\\ArcGIS\\Default.gdb\\Shiva\\TRMM_9 F1=Y03M01D13\n",
        "# Process: Create Geostatistical Layer\n",
        "# Process: GA Layer To Points"
       ]
      },
      {
       "output_type": "stream",
       "stream": "stdout",
       "text": [
        "\n",
        "C:\\Users\\lenovo\\Documents\\ArcGIS\\Default.gdb\\Valid9_Y03M01D13_12_F12"
       ]
      },
      {
       "output_type": "stream",
       "stream": "stdout",
       "text": [
        "\n",
        "# Process: GA Layer To Points FALSE\n",
        "# Process: Delete Field\n",
        "# Process: Make Table View"
       ]
      },
      {
       "output_type": "stream",
       "stream": "stdout",
       "text": [
        "\n",
        "GALayerToPoints412_View\n",
        "# Process: Add Field"
       ]
      },
      {
       "output_type": "stream",
       "stream": "stdout",
       "text": [
        "\n",
        "# Process: Calculate Field"
       ]
      },
      {
       "output_type": "stream",
       "stream": "stdout",
       "text": [
        "\n",
        "# Process: Append"
       ]
      },
      {
       "output_type": "stream",
       "stream": "stdout",
       "text": [
        "\n",
        "13"
       ]
      },
      {
       "output_type": "stream",
       "stream": "stdout",
       "text": [
        "\n",
        "Y03M01D14\n",
        "Y03M01D14\n",
        "C:\\Users\\lenovo\\Documents\\ArcGIS\\Default.gdb\\Shiva\\TRMM_9 F1=Y03M01D14\n",
        "# Process: Create Geostatistical Layer\n",
        "# Process: GA Layer To Points"
       ]
      },
      {
       "output_type": "stream",
       "stream": "stdout",
       "text": [
        "\n",
        "C:\\Users\\lenovo\\Documents\\ArcGIS\\Default.gdb\\Valid9_Y03M01D14_13_F13"
       ]
      },
      {
       "output_type": "stream",
       "stream": "stdout",
       "text": [
        "\n",
        "# Process: GA Layer To Points FALSE\n",
        "# Process: Delete Field\n",
        "# Process: Make Table View"
       ]
      },
      {
       "output_type": "stream",
       "stream": "stdout",
       "text": [
        "\n",
        "GALayerToPoints413_View\n",
        "# Process: Add Field"
       ]
      },
      {
       "output_type": "stream",
       "stream": "stdout",
       "text": [
        "\n",
        "# Process: Calculate Field"
       ]
      },
      {
       "output_type": "stream",
       "stream": "stdout",
       "text": [
        "\n",
        "# Process: Append"
       ]
      },
      {
       "output_type": "stream",
       "stream": "stdout",
       "text": [
        "\n",
        "14"
       ]
      },
      {
       "output_type": "stream",
       "stream": "stdout",
       "text": [
        "\n",
        "Y03M01D15\n",
        "Y03M01D15\n",
        "C:\\Users\\lenovo\\Documents\\ArcGIS\\Default.gdb\\Shiva\\TRMM_9 F1=Y03M01D15\n",
        "# Process: Create Geostatistical Layer\n",
        "# Process: GA Layer To Points"
       ]
      },
      {
       "output_type": "stream",
       "stream": "stdout",
       "text": [
        "\n",
        "C:\\Users\\lenovo\\Documents\\ArcGIS\\Default.gdb\\Valid9_Y03M01D15_14_F14"
       ]
      },
      {
       "output_type": "stream",
       "stream": "stdout",
       "text": [
        "\n",
        "# Process: GA Layer To Points FALSE\n",
        "# Process: Delete Field\n",
        "# Process: Make Table View"
       ]
      },
      {
       "output_type": "stream",
       "stream": "stdout",
       "text": [
        "\n",
        "GALayerToPoints414_View\n",
        "# Process: Add Field"
       ]
      },
      {
       "output_type": "stream",
       "stream": "stdout",
       "text": [
        "\n",
        "# Process: Calculate Field"
       ]
      },
      {
       "output_type": "stream",
       "stream": "stdout",
       "text": [
        "\n",
        "# Process: Append"
       ]
      },
      {
       "output_type": "stream",
       "stream": "stdout",
       "text": [
        "\n",
        "15"
       ]
      },
      {
       "output_type": "stream",
       "stream": "stdout",
       "text": [
        "\n",
        "Y03M01D16\n",
        "Y03M01D16\n",
        "C:\\Users\\lenovo\\Documents\\ArcGIS\\Default.gdb\\Shiva\\TRMM_9 F1=Y03M01D16\n",
        "# Process: Create Geostatistical Layer\n",
        "# Process: GA Layer To Points"
       ]
      },
      {
       "output_type": "stream",
       "stream": "stdout",
       "text": [
        "\n",
        "C:\\Users\\lenovo\\Documents\\ArcGIS\\Default.gdb\\Valid9_Y03M01D16_15_F15"
       ]
      },
      {
       "output_type": "stream",
       "stream": "stdout",
       "text": [
        "\n",
        "# Process: GA Layer To Points FALSE\n",
        "# Process: Delete Field\n",
        "# Process: Make Table View"
       ]
      },
      {
       "output_type": "stream",
       "stream": "stdout",
       "text": [
        "\n",
        "GALayerToPoints415_View\n",
        "# Process: Add Field"
       ]
      },
      {
       "output_type": "stream",
       "stream": "stdout",
       "text": [
        "\n",
        "# Process: Calculate Field"
       ]
      },
      {
       "output_type": "stream",
       "stream": "stdout",
       "text": [
        "\n",
        "# Process: Append"
       ]
      },
      {
       "output_type": "stream",
       "stream": "stdout",
       "text": [
        "\n",
        "16"
       ]
      },
      {
       "output_type": "stream",
       "stream": "stdout",
       "text": [
        "\n",
        "Y03M01D17\n",
        "Y03M01D17\n",
        "C:\\Users\\lenovo\\Documents\\ArcGIS\\Default.gdb\\Shiva\\TRMM_9 F1=Y03M01D17\n",
        "# Process: Create Geostatistical Layer\n",
        "# Process: Create Geostatistical Layer FAILED, only zero values"
       ]
      },
      {
       "output_type": "stream",
       "stream": "stdout",
       "text": [
        "\n",
        "17\n",
        "Y03M01D18\n",
        "Y03M01D18\n",
        "C:\\Users\\lenovo\\Documents\\ArcGIS\\Default.gdb\\Shiva\\TRMM_9 F1=Y03M01D18\n",
        "# Process: Create Geostatistical Layer\n",
        "# Process: GA Layer To Points"
       ]
      },
      {
       "output_type": "stream",
       "stream": "stdout",
       "text": [
        "\n",
        "C:\\Users\\lenovo\\Documents\\ArcGIS\\Default.gdb\\Valid9_Y03M01D18_17_F17"
       ]
      },
      {
       "output_type": "stream",
       "stream": "stdout",
       "text": [
        "\n",
        "# Process: GA Layer To Points FALSE\n",
        "# Process: Delete Field\n",
        "# Process: Make Table View"
       ]
      },
      {
       "output_type": "stream",
       "stream": "stdout",
       "text": [
        "\n",
        "GALayerToPoints417_View\n",
        "# Process: Add Field"
       ]
      },
      {
       "output_type": "stream",
       "stream": "stdout",
       "text": [
        "\n",
        "# Process: Calculate Field"
       ]
      },
      {
       "output_type": "stream",
       "stream": "stdout",
       "text": [
        "\n",
        "# Process: Append"
       ]
      },
      {
       "output_type": "stream",
       "stream": "stdout",
       "text": [
        "\n",
        "18"
       ]
      },
      {
       "output_type": "stream",
       "stream": "stdout",
       "text": [
        "\n",
        "Y03M01D19\n",
        "Y03M01D19\n",
        "C:\\Users\\lenovo\\Documents\\ArcGIS\\Default.gdb\\Shiva\\TRMM_9 F1=Y03M01D19\n",
        "# Process: Create Geostatistical Layer\n",
        "# Process: GA Layer To Points"
       ]
      },
      {
       "output_type": "stream",
       "stream": "stdout",
       "text": [
        "\n",
        "C:\\Users\\lenovo\\Documents\\ArcGIS\\Default.gdb\\Valid9_Y03M01D19_18_F18"
       ]
      },
      {
       "output_type": "stream",
       "stream": "stdout",
       "text": [
        "\n",
        "# Process: GA Layer To Points FALSE\n",
        "# Process: Delete Field\n",
        "# Process: Make Table View"
       ]
      },
      {
       "output_type": "stream",
       "stream": "stdout",
       "text": [
        "\n",
        "GALayerToPoints418_View\n",
        "# Process: Add Field"
       ]
      },
      {
       "output_type": "stream",
       "stream": "stdout",
       "text": [
        "\n",
        "# Process: Calculate Field"
       ]
      },
      {
       "output_type": "stream",
       "stream": "stdout",
       "text": [
        "\n",
        "# Process: Append"
       ]
      },
      {
       "output_type": "stream",
       "stream": "stdout",
       "text": [
        "\n",
        "19"
       ]
      },
      {
       "output_type": "stream",
       "stream": "stdout",
       "text": [
        "\n",
        "Y03M01D20\n",
        "Y03M01D20\n",
        "C:\\Users\\lenovo\\Documents\\ArcGIS\\Default.gdb\\Shiva\\TRMM_9 F1=Y03M01D20\n",
        "# Process: Create Geostatistical Layer\n",
        "# Process: GA Layer To Points"
       ]
      },
      {
       "output_type": "stream",
       "stream": "stdout",
       "text": [
        "\n",
        "C:\\Users\\lenovo\\Documents\\ArcGIS\\Default.gdb\\Valid9_Y03M01D20_19_F19"
       ]
      },
      {
       "output_type": "stream",
       "stream": "stdout",
       "text": [
        "\n",
        "# Process: GA Layer To Points FALSE\n",
        "# Process: Delete Field\n",
        "# Process: Make Table View"
       ]
      },
      {
       "output_type": "stream",
       "stream": "stdout",
       "text": [
        "\n",
        "GALayerToPoints419_View\n",
        "# Process: Add Field"
       ]
      },
      {
       "output_type": "stream",
       "stream": "stdout",
       "text": [
        "\n",
        "# Process: Calculate Field"
       ]
      },
      {
       "output_type": "stream",
       "stream": "stdout",
       "text": [
        "\n",
        "# Process: Append"
       ]
      },
      {
       "output_type": "stream",
       "stream": "stdout",
       "text": [
        "\n",
        "20"
       ]
      },
      {
       "output_type": "stream",
       "stream": "stdout",
       "text": [
        "\n",
        "Y03M01D21\n",
        "Y03M01D21\n",
        "C:\\Users\\lenovo\\Documents\\ArcGIS\\Default.gdb\\Shiva\\TRMM_9 F1=Y03M01D21\n",
        "# Process: Create Geostatistical Layer\n",
        "# Process: GA Layer To Points"
       ]
      },
      {
       "output_type": "stream",
       "stream": "stdout",
       "text": [
        "\n",
        "C:\\Users\\lenovo\\Documents\\ArcGIS\\Default.gdb\\Valid9_Y03M01D21_20_F20"
       ]
      },
      {
       "output_type": "stream",
       "stream": "stdout",
       "text": [
        "\n",
        "# Process: GA Layer To Points FALSE\n",
        "# Process: Delete Field\n",
        "# Process: Make Table View"
       ]
      },
      {
       "output_type": "stream",
       "stream": "stdout",
       "text": [
        "\n",
        "GALayerToPoints420_View\n",
        "# Process: Add Field"
       ]
      },
      {
       "output_type": "stream",
       "stream": "stdout",
       "text": [
        "\n",
        "# Process: Calculate Field"
       ]
      },
      {
       "output_type": "stream",
       "stream": "stdout",
       "text": [
        "\n",
        "# Process: Append"
       ]
      },
      {
       "output_type": "stream",
       "stream": "stdout",
       "text": [
        "\n",
        "21"
       ]
      },
      {
       "output_type": "stream",
       "stream": "stdout",
       "text": [
        "\n",
        "Y03M01D22\n",
        "Y03M01D22\n",
        "C:\\Users\\lenovo\\Documents\\ArcGIS\\Default.gdb\\Shiva\\TRMM_9 F1=Y03M01D22\n",
        "# Process: Create Geostatistical Layer\n",
        "# Process: GA Layer To Points"
       ]
      }
     ]
    },
    {
     "cell_type": "code",
     "collapsed": false,
     "input": [
      "for i in fieldList[0:3]:\n",
      "    print str(i.name)"
     ],
     "language": "python",
     "metadata": {},
     "outputs": []
    },
    {
     "cell_type": "code",
     "collapsed": false,
     "input": [
      "r'\"'+str(i.name)+r'\"'"
     ],
     "language": "python",
     "metadata": {},
     "outputs": []
    },
    {
     "cell_type": "code",
     "collapsed": false,
     "input": [
      "Expression = \"\\\"Y03M01D03\\\"\""
     ],
     "language": "python",
     "metadata": {},
     "outputs": []
    },
    {
     "cell_type": "code",
     "collapsed": false,
     "input": [
      "Expression"
     ],
     "language": "python",
     "metadata": {},
     "outputs": []
    },
    {
     "cell_type": "code",
     "collapsed": false,
     "input": [
      "r'\"Y03M01D03\"'"
     ],
     "language": "python",
     "metadata": {},
     "outputs": []
    },
    {
     "cell_type": "code",
     "collapsed": false,
     "input": [
      "repr(\"Y03M01D03\")"
     ],
     "language": "python",
     "metadata": {},
     "outputs": []
    },
    {
     "cell_type": "code",
     "collapsed": false,
     "input": [
      "GALayerToPoints4_View = \"GALayerToPoints4\"+str(random.randint(1,100))+\"_View\"\n",
      "GALayerToPoints4_View"
     ],
     "language": "python",
     "metadata": {},
     "outputs": []
    },
    {
     "cell_type": "code",
     "collapsed": false,
     "input": [],
     "language": "python",
     "metadata": {},
     "outputs": []
    }
   ],
   "metadata": {}
  }
 ]
}