{
 "metadata": {
  "name": "",
  "signature": "sha256:718318c21b9bc8095ae2860713b4402a92c87720e8f667582a05280f42128c41"
 },
 "nbformat": 3,
 "nbformat_minor": 0,
 "worksheets": [
  {
   "cells": [
    {
     "cell_type": "code",
     "collapsed": false,
     "input": [
      "from osgeo import gdal, ogr\n",
      "import sys\n",
      "import subprocess as sp\n",
      "import os\n",
      "import datetime"
     ],
     "language": "python",
     "metadata": {},
     "outputs": []
    },
    {
     "cell_type": "code",
     "collapsed": false,
     "input": [
      "from osgeo import gdal, ogr\n",
      "import sys\n",
      "import subprocess as sp\n",
      "import os\n",
      "\n",
      "def clipraster(folderin, shapefile, folderout, format_end=''):\n",
      "\n",
      "    files = [os.path.join(root, name)\n",
      "               for root, dirs, files in os.walk(folderin)\n",
      "                 for name in files                 \n",
      "                 if name.endswith(format_end)]\n",
      "    \n",
      "    daShapefile = shapefile\n",
      "    driver = ogr.GetDriverByName('ESRI Shapefile')\n",
      "    dataSource = driver.Open(daShapefile, 0)\n",
      "    layer = dataSource.GetLayer()\n",
      "    ex1,ex2,ex3,ex4 = layer.GetExtent()\n",
      "\n",
      "    for j in files:\n",
      "        \n",
      "        # from year-month-day 2 year-dayofyear\n",
      "        year = j[-16:-12]\n",
      "        month = j[-11:-9]\n",
      "        day = j[-8:-6]\n",
      "        date = datetime.date(int(year), int(month), int(day))\n",
      "        doy = date.timetuple().tm_yday\n",
      "        \n",
      "        #construct path\n",
      "        suffix = 'TRMM_CQ_'\n",
      "        path = folderout+suffix+year+str(doy).zfill(3)+'.tif'\n",
      "        paramsnorm = [\"gdal_translate\", \"-projwin\", str(ex1), str(ex4), str(ex2), str(ex3), j, path]\n",
      "        print (sp.list2cmdline(paramsnorm))\n",
      "        norm = sp.Popen(sp.list2cmdline(paramsnorm), shell=True)     \n",
      "        norm.communicate()                 "
     ],
     "language": "python",
     "metadata": {},
     "outputs": []
    },
    {
     "cell_type": "code",
     "collapsed": false,
     "input": [
      "clipraster(r'D:\\Data\\TRMM2', r'D:\\Data\\ChinaShapefile\\\\Jiujang.shp', r'D:\\Data\\0_DAILY_INTERVAL_NDVI_TRMM\\Jiujang\\TRMM\\RAW2//', format_end='tif')"
     ],
     "language": "python",
     "metadata": {},
     "outputs": []
    },
    {
     "cell_type": "code",
     "collapsed": false,
     "input": [
      "clipraster(r'D:\\Data\\TRMM2', r'D:\\Data\\ChinaShapefile\\\\Chongqing.shp', r'D:\\Data\\0_DAILY_INTERVAL_NDVI_TRMM\\Chongqing\\TRMM\\RAW//', format_end='tif')"
     ],
     "language": "python",
     "metadata": {},
     "outputs": []
    },
    {
     "cell_type": "code",
     "collapsed": false,
     "input": [],
     "language": "python",
     "metadata": {},
     "outputs": []
    }
   ],
   "metadata": {}
  }
 ]
}