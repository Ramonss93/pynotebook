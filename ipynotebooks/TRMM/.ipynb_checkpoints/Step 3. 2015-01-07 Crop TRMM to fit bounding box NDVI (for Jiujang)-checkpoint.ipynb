{
 "metadata": {
  "name": "",
  "signature": "sha256:6ab3b625201a447942c53c530cdc6ae0d588e54f30a221de2c33f52bec405e19"
 },
 "nbformat": 3,
 "nbformat_minor": 0,
 "worksheets": [
  {
   "cells": [
    {
     "cell_type": "code",
     "collapsed": false,
     "input": [
      "import os\n",
      "from osgeo import gdal, gdalconst\n",
      "import numpy as np\n",
      "import scipy.ndimage\n",
      "\n",
      "def FilesFolder(inGSODFolder, format_end=''):\n",
      "    st_wmo = [os.path.join(root, name)\n",
      "               for root, dirs, files in os.walk(inGSODFolder)\n",
      "                 for name in files                 \n",
      "                 if name.endswith(format_end)]\n",
      "    return st_wmo\n",
      "\n",
      "def OpenRaster(filepath, band=1):\n",
      "    \"\"\"\n",
      "    In:\n",
      "    filepath = path to file\n",
      "    band     = 1\n",
      "\n",
      "    Return:\n",
      "    raster   = raster info\n",
      "    array    = numpy array\n",
      "    extent   = extent info\n",
      "    \"\"\"\n",
      "    raster = gdal.Open(filepath, gdal.GA_ReadOnly)\n",
      "    band = raster.GetRasterBand(band)\n",
      "    array = band.ReadAsArray()\n",
      "    extent = raster.GetGeoTransform()\n",
      "    return raster, array, extent\n",
      "\n",
      "def saveRaster(path, array, dsSource, datatype=3, formatraster=\"GTiff\", nan=None): \n",
      "    \"\"\"\n",
      "    Datatypes:\n",
      "    unknown = 0\n",
      "    byte = 1\n",
      "    unsigned int16 = 2\n",
      "    signed int16 = 3\n",
      "    unsigned int32 = 4\n",
      "    signed int32 = 5\n",
      "    float32 = 6\n",
      "    float64 = 7\n",
      "    complex int16 = 8\n",
      "    complex int32 = 9\n",
      "    complex float32 = 10\n",
      "    complex float64 = 11\n",
      "    float32 = 6, \n",
      "    signed int = 3\n",
      "    \n",
      "    Formatraster:\n",
      "    GeoTIFF = GTiff\n",
      "    Erdas = HFA (output = .img)\n",
      "    OGC web map service = WMS\n",
      "    png = PNG\n",
      "    \"\"\"\n",
      "    # Set Driver\n",
      "    format_ = formatraster #save as format\n",
      "    driver = gdal.GetDriverByName( format_ )\n",
      "    driver.Register()\n",
      "    \n",
      "    # Set Metadata for Raster output\n",
      "    cols = dsSource.RasterXSize\n",
      "    rows = dsSource.RasterYSize\n",
      "    bands = dsSource.RasterCount\n",
      "    datatype = datatype#band.DataType\n",
      "    \n",
      "    # Set Projection for Raster\n",
      "    outDataset = driver.Create(path, cols, rows, bands, datatype)\n",
      "    geoTransform = dsSource.GetGeoTransform()\n",
      "    outDataset.SetGeoTransform(geoTransform)\n",
      "    proj = dsSource.GetProjection()\n",
      "    outDataset.SetProjection(proj)\n",
      "    \n",
      "    # Write output to band 1 of new Raster and write NaN value\n",
      "    outBand = outDataset.GetRasterBand(1)\n",
      "    if nan != None:\n",
      "        outBand.SetNoDataValue(nan)\n",
      "    outBand.WriteArray(array) #save input array\n",
      "    #outBand.WriteArray(dem)\n",
      "    \n",
      "    # Close and finalise newly created Raster\n",
      "    #F_M01 = None\n",
      "    outBand = None\n",
      "    proj = None\n",
      "    geoTransform = None\n",
      "    outDataset = None\n",
      "    driver = None\n",
      "    datatype = None\n",
      "    bands = None\n",
      "    rows = None\n",
      "    cols = None\n",
      "    driver = None\n",
      "    array = None"
     ],
     "language": "python",
     "metadata": {},
     "outputs": [],
     "prompt_number": 2
    },
    {
     "cell_type": "markdown",
     "metadata": {},
     "source": [
      "First used Resample and Clip in ArcGIS. First Clip TRMM based on bbox NDVI, then clip NDVI based on bbox clipped TRMM"
     ]
    },
    {
     "cell_type": "markdown",
     "metadata": {},
     "source": [
      "Following code removes the right column of TRMM rasters and uses NDVI to set the new GeoTransform "
     ]
    },
    {
     "cell_type": "code",
     "collapsed": false,
     "input": [
      "# Raster files to clip\n",
      "folderIn = r'D:\\Data\\0_DAILY_INTERVAL_NDVI_TRMM\\Jiujang\\TRMM2010_DryYear\\10_Day_Period\\10_DaySums_StdNormAnomalyResClip'\n",
      "filesIn = FilesFolder(folderIn, '.tif')\n",
      "\n",
      "# Extract GeoTransform from NDVI\n",
      "filinNDVI = r'D:\\Data\\0_DAILY_INTERVAL_NDVI_TRMM\\Jiujang\\NDVI2007_WetYear\\10_Day_Period\\10_DaySums_StdNormAnomalyClip//NDVI_JJ_2007001.tif'\n",
      "rasterNDVI, arrayNDVI, extentNDVI = OpenRaster(filinNDVI)\n",
      "\n",
      "for i in filesIn:    \n",
      "    rasterTRMM, arrayTRMM, extentTRMM = OpenRaster(i)\n",
      "    arrayTRMM_new = arrayTRMM.T[0:-1].T\n",
      "    saveRaster(i, arrayTRMM_new, rasterNDVI, 6)\n",
      "    print (i)\n",
      "        "
     ],
     "language": "python",
     "metadata": {},
     "outputs": [
      {
       "output_type": "stream",
       "stream": "stdout",
       "text": [
        "D:\\Data\\0_DAILY_INTERVAL_NDVI_TRMM\\Jiujang\\TRMM2010_DryYear\\10_Day_Period\\10_DaySums_StdNormAnomalyResClip\\TRMM_JJ_2010001.tif\n",
        "D:\\Data\\0_DAILY_INTERVAL_NDVI_TRMM\\Jiujang\\TRMM2010_DryYear\\10_Day_Period\\10_DaySums_StdNormAnomalyResClip\\TRMM_JJ_2010002.tif\n",
        "D:\\Data\\0_DAILY_INTERVAL_NDVI_TRMM\\Jiujang\\TRMM2010_DryYear\\10_Day_Period\\10_DaySums_StdNormAnomalyResClip\\TRMM_JJ_2010003.tif\n",
        "D:\\Data\\0_DAILY_INTERVAL_NDVI_TRMM\\Jiujang\\TRMM2010_DryYear\\10_Day_Period\\10_DaySums_StdNormAnomalyResClip\\TRMM_JJ_2010004.tif\n",
        "D:\\Data\\0_DAILY_INTERVAL_NDVI_TRMM\\Jiujang\\TRMM2010_DryYear\\10_Day_Period\\10_DaySums_StdNormAnomalyResClip\\TRMM_JJ_2010005.tif\n",
        "D:\\Data\\0_DAILY_INTERVAL_NDVI_TRMM\\Jiujang\\TRMM2010_DryYear\\10_Day_Period\\10_DaySums_StdNormAnomalyResClip\\TRMM_JJ_2010006.tif\n",
        "D:\\Data\\0_DAILY_INTERVAL_NDVI_TRMM\\Jiujang\\TRMM2010_DryYear\\10_Day_Period\\10_DaySums_StdNormAnomalyResClip\\TRMM_JJ_2010007.tif\n",
        "D:\\Data\\0_DAILY_INTERVAL_NDVI_TRMM\\Jiujang\\TRMM2010_DryYear\\10_Day_Period\\10_DaySums_StdNormAnomalyResClip\\TRMM_JJ_2010008.tif"
       ]
      },
      {
       "output_type": "stream",
       "stream": "stdout",
       "text": [
        "\n",
        "D:\\Data\\0_DAILY_INTERVAL_NDVI_TRMM\\Jiujang\\TRMM2010_DryYear\\10_Day_Period\\10_DaySums_StdNormAnomalyResClip\\TRMM_JJ_2010009.tif\n",
        "D:\\Data\\0_DAILY_INTERVAL_NDVI_TRMM\\Jiujang\\TRMM2010_DryYear\\10_Day_Period\\10_DaySums_StdNormAnomalyResClip\\TRMM_JJ_2010010.tif\n",
        "D:\\Data\\0_DAILY_INTERVAL_NDVI_TRMM\\Jiujang\\TRMM2010_DryYear\\10_Day_Period\\10_DaySums_StdNormAnomalyResClip\\TRMM_JJ_2010011.tif\n",
        "D:\\Data\\0_DAILY_INTERVAL_NDVI_TRMM\\Jiujang\\TRMM2010_DryYear\\10_Day_Period\\10_DaySums_StdNormAnomalyResClip\\TRMM_JJ_2010012.tif\n",
        "D:\\Data\\0_DAILY_INTERVAL_NDVI_TRMM\\Jiujang\\TRMM2010_DryYear\\10_Day_Period\\10_DaySums_StdNormAnomalyResClip\\TRMM_JJ_2010013.tif\n",
        "D:\\Data\\0_DAILY_INTERVAL_NDVI_TRMM\\Jiujang\\TRMM2010_DryYear\\10_Day_Period\\10_DaySums_StdNormAnomalyResClip\\TRMM_JJ_2010014.tif\n",
        "D:\\Data\\0_DAILY_INTERVAL_NDVI_TRMM\\Jiujang\\TRMM2010_DryYear\\10_Day_Period\\10_DaySums_StdNormAnomalyResClip\\TRMM_JJ_2010015.tif"
       ]
      },
      {
       "output_type": "stream",
       "stream": "stdout",
       "text": [
        "\n",
        "D:\\Data\\0_DAILY_INTERVAL_NDVI_TRMM\\Jiujang\\TRMM2010_DryYear\\10_Day_Period\\10_DaySums_StdNormAnomalyResClip\\TRMM_JJ_2010016.tif\n",
        "D:\\Data\\0_DAILY_INTERVAL_NDVI_TRMM\\Jiujang\\TRMM2010_DryYear\\10_Day_Period\\10_DaySums_StdNormAnomalyResClip\\TRMM_JJ_2010017.tif\n",
        "D:\\Data\\0_DAILY_INTERVAL_NDVI_TRMM\\Jiujang\\TRMM2010_DryYear\\10_Day_Period\\10_DaySums_StdNormAnomalyResClip\\TRMM_JJ_2010018.tif\n",
        "D:\\Data\\0_DAILY_INTERVAL_NDVI_TRMM\\Jiujang\\TRMM2010_DryYear\\10_Day_Period\\10_DaySums_StdNormAnomalyResClip\\TRMM_JJ_2010019.tif\n",
        "D:\\Data\\0_DAILY_INTERVAL_NDVI_TRMM\\Jiujang\\TRMM2010_DryYear\\10_Day_Period\\10_DaySums_StdNormAnomalyResClip\\TRMM_JJ_2010020.tif\n",
        "D:\\Data\\0_DAILY_INTERVAL_NDVI_TRMM\\Jiujang\\TRMM2010_DryYear\\10_Day_Period\\10_DaySums_StdNormAnomalyResClip\\TRMM_JJ_2010021.tif\n",
        "D:\\Data\\0_DAILY_INTERVAL_NDVI_TRMM\\Jiujang\\TRMM2010_DryYear\\10_Day_Period\\10_DaySums_StdNormAnomalyResClip\\TRMM_JJ_2010022.tif"
       ]
      },
      {
       "output_type": "stream",
       "stream": "stdout",
       "text": [
        "\n",
        "D:\\Data\\0_DAILY_INTERVAL_NDVI_TRMM\\Jiujang\\TRMM2010_DryYear\\10_Day_Period\\10_DaySums_StdNormAnomalyResClip\\TRMM_JJ_2010023.tif\n",
        "D:\\Data\\0_DAILY_INTERVAL_NDVI_TRMM\\Jiujang\\TRMM2010_DryYear\\10_Day_Period\\10_DaySums_StdNormAnomalyResClip\\TRMM_JJ_2010024.tif\n",
        "D:\\Data\\0_DAILY_INTERVAL_NDVI_TRMM\\Jiujang\\TRMM2010_DryYear\\10_Day_Period\\10_DaySums_StdNormAnomalyResClip\\TRMM_JJ_2010025.tif\n",
        "D:\\Data\\0_DAILY_INTERVAL_NDVI_TRMM\\Jiujang\\TRMM2010_DryYear\\10_Day_Period\\10_DaySums_StdNormAnomalyResClip\\TRMM_JJ_2010026.tif\n",
        "D:\\Data\\0_DAILY_INTERVAL_NDVI_TRMM\\Jiujang\\TRMM2010_DryYear\\10_Day_Period\\10_DaySums_StdNormAnomalyResClip\\TRMM_JJ_2010027.tif\n",
        "D:\\Data\\0_DAILY_INTERVAL_NDVI_TRMM\\Jiujang\\TRMM2010_DryYear\\10_Day_Period\\10_DaySums_StdNormAnomalyResClip\\TRMM_JJ_2010028.tif\n",
        "D:\\Data\\0_DAILY_INTERVAL_NDVI_TRMM\\Jiujang\\TRMM2010_DryYear\\10_Day_Period\\10_DaySums_StdNormAnomalyResClip\\TRMM_JJ_2010029.tif"
       ]
      },
      {
       "output_type": "stream",
       "stream": "stdout",
       "text": [
        "\n",
        "D:\\Data\\0_DAILY_INTERVAL_NDVI_TRMM\\Jiujang\\TRMM2010_DryYear\\10_Day_Period\\10_DaySums_StdNormAnomalyResClip\\TRMM_JJ_2010030.tif\n",
        "D:\\Data\\0_DAILY_INTERVAL_NDVI_TRMM\\Jiujang\\TRMM2010_DryYear\\10_Day_Period\\10_DaySums_StdNormAnomalyResClip\\TRMM_JJ_2010031.tif\n",
        "D:\\Data\\0_DAILY_INTERVAL_NDVI_TRMM\\Jiujang\\TRMM2010_DryYear\\10_Day_Period\\10_DaySums_StdNormAnomalyResClip\\TRMM_JJ_2010032.tif\n",
        "D:\\Data\\0_DAILY_INTERVAL_NDVI_TRMM\\Jiujang\\TRMM2010_DryYear\\10_Day_Period\\10_DaySums_StdNormAnomalyResClip\\TRMM_JJ_2010033.tif\n",
        "D:\\Data\\0_DAILY_INTERVAL_NDVI_TRMM\\Jiujang\\TRMM2010_DryYear\\10_Day_Period\\10_DaySums_StdNormAnomalyResClip\\TRMM_JJ_2010034.tif\n",
        "D:\\Data\\0_DAILY_INTERVAL_NDVI_TRMM\\Jiujang\\TRMM2010_DryYear\\10_Day_Period\\10_DaySums_StdNormAnomalyResClip\\TRMM_JJ_2010035.tif\n",
        "D:\\Data\\0_DAILY_INTERVAL_NDVI_TRMM\\Jiujang\\TRMM2010_DryYear\\10_Day_Period\\10_DaySums_StdNormAnomalyResClip\\TRMM_JJ_2010036.tif"
       ]
      },
      {
       "output_type": "stream",
       "stream": "stdout",
       "text": [
        "\n",
        "D:\\Data\\0_DAILY_INTERVAL_NDVI_TRMM\\Jiujang\\TRMM2010_DryYear\\10_Day_Period\\10_DaySums_StdNormAnomalyResClip\\TRMM_JJ_2010037.tif\n",
        "D:\\Data\\0_DAILY_INTERVAL_NDVI_TRMM\\Jiujang\\TRMM2010_DryYear\\10_Day_Period\\10_DaySums_StdNormAnomalyResClip\\TRMM_JJ_2010038.tif\n",
        "D:\\Data\\0_DAILY_INTERVAL_NDVI_TRMM\\Jiujang\\TRMM2010_DryYear\\10_Day_Period\\10_DaySums_StdNormAnomalyResClip\\TRMM_JJ_2010039.tif\n",
        "D:\\Data\\0_DAILY_INTERVAL_NDVI_TRMM\\Jiujang\\TRMM2010_DryYear\\10_Day_Period\\10_DaySums_StdNormAnomalyResClip\\TRMM_JJ_2010040.tif\n",
        "D:\\Data\\0_DAILY_INTERVAL_NDVI_TRMM\\Jiujang\\TRMM2010_DryYear\\10_Day_Period\\10_DaySums_StdNormAnomalyResClip\\TRMM_JJ_2010041.tif\n",
        "D:\\Data\\0_DAILY_INTERVAL_NDVI_TRMM\\Jiujang\\TRMM2010_DryYear\\10_Day_Period\\10_DaySums_StdNormAnomalyResClip\\TRMM_JJ_2010042.tif\n",
        "D:\\Data\\0_DAILY_INTERVAL_NDVI_TRMM\\Jiujang\\TRMM2010_DryYear\\10_Day_Period\\10_DaySums_StdNormAnomalyResClip\\TRMM_JJ_2010043.tif"
       ]
      },
      {
       "output_type": "stream",
       "stream": "stdout",
       "text": [
        "\n",
        "D:\\Data\\0_DAILY_INTERVAL_NDVI_TRMM\\Jiujang\\TRMM2010_DryYear\\10_Day_Period\\10_DaySums_StdNormAnomalyResClip\\TRMM_JJ_2010044.tif\n",
        "D:\\Data\\0_DAILY_INTERVAL_NDVI_TRMM\\Jiujang\\TRMM2010_DryYear\\10_Day_Period\\10_DaySums_StdNormAnomalyResClip\\TRMM_JJ_2010045.tif\n",
        "D:\\Data\\0_DAILY_INTERVAL_NDVI_TRMM\\Jiujang\\TRMM2010_DryYear\\10_Day_Period\\10_DaySums_StdNormAnomalyResClip\\TRMM_JJ_2010046.tif\n",
        "D:\\Data\\0_DAILY_INTERVAL_NDVI_TRMM\\Jiujang\\TRMM2010_DryYear\\10_Day_Period\\10_DaySums_StdNormAnomalyResClip\\TRMM_JJ_2010047.tif\n",
        "D:\\Data\\0_DAILY_INTERVAL_NDVI_TRMM\\Jiujang\\TRMM2010_DryYear\\10_Day_Period\\10_DaySums_StdNormAnomalyResClip\\TRMM_JJ_2010048.tif\n",
        "D:\\Data\\0_DAILY_INTERVAL_NDVI_TRMM\\Jiujang\\TRMM2010_DryYear\\10_Day_Period\\10_DaySums_StdNormAnomalyResClip\\TRMM_JJ_2010049.tif\n",
        "D:\\Data\\0_DAILY_INTERVAL_NDVI_TRMM\\Jiujang\\TRMM2010_DryYear\\10_Day_Period\\10_DaySums_StdNormAnomalyResClip\\TRMM_JJ_2010050.tif"
       ]
      },
      {
       "output_type": "stream",
       "stream": "stdout",
       "text": [
        "\n",
        "D:\\Data\\0_DAILY_INTERVAL_NDVI_TRMM\\Jiujang\\TRMM2010_DryYear\\10_Day_Period\\10_DaySums_StdNormAnomalyResClip\\TRMM_JJ_2010051.tif\n",
        "D:\\Data\\0_DAILY_INTERVAL_NDVI_TRMM\\Jiujang\\TRMM2010_DryYear\\10_Day_Period\\10_DaySums_StdNormAnomalyResClip\\TRMM_JJ_2010052.tif\n",
        "D:\\Data\\0_DAILY_INTERVAL_NDVI_TRMM\\Jiujang\\TRMM2010_DryYear\\10_Day_Period\\10_DaySums_StdNormAnomalyResClip\\TRMM_JJ_2010053.tif\n",
        "D:\\Data\\0_DAILY_INTERVAL_NDVI_TRMM\\Jiujang\\TRMM2010_DryYear\\10_Day_Period\\10_DaySums_StdNormAnomalyResClip\\TRMM_JJ_2010054.tif\n",
        "D:\\Data\\0_DAILY_INTERVAL_NDVI_TRMM\\Jiujang\\TRMM2010_DryYear\\10_Day_Period\\10_DaySums_StdNormAnomalyResClip\\TRMM_JJ_2010055.tif\n",
        "D:\\Data\\0_DAILY_INTERVAL_NDVI_TRMM\\Jiujang\\TRMM2010_DryYear\\10_Day_Period\\10_DaySums_StdNormAnomalyResClip\\TRMM_JJ_2010056.tif\n",
        "D:\\Data\\0_DAILY_INTERVAL_NDVI_TRMM\\Jiujang\\TRMM2010_DryYear\\10_Day_Period\\10_DaySums_StdNormAnomalyResClip\\TRMM_JJ_2010057.tif"
       ]
      },
      {
       "output_type": "stream",
       "stream": "stdout",
       "text": [
        "\n",
        "D:\\Data\\0_DAILY_INTERVAL_NDVI_TRMM\\Jiujang\\TRMM2010_DryYear\\10_Day_Period\\10_DaySums_StdNormAnomalyResClip\\TRMM_JJ_2010058.tif\n",
        "D:\\Data\\0_DAILY_INTERVAL_NDVI_TRMM\\Jiujang\\TRMM2010_DryYear\\10_Day_Period\\10_DaySums_StdNormAnomalyResClip\\TRMM_JJ_2010059.tif\n",
        "D:\\Data\\0_DAILY_INTERVAL_NDVI_TRMM\\Jiujang\\TRMM2010_DryYear\\10_Day_Period\\10_DaySums_StdNormAnomalyResClip\\TRMM_JJ_2010060.tif\n",
        "D:\\Data\\0_DAILY_INTERVAL_NDVI_TRMM\\Jiujang\\TRMM2010_DryYear\\10_Day_Period\\10_DaySums_StdNormAnomalyResClip\\TRMM_JJ_2010061.tif\n",
        "D:\\Data\\0_DAILY_INTERVAL_NDVI_TRMM\\Jiujang\\TRMM2010_DryYear\\10_Day_Period\\10_DaySums_StdNormAnomalyResClip\\TRMM_JJ_2010062.tif\n",
        "D:\\Data\\0_DAILY_INTERVAL_NDVI_TRMM\\Jiujang\\TRMM2010_DryYear\\10_Day_Period\\10_DaySums_StdNormAnomalyResClip\\TRMM_JJ_2010063.tif\n",
        "D:\\Data\\0_DAILY_INTERVAL_NDVI_TRMM\\Jiujang\\TRMM2010_DryYear\\10_Day_Period\\10_DaySums_StdNormAnomalyResClip\\TRMM_JJ_2010064.tif"
       ]
      },
      {
       "output_type": "stream",
       "stream": "stdout",
       "text": [
        "\n",
        "D:\\Data\\0_DAILY_INTERVAL_NDVI_TRMM\\Jiujang\\TRMM2010_DryYear\\10_Day_Period\\10_DaySums_StdNormAnomalyResClip\\TRMM_JJ_2010065.tif\n",
        "D:\\Data\\0_DAILY_INTERVAL_NDVI_TRMM\\Jiujang\\TRMM2010_DryYear\\10_Day_Period\\10_DaySums_StdNormAnomalyResClip\\TRMM_JJ_2010066.tif\n",
        "D:\\Data\\0_DAILY_INTERVAL_NDVI_TRMM\\Jiujang\\TRMM2010_DryYear\\10_Day_Period\\10_DaySums_StdNormAnomalyResClip\\TRMM_JJ_2010067.tif\n",
        "D:\\Data\\0_DAILY_INTERVAL_NDVI_TRMM\\Jiujang\\TRMM2010_DryYear\\10_Day_Period\\10_DaySums_StdNormAnomalyResClip\\TRMM_JJ_2010068.tif\n",
        "D:\\Data\\0_DAILY_INTERVAL_NDVI_TRMM\\Jiujang\\TRMM2010_DryYear\\10_Day_Period\\10_DaySums_StdNormAnomalyResClip\\TRMM_JJ_2010069.tif\n",
        "D:\\Data\\0_DAILY_INTERVAL_NDVI_TRMM\\Jiujang\\TRMM2010_DryYear\\10_Day_Period\\10_DaySums_StdNormAnomalyResClip\\TRMM_JJ_2010070.tif\n",
        "D:\\Data\\0_DAILY_INTERVAL_NDVI_TRMM\\Jiujang\\TRMM2010_DryYear\\10_Day_Period\\10_DaySums_StdNormAnomalyResClip\\TRMM_JJ_2010071.tif"
       ]
      },
      {
       "output_type": "stream",
       "stream": "stdout",
       "text": [
        "\n",
        "D:\\Data\\0_DAILY_INTERVAL_NDVI_TRMM\\Jiujang\\TRMM2010_DryYear\\10_Day_Period\\10_DaySums_StdNormAnomalyResClip\\TRMM_JJ_2010072.tif\n",
        "D:\\Data\\0_DAILY_INTERVAL_NDVI_TRMM\\Jiujang\\TRMM2010_DryYear\\10_Day_Period\\10_DaySums_StdNormAnomalyResClip\\TRMM_JJ_2010073.tif\n",
        "D:\\Data\\0_DAILY_INTERVAL_NDVI_TRMM\\Jiujang\\TRMM2010_DryYear\\10_Day_Period\\10_DaySums_StdNormAnomalyResClip\\TRMM_JJ_2010074.tif\n",
        "D:\\Data\\0_DAILY_INTERVAL_NDVI_TRMM\\Jiujang\\TRMM2010_DryYear\\10_Day_Period\\10_DaySums_StdNormAnomalyResClip\\TRMM_JJ_2010075.tif\n",
        "D:\\Data\\0_DAILY_INTERVAL_NDVI_TRMM\\Jiujang\\TRMM2010_DryYear\\10_Day_Period\\10_DaySums_StdNormAnomalyResClip\\TRMM_JJ_2010076.tif\n",
        "D:\\Data\\0_DAILY_INTERVAL_NDVI_TRMM\\Jiujang\\TRMM2010_DryYear\\10_Day_Period\\10_DaySums_StdNormAnomalyResClip\\TRMM_JJ_2010077.tif\n",
        "D:\\Data\\0_DAILY_INTERVAL_NDVI_TRMM\\Jiujang\\TRMM2010_DryYear\\10_Day_Period\\10_DaySums_StdNormAnomalyResClip\\TRMM_JJ_2010078.tif"
       ]
      },
      {
       "output_type": "stream",
       "stream": "stdout",
       "text": [
        "\n",
        "D:\\Data\\0_DAILY_INTERVAL_NDVI_TRMM\\Jiujang\\TRMM2010_DryYear\\10_Day_Period\\10_DaySums_StdNormAnomalyResClip\\TRMM_JJ_2010079.tif\n",
        "D:\\Data\\0_DAILY_INTERVAL_NDVI_TRMM\\Jiujang\\TRMM2010_DryYear\\10_Day_Period\\10_DaySums_StdNormAnomalyResClip\\TRMM_JJ_2010080.tif\n",
        "D:\\Data\\0_DAILY_INTERVAL_NDVI_TRMM\\Jiujang\\TRMM2010_DryYear\\10_Day_Period\\10_DaySums_StdNormAnomalyResClip\\TRMM_JJ_2010081.tif\n",
        "D:\\Data\\0_DAILY_INTERVAL_NDVI_TRMM\\Jiujang\\TRMM2010_DryYear\\10_Day_Period\\10_DaySums_StdNormAnomalyResClip\\TRMM_JJ_2010082.tif\n",
        "D:\\Data\\0_DAILY_INTERVAL_NDVI_TRMM\\Jiujang\\TRMM2010_DryYear\\10_Day_Period\\10_DaySums_StdNormAnomalyResClip\\TRMM_JJ_2010083.tif\n",
        "D:\\Data\\0_DAILY_INTERVAL_NDVI_TRMM\\Jiujang\\TRMM2010_DryYear\\10_Day_Period\\10_DaySums_StdNormAnomalyResClip\\TRMM_JJ_2010084.tif\n",
        "D:\\Data\\0_DAILY_INTERVAL_NDVI_TRMM\\Jiujang\\TRMM2010_DryYear\\10_Day_Period\\10_DaySums_StdNormAnomalyResClip\\TRMM_JJ_2010085.tif"
       ]
      },
      {
       "output_type": "stream",
       "stream": "stdout",
       "text": [
        "\n",
        "D:\\Data\\0_DAILY_INTERVAL_NDVI_TRMM\\Jiujang\\TRMM2010_DryYear\\10_Day_Period\\10_DaySums_StdNormAnomalyResClip\\TRMM_JJ_2010086.tif\n",
        "D:\\Data\\0_DAILY_INTERVAL_NDVI_TRMM\\Jiujang\\TRMM2010_DryYear\\10_Day_Period\\10_DaySums_StdNormAnomalyResClip\\TRMM_JJ_2010087.tif\n",
        "D:\\Data\\0_DAILY_INTERVAL_NDVI_TRMM\\Jiujang\\TRMM2010_DryYear\\10_Day_Period\\10_DaySums_StdNormAnomalyResClip\\TRMM_JJ_2010088.tif\n",
        "D:\\Data\\0_DAILY_INTERVAL_NDVI_TRMM\\Jiujang\\TRMM2010_DryYear\\10_Day_Period\\10_DaySums_StdNormAnomalyResClip\\TRMM_JJ_2010089.tif\n",
        "D:\\Data\\0_DAILY_INTERVAL_NDVI_TRMM\\Jiujang\\TRMM2010_DryYear\\10_Day_Period\\10_DaySums_StdNormAnomalyResClip\\TRMM_JJ_2010090.tif\n",
        "D:\\Data\\0_DAILY_INTERVAL_NDVI_TRMM\\Jiujang\\TRMM2010_DryYear\\10_Day_Period\\10_DaySums_StdNormAnomalyResClip\\TRMM_JJ_2010091.tif\n",
        "D:\\Data\\0_DAILY_INTERVAL_NDVI_TRMM\\Jiujang\\TRMM2010_DryYear\\10_Day_Period\\10_DaySums_StdNormAnomalyResClip\\TRMM_JJ_2010092.tif"
       ]
      },
      {
       "output_type": "stream",
       "stream": "stdout",
       "text": [
        "\n",
        "D:\\Data\\0_DAILY_INTERVAL_NDVI_TRMM\\Jiujang\\TRMM2010_DryYear\\10_Day_Period\\10_DaySums_StdNormAnomalyResClip\\TRMM_JJ_2010093.tif\n",
        "D:\\Data\\0_DAILY_INTERVAL_NDVI_TRMM\\Jiujang\\TRMM2010_DryYear\\10_Day_Period\\10_DaySums_StdNormAnomalyResClip\\TRMM_JJ_2010094.tif\n",
        "D:\\Data\\0_DAILY_INTERVAL_NDVI_TRMM\\Jiujang\\TRMM2010_DryYear\\10_Day_Period\\10_DaySums_StdNormAnomalyResClip\\TRMM_JJ_2010095.tif\n",
        "D:\\Data\\0_DAILY_INTERVAL_NDVI_TRMM\\Jiujang\\TRMM2010_DryYear\\10_Day_Period\\10_DaySums_StdNormAnomalyResClip\\TRMM_JJ_2010096.tif\n",
        "D:\\Data\\0_DAILY_INTERVAL_NDVI_TRMM\\Jiujang\\TRMM2010_DryYear\\10_Day_Period\\10_DaySums_StdNormAnomalyResClip\\TRMM_JJ_2010097.tif\n",
        "D:\\Data\\0_DAILY_INTERVAL_NDVI_TRMM\\Jiujang\\TRMM2010_DryYear\\10_Day_Period\\10_DaySums_StdNormAnomalyResClip\\TRMM_JJ_2010098.tif\n",
        "D:\\Data\\0_DAILY_INTERVAL_NDVI_TRMM\\Jiujang\\TRMM2010_DryYear\\10_Day_Period\\10_DaySums_StdNormAnomalyResClip\\TRMM_JJ_2010099.tif"
       ]
      },
      {
       "output_type": "stream",
       "stream": "stdout",
       "text": [
        "\n",
        "D:\\Data\\0_DAILY_INTERVAL_NDVI_TRMM\\Jiujang\\TRMM2010_DryYear\\10_Day_Period\\10_DaySums_StdNormAnomalyResClip\\TRMM_JJ_2010100.tif\n",
        "D:\\Data\\0_DAILY_INTERVAL_NDVI_TRMM\\Jiujang\\TRMM2010_DryYear\\10_Day_Period\\10_DaySums_StdNormAnomalyResClip\\TRMM_JJ_2010101.tif\n",
        "D:\\Data\\0_DAILY_INTERVAL_NDVI_TRMM\\Jiujang\\TRMM2010_DryYear\\10_Day_Period\\10_DaySums_StdNormAnomalyResClip\\TRMM_JJ_2010102.tif\n",
        "D:\\Data\\0_DAILY_INTERVAL_NDVI_TRMM\\Jiujang\\TRMM2010_DryYear\\10_Day_Period\\10_DaySums_StdNormAnomalyResClip\\TRMM_JJ_2010103.tif\n",
        "D:\\Data\\0_DAILY_INTERVAL_NDVI_TRMM\\Jiujang\\TRMM2010_DryYear\\10_Day_Period\\10_DaySums_StdNormAnomalyResClip\\TRMM_JJ_2010104.tif\n",
        "D:\\Data\\0_DAILY_INTERVAL_NDVI_TRMM\\Jiujang\\TRMM2010_DryYear\\10_Day_Period\\10_DaySums_StdNormAnomalyResClip\\TRMM_JJ_2010105.tif\n",
        "D:\\Data\\0_DAILY_INTERVAL_NDVI_TRMM\\Jiujang\\TRMM2010_DryYear\\10_Day_Period\\10_DaySums_StdNormAnomalyResClip\\TRMM_JJ_2010106.tif"
       ]
      },
      {
       "output_type": "stream",
       "stream": "stdout",
       "text": [
        "\n",
        "D:\\Data\\0_DAILY_INTERVAL_NDVI_TRMM\\Jiujang\\TRMM2010_DryYear\\10_Day_Period\\10_DaySums_StdNormAnomalyResClip\\TRMM_JJ_2010107.tif\n",
        "D:\\Data\\0_DAILY_INTERVAL_NDVI_TRMM\\Jiujang\\TRMM2010_DryYear\\10_Day_Period\\10_DaySums_StdNormAnomalyResClip\\TRMM_JJ_2010108.tif\n",
        "D:\\Data\\0_DAILY_INTERVAL_NDVI_TRMM\\Jiujang\\TRMM2010_DryYear\\10_Day_Period\\10_DaySums_StdNormAnomalyResClip\\TRMM_JJ_2010109.tif\n",
        "D:\\Data\\0_DAILY_INTERVAL_NDVI_TRMM\\Jiujang\\TRMM2010_DryYear\\10_Day_Period\\10_DaySums_StdNormAnomalyResClip\\TRMM_JJ_2010110.tif\n",
        "D:\\Data\\0_DAILY_INTERVAL_NDVI_TRMM\\Jiujang\\TRMM2010_DryYear\\10_Day_Period\\10_DaySums_StdNormAnomalyResClip\\TRMM_JJ_2010111.tif\n",
        "D:\\Data\\0_DAILY_INTERVAL_NDVI_TRMM\\Jiujang\\TRMM2010_DryYear\\10_Day_Period\\10_DaySums_StdNormAnomalyResClip\\TRMM_JJ_2010112.tif\n",
        "D:\\Data\\0_DAILY_INTERVAL_NDVI_TRMM\\Jiujang\\TRMM2010_DryYear\\10_Day_Period\\10_DaySums_StdNormAnomalyResClip\\TRMM_JJ_2010113.tif"
       ]
      },
      {
       "output_type": "stream",
       "stream": "stdout",
       "text": [
        "\n",
        "D:\\Data\\0_DAILY_INTERVAL_NDVI_TRMM\\Jiujang\\TRMM2010_DryYear\\10_Day_Period\\10_DaySums_StdNormAnomalyResClip\\TRMM_JJ_2010114.tif\n",
        "D:\\Data\\0_DAILY_INTERVAL_NDVI_TRMM\\Jiujang\\TRMM2010_DryYear\\10_Day_Period\\10_DaySums_StdNormAnomalyResClip\\TRMM_JJ_2010115.tif\n",
        "D:\\Data\\0_DAILY_INTERVAL_NDVI_TRMM\\Jiujang\\TRMM2010_DryYear\\10_Day_Period\\10_DaySums_StdNormAnomalyResClip\\TRMM_JJ_2010116.tif\n",
        "D:\\Data\\0_DAILY_INTERVAL_NDVI_TRMM\\Jiujang\\TRMM2010_DryYear\\10_Day_Period\\10_DaySums_StdNormAnomalyResClip\\TRMM_JJ_2010117.tif\n",
        "D:\\Data\\0_DAILY_INTERVAL_NDVI_TRMM\\Jiujang\\TRMM2010_DryYear\\10_Day_Period\\10_DaySums_StdNormAnomalyResClip\\TRMM_JJ_2010118.tif\n",
        "D:\\Data\\0_DAILY_INTERVAL_NDVI_TRMM\\Jiujang\\TRMM2010_DryYear\\10_Day_Period\\10_DaySums_StdNormAnomalyResClip\\TRMM_JJ_2010119.tif\n",
        "D:\\Data\\0_DAILY_INTERVAL_NDVI_TRMM\\Jiujang\\TRMM2010_DryYear\\10_Day_Period\\10_DaySums_StdNormAnomalyResClip\\TRMM_JJ_2010120.tif"
       ]
      },
      {
       "output_type": "stream",
       "stream": "stdout",
       "text": [
        "\n",
        "D:\\Data\\0_DAILY_INTERVAL_NDVI_TRMM\\Jiujang\\TRMM2010_DryYear\\10_Day_Period\\10_DaySums_StdNormAnomalyResClip\\TRMM_JJ_2010121.tif\n",
        "D:\\Data\\0_DAILY_INTERVAL_NDVI_TRMM\\Jiujang\\TRMM2010_DryYear\\10_Day_Period\\10_DaySums_StdNormAnomalyResClip\\TRMM_JJ_2010122.tif\n",
        "D:\\Data\\0_DAILY_INTERVAL_NDVI_TRMM\\Jiujang\\TRMM2010_DryYear\\10_Day_Period\\10_DaySums_StdNormAnomalyResClip\\TRMM_JJ_2010123.tif\n",
        "D:\\Data\\0_DAILY_INTERVAL_NDVI_TRMM\\Jiujang\\TRMM2010_DryYear\\10_Day_Period\\10_DaySums_StdNormAnomalyResClip\\TRMM_JJ_2010124.tif\n",
        "D:\\Data\\0_DAILY_INTERVAL_NDVI_TRMM\\Jiujang\\TRMM2010_DryYear\\10_Day_Period\\10_DaySums_StdNormAnomalyResClip\\TRMM_JJ_2010125.tif\n",
        "D:\\Data\\0_DAILY_INTERVAL_NDVI_TRMM\\Jiujang\\TRMM2010_DryYear\\10_Day_Period\\10_DaySums_StdNormAnomalyResClip\\TRMM_JJ_2010126.tif\n",
        "D:\\Data\\0_DAILY_INTERVAL_NDVI_TRMM\\Jiujang\\TRMM2010_DryYear\\10_Day_Period\\10_DaySums_StdNormAnomalyResClip\\TRMM_JJ_2010127.tif"
       ]
      },
      {
       "output_type": "stream",
       "stream": "stdout",
       "text": [
        "\n",
        "D:\\Data\\0_DAILY_INTERVAL_NDVI_TRMM\\Jiujang\\TRMM2010_DryYear\\10_Day_Period\\10_DaySums_StdNormAnomalyResClip\\TRMM_JJ_2010128.tif\n",
        "D:\\Data\\0_DAILY_INTERVAL_NDVI_TRMM\\Jiujang\\TRMM2010_DryYear\\10_Day_Period\\10_DaySums_StdNormAnomalyResClip\\TRMM_JJ_2010129.tif\n",
        "D:\\Data\\0_DAILY_INTERVAL_NDVI_TRMM\\Jiujang\\TRMM2010_DryYear\\10_Day_Period\\10_DaySums_StdNormAnomalyResClip\\TRMM_JJ_2010130.tif\n",
        "D:\\Data\\0_DAILY_INTERVAL_NDVI_TRMM\\Jiujang\\TRMM2010_DryYear\\10_Day_Period\\10_DaySums_StdNormAnomalyResClip\\TRMM_JJ_2010131.tif\n",
        "D:\\Data\\0_DAILY_INTERVAL_NDVI_TRMM\\Jiujang\\TRMM2010_DryYear\\10_Day_Period\\10_DaySums_StdNormAnomalyResClip\\TRMM_JJ_2010132.tif\n",
        "D:\\Data\\0_DAILY_INTERVAL_NDVI_TRMM\\Jiujang\\TRMM2010_DryYear\\10_Day_Period\\10_DaySums_StdNormAnomalyResClip\\TRMM_JJ_2010133.tif\n",
        "D:\\Data\\0_DAILY_INTERVAL_NDVI_TRMM\\Jiujang\\TRMM2010_DryYear\\10_Day_Period\\10_DaySums_StdNormAnomalyResClip\\TRMM_JJ_2010134.tif"
       ]
      },
      {
       "output_type": "stream",
       "stream": "stdout",
       "text": [
        "\n",
        "D:\\Data\\0_DAILY_INTERVAL_NDVI_TRMM\\Jiujang\\TRMM2010_DryYear\\10_Day_Period\\10_DaySums_StdNormAnomalyResClip\\TRMM_JJ_2010135.tif\n",
        "D:\\Data\\0_DAILY_INTERVAL_NDVI_TRMM\\Jiujang\\TRMM2010_DryYear\\10_Day_Period\\10_DaySums_StdNormAnomalyResClip\\TRMM_JJ_2010136.tif\n",
        "D:\\Data\\0_DAILY_INTERVAL_NDVI_TRMM\\Jiujang\\TRMM2010_DryYear\\10_Day_Period\\10_DaySums_StdNormAnomalyResClip\\TRMM_JJ_2010137.tif\n",
        "D:\\Data\\0_DAILY_INTERVAL_NDVI_TRMM\\Jiujang\\TRMM2010_DryYear\\10_Day_Period\\10_DaySums_StdNormAnomalyResClip\\TRMM_JJ_2010138.tif\n",
        "D:\\Data\\0_DAILY_INTERVAL_NDVI_TRMM\\Jiujang\\TRMM2010_DryYear\\10_Day_Period\\10_DaySums_StdNormAnomalyResClip\\TRMM_JJ_2010139.tif\n",
        "D:\\Data\\0_DAILY_INTERVAL_NDVI_TRMM\\Jiujang\\TRMM2010_DryYear\\10_Day_Period\\10_DaySums_StdNormAnomalyResClip\\TRMM_JJ_2010140.tif\n",
        "D:\\Data\\0_DAILY_INTERVAL_NDVI_TRMM\\Jiujang\\TRMM2010_DryYear\\10_Day_Period\\10_DaySums_StdNormAnomalyResClip\\TRMM_JJ_2010141.tif"
       ]
      },
      {
       "output_type": "stream",
       "stream": "stdout",
       "text": [
        "\n",
        "D:\\Data\\0_DAILY_INTERVAL_NDVI_TRMM\\Jiujang\\TRMM2010_DryYear\\10_Day_Period\\10_DaySums_StdNormAnomalyResClip\\TRMM_JJ_2010142.tif\n",
        "D:\\Data\\0_DAILY_INTERVAL_NDVI_TRMM\\Jiujang\\TRMM2010_DryYear\\10_Day_Period\\10_DaySums_StdNormAnomalyResClip\\TRMM_JJ_2010143.tif\n",
        "D:\\Data\\0_DAILY_INTERVAL_NDVI_TRMM\\Jiujang\\TRMM2010_DryYear\\10_Day_Period\\10_DaySums_StdNormAnomalyResClip\\TRMM_JJ_2010144.tif\n",
        "D:\\Data\\0_DAILY_INTERVAL_NDVI_TRMM\\Jiujang\\TRMM2010_DryYear\\10_Day_Period\\10_DaySums_StdNormAnomalyResClip\\TRMM_JJ_2010145.tif\n",
        "D:\\Data\\0_DAILY_INTERVAL_NDVI_TRMM\\Jiujang\\TRMM2010_DryYear\\10_Day_Period\\10_DaySums_StdNormAnomalyResClip\\TRMM_JJ_2010146.tif\n",
        "D:\\Data\\0_DAILY_INTERVAL_NDVI_TRMM\\Jiujang\\TRMM2010_DryYear\\10_Day_Period\\10_DaySums_StdNormAnomalyResClip\\TRMM_JJ_2010147.tif\n",
        "D:\\Data\\0_DAILY_INTERVAL_NDVI_TRMM\\Jiujang\\TRMM2010_DryYear\\10_Day_Period\\10_DaySums_StdNormAnomalyResClip\\TRMM_JJ_2010148.tif"
       ]
      },
      {
       "output_type": "stream",
       "stream": "stdout",
       "text": [
        "\n",
        "D:\\Data\\0_DAILY_INTERVAL_NDVI_TRMM\\Jiujang\\TRMM2010_DryYear\\10_Day_Period\\10_DaySums_StdNormAnomalyResClip\\TRMM_JJ_2010149.tif\n",
        "D:\\Data\\0_DAILY_INTERVAL_NDVI_TRMM\\Jiujang\\TRMM2010_DryYear\\10_Day_Period\\10_DaySums_StdNormAnomalyResClip\\TRMM_JJ_2010150.tif\n",
        "D:\\Data\\0_DAILY_INTERVAL_NDVI_TRMM\\Jiujang\\TRMM2010_DryYear\\10_Day_Period\\10_DaySums_StdNormAnomalyResClip\\TRMM_JJ_2010151.tif\n",
        "D:\\Data\\0_DAILY_INTERVAL_NDVI_TRMM\\Jiujang\\TRMM2010_DryYear\\10_Day_Period\\10_DaySums_StdNormAnomalyResClip\\TRMM_JJ_2010152.tif\n",
        "D:\\Data\\0_DAILY_INTERVAL_NDVI_TRMM\\Jiujang\\TRMM2010_DryYear\\10_Day_Period\\10_DaySums_StdNormAnomalyResClip\\TRMM_JJ_2010153.tif\n",
        "D:\\Data\\0_DAILY_INTERVAL_NDVI_TRMM\\Jiujang\\TRMM2010_DryYear\\10_Day_Period\\10_DaySums_StdNormAnomalyResClip\\TRMM_JJ_2010154.tif\n",
        "D:\\Data\\0_DAILY_INTERVAL_NDVI_TRMM\\Jiujang\\TRMM2010_DryYear\\10_Day_Period\\10_DaySums_StdNormAnomalyResClip\\TRMM_JJ_2010155.tif"
       ]
      },
      {
       "output_type": "stream",
       "stream": "stdout",
       "text": [
        "\n",
        "D:\\Data\\0_DAILY_INTERVAL_NDVI_TRMM\\Jiujang\\TRMM2010_DryYear\\10_Day_Period\\10_DaySums_StdNormAnomalyResClip\\TRMM_JJ_2010156.tif\n",
        "D:\\Data\\0_DAILY_INTERVAL_NDVI_TRMM\\Jiujang\\TRMM2010_DryYear\\10_Day_Period\\10_DaySums_StdNormAnomalyResClip\\TRMM_JJ_2010157.tif\n",
        "D:\\Data\\0_DAILY_INTERVAL_NDVI_TRMM\\Jiujang\\TRMM2010_DryYear\\10_Day_Period\\10_DaySums_StdNormAnomalyResClip\\TRMM_JJ_2010158.tif\n",
        "D:\\Data\\0_DAILY_INTERVAL_NDVI_TRMM\\Jiujang\\TRMM2010_DryYear\\10_Day_Period\\10_DaySums_StdNormAnomalyResClip\\TRMM_JJ_2010159.tif\n",
        "D:\\Data\\0_DAILY_INTERVAL_NDVI_TRMM\\Jiujang\\TRMM2010_DryYear\\10_Day_Period\\10_DaySums_StdNormAnomalyResClip\\TRMM_JJ_2010160.tif\n",
        "D:\\Data\\0_DAILY_INTERVAL_NDVI_TRMM\\Jiujang\\TRMM2010_DryYear\\10_Day_Period\\10_DaySums_StdNormAnomalyResClip\\TRMM_JJ_2010161.tif\n",
        "D:\\Data\\0_DAILY_INTERVAL_NDVI_TRMM\\Jiujang\\TRMM2010_DryYear\\10_Day_Period\\10_DaySums_StdNormAnomalyResClip\\TRMM_JJ_2010162.tif"
       ]
      },
      {
       "output_type": "stream",
       "stream": "stdout",
       "text": [
        "\n",
        "D:\\Data\\0_DAILY_INTERVAL_NDVI_TRMM\\Jiujang\\TRMM2010_DryYear\\10_Day_Period\\10_DaySums_StdNormAnomalyResClip\\TRMM_JJ_2010163.tif\n",
        "D:\\Data\\0_DAILY_INTERVAL_NDVI_TRMM\\Jiujang\\TRMM2010_DryYear\\10_Day_Period\\10_DaySums_StdNormAnomalyResClip\\TRMM_JJ_2010164.tif\n",
        "D:\\Data\\0_DAILY_INTERVAL_NDVI_TRMM\\Jiujang\\TRMM2010_DryYear\\10_Day_Period\\10_DaySums_StdNormAnomalyResClip\\TRMM_JJ_2010165.tif\n",
        "D:\\Data\\0_DAILY_INTERVAL_NDVI_TRMM\\Jiujang\\TRMM2010_DryYear\\10_Day_Period\\10_DaySums_StdNormAnomalyResClip\\TRMM_JJ_2010166.tif\n",
        "D:\\Data\\0_DAILY_INTERVAL_NDVI_TRMM\\Jiujang\\TRMM2010_DryYear\\10_Day_Period\\10_DaySums_StdNormAnomalyResClip\\TRMM_JJ_2010167.tif\n",
        "D:\\Data\\0_DAILY_INTERVAL_NDVI_TRMM\\Jiujang\\TRMM2010_DryYear\\10_Day_Period\\10_DaySums_StdNormAnomalyResClip\\TRMM_JJ_2010168.tif\n",
        "D:\\Data\\0_DAILY_INTERVAL_NDVI_TRMM\\Jiujang\\TRMM2010_DryYear\\10_Day_Period\\10_DaySums_StdNormAnomalyResClip\\TRMM_JJ_2010169.tif"
       ]
      },
      {
       "output_type": "stream",
       "stream": "stdout",
       "text": [
        "\n",
        "D:\\Data\\0_DAILY_INTERVAL_NDVI_TRMM\\Jiujang\\TRMM2010_DryYear\\10_Day_Period\\10_DaySums_StdNormAnomalyResClip\\TRMM_JJ_2010170.tif\n",
        "D:\\Data\\0_DAILY_INTERVAL_NDVI_TRMM\\Jiujang\\TRMM2010_DryYear\\10_Day_Period\\10_DaySums_StdNormAnomalyResClip\\TRMM_JJ_2010171.tif\n",
        "D:\\Data\\0_DAILY_INTERVAL_NDVI_TRMM\\Jiujang\\TRMM2010_DryYear\\10_Day_Period\\10_DaySums_StdNormAnomalyResClip\\TRMM_JJ_2010172.tif\n",
        "D:\\Data\\0_DAILY_INTERVAL_NDVI_TRMM\\Jiujang\\TRMM2010_DryYear\\10_Day_Period\\10_DaySums_StdNormAnomalyResClip\\TRMM_JJ_2010173.tif\n",
        "D:\\Data\\0_DAILY_INTERVAL_NDVI_TRMM\\Jiujang\\TRMM2010_DryYear\\10_Day_Period\\10_DaySums_StdNormAnomalyResClip\\TRMM_JJ_2010174.tif\n",
        "D:\\Data\\0_DAILY_INTERVAL_NDVI_TRMM\\Jiujang\\TRMM2010_DryYear\\10_Day_Period\\10_DaySums_StdNormAnomalyResClip\\TRMM_JJ_2010175.tif\n",
        "D:\\Data\\0_DAILY_INTERVAL_NDVI_TRMM\\Jiujang\\TRMM2010_DryYear\\10_Day_Period\\10_DaySums_StdNormAnomalyResClip\\TRMM_JJ_2010176.tif"
       ]
      },
      {
       "output_type": "stream",
       "stream": "stdout",
       "text": [
        "\n",
        "D:\\Data\\0_DAILY_INTERVAL_NDVI_TRMM\\Jiujang\\TRMM2010_DryYear\\10_Day_Period\\10_DaySums_StdNormAnomalyResClip\\TRMM_JJ_2010177.tif\n",
        "D:\\Data\\0_DAILY_INTERVAL_NDVI_TRMM\\Jiujang\\TRMM2010_DryYear\\10_Day_Period\\10_DaySums_StdNormAnomalyResClip\\TRMM_JJ_2010178.tif\n",
        "D:\\Data\\0_DAILY_INTERVAL_NDVI_TRMM\\Jiujang\\TRMM2010_DryYear\\10_Day_Period\\10_DaySums_StdNormAnomalyResClip\\TRMM_JJ_2010179.tif\n",
        "D:\\Data\\0_DAILY_INTERVAL_NDVI_TRMM\\Jiujang\\TRMM2010_DryYear\\10_Day_Period\\10_DaySums_StdNormAnomalyResClip\\TRMM_JJ_2010180.tif\n",
        "D:\\Data\\0_DAILY_INTERVAL_NDVI_TRMM\\Jiujang\\TRMM2010_DryYear\\10_Day_Period\\10_DaySums_StdNormAnomalyResClip\\TRMM_JJ_2010181.tif\n",
        "D:\\Data\\0_DAILY_INTERVAL_NDVI_TRMM\\Jiujang\\TRMM2010_DryYear\\10_Day_Period\\10_DaySums_StdNormAnomalyResClip\\TRMM_JJ_2010182.tif\n",
        "D:\\Data\\0_DAILY_INTERVAL_NDVI_TRMM\\Jiujang\\TRMM2010_DryYear\\10_Day_Period\\10_DaySums_StdNormAnomalyResClip\\TRMM_JJ_2010183.tif"
       ]
      },
      {
       "output_type": "stream",
       "stream": "stdout",
       "text": [
        "\n",
        "D:\\Data\\0_DAILY_INTERVAL_NDVI_TRMM\\Jiujang\\TRMM2010_DryYear\\10_Day_Period\\10_DaySums_StdNormAnomalyResClip\\TRMM_JJ_2010184.tif\n",
        "D:\\Data\\0_DAILY_INTERVAL_NDVI_TRMM\\Jiujang\\TRMM2010_DryYear\\10_Day_Period\\10_DaySums_StdNormAnomalyResClip\\TRMM_JJ_2010185.tif\n",
        "D:\\Data\\0_DAILY_INTERVAL_NDVI_TRMM\\Jiujang\\TRMM2010_DryYear\\10_Day_Period\\10_DaySums_StdNormAnomalyResClip\\TRMM_JJ_2010186.tif\n",
        "D:\\Data\\0_DAILY_INTERVAL_NDVI_TRMM\\Jiujang\\TRMM2010_DryYear\\10_Day_Period\\10_DaySums_StdNormAnomalyResClip\\TRMM_JJ_2010187.tif\n",
        "D:\\Data\\0_DAILY_INTERVAL_NDVI_TRMM\\Jiujang\\TRMM2010_DryYear\\10_Day_Period\\10_DaySums_StdNormAnomalyResClip\\TRMM_JJ_2010188.tif\n",
        "D:\\Data\\0_DAILY_INTERVAL_NDVI_TRMM\\Jiujang\\TRMM2010_DryYear\\10_Day_Period\\10_DaySums_StdNormAnomalyResClip\\TRMM_JJ_2010189.tif\n",
        "D:\\Data\\0_DAILY_INTERVAL_NDVI_TRMM\\Jiujang\\TRMM2010_DryYear\\10_Day_Period\\10_DaySums_StdNormAnomalyResClip\\TRMM_JJ_2010190.tif"
       ]
      },
      {
       "output_type": "stream",
       "stream": "stdout",
       "text": [
        "\n",
        "D:\\Data\\0_DAILY_INTERVAL_NDVI_TRMM\\Jiujang\\TRMM2010_DryYear\\10_Day_Period\\10_DaySums_StdNormAnomalyResClip\\TRMM_JJ_2010191.tif\n",
        "D:\\Data\\0_DAILY_INTERVAL_NDVI_TRMM\\Jiujang\\TRMM2010_DryYear\\10_Day_Period\\10_DaySums_StdNormAnomalyResClip\\TRMM_JJ_2010192.tif\n",
        "D:\\Data\\0_DAILY_INTERVAL_NDVI_TRMM\\Jiujang\\TRMM2010_DryYear\\10_Day_Period\\10_DaySums_StdNormAnomalyResClip\\TRMM_JJ_2010193.tif\n",
        "D:\\Data\\0_DAILY_INTERVAL_NDVI_TRMM\\Jiujang\\TRMM2010_DryYear\\10_Day_Period\\10_DaySums_StdNormAnomalyResClip\\TRMM_JJ_2010194.tif\n",
        "D:\\Data\\0_DAILY_INTERVAL_NDVI_TRMM\\Jiujang\\TRMM2010_DryYear\\10_Day_Period\\10_DaySums_StdNormAnomalyResClip\\TRMM_JJ_2010195.tif\n",
        "D:\\Data\\0_DAILY_INTERVAL_NDVI_TRMM\\Jiujang\\TRMM2010_DryYear\\10_Day_Period\\10_DaySums_StdNormAnomalyResClip\\TRMM_JJ_2010196.tif\n",
        "D:\\Data\\0_DAILY_INTERVAL_NDVI_TRMM\\Jiujang\\TRMM2010_DryYear\\10_Day_Period\\10_DaySums_StdNormAnomalyResClip\\TRMM_JJ_2010197.tif"
       ]
      },
      {
       "output_type": "stream",
       "stream": "stdout",
       "text": [
        "\n",
        "D:\\Data\\0_DAILY_INTERVAL_NDVI_TRMM\\Jiujang\\TRMM2010_DryYear\\10_Day_Period\\10_DaySums_StdNormAnomalyResClip\\TRMM_JJ_2010198.tif\n",
        "D:\\Data\\0_DAILY_INTERVAL_NDVI_TRMM\\Jiujang\\TRMM2010_DryYear\\10_Day_Period\\10_DaySums_StdNormAnomalyResClip\\TRMM_JJ_2010199.tif\n",
        "D:\\Data\\0_DAILY_INTERVAL_NDVI_TRMM\\Jiujang\\TRMM2010_DryYear\\10_Day_Period\\10_DaySums_StdNormAnomalyResClip\\TRMM_JJ_2010200.tif\n",
        "D:\\Data\\0_DAILY_INTERVAL_NDVI_TRMM\\Jiujang\\TRMM2010_DryYear\\10_Day_Period\\10_DaySums_StdNormAnomalyResClip\\TRMM_JJ_2010201.tif\n",
        "D:\\Data\\0_DAILY_INTERVAL_NDVI_TRMM\\Jiujang\\TRMM2010_DryYear\\10_Day_Period\\10_DaySums_StdNormAnomalyResClip\\TRMM_JJ_2010202.tif\n",
        "D:\\Data\\0_DAILY_INTERVAL_NDVI_TRMM\\Jiujang\\TRMM2010_DryYear\\10_Day_Period\\10_DaySums_StdNormAnomalyResClip\\TRMM_JJ_2010203.tif\n",
        "D:\\Data\\0_DAILY_INTERVAL_NDVI_TRMM\\Jiujang\\TRMM2010_DryYear\\10_Day_Period\\10_DaySums_StdNormAnomalyResClip\\TRMM_JJ_2010204.tif"
       ]
      },
      {
       "output_type": "stream",
       "stream": "stdout",
       "text": [
        "\n",
        "D:\\Data\\0_DAILY_INTERVAL_NDVI_TRMM\\Jiujang\\TRMM2010_DryYear\\10_Day_Period\\10_DaySums_StdNormAnomalyResClip\\TRMM_JJ_2010205.tif\n",
        "D:\\Data\\0_DAILY_INTERVAL_NDVI_TRMM\\Jiujang\\TRMM2010_DryYear\\10_Day_Period\\10_DaySums_StdNormAnomalyResClip\\TRMM_JJ_2010206.tif\n",
        "D:\\Data\\0_DAILY_INTERVAL_NDVI_TRMM\\Jiujang\\TRMM2010_DryYear\\10_Day_Period\\10_DaySums_StdNormAnomalyResClip\\TRMM_JJ_2010207.tif\n",
        "D:\\Data\\0_DAILY_INTERVAL_NDVI_TRMM\\Jiujang\\TRMM2010_DryYear\\10_Day_Period\\10_DaySums_StdNormAnomalyResClip\\TRMM_JJ_2010208.tif\n",
        "D:\\Data\\0_DAILY_INTERVAL_NDVI_TRMM\\Jiujang\\TRMM2010_DryYear\\10_Day_Period\\10_DaySums_StdNormAnomalyResClip\\TRMM_JJ_2010209.tif\n",
        "D:\\Data\\0_DAILY_INTERVAL_NDVI_TRMM\\Jiujang\\TRMM2010_DryYear\\10_Day_Period\\10_DaySums_StdNormAnomalyResClip\\TRMM_JJ_2010210.tif"
       ]
      },
      {
       "output_type": "stream",
       "stream": "stdout",
       "text": [
        "\n",
        "D:\\Data\\0_DAILY_INTERVAL_NDVI_TRMM\\Jiujang\\TRMM2010_DryYear\\10_Day_Period\\10_DaySums_StdNormAnomalyResClip\\TRMM_JJ_2010211.tif\n",
        "D:\\Data\\0_DAILY_INTERVAL_NDVI_TRMM\\Jiujang\\TRMM2010_DryYear\\10_Day_Period\\10_DaySums_StdNormAnomalyResClip\\TRMM_JJ_2010212.tif\n",
        "D:\\Data\\0_DAILY_INTERVAL_NDVI_TRMM\\Jiujang\\TRMM2010_DryYear\\10_Day_Period\\10_DaySums_StdNormAnomalyResClip\\TRMM_JJ_2010213.tif\n",
        "D:\\Data\\0_DAILY_INTERVAL_NDVI_TRMM\\Jiujang\\TRMM2010_DryYear\\10_Day_Period\\10_DaySums_StdNormAnomalyResClip\\TRMM_JJ_2010214.tif\n",
        "D:\\Data\\0_DAILY_INTERVAL_NDVI_TRMM\\Jiujang\\TRMM2010_DryYear\\10_Day_Period\\10_DaySums_StdNormAnomalyResClip\\TRMM_JJ_2010215.tif\n",
        "D:\\Data\\0_DAILY_INTERVAL_NDVI_TRMM\\Jiujang\\TRMM2010_DryYear\\10_Day_Period\\10_DaySums_StdNormAnomalyResClip\\TRMM_JJ_2010216.tif\n",
        "D:\\Data\\0_DAILY_INTERVAL_NDVI_TRMM\\Jiujang\\TRMM2010_DryYear\\10_Day_Period\\10_DaySums_StdNormAnomalyResClip\\TRMM_JJ_2010217.tif"
       ]
      },
      {
       "output_type": "stream",
       "stream": "stdout",
       "text": [
        "\n",
        "D:\\Data\\0_DAILY_INTERVAL_NDVI_TRMM\\Jiujang\\TRMM2010_DryYear\\10_Day_Period\\10_DaySums_StdNormAnomalyResClip\\TRMM_JJ_2010218.tif\n",
        "D:\\Data\\0_DAILY_INTERVAL_NDVI_TRMM\\Jiujang\\TRMM2010_DryYear\\10_Day_Period\\10_DaySums_StdNormAnomalyResClip\\TRMM_JJ_2010219.tif\n",
        "D:\\Data\\0_DAILY_INTERVAL_NDVI_TRMM\\Jiujang\\TRMM2010_DryYear\\10_Day_Period\\10_DaySums_StdNormAnomalyResClip\\TRMM_JJ_2010220.tif\n",
        "D:\\Data\\0_DAILY_INTERVAL_NDVI_TRMM\\Jiujang\\TRMM2010_DryYear\\10_Day_Period\\10_DaySums_StdNormAnomalyResClip\\TRMM_JJ_2010221.tif\n",
        "D:\\Data\\0_DAILY_INTERVAL_NDVI_TRMM\\Jiujang\\TRMM2010_DryYear\\10_Day_Period\\10_DaySums_StdNormAnomalyResClip\\TRMM_JJ_2010222.tif\n",
        "D:\\Data\\0_DAILY_INTERVAL_NDVI_TRMM\\Jiujang\\TRMM2010_DryYear\\10_Day_Period\\10_DaySums_StdNormAnomalyResClip\\TRMM_JJ_2010223.tif\n",
        "D:\\Data\\0_DAILY_INTERVAL_NDVI_TRMM\\Jiujang\\TRMM2010_DryYear\\10_Day_Period\\10_DaySums_StdNormAnomalyResClip\\TRMM_JJ_2010224.tif"
       ]
      },
      {
       "output_type": "stream",
       "stream": "stdout",
       "text": [
        "\n",
        "D:\\Data\\0_DAILY_INTERVAL_NDVI_TRMM\\Jiujang\\TRMM2010_DryYear\\10_Day_Period\\10_DaySums_StdNormAnomalyResClip\\TRMM_JJ_2010225.tif\n",
        "D:\\Data\\0_DAILY_INTERVAL_NDVI_TRMM\\Jiujang\\TRMM2010_DryYear\\10_Day_Period\\10_DaySums_StdNormAnomalyResClip\\TRMM_JJ_2010226.tif\n",
        "D:\\Data\\0_DAILY_INTERVAL_NDVI_TRMM\\Jiujang\\TRMM2010_DryYear\\10_Day_Period\\10_DaySums_StdNormAnomalyResClip\\TRMM_JJ_2010227.tif\n",
        "D:\\Data\\0_DAILY_INTERVAL_NDVI_TRMM\\Jiujang\\TRMM2010_DryYear\\10_Day_Period\\10_DaySums_StdNormAnomalyResClip\\TRMM_JJ_2010228.tif\n",
        "D:\\Data\\0_DAILY_INTERVAL_NDVI_TRMM\\Jiujang\\TRMM2010_DryYear\\10_Day_Period\\10_DaySums_StdNormAnomalyResClip\\TRMM_JJ_2010229.tif\n",
        "D:\\Data\\0_DAILY_INTERVAL_NDVI_TRMM\\Jiujang\\TRMM2010_DryYear\\10_Day_Period\\10_DaySums_StdNormAnomalyResClip\\TRMM_JJ_2010230.tif\n",
        "D:\\Data\\0_DAILY_INTERVAL_NDVI_TRMM\\Jiujang\\TRMM2010_DryYear\\10_Day_Period\\10_DaySums_StdNormAnomalyResClip\\TRMM_JJ_2010231.tif"
       ]
      },
      {
       "output_type": "stream",
       "stream": "stdout",
       "text": [
        "\n",
        "D:\\Data\\0_DAILY_INTERVAL_NDVI_TRMM\\Jiujang\\TRMM2010_DryYear\\10_Day_Period\\10_DaySums_StdNormAnomalyResClip\\TRMM_JJ_2010232.tif\n",
        "D:\\Data\\0_DAILY_INTERVAL_NDVI_TRMM\\Jiujang\\TRMM2010_DryYear\\10_Day_Period\\10_DaySums_StdNormAnomalyResClip\\TRMM_JJ_2010233.tif\n",
        "D:\\Data\\0_DAILY_INTERVAL_NDVI_TRMM\\Jiujang\\TRMM2010_DryYear\\10_Day_Period\\10_DaySums_StdNormAnomalyResClip\\TRMM_JJ_2010234.tif\n",
        "D:\\Data\\0_DAILY_INTERVAL_NDVI_TRMM\\Jiujang\\TRMM2010_DryYear\\10_Day_Period\\10_DaySums_StdNormAnomalyResClip\\TRMM_JJ_2010235.tif\n",
        "D:\\Data\\0_DAILY_INTERVAL_NDVI_TRMM\\Jiujang\\TRMM2010_DryYear\\10_Day_Period\\10_DaySums_StdNormAnomalyResClip\\TRMM_JJ_2010236.tif\n",
        "D:\\Data\\0_DAILY_INTERVAL_NDVI_TRMM\\Jiujang\\TRMM2010_DryYear\\10_Day_Period\\10_DaySums_StdNormAnomalyResClip\\TRMM_JJ_2010237.tif\n",
        "D:\\Data\\0_DAILY_INTERVAL_NDVI_TRMM\\Jiujang\\TRMM2010_DryYear\\10_Day_Period\\10_DaySums_StdNormAnomalyResClip\\TRMM_JJ_2010238.tif"
       ]
      },
      {
       "output_type": "stream",
       "stream": "stdout",
       "text": [
        "\n",
        "D:\\Data\\0_DAILY_INTERVAL_NDVI_TRMM\\Jiujang\\TRMM2010_DryYear\\10_Day_Period\\10_DaySums_StdNormAnomalyResClip\\TRMM_JJ_2010239.tif\n",
        "D:\\Data\\0_DAILY_INTERVAL_NDVI_TRMM\\Jiujang\\TRMM2010_DryYear\\10_Day_Period\\10_DaySums_StdNormAnomalyResClip\\TRMM_JJ_2010240.tif\n",
        "D:\\Data\\0_DAILY_INTERVAL_NDVI_TRMM\\Jiujang\\TRMM2010_DryYear\\10_Day_Period\\10_DaySums_StdNormAnomalyResClip\\TRMM_JJ_2010241.tif\n",
        "D:\\Data\\0_DAILY_INTERVAL_NDVI_TRMM\\Jiujang\\TRMM2010_DryYear\\10_Day_Period\\10_DaySums_StdNormAnomalyResClip\\TRMM_JJ_2010242.tif\n",
        "D:\\Data\\0_DAILY_INTERVAL_NDVI_TRMM\\Jiujang\\TRMM2010_DryYear\\10_Day_Period\\10_DaySums_StdNormAnomalyResClip\\TRMM_JJ_2010243.tif\n",
        "D:\\Data\\0_DAILY_INTERVAL_NDVI_TRMM\\Jiujang\\TRMM2010_DryYear\\10_Day_Period\\10_DaySums_StdNormAnomalyResClip\\TRMM_JJ_2010244.tif\n",
        "D:\\Data\\0_DAILY_INTERVAL_NDVI_TRMM\\Jiujang\\TRMM2010_DryYear\\10_Day_Period\\10_DaySums_StdNormAnomalyResClip\\TRMM_JJ_2010245.tif"
       ]
      },
      {
       "output_type": "stream",
       "stream": "stdout",
       "text": [
        "\n",
        "D:\\Data\\0_DAILY_INTERVAL_NDVI_TRMM\\Jiujang\\TRMM2010_DryYear\\10_Day_Period\\10_DaySums_StdNormAnomalyResClip\\TRMM_JJ_2010246.tif\n",
        "D:\\Data\\0_DAILY_INTERVAL_NDVI_TRMM\\Jiujang\\TRMM2010_DryYear\\10_Day_Period\\10_DaySums_StdNormAnomalyResClip\\TRMM_JJ_2010247.tif\n",
        "D:\\Data\\0_DAILY_INTERVAL_NDVI_TRMM\\Jiujang\\TRMM2010_DryYear\\10_Day_Period\\10_DaySums_StdNormAnomalyResClip\\TRMM_JJ_2010248.tif\n",
        "D:\\Data\\0_DAILY_INTERVAL_NDVI_TRMM\\Jiujang\\TRMM2010_DryYear\\10_Day_Period\\10_DaySums_StdNormAnomalyResClip\\TRMM_JJ_2010249.tif\n",
        "D:\\Data\\0_DAILY_INTERVAL_NDVI_TRMM\\Jiujang\\TRMM2010_DryYear\\10_Day_Period\\10_DaySums_StdNormAnomalyResClip\\TRMM_JJ_2010250.tif\n",
        "D:\\Data\\0_DAILY_INTERVAL_NDVI_TRMM\\Jiujang\\TRMM2010_DryYear\\10_Day_Period\\10_DaySums_StdNormAnomalyResClip\\TRMM_JJ_2010251.tif\n",
        "D:\\Data\\0_DAILY_INTERVAL_NDVI_TRMM\\Jiujang\\TRMM2010_DryYear\\10_Day_Period\\10_DaySums_StdNormAnomalyResClip\\TRMM_JJ_2010252.tif"
       ]
      },
      {
       "output_type": "stream",
       "stream": "stdout",
       "text": [
        "\n",
        "D:\\Data\\0_DAILY_INTERVAL_NDVI_TRMM\\Jiujang\\TRMM2010_DryYear\\10_Day_Period\\10_DaySums_StdNormAnomalyResClip\\TRMM_JJ_2010253.tif\n",
        "D:\\Data\\0_DAILY_INTERVAL_NDVI_TRMM\\Jiujang\\TRMM2010_DryYear\\10_Day_Period\\10_DaySums_StdNormAnomalyResClip\\TRMM_JJ_2010254.tif\n",
        "D:\\Data\\0_DAILY_INTERVAL_NDVI_TRMM\\Jiujang\\TRMM2010_DryYear\\10_Day_Period\\10_DaySums_StdNormAnomalyResClip\\TRMM_JJ_2010255.tif\n",
        "D:\\Data\\0_DAILY_INTERVAL_NDVI_TRMM\\Jiujang\\TRMM2010_DryYear\\10_Day_Period\\10_DaySums_StdNormAnomalyResClip\\TRMM_JJ_2010256.tif\n",
        "D:\\Data\\0_DAILY_INTERVAL_NDVI_TRMM\\Jiujang\\TRMM2010_DryYear\\10_Day_Period\\10_DaySums_StdNormAnomalyResClip\\TRMM_JJ_2010257.tif\n",
        "D:\\Data\\0_DAILY_INTERVAL_NDVI_TRMM\\Jiujang\\TRMM2010_DryYear\\10_Day_Period\\10_DaySums_StdNormAnomalyResClip\\TRMM_JJ_2010258.tif\n",
        "D:\\Data\\0_DAILY_INTERVAL_NDVI_TRMM\\Jiujang\\TRMM2010_DryYear\\10_Day_Period\\10_DaySums_StdNormAnomalyResClip\\TRMM_JJ_2010259.tif"
       ]
      },
      {
       "output_type": "stream",
       "stream": "stdout",
       "text": [
        "\n",
        "D:\\Data\\0_DAILY_INTERVAL_NDVI_TRMM\\Jiujang\\TRMM2010_DryYear\\10_Day_Period\\10_DaySums_StdNormAnomalyResClip\\TRMM_JJ_2010260.tif\n",
        "D:\\Data\\0_DAILY_INTERVAL_NDVI_TRMM\\Jiujang\\TRMM2010_DryYear\\10_Day_Period\\10_DaySums_StdNormAnomalyResClip\\TRMM_JJ_2010261.tif\n",
        "D:\\Data\\0_DAILY_INTERVAL_NDVI_TRMM\\Jiujang\\TRMM2010_DryYear\\10_Day_Period\\10_DaySums_StdNormAnomalyResClip\\TRMM_JJ_2010262.tif\n",
        "D:\\Data\\0_DAILY_INTERVAL_NDVI_TRMM\\Jiujang\\TRMM2010_DryYear\\10_Day_Period\\10_DaySums_StdNormAnomalyResClip\\TRMM_JJ_2010263.tif\n",
        "D:\\Data\\0_DAILY_INTERVAL_NDVI_TRMM\\Jiujang\\TRMM2010_DryYear\\10_Day_Period\\10_DaySums_StdNormAnomalyResClip\\TRMM_JJ_2010264.tif\n",
        "D:\\Data\\0_DAILY_INTERVAL_NDVI_TRMM\\Jiujang\\TRMM2010_DryYear\\10_Day_Period\\10_DaySums_StdNormAnomalyResClip\\TRMM_JJ_2010265.tif\n",
        "D:\\Data\\0_DAILY_INTERVAL_NDVI_TRMM\\Jiujang\\TRMM2010_DryYear\\10_Day_Period\\10_DaySums_StdNormAnomalyResClip\\TRMM_JJ_2010266.tif"
       ]
      },
      {
       "output_type": "stream",
       "stream": "stdout",
       "text": [
        "\n",
        "D:\\Data\\0_DAILY_INTERVAL_NDVI_TRMM\\Jiujang\\TRMM2010_DryYear\\10_Day_Period\\10_DaySums_StdNormAnomalyResClip\\TRMM_JJ_2010267.tif\n",
        "D:\\Data\\0_DAILY_INTERVAL_NDVI_TRMM\\Jiujang\\TRMM2010_DryYear\\10_Day_Period\\10_DaySums_StdNormAnomalyResClip\\TRMM_JJ_2010268.tif\n",
        "D:\\Data\\0_DAILY_INTERVAL_NDVI_TRMM\\Jiujang\\TRMM2010_DryYear\\10_Day_Period\\10_DaySums_StdNormAnomalyResClip\\TRMM_JJ_2010269.tif\n",
        "D:\\Data\\0_DAILY_INTERVAL_NDVI_TRMM\\Jiujang\\TRMM2010_DryYear\\10_Day_Period\\10_DaySums_StdNormAnomalyResClip\\TRMM_JJ_2010270.tif\n",
        "D:\\Data\\0_DAILY_INTERVAL_NDVI_TRMM\\Jiujang\\TRMM2010_DryYear\\10_Day_Period\\10_DaySums_StdNormAnomalyResClip\\TRMM_JJ_2010271.tif\n",
        "D:\\Data\\0_DAILY_INTERVAL_NDVI_TRMM\\Jiujang\\TRMM2010_DryYear\\10_Day_Period\\10_DaySums_StdNormAnomalyResClip\\TRMM_JJ_2010272.tif\n",
        "D:\\Data\\0_DAILY_INTERVAL_NDVI_TRMM\\Jiujang\\TRMM2010_DryYear\\10_Day_Period\\10_DaySums_StdNormAnomalyResClip\\TRMM_JJ_2010273.tif"
       ]
      },
      {
       "output_type": "stream",
       "stream": "stdout",
       "text": [
        "\n",
        "D:\\Data\\0_DAILY_INTERVAL_NDVI_TRMM\\Jiujang\\TRMM2010_DryYear\\10_Day_Period\\10_DaySums_StdNormAnomalyResClip\\TRMM_JJ_2010274.tif\n",
        "D:\\Data\\0_DAILY_INTERVAL_NDVI_TRMM\\Jiujang\\TRMM2010_DryYear\\10_Day_Period\\10_DaySums_StdNormAnomalyResClip\\TRMM_JJ_2010275.tif\n",
        "D:\\Data\\0_DAILY_INTERVAL_NDVI_TRMM\\Jiujang\\TRMM2010_DryYear\\10_Day_Period\\10_DaySums_StdNormAnomalyResClip\\TRMM_JJ_2010276.tif\n",
        "D:\\Data\\0_DAILY_INTERVAL_NDVI_TRMM\\Jiujang\\TRMM2010_DryYear\\10_Day_Period\\10_DaySums_StdNormAnomalyResClip\\TRMM_JJ_2010277.tif\n",
        "D:\\Data\\0_DAILY_INTERVAL_NDVI_TRMM\\Jiujang\\TRMM2010_DryYear\\10_Day_Period\\10_DaySums_StdNormAnomalyResClip\\TRMM_JJ_2010278.tif\n",
        "D:\\Data\\0_DAILY_INTERVAL_NDVI_TRMM\\Jiujang\\TRMM2010_DryYear\\10_Day_Period\\10_DaySums_StdNormAnomalyResClip\\TRMM_JJ_2010279.tif\n",
        "D:\\Data\\0_DAILY_INTERVAL_NDVI_TRMM\\Jiujang\\TRMM2010_DryYear\\10_Day_Period\\10_DaySums_StdNormAnomalyResClip\\TRMM_JJ_2010280.tif"
       ]
      },
      {
       "output_type": "stream",
       "stream": "stdout",
       "text": [
        "\n",
        "D:\\Data\\0_DAILY_INTERVAL_NDVI_TRMM\\Jiujang\\TRMM2010_DryYear\\10_Day_Period\\10_DaySums_StdNormAnomalyResClip\\TRMM_JJ_2010281.tif\n",
        "D:\\Data\\0_DAILY_INTERVAL_NDVI_TRMM\\Jiujang\\TRMM2010_DryYear\\10_Day_Period\\10_DaySums_StdNormAnomalyResClip\\TRMM_JJ_2010282.tif\n",
        "D:\\Data\\0_DAILY_INTERVAL_NDVI_TRMM\\Jiujang\\TRMM2010_DryYear\\10_Day_Period\\10_DaySums_StdNormAnomalyResClip\\TRMM_JJ_2010283.tif\n",
        "D:\\Data\\0_DAILY_INTERVAL_NDVI_TRMM\\Jiujang\\TRMM2010_DryYear\\10_Day_Period\\10_DaySums_StdNormAnomalyResClip\\TRMM_JJ_2010284.tif\n",
        "D:\\Data\\0_DAILY_INTERVAL_NDVI_TRMM\\Jiujang\\TRMM2010_DryYear\\10_Day_Period\\10_DaySums_StdNormAnomalyResClip\\TRMM_JJ_2010285.tif\n",
        "D:\\Data\\0_DAILY_INTERVAL_NDVI_TRMM\\Jiujang\\TRMM2010_DryYear\\10_Day_Period\\10_DaySums_StdNormAnomalyResClip\\TRMM_JJ_2010286.tif\n",
        "D:\\Data\\0_DAILY_INTERVAL_NDVI_TRMM\\Jiujang\\TRMM2010_DryYear\\10_Day_Period\\10_DaySums_StdNormAnomalyResClip\\TRMM_JJ_2010287.tif"
       ]
      },
      {
       "output_type": "stream",
       "stream": "stdout",
       "text": [
        "\n",
        "D:\\Data\\0_DAILY_INTERVAL_NDVI_TRMM\\Jiujang\\TRMM2010_DryYear\\10_Day_Period\\10_DaySums_StdNormAnomalyResClip\\TRMM_JJ_2010288.tif\n",
        "D:\\Data\\0_DAILY_INTERVAL_NDVI_TRMM\\Jiujang\\TRMM2010_DryYear\\10_Day_Period\\10_DaySums_StdNormAnomalyResClip\\TRMM_JJ_2010289.tif\n",
        "D:\\Data\\0_DAILY_INTERVAL_NDVI_TRMM\\Jiujang\\TRMM2010_DryYear\\10_Day_Period\\10_DaySums_StdNormAnomalyResClip\\TRMM_JJ_2010290.tif\n",
        "D:\\Data\\0_DAILY_INTERVAL_NDVI_TRMM\\Jiujang\\TRMM2010_DryYear\\10_Day_Period\\10_DaySums_StdNormAnomalyResClip\\TRMM_JJ_2010291.tif\n",
        "D:\\Data\\0_DAILY_INTERVAL_NDVI_TRMM\\Jiujang\\TRMM2010_DryYear\\10_Day_Period\\10_DaySums_StdNormAnomalyResClip\\TRMM_JJ_2010292.tif\n",
        "D:\\Data\\0_DAILY_INTERVAL_NDVI_TRMM\\Jiujang\\TRMM2010_DryYear\\10_Day_Period\\10_DaySums_StdNormAnomalyResClip\\TRMM_JJ_2010293.tif\n",
        "D:\\Data\\0_DAILY_INTERVAL_NDVI_TRMM\\Jiujang\\TRMM2010_DryYear\\10_Day_Period\\10_DaySums_StdNormAnomalyResClip\\TRMM_JJ_2010294.tif"
       ]
      },
      {
       "output_type": "stream",
       "stream": "stdout",
       "text": [
        "\n",
        "D:\\Data\\0_DAILY_INTERVAL_NDVI_TRMM\\Jiujang\\TRMM2010_DryYear\\10_Day_Period\\10_DaySums_StdNormAnomalyResClip\\TRMM_JJ_2010295.tif\n",
        "D:\\Data\\0_DAILY_INTERVAL_NDVI_TRMM\\Jiujang\\TRMM2010_DryYear\\10_Day_Period\\10_DaySums_StdNormAnomalyResClip\\TRMM_JJ_2010296.tif\n",
        "D:\\Data\\0_DAILY_INTERVAL_NDVI_TRMM\\Jiujang\\TRMM2010_DryYear\\10_Day_Period\\10_DaySums_StdNormAnomalyResClip\\TRMM_JJ_2010297.tif\n",
        "D:\\Data\\0_DAILY_INTERVAL_NDVI_TRMM\\Jiujang\\TRMM2010_DryYear\\10_Day_Period\\10_DaySums_StdNormAnomalyResClip\\TRMM_JJ_2010298.tif\n",
        "D:\\Data\\0_DAILY_INTERVAL_NDVI_TRMM\\Jiujang\\TRMM2010_DryYear\\10_Day_Period\\10_DaySums_StdNormAnomalyResClip\\TRMM_JJ_2010299.tif\n",
        "D:\\Data\\0_DAILY_INTERVAL_NDVI_TRMM\\Jiujang\\TRMM2010_DryYear\\10_Day_Period\\10_DaySums_StdNormAnomalyResClip\\TRMM_JJ_2010300.tif\n",
        "D:\\Data\\0_DAILY_INTERVAL_NDVI_TRMM\\Jiujang\\TRMM2010_DryYear\\10_Day_Period\\10_DaySums_StdNormAnomalyResClip\\TRMM_JJ_2010301.tif"
       ]
      },
      {
       "output_type": "stream",
       "stream": "stdout",
       "text": [
        "\n",
        "D:\\Data\\0_DAILY_INTERVAL_NDVI_TRMM\\Jiujang\\TRMM2010_DryYear\\10_Day_Period\\10_DaySums_StdNormAnomalyResClip\\TRMM_JJ_2010302.tif\n",
        "D:\\Data\\0_DAILY_INTERVAL_NDVI_TRMM\\Jiujang\\TRMM2010_DryYear\\10_Day_Period\\10_DaySums_StdNormAnomalyResClip\\TRMM_JJ_2010303.tif\n",
        "D:\\Data\\0_DAILY_INTERVAL_NDVI_TRMM\\Jiujang\\TRMM2010_DryYear\\10_Day_Period\\10_DaySums_StdNormAnomalyResClip\\TRMM_JJ_2010304.tif\n",
        "D:\\Data\\0_DAILY_INTERVAL_NDVI_TRMM\\Jiujang\\TRMM2010_DryYear\\10_Day_Period\\10_DaySums_StdNormAnomalyResClip\\TRMM_JJ_2010305.tif\n",
        "D:\\Data\\0_DAILY_INTERVAL_NDVI_TRMM\\Jiujang\\TRMM2010_DryYear\\10_Day_Period\\10_DaySums_StdNormAnomalyResClip\\TRMM_JJ_2010306.tif\n",
        "D:\\Data\\0_DAILY_INTERVAL_NDVI_TRMM\\Jiujang\\TRMM2010_DryYear\\10_Day_Period\\10_DaySums_StdNormAnomalyResClip\\TRMM_JJ_2010307.tif\n",
        "D:\\Data\\0_DAILY_INTERVAL_NDVI_TRMM\\Jiujang\\TRMM2010_DryYear\\10_Day_Period\\10_DaySums_StdNormAnomalyResClip\\TRMM_JJ_2010308.tif"
       ]
      },
      {
       "output_type": "stream",
       "stream": "stdout",
       "text": [
        "\n",
        "D:\\Data\\0_DAILY_INTERVAL_NDVI_TRMM\\Jiujang\\TRMM2010_DryYear\\10_Day_Period\\10_DaySums_StdNormAnomalyResClip\\TRMM_JJ_2010309.tif\n",
        "D:\\Data\\0_DAILY_INTERVAL_NDVI_TRMM\\Jiujang\\TRMM2010_DryYear\\10_Day_Period\\10_DaySums_StdNormAnomalyResClip\\TRMM_JJ_2010310.tif\n",
        "D:\\Data\\0_DAILY_INTERVAL_NDVI_TRMM\\Jiujang\\TRMM2010_DryYear\\10_Day_Period\\10_DaySums_StdNormAnomalyResClip\\TRMM_JJ_2010311.tif\n",
        "D:\\Data\\0_DAILY_INTERVAL_NDVI_TRMM\\Jiujang\\TRMM2010_DryYear\\10_Day_Period\\10_DaySums_StdNormAnomalyResClip\\TRMM_JJ_2010312.tif\n",
        "D:\\Data\\0_DAILY_INTERVAL_NDVI_TRMM\\Jiujang\\TRMM2010_DryYear\\10_Day_Period\\10_DaySums_StdNormAnomalyResClip\\TRMM_JJ_2010313.tif\n",
        "D:\\Data\\0_DAILY_INTERVAL_NDVI_TRMM\\Jiujang\\TRMM2010_DryYear\\10_Day_Period\\10_DaySums_StdNormAnomalyResClip\\TRMM_JJ_2010314.tif\n",
        "D:\\Data\\0_DAILY_INTERVAL_NDVI_TRMM\\Jiujang\\TRMM2010_DryYear\\10_Day_Period\\10_DaySums_StdNormAnomalyResClip\\TRMM_JJ_2010315.tif"
       ]
      },
      {
       "output_type": "stream",
       "stream": "stdout",
       "text": [
        "\n",
        "D:\\Data\\0_DAILY_INTERVAL_NDVI_TRMM\\Jiujang\\TRMM2010_DryYear\\10_Day_Period\\10_DaySums_StdNormAnomalyResClip\\TRMM_JJ_2010316.tif\n",
        "D:\\Data\\0_DAILY_INTERVAL_NDVI_TRMM\\Jiujang\\TRMM2010_DryYear\\10_Day_Period\\10_DaySums_StdNormAnomalyResClip\\TRMM_JJ_2010317.tif\n",
        "D:\\Data\\0_DAILY_INTERVAL_NDVI_TRMM\\Jiujang\\TRMM2010_DryYear\\10_Day_Period\\10_DaySums_StdNormAnomalyResClip\\TRMM_JJ_2010318.tif\n",
        "D:\\Data\\0_DAILY_INTERVAL_NDVI_TRMM\\Jiujang\\TRMM2010_DryYear\\10_Day_Period\\10_DaySums_StdNormAnomalyResClip\\TRMM_JJ_2010319.tif\n",
        "D:\\Data\\0_DAILY_INTERVAL_NDVI_TRMM\\Jiujang\\TRMM2010_DryYear\\10_Day_Period\\10_DaySums_StdNormAnomalyResClip\\TRMM_JJ_2010320.tif\n",
        "D:\\Data\\0_DAILY_INTERVAL_NDVI_TRMM\\Jiujang\\TRMM2010_DryYear\\10_Day_Period\\10_DaySums_StdNormAnomalyResClip\\TRMM_JJ_2010321.tif\n",
        "D:\\Data\\0_DAILY_INTERVAL_NDVI_TRMM\\Jiujang\\TRMM2010_DryYear\\10_Day_Period\\10_DaySums_StdNormAnomalyResClip\\TRMM_JJ_2010322.tif"
       ]
      },
      {
       "output_type": "stream",
       "stream": "stdout",
       "text": [
        "\n",
        "D:\\Data\\0_DAILY_INTERVAL_NDVI_TRMM\\Jiujang\\TRMM2010_DryYear\\10_Day_Period\\10_DaySums_StdNormAnomalyResClip\\TRMM_JJ_2010323.tif\n",
        "D:\\Data\\0_DAILY_INTERVAL_NDVI_TRMM\\Jiujang\\TRMM2010_DryYear\\10_Day_Period\\10_DaySums_StdNormAnomalyResClip\\TRMM_JJ_2010324.tif\n",
        "D:\\Data\\0_DAILY_INTERVAL_NDVI_TRMM\\Jiujang\\TRMM2010_DryYear\\10_Day_Period\\10_DaySums_StdNormAnomalyResClip\\TRMM_JJ_2010325.tif\n",
        "D:\\Data\\0_DAILY_INTERVAL_NDVI_TRMM\\Jiujang\\TRMM2010_DryYear\\10_Day_Period\\10_DaySums_StdNormAnomalyResClip\\TRMM_JJ_2010326.tif\n",
        "D:\\Data\\0_DAILY_INTERVAL_NDVI_TRMM\\Jiujang\\TRMM2010_DryYear\\10_Day_Period\\10_DaySums_StdNormAnomalyResClip\\TRMM_JJ_2010327.tif\n",
        "D:\\Data\\0_DAILY_INTERVAL_NDVI_TRMM\\Jiujang\\TRMM2010_DryYear\\10_Day_Period\\10_DaySums_StdNormAnomalyResClip\\TRMM_JJ_2010328.tif\n",
        "D:\\Data\\0_DAILY_INTERVAL_NDVI_TRMM\\Jiujang\\TRMM2010_DryYear\\10_Day_Period\\10_DaySums_StdNormAnomalyResClip\\TRMM_JJ_2010329.tif"
       ]
      },
      {
       "output_type": "stream",
       "stream": "stdout",
       "text": [
        "\n",
        "D:\\Data\\0_DAILY_INTERVAL_NDVI_TRMM\\Jiujang\\TRMM2010_DryYear\\10_Day_Period\\10_DaySums_StdNormAnomalyResClip\\TRMM_JJ_2010330.tif"
       ]
      },
      {
       "output_type": "stream",
       "stream": "stdout",
       "text": [
        "\n",
        "D:\\Data\\0_DAILY_INTERVAL_NDVI_TRMM\\Jiujang\\TRMM2010_DryYear\\10_Day_Period\\10_DaySums_StdNormAnomalyResClip\\TRMM_JJ_2010331.tif\n",
        "D:\\Data\\0_DAILY_INTERVAL_NDVI_TRMM\\Jiujang\\TRMM2010_DryYear\\10_Day_Period\\10_DaySums_StdNormAnomalyResClip\\TRMM_JJ_2010332.tif"
       ]
      },
      {
       "output_type": "stream",
       "stream": "stdout",
       "text": [
        "\n",
        "D:\\Data\\0_DAILY_INTERVAL_NDVI_TRMM\\Jiujang\\TRMM2010_DryYear\\10_Day_Period\\10_DaySums_StdNormAnomalyResClip\\TRMM_JJ_2010333.tif\n",
        "D:\\Data\\0_DAILY_INTERVAL_NDVI_TRMM\\Jiujang\\TRMM2010_DryYear\\10_Day_Period\\10_DaySums_StdNormAnomalyResClip\\TRMM_JJ_2010334.tif\n",
        "D:\\Data\\0_DAILY_INTERVAL_NDVI_TRMM\\Jiujang\\TRMM2010_DryYear\\10_Day_Period\\10_DaySums_StdNormAnomalyResClip\\TRMM_JJ_2010335.tif\n",
        "D:\\Data\\0_DAILY_INTERVAL_NDVI_TRMM\\Jiujang\\TRMM2010_DryYear\\10_Day_Period\\10_DaySums_StdNormAnomalyResClip\\TRMM_JJ_2010336.tif\n",
        "D:\\Data\\0_DAILY_INTERVAL_NDVI_TRMM\\Jiujang\\TRMM2010_DryYear\\10_Day_Period\\10_DaySums_StdNormAnomalyResClip\\TRMM_JJ_2010337.tif\n",
        "D:\\Data\\0_DAILY_INTERVAL_NDVI_TRMM\\Jiujang\\TRMM2010_DryYear\\10_Day_Period\\10_DaySums_StdNormAnomalyResClip\\TRMM_JJ_2010338.tif\n",
        "D:\\Data\\0_DAILY_INTERVAL_NDVI_TRMM\\Jiujang\\TRMM2010_DryYear\\10_Day_Period\\10_DaySums_StdNormAnomalyResClip\\TRMM_JJ_2010339.tif"
       ]
      },
      {
       "output_type": "stream",
       "stream": "stdout",
       "text": [
        "\n",
        "D:\\Data\\0_DAILY_INTERVAL_NDVI_TRMM\\Jiujang\\TRMM2010_DryYear\\10_Day_Period\\10_DaySums_StdNormAnomalyResClip\\TRMM_JJ_2010340.tif\n",
        "D:\\Data\\0_DAILY_INTERVAL_NDVI_TRMM\\Jiujang\\TRMM2010_DryYear\\10_Day_Period\\10_DaySums_StdNormAnomalyResClip\\TRMM_JJ_2010341.tif\n",
        "D:\\Data\\0_DAILY_INTERVAL_NDVI_TRMM\\Jiujang\\TRMM2010_DryYear\\10_Day_Period\\10_DaySums_StdNormAnomalyResClip\\TRMM_JJ_2010342.tif\n",
        "D:\\Data\\0_DAILY_INTERVAL_NDVI_TRMM\\Jiujang\\TRMM2010_DryYear\\10_Day_Period\\10_DaySums_StdNormAnomalyResClip\\TRMM_JJ_2010343.tif\n",
        "D:\\Data\\0_DAILY_INTERVAL_NDVI_TRMM\\Jiujang\\TRMM2010_DryYear\\10_Day_Period\\10_DaySums_StdNormAnomalyResClip\\TRMM_JJ_2010344.tif\n",
        "D:\\Data\\0_DAILY_INTERVAL_NDVI_TRMM\\Jiujang\\TRMM2010_DryYear\\10_Day_Period\\10_DaySums_StdNormAnomalyResClip\\TRMM_JJ_2010345.tif\n",
        "D:\\Data\\0_DAILY_INTERVAL_NDVI_TRMM\\Jiujang\\TRMM2010_DryYear\\10_Day_Period\\10_DaySums_StdNormAnomalyResClip\\TRMM_JJ_2010346.tif"
       ]
      },
      {
       "output_type": "stream",
       "stream": "stdout",
       "text": [
        "\n",
        "D:\\Data\\0_DAILY_INTERVAL_NDVI_TRMM\\Jiujang\\TRMM2010_DryYear\\10_Day_Period\\10_DaySums_StdNormAnomalyResClip\\TRMM_JJ_2010347.tif\n",
        "D:\\Data\\0_DAILY_INTERVAL_NDVI_TRMM\\Jiujang\\TRMM2010_DryYear\\10_Day_Period\\10_DaySums_StdNormAnomalyResClip\\TRMM_JJ_2010348.tif\n",
        "D:\\Data\\0_DAILY_INTERVAL_NDVI_TRMM\\Jiujang\\TRMM2010_DryYear\\10_Day_Period\\10_DaySums_StdNormAnomalyResClip\\TRMM_JJ_2010349.tif\n",
        "D:\\Data\\0_DAILY_INTERVAL_NDVI_TRMM\\Jiujang\\TRMM2010_DryYear\\10_Day_Period\\10_DaySums_StdNormAnomalyResClip\\TRMM_JJ_2010350.tif\n",
        "D:\\Data\\0_DAILY_INTERVAL_NDVI_TRMM\\Jiujang\\TRMM2010_DryYear\\10_Day_Period\\10_DaySums_StdNormAnomalyResClip\\TRMM_JJ_2010351.tif\n",
        "D:\\Data\\0_DAILY_INTERVAL_NDVI_TRMM\\Jiujang\\TRMM2010_DryYear\\10_Day_Period\\10_DaySums_StdNormAnomalyResClip\\TRMM_JJ_2010352.tif\n",
        "D:\\Data\\0_DAILY_INTERVAL_NDVI_TRMM\\Jiujang\\TRMM2010_DryYear\\10_Day_Period\\10_DaySums_StdNormAnomalyResClip\\TRMM_JJ_2010353.tif"
       ]
      },
      {
       "output_type": "stream",
       "stream": "stdout",
       "text": [
        "\n",
        "D:\\Data\\0_DAILY_INTERVAL_NDVI_TRMM\\Jiujang\\TRMM2010_DryYear\\10_Day_Period\\10_DaySums_StdNormAnomalyResClip\\TRMM_JJ_2010354.tif\n",
        "D:\\Data\\0_DAILY_INTERVAL_NDVI_TRMM\\Jiujang\\TRMM2010_DryYear\\10_Day_Period\\10_DaySums_StdNormAnomalyResClip\\TRMM_JJ_2010355.tif\n",
        "D:\\Data\\0_DAILY_INTERVAL_NDVI_TRMM\\Jiujang\\TRMM2010_DryYear\\10_Day_Period\\10_DaySums_StdNormAnomalyResClip\\TRMM_JJ_2010356.tif\n",
        "D:\\Data\\0_DAILY_INTERVAL_NDVI_TRMM\\Jiujang\\TRMM2010_DryYear\\10_Day_Period\\10_DaySums_StdNormAnomalyResClip\\TRMM_JJ_2010357.tif\n",
        "D:\\Data\\0_DAILY_INTERVAL_NDVI_TRMM\\Jiujang\\TRMM2010_DryYear\\10_Day_Period\\10_DaySums_StdNormAnomalyResClip\\TRMM_JJ_2010358.tif\n",
        "D:\\Data\\0_DAILY_INTERVAL_NDVI_TRMM\\Jiujang\\TRMM2010_DryYear\\10_Day_Period\\10_DaySums_StdNormAnomalyResClip\\TRMM_JJ_2010359.tif\n",
        "D:\\Data\\0_DAILY_INTERVAL_NDVI_TRMM\\Jiujang\\TRMM2010_DryYear\\10_Day_Period\\10_DaySums_StdNormAnomalyResClip\\TRMM_JJ_2010360.tif"
       ]
      },
      {
       "output_type": "stream",
       "stream": "stdout",
       "text": [
        "\n",
        "D:\\Data\\0_DAILY_INTERVAL_NDVI_TRMM\\Jiujang\\TRMM2010_DryYear\\10_Day_Period\\10_DaySums_StdNormAnomalyResClip\\TRMM_JJ_2010361.tif\n",
        "D:\\Data\\0_DAILY_INTERVAL_NDVI_TRMM\\Jiujang\\TRMM2010_DryYear\\10_Day_Period\\10_DaySums_StdNormAnomalyResClip\\TRMM_JJ_2010362.tif\n",
        "D:\\Data\\0_DAILY_INTERVAL_NDVI_TRMM\\Jiujang\\TRMM2010_DryYear\\10_Day_Period\\10_DaySums_StdNormAnomalyResClip\\TRMM_JJ_2010363.tif\n",
        "D:\\Data\\0_DAILY_INTERVAL_NDVI_TRMM\\Jiujang\\TRMM2010_DryYear\\10_Day_Period\\10_DaySums_StdNormAnomalyResClip\\TRMM_JJ_2010364.tif\n",
        "D:\\Data\\0_DAILY_INTERVAL_NDVI_TRMM\\Jiujang\\TRMM2010_DryYear\\10_Day_Period\\10_DaySums_StdNormAnomalyResClip\\TRMM_JJ_2010365.tif\n"
       ]
      }
     ],
     "prompt_number": 31
    }
   ],
   "metadata": {}
  }
 ]
}