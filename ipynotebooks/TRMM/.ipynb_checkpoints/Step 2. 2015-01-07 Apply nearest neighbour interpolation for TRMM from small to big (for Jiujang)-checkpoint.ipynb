{
 "metadata": {
  "name": "",
  "signature": "sha256:a837f2a60187df2d5b62cf4bd036ac76a2d8fb4dadc1a5fde70ac9a0ba435caa"
 },
 "nbformat": 3,
 "nbformat_minor": 0,
 "worksheets": [
  {
   "cells": [
    {
     "cell_type": "code",
     "collapsed": false,
     "input": [
      "import os\n",
      "from osgeo import gdal, gdalconst\n",
      "import numpy as np\n",
      "import scipy.ndimage\n",
      "\n",
      "def FilesFolder(inGSODFolder, format_end=''):\n",
      "    st_wmo = [os.path.join(root, name)\n",
      "               for root, dirs, files in os.walk(inGSODFolder)\n",
      "                 for name in files                 \n",
      "                 if name.endswith(format_end)]\n",
      "    return st_wmo\n",
      "\n",
      "def OpenRaster(filepath, band=1):\n",
      "    \"\"\"\n",
      "    In:\n",
      "    filepath = path to file\n",
      "    band     = 1\n",
      "\n",
      "    Return:\n",
      "    raster   = raster info\n",
      "    array    = numpy array\n",
      "    extent   = extent info\n",
      "    \"\"\"\n",
      "    raster = gdal.Open(filepath, gdal.GA_ReadOnly)\n",
      "    band = raster.GetRasterBand(band)\n",
      "    array = band.ReadAsArray()\n",
      "    extent = raster.GetGeoTransform()\n",
      "    return raster, array, extent\n",
      "\n",
      "def saveRaster(path, array, dsSource, datatype=3, formatraster=\"GTiff\", nan=None): \n",
      "    \"\"\"\n",
      "    Datatypes:\n",
      "    unknown = 0\n",
      "    byte = 1\n",
      "    unsigned int16 = 2\n",
      "    signed int16 = 3\n",
      "    unsigned int32 = 4\n",
      "    signed int32 = 5\n",
      "    float32 = 6\n",
      "    float64 = 7\n",
      "    complex int16 = 8\n",
      "    complex int32 = 9\n",
      "    complex float32 = 10\n",
      "    complex float64 = 11\n",
      "    float32 = 6, \n",
      "    signed int = 3\n",
      "    \n",
      "    Formatraster:\n",
      "    GeoTIFF = GTiff\n",
      "    Erdas = HFA (output = .img)\n",
      "    OGC web map service = WMS\n",
      "    png = PNG\n",
      "    \"\"\"\n",
      "    # Set Driver\n",
      "    format_ = formatraster #save as format\n",
      "    driver = gdal.GetDriverByName( format_ )\n",
      "    driver.Register()\n",
      "    \n",
      "    # Set Metadata for Raster output\n",
      "    cols = dsSource.RasterXSize * 25\n",
      "    rows = dsSource.RasterYSize * 25\n",
      "    bands = dsSource.RasterCount\n",
      "    datatype = datatype#band.DataType\n",
      "    \n",
      "    # Set Projection for Raster\n",
      "    outDataset = driver.Create(path, cols, rows, bands, datatype)\n",
      "    #geoTransform = dsSource.GetGeoTransform()\n",
      "    GT = dsSource.GetGeoTransform()\n",
      "    geoTransform = (GT[0], GT[1] / 25, GT[2], GT[3], GT[4], GT[-1] / 25)\n",
      "    \n",
      "    outDataset.SetGeoTransform(geoTransform)\n",
      "    proj = dsSource.GetProjection()\n",
      "    outDataset.SetProjection(proj)\n",
      "    \n",
      "    # Write output to band 1 of new Raster and write NaN value\n",
      "    outBand = outDataset.GetRasterBand(1)\n",
      "    if nan != None:\n",
      "        outBand.SetNoDataValue(nan)\n",
      "    outBand.WriteArray(array) #save input array\n",
      "    #outBand.WriteArray(dem)\n",
      "    \n",
      "    # Close and finalise newly created Raster\n",
      "    #F_M01 = None\n",
      "    outBand = None\n",
      "    proj = None\n",
      "    geoTransform = None\n",
      "    outDataset = None\n",
      "    driver = None\n",
      "    datatype = None\n",
      "    bands = None\n",
      "    rows = None\n",
      "    cols = None\n",
      "    driver = None\n",
      "    array = None"
     ],
     "language": "python",
     "metadata": {},
     "outputs": [],
     "prompt_number": 40
    },
    {
     "cell_type": "markdown",
     "metadata": {},
     "source": [
      "For Jiujang"
     ]
    },
    {
     "cell_type": "code",
     "collapsed": false,
     "input": [
      "foldertif = r'D:\\Data\\0_DAILY_INTERVAL_NDVI_TRMM\\Jiujang\\TRMM2007_WetYear\\10_Day_Period\\10_DaySums_StdNormAnomaly'\n",
      "outfolderresample = r'D:\\Data\\0_DAILY_INTERVAL_NDVI_TRMM\\Jiujang\\TRMM2007_WetYear\\10_Day_Period\\10_DaySums_StdNormAnomalyRes//'\n",
      "tiffiles = FilesFolder(foldertif, '.tif')\n",
      "tiffiles[1]"
     ],
     "language": "python",
     "metadata": {},
     "outputs": [
      {
       "metadata": {},
       "output_type": "pyout",
       "prompt_number": 41,
       "text": [
        "'D:\\\\Data\\\\0_DAILY_INTERVAL_NDVI_TRMM\\\\Jiujang\\\\TRMM2007_WetYear\\\\10_Day_Period\\\\10_DaySums_StdNormAnomaly\\\\TRMM_JJ_2007002.tif'"
       ]
      }
     ],
     "prompt_number": 41
    },
    {
     "cell_type": "code",
     "collapsed": false,
     "input": [
      "for i in tiffiles:\n",
      "    out = i[-19::]\n",
      "    path = outfolderresample + out + '.tif'\n",
      "    raster,array,extent=OpenRaster(i)\n",
      "    array_new = scipy.ndimage.zoom(array, 25, order=0)\n",
      "    saveRaster(path, array_new,raster,6)\n",
      "    print (path)"
     ],
     "language": "python",
     "metadata": {},
     "outputs": [
      {
       "output_type": "stream",
       "stream": "stdout",
       "text": [
        "D:\\Data\\0_DAILY_INTERVAL_NDVI_TRMM\\Jiujang\\TRMM2007_WetYear\\10_Day_Period\\10_DaySums_StdNormAnomalyRes//TRMM_JJ_2007001.tif.tif\n",
        "D:\\Data\\0_DAILY_INTERVAL_NDVI_TRMM\\Jiujang\\TRMM2007_WetYear\\10_Day_Period\\10_DaySums_StdNormAnomalyRes//TRMM_JJ_2007002.tif.tif\n",
        "D:\\Data\\0_DAILY_INTERVAL_NDVI_TRMM\\Jiujang\\TRMM2007_WetYear\\10_Day_Period\\10_DaySums_StdNormAnomalyRes//TRMM_JJ_2007003.tif.tif\n",
        "D:\\Data\\0_DAILY_INTERVAL_NDVI_TRMM\\Jiujang\\TRMM2007_WetYear\\10_Day_Period\\10_DaySums_StdNormAnomalyRes//TRMM_JJ_2007004.tif.tif"
       ]
      },
      {
       "output_type": "stream",
       "stream": "stdout",
       "text": [
        "\n",
        "D:\\Data\\0_DAILY_INTERVAL_NDVI_TRMM\\Jiujang\\TRMM2007_WetYear\\10_Day_Period\\10_DaySums_StdNormAnomalyRes//TRMM_JJ_2007005.tif.tif\n",
        "D:\\Data\\0_DAILY_INTERVAL_NDVI_TRMM\\Jiujang\\TRMM2007_WetYear\\10_Day_Period\\10_DaySums_StdNormAnomalyRes//TRMM_JJ_2007006.tif.tif\n",
        "D:\\Data\\0_DAILY_INTERVAL_NDVI_TRMM\\Jiujang\\TRMM2007_WetYear\\10_Day_Period\\10_DaySums_StdNormAnomalyRes//TRMM_JJ_2007007.tif.tif"
       ]
      },
      {
       "output_type": "stream",
       "stream": "stdout",
       "text": [
        "\n",
        "D:\\Data\\0_DAILY_INTERVAL_NDVI_TRMM\\Jiujang\\TRMM2007_WetYear\\10_Day_Period\\10_DaySums_StdNormAnomalyRes//TRMM_JJ_2007008.tif.tif\n",
        "D:\\Data\\0_DAILY_INTERVAL_NDVI_TRMM\\Jiujang\\TRMM2007_WetYear\\10_Day_Period\\10_DaySums_StdNormAnomalyRes//TRMM_JJ_2007009.tif.tif\n",
        "D:\\Data\\0_DAILY_INTERVAL_NDVI_TRMM\\Jiujang\\TRMM2007_WetYear\\10_Day_Period\\10_DaySums_StdNormAnomalyRes//TRMM_JJ_2007010.tif.tif"
       ]
      },
      {
       "output_type": "stream",
       "stream": "stdout",
       "text": [
        "\n",
        "D:\\Data\\0_DAILY_INTERVAL_NDVI_TRMM\\Jiujang\\TRMM2007_WetYear\\10_Day_Period\\10_DaySums_StdNormAnomalyRes//TRMM_JJ_2007011.tif.tif\n",
        "D:\\Data\\0_DAILY_INTERVAL_NDVI_TRMM\\Jiujang\\TRMM2007_WetYear\\10_Day_Period\\10_DaySums_StdNormAnomalyRes//TRMM_JJ_2007012.tif.tif\n",
        "D:\\Data\\0_DAILY_INTERVAL_NDVI_TRMM\\Jiujang\\TRMM2007_WetYear\\10_Day_Period\\10_DaySums_StdNormAnomalyRes//TRMM_JJ_2007013.tif.tif"
       ]
      },
      {
       "output_type": "stream",
       "stream": "stdout",
       "text": [
        "\n",
        "D:\\Data\\0_DAILY_INTERVAL_NDVI_TRMM\\Jiujang\\TRMM2007_WetYear\\10_Day_Period\\10_DaySums_StdNormAnomalyRes//TRMM_JJ_2007014.tif.tif\n",
        "D:\\Data\\0_DAILY_INTERVAL_NDVI_TRMM\\Jiujang\\TRMM2007_WetYear\\10_Day_Period\\10_DaySums_StdNormAnomalyRes//TRMM_JJ_2007015.tif.tif\n",
        "D:\\Data\\0_DAILY_INTERVAL_NDVI_TRMM\\Jiujang\\TRMM2007_WetYear\\10_Day_Period\\10_DaySums_StdNormAnomalyRes//TRMM_JJ_2007016.tif.tif"
       ]
      },
      {
       "output_type": "stream",
       "stream": "stdout",
       "text": [
        "\n",
        "D:\\Data\\0_DAILY_INTERVAL_NDVI_TRMM\\Jiujang\\TRMM2007_WetYear\\10_Day_Period\\10_DaySums_StdNormAnomalyRes//TRMM_JJ_2007017.tif.tif\n",
        "D:\\Data\\0_DAILY_INTERVAL_NDVI_TRMM\\Jiujang\\TRMM2007_WetYear\\10_Day_Period\\10_DaySums_StdNormAnomalyRes//TRMM_JJ_2007018.tif.tif\n",
        "D:\\Data\\0_DAILY_INTERVAL_NDVI_TRMM\\Jiujang\\TRMM2007_WetYear\\10_Day_Period\\10_DaySums_StdNormAnomalyRes//TRMM_JJ_2007019.tif.tif"
       ]
      },
      {
       "output_type": "stream",
       "stream": "stdout",
       "text": [
        "\n",
        "D:\\Data\\0_DAILY_INTERVAL_NDVI_TRMM\\Jiujang\\TRMM2007_WetYear\\10_Day_Period\\10_DaySums_StdNormAnomalyRes//TRMM_JJ_2007020.tif.tif\n",
        "D:\\Data\\0_DAILY_INTERVAL_NDVI_TRMM\\Jiujang\\TRMM2007_WetYear\\10_Day_Period\\10_DaySums_StdNormAnomalyRes//TRMM_JJ_2007021.tif.tif\n",
        "D:\\Data\\0_DAILY_INTERVAL_NDVI_TRMM\\Jiujang\\TRMM2007_WetYear\\10_Day_Period\\10_DaySums_StdNormAnomalyRes//TRMM_JJ_2007022.tif.tif"
       ]
      },
      {
       "output_type": "stream",
       "stream": "stdout",
       "text": [
        "\n",
        "D:\\Data\\0_DAILY_INTERVAL_NDVI_TRMM\\Jiujang\\TRMM2007_WetYear\\10_Day_Period\\10_DaySums_StdNormAnomalyRes//TRMM_JJ_2007023.tif.tif\n",
        "D:\\Data\\0_DAILY_INTERVAL_NDVI_TRMM\\Jiujang\\TRMM2007_WetYear\\10_Day_Period\\10_DaySums_StdNormAnomalyRes//TRMM_JJ_2007024.tif.tif\n",
        "D:\\Data\\0_DAILY_INTERVAL_NDVI_TRMM\\Jiujang\\TRMM2007_WetYear\\10_Day_Period\\10_DaySums_StdNormAnomalyRes//TRMM_JJ_2007025.tif.tif"
       ]
      },
      {
       "output_type": "stream",
       "stream": "stdout",
       "text": [
        "\n",
        "D:\\Data\\0_DAILY_INTERVAL_NDVI_TRMM\\Jiujang\\TRMM2007_WetYear\\10_Day_Period\\10_DaySums_StdNormAnomalyRes//TRMM_JJ_2007026.tif.tif\n",
        "D:\\Data\\0_DAILY_INTERVAL_NDVI_TRMM\\Jiujang\\TRMM2007_WetYear\\10_Day_Period\\10_DaySums_StdNormAnomalyRes//TRMM_JJ_2007027.tif.tif\n",
        "D:\\Data\\0_DAILY_INTERVAL_NDVI_TRMM\\Jiujang\\TRMM2007_WetYear\\10_Day_Period\\10_DaySums_StdNormAnomalyRes//TRMM_JJ_2007028.tif.tif"
       ]
      },
      {
       "output_type": "stream",
       "stream": "stdout",
       "text": [
        "\n",
        "D:\\Data\\0_DAILY_INTERVAL_NDVI_TRMM\\Jiujang\\TRMM2007_WetYear\\10_Day_Period\\10_DaySums_StdNormAnomalyRes//TRMM_JJ_2007029.tif.tif\n",
        "D:\\Data\\0_DAILY_INTERVAL_NDVI_TRMM\\Jiujang\\TRMM2007_WetYear\\10_Day_Period\\10_DaySums_StdNormAnomalyRes//TRMM_JJ_2007030.tif.tif\n",
        "D:\\Data\\0_DAILY_INTERVAL_NDVI_TRMM\\Jiujang\\TRMM2007_WetYear\\10_Day_Period\\10_DaySums_StdNormAnomalyRes//TRMM_JJ_2007031.tif.tif"
       ]
      },
      {
       "output_type": "stream",
       "stream": "stdout",
       "text": [
        "\n",
        "D:\\Data\\0_DAILY_INTERVAL_NDVI_TRMM\\Jiujang\\TRMM2007_WetYear\\10_Day_Period\\10_DaySums_StdNormAnomalyRes//TRMM_JJ_2007032.tif.tif\n",
        "D:\\Data\\0_DAILY_INTERVAL_NDVI_TRMM\\Jiujang\\TRMM2007_WetYear\\10_Day_Period\\10_DaySums_StdNormAnomalyRes//TRMM_JJ_2007033.tif.tif\n",
        "D:\\Data\\0_DAILY_INTERVAL_NDVI_TRMM\\Jiujang\\TRMM2007_WetYear\\10_Day_Period\\10_DaySums_StdNormAnomalyRes//TRMM_JJ_2007034.tif.tif"
       ]
      },
      {
       "output_type": "stream",
       "stream": "stdout",
       "text": [
        "\n",
        "D:\\Data\\0_DAILY_INTERVAL_NDVI_TRMM\\Jiujang\\TRMM2007_WetYear\\10_Day_Period\\10_DaySums_StdNormAnomalyRes//TRMM_JJ_2007035.tif.tif\n",
        "D:\\Data\\0_DAILY_INTERVAL_NDVI_TRMM\\Jiujang\\TRMM2007_WetYear\\10_Day_Period\\10_DaySums_StdNormAnomalyRes//TRMM_JJ_2007036.tif.tif\n",
        "D:\\Data\\0_DAILY_INTERVAL_NDVI_TRMM\\Jiujang\\TRMM2007_WetYear\\10_Day_Period\\10_DaySums_StdNormAnomalyRes//TRMM_JJ_2007037.tif.tif"
       ]
      },
      {
       "output_type": "stream",
       "stream": "stdout",
       "text": [
        "\n",
        "D:\\Data\\0_DAILY_INTERVAL_NDVI_TRMM\\Jiujang\\TRMM2007_WetYear\\10_Day_Period\\10_DaySums_StdNormAnomalyRes//TRMM_JJ_2007038.tif.tif\n",
        "D:\\Data\\0_DAILY_INTERVAL_NDVI_TRMM\\Jiujang\\TRMM2007_WetYear\\10_Day_Period\\10_DaySums_StdNormAnomalyRes//TRMM_JJ_2007039.tif.tif\n",
        "D:\\Data\\0_DAILY_INTERVAL_NDVI_TRMM\\Jiujang\\TRMM2007_WetYear\\10_Day_Period\\10_DaySums_StdNormAnomalyRes//TRMM_JJ_2007040.tif.tif"
       ]
      },
      {
       "output_type": "stream",
       "stream": "stdout",
       "text": [
        "\n",
        "D:\\Data\\0_DAILY_INTERVAL_NDVI_TRMM\\Jiujang\\TRMM2007_WetYear\\10_Day_Period\\10_DaySums_StdNormAnomalyRes//TRMM_JJ_2007041.tif.tif\n",
        "D:\\Data\\0_DAILY_INTERVAL_NDVI_TRMM\\Jiujang\\TRMM2007_WetYear\\10_Day_Period\\10_DaySums_StdNormAnomalyRes//TRMM_JJ_2007042.tif.tif\n",
        "D:\\Data\\0_DAILY_INTERVAL_NDVI_TRMM\\Jiujang\\TRMM2007_WetYear\\10_Day_Period\\10_DaySums_StdNormAnomalyRes//TRMM_JJ_2007043.tif.tif"
       ]
      },
      {
       "output_type": "stream",
       "stream": "stdout",
       "text": [
        "\n",
        "D:\\Data\\0_DAILY_INTERVAL_NDVI_TRMM\\Jiujang\\TRMM2007_WetYear\\10_Day_Period\\10_DaySums_StdNormAnomalyRes//TRMM_JJ_2007044.tif.tif\n",
        "D:\\Data\\0_DAILY_INTERVAL_NDVI_TRMM\\Jiujang\\TRMM2007_WetYear\\10_Day_Period\\10_DaySums_StdNormAnomalyRes//TRMM_JJ_2007045.tif.tif\n",
        "D:\\Data\\0_DAILY_INTERVAL_NDVI_TRMM\\Jiujang\\TRMM2007_WetYear\\10_Day_Period\\10_DaySums_StdNormAnomalyRes//TRMM_JJ_2007046.tif.tif"
       ]
      },
      {
       "output_type": "stream",
       "stream": "stdout",
       "text": [
        "\n",
        "D:\\Data\\0_DAILY_INTERVAL_NDVI_TRMM\\Jiujang\\TRMM2007_WetYear\\10_Day_Period\\10_DaySums_StdNormAnomalyRes//TRMM_JJ_2007047.tif.tif\n",
        "D:\\Data\\0_DAILY_INTERVAL_NDVI_TRMM\\Jiujang\\TRMM2007_WetYear\\10_Day_Period\\10_DaySums_StdNormAnomalyRes//TRMM_JJ_2007048.tif.tif\n",
        "D:\\Data\\0_DAILY_INTERVAL_NDVI_TRMM\\Jiujang\\TRMM2007_WetYear\\10_Day_Period\\10_DaySums_StdNormAnomalyRes//TRMM_JJ_2007049.tif.tif"
       ]
      },
      {
       "output_type": "stream",
       "stream": "stdout",
       "text": [
        "\n",
        "D:\\Data\\0_DAILY_INTERVAL_NDVI_TRMM\\Jiujang\\TRMM2007_WetYear\\10_Day_Period\\10_DaySums_StdNormAnomalyRes//TRMM_JJ_2007050.tif.tif\n",
        "D:\\Data\\0_DAILY_INTERVAL_NDVI_TRMM\\Jiujang\\TRMM2007_WetYear\\10_Day_Period\\10_DaySums_StdNormAnomalyRes//TRMM_JJ_2007051.tif.tif\n",
        "D:\\Data\\0_DAILY_INTERVAL_NDVI_TRMM\\Jiujang\\TRMM2007_WetYear\\10_Day_Period\\10_DaySums_StdNormAnomalyRes//TRMM_JJ_2007052.tif.tif"
       ]
      },
      {
       "output_type": "stream",
       "stream": "stdout",
       "text": [
        "\n",
        "D:\\Data\\0_DAILY_INTERVAL_NDVI_TRMM\\Jiujang\\TRMM2007_WetYear\\10_Day_Period\\10_DaySums_StdNormAnomalyRes//TRMM_JJ_2007053.tif.tif\n",
        "D:\\Data\\0_DAILY_INTERVAL_NDVI_TRMM\\Jiujang\\TRMM2007_WetYear\\10_Day_Period\\10_DaySums_StdNormAnomalyRes//TRMM_JJ_2007054.tif.tif\n",
        "D:\\Data\\0_DAILY_INTERVAL_NDVI_TRMM\\Jiujang\\TRMM2007_WetYear\\10_Day_Period\\10_DaySums_StdNormAnomalyRes//TRMM_JJ_2007055.tif.tif"
       ]
      },
      {
       "output_type": "stream",
       "stream": "stdout",
       "text": [
        "\n",
        "D:\\Data\\0_DAILY_INTERVAL_NDVI_TRMM\\Jiujang\\TRMM2007_WetYear\\10_Day_Period\\10_DaySums_StdNormAnomalyRes//TRMM_JJ_2007056.tif.tif\n",
        "D:\\Data\\0_DAILY_INTERVAL_NDVI_TRMM\\Jiujang\\TRMM2007_WetYear\\10_Day_Period\\10_DaySums_StdNormAnomalyRes//TRMM_JJ_2007057.tif.tif\n",
        "D:\\Data\\0_DAILY_INTERVAL_NDVI_TRMM\\Jiujang\\TRMM2007_WetYear\\10_Day_Period\\10_DaySums_StdNormAnomalyRes//TRMM_JJ_2007058.tif.tif"
       ]
      },
      {
       "output_type": "stream",
       "stream": "stdout",
       "text": [
        "\n",
        "D:\\Data\\0_DAILY_INTERVAL_NDVI_TRMM\\Jiujang\\TRMM2007_WetYear\\10_Day_Period\\10_DaySums_StdNormAnomalyRes//TRMM_JJ_2007059.tif.tif\n",
        "D:\\Data\\0_DAILY_INTERVAL_NDVI_TRMM\\Jiujang\\TRMM2007_WetYear\\10_Day_Period\\10_DaySums_StdNormAnomalyRes//TRMM_JJ_2007060.tif.tif\n",
        "D:\\Data\\0_DAILY_INTERVAL_NDVI_TRMM\\Jiujang\\TRMM2007_WetYear\\10_Day_Period\\10_DaySums_StdNormAnomalyRes//TRMM_JJ_2007061.tif.tif"
       ]
      },
      {
       "output_type": "stream",
       "stream": "stdout",
       "text": [
        "\n",
        "D:\\Data\\0_DAILY_INTERVAL_NDVI_TRMM\\Jiujang\\TRMM2007_WetYear\\10_Day_Period\\10_DaySums_StdNormAnomalyRes//TRMM_JJ_2007062.tif.tif\n",
        "D:\\Data\\0_DAILY_INTERVAL_NDVI_TRMM\\Jiujang\\TRMM2007_WetYear\\10_Day_Period\\10_DaySums_StdNormAnomalyRes//TRMM_JJ_2007063.tif.tif\n",
        "D:\\Data\\0_DAILY_INTERVAL_NDVI_TRMM\\Jiujang\\TRMM2007_WetYear\\10_Day_Period\\10_DaySums_StdNormAnomalyRes//TRMM_JJ_2007064.tif.tif"
       ]
      },
      {
       "output_type": "stream",
       "stream": "stdout",
       "text": [
        "\n",
        "D:\\Data\\0_DAILY_INTERVAL_NDVI_TRMM\\Jiujang\\TRMM2007_WetYear\\10_Day_Period\\10_DaySums_StdNormAnomalyRes//TRMM_JJ_2007065.tif.tif\n",
        "D:\\Data\\0_DAILY_INTERVAL_NDVI_TRMM\\Jiujang\\TRMM2007_WetYear\\10_Day_Period\\10_DaySums_StdNormAnomalyRes//TRMM_JJ_2007066.tif.tif\n",
        "D:\\Data\\0_DAILY_INTERVAL_NDVI_TRMM\\Jiujang\\TRMM2007_WetYear\\10_Day_Period\\10_DaySums_StdNormAnomalyRes//TRMM_JJ_2007067.tif.tif"
       ]
      },
      {
       "output_type": "stream",
       "stream": "stdout",
       "text": [
        "\n",
        "D:\\Data\\0_DAILY_INTERVAL_NDVI_TRMM\\Jiujang\\TRMM2007_WetYear\\10_Day_Period\\10_DaySums_StdNormAnomalyRes//TRMM_JJ_2007068.tif.tif\n",
        "D:\\Data\\0_DAILY_INTERVAL_NDVI_TRMM\\Jiujang\\TRMM2007_WetYear\\10_Day_Period\\10_DaySums_StdNormAnomalyRes//TRMM_JJ_2007069.tif.tif\n",
        "D:\\Data\\0_DAILY_INTERVAL_NDVI_TRMM\\Jiujang\\TRMM2007_WetYear\\10_Day_Period\\10_DaySums_StdNormAnomalyRes//TRMM_JJ_2007070.tif.tif"
       ]
      },
      {
       "output_type": "stream",
       "stream": "stdout",
       "text": [
        "\n",
        "D:\\Data\\0_DAILY_INTERVAL_NDVI_TRMM\\Jiujang\\TRMM2007_WetYear\\10_Day_Period\\10_DaySums_StdNormAnomalyRes//TRMM_JJ_2007071.tif.tif\n",
        "D:\\Data\\0_DAILY_INTERVAL_NDVI_TRMM\\Jiujang\\TRMM2007_WetYear\\10_Day_Period\\10_DaySums_StdNormAnomalyRes//TRMM_JJ_2007072.tif.tif\n",
        "D:\\Data\\0_DAILY_INTERVAL_NDVI_TRMM\\Jiujang\\TRMM2007_WetYear\\10_Day_Period\\10_DaySums_StdNormAnomalyRes//TRMM_JJ_2007073.tif.tif"
       ]
      },
      {
       "output_type": "stream",
       "stream": "stdout",
       "text": [
        "\n",
        "D:\\Data\\0_DAILY_INTERVAL_NDVI_TRMM\\Jiujang\\TRMM2007_WetYear\\10_Day_Period\\10_DaySums_StdNormAnomalyRes//TRMM_JJ_2007074.tif.tif\n",
        "D:\\Data\\0_DAILY_INTERVAL_NDVI_TRMM\\Jiujang\\TRMM2007_WetYear\\10_Day_Period\\10_DaySums_StdNormAnomalyRes//TRMM_JJ_2007075.tif.tif\n",
        "D:\\Data\\0_DAILY_INTERVAL_NDVI_TRMM\\Jiujang\\TRMM2007_WetYear\\10_Day_Period\\10_DaySums_StdNormAnomalyRes//TRMM_JJ_2007076.tif.tif"
       ]
      },
      {
       "output_type": "stream",
       "stream": "stdout",
       "text": [
        "\n",
        "D:\\Data\\0_DAILY_INTERVAL_NDVI_TRMM\\Jiujang\\TRMM2007_WetYear\\10_Day_Period\\10_DaySums_StdNormAnomalyRes//TRMM_JJ_2007077.tif.tif\n",
        "D:\\Data\\0_DAILY_INTERVAL_NDVI_TRMM\\Jiujang\\TRMM2007_WetYear\\10_Day_Period\\10_DaySums_StdNormAnomalyRes//TRMM_JJ_2007078.tif.tif\n",
        "D:\\Data\\0_DAILY_INTERVAL_NDVI_TRMM\\Jiujang\\TRMM2007_WetYear\\10_Day_Period\\10_DaySums_StdNormAnomalyRes//TRMM_JJ_2007079.tif.tif"
       ]
      },
      {
       "output_type": "stream",
       "stream": "stdout",
       "text": [
        "\n",
        "D:\\Data\\0_DAILY_INTERVAL_NDVI_TRMM\\Jiujang\\TRMM2007_WetYear\\10_Day_Period\\10_DaySums_StdNormAnomalyRes//TRMM_JJ_2007080.tif.tif\n",
        "D:\\Data\\0_DAILY_INTERVAL_NDVI_TRMM\\Jiujang\\TRMM2007_WetYear\\10_Day_Period\\10_DaySums_StdNormAnomalyRes//TRMM_JJ_2007081.tif.tif\n",
        "D:\\Data\\0_DAILY_INTERVAL_NDVI_TRMM\\Jiujang\\TRMM2007_WetYear\\10_Day_Period\\10_DaySums_StdNormAnomalyRes//TRMM_JJ_2007082.tif.tif"
       ]
      },
      {
       "output_type": "stream",
       "stream": "stdout",
       "text": [
        "\n",
        "D:\\Data\\0_DAILY_INTERVAL_NDVI_TRMM\\Jiujang\\TRMM2007_WetYear\\10_Day_Period\\10_DaySums_StdNormAnomalyRes//TRMM_JJ_2007083.tif.tif\n",
        "D:\\Data\\0_DAILY_INTERVAL_NDVI_TRMM\\Jiujang\\TRMM2007_WetYear\\10_Day_Period\\10_DaySums_StdNormAnomalyRes//TRMM_JJ_2007084.tif.tif\n",
        "D:\\Data\\0_DAILY_INTERVAL_NDVI_TRMM\\Jiujang\\TRMM2007_WetYear\\10_Day_Period\\10_DaySums_StdNormAnomalyRes//TRMM_JJ_2007085.tif.tif"
       ]
      },
      {
       "output_type": "stream",
       "stream": "stdout",
       "text": [
        "\n",
        "D:\\Data\\0_DAILY_INTERVAL_NDVI_TRMM\\Jiujang\\TRMM2007_WetYear\\10_Day_Period\\10_DaySums_StdNormAnomalyRes//TRMM_JJ_2007086.tif.tif\n",
        "D:\\Data\\0_DAILY_INTERVAL_NDVI_TRMM\\Jiujang\\TRMM2007_WetYear\\10_Day_Period\\10_DaySums_StdNormAnomalyRes//TRMM_JJ_2007087.tif.tif\n",
        "D:\\Data\\0_DAILY_INTERVAL_NDVI_TRMM\\Jiujang\\TRMM2007_WetYear\\10_Day_Period\\10_DaySums_StdNormAnomalyRes//TRMM_JJ_2007088.tif.tif"
       ]
      },
      {
       "output_type": "stream",
       "stream": "stdout",
       "text": [
        "\n",
        "D:\\Data\\0_DAILY_INTERVAL_NDVI_TRMM\\Jiujang\\TRMM2007_WetYear\\10_Day_Period\\10_DaySums_StdNormAnomalyRes//TRMM_JJ_2007089.tif.tif\n",
        "D:\\Data\\0_DAILY_INTERVAL_NDVI_TRMM\\Jiujang\\TRMM2007_WetYear\\10_Day_Period\\10_DaySums_StdNormAnomalyRes//TRMM_JJ_2007090.tif.tif\n",
        "D:\\Data\\0_DAILY_INTERVAL_NDVI_TRMM\\Jiujang\\TRMM2007_WetYear\\10_Day_Period\\10_DaySums_StdNormAnomalyRes//TRMM_JJ_2007091.tif.tif"
       ]
      },
      {
       "output_type": "stream",
       "stream": "stdout",
       "text": [
        "\n",
        "D:\\Data\\0_DAILY_INTERVAL_NDVI_TRMM\\Jiujang\\TRMM2007_WetYear\\10_Day_Period\\10_DaySums_StdNormAnomalyRes//TRMM_JJ_2007092.tif.tif\n",
        "D:\\Data\\0_DAILY_INTERVAL_NDVI_TRMM\\Jiujang\\TRMM2007_WetYear\\10_Day_Period\\10_DaySums_StdNormAnomalyRes//TRMM_JJ_2007093.tif.tif\n",
        "D:\\Data\\0_DAILY_INTERVAL_NDVI_TRMM\\Jiujang\\TRMM2007_WetYear\\10_Day_Period\\10_DaySums_StdNormAnomalyRes//TRMM_JJ_2007094.tif.tif"
       ]
      },
      {
       "output_type": "stream",
       "stream": "stdout",
       "text": [
        "\n",
        "D:\\Data\\0_DAILY_INTERVAL_NDVI_TRMM\\Jiujang\\TRMM2007_WetYear\\10_Day_Period\\10_DaySums_StdNormAnomalyRes//TRMM_JJ_2007095.tif.tif\n",
        "D:\\Data\\0_DAILY_INTERVAL_NDVI_TRMM\\Jiujang\\TRMM2007_WetYear\\10_Day_Period\\10_DaySums_StdNormAnomalyRes//TRMM_JJ_2007096.tif.tif\n",
        "D:\\Data\\0_DAILY_INTERVAL_NDVI_TRMM\\Jiujang\\TRMM2007_WetYear\\10_Day_Period\\10_DaySums_StdNormAnomalyRes//TRMM_JJ_2007097.tif.tif"
       ]
      },
      {
       "output_type": "stream",
       "stream": "stdout",
       "text": [
        "\n",
        "D:\\Data\\0_DAILY_INTERVAL_NDVI_TRMM\\Jiujang\\TRMM2007_WetYear\\10_Day_Period\\10_DaySums_StdNormAnomalyRes//TRMM_JJ_2007098.tif.tif\n",
        "D:\\Data\\0_DAILY_INTERVAL_NDVI_TRMM\\Jiujang\\TRMM2007_WetYear\\10_Day_Period\\10_DaySums_StdNormAnomalyRes//TRMM_JJ_2007099.tif.tif\n",
        "D:\\Data\\0_DAILY_INTERVAL_NDVI_TRMM\\Jiujang\\TRMM2007_WetYear\\10_Day_Period\\10_DaySums_StdNormAnomalyRes//TRMM_JJ_2007100.tif.tif"
       ]
      },
      {
       "output_type": "stream",
       "stream": "stdout",
       "text": [
        "\n",
        "D:\\Data\\0_DAILY_INTERVAL_NDVI_TRMM\\Jiujang\\TRMM2007_WetYear\\10_Day_Period\\10_DaySums_StdNormAnomalyRes//TRMM_JJ_2007101.tif.tif\n",
        "D:\\Data\\0_DAILY_INTERVAL_NDVI_TRMM\\Jiujang\\TRMM2007_WetYear\\10_Day_Period\\10_DaySums_StdNormAnomalyRes//TRMM_JJ_2007102.tif.tif\n",
        "D:\\Data\\0_DAILY_INTERVAL_NDVI_TRMM\\Jiujang\\TRMM2007_WetYear\\10_Day_Period\\10_DaySums_StdNormAnomalyRes//TRMM_JJ_2007103.tif.tif"
       ]
      },
      {
       "output_type": "stream",
       "stream": "stdout",
       "text": [
        "\n",
        "D:\\Data\\0_DAILY_INTERVAL_NDVI_TRMM\\Jiujang\\TRMM2007_WetYear\\10_Day_Period\\10_DaySums_StdNormAnomalyRes//TRMM_JJ_2007104.tif.tif\n",
        "D:\\Data\\0_DAILY_INTERVAL_NDVI_TRMM\\Jiujang\\TRMM2007_WetYear\\10_Day_Period\\10_DaySums_StdNormAnomalyRes//TRMM_JJ_2007105.tif.tif\n",
        "D:\\Data\\0_DAILY_INTERVAL_NDVI_TRMM\\Jiujang\\TRMM2007_WetYear\\10_Day_Period\\10_DaySums_StdNormAnomalyRes//TRMM_JJ_2007106.tif.tif"
       ]
      },
      {
       "output_type": "stream",
       "stream": "stdout",
       "text": [
        "\n",
        "D:\\Data\\0_DAILY_INTERVAL_NDVI_TRMM\\Jiujang\\TRMM2007_WetYear\\10_Day_Period\\10_DaySums_StdNormAnomalyRes//TRMM_JJ_2007107.tif.tif\n",
        "D:\\Data\\0_DAILY_INTERVAL_NDVI_TRMM\\Jiujang\\TRMM2007_WetYear\\10_Day_Period\\10_DaySums_StdNormAnomalyRes//TRMM_JJ_2007108.tif.tif\n",
        "D:\\Data\\0_DAILY_INTERVAL_NDVI_TRMM\\Jiujang\\TRMM2007_WetYear\\10_Day_Period\\10_DaySums_StdNormAnomalyRes//TRMM_JJ_2007109.tif.tif"
       ]
      },
      {
       "output_type": "stream",
       "stream": "stdout",
       "text": [
        "\n",
        "D:\\Data\\0_DAILY_INTERVAL_NDVI_TRMM\\Jiujang\\TRMM2007_WetYear\\10_Day_Period\\10_DaySums_StdNormAnomalyRes//TRMM_JJ_2007110.tif.tif\n",
        "D:\\Data\\0_DAILY_INTERVAL_NDVI_TRMM\\Jiujang\\TRMM2007_WetYear\\10_Day_Period\\10_DaySums_StdNormAnomalyRes//TRMM_JJ_2007111.tif.tif\n",
        "D:\\Data\\0_DAILY_INTERVAL_NDVI_TRMM\\Jiujang\\TRMM2007_WetYear\\10_Day_Period\\10_DaySums_StdNormAnomalyRes//TRMM_JJ_2007112.tif.tif"
       ]
      },
      {
       "output_type": "stream",
       "stream": "stdout",
       "text": [
        "\n",
        "D:\\Data\\0_DAILY_INTERVAL_NDVI_TRMM\\Jiujang\\TRMM2007_WetYear\\10_Day_Period\\10_DaySums_StdNormAnomalyRes//TRMM_JJ_2007113.tif.tif\n",
        "D:\\Data\\0_DAILY_INTERVAL_NDVI_TRMM\\Jiujang\\TRMM2007_WetYear\\10_Day_Period\\10_DaySums_StdNormAnomalyRes//TRMM_JJ_2007114.tif.tif\n",
        "D:\\Data\\0_DAILY_INTERVAL_NDVI_TRMM\\Jiujang\\TRMM2007_WetYear\\10_Day_Period\\10_DaySums_StdNormAnomalyRes//TRMM_JJ_2007115.tif.tif"
       ]
      },
      {
       "output_type": "stream",
       "stream": "stdout",
       "text": [
        "\n",
        "D:\\Data\\0_DAILY_INTERVAL_NDVI_TRMM\\Jiujang\\TRMM2007_WetYear\\10_Day_Period\\10_DaySums_StdNormAnomalyRes//TRMM_JJ_2007116.tif.tif\n",
        "D:\\Data\\0_DAILY_INTERVAL_NDVI_TRMM\\Jiujang\\TRMM2007_WetYear\\10_Day_Period\\10_DaySums_StdNormAnomalyRes//TRMM_JJ_2007117.tif.tif\n",
        "D:\\Data\\0_DAILY_INTERVAL_NDVI_TRMM\\Jiujang\\TRMM2007_WetYear\\10_Day_Period\\10_DaySums_StdNormAnomalyRes//TRMM_JJ_2007118.tif.tif"
       ]
      },
      {
       "output_type": "stream",
       "stream": "stdout",
       "text": [
        "\n",
        "D:\\Data\\0_DAILY_INTERVAL_NDVI_TRMM\\Jiujang\\TRMM2007_WetYear\\10_Day_Period\\10_DaySums_StdNormAnomalyRes//TRMM_JJ_2007119.tif.tif\n",
        "D:\\Data\\0_DAILY_INTERVAL_NDVI_TRMM\\Jiujang\\TRMM2007_WetYear\\10_Day_Period\\10_DaySums_StdNormAnomalyRes//TRMM_JJ_2007120.tif.tif\n",
        "D:\\Data\\0_DAILY_INTERVAL_NDVI_TRMM\\Jiujang\\TRMM2007_WetYear\\10_Day_Period\\10_DaySums_StdNormAnomalyRes//TRMM_JJ_2007121.tif.tif"
       ]
      },
      {
       "output_type": "stream",
       "stream": "stdout",
       "text": [
        "\n",
        "D:\\Data\\0_DAILY_INTERVAL_NDVI_TRMM\\Jiujang\\TRMM2007_WetYear\\10_Day_Period\\10_DaySums_StdNormAnomalyRes//TRMM_JJ_2007122.tif.tif\n",
        "D:\\Data\\0_DAILY_INTERVAL_NDVI_TRMM\\Jiujang\\TRMM2007_WetYear\\10_Day_Period\\10_DaySums_StdNormAnomalyRes//TRMM_JJ_2007123.tif.tif\n",
        "D:\\Data\\0_DAILY_INTERVAL_NDVI_TRMM\\Jiujang\\TRMM2007_WetYear\\10_Day_Period\\10_DaySums_StdNormAnomalyRes//TRMM_JJ_2007124.tif.tif"
       ]
      },
      {
       "output_type": "stream",
       "stream": "stdout",
       "text": [
        "\n",
        "D:\\Data\\0_DAILY_INTERVAL_NDVI_TRMM\\Jiujang\\TRMM2007_WetYear\\10_Day_Period\\10_DaySums_StdNormAnomalyRes//TRMM_JJ_2007125.tif.tif\n",
        "D:\\Data\\0_DAILY_INTERVAL_NDVI_TRMM\\Jiujang\\TRMM2007_WetYear\\10_Day_Period\\10_DaySums_StdNormAnomalyRes//TRMM_JJ_2007126.tif.tif\n",
        "D:\\Data\\0_DAILY_INTERVAL_NDVI_TRMM\\Jiujang\\TRMM2007_WetYear\\10_Day_Period\\10_DaySums_StdNormAnomalyRes//TRMM_JJ_2007127.tif.tif"
       ]
      },
      {
       "output_type": "stream",
       "stream": "stdout",
       "text": [
        "\n",
        "D:\\Data\\0_DAILY_INTERVAL_NDVI_TRMM\\Jiujang\\TRMM2007_WetYear\\10_Day_Period\\10_DaySums_StdNormAnomalyRes//TRMM_JJ_2007128.tif.tif\n",
        "D:\\Data\\0_DAILY_INTERVAL_NDVI_TRMM\\Jiujang\\TRMM2007_WetYear\\10_Day_Period\\10_DaySums_StdNormAnomalyRes//TRMM_JJ_2007129.tif.tif\n",
        "D:\\Data\\0_DAILY_INTERVAL_NDVI_TRMM\\Jiujang\\TRMM2007_WetYear\\10_Day_Period\\10_DaySums_StdNormAnomalyRes//TRMM_JJ_2007130.tif.tif"
       ]
      },
      {
       "output_type": "stream",
       "stream": "stdout",
       "text": [
        "\n",
        "D:\\Data\\0_DAILY_INTERVAL_NDVI_TRMM\\Jiujang\\TRMM2007_WetYear\\10_Day_Period\\10_DaySums_StdNormAnomalyRes//TRMM_JJ_2007131.tif.tif\n",
        "D:\\Data\\0_DAILY_INTERVAL_NDVI_TRMM\\Jiujang\\TRMM2007_WetYear\\10_Day_Period\\10_DaySums_StdNormAnomalyRes//TRMM_JJ_2007132.tif.tif\n",
        "D:\\Data\\0_DAILY_INTERVAL_NDVI_TRMM\\Jiujang\\TRMM2007_WetYear\\10_Day_Period\\10_DaySums_StdNormAnomalyRes//TRMM_JJ_2007133.tif.tif"
       ]
      },
      {
       "output_type": "stream",
       "stream": "stdout",
       "text": [
        "\n",
        "D:\\Data\\0_DAILY_INTERVAL_NDVI_TRMM\\Jiujang\\TRMM2007_WetYear\\10_Day_Period\\10_DaySums_StdNormAnomalyRes//TRMM_JJ_2007134.tif.tif\n",
        "D:\\Data\\0_DAILY_INTERVAL_NDVI_TRMM\\Jiujang\\TRMM2007_WetYear\\10_Day_Period\\10_DaySums_StdNormAnomalyRes//TRMM_JJ_2007135.tif.tif\n",
        "D:\\Data\\0_DAILY_INTERVAL_NDVI_TRMM\\Jiujang\\TRMM2007_WetYear\\10_Day_Period\\10_DaySums_StdNormAnomalyRes//TRMM_JJ_2007136.tif.tif"
       ]
      },
      {
       "output_type": "stream",
       "stream": "stdout",
       "text": [
        "\n",
        "D:\\Data\\0_DAILY_INTERVAL_NDVI_TRMM\\Jiujang\\TRMM2007_WetYear\\10_Day_Period\\10_DaySums_StdNormAnomalyRes//TRMM_JJ_2007137.tif.tif\n",
        "D:\\Data\\0_DAILY_INTERVAL_NDVI_TRMM\\Jiujang\\TRMM2007_WetYear\\10_Day_Period\\10_DaySums_StdNormAnomalyRes//TRMM_JJ_2007138.tif.tif\n",
        "D:\\Data\\0_DAILY_INTERVAL_NDVI_TRMM\\Jiujang\\TRMM2007_WetYear\\10_Day_Period\\10_DaySums_StdNormAnomalyRes//TRMM_JJ_2007139.tif.tif"
       ]
      },
      {
       "output_type": "stream",
       "stream": "stdout",
       "text": [
        "\n",
        "D:\\Data\\0_DAILY_INTERVAL_NDVI_TRMM\\Jiujang\\TRMM2007_WetYear\\10_Day_Period\\10_DaySums_StdNormAnomalyRes//TRMM_JJ_2007140.tif.tif\n",
        "D:\\Data\\0_DAILY_INTERVAL_NDVI_TRMM\\Jiujang\\TRMM2007_WetYear\\10_Day_Period\\10_DaySums_StdNormAnomalyRes//TRMM_JJ_2007141.tif.tif\n",
        "D:\\Data\\0_DAILY_INTERVAL_NDVI_TRMM\\Jiujang\\TRMM2007_WetYear\\10_Day_Period\\10_DaySums_StdNormAnomalyRes//TRMM_JJ_2007142.tif.tif"
       ]
      },
      {
       "output_type": "stream",
       "stream": "stdout",
       "text": [
        "\n",
        "D:\\Data\\0_DAILY_INTERVAL_NDVI_TRMM\\Jiujang\\TRMM2007_WetYear\\10_Day_Period\\10_DaySums_StdNormAnomalyRes//TRMM_JJ_2007143.tif.tif\n",
        "D:\\Data\\0_DAILY_INTERVAL_NDVI_TRMM\\Jiujang\\TRMM2007_WetYear\\10_Day_Period\\10_DaySums_StdNormAnomalyRes//TRMM_JJ_2007144.tif.tif\n",
        "D:\\Data\\0_DAILY_INTERVAL_NDVI_TRMM\\Jiujang\\TRMM2007_WetYear\\10_Day_Period\\10_DaySums_StdNormAnomalyRes//TRMM_JJ_2007145.tif.tif"
       ]
      },
      {
       "output_type": "stream",
       "stream": "stdout",
       "text": [
        "\n",
        "D:\\Data\\0_DAILY_INTERVAL_NDVI_TRMM\\Jiujang\\TRMM2007_WetYear\\10_Day_Period\\10_DaySums_StdNormAnomalyRes//TRMM_JJ_2007146.tif.tif\n",
        "D:\\Data\\0_DAILY_INTERVAL_NDVI_TRMM\\Jiujang\\TRMM2007_WetYear\\10_Day_Period\\10_DaySums_StdNormAnomalyRes//TRMM_JJ_2007147.tif.tif\n",
        "D:\\Data\\0_DAILY_INTERVAL_NDVI_TRMM\\Jiujang\\TRMM2007_WetYear\\10_Day_Period\\10_DaySums_StdNormAnomalyRes//TRMM_JJ_2007148.tif.tif"
       ]
      },
      {
       "output_type": "stream",
       "stream": "stdout",
       "text": [
        "\n",
        "D:\\Data\\0_DAILY_INTERVAL_NDVI_TRMM\\Jiujang\\TRMM2007_WetYear\\10_Day_Period\\10_DaySums_StdNormAnomalyRes//TRMM_JJ_2007149.tif.tif\n",
        "D:\\Data\\0_DAILY_INTERVAL_NDVI_TRMM\\Jiujang\\TRMM2007_WetYear\\10_Day_Period\\10_DaySums_StdNormAnomalyRes//TRMM_JJ_2007150.tif.tif\n",
        "D:\\Data\\0_DAILY_INTERVAL_NDVI_TRMM\\Jiujang\\TRMM2007_WetYear\\10_Day_Period\\10_DaySums_StdNormAnomalyRes//TRMM_JJ_2007151.tif.tif"
       ]
      },
      {
       "output_type": "stream",
       "stream": "stdout",
       "text": [
        "\n",
        "D:\\Data\\0_DAILY_INTERVAL_NDVI_TRMM\\Jiujang\\TRMM2007_WetYear\\10_Day_Period\\10_DaySums_StdNormAnomalyRes//TRMM_JJ_2007152.tif.tif\n",
        "D:\\Data\\0_DAILY_INTERVAL_NDVI_TRMM\\Jiujang\\TRMM2007_WetYear\\10_Day_Period\\10_DaySums_StdNormAnomalyRes//TRMM_JJ_2007153.tif.tif\n",
        "D:\\Data\\0_DAILY_INTERVAL_NDVI_TRMM\\Jiujang\\TRMM2007_WetYear\\10_Day_Period\\10_DaySums_StdNormAnomalyRes//TRMM_JJ_2007154.tif.tif"
       ]
      },
      {
       "output_type": "stream",
       "stream": "stdout",
       "text": [
        "\n",
        "D:\\Data\\0_DAILY_INTERVAL_NDVI_TRMM\\Jiujang\\TRMM2007_WetYear\\10_Day_Period\\10_DaySums_StdNormAnomalyRes//TRMM_JJ_2007155.tif.tif\n",
        "D:\\Data\\0_DAILY_INTERVAL_NDVI_TRMM\\Jiujang\\TRMM2007_WetYear\\10_Day_Period\\10_DaySums_StdNormAnomalyRes//TRMM_JJ_2007156.tif.tif\n",
        "D:\\Data\\0_DAILY_INTERVAL_NDVI_TRMM\\Jiujang\\TRMM2007_WetYear\\10_Day_Period\\10_DaySums_StdNormAnomalyRes//TRMM_JJ_2007157.tif.tif"
       ]
      },
      {
       "output_type": "stream",
       "stream": "stdout",
       "text": [
        "\n",
        "D:\\Data\\0_DAILY_INTERVAL_NDVI_TRMM\\Jiujang\\TRMM2007_WetYear\\10_Day_Period\\10_DaySums_StdNormAnomalyRes//TRMM_JJ_2007158.tif.tif\n",
        "D:\\Data\\0_DAILY_INTERVAL_NDVI_TRMM\\Jiujang\\TRMM2007_WetYear\\10_Day_Period\\10_DaySums_StdNormAnomalyRes//TRMM_JJ_2007159.tif.tif\n",
        "D:\\Data\\0_DAILY_INTERVAL_NDVI_TRMM\\Jiujang\\TRMM2007_WetYear\\10_Day_Period\\10_DaySums_StdNormAnomalyRes//TRMM_JJ_2007160.tif.tif"
       ]
      },
      {
       "output_type": "stream",
       "stream": "stdout",
       "text": [
        "\n",
        "D:\\Data\\0_DAILY_INTERVAL_NDVI_TRMM\\Jiujang\\TRMM2007_WetYear\\10_Day_Period\\10_DaySums_StdNormAnomalyRes//TRMM_JJ_2007161.tif.tif\n",
        "D:\\Data\\0_DAILY_INTERVAL_NDVI_TRMM\\Jiujang\\TRMM2007_WetYear\\10_Day_Period\\10_DaySums_StdNormAnomalyRes//TRMM_JJ_2007162.tif.tif\n",
        "D:\\Data\\0_DAILY_INTERVAL_NDVI_TRMM\\Jiujang\\TRMM2007_WetYear\\10_Day_Period\\10_DaySums_StdNormAnomalyRes//TRMM_JJ_2007163.tif.tif"
       ]
      },
      {
       "output_type": "stream",
       "stream": "stdout",
       "text": [
        "\n",
        "D:\\Data\\0_DAILY_INTERVAL_NDVI_TRMM\\Jiujang\\TRMM2007_WetYear\\10_Day_Period\\10_DaySums_StdNormAnomalyRes//TRMM_JJ_2007164.tif.tif\n",
        "D:\\Data\\0_DAILY_INTERVAL_NDVI_TRMM\\Jiujang\\TRMM2007_WetYear\\10_Day_Period\\10_DaySums_StdNormAnomalyRes//TRMM_JJ_2007165.tif.tif\n",
        "D:\\Data\\0_DAILY_INTERVAL_NDVI_TRMM\\Jiujang\\TRMM2007_WetYear\\10_Day_Period\\10_DaySums_StdNormAnomalyRes//TRMM_JJ_2007166.tif.tif"
       ]
      },
      {
       "output_type": "stream",
       "stream": "stdout",
       "text": [
        "\n",
        "D:\\Data\\0_DAILY_INTERVAL_NDVI_TRMM\\Jiujang\\TRMM2007_WetYear\\10_Day_Period\\10_DaySums_StdNormAnomalyRes//TRMM_JJ_2007167.tif.tif\n",
        "D:\\Data\\0_DAILY_INTERVAL_NDVI_TRMM\\Jiujang\\TRMM2007_WetYear\\10_Day_Period\\10_DaySums_StdNormAnomalyRes//TRMM_JJ_2007168.tif.tif\n",
        "D:\\Data\\0_DAILY_INTERVAL_NDVI_TRMM\\Jiujang\\TRMM2007_WetYear\\10_Day_Period\\10_DaySums_StdNormAnomalyRes//TRMM_JJ_2007169.tif.tif"
       ]
      },
      {
       "output_type": "stream",
       "stream": "stdout",
       "text": [
        "\n",
        "D:\\Data\\0_DAILY_INTERVAL_NDVI_TRMM\\Jiujang\\TRMM2007_WetYear\\10_Day_Period\\10_DaySums_StdNormAnomalyRes//TRMM_JJ_2007170.tif.tif\n",
        "D:\\Data\\0_DAILY_INTERVAL_NDVI_TRMM\\Jiujang\\TRMM2007_WetYear\\10_Day_Period\\10_DaySums_StdNormAnomalyRes//TRMM_JJ_2007171.tif.tif\n",
        "D:\\Data\\0_DAILY_INTERVAL_NDVI_TRMM\\Jiujang\\TRMM2007_WetYear\\10_Day_Period\\10_DaySums_StdNormAnomalyRes//TRMM_JJ_2007172.tif.tif"
       ]
      },
      {
       "output_type": "stream",
       "stream": "stdout",
       "text": [
        "\n",
        "D:\\Data\\0_DAILY_INTERVAL_NDVI_TRMM\\Jiujang\\TRMM2007_WetYear\\10_Day_Period\\10_DaySums_StdNormAnomalyRes//TRMM_JJ_2007173.tif.tif\n",
        "D:\\Data\\0_DAILY_INTERVAL_NDVI_TRMM\\Jiujang\\TRMM2007_WetYear\\10_Day_Period\\10_DaySums_StdNormAnomalyRes//TRMM_JJ_2007174.tif.tif\n",
        "D:\\Data\\0_DAILY_INTERVAL_NDVI_TRMM\\Jiujang\\TRMM2007_WetYear\\10_Day_Period\\10_DaySums_StdNormAnomalyRes//TRMM_JJ_2007175.tif.tif"
       ]
      },
      {
       "output_type": "stream",
       "stream": "stdout",
       "text": [
        "\n",
        "D:\\Data\\0_DAILY_INTERVAL_NDVI_TRMM\\Jiujang\\TRMM2007_WetYear\\10_Day_Period\\10_DaySums_StdNormAnomalyRes//TRMM_JJ_2007176.tif.tif\n",
        "D:\\Data\\0_DAILY_INTERVAL_NDVI_TRMM\\Jiujang\\TRMM2007_WetYear\\10_Day_Period\\10_DaySums_StdNormAnomalyRes//TRMM_JJ_2007177.tif.tif\n",
        "D:\\Data\\0_DAILY_INTERVAL_NDVI_TRMM\\Jiujang\\TRMM2007_WetYear\\10_Day_Period\\10_DaySums_StdNormAnomalyRes//TRMM_JJ_2007178.tif.tif"
       ]
      },
      {
       "output_type": "stream",
       "stream": "stdout",
       "text": [
        "\n",
        "D:\\Data\\0_DAILY_INTERVAL_NDVI_TRMM\\Jiujang\\TRMM2007_WetYear\\10_Day_Period\\10_DaySums_StdNormAnomalyRes//TRMM_JJ_2007179.tif.tif\n",
        "D:\\Data\\0_DAILY_INTERVAL_NDVI_TRMM\\Jiujang\\TRMM2007_WetYear\\10_Day_Period\\10_DaySums_StdNormAnomalyRes//TRMM_JJ_2007180.tif.tif\n",
        "D:\\Data\\0_DAILY_INTERVAL_NDVI_TRMM\\Jiujang\\TRMM2007_WetYear\\10_Day_Period\\10_DaySums_StdNormAnomalyRes//TRMM_JJ_2007181.tif.tif"
       ]
      },
      {
       "output_type": "stream",
       "stream": "stdout",
       "text": [
        "\n",
        "D:\\Data\\0_DAILY_INTERVAL_NDVI_TRMM\\Jiujang\\TRMM2007_WetYear\\10_Day_Period\\10_DaySums_StdNormAnomalyRes//TRMM_JJ_2007182.tif.tif\n",
        "D:\\Data\\0_DAILY_INTERVAL_NDVI_TRMM\\Jiujang\\TRMM2007_WetYear\\10_Day_Period\\10_DaySums_StdNormAnomalyRes//TRMM_JJ_2007183.tif.tif\n",
        "D:\\Data\\0_DAILY_INTERVAL_NDVI_TRMM\\Jiujang\\TRMM2007_WetYear\\10_Day_Period\\10_DaySums_StdNormAnomalyRes//TRMM_JJ_2007184.tif.tif"
       ]
      },
      {
       "output_type": "stream",
       "stream": "stdout",
       "text": [
        "\n",
        "D:\\Data\\0_DAILY_INTERVAL_NDVI_TRMM\\Jiujang\\TRMM2007_WetYear\\10_Day_Period\\10_DaySums_StdNormAnomalyRes//TRMM_JJ_2007185.tif.tif\n",
        "D:\\Data\\0_DAILY_INTERVAL_NDVI_TRMM\\Jiujang\\TRMM2007_WetYear\\10_Day_Period\\10_DaySums_StdNormAnomalyRes//TRMM_JJ_2007186.tif.tif\n",
        "D:\\Data\\0_DAILY_INTERVAL_NDVI_TRMM\\Jiujang\\TRMM2007_WetYear\\10_Day_Period\\10_DaySums_StdNormAnomalyRes//TRMM_JJ_2007187.tif.tif"
       ]
      },
      {
       "output_type": "stream",
       "stream": "stdout",
       "text": [
        "\n",
        "D:\\Data\\0_DAILY_INTERVAL_NDVI_TRMM\\Jiujang\\TRMM2007_WetYear\\10_Day_Period\\10_DaySums_StdNormAnomalyRes//TRMM_JJ_2007188.tif.tif\n",
        "D:\\Data\\0_DAILY_INTERVAL_NDVI_TRMM\\Jiujang\\TRMM2007_WetYear\\10_Day_Period\\10_DaySums_StdNormAnomalyRes//TRMM_JJ_2007189.tif.tif\n",
        "D:\\Data\\0_DAILY_INTERVAL_NDVI_TRMM\\Jiujang\\TRMM2007_WetYear\\10_Day_Period\\10_DaySums_StdNormAnomalyRes//TRMM_JJ_2007190.tif.tif"
       ]
      },
      {
       "output_type": "stream",
       "stream": "stdout",
       "text": [
        "\n",
        "D:\\Data\\0_DAILY_INTERVAL_NDVI_TRMM\\Jiujang\\TRMM2007_WetYear\\10_Day_Period\\10_DaySums_StdNormAnomalyRes//TRMM_JJ_2007191.tif.tif\n",
        "D:\\Data\\0_DAILY_INTERVAL_NDVI_TRMM\\Jiujang\\TRMM2007_WetYear\\10_Day_Period\\10_DaySums_StdNormAnomalyRes//TRMM_JJ_2007192.tif.tif\n",
        "D:\\Data\\0_DAILY_INTERVAL_NDVI_TRMM\\Jiujang\\TRMM2007_WetYear\\10_Day_Period\\10_DaySums_StdNormAnomalyRes//TRMM_JJ_2007193.tif.tif"
       ]
      },
      {
       "output_type": "stream",
       "stream": "stdout",
       "text": [
        "\n",
        "D:\\Data\\0_DAILY_INTERVAL_NDVI_TRMM\\Jiujang\\TRMM2007_WetYear\\10_Day_Period\\10_DaySums_StdNormAnomalyRes//TRMM_JJ_2007194.tif.tif\n",
        "D:\\Data\\0_DAILY_INTERVAL_NDVI_TRMM\\Jiujang\\TRMM2007_WetYear\\10_Day_Period\\10_DaySums_StdNormAnomalyRes//TRMM_JJ_2007195.tif.tif\n",
        "D:\\Data\\0_DAILY_INTERVAL_NDVI_TRMM\\Jiujang\\TRMM2007_WetYear\\10_Day_Period\\10_DaySums_StdNormAnomalyRes//TRMM_JJ_2007196.tif.tif"
       ]
      },
      {
       "output_type": "stream",
       "stream": "stdout",
       "text": [
        "\n",
        "D:\\Data\\0_DAILY_INTERVAL_NDVI_TRMM\\Jiujang\\TRMM2007_WetYear\\10_Day_Period\\10_DaySums_StdNormAnomalyRes//TRMM_JJ_2007197.tif.tif\n",
        "D:\\Data\\0_DAILY_INTERVAL_NDVI_TRMM\\Jiujang\\TRMM2007_WetYear\\10_Day_Period\\10_DaySums_StdNormAnomalyRes//TRMM_JJ_2007198.tif.tif\n",
        "D:\\Data\\0_DAILY_INTERVAL_NDVI_TRMM\\Jiujang\\TRMM2007_WetYear\\10_Day_Period\\10_DaySums_StdNormAnomalyRes//TRMM_JJ_2007199.tif.tif"
       ]
      },
      {
       "output_type": "stream",
       "stream": "stdout",
       "text": [
        "\n",
        "D:\\Data\\0_DAILY_INTERVAL_NDVI_TRMM\\Jiujang\\TRMM2007_WetYear\\10_Day_Period\\10_DaySums_StdNormAnomalyRes//TRMM_JJ_2007200.tif.tif\n",
        "D:\\Data\\0_DAILY_INTERVAL_NDVI_TRMM\\Jiujang\\TRMM2007_WetYear\\10_Day_Period\\10_DaySums_StdNormAnomalyRes//TRMM_JJ_2007201.tif.tif\n",
        "D:\\Data\\0_DAILY_INTERVAL_NDVI_TRMM\\Jiujang\\TRMM2007_WetYear\\10_Day_Period\\10_DaySums_StdNormAnomalyRes//TRMM_JJ_2007202.tif.tif"
       ]
      },
      {
       "output_type": "stream",
       "stream": "stdout",
       "text": [
        "\n",
        "D:\\Data\\0_DAILY_INTERVAL_NDVI_TRMM\\Jiujang\\TRMM2007_WetYear\\10_Day_Period\\10_DaySums_StdNormAnomalyRes//TRMM_JJ_2007203.tif.tif\n",
        "D:\\Data\\0_DAILY_INTERVAL_NDVI_TRMM\\Jiujang\\TRMM2007_WetYear\\10_Day_Period\\10_DaySums_StdNormAnomalyRes//TRMM_JJ_2007204.tif.tif\n",
        "D:\\Data\\0_DAILY_INTERVAL_NDVI_TRMM\\Jiujang\\TRMM2007_WetYear\\10_Day_Period\\10_DaySums_StdNormAnomalyRes//TRMM_JJ_2007205.tif.tif"
       ]
      },
      {
       "output_type": "stream",
       "stream": "stdout",
       "text": [
        "\n",
        "D:\\Data\\0_DAILY_INTERVAL_NDVI_TRMM\\Jiujang\\TRMM2007_WetYear\\10_Day_Period\\10_DaySums_StdNormAnomalyRes//TRMM_JJ_2007206.tif.tif\n",
        "D:\\Data\\0_DAILY_INTERVAL_NDVI_TRMM\\Jiujang\\TRMM2007_WetYear\\10_Day_Period\\10_DaySums_StdNormAnomalyRes//TRMM_JJ_2007207.tif.tif\n",
        "D:\\Data\\0_DAILY_INTERVAL_NDVI_TRMM\\Jiujang\\TRMM2007_WetYear\\10_Day_Period\\10_DaySums_StdNormAnomalyRes//TRMM_JJ_2007208.tif.tif"
       ]
      },
      {
       "output_type": "stream",
       "stream": "stdout",
       "text": [
        "\n",
        "D:\\Data\\0_DAILY_INTERVAL_NDVI_TRMM\\Jiujang\\TRMM2007_WetYear\\10_Day_Period\\10_DaySums_StdNormAnomalyRes//TRMM_JJ_2007209.tif.tif\n",
        "D:\\Data\\0_DAILY_INTERVAL_NDVI_TRMM\\Jiujang\\TRMM2007_WetYear\\10_Day_Period\\10_DaySums_StdNormAnomalyRes//TRMM_JJ_2007210.tif.tif\n",
        "D:\\Data\\0_DAILY_INTERVAL_NDVI_TRMM\\Jiujang\\TRMM2007_WetYear\\10_Day_Period\\10_DaySums_StdNormAnomalyRes//TRMM_JJ_2007211.tif.tif"
       ]
      },
      {
       "output_type": "stream",
       "stream": "stdout",
       "text": [
        "\n",
        "D:\\Data\\0_DAILY_INTERVAL_NDVI_TRMM\\Jiujang\\TRMM2007_WetYear\\10_Day_Period\\10_DaySums_StdNormAnomalyRes//TRMM_JJ_2007212.tif.tif\n",
        "D:\\Data\\0_DAILY_INTERVAL_NDVI_TRMM\\Jiujang\\TRMM2007_WetYear\\10_Day_Period\\10_DaySums_StdNormAnomalyRes//TRMM_JJ_2007213.tif.tif\n",
        "D:\\Data\\0_DAILY_INTERVAL_NDVI_TRMM\\Jiujang\\TRMM2007_WetYear\\10_Day_Period\\10_DaySums_StdNormAnomalyRes//TRMM_JJ_2007214.tif.tif"
       ]
      },
      {
       "output_type": "stream",
       "stream": "stdout",
       "text": [
        "\n",
        "D:\\Data\\0_DAILY_INTERVAL_NDVI_TRMM\\Jiujang\\TRMM2007_WetYear\\10_Day_Period\\10_DaySums_StdNormAnomalyRes//TRMM_JJ_2007215.tif.tif\n",
        "D:\\Data\\0_DAILY_INTERVAL_NDVI_TRMM\\Jiujang\\TRMM2007_WetYear\\10_Day_Period\\10_DaySums_StdNormAnomalyRes//TRMM_JJ_2007216.tif.tif\n",
        "D:\\Data\\0_DAILY_INTERVAL_NDVI_TRMM\\Jiujang\\TRMM2007_WetYear\\10_Day_Period\\10_DaySums_StdNormAnomalyRes//TRMM_JJ_2007217.tif.tif"
       ]
      },
      {
       "output_type": "stream",
       "stream": "stdout",
       "text": [
        "\n",
        "D:\\Data\\0_DAILY_INTERVAL_NDVI_TRMM\\Jiujang\\TRMM2007_WetYear\\10_Day_Period\\10_DaySums_StdNormAnomalyRes//TRMM_JJ_2007218.tif.tif\n",
        "D:\\Data\\0_DAILY_INTERVAL_NDVI_TRMM\\Jiujang\\TRMM2007_WetYear\\10_Day_Period\\10_DaySums_StdNormAnomalyRes//TRMM_JJ_2007219.tif.tif\n",
        "D:\\Data\\0_DAILY_INTERVAL_NDVI_TRMM\\Jiujang\\TRMM2007_WetYear\\10_Day_Period\\10_DaySums_StdNormAnomalyRes//TRMM_JJ_2007220.tif.tif"
       ]
      },
      {
       "output_type": "stream",
       "stream": "stdout",
       "text": [
        "\n",
        "D:\\Data\\0_DAILY_INTERVAL_NDVI_TRMM\\Jiujang\\TRMM2007_WetYear\\10_Day_Period\\10_DaySums_StdNormAnomalyRes//TRMM_JJ_2007221.tif.tif\n",
        "D:\\Data\\0_DAILY_INTERVAL_NDVI_TRMM\\Jiujang\\TRMM2007_WetYear\\10_Day_Period\\10_DaySums_StdNormAnomalyRes//TRMM_JJ_2007222.tif.tif\n",
        "D:\\Data\\0_DAILY_INTERVAL_NDVI_TRMM\\Jiujang\\TRMM2007_WetYear\\10_Day_Period\\10_DaySums_StdNormAnomalyRes//TRMM_JJ_2007223.tif.tif"
       ]
      },
      {
       "output_type": "stream",
       "stream": "stdout",
       "text": [
        "\n",
        "D:\\Data\\0_DAILY_INTERVAL_NDVI_TRMM\\Jiujang\\TRMM2007_WetYear\\10_Day_Period\\10_DaySums_StdNormAnomalyRes//TRMM_JJ_2007224.tif.tif\n",
        "D:\\Data\\0_DAILY_INTERVAL_NDVI_TRMM\\Jiujang\\TRMM2007_WetYear\\10_Day_Period\\10_DaySums_StdNormAnomalyRes//TRMM_JJ_2007225.tif.tif\n",
        "D:\\Data\\0_DAILY_INTERVAL_NDVI_TRMM\\Jiujang\\TRMM2007_WetYear\\10_Day_Period\\10_DaySums_StdNormAnomalyRes//TRMM_JJ_2007226.tif.tif"
       ]
      },
      {
       "output_type": "stream",
       "stream": "stdout",
       "text": [
        "\n",
        "D:\\Data\\0_DAILY_INTERVAL_NDVI_TRMM\\Jiujang\\TRMM2007_WetYear\\10_Day_Period\\10_DaySums_StdNormAnomalyRes//TRMM_JJ_2007227.tif.tif\n",
        "D:\\Data\\0_DAILY_INTERVAL_NDVI_TRMM\\Jiujang\\TRMM2007_WetYear\\10_Day_Period\\10_DaySums_StdNormAnomalyRes//TRMM_JJ_2007228.tif.tif\n",
        "D:\\Data\\0_DAILY_INTERVAL_NDVI_TRMM\\Jiujang\\TRMM2007_WetYear\\10_Day_Period\\10_DaySums_StdNormAnomalyRes//TRMM_JJ_2007229.tif.tif"
       ]
      },
      {
       "output_type": "stream",
       "stream": "stdout",
       "text": [
        "\n",
        "D:\\Data\\0_DAILY_INTERVAL_NDVI_TRMM\\Jiujang\\TRMM2007_WetYear\\10_Day_Period\\10_DaySums_StdNormAnomalyRes//TRMM_JJ_2007230.tif.tif\n",
        "D:\\Data\\0_DAILY_INTERVAL_NDVI_TRMM\\Jiujang\\TRMM2007_WetYear\\10_Day_Period\\10_DaySums_StdNormAnomalyRes//TRMM_JJ_2007231.tif.tif\n",
        "D:\\Data\\0_DAILY_INTERVAL_NDVI_TRMM\\Jiujang\\TRMM2007_WetYear\\10_Day_Period\\10_DaySums_StdNormAnomalyRes//TRMM_JJ_2007232.tif.tif"
       ]
      },
      {
       "output_type": "stream",
       "stream": "stdout",
       "text": [
        "\n",
        "D:\\Data\\0_DAILY_INTERVAL_NDVI_TRMM\\Jiujang\\TRMM2007_WetYear\\10_Day_Period\\10_DaySums_StdNormAnomalyRes//TRMM_JJ_2007233.tif.tif\n",
        "D:\\Data\\0_DAILY_INTERVAL_NDVI_TRMM\\Jiujang\\TRMM2007_WetYear\\10_Day_Period\\10_DaySums_StdNormAnomalyRes//TRMM_JJ_2007234.tif.tif\n",
        "D:\\Data\\0_DAILY_INTERVAL_NDVI_TRMM\\Jiujang\\TRMM2007_WetYear\\10_Day_Period\\10_DaySums_StdNormAnomalyRes//TRMM_JJ_2007235.tif.tif"
       ]
      },
      {
       "output_type": "stream",
       "stream": "stdout",
       "text": [
        "\n",
        "D:\\Data\\0_DAILY_INTERVAL_NDVI_TRMM\\Jiujang\\TRMM2007_WetYear\\10_Day_Period\\10_DaySums_StdNormAnomalyRes//TRMM_JJ_2007236.tif.tif\n",
        "D:\\Data\\0_DAILY_INTERVAL_NDVI_TRMM\\Jiujang\\TRMM2007_WetYear\\10_Day_Period\\10_DaySums_StdNormAnomalyRes//TRMM_JJ_2007237.tif.tif\n",
        "D:\\Data\\0_DAILY_INTERVAL_NDVI_TRMM\\Jiujang\\TRMM2007_WetYear\\10_Day_Period\\10_DaySums_StdNormAnomalyRes//TRMM_JJ_2007238.tif.tif"
       ]
      },
      {
       "output_type": "stream",
       "stream": "stdout",
       "text": [
        "\n",
        "D:\\Data\\0_DAILY_INTERVAL_NDVI_TRMM\\Jiujang\\TRMM2007_WetYear\\10_Day_Period\\10_DaySums_StdNormAnomalyRes//TRMM_JJ_2007239.tif.tif\n",
        "D:\\Data\\0_DAILY_INTERVAL_NDVI_TRMM\\Jiujang\\TRMM2007_WetYear\\10_Day_Period\\10_DaySums_StdNormAnomalyRes//TRMM_JJ_2007240.tif.tif\n",
        "D:\\Data\\0_DAILY_INTERVAL_NDVI_TRMM\\Jiujang\\TRMM2007_WetYear\\10_Day_Period\\10_DaySums_StdNormAnomalyRes//TRMM_JJ_2007241.tif.tif"
       ]
      },
      {
       "output_type": "stream",
       "stream": "stdout",
       "text": [
        "\n",
        "D:\\Data\\0_DAILY_INTERVAL_NDVI_TRMM\\Jiujang\\TRMM2007_WetYear\\10_Day_Period\\10_DaySums_StdNormAnomalyRes//TRMM_JJ_2007242.tif.tif\n",
        "D:\\Data\\0_DAILY_INTERVAL_NDVI_TRMM\\Jiujang\\TRMM2007_WetYear\\10_Day_Period\\10_DaySums_StdNormAnomalyRes//TRMM_JJ_2007243.tif.tif\n",
        "D:\\Data\\0_DAILY_INTERVAL_NDVI_TRMM\\Jiujang\\TRMM2007_WetYear\\10_Day_Period\\10_DaySums_StdNormAnomalyRes//TRMM_JJ_2007244.tif.tif"
       ]
      },
      {
       "output_type": "stream",
       "stream": "stdout",
       "text": [
        "\n",
        "D:\\Data\\0_DAILY_INTERVAL_NDVI_TRMM\\Jiujang\\TRMM2007_WetYear\\10_Day_Period\\10_DaySums_StdNormAnomalyRes//TRMM_JJ_2007245.tif.tif\n",
        "D:\\Data\\0_DAILY_INTERVAL_NDVI_TRMM\\Jiujang\\TRMM2007_WetYear\\10_Day_Period\\10_DaySums_StdNormAnomalyRes//TRMM_JJ_2007246.tif.tif\n",
        "D:\\Data\\0_DAILY_INTERVAL_NDVI_TRMM\\Jiujang\\TRMM2007_WetYear\\10_Day_Period\\10_DaySums_StdNormAnomalyRes//TRMM_JJ_2007247.tif.tif"
       ]
      },
      {
       "output_type": "stream",
       "stream": "stdout",
       "text": [
        "\n",
        "D:\\Data\\0_DAILY_INTERVAL_NDVI_TRMM\\Jiujang\\TRMM2007_WetYear\\10_Day_Period\\10_DaySums_StdNormAnomalyRes//TRMM_JJ_2007248.tif.tif\n",
        "D:\\Data\\0_DAILY_INTERVAL_NDVI_TRMM\\Jiujang\\TRMM2007_WetYear\\10_Day_Period\\10_DaySums_StdNormAnomalyRes//TRMM_JJ_2007249.tif.tif\n",
        "D:\\Data\\0_DAILY_INTERVAL_NDVI_TRMM\\Jiujang\\TRMM2007_WetYear\\10_Day_Period\\10_DaySums_StdNormAnomalyRes//TRMM_JJ_2007250.tif.tif"
       ]
      },
      {
       "output_type": "stream",
       "stream": "stdout",
       "text": [
        "\n",
        "D:\\Data\\0_DAILY_INTERVAL_NDVI_TRMM\\Jiujang\\TRMM2007_WetYear\\10_Day_Period\\10_DaySums_StdNormAnomalyRes//TRMM_JJ_2007251.tif.tif\n",
        "D:\\Data\\0_DAILY_INTERVAL_NDVI_TRMM\\Jiujang\\TRMM2007_WetYear\\10_Day_Period\\10_DaySums_StdNormAnomalyRes//TRMM_JJ_2007252.tif.tif\n",
        "D:\\Data\\0_DAILY_INTERVAL_NDVI_TRMM\\Jiujang\\TRMM2007_WetYear\\10_Day_Period\\10_DaySums_StdNormAnomalyRes//TRMM_JJ_2007253.tif.tif"
       ]
      },
      {
       "output_type": "stream",
       "stream": "stdout",
       "text": [
        "\n",
        "D:\\Data\\0_DAILY_INTERVAL_NDVI_TRMM\\Jiujang\\TRMM2007_WetYear\\10_Day_Period\\10_DaySums_StdNormAnomalyRes//TRMM_JJ_2007254.tif.tif\n",
        "D:\\Data\\0_DAILY_INTERVAL_NDVI_TRMM\\Jiujang\\TRMM2007_WetYear\\10_Day_Period\\10_DaySums_StdNormAnomalyRes//TRMM_JJ_2007255.tif.tif\n",
        "D:\\Data\\0_DAILY_INTERVAL_NDVI_TRMM\\Jiujang\\TRMM2007_WetYear\\10_Day_Period\\10_DaySums_StdNormAnomalyRes//TRMM_JJ_2007256.tif.tif"
       ]
      },
      {
       "output_type": "stream",
       "stream": "stdout",
       "text": [
        "\n",
        "D:\\Data\\0_DAILY_INTERVAL_NDVI_TRMM\\Jiujang\\TRMM2007_WetYear\\10_Day_Period\\10_DaySums_StdNormAnomalyRes//TRMM_JJ_2007257.tif.tif\n",
        "D:\\Data\\0_DAILY_INTERVAL_NDVI_TRMM\\Jiujang\\TRMM2007_WetYear\\10_Day_Period\\10_DaySums_StdNormAnomalyRes//TRMM_JJ_2007258.tif.tif\n",
        "D:\\Data\\0_DAILY_INTERVAL_NDVI_TRMM\\Jiujang\\TRMM2007_WetYear\\10_Day_Period\\10_DaySums_StdNormAnomalyRes//TRMM_JJ_2007259.tif.tif"
       ]
      },
      {
       "output_type": "stream",
       "stream": "stdout",
       "text": [
        "\n",
        "D:\\Data\\0_DAILY_INTERVAL_NDVI_TRMM\\Jiujang\\TRMM2007_WetYear\\10_Day_Period\\10_DaySums_StdNormAnomalyRes//TRMM_JJ_2007260.tif.tif\n",
        "D:\\Data\\0_DAILY_INTERVAL_NDVI_TRMM\\Jiujang\\TRMM2007_WetYear\\10_Day_Period\\10_DaySums_StdNormAnomalyRes//TRMM_JJ_2007261.tif.tif\n",
        "D:\\Data\\0_DAILY_INTERVAL_NDVI_TRMM\\Jiujang\\TRMM2007_WetYear\\10_Day_Period\\10_DaySums_StdNormAnomalyRes//TRMM_JJ_2007262.tif.tif"
       ]
      },
      {
       "output_type": "stream",
       "stream": "stdout",
       "text": [
        "\n",
        "D:\\Data\\0_DAILY_INTERVAL_NDVI_TRMM\\Jiujang\\TRMM2007_WetYear\\10_Day_Period\\10_DaySums_StdNormAnomalyRes//TRMM_JJ_2007263.tif.tif\n",
        "D:\\Data\\0_DAILY_INTERVAL_NDVI_TRMM\\Jiujang\\TRMM2007_WetYear\\10_Day_Period\\10_DaySums_StdNormAnomalyRes//TRMM_JJ_2007264.tif.tif\n",
        "D:\\Data\\0_DAILY_INTERVAL_NDVI_TRMM\\Jiujang\\TRMM2007_WetYear\\10_Day_Period\\10_DaySums_StdNormAnomalyRes//TRMM_JJ_2007265.tif.tif"
       ]
      },
      {
       "output_type": "stream",
       "stream": "stdout",
       "text": [
        "\n",
        "D:\\Data\\0_DAILY_INTERVAL_NDVI_TRMM\\Jiujang\\TRMM2007_WetYear\\10_Day_Period\\10_DaySums_StdNormAnomalyRes//TRMM_JJ_2007266.tif.tif\n",
        "D:\\Data\\0_DAILY_INTERVAL_NDVI_TRMM\\Jiujang\\TRMM2007_WetYear\\10_Day_Period\\10_DaySums_StdNormAnomalyRes//TRMM_JJ_2007267.tif.tif\n",
        "D:\\Data\\0_DAILY_INTERVAL_NDVI_TRMM\\Jiujang\\TRMM2007_WetYear\\10_Day_Period\\10_DaySums_StdNormAnomalyRes//TRMM_JJ_2007268.tif.tif"
       ]
      },
      {
       "output_type": "stream",
       "stream": "stdout",
       "text": [
        "\n",
        "D:\\Data\\0_DAILY_INTERVAL_NDVI_TRMM\\Jiujang\\TRMM2007_WetYear\\10_Day_Period\\10_DaySums_StdNormAnomalyRes//TRMM_JJ_2007269.tif.tif\n",
        "D:\\Data\\0_DAILY_INTERVAL_NDVI_TRMM\\Jiujang\\TRMM2007_WetYear\\10_Day_Period\\10_DaySums_StdNormAnomalyRes//TRMM_JJ_2007270.tif.tif\n",
        "D:\\Data\\0_DAILY_INTERVAL_NDVI_TRMM\\Jiujang\\TRMM2007_WetYear\\10_Day_Period\\10_DaySums_StdNormAnomalyRes//TRMM_JJ_2007271.tif.tif"
       ]
      },
      {
       "output_type": "stream",
       "stream": "stdout",
       "text": [
        "\n",
        "D:\\Data\\0_DAILY_INTERVAL_NDVI_TRMM\\Jiujang\\TRMM2007_WetYear\\10_Day_Period\\10_DaySums_StdNormAnomalyRes//TRMM_JJ_2007272.tif.tif\n",
        "D:\\Data\\0_DAILY_INTERVAL_NDVI_TRMM\\Jiujang\\TRMM2007_WetYear\\10_Day_Period\\10_DaySums_StdNormAnomalyRes//TRMM_JJ_2007273.tif.tif\n",
        "D:\\Data\\0_DAILY_INTERVAL_NDVI_TRMM\\Jiujang\\TRMM2007_WetYear\\10_Day_Period\\10_DaySums_StdNormAnomalyRes//TRMM_JJ_2007274.tif.tif"
       ]
      },
      {
       "output_type": "stream",
       "stream": "stdout",
       "text": [
        "\n",
        "D:\\Data\\0_DAILY_INTERVAL_NDVI_TRMM\\Jiujang\\TRMM2007_WetYear\\10_Day_Period\\10_DaySums_StdNormAnomalyRes//TRMM_JJ_2007275.tif.tif\n",
        "D:\\Data\\0_DAILY_INTERVAL_NDVI_TRMM\\Jiujang\\TRMM2007_WetYear\\10_Day_Period\\10_DaySums_StdNormAnomalyRes//TRMM_JJ_2007276.tif.tif\n",
        "D:\\Data\\0_DAILY_INTERVAL_NDVI_TRMM\\Jiujang\\TRMM2007_WetYear\\10_Day_Period\\10_DaySums_StdNormAnomalyRes//TRMM_JJ_2007277.tif.tif"
       ]
      },
      {
       "output_type": "stream",
       "stream": "stdout",
       "text": [
        "\n",
        "D:\\Data\\0_DAILY_INTERVAL_NDVI_TRMM\\Jiujang\\TRMM2007_WetYear\\10_Day_Period\\10_DaySums_StdNormAnomalyRes//TRMM_JJ_2007278.tif.tif\n",
        "D:\\Data\\0_DAILY_INTERVAL_NDVI_TRMM\\Jiujang\\TRMM2007_WetYear\\10_Day_Period\\10_DaySums_StdNormAnomalyRes//TRMM_JJ_2007279.tif.tif\n",
        "D:\\Data\\0_DAILY_INTERVAL_NDVI_TRMM\\Jiujang\\TRMM2007_WetYear\\10_Day_Period\\10_DaySums_StdNormAnomalyRes//TRMM_JJ_2007280.tif.tif"
       ]
      },
      {
       "output_type": "stream",
       "stream": "stdout",
       "text": [
        "\n",
        "D:\\Data\\0_DAILY_INTERVAL_NDVI_TRMM\\Jiujang\\TRMM2007_WetYear\\10_Day_Period\\10_DaySums_StdNormAnomalyRes//TRMM_JJ_2007281.tif.tif\n",
        "D:\\Data\\0_DAILY_INTERVAL_NDVI_TRMM\\Jiujang\\TRMM2007_WetYear\\10_Day_Period\\10_DaySums_StdNormAnomalyRes//TRMM_JJ_2007282.tif.tif\n",
        "D:\\Data\\0_DAILY_INTERVAL_NDVI_TRMM\\Jiujang\\TRMM2007_WetYear\\10_Day_Period\\10_DaySums_StdNormAnomalyRes//TRMM_JJ_2007283.tif.tif"
       ]
      },
      {
       "output_type": "stream",
       "stream": "stdout",
       "text": [
        "\n",
        "D:\\Data\\0_DAILY_INTERVAL_NDVI_TRMM\\Jiujang\\TRMM2007_WetYear\\10_Day_Period\\10_DaySums_StdNormAnomalyRes//TRMM_JJ_2007284.tif.tif\n",
        "D:\\Data\\0_DAILY_INTERVAL_NDVI_TRMM\\Jiujang\\TRMM2007_WetYear\\10_Day_Period\\10_DaySums_StdNormAnomalyRes//TRMM_JJ_2007285.tif.tif\n",
        "D:\\Data\\0_DAILY_INTERVAL_NDVI_TRMM\\Jiujang\\TRMM2007_WetYear\\10_Day_Period\\10_DaySums_StdNormAnomalyRes//TRMM_JJ_2007286.tif.tif"
       ]
      },
      {
       "output_type": "stream",
       "stream": "stdout",
       "text": [
        "\n",
        "D:\\Data\\0_DAILY_INTERVAL_NDVI_TRMM\\Jiujang\\TRMM2007_WetYear\\10_Day_Period\\10_DaySums_StdNormAnomalyRes//TRMM_JJ_2007287.tif.tif\n",
        "D:\\Data\\0_DAILY_INTERVAL_NDVI_TRMM\\Jiujang\\TRMM2007_WetYear\\10_Day_Period\\10_DaySums_StdNormAnomalyRes//TRMM_JJ_2007288.tif.tif\n",
        "D:\\Data\\0_DAILY_INTERVAL_NDVI_TRMM\\Jiujang\\TRMM2007_WetYear\\10_Day_Period\\10_DaySums_StdNormAnomalyRes//TRMM_JJ_2007289.tif.tif"
       ]
      },
      {
       "output_type": "stream",
       "stream": "stdout",
       "text": [
        "\n",
        "D:\\Data\\0_DAILY_INTERVAL_NDVI_TRMM\\Jiujang\\TRMM2007_WetYear\\10_Day_Period\\10_DaySums_StdNormAnomalyRes//TRMM_JJ_2007290.tif.tif\n",
        "D:\\Data\\0_DAILY_INTERVAL_NDVI_TRMM\\Jiujang\\TRMM2007_WetYear\\10_Day_Period\\10_DaySums_StdNormAnomalyRes//TRMM_JJ_2007291.tif.tif\n",
        "D:\\Data\\0_DAILY_INTERVAL_NDVI_TRMM\\Jiujang\\TRMM2007_WetYear\\10_Day_Period\\10_DaySums_StdNormAnomalyRes//TRMM_JJ_2007292.tif.tif"
       ]
      },
      {
       "output_type": "stream",
       "stream": "stdout",
       "text": [
        "\n",
        "D:\\Data\\0_DAILY_INTERVAL_NDVI_TRMM\\Jiujang\\TRMM2007_WetYear\\10_Day_Period\\10_DaySums_StdNormAnomalyRes//TRMM_JJ_2007293.tif.tif\n",
        "D:\\Data\\0_DAILY_INTERVAL_NDVI_TRMM\\Jiujang\\TRMM2007_WetYear\\10_Day_Period\\10_DaySums_StdNormAnomalyRes//TRMM_JJ_2007294.tif.tif\n",
        "D:\\Data\\0_DAILY_INTERVAL_NDVI_TRMM\\Jiujang\\TRMM2007_WetYear\\10_Day_Period\\10_DaySums_StdNormAnomalyRes//TRMM_JJ_2007295.tif.tif"
       ]
      },
      {
       "output_type": "stream",
       "stream": "stdout",
       "text": [
        "\n",
        "D:\\Data\\0_DAILY_INTERVAL_NDVI_TRMM\\Jiujang\\TRMM2007_WetYear\\10_Day_Period\\10_DaySums_StdNormAnomalyRes//TRMM_JJ_2007296.tif.tif\n",
        "D:\\Data\\0_DAILY_INTERVAL_NDVI_TRMM\\Jiujang\\TRMM2007_WetYear\\10_Day_Period\\10_DaySums_StdNormAnomalyRes//TRMM_JJ_2007297.tif.tif\n",
        "D:\\Data\\0_DAILY_INTERVAL_NDVI_TRMM\\Jiujang\\TRMM2007_WetYear\\10_Day_Period\\10_DaySums_StdNormAnomalyRes//TRMM_JJ_2007298.tif.tif"
       ]
      },
      {
       "output_type": "stream",
       "stream": "stdout",
       "text": [
        "\n",
        "D:\\Data\\0_DAILY_INTERVAL_NDVI_TRMM\\Jiujang\\TRMM2007_WetYear\\10_Day_Period\\10_DaySums_StdNormAnomalyRes//TRMM_JJ_2007299.tif.tif\n",
        "D:\\Data\\0_DAILY_INTERVAL_NDVI_TRMM\\Jiujang\\TRMM2007_WetYear\\10_Day_Period\\10_DaySums_StdNormAnomalyRes//TRMM_JJ_2007300.tif.tif\n",
        "D:\\Data\\0_DAILY_INTERVAL_NDVI_TRMM\\Jiujang\\TRMM2007_WetYear\\10_Day_Period\\10_DaySums_StdNormAnomalyRes//TRMM_JJ_2007301.tif.tif"
       ]
      },
      {
       "output_type": "stream",
       "stream": "stdout",
       "text": [
        "\n",
        "D:\\Data\\0_DAILY_INTERVAL_NDVI_TRMM\\Jiujang\\TRMM2007_WetYear\\10_Day_Period\\10_DaySums_StdNormAnomalyRes//TRMM_JJ_2007302.tif.tif\n",
        "D:\\Data\\0_DAILY_INTERVAL_NDVI_TRMM\\Jiujang\\TRMM2007_WetYear\\10_Day_Period\\10_DaySums_StdNormAnomalyRes//TRMM_JJ_2007303.tif.tif\n",
        "D:\\Data\\0_DAILY_INTERVAL_NDVI_TRMM\\Jiujang\\TRMM2007_WetYear\\10_Day_Period\\10_DaySums_StdNormAnomalyRes//TRMM_JJ_2007304.tif.tif"
       ]
      },
      {
       "output_type": "stream",
       "stream": "stdout",
       "text": [
        "\n",
        "D:\\Data\\0_DAILY_INTERVAL_NDVI_TRMM\\Jiujang\\TRMM2007_WetYear\\10_Day_Period\\10_DaySums_StdNormAnomalyRes//TRMM_JJ_2007305.tif.tif\n",
        "D:\\Data\\0_DAILY_INTERVAL_NDVI_TRMM\\Jiujang\\TRMM2007_WetYear\\10_Day_Period\\10_DaySums_StdNormAnomalyRes//TRMM_JJ_2007306.tif.tif\n",
        "D:\\Data\\0_DAILY_INTERVAL_NDVI_TRMM\\Jiujang\\TRMM2007_WetYear\\10_Day_Period\\10_DaySums_StdNormAnomalyRes//TRMM_JJ_2007307.tif.tif"
       ]
      },
      {
       "output_type": "stream",
       "stream": "stdout",
       "text": [
        "\n",
        "D:\\Data\\0_DAILY_INTERVAL_NDVI_TRMM\\Jiujang\\TRMM2007_WetYear\\10_Day_Period\\10_DaySums_StdNormAnomalyRes//TRMM_JJ_2007308.tif.tif\n",
        "D:\\Data\\0_DAILY_INTERVAL_NDVI_TRMM\\Jiujang\\TRMM2007_WetYear\\10_Day_Period\\10_DaySums_StdNormAnomalyRes//TRMM_JJ_2007309.tif.tif\n",
        "D:\\Data\\0_DAILY_INTERVAL_NDVI_TRMM\\Jiujang\\TRMM2007_WetYear\\10_Day_Period\\10_DaySums_StdNormAnomalyRes//TRMM_JJ_2007310.tif.tif"
       ]
      },
      {
       "output_type": "stream",
       "stream": "stdout",
       "text": [
        "\n",
        "D:\\Data\\0_DAILY_INTERVAL_NDVI_TRMM\\Jiujang\\TRMM2007_WetYear\\10_Day_Period\\10_DaySums_StdNormAnomalyRes//TRMM_JJ_2007311.tif.tif\n",
        "D:\\Data\\0_DAILY_INTERVAL_NDVI_TRMM\\Jiujang\\TRMM2007_WetYear\\10_Day_Period\\10_DaySums_StdNormAnomalyRes//TRMM_JJ_2007312.tif.tif\n",
        "D:\\Data\\0_DAILY_INTERVAL_NDVI_TRMM\\Jiujang\\TRMM2007_WetYear\\10_Day_Period\\10_DaySums_StdNormAnomalyRes//TRMM_JJ_2007313.tif.tif"
       ]
      },
      {
       "output_type": "stream",
       "stream": "stdout",
       "text": [
        "\n",
        "D:\\Data\\0_DAILY_INTERVAL_NDVI_TRMM\\Jiujang\\TRMM2007_WetYear\\10_Day_Period\\10_DaySums_StdNormAnomalyRes//TRMM_JJ_2007314.tif.tif\n",
        "D:\\Data\\0_DAILY_INTERVAL_NDVI_TRMM\\Jiujang\\TRMM2007_WetYear\\10_Day_Period\\10_DaySums_StdNormAnomalyRes//TRMM_JJ_2007315.tif.tif\n",
        "D:\\Data\\0_DAILY_INTERVAL_NDVI_TRMM\\Jiujang\\TRMM2007_WetYear\\10_Day_Period\\10_DaySums_StdNormAnomalyRes//TRMM_JJ_2007316.tif.tif"
       ]
      },
      {
       "output_type": "stream",
       "stream": "stdout",
       "text": [
        "\n",
        "D:\\Data\\0_DAILY_INTERVAL_NDVI_TRMM\\Jiujang\\TRMM2007_WetYear\\10_Day_Period\\10_DaySums_StdNormAnomalyRes//TRMM_JJ_2007317.tif.tif\n",
        "D:\\Data\\0_DAILY_INTERVAL_NDVI_TRMM\\Jiujang\\TRMM2007_WetYear\\10_Day_Period\\10_DaySums_StdNormAnomalyRes//TRMM_JJ_2007318.tif.tif\n",
        "D:\\Data\\0_DAILY_INTERVAL_NDVI_TRMM\\Jiujang\\TRMM2007_WetYear\\10_Day_Period\\10_DaySums_StdNormAnomalyRes//TRMM_JJ_2007319.tif.tif"
       ]
      },
      {
       "output_type": "stream",
       "stream": "stdout",
       "text": [
        "\n",
        "D:\\Data\\0_DAILY_INTERVAL_NDVI_TRMM\\Jiujang\\TRMM2007_WetYear\\10_Day_Period\\10_DaySums_StdNormAnomalyRes//TRMM_JJ_2007320.tif.tif\n",
        "D:\\Data\\0_DAILY_INTERVAL_NDVI_TRMM\\Jiujang\\TRMM2007_WetYear\\10_Day_Period\\10_DaySums_StdNormAnomalyRes//TRMM_JJ_2007321.tif.tif\n",
        "D:\\Data\\0_DAILY_INTERVAL_NDVI_TRMM\\Jiujang\\TRMM2007_WetYear\\10_Day_Period\\10_DaySums_StdNormAnomalyRes//TRMM_JJ_2007322.tif.tif"
       ]
      },
      {
       "output_type": "stream",
       "stream": "stdout",
       "text": [
        "\n",
        "D:\\Data\\0_DAILY_INTERVAL_NDVI_TRMM\\Jiujang\\TRMM2007_WetYear\\10_Day_Period\\10_DaySums_StdNormAnomalyRes//TRMM_JJ_2007323.tif.tif\n",
        "D:\\Data\\0_DAILY_INTERVAL_NDVI_TRMM\\Jiujang\\TRMM2007_WetYear\\10_Day_Period\\10_DaySums_StdNormAnomalyRes//TRMM_JJ_2007324.tif.tif\n",
        "D:\\Data\\0_DAILY_INTERVAL_NDVI_TRMM\\Jiujang\\TRMM2007_WetYear\\10_Day_Period\\10_DaySums_StdNormAnomalyRes//TRMM_JJ_2007325.tif.tif"
       ]
      },
      {
       "output_type": "stream",
       "stream": "stdout",
       "text": [
        "\n",
        "D:\\Data\\0_DAILY_INTERVAL_NDVI_TRMM\\Jiujang\\TRMM2007_WetYear\\10_Day_Period\\10_DaySums_StdNormAnomalyRes//TRMM_JJ_2007326.tif.tif\n",
        "D:\\Data\\0_DAILY_INTERVAL_NDVI_TRMM\\Jiujang\\TRMM2007_WetYear\\10_Day_Period\\10_DaySums_StdNormAnomalyRes//TRMM_JJ_2007327.tif.tif\n",
        "D:\\Data\\0_DAILY_INTERVAL_NDVI_TRMM\\Jiujang\\TRMM2007_WetYear\\10_Day_Period\\10_DaySums_StdNormAnomalyRes//TRMM_JJ_2007328.tif.tif"
       ]
      },
      {
       "output_type": "stream",
       "stream": "stdout",
       "text": [
        "\n",
        "D:\\Data\\0_DAILY_INTERVAL_NDVI_TRMM\\Jiujang\\TRMM2007_WetYear\\10_Day_Period\\10_DaySums_StdNormAnomalyRes//TRMM_JJ_2007329.tif.tif\n",
        "D:\\Data\\0_DAILY_INTERVAL_NDVI_TRMM\\Jiujang\\TRMM2007_WetYear\\10_Day_Period\\10_DaySums_StdNormAnomalyRes//TRMM_JJ_2007330.tif.tif\n",
        "D:\\Data\\0_DAILY_INTERVAL_NDVI_TRMM\\Jiujang\\TRMM2007_WetYear\\10_Day_Period\\10_DaySums_StdNormAnomalyRes//TRMM_JJ_2007331.tif.tif"
       ]
      },
      {
       "output_type": "stream",
       "stream": "stdout",
       "text": [
        "\n",
        "D:\\Data\\0_DAILY_INTERVAL_NDVI_TRMM\\Jiujang\\TRMM2007_WetYear\\10_Day_Period\\10_DaySums_StdNormAnomalyRes//TRMM_JJ_2007332.tif.tif\n",
        "D:\\Data\\0_DAILY_INTERVAL_NDVI_TRMM\\Jiujang\\TRMM2007_WetYear\\10_Day_Period\\10_DaySums_StdNormAnomalyRes//TRMM_JJ_2007333.tif.tif\n",
        "D:\\Data\\0_DAILY_INTERVAL_NDVI_TRMM\\Jiujang\\TRMM2007_WetYear\\10_Day_Period\\10_DaySums_StdNormAnomalyRes//TRMM_JJ_2007334.tif.tif"
       ]
      },
      {
       "output_type": "stream",
       "stream": "stdout",
       "text": [
        "\n",
        "D:\\Data\\0_DAILY_INTERVAL_NDVI_TRMM\\Jiujang\\TRMM2007_WetYear\\10_Day_Period\\10_DaySums_StdNormAnomalyRes//TRMM_JJ_2007335.tif.tif\n",
        "D:\\Data\\0_DAILY_INTERVAL_NDVI_TRMM\\Jiujang\\TRMM2007_WetYear\\10_Day_Period\\10_DaySums_StdNormAnomalyRes//TRMM_JJ_2007336.tif.tif\n",
        "D:\\Data\\0_DAILY_INTERVAL_NDVI_TRMM\\Jiujang\\TRMM2007_WetYear\\10_Day_Period\\10_DaySums_StdNormAnomalyRes//TRMM_JJ_2007337.tif.tif"
       ]
      },
      {
       "output_type": "stream",
       "stream": "stdout",
       "text": [
        "\n",
        "D:\\Data\\0_DAILY_INTERVAL_NDVI_TRMM\\Jiujang\\TRMM2007_WetYear\\10_Day_Period\\10_DaySums_StdNormAnomalyRes//TRMM_JJ_2007338.tif.tif\n",
        "D:\\Data\\0_DAILY_INTERVAL_NDVI_TRMM\\Jiujang\\TRMM2007_WetYear\\10_Day_Period\\10_DaySums_StdNormAnomalyRes//TRMM_JJ_2007339.tif.tif\n",
        "D:\\Data\\0_DAILY_INTERVAL_NDVI_TRMM\\Jiujang\\TRMM2007_WetYear\\10_Day_Period\\10_DaySums_StdNormAnomalyRes//TRMM_JJ_2007340.tif.tif"
       ]
      },
      {
       "output_type": "stream",
       "stream": "stdout",
       "text": [
        "\n",
        "D:\\Data\\0_DAILY_INTERVAL_NDVI_TRMM\\Jiujang\\TRMM2007_WetYear\\10_Day_Period\\10_DaySums_StdNormAnomalyRes//TRMM_JJ_2007341.tif.tif\n",
        "D:\\Data\\0_DAILY_INTERVAL_NDVI_TRMM\\Jiujang\\TRMM2007_WetYear\\10_Day_Period\\10_DaySums_StdNormAnomalyRes//TRMM_JJ_2007342.tif.tif\n",
        "D:\\Data\\0_DAILY_INTERVAL_NDVI_TRMM\\Jiujang\\TRMM2007_WetYear\\10_Day_Period\\10_DaySums_StdNormAnomalyRes//TRMM_JJ_2007343.tif.tif"
       ]
      },
      {
       "output_type": "stream",
       "stream": "stdout",
       "text": [
        "\n",
        "D:\\Data\\0_DAILY_INTERVAL_NDVI_TRMM\\Jiujang\\TRMM2007_WetYear\\10_Day_Period\\10_DaySums_StdNormAnomalyRes//TRMM_JJ_2007344.tif.tif\n",
        "D:\\Data\\0_DAILY_INTERVAL_NDVI_TRMM\\Jiujang\\TRMM2007_WetYear\\10_Day_Period\\10_DaySums_StdNormAnomalyRes//TRMM_JJ_2007345.tif.tif\n",
        "D:\\Data\\0_DAILY_INTERVAL_NDVI_TRMM\\Jiujang\\TRMM2007_WetYear\\10_Day_Period\\10_DaySums_StdNormAnomalyRes//TRMM_JJ_2007346.tif.tif"
       ]
      },
      {
       "output_type": "stream",
       "stream": "stdout",
       "text": [
        "\n",
        "D:\\Data\\0_DAILY_INTERVAL_NDVI_TRMM\\Jiujang\\TRMM2007_WetYear\\10_Day_Period\\10_DaySums_StdNormAnomalyRes//TRMM_JJ_2007347.tif.tif\n",
        "D:\\Data\\0_DAILY_INTERVAL_NDVI_TRMM\\Jiujang\\TRMM2007_WetYear\\10_Day_Period\\10_DaySums_StdNormAnomalyRes//TRMM_JJ_2007348.tif.tif\n",
        "D:\\Data\\0_DAILY_INTERVAL_NDVI_TRMM\\Jiujang\\TRMM2007_WetYear\\10_Day_Period\\10_DaySums_StdNormAnomalyRes//TRMM_JJ_2007349.tif.tif"
       ]
      },
      {
       "output_type": "stream",
       "stream": "stdout",
       "text": [
        "\n",
        "D:\\Data\\0_DAILY_INTERVAL_NDVI_TRMM\\Jiujang\\TRMM2007_WetYear\\10_Day_Period\\10_DaySums_StdNormAnomalyRes//TRMM_JJ_2007350.tif.tif\n",
        "D:\\Data\\0_DAILY_INTERVAL_NDVI_TRMM\\Jiujang\\TRMM2007_WetYear\\10_Day_Period\\10_DaySums_StdNormAnomalyRes//TRMM_JJ_2007351.tif.tif\n",
        "D:\\Data\\0_DAILY_INTERVAL_NDVI_TRMM\\Jiujang\\TRMM2007_WetYear\\10_Day_Period\\10_DaySums_StdNormAnomalyRes//TRMM_JJ_2007352.tif.tif"
       ]
      },
      {
       "output_type": "stream",
       "stream": "stdout",
       "text": [
        "\n",
        "D:\\Data\\0_DAILY_INTERVAL_NDVI_TRMM\\Jiujang\\TRMM2007_WetYear\\10_Day_Period\\10_DaySums_StdNormAnomalyRes//TRMM_JJ_2007353.tif.tif\n",
        "D:\\Data\\0_DAILY_INTERVAL_NDVI_TRMM\\Jiujang\\TRMM2007_WetYear\\10_Day_Period\\10_DaySums_StdNormAnomalyRes//TRMM_JJ_2007354.tif.tif\n",
        "D:\\Data\\0_DAILY_INTERVAL_NDVI_TRMM\\Jiujang\\TRMM2007_WetYear\\10_Day_Period\\10_DaySums_StdNormAnomalyRes//TRMM_JJ_2007355.tif.tif"
       ]
      },
      {
       "output_type": "stream",
       "stream": "stdout",
       "text": [
        "\n",
        "D:\\Data\\0_DAILY_INTERVAL_NDVI_TRMM\\Jiujang\\TRMM2007_WetYear\\10_Day_Period\\10_DaySums_StdNormAnomalyRes//TRMM_JJ_2007356.tif.tif\n",
        "D:\\Data\\0_DAILY_INTERVAL_NDVI_TRMM\\Jiujang\\TRMM2007_WetYear\\10_Day_Period\\10_DaySums_StdNormAnomalyRes//TRMM_JJ_2007357.tif.tif\n",
        "D:\\Data\\0_DAILY_INTERVAL_NDVI_TRMM\\Jiujang\\TRMM2007_WetYear\\10_Day_Period\\10_DaySums_StdNormAnomalyRes//TRMM_JJ_2007358.tif.tif"
       ]
      },
      {
       "output_type": "stream",
       "stream": "stdout",
       "text": [
        "\n",
        "D:\\Data\\0_DAILY_INTERVAL_NDVI_TRMM\\Jiujang\\TRMM2007_WetYear\\10_Day_Period\\10_DaySums_StdNormAnomalyRes//TRMM_JJ_2007359.tif.tif\n",
        "D:\\Data\\0_DAILY_INTERVAL_NDVI_TRMM\\Jiujang\\TRMM2007_WetYear\\10_Day_Period\\10_DaySums_StdNormAnomalyRes//TRMM_JJ_2007360.tif.tif\n",
        "D:\\Data\\0_DAILY_INTERVAL_NDVI_TRMM\\Jiujang\\TRMM2007_WetYear\\10_Day_Period\\10_DaySums_StdNormAnomalyRes//TRMM_JJ_2007361.tif.tif"
       ]
      },
      {
       "output_type": "stream",
       "stream": "stdout",
       "text": [
        "\n",
        "D:\\Data\\0_DAILY_INTERVAL_NDVI_TRMM\\Jiujang\\TRMM2007_WetYear\\10_Day_Period\\10_DaySums_StdNormAnomalyRes//TRMM_JJ_2007362.tif.tif\n",
        "D:\\Data\\0_DAILY_INTERVAL_NDVI_TRMM\\Jiujang\\TRMM2007_WetYear\\10_Day_Period\\10_DaySums_StdNormAnomalyRes//TRMM_JJ_2007363.tif.tif\n",
        "D:\\Data\\0_DAILY_INTERVAL_NDVI_TRMM\\Jiujang\\TRMM2007_WetYear\\10_Day_Period\\10_DaySums_StdNormAnomalyRes//TRMM_JJ_2007364.tif.tif"
       ]
      },
      {
       "output_type": "stream",
       "stream": "stdout",
       "text": [
        "\n",
        "D:\\Data\\0_DAILY_INTERVAL_NDVI_TRMM\\Jiujang\\TRMM2007_WetYear\\10_Day_Period\\10_DaySums_StdNormAnomalyRes//TRMM_JJ_2007365.tif.tif\n"
       ]
      }
     ],
     "prompt_number": 44
    },
    {
     "cell_type": "markdown",
     "metadata": {},
     "source": [
      "For Chongqing"
     ]
    },
    {
     "cell_type": "markdown",
     "metadata": {},
     "source": [
      "Still needs to decide which year is dry and wet year"
     ]
    },
    {
     "cell_type": "code",
     "collapsed": false,
     "input": [
      "YEAR = 2000\n",
      "foldertif = r'D:\\Data\\0_DAILY_INTERVAL_NDVI_TRMM\\Chongqing\\TRMM'+YEAR+'2007_WetYear\\10_Day_Period\\10_DaySums_StdNormAnomaly'\n",
      "outfolderresample = r'D:\\Data\\0_DAILY_INTERVAL_NDVI_TRMM\\Chongqing\\TRMM'+YEAR+'_WetYear\\10_Day_Period\\10_DaySums_StdNormAnomalyRes//'\n",
      "tiffiles = FilesFolder(foldertif, '.tif')\n",
      "tiffiles[1]"
     ],
     "language": "python",
     "metadata": {},
     "outputs": []
    }
   ],
   "metadata": {}
  }
 ]
}