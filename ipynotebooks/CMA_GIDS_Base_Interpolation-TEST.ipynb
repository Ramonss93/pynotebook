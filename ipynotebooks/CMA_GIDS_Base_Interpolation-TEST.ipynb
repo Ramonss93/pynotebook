{
 "metadata": {
  "name": ""
 },
 "nbformat": 3,
 "nbformat_minor": 0,
 "worksheets": [
  {
   "cells": [
    {
     "cell_type": "code",
     "collapsed": false,
     "input": [
      "filepath = r'E:\\Data\\WangKun@Mattijn\\Atmospheric data_hourly\\2012\\201211'\n",
      "filestations = r'E:\\Data\\WangKun@Mattijn\\Radiation_hourly\\AWS_stations_Aalbers.csv'\n",
      "folderDEM = r'E:\\Data\\WangKun@Mattijn\\DEM_TIL02'\n",
      "folderMSK = r'E:\\Data\\WangKun@Mattijn\\DEM_MA02'\n",
      "prefix = 't'\n",
      "outFolder = r'E:\\Data\\WangKun@Mattijn\\outfolder\\2012\\t11//'\n",
      "\n",
      "start = '11/1/2012'\n",
      "end = '11/30/2012'\n",
      "\n",
      "param = 'TEMP'"
     ],
     "language": "python",
     "metadata": {},
     "outputs": [],
     "prompt_number": 2
    },
    {
     "cell_type": "code",
     "collapsed": false,
     "input": [
      "from scipy import stats\n",
      "from scipy.spatial.distance import cdist\n",
      "from scipy.spatial import cKDTree as KDTree\n",
      "import statsmodels.api as sm\n",
      "import numpy as np\n",
      "import pandas as pd\n",
      "from osgeo import gdal\n",
      "import os\n",
      "from __future__ import division"
     ],
     "language": "python",
     "metadata": {},
     "outputs": [],
     "prompt_number": 3
    },
    {
     "cell_type": "code",
     "collapsed": false,
     "input": [
      "def FILES(inGSODFolder):\n",
      "    st_wmo = [os.path.join(root, name)\n",
      "               for root, dirs, files in os.walk(inGSODFolder)\n",
      "                 for name in files                 \n",
      "                 if name.endswith('')]\n",
      "    return st_wmo"
     ],
     "language": "python",
     "metadata": {},
     "outputs": [],
     "prompt_number": 4
    },
    {
     "cell_type": "code",
     "collapsed": false,
     "input": [
      "def DEMfiles(inDEMFolder):\n",
      "    dem_files = [os.path.join(root, name)\n",
      "               for root, dirs, files in os.walk(inDEMFolder)\n",
      "                 for name in files\n",
      "                 if name.endswith('.TIF')]\n",
      "    return dem_files"
     ],
     "language": "python",
     "metadata": {},
     "outputs": [],
     "prompt_number": 5
    },
    {
     "cell_type": "code",
     "collapsed": false,
     "input": [
      "def inRaster(fileDEM):\n",
      "    raster = gdal.Open(fileDEM, gdal.GA_ReadOnly)\n",
      "    band = raster.GetRasterBand(1)\n",
      "    dem = band.ReadAsArray()\n",
      "    extent = raster.GetGeoTransform()\n",
      "    return raster, dem, extent"
     ],
     "language": "python",
     "metadata": {},
     "outputs": [],
     "prompt_number": 6
    },
    {
     "cell_type": "code",
     "collapsed": false,
     "input": [
      "def saveRaster(path, array, datatype=3, formatraster=\"GTiff\"): # float32 = 6, signed int = 3\n",
      "    # Set Driver\n",
      "    format_ = formatraster #save as format\n",
      "    driver = gdal.GetDriverByName( format_ )\n",
      "    driver.Register()\n",
      "    \n",
      "    # Set Metadata for Raster output\n",
      "    cols = raster.RasterXSize\n",
      "    rows = raster.RasterYSize\n",
      "    bands = raster.RasterCount\n",
      "    datatype = 6#band.DataType\n",
      "    \n",
      "    # Set Projection for Raster\n",
      "    outDataset = driver.Create(outFilename, cols, rows, bands, datatype)\n",
      "    geoTransform = raster.GetGeoTransform()\n",
      "    outDataset.SetGeoTransform(geoTransform)\n",
      "    proj = raster.GetProjection()\n",
      "    outDataset.SetProjection(proj)\n",
      "    \n",
      "    # Write output to band 1 of new Raster\n",
      "    outBand = outDataset.GetRasterBand(1)\n",
      "    outBand.WriteArray(array) #save input array\n",
      "    #outBand.WriteArray(dem)\n",
      "    \n",
      "    # Close and finalise newly created Raster\n",
      "    #F_M01 = None\n",
      "    outBand = None\n",
      "    proj = None\n",
      "    geoTransform = None\n",
      "    outDataset = None\n",
      "    driver = None\n",
      "    datatype = None\n",
      "    bands = None\n",
      "    rows = None\n",
      "    cols = None\n",
      "    driver = None\n",
      "    array = None"
     ],
     "language": "python",
     "metadata": {},
     "outputs": [],
     "prompt_number": 7
    },
    {
     "cell_type": "code",
     "collapsed": false,
     "input": [
      "def cartesian(arrays, out=None):\n",
      "    \"\"\"\n",
      "    Generate a cartesian product of input arrays.\n",
      "\n",
      "    Parameters\n",
      "    ----------\n",
      "    arrays : list of array-like\n",
      "        1-D arrays to form the cartesian product of.\n",
      "    out : ndarray\n",
      "        Array to place the cartesian product in.\n",
      "\n",
      "    Returns\n",
      "    -------\n",
      "    out : ndarray\n",
      "        2-D array of shape (M, len(arrays)) containing cartesian products\n",
      "        formed of input arrays.\n",
      "\n",
      "    Examples\n",
      "    --------\n",
      "    >>> cartesian(([1, 2, 3], [4, 5], [6, 7]))\n",
      "    array([[1, 4, 6],\n",
      "           [1, 4, 7],\n",
      "           [1, 5, 6],\n",
      "           [1, 5, 7],\n",
      "           [2, 4, 6],\n",
      "           [2, 4, 7],\n",
      "           [2, 5, 6],\n",
      "           [2, 5, 7],\n",
      "           [3, 4, 6],\n",
      "           [3, 4, 7],\n",
      "           [3, 5, 6],\n",
      "           [3, 5, 7]])\n",
      "\n",
      "    \"\"\"\n",
      "\n",
      "    arrays = [np.asarray(x) for x in arrays]\n",
      "    dtype = arrays[0].dtype\n",
      "\n",
      "    n = np.prod([x.size for x in arrays])\n",
      "    if out is None:\n",
      "        out = np.zeros([n, len(arrays)], dtype=dtype)\n",
      "\n",
      "    m = n / arrays[0].size\n",
      "    out[:,0] = np.repeat(arrays[0], m)\n",
      "    if arrays[1:]:\n",
      "        cartesian(arrays[1:], out=out[0:m,1:])\n",
      "        for j in range(1, arrays[0].size):\n",
      "            out[j*m:(j+1)*m,1:] = out[0:m,1:]\n",
      "    return out"
     ],
     "language": "python",
     "metadata": {},
     "outputs": [],
     "prompt_number": 8
    },
    {
     "cell_type": "code",
     "collapsed": false,
     "input": [
      "def GIDS(x,y):    \n",
      "    x_y = [(x,y)] # for kd_tree that starts counting at bottom left with 0,0\n",
      "    #print x_y\n",
      "    x_ = (x*extent[1]+extent[0]+extent[1]/2) # longitude aalbers projection (meters)\n",
      "    y_ = (y*extent[5]+extent[3]+extent[5]/2) # latitude aalbers projection (meters)\n",
      "    long_lat = np.array([[x_,y_]])\n",
      "    \n",
      "    #print long_lat\n",
      "    \n",
      "    dem_1 = dem[y,x] # elevation x_y coordinate\n",
      "    dist_tree, ix_tree = tree.query(x_y, k=8, eps=0, p=1) # returns distance and index\n",
      "    df_selection = df.ix[ix_tree.ravel()]\n",
      "    \n",
      "    #print 'elevation from x_y =', dem_1\n",
      "    #print '\\n8 nearest neighbours\\n', df_selection\n",
      "    \n",
      "    Longi = df_selection.ix[:,5] # meters - Aalbers projection\n",
      "    Lati = df_selection.ix[:,6] # meters - Aalbers projection\n",
      "    hi = df_selection.ix[:,2]\n",
      "    \n",
      "    ##TEMP\n",
      "    ti = df_selection.ix[:,1]\n",
      "    #print 'ti\\n',ti    \n",
      "    \n",
      "    pr_var = list(zip(Longi,Lati,hi)) # combines predictor variables as tuples\n",
      "    y = list(zip(ti)) # dependent variable\n",
      "    X = sm.add_constant(pr_var, prepend=True) # multiple linear regression\n",
      "    \n",
      "    #fit the model\n",
      "    mlr = sm.OLS(y,X).fit()\n",
      "    b0,b1,b2,b3 = mlr.params\n",
      "    #print '\\nMultiLineair regression\\n', mlr.summary()\n",
      "    \n",
      "    long_lat_stations = df_selection.as_matrix(columns=['POINT_X','POINT_Y']) \n",
      "                                 \n",
      "    di = cdist(long_lat_stations, long_lat, 'euclidean') # Returns Eucleadian distance in meters between grid cell and selected weather-stations\n",
      "    #print '\\nDistances\\n',di\n",
      "    \n",
      "    # prepare datasets as flattened numpy array or as single values\n",
      "    Hi = df_selection.as_matrix(columns=['Elev']).flatten()\n",
      "    Ti = df_selection.as_matrix(columns=[param]).flatten()\n",
      "    #Ti = (Ti-32)*(5/9)\n",
      "    \n",
      "    di_ = di.flatten()\n",
      "    long_lat_ = long_lat.flatten()\n",
      "    Longi_ = df_selection.as_matrix(columns=['POINT_X',]).flatten()\n",
      "    Lati_ = df_selection.as_matrix(columns=['POINT_Y',]).flatten()\n",
      "    #print '\\nhi\\n',Hi\n",
      "    #print '\\nti\\n',Ti\n",
      "    #print '\\ndi\\n',di\n",
      "    #print '\\nlong_lat\\n',long_lat\n",
      "    #print '\\nlongi\\n',Longi_\n",
      "    #print '\\nlati\\n',Lati_\n",
      "    \n",
      "    top =    sum( (1/di_)**2 )**-1\n",
      "    long_f = b1*(long_lat_[0]-Longi_)\n",
      "    lat_f =  b2*(long_lat_[1]-Lati_)\n",
      "    h_f =    b3*(dem_1-Hi)\n",
      "    middle = Ti + long_f + lat_f + h_f\n",
      "    end = (1/di_)**2 \n",
      "    comb = top * sum( middle * end )\n",
      "    #print comb\n",
      "    return comb"
     ],
     "language": "python",
     "metadata": {},
     "outputs": [],
     "prompt_number": 9
    },
    {
     "cell_type": "code",
     "collapsed": false,
     "input": [
      "# select meteorological data file\n",
      "file_ = FILES(filepath)\n",
      "f = file_[0]\n",
      "print (f)\n",
      "\n",
      "# create range of dates\n",
      "rng = pd.date_range(start, end, freq='D')\n",
      "print (rng)"
     ],
     "language": "python",
     "metadata": {},
     "outputs": [
      {
       "output_type": "stream",
       "stream": "stdout",
       "text": [
        "E:\\Data\\WangKun@Mattijn\\Atmospheric data_hourly\\2012\\201211\\SURF_CLI_CHN_MUL_FTM-201211.TXT\n",
        "<class 'pandas.tseries.index.DatetimeIndex'>\n",
        "[2012-11-01 00:00:00, ..., 2012-11-30 00:00:00]\n",
        "Length: 30, Freq: D, Timezone: None\n"
       ]
      }
     ],
     "prompt_number": 10
    },
    {
     "cell_type": "code",
     "collapsed": false,
     "input": [
      "# read file and parse the dates correctly\n",
      "df = pd.read_csv(f, sep='\\t', header=None,  \n",
      "                 parse_dates={'datetime': [1,2,3,4]}, \n",
      "                 date_parser=lambda x: pd.datetime.strptime(x, '%Y %m %d %H'))\n",
      "\n",
      "# set name of columns\n",
      "columns_df = ['datetime','Station','STP','a','TEMP','b','c','d','REHU','e','f','g','PRCP','h','i','WDSP','j','k','l','m','n','o', \\\n",
      "              'p','q','r','s','t']\n",
      "df.columns = columns_df\n",
      "\n",
      "# set date-time as index and select the variables needed\n",
      "df.set_index('datetime', inplace=True)\n",
      "df_sel = df[['Station', param]]#'STP','TEMP','REHU','PRCP','WDSP']]\n",
      "\n",
      "# replace missing, blank and values for snow as NaN\n",
      "df_sel.replace(32766, np.nan, inplace=True)\n",
      "df_sel.replace(32744, np.nan, inplace=True)\n",
      "df_sel.replace(32700, np.nan, inplace=True)\n",
      "\n",
      "# make appropriate concersions to right unit\n",
      "#df_sel.STP *= 0.1\n",
      "df_sel.TEMP *= 10\n",
      "#df_sel.PRCP *= 0.1\n",
      "#df_sel.STP *= 0.1\n",
      "\n",
      "# group by Station ID and resample to daily values\n",
      "df_selDay = df_sel.groupby('Station').resample('1D', how='mean')\n",
      "df_selDay = df_selDay.drop('Station',1)\n",
      "df_selDay = df_selDay.reset_index()\n",
      "df_selDay = df_selDay.set_index('datetime')\n",
      "print (df_selDay.head())"
     ],
     "language": "python",
     "metadata": {},
     "outputs": [
      {
       "output_type": "stream",
       "stream": "stdout",
       "text": [
        "            Station         TEMP\n",
        "datetime                        \n",
        "2012-11-01    50136 -1745.416667\n",
        "2012-11-02    50136 -1362.916667\n",
        "2012-11-03    50136  -944.166667\n",
        "2012-11-04    50136  -980.416667\n",
        "2012-11-05    50136  -876.250000\n"
       ]
      }
     ],
     "prompt_number": 11
    },
    {
     "cell_type": "code",
     "collapsed": false,
     "input": [
      "print (rng[0])\n",
      "print (df_selDay.index[0])"
     ],
     "language": "python",
     "metadata": {},
     "outputs": [
      {
       "output_type": "stream",
       "stream": "stdout",
       "text": [
        "2012-11-01 00:00:00\n",
        "2012-11-01 00:00:00\n"
       ]
      }
     ],
     "prompt_number": 12
    },
    {
     "cell_type": "code",
     "collapsed": false,
     "input": [
      "rsters = DEMfiles(folderDEM)\n",
      "masks = DEMfiles(folderMSK)\n",
      "rsters"
     ],
     "language": "python",
     "metadata": {},
     "outputs": [
      {
       "metadata": {},
       "output_type": "pyout",
       "prompt_number": 13,
       "text": [
        "['E:\\\\Data\\\\WangKun@Mattijn\\\\DEM_TIL02\\\\dem9.TIF']"
       ]
      }
     ],
     "prompt_number": 13
    },
    {
     "cell_type": "code",
     "collapsed": false,
     "input": [
      "raster, dem, extent = inRaster(rsters[0])\n",
      "df_stations = pd.read_csv(filestations)                \n",
      "df_stations['X_LON'] = (df_stations.POINT_X-extent[0])/extent[1]\n",
      "df_stations['Y_LAT'] = (df_stations.POINT_Y-extent[3])/extent[5]"
     ],
     "language": "python",
     "metadata": {},
     "outputs": [],
     "prompt_number": 14
    },
    {
     "cell_type": "code",
     "collapsed": false,
     "input": [
      "arr = np.zeros([4,3])\n",
      "print(arr,arr.shape)"
     ],
     "language": "python",
     "metadata": {},
     "outputs": [
      {
       "output_type": "stream",
       "stream": "stdout",
       "text": [
        "[[ 0.  0.  0.]\n",
        " [ 0.  0.  0.]\n",
        " [ 0.  0.  0.]\n",
        " [ 0.  0.  0.]] (4, 3)\n"
       ]
      }
     ],
     "prompt_number": 15
    },
    {
     "cell_type": "code",
     "collapsed": false,
     "input": [
      "arr = np.zeros([4,3])\n",
      "print(arr,arr.shape)\n",
      "x_steps = np.arange(arr.shape[1]) * extent[1]\n",
      "y_steps = np.arange(arr.shape[0]) * extent[-1]\n",
      "\n",
      "x_coords = extent[0] + x_steps + extent[1]/2\n",
      "y_coords = extent[3] + y_steps + extent[-1]/2\n",
      "#print(x_coords,y_coords)\n",
      "\n",
      "cart = cartesian([x_coords, y_coords])\n",
      "cart_array = cart.reshape((3,4,2))\n",
      "for i in range(arr.shape[1]):\n",
      "    for j in range(arr.shape[0]):\n",
      "        print (\n",
      "        cart_array[i,j,0:2])"
     ],
     "language": "python",
     "metadata": {},
     "outputs": [
      {
       "output_type": "stream",
       "stream": "stdout",
       "text": [
        "[[ 0.  0.  0.]\n",
        " [ 0.  0.  0.]\n",
        " [ 0.  0.  0.]\n",
        " [ 0.  0.  0.]] (4, 3)\n",
        "[ 5532500.   804500.]\n",
        "[ 5532500.   799500.]\n",
        "[ 5532500.   794500.]\n",
        "[ 5532500.   789500.]\n",
        "[ 5537500.   804500.]\n",
        "[ 5537500.   799500.]\n",
        "[ 5537500.   794500.]\n",
        "[ 5537500.   789500.]\n",
        "[ 5542500.   804500.]\n",
        "[ 5542500.   799500.]\n",
        "[ 5542500.   794500.]\n",
        "[ 5542500.   789500.]\n"
       ]
      }
     ],
     "prompt_number": 16
    },
    {
     "cell_type": "code",
     "collapsed": false,
     "input": [
      "i = rng[6]\n",
      "\n",
      "data_left = df_selDay.ix[i]    \n",
      "sel_merge = pd.merge(data_left, df_stations, on='Station', how='inner', )\n",
      "\n",
      "df = sel_merge[pd.notnull(sel_merge['TEMP'])]\n",
      "df.reset_index(drop=True, inplace=True)\n",
      "\n",
      "#Longscaled = df.ix[:,7] #X_LON\n",
      "#Latscaled = df.ix[:,8] #Y_LAT\n",
      "#tree = KDTree(list(zip(Longscaled,Latscaled)), leafsize=11)\n",
      "tree = KDTree(df.ix[:,5:7], leafsize=11)\n"
     ],
     "language": "python",
     "metadata": {},
     "outputs": [],
     "prompt_number": 17
    },
    {
     "cell_type": "code",
     "collapsed": false,
     "input": [
      "df"
     ],
     "language": "python",
     "metadata": {},
     "outputs": [
      {
       "html": [
        "<pre>\n",
        "&lt;class 'pandas.core.frame.DataFrame'&gt;\n",
        "Int64Index: 676 entries, 0 to 675\n",
        "Data columns (total 9 columns):\n",
        "Station    676  non-null values\n",
        "TEMP       676  non-null values\n",
        "Elev       676  non-null values\n",
        "Long_x     676  non-null values\n",
        "Lat_y      676  non-null values\n",
        "POINT_X    676  non-null values\n",
        "POINT_Y    676  non-null values\n",
        "X_LON      676  non-null values\n",
        "Y_LAT      676  non-null values\n",
        "dtypes: float64(8), int64(1)\n",
        "</pre>"
       ],
       "metadata": {},
       "output_type": "pyout",
       "prompt_number": 18,
       "text": [
        "<class 'pandas.core.frame.DataFrame'>\n",
        "Int64Index: 676 entries, 0 to 675\n",
        "Data columns (total 9 columns):\n",
        "Station    676  non-null values\n",
        "TEMP       676  non-null values\n",
        "Elev       676  non-null values\n",
        "Long_x     676  non-null values\n",
        "Lat_y      676  non-null values\n",
        "POINT_X    676  non-null values\n",
        "POINT_Y    676  non-null values\n",
        "X_LON      676  non-null values\n",
        "Y_LAT      676  non-null values\n",
        "dtypes: float64(8), int64(1)"
       ]
      }
     ],
     "prompt_number": 18
    },
    {
     "cell_type": "code",
     "collapsed": false,
     "input": [
      "tp = np.zeros([dem.shape[1],dem.shape[0]])\n",
      "        \n",
      "x = 0\n",
      "y = 0\n",
      "#print (GIDS(x,y))"
     ],
     "language": "python",
     "metadata": {},
     "outputs": [],
     "prompt_number": 19
    },
    {
     "cell_type": "code",
     "collapsed": false,
     "input": [],
     "language": "python",
     "metadata": {},
     "outputs": [],
     "prompt_number": 20
    },
    {
     "cell_type": "code",
     "collapsed": false,
     "input": [
      "import numpy as np\n",
      "extent = (5530000.0, 5000.0, 0.0, 807000.0, 0.0, -5000.0)\n",
      "x_steps = np.array([0,1,2]) * extent[1]\n",
      "y_steps = np.array([0,1,2,3]) * extent[-1]\n",
      "x_coords = extent[0] + x_steps + extent[1]/2\n",
      "y_coords = extent[3] + y_steps + extent[-1]/2\n",
      "print(x_coords,y_coords)"
     ],
     "language": "python",
     "metadata": {},
     "outputs": [
      {
       "output_type": "stream",
       "stream": "stdout",
       "text": [
        "[ 5532500.  5537500.  5542500.] [ 804500.  799500.  794500.  789500.]\n"
       ]
      }
     ],
     "prompt_number": 21
    },
    {
     "cell_type": "code",
     "collapsed": false,
     "input": [
      "np.transpose([np.tile(x_coords, len(y_coords)), np.repeat(y_coords, len(x_coords))])"
     ],
     "language": "python",
     "metadata": {},
     "outputs": [
      {
       "metadata": {},
       "output_type": "pyout",
       "prompt_number": 255,
       "text": [
        "array([ 5532500.,  5537500.,  5542500.])"
       ]
      }
     ],
     "prompt_number": 255
    },
    {
     "cell_type": "code",
     "collapsed": false,
     "input": [
      "cart.shape\n",
      "tjak = np.empty(cart.shape[0])\n",
      "tjik = np.empty(cart.shape[0])\n",
      "tjak[0]\n",
      "tjik = tjik.reshape(4,3)"
     ],
     "language": "python",
     "metadata": {},
     "outputs": [],
     "prompt_number": 47
    },
    {
     "cell_type": "code",
     "collapsed": false,
     "input": [
      "def tjakkie(cart):\n",
      "    for index, v in enumerate(cart):\n",
      "        #print (i,v)\n",
      "        tjak[i] = GIDS_UPDATE(v)\n",
      "    return tjak.reshape(3,4).T"
     ],
     "language": "python",
     "metadata": {},
     "outputs": [],
     "prompt_number": 33
    },
    {
     "cell_type": "code",
     "collapsed": false,
     "input": [
      "%timeit tjakkie(cart)"
     ],
     "language": "python",
     "metadata": {},
     "outputs": [
      {
       "output_type": "stream",
       "stream": "stdout",
       "text": [
        "10 loops, best of 3: 27.8 ms per loop\n"
       ]
      }
     ],
     "prompt_number": 34
    },
    {
     "cell_type": "code",
     "collapsed": false,
     "input": [
      "def tjokkie(cartx):\n",
      "    for i in range(cartx.shape[1]):\n",
      "        for j in range(cartx.shape[0]):\n",
      "            #print (i,j,tjik[i][j])\n",
      "            tjik[i][j] = GIDS_UPDATE(cartx[j,i,0:2])"
     ],
     "language": "python",
     "metadata": {},
     "outputs": [],
     "prompt_number": 60
    },
    {
     "cell_type": "code",
     "collapsed": false,
     "input": [
      "%timeit tjokkie(cartx)"
     ],
     "language": "python",
     "metadata": {},
     "outputs": [
      {
       "output_type": "stream",
       "stream": "stdout",
       "text": [
        "10 loops, best of 3: 27.2 ms per loop\n"
       ]
      }
     ],
     "prompt_number": 63
    },
    {
     "cell_type": "code",
     "collapsed": false,
     "input": [
      "df.head()"
     ],
     "language": "python",
     "metadata": {},
     "outputs": [
      {
       "html": [
        "<div style=\"max-height:1000px;max-width:1500px;overflow:auto;\">\n",
        "<table border=\"1\" class=\"dataframe\">\n",
        "  <thead>\n",
        "    <tr style=\"text-align: right;\">\n",
        "      <th></th>\n",
        "      <th>Station</th>\n",
        "      <th>TEMP</th>\n",
        "      <th>Elev</th>\n",
        "      <th>Long_x</th>\n",
        "      <th>Lat_y</th>\n",
        "      <th>POINT_X</th>\n",
        "      <th>POINT_Y</th>\n",
        "      <th>X_LON</th>\n",
        "      <th>Y_LAT</th>\n",
        "    </tr>\n",
        "  </thead>\n",
        "  <tbody>\n",
        "    <tr>\n",
        "      <th>0</th>\n",
        "      <td> 50136</td>\n",
        "      <td>-1045.000000</td>\n",
        "      <td> 433.0</td>\n",
        "      <td> 122.309997</td>\n",
        "      <td> 52.580001</td>\n",
        "      <td> 5473928.503</td>\n",
        "      <td> 3209653.795</td>\n",
        "      <td>-11.214299</td>\n",
        "      <td>-480.530759</td>\n",
        "    </tr>\n",
        "    <tr>\n",
        "      <th>1</th>\n",
        "      <td> 50246</td>\n",
        "      <td> -940.416667</td>\n",
        "      <td> 361.9</td>\n",
        "      <td> 124.430000</td>\n",
        "      <td> 52.209999</td>\n",
        "      <td> 5621191.187</td>\n",
        "      <td> 3199563.174</td>\n",
        "      <td> 18.238237</td>\n",
        "      <td>-478.512635</td>\n",
        "    </tr>\n",
        "    <tr>\n",
        "      <th>2</th>\n",
        "      <td> 50349</td>\n",
        "      <td>-1003.750000</td>\n",
        "      <td> 494.6</td>\n",
        "      <td> 124.199996</td>\n",
        "      <td> 51.419998</td>\n",
        "      <td> 5626513.511</td>\n",
        "      <td> 3108424.145</td>\n",
        "      <td> 19.302702</td>\n",
        "      <td>-460.284829</td>\n",
        "    </tr>\n",
        "    <tr>\n",
        "      <th>3</th>\n",
        "      <td> 50353</td>\n",
        "      <td> -863.333333</td>\n",
        "      <td> 177.4</td>\n",
        "      <td> 126.389999</td>\n",
        "      <td> 51.430000</td>\n",
        "      <td> 5770514.642</td>\n",
        "      <td> 3144551.515</td>\n",
        "      <td> 48.102928</td>\n",
        "      <td>-467.510303</td>\n",
        "    </tr>\n",
        "    <tr>\n",
        "      <th>4</th>\n",
        "      <td> 50425</td>\n",
        "      <td> -441.250000</td>\n",
        "      <td> 581.4</td>\n",
        "      <td> 120.110000</td>\n",
        "      <td> 50.150001</td>\n",
        "      <td> 5382630.523</td>\n",
        "      <td> 2908127.877</td>\n",
        "      <td>-29.473895</td>\n",
        "      <td>-420.225575</td>\n",
        "    </tr>\n",
        "  </tbody>\n",
        "</table>\n",
        "</div>"
       ],
       "metadata": {},
       "output_type": "pyout",
       "prompt_number": 74,
       "text": [
        "   Station         TEMP   Elev      Long_x      Lat_y      POINT_X  \\\n",
        "0    50136 -1045.000000  433.0  122.309997  52.580001  5473928.503   \n",
        "1    50246  -940.416667  361.9  124.430000  52.209999  5621191.187   \n",
        "2    50349 -1003.750000  494.6  124.199996  51.419998  5626513.511   \n",
        "3    50353  -863.333333  177.4  126.389999  51.430000  5770514.642   \n",
        "4    50425  -441.250000  581.4  120.110000  50.150001  5382630.523   \n",
        "\n",
        "       POINT_Y      X_LON       Y_LAT  \n",
        "0  3209653.795 -11.214299 -480.530759  \n",
        "1  3199563.174  18.238237 -478.512635  \n",
        "2  3108424.145  19.302702 -460.284829  \n",
        "3  3144551.515  48.102928 -467.510303  \n",
        "4  2908127.877 -29.473895 -420.225575  "
       ]
      }
     ],
     "prompt_number": 74
    },
    {
     "cell_type": "code",
     "collapsed": false,
     "input": [
      "example_data = df[0:20]"
     ],
     "language": "python",
     "metadata": {},
     "outputs": [],
     "prompt_number": 72
    },
    {
     "cell_type": "code",
     "collapsed": false,
     "input": [
      "del example_data['Y_LAT']"
     ],
     "language": "python",
     "metadata": {},
     "outputs": [],
     "prompt_number": 80
    },
    {
     "cell_type": "code",
     "collapsed": false,
     "input": [
      "example_data.to_csv(r'D:\\GitHub\\pynotebook\\idata//stationdata.csv', index=False)"
     ],
     "language": "python",
     "metadata": {},
     "outputs": [],
     "prompt_number": 132
    },
    {
     "cell_type": "code",
     "collapsed": false,
     "input": [
      "extent"
     ],
     "language": "python",
     "metadata": {},
     "outputs": [
      {
       "metadata": {},
       "output_type": "pyout",
       "prompt_number": 89,
       "text": [
        "(5530000.0, 5000.0, 0.0, 807000.0, 0.0, -5000.0)"
       ]
      }
     ],
     "prompt_number": 89
    },
    {
     "cell_type": "code",
     "collapsed": false,
     "input": [
      "import numpy as np\n",
      "extent = (5530000.0, 5000.0, 0.0, 807000.0, 0.0, -5000.0)\n",
      "x_steps = np.array(range(dem.shape[1])) * extent[1]\n",
      "y_steps = np.array(range(dem.shape[0])) * extent[-1]\n",
      "x_coords = extent[0] + x_steps + extent[1]/2\n",
      "y_coords = extent[3] + y_steps + extent[-1]/2\n",
      "#print(x_coords,y_coords)\n",
      "koord = cartesian([x_coords,y_coords])"
     ],
     "language": "python",
     "metadata": {},
     "outputs": [],
     "prompt_number": 94
    },
    {
     "cell_type": "code",
     "collapsed": false,
     "input": [
      "check = koord[0:10]"
     ],
     "language": "python",
     "metadata": {},
     "outputs": [],
     "prompt_number": 106
    },
    {
     "cell_type": "code",
     "collapsed": false,
     "input": [
      "np.save(r'D:\\GitHub\\pynotebook\\idata//xy.npy', check)"
     ],
     "language": "python",
     "metadata": {},
     "outputs": [],
     "prompt_number": 131
    },
    {
     "cell_type": "code",
     "collapsed": false,
     "input": [
      "dem_sm.tostring(r'D:\\GitHub\\pynotebook\\idata//dem')"
     ],
     "language": "python",
     "metadata": {},
     "outputs": [
      {
       "ename": "TypeError",
       "evalue": "order not understood",
       "output_type": "pyerr",
       "traceback": [
        "\u001b[1;31m---------------------------------------------------------------------------\u001b[0m\n\u001b[1;31mTypeError\u001b[0m                                 Traceback (most recent call last)",
        "\u001b[1;32m<ipython-input-114-dce5257a9406>\u001b[0m in \u001b[0;36m<module>\u001b[1;34m()\u001b[0m\n\u001b[1;32m----> 1\u001b[1;33m \u001b[0mdem_sm\u001b[0m\u001b[1;33m.\u001b[0m\u001b[0mtostring\u001b[0m\u001b[1;33m(\u001b[0m\u001b[1;34mr'D:\\GitHub\\pynotebook\\idata//dem'\u001b[0m\u001b[1;33m)\u001b[0m\u001b[1;33m\u001b[0m\u001b[0m\n\u001b[0m",
        "\u001b[1;31mTypeError\u001b[0m: order not understood"
       ]
      }
     ],
     "prompt_number": 114
    },
    {
     "cell_type": "code",
     "collapsed": false,
     "input": [
      "np.save(r'D:\\GitHub\\pynotebook\\idata//dem.npy', dm_save)"
     ],
     "language": "python",
     "metadata": {},
     "outputs": [],
     "prompt_number": 130
    },
    {
     "cell_type": "code",
     "collapsed": false,
     "input": [
      "dem_sm"
     ],
     "language": "python",
     "metadata": {},
     "outputs": [
      {
       "metadata": {},
       "output_type": "pyout",
       "prompt_number": 123,
       "text": [
        "array([41, 21, 74, 64, 57, 55, 50, 43, 49, 45])"
       ]
      }
     ],
     "prompt_number": 123
    },
    {
     "cell_type": "code",
     "collapsed": false,
     "input": [
      "dem_sm.tofile(r'D:\\GitHub\\pynotebook\\idata//dem.txt', sep=',', )"
     ],
     "language": "python",
     "metadata": {},
     "outputs": [],
     "prompt_number": 127
    },
    {
     "cell_type": "code",
     "collapsed": false,
     "input": [
      "dem_load = np.fromfile(r'D:\\GitHub\\pynotebook\\idata//dem.txt')"
     ],
     "language": "python",
     "metadata": {},
     "outputs": [],
     "prompt_number": 128
    },
    {
     "cell_type": "code",
     "collapsed": false,
     "input": [
      "dem_load"
     ],
     "language": "python",
     "metadata": {},
     "outputs": [
      {
       "metadata": {},
       "output_type": "pyout",
       "prompt_number": 129,
       "text": [
        "array([  3.69161225e-57,   1.47292592e-52,   8.99059729e-96])"
       ]
      }
     ],
     "prompt_number": 129
    },
    {
     "cell_type": "code",
     "collapsed": false,
     "input": [
      "# ORIGINAL NO CHANGE\n",
      "x_y = [(x,y)] # for kd_tree that starts counting at bottom left with 0,0\n",
      "print( x_y)\n",
      "x_ = (x*extent[1]+extent[0]+extent[1]/2) # longitude aalbers projection (meters)\n",
      "y_ = (y*extent[5]+extent[3]+extent[5]/2) # latitude aalbers projection (meters)\n",
      "long_lat = np.array([[x_,y_]])\n",
      "    \n",
      "print( long_lat)\n",
      "# ORIGINAL NO CHANGE"
     ],
     "language": "python",
     "metadata": {},
     "outputs": [
      {
       "output_type": "stream",
       "stream": "stdout",
       "text": [
        "[(0, 0)]\n",
        "[[ 5532500.   804500.]]\n"
       ]
      }
     ],
     "prompt_number": 419
    },
    {
     "cell_type": "code",
     "collapsed": false,
     "input": [
      "# NEW\n",
      "#x_y = [(x,y)] # for kd_tree that starts counting at bottom left with 0,0\n",
      "print( x_y)\n",
      "long_lat = [[x*extent[1]+extent[0]+extent[1]/2,y*extent[5]+extent[3]+extent[5]/2]]\n",
      "    \n",
      "print( long_lat)\n",
      "# NEW"
     ],
     "language": "python",
     "metadata": {},
     "outputs": [
      {
       "output_type": "stream",
       "stream": "stdout",
       "text": [
        "[(0, 0)]\n",
        "[[5532500.0, 804500.0]]\n"
       ]
      }
     ],
     "prompt_number": 497
    },
    {
     "cell_type": "code",
     "collapsed": false,
     "input": [
      "# NO CHANGE\n",
      "dem_1 = dem[y,x] # elevation x_y coordinate\n",
      "dist_tree, ix_tree = tree.query([x,y], k=8, eps=0, p=1) # returns distance and index\n",
      "df_selection = df.ix[ix_tree.ravel()]\n",
      "#print( 'elevation from x_y =', dem_1)\n",
      "#print( '\\n8 nearest neighbours\\n', df_selection)\n",
      "# NO CHANGE"
     ],
     "language": "python",
     "metadata": {},
     "outputs": [],
     "prompt_number": 413
    },
    {
     "cell_type": "code",
     "collapsed": false,
     "input": [
      "# NEW\n",
      "#dem_1 = dem[y,x] # elevation x_y coordinate\n",
      "dist_tree, ix_tree = tree.query([x,y], k=8, eps=0, p=1, ) # returns distance and index\n",
      "df_selection = df.ix[ix_tree]\n",
      "df_selection\n",
      "#df.ix[ix_tree,['TEMP','Elev','POINT_X','POINT_Y']]      \n",
      "#df_selection = df.ix[ix_tree.ravel()]\n",
      "#print( 'elevation from x_y =', dem_1)\n",
      "#print( '\\n8 nearest neighbours\\n', df_selection)"
     ],
     "language": "python",
     "metadata": {},
     "outputs": [
      {
       "html": [
        "<div style=\"max-height:1000px;max-width:1500px;overflow:auto;\">\n",
        "<table border=\"1\" class=\"dataframe\">\n",
        "  <thead>\n",
        "    <tr style=\"text-align: right;\">\n",
        "      <th></th>\n",
        "      <th>Station</th>\n",
        "      <th>TEMP</th>\n",
        "      <th>Elev</th>\n",
        "      <th>Long_x</th>\n",
        "      <th>Lat_y</th>\n",
        "      <th>POINT_X</th>\n",
        "      <th>POINT_Y</th>\n",
        "      <th>X_LON</th>\n",
        "      <th>Y_LAT</th>\n",
        "    </tr>\n",
        "  </thead>\n",
        "  <tbody>\n",
        "    <tr>\n",
        "      <th>546</th>\n",
        "      <td> 58221</td>\n",
        "      <td> 1017.083333</td>\n",
        "      <td> 21.9</td>\n",
        "      <td> 117.230003</td>\n",
        "      <td> 32.549999</td>\n",
        "      <td> 5520034.362</td>\n",
        "      <td> 835068.1770</td>\n",
        "      <td> -1.993128</td>\n",
        "      <td> -5.613635</td>\n",
        "    </tr>\n",
        "    <tr>\n",
        "      <th>545</th>\n",
        "      <td> 58215</td>\n",
        "      <td>  997.916667</td>\n",
        "      <td> 22.7</td>\n",
        "      <td> 116.470001</td>\n",
        "      <td> 32.330001</td>\n",
        "      <td> 5457530.285</td>\n",
        "      <td> 798884.9245</td>\n",
        "      <td>-14.493943</td>\n",
        "      <td>  1.623015</td>\n",
        "    </tr>\n",
        "    <tr>\n",
        "      <th>547</th>\n",
        "      <td> 58236</td>\n",
        "      <td>  861.666667</td>\n",
        "      <td> 27.5</td>\n",
        "      <td> 118.180000</td>\n",
        "      <td> 32.180000</td>\n",
        "      <td> 5610450.193</td>\n",
        "      <td> 806187.5867</td>\n",
        "      <td> 16.090039</td>\n",
        "      <td>  0.162483</td>\n",
        "    </tr>\n",
        "    <tr>\n",
        "      <th>556</th>\n",
        "      <td> 58321</td>\n",
        "      <td> 1044.583333</td>\n",
        "      <td> 27.0</td>\n",
        "      <td> 117.180000</td>\n",
        "      <td> 31.469999</td>\n",
        "      <td> 5536086.025</td>\n",
        "      <td> 709167.6045</td>\n",
        "      <td>  1.217205</td>\n",
        "      <td> 19.566479</td>\n",
        "    </tr>\n",
        "    <tr>\n",
        "      <th>548</th>\n",
        "      <td> 58238</td>\n",
        "      <td> 1080.416667</td>\n",
        "      <td>  7.1</td>\n",
        "      <td> 118.480003</td>\n",
        "      <td> 32.000000</td>\n",
        "      <td> 5640418.801</td>\n",
        "      <td> 789948.6527</td>\n",
        "      <td> 22.083760</td>\n",
        "      <td>  3.410269</td>\n",
        "    </tr>\n",
        "    <tr>\n",
        "      <th>540</th>\n",
        "      <td> 58138</td>\n",
        "      <td> 1052.916667</td>\n",
        "      <td> 40.8</td>\n",
        "      <td> 118.309997</td>\n",
        "      <td> 32.590000</td>\n",
        "      <td> 5613587.998</td>\n",
        "      <td> 855634.3320</td>\n",
        "      <td> 16.717600</td>\n",
        "      <td> -9.726866</td>\n",
        "    </tr>\n",
        "    <tr>\n",
        "      <th>557</th>\n",
        "      <td> 58326</td>\n",
        "      <td> 1015.416667</td>\n",
        "      <td> 22.4</td>\n",
        "      <td> 117.519996</td>\n",
        "      <td> 31.370000</td>\n",
        "      <td> 5568138.333</td>\n",
        "      <td> 702559.1548</td>\n",
        "      <td>  7.627667</td>\n",
        "      <td> 20.888169</td>\n",
        "    </tr>\n",
        "    <tr>\n",
        "      <th>543</th>\n",
        "      <td> 58203</td>\n",
        "      <td>  991.250000</td>\n",
        "      <td> 32.7</td>\n",
        "      <td> 115.440002</td>\n",
        "      <td> 32.520000</td>\n",
        "      <td> 5363809.711</td>\n",
        "      <td> 807285.7036</td>\n",
        "      <td>-33.238058</td>\n",
        "      <td> -0.057141</td>\n",
        "    </tr>\n",
        "  </tbody>\n",
        "</table>\n",
        "</div>"
       ],
       "metadata": {},
       "output_type": "pyout",
       "prompt_number": 421,
       "text": [
        "     Station         TEMP  Elev      Long_x      Lat_y      POINT_X  \\\n",
        "546    58221  1017.083333  21.9  117.230003  32.549999  5520034.362   \n",
        "545    58215   997.916667  22.7  116.470001  32.330001  5457530.285   \n",
        "547    58236   861.666667  27.5  118.180000  32.180000  5610450.193   \n",
        "556    58321  1044.583333  27.0  117.180000  31.469999  5536086.025   \n",
        "548    58238  1080.416667   7.1  118.480003  32.000000  5640418.801   \n",
        "540    58138  1052.916667  40.8  118.309997  32.590000  5613587.998   \n",
        "557    58326  1015.416667  22.4  117.519996  31.370000  5568138.333   \n",
        "543    58203   991.250000  32.7  115.440002  32.520000  5363809.711   \n",
        "\n",
        "         POINT_Y      X_LON      Y_LAT  \n",
        "546  835068.1770  -1.993128  -5.613635  \n",
        "545  798884.9245 -14.493943   1.623015  \n",
        "547  806187.5867  16.090039   0.162483  \n",
        "556  709167.6045   1.217205  19.566479  \n",
        "548  789948.6527  22.083760   3.410269  \n",
        "540  855634.3320  16.717600  -9.726866  \n",
        "557  702559.1548   7.627667  20.888169  \n",
        "543  807285.7036 -33.238058  -0.057141  "
       ]
      }
     ],
     "prompt_number": 421
    },
    {
     "cell_type": "code",
     "collapsed": false,
     "input": [
      "%timeit df_selection.ix[:,1]"
     ],
     "language": "python",
     "metadata": {},
     "outputs": [
      {
       "output_type": "stream",
       "stream": "stdout",
       "text": [
        "10000 loops, best of 3: 76.1 \u00b5s per loop\n"
       ]
      }
     ],
     "prompt_number": 366
    },
    {
     "cell_type": "code",
     "collapsed": false,
     "input": [
      "%timeit dist_tree, ix_tree = tree.query([x,y], k=8, eps=0, p=1, )"
     ],
     "language": "python",
     "metadata": {},
     "outputs": [
      {
       "output_type": "stream",
       "stream": "stdout",
       "text": [
        "10000 loops, best of 3: 62.6 \u00b5s per loop\n"
       ]
      }
     ],
     "prompt_number": 249
    },
    {
     "cell_type": "code",
     "collapsed": false,
     "input": [
      "Longi = df_selection.ix[:,5] # meters - Aalbers projection\n",
      "Lati = df_selection.ix[:,6] # meters - Aalbers projection\n",
      "hi = df_selection.ix[:,2]\n",
      "    \n",
      "#TEMP\n",
      "ti = df_selection.ix[:,1]\n",
      "print ('ti\\n',ti)"
     ],
     "language": "python",
     "metadata": {},
     "outputs": [
      {
       "output_type": "stream",
       "stream": "stdout",
       "text": [
        "ti\n",
        " 546    1017.083333\n",
        "545     997.916667\n",
        "547     861.666667\n",
        "556    1044.583333\n",
        "548    1080.416667\n",
        "540    1052.916667\n",
        "557    1015.416667\n",
        "543     991.250000\n",
        "Name: TEMP, dtype: float64\n"
       ]
      }
     ],
     "prompt_number": 109
    },
    {
     "cell_type": "code",
     "collapsed": false,
     "input": [
      "model = ols(\"TEMP ~ POINT_X + POINT_Y + Elev\", df.ix[ix_tree,[5,6,2,1]]).fit()"
     ],
     "language": "python",
     "metadata": {},
     "outputs": [],
     "prompt_number": 427
    },
    {
     "cell_type": "code",
     "collapsed": false,
     "input": [
      "from statsmodels.formula.api import ols"
     ],
     "language": "python",
     "metadata": {},
     "outputs": [],
     "prompt_number": 437
    },
    {
     "cell_type": "code",
     "collapsed": false,
     "input": [
      "%timeit bestfit = np.linalg.lstsq(M,df_selection['TEMP'])[0]"
     ],
     "language": "python",
     "metadata": {},
     "outputs": [
      {
       "output_type": "stream",
       "stream": "stdout",
       "text": [
        "10000 loops, best of 3: 143 \u00b5s per loop\n"
       ]
      }
     ],
     "prompt_number": 443
    },
    {
     "cell_type": "code",
     "collapsed": false,
     "input": [
      "model = ols(\"TEMP ~ POINT_X + POINT_Y + Elev\", df_selection).fit()\n",
      "b0,b1,b2,b3 = model._results.params\n",
      "print (b1,b2,b3)"
     ],
     "language": "python",
     "metadata": {},
     "outputs": [
      {
       "output_type": "stream",
       "stream": "stdout",
       "text": [
        "2.70124717104e-05 -6.79264182966e-05 -1.37920230088\n"
       ]
      }
     ],
     "prompt_number": 439
    },
    {
     "cell_type": "code",
     "collapsed": false,
     "input": [
      "def ols(df_selection):\n",
      "    model = ols(\"TEMP ~ POINT_X + POINT_Y + Elev\", df_selection).fit()\n",
      "    b0,b1,b2,b3 = model._results.params\n",
      "    print(b1,b2,b3)"
     ],
     "language": "python",
     "metadata": {},
     "outputs": [],
     "prompt_number": 436
    },
    {
     "cell_type": "code",
     "collapsed": false,
     "input": [
      "M = np.vstack((np.ones(len(df_selection['POINT_X'])),df_selection['POINT_X'], df_selection['POINT_Y'],df_selection['Elev'])).T\n",
      "b1,b2,b3 = np.linalg.lstsq(M,df_selection['TEMP'])[0][1:4]\n"
     ],
     "language": "python",
     "metadata": {},
     "outputs": [],
     "prompt_number": 445
    },
    {
     "cell_type": "code",
     "collapsed": false,
     "input": [
      "b1,b2,b3 = np.linalg.lstsq(M,df_selection['TEMP'])[0][1:4]\n",
      "b2"
     ],
     "language": "python",
     "metadata": {},
     "outputs": [
      {
       "metadata": {},
       "output_type": "pyout",
       "prompt_number": 460,
       "text": [
        "-6.7926418296627696e-05"
       ]
      }
     ],
     "prompt_number": 460
    },
    {
     "cell_type": "code",
     "collapsed": false,
     "input": [
      "# NO CHANGE\n",
      "pr_var = list(zip(Longi,Lati,hi)) # combines predictor variables as tuples\n",
      "y = list(zip(ti)) # dependent variable\n",
      "X = sm.add_constant(pr_var, prepend=True) # multiple linear regression\n",
      "    \n",
      "#fit the model\n",
      "mlr = sm.OLS(y,X).fit()\n",
      "b0,b1,b2,b3 = mlr.params\n",
      "print ('\\nMultiLineair regression\\n', b1,b2,b3)\n",
      "print ('\\nMultiLineair regression\\n', mlr.summary())\n",
      "# NO CHANGE"
     ],
     "language": "python",
     "metadata": {},
     "outputs": [
      {
       "output_type": "stream",
       "stream": "stdout",
       "text": [
        "\n",
        "MultiLineair regression\n",
        " 2.70124717104e-05 -6.79264182966e-05 -1.37920230088\n",
        "\n",
        "MultiLineair regression\n",
        "                             OLS Regression Results                            \n",
        "==============================================================================\n",
        "Dep. Variable:                      y   R-squared:                       0.057\n",
        "Model:                            OLS   Adj. R-squared:                 -0.651\n",
        "Method:                 Least Squares   F-statistic:                   0.08025\n",
        "Date:                Tue, 03 Dec 2013   Prob (F-statistic):              0.967\n",
        "Time:                        16:42:59   Log-Likelihood:                -44.106\n",
        "No. Observations:                   8   AIC:                             96.21\n",
        "Df Residuals:                       4   BIC:                             96.53\n",
        "Df Model:                           3                                         \n",
        "==============================================================================\n",
        "                 coef    std err          t      P>|t|      [95.0% Conf. Int.]\n",
        "------------------------------------------------------------------------------\n",
        "const        946.4151   2049.101      0.462      0.668     -4742.800  6635.631\n",
        "x1          2.701e-05      0.000      0.075      0.944        -0.001     0.001\n",
        "x2         -6.793e-05      0.001     -0.111      0.917        -0.002     0.002\n",
        "x3            -1.3792      3.591     -0.384      0.720       -11.349     8.590\n",
        "==============================================================================\n",
        "Omnibus:                       10.504   Durbin-Watson:                   1.930\n",
        "Prob(Omnibus):                  0.005   Jarque-Bera (JB):                3.422\n",
        "Skew:                          -1.446   Prob(JB):                        0.181\n",
        "Kurtosis:                       4.378   Cond. No.                     3.82e+08\n",
        "==============================================================================\n",
        "\n",
        "Warnings:\n",
        "[1] The condition number is large, 3.82e+08. This might indicate that there are\n",
        "strong multicollinearity or other numerical problems.\n"
       ]
      }
     ],
     "prompt_number": 327
    },
    {
     "cell_type": "code",
     "collapsed": false,
     "input": [
      "arr.shape"
     ],
     "language": "python",
     "metadata": {},
     "outputs": [
      {
       "metadata": {},
       "output_type": "pyout",
       "prompt_number": 563,
       "text": [
        "(4, 3)"
       ]
      }
     ],
     "prompt_number": 563
    },
    {
     "cell_type": "code",
     "collapsed": false,
     "input": [
      "arr = np.zeros([4,3])\n",
      "#print(arr,arr.shape)\n",
      "x_steps = np.arange(arr.shape[1]) * extent[1]\n",
      "y_steps = np.arange(arr.shape[0]) * extent[-1]\n",
      "\n",
      "x_coords = extent[0] + x_steps + extent[1]/2\n",
      "y_coords = extent[3] + y_steps + extent[-1]/2\n",
      "#print(x_coords,y_coords)\n",
      "\n",
      "cart = cartesian([x_coords, y_coords])\n",
      "cart_array = cart.reshape((arr.shape[1],arr.shape[0],2))\n",
      "for i in range(arr.shape[1]):\n",
      "    for j in range(arr.shape[0]):        \n",
      "        test(cart_array[i,j,0:2])\n",
      "#cart_coords = cart_array[0,0,0:2]"
     ],
     "language": "python",
     "metadata": {},
     "outputs": [
      {
       "output_type": "stream",
       "stream": "stdout",
       "text": [
        "[ 5532500.   804500.]\n",
        "[ 5532500.   799500.]\n",
        "[ 5532500.   794500.]\n",
        "[ 5532500.   789500.]\n",
        "[ 5537500.   804500.]\n",
        "[ 5537500.   799500.]\n",
        "[ 5537500.   794500.]\n",
        "[ 5537500.   789500.]\n",
        "[ 5542500.   804500.]\n",
        "[ 5542500.   799500.]\n",
        "[ 5542500.   794500.]\n",
        "[ 5542500.   789500.]\n"
       ]
      }
     ],
     "prompt_number": 572
    },
    {
     "cell_type": "code",
     "collapsed": false,
     "input": [
      "rasters"
     ],
     "language": "python",
     "metadata": {},
     "outputs": [
      {
       "ename": "NameError",
       "evalue": "name 'rasters' is not defined",
       "output_type": "pyerr",
       "traceback": [
        "\u001b[1;31m---------------------------------------------------------------------------\u001b[0m\n\u001b[1;31mNameError\u001b[0m                                 Traceback (most recent call last)",
        "\u001b[1;32m<ipython-input-573-70dba73b8043>\u001b[0m in \u001b[0;36m<module>\u001b[1;34m()\u001b[0m\n\u001b[1;32m----> 1\u001b[1;33m \u001b[0mrasters\u001b[0m\u001b[1;33m\u001b[0m\u001b[0m\n\u001b[0m",
        "\u001b[1;31mNameError\u001b[0m: name 'rasters' is not defined"
       ]
      }
     ],
     "prompt_number": 573
    },
    {
     "cell_type": "code",
     "collapsed": false,
     "input": [
      "tree_real = KDTree(df.ix[:,5:7], leafsize=11)"
     ],
     "language": "python",
     "metadata": {},
     "outputs": [],
     "prompt_number": 555
    },
    {
     "cell_type": "code",
     "collapsed": false,
     "input": [
      "def GIDS_UPDATE(xy_coord):\n",
      "    # Apply a KDTree search to select 8 nearest stations\n",
      "    dist_tree_real, ix_tree_real = tree.query(xy_coord, k=8, eps=0, p=1)    \n",
      "    df_sel = df.ix[ix_tree_real]\n",
      "    #print(df_sel)\n",
      "    \n",
      "    # Calculate the coefficients of a multi linear regression\n",
      "    M = np.vstack((np.ones(len(df_sel['POINT_X'])),df_sel['POINT_X'], df_sel['POINT_Y'],df_sel['Elev'])).T\n",
      "    b1,b2,b3 = np.linalg.lstsq(M,df_sel['TEMP'])[0][1:4]\n",
      "    #print(b1,b2,b3)\n",
      "    \n",
      "    # Return the interpolated value based on latitude, longitude and the elevation\n",
      "    return sum( (1/dist_tree_real)**2)**-1 * sum((df_sel['TEMP'] + (b1*(xy_coord[0] - df_sel['POINT_X'])) + \n",
      "                                                  (b2*(xy_coord[1]-df_sel['POINT_Y'])) + (b3*(dem[y,x]-df_sel['Elev']))) * \n",
      "                                                 (1/dist_tree_real)**2)"
     ],
     "language": "python",
     "metadata": {},
     "outputs": [],
     "prompt_number": 26
    },
    {
     "cell_type": "code",
     "collapsed": false,
     "input": [
      "%timeit GIDS_UPDATE(0,1)"
     ],
     "language": "python",
     "metadata": {},
     "outputs": [
      {
       "output_type": "stream",
       "stream": "stdout",
       "text": [
        "1000 loops, best of 3: 1.12 ms per loop\n"
       ]
      }
     ],
     "prompt_number": 562
    },
    {
     "cell_type": "code",
     "collapsed": false,
     "input": [
      "top =  sum( (1/dist_tree_real)**2)**-1\n",
      "long_f = b1*(cart_coords[0] - df_sel['POINT_X'])\n",
      "lat_f =  b2*(cart_coords[1]-df_sel['POINT_Y'])\n",
      "h_f =    b3*(dem[y,x]-df_sel['Elev'])\n",
      "middle = df_sel['TEMP'] + long_f + lat_f + h_f\n",
      "end = (1/dist_tree_real)**2\n",
      "comb = top * sum( middle * end )"
     ],
     "language": "python",
     "metadata": {},
     "outputs": [],
     "prompt_number": 548
    },
    {
     "cell_type": "code",
     "collapsed": false,
     "input": [
      "top =  sum( (1/dist_tree_real)**2)**-1\n",
      "long_f = sum( (1/dist_tree_real)**2)**-1 * sum((df_sel['TEMP'] + (b1*(cart_coords[0] - df_sel['POINT_X'])) + (b2*(cart_coords[1]-df_sel['POINT_Y'])) + (b3*(dem[y,x]-df_sel['Elev']))) * (1/dist_tree_real)**2)\n",
      "lat_f =  b2*(cart_coords[1]-df_sel['POINT_Y'])\n",
      "h_f =    b3*(dem[y,x]-df_sel['Elev'])\n",
      "middle = df_sel['TEMP'] + long_f + lat_f + h_f\n",
      "end = (1/dist_tree_real)**2\n",
      "comb = top * sum( middle * end )"
     ],
     "language": "python",
     "metadata": {},
     "outputs": [
      {
       "metadata": {},
       "output_type": "pyout",
       "prompt_number": 549,
       "text": [
        "976.62991514253247"
       ]
      }
     ],
     "prompt_number": 549
    },
    {
     "cell_type": "code",
     "collapsed": false,
     "input": [
      "long_f = sum( (1/dist_tree_real)**2)**-1 * sum((df_sel['TEMP'] + (b1*(cart_coords[0] - df_sel['POINT_X'])) + (b2*(cart_coords[1]-df_sel['POINT_Y'])) + (b3*(dem[y,x]-df_sel['Elev']))) * (1/dist_tree_real)**2)\n",
      "long_f"
     ],
     "language": "python",
     "metadata": {},
     "outputs": [
      {
       "metadata": {},
       "output_type": "pyout",
       "prompt_number": 551,
       "text": [
        "976.62991514253247"
       ]
      }
     ],
     "prompt_number": 551
    },
    {
     "cell_type": "code",
     "collapsed": false,
     "input": [
      "long_lat_stations = df_selection.as_matrix(columns=['POINT_X','POINT_Y']) \n",
      "                                 \n",
      "di = cdist(long_lat_stations, long_lat, 'euclidean') # Returns Eucleadian distance in meters between grid cell and selected weather-stations\n",
      "print ('\\nDistances\\n',di)"
     ],
     "language": "python",
     "metadata": {},
     "outputs": [
      {
       "output_type": "stream",
       "stream": "stdout",
       "text": [
        "\n",
        "Distances\n",
        " [[  33012.20343828]\n",
        " [  75179.69965391]\n",
        " [  77968.45860736]\n",
        " [  95399.81764694]\n",
        " [ 108895.40540134]\n",
        " [  95864.40073737]\n",
        " [ 107990.86396131]\n",
        " [ 168713.28859177]]\n"
       ]
      }
     ],
     "prompt_number": 501
    },
    {
     "cell_type": "code",
     "collapsed": false,
     "input": [
      "# prepare datasets as flattened numpy array or as single values\n",
      "Hi = df_selection.as_matrix(columns=['Elev']).flatten()\n",
      "Ti = df_selection.as_matrix(columns=[param]).flatten()\n",
      "\n",
      "di_ = di.flatten()\n",
      "long_lat_ = long_lat.flatten()\n",
      "Longi_ = df_selection.as_matrix(columns=['POINT_X',]).flatten()\n",
      "Lati_ = df_selection.as_matrix(columns=['POINT_Y',]).flatten()\n",
      "print ('\\nhi\\n',Hi)\n",
      "print ('\\nti\\n',Ti)\n",
      "print ('\\ndi\\n',di)\n",
      "print ('\\nlong_lat\\n',long_lat)\n",
      "print ('\\nlongi\\n',Longi_)\n",
      "print ('\\nlati\\n',Lati_)"
     ],
     "language": "python",
     "metadata": {},
     "outputs": [
      {
       "output_type": "stream",
       "stream": "stdout",
       "text": [
        "\n",
        "hi\n",
        " [ 21.9  22.7  27.5  27.    7.1  40.8  22.4  32.7]\n",
        "\n",
        "ti\n",
        " [ 1017.08333333   997.91666667   861.66666667  1044.58333333  1080.41666667\n",
        "  1052.91666667  1015.41666667   991.25      ]\n",
        "\n",
        "di\n",
        " [[  33012.20343828]\n",
        " [  75179.69965391]\n",
        " [  77968.45860736]\n",
        " [  95399.81764694]\n",
        " [ 108895.40540134]\n",
        " [  95864.40073737]\n",
        " [ 107990.86396131]\n",
        " [ 168713.28859177]]\n",
        "\n",
        "long_lat\n",
        " [[ 5532500.   804500.]]\n",
        "\n",
        "longi\n",
        " [ 5520034.362  5457530.285  5610450.193  5536086.025  5640418.801\n",
        "  5613587.998  5568138.333  5363809.711]\n",
        "\n",
        "lati\n",
        " [ 835068.177   798884.9245  806187.5867  709167.6045  789948.6527\n",
        "  855634.332   702559.1548  807285.7036]\n"
       ]
      }
     ],
     "prompt_number": 113
    },
    {
     "cell_type": "code",
     "collapsed": false,
     "input": [
      "# NO CHANGE\n",
      "top =    sum( (1/di_)**2 )**-1\n",
      "long_f = b1*(long_lat_[0]-Longi_)\n",
      "lat_f =  b2*(long_lat_[1]-Lati_)\n",
      "h_f =    b3*(dem_1-Hi)\n",
      "middle = Ti + long_f + lat_f + h_f\n",
      "end = (1/di_)**2 \n",
      "comb = top * sum( middle * end )\n",
      "print (comb)\n",
      "# NO CHANGE"
     ],
     "language": "python",
     "metadata": {},
     "outputs": [
      {
       "output_type": "stream",
       "stream": "stdout",
       "text": [
        "982.984176536\n"
       ]
      }
     ],
     "prompt_number": 115
    },
    {
     "cell_type": "code",
     "collapsed": false,
     "input": [
      "# NEW\n",
      "top =    sum( (1/di_)**2 )**-1\n",
      "long_f = b1*(long_lat_[0]-Longi_)\n",
      "lat_f =  b2*(long_lat_[1]-Lati_)\n",
      "h_f =    b3*(dem[y,x]-Hi)\n",
      "middle = Ti + long_f + lat_f + h_f\n",
      "end = (1/di_)**2 \n",
      "comb = top * sum( middle * end )\n",
      "print (comb)\n",
      "# NEW"
     ],
     "language": "python",
     "metadata": {},
     "outputs": []
    },
    {
     "cell_type": "code",
     "collapsed": false,
     "input": [
      "        dem_j = m_dem.shape[1]\n",
      "        dem_i = m_dem.shape[0]\n",
      "        for x in range(0,dem_j):\n",
      "            for y in range(0,dem_i):\n",
      "        #        print x, y, m_dem[y,x]\n",
      "                if m_dem[y,x] == 1:\n",
      "                    tp[x][y] = GIDS(x,y)\n",
      "                else:\n",
      "                    tp[x][y] = 32677        \n",
      "        \n",
      "#        for x in range(0,dem.shape[1],1):\n",
      "#            for y in range(0,dem.shape[0],1):\n",
      "#                tp[x][y] = GIDS(x,y)\n",
      "        tp = tp.T"
     ],
     "language": "python",
     "metadata": {},
     "outputs": []
    },
    {
     "cell_type": "code",
     "collapsed": false,
     "input": [
      "%timeit tree_out = KDTree(list(zip(Longscaled,Latscaled)), leafsize=11)"
     ],
     "language": "python",
     "metadata": {},
     "outputs": [
      {
       "output_type": "stream",
       "stream": "stdout",
       "text": [
        "100 loops, best of 3: 4.26 ms per loop\n"
       ]
      }
     ],
     "prompt_number": 51
    },
    {
     "cell_type": "code",
     "collapsed": false,
     "input": [
      "%timeit tree_in = KDTree(df.ix[:,7:9], leafsize=11)"
     ],
     "language": "python",
     "metadata": {},
     "outputs": [
      {
       "output_type": "stream",
       "stream": "stdout",
       "text": [
        "1000 loops, best of 3: 474 \u00b5s per loop\n"
       ]
      }
     ],
     "prompt_number": 93
    },
    {
     "cell_type": "code",
     "collapsed": false,
     "input": [
      "%timeit KDTree(df.loc[:,['Y_LAT', 'X_LON']], leafsize=11)"
     ],
     "language": "python",
     "metadata": {},
     "outputs": [
      {
       "output_type": "stream",
       "stream": "stdout",
       "text": [
        "1000 loops, best of 3: 715 \u00b5s per loop\n"
       ]
      }
     ],
     "prompt_number": 88
    },
    {
     "cell_type": "code",
     "collapsed": false,
     "input": [
      "%timeit KDTree(df.ix[:,[8,7]], leafsize=11)"
     ],
     "language": "python",
     "metadata": {},
     "outputs": [
      {
       "output_type": "stream",
       "stream": "stdout",
       "text": [
        "1000 loops, best of 3: 599 \u00b5s per loop\n"
       ]
      }
     ],
     "prompt_number": 87
    },
    {
     "cell_type": "code",
     "collapsed": false,
     "input": [
      "%timeit Longscaled = df.ix[:,7]\n",
      "#Latscaled = df.ix[:,8]\n",
      "#tree = KDTree(list(zip(Longscaled,Latscaled)), leafsize=11)"
     ],
     "language": "python",
     "metadata": {},
     "outputs": [
      {
       "output_type": "stream",
       "stream": "stdout",
       "text": [
        "10000 loops, best of 3: 74.3 \u00b5s per loop\n"
       ]
      }
     ],
     "prompt_number": 99
    },
    {
     "cell_type": "code",
     "collapsed": false,
     "input": [],
     "language": "python",
     "metadata": {},
     "outputs": []
    },
    {
     "cell_type": "code",
     "collapsed": false,
     "input": [
      "rsters = DEMfiles(folderDEM)\n",
      "masks = DEMfiles(folderMSK)\n",
      "#st_wmo = GSODfiles(folderGSOD)\n",
      "max_base = 0\n",
      "for rster in rsters:    \n",
      "    if len(rster) > max_base:\n",
      "        max_base = len(rster)\n",
      "max_one = max_base - 1\n",
      "max_two = max_base - 2\n",
      "\n",
      "#st_wmo = GSODfiles(folderGSOD)\n",
      "for rster in rsters:    \n",
      "    raster, dem, extent = inRaster(rster)    \n",
      "    for mask in masks:\n",
      "        if len(rster) == max_base and len(mask)==max_one:\n",
      "            if int(mask[-6:-4]) == int(rster[-6:-4]):\n",
      "                mskpth = mask                \n",
      "        elif len(rster) == max_one and len(mask)==max_two:\n",
      "            if int(mask[-5:-4]) == int(rster[-5:-4]):\n",
      "                mskpth = mask\n",
      "    m_raster, m_dem, m_extent = inRaster(mskpth)\n",
      "    #print raster.GetDescription()\n",
      "    #print m_raster.GetDescription()\n",
      "    #for date in date_all:\n",
      "    for i in rng:\n",
      "        \n",
      "        # read station file\n",
      "        df_stations = pd.read_csv(filestations)        \n",
      "        \n",
      "        df_stations['Y_LAT'] = (df_stations.POINT_Y-extent[3])/extent[5]\n",
      "        df_stations['X_LON'] = (df_stations.POINT_X-extent[0])/extent[1]\n",
      "        \n",
      "        #print '\\ndate of range\\n', i\n",
      "        data_left = df_selDay.ix[i]    \n",
      "        sel_merge = pd.merge(data_left, df_stations, on='Station', how='inner', )\n",
      "        #print '\\nInner merge on station and data frame\\n', sel_merge.head()\n",
      "        \n",
      "        #TEMP\n",
      "        df = sel_merge[pd.notnull(sel_merge['TEMP'])]\n",
      "        df.reset_index(drop=True, inplace=True)\n",
      "        \n",
      "        #df.TEMP =df.TEMP.astype(int)\n",
      "        #print '\\nDrop not null and reset index\\n', df.head()\n",
      "\n",
      "        Longscaled = df.ix[:,8]\n",
      "        #print '\\nlongscaled\\n', Longscaled\n",
      "        Latscaled = df.ix[:,7]\n",
      "        #print '\\nlatscaled\\n', Latscaled\n",
      "        tree = KDTree(zip(Longscaled,Latscaled), leafsize=11)\n",
      "    \n",
      "        tp = np.zeros([dem.shape[1],dem.shape[0]])\n",
      "        \n",
      "        #x = 0\n",
      "        #y = 0\n",
      "        #print GIDS(x,y)\n",
      "        dem_j = m_dem.shape[1]\n",
      "        dem_i = m_dem.shape[0]\n",
      "        for x in range(0,dem_j):\n",
      "            for y in range(0,dem_i):\n",
      "        #        print x, y, m_dem[y,x]\n",
      "                if m_dem[y,x] == 1:\n",
      "                    tp[x][y] = GIDS(x,y)\n",
      "                else:\n",
      "                    tp[x][y] = 32677        \n",
      "        \n",
      "#        for x in range(0,dem.shape[1],1):\n",
      "#            for y in range(0,dem.shape[0],1):\n",
      "#                tp[x][y] = GIDS(x,y)\n",
      "        tp = tp.T\n",
      "        \n",
      "        #save output as raster\n",
      "        if len(raster.GetDescription()) == max_base: # fixed code to check the length of the path\n",
      "            add = raster.GetDescription()[-6:-4]\n",
      "        else:\n",
      "            add = raster.GetDescription()[-5:-4]\n",
      "            \n",
      "        date = str(i.year)+str(i.month).zfill(2)+str(i.day).zfill(2)\n",
      "        outFilename = outFolder+prefix+str(date)+'_'+str(add.zfill(2))+'.tif'\n",
      "        print (outFilename)\n",
      "        \n",
      "        saveRaster(outFilename, tp)\n",
      "        outFilename = None\n",
      "        tp = None"
     ],
     "language": "python",
     "metadata": {},
     "outputs": [
      {
       "ename": "TypeError",
       "evalue": "float() argument must be a string or a number",
       "output_type": "pyerr",
       "traceback": [
        "\u001b[1;31m---------------------------------------------------------------------------\u001b[0m\n\u001b[1;31mTypeError\u001b[0m                                 Traceback (most recent call last)",
        "\u001b[1;32m<ipython-input-11-bf51f71d8afd>\u001b[0m in \u001b[0;36m<module>\u001b[1;34m()\u001b[0m\n\u001b[0;32m     47\u001b[0m         \u001b[0mLatscaled\u001b[0m \u001b[1;33m=\u001b[0m \u001b[0mdf\u001b[0m\u001b[1;33m.\u001b[0m\u001b[0mix\u001b[0m\u001b[1;33m[\u001b[0m\u001b[1;33m:\u001b[0m\u001b[1;33m,\u001b[0m\u001b[1;36m7\u001b[0m\u001b[1;33m]\u001b[0m\u001b[1;33m\u001b[0m\u001b[0m\n\u001b[0;32m     48\u001b[0m         \u001b[1;31m#print '\\nlatscaled\\n', Latscaled\u001b[0m\u001b[1;33m\u001b[0m\u001b[1;33m\u001b[0m\u001b[0m\n\u001b[1;32m---> 49\u001b[1;33m         \u001b[0mtree\u001b[0m \u001b[1;33m=\u001b[0m \u001b[0mKDTree\u001b[0m\u001b[1;33m(\u001b[0m\u001b[0mzip\u001b[0m\u001b[1;33m(\u001b[0m\u001b[0mLongscaled\u001b[0m\u001b[1;33m,\u001b[0m\u001b[0mLatscaled\u001b[0m\u001b[1;33m)\u001b[0m\u001b[1;33m,\u001b[0m \u001b[0mleafsize\u001b[0m\u001b[1;33m=\u001b[0m\u001b[1;36m11\u001b[0m\u001b[1;33m)\u001b[0m\u001b[1;33m\u001b[0m\u001b[0m\n\u001b[0m\u001b[0;32m     50\u001b[0m \u001b[1;33m\u001b[0m\u001b[0m\n\u001b[0;32m     51\u001b[0m         \u001b[0mtp\u001b[0m \u001b[1;33m=\u001b[0m \u001b[0mnp\u001b[0m\u001b[1;33m.\u001b[0m\u001b[0mzeros\u001b[0m\u001b[1;33m(\u001b[0m\u001b[1;33m[\u001b[0m\u001b[0mdem\u001b[0m\u001b[1;33m.\u001b[0m\u001b[0mshape\u001b[0m\u001b[1;33m[\u001b[0m\u001b[1;36m1\u001b[0m\u001b[1;33m]\u001b[0m\u001b[1;33m,\u001b[0m\u001b[0mdem\u001b[0m\u001b[1;33m.\u001b[0m\u001b[0mshape\u001b[0m\u001b[1;33m[\u001b[0m\u001b[1;36m0\u001b[0m\u001b[1;33m]\u001b[0m\u001b[1;33m]\u001b[0m\u001b[1;33m)\u001b[0m\u001b[1;33m\u001b[0m\u001b[0m\n",
        "\u001b[1;32mC:\\Python33\\lib\\site-packages\\scipy\\spatial\\ckdtree.pyd\u001b[0m in \u001b[0;36mscipy.spatial.ckdtree.cKDTree.__init__ (scipy\\spatial\\ckdtree.c:7102)\u001b[1;34m()\u001b[0m\n",
        "\u001b[1;32mC:\\Python33\\lib\\site-packages\\numpy\\core\\numeric.py\u001b[0m in \u001b[0;36mascontiguousarray\u001b[1;34m(a, dtype)\u001b[0m\n\u001b[0;32m    407\u001b[0m \u001b[1;33m\u001b[0m\u001b[0m\n\u001b[0;32m    408\u001b[0m     \"\"\"\n\u001b[1;32m--> 409\u001b[1;33m     \u001b[1;32mreturn\u001b[0m \u001b[0marray\u001b[0m\u001b[1;33m(\u001b[0m\u001b[0ma\u001b[0m\u001b[1;33m,\u001b[0m \u001b[0mdtype\u001b[0m\u001b[1;33m,\u001b[0m \u001b[0mcopy\u001b[0m\u001b[1;33m=\u001b[0m\u001b[1;32mFalse\u001b[0m\u001b[1;33m,\u001b[0m \u001b[0morder\u001b[0m\u001b[1;33m=\u001b[0m\u001b[1;34m'C'\u001b[0m\u001b[1;33m,\u001b[0m \u001b[0mndmin\u001b[0m\u001b[1;33m=\u001b[0m\u001b[1;36m1\u001b[0m\u001b[1;33m)\u001b[0m\u001b[1;33m\u001b[0m\u001b[0m\n\u001b[0m\u001b[0;32m    410\u001b[0m \u001b[1;33m\u001b[0m\u001b[0m\n\u001b[0;32m    411\u001b[0m \u001b[1;32mdef\u001b[0m \u001b[0masfortranarray\u001b[0m\u001b[1;33m(\u001b[0m\u001b[0ma\u001b[0m\u001b[1;33m,\u001b[0m \u001b[0mdtype\u001b[0m\u001b[1;33m=\u001b[0m\u001b[1;32mNone\u001b[0m\u001b[1;33m)\u001b[0m\u001b[1;33m:\u001b[0m\u001b[1;33m\u001b[0m\u001b[0m\n",
        "\u001b[1;31mTypeError\u001b[0m: float() argument must be a string or a number"
       ]
      }
     ],
     "prompt_number": 11
    },
    {
     "cell_type": "code",
     "collapsed": false,
     "input": [],
     "language": "python",
     "metadata": {},
     "outputs": []
    }
   ],
   "metadata": {}
  }
 ]
}